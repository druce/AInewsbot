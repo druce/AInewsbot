{
 "cells": [
  {
   "cell_type": "markdown",
   "id": "0003fc70-614a-45fe-824d-d95957d13b19",
   "metadata": {},
   "source": [
    "# Stock Market Question Answering Agent\n",
    "\n",
    "- answer questions about individual stocks using (mostly) OpenBB functions\n",
    "- uses the OpenAPI tools functionality\n",
    "- define a set of functions\n",
    "- when prompting, give OpenAI the set of functions and their descriptions in a specified format\n",
    "- if OpenAI needs to run a function to respond to the prompt, it will provide the function signature and ask you to provide the return values before continuing\n",
    "  "
   ]
  },
  {
   "cell_type": "code",
   "execution_count": 1,
   "id": "20d61f1a-b6e0-4c72-9eee-5c3c84db5718",
   "metadata": {},
   "outputs": [],
   "source": [
    "import os\n",
    "import sys\n",
    "import dotenv\n",
    "import warnings\n",
    "from datetime import datetime, timedelta\n",
    "import re\n",
    "\n",
    "import pandas as pd\n",
    "\n",
    "import IPython\n",
    "from IPython.display import HTML, Image, Markdown, display\n",
    "\n",
    "import selenium\n",
    "from selenium import webdriver\n",
    "from selenium.webdriver.common.by import By\n",
    "# use firefox because it updates less often, can disable updates\n",
    "# recommend importing profile from Chrome for cookies, passwords\n",
    "# looks less like a bot with more user cruft in the profile\n",
    "from selenium.webdriver.firefox.options import Options\n",
    "from selenium.webdriver.firefox.service import Service\n",
    "\n",
    "import base64\n",
    "import requests\n",
    "import json\n",
    "\n",
    "import openbb\n",
    "from openbb import obb\n",
    "from openbb_core.app.model.obbject import OBBject\n",
    "\n",
    "import openai\n",
    "from openai import OpenAI\n",
    "import tiktoken\n",
    "\n",
    "import langchain\n",
    "from langchain.tools import WikipediaQueryRun\n",
    "from langchain_community.utilities import WikipediaAPIWrapper\n",
    "\n",
    "import wikipedia\n",
    "\n",
    "# paid API for edgar filings\n",
    "import sec_api\n",
    "from sec_api import QueryApi, ExtractorApi\n",
    "\n",
    "# free API for edgar filing\n",
    "from sec_downloader import Downloader\n",
    "import sec_parser as sp\n",
    "\n",
    "import pdb\n",
    "\n",
    "dotenv.load_dotenv()\n",
    "\n",
    "# turn off excessive warnings\n",
    "warnings.filterwarnings('ignore')\n"
   ]
  },
  {
   "cell_type": "code",
   "execution_count": 2,
   "id": "c31a6c57-1332-44df-bb86-2784cf909419",
   "metadata": {},
   "outputs": [
    {
     "name": "stdout",
     "output_type": "stream",
     "text": [
      "pandas         2.2.2\n",
      "obb            4.1.7\n",
      "selenium       4.20.0\n",
      "openai         1.28.0\n",
      "langchain      0.1.20\n",
      "wikipedia      (1, 4, 0)\n"
     ]
    }
   ],
   "source": [
    "print(f'pandas         {pd.__version__}')\n",
    "print(f'obb            {obb.system.version}')\n",
    "print(f'selenium       {selenium.__version__}')\n",
    "print(f'openai         {openai.__version__}')\n",
    "print(f'langchain      {langchain.__version__}')\n",
    "print(f'wikipedia      {wikipedia.__version__}')\n"
   ]
  },
  {
   "cell_type": "markdown",
   "id": "7ad6849a-72da-4d7d-8ae6-5b9bae8c80e2",
   "metadata": {},
   "source": [
    "# Connect to OpenBB"
   ]
  },
  {
   "cell_type": "code",
   "execution_count": 3,
   "id": "aeda3328-5535-4a8c-ba87-40615511f4a3",
   "metadata": {},
   "outputs": [
    {
     "data": {
      "text/plain": [
       "OpenBB Platform v4.1.7\n",
       "\n",
       "Utilities:\n",
       "    /account\n",
       "    /user\n",
       "    /system\n",
       "    /coverage\n",
       "\n",
       "Routers:\n",
       "    /commodity\n",
       "    /crypto\n",
       "    /currency\n",
       "    /derivatives\n",
       "    /econometrics\n",
       "    /economy\n",
       "    /equity\n",
       "    /etf\n",
       "    /fixedincome\n",
       "    /index\n",
       "    /news\n",
       "    /quantitative\n",
       "    /regulators\n",
       "    /technical\n",
       "\n",
       "Extensions:\n",
       "    - commodity@1.0.4\n",
       "    - crypto@1.1.5\n",
       "    - currency@1.1.5\n",
       "    - derivatives@1.1.5\n",
       "    - econometrics@1.1.5\n",
       "    - economy@1.1.5\n",
       "    - equity@1.1.5\n",
       "    - etf@1.1.5\n",
       "    - fixedincome@1.1.5\n",
       "    - index@1.1.5\n",
       "    - news@1.1.5\n",
       "    - quantitative@1.1.5\n",
       "    - regulators@1.1.5\n",
       "    - technical@1.1.6\n",
       "\n",
       "    - alpha_vantage@1.1.5\n",
       "    - benzinga@1.1.5\n",
       "    - biztoc@1.1.5\n",
       "    - cboe@1.1.5\n",
       "    - ecb@1.1.5\n",
       "    - federal_reserve@1.1.5\n",
       "    - finra@1.1.5\n",
       "    - finviz@1.0.4\n",
       "    - fmp@1.1.5\n",
       "    - fred@1.1.5\n",
       "    - government_us@1.1.5\n",
       "    - intrinio@1.1.5\n",
       "    - nasdaq@1.1.6\n",
       "    - oecd@1.1.5\n",
       "    - polygon@1.1.5\n",
       "    - sec@1.1.5\n",
       "    - seeking_alpha@1.1.5\n",
       "    - stockgrid@1.1.5\n",
       "    - tiingo@1.1.5\n",
       "    - tmx@1.0.2\n",
       "    - tradier@1.0.2\n",
       "    - tradingeconomics@1.1.5\n",
       "    - wsj@1.1.5\n",
       "    - yfinance@1.1.5    "
      ]
     },
     "execution_count": 3,
     "metadata": {},
     "output_type": "execute_result"
    }
   ],
   "source": [
    "obb"
   ]
  },
  {
   "cell_type": "code",
   "execution_count": 4,
   "id": "f1d91d67-55a5-48fd-91ed-e4cdc5f03ec5",
   "metadata": {},
   "outputs": [],
   "source": [
    "# login with email and password\n",
    "obb.account.login(email=os.environ['OPENBB_USER'], password=os.environ['OPENBB_PW'], remember_me=True)"
   ]
  },
  {
   "cell_type": "code",
   "execution_count": 5,
   "id": "81222526-77e2-4996-a7a1-b79dca56586b",
   "metadata": {},
   "outputs": [
    {
     "data": {
      "text/plain": [
       "UserSettings\n",
       "\n",
       "id: 06642cc4-d6de-7a78-8000-0681e68a9e66\n",
       "profile: {'hub_session': {'username': 'drucev', 'email': 'drucev@hotmail.com', 'primary_usage': 'personal', 'user_uuid': 'c866b4d2-c09b-4b13-abb7-a93f1ac3c2b7', 'token_type': 'bearer', 'access_token': SecretStr('**********')}}\n",
       "credentials: {'benzinga_api_key': None, 'alpha_vantage_api_key': SecretStr('**********'), 'tradier_api_key': None, 'intrinio_api_key': None, 'tiingo_token': SecretStr('**********'), 'fred_api_key': SecretStr('**********'), 'biztoc_api_key': SecretStr('**********'), 'tradier_account_type': None, 'nasdaq_api_key': None, 'polygon_api_key': SecretStr('**********'), 'tradingeconomics_api_key': None, 'fmp_api_key': SecretStr('**********')}\n",
       "preferences: {'cache_directory': '/Users/drucev/OpenBBUserData/cache', 'chart_style': 'dark', 'data_directory': '/Users/drucev/OpenBBUserData', 'export_directory': '/Users/drucev/OpenBBUserData/exports', 'metadata': True, 'output_type': 'OBBject', 'plot_enable_pywry': True, 'plot_open_export': False, 'plot_pywry_height': 762, 'plot_pywry_width': 1400, 'request_timeout': 15, 'show_warnings': True, 'table_style': 'dark', 'user_styles_directory': '/Users/drucev/OpenBBUserData/styles/user'}\n",
       "defaults: {'routes': {}}"
      ]
     },
     "execution_count": 5,
     "metadata": {},
     "output_type": "execute_result"
    }
   ],
   "source": [
    "obb.user"
   ]
  },
  {
   "cell_type": "code",
   "execution_count": 6,
   "id": "bf8476a6-1106-4e5b-9efa-229547f11097",
   "metadata": {},
   "outputs": [
    {
     "data": {
      "text/plain": [
       "/account\n",
       "    login\n",
       "    logout\n",
       "    save\n",
       "    refresh\n",
       "    "
      ]
     },
     "execution_count": 6,
     "metadata": {},
     "output_type": "execute_result"
    }
   ],
   "source": [
    "obb.account"
   ]
  },
  {
   "cell_type": "code",
   "execution_count": 7,
   "id": "edfe7554-a603-4cd8-bea0-1a79882cfbd0",
   "metadata": {},
   "outputs": [],
   "source": [
    "# Change a credential - only need once, gets stored in openbb cloud\n",
    "# obb.user.credentials.polygon_api_key = os.environ['POLYGON_API_KEY']\n",
    "# obb.user.credentials.alpha_vantage_api_key = os.environ['ALPHAVANTAGE_API_KEY']\n",
    "# obb.user.credentials.fred_api_key = os.environ['FRED_API_KEY']\n",
    "# obb.user.credentials.tiingo_token = os.environ['TIINGO_API_KEY']\n",
    "# obb.user.credentials.fmp_api_key = os.environ['FMP_API_KEY']\n",
    "# obb.user.credentials.biztoc_api_key = os.environ['BIZTOC_API_KEY']\n",
    "\n",
    "# Save account changes to the Hub\n",
    "# obb.account.save()\n",
    "\n",
    "# Refresh account with latest changes since login\n",
    "# obb.account.refresh()\n",
    "\n",
    "# Logout\n",
    "# obb.account.logout()"
   ]
  },
  {
   "cell_type": "code",
   "execution_count": 8,
   "id": "b239e060-fe40-418b-8838-7695c56a9829",
   "metadata": {},
   "outputs": [
    {
     "data": {
      "text/plain": [
       "/equity\n",
       "    /calendar\n",
       "    /compare\n",
       "    /darkpool\n",
       "    /discovery\n",
       "    /estimates\n",
       "    /fundamental\n",
       "    market_snapshots\n",
       "    /ownership\n",
       "    /price\n",
       "    profile\n",
       "    screener\n",
       "    search\n",
       "    /shorts\n",
       "    "
      ]
     },
     "execution_count": 8,
     "metadata": {},
     "output_type": "execute_result"
    }
   ],
   "source": [
    "obb.equity"
   ]
  },
  {
   "cell_type": "code",
   "execution_count": 9,
   "id": "920317cd-0446-4c79-963b-c999083e5111",
   "metadata": {},
   "outputs": [
    {
     "data": {
      "text/html": [
       "<div>\n",
       "<style scoped>\n",
       "    .dataframe tbody tr th:only-of-type {\n",
       "        vertical-align: middle;\n",
       "    }\n",
       "\n",
       "    .dataframe tbody tr th {\n",
       "        vertical-align: top;\n",
       "    }\n",
       "\n",
       "    .dataframe thead th {\n",
       "        text-align: right;\n",
       "    }\n",
       "</style>\n",
       "<table border=\"1\" class=\"dataframe\">\n",
       "  <thead>\n",
       "    <tr style=\"text-align: right;\">\n",
       "      <th></th>\n",
       "      <th>symbol</th>\n",
       "      <th>name</th>\n",
       "      <th>nasdaq_traded</th>\n",
       "      <th>exchange</th>\n",
       "      <th>etf</th>\n",
       "      <th>round_lot_size</th>\n",
       "      <th>test_issue</th>\n",
       "      <th>cqs_symbol</th>\n",
       "      <th>nasdaq_symbol</th>\n",
       "      <th>next_shares</th>\n",
       "    </tr>\n",
       "  </thead>\n",
       "  <tbody>\n",
       "    <tr>\n",
       "      <th>0</th>\n",
       "      <td>MRK</td>\n",
       "      <td>Merck &amp; Company, Inc. Common Stock (new)</td>\n",
       "      <td>Y</td>\n",
       "      <td>N</td>\n",
       "      <td>N</td>\n",
       "      <td>100.0</td>\n",
       "      <td>N</td>\n",
       "      <td>MRK</td>\n",
       "      <td>MRK</td>\n",
       "      <td>N</td>\n",
       "    </tr>\n",
       "  </tbody>\n",
       "</table>\n",
       "</div>"
      ],
      "text/plain": [
       "  symbol                                      name nasdaq_traded exchange etf  \\\n",
       "0    MRK  Merck & Company, Inc. Common Stock (new)             Y        N   N   \n",
       "\n",
       "   round_lot_size test_issue cqs_symbol nasdaq_symbol next_shares  \n",
       "0           100.0          N        MRK           MRK           N  "
      ]
     },
     "execution_count": 9,
     "metadata": {},
     "output_type": "execute_result"
    }
   ],
   "source": [
    "obb.equity.search(\"Merck\", provider=\"nasdaq\").to_df().head(3)\n"
   ]
  },
  {
   "cell_type": "code",
   "execution_count": 10,
   "id": "9f5d7165-664e-4bdd-81e0-f06463c6aaab",
   "metadata": {},
   "outputs": [],
   "source": [
    "symbol = \"MRK\"\n",
    "company = \"Merck\""
   ]
  },
  {
   "cell_type": "code",
   "execution_count": 11,
   "id": "a8122ebf-b557-485f-90b0-ff23e0783a6e",
   "metadata": {},
   "outputs": [
    {
     "data": {
      "text/plain": [
       "OBBject\n",
       "\n",
       "id: 06642cc5-64ec-7386-8000-f3c5ed6b4487\n",
       "results: [{'symbol': 'MRK', 'one_day': -0.0059, 'wtd': None, 'one_week': 0.01350000...\n",
       "provider: finviz\n",
       "warnings: None\n",
       "chart: None\n",
       "extra: {'metadata': {'arguments': {'provider_choices': {'provider': 'finviz'}, 'sta..."
      ]
     },
     "execution_count": 11,
     "metadata": {},
     "output_type": "execute_result"
    }
   ],
   "source": [
    "obj = obb.equity.price.performance(symbol)\n",
    "obj\n"
   ]
  },
  {
   "cell_type": "code",
   "execution_count": 12,
   "id": "b6d0e188-a4fc-4924-95ad-b1c980b6eaf8",
   "metadata": {},
   "outputs": [
    {
     "data": {
      "text/plain": [
       "[FinvizPricePerformanceData(symbol=MRK, one_day=-0.0059, wtd=None, one_week=0.013500000000000002, mtd=None, one_month=0.0282, qtd=None, three_month=0.0315, six_month=0.26280000000000003, ytd=0.1859, one_year=0.0999, two_year=None, three_year=None, four_year=None, five_year=None, ten_year=None, max=None, volatility_week=0.0151, volatility_month=0.0147, price=129.29, volume=7053092.0, average_volume=8170000.0, relative_volume=0.86, analyst_recommendation=None, analyst_score=1.48)]"
      ]
     },
     "execution_count": 12,
     "metadata": {},
     "output_type": "execute_result"
    }
   ],
   "source": [
    "obj.results\n"
   ]
  },
  {
   "cell_type": "code",
   "execution_count": 13,
   "id": "90820eee-5f18-4b97-b133-28343c3b76f3",
   "metadata": {},
   "outputs": [
    {
     "data": {
      "text/plain": [
       "{'id': '06642cc5-64ec-7386-8000-f3c5ed6b4487',\n",
       " 'results': [{'symbol': 'MRK',\n",
       "   'one_day': -0.0059,\n",
       "   'wtd': None,\n",
       "   'one_week': 0.013500000000000002,\n",
       "   'mtd': None,\n",
       "   'one_month': 0.0282,\n",
       "   'qtd': None,\n",
       "   'three_month': 0.0315,\n",
       "   'six_month': 0.26280000000000003,\n",
       "   'ytd': 0.1859,\n",
       "   'one_year': 0.0999,\n",
       "   'two_year': None,\n",
       "   'three_year': None,\n",
       "   'four_year': None,\n",
       "   'five_year': None,\n",
       "   'ten_year': None,\n",
       "   'max': None,\n",
       "   'volatility_week': 0.0151,\n",
       "   'volatility_month': 0.0147,\n",
       "   'price': 129.29,\n",
       "   'volume': 7053092.0,\n",
       "   'average_volume': 8170000.0,\n",
       "   'relative_volume': 0.86,\n",
       "   'analyst_recommendation': None,\n",
       "   'analyst_score': 1.48}],\n",
       " 'provider': 'finviz',\n",
       " 'warnings': None,\n",
       " 'chart': None,\n",
       " 'extra': {'metadata': {'arguments': {'provider_choices': {'provider': 'finviz'},\n",
       "    'standard_params': {'symbol': 'MRK'},\n",
       "    'extra_params': {}},\n",
       "   'duration': 220496958,\n",
       "   'route': '/equity/price/performance',\n",
       "   'timestamp': datetime.datetime(2024, 5, 13, 22, 28, 38, 87832)}}}"
      ]
     },
     "execution_count": 13,
     "metadata": {},
     "output_type": "execute_result"
    }
   ],
   "source": [
    "obj.dict()\n"
   ]
  },
  {
   "cell_type": "code",
   "execution_count": 14,
   "id": "f7052541-943b-4fd6-933a-eb8e1e7084af",
   "metadata": {},
   "outputs": [
    {
     "data": {
      "text/plain": [
       "{'results': [{'symbol': 'MRK',\n",
       "   'asset_type': 'EQUITY',\n",
       "   'name': 'Merck & Co., Inc.',\n",
       "   'exchange': 'NYQ',\n",
       "   'bid': 128.51,\n",
       "   'bid_size': 800,\n",
       "   'ask': 129.25,\n",
       "   'ask_size': 800,\n",
       "   'last_price': 129.29,\n",
       "   'open': 129.51,\n",
       "   'high': 129.71,\n",
       "   'low': 128.02,\n",
       "   'volume': 7053004,\n",
       "   'prev_close': 130.06,\n",
       "   'year_high': 133.1,\n",
       "   'year_low': 99.14,\n",
       "   'ma_50d': 126.5478,\n",
       "   'ma_200d': 114.32535,\n",
       "   'volume_average': 8238929.0,\n",
       "   'volume_average_10d': 6842750.0,\n",
       "   'currency': 'USD'}],\n",
       " 'provider': 'yfinance',\n",
       " 'warnings': None,\n",
       " 'chart': None,\n",
       " 'extra': {'metadata': {'arguments': {'provider_choices': {'provider': 'yfinance'},\n",
       "    'standard_params': {'symbol': 'MRK'},\n",
       "    'extra_params': {'use_cache': True, 'source': 'iex'}},\n",
       "   'duration': 332008292,\n",
       "   'route': '/equity/price/quote',\n",
       "   'timestamp': '2024-05-13T22:28:41.932510'}}}"
      ]
     },
     "execution_count": 14,
     "metadata": {},
     "output_type": "execute_result"
    }
   ],
   "source": [
    "# use REST API on server running locally\n",
    "# uvicorn openbb_core.api.rest_api:app --host 0.0.0.0 --port 8000 --reload\n",
    "# REST API documentation - http://127.0.0.1:8000/docs\n",
    "# openapi.json : http://127.0.0.1:8000/openapi.json\n",
    "\n",
    "# not turning on authentication\n",
    "# msg = \"some_user:some_pass\"\n",
    "# msg_bytes = msg.encode('ascii')\n",
    "# base64_bytes = base64.b64encode(msg_bytes)\n",
    "# base64_msg = base64_bytes.decode('ascii')\n",
    "\n",
    "url = f\"http://127.0.0.1:8000/api/v1/equity/price/quote?provider=yfinance&symbol={symbol}\"\n",
    "# headers = {\"accept\": \"application/json\", \"Authorization\": f\"Basic {base64_msg}\"}\n",
    "headers = {\"accept\": \"application/json\"}\n",
    "\n",
    "response = requests.get(url=url, headers=headers)\n",
    "\n",
    "response.json()\n"
   ]
  },
  {
   "cell_type": "code",
   "execution_count": 15,
   "id": "a2f4d73b-c652-4995-8f69-0e1541f9a8ac",
   "metadata": {},
   "outputs": [
    {
     "data": {
      "text/html": [
       "<div>\n",
       "<style scoped>\n",
       "    .dataframe tbody tr th:only-of-type {\n",
       "        vertical-align: middle;\n",
       "    }\n",
       "\n",
       "    .dataframe tbody tr th {\n",
       "        vertical-align: top;\n",
       "    }\n",
       "\n",
       "    .dataframe thead th {\n",
       "        text-align: right;\n",
       "    }\n",
       "</style>\n",
       "<table border=\"1\" class=\"dataframe\">\n",
       "  <thead>\n",
       "    <tr style=\"text-align: right;\">\n",
       "      <th></th>\n",
       "      <th>open</th>\n",
       "      <th>high</th>\n",
       "      <th>low</th>\n",
       "      <th>close</th>\n",
       "      <th>volume</th>\n",
       "      <th>vwap</th>\n",
       "      <th>transactions</th>\n",
       "    </tr>\n",
       "    <tr>\n",
       "      <th>date</th>\n",
       "      <th></th>\n",
       "      <th></th>\n",
       "      <th></th>\n",
       "      <th></th>\n",
       "      <th></th>\n",
       "      <th></th>\n",
       "      <th></th>\n",
       "    </tr>\n",
       "  </thead>\n",
       "  <tbody>\n",
       "    <tr>\n",
       "      <th>2023-05-15</th>\n",
       "      <td>117.14</td>\n",
       "      <td>117.740</td>\n",
       "      <td>115.49</td>\n",
       "      <td>116.37</td>\n",
       "      <td>5697236.0</td>\n",
       "      <td>116.3517</td>\n",
       "      <td>70438</td>\n",
       "    </tr>\n",
       "    <tr>\n",
       "      <th>2023-05-16</th>\n",
       "      <td>115.88</td>\n",
       "      <td>116.760</td>\n",
       "      <td>115.29</td>\n",
       "      <td>116.08</td>\n",
       "      <td>4278281.0</td>\n",
       "      <td>116.2071</td>\n",
       "      <td>60730</td>\n",
       "    </tr>\n",
       "    <tr>\n",
       "      <th>2023-05-17</th>\n",
       "      <td>116.37</td>\n",
       "      <td>116.655</td>\n",
       "      <td>113.48</td>\n",
       "      <td>114.76</td>\n",
       "      <td>7210383.0</td>\n",
       "      <td>114.5498</td>\n",
       "      <td>78904</td>\n",
       "    </tr>\n",
       "    <tr>\n",
       "      <th>2023-05-18</th>\n",
       "      <td>114.14</td>\n",
       "      <td>115.070</td>\n",
       "      <td>113.33</td>\n",
       "      <td>114.00</td>\n",
       "      <td>6437144.0</td>\n",
       "      <td>114.0864</td>\n",
       "      <td>75952</td>\n",
       "    </tr>\n",
       "    <tr>\n",
       "      <th>2023-05-19</th>\n",
       "      <td>114.33</td>\n",
       "      <td>116.240</td>\n",
       "      <td>114.10</td>\n",
       "      <td>115.49</td>\n",
       "      <td>7647080.0</td>\n",
       "      <td>115.4905</td>\n",
       "      <td>63052</td>\n",
       "    </tr>\n",
       "    <tr>\n",
       "      <th>...</th>\n",
       "      <td>...</td>\n",
       "      <td>...</td>\n",
       "      <td>...</td>\n",
       "      <td>...</td>\n",
       "      <td>...</td>\n",
       "      <td>...</td>\n",
       "      <td>...</td>\n",
       "    </tr>\n",
       "    <tr>\n",
       "      <th>2024-05-06</th>\n",
       "      <td>127.18</td>\n",
       "      <td>127.730</td>\n",
       "      <td>126.76</td>\n",
       "      <td>127.57</td>\n",
       "      <td>6419935.0</td>\n",
       "      <td>127.4189</td>\n",
       "      <td>80172</td>\n",
       "    </tr>\n",
       "    <tr>\n",
       "      <th>2024-05-07</th>\n",
       "      <td>127.10</td>\n",
       "      <td>130.425</td>\n",
       "      <td>127.07</td>\n",
       "      <td>130.38</td>\n",
       "      <td>6415640.0</td>\n",
       "      <td>129.3458</td>\n",
       "      <td>87045</td>\n",
       "    </tr>\n",
       "    <tr>\n",
       "      <th>2024-05-08</th>\n",
       "      <td>130.58</td>\n",
       "      <td>131.510</td>\n",
       "      <td>129.33</td>\n",
       "      <td>129.55</td>\n",
       "      <td>6580073.0</td>\n",
       "      <td>129.7913</td>\n",
       "      <td>74021</td>\n",
       "    </tr>\n",
       "    <tr>\n",
       "      <th>2024-05-09</th>\n",
       "      <td>128.94</td>\n",
       "      <td>130.500</td>\n",
       "      <td>128.94</td>\n",
       "      <td>130.23</td>\n",
       "      <td>9038061.0</td>\n",
       "      <td>129.9542</td>\n",
       "      <td>70936</td>\n",
       "    </tr>\n",
       "    <tr>\n",
       "      <th>2024-05-10</th>\n",
       "      <td>130.82</td>\n",
       "      <td>130.880</td>\n",
       "      <td>129.95</td>\n",
       "      <td>130.06</td>\n",
       "      <td>5540149.0</td>\n",
       "      <td>130.3223</td>\n",
       "      <td>73151</td>\n",
       "    </tr>\n",
       "  </tbody>\n",
       "</table>\n",
       "<p>250 rows × 7 columns</p>\n",
       "</div>"
      ],
      "text/plain": [
       "              open     high     low   close     volume      vwap  transactions\n",
       "date                                                                          \n",
       "2023-05-15  117.14  117.740  115.49  116.37  5697236.0  116.3517         70438\n",
       "2023-05-16  115.88  116.760  115.29  116.08  4278281.0  116.2071         60730\n",
       "2023-05-17  116.37  116.655  113.48  114.76  7210383.0  114.5498         78904\n",
       "2023-05-18  114.14  115.070  113.33  114.00  6437144.0  114.0864         75952\n",
       "2023-05-19  114.33  116.240  114.10  115.49  7647080.0  115.4905         63052\n",
       "...            ...      ...     ...     ...        ...       ...           ...\n",
       "2024-05-06  127.18  127.730  126.76  127.57  6419935.0  127.4189         80172\n",
       "2024-05-07  127.10  130.425  127.07  130.38  6415640.0  129.3458         87045\n",
       "2024-05-08  130.58  131.510  129.33  129.55  6580073.0  129.7913         74021\n",
       "2024-05-09  128.94  130.500  128.94  130.23  9038061.0  129.9542         70936\n",
       "2024-05-10  130.82  130.880  129.95  130.06  5540149.0  130.3223         73151\n",
       "\n",
       "[250 rows x 7 columns]"
      ]
     },
     "execution_count": 15,
     "metadata": {},
     "output_type": "execute_result"
    }
   ],
   "source": [
    "data = obb.equity.price.historical(symbol, provider=\"polygon\")\n",
    "data.to_dataframe()\n"
   ]
  },
  {
   "cell_type": "code",
   "execution_count": 16,
   "id": "fca0d125-d820-4175-8853-576d2eba36e7",
   "metadata": {},
   "outputs": [
    {
     "data": {
      "text/html": [
       "<div>\n",
       "<style scoped>\n",
       "    .dataframe tbody tr th:only-of-type {\n",
       "        vertical-align: middle;\n",
       "    }\n",
       "\n",
       "    .dataframe tbody tr th {\n",
       "        vertical-align: top;\n",
       "    }\n",
       "\n",
       "    .dataframe thead th {\n",
       "        text-align: right;\n",
       "    }\n",
       "</style>\n",
       "<table border=\"1\" class=\"dataframe\">\n",
       "  <thead>\n",
       "    <tr style=\"text-align: right;\">\n",
       "      <th></th>\n",
       "      <th>close</th>\n",
       "      <th>high</th>\n",
       "      <th>low</th>\n",
       "      <th>open</th>\n",
       "      <th>transactions</th>\n",
       "      <th>volume</th>\n",
       "      <th>vwap</th>\n",
       "    </tr>\n",
       "    <tr>\n",
       "      <th>date</th>\n",
       "      <th></th>\n",
       "      <th></th>\n",
       "      <th></th>\n",
       "      <th></th>\n",
       "      <th></th>\n",
       "      <th></th>\n",
       "      <th></th>\n",
       "    </tr>\n",
       "  </thead>\n",
       "  <tbody>\n",
       "    <tr>\n",
       "      <th>2023-05-15</th>\n",
       "      <td>413.01</td>\n",
       "      <td>413.4300</td>\n",
       "      <td>410.230</td>\n",
       "      <td>412.22</td>\n",
       "      <td>427865</td>\n",
       "      <td>54289383.0</td>\n",
       "      <td>412.1201</td>\n",
       "    </tr>\n",
       "    <tr>\n",
       "      <th>2023-05-16</th>\n",
       "      <td>410.25</td>\n",
       "      <td>412.8150</td>\n",
       "      <td>410.240</td>\n",
       "      <td>411.86</td>\n",
       "      <td>447536</td>\n",
       "      <td>57705495.0</td>\n",
       "      <td>411.3774</td>\n",
       "    </tr>\n",
       "    <tr>\n",
       "      <th>2023-05-17</th>\n",
       "      <td>415.23</td>\n",
       "      <td>415.8550</td>\n",
       "      <td>410.635</td>\n",
       "      <td>412.35</td>\n",
       "      <td>585038</td>\n",
       "      <td>86786957.0</td>\n",
       "      <td>413.4302</td>\n",
       "    </tr>\n",
       "    <tr>\n",
       "      <th>2023-05-18</th>\n",
       "      <td>419.23</td>\n",
       "      <td>419.6700</td>\n",
       "      <td>414.670</td>\n",
       "      <td>414.90</td>\n",
       "      <td>672492</td>\n",
       "      <td>97177195.0</td>\n",
       "      <td>417.1828</td>\n",
       "    </tr>\n",
       "    <tr>\n",
       "      <th>2023-05-19</th>\n",
       "      <td>418.62</td>\n",
       "      <td>420.7200</td>\n",
       "      <td>417.350</td>\n",
       "      <td>420.17</td>\n",
       "      <td>642871</td>\n",
       "      <td>103793317.0</td>\n",
       "      <td>419.0232</td>\n",
       "    </tr>\n",
       "    <tr>\n",
       "      <th>...</th>\n",
       "      <td>...</td>\n",
       "      <td>...</td>\n",
       "      <td>...</td>\n",
       "      <td>...</td>\n",
       "      <td>...</td>\n",
       "      <td>...</td>\n",
       "      <td>...</td>\n",
       "    </tr>\n",
       "    <tr>\n",
       "      <th>2024-05-06</th>\n",
       "      <td>516.57</td>\n",
       "      <td>516.6100</td>\n",
       "      <td>513.300</td>\n",
       "      <td>513.75</td>\n",
       "      <td>444747</td>\n",
       "      <td>47236717.0</td>\n",
       "      <td>514.6357</td>\n",
       "    </tr>\n",
       "    <tr>\n",
       "      <th>2024-05-07</th>\n",
       "      <td>517.14</td>\n",
       "      <td>518.5700</td>\n",
       "      <td>516.450</td>\n",
       "      <td>517.56</td>\n",
       "      <td>432286</td>\n",
       "      <td>50977654.0</td>\n",
       "      <td>517.4968</td>\n",
       "    </tr>\n",
       "    <tr>\n",
       "      <th>2024-05-08</th>\n",
       "      <td>517.19</td>\n",
       "      <td>517.7400</td>\n",
       "      <td>515.140</td>\n",
       "      <td>515.26</td>\n",
       "      <td>369150</td>\n",
       "      <td>42012599.0</td>\n",
       "      <td>516.9211</td>\n",
       "    </tr>\n",
       "    <tr>\n",
       "      <th>2024-05-09</th>\n",
       "      <td>520.17</td>\n",
       "      <td>520.2074</td>\n",
       "      <td>516.705</td>\n",
       "      <td>517.38</td>\n",
       "      <td>399512</td>\n",
       "      <td>43583253.0</td>\n",
       "      <td>519.1084</td>\n",
       "    </tr>\n",
       "    <tr>\n",
       "      <th>2024-05-10</th>\n",
       "      <td>520.84</td>\n",
       "      <td>522.6350</td>\n",
       "      <td>519.590</td>\n",
       "      <td>521.81</td>\n",
       "      <td>428536</td>\n",
       "      <td>52201942.0</td>\n",
       "      <td>520.8834</td>\n",
       "    </tr>\n",
       "  </tbody>\n",
       "</table>\n",
       "<p>250 rows × 7 columns</p>\n",
       "</div>"
      ],
      "text/plain": [
       "             close      high      low    open  transactions       volume  \\\n",
       "date                                                                       \n",
       "2023-05-15  413.01  413.4300  410.230  412.22        427865   54289383.0   \n",
       "2023-05-16  410.25  412.8150  410.240  411.86        447536   57705495.0   \n",
       "2023-05-17  415.23  415.8550  410.635  412.35        585038   86786957.0   \n",
       "2023-05-18  419.23  419.6700  414.670  414.90        672492   97177195.0   \n",
       "2023-05-19  418.62  420.7200  417.350  420.17        642871  103793317.0   \n",
       "...            ...       ...      ...     ...           ...          ...   \n",
       "2024-05-06  516.57  516.6100  513.300  513.75        444747   47236717.0   \n",
       "2024-05-07  517.14  518.5700  516.450  517.56        432286   50977654.0   \n",
       "2024-05-08  517.19  517.7400  515.140  515.26        369150   42012599.0   \n",
       "2024-05-09  520.17  520.2074  516.705  517.38        399512   43583253.0   \n",
       "2024-05-10  520.84  522.6350  519.590  521.81        428536   52201942.0   \n",
       "\n",
       "                vwap  \n",
       "date                  \n",
       "2023-05-15  412.1201  \n",
       "2023-05-16  411.3774  \n",
       "2023-05-17  413.4302  \n",
       "2023-05-18  417.1828  \n",
       "2023-05-19  419.0232  \n",
       "...              ...  \n",
       "2024-05-06  514.6357  \n",
       "2024-05-07  517.4968  \n",
       "2024-05-08  516.9211  \n",
       "2024-05-09  519.1084  \n",
       "2024-05-10  520.8834  \n",
       "\n",
       "[250 rows x 7 columns]"
      ]
     },
     "execution_count": 16,
     "metadata": {},
     "output_type": "execute_result"
    }
   ],
   "source": [
    "# use the local rest server\n",
    "data = []\n",
    "symbol2=\"SPY\"\n",
    "url = f\"http://127.0.0.1:8000/api/v1/equity/price/historical?provider=polygon&symbol={symbol2}\"\n",
    "headers = {\"accept\": \"application/json\"}\n",
    "\n",
    "response = requests.get(url, headers=headers, timeout=3)\n",
    "\n",
    "if response.status_code == 200:\n",
    "  data = OBBject.model_validate(response.json())\n",
    "\n",
    "data.to_df()\n"
   ]
  },
  {
   "cell_type": "code",
   "execution_count": 17,
   "id": "b075d0ae-55b4-49f8-acf7-c0a9045f322c",
   "metadata": {},
   "outputs": [
    {
     "data": {
      "text/plain": [
       "[('MRVL', 'Marvell Technology, Inc. - Common Stock')]"
      ]
     },
     "execution_count": 17,
     "metadata": {},
     "output_type": "execute_result"
    }
   ],
   "source": [
    "results = obb.equity.search(query='marvell', is_symbol=False, provider='nasdaq', use_cache=True)\n",
    "[(r.symbol, r.name) for r in results.results]\n"
   ]
  },
  {
   "cell_type": "code",
   "execution_count": 18,
   "id": "60b0843c-df4f-4459-b721-c73bfe0730b0",
   "metadata": {},
   "outputs": [
    {
     "data": {
      "text/html": [
       "<div>\n",
       "<style scoped>\n",
       "    .dataframe tbody tr th:only-of-type {\n",
       "        vertical-align: middle;\n",
       "    }\n",
       "\n",
       "    .dataframe tbody tr th {\n",
       "        vertical-align: top;\n",
       "    }\n",
       "\n",
       "    .dataframe thead th {\n",
       "        text-align: right;\n",
       "    }\n",
       "</style>\n",
       "<table border=\"1\" class=\"dataframe\">\n",
       "  <thead>\n",
       "    <tr style=\"text-align: right;\">\n",
       "      <th></th>\n",
       "      <th>symbol</th>\n",
       "      <th>name</th>\n",
       "      <th>exchange</th>\n",
       "      <th>last_price</th>\n",
       "      <th>last_timestamp</th>\n",
       "      <th>open</th>\n",
       "      <th>high</th>\n",
       "      <th>low</th>\n",
       "      <th>volume</th>\n",
       "      <th>prev_close</th>\n",
       "      <th>...</th>\n",
       "      <th>year_high</th>\n",
       "      <th>year_low</th>\n",
       "      <th>price_avg50</th>\n",
       "      <th>price_avg200</th>\n",
       "      <th>avg_volume</th>\n",
       "      <th>market_cap</th>\n",
       "      <th>shares_outstanding</th>\n",
       "      <th>eps</th>\n",
       "      <th>pe</th>\n",
       "      <th>earnings_announcement</th>\n",
       "    </tr>\n",
       "  </thead>\n",
       "  <tbody>\n",
       "    <tr>\n",
       "      <th>0</th>\n",
       "      <td>TD</td>\n",
       "      <td>The Toronto-Dominion Bank</td>\n",
       "      <td>NYSE</td>\n",
       "      <td>56.76</td>\n",
       "      <td>2024-05-13 20:00:01+00:00</td>\n",
       "      <td>56.98</td>\n",
       "      <td>57.180</td>\n",
       "      <td>56.565</td>\n",
       "      <td>1603317</td>\n",
       "      <td>56.62</td>\n",
       "      <td>...</td>\n",
       "      <td>66.15</td>\n",
       "      <td>54.12</td>\n",
       "      <td>58.7556</td>\n",
       "      <td>60.24095</td>\n",
       "      <td>3118783</td>\n",
       "      <td>1.005844e+11</td>\n",
       "      <td>1772100000</td>\n",
       "      <td>4.61</td>\n",
       "      <td>12.31</td>\n",
       "      <td>2024-05-23 12:00:00+00:00</td>\n",
       "    </tr>\n",
       "    <tr>\n",
       "      <th>1</th>\n",
       "      <td>SCHW</td>\n",
       "      <td>The Charles Schwab Corporation</td>\n",
       "      <td>NYSE</td>\n",
       "      <td>74.70</td>\n",
       "      <td>2024-05-13 20:00:01+00:00</td>\n",
       "      <td>76.17</td>\n",
       "      <td>76.400</td>\n",
       "      <td>74.665</td>\n",
       "      <td>3945784</td>\n",
       "      <td>76.11</td>\n",
       "      <td>...</td>\n",
       "      <td>77.05</td>\n",
       "      <td>48.66</td>\n",
       "      <td>71.6642</td>\n",
       "      <td>63.13665</td>\n",
       "      <td>7050885</td>\n",
       "      <td>1.326717e+11</td>\n",
       "      <td>1776060000</td>\n",
       "      <td>2.39</td>\n",
       "      <td>31.26</td>\n",
       "      <td>2024-07-16 04:00:00+00:00</td>\n",
       "    </tr>\n",
       "    <tr>\n",
       "      <th>2</th>\n",
       "      <td>JPM</td>\n",
       "      <td>JPMorgan Chase &amp; Co.</td>\n",
       "      <td>NYSE</td>\n",
       "      <td>198.73</td>\n",
       "      <td>2024-05-13 20:00:02+00:00</td>\n",
       "      <td>198.80</td>\n",
       "      <td>199.850</td>\n",
       "      <td>198.040</td>\n",
       "      <td>6766527</td>\n",
       "      <td>198.77</td>\n",
       "      <td>...</td>\n",
       "      <td>200.94</td>\n",
       "      <td>133.96</td>\n",
       "      <td>192.1660</td>\n",
       "      <td>166.00345</td>\n",
       "      <td>8849426</td>\n",
       "      <td>5.706870e+11</td>\n",
       "      <td>2871670000</td>\n",
       "      <td>16.58</td>\n",
       "      <td>11.99</td>\n",
       "      <td>2024-07-12 12:30:00+00:00</td>\n",
       "    </tr>\n",
       "    <tr>\n",
       "      <th>3</th>\n",
       "      <td>MS</td>\n",
       "      <td>Morgan Stanley</td>\n",
       "      <td>NYSE</td>\n",
       "      <td>98.56</td>\n",
       "      <td>2024-05-13 20:00:01+00:00</td>\n",
       "      <td>98.75</td>\n",
       "      <td>98.965</td>\n",
       "      <td>98.420</td>\n",
       "      <td>4162914</td>\n",
       "      <td>98.28</td>\n",
       "      <td>...</td>\n",
       "      <td>98.99</td>\n",
       "      <td>69.42</td>\n",
       "      <td>91.2008</td>\n",
       "      <td>85.73105</td>\n",
       "      <td>8019831</td>\n",
       "      <td>1.601758e+11</td>\n",
       "      <td>1625160000</td>\n",
       "      <td>5.50</td>\n",
       "      <td>17.92</td>\n",
       "      <td>2024-07-16 04:00:00+00:00</td>\n",
       "    </tr>\n",
       "  </tbody>\n",
       "</table>\n",
       "<p>4 rows × 22 columns</p>\n",
       "</div>"
      ],
      "text/plain": [
       "  symbol                            name exchange  last_price  \\\n",
       "0     TD       The Toronto-Dominion Bank     NYSE       56.76   \n",
       "1   SCHW  The Charles Schwab Corporation     NYSE       74.70   \n",
       "2    JPM            JPMorgan Chase & Co.     NYSE      198.73   \n",
       "3     MS                  Morgan Stanley     NYSE       98.56   \n",
       "\n",
       "             last_timestamp    open     high      low   volume  prev_close  \\\n",
       "0 2024-05-13 20:00:01+00:00   56.98   57.180   56.565  1603317       56.62   \n",
       "1 2024-05-13 20:00:01+00:00   76.17   76.400   74.665  3945784       76.11   \n",
       "2 2024-05-13 20:00:02+00:00  198.80  199.850  198.040  6766527      198.77   \n",
       "3 2024-05-13 20:00:01+00:00   98.75   98.965   98.420  4162914       98.28   \n",
       "\n",
       "   ...  year_high  year_low  price_avg50  price_avg200  avg_volume  \\\n",
       "0  ...      66.15     54.12      58.7556      60.24095     3118783   \n",
       "1  ...      77.05     48.66      71.6642      63.13665     7050885   \n",
       "2  ...     200.94    133.96     192.1660     166.00345     8849426   \n",
       "3  ...      98.99     69.42      91.2008      85.73105     8019831   \n",
       "\n",
       "     market_cap  shares_outstanding    eps     pe     earnings_announcement  \n",
       "0  1.005844e+11          1772100000   4.61  12.31 2024-05-23 12:00:00+00:00  \n",
       "1  1.326717e+11          1776060000   2.39  31.26 2024-07-16 04:00:00+00:00  \n",
       "2  5.706870e+11          2871670000  16.58  11.99 2024-07-12 12:30:00+00:00  \n",
       "3  1.601758e+11          1625160000   5.50  17.92 2024-07-16 04:00:00+00:00  \n",
       "\n",
       "[4 rows x 22 columns]"
      ]
     },
     "execution_count": 18,
     "metadata": {},
     "output_type": "execute_result"
    }
   ],
   "source": [
    "# multiple symbols\n",
    "quotes = obb.equity.price.quote(\"td,schw,jpm,ms\", provider=\"fmp\")\n",
    "quotes.to_df()\n"
   ]
  },
  {
   "cell_type": "code",
   "execution_count": 19,
   "id": "8ba4d940-9520-4e56-86f2-82c8f6a66c70",
   "metadata": {},
   "outputs": [
    {
     "data": {
      "text/html": [
       "<div>\n",
       "<style scoped>\n",
       "    .dataframe tbody tr th:only-of-type {\n",
       "        vertical-align: middle;\n",
       "    }\n",
       "\n",
       "    .dataframe tbody tr th {\n",
       "        vertical-align: top;\n",
       "    }\n",
       "\n",
       "    .dataframe thead th {\n",
       "        text-align: right;\n",
       "    }\n",
       "</style>\n",
       "<table border=\"1\" class=\"dataframe\">\n",
       "  <thead>\n",
       "    <tr style=\"text-align: right;\">\n",
       "      <th></th>\n",
       "      <th>yfinance</th>\n",
       "      <th>fmp</th>\n",
       "      <th>polygon</th>\n",
       "    </tr>\n",
       "  </thead>\n",
       "  <tbody>\n",
       "    <tr>\n",
       "      <th>0</th>\n",
       "      <td>1.066750e+11</td>\n",
       "      <td>1.066750e+11</td>\n",
       "      <td>1.066750e+11</td>\n",
       "    </tr>\n",
       "    <tr>\n",
       "      <th>1</th>\n",
       "      <td>1.091600e+11</td>\n",
       "      <td>1.091600e+11</td>\n",
       "      <td>1.091600e+11</td>\n",
       "    </tr>\n",
       "    <tr>\n",
       "      <th>2</th>\n",
       "      <td>1.056940e+11</td>\n",
       "      <td>1.056940e+11</td>\n",
       "      <td>1.056940e+11</td>\n",
       "    </tr>\n",
       "    <tr>\n",
       "      <th>3</th>\n",
       "      <td>9.158800e+10</td>\n",
       "      <td>NaN</td>\n",
       "      <td>NaN</td>\n",
       "    </tr>\n",
       "  </tbody>\n",
       "</table>\n",
       "</div>"
      ],
      "text/plain": [
       "       yfinance           fmp       polygon\n",
       "0  1.066750e+11  1.066750e+11  1.066750e+11\n",
       "1  1.091600e+11  1.091600e+11  1.091600e+11\n",
       "2  1.056940e+11  1.056940e+11  1.056940e+11\n",
       "3  9.158800e+10           NaN           NaN"
      ]
     },
     "execution_count": 19,
     "metadata": {},
     "output_type": "execute_result"
    }
   ],
   "source": [
    "# multiple providers\n",
    "\n",
    "df = pd.DataFrame()\n",
    "\n",
    "df[\"yfinance\"] = (\n",
    "  obb.equity.fundamental.balance(symbol, provider=\"yfinance\", limit=3)\n",
    "  .to_df().get(\"total_assets\")\n",
    ")\n",
    "\n",
    "df[\"fmp\"] = (\n",
    "  obb.equity.fundamental.balance(symbol, provider=\"fmp\", limit=3)\n",
    "  .to_df().get(\"total_assets\")\n",
    ")\n",
    "\n",
    "df[\"polygon\"] = (\n",
    "  obb.equity.fundamental.balance(symbol, provider=\"polygon\", limit=3)\n",
    "  .to_df().get(\"total_assets\")\n",
    ")\n",
    "\n",
    "df"
   ]
  },
  {
   "cell_type": "code",
   "execution_count": 20,
   "id": "4a2e949d-7d0a-44e2-a1ed-46802abd3d74",
   "metadata": {},
   "outputs": [
    {
     "data": {
      "text/html": [
       "<div>\n",
       "<style scoped>\n",
       "    .dataframe tbody tr th:only-of-type {\n",
       "        vertical-align: middle;\n",
       "    }\n",
       "\n",
       "    .dataframe tbody tr th {\n",
       "        vertical-align: top;\n",
       "    }\n",
       "\n",
       "    .dataframe thead th {\n",
       "        text-align: right;\n",
       "    }\n",
       "</style>\n",
       "<table border=\"1\" class=\"dataframe\">\n",
       "  <thead>\n",
       "    <tr style=\"text-align: right;\">\n",
       "      <th></th>\n",
       "      <th>title</th>\n",
       "      <th>text</th>\n",
       "      <th>images</th>\n",
       "      <th>url</th>\n",
       "      <th>symbols</th>\n",
       "      <th>source</th>\n",
       "      <th>tags</th>\n",
       "      <th>id</th>\n",
       "      <th>amp_url</th>\n",
       "      <th>publisher</th>\n",
       "    </tr>\n",
       "    <tr>\n",
       "      <th>date</th>\n",
       "      <th></th>\n",
       "      <th></th>\n",
       "      <th></th>\n",
       "      <th></th>\n",
       "      <th></th>\n",
       "      <th></th>\n",
       "      <th></th>\n",
       "      <th></th>\n",
       "      <th></th>\n",
       "      <th></th>\n",
       "    </tr>\n",
       "  </thead>\n",
       "  <tbody>\n",
       "    <tr>\n",
       "      <th>2024-05-08 06:26:57+00:00</th>\n",
       "      <td>Jim Cramer Advises Investors To Brace For Econ...</td>\n",
       "      <td>Jim Cramer, the host of CNBC’s “Mad Money,” ha...</td>\n",
       "      <td>[{'url': 'https://cdn.benzinga.com/files/image...</td>\n",
       "      <td>https://www.benzinga.com/news/24/05/38691510/j...</td>\n",
       "      <td>AAPL,BLDR,GOOG,NVDA,MRK,PFE,GOOGL,META</td>\n",
       "      <td>Benzinga Neuro</td>\n",
       "      <td>News,Global,Economics,Federal Reserve,Markets</td>\n",
       "      <td>nabJYp9Ewiso_ihbgnuIkdcXtn3Ihy-oucZmO2ALnCk</td>\n",
       "      <td>https://www.benzinga.com/amp/content/38691510</td>\n",
       "      <td>{'favicon_url': 'https://s3.polygon.io/public/...</td>\n",
       "    </tr>\n",
       "    <tr>\n",
       "      <th>2024-05-09 13:00:16+00:00</th>\n",
       "      <td>Investors Heavily Search Merck &amp; Co., Inc. (MR...</td>\n",
       "      <td>Recently, Zacks.com users have been paying clo...</td>\n",
       "      <td>[{'url': 'https://staticx-tuner.zacks.com/imag...</td>\n",
       "      <td>https://www.zacks.com/stock/news/2271265/inves...</td>\n",
       "      <td>MRK</td>\n",
       "      <td>Zacks Equity Research</td>\n",
       "      <td>None</td>\n",
       "      <td>LThWA5Sh3t7k8BJ8547R71qJY_9Mgkha7WMQAbZTGro</td>\n",
       "      <td>https://www.zacks.com/amp/stock/news/2271265/i...</td>\n",
       "      <td>{'favicon_url': 'https://s3.polygon.io/public/...</td>\n",
       "    </tr>\n",
       "    <tr>\n",
       "      <th>2024-05-10 15:18:00+00:00</th>\n",
       "      <td>Pharma Stock Roundup: PFE DMD Study Patient De...</td>\n",
       "      <td>Pfizer (PFE) reports the death of a participan...</td>\n",
       "      <td>[{'url': 'https://staticx-tuner.zacks.com/imag...</td>\n",
       "      <td>https://www.zacks.com/stock/news/2272311/pharm...</td>\n",
       "      <td>PFE,MRK,LLY</td>\n",
       "      <td>Kinjel Shah</td>\n",
       "      <td>None</td>\n",
       "      <td>LuH9atBP810MgCmcYvB9qbOEDI5RlsMVZB1l1s1W8D8</td>\n",
       "      <td>https://www.zacks.com/amp/stock/news/2272311/p...</td>\n",
       "      <td>{'favicon_url': 'https://s3.polygon.io/public/...</td>\n",
       "    </tr>\n",
       "    <tr>\n",
       "      <th>2024-05-13 08:06:09+00:00</th>\n",
       "      <td>My Dividend Growth Portfolio: Selling Bio-Phar...</td>\n",
       "      <td>I have shifted my strategy to focus on quality...</td>\n",
       "      <td>[{'url': 'https://static.seekingalpha.com/cdn/...</td>\n",
       "      <td>https://seekingalpha.com/article/4692695-my-di...</td>\n",
       "      <td>BKNG,TSLA,AMZN,CRM,ZTS,MSCI,ABBV,JNJ,MRK,AVB,O...</td>\n",
       "      <td>Nicholas Ward</td>\n",
       "      <td>None</td>\n",
       "      <td>KC-Ad56Ahj-rJRZbHcBSSkxF_HxZeV2FXNbZJ0q5R70</td>\n",
       "      <td>None</td>\n",
       "      <td>{'favicon_url': 'https://s3.polygon.io/public/...</td>\n",
       "    </tr>\n",
       "    <tr>\n",
       "      <th>2024-05-13 15:16:00+00:00</th>\n",
       "      <td>Bristol Myers (BMY) Fails to Meet Goal in Opdi...</td>\n",
       "      <td>Bristol Myers' (BMY) late-stage label-expandin...</td>\n",
       "      <td>[{'url': 'https://staticx-tuner.zacks.com/imag...</td>\n",
       "      <td>https://www.zacks.com/stock/news/2272954/brist...</td>\n",
       "      <td>AZN,BMY,MRK,LGND</td>\n",
       "      <td>Zacks Equity Research</td>\n",
       "      <td>None</td>\n",
       "      <td>DZ7EFMYgND4Mcq1fh_0B9LZ6EWP-9-JQz_pR6koaUmA</td>\n",
       "      <td>https://www.zacks.com/amp/stock/news/2272954/b...</td>\n",
       "      <td>{'favicon_url': 'https://s3.polygon.io/public/...</td>\n",
       "    </tr>\n",
       "  </tbody>\n",
       "</table>\n",
       "</div>"
      ],
      "text/plain": [
       "                                                                       title  \\\n",
       "date                                                                           \n",
       "2024-05-08 06:26:57+00:00  Jim Cramer Advises Investors To Brace For Econ...   \n",
       "2024-05-09 13:00:16+00:00  Investors Heavily Search Merck & Co., Inc. (MR...   \n",
       "2024-05-10 15:18:00+00:00  Pharma Stock Roundup: PFE DMD Study Patient De...   \n",
       "2024-05-13 08:06:09+00:00  My Dividend Growth Portfolio: Selling Bio-Phar...   \n",
       "2024-05-13 15:16:00+00:00  Bristol Myers (BMY) Fails to Meet Goal in Opdi...   \n",
       "\n",
       "                                                                        text  \\\n",
       "date                                                                           \n",
       "2024-05-08 06:26:57+00:00  Jim Cramer, the host of CNBC’s “Mad Money,” ha...   \n",
       "2024-05-09 13:00:16+00:00  Recently, Zacks.com users have been paying clo...   \n",
       "2024-05-10 15:18:00+00:00  Pfizer (PFE) reports the death of a participan...   \n",
       "2024-05-13 08:06:09+00:00  I have shifted my strategy to focus on quality...   \n",
       "2024-05-13 15:16:00+00:00  Bristol Myers' (BMY) late-stage label-expandin...   \n",
       "\n",
       "                                                                      images  \\\n",
       "date                                                                           \n",
       "2024-05-08 06:26:57+00:00  [{'url': 'https://cdn.benzinga.com/files/image...   \n",
       "2024-05-09 13:00:16+00:00  [{'url': 'https://staticx-tuner.zacks.com/imag...   \n",
       "2024-05-10 15:18:00+00:00  [{'url': 'https://staticx-tuner.zacks.com/imag...   \n",
       "2024-05-13 08:06:09+00:00  [{'url': 'https://static.seekingalpha.com/cdn/...   \n",
       "2024-05-13 15:16:00+00:00  [{'url': 'https://staticx-tuner.zacks.com/imag...   \n",
       "\n",
       "                                                                         url  \\\n",
       "date                                                                           \n",
       "2024-05-08 06:26:57+00:00  https://www.benzinga.com/news/24/05/38691510/j...   \n",
       "2024-05-09 13:00:16+00:00  https://www.zacks.com/stock/news/2271265/inves...   \n",
       "2024-05-10 15:18:00+00:00  https://www.zacks.com/stock/news/2272311/pharm...   \n",
       "2024-05-13 08:06:09+00:00  https://seekingalpha.com/article/4692695-my-di...   \n",
       "2024-05-13 15:16:00+00:00  https://www.zacks.com/stock/news/2272954/brist...   \n",
       "\n",
       "                                                                     symbols  \\\n",
       "date                                                                           \n",
       "2024-05-08 06:26:57+00:00             AAPL,BLDR,GOOG,NVDA,MRK,PFE,GOOGL,META   \n",
       "2024-05-09 13:00:16+00:00                                                MRK   \n",
       "2024-05-10 15:18:00+00:00                                        PFE,MRK,LLY   \n",
       "2024-05-13 08:06:09+00:00  BKNG,TSLA,AMZN,CRM,ZTS,MSCI,ABBV,JNJ,MRK,AVB,O...   \n",
       "2024-05-13 15:16:00+00:00                                   AZN,BMY,MRK,LGND   \n",
       "\n",
       "                                          source  \\\n",
       "date                                               \n",
       "2024-05-08 06:26:57+00:00         Benzinga Neuro   \n",
       "2024-05-09 13:00:16+00:00  Zacks Equity Research   \n",
       "2024-05-10 15:18:00+00:00            Kinjel Shah   \n",
       "2024-05-13 08:06:09+00:00          Nicholas Ward   \n",
       "2024-05-13 15:16:00+00:00  Zacks Equity Research   \n",
       "\n",
       "                                                                    tags  \\\n",
       "date                                                                       \n",
       "2024-05-08 06:26:57+00:00  News,Global,Economics,Federal Reserve,Markets   \n",
       "2024-05-09 13:00:16+00:00                                           None   \n",
       "2024-05-10 15:18:00+00:00                                           None   \n",
       "2024-05-13 08:06:09+00:00                                           None   \n",
       "2024-05-13 15:16:00+00:00                                           None   \n",
       "\n",
       "                                                                    id  \\\n",
       "date                                                                     \n",
       "2024-05-08 06:26:57+00:00  nabJYp9Ewiso_ihbgnuIkdcXtn3Ihy-oucZmO2ALnCk   \n",
       "2024-05-09 13:00:16+00:00  LThWA5Sh3t7k8BJ8547R71qJY_9Mgkha7WMQAbZTGro   \n",
       "2024-05-10 15:18:00+00:00  LuH9atBP810MgCmcYvB9qbOEDI5RlsMVZB1l1s1W8D8   \n",
       "2024-05-13 08:06:09+00:00  KC-Ad56Ahj-rJRZbHcBSSkxF_HxZeV2FXNbZJ0q5R70   \n",
       "2024-05-13 15:16:00+00:00  DZ7EFMYgND4Mcq1fh_0B9LZ6EWP-9-JQz_pR6koaUmA   \n",
       "\n",
       "                                                                     amp_url  \\\n",
       "date                                                                           \n",
       "2024-05-08 06:26:57+00:00      https://www.benzinga.com/amp/content/38691510   \n",
       "2024-05-09 13:00:16+00:00  https://www.zacks.com/amp/stock/news/2271265/i...   \n",
       "2024-05-10 15:18:00+00:00  https://www.zacks.com/amp/stock/news/2272311/p...   \n",
       "2024-05-13 08:06:09+00:00                                               None   \n",
       "2024-05-13 15:16:00+00:00  https://www.zacks.com/amp/stock/news/2272954/b...   \n",
       "\n",
       "                                                                   publisher  \n",
       "date                                                                          \n",
       "2024-05-08 06:26:57+00:00  {'favicon_url': 'https://s3.polygon.io/public/...  \n",
       "2024-05-09 13:00:16+00:00  {'favicon_url': 'https://s3.polygon.io/public/...  \n",
       "2024-05-10 15:18:00+00:00  {'favicon_url': 'https://s3.polygon.io/public/...  \n",
       "2024-05-13 08:06:09+00:00  {'favicon_url': 'https://s3.polygon.io/public/...  \n",
       "2024-05-13 15:16:00+00:00  {'favicon_url': 'https://s3.polygon.io/public/...  "
      ]
     },
     "execution_count": 20,
     "metadata": {},
     "output_type": "execute_result"
    }
   ],
   "source": [
    "obb.news.company(symbol, provider='polygon', limit=5).to_df()\n"
   ]
  },
  {
   "cell_type": "markdown",
   "id": "05e5429f-164c-4d82-81da-5b22b2c2c4ae",
   "metadata": {},
   "source": [
    "# Question Answering Agent"
   ]
  },
  {
   "cell_type": "code",
   "execution_count": 21,
   "id": "a758632e-504b-4c2d-a26a-5de9cd158946",
   "metadata": {},
   "outputs": [],
   "source": [
    "MODEL = \"gpt-4o\"\n",
    "\n",
    "MAX_INPUT_TOKENS = 65536     # includes text of all headlines\n",
    "MAX_OUTPUT_TOKENS = 4096    # max in current model\n",
    "MAX_RETRIES = 3\n",
    "TEMPERATURE = 0\n",
    "\n"
   ]
  },
  {
   "cell_type": "code",
   "execution_count": 22,
   "id": "8f89a4a1-b882-45ba-91a1-8179d3ae2d3c",
   "metadata": {},
   "outputs": [],
   "source": [
    "# utility function to call chatgpt\n",
    "def get_response(messages, tools, model=MODEL, json_format=False):\n",
    "    \"\"\"\n",
    "    Get a single response from ChatGPT based on a chain of messages.\n",
    "\n",
    "    Args:\n",
    "        messages (list): A list of message objects representing the conversation history.\n",
    "        json_format(boolean): True if JSON response requested. (Last message must express the request for JSON response.)\n",
    "\n",
    "    Returns:\n",
    "        dict: A response object containing the generated response from ChatGPT.\n",
    "\n",
    "    Raises:\n",
    "        OpenAIError: If there is an error during the API call.\n",
    "\n",
    "    Example:\n",
    "        >>> messages = [\n",
    "        ...     {\"role\": \"system\", \"content\": \"You are a helpful assistant.\"},\n",
    "        ...     {\"role\": \"user\", \"content\": \"What's the weather like today?\"},\n",
    "        ... ]\n",
    "        >>> response = get_response(messages)\n",
    "    \"\"\"\n",
    "\n",
    "    if tools:\n",
    "        response = client.chat.completions.create(\n",
    "            model=model,\n",
    "            messages=messages,\n",
    "            tools=tools,\n",
    "            tool_choice=\"auto\",  # auto is default, but we'll be explicit\n",
    "            response_format={\"type\": \"json_object\"} if json_format else None,\n",
    "        )\n",
    "    else:\n",
    "        response = client.chat.completions.create(\n",
    "            model=model,\n",
    "            messages=messages,\n",
    "            response_format={\"type\": \"json_object\"} if json_format else None,\n",
    "        )\n",
    "\n",
    "    return response\n"
   ]
  },
  {
   "cell_type": "code",
   "execution_count": 23,
   "id": "b7abde63-5b62-48bc-9df0-cdf3c80990bd",
   "metadata": {},
   "outputs": [
    {
     "name": "stdout",
     "output_type": "stream",
     "text": [
      "The airspeed velocity of an unladen swallow is a topic that has been popularized by the movie \"Monty Python and the Holy Grail.\" In a more scientific context, one can look at the European Swallow (Hirundo rustica) to get a rough estimate.\n",
      "\n",
      "Research and ornithological studies suggest that the cruising speed of an unladen European Swallow is roughly 11 meters per second, or about 24 miles per hour.\n",
      "\n",
      "It's important to remember that flight speed can vary based on factors like wind conditions, the bird's health, and whether it's migrating or simply flying for short distances.\n"
     ]
    }
   ],
   "source": [
    "client = OpenAI()\n",
    "messages = [{\"role\": \"user\", \"content\": \"what is the airspeed velocity of an unladen swallow?\"}]\n",
    "response = get_response(messages, tools=[])\n",
    "response_str = response.choices[0].message.content\n",
    "response_str = response_str.replace(\"$\", \"\\\\\\$\")\n",
    "\n",
    "print(response_str)"
   ]
  },
  {
   "cell_type": "code",
   "execution_count": 25,
   "id": "aa18b6e6-e64f-4483-8e66-bf2bd9c1b18b",
   "metadata": {},
   "outputs": [],
   "source": [
    "# utility functions to support use of client-side tools when querying openai\n",
    "\n",
    "def eval_tool(tool_call, verbose=True):\n",
    "    \"\"\"\n",
    "    Given an OpenAI tool_call response,\n",
    "    evaluates the tool function using the arguments provided by OpenAI,\n",
    "    and returns the message to send back to OpenAI, including the function return value.\n",
    "\n",
    "    Args:\n",
    "        tool_call (object): The OpenAI tool_call response.\n",
    "\n",
    "    Returns:\n",
    "        dict: The message to send back to OpenAI, containing the tool_call_id, role, name, and value returned by the tool call.\n",
    "\n",
    "    \"\"\"\n",
    "    function_name = tool_call.function.name\n",
    "    # look up the function based in global tools on the name\n",
    "    fn = tools[function_name]['callable']\n",
    "    # make the tool call's json args into a dict\n",
    "    kwargs = json.loads(tool_call.function.arguments)\n",
    "    \n",
    "    if verbose:\n",
    "        print(f\"{function_name}({str(kwargs)}) -> \", end=\"\")\n",
    "    # call function with the args and return value\n",
    "    fn_value = fn(**kwargs)\n",
    "    if type(fn_value) is list or type(fn_value) is dict:\n",
    "        fn_value=str(fn_value)\n",
    "    if verbose:\n",
    "        output = str(fn_value)\n",
    "        if len(output) > 100:\n",
    "            output=output[:100] + \"...\"\n",
    "        print(output)\n",
    "\n",
    "    return {\n",
    "        \"tool_call_id\": tool_call.id,\n",
    "        \"role\": \"tool\",\n",
    "        \"name\": tool_call.function.name,\n",
    "        \"content\": fn_value,\n",
    "    }\n",
    "\n",
    "def get_response_and_eval(messages, tools=[], json_format=False, raw=False, verbose=False):\n",
    "    \"\"\"\n",
    "    Sends a list of messages to OpenAI and returns the response.\n",
    "    If tool calls are returned, calls all the tools and sends the values back to OpenAI.\n",
    "    If further tool calls returned, iterates until no more tool calls are returned and\n",
    "    'stop' is returned as finish_reason, then returns the response.\n",
    "\n",
    "    Args:\n",
    "        messages (list): A list of messages to send to OpenAI.\n",
    "        json_format (boolean): If the final response should be in JSON format.\n",
    "        raw (boolean): after last tool is called return raw data response that enabled answering the question\n",
    "        verbose (bool, optional): If True, prints additional information. Defaults to False.\n",
    "\n",
    "    Returns:\n",
    "        response: The final response object returned by OpenAI.\n",
    "\n",
    "    Raises:\n",
    "        None\n",
    "\n",
    "    \"\"\"\n",
    "    response = get_response(messages, tools=tools, json_format=json_format)\n",
    "    choice = response.choices[0]\n",
    "    response_message = choice.message\n",
    "    finish_reason = choice.finish_reason\n",
    "\n",
    "    if verbose:\n",
    "        print(choice)\n",
    "\n",
    "    while finish_reason != 'stop':\n",
    "        # Extend conversation with assistant's reply\n",
    "        messages.append(response_message)\n",
    "        if finish_reason == 'tool_calls':\n",
    "            tool_calls = response_message.tool_calls\n",
    "            if verbose:\n",
    "                print(tool_calls)\n",
    "            # Call the tools and add all return values as messages\n",
    "            for tool in tool_calls:\n",
    "                messages.append(eval_tool(tool, verbose=True))\n",
    "            # Get next response\n",
    "            response = get_response(messages, tools=tools, json_format=json_format)\n",
    "            choice = response.choices[0]\n",
    "            response_message = choice.message\n",
    "            finish_reason = choice.finish_reason\n",
    "            if verbose:\n",
    "                output = str(choice)\n",
    "                output = output[:1000] + \"...\" if len(output) > 1000 else output\n",
    "                print(output)\n",
    "        else:\n",
    "            print('finish_reason: ', finish_reason)\n",
    "            break\n",
    "\n",
    "    if raw:\n",
    "        # probably want to process that message and return call signature + value\n",
    "        return messages[-1]\n",
    "    else:\n",
    "        return response\n",
    "\n",
    "def agent_query(user_message, tools, raw=False, verbose=True):\n",
    "    \"\"\"\n",
    "    Send a user message to OpenAI and retrieve the response, calling all tools until done.\n",
    "\n",
    "    Args:\n",
    "        user_message (str): The message from the user.\n",
    "        raw (boolean): after last tool is called return raw data response that enabled answering the question        \n",
    "        verbose (bool, optional): Display intermediate tool calls and return values. Defaults to False.\n",
    "\n",
    "    Returns:\n",
    "        str: The response from the agent.\n",
    "\n",
    "\n",
    "    Example:\n",
    "        >>> agent_query(\"Hello\")\n",
    "        'Hello! How can I assist you today?'\n",
    "    \"\"\"\n",
    "\n",
    "    # add descriptions of available tools to system prompt\n",
    "    tool_descs = \"\"\n",
    "    tools = list(tools.values())\n",
    "    openai_tools = []\n",
    "    for v in tools:\n",
    "        t = v['tooldict']\n",
    "        openai_tools.append(t)\n",
    "        tname = t['function']['name']\n",
    "        tdesc = t['function']['description']\n",
    "        tool_descs += f\"{tname} : {tdesc}\"\n",
    "        example_str = v.get('example_str')\n",
    "        if example_str:\n",
    "            tool_descs += f\" Usage: {example_str} \"\n",
    "        tool_descs += \"\\n---\\n\\n\"\n",
    "    # tool_descs = \"\\n\".join([f\"{tool['function']['name']} : {tool['function']['description']}\" for tool in tools.values()])\n",
    "    current_system_prompt = system_prompt + f\"\"\"\n",
    "\n",
    "Available tools delimited by ---:\n",
    "{tool_descs}\n",
    "    \"\"\"\n",
    "    # print(current_system_prompt)\n",
    "\n",
    "    messages = [{\"role\": \"system\", \"content\": current_system_prompt},\n",
    "                {\"role\": \"user\", \"content\": user_message}]\n",
    "    response = get_response_and_eval(messages, tools=openai_tools, json_format=False, raw=raw, verbose=verbose)\n",
    "    response_str = response.choices[0].message.content\n",
    "    response_str = response_str.replace(\"$\", \"\\\\\\$\")   # escape stuff that is interpreted as latex\n",
    "    display(Markdown(response_str))\n",
    "\n"
   ]
  },
  {
   "cell_type": "code",
   "execution_count": 81,
   "id": "a85a7fd6-9ac5-43f6-973d-86dbca6fd25d",
   "metadata": {},
   "outputs": [
    {
     "name": "stdout",
     "output_type": "stream",
     "text": [
      "[{\"symbol\": \"AAPL\", \"asset_type\": \"stock\", \"name\": \"APPLE INC COM\", \"exchange\": null, \"bid\": 186.11, \"bid_size\": 6, \"bid_exchange\": null, \"ask\": 186.19, \"ask_size\": 2, \"ask_exchange\": null, \"quote_conditions\": null, \"quote_indicators\": null, \"sales_conditions\": null, \"sequence_number\": null, \"market_center\": null, \"participant_timestamp\": null, \"trf_timestamp\": null, \"sip_timestamp\": null, \"last_price\": 186.14, \"last_tick\": \"down\", \"last_size\": null, \"last_timestamp\": \"2024-05-13T15:59:59\", \"open\": 185.5, \"high\": 187.1, \"low\": 184.62, \"close\": 186.28, \"volume\": 72044809, \"exchange_volume\": null, \"prev_close\": 183.05, \"change\": 3.23, \"change_percent\": 0.017645, \"year_high\": 199.6199951171875, \"year_low\": 164.07000732421875, \"iv30\": 0.19427, \"iv30_change\": null, \"iv30_change_percent\": null, \"iv30_annual_high\": 0.3034000015258789, \"hv30_annual_high\": 0.28184000015258787, \"iv30_annual_low\": 0.15277999877929688, \"hv30_annual_low\": 0.12411399841308594, \"iv60_annual_high\": 0.27665000915527344, \"hv60_annual_high\": 0.24687000274658202, \"iv60_annual_low\": 0.1647999954223633, \"hv60_annual_low\": 0.13875, \"iv90_annual_high\": 0.2685799980163574, \"hv90_annual_high\": 0.23539100646972655, \"iv90_annual_low\": 0.18864999771118163, \"hv90_annual_low\": 0.16899900436401366}]\n"
     ]
    },
    {
     "data": {
      "text/plain": [
       "{'name': 'get_quote_json',\n",
       " 'description': 'Given a stock symbol, get the latest market data quote for the stock in JSON format.',\n",
       " 'openapi_path': '/api/v1/equity/price/quote',\n",
       " 'callable': <__main__.BB_agent_tool at 0x3359aeed0>,\n",
       " 'parameters': {'symbol': {'type': 'string',\n",
       "   'description': 'The stock symbol.'}},\n",
       " 'example_parameters': [{'symbol': 'NVDA'}],\n",
       " 'tooldict': {'type': 'function',\n",
       "  'function': {'name': 'get_quote_json',\n",
       "   'description': 'Given a stock symbol, get the latest market data quote for the stock in JSON format.',\n",
       "   'parameters': {'type': 'object',\n",
       "    'properties': {'symbol': {'type': 'string',\n",
       "      'description': 'The stock symbol.'}},\n",
       "    'required': ['symbol']}}},\n",
       " 'example_str': 'get_quote_json(symbol=\"NVDA\") -> id=\\'06642d4c-eace-751d-8000-31e77dd8a63c\\' results=[CboeEquityQuoteData(symbol=NVDA, asset_type=stock, name=NVIDIA CORPORATION COM, exchange=None, bid=902.55, bid_size=1, bid_exchange=None, ask=902.8, ask_size=2, ask_exchange=None, quote_conditions=None, quote_indicators=None, sales_conditions=None, sequence_number=None, market_center=None, participant_timestamp=None, trf_timestamp=None, sip_timestamp=None, last_price=902.58, last_tick=down, last_size=None, last_timestamp=2024-05-13 15:59:59, open=904.83, high=909.98, low=885.29, close=903.99, volume=28968017, exchange_volume=None, prev_close=898.78, change=5.21, change_percent=0.005797, year_high=974.0, year_low=280.4599914550781, iv30=0.56413, iv30_change=None, iv30_change_percent=None, iv30_annual_high=0.6712400054931641, hv30_annual_high=0.7542350006103515, iv30_annual_low=0.3138199996948242, hv30_annual_low=0.26787900924682617, iv60_annual_high=0.5873099899291992, hv60_annual_high=0.6172460174560547, iv60_annual_low=0.338489990234375, hv60_annual_low=0.28717899322509766, iv90_annual_high=0.604729995727539, hv90_annual_high=0.5864540100097656, iv90_annual_low=0.36759998321533205, hv90_annual_low=0.3167770004272461)] provider=\\'cboe\\' warnings=None chart=None extra={\\'metadata\\': Metadata\\n\\narguments: {\\'provider_choices\\': {\\'provider\\': \\'cboe\\'}, \\'standard_params\\': {\\'symbol\\': \\'NVDA\\'}, \\'extra_params\\': {}}\\nduration: 344174958\\nroute: /equity/price/quote\\ntimestamp: 2024-05-13 23:04:46.334546}'}"
      ]
     },
     "execution_count": 81,
     "metadata": {},
     "output_type": "execute_result"
    }
   ],
   "source": [
    "# for the frequent case where we call a function based on a symbol, make a generic tool class\n",
    "class BB_agent_tool(object):\n",
    "\n",
    "    # class variable to keep track of all tools\n",
    "    agent_registry = {}\n",
    "\n",
    "    def __init__(self, name, description, openapi_path, parameters, example_parameter_values, singular=0):\n",
    "        self.name = name\n",
    "        self.description = description\n",
    "        self.openapi_path = openapi_path\n",
    "        self.parameters = parameters\n",
    "        self.example_parameter_values = example_parameter_values\n",
    "        self.singular = singular\n",
    "        self.callable = self.get_callable()\n",
    "        self.tooldict = self.make_tooldict()\n",
    "        self.example_code = self.make_example_code()\n",
    "        # store self in agent_registry class variable that keeps track of all instances\n",
    "        self.agent_registry[name] = self\n",
    "\n",
    "    def __del__(self):\n",
    "        del self.agent_registry[self.name]\n",
    "\n",
    "    def __str__(self):\n",
    "        return (f\"Tool Name:          {self.name}\\n\"\n",
    "                f\"Description:        {self.description}\\n\"\n",
    "                f\"OpenAPI Path:       {self.openapi_path}\\n\"\n",
    "                f\"Parameters:         {self.parameters}\\n\"\n",
    "                f\"Example Parameters: {self.example_parameter_values}\\n\"\n",
    "                f\"Singular:           {self.singular}\\n\"\n",
    "                f\"Tooldict:           {self.tooldict}\\n\"\n",
    "                f\"Examples:           {self.example_code}\\n\"\n",
    "                f\"Callable:           \\n\"\n",
    "                f\"{self.callable.__doc__}\\n\"\n",
    "        )\n",
    "\n",
    "    def __call__(self, symbol):\n",
    "        \"\"\"Make the instance callable and perform the default operation of calling the callable function on a symbol.\"\"\"\n",
    "        retval = None\n",
    "        try:\n",
    "            obj = self.callable(symbol)\n",
    "            if obj and obj.results:\n",
    "                d = json.loads(obj.json())\n",
    "                # singular should be 0 to return the full array, 1 for first element only, -1 for last element\n",
    "                if self.singular:\n",
    "                    index = 0 if self.singular == 1 else -1\n",
    "                    retval = json.dumps(d['results'][index])\n",
    "                else:\n",
    "                    retval = json.dumps(d['results'])\n",
    "        except Exception as exc:\n",
    "            print(exc)\n",
    "        return str(retval)\n",
    "\n",
    "    def get_callable(self):\n",
    "        \"\"\"for /api/vi/equity/search, return the openbb object obb.equity.search\"\"\"\n",
    "        op = obb\n",
    "        for part in self.openapi_path.removeprefix(\"/api/v1/\").split(\"/\"):\n",
    "            op = op.__getattribute__(part)\n",
    "        return op\n",
    "\n",
    "    def make_tooldict(self):\n",
    "        \"\"\"the representation of the tool that is shared with openai\"\"\"\n",
    "        return {\n",
    "            \"type\": \"function\",\n",
    "            \"function\": {\n",
    "                \"name\": self.name,\n",
    "                \"description\": self.description,\n",
    "                \"parameters\": {\n",
    "                    \"type\": \"object\",\n",
    "                    \"properties\": self.parameters,\n",
    "                    \"required\": [k for k in self.parameters.keys()]   # all required for now\n",
    "                    }\n",
    "                }\n",
    "            }\n",
    "\n",
    "    def make_example_code(self):\n",
    "        examples = []\n",
    "        for example in self.example_parameter_values:\n",
    "            parray = []\n",
    "            for k, v in example.items():\n",
    "                # get type \n",
    "                ptype = \"string\"\n",
    "                if ptype == \"string\":\n",
    "                    parray.append(f'{k}=\"{v}\"') \n",
    "                else:\n",
    "                    parray.append(f'{k}={v}') \n",
    "            pstr = \", \".join(parray) \n",
    "\n",
    "            # run the example\n",
    "            return_value = self.callable(**example)\n",
    "            if type(return_value) is list: # only use 3 values if it's a long list\n",
    "                return_value = str(return_value[:3])\n",
    "            if type(return_value) is str:  # truncate long strings\n",
    "                max_str_len = 1000\n",
    "                return_value = return_value[:max_str_len] + \"...\" if len(return_value) > max_str_len else return_value\n",
    "            \n",
    "            examples.append(f\"{self.name}({pstr}) -> {return_value}\")\n",
    "            return \"; \".join(examples)\n",
    "\n",
    "    def make_metadata(self):\n",
    "        return {'name': self.name,\n",
    "                  'description': self.description,\n",
    "                  'openapi_path': self.openapi_path,\n",
    "                  'callable': self,\n",
    "                  'parameters': self.parameters,\n",
    "                  'example_parameters': self.example_parameter_values,\n",
    "                  'tooldict': self.tooldict,\n",
    "                  'example_str': self.example_code}\n",
    "\n",
    "\n",
    "\n",
    "# Example usage\n",
    "tool = BB_agent_tool(\n",
    "    name=\"get_quote_json\",\n",
    "    description=\"Given a stock symbol, get the latest market data quote for the stock in JSON format.\",\n",
    "    openapi_path=\"/api/v1/equity/price/quote\",\n",
    "    parameters={\n",
    "        \"symbol\": {\n",
    "            \"type\": \"string\",\n",
    "            \"description\": \"The stock symbol.\"\n",
    "        }\n",
    "        },\n",
    "    example_parameter_values=[{\n",
    "        \"symbol\": \"NVDA\",\n",
    "    }],\n",
    ")\n",
    "\n",
    "print(tool('AAPL'))\n",
    "tool.make_metadata()\n"
   ]
  },
  {
   "cell_type": "code",
   "execution_count": 35,
   "id": "caaa5364-c1fc-4173-96f9-98d92558b128",
   "metadata": {},
   "outputs": [],
   "source": [
    "tools = {}"
   ]
  },
  {
   "cell_type": "code",
   "execution_count": 36,
   "id": "abbeb492-4c38-48b3-91d9-005be43b3a80",
   "metadata": {},
   "outputs": [],
   "source": [
    "# make a bespoke tool \n",
    "\n",
    "def get_10k_item1_from_symbol(symbol):\n",
    "    \"\"\"\n",
    "    Get item 1 of the latest 10-K annual report filing for a given symbol.\n",
    "\n",
    "    Args:\n",
    "        symbol (str): The symbol of the equity.\n",
    "\n",
    "    Returns:\n",
    "        str: The item 1 of the latest 10-K annual report filing, or None if not found.\n",
    "\n",
    "    \"\"\"\n",
    "    item1_text = None\n",
    "    try:\n",
    "        # sec needs you to identify yourself for rate limiting\n",
    "        dl = Downloader(os.getenv(\"SEC_FIRM\"), os.getenv(\"SEC_USER\"))\n",
    "        html = dl.get_filing_html(ticker=symbol, form=\"10-K\")\n",
    "        elements: list = sp.Edgar10QParser().parse(html)\n",
    "        tree = sp.TreeBuilder().build(elements)\n",
    "        sections = [n for n in tree.nodes if n.text.startswith(\"Item\")]\n",
    "        item1_node = sections[0]\n",
    "        item1_text = \"\\n\".join([n.text for n in sections[0].get_descendants()])\n",
    "    except:\n",
    "        return None\n",
    "    return item1_text\n",
    "\n",
    "fn_metadata = {\n",
    "    \"name\": \"get_10k_item1_from_symbol\",\n",
    "    \"description\": \"Given a stock symbol, get item 1 of the company's latest 10-K annual report filing.\",\n",
    "    \"openapi_path\" : None,\n",
    "    \"callable\": get_10k_item1_from_symbol,\n",
    "    \"parameters\": {\n",
    "        \"symbol\": {\n",
    "            \"type\": \"string\",\n",
    "            \"description\": \"The symbol to get the 10-K item 1 for\"\n",
    "            }\n",
    "        },\n",
    "    \"example_parameters\": [{\n",
    "        \"symbol\": \"MSFT\",\n",
    "    }],\n",
    "}\n",
    "\n",
    "# create tool dict based on metadata\n",
    "def make_tool_dict(fn_metadata):\n",
    "    retdict  = {\n",
    "        \"type\": \"function\",\n",
    "        \"function\": {\n",
    "            \"name\": fn_metadata[\"name\"],\n",
    "            \"description\": fn_metadata[\"description\"],\n",
    "            \"parameters\": {\n",
    "                \"type\": \"object\",\n",
    "                \"properties\": fn_metadata[\"parameters\"],\n",
    "                \"required\": [k for k in fn_metadata[\"parameters\"].keys()]\n",
    "                }\n",
    "            }\n",
    "        }\n",
    "    return retdict\n",
    "\n",
    "tools[fn_metadata[\"name\"]] = fn_metadata\n",
    "tools[fn_metadata[\"name\"]][\"tooldict\"] = make_tool_dict(fn_metadata)\n"
   ]
  },
  {
   "cell_type": "code",
   "execution_count": 37,
   "id": "0c1d8d17-f380-46c5-817b-cd4a895d2269",
   "metadata": {},
   "outputs": [
    {
     "data": {
      "text/plain": [
       "190265"
      ]
     },
     "execution_count": 37,
     "metadata": {},
     "output_type": "execute_result"
    }
   ],
   "source": [
    "item_1_text = get_10k_item1_from_symbol(symbol)\n",
    "len(item_1_text)"
   ]
  },
  {
   "cell_type": "code",
   "execution_count": 41,
   "id": "2e1125e9-2d92-4308-adb5-83bd127a8f78",
   "metadata": {},
   "outputs": [
    {
     "data": {
      "text/plain": [
       "'get_10k_item1_from_symbol(symbol=\"MSFT\") -> Note About Forward-Looking Statements\\nThis report includes estimates, projections, statements relating to our business plans, objectives, and expected operating results that are “forward-looking statements” within the meaning of the Private Securities Litigation Reform Act of 1995, Section 27A of the Securities Act of 1933, and Section 21E of the Securities Exchange Act of 1934. Forward-looking statements may appear throughout this report, including the following sections: “Business” (Part I, Item 1 of this Form 10-K), “Risk Factors” (Part I, Item 1A of this Form 10-K), and “Management’s Discussion and Analysis of Financial Condition and Results of Operations” (Part II, Item 7 of this Form 10-K). These forward-looking statements generally are identified by the words “believe,” “project,” “expect,” “anticipate,” “estimate,” “intend,” “strategy,” “future,” “opportunity,” “plan,” “may,” “should,” “will,” “would,” “will be,” “will continue,” “will likely result,” and similar expressions. F...'"
      ]
     },
     "execution_count": 41,
     "metadata": {},
     "output_type": "execute_result"
    }
   ],
   "source": [
    "def create_example_code(fn_metadata):\n",
    "    example_str = \"\"\n",
    "    for example in fn_metadata['example_parameters']:\n",
    "        if example_str:\n",
    "            example_str += \" ; \"\n",
    "        example_str += f\"{fn_metadata['name']}(\"\n",
    "        parray = []\n",
    "        for k, v in example.items():\n",
    "            # get type \n",
    "            ptype = \"string\"\n",
    "            if ptype == \"string\":\n",
    "                parray.append(f'{k}=\"{v}\"') \n",
    "            else:\n",
    "                parray.append(f'{k}={v}') \n",
    "        example_str += \", \".join(parray) \n",
    "        example_str += \")\" \n",
    "        example_str += \" -> \" \n",
    "        return_value = fn_metadata[\"callable\"](**example)\n",
    "        if type(return_value) is list:\n",
    "            return_value = str(return_value[:3])\n",
    "        if type(return_value) is str:\n",
    "            return_value = return_value[:1000] + \"...\" if len(return_value) > 1000 else return_value\n",
    "        example_str += return_value\n",
    "        return example_str\n",
    "\n",
    "create_example_code(fn_metadata)\n"
   ]
  },
  {
   "cell_type": "code",
   "execution_count": 42,
   "id": "8b06e797-316e-4b6d-b991-7c92047a2b7d",
   "metadata": {},
   "outputs": [],
   "source": [
    "system_prompt = \"\"\"\n",
    "Role: You are an AI stock market assistant tasked with providing up-to-date and detailed information on individual stocks.\n",
    "\n",
    "Objective: Assist data-driven stock market investors by giving accurate and concise answers relevant to their questions about individual stocks.\n",
    "\n",
    "Capabilities: You are given a number of tools as functions. Use as many tools as needed to ensure all information provided is timely, accurate, concise, relevant, and specific to the user's query.\n",
    "\n",
    "Instructions: First, analyze the query to fully understand the intent of the user, what data they need, and which tools will satisfy their request.\n",
    "Then, call the most relevant tools in the order necessary to respond accurately to the investor query. \n",
    "If the question is not about a specific stock, if no relevant tool is available, or if uncertain or lacking data, say so clearly and suggest alternative resources or data sources that may help.\n",
    "Only use data obtained from the tools.\n",
    "\n",
    "Example Interaction:\n",
    "Investor: What is the current P/E ratio of Apple Inc.?\n",
    "AI Response: As of the close of trading on March 10, 2024, Apple Inc.'s P/E ratio is 28.45.\n",
    "\"\"\"\n"
   ]
  },
  {
   "cell_type": "code",
   "execution_count": 43,
   "id": "669dd655-53b4-4792-a206-2cdea9e7a87f",
   "metadata": {},
   "outputs": [
    {
     "data": {
      "text/plain": [
       "{'get_10k_item1_from_symbol': {'name': 'get_10k_item1_from_symbol',\n",
       "  'description': \"Given a stock symbol, gets item 1 of the company's latest 10-K annual report filing.\",\n",
       "  'openapi_path': None,\n",
       "  'callable': <function __main__.get_10k_item1_from_symbol(symbol)>,\n",
       "  'parameters': {'symbol': {'type': 'string',\n",
       "    'description': 'The symbol to get the 10-K item 1 for'}},\n",
       "  'example_parameters': [{'symbol': 'MSFT'}],\n",
       "  'tooldict': {'type': 'function',\n",
       "   'function': {'name': 'get_10k_item1_from_symbol',\n",
       "    'description': \"Given a stock symbol, gets item 1 of the company's latest 10-K annual report filing.\",\n",
       "    'parameters': {'type': 'object',\n",
       "     'properties': {'symbol': {'type': 'string',\n",
       "       'description': 'The symbol to get the 10-K item 1 for'}},\n",
       "     'required': ['symbol']}}}}}"
      ]
     },
     "execution_count": 43,
     "metadata": {},
     "output_type": "execute_result"
    }
   ],
   "source": [
    "tools"
   ]
  },
  {
   "cell_type": "code",
   "execution_count": 44,
   "id": "52296f7e-8ac4-4a13-b6f2-549335464acb",
   "metadata": {},
   "outputs": [
    {
     "name": "stdout",
     "output_type": "stream",
     "text": [
      "Choice(finish_reason='tool_calls', index=0, logprobs=None, message=ChatCompletionMessage(content=None, role='assistant', function_call=None, tool_calls=[ChatCompletionMessageToolCall(id='call_1X2WST7G0jZjiTT3zNVgs1UY', function=Function(arguments='{\"symbol\":\"MSFT\"}', name='get_10k_item1_from_symbol'), type='function')]))\n",
      "[ChatCompletionMessageToolCall(id='call_1X2WST7G0jZjiTT3zNVgs1UY', function=Function(arguments='{\"symbol\":\"MSFT\"}', name='get_10k_item1_from_symbol'), type='function')]\n",
      "get_10k_item1_from_symbol({'symbol': 'MSFT'}) -> Note About Forward-Looking Statements\n",
      "This report includes estimates, projections, statements relati...\n",
      "Choice(finish_reason='stop', index=0, logprobs=None, message=ChatCompletionMessage(content=\"**Summary of Item 1 from the Latest 10-K Annual Report for Microsoft Corporation (MSFT):**\\n\\n**General Overview:**\\nMicrosoft Corporation is a global technology company founded in 1975. Its mission is to empower every person and organization to achieve more, and it provides a variety of products and services, including software, cloud services, and hardware.\\n\\n**Core Business Focus:**\\nMicrosoft's strategy revolves around three interconnected ambitions:\\n1. Reinventing productivity and business processes\\n2. Building the intelligent cloud and intelligent edge platform\\n3. Creating more personal computing\\n\\n**Products and Services:**\\n- **Software and Services:** Operating systems (Windows), productivity and business processes (Office 365, Microsoft Teams, Dynamics 365), and AI-based solutions.\\n- **Cloud Services:** Azure, which includes infrastructure as a service (IaaS), platform as a servi...\n"
     ]
    },
    {
     "data": {
      "text/markdown": [
       "**Summary of Item 1 from the Latest 10-K Annual Report for Microsoft Corporation (MSFT):**\n",
       "\n",
       "**General Overview:**\n",
       "Microsoft Corporation is a global technology company founded in 1975. Its mission is to empower every person and organization to achieve more, and it provides a variety of products and services, including software, cloud services, and hardware.\n",
       "\n",
       "**Core Business Focus:**\n",
       "Microsoft's strategy revolves around three interconnected ambitions:\n",
       "1. Reinventing productivity and business processes\n",
       "2. Building the intelligent cloud and intelligent edge platform\n",
       "3. Creating more personal computing\n",
       "\n",
       "**Products and Services:**\n",
       "- **Software and Services:** Operating systems (Windows), productivity and business processes (Office 365, Microsoft Teams, Dynamics 365), and AI-based solutions.\n",
       "- **Cloud Services:** Azure, which includes infrastructure as a service (IaaS), platform as a service (PaaS), and AI capabilities.\n",
       "- **Devices:** PCs, tablets, consoles (Xbox), and other intelligent devices.\n",
       "- **Other Offerings:** LinkedIn, GitHub, and advertising services.\n",
       "\n",
       "**Intelligent Cloud and AI:**\n",
       "Microsoft focuses heavily on cloud computing and AI. Azure offers a range of cloud services, and partnerships, like the one with OpenAI, enhance its AI capabilities. Commitment to responsible AI development is a key principle.\n",
       "\n",
       "**Research and Innovation:**\n",
       "The company continues to invest in research and development across areas such as cloud computing, AI, productivity tools, and security. It emphasizes a comprehensive approach to innovation, integrating emerging technologies like AI into its product offerings.\n",
       "\n",
       "**Corporate Social Responsibility:**\n",
       "Microsoft is committed to sustainability and has outlined goals to become carbon negative, water positive, and zero waste by 2030. It also focuses on addressing racial injustice, increasing digital skills, and enhancing accessibility.\n",
       "\n",
       "**Market Strategy and Competition:**\n",
       "Microsoft faces intense competition from global companies in software, cloud services, and hardware. Its competition includes Apple, Google, Amazon, and IBM. Microsoft focuses on offering integrated and secure solutions to maintain its competitive edge.\n",
       "\n",
       "**Legal and Regulatory Environment:**\n",
       "Microsoft engages actively with regulatory bodies and strives to comply with data privacy and cybersecurity laws worldwide.\n",
       "\n",
       "This summary captures the essence of Microsoft's business strategy, products, innovations, and market positioning as presented in their latest annual report."
      ],
      "text/plain": [
       "<IPython.core.display.Markdown object>"
      ]
     },
     "metadata": {},
     "output_type": "display_data"
    }
   ],
   "source": [
    "user_message = \"Please summarize item 1 from the latest MSFT annual report\"\n",
    "agent_query(user_message, tools=tools, verbose=True)\n"
   ]
  },
  {
   "cell_type": "code",
   "execution_count": 45,
   "id": "3bd38f0e-7a26-4f11-8ff1-35279b01b36c",
   "metadata": {},
   "outputs": [],
   "source": [
    "# query search using Sec-api\n",
    "# queryApi = QueryApi(api_key=os.environ['SEC_API_KEY'])\n",
    "\n",
    "# query = {\n",
    "#   \"query\": \"ticker:TSLA AND filedAt:[2024-01-01 TO 2024-12-31] AND formType:\\\"10-K\\\"\",\n",
    "#   \"from\": \"0\",\n",
    "#   \"size\": \"100\",\n",
    "#   \"sort\": [{ \"filedAt\": { \"order\": \"desc\" } }]\n",
    "# }\n",
    "\n",
    "# response = queryApi.get_filings(query)\n",
    "\n",
    "# print(response)\n",
    "# extractorApi = ExtractorApi(os.getenv('SEC_API_KEY'))\n",
    "# url_10k = 'https://www.sec.gov/Archives/edgar/data/1318605/000162828024002390/tsla-20231231.htm'\n",
    "# item_1_text = extractorApi.get_section(url_10k, \"1\", \"text\")\n",
    "# print(item_1_text)\n",
    "\n",
    "# 10-K example\n",
    "# url_10k = \"https://www.sec.gov/Archives/edgar/data/1318605/000156459021004599/tsla-10k_20231231.htm\"\n",
    "\n",
    "# item_1A_text = extractorApi.get_section(url_10k, \"1A\", \"text\")\n",
    "# item_1_text = extractorApi.get_section(url_10k, \"1\", \"text\")\n",
    "\n",
    "# item_7_html = extractorApi.get_section(url_10k, \"7\", \"html\")\n",
    "\n",
    "# 10-Q example\n",
    "# url_10q = \"https://www.sec.gov/Archives/edgar/data/1318605/000095017022006034/tsla-20220331.htm\"\n",
    "\n",
    "# part2_item_1A_text = extractorApi.get_section(url_10q, \"part2item1a\", \"text\")\n",
    "\n",
    "# 8-K example\n",
    "# url_8k = \"https://www.sec.gov/Archives/edgar/data/66600/000149315222016468/form8-k.htm\"\n",
    "\n"
   ]
  },
  {
   "cell_type": "markdown",
   "id": "6bb88565-e7d2-45fa-bd9e-ec2ce541617d",
   "metadata": {},
   "source": [
    "# Add more OpenBB tools\n",
    "Map OpenBB functions to OpenAI tools"
   ]
  },
  {
   "cell_type": "code",
   "execution_count": 46,
   "id": "1bff06a3-e0d0-4207-90af-cf13146dc2f7",
   "metadata": {},
   "outputs": [],
   "source": [
    "# TODO:\n",
    "\n",
    "# check system prompt\n",
    "\n",
    "# check additional prompt improvements\n",
    "\n",
    "# make conversational ... return multiple symbols and have it clarify\n",
    "\n",
    "# add start_date and end_date for historical queries\n",
    "\n",
    "# use assistants API\n"
   ]
  },
  {
   "cell_type": "code",
   "execution_count": 47,
   "id": "d9fe9e8a-3956-4cca-bbc1-b2131ec4a954",
   "metadata": {},
   "outputs": [
    {
     "data": {
      "text/plain": [
       "\"{'openapi': '3.1.0', 'info': {'title': 'OpenBB Platform API', 'description': 'This is the OpenBB Platform API.', 'termsOfService': 'http://example.com/terms/', 'contact': {'name': 'OpenBB Team', 'url': 'https://openbb.co/', 'email': 'hello@openbb.co'}, 'license': {'name': 'MIT', 'url': 'https://github.com/OpenBB-finance/OpenBBTerminal/blob/develop/LICENSE'}, 'version': '1'}, 'servers': [{'url': 'http://localhost:8000', 'description': 'Local OpenBB development server'}], 'paths': {'/api/v1/commodity/lbma_fixing': {'get': {'tags': ['commodity'], 'summary': 'Lbma Fixing', 'description': 'Daily LBMA Fixing Prices in USD/EUR/GBP.', 'operationId': 'commodity_lbma_fixing', 'parameters': [{'name': 'provider', 'in': 'query', 'required': False, 'schema': {'enum': ['nasdaq'], 'const': 'nasdaq', 'type': 'string', 'default': 'nasdaq', 'title': 'Provider'}}, {'name': 'asset', 'in': 'query', 'required': False, 'schema': {'enum': ['gold', 'silver'], 'type': 'string', 'description': 'The metal to get price fixing rates for.', 'default': 'gold', 'title': 'Asset'}, 'description': 'The metal to get price fixing rates for.'}, {'name': 'start_date', 'in': 'query', 'required': False, 'schema': {'anyOf': [{'type': 'string', 'format': 'date'}, {'type': 'null'}], 'description': 'Start date of the data, in YYYY-MM-DD format.', 'title': 'Start Date'}, 'description': 'Start date of the data, in YYYY-MM-DD format.'}, {'name': 'end_date', 'in': 'query', 'required': False, 'schema': {'anyOf': [{'type': 'string', 'format': 'date'}, {'type': 'null'}], 'description': 'Start date of the data, in YYYY-MM-DD format.', 'title': 'End Date'}, 'description': 'Start date of the data, in YYYY-MM-DD format.'}, {'name': 'transform', 'in': 'query', 'required': False, 'schema': {'enum': ['diff', 'rdiff', 'cumul', 'normalize', None], 'description': 'Transform the data as difference, percent change, cumulative, or normalize.', 'title': 'Transform'}, 'description': 'Transform the data as difference, percent change, \""
      ]
     },
     "execution_count": 47,
     "metadata": {},
     "output_type": "execute_result"
    }
   ],
   "source": [
    "# load the OpenAPI / swagger spec from\n",
    "# http://127.0.0.1:8000/openapi.json\n",
    "with open(\"openapi.json\", 'r') as file:\n",
    "    data = json.load(file)\n",
    "\n",
    "str(data)[:2000]"
   ]
  },
  {
   "cell_type": "code",
   "execution_count": 48,
   "id": "b0ea067a-3b7e-4c50-aa87-c1a4baf07001",
   "metadata": {},
   "outputs": [
    {
     "name": "stdout",
     "output_type": "stream",
     "text": [
      "/api/v1/equity/calendar/ipo\n",
      "/api/v1/equity/calendar/dividend\n",
      "/api/v1/equity/calendar/splits\n",
      "/api/v1/equity/calendar/earnings\n",
      "/api/v1/equity/compare/peers\n",
      "/api/v1/equity/compare/groups\n",
      "/api/v1/equity/estimates/price_target\n",
      "/api/v1/equity/estimates/historical\n",
      "/api/v1/equity/estimates/consensus\n",
      "/api/v1/equity/estimates/analyst_search\n",
      "/api/v1/equity/estimates/forward_sales\n",
      "/api/v1/equity/estimates/forward_eps\n",
      "/api/v1/equity/darkpool/otc\n",
      "/api/v1/equity/discovery/gainers\n",
      "/api/v1/equity/discovery/losers\n",
      "/api/v1/equity/discovery/active\n",
      "/api/v1/equity/discovery/undervalued_large_caps\n",
      "/api/v1/equity/discovery/undervalued_growth\n",
      "/api/v1/equity/discovery/aggressive_small_caps\n",
      "/api/v1/equity/discovery/growth_tech\n",
      "/api/v1/equity/discovery/top_retail\n",
      "/api/v1/equity/discovery/upcoming_release_days\n",
      "/api/v1/equity/discovery/filings\n",
      "/api/v1/equity/fundamental/multiples\n",
      "/api/v1/equity/fundamental/balance\n",
      "/api/v1/equity/fundamental/balance_growth\n",
      "/api/v1/equity/fundamental/cash\n",
      "/api/v1/equity/fundamental/reported_financials\n",
      "/api/v1/equity/fundamental/cash_growth\n",
      "/api/v1/equity/fundamental/dividends\n",
      "/api/v1/equity/fundamental/historical_eps\n",
      "/api/v1/equity/fundamental/employee_count\n",
      "/api/v1/equity/fundamental/search_attributes\n",
      "/api/v1/equity/fundamental/latest_attributes\n",
      "/api/v1/equity/fundamental/historical_attributes\n",
      "/api/v1/equity/fundamental/income\n",
      "/api/v1/equity/fundamental/income_growth\n",
      "/api/v1/equity/fundamental/metrics\n",
      "/api/v1/equity/fundamental/management\n",
      "/api/v1/equity/fundamental/management_compensation\n",
      "/api/v1/equity/fundamental/overview\n",
      "/api/v1/equity/fundamental/ratios\n",
      "/api/v1/equity/fundamental/revenue_per_geography\n",
      "/api/v1/equity/fundamental/revenue_per_segment\n",
      "/api/v1/equity/fundamental/filings\n",
      "/api/v1/equity/fundamental/historical_splits\n",
      "/api/v1/equity/fundamental/transcript\n",
      "/api/v1/equity/fundamental/trailing_dividend_yield\n",
      "/api/v1/equity/ownership/major_holders\n",
      "/api/v1/equity/ownership/institutional\n",
      "/api/v1/equity/ownership/insider_trading\n",
      "/api/v1/equity/ownership/share_statistics\n",
      "/api/v1/equity/ownership/form_13f\n",
      "/api/v1/equity/price/quote\n",
      "/api/v1/equity/price/nbbo\n",
      "/api/v1/equity/price/historical\n",
      "/api/v1/equity/price/performance\n",
      "/api/v1/equity/shorts/fails_to_deliver\n",
      "/api/v1/equity/shorts/short_volume\n",
      "/api/v1/equity/shorts/short_interest\n",
      "/api/v1/equity/search\n",
      "/api/v1/equity/screener\n",
      "/api/v1/equity/profile\n",
      "/api/v1/equity/market_snapshots\n",
      "/api/v1/etf/equity_exposure\n"
     ]
    }
   ],
   "source": [
    "# list all the equity functions\n",
    "for path_str, fn_json in data['paths'].items():\n",
    "    if path_str.find('equity') != -1:\n",
    "        print(path_str)\n"
   ]
  },
  {
   "cell_type": "code",
   "execution_count": 49,
   "id": "137bc44a-9bea-42c4-b6e7-20cc0c17e2e2",
   "metadata": {},
   "outputs": [
    {
     "data": {
      "text/plain": [
       "{'get': {'tags': ['equity'],\n",
       "  'summary': 'Search',\n",
       "  'description': 'Search for stock symbol, CIK, LEI, or company name.',\n",
       "  'operationId': 'equity_search',\n",
       "  'parameters': [{'name': 'provider',\n",
       "    'in': 'query',\n",
       "    'required': True,\n",
       "    'schema': {'enum': ['cboe', 'intrinio', 'nasdaq', 'sec', 'tmx', 'tradier'],\n",
       "     'type': 'string',\n",
       "     'title': 'Provider'}},\n",
       "   {'name': 'query',\n",
       "    'in': 'query',\n",
       "    'required': False,\n",
       "    'schema': {'type': 'string',\n",
       "     'description': 'Search query.',\n",
       "     'default': '',\n",
       "     'title': 'Query'},\n",
       "    'description': 'Search query.'},\n",
       "   {'name': 'is_symbol',\n",
       "    'in': 'query',\n",
       "    'required': False,\n",
       "    'schema': {'type': 'boolean',\n",
       "     'description': 'Whether to search by ticker symbol.',\n",
       "     'default': False,\n",
       "     'title': 'Is Symbol'},\n",
       "    'description': 'Whether to search by ticker symbol.'},\n",
       "   {'name': 'use_cache',\n",
       "    'in': 'query',\n",
       "    'required': False,\n",
       "    'schema': {'anyOf': [{'type': 'boolean'}, {'type': 'null'}],\n",
       "     'description': 'Whether to use the cache or not.',\n",
       "     'default': True,\n",
       "     'title': 'Use Cache'},\n",
       "    'description': 'Whether to use the cache or not.'},\n",
       "   {'name': 'active',\n",
       "    'in': 'query',\n",
       "    'required': False,\n",
       "    'schema': {'anyOf': [{'type': 'boolean'}, {'type': 'null'}],\n",
       "     'title': 'intrinio',\n",
       "     'description': 'When true, return companies that are actively traded (having stock prices within the past 14 days). When false, return companies that are not actively traded or never have been traded. (provider: intrinio)',\n",
       "     'default': True},\n",
       "    'description': 'When true, return companies that are actively traded (having stock prices within the past 14 days). When false, return companies that are not actively traded or never have been traded. (provider: intrinio)'},\n",
       "   {'name': 'limit',\n",
       "    'in': 'query',\n",
       "    'required': False,\n",
       "    'schema': {'anyOf': [{'type': 'integer'}, {'type': 'null'}],\n",
       "     'title': 'intrinio',\n",
       "     'description': 'The number of data entries to return. (provider: intrinio)',\n",
       "     'default': 10000},\n",
       "    'description': 'The number of data entries to return. (provider: intrinio)'},\n",
       "   {'name': 'is_etf',\n",
       "    'in': 'query',\n",
       "    'required': False,\n",
       "    'schema': {'anyOf': [{'type': 'boolean'}, {'type': 'null'}],\n",
       "     'title': 'nasdaq',\n",
       "     'description': 'If True, returns ETFs. (provider: nasdaq)'},\n",
       "    'description': 'If True, returns ETFs. (provider: nasdaq)'},\n",
       "   {'name': 'is_fund',\n",
       "    'in': 'query',\n",
       "    'required': False,\n",
       "    'schema': {'type': 'boolean',\n",
       "     'title': 'sec',\n",
       "     'description': 'Whether to direct the search to the list of mutual funds and ETFs. (provider: sec)',\n",
       "     'default': False},\n",
       "    'description': 'Whether to direct the search to the list of mutual funds and ETFs. (provider: sec)'}],\n",
       "  'responses': {'200': {'description': 'Successful Response',\n",
       "    'content': {'application/json': {'schema': {'$ref': '#/components/schemas/OBBject_EquitySearch'}}}},\n",
       "   '404': {'description': 'Not found'},\n",
       "   '400': {'description': 'No Results Found',\n",
       "    'content': {'application/json': {'schema': {'$ref': '#/components/schemas/OpenBBErrorResponse'}}}},\n",
       "   '500': {'description': 'Internal Error',\n",
       "    'content': {'application/json': {'schema': {'$ref': '#/components/schemas/OpenBBErrorResponse'}}}},\n",
       "   '422': {'description': 'Validation Error',\n",
       "    'content': {'application/json': {'schema': {'$ref': '#/components/schemas/HTTPValidationError'}}}}},\n",
       "  'model': 'EquitySearch',\n",
       "  'examples': [{'scope': 'api',\n",
       "    'parameters': {'provider': 'intrinio'},\n",
       "    'provider': 'intrinio'},\n",
       "   {'scope': 'api',\n",
       "    'parameters': {'query': 'AAPL',\n",
       "     'is_symbol': 0.0,\n",
       "     'use_cache': 1.0,\n",
       "     'provider': 'nasdaq'},\n",
       "    'provider': 'nasdaq'}]}}"
      ]
     },
     "execution_count": 49,
     "metadata": {},
     "output_type": "execute_result"
    }
   ],
   "source": [
    "data['paths']['/api/v1/equity/search']\n"
   ]
  },
  {
   "cell_type": "code",
   "execution_count": 50,
   "id": "bec82a49-085a-4a98-8fc1-fea38316b058",
   "metadata": {},
   "outputs": [],
   "source": [
    "# using the openapi.json OpenAPI definition , output a proposed function to call the openbb function\n",
    "# might be a better way to do this with standard openapi tools to parse the spec. can generate stubs with\n",
    "# brew install openapi-generator\n",
    "# openapi-generator generate -i ./openapi.json -g python -o ./openbb_api --skip-validate-spec\n",
    "# this openapi.json has a bunch of 'examples' keys which are not supported, hence --skip-validate-spec \n",
    "\n",
    "# def fn_str(path_str):\n",
    "#     d = data['paths'][path_str]\n",
    "#     # operationId = d['get']['operationId']\n",
    "#     op = path_str.removeprefix(\"/api/v1/\")\n",
    "#     operation = op.replace('/', '.')    \n",
    "#     fn_name = op.replace('/', '_')\n",
    "#     docstring = f\"{d['get']['description']}\"\n",
    "#     req_params = \", \".join([p['name'] for p in d['get']['parameters'] if p['required']])\n",
    "#     opt_params = \", \".join([p['name'] for p in d['get']['parameters'] if not p['required']])\n",
    "\n",
    "#     retval = f\"\"\"\n",
    "# path:                 {path_str}\n",
    "# operation:            {operation}\n",
    "# summary:              {d['get']['summary']}\n",
    "# description:          {d['get']['description']}\n",
    "# required parameters:  {req_params}\n",
    "# optional parameters:  {opt_params}\n",
    "\n",
    "# def get_{fn_name}_json({req_params}):\n",
    "#     \\\"\\\"\\\"{docstring} (list)\n",
    "#     \\\"\\\"\\\"\n",
    "\n",
    "#     retval = None\n",
    "#     try:\n",
    "#         obj = obb.{operation}(symbol)\n",
    "#         if obj and obj.results:\n",
    "#             d = json.loads(obj.json())\n",
    "#             retval = json.dumps(d['results'])\n",
    "#     except Exception as exc:\n",
    "#         print(exc)\n",
    "#     return str(retval)\n",
    "\n",
    "# def get_{fn_name}_json({req_params}):\n",
    "#     \\\"\\\"\\\"{docstring} (singleton)\n",
    "#     \\\"\\\"\\\"\n",
    "\n",
    "#     retval = None\n",
    "#     try:\n",
    "#         obj = obb.{operation}(symbol)\n",
    "#         if obj and obj.results:\n",
    "#             d = json.loads(obj.json())\n",
    "#             retval = json.dumps(d['results'][0])\n",
    "#     except Exception as exc:\n",
    "#         print(exc)\n",
    "#     return str(retval)\n",
    "# \"\"\"\n",
    "#     return retval\n",
    "\n",
    "# path_str = '/api/v1/equity/search'\n",
    "# print(fn_str(path_str))"
   ]
  },
  {
   "cell_type": "code",
   "execution_count": 51,
   "id": "e5bc2548-b49f-48e6-9e09-3cde7d7a0151",
   "metadata": {},
   "outputs": [],
   "source": [
    "def get_equity_search_symbol(search_str):\n",
    "    \"\"\"Given a search string, get the stock symbol of the top company whose name best matches the search string.\n",
    "    \"\"\"\n",
    "    retval = None\n",
    "    try:\n",
    "        obj = obb.equity.search(search_str)\n",
    "        if obj and obj.results:\n",
    "            d = json.loads(obj.json())\n",
    "            retval = d['results'][0]\n",
    "    except Exception as exc:\n",
    "        print(exc)\n",
    "    return str(retval)\n",
    "\n",
    "fn_metadata = {\n",
    "    \"name\": \"get_equity_search_symbol\",\n",
    "    \"description\": \"Given a search string, get the stock symbol of the top company whose name best matches the search string.\",\n",
    "    \"openapi_path\" : '/api/v1/equity/search',\n",
    "    \"callable\": get_equity_search_symbol,\n",
    "    \"parameters\": {\n",
    "        \"search_str\": {\n",
    "            \"type\": \"string\",\n",
    "            \"description\": \"The search string to match to the stock symbol.\"\n",
    "            }\n",
    "        },\n",
    "    \"example_parameters\": [{\n",
    "        \"search_str\": \"Broadcom\",\n",
    "    }],\n",
    "}\n",
    "\n",
    "tools[fn_metadata[\"name\"]] = fn_metadata\n",
    "tools[fn_metadata[\"name\"]][\"example_str\"] = create_example_code(fn_metadata)\n",
    "tools[fn_metadata[\"name\"]][\"tooldict\"] = make_tool_dict(fn_metadata)\n"
   ]
  },
  {
   "cell_type": "code",
   "execution_count": 52,
   "id": "76dac714-dea8-4f9c-a532-07f119b06b19",
   "metadata": {},
   "outputs": [
    {
     "data": {
      "text/plain": [
       "{'name': 'get_equity_search_symbol',\n",
       " 'description': 'Given a search string, get the stock symbol of the top company whose name best matches the search string.',\n",
       " 'openapi_path': '/api/v1/equity/search',\n",
       " 'callable': <function __main__.get_equity_search_symbol(search_str)>,\n",
       " 'parameters': {'search_str': {'type': 'string',\n",
       "   'description': 'The search string to match to the stock symbol.'}},\n",
       " 'example_parameters': [{'search_str': 'Broadcom'}],\n",
       " 'example_str': 'get_equity_search_symbol(search_str=\"Broadcom\") -> {\\'symbol\\': \\'AVGO\\', \\'name\\': \\'BROADCOM INC COM\\', \\'dpm_name\\': \\'Susquehanna Securities, LLC\\', \\'post_station\\': \\'4/1\\'}',\n",
       " 'tooldict': {'type': 'function',\n",
       "  'function': {'name': 'get_equity_search_symbol',\n",
       "   'description': 'Given a search string, get the stock symbol of the top company whose name best matches the search string.',\n",
       "   'parameters': {'type': 'object',\n",
       "    'properties': {'search_str': {'type': 'string',\n",
       "      'description': 'The search string to match to the stock symbol.'}},\n",
       "    'required': ['search_str']}}}}"
      ]
     },
     "execution_count": 52,
     "metadata": {},
     "output_type": "execute_result"
    }
   ],
   "source": [
    "tools['get_equity_search_symbol']"
   ]
  },
  {
   "cell_type": "code",
   "execution_count": 53,
   "id": "c9e2f9e5-3843-4cfd-9492-30d2d7cb4316",
   "metadata": {},
   "outputs": [
    {
     "name": "stdout",
     "output_type": "stream",
     "text": [
      "Choice(finish_reason='tool_calls', index=0, logprobs=None, message=ChatCompletionMessage(content=None, role='assistant', function_call=None, tool_calls=[ChatCompletionMessageToolCall(id='call_XE24HMfHADBhKwCfA5iMfc8f', function=Function(arguments='{\"search_str\":\"Salesforce\"}', name='get_equity_search_symbol'), type='function')]))\n",
      "[ChatCompletionMessageToolCall(id='call_XE24HMfHADBhKwCfA5iMfc8f', function=Function(arguments='{\"search_str\":\"Salesforce\"}', name='get_equity_search_symbol'), type='function')]\n",
      "get_equity_search_symbol({'search_str': 'Salesforce'}) -> {'symbol': 'CRM', 'name': 'SALESFORCE INC COM', 'dpm_name': 'Citadel Securities LLC', 'post_station'...\n",
      "Choice(finish_reason='stop', index=0, logprobs=None, message=ChatCompletionMessage(content='The stock symbol for Salesforce is **CRM**.', role='assistant', function_call=None, tool_calls=None))\n"
     ]
    },
    {
     "data": {
      "text/markdown": [
       "The stock symbol for Salesforce is **CRM**."
      ],
      "text/plain": [
       "<IPython.core.display.Markdown object>"
      ]
     },
     "metadata": {},
     "output_type": "display_data"
    }
   ],
   "source": [
    "agent_query(\"What is the stock symbol for Salesforce?\", tools=tools, verbose=True)\n"
   ]
  },
  {
   "cell_type": "code",
   "execution_count": 54,
   "id": "89d587d2-7c8e-4edb-a855-d04e184afb3b",
   "metadata": {},
   "outputs": [
    {
     "name": "stdout",
     "output_type": "stream",
     "text": [
      "Choice(finish_reason='tool_calls', index=0, logprobs=None, message=ChatCompletionMessage(content=None, role='assistant', function_call=None, tool_calls=[ChatCompletionMessageToolCall(id='call_jdHYQ6OtrrvRaOry1SOs3pRe', function=Function(arguments='{\"search_str\":\"Microsoft\"}', name='get_equity_search_symbol'), type='function')]))\n",
      "[ChatCompletionMessageToolCall(id='call_jdHYQ6OtrrvRaOry1SOs3pRe', function=Function(arguments='{\"search_str\":\"Microsoft\"}', name='get_equity_search_symbol'), type='function')]\n",
      "get_equity_search_symbol({'search_str': 'Microsoft'}) -> {'symbol': 'MSFT', 'name': 'MICROSOFT CORP COM', 'dpm_name': 'Susquehanna Securities, LLC', 'post_st...\n",
      "Choice(finish_reason='tool_calls', index=0, logprobs=None, message=ChatCompletionMessage(content=None, role='assistant', function_call=None, tool_calls=[ChatCompletionMessageToolCall(id='call_yVWHFH1FQs9Yv9aL1pkG9Azj', function=Function(arguments='{\"symbol\":\"MSFT\"}', name='get_10k_item1_from_symbol'), type='function')]))\n",
      "[ChatCompletionMessageToolCall(id='call_yVWHFH1FQs9Yv9aL1pkG9Azj', function=Function(arguments='{\"symbol\":\"MSFT\"}', name='get_10k_item1_from_symbol'), type='function')]\n",
      "get_10k_item1_from_symbol({'symbol': 'MSFT'}) -> Note About Forward-Looking Statements\n",
      "This report includes estimates, projections, statements relati...\n",
      "Choice(finish_reason='stop', index=0, logprobs=None, message=ChatCompletionMessage(content=\"Item 1 from Microsoft's latest 10-K annual report provides a comprehensive overview of the company and its operations. Below are some key highlights:\\n\\n### General Overview\\n- **Mission**: Microsoft's mission is to empower every person and every organization on the planet to achieve more by creating local opportunity, growth, and impact in every country.\\n- **Technology Focus**: Emphasis on platforms and tools powered by artificial intelligence to support small and large business competitiveness, improve educational and health outcomes, grow public-sector efficiency, and empower human ingenuity.\\n\\n### Core Products and Services\\n- **Cloud-based Solutions**: Azure AI, Microsoft Cloud, Microsoft Power Platform.\\n- **Productivity Suite**: Microsoft 365 (Office 365), Dynamics 365, LinkedIn, Microsoft Viva.\\n- **Devices and Hardware**: Surface PCs, tablets, gaming consoles (Xbox), intelligent devic...\n"
     ]
    },
    {
     "data": {
      "text/markdown": [
       "Item 1 from Microsoft's latest 10-K annual report provides a comprehensive overview of the company and its operations. Below are some key highlights:\n",
       "\n",
       "### General Overview\n",
       "- **Mission**: Microsoft's mission is to empower every person and every organization on the planet to achieve more by creating local opportunity, growth, and impact in every country.\n",
       "- **Technology Focus**: Emphasis on platforms and tools powered by artificial intelligence to support small and large business competitiveness, improve educational and health outcomes, grow public-sector efficiency, and empower human ingenuity.\n",
       "\n",
       "### Core Products and Services\n",
       "- **Cloud-based Solutions**: Azure AI, Microsoft Cloud, Microsoft Power Platform.\n",
       "- **Productivity Suite**: Microsoft 365 (Office 365), Dynamics 365, LinkedIn, Microsoft Viva.\n",
       "- **Devices and Hardware**: Surface PCs, tablets, gaming consoles (Xbox), intelligent devices.\n",
       "- **Business Segments**:\n",
       "  - **Productivity and Business Processes**: Includes Office Commercial and Consumer services, LinkedIn, and Dynamics business solutions.\n",
       "  - **Intelligent Cloud**: Comprises Azure and other cloud services, server products, and Enterprise Services.\n",
       "  - **More Personal Computing**: Encompasses Windows, Devices, Gaming (Xbox), and Search & News Advertising.\n",
       "\n",
       "### Sustainability and Corporate Social Responsibility\n",
       "- **Sustainability Goals**: Committed to being carbon negative, water positive, and zero waste by 2030.\n",
       "- **Diversity and Inclusion**: Programs to address racial injustice and inequity, representation increase in leadership, and digital skills training worldwide.\n",
       "- **Global Workforce**: As of June 30, 2023, Microsoft employed approximately 221,000 people on a full-time basis in various roles across the U.S. and internationally.\n",
       "\n",
       "### Competitive Landscape\n",
       "- **Competitors**: Google, Amazon, IBM, Oracle, Apple, Sony, and local application developers, among others.\n",
       "- **Strategic Initiatives**: Investment in AI across the company, cloud infrastructure, hybrid work environments, and business solutions that enhance productivity, security, and collaboration.\n",
       "\n",
       "### Research and Development\n",
       "- **Investment Areas**: Cloud computing, AI, devices, operating systems, productivity tools.\n",
       "- **Research Operations**: Main facilities in Redmond, Washington, with additional R&D centers globally, focusing on a wide spectrum of technologies.\n",
       "\n",
       "### Distribution and Sales Channels\n",
       "- **OEMs**: Pre-installing software on new devices, large partnerships with OEMs like Dell, HP, Lenovo.\n",
       "- **Direct Sales**: Enterprise Agreements, digital marketplaces, online stores.\n",
       "- **Distributors and Resellers**: Licensing through partners, value-added resellers, and retail outlets.\n",
       "\n",
       "### Additional Information\n",
       "- **Brand and Culture**: Emphasis on growth mindset, employee feedback systems, diversity, and pay equity.\n",
       "- **Workplace Flexibility**: Hybrid work models, physical and mental wellness programs.\n",
       "\n",
       "This overview captures Microsoft's strategic positioning, operational focus, and approach to innovation and corporate responsibility. If you need more detailed information or specific sections from the report, please let me know!"
      ],
      "text/plain": [
       "<IPython.core.display.Markdown object>"
      ]
     },
     "metadata": {},
     "output_type": "display_data"
    }
   ],
   "source": [
    "# agent is able to first get symbol, then get annual report for symbol \n",
    "agent_query(\"What is item 1 from the 10k annual report for Microsoft?\", tools=tools, verbose=True)\n"
   ]
  },
  {
   "cell_type": "code",
   "execution_count": 73,
   "id": "8115c67b-db79-42da-b4d3-6ad9885c6aa6",
   "metadata": {},
   "outputs": [
    {
     "data": {
      "text/plain": [
       "'[{\"symbol\": \"AAPL\", \"asset_type\": \"stock\", \"name\": \"APPLE INC COM\", \"exchange\": null, \"bid\": 186.11, \"bid_size\": 6, \"bid_exchange\": null, \"ask\": 186.19, \"ask_size\": 2, \"ask_exchange\": null, \"quote_conditions\": null, \"quote_indicators\": null, \"sales_conditions\": null, \"sequence_number\": null, \"market_center\": null, \"participant_timestamp\": null, \"trf_timestamp\": null, \"sip_timestamp\": null, \"last_price\": 186.14, \"last_tick\": \"down\", \"last_size\": null, \"last_timestamp\": \"2024-05-13T15:59:59\", \"open\": 185.5, \"high\": 187.1, \"low\": 184.62, \"close\": 186.28, \"volume\": 72044809, \"exchange_volume\": null, \"prev_close\": 183.05, \"change\": 3.23, \"change_percent\": 0.017645, \"year_high\": 199.6199951171875, \"year_low\": 164.07000732421875, \"iv30\": 0.19427, \"iv30_change\": null, \"iv30_change_percent\": null, \"iv30_annual_high\": 0.3034000015258789, \"hv30_annual_high\": 0.28184000015258787, \"iv30_annual_low\": 0.15277999877929688, \"hv30_annual_low\": 0.12411399841308594, \"iv60_annual_high\": 0.27665000915527344, \"hv60_annual_high\": 0.24687000274658202, \"iv60_annual_low\": 0.1647999954223633, \"hv60_annual_low\": 0.13875, \"iv90_annual_high\": 0.2685799980163574, \"hv90_annual_high\": 0.23539100646972655, \"iv90_annual_low\": 0.18864999771118163, \"hv90_annual_low\": 0.16899900436401366}]'"
      ]
     },
     "execution_count": 73,
     "metadata": {},
     "output_type": "execute_result"
    }
   ],
   "source": [
    "tool = BB_agent_tool(\n",
    "    name=\"get_quote_json\",\n",
    "    description=\"Given a stock symbol, get the latest market data quote for the stock in JSON format.\",\n",
    "    openapi_path=\"/api/v1/equity/price/quote\",\n",
    "    parameters={\n",
    "        \"symbol\": {\n",
    "            \"type\": \"string\",\n",
    "            \"description\": \"The stock symbol.\"\n",
    "        }\n",
    "        },\n",
    "    example_parameter_values=[{\n",
    "        \"symbol\": \"NVDA\",\n",
    "    }],\n",
    ")\n",
    "\n",
    "tool('AAPL')\n"
   ]
  },
  {
   "cell_type": "code",
   "execution_count": 75,
   "id": "b3621a25-080b-4e03-81a0-986b176aa246",
   "metadata": {},
   "outputs": [],
   "source": [
    "tools[tool.name]=tool.make_metadata()\n"
   ]
  },
  {
   "cell_type": "code",
   "execution_count": 76,
   "id": "cb1503bd-4323-453e-9405-22f1eb65f45d",
   "metadata": {},
   "outputs": [
    {
     "data": {
      "text/plain": [
       "{'get_10k_item1_from_symbol': {'name': 'get_10k_item1_from_symbol',\n",
       "  'description': \"Given a stock symbol, gets item 1 of the company's latest 10-K annual report filing.\",\n",
       "  'openapi_path': None,\n",
       "  'callable': <function __main__.get_10k_item1_from_symbol(symbol)>,\n",
       "  'parameters': {'symbol': {'type': 'string',\n",
       "    'description': 'The symbol to get the 10-K item 1 for'}},\n",
       "  'example_parameters': [{'symbol': 'MSFT'}],\n",
       "  'tooldict': {'type': 'function',\n",
       "   'function': {'name': 'get_10k_item1_from_symbol',\n",
       "    'description': \"Given a stock symbol, gets item 1 of the company's latest 10-K annual report filing.\",\n",
       "    'parameters': {'type': 'object',\n",
       "     'properties': {'symbol': {'type': 'string',\n",
       "       'description': 'The symbol to get the 10-K item 1 for'}},\n",
       "     'required': ['symbol']}}}},\n",
       " 'get_equity_search_symbol': {'name': 'get_equity_search_symbol',\n",
       "  'description': 'Given a search string, get the stock symbol of the top company whose name best matches the search string.',\n",
       "  'openapi_path': '/api/v1/equity/search',\n",
       "  'callable': <function __main__.get_equity_search_symbol(search_str)>,\n",
       "  'parameters': {'search_str': {'type': 'string',\n",
       "    'description': 'The search string to match to the stock symbol.'}},\n",
       "  'example_parameters': [{'search_str': 'Broadcom'}],\n",
       "  'example_str': 'get_equity_search_symbol(search_str=\"Broadcom\") -> {\\'symbol\\': \\'AVGO\\', \\'name\\': \\'BROADCOM INC COM\\', \\'dpm_name\\': \\'Susquehanna Securities, LLC\\', \\'post_station\\': \\'4/1\\'}',\n",
       "  'tooldict': {'type': 'function',\n",
       "   'function': {'name': 'get_equity_search_symbol',\n",
       "    'description': 'Given a search string, get the stock symbol of the top company whose name best matches the search string.',\n",
       "    'parameters': {'type': 'object',\n",
       "     'properties': {'search_str': {'type': 'string',\n",
       "       'description': 'The search string to match to the stock symbol.'}},\n",
       "     'required': ['search_str']}}}},\n",
       " 'get_quote_json': {'name': 'get_quote_json',\n",
       "  'description': 'Given a stock symbol, get the latest market data quote for the stock in JSON format.',\n",
       "  'openapi_path': '/api/v1/equity/price/quote',\n",
       "  'callable': <__main__.BB_agent_tool at 0x335f30b50>,\n",
       "  'parameters': {'symbol': {'type': 'string',\n",
       "    'description': 'The stock symbol.'}},\n",
       "  'example_parameters': [{'symbol': 'NVDA'}],\n",
       "  'tooldict': {'type': 'function',\n",
       "   'function': {'name': 'get_quote_json',\n",
       "    'description': 'Given a stock symbol, get the latest market data quote for the stock in JSON format.',\n",
       "    'parameters': {'type': 'object',\n",
       "     'properties': {'symbol': {'type': 'string',\n",
       "       'description': 'The stock symbol.'}},\n",
       "     'required': ['symbol']}}},\n",
       "  'example_str': 'get_quote_json(symbol=\"NVDA\") -> id=\\'06642d3e-a8f0-7fcf-8000-252c1a0f7969\\' results=[CboeEquityQuoteData(symbol=NVDA, asset_type=stock, name=NVIDIA CORPORATION COM, exchange=None, bid=902.55, bid_size=1, bid_exchange=None, ask=902.8, ask_size=2, ask_exchange=None, quote_conditions=None, quote_indicators=None, sales_conditions=None, sequence_number=None, market_center=None, participant_timestamp=None, trf_timestamp=None, sip_timestamp=None, last_price=902.58, last_tick=down, last_size=None, last_timestamp=2024-05-13 15:59:59, open=904.83, high=909.98, low=885.29, close=903.99, volume=28968017, exchange_volume=None, prev_close=898.78, change=5.21, change_percent=0.005797, year_high=974.0, year_low=280.4599914550781, iv30=0.56413, iv30_change=None, iv30_change_percent=None, iv30_annual_high=0.6712400054931641, hv30_annual_high=0.7542350006103515, iv30_annual_low=0.3138199996948242, hv30_annual_low=0.26787900924682617, iv60_annual_high=0.5873099899291992, hv60_annual_high=0.6172460174560547, iv60_annual_low=0.338489990234375, hv60_annual_low=0.28717899322509766, iv90_annual_high=0.604729995727539, hv90_annual_high=0.5864540100097656, iv90_annual_low=0.36759998321533205, hv90_annual_low=0.3167770004272461)] provider=\\'cboe\\' warnings=None chart=None extra={\\'metadata\\': Metadata\\n\\narguments: {\\'provider_choices\\': {\\'provider\\': \\'cboe\\'}, \\'standard_params\\': {\\'symbol\\': \\'NVDA\\'}, \\'extra_params\\': {}}\\nduration: 322478083\\nroute: /equity/price/quote\\ntimestamp: 2024-05-13 23:00:58.239707}'}}"
      ]
     },
     "execution_count": 76,
     "metadata": {},
     "output_type": "execute_result"
    }
   ],
   "source": [
    "tools"
   ]
  },
  {
   "cell_type": "code",
   "execution_count": 77,
   "id": "dfbb955c-dab6-439a-9694-7c8da2aef680",
   "metadata": {},
   "outputs": [
    {
     "name": "stdout",
     "output_type": "stream",
     "text": [
      "Choice(finish_reason='tool_calls', index=0, logprobs=None, message=ChatCompletionMessage(content=None, role='assistant', function_call=None, tool_calls=[ChatCompletionMessageToolCall(id='call_qLFWhS2OlUaLuJRbNa0o4uh0', function=Function(arguments='{\"symbol\":\"MRK\"}', name='get_quote_json'), type='function')]))\n",
      "[ChatCompletionMessageToolCall(id='call_qLFWhS2OlUaLuJRbNa0o4uh0', function=Function(arguments='{\"symbol\":\"MRK\"}', name='get_quote_json'), type='function')]\n",
      "get_quote_json({'symbol': 'MRK'}) -> [{\"symbol\": \"MRK\", \"asset_type\": \"stock\", \"name\": \"MERCK & CO INC COM\", \"exchange\": null, \"bid\": 127...\n",
      "Choice(finish_reason='stop', index=0, logprobs=None, message=ChatCompletionMessage(content='As of May 13, 2024, the latest market quote for Merck & Co., Inc. (symbol: MRK) is as follows:\\n\\n- **Last Price:** $129.29 (last up tick)\\n- **Opening Price:** $129.90\\n- **Day High:** $129.71\\n- **Day Low:** $128.02\\n- **Previous Close:** $130.06\\n- **Change:** -$0.77 (-0.59%)\\n- **Bid Price:** $127.44\\n- **Ask Price:** $130.55\\n- **Volume:** 7,109,715 shares\\n\\nAdditionally, the 52-week high is $133.10, and the 52-week low is $99.14.', role='assistant', function_call=None, tool_calls=None))\n"
     ]
    },
    {
     "data": {
      "text/markdown": [
       "As of May 13, 2024, the latest market quote for Merck & Co., Inc. (symbol: MRK) is as follows:\n",
       "\n",
       "- **Last Price:** \\\\$129.29 (last up tick)\n",
       "- **Opening Price:** \\\\$129.90\n",
       "- **Day High:** \\\\$129.71\n",
       "- **Day Low:** \\\\$128.02\n",
       "- **Previous Close:** \\\\$130.06\n",
       "- **Change:** -\\\\$0.77 (-0.59%)\n",
       "- **Bid Price:** \\\\$127.44\n",
       "- **Ask Price:** \\\\$130.55\n",
       "- **Volume:** 7,109,715 shares\n",
       "\n",
       "Additionally, the 52-week high is \\\\$133.10, and the 52-week low is \\\\$99.14."
      ],
      "text/plain": [
       "<IPython.core.display.Markdown object>"
      ]
     },
     "metadata": {},
     "output_type": "display_data"
    }
   ],
   "source": [
    "agent_query(f\"What is the last market quote for symbol {symbol}?\", tools=tools, verbose=True)\n"
   ]
  },
  {
   "cell_type": "code",
   "execution_count": 79,
   "id": "28c4c33a-a15d-4b77-94a6-952f17982bab",
   "metadata": {},
   "outputs": [
    {
     "data": {
      "text/plain": [
       "'[{\"symbol\": \"AAPL\", \"name\": \"Apple Inc\", \"cik\": null, \"cusip\": null, \"isin\": null, \"lei\": null, \"legal_name\": null, \"stock_exchange\": \"NASD\", \"sic\": null, \"short_description\": null, \"long_description\": \"Apple, Inc. engages in the design, manufacture, and sale of smartphones, personal computers, tablets, wearables and accessories, and other varieties of related services. It operates through the following geographical segments: Americas, Europe, Greater China, Japan, and Rest of Asia Pacific. The Americas segment includes North and South America. The Europe segment consists of European countries, as well as India, the Middle East, and Africa. The Greater China segment comprises China, Hong Kong, and Taiwan. The Rest of Asia Pacific segment includes Australia and Asian countries. Its products and services include iPhone, Mac, iPad, AirPods, Apple TV, Apple Watch, Beats products, AppleCare, iCloud, digital content stores, streaming, and licensing services. The company was founded by Steven Paul Jobs, Ronald Gerald Wayne, and Stephen G. Wozniak in April 1976 and is headquartered in Cupertino, CA.\", \"ceo\": null, \"company_url\": null, \"business_address\": null, \"mailing_address\": null, \"business_phone_no\": null, \"hq_address1\": null, \"hq_address2\": null, \"hq_address_city\": null, \"hq_address_postal_code\": null, \"hq_state\": null, \"hq_country\": \"USA\", \"inc_state\": null, \"inc_country\": null, \"employees\": 161000, \"entity_legal_form\": null, \"entity_status\": null, \"latest_filing_date\": null, \"irs_number\": null, \"sector\": \"Technology\", \"industry_category\": \"Consumer Electronics\", \"industry_group\": null, \"template\": null, \"standardized_active\": null, \"first_fundamental_date\": null, \"last_fundamental_date\": null, \"first_stock_price_date\": null, \"last_stock_price_date\": null, \"index\": \"DJIA, NDX, S&P 500\", \"optionable\": null, \"shortable\": null, \"shares_outstanding\": \"15.55B\", \"shares_float\": \"15.32B\", \"short_interest\": \"94.31M\", \"institutional_ownership\": 0.6243, \"market_cap\": \"2856.44B\", \"dividend_yield\": null, \"earnings_date\": \"May 02 AMC\", \"beta\": 1.24}]'"
      ]
     },
     "execution_count": 79,
     "metadata": {},
     "output_type": "execute_result"
    }
   ],
   "source": [
    "tool = BB_agent_tool(\n",
    "    name=\"get_company_profile_json\",\n",
    "    description=\"Given a stock symbol, get general background data about the company such as company name, industry, and sector data in JSON format\",\n",
    "    openapi_path='/api/v1/equity/profile',\n",
    "    parameters={\n",
    "        \"symbol\": {\n",
    "            \"type\": \"string\",\n",
    "            \"description\": \"The stock symbol.\"\n",
    "        }\n",
    "        },\n",
    "    example_parameter_values=[{\n",
    "        \"symbol\": \"NVDA\",\n",
    "    }],\n",
    ")\n",
    "tools[tool.name]=tool.make_metadata()\n",
    "\n",
    "tool('AAPL')\n"
   ]
  },
  {
   "cell_type": "code",
   "execution_count": 80,
   "id": "43940e93-7b8c-4cf6-9282-6b8fdcfb6095",
   "metadata": {},
   "outputs": [
    {
     "name": "stdout",
     "output_type": "stream",
     "text": [
      "get_company_profile_json({'symbol': 'MRK'}) -> "
     ]
    },
    {
     "name": "stderr",
     "output_type": "stream",
     "text": [
      "Exception ignored in: <function BB_agent_tool.__del__ at 0x31d7f8540>\n",
      "Traceback (most recent call last):\n",
      "  File \"/var/folders/6d/3xz907yn5ylg43s2vlnnzptr0000gn/T/ipykernel_22099/3936278489.py\", line 21, in __del__\n",
      "AttributeError: 'BB_agent_tool' object has no attribute 'tool_name'\n",
      "Exception ignored in: <function BB_agent_tool.__del__ at 0x3359cb920>\n",
      "Traceback (most recent call last):\n",
      "  File \"/var/folders/6d/3xz907yn5ylg43s2vlnnzptr0000gn/T/ipykernel_22099/2930527438.py\", line 21, in __del__\n",
      "KeyError: 'get_quote_json'\n"
     ]
    },
    {
     "name": "stdout",
     "output_type": "stream",
     "text": [
      "[{\"symbol\": \"MRK\", \"name\": \"Merck & Co Inc\", \"cik\": null, \"cusip\": null, \"isin\": null, \"lei\": null, ...\n"
     ]
    },
    {
     "data": {
      "text/markdown": [
       "### Merck & Co., Inc. (Symbol: MRK)\n",
       "\n",
       "**Business Description:**\n",
       "Merck & Co., Inc. is a leading health care company focused on providing health solutions through a range of products. The company operates in the following segments:\n",
       "- **Pharmaceutical:** Includes human health pharmaceutical and vaccine products.\n",
       "- **Animal Health:** Focuses on discovering, developing, manufacturing, and marketing pharmaceutical and vaccine products for the prevention, treatment, and control of disease in livestock and companion animal species.\n",
       "- **Other:** Comprises sales from non-reportable segments of healthcare services.\n",
       "\n",
       "**Basic Details:**\n",
       "- **Founded:** 1891\n",
       "- **Headquarters:** Rahway, NJ, USA\n",
       "- **Sector:** Healthcare\n",
       "- **Industry Category:** Drug Manufacturers - General\n",
       "- **Stock Exchange:** NYSE\n",
       "- **Indexes:** DJIA, S&P 500\n",
       "- **Employees:** 72,000\n",
       "- **Market Capitalization:** \\\\$327.47 billion\n",
       "- **Shares Outstanding:** 2.53 billion\n",
       "- **Institutional Ownership:** 78.09%\n",
       "- **Short Interest:** 18.75 million\n",
       "- **Earnings Date:** April 25 (Before Market Open)\n",
       "- **Beta:** 0.42\n",
       "\n",
       "Merck & Co., Inc. is known for its prescription medicines, vaccines, biologic therapies, animal health, and consumer care products, aiming to enhance the quality of life and health care for people and animals around the world."
      ],
      "text/plain": [
       "<IPython.core.display.Markdown object>"
      ]
     },
     "metadata": {},
     "output_type": "display_data"
    }
   ],
   "source": [
    "agent_query(f\"Can you provide a basic company profile of symbol {symbol}\", tools=tools, verbose=False)\n"
   ]
  },
  {
   "cell_type": "code",
   "execution_count": 82,
   "id": "040be374-f8c2-4453-9ded-4abab760db1d",
   "metadata": {},
   "outputs": [
    {
     "data": {
      "text/plain": [
       "'[{\"settlement_date\": \"2021-07-15\", \"symbol\": \"AAPL\", \"issue_name\": \"Apple Inc. Common Stock\", \"market_class\": \"NNM\", \"current_short_position\": 96355309.0, \"previous_short_position\": 90213531.0, \"avg_daily_volume\": 96035157.0, \"days_to_cover\": 1.0, \"change\": 6141778.0, \"change_pct\": 6.81}, {\"settlement_date\": \"2021-07-30\", \"symbol\": \"AAPL\", \"issue_name\": \"Apple Inc. Common Stock\", \"market_class\": \"NNM\", \"current_short_position\": 93114834.0, \"previous_short_position\": 96355309.0, \"avg_daily_volume\": 87082127.0, \"days_to_cover\": 1.07, \"change\": -3240475.0, \"change_pct\": -3.36}, {\"settlement_date\": \"2021-08-13\", \"symbol\": \"AAPL\", \"issue_name\": \"Apple Inc. Common Stock\", \"market_class\": \"NNM\", \"current_short_position\": 93105968.0, \"previous_short_position\": 93114834.0, \"avg_daily_volume\": 58359210.0, \"days_to_cover\": 1.6, \"change\": -8866.0, \"change_pct\": -0.01}, {\"settlement_date\": \"2021-08-31\", \"symbol\": \"AAPL\", \"issue_name\": \"Apple Inc. Common Stock\", \"market_class\": \"NNM\", \"current_short_position\": 96838699.0, \"previous_short_position\": 93105968.0, \"avg_daily_volume\": 73166957.0, \"days_to_cover\": 1.32, \"change\": 3732731.0, \"change_pct\": 4.01}, {\"settlement_date\": \"2021-09-15\", \"symbol\": \"AAPL\", \"issue_name\": \"Apple Inc. Common Stock\", \"market_class\": \"NNM\", \"current_short_position\": 100926641.0, \"previous_short_position\": 96838699.0, \"avg_daily_volume\": 85877391.0, \"days_to_cover\": 1.18, \"change\": 4087942.0, \"change_pct\": 4.22}, {\"settlement_date\": \"2021-09-30\", \"symbol\": \"AAPL\", \"issue_name\": \"Apple Inc. Common Stock\", \"market_class\": \"NNM\", \"current_short_position\": 101107412.0, \"previous_short_position\": 100926641.0, \"avg_daily_volume\": 85267103.0, \"days_to_cover\": 1.19, \"change\": 180771.0, \"change_pct\": 0.18}, {\"settlement_date\": \"2021-10-15\", \"symbol\": \"AAPL\", \"issue_name\": \"Apple Inc. Common Stock\", \"market_class\": \"NNM\", \"current_short_position\": 100881318.0, \"previous_short_position\": 101107412.0, \"avg_daily_volume\": 75552901.0, \"days_to_cover\": 1.34, \"change\": -226094.0, \"change_pct\": -0.22}, {\"settlement_date\": \"2021-10-29\", \"symbol\": \"AAPL\", \"issue_name\": \"Apple Inc. Common Stock\", \"market_class\": \"NNM\", \"current_short_position\": 100495541.0, \"previous_short_position\": 100881318.0, \"avg_daily_volume\": 73263148.0, \"days_to_cover\": 1.37, \"change\": -385777.0, \"change_pct\": -0.38}, {\"settlement_date\": \"2021-11-15\", \"symbol\": \"AAPL\", \"issue_name\": \"Apple Inc. Common Stock\", \"market_class\": \"NNM\", \"current_short_position\": 99688619.0, \"previous_short_position\": 100495541.0, \"avg_daily_volume\": 60492413.0, \"days_to_cover\": 1.65, \"change\": -806922.0, \"change_pct\": -0.8}, {\"settlement_date\": \"2021-11-30\", \"symbol\": \"AAPL\", \"issue_name\": \"Apple Inc. Common Stock\", \"market_class\": \"NNM\", \"current_short_position\": 112598907.0, \"previous_short_position\": 99688619.0, \"avg_daily_volume\": 102461927.0, \"days_to_cover\": 1.1, \"change\": 12910288.0, \"change_pct\": 12.95}, {\"settlement_date\": \"2021-12-15\", \"symbol\": \"AAPL\", \"issue_name\": \"Apple Inc. Common Stock\", \"market_class\": \"NNM\", \"current_short_position\": 113277024.0, \"previous_short_position\": 112598907.0, \"avg_daily_volume\": 127182437.0, \"days_to_cover\": 1.0, \"change\": 678117.0, \"change_pct\": 0.6}, {\"settlement_date\": \"2021-12-31\", \"symbol\": \"AAPL\", \"issue_name\": \"Apple Inc. Common Stock\", \"market_class\": \"NNM\", \"current_short_position\": 95908325.0, \"previous_short_position\": 113277024.0, \"avg_daily_volume\": 95019341.0, \"days_to_cover\": 1.01, \"change\": -17368699.0, \"change_pct\": -15.33}, {\"settlement_date\": \"2022-01-14\", \"symbol\": \"AAPL\", \"issue_name\": \"Apple Inc. Common Stock\", \"market_class\": \"NNM\", \"current_short_position\": 90492581.0, \"previous_short_position\": 95908325.0, \"avg_daily_volume\": 90514428.0, \"days_to_cover\": 1.0, \"change\": -5415744.0, \"change_pct\": -5.65}, {\"settlement_date\": \"2022-01-31\", \"symbol\": \"AAPL\", \"issue_name\": \"Apple Inc. Common Stock\", \"market_class\": \"NNM\", \"current_short_position\": 91388112.0, \"previous_short_position\": 90492581.0, \"avg_daily_volume\": 120320268.0, \"days_to_cover\": 1.0, \"change\": 895531.0, \"change_pct\": 0.99}, {\"settlement_date\": \"2022-02-15\", \"symbol\": \"AAPL\", \"issue_name\": \"Apple Inc. Common Stock\", \"market_class\": \"NNM\", \"current_short_position\": 108944701.0, \"previous_short_position\": 91388112.0, \"avg_daily_volume\": 82330433.0, \"days_to_cover\": 1.32, \"change\": 17556589.0, \"change_pct\": 19.21}, {\"settlement_date\": \"2022-02-28\", \"symbol\": \"AAPL\", \"issue_name\": \"Apple Inc. Common Stock\", \"market_class\": \"NNM\", \"current_short_position\": 110322490.0, \"previous_short_position\": 108944701.0, \"avg_daily_volume\": 88680423.0, \"days_to_cover\": 1.24, \"change\": 1377789.0, \"change_pct\": 1.26}, {\"settlement_date\": \"2022-03-15\", \"symbol\": \"AAPL\", \"issue_name\": \"Apple Inc. Common Stock\", \"market_class\": \"NNM\", \"current_short_position\": 111286790.0, \"previous_short_position\": 110322490.0, \"avg_daily_volume\": 95077016.0, \"days_to_cover\": 1.17, \"change\": 964300.0, \"change_pct\": 0.87}, {\"settlement_date\": \"2022-03-31\", \"symbol\": \"AAPL\", \"issue_name\": \"Apple Inc. Common Stock\", \"market_class\": \"NNM\", \"current_short_position\": 101969098.0, \"previous_short_position\": 111286790.0, \"avg_daily_volume\": 94420168.0, \"days_to_cover\": 1.08, \"change\": -9317692.0, \"change_pct\": -8.37}, {\"settlement_date\": \"2022-04-14\", \"symbol\": \"AAPL\", \"issue_name\": \"Apple Inc. Common Stock\", \"market_class\": \"NNM\", \"current_short_position\": 103292182.0, \"previous_short_position\": 101969098.0, \"avg_daily_volume\": 76887776.0, \"days_to_cover\": 1.34, \"change\": 1323084.0, \"change_pct\": 1.3}, {\"settlement_date\": \"2022-04-29\", \"symbol\": \"AAPL\", \"issue_name\": \"Apple Inc. Common Stock\", \"market_class\": \"NNM\", \"current_short_position\": 103977276.0, \"previous_short_position\": 103292182.0, \"avg_daily_volume\": 91723750.0, \"days_to_cover\": 1.13, \"change\": 685094.0, \"change_pct\": 0.66}, {\"settlement_date\": \"2022-05-13\", \"symbol\": \"AAPL\", \"issue_name\": \"Apple Inc. Common Stock\", \"market_class\": \"NNM\", \"current_short_position\": 108695931.0, \"previous_short_position\": 103977276.0, \"avg_daily_volume\": 125268507.0, \"days_to_cover\": 1.0, \"change\": 4718655.0, \"change_pct\": 4.54}, {\"settlement_date\": \"2022-05-31\", \"symbol\": \"AAPL\", \"issue_name\": \"Apple Inc. Common Stock\", \"market_class\": \"NNM\", \"current_short_position\": 113283277.0, \"previous_short_position\": 108695931.0, \"avg_daily_volume\": 104301959.0, \"days_to_cover\": 1.09, \"change\": 4587346.0, \"change_pct\": 4.22}, {\"settlement_date\": \"2022-06-15\", \"symbol\": \"AAPL\", \"issue_name\": \"Apple Inc. Common Stock\", \"market_class\": \"NNM\", \"current_short_position\": 120066688.0, \"previous_short_position\": 113283277.0, \"avg_daily_volume\": 81613977.0, \"days_to_cover\": 1.47, \"change\": 6783411.0, \"change_pct\": 5.99}, {\"settlement_date\": \"2022-06-30\", \"symbol\": \"AAPL\", \"issue_name\": \"Apple Inc. Common Stock\", \"market_class\": \"NNM\", \"current_short_position\": 112994371.0, \"previous_short_position\": 120066688.0, \"avg_daily_volume\": 86716392.0, \"days_to_cover\": 1.3, \"change\": -7072317.0, \"change_pct\": -5.89}, {\"settlement_date\": \"2022-07-15\", \"symbol\": \"AAPL\", \"issue_name\": \"Apple Inc. Common Stock\", \"market_class\": \"NNM\", \"current_short_position\": 104993162.0, \"previous_short_position\": 112994371.0, \"avg_daily_volume\": 71570113.0, \"days_to_cover\": 1.47, \"change\": -8001209.0, \"change_pct\": -7.08}, {\"settlement_date\": \"2022-07-29\", \"symbol\": \"AAPL\", \"issue_name\": \"Apple Inc. Common Stock\", \"market_class\": \"NNM\", \"current_short_position\": 107535584.0, \"previous_short_position\": 104993162.0, \"avg_daily_volume\": 73127045.0, \"days_to_cover\": 1.47, \"change\": 2542422.0, \"change_pct\": 2.42}, {\"settlement_date\": \"2022-08-15\", \"symbol\": \"AAPL\", \"issue_name\": \"Apple Inc. Common Stock\", \"market_class\": \"NNM\", \"current_short_position\": 115400891.0, \"previous_short_position\": 107535584.0, \"avg_daily_volume\": 63151561.0, \"days_to_cover\": 1.83, \"change\": 7865307.0, \"change_pct\": 7.31}, {\"settlement_date\": \"2022-08-31\", \"symbol\": \"AAPL\", \"issue_name\": \"Apple Inc. Common Stock\", \"market_class\": \"NNM\", \"current_short_position\": 113066596.0, \"previous_short_position\": 115400891.0, \"avg_daily_volume\": 67830391.0, \"days_to_cover\": 1.67, \"change\": -2334295.0, \"change_pct\": -2.02}, {\"settlement_date\": \"2022-09-15\", \"symbol\": \"AAPL\", \"issue_name\": \"Apple Inc. Common Stock\", \"market_class\": \"NNM\", \"current_short_position\": 116076947.0, \"previous_short_position\": 113066596.0, \"avg_daily_volume\": 87048374.0, \"days_to_cover\": 1.33, \"change\": 3010351.0, \"change_pct\": 2.66}, {\"settlement_date\": \"2022-09-30\", \"symbol\": \"AAPL\", \"issue_name\": \"Apple Inc. Common Stock\", \"market_class\": \"NNM\", \"current_short_position\": 103251184.0, \"previous_short_position\": 116076947.0, \"avg_daily_volume\": 110439712.0, \"days_to_cover\": 1.0, \"change\": -12825763.0, \"change_pct\": -11.05}, {\"settlement_date\": \"2022-10-14\", \"symbol\": \"AAPL\", \"issue_name\": \"Apple Inc. Common Stock\", \"market_class\": \"NNM\", \"current_short_position\": 108664761.0, \"previous_short_position\": 103251184.0, \"avg_daily_volume\": 85960932.0, \"days_to_cover\": 1.26, \"change\": 5413577.0, \"change_pct\": 5.24}, {\"settlement_date\": \"2022-10-31\", \"symbol\": \"AAPL\", \"issue_name\": \"Apple Inc. Common Stock\", \"market_class\": \"NNM\", \"current_short_position\": 103178670.0, \"previous_short_position\": 108664761.0, \"avg_daily_volume\": 91546622.0, \"days_to_cover\": 1.13, \"change\": -5486091.0, \"change_pct\": -5.05}, {\"settlement_date\": \"2022-11-15\", \"symbol\": \"AAPL\", \"issue_name\": \"Apple Inc. Common Stock\", \"market_class\": \"NNM\", \"current_short_position\": 114431895.0, \"previous_short_position\": 103178670.0, \"avg_daily_volume\": 94210713.0, \"days_to_cover\": 1.21, \"change\": 11253225.0, \"change_pct\": 10.91}, {\"settlement_date\": \"2022-11-30\", \"symbol\": \"AAPL\", \"issue_name\": \"Apple Inc. Common Stock\", \"market_class\": \"NNM\", \"current_short_position\": 125719918.0, \"previous_short_position\": 114431895.0, \"avg_daily_volume\": 68776114.0, \"days_to_cover\": 1.83, \"change\": 11288023.0, \"change_pct\": 9.86}, {\"settlement_date\": \"2022-12-15\", \"symbol\": \"AAPL\", \"issue_name\": \"Apple Inc. Common Stock\", \"market_class\": \"NNM\", \"current_short_position\": 121757434.0, \"previous_short_position\": 125719918.0, \"avg_daily_volume\": 74824553.0, \"days_to_cover\": 1.63, \"change\": -3962484.0, \"change_pct\": -3.15}, {\"settlement_date\": \"2022-12-30\", \"symbol\": \"AAPL\", \"issue_name\": \"Apple Inc. Common Stock\", \"market_class\": \"NNM\", \"current_short_position\": 124024570.0, \"previous_short_position\": 121757434.0, \"avg_daily_volume\": 85155771.0, \"days_to_cover\": 1.46, \"change\": 2267136.0, \"change_pct\": 1.86}, {\"settlement_date\": \"2023-01-13\", \"symbol\": \"AAPL\", \"issue_name\": \"Apple Inc. Common Stock\", \"market_class\": \"NNM\", \"current_short_position\": 121868919.0, \"previous_short_position\": 124024570.0, \"avg_daily_volume\": 78086696.0, \"days_to_cover\": 1.56, \"change\": -2155651.0, \"change_pct\": -1.74}, {\"settlement_date\": \"2023-01-31\", \"symbol\": \"AAPL\", \"issue_name\": \"Apple Inc. Common Stock\", \"market_class\": \"NNM\", \"current_short_position\": 115480341.0, \"previous_short_position\": 121868919.0, \"avg_daily_volume\": 67231604.0, \"days_to_cover\": 1.72, \"change\": -6388578.0, \"change_pct\": -5.24}, {\"settlement_date\": \"2023-02-15\", \"symbol\": \"AAPL\", \"issue_name\": \"Apple Inc. Common Stock\", \"market_class\": \"NNM\", \"current_short_position\": 104341256.0, \"previous_short_position\": 115480341.0, \"avg_daily_volume\": 79071301.0, \"days_to_cover\": 1.32, \"change\": -11139085.0, \"change_pct\": -9.65}, {\"settlement_date\": \"2023-02-28\", \"symbol\": \"AAPL\", \"issue_name\": \"Apple Inc. Common Stock\", \"market_class\": \"NNM\", \"current_short_position\": 110773312.0, \"previous_short_position\": 104341256.0, \"avg_daily_volume\": 55269076.0, \"days_to_cover\": 2.0, \"change\": 6432056.0, \"change_pct\": 6.16}, {\"settlement_date\": \"2023-03-15\", \"symbol\": \"AAPL\", \"issue_name\": \"Apple Inc. Common Stock\", \"market_class\": \"NNM\", \"current_short_position\": 107424880.0, \"previous_short_position\": 110773312.0, \"avg_daily_volume\": 66017030.0, \"days_to_cover\": 1.63, \"change\": -3348432.0, \"change_pct\": -3.02}, {\"settlement_date\": \"2023-03-31\", \"symbol\": \"AAPL\", \"issue_name\": \"Apple Inc. Common Stock\", \"market_class\": \"NNM\", \"current_short_position\": 111566048.0, \"previous_short_position\": 107424880.0, \"avg_daily_volume\": 66091204.0, \"days_to_cover\": 1.69, \"change\": 4141168.0, \"change_pct\": 3.85}, {\"settlement_date\": \"2023-04-14\", \"symbol\": \"AAPL\", \"issue_name\": \"Apple Inc. Common Stock\", \"market_class\": \"NNM\", \"current_short_position\": 114987957.0, \"previous_short_position\": 111566048.0, \"avg_daily_volume\": 51432368.0, \"days_to_cover\": 2.24, \"change\": 3421909.0, \"change_pct\": 3.07}, {\"settlement_date\": \"2023-04-28\", \"symbol\": \"AAPL\", \"issue_name\": \"Apple Inc. Common Stock\", \"market_class\": \"NNM\", \"current_short_position\": 124657645.0, \"previous_short_position\": 114987957.0, \"avg_daily_volume\": 50671368.0, \"days_to_cover\": 2.46, \"change\": 9669688.0, \"change_pct\": 8.41}, {\"settlement_date\": \"2023-05-15\", \"symbol\": \"AAPL\", \"issue_name\": \"Apple Inc. Common Stock\", \"market_class\": \"NNM\", \"current_short_position\": 109878751.0, \"previous_short_position\": 124657645.0, \"avg_daily_volume\": 58826640.0, \"days_to_cover\": 1.87, \"change\": -14778894.0, \"change_pct\": -11.86}, {\"settlement_date\": \"2023-05-31\", \"symbol\": \"AAPL\", \"issue_name\": \"Apple Inc. Common Stock\", \"market_class\": \"NNM\", \"current_short_position\": 117654782.0, \"previous_short_position\": 109883384.0, \"avg_daily_volume\": 56986553.0, \"days_to_cover\": 2.06, \"change\": 7771398.0, \"change_pct\": 7.07}, {\"settlement_date\": \"2023-06-15\", \"symbol\": \"AAPL\", \"issue_name\": \"Apple Inc. Common Stock\", \"market_class\": \"NNM\", \"current_short_position\": 121254451.0, \"previous_short_position\": 117654782.0, \"avg_daily_volume\": 64653388.0, \"days_to_cover\": 1.88, \"change\": 3599669.0, \"change_pct\": 3.06}, {\"settlement_date\": \"2023-06-30\", \"symbol\": \"AAPL\", \"issue_name\": \"Apple Inc. Common Stock\", \"market_class\": \"NNM\", \"current_short_position\": 117870227.0, \"previous_short_position\": 121254451.0, \"avg_daily_volume\": 58589395.0, \"days_to_cover\": 2.01, \"change\": -3384224.0, \"change_pct\": -2.79}, {\"settlement_date\": \"2023-07-14\", \"symbol\": \"AAPL\", \"issue_name\": \"Apple Inc. Common Stock\", \"market_class\": \"NNM\", \"current_short_position\": 126626604.0, \"previous_short_position\": 117870227.0, \"avg_daily_volume\": 46666581.0, \"days_to_cover\": 2.71, \"change\": 8756377.0, \"change_pct\": 7.43}, {\"settlement_date\": \"2023-07-31\", \"symbol\": \"AAPL\", \"issue_name\": \"Apple Inc. Common Stock\", \"market_class\": \"NNM\", \"current_short_position\": 105460144.0, \"previous_short_position\": 126626604.0, \"avg_daily_volume\": 52323234.0, \"days_to_cover\": 2.02, \"change\": -21166460.0, \"change_pct\": -16.72}, {\"settlement_date\": \"2023-08-15\", \"symbol\": \"AAPL\", \"issue_name\": \"Apple Inc. Common Stock\", \"market_class\": \"NNM\", \"current_short_position\": 88852352.0, \"previous_short_position\": 105460144.0, \"avg_daily_volume\": 62061606.0, \"days_to_cover\": 1.43, \"change\": -16607792.0, \"change_pct\": -15.75}, {\"settlement_date\": \"2023-08-31\", \"symbol\": \"AAPL\", \"issue_name\": \"Apple Inc. Common Stock\", \"market_class\": \"NNM\", \"current_short_position\": 102091714.0, \"previous_short_position\": 88851550.0, \"avg_daily_volume\": 53191009.0, \"days_to_cover\": 1.92, \"change\": 13240164.0, \"change_pct\": 14.9}, {\"settlement_date\": \"2023-09-15\", \"symbol\": \"AAPL\", \"issue_name\": \"Apple Inc. Common Stock\", \"market_class\": \"NNM\", \"current_short_position\": 107325921.0, \"previous_short_position\": 102091714.0, \"avg_daily_volume\": 75396415.0, \"days_to_cover\": 1.42, \"change\": 5234207.0, \"change_pct\": 5.13}, {\"settlement_date\": \"2023-09-29\", \"symbol\": \"AAPL\", \"issue_name\": \"Apple Inc. Common Stock\", \"market_class\": \"NNM\", \"current_short_position\": 94725628.0, \"previous_short_position\": 107325921.0, \"avg_daily_volume\": 58263940.0, \"days_to_cover\": 1.63, \"change\": -12600293.0, \"change_pct\": -11.74}, {\"settlement_date\": \"2023-10-13\", \"symbol\": \"AAPL\", \"issue_name\": \"Apple Inc. Common Stock\", \"market_class\": \"NNM\", \"current_short_position\": 93026130.0, \"previous_short_position\": 94725628.0, \"avg_daily_volume\": 50198437.0, \"days_to_cover\": 1.85, \"change\": -1699498.0, \"change_pct\": -1.79}, {\"settlement_date\": \"2023-10-31\", \"symbol\": \"AAPL\", \"issue_name\": \"Apple Inc. Common Stock\", \"market_class\": \"NNM\", \"current_short_position\": 98190963.0, \"previous_short_position\": 93026130.0, \"avg_daily_volume\": 55904604.0, \"days_to_cover\": 1.76, \"change\": 5164833.0, \"change_pct\": 5.55}, {\"settlement_date\": \"2023-11-15\", \"symbol\": \"AAPL\", \"issue_name\": \"Apple Inc. Common Stock\", \"market_class\": \"NNM\", \"current_short_position\": 105837123.0, \"previous_short_position\": 98190963.0, \"avg_daily_volume\": 60959948.0, \"days_to_cover\": 1.74, \"change\": 7646160.0, \"change_pct\": 7.79}, {\"settlement_date\": \"2023-11-30\", \"symbol\": \"AAPL\", \"issue_name\": \"Apple Inc. Common Stock\", \"market_class\": \"NNM\", \"current_short_position\": 110653413.0, \"previous_short_position\": 105837123.0, \"avg_daily_volume\": 42011310.0, \"days_to_cover\": 2.63, \"change\": 4816290.0, \"change_pct\": 4.55}, {\"settlement_date\": \"2023-12-15\", \"symbol\": \"AAPL\", \"issue_name\": \"Apple Inc. Common Stock\", \"market_class\": \"NNM\", \"current_short_position\": 120233720.0, \"previous_short_position\": 110653413.0, \"avg_daily_volume\": 60940693.0, \"days_to_cover\": 1.97, \"change\": 9580307.0, \"change_pct\": 8.66}, {\"settlement_date\": \"2023-12-29\", \"symbol\": \"AAPL\", \"issue_name\": \"Apple Inc. Common Stock\", \"market_class\": \"NNM\", \"current_short_position\": 108220157.0, \"previous_short_position\": 120233720.0, \"avg_daily_volume\": 42416650.0, \"days_to_cover\": 2.55, \"change\": -12013563.0, \"change_pct\": -9.99}, {\"settlement_date\": \"2024-01-31\", \"symbol\": \"AAPL\", \"issue_name\": \"Apple Inc. Common Stock\", \"market_class\": \"NNM\", \"current_short_position\": 99244672.0, \"previous_short_position\": 101263039.0, \"avg_daily_volume\": 55845648.0, \"days_to_cover\": 1.78, \"change\": -2018367.0, \"change_pct\": -1.99}, {\"settlement_date\": \"2024-02-15\", \"symbol\": \"AAPL\", \"issue_name\": \"Apple Inc. Common Stock\", \"market_class\": \"NNM\", \"current_short_position\": 97665956.0, \"previous_short_position\": 99244672.0, \"avg_daily_volume\": 57368134.0, \"days_to_cover\": 1.7, \"change\": -1578716.0, \"change_pct\": -1.59}, {\"settlement_date\": \"2024-02-29\", \"symbol\": \"AAPL\", \"issue_name\": \"Apple Inc. Common Stock\", \"market_class\": \"NNM\", \"current_short_position\": 111927679.0, \"previous_short_position\": 97665956.0, \"avg_daily_volume\": 57620933.0, \"days_to_cover\": 1.94, \"change\": 14261723.0, \"change_pct\": 14.6}, {\"settlement_date\": \"2024-03-15\", \"symbol\": \"AAPL\", \"issue_name\": \"Apple Inc. Common Stock\", \"market_class\": \"NNM\", \"current_short_position\": 110863064.0, \"previous_short_position\": 111927679.0, \"avg_daily_volume\": 74683362.0, \"days_to_cover\": 1.48, \"change\": -1064615.0, \"change_pct\": -0.95}, {\"settlement_date\": \"2024-04-15\", \"symbol\": \"AAPL\", \"issue_name\": \"Apple Inc. Common Stock\", \"market_class\": \"NNM\", \"current_short_position\": 101912593.0, \"previous_short_position\": 108782648.0, \"avg_daily_volume\": 56912498.0, \"days_to_cover\": 1.79, \"change\": -6870055.0, \"change_pct\": -6.32}, {\"settlement_date\": \"2024-04-30\", \"symbol\": \"AAPL\", \"issue_name\": \"Apple Inc. Common Stock\", \"market_class\": \"NNM\", \"current_short_position\": 94308265.0, \"previous_short_position\": 101973393.0, \"avg_daily_volume\": 54686777.0, \"days_to_cover\": 1.72, \"change\": -7665128.0, \"change_pct\": -7.52}]'"
      ]
     },
     "execution_count": 82,
     "metadata": {},
     "output_type": "execute_result"
    }
   ],
   "source": [
    "tool = BB_agent_tool(\n",
    "    name=\"get_equity_shorts_short_interest\",\n",
    "    description=\"Given a stock symbol, get data on short volume and days to cover in JSON format.\",\n",
    "    openapi_path='/api/v1/equity/shorts/short_interest',\n",
    "    parameters={\n",
    "        \"symbol\": {\n",
    "            \"type\": \"string\",\n",
    "            \"description\": \"The stock symbol.\"\n",
    "        }\n",
    "        },\n",
    "    example_parameter_values=[{\n",
    "        \"symbol\": \"NVDA\",\n",
    "    }],\n",
    ")\n",
    "tools[tool.name]=tool.make_metadata()\n",
    "\n",
    "tool('AAPL')\n"
   ]
  },
  {
   "cell_type": "code",
   "execution_count": 83,
   "id": "49d630da-c6b1-4855-acd2-8d35f03292b8",
   "metadata": {},
   "outputs": [
    {
     "name": "stdout",
     "output_type": "stream",
     "text": [
      "get_equity_search_symbol({'search_str': 'MRK'}) -> {'symbol': 'FDT', 'name': 'FIRST TR EXCH TRD ALPHDX FD II DEV MRK EX US', 'dpm_name': 'Belvedere Tra...\n",
      "get_equity_search_symbol({'search_str': 'Merck & Co., Inc.'}) -> \n",
      "Type -> str\n",
      "\n",
      "Detail -> query -> multiple items not allowed for 'cboe'\n",
      "None\n",
      "get_equity_shorts_short_interest({'symbol': 'MRK'}) -> [{\"settlement_date\": \"2021-07-15\", \"symbol\": \"MRK\", \"issue_name\": \"Merck & Co., Inc.\", \"market_class...\n"
     ]
    },
    {
     "data": {
      "text/markdown": [
       "Here are the latest short interest statistics for Merck & Co., Inc. (NYSE: MRK):\n",
       "\n",
       "- **Settlement Date:** April 30, 2024\n",
       "- **Current Short Position:** 18,754,018 shares\n",
       "- **Previous Short Position:** 20,429,972 shares\n",
       "- **Average Daily Volume:** 7,551,651 shares\n",
       "- **Days to Cover:** 2.48\n",
       "- **Change:** -1,675,954 shares\n",
       "- **Change Percentage:** -8.2%\n",
       "\n",
       "To provide further context, here are additional data points over the recent period:\n",
       "\n",
       "- **March 15, 2024**\n",
       "  - **Short Position:** 23,155,920 shares\n",
       "  - **Average Daily Volume:** 12,659,181 shares\n",
       "  - **Days to Cover:** 1.83\n",
       "  - **Change:** +6,551,186 shares\n",
       "  - **Change Percentage:** +39.45%\n",
       "  \n",
       "- **April 15, 2024**\n",
       "  - **Short Position:** 20,429,972 shares\n",
       "  - **Average Daily Volume:** 6,246,795 shares\n",
       "  - **Days to Cover:** 3.27\n",
       "  - **Change:** +837,750 shares\n",
       "  - **Change Percentage:** +4.28%\n",
       "\n",
       "These metrics indicate notable fluctuations in short interest over recent months, with the most recent data showing a significant decrease.\n",
       "\n",
       "Let me know if you need any further details or additional context!"
      ],
      "text/plain": [
       "<IPython.core.display.Markdown object>"
      ]
     },
     "metadata": {},
     "output_type": "display_data"
    }
   ],
   "source": [
    "agent_query(f\"Provide latest statistics on short interest for symbol {symbol}\", tools=tools, verbose=False)\n"
   ]
  },
  {
   "cell_type": "code",
   "execution_count": 84,
   "id": "0d23319a-0b0c-402e-9b84-f7b7fd4fb25c",
   "metadata": {},
   "outputs": [
    {
     "data": {
      "text/plain": [
       "'[{\"date\": \"2020-08-31\", \"numerator\": 4.0, \"denominator\": 1.0, \"split_ratio\": null, \"label\": \"August 31, 20\"}, {\"date\": \"2014-06-09\", \"numerator\": 7.0, \"denominator\": 1.0, \"split_ratio\": null, \"label\": \"June 09, 14\"}, {\"date\": \"2005-02-28\", \"numerator\": 2.0, \"denominator\": 1.0, \"split_ratio\": null, \"label\": \"February 28, 05\"}, {\"date\": \"2000-06-21\", \"numerator\": 2.0, \"denominator\": 1.0, \"split_ratio\": null, \"label\": \"June 21, 00\"}, {\"date\": \"1987-06-16\", \"numerator\": 2.0, \"denominator\": 1.0, \"split_ratio\": null, \"label\": \"June 16, 87\"}]'"
      ]
     },
     "execution_count": 84,
     "metadata": {},
     "output_type": "execute_result"
    }
   ],
   "source": [
    "tool = BB_agent_tool(\n",
    "    name=\"get_equity_fundamental_historical_splits\",\n",
    "    description=\"Given a stock symbol, get the company's historical stock splits in JSON format.\",\n",
    "    openapi_path='/api/v1/equity/fundamental/historical_splits',\n",
    "    parameters={\n",
    "        \"symbol\": {\n",
    "            \"type\": \"string\",\n",
    "            \"description\": \"The stock symbol.\"\n",
    "        }\n",
    "        },\n",
    "    example_parameter_values=[{\n",
    "        \"symbol\": \"NVDA\",\n",
    "    }],\n",
    ")\n",
    "tools[tool.name]=tool.make_metadata()\n",
    "\n",
    "tool('AAPL')\n"
   ]
  },
  {
   "cell_type": "code",
   "execution_count": 85,
   "id": "15ff90cc-2755-42d8-9eda-01fc52668ae9",
   "metadata": {},
   "outputs": [
    {
     "name": "stdout",
     "output_type": "stream",
     "text": [
      "get_equity_search_symbol({'search_str': 'Apple'}) -> {'symbol': 'APLE', 'name': 'APPLE HOSPITALITY REIT INC COM NEW', 'dpm_name': 'Susquehanna Securities...\n",
      "get_equity_search_symbol({'search_str': 'Apple Inc.'}) -> {'symbol': 'AAPL', 'name': 'APPLE INC COM', 'dpm_name': 'Susquehanna Securities, LLC', 'post_station...\n",
      "get_equity_fundamental_historical_splits({'symbol': 'AAPL'}) -> [{\"date\": \"2020-08-31\", \"numerator\": 4.0, \"denominator\": 1.0, \"split_ratio\": null, \"label\": \"August ...\n"
     ]
    },
    {
     "data": {
      "text/markdown": [
       "Here are the historical stock splits for Apple Inc. (AAPL):\n",
       "\n",
       "1. **August 31, 2020**: 4-for-1 split\n",
       "2. **June 09, 2014**: 7-for-1 split\n",
       "3. **February 28, 2005**: 2-for-1 split\n",
       "4. **June 21, 2000**: 2-for-1 split\n",
       "5. **June 16, 1987**: 2-for-1 split"
      ],
      "text/plain": [
       "<IPython.core.display.Markdown object>"
      ]
     },
     "metadata": {},
     "output_type": "display_data"
    }
   ],
   "source": [
    "agent_query(f\"Provide historical split information for symbol AAPL\", tools=tools, verbose=False)"
   ]
  },
  {
   "cell_type": "code",
   "execution_count": 87,
   "id": "11acabf1-8fbb-419a-8eac-5146173660a3",
   "metadata": {},
   "outputs": [
    {
     "data": {
      "text/plain": [
       "'{\"period_ending\": \"2023-09-30\", \"fiscal_period\": \"FY\", \"fiscal_year\": 2023, \"filing_date\": \"2023-11-03\", \"accepted_date\": \"2023-11-02T18:08:27\", \"reported_currency\": \"USD\", \"cash_and_cash_equivalents\": 29965000000.0, \"short_term_investments\": 31590000000.0, \"cash_and_short_term_investments\": 61555000000.0, \"net_receivables\": 60985000000.0, \"inventory\": 6331000000.0, \"other_current_assets\": 14695000000.0, \"total_current_assets\": 143566000000.0, \"plant_property_equipment_net\": 54376000000.0, \"goodwill\": null, \"intangible_assets\": null, \"goodwill_and_intangible_assets\": -17852000000.0, \"long_term_investments\": 100544000000.0, \"tax_assets\": 17852000000.0, \"other_non_current_assets\": 54097000000.0, \"non_current_assets\": 209017000000.0, \"other_assets\": null, \"total_assets\": 352583000000.0, \"accounts_payable\": 62611000000.0, \"short_term_debt\": 15807000000.0, \"tax_payables\": null, \"current_deferred_revenue\": 8061000000.0, \"other_current_liabilities\": 58829000000.0, \"total_current_liabilities\": 145308000000.0, \"long_term_debt\": 106548000000.0, \"deferred_revenue_non_current\": -19454000000.0, \"deferred_tax_liabilities_non_current\": 19454000000.0, \"other_non_current_liabilities\": 38581000000.0, \"total_non_current_liabilities\": 145129000000.0, \"other_liabilities\": null, \"capital_lease_obligations\": 11267000000.0, \"total_liabilities\": 290437000000.0, \"preferred_stock\": null, \"common_stock\": 73812000000.0, \"retained_earnings\": -214000000.0, \"accumulated_other_comprehensive_income\": -11452000000.0, \"other_shareholders_equity\": null, \"other_total_shareholders_equity\": null, \"total_common_equity\": 62146000000.0, \"total_equity_non_controlling_interests\": 62146000000.0, \"total_liabilities_and_shareholders_equity\": 352583000000.0, \"minority_interest\": null, \"total_liabilities_and_total_equity\": 352583000000.0, \"total_investments\": 132134000000.0, \"total_debt\": 122355000000.0, \"net_debt\": 92390000000.0, \"link\": \"https://www.sec.gov/Archives/edgar/data/320193/000032019323000106/0000320193-23-000106-index.htm\", \"final_link\": \"https://www.sec.gov/Archives/edgar/data/320193/000032019323000106/aapl-20230930.htm\"}'"
      ]
     },
     "execution_count": 87,
     "metadata": {},
     "output_type": "execute_result"
    }
   ],
   "source": [
    "tool = BB_agent_tool(\n",
    "    name=\"get_balance_sheet_json\",\n",
    "    description=\"Given a stock symbol, get the latest balance sheet data for the company in JSON format.\",\n",
    "    openapi_path='/api/v1/equity/fundamental/balance',\n",
    "    parameters={\n",
    "        \"symbol\": {\n",
    "            \"type\": \"string\",\n",
    "            \"description\": \"The stock symbol.\"\n",
    "        }\n",
    "        },\n",
    "    example_parameter_values=[{\n",
    "        \"symbol\": \"NVDA\",\n",
    "    }],\n",
    "    singular=1\n",
    ")\n",
    "tools[tool.name]=tool.make_metadata()\n",
    "\n",
    "tool('AAPL')\n",
    "\n"
   ]
  },
  {
   "cell_type": "code",
   "execution_count": null,
   "id": "8ff5c872-de7a-4c88-828f-c983b7ed30fb",
   "metadata": {},
   "outputs": [],
   "source": [
    "# can give by year\n",
    "# obb.equity.fundamental.balance(symbol='NVDA', period='annual', fiscal_year='2023', limit=1)\n",
    "# also growth from prior period obb.equity.fundamental.balance_growth"
   ]
  },
  {
   "cell_type": "code",
   "execution_count": 88,
   "id": "593421e7-b162-46ac-96bf-60cdba189c4f",
   "metadata": {},
   "outputs": [
    {
     "name": "stdout",
     "output_type": "stream",
     "text": [
      "get_balance_sheet_json({'symbol': 'MRK'}) -> {\"period_ending\": \"2023-12-31\", \"fiscal_period\": \"FY\", \"fiscal_year\": 2023, \"filing_date\": \"2024-04-...\n"
     ]
    },
    {
     "data": {
      "text/markdown": [
       "As of December 31, 2023, the latest total assets for Merck & Co., Inc. (symbol: MRK) are \\\\$106,675,000,000 (USD).\n",
       "\n",
       "You can view more details from their filing [here](https://www.sec.gov/Archives/edgar/data/310158/000119312524093194/d807955d10ka.htm)."
      ],
      "text/plain": [
       "<IPython.core.display.Markdown object>"
      ]
     },
     "metadata": {},
     "output_type": "display_data"
    }
   ],
   "source": [
    "agent_query(f\"what are the latest total assets for symbol {symbol}\", tools=tools, verbose=False)"
   ]
  },
  {
   "cell_type": "code",
   "execution_count": 89,
   "id": "d321ef20-4a96-4812-88db-8c1744ca84ea",
   "metadata": {},
   "outputs": [
    {
     "data": {
      "text/plain": [
       "'{\"period_ending\": \"2023-09-30\", \"fiscal_period\": \"FY\", \"fiscal_year\": 2023, \"filing_date\": \"2023-11-03\", \"accepted_date\": \"2023-11-02T18:08:27\", \"reported_currency\": \"USD\", \"net_income\": 96995000000.0, \"depreciation_and_amortization\": 11519000000.0, \"deferred_income_tax\": 5195000000.0, \"stock_based_compensation\": 10833000000.0, \"change_in_working_capital\": -6577000000.0, \"change_in_account_receivables\": -1688000000.0, \"change_in_inventory\": -1618000000.0, \"change_in_account_payable\": -1889000000.0, \"change_in_other_working_capital\": 5195000000.0, \"change_in_other_non_cash_items\": -7422000000.0, \"net_cash_from_operating_activities\": 110543000000.0, \"purchase_of_property_plant_and_equipment\": -10959000000.0, \"acquisitions\": null, \"purchase_of_investment_securities\": -29513000000.0, \"sale_and_maturity_of_investments\": 45514000000.0, \"other_investing_activities\": -1337000000.0, \"net_cash_from_investing_activities\": 3705000000.0, \"repayment_of_debt\": -9901000000.0, \"issuance_of_common_equity\": 1250000000.0, \"repurchase_of_common_equity\": -77550000000.0, \"payment_of_dividends\": -15025000000.0, \"other_financing_activities\": -6012000000.0, \"net_cash_from_financing_activities\": -108488000000.0, \"effect_of_exchange_rate_changes_on_cash\": null, \"net_change_in_cash_and_equivalents\": 5760000000.0, \"cash_at_beginning_of_period\": 24977000000.0, \"cash_at_end_of_period\": 30737000000.0, \"operating_cash_flow\": 110543000000.0, \"capital_expenditure\": -10959000000.0, \"free_cash_flow\": 99584000000.0, \"link\": \"https://www.sec.gov/Archives/edgar/data/320193/000032019323000106/0000320193-23-000106-index.htm\", \"final_link\": \"https://www.sec.gov/Archives/edgar/data/320193/000032019323000106/aapl-20230930.htm\"}'"
      ]
     },
     "execution_count": 89,
     "metadata": {},
     "output_type": "execute_result"
    }
   ],
   "source": [
    "tool = BB_agent_tool(\n",
    "    name=\"get_cash_flow_json\",\n",
    "    description=\"Given a stock symbol, get the latest cash flow statement data for the company in JSON format.\",\n",
    "    openapi_path='/api/v1/equity/fundamental/cash',\n",
    "    parameters={\n",
    "        \"symbol\": {\n",
    "            \"type\": \"string\",\n",
    "            \"description\": \"The stock symbol.\"\n",
    "        }\n",
    "        },\n",
    "    example_parameter_values=[{\n",
    "        \"symbol\": \"NVDA\",\n",
    "    }],\n",
    "    singular=1\n",
    ")\n",
    "tools[tool.name]=tool.make_metadata()\n",
    "\n",
    "tool('AAPL')\n"
   ]
  },
  {
   "cell_type": "code",
   "execution_count": 91,
   "id": "0eaccc36-8f2c-452a-99d4-6cf299989aff",
   "metadata": {},
   "outputs": [
    {
     "name": "stdout",
     "output_type": "stream",
     "text": [
      "get_quote_json({'symbol': 'MRK'}) -> [{\"symbol\": \"MRK\", \"asset_type\": \"stock\", \"name\": \"MERCK & CO INC COM\", \"exchange\": null, \"bid\": 127...\n",
      "get_cash_flow_json({'symbol': 'MRK'}) -> {\"period_ending\": \"2023-12-31\", \"fiscal_period\": \"FY\", \"fiscal_year\": 2023, \"filing_date\": \"2024-04-...\n"
     ]
    },
    {
     "data": {
      "text/markdown": [
       "As of the most recent filing for fiscal year 2023, Merck & Co., Inc. (MRK) reported cash flow from operating activities of \\\\$13.006 billion.\n",
       "\n",
       "For more details, you can access the filing [here](https://www.sec.gov/Archives/edgar/data/310158/000119312524093194/d807955d10ka.htm)."
      ],
      "text/plain": [
       "<IPython.core.display.Markdown object>"
      ]
     },
     "metadata": {},
     "output_type": "display_data"
    }
   ],
   "source": [
    "agent_query(f\"what was the most recent cash flow from operations for stock symbol {symbol}\", tools=tools, verbose=False)"
   ]
  },
  {
   "cell_type": "code",
   "execution_count": 92,
   "id": "46c48a18-0093-4bb4-a381-c8d7c7de003f",
   "metadata": {},
   "outputs": [
    {
     "data": {
      "text/plain": [
       "'{\"period_ending\": \"2023-09-30\", \"fiscal_period\": \"FY\", \"fiscal_year\": 2023, \"filing_date\": \"2023-11-03\", \"accepted_date\": \"2023-11-02T18:08:27\", \"reported_currency\": \"USD\", \"revenue\": 383285000000.0, \"cost_of_revenue\": 214137000000.0, \"gross_profit\": 169148000000.0, \"gross_profit_margin\": 0.4413112958, \"general_and_admin_expense\": null, \"research_and_development_expense\": 29915000000.0, \"selling_and_marketing_expense\": null, \"selling_general_and_admin_expense\": 24932000000.0, \"other_expenses\": -565000000.0, \"total_operating_expenses\": 54847000000.0, \"cost_and_expenses\": 268984000000.0, \"interest_income\": 3750000000.0, \"total_interest_expense\": 3933000000.0, \"depreciation_and_amortization\": 11519000000.0, \"ebitda\": 125820000000.0, \"ebitda_margin\": 0.3282674772, \"total_operating_income\": 114301000000.0, \"operating_income_margin\": 0.2982141227, \"total_other_income_expenses\": -565000000.0, \"total_pre_tax_income\": 113736000000.0, \"pre_tax_income_margin\": 0.2967400237, \"income_tax_expense\": 16741000000.0, \"consolidated_net_income\": 96995000000.0, \"net_income_margin\": 0.2530623426, \"basic_earnings_per_share\": 6.16, \"diluted_earnings_per_share\": 6.13, \"weighted_average_basic_shares_outstanding\": 15744231000.0, \"weighted_average_diluted_shares_outstanding\": 15812547000.0, \"link\": \"https://www.sec.gov/Archives/edgar/data/320193/000032019323000106/0000320193-23-000106-index.htm\", \"final_link\": \"https://www.sec.gov/Archives/edgar/data/320193/000032019323000106/aapl-20230930.htm\"}'"
      ]
     },
     "execution_count": 92,
     "metadata": {},
     "output_type": "execute_result"
    }
   ],
   "source": [
    "tool = BB_agent_tool(\n",
    "    name=\"get_income_statement_json\",\n",
    "    description=\"Given a stock symbol, get the latest income statement data for the company in JSON format\",\n",
    "    openapi_path='/api/v1/equity/fundamental/income',\n",
    "    parameters={\n",
    "        \"symbol\": {\n",
    "            \"type\": \"string\",\n",
    "            \"description\": \"The stock symbol.\"\n",
    "        }\n",
    "        },\n",
    "    example_parameter_values=[{\n",
    "        \"symbol\": \"NVDA\",\n",
    "    }],\n",
    "    singular=1\n",
    ")\n",
    "\n",
    "tools[tool.name]=tool.make_metadata()\n",
    "\n",
    "tool('AAPL')\n"
   ]
  },
  {
   "cell_type": "code",
   "execution_count": 93,
   "id": "770ea137-3530-4ded-a95a-6f249b09d864",
   "metadata": {},
   "outputs": [
    {
     "name": "stdout",
     "output_type": "stream",
     "text": [
      "get_equity_search_symbol({'search_str': 'Merck'}) -> {'symbol': 'MRK', 'name': 'MERCK & CO INC COM', 'dpm_name': 'Wolverine Trading, LLC', 'post_station'...\n",
      "get_income_statement_json({'symbol': 'MRK'}) -> {\"period_ending\": \"2023-12-31\", \"fiscal_period\": \"FY\", \"fiscal_year\": 2023, \"filing_date\": \"2024-04-...\n"
     ]
    },
    {
     "data": {
      "text/markdown": [
       "The most recent net income for Merck & Co., Inc. (symbol: MRK) is \\\\$365 million for the fiscal year ending on December 31, 2023. You can find more details in their [10-K filing](https://www.sec.gov/Archives/edgar/data/310158/000119312524093194/d807955d10ka.htm)."
      ],
      "text/plain": [
       "<IPython.core.display.Markdown object>"
      ]
     },
     "metadata": {},
     "output_type": "display_data"
    }
   ],
   "source": [
    "agent_query(f\"what was the most recent net income for symbol {symbol}\", tools=tools, verbose=False)\n"
   ]
  },
  {
   "cell_type": "code",
   "execution_count": 94,
   "id": "02c1e030-f3fd-4999-b46b-e29382beebd4",
   "metadata": {},
   "outputs": [
    {
     "data": {
      "text/plain": [
       "'[{\"symbol\": \"AAPL\", \"market_cap\": 2856440000000.0, \"pe_ratio\": 28.97, \"foward_pe\": 25.88, \"eps\": 6.43, \"price_to_sales\": 7.48, \"price_to_book\": 38.51, \"book_value_per_share\": 4.84, \"price_to_cash\": 42.54, \"cash_per_share\": 4.38, \"price_to_free_cash_flow\": 28.03, \"debt_to_equity\": 1.41, \"long_term_debt_to_equity\": 1.24, \"quick_ratio\": 0.99, \"current_ratio\": 1.04, \"gross_margin\": 0.4559, \"profit_margin\": 0.2631, \"operating_margin\": 0.3098, \"return_on_assets\": 0.2999, \"return_on_investment\": 0.6047, \"return_on_equity\": 1.4725, \"payout_ratio\": 0.1532, \"dividend_yield\": null}]'"
      ]
     },
     "execution_count": 94,
     "metadata": {},
     "output_type": "execute_result"
    }
   ],
   "source": [
    "tool = BB_agent_tool(\n",
    "    name=\"get_fundamental_metrics_json\",\n",
    "    description=\"Given a stock symbol, get fundamental metrics for the company in JSON format.\",\n",
    "    openapi_path='/api/v1/equity/fundamental/metrics',\n",
    "    parameters={\n",
    "        \"symbol\": {\n",
    "            \"type\": \"string\",\n",
    "            \"description\": \"The stock symbol.\"\n",
    "        }\n",
    "        },\n",
    "    example_parameter_values=[{\n",
    "        \"symbol\": \"NVDA\",\n",
    "    }],\n",
    ")\n",
    "\n",
    "tools[tool.name]=tool.make_metadata()\n",
    "\n",
    "tool('AAPL')\n"
   ]
  },
  {
   "cell_type": "code",
   "execution_count": 96,
   "id": "a27ea828-5256-418c-b106-fea1bbe2de8f",
   "metadata": {},
   "outputs": [
    {
     "name": "stdout",
     "output_type": "stream",
     "text": [
      "get_quote_json({'symbol': 'MRK'}) -> [{\"symbol\": \"MRK\", \"asset_type\": \"stock\", \"name\": \"MERCK & CO INC COM\", \"exchange\": null, \"bid\": 127...\n",
      "get_fundamental_metrics_json({'symbol': 'MRK'}) -> [{\"symbol\": \"MRK\", \"market_cap\": 327470000000.0, \"pe_ratio\": 143.93, \"foward_pe\": 13.05, \"eps\": 0.9,...\n"
     ]
    },
    {
     "data": {
      "text/markdown": [
       "As of the most recent data, Merck & Co., Inc. (ticker symbol: MRK) has a P/E ratio of 143.93."
      ],
      "text/plain": [
       "<IPython.core.display.Markdown object>"
      ]
     },
     "metadata": {},
     "output_type": "display_data"
    }
   ],
   "source": [
    "agent_query(f\"what was the most recent PE ratio for stock symbol {symbol}\", tools=tools, verbose=False)"
   ]
  },
  {
   "cell_type": "code",
   "execution_count": 98,
   "id": "2b60e7b7-0087-4552-83aa-d611e10ede6a",
   "metadata": {},
   "outputs": [
    {
     "data": {
      "text/plain": [
       "'{\"period_ending\": \"2023-09-30\", \"fiscal_period\": \"FY\", \"fiscal_year\": 2023, \"current_ratio\": 0.9880116717592975, \"quick_ratio\": 0.8433121369780053, \"cash_ratio\": 0.20621713876730807, \"days_of_sales_outstanding\": 58.07564866874519, \"days_of_inventory_outstanding\": 10.791292490321615, \"operating_cycle\": 68.8669411590668, \"days_of_payables_outstanding\": 106.72146803214763, \"cash_conversion_cycle\": -37.85452687308083, \"gross_profit_margin\": 0.4413112957720756, \"operating_profit_margin\": 0.2982141226502472, \"pretax_profit_margin\": 0.296740023742124, \"net_profit_margin\": 0.2530623426432028, \"effective_tax_rate\": 0.14719174228036858, \"return_on_assets\": 0.27509834563776475, \"return_on_equity\": 1.5607601454639075, \"return_on_capital_employed\": 0.551446146423833, \"net_income_per_ebt\": 0.8528082577196314, \"ebt_per_ebit\": 0.9950569111381353, \"ebit_per_revenue\": 0.2982141226502472, \"debt_ratio\": 0.34702467220484257, \"debt_equity_ratio\": 1.9688314613973545, \"long_term_debt_to_capitalization\": 0.6316051548958469, \"total_debt_to_capitalization\": 0.6631671373054888, \"interest_coverage\": 29.062039155860667, \"cash_flow_to_debt_ratio\": 0.9034612398349067, \"company_equity_multiplier\": 5.673462491552152, \"receivables_turnover\": 6.284906124456834, \"payables_turnover\": 3.420117870661705, \"inventory_turnover\": 33.82356657716001, \"fixed_asset_turnover\": 7.04878990731205, \"asset_turnover\": 1.087077369016657, \"operating_cash_flow_per_share\": 7.021174930677783, \"free_cash_flow_per_share\": 6.325110448392176, \"cash_per_share\": 3.9096860303942442, \"payout_ratio\": 0.1549048920047425, \"operating_cash_flow_sales_ratio\": 0.28840940814276583, \"free_cash_flow_operating_cash_flow_ratio\": 0.9008621079579892, \"cash_flow_coverage_ratios\": 0.9034612398349067, \"short_term_coverage_ratios\": 6.9932941102043396, \"capital_expenditure_coverage_ratio\": -10.08696048909572, \"dividend_paid_and_capex_coverage_ratio\": 27.187161829808165, \"dividend_payout_ratio\": 0.1549048920047425, \"price_book_value_ratio\": 43.37479145093811, \"price_to_book_ratio\": 43.37479145093811, \"price_to_sales_ratio\": 7.032807935374461, \"price_earnings_ratio\": 27.790811789370586, \"price_to_free_cash_flows_ratio\": 27.06830203155125, \"price_to_operating_cash_flows_ratio\": 24.384807626986785, \"price_cash_flow_ratio\": 24.384807626986785, \"price_earnings_to_growth_ratio\": 170.91349250462116, \"price_sales_ratio\": 7.032807935374461, \"dividend_yield\": 0.005573960673721321, \"dividend_yield_percentage\": null, \"dividend_per_share\": null, \"enterprise_value_multiple\": 22.15831973859482, \"price_fair_value\": 43.37479145093811}'"
      ]
     },
     "execution_count": 98,
     "metadata": {},
     "output_type": "execute_result"
    }
   ],
   "source": [
    "tool = BB_agent_tool(\n",
    "    name=\"get_fundamental_ratios_json\",\n",
    "    description=\"Given a stock symbol, get fundamental valuation ratios for the company in JSON format.\",\n",
    "    openapi_path='/api/v1/equity/fundamental/ratios',\n",
    "    parameters={\n",
    "        \"symbol\": {\n",
    "            \"type\": \"string\",\n",
    "            \"description\": \"The stock symbol.\"\n",
    "        }\n",
    "        },\n",
    "    example_parameter_values=[{\n",
    "        \"symbol\": \"NVDA\",\n",
    "    }],\n",
    "    singular=1\n",
    ")\n",
    "\n",
    "tools[tool.name]=tool.make_metadata()\n",
    "\n",
    "tool('AAPL')\n"
   ]
  },
  {
   "cell_type": "code",
   "execution_count": 99,
   "id": "68790fd6-8f31-49f8-b768-c10c4daf5517",
   "metadata": {},
   "outputs": [
    {
     "name": "stdout",
     "output_type": "stream",
     "text": [
      "get_fundamental_metrics_json({'symbol': 'MRK'}) -> [{\"symbol\": \"MRK\", \"market_cap\": 327470000000.0, \"pe_ratio\": 143.93, \"foward_pe\": 13.05, \"eps\": 0.9,...\n"
     ]
    },
    {
     "data": {
      "text/markdown": [
       "The most recent price-to-sales ratio for Merck & Co., Inc. (MRK) is 5.36."
      ],
      "text/plain": [
       "<IPython.core.display.Markdown object>"
      ]
     },
     "metadata": {},
     "output_type": "display_data"
    }
   ],
   "source": [
    "agent_query(f\"what was the most recent price to sales ratio for stock symbol {symbol}\", tools=tools, verbose=False)"
   ]
  },
  {
   "cell_type": "code",
   "execution_count": 100,
   "id": "57df45ad-8485-4029-aea5-d251607016e5",
   "metadata": {},
   "outputs": [
    {
     "data": {
      "text/plain": [
       "'{\"symbol\": \"AAPL\", \"revenue_per_share_ttm\": 24.7712947596031, \"net_income_per_share_ttm\": 6.516288351650178, \"operating_cash_flow_per_share_ttm\": 7.17668657944096, \"free_cash_flow_per_share_ttm\": 6.615601236309102, \"cash_per_share_ttm\": 4.358732160030575, \"book_value_per_share_ttm\": 4.815960891754409, \"tangible_book_value_per_share_ttm\": 4.815960891754409, \"shareholders_equity_per_share_ttm\": 4.815960891754409, \"interest_debt_per_share_ttm\": 6.983837834132683, \"market_cap_ttm\": 2856436148000.0, \"enterprise_value_ttm\": 2931446148000.0, \"pe_ratio_ttm\": 28.5868258044208, \"price_to_sales_ratio_ttm\": 7.484968537011658, \"pocf_ratio_ttm\": 25.956267971021045, \"pfcf_ratio_ttm\": 28.026532324689214, \"pb_ratio_ttm\": 38.67971609132814, \"ptb_ratio_ttm\": 38.67971609132814, \"ev_to_sales_ttm\": 7.6815237760826784, \"enterprise_value_over_ebitda_ttm\": 22.6141229817402, \"ev_to_operating_cash_flow_ttm\": 26.513807946600583, \"ev_to_free_cash_flow_ttm\": 28.762508933564888, \"earnings_yield_ttm\": 0.034981148548691096, \"free_cash_flow_yield_ttm\": 0.03568047550139041, \"debt_to_equity_ttm\": 1.4096827236703777, \"debt_to_assets_ttm\": 0.30997803865315593, \"net_debt_to_ebitda_ttm\": 0.5786513820209984, \"current_ratio_ttm\": 1.0371016459110658, \"interest_coverage_ttm\": 39.38707528314457, \"income_quality_ttm\": 1.1013457649742502, \"dividend_yield_ttm\": 0.005207214945243719, \"dividend_yield_percentage_ttm\": 0.5207214945243719, \"dividend_to_market_cap_ttm\": 0.03661555679206451, \"dividend_per_share_ttm\": 0.97, \"payout_ratio_ttm\": 0.15083325862395283, \"sales_general_and_administrative_to_revenue_ttm\": 0.0, \"research_and_development_to_revenue_ttm\": 0.07952350880319059, \"intangibles_to_total_assets_ttm\": 0.0, \"capex_to_operating_cash_flow_ttm\": -0.07818167017899297, \"capex_to_revenue_ttm\": -0.02265062640354486, \"capex_to_depreciation_ttm\": -0.7589779611906226, \"stock_based_compensation_to_revenue_ttm\": 0.02935619708455727, \"graham_number_ttm\": 26.572528518588445, \"roic_ttm\": 0.5621184965150889, \"return_on_tangible_assets_ttm\": 0.2975273479524971, \"graham_net_net_ttm\": -10.5212264738811, \"working_capital_ttm\": 4594000000.0, \"tangible_asset_value_ttm\": 74194000000.0, \"net_current_asset_value_ttm\": -134801000000.0, \"invested_capital_ttm\": 1.4096827236703777, \"average_receivables_ttm\": 45626000000.0, \"average_payables_ttm\": 51949500000.0, \"average_inventory_ttm\": 6371500000.0, \"days_sales_outstanding_ttm\": 39.35755968586799, \"days_payables_outstanding_ttm\": 80.42033256764762, \"days_of_inventory_on_hand_ttm\": 10.954025147237994, \"receivables_turnover_ttm\": 9.273948967193196, \"payables_turnover_ttm\": 4.538653203068651, \"inventory_turnover_ttm\": 33.32108472400513, \"roe_ttm\": 1.4833218821339125, \"capex_per_share_ttm\": -0.5610853431318584}'"
      ]
     },
     "execution_count": 100,
     "metadata": {},
     "output_type": "execute_result"
    }
   ],
   "source": [
    "tool = BB_agent_tool(\n",
    "    name=\"get_equity_fundamental_multiples\",\n",
    "    description=\"Given a stock symbol, get fundamental valuation multiples for the company in JSON format.\",\n",
    "    openapi_path='/api/v1/equity/fundamental/multiples',\n",
    "    parameters={\n",
    "        \"symbol\": {\n",
    "            \"type\": \"string\",\n",
    "            \"description\": \"The stock symbol.\"\n",
    "        }\n",
    "        },\n",
    "    example_parameter_values=[{\n",
    "        \"symbol\": \"NVDA\",\n",
    "    }],\n",
    "    singular=1\n",
    ")\n",
    "\n",
    "tools[tool.name]=tool.make_metadata()\n",
    "\n",
    "tool('AAPL')\n"
   ]
  },
  {
   "cell_type": "code",
   "execution_count": 102,
   "id": "10dd2ca7-d995-44c4-81ce-39de28999c5d",
   "metadata": {},
   "outputs": [
    {
     "name": "stdout",
     "output_type": "stream",
     "text": [
      "get_quote_json({'symbol': 'MRK'}) -> [{\"symbol\": \"MRK\", \"asset_type\": \"stock\", \"name\": \"MERCK & CO INC COM\", \"exchange\": null, \"bid\": 127...\n",
      "get_equity_fundamental_multiples({'symbol': 'MRK'}) -> {\"symbol\": \"MRK\", \"revenue_per_share_ttm\": 24.25424397947098, \"net_income_per_share_ttm\": 0.91038294...\n"
     ]
    },
    {
     "data": {
      "text/markdown": [
       "As of the most recent data, Merck & Co., Inc. (MRK) reported a revenue per share (TTM) of \\\\$24.25."
      ],
      "text/plain": [
       "<IPython.core.display.Markdown object>"
      ]
     },
     "metadata": {},
     "output_type": "display_data"
    }
   ],
   "source": [
    "agent_query(f\"what was the most recent revenue per share for stock symbol {symbol}\", tools=tools, verbose=False)\n"
   ]
  },
  {
   "cell_type": "code",
   "execution_count": 104,
   "id": "7cf79058-b258-420d-a72d-795c45c314b6",
   "metadata": {},
   "outputs": [
    {
     "ename": "OpenBBError",
     "evalue": "\nType -> EmptyDataError\n\nDetail -> No data found.",
     "output_type": "error",
     "traceback": [
      "\u001b[0;31m---------------------------------------------------------------------------\u001b[0m",
      "\u001b[0;31mOpenBBError\u001b[0m                               Traceback (most recent call last)",
      "Cell \u001b[0;32mIn[104], line 1\u001b[0m\n\u001b[0;32m----> 1\u001b[0m tool \u001b[38;5;241m=\u001b[39m \u001b[43mBB_agent_tool\u001b[49m\u001b[43m(\u001b[49m\n\u001b[1;32m      2\u001b[0m \u001b[43m    \u001b[49m\u001b[43mname\u001b[49m\u001b[38;5;241;43m=\u001b[39;49m\u001b[38;5;124;43m\"\u001b[39;49m\u001b[38;5;124;43mget_historical_eps\u001b[39;49m\u001b[38;5;124;43m\"\u001b[39;49m\u001b[43m,\u001b[49m\n\u001b[1;32m      3\u001b[0m \u001b[43m    \u001b[49m\u001b[43mdescription\u001b[49m\u001b[38;5;241;43m=\u001b[39;49m\u001b[38;5;124;43m\"\u001b[39;49m\u001b[38;5;124;43mGiven a stock symbol, get historical earnings per share data for the company in JSON format.\u001b[39;49m\u001b[38;5;124;43m\"\u001b[39;49m\u001b[43m,\u001b[49m\n\u001b[1;32m      4\u001b[0m \u001b[43m    \u001b[49m\u001b[43mopenapi_path\u001b[49m\u001b[38;5;241;43m=\u001b[39;49m\u001b[38;5;124;43m'\u001b[39;49m\u001b[38;5;124;43m/api/v1/equity/fundamental/historical_eps\u001b[39;49m\u001b[38;5;124;43m'\u001b[39;49m\u001b[43m,\u001b[49m\n\u001b[1;32m      5\u001b[0m \u001b[43m    \u001b[49m\u001b[43mparameters\u001b[49m\u001b[38;5;241;43m=\u001b[39;49m\u001b[43m{\u001b[49m\n\u001b[1;32m      6\u001b[0m \u001b[43m        \u001b[49m\u001b[38;5;124;43m\"\u001b[39;49m\u001b[38;5;124;43msymbol\u001b[39;49m\u001b[38;5;124;43m\"\u001b[39;49m\u001b[43m:\u001b[49m\u001b[43m \u001b[49m\u001b[43m{\u001b[49m\n\u001b[1;32m      7\u001b[0m \u001b[43m            \u001b[49m\u001b[38;5;124;43m\"\u001b[39;49m\u001b[38;5;124;43mtype\u001b[39;49m\u001b[38;5;124;43m\"\u001b[39;49m\u001b[43m:\u001b[49m\u001b[43m \u001b[49m\u001b[38;5;124;43m\"\u001b[39;49m\u001b[38;5;124;43mstring\u001b[39;49m\u001b[38;5;124;43m\"\u001b[39;49m\u001b[43m,\u001b[49m\n\u001b[1;32m      8\u001b[0m \u001b[43m            \u001b[49m\u001b[38;5;124;43m\"\u001b[39;49m\u001b[38;5;124;43mdescription\u001b[39;49m\u001b[38;5;124;43m\"\u001b[39;49m\u001b[43m:\u001b[49m\u001b[43m \u001b[49m\u001b[38;5;124;43m\"\u001b[39;49m\u001b[38;5;124;43mThe stock symbol.\u001b[39;49m\u001b[38;5;124;43m\"\u001b[39;49m\n\u001b[1;32m      9\u001b[0m \u001b[43m        \u001b[49m\u001b[43m}\u001b[49m\n\u001b[1;32m     10\u001b[0m \u001b[43m        \u001b[49m\u001b[43m}\u001b[49m\u001b[43m,\u001b[49m\n\u001b[1;32m     11\u001b[0m \u001b[43m    \u001b[49m\u001b[43mexample_parameter_values\u001b[49m\u001b[38;5;241;43m=\u001b[39;49m\u001b[43m[\u001b[49m\u001b[43m{\u001b[49m\n\u001b[1;32m     12\u001b[0m \u001b[43m        \u001b[49m\u001b[38;5;124;43m\"\u001b[39;49m\u001b[38;5;124;43msymbol\u001b[39;49m\u001b[38;5;124;43m\"\u001b[39;49m\u001b[43m:\u001b[49m\u001b[43m \u001b[49m\u001b[38;5;124;43m\"\u001b[39;49m\u001b[38;5;124;43mNVDA\u001b[39;49m\u001b[38;5;124;43m\"\u001b[39;49m\u001b[43m,\u001b[49m\n\u001b[1;32m     13\u001b[0m \u001b[43m    \u001b[49m\u001b[43m}\u001b[49m\u001b[43m]\u001b[49m\u001b[43m,\u001b[49m\n\u001b[1;32m     14\u001b[0m \u001b[43m)\u001b[49m\n\u001b[1;32m     16\u001b[0m tools[tool\u001b[38;5;241m.\u001b[39mname]\u001b[38;5;241m=\u001b[39mtool\u001b[38;5;241m.\u001b[39mmake_metadata()\n\u001b[1;32m     18\u001b[0m tool(\u001b[38;5;124m'\u001b[39m\u001b[38;5;124mAAPL\u001b[39m\u001b[38;5;124m'\u001b[39m)\n",
      "Cell \u001b[0;32mIn[81], line 16\u001b[0m, in \u001b[0;36mBB_agent_tool.__init__\u001b[0;34m(self, name, description, openapi_path, parameters, example_parameter_values, singular)\u001b[0m\n\u001b[1;32m     14\u001b[0m \u001b[38;5;28mself\u001b[39m\u001b[38;5;241m.\u001b[39mcallable \u001b[38;5;241m=\u001b[39m \u001b[38;5;28mself\u001b[39m\u001b[38;5;241m.\u001b[39mget_callable()\n\u001b[1;32m     15\u001b[0m \u001b[38;5;28mself\u001b[39m\u001b[38;5;241m.\u001b[39mtooldict \u001b[38;5;241m=\u001b[39m \u001b[38;5;28mself\u001b[39m\u001b[38;5;241m.\u001b[39mmake_tooldict()\n\u001b[0;32m---> 16\u001b[0m \u001b[38;5;28mself\u001b[39m\u001b[38;5;241m.\u001b[39mexample_code \u001b[38;5;241m=\u001b[39m \u001b[38;5;28;43mself\u001b[39;49m\u001b[38;5;241;43m.\u001b[39;49m\u001b[43mmake_example_code\u001b[49m\u001b[43m(\u001b[49m\u001b[43m)\u001b[49m\n\u001b[1;32m     17\u001b[0m \u001b[38;5;66;03m# store self in agent_registry class variable that keeps track of all instances\u001b[39;00m\n\u001b[1;32m     18\u001b[0m \u001b[38;5;28mself\u001b[39m\u001b[38;5;241m.\u001b[39magent_registry[name] \u001b[38;5;241m=\u001b[39m \u001b[38;5;28mself\u001b[39m\n",
      "Cell \u001b[0;32mIn[81], line 89\u001b[0m, in \u001b[0;36mBB_agent_tool.make_example_code\u001b[0;34m(self)\u001b[0m\n\u001b[1;32m     86\u001b[0m pstr \u001b[38;5;241m=\u001b[39m \u001b[38;5;124m\"\u001b[39m\u001b[38;5;124m, \u001b[39m\u001b[38;5;124m\"\u001b[39m\u001b[38;5;241m.\u001b[39mjoin(parray) \n\u001b[1;32m     88\u001b[0m \u001b[38;5;66;03m# run the example\u001b[39;00m\n\u001b[0;32m---> 89\u001b[0m return_value \u001b[38;5;241m=\u001b[39m \u001b[38;5;28;43mself\u001b[39;49m\u001b[38;5;241;43m.\u001b[39;49m\u001b[43mcallable\u001b[49m\u001b[43m(\u001b[49m\u001b[38;5;241;43m*\u001b[39;49m\u001b[38;5;241;43m*\u001b[39;49m\u001b[43mexample\u001b[49m\u001b[43m)\u001b[49m\n\u001b[1;32m     90\u001b[0m \u001b[38;5;28;01mif\u001b[39;00m \u001b[38;5;28mtype\u001b[39m(return_value) \u001b[38;5;129;01mis\u001b[39;00m \u001b[38;5;28mlist\u001b[39m: \u001b[38;5;66;03m# only use 3 values if it's a long list\u001b[39;00m\n\u001b[1;32m     91\u001b[0m     return_value \u001b[38;5;241m=\u001b[39m \u001b[38;5;28mstr\u001b[39m(return_value[:\u001b[38;5;241m3\u001b[39m])\n",
      "File \u001b[0;32m/opt/anaconda3/envs/bb_agent/lib/python3.11/site-packages/openbb_core/app/static/utils/decorators.py:89\u001b[0m, in \u001b[0;36mexception_handler.<locals>.wrapper\u001b[0;34m(*f_args, **f_kwargs)\u001b[0m\n\u001b[1;32m     87\u001b[0m \u001b[38;5;66;03m# If the error is not a ValidationError, then it is a generic exception\u001b[39;00m\n\u001b[1;32m     88\u001b[0m error_type \u001b[38;5;241m=\u001b[39m \u001b[38;5;28mgetattr\u001b[39m(e, \u001b[38;5;124m\"\u001b[39m\u001b[38;5;124moriginal\u001b[39m\u001b[38;5;124m\"\u001b[39m, e)\u001b[38;5;241m.\u001b[39m\u001b[38;5;18m__class__\u001b[39m\u001b[38;5;241m.\u001b[39m\u001b[38;5;18m__name__\u001b[39m\n\u001b[0;32m---> 89\u001b[0m \u001b[38;5;28;01mraise\u001b[39;00m OpenBBError(\n\u001b[1;32m     90\u001b[0m     \u001b[38;5;124mf\u001b[39m\u001b[38;5;124m\"\u001b[39m\u001b[38;5;130;01m\\n\u001b[39;00m\u001b[38;5;124mType -> \u001b[39m\u001b[38;5;132;01m{\u001b[39;00merror_type\u001b[38;5;132;01m}\u001b[39;00m\u001b[38;5;130;01m\\n\u001b[39;00m\u001b[38;5;130;01m\\n\u001b[39;00m\u001b[38;5;124mDetail -> \u001b[39m\u001b[38;5;132;01m{\u001b[39;00m\u001b[38;5;28mstr\u001b[39m(e)\u001b[38;5;132;01m}\u001b[39;00m\u001b[38;5;124m\"\u001b[39m\n\u001b[1;32m     91\u001b[0m )\u001b[38;5;241m.\u001b[39mwith_traceback(tb) \u001b[38;5;28;01mfrom\u001b[39;00m \u001b[38;5;28;01mNone\u001b[39;00m\n",
      "File \u001b[0;32m/opt/anaconda3/envs/bb_agent/lib/python3.11/site-packages/openbb_core/app/command_runner.py:384\u001b[0m, in \u001b[0;36mStaticCommandRunner._execute_func\u001b[0;34m(cls, route, args, execution_context, func, kwargs)\u001b[0m\n\u001b[1;32m    381\u001b[0m         \u001b[38;5;28mcls\u001b[39m\u001b[38;5;241m.\u001b[39m_chart(obbject, \u001b[38;5;241m*\u001b[39m\u001b[38;5;241m*\u001b[39mkwargs)\n\u001b[1;32m    383\u001b[0m \u001b[38;5;28;01mexcept\u001b[39;00m \u001b[38;5;167;01mException\u001b[39;00m \u001b[38;5;28;01mas\u001b[39;00m e:\n\u001b[0;32m--> 384\u001b[0m     \u001b[38;5;28;01mraise\u001b[39;00m OpenBBError(e) \u001b[38;5;28;01mfrom\u001b[39;00m \u001b[38;5;21;01me\u001b[39;00m\n\u001b[1;32m    385\u001b[0m \u001b[38;5;28;01mfinally\u001b[39;00m:\n\u001b[1;32m    386\u001b[0m     ls \u001b[38;5;241m=\u001b[39m LoggingService(system_settings, user_settings)\n",
      "\u001b[0;31mOpenBBError\u001b[0m: \nType -> EmptyDataError\n\nDetail -> No data found."
     ]
    }
   ],
   "source": [
    "# tool = BB_agent_tool(\n",
    "#     name=\"get_historical_eps\",\n",
    "#     description=\"Given a stock symbol, get historical earnings per share data for the company in JSON format.\",\n",
    "#     openapi_path='/api/v1/equity/fundamental/historical_eps',\n",
    "#     parameters={\n",
    "#         \"symbol\": {\n",
    "#             \"type\": \"string\",\n",
    "#             \"description\": \"The stock symbol.\"\n",
    "#         }\n",
    "#         },\n",
    "#     example_parameter_values=[{\n",
    "#         \"symbol\": \"NVDA\",\n",
    "#     }],\n",
    "# )\n",
    "\n",
    "# tools[tool.name]=tool.make_metadata()\n",
    "\n",
    "# tool('AAPL')\n"
   ]
  },
  {
   "cell_type": "code",
   "execution_count": null,
   "id": "8802008e-f0ac-4cf1-85a4-2373ccca5713",
   "metadata": {},
   "outputs": [],
   "source": [
    "# agent_query(f\"what was the EPS for {company} in the quarter ended 2022-09-30?\", tools=tools, verbose=False)\n"
   ]
  },
  {
   "cell_type": "code",
   "execution_count": 110,
   "id": "b563a0b0-d0f3-418a-b248-c7ae0fbfce8f",
   "metadata": {},
   "outputs": [
    {
     "data": {
      "text/plain": [
       "'[{\"ex_dividend_date\": \"2024-05-10\", \"amount\": 0.25, \"label\": \"May 10, 24\", \"adj_dividend\": 0.25, \"record_date\": \"2024-05-13\", \"payment_date\": \"2024-05-16\", \"declaration_date\": \"2024-05-02\"}, {\"ex_dividend_date\": \"2024-02-09\", \"amount\": 0.24, \"label\": \"February 09, 24\", \"adj_dividend\": 0.24, \"record_date\": \"2024-02-12\", \"payment_date\": \"2024-02-15\", \"declaration_date\": \"2024-02-01\"}, {\"ex_dividend_date\": \"2023-11-10\", \"amount\": 0.24, \"label\": \"November 10, 23\", \"adj_dividend\": 0.24, \"record_date\": \"2023-11-13\", \"payment_date\": \"2023-11-16\", \"declaration_date\": \"2023-11-02\"}, {\"ex_dividend_date\": \"2023-08-11\", \"amount\": 0.24, \"label\": \"August 11, 23\", \"adj_dividend\": 0.24, \"record_date\": \"2023-08-14\", \"payment_date\": \"2023-08-17\", \"declaration_date\": \"2023-08-03\"}, {\"ex_dividend_date\": \"2023-05-12\", \"amount\": 0.24, \"label\": \"May 12, 23\", \"adj_dividend\": 0.24, \"record_date\": \"2023-05-15\", \"payment_date\": \"2023-05-18\", \"declaration_date\": \"2023-05-04\"}, {\"ex_dividend_date\": \"2023-02-10\", \"amount\": 0.23, \"label\": \"February 10, 23\", \"adj_dividend\": 0.23, \"record_date\": \"2023-02-13\", \"payment_date\": \"2023-02-16\", \"declaration_date\": \"2023-02-02\"}, {\"ex_dividend_date\": \"2022-11-04\", \"amount\": 0.23, \"label\": \"November 04, 22\", \"adj_dividend\": 0.23, \"record_date\": \"2022-11-07\", \"payment_date\": \"2022-11-10\", \"declaration_date\": \"2022-10-27\"}, {\"ex_dividend_date\": \"2022-08-05\", \"amount\": 0.23, \"label\": \"August 05, 22\", \"adj_dividend\": 0.23, \"record_date\": \"2022-08-08\", \"payment_date\": \"2022-08-11\", \"declaration_date\": \"2022-07-28\"}, {\"ex_dividend_date\": \"2022-05-06\", \"amount\": 0.23, \"label\": \"May 06, 22\", \"adj_dividend\": 0.23, \"record_date\": \"2022-05-09\", \"payment_date\": \"2022-05-12\", \"declaration_date\": \"2022-04-28\"}, {\"ex_dividend_date\": \"2022-02-04\", \"amount\": 0.22, \"label\": \"February 04, 22\", \"adj_dividend\": 0.22, \"record_date\": \"2022-02-07\", \"payment_date\": \"2022-02-10\", \"declaration_date\": \"2022-01-27\"}, {\"ex_dividend_date\": \"2021-11-05\", \"amount\": 0.22, \"label\": \"November 05, 21\", \"adj_dividend\": 0.22, \"record_date\": \"2021-11-08\", \"payment_date\": \"2021-11-11\", \"declaration_date\": \"2021-10-28\"}, {\"ex_dividend_date\": \"2021-08-06\", \"amount\": 0.22, \"label\": \"August 06, 21\", \"adj_dividend\": 0.22, \"record_date\": \"2021-08-09\", \"payment_date\": \"2021-08-12\", \"declaration_date\": \"2021-07-27\"}, {\"ex_dividend_date\": \"2021-05-07\", \"amount\": 0.22, \"label\": \"May 07, 21\", \"adj_dividend\": 0.22, \"record_date\": \"2021-05-10\", \"payment_date\": \"2021-05-13\", \"declaration_date\": \"2021-04-28\"}, {\"ex_dividend_date\": \"2021-02-05\", \"amount\": 0.205, \"label\": \"February 05, 21\", \"adj_dividend\": 0.205, \"record_date\": \"2021-02-08\", \"payment_date\": \"2021-02-11\", \"declaration_date\": \"2021-01-27\"}, {\"ex_dividend_date\": \"2020-11-06\", \"amount\": 0.205, \"label\": \"November 06, 20\", \"adj_dividend\": 0.205, \"record_date\": \"2020-11-09\", \"payment_date\": \"2020-11-12\", \"declaration_date\": \"2020-10-29\"}, {\"ex_dividend_date\": \"2020-08-07\", \"amount\": 0.82, \"label\": \"August 07, 20\", \"adj_dividend\": 0.205, \"record_date\": \"2020-08-10\", \"payment_date\": \"2020-08-13\", \"declaration_date\": \"2020-07-30\"}, {\"ex_dividend_date\": \"2020-05-08\", \"amount\": 0.82, \"label\": \"May 08, 20\", \"adj_dividend\": 0.205, \"record_date\": \"2020-05-11\", \"payment_date\": \"2020-05-14\", \"declaration_date\": \"2020-04-30\"}, {\"ex_dividend_date\": \"2020-02-07\", \"amount\": 0.77, \"label\": \"February 07, 20\", \"adj_dividend\": 0.1925, \"record_date\": \"2020-02-10\", \"payment_date\": \"2020-02-13\", \"declaration_date\": \"2020-01-28\"}, {\"ex_dividend_date\": \"2019-11-07\", \"amount\": 0.77, \"label\": \"November 07, 19\", \"adj_dividend\": 0.1925, \"record_date\": \"2019-11-11\", \"payment_date\": \"2019-11-14\", \"declaration_date\": \"2019-10-30\"}, {\"ex_dividend_date\": \"2019-08-09\", \"amount\": 0.77, \"label\": \"August 09, 19\", \"adj_dividend\": 0.1925, \"record_date\": \"2019-08-12\", \"payment_date\": \"2019-08-15\", \"declaration_date\": \"2019-07-30\"}, {\"ex_dividend_date\": \"2019-05-10\", \"amount\": 0.77, \"label\": \"May 10, 19\", \"adj_dividend\": 0.1925, \"record_date\": \"2019-05-13\", \"payment_date\": \"2019-05-16\", \"declaration_date\": \"2019-04-30\"}, {\"ex_dividend_date\": \"2019-02-08\", \"amount\": 0.73, \"label\": \"February 08, 19\", \"adj_dividend\": 0.1825, \"record_date\": \"2019-02-11\", \"payment_date\": \"2019-02-14\", \"declaration_date\": \"2019-01-29\"}, {\"ex_dividend_date\": \"2018-11-08\", \"amount\": 0.73, \"label\": \"November 08, 18\", \"adj_dividend\": 0.1825, \"record_date\": \"2018-11-12\", \"payment_date\": \"2018-11-15\", \"declaration_date\": \"2018-11-01\"}, {\"ex_dividend_date\": \"2018-08-10\", \"amount\": 0.73, \"label\": \"August 10, 18\", \"adj_dividend\": 0.1825, \"record_date\": \"2018-08-13\", \"payment_date\": \"2018-08-16\", \"declaration_date\": \"2018-07-31\"}, {\"ex_dividend_date\": \"2018-05-11\", \"amount\": 0.73, \"label\": \"May 11, 18\", \"adj_dividend\": 0.1825, \"record_date\": \"2018-05-14\", \"payment_date\": \"2018-05-17\", \"declaration_date\": \"2018-05-01\"}, {\"ex_dividend_date\": \"2018-02-09\", \"amount\": 0.63, \"label\": \"February 09, 18\", \"adj_dividend\": 0.1575, \"record_date\": \"2018-02-12\", \"payment_date\": \"2018-02-15\", \"declaration_date\": \"2018-02-01\"}, {\"ex_dividend_date\": \"2017-11-10\", \"amount\": 0.63, \"label\": \"November 10, 17\", \"adj_dividend\": 0.1575, \"record_date\": \"2017-11-13\", \"payment_date\": \"2017-11-16\", \"declaration_date\": \"2017-11-02\"}, {\"ex_dividend_date\": \"2017-08-10\", \"amount\": 0.63, \"label\": \"August 10, 17\", \"adj_dividend\": 0.1575, \"record_date\": \"2017-08-14\", \"payment_date\": \"2017-08-17\", \"declaration_date\": \"2017-08-02\"}, {\"ex_dividend_date\": \"2017-05-11\", \"amount\": 0.63, \"label\": \"May 11, 17\", \"adj_dividend\": 0.1575, \"record_date\": \"2017-05-15\", \"payment_date\": \"2017-05-18\", \"declaration_date\": \"2017-05-03\"}, {\"ex_dividend_date\": \"2017-02-09\", \"amount\": 0.57, \"label\": \"February 09, 17\", \"adj_dividend\": 0.1425, \"record_date\": \"2017-02-13\", \"payment_date\": \"2017-02-16\", \"declaration_date\": \"2017-02-01\"}, {\"ex_dividend_date\": \"2016-11-03\", \"amount\": 0.57, \"label\": \"November 03, 16\", \"adj_dividend\": 0.1425, \"record_date\": \"2016-11-07\", \"payment_date\": \"2016-11-10\", \"declaration_date\": \"2016-10-26\"}, {\"ex_dividend_date\": \"2016-08-04\", \"amount\": 0.57, \"label\": \"August 04, 16\", \"adj_dividend\": 0.1425, \"record_date\": \"2016-08-08\", \"payment_date\": \"2016-08-11\", \"declaration_date\": \"2016-07-27\"}, {\"ex_dividend_date\": \"2016-05-05\", \"amount\": 0.57, \"label\": \"May 05, 16\", \"adj_dividend\": 0.1425, \"record_date\": \"2016-05-09\", \"payment_date\": \"2016-05-12\", \"declaration_date\": \"2016-04-27\"}, {\"ex_dividend_date\": \"2016-02-04\", \"amount\": 0.52, \"label\": \"February 04, 16\", \"adj_dividend\": 0.13, \"record_date\": \"2016-02-08\", \"payment_date\": \"2016-02-11\", \"declaration_date\": \"2016-01-27\"}, {\"ex_dividend_date\": \"2015-11-05\", \"amount\": 0.52, \"label\": \"November 05, 15\", \"adj_dividend\": 0.13, \"record_date\": \"2015-11-09\", \"payment_date\": \"2015-11-12\", \"declaration_date\": \"2015-10-28\"}, {\"ex_dividend_date\": \"2015-08-06\", \"amount\": 0.52, \"label\": \"August 06, 15\", \"adj_dividend\": 0.13, \"record_date\": \"2015-08-10\", \"payment_date\": \"2015-08-13\", \"declaration_date\": \"2015-07-22\"}, {\"ex_dividend_date\": \"2015-05-07\", \"amount\": 0.52, \"label\": \"May 07, 15\", \"adj_dividend\": 0.13, \"record_date\": \"2015-05-11\", \"payment_date\": \"2015-05-14\", \"declaration_date\": \"2015-04-28\"}, {\"ex_dividend_date\": \"2015-02-05\", \"amount\": 0.47, \"label\": \"February 05, 15\", \"adj_dividend\": 0.1175, \"record_date\": \"2015-02-09\", \"payment_date\": \"2015-02-12\", \"declaration_date\": \"2015-01-28\"}, {\"ex_dividend_date\": \"2014-11-06\", \"amount\": 0.47, \"label\": \"November 06, 14\", \"adj_dividend\": 0.1175, \"record_date\": \"2014-11-10\", \"payment_date\": \"2014-11-13\", \"declaration_date\": \"2014-10-21\"}, {\"ex_dividend_date\": \"2014-08-07\", \"amount\": 0.47, \"label\": \"August 07, 14\", \"adj_dividend\": 0.1175, \"record_date\": \"2014-08-11\", \"payment_date\": \"2014-08-14\", \"declaration_date\": \"2014-07-23\"}, {\"ex_dividend_date\": \"2014-05-08\", \"amount\": 3.29, \"label\": \"May 08, 14\", \"adj_dividend\": 0.1175, \"record_date\": \"2014-05-12\", \"payment_date\": \"2014-05-15\", \"declaration_date\": \"2014-04-23\"}, {\"ex_dividend_date\": \"2014-02-06\", \"amount\": 3.05, \"label\": \"February 06, 14\", \"adj_dividend\": 0.10893, \"record_date\": \"2014-02-10\", \"payment_date\": \"2014-02-13\", \"declaration_date\": \"2014-01-28\"}, {\"ex_dividend_date\": \"2013-11-06\", \"amount\": 3.05, \"label\": \"November 06, 13\", \"adj_dividend\": 0.10893, \"record_date\": \"2013-11-11\", \"payment_date\": \"2013-11-14\", \"declaration_date\": \"2013-10-28\"}, {\"ex_dividend_date\": \"2013-08-08\", \"amount\": 3.05, \"label\": \"August 08, 13\", \"adj_dividend\": 0.10893, \"record_date\": \"2013-08-12\", \"payment_date\": \"2013-08-15\", \"declaration_date\": \"2013-07-24\"}, {\"ex_dividend_date\": \"2013-05-09\", \"amount\": 3.05, \"label\": \"May 09, 13\", \"adj_dividend\": 0.10893, \"record_date\": \"2013-05-13\", \"payment_date\": \"2013-05-16\", \"declaration_date\": \"2013-04-23\"}, {\"ex_dividend_date\": \"2013-02-07\", \"amount\": 2.65, \"label\": \"February 07, 13\", \"adj_dividend\": 0.09464276, \"record_date\": \"2013-02-11\", \"payment_date\": \"2013-02-14\", \"declaration_date\": \"2013-01-24\"}, {\"ex_dividend_date\": \"2012-11-07\", \"amount\": 2.65, \"label\": \"November 07, 12\", \"adj_dividend\": 0.09464276, \"record_date\": \"2012-11-12\", \"payment_date\": \"2012-11-15\", \"declaration_date\": \"2012-10-25\"}, {\"ex_dividend_date\": \"2012-08-09\", \"amount\": 2.65, \"label\": \"August 09, 12\", \"adj_dividend\": 0.09464276, \"record_date\": \"2012-08-13\", \"payment_date\": \"2012-08-16\", \"declaration_date\": \"2012-07-24\"}, {\"ex_dividend_date\": \"1995-11-21\", \"amount\": 0.12, \"label\": \"November 21, 95\", \"adj_dividend\": 0.00107143, \"record_date\": \"1995-11-24\", \"payment_date\": \"1995-12-15\", \"declaration_date\": \"1995-10-09\"}, {\"ex_dividend_date\": \"1995-08-16\", \"amount\": 0.12, \"label\": \"August 16, 95\", \"adj_dividend\": 0.00107143, \"record_date\": \"1995-08-18\", \"payment_date\": \"1995-09-08\", \"declaration_date\": \"1995-07-20\"}, {\"ex_dividend_date\": \"1995-05-26\", \"amount\": 0.12, \"label\": \"May 26, 95\", \"adj_dividend\": 0.00107143, \"record_date\": \"1995-06-02\", \"payment_date\": \"1995-06-23\", \"declaration_date\": \"1995-05-02\"}, {\"ex_dividend_date\": \"1995-02-13\", \"amount\": 0.12, \"label\": \"February 13, 95\", \"adj_dividend\": 0.00107143, \"record_date\": \"1995-02-17\", \"payment_date\": \"1995-03-10\", \"declaration_date\": null}, {\"ex_dividend_date\": \"1994-11-18\", \"amount\": 0.12, \"label\": \"November 18, 94\", \"adj_dividend\": 0.00107143, \"record_date\": \"1994-11-25\", \"payment_date\": \"1994-12-16\", \"declaration_date\": null}, {\"ex_dividend_date\": \"1994-08-15\", \"amount\": 0.12, \"label\": \"August 15, 94\", \"adj_dividend\": 0.00107143, \"record_date\": \"1994-08-19\", \"payment_date\": \"1994-09-09\", \"declaration_date\": null}, {\"ex_dividend_date\": \"1994-05-27\", \"amount\": 0.12, \"label\": \"May 27, 94\", \"adj_dividend\": 0.00107143, \"record_date\": \"1994-06-03\", \"payment_date\": \"1994-06-24\", \"declaration_date\": null}, {\"ex_dividend_date\": \"1994-02-07\", \"amount\": 0.12, \"label\": \"February 07, 94\", \"adj_dividend\": 0.00107143, \"record_date\": \"1994-02-11\", \"payment_date\": \"1994-03-04\", \"declaration_date\": \"1994-02-02\"}, {\"ex_dividend_date\": \"1993-11-19\", \"amount\": 0.12, \"label\": \"November 19, 93\", \"adj_dividend\": 0.00107143, \"record_date\": \"1993-11-26\", \"payment_date\": \"1993-12-17\", \"declaration_date\": null}, {\"ex_dividend_date\": \"1993-08-16\", \"amount\": 0.12, \"label\": \"August 16, 93\", \"adj_dividend\": 0.00107143, \"record_date\": \"1993-08-20\", \"payment_date\": \"1993-09-10\", \"declaration_date\": null}, {\"ex_dividend_date\": \"1993-05-28\", \"amount\": 0.12, \"label\": \"May 28, 93\", \"adj_dividend\": 0.00107143, \"record_date\": \"1993-06-04\", \"payment_date\": \"1993-06-25\", \"declaration_date\": null}, {\"ex_dividend_date\": \"1993-02-12\", \"amount\": 0.12, \"label\": \"February 12, 93\", \"adj_dividend\": 0.00107143, \"record_date\": \"1993-02-19\", \"payment_date\": \"1993-03-12\", \"declaration_date\": null}, {\"ex_dividend_date\": \"1992-11-30\", \"amount\": 0.12, \"label\": \"November 30, 92\", \"adj_dividend\": 0.00107143, \"record_date\": \"1992-12-04\", \"payment_date\": \"1992-12-18\", \"declaration_date\": \"1992-11-23\"}, {\"ex_dividend_date\": \"1992-08-17\", \"amount\": 0.12, \"label\": \"August 17, 92\", \"adj_dividend\": 0.001071, \"record_date\": \"1992-08-21\", \"payment_date\": \"1992-09-11\", \"declaration_date\": null}, {\"ex_dividend_date\": \"1992-06-01\", \"amount\": 0.12, \"label\": \"June 01, 92\", \"adj_dividend\": 0.001071, \"record_date\": null, \"payment_date\": null, \"declaration_date\": null}, {\"ex_dividend_date\": \"1992-02-14\", \"amount\": 0.12, \"label\": \"February 14, 92\", \"adj_dividend\": 0.001071, \"record_date\": \"1992-02-21\", \"payment_date\": \"1992-03-13\", \"declaration_date\": null}, {\"ex_dividend_date\": \"1991-11-18\", \"amount\": 0.12, \"label\": \"November 18, 91\", \"adj_dividend\": 0.001071, \"record_date\": \"1991-11-22\", \"payment_date\": \"1991-12-13\", \"declaration_date\": null}, {\"ex_dividend_date\": \"1991-08-19\", \"amount\": 0.12, \"label\": \"August 19, 91\", \"adj_dividend\": 0.001071, \"record_date\": \"1991-08-23\", \"payment_date\": \"1991-09-13\", \"declaration_date\": null}, {\"ex_dividend_date\": \"1991-05-20\", \"amount\": 0.12, \"label\": \"May 20, 91\", \"adj_dividend\": 0.001071, \"record_date\": \"1991-05-24\", \"payment_date\": \"1991-06-14\", \"declaration_date\": null}, {\"ex_dividend_date\": \"1991-02-15\", \"amount\": 0.12, \"label\": \"February 15, 91\", \"adj_dividend\": 0.00107143, \"record_date\": \"1991-02-22\", \"payment_date\": \"1991-03-15\", \"declaration_date\": null}, {\"ex_dividend_date\": \"1990-11-16\", \"amount\": 0.12, \"label\": \"November 16, 90\", \"adj_dividend\": 0.00107143, \"record_date\": \"1990-11-23\", \"payment_date\": \"1990-12-14\", \"declaration_date\": \"1990-11-08\"}, {\"ex_dividend_date\": \"1990-08-20\", \"amount\": 0.11, \"label\": \"August 20, 90\", \"adj_dividend\": 0.000982141875, \"record_date\": \"1990-08-24\", \"payment_date\": \"1990-09-14\", \"declaration_date\": \"1990-07-23\"}, {\"ex_dividend_date\": \"1990-05-21\", \"amount\": 0.11, \"label\": \"May 21, 90\", \"adj_dividend\": 0.000982141875, \"record_date\": \"1990-05-25\", \"payment_date\": \"1990-06-15\", \"declaration_date\": \"1990-04-09\"}, {\"ex_dividend_date\": \"1990-02-16\", \"amount\": 0.11, \"label\": \"February 16, 90\", \"adj_dividend\": 0.000982141875, \"record_date\": \"1990-02-23\", \"payment_date\": \"1990-03-15\", \"declaration_date\": \"1990-02-02\"}, {\"ex_dividend_date\": \"1989-11-17\", \"amount\": 0.1, \"label\": \"November 17, 89\", \"adj_dividend\": 0.000982141875, \"record_date\": \"1989-11-24\", \"payment_date\": \"1989-12-15\", \"declaration_date\": \"1989-11-10\"}, {\"ex_dividend_date\": \"1989-08-21\", \"amount\": 0.1, \"label\": \"August 21, 89\", \"adj_dividend\": 0.00089285625, \"record_date\": \"1989-08-25\", \"payment_date\": \"1989-09-15\", \"declaration_date\": \"1989-07-28\"}, {\"ex_dividend_date\": \"1989-05-22\", \"amount\": 0.1, \"label\": \"May 22, 89\", \"adj_dividend\": 0.00089285625, \"record_date\": \"1989-05-26\", \"payment_date\": \"1989-06-15\", \"declaration_date\": \"1989-04-21\"}, {\"ex_dividend_date\": \"1989-02-17\", \"amount\": 0.1, \"label\": \"February 17, 89\", \"adj_dividend\": 0.00089285625, \"record_date\": \"1989-02-24\", \"payment_date\": \"1989-03-15\", \"declaration_date\": \"1989-02-03\"}, {\"ex_dividend_date\": \"1988-11-21\", \"amount\": 0.1, \"label\": \"November 21, 88\", \"adj_dividend\": 0.00089285625, \"record_date\": \"1988-11-28\", \"payment_date\": \"1988-12-15\", \"declaration_date\": \"1988-11-10\"}, {\"ex_dividend_date\": \"1988-08-15\", \"amount\": 0.08, \"label\": \"August 15, 88\", \"adj_dividend\": 0.000714285, \"record_date\": \"1988-08-19\", \"payment_date\": \"1988-09-15\", \"declaration_date\": \"1988-07-25\"}, {\"ex_dividend_date\": \"1988-05-16\", \"amount\": 0.08, \"label\": \"May 16, 88\", \"adj_dividend\": 0.000714285, \"record_date\": \"1988-05-20\", \"payment_date\": \"1988-06-15\", \"declaration_date\": \"1988-04-29\"}, {\"ex_dividend_date\": \"1988-02-12\", \"amount\": 0.08, \"label\": \"February 12, 88\", \"adj_dividend\": 0.000714285, \"record_date\": \"1988-02-19\", \"payment_date\": \"1988-03-15\", \"declaration_date\": \"1988-01-29\"}, {\"ex_dividend_date\": \"1987-11-17\", \"amount\": 0.08, \"label\": \"November 17, 87\", \"adj_dividend\": 0.000714285, \"record_date\": \"1987-11-23\", \"payment_date\": \"1987-12-15\", \"declaration_date\": \"1987-11-13\"}, {\"ex_dividend_date\": \"1987-08-10\", \"amount\": 0.06, \"label\": \"August 10, 87\", \"adj_dividend\": 0.00053571375, \"record_date\": \"1987-08-14\", \"payment_date\": \"1987-09-15\", \"declaration_date\": \"1987-07-31\"}, {\"ex_dividend_date\": \"1987-05-11\", \"amount\": 0.12, \"label\": \"May 11, 87\", \"adj_dividend\": 0.00053571375, \"record_date\": \"1987-05-15\", \"payment_date\": \"1987-06-15\", \"declaration_date\": \"1987-04-22\"}]'"
      ]
     },
     "execution_count": 110,
     "metadata": {},
     "output_type": "execute_result"
    }
   ],
   "source": [
    "tool = BB_agent_tool(\n",
    "    name=\"get_equity_fundamental_dividend\",\n",
    "    description=\"Given a stock symbol, get the latest dividend data for the company in JSON format.\",\n",
    "    openapi_path='/api/v1/equity/fundamental/dividends',\n",
    "    parameters={\n",
    "        \"symbol\": {\n",
    "            \"type\": \"string\",\n",
    "            \"description\": \"The stock symbol.\"\n",
    "        }\n",
    "        },\n",
    "    example_parameter_values=[{\n",
    "        \"symbol\": \"NVDA\",\n",
    "    }],\n",
    ")\n",
    "\n",
    "tools[tool.name]=tool.make_metadata()\n",
    "\n",
    "tool('AAPL')\n"
   ]
  },
  {
   "cell_type": "code",
   "execution_count": 111,
   "id": "d72d044c-92b5-4e2f-a815-9e7efbe63159",
   "metadata": {},
   "outputs": [
    {
     "name": "stdout",
     "output_type": "stream",
     "text": [
      "get_equity_fundamental_dividend({'symbol': 'MRK'}) -> [{\"ex_dividend_date\": \"2024-03-14\", \"amount\": 0.77, \"label\": \"March 14, 24\", \"adj_dividend\": 0.77, \"...\n"
     ]
    },
    {
     "data": {
      "text/markdown": [
       "The latest dividend data for Merck & Co., Inc. (MRK) is as follows:\n",
       "\n",
       "- **Ex-dividend Date:** March 14, 2024\n",
       "- **Dividend Amount:** \\\\$0.77 per share\n",
       "- **Record Date:** March 15, 2024\n",
       "- **Payment Date:** April 5, 2024\n",
       "- **Declaration Date:** January 23, 2024\n",
       "\n",
       "If you need more historical dividend information or any other details, feel free to ask!"
      ],
      "text/plain": [
       "<IPython.core.display.Markdown object>"
      ]
     },
     "metadata": {},
     "output_type": "display_data"
    }
   ],
   "source": [
    "agent_query(f\"what was the latest dividend data for stock symbol {symbol}?\", tools=tools, verbose=False)\n"
   ]
  },
  {
   "cell_type": "code",
   "execution_count": 112,
   "id": "d6ea54fe-b064-4db1-a776-2e585d434355",
   "metadata": {},
   "outputs": [
    {
     "name": "stdout",
     "output_type": "stream",
     "text": [
      "get_equity_search_symbol({'search_str': 'Merck & Co.'}) -> {'symbol': 'MRK', 'name': 'MERCK & CO INC COM', 'dpm_name': 'Wolverine Trading, LLC', 'post_station'...\n",
      "get_equity_fundamental_dividend({'symbol': 'MRK'}) -> [{\"ex_dividend_date\": \"2024-03-14\", \"amount\": 0.77, \"label\": \"March 14, 24\", \"adj_dividend\": 0.77, \"...\n"
     ]
    },
    {
     "data": {
      "text/markdown": [
       "As of the end of 2022, Merck & Co. Inc. (symbol MRK) had the following dividend data:\n",
       "\n",
       "1. **Ex-Dividend Date**: December 14, 2022\n",
       "   - **Amount**: \\\\$0.73\n",
       "   - **Record Date**: December 15, 2022\n",
       "   - **Payment Date**: January 9, 2023\n",
       "   - **Declaration Date**: November 29, 2022\n",
       "\n",
       "2. **Ex-Dividend Date**: September 14, 2022\n",
       "   - **Amount**: \\\\$0.69\n",
       "   - **Record Date**: September 15, 2022\n",
       "   - **Payment Date**: October 7, 2022\n",
       "   - **Declaration Date**: July 26, 2022\n",
       "\n",
       "3. **Ex-Dividend Date**: June 14, 2022\n",
       "   - **Amount**: \\\\$0.69\n",
       "   - **Record Date**: June 15, 2022\n",
       "   - **Payment Date**: July 8, 2022\n",
       "   - **Declaration Date**: May 24, 2022\n",
       "\n",
       "4. **Ex-Dividend Date**: March 14, 2022\n",
       "   - **Amount**: \\\\$0.69\n",
       "   - **Record Date**: March 15, 2022\n",
       "   - **Payment Date**: April 7, 2022\n",
       "   - **Declaration Date**: January 25, 2022"
      ],
      "text/plain": [
       "<IPython.core.display.Markdown object>"
      ]
     },
     "metadata": {},
     "output_type": "display_data"
    }
   ],
   "source": [
    "agent_query(f\"what was the dividend data as of the end of 2022 for stock symbol {symbol}?\", tools=tools, verbose=False)\n"
   ]
  },
  {
   "cell_type": "code",
   "execution_count": 114,
   "id": "99edfa69-941d-49c7-8842-bddf674cece0",
   "metadata": {},
   "outputs": [
    {
     "data": {
      "text/plain": [
       "'[{\"date\": \"2023-05-12\", \"trailing_dividend_yield\": 0.0053891175}, {\"date\": \"2023-05-15\", \"trailing_dividend_yield\": 0.0054047771}, {\"date\": \"2023-05-16\", \"trailing_dividend_yield\": 0.0054047771}, {\"date\": \"2023-05-17\", \"trailing_dividend_yield\": 0.0053853726}, {\"date\": \"2023-05-18\", \"trailing_dividend_yield\": 0.0053127678}, {\"date\": \"2023-05-19\", \"trailing_dividend_yield\": 0.0053094314}, {\"date\": \"2023-05-22\", \"trailing_dividend_yield\": 0.0053386912}, {\"date\": \"2023-05-23\", \"trailing_dividend_yield\": 0.005420844}, {\"date\": \"2023-05-24\", \"trailing_dividend_yield\": 0.0054120112}, {\"date\": \"2023-05-25\", \"trailing_dividend_yield\": 0.0053760333}, {\"date\": \"2023-05-26\", \"trailing_dividend_yield\": 0.0053012598}, {\"date\": \"2023-05-30\", \"trailing_dividend_yield\": 0.0052453469}, {\"date\": \"2023-05-31\", \"trailing_dividend_yield\": 0.0052468265}, {\"date\": \"2023-06-01\", \"trailing_dividend_yield\": 0.0051640846}, {\"date\": \"2023-06-02\", \"trailing_dividend_yield\": 0.0051395413}, {\"date\": \"2023-06-05\", \"trailing_dividend_yield\": 0.0051787504}, {\"date\": \"2023-06-06\", \"trailing_dividend_yield\": 0.0051894426}, {\"date\": \"2023-06-07\", \"trailing_dividend_yield\": 0.0052300079}, {\"date\": \"2023-06-08\", \"trailing_dividend_yield\": 0.0051503572}, {\"date\": \"2023-06-09\", \"trailing_dividend_yield\": 0.0051392573}, {\"date\": \"2023-06-12\", \"trailing_dividend_yield\": 0.005060123}, {\"date\": \"2023-06-13\", \"trailing_dividend_yield\": 0.005073373}, {\"date\": \"2023-06-14\", \"trailing_dividend_yield\": 0.0050557217}, {\"date\": \"2023-06-15\", \"trailing_dividend_yield\": 0.0049997312}, {\"date\": \"2023-06-16\", \"trailing_dividend_yield\": 0.0050292018}, {\"date\": \"2023-06-20\", \"trailing_dividend_yield\": 0.0050267553}, {\"date\": \"2023-06-21\", \"trailing_dividend_yield\": 0.0050554468}, {\"date\": \"2023-06-22\", \"trailing_dividend_yield\": 0.004973262}, {\"date\": \"2023-06-23\", \"trailing_dividend_yield\": 0.004981787}, {\"date\": \"2023-06-26\", \"trailing_dividend_yield\": 0.005019701}, {\"date\": \"2023-06-27\", \"trailing_dividend_yield\": 0.0049452302}, {\"date\": \"2023-06-28\", \"trailing_dividend_yield\": 0.0049141347}, {\"date\": \"2023-06-29\", \"trailing_dividend_yield\": 0.004905322}, {\"date\": \"2023-06-30\", \"trailing_dividend_yield\": 0.0047945559}, {\"date\": \"2023-07-03\", \"trailing_dividend_yield\": 0.0048321729}, {\"date\": \"2023-07-05\", \"trailing_dividend_yield\": 0.0048607119}, {\"date\": \"2023-07-06\", \"trailing_dividend_yield\": 0.004848548}, {\"date\": \"2023-07-07\", \"trailing_dividend_yield\": 0.0048772813}, {\"date\": \"2023-07-10\", \"trailing_dividend_yield\": 0.0049308096}, {\"date\": \"2023-07-11\", \"trailing_dividend_yield\": 0.0049447044}, {\"date\": \"2023-07-12\", \"trailing_dividend_yield\": 0.0049006692}, {\"date\": \"2023-07-13\", \"trailing_dividend_yield\": 0.0048808649}, {\"date\": \"2023-07-14\", \"trailing_dividend_yield\": 0.0048770255}, {\"date\": \"2023-07-17\", \"trailing_dividend_yield\": 0.0047940615}, {\"date\": \"2023-07-18\", \"trailing_dividend_yield\": 0.0048004955}, {\"date\": \"2023-07-19\", \"trailing_dividend_yield\": 0.0047667863}, {\"date\": \"2023-07-20\", \"trailing_dividend_yield\": 0.0048154093}, {\"date\": \"2023-07-21\", \"trailing_dividend_yield\": 0.0048452641}, {\"date\": \"2023-07-24\", \"trailing_dividend_yield\": 0.0048249027}, {\"date\": \"2023-07-25\", \"trailing_dividend_yield\": 0.0048032228}, {\"date\": \"2023-07-26\", \"trailing_dividend_yield\": 0.004781491}, {\"date\": \"2023-07-27\", \"trailing_dividend_yield\": 0.0048131663}, {\"date\": \"2023-07-28\", \"trailing_dividend_yield\": 0.004749017}, {\"date\": \"2023-07-31\", \"trailing_dividend_yield\": 0.004734029}, {\"date\": \"2023-08-01\", \"trailing_dividend_yield\": 0.0047544797}, {\"date\": \"2023-08-02\", \"trailing_dividend_yield\": 0.0048291619}, {\"date\": \"2023-08-03\", \"trailing_dividend_yield\": 0.00486478}, {\"date\": \"2023-08-04\", \"trailing_dividend_yield\": 0.0051101709}, {\"date\": \"2023-08-07\", \"trailing_dividend_yield\": 0.0051998882}, {\"date\": \"2023-08-08\", \"trailing_dividend_yield\": 0.0038932147}, {\"date\": \"2023-08-09\", \"trailing_dividend_yield\": 0.003928391}, {\"date\": \"2023-08-10\", \"trailing_dividend_yield\": 0.0039332472}, {\"date\": \"2023-08-11\", \"trailing_dividend_yield\": 0.0052871365}, {\"date\": \"2023-08-14\", \"trailing_dividend_yield\": 0.005237936}, {\"date\": \"2023-08-15\", \"trailing_dividend_yield\": 0.0052972668}, {\"date\": \"2023-08-16\", \"trailing_dividend_yield\": 0.0053236677}, {\"date\": \"2023-08-17\", \"trailing_dividend_yield\": 0.0054022989}, {\"date\": \"2023-08-18\", \"trailing_dividend_yield\": 0.0053871282}, {\"date\": \"2023-08-21\", \"trailing_dividend_yield\": 0.0053457689}, {\"date\": \"2023-08-22\", \"trailing_dividend_yield\": 0.0053038425}, {\"date\": \"2023-08-23\", \"trailing_dividend_yield\": 0.0051899293}, {\"date\": \"2023-08-24\", \"trailing_dividend_yield\": 0.0053294024}, {\"date\": \"2023-08-25\", \"trailing_dividend_yield\": 0.0052628632}, {\"date\": \"2023-08-28\", \"trailing_dividend_yield\": 0.0052167157}, {\"date\": \"2023-08-29\", \"trailing_dividend_yield\": 0.0051053661}, {\"date\": \"2023-08-30\", \"trailing_dividend_yield\": 0.0050093259}, {\"date\": \"2023-08-31\", \"trailing_dividend_yield\": 0.0050034598}, {\"date\": \"2023-09-01\", \"trailing_dividend_yield\": 0.0049614694}, {\"date\": \"2023-09-05\", \"trailing_dividend_yield\": 0.0049551924}, {\"date\": \"2023-09-06\", \"trailing_dividend_yield\": 0.0051391395}, {\"date\": \"2023-09-07\", \"trailing_dividend_yield\": 0.0052939851}, {\"date\": \"2023-09-08\", \"trailing_dividend_yield\": 0.005275564}, {\"date\": \"2023-09-11\", \"trailing_dividend_yield\": 0.0052408564}, {\"date\": \"2023-09-12\", \"trailing_dividend_yield\": 0.0053318208}, {\"date\": \"2023-09-13\", \"trailing_dividend_yield\": 0.0053957867}, {\"date\": \"2023-09-14\", \"trailing_dividend_yield\": 0.0053488107}, {\"date\": \"2023-09-15\", \"trailing_dividend_yield\": 0.0053711217}, {\"date\": \"2023-09-18\", \"trailing_dividend_yield\": 0.0052817891}, {\"date\": \"2023-09-19\", \"trailing_dividend_yield\": 0.0052493438}, {\"date\": \"2023-09-20\", \"trailing_dividend_yield\": 0.0053564306}, {\"date\": \"2023-09-21\", \"trailing_dividend_yield\": 0.0054044731}, {\"date\": \"2023-09-22\", \"trailing_dividend_yield\": 0.005377882}, {\"date\": \"2023-09-25\", \"trailing_dividend_yield\": 0.0053384825}, {\"date\": \"2023-09-26\", \"trailing_dividend_yield\": 0.0054663875}, {\"date\": \"2023-09-27\", \"trailing_dividend_yield\": 0.0055154609}, {\"date\": \"2023-09-28\", \"trailing_dividend_yield\": 0.0055070596}, {\"date\": \"2023-09-29\", \"trailing_dividend_yield\": 0.0054903335}, {\"date\": \"2023-10-02\", \"trailing_dividend_yield\": 0.0054100719}, {\"date\": \"2023-10-03\", \"trailing_dividend_yield\": 0.0054524362}, {\"date\": \"2023-10-04\", \"trailing_dividend_yield\": 0.0054128757}, {\"date\": \"2023-10-05\", \"trailing_dividend_yield\": 0.0053741924}, {\"date\": \"2023-10-06\", \"trailing_dividend_yield\": 0.005296073}, {\"date\": \"2023-10-09\", \"trailing_dividend_yield\": 0.00525169}, {\"date\": \"2023-10-10\", \"trailing_dividend_yield\": 0.0052693537}, {\"date\": \"2023-10-11\", \"trailing_dividend_yield\": 0.0052280311}, {\"date\": \"2023-10-12\", \"trailing_dividend_yield\": 0.0052017044}, {\"date\": \"2023-10-13\", \"trailing_dividend_yield\": 0.005255801}, {\"date\": \"2023-10-16\", \"trailing_dividend_yield\": 0.005259624}, {\"date\": \"2023-10-17\", \"trailing_dividend_yield\": 0.0053062377}, {\"date\": \"2023-10-18\", \"trailing_dividend_yield\": 0.0053457689}, {\"date\": \"2023-10-19\", \"trailing_dividend_yield\": 0.0053573464}, {\"date\": \"2023-10-20\", \"trailing_dividend_yield\": 0.0054372975}, {\"date\": \"2023-10-23\", \"trailing_dividend_yield\": 0.005433526}, {\"date\": \"2023-10-24\", \"trailing_dividend_yield\": 0.0054197417}, {\"date\": \"2023-10-25\", \"trailing_dividend_yield\": 0.0054938632}, {\"date\": \"2023-10-26\", \"trailing_dividend_yield\": 0.0056324525}, {\"date\": \"2023-10-27\", \"trailing_dividend_yield\": 0.0055879206}, {\"date\": \"2023-10-30\", \"trailing_dividend_yield\": 0.0055199953}, {\"date\": \"2023-10-31\", \"trailing_dividend_yield\": 0.0055044797}, {\"date\": \"2023-11-01\", \"trailing_dividend_yield\": 0.0054032304}, {\"date\": \"2023-11-02\", \"trailing_dividend_yield\": 0.005293687}, {\"date\": \"2023-11-03\", \"trailing_dividend_yield\": 0.0053212567}, {\"date\": \"2023-11-06\", \"trailing_dividend_yield\": 0.0052446577}, {\"date\": \"2023-11-07\", \"trailing_dividend_yield\": 0.003904961}, {\"date\": \"2023-11-08\", \"trailing_dividend_yield\": 0.0038821149}, {\"date\": \"2023-11-09\", \"trailing_dividend_yield\": 0.0038923305}, {\"date\": \"2023-11-10\", \"trailing_dividend_yield\": 0.0050965665}, {\"date\": \"2023-11-13\", \"trailing_dividend_yield\": 0.0051406926}, {\"date\": \"2023-11-14\", \"trailing_dividend_yield\": 0.0050682885}, {\"date\": \"2023-11-15\", \"trailing_dividend_yield\": 0.0050529227}, {\"date\": \"2023-11-16\", \"trailing_dividend_yield\": 0.0050076432}, {\"date\": \"2023-11-17\", \"trailing_dividend_yield\": 0.0050081712}, {\"date\": \"2023-11-20\", \"trailing_dividend_yield\": 0.0049621311}, {\"date\": \"2023-11-21\", \"trailing_dividend_yield\": 0.0049832144}, {\"date\": \"2023-11-22\", \"trailing_dividend_yield\": 0.0049657624}, {\"date\": \"2023-11-24\", \"trailing_dividend_yield\": 0.0050007896}, {\"date\": \"2023-11-27\", \"trailing_dividend_yield\": 0.0050055324}, {\"date\": \"2023-11-28\", \"trailing_dividend_yield\": 0.0049894958}, {\"date\": \"2023-11-29\", \"trailing_dividend_yield\": 0.0050166341}, {\"date\": \"2023-11-30\", \"trailing_dividend_yield\": 0.0050013161}, {\"date\": \"2023-12-01\", \"trailing_dividend_yield\": 0.00496758}, {\"date\": \"2023-12-04\", \"trailing_dividend_yield\": 0.0050150451}, {\"date\": \"2023-12-05\", \"trailing_dividend_yield\": 0.0049115914}, {\"date\": \"2023-12-06\", \"trailing_dividend_yield\": 0.0049396839}, {\"date\": \"2023-12-07\", \"trailing_dividend_yield\": 0.0048901014}, {\"date\": \"2023-12-08\", \"trailing_dividend_yield\": 0.0048541209}, {\"date\": \"2023-12-11\", \"trailing_dividend_yield\": 0.0049176933}, {\"date\": \"2023-12-12\", \"trailing_dividend_yield\": 0.0048790509}, {\"date\": \"2023-12-13\", \"trailing_dividend_yield\": 0.0047989493}, {\"date\": \"2023-12-14\", \"trailing_dividend_yield\": 0.0047953157}, {\"date\": \"2023-12-15\", \"trailing_dividend_yield\": 0.0048084223}, {\"date\": \"2023-12-18\", \"trailing_dividend_yield\": 0.0048496605}, {\"date\": \"2023-12-19\", \"trailing_dividend_yield\": 0.0048238042}, {\"date\": \"2023-12-20\", \"trailing_dividend_yield\": 0.0048760458}, {\"date\": \"2023-12-21\", \"trailing_dividend_yield\": 0.0048798028}, {\"date\": \"2023-12-22\", \"trailing_dividend_yield\": 0.0049070248}, {\"date\": \"2023-12-26\", \"trailing_dividend_yield\": 0.0049210049}, {\"date\": \"2023-12-27\", \"trailing_dividend_yield\": 0.0049184572}, {\"date\": \"2023-12-28\", \"trailing_dividend_yield\": 0.0049075318}, {\"date\": \"2023-12-29\", \"trailing_dividend_yield\": 0.004934296}, {\"date\": \"2024-01-02\", \"trailing_dividend_yield\": 0.0051174316}, {\"date\": \"2024-01-03\", \"trailing_dividend_yield\": 0.005156038}, {\"date\": \"2024-01-04\", \"trailing_dividend_yield\": 0.0052223627}, {\"date\": \"2024-01-05\", \"trailing_dividend_yield\": 0.0052434043}, {\"date\": \"2024-01-08\", \"trailing_dividend_yield\": 0.0051196379}, {\"date\": \"2024-01-09\", \"trailing_dividend_yield\": 0.005131252}, {\"date\": \"2024-01-10\", \"trailing_dividend_yield\": 0.0051023148}, {\"date\": \"2024-01-11\", \"trailing_dividend_yield\": 0.0051188103}, {\"date\": \"2024-01-12\", \"trailing_dividend_yield\": 0.0051097246}, {\"date\": \"2024-01-16\", \"trailing_dividend_yield\": 0.0051734466}, {\"date\": \"2024-01-17\", \"trailing_dividend_yield\": 0.0052003503}, {\"date\": \"2024-01-18\", \"trailing_dividend_yield\": 0.0050363145}, {\"date\": \"2024-01-19\", \"trailing_dividend_yield\": 0.0049592817}, {\"date\": \"2024-01-22\", \"trailing_dividend_yield\": 0.0048996854}, {\"date\": \"2024-01-23\", \"trailing_dividend_yield\": 0.004867302}, {\"date\": \"2024-01-24\", \"trailing_dividend_yield\": 0.0048843188}, {\"date\": \"2024-01-25\", \"trailing_dividend_yield\": 0.0048926199}, {\"date\": \"2024-01-26\", \"trailing_dividend_yield\": 0.0049371167}, {\"date\": \"2024-01-29\", \"trailing_dividend_yield\": 0.0049548845}, {\"date\": \"2024-01-30\", \"trailing_dividend_yield\": 0.0050521166}, {\"date\": \"2024-01-31\", \"trailing_dividend_yield\": 0.0051518438}, {\"date\": \"2024-02-01\", \"trailing_dividend_yield\": 0.0050840201}, {\"date\": \"2024-02-02\", \"trailing_dividend_yield\": 0.0051116492}, {\"date\": \"2024-02-05\", \"trailing_dividend_yield\": 0.0050618073}, {\"date\": \"2024-02-06\", \"trailing_dividend_yield\": 0.0050184892}, {\"date\": \"2024-02-07\", \"trailing_dividend_yield\": 0.0050155747}, {\"date\": \"2024-02-08\", \"trailing_dividend_yield\": 0.0050446049}, {\"date\": \"2024-02-09\", \"trailing_dividend_yield\": 0.0063012973}, {\"date\": \"2024-02-12\", \"trailing_dividend_yield\": 0.0063585359}, {\"date\": \"2024-02-13\", \"trailing_dividend_yield\": 0.0051880674}, {\"date\": \"2024-02-14\", \"trailing_dividend_yield\": 0.0052131415}, {\"date\": \"2024-02-15\", \"trailing_dividend_yield\": 0.0052213641}, {\"date\": \"2024-02-16\", \"trailing_dividend_yield\": 0.0052657561}, {\"date\": \"2024-02-20\", \"trailing_dividend_yield\": 0.0052875083}, {\"date\": \"2024-02-21\", \"trailing_dividend_yield\": 0.0052654673}, {\"date\": \"2024-02-22\", \"trailing_dividend_yield\": 0.0052069209}, {\"date\": \"2024-02-23\", \"trailing_dividend_yield\": 0.0052596976}, {\"date\": \"2024-02-26\", \"trailing_dividend_yield\": 0.005299183}, {\"date\": \"2024-02-27\", \"trailing_dividend_yield\": 0.0052565296}, {\"date\": \"2024-02-28\", \"trailing_dividend_yield\": 0.0052915886}, {\"date\": \"2024-02-29\", \"trailing_dividend_yield\": 0.0053112033}, {\"date\": \"2024-03-01\", \"trailing_dividend_yield\": 0.0053434265}, {\"date\": \"2024-03-04\", \"trailing_dividend_yield\": 0.0054825814}, {\"date\": \"2024-03-05\", \"trailing_dividend_yield\": 0.0056430755}, {\"date\": \"2024-03-06\", \"trailing_dividend_yield\": 0.0056764428}, {\"date\": \"2024-03-07\", \"trailing_dividend_yield\": 0.0056804734}, {\"date\": \"2024-03-08\", \"trailing_dividend_yield\": 0.0056229134}, {\"date\": \"2024-03-11\", \"trailing_dividend_yield\": 0.0055571635}, {\"date\": \"2024-03-12\", \"trailing_dividend_yield\": 0.0055417653}, {\"date\": \"2024-03-13\", \"trailing_dividend_yield\": 0.0056097704}, {\"date\": \"2024-03-14\", \"trailing_dividend_yield\": 0.0055491329}, {\"date\": \"2024-03-15\", \"trailing_dividend_yield\": 0.0055613486}, {\"date\": \"2024-03-18\", \"trailing_dividend_yield\": 0.005526134}, {\"date\": \"2024-03-19\", \"trailing_dividend_yield\": 0.0054520672}, {\"date\": \"2024-03-20\", \"trailing_dividend_yield\": 0.0053730341}, {\"date\": \"2024-03-21\", \"trailing_dividend_yield\": 0.005601914}, {\"date\": \"2024-03-22\", \"trailing_dividend_yield\": 0.0055723241}, {\"date\": \"2024-03-25\", \"trailing_dividend_yield\": 0.005618964}, {\"date\": \"2024-03-26\", \"trailing_dividend_yield\": 0.0056567085}, {\"date\": \"2024-03-27\", \"trailing_dividend_yield\": 0.0055392072}, {\"date\": \"2024-03-28\", \"trailing_dividend_yield\": 0.0055983205}, {\"date\": \"2024-04-01\", \"trailing_dividend_yield\": 0.0056460625}, {\"date\": \"2024-04-02\", \"trailing_dividend_yield\": 0.0056858564}, {\"date\": \"2024-04-03\", \"trailing_dividend_yield\": 0.0056587091}, {\"date\": \"2024-04-04\", \"trailing_dividend_yield\": 0.00568653}, {\"date\": \"2024-04-05\", \"trailing_dividend_yield\": 0.0056610449}, {\"date\": \"2024-04-08\", \"trailing_dividend_yield\": 0.0056990205}, {\"date\": \"2024-04-09\", \"trailing_dividend_yield\": 0.0056580421}, {\"date\": \"2024-04-10\", \"trailing_dividend_yield\": 0.0057217785}, {\"date\": \"2024-04-11\", \"trailing_dividend_yield\": 0.0054844607}, {\"date\": \"2024-04-12\", \"trailing_dividend_yield\": 0.0054375531}, {\"date\": \"2024-04-15\", \"trailing_dividend_yield\": 0.0055590943}, {\"date\": \"2024-04-16\", \"trailing_dividend_yield\": 0.0056677294}, {\"date\": \"2024-04-17\", \"trailing_dividend_yield\": 0.0057142857}, {\"date\": \"2024-04-18\", \"trailing_dividend_yield\": 0.0057471264}, {\"date\": \"2024-04-19\", \"trailing_dividend_yield\": 0.0058181818}, {\"date\": \"2024-04-22\", \"trailing_dividend_yield\": 0.005788712}, {\"date\": \"2024-04-23\", \"trailing_dividend_yield\": 0.0057519473}, {\"date\": \"2024-04-24\", \"trailing_dividend_yield\": 0.0056798012}, {\"date\": \"2024-04-25\", \"trailing_dividend_yield\": 0.0056507152}, {\"date\": \"2024-04-26\", \"trailing_dividend_yield\": 0.0056704076}, {\"date\": \"2024-04-29\", \"trailing_dividend_yield\": 0.0055331412}, {\"date\": \"2024-04-30\", \"trailing_dividend_yield\": 0.0056361181}, {\"date\": \"2024-05-01\", \"trailing_dividend_yield\": 0.0056704076}, {\"date\": \"2024-05-02\", \"trailing_dividend_yield\": 0.0055481708}, {\"date\": \"2024-05-03\", \"trailing_dividend_yield\": 0.0052350311}, {\"date\": \"2024-05-06\", \"trailing_dividend_yield\": 0.0052831435}, {\"date\": \"2024-05-07\", \"trailing_dividend_yield\": 0.0052631579}, {\"date\": \"2024-05-08\", \"trailing_dividend_yield\": 0.0052533654}, {\"date\": \"2024-05-09\", \"trailing_dividend_yield\": 0.0052012786}, {\"date\": \"2024-05-10\", \"trailing_dividend_yield\": 0.0066102158}, {\"date\": \"2024-05-13\", \"trailing_dividend_yield\": 0.006495598}]'"
      ]
     },
     "execution_count": 114,
     "metadata": {},
     "output_type": "execute_result"
    }
   ],
   "source": [
    "tool = BB_agent_tool(\n",
    "    name=\"get_trailing_dividend_yield_json\",\n",
    "    description=\"Given a stock symbol, get the 1 year trailing dividend yield for the company over time in JSON format.\",\n",
    "    openapi_path='/api/v1/equity/fundamental/trailing_dividend_yield',\n",
    "    parameters={\n",
    "        \"symbol\": {\n",
    "            \"type\": \"string\",\n",
    "            \"description\": \"The stock symbol.\"\n",
    "        }\n",
    "        },\n",
    "    example_parameter_values=[{\n",
    "        \"symbol\": \"NVDA\",\n",
    "    }],\n",
    ")\n",
    "\n",
    "tools[tool.name]=tool.make_metadata()\n",
    "\n",
    "tool('AAPL')\n"
   ]
  },
  {
   "cell_type": "code",
   "execution_count": 115,
   "id": "2e9a8665-fdf8-421f-90b8-4d373990c5c6",
   "metadata": {},
   "outputs": [
    {
     "name": "stdout",
     "output_type": "stream",
     "text": [
      "get_equity_search_symbol({'search_str': 'Merck'}) -> {'symbol': 'MRK', 'name': 'MERCK & CO INC COM', 'dpm_name': 'Wolverine Trading, LLC', 'post_station'...\n",
      "get_trailing_dividend_yield_json({'symbol': 'MRK'}) -> [{\"date\": \"2023-05-12\", \"trailing_dividend_yield\": 0.0242444938}, {\"date\": \"2023-05-15\", \"trailing_d...\n"
     ]
    },
    {
     "data": {
      "text/markdown": [
       "As of the end of 2023, the trailing dividend yield for Merck & Co Inc. (symbol: MRK) was approximately 2.73%."
      ],
      "text/plain": [
       "<IPython.core.display.Markdown object>"
      ]
     },
     "metadata": {},
     "output_type": "display_data"
    }
   ],
   "source": [
    "agent_query(f\"what was the dividend yield for stock symbol {symbol} as of the end of 2023?\", tools=tools, verbose=False)\n"
   ]
  },
  {
   "cell_type": "code",
   "execution_count": 116,
   "id": "95dc1d1e-6a25-4728-9251-ced4ee39825c",
   "metadata": {},
   "outputs": [
    {
     "data": {
      "text/plain": [
       "'[{\"symbol\": \"AAPL\", \"one_day\": 0.0176, \"wtd\": null, \"one_week\": 0.025099999999999997, \"mtd\": null, \"one_month\": 0.055099999999999996, \"qtd\": null, \"three_month\": -0.0046, \"six_month\": 0.0212, \"ytd\": -0.0325, \"one_year\": 0.0721, \"two_year\": null, \"three_year\": null, \"four_year\": null, \"five_year\": null, \"ten_year\": null, \"max\": null, \"volatility_week\": 0.014499999999999999, \"volatility_month\": 0.0177, \"price\": 186.28, \"volume\": 70338121.0, \"average_volume\": 63960000.0, \"relative_volume\": 1.1, \"analyst_recommendation\": null, \"analyst_score\": 2.02}]'"
      ]
     },
     "execution_count": 116,
     "metadata": {},
     "output_type": "execute_result"
    }
   ],
   "source": [
    "tool = BB_agent_tool(\n",
    "    name=\"get_price_performance_json\",\n",
    "    description=\"Given a stock symbol, get price performance data for the stock for different time periods in JSON format.\",\n",
    "    openapi_path='/api/v1/equity/price/performance',\n",
    "    parameters={\n",
    "        \"symbol\": {\n",
    "            \"type\": \"string\",\n",
    "            \"description\": \"The stock symbol.\"\n",
    "        }\n",
    "        },\n",
    "    example_parameter_values=[{\n",
    "        \"symbol\": \"NVDA\",\n",
    "    }],\n",
    ")\n",
    "\n",
    "tools[tool.name]=tool.make_metadata()\n",
    "\n",
    "tool('AAPL')\n"
   ]
  },
  {
   "cell_type": "code",
   "execution_count": 117,
   "id": "2787df1d-df0b-4fd5-b75f-fd8e3dd905f8",
   "metadata": {},
   "outputs": [
    {
     "name": "stdout",
     "output_type": "stream",
     "text": [
      "get_equity_search_symbol({'search_str': 'Merck'}) -> {'symbol': 'MRK', 'name': 'MERCK & CO INC COM', 'dpm_name': 'Wolverine Trading, LLC', 'post_station'...\n",
      "get_price_performance_json({'symbol': 'MRK'}) -> [{\"symbol\": \"MRK\", \"one_day\": -0.0059, \"wtd\": null, \"one_week\": 0.013500000000000002, \"mtd\": null, \"...\n"
     ]
    },
    {
     "data": {
      "text/markdown": [
       "As of now, Merck & Co., Inc. (MRK) has shown a one-year price performance increase of 9.99%. The current price is \\\\$129.29, with a one-year volatility of 1.47% per month."
      ],
      "text/plain": [
       "<IPython.core.display.Markdown object>"
      ]
     },
     "metadata": {},
     "output_type": "display_data"
    }
   ],
   "source": [
    "agent_query(f\"what was the performance for {company} from 1 year ago?\", tools=tools, verbose=False)\n"
   ]
  },
  {
   "cell_type": "code",
   "execution_count": 119,
   "id": "3fdf5cd8-9a72-489e-8fbc-5bbf6e95ff19",
   "metadata": {},
   "outputs": [
    {
     "data": {
      "text/plain": [
       "'[{\"equity_symbol\": \"AAPL\", \"etf_symbol\": \"VTSAX\", \"shares\": 461157515.0, \"weight\": 0.0493, \"market_value\": 79079290672.2}, {\"equity_symbol\": \"AAPL\", \"etf_symbol\": \"VTI\", \"shares\": 461157515.0, \"weight\": 0.0493, \"market_value\": 79079290672.2}, {\"equity_symbol\": \"AAPL\", \"etf_symbol\": \"VSMPX\", \"shares\": 461157515.0, \"weight\": 0.0493, \"market_value\": 79079290672.2}, {\"equity_symbol\": \"AAPL\", \"etf_symbol\": \"VITSX\", \"shares\": 461157515.0, \"weight\": 0.0493, \"market_value\": 79079290672.2}, {\"equity_symbol\": \"AAPL\", \"etf_symbol\": \"VOO\", \"shares\": 365847962.0, \"weight\": 0.056299999999999996, \"market_value\": 62735608523.76}, {\"equity_symbol\": \"AAPL\", \"etf_symbol\": \"VFINX\", \"shares\": 365847962.0, \"weight\": 0.056299999999999996, \"market_value\": 62735608523.76}, {\"equity_symbol\": \"AAPL\", \"etf_symbol\": \"VFIAX\", \"shares\": 365847962.0, \"weight\": 0.056299999999999996, \"market_value\": 62735608523.76}, {\"equity_symbol\": \"AAPL\", \"etf_symbol\": \"SPY\", \"shares\": 170415228.0, \"weight\": 0.06106424, \"market_value\": 31194507485.4}, {\"equity_symbol\": \"AAPL\", \"etf_symbol\": \"IVV\", \"shares\": 150014471.0, \"weight\": 0.060826700000000004, \"market_value\": 27413644430.54}, {\"equity_symbol\": \"AAPL\", \"etf_symbol\": \"VUG\", \"shares\": 137795038.0, \"weight\": 0.1042, \"market_value\": 23629093116.24}, {\"equity_symbol\": \"AAPL\", \"etf_symbol\": \"VIGIX\", \"shares\": 137795038.0, \"weight\": 0.1042, \"market_value\": 23629093116.24}, {\"equity_symbol\": \"AAPL\", \"etf_symbol\": \"VIGAX\", \"shares\": 137795038.0, \"weight\": 0.1042, \"market_value\": 23629093116.24}, {\"equity_symbol\": \"AAPL\", \"etf_symbol\": \"QQQ\", \"shares\": 112507961.0, \"weight\": 0.07955, \"market_value\": 20594582261.05}, {\"equity_symbol\": \"AAPL\", \"etf_symbol\": \"VINIX\", \"shares\": 95458590.0, \"weight\": 0.0562, \"market_value\": 16369239013.2}, {\"equity_symbol\": \"AAPL\", \"etf_symbol\": \"VIIIX\", \"shares\": 95458590.0, \"weight\": 0.0562, \"market_value\": 16369239013.2}, {\"equity_symbol\": \"AAPL\", \"etf_symbol\": \"XLK\", \"shares\": 73633583.0, \"weight\": 0.21154961, \"market_value\": 13478627368.150002}, {\"equity_symbol\": \"AAPL\", \"etf_symbol\": \"VITAX\", \"shares\": 69855125.0, \"weight\": 0.15380000000000002, \"market_value\": 11978756835}, {\"equity_symbol\": \"AAPL\", \"etf_symbol\": \"VGT\", \"shares\": 69855125.0, \"weight\": 0.15380000000000002, \"market_value\": 11978756835}, {\"equity_symbol\": \"AAPL\", \"etf_symbol\": \"IWF\", \"shares\": 49523334.0, \"weight\": 0.1018417, \"market_value\": 9049894055.16}, {\"equity_symbol\": \"AAPL\", \"etf_symbol\": \"CSPX.L\", \"shares\": 28511184.0, \"weight\": 0.060809499999999996, \"market_value\": 5210133764.16}, {\"equity_symbol\": \"AAPL\", \"etf_symbol\": \"CSPX.AS\", \"shares\": 28511184.0, \"weight\": 0.060809499999999996, \"market_value\": 5210133764.16}, {\"equity_symbol\": \"AAPL\", \"etf_symbol\": \"GSPX.L\", \"shares\": 0.0, \"weight\": 0.0606976, \"market_value\": 5198981491.2}, {\"equity_symbol\": \"AAPL\", \"etf_symbol\": \"SWPPX\", \"shares\": 0.0, \"weight\": 0.056333240659, \"market_value\": 5149701990.12}, {\"equity_symbol\": \"AAPL\", \"etf_symbol\": \"IVW\", \"shares\": 26712400.0, \"weight\": 0.1103173, \"market_value\": 4881423976}, {\"equity_symbol\": \"AAPL\", \"etf_symbol\": \"SXR8.DE\", \"shares\": 28379011.0, \"weight\": 0.057295, \"market_value\": 4804566562.3}, {\"equity_symbol\": \"AAPL\", \"etf_symbol\": \"VIG\", \"shares\": 20112160.0, \"weight\": 0.0368, \"market_value\": 3448833196.8}, {\"equity_symbol\": \"AAPL\", \"etf_symbol\": \"VDADX\", \"shares\": 20112160.0, \"weight\": 0.0368, \"market_value\": 3448833196.8}, {\"equity_symbol\": \"AAPL\", \"etf_symbol\": \"SWDA.MI\", \"shares\": 17059024.0, \"weight\": 0.0415803, \"market_value\": 3117366045.76}, {\"equity_symbol\": \"AAPL\", \"etf_symbol\": \"SWDA.L\", \"shares\": 17059024.0, \"weight\": 0.0415803, \"market_value\": 3117366045.76}, {\"equity_symbol\": \"AAPL\", \"etf_symbol\": \"IWLE.DE\", \"shares\": 0.0, \"weight\": 0.041429799999999996, \"market_value\": 3111565977.6}, {\"equity_symbol\": \"AAPL\", \"etf_symbol\": \"IWDG.L\", \"shares\": 0.0, \"weight\": 0.041429799999999996, \"market_value\": 3111565977.6}, {\"equity_symbol\": \"AAPL\", \"etf_symbol\": \"IWDD.AS\", \"shares\": 0.0, \"weight\": 0.041429799999999996, \"market_value\": 3111565977.6}, {\"equity_symbol\": \"AAPL\", \"etf_symbol\": \"IWDA.L\", \"shares\": 0.0, \"weight\": 0.041429799999999996, \"market_value\": 3111565977.6}, {\"equity_symbol\": \"AAPL\", \"etf_symbol\": \"VWENX\", \"shares\": 17979166.0, \"weight\": 0.0278, \"market_value\": 3083067385.68}, {\"equity_symbol\": \"AAPL\", \"etf_symbol\": \"VWELX\", \"shares\": 17979166.0, \"weight\": 0.0278, \"market_value\": 3083067385.68}, {\"equity_symbol\": \"AAPL\", \"etf_symbol\": \"EUNL.DE\", \"shares\": 17032006.0, \"weight\": 0.039236599999999996, \"market_value\": 2883518615.8}, {\"equity_symbol\": \"AAPL\", \"etf_symbol\": \"VV\", \"shares\": 16685033.0, \"weight\": 0.0565, \"market_value\": 2861149458.84}, {\"equity_symbol\": \"AAPL\", \"etf_symbol\": \"VLCAX\", \"shares\": 16685033.0, \"weight\": 0.0565, \"market_value\": 2861149458.84}, {\"equity_symbol\": \"AAPL\", \"etf_symbol\": \"ITOT\", \"shares\": 15523722.0, \"weight\": 0.0527385, \"market_value\": 2836804958.28}, {\"equity_symbol\": \"AAPL\", \"etf_symbol\": \"SPYG\", \"shares\": 15305681.0, \"weight\": 0.11103837999999999, \"market_value\": 2801704907.05}, {\"equity_symbol\": \"AAPL\", \"etf_symbol\": \"SCHG\", \"shares\": 15789885.0, \"weight\": 0.103079381248, \"market_value\": 2754625966.6635}, {\"equity_symbol\": \"AAPL\", \"etf_symbol\": \"IYW\", \"shares\": 14238720.0, \"weight\": 0.157975, \"market_value\": 2601983692.8}, {\"equity_symbol\": \"AAPL\", \"etf_symbol\": \"VONG\", \"shares\": 14579913.0, \"weight\": 0.0951, \"market_value\": 2500163481.24}, {\"equity_symbol\": \"AAPL\", \"etf_symbol\": \"MGK\", \"shares\": 13285600.0, \"weight\": 0.1192, \"market_value\": 2278214688}, {\"equity_symbol\": \"AAPL\", \"etf_symbol\": \"SCHX\", \"shares\": 12398184.0, \"weight\": 0.054792010636, \"market_value\": 2162926429.5383997}, {\"equity_symbol\": \"AAPL\", \"etf_symbol\": \"SPLG\", \"shares\": 11692048.0, \"weight\": 0.06088103, \"market_value\": 2140229386.4}, {\"equity_symbol\": \"AAPL\", \"etf_symbol\": \"VWUSX\", \"shares\": 11561854.0, \"weight\": 0.044800000000000006, \"market_value\": 1982626723.92}, {\"equity_symbol\": \"AAPL\", \"etf_symbol\": \"VWUAX\", \"shares\": 11561854.0, \"weight\": 0.044800000000000006, \"market_value\": 1982626723.92}, {\"equity_symbol\": \"AAPL\", \"etf_symbol\": \"IWB\", \"shares\": 10708247.0, \"weight\": 0.0563313, \"market_value\": 1976421148.79}, {\"equity_symbol\": \"AAPL\", \"etf_symbol\": \"QQQM\", \"shares\": 10369203.0, \"weight\": 0.07951, \"market_value\": 1898082609.15}, {\"equity_symbol\": \"AAPL\", \"etf_symbol\": \"IUSG\", \"shares\": 9783741.0, \"weight\": 0.104313, \"market_value\": 1787880830.34}, {\"equity_symbol\": \"AAPL\", \"etf_symbol\": \"VBINX\", \"shares\": 9727239.0, \"weight\": 0.0301, \"market_value\": 1668026943.72}, {\"equity_symbol\": \"AAPL\", \"etf_symbol\": \"VBIAX\", \"shares\": 9727239.0, \"weight\": 0.0301, \"market_value\": 1668026943.72}, {\"equity_symbol\": \"AAPL\", \"etf_symbol\": \"VBAIX\", \"shares\": 9727239.0, \"weight\": 0.0301, \"market_value\": 1668026943.72}, {\"equity_symbol\": \"AAPL\", \"etf_symbol\": \"QUAL\", \"shares\": 8735737.0, \"weight\": 0.037048, \"market_value\": 1596368579.38}, {\"equity_symbol\": \"AAPL\", \"etf_symbol\": \"VITPX\", \"shares\": 9087432.0, \"weight\": 0.0493, \"market_value\": 1558312839.36}, {\"equity_symbol\": \"AAPL\", \"etf_symbol\": \"VITNX\", \"shares\": 9087432.0, \"weight\": 0.0493, \"market_value\": 1558312839.36}, {\"equity_symbol\": \"AAPL\", \"etf_symbol\": \"VTWAX\", \"shares\": 8542781.0, \"weight\": 0.0302, \"market_value\": 1464916085.88}, {\"equity_symbol\": \"AAPL\", \"etf_symbol\": \"VT\", \"shares\": 8542781.0, \"weight\": 0.0302, \"market_value\": 1464916085.88}, {\"equity_symbol\": \"AAPL\", \"etf_symbol\": \"IUIT.L\", \"shares\": 7557958.0, \"weight\": 0.20224250000000002, \"market_value\": 1381141244.92}, {\"equity_symbol\": \"AAPL\", \"etf_symbol\": \"SCHB\", \"shares\": 8006446.0, \"weight\": 0.050174955775, \"market_value\": 1320503138.78}, {\"equity_symbol\": \"AAPL\", \"etf_symbol\": \"VFTNX\", \"shares\": 7479308.0, \"weight\": 0.0655, \"market_value\": 1282551735.84}, {\"equity_symbol\": \"AAPL\", \"etf_symbol\": \"VFTAX\", \"shares\": 7479308.0, \"weight\": 0.0655, \"market_value\": 1282551735.84}, {\"equity_symbol\": \"AAPL\", \"etf_symbol\": \"DFAC\", \"shares\": 6923404.0, \"weight\": 0.0463986183, \"market_value\": 1265182846.96}, {\"equity_symbol\": \"AAPL\", \"etf_symbol\": \"QDVE\", \"shares\": 7397308.0, \"weight\": 0.19300789999999998, \"market_value\": 1252364244.4}, {\"equity_symbol\": \"AAPL\", \"etf_symbol\": \"VWNFX\", \"shares\": 7149010.0, \"weight\": 0.0199, \"market_value\": 1225912234.8}, {\"equity_symbol\": \"AAPL\", \"etf_symbol\": \"VWNAX\", \"shares\": 7149010.0, \"weight\": 0.0199, \"market_value\": 1225912234.8}, {\"equity_symbol\": \"AAPL\", \"etf_symbol\": \"SWTSX\", \"shares\": 0.0, \"weight\": 0.048683564203999996, \"market_value\": 1127735819.28}, {\"equity_symbol\": \"AAPL\", \"etf_symbol\": \"IWY\", \"shares\": 6167737.0, \"weight\": 0.116182, \"market_value\": 1127092259.38}, {\"equity_symbol\": \"AAPL\", \"etf_symbol\": \"CSNDX.SW\", \"shares\": 6011947.0, \"weight\": 0.0796888, \"market_value\": 1098623194.78}, {\"equity_symbol\": \"AAPL\", \"etf_symbol\": \"NQSE.DE\", \"shares\": 0.0, \"weight\": 0.079515, \"market_value\": 1096579132.8}, {\"equity_symbol\": \"AAPL\", \"etf_symbol\": \"CNDX.L\", \"shares\": 0.0, \"weight\": 0.079515, \"market_value\": 1096579132.8}, {\"equity_symbol\": \"AAPL\", \"etf_symbol\": \"SCHI\", \"shares\": 6150000.0, \"weight\": 0.000840902128, \"market_value\": 1072898864.9999999}, {\"equity_symbol\": \"AAPL\", \"etf_symbol\": \"VTCLX\", \"shares\": 6249113.0, \"weight\": 0.0509, \"market_value\": 1071597897.24}, {\"equity_symbol\": \"AAPL\", \"etf_symbol\": \"VTCIX\", \"shares\": 6249113.0, \"weight\": 0.0509, \"market_value\": 1071597897.24}, {\"equity_symbol\": \"AAPL\", \"etf_symbol\": \"VOOG\", \"shares\": 6220022.0, \"weight\": 0.1032, \"market_value\": 1066609372.56}, {\"equity_symbol\": \"AAPL\", \"etf_symbol\": \"OEF\", \"shares\": 5757069.0, \"weight\": 0.0886204, \"market_value\": 1052046789.06}, {\"equity_symbol\": \"AAPL\", \"etf_symbol\": \"DIA\", \"shares\": 5555250.0, \"weight\": 0.03072642, \"market_value\": 1016888512.5000001}, {\"equity_symbol\": \"AAPL\", \"etf_symbol\": \"IUSA.L\", \"shares\": 5553214.0, \"weight\": 0.0608582, \"market_value\": 1014794326.36}, {\"equity_symbol\": \"AAPL\", \"etf_symbol\": \"IUSA.DE\", \"shares\": 5553214.0, \"weight\": 0.0608582, \"market_value\": 1014794326.36}, {\"equity_symbol\": \"AAPL\", \"etf_symbol\": \"IUSA.AS\", \"shares\": 5553214.0, \"weight\": 0.0608582, \"market_value\": 1014794326.36}, {\"equity_symbol\": \"AAPL\", \"etf_symbol\": \"IDUS.L\", \"shares\": 0.0, \"weight\": 0.0607446, \"market_value\": 1012906233.6}, {\"equity_symbol\": \"AAPL\", \"etf_symbol\": \"CNX1.L\", \"shares\": 6547658.0, \"weight\": 0.1418, \"market_value\": 1004017877.72}, {\"equity_symbol\": \"AAPL\", \"etf_symbol\": \"SXRV.DE\", \"shares\": 5914789.0, \"weight\": 0.0753115, \"market_value\": 1001373777.7}, {\"equity_symbol\": \"AAPL\", \"etf_symbol\": \"EEDS.L\", \"shares\": 4967962.0, \"weight\": 0.0581985, \"market_value\": 907845375.88}, {\"equity_symbol\": \"AAPL\", \"etf_symbol\": \"EDMU.DE\", \"shares\": 0.0, \"weight\": 0.05809040000000001, \"market_value\": 904556256}, {\"equity_symbol\": \"AAPL\", \"etf_symbol\": \"EDMG.L\", \"shares\": 0.0, \"weight\": 0.05809040000000001, \"market_value\": 904556256}, {\"equity_symbol\": \"AAPL\", \"etf_symbol\": \"CBUC.DE\", \"shares\": 0.0, \"weight\": 0.05809040000000001, \"market_value\": 904556256}, {\"equity_symbol\": \"AAPL\", \"etf_symbol\": \"DGRO\", \"shares\": 4587273.0, \"weight\": 0.0309096, \"market_value\": 838278268.02}, {\"equity_symbol\": \"AAPL\", \"etf_symbol\": \"OM3L.DE\", \"shares\": 4853122.0, \"weight\": 0.0548795, \"market_value\": 821633554.6}, {\"equity_symbol\": \"AAPL\", \"etf_symbol\": \"SNXFX\", \"shares\": 0.0, \"weight\": 0.0510417332, \"market_value\": 821102313.96}, {\"equity_symbol\": \"AAPL\", \"etf_symbol\": \"JEPQ\", \"shares\": 4380715.0, \"weight\": 0.0616, \"market_value\": 801889880.75}, {\"equity_symbol\": \"AAPL\", \"etf_symbol\": \"QDVE.DE\", \"shares\": 5128516.0, \"weight\": 0.27, \"market_value\": 798715081.84}, {\"equity_symbol\": \"AAPL\", \"etf_symbol\": \"IITU.L\", \"shares\": 5128516.0, \"weight\": 0.26940000000000003, \"market_value\": 786406643.44}, {\"equity_symbol\": \"AAPL\", \"etf_symbol\": \"IXN\", \"shares\": 4063847.0, \"weight\": 0.1688328, \"market_value\": 742627400.78}, {\"equity_symbol\": \"AAPL\", \"etf_symbol\": \"ESGU\", \"shares\": 3961578.0, \"weight\": 0.056978400000000005, \"market_value\": 723938763.72}, {\"equity_symbol\": \"AAPL\", \"etf_symbol\": \"IWV\", \"shares\": 3944050.0, \"weight\": 0.053213100000000006, \"market_value\": 720735697}, {\"equity_symbol\": \"AAPL\", \"etf_symbol\": \"TQQQ\", \"shares\": 3782419.0, \"weight\": 0.009198069371205111, \"market_value\": 691199248.1}, {\"equity_symbol\": \"AAPL\", \"etf_symbol\": \"QYLD\", \"shares\": 3722421.0, \"weight\": 0.08439999999999999, \"market_value\": 686116638.72}, {\"equity_symbol\": \"AAPL\", \"etf_symbol\": \"ACWI\", \"shares\": 3738973.0, \"weight\": 0.037408199999999996, \"market_value\": 683259926.02}, {\"equity_symbol\": \"AAPL\", \"etf_symbol\": \"GSLC\", \"shares\": 3623261.0, \"weight\": null, \"market_value\": 668745282.79}, {\"equity_symbol\": \"AAPL\", \"etf_symbol\": \"ONEQ\", \"shares\": 3552683.0, \"weight\": 0.1065, \"market_value\": 650318623.15}, {\"equity_symbol\": \"AAPL\", \"etf_symbol\": \"DGRW\", \"shares\": 0.0, \"weight\": 0.000472393, \"market_value\": 605309923.05}, {\"equity_symbol\": \"AAPL\", \"etf_symbol\": \"IOO\", \"shares\": 3015662.0, \"weight\": 0.1035652, \"market_value\": 551082073.88}, {\"equity_symbol\": \"AAPL\", \"etf_symbol\": \"VQNPX\", \"shares\": 3210212.0, \"weight\": 0.0363, \"market_value\": 550487153.76}, {\"equity_symbol\": \"AAPL\", \"etf_symbol\": \"VGIAX\", \"shares\": 3210212.0, \"weight\": 0.0363, \"market_value\": 550487153.76}, {\"equity_symbol\": \"AAPL\", \"etf_symbol\": \"FNDX\", \"shares\": 3107655.0, \"weight\": 0.036089771139, \"market_value\": 542146263.7904999}, {\"equity_symbol\": \"AAPL\", \"etf_symbol\": \"DYNF\", \"shares\": 2808919.0, \"weight\": 0.0666091, \"market_value\": 513301858.06}, {\"equity_symbol\": \"AAPL\", \"etf_symbol\": \"DFUS\", \"shares\": 2797198.0, \"weight\": 0.056807778, \"market_value\": 511159962.52}, {\"equity_symbol\": \"AAPL\", \"etf_symbol\": \"ESGV\", \"shares\": 2920339.0, \"weight\": 0.0592, \"market_value\": 500779731.72}, {\"equity_symbol\": \"AAPL\", \"etf_symbol\": \"SASU.L\", \"shares\": 2665931.0, \"weight\": 0.06411, \"market_value\": 487172230.94}, {\"equity_symbol\": \"AAPL\", \"etf_symbol\": \"SDUS.L\", \"shares\": 0.0, \"weight\": 0.06397230000000001, \"market_value\": 486265814.4}, {\"equity_symbol\": \"AAPL\", \"etf_symbol\": \"SAUA.MI\", \"shares\": 0.0, \"weight\": 0.06397230000000001, \"market_value\": 486265814.4}, {\"equity_symbol\": \"AAPL\", \"etf_symbol\": \"SSAC.L\", \"shares\": 2613714.0, \"weight\": 0.0372587, \"market_value\": 477630096.36}, {\"equity_symbol\": \"AAPL\", \"etf_symbol\": \"SPTM\", \"shares\": 2493771.0, \"weight\": 0.05597633, \"market_value\": 456484781.55}, {\"equity_symbol\": \"AAPL\", \"etf_symbol\": \"TECL\", \"shares\": 2478330.0, \"weight\": 0.149530675915, \"market_value\": 452047392}, {\"equity_symbol\": \"AAPL\", \"etf_symbol\": \"SLUS.DE\", \"shares\": 2665005.0, \"weight\": 0.0604418, \"market_value\": 451185346.5}, {\"equity_symbol\": \"AAPL\", \"etf_symbol\": \"SGAS.DE\", \"shares\": 2665005.0, \"weight\": 0.0604418, \"market_value\": 451185346.5}, {\"equity_symbol\": \"AAPL\", \"etf_symbol\": \"XLG\", \"shares\": 2415754.0, \"weight\": 0.10522999999999999, \"market_value\": 442203769.7}, {\"equity_symbol\": \"AAPL\", \"etf_symbol\": \"IUSQ.DE\", \"shares\": 2609938.0, \"weight\": 0.0351858, \"market_value\": 441862503.4}, {\"equity_symbol\": \"AAPL\", \"etf_symbol\": \"IGM\", \"shares\": 2212017.0, \"weight\": 0.0936048, \"market_value\": 404223986.58}, {\"equity_symbol\": \"AAPL\", \"etf_symbol\": \"MGC\", \"shares\": 2230369.0, \"weight\": 0.0683, \"market_value\": 382463676.12}, {\"equity_symbol\": \"AAPL\", \"etf_symbol\": \"SPHQ\", \"shares\": 2009196.0, \"weight\": 0.04102, \"market_value\": 367783327.8}, {\"equity_symbol\": \"AAPL\", \"etf_symbol\": \"VONE\", \"shares\": 2135245.0, \"weight\": 0.0519, \"market_value\": 366151812.6}, {\"equity_symbol\": \"AAPL\", \"etf_symbol\": \"QLD\", \"shares\": 1955747.0, \"weight\": 0.027113173690150476, \"market_value\": 357393206.8}, {\"equity_symbol\": \"AAPL\", \"etf_symbol\": \"IUSE.L\", \"shares\": 1988356.0, \"weight\": 0.060528399999999996, \"market_value\": 338017745.42}, {\"equity_symbol\": \"AAPL\", \"etf_symbol\": \"EXXT.DE\", \"shares\": 1781042.0, \"weight\": 0.0795993, \"market_value\": 325467615.08}, {\"equity_symbol\": \"AAPL\", \"etf_symbol\": \"IBCF.DE\", \"shares\": 2022215.0, \"weight\": 0.0580868, \"market_value\": 320562733.61}, {\"equity_symbol\": \"AAPL\", \"etf_symbol\": \"DFAU\", \"shares\": 1723466.0, \"weight\": 0.0573864989, \"market_value\": 314946176.84}, {\"equity_symbol\": \"AAPL\", \"etf_symbol\": \"NDXEX.DE\", \"shares\": 1781042.0, \"weight\": 0.0752709, \"market_value\": 301530410.6}, {\"equity_symbol\": \"AAPL\", \"etf_symbol\": \"SFLNX\", \"shares\": 0.0, \"weight\": 0.034480812573, \"market_value\": 295427630.28}, {\"equity_symbol\": \"AAPL\", \"etf_symbol\": \"IWRD.L\", \"shares\": 1586161.0, \"weight\": 0.0416108, \"market_value\": 289855061.14}, {\"equity_symbol\": \"AAPL\", \"etf_symbol\": \"IWRD.AS\", \"shares\": 1586161.0, \"weight\": 0.0416108, \"market_value\": 289855061.14}, {\"equity_symbol\": \"AAPL\", \"etf_symbol\": \"DUHP\", \"shares\": 1505222.0, \"weight\": 0.05137769410000001, \"market_value\": 275064268.28}, {\"equity_symbol\": \"AAPL\", \"etf_symbol\": \"PBUS\", \"shares\": 1500300.0, \"weight\": 0.0588, \"market_value\": 274629915}, {\"equity_symbol\": \"AAPL\", \"etf_symbol\": \"IQQW.DE\", \"shares\": 1586161.0, \"weight\": 0.039268700000000004, \"market_value\": 268537057.3}, {\"equity_symbol\": \"AAPL\", \"etf_symbol\": \"VPMCX\", \"shares\": 1555000.0, \"weight\": 0.0034999999999999996, \"market_value\": 266651400}, {\"equity_symbol\": \"AAPL\", \"etf_symbol\": \"VPMAX\", \"shares\": 1555000.0, \"weight\": 0.0034999999999999996, \"market_value\": 266651400}, {\"equity_symbol\": \"AAPL\", \"etf_symbol\": \"FELG\", \"shares\": 1392972.0, \"weight\": 0.1058, \"market_value\": 254983524.6}, {\"equity_symbol\": \"AAPL\", \"etf_symbol\": \"VTMFX\", \"shares\": 1432046.0, \"weight\": 0.0254, \"market_value\": 245567248.08}, {\"equity_symbol\": \"AAPL\", \"etf_symbol\": \"ILCG\", \"shares\": 1317767.0, \"weight\": 0.11239850000000001, \"market_value\": 240808741.58}, {\"equity_symbol\": \"AAPL\", \"etf_symbol\": \"RDVY\", \"shares\": 1193334.0, \"weight\": 0.0207, \"market_value\": 218439788.7}, {\"equity_symbol\": \"AAPL\", \"etf_symbol\": \"SWLGX\", \"shares\": 0.0, \"weight\": 0.094987852991, \"market_value\": 212906995.8}, {\"equity_symbol\": \"AAPL\", \"etf_symbol\": \"USMV\", \"shares\": 1160992.0, \"weight\": 0.008803499999999999, \"market_value\": 212159678.08}, {\"equity_symbol\": \"AAPL\", \"etf_symbol\": \"BBUS\", \"shares\": 1060734.0, \"weight\": 0.058600000000000006, \"market_value\": 194167358.7}, {\"equity_symbol\": \"AAPL\", \"etf_symbol\": \"TDIV\", \"shares\": 1040329.0, \"weight\": 0.0789, \"market_value\": 190432223.45}, {\"equity_symbol\": \"AAPL\", \"etf_symbol\": \"FTCS\", \"shares\": 1028855.0, \"weight\": 0.0215, \"market_value\": 188331907.75}, {\"equity_symbol\": \"AAPL\", \"etf_symbol\": \"SPXL\", \"shares\": 1021262.0, \"weight\": 0.043613318786, \"market_value\": 186278188.8}, {\"equity_symbol\": \"AAPL\", \"etf_symbol\": \"I500G.DE\", \"shares\": 1089317.0, \"weight\": 0.0386513, \"market_value\": 184421368.1}, {\"equity_symbol\": \"AAPL\", \"etf_symbol\": \"SSO\", \"shares\": 1003679.0, \"weight\": 0.0185838951897021, \"market_value\": 183412300.5}, {\"equity_symbol\": \"AAPL\", \"etf_symbol\": \"EEWD.L\", \"shares\": 998043.0, \"weight\": 0.0383032, \"market_value\": 182382377.82}, {\"equity_symbol\": \"AAPL\", \"etf_symbol\": \"XYLD\", \"shares\": 988513.0, \"weight\": 0.0638, \"market_value\": 182202716.16}, {\"equity_symbol\": \"AAPL\", \"etf_symbol\": \"SCHK\", \"shares\": 1028525.0, \"weight\": 0.053258136587999994, \"market_value\": 179431431.7275}, {\"equity_symbol\": \"AAPL\", \"etf_symbol\": \"VTHR\", \"shares\": 1005058.0, \"weight\": 0.049, \"market_value\": 172347345.84}, {\"equity_symbol\": \"AAPL\", \"etf_symbol\": \"EDMW.DE\", \"shares\": 1005055.0, \"weight\": 0.0361829, \"market_value\": 170155811.5}, {\"equity_symbol\": \"AAPL\", \"etf_symbol\": \"AVUS\", \"shares\": 1111274.0, \"weight\": 0.045, \"market_value\": 169880456.38}, {\"equity_symbol\": \"AAPL\", \"etf_symbol\": \"PTLC\", \"shares\": 900219.0, \"weight\": 0.061, \"market_value\": 164506020.06}, {\"equity_symbol\": \"AAPL\", \"etf_symbol\": \"JGLO\", \"shares\": 818270.0, \"weight\": 0.050199999999999995, \"market_value\": 149784323.5}, {\"equity_symbol\": \"AAPL\", \"etf_symbol\": \"FELC\", \"shares\": 799434.0, \"weight\": 0.0571, \"market_value\": 146336393.7}, {\"equity_symbol\": \"AAPL\", \"etf_symbol\": \"JEPI\", \"shares\": 798566.0, \"weight\": 0.0044, \"market_value\": 146177506.3}, {\"equity_symbol\": \"AAPL\", \"etf_symbol\": \"SUSA\", \"shares\": 786853.0, \"weight\": 0.042105699999999996, \"market_value\": 143789517.22}, {\"equity_symbol\": \"AAPL\", \"etf_symbol\": \"EXI2.DE\", \"shares\": 897536.0, \"weight\": 0.0795887, \"market_value\": 142277944.57}, {\"equity_symbol\": \"AAPL\", \"etf_symbol\": \"DJGTEEX.DE\", \"shares\": 897536.0, \"weight\": 0.0795887, \"market_value\": 142277944.57}, {\"equity_symbol\": \"AAPL\", \"etf_symbol\": \"PRF\", \"shares\": 775396.0, \"weight\": 0.02022, \"market_value\": 141936237.8}, {\"equity_symbol\": \"AAPL\", \"etf_symbol\": \"USMC\", \"shares\": 771625.0, \"weight\": 0.061909577423, \"market_value\": 141245956.25}, {\"equity_symbol\": \"AAPL\", \"etf_symbol\": \"URTH\", \"shares\": 771408.0, \"weight\": 0.0416871, \"market_value\": 140967097.92}, {\"equity_symbol\": \"AAPL\", \"etf_symbol\": \"QDF\", \"shares\": 764211.0, \"weight\": 0.081917, \"market_value\": 139651918.14}, {\"equity_symbol\": \"AAPL\", \"etf_symbol\": \"DIVO\", \"shares\": 757160.0, \"weight\": 0.0435, \"market_value\": 138363418.4}, {\"equity_symbol\": \"AAPL\", \"etf_symbol\": \"FDVV\", \"shares\": 730751.0, \"weight\": 0.0504, \"market_value\": 133763970.55}, {\"equity_symbol\": \"AAPL\", \"etf_symbol\": \"DLN\", \"shares\": 0.0, \"weight\": 0.000334651, \"market_value\": 132638030}, {\"equity_symbol\": \"AAPL\", \"etf_symbol\": \"IWDE.SW\", \"shares\": 773001.0, \"weight\": 0.0414452, \"market_value\": 131409091.34}, {\"equity_symbol\": \"AAPL\", \"etf_symbol\": \"IWDE.L\", \"shares\": 773001.0, \"weight\": 0.0414452, \"market_value\": 131409091.34}, {\"equity_symbol\": \"AAPL\", \"etf_symbol\": \"SDWD.L\", \"shares\": 718260.0, \"weight\": 0.045674099999999995, \"market_value\": 131254832.4}, {\"equity_symbol\": \"AAPL\", \"etf_symbol\": \"SAWD.L\", \"shares\": 0.0, \"weight\": 0.045496299999999996, \"market_value\": 130626489.6}, {\"equity_symbol\": \"AAPL\", \"etf_symbol\": \"PABU\", \"shares\": 686596.0, \"weight\": 0.0702609, \"market_value\": 125468553.04}, {\"equity_symbol\": \"AAPL\", \"etf_symbol\": \"IBCH.DE\", \"shares\": 778499.0, \"weight\": 0.039414199999999996, \"market_value\": 123408128}, {\"equity_symbol\": \"AAPL\", \"etf_symbol\": \"SNAW.DE\", \"shares\": 713873.0, \"weight\": 0.0431224, \"market_value\": 120858698.9}, {\"equity_symbol\": \"AAPL\", \"etf_symbol\": \"S6DW.DE\", \"shares\": 713873.0, \"weight\": 0.0431224, \"market_value\": 120858698.9}, {\"equity_symbol\": \"AAPL\", \"etf_symbol\": \"RSP\", \"shares\": 650321.0, \"weight\": 0.00213, \"market_value\": 119041259.05}, {\"equity_symbol\": \"AAPL\", \"etf_symbol\": \"UPRO\", \"shares\": 639179.0, \"weight\": 0.010981205589908814, \"market_value\": 116803570.5}, {\"equity_symbol\": \"AAPL\", \"etf_symbol\": \"IWQU.L\", \"shares\": 627675.0, \"weight\": 0.0321712, \"market_value\": 114701329.5}, {\"equity_symbol\": \"AAPL\", \"etf_symbol\": \"SPMO\", \"shares\": 615049.0, \"weight\": 0.09009, \"market_value\": 112584719.45}, {\"equity_symbol\": \"AAPL\", \"etf_symbol\": \"LRGF\", \"shares\": 599976.0, \"weight\": 0.057316399999999997, \"market_value\": 109639614.24}, {\"equity_symbol\": \"AAPL\", \"etf_symbol\": \"SPYX\", \"shares\": 590741.0, \"weight\": 0.06299070000000001, \"market_value\": 108135140.05000001}, {\"equity_symbol\": \"AAPL\", \"etf_symbol\": \"IS3Q.DE\", \"shares\": 625626.0, \"weight\": 0.0302486, \"market_value\": 105918481.8}, {\"equity_symbol\": \"AAPL\", \"etf_symbol\": \"IYY\", \"shares\": 568559.0, \"weight\": 0.055211199999999995, \"market_value\": 103898471.66}, {\"equity_symbol\": \"AAPL\", \"etf_symbol\": \"QTEC\", \"shares\": 564816.0, \"weight\": 0.026600000000000002, \"market_value\": 103389568.8}, {\"equity_symbol\": \"AAPL\", \"etf_symbol\": \"IUQA.L\", \"shares\": 565315.0, \"weight\": 0.0369803, \"market_value\": 103305663.1}, {\"equity_symbol\": \"AAPL\", \"etf_symbol\": \"IUQD.L\", \"shares\": 0.0, \"weight\": 0.0369018, \"market_value\": 103113456}, {\"equity_symbol\": \"AAPL\", \"etf_symbol\": \"IWL\", \"shares\": 545746.0, \"weight\": 0.0732503, \"market_value\": 99729624.04}, {\"equity_symbol\": \"AAPL\", \"etf_symbol\": \"GRNB\", \"shares\": 1169012.0, \"weight\": 0.0132, \"market_value\": 99155400}, {\"equity_symbol\": \"AAPL\", \"etf_symbol\": \"SWANX\", \"shares\": 0.0, \"weight\": 0.07541722680900001, \"market_value\": 98433657.92}, {\"equity_symbol\": \"AAPL\", \"etf_symbol\": \"EFIV\", \"shares\": 536729.0, \"weight\": 0.08452648, \"market_value\": 98248243.45}, {\"equity_symbol\": \"AAPL\", \"etf_symbol\": \"ROM\", \"shares\": 526395.0, \"weight\": 0.066219453936168, \"market_value\": 96193422.3}, {\"equity_symbol\": \"AAPL\", \"etf_symbol\": \"QDVB.DE\", \"shares\": 570735.0, \"weight\": 0.03487, \"market_value\": 95335574.4}, {\"equity_symbol\": \"AAPL\", \"etf_symbol\": \"IWFM.L\", \"shares\": 601595.0, \"weight\": 0.056900000000000006, \"market_value\": 93692405.3}, {\"equity_symbol\": \"AAPL\", \"etf_symbol\": \"SNPE\", \"shares\": 505203.0, \"weight\": 0.0835230551, \"market_value\": 92477409.15}, {\"equity_symbol\": \"AAPL\", \"etf_symbol\": \"GUSA\", \"shares\": 499628.0, \"weight\": null, \"market_value\": 92216339.96}, {\"equity_symbol\": \"AAPL\", \"etf_symbol\": \"JQUA\", \"shares\": 471237.0, \"weight\": 0.020499999999999997, \"market_value\": 86259932.85}, {\"equity_symbol\": \"AAPL\", \"etf_symbol\": \"CSUS.SW\", \"shares\": 441987.0, \"weight\": 0.0589649, \"market_value\": 80768704.38}, {\"equity_symbol\": \"AAPL\", \"etf_symbol\": \"CSUS.L\", \"shares\": 441987.0, \"weight\": 0.0589649, \"market_value\": 80768704.38}, {\"equity_symbol\": \"AAPL\", \"etf_symbol\": \"USCA\", \"shares\": 433969.0, \"weight\": 0.0389245152, \"market_value\": 79438025.45}, {\"equity_symbol\": \"AAPL\", \"etf_symbol\": \"USCL\", \"shares\": 422009.0, \"weight\": 0.0391337, \"market_value\": 77117924.66}, {\"equity_symbol\": \"AAPL\", \"etf_symbol\": \"SXR4.DE\", \"shares\": 450463.0, \"weight\": 0.0555725, \"market_value\": 76263385.9}, {\"equity_symbol\": \"AAPL\", \"etf_symbol\": \"RWL\", \"shares\": 415782.0, \"weight\": 0.02427, \"market_value\": 76108895.1}, {\"equity_symbol\": \"AAPL\", \"etf_symbol\": \"JGRO\", \"shares\": 415713.0, \"weight\": 0.0473, \"market_value\": 76096264.65}, {\"equity_symbol\": \"AAPL\", \"etf_symbol\": \"LCTU\", \"shares\": 406796.0, \"weight\": 0.062043299999999996, \"market_value\": 74337901.04}, {\"equity_symbol\": \"AAPL\", \"etf_symbol\": \"FDLO\", \"shares\": 383943.0, \"weight\": 0.0671, \"market_value\": 70280766.15}, {\"equity_symbol\": \"AAPL\", \"etf_symbol\": \"TCAF\", \"shares\": 378236.0, \"weight\": 0.04913224879999999, \"market_value\": 68990246.4}, {\"equity_symbol\": \"AAPL\", \"etf_symbol\": \"RSPT\", \"shares\": 357058.0, \"weight\": 0.01706, \"market_value\": 65359466.9}, {\"equity_symbol\": \"AAPL\", \"etf_symbol\": \"QVML\", \"shares\": 354980.0, \"weight\": 0.06849, \"market_value\": 64979089}, {\"equity_symbol\": \"AAPL\", \"etf_symbol\": \"INAA.SW\", \"shares\": 352057.0, \"weight\": 0.0564266, \"market_value\": 64334896.18}, {\"equity_symbol\": \"AAPL\", \"etf_symbol\": \"INAA.L\", \"shares\": 352057.0, \"weight\": 0.0564266, \"market_value\": 64334896.18}, {\"equity_symbol\": \"AAPL\", \"etf_symbol\": \"TILT\", \"shares\": 348005.0, \"weight\": 0.039798, \"market_value\": 63594433.7}, {\"equity_symbol\": \"AAPL\", \"etf_symbol\": \"PNQI\", \"shares\": 330200.0, \"weight\": 0.0805, \"market_value\": 60443110}, {\"equity_symbol\": \"AAPL\", \"etf_symbol\": \"IQQN.DE\", \"shares\": 350132.0, \"weight\": 0.053153, \"market_value\": 59277347.6}, {\"equity_symbol\": \"AAPL\", \"etf_symbol\": \"SPLV\", \"shares\": 321667.0, \"weight\": 0.00834, \"market_value\": 58881144.35}, {\"equity_symbol\": \"AAPL\", \"etf_symbol\": \"FQAL\", \"shares\": 319807.0, \"weight\": 0.061500000000000006, \"market_value\": 58540671.35}, {\"equity_symbol\": \"AAPL\", \"etf_symbol\": \"IUQF.L\", \"shares\": 363663.0, \"weight\": 0.0383, \"market_value\": 56636875.62}, {\"equity_symbol\": \"AAPL\", \"etf_symbol\": \"HLAL\", \"shares\": 304779.0, \"weight\": 0.1265, \"market_value\": 55591689.6}, {\"equity_symbol\": \"AAPL\", \"etf_symbol\": \"ACIO\", \"shares\": 298632.0, \"weight\": 0.0608, \"market_value\": 54470476.8}, {\"equity_symbol\": \"AAPL\", \"etf_symbol\": \"SPUS\", \"shares\": 286693.0, \"weight\": 0.0949, \"market_value\": 52390278.82}, {\"equity_symbol\": \"AAPL\", \"etf_symbol\": \"SCHJ\", \"shares\": 300000.0, \"weight\": 0.000718560009, \"market_value\": 52336529.99999999}, {\"equity_symbol\": \"AAPL\", \"etf_symbol\": \"VETS\", \"shares\": 286091.0, \"weight\": 0.0434, \"market_value\": 52280269.34}, {\"equity_symbol\": \"AAPL\", \"etf_symbol\": \"PTNQ\", \"shares\": 286091.0, \"weight\": 0.0434, \"market_value\": 52280269.34}, {\"equity_symbol\": \"AAPL\", \"etf_symbol\": \"CATH\", \"shares\": 280748.0, \"weight\": 0.061900000000000004, \"market_value\": 51747471.36}, {\"equity_symbol\": \"AAPL\", \"etf_symbol\": \"ILCB\", \"shares\": 280526.0, \"weight\": 0.058235999999999996, \"market_value\": 51263321.24}, {\"equity_symbol\": \"AAPL\", \"etf_symbol\": \"FVAL\", \"shares\": 276057.0, \"weight\": 0.0642, \"market_value\": 50532233.85}, {\"equity_symbol\": \"AAPL\", \"etf_symbol\": \"SCHZ\", \"shares\": 300000.0, \"weight\": 2.6829251e-05, \"market_value\": 49479000}, {\"equity_symbol\": \"AAPL\", \"etf_symbol\": \"RYT\", \"shares\": 278704.0, \"weight\": 0.0167, \"market_value\": 48893042.72}, {\"equity_symbol\": \"AAPL\", \"etf_symbol\": \"AIQ\", \"shares\": 257894.0, \"weight\": 0.0271, \"market_value\": 47535022.08}, {\"equity_symbol\": \"AAPL\", \"etf_symbol\": \"VPCCX\", \"shares\": 275000.0, \"weight\": 0.0036, \"market_value\": 47157000}, {\"equity_symbol\": \"AAPL\", \"etf_symbol\": \"DFSU\", \"shares\": 256871.0, \"weight\": 0.04942417190000001, \"market_value\": 46940606.54}, {\"equity_symbol\": \"AAPL\", \"etf_symbol\": \"FBCG\", \"shares\": 0.0, \"weight\": 0.10339999999999999, \"market_value\": 46556353}, {\"equity_symbol\": \"AAPL\", \"etf_symbol\": \"SPGP\", \"shares\": 239206.0, \"weight\": 0.00895, \"market_value\": 43786658.3}, {\"equity_symbol\": \"AAPL\", \"etf_symbol\": \"IWDC.SW\", \"shares\": 260572.0, \"weight\": 0.0413583, \"market_value\": 43238550.82}, {\"equity_symbol\": \"AAPL\", \"etf_symbol\": \"TCHP\", \"shares\": 248395.0, \"weight\": 0.07693992, \"market_value\": 42594774.6}, {\"equity_symbol\": \"AAPL\", \"etf_symbol\": \"WITS.AS\", \"shares\": 232684.0, \"weight\": 0.0733677, \"market_value\": 42520674.16}, {\"equity_symbol\": \"AAPL\", \"etf_symbol\": \"IGUS.L\", \"shares\": 290526.0, \"weight\": 0.0609907, \"market_value\": 42494674.22}, {\"equity_symbol\": \"AAPL\", \"etf_symbol\": \"WITS.L\", \"shares\": 0.0, \"weight\": 0.0729183, \"market_value\": 42441561.6}, {\"equity_symbol\": \"AAPL\", \"etf_symbol\": \"FTLS\", \"shares\": 231329.0, \"weight\": 0.0342, \"market_value\": 42344773.45}, {\"equity_symbol\": \"AAPL\", \"etf_symbol\": \"MVUS.L\", \"shares\": 270444.0, \"weight\": 0.0203, \"market_value\": 42118948.56}, {\"equity_symbol\": \"AAPL\", \"etf_symbol\": \"IHOO.AX\", \"shares\": 150421.0, \"weight\": 0.1024329, \"market_value\": 41803564.05}, {\"equity_symbol\": \"AAPL\", \"etf_symbol\": \"EPS\", \"shares\": 0.0, \"weight\": 0.00047560100000000003, \"market_value\": 41034501.55}, {\"equity_symbol\": \"AAPL\", \"etf_symbol\": \"SPMV.L\", \"shares\": 221146.0, \"weight\": 0.0197897, \"market_value\": 40412220.04}, {\"equity_symbol\": \"AAPL\", \"etf_symbol\": \"SPME.SW\", \"shares\": 0.0, \"weight\": 0.0197768, \"market_value\": 40337030.4}, {\"equity_symbol\": \"AAPL\", \"etf_symbol\": \"SPMD.L\", \"shares\": 0.0, \"weight\": 0.0197768, \"market_value\": 40337030.4}, {\"equity_symbol\": \"AAPL\", \"etf_symbol\": \"QDIV.L\", \"shares\": 217737.0, \"weight\": 0.0463581, \"market_value\": 39789259.38}, {\"equity_symbol\": \"AAPL\", \"etf_symbol\": \"HELO\", \"shares\": 216827.0, \"weight\": 0.0621, \"market_value\": 39690182.35}, {\"equity_symbol\": \"AAPL\", \"etf_symbol\": \"GGUS\", \"shares\": 209123.0, \"weight\": null, \"market_value\": 38597832.11}, {\"equity_symbol\": \"AAPL\", \"etf_symbol\": \"AYEW.DE\", \"shares\": 225938.0, \"weight\": 0.0688105, \"market_value\": 38251303.4}, {\"equity_symbol\": \"AAPL\", \"etf_symbol\": \"CRBN\", \"shares\": 202613.0, \"weight\": 0.0406728, \"market_value\": 37396281.41}, {\"equity_symbol\": \"AAPL\", \"etf_symbol\": \"IS31.DE\", \"shares\": 220515.0, \"weight\": 0.0188112, \"market_value\": 37333189.5}, {\"equity_symbol\": \"AAPL\", \"etf_symbol\": \"IBCK.DE\", \"shares\": 220515.0, \"weight\": 0.0188112, \"market_value\": 37333189.5}, {\"equity_symbol\": \"AAPL\", \"etf_symbol\": \"AAPB\", \"shares\": 215737.0, \"weight\": 2.010028536448769, \"market_value\": 36858666.449999996}, {\"equity_symbol\": \"AAPL\", \"etf_symbol\": \"QDVD.DE\", \"shares\": 215898.0, \"weight\": 0.0435093, \"market_value\": 36551531.4}, {\"equity_symbol\": \"AAPL\", \"etf_symbol\": \"QGRW\", \"shares\": 0.0, \"weight\": 0.00097576, \"market_value\": 36532203.75}, {\"equity_symbol\": \"AAPL\", \"etf_symbol\": \"UPAD.L\", \"shares\": 0.0, \"weight\": 0.0704088, \"market_value\": 36035491.2}, {\"equity_symbol\": \"AAPL\", \"etf_symbol\": \"UPAB.AS\", \"shares\": 196913.0, \"weight\": 0.0706154, \"market_value\": 35983881.62}, {\"equity_symbol\": \"AAPL\", \"etf_symbol\": \"DTD\", \"shares\": 0.0, \"weight\": 0.000288677, \"market_value\": 34870841.95}, {\"equity_symbol\": \"AAPL\", \"etf_symbol\": \"METV\", \"shares\": 48725000.0, \"weight\": 0.0784, \"market_value\": 34745276.6}, {\"equity_symbol\": \"AAPL\", \"etf_symbol\": \"CSINDU.SW\", \"shares\": 189885.0, \"weight\": 0.0306981, \"market_value\": 34699584.9}, {\"equity_symbol\": \"AAPL\", \"etf_symbol\": \"CIND.L\", \"shares\": 0.0, \"weight\": 0.0307755, \"market_value\": 34635024}, {\"equity_symbol\": \"AAPL\", \"etf_symbol\": \"FDRR\", \"shares\": 188920.0, \"weight\": 0.0656, \"market_value\": 34581806}, {\"equity_symbol\": \"AAPL\", \"etf_symbol\": \"OUSA\", \"shares\": 187505.0, \"weight\": 0.00046100000000000004, \"market_value\": 34322790.25}, {\"equity_symbol\": \"AAPL\", \"etf_symbol\": \"IQSU\", \"shares\": 183773.0, \"weight\": 0.08869999999999999, \"market_value\": 33582678.02}, {\"equity_symbol\": \"AAPL\", \"etf_symbol\": \"KRMA\", \"shares\": 174723.0, \"weight\": 0.050499999999999996, \"market_value\": 32204943.36}, {\"equity_symbol\": \"AAPL\", \"etf_symbol\": \"QUS\", \"shares\": 175653.0, \"weight\": 0.0257664, \"market_value\": 32153281.650000002}, {\"equity_symbol\": \"AAPL\", \"etf_symbol\": \"SXRU.DE\", \"shares\": 188872.0, \"weight\": 0.0290445, \"market_value\": 31976029.6}, {\"equity_symbol\": \"AAPL\", \"etf_symbol\": \"SWLSX\", \"shares\": 0.0, \"weight\": 0.08225428389799999, \"market_value\": 31925460.48}, {\"equity_symbol\": \"AAPL\", \"etf_symbol\": \"STRV\", \"shares\": 171022.0, \"weight\": 0.060700000000000004, \"market_value\": 31252560.28}, {\"equity_symbol\": \"AAPL\", \"etf_symbol\": \"FIVG\", \"shares\": 169355.0, \"weight\": 0.056799999999999996, \"market_value\": 30947932.7}, {\"equity_symbol\": \"AAPL\", \"etf_symbol\": \"JHML\", \"shares\": 187431.0, \"weight\": 0.040999999999999995, \"market_value\": 30002080.17}, {\"equity_symbol\": \"AAPL\", \"etf_symbol\": \"NUSI\", \"shares\": 163454.0, \"weight\": 0.0791, \"market_value\": 29920254.7}, {\"equity_symbol\": \"AAPL\", \"etf_symbol\": \"WINN\", \"shares\": 162958.0, \"weight\": 0.0007355186330000001, \"market_value\": 29778944.92}, {\"equity_symbol\": \"AAPL\", \"etf_symbol\": \"IUSC.SW\", \"shares\": 178149.0, \"weight\": 0.0603176, \"market_value\": 29561520.77}, {\"equity_symbol\": \"AAPL\", \"etf_symbol\": \"IUSC.DE\", \"shares\": 178149.0, \"weight\": 0.0603176, \"market_value\": 29561520.77}, {\"equity_symbol\": \"AAPL\", \"etf_symbol\": \"FTHI\", \"shares\": 154515.0, \"weight\": 0.0461, \"market_value\": 28283970.75}, {\"equity_symbol\": \"AAPL\", \"etf_symbol\": \"PWB\", \"shares\": 149006.0, \"weight\": 0.03226, \"market_value\": 27275548.3}, {\"equity_symbol\": \"AAPL\", \"etf_symbol\": \"ESPX.AS\", \"shares\": 0.0, \"weight\": 0.0837646, \"market_value\": 27140937.6}, {\"equity_symbol\": \"AAPL\", \"etf_symbol\": \"CBUM.DE\", \"shares\": 0.0, \"weight\": 0.0837646, \"market_value\": 27140937.6}, {\"equity_symbol\": \"AAPL\", \"etf_symbol\": \"SPGM\", \"shares\": 143553.0, \"weight\": 0.03394552, \"market_value\": 26277376.650000002}, {\"equity_symbol\": \"AAPL\", \"etf_symbol\": \"PFM\", \"shares\": 142443.0, \"weight\": 0.03964, \"market_value\": 26074191.15}, {\"equity_symbol\": \"AAPL\", \"etf_symbol\": \"HDIQ.L\", \"shares\": 169296.0, \"weight\": 0.0501, \"market_value\": 25959848.64}, {\"equity_symbol\": \"AAPL\", \"etf_symbol\": \"GLOV\", \"shares\": 137934.0, \"weight\": null, \"market_value\": 25458478.38}, {\"equity_symbol\": \"AAPL\", \"etf_symbol\": \"AVLV\", \"shares\": 166367.0, \"weight\": 0.0275, \"market_value\": 25432523.29}, {\"equity_symbol\": \"AAPL\", \"etf_symbol\": \"QDEF\", \"shares\": 137335.0, \"weight\": 0.069664, \"market_value\": 25096597.9}, {\"equity_symbol\": \"AAPL\", \"etf_symbol\": \"KOKU\", \"shares\": 136899.0, \"weight\": 0.0438807068, \"market_value\": 25059361.95}, {\"equity_symbol\": \"AAPL\", \"etf_symbol\": \"FNDB\", \"shares\": 140377.0, \"weight\": 0.033480985891, \"market_value\": 24489483.572699998}, {\"equity_symbol\": \"AAPL\", \"etf_symbol\": \"FTQI\", \"shares\": 133072.0, \"weight\": 0.07919999999999999, \"market_value\": 24358829.6}, {\"equity_symbol\": \"AAPL\", \"etf_symbol\": \"DCOR\", \"shares\": 126873.0, \"weight\": 0.04844792369999999, \"market_value\": 23184772.02}, {\"equity_symbol\": \"AAPL\", \"etf_symbol\": \"WQDV.L\", \"shares\": 126240.0, \"weight\": 0.028146900000000002, \"market_value\": 23069097.6}, {\"equity_symbol\": \"AAPL\", \"etf_symbol\": \"WQDA.AS\", \"shares\": 0.0, \"weight\": 0.0281174, \"market_value\": 23026176}, {\"equity_symbol\": \"AAPL\", \"etf_symbol\": \"IUMF.L\", \"shares\": 146788.0, \"weight\": 0.053399999999999996, \"market_value\": 22860763.12}, {\"equity_symbol\": \"AAPL\", \"etf_symbol\": \"JUST\", \"shares\": 121372.0, \"weight\": null, \"market_value\": 22401630.04}, {\"equity_symbol\": \"AAPL\", \"etf_symbol\": \"QQEW\", \"shares\": 121252.0, \"weight\": 0.010700000000000001, \"market_value\": 22195178.6}, {\"equity_symbol\": \"AAPL\", \"etf_symbol\": \"IUVE.AS\", \"shares\": 121121.0, \"weight\": 0.0466467, \"market_value\": 22133651.54}, {\"equity_symbol\": \"AAPL\", \"etf_symbol\": \"DMRL\", \"shares\": 177507.0, \"weight\": 0.058899999999999994, \"market_value\": 21939714}, {\"equity_symbol\": \"AAPL\", \"etf_symbol\": \"FFLG\", \"shares\": 118519.0, \"weight\": 0.0749, \"market_value\": 21694902.95}, {\"equity_symbol\": \"AAPL\", \"etf_symbol\": \"QDVW.DE\", \"shares\": 126240.0, \"weight\": 0.026676199999999997, \"market_value\": 21372432}, {\"equity_symbol\": \"AAPL\", \"etf_symbol\": \"RDVI\", \"shares\": 111946.0, \"weight\": 0.0209, \"market_value\": 20661873.22}, {\"equity_symbol\": \"AAPL\", \"etf_symbol\": \"IUS\", \"shares\": 111786.0, \"weight\": 0.03847, \"market_value\": 20462427.3}, {\"equity_symbol\": \"AAPL\", \"etf_symbol\": \"LVHB\", \"shares\": 111646.0, \"weight\": 0.0727, \"market_value\": 18695122.7}, {\"equity_symbol\": \"AAPL\", \"etf_symbol\": \"QDPL\", \"shares\": 101495.0, \"weight\": 0.0529, \"market_value\": 18547196.3}, {\"equity_symbol\": \"AAPL\", \"etf_symbol\": \"CSM\", \"shares\": 100763.0, \"weight\": 0.04181110513267441, \"market_value\": 18413430.62}, {\"equity_symbol\": \"AAPL\", \"etf_symbol\": \"XNTK\", \"shares\": 98226.0, \"weight\": 0.023481079999999998, \"market_value\": 17980269.3}, {\"equity_symbol\": \"AAPL\", \"etf_symbol\": \"MODL\", \"shares\": 96437.0, \"weight\": 0.0522679596, \"market_value\": 17590108.8}, {\"equity_symbol\": \"AAPL\", \"etf_symbol\": \"XVV\", \"shares\": 92711.0, \"weight\": 0.0666538, \"market_value\": 16942008.14}, {\"equity_symbol\": \"AAPL\", \"etf_symbol\": \"JVAL\", \"shares\": 88995.0, \"weight\": 0.020099999999999996, \"market_value\": 16290534.75}, {\"equity_symbol\": \"AAPL\", \"etf_symbol\": \"DRIV\", \"shares\": 88378.0, \"weight\": 0.028900000000000002, \"market_value\": 16289832.96}, {\"equity_symbol\": \"AAPL\", \"etf_symbol\": \"JPEF\", \"shares\": 87435.0, \"weight\": 0.0264, \"market_value\": 16004976.75}, {\"equity_symbol\": \"AAPL\", \"etf_symbol\": \"SFLR\", \"shares\": 85350.0, \"weight\": 0.06, \"market_value\": 15623317.5}, {\"equity_symbol\": \"AAPL\", \"etf_symbol\": \"HAPI\", \"shares\": 84649.0, \"weight\": 0.000477096443, \"market_value\": 15468758.26}, {\"equity_symbol\": \"AAPL\", \"etf_symbol\": \"PALC\", \"shares\": 84277.0, \"weight\": 0.05, \"market_value\": 15400778.98}, {\"equity_symbol\": \"AAPL\", \"etf_symbol\": \"LSLT\", \"shares\": 84277.0, \"weight\": 0.05, \"market_value\": 15400778.98}, {\"equity_symbol\": \"AAPL\", \"etf_symbol\": \"USNZ\", \"shares\": 83279.0, \"weight\": 0.0803016011, \"market_value\": 15244220.95}, {\"equity_symbol\": \"AAPL\", \"etf_symbol\": \"JMOM\", \"shares\": 81593.0, \"weight\": 0.0167, \"market_value\": 14935598.65}, {\"equity_symbol\": \"AAPL\", \"etf_symbol\": \"TDVG\", \"shares\": 84679.0, \"weight\": 0.03592022, \"market_value\": 14520754.92}, {\"equity_symbol\": \"AAPL\", \"etf_symbol\": \"QLC\", \"shares\": 78775.0, \"weight\": 0.07160899999999999, \"market_value\": 14395343.5}, {\"equity_symbol\": \"AAPL\", \"etf_symbol\": \"IWQE.MI\", \"shares\": 76167.0, \"weight\": 0.0273626, \"market_value\": 13918757.58}, {\"equity_symbol\": \"AAPL\", \"etf_symbol\": \"IWQE.AS\", \"shares\": 0.0, \"weight\": 0.0272696, \"market_value\": 13892860.8}, {\"equity_symbol\": \"AAPL\", \"etf_symbol\": \"HCMT\", \"shares\": 75444.0, \"weight\": 0.047907662841, \"market_value\": 13760985.6}, {\"equity_symbol\": \"AAPL\", \"etf_symbol\": \"BND\", \"shares\": 0.0, \"weight\": null, \"market_value\": 13645119}, {\"equity_symbol\": \"AAPL\", \"etf_symbol\": \"TECB\", \"shares\": 72445.0, \"weight\": 0.0335214, \"market_value\": 13238599.3}, {\"equity_symbol\": \"AAPL\", \"etf_symbol\": \"FLQL\", \"shares\": 96837.0, \"weight\": 0.0108, \"market_value\": 13049908}, {\"equity_symbol\": \"AAPL\", \"etf_symbol\": \"QQQE\", \"shares\": 69124.0, \"weight\": 0.010621095611, \"market_value\": 12608217.6}, {\"equity_symbol\": \"AAPL\", \"etf_symbol\": \"AAPU\", \"shares\": 68160.0, \"weight\": 0.19431888307800002, \"market_value\": 12432384}, {\"equity_symbol\": \"AAPL\", \"etf_symbol\": \"IFSW.L\", \"shares\": 65926.0, \"weight\": 0.0222553, \"market_value\": 12047317.24}, {\"equity_symbol\": \"AAPL\", \"etf_symbol\": \"IS07.DE\", \"shares\": 0.0, \"weight\": 0.0221942, \"market_value\": 12024902.4}, {\"equity_symbol\": \"AAPL\", \"etf_symbol\": \"FDMO\", \"shares\": 65040.0, \"weight\": 0.0597, \"market_value\": 11905572}, {\"equity_symbol\": \"AAPL\", \"etf_symbol\": \"IGWD.L\", \"shares\": 80076.0, \"weight\": 0.0417372, \"market_value\": 11712561.12}, {\"equity_symbol\": \"AAPL\", \"etf_symbol\": \"VSMV\", \"shares\": 63745.0, \"weight\": 0.0865031853, \"market_value\": 11627088}, {\"equity_symbol\": \"AAPL\", \"etf_symbol\": \"IBCZ.DE\", \"shares\": 65926.0, \"weight\": 0.020943100000000003, \"market_value\": 11161271.8}, {\"equity_symbol\": \"AAPL\", \"etf_symbol\": \"RPG\", \"shares\": 60341.0, \"weight\": 0.00709, \"market_value\": 11045420.05}, {\"equity_symbol\": \"AAPL\", \"etf_symbol\": \"GDIV\", \"shares\": 60274.0, \"weight\": 0.00040577842000000003, \"market_value\": 11014470.76}, {\"equity_symbol\": \"AAPL\", \"etf_symbol\": \"UDOW\", \"shares\": 58494.0, \"weight\": 0.0051014209576804945, \"market_value\": 10689193.56}, {\"equity_symbol\": \"AAPL\", \"etf_symbol\": \"ESG\", \"shares\": 58240.0, \"weight\": 0.053197999999999995, \"market_value\": 10642777.6}, {\"equity_symbol\": \"AAPL\", \"etf_symbol\": \"SHE\", \"shares\": 56202.0, \"weight\": 0.04398917, \"market_value\": 10287776.100000001}, {\"equity_symbol\": \"AAPL\", \"etf_symbol\": \"FFLC\", \"shares\": 53970.0, \"weight\": 0.0339, \"market_value\": 9879208.5}, {\"equity_symbol\": \"AAPL\", \"etf_symbol\": \"TTAC\", \"shares\": 73804.0, \"weight\": 0.0484, \"market_value\": 9513148.75}, {\"equity_symbol\": \"AAPL\", \"etf_symbol\": \"ADME\", \"shares\": 52104.0, \"weight\": 0.0608, \"market_value\": 9503769.6}, {\"equity_symbol\": \"AAPL\", \"etf_symbol\": \"ESGG\", \"shares\": 51964.0, \"weight\": 0.053274, \"market_value\": 9495901.36}, {\"equity_symbol\": \"AAPL\", \"etf_symbol\": \"TSPA\", \"shares\": 54004.0, \"weight\": 0.054521759999999996, \"market_value\": 9260605.92}, {\"equity_symbol\": \"AAPL\", \"etf_symbol\": \"TOK\", \"shares\": 50433.0, \"weight\": 0.044280799999999995, \"market_value\": 9216126.42}, {\"equity_symbol\": \"AAPL\", \"etf_symbol\": \"EXI3.F\", \"shares\": 48711.0, \"weight\": 0.0305415, \"market_value\": 8901448.14}, {\"equity_symbol\": \"AAPL\", \"etf_symbol\": \"HSPX\", \"shares\": 72362.0, \"weight\": 0.061200000000000004, \"market_value\": 8892769.93}, {\"equity_symbol\": \"AAPL\", \"etf_symbol\": \"DDM\", \"shares\": 48126.0, \"weight\": 0.009502638028203017, \"market_value\": 8794545.24}, {\"equity_symbol\": \"AAPL\", \"etf_symbol\": \"QYLG\", \"shares\": 46490.0, \"weight\": 0.0823, \"market_value\": 8569036.8}, {\"equity_symbol\": \"AAPL\", \"etf_symbol\": \"XOUT\", \"shares\": 79037.0, \"weight\": 0.0858, \"market_value\": 8494519.83}, {\"equity_symbol\": \"AAPL\", \"etf_symbol\": \"DUBS\", \"shares\": 46532.0, \"weight\": 0.0525, \"market_value\": 8487436.8}, {\"equity_symbol\": \"AAPL\", \"etf_symbol\": \"FMK\", \"shares\": 45104.0, \"weight\": 0.0353, \"market_value\": 8256287.2}, {\"equity_symbol\": \"AAPL\", \"etf_symbol\": \"EDOW\", \"shares\": 45104.0, \"weight\": 0.0353, \"market_value\": 8256287.2}, {\"equity_symbol\": \"AAPL\", \"etf_symbol\": \"TDV\", \"shares\": 45173.0, \"weight\": 0.029877912438664268, \"market_value\": 8254914.02}, {\"equity_symbol\": \"AAPL\", \"etf_symbol\": \"INDUEX.DE\", \"shares\": 48711.0, \"weight\": 0.0288952, \"market_value\": 8246772.3}, {\"equity_symbol\": \"AAPL\", \"etf_symbol\": \"QFLR\", \"shares\": 43402.0, \"weight\": 0.084, \"market_value\": 7944736.1}, {\"equity_symbol\": \"AAPL\", \"etf_symbol\": \"SPUU\", \"shares\": 41990.0, \"weight\": 0.049944247320999995, \"market_value\": 7658976}, {\"equity_symbol\": \"AAPL\", \"etf_symbol\": \"QLV\", \"shares\": 41808.0, \"weight\": 0.04859, \"market_value\": 7639993.92}, {\"equity_symbol\": \"AAPL\", \"etf_symbol\": \"EUN5.DE\", \"shares\": 7736000.0, \"weight\": 0.0005276, \"market_value\": 7479841.83}, {\"equity_symbol\": \"AAPL\", \"etf_symbol\": \"ONOF\", \"shares\": 40204.0, \"weight\": 0.0617, \"market_value\": 7410401.28}, {\"equity_symbol\": \"AAPL\", \"etf_symbol\": \"IEAC.L\", \"shares\": 7611000.0, \"weight\": 0.000512, \"market_value\": 7374289.52}, {\"equity_symbol\": \"AAPL\", \"etf_symbol\": \"FCPI\", \"shares\": 39441.0, \"weight\": 0.04650000000000001, \"market_value\": 7219675.05}, {\"equity_symbol\": \"AAPL\", \"etf_symbol\": \"CBUH.DE\", \"shares\": 39347.0, \"weight\": 0.0257644, \"market_value\": 7190270.78}, {\"equity_symbol\": \"AAPL\", \"etf_symbol\": \"VLU\", \"shares\": 39040.0, \"weight\": 0.02057436, \"market_value\": 7146272}, {\"equity_symbol\": \"AAPL\", \"etf_symbol\": \"QVM\", \"shares\": 52530.0, \"weight\": 0.0258, \"market_value\": 7145825.22}, {\"equity_symbol\": \"AAPL\", \"etf_symbol\": \"VBTLX\", \"shares\": 0.0, \"weight\": null, \"market_value\": 7134334}, {\"equity_symbol\": \"AAPL\", \"etf_symbol\": \"META\", \"shares\": 47343.0, \"weight\": 0.0342, \"market_value\": 7102396.86}, {\"equity_symbol\": \"AAPL\", \"etf_symbol\": \"CBUI.DE\", \"shares\": 38812.0, \"weight\": 0.028295, \"market_value\": 7092504.88}, {\"equity_symbol\": \"AAPL\", \"etf_symbol\": \"DSTL\", \"shares\": 55114.0, \"weight\": 0.0206, \"market_value\": 6996407.48}, {\"equity_symbol\": \"AAPL\", \"etf_symbol\": \"EQWL\", \"shares\": 37131.0, \"weight\": 0.010589999999999999, \"market_value\": 6796829.55}, {\"equity_symbol\": \"AAPL\", \"etf_symbol\": \"GPIX\", \"shares\": 36471.0, \"weight\": null, \"market_value\": 6731452.47}, {\"equity_symbol\": \"AAPL\", \"etf_symbol\": \"SDIG.L\", \"shares\": 7590000.0, \"weight\": 0.0010325, \"market_value\": 6651047.07}, {\"equity_symbol\": \"AAPL\", \"etf_symbol\": \"GINN\", \"shares\": 35957.0, \"weight\": null, \"market_value\": 6636583.49}, {\"equity_symbol\": \"AAPL\", \"etf_symbol\": \"ESGA\", \"shares\": 56747.0, \"weight\": 0.0516, \"market_value\": 6599103.3}, {\"equity_symbol\": \"AAPL\", \"etf_symbol\": \"WDMF.AX\", \"shares\": 23110.0, \"weight\": 0.0404638, \"market_value\": 6455899.35}, {\"equity_symbol\": \"AAPL\", \"etf_symbol\": \"IETC\", \"shares\": 35223.0, \"weight\": 0.0262634, \"market_value\": 6436651.02}, {\"equity_symbol\": \"AAPL\", \"etf_symbol\": \"TGRT\", \"shares\": 35094.0, \"weight\": 0.0828090203, \"market_value\": 6401145.6}, {\"equity_symbol\": \"AAPL\", \"etf_symbol\": \"PBP\", \"shares\": 34162.0, \"weight\": 0.0633, \"market_value\": 6253354.1}, {\"equity_symbol\": \"AAPL\", \"etf_symbol\": \"HDUS\", \"shares\": 34213.0, \"weight\": 0.05410895839999999, \"market_value\": 6252083.62}, {\"equity_symbol\": \"AAPL\", \"etf_symbol\": \"FLRG\", \"shares\": 33192.0, \"weight\": 0.0572, \"market_value\": 6075795.6}, {\"equity_symbol\": \"AAPL\", \"etf_symbol\": \"QDVL.DE\", \"shares\": 6100000.0, \"weight\": 0.0018563, \"market_value\": 5980619.04}, {\"equity_symbol\": \"AAPL\", \"etf_symbol\": \"WPAD.AS\", \"shares\": 32719.0, \"weight\": 0.047009800000000004, \"market_value\": 5979070.06}, {\"equity_symbol\": \"AAPL\", \"etf_symbol\": \"SLXX.L\", \"shares\": 6161000.0, \"weight\": 0.0027822999999999997, \"market_value\": 5826777.69}, {\"equity_symbol\": \"AAPL\", \"etf_symbol\": \"LGRO\", \"shares\": 31821.0, \"weight\": 0.000739, \"market_value\": 5824834.05}, {\"equity_symbol\": \"AAPL\", \"etf_symbol\": \"SLXU.AS\", \"shares\": 0.0, \"weight\": 0.0027831, \"market_value\": 5823370.1}, {\"equity_symbol\": \"AAPL\", \"etf_symbol\": \"IEAH.L\", \"shares\": 0.0, \"weight\": 0.0004015, \"market_value\": 5774832.85}, {\"equity_symbol\": \"AAPL\", \"etf_symbol\": \"TGRW\", \"shares\": 33605.0, \"weight\": 0.07762579, \"market_value\": 5762585.4}, {\"equity_symbol\": \"AAPL\", \"etf_symbol\": \"WPAB.AS\", \"shares\": 0.0, \"weight\": 0.0468568, \"market_value\": 5691609.6}, {\"equity_symbol\": \"AAPL\", \"etf_symbol\": \"IRBO\", \"shares\": 31055.0, \"weight\": 0.008584000000000001, \"market_value\": 5674990.7}, {\"equity_symbol\": \"AAPL\", \"etf_symbol\": \"PHDG\", \"shares\": 30402.0, \"weight\": 0.04002, \"market_value\": 5565086.1}, {\"equity_symbol\": \"AAPL\", \"etf_symbol\": \"STXG\", \"shares\": 30438.0, \"weight\": 0.0809, \"market_value\": 5562240.12}, {\"equity_symbol\": \"AAPL\", \"etf_symbol\": \"STLG\", \"shares\": 29668.0, \"weight\": 0.1047014, \"market_value\": 5421530.32}, {\"equity_symbol\": \"AAPL\", \"etf_symbol\": \"WPAB.DE\", \"shares\": 31204.0, \"weight\": 0.0445401, \"market_value\": 5282837.2}, {\"equity_symbol\": \"AAPL\", \"etf_symbol\": \"GPIQ\", \"shares\": 28548.0, \"weight\": null, \"market_value\": 5269104.36}, {\"equity_symbol\": \"AAPL\", \"etf_symbol\": \"AVSU\", \"shares\": 33867.0, \"weight\": 0.050499999999999996, \"market_value\": 5177248.29}, {\"equity_symbol\": \"AAPL\", \"etf_symbol\": \"ISPY\", \"shares\": 27684.0, \"weight\": 0.024478415051738655, \"market_value\": 5058974.16}, {\"equity_symbol\": \"AAPL\", \"etf_symbol\": \"VFQY\", \"shares\": 29391.0, \"weight\": 0.015, \"market_value\": 5039968.68}, {\"equity_symbol\": \"AAPL\", \"etf_symbol\": \"ACSI\", \"shares\": 42922.0, \"weight\": 0.0726, \"market_value\": 4895839.3}, {\"equity_symbol\": \"AAPL\", \"etf_symbol\": \"CCOR\", \"shares\": 34208.0, \"weight\": 0.0245, \"market_value\": 4788448.01}, {\"equity_symbol\": \"AAPL\", \"etf_symbol\": \"NZAC\", \"shares\": 25994.0, \"weight\": 0.04307844, \"market_value\": 4758201.7}, {\"equity_symbol\": \"AAPL\", \"etf_symbol\": \"IUAC.AS\", \"shares\": 0.0, \"weight\": 0.0003286, \"market_value\": 4725538.61}, {\"equity_symbol\": \"AAPL\", \"etf_symbol\": \"ROUS\", \"shares\": 24487.0, \"weight\": 0.0109831666, \"market_value\": 4474754.38}, {\"equity_symbol\": \"AAPL\", \"etf_symbol\": \"GLOF\", \"shares\": 24240.0, \"weight\": 0.035851600000000004, \"market_value\": 4429617.6}, {\"equity_symbol\": \"AAPL\", \"etf_symbol\": \"R1GR.L\", \"shares\": 24228.0, \"weight\": 0.101713, \"market_value\": 4427424.72}, {\"equity_symbol\": \"AAPL\", \"etf_symbol\": \"FGRO\", \"shares\": 0.0, \"weight\": 0.0339, \"market_value\": 4426870}, {\"equity_symbol\": \"AAPL\", \"etf_symbol\": \"SPXN\", \"shares\": 23269.0, \"weight\": 0.07176461329631521, \"market_value\": 4252177.06}, {\"equity_symbol\": \"AAPL\", \"etf_symbol\": \"NXTG\", \"shares\": 23013.0, \"weight\": 0.0113, \"market_value\": 4212529.65}, {\"equity_symbol\": \"AAPL\", \"etf_symbol\": \"XYLG\", \"shares\": 22669.0, \"weight\": 0.0625, \"market_value\": 4178350.08}, {\"equity_symbol\": \"AAPL\", \"etf_symbol\": \"SUSS.L\", \"shares\": 0.0, \"weight\": 0.001252, \"market_value\": 4024762.21}, {\"equity_symbol\": \"AAPL\", \"etf_symbol\": \"IE3E.DE\", \"shares\": 0.0, \"weight\": 0.001252, \"market_value\": 4024762.21}, {\"equity_symbol\": \"AAPL\", \"etf_symbol\": \"EWSP.L\", \"shares\": 21933.0, \"weight\": 0.002141, \"market_value\": 4008036.42}, {\"equity_symbol\": \"AAPL\", \"etf_symbol\": \"ISPE.L\", \"shares\": 0.0, \"weight\": 0.0021361, \"market_value\": 4005504}, {\"equity_symbol\": \"AAPL\", \"etf_symbol\": \"KOMP\", \"shares\": 21850.0, \"weight\": 0.0020775299999999997, \"market_value\": 3999642.5000000005}, {\"equity_symbol\": \"AAPL\", \"etf_symbol\": \"SDIA.L\", \"shares\": 0.0, \"weight\": 0.0006133, \"market_value\": 3940817.62}, {\"equity_symbol\": \"AAPL\", \"etf_symbol\": \"CEBU.DE\", \"shares\": 0.0, \"weight\": 0.0006133, \"market_value\": 3940817.62}, {\"equity_symbol\": \"AAPL\", \"etf_symbol\": \"IBCD.DE\", \"shares\": 4835000.0, \"weight\": 0.00048750000000000003, \"market_value\": 3877221.44}, {\"equity_symbol\": \"AAPL\", \"etf_symbol\": \"EWSP.AS\", \"shares\": 22338.0, \"weight\": 0.0020004, \"market_value\": 3781823.4}, {\"equity_symbol\": \"AAPL\", \"etf_symbol\": \"CBU0.DE\", \"shares\": 0.0, \"weight\": 0.0017935000000000002, \"market_value\": 3752729.39}, {\"equity_symbol\": \"AAPL\", \"etf_symbol\": \"MILN\", \"shares\": 20274.0, \"weight\": 0.0316, \"market_value\": 3736903.68}, {\"equity_symbol\": \"AAPL\", \"etf_symbol\": \"FMIL\", \"shares\": 0.0, \"weight\": 0.0407, \"market_value\": 3700728}, {\"equity_symbol\": \"AAPL\", \"etf_symbol\": \"QQMG\", \"shares\": 20164.0, \"weight\": 0.09414, \"market_value\": 3691020.2}, {\"equity_symbol\": \"AAPL\", \"etf_symbol\": \"IFSU.L\", \"shares\": 20197.0, \"weight\": 0.047991200000000005, \"market_value\": 3690799.78}, {\"equity_symbol\": \"AAPL\", \"etf_symbol\": \"UFSD.L\", \"shares\": 0.0, \"weight\": 0.0479461, \"market_value\": 3683932.8}, {\"equity_symbol\": \"AAPL\", \"etf_symbol\": \"GVIP\", \"shares\": 19737.0, \"weight\": null, \"market_value\": 3642858.09}, {\"equity_symbol\": \"AAPL\", \"etf_symbol\": \"IEAU.AS\", \"shares\": 0.0, \"weight\": 0.0002489, \"market_value\": 3579093.42}, {\"equity_symbol\": \"AAPL\", \"etf_symbol\": \"IEAA.L\", \"shares\": 0.0, \"weight\": 0.0002489, \"market_value\": 3579093.42}, {\"equity_symbol\": \"AAPL\", \"etf_symbol\": \"IE1G.L\", \"shares\": 0.0, \"weight\": 0.0008361, \"market_value\": 3441223.33}, {\"equity_symbol\": \"AAPL\", \"etf_symbol\": \"SE15.L\", \"shares\": 3550000.0, \"weight\": 0.0008361, \"market_value\": 3439587.98}, {\"equity_symbol\": \"AAPL\", \"etf_symbol\": \"IBCY.DE\", \"shares\": 20197.0, \"weight\": 0.045183600000000004, \"market_value\": 3419352.1}, {\"equity_symbol\": \"AAPL\", \"etf_symbol\": \"JHMT\", \"shares\": 27312.0, \"weight\": 0.058899999999999994, \"market_value\": 3227695.93}, {\"equity_symbol\": \"AAPL\", \"etf_symbol\": \"LQGH.L\", \"shares\": 0.0, \"weight\": 0.0003829, \"market_value\": 3193148.17}, {\"equity_symbol\": \"AAPL\", \"etf_symbol\": \"LQEE.L\", \"shares\": 0.0, \"weight\": 0.0003824, \"market_value\": 3188785.67}, {\"equity_symbol\": \"AAPL\", \"etf_symbol\": \"IB26.DE\", \"shares\": 0.0, \"weight\": 0.0048007, \"market_value\": 3165925.46}, {\"equity_symbol\": \"AAPL\", \"etf_symbol\": \"CEBE.DE\", \"shares\": 0.0, \"weight\": 0.0048007, \"market_value\": 3165925.46}, {\"equity_symbol\": \"AAPL\", \"etf_symbol\": \"IB26.MI\", \"shares\": 3266000.0, \"weight\": 0.0047275, \"market_value\": 3164420.94}, {\"equity_symbol\": \"AAPL\", \"etf_symbol\": \"SPXE\", \"shares\": 17083.0, \"weight\": 0.06327584643359462, \"market_value\": 3121747.42}, {\"equity_symbol\": \"AAPL\", \"etf_symbol\": \"LQDA.L\", \"shares\": 0.0, \"weight\": 0.000363, \"market_value\": 3026765.87}, {\"equity_symbol\": \"AAPL\", \"etf_symbol\": \"FEUS\", \"shares\": 16213.0, \"weight\": 0.064962, \"market_value\": 2962763.62}, {\"equity_symbol\": \"AAPL\", \"etf_symbol\": \"SUOG.L\", \"shares\": 0.0, \"weight\": 0.0005295, \"market_value\": 2955751.9}, {\"equity_symbol\": \"AAPL\", \"etf_symbol\": \"SUOE.L\", \"shares\": 3110000.0, \"weight\": 0.0005302, \"market_value\": 2955001.24}, {\"equity_symbol\": \"AAPL\", \"etf_symbol\": \"WOMN\", \"shares\": 15978.0, \"weight\": 0.054299999999999994, \"market_value\": 2914387.2}, {\"equity_symbol\": \"AAPL\", \"etf_symbol\": \"MMLG\", \"shares\": 15684.0, \"weight\": 0.0438, \"market_value\": 2870956.2}, {\"equity_symbol\": \"AAPL\", \"etf_symbol\": \"IX5A.AS\", \"shares\": 0.0, \"weight\": 0.0026287, \"market_value\": 2811140.18}, {\"equity_symbol\": \"AAPL\", \"etf_symbol\": \"FSUS.L\", \"shares\": 17999.0, \"weight\": 0.0632, \"market_value\": 2759966.66}, {\"equity_symbol\": \"AAPL\", \"etf_symbol\": \"QARP\", \"shares\": 15074.0, \"weight\": 0.0432795846, \"market_value\": 2759295.7}, {\"equity_symbol\": \"AAPL\", \"etf_symbol\": \"SPTE\", \"shares\": 14914.0, \"weight\": 0.0907, \"market_value\": 2725384.36}, {\"equity_symbol\": \"AAPL\", \"etf_symbol\": \"SUA0.DE\", \"shares\": 0.0, \"weight\": 0.000485, \"market_value\": 2707380.97}, {\"equity_symbol\": \"AAPL\", \"etf_symbol\": \"DJIA\", \"shares\": 14616.0, \"weight\": 0.0319, \"market_value\": 2694021.12}, {\"equity_symbol\": \"AAPL\", \"etf_symbol\": \"D28G.L\", \"shares\": 0.0, \"weight\": 0.0058017, \"market_value\": 2681295.25}, {\"equity_symbol\": \"AAPL\", \"etf_symbol\": \"CORC.SW\", \"shares\": 2970000.0, \"weight\": 0.0019, \"market_value\": 2598692.08}, {\"equity_symbol\": \"AAPL\", \"etf_symbol\": \"SDGH.L\", \"shares\": 0.0, \"weight\": 0.00040219999999999996, \"market_value\": 2583975.88}, {\"equity_symbol\": \"AAPL\", \"etf_symbol\": \"BUZZ\", \"shares\": 14798.0, \"weight\": 0.0292, \"market_value\": 2582990.9}, {\"equity_symbol\": \"AAPL\", \"etf_symbol\": \"CBU4.DE\", \"shares\": 2887000.0, \"weight\": 0.0059370000000000004, \"market_value\": 2502778.24}, {\"equity_symbol\": \"AAPL\", \"etf_symbol\": \"BUL\", \"shares\": 13558.0, \"weight\": 0.0516, \"market_value\": 2477588.92}, {\"equity_symbol\": \"AAPL\", \"etf_symbol\": \"LQDE.L\", \"shares\": 3096000.0, \"weight\": 0.0002961, \"market_value\": 2467514.86}, {\"equity_symbol\": \"AAPL\", \"etf_symbol\": \"PY\", \"shares\": 13453.0, \"weight\": 0.038351721584, \"market_value\": 2462571.65}, {\"equity_symbol\": \"AAPL\", \"etf_symbol\": \"DJD\", \"shares\": 13167.0, \"weight\": 0.00809, \"market_value\": 2410219.35}, {\"equity_symbol\": \"AAPL\", \"etf_symbol\": \"PSET\", \"shares\": 12716.0, \"weight\": 0.046269980585, \"market_value\": 2327663.8}, {\"equity_symbol\": \"AAPL\", \"etf_symbol\": \"QWLD\", \"shares\": 12701.0, \"weight\": 0.019739120000000002, \"market_value\": 2324918.0500000003}, {\"equity_symbol\": \"AAPL\", \"etf_symbol\": \"IE1U.AS\", \"shares\": 0.0, \"weight\": 0.0005473, \"market_value\": 2252454.02}, {\"equity_symbol\": \"AAPL\", \"etf_symbol\": \"IE1C.AS\", \"shares\": 0.0, \"weight\": 0.0005473, \"market_value\": 2252454.02}, {\"equity_symbol\": \"AAPL\", \"etf_symbol\": \"IE1A.DE\", \"shares\": 0.0, \"weight\": 0.0005473, \"market_value\": 2252454.02}, {\"equity_symbol\": \"AAPL\", \"etf_symbol\": \"EUNT.DE\", \"shares\": 2370000.0, \"weight\": 0.000549, \"market_value\": 2249535.79}, {\"equity_symbol\": \"AAPL\", \"etf_symbol\": \"NACP\", \"shares\": 12264.0, \"weight\": 0.0504, \"market_value\": 2236953.6}, {\"equity_symbol\": \"AAPL\", \"etf_symbol\": \"EUNS.DE\", \"shares\": 2270000.0, \"weight\": 0.0021046999999999997, \"market_value\": 2227855.06}, {\"equity_symbol\": \"AAPL\", \"etf_symbol\": \"TSWE.DE\", \"shares\": 14656.0, \"weight\": 0.0039000000000000003, \"market_value\": 2199697}, {\"equity_symbol\": \"AAPL\", \"etf_symbol\": \"TSWE.AS\", \"shares\": 14656.0, \"weight\": 0.0039000000000000003, \"market_value\": 2199697}, {\"equity_symbol\": \"AAPL\", \"etf_symbol\": \"ROBT\", \"shares\": 11917.0, \"weight\": 0.0040999999999999995, \"market_value\": 2181406.85}, {\"equity_symbol\": \"AAPL\", \"etf_symbol\": \"VALQ\", \"shares\": 17526.0, \"weight\": 0.009399999999999999, \"market_value\": 2142761.31}, {\"equity_symbol\": \"AAPL\", \"etf_symbol\": \"WTAI\", \"shares\": 0.0, \"weight\": 9.3809e-05, \"market_value\": 2126674.9}, {\"equity_symbol\": \"AAPL\", \"etf_symbol\": \"XRMI\", \"shares\": 11531.0, \"weight\": 0.0638, \"market_value\": 2125393.92}, {\"equity_symbol\": \"AAPL\", \"etf_symbol\": \"IS3J.DE\", \"shares\": 2210000.0, \"weight\": 0.0003324, \"market_value\": 2110312.76}, {\"equity_symbol\": \"AAPL\", \"etf_symbol\": \"ALTL\", \"shares\": 11419.0, \"weight\": 0.0084, \"market_value\": 2086708.06}, {\"equity_symbol\": \"AAPL\", \"etf_symbol\": \"BALI\", \"shares\": 11147.0, \"weight\": 0.0667657, \"market_value\": 2037002.78}, {\"equity_symbol\": \"AAPL\", \"etf_symbol\": \"STXD\", \"shares\": 11089.0, \"weight\": 0.0525, \"market_value\": 2026403.86}, {\"equity_symbol\": \"AAPL\", \"etf_symbol\": \"FNGG\", \"shares\": 11076.0, \"weight\": 0.044815016651999995, \"market_value\": 2020262.4}, {\"equity_symbol\": \"AAPL\", \"etf_symbol\": \"FLLV\", \"shares\": 14623.0, \"weight\": 0.0144, \"market_value\": 1952625.26}, {\"equity_symbol\": \"AAPL\", \"etf_symbol\": \"MMTM\", \"shares\": 10484.0, \"weight\": 0.019747129999999998, \"market_value\": 1919096.2000000002}, {\"equity_symbol\": \"AAPL\", \"etf_symbol\": \"ID28.L\", \"shares\": 0.0, \"weight\": 0.0041009, \"market_value\": 1895277.43}, {\"equity_symbol\": \"AAPL\", \"etf_symbol\": \"D28A.L\", \"shares\": 0.0, \"weight\": 0.0041009, \"market_value\": 1895277.43}, {\"equity_symbol\": \"AAPL\", \"etf_symbol\": \"PXQ\", \"shares\": 10382.0, \"weight\": 0.04856, \"market_value\": 1831177.16}, {\"equity_symbol\": \"AAPL\", \"etf_symbol\": \"CARZ\", \"shares\": 9798.0, \"weight\": 0.0479, \"market_value\": 1793523.9}, {\"equity_symbol\": \"AAPL\", \"etf_symbol\": \"HUSV\", \"shares\": 9672.0, \"weight\": 0.0206, \"market_value\": 1770459.6}, {\"equity_symbol\": \"AAPL\", \"etf_symbol\": \"CBU5.DE\", \"shares\": 1771000.0, \"weight\": 0.0041427999999999994, \"market_value\": 1746429.38}, {\"equity_symbol\": \"AAPL\", \"etf_symbol\": \"ERND.L\", \"shares\": 1760000.0, \"weight\": 0.0011877, \"market_value\": 1746313.87}, {\"equity_symbol\": \"AAPL\", \"etf_symbol\": \"ERNA.L\", \"shares\": 0.0, \"weight\": 0.0011959, \"market_value\": 1746165.33}, {\"equity_symbol\": \"AAPL\", \"etf_symbol\": \"IS3L.DE\", \"shares\": 1760000.0, \"weight\": 0.001216, \"market_value\": 1742576.28}, {\"equity_symbol\": \"AAPL\", \"etf_symbol\": \"FDTX\", \"shares\": 9490.0, \"weight\": 0.0118, \"market_value\": 1737144.5}, {\"equity_symbol\": \"AAPL\", \"etf_symbol\": \"IBCS.DE\", \"shares\": 1846000.0, \"weight\": 0.0006753000000000001, \"market_value\": 1714642.31}, {\"equity_symbol\": \"AAPL\", \"etf_symbol\": \"SUOP.L\", \"shares\": 0.0, \"weight\": 0.0006705999999999999, \"market_value\": 1658710.06}, {\"equity_symbol\": \"AAPL\", \"etf_symbol\": \"QDYN\", \"shares\": 8459.0, \"weight\": 0.096849, \"market_value\": 1640792.23}, {\"equity_symbol\": \"AAPL\", \"etf_symbol\": \"MVOL.L\", \"shares\": 8908.0, \"weight\": 0.0006166, \"market_value\": 1627847.92}, {\"equity_symbol\": \"AAPL\", \"etf_symbol\": \"WMVG.L\", \"shares\": 0.0, \"weight\": 0.0006143, \"market_value\": 1624819.2}, {\"equity_symbol\": \"AAPL\", \"etf_symbol\": \"UEEH.DE\", \"shares\": 0.0, \"weight\": 0.0006143, \"market_value\": 1624819.2}, {\"equity_symbol\": \"AAPL\", \"etf_symbol\": \"SXR0.DE\", \"shares\": 0.0, \"weight\": 0.0006143, \"market_value\": 1624819.2}, {\"equity_symbol\": \"AAPL\", \"etf_symbol\": \"MTAV.AS\", \"shares\": 8758.0, \"weight\": 0.0181037, \"market_value\": 1600436.92}, {\"equity_symbol\": \"AAPL\", \"etf_symbol\": \"RECS\", \"shares\": 12462.0, \"weight\": 0.0758, \"market_value\": 1600312.91}, {\"equity_symbol\": \"AAPL\", \"etf_symbol\": \"MTAV.L\", \"shares\": 0.0, \"weight\": 0.0177125, \"market_value\": 1597459.2}, {\"equity_symbol\": \"AAPL\", \"etf_symbol\": \"BMVP\", \"shares\": 8573.0, \"weight\": 0.01738, \"market_value\": 1578460.76}, {\"equity_symbol\": \"AAPL\", \"etf_symbol\": \"JPUS\", \"shares\": 8399.0, \"weight\": 0.0034999999999999996, \"market_value\": 1537436.95}, {\"equity_symbol\": \"AAPL\", \"etf_symbol\": \"JUSA\", \"shares\": 8029.0, \"weight\": 0.053899999999999997, \"market_value\": 1523101.3}, {\"equity_symbol\": \"AAPL\", \"etf_symbol\": \"IQQ0.DE\", \"shares\": 8867.0, \"weight\": 0.0005784000000000001, \"market_value\": 1501183.1}, {\"equity_symbol\": \"AAPL\", \"etf_symbol\": \"MVEA.L\", \"shares\": 7934.0, \"weight\": 0.0046302, \"market_value\": 1449859.16}, {\"equity_symbol\": \"AAPL\", \"etf_symbol\": \"MVEA.DE\", \"shares\": 7934.0, \"weight\": 0.0046302, \"market_value\": 1449859.16}, {\"equity_symbol\": \"AAPL\", \"etf_symbol\": \"PLAY.AS\", \"shares\": 7926.0, \"weight\": 0.0386911, \"market_value\": 1448397.24}, {\"equity_symbol\": \"AAPL\", \"etf_symbol\": \"GSEW\", \"shares\": 7833.0, \"weight\": null, \"market_value\": 1445736.81}, {\"equity_symbol\": \"AAPL\", \"etf_symbol\": \"PLAY.L\", \"shares\": 0.0, \"weight\": 0.038412, \"market_value\": 1445702.4}, {\"equity_symbol\": \"AAPL\", \"etf_symbol\": \"IB25.DE\", \"shares\": 0.0, \"weight\": 0.0046509, \"market_value\": 1423391.51}, {\"equity_symbol\": \"AAPL\", \"etf_symbol\": \"IB25.MI\", \"shares\": 1450000.0, \"weight\": 0.0046500000000000005, \"market_value\": 1423079.22}, {\"equity_symbol\": \"AAPL\", \"etf_symbol\": \"SPXV\", \"shares\": 7718.0, \"weight\": 0.06911147878774515, \"market_value\": 1410387.32}, {\"equity_symbol\": \"AAPL\", \"etf_symbol\": \"SUSU.L\", \"shares\": 1386000.0, \"weight\": 0.0012267, \"market_value\": 1380597.85}, {\"equity_symbol\": \"AAPL\", \"etf_symbol\": \"IU0E.DE\", \"shares\": 0.0, \"weight\": 0.0012104, \"market_value\": 1380580.74}, {\"equity_symbol\": \"AAPL\", \"etf_symbol\": \"FMET\", \"shares\": 7536.0, \"weight\": 0.0455, \"market_value\": 1379464.8}, {\"equity_symbol\": \"AAPL\", \"etf_symbol\": \"CFA\", \"shares\": 7298.0, \"weight\": 0.0025808177, \"market_value\": 1331155.2}, {\"equity_symbol\": \"AAPL\", \"etf_symbol\": \"CEBH.DE\", \"shares\": 1350000.0, \"weight\": 0.0046642, \"market_value\": 1323586.8}, {\"equity_symbol\": \"AAPL\", \"etf_symbol\": \"SYG\", \"shares\": 11581.0, \"weight\": 0.0922, \"market_value\": 1278141.86}, {\"equity_symbol\": \"AAPL\", \"etf_symbol\": \"D26G.L\", \"shares\": 0.0, \"weight\": 0.0050003, \"market_value\": 1273321.9}, {\"equity_symbol\": \"AAPL\", \"etf_symbol\": \"IQQQ\", \"shares\": 6894.0, \"weight\": 0.032093897706788936, \"market_value\": 1259809.56}, {\"equity_symbol\": \"AAPL\", \"etf_symbol\": \"CBU8.DE\", \"shares\": 1343000.0, \"weight\": 0.0050124, \"market_value\": 1244335.79}, {\"equity_symbol\": \"AAPL\", \"etf_symbol\": \"IWLG\", \"shares\": 7140.0, \"weight\": 0.0429, \"market_value\": 1224367.2}, {\"equity_symbol\": \"AAPL\", \"etf_symbol\": \"IBCX.L\", \"shares\": 1465000.0, \"weight\": 0.0004818, \"market_value\": 1221218.74}, {\"equity_symbol\": \"AAPL\", \"etf_symbol\": \"DGT\", \"shares\": 6558.0, \"weight\": 0.0059663699999999995, \"market_value\": 1200441.9000000001}, {\"equity_symbol\": \"AAPL\", \"etf_symbol\": \"EUSA\", \"shares\": 6437.0, \"weight\": 0.0016045999999999999, \"market_value\": 1176297.38}, {\"equity_symbol\": \"AAPL\", \"etf_symbol\": \"NSPI\", \"shares\": 6261.0, \"weight\": 0.0668, \"market_value\": 1175064.48}, {\"equity_symbol\": \"AAPL\", \"etf_symbol\": \"ID26.L\", \"shares\": 0.0, \"weight\": 0.0046065, \"market_value\": 1173037.45}, {\"equity_symbol\": \"AAPL\", \"etf_symbol\": \"D26A.L\", \"shares\": 0.0, \"weight\": 0.0046065, \"market_value\": 1173037.45}, {\"equity_symbol\": \"AAPL\", \"etf_symbol\": \"CFO\", \"shares\": 6324.0, \"weight\": 0.002579956, \"market_value\": 1153497.6}, {\"equity_symbol\": \"AAPL\", \"etf_symbol\": \"VFMV\", \"shares\": 6691.0, \"weight\": 0.0106, \"market_value\": 1147372.68}, {\"equity_symbol\": \"AAPL\", \"etf_symbol\": \"QRMI\", \"shares\": 6069.0, \"weight\": 0.08460000000000001, \"market_value\": 1118638.08}, {\"equity_symbol\": \"AAPL\", \"etf_symbol\": \"IBE5.MI\", \"shares\": 0.0, \"weight\": 0.0036023, \"market_value\": 1102466.95}, {\"equity_symbol\": \"AAPL\", \"etf_symbol\": \"ID25.L\", \"shares\": 0.0, \"weight\": 0.0048892, \"market_value\": 1089621.48}, {\"equity_symbol\": \"AAPL\", \"etf_symbol\": \"IBE7.MI\", \"shares\": 0.0, \"weight\": 0.0034138000000000003, \"market_value\": 1076298.91}, {\"equity_symbol\": \"AAPL\", \"etf_symbol\": \"IB27.DE\", \"shares\": 0.0, \"weight\": 0.0034138000000000003, \"market_value\": 1076298.91}, {\"equity_symbol\": \"AAPL\", \"etf_symbol\": \"IB27.MI\", \"shares\": 1100000.0, \"weight\": 0.0034136, \"market_value\": 1075560.68}, {\"equity_symbol\": \"AAPL\", \"etf_symbol\": \"CEBD.DE\", \"shares\": 1100000.0, \"weight\": 0.0034733999999999998, \"market_value\": 1071607.75}, {\"equity_symbol\": \"AAPL\", \"etf_symbol\": \"SGSU.L\", \"shares\": 0.0, \"weight\": 0.0009364, \"market_value\": 1068104.11}, {\"equity_symbol\": \"AAPL\", \"etf_symbol\": \"GK\", \"shares\": 5827.0, \"weight\": 0.0518, \"market_value\": 1066632.35}, {\"equity_symbol\": \"AAPL\", \"etf_symbol\": \"MFUS\", \"shares\": 5672.0, \"weight\": 0.0073, \"market_value\": 1034572.8}, {\"equity_symbol\": \"AAPL\", \"etf_symbol\": \"D26A.DE\", \"shares\": 1062000.0, \"weight\": 0.0040008, \"market_value\": 993197.48}, {\"equity_symbol\": \"AAPL\", \"etf_symbol\": \"IBUY\", \"shares\": 5298.0, \"weight\": 0.005600000000000001, \"market_value\": 968156.52}, {\"equity_symbol\": \"AAPL\", \"etf_symbol\": \"CRPU.L\", \"shares\": 0.0, \"weight\": 0.0002516, \"market_value\": 946059.47}, {\"equity_symbol\": \"AAPL\", \"etf_symbol\": \"FTLB\", \"shares\": 5790.0, \"weight\": 0.0645, \"market_value\": 910651.2}, {\"equity_symbol\": \"AAPL\", \"etf_symbol\": \"SNPG\", \"shares\": 4966.0, \"weight\": 0.09408305050000002, \"market_value\": 909026.3}, {\"equity_symbol\": \"AAPL\", \"etf_symbol\": \"CEBF.DE\", \"shares\": 891000.0, \"weight\": 0.0039828, \"market_value\": 885042.29}, {\"equity_symbol\": \"AAPL\", \"etf_symbol\": \"MXDU\", \"shares\": 7530.0, \"weight\": 0.008, \"market_value\": 865275.29}, {\"equity_symbol\": \"AAPL\", \"etf_symbol\": \"SUOU.AS\", \"shares\": 885000.0, \"weight\": 0.0003502, \"market_value\": 864123.56}, {\"equity_symbol\": \"AAPL\", \"etf_symbol\": \"36BA.DE\", \"shares\": 0.0, \"weight\": 0.00034270000000000004, \"market_value\": 847672.59}, {\"equity_symbol\": \"AAPL\", \"etf_symbol\": \"TRPL\", \"shares\": 4573.0, \"weight\": 0.0418, \"market_value\": 835670.02}, {\"equity_symbol\": \"AAPL\", \"etf_symbol\": \"PWS\", \"shares\": 4573.0, \"weight\": 0.0418, \"market_value\": 835670.02}, {\"equity_symbol\": \"AAPL\", \"etf_symbol\": \"XPND\", \"shares\": 4553.0, \"weight\": 0.0458, \"market_value\": 833426.65}, {\"equity_symbol\": \"AAPL\", \"etf_symbol\": \"HIPR\", \"shares\": 5357.0, \"weight\": 0.08869999999999999, \"market_value\": 797068.03}, {\"equity_symbol\": \"AAPL\", \"etf_symbol\": \"SILX\", \"shares\": 4059.0, \"weight\": 0.0042, \"market_value\": 773401.86}, {\"equity_symbol\": \"AAPL\", \"etf_symbol\": \"EUNR.DE\", \"shares\": 821000.0, \"weight\": 0.0007235999999999999, \"market_value\": 763518.49}, {\"equity_symbol\": \"AAPL\", \"etf_symbol\": \"36BE.DE\", \"shares\": 815000.0, \"weight\": 0.00031350000000000003, \"market_value\": 763413.56}, {\"equity_symbol\": \"AAPL\", \"etf_symbol\": \"NDJI\", \"shares\": 4030.0, \"weight\": 0.032400000000000005, \"market_value\": 756350.4}, {\"equity_symbol\": \"AAPL\", \"etf_symbol\": \"LEAD\", \"shares\": 4004.0, \"weight\": 0.0128, \"market_value\": 731690.96}, {\"equity_symbol\": \"AAPL\", \"etf_symbol\": \"SUOA.AS\", \"shares\": 0.0, \"weight\": 0.00029, \"market_value\": 717376.08}, {\"equity_symbol\": \"AAPL\", \"etf_symbol\": \"ETHO\", \"shares\": 3781.0, \"weight\": 0.0038, \"market_value\": 690939.94}, {\"equity_symbol\": \"AAPL\", \"etf_symbol\": \"IEXA.DE\", \"shares\": 0.0, \"weight\": 0.0006707000000000001, \"market_value\": 689041.84}, {\"equity_symbol\": \"AAPL\", \"etf_symbol\": \"GURU\", \"shares\": 3720.0, \"weight\": 0.0163, \"market_value\": 685670.4}, {\"equity_symbol\": \"AAPL\", \"etf_symbol\": \"SLT\", \"shares\": 3692.0, \"weight\": 0.010700000000000001, \"market_value\": 674676.08}, {\"equity_symbol\": \"AAPL\", \"etf_symbol\": \"PEXL\", \"shares\": 3692.0, \"weight\": 0.010700000000000001, \"market_value\": 674676.08}, {\"equity_symbol\": \"AAPL\", \"etf_symbol\": \"NDVG\", \"shares\": 3912.0, \"weight\": 0.0613, \"market_value\": 670829.76}, {\"equity_symbol\": \"AAPL\", \"etf_symbol\": \"TYLG\", \"shares\": 3616.0, \"weight\": 0.0975, \"market_value\": 666501.12}, {\"equity_symbol\": \"AAPL\", \"etf_symbol\": \"COWG\", \"shares\": 3646.0, \"weight\": 0.0051, \"market_value\": 666270.04}, {\"equity_symbol\": \"AAPL\", \"etf_symbol\": \"EGUS\", \"shares\": 3514.0, \"weight\": 0.10817729999999999, \"market_value\": 642148.36}, {\"equity_symbol\": \"AAPL\", \"etf_symbol\": \"EEXF.L\", \"shares\": 650000.0, \"weight\": 0.0006219, \"market_value\": 637932.07}, {\"equity_symbol\": \"AAPL\", \"etf_symbol\": \"CEBK.DE\", \"shares\": 656000.0, \"weight\": 0.0054109, \"market_value\": 631829.09}, {\"equity_symbol\": \"AAPL\", \"etf_symbol\": \"CHGX\", \"shares\": 5617.0, \"weight\": 0.0103, \"market_value\": 623521.82}, {\"equity_symbol\": \"AAPL\", \"etf_symbol\": \"INCU.L\", \"shares\": 0.0, \"weight\": 0.058222199999999995, \"market_value\": 577478.4}, {\"equity_symbol\": \"AAPL\", \"etf_symbol\": \"INCI.AS\", \"shares\": 0.0, \"weight\": 0.058222199999999995, \"market_value\": 577478.4}, {\"equity_symbol\": \"AAPL\", \"etf_symbol\": \"GPAL\", \"shares\": 3088.0, \"weight\": null, \"market_value\": 550868.32}, {\"equity_symbol\": \"AAPL\", \"etf_symbol\": \"DEUS\", \"shares\": 2968.0, \"weight\": 0.003505625, \"market_value\": 543292.4}, {\"equity_symbol\": \"AAPL\", \"etf_symbol\": \"INCU.DE\", \"shares\": 3166.0, \"weight\": 0.0549957, \"market_value\": 536003.8}, {\"equity_symbol\": \"AAPL\", \"etf_symbol\": \"WVOL.AX\", \"shares\": 1902.0, \"weight\": 0.0045309, \"market_value\": 531333.65}, {\"equity_symbol\": \"AAPL\", \"etf_symbol\": \"IQM\", \"shares\": 5020.0, \"weight\": 0.0579, \"market_value\": 517218.06}, {\"equity_symbol\": \"AAPL\", \"etf_symbol\": \"EUNA\", \"shares\": 0.0, \"weight\": 5.65e-05, \"market_value\": 516506.77}, {\"equity_symbol\": \"AAPL\", \"etf_symbol\": \"SURE\", \"shares\": 2821.0, \"weight\": 0.010700000000000001, \"market_value\": 516384.05}, {\"equity_symbol\": \"AAPL\", \"etf_symbol\": \"NLACX\", \"shares\": 3484.0, \"weight\": 0.0652, \"market_value\": 513576.44}, {\"equity_symbol\": \"AAPL\", \"etf_symbol\": \"ERNU.L\", \"shares\": 500000.0, \"weight\": 0.0004, \"market_value\": 501484.75}, {\"equity_symbol\": \"AAPL\", \"etf_symbol\": \"CORP.L\", \"shares\": 0.0, \"weight\": 0.00013209999999999999, \"market_value\": 496523.2}, {\"equity_symbol\": \"AAPL\", \"etf_symbol\": \"EUNU\", \"shares\": 500000.0, \"weight\": 5.64e-05, \"market_value\": 494878.61}, {\"equity_symbol\": \"AAPL\", \"etf_symbol\": \"PLRG\", \"shares\": 2618.0, \"weight\": 0.072797021364, \"market_value\": 470716.4}, {\"equity_symbol\": \"AAPL\", \"etf_symbol\": \"ALFA\", \"shares\": 6262.0, \"weight\": 0.026600000000000002, \"market_value\": 457640.06}, {\"equity_symbol\": \"AAPL\", \"etf_symbol\": \"HART\", \"shares\": 2473.0, \"weight\": 0.05, \"market_value\": 451916.02}, {\"equity_symbol\": \"AAPL\", \"etf_symbol\": \"LRND\", \"shares\": 2420.0, \"weight\": 0.0636, \"market_value\": 442230.8}, {\"equity_symbol\": \"AAPL\", \"etf_symbol\": \"EQAL\", \"shares\": 2413.0, \"weight\": 0.00074, \"market_value\": 441699.65}, {\"equity_symbol\": \"AAPL\", \"etf_symbol\": \"WINC.L\", \"shares\": 0.0, \"weight\": 0.040556299999999997, \"market_value\": 441590.4}, {\"equity_symbol\": \"AAPL\", \"etf_symbol\": \"WINA.AS\", \"shares\": 0.0, \"weight\": 0.040556299999999997, \"market_value\": 441590.4}, {\"equity_symbol\": \"AAPL\", \"etf_symbol\": \"CRPA.L\", \"shares\": 0.0, \"weight\": 0.000114, \"market_value\": 428567.43}, {\"equity_symbol\": \"AAPL\", \"etf_symbol\": \"IVLC\", \"shares\": 3249.0, \"weight\": 0.0677, \"market_value\": 421307.57}, {\"equity_symbol\": \"AAPL\", \"etf_symbol\": \"FCTR\", \"shares\": 2282.0, \"weight\": 0.005699999999999999, \"market_value\": 417720.1}, {\"equity_symbol\": \"AAPL\", \"etf_symbol\": \"AGGG.L\", \"shares\": 400000.0, \"weight\": 4.38e-05, \"market_value\": 398395.88}, {\"equity_symbol\": \"AAPL\", \"etf_symbol\": \"WINC.DE\", \"shares\": 2382.0, \"weight\": 0.041550500000000004, \"market_value\": 397889.28}, {\"equity_symbol\": \"AAPL\", \"etf_symbol\": \"CRHG.L\", \"shares\": 0.0, \"weight\": 0.00010460000000000001, \"market_value\": 393149.85}, {\"equity_symbol\": \"AAPL\", \"etf_symbol\": \"36B7.DE\", \"shares\": 0.0, \"weight\": 0.00010460000000000001, \"market_value\": 393149.85}, {\"equity_symbol\": \"AAPL\", \"etf_symbol\": \"SROI\", \"shares\": 2145.0, \"weight\": 0.034611904400000004, \"market_value\": 391248}, {\"equity_symbol\": \"AAPL\", \"etf_symbol\": \"GDEF\", \"shares\": 2107.0, \"weight\": null, \"market_value\": 388888.99}, {\"equity_symbol\": \"AAPL\", \"etf_symbol\": \"IS0Y.DE\", \"shares\": 400000.0, \"weight\": 0.001574, \"market_value\": 386755.01}, {\"equity_symbol\": \"AAPL\", \"etf_symbol\": \"GIGB\", \"shares\": 594000.0, \"weight\": 0.0005, \"market_value\": 384886.96}, {\"equity_symbol\": \"AAPL\", \"etf_symbol\": \"VALT\", \"shares\": 2152.0, \"weight\": 0.0087, \"market_value\": 384368.72}, {\"equity_symbol\": \"AAPL\", \"etf_symbol\": \"JCPB\", \"shares\": 429000.0, \"weight\": 0.0001, \"market_value\": 380758.41}, {\"equity_symbol\": \"AAPL\", \"etf_symbol\": \"IUAA.L\", \"shares\": 0.0, \"weight\": 7.81e-05, \"market_value\": 371288.91}, {\"equity_symbol\": \"AAPL\", \"etf_symbol\": \"SIZE\", \"shares\": 2003.0, \"weight\": 0.0011559, \"market_value\": 366028.22}, {\"equity_symbol\": \"AAPL\", \"etf_symbol\": \"SKOR\", \"shares\": 404000.0, \"weight\": 0.0009379999999999999, \"market_value\": 352531.77}, {\"equity_symbol\": \"AAPL\", \"etf_symbol\": \"IWFG\", \"shares\": 2042.0, \"weight\": 0.038, \"market_value\": 350162.16}, {\"equity_symbol\": \"AAPL\", \"etf_symbol\": \"XRLV\", \"shares\": 1904.0, \"weight\": 0.008369999999999999, \"market_value\": 348527.2}, {\"equity_symbol\": \"AAPL\", \"etf_symbol\": \"EUES.MI\", \"shares\": 0.0, \"weight\": 0.0008271000000000001, \"market_value\": 343439.98}, {\"equity_symbol\": \"AAPL\", \"etf_symbol\": \"ERNX.DE\", \"shares\": 0.0, \"weight\": 0.0001047, \"market_value\": 343439.98}, {\"equity_symbol\": \"AAPL\", \"etf_symbol\": \"EUED.DE\", \"shares\": 350000.0, \"weight\": 0.0008169, \"market_value\": 343380.94}, {\"equity_symbol\": \"AAPL\", \"etf_symbol\": \"ERNE.L\", \"shares\": 350000.0, \"weight\": 0.0001047, \"market_value\": 343380.94}, {\"equity_symbol\": \"AAPL\", \"etf_symbol\": \"ONEO\", \"shares\": 1866.0, \"weight\": 0.00231596, \"market_value\": 341571.30000000005}, {\"equity_symbol\": \"AAPL\", \"etf_symbol\": \"SUBZ\", \"shares\": 2243.0, \"weight\": 0.015, \"market_value\": 336494.86}, {\"equity_symbol\": \"AAPL\", \"etf_symbol\": \"IPAB.DE\", \"shares\": 0.0, \"weight\": 0.0002147, \"market_value\": 327243.23}, {\"equity_symbol\": \"AAPL\", \"etf_symbol\": \"ID27.L\", \"shares\": 0.0, \"weight\": 0.0023868, \"market_value\": 321508.94}, {\"equity_symbol\": \"AAPL\", \"etf_symbol\": \"RBUS\", \"shares\": 2568.0, \"weight\": 0.0027, \"market_value\": 313772.63}, {\"equity_symbol\": \"AAPL\", \"etf_symbol\": \"JCTR\", \"shares\": 1714.0, \"weight\": 0.059500000000000004, \"market_value\": 313747.7}, {\"equity_symbol\": \"AAPL\", \"etf_symbol\": \"NWLG\", \"shares\": 1807.0, \"weight\": 0.042, \"market_value\": 309864.36}, {\"equity_symbol\": \"AAPL\", \"etf_symbol\": \"BTHM\", \"shares\": 1642.0, \"weight\": 0.0430816, \"market_value\": 300059.08}, {\"equity_symbol\": \"AAPL\", \"etf_symbol\": \"SHRY\", \"shares\": 1639.0, \"weight\": 0.0158, \"market_value\": 300018.95}, {\"equity_symbol\": \"AAPL\", \"etf_symbol\": \"DARP\", \"shares\": 1620.0, \"weight\": 0.0226, \"market_value\": 296541}, {\"equity_symbol\": \"AAPL\", \"etf_symbol\": \"EUN4.DE\", \"shares\": 300000.0, \"weight\": 0.0001599, \"market_value\": 294128.81}, {\"equity_symbol\": \"AAPL\", \"etf_symbol\": \"ISXF.L\", \"shares\": 310000.0, \"weight\": 0.0036160999999999997, \"market_value\": 293183.1}, {\"equity_symbol\": \"AAPL\", \"etf_symbol\": \"HQGO\", \"shares\": 1594.0, \"weight\": 0.0509958934, \"market_value\": 291287.56}, {\"equity_symbol\": \"AAPL\", \"etf_symbol\": \"SEAG.L\", \"shares\": 0.0, \"weight\": 0.0001565, \"market_value\": 290807.61}, {\"equity_symbol\": \"AAPL\", \"etf_symbol\": \"GAMR\", \"shares\": 1551.0, \"weight\": 0.0075, \"market_value\": 283429.74}, {\"equity_symbol\": \"AAPL\", \"etf_symbol\": \"IRCP.SW\", \"shares\": 300000.0, \"weight\": 0.0011379, \"market_value\": 280268.2}, {\"equity_symbol\": \"AAPL\", \"etf_symbol\": \"IRCP.L\", \"shares\": 300000.0, \"weight\": 0.0011379, \"market_value\": 280268.2}, {\"equity_symbol\": \"AAPL\", \"etf_symbol\": \"AGGD.AS\", \"shares\": 0.0, \"weight\": 0.0001107, \"market_value\": 277475.47}, {\"equity_symbol\": \"AAPL\", \"etf_symbol\": \"VERS\", \"shares\": 1420.0, \"weight\": 0.04503252001198133, \"market_value\": 259490.8}, {\"equity_symbol\": \"AAPL\", \"etf_symbol\": \"AFLG\", \"shares\": 1366.0, \"weight\": 0.054400000000000004, \"market_value\": 250046.3}, {\"equity_symbol\": \"AAPL\", \"etf_symbol\": \"CBUJ.DE\", \"shares\": 250000.0, \"weight\": 0.00015910000000000002, \"market_value\": 242224.51}, {\"equity_symbol\": \"AAPL\", \"etf_symbol\": \"BLCR\", \"shares\": 1319.0, \"weight\": 0.034504, \"market_value\": 241034.06}, {\"equity_symbol\": \"AAPL\", \"etf_symbol\": \"RNLC\", \"shares\": 1323.0, \"weight\": 0.011699999999999999, \"market_value\": 237690.18}, {\"equity_symbol\": \"AAPL\", \"etf_symbol\": \"IGSD.L\", \"shares\": 250000.0, \"weight\": null, \"market_value\": 235694.74}, {\"equity_symbol\": \"AAPL\", \"etf_symbol\": \"QYLE\", \"shares\": 1277.0, \"weight\": 0.09970000000000001, \"market_value\": 235376.64}, {\"equity_symbol\": \"AAPL\", \"etf_symbol\": \"SSXF.L\", \"shares\": 250000.0, \"weight\": 0.0021, \"market_value\": 222731.93}, {\"equity_symbol\": \"AAPL\", \"etf_symbol\": \"IUGA.L\", \"shares\": 0.0, \"weight\": 4.54e-05, \"market_value\": 215610.4}, {\"equity_symbol\": \"AAPL\", \"etf_symbol\": \"WRND\", \"shares\": 1164.0, \"weight\": 0.0331, \"market_value\": 212709.36}, {\"equity_symbol\": \"AAPL\", \"etf_symbol\": \"IVRS\", \"shares\": 1155.0, \"weight\": 0.0327451, \"market_value\": 211064.7}, {\"equity_symbol\": \"AAPL\", \"etf_symbol\": \"JBND\", \"shares\": 260000.0, \"weight\": 0.0008, \"market_value\": 209205.22}, {\"equity_symbol\": \"AAPL\", \"etf_symbol\": \"AGBP.L\", \"shares\": 0.0, \"weight\": 2.29e-05, \"market_value\": 208954.96}, {\"equity_symbol\": \"AAPL\", \"etf_symbol\": \"AUSF\", \"shares\": 1132.0, \"weight\": 0.0008, \"market_value\": 208650.24}, {\"equity_symbol\": \"AAPL\", \"etf_symbol\": \"EUNX.DE\", \"shares\": 345000.0, \"weight\": 4.34e-05, \"market_value\": 203486.43}, {\"equity_symbol\": \"AAPL\", \"etf_symbol\": \"QTR\", \"shares\": 1085.0, \"weight\": 0.0801, \"market_value\": 199987.2}, {\"equity_symbol\": \"AAPL\", \"etf_symbol\": \"IUME.AS\", \"shares\": 1094.0, \"weight\": 0.043812699999999996, \"market_value\": 199917.56}, {\"equity_symbol\": \"AAPL\", \"etf_symbol\": \"AGGU.L\", \"shares\": 0.0, \"weight\": 2.18e-05, \"market_value\": 199369.78}, {\"equity_symbol\": \"AAPL\", \"etf_symbol\": \"XTR\", \"shares\": 1077.0, \"weight\": 0.0611, \"market_value\": 198512.64}, {\"equity_symbol\": \"AAPL\", \"etf_symbol\": \"AGGE.AS\", \"shares\": 200000.0, \"weight\": 7.77e-05, \"market_value\": 194127.87}, {\"equity_symbol\": \"AAPL\", \"etf_symbol\": \"AGUG.AS\", \"shares\": 0.0, \"weight\": 2e-05, \"market_value\": 182682.22}, {\"equity_symbol\": \"AAPL\", \"etf_symbol\": \"VCAR\", \"shares\": 997.0, \"weight\": 0.03687588, \"market_value\": 182500.85}, {\"equity_symbol\": \"AAPL\", \"etf_symbol\": \"FLQG\", \"shares\": 1232.0, \"weight\": 0.0106, \"market_value\": 175603.04}, {\"equity_symbol\": \"AAPL\", \"etf_symbol\": \"INRO\", \"shares\": 954.0, \"weight\": 0.032258800000000004, \"market_value\": 174333.96}, {\"equity_symbol\": \"AAPL\", \"etf_symbol\": \"CCON\", \"shares\": 1157.0, \"weight\": 0.0262, \"market_value\": 172150.03}, {\"equity_symbol\": \"AAPL\", \"etf_symbol\": \"CEBX.DE\", \"shares\": 0.0, \"weight\": 3.5799999999999996e-05, \"market_value\": 170201.28}, {\"equity_symbol\": \"AAPL\", \"etf_symbol\": \"IS0X.DE\", \"shares\": 178000.0, \"weight\": 4.5199999999999994e-05, \"market_value\": 169504.01}, {\"equity_symbol\": \"AAPL\", \"etf_symbol\": \"AEGE.DE\", \"shares\": 0.0, \"weight\": 6.74e-05, \"market_value\": 169079.89}, {\"equity_symbol\": \"AAPL\", \"etf_symbol\": \"CBU2.DE\", \"shares\": 0.0, \"weight\": 9.010000000000001e-05, \"market_value\": 167423.87}, {\"equity_symbol\": \"AAPL\", \"etf_symbol\": \"HAPY\", \"shares\": 908.0, \"weight\": 0.000132870842, \"market_value\": 165927.92}, {\"equity_symbol\": \"AAPL\", \"etf_symbol\": \"NZUS\", \"shares\": 874.0, \"weight\": 0.06970143000000001, \"market_value\": 159985.7}, {\"equity_symbol\": \"AAPL\", \"etf_symbol\": \"CLNR\", \"shares\": 831.0, \"weight\": 0.028900000000000002, \"market_value\": 151856.94}, {\"equity_symbol\": \"AAPL\", \"etf_symbol\": \"IUAE.L\", \"shares\": 0.0, \"weight\": 3.0500000000000003e-05, \"market_value\": 145209.54}, {\"equity_symbol\": \"AAPL\", \"etf_symbol\": \"BBAG\", \"shares\": 162000.0, \"weight\": 0.0001, \"market_value\": 142385.89}, {\"equity_symbol\": \"AAPL\", \"etf_symbol\": \"ANEW\", \"shares\": 762.0, \"weight\": 0.017074751888122314, \"market_value\": 139247.88}, {\"equity_symbol\": \"AAPL\", \"etf_symbol\": \"ICBU.L\", \"shares\": 145000.0, \"weight\": 0.0006113, \"market_value\": 138315.31}, {\"equity_symbol\": \"AAPL\", \"etf_symbol\": \"QCLR\", \"shares\": 734.0, \"weight\": 0.0801, \"market_value\": 135290.88}, {\"equity_symbol\": \"AAPL\", \"etf_symbol\": \"SUAG.L\", \"shares\": 160000.0, \"weight\": 2.69e-05, \"market_value\": 127690.43}, {\"equity_symbol\": \"AAPL\", \"etf_symbol\": \"XCLR\", \"shares\": 682.0, \"weight\": 0.060899999999999996, \"market_value\": 125706.24}, {\"equity_symbol\": \"AAPL\", \"etf_symbol\": \"CTRU\", \"shares\": 817.0, \"weight\": 0.0105, \"market_value\": 124960.15}, {\"equity_symbol\": \"AAPL\", \"etf_symbol\": \"SWAGX\", \"shares\": 0.0, \"weight\": 2.6752891e-05, \"market_value\": 123765.68}, {\"equity_symbol\": \"AAPL\", \"etf_symbol\": \"IEDI\", \"shares\": 643.0, \"weight\": 0.0049499, \"market_value\": 117501.82}, {\"equity_symbol\": \"AAPL\", \"etf_symbol\": \"XYLE\", \"shares\": 615.0, \"weight\": 0.0877, \"market_value\": 113356.8}, {\"equity_symbol\": \"AAPL\", \"etf_symbol\": \"ARVR\", \"shares\": 600.0, \"weight\": 0.031200000000000002, \"market_value\": 109830}, {\"equity_symbol\": \"AAPL\", \"etf_symbol\": \"FDWM\", \"shares\": 0.0, \"weight\": 0.0222, \"market_value\": 109083}, {\"equity_symbol\": \"AAPL\", \"etf_symbol\": \"GCOR\", \"shares\": 114000.0, \"weight\": 0.0003, \"market_value\": 108820.21}, {\"equity_symbol\": \"AAPL\", \"etf_symbol\": \"SNAV.DE\", \"shares\": 105000.0, \"weight\": 0.0001, \"market_value\": 105312.13}, {\"equity_symbol\": \"AAPL\", \"etf_symbol\": \"SPMV\", \"shares\": 552.0, \"weight\": 0.01969, \"market_value\": 101043.6}, {\"equity_symbol\": \"AAPL\", \"etf_symbol\": \"ERN1.L\", \"shares\": 100000.0, \"weight\": null, \"market_value\": 99892.61}, {\"equity_symbol\": \"AAPL\", \"etf_symbol\": \"IAF.AX\", \"shares\": 100000.0, \"weight\": 4.32e-05, \"market_value\": 99405.5}, {\"equity_symbol\": \"AAPL\", \"etf_symbol\": \"IBCQ.DE\", \"shares\": 100000.0, \"weight\": 7.91e-05, \"market_value\": 97418.89}, {\"equity_symbol\": \"AAPL\", \"etf_symbol\": \"CRPH.SW\", \"shares\": 100000.0, \"weight\": 7.79e-05, \"market_value\": 96889.8}, {\"equity_symbol\": \"AAPL\", \"etf_symbol\": \"RND\", \"shares\": 476.0, \"weight\": 0.0848, \"market_value\": 87131.8}, {\"equity_symbol\": \"AAPL\", \"etf_symbol\": \"HLGE\", \"shares\": 476.0, \"weight\": 0.0084898685, \"market_value\": 86984.24}, {\"equity_symbol\": \"AAPL\", \"etf_symbol\": \"DFND\", \"shares\": 461.0, \"weight\": 0.008199999999999999, \"market_value\": 84243.14}, {\"equity_symbol\": \"AAPL\", \"etf_symbol\": \"VCLO\", \"shares\": 500.0, \"weight\": 0.0227762814981066, \"market_value\": 83815}, {\"equity_symbol\": \"AAPL\", \"etf_symbol\": \"FEIG\", \"shares\": 84000.0, \"weight\": 0.002048, \"market_value\": 81556.69}, {\"equity_symbol\": \"AAPL\", \"etf_symbol\": \"SXRF.DE\", \"shares\": 75000.0, \"weight\": 0.0003325, \"market_value\": 74498.51}, {\"equity_symbol\": \"AAPL\", \"etf_symbol\": \"IS3F.DE\", \"shares\": 94000.0, \"weight\": 0.0005063, \"market_value\": 71906.56}, {\"equity_symbol\": \"AAPL\", \"etf_symbol\": \"CPI\", \"shares\": 345.0, \"weight\": 0.0174, \"market_value\": 66647.1}, {\"equity_symbol\": \"AAPL\", \"etf_symbol\": \"AEGG.L\", \"shares\": 0.0, \"weight\": 2.6e-05, \"market_value\": 65070.77}, {\"equity_symbol\": \"AAPL\", \"etf_symbol\": \"LKOR\", \"shares\": 100000.0, \"weight\": 0.002007, \"market_value\": 62765.35}, {\"equity_symbol\": \"AAPL\", \"etf_symbol\": \"LQDH.SW\", \"shares\": 78000.0, \"weight\": 0.0003867, \"market_value\": 62166.07}, {\"equity_symbol\": \"AAPL\", \"etf_symbol\": \"GENY\", \"shares\": 305.0, \"weight\": 0.004567815985, \"market_value\": 54839}, {\"equity_symbol\": \"AAPL\", \"etf_symbol\": \"ESMV\", \"shares\": 298.0, \"weight\": 0.0046340999999999995, \"market_value\": 54456.52}, {\"equity_symbol\": \"AAPL\", \"etf_symbol\": \"RSPE\", \"shares\": 281.0, \"weight\": 0.0058, \"market_value\": 51437.05}, {\"equity_symbol\": \"AAPL\", \"etf_symbol\": \"CRPS.L\", \"shares\": 50000.0, \"weight\": null, \"market_value\": 45774.6}, {\"equity_symbol\": \"AAPL\", \"etf_symbol\": \"HLQD.L\", \"shares\": 0.0, \"weight\": 0.0002678, \"market_value\": 43207.96}, {\"equity_symbol\": \"AAPL\", \"etf_symbol\": \"IVSG\", \"shares\": 414.0, \"weight\": 0.0426, \"market_value\": 41626.4}, {\"equity_symbol\": \"AAPL\", \"etf_symbol\": \"GRZZ\", \"shares\": 195.0, \"weight\": 0.0279, \"market_value\": 34559.85}, {\"equity_symbol\": \"AAPL\", \"etf_symbol\": \"GSIG\", \"shares\": 32000.0, \"weight\": 0.0033, \"market_value\": 31054.41}, {\"equity_symbol\": \"AAPL\", \"etf_symbol\": \"MVPS\", \"shares\": 159.0, \"weight\": 0.0113, \"market_value\": 29055.66}, {\"equity_symbol\": \"AAPL\", \"etf_symbol\": \"VFIN\", \"shares\": 94.0, \"weight\": 0.013500000000000002, \"market_value\": 12366.64}, {\"equity_symbol\": \"AAPL\", \"etf_symbol\": \"UEDD.AS\", \"shares\": 10000.0, \"weight\": 0.0005851, \"market_value\": 9855.97}, {\"equity_symbol\": \"AAPL\", \"etf_symbol\": \"TENG\", \"shares\": 47.0, \"weight\": 0.00482675, \"market_value\": 7178.78}, {\"equity_symbol\": \"AAPL\", \"etf_symbol\": \"BBSA\", \"shares\": 6000.0, \"weight\": 0.0004, \"market_value\": 5270.96}, {\"equity_symbol\": \"AAPL\", \"etf_symbol\": \"BBCB\", \"shares\": 5000.0, \"weight\": 0.0001, \"market_value\": 4392.46}, {\"equity_symbol\": \"AAPL\", \"etf_symbol\": \"VPOP\", \"shares\": 33.0, \"weight\": 0.0105, \"market_value\": 4341.48}, {\"equity_symbol\": \"AAPL\", \"etf_symbol\": \"ZECP\", \"shares\": 5482.0, \"weight\": 0.058600000000000006, \"market_value\": 0}, {\"equity_symbol\": \"AAPL\", \"etf_symbol\": \"XSUS.TO\", \"shares\": 0.0, \"weight\": 0.0570396, \"market_value\": 0}, {\"equity_symbol\": \"AAPL\", \"etf_symbol\": \"XQQ.TO\", \"shares\": 0.0, \"weight\": 0.0795985, \"market_value\": 0}, {\"equity_symbol\": \"AAPL\", \"etf_symbol\": \"XMU.TO\", \"shares\": 0.0, \"weight\": 0.0088099, \"market_value\": 0}, {\"equity_symbol\": \"AAPL\", \"etf_symbol\": \"TRFM\", \"shares\": 320.0, \"weight\": 0.020099999999999996, \"market_value\": 0}, {\"equity_symbol\": \"AAPL\", \"etf_symbol\": \"TMFC\", \"shares\": 423629.0, \"weight\": 0.1392, \"market_value\": 0}, {\"equity_symbol\": \"AAPL\", \"etf_symbol\": \"SIXH\", \"shares\": 47930.0, \"weight\": 0.025, \"market_value\": 0}, {\"equity_symbol\": \"AAPL\", \"etf_symbol\": \"SELV\", \"shares\": 1788.0, \"weight\": 0.0334, \"market_value\": 0}, {\"equity_symbol\": \"AAPL\", \"etf_symbol\": \"SEIQ\", \"shares\": 2740.0, \"weight\": 0.060599999999999994, \"market_value\": 0}, {\"equity_symbol\": \"AAPL\", \"etf_symbol\": \"SEIM\", \"shares\": 6280.0, \"weight\": 0.0697, \"market_value\": 0}, {\"equity_symbol\": \"AAPL\", \"etf_symbol\": \"RVRS\", \"shares\": 2.0, \"weight\": null, \"market_value\": 0}, {\"equity_symbol\": \"AAPL\", \"etf_symbol\": \"ROCI\", \"shares\": 0.0, \"weight\": 0.0661, \"market_value\": 0}, {\"equity_symbol\": \"AAPL\", \"etf_symbol\": \"RAFE\", \"shares\": 10591.0, \"weight\": 0.051100000000000007, \"market_value\": 0}, {\"equity_symbol\": \"AAPL\", \"etf_symbol\": \"MPAY\", \"shares\": 40.0, \"weight\": 0.026099999999999998, \"market_value\": 0}, {\"equity_symbol\": \"AAPL\", \"etf_symbol\": \"MBCC\", \"shares\": 7626.0, \"weight\": 0.0415, \"market_value\": 0}, {\"equity_symbol\": \"AAPL\", \"etf_symbol\": \"LVOL\", \"shares\": 2454.0, \"weight\": 0.048, \"market_value\": 0}, {\"equity_symbol\": \"AAPL\", \"etf_symbol\": \"LGBT\", \"shares\": 882.0, \"weight\": 0.0321, \"market_value\": 0}, {\"equity_symbol\": \"AAPL\", \"etf_symbol\": \"KNOW\", \"shares\": 11357.0, \"weight\": null, \"market_value\": 0}, {\"equity_symbol\": \"AAPL\", \"etf_symbol\": \"HFGO\", \"shares\": 0.0, \"weight\": null, \"market_value\": 0}, {\"equity_symbol\": \"AAPL\", \"etf_symbol\": \"GVLU\", \"shares\": 99.0, \"weight\": 0.0012, \"market_value\": 0}, {\"equity_symbol\": \"AAPL\", \"etf_symbol\": \"FXIT.ME\", \"shares\": 0.0, \"weight\": 0.20199999999999999, \"market_value\": 0}, {\"equity_symbol\": \"AAPL\", \"etf_symbol\": \"FXIM.ME\", \"shares\": 0.0, \"weight\": 0.20199999999999999, \"market_value\": 0}, {\"equity_symbol\": \"AAPL\", \"etf_symbol\": \"FNGU\", \"shares\": 0.0, \"weight\": 0.1, \"market_value\": 0}, {\"equity_symbol\": \"AAPL\", \"etf_symbol\": \"FNGS\", \"shares\": 0.0, \"weight\": 0.1, \"market_value\": 0}, {\"equity_symbol\": \"AAPL\", \"etf_symbol\": \"FNGO\", \"shares\": 0.0, \"weight\": 0.1, \"market_value\": 0}, {\"equity_symbol\": \"AAPL\", \"etf_symbol\": \"FNGD\", \"shares\": 0.0, \"weight\": 0.1, \"market_value\": 0}, {\"equity_symbol\": \"AAPL\", \"etf_symbol\": \"EUCG\", \"shares\": 1524.0, \"weight\": 0.0212, \"market_value\": 0}, {\"equity_symbol\": \"AAPL\", \"etf_symbol\": \"CLU.TO\", \"shares\": 0.0, \"weight\": 0.0203238, \"market_value\": 0}, {\"equity_symbol\": \"AAPL\", \"etf_symbol\": \"BULZ\", \"shares\": 0.0, \"weight\": 0.0667, \"market_value\": 0}, {\"equity_symbol\": \"AAPL\", \"etf_symbol\": \"BERZ\", \"shares\": 0.0, \"weight\": 0.0667, \"market_value\": 0}, {\"equity_symbol\": \"AAPL\", \"etf_symbol\": \"VMNFX\", \"shares\": -2537.0, \"weight\": -0.0281, \"market_value\": -488448.61}]'"
      ]
     },
     "execution_count": 119,
     "metadata": {},
     "output_type": "execute_result"
    }
   ],
   "source": [
    "# this might exceed token context making it unreliable\n",
    "tool = BB_agent_tool(\n",
    "    name=\"get_etf_equity_exposure_json\",\n",
    "    description=\"Given a stock symbol, get the exposure of ETFs to the stock in JSON format.\",\n",
    "    openapi_path='/api/v1/etf/equity_exposure',\n",
    "    parameters={\n",
    "        \"symbol\": {\n",
    "            \"type\": \"string\",\n",
    "            \"description\": \"The stock symbol.\"\n",
    "        }\n",
    "        },\n",
    "    example_parameter_values=[{\n",
    "        \"symbol\": \"NVDA\",\n",
    "    }],\n",
    ")\n",
    "\n",
    "tools[tool.name]=tool.make_metadata()\n",
    "\n",
    "tool('AAPL')\n",
    "\n"
   ]
  },
  {
   "cell_type": "code",
   "execution_count": 121,
   "id": "b7783f91-b77b-46e8-8f86-ba02715b7887",
   "metadata": {},
   "outputs": [
    {
     "data": {
      "text/html": [
       "<div>\n",
       "<style scoped>\n",
       "    .dataframe tbody tr th:only-of-type {\n",
       "        vertical-align: middle;\n",
       "    }\n",
       "\n",
       "    .dataframe tbody tr th {\n",
       "        vertical-align: top;\n",
       "    }\n",
       "\n",
       "    .dataframe thead th {\n",
       "        text-align: right;\n",
       "    }\n",
       "</style>\n",
       "<table border=\"1\" class=\"dataframe\">\n",
       "  <thead>\n",
       "    <tr style=\"text-align: right;\">\n",
       "      <th></th>\n",
       "      <th>equity_symbol</th>\n",
       "      <th>etf_symbol</th>\n",
       "      <th>shares</th>\n",
       "      <th>weight</th>\n",
       "      <th>market_value</th>\n",
       "    </tr>\n",
       "  </thead>\n",
       "  <tbody>\n",
       "    <tr>\n",
       "      <th>430</th>\n",
       "      <td>MRK</td>\n",
       "      <td>FTXH</td>\n",
       "      <td>11684.0</td>\n",
       "      <td>0.075700</td>\n",
       "      <td>1.519621e+06</td>\n",
       "    </tr>\n",
       "    <tr>\n",
       "      <th>77</th>\n",
       "      <td>MRK</td>\n",
       "      <td>QDVG.DE</td>\n",
       "      <td>1117567.0</td>\n",
       "      <td>0.064076</td>\n",
       "      <td>1.466248e+08</td>\n",
       "    </tr>\n",
       "    <tr>\n",
       "      <th>78</th>\n",
       "      <td>MRK</td>\n",
       "      <td>IUHE.AS</td>\n",
       "      <td>0.0</td>\n",
       "      <td>0.062564</td>\n",
       "      <td>1.460573e+08</td>\n",
       "    </tr>\n",
       "    <tr>\n",
       "      <th>79</th>\n",
       "      <td>MRK</td>\n",
       "      <td>IUHC.L</td>\n",
       "      <td>1121581.0</td>\n",
       "      <td>0.062374</td>\n",
       "      <td>1.453008e+08</td>\n",
       "    </tr>\n",
       "    <tr>\n",
       "      <th>13</th>\n",
       "      <td>MRK</td>\n",
       "      <td>XLV</td>\n",
       "      <td>18454434.0</td>\n",
       "      <td>0.062123</td>\n",
       "      <td>2.400184e+09</td>\n",
       "    </tr>\n",
       "    <tr>\n",
       "      <th>...</th>\n",
       "      <td>...</td>\n",
       "      <td>...</td>\n",
       "      <td>...</td>\n",
       "      <td>...</td>\n",
       "      <td>...</td>\n",
       "    </tr>\n",
       "    <tr>\n",
       "      <th>557</th>\n",
       "      <td>MRK</td>\n",
       "      <td>GXUS</td>\n",
       "      <td>2163.0</td>\n",
       "      <td>NaN</td>\n",
       "      <td>3.629300e+05</td>\n",
       "    </tr>\n",
       "    <tr>\n",
       "      <th>660</th>\n",
       "      <td>MRK</td>\n",
       "      <td>GPAL</td>\n",
       "      <td>640.0</td>\n",
       "      <td>NaN</td>\n",
       "      <td>6.631040e+04</td>\n",
       "    </tr>\n",
       "    <tr>\n",
       "      <th>671</th>\n",
       "      <td>MRK</td>\n",
       "      <td>GDEF</td>\n",
       "      <td>397.0</td>\n",
       "      <td>NaN</td>\n",
       "      <td>5.170131e+04</td>\n",
       "    </tr>\n",
       "    <tr>\n",
       "      <th>678</th>\n",
       "      <td>MRK</td>\n",
       "      <td>EUNU.DE</td>\n",
       "      <td>50000.0</td>\n",
       "      <td>NaN</td>\n",
       "      <td>3.868500e+04</td>\n",
       "    </tr>\n",
       "    <tr>\n",
       "      <th>693</th>\n",
       "      <td>MRK</td>\n",
       "      <td>GSEU</td>\n",
       "      <td>121.0</td>\n",
       "      <td>NaN</td>\n",
       "      <td>2.030260e+04</td>\n",
       "    </tr>\n",
       "  </tbody>\n",
       "</table>\n",
       "<p>765 rows × 5 columns</p>\n",
       "</div>"
      ],
      "text/plain": [
       "    equity_symbol etf_symbol      shares    weight  market_value\n",
       "430           MRK       FTXH     11684.0  0.075700  1.519621e+06\n",
       "77            MRK    QDVG.DE   1117567.0  0.064076  1.466248e+08\n",
       "78            MRK    IUHE.AS         0.0  0.062564  1.460573e+08\n",
       "79            MRK     IUHC.L   1121581.0  0.062374  1.453008e+08\n",
       "13            MRK        XLV  18454434.0  0.062123  2.400184e+09\n",
       "..            ...        ...         ...       ...           ...\n",
       "557           MRK       GXUS      2163.0       NaN  3.629300e+05\n",
       "660           MRK       GPAL       640.0       NaN  6.631040e+04\n",
       "671           MRK       GDEF       397.0       NaN  5.170131e+04\n",
       "678           MRK    EUNU.DE     50000.0       NaN  3.868500e+04\n",
       "693           MRK       GSEU       121.0       NaN  2.030260e+04\n",
       "\n",
       "[765 rows x 5 columns]"
      ]
     },
     "execution_count": 121,
     "metadata": {},
     "output_type": "execute_result"
    }
   ],
   "source": [
    "pd.DataFrame(json.loads(tool('MRK'))).sort_values('weight', ascending=False)"
   ]
  },
  {
   "cell_type": "code",
   "execution_count": 122,
   "id": "cca28804-8aa2-4829-909f-6fc0592ce44c",
   "metadata": {},
   "outputs": [
    {
     "name": "stdout",
     "output_type": "stream",
     "text": [
      "get_equity_search_symbol({'search_str': 'Merck'}) -> {'symbol': 'MRK', 'name': 'MERCK & CO INC COM', 'dpm_name': 'Wolverine Trading, LLC', 'post_station'...\n",
      "get_etf_equity_exposure_json({'symbol': 'MRK'}) -> [{\"equity_symbol\": \"MRK\", \"etf_symbol\": \"VTSAX\", \"shares\": 79663326.0, \"weight\": 0.0066, \"market_val...\n"
     ]
    },
    {
     "data": {
      "text/markdown": [
       "The ETF with the highest weight in Merck (MRK) is the Health Care Select Sector SPDR Fund (XLV), with a weight of 6.21%. Here are the details:\n",
       "\n",
       "- **ETF Symbol**: XLV\n",
       "- **Weight in Merck (MRK)**: 6.21%\n",
       "- **Market Value of MRK in XLV**: \\\\$2,400,183,686.04\n",
       "\n",
       "This indicates that Merck constitutes 6.21% of the holdings in the XLV ETF."
      ],
      "text/plain": [
       "<IPython.core.display.Markdown object>"
      ]
     },
     "metadata": {},
     "output_type": "display_data"
    }
   ],
   "source": [
    "agent_query(f\"which ETF has the highest weight in {company} ?\", tools=tools, verbose=False)\n"
   ]
  },
  {
   "cell_type": "code",
   "execution_count": 123,
   "id": "89337c45-83cf-4757-bda2-c47654742b2f",
   "metadata": {},
   "outputs": [
    {
     "data": {
      "text/plain": [
       "{'get_10k_item1_from_symbol': {'name': 'get_10k_item1_from_symbol',\n",
       "  'description': \"Given a stock symbol, gets item 1 of the company's latest 10-K annual report filing.\",\n",
       "  'openapi_path': None,\n",
       "  'callable': <function __main__.get_10k_item1_from_symbol(symbol)>,\n",
       "  'parameters': {'symbol': {'type': 'string',\n",
       "    'description': 'The symbol to get the 10-K item 1 for'}},\n",
       "  'example_parameters': [{'symbol': 'MSFT'}],\n",
       "  'tooldict': {'type': 'function',\n",
       "   'function': {'name': 'get_10k_item1_from_symbol',\n",
       "    'description': \"Given a stock symbol, gets item 1 of the company's latest 10-K annual report filing.\",\n",
       "    'parameters': {'type': 'object',\n",
       "     'properties': {'symbol': {'type': 'string',\n",
       "       'description': 'The symbol to get the 10-K item 1 for'}},\n",
       "     'required': ['symbol']}}}},\n",
       " 'get_equity_search_symbol': {'name': 'get_equity_search_symbol',\n",
       "  'description': 'Given a search string, get the stock symbol of the top company whose name best matches the search string.',\n",
       "  'openapi_path': '/api/v1/equity/search',\n",
       "  'callable': <function __main__.get_equity_search_symbol(search_str)>,\n",
       "  'parameters': {'search_str': {'type': 'string',\n",
       "    'description': 'The search string to match to the stock symbol.'}},\n",
       "  'example_parameters': [{'search_str': 'Broadcom'}],\n",
       "  'example_str': 'get_equity_search_symbol(search_str=\"Broadcom\") -> {\\'symbol\\': \\'AVGO\\', \\'name\\': \\'BROADCOM INC COM\\', \\'dpm_name\\': \\'Susquehanna Securities, LLC\\', \\'post_station\\': \\'4/1\\'}',\n",
       "  'tooldict': {'type': 'function',\n",
       "   'function': {'name': 'get_equity_search_symbol',\n",
       "    'description': 'Given a search string, get the stock symbol of the top company whose name best matches the search string.',\n",
       "    'parameters': {'type': 'object',\n",
       "     'properties': {'search_str': {'type': 'string',\n",
       "       'description': 'The search string to match to the stock symbol.'}},\n",
       "     'required': ['search_str']}}}},\n",
       " 'get_quote_json': {'name': 'get_quote_json',\n",
       "  'description': 'Given a stock symbol, get the latest market data quote for the stock in JSON format.',\n",
       "  'openapi_path': '/api/v1/equity/price/quote',\n",
       "  'callable': <__main__.BB_agent_tool at 0x335f30b50>,\n",
       "  'parameters': {'symbol': {'type': 'string',\n",
       "    'description': 'The stock symbol.'}},\n",
       "  'example_parameters': [{'symbol': 'NVDA'}],\n",
       "  'tooldict': {'type': 'function',\n",
       "   'function': {'name': 'get_quote_json',\n",
       "    'description': 'Given a stock symbol, get the latest market data quote for the stock in JSON format.',\n",
       "    'parameters': {'type': 'object',\n",
       "     'properties': {'symbol': {'type': 'string',\n",
       "       'description': 'The stock symbol.'}},\n",
       "     'required': ['symbol']}}},\n",
       "  'example_str': 'get_quote_json(symbol=\"NVDA\") -> id=\\'06642d3e-a8f0-7fcf-8000-252c1a0f7969\\' results=[CboeEquityQuoteData(symbol=NVDA, asset_type=stock, name=NVIDIA CORPORATION COM, exchange=None, bid=902.55, bid_size=1, bid_exchange=None, ask=902.8, ask_size=2, ask_exchange=None, quote_conditions=None, quote_indicators=None, sales_conditions=None, sequence_number=None, market_center=None, participant_timestamp=None, trf_timestamp=None, sip_timestamp=None, last_price=902.58, last_tick=down, last_size=None, last_timestamp=2024-05-13 15:59:59, open=904.83, high=909.98, low=885.29, close=903.99, volume=28968017, exchange_volume=None, prev_close=898.78, change=5.21, change_percent=0.005797, year_high=974.0, year_low=280.4599914550781, iv30=0.56413, iv30_change=None, iv30_change_percent=None, iv30_annual_high=0.6712400054931641, hv30_annual_high=0.7542350006103515, iv30_annual_low=0.3138199996948242, hv30_annual_low=0.26787900924682617, iv60_annual_high=0.5873099899291992, hv60_annual_high=0.6172460174560547, iv60_annual_low=0.338489990234375, hv60_annual_low=0.28717899322509766, iv90_annual_high=0.604729995727539, hv90_annual_high=0.5864540100097656, iv90_annual_low=0.36759998321533205, hv90_annual_low=0.3167770004272461)] provider=\\'cboe\\' warnings=None chart=None extra={\\'metadata\\': Metadata\\n\\narguments: {\\'provider_choices\\': {\\'provider\\': \\'cboe\\'}, \\'standard_params\\': {\\'symbol\\': \\'NVDA\\'}, \\'extra_params\\': {}}\\nduration: 322478083\\nroute: /equity/price/quote\\ntimestamp: 2024-05-13 23:00:58.239707}'},\n",
       " 'get_company_profile_json': {'name': 'get_company_profile_json',\n",
       "  'description': 'Given a stock symbol, get general background data about the company such as company name, industry, and sector data in JSON format',\n",
       "  'openapi_path': '/api/v1/equity/profile',\n",
       "  'callable': <__main__.BB_agent_tool at 0x328964210>,\n",
       "  'parameters': {'symbol': {'type': 'string',\n",
       "    'description': 'The stock symbol.'}},\n",
       "  'example_parameters': [{'symbol': 'NVDA'}],\n",
       "  'tooldict': {'type': 'function',\n",
       "   'function': {'name': 'get_company_profile_json',\n",
       "    'description': 'Given a stock symbol, get general background data about the company such as company name, industry, and sector data in JSON format',\n",
       "    'parameters': {'type': 'object',\n",
       "     'properties': {'symbol': {'type': 'string',\n",
       "       'description': 'The stock symbol.'}},\n",
       "     'required': ['symbol']}}},\n",
       "  'example_str': 'get_company_profile_json(symbol=\"NVDA\") -> id=\\'06642d47-db0b-7f4c-8000-fcbb5ad063a9\\' results=[FinvizEquityProfileData(symbol=NVDA, name=NVIDIA Corp, cik=None, cusip=None, isin=None, lei=None, legal_name=None, stock_exchange=NASD, sic=None, short_description=None, long_description=NVIDIA Corp. engages in the design and manufacture of computer graphics processors, chipsets, and related multimedia software. It operates through the following segments: Graphics Processing Unit (GPU) and Compute & Networking. The Graphics segment includes GeForce GPUs for gaming and PCs, the GeForce NOW game streaming service and related infrastructure, Quadro and NVIDIA RTX GPUs for enterprise workstation graphics, virtual GPU, or vGPU, software for cloud-based visual and virtual computing, automotive platforms for infotainment systems, and Omniverse Enterprise software for building and operating metaverse and 3D internet applications. The Compute & Networking segment consists of Data Center accelerated computing platforms and end-to-end networking platforms including Quantum for InfiniBand and Spectrum for Ethernet, NVIDIA DRIVE automated-driving platform and automotive development agreements, Jetson robotics and other embedded platforms, NVIDIA AI Enterprise and other software, and DGX Cloud software and services. The company was founded by Jen Hsun Huang, Chris A. Malachowsky, and Curtis R. Priem in April 1993 and is headquartered in Santa Clara, CA., ceo=None, company_url=None, business_address=None, mailing_address=None, business_phone_no=None, hq_address1=None, hq_address2=None, hq_address_city=None, hq_address_postal_code=None, hq_state=None, hq_country=USA, inc_state=None, inc_country=None, employees=29600, entity_legal_form=None, entity_status=None, latest_filing_date=None, irs_number=None, sector=Technology, industry_category=Semiconductors, industry_group=None, template=None, standardized_active=None, first_fundamental_date=None, last_fundamental_date=None, first_stock_price_date=None, last_stock_price_date=None, index=NDX, S&P 500, optionable=None, shortable=None, shares_outstanding=2.46B, shares_float=2.40B, short_interest=26.75M, institutional_ownership=0.6731, market_cap=2259.97B, dividend_yield=None, earnings_date=May 22 AMC, beta=1.65)] provider=\\'finviz\\' warnings=None chart=None extra={\\'metadata\\': Metadata\\n\\narguments: {\\'provider_choices\\': {\\'provider\\': \\'finviz\\'}, \\'standard_params\\': {\\'symbol\\': \\'NVDA\\'}, \\'extra_params\\': {}}\\nduration: 140122792\\nroute: /equity/profile\\ntimestamp: 2024-05-13 23:03:25.551371}'},\n",
       " 'get_equity_shorts_short_interest': {'name': 'get_equity_shorts_short_interest',\n",
       "  'description': 'Given a stock symbol, get data on short volume and days to cover in JSON format.',\n",
       "  'openapi_path': '/api/v1/equity/shorts/short_interest',\n",
       "  'callable': <__main__.BB_agent_tool at 0x335e8e150>,\n",
       "  'parameters': {'symbol': {'type': 'string',\n",
       "    'description': 'The stock symbol.'}},\n",
       "  'example_parameters': [{'symbol': 'NVDA'}],\n",
       "  'tooldict': {'type': 'function',\n",
       "   'function': {'name': 'get_equity_shorts_short_interest',\n",
       "    'description': 'Given a stock symbol, get data on short volume and days to cover in JSON format.',\n",
       "    'parameters': {'type': 'object',\n",
       "     'properties': {'symbol': {'type': 'string',\n",
       "       'description': 'The stock symbol.'}},\n",
       "     'required': ['symbol']}}},\n",
       "  'example_str': 'get_equity_shorts_short_interest(symbol=\"NVDA\") -> id=\\'06642d52-30b0-7e6f-8000-667fed08f8f6\\' results=[FinraShortInterestData(settlement_date=2021-07-15, symbol=NVDA, issue_name=NVIDIA Corporation Common Stoc, market_class=NNM, current_short_position=7226885.0, previous_short_position=7998750.0, avg_daily_volume=10051960.0, days_to_cover=1.0, change=-771865.0, change_pct=-9.65), FinraShortInterestData(settlement_date=2021-07-30, symbol=NVDA, issue_name=NVIDIA Corporation Common Stoc, market_class=NNM, current_short_position=29954260.0, previous_short_position=7226885.0, avg_daily_volume=34374363.0, days_to_cover=1.0, change=22727375.0, change_pct=314.48), FinraShortInterestData(settlement_date=2021-08-13, symbol=NVDA, issue_name=NVIDIA Corporation Common Stoc, market_class=NNM, current_short_position=26935275.0, previous_short_position=29954260.0, avg_daily_volume=19839843.0, days_to_cover=1.36, change=-3018985.0, change_pct=-10.08), FinraShortInterestData(settlement_date=2021-08-31, symbol=NVDA, issue_name=NVIDIA Corporation Common Stoc, market_class=NNM, current_short_position=24041114.0, previous_short_position=26935275.0, avg_daily_volume=36827973.0, days_to_cover=1.0, change=-2894161.0, change_pct=-10.74), FinraShortInterestData(settlement_date=2021-09-15, symbol=NVDA, issue_name=NVIDIA Corporation Common Stoc, market_class=NNM, current_short_position=22682883.0, previous_short_position=24041114.0, avg_daily_volume=22293396.0, days_to_cover=1.02, change=-1358231.0, change_pct=-5.65), FinraShortInterestData(settlement_date=2021-09-30, symbol=NVDA, issue_name=NVIDIA Corporation Common Stoc, market_class=NNM, current_short_position=22415848.0, previous_short_position=22682883.0, avg_daily_volume=25120106.0, days_to_cover=1.0, change=-267035.0, change_pct=-1.18), FinraShortInterestData(settlement_date=2021-10-15, symbol=NVDA, issue_name=NVIDIA Corporation Common Stoc, market_class=NNM, current_short_position=23043923.0, previous_short_position=22415848.0, avg_daily_volume=23129343.0, days_to_cover=1.0, change=628075.0, change_pct=2.8), FinraShortInterestData(settlement_date=2021-10-29, symbol=NVDA, issue_name=NVIDIA Corporation Common Stoc, market_class=NNM, current_short_position=26110184.0, previous_short_position=23043923.0, avg_daily_volume=24191755.0, days_to_cover=1.08, change=3066261.0, change_pct=13.31), FinraShortInterestData(settlement_date=2021-11-15, symbol=NVDA, issue_name=NVIDIA Corporation Common Stoc, market_class=NNM, current_short_position=24148034.0, previous_short_position=26110184.0, avg_daily_volume=51888578.0, days_to_cover=1.0, change=-1962150.0, change_pct=-7.51), FinraShortInterestData(settlement_date=2021-11-30, symbol=NVDA, issue_name=NVIDIA Corporation Common Stoc, market_class=NNM, current_short_position=22553817.0, previous_short_position=24148034.0, avg_daily_volume=50778384.0, days_to_cover=1.0, change=-1594217.0, change_pct=-6.6), FinraShortInterestData(settlement_date=2021-12-15, symbol=NVDA, issue_name=NVIDIA Corporation Common Stoc, market_class=NNM, current_short_position=23374534.0, previous_short_position=22553817.0, avg_daily_volume=55949076.0, days_to_cover=1.0, change=820717.0, change_pct=3.64), FinraShortInterestData(settlement_date=2021-12-31, symbol=NVDA, issue_name=NVIDIA Corporation Common Stoc, market_class=NNM, current_short_position=21941250.0, previous_short_position=23374534.0, avg_daily_volume=44426643.0, days_to_cover=1.0, change=-1433284.0, change_pct=-6.13), FinraShortInterestData(settlement_date=2022-01-14, symbol=NVDA, issue_name=NVIDIA Corporation Common Stoc, market_class=NNM, current_short_position=25524396.0, previous_short_position=21941250.0, avg_daily_volume=45940176.0, days_to_cover=1.0, change=3583146.0, change_pct=16.33), FinraShortInterestData(settlement_date=2022-01-31, symbol=NVDA, issue_name=NVIDIA Corporation Common Stoc, market_class=NNM, current_short_position=24917746.0, previous_short_position=25524396.0, avg_daily_volume=60663910.0, days_to_cover=1.0, change=-606650.0, change_pct=-2.38), FinraShortInterestData(settlement_date=2022-02-15, symbol=NVDA, issue_name=NVIDIA Corporation Common Stoc, market_class=NNM, current_short_position=26446744.0, previous_short_position=24917746.0, avg_daily_volume=48999593.0, days_to_cover=1.0, change=1528998.0, change_pct=6.14), FinraShortInterestData(settlement_date=2022-02-28, symbol=NVDA, issue_name=NVIDIA Corporation Common Stoc, market_class=NNM, current_short_position=28327484.0, previous_short_position=26446744.0, avg_daily_volume=64983350.0, days_to_cover=1.0, change=1880740.0, change_pct=7.11), FinraShortInterestData(settlement_date=2022-03-15, symbol=NVDA, issue_name=NVIDIA Corporation Common Stoc, market_class=NNM, current_short_position=24493956.0, previous_short_position=28327484.0, avg_daily_volume=43259435.0, days_to_cover=1.0, change=-3833528.0, change_pct=-13.53), FinraShortInterestData(settlement_date=2022-03-31, symbol=NVDA, issue_name=NVIDIA Corporation Common Stoc, market_class=NNM, current_short_position=26945545.0, previous_short_position=24493956.0, avg_daily_volume=57192296.0, days_to_cover=1.0, change=2451589.0, change_pct=10.01), FinraShortInterestData(settlement_date=2022-04-14, symbol=NVDA, issue_name=NVIDIA Corporation Common Stoc, market_class=NNM, current_short_position=25704839.0, previous_short_position=26945545.0, avg_daily_volume=54510635.0, days_to_cover=1.0, change=-1240706.0, change_pct=-4.6), FinraShortInterestData(settlement_date=2022-04-29, symbol=NVDA, issue_name=NVIDIA Corporation Common Stoc, market_class=NNM, current_short_position=27303601.0, previous_short_position=25704839.0, avg_daily_volume=56419979.0, days_to_cover=1.0, change=1598762.0, change_pct=6.22), FinraShortInterestData(settlement_date=2022-05-13, symbol=NVDA, issue_name=NVIDIA Corporation Common Stoc, market_class=NNM, current_short_position=30257848.0, previous_short_position=27303601.0, avg_daily_volume=63955609.0, days_to_cover=1.0, change=2954247.0, change_pct=10.82), FinraShortInterestData(settlement_date=2022-05-31, symbol=NVDA, issue_name=NVIDIA Corporation Common Stoc, market_class=NNM, current_short_position=33604244.0, previous_short_position=30257848.0, avg_daily_volume=67353531.0, days_to_cover=1.0, change=3346396.0, change_pct=11.06), FinraShortInterestData(settlement_date=2022-06-15, symbol=NVDA, issue_name=NVIDIA Corporation Common Stoc, market_class=NNM, current_short_position=31732722.0, previous_short_position=33604244.0, avg_daily_volume=49626398.0, days_to_cover=1.0, change=-1871522.0, change_pct=-5.57), FinraShortInterestData(settlement_date=2022-06-30, symbol=NVDA, issue_name=NVIDIA Corporation Common Stoc, market_class=NNM, current_short_position=32918766.0, previous_short_position=31732722.0, avg_daily_volume=51015023.0, days_to_cover=1.0, change=1186044.0, change_pct=3.74), FinraShortInterestData(settlement_date=2022-07-15, symbol=NVDA, issue_name=NVIDIA Corporation Common Stoc, market_class=NNM, current_short_position=36044387.0, previous_short_position=32918766.0, avg_daily_volume=49759797.0, days_to_cover=1.0, change=3125621.0, change_pct=9.49), FinraShortInterestData(settlement_date=2022-07-29, symbol=NVDA, issue_name=NVIDIA Corporation Common Stoc, market_class=NNM, current_short_position=33395681.0, previous_short_position=36044387.0, avg_daily_volume=55812290.0, days_to_cover=1.0, change=-2648706.0, change_pct=-7.35), FinraShortInterestData(settlement_date=2022-08-15, symbol=NVDA, issue_name=NVIDIA Corporation Common Stoc, market_class=NNM, current_short_position=31324946.0, previous_short_position=33395681.0, avg_daily_volume=53363116.0, days_to_cover=1.0, change=-2070735.0, change_pct=-6.2), FinraShortInterestData(settlement_date=2022-08-31, symbol=NVDA, issue_name=NVIDIA Corporation Common Stoc, market_class=NNM, current_short_position=29418906.0, previous_short_position=31324946.0, avg_daily_volume=51604289.0, days_to_cover=1.0, change=-1906040.0, change_pct=-6.08), FinraShortInterestData(settlement_date=2022-09-15, symbol=NVDA, issue_name=NVIDIA Corporation Common Stoc, market_class=NNM, current_short_position=30722890.0, previous_short_position=29418906.0, avg_daily_volume=63874981.0, days_to_cover=1.0, change=1303984.0, change_pct=4.43), FinraShortInterestData(settlement_date=2022-09-30, symbol=NVDA, issue_name=NVIDIA Corporation Common Stoc, market_class=NNM, current_short_position=30153078.0, previous_short_position=30722890.0, avg_daily_volume=61213376.0, days_to_cover=1.0, change=-569812.0, change_pct=-1.85), FinraShortInterestData(settlement_date=2022-10-14, symbol=NVDA, issue_name=NVIDIA Corporation Common Stoc, market_class=NNM, current_short_position=32874645.0, previous_short_position=30153078.0, avg_daily_volume=63698061.0, days_to_cover=1.0, change=2721567.0, change_pct=9.03), FinraShortInterestData(settlement_date=2022-10-31, symbol=NVDA, issue_name=NVIDIA Corporation Common Stoc, market_class=NNM, current_short_position=31451677.0, previous_short_position=32874645.0, avg_daily_volume=56076424.0, days_to_cover=1.0, change=-1422968.0, change_pct=-4.33), FinraShortInterestData(settlement_date=2022-11-15, symbol=NVDA, issue_name=NVIDIA Corporation Common Stoc, market_class=NNM, current_short_position=35679525.0, previous_short_position=31451677.0, avg_daily_volume=55460358.0, days_to_cover=1.0, change=4227848.0, change_pct=13.44), FinraShortInterestData(settlement_date=2022-11-30, symbol=NVDA, issue_name=NVIDIA Corporation Common Stoc, market_class=NNM, current_short_position=34939996.0, previous_short_position=35679525.0, avg_daily_volume=44873331.0, days_to_cover=1.0, change=-739529.0, change_pct=-2.07), FinraShortInterestData(settlement_date=2022-12-15, symbol=NVDA, issue_name=NVIDIA Corporation Common Stoc, market_class=NNM, current_short_position=33799709.0, previous_short_position=34939996.0, avg_daily_volume=45361931.0, days_to_cover=1.0, change=-1140287.0, change_pct=-3.26), FinraShortInterestData(settlement_date=2022-12-30, symbol=NVDA, issue_name=NVIDIA Corporation Common Stoc, market_class=NNM, current_short_position=38301494.0, previous_short_position=33799709.0, avg_daily_volume=39559348.0, days_to_cover=1.0, change=4501785.0, change_pct=13.32), FinraShortInterestData(settlement_date=2023-01-13, symbol=NVDA, issue_name=NVIDIA Corporation Common Stoc, market_class=NNM, current_short_position=38138329.0, previous_short_position=38301494.0, avg_daily_volume=42919364.0, days_to_cover=1.0, change=-163165.0, change_pct=-0.43), FinraShortInterestData(settlement_date=2023-01-31, symbol=NVDA, issue_name=NVIDIA Corporation Common Stoc, market_class=NNM, current_short_position=39684462.0, previous_short_position=38138329.0, avg_daily_volume=50739245.0, days_to_cover=1.0, change=1546133.0, change_pct=4.05), FinraShortInterestData(settlement_date=2023-02-15, symbol=NVDA, issue_name=NVIDIA Corporation Common Stoc, market_class=NNM, current_short_position=34650890.0, previous_short_position=39684462.0, avg_daily_volume=54243009.0, days_to_cover=1.0, change=-5033572.0, change_pct=-12.68), FinraShortInterestData(settlement_date=2023-02-28, symbol=NVDA, issue_name=NVIDIA Corporation Common Stoc, market_class=NNM, current_short_position=38825313.0, previous_short_position=34650890.0, avg_daily_volume=55140395.0, days_to_cover=1.0, change=4174423.0, change_pct=12.05), FinraShortInterestData(settlement_date=2023-03-15, symbol=NVDA, issue_name=NVIDIA Corporation Common Stoc, market_class=NNM, current_short_position=37702262.0, previous_short_position=38825313.0, avg_daily_volume=46530861.0, days_to_cover=1.0, change=-1123051.0, change_pct=-2.89), FinraShortInterestData(settlement_date=2023-03-31, symbol=NVDA, issue_name=NVIDIA Corporation Common Stoc, market_class=NNM, current_short_position=36075552.0, previous_short_position=37702262.0, avg_daily_volume=51050839.0, days_to_cover=1.0, change=-1626710.0, change_pct=-4.31), FinraShortInterestData(settlement_date=2023-04-14, symbol=NVDA, issue_name=NVIDIA Corporation Common Stoc, market_class=NNM, current_short_position=33783023.0, previous_short_position=36075552.0, avg_daily_volume=39780774.0, days_to_cover=1.0, change=-2292529.0, change_pct=-6.35), FinraShortInterestData(settlement_date=2023-04-28, symbol=NVDA, issue_name=NVIDIA Corporation Common Stoc, market_class=NNM, current_short_position=32599217.0, previous_short_position=33783023.0, avg_daily_volume=38466036.0, days_to_cover=1.0, change=-1183806.0, change_pct=-3.5), FinraShortInterestData(settlement_date=2023-05-15, symbol=NVDA, issue_name=NVIDIA Corporation Common Stoc, market_class=NNM, current_short_position=28834999.0, previous_short_position=32599217.0, avg_daily_volume=35924495.0, days_to_cover=1.0, change=-3764218.0, change_pct=-11.55), FinraShortInterestData(settlement_date=2023-05-31, symbol=NVDA, issue_name=NVIDIA Corporation Common Stoc, market_class=NNM, current_short_position=26884245.0, previous_short_position=28841207.0, avg_daily_volume=70186427.0, days_to_cover=1.0, change=-1956962.0, change_pct=-6.79), FinraShortInterestData(settlement_date=2023-06-15, symbol=NVDA, issue_name=NVIDIA Corporation Common Stoc, market_class=NNM, current_short_position=27508937.0, previous_short_position=26884245.0, avg_daily_volume=50538617.0, days_to_cover=1.0, change=624692.0, change_pct=2.32), FinraShortInterestData(settlement_date=2023-06-30, symbol=NVDA, issue_name=NVIDIA Corporation Common Stoc, market_class=NNM, current_short_position=26057849.0, previous_short_position=27508937.0, avg_daily_volume=49434661.0, days_to_cover=1.0, change=-1451088.0, change_pct=-5.27), FinraShortInterestData(settlement_date=2023-07-14, symbol=NVDA, issue_name=NVIDIA Corporation Common Stoc, market_class=NNM, current_short_position=31386008.0, previous_short_position=26057849.0, avg_daily_volume=39512853.0, days_to_cover=1.0, change=5328159.0, change_pct=20.45), FinraShortInterestData(settlement_date=2023-07-31, symbol=NVDA, issue_name=NVIDIA Corporation Common Stoc, market_class=NNM, current_short_position=26400064.0, previous_short_position=31386008.0, avg_daily_volume=46627069.0, days_to_cover=1.0, change=-4985944.0, change_pct=-15.89), FinraShortInterestData(settlement_date=2023-08-15, symbol=NVDA, issue_name=NVIDIA Corporation Common Stoc, market_class=NNM, current_short_position=26696744.0, previous_short_position=26400064.0, avg_daily_volume=46339751.0, days_to_cover=1.0, change=296680.0, change_pct=1.12), FinraShortInterestData(settlement_date=2023-08-31, symbol=NVDA, issue_name=NVIDIA Corporation Common Stoc, market_class=NNM, current_short_position=26913512.0, previous_short_position=26689477.0, avg_daily_volume=70822510.0, days_to_cover=1.0, change=224035.0, change_pct=0.84), FinraShortInterestData(settlement_date=2023-09-15, symbol=NVDA, issue_name=NVIDIA Corporation Common Stoc, market_class=NNM, current_short_position=26040814.0, previous_short_position=26913512.0, avg_daily_volume=43097443.0, days_to_cover=1.0, change=-872698.0, change_pct=-3.24), FinraShortInterestData(settlement_date=2023-09-29, symbol=NVDA, issue_name=NVIDIA Corporation Common Stoc, market_class=NNM, current_short_position=26982263.0, previous_short_position=26040814.0, avg_daily_volume=42466353.0, days_to_cover=1.0, change=941449.0, change_pct=3.62), FinraShortInterestData(settlement_date=2023-10-13, symbol=NVDA, issue_name=NVIDIA Corporation Common Stoc, market_class=NNM, current_short_position=26086160.0, previous_short_position=26982263.0, avg_daily_volume=41979595.0, days_to_cover=1.0, change=-896103.0, change_pct=-3.32), FinraShortInterestData(settlement_date=2023-10-31, symbol=NVDA, issue_name=NVIDIA Corporation Common Stoc, market_class=NNM, current_short_position=26165997.0, previous_short_position=26086160.0, avg_daily_volume=49341836.0, days_to_cover=1.0, change=79837.0, change_pct=0.31), FinraShortInterestData(settlement_date=2023-11-15, symbol=NVDA, issue_name=NVIDIA Corporation Common Stoc, market_class=NNM, current_short_position=27551755.0, previous_short_position=26165997.0, avg_daily_volume=41521148.0, days_to_cover=1.0, change=1385758.0, change_pct=5.3), FinraShortInterestData(settlement_date=2023-11-30, symbol=NVDA, issue_name=NVIDIA Corporation Common Stoc, market_class=NNM, current_short_position=24938360.0, previous_short_position=27551755.0, avg_daily_volume=45157514.0, days_to_cover=1.0, change=-2613395.0, change_pct=-9.49), FinraShortInterestData(settlement_date=2023-12-15, symbol=NVDA, issue_name=NVIDIA Corporation Common Stoc, market_class=NNM, current_short_position=25679812.0, previous_short_position=24938360.0, avg_daily_volume=40341919.0, days_to_cover=1.0, change=741452.0, change_pct=2.97), FinraShortInterestData(settlement_date=2023-12-29, symbol=NVDA, issue_name=NVIDIA Corporation Common Stoc, market_class=NNM, current_short_position=24835648.0, previous_short_position=25679812.0, avg_daily_volume=32519571.0, days_to_cover=1.0, change=-844164.0, change_pct=-3.29), FinraShortInterestData(settlement_date=2024-01-31, symbol=NVDA, issue_name=NVIDIA Corporation Common Stoc, market_class=NNM, current_short_position=27251889.0, previous_short_position=27560860.0, avg_daily_volume=44425602.0, days_to_cover=1.0, change=-308971.0, change_pct=-1.12), FinraShortInterestData(settlement_date=2024-02-15, symbol=NVDA, issue_name=NVIDIA Corporation Common Stoc, market_class=NNM, current_short_position=28139408.0, previous_short_position=27251889.0, avg_daily_volume=51435855.0, days_to_cover=1.0, change=887519.0, change_pct=3.26), FinraShortInterestData(settlement_date=2024-02-29, symbol=NVDA, issue_name=NVIDIA Corporation Common Stoc, market_class=NNM, current_short_position=26972659.0, previous_short_position=28139408.0, avg_daily_volume=59339521.0, days_to_cover=1.0, change=-1166749.0, change_pct=-4.15), FinraShortInterestData(settlement_date=2024-03-15, symbol=NVDA, issue_name=NVIDIA Corporation Common Stoc, market_class=NNM, current_short_position=30321554.0, previous_short_position=26972659.0, avg_daily_volume=64718029.0, days_to_cover=1.0, change=3348895.0, change_pct=12.42), FinraShortInterestData(settlement_date=2024-04-15, symbol=NVDA, issue_name=NVIDIA Corporation Common Stoc, market_class=NNM, current_short_position=29075362.0, previous_short_position=28356794.0, avg_daily_volume=41621084.0, days_to_cover=1.0, change=718568.0, change_pct=2.53), FinraShortInterestData(settlement_date=2024-04-30, symbol=NVDA, issue_name=NVIDIA Corporation Common Stoc, market_class=NNM, current_short_position=26745995.0, previous_short_position=29081302.0, avg_daily_volume=49338031.0, days_to_cover=1.0, change=-2335307.0, change_pct=-8.03)] provider=\\'finra\\' warnings=None chart=None extra={\\'metadata\\': Metadata\\n\\narguments: {\\'provider_choices\\': {\\'provider\\': \\'finra\\'}, \\'standard_params\\': {\\'symbol\\': \\'NVDA\\'}, \\'extra_params\\': {}}\\nduration: 743738166\\nroute: /equity/shorts/short_interest\\ntimestamp: 2024-05-13 23:06:10.301288}'},\n",
       " 'get_equity_fundamental_historical_splits': {'name': 'get_equity_fundamental_historical_splits',\n",
       "  'description': \"Given a stock symbol, get the company's historical stock splits in JSON format.\",\n",
       "  'openapi_path': '/api/v1/equity/fundamental/historical_splits',\n",
       "  'callable': <__main__.BB_agent_tool at 0x32c2d9dd0>,\n",
       "  'parameters': {'symbol': {'type': 'string',\n",
       "    'description': 'The stock symbol.'}},\n",
       "  'example_parameters': [{'symbol': 'NVDA'}],\n",
       "  'tooldict': {'type': 'function',\n",
       "   'function': {'name': 'get_equity_fundamental_historical_splits',\n",
       "    'description': \"Given a stock symbol, get the company's historical stock splits in JSON format.\",\n",
       "    'parameters': {'type': 'object',\n",
       "     'properties': {'symbol': {'type': 'string',\n",
       "       'description': 'The stock symbol.'}},\n",
       "     'required': ['symbol']}}},\n",
       "  'example_str': 'get_equity_fundamental_historical_splits(symbol=\"NVDA\") -> id=\\'06642d58-082b-781f-8000-d291523838d5\\' results=[FMPHistoricalSplitsData(date=2021-07-20, numerator=4.0, denominator=1.0, split_ratio=None, label=July 20, 21), FMPHistoricalSplitsData(date=2007-09-11, numerator=3.0, denominator=2.0, split_ratio=None, label=September 11, 07), FMPHistoricalSplitsData(date=2006-04-07, numerator=2.0, denominator=1.0, split_ratio=None, label=April 07, 06), FMPHistoricalSplitsData(date=2001-09-17, numerator=2.0, denominator=1.0, split_ratio=None, label=September 17, 01), FMPHistoricalSplitsData(date=2000-06-27, numerator=2.0, denominator=1.0, split_ratio=None, label=June 27, 00)] provider=\\'fmp\\' warnings=None chart=None extra={\\'metadata\\': Metadata\\n\\narguments: {\\'provider_choices\\': {\\'provider\\': \\'fmp\\'}, \\'standard_params\\': {\\'symbol\\': \\'NVDA\\'}, \\'extra_params\\': {}}\\nduration: 143636083\\nroute: /equity/fundamental/historical_splits\\ntimestamp: 2024-05-13 23:07:44.369051}'},\n",
       " 'get_balance_sheet_json': {'name': 'get_balance_sheet_json',\n",
       "  'description': 'Given a stock symbol, get the latest balance sheet data for the company in JSON format.',\n",
       "  'openapi_path': '/api/v1/equity/fundamental/balance',\n",
       "  'callable': <__main__.BB_agent_tool at 0x335c97e90>,\n",
       "  'parameters': {'symbol': {'type': 'string',\n",
       "    'description': 'The stock symbol.'}},\n",
       "  'example_parameters': [{'symbol': 'NVDA'}],\n",
       "  'tooldict': {'type': 'function',\n",
       "   'function': {'name': 'get_balance_sheet_json',\n",
       "    'description': 'Given a stock symbol, get the latest balance sheet data for the company in JSON format.',\n",
       "    'parameters': {'type': 'object',\n",
       "     'properties': {'symbol': {'type': 'string',\n",
       "       'description': 'The stock symbol.'}},\n",
       "     'required': ['symbol']}}},\n",
       "  'example_str': 'get_balance_sheet_json(symbol=\"NVDA\") -> id=\\'06642d5f-c4a2-76d4-8000-bf503baf5596\\' results=[FMPBalanceSheetData(period_ending=2024-01-28, fiscal_period=FY, fiscal_year=2024, filing_date=2024-02-21, accepted_date=2024-02-21 16:36:57, reported_currency=USD, cash_and_cash_equivalents=7280000000.0, short_term_investments=18704000000.0, cash_and_short_term_investments=25984000000.0, net_receivables=9999000000.0, inventory=5282000000.0, other_current_assets=3080000000.0, total_current_assets=44345000000.0, plant_property_equipment_net=5260000000.0, goodwill=4430000000.0, intangible_assets=1112000000.0, goodwill_and_intangible_assets=5542000000.0, long_term_investments=1546000000.0, tax_assets=6081000000.0, other_non_current_assets=2954000000.0, non_current_assets=21383000000.0, other_assets=None, total_assets=65728000000.0, accounts_payable=2699000000.0, short_term_debt=1478000000.0, tax_payables=296000000.0, current_deferred_revenue=764000000.0, other_current_liabilities=5690000000.0, total_current_liabilities=10631000000.0, long_term_debt=8459000000.0, deferred_revenue_non_current=573000000.0, deferred_tax_liabilities_non_current=462000000.0, other_non_current_liabilities=2625000000.0, total_non_current_liabilities=12119000000.0, other_liabilities=None, capital_lease_obligations=1119000000.0, total_liabilities=22750000000.0, preferred_stock=None, common_stock=2000000.0, retained_earnings=29817000000.0, accumulated_other_comprehensive_income=27000000.0, other_shareholders_equity=None, other_total_shareholders_equity=13132000000.0, total_common_equity=42978000000.0, total_equity_non_controlling_interests=42978000000.0, total_liabilities_and_shareholders_equity=65728000000.0, minority_interest=None, total_liabilities_and_total_equity=65728000000.0, total_investments=20250000000.0, total_debt=11056000000.0, net_debt=3776000000.0, link=https://www.sec.gov/Archives/edgar/data/1045810/000104581024000029/0001045810-24-000029-index.htm, final_link=https://www.sec.gov/Archives/edgar/data/1045810/000104581024000029/nvda-20240128.htm), FMPBalanceSheetData(period_ending=2023-01-29, fiscal_period=FY, fiscal_year=2023, filing_date=2023-02-24, accepted_date=2023-02-24 17:23:43, reported_currency=USD, cash_and_cash_equivalents=3389000000.0, short_term_investments=9907000000.0, cash_and_short_term_investments=13296000000.0, net_receivables=3827000000.0, inventory=5159000000.0, other_current_assets=791000000.0, total_current_assets=23073000000.0, plant_property_equipment_net=4845000000.0, goodwill=4372000000.0, intangible_assets=1676000000.0, goodwill_and_intangible_assets=6048000000.0, long_term_investments=299000000.0, tax_assets=3396000000.0, other_non_current_assets=3521000000.0, non_current_assets=18109000000.0, other_assets=None, total_assets=41182000000.0, accounts_payable=1193000000.0, short_term_debt=1250000000.0, tax_payables=467000000.0, current_deferred_revenue=354000000.0, other_current_liabilities=3766000000.0, total_current_liabilities=6563000000.0, long_term_debt=10605000000.0, deferred_revenue_non_current=218000000.0, deferred_tax_liabilities_non_current=247000000.0, other_non_current_liabilities=1448000000.0, total_non_current_liabilities=12518000000.0, other_liabilities=None, capital_lease_obligations=902000000.0, total_liabilities=19081000000.0, preferred_stock=None, common_stock=2000000.0, retained_earnings=10171000000.0, accumulated_other_comprehensive_income=-43000000.0, other_shareholders_equity=None, other_total_shareholders_equity=11971000000.0, total_common_equity=22101000000.0, total_equity_non_controlling_interests=22101000000.0, total_liabilities_and_shareholders_equity=41182000000.0, minority_interest=None, total_liabilities_and_total_equity=41182000000.0, total_investments=10206000000.0, total_debt=11855000000.0, net_debt=8466000000.0, link=https://www.sec.gov/Archives/edgar/data/1045810/000104581023000017/0001045810-23-000017-index.htm, final_link=https://www.sec.gov/Archives/edgar/data/1045810/000104581023000017/nvda-20230129.htm), FMPBalanceSheetData(period_ending=2022-01-30, fiscal_period=FY, fiscal_year=2022, filing_date=2022-03-18, accepted_date=2022-03-17 20:33:34, reported_currency=USD, cash_and_cash_equivalents=1990000000.0, short_term_investments=19218000000.0, cash_and_short_term_investments=21208000000.0, net_receivables=4650000000.0, inventory=2605000000.0, other_current_assets=366000000.0, total_current_assets=28829000000.0, plant_property_equipment_net=3607000000.0, goodwill=4349000000.0, intangible_assets=2339000000.0, goodwill_and_intangible_assets=6688000000.0, long_term_investments=266000000.0, tax_assets=1222000000.0, other_non_current_assets=3575000000.0, non_current_assets=15358000000.0, other_assets=None, total_assets=44187000000.0, accounts_payable=1783000000.0, short_term_debt=144000000.0, tax_payables=132000000.0, current_deferred_revenue=300000000.0, other_current_liabilities=2108000000.0, total_current_liabilities=4335000000.0, long_term_debt=11687000000.0, deferred_revenue_non_current=202000000.0, deferred_tax_liabilities_non_current=245000000.0, other_non_current_liabilities=1106000000.0, total_non_current_liabilities=13240000000.0, other_liabilities=None, capital_lease_obligations=741000000.0, total_liabilities=17575000000.0, preferred_stock=None, common_stock=3000000.0, retained_earnings=16235000000.0, accumulated_other_comprehensive_income=-11000000.0, other_shareholders_equity=None, other_total_shareholders_equity=10385000000.0, total_common_equity=26612000000.0, total_equity_non_controlling_interests=26612000000.0, total_liabilities_and_shareholders_equity=44187000000.0, minority_interest=None, total_liabilities_and_total_equity=44187000000.0, total_investments=19484000000.0, total_debt=11687000000.0, net_debt=9697000000.0, link=https://www.sec.gov/Archives/edgar/data/1045810/000104581022000036/0001045810-22-000036-index.htm, final_link=https://www.sec.gov/Archives/edgar/data/1045810/000104581022000036/nvda-20220130.htm), FMPBalanceSheetData(period_ending=2021-01-31, fiscal_period=FY, fiscal_year=2021, filing_date=2021-02-26, accepted_date=2021-02-26 17:03:14, reported_currency=USD, cash_and_cash_equivalents=847000000.0, short_term_investments=10714000000.0, cash_and_short_term_investments=11561000000.0, net_receivables=2429000000.0, inventory=1826000000.0, other_current_assets=239000000.0, total_current_assets=16055000000.0, plant_property_equipment_net=2856000000.0, goodwill=4193000000.0, intangible_assets=2737000000.0, goodwill_and_intangible_assets=6930000000.0, long_term_investments=144000000.0, tax_assets=806000000.0, other_non_current_assets=2000000000.0, non_current_assets=12736000000.0, other_assets=None, total_assets=28791000000.0, accounts_payable=1201000000.0, short_term_debt=999000000.0, tax_payables=61000000.0, current_deferred_revenue=288000000.0, other_current_liabilities=1437000000.0, total_current_liabilities=3925000000.0, long_term_debt=6598000000.0, deferred_revenue_non_current=163000000.0, deferred_tax_liabilities_non_current=241000000.0, other_non_current_liabilities=971000000.0, total_non_current_liabilities=7973000000.0, other_liabilities=None, capital_lease_obligations=634000000.0, total_liabilities=11898000000.0, preferred_stock=None, common_stock=1000000.0, retained_earnings=18908000000.0, accumulated_other_comprehensive_income=19000000.0, other_shareholders_equity=None, other_total_shareholders_equity=-2035000000.0, total_common_equity=16893000000.0, total_equity_non_controlling_interests=16893000000.0, total_liabilities_and_shareholders_equity=28791000000.0, minority_interest=None, total_liabilities_and_total_equity=28791000000.0, total_investments=10858000000.0, total_debt=7597000000.0, net_debt=6750000000.0, link=https://www.sec.gov/Archives/edgar/data/1045810/000104581021000010/0001045810-21-000010-index.htm, final_link=https://www.sec.gov/Archives/edgar/data/1045810/000104581021000010/nvda-20210131.htm), FMPBalanceSheetData(period_ending=2020-01-26, fiscal_period=FY, fiscal_year=2020, filing_date=2020-02-20, accepted_date=2020-02-20 16:38:18, reported_currency=USD, cash_and_cash_equivalents=10896000000.0, short_term_investments=1000000.0, cash_and_short_term_investments=10897000000.0, net_receivables=1657000000.0, inventory=979000000.0, other_current_assets=157000000.0, total_current_assets=13690000000.0, plant_property_equipment_net=2292000000.0, goodwill=618000000.0, intangible_assets=49000000.0, goodwill_and_intangible_assets=667000000.0, long_term_investments=77000000.0, tax_assets=548000000.0, other_non_current_assets=41000000.0, non_current_assets=3625000000.0, other_assets=None, total_assets=17315000000.0, accounts_payable=687000000.0, short_term_debt=91000000.0, tax_payables=61000000.0, current_deferred_revenue=141000000.0, other_current_liabilities=865000000.0, total_current_liabilities=1784000000.0, long_term_debt=2552000000.0, deferred_revenue_non_current=60000000.0, deferred_tax_liabilities_non_current=29000000.0, other_non_current_liabilities=686000000.0, total_non_current_liabilities=3327000000.0, other_liabilities=None, capital_lease_obligations=561000000.0, total_liabilities=5111000000.0, preferred_stock=None, common_stock=1000000.0, retained_earnings=14971000000.0, accumulated_other_comprehensive_income=1000000.0, other_shareholders_equity=None, other_total_shareholders_equity=-2769000000.0, total_common_equity=12204000000.0, total_equity_non_controlling_interests=12204000000.0, total_liabilities_and_shareholders_equity=17315000000.0, minority_interest=None, total_liabilities_and_total_equity=17315000000.0, total_investments=1000000.0, total_debt=2552000000.0, net_debt=-8344000000.0, link=https://www.sec.gov/Archives/edgar/data/1045810/000104581020000010/0001045810-20-000010-index.htm, final_link=https://www.sec.gov/Archives/edgar/data/1045810/000104581020000010/nvda-2020x10k.htm)] provider=\\'fmp\\' warnings=None chart=None extra={\\'metadata\\': Metadata\\n\\narguments: {\\'provider_choices\\': {\\'provider\\': \\'fmp\\'}, \\'standard_params\\': {\\'symbol\\': \\'NVDA\\', \\'period\\': \\'annual\\', \\'limit\\': 5}, \\'extra_params\\': {}}\\nduration: 103370208\\nroute: /equity/fundamental/balance\\ntimestamp: 2024-05-13 23:09:48.189684}'},\n",
       " 'get_cash_flow_json': {'name': 'get_cash_flow_json',\n",
       "  'description': 'Given a stock symbol, get the latest cash flow statement data for the company in JSON format.',\n",
       "  'openapi_path': '/api/v1/equity/fundamental/cash',\n",
       "  'callable': <__main__.BB_agent_tool at 0x335e0b150>,\n",
       "  'parameters': {'symbol': {'type': 'string',\n",
       "    'description': 'The stock symbol.'}},\n",
       "  'example_parameters': [{'symbol': 'NVDA'}],\n",
       "  'tooldict': {'type': 'function',\n",
       "   'function': {'name': 'get_cash_flow_json',\n",
       "    'description': 'Given a stock symbol, get the latest cash flow statement data for the company in JSON format.',\n",
       "    'parameters': {'type': 'object',\n",
       "     'properties': {'symbol': {'type': 'string',\n",
       "       'description': 'The stock symbol.'}},\n",
       "     'required': ['symbol']}}},\n",
       "  'example_str': 'get_cash_flow_json(symbol=\"NVDA\") -> id=\\'06642d64-61f8-75e8-8000-0c54f589214c\\' results=[FMPCashFlowStatementData(period_ending=2024-01-28, fiscal_period=FY, fiscal_year=2024, filing_date=2024-02-21, accepted_date=2024-02-21 16:36:57, reported_currency=USD, net_income=29760000000.0, depreciation_and_amortization=1508000000.0, deferred_income_tax=-2489000000.0, stock_based_compensation=3549000000.0, change_in_working_capital=-3722000000.0, change_in_account_receivables=-6172000000.0, change_in_inventory=-98000000.0, change_in_account_payable=1531000000.0, change_in_other_working_capital=1017000000.0, change_in_other_non_cash_items=-516000000.0, net_cash_from_operating_activities=28090000000.0, purchase_of_property_plant_and_equipment=-1069000000.0, acquisitions=-83000000.0, purchase_of_investment_securities=-18211000000.0, sale_and_maturity_of_investments=9782000000.0, other_investing_activities=-985000000.0, net_cash_from_investing_activities=-10566000000.0, repayment_of_debt=-1250000000.0, issuance_of_common_equity=403000000.0, repurchase_of_common_equity=-9533000000.0, payment_of_dividends=-395000000.0, other_financing_activities=-2858000000.0, net_cash_from_financing_activities=-13633000000.0, effect_of_exchange_rate_changes_on_cash=None, net_change_in_cash_and_equivalents=3891000000.0, cash_at_beginning_of_period=3389000000.0, cash_at_end_of_period=7280000000.0, operating_cash_flow=28090000000.0, capital_expenditure=-1069000000.0, free_cash_flow=27021000000.0, link=https://www.sec.gov/Archives/edgar/data/1045810/000104581024000029/0001045810-24-000029-index.htm, final_link=https://www.sec.gov/Archives/edgar/data/1045810/000104581024000029/nvda-20240128.htm), FMPCashFlowStatementData(period_ending=2023-01-29, fiscal_period=FY, fiscal_year=2023, filing_date=2023-02-24, accepted_date=2023-02-24 17:23:43, reported_currency=USD, net_income=4368000000.0, depreciation_and_amortization=1544000000.0, deferred_income_tax=-2164000000.0, stock_based_compensation=2709000000.0, change_in_working_capital=-2207000000.0, change_in_account_receivables=822000000.0, change_in_inventory=-2554000000.0, change_in_account_payable=-551000000.0, change_in_other_working_capital=76000000.0, change_in_other_non_cash_items=1391000000.0, net_cash_from_operating_activities=5641000000.0, purchase_of_property_plant_and_equipment=-1833000000.0, acquisitions=-49000000.0, purchase_of_investment_securities=-11974000000.0, sale_and_maturity_of_investments=21231000000.0, other_investing_activities=-77000000.0, net_cash_from_investing_activities=7375000000.0, repayment_of_debt=-355000000.0, issuance_of_common_equity=355000000.0, repurchase_of_common_equity=-10039000000.0, payment_of_dividends=-398000000.0, other_financing_activities=-1180000000.0, net_cash_from_financing_activities=-11617000000.0, effect_of_exchange_rate_changes_on_cash=None, net_change_in_cash_and_equivalents=1399000000.0, cash_at_beginning_of_period=1990000000.0, cash_at_end_of_period=3389000000.0, operating_cash_flow=5641000000.0, capital_expenditure=-1833000000.0, free_cash_flow=3808000000.0, link=https://www.sec.gov/Archives/edgar/data/1045810/000104581023000017/0001045810-23-000017-index.htm, final_link=https://www.sec.gov/Archives/edgar/data/1045810/000104581023000017/nvda-20230129.htm), FMPCashFlowStatementData(period_ending=2022-01-30, fiscal_period=FY, fiscal_year=2022, filing_date=2022-03-18, accepted_date=2022-03-17 20:33:34, reported_currency=USD, net_income=9752000000.0, depreciation_and_amortization=1174000000.0, deferred_income_tax=-406000000.0, stock_based_compensation=2004000000.0, change_in_working_capital=-3363000000.0, change_in_account_receivables=-2215000000.0, change_in_inventory=-774000000.0, change_in_account_payable=568000000.0, change_in_other_working_capital=-942000000.0, change_in_other_non_cash_items=-53000000.0, net_cash_from_operating_activities=9108000000.0, purchase_of_property_plant_and_equipment=-976000000.0, acquisitions=-263000000.0, purchase_of_investment_securities=-24811000000.0, sale_and_maturity_of_investments=16220000000.0, other_investing_activities=-24000000.0, net_cash_from_investing_activities=-9830000000.0, repayment_of_debt=-1000000000.0, issuance_of_common_equity=281000000.0, repurchase_of_common_equity=-1904000000.0, payment_of_dividends=-399000000.0, other_financing_activities=4887000000.0, net_cash_from_financing_activities=1865000000.0, effect_of_exchange_rate_changes_on_cash=None, net_change_in_cash_and_equivalents=1143000000.0, cash_at_beginning_of_period=847000000.0, cash_at_end_of_period=1990000000.0, operating_cash_flow=9108000000.0, capital_expenditure=-976000000.0, free_cash_flow=8132000000.0, link=https://www.sec.gov/Archives/edgar/data/1045810/000104581022000036/0001045810-22-000036-index.htm, final_link=https://www.sec.gov/Archives/edgar/data/1045810/000104581022000036/nvda-20220130.htm), FMPCashFlowStatementData(period_ending=2021-01-31, fiscal_period=FY, fiscal_year=2021, filing_date=2021-02-26, accepted_date=2021-02-26 17:03:14, reported_currency=USD, net_income=4332000000.0, depreciation_and_amortization=1098000000.0, deferred_income_tax=-282000000.0, stock_based_compensation=1397000000.0, change_in_working_capital=-703000000.0, change_in_account_receivables=-550000000.0, change_in_inventory=-524000000.0, change_in_account_payable=363000000.0, change_in_other_working_capital=8000000.0, change_in_other_non_cash_items=-20000000.0, net_cash_from_operating_activities=5822000000.0, purchase_of_property_plant_and_equipment=-1128000000.0, acquisitions=-8524000000.0, purchase_of_investment_securities=-19342000000.0, sale_and_maturity_of_investments=9319000000.0, other_investing_activities=-34000000.0, net_cash_from_investing_activities=-19675000000.0, repayment_of_debt=-4968000000.0, issuance_of_common_equity=194000000.0, repurchase_of_common_equity=-942000000.0, payment_of_dividends=-395000000.0, other_financing_activities=9915000000.0, net_cash_from_financing_activities=3804000000.0, effect_of_exchange_rate_changes_on_cash=None, net_change_in_cash_and_equivalents=-10049000000.0, cash_at_beginning_of_period=10896000000.0, cash_at_end_of_period=847000000.0, operating_cash_flow=5822000000.0, capital_expenditure=-1128000000.0, free_cash_flow=4694000000.0, link=https://www.sec.gov/Archives/edgar/data/1045810/000104581021000010/0001045810-21-000010-index.htm, final_link=https://www.sec.gov/Archives/edgar/data/1045810/000104581021000010/nvda-20210131.htm), FMPCashFlowStatementData(period_ending=2020-01-26, fiscal_period=FY, fiscal_year=2020, filing_date=2020-02-20, accepted_date=2020-02-20 16:38:18, reported_currency=USD, net_income=2796000000.0, depreciation_and_amortization=381000000.0, deferred_income_tax=18000000.0, stock_based_compensation=844000000.0, change_in_working_capital=717000000.0, change_in_account_receivables=-233000000.0, change_in_inventory=597000000.0, change_in_account_payable=194000000.0, change_in_other_working_capital=159000000.0, change_in_other_non_cash_items=5000000.0, net_cash_from_operating_activities=4761000000.0, purchase_of_property_plant_and_equipment=-489000000.0, acquisitions=9000000.0, purchase_of_investment_securities=-1475000000.0, sale_and_maturity_of_investments=8109000000.0, other_investing_activities=-9000000.0, net_cash_from_investing_activities=6145000000.0, repayment_of_debt=-149000000.0, issuance_of_common_equity=149000000.0, repurchase_of_common_equity=-1579000000.0, payment_of_dividends=-390000000.0, other_financing_activities=1177000000.0, net_cash_from_financing_activities=-792000000.0, effect_of_exchange_rate_changes_on_cash=None, net_change_in_cash_and_equivalents=10114000000.0, cash_at_beginning_of_period=782000000.0, cash_at_end_of_period=10896000000.0, operating_cash_flow=4761000000.0, capital_expenditure=-489000000.0, free_cash_flow=4272000000.0, link=https://www.sec.gov/Archives/edgar/data/1045810/000104581020000010/0001045810-20-000010-index.htm, final_link=https://www.sec.gov/Archives/edgar/data/1045810/000104581020000010/nvda-2020x10k.htm)] provider=\\'fmp\\' warnings=None chart=None extra={\\'metadata\\': Metadata\\n\\narguments: {\\'provider_choices\\': {\\'provider\\': \\'fmp\\'}, \\'standard_params\\': {\\'symbol\\': \\'NVDA\\', \\'period\\': \\'annual\\', \\'limit\\': 5}, \\'extra_params\\': {}}\\nduration: 130691208\\nroute: /equity/fundamental/cash\\ntimestamp: 2024-05-13 23:11:01.995625}'},\n",
       " 'get_income_statement_json': {'name': 'get_income_statement_json',\n",
       "  'description': 'Given a stock symbol, get the latest income statement data for the company in JSON format',\n",
       "  'openapi_path': '/api/v1/equity/fundamental/income',\n",
       "  'callable': <__main__.BB_agent_tool at 0x33bbd09d0>,\n",
       "  'parameters': {'symbol': {'type': 'string',\n",
       "    'description': 'The stock symbol.'}},\n",
       "  'example_parameters': [{'symbol': 'NVDA'}],\n",
       "  'tooldict': {'type': 'function',\n",
       "   'function': {'name': 'get_income_statement_json',\n",
       "    'description': 'Given a stock symbol, get the latest income statement data for the company in JSON format',\n",
       "    'parameters': {'type': 'object',\n",
       "     'properties': {'symbol': {'type': 'string',\n",
       "       'description': 'The stock symbol.'}},\n",
       "     'required': ['symbol']}}},\n",
       "  'example_str': 'get_income_statement_json(symbol=\"NVDA\") -> id=\\'06642d6f-416d-7d69-8000-1bc7d4bb5499\\' results=[FMPIncomeStatementData(period_ending=2024-01-28, fiscal_period=FY, fiscal_year=2024, filing_date=2024-02-21, accepted_date=2024-02-21 16:36:57, reported_currency=USD, revenue=60922000000.0, cost_of_revenue=16621000000.0, gross_profit=44301000000.0, gross_profit_margin=0.7271757329, general_and_admin_expense=None, research_and_development_expense=8675000000.0, selling_and_marketing_expense=None, selling_general_and_admin_expense=2654000000.0, other_expenses=237000000.0, total_operating_expenses=11329000000.0, cost_and_expenses=27950000000.0, interest_income=866000000.0, total_interest_expense=257000000.0, depreciation_and_amortization=1508000000.0, ebitda=34480000000.0, ebitda_margin=0.5659696005, total_operating_income=32972000000.0, operating_income_margin=0.5412166377, total_other_income_expenses=846000000.0, total_pre_tax_income=33818000000.0, pre_tax_income_margin=0.5551032468, income_tax_expense=4058000000.0, consolidated_net_income=29760000000.0, net_income_margin=0.4884934835, basic_earnings_per_share=12.05, diluted_earnings_per_share=11.93, weighted_average_basic_shares_outstanding=2469000000.0, weighted_average_diluted_shares_outstanding=2494000000.0, link=https://www.sec.gov/Archives/edgar/data/1045810/000104581024000029/0001045810-24-000029-index.htm, final_link=https://www.sec.gov/Archives/edgar/data/1045810/000104581024000029/nvda-20240128.htm), FMPIncomeStatementData(period_ending=2023-01-29, fiscal_period=FY, fiscal_year=2023, filing_date=2023-02-24, accepted_date=2023-02-24 17:23:43, reported_currency=USD, revenue=26974000000.0, cost_of_revenue=11618000000.0, gross_profit=15356000000.0, gross_profit_margin=0.5692889449, general_and_admin_expense=None, research_and_development_expense=7339000000.0, selling_and_marketing_expense=None, selling_general_and_admin_expense=2440000000.0, other_expenses=-48000000.0, total_operating_expenses=9779000000.0, cost_and_expenses=21397000000.0, interest_income=267000000.0, total_interest_expense=262000000.0, depreciation_and_amortization=1544000000.0, ebitda=7340000000.0, ebitda_margin=0.2721138874, total_operating_income=4224000000.0, operating_income_margin=0.1565952399, total_other_income_expenses=-1615000000.0, total_pre_tax_income=4181000000.0, pre_tax_income_margin=0.1550011122, income_tax_expense=-187000000.0, consolidated_net_income=4368000000.0, net_income_margin=0.1619337139, basic_earnings_per_share=1.76, diluted_earnings_per_share=1.74, weighted_average_basic_shares_outstanding=2487000000.0, weighted_average_diluted_shares_outstanding=2507000000.0, link=https://www.sec.gov/Archives/edgar/data/1045810/000104581023000017/0001045810-23-000017-index.htm, final_link=https://www.sec.gov/Archives/edgar/data/1045810/000104581023000017/nvda-20230129.htm), FMPIncomeStatementData(period_ending=2022-01-30, fiscal_period=FY, fiscal_year=2022, filing_date=2022-03-18, accepted_date=2022-03-17 20:33:34, reported_currency=USD, revenue=26914000000.0, cost_of_revenue=9439000000.0, gross_profit=17475000000.0, gross_profit_margin=0.6492903322, general_and_admin_expense=None, research_and_development_expense=5268000000.0, selling_and_marketing_expense=None, selling_general_and_admin_expense=2166000000.0, other_expenses=107000000.0, total_operating_expenses=7434000000.0, cost_and_expenses=16873000000.0, interest_income=29000000.0, total_interest_expense=236000000.0, depreciation_and_amortization=1310000000.0, ebitda=11351000000.0, ebitda_margin=0.4217507617, total_operating_income=10041000000.0, operating_income_margin=0.3730772089, total_other_income_expenses=-100000000.0, total_pre_tax_income=9941000000.0, pre_tax_income_margin=0.3693616705, income_tax_expense=189000000.0, consolidated_net_income=9752000000.0, net_income_margin=0.362339303, basic_earnings_per_share=3.91, diluted_earnings_per_share=3.85, weighted_average_basic_shares_outstanding=2496000000.0, weighted_average_diluted_shares_outstanding=2535000000.0, link=https://www.sec.gov/Archives/edgar/data/1045810/000104581022000036/0001045810-22-000036-index.htm, final_link=https://www.sec.gov/Archives/edgar/data/1045810/000104581022000036/nvda-20220130.htm), FMPIncomeStatementData(period_ending=2021-01-31, fiscal_period=FY, fiscal_year=2021, filing_date=2021-02-26, accepted_date=2021-02-26 17:03:14, reported_currency=USD, revenue=16675000000.0, cost_of_revenue=6279000000.0, gross_profit=10396000000.0, gross_profit_margin=0.6234482759, general_and_admin_expense=None, research_and_development_expense=3924000000.0, selling_and_marketing_expense=None, selling_general_and_admin_expense=1940000000.0, other_expenses=4000000.0, total_operating_expenses=5864000000.0, cost_and_expenses=12143000000.0, interest_income=57000000.0, total_interest_expense=184000000.0, depreciation_and_amortization=1159000000.0, ebitda=5691000000.0, ebitda_margin=0.3412893553, total_operating_income=4532000000.0, operating_income_margin=0.2717841079, total_other_income_expenses=-123000000.0, total_pre_tax_income=4409000000.0, pre_tax_income_margin=0.2644077961, income_tax_expense=77000000.0, consolidated_net_income=4332000000.0, net_income_margin=0.2597901049, basic_earnings_per_share=1.76, diluted_earnings_per_share=1.72, weighted_average_basic_shares_outstanding=2468000000.0, weighted_average_diluted_shares_outstanding=2512000000.0, link=https://www.sec.gov/Archives/edgar/data/1045810/000104581021000010/0001045810-21-000010-index.htm, final_link=https://www.sec.gov/Archives/edgar/data/1045810/000104581021000010/nvda-20210131.htm), FMPIncomeStatementData(period_ending=2020-01-26, fiscal_period=FY, fiscal_year=2020, filing_date=2020-02-20, accepted_date=2020-02-20 16:38:18, reported_currency=USD, revenue=10918000000.0, cost_of_revenue=4150000000.0, gross_profit=6768000000.0, gross_profit_margin=0.6198937534, general_and_admin_expense=None, research_and_development_expense=2829000000.0, selling_and_marketing_expense=None, selling_general_and_admin_expense=1093000000.0, other_expenses=-2000000.0, total_operating_expenses=3922000000.0, cost_and_expenses=8072000000.0, interest_income=178000000.0, total_interest_expense=52000000.0, depreciation_and_amortization=557000000.0, ebitda=3403000000.0, ebitda_margin=0.3116871222, total_operating_income=2846000000.0, operating_income_margin=0.2606704525, total_other_income_expenses=124000000.0, total_pre_tax_income=2970000000.0, pre_tax_income_margin=0.2720278439, income_tax_expense=174000000.0, consolidated_net_income=2796000000.0, net_income_margin=0.2560908591, basic_earnings_per_share=1.15, diluted_earnings_per_share=1.13, weighted_average_basic_shares_outstanding=2436000000.0, weighted_average_diluted_shares_outstanding=2472000000.0, link=https://www.sec.gov/Archives/edgar/data/1045810/000104581020000010/0001045810-20-000010-index.htm, final_link=https://www.sec.gov/Archives/edgar/data/1045810/000104581020000010/nvda-2020x10k.htm)] provider=\\'fmp\\' warnings=None chart=None extra={\\'metadata\\': Metadata\\n\\narguments: {\\'provider_choices\\': {\\'provider\\': \\'fmp\\'}, \\'standard_params\\': {\\'symbol\\': \\'NVDA\\', \\'period\\': \\'annual\\', \\'limit\\': 5}, \\'extra_params\\': {}}\\nduration: 138185791\\nroute: /equity/fundamental/income\\ntimestamp: 2024-05-13 23:13:55.953882}'},\n",
       " 'get_fundamental_metrics_json': {'name': 'get_fundamental_metrics_json',\n",
       "  'description': 'Given a stock symbol, get fundamental metrics for the company in JSON format.',\n",
       "  'openapi_path': '/api/v1/equity/fundamental/metrics',\n",
       "  'callable': <__main__.BB_agent_tool at 0x3300bb710>,\n",
       "  'parameters': {'symbol': {'type': 'string',\n",
       "    'description': 'The stock symbol.'}},\n",
       "  'example_parameters': [{'symbol': 'NVDA'}],\n",
       "  'tooldict': {'type': 'function',\n",
       "   'function': {'name': 'get_fundamental_metrics_json',\n",
       "    'description': 'Given a stock symbol, get fundamental metrics for the company in JSON format.',\n",
       "    'parameters': {'type': 'object',\n",
       "     'properties': {'symbol': {'type': 'string',\n",
       "       'description': 'The stock symbol.'}},\n",
       "     'required': ['symbol']}}},\n",
       "  'example_str': 'get_fundamental_metrics_json(symbol=\"NVDA\") -> id=\\'06642d75-064b-744a-8000-6360394bba75\\' results=[FinvizKeyMetricsData(symbol=NVDA, market_cap=2259970000000.0, pe_ratio=75.73, foward_pe=29.11, eps=11.94, price_to_sales=37.1, price_to_book=51.83, book_value_per_share=17.44, price_to_cash=86.98, cash_per_share=10.39, price_to_free_cash_flow=83.64, debt_to_equity=0.26, long_term_debt_to_equity=0.22, quick_ratio=3.67, current_ratio=4.17, gross_margin=0.7272, profit_margin=0.4885, operating_margin=0.5412, return_on_assets=0.5567, return_on_investment=0.5661999999999999, return_on_equity=0.9146, payout_ratio=0.0134, dividend_yield=None)] provider=\\'finviz\\' warnings=None chart=None extra={\\'metadata\\': Metadata\\n\\narguments: {\\'provider_choices\\': {\\'provider\\': \\'finviz\\'}, \\'standard_params\\': {\\'symbol\\': \\'NVDA\\', \\'period\\': \\'annual\\', \\'limit\\': 100}, \\'extra_params\\': {}}\\nduration: 193417625\\nroute: /equity/fundamental/metrics\\ntimestamp: 2024-05-13 23:15:28.201662}'},\n",
       " 'get_fundamental_ratios_json': {'name': 'get_fundamental_ratios_json',\n",
       "  'description': 'Given a stock symbol, get fundamental valuation ratios for the company in JSON format.',\n",
       "  'openapi_path': '/api/v1/equity/fundamental/ratios',\n",
       "  'callable': <__main__.BB_agent_tool at 0x33bf3fbd0>,\n",
       "  'parameters': {'symbol': {'type': 'string',\n",
       "    'description': 'The stock symbol.'}},\n",
       "  'example_parameters': [{'symbol': 'NVDA'}],\n",
       "  'tooldict': {'type': 'function',\n",
       "   'function': {'name': 'get_fundamental_ratios_json',\n",
       "    'description': 'Given a stock symbol, get fundamental valuation ratios for the company in JSON format.',\n",
       "    'parameters': {'type': 'object',\n",
       "     'properties': {'symbol': {'type': 'string',\n",
       "       'description': 'The stock symbol.'}},\n",
       "     'required': ['symbol']}}},\n",
       "  'example_str': 'get_fundamental_ratios_json(symbol=\"NVDA\") -> id=\\'06642d7a-65a9-7281-8000-97657494f664\\' results=[FMPFinancialRatiosData(period_ending=2024-01-28, fiscal_period=FY, fiscal_year=2024, current_ratio=4.171291505973097, quick_ratio=3.384723920609538, cash_ratio=0.6847897657793246, days_of_sales_outstanding=59.906683956534586, days_of_inventory_outstanding=115.99362252572048, operating_cycle=175.90030648225508, days_of_payables_outstanding=59.27050117321461, cash_conversion_cycle=116.62980530904046, gross_profit_margin=0.7271757329043695, operating_profit_margin=0.5412166376678376, pretax_profit_margin=0.5551032467745642, net_profit_margin=0.4884934834706674, effective_tax_rate=0.1199952687917677, return_on_assets=0.4527750730282376, return_on_equity=0.6924472986178976, return_on_capital_employed=0.5984354865056174, net_income_per_ebt=0.8800047312082323, ebt_per_ebit=1.025658134174451, ebit_per_revenue=0.5412166376678376, debt_ratio=0.15118366601752678, debt_equity_ratio=0.23121131741821396, long_term_debt_to_capitalization=0.16445360343721446, total_debt_to_capitalization=0.18779174147217234, interest_coverage=128.295719844358, cash_flow_to_debt_ratio=2.826808896045084, company_equity_multiplier=1.529340592861464, receivables_turnover=6.092809280928093, payables_turnover=6.158206743238236, inventory_turnover=3.1467247254827715, fixed_asset_turnover=11.58212927756654, asset_turnover=0.9268804771178188, operating_cash_flow_per_share=11.377075739165655, free_cash_flow_per_share=10.944106925880924, cash_per_share=10.524098825435399, payout_ratio=0.013272849462365592, operating_cash_flow_sales_ratio=0.4610813827517153, free_cash_flow_operating_cash_flow_ratio=0.9619437522249911, cash_flow_coverage_ratios=2.826808896045084, short_term_coverage_ratios=19.005412719891744, capital_expenditure_coverage_ratio=-26.27689429373246, dividend_paid_and_capex_coverage_ratio=-41.676557863501486, dividend_payout_ratio=0.013272849462365592, price_book_value_ratio=35.88489110707804, price_to_book_ratio=35.88489110707804, price_to_sales_ratio=25.315335182692625, price_earnings_ratio=51.823281249999994, price_to_free_cash_flows_ratio=57.076379482624624, price_to_operating_cash_flows_ratio=54.90426664293342, price_cash_flow_ratio=54.90426664293342, price_earnings_to_growth_ratio=0.08863845966958211, price_sales_ratio=25.315335182692625, dividend_yield=0.0002561175043767726, dividend_yield_percentage=None, dividend_per_share=None, enterprise_value_multiple=44.838655742459395, price_fair_value=35.88489110707804), FMPFinancialRatiosData(period_ending=2023-01-29, fiscal_period=FY, fiscal_year=2023, current_ratio=3.515617857687033, quick_ratio=2.6090202651226573, cash_ratio=0.516379704403474, days_of_sales_outstanding=51.78523763624231, days_of_inventory_outstanding=162.079101394388, operating_cycle=213.8643390306303, days_of_payables_outstanding=37.480203133069374, cash_conversion_cycle=176.38413589756092, gross_profit_margin=0.5692889449099132, operating_profit_margin=0.1565952398606065, pretax_profit_margin=0.15500111218210127, net_profit_margin=0.16193371394676356, effective_tax_rate=-0.044726142071274816, return_on_assets=0.10606575688407557, return_on_equity=0.19763811592235644, return_on_capital_employed=0.12201392299026546, net_income_per_ebt=1.0447261420712748, ebt_per_ebit=0.9898200757575758, ebit_per_revenue=0.1565952398606065, debt_ratio=0.28786848623184885, debt_equity_ratio=0.5364010678249853, long_term_debt_to_capitalization=0.324252430746652, total_debt_to_capitalization=0.3491282836612086, interest_coverage=16.12213740458015, cash_flow_to_debt_ratio=0.4758329818641923, company_equity_multiplier=1.8633545993393965, receivables_turnover=7.04834073686961, payables_turnover=9.738474434199498, inventory_turnover=2.251986819150998, fixed_asset_turnover=5.567389060887513, asset_turnover=0.6549949006847652, operating_cash_flow_per_share=2.268194611982308, free_cash_flow_per_share=1.5311620426216326, cash_per_share=5.3462002412545235, payout_ratio=0.09111721611721611, operating_cash_flow_sales_ratio=0.20912730777786015, free_cash_flow_operating_cash_flow_ratio=0.675057613898245, cash_flow_coverage_ratios=0.4758329818641923, short_term_coverage_ratios=4.5128, capital_expenditure_coverage_ratio=-3.07746863066012, dividend_paid_and_capex_coverage_ratio=-3.9310104529616723, dividend_payout_ratio=0.09111721611721613, price_book_value_ratio=21.562777249898193, price_to_book_ratio=21.562777249898193, price_to_sales_ratio=17.667344109142135, price_earnings_ratio=109.10232142857144, price_to_free_cash_flows_ratio=125.14678046218488, price_to_operating_cash_flows_ratio=84.48128700585002, price_cash_flow_ratio=84.48128700585002, price_earnings_to_growth_ratio=-1.9841398920265783, price_sales_ratio=17.667344109142135, dividend_yield=0.0008351537797192516, dividend_yield_percentage=None, dividend_per_share=None, enterprise_value_multiple=66.07969209809265, price_fair_value=21.562777249898193), FMPFinancialRatiosData(period_ending=2022-01-30, fiscal_period=FY, fiscal_year=2022, current_ratio=6.650288350634371, quick_ratio=5.964936562860438, cash_ratio=0.4590542099192618, days_of_sales_outstanding=63.06197518020361, days_of_inventory_outstanding=100.73365822650705, operating_cycle=163.79563340671066, days_of_payables_outstanding=68.94745206059964, cash_conversion_cycle=94.84818134611102, gross_profit_margin=0.6492903321691313, operating_profit_margin=0.3730772088875678, pretax_profit_margin=0.36936167050605634, net_profit_margin=0.3623393029649996, effective_tax_rate=0.019012171813700834, return_on_assets=0.22069839545567702, return_on_equity=0.3664512250112731, return_on_capital_employed=0.2519572417946402, net_income_per_ebt=0.9809878281862991, ebt_per_ebit=0.9900408325863957, ebit_per_revenue=0.3730772088875678, debt_ratio=0.26774843279697647, debt_equity_ratio=0.44457387644671575, long_term_debt_to_capitalization=0.30515157053708974, total_debt_to_capitalization=0.30775433759071874, interest_coverage=42.54661016949152, cash_flow_to_debt_ratio=0.7698419406643564, company_equity_multiplier=1.6604163535247256, receivables_turnover=5.787956989247312, payables_turnover=5.29388670779585, inventory_turnover=3.62341650671785, fixed_asset_turnover=7.461602439700582, asset_turnover=0.6090931721999683, operating_cash_flow_per_share=3.6490384615384617, free_cash_flow_per_share=3.2580128205128207, cash_per_share=8.496794871794872, payout_ratio=0.040914684167350286, operating_cash_flow_sales_ratio=0.3384112357880657, free_cash_flow_operating_cash_flow_ratio=0.8928414580588494, cash_flow_coverage_ratios=0.7698419406643564, short_term_coverage_ratios=63.25, capital_expenditure_coverage_ratio=-9.331967213114755, dividend_paid_and_capex_coverage_ratio=-15.785095320623917, dividend_payout_ratio=0.040914684167350286, price_book_value_ratio=22.965976251315197, price_to_book_ratio=22.965976251315197, price_to_sales_ratio=22.708276733298653, price_earnings_ratio=62.671304347826094, price_to_free_cash_flows_ratio=75.15624200688637, price_to_operating_cash_flows_ratio=67.10260869565218, price_cash_flow_ratio=67.10260869565218, price_earnings_to_growth_ratio=0.5130302123356927, price_sales_ratio=22.708276733298653, dividend_yield=0.000652845582090865, dividend_yield_percentage=None, dividend_per_share=None, enterprise_value_multiple=54.69716853140692, price_fair_value=22.965976251315197), FMPFinancialRatiosData(period_ending=2021-01-31, fiscal_period=FY, fiscal_year=2021, current_ratio=4.090445859872611, quick_ratio=3.564331210191083, cash_ratio=0.21579617834394904, days_of_sales_outstanding=53.16851574212893, days_of_inventory_outstanding=106.14588310240485, operating_cycle=159.3143988445338, days_of_payables_outstanding=69.81446090141743, cash_conversion_cycle=89.49993794311636, gross_profit_margin=0.623448275862069, operating_profit_margin=0.271784107946027, pretax_profit_margin=0.26440779610194903, net_profit_margin=0.25979010494752625, effective_tax_rate=0.017464277613971423, return_on_assets=0.1504636865687194, return_on_equity=0.2564375776949032, return_on_capital_employed=0.18225689696774713, net_income_per_ebt=0.9825357223860286, ebt_per_ebit=0.9728596646072374, ebit_per_revenue=0.271784107946027, debt_ratio=0.263867180716196, debt_equity_ratio=0.4497128988338365, long_term_debt_to_capitalization=0.280873526031246, total_debt_to_capitalization=0.3102082482645978, interest_coverage=24.630434782608695, cash_flow_to_debt_ratio=0.7663551401869159, company_equity_multiplier=1.7043153969099627, receivables_turnover=6.864965006175381, payables_turnover=5.228143213988343, inventory_turnover=3.4386637458926614, fixed_asset_turnover=5.83858543417367, asset_turnover=0.5791740474453823, operating_cash_flow_per_share=2.358995137763371, free_cash_flow_per_share=1.9019448946515398, cash_per_share=4.684359805510534, payout_ratio=0.09118190212373038, operating_cash_flow_sales_ratio=0.34914542728635684, free_cash_flow_operating_cash_flow_ratio=0.8062521470285126, cash_flow_coverage_ratios=0.7663551401869159, short_term_coverage_ratios=5.827827827827828, capital_expenditure_coverage_ratio=-5.161347517730497, dividend_paid_and_capex_coverage_ratio=-7.942701227830832, dividend_payout_ratio=0.09118190212373038, price_book_value_ratio=19.338729651334873, price_to_book_ratio=19.338729651334873, price_to_sales_ratio=19.591553823088457, price_earnings_ratio=75.41301015697138, price_to_free_cash_flows_ratio=69.59717937792927, price_to_operating_cash_flows_ratio=56.112875300583994, price_cash_flow_ratio=56.112875300583994, price_earnings_to_growth_ratio=1.4217206832871652, price_sales_ratio=19.591553823088457, dividend_yield=0.0012091004182691583, dividend_yield_percentage=None, dividend_per_share=None, enterprise_value_multiple=58.590609734668774, price_fair_value=19.338729651334873), FMPFinancialRatiosData(period_ending=2020-01-26, fiscal_period=FY, fiscal_year=2020, current_ratio=7.673766816143497, quick_ratio=7.036995515695067, cash_ratio=6.1076233183856505, days_of_sales_outstanding=55.39521890456127, days_of_inventory_outstanding=86.10481927710843, operating_cycle=141.5000381816697, days_of_payables_outstanding=60.42289156626506, cash_conversion_cycle=81.07714661540464, gross_profit_margin=0.619893753434695, operating_profit_margin=0.2606704524638212, pretax_profit_margin=0.27202784392745927, net_profit_margin=0.2560908591317091, effective_tax_rate=0.05858585858585859, return_on_assets=0.16147848686110308, return_on_equity=0.22910521140609635, return_on_capital_employed=0.18324641040499645, net_income_per_ebt=0.9414141414141414, ebt_per_ebit=1.0435699226985242, ebit_per_revenue=0.2606704524638212, debt_ratio=0.15264221773029166, debt_equity_ratio=0.2165683382497542, long_term_debt_to_capitalization=0.17294659799403633, total_debt_to_capitalization=0.17801576075974945, interest_coverage=54.73076923076923, cash_flow_to_debt_ratio=1.8013620885357549, company_equity_multiplier=1.4187971156997705, receivables_turnover=6.589016294508148, payables_turnover=6.04075691411936, inventory_turnover=4.239019407558733, fixed_asset_turnover=4.7635253054101225, asset_turnover=0.630551544903263, operating_cash_flow_per_share=1.9544334975369457, free_cash_flow_per_share=1.7536945812807883, cash_per_share=4.473316912972085, payout_ratio=0.13948497854077252, operating_cash_flow_sales_ratio=0.43606887708371495, free_cash_flow_operating_cash_flow_ratio=0.8972904851921865, cash_flow_coverage_ratios=1.8013620885357549, short_term_coverage_ratios=52.31868131868132, capital_expenditure_coverage_ratio=-9.736196319018404, dividend_paid_and_capex_coverage_ratio=-48.09090909090909, dividend_payout_ratio=0.13948497854077252, price_book_value_ratio=11.98638151425762, price_to_book_ratio=11.98638151425762, price_to_sales_ratio=13.39822311778714, price_earnings_ratio=52.31824034334763, price_to_free_cash_flows_ratio=34.24199438202247, price_to_operating_cash_flows_ratio=30.72501575299307, price_cash_flow_ratio=30.72501575299307, price_earnings_to_growth_ratio=-1.6171092469761992, price_sales_ratio=13.39822311778714, dividend_yield=0.002666086963655082, dividend_yield_percentage=None, dividend_per_share=None, enterprise_value_multiple=40.53417572729944, price_fair_value=11.98638151425762)] provider=\\'fmp\\' warnings=None chart=None extra={\\'metadata\\': Metadata\\n\\narguments: {\\'provider_choices\\': {\\'provider\\': \\'fmp\\'}, \\'standard_params\\': {\\'symbol\\': \\'NVDA\\', \\'period\\': \\'annual\\', \\'limit\\': 12}, \\'extra_params\\': {}}\\nduration: 102130959\\nroute: /equity/fundamental/ratios\\ntimestamp: 2024-05-13 23:16:54.254216}'},\n",
       " 'get_equity_fundamental_multiples': {'name': 'get_equity_fundamental_multiples',\n",
       "  'description': 'Given a stock symbol, get fundamental valuation multiples for the company in JSON format.',\n",
       "  'openapi_path': '/api/v1/equity/fundamental/multiples',\n",
       "  'callable': <__main__.BB_agent_tool at 0x33304fb10>,\n",
       "  'parameters': {'symbol': {'type': 'string',\n",
       "    'description': 'The stock symbol.'}},\n",
       "  'example_parameters': [{'symbol': 'NVDA'}],\n",
       "  'tooldict': {'type': 'function',\n",
       "   'function': {'name': 'get_equity_fundamental_multiples',\n",
       "    'description': 'Given a stock symbol, get fundamental valuation multiples for the company in JSON format.',\n",
       "    'parameters': {'type': 'object',\n",
       "     'properties': {'symbol': {'type': 'string',\n",
       "       'description': 'The stock symbol.'}},\n",
       "     'required': ['symbol']}}},\n",
       "  'example_str': 'get_equity_fundamental_multiples(symbol=\"NVDA\") -> id=\\'06642d7f-09b8-722b-8000-ae7d1801ec39\\' results=[FMPEquityValuationMultiplesData(symbol=NVDA, revenue_per_share_ttm=24.704785077047852, net_income_per_share_ttm=12.06772100567721, operating_cash_flow_per_share_ttm=11.390916463909164, free_cash_flow_per_share_ttm=10.95742092457421, cash_per_share_ttm=10.53690186536902, book_value_per_share_ttm=17.42822384428224, tangible_book_value_per_share_ttm=15.180859691808596, shareholders_equity_per_share_ttm=17.42822384428224, interest_debt_per_share_ttm=4.133819951338199, market_cap_ttm=2259975000000.0, enterprise_value_ttm=2263751000000.0, pe_ratio_ttm=74.90975301589435, price_to_sales_ratio_ttm=37.09620498342142, pocf_ratio_ttm=79.36060306158775, pfcf_ratio_ttm=83.6377262129455, pb_ratio_ttm=51.869313136953785, ptb_ratio_ttm=51.869313136953785, ev_to_sales_ttm=37.15818587702308, enterprise_value_over_ebitda_ttm=65.6540313225058, ev_to_operating_cash_flow_ttm=80.58921324314703, ev_to_free_cash_flow_ttm=83.77746937567078, earnings_yield_ttm=0.013349396570401455, free_cash_flow_yield_ttm=0.011956326950519364, debt_to_equity_ttm=0.23121131741821396, debt_to_assets_ttm=0.15118366601752678, net_debt_to_ebitda_ttm=0.10951276102088167, current_ratio_ttm=4.171291505973097, interest_coverage_ttm=128.295719844358, income_quality_ttm=0.9439161262139185, dividend_yield_ttm=0.00017699310833084437, dividend_yield_percentage_ttm=0.017699310833084438, dividend_to_market_cap_ttm=0.004396951293709001, dividend_per_share_ttm=0.16, payout_ratio_ttm=0.013273295473638227, sales_general_and_administrative_to_revenue_ttm=0.0, research_and_development_to_revenue_ttm=0.14237877942286858, intangibles_to_total_assets_ttm=0.08431718597857839, capex_to_operating_cash_flow_ttm=-0.0380562477750089, capex_to_revenue_ttm=-0.017547027346442992, capex_to_depreciation_ttm=-0.7088859416445623, stock_based_compensation_to_revenue_ttm=0.05825481763566528, graham_number_ttm=68.79081491732023, roic_ttm=0.5483235569056292, return_on_tangible_assets_ttm=0.4944505366696574, graham_net_net_ttm=5.42345904298459, working_capital_ttm=33714000000.0, tangible_asset_value_ttm=37436000000.0, net_current_asset_value_ttm=21595000000.0, invested_capital_ttm=0.23121131741821396, average_receivables_ttm=9154000000.0, average_payables_ttm=2539500000.0, average_inventory_ttm=5030500000.0, days_sales_outstanding_ttm=59.906683956534586, days_payables_outstanding_ttm=59.27050117321461, days_of_inventory_on_hand_ttm=115.99362252572048, receivables_turnover_ttm=6.092809280928093, payables_turnover_ttm=6.158206743238236, inventory_turnover_ttm=3.1467247254827715, roe_ttm=0.928054637310547, capex_per_share_ttm=-0.4334955393349554)] provider=\\'fmp\\' warnings=None chart=None extra={\\'metadata\\': Metadata\\n\\narguments: {\\'provider_choices\\': {\\'provider\\': \\'fmp\\'}, \\'standard_params\\': {\\'symbol\\': \\'NVDA\\'}, \\'extra_params\\': {}}\\nduration: 183493792\\nroute: /equity/fundamental/multiples\\ntimestamp: 2024-05-13 23:18:08.427483}'},\n",
       " 'get_equity_fundamental_dividend': {'name': 'get_equity_fundamental_dividend',\n",
       "  'description': 'Given a stock symbol, get the latest dividend data for the company in JSON format.',\n",
       "  'openapi_path': '/api/v1/equity/fundamental/dividends',\n",
       "  'callable': <__main__.BB_agent_tool at 0x32c409bd0>,\n",
       "  'parameters': {'symbol': {'type': 'string',\n",
       "    'description': 'The stock symbol.'}},\n",
       "  'example_parameters': [{'symbol': 'NVDA'}],\n",
       "  'tooldict': {'type': 'function',\n",
       "   'function': {'name': 'get_equity_fundamental_dividend',\n",
       "    'description': 'Given a stock symbol, get the latest dividend data for the company in JSON format.',\n",
       "    'parameters': {'type': 'object',\n",
       "     'properties': {'symbol': {'type': 'string',\n",
       "       'description': 'The stock symbol.'}},\n",
       "     'required': ['symbol']}}},\n",
       "  'example_str': 'get_equity_fundamental_dividend(symbol=\"NVDA\") -> id=\\'06642d93-c1ef-7859-8000-93903fbff9ba\\' results=[FMPHistoricalDividendsData(ex_dividend_date=2024-03-05, amount=0.04, label=March 05, 24, adj_dividend=0.04, record_date=2024-03-06, payment_date=2024-03-27, declaration_date=2024-02-21), FMPHistoricalDividendsData(ex_dividend_date=2023-12-05, amount=0.04, label=December 05, 23, adj_dividend=0.04, record_date=2023-12-06, payment_date=2023-12-28, declaration_date=2023-11-21), FMPHistoricalDividendsData(ex_dividend_date=2023-09-06, amount=0.04, label=September 06, 23, adj_dividend=0.04, record_date=2023-09-07, payment_date=2023-09-28, declaration_date=2023-08-23), FMPHistoricalDividendsData(ex_dividend_date=2023-06-07, amount=0.04, label=June 07, 23, adj_dividend=0.04, record_date=2023-06-08, payment_date=2023-06-30, declaration_date=2023-05-24), FMPHistoricalDividendsData(ex_dividend_date=2023-03-07, amount=0.04, label=March 07, 23, adj_dividend=0.04, record_date=2023-03-08, payment_date=2023-03-29, declaration_date=2023-02-22), FMPHistoricalDividendsData(ex_dividend_date=2022-11-30, amount=0.04, label=November 30, 22, adj_dividend=0.04, record_date=2022-12-01, payment_date=2022-12-22, declaration_date=2022-11-16), FMPHistoricalDividendsData(ex_dividend_date=2022-09-07, amount=0.04, label=September 07, 22, adj_dividend=0.04, record_date=2022-09-08, payment_date=2022-09-29, declaration_date=2022-08-24), FMPHistoricalDividendsData(ex_dividend_date=2022-06-08, amount=0.04, label=June 08, 22, adj_dividend=0.04, record_date=2022-06-09, payment_date=2022-07-01, declaration_date=2022-05-25), FMPHistoricalDividendsData(ex_dividend_date=2022-03-02, amount=0.04, label=March 02, 22, adj_dividend=0.04, record_date=2022-03-03, payment_date=2022-03-24, declaration_date=2022-02-16), FMPHistoricalDividendsData(ex_dividend_date=2021-12-01, amount=0.04, label=December 01, 21, adj_dividend=0.04, record_date=2021-12-02, payment_date=2021-12-23, declaration_date=2021-11-17), FMPHistoricalDividendsData(ex_dividend_date=2021-08-31, amount=0.04, label=August 31, 21, adj_dividend=0.04, record_date=2021-09-01, payment_date=2021-09-23, declaration_date=2021-08-18), FMPHistoricalDividendsData(ex_dividend_date=2021-06-09, amount=0.16, label=June 09, 21, adj_dividend=0.04, record_date=2021-06-10, payment_date=2021-07-01, declaration_date=2021-05-26), FMPHistoricalDividendsData(ex_dividend_date=2021-03-09, amount=0.16, label=March 09, 21, adj_dividend=0.04, record_date=2021-03-10, payment_date=2021-03-31, declaration_date=2021-02-24), FMPHistoricalDividendsData(ex_dividend_date=2020-12-03, amount=0.16, label=December 03, 20, adj_dividend=0.04, record_date=2020-12-04, payment_date=2020-12-29, declaration_date=2020-11-18), FMPHistoricalDividendsData(ex_dividend_date=2020-09-01, amount=0.16, label=September 01, 20, adj_dividend=0.04, record_date=2020-09-02, payment_date=2020-09-24, declaration_date=2020-08-19), FMPHistoricalDividendsData(ex_dividend_date=2020-06-04, amount=0.16, label=June 04, 20, adj_dividend=0.04, record_date=2020-06-05, payment_date=2020-06-26, declaration_date=2020-05-22), FMPHistoricalDividendsData(ex_dividend_date=2020-02-27, amount=0.16, label=February 27, 20, adj_dividend=0.04, record_date=2020-02-28, payment_date=2020-03-20, declaration_date=2020-02-13), FMPHistoricalDividendsData(ex_dividend_date=2019-11-27, amount=0.16, label=November 27, 19, adj_dividend=0.04, record_date=2019-11-29, payment_date=2019-12-20, declaration_date=2019-11-14), FMPHistoricalDividendsData(ex_dividend_date=2019-08-28, amount=0.16, label=August 28, 19, adj_dividend=0.04, record_date=2019-08-29, payment_date=2019-09-20, declaration_date=2019-08-15), FMPHistoricalDividendsData(ex_dividend_date=2019-05-30, amount=0.16, label=May 30, 19, adj_dividend=0.04, record_date=2019-05-31, payment_date=2019-06-21, declaration_date=2019-05-16), FMPHistoricalDividendsData(ex_dividend_date=2019-02-28, amount=0.16, label=February 28, 19, adj_dividend=0.04, record_date=2019-03-01, payment_date=2019-03-22, declaration_date=2019-02-13), FMPHistoricalDividendsData(ex_dividend_date=2018-11-29, amount=0.16, label=November 29, 18, adj_dividend=0.04, record_date=2018-11-30, payment_date=2018-12-21, declaration_date=2018-11-15), FMPHistoricalDividendsData(ex_dividend_date=2018-08-29, amount=0.15, label=August 29, 18, adj_dividend=0.0375, record_date=2018-08-30, payment_date=2018-09-21, declaration_date=2018-08-16), FMPHistoricalDividendsData(ex_dividend_date=2018-05-23, amount=0.15, label=May 23, 18, adj_dividend=0.0375, record_date=2018-05-24, payment_date=2018-06-15, declaration_date=2018-05-10), FMPHistoricalDividendsData(ex_dividend_date=2018-02-22, amount=0.15, label=February 22, 18, adj_dividend=0.0375, record_date=2018-02-23, payment_date=2018-03-16, declaration_date=2018-02-08), FMPHistoricalDividendsData(ex_dividend_date=2017-11-22, amount=0.15, label=November 22, 17, adj_dividend=0.0375, record_date=2017-11-24, payment_date=2017-12-15, declaration_date=2017-11-09), FMPHistoricalDividendsData(ex_dividend_date=2017-08-22, amount=0.14, label=August 22, 17, adj_dividend=0.035, record_date=2017-08-24, payment_date=2017-09-18, declaration_date=2017-08-11), FMPHistoricalDividendsData(ex_dividend_date=2017-05-19, amount=0.14, label=May 19, 17, adj_dividend=0.035, record_date=2017-05-23, payment_date=2017-06-14, declaration_date=2017-05-10), FMPHistoricalDividendsData(ex_dividend_date=2017-02-22, amount=0.14, label=February 22, 17, adj_dividend=0.035, record_date=2017-02-24, payment_date=2017-03-17, declaration_date=2017-02-10), FMPHistoricalDividendsData(ex_dividend_date=2016-11-23, amount=0.14, label=November 23, 16, adj_dividend=0.035, record_date=2016-11-28, payment_date=2016-12-19, declaration_date=2016-11-11), FMPHistoricalDividendsData(ex_dividend_date=2016-08-23, amount=0.115, label=August 23, 16, adj_dividend=0.02875, record_date=2016-08-25, payment_date=2016-09-16, declaration_date=2016-08-12), FMPHistoricalDividendsData(ex_dividend_date=2016-05-24, amount=0.115, label=May 24, 16, adj_dividend=0.02875, record_date=2016-05-26, payment_date=2016-06-20, declaration_date=2016-05-13), FMPHistoricalDividendsData(ex_dividend_date=2016-02-29, amount=0.115, label=February 29, 16, adj_dividend=0.02875, record_date=2016-03-02, payment_date=2016-03-23, declaration_date=2016-02-18), FMPHistoricalDividendsData(ex_dividend_date=2015-11-18, amount=0.115, label=November 18, 15, adj_dividend=0.02875, record_date=2015-11-20, payment_date=2015-12-14, declaration_date=2015-11-06), FMPHistoricalDividendsData(ex_dividend_date=2015-08-18, amount=0.0975, label=August 18, 15, adj_dividend=0.0245, record_date=2015-08-20, payment_date=2015-09-11, declaration_date=2015-08-07), FMPHistoricalDividendsData(ex_dividend_date=2015-05-19, amount=0.0975, label=May 19, 15, adj_dividend=0.0245, record_date=2015-05-21, payment_date=2015-06-12, declaration_date=2015-05-08), FMPHistoricalDividendsData(ex_dividend_date=2015-02-24, amount=0.085, label=February 24, 15, adj_dividend=0.02125, record_date=2015-02-26, payment_date=2015-03-19, declaration_date=2015-02-12), FMPHistoricalDividendsData(ex_dividend_date=2014-11-19, amount=0.085, label=November 19, 14, adj_dividend=0.02125, record_date=2014-11-21, payment_date=2014-12-15, declaration_date=2014-11-07), FMPHistoricalDividendsData(ex_dividend_date=2014-08-19, amount=0.085, label=August 19, 14, adj_dividend=0.02125, record_date=2014-08-21, payment_date=2014-09-12, declaration_date=2014-08-08), FMPHistoricalDividendsData(ex_dividend_date=2014-05-20, amount=0.085, label=May 20, 14, adj_dividend=0.02125, record_date=2014-05-22, payment_date=2014-06-13, declaration_date=2014-05-09), FMPHistoricalDividendsData(ex_dividend_date=2014-02-25, amount=0.085, label=February 25, 14, adj_dividend=0.02125, record_date=2014-02-27, payment_date=2014-03-20, declaration_date=2014-02-12), FMPHistoricalDividendsData(ex_dividend_date=2013-11-19, amount=0.085, label=November 19, 13, adj_dividend=0.02125, record_date=2013-11-21, payment_date=2013-12-13, declaration_date=2013-11-08), FMPHistoricalDividendsData(ex_dividend_date=2013-08-20, amount=0.075, label=August 20, 13, adj_dividend=0.01875, record_date=2013-08-22, payment_date=2013-09-13, declaration_date=2013-08-09), FMPHistoricalDividendsData(ex_dividend_date=2013-05-21, amount=0.075, label=May 21, 13, adj_dividend=0.01875, record_date=2013-05-23, payment_date=2013-06-14, declaration_date=2013-05-09), FMPHistoricalDividendsData(ex_dividend_date=2013-02-26, amount=0.075, label=February 26, 13, adj_dividend=0.01875, record_date=2013-02-28, payment_date=2013-03-21, declaration_date=2013-02-13), FMPHistoricalDividendsData(ex_dividend_date=2012-11-20, amount=0.075, label=November 20, 12, adj_dividend=0.01875, record_date=2012-11-23, payment_date=2012-12-14, declaration_date=2012-11-08)] provider=\\'fmp\\' warnings=None chart=None extra={\\'metadata\\': Metadata\\n\\narguments: {\\'provider_choices\\': {\\'provider\\': \\'fmp\\'}, \\'standard_params\\': {\\'symbol\\': \\'NVDA\\', \\'start_date\\': None, \\'end_date\\': None}, \\'extra_params\\': {}}\\nduration: 122957833\\nroute: /equity/fundamental/dividends\\ntimestamp: 2024-05-13 23:23:40.000534}'},\n",
       " 'get_trailing_dividend_yield_json': {'name': 'get_trailing_dividend_yield_json',\n",
       "  'description': 'Given a stock symbol, get the 1 year trailing dividend yield for the company over time in JSON format.',\n",
       "  'openapi_path': '/api/v1/equity/fundamental/trailing_dividend_yield',\n",
       "  'callable': <__main__.BB_agent_tool at 0x33a340b50>,\n",
       "  'parameters': {'symbol': {'type': 'string',\n",
       "    'description': 'The stock symbol.'}},\n",
       "  'example_parameters': [{'symbol': 'NVDA'}],\n",
       "  'tooldict': {'type': 'function',\n",
       "   'function': {'name': 'get_trailing_dividend_yield_json',\n",
       "    'description': 'Given a stock symbol, get the 1 year trailing dividend yield for the company over time in JSON format.',\n",
       "    'parameters': {'type': 'object',\n",
       "     'properties': {'symbol': {'type': 'string',\n",
       "       'description': 'The stock symbol.'}},\n",
       "     'required': ['symbol']}}},\n",
       "  'example_str': 'get_trailing_dividend_yield_json(symbol=\"NVDA\") -> id=\\'06642d9a-f08a-704d-8000-93545d734860\\' results=[TiingoTrailingDivYieldData(date=2023-05-12, trailing_dividend_yield=0.000564573), TiingoTrailingDivYieldData(date=2023-05-15, trailing_dividend_yield=0.0005526198), TiingoTrailingDivYieldData(date=2023-05-16, trailing_dividend_yield=0.0005477014), TiingoTrailingDivYieldData(date=2023-05-17, trailing_dividend_yield=0.0005301876), TiingoTrailingDivYieldData(date=2023-05-18, trailing_dividend_yield=0.0005050824), TiingoTrailingDivYieldData(date=2023-05-19, trailing_dividend_yield=0.0005117707), TiingoTrailingDivYieldData(date=2023-05-22, trailing_dividend_yield=0.0005132153), TiingoTrailingDivYieldData(date=2023-05-23, trailing_dividend_yield=0.0005213764), TiingoTrailingDivYieldData(date=2023-05-24, trailing_dividend_yield=0.0005239374), TiingoTrailingDivYieldData(date=2023-05-25, trailing_dividend_yield=0.0004212744), TiingoTrailingDivYieldData(date=2023-05-26, trailing_dividend_yield=0.0004108252), TiingoTrailingDivYieldData(date=2023-05-30, trailing_dividend_yield=0.0003988931), TiingoTrailingDivYieldData(date=2023-05-31, trailing_dividend_yield=0.0004229), TiingoTrailingDivYieldData(date=2023-06-01, trailing_dividend_yield=0.0004023133), TiingoTrailingDivYieldData(date=2023-06-02, trailing_dividend_yield=0.0004068452), TiingoTrailingDivYieldData(date=2023-06-05, trailing_dividend_yield=0.0004084654), TiingoTrailingDivYieldData(date=2023-06-06, trailing_dividend_yield=0.0004139287), TiingoTrailingDivYieldData(date=2023-06-07, trailing_dividend_yield=0.0005336891), TiingoTrailingDivYieldData(date=2023-06-08, trailing_dividend_yield=0.0005193456), TiingoTrailingDivYieldData(date=2023-06-09, trailing_dividend_yield=0.0004126902), TiingoTrailingDivYieldData(date=2023-06-12, trailing_dividend_yield=0.000405248), TiingoTrailingDivYieldData(date=2023-06-13, trailing_dividend_yield=0.0003900346), TiingoTrailingDivYieldData(date=2023-06-14, trailing_dividend_yield=0.000372119), TiingoTrailingDivYieldData(date=2023-06-15, trailing_dividend_yield=0.0003751202), TiingoTrailingDivYieldData(date=2023-06-16, trailing_dividend_yield=0.0003747775), TiingoTrailingDivYieldData(date=2023-06-20, trailing_dividend_yield=0.0003652301), TiingoTrailingDivYieldData(date=2023-06-21, trailing_dividend_yield=0.000371704), TiingoTrailingDivYieldData(date=2023-06-22, trailing_dividend_yield=0.0003718768), TiingoTrailingDivYieldData(date=2023-06-23, trailing_dividend_yield=0.0003790661), TiingoTrailingDivYieldData(date=2023-06-26, trailing_dividend_yield=0.0003937783), TiingoTrailingDivYieldData(date=2023-06-27, trailing_dividend_yield=0.0003820804), TiingoTrailingDivYieldData(date=2023-06-28, trailing_dividend_yield=0.0003891334), TiingoTrailingDivYieldData(date=2023-06-29, trailing_dividend_yield=0.0003919455), TiingoTrailingDivYieldData(date=2023-06-30, trailing_dividend_yield=0.0003782327), TiingoTrailingDivYieldData(date=2023-07-03, trailing_dividend_yield=0.0003772428), TiingoTrailingDivYieldData(date=2023-07-05, trailing_dividend_yield=0.0003780986), TiingoTrailingDivYieldData(date=2023-07-06, trailing_dividend_yield=0.0003800204), TiingoTrailingDivYieldData(date=2023-07-07, trailing_dividend_yield=0.000376444), TiingoTrailingDivYieldData(date=2023-07-10, trailing_dividend_yield=0.0003793267), TiingoTrailingDivYieldData(date=2023-07-11, trailing_dividend_yield=0.000377314), TiingoTrailingDivYieldData(date=2023-07-12, trailing_dividend_yield=0.0003644481), TiingoTrailingDivYieldData(date=2023-07-13, trailing_dividend_yield=0.0003480001), TiingoTrailingDivYieldData(date=2023-07-14, trailing_dividend_yield=0.0003518881), TiingoTrailingDivYieldData(date=2023-07-17, trailing_dividend_yield=0.0003443749), TiingoTrailingDivYieldData(date=2023-07-18, trailing_dividend_yield=0.0003368847), TiingoTrailingDivYieldData(date=2023-07-19, trailing_dividend_yield=0.0003398687), TiingoTrailingDivYieldData(date=2023-07-20, trailing_dividend_yield=0.0003514938), TiingoTrailingDivYieldData(date=2023-07-21, trailing_dividend_yield=0.0003611005), TiingoTrailingDivYieldData(date=2023-07-24, trailing_dividend_yield=0.0003586479), TiingoTrailingDivYieldData(date=2023-07-25, trailing_dividend_yield=0.0003502704), TiingoTrailingDivYieldData(date=2023-07-26, trailing_dividend_yield=0.0003520197), TiingoTrailingDivYieldData(date=2023-07-27, trailing_dividend_yield=0.0003485839), TiingoTrailingDivYieldData(date=2023-07-28, trailing_dividend_yield=0.000342246), TiingoTrailingDivYieldData(date=2023-07-31, trailing_dividend_yield=0.0003423998), TiingoTrailingDivYieldData(date=2023-08-01, trailing_dividend_yield=0.0003440342), TiingoTrailingDivYieldData(date=2023-08-02, trailing_dividend_yield=0.0003614267), TiingoTrailingDivYieldData(date=2023-08-03, trailing_dividend_yield=0.0003594294), TiingoTrailingDivYieldData(date=2023-08-04, trailing_dividend_yield=0.0003581021), TiingoTrailingDivYieldData(date=2023-08-07, trailing_dividend_yield=0.0003522949), TiingoTrailingDivYieldData(date=2023-08-08, trailing_dividend_yield=0.0003582303), TiingoTrailingDivYieldData(date=2023-08-09, trailing_dividend_yield=0.0003759929), TiingoTrailingDivYieldData(date=2023-08-10, trailing_dividend_yield=0.0003774653), TiingoTrailingDivYieldData(date=2023-08-11, trailing_dividend_yield=0.0003916289), TiingoTrailingDivYieldData(date=2023-08-14, trailing_dividend_yield=0.0003656892), TiingoTrailingDivYieldData(date=2023-08-15, trailing_dividend_yield=0.0003641329), TiingoTrailingDivYieldData(date=2023-08-16, trailing_dividend_yield=0.0003679345), TiingoTrailingDivYieldData(date=2023-08-17, trailing_dividend_yield=0.0003691442), TiingoTrailingDivYieldData(date=2023-08-18, trailing_dividend_yield=0.0003695235), TiingoTrailingDivYieldData(date=2023-08-21, trailing_dividend_yield=0.0003406647), TiingoTrailingDivYieldData(date=2023-08-22, trailing_dividend_yield=0.0003503547), TiingoTrailingDivYieldData(date=2023-08-23, trailing_dividend_yield=0.0003395874), TiingoTrailingDivYieldData(date=2023-08-24, trailing_dividend_yield=0.000339249), TiingoTrailingDivYieldData(date=2023-08-25, trailing_dividend_yield=0.00034769), TiingoTrailingDivYieldData(date=2023-08-28, trailing_dividend_yield=0.0003416249), TiingoTrailingDivYieldData(date=2023-08-29, trailing_dividend_yield=0.0003279764), TiingoTrailingDivYieldData(date=2023-08-30, trailing_dividend_yield=0.0003247808), TiingoTrailingDivYieldData(date=2023-08-31, trailing_dividend_yield=0.0003241819), TiingoTrailingDivYieldData(date=2023-09-01, trailing_dividend_yield=0.0003298357), TiingoTrailingDivYieldData(date=2023-09-05, trailing_dividend_yield=0.0003295707), TiingoTrailingDivYieldData(date=2023-09-06, trailing_dividend_yield=0.0004249803), TiingoTrailingDivYieldData(date=2023-09-07, trailing_dividend_yield=0.0004325166), TiingoTrailingDivYieldData(date=2023-09-08, trailing_dividend_yield=0.0003510928), TiingoTrailingDivYieldData(date=2023-09-11, trailing_dividend_yield=0.0003541547), TiingoTrailingDivYieldData(date=2023-09-12, trailing_dividend_yield=0.0003565857), TiingoTrailingDivYieldData(date=2023-09-13, trailing_dividend_yield=0.0003517643), TiingoTrailingDivYieldData(date=2023-09-14, trailing_dividend_yield=0.0003510235), TiingoTrailingDivYieldData(date=2023-09-15, trailing_dividend_yield=0.0003644647), TiingoTrailingDivYieldData(date=2023-09-18, trailing_dividend_yield=0.0003639176), TiingoTrailingDivYieldData(date=2023-09-19, trailing_dividend_yield=0.0003676471), TiingoTrailingDivYieldData(date=2023-09-20, trailing_dividend_yield=0.0003787968), TiingoTrailingDivYieldData(date=2023-09-21, trailing_dividend_yield=0.0003900822), TiingoTrailingDivYieldData(date=2023-09-22, trailing_dividend_yield=0.000384523), TiingoTrailingDivYieldData(date=2023-09-25, trailing_dividend_yield=0.0003789494), TiingoTrailingDivYieldData(date=2023-09-26, trailing_dividend_yield=0.0003817614), TiingoTrailingDivYieldData(date=2023-09-27, trailing_dividend_yield=0.0003767543), TiingoTrailingDivYieldData(date=2023-09-28, trailing_dividend_yield=0.0003713245), TiingoTrailingDivYieldData(date=2023-09-29, trailing_dividend_yield=0.0003678245), TiingoTrailingDivYieldData(date=2023-10-02, trailing_dividend_yield=0.0003572864), TiingoTrailingDivYieldData(date=2023-10-03, trailing_dividend_yield=0.0003676724), TiingoTrailingDivYieldData(date=2023-10-04, trailing_dividend_yield=0.0003632978), TiingoTrailingDivYieldData(date=2023-10-05, trailing_dividend_yield=0.000358038), TiingoTrailingDivYieldData(date=2023-10-06, trailing_dividend_yield=0.0003496351), TiingoTrailingDivYieldData(date=2023-10-09, trailing_dividend_yield=0.0003534115), TiingoTrailingDivYieldData(date=2023-10-10, trailing_dividend_yield=0.0003493602), TiingoTrailingDivYieldData(date=2023-10-11, trailing_dividend_yield=0.0003418365), TiingoTrailingDivYieldData(date=2023-10-12, trailing_dividend_yield=0.0003408244), TiingoTrailingDivYieldData(date=2023-10-13, trailing_dividend_yield=0.00035195), TiingoTrailingDivYieldData(date=2023-10-16, trailing_dividend_yield=0.0003471092), TiingoTrailingDivYieldData(date=2023-10-17, trailing_dividend_yield=0.0003641495), TiingoTrailingDivYieldData(date=2023-10-18, trailing_dividend_yield=0.0003791829), TiingoTrailingDivYieldData(date=2023-10-19, trailing_dividend_yield=0.0003800385), TiingoTrailingDivYieldData(date=2023-10-20, trailing_dividend_yield=0.0003865948), TiingoTrailingDivYieldData(date=2023-10-23, trailing_dividend_yield=0.0003723095), TiingoTrailingDivYieldData(date=2023-10-24, trailing_dividend_yield=0.000366443), TiingoTrailingDivYieldData(date=2023-10-25, trailing_dividend_yield=0.0003829675), TiingoTrailingDivYieldData(date=2023-10-26, trailing_dividend_yield=0.0003967664), TiingoTrailingDivYieldData(date=2023-10-27, trailing_dividend_yield=0.0003950617), TiingoTrailingDivYieldData(date=2023-10-30, trailing_dividend_yield=0.0003887175), TiingoTrailingDivYieldData(date=2023-10-31, trailing_dividend_yield=0.0003923492), TiingoTrailingDivYieldData(date=2023-11-01, trailing_dividend_yield=0.0003780272), TiingoTrailingDivYieldData(date=2023-11-02, trailing_dividend_yield=0.0003677654), TiingoTrailingDivYieldData(date=2023-11-03, trailing_dividend_yield=0.0003555161), TiingoTrailingDivYieldData(date=2023-11-06, trailing_dividend_yield=0.0003497191), TiingoTrailingDivYieldData(date=2023-11-07, trailing_dividend_yield=0.0003481667), TiingoTrailingDivYieldData(date=2023-11-08, trailing_dividend_yield=0.0003435393), TiingoTrailingDivYieldData(date=2023-11-09, trailing_dividend_yield=0.0003407881), TiingoTrailingDivYieldData(date=2023-11-10, trailing_dividend_yield=0.0003310231), TiingoTrailingDivYieldData(date=2023-11-13, trailing_dividend_yield=0.0003290827), TiingoTrailingDivYieldData(date=2023-11-14, trailing_dividend_yield=0.0003222169), TiingoTrailingDivYieldData(date=2023-11-15, trailing_dividend_yield=0.0003272787), TiingoTrailingDivYieldData(date=2023-11-16, trailing_dividend_yield=0.000323363), TiingoTrailingDivYieldData(date=2023-11-17, trailing_dividend_yield=0.0003245568), TiingoTrailingDivYieldData(date=2023-11-20, trailing_dividend_yield=0.0003174036), TiingoTrailingDivYieldData(date=2023-11-21, trailing_dividend_yield=0.0003203588), TiingoTrailingDivYieldData(date=2023-11-22, trailing_dividend_yield=0.0003284342), TiingoTrailingDivYieldData(date=2023-11-24, trailing_dividend_yield=0.0003348962), TiingoTrailingDivYieldData(date=2023-11-27, trailing_dividend_yield=0.0003316612), TiingoTrailingDivYieldData(date=2023-11-28, trailing_dividend_yield=0.000334581), TiingoTrailingDivYieldData(date=2023-11-29, trailing_dividend_yield=0.0003323639), TiingoTrailingDivYieldData(date=2023-11-30, trailing_dividend_yield=0.0003420996), TiingoTrailingDivYieldData(date=2023-12-01, trailing_dividend_yield=0.0002566022), TiingoTrailingDivYieldData(date=2023-12-04, trailing_dividend_yield=0.0002636783), TiingoTrailingDivYieldData(date=2023-12-05, trailing_dividend_yield=0.0003435983), TiingoTrailingDivYieldData(date=2023-12-06, trailing_dividend_yield=0.0003516252), TiingoTrailingDivYieldData(date=2023-12-07, trailing_dividend_yield=0.0003433771), TiingoTrailingDivYieldData(date=2023-12-08, trailing_dividend_yield=0.0003367996), TiingoTrailingDivYieldData(date=2023-12-11, trailing_dividend_yield=0.0003431488), TiingoTrailingDivYieldData(date=2023-12-12, trailing_dividend_yield=0.0003357324), TiingoTrailingDivYieldData(date=2023-12-13, trailing_dividend_yield=0.0003327233), TiingoTrailingDivYieldData(date=2023-12-14, trailing_dividend_yield=0.0003309204), TiingoTrailingDivYieldData(date=2023-12-15, trailing_dividend_yield=0.0003272653), TiingoTrailingDivYieldData(date=2023-12-18, trailing_dividend_yield=0.000319508), TiingoTrailingDivYieldData(date=2023-12-19, trailing_dividend_yield=0.0003225546), TiingoTrailingDivYieldData(date=2023-12-20, trailing_dividend_yield=0.0003325643), TiingoTrailingDivYieldData(date=2023-12-21, trailing_dividend_yield=0.0003265973), TiingoTrailingDivYieldData(date=2023-12-22, trailing_dividend_yield=0.0003276674), TiingoTrailingDivYieldData(date=2023-12-26, trailing_dividend_yield=0.0003246819), TiingoTrailingDivYieldData(date=2023-12-27, trailing_dividend_yield=0.0003237752), TiingoTrailingDivYieldData(date=2023-12-28, trailing_dividend_yield=0.0003230887), TiingoTrailingDivYieldData(date=2023-12-29, trailing_dividend_yield=0.0003230887), TiingoTrailingDivYieldData(date=2024-01-02, trailing_dividend_yield=0.0003321707), TiingoTrailingDivYieldData(date=2024-01-03, trailing_dividend_yield=0.0003363535), TiingoTrailingDivYieldData(date=2024-01-04, trailing_dividend_yield=0.0003333472), TiingoTrailingDivYieldData(date=2024-01-05, trailing_dividend_yield=0.0003258855), TiingoTrailingDivYieldData(date=2024-01-08, trailing_dividend_yield=0.0003062025), TiingoTrailingDivYieldData(date=2024-01-09, trailing_dividend_yield=0.0003010915), TiingoTrailingDivYieldData(date=2024-01-10, trailing_dividend_yield=0.0002943882), TiingoTrailingDivYieldData(date=2024-01-11, trailing_dividend_yield=0.0002918536), TiingoTrailingDivYieldData(date=2024-01-12, trailing_dividend_yield=0.0002924511), TiingoTrailingDivYieldData(date=2024-01-16, trailing_dividend_yield=0.0002837785), TiingoTrailingDivYieldData(date=2024-01-17, trailing_dividend_yield=0.0002854441), TiingoTrailingDivYieldData(date=2024-01-18, trailing_dividend_yield=0.0002801758), TiingoTrailingDivYieldData(date=2024-01-19, trailing_dividend_yield=0.0002689482), TiingoTrailingDivYieldData(date=2024-01-22, trailing_dividend_yield=0.0002682134), TiingoTrailingDivYieldData(date=2024-01-23, trailing_dividend_yield=0.0002672323), TiingoTrailingDivYieldData(date=2024-01-24, trailing_dividend_yield=0.0002607477), TiingoTrailingDivYieldData(date=2024-01-25, trailing_dividend_yield=0.0002596686), TiingoTrailingDivYieldData(date=2024-01-26, trailing_dividend_yield=0.0002621619), TiingoTrailingDivYieldData(date=2024-01-29, trailing_dividend_yield=0.0002561434), TiingoTrailingDivYieldData(date=2024-01-30, trailing_dividend_yield=0.0002548826), TiingoTrailingDivYieldData(date=2024-01-31, trailing_dividend_yield=0.0002600484), TiingoTrailingDivYieldData(date=2024-02-01, trailing_dividend_yield=0.0002538595), TiingoTrailingDivYieldData(date=2024-02-02, trailing_dividend_yield=0.000241838), TiingoTrailingDivYieldData(date=2024-02-05, trailing_dividend_yield=0.0002307737), TiingoTrailingDivYieldData(date=2024-02-06, trailing_dividend_yield=0.000234525), TiingoTrailingDivYieldData(date=2024-02-07, trailing_dividend_yield=0.0002282486), TiingoTrailingDivYieldData(date=2024-02-08, trailing_dividend_yield=0.0002297497), TiingoTrailingDivYieldData(date=2024-02-09, trailing_dividend_yield=0.0002218125), TiingoTrailingDivYieldData(date=2024-02-12, trailing_dividend_yield=0.0002214594), TiingoTrailingDivYieldData(date=2024-02-13, trailing_dividend_yield=0.0002218279), TiingoTrailingDivYieldData(date=2024-02-14, trailing_dividend_yield=0.0002165088), TiingoTrailingDivYieldData(date=2024-02-15, trailing_dividend_yield=0.0002202097), TiingoTrailingDivYieldData(date=2024-02-16, trailing_dividend_yield=0.0002203462), TiingoTrailingDivYieldData(date=2024-02-20, trailing_dividend_yield=0.0002303749), TiingoTrailingDivYieldData(date=2024-02-21, trailing_dividend_yield=0.0002371354), TiingoTrailingDivYieldData(date=2024-02-22, trailing_dividend_yield=0.000203723), TiingoTrailingDivYieldData(date=2024-02-23, trailing_dividend_yield=0.0002030019), TiingoTrailingDivYieldData(date=2024-02-26, trailing_dividend_yield=0.0002022961), TiingoTrailingDivYieldData(date=2024-02-27, trailing_dividend_yield=0.0002033011), TiingoTrailingDivYieldData(date=2024-02-28, trailing_dividend_yield=0.0002060183), TiingoTrailingDivYieldData(date=2024-02-29, trailing_dividend_yield=0.0002022449), TiingoTrailingDivYieldData(date=2024-03-01, trailing_dividend_yield=0.0001944603), TiingoTrailingDivYieldData(date=2024-03-04, trailing_dividend_yield=0.0001877119), TiingoTrailingDivYieldData(date=2024-03-05, trailing_dividend_yield=0.0002326555), TiingoTrailingDivYieldData(date=2024-03-06, trailing_dividend_yield=0.0002254791), TiingoTrailingDivYieldData(date=2024-03-07, trailing_dividend_yield=0.0001726575), TiingoTrailingDivYieldData(date=2024-03-08, trailing_dividend_yield=0.0001827986), TiingoTrailingDivYieldData(date=2024-03-11, trailing_dividend_yield=0.0001865367), TiingoTrailingDivYieldData(date=2024-03-12, trailing_dividend_yield=0.0001740777), TiingoTrailingDivYieldData(date=2024-03-13, trailing_dividend_yield=0.0001760408), TiingoTrailingDivYieldData(date=2024-03-14, trailing_dividend_yield=0.000181934), TiingoTrailingDivYieldData(date=2024-03-15, trailing_dividend_yield=0.0001821566), TiingoTrailingDivYieldData(date=2024-03-18, trailing_dividend_yield=0.0001808829), TiingoTrailingDivYieldData(date=2024-03-19, trailing_dividend_yield=0.0001789749), TiingoTrailingDivYieldData(date=2024-03-20, trailing_dividend_yield=0.000177046), TiingoTrailingDivYieldData(date=2024-03-21, trailing_dividend_yield=0.0001749877), TiingoTrailingDivYieldData(date=2024-03-22, trailing_dividend_yield=0.0001696911), TiingoTrailingDivYieldData(date=2024-03-25, trailing_dividend_yield=0.0001684175), TiingoTrailingDivYieldData(date=2024-03-26, trailing_dividend_yield=0.000172859), TiingoTrailingDivYieldData(date=2024-03-27, trailing_dividend_yield=0.0001772853), TiingoTrailingDivYieldData(date=2024-03-28, trailing_dividend_yield=0.0001770773), TiingoTrailingDivYieldData(date=2024-04-01, trailing_dividend_yield=0.0001770636), TiingoTrailingDivYieldData(date=2024-04-02, trailing_dividend_yield=0.0001788669), TiingoTrailingDivYieldData(date=2024-04-03, trailing_dividend_yield=0.000179848), TiingoTrailingDivYieldData(date=2024-04-04, trailing_dividend_yield=0.0001862523), TiingoTrailingDivYieldData(date=2024-04-05, trailing_dividend_yield=0.0001818017), TiingoTrailingDivYieldData(date=2024-04-08, trailing_dividend_yield=0.0001836273), TiingoTrailingDivYieldData(date=2024-04-09, trailing_dividend_yield=0.0001874546), TiingoTrailingDivYieldData(date=2024-04-10, trailing_dividend_yield=0.0001838256), TiingoTrailingDivYieldData(date=2024-04-11, trailing_dividend_yield=0.0001765693), TiingoTrailingDivYieldData(date=2024-04-12, trailing_dividend_yield=0.0001814347), TiingoTrailingDivYieldData(date=2024-04-15, trailing_dividend_yield=0.0001860443), TiingoTrailingDivYieldData(date=2024-04-16, trailing_dividend_yield=0.0001830349), TiingoTrailingDivYieldData(date=2024-04-17, trailing_dividend_yield=0.0001903969), TiingoTrailingDivYieldData(date=2024-04-18, trailing_dividend_yield=0.0001889667), TiingoTrailingDivYieldData(date=2024-04-19, trailing_dividend_yield=0.0002099738), TiingoTrailingDivYieldData(date=2024-04-22, trailing_dividend_yield=0.0002012123), TiingoTrailingDivYieldData(date=2024-04-23, trailing_dividend_yield=0.0001941206), TiingoTrailingDivYieldData(date=2024-04-24, trailing_dividend_yield=0.0002008108), TiingoTrailingDivYieldData(date=2024-04-25, trailing_dividend_yield=0.0001936296), TiingoTrailingDivYieldData(date=2024-04-26, trailing_dividend_yield=0.0001823674), TiingoTrailingDivYieldData(date=2024-04-29, trailing_dividend_yield=0.0001823216), TiingoTrailingDivYieldData(date=2024-04-30, trailing_dividend_yield=0.0001851809), TiingoTrailingDivYieldData(date=2024-05-01, trailing_dividend_yield=0.0001926759), TiingoTrailingDivYieldData(date=2024-05-02, trailing_dividend_yield=0.0001864432), TiingoTrailingDivYieldData(date=2024-05-03, trailing_dividend_yield=0.0001802025), TiingoTrailingDivYieldData(date=2024-05-06, trailing_dividend_yield=0.0001736488), TiingoTrailingDivYieldData(date=2024-05-07, trailing_dividend_yield=0.0001766902), TiingoTrailingDivYieldData(date=2024-05-08, trailing_dividend_yield=0.0001769677), TiingoTrailingDivYieldData(date=2024-05-09, trailing_dividend_yield=0.0001802878), TiingoTrailingDivYieldData(date=2024-05-10, trailing_dividend_yield=0.0001780191), TiingoTrailingDivYieldData(date=2024-05-13, trailing_dividend_yield=0.0001769931)] provider=\\'tiingo\\' warnings=None chart=None extra={\\'metadata\\': Metadata\\n\\narguments: {\\'provider_choices\\': {\\'provider\\': \\'tiingo\\'}, \\'standard_params\\': {\\'symbol\\': \\'NVDA\\', \\'limit\\': 252}, \\'extra_params\\': {}}\\nduration: 215412833\\nroute: /equity/fundamental/trailing_dividend_yield\\ntimestamp: 2024-05-13 23:25:34.822091}'},\n",
       " 'get_price_performance_json': {'name': 'get_price_performance_json',\n",
       "  'description': 'Given a stock symbol, get price performance data for the stock for different time periods in JSON format.',\n",
       "  'openapi_path': '/api/v1/equity/price/performance',\n",
       "  'callable': <__main__.BB_agent_tool at 0x33a368710>,\n",
       "  'parameters': {'symbol': {'type': 'string',\n",
       "    'description': 'The stock symbol.'}},\n",
       "  'example_parameters': [{'symbol': 'NVDA'}],\n",
       "  'tooldict': {'type': 'function',\n",
       "   'function': {'name': 'get_price_performance_json',\n",
       "    'description': 'Given a stock symbol, get price performance data for the stock for different time periods in JSON format.',\n",
       "    'parameters': {'type': 'object',\n",
       "     'properties': {'symbol': {'type': 'string',\n",
       "       'description': 'The stock symbol.'}},\n",
       "     'required': ['symbol']}}},\n",
       "  'example_str': 'get_price_performance_json(symbol=\"NVDA\") -> id=\\'06642d9f-94d8-7e53-8000-068c8950712e\\' results=[FinvizPricePerformanceData(symbol=NVDA, one_day=0.0058, wtd=None, one_week=-0.0189, mtd=None, one_month=0.025099999999999997, qtd=None, three_month=0.25120000000000003, six_month=0.9254000000000001, ytd=0.8254, one_year=2.1632, two_year=None, three_year=None, four_year=None, five_year=None, ten_year=None, max=None, volatility_week=0.0271, volatility_month=0.0436, price=903.99, volume=28825991.0, average_volume=52280000.0, relative_volume=0.55, analyst_recommendation=None, analyst_score=1.35)] provider=\\'finviz\\' warnings=None chart=None extra={\\'metadata\\': Metadata\\n\\narguments: {\\'provider_choices\\': {\\'provider\\': \\'finviz\\'}, \\'standard_params\\': {\\'symbol\\': \\'NVDA\\'}, \\'extra_params\\': {}}\\nduration: 221689167\\nroute: /equity/price/performance\\ntimestamp: 2024-05-13 23:26:49.082463}'},\n",
       " 'get_etf_equity_exposure_json': {'name': 'get_etf_equity_exposure_json',\n",
       "  'description': 'Given a stock symbol, get the exposure of ETFs to the stock in JSON format.',\n",
       "  'openapi_path': '/api/v1/etf/equity_exposure',\n",
       "  'callable': <__main__.BB_agent_tool at 0x333230290>,\n",
       "  'parameters': {'symbol': {'type': 'string',\n",
       "    'description': 'The stock symbol.'}},\n",
       "  'example_parameters': [{'symbol': 'NVDA'}],\n",
       "  'tooldict': {'type': 'function',\n",
       "   'function': {'name': 'get_etf_equity_exposure_json',\n",
       "    'description': 'Given a stock symbol, get the exposure of ETFs to the stock in JSON format.',\n",
       "    'parameters': {'type': 'object',\n",
       "     'properties': {'symbol': {'type': 'string',\n",
       "       'description': 'The stock symbol.'}},\n",
       "     'required': ['symbol']}}},\n",
       "  'example_str': 'get_etf_equity_exposure_json(symbol=\"NVDA\") -> id=\\'06642da5-10c8-755d-8000-bdfd6150c6d8\\' results=[FMPEtfEquityExposureData(equity_symbol=NVDA, etf_symbol=VTSAX, shares=74661112.0, weight=0.042, market_value=67460794358.72), FMPEtfEquityExposureData(equity_symbol=NVDA, etf_symbol=VTI, shares=74661112.0, weight=0.042, market_value=67460794358.72), FMPEtfEquityExposureData(equity_symbol=NVDA, etf_symbol=VSMPX, shares=74661112.0, weight=0.042, market_value=67460794358.72), FMPEtfEquityExposureData(equity_symbol=NVDA, etf_symbol=VITSX, shares=74661112.0, weight=0.042, market_value=67460794358.72), FMPEtfEquityExposureData(equity_symbol=NVDA, etf_symbol=VOO, shares=62254258.0, weight=0.050499999999999996, market_value=56250457358.48), FMPEtfEquityExposureData(equity_symbol=NVDA, etf_symbol=VFINX, shares=62254258.0, weight=0.050499999999999996, market_value=56250457358.48), FMPEtfEquityExposureData(equity_symbol=NVDA, etf_symbol=VFIAX, shares=62254258.0, weight=0.050499999999999996, market_value=56250457358.48), FMPEtfEquityExposureData(equity_symbol=NVDA, etf_symbol=SPY, shares=28998664.0, weight=0.05003083, market_value=26063419229.92), FMPEtfEquityExposureData(equity_symbol=NVDA, etf_symbol=IVV, shares=25527107.0, weight=0.051210000000000006, market_value=23079567980.84), FMPEtfEquityExposureData(equity_symbol=NVDA, etf_symbol=VUG, shares=22272866.0, weight=0.0888, market_value=20124870802.96), FMPEtfEquityExposureData(equity_symbol=NVDA, etf_symbol=VIGIX, shares=22272866.0, weight=0.0888, market_value=20124870802.96), FMPEtfEquityExposureData(equity_symbol=NVDA, etf_symbol=VIGAX, shares=22272866.0, weight=0.0888, market_value=20124870802.96), FMPEtfEquityExposureData(equity_symbol=NVDA, etf_symbol=QQQ, shares=18214654.0, weight=0.06324, market_value=16370966722.12), FMPEtfEquityExposureData(equity_symbol=NVDA, etf_symbol=VINIX, shares=16243656.0, weight=0.0504, market_value=14677117815.36), FMPEtfEquityExposureData(equity_symbol=NVDA, etf_symbol=VIIIX, shares=16243656.0, weight=0.0504, market_value=14677117815.36), FMPEtfEquityExposureData(equity_symbol=NVDA, etf_symbol=VITAX, shares=10133961.0, weight=0.1176, market_value=9156641801.16), FMPEtfEquityExposureData(equity_symbol=NVDA, etf_symbol=VGT, shares=10133961.0, weight=0.1176, market_value=9156641801.16), FMPEtfEquityExposureData(equity_symbol=NVDA, etf_symbol=IWF, shares=8068582.0, weight=0.0820928, market_value=7294966357.84), FMPEtfEquityExposureData(equity_symbol=NVDA, etf_symbol=SWPPX, shares=0.0, weight=0.050509979521000004, market_value=4617368697.76), FMPEtfEquityExposureData(equity_symbol=NVDA, etf_symbol=SCHI, shares=5210000.0, weight=0.0007266640789999999, market_value=4612636509), FMPEtfEquityExposureData(equity_symbol=NVDA, etf_symbol=GSPX.L, shares=0.0, weight=0.0512763, market_value=4392009358.7), FMPEtfEquityExposureData(equity_symbol=NVDA, etf_symbol=CSPX.L, shares=4851515.0, weight=0.051194800000000006, market_value=4386351741.8), FMPEtfEquityExposureData(equity_symbol=NVDA, etf_symbol=CSPX.AS, shares=4851515.0, weight=0.051194800000000006, market_value=4386351741.8), FMPEtfEquityExposureData(equity_symbol=NVDA, etf_symbol=SXR8.DE, shares=4829033.0, weight=0.0505238, market_value=4236752102.55), FMPEtfEquityExposureData(equity_symbol=NVDA, etf_symbol=NVDL, shares=4380998.0, weight=2.014965706762619, market_value=4162035719.96), FMPEtfEquityExposureData(equity_symbol=NVDA, etf_symbol=IVW, shares=4545566.0, weight=0.0928776, market_value=4109737131.92), FMPEtfEquityExposureData(equity_symbol=NVDA, etf_symbol=VWUSX, shares=3925712.0, weight=0.0801, market_value=3547116334.72), FMPEtfEquityExposureData(equity_symbol=NVDA, etf_symbol=VWUAX, shares=3925712.0, weight=0.0801, market_value=3547116334.72), FMPEtfEquityExposureData(equity_symbol=NVDA, etf_symbol=QUAL, shares=3317752.0, weight=0.0696148, market_value=2999645938.24), FMPEtfEquityExposureData(equity_symbol=NVDA, etf_symbol=XLK, shares=3256962.0, weight=0.04505367, market_value=2927292306.36), FMPEtfEquityExposureData(equity_symbol=NVDA, etf_symbol=IWLE.DE, shares=0.0, weight=0.034584199999999996, market_value=2597434636.28), FMPEtfEquityExposureData(equity_symbol=NVDA, etf_symbol=IWDG.L, shares=0.0, weight=0.034584199999999996, market_value=2597434636.28), FMPEtfEquityExposureData(equity_symbol=NVDA, etf_symbol=IWDD.AS, shares=0.0, weight=0.034584199999999996, market_value=2597434636.28), FMPEtfEquityExposureData(equity_symbol=NVDA, etf_symbol=IWDA.L, shares=0.0, weight=0.034584199999999996, market_value=2597434636.28), FMPEtfEquityExposureData(equity_symbol=NVDA, etf_symbol=SWDA.MI, shares=2868382.0, weight=0.034591, market_value=2593361533.84), FMPEtfEquityExposureData(equity_symbol=NVDA, etf_symbol=SWDA.L, shares=2868382.0, weight=0.034591, market_value=2593361533.84), FMPEtfEquityExposureData(equity_symbol=NVDA, etf_symbol=EUNL.DE, shares=2863837.0, weight=0.0341893, market_value=2512587391.95), FMPEtfEquityExposureData(equity_symbol=NVDA, etf_symbol=VV, shares=2701273.0, weight=0.0482, market_value=2440762231.88), FMPEtfEquityExposureData(equity_symbol=NVDA, etf_symbol=VLCAX, shares=2701273.0, weight=0.0482, market_value=2440762231.88), FMPEtfEquityExposureData(equity_symbol=NVDA, etf_symbol=ITOT, shares=2641826.0, weight=0.044404599999999995, market_value=2388527723.12), FMPEtfEquityExposureData(equity_symbol=NVDA, etf_symbol=SCHG, shares=2686582.0, weight=0.08871061451199999, market_value=2378546298.9678), FMPEtfEquityExposureData(equity_symbol=NVDA, etf_symbol=SPYG, shares=2604531.0, weight=0.09097692, market_value=2340900372.18), FMPEtfEquityExposureData(equity_symbol=NVDA, etf_symbol=VONG, shares=2375415.0, weight=0.0816, market_value=2146329977.4), FMPEtfEquityExposureData(equity_symbol=NVDA, etf_symbol=IYW, shares=2333376.0, weight=0.1280839, market_value=2109651909.12), FMPEtfEquityExposureData(equity_symbol=NVDA, etf_symbol=MGK, shares=2141451.0, weight=0.1013, market_value=1934929465.56), FMPEtfEquityExposureData(equity_symbol=NVDA, etf_symbol=SCHX, shares=2109722.0, weight=0.047159227345000006, market_value=1867827393.6738), FMPEtfEquityExposureData(equity_symbol=NVDA, etf_symbol=SPLG, shares=1989788.0, weight=0.04988609, market_value=1788381658.6399999), FMPEtfEquityExposureData(equity_symbol=NVDA, etf_symbol=VWENX, shares=1848708.0, weight=0.015, market_value=1670418600.48), FMPEtfEquityExposureData(equity_symbol=NVDA, etf_symbol=VWELX, shares=1848708.0, weight=0.015, market_value=1670418600.48), FMPEtfEquityExposureData(equity_symbol=NVDA, etf_symbol=IWB, shares=1744662.0, weight=0.0441301, market_value=1548335185.14), FMPEtfEquityExposureData(equity_symbol=NVDA, etf_symbol=QQQM, shares=1678827.0, weight=0.06321, market_value=1508896131.06), FMPEtfEquityExposureData(equity_symbol=NVDA, etf_symbol=IUSG, shares=1664844.0, weight=0.0878212, market_value=1505218757.28), FMPEtfEquityExposureData(equity_symbol=NVDA, etf_symbol=VWILX, shares=1613043.0, weight=0.0322, market_value=1457481133.08), FMPEtfEquityExposureData(equity_symbol=NVDA, etf_symbol=VWIGX, shares=1613043.0, weight=0.0322, market_value=1457481133.08), FMPEtfEquityExposureData(equity_symbol=NVDA, etf_symbol=VBINX, shares=1574671.0, weight=0.025699999999999997, market_value=1422809728.76), FMPEtfEquityExposureData(equity_symbol=NVDA, etf_symbol=VBIAX, shares=1574671.0, weight=0.025699999999999997, market_value=1422809728.76), FMPEtfEquityExposureData(equity_symbol=NVDA, etf_symbol=VBAIX, shares=1574671.0, weight=0.025699999999999997, market_value=1422809728.76), FMPEtfEquityExposureData(equity_symbol=NVDA, etf_symbol=VPMCX, shares=1529800.0, weight=0.0182, market_value=1382266088), FMPEtfEquityExposureData(equity_symbol=NVDA, etf_symbol=VPMAX, shares=1529800.0, weight=0.0182, market_value=1382266088), FMPEtfEquityExposureData(equity_symbol=NVDA, etf_symbol=VITPX, shares=1471040.0, weight=0.0421, market_value=1329172902.4), FMPEtfEquityExposureData(equity_symbol=NVDA, etf_symbol=VITNX, shares=1471040.0, weight=0.0421, market_value=1329172902.4), FMPEtfEquityExposureData(equity_symbol=NVDA, etf_symbol=VTWAX, shares=1392563.0, weight=0.026000000000000002, market_value=1258264224.28), FMPEtfEquityExposureData(equity_symbol=NVDA, etf_symbol=VT, shares=1392563.0, weight=0.026000000000000002, market_value=1258264224.28), FMPEtfEquityExposureData(equity_symbol=NVDA, etf_symbol=IUIT.L, shares=1312727.0, weight=0.173794, market_value=1186862735.24), FMPEtfEquityExposureData(equity_symbol=NVDA, etf_symbol=FTEC, shares=1264850.0, weight=0.12051423329999998, market_value=1136821883), FMPEtfEquityExposureData(equity_symbol=NVDA, etf_symbol=SOXX, shares=1257092.0, weight=0.0906377, market_value=1136562019.04), FMPEtfEquityExposureData(equity_symbol=NVDA, etf_symbol=QDVE, shares=1280927.0, weight=0.1731975, market_value=1123821303.45), FMPEtfEquityExposureData(equity_symbol=NVDA, etf_symbol=VFTNX, shares=1218586.0, weight=0.0562, market_value=1101065566.16), FMPEtfEquityExposureData(equity_symbol=NVDA, etf_symbol=VFTAX, shares=1218586.0, weight=0.0562, market_value=1101065566.16), FMPEtfEquityExposureData(equity_symbol=NVDA, etf_symbol=DFAC, shares=1173375.0, weight=0.0389058278, market_value=1060871805), FMPEtfEquityExposureData(equity_symbol=NVDA, etf_symbol=SCHB, shares=1362312.0, weight=0.043275092945999995, market_value=1038081744), FMPEtfEquityExposureData(equity_symbol=NVDA, etf_symbol=SWTSX, shares=0.0, weight=0.043651047964999995, market_value=1011159539.04), FMPEtfEquityExposureData(equity_symbol=NVDA, etf_symbol=VOOG, shares=1058408.0, weight=0.0925, market_value=956335132.48), FMPEtfEquityExposureData(equity_symbol=NVDA, etf_symbol=IWY, shares=1004889.0, weight=0.0936534, market_value=908540242.68), FMPEtfEquityExposureData(equity_symbol=NVDA, etf_symbol=VTCLX, shares=1004904.0, weight=0.0431, market_value=907991058.24), FMPEtfEquityExposureData(equity_symbol=NVDA, etf_symbol=VTCIX, shares=1004904.0, weight=0.0431, market_value=907991058.24), FMPEtfEquityExposureData(equity_symbol=NVDA, etf_symbol=OEF, shares=979648.0, weight=0.0746097, market_value=885719349.76), FMPEtfEquityExposureData(equity_symbol=NVDA, etf_symbol=NQSE.DE, shares=0.0, weight=0.0639106, market_value=881382003.88), FMPEtfEquityExposureData(equity_symbol=NVDA, etf_symbol=CNDX.L, shares=0.0, weight=0.0639106, market_value=881382003.88), FMPEtfEquityExposureData(equity_symbol=NVDA, etf_symbol=CSNDX.SW, shares=973322.0, weight=0.0638309, market_value=879999886.64), FMPEtfEquityExposureData(equity_symbol=NVDA, etf_symbol=IDUS.L, shares=0.0, weight=0.0513168, market_value=855699078.4), FMPEtfEquityExposureData(equity_symbol=NVDA, etf_symbol=IUSA.L, shares=944960.0, weight=0.0512366, market_value=854357235.2), FMPEtfEquityExposureData(equity_symbol=NVDA, etf_symbol=IUSA.DE, shares=944960.0, weight=0.0512366, market_value=854357235.2), FMPEtfEquityExposureData(equity_symbol=NVDA, etf_symbol=IUSA.AS, shares=944960.0, weight=0.0512366, market_value=854357235.2), FMPEtfEquityExposureData(equity_symbol=NVDA, etf_symbol=SXRV.DE, shares=957590.0, weight=0.0631856, market_value=840141586.5), FMPEtfEquityExposureData(equity_symbol=NVDA, etf_symbol=EEDS.L, shares=890089.0, weight=0.0515893, market_value=804747266.68), FMPEtfEquityExposureData(equity_symbol=NVDA, etf_symbol=EDMU.DE, shares=0.0, weight=0.0516704, market_value=804587684.18), FMPEtfEquityExposureData(equity_symbol=NVDA, etf_symbol=EDMG.L, shares=0.0, weight=0.0516704, market_value=804587684.18), FMPEtfEquityExposureData(equity_symbol=NVDA, etf_symbol=CBUC.DE, shares=0.0, weight=0.0516704, market_value=804587684.18), FMPEtfEquityExposureData(equity_symbol=NVDA, etf_symbol=VQNPX, shares=847582.0, weight=0.050499999999999996, market_value=765841191.92), FMPEtfEquityExposureData(equity_symbol=NVDA, etf_symbol=VGIAX, shares=847582.0, weight=0.050499999999999996, market_value=765841191.92), FMPEtfEquityExposureData(equity_symbol=NVDA, etf_symbol=SPHQ, shares=849195.0, weight=0.08512, market_value=763239482.1), FMPEtfEquityExposureData(equity_symbol=NVDA, etf_symbol=OM3L.DE, shares=869519.0, weight=0.0509546, market_value=762872494.65), FMPEtfEquityExposureData(equity_symbol=NVDA, etf_symbol=SNXFX, shares=0.0, weight=0.045767754568, market_value=736260444.64), FMPEtfEquityExposureData(equity_symbol=NVDA, etf_symbol=JEPQ, shares=797030.0, weight=0.055, market_value=716354623.4), FMPEtfEquityExposureData(equity_symbol=NVDA, etf_symbol=SOXL, shares=784301.0, weight=0.065176391701, market_value=710215927.54), FMPEtfEquityExposureData(equity_symbol=NVDA, etf_symbol=MTUM, shares=730488.0, weight=0.0666326, market_value=660448810.56), FMPEtfEquityExposureData(equity_symbol=NVDA, etf_symbol=SMH, shares=3530772.0, weight=0.0883, market_value=647367046.2), FMPEtfEquityExposureData(equity_symbol=NVDA, etf_symbol=ESGU, shares=703795.0, weight=0.0500819, market_value=636315135.4), FMPEtfEquityExposureData(equity_symbol=NVDA, etf_symbol=IWV, shares=642595.0, weight=0.0428949, market_value=580982991.4), FMPEtfEquityExposureData(equity_symbol=NVDA, etf_symbol=ACWI, shares=628240.0, weight=0.031098, market_value=568004348.8), FMPEtfEquityExposureData(equity_symbol=NVDA, etf_symbol=TQQQ, shares=612488.0, weight=0.007369144699451847, market_value=553762650.6), FMPEtfEquityExposureData(equity_symbol=NVDA, etf_symbol=QYLD, shares=602596.0, weight=0.0658, market_value=534785872.12), FMPEtfEquityExposureData(equity_symbol=NVDA, etf_symbol=ONEQ, shares=575184.0, weight=0.0846, market_value=516963875.52), FMPEtfEquityExposureData(equity_symbol=NVDA, etf_symbol=GSLC, shares=568480.0, weight=None, market_value=504508945.6), FMPEtfEquityExposureData(equity_symbol=NVDA, etf_symbol=DYNF, shares=555177.0, weight=0.0651356, market_value=501946629.24), FMPEtfEquityExposureData(equity_symbol=NVDA, etf_symbol=IOO, shares=513159.0, weight=0.0871918, market_value=463957315.08), FMPEtfEquityExposureData(equity_symbol=NVDA, etf_symbol=IXN, shares=510373.0, weight=0.1049058, market_value=461438436.76), FMPEtfEquityExposureData(equity_symbol=NVDA, etf_symbol=SCHZ, shares=600000.0, weight=6.0116134e-05, market_value=457200000), FMPEtfEquityExposureData(equity_symbol=NVDA, etf_symbol=ESGV, shares=475854.0, weight=0.0508, market_value=429962640.24), FMPEtfEquityExposureData(equity_symbol=NVDA, etf_symbol=DFUS, shares=459595.0, weight=0.0461798315, market_value=415529031.4), FMPEtfEquityExposureData(equity_symbol=NVDA, etf_symbol=SDUS.L, shares=0.0, weight=0.053411099999999996, market_value=405987992.52), FMPEtfEquityExposureData(equity_symbol=NVDA, etf_symbol=SAUA.MI, shares=0.0, weight=0.053411099999999996, market_value=405987992.52), FMPEtfEquityExposureData(equity_symbol=NVDA, etf_symbol=SASU.L, shares=448338.0, weight=0.0533427, market_value=405351352.56), FMPEtfEquityExposureData(equity_symbol=NVDA, etf_symbol=DSI, shares=444132.0, weight=0.0923967, market_value=401548623.84), FMPEtfEquityExposureData(equity_symbol=NVDA, etf_symbol=SSAC.L, shares=440825.0, weight=0.0310905, market_value=398558699), FMPEtfEquityExposureData(equity_symbol=NVDA, etf_symbol=SLUS.DE, shares=448184.0, weight=0.052675799999999995, market_value=393214232.4), FMPEtfEquityExposureData(equity_symbol=NVDA, etf_symbol=SGAS.DE, shares=448184.0, weight=0.052675799999999995, market_value=393214232.4), FMPEtfEquityExposureData(equity_symbol=NVDA, etf_symbol=IUSQ.DE, shares=440189.0, weight=0.0307533, market_value=386199819.15), FMPEtfEquityExposureData(equity_symbol=NVDA, etf_symbol=SPTM, shares=423606.0, weight=0.045781619999999995, market_value=380728600.68), FMPEtfEquityExposureData(equity_symbol=NVDA, etf_symbol=XLG, shares=411048.0, weight=0.08792, market_value=369441721.44), FMPEtfEquityExposureData(equity_symbol=NVDA, etf_symbol=VHCOX, shares=404390.0, weight=0.016200000000000003, market_value=365390628.4), FMPEtfEquityExposureData(equity_symbol=NVDA, etf_symbol=VHCAX, shares=404390.0, weight=0.016200000000000003, market_value=365390628.4), FMPEtfEquityExposureData(equity_symbol=NVDA, etf_symbol=IGM, shares=403401.0, weight=0.0844576, market_value=364722912.12), FMPEtfEquityExposureData(equity_symbol=NVDA, etf_symbol=DGRW, shares=0.0, weight=0.000282511, market_value=362000721.82), FMPEtfEquityExposureData(equity_symbol=NVDA, etf_symbol=SUUS.L, shares=2495116.0, weight=0.037599999999999995, market_value=345174347.44), FMPEtfEquityExposureData(equity_symbol=NVDA, etf_symbol=MGC, shares=361091.0, weight=0.0582, market_value=326267383.96), FMPEtfEquityExposureData(equity_symbol=NVDA, etf_symbol=VONE, shares=347894.0, weight=0.044500000000000005, market_value=314343102.64), FMPEtfEquityExposureData(equity_symbol=NVDA, etf_symbol=QLD, shares=316630.0, weight=0.021717618514637705, market_value=286271515.6), FMPEtfEquityExposureData(equity_symbol=NVDA, etf_symbol=IUSE.L, shares=338347.0, weight=0.0509589, market_value=284577226.51), FMPEtfEquityExposureData(equity_symbol=NVDA, etf_symbol=IBCF.DE, shares=343989.0, weight=0.051204799999999995, market_value=282583098.46), FMPEtfEquityExposureData(equity_symbol=NVDA, etf_symbol=EXXT.DE, shares=288347.0, weight=0.0637592, market_value=260700289.64), FMPEtfEquityExposureData(equity_symbol=NVDA, etf_symbol=USD, shares=286758.0, weight=0.14122841301255148, market_value=259263643), FMPEtfEquityExposureData(equity_symbol=NVDA, etf_symbol=NDXEX.DE, shares=288347.0, weight=0.0631516, market_value=252981240.45), FMPEtfEquityExposureData(equity_symbol=NVDA, etf_symbol=BOTZ, shares=277995.0, weight=0.08990000000000001, market_value=246712222.65), FMPEtfEquityExposureData(equity_symbol=NVDA, etf_symbol=IWRD.L, shares=266730.0, weight=0.0346196, market_value=241155927.6), FMPEtfEquityExposureData(equity_symbol=NVDA, etf_symbol=IWRD.AS, shares=266730.0, weight=0.0346196, market_value=241155927.6), FMPEtfEquityExposureData(equity_symbol=NVDA, etf_symbol=DFAU, shares=264667.0, weight=0.0436012821, market_value=239290728.04), FMPEtfEquityExposureData(equity_symbol=NVDA, etf_symbol=JEPI, shares=266028.0, weight=0.0070999999999999995, market_value=239100645.84), FMPEtfEquityExposureData(equity_symbol=NVDA, etf_symbol=IQQW.DE, shares=266730.0, weight=0.034220600000000004, market_value=234015565.5), FMPEtfEquityExposureData(equity_symbol=NVDA, etf_symbol=PBUS, shares=252284.0, weight=0.04855, market_value=226747813.52), FMPEtfEquityExposureData(equity_symbol=NVDA, etf_symbol=DUHP, shares=247972.0, weight=0.0418763819, market_value=224196444.64), FMPEtfEquityExposureData(equity_symbol=NVDA, etf_symbol=IWQU.L, shares=238333.0, weight=0.0604379, market_value=215481631.96), FMPEtfEquityExposureData(equity_symbol=NVDA, etf_symbol=VTMFX, shares=232992.0, weight=0.0218, market_value=210522251.52), FMPEtfEquityExposureData(equity_symbol=NVDA, etf_symbol=IS3Q.DE, shares=237507.0, weight=0.059509, market_value=208376766.45), FMPEtfEquityExposureData(equity_symbol=NVDA, etf_symbol=FELG, shares=229471.0, weight=0.08559999999999998, market_value=206243945.38), FMPEtfEquityExposureData(equity_symbol=NVDA, etf_symbol=ILCG, shares=215650.0, weight=0.0910047, market_value=194973478), FMPEtfEquityExposureData(equity_symbol=NVDA, etf_symbol=IUQD.L, shares=0.0, weight=0.0695813, market_value=194428493.4), FMPEtfEquityExposureData(equity_symbol=NVDA, etf_symbol=IUQA.L, shares=214710.0, weight=0.06949040000000001, market_value=194123605.2), FMPEtfEquityExposureData(equity_symbol=NVDA, etf_symbol=SUSA, shares=214362.0, weight=0.0567528, market_value=193808971.44), FMPEtfEquityExposureData(equity_symbol=NVDA, etf_symbol=CNX1.L, shares=1429052.0, weight=0.027200000000000002, market_value=192879148.44), FMPEtfEquityExposureData(equity_symbol=NVDA, etf_symbol=QDVB.DE, shares=216766.0, weight=0.06713090000000001, market_value=183537939.86), FMPEtfEquityExposureData(equity_symbol=NVDA, etf_symbol=SWLGX, shares=0.0, weight=0.08154084337600001, market_value=182766695.44), FMPEtfEquityExposureData(equity_symbol=NVDA, etf_symbol=EEWD.L, shares=192557.0, weight=0.0365626, market_value=174094634.84), FMPEtfEquityExposureData(equity_symbol=NVDA, etf_symbol=EDMW.DE, shares=193909.0, weight=0.0361765, market_value=170126061.15), FMPEtfEquityExposureData(equity_symbol=NVDA, etf_symbol=VHGEX, shares=186569.0, weight=0.020099999999999996, market_value=168576285.64), FMPEtfEquityExposureData(equity_symbol=NVDA, etf_symbol=SPXL, shares=173803.0, weight=0.036848688624, market_value=157385568.62), FMPEtfEquityExposureData(equity_symbol=NVDA, etf_symbol=BBUS, shares=173578.0, weight=0.0471, market_value=156008434.84), FMPEtfEquityExposureData(equity_symbol=NVDA, etf_symbol=SCHK, shares=175019.0, weight=0.045839455603, market_value=154951829.0151), FMPEtfEquityExposureData(equity_symbol=NVDA, etf_symbol=SSO, shares=170926.0, weight=0.01565822376174233, market_value=154537615.1), FMPEtfEquityExposureData(equity_symbol=NVDA, etf_symbol=XYLD, shares=168265.0, weight=0.052300000000000006, market_value=149330139.55), FMPEtfEquityExposureData(equity_symbol=NVDA, etf_symbol=VTHR, shares=163735.0, weight=0.042, market_value=147944396.6), FMPEtfEquityExposureData(equity_symbol=NVDA, etf_symbol=I500G.DE, shares=167676.0, weight=0.030831600000000004, market_value=147110538.6), FMPEtfEquityExposureData(equity_symbol=NVDA, etf_symbol=SCHJ, shares=165000.0, weight=0.00039632535500000004, market_value=146081578.5), FMPEtfEquityExposureData(equity_symbol=NVDA, etf_symbol=JGLO, shares=161970.0, weight=0.0487, market_value=145575396.6), FMPEtfEquityExposureData(equity_symbol=NVDA, etf_symbol=I50D.AS, shares=0.0, weight=0.0296827, market_value=145419763.06), FMPEtfEquityExposureData(equity_symbol=NVDA, etf_symbol=FELC, shares=158256.0, weight=0.0555, market_value=142237327.68), FMPEtfEquityExposureData(equity_symbol=NVDA, etf_symbol=EXI2.DE, shares=171126.0, weight=0.07863780000000001, market_value=140578086.24), FMPEtfEquityExposureData(equity_symbol=NVDA, etf_symbol=DJGTEEX.DE, shares=171126.0, weight=0.07863780000000001, market_value=140578086.24), FMPEtfEquityExposureData(equity_symbol=NVDA, etf_symbol=PTLC, shares=153208.0, weight=0.0513, market_value=138518416.96), FMPEtfEquityExposureData(equity_symbol=NVDA, etf_symbol=IWMO.L, shares=152665.0, weight=0.0731888, market_value=138027479.8), FMPEtfEquityExposureData(equity_symbol=NVDA, etf_symbol=USCL, shares=148818.0, weight=0.0682775, market_value=134549330.16), FMPEtfEquityExposureData(equity_symbol=NVDA, etf_symbol=IS3R.DE, shares=152665.0, weight=0.0724272, market_value=133940637.75), FMPEtfEquityExposureData(equity_symbol=NVDA, etf_symbol=I500.L, shares=146297.0, weight=0.0269829, market_value=132270043.64), FMPEtfEquityExposureData(equity_symbol=NVDA, etf_symbol=USMC, shares=146689.0, weight=0.057787348007, market_value=131841139.42), FMPEtfEquityExposureData(equity_symbol=NVDA, etf_symbol=FTXL, shares=141316.0, weight=0.0898, market_value=127011994.48), FMPEtfEquityExposureData(equity_symbol=NVDA, etf_symbol=SPMO, shares=140513.0, weight=0.10106, market_value=126290274.14), FMPEtfEquityExposureData(equity_symbol=NVDA, etf_symbol=JGRO, shares=137328.0, weight=0.0767, market_value=123427659.84), FMPEtfEquityExposureData(equity_symbol=NVDA, etf_symbol=QDVE.DE, shares=890653.0, weight=0.0417, market_value=123212936.02), FMPEtfEquityExposureData(equity_symbol=NVDA, etf_symbol=FDVV, shares=137040.0, weight=0.0464, market_value=123168811.2), FMPEtfEquityExposureData(equity_symbol=NVDA, etf_symbol=USXF, shares=134818.0, weight=0.1240324, market_value=121891650.16), FMPEtfEquityExposureData(equity_symbol=NVDA, etf_symbol=IITU.L, shares=890653.0, weight=0.0412, market_value=120211435.41), FMPEtfEquityExposureData(equity_symbol=NVDA, etf_symbol=URTH, shares=129716.0, weight=0.0346819, market_value=117278829.92), FMPEtfEquityExposureData(equity_symbol=NVDA, etf_symbol=RSP, shares=127139.0, weight=0.0020399999999999997, market_value=114269990.42), FMPEtfEquityExposureData(equity_symbol=NVDA, etf_symbol=PABU, shares=122915.0, weight=0.0622314, market_value=111129909.8), FMPEtfEquityExposureData(equity_symbol=NVDA, etf_symbol=RBOT.MI, shares=121541.0, weight=0.030615800000000002, market_value=109887648.92), FMPEtfEquityExposureData(equity_symbol=NVDA, etf_symbol=RBOT.L, shares=121541.0, weight=0.030615800000000002, market_value=109887648.92), FMPEtfEquityExposureData(equity_symbol=NVDA, etf_symbol=RBOD.L, shares=0.0, weight=0.030560999999999998, market_value=109745109.22), FMPEtfEquityExposureData(equity_symbol=NVDA, etf_symbol=IWDE.SW, shares=129984.0, weight=0.0344808, market_value=109327070.17), FMPEtfEquityExposureData(equity_symbol=NVDA, etf_symbol=IWDE.L, shares=129984.0, weight=0.0344808, market_value=109327070.17), FMPEtfEquityExposureData(equity_symbol=NVDA, etf_symbol=SDWD.L, shares=120779.0, weight=0.037999, market_value=109198709.48), FMPEtfEquityExposureData(equity_symbol=NVDA, etf_symbol=SAWD.L, shares=0.0, weight=0.0379812, market_value=109049654.5), FMPEtfEquityExposureData(equity_symbol=NVDA, etf_symbol=IBCH.DE, shares=130916.0, weight=0.0343481, market_value=107546023.03), FMPEtfEquityExposureData(equity_symbol=NVDA, etf_symbol=2B7F.DE, shares=121541.0, weight=0.0302658, market_value=106633996.35), FMPEtfEquityExposureData(equity_symbol=NVDA, etf_symbol=2B76.DE, shares=121541.0, weight=0.0302658, market_value=106633996.35), FMPEtfEquityExposureData(equity_symbol=NVDA, etf_symbol=CGGO, shares=116671.0, weight=0.0308, market_value=105650257.34), FMPEtfEquityExposureData(equity_symbol=NVDA, etf_symbol=SNAW.DE, shares=120042.0, weight=0.0375778, market_value=105318848.7), FMPEtfEquityExposureData(equity_symbol=NVDA, etf_symbol=S6DW.DE, shares=120042.0, weight=0.0375778, market_value=105318848.7), FMPEtfEquityExposureData(equity_symbol=NVDA, etf_symbol=WITS.L, shares=0.0, weight=0.1754784, market_value=102135856.6), FMPEtfEquityExposureData(equity_symbol=NVDA, etf_symbol=WITS.AS, shares=112790.0, weight=0.175955, market_value=101975694.8), FMPEtfEquityExposureData(equity_symbol=NVDA, etf_symbol=QTEC, shares=111000.0, weight=0.025699999999999997, market_value=99764580), FMPEtfEquityExposureData(equity_symbol=NVDA, etf_symbol=TECL, shares=109625.0, weight=0.032837007622, market_value=99269822.5), FMPEtfEquityExposureData(equity_symbol=NVDA, etf_symbol=UPRO, shares=108836.0, weight=0.00925108246113339, market_value=98400804.32), FMPEtfEquityExposureData(equity_symbol=NVDA, etf_symbol=AYEW.DE, shares=109520.0, weight=0.17285209999999998, market_value=96087372), FMPEtfEquityExposureData(equity_symbol=NVDA, etf_symbol=CGGR, shares=106004.0, weight=0.0175, market_value=95990862.16), FMPEtfEquityExposureData(equity_symbol=NVDA, etf_symbol=INAVSEM3, shares=0.0, weight=0.08878209999999999, market_value=94637079.86), FMPEtfEquityExposureData(equity_symbol=NVDA, etf_symbol=SEMI.AS, shares=104509.0, weight=0.0888251, market_value=94488677.08), FMPEtfEquityExposureData(equity_symbol=NVDA, etf_symbol=SUSL, shares=102348.0, weight=0.09567980000000001, market_value=92534873.76), FMPEtfEquityExposureData(equity_symbol=NVDA, etf_symbol=JQUA, shares=102890.0, weight=0.022000000000000002, market_value=92475474.2), FMPEtfEquityExposureData(equity_symbol=NVDA, etf_symbol=SEC0.DE, shares=104509.0, weight=0.0877782, market_value=91690971.15), FMPEtfEquityExposureData(equity_symbol=NVDA, etf_symbol=SPYX, shares=100527.0, weight=0.05161111, market_value=90351657.06), FMPEtfEquityExposureData(equity_symbol=NVDA, etf_symbol=LRGF, shares=98870.0, weight=0.0467307, market_value=89390344.4), FMPEtfEquityExposureData(equity_symbol=NVDA, etf_symbol=IYY, shares=96749.0, weight=0.0464826, market_value=87472705.88), FMPEtfEquityExposureData(equity_symbol=NVDA, etf_symbol=DLN, shares=0.0, weight=0.000209883, market_value=83186582.9), FMPEtfEquityExposureData(equity_symbol=NVDA, etf_symbol=EFIV, shares=91339.0, weight=0.06925884, market_value=82093666.42), FMPEtfEquityExposureData(equity_symbol=NVDA, etf_symbol=IWL, shares=88919.0, weight=0.059048100000000006, market_value=80393446.28), FMPEtfEquityExposureData(equity_symbol=NVDA, etf_symbol=AIQ, shares=84108.0, weight=0.0425, market_value=74643326.76), FMPEtfEquityExposureData(equity_symbol=NVDA, etf_symbol=GUSA, shares=80010.0, weight=None, market_value=71006474.7), FMPEtfEquityExposureData(equity_symbol=NVDA, etf_symbol=RYT, shares=180193.0, weight=0.023969999999999998, market_value=70177965.78), FMPEtfEquityExposureData(equity_symbol=NVDA, etf_symbol=QDF, shares=75047.0, weight=0.0398, market_value=67851493.64), FMPEtfEquityExposureData(equity_symbol=NVDA, etf_symbol=CSUS.SW, shares=74239.0, weight=0.0490014, market_value=67120964.68), FMPEtfEquityExposureData(equity_symbol=NVDA, etf_symbol=CSUS.L, shares=74239.0, weight=0.0490014, market_value=67120964.68), FMPEtfEquityExposureData(equity_symbol=NVDA, etf_symbol=SXR4.DE, shares=75663.0, weight=0.048372700000000005, market_value=66382933.05), FMPEtfEquityExposureData(equity_symbol=NVDA, etf_symbol=TCAF, shares=70040.0, weight=0.0451681936, market_value=63424021.6), FMPEtfEquityExposureData(equity_symbol=NVDA, etf_symbol=IWLD.AX, shares=46037.0, weight=0.0716636, market_value=63300087.35), FMPEtfEquityExposureData(equity_symbol=NVDA, etf_symbol=RSPT, shares=69761.0, weight=0.01637, market_value=62699791.58), FMPEtfEquityExposureData(equity_symbol=NVDA, etf_symbol=RPG, shares=68621.0, weight=0.039580000000000004, market_value=61675182.38), FMPEtfEquityExposureData(equity_symbol=NVDA, etf_symbol=TCHP, shares=60718.0, weight=0.09909913, market_value=54862356.08), FMPEtfEquityExposureData(equity_symbol=NVDA, etf_symbol=SPME.SW, shares=0.0, weight=0.0265774, market_value=54207435.48), FMPEtfEquityExposureData(equity_symbol=NVDA, etf_symbol=SPMD.L, shares=0.0, weight=0.0265774, market_value=54207435.48), FMPEtfEquityExposureData(equity_symbol=NVDA, etf_symbol=SPMV.L, shares=59862.0, weight=0.0265035, market_value=54122431.44), FMPEtfEquityExposureData(equity_symbol=NVDA, etf_symbol=INAA.SW, shares=59201.0, weight=0.0469453, market_value=53524808.12), FMPEtfEquityExposureData(equity_symbol=NVDA, etf_symbol=INAA.L, shares=59201.0, weight=0.0469453, market_value=53524808.12), FMPEtfEquityExposureData(equity_symbol=NVDA, etf_symbol=LCTU, shares=58902.0, weight=0.0444468, market_value=53254476.24), FMPEtfEquityExposureData(equity_symbol=NVDA, etf_symbol=IS31.DE, shares=59692.0, weight=0.0263882, market_value=52370776.2), FMPEtfEquityExposureData(equity_symbol=NVDA, etf_symbol=IBCK.DE, shares=59692.0, weight=0.0263882, market_value=52370776.2), FMPEtfEquityExposureData(equity_symbol=NVDA, etf_symbol=FQAL, shares=58190.0, weight=0.055, market_value=52300008.2), FMPEtfEquityExposureData(equity_symbol=NVDA, etf_symbol=IQQN.DE, shares=58877.0, weight=0.0463188, market_value=51655735.95), FMPEtfEquityExposureData(equity_symbol=NVDA, etf_symbol=TILT, shares=56887.0, weight=0.032187, market_value=51432674.44), FMPEtfEquityExposureData(equity_symbol=NVDA, etf_symbol=SOXQ, shares=56194.0, weight=0.13369, market_value=50506043.32), FMPEtfEquityExposureData(equity_symbol=NVDA, etf_symbol=FNDX, shares=54634.0, weight=0.003204534823, market_value=48369823.9986), FMPEtfEquityExposureData(equity_symbol=NVDA, etf_symbol=PSI, shares=52265.0, weight=0.05887, market_value=46974736.7), FMPEtfEquityExposureData(equity_symbol=NVDA, etf_symbol=ACIO, shares=50793.0, weight=0.051399999999999994, market_value=45995093.22), FMPEtfEquityExposureData(equity_symbol=NVDA, etf_symbol=QVML, shares=50065.0, weight=0.04743, market_value=44997420.7), FMPEtfEquityExposureData(equity_symbol=NVDA, etf_symbol=DFSU, shares=49125.0, weight=0.04676482829999999, market_value=44414895), FMPEtfEquityExposureData(equity_symbol=NVDA, etf_symbol=FTLS, shares=49081.0, weight=0.035699999999999996, market_value=44113021.18), FMPEtfEquityExposureData(equity_symbol=NVDA, etf_symbol=SPUS, shares=48781.0, weight=0.0799, market_value=44103877.72), FMPEtfEquityExposureData(equity_symbol=NVDA, etf_symbol=CGUS, shares=47203.0, weight=0.0165, market_value=42744204.62), FMPEtfEquityExposureData(equity_symbol=NVDA, etf_symbol=CATH, shares=47775.0, weight=0.0507, market_value=42398879.25), FMPEtfEquityExposureData(equity_symbol=NVDA, etf_symbol=PTNQ, shares=46313.0, weight=0.0347, market_value=41872509.56), FMPEtfEquityExposureData(equity_symbol=NVDA, etf_symbol=ILCB, shares=45908.0, weight=0.0471519, market_value=41506340.96), FMPEtfEquityExposureData(equity_symbol=NVDA, etf_symbol=XSD, shares=45936.0, weight=0.02812815, market_value=41286358.08), FMPEtfEquityExposureData(equity_symbol=NVDA, etf_symbol=METV, shares=48725000.0, weight=0.08789999999999999, market_value=38947572.67), FMPEtfEquityExposureData(equity_symbol=NVDA, etf_symbol=XNTK, shares=40491.0, weight=0.04660487, market_value=36392500.98), FMPEtfEquityExposureData(equity_symbol=NVDA, etf_symbol=IWDC.SW, shares=43817.0, weight=0.034408799999999996, market_value=35973150.84), FMPEtfEquityExposureData(equity_symbol=NVDA, etf_symbol=IGUS.L, shares=49437.0, weight=0.051348000000000005, market_value=35776187.97), FMPEtfEquityExposureData(equity_symbol=NVDA, etf_symbol=FBCG, shares=0.0, weight=0.0791, market_value=35605218), FMPEtfEquityExposureData(equity_symbol=NVDA, etf_symbol=WINN, shares=39375.0, weight=0.0008792877360000001, market_value=35599725), FMPEtfEquityExposureData(equity_symbol=NVDA, etf_symbol=HELO, shares=39411.0, weight=0.0555, market_value=35421818.58), FMPEtfEquityExposureData(equity_symbol=NVDA, etf_symbol=IHOO.AX, shares=25626.0, weight=0.08633850000000001, market_value=35235311.57), FMPEtfEquityExposureData(equity_symbol=NVDA, etf_symbol=PWB, shares=38952.0, weight=0.04141, market_value=35009278.56), FMPEtfEquityExposureData(equity_symbol=NVDA, etf_symbol=IUQF.L, shares=252280.0, weight=0.0236, market_value=34900415.2), FMPEtfEquityExposureData(equity_symbol=NVDA, etf_symbol=QUS, shares=38750.0, weight=0.0273685, market_value=34827725), FMPEtfEquityExposureData(equity_symbol=NVDA, etf_symbol=QGRW, shares=0.0, weight=0.000925073, market_value=34634487.3), FMPEtfEquityExposureData(equity_symbol=NVDA, etf_symbol=ECAR.MI, shares=37358.0, weight=0.051365, market_value=33776114.96), FMPEtfEquityExposureData(equity_symbol=NVDA, etf_symbol=ECAR.L, shares=37358.0, weight=0.051365, market_value=33776114.96), FMPEtfEquityExposureData(equity_symbol=NVDA, etf_symbol=IEVD.DE, shares=37446.0, weight=0.0507371, market_value=32853248.1), FMPEtfEquityExposureData(equity_symbol=NVDA, etf_symbol=FDRR, shares=35530.0, weight=0.0605, market_value=31933653.4), FMPEtfEquityExposureData(equity_symbol=NVDA, etf_symbol=XT, shares=35211.0, weight=0.0095249, market_value=31834969.32), FMPEtfEquityExposureData(equity_symbol=NVDA, etf_symbol=JPEF, shares=35325.0, weight=0.0524, market_value=31749403.5), FMPEtfEquityExposureData(equity_symbol=NVDA, etf_symbol=GGUS, shares=35768.0, weight=None, market_value=31743026.96), FMPEtfEquityExposureData(equity_symbol=NVDA, etf_symbol=IHWL.AX, shares=22877.0, weight=0.0708495, market_value=31455483.6), FMPEtfEquityExposureData(equity_symbol=NVDA, etf_symbol=FFLG, shares=34320.0, weight=0.1065, market_value=30846129.6), FMPEtfEquityExposureData(equity_symbol=NVDA, etf_symbol=VPCCX, shares=34100.0, weight=0.0023, market_value=30811396), FMPEtfEquityExposureData(equity_symbol=NVDA, etf_symbol=FIVG, shares=32291.0, weight=0.0536, market_value=29194938.92), FMPEtfEquityExposureData(equity_symbol=NVDA, etf_symbol=SWLSX, shares=0.0, weight=0.075091168569, market_value=29145231.36), FMPEtfEquityExposureData(equity_symbol=NVDA, etf_symbol=CRBN, shares=32169.0, weight=0.0310504, market_value=28549022.43), FMPEtfEquityExposureData(equity_symbol=NVDA, etf_symbol=FTHI, shares=31244.0, weight=0.0458, market_value=28081482.32), FMPEtfEquityExposureData(equity_symbol=NVDA, etf_symbol=ESPO, shares=150298.0, weight=0.0821, market_value=27557138.3), FMPEtfEquityExposureData(equity_symbol=NVDA, etf_symbol=SFLNX, shares=0.0, weight=0.003194140198, market_value=27367025.28), FMPEtfEquityExposureData(equity_symbol=NVDA, etf_symbol=IWQE.AS, shares=0.0, weight=0.0536929, market_value=27354552.32), FMPEtfEquityExposureData(equity_symbol=NVDA, etf_symbol=IWQE.MI, shares=30208.0, weight=0.0536915, market_value=27311656.96), FMPEtfEquityExposureData(equity_symbol=NVDA, etf_symbol=TECB, shares=29626.0, weight=0.06782339999999999, market_value=26785459.12), FMPEtfEquityExposureData(equity_symbol=NVDA, etf_symbol=DRIV, shares=30027.0, weight=0.0472, market_value=26648061.69), FMPEtfEquityExposureData(equity_symbol=NVDA, etf_symbol=UPAD.L, shares=0.0, weight=0.0510694, market_value=26137506.56), FMPEtfEquityExposureData(equity_symbol=NVDA, etf_symbol=UPAB.AS, shares=28769.0, weight=0.051043700000000004, market_value=26010628.28), FMPEtfEquityExposureData(equity_symbol=NVDA, etf_symbol=IUMD.L, shares=0.0, weight=0.0733723, market_value=25787968.12), FMPEtfEquityExposureData(equity_symbol=NVDA, etf_symbol=MUSD.AS, shares=28518.0, weight=0.0424539, market_value=25783694.16), FMPEtfEquityExposureData(equity_symbol=NVDA, etf_symbol=IUMO.L, shares=28478.0, weight=0.0731995, market_value=25747529.36), FMPEtfEquityExposureData(equity_symbol=NVDA, etf_symbol=GRID, shares=28300.0, weight=0.0209, market_value=25435474), FMPEtfEquityExposureData(equity_symbol=NVDA, etf_symbol=KRMA, shares=28528.0, weight=0.0397, market_value=25317744.16), FMPEtfEquityExposureData(equity_symbol=NVDA, etf_symbol=STRV, shares=27942.0, weight=0.049100000000000005, market_value=25262921.04), FMPEtfEquityExposureData(equity_symbol=NVDA, etf_symbol=QDVA.DE, shares=28478.0, weight=0.0723712, market_value=24985173.3), FMPEtfEquityExposureData(equity_symbol=NVDA, etf_symbol=IUSC.SW, shares=30315.0, weight=0.050782100000000004, market_value=24888195.62), FMPEtfEquityExposureData(equity_symbol=NVDA, etf_symbol=IUSC.DE, shares=30315.0, weight=0.050782100000000004, market_value=24888195.62), FMPEtfEquityExposureData(equity_symbol=NVDA, etf_symbol=NUSI, shares=26509.0, weight=0.063, market_value=23825759.02), FMPEtfEquityExposureData(equity_symbol=NVDA, etf_symbol=FXL, shares=26323.0, weight=0.0179, market_value=23658585.94), FMPEtfEquityExposureData(equity_symbol=NVDA, etf_symbol=ESPX.AS, shares=0.0, weight=0.0707743, market_value=22931894.96), FMPEtfEquityExposureData(equity_symbol=NVDA, etf_symbol=CBUM.DE, shares=0.0, weight=0.0707743, market_value=22931894.96), FMPEtfEquityExposureData(equity_symbol=NVDA, etf_symbol=DTD, shares=0.0, weight=0.00018856500000000002, market_value=22777781.54), FMPEtfEquityExposureData(equity_symbol=NVDA, etf_symbol=EPS, shares=0.0, weight=0.000253896, market_value=21905964.94), FMPEtfEquityExposureData(equity_symbol=NVDA, etf_symbol=AVUS, shares=87862.0, weight=0.005600000000000001, market_value=21245910.22), FMPEtfEquityExposureData(equity_symbol=NVDA, etf_symbol=ROM, shares=23290.0, weight=0.014495586237340591, market_value=21056954.8), FMPEtfEquityExposureData(equity_symbol=NVDA, etf_symbol=IETC, shares=23277.0, weight=0.0858705, market_value=21045201.24), FMPEtfEquityExposureData(equity_symbol=NVDA, etf_symbol=SPGM, shares=23335.0, weight=0.026568019999999998, market_value=20973031.3), FMPEtfEquityExposureData(equity_symbol=NVDA, etf_symbol=QQEW, shares=23286.0, weight=0.0101, market_value=20928991.08), FMPEtfEquityExposureData(equity_symbol=NVDA, etf_symbol=JTEK, shares=22441.0, weight=0.0506, market_value=20169521.98), FMPEtfEquityExposureData(equity_symbol=NVDA, etf_symbol=JMOM, shares=21706.0, weight=0.0218, market_value=19508918.68), FMPEtfEquityExposureData(equity_symbol=NVDA, etf_symbol=DCOR, shares=21551.0, weight=0.04071606920000001, market_value=19484690.12), FMPEtfEquityExposureData(equity_symbol=NVDA, etf_symbol=META, shares=72349.0, weight=0.092, market_value=19100859.49), FMPEtfEquityExposureData(equity_symbol=NVDA, etf_symbol=HAPI, shares=21094.0, weight=0.000588214525, market_value=19071507.28), FMPEtfEquityExposureData(equity_symbol=NVDA, etf_symbol=PTF, shares=20977.0, weight=0.04718, market_value=18853708.06), FMPEtfEquityExposureData(equity_symbol=NVDA, etf_symbol=JUST, shares=19768.0, weight=None, market_value=17543506.94), FMPEtfEquityExposureData(equity_symbol=NVDA, etf_symbol=CBUH.DE, shares=19352.0, weight=0.0626941, market_value=17496530.24), FMPEtfEquityExposureData(equity_symbol=NVDA, etf_symbol=VETS, shares=19247.0, weight=0.0565, market_value=17401597.64), FMPEtfEquityExposureData(equity_symbol=NVDA, etf_symbol=PALC, shares=19247.0, weight=0.0565, market_value=17401597.64), FMPEtfEquityExposureData(equity_symbol=NVDA, etf_symbol=ARKQ, shares=19078.0, weight=0.0203, market_value=17275892.12), FMPEtfEquityExposureData(equity_symbol=NVDA, etf_symbol=SHOC, shares=18650.0, weight=0.2727, market_value=16861838), FMPEtfEquityExposureData(equity_symbol=NVDA, etf_symbol=CSM, shares=18173.0, weight=0.03730865905630008, market_value=16430572.76), FMPEtfEquityExposureData(equity_symbol=NVDA, etf_symbol=FFLC, shares=18176.0, weight=0.0561, market_value=16336225.28), FMPEtfEquityExposureData(equity_symbol=NVDA, etf_symbol=ARKW, shares=17708.0, weight=0.0103, market_value=16035302.32), FMPEtfEquityExposureData(equity_symbol=NVDA, etf_symbol=QDPL, shares=17263.0, weight=0.0446, market_value=15607823.56), FMPEtfEquityExposureData(equity_symbol=NVDA, etf_symbol=QDIV.L, shares=16752.0, weight=0.0176463, market_value=15145818.24), FMPEtfEquityExposureData(equity_symbol=NVDA, etf_symbol=ROBO, shares=93759.0, weight=0.012199999999999999, market_value=15002377.59), FMPEtfEquityExposureData(equity_symbol=NVDA, etf_symbol=QDVD.DE, shares=16600.0, weight=0.0173363, market_value=14564010), FMPEtfEquityExposureData(equity_symbol=NVDA, etf_symbol=FLQL, shares=18336.0, weight=0.012, market_value=14499898), FMPEtfEquityExposureData(equity_symbol=NVDA, etf_symbol=FTQI, shares=15975.0, weight=0.0467, market_value=14358010.5), FMPEtfEquityExposureData(equity_symbol=NVDA, etf_symbol=XVV, shares=15776.0, weight=0.056115500000000006, market_value=14263397.12), FMPEtfEquityExposureData(equity_symbol=NVDA, etf_symbol=QDEF, shares=15536.0, weight=0.03899, market_value=14046408.32), FMPEtfEquityExposureData(equity_symbol=NVDA, etf_symbol=KOMP, shares=15480.0, weight=0.00708677, market_value=13913114.4), FMPEtfEquityExposureData(equity_symbol=NVDA, etf_symbol=MODL, shares=15011.0, weight=0.0403909702, market_value=13593060.94), FMPEtfEquityExposureData(equity_symbol=NVDA, etf_symbol=PDP, shares=14375.0, weight=0.01054, market_value=12919962.5), FMPEtfEquityExposureData(equity_symbol=NVDA, etf_symbol=SHE, shares=14107.0, weight=0.053163049999999996, market_value=12679089.459999999), FMPEtfEquityExposureData(equity_symbol=NVDA, etf_symbol=SFLR, shares=14018.0, weight=0.0484, market_value=12599098.04), FMPEtfEquityExposureData(equity_symbol=NVDA, etf_symbol=PRF, shares=13710.0, weight=0.0017599999999999998, market_value=12322273.8), FMPEtfEquityExposureData(equity_symbol=NVDA, etf_symbol=QQQE, shares=13589.0, weight=0.010365989401, market_value=12305383.06), FMPEtfEquityExposureData(equity_symbol=NVDA, etf_symbol=HCMT, shares=12841.0, weight=0.040481997061, market_value=11628039.14), FMPEtfEquityExposureData(equity_symbol=NVDA, etf_symbol=RWL, shares=12789.0, weight=0.00367, market_value=11494497.42), FMPEtfEquityExposureData(equity_symbol=NVDA, etf_symbol=IRBO, shares=12699.0, weight=0.0173668, market_value=11481419.88), FMPEtfEquityExposureData(equity_symbol=NVDA, etf_symbol=NVDU, shares=12424.0, weight=0.070609010561, market_value=11250428.96), FMPEtfEquityExposureData(equity_symbol=NVDA, etf_symbol=ARKF, shares=12235.0, weight=0.0109, market_value=11079281.9), FMPEtfEquityExposureData(equity_symbol=NVDA, etf_symbol=FDMO, shares=11845.0, weight=0.053399999999999996, market_value=10646049.1), FMPEtfEquityExposureData(equity_symbol=NVDA, etf_symbol=GLOV, shares=11600.0, weight=None, market_value=10294652), FMPEtfEquityExposureData(equity_symbol=NVDA, etf_symbol=SWANX, shares=0.0, weight=0.007699277341, market_value=10049004.24), FMPEtfEquityExposureData(equity_symbol=NVDA, etf_symbol=SPHB, shares=11000.0, weight=0.0161, market_value=9886580), FMPEtfEquityExposureData(equity_symbol=NVDA, etf_symbol=FTC, shares=11024.0, weight=0.009000000000000001, market_value=9783469.28), FMPEtfEquityExposureData(equity_symbol=NVDA, etf_symbol=IGWD.L, shares=13465.0, weight=0.034723199999999996, market_value=9744247.65), FMPEtfEquityExposureData(equity_symbol=NVDA, etf_symbol=TSPA, shares=10341.0, weight=0.05501105, market_value=9343713.96), FMPEtfEquityExposureData(equity_symbol=NVDA, etf_symbol=GINN, shares=10101.0, weight=None, market_value=8964334.47), FMPEtfEquityExposureData(equity_symbol=NVDA, etf_symbol=QLC, shares=9910.0, weight=0.04457, market_value=8959829.2), FMPEtfEquityExposureData(equity_symbol=NVDA, etf_symbol=MMTM, shares=9939.0, weight=0.09013655, market_value=8932974.42), FMPEtfEquityExposureData(equity_symbol=NVDA, etf_symbol=NXTG, shares=9594.0, weight=0.0231, market_value=8622895.32), FMPEtfEquityExposureData(equity_symbol=NVDA, etf_symbol=IUVE.AS, shares=9328.0, weight=0.0177739, market_value=8433631.36), FMPEtfEquityExposureData(equity_symbol=NVDA, etf_symbol=FELV, shares=9275.0, weight=0.0046, market_value=8336184.5), FMPEtfEquityExposureData(equity_symbol=NVDA, etf_symbol=ADME, shares=8899.0, weight=0.0516, market_value=8058400.46), FMPEtfEquityExposureData(equity_symbol=NVDA, etf_symbol=VFMO, shares=8768.0, weight=0.015300000000000001, market_value=7922414.08), FMPEtfEquityExposureData(equity_symbol=NVDA, etf_symbol=TOK, shares=8482.0, weight=0.0368461, market_value=7668745.84), FMPEtfEquityExposureData(equity_symbol=NVDA, etf_symbol=DUBS, shares=7852.0, weight=0.044000000000000004, market_value=7110300.08), FMPEtfEquityExposureData(equity_symbol=NVDA, etf_symbol=FBOT, shares=7888.0, weight=0.0677, market_value=7089576.64), FMPEtfEquityExposureData(equity_symbol=NVDA, etf_symbol=TGRW, shares=7702.0, weight=0.09374523, market_value=6959219.12), FMPEtfEquityExposureData(equity_symbol=NVDA, etf_symbol=BLOK, shares=7662.0, weight=0.0109, market_value=6927367.44), FMPEtfEquityExposureData(equity_symbol=NVDA, etf_symbol=FGRO, shares=0.0, weight=0.0527, market_value=6871472), FMPEtfEquityExposureData(equity_symbol=NVDA, etf_symbol=TGRT, shares=7563.0, weight=0.08859754349999999, market_value=6848599.02), FMPEtfEquityExposureData(equity_symbol=NVDA, etf_symbol=QYLG, shares=7521.0, weight=0.0641, market_value=6674661.87), FMPEtfEquityExposureData(equity_symbol=NVDA, etf_symbol=EQWL, shares=7223.0, weight=0.01011, market_value=6491887.94), FMPEtfEquityExposureData(equity_symbol=NVDA, etf_symbol=SPUU, shares=7145.0, weight=0.042191467962000004, market_value=6470083.3), FMPEtfEquityExposureData(equity_symbol=NVDA, etf_symbol=QFLR, shares=7027.0, weight=0.0668, market_value=6315727.06), FMPEtfEquityExposureData(equity_symbol=NVDA, etf_symbol=QTUM, shares=6922.0, weight=0.0248, market_value=6258318.64), FMPEtfEquityExposureData(equity_symbol=NVDA, etf_symbol=MTAV.L, shares=0.0, weight=0.0692699, market_value=6247320.46), FMPEtfEquityExposureData(equity_symbol=NVDA, etf_symbol=MTAV.AS, shares=6899.0, weight=0.07055729999999999, market_value=6237523.88), FMPEtfEquityExposureData(equity_symbol=NVDA, etf_symbol=FCPI, shares=6850.0, weight=0.0397, market_value=6156643), FMPEtfEquityExposureData(equity_symbol=NVDA, etf_symbol=IS07.DE, shares=0.0, weight=0.010619700000000001, market_value=5753801.16), FMPEtfEquityExposureData(equity_symbol=NVDA, etf_symbol=IFSW.L, shares=6354.0, weight=0.0106125, market_value=5744778.48), FMPEtfEquityExposureData(equity_symbol=NVDA, etf_symbol=ONOF, shares=6436.0, weight=0.0475, market_value=5711756.92), FMPEtfEquityExposureData(equity_symbol=NVDA, etf_symbol=IBCZ.DE, shares=6354.0, weight=0.010460400000000002, market_value=5574681.9), FMPEtfEquityExposureData(equity_symbol=NVDA, etf_symbol=GPIX, shares=6208.0, weight=None, market_value=5509413.76), FMPEtfEquityExposureData(equity_symbol=NVDA, etf_symbol=WTAI, shares=0.0, weight=0.000239898, market_value=5438517.78), FMPEtfEquityExposureData(equity_symbol=NVDA, etf_symbol=FEX, shares=6039.0, weight=0.0045000000000000005, market_value=5427732.42), FMPEtfEquityExposureData(equity_symbol=NVDA, etf_symbol=PBP, shares=5811.0, weight=0.05287, market_value=5222810.58), FMPEtfEquityExposureData(equity_symbol=NVDA, etf_symbol=LRNZ, shares=5878.0, weight=0.13269999999999998, market_value=5220000), FMPEtfEquityExposureData(equity_symbol=NVDA, etf_symbol=MMLG, shares=5783.0, weight=0.0794, market_value=5197644.74), FMPEtfEquityExposureData(equity_symbol=NVDA, etf_symbol=FLRG, shares=5779.0, weight=0.0489, market_value=5194049.62), FMPEtfEquityExposureData(equity_symbol=NVDA, etf_symbol=WDMF.AX, shares=3864.0, weight=0.032531, market_value=5190228.67), FMPEtfEquityExposureData(equity_symbol=NVDA, etf_symbol=QLV, shares=5720.0, weight=0.032891, market_value=5171566.4), FMPEtfEquityExposureData(equity_symbol=NVDA, etf_symbol=DMRL, shares=7051.0, weight=0.0138, market_value=5140374.59), FMPEtfEquityExposureData(equity_symbol=NVDA, etf_symbol=WPAD.AS, shares=5555.0, weight=0.039487999999999995, market_value=5022386.6), FMPEtfEquityExposureData(equity_symbol=NVDA, etf_symbol=WPAB.AS, shares=0.0, weight=0.0394964, market_value=4797550.92), FMPEtfEquityExposureData(equity_symbol=NVDA, etf_symbol=IUS, shares=5318.0, weight=0.00899, market_value=4779712.04), FMPEtfEquityExposureData(equity_symbol=NVDA, etf_symbol=ROBT, shares=5205.0, weight=0.0087, market_value=4678149.9), FMPEtfEquityExposureData(equity_symbol=NVDA, etf_symbol=PHDG, shares=5173.0, weight=0.03343, market_value=4649388.94), FMPEtfEquityExposureData(equity_symbol=NVDA, etf_symbol=WPAB.DE, shares=5298.0, weight=0.0391894, market_value=4648200.3), FMPEtfEquityExposureData(equity_symbol=NVDA, etf_symbol=STLG, shares=5022.0, weight=0.0876866, market_value=4540490.64), FMPEtfEquityExposureData(equity_symbol=NVDA, etf_symbol=STXG, shares=4947.0, weight=0.06509999999999999, market_value=4472681.64), FMPEtfEquityExposureData(equity_symbol=NVDA, etf_symbol=GVIP, shares=4919.0, weight=None, market_value=4365464.93), FMPEtfEquityExposureData(equity_symbol=NVDA, etf_symbol=ISPY, shares=4711.0, weight=0.02060914684899255, market_value=4259309.32), FMPEtfEquityExposureData(equity_symbol=NVDA, etf_symbol=GPIQ, shares=4629.0, weight=None, market_value=4108098.63), FMPEtfEquityExposureData(equity_symbol=NVDA, etf_symbol=ISPE.L, shares=0.0, weight=0.0020939, market_value=3926421.44), FMPEtfEquityExposureData(equity_symbol=NVDA, etf_symbol=EWSP.L, shares=4331.0, weight=0.0020917, market_value=3915743.72), FMPEtfEquityExposureData(equity_symbol=NVDA, etf_symbol=HDUS, shares=4327.0, weight=0.0338576934, market_value=3912127.24), FMPEtfEquityExposureData(equity_symbol=NVDA, etf_symbol=EWSP.AS, shares=4406.0, weight=0.0020447, market_value=3865604.1), FMPEtfEquityExposureData(equity_symbol=NVDA, etf_symbol=TRFK, shares=4275.0, weight=0.1313, market_value=3865113), FMPEtfEquityExposureData(equity_symbol=NVDA, etf_symbol=SLT, shares=4275.0, weight=0.1313, market_value=3865113), FMPEtfEquityExposureData(equity_symbol=NVDA, etf_symbol=LSLT, shares=4275.0, weight=0.1313, market_value=3865113), FMPEtfEquityExposureData(equity_symbol=NVDA, etf_symbol=NZAC, shares=4282.0, weight=0.034167619999999996, market_value=3848575.96), FMPEtfEquityExposureData(equity_symbol=NVDA, etf_symbol=LQGH.L, shares=0.0, weight=0.00045159999999999997, market_value=3766110.01), FMPEtfEquityExposureData(equity_symbol=NVDA, etf_symbol=LQEE.L, shares=0.0, weight=0.00045159999999999997, market_value=3766110.01), FMPEtfEquityExposureData(equity_symbol=NVDA, etf_symbol=LQDA.L, shares=0.0, weight=0.00045159999999999997, market_value=3766110.01), FMPEtfEquityExposureData(equity_symbol=NVDA, etf_symbol=COWG, shares=4054.0, weight=0.0282, market_value=3665302.48), FMPEtfEquityExposureData(equity_symbol=NVDA, etf_symbol=GLOF, shares=4020.0, weight=0.0294168, market_value=3634562.4), FMPEtfEquityExposureData(equity_symbol=NVDA, etf_symbol=SPXN, shares=3960.0, weight=0.06042550255584125, market_value=3580315.2), FMPEtfEquityExposureData(equity_symbol=NVDA, etf_symbol=R1GR.L, shares=3947.0, weight=0.081982, market_value=3568561.64), FMPEtfEquityExposureData(equity_symbol=NVDA, etf_symbol=BKCH, shares=3912.0, weight=0.0241, market_value=3471782.64), FMPEtfEquityExposureData(equity_symbol=NVDA, etf_symbol=XYLG, shares=3861.0, weight=0.0512, market_value=3426521.67), FMPEtfEquityExposureData(equity_symbol=NVDA, etf_symbol=QQMG, shares=3804.0, weight=0.0872, market_value=3418959.12), FMPEtfEquityExposureData(equity_symbol=NVDA, etf_symbol=PLAY.L, shares=0.0, weight=0.0893589, market_value=3363175.56), FMPEtfEquityExposureData(equity_symbol=NVDA, etf_symbol=PLAY.AS, shares=3714.0, weight=0.0896998, market_value=3357901.68), FMPEtfEquityExposureData(equity_symbol=NVDA, etf_symbol=SPTE, shares=3657.0, weight=0.11, market_value=3306366.84), FMPEtfEquityExposureData(equity_symbol=NVDA, etf_symbol=QWLD, shares=3631.0, weight=0.02717048, market_value=3263470.1799999997), FMPEtfEquityExposureData(equity_symbol=NVDA, etf_symbol=GBUY, shares=3601.0, weight=None, market_value=3195779.47), FMPEtfEquityExposureData(equity_symbol=NVDA, etf_symbol=ENTR, shares=7798.0, weight=0.0382, market_value=3110652.18), FMPEtfEquityExposureData(equity_symbol=NVDA, etf_symbol=FFTY, shares=3409.0, weight=0.0345, market_value=3063941.02), FMPEtfEquityExposureData(equity_symbol=NVDA, etf_symbol=VFQY, shares=3263.0, weight=0.0088, market_value=2948316.28), FMPEtfEquityExposureData(equity_symbol=NVDA, etf_symbol=ROUS, shares=3219.0, weight=0.0071434075, market_value=2910362.28), FMPEtfEquityExposureData(equity_symbol=NVDA, etf_symbol=MFUS, shares=3024.0, weight=0.0192, market_value=2738352.96), FMPEtfEquityExposureData(equity_symbol=NVDA, etf_symbol=SPXE, shares=2908.0, weight=0.05329183572163916, market_value=2629180.96), FMPEtfEquityExposureData(equity_symbol=NVDA, etf_symbol=IBCD.DE, shares=3165000.0, weight=0.0003294, market_value=2619373.24), FMPEtfEquityExposureData(equity_symbol=NVDA, etf_symbol=LQDE.L, shares=3115000.0, weight=0.00031329999999999997, market_value=2610938.56), FMPEtfEquityExposureData(equity_symbol=NVDA, etf_symbol=FEUS, shares=2883.0, weight=0.057152, market_value=2606577.96), FMPEtfEquityExposureData(equity_symbol=NVDA, etf_symbol=DARP, shares=2852.0, weight=0.195, market_value=2563320.56), FMPEtfEquityExposureData(equity_symbol=NVDA, etf_symbol=SDGH.L, shares=0.0, weight=0.0003971, market_value=2551749.52), FMPEtfEquityExposureData(equity_symbol=NVDA, etf_symbol=FDCF, shares=2814.0, weight=0.0541, market_value=2529166.92), FMPEtfEquityExposureData(equity_symbol=NVDA, etf_symbol=IS3J.DE, shares=2865000.0, weight=0.0003978, market_value=2525344.39), FMPEtfEquityExposureData(equity_symbol=NVDA, etf_symbol=LGRO, shares=2653.0, weight=0.000302, market_value=2384463.34), FMPEtfEquityExposureData(equity_symbol=NVDA, etf_symbol=WQDA.AS, shares=0.0, weight=0.0029059000000000003, market_value=2379759.12), FMPEtfEquityExposureData(equity_symbol=NVDA, etf_symbol=WQDV.L, shares=2628.0, weight=0.002899, market_value=2376027.36), FMPEtfEquityExposureData(equity_symbol=NVDA, etf_symbol=BUZZ, shares=12912.0, weight=0.0268, market_value=2367415.2), FMPEtfEquityExposureData(equity_symbol=NVDA, etf_symbol=BLKC.L, shares=0.0, weight=0.0497119, market_value=2314560.24), FMPEtfEquityExposureData(equity_symbol=NVDA, etf_symbol=DGT, shares=2575.0, weight=0.01127968, market_value=2314358.5), FMPEtfEquityExposureData(equity_symbol=NVDA, etf_symbol=BLKC.AS, shares=2556.0, weight=0.049876300000000005, market_value=2310930.72), FMPEtfEquityExposureData(equity_symbol=NVDA, etf_symbol=QDVW.DE, shares=2628.0, weight=0.0028779, market_value=2305675.8), FMPEtfEquityExposureData(equity_symbol=NVDA, etf_symbol=ERND.L, shares=2234000.0, weight=0.0015166, market_value=2229977.09), FMPEtfEquityExposureData(equity_symbol=NVDA, etf_symbol=ERNA.L, shares=0.0, weight=0.0015271000000000002, market_value=2229741.63), FMPEtfEquityExposureData(equity_symbol=NVDA, etf_symbol=IS3L.DE, shares=2234000.0, weight=0.001553, market_value=2225541.84), FMPEtfEquityExposureData(equity_symbol=NVDA, etf_symbol=TTAC, shares=3071.0, weight=0.0111, market_value=2181734.53), FMPEtfEquityExposureData(equity_symbol=NVDA, etf_symbol=FNDB, shares=2464.0, weight=0.002973550379, market_value=2181484.9056), FMPEtfEquityExposureData(equity_symbol=NVDA, etf_symbol=IWLG, shares=2409.0, weight=0.07629999999999999, market_value=2176676.04), FMPEtfEquityExposureData(equity_symbol=NVDA, etf_symbol=TSWE.DE, shares=8910.0, weight=0.0039000000000000003, market_value=2165920), FMPEtfEquityExposureData(equity_symbol=NVDA, etf_symbol=TSWE.AS, shares=8910.0, weight=0.0039000000000000003, market_value=2165920), FMPEtfEquityExposureData(equity_symbol=NVDA, etf_symbol=XITK, shares=2379.0, weight=0.01762527, market_value=2138197.62), FMPEtfEquityExposureData(equity_symbol=NVDA, etf_symbol=JHMT, shares=3059.0, weight=0.038900000000000004, market_value=2131704.11), FMPEtfEquityExposureData(equity_symbol=NVDA, etf_symbol=DTCR, shares=2386.0, weight=0.0323, market_value=2117503.42), FMPEtfEquityExposureData(equity_symbol=NVDA, etf_symbol=NACP, shares=2230.0, weight=0.0455, market_value=2019354.2), FMPEtfEquityExposureData(equity_symbol=NVDA, etf_symbol=VPN, shares=2166.0, weight=0.031400000000000004, market_value=1957110.96), FMPEtfEquityExposureData(equity_symbol=NVDA, etf_symbol=ESGA, shares=3841.0, weight=0.015300000000000001, market_value=1956710.86), FMPEtfEquityExposureData(equity_symbol=NVDA, etf_symbol=UFSD.L, shares=0.0, weight=0.0249735, market_value=1918839.26), FMPEtfEquityExposureData(equity_symbol=NVDA, etf_symbol=IFSU.L, shares=2119.0, weight=0.0249114, market_value=1915830.28), FMPEtfEquityExposureData(equity_symbol=NVDA, etf_symbol=ILDR, shares=2129.0, weight=0.0676, market_value=1913502.62), FMPEtfEquityExposureData(equity_symbol=NVDA, etf_symbol=FNGG, shares=2085.0, weight=0.041882199324, market_value=1888050.9), FMPEtfEquityExposureData(equity_symbol=NVDA, etf_symbol=GK, shares=2100.0, weight=0.0916, market_value=1887438), FMPEtfEquityExposureData(equity_symbol=NVDA, etf_symbol=IBCY.DE, shares=2119.0, weight=0.024566400000000002, market_value=1859104.65), FMPEtfEquityExposureData(equity_symbol=NVDA, etf_symbol=JPUS, shares=2066.0, weight=0.0042, market_value=1856879.48), FMPEtfEquityExposureData(equity_symbol=NVDA, etf_symbol=PSET, shares=2027.0, weight=0.036214810187, market_value=1821827.06), FMPEtfEquityExposureData(equity_symbol=NVDA, etf_symbol=XRMI, shares=1962.0, weight=0.052300000000000006, market_value=1741216.14), FMPEtfEquityExposureData(equity_symbol=NVDA, etf_symbol=CARZ, shares=1893.0, weight=0.0454, market_value=1701390.54), FMPEtfEquityExposureData(equity_symbol=NVDA, etf_symbol=HSPX, shares=2774.0, weight=0.0109, market_value=1583843.01), FMPEtfEquityExposureData(equity_symbol=NVDA, etf_symbol=XOUT, shares=2683.0, weight=0.0159, market_value=1574159.27), FMPEtfEquityExposureData(equity_symbol=NVDA, etf_symbol=BKIV, shares=1730.0, weight=0.1137, market_value=1564127.6), FMPEtfEquityExposureData(equity_symbol=NVDA, etf_symbol=HAIL, shares=1739.0, weight=0.0292332, market_value=1562978.42), FMPEtfEquityExposureData(equity_symbol=NVDA, etf_symbol=BLCN, shares=1717.0, weight=0.0217, market_value=1552374.04), FMPEtfEquityExposureData(equity_symbol=NVDA, etf_symbol=FMET, shares=1722.0, weight=0.051100000000000007, market_value=1547699.16), FMPEtfEquityExposureData(equity_symbol=NVDA, etf_symbol=SDIA.L, shares=0.0, weight=0.0002404, market_value=1544560.76), FMPEtfEquityExposureData(equity_symbol=NVDA, etf_symbol=CEBU.DE, shares=0.0, weight=0.0002404, market_value=1544560.76), FMPEtfEquityExposureData(equity_symbol=NVDA, etf_symbol=SDIG.L, shares=1594000.0, weight=0.00023970000000000003, market_value=1543785.94), FMPEtfEquityExposureData(equity_symbol=NVDA, etf_symbol=BALI, shares=1645.0, weight=0.0487477, market_value=1487277.4), FMPEtfEquityExposureData(equity_symbol=NVDA, etf_symbol=EUSA, shares=1618.0, weight=0.0019955, market_value=1462866.16), FMPEtfEquityExposureData(equity_symbol=NVDA, etf_symbol=GSEW, shares=1638.0, weight=None, market_value=1453675.86), FMPEtfEquityExposureData(equity_symbol=NVDA, etf_symbol=ID28.L, shares=0.0, weight=0.0030908000000000003, market_value=1428446.36), FMPEtfEquityExposureData(equity_symbol=NVDA, etf_symbol=D28G.L, shares=0.0, weight=0.0030908000000000003, market_value=1428446.36), FMPEtfEquityExposureData(equity_symbol=NVDA, etf_symbol=D28A.L, shares=0.0, weight=0.0030908000000000003, market_value=1428446.36), FMPEtfEquityExposureData(equity_symbol=NVDA, etf_symbol=LEGR, shares=1569.0, weight=0.0132, market_value=1410185.82), FMPEtfEquityExposureData(equity_symbol=NVDA, etf_symbol=FLSP, shares=1507.0, weight=0.0075, market_value=1364648.78), FMPEtfEquityExposureData(equity_symbol=NVDA, etf_symbol=BTEK.L, shares=1456.0, weight=0.0826548, market_value=1316398.72), FMPEtfEquityExposureData(equity_symbol=NVDA, etf_symbol=BTEK, shares=1456.0, weight=0.0826548, market_value=1316398.72), FMPEtfEquityExposureData(equity_symbol=NVDA, etf_symbol=CBU5.DE, shares=1468000.0, weight=0.0030702000000000004, market_value=1294239.16), FMPEtfEquityExposureData(equity_symbol=NVDA, etf_symbol=CBU4.DE, shares=1468000.0, weight=0.0030702000000000004, market_value=1294239.16), FMPEtfEquityExposureData(equity_symbol=NVDA, etf_symbol=FCTR, shares=1401.0, weight=0.017, market_value=1259190.78), FMPEtfEquityExposureData(equity_symbol=NVDA, etf_symbol=SPXV, shares=1314.0, weight=0.05821477623953046, market_value=1188013.68), FMPEtfEquityExposureData(equity_symbol=NVDA, etf_symbol=IQQQ, shares=1115.0, weight=0.025681388936315216, market_value=1008093.8), FMPEtfEquityExposureData(equity_symbol=NVDA, etf_symbol=VMNFX, shares=1995.0, weight=0.056799999999999996, market_value=987963.9), FMPEtfEquityExposureData(equity_symbol=NVDA, etf_symbol=VFMF, shares=1069.0, weight=0.0037, market_value=965905.64), FMPEtfEquityExposureData(equity_symbol=NVDA, etf_symbol=STCE, shares=1060.0, weight=0.026909159493, market_value=938463.4739999999), FMPEtfEquityExposureData(equity_symbol=NVDA, etf_symbol=XPND, shares=1040.0, weight=0.051399999999999994, market_value=934731.2), FMPEtfEquityExposureData(equity_symbol=NVDA, etf_symbol=VCAR, shares=1032.0, weight=0.18741768, market_value=927540.96), FMPEtfEquityExposureData(equity_symbol=NVDA, etf_symbol=IBLC, shares=1014.0, weight=0.048582099999999996, market_value=899894.58), FMPEtfEquityExposureData(equity_symbol=NVDA, etf_symbol=RYJ, shares=995.0, weight=0.00584, market_value=899201.4), FMPEtfEquityExposureData(equity_symbol=NVDA, etf_symbol=JUSA, shares=1844.0, weight=0.0317, market_value=895225.12), FMPEtfEquityExposureData(equity_symbol=NVDA, etf_symbol=VLU, shares=982.0, weight=0.0024917800000000003, market_value=882601.96), FMPEtfEquityExposureData(equity_symbol=NVDA, etf_symbol=INNO, shares=966.0, weight=0.000271372275, market_value=873379.92), FMPEtfEquityExposureData(equity_symbol=NVDA, etf_symbol=QRMI, shares=983.0, weight=0.066, market_value=872383.01), FMPEtfEquityExposureData(equity_symbol=NVDA, etf_symbol=FAD, shares=959.0, weight=0.0045000000000000005, market_value=861930.02), FMPEtfEquityExposureData(equity_symbol=NVDA, etf_symbol=GURU, shares=941.0, weight=0.0199, market_value=835109.27), FMPEtfEquityExposureData(equity_symbol=NVDA, etf_symbol=BKWO, shares=876.0, weight=0.063, market_value=792009.12), FMPEtfEquityExposureData(equity_symbol=NVDA, etf_symbol=ULVM, shares=856.0, weight=0.005104028900000001, market_value=775142.24), FMPEtfEquityExposureData(equity_symbol=NVDA, etf_symbol=AVSU, shares=3195.0, weight=0.0075, market_value=772582.95), FMPEtfEquityExposureData(equity_symbol=NVDA, etf_symbol=IWFG, shares=818.0, weight=0.0803, market_value=739112.08), FMPEtfEquityExposureData(equity_symbol=NVDA, etf_symbol=NSPI, shares=1055.0, weight=0.0416, market_value=731452.6), FMPEtfEquityExposureData(equity_symbol=NVDA, etf_symbol=CBUI.DE, shares=801.0, weight=0.0028891, market_value=724200.12), FMPEtfEquityExposureData(equity_symbol=NVDA, etf_symbol=SIZE, shares=787.0, weight=0.0022470000000000003, market_value=711542.44), FMPEtfEquityExposureData(equity_symbol=NVDA, etf_symbol=TRPL, shares=778.0, weight=0.0352, market_value=703405.36), FMPEtfEquityExposureData(equity_symbol=NVDA, etf_symbol=PWS, shares=778.0, weight=0.0352, market_value=703405.36), FMPEtfEquityExposureData(equity_symbol=NVDA, etf_symbol=SUOU.AS, shares=769000.0, weight=0.0002812, market_value=693789.3), FMPEtfEquityExposureData(equity_symbol=NVDA, etf_symbol=CHGX, shares=1076.0, weight=0.0113, market_value=684057.92), FMPEtfEquityExposureData(equity_symbol=NVDA, etf_symbol=ERNU.L, shares=700000.0, weight=0.0006, market_value=681484.67), FMPEtfEquityExposureData(equity_symbol=NVDA, etf_symbol=CFA, shares=751.0, weight=0.0013184881, market_value=680060.54), FMPEtfEquityExposureData(equity_symbol=NVDA, etf_symbol=HIBL, shares=736.0, weight=0.012037777373, market_value=666477.44), FMPEtfEquityExposureData(equity_symbol=NVDA, etf_symbol=PEXL, shares=722.0, weight=0.0104, market_value=652774.64), FMPEtfEquityExposureData(equity_symbol=NVDA, etf_symbol=ETHO, shares=718.0, weight=0.0036, market_value=649158.16), FMPEtfEquityExposureData(equity_symbol=NVDA, etf_symbol=FMIL, shares=0.0, weight=0.0069, market_value=624510), FMPEtfEquityExposureData(equity_symbol=NVDA, etf_symbol=SUSU.L, shares=624000.0, weight=0.0005531, market_value=622512.95), FMPEtfEquityExposureData(equity_symbol=NVDA, etf_symbol=SGSU.L, shares=0.0, weight=0.0005457, market_value=622421.22), FMPEtfEquityExposureData(equity_symbol=NVDA, etf_symbol=IU0E.DE, shares=0.0, weight=0.0005457, market_value=622421.22), FMPEtfEquityExposureData(equity_symbol=NVDA, etf_symbol=SSPX, shares=686.0, weight=0.0719, market_value=616563), FMPEtfEquityExposureData(equity_symbol=NVDA, etf_symbol=NWLG, shares=677.0, weight=0.08289999999999999, market_value=611710.12), FMPEtfEquityExposureData(equity_symbol=NVDA, etf_symbol=SUOA.AS, shares=0.0, weight=0.0002468, market_value=610409.08), FMPEtfEquityExposureData(equity_symbol=NVDA, etf_symbol=QQQA, shares=671.0, weight=0.04948488257318167, market_value=606664.52), FMPEtfEquityExposureData(equity_symbol=NVDA, etf_symbol=CRPU.L, shares=0.0, weight=0.0001597, market_value=600568.37), FMPEtfEquityExposureData(equity_symbol=NVDA, etf_symbol=CFO, shares=650.0, weight=0.0013164871000000001, market_value=588601), FMPEtfEquityExposureData(equity_symbol=NVDA, etf_symbol=EGUS, shares=647.0, weight=0.0985442, market_value=584965.64), FMPEtfEquityExposureData(equity_symbol=NVDA, etf_symbol=SUOP.L, shares=0.0, weight=0.0002216, market_value=547965.95), FMPEtfEquityExposureData(equity_symbol=NVDA, etf_symbol=36BA.DE, shares=0.0, weight=0.0002216, market_value=547965.95), FMPEtfEquityExposureData(equity_symbol=NVDA, etf_symbol=CRPA.L, shares=0.0, weight=0.0001429, market_value=537221.52), FMPEtfEquityExposureData(equity_symbol=NVDA, etf_symbol=BTHM, shares=589.0, weight=0.0764587, market_value=532526.68), FMPEtfEquityExposureData(equity_symbol=NVDA, etf_symbol=36BE.DE, shares=714000.0, weight=0.0002186, market_value=532288.15), FMPEtfEquityExposureData(equity_symbol=NVDA, etf_symbol=ID26.L, shares=0.0, weight=0.0020884, market_value=531811.17), FMPEtfEquityExposureData(equity_symbol=NVDA, etf_symbol=D26G.L, shares=0.0, weight=0.0020884, market_value=531811.17), FMPEtfEquityExposureData(equity_symbol=NVDA, etf_symbol=D26A.L, shares=0.0, weight=0.0020884, market_value=531811.17), FMPEtfEquityExposureData(equity_symbol=NVDA, etf_symbol=D26A.DE, shares=549000.0, weight=0.0021288, market_value=528479.84), FMPEtfEquityExposureData(equity_symbol=NVDA, etf_symbol=CBU8.DE, shares=549000.0, weight=0.0021288, market_value=528479.84), FMPEtfEquityExposureData(equity_symbol=NVDA, etf_symbol=MOTO, shares=560.0, weight=0.0462, market_value=507102.41), FMPEtfEquityExposureData(equity_symbol=NVDA, etf_symbol=SYG, shares=1015.0, weight=0.0355, market_value=492126.21), FMPEtfEquityExposureData(equity_symbol=NVDA, etf_symbol=VMVFX, shares=542.0, weight=0.0002, market_value=489729.52), FMPEtfEquityExposureData(equity_symbol=NVDA, etf_symbol=VMNVX, shares=542.0, weight=0.0002, market_value=489729.52), FMPEtfEquityExposureData(equity_symbol=NVDA, etf_symbol=CRHG.L, shares=0.0, weight=0.0001224, market_value=460128.07), FMPEtfEquityExposureData(equity_symbol=NVDA, etf_symbol=36B7.DE, shares=0.0, weight=0.0001224, market_value=460128.07), FMPEtfEquityExposureData(equity_symbol=NVDA, etf_symbol=IS0X.DE, shares=475000.0, weight=0.00012200000000000001, market_value=457245.76), FMPEtfEquityExposureData(equity_symbol=NVDA, etf_symbol=AGGG.L, shares=500000.0, weight=4.96e-05, market_value=451098.37), FMPEtfEquityExposureData(equity_symbol=NVDA, etf_symbol=AGUG.AS, shares=0.0, weight=4.94e-05, market_value=450813.02), FMPEtfEquityExposureData(equity_symbol=NVDA, etf_symbol=VALT, shares=975.0, weight=0.0101, market_value=448675.5), FMPEtfEquityExposureData(equity_symbol=NVDA, etf_symbol=SILX, shares=975.0, weight=0.0089, market_value=448275.75), FMPEtfEquityExposureData(equity_symbol=NVDA, etf_symbol=VICE, shares=477.0, weight=0.059000000000000004, market_value=428718.06), FMPEtfEquityExposureData(equity_symbol=NVDA, etf_symbol=LVHB, shares=1535.0, weight=0.0195, market_value=426760.7), FMPEtfEquityExposureData(equity_symbol=NVDA, etf_symbol=INCU.L, shares=0.0, weight=0.042818699999999994, market_value=424698.26), FMPEtfEquityExposureData(equity_symbol=NVDA, etf_symbol=INCI.AS, shares=0.0, weight=0.042818699999999994, market_value=424698.26), FMPEtfEquityExposureData(equity_symbol=NVDA, etf_symbol=INCU.DE, shares=478.0, weight=0.043029000000000005, market_value=419373.3), FMPEtfEquityExposureData(equity_symbol=NVDA, etf_symbol=TINY, shares=451.0, weight=0.06802054237858136, market_value=407758.12), FMPEtfEquityExposureData(equity_symbol=NVDA, etf_symbol=IQM, shares=666.0, weight=0.0453, market_value=404662.84), FMPEtfEquityExposureData(equity_symbol=NVDA, etf_symbol=CRPT, shares=449.0, weight=0.0084, market_value=403552.22), FMPEtfEquityExposureData(equity_symbol=NVDA, etf_symbol=INRO, shares=441.0, weight=0.0737786, market_value=398716.92), FMPEtfEquityExposureData(equity_symbol=NVDA, etf_symbol=EQAL, shares=440.0, weight=0.00066, market_value=395463.2), FMPEtfEquityExposureData(equity_symbol=NVDA, etf_symbol=THNQ, shares=2387.0, weight=0.0167, market_value=381943.87), FMPEtfEquityExposureData(equity_symbol=NVDA, etf_symbol=CORP.L, shares=0.0, weight=0.00010070000000000001, market_value=378720.96), FMPEtfEquityExposureData(equity_symbol=NVDA, etf_symbol=IUME.AS, shares=388.0, weight=0.0768788, market_value=350798.56), FMPEtfEquityExposureData(equity_symbol=NVDA, etf_symbol=GIGB, shares=400000.0, weight=0.0005, market_value=336171.93), FMPEtfEquityExposureData(equity_symbol=NVDA, etf_symbol=WINC.L, shares=0.0, weight=0.030272399999999998, market_value=329616.56), FMPEtfEquityExposureData(equity_symbol=NVDA, etf_symbol=WINA.AS, shares=0.0, weight=0.030272399999999998, market_value=329616.56), FMPEtfEquityExposureData(equity_symbol=NVDA, etf_symbol=GAMR, shares=355.0, weight=0.0085, market_value=320962.6), FMPEtfEquityExposureData(equity_symbol=NVDA, etf_symbol=QOWZ, shares=357.0, weight=0.11319000000000001, market_value=320864.46), FMPEtfEquityExposureData(equity_symbol=NVDA, etf_symbol=IDAT, shares=345.0, weight=0.044820900000000004, market_value=311921.4), FMPEtfEquityExposureData(equity_symbol=NVDA, etf_symbol=TEMP, shares=347.0, weight=0.0126, market_value=311876.66), FMPEtfEquityExposureData(equity_symbol=NVDA, etf_symbol=QDYN, shares=715.0, weight=0.017853, market_value=302459.3), FMPEtfEquityExposureData(equity_symbol=NVDA, etf_symbol=WINC.DE, shares=347.0, weight=0.030681600000000003, market_value=293808.37), FMPEtfEquityExposureData(equity_symbol=NVDA, etf_symbol=GDEF, shares=328.0, weight=None, market_value=291090.16), FMPEtfEquityExposureData(equity_symbol=NVDA, etf_symbol=VIRS, shares=316.0, weight=0.08130000000000001, market_value=285701.92), FMPEtfEquityExposureData(equity_symbol=NVDA, etf_symbol=RTL, shares=1110.0, weight=0.044500000000000005, market_value=268142.7), FMPEtfEquityExposureData(equity_symbol=NVDA, etf_symbol=VERS, shares=292.0, weight=0.04581558260263527, market_value=264003.04), FMPEtfEquityExposureData(equity_symbol=NVDA, etf_symbol=ANEW, shares=289.0, weight=0.03203979501647539, market_value=261290.68), FMPEtfEquityExposureData(equity_symbol=NVDA, etf_symbol=HQGO, shares=284.0, weight=0.0449528968, market_value=256770.08), FMPEtfEquityExposureData(equity_symbol=NVDA, etf_symbol=JCTR, shares=283.0, weight=0.0482, market_value=254354.74), FMPEtfEquityExposureData(equity_symbol=NVDA, etf_symbol=EUNX.DE, shares=275000.0, weight=5.21e-05, market_value=244439.94), FMPEtfEquityExposureData(equity_symbol=NVDA, etf_symbol=IUAE.L, shares=0.0, weight=5.09e-05, market_value=242172.67), FMPEtfEquityExposureData(equity_symbol=NVDA, etf_symbol=CEBX.DE, shares=0.0, weight=5.09e-05, market_value=242172.67), FMPEtfEquityExposureData(equity_symbol=NVDA, etf_symbol=ESNG, shares=1015.0, weight=0.0212, market_value=225756.3), FMPEtfEquityExposureData(equity_symbol=NVDA, etf_symbol=BNGE, shares=246.0, weight=0.045700000000000005, market_value=221099.88), FMPEtfEquityExposureData(equity_symbol=NVDA, etf_symbol=SROI, shares=242.0, weight=0.0193863643, market_value=219140.68), FMPEtfEquityExposureData(equity_symbol=NVDA, etf_symbol=QYLE, shares=241.0, weight=0.0906, market_value=213880.27), FMPEtfEquityExposureData(equity_symbol=NVDA, etf_symbol=HAPY, shares=229.0, weight=0.000165795132, market_value=207043.48), FMPEtfEquityExposureData(equity_symbol=NVDA, etf_symbol=PLRG, shares=433.0, weight=0.031343226758, market_value=202669.98), FMPEtfEquityExposureData(equity_symbol=NVDA, etf_symbol=GPAL, shares=442.0, weight=None, market_value=202427.16), FMPEtfEquityExposureData(equity_symbol=NVDA, etf_symbol=SWAGX, shares=0.0, weight=4.1763389e-05, market_value=193208.06), FMPEtfEquityExposureData(equity_symbol=NVDA, etf_symbol=IVRS, shares=213.0, weight=0.029876999999999997, market_value=192577.56), FMPEtfEquityExposureData(equity_symbol=NVDA, etf_symbol=EUNA, shares=0.0, weight=2.1e-05, market_value=191864.83), FMPEtfEquityExposureData(equity_symbol=NVDA, etf_symbol=EUNU, shares=250000.0, weight=2.12e-05, market_value=186168.79), FMPEtfEquityExposureData(equity_symbol=NVDA, etf_symbol=SIFI, shares=200000.0, weight=5.425507600000001e-05, market_value=179934.51), FMPEtfEquityExposureData(equity_symbol=NVDA, etf_symbol=BBAG, shares=200000.0, weight=0.0001, market_value=179192.59), FMPEtfEquityExposureData(equity_symbol=NVDA, etf_symbol=CCON, shares=786.0, weight=0.026600000000000002, market_value=174822.12), FMPEtfEquityExposureData(equity_symbol=NVDA, etf_symbol=AGGU.L, shares=0.0, weight=1.84e-05, market_value=168172.96), FMPEtfEquityExposureData(equity_symbol=NVDA, etf_symbol=AGBP.L, shares=0.0, weight=1.84e-05, market_value=168172.96), FMPEtfEquityExposureData(equity_symbol=NVDA, etf_symbol=XTR, shares=183.0, weight=0.0499, market_value=162407.01), FMPEtfEquityExposureData(equity_symbol=NVDA, etf_symbol=ONEO, shares=177.0, weight=0.00105773, market_value=159084.06), FMPEtfEquityExposureData(equity_symbol=NVDA, etf_symbol=BLCR, shares=174.0, weight=0.022519900000000002, market_value=157316.88), FMPEtfEquityExposureData(equity_symbol=NVDA, etf_symbol=IWDS.AS, shares=0.0, weight=0.034352, market_value=156658.42), FMPEtfEquityExposureData(equity_symbol=NVDA, etf_symbol=QTR, shares=176.0, weight=0.0626, market_value=156194.72), FMPEtfEquityExposureData(equity_symbol=NVDA, etf_symbol=AFLG, shares=167.0, weight=0.0326, market_value=150096.26), FMPEtfEquityExposureData(equity_symbol=NVDA, etf_symbol=FTLB, shares=803.0, weight=0.0106, market_value=149960.25), FMPEtfEquityExposureData(equity_symbol=NVDA, etf_symbol=TYLG, shares=161.0, weight=0.0209, market_value=142882.67), FMPEtfEquityExposureData(equity_symbol=NVDA, etf_symbol=NZUS, shares=153.0, weight=0.05874933, market_value=137513.34), FMPEtfEquityExposureData(equity_symbol=NVDA, etf_symbol=SPMV, shares=150.0, weight=0.026269999999999998, market_value=134817), FMPEtfEquityExposureData(equity_symbol=NVDA, etf_symbol=MVPS, shares=148.0, weight=0.0518, market_value=133809.76), FMPEtfEquityExposureData(equity_symbol=NVDA, etf_symbol=CTRU, shares=736.0, weight=0.0105, market_value=125296.64), FMPEtfEquityExposureData(equity_symbol=NVDA, etf_symbol=LRND, shares=138.0, weight=0.0179, market_value=124768.56), FMPEtfEquityExposureData(equity_symbol=NVDA, etf_symbol=GRZZ, shares=271.0, weight=0.0998, market_value=123760.28), FMPEtfEquityExposureData(equity_symbol=NVDA, etf_symbol=IUGA.L, shares=0.0, weight=2.27e-05, market_value=107688.12), FMPEtfEquityExposureData(equity_symbol=NVDA, etf_symbol=IUAA.L, shares=0.0, weight=2.27e-05, market_value=107688.12), FMPEtfEquityExposureData(equity_symbol=NVDA, etf_symbol=SUAG.L, shares=130000.0, weight=2.2599999999999997e-05, market_value=107424.87), FMPEtfEquityExposureData(equity_symbol=NVDA, etf_symbol=QCLR, shares=119.0, weight=0.0625, market_value=105608.93), FMPEtfEquityExposureData(equity_symbol=NVDA, etf_symbol=ARVR, shares=116.0, weight=0.0297, market_value=104258.48), FMPEtfEquityExposureData(equity_symbol=NVDA, etf_symbol=EQLS, shares=115.3701840963115, weight=0.0006547988243597111, market_value=103692.4140620828), FMPEtfEquityExposureData(equity_symbol=NVDA, etf_symbol=XCLR, shares=116.0, weight=0.0499, market_value=102946.52), FMPEtfEquityExposureData(equity_symbol=NVDA, etf_symbol=BBCB, shares=123000.0, weight=0.0022, market_value=102322.12), FMPEtfEquityExposureData(equity_symbol=NVDA, etf_symbol=VCLO, shares=361.0, weight=0.0274002647481985, market_value=100830.91), FMPEtfEquityExposureData(equity_symbol=NVDA, etf_symbol=IGSD.L, shares=100000.0, weight=None, market_value=97354.95), FMPEtfEquityExposureData(equity_symbol=NVDA, etf_symbol=HLGE, shares=106.0, weight=0.0093538916, market_value=95836.72), FMPEtfEquityExposureData(equity_symbol=NVDA, etf_symbol=GENY, shares=200.0, weight=0.007797414067, market_value=93612), FMPEtfEquityExposureData(equity_symbol=NVDA, etf_symbol=XYLE, shares=105.0, weight=0.0721, market_value=93184.35), FMPEtfEquityExposureData(equity_symbol=NVDA, etf_symbol=AEGE.DE, shares=0.0, weight=3.3e-05, market_value=82837.02), FMPEtfEquityExposureData(equity_symbol=NVDA, etf_symbol=JCPB, shares=100000.0, weight=None, market_value=82125.91), FMPEtfEquityExposureData(equity_symbol=NVDA, etf_symbol=RND, shares=91.0, weight=0.0796, market_value=81788.98), FMPEtfEquityExposureData(equity_symbol=NVDA, etf_symbol=CRPH.SW, shares=100000.0, weight=6.27e-05, market_value=78061.26), FMPEtfEquityExposureData(equity_symbol=NVDA, etf_symbol=DEFN, shares=312.0, weight=0.019799999999999998, market_value=77815.92), FMPEtfEquityExposureData(equity_symbol=NVDA, etf_symbol=IBCQ.DE, shares=100000.0, weight=6.29e-05, market_value=77458.2), FMPEtfEquityExposureData(equity_symbol=NVDA, etf_symbol=AEGG.L, shares=0.0, weight=3.06e-05, market_value=76745.93), FMPEtfEquityExposureData(equity_symbol=NVDA, etf_symbol=HLQD.L, shares=0.0, weight=0.00047509999999999995, market_value=76656.85), FMPEtfEquityExposureData(equity_symbol=NVDA, etf_symbol=FDWM, shares=0.0, weight=0.015300000000000001, market_value=75452), FMPEtfEquityExposureData(equity_symbol=NVDA, etf_symbol=UEDD.AS, shares=75000.0, weight=0.0044444, market_value=74864.94), FMPEtfEquityExposureData(equity_symbol=NVDA, etf_symbol=SATO, shares=82.0, weight=0.00912, market_value=73699.96), FMPEtfEquityExposureData(equity_symbol=NVDA, etf_symbol=WRND, shares=66.0, weight=0.009300000000000001, market_value=59671.92), FMPEtfEquityExposureData(equity_symbol=NVDA, etf_symbol=GCOR, shares=76000.0, weight=0.0001, market_value=58209.85), FMPEtfEquityExposureData(equity_symbol=NVDA, etf_symbol=SXRF.DE, shares=65000.0, weight=0.0002579, market_value=57776.71), FMPEtfEquityExposureData(equity_symbol=NVDA, etf_symbol=IS3F.DE, shares=67000.0, weight=0.0003904, market_value=55449.61), FMPEtfEquityExposureData(equity_symbol=NVDA, etf_symbol=RSPE, shares=61.0, weight=0.00618, market_value=54825.58), FMPEtfEquityExposureData(equity_symbol=NVDA, etf_symbol=OND, shares=59.0, weight=0.07572194304857621, market_value=53343.08), FMPEtfEquityExposureData(equity_symbol=NVDA, etf_symbol=ICBU.L, shares=55000.0, weight=0.0002355, market_value=53287.55), FMPEtfEquityExposureData(equity_symbol=NVDA, etf_symbol=IVSG, shares=73.0, weight=0.0438, market_value=42798.98), FMPEtfEquityExposureData(equity_symbol=NVDA, etf_symbol=BLKC, shares=44.0, weight=0.01418, market_value=39546.32), FMPEtfEquityExposureData(equity_symbol=NVDA, etf_symbol=AGGE.AS, shares=40000.0, weight=1.43e-05, market_value=35609.96), FMPEtfEquityExposureData(equity_symbol=NVDA, etf_symbol=LSGR, shares=39.0, weight=0.11309, market_value=35260.68), FMPEtfEquityExposureData(equity_symbol=NVDA, etf_symbol=CPI, shares=55.0, weight=0.0067, market_value=25644.85), FMPEtfEquityExposureData(equity_symbol=NVDA, etf_symbol=AGGD.AS, shares=0.0, weight=1.01e-05, market_value=25225.94), FMPEtfEquityExposureData(equity_symbol=NVDA, etf_symbol=WGRO, shares=58.0, weight=0.000126735, market_value=24925.5), FMPEtfEquityExposureData(equity_symbol=NVDA, etf_symbol=LKOR, shares=20000.0, weight=0.000482, market_value=15085), FMPEtfEquityExposureData(equity_symbol=NVDA, etf_symbol=LQDH.SW, shares=16000.0, weight=8.86e-05, market_value=14250.04), FMPEtfEquityExposureData(equity_symbol=NVDA, etf_symbol=VMAX, shares=11.0, weight=0.0017267483, market_value=9945.32), FMPEtfEquityExposureData(equity_symbol=NVDA, etf_symbol=BBSA, shares=7000.0, weight=0.0004, market_value=6181.06), FMPEtfEquityExposureData(equity_symbol=NVDA, etf_symbol=TENG, shares=37.0, weight=0.0031248599999999997, market_value=4647.57), FMPEtfEquityExposureData(equity_symbol=NVDA, etf_symbol=VPOP, shares=15.0, weight=0.0058, market_value=2382), FMPEtfEquityExposureData(equity_symbol=NVDA, etf_symbol=RVRS, shares=5.0, weight=0.01, market_value=1834.66), FMPEtfEquityExposureData(equity_symbol=NVDA, etf_symbol=XUSR.TO, shares=0.0, weight=0.12409150000000001, market_value=0), FMPEtfEquityExposureData(equity_symbol=NVDA, etf_symbol=XSUS.TO, shares=0.0, weight=0.050136900000000005, market_value=0), FMPEtfEquityExposureData(equity_symbol=NVDA, etf_symbol=XQQ.TO, shares=0.0, weight=0.0637578, market_value=0), FMPEtfEquityExposureData(equity_symbol=NVDA, etf_symbol=WUGI, shares=6570.0, weight=0.049800000000000004, market_value=0), FMPEtfEquityExposureData(equity_symbol=NVDA, etf_symbol=WSRUS.SW, shares=0.0, weight=0.06280000000000001, market_value=0), FMPEtfEquityExposureData(equity_symbol=NVDA, etf_symbol=WSRIE.MI, shares=0.0, weight=0.0625, market_value=0), FMPEtfEquityExposureData(equity_symbol=NVDA, etf_symbol=WRDEUA.MI, shares=0.0, weight=0.0356, market_value=0), FMPEtfEquityExposureData(equity_symbol=NVDA, etf_symbol=WGMI, shares=721.0, weight=0.0371, market_value=0), FMPEtfEquityExposureData(equity_symbol=NVDA, etf_symbol=VMAT, shares=388.0, weight=0.0269, market_value=0), FMPEtfEquityExposureData(equity_symbol=NVDA, etf_symbol=USUE.DE, shares=0.0, weight=0.0258, market_value=0), FMPEtfEquityExposureData(equity_symbol=NVDA, etf_symbol=USPG.L, shares=0.0, weight=0.052199999999999996, market_value=0), FMPEtfEquityExposureData(equity_symbol=NVDA, etf_symbol=USFM.L, shares=0.0, weight=0.0258, market_value=0), FMPEtfEquityExposureData(equity_symbol=NVDA, etf_symbol=USFMDN.MX, shares=0.0, weight=0.0258, market_value=0), FMPEtfEquityExposureData(equity_symbol=NVDA, etf_symbol=USCHWH.SW, shares=0.0, weight=0.0496, market_value=0), FMPEtfEquityExposureData(equity_symbol=NVDA, etf_symbol=UQLT.L, shares=0.0, weight=0.0815, market_value=0), FMPEtfEquityExposureData(equity_symbol=NVDA, etf_symbol=UIMP.DE, shares=0.0, weight=0.0634, market_value=0), FMPEtfEquityExposureData(equity_symbol=NVDA, etf_symbol=UIMM.DE, shares=0.0, weight=0.06280000000000001, market_value=0), FMPEtfEquityExposureData(equity_symbol=NVDA, etf_symbol=UIM7.DE, shares=0.0, weight=0.0356, market_value=0), FMPEtfEquityExposureData(equity_symbol=NVDA, etf_symbol=UIM6.DE, shares=0.0, weight=0.0501, market_value=0), FMPEtfEquityExposureData(equity_symbol=NVDA, etf_symbol=UETW.DE, shares=0.0, weight=0.0356, market_value=0), FMPEtfEquityExposureData(equity_symbol=NVDA, etf_symbol=UET1.DE, shares=0.0, weight=0.0622, market_value=0), FMPEtfEquityExposureData(equity_symbol=NVDA, etf_symbol=UEQD.DE, shares=0.0, weight=0.0519, market_value=0), FMPEtfEquityExposureData(equity_symbol=NVDA, etf_symbol=UC99.L, shares=0.0, weight=0.0818, market_value=0), FMPEtfEquityExposureData(equity_symbol=NVDA, etf_symbol=UC68.L, shares=0.0, weight=0.0356, market_value=0), FMPEtfEquityExposureData(equity_symbol=NVDA, etf_symbol=UC67.L, shares=0.0, weight=0.0501, market_value=0), FMPEtfEquityExposureData(equity_symbol=NVDA, etf_symbol=UC55.L, shares=0.0, weight=0.0356, market_value=0), FMPEtfEquityExposureData(equity_symbol=NVDA, etf_symbol=UC46.L, shares=0.0, weight=0.0634, market_value=0), FMPEtfEquityExposureData(equity_symbol=NVDA, etf_symbol=UC44.L, shares=0.0, weight=0.06280000000000001, market_value=0), FMPEtfEquityExposureData(equity_symbol=NVDA, etf_symbol=UC13.L, shares=0.0, weight=0.0525, market_value=0), FMPEtfEquityExposureData(equity_symbol=NVDA, etf_symbol=UC04.L, shares=0.0, weight=0.0501, market_value=0), FMPEtfEquityExposureData(equity_symbol=NVDA, etf_symbol=UC03.L, shares=0.0, weight=0.0501, market_value=0), FMPEtfEquityExposureData(equity_symbol=NVDA, etf_symbol=UBUX.DE, shares=0.0, weight=0.0812, market_value=0), FMPEtfEquityExposureData(equity_symbol=NVDA, etf_symbol=UBUT.DE, shares=0.0, weight=0.0818, market_value=0), FMPEtfEquityExposureData(equity_symbol=NVDA, etf_symbol=UBUJ.DE, shares=0.0, weight=0.049800000000000004, market_value=0), FMPEtfEquityExposureData(equity_symbol=NVDA, etf_symbol=UBU9.DE, shares=0.0, weight=0.0525, market_value=0), FMPEtfEquityExposureData(equity_symbol=NVDA, etf_symbol=UBU7.DE, shares=0.0, weight=0.0356, market_value=0), FMPEtfEquityExposureData(equity_symbol=NVDA, etf_symbol=UBU3.DE, shares=0.0, weight=0.0501, market_value=0), FMPEtfEquityExposureData(equity_symbol=NVDA, etf_symbol=UB0A.L, shares=0.0, weight=0.0499, market_value=0), FMPEtfEquityExposureData(equity_symbol=NVDA, etf_symbol=TRFM, shares=248.0, weight=0.016399999999999998, market_value=0), FMPEtfEquityExposureData(equity_symbol=NVDA, etf_symbol=TMFC, shares=64471.0, weight=0.0304, market_value=0), FMPEtfEquityExposureData(equity_symbol=NVDA, etf_symbol=SRWG.L, shares=0.0, weight=0.06269999999999999, market_value=0), FMPEtfEquityExposureData(equity_symbol=NVDA, etf_symbol=SRUG.L, shares=0.0, weight=0.062400000000000004, market_value=0), FMPEtfEquityExposureData(equity_symbol=NVDA, etf_symbol=SRIW.L, shares=0.0, weight=0.06309999999999999, market_value=0), FMPEtfEquityExposureData(equity_symbol=NVDA, etf_symbol=SRIU.L, shares=0.0, weight=0.0633, market_value=0), FMPEtfEquityExposureData(equity_symbol=NVDA, etf_symbol=SPRX, shares=2049.0, weight=0.0962, market_value=0), FMPEtfEquityExposureData(equity_symbol=NVDA, etf_symbol=SIXH, shares=19452.0, weight=0.013000000000000001, market_value=0), FMPEtfEquityExposureData(equity_symbol=NVDA, etf_symbol=SEIM, shares=1060.0, weight=0.0143, market_value=0), FMPEtfEquityExposureData(equity_symbol=NVDA, etf_symbol=SEAC.DE, shares=0.0, weight=0.06280000000000001, market_value=0), FMPEtfEquityExposureData(equity_symbol=NVDA, etf_symbol=S5SG.DE, shares=0.0, weight=0.0718, market_value=0), FMPEtfEquityExposureData(equity_symbol=NVDA, etf_symbol=S5SD.L, shares=0.0, weight=0.0723, market_value=0), FMPEtfEquityExposureData(equity_symbol=NVDA, etf_symbol=S5SD.DE, shares=0.0, weight=0.0723, market_value=0), FMPEtfEquityExposureData(equity_symbol=NVDA, etf_symbol=S5EG.L, shares=0.0, weight=0.0587, market_value=0), FMPEtfEquityExposureData(equity_symbol=NVDA, etf_symbol=S5EE.L, shares=0.0, weight=0.059000000000000004, market_value=0), FMPEtfEquityExposureData(equity_symbol=NVDA, etf_symbol=ROCI, shares=0.0, weight=0.020099999999999996, market_value=0), FMPEtfEquityExposureData(equity_symbol=NVDA, etf_symbol=RIGZ, shares=2205.0, weight=0.0418, market_value=0), FMPEtfEquityExposureData(equity_symbol=NVDA, etf_symbol=RAFE, shares=277.0, weight=0.0016, market_value=0), FMPEtfEquityExposureData(equity_symbol=NVDA, etf_symbol=PUNK, shares=194.0, weight=0.0356, market_value=0), FMPEtfEquityExposureData(equity_symbol=NVDA, etf_symbol=OALC, shares=5875.0, weight=0.051058478394341925, market_value=0), FMPEtfEquityExposureData(equity_symbol=NVDA, etf_symbol=NBDS, shares=1243.0, weight=0.0591, market_value=0), FMPEtfEquityExposureData(equity_symbol=NVDA, etf_symbol=MPAY, shares=13.0, weight=0.0101, market_value=0), FMPEtfEquityExposureData(equity_symbol=NVDA, etf_symbol=MBCC, shares=5163.0, weight=0.0401, market_value=0), FMPEtfEquityExposureData(equity_symbol=NVDA, etf_symbol=LGBT, shares=204.0, weight=0.011000000000000001, market_value=0), FMPEtfEquityExposureData(equity_symbol=NVDA, etf_symbol=KOCG, shares=1253.0, weight=0.0113, market_value=0), FMPEtfEquityExposureData(equity_symbol=NVDA, etf_symbol=FXIT.ME, shares=0.0, weight=0.0479, market_value=0), FMPEtfEquityExposureData(equity_symbol=NVDA, etf_symbol=FXIM.ME, shares=0.0, weight=0.0479, market_value=0), FMPEtfEquityExposureData(equity_symbol=NVDA, etf_symbol=FOMO, shares=300.0, weight=0.0097, market_value=0), FMPEtfEquityExposureData(equity_symbol=NVDA, etf_symbol=FNGU, shares=0.0, weight=0.1, market_value=0), FMPEtfEquityExposureData(equity_symbol=NVDA, etf_symbol=FNGS, shares=0.0, weight=0.1, market_value=0), FMPEtfEquityExposureData(equity_symbol=NVDA, etf_symbol=FNGO, shares=0.0, weight=0.1, market_value=0), FMPEtfEquityExposureData(equity_symbol=NVDA, etf_symbol=FNGD, shares=0.0, weight=0.1, market_value=0), FMPEtfEquityExposureData(equity_symbol=NVDA, etf_symbol=FFND, shares=1218.0, weight=0.0229, market_value=0), FMPEtfEquityExposureData(equity_symbol=NVDA, etf_symbol=EUCG, shares=1092.0, weight=0.0215, market_value=0), FMPEtfEquityExposureData(equity_symbol=NVDA, etf_symbol=CLU.TO, shares=0.0, weight=0.0017815, market_value=0), FMPEtfEquityExposureData(equity_symbol=NVDA, etf_symbol=BULZ, shares=0.0, weight=0.0667, market_value=0), FMPEtfEquityExposureData(equity_symbol=NVDA, etf_symbol=BTCR, shares=397.0, weight=0.0225, market_value=0), FMPEtfEquityExposureData(equity_symbol=NVDA, etf_symbol=BERZ, shares=0.0, weight=0.0667, market_value=0), FMPEtfEquityExposureData(equity_symbol=NVDA, etf_symbol=AWSR.L, shares=0.0, weight=0.0623, market_value=0), FMPEtfEquityExposureData(equity_symbol=NVDA, etf_symbol=AWSG.L, shares=0.0, weight=0.062, market_value=0), FMPEtfEquityExposureData(equity_symbol=NVDA, etf_symbol=AWESGS.SW, shares=0.0, weight=0.044000000000000004, market_value=0), FMPEtfEquityExposureData(equity_symbol=NVDA, etf_symbol=AW1R.DE, shares=0.0, weight=0.061900000000000004, market_value=0), FMPEtfEquityExposureData(equity_symbol=NVDA, etf_symbol=AW1B.F, shares=0.0, weight=0.058600000000000006, market_value=0), FMPEtfEquityExposureData(equity_symbol=NVDA, etf_symbol=AW10.F, shares=0.0, weight=0.0401, market_value=0), FMPEtfEquityExposureData(equity_symbol=NVDA, etf_symbol=AOTG, shares=0.0, weight=0.0366, market_value=0), FMPEtfEquityExposureData(equity_symbol=NVDA, etf_symbol=5ESG.L, shares=0.0, weight=0.07200000000000001, market_value=0), FMPEtfEquityExposureData(equity_symbol=NVDA, etf_symbol=5ESGE.MI, shares=0.0, weight=0.0718, market_value=0), FMPEtfEquityExposureData(equity_symbol=NVDA, etf_symbol=4UBK.F, shares=0.0, weight=0.0633, market_value=0), FMPEtfEquityExposureData(equity_symbol=NVDA, etf_symbol=4UB9.F, shares=0.0, weight=0.06309999999999999, market_value=0), FMPEtfEquityExposureData(equity_symbol=NVDA, etf_symbol=4UB1.F, shares=0.0, weight=0.0625, market_value=0), FMPEtfEquityExposureData(equity_symbol=NVDA, etf_symbol=NVD, shares=-77247.0, weight=-2.01363133470523, market_value=-69428058.66), FMPEtfEquityExposureData(equity_symbol=NVDA, etf_symbol=I500.AS, shares=-146297.0, weight=-0.0269829, market_value=-132270043.64)] provider=\\'fmp\\' warnings=None chart=None extra={\\'metadata\\': Metadata\\n\\narguments: {\\'provider_choices\\': {\\'provider\\': \\'fmp\\'}, \\'standard_params\\': {\\'symbol\\': \\'NVDA\\'}, \\'extra_params\\': {}}\\nduration: 345383750\\nroute: /etf/equity_exposure\\ntimestamp: 2024-05-13 23:28:16.706978}'}}"
      ]
     },
     "execution_count": 123,
     "metadata": {},
     "output_type": "execute_result"
    }
   ],
   "source": [
    "tools"
   ]
  },
  {
   "cell_type": "code",
   "execution_count": 125,
   "id": "97cb14b9-9785-48ff-bdb4-15d3620ffeec",
   "metadata": {},
   "outputs": [
    {
     "data": {
      "text/plain": [
       "[{\"Given a stock symbol, gets item 1 of the company's latest 10-K annual report filing.\"},\n",
       " {'Given a search string, get the stock symbol of the top company whose name best matches the search string.'},\n",
       " {'Given a stock symbol, get the latest market data quote for the stock in JSON format.'},\n",
       " {'Given a stock symbol, get general background data about the company such as company name, industry, and sector data in JSON format'},\n",
       " {'Given a stock symbol, get data on short volume and days to cover in JSON format.'},\n",
       " {\"Given a stock symbol, get the company's historical stock splits in JSON format.\"},\n",
       " {'Given a stock symbol, get the latest balance sheet data for the company in JSON format.'},\n",
       " {'Given a stock symbol, get the latest cash flow statement data for the company in JSON format.'},\n",
       " {'Given a stock symbol, get the latest income statement data for the company in JSON format'},\n",
       " {'Given a stock symbol, get fundamental metrics for the company in JSON format.'},\n",
       " {'Given a stock symbol, get fundamental valuation ratios for the company in JSON format.'},\n",
       " {'Given a stock symbol, get fundamental valuation multiples for the company in JSON format.'},\n",
       " {'Given a stock symbol, get the latest dividend data for the company in JSON format.'},\n",
       " {'Given a stock symbol, get the 1 year trailing dividend yield for the company over time in JSON format.'},\n",
       " {'Given a stock symbol, get price performance data for the stock for different time periods in JSON format.'},\n",
       " {'Given a stock symbol, get the exposure of ETFs to the stock in JSON format.'}]"
      ]
     },
     "execution_count": 125,
     "metadata": {},
     "output_type": "execute_result"
    }
   ],
   "source": [
    "[{t['description']} for t in tools.values()]"
   ]
  }
 ],
 "metadata": {
  "kernelspec": {
   "display_name": "bb_agent",
   "language": "python",
   "name": "bb_agent"
  },
  "language_info": {
   "codemirror_mode": {
    "name": "ipython",
    "version": 3
   },
   "file_extension": ".py",
   "mimetype": "text/x-python",
   "name": "python",
   "nbconvert_exporter": "python",
   "pygments_lexer": "ipython3",
   "version": "3.11.9"
  }
 },
 "nbformat": 4,
 "nbformat_minor": 5
}
