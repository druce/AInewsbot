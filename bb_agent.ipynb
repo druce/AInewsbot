{
 "cells": [
  {
   "cell_type": "markdown",
   "id": "0003fc70-614a-45fe-824d-d95957d13b19",
   "metadata": {},
   "source": [
    "# Stock Market Question Answering Agent\n",
    "\n",
    "- Answer questions about individual stocks using (mostly) OpenBB functions\n",
    "- Uses the OpenAI tools functionality, writing our own BB_agent_tool class\n",
    "- Define a set of tool functions to call OpenBB\n",
    "- When prompting, give OpenAI the set of tools and their descriptions in the prompt and also in the structured JSON format\n",
    "- If OpenAI needs to run a tool function to respond to the prompt, it will provide the call signature and ask you to provide the return values before continuing\n",
    "\n",
    "  "
   ]
  },
  {
   "cell_type": "code",
   "execution_count": 1,
   "id": "20d61f1a-b6e0-4c72-9eee-5c3c84db5718",
   "metadata": {},
   "outputs": [],
   "source": [
    "import os\n",
    "import dotenv\n",
    "import warnings\n",
    "from datetime import datetime, timedelta\n",
    "\n",
    "import pandas as pd\n",
    "\n",
    "import IPython\n",
    "from IPython.display import HTML, Image, Markdown, display\n",
    "\n",
    "import requests\n",
    "import json\n",
    "\n",
    "import openbb\n",
    "from openbb import obb\n",
    "from openbb_core.app.model.obbject import OBBject\n",
    "\n",
    "import openai\n",
    "from openai import OpenAI\n",
    "\n",
    "import langchain\n",
    "from langchain.tools import WikipediaQueryRun\n",
    "from langchain_community.utilities import WikipediaAPIWrapper\n",
    "\n",
    "# paid API for edgar filings\n",
    "import sec_api\n",
    "from sec_api import QueryApi, ExtractorApi\n",
    "\n",
    "# free API for edgar filing\n",
    "from sec_downloader import Downloader\n",
    "import sec_parser as sp\n",
    "\n",
    "dotenv.load_dotenv()\n",
    "\n",
    "# class to make a tool and utility functions\n",
    "from BB_agent_tool import BB_agent_tool, get_response, agent_query\n",
    "\n",
    "import pdb\n",
    "\n",
    "# turn off excessive warnings\n",
    "warnings.filterwarnings('ignore')\n"
   ]
  },
  {
   "cell_type": "code",
   "execution_count": 2,
   "id": "4ac29cce",
   "metadata": {},
   "outputs": [
    {
     "name": "stdout",
     "output_type": "stream",
     "text": [
      "/Users/drucev/projects/AInewsbot\r\n"
     ]
    }
   ],
   "source": [
    "!pwd "
   ]
  },
  {
   "cell_type": "code",
   "execution_count": 3,
   "id": "c31a6c57-1332-44df-bb86-2784cf909419",
   "metadata": {},
   "outputs": [
    {
     "name": "stdout",
     "output_type": "stream",
     "text": [
      "pandas         2.2.2\n",
      "obb            4.2.1\n",
      "openai         1.30.1\n",
      "langchain      0.2.0\n"
     ]
    }
   ],
   "source": [
    "print(f'pandas         {pd.__version__}')\n",
    "print(f'obb            {obb.system.version}')\n",
    "print(f'openai         {openai.__version__}')\n",
    "print(f'langchain      {langchain.__version__}')\n"
   ]
  },
  {
   "cell_type": "markdown",
   "id": "7ad6849a-72da-4d7d-8ae6-5b9bae8c80e2",
   "metadata": {},
   "source": [
    "# Connect to OpenBB"
   ]
  },
  {
   "cell_type": "code",
   "execution_count": 4,
   "id": "aeda3328-5535-4a8c-ba87-40615511f4a3",
   "metadata": {},
   "outputs": [
    {
     "data": {
      "text/plain": [
       "OpenBB Platform v4.2.1\n",
       "\n",
       "Utilities:\n",
       "    /account\n",
       "    /user\n",
       "    /system\n",
       "    /coverage\n",
       "\n",
       "Routers:\n",
       "    /crypto\n",
       "    /currency\n",
       "    /derivatives\n",
       "    /economy\n",
       "    /equity\n",
       "    /etf\n",
       "    /fixedincome\n",
       "    /index\n",
       "    /news\n",
       "    /regulators\n",
       "\n",
       "Extensions:\n",
       "    - commodity@1.1.1\n",
       "    - crypto@1.2.1\n",
       "    - currency@1.2.1\n",
       "    - derivatives@1.2.1\n",
       "    - economy@1.2.1\n",
       "    - equity@1.2.1\n",
       "    - etf@1.2.1\n",
       "    - fixedincome@1.2.1\n",
       "    - index@1.2.1\n",
       "    - news@1.2.1\n",
       "    - regulators@1.2.1\n",
       "\n",
       "    - benzinga@1.2.1\n",
       "    - econdb@1.1.1\n",
       "    - federal_reserve@1.2.1\n",
       "    - fmp@1.2.1\n",
       "    - fred@1.2.1\n",
       "    - intrinio@1.2.1\n",
       "    - oecd@1.2.1\n",
       "    - polygon@1.2.1\n",
       "    - sec@1.2.1\n",
       "    - tiingo@1.2.1\n",
       "    - tradingeconomics@1.2.1\n",
       "    - yfinance@1.2.1    "
      ]
     },
     "execution_count": 4,
     "metadata": {},
     "output_type": "execute_result"
    }
   ],
   "source": [
    "obb\n"
   ]
  },
  {
   "cell_type": "code",
   "execution_count": 5,
   "id": "f1d91d67-55a5-48fd-91ed-e4cdc5f03ec5",
   "metadata": {},
   "outputs": [],
   "source": [
    "# login with email and password\n",
    "obb.account.login(email=os.environ['OPENBB_USER'], password=os.environ['OPENBB_PW'], remember_me=True)\n"
   ]
  },
  {
   "cell_type": "code",
   "execution_count": 6,
   "id": "81222526-77e2-4996-a7a1-b79dca56586b",
   "metadata": {},
   "outputs": [
    {
     "data": {
      "text/plain": [
       "UserSettings\n",
       "\n",
       "id: 0669ba7a-5d5c-7b57-8000-8d790214c7f0\n",
       "profile: {'hub_session': {'username': 'drucev', 'email': 'drucev@hotmail.com', 'primary_usage': 'personal', 'user_uuid': 'c866b4d2-c09b-4b13-abb7-a93f1ac3c2b7', 'token_type': 'bearer', 'access_token': SecretStr('**********')}}\n",
       "credentials: {'tiingo_token': SecretStr('**********'), 'polygon_api_key': SecretStr('**********'), 'intrinio_api_key': None, 'fred_api_key': SecretStr('**********'), 'tradingeconomics_api_key': None, 'fmp_api_key': SecretStr('**********'), 'econdb_api_key': None, 'benzinga_api_key': SecretStr('**********')}\n",
       "preferences: {'cache_directory': '/Users/drucev/OpenBBUserData/cache', 'chart_style': 'dark', 'data_directory': '/Users/drucev/OpenBBUserData', 'export_directory': '/Users/drucev/OpenBBUserData/exports', 'metadata': True, 'output_type': 'OBBject', 'plot_enable_pywry': True, 'plot_open_export': False, 'plot_pywry_height': 762, 'plot_pywry_width': 1400, 'request_timeout': 60, 'show_warnings': False, 'table_style': 'dark', 'user_styles_directory': '/Users/drucev/OpenBBUserData/styles/user'}\n",
       "defaults: {'routes': {}}"
      ]
     },
     "execution_count": 6,
     "metadata": {},
     "output_type": "execute_result"
    }
   ],
   "source": [
    "obb.user\n"
   ]
  },
  {
   "cell_type": "code",
   "execution_count": 7,
   "id": "bf8476a6-1106-4e5b-9efa-229547f11097",
   "metadata": {},
   "outputs": [
    {
     "data": {
      "text/plain": [
       "/account\n",
       "    login\n",
       "    logout\n",
       "    save\n",
       "    refresh\n",
       "    "
      ]
     },
     "execution_count": 7,
     "metadata": {},
     "output_type": "execute_result"
    }
   ],
   "source": [
    "obb.account\n"
   ]
  },
  {
   "cell_type": "code",
   "execution_count": 30,
   "id": "edfe7554-a603-4cd8-bea0-1a79882cfbd0",
   "metadata": {},
   "outputs": [
    {
     "ename": "KeyError",
     "evalue": "'BENZINGA_API_KEY'",
     "output_type": "error",
     "traceback": [
      "\u001b[0;31m---------------------------------------------------------------------------\u001b[0m",
      "\u001b[0;31mKeyError\u001b[0m                                  Traceback (most recent call last)",
      "Cell \u001b[0;32mIn[30], line 8\u001b[0m\n\u001b[1;32m      1\u001b[0m \u001b[38;5;66;03m# Change a credential - only need once, gets stored in openbb cloud\u001b[39;00m\n\u001b[1;32m      2\u001b[0m \u001b[38;5;66;03m# obb.user.credentials.polygon_api_key = os.environ['POLYGON_API_KEY']\u001b[39;00m\n\u001b[1;32m      3\u001b[0m \u001b[38;5;66;03m# obb.user.credentials.alpha_vantage_api_key = os.environ['ALPHAVANTAGE_API_KEY']\u001b[39;00m\n\u001b[0;32m   (...)\u001b[0m\n\u001b[1;32m      6\u001b[0m \u001b[38;5;66;03m# obb.user.credentials.fmp_api_key = os.environ['FMP_API_KEY']\u001b[39;00m\n\u001b[1;32m      7\u001b[0m \u001b[38;5;66;03m# obb.user.credentials.biztoc_api_key = os.environ['BIZTOC_API_KEY']\u001b[39;00m\n\u001b[0;32m----> 8\u001b[0m obb\u001b[38;5;241m.\u001b[39muser\u001b[38;5;241m.\u001b[39mcredentials\u001b[38;5;241m.\u001b[39mbenzinga_api_key \u001b[38;5;241m=\u001b[39m \u001b[43mos\u001b[49m\u001b[38;5;241;43m.\u001b[39;49m\u001b[43menviron\u001b[49m\u001b[43m[\u001b[49m\u001b[38;5;124;43m'\u001b[39;49m\u001b[38;5;124;43mBENZINGA_API_KEY\u001b[39;49m\u001b[38;5;124;43m'\u001b[39;49m\u001b[43m]\u001b[49m\n\u001b[1;32m     10\u001b[0m \u001b[38;5;66;03m# Save account changes to the Hub\u001b[39;00m\n\u001b[1;32m     11\u001b[0m \u001b[38;5;66;03m# obb.account.save()\u001b[39;00m\n\u001b[1;32m     12\u001b[0m \n\u001b[0;32m   (...)\u001b[0m\n\u001b[1;32m     16\u001b[0m \u001b[38;5;66;03m# Logout\u001b[39;00m\n\u001b[1;32m     17\u001b[0m \u001b[38;5;66;03m# obb.account.logout()\u001b[39;00m\n\u001b[1;32m     18\u001b[0m os\u001b[38;5;241m.\u001b[39menviron[\u001b[38;5;124m'\u001b[39m\u001b[38;5;124mBENZINGA_API_KEY\u001b[39m\u001b[38;5;124m'\u001b[39m]\n",
      "File \u001b[0;32m/opt/anaconda3/envs/bb_agent/lib/python3.11/os.py:679\u001b[0m, in \u001b[0;36m_Environ.__getitem__\u001b[0;34m(self, key)\u001b[0m\n\u001b[1;32m    676\u001b[0m     value \u001b[38;5;241m=\u001b[39m \u001b[38;5;28mself\u001b[39m\u001b[38;5;241m.\u001b[39m_data[\u001b[38;5;28mself\u001b[39m\u001b[38;5;241m.\u001b[39mencodekey(key)]\n\u001b[1;32m    677\u001b[0m \u001b[38;5;28;01mexcept\u001b[39;00m \u001b[38;5;167;01mKeyError\u001b[39;00m:\n\u001b[1;32m    678\u001b[0m     \u001b[38;5;66;03m# raise KeyError with the original key value\u001b[39;00m\n\u001b[0;32m--> 679\u001b[0m     \u001b[38;5;28;01mraise\u001b[39;00m \u001b[38;5;167;01mKeyError\u001b[39;00m(key) \u001b[38;5;28;01mfrom\u001b[39;00m \u001b[38;5;28;01mNone\u001b[39;00m\n\u001b[1;32m    680\u001b[0m \u001b[38;5;28;01mreturn\u001b[39;00m \u001b[38;5;28mself\u001b[39m\u001b[38;5;241m.\u001b[39mdecodevalue(value)\n",
      "\u001b[0;31mKeyError\u001b[0m: 'BENZINGA_API_KEY'"
     ]
    }
   ],
   "source": [
    "# Change a credential - only need once, gets stored in openbb cloud\n",
    "# obb.user.credentials.polygon_api_key = os.environ['POLYGON_API_KEY']\n",
    "# obb.user.credentials.alpha_vantage_api_key = os.environ['ALPHAVANTAGE_API_KEY']\n",
    "# obb.user.credentials.fred_api_key = os.environ['FRED_API_KEY']\n",
    "# obb.user.credentials.tiingo_token = os.environ['TIINGO_API_KEY']\n",
    "# obb.user.credentials.fmp_api_key = os.environ['FMP_API_KEY']\n",
    "# obb.user.credentials.biztoc_api_key = os.environ['BIZTOC_API_KEY']\n",
    "# obb.user.credentials.benzinga_api_key = os.environ['BENZINGA_API_KEY']\n",
    "\n",
    "# Save account changes to the Hub\n",
    "# obb.account.save()\n",
    "\n",
    "# Refresh account with latest changes since login\n",
    "# obb.account.refresh()\n",
    "\n",
    "# Logout\n",
    "# obb.account.logout()\n"
   ]
  },
  {
   "cell_type": "code",
   "execution_count": 9,
   "id": "4aa66ca2",
   "metadata": {},
   "outputs": [
    {
     "data": {
      "text/plain": [
       "OBBject\n",
       "\n",
       "id: 0669ba7e-ebc0-780f-8000-7b32265bb4e8\n",
       "results: [{'date': datetime.datetime(2024, 7, 20, 11, 47), 'title': '1 Top Artifici...\n",
       "provider: yfinance\n",
       "warnings: None\n",
       "chart: None\n",
       "extra: {'metadata': {'arguments': {'provider_choices': {'provider': 'yfinance'}, 's..."
      ]
     },
     "execution_count": 9,
     "metadata": {},
     "output_type": "execute_result"
    }
   ],
   "source": [
    "obb.news.company(\"GOOG\",provider='yfinance')"
   ]
  },
  {
   "cell_type": "code",
   "execution_count": 8,
   "id": "920317cd-0446-4c79-963b-c999083e5111",
   "metadata": {},
   "outputs": [
    {
     "data": {
      "text/html": [
       "<div>\n",
       "<style scoped>\n",
       "    .dataframe tbody tr th:only-of-type {\n",
       "        vertical-align: middle;\n",
       "    }\n",
       "\n",
       "    .dataframe tbody tr th {\n",
       "        vertical-align: top;\n",
       "    }\n",
       "\n",
       "    .dataframe thead th {\n",
       "        text-align: right;\n",
       "    }\n",
       "</style>\n",
       "<table border=\"1\" class=\"dataframe\">\n",
       "  <thead>\n",
       "    <tr style=\"text-align: right;\">\n",
       "      <th></th>\n",
       "      <th>symbol</th>\n",
       "      <th>name</th>\n",
       "      <th>cik</th>\n",
       "    </tr>\n",
       "  </thead>\n",
       "  <tbody>\n",
       "    <tr>\n",
       "      <th>0</th>\n",
       "      <td>MRK</td>\n",
       "      <td>Merck &amp; Co., Inc.</td>\n",
       "      <td>310158</td>\n",
       "    </tr>\n",
       "  </tbody>\n",
       "</table>\n",
       "</div>"
      ],
      "text/plain": [
       "  symbol               name     cik\n",
       "0    MRK  Merck & Co., Inc.  310158"
      ]
     },
     "execution_count": 8,
     "metadata": {},
     "output_type": "execute_result"
    }
   ],
   "source": [
    "obb.equity.search(\"Merck\", provider=\"sec\").to_df().head(3)\n"
   ]
  },
  {
   "cell_type": "code",
   "execution_count": 9,
   "id": "9f5d7165-664e-4bdd-81e0-f06463c6aaab",
   "metadata": {},
   "outputs": [],
   "source": [
    "symbol = \"MRK\"\n",
    "company = \"Merck\"\n"
   ]
  },
  {
   "cell_type": "code",
   "execution_count": 10,
   "id": "a8122ebf-b557-485f-90b0-ff23e0783a6e",
   "metadata": {},
   "outputs": [],
   "source": [
    "obj = obb.equity.price.quote(symbol)\n"
   ]
  },
  {
   "cell_type": "code",
   "execution_count": 11,
   "id": "da2e9d77-ad99-4162-b4a8-d975aa0e0986",
   "metadata": {},
   "outputs": [
    {
     "data": {
      "text/plain": [
       "OBBject\n",
       "\n",
       "id: 0665362b-b84e-7560-8000-91d541c924ef\n",
       "results: [{'symbol': 'MRK', 'asset_type': None, 'name': 'Merck & Co., Inc.', 'excha...\n",
       "provider: fmp\n",
       "warnings: None\n",
       "chart: None\n",
       "extra: {'metadata': {'arguments': {'provider_choices': {'provider': 'fmp'}, 'standa..."
      ]
     },
     "execution_count": 11,
     "metadata": {},
     "output_type": "execute_result"
    }
   ],
   "source": [
    "obj\n"
   ]
  },
  {
   "cell_type": "code",
   "execution_count": 12,
   "id": "b6d0e188-a4fc-4924-95ad-b1c980b6eaf8",
   "metadata": {},
   "outputs": [
    {
     "data": {
      "text/plain": [
       "[FMPEquityQuoteData(symbol=MRK, asset_type=None, name=Merck & Co., Inc., exchange=NYSE, bid=None, bid_size=None, bid_exchange=None, ask=None, ask_size=None, ask_exchange=None, quote_conditions=None, quote_indicators=None, sales_conditions=None, sequence_number=None, market_center=None, participant_timestamp=None, trf_timestamp=None, sip_timestamp=None, last_price=129.49, last_tick=None, last_size=None, last_timestamp=2024-05-24 20:00:02+00:00, open=131.45, high=131.45, low=129.16, close=None, volume=5829244, exchange_volume=None, prev_close=131.09, change=-1.6, change_percent=-0.012204999999999999, year_high=133.1, year_low=99.14, price_avg50=127.7616, price_avg200=115.32135, avg_volume=8199988, market_cap=327973566900.0, shares_outstanding=2532810000, eps=0.9, pe=143.88, earnings_announcement=2024-07-30 12:30:00+00:00)]"
      ]
     },
     "execution_count": 12,
     "metadata": {},
     "output_type": "execute_result"
    }
   ],
   "source": [
    "obj.results\n"
   ]
  },
  {
   "cell_type": "code",
   "execution_count": 13,
   "id": "90820eee-5f18-4b97-b133-28343c3b76f3",
   "metadata": {},
   "outputs": [
    {
     "data": {
      "text/plain": [
       "'{\"id\":\"0665362b-b84e-7560-8000-91d541c924ef\",\"results\":[{\"symbol\":\"MRK\",\"asset_type\":null,\"name\":\"Merck & Co., Inc.\",\"exchange\":\"NYSE\",\"bid\":null,\"bid_size\":null,\"bid_exchange\":null,\"ask\":null,\"ask_size\":null,\"ask_exchange\":null,\"quote_conditions\":null,\"quote_indicators\":null,\"sales_conditions\":null,\"sequence_number\":null,\"market_center\":null,\"participant_timestamp\":null,\"trf_timestamp\":null,\"sip_timestamp\":null,\"last_price\":129.49,\"last_tick\":null,\"last_size\":null,\"last_timestamp\":\"2024-05-24T20:00:02Z\",\"open\":131.45,\"high\":131.45,\"low\":129.16,\"close\":null,\"volume\":5829244,\"exchange_volume\":null,\"prev_close\":131.09,\"change\":-1.6,\"change_percent\":-0.012204999999999999,\"year_high\":133.1,\"year_low\":99.14,\"price_avg50\":127.7616,\"price_avg200\":115.32135,\"avg_volume\":8199988,\"market_cap\":327973566900.0,\"shares_outstanding\":2532810000,\"eps\":0.9,\"pe\":143.88,\"earnings_announcement\":\"2024-07-30T12:30:00Z\"}],\"provider\":\"fmp\",\"warnings\":null,\"chart\":null,\"extra\":{\"metadata\":{\"arguments\":{\"provider_choices\":{\"provider\":\"fmp\"},\"standard_params\":{\"symbol\":\"MRK\"},\"extra_params\":{}},\"duration\":111815458,\"route\":\"/equity/price/quote\",\"timestamp\":\"2024-05-26T12:26:35.407934\"}}}'"
      ]
     },
     "execution_count": 13,
     "metadata": {},
     "output_type": "execute_result"
    }
   ],
   "source": [
    "obj.json()"
   ]
  },
  {
   "cell_type": "code",
   "execution_count": 14,
   "id": "f7052541-943b-4fd6-933a-eb8e1e7084af",
   "metadata": {},
   "outputs": [
    {
     "data": {
      "text/plain": [
       "{'results': [{'symbol': 'MRK',\n",
       "   'asset_type': 'EQUITY',\n",
       "   'name': 'Merck & Co., Inc.',\n",
       "   'exchange': 'NYQ',\n",
       "   'bid': 129.35,\n",
       "   'bid_size': 800,\n",
       "   'ask': 129.49,\n",
       "   'ask_size': 1800,\n",
       "   'last_price': 129.49,\n",
       "   'open': 131.45,\n",
       "   'high': 131.45,\n",
       "   'low': 129.16,\n",
       "   'volume': 5946890,\n",
       "   'prev_close': 131.09,\n",
       "   'year_high': 133.1,\n",
       "   'year_low': 99.14,\n",
       "   'ma_50d': 127.9412,\n",
       "   'ma_200d': 115.4383,\n",
       "   'volume_average': 8213074.0,\n",
       "   'volume_average_10d': 6263710.0,\n",
       "   'currency': 'USD'}],\n",
       " 'provider': 'yfinance',\n",
       " 'warnings': None,\n",
       " 'chart': None,\n",
       " 'extra': {'metadata': {'arguments': {'provider_choices': {'provider': 'yfinance'},\n",
       "    'standard_params': {'symbol': 'MRK'},\n",
       "    'extra_params': {'source': 'iex'}},\n",
       "   'duration': 98372417,\n",
       "   'route': '/equity/price/quote',\n",
       "   'timestamp': '2024-05-26T12:26:35.538728'}}}"
      ]
     },
     "execution_count": 14,
     "metadata": {},
     "output_type": "execute_result"
    }
   ],
   "source": [
    "# use REST API on server running locally\n",
    "# uvicorn openbb_core.api.rest_api:app --host 0.0.0.0 --port 8000 --reload\n",
    "# REST API documentation - http://127.0.0.1:8000/docs\n",
    "# openapi.json : http://127.0.0.1:8000/openapi.json\n",
    "\n",
    "# not turning on authentication\n",
    "# msg = \"some_user:some_pass\"\n",
    "# msg_bytes = msg.encode('ascii')\n",
    "# base64_bytes = base64.b64encode(msg_bytes)\n",
    "# base64_msg = base64_bytes.decode('ascii')\n",
    "\n",
    "url = f\"http://127.0.0.1:8000/api/v1/equity/price/quote?provider=yfinance&symbol={symbol}\"\n",
    "# headers = {\"accept\": \"application/json\", \"Authorization\": f\"Basic {base64_msg}\"}\n",
    "headers = {\"accept\": \"application/json\"}\n",
    "\n",
    "response = requests.get(url=url, headers=headers)\n",
    "\n",
    "response.json()\n"
   ]
  },
  {
   "cell_type": "code",
   "execution_count": 15,
   "id": "a2f4d73b-c652-4995-8f69-0e1541f9a8ac",
   "metadata": {},
   "outputs": [
    {
     "data": {
      "text/html": [
       "<div>\n",
       "<style scoped>\n",
       "    .dataframe tbody tr th:only-of-type {\n",
       "        vertical-align: middle;\n",
       "    }\n",
       "\n",
       "    .dataframe tbody tr th {\n",
       "        vertical-align: top;\n",
       "    }\n",
       "\n",
       "    .dataframe thead th {\n",
       "        text-align: right;\n",
       "    }\n",
       "</style>\n",
       "<table border=\"1\" class=\"dataframe\">\n",
       "  <thead>\n",
       "    <tr style=\"text-align: right;\">\n",
       "      <th></th>\n",
       "      <th>open</th>\n",
       "      <th>high</th>\n",
       "      <th>low</th>\n",
       "      <th>close</th>\n",
       "      <th>volume</th>\n",
       "      <th>vwap</th>\n",
       "      <th>transactions</th>\n",
       "    </tr>\n",
       "    <tr>\n",
       "      <th>date</th>\n",
       "      <th></th>\n",
       "      <th></th>\n",
       "      <th></th>\n",
       "      <th></th>\n",
       "      <th></th>\n",
       "      <th></th>\n",
       "      <th></th>\n",
       "    </tr>\n",
       "  </thead>\n",
       "  <tbody>\n",
       "    <tr>\n",
       "      <th>2023-05-26</th>\n",
       "      <td>112.0000</td>\n",
       "      <td>113.19</td>\n",
       "      <td>110.6501</td>\n",
       "      <td>111.07</td>\n",
       "      <td>6378339.0</td>\n",
       "      <td>111.3186</td>\n",
       "      <td>69766</td>\n",
       "    </tr>\n",
       "    <tr>\n",
       "      <th>2023-05-30</th>\n",
       "      <td>110.2222</td>\n",
       "      <td>110.34</td>\n",
       "      <td>109.0800</td>\n",
       "      <td>110.09</td>\n",
       "      <td>166016.0</td>\n",
       "      <td>109.8427</td>\n",
       "      <td>3155</td>\n",
       "    </tr>\n",
       "    <tr>\n",
       "      <th>2023-05-31</th>\n",
       "      <td>108.4700</td>\n",
       "      <td>111.15</td>\n",
       "      <td>108.4700</td>\n",
       "      <td>110.41</td>\n",
       "      <td>14563536.0</td>\n",
       "      <td>110.3172</td>\n",
       "      <td>91481</td>\n",
       "    </tr>\n",
       "    <tr>\n",
       "      <th>2023-06-01</th>\n",
       "      <td>110.6600</td>\n",
       "      <td>111.59</td>\n",
       "      <td>109.8800</td>\n",
       "      <td>110.93</td>\n",
       "      <td>6960063.0</td>\n",
       "      <td>110.9360</td>\n",
       "      <td>76972</td>\n",
       "    </tr>\n",
       "    <tr>\n",
       "      <th>2023-06-02</th>\n",
       "      <td>111.1100</td>\n",
       "      <td>112.73</td>\n",
       "      <td>110.7200</td>\n",
       "      <td>112.52</td>\n",
       "      <td>5792792.0</td>\n",
       "      <td>112.1935</td>\n",
       "      <td>74396</td>\n",
       "    </tr>\n",
       "    <tr>\n",
       "      <th>...</th>\n",
       "      <td>...</td>\n",
       "      <td>...</td>\n",
       "      <td>...</td>\n",
       "      <td>...</td>\n",
       "      <td>...</td>\n",
       "      <td>...</td>\n",
       "      <td>...</td>\n",
       "    </tr>\n",
       "    <tr>\n",
       "      <th>2024-05-20</th>\n",
       "      <td>130.8100</td>\n",
       "      <td>131.74</td>\n",
       "      <td>130.6500</td>\n",
       "      <td>130.99</td>\n",
       "      <td>4333726.0</td>\n",
       "      <td>131.2016</td>\n",
       "      <td>58819</td>\n",
       "    </tr>\n",
       "    <tr>\n",
       "      <th>2024-05-21</th>\n",
       "      <td>131.6800</td>\n",
       "      <td>132.79</td>\n",
       "      <td>130.4800</td>\n",
       "      <td>130.76</td>\n",
       "      <td>5280473.0</td>\n",
       "      <td>131.1038</td>\n",
       "      <td>66107</td>\n",
       "    </tr>\n",
       "    <tr>\n",
       "      <th>2024-05-22</th>\n",
       "      <td>130.1700</td>\n",
       "      <td>131.60</td>\n",
       "      <td>130.1500</td>\n",
       "      <td>131.10</td>\n",
       "      <td>4329193.0</td>\n",
       "      <td>131.1204</td>\n",
       "      <td>57070</td>\n",
       "    </tr>\n",
       "    <tr>\n",
       "      <th>2024-05-23</th>\n",
       "      <td>130.9000</td>\n",
       "      <td>131.92</td>\n",
       "      <td>130.3100</td>\n",
       "      <td>131.09</td>\n",
       "      <td>5416660.0</td>\n",
       "      <td>131.1242</td>\n",
       "      <td>70862</td>\n",
       "    </tr>\n",
       "    <tr>\n",
       "      <th>2024-05-24</th>\n",
       "      <td>131.4500</td>\n",
       "      <td>131.45</td>\n",
       "      <td>129.1600</td>\n",
       "      <td>129.49</td>\n",
       "      <td>5569920.0</td>\n",
       "      <td>129.7614</td>\n",
       "      <td>74137</td>\n",
       "    </tr>\n",
       "  </tbody>\n",
       "</table>\n",
       "<p>251 rows × 7 columns</p>\n",
       "</div>"
      ],
      "text/plain": [
       "                open    high       low   close      volume      vwap  \\\n",
       "date                                                                   \n",
       "2023-05-26  112.0000  113.19  110.6501  111.07   6378339.0  111.3186   \n",
       "2023-05-30  110.2222  110.34  109.0800  110.09    166016.0  109.8427   \n",
       "2023-05-31  108.4700  111.15  108.4700  110.41  14563536.0  110.3172   \n",
       "2023-06-01  110.6600  111.59  109.8800  110.93   6960063.0  110.9360   \n",
       "2023-06-02  111.1100  112.73  110.7200  112.52   5792792.0  112.1935   \n",
       "...              ...     ...       ...     ...         ...       ...   \n",
       "2024-05-20  130.8100  131.74  130.6500  130.99   4333726.0  131.2016   \n",
       "2024-05-21  131.6800  132.79  130.4800  130.76   5280473.0  131.1038   \n",
       "2024-05-22  130.1700  131.60  130.1500  131.10   4329193.0  131.1204   \n",
       "2024-05-23  130.9000  131.92  130.3100  131.09   5416660.0  131.1242   \n",
       "2024-05-24  131.4500  131.45  129.1600  129.49   5569920.0  129.7614   \n",
       "\n",
       "            transactions  \n",
       "date                      \n",
       "2023-05-26         69766  \n",
       "2023-05-30          3155  \n",
       "2023-05-31         91481  \n",
       "2023-06-01         76972  \n",
       "2023-06-02         74396  \n",
       "...                  ...  \n",
       "2024-05-20         58819  \n",
       "2024-05-21         66107  \n",
       "2024-05-22         57070  \n",
       "2024-05-23         70862  \n",
       "2024-05-24         74137  \n",
       "\n",
       "[251 rows x 7 columns]"
      ]
     },
     "execution_count": 15,
     "metadata": {},
     "output_type": "execute_result"
    }
   ],
   "source": [
    "data = obb.equity.price.historical(symbol, provider=\"polygon\")\n",
    "data.to_dataframe()\n"
   ]
  },
  {
   "cell_type": "code",
   "execution_count": 16,
   "id": "fca0d125-d820-4175-8853-576d2eba36e7",
   "metadata": {},
   "outputs": [
    {
     "data": {
      "text/html": [
       "<div>\n",
       "<style scoped>\n",
       "    .dataframe tbody tr th:only-of-type {\n",
       "        vertical-align: middle;\n",
       "    }\n",
       "\n",
       "    .dataframe tbody tr th {\n",
       "        vertical-align: top;\n",
       "    }\n",
       "\n",
       "    .dataframe thead th {\n",
       "        text-align: right;\n",
       "    }\n",
       "</style>\n",
       "<table border=\"1\" class=\"dataframe\">\n",
       "  <thead>\n",
       "    <tr style=\"text-align: right;\">\n",
       "      <th></th>\n",
       "      <th>close</th>\n",
       "      <th>high</th>\n",
       "      <th>low</th>\n",
       "      <th>open</th>\n",
       "      <th>transactions</th>\n",
       "      <th>volume</th>\n",
       "      <th>vwap</th>\n",
       "    </tr>\n",
       "    <tr>\n",
       "      <th>date</th>\n",
       "      <th></th>\n",
       "      <th></th>\n",
       "      <th></th>\n",
       "      <th></th>\n",
       "      <th></th>\n",
       "      <th></th>\n",
       "      <th></th>\n",
       "    </tr>\n",
       "  </thead>\n",
       "  <tbody>\n",
       "    <tr>\n",
       "      <th>2023-05-26</th>\n",
       "      <td>420.02</td>\n",
       "      <td>420.7700</td>\n",
       "      <td>415.250</td>\n",
       "      <td>415.33</td>\n",
       "      <td>627251</td>\n",
       "      <td>93829975.0</td>\n",
       "      <td>418.9092</td>\n",
       "    </tr>\n",
       "    <tr>\n",
       "      <th>2023-05-30</th>\n",
       "      <td>420.18</td>\n",
       "      <td>422.5800</td>\n",
       "      <td>418.735</td>\n",
       "      <td>422.03</td>\n",
       "      <td>609041</td>\n",
       "      <td>72207960.0</td>\n",
       "      <td>420.4468</td>\n",
       "    </tr>\n",
       "    <tr>\n",
       "      <th>2023-05-31</th>\n",
       "      <td>417.85</td>\n",
       "      <td>419.2200</td>\n",
       "      <td>416.220</td>\n",
       "      <td>418.28</td>\n",
       "      <td>665147</td>\n",
       "      <td>110782530.0</td>\n",
       "      <td>418.0147</td>\n",
       "    </tr>\n",
       "    <tr>\n",
       "      <th>2023-06-01</th>\n",
       "      <td>421.82</td>\n",
       "      <td>422.9200</td>\n",
       "      <td>416.790</td>\n",
       "      <td>418.09</td>\n",
       "      <td>653406</td>\n",
       "      <td>88758018.0</td>\n",
       "      <td>420.4660</td>\n",
       "    </tr>\n",
       "    <tr>\n",
       "      <th>2023-06-02</th>\n",
       "      <td>427.92</td>\n",
       "      <td>428.7400</td>\n",
       "      <td>423.950</td>\n",
       "      <td>424.50</td>\n",
       "      <td>678309</td>\n",
       "      <td>91426171.0</td>\n",
       "      <td>426.8396</td>\n",
       "    </tr>\n",
       "    <tr>\n",
       "      <th>...</th>\n",
       "      <td>...</td>\n",
       "      <td>...</td>\n",
       "      <td>...</td>\n",
       "      <td>...</td>\n",
       "      <td>...</td>\n",
       "      <td>...</td>\n",
       "      <td>...</td>\n",
       "    </tr>\n",
       "    <tr>\n",
       "      <th>2024-05-20</th>\n",
       "      <td>530.06</td>\n",
       "      <td>531.5601</td>\n",
       "      <td>529.170</td>\n",
       "      <td>529.57</td>\n",
       "      <td>331748</td>\n",
       "      <td>37711090.0</td>\n",
       "      <td>530.2811</td>\n",
       "    </tr>\n",
       "    <tr>\n",
       "      <th>2024-05-21</th>\n",
       "      <td>531.36</td>\n",
       "      <td>531.5200</td>\n",
       "      <td>529.070</td>\n",
       "      <td>529.28</td>\n",
       "      <td>306611</td>\n",
       "      <td>33382000.0</td>\n",
       "      <td>530.4508</td>\n",
       "    </tr>\n",
       "    <tr>\n",
       "      <th>2024-05-22</th>\n",
       "      <td>529.83</td>\n",
       "      <td>531.3800</td>\n",
       "      <td>527.600</td>\n",
       "      <td>530.65</td>\n",
       "      <td>340278</td>\n",
       "      <td>47734744.0</td>\n",
       "      <td>529.7849</td>\n",
       "    </tr>\n",
       "    <tr>\n",
       "      <th>2024-05-23</th>\n",
       "      <td>525.96</td>\n",
       "      <td>533.0700</td>\n",
       "      <td>524.720</td>\n",
       "      <td>532.96</td>\n",
       "      <td>440792</td>\n",
       "      <td>56651841.0</td>\n",
       "      <td>528.0228</td>\n",
       "    </tr>\n",
       "    <tr>\n",
       "      <th>2024-05-24</th>\n",
       "      <td>529.44</td>\n",
       "      <td>530.2700</td>\n",
       "      <td>526.881</td>\n",
       "      <td>527.85</td>\n",
       "      <td>328927</td>\n",
       "      <td>41239368.0</td>\n",
       "      <td>528.9137</td>\n",
       "    </tr>\n",
       "  </tbody>\n",
       "</table>\n",
       "<p>251 rows × 7 columns</p>\n",
       "</div>"
      ],
      "text/plain": [
       "             close      high      low    open  transactions       volume  \\\n",
       "date                                                                       \n",
       "2023-05-26  420.02  420.7700  415.250  415.33        627251   93829975.0   \n",
       "2023-05-30  420.18  422.5800  418.735  422.03        609041   72207960.0   \n",
       "2023-05-31  417.85  419.2200  416.220  418.28        665147  110782530.0   \n",
       "2023-06-01  421.82  422.9200  416.790  418.09        653406   88758018.0   \n",
       "2023-06-02  427.92  428.7400  423.950  424.50        678309   91426171.0   \n",
       "...            ...       ...      ...     ...           ...          ...   \n",
       "2024-05-20  530.06  531.5601  529.170  529.57        331748   37711090.0   \n",
       "2024-05-21  531.36  531.5200  529.070  529.28        306611   33382000.0   \n",
       "2024-05-22  529.83  531.3800  527.600  530.65        340278   47734744.0   \n",
       "2024-05-23  525.96  533.0700  524.720  532.96        440792   56651841.0   \n",
       "2024-05-24  529.44  530.2700  526.881  527.85        328927   41239368.0   \n",
       "\n",
       "                vwap  \n",
       "date                  \n",
       "2023-05-26  418.9092  \n",
       "2023-05-30  420.4468  \n",
       "2023-05-31  418.0147  \n",
       "2023-06-01  420.4660  \n",
       "2023-06-02  426.8396  \n",
       "...              ...  \n",
       "2024-05-20  530.2811  \n",
       "2024-05-21  530.4508  \n",
       "2024-05-22  529.7849  \n",
       "2024-05-23  528.0228  \n",
       "2024-05-24  528.9137  \n",
       "\n",
       "[251 rows x 7 columns]"
      ]
     },
     "execution_count": 16,
     "metadata": {},
     "output_type": "execute_result"
    }
   ],
   "source": [
    "# use the local rest server\n",
    "data = []\n",
    "symbol2=\"SPY\"\n",
    "url = f\"http://127.0.0.1:8000/api/v1/equity/price/historical?provider=polygon&symbol={symbol2}\"\n",
    "headers = {\"accept\": \"application/json\"}\n",
    "\n",
    "response = requests.get(url, headers=headers, timeout=3)\n",
    "\n",
    "if response.status_code == 200:\n",
    "  data = OBBject.model_validate(response.json())\n",
    "\n",
    "data.to_df()\n"
   ]
  },
  {
   "cell_type": "code",
   "execution_count": 17,
   "id": "b075d0ae-55b4-49f8-acf7-c0a9045f322c",
   "metadata": {},
   "outputs": [
    {
     "data": {
      "text/plain": [
       "[('MRVL', 'Marvell Technology, Inc.')]"
      ]
     },
     "execution_count": 17,
     "metadata": {},
     "output_type": "execute_result"
    }
   ],
   "source": [
    "results = obb.equity.search(query='marvell', is_symbol=False, provider='sec', use_cache=True)\n",
    "[(r.symbol, r.name) for r in results.results]\n"
   ]
  },
  {
   "cell_type": "code",
   "execution_count": 18,
   "id": "60b0843c-df4f-4459-b721-c73bfe0730b0",
   "metadata": {},
   "outputs": [
    {
     "data": {
      "text/html": [
       "<div>\n",
       "<style scoped>\n",
       "    .dataframe tbody tr th:only-of-type {\n",
       "        vertical-align: middle;\n",
       "    }\n",
       "\n",
       "    .dataframe tbody tr th {\n",
       "        vertical-align: top;\n",
       "    }\n",
       "\n",
       "    .dataframe thead th {\n",
       "        text-align: right;\n",
       "    }\n",
       "</style>\n",
       "<table border=\"1\" class=\"dataframe\">\n",
       "  <thead>\n",
       "    <tr style=\"text-align: right;\">\n",
       "      <th></th>\n",
       "      <th>symbol</th>\n",
       "      <th>name</th>\n",
       "      <th>exchange</th>\n",
       "      <th>last_price</th>\n",
       "      <th>last_timestamp</th>\n",
       "      <th>open</th>\n",
       "      <th>high</th>\n",
       "      <th>low</th>\n",
       "      <th>volume</th>\n",
       "      <th>prev_close</th>\n",
       "      <th>...</th>\n",
       "      <th>year_high</th>\n",
       "      <th>year_low</th>\n",
       "      <th>price_avg50</th>\n",
       "      <th>price_avg200</th>\n",
       "      <th>avg_volume</th>\n",
       "      <th>market_cap</th>\n",
       "      <th>shares_outstanding</th>\n",
       "      <th>eps</th>\n",
       "      <th>pe</th>\n",
       "      <th>earnings_announcement</th>\n",
       "    </tr>\n",
       "  </thead>\n",
       "  <tbody>\n",
       "    <tr>\n",
       "      <th>0</th>\n",
       "      <td>TD</td>\n",
       "      <td>The Toronto-Dominion Bank</td>\n",
       "      <td>NYSE</td>\n",
       "      <td>56.56</td>\n",
       "      <td>2024-05-24 20:00:02+00:00</td>\n",
       "      <td>55.46</td>\n",
       "      <td>56.82</td>\n",
       "      <td>55.43</td>\n",
       "      <td>2344166</td>\n",
       "      <td>55.01</td>\n",
       "      <td>...</td>\n",
       "      <td>66.15</td>\n",
       "      <td>54.12</td>\n",
       "      <td>58.0400</td>\n",
       "      <td>59.83815</td>\n",
       "      <td>2951465</td>\n",
       "      <td>1.002300e+11</td>\n",
       "      <td>1772100000</td>\n",
       "      <td>4.36</td>\n",
       "      <td>12.97</td>\n",
       "      <td>2024-05-23 00:00:00+00:00</td>\n",
       "    </tr>\n",
       "    <tr>\n",
       "      <th>1</th>\n",
       "      <td>SCHW</td>\n",
       "      <td>The Charles Schwab Corporation</td>\n",
       "      <td>NYSE</td>\n",
       "      <td>72.27</td>\n",
       "      <td>2024-05-24 20:00:01+00:00</td>\n",
       "      <td>72.64</td>\n",
       "      <td>73.09</td>\n",
       "      <td>72.17</td>\n",
       "      <td>6123549</td>\n",
       "      <td>72.34</td>\n",
       "      <td>...</td>\n",
       "      <td>79.49</td>\n",
       "      <td>48.66</td>\n",
       "      <td>73.3880</td>\n",
       "      <td>63.64275</td>\n",
       "      <td>7378571</td>\n",
       "      <td>1.284440e+11</td>\n",
       "      <td>1777280000</td>\n",
       "      <td>2.39</td>\n",
       "      <td>30.24</td>\n",
       "      <td>2024-07-16 12:30:00+00:00</td>\n",
       "    </tr>\n",
       "    <tr>\n",
       "      <th>2</th>\n",
       "      <td>JPM</td>\n",
       "      <td>JPMorgan Chase &amp; Co.</td>\n",
       "      <td>NYSE</td>\n",
       "      <td>200.71</td>\n",
       "      <td>2024-05-24 20:00:02+00:00</td>\n",
       "      <td>197.75</td>\n",
       "      <td>200.76</td>\n",
       "      <td>197.56</td>\n",
       "      <td>7218799</td>\n",
       "      <td>196.92</td>\n",
       "      <td>...</td>\n",
       "      <td>205.88</td>\n",
       "      <td>134.40</td>\n",
       "      <td>194.2518</td>\n",
       "      <td>167.96075</td>\n",
       "      <td>9108733</td>\n",
       "      <td>5.763729e+11</td>\n",
       "      <td>2871670000</td>\n",
       "      <td>16.56</td>\n",
       "      <td>12.12</td>\n",
       "      <td>2024-07-12 12:30:00+00:00</td>\n",
       "    </tr>\n",
       "    <tr>\n",
       "      <th>3</th>\n",
       "      <td>MS</td>\n",
       "      <td>Morgan Stanley</td>\n",
       "      <td>NYSE</td>\n",
       "      <td>98.97</td>\n",
       "      <td>2024-05-24 20:00:02+00:00</td>\n",
       "      <td>99.45</td>\n",
       "      <td>99.91</td>\n",
       "      <td>98.81</td>\n",
       "      <td>3547499</td>\n",
       "      <td>98.92</td>\n",
       "      <td>...</td>\n",
       "      <td>103.25</td>\n",
       "      <td>69.42</td>\n",
       "      <td>93.4398</td>\n",
       "      <td>86.17185</td>\n",
       "      <td>7814188</td>\n",
       "      <td>1.608421e+11</td>\n",
       "      <td>1625160000</td>\n",
       "      <td>5.50</td>\n",
       "      <td>17.99</td>\n",
       "      <td>2024-07-16 12:30:00+00:00</td>\n",
       "    </tr>\n",
       "  </tbody>\n",
       "</table>\n",
       "<p>4 rows × 22 columns</p>\n",
       "</div>"
      ],
      "text/plain": [
       "  symbol                            name exchange  last_price  \\\n",
       "0     TD       The Toronto-Dominion Bank     NYSE       56.56   \n",
       "1   SCHW  The Charles Schwab Corporation     NYSE       72.27   \n",
       "2    JPM            JPMorgan Chase & Co.     NYSE      200.71   \n",
       "3     MS                  Morgan Stanley     NYSE       98.97   \n",
       "\n",
       "             last_timestamp    open    high     low   volume  prev_close  ...  \\\n",
       "0 2024-05-24 20:00:02+00:00   55.46   56.82   55.43  2344166       55.01  ...   \n",
       "1 2024-05-24 20:00:01+00:00   72.64   73.09   72.17  6123549       72.34  ...   \n",
       "2 2024-05-24 20:00:02+00:00  197.75  200.76  197.56  7218799      196.92  ...   \n",
       "3 2024-05-24 20:00:02+00:00   99.45   99.91   98.81  3547499       98.92  ...   \n",
       "\n",
       "   year_high  year_low  price_avg50  price_avg200  avg_volume    market_cap  \\\n",
       "0      66.15     54.12      58.0400      59.83815     2951465  1.002300e+11   \n",
       "1      79.49     48.66      73.3880      63.64275     7378571  1.284440e+11   \n",
       "2     205.88    134.40     194.2518     167.96075     9108733  5.763729e+11   \n",
       "3     103.25     69.42      93.4398      86.17185     7814188  1.608421e+11   \n",
       "\n",
       "   shares_outstanding    eps     pe     earnings_announcement  \n",
       "0          1772100000   4.36  12.97 2024-05-23 00:00:00+00:00  \n",
       "1          1777280000   2.39  30.24 2024-07-16 12:30:00+00:00  \n",
       "2          2871670000  16.56  12.12 2024-07-12 12:30:00+00:00  \n",
       "3          1625160000   5.50  17.99 2024-07-16 12:30:00+00:00  \n",
       "\n",
       "[4 rows x 22 columns]"
      ]
     },
     "execution_count": 18,
     "metadata": {},
     "output_type": "execute_result"
    }
   ],
   "source": [
    "# multiple symbols\n",
    "quotes = obb.equity.price.quote(\"td,schw,jpm,ms\", provider=\"fmp\")\n",
    "quotes.to_df()\n"
   ]
  },
  {
   "cell_type": "code",
   "execution_count": 19,
   "id": "8ba4d940-9520-4e56-86f2-82c8f6a66c70",
   "metadata": {},
   "outputs": [
    {
     "data": {
      "text/html": [
       "<div>\n",
       "<style scoped>\n",
       "    .dataframe tbody tr th:only-of-type {\n",
       "        vertical-align: middle;\n",
       "    }\n",
       "\n",
       "    .dataframe tbody tr th {\n",
       "        vertical-align: top;\n",
       "    }\n",
       "\n",
       "    .dataframe thead th {\n",
       "        text-align: right;\n",
       "    }\n",
       "</style>\n",
       "<table border=\"1\" class=\"dataframe\">\n",
       "  <thead>\n",
       "    <tr style=\"text-align: right;\">\n",
       "      <th></th>\n",
       "      <th>yfinance</th>\n",
       "      <th>fmp</th>\n",
       "      <th>polygon</th>\n",
       "    </tr>\n",
       "  </thead>\n",
       "  <tbody>\n",
       "    <tr>\n",
       "      <th>0</th>\n",
       "      <td>1.066750e+11</td>\n",
       "      <td>1.066750e+11</td>\n",
       "      <td>1.066750e+11</td>\n",
       "    </tr>\n",
       "    <tr>\n",
       "      <th>1</th>\n",
       "      <td>1.091600e+11</td>\n",
       "      <td>1.091600e+11</td>\n",
       "      <td>1.091600e+11</td>\n",
       "    </tr>\n",
       "    <tr>\n",
       "      <th>2</th>\n",
       "      <td>1.056940e+11</td>\n",
       "      <td>1.056940e+11</td>\n",
       "      <td>1.056940e+11</td>\n",
       "    </tr>\n",
       "    <tr>\n",
       "      <th>3</th>\n",
       "      <td>9.158800e+10</td>\n",
       "      <td>NaN</td>\n",
       "      <td>NaN</td>\n",
       "    </tr>\n",
       "  </tbody>\n",
       "</table>\n",
       "</div>"
      ],
      "text/plain": [
       "       yfinance           fmp       polygon\n",
       "0  1.066750e+11  1.066750e+11  1.066750e+11\n",
       "1  1.091600e+11  1.091600e+11  1.091600e+11\n",
       "2  1.056940e+11  1.056940e+11  1.056940e+11\n",
       "3  9.158800e+10           NaN           NaN"
      ]
     },
     "execution_count": 19,
     "metadata": {},
     "output_type": "execute_result"
    }
   ],
   "source": [
    "# multiple providers\n",
    "\n",
    "df = pd.DataFrame()\n",
    "\n",
    "df[\"yfinance\"] = (\n",
    "  obb.equity.fundamental.balance(symbol, provider=\"yfinance\", limit=3)\n",
    "  .to_df().get(\"total_assets\")\n",
    ")\n",
    "\n",
    "df[\"fmp\"] = (\n",
    "  obb.equity.fundamental.balance(symbol, provider=\"fmp\", limit=3)\n",
    "  .to_df().get(\"total_assets\")\n",
    ")\n",
    "\n",
    "df[\"polygon\"] = (\n",
    "  obb.equity.fundamental.balance(symbol, provider=\"polygon\", limit=3)\n",
    "  .to_df().get(\"total_assets\")\n",
    ")\n",
    "\n",
    "df"
   ]
  },
  {
   "cell_type": "code",
   "execution_count": 24,
   "id": "1875a85c",
   "metadata": {},
   "outputs": [
    {
     "data": {
      "text/markdown": [
       "[2024-06-03 13:45:00+00:00 Watch Out Wegovy: Here Comes Another Promising Anti-Obesity Candidate](https://www.fool.com/investing/2024/06/03/watch-out-wegovy-here-comes-another-promising-anti/)\n",
       " The fight for dominance in the weight loss market is just getting started."
      ],
      "text/plain": [
       "<IPython.core.display.Markdown object>"
      ]
     },
     "metadata": {},
     "output_type": "display_data"
    },
    {
     "data": {
      "text/markdown": [
       "[2024-06-03 19:14:17+00:00 Structure Therapeutics Obesity Candidate Is 'Very Competitive' To Eli Lilly's Orforglipron, Analyst Says](https://www.benzinga.com/analyst-ratings/analyst-color/24/06/39144875/structure-therapeutics-obesity-candidate-is-very-competitive-to-eli-lillys-orforgli)\n",
       " On Monday, Structure Therapeutics Inc. (NASDAQ:GPCR) revealed 12-week topline obesity data from its Phase 2a study of GSBR-1290.\n",
       "In the Phase 2a obesity study, GSBR-1290 demonstrated a clinically meaningful and statistically significant placebo-adjusted mean decrease in weight of 6.2% at 12 weeks.\n",
       "Cantor Fitzgerald maintains its bullish views on Structure Therapeutics and keeps the Overweight rating with a price target of \\\\$65.\n",
       "The analyst says, “now have more conviction that ‘1290 is very competitive with Eli Lilly And Co’s (NYSE:LLY) orforglipron on efficacy and data from ...Full story available on Benzinga.com"
      ],
      "text/plain": [
       "<IPython.core.display.Markdown object>"
      ]
     },
     "metadata": {},
     "output_type": "display_data"
    },
    {
     "data": {
      "text/markdown": [
       "[2024-06-04 15:45:00+00:00 ETFs to Profit from the Weight Loss Drug Boom](https://www.zacks.com/stock/news/2283455/etfs-to-profit-from-the-weight-loss-drug-boom)\n",
       " The market for GLP-1 drugs could soar to \\\\$130 billion by 2030"
      ],
      "text/plain": [
       "<IPython.core.display.Markdown object>"
      ]
     },
     "metadata": {},
     "output_type": "display_data"
    },
    {
     "data": {
      "text/markdown": [
       "[2024-06-06 11:45:00+00:00 Is Viking Therapeutics Stock a Buy on the Dip?](https://www.fool.com/investing/2024/06/06/is-viking-therapeutics-stock-a-buy-on-the-dip/)\n",
       " Short-term thinking is creating an intriguing opportunity for investors."
      ],
      "text/plain": [
       "<IPython.core.display.Markdown object>"
      ]
     },
     "metadata": {},
     "output_type": "display_data"
    },
    {
     "data": {
      "text/markdown": [
       "[2024-06-06 14:21:00+00:00 Eli Lilly (LLY) Veteran Anat Ashkenazi to Join Alphabet as CFO](https://www.zacks.com/stock/news/2284718/eli-lilly-lly-veteran-anat-ashkenazi-to-join-alphabet-as-cfo)\n",
       " Eli Lilly (LLY) CFO Anat Ashkenazi joins Google's parent company Alphabet as CFO and senior vice president, effective from Jul 31, 2024"
      ],
      "text/plain": [
       "<IPython.core.display.Markdown object>"
      ]
     },
     "metadata": {},
     "output_type": "display_data"
    },
    {
     "data": {
      "text/markdown": [
       "[2024-06-07 09:45:00+00:00 Is This Trend a Threat to Eli Lilly's Weight Loss Drug Dominance?](https://www.fool.com/investing/2024/06/07/is-this-trend-a-threat-to-eli-lillys-weight-loss-d/)\n",
       " The weight loss drug market is growing rapidly."
      ],
      "text/plain": [
       "<IPython.core.display.Markdown object>"
      ]
     },
     "metadata": {},
     "output_type": "display_data"
    },
    {
     "data": {
      "text/markdown": [
       "[2024-06-07 14:20:00+00:00 Pharma Stock Roundup: LLY's CFO Departs, ABBV, AZN Drugs Get CHMP Approval](https://www.zacks.com/stock/news/2285380/pharma-stock-roundup-llys-cfo-departs-abbv-azn-drugs-get-chmp-approval)\n",
       " Eli Lilly's (LLY) CFO Anat Ashkenazi resigns. CHMP recommends the expanded use of AbbVie's (ABBV) Skyrizi and AstraZeneca's (AZN) Tagrisso."
      ],
      "text/plain": [
       "<IPython.core.display.Markdown object>"
      ]
     },
     "metadata": {},
     "output_type": "display_data"
    },
    {
     "data": {
      "text/markdown": [
       "[2024-06-07 14:42:12+00:00 ETFs Bet High On Weight Loss Drugs, But Industry Observers Question Long-Term Potential](https://www.benzinga.com/analyst-ratings/analyst-color/24/06/39228957/etfs-bet-high-on-weight-loss-drugs-but-industry-observers-question-long-term-potent)\n",
       " With more than 10% of the global population now suffering from obesity, the share prices of companies providing the latest weight-loss drugs have surged.\n",
       "\n",
       "However, according to industry observers, investors considering exposure through the newly launched weight-loss exchange-traded funds (ETFs) need to evaluate their potential.\n",
       "\n",
       "The Roundhill GLP-1 Weight Loss ETF (NASDAQ:OZEM) and the Amplify Weight Loss Drug and Treatment ETF (NYSE:THNR) debuted on May 21 with an expense ratio of 0.59%.\n",
       "Both ETFs have significant weightings in industry giants Eli Lilly And Co (NYSE:LLY) and Novo Nordisk A/S (NYSE:NVO), with OZEM and THNR allocating about 40% and 30%, respectively, to these companies.\n",
       "Eli Lilly and ...Full story available on Benzinga.com"
      ],
      "text/plain": [
       "<IPython.core.display.Markdown object>"
      ]
     },
     "metadata": {},
     "output_type": "display_data"
    },
    {
     "data": {
      "text/markdown": [
       "[2024-06-07 14:50:53+00:00 Wall Street Reacts To Hot Jobs Report: Stocks Swing As Traders Abandon July Rate Cut Hopes](https://www.benzinga.com/markets/equities/24/06/39229188/wall-street-reacts-to-hot-jobs-report-stocks-swing-as-traders-abandon-july-rate-cut-hopes)\n",
       " The May labor market report delivered hotter-than-expected numbers in terms of job gains and wage growth.\n",
       "Last month, U.S. employers added 272,000 nonfarm payrolls, a sharp increase from April’s 165,000 and well above the expected 180,000.\n",
       "Average hourly earnings witnessed a 4.1% year-on-year surge, up from an upwardly revised 4% in April, and above the expected 3.9%. On a monthly basis, earnings advanced at a 0.4% pace, accelerating from the previous 0.2%, and above the predicted 0.3%.\n",
       "Overall, it was a hot jobs report on almost all fronts, except for a slight uptick in the unemployment rate from 3.9% to 4%.\n",
       "The market interpreted these data as the final nail in the coffin for the already slim chances of a potential rate cut in July. Fed futures now indicate ...Full story available on Benzinga.com"
      ],
      "text/plain": [
       "<IPython.core.display.Markdown object>"
      ]
     },
     "metadata": {},
     "output_type": "display_data"
    },
    {
     "data": {
      "text/markdown": [
       "[2024-06-08 14:05:00+00:00 The Company Behind Mounjaro and Zepbound Is Sponsoring Caitlin Clark. Should You Buy the Stock?](https://www.fool.com/investing/2024/06/08/the-company-behind-mounjaro-and-zepbound-is-sponso/)\n",
       " One of the most lucrative sports sponsorship opportunities is jersey patches, and one leading pharmaceutical company may have just struck gold."
      ],
      "text/plain": [
       "<IPython.core.display.Markdown object>"
      ]
     },
     "metadata": {},
     "output_type": "display_data"
    }
   ],
   "source": [
    "news_df = obb.news.company(symbol=\"LLY\", provider='polygon', limit=10).to_df()\n",
    "\n",
    "for item in news_df.itertuples():\n",
    "    markdown_str = \"\"\n",
    "    date_object = item.Index\n",
    "    display_title = item.title.replace(\"$\", \"\\\\\\$\")  # so Markdown doesn't interpret as latex escape\n",
    "    description = item.text.replace(\"$\", \"\\\\\\$\")\n",
    "    markdown_str += f\"[{str(date_object)} {display_title}]({item.url})\\n {description}\"\n",
    "    display(Markdown(markdown_str))"
   ]
  },
  {
   "cell_type": "code",
   "execution_count": 25,
   "id": "39d511f8",
   "metadata": {},
   "outputs": [
    {
     "ename": "OpenBBError",
     "evalue": "\n[Error] -> Missing credential 'benzinga_api_key'. Check https://www.benzinga.com to get it.",
     "output_type": "error",
     "traceback": [
      "\u001b[0;31m---------------------------------------------------------------------------\u001b[0m",
      "\u001b[0;31mOpenBBError\u001b[0m                               Traceback (most recent call last)",
      "Cell \u001b[0;32mIn[25], line 1\u001b[0m\n\u001b[0;32m----> 1\u001b[0m news_df \u001b[38;5;241m=\u001b[39m \u001b[43mobb\u001b[49m\u001b[38;5;241;43m.\u001b[39;49m\u001b[43mnews\u001b[49m\u001b[38;5;241;43m.\u001b[39;49m\u001b[43mcompany\u001b[49m\u001b[43m(\u001b[49m\u001b[43msymbol\u001b[49m\u001b[38;5;241;43m=\u001b[39;49m\u001b[38;5;124;43m\"\u001b[39;49m\u001b[38;5;124;43mLLY\u001b[39;49m\u001b[38;5;124;43m\"\u001b[39;49m\u001b[43m,\u001b[49m\u001b[43m \u001b[49m\u001b[43mprovider\u001b[49m\u001b[38;5;241;43m=\u001b[39;49m\u001b[38;5;124;43m'\u001b[39;49m\u001b[38;5;124;43mbenzinga\u001b[39;49m\u001b[38;5;124;43m'\u001b[39;49m\u001b[43m,\u001b[49m\u001b[43m \u001b[49m\u001b[43mlimit\u001b[49m\u001b[38;5;241;43m=\u001b[39;49m\u001b[38;5;241;43m10\u001b[39;49m\u001b[43m)\u001b[49m\u001b[38;5;241m.\u001b[39mto_df()\n\u001b[1;32m      3\u001b[0m \u001b[38;5;28;01mfor\u001b[39;00m item \u001b[38;5;129;01min\u001b[39;00m news_df\u001b[38;5;241m.\u001b[39mitertuples():\n\u001b[1;32m      4\u001b[0m     markdown_str \u001b[38;5;241m=\u001b[39m \u001b[38;5;124m\"\u001b[39m\u001b[38;5;124m\"\u001b[39m\n",
      "File \u001b[0;32m/opt/anaconda3/envs/bb_agent/lib/python3.11/site-packages/openbb_core/app/static/utils/decorators.py:80\u001b[0m, in \u001b[0;36mexception_handler.<locals>.wrapper\u001b[0;34m(*f_args, **f_kwargs)\u001b[0m\n\u001b[1;32m     76\u001b[0m     \u001b[38;5;28;01mraise\u001b[39;00m OpenBBError(\u001b[38;5;124mf\u001b[39m\u001b[38;5;124m\"\u001b[39m\u001b[38;5;130;01m\\n\u001b[39;00m\u001b[38;5;124m[Error] -> \u001b[39m\u001b[38;5;132;01m{\u001b[39;00merror_str\u001b[38;5;132;01m}\u001b[39;00m\u001b[38;5;124m\"\u001b[39m)\u001b[38;5;241m.\u001b[39mwith_traceback(\n\u001b[1;32m     77\u001b[0m         tb\n\u001b[1;32m     78\u001b[0m     ) \u001b[38;5;28;01mfrom\u001b[39;00m \u001b[38;5;28;01mNone\u001b[39;00m\n\u001b[1;32m     79\u001b[0m \u001b[38;5;28;01mif\u001b[39;00m \u001b[38;5;28misinstance\u001b[39m(e, OpenBBError):\n\u001b[0;32m---> 80\u001b[0m     \u001b[38;5;28;01mraise\u001b[39;00m OpenBBError(\u001b[38;5;124mf\u001b[39m\u001b[38;5;124m\"\u001b[39m\u001b[38;5;130;01m\\n\u001b[39;00m\u001b[38;5;124m[Error] -> \u001b[39m\u001b[38;5;132;01m{\u001b[39;00m\u001b[38;5;28mstr\u001b[39m(e)\u001b[38;5;132;01m}\u001b[39;00m\u001b[38;5;124m\"\u001b[39m)\u001b[38;5;241m.\u001b[39mwith_traceback(tb) \u001b[38;5;28;01mfrom\u001b[39;00m \u001b[38;5;28;01mNone\u001b[39;00m\n\u001b[1;32m     81\u001b[0m \u001b[38;5;28;01mraise\u001b[39;00m OpenBBError(\u001b[38;5;124m\"\u001b[39m\u001b[38;5;130;01m\\n\u001b[39;00m\u001b[38;5;124m[Error] -> Unexpected error.\u001b[39m\u001b[38;5;124m\"\u001b[39m)\u001b[38;5;241m.\u001b[39mwith_traceback(\n\u001b[1;32m     82\u001b[0m     tb\n\u001b[1;32m     83\u001b[0m ) \u001b[38;5;28;01mfrom\u001b[39;00m \u001b[38;5;28;01mNone\u001b[39;00m\n",
      "File \u001b[0;32m/opt/anaconda3/envs/bb_agent/lib/python3.11/site-packages/openbb_core/provider/query_executor.py:58\u001b[0m, in \u001b[0;36mQueryExecutor.filter_credentials\u001b[0;34m(credentials, provider, require_credentials)\u001b[0m\n\u001b[1;32m     56\u001b[0m         website \u001b[38;5;241m=\u001b[39m provider\u001b[38;5;241m.\u001b[39mwebsite \u001b[38;5;129;01mor\u001b[39;00m \u001b[38;5;124m\"\u001b[39m\u001b[38;5;124m\"\u001b[39m\n\u001b[1;32m     57\u001b[0m         extra_msg \u001b[38;5;241m=\u001b[39m \u001b[38;5;124mf\u001b[39m\u001b[38;5;124m\"\u001b[39m\u001b[38;5;124m Check \u001b[39m\u001b[38;5;132;01m{\u001b[39;00mwebsite\u001b[38;5;132;01m}\u001b[39;00m\u001b[38;5;124m to get it.\u001b[39m\u001b[38;5;124m\"\u001b[39m \u001b[38;5;28;01mif\u001b[39;00m website \u001b[38;5;28;01melse\u001b[39;00m \u001b[38;5;124m\"\u001b[39m\u001b[38;5;124m\"\u001b[39m\n\u001b[0;32m---> 58\u001b[0m         \u001b[38;5;28;01mraise\u001b[39;00m OpenBBError(\u001b[38;5;124mf\u001b[39m\u001b[38;5;124m\"\u001b[39m\u001b[38;5;124mMissing credential \u001b[39m\u001b[38;5;124m'\u001b[39m\u001b[38;5;132;01m{\u001b[39;00mc\u001b[38;5;132;01m}\u001b[39;00m\u001b[38;5;124m'\u001b[39m\u001b[38;5;124m.\u001b[39m\u001b[38;5;132;01m{\u001b[39;00mextra_msg\u001b[38;5;132;01m}\u001b[39;00m\u001b[38;5;124m\"\u001b[39m)\n\u001b[1;32m     59\u001b[0m \u001b[38;5;28;01melse\u001b[39;00m:\n\u001b[1;32m     60\u001b[0m     filtered_credentials[c] \u001b[38;5;241m=\u001b[39m secret\n",
      "\u001b[0;31mOpenBBError\u001b[0m: \n[Error] -> Missing credential 'benzinga_api_key'. Check https://www.benzinga.com to get it."
     ]
    }
   ],
   "source": [
    "news_df = obb.news.company(symbol=\"LLY\", provider='benzinga', limit=10).to_df()\n",
    "\n",
    "for item in news_df.itertuples():\n",
    "    markdown_str = \"\"\n",
    "    date_object = item.Index\n",
    "    display_title = item.title.replace(\"$\", \"\\\\\\$\")  # so Markdown doesn't interpret as latex escape\n",
    "    description = item.text.replace(\"$\", \"\\\\\\$\")\n",
    "    markdown_str += f\"[{str(date_object)} {display_title}]({item.url})\\n {description}\"\n",
    "    display(Markdown(markdown_str))"
   ]
  },
  {
   "cell_type": "code",
   "execution_count": 20,
   "id": "4a2e949d-7d0a-44e2-a1ed-46802abd3d74",
   "metadata": {},
   "outputs": [
    {
     "data": {
      "text/html": [
       "<div>\n",
       "<style scoped>\n",
       "    .dataframe tbody tr th:only-of-type {\n",
       "        vertical-align: middle;\n",
       "    }\n",
       "\n",
       "    .dataframe tbody tr th {\n",
       "        vertical-align: top;\n",
       "    }\n",
       "\n",
       "    .dataframe thead th {\n",
       "        text-align: right;\n",
       "    }\n",
       "</style>\n",
       "<table border=\"1\" class=\"dataframe\">\n",
       "  <thead>\n",
       "    <tr style=\"text-align: right;\">\n",
       "      <th></th>\n",
       "      <th>title</th>\n",
       "      <th>text</th>\n",
       "      <th>images</th>\n",
       "      <th>url</th>\n",
       "      <th>symbols</th>\n",
       "      <th>source</th>\n",
       "      <th>tags</th>\n",
       "      <th>id</th>\n",
       "      <th>amp_url</th>\n",
       "      <th>publisher</th>\n",
       "    </tr>\n",
       "    <tr>\n",
       "      <th>date</th>\n",
       "      <th></th>\n",
       "      <th></th>\n",
       "      <th></th>\n",
       "      <th></th>\n",
       "      <th></th>\n",
       "      <th></th>\n",
       "      <th></th>\n",
       "      <th></th>\n",
       "      <th></th>\n",
       "      <th></th>\n",
       "    </tr>\n",
       "  </thead>\n",
       "  <tbody>\n",
       "    <tr>\n",
       "      <th>2024-05-20 14:45:00+00:00</th>\n",
       "      <td>AstraZeneca (AZN) to Build $1.5B Cancer Drug P...</td>\n",
       "      <td>This new plant will be AstraZeneca's (AZN) fir...</td>\n",
       "      <td>[{'url': 'https://staticx-tuner.zacks.com/imag...</td>\n",
       "      <td>https://www.zacks.com/stock/news/2276201/astra...</td>\n",
       "      <td>AZN,PFE,MRK</td>\n",
       "      <td>Zacks Equity Research</td>\n",
       "      <td>None</td>\n",
       "      <td>mRCY0S03pJh-0mZOQdgzBpD1tc09a63S4-xzHV1B9sw</td>\n",
       "      <td>https://www.zacks.com/amp/stock/news/2276201/a...</td>\n",
       "      <td>{'favicon_url': 'https://s3.polygon.io/public/...</td>\n",
       "    </tr>\n",
       "    <tr>\n",
       "      <th>2024-05-22 13:50:11+00:00</th>\n",
       "      <td>Why Merck (MRK) is a Top Momentum Stock for th...</td>\n",
       "      <td>The Zacks Style Scores offers investors a way ...</td>\n",
       "      <td>[{'url': 'https://staticx-tuner.zacks.com/imag...</td>\n",
       "      <td>https://www.zacks.com/stock/news/2277274/why-m...</td>\n",
       "      <td>MRK</td>\n",
       "      <td>Zacks Equity Research</td>\n",
       "      <td>None</td>\n",
       "      <td>u-Pzf5KpgMBaRgI4tI6hnc8dCjVUV-gYNhCrshvOOpg</td>\n",
       "      <td>https://www.zacks.com/amp/stock/news/2277274/w...</td>\n",
       "      <td>{'favicon_url': 'https://s3.polygon.io/public/...</td>\n",
       "    </tr>\n",
       "    <tr>\n",
       "      <th>2024-05-24 09:50:00+00:00</th>\n",
       "      <td>Billionaire Ken Griffin Is Buying These Divide...</td>\n",
       "      <td>The billionaire hedge fund manager doesn't nee...</td>\n",
       "      <td>[{'url': 'https://g.foolcdn.com/editorial/imag...</td>\n",
       "      <td>https://www.fool.com/investing/2024/05/24/bill...</td>\n",
       "      <td>BAC,MRK,HES,CVX</td>\n",
       "      <td>newsfeedback@fool.com (Keith Speights)</td>\n",
       "      <td>investing</td>\n",
       "      <td>bZDVTjsKEErP9Ogrz6RcUanUPRyov0URt8izBs3fs-0</td>\n",
       "      <td>None</td>\n",
       "      <td>{'favicon_url': 'https://s3.polygon.io/public/...</td>\n",
       "    </tr>\n",
       "    <tr>\n",
       "      <th>2024-05-24 15:03:44+00:00</th>\n",
       "      <td>Sell Alert: 2 Dividend Stocks To Sell In May A...</td>\n",
       "      <td>September is the consistent worst month for th...</td>\n",
       "      <td>[{'url': 'https://static.seekingalpha.com/cdn/...</td>\n",
       "      <td>https://seekingalpha.com/article/4695496-sell-...</td>\n",
       "      <td>ABBV,AMGN,BAH,BMY,DKS,IBM,PFE,XOM,WSM,MRK</td>\n",
       "      <td>Robert &amp; Sam Kovacs</td>\n",
       "      <td>None</td>\n",
       "      <td>kZi_Z2OKRAq2j3OfMEDWO6i2i4w8OWSVArwDG6pFtYs</td>\n",
       "      <td>None</td>\n",
       "      <td>{'favicon_url': 'https://s3.polygon.io/public/...</td>\n",
       "    </tr>\n",
       "    <tr>\n",
       "      <th>2024-05-24 17:41:19+00:00</th>\n",
       "      <td>Why Is Cancer-Focused Merus Stock Trading Over...</td>\n",
       "      <td>Thursday, Merus N.V. (NASDAQ:MRUS) announced t...</td>\n",
       "      <td>[{'url': 'https://cdn.benzinga.com/files/image...</td>\n",
       "      <td>https://www.benzinga.com/analyst-ratings/analy...</td>\n",
       "      <td>MRK,MRUS</td>\n",
       "      <td>Vandana Singh</td>\n",
       "      <td>Analyst Color,Biotech,Health Care,Analyst Rati...</td>\n",
       "      <td>-YDejnW7jjgd3AiAI2lljjroXf_d6b3CFyZ5L7svJbs</td>\n",
       "      <td>https://www.benzinga.com/amp/content/39012157</td>\n",
       "      <td>{'favicon_url': 'https://s3.polygon.io/public/...</td>\n",
       "    </tr>\n",
       "  </tbody>\n",
       "</table>\n",
       "</div>"
      ],
      "text/plain": [
       "                                                                       title  \\\n",
       "date                                                                           \n",
       "2024-05-20 14:45:00+00:00  AstraZeneca (AZN) to Build $1.5B Cancer Drug P...   \n",
       "2024-05-22 13:50:11+00:00  Why Merck (MRK) is a Top Momentum Stock for th...   \n",
       "2024-05-24 09:50:00+00:00  Billionaire Ken Griffin Is Buying These Divide...   \n",
       "2024-05-24 15:03:44+00:00  Sell Alert: 2 Dividend Stocks To Sell In May A...   \n",
       "2024-05-24 17:41:19+00:00  Why Is Cancer-Focused Merus Stock Trading Over...   \n",
       "\n",
       "                                                                        text  \\\n",
       "date                                                                           \n",
       "2024-05-20 14:45:00+00:00  This new plant will be AstraZeneca's (AZN) fir...   \n",
       "2024-05-22 13:50:11+00:00  The Zacks Style Scores offers investors a way ...   \n",
       "2024-05-24 09:50:00+00:00  The billionaire hedge fund manager doesn't nee...   \n",
       "2024-05-24 15:03:44+00:00  September is the consistent worst month for th...   \n",
       "2024-05-24 17:41:19+00:00  Thursday, Merus N.V. (NASDAQ:MRUS) announced t...   \n",
       "\n",
       "                                                                      images  \\\n",
       "date                                                                           \n",
       "2024-05-20 14:45:00+00:00  [{'url': 'https://staticx-tuner.zacks.com/imag...   \n",
       "2024-05-22 13:50:11+00:00  [{'url': 'https://staticx-tuner.zacks.com/imag...   \n",
       "2024-05-24 09:50:00+00:00  [{'url': 'https://g.foolcdn.com/editorial/imag...   \n",
       "2024-05-24 15:03:44+00:00  [{'url': 'https://static.seekingalpha.com/cdn/...   \n",
       "2024-05-24 17:41:19+00:00  [{'url': 'https://cdn.benzinga.com/files/image...   \n",
       "\n",
       "                                                                         url  \\\n",
       "date                                                                           \n",
       "2024-05-20 14:45:00+00:00  https://www.zacks.com/stock/news/2276201/astra...   \n",
       "2024-05-22 13:50:11+00:00  https://www.zacks.com/stock/news/2277274/why-m...   \n",
       "2024-05-24 09:50:00+00:00  https://www.fool.com/investing/2024/05/24/bill...   \n",
       "2024-05-24 15:03:44+00:00  https://seekingalpha.com/article/4695496-sell-...   \n",
       "2024-05-24 17:41:19+00:00  https://www.benzinga.com/analyst-ratings/analy...   \n",
       "\n",
       "                                                             symbols  \\\n",
       "date                                                                   \n",
       "2024-05-20 14:45:00+00:00                                AZN,PFE,MRK   \n",
       "2024-05-22 13:50:11+00:00                                        MRK   \n",
       "2024-05-24 09:50:00+00:00                            BAC,MRK,HES,CVX   \n",
       "2024-05-24 15:03:44+00:00  ABBV,AMGN,BAH,BMY,DKS,IBM,PFE,XOM,WSM,MRK   \n",
       "2024-05-24 17:41:19+00:00                                   MRK,MRUS   \n",
       "\n",
       "                                                           source  \\\n",
       "date                                                                \n",
       "2024-05-20 14:45:00+00:00                   Zacks Equity Research   \n",
       "2024-05-22 13:50:11+00:00                   Zacks Equity Research   \n",
       "2024-05-24 09:50:00+00:00  newsfeedback@fool.com (Keith Speights)   \n",
       "2024-05-24 15:03:44+00:00                     Robert & Sam Kovacs   \n",
       "2024-05-24 17:41:19+00:00                           Vandana Singh   \n",
       "\n",
       "                                                                        tags  \\\n",
       "date                                                                           \n",
       "2024-05-20 14:45:00+00:00                                               None   \n",
       "2024-05-22 13:50:11+00:00                                               None   \n",
       "2024-05-24 09:50:00+00:00                                          investing   \n",
       "2024-05-24 15:03:44+00:00                                               None   \n",
       "2024-05-24 17:41:19+00:00  Analyst Color,Biotech,Health Care,Analyst Rati...   \n",
       "\n",
       "                                                                    id  \\\n",
       "date                                                                     \n",
       "2024-05-20 14:45:00+00:00  mRCY0S03pJh-0mZOQdgzBpD1tc09a63S4-xzHV1B9sw   \n",
       "2024-05-22 13:50:11+00:00  u-Pzf5KpgMBaRgI4tI6hnc8dCjVUV-gYNhCrshvOOpg   \n",
       "2024-05-24 09:50:00+00:00  bZDVTjsKEErP9Ogrz6RcUanUPRyov0URt8izBs3fs-0   \n",
       "2024-05-24 15:03:44+00:00  kZi_Z2OKRAq2j3OfMEDWO6i2i4w8OWSVArwDG6pFtYs   \n",
       "2024-05-24 17:41:19+00:00  -YDejnW7jjgd3AiAI2lljjroXf_d6b3CFyZ5L7svJbs   \n",
       "\n",
       "                                                                     amp_url  \\\n",
       "date                                                                           \n",
       "2024-05-20 14:45:00+00:00  https://www.zacks.com/amp/stock/news/2276201/a...   \n",
       "2024-05-22 13:50:11+00:00  https://www.zacks.com/amp/stock/news/2277274/w...   \n",
       "2024-05-24 09:50:00+00:00                                               None   \n",
       "2024-05-24 15:03:44+00:00                                               None   \n",
       "2024-05-24 17:41:19+00:00      https://www.benzinga.com/amp/content/39012157   \n",
       "\n",
       "                                                                   publisher  \n",
       "date                                                                          \n",
       "2024-05-20 14:45:00+00:00  {'favicon_url': 'https://s3.polygon.io/public/...  \n",
       "2024-05-22 13:50:11+00:00  {'favicon_url': 'https://s3.polygon.io/public/...  \n",
       "2024-05-24 09:50:00+00:00  {'favicon_url': 'https://s3.polygon.io/public/...  \n",
       "2024-05-24 15:03:44+00:00  {'favicon_url': 'https://s3.polygon.io/public/...  \n",
       "2024-05-24 17:41:19+00:00  {'favicon_url': 'https://s3.polygon.io/public/...  "
      ]
     },
     "execution_count": 20,
     "metadata": {},
     "output_type": "execute_result"
    }
   ],
   "source": [
    "obb.news.company(symbol, provider='polygon', limit=5).to_df()\n"
   ]
  },
  {
   "cell_type": "markdown",
   "id": "05e5429f-164c-4d82-81da-5b22b2c2c4ae",
   "metadata": {},
   "source": [
    "# Prompt OpenAI "
   ]
  },
  {
   "cell_type": "code",
   "execution_count": 21,
   "id": "a758632e-504b-4c2d-a26a-5de9cd158946",
   "metadata": {},
   "outputs": [],
   "source": [
    "MODEL = \"gpt-4o\"\n",
    "\n",
    "# MAX_INPUT_TOKENS = 65536\n",
    "MAX_OUTPUT_TOKENS = 4096    # max in current model\n",
    "MAX_RETRIES = 3\n",
    "TEMPERATURE = 0\n",
    "\n",
    "client = OpenAI()\n"
   ]
  },
  {
   "cell_type": "code",
   "execution_count": 22,
   "id": "b7abde63-5b62-48bc-9df0-cdf3c80990bd",
   "metadata": {},
   "outputs": [
    {
     "name": "stdout",
     "output_type": "stream",
     "text": [
      "The question of the airspeed velocity of an unladen swallow is often associated with a famous line from the movie \"Monty Python and the Holy Grail.\" In a more scientific context, it is known that the airspeed velocity of a European Swallow (Hirundo rustica) is approximately 11 meters per second or around 24 miles per hour, based on studies of their flight patterns and speeds.\n",
      "\n",
      "However, it's important to note that this measurement can vary depending on factors such as wind conditions, the bird's health, and its specific mode of flight (e.g., cruising versus diving).\n"
     ]
    }
   ],
   "source": [
    "messages = [{\"role\": \"user\", \"content\": \"what is the airspeed velocity of an unladen swallow?\"}]\n",
    "response = get_response(client, messages, tools=[])\n",
    "response_str = response.choices[0].message.content\n",
    "response_str = response_str.replace(\"$\", \"\\\\\\$\")\n",
    "\n",
    "print(response_str)"
   ]
  },
  {
   "cell_type": "markdown",
   "id": "e46d791f-7991-4b2b-ab87-db9924d66f09",
   "metadata": {},
   "source": [
    "# Question Answering Agent"
   ]
  },
  {
   "cell_type": "code",
   "execution_count": 23,
   "id": "abbeb492-4c38-48b3-91d9-005be43b3a80",
   "metadata": {},
   "outputs": [
    {
     "data": {
      "text/plain": [
       "143226"
      ]
     },
     "execution_count": 23,
     "metadata": {},
     "output_type": "execute_result"
    }
   ],
   "source": [
    "# make a custom tool\n",
    "\n",
    "def get_10k_item1_from_symbol(symbol):\n",
    "    \"\"\"\n",
    "    Get item 1 of the latest 10-K annual report filing for a given symbol.\n",
    "\n",
    "    Args:\n",
    "        symbol (str): The symbol of the equity.\n",
    "\n",
    "    Returns:\n",
    "        str: The item 1 of the latest 10-K annual report filing, or None if not found.\n",
    "\n",
    "    \"\"\"\n",
    "    item1_text = None\n",
    "    try:\n",
    "        # sec needs you to identify yourself for rate limiting\n",
    "        dl = Downloader(os.getenv(\"SEC_FIRM\"), os.getenv(\"SEC_USER\"))\n",
    "        html = dl.get_filing_html(ticker=symbol, form=\"10-K\")\n",
    "        elements: list = sp.Edgar10QParser().parse(html)\n",
    "        tree = sp.TreeBuilder().build(elements)\n",
    "        sections = [n for n in tree.nodes if n.text.startswith(\"Item\")]\n",
    "        item1_node = sections[0]\n",
    "        item1_text = \"\\n\".join([n.text for n in sections[0].get_descendants()])\n",
    "    except:\n",
    "        return None\n",
    "    # always return a list of dicts\n",
    "    return [{'item1': item1_text}]\n",
    "\n",
    "fn_metadata = {\n",
    "    \"name\": \"get_10k_item1_from_symbol\",\n",
    "    \"description\": \"Given a stock symbol, gets item 1 of the company's latest 10-K annual report filing.\",\n",
    "    \"openapi_path\" : None,\n",
    "    \"callable\": get_10k_item1_from_symbol,\n",
    "    \"parameters\": {\n",
    "        \"symbol\": {\n",
    "            \"type\": \"string\",\n",
    "            \"description\": \"The symbol to get the 10-K item 1 for\"\n",
    "            }\n",
    "        },\n",
    "    \"default_parameters\": {},\n",
    "    \"example_parameter_values\": [{\n",
    "        \"symbol\": \"MSFT\",\n",
    "    }],\n",
    "}\n",
    "\n",
    "tool = BB_agent_tool(**fn_metadata)\n",
    "tool_response = tool(symbol=\"MSFT\")\n",
    "len(json.loads(tool_response)[0]['item1'])\n"
   ]
  },
  {
   "cell_type": "code",
   "execution_count": 24,
   "id": "52296f7e-8ac4-4a13-b6f2-549335464acb",
   "metadata": {},
   "outputs": [
    {
     "name": "stdout",
     "output_type": "stream",
     "text": [
      "\n",
      "Role: You are an AI stock market assistant tasked with providing investors\n",
      "with up-to-date, detailed information on individual stocks.\n",
      "\n",
      "Objective: Assist data-driven stock market investors by giving accurate,\n",
      "complete, but concise information relevant to their questions about individual\n",
      "stocks.\n",
      "\n",
      "Capabilities: You are given a number of tools as functions. Use as many tools\n",
      "as needed to ensure all information provided is timely, accurate, concise,\n",
      "relevant, and responsive to the user's query.\n",
      "\n",
      "Instructions:\n",
      "1. Input validation. Determine if the input is asking about a specific company\n",
      "or stock ticker. If not, respond in a friendly, positive, professional tone\n",
      "that you don't have information to answer and suggest alternative services\n",
      "or approaches.\n",
      "\n",
      "2. Symbol extraction. If the query is valid, extract the company name or ticker\n",
      "symbol from the question. If a company name is given, look up the ticker symbol\n",
      "using a tool. If the ticker symbol is not found based on the company, try to\n",
      "correct the spelling and try again, like changing \"microsfot\" to \"microsoft\",\n",
      "or broadening the search, like changng \"southwest airlines\" to a shorter variation\n",
      "like \"southwest\" and increasing \"limit\" to 10 or more. If the company or ticker is\n",
      "still unclear based on the question or conversation so far, and the results of the\n",
      "symbol lookup, then ask the user to clarify which company or ticker.\n",
      "\n",
      "3. Information retrieval. Determine what data the user is seeking on the symbol\n",
      "identified. Use the appropriate tools to fetch the requested information. Only use\n",
      "data obtained from the tools. You may use multiple tools in a sequence. For instance,\n",
      "first determine the company's symbol, then retrieving company data using the symbol.\n",
      "\n",
      "4. Compose Response. Provide the answer to the user in a clear and concise format,\n",
      "in a friendly professional tone, emphasizing the data retrieved, without comment\n",
      "or analysis unless specifically requested by the user.\n",
      "\n",
      "Example Interaction:\n",
      "User asks: \"What is the PE ratio for Eli Lilly?\"\n",
      "Chatbot recognizes 'Eli Lilly' as a company name.\n",
      "Chatbot uses symbol lookup to find the ticker for Eli Lilly.\n",
      "Chatbot retrieves the PE ratio using the proper function.\n",
      "Chatbot responds: \"The PE ratio for Eli Lilly (symbol: LLY) as of May 12, 2024 is 30.\"\n",
      "\n",
      "Check carefully and only call the tools which are specifically named below.\n",
      "Only use data obtained from these tools.\n",
      "\n",
      "\n",
      "system: \n",
      "Role: You are an AI stock market assistant tasked with providing investors\n",
      "with up-to-date, detailed information on individual stocks.\n",
      "\n",
      "Objective: Assist data-driven stock market investors by giving accurate,\n",
      "complete, but concise information relevant to their questions about individual\n",
      "stocks.\n",
      "\n",
      "Capabilities: You are given a number of tools as functions. Use as many tools\n",
      "as needed to ensure all information provided is timely, accurate, concise,\n",
      "relevant, and responsive to the user's query.\n",
      "\n",
      "Instructions:\n",
      "1. Input validation. Determine if the input is asking about a specific company\n",
      "or stock ticker. If not, respond in a friendly, positive, professional tone\n",
      "that you don't have information to answer and suggest alternative services\n",
      "or approaches.\n",
      "\n",
      "2. Symbol extraction. If the query is valid, extract the company name or ticker\n",
      "symbol from the question. If a company name is given, look up the ticker symbol\n",
      "using a tool. If the ticker symbol is not found based on the company, try to\n",
      "correct the spelling and try again, like changing \"microsfot\" to \"microsoft\",\n",
      "or broadening the search, like changng \"southwest airlines\" to a shorter variation\n",
      "like \"southwest\" and increasing \"limit\" to 10 or more. If the company or ticker is\n",
      "still unclear based on the question or conversation so far, and the results of the\n",
      "symbol lookup, then ask the user to clarify which company or ticker.\n",
      "\n",
      "3. Information retrieval. Determine what data the user is seeking on the symbol\n",
      "identified. Use the appropriate tools to fetch the requested information. Only use\n",
      "data obtained from the tools. You may use multiple tools in a sequence. For instance,\n",
      "first determine the company's symbol, then retrieving company data using the symbol.\n",
      "\n",
      "4. Compose Response. Provide the answer to the user in a clear and concise format,\n",
      "in a friendly professional tone, emphasizing the data retrieved, without comment\n",
      "or analysis unless specifically requested by the user.\n",
      "\n",
      "Example Interaction:\n",
      "User asks: \"What is the PE ratio for Eli Lilly?\"\n",
      "Chatbot recognizes 'Eli Lilly' as a company name.\n",
      "Chatbot uses symbol lookup to find the ticker for Eli Lilly.\n",
      "Chatbot retrieves the PE ratio using the proper function.\n",
      "Chatbot responds: \"The PE ratio for Eli Lilly (symbol: LLY) as of May 12, 2024 is 30.\"\n",
      "\n",
      "Check carefully and only call the tools which are specifically named below.\n",
      "Only use data obtained from these tools.\n",
      "\n",
      "\n",
      "\n",
      "Available tools, with name, description, and calling example, delimited by ---:\n",
      "get_10k_item1_from_symbol : Given a stock symbol, gets item 1 of the company's latest 10-K annual report filing. Usage: get_10k_item1_from_symbol(symbol=\"MSFT\") -> [{\"item1\": \"Note About Forward-Looking Statements\\nThis report includes estimates, projections, statements relating to our business plans, objectives, and expected operating results that are \\u201cforward-looking statements\\u201d within the meaning of the Private Securities Litigation Reform Act of 1995, Section 27A of the Securities Act of 1933, and Section 21E of the Securities Exchange Act of 1934. Forward-looking statements may appear throughout this report, including the following sections: \\u201cBusiness\\u201d (Part I, Item 1 of this Form 10-K), \\u201cRisk Factors\\u201d (Part I, Item 1A of this Form 10-K), and \\u201cManagement\\u2019s Discussion and Analysis of Financial Condition and Results of Operations\\u201d (Part II, Item 7 of this Form 10-K). These forward-looking statements generally are identified by the words \\u201cbelieve,\\u201d \\u201cproject,\\u201d \\u201cexpect,\\u201d \\u201canticipate,\\u201d \\u201cestimate,\\u201d \\u201cintend,\\u201d \\u201cstrategy,\\u201d \\u201cfuture,\\u201d \\u201copportunity,\\u201d \\u201cplan,\\u201d \\u201cmay,\\u201d \\u201cshould,\\u201d \\u201cwill,\\u201d \\u201cwould,\\u201d \\u201cwill be,\\u201d \\u201cwill continue,\\u201d \\u201cwill likely result,\\u201d and similar expressions. Forward-looking statements are based on current expectations and assumptions that are subject to risks and uncertainties that may cause actual results to differ materially. We describe risks and uncertainties that could cause actual results and events to differ materially in \\u201cRisk Factors,\\u201d \\u201cManagement\\u2019s Discussion and Analysis of Financial Condition and Results of Operations,\\u201d and \\u201cQuantitative and Qualitative Disclosures about Market Risk\\u201d (Part II, Item 7A of this Form 10-K). Readers are cautioned not to place undue reliance on forward-looking statements, which speak only as of the date they are made. We undertake no obligation to update or revise publicly any forward-looking statements, whether because of new information, fu…\n",
      "---\n",
      "\n",
      "    \n",
      "user: Please summarize item 1 from the latest MSFT annual report\n",
      "Choice(finish_reason='tool_calls', index=0, logprobs=None, message=ChatCompletionMessage(content=None, role='assistant', function_call=None, tool_calls=[ChatCompletionMessageToolCall(id='call_2vNqvOnv4ez3LHzaf9SQDFOB', function=Function(arguments='{\"symbol\":\"MSFT\"}', name='get_10k_item1_from_symbol'), type='function')]))\n",
      "[ChatCompletionMessageToolCall(id='call_2vNqvOnv4ez3LHzaf9SQDFOB', function=Function(arguments='{\"symbol\":\"MSFT\"}', name='get_10k_item1_from_symbol'), type='function')]\n",
      "get_10k_item1_from_symbol({'symbol': 'MSFT'}) -> [{\"item1\": \"Note About Forward-Looking Statements\\nThis report includes estimates, projections, stat...\n",
      "Choice(finish_reason='stop', index=0, logprobs=None, message=ChatCompletionMessage(content=\"**Summary of Item 1 from Microsoft's Latest Annual Report (Form 10-K):**\\n\\nMicrosoft's latest Annual Report highlights its mission and core business focus areas:\\n\\n1. **General Business Overview**:\\n   - Microsoft is a technology company aiming to empower every individual and organization globally.\\n   - The company creates platforms and tools powered by AI to enhance business competitiveness, improve educational and health outcomes, and grow public-sector efficiency.\\n\\n2. **Products and Services**:\\n   - Microsoft offers an array of services, including cloud solutions (Azure), software products (Windows, Office 365), development tools, and devices (Surface, Xbox).\\n   - Key business processes are driven by AI and cloud computing capabilities.\\n   - The company emphasizes responsible AI, aligning with principles of fairness, reliability, privacy, security, inclusiveness, transparency, and acc...\n"
     ]
    },
    {
     "data": {
      "text/markdown": [
       "**Summary of Item 1 from Microsoft's Latest Annual Report (Form 10-K):**\n",
       "\n",
       "Microsoft's latest Annual Report highlights its mission and core business focus areas:\n",
       "\n",
       "1. **General Business Overview**:\n",
       "   - Microsoft is a technology company aiming to empower every individual and organization globally.\n",
       "   - The company creates platforms and tools powered by AI to enhance business competitiveness, improve educational and health outcomes, and grow public-sector efficiency.\n",
       "\n",
       "2. **Products and Services**:\n",
       "   - Microsoft offers an array of services, including cloud solutions (Azure), software products (Windows, Office 365), development tools, and devices (Surface, Xbox).\n",
       "   - Key business processes are driven by AI and cloud computing capabilities.\n",
       "   - The company emphasizes responsible AI, aligning with principles of fairness, reliability, privacy, security, inclusiveness, transparency, and accountability.\n",
       "\n",
       "3. **Strategic Ambitions**:\n",
       "   - **Reinvent Productivity and Business Processes**: Through products like Microsoft 365, Dynamics 365, and LinkedIn.\n",
       "   - **Build the Intelligent Cloud and Intelligent Edge Platform**: Focus on Azure cloud services, AI platforms, and hybrid infrastructure.\n",
       "   - **Create More Personal Computing**: Development of Windows 11, AI-backed applications, and new gaming experiences.\n",
       "\n",
       "4. **Corporate Priorities**:\n",
       "   - Commitment to sustainability, targeting carbon negativity, water positivity, and zero waste by 2030.\n",
       "   - Addressing racial injustice through specific initiatives focused on strengthening communities, engaging ecosystems, and increasing representation within the company.\n",
       "   - Investing in digital skills training and AI education for global workers.\n",
       "\n",
       "5. **Human Capital Resources**:\n",
       "   - Focus on attracting diverse talent and fostering an inclusive work environment.\n",
       "   - Various employee support programs including wellness, flexible work options, and continuous learning opportunities.\n",
       "   - Emphasis on pay equity and transparency in workforce diversity data.\n",
       "\n",
       "6. **Operational Segments**:\n",
       "   - **Productivity and Business Processes**: Includes Office, LinkedIn, and Dynamics business solutions.\n",
       "   - **Intelligent Cloud**: Encompasses Azure, server products, AI services, and enterprise services.\n",
       "   - **More Personal Computing**: Involves Windows, devices (Surface, HoloLens), gaming (Xbox), and search and news advertising (Bing, Microsoft Edge).\n",
       "\n",
       "7. **Commitment to Innovation**:\n",
       "   - Investment in research and development across a broad range of technologies to drive future growth.\n",
       "   - Focus on integrating AI across products and services for enhanced customer experiences.\n",
       "\n",
       "8. **Corporate Social Responsibility**:\n",
       "   - Detailed on environmental sustainability efforts, racial justice initiatives, and commitments to digital inclusion and skills development.\n",
       "\n",
       "This summary reflects the essence of Microsoft's strategic vision, core products, and its commitment to innovation, sustainability, and social equity."
      ],
      "text/plain": [
       "<IPython.core.display.Markdown object>"
      ]
     },
     "metadata": {},
     "output_type": "display_data"
    }
   ],
   "source": [
    "user_message = \"Please summarize item 1 from the latest MSFT annual report\"\n",
    "agent_query(client, user_message, verbose=True)\n"
   ]
  },
  {
   "cell_type": "markdown",
   "id": "6bb88565-e7d2-45fa-bd9e-ec2ce541617d",
   "metadata": {},
   "source": [
    "# Add more OpenBB tools\n",
    "Map OpenBB functions to OpenAI tools"
   ]
  },
  {
   "cell_type": "code",
   "execution_count": 25,
   "id": "6c699308-34de-4c2c-901f-6201614a6fea",
   "metadata": {},
   "outputs": [
    {
     "data": {
      "text/plain": [
       "'get_10k_item1_from_symbol : Given a stock symbol, gets item 1 of the company\\'s latest 10-K annual report filing. Usage: get_10k_item1_from_symbol(symbol=\"MSFT\") -> [{\"item1\": \"Note About Forward-Looking Statements\\\\nThis report includes estimates, projections, statements relating to our business plans, objectives, and expected operating results that are \\\\u201cforward-looking statements\\\\u201d within the meaning of the Private Securities Litigation Reform Act of 1995, Section 27A of the Securities Act of 1933, and Section 21E of the Securities Exchange Act of 1934. Forward-looking statements may appear throughout this report, including the following sections: \\\\u201cBusiness\\\\u201d (Part I, Item 1 of this Form 10-K), \\\\u201cRisk Factors\\\\u201d (Part I, Item 1A of this Form 10-K), and \\\\u201cManagement\\\\u2019s Discussion and Analysis of Financial Condition and Results of Operations\\\\u201d (Part II, Item 7 of this Form 10-K). These forward-looking statements generally are identified by the words \\\\u201cbelieve,\\\\u201d \\\\u201cproject,\\\\u201d \\\\u201cexpect,\\\\u201d \\\\u201canticipate,\\\\u201d \\\\u201cestimate,\\\\u201d \\\\u201cintend,\\\\u201d \\\\u201cstrategy,\\\\u201d \\\\u201cfuture,\\\\u201d \\\\u201copportunity,\\\\u201d \\\\u201cplan,\\\\u201d \\\\u201cmay,\\\\u201d \\\\u201cshould,\\\\u201d \\\\u201cwill,\\\\u201d \\\\u201cwould,\\\\u201d \\\\u201cwill be,\\\\u201d \\\\u201cwill continue,\\\\u201d \\\\u201cwill likely result,\\\\u201d and similar expressions. Forward-looking statements are based on current expectations and assumptions that are subject to risks and uncertainties that may cause actual results to differ materially. We describe risks and uncertainties that could cause actual results and events to differ materially in \\\\u201cRisk Factors,\\\\u201d \\\\u201cManagement\\\\u2019s Discussion and Analysis of Financial Condition and Results of Operations,\\\\u201d and \\\\u201cQuantitative and Qualitative Disclosures about Market Risk\\\\u201d (Part II, Item 7A of this Form 10-K). Readers are cautioned not to place undue reliance on forward-looking statements, which speak only as of the date they are made. We undertake no obligation to update or revise publicly any forward-looking statements, whether because of new information, fu…\\n---\\n'"
      ]
     },
     "execution_count": 25,
     "metadata": {},
     "output_type": "execute_result"
    }
   ],
   "source": [
    "# creates examples by calling the tool on the example parameters and updates descriptions\n",
    "openai_tools=[]\n",
    "tool_descs=\"\"\n",
    "\n",
    "for v in BB_agent_tool.agent_registry.values():\n",
    "        t = v.tooldict\n",
    "        openai_tools.append(t)\n",
    "        tname = t['function']['name']\n",
    "        tdesc = t['function']['description']\n",
    "        tool_descs += f\"{tname} : {tdesc}\"\n",
    "        if v.example_code:\n",
    "            tool_descs += f\" Usage: {v.example_code}\"\n",
    "        tool_descs += \"\\n---\\n\"\n",
    "\n",
    "tool_descs"
   ]
  },
  {
   "cell_type": "code",
   "execution_count": 26,
   "id": "d9fe9e8a-3956-4cca-bbc1-b2131ec4a954",
   "metadata": {},
   "outputs": [
    {
     "data": {
      "text/plain": [
       "\"{'openapi': '3.1.0', 'info': {'title': 'OpenBB Platform API', 'description': 'This is the OpenBB Platform API.', 'termsOfService': 'http://example.com/terms/', 'contact': {'name': 'OpenBB Team', 'url': 'https://openbb.co/', 'email': 'hello@openbb.co'}, 'license': {'name': 'MIT', 'url': 'https://github.com/OpenBB-finance/OpenBBTerminal/blob/develop/LICENSE'}, 'version': '1'}, 'servers': [{'url': 'http://localhost:8000', 'description': 'Local OpenBB development server'}], 'paths': {'/api/v1/commodity/lbma_fixing': {'get': {'tags': ['commodity'], 'summary': 'Lbma Fixing', 'description': 'Daily LBMA Fixing Prices in USD/EUR/GBP.', 'operationId': 'commodity_lbma_fixing', 'parameters': [{'name': 'provider', 'in': 'query', 'required': False, 'schema': {'enum': ['nasdaq'], 'const': 'nasdaq', 'type': 'string', 'default': 'nasdaq', 'title': 'Provider'}}, {'name': 'asset', 'in': 'query', 'required': False, 'schema': {'enum': ['gold', 'silver'], 'type': 'string', 'description': 'The metal to get price fixing rates for.', 'default': 'gold', 'title': 'Asset'}, 'description': 'The metal to get price fixing rates for.'}, {'name': 'start_date', 'in': 'query', 'required': False, 'schema': {'anyOf': [{'type': 'string', 'format': 'date'}, {'type': 'null'}], 'description': 'Start date of the data, in YYYY-MM-DD format.', 'title': 'Start Date'}, 'description': 'Start date of the data, in YYYY-MM-DD format.'}, {'name': 'end_date', 'in': 'query', 'required': False, 'schema': {'anyOf': [{'type': 'string', 'format': 'date'}, {'type': 'null'}], 'description': 'Start date of the data, in YYYY-MM-DD format.', 'title': 'End Date'}, 'description': 'Start date of the data, in YYYY-MM-DD format.'}, {'name': 'transform', 'in': 'query', 'required': False, 'schema': {'enum': ['diff', 'rdiff', 'cumul', 'normalize', None], 'description': 'Transform the data as difference, percent change, cumulative, or normalize.', 'title': 'Transform'}, 'description': 'Transform the data as difference, percent change, \""
      ]
     },
     "execution_count": 26,
     "metadata": {},
     "output_type": "execute_result"
    }
   ],
   "source": [
    "# load the OpenAPI / swagger spec from\n",
    "# http://127.0.0.1:8000/openapi.json\n",
    "with open(\"openapi.json\", 'r') as file:\n",
    "    data = json.load(file)\n",
    "\n",
    "str(data)[:2000]\n"
   ]
  },
  {
   "cell_type": "code",
   "execution_count": 27,
   "id": "b0ea067a-3b7e-4c50-aa87-c1a4baf07001",
   "metadata": {},
   "outputs": [
    {
     "name": "stdout",
     "output_type": "stream",
     "text": [
      "/api/v1/equity/calendar/ipo\n",
      "/api/v1/equity/calendar/dividend\n",
      "/api/v1/equity/calendar/splits\n",
      "/api/v1/equity/calendar/earnings\n",
      "/api/v1/equity/compare/peers\n",
      "/api/v1/equity/compare/groups\n",
      "/api/v1/equity/estimates/price_target\n",
      "/api/v1/equity/estimates/historical\n",
      "/api/v1/equity/estimates/consensus\n",
      "/api/v1/equity/estimates/analyst_search\n",
      "/api/v1/equity/estimates/forward_sales\n",
      "/api/v1/equity/estimates/forward_eps\n",
      "/api/v1/equity/darkpool/otc\n",
      "/api/v1/equity/discovery/gainers\n",
      "/api/v1/equity/discovery/losers\n",
      "/api/v1/equity/discovery/active\n",
      "/api/v1/equity/discovery/undervalued_large_caps\n",
      "/api/v1/equity/discovery/undervalued_growth\n",
      "/api/v1/equity/discovery/aggressive_small_caps\n",
      "/api/v1/equity/discovery/growth_tech\n",
      "/api/v1/equity/discovery/top_retail\n",
      "/api/v1/equity/discovery/upcoming_release_days\n",
      "/api/v1/equity/discovery/filings\n",
      "/api/v1/equity/fundamental/multiples\n",
      "/api/v1/equity/fundamental/balance\n",
      "/api/v1/equity/fundamental/balance_growth\n",
      "/api/v1/equity/fundamental/cash\n",
      "/api/v1/equity/fundamental/reported_financials\n",
      "/api/v1/equity/fundamental/cash_growth\n",
      "/api/v1/equity/fundamental/dividends\n",
      "/api/v1/equity/fundamental/historical_eps\n",
      "/api/v1/equity/fundamental/employee_count\n",
      "/api/v1/equity/fundamental/search_attributes\n",
      "/api/v1/equity/fundamental/latest_attributes\n",
      "/api/v1/equity/fundamental/historical_attributes\n",
      "/api/v1/equity/fundamental/income\n",
      "/api/v1/equity/fundamental/income_growth\n",
      "/api/v1/equity/fundamental/metrics\n",
      "/api/v1/equity/fundamental/management\n",
      "/api/v1/equity/fundamental/management_compensation\n",
      "/api/v1/equity/fundamental/overview\n",
      "/api/v1/equity/fundamental/ratios\n",
      "/api/v1/equity/fundamental/revenue_per_geography\n",
      "/api/v1/equity/fundamental/revenue_per_segment\n",
      "/api/v1/equity/fundamental/filings\n",
      "/api/v1/equity/fundamental/historical_splits\n",
      "/api/v1/equity/fundamental/transcript\n",
      "/api/v1/equity/fundamental/trailing_dividend_yield\n",
      "/api/v1/equity/ownership/major_holders\n",
      "/api/v1/equity/ownership/institutional\n",
      "/api/v1/equity/ownership/insider_trading\n",
      "/api/v1/equity/ownership/share_statistics\n",
      "/api/v1/equity/ownership/form_13f\n",
      "/api/v1/equity/price/quote\n",
      "/api/v1/equity/price/nbbo\n",
      "/api/v1/equity/price/historical\n",
      "/api/v1/equity/price/performance\n",
      "/api/v1/equity/shorts/fails_to_deliver\n",
      "/api/v1/equity/shorts/short_volume\n",
      "/api/v1/equity/shorts/short_interest\n",
      "/api/v1/equity/search\n",
      "/api/v1/equity/screener\n",
      "/api/v1/equity/profile\n",
      "/api/v1/equity/market_snapshots\n",
      "/api/v1/etf/equity_exposure\n"
     ]
    }
   ],
   "source": [
    "# list all the equity functions\n",
    "for path_str, fn_json in data['paths'].items():\n",
    "    if path_str.find('equity') != -1:\n",
    "        print(path_str)\n"
   ]
  },
  {
   "cell_type": "code",
   "execution_count": 28,
   "id": "137bc44a-9bea-42c4-b6e7-20cc0c17e2e2",
   "metadata": {},
   "outputs": [
    {
     "data": {
      "text/plain": [
       "{'get': {'tags': ['equity'],\n",
       "  'summary': 'Search',\n",
       "  'description': 'Search for stock symbol, CIK, LEI, or company name.',\n",
       "  'operationId': 'equity_search',\n",
       "  'parameters': [{'name': 'provider',\n",
       "    'in': 'query',\n",
       "    'required': True,\n",
       "    'schema': {'enum': ['cboe', 'intrinio', 'nasdaq', 'sec', 'tmx', 'tradier'],\n",
       "     'type': 'string',\n",
       "     'title': 'Provider'}},\n",
       "   {'name': 'query',\n",
       "    'in': 'query',\n",
       "    'required': False,\n",
       "    'schema': {'type': 'string',\n",
       "     'description': 'Search query.',\n",
       "     'default': '',\n",
       "     'title': 'Query'},\n",
       "    'description': 'Search query.'},\n",
       "   {'name': 'is_symbol',\n",
       "    'in': 'query',\n",
       "    'required': False,\n",
       "    'schema': {'type': 'boolean',\n",
       "     'description': 'Whether to search by ticker symbol.',\n",
       "     'default': False,\n",
       "     'title': 'Is Symbol'},\n",
       "    'description': 'Whether to search by ticker symbol.'},\n",
       "   {'name': 'use_cache',\n",
       "    'in': 'query',\n",
       "    'required': False,\n",
       "    'schema': {'anyOf': [{'type': 'boolean'}, {'type': 'null'}],\n",
       "     'description': 'Whether to use the cache or not.',\n",
       "     'default': True,\n",
       "     'title': 'Use Cache'},\n",
       "    'description': 'Whether to use the cache or not.'},\n",
       "   {'name': 'active',\n",
       "    'in': 'query',\n",
       "    'required': False,\n",
       "    'schema': {'anyOf': [{'type': 'boolean'}, {'type': 'null'}],\n",
       "     'title': 'intrinio',\n",
       "     'description': 'When true, return companies that are actively traded (having stock prices within the past 14 days). When false, return companies that are not actively traded or never have been traded. (provider: intrinio)',\n",
       "     'default': True},\n",
       "    'description': 'When true, return companies that are actively traded (having stock prices within the past 14 days). When false, return companies that are not actively traded or never have been traded. (provider: intrinio)'},\n",
       "   {'name': 'limit',\n",
       "    'in': 'query',\n",
       "    'required': False,\n",
       "    'schema': {'anyOf': [{'type': 'integer'}, {'type': 'null'}],\n",
       "     'title': 'intrinio',\n",
       "     'description': 'The number of data entries to return. (provider: intrinio)',\n",
       "     'default': 10000},\n",
       "    'description': 'The number of data entries to return. (provider: intrinio)'},\n",
       "   {'name': 'is_etf',\n",
       "    'in': 'query',\n",
       "    'required': False,\n",
       "    'schema': {'anyOf': [{'type': 'boolean'}, {'type': 'null'}],\n",
       "     'title': 'nasdaq',\n",
       "     'description': 'If True, returns ETFs. (provider: nasdaq)'},\n",
       "    'description': 'If True, returns ETFs. (provider: nasdaq)'},\n",
       "   {'name': 'is_fund',\n",
       "    'in': 'query',\n",
       "    'required': False,\n",
       "    'schema': {'type': 'boolean',\n",
       "     'title': 'sec',\n",
       "     'description': 'Whether to direct the search to the list of mutual funds and ETFs. (provider: sec)',\n",
       "     'default': False},\n",
       "    'description': 'Whether to direct the search to the list of mutual funds and ETFs. (provider: sec)'}],\n",
       "  'responses': {'200': {'description': 'Successful Response',\n",
       "    'content': {'application/json': {'schema': {'$ref': '#/components/schemas/OBBject_EquitySearch'}}}},\n",
       "   '404': {'description': 'Not found'},\n",
       "   '400': {'description': 'No Results Found',\n",
       "    'content': {'application/json': {'schema': {'$ref': '#/components/schemas/OpenBBErrorResponse'}}}},\n",
       "   '500': {'description': 'Internal Error',\n",
       "    'content': {'application/json': {'schema': {'$ref': '#/components/schemas/OpenBBErrorResponse'}}}},\n",
       "   '422': {'description': 'Validation Error',\n",
       "    'content': {'application/json': {'schema': {'$ref': '#/components/schemas/HTTPValidationError'}}}}},\n",
       "  'model': 'EquitySearch',\n",
       "  'examples': [{'scope': 'api',\n",
       "    'parameters': {'provider': 'intrinio'},\n",
       "    'provider': 'intrinio'},\n",
       "   {'scope': 'api',\n",
       "    'parameters': {'query': 'AAPL',\n",
       "     'is_symbol': 0.0,\n",
       "     'use_cache': 1.0,\n",
       "     'provider': 'nasdaq'},\n",
       "    'provider': 'nasdaq'}]}}"
      ]
     },
     "execution_count": 28,
     "metadata": {},
     "output_type": "execute_result"
    }
   ],
   "source": [
    "data['paths']['/api/v1/equity/search']\n"
   ]
  },
  {
   "cell_type": "code",
   "execution_count": 29,
   "id": "e5bc2548-b49f-48e6-9e09-3cde7d7a0151",
   "metadata": {},
   "outputs": [],
   "source": [
    "fn_metadata = {\n",
    "    \"name\": \"get_equity_search_symbol\",\n",
    "    \"description\": \"Given a search string, get the stock symbol of the top company whose name best matches the search string.\",\n",
    "    \"openapi_path\" : '/api/v1/equity/search',\n",
    "    \"parameters\": {\n",
    "        \"query\": {\n",
    "            \"type\": \"string\",\n",
    "            \"description\": \"The search string to match to the stock symbol.\"\n",
    "            },\"\"\n",
    "        \"limit\": {\n",
    "            \"type\": \"integer\",\n",
    "            \"description\": \"The number of results to return. Pick a small number from 1 to 10 and choose the best response.\"\n",
    "            }\n",
    "        },\n",
    "    \"default_parameters\": {\n",
    "        \"provider\": \"sec\"\n",
    "    },\n",
    "    \"example_parameter_values\": [{\n",
    "        \"query\": \"Broadcom\",\n",
    "    }],\n",
    "    # \"singular\": 1,\n",
    "}\n",
    "\n",
    "tool = BB_agent_tool(**fn_metadata)\n",
    "\n"
   ]
  },
  {
   "cell_type": "code",
   "execution_count": 30,
   "id": "a5d9e798-0da4-463d-a602-3f4032de7168",
   "metadata": {},
   "outputs": [
    {
     "data": {
      "text/plain": [
       "'[{\"symbol\": \"LUV\", \"name\": \"SOUTHWEST AIRLINES CO\", \"cik\": \"92380\"}]'"
      ]
     },
     "execution_count": 30,
     "metadata": {},
     "output_type": "execute_result"
    }
   ],
   "source": [
    "BB_agent_tool.agent_registry['get_equity_search_symbol'](query=\"Southwest Air\")"
   ]
  },
  {
   "cell_type": "code",
   "execution_count": 31,
   "id": "c9e2f9e5-3843-4cfd-9492-30d2d7cb4316",
   "metadata": {},
   "outputs": [
    {
     "name": "stdout",
     "output_type": "stream",
     "text": [
      "get_equity_search_symbol({'query': 'Southwest Airlines', 'limit': 1}) -> [{\"symbol\": \"LUV\", \"name\": \"SOUTHWEST AIRLINES CO\", \"cik\": \"92380\"}]\n"
     ]
    },
    {
     "data": {
      "text/markdown": [
       "The stock symbol for Southwest Airlines is **LUV**."
      ],
      "text/plain": [
       "<IPython.core.display.Markdown object>"
      ]
     },
     "metadata": {},
     "output_type": "display_data"
    }
   ],
   "source": [
    "agent_query(client, \"What is the stock symbol for Southwest airlines?\", verbose=False)\n"
   ]
  },
  {
   "cell_type": "code",
   "execution_count": 32,
   "id": "30e36e9b-71a1-4482-9057-b43b3f36381b",
   "metadata": {},
   "outputs": [
    {
     "name": "stdout",
     "output_type": "stream",
     "text": [
      "get_equity_search_symbol({'query': 'yakimee air', 'limit': 10}) -> []\n"
     ]
    },
    {
     "data": {
      "text/markdown": [
       "I'm sorry, but I couldn't find any stock symbol for \"yakimee air.\" Could you please confirm the company name or provide more details? It's possible that there might have been a slight misspelling or the company might be listed under a different name."
      ],
      "text/plain": [
       "<IPython.core.display.Markdown object>"
      ]
     },
     "metadata": {},
     "output_type": "display_data"
    }
   ],
   "source": [
    "agent_query(client, \"What is the stock symbol for yakimee air?\", verbose=False)\n"
   ]
  },
  {
   "cell_type": "code",
   "execution_count": 33,
   "id": "89d587d2-7c8e-4edb-a855-d04e184afb3b",
   "metadata": {},
   "outputs": [
    {
     "name": "stdout",
     "output_type": "stream",
     "text": [
      "\n",
      "Role: You are an AI stock market assistant tasked with providing investors\n",
      "with up-to-date, detailed information on individual stocks.\n",
      "\n",
      "Objective: Assist data-driven stock market investors by giving accurate,\n",
      "complete, but concise information relevant to their questions about individual\n",
      "stocks.\n",
      "\n",
      "Capabilities: You are given a number of tools as functions. Use as many tools\n",
      "as needed to ensure all information provided is timely, accurate, concise,\n",
      "relevant, and responsive to the user's query.\n",
      "\n",
      "Instructions:\n",
      "1. Input validation. Determine if the input is asking about a specific company\n",
      "or stock ticker. If not, respond in a friendly, positive, professional tone\n",
      "that you don't have information to answer and suggest alternative services\n",
      "or approaches.\n",
      "\n",
      "2. Symbol extraction. If the query is valid, extract the company name or ticker\n",
      "symbol from the question. If a company name is given, look up the ticker symbol\n",
      "using a tool. If the ticker symbol is not found based on the company, try to\n",
      "correct the spelling and try again, like changing \"microsfot\" to \"microsoft\",\n",
      "or broadening the search, like changng \"southwest airlines\" to a shorter variation\n",
      "like \"southwest\" and increasing \"limit\" to 10 or more. If the company or ticker is\n",
      "still unclear based on the question or conversation so far, and the results of the\n",
      "symbol lookup, then ask the user to clarify which company or ticker.\n",
      "\n",
      "3. Information retrieval. Determine what data the user is seeking on the symbol\n",
      "identified. Use the appropriate tools to fetch the requested information. Only use\n",
      "data obtained from the tools. You may use multiple tools in a sequence. For instance,\n",
      "first determine the company's symbol, then retrieving company data using the symbol.\n",
      "\n",
      "4. Compose Response. Provide the answer to the user in a clear and concise format,\n",
      "in a friendly professional tone, emphasizing the data retrieved, without comment\n",
      "or analysis unless specifically requested by the user.\n",
      "\n",
      "Example Interaction:\n",
      "User asks: \"What is the PE ratio for Eli Lilly?\"\n",
      "Chatbot recognizes 'Eli Lilly' as a company name.\n",
      "Chatbot uses symbol lookup to find the ticker for Eli Lilly.\n",
      "Chatbot retrieves the PE ratio using the proper function.\n",
      "Chatbot responds: \"The PE ratio for Eli Lilly (symbol: LLY) as of May 12, 2024 is 30.\"\n",
      "\n",
      "Check carefully and only call the tools which are specifically named below.\n",
      "Only use data obtained from these tools.\n",
      "\n",
      "\n",
      "system: \n",
      "Role: You are an AI stock market assistant tasked with providing investors\n",
      "with up-to-date, detailed information on individual stocks.\n",
      "\n",
      "Objective: Assist data-driven stock market investors by giving accurate,\n",
      "complete, but concise information relevant to their questions about individual\n",
      "stocks.\n",
      "\n",
      "Capabilities: You are given a number of tools as functions. Use as many tools\n",
      "as needed to ensure all information provided is timely, accurate, concise,\n",
      "relevant, and responsive to the user's query.\n",
      "\n",
      "Instructions:\n",
      "1. Input validation. Determine if the input is asking about a specific company\n",
      "or stock ticker. If not, respond in a friendly, positive, professional tone\n",
      "that you don't have information to answer and suggest alternative services\n",
      "or approaches.\n",
      "\n",
      "2. Symbol extraction. If the query is valid, extract the company name or ticker\n",
      "symbol from the question. If a company name is given, look up the ticker symbol\n",
      "using a tool. If the ticker symbol is not found based on the company, try to\n",
      "correct the spelling and try again, like changing \"microsfot\" to \"microsoft\",\n",
      "or broadening the search, like changng \"southwest airlines\" to a shorter variation\n",
      "like \"southwest\" and increasing \"limit\" to 10 or more. If the company or ticker is\n",
      "still unclear based on the question or conversation so far, and the results of the\n",
      "symbol lookup, then ask the user to clarify which company or ticker.\n",
      "\n",
      "3. Information retrieval. Determine what data the user is seeking on the symbol\n",
      "identified. Use the appropriate tools to fetch the requested information. Only use\n",
      "data obtained from the tools. You may use multiple tools in a sequence. For instance,\n",
      "first determine the company's symbol, then retrieving company data using the symbol.\n",
      "\n",
      "4. Compose Response. Provide the answer to the user in a clear and concise format,\n",
      "in a friendly professional tone, emphasizing the data retrieved, without comment\n",
      "or analysis unless specifically requested by the user.\n",
      "\n",
      "Example Interaction:\n",
      "User asks: \"What is the PE ratio for Eli Lilly?\"\n",
      "Chatbot recognizes 'Eli Lilly' as a company name.\n",
      "Chatbot uses symbol lookup to find the ticker for Eli Lilly.\n",
      "Chatbot retrieves the PE ratio using the proper function.\n",
      "Chatbot responds: \"The PE ratio for Eli Lilly (symbol: LLY) as of May 12, 2024 is 30.\"\n",
      "\n",
      "Check carefully and only call the tools which are specifically named below.\n",
      "Only use data obtained from these tools.\n",
      "\n",
      "\n",
      "\n",
      "Available tools, with name, description, and calling example, delimited by ---:\n",
      "get_10k_item1_from_symbol : Given a stock symbol, gets item 1 of the company's latest 10-K annual report filing. Usage: get_10k_item1_from_symbol(symbol=\"MSFT\") -> [{\"item1\": \"Note About Forward-Looking Statements\\nThis report includes estimates, projections, statements relating to our business plans, objectives, and expected operating results that are \\u201cforward-looking statements\\u201d within the meaning of the Private Securities Litigation Reform Act of 1995, Section 27A of the Securities Act of 1933, and Section 21E of the Securities Exchange Act of 1934. Forward-looking statements may appear throughout this report, including the following sections: \\u201cBusiness\\u201d (Part I, Item 1 of this Form 10-K), \\u201cRisk Factors\\u201d (Part I, Item 1A of this Form 10-K), and \\u201cManagement\\u2019s Discussion and Analysis of Financial Condition and Results of Operations\\u201d (Part II, Item 7 of this Form 10-K). These forward-looking statements generally are identified by the words \\u201cbelieve,\\u201d \\u201cproject,\\u201d \\u201cexpect,\\u201d \\u201canticipate,\\u201d \\u201cestimate,\\u201d \\u201cintend,\\u201d \\u201cstrategy,\\u201d \\u201cfuture,\\u201d \\u201copportunity,\\u201d \\u201cplan,\\u201d \\u201cmay,\\u201d \\u201cshould,\\u201d \\u201cwill,\\u201d \\u201cwould,\\u201d \\u201cwill be,\\u201d \\u201cwill continue,\\u201d \\u201cwill likely result,\\u201d and similar expressions. Forward-looking statements are based on current expectations and assumptions that are subject to risks and uncertainties that may cause actual results to differ materially. We describe risks and uncertainties that could cause actual results and events to differ materially in \\u201cRisk Factors,\\u201d \\u201cManagement\\u2019s Discussion and Analysis of Financial Condition and Results of Operations,\\u201d and \\u201cQuantitative and Qualitative Disclosures about Market Risk\\u201d (Part II, Item 7A of this Form 10-K). Readers are cautioned not to place undue reliance on forward-looking statements, which speak only as of the date they are made. We undertake no obligation to update or revise publicly any forward-looking statements, whether because of new information, fu…\n",
      "---\n",
      "get_equity_search_symbol : Given a search string, get the stock symbol of the top company whose name best matches the search string. Usage: get_equity_search_symbol(query=\"Broadcom\") -> [{\"symbol\": \"AVGO\", \"name\": \"Broadcom Inc.\", \"cik\": \"1730168\"}]\n",
      "---\n",
      "\n",
      "    \n",
      "user: What is item 1 from the 10k annual report for Microsfot?\n",
      "Choice(finish_reason='tool_calls', index=0, logprobs=None, message=ChatCompletionMessage(content=None, role='assistant', function_call=None, tool_calls=[ChatCompletionMessageToolCall(id='call_rqLvXngyYDGe1N7OGVU7VlbU', function=Function(arguments='{\"query\": \"Microsoft\", \"limit\": 1}', name='get_equity_search_symbol'), type='function')]))\n",
      "[ChatCompletionMessageToolCall(id='call_rqLvXngyYDGe1N7OGVU7VlbU', function=Function(arguments='{\"query\": \"Microsoft\", \"limit\": 1}', name='get_equity_search_symbol'), type='function')]\n",
      "get_equity_search_symbol({'query': 'Microsoft', 'limit': 1}) -> [{\"symbol\": \"MSFT\", \"name\": \"MICROSOFT CORP\", \"cik\": \"789019\"}]\n",
      "Choice(finish_reason='tool_calls', index=0, logprobs=None, message=ChatCompletionMessage(content=None, role='assistant', function_call=None, tool_calls=[ChatCompletionMessageToolCall(id='call_TqsqPhBiLZRlHQuuJkr9l4vg', function=Function(arguments='{\"symbol\":\"MSFT\"}', name='get_10k_item1_from_symbol'), type='function')]))\n",
      "[ChatCompletionMessageToolCall(id='call_TqsqPhBiLZRlHQuuJkr9l4vg', function=Function(arguments='{\"symbol\":\"MSFT\"}', name='get_10k_item1_from_symbol'), type='function')]\n",
      "get_10k_item1_from_symbol({'symbol': 'MSFT'}) -> [{\"item1\": \"Note About Forward-Looking Statements\\nThis report includes estimates, projections, stat...\n",
      "Choice(finish_reason='stop', index=0, logprobs=None, message=ChatCompletionMessage(content=\"**Item 1 from the 10-K Annual Report for Microsoft (Symbol: MSFT)**\\n\\n**General Overview**:\\nMicrosoft is a technology company aiming to empower individuals and organizations globally to achieve more. They focus on creating local opportunities, growth, and impactful outcomes worldwide, leveraging platforms and tools powered by artificial intelligence (AI) to deliver superior solutions to support businesses, educational and health outcomes, improve public sector efficiency, and foster human ingenuity.\\n\\n**Key Highlights**:\\n\\n1. **AI Integration**:\\n   - Microsoft is innovating and expanding its portfolio with AI capabilities to help organizations overcome challenges and emerge stronger.\\n   - Their investment in AI spans the entire company, from Microsoft Teams and Outlook to Bing and Xbox, infusing generative AI capabilities across services.\\n\\n2. **Core Principles for AI**:\\n   - Microsoft's...\n"
     ]
    },
    {
     "data": {
      "text/markdown": [
       "**Item 1 from the 10-K Annual Report for Microsoft (Symbol: MSFT)**\n",
       "\n",
       "**General Overview**:\n",
       "Microsoft is a technology company aiming to empower individuals and organizations globally to achieve more. They focus on creating local opportunities, growth, and impactful outcomes worldwide, leveraging platforms and tools powered by artificial intelligence (AI) to deliver superior solutions to support businesses, educational and health outcomes, improve public sector efficiency, and foster human ingenuity.\n",
       "\n",
       "**Key Highlights**:\n",
       "\n",
       "1. **AI Integration**:\n",
       "   - Microsoft is innovating and expanding its portfolio with AI capabilities to help organizations overcome challenges and emerge stronger.\n",
       "   - Their investment in AI spans the entire company, from Microsoft Teams and Outlook to Bing and Xbox, infusing generative AI capabilities across services.\n",
       "\n",
       "2. **Core Principles for AI**:\n",
       "   - Microsoft's AI work is guided by principles including fairness, reliability and safety, privacy and security, inclusiveness, transparency, and accountability.\n",
       "\n",
       "3. **Products and Services**:\n",
       "   - Microsoft offers a myriad of services, including cloud-based solutions, operating systems, productivity applications, business solutions, software development tools, and devices like PCs, tablets, and gaming consoles.\n",
       "\n",
       "4. **Business Segments**:\n",
       "   - Key ambitions include reinventing productivity and business processes, building the intelligent cloud and intelligent edge platform, and creating more personal computing.\n",
       "\n",
       "5. **Corporate Social Responsibility**:\n",
       "   - Commitment to Sustainability: Microsoft aims to be carbon negative, water positive, and zero waste by 2030.\n",
       "   - Addressing Racial Injustice and Inequity: Microsoft is working to improve the lives of Black and African American communities in the U.S. and beyond.\n",
       "\n",
       "6. **Human Capital Resources**:\n",
       "   - Microsoft aims to recruit, develop, and retain a diverse range of talent, creating an inclusive and supportive work environment for their 221,000 employees globally.\n",
       "\n",
       "Microsoft’s report details significant investment in AI, strong ethical guidelines, and emphasizes corporate social responsibility and sustainability.\n",
       "\n",
       "For more in-depth details, please refer to Microsoft’s full 10-K report.\n",
       "\n",
       "Feel free to ask if you need more specific information or have further queries!"
      ],
      "text/plain": [
       "<IPython.core.display.Markdown object>"
      ]
     },
     "metadata": {},
     "output_type": "display_data"
    }
   ],
   "source": [
    "# agent is able to first get symbol, then get annual report for symbol\n",
    "agent_query(client, \"What is item 1 from the 10k annual report for Microsfot?\", verbose=True)\n"
   ]
  },
  {
   "cell_type": "code",
   "execution_count": 34,
   "id": "7d963d77-c2f0-4c34-a17b-33ce2b3793c8",
   "metadata": {},
   "outputs": [],
   "source": [
    "fn_metadata = {\n",
    "    \"name\": \"get_equity_price_quote\",\n",
    "    \"description\": \"Given a stock symbol, get latest market data including last price in JSON format.\",\n",
    "    \"openapi_path\" : '/api/v1/equity/price/quote',\n",
    "    \"parameters\": {\n",
    "        \"symbol\": {\n",
    "            \"type\": \"string\",\n",
    "            \"description\": \"The stock symbol to get quote data for.\"\n",
    "            },\n",
    "        },\n",
    "    \"default_parameters\": {\n",
    "        \"provider\": \"yfinance\"\n",
    "    },\n",
    "    \"example_parameter_values\": [{\n",
    "        \"symbol\": \"AVGO\",\n",
    "    }],\n",
    "    # \"singular\": 1,\n",
    "}\n",
    "\n",
    "tool = BB_agent_tool(**fn_metadata)"
   ]
  },
  {
   "cell_type": "code",
   "execution_count": 35,
   "id": "fc8bf343-2792-4aba-b65d-3d11f9520b61",
   "metadata": {},
   "outputs": [
    {
     "name": "stdout",
     "output_type": "stream",
     "text": [
      "get_equity_price_quote({'symbol': 'MRK'}) -> [{\"symbol\": \"MRK\", \"asset_type\": \"EQUITY\", \"name\": \"Merck & Co., Inc.\", \"exchange\": \"NYQ\", \"bid\": 12...\n"
     ]
    },
    {
     "data": {
      "text/markdown": [
       "The last market quote for Merck & Co., Inc. (symbol: MRK) is as follows:\n",
       "\n",
       "- **Last Price**: \\\\$129.49\n",
       "- **Bid**: \\\\$129.35 (800 shares)\n",
       "- **Ask**: \\\\$129.49 (1800 shares)\n",
       "- **Open**: \\\\$131.45\n",
       "- **High**: \\\\$131.45\n",
       "- **Low**: \\\\$129.16\n",
       "- **Volume**: 5,946,890\n",
       "- **Previous Close**: \\\\$131.09\n",
       "- **52-week High**: \\\\$133.10\n",
       "- **52-week Low**: \\\\$99.14\n",
       "- **50-day Moving Average**: \\\\$127.94\n",
       "- **200-day Moving Average**: \\\\$115.44\n",
       "\n",
       "All prices are in USD."
      ],
      "text/plain": [
       "<IPython.core.display.Markdown object>"
      ]
     },
     "metadata": {},
     "output_type": "display_data"
    }
   ],
   "source": [
    "agent_query(client, f\"What is the last market quote for symbol {symbol}?\", verbose=False)\n"
   ]
  },
  {
   "cell_type": "code",
   "execution_count": 36,
   "id": "17fa8727-bdbd-434c-b754-1842f64e99f8",
   "metadata": {},
   "outputs": [
    {
     "name": "stdout",
     "output_type": "stream",
     "text": [
      "get_equity_search_symbol({'query': 'Consolidated Agglomerators', 'limit': 5}) -> []\n"
     ]
    },
    {
     "data": {
      "text/markdown": [
       "It seems I couldn't find a stock symbol for \"Consolidated Agglomerators.\" Could you please check the company name for any spelling errors or provide more details?"
      ],
      "text/plain": [
       "<IPython.core.display.Markdown object>"
      ]
     },
     "metadata": {},
     "output_type": "display_data"
    }
   ],
   "source": [
    "agent_query(client, f\"What is the last market quote for Consolidated Agglomerators\", verbose=False)\n"
   ]
  },
  {
   "cell_type": "code",
   "execution_count": 37,
   "id": "50b547be-1730-4d7a-856c-6e0a340aeb28",
   "metadata": {},
   "outputs": [
    {
     "data": {
      "text/markdown": [
       "I’m sorry, but I don't have information about the weather. For the current weather in Las Vegas, you can check a weather forecasting website or app like Weather.com, AccuWeather, or your local news station."
      ],
      "text/plain": [
       "<IPython.core.display.Markdown object>"
      ]
     },
     "metadata": {},
     "output_type": "display_data"
    }
   ],
   "source": [
    "agent_query(client, f\"What is the current weather in Las Vegas\", verbose=False)\n"
   ]
  },
  {
   "cell_type": "code",
   "execution_count": 38,
   "id": "691d6eca-f545-4ed9-a34d-c19704c72ccd",
   "metadata": {},
   "outputs": [
    {
     "name": "stdout",
     "output_type": "stream",
     "text": [
      "get_company_profile_json({'symbol': 'MRK'}) -> [{\"symbol\": \"MRK\", \"name\": \"Merck & Co., Inc.\", \"cik\": \"0000310158\", \"cusip\": \"58933Y105\", \"isin\": \"...\n"
     ]
    },
    {
     "data": {
      "text/markdown": [
       "Here is a basic company profile for Merck & Co., Inc. (symbol: MRK):\n",
       "\n",
       "- **Name:** Merck & Co., Inc.\n",
       "- **Stock Exchange:** New York Stock Exchange\n",
       "- **Sector:** Healthcare\n",
       "- **Industry Category:** Drug Manufacturers - General\n",
       "- **Headquarters:** \n",
       "  - Address: 2000 Galloping Hill Road, Kenilworth, NJ, 07033, United States\n",
       "  - Phone: 908 740 4000\n",
       "- **CEO:** Mr. Robert M. Davis J.D.\n",
       "- **Employees:** 70,000\n",
       "- **Website:** [merck.com](https://www.merck.com)\n",
       "- **Description:**\n",
       "  Merck & Co., Inc. operates as a healthcare company worldwide. It has two segments: Pharmaceutical and Animal Health. The Pharmaceutical segment offers human health pharmaceutical products in areas such as oncology, hospital acute care, immunology, neuroscience, virology, cardiovascular, and diabetes, as well as vaccines. The Animal Health segment deals with veterinary pharmaceuticals and digitally connected identification products. The company collaborates with other major pharmaceuticals to jointly develop and commercialize treatments. Merck & Co., Inc. was founded in 1891 and is headquartered in Kenilworth, New Jersey.\n",
       "- **Stock Information:**\n",
       "  - **Market Cap:** \\\\$327.97 billion\n",
       "  - **Last Price:** \\\\$129.49\n",
       "  - **52-Week High:** \\\\$133.1\n",
       "  - **52-Week Low:** \\\\$99.14\n",
       "  - **Average Volume:** 8,199,988\n",
       "  - **Annualized Dividend:** \\\\$3.08\n",
       "  - **Beta:** 0.402\n",
       "\n",
       "![Merck Logo](https://financialmodelingprep.com/image-stock/MRK.png)\n",
       "\n",
       "If you need more detailed information or have any other questions, feel free to ask!"
      ],
      "text/plain": [
       "<IPython.core.display.Markdown object>"
      ]
     },
     "metadata": {},
     "output_type": "display_data"
    }
   ],
   "source": [
    "tool = BB_agent_tool(\n",
    "    name=\"get_company_profile_json\",\n",
    "    description=\"Given a stock symbol, get general background data about the company such as company name, industry, and sector data in JSON format\",\n",
    "    openapi_path='/api/v1/equity/profile',\n",
    "    parameters={\n",
    "        \"symbol\": {\n",
    "            \"type\": \"string\",\n",
    "            \"description\": \"The stock symbol.\"\n",
    "        }\n",
    "        },\n",
    "    default_parameters={\n",
    "    },\n",
    "    example_parameter_values=[{\n",
    "        \"symbol\": \"NVDA\",\n",
    "    }],\n",
    ")\n",
    "\n",
    "agent_query(client, f\"Can you provide a basic company profile of symbol {symbol}\", verbose=False)\n"
   ]
  },
  {
   "cell_type": "code",
   "execution_count": 39,
   "id": "040be374-f8c2-4453-9ded-4abab760db1d",
   "metadata": {},
   "outputs": [],
   "source": [
    "# tool = BB_agent_tool(\n",
    "#     name=\"get_equity_shorts_short_interest\",\n",
    "#     description=\"Given a stock symbol, get data on short volume and days to cover in JSON format.\",\n",
    "#     openapi_path='/api/v1/equity/shorts/short_interest',\n",
    "#     parameters={\n",
    "#         \"symbol\": {\n",
    "#             \"type\": \"string\",\n",
    "#             \"description\": \"The stock symbol.\"\n",
    "#         }\n",
    "#         },\n",
    "#     default_parameters={\n",
    "#     },    \n",
    "#     example_parameter_values=[{\n",
    "#         \"symbol\": \"NVDA\",\n",
    "#     }],\n",
    "# )\n",
    "\n",
    "# agent_query(client, f\"Provide latest statistics on short interest for symbol {symbol}\", verbose=False)\n"
   ]
  },
  {
   "cell_type": "code",
   "execution_count": 40,
   "id": "0d23319a-0b0c-402e-9b84-f7b7fd4fb25c",
   "metadata": {},
   "outputs": [],
   "source": [
    "tool = BB_agent_tool(\n",
    "    name=\"get_equity_fundamental_historical_splits\",\n",
    "    description=\"Given a stock symbol, get the company's historical stock splits in JSON format.\",\n",
    "    openapi_path='/api/v1/equity/fundamental/historical_splits',\n",
    "    parameters={\n",
    "        \"symbol\": {\n",
    "            \"type\": \"string\",\n",
    "            \"description\": \"The stock symbol.\"\n",
    "        }\n",
    "        },\n",
    "    default_parameters={\n",
    "    },\n",
    "    example_parameter_values=[{\n",
    "        \"symbol\": \"NVDA\",\n",
    "    }],\n",
    ")\n"
   ]
  },
  {
   "cell_type": "code",
   "execution_count": 41,
   "id": "15ff90cc-2755-42d8-9eda-01fc52668ae9",
   "metadata": {},
   "outputs": [
    {
     "name": "stdout",
     "output_type": "stream",
     "text": [
      "get_equity_fundamental_historical_splits({'symbol': 'AAPL'}) -> [{\"date\": \"2020-08-31\", \"numerator\": 4.0, \"denominator\": 1.0, \"split_ratio\": null, \"label\": \"August ...\n"
     ]
    },
    {
     "data": {
      "text/markdown": [
       "Here are the historical stock splits for Apple Inc. (symbol: AAPL):\n",
       "\n",
       "1. **August 31, 2020**: 4-for-1\n",
       "2. **June 9, 2014**: 7-for-1\n",
       "3. **February 28, 2005**: 2-for-1\n",
       "4. **June 21, 2000**: 2-for-1\n",
       "5. **June 16, 1987**: 2-for-1\n",
       "\n",
       "If you need more information, feel free to ask!"
      ],
      "text/plain": [
       "<IPython.core.display.Markdown object>"
      ]
     },
     "metadata": {},
     "output_type": "display_data"
    }
   ],
   "source": [
    "agent_query(client, f\"Provide historical split information for symbol AAPL\", verbose=False)"
   ]
  },
  {
   "cell_type": "code",
   "execution_count": 42,
   "id": "11acabf1-8fbb-419a-8eac-5146173660a3",
   "metadata": {},
   "outputs": [
    {
     "name": "stdout",
     "output_type": "stream",
     "text": [
      "get_balance_sheet_json({'symbol': 'MRK'}) -> {\"period_ending\": \"2023-12-31\", \"fiscal_period\": \"FY\", \"fiscal_year\": 2023, \"filing_date\": \"2024-04-...\n"
     ]
    },
    {
     "data": {
      "text/markdown": [
       "The latest total assets for Merck & Co., Inc. (symbol: MRK) as of December 31, 2023, are \\\\$106,675,000,000 USD.\n",
       "\n",
       "For more details, you can refer to their [latest filing with the SEC](https://www.sec.gov/Archives/edgar/data/310158/000119312524093194/d807955d10ka.htm)."
      ],
      "text/plain": [
       "<IPython.core.display.Markdown object>"
      ]
     },
     "metadata": {},
     "output_type": "display_data"
    }
   ],
   "source": [
    "tool = BB_agent_tool(\n",
    "    name=\"get_balance_sheet_json\",\n",
    "    description=\"Given a stock symbol, get the latest balance sheet data with assets and liabilities for the company in JSON format.\",\n",
    "    openapi_path='/api/v1/equity/fundamental/balance',\n",
    "    parameters={\n",
    "        \"symbol\": {\n",
    "            \"type\": \"string\",\n",
    "            \"description\": \"The stock symbol.\"\n",
    "        }\n",
    "    },\n",
    "    example_parameter_values=[{\n",
    "        \"symbol\": \"NVDA\",\n",
    "    }],\n",
    "    default_parameters={\n",
    "    },\n",
    "    singular=1\n",
    ")\n",
    "\n",
    "agent_query(client, f\"what are the latest total assets for symbol {symbol}\", verbose=False)\n"
   ]
  },
  {
   "cell_type": "code",
   "execution_count": 43,
   "id": "8ff5c872-de7a-4c88-828f-c983b7ed30fb",
   "metadata": {},
   "outputs": [],
   "source": [
    "# can give by year\n",
    "# obb.equity.fundamental.balance(symbol='NVDA', period='annual', fiscal_year='2023', limit=1)\n",
    "# also growth from prior period obb.equity.fundamental.balance_growth"
   ]
  },
  {
   "cell_type": "code",
   "execution_count": 44,
   "id": "d321ef20-4a96-4812-88db-8c1744ca84ea",
   "metadata": {},
   "outputs": [
    {
     "name": "stdout",
     "output_type": "stream",
     "text": [
      "get_cash_flow_json({'symbol': 'MRK'}) -> {\"period_ending\": \"2023-12-31\", \"fiscal_period\": \"FY\", \"fiscal_year\": 2023, \"filing_date\": \"2024-04-...\n"
     ]
    },
    {
     "data": {
      "text/markdown": [
       "The most recent cash flow from operations for Merck & Co. Inc. (symbol: MRK) is \\\\$13,006,000,000 for the fiscal year ending on December 31, 2023.\n",
       "\n",
       "For further details, you can refer to their [10-K filing](https://www.sec.gov/Archives/edgar/data/310158/000119312524093194/d807955d10ka.htm)."
      ],
      "text/plain": [
       "<IPython.core.display.Markdown object>"
      ]
     },
     "metadata": {},
     "output_type": "display_data"
    }
   ],
   "source": [
    "tool = BB_agent_tool(\n",
    "    name=\"get_cash_flow_json\",\n",
    "    description=\"Given a stock symbol, get the latest cash flow statement data for the company in JSON format.\",\n",
    "    openapi_path='/api/v1/equity/fundamental/cash',\n",
    "    parameters={\n",
    "        \"symbol\": {\n",
    "            \"type\": \"string\",\n",
    "            \"description\": \"The stock symbol.\"\n",
    "        }\n",
    "        },\n",
    "    default_parameters={\n",
    "    },\n",
    "    example_parameter_values=[{\n",
    "        \"symbol\": \"NVDA\",\n",
    "    }],\n",
    "    singular=1\n",
    ")\n",
    "\n",
    "agent_query(client, f\"what was the most recent cash flow from operations for stock symbol {symbol}\", verbose=False)\n"
   ]
  },
  {
   "cell_type": "code",
   "execution_count": 45,
   "id": "2ba427b5-9b74-498c-aee8-0f4518cf25c6",
   "metadata": {},
   "outputs": [
    {
     "name": "stdout",
     "output_type": "stream",
     "text": [
      "get_income_statement_json({'symbol': 'MRK'}) -> {\"period_ending\": \"2023-12-31\", \"fiscal_period\": \"FY\", \"fiscal_year\": 2023, \"filing_date\": \"2024-04-...\n"
     ]
    },
    {
     "data": {
      "text/markdown": [
       "The most recent net income for Merck & Co., Inc. (symbol: MRK) for the fiscal year ending on December 31, 2023, was \\\\$365,000,000.\n",
       "\n",
       "For more details, you can access [their filing](https://www.sec.gov/Archives/edgar/data/310158/000119312524093194/d807955d10ka.htm)."
      ],
      "text/plain": [
       "<IPython.core.display.Markdown object>"
      ]
     },
     "metadata": {},
     "output_type": "display_data"
    }
   ],
   "source": [
    "tool = BB_agent_tool(\n",
    "    name=\"get_income_statement_json\",\n",
    "    description=\"Given a stock symbol, get the latest income statement data for the company in JSON format\",\n",
    "    openapi_path='/api/v1/equity/fundamental/income',\n",
    "    parameters={\n",
    "        \"symbol\": {\n",
    "            \"type\": \"string\",\n",
    "            \"description\": \"The stock symbol.\"\n",
    "        }\n",
    "        },\n",
    "    default_parameters={\n",
    "    },\n",
    "    example_parameter_values=[{\n",
    "        \"symbol\": \"NVDA\",\n",
    "    }],\n",
    "    singular=1\n",
    ")\n",
    "\n",
    "agent_query(client, f\"what was the most recent net income for symbol {symbol}\", verbose=False)\n"
   ]
  },
  {
   "cell_type": "code",
   "execution_count": 46,
   "id": "a1098457-64ef-44c7-93ed-ec7fd172b937",
   "metadata": {},
   "outputs": [
    {
     "name": "stdout",
     "output_type": "stream",
     "text": [
      "get_equity_price_quote({'symbol': 'MRK'}) -> [{\"symbol\": \"MRK\", \"asset_type\": \"EQUITY\", \"name\": \"Merck & Co., Inc.\", \"exchange\": \"NYQ\", \"bid\": 12...\n",
      "get_fundamental_metrics_json({'symbol': 'MRK'}) -> [{\"symbol\": \"MRK\", \"market_cap\": 276583740000.0, \"pe_ratio\": 757.7636712328766, \"period_ending\": \"20...\n"
     ]
    },
    {
     "data": {
      "text/markdown": [
       "The most recent PE ratio for Merck & Co., Inc. (symbol: MRK) is approximately 757.76, as of the fiscal year ending December 31, 2023."
      ],
      "text/plain": [
       "<IPython.core.display.Markdown object>"
      ]
     },
     "metadata": {},
     "output_type": "display_data"
    }
   ],
   "source": [
    "tool = BB_agent_tool(\n",
    "    name=\"get_fundamental_metrics_json\",\n",
    "    description=\"Given a stock symbol, get fundamental metrics for the company in JSON format.\",\n",
    "    openapi_path='/api/v1/equity/fundamental/metrics',\n",
    "    parameters={\n",
    "        \"symbol\": {\n",
    "            \"type\": \"string\",\n",
    "            \"description\": \"The stock symbol.\"\n",
    "        }\n",
    "        },\n",
    "    default_parameters={\n",
    "    },\n",
    "    example_parameter_values=[{\n",
    "        \"symbol\": \"NVDA\",\n",
    "    }],\n",
    ")\n",
    "\n",
    "agent_query(client, f\"what was the most recent PE ratio for stock symbol {symbol}\", verbose=False)\n"
   ]
  },
  {
   "cell_type": "code",
   "execution_count": 47,
   "id": "5daa5fb1-21ac-46d4-ac7b-521f6d841156",
   "metadata": {},
   "outputs": [
    {
     "name": "stdout",
     "output_type": "stream",
     "text": [
      "get_fundamental_metrics_json({'symbol': 'MRK'}) -> [{\"symbol\": \"MRK\", \"market_cap\": 276583740000.0, \"pe_ratio\": 757.7636712328766, \"period_ending\": \"20...\n"
     ]
    },
    {
     "data": {
      "text/markdown": [
       "The most recent price-to-sales ratio for Merck & Co., Inc. (symbol: MRK) is 4.62."
      ],
      "text/plain": [
       "<IPython.core.display.Markdown object>"
      ]
     },
     "metadata": {},
     "output_type": "display_data"
    }
   ],
   "source": [
    "tool = BB_agent_tool(\n",
    "    name=\"get_fundamental_ratios_json\",\n",
    "    description=\"Given a stock symbol, get fundamental valuation ratios for the company in JSON format.\",\n",
    "    openapi_path='/api/v1/equity/fundamental/ratios',\n",
    "    parameters={\n",
    "        \"symbol\": {\n",
    "            \"type\": \"string\",\n",
    "            \"description\": \"The stock symbol.\"\n",
    "        }\n",
    "        },\n",
    "    example_parameter_values=[{\n",
    "        \"symbol\": \"NVDA\",\n",
    "    }],\n",
    "    default_parameters={\n",
    "    },\n",
    "    singular=1\n",
    ")\n",
    "\n",
    "agent_query(client, f\"what was the most recent price to sales ratio for stock symbol {symbol}\", verbose=False)\n"
   ]
  },
  {
   "cell_type": "code",
   "execution_count": 48,
   "id": "1471ebdb-f3dd-4cfd-ab61-61c531c16624",
   "metadata": {},
   "outputs": [
    {
     "name": "stdout",
     "output_type": "stream",
     "text": [
      "get_equity_fundamental_multiples({'symbol': 'MRK'}) -> {\"symbol\": \"MRK\", \"revenue_per_share_ttm\": 24.25424397947098, \"net_income_per_share_ttm\": 0.91038294...\n"
     ]
    },
    {
     "data": {
      "text/markdown": [
       "The most recent revenue per share for Merck & Co., Inc. (ticker symbol: MRK) is \\\\$24.25 (TTM: Trailing Twelve Months)."
      ],
      "text/plain": [
       "<IPython.core.display.Markdown object>"
      ]
     },
     "metadata": {},
     "output_type": "display_data"
    }
   ],
   "source": [
    "tool = BB_agent_tool(\n",
    "    name=\"get_equity_fundamental_multiples\",\n",
    "    description=\"Given a stock symbol, get fundamental valuation multiples for the company in JSON format.\",\n",
    "    openapi_path='/api/v1/equity/fundamental/multiples',\n",
    "    parameters={\n",
    "        \"symbol\": {\n",
    "            \"type\": \"string\",\n",
    "            \"description\": \"The stock symbol.\"\n",
    "        }\n",
    "        },\n",
    "    default_parameters={\n",
    "    },\n",
    "    example_parameter_values=[{\n",
    "        \"symbol\": \"NVDA\",\n",
    "    }],\n",
    "    singular=1\n",
    ")\n",
    "\n",
    "agent_query(client, f\"what was the most recent revenue per share for stock symbol {symbol}\", verbose=False)\n"
   ]
  },
  {
   "cell_type": "code",
   "execution_count": 49,
   "id": "7cf79058-b258-420d-a72d-795c45c314b6",
   "metadata": {},
   "outputs": [],
   "source": [
    "# tool = BB_agent_tool(\n",
    "#     name=\"get_historical_eps\",\n",
    "#     description=\"Given a stock symbol, get historical earnings per share data for the company in JSON format.\",\n",
    "#     openapi_path='/api/v1/equity/fundamental/historical_eps',\n",
    "#     parameters={\n",
    "#         \"symbol\": {\n",
    "#             \"type\": \"string\",\n",
    "#             \"description\": \"The stock symbol.\"\n",
    "#         }\n",
    "#         },\n",
    "#     example_parameter_values=[{\n",
    "#         \"symbol\": \"NVDA\",\n",
    "#     }],\n",
    "# )\n",
    "\n",
    "#"
   ]
  },
  {
   "cell_type": "code",
   "execution_count": 50,
   "id": "8802008e-f0ac-4cf1-85a4-2373ccca5713",
   "metadata": {},
   "outputs": [],
   "source": [
    "# agent_query(client, f\"what was the EPS for {company} in the quarter ended 2022-09-30?\", verbose=False)\n"
   ]
  },
  {
   "cell_type": "code",
   "execution_count": 51,
   "id": "d94c70ca-2285-4676-8d91-f6fce3c3a491",
   "metadata": {},
   "outputs": [
    {
     "name": "stdout",
     "output_type": "stream",
     "text": [
      "get_equity_fundamental_dividend({'symbol': 'MRK'}) -> [{\"ex_dividend_date\": \"2024-03-14\", \"amount\": 0.77, \"label\": \"March 14, 24\", \"adj_dividend\": 0.77, \"...\n"
     ]
    },
    {
     "data": {
      "text/markdown": [
       "The latest dividend data for Merck & Co., Inc. (symbol: MRK) is as follows:\n",
       "\n",
       "- **Ex-Dividend Date:** March 14, 2024\n",
       "- **Dividend Amount:** \\\\$0.77\n",
       "- **Record Date:** March 15, 2024\n",
       "- **Payment Date:** April 5, 2024\n",
       "- **Declaration Date:** January 23, 2024\n",
       "\n",
       "If you need more information, feel free to ask!"
      ],
      "text/plain": [
       "<IPython.core.display.Markdown object>"
      ]
     },
     "metadata": {},
     "output_type": "display_data"
    }
   ],
   "source": [
    "tool = BB_agent_tool(\n",
    "    name=\"get_equity_fundamental_dividend\",\n",
    "    description=\"Given a stock symbol, get the latest dividend data for the company in JSON format.\",\n",
    "    openapi_path='/api/v1/equity/fundamental/dividends',\n",
    "    parameters={\n",
    "        \"symbol\": {\n",
    "            \"type\": \"string\",\n",
    "            \"description\": \"The stock symbol.\"\n",
    "        }\n",
    "        },\n",
    "    default_parameters={\n",
    "    },\n",
    "    example_parameter_values=[{\n",
    "        \"symbol\": \"NVDA\",\n",
    "    }],\n",
    ")\n",
    "\n",
    "agent_query(client, f\"what was the latest dividend data for stock symbol {symbol}?\", verbose=False)\n"
   ]
  },
  {
   "cell_type": "code",
   "execution_count": 52,
   "id": "d6ea54fe-b064-4db1-a776-2e585d434355",
   "metadata": {},
   "outputs": [
    {
     "name": "stdout",
     "output_type": "stream",
     "text": [
      "get_equity_search_symbol({'query': 'MRK', 'limit': 1}) -> [{\"symbol\": \"MRK\", \"name\": \"Merck & Co., Inc.\", \"cik\": \"310158\"}, {\"symbol\": \"NMRK\", \"name\": \"NEWMAR...\n",
      "get_equity_fundamental_dividend({'symbol': 'MRK'}) -> [{\"ex_dividend_date\": \"2024-03-14\", \"amount\": 0.77, \"label\": \"March 14, 24\", \"adj_dividend\": 0.77, \"...\n"
     ]
    },
    {
     "data": {
      "text/markdown": [
       "As of the end of 2023, Merck & Co., Inc. (symbol: MRK) had the following dividend data:\n",
       "\n",
       "- **Ex-Dividend Date:** December 14, 2023\n",
       "- **Dividend Amount:** \\\\$0.77 per share\n",
       "- **Record Date:** December 15, 2023\n",
       "- **Payment Date:** January 8, 2024\n",
       "- **Declaration Date:** November 28, 2023\n",
       "\n",
       "For reference, earlier in 2023, the dividends were as follows:\n",
       "- **Ex-Dividend Date:** September 14, 2023, Dividend Amount: \\\\$0.73\n",
       "- **Ex-Dividend Date:** June 14, 2023, Dividend Amount: \\\\$0.73\n",
       "- **Ex-Dividend Date:** March 14, 2023, Dividend Amount: \\\\$0.73"
      ],
      "text/plain": [
       "<IPython.core.display.Markdown object>"
      ]
     },
     "metadata": {},
     "output_type": "display_data"
    }
   ],
   "source": [
    "agent_query(client, f\"what was the dividend data as of the end of 2023 for stock symbol {symbol}?\", verbose=False)\n"
   ]
  },
  {
   "cell_type": "code",
   "execution_count": 53,
   "id": "c654a51c-29e0-46f9-8cb3-93654813deaa",
   "metadata": {},
   "outputs": [
    {
     "name": "stdout",
     "output_type": "stream",
     "text": [
      "get_equity_search_symbol({'query': 'MRK', 'limit': 1}) -> [{\"symbol\": \"MRK\", \"name\": \"Merck & Co., Inc.\", \"cik\": \"310158\"}, {\"symbol\": \"NMRK\", \"name\": \"NEWMAR...\n",
      "get_trailing_dividend_yield_json({'symbol': 'MRK'}) -> [{\"date\": \"2023-05-25\", \"trailing_dividend_yield\": 0.0252894034}, {\"date\": \"2023-05-26\", \"trailing_d...\n"
     ]
    },
    {
     "data": {
      "text/markdown": [
       "The trailing dividend yield for Merck & Co., Inc. (symbol: MRK) at the end of 2023 was approximately 2.71%."
      ],
      "text/plain": [
       "<IPython.core.display.Markdown object>"
      ]
     },
     "metadata": {},
     "output_type": "display_data"
    }
   ],
   "source": [
    "tool = BB_agent_tool(\n",
    "    name=\"get_trailing_dividend_yield_json\",\n",
    "    description=\"Given a stock symbol, get the 1 year trailing dividend yield for the company over time in JSON format.\",\n",
    "    openapi_path='/api/v1/equity/fundamental/trailing_dividend_yield',\n",
    "    parameters={\n",
    "        \"symbol\": {\n",
    "            \"type\": \"string\",\n",
    "            \"description\": \"The stock symbol.\"\n",
    "        }\n",
    "        },\n",
    "    default_parameters={\n",
    "    },\n",
    "    example_parameter_values=[{\n",
    "        \"symbol\": \"NVDA\",\n",
    "    }],\n",
    ")\n",
    "\n",
    "agent_query(client, f\"what was the dividend yield for stock symbol {symbol} as of the end of 2023?\", verbose=False)\n"
   ]
  },
  {
   "cell_type": "code",
   "execution_count": 54,
   "id": "95dc1d1e-6a25-4728-9251-ced4ee39825c",
   "metadata": {},
   "outputs": [
    {
     "name": "stdout",
     "output_type": "stream",
     "text": [
      "get_equity_search_symbol({'query': 'Merck', 'limit': 1}) -> [{\"symbol\": \"MRK\", \"name\": \"Merck & Co., Inc.\", \"cik\": \"310158\"}]\n",
      "get_price_performance_json({'symbol': 'MRK'}) -> [{\"symbol\": \"MRK\", \"one_day\": -0.012204999999999999, \"wtd\": null, \"one_week\": -0.010091000000000001,...\n"
     ]
    },
    {
     "data": {
      "text/markdown": [
       "The performance for Merck & Co., Inc. (symbol: MRK) over the past year is a gain of approximately 16.58%."
      ],
      "text/plain": [
       "<IPython.core.display.Markdown object>"
      ]
     },
     "metadata": {},
     "output_type": "display_data"
    }
   ],
   "source": [
    "tool = BB_agent_tool(\n",
    "    name=\"get_price_performance_json\",\n",
    "    description=\"Given a stock symbol, get price performance data for the stock for different time periods in JSON format.\",\n",
    "    openapi_path='/api/v1/equity/price/performance',\n",
    "    parameters={\n",
    "        \"symbol\": {\n",
    "            \"type\": \"string\",\n",
    "            \"description\": \"The stock symbol.\"\n",
    "        }\n",
    "        },\n",
    "    default_parameters={\n",
    "    },\n",
    "    example_parameter_values=[{\n",
    "        \"symbol\": \"NVDA\",\n",
    "    }],\n",
    ")\n",
    "\n",
    "agent_query(client, f\"what was the performance for {company} from 1 year ago?\", verbose=False)\n"
   ]
  },
  {
   "cell_type": "code",
   "execution_count": 55,
   "id": "3fdf5cd8-9a72-489e-8fbc-5bbf6e95ff19",
   "metadata": {},
   "outputs": [],
   "source": [
    "# this is unreliable, chatgpt can't always find the higest value in a large dict\n",
    "tool = BB_agent_tool(\n",
    "    name=\"get_etf_equity_exposure_json\",\n",
    "    description=\"Given a stock symbol, get the exposure of ETFs to the stock in JSON format.\",\n",
    "    openapi_path='/api/v1/etf/equity_exposure',\n",
    "    parameters={\n",
    "        \"symbol\": {\n",
    "            \"type\": \"string\",\n",
    "            \"description\": \"The stock symbol.\"\n",
    "        }\n",
    "        },\n",
    "    default_parameters={\n",
    "    },\n",
    "    example_parameter_values=[{\n",
    "        \"symbol\": \"NVDA\",\n",
    "    }],\n",
    ")\n"
   ]
  },
  {
   "cell_type": "code",
   "execution_count": 56,
   "id": "b7783f91-b77b-46e8-8f86-ba02715b7887",
   "metadata": {},
   "outputs": [
    {
     "data": {
      "text/html": [
       "<div>\n",
       "<style scoped>\n",
       "    .dataframe tbody tr th:only-of-type {\n",
       "        vertical-align: middle;\n",
       "    }\n",
       "\n",
       "    .dataframe tbody tr th {\n",
       "        vertical-align: top;\n",
       "    }\n",
       "\n",
       "    .dataframe thead th {\n",
       "        text-align: right;\n",
       "    }\n",
       "</style>\n",
       "<table border=\"1\" class=\"dataframe\">\n",
       "  <thead>\n",
       "    <tr style=\"text-align: right;\">\n",
       "      <th></th>\n",
       "      <th>equity_symbol</th>\n",
       "      <th>etf_symbol</th>\n",
       "      <th>shares</th>\n",
       "      <th>weight</th>\n",
       "      <th>market_value</th>\n",
       "    </tr>\n",
       "  </thead>\n",
       "  <tbody>\n",
       "    <tr>\n",
       "      <th>437</th>\n",
       "      <td>MRK</td>\n",
       "      <td>FTXH</td>\n",
       "      <td>11684.0</td>\n",
       "      <td>0.075700</td>\n",
       "      <td>1.512961e+06</td>\n",
       "    </tr>\n",
       "    <tr>\n",
       "      <th>84</th>\n",
       "      <td>MRK</td>\n",
       "      <td>IUHC.L</td>\n",
       "      <td>1132285.0</td>\n",
       "      <td>0.061898</td>\n",
       "      <td>1.484312e+08</td>\n",
       "    </tr>\n",
       "    <tr>\n",
       "      <th>13</th>\n",
       "      <td>MRK</td>\n",
       "      <td>XLV</td>\n",
       "      <td>18406426.0</td>\n",
       "      <td>0.061826</td>\n",
       "      <td>2.383448e+09</td>\n",
       "    </tr>\n",
       "    <tr>\n",
       "      <th>81</th>\n",
       "      <td>MRK</td>\n",
       "      <td>QDVG.DE</td>\n",
       "      <td>1134961.0</td>\n",
       "      <td>0.061364</td>\n",
       "      <td>1.488955e+08</td>\n",
       "    </tr>\n",
       "    <tr>\n",
       "      <th>83</th>\n",
       "      <td>MRK</td>\n",
       "      <td>IUHE.AS</td>\n",
       "      <td>0.0</td>\n",
       "      <td>0.061238</td>\n",
       "      <td>1.484426e+08</td>\n",
       "    </tr>\n",
       "    <tr>\n",
       "      <th>...</th>\n",
       "      <td>...</td>\n",
       "      <td>...</td>\n",
       "      <td>...</td>\n",
       "      <td>...</td>\n",
       "      <td>...</td>\n",
       "    </tr>\n",
       "    <tr>\n",
       "      <th>665</th>\n",
       "      <td>MRK</td>\n",
       "      <td>GPAL</td>\n",
       "      <td>640.0</td>\n",
       "      <td>NaN</td>\n",
       "      <td>6.631040e+04</td>\n",
       "    </tr>\n",
       "    <tr>\n",
       "      <th>677</th>\n",
       "      <td>MRK</td>\n",
       "      <td>GDEF</td>\n",
       "      <td>397.0</td>\n",
       "      <td>NaN</td>\n",
       "      <td>5.204273e+04</td>\n",
       "    </tr>\n",
       "    <tr>\n",
       "      <th>685</th>\n",
       "      <td>MRK</td>\n",
       "      <td>EUNU.DE</td>\n",
       "      <td>50000.0</td>\n",
       "      <td>NaN</td>\n",
       "      <td>3.868500e+04</td>\n",
       "    </tr>\n",
       "    <tr>\n",
       "      <th>698</th>\n",
       "      <td>MRK</td>\n",
       "      <td>GSEU</td>\n",
       "      <td>121.0</td>\n",
       "      <td>NaN</td>\n",
       "      <td>2.214566e+04</td>\n",
       "    </tr>\n",
       "    <tr>\n",
       "      <th>710</th>\n",
       "      <td>MRK</td>\n",
       "      <td>BBCB</td>\n",
       "      <td>2000.0</td>\n",
       "      <td>NaN</td>\n",
       "      <td>1.856990e+03</td>\n",
       "    </tr>\n",
       "  </tbody>\n",
       "</table>\n",
       "<p>770 rows × 5 columns</p>\n",
       "</div>"
      ],
      "text/plain": [
       "    equity_symbol etf_symbol      shares    weight  market_value\n",
       "437           MRK       FTXH     11684.0  0.075700  1.512961e+06\n",
       "84            MRK     IUHC.L   1132285.0  0.061898  1.484312e+08\n",
       "13            MRK        XLV  18406426.0  0.061826  2.383448e+09\n",
       "81            MRK    QDVG.DE   1134961.0  0.061364  1.488955e+08\n",
       "83            MRK    IUHE.AS         0.0  0.061238  1.484426e+08\n",
       "..            ...        ...         ...       ...           ...\n",
       "665           MRK       GPAL       640.0       NaN  6.631040e+04\n",
       "677           MRK       GDEF       397.0       NaN  5.204273e+04\n",
       "685           MRK    EUNU.DE     50000.0       NaN  3.868500e+04\n",
       "698           MRK       GSEU       121.0       NaN  2.214566e+04\n",
       "710           MRK       BBCB      2000.0       NaN  1.856990e+03\n",
       "\n",
       "[770 rows x 5 columns]"
      ]
     },
     "execution_count": 56,
     "metadata": {},
     "output_type": "execute_result"
    }
   ],
   "source": [
    "pd.DataFrame(json.loads(tool(symbol='MRK'))).sort_values('weight', ascending=False)"
   ]
  },
  {
   "cell_type": "code",
   "execution_count": 57,
   "id": "cca28804-8aa2-4829-909f-6fc0592ce44c",
   "metadata": {},
   "outputs": [
    {
     "name": "stdout",
     "output_type": "stream",
     "text": [
      "get_equity_search_symbol({'query': 'Merck', 'limit': 1}) -> [{\"symbol\": \"MRK\", \"name\": \"Merck & Co., Inc.\", \"cik\": \"310158\"}]\n",
      "get_etf_equity_exposure_json({'symbol': 'MRK'}) -> [{\"equity_symbol\": \"MRK\", \"etf_symbol\": \"VTSAX\", \"shares\": 79744771.0, \"weight\": 0.0067, \"market_val...\n"
     ]
    },
    {
     "data": {
      "text/markdown": [
       "The ETF with the highest weight in Merck (symbol: MRK) is the **Health Care Select Sector SPDR Fund (symbol: XLV)**, with a weight of **0.06182614**."
      ],
      "text/plain": [
       "<IPython.core.display.Markdown object>"
      ]
     },
     "metadata": {},
     "output_type": "display_data"
    }
   ],
   "source": [
    "agent_query(client, f\"which ETF has the highest weight in {company} ?\", verbose=False)\n"
   ]
  },
  {
   "cell_type": "code",
   "execution_count": 58,
   "id": "3fe6e7e7-841a-40b1-9492-cdb6f34c0e5c",
   "metadata": {},
   "outputs": [],
   "source": [
    "# make a custom tool\n",
    "# really might as well write a function to return top 10 etfs with highest weight in company\n",
    "\n",
    "# def get_largest_from_json(json_str, field_name):\n",
    "#     d = json.loads(json_str)\n",
    "#     df = pd.DataFrame(d).sort_values(field_name, ascending=False)\n",
    "#     return [{'largest': df.iloc[0].to_json()}]\n",
    "\n",
    "\n",
    "# tool = BB_agent_tool(\n",
    "#     name=\"get_largest_from_json\",\n",
    "#     description=\"Given a json string json_str representing a list of objects, and a field name field_name, return the object with the largest value for field_name.\",\n",
    "#     openapi_path=None,\n",
    "#     callable=get_largest_from_json,\n",
    "#     parameters={\n",
    "#         \"json_str\": {\n",
    "#             \"type\": \"string\",\n",
    "#             \"description\": \"a JSON string representing a list of objects\"\n",
    "#             },\n",
    "#         \"field_name\": {\n",
    "#             \"type\": \"string\",\n",
    "#             \"description\": \"the field to search for the largest value\"\n",
    "#             },\n",
    "#         },\n",
    "#     default_parameters={\n",
    "#     },\n",
    "#     example_parameter_values=[{\n",
    "#         \"json_str\": '[{\"name\": \"low\", \"value\": 0}, {\"name\": \"high\", \"value\": 1}]',\n",
    "#         \"field_name\": 'value'\n",
    "#     }],\n",
    "# )\n",
    "\n",
    "# tool_response = tool(json_str='[{\"name\": \"low\", \"value\": 0}, {\"name\": \"high\", \"value\": 1}]',\n",
    "#                     field_name='value')\n",
    "# tool_response\n",
    "# len(json.loads(tool_response)[0]['item1'])\n"
   ]
  },
  {
   "cell_type": "code",
   "execution_count": 59,
   "id": "97cb14b9-9785-48ff-bdb4-15d3620ffeec",
   "metadata": {},
   "outputs": [
    {
     "data": {
      "text/plain": [
       "[('get_10k_item1_from_symbol',\n",
       "  \"Given a stock symbol, gets item 1 of the company's latest 10-K annual report filing.\"),\n",
       " ('get_equity_search_symbol',\n",
       "  'Given a search string, get the stock symbol of the top company whose name best matches the search string.'),\n",
       " ('get_equity_price_quote',\n",
       "  'Given a stock symbol, get latest market data including last price in JSON format.'),\n",
       " ('get_company_profile_json',\n",
       "  'Given a stock symbol, get general background data about the company such as company name, industry, and sector data in JSON format'),\n",
       " ('get_equity_fundamental_historical_splits',\n",
       "  \"Given a stock symbol, get the company's historical stock splits in JSON format.\"),\n",
       " ('get_balance_sheet_json',\n",
       "  'Given a stock symbol, get the latest balance sheet data with assets and liabilities for the company in JSON format.'),\n",
       " ('get_cash_flow_json',\n",
       "  'Given a stock symbol, get the latest cash flow statement data for the company in JSON format.'),\n",
       " ('get_income_statement_json',\n",
       "  'Given a stock symbol, get the latest income statement data for the company in JSON format'),\n",
       " ('get_fundamental_metrics_json',\n",
       "  'Given a stock symbol, get fundamental metrics for the company in JSON format.'),\n",
       " ('get_fundamental_ratios_json',\n",
       "  'Given a stock symbol, get fundamental valuation ratios for the company in JSON format.'),\n",
       " ('get_equity_fundamental_multiples',\n",
       "  'Given a stock symbol, get fundamental valuation multiples for the company in JSON format.'),\n",
       " ('get_equity_fundamental_dividend',\n",
       "  'Given a stock symbol, get the latest dividend data for the company in JSON format.'),\n",
       " ('get_trailing_dividend_yield_json',\n",
       "  'Given a stock symbol, get the 1 year trailing dividend yield for the company over time in JSON format.'),\n",
       " ('get_price_performance_json',\n",
       "  'Given a stock symbol, get price performance data for the stock for different time periods in JSON format.'),\n",
       " ('get_etf_equity_exposure_json',\n",
       "  'Given a stock symbol, get the exposure of ETFs to the stock in JSON format.')]"
      ]
     },
     "execution_count": 59,
     "metadata": {},
     "output_type": "execute_result"
    }
   ],
   "source": [
    "[(k, t.description) for k, t in BB_agent_tool.agent_registry.items()]"
   ]
  },
  {
   "cell_type": "code",
   "execution_count": 60,
   "id": "c7a931fb-a8c9-4c55-94eb-256b853ddf07",
   "metadata": {},
   "outputs": [],
   "source": [
    "# for k, t in BB_agent_tool.agent_registry.items():\n",
    "#     print(t.example_code)"
   ]
  },
  {
   "cell_type": "code",
   "execution_count": 61,
   "id": "265ca60e-17ab-4903-bb9f-0b4d2eacf5c9",
   "metadata": {},
   "outputs": [
    {
     "data": {
      "text/plain": [
       "23792"
      ]
     },
     "execution_count": 61,
     "metadata": {},
     "output_type": "execute_result"
    }
   ],
   "source": [
    "len(\" \".join([(t.example_code) for k, t in BB_agent_tool.agent_registry.items()]))"
   ]
  },
  {
   "cell_type": "code",
   "execution_count": null,
   "id": "0606b26a-3435-488d-a519-d8754a09d910",
   "metadata": {},
   "outputs": [],
   "source": []
  }
 ],
 "metadata": {
  "kernelspec": {
   "display_name": "bb_agent",
   "language": "python",
   "name": "bb_agent"
  },
  "language_info": {
   "codemirror_mode": {
    "name": "ipython",
    "version": 3
   },
   "file_extension": ".py",
   "mimetype": "text/x-python",
   "name": "python",
   "nbconvert_exporter": "python",
   "pygments_lexer": "ipython3",
   "version": "3.11.9"
  }
 },
 "nbformat": 4,
 "nbformat_minor": 5
}
