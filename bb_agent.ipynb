{
 "cells": [
  {
   "cell_type": "markdown",
   "id": "0003fc70-614a-45fe-824d-d95957d13b19",
   "metadata": {},
   "source": [
    "# Stock Market Question Answering Agent\n",
    "\n",
    "- answer questions about individual stocks using (mostly) OpenBB functions\n",
    "- uses the OpenAPI tools functionality\n",
    "- define a set of functions\n",
    "- when prompting, give OpenAI the set of functions and their descriptions in a specified format\n",
    "- if OpenAI needs to run a function to respond to the prompt, it will provide the function signature and ask you to provide the return values before continuing\n",
    "  "
   ]
  },
  {
   "cell_type": "code",
   "execution_count": 1,
   "id": "20d61f1a-b6e0-4c72-9eee-5c3c84db5718",
   "metadata": {},
   "outputs": [],
   "source": [
    "import os\n",
    "import sys\n",
    "import dotenv\n",
    "import warnings\n",
    "from datetime import datetime, timedelta\n",
    "import re\n",
    "\n",
    "import pandas as pd\n",
    "\n",
    "import IPython\n",
    "from IPython.display import HTML, Image, Markdown, display\n",
    "\n",
    "import selenium\n",
    "from selenium import webdriver\n",
    "from selenium.webdriver.common.by import By\n",
    "# use firefox because it updates less often, can disable updates\n",
    "# recommend importing profile from Chrome for cookies, passwords\n",
    "# looks less like a bot with more user cruft in the profile\n",
    "from selenium.webdriver.firefox.options import Options\n",
    "from selenium.webdriver.firefox.service import Service\n",
    "\n",
    "import base64\n",
    "import requests\n",
    "import json\n",
    "\n",
    "import openbb\n",
    "from openbb import obb\n",
    "from openbb_core.app.model.obbject import OBBject\n",
    "\n",
    "import openai\n",
    "from openai import OpenAI\n",
    "import tiktoken\n",
    "\n",
    "import langchain\n",
    "from langchain.tools import WikipediaQueryRun\n",
    "from langchain_community.utilities import WikipediaAPIWrapper\n",
    "\n",
    "import wikipedia\n",
    "\n",
    "# paid API for edgar filings\n",
    "import sec_api\n",
    "from sec_api import QueryApi, ExtractorApi\n",
    "\n",
    "# free API for edgar filing\n",
    "from sec_downloader import Downloader\n",
    "import sec_parser as sp\n",
    "\n",
    "import pdb\n",
    "\n",
    "dotenv.load_dotenv()\n",
    "\n",
    "# turn off excessive warnings\n",
    "warnings.filterwarnings('ignore')\n"
   ]
  },
  {
   "cell_type": "code",
   "execution_count": 2,
   "id": "c31a6c57-1332-44df-bb86-2784cf909419",
   "metadata": {},
   "outputs": [
    {
     "name": "stdout",
     "output_type": "stream",
     "text": [
      "pandas         2.2.2\n",
      "obb            4.1.7\n",
      "selenium       4.20.0\n",
      "openai         1.28.0\n",
      "langchain      0.1.20\n",
      "wikipedia      (1, 4, 0)\n"
     ]
    }
   ],
   "source": [
    "print(f'pandas         {pd.__version__}')\n",
    "print(f'obb            {obb.system.version}')\n",
    "print(f'selenium       {selenium.__version__}')\n",
    "print(f'openai         {openai.__version__}')\n",
    "print(f'langchain      {langchain.__version__}')\n",
    "print(f'wikipedia      {wikipedia.__version__}')\n"
   ]
  },
  {
   "cell_type": "markdown",
   "id": "7ad6849a-72da-4d7d-8ae6-5b9bae8c80e2",
   "metadata": {},
   "source": [
    "# Connect to OpenBB"
   ]
  },
  {
   "cell_type": "code",
   "execution_count": 3,
   "id": "aeda3328-5535-4a8c-ba87-40615511f4a3",
   "metadata": {},
   "outputs": [
    {
     "data": {
      "text/plain": [
       "OpenBB Platform v4.1.7\n",
       "\n",
       "Utilities:\n",
       "    /account\n",
       "    /user\n",
       "    /system\n",
       "    /coverage\n",
       "\n",
       "Routers:\n",
       "    /commodity\n",
       "    /crypto\n",
       "    /currency\n",
       "    /derivatives\n",
       "    /econometrics\n",
       "    /economy\n",
       "    /equity\n",
       "    /etf\n",
       "    /fixedincome\n",
       "    /index\n",
       "    /news\n",
       "    /quantitative\n",
       "    /regulators\n",
       "    /technical\n",
       "\n",
       "Extensions:\n",
       "    - commodity@1.0.4\n",
       "    - crypto@1.1.5\n",
       "    - currency@1.1.5\n",
       "    - derivatives@1.1.5\n",
       "    - econometrics@1.1.5\n",
       "    - economy@1.1.5\n",
       "    - equity@1.1.5\n",
       "    - etf@1.1.5\n",
       "    - fixedincome@1.1.5\n",
       "    - index@1.1.5\n",
       "    - news@1.1.5\n",
       "    - quantitative@1.1.5\n",
       "    - regulators@1.1.5\n",
       "    - technical@1.1.6\n",
       "\n",
       "    - alpha_vantage@1.1.5\n",
       "    - benzinga@1.1.5\n",
       "    - biztoc@1.1.5\n",
       "    - cboe@1.1.5\n",
       "    - ecb@1.1.5\n",
       "    - federal_reserve@1.1.5\n",
       "    - finra@1.1.5\n",
       "    - finviz@1.0.4\n",
       "    - fmp@1.1.5\n",
       "    - fred@1.1.5\n",
       "    - government_us@1.1.5\n",
       "    - intrinio@1.1.5\n",
       "    - nasdaq@1.1.6\n",
       "    - oecd@1.1.5\n",
       "    - polygon@1.1.5\n",
       "    - sec@1.1.5\n",
       "    - seeking_alpha@1.1.5\n",
       "    - stockgrid@1.1.5\n",
       "    - tiingo@1.1.5\n",
       "    - tmx@1.0.2\n",
       "    - tradier@1.0.2\n",
       "    - tradingeconomics@1.1.5\n",
       "    - wsj@1.1.5\n",
       "    - yfinance@1.1.5    "
      ]
     },
     "execution_count": 3,
     "metadata": {},
     "output_type": "execute_result"
    }
   ],
   "source": [
    "obb"
   ]
  },
  {
   "cell_type": "code",
   "execution_count": 4,
   "id": "f1d91d67-55a5-48fd-91ed-e4cdc5f03ec5",
   "metadata": {},
   "outputs": [],
   "source": [
    "# login with email and password\n",
    "obb.account.login(email=os.environ['OPENBB_USER'], password=os.environ['OPENBB_PW'], remember_me=True)"
   ]
  },
  {
   "cell_type": "code",
   "execution_count": 5,
   "id": "81222526-77e2-4996-a7a1-b79dca56586b",
   "metadata": {},
   "outputs": [
    {
     "data": {
      "text/plain": [
       "UserSettings\n",
       "\n",
       "id: 06642dc9-62a8-7911-8000-ca4b60b3cffc\n",
       "profile: {'hub_session': {'username': 'drucev', 'email': 'drucev@hotmail.com', 'primary_usage': 'personal', 'user_uuid': 'c866b4d2-c09b-4b13-abb7-a93f1ac3c2b7', 'token_type': 'bearer', 'access_token': SecretStr('**********')}}\n",
       "credentials: {'alpha_vantage_api_key': SecretStr('**********'), 'benzinga_api_key': None, 'biztoc_api_key': SecretStr('**********'), 'nasdaq_api_key': None, 'tradingeconomics_api_key': None, 'tradier_account_type': None, 'fmp_api_key': SecretStr('**********'), 'tradier_api_key': None, 'fred_api_key': SecretStr('**********'), 'intrinio_api_key': None, 'polygon_api_key': SecretStr('**********'), 'tiingo_token': SecretStr('**********')}\n",
       "preferences: {'cache_directory': '/Users/drucev/OpenBBUserData/cache', 'chart_style': 'dark', 'data_directory': '/Users/drucev/OpenBBUserData', 'export_directory': '/Users/drucev/OpenBBUserData/exports', 'metadata': True, 'output_type': 'OBBject', 'plot_enable_pywry': True, 'plot_open_export': False, 'plot_pywry_height': 762, 'plot_pywry_width': 1400, 'request_timeout': 15, 'show_warnings': True, 'table_style': 'dark', 'user_styles_directory': '/Users/drucev/OpenBBUserData/styles/user'}\n",
       "defaults: {'routes': {}}"
      ]
     },
     "execution_count": 5,
     "metadata": {},
     "output_type": "execute_result"
    }
   ],
   "source": [
    "obb.user"
   ]
  },
  {
   "cell_type": "code",
   "execution_count": 6,
   "id": "bf8476a6-1106-4e5b-9efa-229547f11097",
   "metadata": {},
   "outputs": [
    {
     "data": {
      "text/plain": [
       "/account\n",
       "    login\n",
       "    logout\n",
       "    save\n",
       "    refresh\n",
       "    "
      ]
     },
     "execution_count": 6,
     "metadata": {},
     "output_type": "execute_result"
    }
   ],
   "source": [
    "obb.account"
   ]
  },
  {
   "cell_type": "code",
   "execution_count": 7,
   "id": "edfe7554-a603-4cd8-bea0-1a79882cfbd0",
   "metadata": {},
   "outputs": [],
   "source": [
    "# Change a credential - only need once, gets stored in openbb cloud\n",
    "# obb.user.credentials.polygon_api_key = os.environ['POLYGON_API_KEY']\n",
    "# obb.user.credentials.alpha_vantage_api_key = os.environ['ALPHAVANTAGE_API_KEY']\n",
    "# obb.user.credentials.fred_api_key = os.environ['FRED_API_KEY']\n",
    "# obb.user.credentials.tiingo_token = os.environ['TIINGO_API_KEY']\n",
    "# obb.user.credentials.fmp_api_key = os.environ['FMP_API_KEY']\n",
    "# obb.user.credentials.biztoc_api_key = os.environ['BIZTOC_API_KEY']\n",
    "\n",
    "# Save account changes to the Hub\n",
    "# obb.account.save()\n",
    "\n",
    "# Refresh account with latest changes since login\n",
    "# obb.account.refresh()\n",
    "\n",
    "# Logout\n",
    "# obb.account.logout()"
   ]
  },
  {
   "cell_type": "code",
   "execution_count": 8,
   "id": "b239e060-fe40-418b-8838-7695c56a9829",
   "metadata": {},
   "outputs": [
    {
     "data": {
      "text/plain": [
       "/equity\n",
       "    /calendar\n",
       "    /compare\n",
       "    /darkpool\n",
       "    /discovery\n",
       "    /estimates\n",
       "    /fundamental\n",
       "    market_snapshots\n",
       "    /ownership\n",
       "    /price\n",
       "    profile\n",
       "    screener\n",
       "    search\n",
       "    /shorts\n",
       "    "
      ]
     },
     "execution_count": 8,
     "metadata": {},
     "output_type": "execute_result"
    }
   ],
   "source": [
    "obb.equity"
   ]
  },
  {
   "cell_type": "code",
   "execution_count": 9,
   "id": "920317cd-0446-4c79-963b-c999083e5111",
   "metadata": {},
   "outputs": [
    {
     "data": {
      "text/html": [
       "<div>\n",
       "<style scoped>\n",
       "    .dataframe tbody tr th:only-of-type {\n",
       "        vertical-align: middle;\n",
       "    }\n",
       "\n",
       "    .dataframe tbody tr th {\n",
       "        vertical-align: top;\n",
       "    }\n",
       "\n",
       "    .dataframe thead th {\n",
       "        text-align: right;\n",
       "    }\n",
       "</style>\n",
       "<table border=\"1\" class=\"dataframe\">\n",
       "  <thead>\n",
       "    <tr style=\"text-align: right;\">\n",
       "      <th></th>\n",
       "      <th>symbol</th>\n",
       "      <th>name</th>\n",
       "      <th>nasdaq_traded</th>\n",
       "      <th>exchange</th>\n",
       "      <th>etf</th>\n",
       "      <th>round_lot_size</th>\n",
       "      <th>test_issue</th>\n",
       "      <th>cqs_symbol</th>\n",
       "      <th>nasdaq_symbol</th>\n",
       "      <th>next_shares</th>\n",
       "    </tr>\n",
       "  </thead>\n",
       "  <tbody>\n",
       "    <tr>\n",
       "      <th>0</th>\n",
       "      <td>MRK</td>\n",
       "      <td>Merck &amp; Company, Inc. Common Stock (new)</td>\n",
       "      <td>Y</td>\n",
       "      <td>N</td>\n",
       "      <td>N</td>\n",
       "      <td>100.0</td>\n",
       "      <td>N</td>\n",
       "      <td>MRK</td>\n",
       "      <td>MRK</td>\n",
       "      <td>N</td>\n",
       "    </tr>\n",
       "  </tbody>\n",
       "</table>\n",
       "</div>"
      ],
      "text/plain": [
       "  symbol                                      name nasdaq_traded exchange etf  \\\n",
       "0    MRK  Merck & Company, Inc. Common Stock (new)             Y        N   N   \n",
       "\n",
       "   round_lot_size test_issue cqs_symbol nasdaq_symbol next_shares  \n",
       "0           100.0          N        MRK           MRK           N  "
      ]
     },
     "execution_count": 9,
     "metadata": {},
     "output_type": "execute_result"
    }
   ],
   "source": [
    "obb.equity.search(\"Merck\", provider=\"nasdaq\").to_df().head(3)\n"
   ]
  },
  {
   "cell_type": "code",
   "execution_count": 10,
   "id": "9f5d7165-664e-4bdd-81e0-f06463c6aaab",
   "metadata": {},
   "outputs": [],
   "source": [
    "symbol = \"MRK\"\n",
    "company = \"Merck\""
   ]
  },
  {
   "cell_type": "code",
   "execution_count": 11,
   "id": "a8122ebf-b557-485f-90b0-ff23e0783a6e",
   "metadata": {},
   "outputs": [
    {
     "data": {
      "text/plain": [
       "OBBject\n",
       "\n",
       "id: 06642dc9-672d-7eb9-8000-acff385ca6cb\n",
       "results: [{'symbol': 'MRK', 'one_day': -0.0059, 'wtd': None, 'one_week': 0.01350000...\n",
       "provider: finviz\n",
       "warnings: None\n",
       "chart: None\n",
       "extra: {'metadata': {'arguments': {'provider_choices': {'provider': 'finviz'}, 'sta..."
      ]
     },
     "execution_count": 11,
     "metadata": {},
     "output_type": "execute_result"
    }
   ],
   "source": [
    "obj = obb.equity.price.performance(symbol)\n",
    "obj\n"
   ]
  },
  {
   "cell_type": "code",
   "execution_count": 12,
   "id": "b6d0e188-a4fc-4924-95ad-b1c980b6eaf8",
   "metadata": {},
   "outputs": [
    {
     "data": {
      "text/plain": [
       "[FinvizPricePerformanceData(symbol=MRK, one_day=-0.0059, wtd=None, one_week=0.013500000000000002, mtd=None, one_month=0.0282, qtd=None, three_month=0.0315, six_month=0.26280000000000003, ytd=0.1859, one_year=0.0999, two_year=None, three_year=None, four_year=None, five_year=None, ten_year=None, max=None, volatility_week=0.0151, volatility_month=0.0147, price=129.29, volume=7053092.0, average_volume=8170000.0, relative_volume=0.86, analyst_recommendation=None, analyst_score=1.48)]"
      ]
     },
     "execution_count": 12,
     "metadata": {},
     "output_type": "execute_result"
    }
   ],
   "source": [
    "obj.results\n"
   ]
  },
  {
   "cell_type": "code",
   "execution_count": 13,
   "id": "90820eee-5f18-4b97-b133-28343c3b76f3",
   "metadata": {},
   "outputs": [
    {
     "data": {
      "text/plain": [
       "{'id': '06642dc9-672d-7eb9-8000-acff385ca6cb',\n",
       " 'results': [{'symbol': 'MRK',\n",
       "   'one_day': -0.0059,\n",
       "   'wtd': None,\n",
       "   'one_week': 0.013500000000000002,\n",
       "   'mtd': None,\n",
       "   'one_month': 0.0282,\n",
       "   'qtd': None,\n",
       "   'three_month': 0.0315,\n",
       "   'six_month': 0.26280000000000003,\n",
       "   'ytd': 0.1859,\n",
       "   'one_year': 0.0999,\n",
       "   'two_year': None,\n",
       "   'three_year': None,\n",
       "   'four_year': None,\n",
       "   'five_year': None,\n",
       "   'ten_year': None,\n",
       "   'max': None,\n",
       "   'volatility_week': 0.0151,\n",
       "   'volatility_month': 0.0147,\n",
       "   'price': 129.29,\n",
       "   'volume': 7053092.0,\n",
       "   'average_volume': 8170000.0,\n",
       "   'relative_volume': 0.86,\n",
       "   'analyst_recommendation': None,\n",
       "   'analyst_score': 1.48}],\n",
       " 'provider': 'finviz',\n",
       " 'warnings': None,\n",
       " 'chart': None,\n",
       " 'extra': {'metadata': {'arguments': {'provider_choices': {'provider': 'finviz'},\n",
       "    'standard_params': {'symbol': 'MRK'},\n",
       "    'extra_params': {}},\n",
       "   'duration': 167430958,\n",
       "   'route': '/equity/price/performance',\n",
       "   'timestamp': datetime.datetime(2024, 5, 13, 23, 37, 58, 282450)}}}"
      ]
     },
     "execution_count": 13,
     "metadata": {},
     "output_type": "execute_result"
    }
   ],
   "source": [
    "obj.dict()\n"
   ]
  },
  {
   "cell_type": "code",
   "execution_count": 14,
   "id": "f7052541-943b-4fd6-933a-eb8e1e7084af",
   "metadata": {},
   "outputs": [
    {
     "data": {
      "text/plain": [
       "{'results': [{'symbol': 'MRK',\n",
       "   'asset_type': 'EQUITY',\n",
       "   'name': 'Merck & Co., Inc.',\n",
       "   'exchange': 'NYQ',\n",
       "   'bid': 128.51,\n",
       "   'bid_size': 800,\n",
       "   'ask': 129.25,\n",
       "   'ask_size': 800,\n",
       "   'last_price': 129.29,\n",
       "   'open': 129.51,\n",
       "   'high': 129.71,\n",
       "   'low': 128.02,\n",
       "   'volume': 7053004,\n",
       "   'prev_close': 130.06,\n",
       "   'year_high': 133.1,\n",
       "   'year_low': 99.14,\n",
       "   'ma_50d': 126.5478,\n",
       "   'ma_200d': 114.32535,\n",
       "   'volume_average': 8238929.0,\n",
       "   'volume_average_10d': 6842750.0,\n",
       "   'currency': 'USD'}],\n",
       " 'provider': 'yfinance',\n",
       " 'warnings': None,\n",
       " 'chart': None,\n",
       " 'extra': {'metadata': {'arguments': {'provider_choices': {'provider': 'yfinance'},\n",
       "    'standard_params': {'symbol': 'MRK'},\n",
       "    'extra_params': {'use_cache': True, 'source': 'iex'}},\n",
       "   'duration': 182428541,\n",
       "   'route': '/equity/price/quote',\n",
       "   'timestamp': '2024-05-13T23:37:58.491754'}}}"
      ]
     },
     "execution_count": 14,
     "metadata": {},
     "output_type": "execute_result"
    }
   ],
   "source": [
    "# use REST API on server running locally\n",
    "# uvicorn openbb_core.api.rest_api:app --host 0.0.0.0 --port 8000 --reload\n",
    "# REST API documentation - http://127.0.0.1:8000/docs\n",
    "# openapi.json : http://127.0.0.1:8000/openapi.json\n",
    "\n",
    "# not turning on authentication\n",
    "# msg = \"some_user:some_pass\"\n",
    "# msg_bytes = msg.encode('ascii')\n",
    "# base64_bytes = base64.b64encode(msg_bytes)\n",
    "# base64_msg = base64_bytes.decode('ascii')\n",
    "\n",
    "url = f\"http://127.0.0.1:8000/api/v1/equity/price/quote?provider=yfinance&symbol={symbol}\"\n",
    "# headers = {\"accept\": \"application/json\", \"Authorization\": f\"Basic {base64_msg}\"}\n",
    "headers = {\"accept\": \"application/json\"}\n",
    "\n",
    "response = requests.get(url=url, headers=headers)\n",
    "\n",
    "response.json()\n"
   ]
  },
  {
   "cell_type": "code",
   "execution_count": 15,
   "id": "a2f4d73b-c652-4995-8f69-0e1541f9a8ac",
   "metadata": {},
   "outputs": [
    {
     "data": {
      "text/html": [
       "<div>\n",
       "<style scoped>\n",
       "    .dataframe tbody tr th:only-of-type {\n",
       "        vertical-align: middle;\n",
       "    }\n",
       "\n",
       "    .dataframe tbody tr th {\n",
       "        vertical-align: top;\n",
       "    }\n",
       "\n",
       "    .dataframe thead th {\n",
       "        text-align: right;\n",
       "    }\n",
       "</style>\n",
       "<table border=\"1\" class=\"dataframe\">\n",
       "  <thead>\n",
       "    <tr style=\"text-align: right;\">\n",
       "      <th></th>\n",
       "      <th>open</th>\n",
       "      <th>high</th>\n",
       "      <th>low</th>\n",
       "      <th>close</th>\n",
       "      <th>volume</th>\n",
       "      <th>vwap</th>\n",
       "      <th>transactions</th>\n",
       "    </tr>\n",
       "    <tr>\n",
       "      <th>date</th>\n",
       "      <th></th>\n",
       "      <th></th>\n",
       "      <th></th>\n",
       "      <th></th>\n",
       "      <th></th>\n",
       "      <th></th>\n",
       "      <th></th>\n",
       "    </tr>\n",
       "  </thead>\n",
       "  <tbody>\n",
       "    <tr>\n",
       "      <th>2023-05-15</th>\n",
       "      <td>117.14</td>\n",
       "      <td>117.740</td>\n",
       "      <td>115.49</td>\n",
       "      <td>116.37</td>\n",
       "      <td>5697236.0</td>\n",
       "      <td>116.3517</td>\n",
       "      <td>70438</td>\n",
       "    </tr>\n",
       "    <tr>\n",
       "      <th>2023-05-16</th>\n",
       "      <td>115.88</td>\n",
       "      <td>116.760</td>\n",
       "      <td>115.29</td>\n",
       "      <td>116.08</td>\n",
       "      <td>4278281.0</td>\n",
       "      <td>116.2071</td>\n",
       "      <td>60730</td>\n",
       "    </tr>\n",
       "    <tr>\n",
       "      <th>2023-05-17</th>\n",
       "      <td>116.37</td>\n",
       "      <td>116.655</td>\n",
       "      <td>113.48</td>\n",
       "      <td>114.76</td>\n",
       "      <td>7210383.0</td>\n",
       "      <td>114.5498</td>\n",
       "      <td>78904</td>\n",
       "    </tr>\n",
       "    <tr>\n",
       "      <th>2023-05-18</th>\n",
       "      <td>114.14</td>\n",
       "      <td>115.070</td>\n",
       "      <td>113.33</td>\n",
       "      <td>114.00</td>\n",
       "      <td>6437144.0</td>\n",
       "      <td>114.0864</td>\n",
       "      <td>75952</td>\n",
       "    </tr>\n",
       "    <tr>\n",
       "      <th>2023-05-19</th>\n",
       "      <td>114.33</td>\n",
       "      <td>116.240</td>\n",
       "      <td>114.10</td>\n",
       "      <td>115.49</td>\n",
       "      <td>7647080.0</td>\n",
       "      <td>115.4905</td>\n",
       "      <td>63052</td>\n",
       "    </tr>\n",
       "    <tr>\n",
       "      <th>...</th>\n",
       "      <td>...</td>\n",
       "      <td>...</td>\n",
       "      <td>...</td>\n",
       "      <td>...</td>\n",
       "      <td>...</td>\n",
       "      <td>...</td>\n",
       "      <td>...</td>\n",
       "    </tr>\n",
       "    <tr>\n",
       "      <th>2024-05-06</th>\n",
       "      <td>127.18</td>\n",
       "      <td>127.730</td>\n",
       "      <td>126.76</td>\n",
       "      <td>127.57</td>\n",
       "      <td>6419935.0</td>\n",
       "      <td>127.4189</td>\n",
       "      <td>80172</td>\n",
       "    </tr>\n",
       "    <tr>\n",
       "      <th>2024-05-07</th>\n",
       "      <td>127.10</td>\n",
       "      <td>130.425</td>\n",
       "      <td>127.07</td>\n",
       "      <td>130.38</td>\n",
       "      <td>6415640.0</td>\n",
       "      <td>129.3458</td>\n",
       "      <td>87045</td>\n",
       "    </tr>\n",
       "    <tr>\n",
       "      <th>2024-05-08</th>\n",
       "      <td>130.58</td>\n",
       "      <td>131.510</td>\n",
       "      <td>129.33</td>\n",
       "      <td>129.55</td>\n",
       "      <td>6580073.0</td>\n",
       "      <td>129.7913</td>\n",
       "      <td>74021</td>\n",
       "    </tr>\n",
       "    <tr>\n",
       "      <th>2024-05-09</th>\n",
       "      <td>128.94</td>\n",
       "      <td>130.500</td>\n",
       "      <td>128.94</td>\n",
       "      <td>130.23</td>\n",
       "      <td>9038061.0</td>\n",
       "      <td>129.9542</td>\n",
       "      <td>70936</td>\n",
       "    </tr>\n",
       "    <tr>\n",
       "      <th>2024-05-10</th>\n",
       "      <td>130.82</td>\n",
       "      <td>130.880</td>\n",
       "      <td>129.95</td>\n",
       "      <td>130.06</td>\n",
       "      <td>5540149.0</td>\n",
       "      <td>130.3223</td>\n",
       "      <td>73151</td>\n",
       "    </tr>\n",
       "  </tbody>\n",
       "</table>\n",
       "<p>250 rows × 7 columns</p>\n",
       "</div>"
      ],
      "text/plain": [
       "              open     high     low   close     volume      vwap  transactions\n",
       "date                                                                          \n",
       "2023-05-15  117.14  117.740  115.49  116.37  5697236.0  116.3517         70438\n",
       "2023-05-16  115.88  116.760  115.29  116.08  4278281.0  116.2071         60730\n",
       "2023-05-17  116.37  116.655  113.48  114.76  7210383.0  114.5498         78904\n",
       "2023-05-18  114.14  115.070  113.33  114.00  6437144.0  114.0864         75952\n",
       "2023-05-19  114.33  116.240  114.10  115.49  7647080.0  115.4905         63052\n",
       "...            ...      ...     ...     ...        ...       ...           ...\n",
       "2024-05-06  127.18  127.730  126.76  127.57  6419935.0  127.4189         80172\n",
       "2024-05-07  127.10  130.425  127.07  130.38  6415640.0  129.3458         87045\n",
       "2024-05-08  130.58  131.510  129.33  129.55  6580073.0  129.7913         74021\n",
       "2024-05-09  128.94  130.500  128.94  130.23  9038061.0  129.9542         70936\n",
       "2024-05-10  130.82  130.880  129.95  130.06  5540149.0  130.3223         73151\n",
       "\n",
       "[250 rows x 7 columns]"
      ]
     },
     "execution_count": 15,
     "metadata": {},
     "output_type": "execute_result"
    }
   ],
   "source": [
    "data = obb.equity.price.historical(symbol, provider=\"polygon\")\n",
    "data.to_dataframe()\n"
   ]
  },
  {
   "cell_type": "code",
   "execution_count": 16,
   "id": "fca0d125-d820-4175-8853-576d2eba36e7",
   "metadata": {},
   "outputs": [
    {
     "data": {
      "text/html": [
       "<div>\n",
       "<style scoped>\n",
       "    .dataframe tbody tr th:only-of-type {\n",
       "        vertical-align: middle;\n",
       "    }\n",
       "\n",
       "    .dataframe tbody tr th {\n",
       "        vertical-align: top;\n",
       "    }\n",
       "\n",
       "    .dataframe thead th {\n",
       "        text-align: right;\n",
       "    }\n",
       "</style>\n",
       "<table border=\"1\" class=\"dataframe\">\n",
       "  <thead>\n",
       "    <tr style=\"text-align: right;\">\n",
       "      <th></th>\n",
       "      <th>close</th>\n",
       "      <th>high</th>\n",
       "      <th>low</th>\n",
       "      <th>open</th>\n",
       "      <th>transactions</th>\n",
       "      <th>volume</th>\n",
       "      <th>vwap</th>\n",
       "    </tr>\n",
       "    <tr>\n",
       "      <th>date</th>\n",
       "      <th></th>\n",
       "      <th></th>\n",
       "      <th></th>\n",
       "      <th></th>\n",
       "      <th></th>\n",
       "      <th></th>\n",
       "      <th></th>\n",
       "    </tr>\n",
       "  </thead>\n",
       "  <tbody>\n",
       "    <tr>\n",
       "      <th>2023-05-15</th>\n",
       "      <td>413.01</td>\n",
       "      <td>413.4300</td>\n",
       "      <td>410.230</td>\n",
       "      <td>412.22</td>\n",
       "      <td>427865</td>\n",
       "      <td>54289383.0</td>\n",
       "      <td>412.1201</td>\n",
       "    </tr>\n",
       "    <tr>\n",
       "      <th>2023-05-16</th>\n",
       "      <td>410.25</td>\n",
       "      <td>412.8150</td>\n",
       "      <td>410.240</td>\n",
       "      <td>411.86</td>\n",
       "      <td>447536</td>\n",
       "      <td>57705495.0</td>\n",
       "      <td>411.3774</td>\n",
       "    </tr>\n",
       "    <tr>\n",
       "      <th>2023-05-17</th>\n",
       "      <td>415.23</td>\n",
       "      <td>415.8550</td>\n",
       "      <td>410.635</td>\n",
       "      <td>412.35</td>\n",
       "      <td>585038</td>\n",
       "      <td>86786957.0</td>\n",
       "      <td>413.4302</td>\n",
       "    </tr>\n",
       "    <tr>\n",
       "      <th>2023-05-18</th>\n",
       "      <td>419.23</td>\n",
       "      <td>419.6700</td>\n",
       "      <td>414.670</td>\n",
       "      <td>414.90</td>\n",
       "      <td>672492</td>\n",
       "      <td>97177195.0</td>\n",
       "      <td>417.1828</td>\n",
       "    </tr>\n",
       "    <tr>\n",
       "      <th>2023-05-19</th>\n",
       "      <td>418.62</td>\n",
       "      <td>420.7200</td>\n",
       "      <td>417.350</td>\n",
       "      <td>420.17</td>\n",
       "      <td>642871</td>\n",
       "      <td>103793317.0</td>\n",
       "      <td>419.0232</td>\n",
       "    </tr>\n",
       "    <tr>\n",
       "      <th>...</th>\n",
       "      <td>...</td>\n",
       "      <td>...</td>\n",
       "      <td>...</td>\n",
       "      <td>...</td>\n",
       "      <td>...</td>\n",
       "      <td>...</td>\n",
       "      <td>...</td>\n",
       "    </tr>\n",
       "    <tr>\n",
       "      <th>2024-05-06</th>\n",
       "      <td>516.57</td>\n",
       "      <td>516.6100</td>\n",
       "      <td>513.300</td>\n",
       "      <td>513.75</td>\n",
       "      <td>444747</td>\n",
       "      <td>47236717.0</td>\n",
       "      <td>514.6357</td>\n",
       "    </tr>\n",
       "    <tr>\n",
       "      <th>2024-05-07</th>\n",
       "      <td>517.14</td>\n",
       "      <td>518.5700</td>\n",
       "      <td>516.450</td>\n",
       "      <td>517.56</td>\n",
       "      <td>432286</td>\n",
       "      <td>50977654.0</td>\n",
       "      <td>517.4968</td>\n",
       "    </tr>\n",
       "    <tr>\n",
       "      <th>2024-05-08</th>\n",
       "      <td>517.19</td>\n",
       "      <td>517.7400</td>\n",
       "      <td>515.140</td>\n",
       "      <td>515.26</td>\n",
       "      <td>369150</td>\n",
       "      <td>42012599.0</td>\n",
       "      <td>516.9211</td>\n",
       "    </tr>\n",
       "    <tr>\n",
       "      <th>2024-05-09</th>\n",
       "      <td>520.17</td>\n",
       "      <td>520.2074</td>\n",
       "      <td>516.705</td>\n",
       "      <td>517.38</td>\n",
       "      <td>399512</td>\n",
       "      <td>43583253.0</td>\n",
       "      <td>519.1084</td>\n",
       "    </tr>\n",
       "    <tr>\n",
       "      <th>2024-05-10</th>\n",
       "      <td>520.84</td>\n",
       "      <td>522.6350</td>\n",
       "      <td>519.590</td>\n",
       "      <td>521.81</td>\n",
       "      <td>428536</td>\n",
       "      <td>52201942.0</td>\n",
       "      <td>520.8834</td>\n",
       "    </tr>\n",
       "  </tbody>\n",
       "</table>\n",
       "<p>250 rows × 7 columns</p>\n",
       "</div>"
      ],
      "text/plain": [
       "             close      high      low    open  transactions       volume  \\\n",
       "date                                                                       \n",
       "2023-05-15  413.01  413.4300  410.230  412.22        427865   54289383.0   \n",
       "2023-05-16  410.25  412.8150  410.240  411.86        447536   57705495.0   \n",
       "2023-05-17  415.23  415.8550  410.635  412.35        585038   86786957.0   \n",
       "2023-05-18  419.23  419.6700  414.670  414.90        672492   97177195.0   \n",
       "2023-05-19  418.62  420.7200  417.350  420.17        642871  103793317.0   \n",
       "...            ...       ...      ...     ...           ...          ...   \n",
       "2024-05-06  516.57  516.6100  513.300  513.75        444747   47236717.0   \n",
       "2024-05-07  517.14  518.5700  516.450  517.56        432286   50977654.0   \n",
       "2024-05-08  517.19  517.7400  515.140  515.26        369150   42012599.0   \n",
       "2024-05-09  520.17  520.2074  516.705  517.38        399512   43583253.0   \n",
       "2024-05-10  520.84  522.6350  519.590  521.81        428536   52201942.0   \n",
       "\n",
       "                vwap  \n",
       "date                  \n",
       "2023-05-15  412.1201  \n",
       "2023-05-16  411.3774  \n",
       "2023-05-17  413.4302  \n",
       "2023-05-18  417.1828  \n",
       "2023-05-19  419.0232  \n",
       "...              ...  \n",
       "2024-05-06  514.6357  \n",
       "2024-05-07  517.4968  \n",
       "2024-05-08  516.9211  \n",
       "2024-05-09  519.1084  \n",
       "2024-05-10  520.8834  \n",
       "\n",
       "[250 rows x 7 columns]"
      ]
     },
     "execution_count": 16,
     "metadata": {},
     "output_type": "execute_result"
    }
   ],
   "source": [
    "# use the local rest server\n",
    "data = []\n",
    "symbol2=\"SPY\"\n",
    "url = f\"http://127.0.0.1:8000/api/v1/equity/price/historical?provider=polygon&symbol={symbol2}\"\n",
    "headers = {\"accept\": \"application/json\"}\n",
    "\n",
    "response = requests.get(url, headers=headers, timeout=3)\n",
    "\n",
    "if response.status_code == 200:\n",
    "  data = OBBject.model_validate(response.json())\n",
    "\n",
    "data.to_df()\n"
   ]
  },
  {
   "cell_type": "code",
   "execution_count": 17,
   "id": "b075d0ae-55b4-49f8-acf7-c0a9045f322c",
   "metadata": {},
   "outputs": [
    {
     "data": {
      "text/plain": [
       "[('MRVL', 'Marvell Technology, Inc. - Common Stock')]"
      ]
     },
     "execution_count": 17,
     "metadata": {},
     "output_type": "execute_result"
    }
   ],
   "source": [
    "results = obb.equity.search(query='marvell', is_symbol=False, provider='nasdaq', use_cache=True)\n",
    "[(r.symbol, r.name) for r in results.results]\n"
   ]
  },
  {
   "cell_type": "code",
   "execution_count": 18,
   "id": "60b0843c-df4f-4459-b721-c73bfe0730b0",
   "metadata": {},
   "outputs": [
    {
     "data": {
      "text/html": [
       "<div>\n",
       "<style scoped>\n",
       "    .dataframe tbody tr th:only-of-type {\n",
       "        vertical-align: middle;\n",
       "    }\n",
       "\n",
       "    .dataframe tbody tr th {\n",
       "        vertical-align: top;\n",
       "    }\n",
       "\n",
       "    .dataframe thead th {\n",
       "        text-align: right;\n",
       "    }\n",
       "</style>\n",
       "<table border=\"1\" class=\"dataframe\">\n",
       "  <thead>\n",
       "    <tr style=\"text-align: right;\">\n",
       "      <th></th>\n",
       "      <th>symbol</th>\n",
       "      <th>name</th>\n",
       "      <th>exchange</th>\n",
       "      <th>last_price</th>\n",
       "      <th>last_timestamp</th>\n",
       "      <th>open</th>\n",
       "      <th>high</th>\n",
       "      <th>low</th>\n",
       "      <th>volume</th>\n",
       "      <th>prev_close</th>\n",
       "      <th>...</th>\n",
       "      <th>year_high</th>\n",
       "      <th>year_low</th>\n",
       "      <th>price_avg50</th>\n",
       "      <th>price_avg200</th>\n",
       "      <th>avg_volume</th>\n",
       "      <th>market_cap</th>\n",
       "      <th>shares_outstanding</th>\n",
       "      <th>eps</th>\n",
       "      <th>pe</th>\n",
       "      <th>earnings_announcement</th>\n",
       "    </tr>\n",
       "  </thead>\n",
       "  <tbody>\n",
       "    <tr>\n",
       "      <th>0</th>\n",
       "      <td>TD</td>\n",
       "      <td>The Toronto-Dominion Bank</td>\n",
       "      <td>NYSE</td>\n",
       "      <td>56.76</td>\n",
       "      <td>2024-05-13 20:00:01+00:00</td>\n",
       "      <td>56.98</td>\n",
       "      <td>57.180</td>\n",
       "      <td>56.565</td>\n",
       "      <td>1603317</td>\n",
       "      <td>56.62</td>\n",
       "      <td>...</td>\n",
       "      <td>66.15</td>\n",
       "      <td>54.12</td>\n",
       "      <td>58.7556</td>\n",
       "      <td>60.24095</td>\n",
       "      <td>3118783</td>\n",
       "      <td>1.005844e+11</td>\n",
       "      <td>1772100000</td>\n",
       "      <td>4.61</td>\n",
       "      <td>12.31</td>\n",
       "      <td>2024-05-23 12:00:00+00:00</td>\n",
       "    </tr>\n",
       "    <tr>\n",
       "      <th>1</th>\n",
       "      <td>SCHW</td>\n",
       "      <td>The Charles Schwab Corporation</td>\n",
       "      <td>NYSE</td>\n",
       "      <td>74.70</td>\n",
       "      <td>2024-05-13 20:00:01+00:00</td>\n",
       "      <td>76.17</td>\n",
       "      <td>76.400</td>\n",
       "      <td>74.665</td>\n",
       "      <td>3945784</td>\n",
       "      <td>76.11</td>\n",
       "      <td>...</td>\n",
       "      <td>77.05</td>\n",
       "      <td>48.66</td>\n",
       "      <td>71.6642</td>\n",
       "      <td>63.13665</td>\n",
       "      <td>7050885</td>\n",
       "      <td>1.326717e+11</td>\n",
       "      <td>1776060000</td>\n",
       "      <td>2.39</td>\n",
       "      <td>31.26</td>\n",
       "      <td>2024-07-16 04:00:00+00:00</td>\n",
       "    </tr>\n",
       "    <tr>\n",
       "      <th>2</th>\n",
       "      <td>JPM</td>\n",
       "      <td>JPMorgan Chase &amp; Co.</td>\n",
       "      <td>NYSE</td>\n",
       "      <td>198.73</td>\n",
       "      <td>2024-05-13 20:00:02+00:00</td>\n",
       "      <td>198.80</td>\n",
       "      <td>199.850</td>\n",
       "      <td>198.040</td>\n",
       "      <td>6766527</td>\n",
       "      <td>198.77</td>\n",
       "      <td>...</td>\n",
       "      <td>200.94</td>\n",
       "      <td>133.96</td>\n",
       "      <td>192.1660</td>\n",
       "      <td>166.00345</td>\n",
       "      <td>8849426</td>\n",
       "      <td>5.706870e+11</td>\n",
       "      <td>2871670000</td>\n",
       "      <td>16.58</td>\n",
       "      <td>11.99</td>\n",
       "      <td>2024-07-12 12:30:00+00:00</td>\n",
       "    </tr>\n",
       "    <tr>\n",
       "      <th>3</th>\n",
       "      <td>MS</td>\n",
       "      <td>Morgan Stanley</td>\n",
       "      <td>NYSE</td>\n",
       "      <td>98.56</td>\n",
       "      <td>2024-05-13 20:00:01+00:00</td>\n",
       "      <td>98.75</td>\n",
       "      <td>98.965</td>\n",
       "      <td>98.420</td>\n",
       "      <td>4162914</td>\n",
       "      <td>98.28</td>\n",
       "      <td>...</td>\n",
       "      <td>98.99</td>\n",
       "      <td>69.42</td>\n",
       "      <td>91.2008</td>\n",
       "      <td>85.73105</td>\n",
       "      <td>8019831</td>\n",
       "      <td>1.601758e+11</td>\n",
       "      <td>1625160000</td>\n",
       "      <td>5.50</td>\n",
       "      <td>17.92</td>\n",
       "      <td>2024-07-16 04:00:00+00:00</td>\n",
       "    </tr>\n",
       "  </tbody>\n",
       "</table>\n",
       "<p>4 rows × 22 columns</p>\n",
       "</div>"
      ],
      "text/plain": [
       "  symbol                            name exchange  last_price  \\\n",
       "0     TD       The Toronto-Dominion Bank     NYSE       56.76   \n",
       "1   SCHW  The Charles Schwab Corporation     NYSE       74.70   \n",
       "2    JPM            JPMorgan Chase & Co.     NYSE      198.73   \n",
       "3     MS                  Morgan Stanley     NYSE       98.56   \n",
       "\n",
       "             last_timestamp    open     high      low   volume  prev_close  \\\n",
       "0 2024-05-13 20:00:01+00:00   56.98   57.180   56.565  1603317       56.62   \n",
       "1 2024-05-13 20:00:01+00:00   76.17   76.400   74.665  3945784       76.11   \n",
       "2 2024-05-13 20:00:02+00:00  198.80  199.850  198.040  6766527      198.77   \n",
       "3 2024-05-13 20:00:01+00:00   98.75   98.965   98.420  4162914       98.28   \n",
       "\n",
       "   ...  year_high  year_low  price_avg50  price_avg200  avg_volume  \\\n",
       "0  ...      66.15     54.12      58.7556      60.24095     3118783   \n",
       "1  ...      77.05     48.66      71.6642      63.13665     7050885   \n",
       "2  ...     200.94    133.96     192.1660     166.00345     8849426   \n",
       "3  ...      98.99     69.42      91.2008      85.73105     8019831   \n",
       "\n",
       "     market_cap  shares_outstanding    eps     pe     earnings_announcement  \n",
       "0  1.005844e+11          1772100000   4.61  12.31 2024-05-23 12:00:00+00:00  \n",
       "1  1.326717e+11          1776060000   2.39  31.26 2024-07-16 04:00:00+00:00  \n",
       "2  5.706870e+11          2871670000  16.58  11.99 2024-07-12 12:30:00+00:00  \n",
       "3  1.601758e+11          1625160000   5.50  17.92 2024-07-16 04:00:00+00:00  \n",
       "\n",
       "[4 rows x 22 columns]"
      ]
     },
     "execution_count": 18,
     "metadata": {},
     "output_type": "execute_result"
    }
   ],
   "source": [
    "# multiple symbols\n",
    "quotes = obb.equity.price.quote(\"td,schw,jpm,ms\", provider=\"fmp\")\n",
    "quotes.to_df()\n"
   ]
  },
  {
   "cell_type": "code",
   "execution_count": 19,
   "id": "8ba4d940-9520-4e56-86f2-82c8f6a66c70",
   "metadata": {},
   "outputs": [
    {
     "data": {
      "text/html": [
       "<div>\n",
       "<style scoped>\n",
       "    .dataframe tbody tr th:only-of-type {\n",
       "        vertical-align: middle;\n",
       "    }\n",
       "\n",
       "    .dataframe tbody tr th {\n",
       "        vertical-align: top;\n",
       "    }\n",
       "\n",
       "    .dataframe thead th {\n",
       "        text-align: right;\n",
       "    }\n",
       "</style>\n",
       "<table border=\"1\" class=\"dataframe\">\n",
       "  <thead>\n",
       "    <tr style=\"text-align: right;\">\n",
       "      <th></th>\n",
       "      <th>yfinance</th>\n",
       "      <th>fmp</th>\n",
       "      <th>polygon</th>\n",
       "    </tr>\n",
       "  </thead>\n",
       "  <tbody>\n",
       "    <tr>\n",
       "      <th>0</th>\n",
       "      <td>1.066750e+11</td>\n",
       "      <td>1.066750e+11</td>\n",
       "      <td>1.066750e+11</td>\n",
       "    </tr>\n",
       "    <tr>\n",
       "      <th>1</th>\n",
       "      <td>1.091600e+11</td>\n",
       "      <td>1.091600e+11</td>\n",
       "      <td>1.091600e+11</td>\n",
       "    </tr>\n",
       "    <tr>\n",
       "      <th>2</th>\n",
       "      <td>1.056940e+11</td>\n",
       "      <td>1.056940e+11</td>\n",
       "      <td>1.056940e+11</td>\n",
       "    </tr>\n",
       "    <tr>\n",
       "      <th>3</th>\n",
       "      <td>9.158800e+10</td>\n",
       "      <td>NaN</td>\n",
       "      <td>NaN</td>\n",
       "    </tr>\n",
       "  </tbody>\n",
       "</table>\n",
       "</div>"
      ],
      "text/plain": [
       "       yfinance           fmp       polygon\n",
       "0  1.066750e+11  1.066750e+11  1.066750e+11\n",
       "1  1.091600e+11  1.091600e+11  1.091600e+11\n",
       "2  1.056940e+11  1.056940e+11  1.056940e+11\n",
       "3  9.158800e+10           NaN           NaN"
      ]
     },
     "execution_count": 19,
     "metadata": {},
     "output_type": "execute_result"
    }
   ],
   "source": [
    "# multiple providers\n",
    "\n",
    "df = pd.DataFrame()\n",
    "\n",
    "df[\"yfinance\"] = (\n",
    "  obb.equity.fundamental.balance(symbol, provider=\"yfinance\", limit=3)\n",
    "  .to_df().get(\"total_assets\")\n",
    ")\n",
    "\n",
    "df[\"fmp\"] = (\n",
    "  obb.equity.fundamental.balance(symbol, provider=\"fmp\", limit=3)\n",
    "  .to_df().get(\"total_assets\")\n",
    ")\n",
    "\n",
    "df[\"polygon\"] = (\n",
    "  obb.equity.fundamental.balance(symbol, provider=\"polygon\", limit=3)\n",
    "  .to_df().get(\"total_assets\")\n",
    ")\n",
    "\n",
    "df"
   ]
  },
  {
   "cell_type": "code",
   "execution_count": 20,
   "id": "4a2e949d-7d0a-44e2-a1ed-46802abd3d74",
   "metadata": {},
   "outputs": [
    {
     "data": {
      "text/html": [
       "<div>\n",
       "<style scoped>\n",
       "    .dataframe tbody tr th:only-of-type {\n",
       "        vertical-align: middle;\n",
       "    }\n",
       "\n",
       "    .dataframe tbody tr th {\n",
       "        vertical-align: top;\n",
       "    }\n",
       "\n",
       "    .dataframe thead th {\n",
       "        text-align: right;\n",
       "    }\n",
       "</style>\n",
       "<table border=\"1\" class=\"dataframe\">\n",
       "  <thead>\n",
       "    <tr style=\"text-align: right;\">\n",
       "      <th></th>\n",
       "      <th>title</th>\n",
       "      <th>text</th>\n",
       "      <th>images</th>\n",
       "      <th>url</th>\n",
       "      <th>symbols</th>\n",
       "      <th>source</th>\n",
       "      <th>tags</th>\n",
       "      <th>id</th>\n",
       "      <th>amp_url</th>\n",
       "      <th>publisher</th>\n",
       "    </tr>\n",
       "    <tr>\n",
       "      <th>date</th>\n",
       "      <th></th>\n",
       "      <th></th>\n",
       "      <th></th>\n",
       "      <th></th>\n",
       "      <th></th>\n",
       "      <th></th>\n",
       "      <th></th>\n",
       "      <th></th>\n",
       "      <th></th>\n",
       "      <th></th>\n",
       "    </tr>\n",
       "  </thead>\n",
       "  <tbody>\n",
       "    <tr>\n",
       "      <th>2024-05-08 06:26:57+00:00</th>\n",
       "      <td>Jim Cramer Advises Investors To Brace For Econ...</td>\n",
       "      <td>Jim Cramer, the host of CNBC’s “Mad Money,” ha...</td>\n",
       "      <td>[{'url': 'https://cdn.benzinga.com/files/image...</td>\n",
       "      <td>https://www.benzinga.com/news/24/05/38691510/j...</td>\n",
       "      <td>AAPL,BLDR,GOOG,NVDA,MRK,PFE,GOOGL,META</td>\n",
       "      <td>Benzinga Neuro</td>\n",
       "      <td>News,Global,Economics,Federal Reserve,Markets</td>\n",
       "      <td>nabJYp9Ewiso_ihbgnuIkdcXtn3Ihy-oucZmO2ALnCk</td>\n",
       "      <td>https://www.benzinga.com/amp/content/38691510</td>\n",
       "      <td>{'favicon_url': 'https://s3.polygon.io/public/...</td>\n",
       "    </tr>\n",
       "    <tr>\n",
       "      <th>2024-05-09 13:00:16+00:00</th>\n",
       "      <td>Investors Heavily Search Merck &amp; Co., Inc. (MR...</td>\n",
       "      <td>Recently, Zacks.com users have been paying clo...</td>\n",
       "      <td>[{'url': 'https://staticx-tuner.zacks.com/imag...</td>\n",
       "      <td>https://www.zacks.com/stock/news/2271265/inves...</td>\n",
       "      <td>MRK</td>\n",
       "      <td>Zacks Equity Research</td>\n",
       "      <td>None</td>\n",
       "      <td>LThWA5Sh3t7k8BJ8547R71qJY_9Mgkha7WMQAbZTGro</td>\n",
       "      <td>https://www.zacks.com/amp/stock/news/2271265/i...</td>\n",
       "      <td>{'favicon_url': 'https://s3.polygon.io/public/...</td>\n",
       "    </tr>\n",
       "    <tr>\n",
       "      <th>2024-05-10 15:18:00+00:00</th>\n",
       "      <td>Pharma Stock Roundup: PFE DMD Study Patient De...</td>\n",
       "      <td>Pfizer (PFE) reports the death of a participan...</td>\n",
       "      <td>[{'url': 'https://staticx-tuner.zacks.com/imag...</td>\n",
       "      <td>https://www.zacks.com/stock/news/2272311/pharm...</td>\n",
       "      <td>PFE,MRK,LLY</td>\n",
       "      <td>Kinjel Shah</td>\n",
       "      <td>None</td>\n",
       "      <td>LuH9atBP810MgCmcYvB9qbOEDI5RlsMVZB1l1s1W8D8</td>\n",
       "      <td>https://www.zacks.com/amp/stock/news/2272311/p...</td>\n",
       "      <td>{'favicon_url': 'https://s3.polygon.io/public/...</td>\n",
       "    </tr>\n",
       "    <tr>\n",
       "      <th>2024-05-13 08:06:09+00:00</th>\n",
       "      <td>My Dividend Growth Portfolio: Selling Bio-Phar...</td>\n",
       "      <td>I have shifted my strategy to focus on quality...</td>\n",
       "      <td>[{'url': 'https://static.seekingalpha.com/cdn/...</td>\n",
       "      <td>https://seekingalpha.com/article/4692695-my-di...</td>\n",
       "      <td>BKNG,TSLA,AMZN,CRM,ZTS,MSCI,ABBV,JNJ,MRK,AVB,O...</td>\n",
       "      <td>Nicholas Ward</td>\n",
       "      <td>None</td>\n",
       "      <td>KC-Ad56Ahj-rJRZbHcBSSkxF_HxZeV2FXNbZJ0q5R70</td>\n",
       "      <td>None</td>\n",
       "      <td>{'favicon_url': 'https://s3.polygon.io/public/...</td>\n",
       "    </tr>\n",
       "    <tr>\n",
       "      <th>2024-05-13 15:16:00+00:00</th>\n",
       "      <td>Bristol Myers (BMY) Fails to Meet Goal in Opdi...</td>\n",
       "      <td>Bristol Myers' (BMY) late-stage label-expandin...</td>\n",
       "      <td>[{'url': 'https://staticx-tuner.zacks.com/imag...</td>\n",
       "      <td>https://www.zacks.com/stock/news/2272954/brist...</td>\n",
       "      <td>AZN,BMY,MRK,LGND</td>\n",
       "      <td>Zacks Equity Research</td>\n",
       "      <td>None</td>\n",
       "      <td>DZ7EFMYgND4Mcq1fh_0B9LZ6EWP-9-JQz_pR6koaUmA</td>\n",
       "      <td>https://www.zacks.com/amp/stock/news/2272954/b...</td>\n",
       "      <td>{'favicon_url': 'https://s3.polygon.io/public/...</td>\n",
       "    </tr>\n",
       "  </tbody>\n",
       "</table>\n",
       "</div>"
      ],
      "text/plain": [
       "                                                                       title  \\\n",
       "date                                                                           \n",
       "2024-05-08 06:26:57+00:00  Jim Cramer Advises Investors To Brace For Econ...   \n",
       "2024-05-09 13:00:16+00:00  Investors Heavily Search Merck & Co., Inc. (MR...   \n",
       "2024-05-10 15:18:00+00:00  Pharma Stock Roundup: PFE DMD Study Patient De...   \n",
       "2024-05-13 08:06:09+00:00  My Dividend Growth Portfolio: Selling Bio-Phar...   \n",
       "2024-05-13 15:16:00+00:00  Bristol Myers (BMY) Fails to Meet Goal in Opdi...   \n",
       "\n",
       "                                                                        text  \\\n",
       "date                                                                           \n",
       "2024-05-08 06:26:57+00:00  Jim Cramer, the host of CNBC’s “Mad Money,” ha...   \n",
       "2024-05-09 13:00:16+00:00  Recently, Zacks.com users have been paying clo...   \n",
       "2024-05-10 15:18:00+00:00  Pfizer (PFE) reports the death of a participan...   \n",
       "2024-05-13 08:06:09+00:00  I have shifted my strategy to focus on quality...   \n",
       "2024-05-13 15:16:00+00:00  Bristol Myers' (BMY) late-stage label-expandin...   \n",
       "\n",
       "                                                                      images  \\\n",
       "date                                                                           \n",
       "2024-05-08 06:26:57+00:00  [{'url': 'https://cdn.benzinga.com/files/image...   \n",
       "2024-05-09 13:00:16+00:00  [{'url': 'https://staticx-tuner.zacks.com/imag...   \n",
       "2024-05-10 15:18:00+00:00  [{'url': 'https://staticx-tuner.zacks.com/imag...   \n",
       "2024-05-13 08:06:09+00:00  [{'url': 'https://static.seekingalpha.com/cdn/...   \n",
       "2024-05-13 15:16:00+00:00  [{'url': 'https://staticx-tuner.zacks.com/imag...   \n",
       "\n",
       "                                                                         url  \\\n",
       "date                                                                           \n",
       "2024-05-08 06:26:57+00:00  https://www.benzinga.com/news/24/05/38691510/j...   \n",
       "2024-05-09 13:00:16+00:00  https://www.zacks.com/stock/news/2271265/inves...   \n",
       "2024-05-10 15:18:00+00:00  https://www.zacks.com/stock/news/2272311/pharm...   \n",
       "2024-05-13 08:06:09+00:00  https://seekingalpha.com/article/4692695-my-di...   \n",
       "2024-05-13 15:16:00+00:00  https://www.zacks.com/stock/news/2272954/brist...   \n",
       "\n",
       "                                                                     symbols  \\\n",
       "date                                                                           \n",
       "2024-05-08 06:26:57+00:00             AAPL,BLDR,GOOG,NVDA,MRK,PFE,GOOGL,META   \n",
       "2024-05-09 13:00:16+00:00                                                MRK   \n",
       "2024-05-10 15:18:00+00:00                                        PFE,MRK,LLY   \n",
       "2024-05-13 08:06:09+00:00  BKNG,TSLA,AMZN,CRM,ZTS,MSCI,ABBV,JNJ,MRK,AVB,O...   \n",
       "2024-05-13 15:16:00+00:00                                   AZN,BMY,MRK,LGND   \n",
       "\n",
       "                                          source  \\\n",
       "date                                               \n",
       "2024-05-08 06:26:57+00:00         Benzinga Neuro   \n",
       "2024-05-09 13:00:16+00:00  Zacks Equity Research   \n",
       "2024-05-10 15:18:00+00:00            Kinjel Shah   \n",
       "2024-05-13 08:06:09+00:00          Nicholas Ward   \n",
       "2024-05-13 15:16:00+00:00  Zacks Equity Research   \n",
       "\n",
       "                                                                    tags  \\\n",
       "date                                                                       \n",
       "2024-05-08 06:26:57+00:00  News,Global,Economics,Federal Reserve,Markets   \n",
       "2024-05-09 13:00:16+00:00                                           None   \n",
       "2024-05-10 15:18:00+00:00                                           None   \n",
       "2024-05-13 08:06:09+00:00                                           None   \n",
       "2024-05-13 15:16:00+00:00                                           None   \n",
       "\n",
       "                                                                    id  \\\n",
       "date                                                                     \n",
       "2024-05-08 06:26:57+00:00  nabJYp9Ewiso_ihbgnuIkdcXtn3Ihy-oucZmO2ALnCk   \n",
       "2024-05-09 13:00:16+00:00  LThWA5Sh3t7k8BJ8547R71qJY_9Mgkha7WMQAbZTGro   \n",
       "2024-05-10 15:18:00+00:00  LuH9atBP810MgCmcYvB9qbOEDI5RlsMVZB1l1s1W8D8   \n",
       "2024-05-13 08:06:09+00:00  KC-Ad56Ahj-rJRZbHcBSSkxF_HxZeV2FXNbZJ0q5R70   \n",
       "2024-05-13 15:16:00+00:00  DZ7EFMYgND4Mcq1fh_0B9LZ6EWP-9-JQz_pR6koaUmA   \n",
       "\n",
       "                                                                     amp_url  \\\n",
       "date                                                                           \n",
       "2024-05-08 06:26:57+00:00      https://www.benzinga.com/amp/content/38691510   \n",
       "2024-05-09 13:00:16+00:00  https://www.zacks.com/amp/stock/news/2271265/i...   \n",
       "2024-05-10 15:18:00+00:00  https://www.zacks.com/amp/stock/news/2272311/p...   \n",
       "2024-05-13 08:06:09+00:00                                               None   \n",
       "2024-05-13 15:16:00+00:00  https://www.zacks.com/amp/stock/news/2272954/b...   \n",
       "\n",
       "                                                                   publisher  \n",
       "date                                                                          \n",
       "2024-05-08 06:26:57+00:00  {'favicon_url': 'https://s3.polygon.io/public/...  \n",
       "2024-05-09 13:00:16+00:00  {'favicon_url': 'https://s3.polygon.io/public/...  \n",
       "2024-05-10 15:18:00+00:00  {'favicon_url': 'https://s3.polygon.io/public/...  \n",
       "2024-05-13 08:06:09+00:00  {'favicon_url': 'https://s3.polygon.io/public/...  \n",
       "2024-05-13 15:16:00+00:00  {'favicon_url': 'https://s3.polygon.io/public/...  "
      ]
     },
     "execution_count": 20,
     "metadata": {},
     "output_type": "execute_result"
    }
   ],
   "source": [
    "obb.news.company(symbol, provider='polygon', limit=5).to_df()\n"
   ]
  },
  {
   "cell_type": "markdown",
   "id": "05e5429f-164c-4d82-81da-5b22b2c2c4ae",
   "metadata": {},
   "source": [
    "# Question Answering Agent"
   ]
  },
  {
   "cell_type": "code",
   "execution_count": 21,
   "id": "a758632e-504b-4c2d-a26a-5de9cd158946",
   "metadata": {},
   "outputs": [],
   "source": [
    "MODEL = \"gpt-4o\"\n",
    "\n",
    "MAX_INPUT_TOKENS = 65536     # includes text of all headlines\n",
    "MAX_OUTPUT_TOKENS = 4096    # max in current model\n",
    "MAX_RETRIES = 3\n",
    "TEMPERATURE = 0\n",
    "\n"
   ]
  },
  {
   "cell_type": "code",
   "execution_count": 22,
   "id": "8f89a4a1-b882-45ba-91a1-8179d3ae2d3c",
   "metadata": {},
   "outputs": [],
   "source": [
    "# utility function to call chatgpt\n",
    "def get_response(messages, tools, model=MODEL, json_format=False):\n",
    "    \"\"\"\n",
    "    Get a single response from ChatGPT based on a chain of messages.\n",
    "\n",
    "    Args:\n",
    "        messages (list): A list of message objects representing the conversation history.\n",
    "        json_format(boolean): True if JSON response requested. (Last message must express the request for JSON response.)\n",
    "\n",
    "    Returns:\n",
    "        dict: A response object containing the generated response from ChatGPT.\n",
    "\n",
    "    Raises:\n",
    "        OpenAIError: If there is an error during the API call.\n",
    "\n",
    "    Example:\n",
    "        >>> messages = [\n",
    "        ...     {\"role\": \"system\", \"content\": \"You are a helpful assistant.\"},\n",
    "        ...     {\"role\": \"user\", \"content\": \"What's the weather like today?\"},\n",
    "        ... ]\n",
    "        >>> response = get_response(messages)\n",
    "    \"\"\"\n",
    "\n",
    "    if tools:\n",
    "        response = client.chat.completions.create(\n",
    "            model=model,\n",
    "            messages=messages,\n",
    "            tools=tools,\n",
    "            tool_choice=\"auto\",  # auto is default, but we'll be explicit\n",
    "            response_format={\"type\": \"json_object\"} if json_format else None,\n",
    "        )\n",
    "    else:\n",
    "        response = client.chat.completions.create(\n",
    "            model=model,\n",
    "            messages=messages,\n",
    "            response_format={\"type\": \"json_object\"} if json_format else None,\n",
    "        )\n",
    "\n",
    "    return response\n"
   ]
  },
  {
   "cell_type": "code",
   "execution_count": 23,
   "id": "b7abde63-5b62-48bc-9df0-cdf3c80990bd",
   "metadata": {},
   "outputs": [
    {
     "name": "stdout",
     "output_type": "stream",
     "text": [
      "The airspeed velocity of an unladen swallow is often cited as around 20.1 miles per hour or approximately 9 meters per second. This is based on the European swallow, *Hirundo rustica*.\n",
      "\n",
      "It's important to note that this figure comes from various ornithological studies and estimates, and there might be variations based on specific environmental conditions and the bird's physical condition.\n",
      "\n",
      "If you're referencing this question in the context of the famous scene from the movie \"Monty Python and the Holy Grail,\" it is indeed a humorous take on such a specific and seemingly random piece of trivia!\n"
     ]
    }
   ],
   "source": [
    "client = OpenAI()\n",
    "messages = [{\"role\": \"user\", \"content\": \"what is the airspeed velocity of an unladen swallow?\"}]\n",
    "response = get_response(messages, tools=[])\n",
    "response_str = response.choices[0].message.content\n",
    "response_str = response_str.replace(\"$\", \"\\\\\\$\")\n",
    "\n",
    "print(response_str)"
   ]
  },
  {
   "cell_type": "code",
   "execution_count": 24,
   "id": "aa18b6e6-e64f-4483-8e66-bf2bd9c1b18b",
   "metadata": {},
   "outputs": [],
   "source": [
    "# utility functions to support use of client-side tools when querying openai\n",
    "\n",
    "def eval_tool(tool_call, verbose=True):\n",
    "    \"\"\"\n",
    "    Given an OpenAI tool_call response,\n",
    "    evaluates the tool function using the arguments provided by OpenAI,\n",
    "    and returns the message to send back to OpenAI, including the function return value.\n",
    "\n",
    "    Args:\n",
    "        tool_call (object): The OpenAI tool_call response.\n",
    "\n",
    "    Returns:\n",
    "        dict: The message to send back to OpenAI, containing the tool_call_id, role, name, and value returned by the tool call.\n",
    "\n",
    "    \"\"\"\n",
    "    function_name = tool_call.function.name\n",
    "    # look up the function based in global tools on the name\n",
    "    fn = tools[function_name]['callable']\n",
    "    # make the tool call's json args into a dict\n",
    "    kwargs = json.loads(tool_call.function.arguments)\n",
    "    \n",
    "    if verbose:\n",
    "        print(f\"{function_name}({str(kwargs)}) -> \", end=\"\")\n",
    "    # call function with the args and return value\n",
    "    fn_value = fn(**kwargs)\n",
    "    if type(fn_value) is list or type(fn_value) is dict:\n",
    "        fn_value=str(fn_value)\n",
    "    if verbose:\n",
    "        output = str(fn_value)\n",
    "        if len(output) > 100:\n",
    "            output=output[:100] + \"...\"\n",
    "        print(output)\n",
    "\n",
    "    return {\n",
    "        \"tool_call_id\": tool_call.id,\n",
    "        \"role\": \"tool\",\n",
    "        \"name\": tool_call.function.name,\n",
    "        \"content\": fn_value,\n",
    "    }\n",
    "\n",
    "def get_response_and_eval(messages, tools=[], json_format=False, raw=False, verbose=False):\n",
    "    \"\"\"\n",
    "    Sends a list of messages to OpenAI and returns the response.\n",
    "    If tool calls are returned, calls all the tools and sends the values back to OpenAI.\n",
    "    If further tool calls returned, iterates until no more tool calls are returned and\n",
    "    'stop' is returned as finish_reason, then returns the response.\n",
    "\n",
    "    Args:\n",
    "        messages (list): A list of messages to send to OpenAI.\n",
    "        json_format (boolean): If the final response should be in JSON format.\n",
    "        raw (boolean): after last tool is called return raw data response that enabled answering the question\n",
    "        verbose (bool, optional): If True, prints additional information. Defaults to False.\n",
    "\n",
    "    Returns:\n",
    "        response: The final response object returned by OpenAI.\n",
    "\n",
    "    Raises:\n",
    "        None\n",
    "\n",
    "    \"\"\"\n",
    "    response = get_response(messages, tools=tools, json_format=json_format)\n",
    "    choice = response.choices[0]\n",
    "    response_message = choice.message\n",
    "    finish_reason = choice.finish_reason\n",
    "\n",
    "    if verbose:\n",
    "        print(choice)\n",
    "\n",
    "    while finish_reason != 'stop':\n",
    "        # Extend conversation with assistant's reply\n",
    "        messages.append(response_message)\n",
    "        if finish_reason == 'tool_calls':\n",
    "            tool_calls = response_message.tool_calls\n",
    "            if verbose:\n",
    "                print(tool_calls)\n",
    "            # Call the tools and add all return values as messages\n",
    "            for tool in tool_calls:\n",
    "                messages.append(eval_tool(tool, verbose=True))\n",
    "            # Get next response\n",
    "            response = get_response(messages, tools=tools, json_format=json_format)\n",
    "            choice = response.choices[0]\n",
    "            response_message = choice.message\n",
    "            finish_reason = choice.finish_reason\n",
    "            if verbose:\n",
    "                output = str(choice)\n",
    "                output = output[:1000] + \"...\" if len(output) > 1000 else output\n",
    "                print(output)\n",
    "        else:\n",
    "            print('finish_reason: ', finish_reason)\n",
    "            break\n",
    "\n",
    "    if raw:\n",
    "        # probably want to process that message and return call signature + value\n",
    "        return messages[-1]\n",
    "    else:\n",
    "        return response\n",
    "\n",
    "def agent_query(user_message, tools, raw=False, verbose=True):\n",
    "    \"\"\"\n",
    "    Send a user message to OpenAI and retrieve the response, calling all tools until done.\n",
    "\n",
    "    Args:\n",
    "        user_message (str): The message from the user.\n",
    "        raw (boolean): after last tool is called return raw data response that enabled answering the question        \n",
    "        verbose (bool, optional): Display intermediate tool calls and return values. Defaults to False.\n",
    "\n",
    "    Returns:\n",
    "        str: The response from the agent.\n",
    "\n",
    "\n",
    "    Example:\n",
    "        >>> agent_query(\"Hello\")\n",
    "        'Hello! How can I assist you today?'\n",
    "    \"\"\"\n",
    "\n",
    "    # add descriptions of available tools to system prompt\n",
    "    tool_descs = \"\"\n",
    "    tools = list(tools.values())\n",
    "    openai_tools = []\n",
    "    for v in tools:\n",
    "        t = v['tooldict']\n",
    "        openai_tools.append(t)\n",
    "        tname = t['function']['name']\n",
    "        tdesc = t['function']['description']\n",
    "        tool_descs += f\"{tname} : {tdesc}\"\n",
    "        example_str = v.get('example_str')\n",
    "        if example_str:\n",
    "            tool_descs += f\" Usage: {example_str} \"\n",
    "        tool_descs += \"\\n---\\n\\n\"\n",
    "    # tool_descs = \"\\n\".join([f\"{tool['function']['name']} : {tool['function']['description']}\" for tool in tools.values()])\n",
    "    current_system_prompt = system_prompt + f\"\"\"\n",
    "\n",
    "Available tools delimited by ---:\n",
    "{tool_descs}\n",
    "    \"\"\"\n",
    "    # print(current_system_prompt)\n",
    "\n",
    "    messages = [{\"role\": \"system\", \"content\": current_system_prompt},\n",
    "                {\"role\": \"user\", \"content\": user_message}]\n",
    "    response = get_response_and_eval(messages, tools=openai_tools, json_format=False, raw=raw, verbose=verbose)\n",
    "    response_str = response.choices[0].message.content\n",
    "    response_str = response_str.replace(\"$\", \"\\\\\\$\")   # escape stuff that is interpreted as latex\n",
    "    display(Markdown(response_str))\n",
    "\n"
   ]
  },
  {
   "cell_type": "code",
   "execution_count": 25,
   "id": "a85a7fd6-9ac5-43f6-973d-86dbca6fd25d",
   "metadata": {},
   "outputs": [
    {
     "data": {
      "text/plain": [
       "{'name': 'get_quote_json',\n",
       " 'description': 'Given a stock symbol, get the latest market data quote for the stock in JSON format.',\n",
       " 'openapi_path': '/api/v1/equity/price/quote',\n",
       " 'callable': <__main__.BB_agent_tool at 0x3252cec50>,\n",
       " 'parameters': {'symbol': {'type': 'string',\n",
       "   'description': 'The stock symbol.'}},\n",
       " 'example_parameters': [{'symbol': 'NVDA'}],\n",
       " 'tooldict': {'type': 'function',\n",
       "  'function': {'name': 'get_quote_json',\n",
       "   'description': 'Given a stock symbol, get the latest market data quote for the stock in JSON format.',\n",
       "   'parameters': {'type': 'object',\n",
       "    'properties': {'symbol': {'type': 'string',\n",
       "      'description': 'The stock symbol.'}},\n",
       "    'required': ['symbol']}}},\n",
       " 'example_str': 'get_quote_json(symbol=\"NVDA\") -> id=\\'06642dc9-9b93-7a71-8000-94be7d06aa2c\\' results=[CboeEquityQuoteData(symbol=NVDA, asset_type=stock, name=NVIDIA CORPORATION COM, exchange=None, bid=902.55, bid_size=1, bid_exchange=None, ask=902.8, ask_size=2, ask_exchange=None, quote_conditions=None, quote_indicators=None, sales_conditions=None, sequence_number=None, market_center=None, participant_timestamp=None, trf_timestamp=None, sip_timestamp=None, last_price=902.58, last_tick=down, last_size=None, last_timestamp=2024-05-13 15:59:59, open=904.83, high=909.98, low=885.29, close=903.99, volume=28968017, exchange_volume=None, prev_close=903.99, change=5.21, change_percent=0.005763000000000001, year_high=974.0, year_low=280.4599914550781, iv30=0.56413, iv30_change=None, iv30_change_percent=None, iv30_annual_high=0.6712400054931641, hv30_annual_high=0.7542350006103515, iv30_annual_low=0.3138199996948242, hv30_annual_low=0.26787900924682617, iv60_annual_high=0.5873099899291992, hv60_annual_high=0.6172460174560547, iv60_annual_low=0.338489990234375, hv60_annual_low=0.28717899322509766, iv90_annual_high=0.604729995727539, hv90_annual_high=0.5864540100097656, iv90_annual_low=0.36759998321533205, hv90_annual_low=0.3167770004272461)] provider=\\'cboe\\' warnings=None chart=None extra={\\'metadata\\': Metadata\\n\\narguments: {\\'provider_choices\\': {\\'provider\\': \\'cboe\\'}, \\'standard_params\\': {\\'symbol\\': \\'NVDA\\'}, \\'extra_params\\': {}}\\nduration: 433814292\\nroute: /equity/price/quote\\ntimestamp: 2024-05-13 23:38:01.292223}'}"
      ]
     },
     "execution_count": 25,
     "metadata": {},
     "output_type": "execute_result"
    }
   ],
   "source": [
    "# for the frequent case where we call a function based on a symbol, make a generic tool class\n",
    "class BB_agent_tool(object):\n",
    "\n",
    "    # class variable to keep track of all tools\n",
    "    agent_registry = {}\n",
    "\n",
    "    def __init__(self, name, description, openapi_path, parameters, example_parameter_values, singular=0):\n",
    "        self.name = name\n",
    "        self.description = description\n",
    "        self.openapi_path = openapi_path\n",
    "        self.parameters = parameters\n",
    "        self.example_parameter_values = example_parameter_values\n",
    "        self.singular = singular\n",
    "        self.callable = self.get_callable()\n",
    "        self.tooldict = self.make_tooldict()\n",
    "        self.example_code = self.make_example_code()\n",
    "        # store self in agent_registry class variable that keeps track of all instances\n",
    "        self.agent_registry[name] = self\n",
    "\n",
    "    def __del__(self):\n",
    "        del self.agent_registry[self.name]\n",
    "\n",
    "    def __str__(self):\n",
    "        return (f\"Tool Name:          {self.name}\\n\"\n",
    "                f\"Description:        {self.description}\\n\"\n",
    "                f\"OpenAPI Path:       {self.openapi_path}\\n\"\n",
    "                f\"Parameters:         {self.parameters}\\n\"\n",
    "                f\"Example Parameters: {self.example_parameter_values}\\n\"\n",
    "                f\"Singular:           {self.singular}\\n\"\n",
    "                f\"Tooldict:           {self.tooldict}\\n\"\n",
    "                f\"Examples:           {self.example_code}\\n\"\n",
    "                f\"Callable:           \\n\"\n",
    "                f\"{self.callable.__doc__}\\n\"\n",
    "        )\n",
    "\n",
    "    def __call__(self, symbol):\n",
    "        \"\"\"Make the instance callable and perform the default operation of calling the callable function on a symbol.\"\"\"\n",
    "        retval = None\n",
    "        try:\n",
    "            obj = self.callable(symbol)\n",
    "            if obj and obj.results:\n",
    "                d = json.loads(obj.json())\n",
    "                # singular should be 0 to return the full array, 1 for first element only, -1 for last element\n",
    "                if self.singular:\n",
    "                    index = 0 if self.singular == 1 else -1\n",
    "                    retval = json.dumps(d['results'][index])\n",
    "                else:\n",
    "                    retval = json.dumps(d['results'])\n",
    "        except Exception as exc:\n",
    "            print(exc)\n",
    "        return str(retval)\n",
    "\n",
    "    def get_callable(self):\n",
    "        \"\"\"for /api/vi/equity/search, return the openbb object obb.equity.search\"\"\"\n",
    "        op = obb\n",
    "        for part in self.openapi_path.removeprefix(\"/api/v1/\").split(\"/\"):\n",
    "            op = op.__getattribute__(part)\n",
    "        return op\n",
    "\n",
    "    def make_tooldict(self):\n",
    "        \"\"\"the representation of the tool that is shared with openai\"\"\"\n",
    "        return {\n",
    "            \"type\": \"function\",\n",
    "            \"function\": {\n",
    "                \"name\": self.name,\n",
    "                \"description\": self.description,\n",
    "                \"parameters\": {\n",
    "                    \"type\": \"object\",\n",
    "                    \"properties\": self.parameters,\n",
    "                    \"required\": [k for k in self.parameters.keys()]   # all required for now\n",
    "                    }\n",
    "                }\n",
    "            }\n",
    "\n",
    "    def make_example_code(self):\n",
    "        examples = []\n",
    "        for example in self.example_parameter_values:\n",
    "            parray = []\n",
    "            for k, v in example.items():\n",
    "                # get type \n",
    "                ptype = \"string\"\n",
    "                if ptype == \"string\":\n",
    "                    parray.append(f'{k}=\"{v}\"') \n",
    "                else:\n",
    "                    parray.append(f'{k}={v}') \n",
    "            pstr = \", \".join(parray) \n",
    "\n",
    "            # run the example\n",
    "            return_value = self.callable(**example)\n",
    "            if type(return_value) is list: # only use 3 values if it's a long list\n",
    "                return_value = str(return_value[:3])\n",
    "            if type(return_value) is str:  # truncate long strings\n",
    "                max_str_len = 1000\n",
    "                return_value = return_value[:max_str_len] + \"...\" if len(return_value) > max_str_len else return_value\n",
    "            \n",
    "            examples.append(f\"{self.name}({pstr}) -> {return_value}\")\n",
    "            return \"; \".join(examples)\n",
    "\n",
    "    def make_metadata(self):\n",
    "        return {'name': self.name,\n",
    "                  'description': self.description,\n",
    "                  'openapi_path': self.openapi_path,\n",
    "                  'callable': self,\n",
    "                  'parameters': self.parameters,\n",
    "                  'example_parameters': self.example_parameter_values,\n",
    "                  'tooldict': self.tooldict,\n",
    "                  'example_str': self.example_code}\n",
    "\n",
    "\n",
    "\n",
    "# Example usage\n",
    "tool = BB_agent_tool(\n",
    "    name=\"get_quote_json\",\n",
    "    description=\"Given a stock symbol, get the latest market data quote for the stock in JSON format.\",\n",
    "    openapi_path=\"/api/v1/equity/price/quote\",\n",
    "    parameters={\n",
    "        \"symbol\": {\n",
    "            \"type\": \"string\",\n",
    "            \"description\": \"The stock symbol.\"\n",
    "        }\n",
    "        },\n",
    "    example_parameter_values=[{\n",
    "        \"symbol\": \"NVDA\",\n",
    "    }],\n",
    ")\n",
    "\n",
    "tool.make_metadata()\n"
   ]
  },
  {
   "cell_type": "code",
   "execution_count": 26,
   "id": "caaa5364-c1fc-4173-96f9-98d92558b128",
   "metadata": {},
   "outputs": [],
   "source": [
    "tools = {}"
   ]
  },
  {
   "cell_type": "code",
   "execution_count": 27,
   "id": "abbeb492-4c38-48b3-91d9-005be43b3a80",
   "metadata": {},
   "outputs": [],
   "source": [
    "# make a bespoke tool \n",
    "\n",
    "def get_10k_item1_from_symbol(symbol):\n",
    "    \"\"\"\n",
    "    Get item 1 of the latest 10-K annual report filing for a given symbol.\n",
    "\n",
    "    Args:\n",
    "        symbol (str): The symbol of the equity.\n",
    "\n",
    "    Returns:\n",
    "        str: The item 1 of the latest 10-K annual report filing, or None if not found.\n",
    "\n",
    "    \"\"\"\n",
    "    item1_text = None\n",
    "    try:\n",
    "        # sec needs you to identify yourself for rate limiting\n",
    "        dl = Downloader(os.getenv(\"SEC_FIRM\"), os.getenv(\"SEC_USER\"))\n",
    "        html = dl.get_filing_html(ticker=symbol, form=\"10-K\")\n",
    "        elements: list = sp.Edgar10QParser().parse(html)\n",
    "        tree = sp.TreeBuilder().build(elements)\n",
    "        sections = [n for n in tree.nodes if n.text.startswith(\"Item\")]\n",
    "        item1_node = sections[0]\n",
    "        item1_text = \"\\n\".join([n.text for n in sections[0].get_descendants()])\n",
    "    except:\n",
    "        return None\n",
    "    return item1_text\n",
    "\n",
    "fn_metadata = {\n",
    "    \"name\": \"get_10k_item1_from_symbol\",\n",
    "    \"description\": \"Given a stock symbol, get item 1 of the company's latest 10-K annual report filing.\",\n",
    "    \"openapi_path\" : None,\n",
    "    \"callable\": get_10k_item1_from_symbol,\n",
    "    \"parameters\": {\n",
    "        \"symbol\": {\n",
    "            \"type\": \"string\",\n",
    "            \"description\": \"The symbol to get the 10-K item 1 for\"\n",
    "            }\n",
    "        },\n",
    "    \"example_parameters\": [{\n",
    "        \"symbol\": \"MSFT\",\n",
    "    }],\n",
    "}\n",
    "\n",
    "# create tool dict based on metadata\n",
    "def make_tool_dict(fn_metadata):\n",
    "    retdict  = {\n",
    "        \"type\": \"function\",\n",
    "        \"function\": {\n",
    "            \"name\": fn_metadata[\"name\"],\n",
    "            \"description\": fn_metadata[\"description\"],\n",
    "            \"parameters\": {\n",
    "                \"type\": \"object\",\n",
    "                \"properties\": fn_metadata[\"parameters\"],\n",
    "                \"required\": [k for k in fn_metadata[\"parameters\"].keys()]\n",
    "                }\n",
    "            }\n",
    "        }\n",
    "    return retdict\n",
    "\n",
    "tools[fn_metadata[\"name\"]] = fn_metadata\n",
    "tools[fn_metadata[\"name\"]][\"tooldict\"] = make_tool_dict(fn_metadata)\n"
   ]
  },
  {
   "cell_type": "code",
   "execution_count": 28,
   "id": "0c1d8d17-f380-46c5-817b-cd4a895d2269",
   "metadata": {},
   "outputs": [
    {
     "data": {
      "text/plain": [
       "190265"
      ]
     },
     "execution_count": 28,
     "metadata": {},
     "output_type": "execute_result"
    }
   ],
   "source": [
    "item_1_text = get_10k_item1_from_symbol(symbol)\n",
    "len(item_1_text)"
   ]
  },
  {
   "cell_type": "code",
   "execution_count": 29,
   "id": "2e1125e9-2d92-4308-adb5-83bd127a8f78",
   "metadata": {},
   "outputs": [
    {
     "data": {
      "text/plain": [
       "'get_10k_item1_from_symbol(symbol=\"MSFT\") -> Note About Forward-Looking Statements\\nThis report includes estimates, projections, statements relating to our business plans, objectives, and expected operating results that are “forward-looking statements” within the meaning of the Private Securities Litigation Reform Act of 1995, Section 27A of the Securities Act of 1933, and Section 21E of the Securities Exchange Act of 1934. Forward-looking statements may appear throughout this report, including the following sections: “Business” (Part I, Item 1 of this Form 10-K), “Risk Factors” (Part I, Item 1A of this Form 10-K), and “Management’s Discussion and Analysis of Financial Condition and Results of Operations” (Part II, Item 7 of this Form 10-K). These forward-looking statements generally are identified by the words “believe,” “project,” “expect,” “anticipate,” “estimate,” “intend,” “strategy,” “future,” “opportunity,” “plan,” “may,” “should,” “will,” “would,” “will be,” “will continue,” “will likely result,” and similar expressions. F...'"
      ]
     },
     "execution_count": 29,
     "metadata": {},
     "output_type": "execute_result"
    }
   ],
   "source": [
    "def create_example_code(fn_metadata):\n",
    "    example_str = \"\"\n",
    "    for example in fn_metadata['example_parameters']:\n",
    "        if example_str:\n",
    "            example_str += \" ; \"\n",
    "        example_str += f\"{fn_metadata['name']}(\"\n",
    "        parray = []\n",
    "        for k, v in example.items():\n",
    "            # get type \n",
    "            ptype = \"string\"\n",
    "            if ptype == \"string\":\n",
    "                parray.append(f'{k}=\"{v}\"') \n",
    "            else:\n",
    "                parray.append(f'{k}={v}') \n",
    "        example_str += \", \".join(parray) \n",
    "        example_str += \")\" \n",
    "        example_str += \" -> \" \n",
    "        return_value = fn_metadata[\"callable\"](**example)\n",
    "        if type(return_value) is list:\n",
    "            return_value = str(return_value[:3])\n",
    "        if type(return_value) is str:\n",
    "            return_value = return_value[:1000] + \"...\" if len(return_value) > 1000 else return_value\n",
    "        example_str += return_value\n",
    "        return example_str\n",
    "\n",
    "create_example_code(fn_metadata)\n"
   ]
  },
  {
   "cell_type": "code",
   "execution_count": 30,
   "id": "8b06e797-316e-4b6d-b991-7c92047a2b7d",
   "metadata": {},
   "outputs": [],
   "source": [
    "system_prompt = \"\"\"\n",
    "Role: You are an AI stock market assistant tasked with providing up-to-date and detailed information on individual stocks.\n",
    "\n",
    "Objective: Assist data-driven stock market investors by giving accurate and concise answers relevant to their questions about individual stocks.\n",
    "\n",
    "Capabilities: You are given a number of tools as functions. Use as many tools as needed to ensure all information provided is timely, accurate, concise, relevant, and specific to the user's query.\n",
    "\n",
    "Instructions: First, analyze the query to fully understand the intent of the user, what data they need, and which tools will satisfy their request.\n",
    "Then, call the most relevant tools in the order necessary to respond accurately to the investor query. \n",
    "If the question is not about a specific stock, if no relevant tool is available, or if uncertain or lacking data, say so clearly and suggest alternative resources or data sources that may help.\n",
    "Only use data obtained from the tools.\n",
    "\n",
    "Example Interaction:\n",
    "Investor: What is the current P/E ratio of Apple Inc.?\n",
    "AI Response: As of the close of trading on March 10, 2024, Apple Inc.'s P/E ratio is 28.45.\n",
    "\"\"\"\n"
   ]
  },
  {
   "cell_type": "code",
   "execution_count": 31,
   "id": "669dd655-53b4-4792-a206-2cdea9e7a87f",
   "metadata": {},
   "outputs": [
    {
     "data": {
      "text/plain": [
       "{'get_10k_item1_from_symbol': {'name': 'get_10k_item1_from_symbol',\n",
       "  'description': \"Given a stock symbol, get item 1 of the company's latest 10-K annual report filing.\",\n",
       "  'openapi_path': None,\n",
       "  'callable': <function __main__.get_10k_item1_from_symbol(symbol)>,\n",
       "  'parameters': {'symbol': {'type': 'string',\n",
       "    'description': 'The symbol to get the 10-K item 1 for'}},\n",
       "  'example_parameters': [{'symbol': 'MSFT'}],\n",
       "  'tooldict': {'type': 'function',\n",
       "   'function': {'name': 'get_10k_item1_from_symbol',\n",
       "    'description': \"Given a stock symbol, get item 1 of the company's latest 10-K annual report filing.\",\n",
       "    'parameters': {'type': 'object',\n",
       "     'properties': {'symbol': {'type': 'string',\n",
       "       'description': 'The symbol to get the 10-K item 1 for'}},\n",
       "     'required': ['symbol']}}}}}"
      ]
     },
     "execution_count": 31,
     "metadata": {},
     "output_type": "execute_result"
    }
   ],
   "source": [
    "tools"
   ]
  },
  {
   "cell_type": "code",
   "execution_count": 32,
   "id": "52296f7e-8ac4-4a13-b6f2-549335464acb",
   "metadata": {},
   "outputs": [
    {
     "name": "stdout",
     "output_type": "stream",
     "text": [
      "Choice(finish_reason='tool_calls', index=0, logprobs=None, message=ChatCompletionMessage(content=None, role='assistant', function_call=None, tool_calls=[ChatCompletionMessageToolCall(id='call_EMzUsZ9HB3lI0c0xVwca9dZC', function=Function(arguments='{\"symbol\":\"MSFT\"}', name='get_10k_item1_from_symbol'), type='function')]))\n",
      "[ChatCompletionMessageToolCall(id='call_EMzUsZ9HB3lI0c0xVwca9dZC', function=Function(arguments='{\"symbol\":\"MSFT\"}', name='get_10k_item1_from_symbol'), type='function')]\n",
      "get_10k_item1_from_symbol({'symbol': 'MSFT'}) -> Note About Forward-Looking Statements\n",
      "This report includes estimates, projections, statements relati...\n",
      "Choice(finish_reason='stop', index=0, logprobs=None, message=ChatCompletionMessage(content='### Summary of Item 1 from the Latest Microsoft 10-K Annual Report\\n\\n**General Overview:**\\nMicrosoft Corporation is a leading technology company with a mission to empower every person and organization on the planet to achieve more. It was founded in 1975 and continues to create a range of products from infrastructure and data solutions to consumer and commercial markets. \\n\\n**Core Offerings:**\\n- **Software and Cloud Services:** This includes operating systems like Windows, and cloud solutions through Microsoft Azure.\\n- **Productivity Tools and Applications:** Products such as Microsoft Office 365, Dynamics 365, and LinkedIn.\\n- **Devices and Gaming:** Through its Surface line of tablets and PCs, Xbox hardware, and gaming services.\\n- **AI and Consumer Services:** Integration of AI into products like Teams, Outlook, and Bing, aiming to simplify and optimize both personal and professional tas...\n"
     ]
    },
    {
     "data": {
      "text/markdown": [
       "### Summary of Item 1 from the Latest Microsoft 10-K Annual Report\n",
       "\n",
       "**General Overview:**\n",
       "Microsoft Corporation is a leading technology company with a mission to empower every person and organization on the planet to achieve more. It was founded in 1975 and continues to create a range of products from infrastructure and data solutions to consumer and commercial markets. \n",
       "\n",
       "**Core Offerings:**\n",
       "- **Software and Cloud Services:** This includes operating systems like Windows, and cloud solutions through Microsoft Azure.\n",
       "- **Productivity Tools and Applications:** Products such as Microsoft Office 365, Dynamics 365, and LinkedIn.\n",
       "- **Devices and Gaming:** Through its Surface line of tablets and PCs, Xbox hardware, and gaming services.\n",
       "- **AI and Consumer Services:** Integration of AI into products like Teams, Outlook, and Bing, aiming to simplify and optimize both personal and professional tasks.\n",
       "\n",
       "**Strategic Ambitions:**\n",
       "1. **Reinvent Productivity and Business Processes:** Enhancing tools like Microsoft 365 Office suite, Teams for collaboration, and Dynamics 365 for business solutions.\n",
       "2. **Build Intelligent Cloud and Intelligent Edge Platform:** Leveraging AI and cloud infrastructure to transform business operations for scale and efficiency.\n",
       "3. **Create More Personal Computing:** With innovations in Windows 11, Xbox, and developing more intuitive and engaging ways for users to interact with technology.\n",
       "\n",
       "**Corporate Initiatives:**\n",
       "- **Sustainability:** Microsoft aims to be carbon negative by 2030, having signed new agreements to increase its portfolio of carbon-free energy and undertaken water replenishment projects.\n",
       "- **Racial Equity:** Committed to addressing racial injustice by strengthening communities, engaging ecosystems and increasing representation within Microsoft.\n",
       "- **Digital Skills:** Through initiatives aimed at enhancing digital skills and addressing cybersecurity workforce shortages.\n",
       "\n",
       "**Human Capital and Workforce:**\n",
       "- **Diversity and Inclusion:** Microsoft prioritizes creating an inclusive environment and has set goals to increase representation among minority groups within the organization.\n",
       "- **Employee Wellbeing:** Offering numerous physical, emotional, and financial wellness programs alongside hybrid work flexibility.\n",
       "- **Learning and Development:** Providing extensive training opportunities to ensure continuous learning and growth among employees.\n",
       "\n",
       "**Operational Segments:**\n",
       "1. **Productivity and Business Processes:** Includes products like Office Commercial and Consumer, LinkedIn, and Dynamics.\n",
       "2. **Intelligent Cloud:** Serves public, private, and hybrid server products and cloud services including Azure.\n",
       "3. **More Personal Computing:** Involves products such as Windows, Surface devices, gaming through Xbox, and search and news advertising through Bing and Microsoft News.\n",
       "\n",
       "**Market and Competitive Landscape:**\n",
       "Microsoft faces significant competition from specialized firms and diversified global companies across all its product and service lines. The company competes on various fronts including cloud services, productivity tools, AI, and personal computing devices.\n",
       "\n",
       "**Future Opportunity:**\n",
       "Continued focus on digital transformation, cloud computing, AI integration, and sustainable growth. Aims to leverage a broad portfolio to empower people, improve customer experiences, and maintain a competitive edge in various technology sectors. \n",
       "\n",
       "**Corporate Social Responsibility:**\n",
       "Commitment to sustainability, racial equity, digital skills, and social impact worldwide.\n",
       "\n",
       "Microsoft’s 10-K item 1 encapsulates its large-scale operational scope, strategic aspirations, competitive positioning, and corporate responsibility initiatives, aligning them with a mission to drive both innovation and positive societal impact."
      ],
      "text/plain": [
       "<IPython.core.display.Markdown object>"
      ]
     },
     "metadata": {},
     "output_type": "display_data"
    }
   ],
   "source": [
    "user_message = \"Please summarize item 1 from the latest MSFT annual report\"\n",
    "agent_query(user_message, tools=tools, verbose=True)\n"
   ]
  },
  {
   "cell_type": "code",
   "execution_count": 33,
   "id": "3bd38f0e-7a26-4f11-8ff1-35279b01b36c",
   "metadata": {},
   "outputs": [],
   "source": [
    "# query search using Sec-api\n",
    "# queryApi = QueryApi(api_key=os.environ['SEC_API_KEY'])\n",
    "\n",
    "# query = {\n",
    "#   \"query\": \"ticker:TSLA AND filedAt:[2024-01-01 TO 2024-12-31] AND formType:\\\"10-K\\\"\",\n",
    "#   \"from\": \"0\",\n",
    "#   \"size\": \"100\",\n",
    "#   \"sort\": [{ \"filedAt\": { \"order\": \"desc\" } }]\n",
    "# }\n",
    "\n",
    "# response = queryApi.get_filings(query)\n",
    "\n",
    "# print(response)\n",
    "# extractorApi = ExtractorApi(os.getenv('SEC_API_KEY'))\n",
    "# url_10k = 'https://www.sec.gov/Archives/edgar/data/1318605/000162828024002390/tsla-20231231.htm'\n",
    "# item_1_text = extractorApi.get_section(url_10k, \"1\", \"text\")\n",
    "# print(item_1_text)\n",
    "\n",
    "# 10-K example\n",
    "# url_10k = \"https://www.sec.gov/Archives/edgar/data/1318605/000156459021004599/tsla-10k_20231231.htm\"\n",
    "\n",
    "# item_1A_text = extractorApi.get_section(url_10k, \"1A\", \"text\")\n",
    "# item_1_text = extractorApi.get_section(url_10k, \"1\", \"text\")\n",
    "\n",
    "# item_7_html = extractorApi.get_section(url_10k, \"7\", \"html\")\n",
    "\n",
    "# 10-Q example\n",
    "# url_10q = \"https://www.sec.gov/Archives/edgar/data/1318605/000095017022006034/tsla-20220331.htm\"\n",
    "\n",
    "# part2_item_1A_text = extractorApi.get_section(url_10q, \"part2item1a\", \"text\")\n",
    "\n",
    "# 8-K example\n",
    "# url_8k = \"https://www.sec.gov/Archives/edgar/data/66600/000149315222016468/form8-k.htm\"\n",
    "\n"
   ]
  },
  {
   "cell_type": "markdown",
   "id": "6bb88565-e7d2-45fa-bd9e-ec2ce541617d",
   "metadata": {},
   "source": [
    "# Add more OpenBB tools\n",
    "Map OpenBB functions to OpenAI tools"
   ]
  },
  {
   "cell_type": "code",
   "execution_count": 34,
   "id": "1bff06a3-e0d0-4207-90af-cf13146dc2f7",
   "metadata": {},
   "outputs": [],
   "source": [
    "# TODO:\n",
    "\n",
    "# use kwargs argument, use tool class for bespoke funcs , don't use class var sted tools dict, \n",
    "\n",
    "# check example_str individually \n",
    "\n",
    "# check system prompt\n",
    "\n",
    "# check additional prompt improvements\n",
    "\n",
    "# make conversational ... return multiple symbols and have it clarify\n",
    "\n",
    "# add start_date and end_date for historical queries\n",
    "\n",
    "# use assistants API\n"
   ]
  },
  {
   "cell_type": "code",
   "execution_count": 35,
   "id": "d9fe9e8a-3956-4cca-bbc1-b2131ec4a954",
   "metadata": {},
   "outputs": [
    {
     "data": {
      "text/plain": [
       "\"{'openapi': '3.1.0', 'info': {'title': 'OpenBB Platform API', 'description': 'This is the OpenBB Platform API.', 'termsOfService': 'http://example.com/terms/', 'contact': {'name': 'OpenBB Team', 'url': 'https://openbb.co/', 'email': 'hello@openbb.co'}, 'license': {'name': 'MIT', 'url': 'https://github.com/OpenBB-finance/OpenBBTerminal/blob/develop/LICENSE'}, 'version': '1'}, 'servers': [{'url': 'http://localhost:8000', 'description': 'Local OpenBB development server'}], 'paths': {'/api/v1/commodity/lbma_fixing': {'get': {'tags': ['commodity'], 'summary': 'Lbma Fixing', 'description': 'Daily LBMA Fixing Prices in USD/EUR/GBP.', 'operationId': 'commodity_lbma_fixing', 'parameters': [{'name': 'provider', 'in': 'query', 'required': False, 'schema': {'enum': ['nasdaq'], 'const': 'nasdaq', 'type': 'string', 'default': 'nasdaq', 'title': 'Provider'}}, {'name': 'asset', 'in': 'query', 'required': False, 'schema': {'enum': ['gold', 'silver'], 'type': 'string', 'description': 'The metal to get price fixing rates for.', 'default': 'gold', 'title': 'Asset'}, 'description': 'The metal to get price fixing rates for.'}, {'name': 'start_date', 'in': 'query', 'required': False, 'schema': {'anyOf': [{'type': 'string', 'format': 'date'}, {'type': 'null'}], 'description': 'Start date of the data, in YYYY-MM-DD format.', 'title': 'Start Date'}, 'description': 'Start date of the data, in YYYY-MM-DD format.'}, {'name': 'end_date', 'in': 'query', 'required': False, 'schema': {'anyOf': [{'type': 'string', 'format': 'date'}, {'type': 'null'}], 'description': 'Start date of the data, in YYYY-MM-DD format.', 'title': 'End Date'}, 'description': 'Start date of the data, in YYYY-MM-DD format.'}, {'name': 'transform', 'in': 'query', 'required': False, 'schema': {'enum': ['diff', 'rdiff', 'cumul', 'normalize', None], 'description': 'Transform the data as difference, percent change, cumulative, or normalize.', 'title': 'Transform'}, 'description': 'Transform the data as difference, percent change, \""
      ]
     },
     "execution_count": 35,
     "metadata": {},
     "output_type": "execute_result"
    }
   ],
   "source": [
    "# load the OpenAPI / swagger spec from\n",
    "# http://127.0.0.1:8000/openapi.json\n",
    "with open(\"openapi.json\", 'r') as file:\n",
    "    data = json.load(file)\n",
    "\n",
    "str(data)[:2000]"
   ]
  },
  {
   "cell_type": "code",
   "execution_count": 36,
   "id": "b0ea067a-3b7e-4c50-aa87-c1a4baf07001",
   "metadata": {},
   "outputs": [
    {
     "name": "stdout",
     "output_type": "stream",
     "text": [
      "/api/v1/equity/calendar/ipo\n",
      "/api/v1/equity/calendar/dividend\n",
      "/api/v1/equity/calendar/splits\n",
      "/api/v1/equity/calendar/earnings\n",
      "/api/v1/equity/compare/peers\n",
      "/api/v1/equity/compare/groups\n",
      "/api/v1/equity/estimates/price_target\n",
      "/api/v1/equity/estimates/historical\n",
      "/api/v1/equity/estimates/consensus\n",
      "/api/v1/equity/estimates/analyst_search\n",
      "/api/v1/equity/estimates/forward_sales\n",
      "/api/v1/equity/estimates/forward_eps\n",
      "/api/v1/equity/darkpool/otc\n",
      "/api/v1/equity/discovery/gainers\n",
      "/api/v1/equity/discovery/losers\n",
      "/api/v1/equity/discovery/active\n",
      "/api/v1/equity/discovery/undervalued_large_caps\n",
      "/api/v1/equity/discovery/undervalued_growth\n",
      "/api/v1/equity/discovery/aggressive_small_caps\n",
      "/api/v1/equity/discovery/growth_tech\n",
      "/api/v1/equity/discovery/top_retail\n",
      "/api/v1/equity/discovery/upcoming_release_days\n",
      "/api/v1/equity/discovery/filings\n",
      "/api/v1/equity/fundamental/multiples\n",
      "/api/v1/equity/fundamental/balance\n",
      "/api/v1/equity/fundamental/balance_growth\n",
      "/api/v1/equity/fundamental/cash\n",
      "/api/v1/equity/fundamental/reported_financials\n",
      "/api/v1/equity/fundamental/cash_growth\n",
      "/api/v1/equity/fundamental/dividends\n",
      "/api/v1/equity/fundamental/historical_eps\n",
      "/api/v1/equity/fundamental/employee_count\n",
      "/api/v1/equity/fundamental/search_attributes\n",
      "/api/v1/equity/fundamental/latest_attributes\n",
      "/api/v1/equity/fundamental/historical_attributes\n",
      "/api/v1/equity/fundamental/income\n",
      "/api/v1/equity/fundamental/income_growth\n",
      "/api/v1/equity/fundamental/metrics\n",
      "/api/v1/equity/fundamental/management\n",
      "/api/v1/equity/fundamental/management_compensation\n",
      "/api/v1/equity/fundamental/overview\n",
      "/api/v1/equity/fundamental/ratios\n",
      "/api/v1/equity/fundamental/revenue_per_geography\n",
      "/api/v1/equity/fundamental/revenue_per_segment\n",
      "/api/v1/equity/fundamental/filings\n",
      "/api/v1/equity/fundamental/historical_splits\n",
      "/api/v1/equity/fundamental/transcript\n",
      "/api/v1/equity/fundamental/trailing_dividend_yield\n",
      "/api/v1/equity/ownership/major_holders\n",
      "/api/v1/equity/ownership/institutional\n",
      "/api/v1/equity/ownership/insider_trading\n",
      "/api/v1/equity/ownership/share_statistics\n",
      "/api/v1/equity/ownership/form_13f\n",
      "/api/v1/equity/price/quote\n",
      "/api/v1/equity/price/nbbo\n",
      "/api/v1/equity/price/historical\n",
      "/api/v1/equity/price/performance\n",
      "/api/v1/equity/shorts/fails_to_deliver\n",
      "/api/v1/equity/shorts/short_volume\n",
      "/api/v1/equity/shorts/short_interest\n",
      "/api/v1/equity/search\n",
      "/api/v1/equity/screener\n",
      "/api/v1/equity/profile\n",
      "/api/v1/equity/market_snapshots\n",
      "/api/v1/etf/equity_exposure\n"
     ]
    }
   ],
   "source": [
    "# list all the equity functions\n",
    "for path_str, fn_json in data['paths'].items():\n",
    "    if path_str.find('equity') != -1:\n",
    "        print(path_str)\n"
   ]
  },
  {
   "cell_type": "code",
   "execution_count": 37,
   "id": "137bc44a-9bea-42c4-b6e7-20cc0c17e2e2",
   "metadata": {},
   "outputs": [
    {
     "data": {
      "text/plain": [
       "{'get': {'tags': ['equity'],\n",
       "  'summary': 'Search',\n",
       "  'description': 'Search for stock symbol, CIK, LEI, or company name.',\n",
       "  'operationId': 'equity_search',\n",
       "  'parameters': [{'name': 'provider',\n",
       "    'in': 'query',\n",
       "    'required': True,\n",
       "    'schema': {'enum': ['cboe', 'intrinio', 'nasdaq', 'sec', 'tmx', 'tradier'],\n",
       "     'type': 'string',\n",
       "     'title': 'Provider'}},\n",
       "   {'name': 'query',\n",
       "    'in': 'query',\n",
       "    'required': False,\n",
       "    'schema': {'type': 'string',\n",
       "     'description': 'Search query.',\n",
       "     'default': '',\n",
       "     'title': 'Query'},\n",
       "    'description': 'Search query.'},\n",
       "   {'name': 'is_symbol',\n",
       "    'in': 'query',\n",
       "    'required': False,\n",
       "    'schema': {'type': 'boolean',\n",
       "     'description': 'Whether to search by ticker symbol.',\n",
       "     'default': False,\n",
       "     'title': 'Is Symbol'},\n",
       "    'description': 'Whether to search by ticker symbol.'},\n",
       "   {'name': 'use_cache',\n",
       "    'in': 'query',\n",
       "    'required': False,\n",
       "    'schema': {'anyOf': [{'type': 'boolean'}, {'type': 'null'}],\n",
       "     'description': 'Whether to use the cache or not.',\n",
       "     'default': True,\n",
       "     'title': 'Use Cache'},\n",
       "    'description': 'Whether to use the cache or not.'},\n",
       "   {'name': 'active',\n",
       "    'in': 'query',\n",
       "    'required': False,\n",
       "    'schema': {'anyOf': [{'type': 'boolean'}, {'type': 'null'}],\n",
       "     'title': 'intrinio',\n",
       "     'description': 'When true, return companies that are actively traded (having stock prices within the past 14 days). When false, return companies that are not actively traded or never have been traded. (provider: intrinio)',\n",
       "     'default': True},\n",
       "    'description': 'When true, return companies that are actively traded (having stock prices within the past 14 days). When false, return companies that are not actively traded or never have been traded. (provider: intrinio)'},\n",
       "   {'name': 'limit',\n",
       "    'in': 'query',\n",
       "    'required': False,\n",
       "    'schema': {'anyOf': [{'type': 'integer'}, {'type': 'null'}],\n",
       "     'title': 'intrinio',\n",
       "     'description': 'The number of data entries to return. (provider: intrinio)',\n",
       "     'default': 10000},\n",
       "    'description': 'The number of data entries to return. (provider: intrinio)'},\n",
       "   {'name': 'is_etf',\n",
       "    'in': 'query',\n",
       "    'required': False,\n",
       "    'schema': {'anyOf': [{'type': 'boolean'}, {'type': 'null'}],\n",
       "     'title': 'nasdaq',\n",
       "     'description': 'If True, returns ETFs. (provider: nasdaq)'},\n",
       "    'description': 'If True, returns ETFs. (provider: nasdaq)'},\n",
       "   {'name': 'is_fund',\n",
       "    'in': 'query',\n",
       "    'required': False,\n",
       "    'schema': {'type': 'boolean',\n",
       "     'title': 'sec',\n",
       "     'description': 'Whether to direct the search to the list of mutual funds and ETFs. (provider: sec)',\n",
       "     'default': False},\n",
       "    'description': 'Whether to direct the search to the list of mutual funds and ETFs. (provider: sec)'}],\n",
       "  'responses': {'200': {'description': 'Successful Response',\n",
       "    'content': {'application/json': {'schema': {'$ref': '#/components/schemas/OBBject_EquitySearch'}}}},\n",
       "   '404': {'description': 'Not found'},\n",
       "   '400': {'description': 'No Results Found',\n",
       "    'content': {'application/json': {'schema': {'$ref': '#/components/schemas/OpenBBErrorResponse'}}}},\n",
       "   '500': {'description': 'Internal Error',\n",
       "    'content': {'application/json': {'schema': {'$ref': '#/components/schemas/OpenBBErrorResponse'}}}},\n",
       "   '422': {'description': 'Validation Error',\n",
       "    'content': {'application/json': {'schema': {'$ref': '#/components/schemas/HTTPValidationError'}}}}},\n",
       "  'model': 'EquitySearch',\n",
       "  'examples': [{'scope': 'api',\n",
       "    'parameters': {'provider': 'intrinio'},\n",
       "    'provider': 'intrinio'},\n",
       "   {'scope': 'api',\n",
       "    'parameters': {'query': 'AAPL',\n",
       "     'is_symbol': 0.0,\n",
       "     'use_cache': 1.0,\n",
       "     'provider': 'nasdaq'},\n",
       "    'provider': 'nasdaq'}]}}"
      ]
     },
     "execution_count": 37,
     "metadata": {},
     "output_type": "execute_result"
    }
   ],
   "source": [
    "data['paths']['/api/v1/equity/search']\n"
   ]
  },
  {
   "cell_type": "code",
   "execution_count": 38,
   "id": "e5bc2548-b49f-48e6-9e09-3cde7d7a0151",
   "metadata": {},
   "outputs": [],
   "source": [
    "def get_equity_search_symbol(search_str):\n",
    "    \"\"\"Given a search string, get the stock symbol of the top company whose name best matches the search string.\n",
    "    \"\"\"\n",
    "    retval = None\n",
    "    try:\n",
    "        obj = obb.equity.search(search_str)\n",
    "        if obj and obj.results:\n",
    "            d = json.loads(obj.json())\n",
    "            retval = d['results'][0]\n",
    "    except Exception as exc:\n",
    "        print(exc)\n",
    "    return str(retval)\n",
    "\n",
    "fn_metadata = {\n",
    "    \"name\": \"get_equity_search_symbol\",\n",
    "    \"description\": \"Given a search string, get the stock symbol of the top company whose name best matches the search string.\",\n",
    "    \"openapi_path\" : '/api/v1/equity/search',\n",
    "    \"callable\": get_equity_search_symbol,\n",
    "    \"parameters\": {\n",
    "        \"search_str\": {\n",
    "            \"type\": \"string\",\n",
    "            \"description\": \"The search string to match to the stock symbol.\"\n",
    "            }\n",
    "        },\n",
    "    \"example_parameters\": [{\n",
    "        \"search_str\": \"Broadcom\",\n",
    "    }],\n",
    "}\n",
    "\n",
    "tools[fn_metadata[\"name\"]] = fn_metadata\n",
    "tools[fn_metadata[\"name\"]][\"example_str\"] = create_example_code(fn_metadata)\n",
    "tools[fn_metadata[\"name\"]][\"tooldict\"] = make_tool_dict(fn_metadata)\n"
   ]
  },
  {
   "cell_type": "code",
   "execution_count": 39,
   "id": "76dac714-dea8-4f9c-a532-07f119b06b19",
   "metadata": {},
   "outputs": [
    {
     "data": {
      "text/plain": [
       "{'name': 'get_equity_search_symbol',\n",
       " 'description': 'Given a search string, get the stock symbol of the top company whose name best matches the search string.',\n",
       " 'openapi_path': '/api/v1/equity/search',\n",
       " 'callable': <function __main__.get_equity_search_symbol(search_str)>,\n",
       " 'parameters': {'search_str': {'type': 'string',\n",
       "   'description': 'The search string to match to the stock symbol.'}},\n",
       " 'example_parameters': [{'search_str': 'Broadcom'}],\n",
       " 'example_str': 'get_equity_search_symbol(search_str=\"Broadcom\") -> {\\'symbol\\': \\'AVGO\\', \\'name\\': \\'BROADCOM INC COM\\', \\'dpm_name\\': \\'Susquehanna Securities, LLC\\', \\'post_station\\': \\'4/1\\'}',\n",
       " 'tooldict': {'type': 'function',\n",
       "  'function': {'name': 'get_equity_search_symbol',\n",
       "   'description': 'Given a search string, get the stock symbol of the top company whose name best matches the search string.',\n",
       "   'parameters': {'type': 'object',\n",
       "    'properties': {'search_str': {'type': 'string',\n",
       "      'description': 'The search string to match to the stock symbol.'}},\n",
       "    'required': ['search_str']}}}}"
      ]
     },
     "execution_count": 39,
     "metadata": {},
     "output_type": "execute_result"
    }
   ],
   "source": [
    "tools['get_equity_search_symbol']"
   ]
  },
  {
   "cell_type": "code",
   "execution_count": 40,
   "id": "c9e2f9e5-3843-4cfd-9492-30d2d7cb4316",
   "metadata": {},
   "outputs": [
    {
     "name": "stdout",
     "output_type": "stream",
     "text": [
      "Choice(finish_reason='tool_calls', index=0, logprobs=None, message=ChatCompletionMessage(content=None, role='assistant', function_call=None, tool_calls=[ChatCompletionMessageToolCall(id='call_S30RwpPJzKG2rbuv1IDdjfY0', function=Function(arguments='{\"search_str\":\"Salesforce\"}', name='get_equity_search_symbol'), type='function')]))\n",
      "[ChatCompletionMessageToolCall(id='call_S30RwpPJzKG2rbuv1IDdjfY0', function=Function(arguments='{\"search_str\":\"Salesforce\"}', name='get_equity_search_symbol'), type='function')]\n",
      "get_equity_search_symbol({'search_str': 'Salesforce'}) -> {'symbol': 'CRM', 'name': 'SALESFORCE INC COM', 'dpm_name': 'Citadel Securities LLC', 'post_station'...\n",
      "Choice(finish_reason='stop', index=0, logprobs=None, message=ChatCompletionMessage(content='The stock symbol for Salesforce is CRM.', role='assistant', function_call=None, tool_calls=None))\n"
     ]
    },
    {
     "data": {
      "text/markdown": [
       "The stock symbol for Salesforce is CRM."
      ],
      "text/plain": [
       "<IPython.core.display.Markdown object>"
      ]
     },
     "metadata": {},
     "output_type": "display_data"
    }
   ],
   "source": [
    "agent_query(\"What is the stock symbol for Salesforce?\", tools=tools, verbose=True)\n"
   ]
  },
  {
   "cell_type": "code",
   "execution_count": 41,
   "id": "89d587d2-7c8e-4edb-a855-d04e184afb3b",
   "metadata": {},
   "outputs": [
    {
     "name": "stdout",
     "output_type": "stream",
     "text": [
      "Choice(finish_reason='tool_calls', index=0, logprobs=None, message=ChatCompletionMessage(content=None, role='assistant', function_call=None, tool_calls=[ChatCompletionMessageToolCall(id='call_YM64jXgY4PqbYthJhq6hs4CE', function=Function(arguments='{\"search_str\":\"Microsoft\"}', name='get_equity_search_symbol'), type='function')]))\n",
      "[ChatCompletionMessageToolCall(id='call_YM64jXgY4PqbYthJhq6hs4CE', function=Function(arguments='{\"search_str\":\"Microsoft\"}', name='get_equity_search_symbol'), type='function')]\n",
      "get_equity_search_symbol({'search_str': 'Microsoft'}) -> {'symbol': 'MSFT', 'name': 'MICROSOFT CORP COM', 'dpm_name': 'Susquehanna Securities, LLC', 'post_st...\n",
      "Choice(finish_reason='tool_calls', index=0, logprobs=None, message=ChatCompletionMessage(content=None, role='assistant', function_call=None, tool_calls=[ChatCompletionMessageToolCall(id='call_yKjfkfMFk96IwhnlFJ3hHOuh', function=Function(arguments='{\"symbol\":\"MSFT\"}', name='get_10k_item1_from_symbol'), type='function')]))\n",
      "[ChatCompletionMessageToolCall(id='call_yKjfkfMFk96IwhnlFJ3hHOuh', function=Function(arguments='{\"symbol\":\"MSFT\"}', name='get_10k_item1_from_symbol'), type='function')]\n",
      "get_10k_item1_from_symbol({'symbol': 'MSFT'}) -> Note About Forward-Looking Statements\n",
      "This report includes estimates, projections, statements relati...\n",
      "Choice(finish_reason='stop', index=0, logprobs=None, message=ChatCompletionMessage(content=\"Item 1 from the 10-K annual report for Microsoft provides comprehensive information about the company’s mission, business segments, products, services, and market strategies. Highlights include:\\n\\n1. **Company Mission**: Microsoft's mission is to empower every person and every organization on the planet to achieve more.\\n\\n2. **AI and Innovation**: Microsoft is significantly investing in AI, aiming to incorporate next-generation AI technologies across its product lines, including Microsoft Teams, Outlook, Bing, and Xbox.\\n\\n3. **Cloud Services**: The company emphasizes its comprehensive array of cloud services encompassing Azure, which aims to provide scalable and secure cloud solutions. Investments in high-performance and sustainable computing, and partnerships like the one with OpenAI, are pivotal.\\n\\n4. **Productivity & Business Processes**: This segment includes Office 365, Dynamics 365, Li...\n"
     ]
    },
    {
     "data": {
      "text/markdown": [
       "Item 1 from the 10-K annual report for Microsoft provides comprehensive information about the company’s mission, business segments, products, services, and market strategies. Highlights include:\n",
       "\n",
       "1. **Company Mission**: Microsoft's mission is to empower every person and every organization on the planet to achieve more.\n",
       "\n",
       "2. **AI and Innovation**: Microsoft is significantly investing in AI, aiming to incorporate next-generation AI technologies across its product lines, including Microsoft Teams, Outlook, Bing, and Xbox.\n",
       "\n",
       "3. **Cloud Services**: The company emphasizes its comprehensive array of cloud services encompassing Azure, which aims to provide scalable and secure cloud solutions. Investments in high-performance and sustainable computing, and partnerships like the one with OpenAI, are pivotal.\n",
       "\n",
       "4. **Productivity & Business Processes**: This segment includes Office 365, Dynamics 365, LinkedIn, and Microsoft 365. Microsoft aims to drive productivity and collaboration through AI-enhanced tools, hybrid solutions, and cloud-based services.\n",
       "\n",
       "5. **Intelligent Cloud**: Involves server products, cloud services, Azure AI, and enterprise services. Microsoft focuses on addressing enterprise challenges with cloud efficiency, security, and scalability.\n",
       "\n",
       "6. **More Personal Computing**: Encompasses Windows, surface devices, Xbox gaming, and Bing. The objective is to deliver a personal computing experience that is secure and performance-oriented.\n",
       "\n",
       "7. **Sustainability and Social Responsibility**: Microsoft is dedicated to becoming carbon negative, water positive, and zero waste by 2030. It also aims to improve digital skills, address racial inequities, and support cybersecurity education.\n",
       "\n",
       "8. **Human Capital**: Microsoft aims to create an inclusive and thriving work environment for its approximately 221,000 full-time employees globally. This includes diverse hiring, pay equity, and comprehensive wellbeing programs.\n",
       "\n",
       "In essence, Microsoft positions itself at the forefront of industry innovation through extensive AI integration, cloud services expansion, and a diverse product ecosystem while committing to social and environmental goals."
      ],
      "text/plain": [
       "<IPython.core.display.Markdown object>"
      ]
     },
     "metadata": {},
     "output_type": "display_data"
    }
   ],
   "source": [
    "# agent is able to first get symbol, then get annual report for symbol \n",
    "agent_query(\"What is item 1 from the 10k annual report for Microsoft?\", tools=tools, verbose=True)\n"
   ]
  },
  {
   "cell_type": "code",
   "execution_count": 42,
   "id": "8115c67b-db79-42da-b4d3-6ad9885c6aa6",
   "metadata": {},
   "outputs": [],
   "source": [
    "tool = BB_agent_tool(\n",
    "    name=\"get_quote_json\",\n",
    "    description=\"Given a stock symbol, get the latest market data quote for the stock in JSON format.\",\n",
    "    openapi_path=\"/api/v1/equity/price/quote\",\n",
    "    parameters={\n",
    "        \"symbol\": {\n",
    "            \"type\": \"string\",\n",
    "            \"description\": \"The stock symbol.\"\n",
    "        }\n",
    "        },\n",
    "    example_parameter_values=[{\n",
    "        \"symbol\": \"NVDA\",\n",
    "    }],\n",
    ")\n"
   ]
  },
  {
   "cell_type": "code",
   "execution_count": 43,
   "id": "b3621a25-080b-4e03-81a0-986b176aa246",
   "metadata": {},
   "outputs": [],
   "source": [
    "tools[tool.name]=tool.make_metadata()\n"
   ]
  },
  {
   "cell_type": "code",
   "execution_count": 44,
   "id": "cb1503bd-4323-453e-9405-22f1eb65f45d",
   "metadata": {},
   "outputs": [
    {
     "data": {
      "text/plain": [
       "{'get_10k_item1_from_symbol': {'name': 'get_10k_item1_from_symbol',\n",
       "  'description': \"Given a stock symbol, get item 1 of the company's latest 10-K annual report filing.\",\n",
       "  'openapi_path': None,\n",
       "  'callable': <function __main__.get_10k_item1_from_symbol(symbol)>,\n",
       "  'parameters': {'symbol': {'type': 'string',\n",
       "    'description': 'The symbol to get the 10-K item 1 for'}},\n",
       "  'example_parameters': [{'symbol': 'MSFT'}],\n",
       "  'tooldict': {'type': 'function',\n",
       "   'function': {'name': 'get_10k_item1_from_symbol',\n",
       "    'description': \"Given a stock symbol, get item 1 of the company's latest 10-K annual report filing.\",\n",
       "    'parameters': {'type': 'object',\n",
       "     'properties': {'symbol': {'type': 'string',\n",
       "       'description': 'The symbol to get the 10-K item 1 for'}},\n",
       "     'required': ['symbol']}}}},\n",
       " 'get_equity_search_symbol': {'name': 'get_equity_search_symbol',\n",
       "  'description': 'Given a search string, get the stock symbol of the top company whose name best matches the search string.',\n",
       "  'openapi_path': '/api/v1/equity/search',\n",
       "  'callable': <function __main__.get_equity_search_symbol(search_str)>,\n",
       "  'parameters': {'search_str': {'type': 'string',\n",
       "    'description': 'The search string to match to the stock symbol.'}},\n",
       "  'example_parameters': [{'search_str': 'Broadcom'}],\n",
       "  'example_str': 'get_equity_search_symbol(search_str=\"Broadcom\") -> {\\'symbol\\': \\'AVGO\\', \\'name\\': \\'BROADCOM INC COM\\', \\'dpm_name\\': \\'Susquehanna Securities, LLC\\', \\'post_station\\': \\'4/1\\'}',\n",
       "  'tooldict': {'type': 'function',\n",
       "   'function': {'name': 'get_equity_search_symbol',\n",
       "    'description': 'Given a search string, get the stock symbol of the top company whose name best matches the search string.',\n",
       "    'parameters': {'type': 'object',\n",
       "     'properties': {'search_str': {'type': 'string',\n",
       "       'description': 'The search string to match to the stock symbol.'}},\n",
       "     'required': ['search_str']}}}},\n",
       " 'get_quote_json': {'name': 'get_quote_json',\n",
       "  'description': 'Given a stock symbol, get the latest market data quote for the stock in JSON format.',\n",
       "  'openapi_path': '/api/v1/equity/price/quote',\n",
       "  'callable': <__main__.BB_agent_tool at 0x323b6c510>,\n",
       "  'parameters': {'symbol': {'type': 'string',\n",
       "    'description': 'The stock symbol.'}},\n",
       "  'example_parameters': [{'symbol': 'NVDA'}],\n",
       "  'tooldict': {'type': 'function',\n",
       "   'function': {'name': 'get_quote_json',\n",
       "    'description': 'Given a stock symbol, get the latest market data quote for the stock in JSON format.',\n",
       "    'parameters': {'type': 'object',\n",
       "     'properties': {'symbol': {'type': 'string',\n",
       "       'description': 'The stock symbol.'}},\n",
       "     'required': ['symbol']}}},\n",
       "  'example_str': 'get_quote_json(symbol=\"NVDA\") -> id=\\'06642dcb-bed8-7efb-8000-69999a570ef5\\' results=[CboeEquityQuoteData(symbol=NVDA, asset_type=stock, name=NVIDIA CORPORATION COM, exchange=None, bid=902.55, bid_size=1, bid_exchange=None, ask=902.8, ask_size=2, ask_exchange=None, quote_conditions=None, quote_indicators=None, sales_conditions=None, sequence_number=None, market_center=None, participant_timestamp=None, trf_timestamp=None, sip_timestamp=None, last_price=902.58, last_tick=down, last_size=None, last_timestamp=2024-05-13 15:59:59, open=904.83, high=909.98, low=885.29, close=903.99, volume=28968017, exchange_volume=None, prev_close=903.99, change=5.21, change_percent=0.005763000000000001, year_high=974.0, year_low=280.4599914550781, iv30=0.56413, iv30_change=None, iv30_change_percent=None, iv30_annual_high=0.6712400054931641, hv30_annual_high=0.7542350006103515, iv30_annual_low=0.3138199996948242, hv30_annual_low=0.26787900924682617, iv60_annual_high=0.5873099899291992, hv60_annual_high=0.6172460174560547, iv60_annual_low=0.338489990234375, hv60_annual_low=0.28717899322509766, iv90_annual_high=0.604729995727539, hv90_annual_high=0.5864540100097656, iv90_annual_low=0.36759998321533205, hv90_annual_low=0.3167770004272461)] provider=\\'cboe\\' warnings=None chart=None extra={\\'metadata\\': Metadata\\n\\narguments: {\\'provider_choices\\': {\\'provider\\': \\'cboe\\'}, \\'standard_params\\': {\\'symbol\\': \\'NVDA\\'}, \\'extra_params\\': {}}\\nduration: 322197083\\nroute: /equity/price/quote\\ntimestamp: 2024-05-13 23:38:35.608206}'}}"
      ]
     },
     "execution_count": 44,
     "metadata": {},
     "output_type": "execute_result"
    }
   ],
   "source": [
    "tools"
   ]
  },
  {
   "cell_type": "code",
   "execution_count": 45,
   "id": "dfbb955c-dab6-439a-9694-7c8da2aef680",
   "metadata": {},
   "outputs": [
    {
     "name": "stdout",
     "output_type": "stream",
     "text": [
      "Choice(finish_reason='tool_calls', index=0, logprobs=None, message=ChatCompletionMessage(content=None, role='assistant', function_call=None, tool_calls=[ChatCompletionMessageToolCall(id='call_Do7xBrzaYddHB5yuv3R0By2W', function=Function(arguments='{\"symbol\":\"MRK\"}', name='get_quote_json'), type='function')]))\n",
      "[ChatCompletionMessageToolCall(id='call_Do7xBrzaYddHB5yuv3R0By2W', function=Function(arguments='{\"symbol\":\"MRK\"}', name='get_quote_json'), type='function')]\n",
      "get_quote_json({'symbol': 'MRK'}) -> [{\"symbol\": \"MRK\", \"asset_type\": \"stock\", \"name\": \"MERCK & CO INC COM\", \"exchange\": null, \"bid\": 127...\n",
      "Choice(finish_reason='stop', index=0, logprobs=None, message=ChatCompletionMessage(content=\"As of the close of trading on May 13, 2024, the latest market quote for Merck & Co. Inc. (symbol: MRK) is as follows:\\n\\n- **Last Price:** $129.29 (up tick)\\n- **Bid Price:** $127.44\\n- **Ask Price:** $130.55\\n- **Open Price:** $129.90\\n- **Day's High:** $129.71\\n- **Day's Low:** $128.02\\n- **Previous Close:** $129.29\\n- **Day's Volume:** 7,109,715 shares\\n- **Year High:** $133.10\\n- **Year Low:** $99.14\\n- **30-Day Implied Volatility (IV30):** 15.12%\\n\\nIf you need additional details, please let me know!\", role='assistant', function_call=None, tool_calls=None))\n"
     ]
    },
    {
     "data": {
      "text/markdown": [
       "As of the close of trading on May 13, 2024, the latest market quote for Merck & Co. Inc. (symbol: MRK) is as follows:\n",
       "\n",
       "- **Last Price:** \\\\$129.29 (up tick)\n",
       "- **Bid Price:** \\\\$127.44\n",
       "- **Ask Price:** \\\\$130.55\n",
       "- **Open Price:** \\\\$129.90\n",
       "- **Day's High:** \\\\$129.71\n",
       "- **Day's Low:** \\\\$128.02\n",
       "- **Previous Close:** \\\\$129.29\n",
       "- **Day's Volume:** 7,109,715 shares\n",
       "- **Year High:** \\\\$133.10\n",
       "- **Year Low:** \\\\$99.14\n",
       "- **30-Day Implied Volatility (IV30):** 15.12%\n",
       "\n",
       "If you need additional details, please let me know!"
      ],
      "text/plain": [
       "<IPython.core.display.Markdown object>"
      ]
     },
     "metadata": {},
     "output_type": "display_data"
    }
   ],
   "source": [
    "agent_query(f\"What is the last market quote for symbol {symbol}?\", tools=tools, verbose=True)\n"
   ]
  },
  {
   "cell_type": "code",
   "execution_count": 46,
   "id": "28c4c33a-a15d-4b77-94a6-952f17982bab",
   "metadata": {},
   "outputs": [],
   "source": [
    "tool = BB_agent_tool(\n",
    "    name=\"get_company_profile_json\",\n",
    "    description=\"Given a stock symbol, get general background data about the company such as company name, industry, and sector data in JSON format\",\n",
    "    openapi_path='/api/v1/equity/profile',\n",
    "    parameters={\n",
    "        \"symbol\": {\n",
    "            \"type\": \"string\",\n",
    "            \"description\": \"The stock symbol.\"\n",
    "        }\n",
    "        },\n",
    "    example_parameter_values=[{\n",
    "        \"symbol\": \"NVDA\",\n",
    "    }],\n",
    ")\n",
    "tools[tool.name]=tool.make_metadata()\n"
   ]
  },
  {
   "cell_type": "code",
   "execution_count": 47,
   "id": "43940e93-7b8c-4cf6-9282-6b8fdcfb6095",
   "metadata": {},
   "outputs": [
    {
     "name": "stdout",
     "output_type": "stream",
     "text": [
      "get_company_profile_json({'symbol': 'MRK'}) -> [{\"symbol\": \"MRK\", \"name\": \"Merck & Co Inc\", \"cik\": null, \"cusip\": null, \"isin\": null, \"lei\": null, ...\n"
     ]
    },
    {
     "data": {
      "text/markdown": [
       "Here is a basic company profile for Merck & Co., Inc. (symbol: MRK):\n",
       "\n",
       "- **Company Name**: Merck & Co., Inc.\n",
       "- **Stock Exchange**: NYSE\n",
       "- **Sector**: Healthcare\n",
       "- **Industry Category**: Drug Manufacturers - General\n",
       "- **Segments**: \n",
       "  - **Pharmaceutical**: Human health pharmaceutical and vaccine products.\n",
       "  - **Animal Health**: Pharmaceutical and vaccine products for livestock and companion animals.\n",
       "  - **Other**: Non-reportable segments of healthcare services.\n",
       "- **Description**: Merck & Co., Inc. engages in the provision of health solutions through its prescription medicines, vaccines, biologic therapies, animal health, and consumer care products.\n",
       "- **Founded**: 1891\n",
       "- **Headquarters**: Rahway, NJ, USA\n",
       "- **Employees**: 72,000\n",
       "- **Indexes**: DJIA, S&P 500\n",
       "- **Shares Outstanding**: 2.53B\n",
       "- **Shares Float**: 2.53B\n",
       "- **Short Interest**: 18.75M\n",
       "- **Institutional Ownership**: 78.09%\n",
       "- **Market Cap**: \\\\$327.47B\n",
       "- **Beta**: 0.42\n",
       "- **Upcoming Earnings Date**: April 25 (BMO - Before Market Open)\n",
       "\n",
       "For more information, you might want to check their official website or financial reports."
      ],
      "text/plain": [
       "<IPython.core.display.Markdown object>"
      ]
     },
     "metadata": {},
     "output_type": "display_data"
    }
   ],
   "source": [
    "agent_query(f\"Can you provide a basic company profile of symbol {symbol}\", tools=tools, verbose=False)\n"
   ]
  },
  {
   "cell_type": "code",
   "execution_count": 48,
   "id": "040be374-f8c2-4453-9ded-4abab760db1d",
   "metadata": {},
   "outputs": [],
   "source": [
    "tool = BB_agent_tool(\n",
    "    name=\"get_equity_shorts_short_interest\",\n",
    "    description=\"Given a stock symbol, get data on short volume and days to cover in JSON format.\",\n",
    "    openapi_path='/api/v1/equity/shorts/short_interest',\n",
    "    parameters={\n",
    "        \"symbol\": {\n",
    "            \"type\": \"string\",\n",
    "            \"description\": \"The stock symbol.\"\n",
    "        }\n",
    "        },\n",
    "    example_parameter_values=[{\n",
    "        \"symbol\": \"NVDA\",\n",
    "    }],\n",
    ")\n",
    "tools[tool.name]=tool.make_metadata()\n"
   ]
  },
  {
   "cell_type": "code",
   "execution_count": 49,
   "id": "49d630da-c6b1-4855-acd2-8d35f03292b8",
   "metadata": {},
   "outputs": [
    {
     "name": "stdout",
     "output_type": "stream",
     "text": [
      "get_equity_search_symbol({'search_str': 'MRK'}) -> {'symbol': 'FDT', 'name': 'FIRST TR EXCH TRD ALPHDX FD II DEV MRK EX US', 'dpm_name': 'Belvedere Tra...\n",
      "get_equity_search_symbol({'search_str': 'Merck'}) -> {'symbol': 'MRK', 'name': 'MERCK & CO INC COM', 'dpm_name': 'Wolverine Trading, LLC', 'post_station'...\n",
      "get_equity_shorts_short_interest({'symbol': 'MRK'}) -> [{\"settlement_date\": \"2021-07-15\", \"symbol\": \"MRK\", \"issue_name\": \"Merck & Co., Inc.\", \"market_class...\n"
     ]
    },
    {
     "data": {
      "text/markdown": [
       "Here are the latest statistics on short interest for Merck & Co., Inc. (symbol: MRK):\n",
       "\n",
       "- **Settlement Date:** 2024-04-30\n",
       "- **Current Short Position:** 18,754,018 shares\n",
       "- **Previous Short Position:** 20,429,972 shares\n",
       "- **Average Daily Volume:** 7,551,651 shares\n",
       "- **Days to Cover:** 2.48 days\n",
       "- **Change in Short Position:** -1,675,954 shares\n",
       "- **Percentage Change:** -8.20%\n",
       "\n",
       "Please note that these statistics are based on the latest available settlement data."
      ],
      "text/plain": [
       "<IPython.core.display.Markdown object>"
      ]
     },
     "metadata": {},
     "output_type": "display_data"
    }
   ],
   "source": [
    "agent_query(f\"Provide latest statistics on short interest for symbol {symbol}\", tools=tools, verbose=False)\n"
   ]
  },
  {
   "cell_type": "code",
   "execution_count": 50,
   "id": "0d23319a-0b0c-402e-9b84-f7b7fd4fb25c",
   "metadata": {},
   "outputs": [],
   "source": [
    "tool = BB_agent_tool(\n",
    "    name=\"get_equity_fundamental_historical_splits\",\n",
    "    description=\"Given a stock symbol, get the company's historical stock splits in JSON format.\",\n",
    "    openapi_path='/api/v1/equity/fundamental/historical_splits',\n",
    "    parameters={\n",
    "        \"symbol\": {\n",
    "            \"type\": \"string\",\n",
    "            \"description\": \"The stock symbol.\"\n",
    "        }\n",
    "        },\n",
    "    example_parameter_values=[{\n",
    "        \"symbol\": \"NVDA\",\n",
    "    }],\n",
    ")\n",
    "tools[tool.name]=tool.make_metadata()\n"
   ]
  },
  {
   "cell_type": "code",
   "execution_count": 51,
   "id": "15ff90cc-2755-42d8-9eda-01fc52668ae9",
   "metadata": {},
   "outputs": [
    {
     "name": "stdout",
     "output_type": "stream",
     "text": [
      "get_equity_fundamental_historical_splits({'symbol': 'AAPL'}) -> [{\"date\": \"2020-08-31\", \"numerator\": 4.0, \"denominator\": 1.0, \"split_ratio\": null, \"label\": \"August ...\n"
     ]
    },
    {
     "data": {
      "text/markdown": [
       "Here is the historical split information for Apple Inc. (AAPL):\n",
       "\n",
       "1. **August 31, 2020:** 4-for-1 stock split\n",
       "2. **June 09, 2014:** 7-for-1 stock split\n",
       "3. **February 28, 2005:** 2-for-1 stock split\n",
       "4. **June 21, 2000:** 2-for-1 stock split\n",
       "5. **June 16, 1987:** 2-for-1 stock split\n",
       "\n",
       "These splits reflect how the number of shares increased and the price per share adjusted on these dates."
      ],
      "text/plain": [
       "<IPython.core.display.Markdown object>"
      ]
     },
     "metadata": {},
     "output_type": "display_data"
    }
   ],
   "source": [
    "agent_query(f\"Provide historical split information for symbol AAPL\", tools=tools, verbose=False)"
   ]
  },
  {
   "cell_type": "code",
   "execution_count": 52,
   "id": "11acabf1-8fbb-419a-8eac-5146173660a3",
   "metadata": {},
   "outputs": [],
   "source": [
    "tool = BB_agent_tool(\n",
    "    name=\"get_balance_sheet_json\",\n",
    "    description=\"Given a stock symbol, get the latest balance sheet data for the company in JSON format.\",\n",
    "    openapi_path='/api/v1/equity/fundamental/balance',\n",
    "    parameters={\n",
    "        \"symbol\": {\n",
    "            \"type\": \"string\",\n",
    "            \"description\": \"The stock symbol.\"\n",
    "        }\n",
    "        },\n",
    "    example_parameter_values=[{\n",
    "        \"symbol\": \"NVDA\",\n",
    "    }],\n",
    "    singular=1\n",
    ")\n",
    "tools[tool.name]=tool.make_metadata()\n"
   ]
  },
  {
   "cell_type": "code",
   "execution_count": 53,
   "id": "8ff5c872-de7a-4c88-828f-c983b7ed30fb",
   "metadata": {},
   "outputs": [],
   "source": [
    "# can give by year\n",
    "# obb.equity.fundamental.balance(symbol='NVDA', period='annual', fiscal_year='2023', limit=1)\n",
    "# also growth from prior period obb.equity.fundamental.balance_growth"
   ]
  },
  {
   "cell_type": "code",
   "execution_count": 54,
   "id": "593421e7-b162-46ac-96bf-60cdba189c4f",
   "metadata": {},
   "outputs": [
    {
     "name": "stdout",
     "output_type": "stream",
     "text": [
      "get_equity_search_symbol({'search_str': 'MRK'}) -> {'symbol': 'FDT', 'name': 'FIRST TR EXCH TRD ALPHDX FD II DEV MRK EX US', 'dpm_name': 'Belvedere Tra...\n"
     ]
    },
    {
     "data": {
      "text/markdown": [
       "It appears that \"MRK\" did not return the expected company. Could you please confirm the correct company name or provide a more specific search string? Alternatively, if you were referring to Merck & Co., Inc., I can proceed with that assumption."
      ],
      "text/plain": [
       "<IPython.core.display.Markdown object>"
      ]
     },
     "metadata": {},
     "output_type": "display_data"
    }
   ],
   "source": [
    "agent_query(f\"what are the latest total assets for symbol {symbol}\", tools=tools, verbose=False)"
   ]
  },
  {
   "cell_type": "code",
   "execution_count": 55,
   "id": "d321ef20-4a96-4812-88db-8c1744ca84ea",
   "metadata": {},
   "outputs": [],
   "source": [
    "tool = BB_agent_tool(\n",
    "    name=\"get_cash_flow_json\",\n",
    "    description=\"Given a stock symbol, get the latest cash flow statement data for the company in JSON format.\",\n",
    "    openapi_path='/api/v1/equity/fundamental/cash',\n",
    "    parameters={\n",
    "        \"symbol\": {\n",
    "            \"type\": \"string\",\n",
    "            \"description\": \"The stock symbol.\"\n",
    "        }\n",
    "        },\n",
    "    example_parameter_values=[{\n",
    "        \"symbol\": \"NVDA\",\n",
    "    }],\n",
    "    singular=1\n",
    ")\n",
    "tools[tool.name]=tool.make_metadata()\n"
   ]
  },
  {
   "cell_type": "code",
   "execution_count": 56,
   "id": "0eaccc36-8f2c-452a-99d4-6cf299989aff",
   "metadata": {},
   "outputs": [
    {
     "name": "stdout",
     "output_type": "stream",
     "text": [
      "get_quote_json({'symbol': 'MRK'}) -> [{\"symbol\": \"MRK\", \"asset_type\": \"stock\", \"name\": \"MERCK & CO INC COM\", \"exchange\": null, \"bid\": 127...\n",
      "get_cash_flow_json({'symbol': 'MRK'}) -> {\"period_ending\": \"2023-12-31\", \"fiscal_period\": \"FY\", \"fiscal_year\": 2023, \"filing_date\": \"2024-04-...\n"
     ]
    },
    {
     "data": {
      "text/markdown": [
       "The most recent cash flow from operations for Merck & Co., Inc. (stock symbol: MRK) is \\\\$13,006,000,000 as reported for the fiscal year ending on December 31, 2023.\n",
       "\n",
       "You can view the full cash flow statement [here](https://www.sec.gov/Archives/edgar/data/310158/000119312524093194/d807955d10ka.htm)."
      ],
      "text/plain": [
       "<IPython.core.display.Markdown object>"
      ]
     },
     "metadata": {},
     "output_type": "display_data"
    }
   ],
   "source": [
    "agent_query(f\"what was the most recent cash flow from operations for stock symbol {symbol}\", tools=tools, verbose=False)"
   ]
  },
  {
   "cell_type": "code",
   "execution_count": 57,
   "id": "46c48a18-0093-4bb4-a381-c8d7c7de003f",
   "metadata": {},
   "outputs": [],
   "source": [
    "tool = BB_agent_tool(\n",
    "    name=\"get_income_statement_json\",\n",
    "    description=\"Given a stock symbol, get the latest income statement data for the company in JSON format\",\n",
    "    openapi_path='/api/v1/equity/fundamental/income',\n",
    "    parameters={\n",
    "        \"symbol\": {\n",
    "            \"type\": \"string\",\n",
    "            \"description\": \"The stock symbol.\"\n",
    "        }\n",
    "        },\n",
    "    example_parameter_values=[{\n",
    "        \"symbol\": \"NVDA\",\n",
    "    }],\n",
    "    singular=1\n",
    ")\n",
    "\n",
    "tools[tool.name]=tool.make_metadata()\n"
   ]
  },
  {
   "cell_type": "code",
   "execution_count": 58,
   "id": "770ea137-3530-4ded-a95a-6f249b09d864",
   "metadata": {},
   "outputs": [
    {
     "name": "stdout",
     "output_type": "stream",
     "text": [
      "get_equity_search_symbol({'search_str': 'MRK'}) -> {'symbol': 'FDT', 'name': 'FIRST TR EXCH TRD ALPHDX FD II DEV MRK EX US', 'dpm_name': 'Belvedere Tra...\n"
     ]
    },
    {
     "data": {
      "text/markdown": [
       "It appears that the symbol \"MRK\" corresponds to the First Trust Exchange Traded AlphaDEX Fund II Developed Markets Ex-US (FDT). \n",
       "\n",
       "However, if you were referring to Merck & Co., Inc., the stock symbol for Merck is actually \"MRK.\" To clarify or correct the query, can you please confirm if you are inquiring about Merck & Co., Inc.?"
      ],
      "text/plain": [
       "<IPython.core.display.Markdown object>"
      ]
     },
     "metadata": {},
     "output_type": "display_data"
    }
   ],
   "source": [
    "agent_query(f\"what was the most recent net income for symbol {symbol}\", tools=tools, verbose=False)\n"
   ]
  },
  {
   "cell_type": "code",
   "execution_count": 59,
   "id": "02c1e030-f3fd-4999-b46b-e29382beebd4",
   "metadata": {},
   "outputs": [],
   "source": [
    "tool = BB_agent_tool(\n",
    "    name=\"get_fundamental_metrics_json\",\n",
    "    description=\"Given a stock symbol, get fundamental metrics for the company in JSON format.\",\n",
    "    openapi_path='/api/v1/equity/fundamental/metrics',\n",
    "    parameters={\n",
    "        \"symbol\": {\n",
    "            \"type\": \"string\",\n",
    "            \"description\": \"The stock symbol.\"\n",
    "        }\n",
    "        },\n",
    "    example_parameter_values=[{\n",
    "        \"symbol\": \"NVDA\",\n",
    "    }],\n",
    ")\n",
    "\n",
    "tools[tool.name]=tool.make_metadata()\n"
   ]
  },
  {
   "cell_type": "code",
   "execution_count": 60,
   "id": "a27ea828-5256-418c-b106-fea1bbe2de8f",
   "metadata": {},
   "outputs": [
    {
     "name": "stdout",
     "output_type": "stream",
     "text": [
      "get_quote_json({'symbol': 'MRK'}) -> [{\"symbol\": \"MRK\", \"asset_type\": \"stock\", \"name\": \"MERCK & CO INC COM\", \"exchange\": null, \"bid\": 127...\n"
     ]
    },
    {
     "data": {
      "text/markdown": [
       "The most recent Price-to-Earnings (P/E) ratio for Merck & Co., Inc. (symbol: MRK) is not directly available from the data provided. However, if you need precise and up-to-date PE ratio information, I recommend checking Merck's financial summary on financial news websites or financial market data providers such as Yahoo Finance or Bloomberg."
      ],
      "text/plain": [
       "<IPython.core.display.Markdown object>"
      ]
     },
     "metadata": {},
     "output_type": "display_data"
    }
   ],
   "source": [
    "agent_query(f\"what was the most recent PE ratio for stock symbol {symbol}\", tools=tools, verbose=False)"
   ]
  },
  {
   "cell_type": "code",
   "execution_count": 61,
   "id": "2b60e7b7-0087-4552-83aa-d611e10ede6a",
   "metadata": {},
   "outputs": [],
   "source": [
    "tool = BB_agent_tool(\n",
    "    name=\"get_fundamental_ratios_json\",\n",
    "    description=\"Given a stock symbol, get fundamental valuation ratios for the company in JSON format.\",\n",
    "    openapi_path='/api/v1/equity/fundamental/ratios',\n",
    "    parameters={\n",
    "        \"symbol\": {\n",
    "            \"type\": \"string\",\n",
    "            \"description\": \"The stock symbol.\"\n",
    "        }\n",
    "        },\n",
    "    example_parameter_values=[{\n",
    "        \"symbol\": \"NVDA\",\n",
    "    }],\n",
    "    singular=1\n",
    ")\n",
    "\n",
    "tools[tool.name]=tool.make_metadata()\n"
   ]
  },
  {
   "cell_type": "code",
   "execution_count": 62,
   "id": "68790fd6-8f31-49f8-b768-c10c4daf5517",
   "metadata": {},
   "outputs": [
    {
     "name": "stdout",
     "output_type": "stream",
     "text": [
      "get_equity_search_symbol({'search_str': 'MRK'}) -> {'symbol': 'FDT', 'name': 'FIRST TR EXCH TRD ALPHDX FD II DEV MRK EX US', 'dpm_name': 'Belvedere Tra...\n",
      "get_equity_search_symbol({'search_str': 'Merck & Co. Inc.'}) -> None\n",
      "get_fundamental_ratios_json({'symbol': 'MRK'}) -> {\"period_ending\": \"2023-12-31\", \"fiscal_period\": \"FY\", \"fiscal_year\": 2023, \"current_ratio\": 1.25196...\n"
     ]
    },
    {
     "data": {
      "text/markdown": [
       "The most recent price-to-sales ratio for Merck & Co., Inc. (symbol: MRK) is 4.62."
      ],
      "text/plain": [
       "<IPython.core.display.Markdown object>"
      ]
     },
     "metadata": {},
     "output_type": "display_data"
    }
   ],
   "source": [
    "agent_query(f\"what was the most recent price to sales ratio for stock symbol {symbol}\", tools=tools, verbose=False)"
   ]
  },
  {
   "cell_type": "code",
   "execution_count": 63,
   "id": "57df45ad-8485-4029-aea5-d251607016e5",
   "metadata": {},
   "outputs": [],
   "source": [
    "tool = BB_agent_tool(\n",
    "    name=\"get_equity_fundamental_multiples\",\n",
    "    description=\"Given a stock symbol, get fundamental valuation multiples for the company in JSON format.\",\n",
    "    openapi_path='/api/v1/equity/fundamental/multiples',\n",
    "    parameters={\n",
    "        \"symbol\": {\n",
    "            \"type\": \"string\",\n",
    "            \"description\": \"The stock symbol.\"\n",
    "        }\n",
    "        },\n",
    "    example_parameter_values=[{\n",
    "        \"symbol\": \"NVDA\",\n",
    "    }],\n",
    "    singular=1\n",
    ")\n",
    "\n",
    "tools[tool.name]=tool.make_metadata()\n"
   ]
  },
  {
   "cell_type": "code",
   "execution_count": 64,
   "id": "10dd2ca7-d995-44c4-81ce-39de28999c5d",
   "metadata": {},
   "outputs": [
    {
     "name": "stdout",
     "output_type": "stream",
     "text": [
      "get_equity_search_symbol({'search_str': 'Merck'}) -> {'symbol': 'MRK', 'name': 'MERCK & CO INC COM', 'dpm_name': 'Wolverine Trading, LLC', 'post_station'...\n",
      "get_equity_fundamental_multiples({'symbol': 'MRK'}) -> {\"symbol\": \"MRK\", \"revenue_per_share_ttm\": 24.25424397947098, \"net_income_per_share_ttm\": 0.91038294...\n"
     ]
    },
    {
     "data": {
      "text/markdown": [
       "The most recent revenue per share for Merck & Co., Inc. (MRK) is \\\\$24.25."
      ],
      "text/plain": [
       "<IPython.core.display.Markdown object>"
      ]
     },
     "metadata": {},
     "output_type": "display_data"
    }
   ],
   "source": [
    "agent_query(f\"what was the most recent revenue per share for stock symbol {symbol}\", tools=tools, verbose=False)\n"
   ]
  },
  {
   "cell_type": "code",
   "execution_count": 65,
   "id": "7cf79058-b258-420d-a72d-795c45c314b6",
   "metadata": {},
   "outputs": [],
   "source": [
    "# tool = BB_agent_tool(\n",
    "#     name=\"get_historical_eps\",\n",
    "#     description=\"Given a stock symbol, get historical earnings per share data for the company in JSON format.\",\n",
    "#     openapi_path='/api/v1/equity/fundamental/historical_eps',\n",
    "#     parameters={\n",
    "#         \"symbol\": {\n",
    "#             \"type\": \"string\",\n",
    "#             \"description\": \"The stock symbol.\"\n",
    "#         }\n",
    "#         },\n",
    "#     example_parameter_values=[{\n",
    "#         \"symbol\": \"NVDA\",\n",
    "#     }],\n",
    "# )\n",
    "\n",
    "# tools[tool.name]=tool.make_metadata()\n"
   ]
  },
  {
   "cell_type": "code",
   "execution_count": 66,
   "id": "8802008e-f0ac-4cf1-85a4-2373ccca5713",
   "metadata": {},
   "outputs": [],
   "source": [
    "# agent_query(f\"what was the EPS for {company} in the quarter ended 2022-09-30?\", tools=tools, verbose=False)\n"
   ]
  },
  {
   "cell_type": "code",
   "execution_count": 67,
   "id": "b563a0b0-d0f3-418a-b248-c7ae0fbfce8f",
   "metadata": {},
   "outputs": [],
   "source": [
    "tool = BB_agent_tool(\n",
    "    name=\"get_equity_fundamental_dividend\",\n",
    "    description=\"Given a stock symbol, get the latest dividend data for the company in JSON format.\",\n",
    "    openapi_path='/api/v1/equity/fundamental/dividends',\n",
    "    parameters={\n",
    "        \"symbol\": {\n",
    "            \"type\": \"string\",\n",
    "            \"description\": \"The stock symbol.\"\n",
    "        }\n",
    "        },\n",
    "    example_parameter_values=[{\n",
    "        \"symbol\": \"NVDA\",\n",
    "    }],\n",
    ")\n",
    "\n",
    "tools[tool.name]=tool.make_metadata()\n"
   ]
  },
  {
   "cell_type": "code",
   "execution_count": 68,
   "id": "d72d044c-92b5-4e2f-a815-9e7efbe63159",
   "metadata": {},
   "outputs": [
    {
     "name": "stdout",
     "output_type": "stream",
     "text": [
      "get_equity_search_symbol({'search_str': 'MRK'}) -> {'symbol': 'FDT', 'name': 'FIRST TR EXCH TRD ALPHDX FD II DEV MRK EX US', 'dpm_name': 'Belvedere Tra...\n",
      "get_equity_search_symbol({'search_str': 'Merck'}) -> {'symbol': 'MRK', 'name': 'MERCK & CO INC COM', 'dpm_name': 'Wolverine Trading, LLC', 'post_station'...\n",
      "get_equity_fundamental_dividend({'symbol': 'MRK'}) -> [{\"ex_dividend_date\": \"2024-03-14\", \"amount\": 0.77, \"label\": \"March 14, 24\", \"adj_dividend\": 0.77, \"...\n"
     ]
    },
    {
     "data": {
      "text/markdown": [
       "The latest dividend data for Merck & Co., Inc. (MRK) is as follows:\n",
       "\n",
       "- **Ex-Dividend Date:** March 14, 2024\n",
       "- **Dividend Amount:** \\\\$0.77 per share\n",
       "- **Record Date:** March 15, 2024\n",
       "- **Payment Date:** April 5, 2024\n",
       "- **Declaration Date:** January 23, 2024\n",
       "\n",
       "If you need further details or older dividend information, please let me know."
      ],
      "text/plain": [
       "<IPython.core.display.Markdown object>"
      ]
     },
     "metadata": {},
     "output_type": "display_data"
    }
   ],
   "source": [
    "agent_query(f\"what was the latest dividend data for stock symbol {symbol}?\", tools=tools, verbose=False)\n"
   ]
  },
  {
   "cell_type": "code",
   "execution_count": 69,
   "id": "d6ea54fe-b064-4db1-a776-2e585d434355",
   "metadata": {},
   "outputs": [
    {
     "name": "stdout",
     "output_type": "stream",
     "text": [
      "get_equity_search_symbol({'search_str': 'MRK'}) -> {'symbol': 'FDT', 'name': 'FIRST TR EXCH TRD ALPHDX FD II DEV MRK EX US', 'dpm_name': 'Belvedere Tra...\n"
     ]
    },
    {
     "data": {
      "text/markdown": [
       "It seems that the search for \"MRK\" returned the stock symbol for \"FIRST TR EXCH TRD ALPHDX FD II DEV MRK EX US\" with the symbol \"FDT.\"\n",
       "\n",
       "Could you please confirm if you are looking for dividend data for Merck & Co., Inc., which is commonly known as \"MRK,\" or if you are indeed asking about the First Trust ETF with the symbol \"FDT\"?"
      ],
      "text/plain": [
       "<IPython.core.display.Markdown object>"
      ]
     },
     "metadata": {},
     "output_type": "display_data"
    }
   ],
   "source": [
    "agent_query(f\"what was the dividend data as of the end of 2022 for stock symbol {symbol}?\", tools=tools, verbose=False)\n"
   ]
  },
  {
   "cell_type": "code",
   "execution_count": 70,
   "id": "99edfa69-941d-49c7-8842-bddf674cece0",
   "metadata": {},
   "outputs": [],
   "source": [
    "tool = BB_agent_tool(\n",
    "    name=\"get_trailing_dividend_yield_json\",\n",
    "    description=\"Given a stock symbol, get the 1 year trailing dividend yield for the company over time in JSON format.\",\n",
    "    openapi_path='/api/v1/equity/fundamental/trailing_dividend_yield',\n",
    "    parameters={\n",
    "        \"symbol\": {\n",
    "            \"type\": \"string\",\n",
    "            \"description\": \"The stock symbol.\"\n",
    "        }\n",
    "        },\n",
    "    example_parameter_values=[{\n",
    "        \"symbol\": \"NVDA\",\n",
    "    }],\n",
    ")\n",
    "\n",
    "tools[tool.name]=tool.make_metadata()\n"
   ]
  },
  {
   "cell_type": "code",
   "execution_count": 71,
   "id": "2e9a8665-fdf8-421f-90b8-4d373990c5c6",
   "metadata": {},
   "outputs": [
    {
     "name": "stdout",
     "output_type": "stream",
     "text": [
      "get_equity_search_symbol({'search_str': 'Merck & Co'}) -> {'symbol': 'MRK', 'name': 'MERCK & CO INC COM', 'dpm_name': 'Wolverine Trading, LLC', 'post_station'...\n",
      "get_trailing_dividend_yield_json({'symbol': 'MRK'}) -> [{\"date\": \"2023-05-12\", \"trailing_dividend_yield\": 0.0242444938}, {\"date\": \"2023-05-15\", \"trailing_d...\n"
     ]
    },
    {
     "data": {
      "text/markdown": [
       "As of the end of 2023, the dividend yield for Merck & Co. Inc. (MRK) was approximately 2.82%. The last recorded trailing dividend yield for MRK on December 29, 2023, was 2.7151%."
      ],
      "text/plain": [
       "<IPython.core.display.Markdown object>"
      ]
     },
     "metadata": {},
     "output_type": "display_data"
    }
   ],
   "source": [
    "agent_query(f\"what was the dividend yield for stock symbol {symbol} as of the end of 2023?\", tools=tools, verbose=False)\n"
   ]
  },
  {
   "cell_type": "code",
   "execution_count": 72,
   "id": "95dc1d1e-6a25-4728-9251-ced4ee39825c",
   "metadata": {},
   "outputs": [],
   "source": [
    "tool = BB_agent_tool(\n",
    "    name=\"get_price_performance_json\",\n",
    "    description=\"Given a stock symbol, get price performance data for the stock for different time periods in JSON format.\",\n",
    "    openapi_path='/api/v1/equity/price/performance',\n",
    "    parameters={\n",
    "        \"symbol\": {\n",
    "            \"type\": \"string\",\n",
    "            \"description\": \"The stock symbol.\"\n",
    "        }\n",
    "        },\n",
    "    example_parameter_values=[{\n",
    "        \"symbol\": \"NVDA\",\n",
    "    }],\n",
    ")\n",
    "\n",
    "tools[tool.name]=tool.make_metadata()\n"
   ]
  },
  {
   "cell_type": "code",
   "execution_count": 73,
   "id": "2787df1d-df0b-4fd5-b75f-fd8e3dd905f8",
   "metadata": {},
   "outputs": [
    {
     "name": "stdout",
     "output_type": "stream",
     "text": [
      "get_equity_search_symbol({'search_str': 'Merck'}) -> {'symbol': 'MRK', 'name': 'MERCK & CO INC COM', 'dpm_name': 'Wolverine Trading, LLC', 'post_station'...\n",
      "get_price_performance_json({'symbol': 'MRK'}) -> [{\"symbol\": \"MRK\", \"one_day\": -0.0059, \"wtd\": null, \"one_week\": 0.013500000000000002, \"mtd\": null, \"...\n",
      "get_quote_json({'symbol': 'MRK'}) -> [{\"symbol\": \"MRK\", \"asset_type\": \"stock\", \"name\": \"MERCK & CO INC COM\", \"exchange\": null, \"bid\": 127...\n"
     ]
    },
    {
     "data": {
      "text/markdown": [
       "Over the past year, Merck & Co Inc. (symbol: MRK) has experienced a price increase of approximately 9.99%. The current price as of the close of trading on May 13, 2024, is \\\\$129.29. Here are some additional performance metrics:\n",
       "\n",
       "- **1-Day Change**: -0.59%\n",
       "- **1-Week Change**: +1.35%\n",
       "- **1-Month Change**: +2.82%\n",
       "- **3-Month Change**: +3.15%\n",
       "- **6-Month Change**: +26.28%\n",
       "- **Year-to-Date Change**: +18.59%\n",
       "\n",
       "**Additional Price Data:**\n",
       "- **Open Price Today**: \\\\$129.90\n",
       "- **High Price Today**: \\\\$129.71\n",
       "- **Low Price Today**: \\\\$128.02\n",
       "- **Volume Today**: 7,109,715\n",
       "- **Average Volume**: 8,170,000\n",
       "\n",
       "These metrics indicate solid performance for Merck over the past year."
      ],
      "text/plain": [
       "<IPython.core.display.Markdown object>"
      ]
     },
     "metadata": {},
     "output_type": "display_data"
    }
   ],
   "source": [
    "agent_query(f\"what was the performance for {company} from 1 year ago?\", tools=tools, verbose=False)\n"
   ]
  },
  {
   "cell_type": "code",
   "execution_count": 74,
   "id": "3fdf5cd8-9a72-489e-8fbc-5bbf6e95ff19",
   "metadata": {},
   "outputs": [],
   "source": [
    "# this might exceed token context making it unreliable\n",
    "tool = BB_agent_tool(\n",
    "    name=\"get_etf_equity_exposure_json\",\n",
    "    description=\"Given a stock symbol, get the exposure of ETFs to the stock in JSON format.\",\n",
    "    openapi_path='/api/v1/etf/equity_exposure',\n",
    "    parameters={\n",
    "        \"symbol\": {\n",
    "            \"type\": \"string\",\n",
    "            \"description\": \"The stock symbol.\"\n",
    "        }\n",
    "        },\n",
    "    example_parameter_values=[{\n",
    "        \"symbol\": \"NVDA\",\n",
    "    }],\n",
    ")\n",
    "\n",
    "tools[tool.name]=tool.make_metadata()\n"
   ]
  },
  {
   "cell_type": "code",
   "execution_count": 75,
   "id": "b7783f91-b77b-46e8-8f86-ba02715b7887",
   "metadata": {},
   "outputs": [
    {
     "data": {
      "text/html": [
       "<div>\n",
       "<style scoped>\n",
       "    .dataframe tbody tr th:only-of-type {\n",
       "        vertical-align: middle;\n",
       "    }\n",
       "\n",
       "    .dataframe tbody tr th {\n",
       "        vertical-align: top;\n",
       "    }\n",
       "\n",
       "    .dataframe thead th {\n",
       "        text-align: right;\n",
       "    }\n",
       "</style>\n",
       "<table border=\"1\" class=\"dataframe\">\n",
       "  <thead>\n",
       "    <tr style=\"text-align: right;\">\n",
       "      <th></th>\n",
       "      <th>equity_symbol</th>\n",
       "      <th>etf_symbol</th>\n",
       "      <th>shares</th>\n",
       "      <th>weight</th>\n",
       "      <th>market_value</th>\n",
       "    </tr>\n",
       "  </thead>\n",
       "  <tbody>\n",
       "    <tr>\n",
       "      <th>430</th>\n",
       "      <td>MRK</td>\n",
       "      <td>FTXH</td>\n",
       "      <td>11684.0</td>\n",
       "      <td>0.075700</td>\n",
       "      <td>1.519621e+06</td>\n",
       "    </tr>\n",
       "    <tr>\n",
       "      <th>77</th>\n",
       "      <td>MRK</td>\n",
       "      <td>QDVG.DE</td>\n",
       "      <td>1117567.0</td>\n",
       "      <td>0.064076</td>\n",
       "      <td>1.466248e+08</td>\n",
       "    </tr>\n",
       "    <tr>\n",
       "      <th>78</th>\n",
       "      <td>MRK</td>\n",
       "      <td>IUHE.AS</td>\n",
       "      <td>0.0</td>\n",
       "      <td>0.062564</td>\n",
       "      <td>1.460573e+08</td>\n",
       "    </tr>\n",
       "    <tr>\n",
       "      <th>79</th>\n",
       "      <td>MRK</td>\n",
       "      <td>IUHC.L</td>\n",
       "      <td>1121581.0</td>\n",
       "      <td>0.062374</td>\n",
       "      <td>1.453008e+08</td>\n",
       "    </tr>\n",
       "    <tr>\n",
       "      <th>13</th>\n",
       "      <td>MRK</td>\n",
       "      <td>XLV</td>\n",
       "      <td>18454434.0</td>\n",
       "      <td>0.062123</td>\n",
       "      <td>2.400184e+09</td>\n",
       "    </tr>\n",
       "    <tr>\n",
       "      <th>...</th>\n",
       "      <td>...</td>\n",
       "      <td>...</td>\n",
       "      <td>...</td>\n",
       "      <td>...</td>\n",
       "      <td>...</td>\n",
       "    </tr>\n",
       "    <tr>\n",
       "      <th>557</th>\n",
       "      <td>MRK</td>\n",
       "      <td>GXUS</td>\n",
       "      <td>2163.0</td>\n",
       "      <td>NaN</td>\n",
       "      <td>3.629300e+05</td>\n",
       "    </tr>\n",
       "    <tr>\n",
       "      <th>660</th>\n",
       "      <td>MRK</td>\n",
       "      <td>GPAL</td>\n",
       "      <td>640.0</td>\n",
       "      <td>NaN</td>\n",
       "      <td>6.631040e+04</td>\n",
       "    </tr>\n",
       "    <tr>\n",
       "      <th>671</th>\n",
       "      <td>MRK</td>\n",
       "      <td>GDEF</td>\n",
       "      <td>397.0</td>\n",
       "      <td>NaN</td>\n",
       "      <td>5.170131e+04</td>\n",
       "    </tr>\n",
       "    <tr>\n",
       "      <th>678</th>\n",
       "      <td>MRK</td>\n",
       "      <td>EUNU.DE</td>\n",
       "      <td>50000.0</td>\n",
       "      <td>NaN</td>\n",
       "      <td>3.868500e+04</td>\n",
       "    </tr>\n",
       "    <tr>\n",
       "      <th>693</th>\n",
       "      <td>MRK</td>\n",
       "      <td>GSEU</td>\n",
       "      <td>121.0</td>\n",
       "      <td>NaN</td>\n",
       "      <td>2.030260e+04</td>\n",
       "    </tr>\n",
       "  </tbody>\n",
       "</table>\n",
       "<p>765 rows × 5 columns</p>\n",
       "</div>"
      ],
      "text/plain": [
       "    equity_symbol etf_symbol      shares    weight  market_value\n",
       "430           MRK       FTXH     11684.0  0.075700  1.519621e+06\n",
       "77            MRK    QDVG.DE   1117567.0  0.064076  1.466248e+08\n",
       "78            MRK    IUHE.AS         0.0  0.062564  1.460573e+08\n",
       "79            MRK     IUHC.L   1121581.0  0.062374  1.453008e+08\n",
       "13            MRK        XLV  18454434.0  0.062123  2.400184e+09\n",
       "..            ...        ...         ...       ...           ...\n",
       "557           MRK       GXUS      2163.0       NaN  3.629300e+05\n",
       "660           MRK       GPAL       640.0       NaN  6.631040e+04\n",
       "671           MRK       GDEF       397.0       NaN  5.170131e+04\n",
       "678           MRK    EUNU.DE     50000.0       NaN  3.868500e+04\n",
       "693           MRK       GSEU       121.0       NaN  2.030260e+04\n",
       "\n",
       "[765 rows x 5 columns]"
      ]
     },
     "execution_count": 75,
     "metadata": {},
     "output_type": "execute_result"
    }
   ],
   "source": [
    "pd.DataFrame(json.loads(tool('MRK'))).sort_values('weight', ascending=False)"
   ]
  },
  {
   "cell_type": "code",
   "execution_count": 76,
   "id": "cca28804-8aa2-4829-909f-6fc0592ce44c",
   "metadata": {},
   "outputs": [
    {
     "name": "stdout",
     "output_type": "stream",
     "text": [
      "get_equity_search_symbol({'search_str': 'Merck'}) -> {'symbol': 'MRK', 'name': 'MERCK & CO INC COM', 'dpm_name': 'Wolverine Trading, LLC', 'post_station'...\n",
      "get_etf_equity_exposure_json({'symbol': 'MRK'}) -> [{\"equity_symbol\": \"MRK\", \"etf_symbol\": \"VTSAX\", \"shares\": 79663326.0, \"weight\": 0.0066, \"market_val...\n"
     ]
    },
    {
     "data": {
      "text/markdown": [
       "The ETF with the highest weight in Merck & Co., Inc. (MRK) is Vanguard Health Care Index Fund ETF Shares (Ticker: XLV), with a weight of 6.212315%."
      ],
      "text/plain": [
       "<IPython.core.display.Markdown object>"
      ]
     },
     "metadata": {},
     "output_type": "display_data"
    }
   ],
   "source": [
    "agent_query(f\"which ETF has the highest weight in {company} ?\", tools=tools, verbose=False)\n"
   ]
  },
  {
   "cell_type": "code",
   "execution_count": 78,
   "id": "97cb14b9-9785-48ff-bdb4-15d3620ffeec",
   "metadata": {},
   "outputs": [
    {
     "data": {
      "text/plain": [
       "[{\"Given a stock symbol, get item 1 of the company's latest 10-K annual report filing.\"},\n",
       " {'Given a search string, get the stock symbol of the top company whose name best matches the search string.'},\n",
       " {'Given a stock symbol, get the latest market data quote for the stock in JSON format.'},\n",
       " {'Given a stock symbol, get general background data about the company such as company name, industry, and sector data in JSON format'},\n",
       " {'Given a stock symbol, get data on short volume and days to cover in JSON format.'},\n",
       " {\"Given a stock symbol, get the company's historical stock splits in JSON format.\"},\n",
       " {'Given a stock symbol, get the latest balance sheet data for the company in JSON format.'},\n",
       " {'Given a stock symbol, get the latest cash flow statement data for the company in JSON format.'},\n",
       " {'Given a stock symbol, get the latest income statement data for the company in JSON format'},\n",
       " {'Given a stock symbol, get fundamental metrics for the company in JSON format.'},\n",
       " {'Given a stock symbol, get fundamental valuation ratios for the company in JSON format.'},\n",
       " {'Given a stock symbol, get fundamental valuation multiples for the company in JSON format.'},\n",
       " {'Given a stock symbol, get the latest dividend data for the company in JSON format.'},\n",
       " {'Given a stock symbol, get the 1 year trailing dividend yield for the company over time in JSON format.'},\n",
       " {'Given a stock symbol, get price performance data for the stock for different time periods in JSON format.'},\n",
       " {'Given a stock symbol, get the exposure of ETFs to the stock in JSON format.'}]"
      ]
     },
     "execution_count": 78,
     "metadata": {},
     "output_type": "execute_result"
    }
   ],
   "source": [
    "[{t['description']} for t in tools.values()]"
   ]
  }
 ],
 "metadata": {
  "kernelspec": {
   "display_name": "bb_agent",
   "language": "python",
   "name": "bb_agent"
  },
  "language_info": {
   "codemirror_mode": {
    "name": "ipython",
    "version": 3
   },
   "file_extension": ".py",
   "mimetype": "text/x-python",
   "name": "python",
   "nbconvert_exporter": "python",
   "pygments_lexer": "ipython3",
   "version": "3.11.9"
  }
 },
 "nbformat": 4,
 "nbformat_minor": 5
}
