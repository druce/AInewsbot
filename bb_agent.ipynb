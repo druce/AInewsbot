{
 "cells": [
  {
   "cell_type": "markdown",
   "id": "0003fc70-614a-45fe-824d-d95957d13b19",
   "metadata": {},
   "source": [
    "# Stock Market Question Answering Agent\n",
    "\n",
    "- answer questions about individual stocks using (mostly) OpenBB functions\n",
    "- uses the OpenAPI tools functionality\n",
    "- define a set of functions\n",
    "- when prompting, give OpenAI the set of functions and their descriptions in a specified format\n",
    "- if OpenAI needs to run a function to respond to the prompt, it will provide the function signature and ask you to provide the return values before continuing\n",
    "  "
   ]
  },
  {
   "cell_type": "code",
   "execution_count": 1,
   "id": "20d61f1a-b6e0-4c72-9eee-5c3c84db5718",
   "metadata": {},
   "outputs": [],
   "source": [
    "import os\n",
    "import sys\n",
    "import dotenv\n",
    "import warnings\n",
    "from datetime import datetime, timedelta\n",
    "import re\n",
    "\n",
    "import pandas as pd\n",
    "\n",
    "import IPython\n",
    "from IPython.display import HTML, Image, Markdown, display\n",
    "\n",
    "import selenium\n",
    "from selenium import webdriver\n",
    "from selenium.webdriver.common.by import By\n",
    "# use firefox because it updates less often, can disable updates\n",
    "# recommend importing profile from Chrome for cookies, passwords\n",
    "# looks less like a bot with more user cruft in the profile\n",
    "from selenium.webdriver.firefox.options import Options\n",
    "from selenium.webdriver.firefox.service import Service\n",
    "\n",
    "import base64\n",
    "import requests\n",
    "import json\n",
    "\n",
    "import openbb\n",
    "from openbb import obb\n",
    "from openbb_core.app.model.obbject import OBBject\n",
    "\n",
    "import openai\n",
    "from openai import OpenAI\n",
    "import tiktoken\n",
    "\n",
    "import langchain\n",
    "from langchain.tools import WikipediaQueryRun\n",
    "from langchain_community.utilities import WikipediaAPIWrapper\n",
    "\n",
    "import wikipedia\n",
    "\n",
    "# paid API for edgar filings\n",
    "import sec_api\n",
    "from sec_api import QueryApi, ExtractorApi\n",
    "\n",
    "# free API for edgar filing\n",
    "from sec_downloader import Downloader\n",
    "import sec_parser as sp\n",
    "\n",
    "dotenv.load_dotenv()\n",
    "\n",
    "from BB_agent_tool import BB_agent_tool\n",
    "from ainb_llm import get_response, agent_query\n",
    "\n",
    "import pdb\n",
    "\n",
    "# turn off excessive warnings\n",
    "warnings.filterwarnings('ignore')\n"
   ]
  },
  {
   "cell_type": "code",
   "execution_count": 2,
   "id": "c31a6c57-1332-44df-bb86-2784cf909419",
   "metadata": {},
   "outputs": [
    {
     "name": "stdout",
     "output_type": "stream",
     "text": [
      "pandas         2.2.2\n",
      "obb            4.1.7\n",
      "selenium       4.20.0\n",
      "openai         1.28.0\n",
      "langchain      0.1.20\n",
      "wikipedia      (1, 4, 0)\n"
     ]
    }
   ],
   "source": [
    "print(f'pandas         {pd.__version__}')\n",
    "print(f'obb            {obb.system.version}')\n",
    "print(f'selenium       {selenium.__version__}')\n",
    "print(f'openai         {openai.__version__}')\n",
    "print(f'langchain      {langchain.__version__}')\n",
    "print(f'wikipedia      {wikipedia.__version__}')\n"
   ]
  },
  {
   "cell_type": "markdown",
   "id": "7ad6849a-72da-4d7d-8ae6-5b9bae8c80e2",
   "metadata": {},
   "source": [
    "# Connect to OpenBB"
   ]
  },
  {
   "cell_type": "code",
   "execution_count": 3,
   "id": "aeda3328-5535-4a8c-ba87-40615511f4a3",
   "metadata": {},
   "outputs": [
    {
     "data": {
      "text/plain": [
       "OpenBB Platform v4.1.7\n",
       "\n",
       "Utilities:\n",
       "    /account\n",
       "    /user\n",
       "    /system\n",
       "    /coverage\n",
       "\n",
       "Routers:\n",
       "    /commodity\n",
       "    /crypto\n",
       "    /currency\n",
       "    /derivatives\n",
       "    /econometrics\n",
       "    /economy\n",
       "    /equity\n",
       "    /etf\n",
       "    /fixedincome\n",
       "    /index\n",
       "    /news\n",
       "    /quantitative\n",
       "    /regulators\n",
       "    /technical\n",
       "\n",
       "Extensions:\n",
       "    - commodity@1.0.4\n",
       "    - crypto@1.1.5\n",
       "    - currency@1.1.5\n",
       "    - derivatives@1.1.5\n",
       "    - econometrics@1.1.5\n",
       "    - economy@1.1.5\n",
       "    - equity@1.1.5\n",
       "    - etf@1.1.5\n",
       "    - fixedincome@1.1.5\n",
       "    - index@1.1.5\n",
       "    - news@1.1.5\n",
       "    - quantitative@1.1.5\n",
       "    - regulators@1.1.5\n",
       "    - technical@1.1.6\n",
       "\n",
       "    - alpha_vantage@1.1.5\n",
       "    - benzinga@1.1.5\n",
       "    - biztoc@1.1.5\n",
       "    - cboe@1.1.5\n",
       "    - ecb@1.1.5\n",
       "    - federal_reserve@1.1.5\n",
       "    - finra@1.1.5\n",
       "    - finviz@1.0.4\n",
       "    - fmp@1.1.5\n",
       "    - fred@1.1.5\n",
       "    - government_us@1.1.5\n",
       "    - intrinio@1.1.5\n",
       "    - nasdaq@1.1.6\n",
       "    - oecd@1.1.5\n",
       "    - polygon@1.1.5\n",
       "    - sec@1.1.5\n",
       "    - seeking_alpha@1.1.5\n",
       "    - stockgrid@1.1.5\n",
       "    - tiingo@1.1.5\n",
       "    - tmx@1.0.2\n",
       "    - tradier@1.0.2\n",
       "    - tradingeconomics@1.1.5\n",
       "    - wsj@1.1.5\n",
       "    - yfinance@1.1.5    "
      ]
     },
     "execution_count": 3,
     "metadata": {},
     "output_type": "execute_result"
    }
   ],
   "source": [
    "obb"
   ]
  },
  {
   "cell_type": "code",
   "execution_count": 4,
   "id": "f1d91d67-55a5-48fd-91ed-e4cdc5f03ec5",
   "metadata": {},
   "outputs": [],
   "source": [
    "# login with email and password\n",
    "obb.account.login(email=os.environ['OPENBB_USER'], password=os.environ['OPENBB_PW'], remember_me=True)"
   ]
  },
  {
   "cell_type": "code",
   "execution_count": 5,
   "id": "81222526-77e2-4996-a7a1-b79dca56586b",
   "metadata": {},
   "outputs": [
    {
     "data": {
      "text/plain": [
       "UserSettings\n",
       "\n",
       "id: 066457c7-19a0-73f7-8000-a028fb0b743d\n",
       "profile: {'hub_session': {'username': 'drucev', 'email': 'drucev@hotmail.com', 'primary_usage': 'personal', 'user_uuid': 'c866b4d2-c09b-4b13-abb7-a93f1ac3c2b7', 'token_type': 'bearer', 'access_token': SecretStr('**********')}}\n",
       "credentials: {'nasdaq_api_key': None, 'biztoc_api_key': SecretStr('**********'), 'fred_api_key': SecretStr('**********'), 'tradier_api_key': None, 'tradier_account_type': None, 'fmp_api_key': SecretStr('**********'), 'intrinio_api_key': None, 'polygon_api_key': SecretStr('**********'), 'tradingeconomics_api_key': None, 'alpha_vantage_api_key': SecretStr('**********'), 'benzinga_api_key': None, 'tiingo_token': SecretStr('**********')}\n",
       "preferences: {'cache_directory': '/Users/drucev/OpenBBUserData/cache', 'chart_style': 'dark', 'data_directory': '/Users/drucev/OpenBBUserData', 'export_directory': '/Users/drucev/OpenBBUserData/exports', 'metadata': True, 'output_type': 'OBBject', 'plot_enable_pywry': True, 'plot_open_export': False, 'plot_pywry_height': 762, 'plot_pywry_width': 1400, 'request_timeout': 15, 'show_warnings': True, 'table_style': 'dark', 'user_styles_directory': '/Users/drucev/OpenBBUserData/styles/user'}\n",
       "defaults: {'routes': {}}"
      ]
     },
     "execution_count": 5,
     "metadata": {},
     "output_type": "execute_result"
    }
   ],
   "source": [
    "obb.user"
   ]
  },
  {
   "cell_type": "code",
   "execution_count": 6,
   "id": "bf8476a6-1106-4e5b-9efa-229547f11097",
   "metadata": {},
   "outputs": [
    {
     "data": {
      "text/plain": [
       "/account\n",
       "    login\n",
       "    logout\n",
       "    save\n",
       "    refresh\n",
       "    "
      ]
     },
     "execution_count": 6,
     "metadata": {},
     "output_type": "execute_result"
    }
   ],
   "source": [
    "obb.account"
   ]
  },
  {
   "cell_type": "code",
   "execution_count": 7,
   "id": "edfe7554-a603-4cd8-bea0-1a79882cfbd0",
   "metadata": {},
   "outputs": [],
   "source": [
    "# Change a credential - only need once, gets stored in openbb cloud\n",
    "# obb.user.credentials.polygon_api_key = os.environ['POLYGON_API_KEY']\n",
    "# obb.user.credentials.alpha_vantage_api_key = os.environ['ALPHAVANTAGE_API_KEY']\n",
    "# obb.user.credentials.fred_api_key = os.environ['FRED_API_KEY']\n",
    "# obb.user.credentials.tiingo_token = os.environ['TIINGO_API_KEY']\n",
    "# obb.user.credentials.fmp_api_key = os.environ['FMP_API_KEY']\n",
    "# obb.user.credentials.biztoc_api_key = os.environ['BIZTOC_API_KEY']\n",
    "\n",
    "# Save account changes to the Hub\n",
    "# obb.account.save()\n",
    "\n",
    "# Refresh account with latest changes since login\n",
    "# obb.account.refresh()\n",
    "\n",
    "# Logout\n",
    "# obb.account.logout()"
   ]
  },
  {
   "cell_type": "code",
   "execution_count": 8,
   "id": "b239e060-fe40-418b-8838-7695c56a9829",
   "metadata": {},
   "outputs": [
    {
     "data": {
      "text/plain": [
       "/equity\n",
       "    /calendar\n",
       "    /compare\n",
       "    /darkpool\n",
       "    /discovery\n",
       "    /estimates\n",
       "    /fundamental\n",
       "    market_snapshots\n",
       "    /ownership\n",
       "    /price\n",
       "    profile\n",
       "    screener\n",
       "    search\n",
       "    /shorts\n",
       "    "
      ]
     },
     "execution_count": 8,
     "metadata": {},
     "output_type": "execute_result"
    }
   ],
   "source": [
    "obb.equity"
   ]
  },
  {
   "cell_type": "code",
   "execution_count": 9,
   "id": "920317cd-0446-4c79-963b-c999083e5111",
   "metadata": {},
   "outputs": [
    {
     "data": {
      "text/html": [
       "<div>\n",
       "<style scoped>\n",
       "    .dataframe tbody tr th:only-of-type {\n",
       "        vertical-align: middle;\n",
       "    }\n",
       "\n",
       "    .dataframe tbody tr th {\n",
       "        vertical-align: top;\n",
       "    }\n",
       "\n",
       "    .dataframe thead th {\n",
       "        text-align: right;\n",
       "    }\n",
       "</style>\n",
       "<table border=\"1\" class=\"dataframe\">\n",
       "  <thead>\n",
       "    <tr style=\"text-align: right;\">\n",
       "      <th></th>\n",
       "      <th>symbol</th>\n",
       "      <th>name</th>\n",
       "      <th>nasdaq_traded</th>\n",
       "      <th>exchange</th>\n",
       "      <th>etf</th>\n",
       "      <th>round_lot_size</th>\n",
       "      <th>test_issue</th>\n",
       "      <th>cqs_symbol</th>\n",
       "      <th>nasdaq_symbol</th>\n",
       "      <th>next_shares</th>\n",
       "    </tr>\n",
       "  </thead>\n",
       "  <tbody>\n",
       "    <tr>\n",
       "      <th>0</th>\n",
       "      <td>MRK</td>\n",
       "      <td>Merck &amp; Company, Inc. Common Stock (new)</td>\n",
       "      <td>Y</td>\n",
       "      <td>N</td>\n",
       "      <td>N</td>\n",
       "      <td>100.0</td>\n",
       "      <td>N</td>\n",
       "      <td>MRK</td>\n",
       "      <td>MRK</td>\n",
       "      <td>N</td>\n",
       "    </tr>\n",
       "  </tbody>\n",
       "</table>\n",
       "</div>"
      ],
      "text/plain": [
       "  symbol                                      name nasdaq_traded exchange etf  \\\n",
       "0    MRK  Merck & Company, Inc. Common Stock (new)             Y        N   N   \n",
       "\n",
       "   round_lot_size test_issue cqs_symbol nasdaq_symbol next_shares  \n",
       "0           100.0          N        MRK           MRK           N  "
      ]
     },
     "execution_count": 9,
     "metadata": {},
     "output_type": "execute_result"
    }
   ],
   "source": [
    "obb.equity.search(\"Merck\", provider=\"nasdaq\").to_df().head(3)\n"
   ]
  },
  {
   "cell_type": "code",
   "execution_count": 10,
   "id": "9f5d7165-664e-4bdd-81e0-f06463c6aaab",
   "metadata": {},
   "outputs": [],
   "source": [
    "symbol = \"MRK\"\n",
    "company = \"Merck\""
   ]
  },
  {
   "cell_type": "code",
   "execution_count": 11,
   "id": "a8122ebf-b557-485f-90b0-ff23e0783a6e",
   "metadata": {},
   "outputs": [
    {
     "data": {
      "text/plain": [
       "OBBject\n",
       "\n",
       "id: 066457c7-1e23-727e-8000-08250f47236b\n",
       "results: [{'symbol': 'MRK', 'one_day': 0.0239, 'wtd': None, 'one_week': 0.0168, 'mt...\n",
       "provider: finviz\n",
       "warnings: None\n",
       "chart: None\n",
       "extra: {'metadata': {'arguments': {'provider_choices': {'provider': 'finviz'}, 'sta..."
      ]
     },
     "execution_count": 11,
     "metadata": {},
     "output_type": "execute_result"
    }
   ],
   "source": [
    "obj = obb.equity.price.performance(symbol)\n",
    "obj\n"
   ]
  },
  {
   "cell_type": "code",
   "execution_count": 12,
   "id": "b6d0e188-a4fc-4924-95ad-b1c980b6eaf8",
   "metadata": {},
   "outputs": [
    {
     "data": {
      "text/plain": [
       "[FinvizPricePerformanceData(symbol=MRK, one_day=0.0239, wtd=None, one_week=0.0168, mtd=None, one_month=0.0533, qtd=None, three_month=0.047, six_month=0.28550000000000003, ytd=0.20829999999999999, one_year=0.132, two_year=None, three_year=None, four_year=None, five_year=None, ten_year=None, max=None, volatility_week=0.0134, volatility_month=0.0149, price=131.73, volume=7224765.0, average_volume=8210000.000000001, relative_volume=0.88, analyst_recommendation=None, analyst_score=1.48)]"
      ]
     },
     "execution_count": 12,
     "metadata": {},
     "output_type": "execute_result"
    }
   ],
   "source": [
    "obj.results\n"
   ]
  },
  {
   "cell_type": "code",
   "execution_count": 13,
   "id": "90820eee-5f18-4b97-b133-28343c3b76f3",
   "metadata": {},
   "outputs": [
    {
     "data": {
      "text/plain": [
       "{'id': '066457c7-1e23-727e-8000-08250f47236b',\n",
       " 'results': [{'symbol': 'MRK',\n",
       "   'one_day': 0.0239,\n",
       "   'wtd': None,\n",
       "   'one_week': 0.0168,\n",
       "   'mtd': None,\n",
       "   'one_month': 0.0533,\n",
       "   'qtd': None,\n",
       "   'three_month': 0.047,\n",
       "   'six_month': 0.28550000000000003,\n",
       "   'ytd': 0.20829999999999999,\n",
       "   'one_year': 0.132,\n",
       "   'two_year': None,\n",
       "   'three_year': None,\n",
       "   'four_year': None,\n",
       "   'five_year': None,\n",
       "   'ten_year': None,\n",
       "   'max': None,\n",
       "   'volatility_week': 0.0134,\n",
       "   'volatility_month': 0.0149,\n",
       "   'price': 131.73,\n",
       "   'volume': 7224765.0,\n",
       "   'average_volume': 8210000.000000001,\n",
       "   'relative_volume': 0.88,\n",
       "   'analyst_recommendation': None,\n",
       "   'analyst_score': 1.48}],\n",
       " 'provider': 'finviz',\n",
       " 'warnings': None,\n",
       " 'chart': None,\n",
       " 'extra': {'metadata': {'arguments': {'provider_choices': {'provider': 'finviz'},\n",
       "    'standard_params': {'symbol': 'MRK'},\n",
       "    'extra_params': {}},\n",
       "   'duration': 171973541,\n",
       "   'route': '/equity/price/performance',\n",
       "   'timestamp': datetime.datetime(2024, 5, 15, 23, 24, 33, 712387)}}}"
      ]
     },
     "execution_count": 13,
     "metadata": {},
     "output_type": "execute_result"
    }
   ],
   "source": [
    "obj.dict()\n"
   ]
  },
  {
   "cell_type": "code",
   "execution_count": 14,
   "id": "f7052541-943b-4fd6-933a-eb8e1e7084af",
   "metadata": {},
   "outputs": [
    {
     "data": {
      "text/plain": [
       "{'results': [{'symbol': 'MRK',\n",
       "   'asset_type': 'EQUITY',\n",
       "   'name': 'Merck & Co., Inc.',\n",
       "   'exchange': 'NYQ',\n",
       "   'bid': 131.73,\n",
       "   'bid_size': 800,\n",
       "   'ask': 131.68,\n",
       "   'ask_size': 800,\n",
       "   'last_price': 131.73,\n",
       "   'open': 128.88,\n",
       "   'high': 131.965,\n",
       "   'low': 128.72,\n",
       "   'volume': 7223237,\n",
       "   'prev_close': 128.66,\n",
       "   'year_high': 133.1,\n",
       "   'year_low': 99.14,\n",
       "   'ma_50d': 126.818,\n",
       "   'ma_200d': 114.56235,\n",
       "   'volume_average': 8261309.0,\n",
       "   'volume_average_10d': 6897520.0,\n",
       "   'currency': 'USD'}],\n",
       " 'provider': 'yfinance',\n",
       " 'warnings': None,\n",
       " 'chart': None,\n",
       " 'extra': {'metadata': {'arguments': {'provider_choices': {'provider': 'yfinance'},\n",
       "    'standard_params': {'symbol': 'MRK'},\n",
       "    'extra_params': {'use_cache': True, 'source': 'iex'}},\n",
       "   'duration': 175450917,\n",
       "   'route': '/equity/price/quote',\n",
       "   'timestamp': '2024-05-15T23:24:33.905377'}}}"
      ]
     },
     "execution_count": 14,
     "metadata": {},
     "output_type": "execute_result"
    }
   ],
   "source": [
    "# use REST API on server running locally\n",
    "# uvicorn openbb_core.api.rest_api:app --host 0.0.0.0 --port 8000 --reload\n",
    "# REST API documentation - http://127.0.0.1:8000/docs\n",
    "# openapi.json : http://127.0.0.1:8000/openapi.json\n",
    "\n",
    "# not turning on authentication\n",
    "# msg = \"some_user:some_pass\"\n",
    "# msg_bytes = msg.encode('ascii')\n",
    "# base64_bytes = base64.b64encode(msg_bytes)\n",
    "# base64_msg = base64_bytes.decode('ascii')\n",
    "\n",
    "url = f\"http://127.0.0.1:8000/api/v1/equity/price/quote?provider=yfinance&symbol={symbol}\"\n",
    "# headers = {\"accept\": \"application/json\", \"Authorization\": f\"Basic {base64_msg}\"}\n",
    "headers = {\"accept\": \"application/json\"}\n",
    "\n",
    "response = requests.get(url=url, headers=headers)\n",
    "\n",
    "response.json()\n"
   ]
  },
  {
   "cell_type": "code",
   "execution_count": 15,
   "id": "a2f4d73b-c652-4995-8f69-0e1541f9a8ac",
   "metadata": {},
   "outputs": [
    {
     "data": {
      "text/html": [
       "<div>\n",
       "<style scoped>\n",
       "    .dataframe tbody tr th:only-of-type {\n",
       "        vertical-align: middle;\n",
       "    }\n",
       "\n",
       "    .dataframe tbody tr th {\n",
       "        vertical-align: top;\n",
       "    }\n",
       "\n",
       "    .dataframe thead th {\n",
       "        text-align: right;\n",
       "    }\n",
       "</style>\n",
       "<table border=\"1\" class=\"dataframe\">\n",
       "  <thead>\n",
       "    <tr style=\"text-align: right;\">\n",
       "      <th></th>\n",
       "      <th>open</th>\n",
       "      <th>high</th>\n",
       "      <th>low</th>\n",
       "      <th>close</th>\n",
       "      <th>volume</th>\n",
       "      <th>vwap</th>\n",
       "      <th>transactions</th>\n",
       "    </tr>\n",
       "    <tr>\n",
       "      <th>date</th>\n",
       "      <th></th>\n",
       "      <th></th>\n",
       "      <th></th>\n",
       "      <th></th>\n",
       "      <th></th>\n",
       "      <th></th>\n",
       "      <th></th>\n",
       "    </tr>\n",
       "  </thead>\n",
       "  <tbody>\n",
       "    <tr>\n",
       "      <th>2023-05-15</th>\n",
       "      <td>117.14</td>\n",
       "      <td>117.740</td>\n",
       "      <td>115.4900</td>\n",
       "      <td>116.37</td>\n",
       "      <td>5697236.0</td>\n",
       "      <td>116.3517</td>\n",
       "      <td>70438</td>\n",
       "    </tr>\n",
       "    <tr>\n",
       "      <th>2023-05-16</th>\n",
       "      <td>115.88</td>\n",
       "      <td>116.760</td>\n",
       "      <td>115.2900</td>\n",
       "      <td>116.08</td>\n",
       "      <td>4278281.0</td>\n",
       "      <td>116.2071</td>\n",
       "      <td>60730</td>\n",
       "    </tr>\n",
       "    <tr>\n",
       "      <th>2023-05-17</th>\n",
       "      <td>116.37</td>\n",
       "      <td>116.655</td>\n",
       "      <td>113.4800</td>\n",
       "      <td>114.76</td>\n",
       "      <td>7210383.0</td>\n",
       "      <td>114.5498</td>\n",
       "      <td>78904</td>\n",
       "    </tr>\n",
       "    <tr>\n",
       "      <th>2023-05-18</th>\n",
       "      <td>114.14</td>\n",
       "      <td>115.070</td>\n",
       "      <td>113.3300</td>\n",
       "      <td>114.00</td>\n",
       "      <td>6437144.0</td>\n",
       "      <td>114.0864</td>\n",
       "      <td>75952</td>\n",
       "    </tr>\n",
       "    <tr>\n",
       "      <th>2023-05-19</th>\n",
       "      <td>114.33</td>\n",
       "      <td>116.240</td>\n",
       "      <td>114.1000</td>\n",
       "      <td>115.49</td>\n",
       "      <td>7647080.0</td>\n",
       "      <td>115.4905</td>\n",
       "      <td>63052</td>\n",
       "    </tr>\n",
       "    <tr>\n",
       "      <th>...</th>\n",
       "      <td>...</td>\n",
       "      <td>...</td>\n",
       "      <td>...</td>\n",
       "      <td>...</td>\n",
       "      <td>...</td>\n",
       "      <td>...</td>\n",
       "      <td>...</td>\n",
       "    </tr>\n",
       "    <tr>\n",
       "      <th>2024-05-08</th>\n",
       "      <td>130.58</td>\n",
       "      <td>131.510</td>\n",
       "      <td>129.3300</td>\n",
       "      <td>129.55</td>\n",
       "      <td>6580073.0</td>\n",
       "      <td>129.7913</td>\n",
       "      <td>74021</td>\n",
       "    </tr>\n",
       "    <tr>\n",
       "      <th>2024-05-09</th>\n",
       "      <td>128.94</td>\n",
       "      <td>130.500</td>\n",
       "      <td>128.9400</td>\n",
       "      <td>130.23</td>\n",
       "      <td>9038061.0</td>\n",
       "      <td>129.9542</td>\n",
       "      <td>70936</td>\n",
       "    </tr>\n",
       "    <tr>\n",
       "      <th>2024-05-10</th>\n",
       "      <td>130.82</td>\n",
       "      <td>130.880</td>\n",
       "      <td>129.9500</td>\n",
       "      <td>130.06</td>\n",
       "      <td>5540149.0</td>\n",
       "      <td>130.3223</td>\n",
       "      <td>73151</td>\n",
       "    </tr>\n",
       "    <tr>\n",
       "      <th>2024-05-13</th>\n",
       "      <td>129.51</td>\n",
       "      <td>129.710</td>\n",
       "      <td>128.0200</td>\n",
       "      <td>129.29</td>\n",
       "      <td>6920607.0</td>\n",
       "      <td>128.9122</td>\n",
       "      <td>85432</td>\n",
       "    </tr>\n",
       "    <tr>\n",
       "      <th>2024-05-14</th>\n",
       "      <td>129.20</td>\n",
       "      <td>129.200</td>\n",
       "      <td>128.0269</td>\n",
       "      <td>128.66</td>\n",
       "      <td>6055317.0</td>\n",
       "      <td>128.5396</td>\n",
       "      <td>76232</td>\n",
       "    </tr>\n",
       "  </tbody>\n",
       "</table>\n",
       "<p>252 rows × 7 columns</p>\n",
       "</div>"
      ],
      "text/plain": [
       "              open     high       low   close     volume      vwap  \\\n",
       "date                                                                 \n",
       "2023-05-15  117.14  117.740  115.4900  116.37  5697236.0  116.3517   \n",
       "2023-05-16  115.88  116.760  115.2900  116.08  4278281.0  116.2071   \n",
       "2023-05-17  116.37  116.655  113.4800  114.76  7210383.0  114.5498   \n",
       "2023-05-18  114.14  115.070  113.3300  114.00  6437144.0  114.0864   \n",
       "2023-05-19  114.33  116.240  114.1000  115.49  7647080.0  115.4905   \n",
       "...            ...      ...       ...     ...        ...       ...   \n",
       "2024-05-08  130.58  131.510  129.3300  129.55  6580073.0  129.7913   \n",
       "2024-05-09  128.94  130.500  128.9400  130.23  9038061.0  129.9542   \n",
       "2024-05-10  130.82  130.880  129.9500  130.06  5540149.0  130.3223   \n",
       "2024-05-13  129.51  129.710  128.0200  129.29  6920607.0  128.9122   \n",
       "2024-05-14  129.20  129.200  128.0269  128.66  6055317.0  128.5396   \n",
       "\n",
       "            transactions  \n",
       "date                      \n",
       "2023-05-15         70438  \n",
       "2023-05-16         60730  \n",
       "2023-05-17         78904  \n",
       "2023-05-18         75952  \n",
       "2023-05-19         63052  \n",
       "...                  ...  \n",
       "2024-05-08         74021  \n",
       "2024-05-09         70936  \n",
       "2024-05-10         73151  \n",
       "2024-05-13         85432  \n",
       "2024-05-14         76232  \n",
       "\n",
       "[252 rows x 7 columns]"
      ]
     },
     "execution_count": 15,
     "metadata": {},
     "output_type": "execute_result"
    }
   ],
   "source": [
    "data = obb.equity.price.historical(symbol, provider=\"polygon\")\n",
    "data.to_dataframe()\n"
   ]
  },
  {
   "cell_type": "code",
   "execution_count": 16,
   "id": "fca0d125-d820-4175-8853-576d2eba36e7",
   "metadata": {},
   "outputs": [
    {
     "data": {
      "text/html": [
       "<div>\n",
       "<style scoped>\n",
       "    .dataframe tbody tr th:only-of-type {\n",
       "        vertical-align: middle;\n",
       "    }\n",
       "\n",
       "    .dataframe tbody tr th {\n",
       "        vertical-align: top;\n",
       "    }\n",
       "\n",
       "    .dataframe thead th {\n",
       "        text-align: right;\n",
       "    }\n",
       "</style>\n",
       "<table border=\"1\" class=\"dataframe\">\n",
       "  <thead>\n",
       "    <tr style=\"text-align: right;\">\n",
       "      <th></th>\n",
       "      <th>close</th>\n",
       "      <th>high</th>\n",
       "      <th>low</th>\n",
       "      <th>open</th>\n",
       "      <th>transactions</th>\n",
       "      <th>volume</th>\n",
       "      <th>vwap</th>\n",
       "    </tr>\n",
       "    <tr>\n",
       "      <th>date</th>\n",
       "      <th></th>\n",
       "      <th></th>\n",
       "      <th></th>\n",
       "      <th></th>\n",
       "      <th></th>\n",
       "      <th></th>\n",
       "      <th></th>\n",
       "    </tr>\n",
       "  </thead>\n",
       "  <tbody>\n",
       "    <tr>\n",
       "      <th>2023-05-15</th>\n",
       "      <td>413.01</td>\n",
       "      <td>413.4300</td>\n",
       "      <td>410.230</td>\n",
       "      <td>412.22</td>\n",
       "      <td>427865</td>\n",
       "      <td>54289383.0</td>\n",
       "      <td>412.1201</td>\n",
       "    </tr>\n",
       "    <tr>\n",
       "      <th>2023-05-16</th>\n",
       "      <td>410.25</td>\n",
       "      <td>412.8150</td>\n",
       "      <td>410.240</td>\n",
       "      <td>411.86</td>\n",
       "      <td>447536</td>\n",
       "      <td>57705495.0</td>\n",
       "      <td>411.3774</td>\n",
       "    </tr>\n",
       "    <tr>\n",
       "      <th>2023-05-17</th>\n",
       "      <td>415.23</td>\n",
       "      <td>415.8550</td>\n",
       "      <td>410.635</td>\n",
       "      <td>412.35</td>\n",
       "      <td>585038</td>\n",
       "      <td>86786957.0</td>\n",
       "      <td>413.4302</td>\n",
       "    </tr>\n",
       "    <tr>\n",
       "      <th>2023-05-18</th>\n",
       "      <td>419.23</td>\n",
       "      <td>419.6700</td>\n",
       "      <td>414.670</td>\n",
       "      <td>414.90</td>\n",
       "      <td>672492</td>\n",
       "      <td>97177195.0</td>\n",
       "      <td>417.1828</td>\n",
       "    </tr>\n",
       "    <tr>\n",
       "      <th>2023-05-19</th>\n",
       "      <td>418.62</td>\n",
       "      <td>420.7200</td>\n",
       "      <td>417.350</td>\n",
       "      <td>420.17</td>\n",
       "      <td>642871</td>\n",
       "      <td>103793317.0</td>\n",
       "      <td>419.0232</td>\n",
       "    </tr>\n",
       "    <tr>\n",
       "      <th>...</th>\n",
       "      <td>...</td>\n",
       "      <td>...</td>\n",
       "      <td>...</td>\n",
       "      <td>...</td>\n",
       "      <td>...</td>\n",
       "      <td>...</td>\n",
       "      <td>...</td>\n",
       "    </tr>\n",
       "    <tr>\n",
       "      <th>2024-05-08</th>\n",
       "      <td>517.19</td>\n",
       "      <td>517.7400</td>\n",
       "      <td>515.140</td>\n",
       "      <td>515.26</td>\n",
       "      <td>369150</td>\n",
       "      <td>42012599.0</td>\n",
       "      <td>516.9211</td>\n",
       "    </tr>\n",
       "    <tr>\n",
       "      <th>2024-05-09</th>\n",
       "      <td>520.17</td>\n",
       "      <td>520.2074</td>\n",
       "      <td>516.705</td>\n",
       "      <td>517.38</td>\n",
       "      <td>399512</td>\n",
       "      <td>43583253.0</td>\n",
       "      <td>519.1084</td>\n",
       "    </tr>\n",
       "    <tr>\n",
       "      <th>2024-05-10</th>\n",
       "      <td>520.84</td>\n",
       "      <td>522.6350</td>\n",
       "      <td>519.590</td>\n",
       "      <td>521.81</td>\n",
       "      <td>428536</td>\n",
       "      <td>52201942.0</td>\n",
       "      <td>520.8834</td>\n",
       "    </tr>\n",
       "    <tr>\n",
       "      <th>2024-05-13</th>\n",
       "      <td>520.91</td>\n",
       "      <td>522.6700</td>\n",
       "      <td>519.740</td>\n",
       "      <td>522.56</td>\n",
       "      <td>360847</td>\n",
       "      <td>36692999.0</td>\n",
       "      <td>521.0738</td>\n",
       "    </tr>\n",
       "    <tr>\n",
       "      <th>2024-05-14</th>\n",
       "      <td>523.30</td>\n",
       "      <td>523.8300</td>\n",
       "      <td>520.560</td>\n",
       "      <td>521.11</td>\n",
       "      <td>417233</td>\n",
       "      <td>57521901.0</td>\n",
       "      <td>522.2996</td>\n",
       "    </tr>\n",
       "  </tbody>\n",
       "</table>\n",
       "<p>252 rows × 7 columns</p>\n",
       "</div>"
      ],
      "text/plain": [
       "             close      high      low    open  transactions       volume  \\\n",
       "date                                                                       \n",
       "2023-05-15  413.01  413.4300  410.230  412.22        427865   54289383.0   \n",
       "2023-05-16  410.25  412.8150  410.240  411.86        447536   57705495.0   \n",
       "2023-05-17  415.23  415.8550  410.635  412.35        585038   86786957.0   \n",
       "2023-05-18  419.23  419.6700  414.670  414.90        672492   97177195.0   \n",
       "2023-05-19  418.62  420.7200  417.350  420.17        642871  103793317.0   \n",
       "...            ...       ...      ...     ...           ...          ...   \n",
       "2024-05-08  517.19  517.7400  515.140  515.26        369150   42012599.0   \n",
       "2024-05-09  520.17  520.2074  516.705  517.38        399512   43583253.0   \n",
       "2024-05-10  520.84  522.6350  519.590  521.81        428536   52201942.0   \n",
       "2024-05-13  520.91  522.6700  519.740  522.56        360847   36692999.0   \n",
       "2024-05-14  523.30  523.8300  520.560  521.11        417233   57521901.0   \n",
       "\n",
       "                vwap  \n",
       "date                  \n",
       "2023-05-15  412.1201  \n",
       "2023-05-16  411.3774  \n",
       "2023-05-17  413.4302  \n",
       "2023-05-18  417.1828  \n",
       "2023-05-19  419.0232  \n",
       "...              ...  \n",
       "2024-05-08  516.9211  \n",
       "2024-05-09  519.1084  \n",
       "2024-05-10  520.8834  \n",
       "2024-05-13  521.0738  \n",
       "2024-05-14  522.2996  \n",
       "\n",
       "[252 rows x 7 columns]"
      ]
     },
     "execution_count": 16,
     "metadata": {},
     "output_type": "execute_result"
    }
   ],
   "source": [
    "# use the local rest server\n",
    "data = []\n",
    "symbol2=\"SPY\"\n",
    "url = f\"http://127.0.0.1:8000/api/v1/equity/price/historical?provider=polygon&symbol={symbol2}\"\n",
    "headers = {\"accept\": \"application/json\"}\n",
    "\n",
    "response = requests.get(url, headers=headers, timeout=3)\n",
    "\n",
    "if response.status_code == 200:\n",
    "  data = OBBject.model_validate(response.json())\n",
    "\n",
    "data.to_df()\n"
   ]
  },
  {
   "cell_type": "code",
   "execution_count": 17,
   "id": "b075d0ae-55b4-49f8-acf7-c0a9045f322c",
   "metadata": {},
   "outputs": [
    {
     "data": {
      "text/plain": [
       "[('MRVL', 'Marvell Technology, Inc. - Common Stock')]"
      ]
     },
     "execution_count": 17,
     "metadata": {},
     "output_type": "execute_result"
    }
   ],
   "source": [
    "results = obb.equity.search(query='marvell', is_symbol=False, provider='nasdaq', use_cache=True)\n",
    "[(r.symbol, r.name) for r in results.results]\n"
   ]
  },
  {
   "cell_type": "code",
   "execution_count": 18,
   "id": "60b0843c-df4f-4459-b721-c73bfe0730b0",
   "metadata": {},
   "outputs": [
    {
     "data": {
      "text/html": [
       "<div>\n",
       "<style scoped>\n",
       "    .dataframe tbody tr th:only-of-type {\n",
       "        vertical-align: middle;\n",
       "    }\n",
       "\n",
       "    .dataframe tbody tr th {\n",
       "        vertical-align: top;\n",
       "    }\n",
       "\n",
       "    .dataframe thead th {\n",
       "        text-align: right;\n",
       "    }\n",
       "</style>\n",
       "<table border=\"1\" class=\"dataframe\">\n",
       "  <thead>\n",
       "    <tr style=\"text-align: right;\">\n",
       "      <th></th>\n",
       "      <th>symbol</th>\n",
       "      <th>name</th>\n",
       "      <th>exchange</th>\n",
       "      <th>last_price</th>\n",
       "      <th>last_timestamp</th>\n",
       "      <th>open</th>\n",
       "      <th>high</th>\n",
       "      <th>low</th>\n",
       "      <th>volume</th>\n",
       "      <th>prev_close</th>\n",
       "      <th>...</th>\n",
       "      <th>year_high</th>\n",
       "      <th>year_low</th>\n",
       "      <th>price_avg50</th>\n",
       "      <th>price_avg200</th>\n",
       "      <th>avg_volume</th>\n",
       "      <th>market_cap</th>\n",
       "      <th>shares_outstanding</th>\n",
       "      <th>eps</th>\n",
       "      <th>pe</th>\n",
       "      <th>earnings_announcement</th>\n",
       "    </tr>\n",
       "  </thead>\n",
       "  <tbody>\n",
       "    <tr>\n",
       "      <th>0</th>\n",
       "      <td>TD</td>\n",
       "      <td>The Toronto-Dominion Bank</td>\n",
       "      <td>NYSE</td>\n",
       "      <td>56.89</td>\n",
       "      <td>2024-05-15 20:00:02+00:00</td>\n",
       "      <td>56.90</td>\n",
       "      <td>57.12</td>\n",
       "      <td>56.52</td>\n",
       "      <td>1821579</td>\n",
       "      <td>56.72</td>\n",
       "      <td>...</td>\n",
       "      <td>66.15</td>\n",
       "      <td>54.12</td>\n",
       "      <td>58.6438</td>\n",
       "      <td>60.15885</td>\n",
       "      <td>3059839</td>\n",
       "      <td>1.008148e+11</td>\n",
       "      <td>1772100000</td>\n",
       "      <td>4.61</td>\n",
       "      <td>12.34</td>\n",
       "      <td>2024-05-23 12:00:00+00:00</td>\n",
       "    </tr>\n",
       "    <tr>\n",
       "      <th>1</th>\n",
       "      <td>SCHW</td>\n",
       "      <td>The Charles Schwab Corporation</td>\n",
       "      <td>NYSE</td>\n",
       "      <td>78.68</td>\n",
       "      <td>2024-05-15 20:00:02+00:00</td>\n",
       "      <td>77.42</td>\n",
       "      <td>78.79</td>\n",
       "      <td>77.38</td>\n",
       "      <td>6369948</td>\n",
       "      <td>77.07</td>\n",
       "      <td>...</td>\n",
       "      <td>78.79</td>\n",
       "      <td>48.66</td>\n",
       "      <td>72.0174</td>\n",
       "      <td>63.23660</td>\n",
       "      <td>7058424</td>\n",
       "      <td>1.398364e+11</td>\n",
       "      <td>1777280000</td>\n",
       "      <td>2.39</td>\n",
       "      <td>32.92</td>\n",
       "      <td>2024-07-16 04:00:00+00:00</td>\n",
       "    </tr>\n",
       "    <tr>\n",
       "      <th>2</th>\n",
       "      <td>JPM</td>\n",
       "      <td>JPMorgan Chase &amp; Co.</td>\n",
       "      <td>NYSE</td>\n",
       "      <td>202.11</td>\n",
       "      <td>2024-05-15 20:00:02+00:00</td>\n",
       "      <td>202.01</td>\n",
       "      <td>202.69</td>\n",
       "      <td>199.77</td>\n",
       "      <td>8115081</td>\n",
       "      <td>201.51</td>\n",
       "      <td>...</td>\n",
       "      <td>202.69</td>\n",
       "      <td>134.40</td>\n",
       "      <td>192.7314</td>\n",
       "      <td>166.44000</td>\n",
       "      <td>8847162</td>\n",
       "      <td>5.803932e+11</td>\n",
       "      <td>2871670000</td>\n",
       "      <td>16.56</td>\n",
       "      <td>12.20</td>\n",
       "      <td>2024-07-12 00:00:00+00:00</td>\n",
       "    </tr>\n",
       "    <tr>\n",
       "      <th>3</th>\n",
       "      <td>MS</td>\n",
       "      <td>Morgan Stanley</td>\n",
       "      <td>NYSE</td>\n",
       "      <td>100.52</td>\n",
       "      <td>2024-05-15 20:00:47+00:00</td>\n",
       "      <td>99.00</td>\n",
       "      <td>100.98</td>\n",
       "      <td>99.00</td>\n",
       "      <td>6918368</td>\n",
       "      <td>99.38</td>\n",
       "      <td>...</td>\n",
       "      <td>100.98</td>\n",
       "      <td>69.42</td>\n",
       "      <td>91.6292</td>\n",
       "      <td>85.79915</td>\n",
       "      <td>7980975</td>\n",
       "      <td>1.633611e+11</td>\n",
       "      <td>1625160000</td>\n",
       "      <td>5.50</td>\n",
       "      <td>18.28</td>\n",
       "      <td>2024-07-16 04:00:00+00:00</td>\n",
       "    </tr>\n",
       "  </tbody>\n",
       "</table>\n",
       "<p>4 rows × 22 columns</p>\n",
       "</div>"
      ],
      "text/plain": [
       "  symbol                            name exchange  last_price  \\\n",
       "0     TD       The Toronto-Dominion Bank     NYSE       56.89   \n",
       "1   SCHW  The Charles Schwab Corporation     NYSE       78.68   \n",
       "2    JPM            JPMorgan Chase & Co.     NYSE      202.11   \n",
       "3     MS                  Morgan Stanley     NYSE      100.52   \n",
       "\n",
       "             last_timestamp    open    high     low   volume  prev_close  ...  \\\n",
       "0 2024-05-15 20:00:02+00:00   56.90   57.12   56.52  1821579       56.72  ...   \n",
       "1 2024-05-15 20:00:02+00:00   77.42   78.79   77.38  6369948       77.07  ...   \n",
       "2 2024-05-15 20:00:02+00:00  202.01  202.69  199.77  8115081      201.51  ...   \n",
       "3 2024-05-15 20:00:47+00:00   99.00  100.98   99.00  6918368       99.38  ...   \n",
       "\n",
       "   year_high  year_low  price_avg50  price_avg200  avg_volume    market_cap  \\\n",
       "0      66.15     54.12      58.6438      60.15885     3059839  1.008148e+11   \n",
       "1      78.79     48.66      72.0174      63.23660     7058424  1.398364e+11   \n",
       "2     202.69    134.40     192.7314     166.44000     8847162  5.803932e+11   \n",
       "3     100.98     69.42      91.6292      85.79915     7980975  1.633611e+11   \n",
       "\n",
       "   shares_outstanding    eps     pe     earnings_announcement  \n",
       "0          1772100000   4.61  12.34 2024-05-23 12:00:00+00:00  \n",
       "1          1777280000   2.39  32.92 2024-07-16 04:00:00+00:00  \n",
       "2          2871670000  16.56  12.20 2024-07-12 00:00:00+00:00  \n",
       "3          1625160000   5.50  18.28 2024-07-16 04:00:00+00:00  \n",
       "\n",
       "[4 rows x 22 columns]"
      ]
     },
     "execution_count": 18,
     "metadata": {},
     "output_type": "execute_result"
    }
   ],
   "source": [
    "# multiple symbols\n",
    "quotes = obb.equity.price.quote(\"td,schw,jpm,ms\", provider=\"fmp\")\n",
    "quotes.to_df()\n"
   ]
  },
  {
   "cell_type": "code",
   "execution_count": 19,
   "id": "8ba4d940-9520-4e56-86f2-82c8f6a66c70",
   "metadata": {},
   "outputs": [
    {
     "data": {
      "text/html": [
       "<div>\n",
       "<style scoped>\n",
       "    .dataframe tbody tr th:only-of-type {\n",
       "        vertical-align: middle;\n",
       "    }\n",
       "\n",
       "    .dataframe tbody tr th {\n",
       "        vertical-align: top;\n",
       "    }\n",
       "\n",
       "    .dataframe thead th {\n",
       "        text-align: right;\n",
       "    }\n",
       "</style>\n",
       "<table border=\"1\" class=\"dataframe\">\n",
       "  <thead>\n",
       "    <tr style=\"text-align: right;\">\n",
       "      <th></th>\n",
       "      <th>yfinance</th>\n",
       "      <th>fmp</th>\n",
       "      <th>polygon</th>\n",
       "    </tr>\n",
       "  </thead>\n",
       "  <tbody>\n",
       "    <tr>\n",
       "      <th>0</th>\n",
       "      <td>1.066750e+11</td>\n",
       "      <td>1.066750e+11</td>\n",
       "      <td>1.066750e+11</td>\n",
       "    </tr>\n",
       "    <tr>\n",
       "      <th>1</th>\n",
       "      <td>1.091600e+11</td>\n",
       "      <td>1.091600e+11</td>\n",
       "      <td>1.091600e+11</td>\n",
       "    </tr>\n",
       "    <tr>\n",
       "      <th>2</th>\n",
       "      <td>1.056940e+11</td>\n",
       "      <td>1.056940e+11</td>\n",
       "      <td>1.056940e+11</td>\n",
       "    </tr>\n",
       "    <tr>\n",
       "      <th>3</th>\n",
       "      <td>9.158800e+10</td>\n",
       "      <td>NaN</td>\n",
       "      <td>NaN</td>\n",
       "    </tr>\n",
       "  </tbody>\n",
       "</table>\n",
       "</div>"
      ],
      "text/plain": [
       "       yfinance           fmp       polygon\n",
       "0  1.066750e+11  1.066750e+11  1.066750e+11\n",
       "1  1.091600e+11  1.091600e+11  1.091600e+11\n",
       "2  1.056940e+11  1.056940e+11  1.056940e+11\n",
       "3  9.158800e+10           NaN           NaN"
      ]
     },
     "execution_count": 19,
     "metadata": {},
     "output_type": "execute_result"
    }
   ],
   "source": [
    "# multiple providers\n",
    "\n",
    "df = pd.DataFrame()\n",
    "\n",
    "df[\"yfinance\"] = (\n",
    "  obb.equity.fundamental.balance(symbol, provider=\"yfinance\", limit=3)\n",
    "  .to_df().get(\"total_assets\")\n",
    ")\n",
    "\n",
    "df[\"fmp\"] = (\n",
    "  obb.equity.fundamental.balance(symbol, provider=\"fmp\", limit=3)\n",
    "  .to_df().get(\"total_assets\")\n",
    ")\n",
    "\n",
    "df[\"polygon\"] = (\n",
    "  obb.equity.fundamental.balance(symbol, provider=\"polygon\", limit=3)\n",
    "  .to_df().get(\"total_assets\")\n",
    ")\n",
    "\n",
    "df"
   ]
  },
  {
   "cell_type": "code",
   "execution_count": 20,
   "id": "4a2e949d-7d0a-44e2-a1ed-46802abd3d74",
   "metadata": {},
   "outputs": [
    {
     "data": {
      "text/html": [
       "<div>\n",
       "<style scoped>\n",
       "    .dataframe tbody tr th:only-of-type {\n",
       "        vertical-align: middle;\n",
       "    }\n",
       "\n",
       "    .dataframe tbody tr th {\n",
       "        vertical-align: top;\n",
       "    }\n",
       "\n",
       "    .dataframe thead th {\n",
       "        text-align: right;\n",
       "    }\n",
       "</style>\n",
       "<table border=\"1\" class=\"dataframe\">\n",
       "  <thead>\n",
       "    <tr style=\"text-align: right;\">\n",
       "      <th></th>\n",
       "      <th>title</th>\n",
       "      <th>text</th>\n",
       "      <th>images</th>\n",
       "      <th>url</th>\n",
       "      <th>symbols</th>\n",
       "      <th>source</th>\n",
       "      <th>id</th>\n",
       "      <th>amp_url</th>\n",
       "      <th>publisher</th>\n",
       "    </tr>\n",
       "    <tr>\n",
       "      <th>date</th>\n",
       "      <th></th>\n",
       "      <th></th>\n",
       "      <th></th>\n",
       "      <th></th>\n",
       "      <th></th>\n",
       "      <th></th>\n",
       "      <th></th>\n",
       "      <th></th>\n",
       "      <th></th>\n",
       "    </tr>\n",
       "  </thead>\n",
       "  <tbody>\n",
       "    <tr>\n",
       "      <th>2024-05-13 15:16:00+00:00</th>\n",
       "      <td>Bristol Myers (BMY) Fails to Meet Goal in Opdi...</td>\n",
       "      <td>Bristol Myers' (BMY) late-stage label-expandin...</td>\n",
       "      <td>[{'url': 'https://staticx-tuner.zacks.com/imag...</td>\n",
       "      <td>https://www.zacks.com/stock/news/2272954/brist...</td>\n",
       "      <td>AZN,BMY,MRK,LGND</td>\n",
       "      <td>Zacks Equity Research</td>\n",
       "      <td>DZ7EFMYgND4Mcq1fh_0B9LZ6EWP-9-JQz_pR6koaUmA</td>\n",
       "      <td>https://www.zacks.com/amp/stock/news/2272954/b...</td>\n",
       "      <td>{'favicon_url': 'https://s3.polygon.io/public/...</td>\n",
       "    </tr>\n",
       "    <tr>\n",
       "      <th>2024-05-14 13:25:00+00:00</th>\n",
       "      <td>Merck (MRK) Ends Keytruda Combo Melanoma Study...</td>\n",
       "      <td>Merck (MRK) discontinues the Keytruda plus vib...</td>\n",
       "      <td>[{'url': 'https://staticx-tuner.zacks.com/imag...</td>\n",
       "      <td>https://www.zacks.com/stock/news/2273402/merck...</td>\n",
       "      <td>MRK,MRNA,LGND,ANIP</td>\n",
       "      <td>Zacks Equity Research</td>\n",
       "      <td>R1VrrdEUIYHeJqiOWSzIxRUOlqB_Oa1pGnAYJYBm06w</td>\n",
       "      <td>https://www.zacks.com/amp/stock/news/2273402/m...</td>\n",
       "      <td>{'favicon_url': 'https://s3.polygon.io/public/...</td>\n",
       "    </tr>\n",
       "    <tr>\n",
       "      <th>2024-05-15 05:22:49+00:00</th>\n",
       "      <td>MannKind Outperforms As Tyvaso DPI Captures Ma...</td>\n",
       "      <td>MannKind's long-term liabilities exceed its as...</td>\n",
       "      <td>[{'url': 'https://static.seekingalpha.com/cdn/...</td>\n",
       "      <td>https://seekingalpha.com/article/4693345-mannk...</td>\n",
       "      <td>LQDA,MRK,UTHR,MNKD</td>\n",
       "      <td>Stephen Ayers</td>\n",
       "      <td>fQ4xeEwbTVYO0LoI2YgpHdzGmeDLS3cKjfUdvyuUBfA</td>\n",
       "      <td>None</td>\n",
       "      <td>{'favicon_url': 'https://s3.polygon.io/public/...</td>\n",
       "    </tr>\n",
       "    <tr>\n",
       "      <th>2024-05-15 12:45:36+00:00</th>\n",
       "      <td>Pfizer: Best Trading Momentum Since 2021 And 6...</td>\n",
       "      <td>Pfizer has been a losing investment for severa...</td>\n",
       "      <td>[{'url': 'https://static.seekingalpha.com/cdn/...</td>\n",
       "      <td>https://seekingalpha.com/article/4693405-pfize...</td>\n",
       "      <td>ABBV,AMGN,AZN,AZNCF,BMY,BMYMP,GILD,JNJ,LLY,MRK...</td>\n",
       "      <td>Paul Franke</td>\n",
       "      <td>q9bmkpb18oxPdfIlrtS-uA0trrZ-yMQWBaO6f28ZfkM</td>\n",
       "      <td>None</td>\n",
       "      <td>{'favicon_url': 'https://s3.polygon.io/public/...</td>\n",
       "    </tr>\n",
       "    <tr>\n",
       "      <th>2024-05-15 17:11:00+00:00</th>\n",
       "      <td>Top Stock Reports for Broadcom, Merck &amp; Airbnb</td>\n",
       "      <td>Today's Research Daily features new research r...</td>\n",
       "      <td>[{'url': 'https://staticx-tuner.zacks.com/imag...</td>\n",
       "      <td>https://www.zacks.com/research-daily/2274193/t...</td>\n",
       "      <td>PCG,MRK,OKE,ENB,AVGO,ABNB</td>\n",
       "      <td>Sheraz Mian</td>\n",
       "      <td>m4MxY768tHMwb6pp0h-AmvZU_TduiMvnjVNHpoVNjDQ</td>\n",
       "      <td>None</td>\n",
       "      <td>{'favicon_url': 'https://s3.polygon.io/public/...</td>\n",
       "    </tr>\n",
       "  </tbody>\n",
       "</table>\n",
       "</div>"
      ],
      "text/plain": [
       "                                                                       title  \\\n",
       "date                                                                           \n",
       "2024-05-13 15:16:00+00:00  Bristol Myers (BMY) Fails to Meet Goal in Opdi...   \n",
       "2024-05-14 13:25:00+00:00  Merck (MRK) Ends Keytruda Combo Melanoma Study...   \n",
       "2024-05-15 05:22:49+00:00  MannKind Outperforms As Tyvaso DPI Captures Ma...   \n",
       "2024-05-15 12:45:36+00:00  Pfizer: Best Trading Momentum Since 2021 And 6...   \n",
       "2024-05-15 17:11:00+00:00     Top Stock Reports for Broadcom, Merck & Airbnb   \n",
       "\n",
       "                                                                        text  \\\n",
       "date                                                                           \n",
       "2024-05-13 15:16:00+00:00  Bristol Myers' (BMY) late-stage label-expandin...   \n",
       "2024-05-14 13:25:00+00:00  Merck (MRK) discontinues the Keytruda plus vib...   \n",
       "2024-05-15 05:22:49+00:00  MannKind's long-term liabilities exceed its as...   \n",
       "2024-05-15 12:45:36+00:00  Pfizer has been a losing investment for severa...   \n",
       "2024-05-15 17:11:00+00:00  Today's Research Daily features new research r...   \n",
       "\n",
       "                                                                      images  \\\n",
       "date                                                                           \n",
       "2024-05-13 15:16:00+00:00  [{'url': 'https://staticx-tuner.zacks.com/imag...   \n",
       "2024-05-14 13:25:00+00:00  [{'url': 'https://staticx-tuner.zacks.com/imag...   \n",
       "2024-05-15 05:22:49+00:00  [{'url': 'https://static.seekingalpha.com/cdn/...   \n",
       "2024-05-15 12:45:36+00:00  [{'url': 'https://static.seekingalpha.com/cdn/...   \n",
       "2024-05-15 17:11:00+00:00  [{'url': 'https://staticx-tuner.zacks.com/imag...   \n",
       "\n",
       "                                                                         url  \\\n",
       "date                                                                           \n",
       "2024-05-13 15:16:00+00:00  https://www.zacks.com/stock/news/2272954/brist...   \n",
       "2024-05-14 13:25:00+00:00  https://www.zacks.com/stock/news/2273402/merck...   \n",
       "2024-05-15 05:22:49+00:00  https://seekingalpha.com/article/4693345-mannk...   \n",
       "2024-05-15 12:45:36+00:00  https://seekingalpha.com/article/4693405-pfize...   \n",
       "2024-05-15 17:11:00+00:00  https://www.zacks.com/research-daily/2274193/t...   \n",
       "\n",
       "                                                                     symbols  \\\n",
       "date                                                                           \n",
       "2024-05-13 15:16:00+00:00                                   AZN,BMY,MRK,LGND   \n",
       "2024-05-14 13:25:00+00:00                                 MRK,MRNA,LGND,ANIP   \n",
       "2024-05-15 05:22:49+00:00                                 LQDA,MRK,UTHR,MNKD   \n",
       "2024-05-15 12:45:36+00:00  ABBV,AMGN,AZN,AZNCF,BMY,BMYMP,GILD,JNJ,LLY,MRK...   \n",
       "2024-05-15 17:11:00+00:00                          PCG,MRK,OKE,ENB,AVGO,ABNB   \n",
       "\n",
       "                                          source  \\\n",
       "date                                               \n",
       "2024-05-13 15:16:00+00:00  Zacks Equity Research   \n",
       "2024-05-14 13:25:00+00:00  Zacks Equity Research   \n",
       "2024-05-15 05:22:49+00:00          Stephen Ayers   \n",
       "2024-05-15 12:45:36+00:00            Paul Franke   \n",
       "2024-05-15 17:11:00+00:00            Sheraz Mian   \n",
       "\n",
       "                                                                    id  \\\n",
       "date                                                                     \n",
       "2024-05-13 15:16:00+00:00  DZ7EFMYgND4Mcq1fh_0B9LZ6EWP-9-JQz_pR6koaUmA   \n",
       "2024-05-14 13:25:00+00:00  R1VrrdEUIYHeJqiOWSzIxRUOlqB_Oa1pGnAYJYBm06w   \n",
       "2024-05-15 05:22:49+00:00  fQ4xeEwbTVYO0LoI2YgpHdzGmeDLS3cKjfUdvyuUBfA   \n",
       "2024-05-15 12:45:36+00:00  q9bmkpb18oxPdfIlrtS-uA0trrZ-yMQWBaO6f28ZfkM   \n",
       "2024-05-15 17:11:00+00:00  m4MxY768tHMwb6pp0h-AmvZU_TduiMvnjVNHpoVNjDQ   \n",
       "\n",
       "                                                                     amp_url  \\\n",
       "date                                                                           \n",
       "2024-05-13 15:16:00+00:00  https://www.zacks.com/amp/stock/news/2272954/b...   \n",
       "2024-05-14 13:25:00+00:00  https://www.zacks.com/amp/stock/news/2273402/m...   \n",
       "2024-05-15 05:22:49+00:00                                               None   \n",
       "2024-05-15 12:45:36+00:00                                               None   \n",
       "2024-05-15 17:11:00+00:00                                               None   \n",
       "\n",
       "                                                                   publisher  \n",
       "date                                                                          \n",
       "2024-05-13 15:16:00+00:00  {'favicon_url': 'https://s3.polygon.io/public/...  \n",
       "2024-05-14 13:25:00+00:00  {'favicon_url': 'https://s3.polygon.io/public/...  \n",
       "2024-05-15 05:22:49+00:00  {'favicon_url': 'https://s3.polygon.io/public/...  \n",
       "2024-05-15 12:45:36+00:00  {'favicon_url': 'https://s3.polygon.io/public/...  \n",
       "2024-05-15 17:11:00+00:00  {'favicon_url': 'https://s3.polygon.io/public/...  "
      ]
     },
     "execution_count": 20,
     "metadata": {},
     "output_type": "execute_result"
    }
   ],
   "source": [
    "obb.news.company(symbol, provider='polygon', limit=5).to_df()\n"
   ]
  },
  {
   "cell_type": "markdown",
   "id": "05e5429f-164c-4d82-81da-5b22b2c2c4ae",
   "metadata": {},
   "source": [
    "# Prompt OpenAI "
   ]
  },
  {
   "cell_type": "code",
   "execution_count": 21,
   "id": "a758632e-504b-4c2d-a26a-5de9cd158946",
   "metadata": {},
   "outputs": [],
   "source": [
    "MODEL = \"gpt-4o\"\n",
    "\n",
    "# MAX_INPUT_TOKENS = 65536     \n",
    "MAX_OUTPUT_TOKENS = 4096    # max in current model\n",
    "MAX_RETRIES = 3\n",
    "TEMPERATURE = 0\n",
    "\n"
   ]
  },
  {
   "cell_type": "code",
   "execution_count": 22,
   "id": "b7abde63-5b62-48bc-9df0-cdf3c80990bd",
   "metadata": {},
   "outputs": [
    {
     "name": "stdout",
     "output_type": "stream",
     "text": [
      "The airspeed velocity of an unladen swallow is often a topic of curiosity and humor thanks to its reference in the movie \"Monty Python and the Holy Grail.\" However, if we are to address this question scientifically, we need to specify the type of swallow.\n",
      "\n",
      "For the European Swallow (Hirundo rustica), a commonly quoted figure is around 11 meters per second or approximately 24 miles per hour. This estimation is based on studies and calculations considering the bird's typical wing beat frequency and flight dynamics.\n",
      "\n",
      "It's important to note that various factors can influence an individual swallow's speed, such as wind conditions, altitude, and whether the bird is involved in specific behaviors like foraging or migration.\n"
     ]
    }
   ],
   "source": [
    "messages = [{\"role\": \"user\", \"content\": \"what is the airspeed velocity of an unladen swallow?\"}]\n",
    "response = get_response(messages, tools=[])\n",
    "response_str = response.choices[0].message.content\n",
    "response_str = response_str.replace(\"$\", \"\\\\\\$\")\n",
    "\n",
    "print(response_str)"
   ]
  },
  {
   "cell_type": "markdown",
   "id": "e46d791f-7991-4b2b-ab87-db9924d66f09",
   "metadata": {},
   "source": [
    "# Question Answering Agent"
   ]
  },
  {
   "cell_type": "code",
   "execution_count": 23,
   "id": "abbeb492-4c38-48b3-91d9-005be43b3a80",
   "metadata": {},
   "outputs": [
    {
     "data": {
      "text/plain": [
       "143226"
      ]
     },
     "execution_count": 23,
     "metadata": {},
     "output_type": "execute_result"
    }
   ],
   "source": [
    "# make a bespoke tool \n",
    "\n",
    "def get_10k_item1_from_symbol(symbol):\n",
    "    \"\"\"\n",
    "    Get item 1 of the latest 10-K annual report filing for a given symbol.\n",
    "\n",
    "    Args:\n",
    "        symbol (str): The symbol of the equity.\n",
    "\n",
    "    Returns:\n",
    "        str: The item 1 of the latest 10-K annual report filing, or None if not found.\n",
    "\n",
    "    \"\"\"\n",
    "    item1_text = None\n",
    "    try:\n",
    "        # sec needs you to identify yourself for rate limiting\n",
    "        dl = Downloader(os.getenv(\"SEC_FIRM\"), os.getenv(\"SEC_USER\"))\n",
    "        html = dl.get_filing_html(ticker=symbol, form=\"10-K\")\n",
    "        elements: list = sp.Edgar10QParser().parse(html)\n",
    "        tree = sp.TreeBuilder().build(elements)\n",
    "        sections = [n for n in tree.nodes if n.text.startswith(\"Item\")]\n",
    "        item1_node = sections[0]\n",
    "        item1_text = \"\\n\".join([n.text for n in sections[0].get_descendants()])\n",
    "    except:\n",
    "        return None\n",
    "    # always return a list of dicts\n",
    "    return [{'item1': item1_text}]\n",
    "\n",
    "fn_metadata = {\n",
    "    \"name\": \"get_10k_item1_from_symbol\",\n",
    "    \"description\": \"Given a stock symbol, gets item 1 of the company's latest 10-K annual report filing.\",\n",
    "    \"openapi_path\" : None,\n",
    "    \"callable\": get_10k_item1_from_symbol,\n",
    "    \"parameters\": {\n",
    "        \"symbol\": {\n",
    "            \"type\": \"string\",\n",
    "            \"description\": \"The symbol to get the 10-K item 1 for\"\n",
    "            }\n",
    "        },\n",
    "    \"example_parameter_values\": [{\n",
    "        \"symbol\": \"MSFT\",\n",
    "    }],\n",
    "}\n",
    "\n",
    "tool = BB_agent_tool(**fn_metadata)\n",
    "tool_response = json.loads(tool(symbol=\"MSFT\"))\n",
    "len(tool_response[0]['item1'])\n",
    "\n",
    "# create tool dict based on metadata\n",
    "# def make_tool_dict(fn_metadata):\n",
    "#     retdict  = {\n",
    "#         \"type\": \"function\",\n",
    "#         \"function\": {\n",
    "#             \"name\": fn_metadata[\"name\"],\n",
    "#             \"description\": fn_metadata[\"description\"],\n",
    "#             \"parameters\": {\n",
    "#                 \"type\": \"object\",\n",
    "#                 \"properties\": fn_metadata[\"parameters\"],\n",
    "#                 \"required\": [k for k in fn_metadata[\"parameters\"].keys()]\n",
    "#                 }\n",
    "#             }\n",
    "#         }\n",
    "#     return retdict\n",
    "\n",
    "# tools[fn_metadata[\"name\"]] = fn_metadata\n",
    "# tools[fn_metadata[\"name\"]][\"tooldict\"] = make_tool_dict(fn_metadata)\n"
   ]
  },
  {
   "cell_type": "code",
   "execution_count": 24,
   "id": "52296f7e-8ac4-4a13-b6f2-549335464acb",
   "metadata": {},
   "outputs": [
    {
     "name": "stdout",
     "output_type": "stream",
     "text": [
      "get_10k_item1_from_symbol({'symbol': 'MSFT'}) -> [{\"item1\": \"Note About Forward-Looking Statements\\nThis report includes estimates, projections, stat...\n"
     ]
    },
    {
     "data": {
      "text/markdown": [
       "### Summary of Item 1 from Microsoft's Latest 10-K Annual Report\n",
       "\n",
       "**Note About Forward-Looking Statements:** This section includes statements about Microsoft's business plans, objectives, and expected performance. Such forward-looking statements might include words like \"believe,\" \"expect,\" \"anticipate,\" and \"estimate,\" and they are subject to risks that might cause actual results to differ.\n",
       "\n",
       "**Business Description:**\n",
       "- **Mission:** Empower every person and organization on the planet to achieve more by creating opportunities and fostering growth globally.\n",
       "- **Core Areas:**\n",
       "  - **AI and Productivity Platform:** Develops platforms and tools powered by AI to support business competitiveness and improve educational, health, and public-sector efficiency.\n",
       "  - **Microsoft Cloud:** Integrates various technologies to unlock digital spend value, innovate with AI, and simplify security and management.\n",
       "\n",
       "**Product Offerings:**\n",
       "- **Software & Services:** Includes operating systems, productivity tools (Office 365), business solutions, collaboration apps (Teams), and development tools.\n",
       "- **Devices:** PCs, tablets, gaming consoles, and accessories.\n",
       "- **Customer Solutions:** Cloud-based solutions for software, services, content, and consulting.\n",
       "\n",
       "**Strategic Ambitions:**\n",
       "1. **Reinvent Productivity and Business Processes**: Innovative tools like Microsoft 365, Teams, and Dynamics 365 aim to enhance business operations and productivity using AI.\n",
       "2. **Build Intelligent Cloud and Intelligent Edge**: Investment in cloud services (Azure), AI capabilities, and edge computing to drive enterprise digital transformation.\n",
       "3. **Create More Personal Computing**: Innovations in devices and user interfaces, including Windows 11 and AI-powered solutions.\n",
       "\n",
       "**Corporate Social Responsibility (CSR):**\n",
       "- **Sustainability:** Commitment to being carbon negative, water positive, and zero-waste by 2030.\n",
       "- **Racial Equity:** Focused on strengthening inclusion and increasing representation within the company and its ecosystem.\n",
       "- **Investment in Skills:** Programs for digital skills training, cybersecurity workforce development, and AI literacy.\n",
       "\n",
       "**Human Capital:**\n",
       "- As of June 30, 2023, Microsoft employed approximately 221,000 people globally, focusing on creating a respectful and inclusive work environment.\n",
       "\n",
       "**Operating Segments:**\n",
       "- **Productivity and Business Processes:** Includes Office products, LinkedIn, and Dynamics.\n",
       "- **Intelligent Cloud:** Comprises Azure, server products, and enterprise services.\n",
       "- **More Personal Computing:** Encompasses Windows, devices, gaming, and search advertising.\n",
       "\n",
       "**Research and Development:**\n",
       "- Focused on emerging technologies, AI, IoT, and data platforms, with significant investments in cloud, security, and mixed reality solutions.\n",
       "\n",
       "**Distribution and Sales:**\n",
       "- Products are distributed via OEMs, direct sales, and a network of resellers, with a variety of licensing options for organizations of all sizes.\n",
       "\n",
       "**Legal and Regulatory Risks:**\n",
       "- Acknowledges potential challenges from competition laws, tax policies, cyber threats, and data protection regulations globally.\n",
       "\n",
       "The section provides a comprehensive view of Microsoft's business model, strategic objectives, products, market positions, and the steps it is taking to address various risks and opportunities."
      ],
      "text/plain": [
       "<IPython.core.display.Markdown object>"
      ]
     },
     "metadata": {},
     "output_type": "display_data"
    }
   ],
   "source": [
    "user_message = \"Please summarize item 1 from the latest MSFT annual report\"\n",
    "agent_query(user_message, verbose=False)\n"
   ]
  },
  {
   "cell_type": "markdown",
   "id": "6bb88565-e7d2-45fa-bd9e-ec2ce541617d",
   "metadata": {},
   "source": [
    "# Add more OpenBB tools\n",
    "Map OpenBB functions to OpenAI tools"
   ]
  },
  {
   "cell_type": "code",
   "execution_count": 25,
   "id": "1bff06a3-e0d0-4207-90af-cf13146dc2f7",
   "metadata": {},
   "outputs": [],
   "source": [
    "# TODO:\n",
    "\n",
    "# move object to a file , move llm calls to a file\n",
    "\n",
    "# make a streamlit app that maintains conversation\n",
    "\n",
    "# use assistants API\n"
   ]
  },
  {
   "cell_type": "code",
   "execution_count": 26,
   "id": "d9fe9e8a-3956-4cca-bbc1-b2131ec4a954",
   "metadata": {},
   "outputs": [
    {
     "data": {
      "text/plain": [
       "\"{'openapi': '3.1.0', 'info': {'title': 'OpenBB Platform API', 'description': 'This is the OpenBB Platform API.', 'termsOfService': 'http://example.com/terms/', 'contact': {'name': 'OpenBB Team', 'url': 'https://openbb.co/', 'email': 'hello@openbb.co'}, 'license': {'name': 'MIT', 'url': 'https://github.com/OpenBB-finance/OpenBBTerminal/blob/develop/LICENSE'}, 'version': '1'}, 'servers': [{'url': 'http://localhost:8000', 'description': 'Local OpenBB development server'}], 'paths': {'/api/v1/commodity/lbma_fixing': {'get': {'tags': ['commodity'], 'summary': 'Lbma Fixing', 'description': 'Daily LBMA Fixing Prices in USD/EUR/GBP.', 'operationId': 'commodity_lbma_fixing', 'parameters': [{'name': 'provider', 'in': 'query', 'required': False, 'schema': {'enum': ['nasdaq'], 'const': 'nasdaq', 'type': 'string', 'default': 'nasdaq', 'title': 'Provider'}}, {'name': 'asset', 'in': 'query', 'required': False, 'schema': {'enum': ['gold', 'silver'], 'type': 'string', 'description': 'The metal to get price fixing rates for.', 'default': 'gold', 'title': 'Asset'}, 'description': 'The metal to get price fixing rates for.'}, {'name': 'start_date', 'in': 'query', 'required': False, 'schema': {'anyOf': [{'type': 'string', 'format': 'date'}, {'type': 'null'}], 'description': 'Start date of the data, in YYYY-MM-DD format.', 'title': 'Start Date'}, 'description': 'Start date of the data, in YYYY-MM-DD format.'}, {'name': 'end_date', 'in': 'query', 'required': False, 'schema': {'anyOf': [{'type': 'string', 'format': 'date'}, {'type': 'null'}], 'description': 'Start date of the data, in YYYY-MM-DD format.', 'title': 'End Date'}, 'description': 'Start date of the data, in YYYY-MM-DD format.'}, {'name': 'transform', 'in': 'query', 'required': False, 'schema': {'enum': ['diff', 'rdiff', 'cumul', 'normalize', None], 'description': 'Transform the data as difference, percent change, cumulative, or normalize.', 'title': 'Transform'}, 'description': 'Transform the data as difference, percent change, \""
      ]
     },
     "execution_count": 26,
     "metadata": {},
     "output_type": "execute_result"
    }
   ],
   "source": [
    "# load the OpenAPI / swagger spec from\n",
    "# http://127.0.0.1:8000/openapi.json\n",
    "with open(\"openapi.json\", 'r') as file:\n",
    "    data = json.load(file)\n",
    "\n",
    "str(data)[:2000]"
   ]
  },
  {
   "cell_type": "code",
   "execution_count": 27,
   "id": "b0ea067a-3b7e-4c50-aa87-c1a4baf07001",
   "metadata": {},
   "outputs": [
    {
     "name": "stdout",
     "output_type": "stream",
     "text": [
      "/api/v1/equity/calendar/ipo\n",
      "/api/v1/equity/calendar/dividend\n",
      "/api/v1/equity/calendar/splits\n",
      "/api/v1/equity/calendar/earnings\n",
      "/api/v1/equity/compare/peers\n",
      "/api/v1/equity/compare/groups\n",
      "/api/v1/equity/estimates/price_target\n",
      "/api/v1/equity/estimates/historical\n",
      "/api/v1/equity/estimates/consensus\n",
      "/api/v1/equity/estimates/analyst_search\n",
      "/api/v1/equity/estimates/forward_sales\n",
      "/api/v1/equity/estimates/forward_eps\n",
      "/api/v1/equity/darkpool/otc\n",
      "/api/v1/equity/discovery/gainers\n",
      "/api/v1/equity/discovery/losers\n",
      "/api/v1/equity/discovery/active\n",
      "/api/v1/equity/discovery/undervalued_large_caps\n",
      "/api/v1/equity/discovery/undervalued_growth\n",
      "/api/v1/equity/discovery/aggressive_small_caps\n",
      "/api/v1/equity/discovery/growth_tech\n",
      "/api/v1/equity/discovery/top_retail\n",
      "/api/v1/equity/discovery/upcoming_release_days\n",
      "/api/v1/equity/discovery/filings\n",
      "/api/v1/equity/fundamental/multiples\n",
      "/api/v1/equity/fundamental/balance\n",
      "/api/v1/equity/fundamental/balance_growth\n",
      "/api/v1/equity/fundamental/cash\n",
      "/api/v1/equity/fundamental/reported_financials\n",
      "/api/v1/equity/fundamental/cash_growth\n",
      "/api/v1/equity/fundamental/dividends\n",
      "/api/v1/equity/fundamental/historical_eps\n",
      "/api/v1/equity/fundamental/employee_count\n",
      "/api/v1/equity/fundamental/search_attributes\n",
      "/api/v1/equity/fundamental/latest_attributes\n",
      "/api/v1/equity/fundamental/historical_attributes\n",
      "/api/v1/equity/fundamental/income\n",
      "/api/v1/equity/fundamental/income_growth\n",
      "/api/v1/equity/fundamental/metrics\n",
      "/api/v1/equity/fundamental/management\n",
      "/api/v1/equity/fundamental/management_compensation\n",
      "/api/v1/equity/fundamental/overview\n",
      "/api/v1/equity/fundamental/ratios\n",
      "/api/v1/equity/fundamental/revenue_per_geography\n",
      "/api/v1/equity/fundamental/revenue_per_segment\n",
      "/api/v1/equity/fundamental/filings\n",
      "/api/v1/equity/fundamental/historical_splits\n",
      "/api/v1/equity/fundamental/transcript\n",
      "/api/v1/equity/fundamental/trailing_dividend_yield\n",
      "/api/v1/equity/ownership/major_holders\n",
      "/api/v1/equity/ownership/institutional\n",
      "/api/v1/equity/ownership/insider_trading\n",
      "/api/v1/equity/ownership/share_statistics\n",
      "/api/v1/equity/ownership/form_13f\n",
      "/api/v1/equity/price/quote\n",
      "/api/v1/equity/price/nbbo\n",
      "/api/v1/equity/price/historical\n",
      "/api/v1/equity/price/performance\n",
      "/api/v1/equity/shorts/fails_to_deliver\n",
      "/api/v1/equity/shorts/short_volume\n",
      "/api/v1/equity/shorts/short_interest\n",
      "/api/v1/equity/search\n",
      "/api/v1/equity/screener\n",
      "/api/v1/equity/profile\n",
      "/api/v1/equity/market_snapshots\n",
      "/api/v1/etf/equity_exposure\n"
     ]
    }
   ],
   "source": [
    "# list all the equity functions\n",
    "for path_str, fn_json in data['paths'].items():\n",
    "    if path_str.find('equity') != -1:\n",
    "        print(path_str)\n"
   ]
  },
  {
   "cell_type": "code",
   "execution_count": 28,
   "id": "137bc44a-9bea-42c4-b6e7-20cc0c17e2e2",
   "metadata": {},
   "outputs": [
    {
     "data": {
      "text/plain": [
       "{'get': {'tags': ['equity'],\n",
       "  'summary': 'Search',\n",
       "  'description': 'Search for stock symbol, CIK, LEI, or company name.',\n",
       "  'operationId': 'equity_search',\n",
       "  'parameters': [{'name': 'provider',\n",
       "    'in': 'query',\n",
       "    'required': True,\n",
       "    'schema': {'enum': ['cboe', 'intrinio', 'nasdaq', 'sec', 'tmx', 'tradier'],\n",
       "     'type': 'string',\n",
       "     'title': 'Provider'}},\n",
       "   {'name': 'query',\n",
       "    'in': 'query',\n",
       "    'required': False,\n",
       "    'schema': {'type': 'string',\n",
       "     'description': 'Search query.',\n",
       "     'default': '',\n",
       "     'title': 'Query'},\n",
       "    'description': 'Search query.'},\n",
       "   {'name': 'is_symbol',\n",
       "    'in': 'query',\n",
       "    'required': False,\n",
       "    'schema': {'type': 'boolean',\n",
       "     'description': 'Whether to search by ticker symbol.',\n",
       "     'default': False,\n",
       "     'title': 'Is Symbol'},\n",
       "    'description': 'Whether to search by ticker symbol.'},\n",
       "   {'name': 'use_cache',\n",
       "    'in': 'query',\n",
       "    'required': False,\n",
       "    'schema': {'anyOf': [{'type': 'boolean'}, {'type': 'null'}],\n",
       "     'description': 'Whether to use the cache or not.',\n",
       "     'default': True,\n",
       "     'title': 'Use Cache'},\n",
       "    'description': 'Whether to use the cache or not.'},\n",
       "   {'name': 'active',\n",
       "    'in': 'query',\n",
       "    'required': False,\n",
       "    'schema': {'anyOf': [{'type': 'boolean'}, {'type': 'null'}],\n",
       "     'title': 'intrinio',\n",
       "     'description': 'When true, return companies that are actively traded (having stock prices within the past 14 days). When false, return companies that are not actively traded or never have been traded. (provider: intrinio)',\n",
       "     'default': True},\n",
       "    'description': 'When true, return companies that are actively traded (having stock prices within the past 14 days). When false, return companies that are not actively traded or never have been traded. (provider: intrinio)'},\n",
       "   {'name': 'limit',\n",
       "    'in': 'query',\n",
       "    'required': False,\n",
       "    'schema': {'anyOf': [{'type': 'integer'}, {'type': 'null'}],\n",
       "     'title': 'intrinio',\n",
       "     'description': 'The number of data entries to return. (provider: intrinio)',\n",
       "     'default': 10000},\n",
       "    'description': 'The number of data entries to return. (provider: intrinio)'},\n",
       "   {'name': 'is_etf',\n",
       "    'in': 'query',\n",
       "    'required': False,\n",
       "    'schema': {'anyOf': [{'type': 'boolean'}, {'type': 'null'}],\n",
       "     'title': 'nasdaq',\n",
       "     'description': 'If True, returns ETFs. (provider: nasdaq)'},\n",
       "    'description': 'If True, returns ETFs. (provider: nasdaq)'},\n",
       "   {'name': 'is_fund',\n",
       "    'in': 'query',\n",
       "    'required': False,\n",
       "    'schema': {'type': 'boolean',\n",
       "     'title': 'sec',\n",
       "     'description': 'Whether to direct the search to the list of mutual funds and ETFs. (provider: sec)',\n",
       "     'default': False},\n",
       "    'description': 'Whether to direct the search to the list of mutual funds and ETFs. (provider: sec)'}],\n",
       "  'responses': {'200': {'description': 'Successful Response',\n",
       "    'content': {'application/json': {'schema': {'$ref': '#/components/schemas/OBBject_EquitySearch'}}}},\n",
       "   '404': {'description': 'Not found'},\n",
       "   '400': {'description': 'No Results Found',\n",
       "    'content': {'application/json': {'schema': {'$ref': '#/components/schemas/OpenBBErrorResponse'}}}},\n",
       "   '500': {'description': 'Internal Error',\n",
       "    'content': {'application/json': {'schema': {'$ref': '#/components/schemas/OpenBBErrorResponse'}}}},\n",
       "   '422': {'description': 'Validation Error',\n",
       "    'content': {'application/json': {'schema': {'$ref': '#/components/schemas/HTTPValidationError'}}}}},\n",
       "  'model': 'EquitySearch',\n",
       "  'examples': [{'scope': 'api',\n",
       "    'parameters': {'provider': 'intrinio'},\n",
       "    'provider': 'intrinio'},\n",
       "   {'scope': 'api',\n",
       "    'parameters': {'query': 'AAPL',\n",
       "     'is_symbol': 0.0,\n",
       "     'use_cache': 1.0,\n",
       "     'provider': 'nasdaq'},\n",
       "    'provider': 'nasdaq'}]}}"
      ]
     },
     "execution_count": 28,
     "metadata": {},
     "output_type": "execute_result"
    }
   ],
   "source": [
    "data['paths']['/api/v1/equity/search']\n"
   ]
  },
  {
   "cell_type": "code",
   "execution_count": 29,
   "id": "e5bc2548-b49f-48e6-9e09-3cde7d7a0151",
   "metadata": {},
   "outputs": [],
   "source": [
    "fn_metadata = {\n",
    "    \"name\": \"get_equity_search_symbol\",\n",
    "    \"description\": \"Given a search string, get the stock symbol of the top company whose name best matches the search string.\",\n",
    "    \"openapi_path\" : '/api/v1/equity/search',\n",
    "    \"parameters\": {\n",
    "        \"query\": {\n",
    "            \"type\": \"string\",\n",
    "            \"description\": \"The search string to match to the stock symbol.\"\n",
    "            },\"\"\n",
    "        \"limit\": {\n",
    "            \"type\": \"integer\",\n",
    "            \"description\": \"The number of results to return. Pick a small number from 1 to 10 and choose the best response.\"\n",
    "            }\n",
    "        },\n",
    "    \"example_parameter_values\": [{\n",
    "        \"query\": \"Broadcom\",\n",
    "    }],\n",
    "    # \"singular\": 1,\n",
    "}\n",
    "\n",
    "tool = BB_agent_tool(**fn_metadata)\n"
   ]
  },
  {
   "cell_type": "code",
   "execution_count": 30,
   "id": "a5d9e798-0da4-463d-a602-3f4032de7168",
   "metadata": {},
   "outputs": [
    {
     "data": {
      "text/plain": [
       "'[{\"symbol\": \"LUV\", \"name\": \"SOUTHWEST AIRLS CO COM\", \"dpm_name\": \"Susquehanna Securities, LLC\", \"post_station\": \"5/1\"}]'"
      ]
     },
     "execution_count": 30,
     "metadata": {},
     "output_type": "execute_result"
    }
   ],
   "source": [
    "BB_agent_tool.agent_registry['get_equity_search_symbol'](query=\"Southwest Air\")"
   ]
  },
  {
   "cell_type": "code",
   "execution_count": 31,
   "id": "c9e2f9e5-3843-4cfd-9492-30d2d7cb4316",
   "metadata": {},
   "outputs": [
    {
     "name": "stdout",
     "output_type": "stream",
     "text": [
      "get_equity_search_symbol({'query': 'Southwest Airlines', 'limit': 1}) -> []\n",
      "get_equity_search_symbol({'query': 'Southwest', 'limit': 10}) -> [{\"symbol\": \"CSWC\", \"name\": \"CAPITAL SOUTHWEST CORP COM\", \"dpm_name\": \"Wolverine Trading, LLC\", \"pos...\n"
     ]
    },
    {
     "data": {
      "text/markdown": [
       "The stock symbol for Southwest Airlines is **LUV**."
      ],
      "text/plain": [
       "<IPython.core.display.Markdown object>"
      ]
     },
     "metadata": {},
     "output_type": "display_data"
    }
   ],
   "source": [
    "agent_query(\"What is the stock symbol for Southwest airlines?\", verbose=False)\n"
   ]
  },
  {
   "cell_type": "code",
   "execution_count": 32,
   "id": "30e36e9b-71a1-4482-9057-b43b3f36381b",
   "metadata": {},
   "outputs": [
    {
     "name": "stdout",
     "output_type": "stream",
     "text": [
      "get_equity_search_symbol({'query': 'yakimee air', 'limit': 1}) -> []\n"
     ]
    },
    {
     "data": {
      "text/markdown": [
       "I couldn't find any stock symbol for \"yakimee air.\" It appears there might have been a spelling error or the company name might not be correct. Could you please check the name and try again? If you need help with another company, feel free to ask!"
      ],
      "text/plain": [
       "<IPython.core.display.Markdown object>"
      ]
     },
     "metadata": {},
     "output_type": "display_data"
    }
   ],
   "source": [
    "agent_query(\"What is the stock symbol for yakimee air?\", verbose=False)\n"
   ]
  },
  {
   "cell_type": "code",
   "execution_count": 33,
   "id": "89d587d2-7c8e-4edb-a855-d04e184afb3b",
   "metadata": {},
   "outputs": [
    {
     "name": "stdout",
     "output_type": "stream",
     "text": [
      "Choice(finish_reason='tool_calls', index=0, logprobs=None, message=ChatCompletionMessage(content='It looks like there’s a typo in \"Microsfot.\" I believe you meant \"Microsoft.\" Let me retrieve the relevant information for Microsoft.\\n\\nFirst, I\\'ll confirm the ticker symbol for Microsoft, just to be certain.', role='assistant', function_call=None, tool_calls=[ChatCompletionMessageToolCall(id='call_ssutAB8VZEHbWYfd33zdwchX', function=Function(arguments='{\"query\":\"Microsoft\",\"limit\":1}', name='get_equity_search_symbol'), type='function')]))\n",
      "[ChatCompletionMessageToolCall(id='call_ssutAB8VZEHbWYfd33zdwchX', function=Function(arguments='{\"query\":\"Microsoft\",\"limit\":1}', name='get_equity_search_symbol'), type='function')]\n",
      "get_equity_search_symbol({'query': 'Microsoft', 'limit': 1}) -> [{\"symbol\": \"MSFT\", \"name\": \"MICROSOFT CORP COM\", \"dpm_name\": \"Susquehanna Securities, LLC\", \"post_s...\n",
      "Choice(finish_reason='tool_calls', index=0, logprobs=None, message=ChatCompletionMessage(content='The symbol for Microsoft Corporation is \"MSFT.\" Now, I will retrieve item 1 from the latest 10-K annual report for Microsoft (symbol: MSFT).', role='assistant', function_call=None, tool_calls=[ChatCompletionMessageToolCall(id='call_QLwM7o7SoADg4RqAN4AAGeEX', function=Function(arguments='{\"symbol\":\"MSFT\"}', name='get_10k_item1_from_symbol'), type='function')]))\n",
      "[ChatCompletionMessageToolCall(id='call_QLwM7o7SoADg4RqAN4AAGeEX', function=Function(arguments='{\"symbol\":\"MSFT\"}', name='get_10k_item1_from_symbol'), type='function')]\n",
      "get_10k_item1_from_symbol({'symbol': 'MSFT'}) -> [{\"item1\": \"Note About Forward-Looking Statements\\nThis report includes estimates, projections, stat...\n",
      "Choice(finish_reason='stop', index=0, logprobs=None, message=ChatCompletionMessage(content=\"The **Item 1** from Microsoft's latest 10-K annual report provides an extensive overview of the company's business, including key aspects like their mission, product offerings, competitive landscape, and strategic focus areas. Here are some of the highlights:\\n\\n### General Overview\\n- **Mission**: Microsoft's mission is to empower every person and every organization on the planet to achieve more.\\n- **Core Products and Services**: They offer a broad range of software, services, devices, and solutions that deliver unique value to customers. Key areas include cloud services, productivity tools, gaming, artificial intelligence, and more.\\n\\n### Product Segments\\n1. **Productivity and Business Processes**:\\n    - Includes Office Commercial (Office 365, Microsoft Teams), Office Consumer, LinkedIn, and Dynamics business solutions.\\n    - Focuses on improving productivity, enhancing communication, and...\n"
     ]
    },
    {
     "data": {
      "text/markdown": [
       "The **Item 1** from Microsoft's latest 10-K annual report provides an extensive overview of the company's business, including key aspects like their mission, product offerings, competitive landscape, and strategic focus areas. Here are some of the highlights:\n",
       "\n",
       "### General Overview\n",
       "- **Mission**: Microsoft's mission is to empower every person and every organization on the planet to achieve more.\n",
       "- **Core Products and Services**: They offer a broad range of software, services, devices, and solutions that deliver unique value to customers. Key areas include cloud services, productivity tools, gaming, artificial intelligence, and more.\n",
       "\n",
       "### Product Segments\n",
       "1. **Productivity and Business Processes**:\n",
       "    - Includes Office Commercial (Office 365, Microsoft Teams), Office Consumer, LinkedIn, and Dynamics business solutions.\n",
       "    - Focuses on improving productivity, enhancing communication, and aiding business processes via cloud and on-premises software.\n",
       "\n",
       "2. **Intelligent Cloud**:\n",
       "    - Comprises server products and cloud services like Azure, SQL Server, Windows Server, and developer tools.\n",
       "    - Azure AI helps organizations transform by bringing intelligence and insights.\n",
       "\n",
       "3. **More Personal Computing**:\n",
       "    - Encompasses Windows, devices (Surface, HoloLens), gaming (Xbox), and search/news advertising.\n",
       "    - Focuses on delivering personalized computing experiences, gaming, and search services.\n",
       "\n",
       "### Innovations and Strategic Focus\n",
       "- **Artificial Intelligence (AI)**: AI is a major focus, integrated across various services to support better business and personal productivity.\n",
       "- **Cloud Computing**: Investment in cloud services, particularly Azure, to drive digital transformation for businesses and provide scalable computing solutions.\n",
       "- **Gaming**: Continued investment in gaming content, cloud gaming services, and hardware to enhance user engagement and growth across Xbox and related services.\n",
       "\n",
       "### Other Key Points\n",
       "- **Commitment to Security**: Microsoft emphasizes secure and reliable services to protect customer data and maintain service integrity.\n",
       "- **Sustainability and Corporate Responsibility**: Efforts are ongoing to address environmental sustainability, such as becoming carbon negative and increasing water positivity.\n",
       "- **Support for Diversity and Inclusion**: Investment initiatives aimed at enhancing representation and inclusion within Microsoft and beyond.\n",
       "\n",
       "The above summary captures the essence of Microsoft's business and strategic direction as delineated in Item 1 of their latest 10-K report. For more detailed information, you may refer to the complete 10-K filing."
      ],
      "text/plain": [
       "<IPython.core.display.Markdown object>"
      ]
     },
     "metadata": {},
     "output_type": "display_data"
    }
   ],
   "source": [
    "# agent is able to first get symbol, then get annual report for symbol \n",
    "agent_query(\"What is item 1 from the 10k annual report for Microsfot?\", verbose=True)\n"
   ]
  },
  {
   "cell_type": "code",
   "execution_count": 61,
   "id": "fc8bf343-2792-4aba-b65d-3d11f9520b61",
   "metadata": {},
   "outputs": [
    {
     "name": "stdout",
     "output_type": "stream",
     "text": [
      "get_price_performance_json({'symbol': 'MRK'}) -> [{\"symbol\": \"MRK\", \"one_day\": 0.0239, \"wtd\": null, \"one_week\": 0.0168, \"mtd\": null, \"one_month\": 0.0...\n"
     ]
    },
    {
     "data": {
      "text/markdown": [
       "The latest market quote for Merck & Co., Inc. (symbol: MRK) is as follows:\n",
       "\n",
       "- **Price:** \\\\$131.73\n",
       "- **Volume:** 7,224,765\n",
       "- **Average Volume:** 8,210,000\n",
       "- **Relative Volume:** 0.88\n",
       "- **One Day Price Change:** +2.39%\n",
       "- **One Week Price Change:** +1.68%\n",
       "- **One Month Price Change:** +5.33%\n",
       "- **Three Month Price Change:** +4.70%\n",
       "- **Six Month Price Change:** +28.55%\n",
       "- **Year to Date Price Change:** +20.83%\n",
       "- **One Year Price Change:** +13.20%\n",
       "- **Weekly Volatility:** 1.34%\n",
       "- **Monthly Volatility:** 1.49%\n",
       "\n",
       "If you need more information, feel free to ask!"
      ],
      "text/plain": [
       "<IPython.core.display.Markdown object>"
      ]
     },
     "metadata": {},
     "output_type": "display_data"
    }
   ],
   "source": [
    "agent_query(f\"What is the last market quote for symbol {symbol}?\", verbose=False)\n"
   ]
  },
  {
   "cell_type": "code",
   "execution_count": 35,
   "id": "17fa8727-bdbd-434c-b754-1842f64e99f8",
   "metadata": {},
   "outputs": [
    {
     "name": "stdout",
     "output_type": "stream",
     "text": [
      "get_equity_search_symbol({'query': 'Consolidated Agglomerators', 'limit': 5}) -> []\n"
     ]
    },
    {
     "data": {
      "text/markdown": [
       "I couldn't find any stock symbol for \"Consolidated Agglomerators.\" Please verify the company name or provide an alternative company name or query."
      ],
      "text/plain": [
       "<IPython.core.display.Markdown object>"
      ]
     },
     "metadata": {},
     "output_type": "display_data"
    }
   ],
   "source": [
    "agent_query(f\"What is the last market quote for Consolidated Agglomerators\", verbose=False)\n"
   ]
  },
  {
   "cell_type": "code",
   "execution_count": 36,
   "id": "50b547be-1730-4d7a-856c-6e0a340aeb28",
   "metadata": {},
   "outputs": [
    {
     "data": {
      "text/markdown": [
       "I am unable to provide information about the weather. You might want to check a weather website or app for the current conditions in Las Vegas."
      ],
      "text/plain": [
       "<IPython.core.display.Markdown object>"
      ]
     },
     "metadata": {},
     "output_type": "display_data"
    }
   ],
   "source": [
    "agent_query(f\"What is the current weather in Las Vegas\", verbose=False)\n"
   ]
  },
  {
   "cell_type": "code",
   "execution_count": 37,
   "id": "691d6eca-f545-4ed9-a34d-c19704c72ccd",
   "metadata": {},
   "outputs": [
    {
     "name": "stdout",
     "output_type": "stream",
     "text": [
      "get_company_profile_json({'symbol': 'MRK'}) -> [{\"symbol\": \"MRK\", \"name\": \"Merck & Co Inc\", \"cik\": null, \"cusip\": null, \"isin\": null, \"lei\": null, ...\n"
     ]
    },
    {
     "data": {
      "text/markdown": [
       "### Merck & Co., Inc. (Ticker: MRK)\n",
       "\n",
       "**Industry:** Healthcare  \n",
       "**Stock Exchange:** NYSE  \n",
       "**Index Membership:** DJIA, S&P 500  \n",
       "**Market Cap:** \\\\$333.65 Billion  \n",
       "**Beta:** 0.41  \n",
       "**Institutional Ownership:** 79.05%  \n",
       "**Shares Outstanding:** 2.53 Billion  \n",
       "**Floating Shares:** 2.53 Billion  \n",
       "**Short Interest:** 18.75 Million  \n",
       "\n",
       "**Business Description:**  \n",
       "Merck & Co., Inc. is a global healthcare company that provides health solutions through its range of prescription medicines, vaccines, biologic therapies, animal health products, and consumer care products. The company operates through three primary segments:\n",
       "\n",
       "- **Pharmaceutical:** This segment includes Merck's human health pharmaceutical and vaccine products.\n",
       "- **Animal Health:** Focuses on discovering, developing, manufacturing, and marketing animal health products, such as pharmaceuticals and vaccines for the prevention, treatment, and control of disease in livestock and companion animals.\n",
       "- **Other:** Comprises sales for the company’s non-reportable segments of healthcare services.\n",
       "\n",
       "**Founding Year:** 1891  \n",
       "**Headquarters:** Rahway, NJ, USA  \n",
       "**Employees:** Approximately 72,000\n",
       "\n",
       "If you need more specific information, feel free to ask!"
      ],
      "text/plain": [
       "<IPython.core.display.Markdown object>"
      ]
     },
     "metadata": {},
     "output_type": "display_data"
    }
   ],
   "source": [
    "tool = BB_agent_tool(\n",
    "    name=\"get_company_profile_json\",\n",
    "    description=\"Given a stock symbol, get general background data about the company such as company name, industry, and sector data in JSON format\",\n",
    "    openapi_path='/api/v1/equity/profile',\n",
    "    parameters={\n",
    "        \"symbol\": {\n",
    "            \"type\": \"string\",\n",
    "            \"description\": \"The stock symbol.\"\n",
    "        }\n",
    "        },\n",
    "    example_parameter_values=[{\n",
    "        \"symbol\": \"NVDA\",\n",
    "    }],\n",
    ")\n",
    "\n",
    "agent_query(f\"Can you provide a basic company profile of symbol {symbol}\", verbose=False)\n"
   ]
  },
  {
   "cell_type": "code",
   "execution_count": 38,
   "id": "040be374-f8c2-4453-9ded-4abab760db1d",
   "metadata": {},
   "outputs": [
    {
     "name": "stdout",
     "output_type": "stream",
     "text": [
      "get_equity_shorts_short_interest({'symbol': 'MRK'}) -> [{\"settlement_date\": \"2021-07-15\", \"symbol\": \"MRK\", \"issue_name\": \"Merck & Co., Inc.\", \"market_class...\n"
     ]
    },
    {
     "data": {
      "text/markdown": [
       "As of the latest available data, here are the short interest statistics for Merck & Co., Inc. (symbol: MRK):\n",
       "\n",
       "- **Settlement Date:** April 30, 2024\n",
       "- **Current Short Position:** 18,754,018 shares\n",
       "- **Previous Short Position:** 20,429,972 shares\n",
       "- **Average Daily Volume:** 7,551,651 shares\n",
       "- **Days to Cover:** 2.48 days\n",
       "- **Changes:** \n",
       "  - Change in Short Position: -1,675,954 shares\n",
       "  - Change Percentage: -8.20%\n",
       "\n",
       "Would you like more detailed historical data or additional information?"
      ],
      "text/plain": [
       "<IPython.core.display.Markdown object>"
      ]
     },
     "metadata": {},
     "output_type": "display_data"
    }
   ],
   "source": [
    "tool = BB_agent_tool(\n",
    "    name=\"get_equity_shorts_short_interest\",\n",
    "    description=\"Given a stock symbol, get data on short volume and days to cover in JSON format.\",\n",
    "    openapi_path='/api/v1/equity/shorts/short_interest',\n",
    "    parameters={\n",
    "        \"symbol\": {\n",
    "            \"type\": \"string\",\n",
    "            \"description\": \"The stock symbol.\"\n",
    "        }\n",
    "        },\n",
    "    example_parameter_values=[{\n",
    "        \"symbol\": \"NVDA\",\n",
    "    }],\n",
    ")\n",
    "\n",
    "agent_query(f\"Provide latest statistics on short interest for symbol {symbol}\", verbose=False)\n"
   ]
  },
  {
   "cell_type": "code",
   "execution_count": 39,
   "id": "0d23319a-0b0c-402e-9b84-f7b7fd4fb25c",
   "metadata": {},
   "outputs": [],
   "source": [
    "tool = BB_agent_tool(\n",
    "    name=\"get_equity_fundamental_historical_splits\",\n",
    "    description=\"Given a stock symbol, get the company's historical stock splits in JSON format.\",\n",
    "    openapi_path='/api/v1/equity/fundamental/historical_splits',\n",
    "    parameters={\n",
    "        \"symbol\": {\n",
    "            \"type\": \"string\",\n",
    "            \"description\": \"The stock symbol.\"\n",
    "        }\n",
    "        },\n",
    "    example_parameter_values=[{\n",
    "        \"symbol\": \"NVDA\",\n",
    "    }],\n",
    ")\n"
   ]
  },
  {
   "cell_type": "code",
   "execution_count": 40,
   "id": "15ff90cc-2755-42d8-9eda-01fc52668ae9",
   "metadata": {},
   "outputs": [
    {
     "name": "stdout",
     "output_type": "stream",
     "text": [
      "get_equity_fundamental_historical_splits({'symbol': 'AAPL'}) -> [{\"date\": \"2020-08-31\", \"numerator\": 4.0, \"denominator\": 1.0, \"split_ratio\": null, \"label\": \"August ...\n"
     ]
    },
    {
     "data": {
      "text/markdown": [
       "Here is the historical stock split information for Apple Inc. (symbol: AAPL):\n",
       "\n",
       "1. **August 31, 2020**: 4-for-1 split\n",
       "2. **June 09, 2014**: 7-for-1 split\n",
       "3. **February 28, 2005**: 2-for-1 split\n",
       "4. **June 21, 2000**: 2-for-1 split\n",
       "5. **June 16, 1987**: 2-for-1 split\n",
       "\n",
       "If you have any other questions or need further information, feel free to ask!"
      ],
      "text/plain": [
       "<IPython.core.display.Markdown object>"
      ]
     },
     "metadata": {},
     "output_type": "display_data"
    }
   ],
   "source": [
    "agent_query(f\"Provide historical split information for symbol AAPL\", verbose=False)"
   ]
  },
  {
   "cell_type": "code",
   "execution_count": 41,
   "id": "11acabf1-8fbb-419a-8eac-5146173660a3",
   "metadata": {},
   "outputs": [
    {
     "name": "stdout",
     "output_type": "stream",
     "text": [
      "get_balance_sheet_json({'symbol': 'MRK'}) -> {\"period_ending\": \"2023-12-31\", \"fiscal_period\": \"FY\", \"fiscal_year\": 2023, \"filing_date\": \"2024-04-...\n"
     ]
    },
    {
     "data": {
      "text/markdown": [
       "The latest total assets for Merck & Co., Inc. (symbol: MRK) as of the fiscal year ending December 31, 2023, are \\\\$106.675 billion USD. \n",
       "\n",
       "For further details, you can refer to their [official 10-K filing](https://www.sec.gov/Archives/edgar/data/310158/000119312524093194/d807955d10ka.htm)."
      ],
      "text/plain": [
       "<IPython.core.display.Markdown object>"
      ]
     },
     "metadata": {},
     "output_type": "display_data"
    }
   ],
   "source": [
    "tool = BB_agent_tool(\n",
    "    name=\"get_balance_sheet_json\",\n",
    "    description=\"Given a stock symbol, get the latest balance sheet data with assets and liabilities for the company in JSON format.\",\n",
    "    openapi_path='/api/v1/equity/fundamental/balance',\n",
    "    parameters={\n",
    "        \"symbol\": {\n",
    "            \"type\": \"string\",\n",
    "            \"description\": \"The stock symbol.\"\n",
    "        }\n",
    "        },\n",
    "    example_parameter_values=[{\n",
    "        \"symbol\": \"NVDA\",\n",
    "    }],\n",
    "    singular=1\n",
    ")\n",
    "\n",
    "agent_query(f\"what are the latest total assets for symbol {symbol}\", verbose=False)\n"
   ]
  },
  {
   "cell_type": "code",
   "execution_count": 42,
   "id": "8ff5c872-de7a-4c88-828f-c983b7ed30fb",
   "metadata": {},
   "outputs": [],
   "source": [
    "# can give by year\n",
    "# obb.equity.fundamental.balance(symbol='NVDA', period='annual', fiscal_year='2023', limit=1)\n",
    "# also growth from prior period obb.equity.fundamental.balance_growth"
   ]
  },
  {
   "cell_type": "code",
   "execution_count": 43,
   "id": "d321ef20-4a96-4812-88db-8c1744ca84ea",
   "metadata": {},
   "outputs": [
    {
     "name": "stdout",
     "output_type": "stream",
     "text": [
      "get_cash_flow_json({'symbol': 'MRK'}) -> {\"period_ending\": \"2023-12-31\", \"fiscal_period\": \"FY\", \"fiscal_year\": 2023, \"filing_date\": \"2024-04-...\n"
     ]
    },
    {
     "data": {
      "text/markdown": [
       "The most recent cash flow from operations for Merck & Co., Inc. (NYSE: MRK) for the fiscal year ending December 31, 2023, was \\\\$13,006,000,000.\n",
       "\n",
       "For more details, you can view the full cash flow statement [here](https://www.sec.gov/Archives/edgar/data/310158/000119312524093194/d807955d10ka.htm)."
      ],
      "text/plain": [
       "<IPython.core.display.Markdown object>"
      ]
     },
     "metadata": {},
     "output_type": "display_data"
    }
   ],
   "source": [
    "tool = BB_agent_tool(\n",
    "    name=\"get_cash_flow_json\",\n",
    "    description=\"Given a stock symbol, get the latest cash flow statement data for the company in JSON format.\",\n",
    "    openapi_path='/api/v1/equity/fundamental/cash',\n",
    "    parameters={\n",
    "        \"symbol\": {\n",
    "            \"type\": \"string\",\n",
    "            \"description\": \"The stock symbol.\"\n",
    "        }\n",
    "        },\n",
    "    example_parameter_values=[{\n",
    "        \"symbol\": \"NVDA\",\n",
    "    }],\n",
    "    singular=1\n",
    ")\n",
    "\n",
    "agent_query(f\"what was the most recent cash flow from operations for stock symbol {symbol}\", verbose=False)\n"
   ]
  },
  {
   "cell_type": "code",
   "execution_count": 44,
   "id": "4e0e806c-c229-44f7-9409-61b8ab58a2fd",
   "metadata": {},
   "outputs": [
    {
     "data": {
      "text/plain": [
       "{'get_10k_item1_from_symbol': <BB_agent_tool.BB_agent_tool at 0x319356790>,\n",
       " 'get_equity_search_symbol': <BB_agent_tool.BB_agent_tool at 0x319326810>,\n",
       " 'get_company_profile_json': <BB_agent_tool.BB_agent_tool at 0x3195891d0>,\n",
       " 'get_equity_shorts_short_interest': <BB_agent_tool.BB_agent_tool at 0x3197c7610>,\n",
       " 'get_equity_fundamental_historical_splits': <BB_agent_tool.BB_agent_tool at 0x32a551710>,\n",
       " 'get_balance_sheet_json': <BB_agent_tool.BB_agent_tool at 0x3293db4d0>,\n",
       " 'get_cash_flow_json': <BB_agent_tool.BB_agent_tool at 0x3293e8210>}"
      ]
     },
     "execution_count": 44,
     "metadata": {},
     "output_type": "execute_result"
    }
   ],
   "source": [
    "tool.agent_registry"
   ]
  },
  {
   "cell_type": "code",
   "execution_count": 45,
   "id": "2ba427b5-9b74-498c-aee8-0f4518cf25c6",
   "metadata": {},
   "outputs": [
    {
     "name": "stdout",
     "output_type": "stream",
     "text": [
      "get_income_statement_json({'symbol': 'MRK'}) -> {\"period_ending\": \"2023-12-31\", \"fiscal_period\": \"FY\", \"fiscal_year\": 2023, \"filing_date\": \"2024-04-...\n"
     ]
    },
    {
     "data": {
      "text/markdown": [
       "The most recent net income for Merck & Co., Inc. (symbol: MRK) for the fiscal year ending December 31, 2023, was \\\\$365 million.\n",
       "\n",
       "For more details, you can refer to their [latest 10-K filing](https://www.sec.gov/Archives/edgar/data/310158/000119312524093194/d807955d10ka.htm)."
      ],
      "text/plain": [
       "<IPython.core.display.Markdown object>"
      ]
     },
     "metadata": {},
     "output_type": "display_data"
    }
   ],
   "source": [
    "tool = BB_agent_tool(\n",
    "    name=\"get_income_statement_json\",\n",
    "    description=\"Given a stock symbol, get the latest income statement data for the company in JSON format\",\n",
    "    openapi_path='/api/v1/equity/fundamental/income',\n",
    "    parameters={\n",
    "        \"symbol\": {\n",
    "            \"type\": \"string\",\n",
    "            \"description\": \"The stock symbol.\"\n",
    "        }\n",
    "        },\n",
    "    example_parameter_values=[{\n",
    "        \"symbol\": \"NVDA\",\n",
    "    }],\n",
    "    singular=1\n",
    ")\n",
    "\n",
    "agent_query(f\"what was the most recent net income for symbol {symbol}\", verbose=False)\n"
   ]
  },
  {
   "cell_type": "code",
   "execution_count": 46,
   "id": "a1098457-64ef-44c7-93ed-ec7fd172b937",
   "metadata": {},
   "outputs": [
    {
     "name": "stdout",
     "output_type": "stream",
     "text": [
      "get_fundamental_metrics_json({'symbol': 'MRK'}) -> [{\"symbol\": \"MRK\", \"market_cap\": 333650000000.0, \"pe_ratio\": 146.64, \"foward_pe\": 13.3, \"eps\": 0.9, ...\n"
     ]
    },
    {
     "data": {
      "text/markdown": [
       "The most recent PE ratio for Merck & Co., Inc. (symbol: MRK) is 146.64."
      ],
      "text/plain": [
       "<IPython.core.display.Markdown object>"
      ]
     },
     "metadata": {},
     "output_type": "display_data"
    }
   ],
   "source": [
    "tool = BB_agent_tool(\n",
    "    name=\"get_fundamental_metrics_json\",\n",
    "    description=\"Given a stock symbol, get fundamental metrics for the company in JSON format.\",\n",
    "    openapi_path='/api/v1/equity/fundamental/metrics',\n",
    "    parameters={\n",
    "        \"symbol\": {\n",
    "            \"type\": \"string\",\n",
    "            \"description\": \"The stock symbol.\"\n",
    "        }\n",
    "        },\n",
    "    example_parameter_values=[{\n",
    "        \"symbol\": \"NVDA\",\n",
    "    }],\n",
    ")\n",
    "\n",
    "agent_query(f\"what was the most recent PE ratio for stock symbol {symbol}\", verbose=False)\n"
   ]
  },
  {
   "cell_type": "code",
   "execution_count": 47,
   "id": "5daa5fb1-21ac-46d4-ac7b-521f6d841156",
   "metadata": {},
   "outputs": [
    {
     "name": "stdout",
     "output_type": "stream",
     "text": [
      "get_fundamental_metrics_json({'symbol': 'MRK'}) -> [{\"symbol\": \"MRK\", \"market_cap\": 333650000000.0, \"pe_ratio\": 146.64, \"foward_pe\": 13.3, \"eps\": 0.9, ...\n"
     ]
    },
    {
     "data": {
      "text/markdown": [
       "The most recent price to sales ratio for Merck & Co., Inc. (symbol: MRK) is 5.46."
      ],
      "text/plain": [
       "<IPython.core.display.Markdown object>"
      ]
     },
     "metadata": {},
     "output_type": "display_data"
    }
   ],
   "source": [
    "tool = BB_agent_tool(\n",
    "    name=\"get_fundamental_ratios_json\",\n",
    "    description=\"Given a stock symbol, get fundamental valuation ratios for the company in JSON format.\",\n",
    "    openapi_path='/api/v1/equity/fundamental/ratios',\n",
    "    parameters={\n",
    "        \"symbol\": {\n",
    "            \"type\": \"string\",\n",
    "            \"description\": \"The stock symbol.\"\n",
    "        }\n",
    "        },\n",
    "    example_parameter_values=[{\n",
    "        \"symbol\": \"NVDA\",\n",
    "    }],\n",
    "    singular=1\n",
    ")\n",
    "\n",
    "agent_query(f\"what was the most recent price to sales ratio for stock symbol {symbol}\", verbose=False)\n"
   ]
  },
  {
   "cell_type": "code",
   "execution_count": 48,
   "id": "1471ebdb-f3dd-4cfd-ab61-61c531c16624",
   "metadata": {},
   "outputs": [
    {
     "name": "stdout",
     "output_type": "stream",
     "text": [
      "get_equity_search_symbol({'query': 'MRK', 'limit': 1}) -> [{\"symbol\": \"FDT\", \"name\": \"FIRST TR EXCH TRD ALPHDX FD II DEV MRK EX US\", \"dpm_name\": \"Belvedere Tr...\n",
      "get_equity_search_symbol({'query': 'Merck', 'limit': 1}) -> [{\"symbol\": \"MRK\", \"name\": \"MERCK & CO INC COM\", \"dpm_name\": \"Wolverine Trading, LLC\", \"post_station...\n",
      "get_equity_fundamental_multiples({'symbol': 'MRK'}) -> {\"symbol\": \"MRK\", \"revenue_per_share_ttm\": 24.25424397947098, \"net_income_per_share_ttm\": 0.91038294...\n"
     ]
    },
    {
     "data": {
      "text/markdown": [
       "The most recent revenue per share for Merck & Co., Inc. (ticker: MRK) is **\\\\$24.25**."
      ],
      "text/plain": [
       "<IPython.core.display.Markdown object>"
      ]
     },
     "metadata": {},
     "output_type": "display_data"
    }
   ],
   "source": [
    "tool = BB_agent_tool(\n",
    "    name=\"get_equity_fundamental_multiples\",\n",
    "    description=\"Given a stock symbol, get fundamental valuation multiples for the company in JSON format.\",\n",
    "    openapi_path='/api/v1/equity/fundamental/multiples',\n",
    "    parameters={\n",
    "        \"symbol\": {\n",
    "            \"type\": \"string\",\n",
    "            \"description\": \"The stock symbol.\"\n",
    "        }\n",
    "        },\n",
    "    example_parameter_values=[{\n",
    "        \"symbol\": \"NVDA\",\n",
    "    }],\n",
    "    singular=1\n",
    ")\n",
    "\n",
    "agent_query(f\"what was the most recent revenue per share for stock symbol {symbol}\", verbose=False)\n"
   ]
  },
  {
   "cell_type": "code",
   "execution_count": 49,
   "id": "7cf79058-b258-420d-a72d-795c45c314b6",
   "metadata": {},
   "outputs": [],
   "source": [
    "# tool = BB_agent_tool(\n",
    "#     name=\"get_historical_eps\",\n",
    "#     description=\"Given a stock symbol, get historical earnings per share data for the company in JSON format.\",\n",
    "#     openapi_path='/api/v1/equity/fundamental/historical_eps',\n",
    "#     parameters={\n",
    "#         \"symbol\": {\n",
    "#             \"type\": \"string\",\n",
    "#             \"description\": \"The stock symbol.\"\n",
    "#         }\n",
    "#         },\n",
    "#     example_parameter_values=[{\n",
    "#         \"symbol\": \"NVDA\",\n",
    "#     }],\n",
    "# )\n",
    "\n",
    "# "
   ]
  },
  {
   "cell_type": "code",
   "execution_count": 50,
   "id": "8802008e-f0ac-4cf1-85a4-2373ccca5713",
   "metadata": {},
   "outputs": [],
   "source": [
    "# agent_query(f\"what was the EPS for {company} in the quarter ended 2022-09-30?\", verbose=False)\n"
   ]
  },
  {
   "cell_type": "code",
   "execution_count": 51,
   "id": "d94c70ca-2285-4676-8d91-f6fce3c3a491",
   "metadata": {},
   "outputs": [
    {
     "name": "stdout",
     "output_type": "stream",
     "text": [
      "get_equity_fundamental_dividend({'symbol': 'MRK'}) -> [{\"ex_dividend_date\": \"2024-03-14\", \"amount\": 0.77, \"label\": \"March 14, 24\", \"adj_dividend\": 0.77, \"...\n"
     ]
    },
    {
     "data": {
      "text/markdown": [
       "The latest dividend data for stock symbol MRK (Merck & Co., Inc.) is as follows:\n",
       "\n",
       "- **Ex-Dividend Date:** March 14, 2024\n",
       "- **Amount:** \\\\$0.77\n",
       "- **Record Date:** March 15, 2024\n",
       "- **Payment Date:** April 05, 2024\n",
       "- **Declaration Date:** January 23, 2024\n",
       "\n",
       "If you have any further questions or need additional details, feel free to ask!"
      ],
      "text/plain": [
       "<IPython.core.display.Markdown object>"
      ]
     },
     "metadata": {},
     "output_type": "display_data"
    }
   ],
   "source": [
    "tool = BB_agent_tool(\n",
    "    name=\"get_equity_fundamental_dividend\",\n",
    "    description=\"Given a stock symbol, get the latest dividend data for the company in JSON format.\",\n",
    "    openapi_path='/api/v1/equity/fundamental/dividends',\n",
    "    parameters={\n",
    "        \"symbol\": {\n",
    "            \"type\": \"string\",\n",
    "            \"description\": \"The stock symbol.\"\n",
    "        }\n",
    "        },\n",
    "    example_parameter_values=[{\n",
    "        \"symbol\": \"NVDA\",\n",
    "    }],\n",
    ")\n",
    "\n",
    "agent_query(f\"what was the latest dividend data for stock symbol {symbol}?\", verbose=False)\n"
   ]
  },
  {
   "cell_type": "code",
   "execution_count": 52,
   "id": "d6ea54fe-b064-4db1-a776-2e585d434355",
   "metadata": {},
   "outputs": [
    {
     "name": "stdout",
     "output_type": "stream",
     "text": [
      "get_equity_search_symbol({'query': 'MRK', 'limit': 5}) -> [{\"symbol\": \"FDT\", \"name\": \"FIRST TR EXCH TRD ALPHDX FD II DEV MRK EX US\", \"dpm_name\": \"Belvedere Tr...\n",
      "get_equity_search_symbol({'query': 'merck', 'limit': 5}) -> [{\"symbol\": \"MRK\", \"name\": \"MERCK & CO INC COM\", \"dpm_name\": \"Wolverine Trading, LLC\", \"post_station...\n",
      "get_equity_fundamental_dividend({'symbol': 'MRK'}) -> [{\"ex_dividend_date\": \"2024-03-14\", \"amount\": 0.77, \"label\": \"March 14, 24\", \"adj_dividend\": 0.77, \"...\n"
     ]
    },
    {
     "data": {
      "text/markdown": [
       "Here is the relevant dividend data for Merck & Co Inc. (symbol: MRK) at the end of 2022:\n",
       "\n",
       "- **Ex-dividend date**: December 14, 2022\n",
       "- **Dividend amount**: \\\\$0.73 per share\n",
       "- **Record date**: December 15, 2022\n",
       "- **Payment date**: January 9, 2023\n",
       "- **Declaration date**: November 29, 2022\n",
       "\n",
       "If you have any more questions or need further assistance, feel free to ask!"
      ],
      "text/plain": [
       "<IPython.core.display.Markdown object>"
      ]
     },
     "metadata": {},
     "output_type": "display_data"
    }
   ],
   "source": [
    "agent_query(f\"what was the dividend data as of the end of 2022 for stock symbol {symbol}?\", verbose=False)\n"
   ]
  },
  {
   "cell_type": "code",
   "execution_count": 53,
   "id": "c654a51c-29e0-46f9-8cb3-93654813deaa",
   "metadata": {},
   "outputs": [
    {
     "name": "stdout",
     "output_type": "stream",
     "text": [
      "get_trailing_dividend_yield_json({'symbol': 'MRK'}) -> [{\"date\": \"2023-05-16\", \"trailing_dividend_yield\": 0.0244658856}, {\"date\": \"2023-05-17\", \"trailing_d...\n"
     ]
    },
    {
     "data": {
      "text/markdown": [
       "As of the end of 2023, the trailing dividend yield for Merck & Co., Inc. (symbol: MRK) was approximately 2.82%. Here are the precise yields on the last trading days of December 2023:\n",
       "\n",
       "- December 27, 2023: 2.7412%\n",
       "- December 28, 2023: 2.7213%\n",
       "- December 29, 2023: 2.7151%\n",
       "\n",
       "These numbers reflect the trailing dividend yield on those specific dates."
      ],
      "text/plain": [
       "<IPython.core.display.Markdown object>"
      ]
     },
     "metadata": {},
     "output_type": "display_data"
    }
   ],
   "source": [
    "tool = BB_agent_tool(\n",
    "    name=\"get_trailing_dividend_yield_json\",\n",
    "    description=\"Given a stock symbol, get the 1 year trailing dividend yield for the company over time in JSON format.\",\n",
    "    openapi_path='/api/v1/equity/fundamental/trailing_dividend_yield',\n",
    "    parameters={\n",
    "        \"symbol\": {\n",
    "            \"type\": \"string\",\n",
    "            \"description\": \"The stock symbol.\"\n",
    "        }\n",
    "        },\n",
    "    example_parameter_values=[{\n",
    "        \"symbol\": \"NVDA\",\n",
    "    }],\n",
    ")\n",
    "\n",
    "agent_query(f\"what was the dividend yield for stock symbol {symbol} as of the end of 2023?\", verbose=False)\n"
   ]
  },
  {
   "cell_type": "code",
   "execution_count": 54,
   "id": "95dc1d1e-6a25-4728-9251-ced4ee39825c",
   "metadata": {},
   "outputs": [
    {
     "name": "stdout",
     "output_type": "stream",
     "text": [
      "get_equity_search_symbol({'query': 'Merck', 'limit': 1}) -> [{\"symbol\": \"MRK\", \"name\": \"MERCK & CO INC COM\", \"dpm_name\": \"Wolverine Trading, LLC\", \"post_station...\n",
      "get_price_performance_json({'symbol': 'MRK'}) -> [{\"symbol\": \"MRK\", \"one_day\": 0.0239, \"wtd\": null, \"one_week\": 0.0168, \"mtd\": null, \"one_month\": 0.0...\n"
     ]
    },
    {
     "data": {
      "text/markdown": [
       "The performance of Merck (symbol: MRK) over the past year is as follows:\n",
       "\n",
       "- **1-Year Performance**: +13.2%\n",
       "- **Current Price**: \\\\$131.73\n",
       "- **Volume**: 7,224,765\n",
       "- **Average Volume**: 8,210,000\n",
       "\n",
       "The stock has shown a positive return over the given period."
      ],
      "text/plain": [
       "<IPython.core.display.Markdown object>"
      ]
     },
     "metadata": {},
     "output_type": "display_data"
    }
   ],
   "source": [
    "tool = BB_agent_tool(\n",
    "    name=\"get_price_performance_json\",\n",
    "    description=\"Given a stock symbol, get price performance data for the stock for different time periods in JSON format.\",\n",
    "    openapi_path='/api/v1/equity/price/performance',\n",
    "    parameters={\n",
    "        \"symbol\": {\n",
    "            \"type\": \"string\",\n",
    "            \"description\": \"The stock symbol.\"\n",
    "        }\n",
    "        },\n",
    "    example_parameter_values=[{\n",
    "        \"symbol\": \"NVDA\",\n",
    "    }],\n",
    ")\n",
    "\n",
    "agent_query(f\"what was the performance for {company} from 1 year ago?\", verbose=False)\n"
   ]
  },
  {
   "cell_type": "code",
   "execution_count": 55,
   "id": "3fdf5cd8-9a72-489e-8fbc-5bbf6e95ff19",
   "metadata": {},
   "outputs": [],
   "source": [
    "# this might exceed token context making it unreliable\n",
    "tool = BB_agent_tool(\n",
    "    name=\"get_etf_equity_exposure_json\",\n",
    "    description=\"Given a stock symbol, get the exposure of ETFs to the stock in JSON format.\",\n",
    "    openapi_path='/api/v1/etf/equity_exposure',\n",
    "    parameters={\n",
    "        \"symbol\": {\n",
    "            \"type\": \"string\",\n",
    "            \"description\": \"The stock symbol.\"\n",
    "        }\n",
    "        },\n",
    "    example_parameter_values=[{\n",
    "        \"symbol\": \"NVDA\",\n",
    "    }],\n",
    ")\n"
   ]
  },
  {
   "cell_type": "code",
   "execution_count": 56,
   "id": "b7783f91-b77b-46e8-8f86-ba02715b7887",
   "metadata": {},
   "outputs": [
    {
     "data": {
      "text/html": [
       "<div>\n",
       "<style scoped>\n",
       "    .dataframe tbody tr th:only-of-type {\n",
       "        vertical-align: middle;\n",
       "    }\n",
       "\n",
       "    .dataframe tbody tr th {\n",
       "        vertical-align: top;\n",
       "    }\n",
       "\n",
       "    .dataframe thead th {\n",
       "        text-align: right;\n",
       "    }\n",
       "</style>\n",
       "<table border=\"1\" class=\"dataframe\">\n",
       "  <thead>\n",
       "    <tr style=\"text-align: right;\">\n",
       "      <th></th>\n",
       "      <th>equity_symbol</th>\n",
       "      <th>etf_symbol</th>\n",
       "      <th>shares</th>\n",
       "      <th>weight</th>\n",
       "      <th>market_value</th>\n",
       "    </tr>\n",
       "  </thead>\n",
       "  <tbody>\n",
       "    <tr>\n",
       "      <th>445</th>\n",
       "      <td>MRK</td>\n",
       "      <td>FTXH</td>\n",
       "      <td>11684.0</td>\n",
       "      <td>0.075700</td>\n",
       "      <td>1.519621e+06</td>\n",
       "    </tr>\n",
       "    <tr>\n",
       "      <th>13</th>\n",
       "      <td>MRK</td>\n",
       "      <td>XLV</td>\n",
       "      <td>18454434.0</td>\n",
       "      <td>0.062123</td>\n",
       "      <td>2.400184e+09</td>\n",
       "    </tr>\n",
       "    <tr>\n",
       "      <th>81</th>\n",
       "      <td>MRK</td>\n",
       "      <td>QDVG.DE</td>\n",
       "      <td>1126933.0</td>\n",
       "      <td>0.061660</td>\n",
       "      <td>1.457012e+08</td>\n",
       "    </tr>\n",
       "    <tr>\n",
       "      <th>83</th>\n",
       "      <td>MRK</td>\n",
       "      <td>IUHC.L</td>\n",
       "      <td>0.0</td>\n",
       "      <td>0.061095</td>\n",
       "      <td>1.451633e+08</td>\n",
       "    </tr>\n",
       "    <tr>\n",
       "      <th>82</th>\n",
       "      <td>MRK</td>\n",
       "      <td>IUHE.AS</td>\n",
       "      <td>0.0</td>\n",
       "      <td>0.061095</td>\n",
       "      <td>1.451633e+08</td>\n",
       "    </tr>\n",
       "    <tr>\n",
       "      <th>...</th>\n",
       "      <td>...</td>\n",
       "      <td>...</td>\n",
       "      <td>...</td>\n",
       "      <td>...</td>\n",
       "      <td>...</td>\n",
       "    </tr>\n",
       "    <tr>\n",
       "      <th>681</th>\n",
       "      <td>MRK</td>\n",
       "      <td>GPAL</td>\n",
       "      <td>640.0</td>\n",
       "      <td>NaN</td>\n",
       "      <td>6.631040e+04</td>\n",
       "    </tr>\n",
       "    <tr>\n",
       "      <th>694</th>\n",
       "      <td>MRK</td>\n",
       "      <td>GDEF</td>\n",
       "      <td>397.0</td>\n",
       "      <td>NaN</td>\n",
       "      <td>5.170131e+04</td>\n",
       "    </tr>\n",
       "    <tr>\n",
       "      <th>703</th>\n",
       "      <td>MRK</td>\n",
       "      <td>EUNU.DE</td>\n",
       "      <td>50000.0</td>\n",
       "      <td>NaN</td>\n",
       "      <td>3.868500e+04</td>\n",
       "    </tr>\n",
       "    <tr>\n",
       "      <th>715</th>\n",
       "      <td>MRK</td>\n",
       "      <td>GSEU</td>\n",
       "      <td>121.0</td>\n",
       "      <td>NaN</td>\n",
       "      <td>2.030260e+04</td>\n",
       "    </tr>\n",
       "    <tr>\n",
       "      <th>728</th>\n",
       "      <td>MRK</td>\n",
       "      <td>BBCB</td>\n",
       "      <td>2000.0</td>\n",
       "      <td>NaN</td>\n",
       "      <td>1.856270e+03</td>\n",
       "    </tr>\n",
       "  </tbody>\n",
       "</table>\n",
       "<p>789 rows × 5 columns</p>\n",
       "</div>"
      ],
      "text/plain": [
       "    equity_symbol etf_symbol      shares    weight  market_value\n",
       "445           MRK       FTXH     11684.0  0.075700  1.519621e+06\n",
       "13            MRK        XLV  18454434.0  0.062123  2.400184e+09\n",
       "81            MRK    QDVG.DE   1126933.0  0.061660  1.457012e+08\n",
       "83            MRK     IUHC.L         0.0  0.061095  1.451633e+08\n",
       "82            MRK    IUHE.AS         0.0  0.061095  1.451633e+08\n",
       "..            ...        ...         ...       ...           ...\n",
       "681           MRK       GPAL       640.0       NaN  6.631040e+04\n",
       "694           MRK       GDEF       397.0       NaN  5.170131e+04\n",
       "703           MRK    EUNU.DE     50000.0       NaN  3.868500e+04\n",
       "715           MRK       GSEU       121.0       NaN  2.030260e+04\n",
       "728           MRK       BBCB      2000.0       NaN  1.856270e+03\n",
       "\n",
       "[789 rows x 5 columns]"
      ]
     },
     "execution_count": 56,
     "metadata": {},
     "output_type": "execute_result"
    }
   ],
   "source": [
    "pd.DataFrame(json.loads(tool(symbol='MRK'))).sort_values('weight', ascending=False)"
   ]
  },
  {
   "cell_type": "code",
   "execution_count": 57,
   "id": "cca28804-8aa2-4829-909f-6fc0592ce44c",
   "metadata": {},
   "outputs": [
    {
     "name": "stdout",
     "output_type": "stream",
     "text": [
      "get_equity_search_symbol({'query': 'Merck', 'limit': 1}) -> [{\"symbol\": \"MRK\", \"name\": \"MERCK & CO INC COM\", \"dpm_name\": \"Wolverine Trading, LLC\", \"post_station...\n",
      "get_etf_equity_exposure_json({'symbol': 'MRK'}) -> [{\"equity_symbol\": \"MRK\", \"etf_symbol\": \"VTSAX\", \"shares\": 79663326.0, \"weight\": 0.0066, \"market_val...\n"
     ]
    },
    {
     "data": {
      "text/markdown": [
       "The ETF with the highest weight in Merck (ticker: MRK) is the XLV ETF, with a weight of approximately 0.0621."
      ],
      "text/plain": [
       "<IPython.core.display.Markdown object>"
      ]
     },
     "metadata": {},
     "output_type": "display_data"
    }
   ],
   "source": [
    "agent_query(f\"which ETF has the highest weight in {company} ?\", verbose=False)\n"
   ]
  },
  {
   "cell_type": "code",
   "execution_count": 58,
   "id": "97cb14b9-9785-48ff-bdb4-15d3620ffeec",
   "metadata": {},
   "outputs": [
    {
     "data": {
      "text/plain": [
       "[('get_10k_item1_from_symbol',\n",
       "  \"Given a stock symbol, gets item 1 of the company's latest 10-K annual report filing.\"),\n",
       " ('get_equity_search_symbol',\n",
       "  'Given a search string, get the stock symbol of the top company whose name best matches the search string.'),\n",
       " ('get_company_profile_json',\n",
       "  'Given a stock symbol, get general background data about the company such as company name, industry, and sector data in JSON format'),\n",
       " ('get_equity_shorts_short_interest',\n",
       "  'Given a stock symbol, get data on short volume and days to cover in JSON format.'),\n",
       " ('get_equity_fundamental_historical_splits',\n",
       "  \"Given a stock symbol, get the company's historical stock splits in JSON format.\"),\n",
       " ('get_balance_sheet_json',\n",
       "  'Given a stock symbol, get the latest balance sheet data with assets and liabilities for the company in JSON format.'),\n",
       " ('get_cash_flow_json',\n",
       "  'Given a stock symbol, get the latest cash flow statement data for the company in JSON format.'),\n",
       " ('get_income_statement_json',\n",
       "  'Given a stock symbol, get the latest income statement data for the company in JSON format'),\n",
       " ('get_fundamental_metrics_json',\n",
       "  'Given a stock symbol, get fundamental metrics for the company in JSON format.'),\n",
       " ('get_fundamental_ratios_json',\n",
       "  'Given a stock symbol, get fundamental valuation ratios for the company in JSON format.'),\n",
       " ('get_equity_fundamental_multiples',\n",
       "  'Given a stock symbol, get fundamental valuation multiples for the company in JSON format.'),\n",
       " ('get_equity_fundamental_dividend',\n",
       "  'Given a stock symbol, get the latest dividend data for the company in JSON format.'),\n",
       " ('get_trailing_dividend_yield_json',\n",
       "  'Given a stock symbol, get the 1 year trailing dividend yield for the company over time in JSON format.'),\n",
       " ('get_price_performance_json',\n",
       "  'Given a stock symbol, get price performance data for the stock for different time periods in JSON format.'),\n",
       " ('get_etf_equity_exposure_json',\n",
       "  'Given a stock symbol, get the exposure of ETFs to the stock in JSON format.')]"
      ]
     },
     "execution_count": 58,
     "metadata": {},
     "output_type": "execute_result"
    }
   ],
   "source": [
    "[(k, t.description) for k, t in BB_agent_tool.agent_registry.items()]"
   ]
  },
  {
   "cell_type": "code",
   "execution_count": 62,
   "id": "c7a931fb-a8c9-4c55-94eb-256b853ddf07",
   "metadata": {},
   "outputs": [],
   "source": [
    "# for k, t in BB_agent_tool.agent_registry.items():\n",
    "#     print(t.example_code)"
   ]
  },
  {
   "cell_type": "code",
   "execution_count": 60,
   "id": "265ca60e-17ab-4903-bb9f-0b4d2eacf5c9",
   "metadata": {},
   "outputs": [
    {
     "data": {
      "text/plain": [
       "23681"
      ]
     },
     "execution_count": 60,
     "metadata": {},
     "output_type": "execute_result"
    }
   ],
   "source": [
    "len(\" \".join([(t.example_code) for k, t in BB_agent_tool.agent_registry.items()]))"
   ]
  },
  {
   "cell_type": "code",
   "execution_count": null,
   "id": "0606b26a-3435-488d-a519-d8754a09d910",
   "metadata": {},
   "outputs": [],
   "source": []
  }
 ],
 "metadata": {
  "kernelspec": {
   "display_name": "bb_agent",
   "language": "python",
   "name": "bb_agent"
  },
  "language_info": {
   "codemirror_mode": {
    "name": "ipython",
    "version": 3
   },
   "file_extension": ".py",
   "mimetype": "text/x-python",
   "name": "python",
   "nbconvert_exporter": "python",
   "pygments_lexer": "ipython3",
   "version": "3.11.9"
  }
 },
 "nbformat": 4,
 "nbformat_minor": 5
}
