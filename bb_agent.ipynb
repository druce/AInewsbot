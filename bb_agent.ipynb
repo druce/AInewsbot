{
 "cells": [
  {
   "cell_type": "markdown",
   "id": "0003fc70-614a-45fe-824d-d95957d13b19",
   "metadata": {},
   "source": [
    "# Stock Market Question Answering Agent\n",
    "\n",
    "- answer questions about individual stocks using (mostly) OpenBB functions\n",
    "- uses the OpenAPI tools functionality\n",
    "- define a set of functions\n",
    "- when prompting, give OpenAI the set of functions and their descriptions in a specified format\n",
    "- if OpenAI needs to run a function to respond to the prompt, it will provide the function signature and ask you to provide the return values before continuing\n",
    "  "
   ]
  },
  {
   "cell_type": "code",
   "execution_count": 1,
   "id": "20d61f1a-b6e0-4c72-9eee-5c3c84db5718",
   "metadata": {},
   "outputs": [],
   "source": [
    "import os\n",
    "import sys\n",
    "import dotenv\n",
    "import warnings\n",
    "from datetime import datetime, timedelta\n",
    "import re\n",
    "\n",
    "import pandas as pd\n",
    "\n",
    "import IPython\n",
    "from IPython.display import HTML, Image, Markdown, display\n",
    "\n",
    "import selenium\n",
    "from selenium import webdriver\n",
    "from selenium.webdriver.common.by import By\n",
    "# use firefox because it updates less often, can disable updates\n",
    "# recommend importing profile from Chrome for cookies, passwords\n",
    "# looks less like a bot with more user cruft in the profile\n",
    "from selenium.webdriver.firefox.options import Options\n",
    "from selenium.webdriver.firefox.service import Service\n",
    "\n",
    "import base64\n",
    "import requests\n",
    "import json\n",
    "\n",
    "import openbb\n",
    "from openbb import obb\n",
    "from openbb_core.app.model.obbject import OBBject\n",
    "\n",
    "import openai\n",
    "from openai import OpenAI\n",
    "import tiktoken\n",
    "\n",
    "import langchain\n",
    "from langchain.tools import WikipediaQueryRun\n",
    "from langchain_community.utilities import WikipediaAPIWrapper\n",
    "\n",
    "import wikipedia\n",
    "\n",
    "# paid API for edgar filings\n",
    "import sec_api\n",
    "from sec_api import QueryApi, ExtractorApi\n",
    "\n",
    "# free API for edgar filing\n",
    "from sec_downloader import Downloader\n",
    "import sec_parser as sp\n",
    "\n",
    "dotenv.load_dotenv()\n",
    "\n",
    "from BB_agent_tool import BB_agent_tool, get_response, agent_query\n",
    "\n",
    "import pdb\n",
    "\n",
    "# turn off excessive warnings\n",
    "warnings.filterwarnings('ignore')\n"
   ]
  },
  {
   "cell_type": "code",
   "execution_count": 2,
   "id": "c31a6c57-1332-44df-bb86-2784cf909419",
   "metadata": {},
   "outputs": [
    {
     "name": "stdout",
     "output_type": "stream",
     "text": [
      "pandas         2.2.2\n",
      "obb            4.1.7\n",
      "selenium       4.20.0\n",
      "openai         1.28.0\n",
      "langchain      0.1.20\n",
      "wikipedia      (1, 4, 0)\n"
     ]
    }
   ],
   "source": [
    "print(f'pandas         {pd.__version__}')\n",
    "print(f'obb            {obb.system.version}')\n",
    "print(f'selenium       {selenium.__version__}')\n",
    "print(f'openai         {openai.__version__}')\n",
    "print(f'langchain      {langchain.__version__}')\n",
    "print(f'wikipedia      {wikipedia.__version__}')\n"
   ]
  },
  {
   "cell_type": "markdown",
   "id": "7ad6849a-72da-4d7d-8ae6-5b9bae8c80e2",
   "metadata": {},
   "source": [
    "# Connect to OpenBB"
   ]
  },
  {
   "cell_type": "code",
   "execution_count": 8,
   "id": "aeda3328-5535-4a8c-ba87-40615511f4a3",
   "metadata": {},
   "outputs": [
    {
     "data": {
      "text/plain": [
       "OpenBB Platform v4.1.7\n",
       "\n",
       "Utilities:\n",
       "    /account\n",
       "    /user\n",
       "    /system\n",
       "    /coverage\n",
       "\n",
       "Routers:\n",
       "    /commodity\n",
       "    /crypto\n",
       "    /currency\n",
       "    /derivatives\n",
       "    /econometrics\n",
       "    /economy\n",
       "    /equity\n",
       "    /etf\n",
       "    /fixedincome\n",
       "    /index\n",
       "    /news\n",
       "    /quantitative\n",
       "    /regulators\n",
       "    /technical\n",
       "\n",
       "Extensions:\n",
       "    - commodity@1.0.4\n",
       "    - crypto@1.1.5\n",
       "    - currency@1.1.5\n",
       "    - derivatives@1.1.5\n",
       "    - econometrics@1.1.5\n",
       "    - economy@1.1.5\n",
       "    - equity@1.1.5\n",
       "    - etf@1.1.5\n",
       "    - fixedincome@1.1.5\n",
       "    - index@1.1.5\n",
       "    - news@1.1.5\n",
       "    - quantitative@1.1.5\n",
       "    - regulators@1.1.5\n",
       "    - technical@1.1.6\n",
       "\n",
       "    - alpha_vantage@1.1.5\n",
       "    - benzinga@1.1.5\n",
       "    - biztoc@1.1.5\n",
       "    - cboe@1.1.5\n",
       "    - ecb@1.1.5\n",
       "    - federal_reserve@1.1.5\n",
       "    - finra@1.1.5\n",
       "    - finviz@1.0.4\n",
       "    - fmp@1.1.5\n",
       "    - fred@1.1.5\n",
       "    - government_us@1.1.5\n",
       "    - intrinio@1.1.5\n",
       "    - nasdaq@1.1.6\n",
       "    - oecd@1.1.5\n",
       "    - polygon@1.1.5\n",
       "    - sec@1.1.5\n",
       "    - seeking_alpha@1.1.5\n",
       "    - stockgrid@1.1.5\n",
       "    - tiingo@1.1.5\n",
       "    - tmx@1.0.2\n",
       "    - tradier@1.0.2\n",
       "    - tradingeconomics@1.1.5\n",
       "    - wsj@1.1.5\n",
       "    - yfinance@1.1.5    "
      ]
     },
     "execution_count": 8,
     "metadata": {},
     "output_type": "execute_result"
    }
   ],
   "source": [
    "obb"
   ]
  },
  {
   "cell_type": "code",
   "execution_count": 9,
   "id": "f1d91d67-55a5-48fd-91ed-e4cdc5f03ec5",
   "metadata": {},
   "outputs": [],
   "source": [
    "# login with email and password\n",
    "obb.account.login(email=os.environ['OPENBB_USER'], password=os.environ['OPENBB_PW'], remember_me=True)"
   ]
  },
  {
   "cell_type": "code",
   "execution_count": 10,
   "id": "81222526-77e2-4996-a7a1-b79dca56586b",
   "metadata": {},
   "outputs": [
    {
     "data": {
      "text/plain": [
       "UserSettings\n",
       "\n",
       "id: 0664ab9d-bc3c-7dcc-8000-11faacd10505\n",
       "profile: {'hub_session': {'username': 'drucev', 'email': 'drucev@hotmail.com', 'primary_usage': 'personal', 'user_uuid': 'c866b4d2-c09b-4b13-abb7-a93f1ac3c2b7', 'token_type': 'bearer', 'access_token': SecretStr('**********')}}\n",
       "credentials: {'intrinio_api_key': None, 'tradier_account_type': None, 'tradier_api_key': None, 'tradingeconomics_api_key': None, 'nasdaq_api_key': None, 'fred_api_key': SecretStr('**********'), 'polygon_api_key': SecretStr('**********'), 'fmp_api_key': SecretStr('**********'), 'tiingo_token': SecretStr('**********'), 'benzinga_api_key': None, 'biztoc_api_key': SecretStr('**********'), 'alpha_vantage_api_key': SecretStr('**********')}\n",
       "preferences: {'cache_directory': '/Users/drucev/OpenBBUserData/cache', 'chart_style': 'dark', 'data_directory': '/Users/drucev/OpenBBUserData', 'export_directory': '/Users/drucev/OpenBBUserData/exports', 'metadata': True, 'output_type': 'OBBject', 'plot_enable_pywry': True, 'plot_open_export': False, 'plot_pywry_height': 762, 'plot_pywry_width': 1400, 'request_timeout': 15, 'show_warnings': True, 'table_style': 'dark', 'user_styles_directory': '/Users/drucev/OpenBBUserData/styles/user'}\n",
       "defaults: {'routes': {}}"
      ]
     },
     "execution_count": 10,
     "metadata": {},
     "output_type": "execute_result"
    }
   ],
   "source": [
    "obb.user"
   ]
  },
  {
   "cell_type": "code",
   "execution_count": 11,
   "id": "bf8476a6-1106-4e5b-9efa-229547f11097",
   "metadata": {},
   "outputs": [
    {
     "data": {
      "text/plain": [
       "/account\n",
       "    login\n",
       "    logout\n",
       "    save\n",
       "    refresh\n",
       "    "
      ]
     },
     "execution_count": 11,
     "metadata": {},
     "output_type": "execute_result"
    }
   ],
   "source": [
    "obb.account"
   ]
  },
  {
   "cell_type": "code",
   "execution_count": 12,
   "id": "edfe7554-a603-4cd8-bea0-1a79882cfbd0",
   "metadata": {},
   "outputs": [],
   "source": [
    "# Change a credential - only need once, gets stored in openbb cloud\n",
    "# obb.user.credentials.polygon_api_key = os.environ['POLYGON_API_KEY']\n",
    "# obb.user.credentials.alpha_vantage_api_key = os.environ['ALPHAVANTAGE_API_KEY']\n",
    "# obb.user.credentials.fred_api_key = os.environ['FRED_API_KEY']\n",
    "# obb.user.credentials.tiingo_token = os.environ['TIINGO_API_KEY']\n",
    "# obb.user.credentials.fmp_api_key = os.environ['FMP_API_KEY']\n",
    "# obb.user.credentials.biztoc_api_key = os.environ['BIZTOC_API_KEY']\n",
    "\n",
    "# Save account changes to the Hub\n",
    "# obb.account.save()\n",
    "\n",
    "# Refresh account with latest changes since login\n",
    "# obb.account.refresh()\n",
    "\n",
    "# Logout\n",
    "# obb.account.logout()"
   ]
  },
  {
   "cell_type": "code",
   "execution_count": 13,
   "id": "b239e060-fe40-418b-8838-7695c56a9829",
   "metadata": {},
   "outputs": [
    {
     "data": {
      "text/plain": [
       "/equity\n",
       "    /calendar\n",
       "    /compare\n",
       "    /darkpool\n",
       "    /discovery\n",
       "    /estimates\n",
       "    /fundamental\n",
       "    market_snapshots\n",
       "    /ownership\n",
       "    /price\n",
       "    profile\n",
       "    screener\n",
       "    search\n",
       "    /shorts\n",
       "    "
      ]
     },
     "execution_count": 13,
     "metadata": {},
     "output_type": "execute_result"
    }
   ],
   "source": [
    "obb.equity"
   ]
  },
  {
   "cell_type": "code",
   "execution_count": 14,
   "id": "920317cd-0446-4c79-963b-c999083e5111",
   "metadata": {},
   "outputs": [
    {
     "data": {
      "text/html": [
       "<div>\n",
       "<style scoped>\n",
       "    .dataframe tbody tr th:only-of-type {\n",
       "        vertical-align: middle;\n",
       "    }\n",
       "\n",
       "    .dataframe tbody tr th {\n",
       "        vertical-align: top;\n",
       "    }\n",
       "\n",
       "    .dataframe thead th {\n",
       "        text-align: right;\n",
       "    }\n",
       "</style>\n",
       "<table border=\"1\" class=\"dataframe\">\n",
       "  <thead>\n",
       "    <tr style=\"text-align: right;\">\n",
       "      <th></th>\n",
       "      <th>symbol</th>\n",
       "      <th>name</th>\n",
       "      <th>nasdaq_traded</th>\n",
       "      <th>exchange</th>\n",
       "      <th>etf</th>\n",
       "      <th>round_lot_size</th>\n",
       "      <th>test_issue</th>\n",
       "      <th>cqs_symbol</th>\n",
       "      <th>nasdaq_symbol</th>\n",
       "      <th>next_shares</th>\n",
       "    </tr>\n",
       "  </thead>\n",
       "  <tbody>\n",
       "    <tr>\n",
       "      <th>0</th>\n",
       "      <td>MRK</td>\n",
       "      <td>Merck &amp; Company, Inc. Common Stock (new)</td>\n",
       "      <td>Y</td>\n",
       "      <td>N</td>\n",
       "      <td>N</td>\n",
       "      <td>100.0</td>\n",
       "      <td>N</td>\n",
       "      <td>MRK</td>\n",
       "      <td>MRK</td>\n",
       "      <td>N</td>\n",
       "    </tr>\n",
       "  </tbody>\n",
       "</table>\n",
       "</div>"
      ],
      "text/plain": [
       "  symbol                                      name nasdaq_traded exchange etf  \\\n",
       "0    MRK  Merck & Company, Inc. Common Stock (new)             Y        N   N   \n",
       "\n",
       "   round_lot_size test_issue cqs_symbol nasdaq_symbol next_shares  \n",
       "0           100.0          N        MRK           MRK           N  "
      ]
     },
     "execution_count": 14,
     "metadata": {},
     "output_type": "execute_result"
    }
   ],
   "source": [
    "obb.equity.search(\"Merck\", provider=\"nasdaq\").to_df().head(3)\n"
   ]
  },
  {
   "cell_type": "code",
   "execution_count": 15,
   "id": "9f5d7165-664e-4bdd-81e0-f06463c6aaab",
   "metadata": {},
   "outputs": [],
   "source": [
    "symbol = \"MRK\"\n",
    "company = \"Merck\""
   ]
  },
  {
   "cell_type": "code",
   "execution_count": 16,
   "id": "a8122ebf-b557-485f-90b0-ff23e0783a6e",
   "metadata": {},
   "outputs": [
    {
     "data": {
      "text/plain": [
       "OBBject\n",
       "\n",
       "id: 0664ab9d-c4e1-7272-8000-d23ea51ada65\n",
       "results: [{'symbol': 'MRK', 'one_day': 0.0024, 'wtd': None, 'one_week': 0.0087, 'mt...\n",
       "provider: finviz\n",
       "warnings: None\n",
       "chart: None\n",
       "extra: {'metadata': {'arguments': {'provider_choices': {'provider': 'finviz'}, 'sta..."
      ]
     },
     "execution_count": 16,
     "metadata": {},
     "output_type": "execute_result"
    }
   ],
   "source": [
    "obj = obb.equity.price.performance(symbol)\n",
    "obj\n"
   ]
  },
  {
   "cell_type": "code",
   "execution_count": 17,
   "id": "b6d0e188-a4fc-4924-95ad-b1c980b6eaf8",
   "metadata": {},
   "outputs": [
    {
     "data": {
      "text/plain": [
       "[FinvizPricePerformanceData(symbol=MRK, one_day=0.0024, wtd=None, one_week=0.0087, mtd=None, one_month=0.047599999999999996, qtd=None, three_month=0.026600000000000002, six_month=0.2944, ytd=0.2034, one_year=0.1432, two_year=None, three_year=None, four_year=None, five_year=None, ten_year=None, max=None, volatility_week=0.0134, volatility_month=0.0149, price=131.19, volume=7722350.0, average_volume=8220000.000000001, relative_volume=0.94, analyst_recommendation=None, analyst_score=1.52)]"
      ]
     },
     "execution_count": 17,
     "metadata": {},
     "output_type": "execute_result"
    }
   ],
   "source": [
    "obj.results\n"
   ]
  },
  {
   "cell_type": "code",
   "execution_count": 18,
   "id": "90820eee-5f18-4b97-b133-28343c3b76f3",
   "metadata": {},
   "outputs": [
    {
     "data": {
      "text/plain": [
       "{'id': '0664ab9d-c4e1-7272-8000-d23ea51ada65',\n",
       " 'results': [{'symbol': 'MRK',\n",
       "   'one_day': 0.0024,\n",
       "   'wtd': None,\n",
       "   'one_week': 0.0087,\n",
       "   'mtd': None,\n",
       "   'one_month': 0.047599999999999996,\n",
       "   'qtd': None,\n",
       "   'three_month': 0.026600000000000002,\n",
       "   'six_month': 0.2944,\n",
       "   'ytd': 0.2034,\n",
       "   'one_year': 0.1432,\n",
       "   'two_year': None,\n",
       "   'three_year': None,\n",
       "   'four_year': None,\n",
       "   'five_year': None,\n",
       "   'ten_year': None,\n",
       "   'max': None,\n",
       "   'volatility_week': 0.0134,\n",
       "   'volatility_month': 0.0149,\n",
       "   'price': 131.19,\n",
       "   'volume': 7722350.0,\n",
       "   'average_volume': 8220000.000000001,\n",
       "   'relative_volume': 0.94,\n",
       "   'analyst_recommendation': None,\n",
       "   'analyst_score': 1.52}],\n",
       " 'provider': 'finviz',\n",
       " 'warnings': None,\n",
       " 'chart': None,\n",
       " 'extra': {'metadata': {'arguments': {'provider_choices': {'provider': 'finviz'},\n",
       "    'standard_params': {'symbol': 'MRK'},\n",
       "    'extra_params': {}},\n",
       "   'duration': 231110750,\n",
       "   'route': '/equity/price/performance',\n",
       "   'timestamp': datetime.datetime(2024, 5, 19, 22, 47, 56, 74793)}}}"
      ]
     },
     "execution_count": 18,
     "metadata": {},
     "output_type": "execute_result"
    }
   ],
   "source": [
    "obj.dict()\n"
   ]
  },
  {
   "cell_type": "code",
   "execution_count": 19,
   "id": "f7052541-943b-4fd6-933a-eb8e1e7084af",
   "metadata": {},
   "outputs": [
    {
     "data": {
      "text/plain": [
       "{'results': [{'symbol': 'MRK',\n",
       "   'asset_type': 'EQUITY',\n",
       "   'name': 'Merck & Co., Inc.',\n",
       "   'exchange': 'NYQ',\n",
       "   'bid': 126.0,\n",
       "   'bid_size': 1000,\n",
       "   'ask': 133.0,\n",
       "   'ask_size': 800,\n",
       "   'last_price': 131.19,\n",
       "   'open': 130.69,\n",
       "   'high': 131.32,\n",
       "   'low': 129.81,\n",
       "   'volume': 8281595,\n",
       "   'prev_close': 130.88,\n",
       "   'year_high': 133.1,\n",
       "   'year_low': 99.14,\n",
       "   'ma_50d': 127.1046,\n",
       "   'ma_200d': 114.8178,\n",
       "   'volume_average': 8238545.0,\n",
       "   'volume_average_10d': 6913350.0,\n",
       "   'currency': 'USD'}],\n",
       " 'provider': 'yfinance',\n",
       " 'warnings': None,\n",
       " 'chart': None,\n",
       " 'extra': {'metadata': {'arguments': {'provider_choices': {'provider': 'yfinance'},\n",
       "    'standard_params': {'symbol': 'MRK'},\n",
       "    'extra_params': {'use_cache': True, 'source': 'iex'}},\n",
       "   'duration': 302562416,\n",
       "   'route': '/equity/price/quote',\n",
       "   'timestamp': '2024-05-19T22:47:56.398970'}}}"
      ]
     },
     "execution_count": 19,
     "metadata": {},
     "output_type": "execute_result"
    }
   ],
   "source": [
    "# use REST API on server running locally\n",
    "# uvicorn openbb_core.api.rest_api:app --host 0.0.0.0 --port 8000 --reload\n",
    "# REST API documentation - http://127.0.0.1:8000/docs\n",
    "# openapi.json : http://127.0.0.1:8000/openapi.json\n",
    "\n",
    "# not turning on authentication\n",
    "# msg = \"some_user:some_pass\"\n",
    "# msg_bytes = msg.encode('ascii')\n",
    "# base64_bytes = base64.b64encode(msg_bytes)\n",
    "# base64_msg = base64_bytes.decode('ascii')\n",
    "\n",
    "url = f\"http://127.0.0.1:8000/api/v1/equity/price/quote?provider=yfinance&symbol={symbol}\"\n",
    "# headers = {\"accept\": \"application/json\", \"Authorization\": f\"Basic {base64_msg}\"}\n",
    "headers = {\"accept\": \"application/json\"}\n",
    "\n",
    "response = requests.get(url=url, headers=headers)\n",
    "\n",
    "response.json()\n"
   ]
  },
  {
   "cell_type": "code",
   "execution_count": 20,
   "id": "a2f4d73b-c652-4995-8f69-0e1541f9a8ac",
   "metadata": {},
   "outputs": [
    {
     "data": {
      "text/html": [
       "<div>\n",
       "<style scoped>\n",
       "    .dataframe tbody tr th:only-of-type {\n",
       "        vertical-align: middle;\n",
       "    }\n",
       "\n",
       "    .dataframe tbody tr th {\n",
       "        vertical-align: top;\n",
       "    }\n",
       "\n",
       "    .dataframe thead th {\n",
       "        text-align: right;\n",
       "    }\n",
       "</style>\n",
       "<table border=\"1\" class=\"dataframe\">\n",
       "  <thead>\n",
       "    <tr style=\"text-align: right;\">\n",
       "      <th></th>\n",
       "      <th>open</th>\n",
       "      <th>high</th>\n",
       "      <th>low</th>\n",
       "      <th>close</th>\n",
       "      <th>volume</th>\n",
       "      <th>vwap</th>\n",
       "      <th>transactions</th>\n",
       "    </tr>\n",
       "    <tr>\n",
       "      <th>date</th>\n",
       "      <th></th>\n",
       "      <th></th>\n",
       "      <th></th>\n",
       "      <th></th>\n",
       "      <th></th>\n",
       "      <th></th>\n",
       "      <th></th>\n",
       "    </tr>\n",
       "  </thead>\n",
       "  <tbody>\n",
       "    <tr>\n",
       "      <th>2023-05-19</th>\n",
       "      <td>114.33</td>\n",
       "      <td>116.240</td>\n",
       "      <td>114.1000</td>\n",
       "      <td>115.49</td>\n",
       "      <td>7647080.0</td>\n",
       "      <td>115.4905</td>\n",
       "      <td>63052</td>\n",
       "    </tr>\n",
       "    <tr>\n",
       "      <th>2023-05-22</th>\n",
       "      <td>115.48</td>\n",
       "      <td>117.080</td>\n",
       "      <td>114.3300</td>\n",
       "      <td>114.49</td>\n",
       "      <td>5607422.0</td>\n",
       "      <td>115.0297</td>\n",
       "      <td>75291</td>\n",
       "    </tr>\n",
       "    <tr>\n",
       "      <th>2023-05-23</th>\n",
       "      <td>113.97</td>\n",
       "      <td>114.790</td>\n",
       "      <td>113.0500</td>\n",
       "      <td>113.27</td>\n",
       "      <td>7733023.0</td>\n",
       "      <td>113.5640</td>\n",
       "      <td>88433</td>\n",
       "    </tr>\n",
       "    <tr>\n",
       "      <th>2023-05-24</th>\n",
       "      <td>114.11</td>\n",
       "      <td>114.320</td>\n",
       "      <td>112.5500</td>\n",
       "      <td>113.60</td>\n",
       "      <td>4509534.0</td>\n",
       "      <td>113.6129</td>\n",
       "      <td>61615</td>\n",
       "    </tr>\n",
       "    <tr>\n",
       "      <th>2023-05-25</th>\n",
       "      <td>113.50</td>\n",
       "      <td>113.500</td>\n",
       "      <td>111.0900</td>\n",
       "      <td>112.30</td>\n",
       "      <td>7037608.0</td>\n",
       "      <td>112.0241</td>\n",
       "      <td>82967</td>\n",
       "    </tr>\n",
       "    <tr>\n",
       "      <th>...</th>\n",
       "      <td>...</td>\n",
       "      <td>...</td>\n",
       "      <td>...</td>\n",
       "      <td>...</td>\n",
       "      <td>...</td>\n",
       "      <td>...</td>\n",
       "      <td>...</td>\n",
       "    </tr>\n",
       "    <tr>\n",
       "      <th>2024-05-13</th>\n",
       "      <td>129.51</td>\n",
       "      <td>129.710</td>\n",
       "      <td>128.0200</td>\n",
       "      <td>129.29</td>\n",
       "      <td>6920607.0</td>\n",
       "      <td>128.9122</td>\n",
       "      <td>85432</td>\n",
       "    </tr>\n",
       "    <tr>\n",
       "      <th>2024-05-14</th>\n",
       "      <td>129.20</td>\n",
       "      <td>129.200</td>\n",
       "      <td>128.0269</td>\n",
       "      <td>128.66</td>\n",
       "      <td>6055317.0</td>\n",
       "      <td>128.5396</td>\n",
       "      <td>76232</td>\n",
       "    </tr>\n",
       "    <tr>\n",
       "      <th>2024-05-15</th>\n",
       "      <td>128.88</td>\n",
       "      <td>131.965</td>\n",
       "      <td>128.7200</td>\n",
       "      <td>131.73</td>\n",
       "      <td>7156188.0</td>\n",
       "      <td>130.9897</td>\n",
       "      <td>86852</td>\n",
       "    </tr>\n",
       "    <tr>\n",
       "      <th>2024-05-16</th>\n",
       "      <td>131.37</td>\n",
       "      <td>131.780</td>\n",
       "      <td>130.7900</td>\n",
       "      <td>130.88</td>\n",
       "      <td>5270911.0</td>\n",
       "      <td>131.0616</td>\n",
       "      <td>73140</td>\n",
       "    </tr>\n",
       "    <tr>\n",
       "      <th>2024-05-17</th>\n",
       "      <td>130.69</td>\n",
       "      <td>131.320</td>\n",
       "      <td>129.8100</td>\n",
       "      <td>131.19</td>\n",
       "      <td>7203473.0</td>\n",
       "      <td>130.9185</td>\n",
       "      <td>59814</td>\n",
       "    </tr>\n",
       "  </tbody>\n",
       "</table>\n",
       "<p>251 rows × 7 columns</p>\n",
       "</div>"
      ],
      "text/plain": [
       "              open     high       low   close     volume      vwap  \\\n",
       "date                                                                 \n",
       "2023-05-19  114.33  116.240  114.1000  115.49  7647080.0  115.4905   \n",
       "2023-05-22  115.48  117.080  114.3300  114.49  5607422.0  115.0297   \n",
       "2023-05-23  113.97  114.790  113.0500  113.27  7733023.0  113.5640   \n",
       "2023-05-24  114.11  114.320  112.5500  113.60  4509534.0  113.6129   \n",
       "2023-05-25  113.50  113.500  111.0900  112.30  7037608.0  112.0241   \n",
       "...            ...      ...       ...     ...        ...       ...   \n",
       "2024-05-13  129.51  129.710  128.0200  129.29  6920607.0  128.9122   \n",
       "2024-05-14  129.20  129.200  128.0269  128.66  6055317.0  128.5396   \n",
       "2024-05-15  128.88  131.965  128.7200  131.73  7156188.0  130.9897   \n",
       "2024-05-16  131.37  131.780  130.7900  130.88  5270911.0  131.0616   \n",
       "2024-05-17  130.69  131.320  129.8100  131.19  7203473.0  130.9185   \n",
       "\n",
       "            transactions  \n",
       "date                      \n",
       "2023-05-19         63052  \n",
       "2023-05-22         75291  \n",
       "2023-05-23         88433  \n",
       "2023-05-24         61615  \n",
       "2023-05-25         82967  \n",
       "...                  ...  \n",
       "2024-05-13         85432  \n",
       "2024-05-14         76232  \n",
       "2024-05-15         86852  \n",
       "2024-05-16         73140  \n",
       "2024-05-17         59814  \n",
       "\n",
       "[251 rows x 7 columns]"
      ]
     },
     "execution_count": 20,
     "metadata": {},
     "output_type": "execute_result"
    }
   ],
   "source": [
    "data = obb.equity.price.historical(symbol, provider=\"polygon\")\n",
    "data.to_dataframe()\n"
   ]
  },
  {
   "cell_type": "code",
   "execution_count": 21,
   "id": "fca0d125-d820-4175-8853-576d2eba36e7",
   "metadata": {},
   "outputs": [
    {
     "data": {
      "text/html": [
       "<div>\n",
       "<style scoped>\n",
       "    .dataframe tbody tr th:only-of-type {\n",
       "        vertical-align: middle;\n",
       "    }\n",
       "\n",
       "    .dataframe tbody tr th {\n",
       "        vertical-align: top;\n",
       "    }\n",
       "\n",
       "    .dataframe thead th {\n",
       "        text-align: right;\n",
       "    }\n",
       "</style>\n",
       "<table border=\"1\" class=\"dataframe\">\n",
       "  <thead>\n",
       "    <tr style=\"text-align: right;\">\n",
       "      <th></th>\n",
       "      <th>close</th>\n",
       "      <th>high</th>\n",
       "      <th>low</th>\n",
       "      <th>open</th>\n",
       "      <th>transactions</th>\n",
       "      <th>volume</th>\n",
       "      <th>vwap</th>\n",
       "    </tr>\n",
       "    <tr>\n",
       "      <th>date</th>\n",
       "      <th></th>\n",
       "      <th></th>\n",
       "      <th></th>\n",
       "      <th></th>\n",
       "      <th></th>\n",
       "      <th></th>\n",
       "      <th></th>\n",
       "    </tr>\n",
       "  </thead>\n",
       "  <tbody>\n",
       "    <tr>\n",
       "      <th>2023-05-19</th>\n",
       "      <td>418.62</td>\n",
       "      <td>420.7200</td>\n",
       "      <td>417.3500</td>\n",
       "      <td>420.17</td>\n",
       "      <td>642871</td>\n",
       "      <td>103793317.0</td>\n",
       "      <td>419.0232</td>\n",
       "    </tr>\n",
       "    <tr>\n",
       "      <th>2023-05-22</th>\n",
       "      <td>418.79</td>\n",
       "      <td>420.3900</td>\n",
       "      <td>417.3500</td>\n",
       "      <td>418.64</td>\n",
       "      <td>493531</td>\n",
       "      <td>60717899.0</td>\n",
       "      <td>419.0370</td>\n",
       "    </tr>\n",
       "    <tr>\n",
       "      <th>2023-05-23</th>\n",
       "      <td>414.09</td>\n",
       "      <td>418.7220</td>\n",
       "      <td>413.6800</td>\n",
       "      <td>417.08</td>\n",
       "      <td>624936</td>\n",
       "      <td>86383493.0</td>\n",
       "      <td>415.8938</td>\n",
       "    </tr>\n",
       "    <tr>\n",
       "      <th>2023-05-24</th>\n",
       "      <td>411.09</td>\n",
       "      <td>412.8200</td>\n",
       "      <td>409.8795</td>\n",
       "      <td>412.42</td>\n",
       "      <td>673413</td>\n",
       "      <td>89201678.0</td>\n",
       "      <td>411.2268</td>\n",
       "    </tr>\n",
       "    <tr>\n",
       "      <th>2023-05-25</th>\n",
       "      <td>414.65</td>\n",
       "      <td>416.1600</td>\n",
       "      <td>412.4101</td>\n",
       "      <td>414.74</td>\n",
       "      <td>672404</td>\n",
       "      <td>90961606.0</td>\n",
       "      <td>413.9115</td>\n",
       "    </tr>\n",
       "    <tr>\n",
       "      <th>...</th>\n",
       "      <td>...</td>\n",
       "      <td>...</td>\n",
       "      <td>...</td>\n",
       "      <td>...</td>\n",
       "      <td>...</td>\n",
       "      <td>...</td>\n",
       "      <td>...</td>\n",
       "    </tr>\n",
       "    <tr>\n",
       "      <th>2024-05-13</th>\n",
       "      <td>520.91</td>\n",
       "      <td>522.6700</td>\n",
       "      <td>519.7400</td>\n",
       "      <td>522.56</td>\n",
       "      <td>360847</td>\n",
       "      <td>36692999.0</td>\n",
       "      <td>521.0738</td>\n",
       "    </tr>\n",
       "    <tr>\n",
       "      <th>2024-05-14</th>\n",
       "      <td>523.30</td>\n",
       "      <td>523.8300</td>\n",
       "      <td>520.5600</td>\n",
       "      <td>521.11</td>\n",
       "      <td>417233</td>\n",
       "      <td>57521901.0</td>\n",
       "      <td>522.2996</td>\n",
       "    </tr>\n",
       "    <tr>\n",
       "      <th>2024-05-15</th>\n",
       "      <td>529.78</td>\n",
       "      <td>530.0800</td>\n",
       "      <td>525.1800</td>\n",
       "      <td>525.83</td>\n",
       "      <td>510546</td>\n",
       "      <td>59427333.0</td>\n",
       "      <td>528.0601</td>\n",
       "    </tr>\n",
       "    <tr>\n",
       "      <th>2024-05-16</th>\n",
       "      <td>528.69</td>\n",
       "      <td>531.5218</td>\n",
       "      <td>528.5400</td>\n",
       "      <td>529.88</td>\n",
       "      <td>436757</td>\n",
       "      <td>50203330.0</td>\n",
       "      <td>529.8408</td>\n",
       "    </tr>\n",
       "    <tr>\n",
       "      <th>2024-05-17</th>\n",
       "      <td>529.45</td>\n",
       "      <td>529.5200</td>\n",
       "      <td>527.3200</td>\n",
       "      <td>528.81</td>\n",
       "      <td>372341</td>\n",
       "      <td>59151072.0</td>\n",
       "      <td>528.8498</td>\n",
       "    </tr>\n",
       "  </tbody>\n",
       "</table>\n",
       "<p>251 rows × 7 columns</p>\n",
       "</div>"
      ],
      "text/plain": [
       "             close      high       low    open  transactions       volume  \\\n",
       "date                                                                        \n",
       "2023-05-19  418.62  420.7200  417.3500  420.17        642871  103793317.0   \n",
       "2023-05-22  418.79  420.3900  417.3500  418.64        493531   60717899.0   \n",
       "2023-05-23  414.09  418.7220  413.6800  417.08        624936   86383493.0   \n",
       "2023-05-24  411.09  412.8200  409.8795  412.42        673413   89201678.0   \n",
       "2023-05-25  414.65  416.1600  412.4101  414.74        672404   90961606.0   \n",
       "...            ...       ...       ...     ...           ...          ...   \n",
       "2024-05-13  520.91  522.6700  519.7400  522.56        360847   36692999.0   \n",
       "2024-05-14  523.30  523.8300  520.5600  521.11        417233   57521901.0   \n",
       "2024-05-15  529.78  530.0800  525.1800  525.83        510546   59427333.0   \n",
       "2024-05-16  528.69  531.5218  528.5400  529.88        436757   50203330.0   \n",
       "2024-05-17  529.45  529.5200  527.3200  528.81        372341   59151072.0   \n",
       "\n",
       "                vwap  \n",
       "date                  \n",
       "2023-05-19  419.0232  \n",
       "2023-05-22  419.0370  \n",
       "2023-05-23  415.8938  \n",
       "2023-05-24  411.2268  \n",
       "2023-05-25  413.9115  \n",
       "...              ...  \n",
       "2024-05-13  521.0738  \n",
       "2024-05-14  522.2996  \n",
       "2024-05-15  528.0601  \n",
       "2024-05-16  529.8408  \n",
       "2024-05-17  528.8498  \n",
       "\n",
       "[251 rows x 7 columns]"
      ]
     },
     "execution_count": 21,
     "metadata": {},
     "output_type": "execute_result"
    }
   ],
   "source": [
    "# use the local rest server\n",
    "data = []\n",
    "symbol2=\"SPY\"\n",
    "url = f\"http://127.0.0.1:8000/api/v1/equity/price/historical?provider=polygon&symbol={symbol2}\"\n",
    "headers = {\"accept\": \"application/json\"}\n",
    "\n",
    "response = requests.get(url, headers=headers, timeout=3)\n",
    "\n",
    "if response.status_code == 200:\n",
    "  data = OBBject.model_validate(response.json())\n",
    "\n",
    "data.to_df()\n"
   ]
  },
  {
   "cell_type": "code",
   "execution_count": 22,
   "id": "b075d0ae-55b4-49f8-acf7-c0a9045f322c",
   "metadata": {},
   "outputs": [
    {
     "data": {
      "text/plain": [
       "[('MRVL', 'Marvell Technology, Inc. - Common Stock')]"
      ]
     },
     "execution_count": 22,
     "metadata": {},
     "output_type": "execute_result"
    }
   ],
   "source": [
    "results = obb.equity.search(query='marvell', is_symbol=False, provider='nasdaq', use_cache=True)\n",
    "[(r.symbol, r.name) for r in results.results]\n"
   ]
  },
  {
   "cell_type": "code",
   "execution_count": 23,
   "id": "60b0843c-df4f-4459-b721-c73bfe0730b0",
   "metadata": {},
   "outputs": [
    {
     "data": {
      "text/html": [
       "<div>\n",
       "<style scoped>\n",
       "    .dataframe tbody tr th:only-of-type {\n",
       "        vertical-align: middle;\n",
       "    }\n",
       "\n",
       "    .dataframe tbody tr th {\n",
       "        vertical-align: top;\n",
       "    }\n",
       "\n",
       "    .dataframe thead th {\n",
       "        text-align: right;\n",
       "    }\n",
       "</style>\n",
       "<table border=\"1\" class=\"dataframe\">\n",
       "  <thead>\n",
       "    <tr style=\"text-align: right;\">\n",
       "      <th></th>\n",
       "      <th>symbol</th>\n",
       "      <th>name</th>\n",
       "      <th>exchange</th>\n",
       "      <th>last_price</th>\n",
       "      <th>last_timestamp</th>\n",
       "      <th>open</th>\n",
       "      <th>high</th>\n",
       "      <th>low</th>\n",
       "      <th>volume</th>\n",
       "      <th>prev_close</th>\n",
       "      <th>...</th>\n",
       "      <th>year_high</th>\n",
       "      <th>year_low</th>\n",
       "      <th>price_avg50</th>\n",
       "      <th>price_avg200</th>\n",
       "      <th>avg_volume</th>\n",
       "      <th>market_cap</th>\n",
       "      <th>shares_outstanding</th>\n",
       "      <th>eps</th>\n",
       "      <th>pe</th>\n",
       "      <th>earnings_announcement</th>\n",
       "    </tr>\n",
       "  </thead>\n",
       "  <tbody>\n",
       "    <tr>\n",
       "      <th>0</th>\n",
       "      <td>TD</td>\n",
       "      <td>The Toronto-Dominion Bank</td>\n",
       "      <td>NYSE</td>\n",
       "      <td>57.24</td>\n",
       "      <td>2024-05-17 20:00:01+00:00</td>\n",
       "      <td>57.02</td>\n",
       "      <td>57.380</td>\n",
       "      <td>56.7150</td>\n",
       "      <td>1669389</td>\n",
       "      <td>56.88</td>\n",
       "      <td>...</td>\n",
       "      <td>66.15</td>\n",
       "      <td>54.12</td>\n",
       "      <td>58.4552</td>\n",
       "      <td>60.03590</td>\n",
       "      <td>3012531</td>\n",
       "      <td>1.014350e+11</td>\n",
       "      <td>1772100000</td>\n",
       "      <td>4.65</td>\n",
       "      <td>12.31</td>\n",
       "      <td>2024-02-29 11:30:12+00:00</td>\n",
       "    </tr>\n",
       "    <tr>\n",
       "      <th>1</th>\n",
       "      <td>SCHW</td>\n",
       "      <td>The Charles Schwab Corporation</td>\n",
       "      <td>NYSE</td>\n",
       "      <td>78.78</td>\n",
       "      <td>2024-05-17 20:00:02+00:00</td>\n",
       "      <td>78.30</td>\n",
       "      <td>79.220</td>\n",
       "      <td>77.7700</td>\n",
       "      <td>6429451</td>\n",
       "      <td>78.04</td>\n",
       "      <td>...</td>\n",
       "      <td>79.22</td>\n",
       "      <td>48.66</td>\n",
       "      <td>72.6396</td>\n",
       "      <td>63.42830</td>\n",
       "      <td>7072506</td>\n",
       "      <td>1.400141e+11</td>\n",
       "      <td>1777280000</td>\n",
       "      <td>2.39</td>\n",
       "      <td>32.96</td>\n",
       "      <td>2024-07-16 12:30:00+00:00</td>\n",
       "    </tr>\n",
       "    <tr>\n",
       "      <th>2</th>\n",
       "      <td>JPM</td>\n",
       "      <td>JPMorgan Chase &amp; Co.</td>\n",
       "      <td>NYSE</td>\n",
       "      <td>204.79</td>\n",
       "      <td>2024-05-17 20:00:08+00:00</td>\n",
       "      <td>203.81</td>\n",
       "      <td>205.045</td>\n",
       "      <td>202.8149</td>\n",
       "      <td>8991128</td>\n",
       "      <td>202.47</td>\n",
       "      <td>...</td>\n",
       "      <td>205.05</td>\n",
       "      <td>134.40</td>\n",
       "      <td>193.5998</td>\n",
       "      <td>167.13416</td>\n",
       "      <td>8851753</td>\n",
       "      <td>5.880893e+11</td>\n",
       "      <td>2871670000</td>\n",
       "      <td>16.57</td>\n",
       "      <td>12.36</td>\n",
       "      <td>2024-07-12 00:00:00+00:00</td>\n",
       "    </tr>\n",
       "    <tr>\n",
       "      <th>3</th>\n",
       "      <td>MS</td>\n",
       "      <td>Morgan Stanley</td>\n",
       "      <td>NYSE</td>\n",
       "      <td>100.22</td>\n",
       "      <td>2024-05-17 20:00:02+00:00</td>\n",
       "      <td>99.90</td>\n",
       "      <td>100.300</td>\n",
       "      <td>99.3000</td>\n",
       "      <td>4689785</td>\n",
       "      <td>99.58</td>\n",
       "      <td>...</td>\n",
       "      <td>100.98</td>\n",
       "      <td>69.42</td>\n",
       "      <td>92.4170</td>\n",
       "      <td>85.94165</td>\n",
       "      <td>7827641</td>\n",
       "      <td>1.628735e+11</td>\n",
       "      <td>1625160000</td>\n",
       "      <td>5.50</td>\n",
       "      <td>18.22</td>\n",
       "      <td>2024-07-16 12:30:00+00:00</td>\n",
       "    </tr>\n",
       "  </tbody>\n",
       "</table>\n",
       "<p>4 rows × 22 columns</p>\n",
       "</div>"
      ],
      "text/plain": [
       "  symbol                            name exchange  last_price  \\\n",
       "0     TD       The Toronto-Dominion Bank     NYSE       57.24   \n",
       "1   SCHW  The Charles Schwab Corporation     NYSE       78.78   \n",
       "2    JPM            JPMorgan Chase & Co.     NYSE      204.79   \n",
       "3     MS                  Morgan Stanley     NYSE      100.22   \n",
       "\n",
       "             last_timestamp    open     high       low   volume  prev_close  \\\n",
       "0 2024-05-17 20:00:01+00:00   57.02   57.380   56.7150  1669389       56.88   \n",
       "1 2024-05-17 20:00:02+00:00   78.30   79.220   77.7700  6429451       78.04   \n",
       "2 2024-05-17 20:00:08+00:00  203.81  205.045  202.8149  8991128      202.47   \n",
       "3 2024-05-17 20:00:02+00:00   99.90  100.300   99.3000  4689785       99.58   \n",
       "\n",
       "   ...  year_high  year_low  price_avg50  price_avg200  avg_volume  \\\n",
       "0  ...      66.15     54.12      58.4552      60.03590     3012531   \n",
       "1  ...      79.22     48.66      72.6396      63.42830     7072506   \n",
       "2  ...     205.05    134.40     193.5998     167.13416     8851753   \n",
       "3  ...     100.98     69.42      92.4170      85.94165     7827641   \n",
       "\n",
       "     market_cap  shares_outstanding    eps     pe     earnings_announcement  \n",
       "0  1.014350e+11          1772100000   4.65  12.31 2024-02-29 11:30:12+00:00  \n",
       "1  1.400141e+11          1777280000   2.39  32.96 2024-07-16 12:30:00+00:00  \n",
       "2  5.880893e+11          2871670000  16.57  12.36 2024-07-12 00:00:00+00:00  \n",
       "3  1.628735e+11          1625160000   5.50  18.22 2024-07-16 12:30:00+00:00  \n",
       "\n",
       "[4 rows x 22 columns]"
      ]
     },
     "execution_count": 23,
     "metadata": {},
     "output_type": "execute_result"
    }
   ],
   "source": [
    "# multiple symbols\n",
    "quotes = obb.equity.price.quote(\"td,schw,jpm,ms\", provider=\"fmp\")\n",
    "quotes.to_df()\n"
   ]
  },
  {
   "cell_type": "code",
   "execution_count": 24,
   "id": "8ba4d940-9520-4e56-86f2-82c8f6a66c70",
   "metadata": {},
   "outputs": [
    {
     "data": {
      "text/html": [
       "<div>\n",
       "<style scoped>\n",
       "    .dataframe tbody tr th:only-of-type {\n",
       "        vertical-align: middle;\n",
       "    }\n",
       "\n",
       "    .dataframe tbody tr th {\n",
       "        vertical-align: top;\n",
       "    }\n",
       "\n",
       "    .dataframe thead th {\n",
       "        text-align: right;\n",
       "    }\n",
       "</style>\n",
       "<table border=\"1\" class=\"dataframe\">\n",
       "  <thead>\n",
       "    <tr style=\"text-align: right;\">\n",
       "      <th></th>\n",
       "      <th>yfinance</th>\n",
       "      <th>fmp</th>\n",
       "      <th>polygon</th>\n",
       "    </tr>\n",
       "  </thead>\n",
       "  <tbody>\n",
       "    <tr>\n",
       "      <th>0</th>\n",
       "      <td>1.066750e+11</td>\n",
       "      <td>1.066750e+11</td>\n",
       "      <td>1.066750e+11</td>\n",
       "    </tr>\n",
       "    <tr>\n",
       "      <th>1</th>\n",
       "      <td>1.091600e+11</td>\n",
       "      <td>1.091600e+11</td>\n",
       "      <td>1.091600e+11</td>\n",
       "    </tr>\n",
       "    <tr>\n",
       "      <th>2</th>\n",
       "      <td>1.056940e+11</td>\n",
       "      <td>1.056940e+11</td>\n",
       "      <td>1.056940e+11</td>\n",
       "    </tr>\n",
       "    <tr>\n",
       "      <th>3</th>\n",
       "      <td>9.158800e+10</td>\n",
       "      <td>NaN</td>\n",
       "      <td>NaN</td>\n",
       "    </tr>\n",
       "  </tbody>\n",
       "</table>\n",
       "</div>"
      ],
      "text/plain": [
       "       yfinance           fmp       polygon\n",
       "0  1.066750e+11  1.066750e+11  1.066750e+11\n",
       "1  1.091600e+11  1.091600e+11  1.091600e+11\n",
       "2  1.056940e+11  1.056940e+11  1.056940e+11\n",
       "3  9.158800e+10           NaN           NaN"
      ]
     },
     "execution_count": 24,
     "metadata": {},
     "output_type": "execute_result"
    }
   ],
   "source": [
    "# multiple providers\n",
    "\n",
    "df = pd.DataFrame()\n",
    "\n",
    "df[\"yfinance\"] = (\n",
    "  obb.equity.fundamental.balance(symbol, provider=\"yfinance\", limit=3)\n",
    "  .to_df().get(\"total_assets\")\n",
    ")\n",
    "\n",
    "df[\"fmp\"] = (\n",
    "  obb.equity.fundamental.balance(symbol, provider=\"fmp\", limit=3)\n",
    "  .to_df().get(\"total_assets\")\n",
    ")\n",
    "\n",
    "df[\"polygon\"] = (\n",
    "  obb.equity.fundamental.balance(symbol, provider=\"polygon\", limit=3)\n",
    "  .to_df().get(\"total_assets\")\n",
    ")\n",
    "\n",
    "df"
   ]
  },
  {
   "cell_type": "code",
   "execution_count": 25,
   "id": "4a2e949d-7d0a-44e2-a1ed-46802abd3d74",
   "metadata": {},
   "outputs": [
    {
     "data": {
      "text/html": [
       "<div>\n",
       "<style scoped>\n",
       "    .dataframe tbody tr th:only-of-type {\n",
       "        vertical-align: middle;\n",
       "    }\n",
       "\n",
       "    .dataframe tbody tr th {\n",
       "        vertical-align: top;\n",
       "    }\n",
       "\n",
       "    .dataframe thead th {\n",
       "        text-align: right;\n",
       "    }\n",
       "</style>\n",
       "<table border=\"1\" class=\"dataframe\">\n",
       "  <thead>\n",
       "    <tr style=\"text-align: right;\">\n",
       "      <th></th>\n",
       "      <th>title</th>\n",
       "      <th>text</th>\n",
       "      <th>images</th>\n",
       "      <th>url</th>\n",
       "      <th>symbols</th>\n",
       "      <th>source</th>\n",
       "      <th>id</th>\n",
       "      <th>amp_url</th>\n",
       "      <th>publisher</th>\n",
       "    </tr>\n",
       "    <tr>\n",
       "      <th>date</th>\n",
       "      <th></th>\n",
       "      <th></th>\n",
       "      <th></th>\n",
       "      <th></th>\n",
       "      <th></th>\n",
       "      <th></th>\n",
       "      <th></th>\n",
       "      <th></th>\n",
       "      <th></th>\n",
       "    </tr>\n",
       "  </thead>\n",
       "  <tbody>\n",
       "    <tr>\n",
       "      <th>2024-05-16 10:49:00+00:00</th>\n",
       "      <td>The Zacks Analyst Blog Highlights Broadcom, Me...</td>\n",
       "      <td>Broadcom, Merck, Airbnb, ONEOK and PG&amp;E are in...</td>\n",
       "      <td>[{'url': 'https://staticx-tuner.zacks.com/imag...</td>\n",
       "      <td>https://www.zacks.com/stock/news/2274496/the-z...</td>\n",
       "      <td>PCG,MRK,OKE,AVGO,ABNB</td>\n",
       "      <td>Zacks Equity Research</td>\n",
       "      <td>rSveOM5z_sG_3ByZLLEbdQGcEV1fgmsxp81zzDegDYo</td>\n",
       "      <td>https://www.zacks.com/amp/stock/news/2274496/t...</td>\n",
       "      <td>{'favicon_url': 'https://s3.polygon.io/public/...</td>\n",
       "    </tr>\n",
       "    <tr>\n",
       "      <th>2024-05-16 13:35:03+00:00</th>\n",
       "      <td>Merck (MRK) Crossed Above the 20-Day Moving Av...</td>\n",
       "      <td>When a stock breaks out above the 20-day simpl...</td>\n",
       "      <td>[{'url': 'https://staticx-tuner.zacks.com/imag...</td>\n",
       "      <td>https://www.zacks.com/stock/news/2274678/merck...</td>\n",
       "      <td>MRK</td>\n",
       "      <td>Zacks Equity Research</td>\n",
       "      <td>PvosUfrWiZe-WIwDjbx2DeQZtC6PTFYafAk51SyoR4Y</td>\n",
       "      <td>https://www.zacks.com/amp/stock/news/2274678/m...</td>\n",
       "      <td>{'favicon_url': 'https://s3.polygon.io/public/...</td>\n",
       "    </tr>\n",
       "    <tr>\n",
       "      <th>2024-05-16 14:13:00+00:00</th>\n",
       "      <td>3 Drug Stocks to Watch on Raised 2024 Earnings...</td>\n",
       "      <td>Here we discuss three drugmakers, Eli Lilly an...</td>\n",
       "      <td>[{'url': 'https://staticx-tuner.zacks.com/imag...</td>\n",
       "      <td>https://www.zacks.com/stock/news/2274825/3-dru...</td>\n",
       "      <td>NVO,MRK,LLY</td>\n",
       "      <td>Kinjel Shah</td>\n",
       "      <td>xUp-v0S3tHM2CYzTNRJh_twmk1_qaHGKfGicQupe7HM</td>\n",
       "      <td>https://www.zacks.com/amp/stock/news/2274825/3...</td>\n",
       "      <td>{'favicon_url': 'https://s3.polygon.io/public/...</td>\n",
       "    </tr>\n",
       "    <tr>\n",
       "      <th>2024-05-17 15:10:00+00:00</th>\n",
       "      <td>5 Stocks Powering the Dow ETF Year to Date</td>\n",
       "      <td>The Dow Jones touched the milestone of 40,000 ...</td>\n",
       "      <td>[{'url': 'https://staticx-tuner.zacks.com/imag...</td>\n",
       "      <td>https://www.zacks.com/stock/news/2275517/5-sto...</td>\n",
       "      <td>AMZN,GS,MRK,WMT,AXP,DIA</td>\n",
       "      <td>Sweta Killa</td>\n",
       "      <td>zg2zh4fQJkCT2JKqgPpqUcBsQlVM-tWk3ao9UBYB5zA</td>\n",
       "      <td>https://www.zacks.com/amp/stock/news/2275517/5...</td>\n",
       "      <td>{'favicon_url': 'https://s3.polygon.io/public/...</td>\n",
       "    </tr>\n",
       "    <tr>\n",
       "      <th>2024-05-17 15:39:00+00:00</th>\n",
       "      <td>Pharma Stock Roundup: BAYRY's Q1 Earnings, JNJ...</td>\n",
       "      <td>Bayer (BAYRY) releases Q1 results. J&amp;J (JNJ) s...</td>\n",
       "      <td>[{'url': 'https://staticx-tuner.zacks.com/imag...</td>\n",
       "      <td>https://www.zacks.com/stock/news/2275562/pharm...</td>\n",
       "      <td>JNJ,NVO,MRK,LLY,BAYRY</td>\n",
       "      <td>Kinjel Shah</td>\n",
       "      <td>stgIxTToXipTjGoYXkdRtTwSj9wP7mSF2euIUnFYIGk</td>\n",
       "      <td>https://www.zacks.com/amp/stock/news/2275562/p...</td>\n",
       "      <td>{'favicon_url': 'https://s3.polygon.io/public/...</td>\n",
       "    </tr>\n",
       "  </tbody>\n",
       "</table>\n",
       "</div>"
      ],
      "text/plain": [
       "                                                                       title  \\\n",
       "date                                                                           \n",
       "2024-05-16 10:49:00+00:00  The Zacks Analyst Blog Highlights Broadcom, Me...   \n",
       "2024-05-16 13:35:03+00:00  Merck (MRK) Crossed Above the 20-Day Moving Av...   \n",
       "2024-05-16 14:13:00+00:00  3 Drug Stocks to Watch on Raised 2024 Earnings...   \n",
       "2024-05-17 15:10:00+00:00         5 Stocks Powering the Dow ETF Year to Date   \n",
       "2024-05-17 15:39:00+00:00  Pharma Stock Roundup: BAYRY's Q1 Earnings, JNJ...   \n",
       "\n",
       "                                                                        text  \\\n",
       "date                                                                           \n",
       "2024-05-16 10:49:00+00:00  Broadcom, Merck, Airbnb, ONEOK and PG&E are in...   \n",
       "2024-05-16 13:35:03+00:00  When a stock breaks out above the 20-day simpl...   \n",
       "2024-05-16 14:13:00+00:00  Here we discuss three drugmakers, Eli Lilly an...   \n",
       "2024-05-17 15:10:00+00:00  The Dow Jones touched the milestone of 40,000 ...   \n",
       "2024-05-17 15:39:00+00:00  Bayer (BAYRY) releases Q1 results. J&J (JNJ) s...   \n",
       "\n",
       "                                                                      images  \\\n",
       "date                                                                           \n",
       "2024-05-16 10:49:00+00:00  [{'url': 'https://staticx-tuner.zacks.com/imag...   \n",
       "2024-05-16 13:35:03+00:00  [{'url': 'https://staticx-tuner.zacks.com/imag...   \n",
       "2024-05-16 14:13:00+00:00  [{'url': 'https://staticx-tuner.zacks.com/imag...   \n",
       "2024-05-17 15:10:00+00:00  [{'url': 'https://staticx-tuner.zacks.com/imag...   \n",
       "2024-05-17 15:39:00+00:00  [{'url': 'https://staticx-tuner.zacks.com/imag...   \n",
       "\n",
       "                                                                         url  \\\n",
       "date                                                                           \n",
       "2024-05-16 10:49:00+00:00  https://www.zacks.com/stock/news/2274496/the-z...   \n",
       "2024-05-16 13:35:03+00:00  https://www.zacks.com/stock/news/2274678/merck...   \n",
       "2024-05-16 14:13:00+00:00  https://www.zacks.com/stock/news/2274825/3-dru...   \n",
       "2024-05-17 15:10:00+00:00  https://www.zacks.com/stock/news/2275517/5-sto...   \n",
       "2024-05-17 15:39:00+00:00  https://www.zacks.com/stock/news/2275562/pharm...   \n",
       "\n",
       "                                           symbols                 source  \\\n",
       "date                                                                        \n",
       "2024-05-16 10:49:00+00:00    PCG,MRK,OKE,AVGO,ABNB  Zacks Equity Research   \n",
       "2024-05-16 13:35:03+00:00                      MRK  Zacks Equity Research   \n",
       "2024-05-16 14:13:00+00:00              NVO,MRK,LLY            Kinjel Shah   \n",
       "2024-05-17 15:10:00+00:00  AMZN,GS,MRK,WMT,AXP,DIA            Sweta Killa   \n",
       "2024-05-17 15:39:00+00:00    JNJ,NVO,MRK,LLY,BAYRY            Kinjel Shah   \n",
       "\n",
       "                                                                    id  \\\n",
       "date                                                                     \n",
       "2024-05-16 10:49:00+00:00  rSveOM5z_sG_3ByZLLEbdQGcEV1fgmsxp81zzDegDYo   \n",
       "2024-05-16 13:35:03+00:00  PvosUfrWiZe-WIwDjbx2DeQZtC6PTFYafAk51SyoR4Y   \n",
       "2024-05-16 14:13:00+00:00  xUp-v0S3tHM2CYzTNRJh_twmk1_qaHGKfGicQupe7HM   \n",
       "2024-05-17 15:10:00+00:00  zg2zh4fQJkCT2JKqgPpqUcBsQlVM-tWk3ao9UBYB5zA   \n",
       "2024-05-17 15:39:00+00:00  stgIxTToXipTjGoYXkdRtTwSj9wP7mSF2euIUnFYIGk   \n",
       "\n",
       "                                                                     amp_url  \\\n",
       "date                                                                           \n",
       "2024-05-16 10:49:00+00:00  https://www.zacks.com/amp/stock/news/2274496/t...   \n",
       "2024-05-16 13:35:03+00:00  https://www.zacks.com/amp/stock/news/2274678/m...   \n",
       "2024-05-16 14:13:00+00:00  https://www.zacks.com/amp/stock/news/2274825/3...   \n",
       "2024-05-17 15:10:00+00:00  https://www.zacks.com/amp/stock/news/2275517/5...   \n",
       "2024-05-17 15:39:00+00:00  https://www.zacks.com/amp/stock/news/2275562/p...   \n",
       "\n",
       "                                                                   publisher  \n",
       "date                                                                          \n",
       "2024-05-16 10:49:00+00:00  {'favicon_url': 'https://s3.polygon.io/public/...  \n",
       "2024-05-16 13:35:03+00:00  {'favicon_url': 'https://s3.polygon.io/public/...  \n",
       "2024-05-16 14:13:00+00:00  {'favicon_url': 'https://s3.polygon.io/public/...  \n",
       "2024-05-17 15:10:00+00:00  {'favicon_url': 'https://s3.polygon.io/public/...  \n",
       "2024-05-17 15:39:00+00:00  {'favicon_url': 'https://s3.polygon.io/public/...  "
      ]
     },
     "execution_count": 25,
     "metadata": {},
     "output_type": "execute_result"
    }
   ],
   "source": [
    "obb.news.company(symbol, provider='polygon', limit=5).to_df()\n"
   ]
  },
  {
   "cell_type": "markdown",
   "id": "05e5429f-164c-4d82-81da-5b22b2c2c4ae",
   "metadata": {},
   "source": [
    "# Prompt OpenAI "
   ]
  },
  {
   "cell_type": "code",
   "execution_count": 26,
   "id": "a758632e-504b-4c2d-a26a-5de9cd158946",
   "metadata": {},
   "outputs": [],
   "source": [
    "MODEL = \"gpt-4o\"\n",
    "\n",
    "# MAX_INPUT_TOKENS = 65536     \n",
    "MAX_OUTPUT_TOKENS = 4096    # max in current model\n",
    "MAX_RETRIES = 3\n",
    "TEMPERATURE = 0\n",
    "\n",
    "client = OpenAI()\n"
   ]
  },
  {
   "cell_type": "code",
   "execution_count": 27,
   "id": "b7abde63-5b62-48bc-9df0-cdf3c80990bd",
   "metadata": {},
   "outputs": [
    {
     "name": "stdout",
     "output_type": "stream",
     "text": [
      "The airspeed velocity of an unladen European swallow (Hirundo rustica) has been a topic of humor and curiosity, especially popularized by the film \"Monty Python and the Holy Grail.\" According to some ornithological studies and estimations, the average cruising speed of an unladen European swallow is roughly 20 to 24 miles per hour (approximately 32 to 39 kilometers per hour).\n",
      "\n",
      "If you were referring to an African swallow, it’s worth noting that there are many different species of swallows in Africa, and their speeds might vary slightly. However, the general flying speed for small birds like these would be in a similar range.\n",
      "\n",
      "This humorous question highlights the kind of whimsical debates the film is known for, combining real-world science with comedic effect.\n"
     ]
    }
   ],
   "source": [
    "messages = [{\"role\": \"user\", \"content\": \"what is the airspeed velocity of an unladen swallow?\"}]\n",
    "response = get_response(client, messages, tools=[])\n",
    "response_str = response.choices[0].message.content\n",
    "response_str = response_str.replace(\"$\", \"\\\\\\$\")\n",
    "\n",
    "print(response_str)"
   ]
  },
  {
   "cell_type": "markdown",
   "id": "e46d791f-7991-4b2b-ab87-db9924d66f09",
   "metadata": {},
   "source": [
    "# Question Answering Agent"
   ]
  },
  {
   "cell_type": "code",
   "execution_count": 28,
   "id": "abbeb492-4c38-48b3-91d9-005be43b3a80",
   "metadata": {},
   "outputs": [
    {
     "data": {
      "text/plain": [
       "143226"
      ]
     },
     "execution_count": 28,
     "metadata": {},
     "output_type": "execute_result"
    }
   ],
   "source": [
    "# make a custom tool \n",
    "\n",
    "def get_10k_item1_from_symbol(symbol):\n",
    "    \"\"\"\n",
    "    Get item 1 of the latest 10-K annual report filing for a given symbol.\n",
    "\n",
    "    Args:\n",
    "        symbol (str): The symbol of the equity.\n",
    "\n",
    "    Returns:\n",
    "        str: The item 1 of the latest 10-K annual report filing, or None if not found.\n",
    "\n",
    "    \"\"\"\n",
    "    item1_text = None\n",
    "    try:\n",
    "        # sec needs you to identify yourself for rate limiting\n",
    "        dl = Downloader(os.getenv(\"SEC_FIRM\"), os.getenv(\"SEC_USER\"))\n",
    "        html = dl.get_filing_html(ticker=symbol, form=\"10-K\")\n",
    "        elements: list = sp.Edgar10QParser().parse(html)\n",
    "        tree = sp.TreeBuilder().build(elements)\n",
    "        sections = [n for n in tree.nodes if n.text.startswith(\"Item\")]\n",
    "        item1_node = sections[0]\n",
    "        item1_text = \"\\n\".join([n.text for n in sections[0].get_descendants()])\n",
    "    except:\n",
    "        return None\n",
    "    # always return a list of dicts\n",
    "    return [{'item1': item1_text}]\n",
    "\n",
    "fn_metadata = {\n",
    "    \"name\": \"get_10k_item1_from_symbol\",\n",
    "    \"description\": \"Given a stock symbol, gets item 1 of the company's latest 10-K annual report filing.\",\n",
    "    \"openapi_path\" : None,\n",
    "    \"callable\": get_10k_item1_from_symbol,\n",
    "    \"parameters\": {\n",
    "        \"symbol\": {\n",
    "            \"type\": \"string\",\n",
    "            \"description\": \"The symbol to get the 10-K item 1 for\"\n",
    "            }\n",
    "        },\n",
    "    \"example_parameter_values\": [{\n",
    "        \"symbol\": \"MSFT\",\n",
    "    }],\n",
    "}\n",
    "\n",
    "tool = BB_agent_tool(**fn_metadata)\n",
    "tool_response = tool(symbol=\"MSFT\")\n",
    "len(json.loads(tool_response)[0]['item1'])\n"
   ]
  },
  {
   "cell_type": "code",
   "execution_count": 29,
   "id": "52296f7e-8ac4-4a13-b6f2-549335464acb",
   "metadata": {},
   "outputs": [
    {
     "name": "stdout",
     "output_type": "stream",
     "text": [
      "get_10k_item1_from_symbol({'symbol': 'MSFT'}) -> [{\"item1\": \"Note About Forward-Looking Statements\\nThis report includes estimates, projections, stat...\n"
     ]
    },
    {
     "data": {
      "text/markdown": [
       "### Summary of Item 1 from Microsoft's Latest 10-K Annual Report\n",
       "\n",
       "#### General Overview\n",
       "Microsoft is a technology company focused on empowering individuals and organizations globally to achieve more through its various technological offerings. Its mission is reflected in the development of platforms and tools powered by AI, aimed at enhancing business competitiveness, educational outcomes, public sector efficiency, and human ingenuity.\n",
       "\n",
       "#### Business Segments\n",
       "1. **Productivity and Business Processes:**\n",
       "   - Products: Office 365, Microsoft Teams, LinkedIn, and Dynamics 365.\n",
       "   - Focus: Reinventing productivity and business processes through advanced AI-backed tools that enhance creativity, collaboration, and innovation.\n",
       "\n",
       "2. **Intelligent Cloud:**\n",
       "   - Products: Azure, SQL Server, Windows Server, Visual Studio, and GitHub.\n",
       "   - Focus: Building the intelligent cloud and intelligent edge platform, offering scalable cloud computing infrastructure and AI capabilities to solve business challenges.\n",
       "\n",
       "3. **More Personal Computing:**\n",
       "   - Products: Windows, Surface devices, Xbox, Microsoft Edge, Bing, and HoloLens.\n",
       "   - Focus: Enhancing personal computing through leading-edge software and hardware, innovative device categories, and immersive gaming experiences.\n",
       "\n",
       "#### Strategic Ambitions\n",
       "1. **Reinvent Productivity and Business Processes:** Utilizes products like Office 365 and Microsoft Teams to increase security, productivity, and collaboration within workplaces.\n",
       "2. **Build the Intelligent Cloud and Intelligent Edge Platform:** Empowers organizations with scalable AI solutions, cloud infrastructure, and emerging technologies like IoT.\n",
       "3. **Create More Personal Computing:** Advances user interaction with technology through user-friendly interfaces, secure operating systems, and innovative devices like Surface and HoloLens.\n",
       "\n",
       "#### Investment in AI\n",
       "Microsoft's AI investments span across its product offerings. Key initiatives include:\n",
       "   - Integration of AI into products like Microsoft Teams, Outlook, and Azure.\n",
       "   - Development of generative AI capabilities to serve both consumer and commercial needs.\n",
       "   - Commitment to ethical AI principles such as fairness, reliability, privacy, and inclusiveness.\n",
       "   - The long-term partnership with OpenAI to advance AI research and deployment.\n",
       "\n",
       "#### Commitment to Corporate Social Responsibility\n",
       "1. **Sustainability:** Aims to be carbon negative, water positive, and zero waste by 2030. Progress includes reducing overall emissions and expanding renewable energy.\n",
       "2. **Racial Equity:** Addresses racial injustice with initiatives targeting community strengthening, ecosystem engagement, and increased diversity within Microsoft.\n",
       "3. **Digital Skills Training:** Focused on skilling jobseekers and professionals in digital and cybersecurity fields, driven by tools like LinkedIn, GitHub, and Microsoft Learn.\n",
       "\n",
       "#### Human Capital\n",
       "Microsoft values growth mindset and inclusivity, focusing on recruiting, developing, and retaining diverse talent. It offers a supportive work environment with development opportunities for all employees and emphasizes pay equity and well-being.\n",
       "\n",
       "#### Operating Segments\n",
       "1. **Productivity and Business Processes:** Office products and services aimed at increasing productivity, supported by AI.\n",
       "2. **Intelligent Cloud:** Comprehensive cloud services and infrastructure supporting business transformation.\n",
       "3. **More Personal Computing:** Focused on personal use through Windows, Surface, and Xbox products, enhancing customer computing experiences.\n",
       "\n",
       "For a comprehensive understanding, please refer to Microsoft's full 10-K report."
      ],
      "text/plain": [
       "<IPython.core.display.Markdown object>"
      ]
     },
     "metadata": {},
     "output_type": "display_data"
    }
   ],
   "source": [
    "user_message = \"Please summarize item 1 from the latest MSFT annual report\"\n",
    "agent_query(client, user_message, verbose=False)\n"
   ]
  },
  {
   "cell_type": "markdown",
   "id": "6bb88565-e7d2-45fa-bd9e-ec2ce541617d",
   "metadata": {},
   "source": [
    "# Add more OpenBB tools\n",
    "Map OpenBB functions to OpenAI tools"
   ]
  },
  {
   "cell_type": "code",
   "execution_count": 30,
   "id": "1bff06a3-e0d0-4207-90af-cf13146dc2f7",
   "metadata": {},
   "outputs": [],
   "source": [
    "# TODO:\n",
    "\n",
    "# move object to a file , move llm calls to a file\n",
    "\n",
    "# make a streamlit app that maintains conversation\n",
    "\n",
    "# use assistants API\n"
   ]
  },
  {
   "cell_type": "code",
   "execution_count": 31,
   "id": "d9fe9e8a-3956-4cca-bbc1-b2131ec4a954",
   "metadata": {},
   "outputs": [
    {
     "data": {
      "text/plain": [
       "\"{'openapi': '3.1.0', 'info': {'title': 'OpenBB Platform API', 'description': 'This is the OpenBB Platform API.', 'termsOfService': 'http://example.com/terms/', 'contact': {'name': 'OpenBB Team', 'url': 'https://openbb.co/', 'email': 'hello@openbb.co'}, 'license': {'name': 'MIT', 'url': 'https://github.com/OpenBB-finance/OpenBBTerminal/blob/develop/LICENSE'}, 'version': '1'}, 'servers': [{'url': 'http://localhost:8000', 'description': 'Local OpenBB development server'}], 'paths': {'/api/v1/commodity/lbma_fixing': {'get': {'tags': ['commodity'], 'summary': 'Lbma Fixing', 'description': 'Daily LBMA Fixing Prices in USD/EUR/GBP.', 'operationId': 'commodity_lbma_fixing', 'parameters': [{'name': 'provider', 'in': 'query', 'required': False, 'schema': {'enum': ['nasdaq'], 'const': 'nasdaq', 'type': 'string', 'default': 'nasdaq', 'title': 'Provider'}}, {'name': 'asset', 'in': 'query', 'required': False, 'schema': {'enum': ['gold', 'silver'], 'type': 'string', 'description': 'The metal to get price fixing rates for.', 'default': 'gold', 'title': 'Asset'}, 'description': 'The metal to get price fixing rates for.'}, {'name': 'start_date', 'in': 'query', 'required': False, 'schema': {'anyOf': [{'type': 'string', 'format': 'date'}, {'type': 'null'}], 'description': 'Start date of the data, in YYYY-MM-DD format.', 'title': 'Start Date'}, 'description': 'Start date of the data, in YYYY-MM-DD format.'}, {'name': 'end_date', 'in': 'query', 'required': False, 'schema': {'anyOf': [{'type': 'string', 'format': 'date'}, {'type': 'null'}], 'description': 'Start date of the data, in YYYY-MM-DD format.', 'title': 'End Date'}, 'description': 'Start date of the data, in YYYY-MM-DD format.'}, {'name': 'transform', 'in': 'query', 'required': False, 'schema': {'enum': ['diff', 'rdiff', 'cumul', 'normalize', None], 'description': 'Transform the data as difference, percent change, cumulative, or normalize.', 'title': 'Transform'}, 'description': 'Transform the data as difference, percent change, \""
      ]
     },
     "execution_count": 31,
     "metadata": {},
     "output_type": "execute_result"
    }
   ],
   "source": [
    "# load the OpenAPI / swagger spec from\n",
    "# http://127.0.0.1:8000/openapi.json\n",
    "with open(\"openapi.json\", 'r') as file:\n",
    "    data = json.load(file)\n",
    "\n",
    "str(data)[:2000]"
   ]
  },
  {
   "cell_type": "code",
   "execution_count": 75,
   "id": "b0ea067a-3b7e-4c50-aa87-c1a4baf07001",
   "metadata": {},
   "outputs": [
    {
     "name": "stdout",
     "output_type": "stream",
     "text": [
      "/api/v1/equity/calendar/ipo\n",
      "/api/v1/equity/calendar/dividend\n",
      "/api/v1/equity/calendar/splits\n",
      "/api/v1/equity/calendar/earnings\n",
      "/api/v1/equity/compare/peers\n",
      "/api/v1/equity/compare/groups\n",
      "/api/v1/equity/estimates/price_target\n",
      "/api/v1/equity/estimates/historical\n",
      "/api/v1/equity/estimates/consensus\n",
      "/api/v1/equity/estimates/analyst_search\n",
      "/api/v1/equity/estimates/forward_sales\n",
      "/api/v1/equity/estimates/forward_eps\n",
      "/api/v1/equity/darkpool/otc\n",
      "/api/v1/equity/discovery/gainers\n",
      "/api/v1/equity/discovery/losers\n",
      "/api/v1/equity/discovery/active\n",
      "/api/v1/equity/discovery/undervalued_large_caps\n",
      "/api/v1/equity/discovery/undervalued_growth\n",
      "/api/v1/equity/discovery/aggressive_small_caps\n",
      "/api/v1/equity/discovery/growth_tech\n",
      "/api/v1/equity/discovery/top_retail\n",
      "/api/v1/equity/discovery/upcoming_release_days\n",
      "/api/v1/equity/discovery/filings\n",
      "/api/v1/equity/fundamental/multiples\n",
      "/api/v1/equity/fundamental/balance\n",
      "/api/v1/equity/fundamental/balance_growth\n",
      "/api/v1/equity/fundamental/cash\n",
      "/api/v1/equity/fundamental/reported_financials\n",
      "/api/v1/equity/fundamental/cash_growth\n",
      "/api/v1/equity/fundamental/dividends\n",
      "/api/v1/equity/fundamental/historical_eps\n",
      "/api/v1/equity/fundamental/employee_count\n",
      "/api/v1/equity/fundamental/search_attributes\n",
      "/api/v1/equity/fundamental/latest_attributes\n",
      "/api/v1/equity/fundamental/historical_attributes\n",
      "/api/v1/equity/fundamental/income\n",
      "/api/v1/equity/fundamental/income_growth\n",
      "/api/v1/equity/fundamental/metrics\n",
      "/api/v1/equity/fundamental/management\n",
      "/api/v1/equity/fundamental/management_compensation\n",
      "/api/v1/equity/fundamental/overview\n",
      "/api/v1/equity/fundamental/ratios\n",
      "/api/v1/equity/fundamental/revenue_per_geography\n",
      "/api/v1/equity/fundamental/revenue_per_segment\n",
      "/api/v1/equity/fundamental/filings\n",
      "/api/v1/equity/fundamental/historical_splits\n",
      "/api/v1/equity/fundamental/transcript\n",
      "/api/v1/equity/fundamental/trailing_dividend_yield\n",
      "/api/v1/equity/ownership/major_holders\n",
      "/api/v1/equity/ownership/institutional\n",
      "/api/v1/equity/ownership/insider_trading\n",
      "/api/v1/equity/ownership/share_statistics\n",
      "/api/v1/equity/ownership/form_13f\n",
      "/api/v1/equity/price/quote\n",
      "/api/v1/equity/price/nbbo\n",
      "/api/v1/equity/price/historical\n",
      "/api/v1/equity/price/performance\n",
      "/api/v1/equity/shorts/fails_to_deliver\n",
      "/api/v1/equity/shorts/short_volume\n",
      "/api/v1/equity/shorts/short_interest\n",
      "/api/v1/equity/search\n",
      "/api/v1/equity/screener\n",
      "/api/v1/equity/profile\n",
      "/api/v1/equity/market_snapshots\n",
      "/api/v1/etf/equity_exposure\n"
     ]
    }
   ],
   "source": [
    "# list all the equity functions\n",
    "for path_str, fn_json in data['paths'].items():\n",
    "    if path_str.find('equity') != -1:\n",
    "        print(path_str)\n"
   ]
  },
  {
   "cell_type": "code",
   "execution_count": 76,
   "id": "137bc44a-9bea-42c4-b6e7-20cc0c17e2e2",
   "metadata": {},
   "outputs": [
    {
     "data": {
      "text/plain": [
       "{'get': {'tags': ['equity'],\n",
       "  'summary': 'Search',\n",
       "  'description': 'Search for stock symbol, CIK, LEI, or company name.',\n",
       "  'operationId': 'equity_search',\n",
       "  'parameters': [{'name': 'provider',\n",
       "    'in': 'query',\n",
       "    'required': True,\n",
       "    'schema': {'enum': ['cboe', 'intrinio', 'nasdaq', 'sec', 'tmx', 'tradier'],\n",
       "     'type': 'string',\n",
       "     'title': 'Provider'}},\n",
       "   {'name': 'query',\n",
       "    'in': 'query',\n",
       "    'required': False,\n",
       "    'schema': {'type': 'string',\n",
       "     'description': 'Search query.',\n",
       "     'default': '',\n",
       "     'title': 'Query'},\n",
       "    'description': 'Search query.'},\n",
       "   {'name': 'is_symbol',\n",
       "    'in': 'query',\n",
       "    'required': False,\n",
       "    'schema': {'type': 'boolean',\n",
       "     'description': 'Whether to search by ticker symbol.',\n",
       "     'default': False,\n",
       "     'title': 'Is Symbol'},\n",
       "    'description': 'Whether to search by ticker symbol.'},\n",
       "   {'name': 'use_cache',\n",
       "    'in': 'query',\n",
       "    'required': False,\n",
       "    'schema': {'anyOf': [{'type': 'boolean'}, {'type': 'null'}],\n",
       "     'description': 'Whether to use the cache or not.',\n",
       "     'default': True,\n",
       "     'title': 'Use Cache'},\n",
       "    'description': 'Whether to use the cache or not.'},\n",
       "   {'name': 'active',\n",
       "    'in': 'query',\n",
       "    'required': False,\n",
       "    'schema': {'anyOf': [{'type': 'boolean'}, {'type': 'null'}],\n",
       "     'title': 'intrinio',\n",
       "     'description': 'When true, return companies that are actively traded (having stock prices within the past 14 days). When false, return companies that are not actively traded or never have been traded. (provider: intrinio)',\n",
       "     'default': True},\n",
       "    'description': 'When true, return companies that are actively traded (having stock prices within the past 14 days). When false, return companies that are not actively traded or never have been traded. (provider: intrinio)'},\n",
       "   {'name': 'limit',\n",
       "    'in': 'query',\n",
       "    'required': False,\n",
       "    'schema': {'anyOf': [{'type': 'integer'}, {'type': 'null'}],\n",
       "     'title': 'intrinio',\n",
       "     'description': 'The number of data entries to return. (provider: intrinio)',\n",
       "     'default': 10000},\n",
       "    'description': 'The number of data entries to return. (provider: intrinio)'},\n",
       "   {'name': 'is_etf',\n",
       "    'in': 'query',\n",
       "    'required': False,\n",
       "    'schema': {'anyOf': [{'type': 'boolean'}, {'type': 'null'}],\n",
       "     'title': 'nasdaq',\n",
       "     'description': 'If True, returns ETFs. (provider: nasdaq)'},\n",
       "    'description': 'If True, returns ETFs. (provider: nasdaq)'},\n",
       "   {'name': 'is_fund',\n",
       "    'in': 'query',\n",
       "    'required': False,\n",
       "    'schema': {'type': 'boolean',\n",
       "     'title': 'sec',\n",
       "     'description': 'Whether to direct the search to the list of mutual funds and ETFs. (provider: sec)',\n",
       "     'default': False},\n",
       "    'description': 'Whether to direct the search to the list of mutual funds and ETFs. (provider: sec)'}],\n",
       "  'responses': {'200': {'description': 'Successful Response',\n",
       "    'content': {'application/json': {'schema': {'$ref': '#/components/schemas/OBBject_EquitySearch'}}}},\n",
       "   '404': {'description': 'Not found'},\n",
       "   '400': {'description': 'No Results Found',\n",
       "    'content': {'application/json': {'schema': {'$ref': '#/components/schemas/OpenBBErrorResponse'}}}},\n",
       "   '500': {'description': 'Internal Error',\n",
       "    'content': {'application/json': {'schema': {'$ref': '#/components/schemas/OpenBBErrorResponse'}}}},\n",
       "   '422': {'description': 'Validation Error',\n",
       "    'content': {'application/json': {'schema': {'$ref': '#/components/schemas/HTTPValidationError'}}}}},\n",
       "  'model': 'EquitySearch',\n",
       "  'examples': [{'scope': 'api',\n",
       "    'parameters': {'provider': 'intrinio'},\n",
       "    'provider': 'intrinio'},\n",
       "   {'scope': 'api',\n",
       "    'parameters': {'query': 'AAPL',\n",
       "     'is_symbol': 0.0,\n",
       "     'use_cache': 1.0,\n",
       "     'provider': 'nasdaq'},\n",
       "    'provider': 'nasdaq'}]}}"
      ]
     },
     "execution_count": 76,
     "metadata": {},
     "output_type": "execute_result"
    }
   ],
   "source": [
    "data['paths']['/api/v1/equity/search']\n"
   ]
  },
  {
   "cell_type": "code",
   "execution_count": 77,
   "id": "e5bc2548-b49f-48e6-9e09-3cde7d7a0151",
   "metadata": {},
   "outputs": [],
   "source": [
    "fn_metadata = {\n",
    "    \"name\": \"get_equity_search_symbol\",\n",
    "    \"description\": \"Given a search string, get the stock symbol of the top company whose name best matches the search string.\",\n",
    "    \"openapi_path\" : '/api/v1/equity/search',\n",
    "    \"parameters\": {\n",
    "        \"query\": {\n",
    "            \"type\": \"string\",\n",
    "            \"description\": \"The search string to match to the stock symbol.\"\n",
    "            },\"\"\n",
    "        \"limit\": {\n",
    "            \"type\": \"integer\",\n",
    "            \"description\": \"The number of results to return. Pick a small number from 1 to 10 and choose the best response.\"\n",
    "            }\n",
    "        },\n",
    "    \"example_parameter_values\": [{\n",
    "        \"query\": \"Broadcom\",\n",
    "    }],\n",
    "    # \"singular\": 1,\n",
    "}\n",
    "\n",
    "tool = BB_agent_tool(**fn_metadata)\n",
    "\n"
   ]
  },
  {
   "cell_type": "code",
   "execution_count": 78,
   "id": "a5d9e798-0da4-463d-a602-3f4032de7168",
   "metadata": {},
   "outputs": [
    {
     "data": {
      "text/plain": [
       "'[]'"
      ]
     },
     "execution_count": 78,
     "metadata": {},
     "output_type": "execute_result"
    }
   ],
   "source": [
    "BB_agent_tool.agent_registry['get_equity_search_symbol'](query=\"Southwest Air\")"
   ]
  },
  {
   "cell_type": "code",
   "execution_count": 79,
   "id": "c9e2f9e5-3843-4cfd-9492-30d2d7cb4316",
   "metadata": {},
   "outputs": [
    {
     "name": "stdout",
     "output_type": "stream",
     "text": [
      "get_equity_search_symbol({'query': 'Southwest Airlines', 'limit': 5}) -> []\n",
      "get_equity_search_symbol({'query': 'Southwest', 'limit': 10}) -> [{\"symbol\": \"CSWC\", \"name\": \"CAPITAL SOUTHWEST CORP COM\", \"dpm_name\": \"Wolverine Trading, LLC\", \"pos...\n"
     ]
    },
    {
     "data": {
      "text/markdown": [
       "The stock symbol for Southwest Airlines is **LUV**."
      ],
      "text/plain": [
       "<IPython.core.display.Markdown object>"
      ]
     },
     "metadata": {},
     "output_type": "display_data"
    }
   ],
   "source": [
    "agent_query(client, \"What is the stock symbol for Southwest airlines?\", verbose=False)\n"
   ]
  },
  {
   "cell_type": "code",
   "execution_count": 37,
   "id": "30e36e9b-71a1-4482-9057-b43b3f36381b",
   "metadata": {},
   "outputs": [
    {
     "name": "stdout",
     "output_type": "stream",
     "text": [
      "get_equity_search_symbol({'query': 'yakimee air', 'limit': 1}) -> []\n"
     ]
    },
    {
     "data": {
      "text/markdown": [
       "It appears there's no direct match for \"yakimee air.\" It might be a misspelling or not a publicly traded company. Could you please check the name or provide more details?"
      ],
      "text/plain": [
       "<IPython.core.display.Markdown object>"
      ]
     },
     "metadata": {},
     "output_type": "display_data"
    }
   ],
   "source": [
    "agent_query(client, \"What is the stock symbol for yakimee air?\", verbose=False)\n"
   ]
  },
  {
   "cell_type": "code",
   "execution_count": 38,
   "id": "89d587d2-7c8e-4edb-a855-d04e184afb3b",
   "metadata": {},
   "outputs": [
    {
     "name": "stdout",
     "output_type": "stream",
     "text": [
      "Choice(finish_reason='tool_calls', index=0, logprobs=None, message=ChatCompletionMessage(content=None, role='assistant', function_call=None, tool_calls=[ChatCompletionMessageToolCall(id='call_nWhPL1NXYrMCtGZkYkJUJNhG', function=Function(arguments='{\"query\": \"Microsfot\", \"limit\": 1}', name='get_equity_search_symbol'), type='function'), ChatCompletionMessageToolCall(id='call_O3NX7YD9eIpBTDUh5cFS7WTK', function=Function(arguments='{\"query\": \"microsoft\", \"limit\": 1}', name='get_equity_search_symbol'), type='function')]))\n",
      "[ChatCompletionMessageToolCall(id='call_nWhPL1NXYrMCtGZkYkJUJNhG', function=Function(arguments='{\"query\": \"Microsfot\", \"limit\": 1}', name='get_equity_search_symbol'), type='function'), ChatCompletionMessageToolCall(id='call_O3NX7YD9eIpBTDUh5cFS7WTK', function=Function(arguments='{\"query\": \"microsoft\", \"limit\": 1}', name='get_equity_search_symbol'), type='function')]\n",
      "get_equity_search_symbol({'query': 'Microsfot', 'limit': 1}) -> []\n",
      "get_equity_search_symbol({'query': 'microsoft', 'limit': 1}) -> [{\"symbol\": \"MSFT\", \"name\": \"MICROSOFT CORP COM\", \"dpm_name\": \"Susquehanna Securities, LLC\", \"post_s...\n",
      "Choice(finish_reason='tool_calls', index=0, logprobs=None, message=ChatCompletionMessage(content=None, role='assistant', function_call=None, tool_calls=[ChatCompletionMessageToolCall(id='call_U5zcDxCsYblWJIIdKyEsQS0p', function=Function(arguments='{\"symbol\":\"MSFT\"}', name='get_10k_item1_from_symbol'), type='function')]))\n",
      "[ChatCompletionMessageToolCall(id='call_U5zcDxCsYblWJIIdKyEsQS0p', function=Function(arguments='{\"symbol\":\"MSFT\"}', name='get_10k_item1_from_symbol'), type='function')]\n",
      "get_10k_item1_from_symbol({'symbol': 'MSFT'}) -> [{\"item1\": \"Note About Forward-Looking Statements\\nThis report includes estimates, projections, stat...\n",
      "Choice(finish_reason='stop', index=0, logprobs=None, message=ChatCompletionMessage(content=\"Item 1 from the latest 10-K annual report for Microsoft (symbol: MSFT) provides comprehensive insight into various aspects of the company's operations, aspirations, and challenges. Here's a concise summary:\\n\\n1. **Forward-Looking Statements:** Microsoft includes cautionary notes about forward-looking statements, indicating that their business is subject to risks and uncertainties which might cause actual results to differ materially from expectations.\\n\\n2. **Business Overview:**\\n   - **Mission and Vision:** Microsoft's mission is to empower every individual and organization on the planet to achieve more. They aim to create opportunities and impact across global markets.\\n   - **AI and Cloud Services:** Microsoft emphasizes its commitment to AI, incorporating it throughout their product offerings including Microsoft Teams, Outlook, Bing, and Xbox. They are also focusing on AI capabilities with...\n"
     ]
    },
    {
     "data": {
      "text/markdown": [
       "Item 1 from the latest 10-K annual report for Microsoft (symbol: MSFT) provides comprehensive insight into various aspects of the company's operations, aspirations, and challenges. Here's a concise summary:\n",
       "\n",
       "1. **Forward-Looking Statements:** Microsoft includes cautionary notes about forward-looking statements, indicating that their business is subject to risks and uncertainties which might cause actual results to differ materially from expectations.\n",
       "\n",
       "2. **Business Overview:**\n",
       "   - **Mission and Vision:** Microsoft's mission is to empower every individual and organization on the planet to achieve more. They aim to create opportunities and impact across global markets.\n",
       "   - **AI and Cloud Services:** Microsoft emphasizes its commitment to AI, incorporating it throughout their product offerings including Microsoft Teams, Outlook, Bing, and Xbox. They are also focusing on AI capabilities within the Microsoft Cloud.\n",
       "   - **Product Portfolio:** Microsoft develops an array of software, services, devices, and solutions, including their well-known operating systems, productivity applications, server and business solutions, and various devices like PCs and gaming consoles.\n",
       "   \n",
       "3. **Strategic Focus Areas:**\n",
       "   - **Productivity and Business Processes:** With tools such as Office 365, Microsoft Teams, and Dynamics 365, Microsoft aims to reinvent productivity, enhance collaboration, and integrate their AI technologies to drive business processes.\n",
       "   - **Intelligent Cloud and Edge Platform:** They invest heavily in cloud infrastructure, sustainability, and AI capabilities. Microsoft Azure plays a key role in their cloud strategy.\n",
       "   - **Personal Computing:** Enhancing user interaction through innovative and secure devices, Microsoft continues developing products like Windows 11 and Surface.\n",
       "   - **Gaming:** Through Xbox and acquiring companies like Activision Blizzard, Microsoft is focused on creating a connected gaming ecosystem.\n",
       "\n",
       "4. **Human Capital and Corporate Culture:**\n",
       "   - **Talent Development:** Microsoft strives to recruit, develop, and retain diverse and talented personnel. They emphasize a growth mindset culture and support various Employee Resource Groups to enhance workplace inclusion.\n",
       "   - **Employee Wellbeing:** Offering extensive benefits, they focus on physical, emotional, and financial wellness, including support for hybrid working models.\n",
       "\n",
       "5. **Corporate Social Responsibility:**\n",
       "   - **Sustainability Initiatives:** Corporate commitments include becoming carbon negative, water positive, and zero waste by 2030.\n",
       "   - **Racial Equity:** Focused on strengthening communities, engaging with ecosystems, and increasing representation within Microsoft.\n",
       "   - **Digital Skills Training:** Initiatives to support job seekers worldwide with digital skills and, more recently, cybersecurity training.\n",
       "\n",
       "6. **Risks and Challenges:** The report also acknowledges various strategic, competitive, and operational risks that Microsoft faces, including intense competition, cybersecurity threats, global market dynamics, and regulatory challenges.\n",
       "\n",
       "This comprehensive focus on AI, cloud services, personal computing, gaming, and a commitment to sustainability and inclusivity is central to Microsoft's strategy moving forward."
      ],
      "text/plain": [
       "<IPython.core.display.Markdown object>"
      ]
     },
     "metadata": {},
     "output_type": "display_data"
    }
   ],
   "source": [
    "# agent is able to first get symbol, then get annual report for symbol \n",
    "agent_query(client, \"What is item 1 from the 10k annual report for Microsfot?\", verbose=True)\n"
   ]
  },
  {
   "cell_type": "code",
   "execution_count": 40,
   "id": "fc8bf343-2792-4aba-b65d-3d11f9520b61",
   "metadata": {},
   "outputs": [
    {
     "data": {
      "text/markdown": [
       "I currently do not have the ability to fetch real-time market quotes. To obtain the latest market quote for Merck & Co., Inc. (ticker symbol: MRK), I recommend checking a financial news website or using a stock market app such as Yahoo Finance, Google Finance, or Bloomberg."
      ],
      "text/plain": [
       "<IPython.core.display.Markdown object>"
      ]
     },
     "metadata": {},
     "output_type": "display_data"
    }
   ],
   "source": [
    "agent_query(client, f\"What is the last market quote for symbol {symbol}?\", verbose=False)\n"
   ]
  },
  {
   "cell_type": "code",
   "execution_count": 41,
   "id": "17fa8727-bdbd-434c-b754-1842f64e99f8",
   "metadata": {},
   "outputs": [
    {
     "name": "stdout",
     "output_type": "stream",
     "text": [
      "get_equity_search_symbol({'query': 'Consolidated Agglomerators', 'limit': 10}) -> []\n"
     ]
    },
    {
     "data": {
      "text/markdown": [
       "It appears there's no match for \"Consolidated Agglomerators\" in the stock database. Could you please double-check the company name or provide more details?"
      ],
      "text/plain": [
       "<IPython.core.display.Markdown object>"
      ]
     },
     "metadata": {},
     "output_type": "display_data"
    }
   ],
   "source": [
    "agent_query(client, f\"What is the last market quote for Consolidated Agglomerators\", verbose=False)\n"
   ]
  },
  {
   "cell_type": "code",
   "execution_count": 42,
   "id": "50b547be-1730-4d7a-856c-6e0a340aeb28",
   "metadata": {},
   "outputs": [
    {
     "data": {
      "text/markdown": [
       "It seems you are asking about weather information, which falls outside the scope of stock market-related queries that I can assist with. You can check the current weather in Las Vegas on various weather websites or apps like Weather.com, AccuWeather, or your local news station’s website. \n",
       "\n",
       "If you have any questions related to individual stocks or companies, feel free to ask!"
      ],
      "text/plain": [
       "<IPython.core.display.Markdown object>"
      ]
     },
     "metadata": {},
     "output_type": "display_data"
    }
   ],
   "source": [
    "agent_query(client, f\"What is the current weather in Las Vegas\", verbose=False)\n"
   ]
  },
  {
   "cell_type": "code",
   "execution_count": 43,
   "id": "691d6eca-f545-4ed9-a34d-c19704c72ccd",
   "metadata": {},
   "outputs": [
    {
     "name": "stdout",
     "output_type": "stream",
     "text": [
      "get_company_profile_json({'symbol': 'MRK'}) -> [{\"symbol\": \"MRK\", \"name\": \"Merck & Co Inc\", \"cik\": null, \"cusip\": null, \"isin\": null, \"lei\": null, ...\n"
     ]
    },
    {
     "data": {
      "text/markdown": [
       "### Merck & Co Inc (Symbol: MRK)\n",
       "\n",
       "- **Sector:** Healthcare\n",
       "- **Industry Category:** Drug Manufacturers - General\n",
       "- **Stock Exchange:** NYSE\n",
       "- **Market Cap:** \\\\$332.28 Billion\n",
       "- **Employees:** 72,000\n",
       "- **Index:** DJIA, S&P 500\n",
       "- **Institutional Ownership:** 79.11%\n",
       "- **Beta:** 0.41\n",
       "\n",
       "#### Description:\n",
       "Merck & Co., Inc. is a health care company that provides health solutions through its prescription medicines, vaccines, biologic therapies, animal health, and consumer care products. It operates through the following segments:\n",
       "- **Pharmaceutical:** Includes human health pharmaceutical and vaccine products.\n",
       "- **Animal Health:** Discovers, develops, manufactures, and markets animal health products, such as pharmaceutical and vaccine products, for the prevention, treatment, and control of disease in livestock and companion animal species.\n",
       "- **Other:** Consists of sales for the non-reportable segments of healthcare services.\n",
       "\n",
       "The company was founded in 1891 and is headquartered in Rahway, NJ."
      ],
      "text/plain": [
       "<IPython.core.display.Markdown object>"
      ]
     },
     "metadata": {},
     "output_type": "display_data"
    }
   ],
   "source": [
    "tool = BB_agent_tool(\n",
    "    name=\"get_company_profile_json\",\n",
    "    description=\"Given a stock symbol, get general background data about the company such as company name, industry, and sector data in JSON format\",\n",
    "    openapi_path='/api/v1/equity/profile',\n",
    "    parameters={\n",
    "        \"symbol\": {\n",
    "            \"type\": \"string\",\n",
    "            \"description\": \"The stock symbol.\"\n",
    "        }\n",
    "        },\n",
    "    example_parameter_values=[{\n",
    "        \"symbol\": \"NVDA\",\n",
    "    }],\n",
    ")\n",
    "\n",
    "agent_query(client, f\"Can you provide a basic company profile of symbol {symbol}\", verbose=False)\n"
   ]
  },
  {
   "cell_type": "code",
   "execution_count": 44,
   "id": "040be374-f8c2-4453-9ded-4abab760db1d",
   "metadata": {},
   "outputs": [
    {
     "name": "stdout",
     "output_type": "stream",
     "text": [
      "get_equity_shorts_short_interest({'symbol': 'MRK'}) -> [{\"settlement_date\": \"2021-07-15\", \"symbol\": \"MRK\", \"issue_name\": \"Merck & Co., Inc.\", \"market_class...\n"
     ]
    },
    {
     "data": {
      "text/markdown": [
       "Here are the latest statistics on short interest for Merck & Co., Inc. (ticker: MRK):\n",
       "\n",
       "- **Settlement Date:** April 30, 2024\n",
       "- **Current Short Position:** 18,754,018 shares\n",
       "- **Previous Short Position:** 20,429,972 shares\n",
       "- **Average Daily Volume:** 7,551,651 shares\n",
       "- **Days to Cover:** 2.48 days\n",
       "- **Change in Short Position:** -1,675,954 shares\n",
       "- **Change Percentage:** -8.2%\n",
       "\n",
       "If you need more detailed or specific information, feel free to ask!"
      ],
      "text/plain": [
       "<IPython.core.display.Markdown object>"
      ]
     },
     "metadata": {},
     "output_type": "display_data"
    }
   ],
   "source": [
    "tool = BB_agent_tool(\n",
    "    name=\"get_equity_shorts_short_interest\",\n",
    "    description=\"Given a stock symbol, get data on short volume and days to cover in JSON format.\",\n",
    "    openapi_path='/api/v1/equity/shorts/short_interest',\n",
    "    parameters={\n",
    "        \"symbol\": {\n",
    "            \"type\": \"string\",\n",
    "            \"description\": \"The stock symbol.\"\n",
    "        }\n",
    "        },\n",
    "    example_parameter_values=[{\n",
    "        \"symbol\": \"NVDA\",\n",
    "    }],\n",
    ")\n",
    "\n",
    "agent_query(client, f\"Provide latest statistics on short interest for symbol {symbol}\", verbose=False)\n"
   ]
  },
  {
   "cell_type": "code",
   "execution_count": 45,
   "id": "0d23319a-0b0c-402e-9b84-f7b7fd4fb25c",
   "metadata": {},
   "outputs": [],
   "source": [
    "tool = BB_agent_tool(\n",
    "    name=\"get_equity_fundamental_historical_splits\",\n",
    "    description=\"Given a stock symbol, get the company's historical stock splits in JSON format.\",\n",
    "    openapi_path='/api/v1/equity/fundamental/historical_splits',\n",
    "    parameters={\n",
    "        \"symbol\": {\n",
    "            \"type\": \"string\",\n",
    "            \"description\": \"The stock symbol.\"\n",
    "        }\n",
    "        },\n",
    "    example_parameter_values=[{\n",
    "        \"symbol\": \"NVDA\",\n",
    "    }],\n",
    ")\n"
   ]
  },
  {
   "cell_type": "code",
   "execution_count": 46,
   "id": "15ff90cc-2755-42d8-9eda-01fc52668ae9",
   "metadata": {},
   "outputs": [
    {
     "name": "stdout",
     "output_type": "stream",
     "text": [
      "get_equity_fundamental_historical_splits({'symbol': 'AAPL'}) -> [{\"date\": \"2020-08-31\", \"numerator\": 4.0, \"denominator\": 1.0, \"split_ratio\": null, \"label\": \"August ...\n"
     ]
    },
    {
     "data": {
      "text/markdown": [
       "Here are the historical stock splits for Apple Inc. (AAPL):\n",
       "\n",
       "1. **August 31, 2020**: 4-for-1 split\n",
       "2. **June 9, 2014**: 7-for-1 split\n",
       "3. **February 28, 2005**: 2-for-1 split\n",
       "4. **June 21, 2000**: 2-for-1 split\n",
       "5. **June 16, 1987**: 2-for-1 split\n",
       "\n",
       "These splits demonstrate how Apple has adjusted its share price to keep it accessible to a broader group of investors over time."
      ],
      "text/plain": [
       "<IPython.core.display.Markdown object>"
      ]
     },
     "metadata": {},
     "output_type": "display_data"
    }
   ],
   "source": [
    "agent_query(client, f\"Provide historical split information for symbol AAPL\", verbose=False)"
   ]
  },
  {
   "cell_type": "code",
   "execution_count": 47,
   "id": "8df0d29a-ce4c-4a54-887b-2a4c3c7b80d2",
   "metadata": {},
   "outputs": [
    {
     "data": {
      "text/plain": [
       "{'get': {'tags': ['equity'],\n",
       "  'summary': 'Balance',\n",
       "  'description': 'Get the balance sheet for a given company.',\n",
       "  'operationId': 'equity_fundamental_balance',\n",
       "  'parameters': [{'name': 'provider',\n",
       "    'in': 'query',\n",
       "    'required': True,\n",
       "    'schema': {'enum': ['fmp', 'intrinio', 'polygon', 'yfinance'],\n",
       "     'type': 'string',\n",
       "     'title': 'Provider'}},\n",
       "   {'name': 'symbol',\n",
       "    'in': 'query',\n",
       "    'required': True,\n",
       "    'schema': {'type': 'string',\n",
       "     'description': 'Symbol to get data for.',\n",
       "     'title': 'Symbol'},\n",
       "    'description': 'Symbol to get data for.'},\n",
       "   {'name': 'period',\n",
       "    'in': 'query',\n",
       "    'required': False,\n",
       "    'schema': {'type': 'string',\n",
       "     'description': 'Time period of the data to return.',\n",
       "     'default': 'annual',\n",
       "     'title': 'Period'},\n",
       "    'description': 'Time period of the data to return.'},\n",
       "   {'name': 'limit',\n",
       "    'in': 'query',\n",
       "    'required': False,\n",
       "    'schema': {'anyOf': [{'type': 'integer', 'minimum': 0}, {'type': 'null'}],\n",
       "     'description': 'The number of data entries to return.',\n",
       "     'default': 5,\n",
       "     'title': 'Limit'},\n",
       "    'description': 'The number of data entries to return.'},\n",
       "   {'name': 'fiscal_year',\n",
       "    'in': 'query',\n",
       "    'required': False,\n",
       "    'schema': {'anyOf': [{'type': 'integer'}, {'type': 'null'}],\n",
       "     'title': 'intrinio',\n",
       "     'description': 'The specific fiscal year.  Reports do not go beyond 2008. (provider: intrinio)'},\n",
       "    'description': 'The specific fiscal year.  Reports do not go beyond 2008. (provider: intrinio)'},\n",
       "   {'name': 'filing_date',\n",
       "    'in': 'query',\n",
       "    'required': False,\n",
       "    'schema': {'anyOf': [{'type': 'string', 'format': 'date'},\n",
       "      {'type': 'null'}],\n",
       "     'title': 'polygon',\n",
       "     'description': 'Filing date of the financial statement. (provider: polygon)'},\n",
       "    'description': 'Filing date of the financial statement. (provider: polygon)'},\n",
       "   {'name': 'filing_date_lt',\n",
       "    'in': 'query',\n",
       "    'required': False,\n",
       "    'schema': {'anyOf': [{'type': 'string', 'format': 'date'},\n",
       "      {'type': 'null'}],\n",
       "     'title': 'polygon',\n",
       "     'description': 'Filing date less than the given date. (provider: polygon)'},\n",
       "    'description': 'Filing date less than the given date. (provider: polygon)'},\n",
       "   {'name': 'filing_date_lte',\n",
       "    'in': 'query',\n",
       "    'required': False,\n",
       "    'schema': {'anyOf': [{'type': 'string', 'format': 'date'},\n",
       "      {'type': 'null'}],\n",
       "     'title': 'polygon',\n",
       "     'description': 'Filing date less than or equal to the given date. (provider: polygon)'},\n",
       "    'description': 'Filing date less than or equal to the given date. (provider: polygon)'},\n",
       "   {'name': 'filing_date_gt',\n",
       "    'in': 'query',\n",
       "    'required': False,\n",
       "    'schema': {'anyOf': [{'type': 'string', 'format': 'date'},\n",
       "      {'type': 'null'}],\n",
       "     'title': 'polygon',\n",
       "     'description': 'Filing date greater than the given date. (provider: polygon)'},\n",
       "    'description': 'Filing date greater than the given date. (provider: polygon)'},\n",
       "   {'name': 'filing_date_gte',\n",
       "    'in': 'query',\n",
       "    'required': False,\n",
       "    'schema': {'anyOf': [{'type': 'string', 'format': 'date'},\n",
       "      {'type': 'null'}],\n",
       "     'title': 'polygon',\n",
       "     'description': 'Filing date greater than or equal to the given date. (provider: polygon)'},\n",
       "    'description': 'Filing date greater than or equal to the given date. (provider: polygon)'},\n",
       "   {'name': 'period_of_report_date',\n",
       "    'in': 'query',\n",
       "    'required': False,\n",
       "    'schema': {'anyOf': [{'type': 'string', 'format': 'date'},\n",
       "      {'type': 'null'}],\n",
       "     'title': 'polygon',\n",
       "     'description': 'Period of report date of the financial statement. (provider: polygon)'},\n",
       "    'description': 'Period of report date of the financial statement. (provider: polygon)'},\n",
       "   {'name': 'period_of_report_date_lt',\n",
       "    'in': 'query',\n",
       "    'required': False,\n",
       "    'schema': {'anyOf': [{'type': 'string', 'format': 'date'},\n",
       "      {'type': 'null'}],\n",
       "     'title': 'polygon',\n",
       "     'description': 'Period of report date less than the given date. (provider: polygon)'},\n",
       "    'description': 'Period of report date less than the given date. (provider: polygon)'},\n",
       "   {'name': 'period_of_report_date_lte',\n",
       "    'in': 'query',\n",
       "    'required': False,\n",
       "    'schema': {'anyOf': [{'type': 'string', 'format': 'date'},\n",
       "      {'type': 'null'}],\n",
       "     'title': 'polygon',\n",
       "     'description': 'Period of report date less than or equal to the given date. (provider: polygon)'},\n",
       "    'description': 'Period of report date less than or equal to the given date. (provider: polygon)'},\n",
       "   {'name': 'period_of_report_date_gt',\n",
       "    'in': 'query',\n",
       "    'required': False,\n",
       "    'schema': {'anyOf': [{'type': 'string', 'format': 'date'},\n",
       "      {'type': 'null'}],\n",
       "     'title': 'polygon',\n",
       "     'description': 'Period of report date greater than the given date. (provider: polygon)'},\n",
       "    'description': 'Period of report date greater than the given date. (provider: polygon)'},\n",
       "   {'name': 'period_of_report_date_gte',\n",
       "    'in': 'query',\n",
       "    'required': False,\n",
       "    'schema': {'anyOf': [{'type': 'string', 'format': 'date'},\n",
       "      {'type': 'null'}],\n",
       "     'title': 'polygon',\n",
       "     'description': 'Period of report date greater than or equal to the given date. (provider: polygon)'},\n",
       "    'description': 'Period of report date greater than or equal to the given date. (provider: polygon)'},\n",
       "   {'name': 'include_sources',\n",
       "    'in': 'query',\n",
       "    'required': False,\n",
       "    'schema': {'type': 'boolean',\n",
       "     'title': 'polygon',\n",
       "     'description': 'Whether to include the sources of the financial statement. (provider: polygon)',\n",
       "     'default': True},\n",
       "    'description': 'Whether to include the sources of the financial statement. (provider: polygon)'},\n",
       "   {'name': 'order',\n",
       "    'in': 'query',\n",
       "    'required': False,\n",
       "    'schema': {'anyOf': [{'enum': ['asc', 'desc'], 'type': 'string'},\n",
       "      {'type': 'null'}],\n",
       "     'title': 'polygon',\n",
       "     'description': 'Order of the financial statement. (provider: polygon)'},\n",
       "    'description': 'Order of the financial statement. (provider: polygon)'},\n",
       "   {'name': 'sort',\n",
       "    'in': 'query',\n",
       "    'required': False,\n",
       "    'schema': {'anyOf': [{'enum': ['filing_date', 'period_of_report_date'],\n",
       "       'type': 'string'},\n",
       "      {'type': 'null'}],\n",
       "     'title': 'polygon',\n",
       "     'description': 'Sort of the financial statement. (provider: polygon)'},\n",
       "    'description': 'Sort of the financial statement. (provider: polygon)'}],\n",
       "  'responses': {'200': {'description': 'Successful Response',\n",
       "    'content': {'application/json': {'schema': {'$ref': '#/components/schemas/OBBject_BalanceSheet'}}}},\n",
       "   '404': {'description': 'Not found'},\n",
       "   '400': {'description': 'No Results Found',\n",
       "    'content': {'application/json': {'schema': {'$ref': '#/components/schemas/OpenBBErrorResponse'}}}},\n",
       "   '500': {'description': 'Internal Error',\n",
       "    'content': {'application/json': {'schema': {'$ref': '#/components/schemas/OpenBBErrorResponse'}}}},\n",
       "   '422': {'description': 'Validation Error',\n",
       "    'content': {'application/json': {'schema': {'$ref': '#/components/schemas/HTTPValidationError'}}}}},\n",
       "  'model': 'BalanceSheet',\n",
       "  'examples': [{'scope': 'api',\n",
       "    'parameters': {'symbol': 'AAPL', 'provider': 'fmp'},\n",
       "    'provider': 'fmp'},\n",
       "   {'scope': 'api',\n",
       "    'parameters': {'symbol': 'AAPL',\n",
       "     'period': 'annual',\n",
       "     'limit': 5,\n",
       "     'provider': 'intrinio'},\n",
       "    'provider': 'intrinio'}]}}"
      ]
     },
     "execution_count": 47,
     "metadata": {},
     "output_type": "execute_result"
    }
   ],
   "source": [
    "data[\"paths\"][\"/api/v1/equity/fundamental/balance\"]"
   ]
  },
  {
   "cell_type": "code",
   "execution_count": 48,
   "id": "11acabf1-8fbb-419a-8eac-5146173660a3",
   "metadata": {},
   "outputs": [
    {
     "name": "stdout",
     "output_type": "stream",
     "text": [
      "get_balance_sheet_json({'symbol': 'MRK'}) -> {\"period_ending\": \"2023-12-31\", \"fiscal_period\": \"FY\", \"fiscal_year\": 2023, \"filing_date\": \"2024-04-...\n"
     ]
    },
    {
     "data": {
      "text/markdown": [
       "The latest total assets for Merck & Co., Inc. (symbol: MRK) as of the fiscal year ending December 31, 2023, are \\\\$106.675 billion.\n",
       "\n",
       "For more detailed financial information, you can refer to their latest [10-K filing on the SEC website](https://www.sec.gov/Archives/edgar/data/310158/000119312524093194/d807955d10ka.htm)."
      ],
      "text/plain": [
       "<IPython.core.display.Markdown object>"
      ]
     },
     "metadata": {},
     "output_type": "display_data"
    }
   ],
   "source": [
    "tool = BB_agent_tool(\n",
    "    name=\"get_balance_sheet_json\",\n",
    "    description=\"Given a stock symbol, get the latest balance sheet data with assets and liabilities for the company in JSON format.\",\n",
    "    openapi_path='/api/v1/equity/fundamental/balance',\n",
    "    parameters={\n",
    "        \"symbol\": {\n",
    "            \"type\": \"string\",\n",
    "            \"description\": \"The stock symbol.\"\n",
    "        }\n",
    "    },\n",
    "    example_parameter_values=[{\n",
    "        \"symbol\": \"NVDA\",\n",
    "    }],\n",
    "    singular=1\n",
    ")\n",
    "\n",
    "agent_query(client, f\"what are the latest total assets for symbol {symbol}\", verbose=False)\n"
   ]
  },
  {
   "cell_type": "code",
   "execution_count": 49,
   "id": "8ff5c872-de7a-4c88-828f-c983b7ed30fb",
   "metadata": {},
   "outputs": [],
   "source": [
    "# can give by year\n",
    "# obb.equity.fundamental.balance(symbol='NVDA', period='annual', fiscal_year='2023', limit=1)\n",
    "# also growth from prior period obb.equity.fundamental.balance_growth"
   ]
  },
  {
   "cell_type": "code",
   "execution_count": 50,
   "id": "d321ef20-4a96-4812-88db-8c1744ca84ea",
   "metadata": {},
   "outputs": [
    {
     "name": "stdout",
     "output_type": "stream",
     "text": [
      "get_cash_flow_json({'symbol': 'MRK'}) -> {\"period_ending\": \"2023-12-31\", \"fiscal_period\": \"FY\", \"fiscal_year\": 2023, \"filing_date\": \"2024-04-...\n"
     ]
    },
    {
     "data": {
      "text/markdown": [
       "The most recent cash flow from operations for Merck & Co., Inc. (symbol: MRK) as of the fiscal year ending December 31, 2023, was \\\\$13,006,000,000 USD. \n",
       "\n",
       "For further details, you can refer to their [10-K filing](https://www.sec.gov/Archives/edgar/data/310158/000119312524093194/d807955d10ka.htm)."
      ],
      "text/plain": [
       "<IPython.core.display.Markdown object>"
      ]
     },
     "metadata": {},
     "output_type": "display_data"
    }
   ],
   "source": [
    "tool = BB_agent_tool(\n",
    "    name=\"get_cash_flow_json\",\n",
    "    description=\"Given a stock symbol, get the latest cash flow statement data for the company in JSON format.\",\n",
    "    openapi_path='/api/v1/equity/fundamental/cash',\n",
    "    parameters={\n",
    "        \"symbol\": {\n",
    "            \"type\": \"string\",\n",
    "            \"description\": \"The stock symbol.\"\n",
    "        }\n",
    "        },\n",
    "    example_parameter_values=[{\n",
    "        \"symbol\": \"NVDA\",\n",
    "    }],\n",
    "    singular=1\n",
    ")\n",
    "\n",
    "agent_query(client, f\"what was the most recent cash flow from operations for stock symbol {symbol}\", verbose=False)\n"
   ]
  },
  {
   "cell_type": "code",
   "execution_count": 52,
   "id": "2ba427b5-9b74-498c-aee8-0f4518cf25c6",
   "metadata": {},
   "outputs": [
    {
     "name": "stdout",
     "output_type": "stream",
     "text": [
      "get_income_statement_json({'symbol': 'MRK'}) -> {\"period_ending\": \"2023-12-31\", \"fiscal_period\": \"FY\", \"fiscal_year\": 2023, \"filing_date\": \"2024-04-...\n"
     ]
    },
    {
     "data": {
      "text/markdown": [
       "The most recent net income for Merck & Co., Inc. (symbol: MRK) as of the fiscal year ending on December 31, 2023, was \\\\$365 million. \n",
       "\n",
       "You can find more details in their latest filing [here](https://www.sec.gov/Archives/edgar/data/310158/000119312524093194/d807955d10ka.htm)."
      ],
      "text/plain": [
       "<IPython.core.display.Markdown object>"
      ]
     },
     "metadata": {},
     "output_type": "display_data"
    }
   ],
   "source": [
    "tool = BB_agent_tool(\n",
    "    name=\"get_income_statement_json\",\n",
    "    description=\"Given a stock symbol, get the latest income statement data for the company in JSON format\",\n",
    "    openapi_path='/api/v1/equity/fundamental/income',\n",
    "    parameters={\n",
    "        \"symbol\": {\n",
    "            \"type\": \"string\",\n",
    "            \"description\": \"The stock symbol.\"\n",
    "        }\n",
    "        },\n",
    "    example_parameter_values=[{\n",
    "        \"symbol\": \"NVDA\",\n",
    "    }],\n",
    "    singular=1\n",
    ")\n",
    "\n",
    "agent_query(client, f\"what was the most recent net income for symbol {symbol}\", verbose=False)\n"
   ]
  },
  {
   "cell_type": "code",
   "execution_count": 53,
   "id": "a1098457-64ef-44c7-93ed-ec7fd172b937",
   "metadata": {},
   "outputs": [
    {
     "name": "stdout",
     "output_type": "stream",
     "text": [
      "get_fundamental_metrics_json({'symbol': 'MRK'}) -> [{\"symbol\": \"MRK\", \"market_cap\": 332280000000.0, \"pe_ratio\": 146.04, \"foward_pe\": 13.2, \"eps\": 0.9, ...\n"
     ]
    },
    {
     "data": {
      "text/markdown": [
       "The most recent PE ratio for Merck & Co., Inc. (symbol: MRK) is 146.04."
      ],
      "text/plain": [
       "<IPython.core.display.Markdown object>"
      ]
     },
     "metadata": {},
     "output_type": "display_data"
    }
   ],
   "source": [
    "tool = BB_agent_tool(\n",
    "    name=\"get_fundamental_metrics_json\",\n",
    "    description=\"Given a stock symbol, get fundamental metrics for the company in JSON format.\",\n",
    "    openapi_path='/api/v1/equity/fundamental/metrics',\n",
    "    parameters={\n",
    "        \"symbol\": {\n",
    "            \"type\": \"string\",\n",
    "            \"description\": \"The stock symbol.\"\n",
    "        }\n",
    "        },\n",
    "    example_parameter_values=[{\n",
    "        \"symbol\": \"NVDA\",\n",
    "    }],\n",
    ")\n",
    "\n",
    "agent_query(client, f\"what was the most recent PE ratio for stock symbol {symbol}\", verbose=False)\n"
   ]
  },
  {
   "cell_type": "code",
   "execution_count": 54,
   "id": "5daa5fb1-21ac-46d4-ac7b-521f6d841156",
   "metadata": {},
   "outputs": [
    {
     "name": "stdout",
     "output_type": "stream",
     "text": [
      "get_equity_search_symbol({'query': 'MRK', 'limit': 1}) -> [{\"symbol\": \"FDT\", \"name\": \"FIRST TR EXCH TRD ALPHDX FD II DEV MRK EX US\", \"dpm_name\": \"Belvedere Tr...\n"
     ]
    },
    {
     "data": {
      "text/markdown": [
       "It appears there might have been a mix-up with the symbol \"MRK.\" To clarify, are you asking about Merck & Co., Inc., the pharmaceutical company? If yes, let me proceed accordingly. "
      ],
      "text/plain": [
       "<IPython.core.display.Markdown object>"
      ]
     },
     "metadata": {},
     "output_type": "display_data"
    }
   ],
   "source": [
    "tool = BB_agent_tool(\n",
    "    name=\"get_fundamental_ratios_json\",\n",
    "    description=\"Given a stock symbol, get fundamental valuation ratios for the company in JSON format.\",\n",
    "    openapi_path='/api/v1/equity/fundamental/ratios',\n",
    "    parameters={\n",
    "        \"symbol\": {\n",
    "            \"type\": \"string\",\n",
    "            \"description\": \"The stock symbol.\"\n",
    "        }\n",
    "        },\n",
    "    example_parameter_values=[{\n",
    "        \"symbol\": \"NVDA\",\n",
    "    }],\n",
    "    singular=1\n",
    ")\n",
    "\n",
    "agent_query(client, f\"what was the most recent price to sales ratio for stock symbol {symbol}\", verbose=False)\n"
   ]
  },
  {
   "cell_type": "code",
   "execution_count": 55,
   "id": "1471ebdb-f3dd-4cfd-ab61-61c531c16624",
   "metadata": {},
   "outputs": [
    {
     "name": "stdout",
     "output_type": "stream",
     "text": [
      "get_equity_fundamental_multiples({'symbol': 'MRK'}) -> {\"symbol\": \"MRK\", \"revenue_per_share_ttm\": 24.25424397947098, \"net_income_per_share_ttm\": 0.91038294...\n"
     ]
    },
    {
     "data": {
      "text/markdown": [
       "The most recent revenue per share for Merck & Co., Inc. (symbol: MRK) is approximately \\\\$24.25."
      ],
      "text/plain": [
       "<IPython.core.display.Markdown object>"
      ]
     },
     "metadata": {},
     "output_type": "display_data"
    }
   ],
   "source": [
    "tool = BB_agent_tool(\n",
    "    name=\"get_equity_fundamental_multiples\",\n",
    "    description=\"Given a stock symbol, get fundamental valuation multiples for the company in JSON format.\",\n",
    "    openapi_path='/api/v1/equity/fundamental/multiples',\n",
    "    parameters={\n",
    "        \"symbol\": {\n",
    "            \"type\": \"string\",\n",
    "            \"description\": \"The stock symbol.\"\n",
    "        }\n",
    "        },\n",
    "    example_parameter_values=[{\n",
    "        \"symbol\": \"NVDA\",\n",
    "    }],\n",
    "    singular=1\n",
    ")\n",
    "\n",
    "agent_query(client, f\"what was the most recent revenue per share for stock symbol {symbol}\", verbose=False)\n"
   ]
  },
  {
   "cell_type": "code",
   "execution_count": 56,
   "id": "7cf79058-b258-420d-a72d-795c45c314b6",
   "metadata": {},
   "outputs": [],
   "source": [
    "# tool = BB_agent_tool(\n",
    "#     name=\"get_historical_eps\",\n",
    "#     description=\"Given a stock symbol, get historical earnings per share data for the company in JSON format.\",\n",
    "#     openapi_path='/api/v1/equity/fundamental/historical_eps',\n",
    "#     parameters={\n",
    "#         \"symbol\": {\n",
    "#             \"type\": \"string\",\n",
    "#             \"description\": \"The stock symbol.\"\n",
    "#         }\n",
    "#         },\n",
    "#     example_parameter_values=[{\n",
    "#         \"symbol\": \"NVDA\",\n",
    "#     }],\n",
    "# )\n",
    "\n",
    "# "
   ]
  },
  {
   "cell_type": "code",
   "execution_count": 57,
   "id": "8802008e-f0ac-4cf1-85a4-2373ccca5713",
   "metadata": {},
   "outputs": [],
   "source": [
    "# agent_query(client, f\"what was the EPS for {company} in the quarter ended 2022-09-30?\", verbose=False)\n"
   ]
  },
  {
   "cell_type": "code",
   "execution_count": 58,
   "id": "d94c70ca-2285-4676-8d91-f6fce3c3a491",
   "metadata": {},
   "outputs": [
    {
     "name": "stdout",
     "output_type": "stream",
     "text": [
      "get_equity_fundamental_dividend({'symbol': 'MRK'}) -> [{\"ex_dividend_date\": \"2024-03-14\", \"amount\": 0.77, \"label\": \"March 14, 24\", \"adj_dividend\": 0.77, \"...\n"
     ]
    },
    {
     "data": {
      "text/markdown": [
       "The latest dividend data for the stock symbol MRK (Merck & Co., Inc.) is as follows:\n",
       "\n",
       "- **Ex-Dividend Date**: March 14, 2024\n",
       "- **Dividend Amount**: \\\\$0.77 per share\n",
       "- **Record Date**: March 15, 2024\n",
       "- **Payment Date**: April 5, 2024\n",
       "- **Declaration Date**: January 23, 2024\n",
       "\n",
       "If you have any more questions or need further details, feel free to ask!"
      ],
      "text/plain": [
       "<IPython.core.display.Markdown object>"
      ]
     },
     "metadata": {},
     "output_type": "display_data"
    }
   ],
   "source": [
    "tool = BB_agent_tool(\n",
    "    name=\"get_equity_fundamental_dividend\",\n",
    "    description=\"Given a stock symbol, get the latest dividend data for the company in JSON format.\",\n",
    "    openapi_path='/api/v1/equity/fundamental/dividends',\n",
    "    parameters={\n",
    "        \"symbol\": {\n",
    "            \"type\": \"string\",\n",
    "            \"description\": \"The stock symbol.\"\n",
    "        }\n",
    "        },\n",
    "    example_parameter_values=[{\n",
    "        \"symbol\": \"NVDA\",\n",
    "    }],\n",
    ")\n",
    "\n",
    "agent_query(client, f\"what was the latest dividend data for stock symbol {symbol}?\", verbose=False)\n"
   ]
  },
  {
   "cell_type": "code",
   "execution_count": 59,
   "id": "d6ea54fe-b064-4db1-a776-2e585d434355",
   "metadata": {},
   "outputs": [
    {
     "name": "stdout",
     "output_type": "stream",
     "text": [
      "get_equity_search_symbol({'query': 'MRK', 'limit': 1}) -> [{\"symbol\": \"FDT\", \"name\": \"FIRST TR EXCH TRD ALPHDX FD II DEV MRK EX US\", \"dpm_name\": \"Belvedere Tr...\n",
      "get_equity_search_symbol({'query': 'Merck', 'limit': 5}) -> [{\"symbol\": \"MRK\", \"name\": \"MERCK & CO INC COM\", \"dpm_name\": \"Wolverine Trading, LLC\", \"post_station...\n",
      "get_equity_fundamental_dividend({'symbol': 'MRK'}) -> [{\"ex_dividend_date\": \"2024-03-14\", \"amount\": 0.77, \"label\": \"March 14, 24\", \"adj_dividend\": 0.77, \"...\n"
     ]
    },
    {
     "data": {
      "text/markdown": [
       "As of the end of 2022, Merck & Co Inc. (symbol: MRK) had the following dividend data:\n",
       "\n",
       "- **Ex-Dividend Date:** December 14, 2022\n",
       "- **Dividend Amount:** \\\\$0.73 per share\n",
       "- **Record Date:** December 15, 2022\n",
       "- **Payment Date:** January 9, 2023\n",
       "- **Declaration Date:** November 29, 2022"
      ],
      "text/plain": [
       "<IPython.core.display.Markdown object>"
      ]
     },
     "metadata": {},
     "output_type": "display_data"
    }
   ],
   "source": [
    "agent_query(client, f\"what was the dividend data as of the end of 2022 for stock symbol {symbol}?\", verbose=False)\n"
   ]
  },
  {
   "cell_type": "code",
   "execution_count": 60,
   "id": "c654a51c-29e0-46f9-8cb3-93654813deaa",
   "metadata": {},
   "outputs": [
    {
     "name": "stdout",
     "output_type": "stream",
     "text": [
      "get_trailing_dividend_yield_json({'symbol': 'MRK'}) -> [{\"date\": \"2023-05-18\", \"trailing_dividend_yield\": 0.0249122807}, {\"date\": \"2023-05-19\", \"trailing_d...\n"
     ]
    },
    {
     "data": {
      "text/markdown": [
       "As of the end of 2023, the dividend yield for Merck & Co., Inc. (stock symbol: MRK) was approximately 2.81%."
      ],
      "text/plain": [
       "<IPython.core.display.Markdown object>"
      ]
     },
     "metadata": {},
     "output_type": "display_data"
    }
   ],
   "source": [
    "tool = BB_agent_tool(\n",
    "    name=\"get_trailing_dividend_yield_json\",\n",
    "    description=\"Given a stock symbol, get the 1 year trailing dividend yield for the company over time in JSON format.\",\n",
    "    openapi_path='/api/v1/equity/fundamental/trailing_dividend_yield',\n",
    "    parameters={\n",
    "        \"symbol\": {\n",
    "            \"type\": \"string\",\n",
    "            \"description\": \"The stock symbol.\"\n",
    "        }\n",
    "        },\n",
    "    example_parameter_values=[{\n",
    "        \"symbol\": \"NVDA\",\n",
    "    }],\n",
    ")\n",
    "\n",
    "agent_query(client, f\"what was the dividend yield for stock symbol {symbol} as of the end of 2023?\", verbose=False)\n"
   ]
  },
  {
   "cell_type": "code",
   "execution_count": 61,
   "id": "95dc1d1e-6a25-4728-9251-ced4ee39825c",
   "metadata": {},
   "outputs": [
    {
     "name": "stdout",
     "output_type": "stream",
     "text": [
      "get_equity_search_symbol({'query': 'Merck', 'limit': 1}) -> [{\"symbol\": \"MRK\", \"name\": \"MERCK & CO INC COM\", \"dpm_name\": \"Wolverine Trading, LLC\", \"post_station...\n",
      "get_price_performance_json({'symbol': 'MRK'}) -> [{\"symbol\": \"MRK\", \"one_day\": 0.0024, \"wtd\": null, \"one_week\": 0.0087, \"mtd\": null, \"one_month\": 0.0...\n"
     ]
    },
    {
     "data": {
      "text/markdown": [
       "The performance of Merck & Co., Inc. (symbol: MRK) over the past year shows a return of 14.32%. The current stock price is \\\\$131.19, with a volume of approximately 7.72 million shares being traded. The average volume is around 8.22 million shares."
      ],
      "text/plain": [
       "<IPython.core.display.Markdown object>"
      ]
     },
     "metadata": {},
     "output_type": "display_data"
    }
   ],
   "source": [
    "tool = BB_agent_tool(\n",
    "    name=\"get_price_performance_json\",\n",
    "    description=\"Given a stock symbol, get price performance data for the stock for different time periods in JSON format.\",\n",
    "    openapi_path='/api/v1/equity/price/performance',\n",
    "    parameters={\n",
    "        \"symbol\": {\n",
    "            \"type\": \"string\",\n",
    "            \"description\": \"The stock symbol.\"\n",
    "        }\n",
    "        },\n",
    "    example_parameter_values=[{\n",
    "        \"symbol\": \"NVDA\",\n",
    "    }],\n",
    ")\n",
    "\n",
    "agent_query(client, f\"what was the performance for {company} from 1 year ago?\", verbose=False)\n"
   ]
  },
  {
   "cell_type": "code",
   "execution_count": 62,
   "id": "3fdf5cd8-9a72-489e-8fbc-5bbf6e95ff19",
   "metadata": {},
   "outputs": [],
   "source": [
    "# this might exceed token context making it unreliable\n",
    "tool = BB_agent_tool(\n",
    "    name=\"get_etf_equity_exposure_json\",\n",
    "    description=\"Given a stock symbol, get the exposure of ETFs to the stock in JSON format.\",\n",
    "    openapi_path='/api/v1/etf/equity_exposure',\n",
    "    parameters={\n",
    "        \"symbol\": {\n",
    "            \"type\": \"string\",\n",
    "            \"description\": \"The stock symbol.\"\n",
    "        }\n",
    "        },\n",
    "    example_parameter_values=[{\n",
    "        \"symbol\": \"NVDA\",\n",
    "    }],\n",
    ")\n"
   ]
  },
  {
   "cell_type": "code",
   "execution_count": 63,
   "id": "b7783f91-b77b-46e8-8f86-ba02715b7887",
   "metadata": {},
   "outputs": [
    {
     "data": {
      "text/html": [
       "<div>\n",
       "<style scoped>\n",
       "    .dataframe tbody tr th:only-of-type {\n",
       "        vertical-align: middle;\n",
       "    }\n",
       "\n",
       "    .dataframe tbody tr th {\n",
       "        vertical-align: top;\n",
       "    }\n",
       "\n",
       "    .dataframe thead th {\n",
       "        text-align: right;\n",
       "    }\n",
       "</style>\n",
       "<table border=\"1\" class=\"dataframe\">\n",
       "  <thead>\n",
       "    <tr style=\"text-align: right;\">\n",
       "      <th></th>\n",
       "      <th>equity_symbol</th>\n",
       "      <th>etf_symbol</th>\n",
       "      <th>shares</th>\n",
       "      <th>weight</th>\n",
       "      <th>market_value</th>\n",
       "    </tr>\n",
       "  </thead>\n",
       "  <tbody>\n",
       "    <tr>\n",
       "      <th>450</th>\n",
       "      <td>MRK</td>\n",
       "      <td>FTXH</td>\n",
       "      <td>11684.0</td>\n",
       "      <td>0.075700</td>\n",
       "      <td>1.519621e+06</td>\n",
       "    </tr>\n",
       "    <tr>\n",
       "      <th>13</th>\n",
       "      <td>MRK</td>\n",
       "      <td>XLV</td>\n",
       "      <td>18454434.0</td>\n",
       "      <td>0.062123</td>\n",
       "      <td>2.400184e+09</td>\n",
       "    </tr>\n",
       "    <tr>\n",
       "      <th>78</th>\n",
       "      <td>MRK</td>\n",
       "      <td>QDVG.DE</td>\n",
       "      <td>1126933.0</td>\n",
       "      <td>0.061660</td>\n",
       "      <td>1.457012e+08</td>\n",
       "    </tr>\n",
       "    <tr>\n",
       "      <th>79</th>\n",
       "      <td>MRK</td>\n",
       "      <td>IUHE.AS</td>\n",
       "      <td>0.0</td>\n",
       "      <td>0.061095</td>\n",
       "      <td>1.451633e+08</td>\n",
       "    </tr>\n",
       "    <tr>\n",
       "      <th>80</th>\n",
       "      <td>MRK</td>\n",
       "      <td>IUHC.L</td>\n",
       "      <td>0.0</td>\n",
       "      <td>0.061095</td>\n",
       "      <td>1.451633e+08</td>\n",
       "    </tr>\n",
       "    <tr>\n",
       "      <th>...</th>\n",
       "      <td>...</td>\n",
       "      <td>...</td>\n",
       "      <td>...</td>\n",
       "      <td>...</td>\n",
       "      <td>...</td>\n",
       "    </tr>\n",
       "    <tr>\n",
       "      <th>682</th>\n",
       "      <td>MRK</td>\n",
       "      <td>GPAL</td>\n",
       "      <td>640.0</td>\n",
       "      <td>NaN</td>\n",
       "      <td>6.631040e+04</td>\n",
       "    </tr>\n",
       "    <tr>\n",
       "      <th>693</th>\n",
       "      <td>MRK</td>\n",
       "      <td>GDEF</td>\n",
       "      <td>397.0</td>\n",
       "      <td>NaN</td>\n",
       "      <td>5.170131e+04</td>\n",
       "    </tr>\n",
       "    <tr>\n",
       "      <th>703</th>\n",
       "      <td>MRK</td>\n",
       "      <td>EUNU.DE</td>\n",
       "      <td>50000.0</td>\n",
       "      <td>NaN</td>\n",
       "      <td>3.868500e+04</td>\n",
       "    </tr>\n",
       "    <tr>\n",
       "      <th>704</th>\n",
       "      <td>MRK</td>\n",
       "      <td>BBAG</td>\n",
       "      <td>48000.0</td>\n",
       "      <td>NaN</td>\n",
       "      <td>3.790191e+04</td>\n",
       "    </tr>\n",
       "    <tr>\n",
       "      <th>720</th>\n",
       "      <td>MRK</td>\n",
       "      <td>GSEU</td>\n",
       "      <td>121.0</td>\n",
       "      <td>NaN</td>\n",
       "      <td>2.030260e+04</td>\n",
       "    </tr>\n",
       "  </tbody>\n",
       "</table>\n",
       "<p>789 rows × 5 columns</p>\n",
       "</div>"
      ],
      "text/plain": [
       "    equity_symbol etf_symbol      shares    weight  market_value\n",
       "450           MRK       FTXH     11684.0  0.075700  1.519621e+06\n",
       "13            MRK        XLV  18454434.0  0.062123  2.400184e+09\n",
       "78            MRK    QDVG.DE   1126933.0  0.061660  1.457012e+08\n",
       "79            MRK    IUHE.AS         0.0  0.061095  1.451633e+08\n",
       "80            MRK     IUHC.L         0.0  0.061095  1.451633e+08\n",
       "..            ...        ...         ...       ...           ...\n",
       "682           MRK       GPAL       640.0       NaN  6.631040e+04\n",
       "693           MRK       GDEF       397.0       NaN  5.170131e+04\n",
       "703           MRK    EUNU.DE     50000.0       NaN  3.868500e+04\n",
       "704           MRK       BBAG     48000.0       NaN  3.790191e+04\n",
       "720           MRK       GSEU       121.0       NaN  2.030260e+04\n",
       "\n",
       "[789 rows x 5 columns]"
      ]
     },
     "execution_count": 63,
     "metadata": {},
     "output_type": "execute_result"
    }
   ],
   "source": [
    "pd.DataFrame(json.loads(tool(symbol='MRK'))).sort_values('weight', ascending=False)"
   ]
  },
  {
   "cell_type": "code",
   "execution_count": 64,
   "id": "cca28804-8aa2-4829-909f-6fc0592ce44c",
   "metadata": {},
   "outputs": [
    {
     "name": "stdout",
     "output_type": "stream",
     "text": [
      "get_equity_search_symbol({'query': 'Merck', 'limit': 1}) -> [{\"symbol\": \"MRK\", \"name\": \"MERCK & CO INC COM\", \"dpm_name\": \"Wolverine Trading, LLC\", \"post_station...\n",
      "get_etf_equity_exposure_json({'symbol': 'MRK'}) -> [{\"equity_symbol\": \"MRK\", \"etf_symbol\": \"VTSAX\", \"shares\": 79663326.0, \"weight\": 0.0066, \"market_val...\n"
     ]
    },
    {
     "data": {
      "text/markdown": [
       "The ETF with the highest weight in Merck & Co., Inc. (ticker: MRK) is the Invesco S&P 500 Equal Weight Health Care ETF (symbol: **RYH**) with a weight of approximately **6.02%**."
      ],
      "text/plain": [
       "<IPython.core.display.Markdown object>"
      ]
     },
     "metadata": {},
     "output_type": "display_data"
    }
   ],
   "source": [
    "agent_query(client, f\"which ETF has the highest weight in {company} ?\", verbose=False)\n"
   ]
  },
  {
   "cell_type": "code",
   "execution_count": 70,
   "id": "3fe6e7e7-841a-40b1-9492-cdb6f34c0e5c",
   "metadata": {},
   "outputs": [
    {
     "data": {
      "text/plain": [
       "'[{\"largest\": \"{\\\\\"name\\\\\":\\\\\"high\\\\\",\\\\\"value\\\\\":1}\"}]'"
      ]
     },
     "execution_count": 70,
     "metadata": {},
     "output_type": "execute_result"
    }
   ],
   "source": [
    "# make a custom tool \n",
    "\n",
    "def get_largest_from_json(json_str, field_name):\n",
    "    d = json.loads(json_str)\n",
    "    df = pd.DataFrame(d).sort_values(field_name, ascending=False)\n",
    "    return [{'largest': df.iloc[0].to_json()}]\n",
    "    \n",
    "\n",
    "tool = BB_agent_tool(\n",
    "    name=\"get_largest_from_json\",\n",
    "    description=\"Given a json string json_str representing a list of objects, and a field name field_name, return the object with the largest value for field_name.\",\n",
    "    openapi_path=None,\n",
    "    callable=get_largest_from_json,\n",
    "    parameters={\n",
    "        \"json_str\": {\n",
    "            \"type\": \"string\",\n",
    "            \"description\": \"a JSON string representing a list of objects\"\n",
    "            },\n",
    "        \"field_name\": {\n",
    "            \"type\": \"string\",\n",
    "            \"description\": \"the field to search for the largest value\"\n",
    "            },\n",
    "        },\n",
    "    example_parameter_values=[{\n",
    "        \"json_str\": '[{\"name\": \"low\", \"value\": 0}, {\"name\": \"high\", \"value\": 1}]',\n",
    "        \"field_name\": 'value'\n",
    "    }],\n",
    ")\n",
    "\n",
    "tool_response = tool(json_str='[{\"name\": \"low\", \"value\": 0}, {\"name\": \"high\", \"value\": 1}]',\n",
    "                    field_name='value')\n",
    "tool_response\n",
    "# len(json.loads(tool_response)[0]['item1'])\n"
   ]
  },
  {
   "cell_type": "code",
   "execution_count": 74,
   "id": "d6991ad6-33d3-4f2a-81e2-97295bb3713c",
   "metadata": {},
   "outputs": [
    {
     "name": "stdout",
     "output_type": "stream",
     "text": [
      "get_equity_search_symbol({'query': 'Merck', 'limit': 10}) -> [{\"symbol\": \"MRK\", \"name\": \"MERCK & CO INC COM\", \"dpm_name\": \"Wolverine Trading, LLC\", \"post_station...\n",
      "get_etf_equity_exposure_json({'symbol': 'MRK'}) -> [{\"equity_symbol\": \"MRK\", \"etf_symbol\": \"VTSAX\", \"shares\": 79663326.0, \"weight\": 0.0066, \"market_val...\n",
      "get_largest_from_json({'json_str': '[{\"equity_symbol\": \"MRK\", \"etf_symbol\": \"VGHAX\", \"shares\": 20479587.0, \"weight\": 0.0571, \"market_value\": 2702281504.65}, {\"equity_symbol\": \"MRK\", \"etf_symbol\": \"VGHCX\", \"shares\": 20479587.0, \"weight\": 0.0571, \"market_value\": 2702281504.65}, {\"equity_symbol\": \"MRK\", \"etf_symbol\": \"VHT\", \"shares\": 8632795.0, \"weight\": 0.0537, \"market_value\": 1139097300.25}, {\"equity_symbol\": \"MRK\", \"etf_symbol\": \"FHLC\", \"shares\": 1275477.0, \"weight\": 0.05393190020000001, \"market_value\": 166934429.76}, {\"equity_symbol\": \"MRK\", \"etf_symbol\": \"IYH\", \"shares\": 1544493.0, \"weight\": 0.0602233, \"market_value\": 200089068.15}, {\"equity_symbol\": \"MRK\", \"etf_symbol\": \"XLV\", \"shares\": 18454434.0, \"weight\": 0.06212315, \"market_value\": 2400183686.04}, {\"equity_symbol\": \"MRK\", \"etf_symbol\": \"HDV\", \"shares\": 3358810.0, \"weight\": 0.0421024, \"market_value\": 435133835.5}]', 'field_name': 'weight'}) -> [{\"largest\": \"{\\\"equity_symbol\\\":\\\"MRK\\\",\\\"etf_symbol\\\":\\\"XLV\\\",\\\"shares\\\":18454434.0,\\\"weight\\\":0.0...\n"
     ]
    },
    {
     "data": {
      "text/markdown": [
       "The ETF with the highest weight in Merck (MRK) is **XLV (Health Care Select Sector SPDR Fund)**, with a weight of **0.0621**."
      ],
      "text/plain": [
       "<IPython.core.display.Markdown object>"
      ]
     },
     "metadata": {},
     "output_type": "display_data"
    }
   ],
   "source": [
    "# write a function to return top 10 etfs with highest weight in company\n",
    "agent_query(client, f\"which ETF has the highest weight in {company} ?\", verbose=False)\n"
   ]
  },
  {
   "cell_type": "code",
   "execution_count": 73,
   "id": "97cb14b9-9785-48ff-bdb4-15d3620ffeec",
   "metadata": {},
   "outputs": [
    {
     "data": {
      "text/plain": [
       "[('get_10k_item1_from_symbol',\n",
       "  \"Given a stock symbol, gets item 1 of the company's latest 10-K annual report filing.\"),\n",
       " ('get_equity_search_symbol',\n",
       "  'Given a search string, get the stock symbol of the top company whose name best matches the search string.'),\n",
       " ('get_company_profile_json',\n",
       "  'Given a stock symbol, get general background data about the company such as company name, industry, and sector data in JSON format'),\n",
       " ('get_equity_shorts_short_interest',\n",
       "  'Given a stock symbol, get data on short volume and days to cover in JSON format.'),\n",
       " ('get_equity_fundamental_historical_splits',\n",
       "  \"Given a stock symbol, get the company's historical stock splits in JSON format.\"),\n",
       " ('get_balance_sheet_json',\n",
       "  'Given a stock symbol, get the latest balance sheet data with assets and liabilities for the company in JSON format.'),\n",
       " ('get_cash_flow_json',\n",
       "  'Given a stock symbol, get the latest cash flow statement data for the company in JSON format.'),\n",
       " ('get_income_statement_json',\n",
       "  'Given a stock symbol, get the latest income statement data for the company in JSON format'),\n",
       " ('get_fundamental_metrics_json',\n",
       "  'Given a stock symbol, get fundamental metrics for the company in JSON format.'),\n",
       " ('get_fundamental_ratios_json',\n",
       "  'Given a stock symbol, get fundamental valuation ratios for the company in JSON format.'),\n",
       " ('get_equity_fundamental_multiples',\n",
       "  'Given a stock symbol, get fundamental valuation multiples for the company in JSON format.'),\n",
       " ('get_equity_fundamental_dividend',\n",
       "  'Given a stock symbol, get the latest dividend data for the company in JSON format.'),\n",
       " ('get_trailing_dividend_yield_json',\n",
       "  'Given a stock symbol, get the 1 year trailing dividend yield for the company over time in JSON format.'),\n",
       " ('get_price_performance_json',\n",
       "  'Given a stock symbol, get price performance data for the stock for different time periods in JSON format.'),\n",
       " ('get_etf_equity_exposure_json',\n",
       "  'Given a stock symbol, get the exposure of ETFs to the stock in JSON format.'),\n",
       " ('get_largest_from_json',\n",
       "  'Given a json string json_str representing a list of objects, and a field name field_name, return the object with the largest value for field_name.')]"
      ]
     },
     "execution_count": 73,
     "metadata": {},
     "output_type": "execute_result"
    }
   ],
   "source": [
    "[(k, t.description) for k, t in BB_agent_tool.agent_registry.items()]"
   ]
  },
  {
   "cell_type": "code",
   "execution_count": 72,
   "id": "dd436159-e0d4-42f2-9313-299b2dbedbc6",
   "metadata": {},
   "outputs": [],
   "source": [
    "del BB_agent_tool.agent_registry['get_largest from json']"
   ]
  },
  {
   "cell_type": "code",
   "execution_count": null,
   "id": "c7a931fb-a8c9-4c55-94eb-256b853ddf07",
   "metadata": {},
   "outputs": [],
   "source": [
    "# for k, t in BB_agent_tool.agent_registry.items():\n",
    "#     print(t.example_code)"
   ]
  },
  {
   "cell_type": "code",
   "execution_count": 68,
   "id": "265ca60e-17ab-4903-bb9f-0b4d2eacf5c9",
   "metadata": {},
   "outputs": [
    {
     "data": {
      "text/plain": [
       "23866"
      ]
     },
     "execution_count": 68,
     "metadata": {},
     "output_type": "execute_result"
    }
   ],
   "source": [
    "len(\" \".join([(t.example_code) for k, t in BB_agent_tool.agent_registry.items()]))"
   ]
  },
  {
   "cell_type": "code",
   "execution_count": null,
   "id": "0606b26a-3435-488d-a519-d8754a09d910",
   "metadata": {},
   "outputs": [],
   "source": []
  }
 ],
 "metadata": {
  "kernelspec": {
   "display_name": "bb_agent",
   "language": "python",
   "name": "bb_agent"
  },
  "language_info": {
   "codemirror_mode": {
    "name": "ipython",
    "version": 3
   },
   "file_extension": ".py",
   "mimetype": "text/x-python",
   "name": "python",
   "nbconvert_exporter": "python",
   "pygments_lexer": "ipython3",
   "version": "3.11.9"
  }
 },
 "nbformat": 4,
 "nbformat_minor": 5
}
