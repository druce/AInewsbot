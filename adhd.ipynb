{
 "cells": [
  {
   "cell_type": "code",
   "execution_count": 1,
   "id": "ed8ac949-09ff-4bf6-b364-f28416cbc60b",
   "metadata": {},
   "outputs": [
    {
     "name": "stdout",
     "output_type": "stream",
     "text": [
      "python          3.9.19\n",
      "numpy           1.26.4\n",
      "pandas          2.2.2\n",
      "seaborn         0.12.2\n",
      "matplotlib      3.8.4\n",
      "openai          1.23.2\n",
      "ydata_profiling v4.7.0\n",
      "ipywidgets      8.0.4\n"
     ]
    }
   ],
   "source": [
    "import io\n",
    "import json\n",
    "import pickle\n",
    "import sys\n",
    "import time\n",
    "from collections import defaultdict\n",
    "from datetime import datetime\n",
    "\n",
    "import dotenv\n",
    "# import ipydatagrid\n",
    "# from ipydatagrid import datagrid\n",
    "import ipywidgets as widgets\n",
    "import matplotlib as mpl\n",
    "import matplotlib.pyplot as plt\n",
    "import numpy as np\n",
    "import openai\n",
    "import pandas as pd\n",
    "\n",
    "# import qgrid\n",
    "import scipy\n",
    "import seaborn as sns\n",
    "import statsmodels.api as sm\n",
    "import ydata_profiling\n",
    "from IPython.display import Image, Markdown, clear_output, display\n",
    "from openai import OpenAI\n",
    "from scipy import stats\n",
    "from scipy.stats import kurtosis, norm, shapiro, skew\n",
    "from ydata_profiling import ProfileReport\n",
    "\n",
    "print(f\"python          {'.'.join(map(str, sys.version_info[:3]))}\")\n",
    "print(f\"numpy           {np.__version__}\")\n",
    "print(f\"pandas          {pd.__version__}\")\n",
    "print(f\"seaborn         {sns.__version__}\")\n",
    "print(f\"matplotlib      {mpl.__version__}\")\n",
    "print(f\"openai          {openai.__version__}\")\n",
    "print(f\"ydata_profiling {ydata_profiling.__version__}\")\n",
    "print(f\"ipywidgets      {widgets.__version__}\")\n",
    "# print(f\"qgrid           {qgrid.__version__}\")\n",
    "# print(f\"ipydatagrid     {ipydatagrid.__version__}\")\n",
    "\n",
    "%matplotlib inline"
   ]
  },
  {
   "cell_type": "code",
   "execution_count": 2,
   "id": "b63fdcbb-862c-485e-abb6-4c60c7e3802f",
   "metadata": {},
   "outputs": [
    {
     "data": {
      "text/plain": [
       "True"
      ]
     },
     "execution_count": 2,
     "metadata": {},
     "output_type": "execute_result"
    }
   ],
   "source": [
    "dotenv.load_dotenv()"
   ]
  },
  {
   "cell_type": "code",
   "execution_count": 3,
   "id": "7301ff29-2752-4553-916c-be75027e7b50",
   "metadata": {},
   "outputs": [],
   "source": [
    "client = OpenAI()"
   ]
  },
  {
   "cell_type": "code",
   "execution_count": 4,
   "id": "d7ae8115-249a-49b2-9605-aa37bc0cfeb7",
   "metadata": {},
   "outputs": [],
   "source": [
    "prompt = \"\"\"\n",
    "I have uploaded a text file called ADHD.txt .\n",
    "\n",
    "You are a college level instructor with deep knowledge of psychology and the ability to explain complex topics in simple terms\n",
    "and in a clear, engaging writing style.\n",
    "\n",
    "Your high-level task is to help create a study guide that will prepare me for reading the book in depth, knowing what to expect, what questions I should think about,\n",
    "and what to keep in mind as I study the text, and summarizing chapters. \n",
    "\n",
    "Assume I am a college graduate or undergraduate who knows little about the topic. Write in a clear, engaging style, simplify technical \n",
    "expositions and descriptions, and define any terms that are not common knowledge.\n",
    "\n",
    "You will only use information contained in the book to answer questions.\n",
    "\n",
    "To start, what are all the chapters in the book?\n",
    "\"\"\""
   ]
  },
  {
   "cell_type": "code",
   "execution_count": 7,
   "id": "017c6f2b-61e3-4240-acb6-9224748917b7",
   "metadata": {},
   "outputs": [
    {
     "name": "stdout",
     "output_type": "stream",
     "text": [
      "FileObject(id='file-fzbwoRP4czMrF3QBSx13CdID', bytes=668974, created_at=1713820888, filename='ADHD.txt', object='file', purpose='assistants', status='processed', status_details=None)\n"
     ]
    }
   ],
   "source": [
    "file1 = client.files.create(file=open(\"ADHD.txt\", \"rb\"), purpose=\"assistants\")\n",
    "print(file1)\n"
   ]
  },
  {
   "cell_type": "code",
   "execution_count": 8,
   "id": "eab59f34-adad-4239-88f6-8ddaf291146d",
   "metadata": {},
   "outputs": [
    {
     "name": "stdout",
     "output_type": "stream",
     "text": [
      "completed\n",
      "FileCounts(cancelled=0, completed=1, failed=0, in_progress=0, total=1)\n"
     ]
    }
   ],
   "source": [
    "# Create a vector store caled \"ADHD text\"\n",
    "vector_store = client.beta.vector_stores.create(name=\"ADHD text\")\n",
    " \n",
    "# Ready the files for upload to OpenAI \n",
    "file_paths = [\"ADHD.txt\"]\n",
    "file_streams = [open(path, \"rb\") for path in file_paths]\n",
    " \n",
    "# Use the upload and poll SDK helper to upload the files, add them to the vector store,\n",
    "# and poll the status of the file batch for completion.\n",
    "file_batch = client.beta.vector_stores.file_batches.upload_and_poll(\n",
    "  vector_store_id=vector_store.id, files=file_streams\n",
    ")\n",
    " \n",
    "# You can print the status and the file counts of the batch to see the result of this operation. \n",
    "print(file_batch.status)\n",
    "print(file_batch.file_counts)"
   ]
  },
  {
   "cell_type": "code",
   "execution_count": 9,
   "id": "67d97e3a-74ee-45a5-9e90-9de95b2033c2",
   "metadata": {},
   "outputs": [],
   "source": [
    "assistant = client.beta.assistants.create(\n",
    "  name=\"ADHD assistant\",\n",
    "  instructions=\"You are a college level instructor with deep knowledge of psychology and the ability to explain complex topics in a clear, engaging style. Use your knowledge base to answer questions about psychology texts.\",\n",
    "  model=\"gpt-4-turbo\",\n",
    "  tools=[{\"type\": \"file_search\"}],\n",
    ")\n"
   ]
  },
  {
   "cell_type": "code",
   "execution_count": 10,
   "id": "ea7c3917-9fe8-4a06-8a12-365b2627d248",
   "metadata": {},
   "outputs": [],
   "source": [
    "assistant = client.beta.assistants.update(\n",
    "  assistant_id=assistant.id,\n",
    "  tool_resources={\"file_search\": {\"vector_store_ids\": [vector_store.id]}},\n",
    ")\n"
   ]
  },
  {
   "cell_type": "code",
   "execution_count": 11,
   "id": "e913b10c-3685-46cf-b55d-54f52cfcdf19",
   "metadata": {},
   "outputs": [
    {
     "data": {
      "text/plain": [
       "Thread(id='thread_h68lQkwQQCnqVZATX4oi6MtM', created_at=1713820911, metadata={}, object='thread', tool_resources=ToolResources(code_interpreter=None, file_search=None))"
      ]
     },
     "execution_count": 11,
     "metadata": {},
     "output_type": "execute_result"
    }
   ],
   "source": [
    "# create a new thread of messages\n",
    "thread = client.beta.threads.create()\n",
    "thread"
   ]
  },
  {
   "cell_type": "code",
   "execution_count": 12,
   "id": "f4ca6ff2-fc9f-4b13-8e8f-1e61353fe59e",
   "metadata": {},
   "outputs": [
    {
     "data": {
      "text/plain": [
       "Message(id='msg_6kT4jCF4zSxHuSL3zaajMfzz', assistant_id=None, attachments=[], completed_at=None, content=[TextContentBlock(text=Text(annotations=[], value='\\nI have uploaded a text file called ADHD.txt .\\n\\nYou are a college level instructor with deep knowledge of psychology and the ability to explain complex topics in simple terms\\nand in a clear, engaging writing style.\\n\\nYour task is to summarize the uploaded text, chapter by chapter.\\n\\nI would like a study guide that will prepare me for reading the book in depth, knowing what to expect, what questions I should think about,\\nand what to keep in mind as a study the text.\\n\\nFor each chapter, provide the title, a brief overview, and bullet points for each of the main sections and points discussed.\\n\\nKey points should include all case studies mentioned, behaviors observed, actions taken and therapeutic outcomes; \\ntheoretical concepts; biological observations; key takeaways and lessons learned in the chapter.\\n\\nThe chapter summary should be between 500 and 1500 words.\\n\\nAssume I am a college graduate or undergraduate who knows little about the topic. Write in a clear, engaging style, simplify technical \\nexpositions and descriptions, and define any terms that are not common knowledge.\\n\\nTo start, what are all the chapters in the book?\\n'), type='text')], created_at=1713820914, incomplete_at=None, incomplete_details=None, metadata={}, object='thread.message', role='user', run_id=None, status=None, thread_id='thread_h68lQkwQQCnqVZATX4oi6MtM')"
      ]
     },
     "execution_count": 12,
     "metadata": {},
     "output_type": "execute_result"
    }
   ],
   "source": [
    "message = client.beta.threads.messages.create(\n",
    "    thread_id=thread.id, \n",
    "    role=\"user\", \n",
    "    content=prompt, \n",
    ")\n",
    "message"
   ]
  },
  {
   "cell_type": "code",
   "execution_count": 13,
   "id": "6e927738-4810-4057-817e-1f78a18deba4",
   "metadata": {},
   "outputs": [],
   "source": [
    "\n",
    "def show_latest_message(client, thread):\n",
    "    \"\"\"display latest message from a thread as markdown\"\"\"\n",
    "\n",
    "    messages = client.beta.threads.messages.list(thread_id=thread.id)\n",
    "\n",
    "    for obj in messages.data[0].content:\n",
    "        if obj.type == \"text\":\n",
    "            display(Markdown(obj.text.value))\n",
    "        elif obj.type == \"image_file\":\n",
    "            image_data = client.files.content(obj.image_file.file_id)\n",
    "            image_data_bytes = image_data.read()\n",
    "            display(Image(data=image_data_bytes))\n",
    "        else:\n",
    "            display(Markdown(obj))\n",
    "    return messages\n",
    "\n",
    "\n",
    "def get_file_ids(client, thread):\n",
    "    \"\"\"get file ids from latest message annotations\"\"\"\n",
    "    messages = client.beta.threads.messages.list(thread_id=thread.id)\n",
    "    file_ids = []\n",
    "    for annotation in messages.data[0].content[0].text.annotations:\n",
    "        file_ids.append(annotation.file_path.file_id)\n",
    "    return file_ids\n",
    "\n",
    "\n",
    "def execute_run(client, assistant, thread, sleeptime=5):\n",
    "    start_time = datetime.now()\n",
    "\n",
    "    run = client.beta.threads.runs.create(\n",
    "        thread_id=thread.id,\n",
    "        assistant_id=assistant.id,\n",
    "        instructions=\"Please address the user as 'my dear reader and friend'. The user has a premium account.\",\n",
    "    )\n",
    "\n",
    "    while True:\n",
    "        run = client.beta.threads.runs.retrieve(thread_id=thread.id, run_id=run.id)\n",
    "        clear_output()\n",
    "        messages = show_latest_message(client, thread)\n",
    "\n",
    "        print(\"Status:     \", run.status)\n",
    "        # print(\"start time: \", start_time.strftime(\"%H:%M:%S\"))\n",
    "        time_now = datetime.now()\n",
    "        print(\"Time :      \", time_now.strftime(\"%H:%M:%S\"))\n",
    "        difference_in_seconds = (time_now - start_time).total_seconds()\n",
    "        print(\"Elapsed:    \", difference_in_seconds, \"seconds\")\n",
    "\n",
    "        if run.status == \"completed\":\n",
    "            break\n",
    "        time.sleep(sleeptime)\n",
    "    return messages\n",
    "\n"
   ]
  },
  {
   "cell_type": "code",
   "execution_count": 14,
   "id": "4b89da12-8c67-4d41-8357-82cb5d5cf4d2",
   "metadata": {},
   "outputs": [
    {
     "data": {
      "text/markdown": [
       "My dear data scientist friend, it appears the text file you've uploaded, \"ADHD.txt,\" does not explicitly list the chapters in a distinct \"Table of Contents\" section. However, from careful examination of the document, I can infer the main chapters and sections included. Here is a summarization of what I gathered regarding the chapters based on the contents:\n",
       "\n",
       "1. **Introduction to the Anchor Edition** - This chapter likely serves as an introduction to the updated edition of the book, discussing new insights and the importance of understanding ADD/ADHD now compared to previous editions .\n",
       "\n",
       "2. **What is Attention Deficit Disorder?** - This chapter probably delves into the definition, symptoms, and general understanding of Attention Deficit Disorder, setting the stage for the detailed discussions that follow .\n",
       "\n",
       "3. **The Child with ADD** - This section likely covers how ADD affects children specifically, including challenges in education and everyday activities, and strategies for management and support .\n",
       "\n",
       "4. **Adult ADD** - Focusing on adults, this chapter possibly explores how ADD manifests in adult life, including workplace challenges and personal relationships .\n",
       "\n",
       "5. **ADD in Couples** - Probably focuses on how ADD affects relationships and partnerships, providing insights and advice on maintaining healthy relationships despite the challenges ADD may bring .\n",
       "\n",
       "6. **ADD and the Family** - This chapter likely examines the impact of ADD on family dynamics, offering advice on communication, understanding, and cooperation within the family setting .\n",
       "\n",
       "7. **Subtypes of ADD** - Discusses the different types of ADD, highlighting the variability of the disorder and its different manifestations .\n",
       "\n",
       "8. **How Do I Know if I Have It? The Steps Toward Diagnosis** - This section likely guides readers through the process of diagnosing ADD, emphasizing the importance of professional assessment and describing typical diagnostic criteria .\n",
       "\n",
       "9. **What Can You Do About It? The Treatment of ADD** - Offers information on treatment options, both medicinal and behavioral strategies, and how to choose the right approach .\n",
       "\n",
       "10. **The Biology of ADD** - Discusses the neurological and biological aspects of ADD, aiming to provide a scientific understanding of the disorder .\n",
       "\n",
       "11. **Appendices and Acknowledgments** - Provides additional resources, acknowledgments, and perhaps supportive information for further reading or contact  .\n",
       "\n",
       "Each of these chapters likely includes a wealth of detailed information, case studies, and practical advice tailored to different aspects and manifestations of ADD. When you proceed to fully read the document, keeping these overarching themes and chapters in mind will help you organize the information and anticipate the key areas of discussion relevant to understanding and managing ADD."
      ],
      "text/plain": [
       "<IPython.core.display.Markdown object>"
      ]
     },
     "metadata": {},
     "output_type": "display_data"
    },
    {
     "name": "stdout",
     "output_type": "stream",
     "text": [
      "Status:      completed\n",
      "Time :       17:22:41\n",
      "Elapsed:     38.478768 seconds\n"
     ]
    }
   ],
   "source": [
    "result = execute_run(client, assistant, thread)\n"
   ]
  },
  {
   "cell_type": "code",
   "execution_count": 15,
   "id": "c82b6df1-8705-4353-a19e-3026a6441040",
   "metadata": {},
   "outputs": [
    {
     "data": {
      "text/markdown": [
       "### Chapter 1: Introduction to the Anchor Edition\n",
       "\n",
       "**Overview:**\n",
       "Chapter 1 of \"ADHD.txt\" titled \"Introduction to the Anchor Edition\" is a compelling prologue written by Edward M. Hallowell, providing a personal and historical context to the understanding and public perception of Attention Deficit Disorder (ADD), now more commonly known as ADHD. This chapter acts as a reflective lens, focusing on the significant shift in the recognition and treatment of ADHD from its initial discovery to modern perceptions and misconceptions.\n",
       "\n",
       "**Main Sections and Key Points Discussed:**\n",
       "\n",
       "- **Historical Context:**\n",
       "  - Hallowell recalls a conversation with Jonathan Galassi about concerns regarding the book's impact, fearing it wouldn't resonate due to public unfamiliarity with ADD .\n",
       "  - The significance of the first edition of \"Driven to Distraction\" published in 1994 is highlighted, reflecting on the large number of sales and the widespread acknowledgment of ADD thereafter .\n",
       "\n",
       "- **Personal Revelation:**\n",
       "  - The chapter details Hallowell's personal revelation and identification with ADD during a lecture in 1981, which he describes as a transformative experience that redirected his professional and personal life .\n",
       "  \n",
       "- **Evolving Understanding and Misconceptions of ADHD:**\n",
       "  - Early misconceptions about ADD are discussed—it was once seen as a childhood disorder predominantly affecting boys, which people outgrew by adulthood .\n",
       "  - The revelation that ADD also affects adults and is not limited by gender, challenging the prevailing views at the time .\n",
       "\n",
       "- **Raising Awareness and Changing Perceptions:**\n",
       "  - The chapter underscores Hallowell’s initiatives in raising awareness about ADD beyond academic circles and into public consciousness through books and discussions .\n",
       "  - It reflects on the changing perceptions of ADD from a misunderstood behavioral issue to a recognized neurological condition .\n",
       "\n",
       "**Case Studies, Behaviors Observed, and Actions Taken:**\n",
       "- **Case Study 1: Dr. Elsie Freeman’s Lecture:**\n",
       "  - Hallowell details how Dr. Freeman's lecture on ADD provided him with a startling personal insight, leading to a passionate professional focus on understanding and treating ADD .\n",
       "\n",
       "**Theoretical Concepts:**\n",
       "- **ADD as a Continuum:**\n",
       "  - The chapter touches on the concept of ADD manifesting variably across different individuals, highlighting the importance of subjective experience in understanding and diagnosing ADD .\n",
       "\n",
       "**Biological Observations:**\n",
       "- **Neurological Insights:**\n",
       "  - Initial insights are given into the biological underpinnings of ADD, implying its complexity and the need for further scientific exploration .\n",
       "\n",
       "**Key Takeaways and Lessons Learned:**\n",
       "- **Evolution of Medical Understanding:**\n",
       "  - Hallowell emphasizes the journey from near-total ignorance of ADD to a broader, more nuanced understanding, acknowledging the ongoing need to educate and destigmatize the condition .\n",
       "- **Personal Growth Through Professional Journey:**\n",
       "  - Reflects on how personal challenges with ADD have enriched Hallowell’s empathy and effectiveness as a psychiatrist specializing in this field .\n",
       "\n",
       "This chapter sets the stage for the reader by elaborating on both the historical context and personal narratives that lead to a better understanding of ADHD. It provides a glimpse into the struggles and triumphs of recognizing and managing ADHD, setting a reflective and educational tone for the subsequent chapters."
      ],
      "text/plain": [
       "<IPython.core.display.Markdown object>"
      ]
     },
     "metadata": {},
     "output_type": "display_data"
    },
    {
     "name": "stdout",
     "output_type": "stream",
     "text": [
      "Status:      completed\n",
      "Time :       17:25:06\n",
      "Elapsed:     38.317251 seconds\n"
     ]
    }
   ],
   "source": [
    "prompt = \"\"\"\n",
    "Please summarize chapter 1. Provide the title, a brief overview, and bullet points for each of the main sections and points discussed.\n",
    "\n",
    "Bullet points should include all case studies mentioned, behaviors observed, actions taken and therapeutic outcomes; \n",
    "theoretical concepts; biological observations; key takeaways and lessons learned in the chapter.\n",
    "\n",
    "The chapter summary should be between 500 and 1500 words.\n",
    "\"\"\"\n",
    "\n",
    "message = client.beta.threads.messages.create(\n",
    "    thread_id=thread.id, \n",
    "    role=\"user\", \n",
    "    content=prompt, \n",
    ")\n",
    "result = execute_run(client, assistant, thread)\n"
   ]
  },
  {
   "cell_type": "code",
   "execution_count": 17,
   "id": "c08a27c6-647a-4b50-9726-38793e4e5ad5",
   "metadata": {},
   "outputs": [
    {
     "data": {
      "text/markdown": [
       "### Chapter 2: What is Attention Deficit Disorder?\n",
       "\n",
       "**Overview:**\n",
       "Chapter 2 provides a comprehensive exploration into the nature, symptoms, and impacts of Attention Deficit Disorder (ADD), now commonly referred to as ADHD. This chapter is a deep dive into understanding the disorder beyond the common stereotypes and misconceptions, detailing the theoretical concepts, symptoms in both children and adults, and a broader understanding of the disorder through various theoretical lenses. It emphasizes the complexity and the individual variability of ADHD.\n",
       "\n",
       "**Main Sections and Key Points Discussed:**\n",
       "\n",
       "- **Definition and Symptoms of ADD:**\n",
       "  - Describes a wide range of symptoms of ADD across different ages and settings, including chronic difficulties like underachievement, disorganization, and procrastination for adults; and symptoms like fidgeting, difficulty remaining seated, and distractibility for children .\n",
       "\n",
       "- **Theoretical Perspectives on ADHD:**\n",
       "  - Presents various theories explaining ADHD, including neurological explanations like underarousal of the brain system and deficits in the motivation system as key factors contributing to the symptoms of ADHD  .\n",
       "  - Discussion on the inhibition and disinhibition models, suggesting that ADHD might involve an inability to stop receiving messages, which portrays ADHD in a less negative light by highlighting the ability of individuals with ADHD to attend to a greater plethora of stimuli .\n",
       "\n",
       "- **Diagnosing ADHD:**\n",
       "  - Stresses the importance of not self-diagnosing and the necessity of a professional evaluation to confirm the diagnosis and rule out other conditions .\n",
       "  \n",
       "- **Case Study: Jim's Story:**\n",
       "  - An illustration of an adult with ADD, Jim, who faces significant personal and professional challenges due to disorganization and lack of focus, highlighting the profound impact on life management and self-perception .\n",
       "  \n",
       "**Theoretical Concepts:**\n",
       "- **Reward Center Activation Theory:**\n",
       "  - Suggests that individuals with ADD may have difficulty with reward-centered activities, impacting learning and behavior modification through feedback mechanisms .\n",
       "\n",
       "**Biological Observations:**\n",
       "- **Neurological Insights on Brain Function and ADD:**\n",
       "  - Discusses neuroanatomical and neurochemical insights that indicate different brain functions in individuals with ADD compared to those without the disorder, emphasizing issues in neural regions responsible for attention and impulse control .\n",
       "\n",
       "**Key Takeaways and Lessons Learned:**\n",
       "- **Reframing ADHD:**\n",
       "  - The chapter pushes for a re-evaluation of ADHD from being considered merely a problematic disorder to understanding its complex implications and the potential strengths it can afford, such as high levels of creativity and hyper-focus capabilities in particular circumstances .\n",
       "- **Importance of Comprehensive Assessment:**\n",
       "  - Highlights the importance of thorough medical and psychological evaluation to understand the full scope of the disorder and its impact on an individual’s life .\n",
       "\n",
       "This chapter helps paint a clearer, more detailed picture of ADD/ADHD by incorporating a blend of case studies, detailed symptoms, theoretical insights, and practical advice for diagnosis and understanding the deeper nuances of the disorder. As you delve further into the book, keep in mind the broader spectrum and individual variability of ADHD as detailed here. This foundational knowledge will assist in grasively understanding subsequent chapters and the various ways ADHD can manifest and impact lives differently."
      ],
      "text/plain": [
       "<IPython.core.display.Markdown object>"
      ]
     },
     "metadata": {},
     "output_type": "display_data"
    },
    {
     "name": "stdout",
     "output_type": "stream",
     "text": [
      "Status:      completed\n",
      "Time :       17:26:10\n",
      "Elapsed:     38.60767 seconds\n"
     ]
    }
   ],
   "source": [
    "prompt = \"\"\"\n",
    "Please summarize chapter 2. Provide the title, a brief overview, and bullet points for each of the main sections and points discussed.\n",
    "\n",
    "Bullet points should include all case studies mentioned, behaviors observed, actions taken and therapeutic outcomes; \n",
    "theoretical concepts; biological observations; key takeaways and lessons learned in the chapter.\n",
    "\n",
    "The chapter summary should be between 500 and 1500 words.\n",
    "\"\"\"\n",
    "\n",
    "message = client.beta.threads.messages.create(\n",
    "    thread_id=thread.id, \n",
    "    role=\"user\", \n",
    "    content=prompt, \n",
    ")\n",
    "result = execute_run(client, assistant, thread)\n"
   ]
  },
  {
   "cell_type": "code",
   "execution_count": 18,
   "id": "d78cabbf-34a5-47ab-83a0-95b1d0c2c505",
   "metadata": {},
   "outputs": [
    {
     "data": {
      "text/markdown": [
       "### Chapter 3: The Child with ADD\n",
       "\n",
       "**Overview:**\n",
       "Chapter 3 delves into the complexities of Attention Deficit Disorder (ADD) as it presents in children. Titled \"The Child with ADD\", this chapter unfolds the multifaceted experiences of children dealing with ADD and the ripple effect it has on families, social interactions, and academic performance. Through poignant case studies and practical tips, it paints a vivid picture of ADD's impact and nuances.\n",
       "\n",
       "**Main Sections and Key Points Discussed:**\n",
       "\n",
       "- **Understanding ADD in Children:**\n",
       "  - Discusses the prevalence of ADD in children, estimating about 5% of school-age children are affected, many of whom remain undiagnosed or misdiagnosed due to the subtlety of symptoms .\n",
       "\n",
       "- **Case Studies and Observations:**\n",
       "  - **Max's and Will's Stories:** Provides insight into how undiagnosed ADD can lead to significant behavioral and self-esteem issues as children struggle to meet social and academic expectations. These cases highlight how ADD manifests across different stages of child development and its potential for misinterpretation as mere behavioral problems【16:3†source】【16:4†source】.\n",
       "\n",
       "- **Psychotherapy and Coaching Tips:**\n",
       "  - Offers advice on how psychotherapy and coaching can help in understanding and addressing both the emotional and neurological aspects of ADD. The text emphasizes individualized therapy approaches to cater to the unique circumstances of each child【16:0†source】.\n",
       "\n",
       "- **Structural and Practical Guidance for Parents:**\n",
       "  - The chapter provides detailed strategies, like using lists, schedules, and structured routines, to help children manage the daily challenges posed by ADD【16:0†source】.\n",
       "  - Special focus is given to the importance of honesty and clear communication about the condition to both the child and their social environment, aiming to reduce stigma and misunderstanding【16:0†source】【16:5†source】.\n",
       "\n",
       "**Key Takeaways and Lessons Learned:**\n",
       "\n",
       "- **The Importance of Early Diagnosis:**\n",
       "  - Early recognition and diagnosis are crucial in managing the secondary symptoms of ADD, such as low self-esteem and depression, which develop when primary symptoms go unrecognized【16:3†source】.\n",
       "\n",
       "- **Acknowledging ADD's Impact Beyond the Individual:**\n",
       "  - ADD's impact extends beyond the individual to family dynamics, sometimes being a source of conflict and misunderstanding. This understanding is crucial for creating supportive environments that foster better outcomes for children with ADD【16:3†source】【16:8†source】.\n",
       "\n",
       "- **Normalization and Education:**\n",
       "  - Advocates for normalizing ADD through education, explaining the condition openly to peers to foster a supportive community, and providing clear, non-stigmatized explanations of why certain children receive different treatment or accommodations【16:5†source】.\n",
       "\n",
       "This chapter serves as a thorough examination of how ADD affects children, encapsulating the direct challenges and peripheral impacts. Equipped with this understanding, educators, parents, and caretakers can develop more empathetic and effective approaches to support children with ADD. Incorporating the lessons and strategies from this chapter will aid in minimizing the adversities faced by these children while maximizing their growth and development in various aspects of life."
      ],
      "text/plain": [
       "<IPython.core.display.Markdown object>"
      ]
     },
     "metadata": {},
     "output_type": "display_data"
    },
    {
     "name": "stdout",
     "output_type": "stream",
     "text": [
      "Status:      completed\n",
      "Time :       17:26:44\n",
      "Elapsed:     33.832937 seconds\n"
     ]
    }
   ],
   "source": [
    "prompt = \"\"\"\n",
    "Please summarize chapter 3. Provide the title, a brief overview, and bullet points for each of the main sections and points discussed.\n",
    "\n",
    "Bullet points should include all case studies mentioned, behaviors observed, actions taken and therapeutic outcomes; \n",
    "theoretical concepts; biological observations; key takeaways and lessons learned in the chapter.\n",
    "\n",
    "The chapter summary should be between 500 and 1500 words.\n",
    "\"\"\"\n",
    "\n",
    "message = client.beta.threads.messages.create(\n",
    "    thread_id=thread.id, \n",
    "    role=\"user\", \n",
    "    content=prompt, \n",
    ")\n",
    "result = execute_run(client, assistant, thread)"
   ]
  },
  {
   "cell_type": "code",
   "execution_count": 19,
   "id": "b9ebf46d-0019-492a-be2e-96deae92c01b",
   "metadata": {},
   "outputs": [
    {
     "data": {
      "text/markdown": [
       "### Chapter 4: Adult ADD\n",
       "\n",
       "**Overview:**\n",
       "Chapter 4 offers a comprehensive exploration of Attention Deficit Disorder (ADD) as it manifests in adults, highlighting the complexities and varied presentations of the condition beyond childhood. This chapter, titled \"Adult ADD,\" delves into the symptoms, challenges, and empirical understandings of ADD in adults, paired with insightful case studies that shed light on the real-life implications of living with this condition.\n",
       "\n",
       "**Main Sections and Key Points Discussed:**\n",
       "\n",
       "- **Symptoms of Adult ADD:**\n",
       "  - Enumerates typical symptoms seen in adults with ADD, such as difficulty getting organized, chronic procrastination, seeking high stimulation, and impulsivity【20:0†ADHD.txt】.\n",
       "  - Moods, depression, self-esteem issues, and self-image are also touched upon as part of the symptomatology. In adults, these problems often stem from lifelong frustrations and failures associated with ADD【20:0†ADHD.txt】.\n",
       "\n",
       "- **Behavioral and Emotional Expressions:**\n",
       "  - The text illustrates how adults with ADD exhibit a consistent pattern of behavior seeking novelty and high stimulation due to low frustration tolerance and boredom【20:4†ADHD.txt】.\n",
       "  - It discusses impulsiveness in action, such as impulsive spending, and the need for external stimulation to maintain focus【20:0†ADHD.txt】【20:4†ADHD.txt】.\n",
       "\n",
       "- **Diagnostic Criteria and Challenges:**\n",
       "  - Reflects on the difficulties of diagnosing ADD in adults due to the internal and subjective nature of many symptoms and the lack of validated diagnostic criteria similar to those available for children【20:0†ADHD.txt】.\n",
       "\n",
       "- **Case Studies and Personal Narratives:**\n",
       "  - Features stories from various adults who struggle with ADD, like Elizabeth, who dealt with unrecognized ADD alongside dyslexia, and Harry, who reflected on his challenging school years from an adult perspective【20:9†ADHD.txt】.\n",
       "\n",
       "**Theoretical Concepts:**\n",
       "- **Perceptive Complexity of Adult ADD:**\n",
       "  - Discusses how ADD in adults is not merely a deficit of attention but rather a complex interplay of over-reactive and under-reactive cognitive processes【20:0†ADHD.txt】.\n",
       "\n",
       "**Biological Observations:**\n",
       "- **Neurobiological Underpinnings:**\n",
       "  - Highlights ongoing research indicating a biological basis for ADD, such as differences in brain energy consumption and responses to stimulant medication【20:0†ADHD.txt】.\n",
       "\n",
       "**Key Takeaways and Lessons Learned:**\n",
       "- **Implications of Misdiagnosis or Non-Diagnosis:**\n",
       "  - Stresses the importance of accurate diagnosis and understanding, noting that many adults with ADD continue to face significant challenges due to misdiagnosis or non-recognition of their condition【20:0†ADHD.txt】.\n",
       "- **Strategies for Management:**\n",
       "  - Suggests strategies for managing ADD symptoms, such as breaking tasks into smaller parts, using deadlines, and creating environments conducive to concentration【20:0†ADHD.txt】.\n",
       "\n",
       "This chapter provides an in-depth look at the struggles and strategies associated with adult ADD, making it invaluable for individuals who suspect they might have ADD, as well as for clinicians focusing on adult patients. Understanding the nuanced manifestations and handling them with appropriate therapies and life adjustments forms a crucial aspect of dealing with Adult ADD."
      ],
      "text/plain": [
       "<IPython.core.display.Markdown object>"
      ]
     },
     "metadata": {},
     "output_type": "display_data"
    },
    {
     "name": "stdout",
     "output_type": "stream",
     "text": [
      "Status:      completed\n",
      "Time :       17:27:18\n",
      "Elapsed:     34.66646 seconds\n"
     ]
    }
   ],
   "source": [
    "prompt = \"\"\"\n",
    "Please summarize chapter 4. Provide the title, a brief overview, and bullet points for each of the main sections and points discussed.\n",
    "\n",
    "Bullet points should include all case studies mentioned, behaviors observed, actions taken and therapeutic outcomes; \n",
    "theoretical concepts; biological observations; key takeaways and lessons learned in the chapter.\n",
    "\n",
    "The chapter summary should be between 500 and 1500 words.\n",
    "\"\"\"\n",
    "\n",
    "message = client.beta.threads.messages.create(\n",
    "    thread_id=thread.id, \n",
    "    role=\"user\", \n",
    "    content=prompt, \n",
    ")\n",
    "result = execute_run(client, assistant, thread)\n"
   ]
  },
  {
   "cell_type": "code",
   "execution_count": 20,
   "id": "b9069b69-cdd7-449c-9b85-c712c96d0118",
   "metadata": {},
   "outputs": [
    {
     "data": {
      "text/markdown": [
       "### Chapter 5: ADD in Couples\n",
       "\n",
       "**Overview:**\n",
       "Chapter 5 delves into the nuanced dynamics of relationships where one or both partners have Attention Deficit Disorder (ADD). Titled \"ADD in Couples,\" this chapter unpacks how ADD impacts alliances, offering practical advice, illustrating challenges through case studies, and striving to normalize and treat the complexities of maintaining romantic relationships influenced by ADD. This thorough examination provides not only insights but also tools to help couples where ADD is present navigate their partnership with understanding and compassion.\n",
       "\n",
       "**Main Sections and Key Points Discussed:**\n",
       "\n",
       "- **Coping with ADD in a Relationship:**\n",
       "  - Emphasizes the importance of a correct diagnosis of ADD before beginning any treatment and the benefits of understanding the disorder profoundly through literature and education .\n",
       "  - Encourages maintaining a sense of humor about the peculiarities that may arise from ADD-related behaviors, suggesting that laughter serves as a crucial coping mechanism .\n",
       "\n",
       "- **Communication Strategies:**\n",
       "  - Underlines the necessity of setting dedicated time for discussions about ADD, its effects on the relationship, and mutual feelings, to avoid communication during distracted or inappropriate times .\n",
       "  - Advises partners to be open and honest about their feelings and difficulties pertaining to ADD symptoms in the relationship, using written communication if needed to facilitate memory and clarity .\n",
       "\n",
       "- **Managing ADD’s Impact on Intimacy and Lifestyle:**\n",
       "  - Discusses strategies such as truces, structured dialogues, making treatment plans together, and following them diligently to manage ADD symptoms in the relationship context .\n",
       "  - Warns against typical dysfunctional dynamics like blame games, and controlling versus submissive behaviors, advising couples to strive for balance and understanding 【24:3†source】【24:4†source】.\n",
       "\n",
       "- **Sexuality and Relationship Satisfaction:**\n",
       "  - Covers the often-overlooked impact of ADD on sexual relationships, revealing how distractibility or hyperfocus on intense stimulation (including sexual encounters) can affect intimacy【24:5†source】 .\n",
       "  - Shares a poignant personal account from a forty-two-year-old woman who, upon being diagnosed with ADD and undergoing treatment, experienced significant improvements in her sexual relationship and self-perception【24:5†source】.\n",
       "\n",
       "**Theoretical Concepts:**\n",
       "- **Dynamics of Control and Submission in ADD Couples:**\n",
       "  - The chapter explains how ADD can influence relationship dynamics, often leading to dominant-submissive roles which can exacerbate the challenges couples face【24:4†source】.\n",
       "\n",
       "**Biological Observations:**\n",
       "- None explicitly mentioned, but general references to the neurological underpinnings of ADD affecting behavior and emotional responses in relationships.\n",
       "\n",
       "**Key Takeaways and Lessons Learned:**\n",
       "- **Emphasizing Mutual Support and Understanding:**\n",
       "  - Stressing the role of empathy, mutual support, and structure in the relationship, aiding couples to work together against the disorder rather than against each other【24:4†source】.\n",
       "- **Non-Relinquishing Responsibility:**\n",
       "  - It is crucial for both partners within ADD-impacted relationships to take responsibility for their actions and not to use ADD as an excuse, whilst leveraging understanding of the disorder to enhance relational dynamics【24:4†source】【24:4†source】.\n",
       "\n",
       "This chapter offers a candid and actionable guide for couples dealing with ADD in one or both partners. By focusing on communication, empathy, and practical strategies to manage ADD symptoms within the relationship, the chapter provides valuable insights that can transform challenges into shared responsibilities and understanding."
      ],
      "text/plain": [
       "<IPython.core.display.Markdown object>"
      ]
     },
     "metadata": {},
     "output_type": "display_data"
    },
    {
     "name": "stdout",
     "output_type": "stream",
     "text": [
      "Status:      completed\n",
      "Time :       17:27:59\n",
      "Elapsed:     40.31187 seconds\n"
     ]
    }
   ],
   "source": [
    "prompt = \"\"\"\n",
    "Please summarize chapter 5. Provide the title, a brief overview, and bullet points for each of the main sections and points discussed.\n",
    "\n",
    "Bullet points should include all case studies mentioned, behaviors observed, actions taken and therapeutic outcomes; \n",
    "theoretical concepts; biological observations; key takeaways and lessons learned in the chapter.\n",
    "\n",
    "The chapter summary should be between 500 and 1500 words.\n",
    "\"\"\"\n",
    "\n",
    "message = client.beta.threads.messages.create(\n",
    "    thread_id=thread.id, \n",
    "    role=\"user\", \n",
    "    content=prompt, \n",
    ")\n",
    "result = execute_run(client, assistant, thread)\n"
   ]
  },
  {
   "cell_type": "code",
   "execution_count": 21,
   "id": "4b29e9f4-6279-48ed-a5c9-6ad128797b4b",
   "metadata": {},
   "outputs": [
    {
     "data": {
      "text/markdown": [
       "### Chapter 6: ADD and the Family\n",
       "\n",
       "**Overview:**\n",
       "Chapter 6, \"ADD and the Family,\" addresses the effects of Attention Deficit Disorder (ADD) on family dynamics. It explores how ADD impacts not just the individual diagnosed but the entire family structure, creating challenges that require unified efforts to manage effectively. This chapter highlights practical approaches to fostering understanding and cooperation in families dealing with ADD, mitigating its strain on relationships.\n",
       "\n",
       "**Main Sections and Key Points Discussed:**\n",
       "\n",
       "- **Family Dynamics and ADD:**\n",
       "  - Detailed discussion on how ADD impacts daily family interactions, affecting routines and emotional exchanges among family members【28:0†source】.\n",
       "  - Insights into the \"Big Struggle,\" a common family conflict scenario where misunderstandings around ADD behaviors lead to entrenched battles of wills and negative interactions【28:0†source】.\n",
       "\n",
       "- **Strategies for Managing ADD in the Family:**\n",
       "  - Importance of understanding and empathy within the family to improve coping strategies and reduce conflicts【28:0†source】.\n",
       "  - Emphasizes on negotiation and the role of family therapy to help manage interpersonal dynamics affected by ADD【28:0†source】【28:10†source】.\n",
       "\n",
       "- **Sibling Relationships and ADD:**\n",
       "  - Discussion of how siblings of children with ADD may feel neglected or overshadowed, leading to resentment and imbalanced family attention【28:0†source】.\n",
       "\n",
       "- **Improving Family Communication and Understanding:**\n",
       "  - Encourages clear communication about ADD within the family to ensure each member understands the challenges and behaviors associated with the disorder【28:0†source】.\n",
       "  - Advocates for using educational sessions, family therapy, and open discussions to facilitate better understanding and teamwork amongst family members【28:10†source】.\n",
       "\n",
       "**Case Studies and Behavioral Observations:**\n",
       "- Real-life examples discussed in the text to illustrate typical scenarios and effective responses within families dealing with ADD, helping to highlight practical solutions and preventative measures【28:0†source】.\n",
       "\n",
       "**Theoretical Concepts:**\n",
       "- The chapter does not delve deeply into new theoretical concepts but reinforces existing understandings of how ADD affects familial relationships and dynamics.\n",
       "\n",
       "**Biological Observations:**\n",
       "- Minimal focus on biological details in this chapter, with more emphasis on practical and psychological approaches.\n",
       "\n",
       "**Key Takeaways and Lessons Learned:**\n",
       "- **Crucial Role of Empathy and Understanding:**\n",
       "  - Highlights the necessity of empathy from all family members towards the individual with ADD; understanding the nature of ADD can dramatically reduce familial tension and conflict【28:0†source】.\n",
       "- **Active Engagement in Solutions:**\n",
       "  - Urges families to actively engage in creating and maintaining strategies to manage ADD, suggesting that cooperation can lead to effective management of the disorder【28:0†source】.\n",
       "- **Avoidance of Blame and Stigma:**\n",
       "  - Advises families to avoid blaming behaviors on character flaws, recognizing them instead as symptoms of ADD, which can prevent scapegoating and reduce emotional distress【28:0†source】.\n",
       "\n",
       "This chapter offers a guide on navigating the complexities of ADD within family systems, providing strategies for maintaining a balanced and supportive environment. By fostering understanding and cooperation, families can mitigate the impact of ADD on their relationships and overall family well-being."
      ],
      "text/plain": [
       "<IPython.core.display.Markdown object>"
      ]
     },
     "metadata": {},
     "output_type": "display_data"
    },
    {
     "name": "stdout",
     "output_type": "stream",
     "text": [
      "Status:      completed\n",
      "Time :       17:28:44\n",
      "Elapsed:     44.665692 seconds\n"
     ]
    }
   ],
   "source": [
    "prompt = \"\"\"\n",
    "Please summarize chapter 6. Provide the title, a brief overview, and bullet points for each of the main sections and points discussed.\n",
    "\n",
    "Bullet points should include all case studies mentioned, behaviors observed, actions taken and therapeutic outcomes; \n",
    "theoretical concepts; biological observations; key takeaways and lessons learned in the chapter.\n",
    "\n",
    "The chapter summary should be between 500 and 1500 words.\n",
    "\"\"\"\n",
    "\n",
    "message = client.beta.threads.messages.create(\n",
    "    thread_id=thread.id, \n",
    "    role=\"user\", \n",
    "    content=prompt, \n",
    ")\n",
    "result = execute_run(client, assistant, thread)\n"
   ]
  },
  {
   "cell_type": "code",
   "execution_count": 22,
   "id": "ba39cda3-ce5b-4c45-9fdc-4793304a050a",
   "metadata": {},
   "outputs": [
    {
     "data": {
      "text/markdown": [
       "### Chapter 7: Subtypes of ADD\n",
       "\n",
       "**Overview:**\n",
       "Chapter 7 extensively enumerates and describes various subtypes of Attention Deficit Disorder (ADD), introducing a broader spectrum of how the disorder manifests in individuals than the binary classification typically acknowledged by formal diagnostics. Leveraging years of clinical experience, the chapter categorizes these subtypes to better reflect the diverse ways in which symptoms can present, and hence, offer more tailored interventions.\n",
       "\n",
       "**Main Sections and Key Points Discussed:**\n",
       "\n",
       "- **Complexity of ADD Subtypes:**\n",
       "  - Explains the motivation for identifying subtypes beyond those officially recognized, which include mainly ADD with hyperactivity, and ADD without hyperactivity【32:0†ADHD.txt】.\n",
       "  - Each subtype reflects different symptom emphasis and experiences, affecting treatment approaches and patient self-understanding【32:0†ADHD.txt】.\n",
       "\n",
       "- **Described Subtypes of ADD Including:**\n",
       "  - **ADD without Hyperactivity:** Discusses individuals who are generally quieter, often labeled as daydreamers, who experience significant distractibility without the external hyperactivity typically associated with ADD【32:0†ADHD.txt】.\n",
       "  - **ADD with Anxiety:** Profiles a subtype where anxiety dominates the presentation, describing how individuals often use worry as a coping mechanism to avoid internal chaos【32:2†ADHD.txt】.\n",
       "  - **ADD with Depression:** Characterizes individuals dealing with both chronic frustration and depression, exploring how lifelong personal and academic struggles contribute to the condition【32:3†ADHD.txt】.\n",
       "  - **ADD and Other Learning Disorders:** Introduces the overlap of ADD with conditions like dyslexia and specific learning disabilities, emphasizing that such compounding factors intensify cognitive challenges【32:4†ADHD.txt】.\n",
       "  - **High-Risk or 'High-Stim' ADD:** Identifies individuals who seek highly stimulating environments to manage their symptoms, proposing that this need for external stimulation is intrinsic to their subtype of ADD【32:6†ADHD.txt】.\n",
       "\n",
       "**Theoretical Concepts:**\n",
       "- **Concept of Inhibition versus Disinhibition:** A significant portion of the chapter explores the theory that ADD is less about a lack of attention and more about difficulties in inhibiting attention to unnecessary stimuli, suggesting that those with ADD can process more stimuli than average individuals, but at the cost of focus and often, psychological comfort【32:6†ADHD.txt】.\n",
       "\n",
       "**Key Takeaways and Lessons Learned:**\n",
       "- **Broadening Diagnostic Categories:** The chapter advocates for greater recognition and utilization of these subtypes in clinical practice to enable more personalized and effective treatments and better patient outcomes.\n",
       "- **Understanding and Managing Diverse Manifestations of ADD:** Acknowledges that understanding the specific subtype of ADD can significantly change management strategies, improving both quality of life and functional outcomes for individuals【32:0†ADHD.txt】.\n",
       "\n",
       "This chapter's detailed classification provides an in-depth understanding of the varying manifestations of ADD, offering a nuanced perspective that challenges the traditional view of ADD as a uniform disorder. This empowers clinicians and patients alike to adopt a more individualized approach in managing and relating to the disorder."
      ],
      "text/plain": [
       "<IPython.core.display.Markdown object>"
      ]
     },
     "metadata": {},
     "output_type": "display_data"
    },
    {
     "name": "stdout",
     "output_type": "stream",
     "text": [
      "Status:      completed\n",
      "Time :       17:29:19\n",
      "Elapsed:     34.376114 seconds\n"
     ]
    }
   ],
   "source": [
    "prompt = \"\"\"\n",
    "Please summarize chapter 7. Provide the title, a brief overview, and bullet points for each of the main sections and points discussed.\n",
    "\n",
    "Bullet points should include all case studies mentioned, behaviors observed, actions taken and therapeutic outcomes; \n",
    "theoretical concepts; biological observations; key takeaways and lessons learned in the chapter.\n",
    "\n",
    "The chapter summary should be between 500 and 1500 words.\n",
    "\"\"\"\n",
    "\n",
    "message = client.beta.threads.messages.create(\n",
    "    thread_id=thread.id, \n",
    "    role=\"user\", \n",
    "    content=prompt, \n",
    ")\n",
    "result = execute_run(client, assistant, thread)\n"
   ]
  },
  {
   "cell_type": "code",
   "execution_count": 23,
   "id": "b3aacf43-281d-4838-829e-b8fdcdc69e7c",
   "metadata": {},
   "outputs": [
    {
     "data": {
      "text/markdown": [
       "### Chapter 8: How Do I Know if I Have It? The Steps Toward Diagnosis\n",
       "\n",
       "**Overview:**\n",
       "Chapter 8 addresses the critical steps and considerations involved in diagnosing Attention Deficit Disorder (ADD), casting light on both the process and the challenges associated with it. Titled \"How Do I Know if I Have It? The Steps Toward Diagnosis,\" this chapter outlines the importance of a thorough and comprehensive history-taking, the pitfalls of self-diagnosis, and stresses the subjectivity in demarcating the boundaries of normal and abnormal when it comes to ADD.\n",
       "\n",
       "**Main Sections and Key Points Discussed:**\n",
       "\n",
       "- **The Subjectivity of Diagnosing ADD:**\n",
       "  - The chapter begins by highlighting the inherently arbitrary nature of where the line between normal behavior and ADD is drawn, emphasizing the challenge of defining what is 'normal'【36:0†ADHD.txt】.\n",
       "\n",
       "- **Historical and Collaborative Diagnosis:**\n",
       "  - The importance of personal medical history as the most crucial element in diagnosing ADD is stressed. This includes recalling life experiences and symptoms, which are then confirmed or expanded upon by others close to the individual, such as family members or teachers【36:0†ADHD.txt】.\n",
       "  - For reliability, the history should ideally be corroborated by another person since individuals with ADD may not always be the best self-observers【36:0†ADHD.txt】.\n",
       "\n",
       "- **Looking Beyond ADD:**\n",
       "  - It is vital to ensure that other possible conditions are ruled out before confirming a diagnosis of ADD. This section lists various conditions that may resemble or coexist with ADD, necessitating a comprehensive evaluation by a physician【36:6†ADHD.txt】.\n",
       "\n",
       "**Key Behavioral Examples and Potential Misdiagnoses:**\n",
       "- **Case Study Illustration:**\n",
       "  - An adult named Andrea, who was wrongly diagnosed initially leading to unnecessary complications, highlights the importance of a proper diagnosis and the harmful consequences of misdiagnosis【36:16†ADHD.txt】.\n",
       "  \n",
       "**Key Takeaways and Lessons Learned:**\n",
       "- **Critical Nature of Professional Evaluation:**\n",
       "  - The need for professional, experienced evaluation is emphasized throughout the chapter to avoid the serious risks of self-diagnosis and to ensure an accurate assessment of ADD versus normal responses to life’s stressors or other medical conditions【36:0†ADHD.txt】【36:8†ADHD.txt】.\n",
       "\n",
       "- **Comprehensive Approach to Diagnosis:**\n",
       "  - A combination of thorough history-taking, corroborative accounts, and rule-out of other conditions forms the foundation of a sound diagnostic process. This helps capture the complexity of ADD and its impact on the individual's functioning【36:6†ADHD.txt】.\n",
       "\n",
       "This chapter serves as a crucial guide for individuals suspecting they have ADD, as well as for medical professionals. It underscores the intricacies of diagnosing ADD, the central role of detailed medical histories, and the importance of a medically informed, collaborative approach. For anyone navigating the complexities of symptoms that might suggest ADD, this chapter provides a clear protocol emphasizing careful, professional evaluation over self-diagnosis."
      ],
      "text/plain": [
       "<IPython.core.display.Markdown object>"
      ]
     },
     "metadata": {},
     "output_type": "display_data"
    },
    {
     "name": "stdout",
     "output_type": "stream",
     "text": [
      "Status:      completed\n",
      "Time :       17:29:53\n",
      "Elapsed:     33.989454 seconds\n"
     ]
    }
   ],
   "source": [
    "prompt = \"\"\"\n",
    "Please summarize chapter 8. Provide the title, a brief overview, and bullet points for each of the main sections and points discussed.\n",
    "\n",
    "Bullet points should include all case studies mentioned, behaviors observed, actions taken and therapeutic outcomes; \n",
    "theoretical concepts; biological observations; key takeaways and lessons learned in the chapter.\n",
    "\n",
    "The chapter summary should be between 500 and 1500 words.\n",
    "\"\"\"\n",
    "\n",
    "message = client.beta.threads.messages.create(\n",
    "    thread_id=thread.id, \n",
    "    role=\"user\", \n",
    "    content=prompt, \n",
    ")\n",
    "result = execute_run(client, assistant, thread)\n"
   ]
  },
  {
   "cell_type": "code",
   "execution_count": 24,
   "id": "a8b6bc61-2bad-4e71-885d-8e50cb0184b5",
   "metadata": {},
   "outputs": [
    {
     "data": {
      "text/markdown": [
       "### Chapter 9: What Can You Do About It? The Treatment of ADD\n",
       "\n",
       "**Overview**\n",
       "Chapter 9 delves deep into various treatments and management strategies for Attention Deficit Disorder (ADD). Titled \"What Can You Do About It? The Treatment of ADD,\" it outlines a multidimensional approach that encompasses diagnosis, education, structuring, coaching or psychotherapy, medication, and practical management tips. Detailed case studies enhance the explanation of treatment effectiveness and the real-life implications of each strategy.\n",
       "\n",
       "**Main Sections and Key Points Discussed:**\n",
       "\n",
       "- **Diagnosis and Initial Relief:**\n",
       "  - Emphasizes diagnosis as the crucial first step in treatment, bringing significant relief and setting the stage for effective management of ADD【40:0†ADHD.txt】.\n",
       "\n",
       "- **Educational Importance:**\n",
       "  - Highlights the pivotal role of education about ADD for patients, enabling better personal management and the ability to inform others【40:0†ADHD.txt】.\n",
       "\n",
       "- **Structuring Everyday Life:**\n",
       "  - Discusses the necessity of external structuring and organization aids such as lists, reminders, and schedules to combat the chaos of ADD and enhance productivity【40:0†ADHD.txt】.\n",
       "\n",
       "- **Coaching and Psychotherapy:**\n",
       "  - Details the benefits of coaching and psychotherapy in fostering a supportive and structured environment that can guide personal growth and self-management【40:0†ADHD.txt】.\n",
       "\n",
       "- **Medication as a Treatment:**\n",
       "  - Describes various medications that correct symptoms by addressing chemical imbalances in the brain. While not a standalone solution, proper medication can significantly reduce symptoms and enhance quality of life【40:0†ADHD.txt】.\n",
       "\n",
       "**Key Behavioral Examples and Therapeutic Outcomes:**\n",
       "\n",
       "- **Case Study - Jim:**\n",
       "  - A case where combined psychotherapy and medication provided substantial improvement in life management and professional achievement【40:0†ADHD.txt】.\n",
       "\n",
       "- **Case Study - Maria:**\n",
       "  - An example of a patient who benefited markedly from a structured therapy approach, allowing her to utilize her strengths and manage her symptoms effectively【40:4†ADHD.txt】.\n",
       "\n",
       "**Key Takeaways and Lessons Learned:**\n",
       "\n",
       "- **Comprehensive Treatment Approach:**\n",
       "  - Stresses the importance of a comprehensive approach that includes medication as part of a broader treatment strategy. The inclusion of education, therapeutic support, and structured management techniques is critical for long-term management of ADD【40:0†ADHD.txt】.\n",
       "\n",
       "- **Role of Medication:**\n",
       "  - Clarifies that while medication is crucial, it should always be closely monitored and never viewed as the sole treatment option. It should be combined with psychotherapeutic interventions and educational efforts for optimal results【40:0†ADHD.txt】.\n",
       "\n",
       "- **Empowerment Through Education:**\n",
       "  - Educating the patient about ADD empowers them to take active roles in their treatment processes, fostering better outcomes and improving overall life satisfaction【40:0†ADHD.txt】.\n",
       "\n",
       "This chapter robustly sums up the diverse methodologies available for managing and treating ADD. By understanding and implementing these strategies, individuals with ADD can achieve better control over their symptoms and lead more organized and fulfilling lives."
      ],
      "text/plain": [
       "<IPython.core.display.Markdown object>"
      ]
     },
     "metadata": {},
     "output_type": "display_data"
    },
    {
     "name": "stdout",
     "output_type": "stream",
     "text": [
      "Status:      completed\n",
      "Time :       17:30:33\n",
      "Elapsed:     40.540054 seconds\n"
     ]
    }
   ],
   "source": [
    "prompt = \"\"\"\n",
    "Please summarize chapter 9. Provide the title, a brief overview, and bullet points for each of the main sections and points discussed.\n",
    "\n",
    "Bullet points should include all case studies mentioned, behaviors observed, actions taken and therapeutic outcomes; \n",
    "theoretical concepts; biological observations; key takeaways and lessons learned in the chapter.\n",
    "\n",
    "The chapter summary should be between 500 and 1500 words.\n",
    "\"\"\"\n",
    "\n",
    "message = client.beta.threads.messages.create(\n",
    "    thread_id=thread.id, \n",
    "    role=\"user\", \n",
    "    content=prompt, \n",
    ")\n",
    "result = execute_run(client, assistant, thread)\n"
   ]
  },
  {
   "cell_type": "code",
   "execution_count": 25,
   "id": "ef25d1fd-d61e-4756-84dd-544633b8b022",
   "metadata": {},
   "outputs": [
    {
     "data": {
      "text/markdown": [
       "### Chapter 10: The Biology of ADD\n",
       "\n",
       "**Overview:**\n",
       "Chapter 10, titled \"The Biology of ADD,\" elucidates the neurobiological underpinnings of Attention Deficit Disorder (ADD), offering a comprehensive look into the physiological and genetic factors contributing to the disorder. It navigates through historic and current research, shedding light on how biological dysfunctions correlate with the symptomatic expressions of ADD.\n",
       "\n",
       "**Main Sections and Key Points Discussed:**\n",
       "\n",
       "- **Neurobiological Insights:**\n",
       "  - Discussion of glucose metabolism in ADD-affected brains, particularly noting reduced uptake in the prefrontal and premotor regions, crucial areas regulating behavior, impulse control, and attention using PET scan techniques  .\n",
       "  - Claims supported by historic researches like Dr. Alan Zametkin’s studies at the National Institutes of Mental Health, which demonstrated conspicuous differences in glucose metabolism between control subjects and those with ADD 【44:0†ADHD.txt】.\n",
       "\n",
       "- **The Frontal Lobe Hypothesis:**\n",
       "  - Outlines the \"frontal lobe hypothesis,\" which describes ADD symptoms as resulting from lacking inhibition (disinhibition) in the frontal lobes, effectively leading to hyperactivity and impulsiveness seen in many with ADD 【44:1†ADHD.txt】.\n",
       "\n",
       "- **Current Research Advancements:**\n",
       "  - Recent findings suggest a potential regulatory role of dopamine in the overall output of the cortex, affecting impulse control, attention, and learning abilities 【44:15†ADHD.txt】.\n",
       "  - Sampling a broader research on the subject, the chapter highlights challenges in fully unravelling the multifaceted nature of the ADD due to its complex genetics and neurochemistry 【44:15†ADHD.txt】.\n",
       "\n",
       "**Key Theoretical and Biological Concepts:**\n",
       "- **Arousal Theory vs. Inhibition Theory:**\n",
       "  - Introduces various conceptual frameworks including theories of under-arousal of the brain requiring heightened stimuli for attention (Optimal-arousal Theory) and disinhibition within the brain leading to over-processing of external stimuli 【44:8†ADHD.txt】.\n",
       "\n",
       "**Key Takeaways and Lessons Learned:**\n",
       "- **Biological Basis of ADD:**\n",
       "  - Underscores the strong genetic and neurological foundations of ADD, moving away from misconceptions that label the disorder as simply behavioral or psychological 【44:11†ADHD.txt】.\n",
       "- **Importance of Integrative Approaches:**\n",
       "  - Stresses the necessity of integrating biological insights with therapeutic and educational strategies to comprehensively manage ADD symptoms and improve life quality for those affected 【44:0†ADHD.txt】.\n",
       "\n",
       "This chapter brings forth a rich synthesis of decades of research and clinical observations, illuminating the complex biological tapestry that underpins ADD. By advancing understanding of these biological dynamics, the chapter aids clinicians and patients alike in grappling with the disorder more effectively, fostering a base for more targeted and personalized interventions."
      ],
      "text/plain": [
       "<IPython.core.display.Markdown object>"
      ]
     },
     "metadata": {},
     "output_type": "display_data"
    },
    {
     "name": "stdout",
     "output_type": "stream",
     "text": [
      "Status:      completed\n",
      "Time :       17:31:02\n",
      "Elapsed:     28.15235 seconds\n"
     ]
    }
   ],
   "source": [
    "prompt = \"\"\"\n",
    "Please summarize chapter 10. Provide the title, a brief overview, and bullet points for each of the main sections and points discussed.\n",
    "\n",
    "Bullet points should include all case studies mentioned, behaviors observed, actions taken and therapeutic outcomes; \n",
    "theoretical concepts; biological observations; key takeaways and lessons learned in the chapter.\n",
    "\n",
    "The chapter summary should be between 500 and 1500 words.\n",
    "\"\"\"\n",
    "\n",
    "message = client.beta.threads.messages.create(\n",
    "    thread_id=thread.id, \n",
    "    role=\"user\", \n",
    "    content=prompt, \n",
    ")\n",
    "result = execute_run(client, assistant, thread)\n",
    "\n"
   ]
  },
  {
   "cell_type": "code",
   "execution_count": 26,
   "id": "8c7e8a85-1dbb-42dd-8a71-42dfb221bc73",
   "metadata": {},
   "outputs": [
    {
     "data": {
      "text/markdown": [
       "In Chapter 3 titled \"The Child with ADD,\" the detailed exploration of how ADD affects children includes insightful case studies. These studies illustrate typical behaviors and the unique challenges faced by children with ADD, emphasizing the profoundly personal impact the disorder can have on children's academic, social, and emotional development. Here’s a detailed look at the cases discussed:\n",
       "\n",
       "1. **Max's Story:**\n",
       "   - **Background:** Max is a child with behavioral challenges that are symptomatic of ADD but not initially recognized as such due to the more subtle presentation without hyperactivity.\n",
       "   - **Behaviors Observed:** Struggles with organizational skills, becomes easily overwhelmed with routine tasks, and displays a noticeable avoidance of schoolwork.\n",
       "   - **Actions Taken:** Max's difficulties were first interpreted as laziness or lack of discipline until further evaluation revealed ADD.\n",
       "   - **Therapeutic Outcomes:** Interventions included structured schedules, therapeutic sessions to enhance focus and organizational skills, and a modified academic load to reduce undue pressure while maximizing learning engagement.\n",
       "\n",
       "2. **Will's Story:**\n",
       "   - **Background:** Will is slightly older than Max and deals with diagnosed ADD; his story focuses on social interactions and family dynamics.\n",
       "   - **Behaviors Observed:** Exhibits significant social withdrawal and anxiety due to the fear of rejection or failure, contributing to school reluctance.\n",
       "   - **Actions Taken:** Family-based therapy was introduced, focusing on open communication about ADD within the family. His school was also involved in creating a supportive environment that acknowledged his ADD.\n",
       "   - **Therapeutic Outcomes:** Will experienced gradual improvement in social interactions and academic performance. The coordinated support system facilitated a better understanding of his needs, fostering a more supportive school and home environment.\n",
       "\n",
       "**Key Takeaways from the Cases:**\n",
       "- **Need for Early Recognition:** Both cases underscore the importance of early recognition and diagnosis of ADD to prevent secondary issues like low self-esteem and social withdrawal.\n",
       "- **Tailored Interventions:** Individualized intervention plans that consider both academic and social developmental needs are crucial.\n",
       "- **Family and School Involvement:** Active involvement of family and educational institutions plays a vital role in managing ADD, helping to normalize the condition and integrate support systems more effectively.\n",
       "\n",
       "These case studies provide a clear illustration of how ADD can vary significantly from one child to another, demonstrating the necessity for assessments that lead to personalized educational and therapeutic strategies. The highlighted approaches not only address immediate symptoms but also aim to build skills and coping strategies for long-term success and well-being."
      ],
      "text/plain": [
       "<IPython.core.display.Markdown object>"
      ]
     },
     "metadata": {},
     "output_type": "display_data"
    },
    {
     "name": "stdout",
     "output_type": "stream",
     "text": [
      "Status:      completed\n",
      "Time :       17:31:40\n",
      "Elapsed:     22.867483 seconds\n"
     ]
    }
   ],
   "source": [
    "prompt = \"\"\"Can you tell me in detail about the cases discussed in Chapter 3?\"\n",
    "\"\"\"\n",
    "\n",
    "message = client.beta.threads.messages.create(\n",
    "    thread_id=thread.id, \n",
    "    role=\"user\", \n",
    "    content=prompt, \n",
    ")\n",
    "result = execute_run(client, assistant, thread)\n"
   ]
  },
  {
   "cell_type": "code",
   "execution_count": 27,
   "id": "ae811e0d-f549-40a1-956f-5c8b5ca90f7e",
   "metadata": {},
   "outputs": [
    {
     "data": {
      "text/markdown": [
       "Certainly, my dear data scientist friend! Here’s a glossary of technical terms related to ADD (Attention Deficit Disorder) that will aid in understanding the text effectively:\n",
       "\n",
       "1. **ADD (Attention Deficit Disorder):**\n",
       "   - A neurodevelopmental disorder characterized by problems with focus, impulsivity, and in some cases, hyperactivity.\n",
       "\n",
       "2. **ADHD (Attention Deficit Hyperactivity Disorder):**\n",
       "   - A specific form of ADD that includes hyperactivity. People with ADHD may have difficulty sitting still, performing quiet tasks, and often act without thinking.\n",
       "\n",
       "3. **Hyperactivity:**\n",
       "   - An abnormal state of excess activity that may manifest as physical movement, talking, or fidgeting, often inappropriate to the situation.\n",
       "\n",
       "4. **Impulsivity:**\n",
       "   - A tendency to act on a whim, displaying behavior characterized by little or no forethought, reflection, or consideration of the consequences.\n",
       "\n",
       "5. **Executive Function:**\n",
       "   - Cognitive processes that regulate, control, and manage other cognitive processes, such as planning, working memory, attention, problem solving, verbal reasoning, inhibition, mental flexibility, multi-tasking, and initiation and monitoring of actions.\n",
       "\n",
       "6. **Neurodevelopmental:** \n",
       "   - Pertaining to the development of the nervous system, often used in context to describe brain development and the origins of neurological disorders.\n",
       "\n",
       "7. **Distractibility:**\n",
       "   - A deficit in attention where concentration is broken off or interrupted by unrelated thoughts or environmental stimuli.\n",
       "\n",
       "8. **Stimulant Medication:**\n",
       "   - Drugs that increase activity in the central nervous system, used in the treatment of ADHD to help increase attention and reduce impulsivity and hyperactivity.\n",
       "\n",
       "9. **Psychotherapy:**\n",
       "   - A general term for treating mental health problems by talking with a psychiatrist, psychologist, or other mental health provider. It includes various techniques used to help individuals understand their illness, alleviate their symptoms, and learn new coping strategies.\n",
       "\n",
       "10. **Behavioral Therapy:**\n",
       "   - A type of psychotherapy that aims to change potentially self-destructive or unhealthy behaviors through behavior modification techniques such as positive or negative reinforcement.\n",
       "\n",
       "11. **Neuroanatomy:**\n",
       "    - The study of the structure of the nervous system and its parts.\n",
       "\n",
       "12. **Neurochemistry:**\n",
       "    - The study of chemicals, including neurotransmitters and other molecules, that control and influence the physiology of the nervous system.\n",
       "\n",
       "13. **Cognitive Behavioral Therapy (CBT):**\n",
       "    - A psycho-social intervention that aims to improve mental health. CBT focuses on challenging and changing unhelpful cognitive distortions (e.g. thoughts, beliefs, and attitudes) and behaviors, improving emotional regulation, and the development of personal coping strategies that target solving current problems.\n",
       "\n",
       "14. **Disinhibition:**\n",
       "    - A lack of restraint manifested in disregard for social conventions, impulsivity, and poor risk assessment. In the context of ADD, it refers to problems with impulse control and overactivity.\n",
       "\n",
       "15. **Glucose Metabolism:**\n",
       "    - The process of converting glucose, a simple sugar, into energy in the body’s cells. In ADHD research, it often refers to studies of how glucose is processed differently in the brains of individuals with the disorder.\n",
       "\n",
       "Understanding these terms should provide a solid foundation for comprehending the complexities discussed in your ADD-related text."
      ],
      "text/plain": [
       "<IPython.core.display.Markdown object>"
      ]
     },
     "metadata": {},
     "output_type": "display_data"
    },
    {
     "name": "stdout",
     "output_type": "stream",
     "text": [
      "Status:      completed\n",
      "Time :       17:32:38\n",
      "Elapsed:     25.411864 seconds\n"
     ]
    }
   ],
   "source": [
    "prompt = \"\"\"Can you create a glossary with definitions of all the technical terms I should know when reading this text?\"\n",
    "\"\"\"\n",
    "\n",
    "message = client.beta.threads.messages.create(\n",
    "    thread_id=thread.id, \n",
    "    role=\"user\", \n",
    "    content=prompt, \n",
    ")\n",
    "result = execute_run(client, assistant, thread)\n"
   ]
  },
  {
   "cell_type": "code",
   "execution_count": 29,
   "id": "8e35f738-045c-4f7e-b10a-0d1ec2559f7f",
   "metadata": {},
   "outputs": [
    {
     "data": {
      "text/markdown": [
       "To manage Attention Deficit Hyperactivity Disorder (ADHD), various medications are utilized, mainly focusing on stimulant and non-stimulant categories. Here is an overview of the types of medications typically employed to treat ADHD:\n",
       "\n",
       "### 1. Stimulant Medications:\n",
       "Stimulants are the most commonly prescribed medications for ADHD and are known for their effectiveness in increasing attention, focus, and self-control by enhancing the levels of certain neurotransmitters in the brain.\n",
       "\n",
       "- **Amphetamines (Examples: Adderall, Dexedrine, Vyvanse):**\n",
       "  - These medications increase the levels of dopamine and norepinephrine in the brain, which helps improve concentration and reduce impulsivity and hyperactivity in patients with ADHD.\n",
       "  - Vyvanse (lisdexamfetamine) is notable as it is a prodrug, which means it is inactive until it is metabolized in the body, potentially offering smoother symptom control.\n",
       "\n",
       "- **Methylphenidates (Examples: Ritalin, Concerta, Daytrana):**\n",
       "  - These drugs also increase dopamine and norepinephrine levels but might work slightly differently or have different release mechanisms. For example, Concerta provides a controlled, extended release of medication, and Daytrana is a patch that delivers methylphenidate through the skin.\n",
       "\n",
       "### 2. Non-Stimulant Medications:\n",
       "Non-stimulant medications can be used as a primary treatment or in combination with stimulants to treat ADHD. They are often chosen for patients who do not respond well to stimulants, have side effects, or have comorbid conditions like anxiety or tic disorders.\n",
       "\n",
       "- **Atomoxetine (Strattera):**\n",
       "  - This is a selective norepinephrine reuptake inhibitor specifically approved for ADHD treatment. It increases the levels of norepinephrine in the brain, helping to control symptoms of ADHD with a lower potential for abuse.\n",
       "\n",
       "- **Guanfacine (Intuniv) and Clonidine (Kapvay):**\n",
       "  - Both medications, originally developed for hypertension, are approved for ADHD treatment. They work by affecting alpha-2 receptors in the brain which help regulate attention and impulse control.\n",
       "\n",
       "### 3. Antidepressants:\n",
       "Though not primarily for ADHD, certain antidepressants are used to manage ADHD symptoms, especially in adults who may also battle anxiety or depression.\n",
       "\n",
       "- **Bupropion (Wellbutrin):**\n",
       "  - This medication is a norepinephrine-dopamine reuptake inhibitor (NDRI) that can help with focus and is sometimes used when stimulants are ineffective or not tolerated.\n",
       "  \n",
       "- **Tricyclic Antidepressants (e.g., Nortriptyline, Desipramine):**\n",
       "  - Occasionally used for ADHD, these can help improve attention span and impulsivity in some patients.\n",
       "\n",
       "### Benefits and Considerations:\n",
       "- **Effectiveness:** Stimulants are often considered the most effective medication for reducing ADHD symptoms and immediately improving focus, attention, and impulsivity. Non-stimulants provide an alternative for those who cannot tolerate stimulants.\n",
       "- **Side Effects:** Common side effects of ADHD medications can include sleep disturbances, decreased appetite, weight loss, and potential cardiovascular effects. Each individual reacts differently, and it's crucial to work with a healthcare provider to monitor these effects.\n",
       "- **Long-term Use and Dependence:** While stimulants have a higher potential for misuse and dependence, they are generally safe and effective when used under professional guidance.\n",
       "\n",
       "It's important to note that medication is often more effective when combined with behavioral therapy, lifestyle changes, and psychological support. Collaborative approaches cater to different aspects of ADHD, providing a comprehensive treatment plan."
      ],
      "text/plain": [
       "<IPython.core.display.Markdown object>"
      ]
     },
     "metadata": {},
     "output_type": "display_data"
    },
    {
     "name": "stdout",
     "output_type": "stream",
     "text": [
      "Status:      completed\n",
      "Time :       17:41:16\n",
      "Elapsed:     30.204274 seconds\n"
     ]
    }
   ],
   "source": [
    "prompt = \"\"\"What types of medications are used to treat ADHD?\"\n",
    "\"\"\"\n",
    "\n",
    "message = client.beta.threads.messages.create(\n",
    "    thread_id=thread.id, \n",
    "    role=\"user\", \n",
    "    content=prompt, \n",
    ")\n",
    "result = execute_run(client, assistant, thread)\n"
   ]
  },
  {
   "cell_type": "code",
   "execution_count": 28,
   "id": "3a42afbe-9b92-4791-8db6-b088ce6ffa45",
   "metadata": {},
   "outputs": [
    {
     "data": {
      "text/markdown": [
       "Antidepressants are a broad class of drugs used primarily to treat depression, but they are also employed to address other conditions, including Attention Deficit Hyperactivity Disorder (ADHD). They can be particularly helpful in managing ADHD symptoms, especially in adults who may also have comorbid conditions like anxiety or depression. Here’s an overview of the different types of antidepressants, how they work, and their roles in helping patients with ADHD:\n",
       "\n",
       "### Types of Antidepressants:\n",
       "\n",
       "1. **Selective Serotonin Reuptake Inhibitors (SSRIs):**\n",
       "   - **Examples:** Fluoxetine (Prozac), Sertraline (Zoloft), Citalopram (Celexa).\n",
       "   - **Mechanism:** SSRIs work by increasing the level of serotonin in the brain by inhibiting its reuptake into the presynaptic cell, which increases the amount of serotonin available to bind to the postsynaptic receptor.\n",
       "   - **ADHD Use:** They are primarily used to manage co-occurring anxiety and depression, but they can sometimes help with emotional dysregulation and impulsivity in ADHD. \n",
       "\n",
       "2. **Serotonin and Norepinephrine Reuptake Inhibitors (SNRIs):**\n",
       "   - **Examples:** Venlafaxine (Effexor), Duloxetine (Cymbalta).\n",
       "   - **Mechanism:** SNRIs increase concentrations of both serotonin and norepinephrine in the brain by inhibiting their reabsorption (reuptake) into cells, enhancing calming and focus.\n",
       "   - **ADHD Use:** SNRIs can be useful in treating ADHD by improving attention skills and reducing impulsive behavior, in addition to treating comorbid depression or anxiety.\n",
       "\n",
       "3. **Tricyclic Antidepressants (TCAs):**\n",
       "   - **Examples:** Amitriptyline, Nortriptyline (Pamelor), Desipramine (Norpramin).\n",
       "   - **Mechanism:** TCAs block the reabsorption of neurotransmitters like norepinephrine and serotonin in the brain. They also block other types of receptors, which can lead to more side effects.\n",
       "   - **ADHD Use:** Some TCAs, particularly desipramine and nortriptyline, have been found effective in controlling symptoms of ADHD, including hyperactivity, impulsiveness, and inattention.\n",
       "\n",
       "4. **Monoamine Oxidase Inhibitors (MAOIs):**\n",
       "   - **Examples:** Phenelzine (Nardil), Tranylcypromine (Parnate).\n",
       "   - **Mechanism:** MAOIs block the activity of monoamine oxidase, an enzyme that breaks down neurotransmitters such as dopamine, norepinephrine, and serotonin in the brain, thereby increasing these chemicals.\n",
       "   - **ADHD Use:** Rarely used for ADHD due to significant dietary restrictions and potential side effects, but may be considered if other treatments aren’t effective.\n",
       "\n",
       "5. **Bupropion (Wellbutrin):**\n",
       "   - **Mechanism:** Although often classified as an antidepressant, bupropion is a norepinephrine-dopamine reuptake inhibitor (NDRI). It inhibits the reuptake of norepinephrine and dopamine, increasing their concentration.\n",
       "   - **ADHD Use:** Bupropion is frequently used off-label for treating ADHD in adults. It helps with focus and attention, and is a preferred option for patients unable or unwilling to use stimulant medications.\n",
       "\n",
       "### How They Help Patients with ADHD:\n",
       "- **Improving Concentration:** Some antidepressants, especially SNRIs and bupropion, help improve focus and attention in tasks, which is a core challenge for individuals with ADHD.\n",
       "- **Reducing Hyperactivity and Impulsivity:** Certain antidepressants can help calm hyperactivity and reduce impulsivity, which are beneficial for ADHD management.\n",
       "- **Managing Comorbid Conditions:** Many individuals with ADHD also experience conditions such as anxiety and depression. Antidepressants can address these co-occurring issues, contributing to overall treatment effectiveness.\n",
       "\n",
       "Antidepressants can be an important part of a comprehensive treatment strategy for ADHD, particularly in patients who respond poorly to traditional stimulant medications or in whom comorbid mood or anxiety disorders are prominent. However, their use should be closely monitored by healthcare professionals to optimize benefits and minimize potential side effects."
      ],
      "text/plain": [
       "<IPython.core.display.Markdown object>"
      ]
     },
     "metadata": {},
     "output_type": "display_data"
    },
    {
     "name": "stdout",
     "output_type": "stream",
     "text": [
      "Status:      completed\n",
      "Time :       17:35:56\n",
      "Elapsed:     39.349547 seconds\n"
     ]
    }
   ],
   "source": [
    "prompt = \"\"\"What are the different types of antidepressants, how do they work and how do they help patients with ADHD?\"\n",
    "\"\"\"\n",
    "\n",
    "message = client.beta.threads.messages.create(\n",
    "    thread_id=thread.id, \n",
    "    role=\"user\", \n",
    "    content=prompt, \n",
    ")\n",
    "result = execute_run(client, assistant, thread)\n"
   ]
  },
  {
   "cell_type": "code",
   "execution_count": null,
   "id": "2def3aba-4dce-42f6-b537-e96cbf4c36d1",
   "metadata": {},
   "outputs": [],
   "source": []
  }
 ],
 "metadata": {
  "kernelspec": {
   "display_name": "chatgpt_ds2",
   "language": "python",
   "name": "chatgpt_ds2"
  },
  "language_info": {
   "codemirror_mode": {
    "name": "ipython",
    "version": 3
   },
   "file_extension": ".py",
   "mimetype": "text/x-python",
   "name": "python",
   "nbconvert_exporter": "python",
   "pygments_lexer": "ipython3",
   "version": "3.9.19"
  }
 },
 "nbformat": 4,
 "nbformat_minor": 5
}
