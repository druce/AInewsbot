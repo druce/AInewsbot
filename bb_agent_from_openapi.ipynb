{
 "cells": [
  {
   "cell_type": "markdown",
   "id": "0003fc70-614a-45fe-824d-d95957d13b19",
   "metadata": {},
   "source": [
    "# Stock Market Question Answering Agent from OpenBB JSON\n"
   ]
  },
  {
   "cell_type": "code",
   "execution_count": 20,
   "id": "20d61f1a-b6e0-4c72-9eee-5c3c84db5718",
   "metadata": {},
   "outputs": [],
   "source": [
    "import os\n",
    "import sys\n",
    "import dotenv\n",
    "import warnings\n",
    "from datetime import datetime, timedelta\n",
    "import re\n",
    "\n",
    "import requests\n",
    "import base64\n",
    "import json\n",
    "import yaml\n",
    "\n",
    "import pandas as pd\n",
    "\n",
    "import IPython\n",
    "from IPython.display import HTML, Image, Markdown, display\n",
    "\n",
    "from langchain_openai import ChatOpenAI\n",
    "from langchain_core.prompts import ChatPromptTemplate, MessagesPlaceholder\n",
    "from langchain_core.prompts import PromptTemplate, SystemMessagePromptTemplate, HumanMessagePromptTemplate\n",
    "from langchain.agents import create_tool_calling_agent, AgentExecutor\n",
    "from langchain.memory import ChatMessageHistory\n",
    "from langchain.tools import StructuredTool\n",
    "from langchain.requests import RequestsWrapper\n",
    "\n",
    "import openbb\n",
    "from openbb import obb\n",
    "from openbb_core.app.model.obbject import OBBject\n",
    "\n",
    "import openai\n",
    "from openai import OpenAI\n",
    "import tiktoken\n",
    "\n",
    "import langchain\n",
    "from langchain.tools import WikipediaQueryRun\n",
    "from langchain_community.utilities import WikipediaAPIWrapper\n",
    "from langchain_community.agent_toolkits.openapi import planner\n",
    "from langchain_community.agent_toolkits.openapi.spec import reduce_openapi_spec\n",
    "\n",
    "import wikipedia\n",
    "\n",
    "# paid API for edgar filings\n",
    "import sec_api\n",
    "from sec_api import QueryApi, ExtractorApi\n",
    "\n",
    "# free API for edgar filing\n",
    "from sec_downloader import Downloader\n",
    "import sec_parser as sp\n",
    "\n",
    "dotenv.load_dotenv()\n",
    "\n",
    "from BB_agent_tool import BB_agent_tool, get_response, agent_query, bb_agent_system_prompt\n",
    "\n",
    "import pdb\n",
    "\n",
    "# turn off excessive warnings\n",
    "warnings.filterwarnings('ignore')\n"
   ]
  },
  {
   "cell_type": "code",
   "execution_count": 7,
   "id": "c31a6c57-1332-44df-bb86-2784cf909419",
   "metadata": {},
   "outputs": [
    {
     "name": "stdout",
     "output_type": "stream",
     "text": [
      "pandas         2.2.2\n",
      "obb            4.1.7\n",
      "openai         1.28.0\n",
      "langchain      0.1.20\n",
      "wikipedia      (1, 4, 0)\n"
     ]
    }
   ],
   "source": [
    "print(f'pandas         {pd.__version__}')\n",
    "print(f'obb            {obb.system.version}')\n",
    "print(f'openai         {openai.__version__}')\n",
    "print(f'langchain      {langchain.__version__}')\n",
    "print(f'wikipedia      {wikipedia.__version__}')\n"
   ]
  },
  {
   "cell_type": "code",
   "execution_count": 8,
   "id": "c93b1c52-1ebe-4cb4-bbb9-51b3a3ce4061",
   "metadata": {},
   "outputs": [],
   "source": [
    "MODEL = \"gpt-4o\"\n",
    "\n",
    "# MAX_INPUT_TOKENS = 65536     \n",
    "MAX_OUTPUT_TOKENS = 4096    # max in current model\n",
    "MAX_RETRIES = 3\n",
    "TEMPERATURE = 0\n"
   ]
  },
  {
   "cell_type": "code",
   "execution_count": 9,
   "id": "8e56a548-bd88-4549-91b6-25674bd9efbe",
   "metadata": {},
   "outputs": [],
   "source": [
    "# import os\n",
    "# import json\n",
    "# import yaml\n",
    "\n",
    "# # Load the JSON file\n",
    "# with open('openapi.json', 'r') as json_file:\n",
    "#     json_data = json.load(json_file)\n",
    "\n",
    "# # Convert JSON data to YAML\n",
    "# yaml_data = yaml.dump(json_data, default_flow_style=False, sort_keys=False)\n",
    "\n",
    "# # Save the YAML data to a file\n",
    "# with open('openapi.yaml', 'w') as yaml_file:\n",
    "#     yaml_file.write(yaml_data)\n",
    "\n",
    "# print(\"Conversion complete: 'openapi.json' -> 'openapi.yaml'\")\n"
   ]
  },
  {
   "cell_type": "code",
   "execution_count": 10,
   "id": "040b9307-c3a6-46b5-9126-79bf7c8f96c5",
   "metadata": {},
   "outputs": [],
   "source": [
    "with open(\"openapi.yaml\") as f:\n",
    "    raw_openbb_api_spec = yaml.load(f, Loader=yaml.Loader)\n",
    "    \n",
    "openbb_api_spec = reduce_openapi_spec(raw_openbb_api_spec)\n"
   ]
  },
  {
   "cell_type": "code",
   "execution_count": 11,
   "id": "11ebc279-37aa-40bf-8622-181c0e6669a6",
   "metadata": {},
   "outputs": [
    {
     "data": {
      "text/plain": [
       "203"
      ]
     },
     "execution_count": 11,
     "metadata": {},
     "output_type": "execute_result"
    }
   ],
   "source": [
    "endpoints = [\n",
    "    (route, operation)\n",
    "    for route, operations in raw_openbb_api_spec[\"paths\"].items()\n",
    "    for operation in operations\n",
    "    if operation in [\"get\", \"post\"]\n",
    "]\n",
    "len(endpoints)\n"
   ]
  },
  {
   "cell_type": "code",
   "execution_count": 12,
   "id": "f1089d54-015a-4d1f-9e81-712a17388c84",
   "metadata": {},
   "outputs": [
    {
     "data": {
      "text/plain": [
       "383362"
      ]
     },
     "execution_count": 12,
     "metadata": {},
     "output_type": "execute_result"
    }
   ],
   "source": [
    "enc = tiktoken.encoding_for_model(MODEL)\n",
    "\n",
    "def count_tokens(s):\n",
    "    return len(enc.encode(s))\n",
    "\n",
    "count_tokens(yaml.dump(raw_openbb_api_spec))\n"
   ]
  },
  {
   "cell_type": "markdown",
   "id": "7acdac1f-c1eb-4192-afd1-a1519491b060",
   "metadata": {},
   "source": [
    "# Connect to OpenBB"
   ]
  },
  {
   "cell_type": "code",
   "execution_count": 13,
   "id": "9b840c61-100c-4042-9767-1261d787a0d8",
   "metadata": {},
   "outputs": [],
   "source": [
    "# login with email and password\n",
    "obb.account.login(email=os.environ['OPENBB_USER'], password=os.environ['OPENBB_PW'], remember_me=True)"
   ]
  },
  {
   "cell_type": "code",
   "execution_count": null,
   "id": "542a3c43-4151-40bd-8fb3-bd893ffb36a3",
   "metadata": {},
   "outputs": [],
   "source": [
    "obb.equity.\n"
   ]
  },
  {
   "cell_type": "code",
   "execution_count": 14,
   "id": "09a65e68-ec50-4759-9bee-680ee89e83b5",
   "metadata": {},
   "outputs": [
    {
     "data": {
      "text/html": [
       "<div>\n",
       "<style scoped>\n",
       "    .dataframe tbody tr th:only-of-type {\n",
       "        vertical-align: middle;\n",
       "    }\n",
       "\n",
       "    .dataframe tbody tr th {\n",
       "        vertical-align: top;\n",
       "    }\n",
       "\n",
       "    .dataframe thead th {\n",
       "        text-align: right;\n",
       "    }\n",
       "</style>\n",
       "<table border=\"1\" class=\"dataframe\">\n",
       "  <thead>\n",
       "    <tr style=\"text-align: right;\">\n",
       "      <th></th>\n",
       "      <th>symbol</th>\n",
       "      <th>name</th>\n",
       "      <th>nasdaq_traded</th>\n",
       "      <th>exchange</th>\n",
       "      <th>etf</th>\n",
       "      <th>round_lot_size</th>\n",
       "      <th>test_issue</th>\n",
       "      <th>cqs_symbol</th>\n",
       "      <th>nasdaq_symbol</th>\n",
       "      <th>next_shares</th>\n",
       "    </tr>\n",
       "  </thead>\n",
       "  <tbody>\n",
       "    <tr>\n",
       "      <th>0</th>\n",
       "      <td>MRK</td>\n",
       "      <td>Merck &amp; Company, Inc. Common Stock (new)</td>\n",
       "      <td>Y</td>\n",
       "      <td>N</td>\n",
       "      <td>N</td>\n",
       "      <td>100.0</td>\n",
       "      <td>N</td>\n",
       "      <td>MRK</td>\n",
       "      <td>MRK</td>\n",
       "      <td>N</td>\n",
       "    </tr>\n",
       "  </tbody>\n",
       "</table>\n",
       "</div>"
      ],
      "text/plain": [
       "  symbol                                      name nasdaq_traded exchange etf  \\\n",
       "0    MRK  Merck & Company, Inc. Common Stock (new)             Y        N   N   \n",
       "\n",
       "   round_lot_size test_issue cqs_symbol nasdaq_symbol next_shares  \n",
       "0           100.0          N        MRK           MRK           N  "
      ]
     },
     "execution_count": 14,
     "metadata": {},
     "output_type": "execute_result"
    }
   ],
   "source": [
    "obb.equity.search(\"Merck\", provider=\"nasdaq\").to_df().head(3)\n"
   ]
  },
  {
   "cell_type": "code",
   "execution_count": 15,
   "id": "c3dbfa5a-f020-43c8-8cc7-7960eff51510",
   "metadata": {},
   "outputs": [],
   "source": [
    "symbol = \"MRK\"\n",
    "company = \"Merck\""
   ]
  },
  {
   "cell_type": "code",
   "execution_count": 16,
   "id": "716d6be3-4e4b-41fa-81fd-d04c8612184b",
   "metadata": {},
   "outputs": [
    {
     "data": {
      "text/plain": [
       "OBBject\n",
       "\n",
       "id: 0664a4ac-e26a-73ad-8000-1cec61d88c2d\n",
       "results: [{'symbol': 'MRK', 'asset_type': 'stock', 'name': 'MERCK & CO INC COM', 'e...\n",
       "provider: cboe\n",
       "warnings: None\n",
       "chart: None\n",
       "extra: {'metadata': {'arguments': {'provider_choices': {'provider': 'cboe'}, 'stand..."
      ]
     },
     "execution_count": 16,
     "metadata": {},
     "output_type": "execute_result"
    }
   ],
   "source": [
    "obj = obb.equity.price.quote(symbol)\n",
    "obj\n"
   ]
  },
  {
   "cell_type": "code",
   "execution_count": 17,
   "id": "1a14b1b0-3a16-444c-8b15-6c11c73109f7",
   "metadata": {},
   "outputs": [
    {
     "data": {
      "text/plain": [
       "{'results': [{'symbol': 'MRK',\n",
       "   'asset_type': 'EQUITY',\n",
       "   'name': 'Merck & Co., Inc.',\n",
       "   'exchange': 'NYQ',\n",
       "   'bid': 126.0,\n",
       "   'bid_size': 1000,\n",
       "   'ask': 133.0,\n",
       "   'ask_size': 800,\n",
       "   'last_price': 131.19,\n",
       "   'open': 130.69,\n",
       "   'high': 131.32,\n",
       "   'low': 129.81,\n",
       "   'volume': 8281595,\n",
       "   'prev_close': 130.88,\n",
       "   'year_high': 133.1,\n",
       "   'year_low': 99.14,\n",
       "   'ma_50d': 127.1046,\n",
       "   'ma_200d': 114.8178,\n",
       "   'volume_average': 8218136.0,\n",
       "   'volume_average_10d': 6913350.0,\n",
       "   'currency': 'USD'}],\n",
       " 'provider': 'yfinance',\n",
       " 'warnings': None,\n",
       " 'chart': None,\n",
       " 'extra': {'metadata': {'arguments': {'provider_choices': {'provider': 'yfinance'},\n",
       "    'standard_params': {'symbol': 'MRK'},\n",
       "    'extra_params': {'use_cache': True, 'source': 'iex'}},\n",
       "   'duration': 146260000,\n",
       "   'route': '/equity/price/quote',\n",
       "   'timestamp': '2024-05-19T14:54:11.033079'}}}"
      ]
     },
     "execution_count": 17,
     "metadata": {},
     "output_type": "execute_result"
    }
   ],
   "source": [
    "# use REST API on server running locally\n",
    "# uvicorn openbb_core.api.rest_api:app --host 0.0.0.0 --port 8000 --reload\n",
    "# REST API documentation - http://127.0.0.1:8000/docs\n",
    "# openapi.json : http://127.0.0.1:8000/openapi.json\n",
    "\n",
    "# not turning on authentication\n",
    "# msg = \"some_user:some_pass\"\n",
    "# msg_bytes = msg.encode('ascii')\n",
    "# base64_bytes = base64.b64encode(msg_bytes)\n",
    "# base64_msg = base64_bytes.decode('ascii')\n",
    "\n",
    "url = f\"http://127.0.0.1:8000/api/v1/equity/price/quote?provider=yfinance&symbol={symbol}\"\n",
    "# headers = {\"accept\": \"application/json\", \"Authorization\": f\"Basic {base64_msg}\"}\n",
    "headers = {\"accept\": \"application/json\"}\n",
    "\n",
    "response = requests.get(url=url, headers=headers)\n",
    "\n",
    "response.json()\n"
   ]
  },
  {
   "cell_type": "markdown",
   "id": "05e5429f-164c-4d82-81da-5b22b2c2c4ae",
   "metadata": {},
   "source": [
    "# Prompt OpenAI "
   ]
  },
  {
   "cell_type": "code",
   "execution_count": 24,
   "id": "a758632e-504b-4c2d-a26a-5de9cd158946",
   "metadata": {},
   "outputs": [],
   "source": [
    "llm = ChatOpenAI(model_name=MODEL, temperature=0.0)\n"
   ]
  },
  {
   "cell_type": "code",
   "execution_count": 25,
   "id": "aa42fe2c-1b7a-4922-83e9-5f90d64de6c9",
   "metadata": {},
   "outputs": [],
   "source": [
    "requests_wrapper = RequestsWrapper(headers=headers)\n"
   ]
  },
  {
   "cell_type": "code",
   "execution_count": 26,
   "id": "63117745-1f22-47c8-bba2-555bfe571357",
   "metadata": {},
   "outputs": [
    {
     "name": "stdout",
     "output_type": "stream",
     "text": [
      "\n",
      "\n",
      "\u001b[1m> Entering new AgentExecutor chain...\u001b[0m\n",
      "\u001b[32;1m\u001b[1;3mAction: api_planner\n",
      "Action Input: I need to find the right API call to get the latest quote for the symbol NVDA.\u001b[0m\n",
      "Observation: \u001b[36;1m\u001b[1;3m1. **Evaluate whether the user query can be solved by the API:**\n",
      "   Yes, the user query can be solved by the API. The user wants to get the latest quote for the symbol NVDA, which is a stock symbol.\n",
      "\n",
      "2. **Generate a plan of API calls and say what they are doing step by step:**\n",
      "   - **Step 1:** Use the endpoint `GET /api/v1/equity/price/quote` to get the latest quote for the stock symbol NVDA.\n",
      "\n",
      "**Plan:**\n",
      "1. **GET /api/v1/equity/price/quote**\n",
      "   - **Description:** This API call will retrieve the latest quote for the stock symbol NVDA, including price, volume, and other relevant data. \n",
      "   - **Parameters:** \n",
      "     - `symbol`: NVDA\n",
      "\n",
      "This single API call will provide the necessary information to fulfill the user's request.\u001b[0m\n",
      "Thought:\u001b[32;1m\u001b[1;3mI have the plan to get the latest quote for the symbol NVDA. Now, I will execute this plan using the API controller.\n",
      "\n",
      "Action: api_controller\n",
      "Action Input: 1. GET /api/v1/equity/price/quote with parameter `symbol` set to NVDA\u001b[0m\n",
      "\n",
      "\u001b[1m> Entering new AgentExecutor chain...\u001b[0m\n",
      "\u001b[32;1m\u001b[1;3mPlan: \n",
      "1. GET the latest quote for the stock symbol \"NVDA\" using the provider \"yfinance\".\n",
      "\n",
      "Thought: I will use the GET /api/v1/equity/price/quote endpoint with the required parameters.\n",
      "\n",
      "Action: requests_get\n",
      "Action Input: \n",
      "```json\n",
      "{\n",
      "  \"url\": \"http://localhost:8000/api/v1/equity/price/quote\",\n",
      "  \"params\": {\n",
      "    \"provider\": \"yfinance\",\n",
      "    \"symbol\": \"NVDA\"\n",
      "  },\n",
      "  \"output_instructions\": \"Extract the id and name of the stock, along with the latest price.\"\n",
      "}\n",
      "```\n",
      "\u001b[0m\n",
      "Observation: \u001b[36;1m\u001b[1;3m```json\n",
      "{\n",
      "  \"id\": \"NVDA\",\n",
      "  \"name\": \"NVIDIA Corporation\",\n",
      "  \"latest_price\": 924.79\n",
      "}\n",
      "```\u001b[0m\n",
      "Thought:\u001b[32;1m\u001b[1;3mThe API call was successful, and I retrieved the latest quote for the stock symbol \"NVDA\" from the provider \"yfinance\".\n",
      "\n",
      "Final Answer: \n",
      "- Stock ID: NVDA\n",
      "- Stock Name: NVIDIA Corporation\n",
      "- Latest Price: 924.79\u001b[0m\n",
      "\n",
      "\u001b[1m> Finished chain.\u001b[0m\n",
      "\n",
      "Observation: \u001b[33;1m\u001b[1;3m- Stock ID: NVDA\n",
      "- Stock Name: NVIDIA Corporation\n",
      "- Latest Price: 924.79\u001b[0m\n",
      "Thought:\u001b[32;1m\u001b[1;3mI have successfully retrieved the latest quote for the symbol NVDA.\n",
      "\n",
      "Final Answer: \n",
      "- **Stock ID:** NVDA\n",
      "- **Stock Name:** NVIDIA Corporation\n",
      "- **Latest Price:** 924.79\u001b[0m\n",
      "\n",
      "\u001b[1m> Finished chain.\u001b[0m\n"
     ]
    },
    {
     "data": {
      "text/plain": [
       "{'input': 'get the latest quote for symbol NVDA.',\n",
       " 'output': '- **Stock ID:** NVDA\\n- **Stock Name:** NVIDIA Corporation\\n- **Latest Price:** 924.79'}"
      ]
     },
     "execution_count": 26,
     "metadata": {},
     "output_type": "execute_result"
    }
   ],
   "source": [
    "# NOTE: set allow_dangerous_requests manually for security concern https://python.langchain.com/docs/security\n",
    "ALLOW_DANGEROUS_REQUEST=True\n",
    "\n",
    "openbb_agent = planner.create_openapi_agent(\n",
    "    openbb_api_spec,\n",
    "    requests_wrapper,\n",
    "    llm,\n",
    "    allow_dangerous_requests=ALLOW_DANGEROUS_REQUEST,\n",
    ")\n",
    "user_query = \"get the latest quote for symbol NVDA.\"\n",
    "\n",
    "openbb_agent.invoke(user_query)\n"
   ]
  },
  {
   "cell_type": "code",
   "execution_count": null,
   "id": "3c946d4a-03e4-4b7a-b3c5-20a7c844ca61",
   "metadata": {},
   "outputs": [],
   "source": []
  }
 ],
 "metadata": {
  "kernelspec": {
   "display_name": "bb_agent",
   "language": "python",
   "name": "bb_agent"
  },
  "language_info": {
   "codemirror_mode": {
    "name": "ipython",
    "version": 3
   },
   "file_extension": ".py",
   "mimetype": "text/x-python",
   "name": "python",
   "nbconvert_exporter": "python",
   "pygments_lexer": "ipython3",
   "version": "3.11.9"
  }
 },
 "nbformat": 4,
 "nbformat_minor": 5
}
