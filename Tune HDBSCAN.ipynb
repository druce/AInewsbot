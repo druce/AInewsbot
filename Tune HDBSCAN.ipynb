{
 "cells": [
  {
   "cell_type": "markdown",
   "id": "f3ad0d5a",
   "metadata": {},
   "source": [
    "Possible TODOs:\n",
    "\n",
    "- use train / xval sets, evaluate in xval, maybe 5 k-fold xvals\n",
    "- do longer optuna with a couple hundred tests\n",
    "- add params:\n",
    "  - pca v umap\n",
    "- do once with dbscan and once with hdbscan\n",
    "- give it 200 test inputs and compare vs a canonical clustering"
   ]
  },
  {
   "cell_type": "code",
   "execution_count": 13,
   "id": "a3243fad",
   "metadata": {},
   "outputs": [
    {
     "data": {
      "text/plain": [
       "True"
      ]
     },
     "execution_count": 13,
     "metadata": {},
     "output_type": "execute_result"
    }
   ],
   "source": [
    "import dotenv\n",
    "\n",
    "from typing import List\n",
    "from collections import Counter\n",
    "\n",
    "import os\n",
    "import sqlite3\n",
    "\n",
    "import numpy as np\n",
    "import pandas as pd\n",
    "\n",
    "import openai\n",
    "\n",
    "from sklearn.metrics import pairwise_distances, silhouette_score, calinski_harabasz_score, davies_bouldin_score\n",
    "from sklearn.decomposition import TruncatedSVD\n",
    "\n",
    "import umap\n",
    "\n",
    "import hdbscan\n",
    "from hdbscan.validity import validity_index as dbcv\n",
    "\n",
    "import optuna\n",
    "\n",
    "import warnings\n",
    "warnings.filterwarnings('ignore')\n",
    "\n",
    "dotenv.load_dotenv() \n"
   ]
  },
  {
   "cell_type": "code",
   "execution_count": 27,
   "id": "b21a9017",
   "metadata": {},
   "outputs": [],
   "source": [
    "MIN_COMPONENTS=50\n",
    "N_TRIALS=50\n",
    "RANDOM_STATE=42\n",
    "EMBEDDING_MODEL = \"text-embedding-3-large\"\n"
   ]
  },
  {
   "cell_type": "code",
   "execution_count": 2,
   "id": "073673f9",
   "metadata": {},
   "outputs": [
    {
     "name": "stdout",
     "output_type": "stream",
     "text": [
      "Loaded 9360 unique rows with non-null bullets\n"
     ]
    }
   ],
   "source": [
    "# Connect to SQLite and load bullets into a DataFrame\n",
    "db_path = \"articles.db\"\n",
    "query = \"\"\"\n",
    "SELECT DISTINCT\n",
    "    bullet\n",
    "FROM daily_summaries\n",
    "WHERE bullet IS NOT NULL\n",
    "\"\"\"\n",
    "\n",
    "with sqlite3.connect(db_path) as conn:\n",
    "    df = pd.read_sql_query(query, conn)\n",
    "\n",
    "print(f\"Loaded {len(df)} unique rows with non-null bullets\")\n"
   ]
  },
  {
   "cell_type": "code",
   "execution_count": 3,
   "id": "ce6262e6",
   "metadata": {},
   "outputs": [
    {
     "data": {
      "text/plain": [
       "(9360, 3072)"
      ]
     },
     "execution_count": 3,
     "metadata": {},
     "output_type": "execute_result"
    }
   ],
   "source": [
    "# Initialize the OpenAI client\n",
    "client = openai.OpenAI()  # Uses OPENAI_API_KEY environment variable\n",
    "\n",
    "\n",
    "def get_embeddings(texts: List[str],\n",
    "                   model: str = EMBEDDING_MODEL,\n",
    "                   batch_size: int = 200) -> np.ndarray:\n",
    "    \"\"\"\n",
    "    Returns a list of embedding vectors, one per text in `texts`.\n",
    "    Batches requests in sizes of `batch_size` to avoid hitting rate or length limits.\n",
    "    \"\"\"\n",
    "    all_embeddings = []\n",
    "    for i in range(0, len(texts), batch_size):\n",
    "        batch = texts[i : i + batch_size]\n",
    "        resp = client.embeddings.create(model=model, input=batch)\n",
    "        # resp.data is a list with same order as inputs\n",
    "        batch_embeddings = [d.embedding for d in resp.data]\n",
    "        all_embeddings.extend(batch_embeddings)\n",
    "    return np.array(all_embeddings)\n",
    "\n",
    "# Fetch embeddings for the bullet column\n",
    "embeddings_array = get_embeddings(df[\"bullet\"].tolist())\n",
    "\n",
    "embeddings_array.shape\n"
   ]
  },
  {
   "cell_type": "code",
   "execution_count": 11,
   "id": "bb312d43",
   "metadata": {},
   "outputs": [
    {
     "name": "stdout",
     "output_type": "stream",
     "text": [
      "=== Clustering Quality Metrics ===\n",
      "Number of clusters: 405\n",
      "Noise points: 5693 (60.8%)\n",
      "Average cluster size: 9.1 ± 11.6\n",
      "Cluster size range: 3 - 119\n",
      "=== Quality Scores ===\n",
      "Silhouette Score: 0.251 (higher is better)\n",
      "Calinski-Harabasz Score: 17.0 (higher is better)\n",
      "Davies-Bouldin Score: 1.376 (lower is better)\n",
      "HDBSCAN Validity Index: 0.088\n",
      "Composite Score: 0.169 (higher is better)\n",
      "\n"
     ]
    }
   ],
   "source": [
    "def calculate_clustering_metrics(embeddings_array, labels, clusterer=None):\n",
    "    \"\"\"\n",
    "    Calculate various clustering quality metrics for HDBSCAN results.\n",
    "    \n",
    "    Args:\n",
    "        embeddings_array: Original normalized embeddings used for clustering\n",
    "        labels: Cluster labels from HDBSCAN\n",
    "        clusterer: Optional HDBSCAN clusterer object\n",
    "    \n",
    "    Returns:\n",
    "        Dictionary of clustering metrics\n",
    "    \"\"\"\n",
    "    \n",
    "    # Filter out noise points (-1 labels) for some metrics\n",
    "    non_noise_mask = labels != -1\n",
    "    non_noise_embeddings = embeddings_array[non_noise_mask]\n",
    "    non_noise_labels = labels[non_noise_mask]\n",
    "    \n",
    "    metrics = {}\n",
    "    \n",
    "    # Basic cluster statistics\n",
    "    unique_labels = set(labels)\n",
    "    n_clusters = len(unique_labels) - (1 if -1 in unique_labels else 0)\n",
    "    n_noise = np.sum(labels == -1)\n",
    "    \n",
    "    metrics['n_clusters'] = n_clusters\n",
    "    metrics['n_noise_points'] = n_noise\n",
    "    metrics['noise_ratio'] = n_noise / len(labels)\n",
    "    \n",
    "    # Cluster size distribution\n",
    "    cluster_sizes = Counter(labels[labels != -1])\n",
    "    if cluster_sizes:\n",
    "        metrics['avg_cluster_size'] = np.mean(list(cluster_sizes.values()))\n",
    "        metrics['std_cluster_size'] = np.std(list(cluster_sizes.values()))\n",
    "        metrics['min_cluster_size'] = min(cluster_sizes.values())\n",
    "        metrics['max_cluster_size'] = max(cluster_sizes.values())\n",
    "    \n",
    "    # Skip other metrics if we have too few clusters or too much noise\n",
    "    if n_clusters < 2 or len(non_noise_labels) < 2:\n",
    "        print(\"Warning: Too few clusters or too much noise for some metrics\")\n",
    "        return metrics\n",
    "    \n",
    "    # HDBSCAN-specific metrics\n",
    "    # gives some divide by 0 errors\n",
    "    if clusterer is not None:\n",
    "        try:\n",
    "            # Validity index (HDBSCAN's internal metric)\n",
    "            validity_idx = hdbscan.validity.validity_index(\n",
    "                embeddings_array, labels, metric='euclidean'\n",
    "            )\n",
    "            metrics['hdbscan_validity_index'] = validity_idx\n",
    "        except Exception as e:\n",
    "            print(f\"Could not compute HDBSCAN validity index: {e}\")\n",
    "        \n",
    "        # Cluster persistence (stability)\n",
    "        if hasattr(clusterer, 'cluster_persistence_'):\n",
    "            metrics['cluster_persistence'] = clusterer.cluster_persistence_\n",
    "    \n",
    "    # Scikit-learn clustering metrics (excluding noise points)\n",
    "    try:\n",
    "        # Silhouette Score (higher is better, range [-1, 1])\n",
    "        sil_score = silhouette_score(non_noise_embeddings, non_noise_labels, metric='euclidean')\n",
    "        metrics['silhouette_score'] = sil_score\n",
    "        \n",
    "        # Calinski-Harabasz Index (higher is better)\n",
    "        ch_score = calinski_harabasz_score(non_noise_embeddings, non_noise_labels)\n",
    "        metrics['calinski_harabasz_score'] = ch_score\n",
    "        \n",
    "        # Davies-Bouldin Index (lower is better)\n",
    "        db_score = davies_bouldin_score(non_noise_embeddings, non_noise_labels)\n",
    "        metrics['davies_bouldin_score'] = db_score\n",
    "        \n",
    "    except Exception as e:\n",
    "        print(f\"Could not compute sklearn metrics: {e}\")\n",
    "    \n",
    "    # Custom composite score balancing cluster quality and quantity\n",
    "    if 'silhouette_score' in metrics and n_clusters > 0:\n",
    "        # Penalize too many small clusters or too few large clusters\n",
    "        cluster_balance = 1 / (1 + abs(np.log(n_clusters / 10)))  # Optimal around 10 clusters\n",
    "        size_consistency = 1 / (1 + metrics.get('std_cluster_size', 0) / max(metrics.get('avg_cluster_size', 1), 1))\n",
    "        noise_penalty = 1 - min(metrics['noise_ratio'], 0.5)  # Penalize high noise\n",
    "        \n",
    "        composite_score = (\n",
    "            0.5 * max(metrics['silhouette_score'], 0) +  # Quality component\n",
    "            0.5 * max(metrics['hdbscan_validity_index'], 0)\n",
    "#             0.1 * cluster_balance +                       # Quantity component  \n",
    "#             0.1 * size_consistency +                      # Size consistency\n",
    "#             0.3 * noise_penalty                           # Noise penalty\n",
    "        )\n",
    "        metrics['composite_score'] = composite_score\n",
    "    \n",
    "    return metrics\n",
    "\n",
    "def print_clustering_summary(metrics):\n",
    "    \"\"\"Print a nice summary of clustering metrics.\"\"\"\n",
    "    print(\"=== Clustering Quality Metrics ===\")\n",
    "    print(f\"Number of clusters: {metrics.get('n_clusters', 'N/A')}\")\n",
    "    print(f\"Noise points: {metrics.get('n_noise_points', 'N/A')} ({metrics.get('noise_ratio', 0):.1%})\")\n",
    "    \n",
    "    if 'avg_cluster_size' in metrics:\n",
    "        print(f\"Average cluster size: {metrics['avg_cluster_size']:.1f} ± {metrics.get('std_cluster_size', 0):.1f}\")\n",
    "        print(f\"Cluster size range: {metrics.get('min_cluster_size', 'N/A')} - {metrics.get('max_cluster_size', 'N/A')}\")\n",
    "    \n",
    "    print(\"=== Quality Scores ===\")\n",
    "    if 'silhouette_score' in metrics:\n",
    "        print(f\"Silhouette Score: {metrics['silhouette_score']:.3f} (higher is better)\")\n",
    "    if 'calinski_harabasz_score' in metrics:\n",
    "        print(f\"Calinski-Harabasz Score: {metrics['calinski_harabasz_score']:.1f} (higher is better)\")\n",
    "    if 'davies_bouldin_score' in metrics:\n",
    "        print(f\"Davies-Bouldin Score: {metrics['davies_bouldin_score']:.3f} (lower is better)\")\n",
    "    if 'hdbscan_validity_index' in metrics:\n",
    "        print(f\"HDBSCAN Validity Index: {metrics['hdbscan_validity_index']:.3f}\")\n",
    "    if 'composite_score' in metrics:\n",
    "        print(f\"Composite Score: {metrics['composite_score']:.3f} (higher is better)\")\n",
    "    print()\n",
    "\n"
   ]
  },
  {
   "cell_type": "code",
   "execution_count": 42,
   "id": "c4c622fe",
   "metadata": {},
   "outputs": [
    {
     "name": "stdout",
     "output_type": "stream",
     "text": [
      "=== HDBSCAN Parameters ===\n",
      "min_cluster_size:   3\n",
      "min_samples:        3\n",
      "n_components:       200\n",
      "=== Clustering Quality Metrics ===\n",
      "Number of clusters: 423\n",
      "Noise points: 5669 (60.6%)\n",
      "Average cluster size: 8.7 ± 9.8\n",
      "Cluster size range: 3 - 107\n",
      "=== Quality Scores ===\n",
      "Silhouette Score: 0.298 (higher is better)\n",
      "Calinski-Harabasz Score: 25.3 (higher is better)\n",
      "Davies-Bouldin Score: 1.193 (lower is better)\n",
      "HDBSCAN Validity Index: 0.104\n",
      "Composite Score: 0.201 (higher is better)\n",
      "\n"
     ]
    }
   ],
   "source": [
    "n_components = 200\n",
    "svd = TruncatedSVD(n_components=n_components, random_state=RANDOM_STATE)\n",
    "reduced_embeddings = svd.fit_transform(embeddings_array)\n",
    "# Re-normalize after SVD\n",
    "reduced_embeddings /= np.linalg.norm(reduced_embeddings, axis=1, keepdims=True)\n",
    "\n",
    "min_cluster_size = 3\n",
    "min_samples = 3\n",
    "        \n",
    "# Fit HDBSCAN\n",
    "print(\"=== HDBSCAN Parameters ===\")\n",
    "print(f\"min_cluster_size:   {min_cluster_size}\")\n",
    "print(f\"min_samples:        {min_samples}\")\n",
    "print(f\"n_components:       {n_components}\")\n",
    "clusterer = hdbscan.HDBSCAN(\n",
    "    min_cluster_size=min_cluster_size,\n",
    "    min_samples=min_samples,\n",
    "    metric=\"euclidean\",\n",
    "    cluster_selection_method=\"eom\",\n",
    ")\n",
    "\n",
    "labels = clusterer.fit_predict(reduced_embeddings)\n",
    "\n",
    "# Calculate metrics\n",
    "metrics = calculate_clustering_metrics(reduced_embeddings, labels, clusterer)\n",
    "print_clustering_summary(metrics)\n",
    "\n",
    "\n"
   ]
  },
  {
   "cell_type": "code",
   "execution_count": 41,
   "id": "123d658f",
   "metadata": {},
   "outputs": [
    {
     "name": "stdout",
     "output_type": "stream",
     "text": [
      "=== HDBSCAN Parameters ===\n",
      "min_cluster_size:   3\n",
      "min_samples:        3\n",
      "n_components:       200\n",
      "=== Clustering Quality Metrics ===\n",
      "Number of clusters: 612\n",
      "Noise points: 2301 (24.6%)\n",
      "Average cluster size: 11.5 ± 13.3\n",
      "Cluster size range: 3 - 169\n",
      "=== Quality Scores ===\n",
      "Silhouette Score: 0.599 (higher is better)\n",
      "Calinski-Harabasz Score: 4880.3 (higher is better)\n",
      "Davies-Bouldin Score: 0.503 (lower is better)\n",
      "HDBSCAN Validity Index: 0.443\n",
      "Composite Score: 0.521 (higher is better)\n",
      "\n"
     ]
    }
   ],
   "source": [
    "reducer = umap.UMAP(n_components=n_components)\n",
    "# # Fit the reducer to the data without transforming\n",
    "reducer.fit(embeddings_array)\n",
    "# force np64 or hdbscan pukes\n",
    "reduced_embeddings = reducer.transform(embeddings_array).astype(np.float64)\n",
    "reduced_embeddings /= np.linalg.norm(reduced_embeddings, axis=1, keepdims=True)\n",
    "\n",
    "\n",
    "min_cluster_size = 3\n",
    "min_samples = 3\n",
    "        \n",
    "# Fit HDBSCAN\n",
    "print(\"=== HDBSCAN Parameters ===\")\n",
    "print(f\"min_cluster_size:   {min_cluster_size}\")\n",
    "print(f\"min_samples:        {min_samples}\")\n",
    "print(f\"n_components:       {n_components}\")\n",
    "clusterer = hdbscan.HDBSCAN(\n",
    "    min_cluster_size=min_cluster_size,\n",
    "    min_samples=min_samples,\n",
    "    metric=\"euclidean\",\n",
    "    cluster_selection_method=\"eom\",\n",
    ")\n",
    "\n",
    "labels = clusterer.fit_predict(reduced_embeddings)\n",
    "\n",
    "# Calculate metrics\n",
    "metrics = calculate_clustering_metrics(reduced_embeddings, labels, clusterer)\n",
    "print_clustering_summary(metrics)\n",
    "\n"
   ]
  },
  {
   "cell_type": "code",
   "execution_count": 44,
   "id": "cf6162bf",
   "metadata": {},
   "outputs": [
    {
     "name": "stderr",
     "output_type": "stream",
     "text": [
      "[I 2025-06-15 19:34:17,414] A new study created in memory with name: no-name-36d36f84-3670-4ec1-8c04-385d164ed4c1\n"
     ]
    },
    {
     "name": "stdout",
     "output_type": "stream",
     "text": [
      "Starting optimization with 50 trials...\n",
      "Original embedding shape: (9360, 3072)\n"
     ]
    },
    {
     "data": {
      "application/vnd.jupyter.widget-view+json": {
       "model_id": "81cba23c437e4bc7bc775c6007b61e7f",
       "version_major": 2,
       "version_minor": 0
      },
      "text/plain": [
       "  0%|          | 0/50 [00:00<?, ?it/s]"
      ]
     },
     "metadata": {},
     "output_type": "display_data"
    },
    {
     "name": "stdout",
     "output_type": "stream",
     "text": [
      "=== HDBSCAN Parameters ===\n",
      "min_cluster_size:   5\n",
      "min_samples:        5\n",
      "n_components:       576\n",
      "=== Clustering Quality Metrics ===\n",
      "Number of clusters: 360\n",
      "Noise points: 2234 (23.9%)\n",
      "Average cluster size: 19.8 ± 24.1\n",
      "Cluster size range: 5 - 267\n",
      "=== Quality Scores ===\n",
      "Silhouette Score: 0.618 (higher is better)\n",
      "Calinski-Harabasz Score: 4954.9 (higher is better)\n",
      "Davies-Bouldin Score: 0.462 (lower is better)\n",
      "HDBSCAN Validity Index: 0.463\n",
      "Composite Score: 0.541 (higher is better)\n",
      "\n",
      "[I 2025-06-15 19:37:28,750] Trial 0 finished with value: -0.5406824478860744 and parameters: {'min_cluster_size': 5, 'min_samples': 5, 'n_components': 576}. Best is trial 0 with value: -0.5406824478860744.\n",
      "=== HDBSCAN Parameters ===\n",
      "min_cluster_size:   7\n",
      "min_samples:        2\n",
      "n_components:       162\n",
      "=== Clustering Quality Metrics ===\n",
      "Number of clusters: 389\n",
      "Noise points: 2009 (21.5%)\n",
      "Average cluster size: 18.9 ± 15.5\n",
      "Cluster size range: 7 - 144\n",
      "=== Quality Scores ===\n",
      "Silhouette Score: 0.573 (higher is better)\n",
      "Calinski-Harabasz Score: 5283.0 (higher is better)\n",
      "Davies-Bouldin Score: 0.564 (lower is better)\n",
      "HDBSCAN Validity Index: 0.377\n",
      "Composite Score: 0.475 (higher is better)\n",
      "\n",
      "[I 2025-06-15 19:38:31,644] Trial 1 finished with value: -0.47474029532434525 and parameters: {'min_cluster_size': 7, 'min_samples': 2, 'n_components': 162}. Best is trial 0 with value: -0.5406824478860744.\n",
      "=== HDBSCAN Parameters ===\n",
      "min_cluster_size:   2\n",
      "min_samples:        2\n",
      "n_components:       672\n",
      "=== Clustering Quality Metrics ===\n",
      "Number of clusters: 1063\n",
      "Noise points: 2264 (24.2%)\n",
      "Average cluster size: 6.7 ± 6.9\n",
      "Cluster size range: 2 - 91\n",
      "=== Quality Scores ===\n",
      "Silhouette Score: 0.575 (higher is better)\n",
      "Calinski-Harabasz Score: 5948.9 (higher is better)\n",
      "Davies-Bouldin Score: 0.547 (lower is better)\n",
      "HDBSCAN Validity Index: 0.442\n",
      "Composite Score: 0.509 (higher is better)\n",
      "\n",
      "[I 2025-06-15 19:43:32,039] Trial 2 finished with value: -0.5086603849030586 and parameters: {'min_cluster_size': 2, 'min_samples': 2, 'n_components': 672}. Best is trial 0 with value: -0.5406824478860744.\n",
      "=== HDBSCAN Parameters ===\n",
      "min_cluster_size:   7\n",
      "min_samples:        6\n",
      "n_components:       64\n",
      "=== Clustering Quality Metrics ===\n",
      "Number of clusters: 302\n",
      "Noise points: 2383 (25.5%)\n",
      "Average cluster size: 23.1 ± 24.7\n",
      "Cluster size range: 7 - 256\n",
      "=== Quality Scores ===\n",
      "Silhouette Score: 0.632 (higher is better)\n",
      "Calinski-Harabasz Score: 5356.2 (higher is better)\n",
      "Davies-Bouldin Score: 0.435 (lower is better)\n",
      "HDBSCAN Validity Index: 0.452\n",
      "Composite Score: 0.542 (higher is better)\n",
      "\n",
      "[I 2025-06-15 19:44:06,013] Trial 3 finished with value: -0.5423081244787162 and parameters: {'min_cluster_size': 7, 'min_samples': 6, 'n_components': 64}. Best is trial 3 with value: -0.5423081244787162.\n",
      "=== HDBSCAN Parameters ===\n",
      "min_cluster_size:   10\n",
      "min_samples:        9\n",
      "n_components:       202\n",
      "=== Clustering Quality Metrics ===\n",
      "Number of clusters: 215\n",
      "Noise points: 2785 (29.8%)\n",
      "Average cluster size: 30.6 ± 29.5\n",
      "Cluster size range: 10 - 261\n",
      "=== Quality Scores ===\n",
      "Silhouette Score: 0.666 (higher is better)\n",
      "Calinski-Harabasz Score: 6351.4 (higher is better)\n",
      "Davies-Bouldin Score: 0.413 (lower is better)\n",
      "HDBSCAN Validity Index: 0.436\n",
      "Composite Score: 0.551 (higher is better)\n",
      "\n",
      "[I 2025-06-15 19:45:10,084] Trial 4 finished with value: -0.5508775927238486 and parameters: {'min_cluster_size': 10, 'min_samples': 9, 'n_components': 202}. Best is trial 4 with value: -0.5508775927238486.\n",
      "=== HDBSCAN Parameters ===\n",
      "min_cluster_size:   3\n",
      "min_samples:        2\n",
      "n_components:       268\n",
      "=== Clustering Quality Metrics ===\n",
      "Number of clusters: 917\n",
      "Noise points: 2138 (22.8%)\n",
      "Average cluster size: 7.9 ± 7.8\n",
      "Cluster size range: 3 - 127\n",
      "=== Quality Scores ===\n",
      "Silhouette Score: 0.580 (higher is better)\n",
      "Calinski-Harabasz Score: 5806.9 (higher is better)\n",
      "Davies-Bouldin Score: 0.539 (lower is better)\n",
      "HDBSCAN Validity Index: 0.450\n",
      "Composite Score: 0.515 (higher is better)\n",
      "\n",
      "[I 2025-06-15 19:46:49,874] Trial 5 finished with value: -0.5150213270117834 and parameters: {'min_cluster_size': 3, 'min_samples': 2, 'n_components': 268}. Best is trial 4 with value: -0.5508775927238486.\n",
      "=== HDBSCAN Parameters ===\n",
      "min_cluster_size:   6\n",
      "min_samples:        4\n",
      "n_components:       259\n",
      "=== Clustering Quality Metrics ===\n",
      "Number of clusters: 372\n",
      "Noise points: 2278 (24.3%)\n",
      "Average cluster size: 19.0 ± 22.6\n",
      "Cluster size range: 6 - 253\n",
      "=== Quality Scores ===\n",
      "Silhouette Score: 0.608 (higher is better)\n",
      "Calinski-Harabasz Score: 4911.6 (higher is better)\n",
      "Davies-Bouldin Score: 0.464 (lower is better)\n",
      "HDBSCAN Validity Index: 0.462\n",
      "Composite Score: 0.535 (higher is better)\n",
      "\n",
      "[I 2025-06-15 19:48:44,271] Trial 6 finished with value: -0.5350834154430404 and parameters: {'min_cluster_size': 6, 'min_samples': 4, 'n_components': 259}. Best is trial 4 with value: -0.5508775927238486.\n",
      "=== HDBSCAN Parameters ===\n",
      "min_cluster_size:   7\n",
      "min_samples:        2\n",
      "n_components:       260\n",
      "=== Clustering Quality Metrics ===\n",
      "Number of clusters: 390\n",
      "Noise points: 2036 (21.8%)\n",
      "Average cluster size: 18.8 ± 16.4\n",
      "Cluster size range: 7 - 162\n",
      "=== Quality Scores ===\n",
      "Silhouette Score: 0.581 (higher is better)\n",
      "Calinski-Harabasz Score: 5502.3 (higher is better)\n",
      "Davies-Bouldin Score: 0.563 (lower is better)\n",
      "HDBSCAN Validity Index: 0.387\n",
      "Composite Score: 0.484 (higher is better)\n",
      "\n",
      "[I 2025-06-15 19:50:30,279] Trial 7 finished with value: -0.4841047120064965 and parameters: {'min_cluster_size': 7, 'min_samples': 2, 'n_components': 260}. Best is trial 4 with value: -0.5508775927238486.\n",
      "=== HDBSCAN Parameters ===\n",
      "min_cluster_size:   5\n",
      "min_samples:        3\n",
      "n_components:       614\n",
      "=== Clustering Quality Metrics ===\n",
      "Number of clusters: 478\n",
      "Noise points: 2096 (22.4%)\n",
      "Average cluster size: 15.2 ± 18.1\n",
      "Cluster size range: 5 - 183\n",
      "=== Quality Scores ===\n",
      "Silhouette Score: 0.601 (higher is better)\n",
      "Calinski-Harabasz Score: 5315.1 (higher is better)\n",
      "Davies-Bouldin Score: 0.498 (lower is better)\n",
      "HDBSCAN Validity Index: 0.445\n",
      "Composite Score: 0.523 (higher is better)\n",
      "\n",
      "[I 2025-06-15 19:55:13,010] Trial 8 finished with value: -0.5230858520562511 and parameters: {'min_cluster_size': 5, 'min_samples': 3, 'n_components': 614}. Best is trial 4 with value: -0.5508775927238486.\n",
      "=== HDBSCAN Parameters ===\n",
      "min_cluster_size:   3\n",
      "min_samples:        3\n",
      "n_components:       475\n",
      "=== Clustering Quality Metrics ===\n",
      "Number of clusters: 647\n",
      "Noise points: 2345 (25.1%)\n",
      "Average cluster size: 10.8 ± 12.4\n",
      "Cluster size range: 3 - 168\n",
      "=== Quality Scores ===\n",
      "Silhouette Score: 0.608 (higher is better)\n",
      "Calinski-Harabasz Score: 5292.4 (higher is better)\n",
      "Davies-Bouldin Score: 0.501 (lower is better)\n",
      "HDBSCAN Validity Index: 0.459\n",
      "Composite Score: 0.534 (higher is better)\n",
      "\n",
      "[I 2025-06-15 19:58:45,824] Trial 9 finished with value: -0.5336748854741442 and parameters: {'min_cluster_size': 3, 'min_samples': 3, 'n_components': 475}. Best is trial 4 with value: -0.5508775927238486.\n",
      "=== HDBSCAN Parameters ===\n",
      "min_cluster_size:   10\n",
      "min_samples:        10\n",
      "n_components:       407\n",
      "=== Clustering Quality Metrics ===\n",
      "Number of clusters: 197\n",
      "Noise points: 2816 (30.1%)\n",
      "Average cluster size: 33.2 ± 36.1\n",
      "Cluster size range: 10 - 269\n",
      "=== Quality Scores ===\n",
      "Silhouette Score: 0.644 (higher is better)\n",
      "Calinski-Harabasz Score: 4550.0 (higher is better)\n",
      "Davies-Bouldin Score: 0.422 (lower is better)\n",
      "HDBSCAN Validity Index: 0.448\n",
      "Composite Score: 0.546 (higher is better)\n",
      "\n",
      "[I 2025-06-15 20:01:26,670] Trial 10 finished with value: -0.5459527194025573 and parameters: {'min_cluster_size': 10, 'min_samples': 10, 'n_components': 407}. Best is trial 4 with value: -0.5508775927238486.\n",
      "=== HDBSCAN Parameters ===\n",
      "min_cluster_size:   10\n",
      "min_samples:        10\n",
      "n_components:       408\n",
      "=== Clustering Quality Metrics ===\n",
      "Number of clusters: 202\n",
      "Noise points: 2805 (30.0%)\n",
      "Average cluster size: 32.5 ± 32.3\n",
      "Cluster size range: 10 - 255\n",
      "=== Quality Scores ===\n",
      "Silhouette Score: 0.662 (higher is better)\n",
      "Calinski-Harabasz Score: 5644.2 (higher is better)\n",
      "Davies-Bouldin Score: 0.423 (lower is better)\n",
      "HDBSCAN Validity Index: 0.438\n",
      "Composite Score: 0.550 (higher is better)\n",
      "\n",
      "[I 2025-06-15 20:03:49,888] Trial 11 finished with value: -0.5500416590796631 and parameters: {'min_cluster_size': 10, 'min_samples': 10, 'n_components': 408}. Best is trial 4 with value: -0.5508775927238486.\n",
      "=== HDBSCAN Parameters ===\n",
      "min_cluster_size:   10\n",
      "min_samples:        10\n",
      "n_components:       405\n"
     ]
    },
    {
     "name": "stdout",
     "output_type": "stream",
     "text": [
      "=== Clustering Quality Metrics ===\n",
      "Number of clusters: 194\n",
      "Noise points: 2803 (29.9%)\n",
      "Average cluster size: 33.8 ± 35.8\n",
      "Cluster size range: 11 - 268\n",
      "=== Quality Scores ===\n",
      "Silhouette Score: 0.646 (higher is better)\n",
      "Calinski-Harabasz Score: 4822.8 (higher is better)\n",
      "Davies-Bouldin Score: 0.423 (lower is better)\n",
      "HDBSCAN Validity Index: 0.421\n",
      "Composite Score: 0.533 (higher is better)\n",
      "\n",
      "[I 2025-06-15 20:06:26,542] Trial 12 finished with value: -0.5333793286548366 and parameters: {'min_cluster_size': 10, 'min_samples': 10, 'n_components': 405}. Best is trial 4 with value: -0.5508775927238486.\n",
      "=== HDBSCAN Parameters ===\n",
      "min_cluster_size:   9\n",
      "min_samples:        8\n",
      "n_components:       57\n",
      "=== Clustering Quality Metrics ===\n",
      "Number of clusters: 232\n",
      "Noise points: 2582 (27.6%)\n",
      "Average cluster size: 29.2 ± 29.0\n",
      "Cluster size range: 9 - 250\n",
      "=== Quality Scores ===\n",
      "Silhouette Score: 0.650 (higher is better)\n",
      "Calinski-Harabasz Score: 5489.7 (higher is better)\n",
      "Davies-Bouldin Score: 0.435 (lower is better)\n",
      "HDBSCAN Validity Index: 0.446\n",
      "Composite Score: 0.548 (higher is better)\n",
      "\n",
      "[I 2025-06-15 20:07:02,452] Trial 13 finished with value: -0.5477828284664764 and parameters: {'min_cluster_size': 9, 'min_samples': 8, 'n_components': 57}. Best is trial 4 with value: -0.5508775927238486.\n",
      "=== HDBSCAN Parameters ===\n",
      "min_cluster_size:   9\n",
      "min_samples:        8\n",
      "n_components:       497\n",
      "=== Clustering Quality Metrics ===\n",
      "Number of clusters: 231\n",
      "Noise points: 2554 (27.3%)\n",
      "Average cluster size: 29.5 ± 29.4\n",
      "Cluster size range: 9 - 258\n",
      "=== Quality Scores ===\n",
      "Silhouette Score: 0.648 (higher is better)\n",
      "Calinski-Harabasz Score: 5383.9 (higher is better)\n",
      "Davies-Bouldin Score: 0.428 (lower is better)\n",
      "HDBSCAN Validity Index: 0.455\n",
      "Composite Score: 0.552 (higher is better)\n",
      "\n",
      "[I 2025-06-15 20:11:23,575] Trial 14 finished with value: -0.5517885302233437 and parameters: {'min_cluster_size': 9, 'min_samples': 8, 'n_components': 497}. Best is trial 14 with value: -0.5517885302233437.\n",
      "=== HDBSCAN Parameters ===\n",
      "min_cluster_size:   8\n",
      "min_samples:        7\n",
      "n_components:       764\n",
      "=== Clustering Quality Metrics ===\n",
      "Number of clusters: 256\n",
      "Noise points: 2443 (26.1%)\n",
      "Average cluster size: 27.0 ± 30.4\n",
      "Cluster size range: 8 - 248\n",
      "=== Quality Scores ===\n",
      "Silhouette Score: 0.637 (higher is better)\n",
      "Calinski-Harabasz Score: 5099.2 (higher is better)\n",
      "Davies-Bouldin Score: 0.429 (lower is better)\n",
      "HDBSCAN Validity Index: 0.446\n",
      "Composite Score: 0.541 (higher is better)\n",
      "\n",
      "[I 2025-06-15 20:18:34,424] Trial 15 finished with value: -0.541393668357085 and parameters: {'min_cluster_size': 8, 'min_samples': 7, 'n_components': 764}. Best is trial 14 with value: -0.5517885302233437.\n",
      "=== HDBSCAN Parameters ===\n",
      "min_cluster_size:   9\n",
      "min_samples:        8\n",
      "n_components:       519\n",
      "=== Clustering Quality Metrics ===\n",
      "Number of clusters: 241\n",
      "Noise points: 2477 (26.5%)\n",
      "Average cluster size: 28.6 ± 31.3\n",
      "Cluster size range: 9 - 271\n",
      "=== Quality Scores ===\n",
      "Silhouette Score: 0.637 (higher is better)\n",
      "Calinski-Harabasz Score: 5168.4 (higher is better)\n",
      "Davies-Bouldin Score: 0.432 (lower is better)\n",
      "HDBSCAN Validity Index: 0.445\n",
      "Composite Score: 0.541 (higher is better)\n",
      "\n",
      "[I 2025-06-15 20:22:58,519] Trial 16 finished with value: -0.5411874840089813 and parameters: {'min_cluster_size': 9, 'min_samples': 8, 'n_components': 519}. Best is trial 14 with value: -0.5517885302233437.\n",
      "=== HDBSCAN Parameters ===\n",
      "min_cluster_size:   9\n",
      "min_samples:        8\n",
      "n_components:       321\n",
      "=== Clustering Quality Metrics ===\n",
      "Number of clusters: 234\n",
      "Noise points: 2647 (28.3%)\n",
      "Average cluster size: 28.7 ± 31.3\n",
      "Cluster size range: 9 - 257\n",
      "=== Quality Scores ===\n",
      "Silhouette Score: 0.642 (higher is better)\n",
      "Calinski-Harabasz Score: 5286.7 (higher is better)\n",
      "Davies-Bouldin Score: 0.425 (lower is better)\n",
      "HDBSCAN Validity Index: 0.438\n",
      "Composite Score: 0.540 (higher is better)\n",
      "\n",
      "[I 2025-06-15 20:25:30,569] Trial 17 finished with value: -0.5399536131694969 and parameters: {'min_cluster_size': 9, 'min_samples': 8, 'n_components': 321}. Best is trial 14 with value: -0.5517885302233437.\n",
      "=== HDBSCAN Parameters ===\n",
      "min_cluster_size:   8\n",
      "min_samples:        7\n",
      "n_components:       158\n",
      "=== Clustering Quality Metrics ===\n",
      "Number of clusters: 262\n",
      "Noise points: 2410 (25.7%)\n",
      "Average cluster size: 26.5 ± 28.9\n",
      "Cluster size range: 8 - 240\n",
      "=== Quality Scores ===\n",
      "Silhouette Score: 0.625 (higher is better)\n",
      "Calinski-Harabasz Score: 4682.5 (higher is better)\n",
      "Davies-Bouldin Score: 0.447 (lower is better)\n",
      "HDBSCAN Validity Index: 0.446\n",
      "Composite Score: 0.536 (higher is better)\n",
      "\n",
      "[I 2025-06-15 20:26:45,263] Trial 18 finished with value: -0.5356288151277699 and parameters: {'min_cluster_size': 8, 'min_samples': 7, 'n_components': 158}. Best is trial 14 with value: -0.5517885302233437.\n",
      "=== HDBSCAN Parameters ===\n",
      "min_cluster_size:   8\n",
      "min_samples:        7\n",
      "n_components:       342\n",
      "=== Clustering Quality Metrics ===\n",
      "Number of clusters: 267\n",
      "Noise points: 2603 (27.8%)\n",
      "Average cluster size: 25.3 ± 27.4\n",
      "Cluster size range: 8 - 261\n",
      "=== Quality Scores ===\n",
      "Silhouette Score: 0.654 (higher is better)\n",
      "Calinski-Harabasz Score: 5424.1 (higher is better)\n",
      "Davies-Bouldin Score: 0.415 (lower is better)\n",
      "HDBSCAN Validity Index: 0.455\n",
      "Composite Score: 0.554 (higher is better)\n",
      "\n",
      "[I 2025-06-15 20:29:31,542] Trial 19 finished with value: -0.5544568178327329 and parameters: {'min_cluster_size': 8, 'min_samples': 7, 'n_components': 342}. Best is trial 19 with value: -0.5544568178327329.\n",
      "=== HDBSCAN Parameters ===\n",
      "min_cluster_size:   8\n",
      "min_samples:        6\n",
      "n_components:       495\n",
      "=== Clustering Quality Metrics ===\n",
      "Number of clusters: 280\n",
      "Noise points: 2405 (25.7%)\n",
      "Average cluster size: 24.8 ± 26.6\n",
      "Cluster size range: 8 - 261\n",
      "=== Quality Scores ===\n",
      "Silhouette Score: 0.639 (higher is better)\n",
      "Calinski-Harabasz Score: 5552.0 (higher is better)\n",
      "Davies-Bouldin Score: 0.442 (lower is better)\n",
      "HDBSCAN Validity Index: 0.445\n",
      "Composite Score: 0.542 (higher is better)\n",
      "\n",
      "[I 2025-06-15 20:32:59,267] Trial 20 finished with value: -0.5421640337338403 and parameters: {'min_cluster_size': 8, 'min_samples': 6, 'n_components': 495}. Best is trial 19 with value: -0.5544568178327329.\n",
      "=== HDBSCAN Parameters ===\n",
      "min_cluster_size:   9\n",
      "min_samples:        8\n",
      "n_components:       173\n",
      "=== Clustering Quality Metrics ===\n",
      "Number of clusters: 239\n",
      "Noise points: 2692 (28.8%)\n",
      "Average cluster size: 27.9 ± 28.1\n",
      "Cluster size range: 9 - 255\n",
      "=== Quality Scores ===\n",
      "Silhouette Score: 0.656 (higher is better)\n",
      "Calinski-Harabasz Score: 5860.7 (higher is better)\n",
      "Davies-Bouldin Score: 0.426 (lower is better)\n",
      "HDBSCAN Validity Index: 0.442\n",
      "Composite Score: 0.549 (higher is better)\n",
      "\n",
      "[I 2025-06-15 20:34:16,551] Trial 21 finished with value: -0.5489411621789285 and parameters: {'min_cluster_size': 9, 'min_samples': 8, 'n_components': 173}. Best is trial 19 with value: -0.5544568178327329.\n",
      "=== HDBSCAN Parameters ===\n",
      "min_cluster_size:   10\n",
      "min_samples:        9\n",
      "n_components:       332\n",
      "=== Clustering Quality Metrics ===\n",
      "Number of clusters: 213\n",
      "Noise points: 2830 (30.2%)\n",
      "Average cluster size: 30.7 ± 29.0\n",
      "Cluster size range: 10 - 248\n",
      "=== Quality Scores ===\n",
      "Silhouette Score: 0.665 (higher is better)\n",
      "Calinski-Harabasz Score: 6199.9 (higher is better)\n",
      "Davies-Bouldin Score: 0.423 (lower is better)\n",
      "HDBSCAN Validity Index: 0.439\n",
      "Composite Score: 0.552 (higher is better)\n",
      "\n",
      "[I 2025-06-15 20:36:30,810] Trial 22 finished with value: -0.5523584849567609 and parameters: {'min_cluster_size': 10, 'min_samples': 9, 'n_components': 332}. Best is trial 19 with value: -0.5544568178327329.\n",
      "=== HDBSCAN Parameters ===\n",
      "min_cluster_size:   8\n",
      "min_samples:        7\n",
      "n_components:       336\n",
      "=== Clustering Quality Metrics ===\n",
      "Number of clusters: 267\n",
      "Noise points: 2469 (26.4%)\n",
      "Average cluster size: 25.8 ± 29.7\n",
      "Cluster size range: 8 - 256\n",
      "=== Quality Scores ===\n",
      "Silhouette Score: 0.620 (higher is better)\n",
      "Calinski-Harabasz Score: 4326.2 (higher is better)\n",
      "Davies-Bouldin Score: 0.446 (lower is better)\n",
      "HDBSCAN Validity Index: 0.437\n",
      "Composite Score: 0.528 (higher is better)\n",
      "\n",
      "[I 2025-06-15 20:38:58,605] Trial 23 finished with value: -0.5282101628223036 and parameters: {'min_cluster_size': 8, 'min_samples': 7, 'n_components': 336}. Best is trial 19 with value: -0.5544568178327329.\n",
      "=== HDBSCAN Parameters ===\n",
      "min_cluster_size:   9\n",
      "min_samples:        7\n",
      "n_components:       351\n"
     ]
    },
    {
     "name": "stdout",
     "output_type": "stream",
     "text": [
      "=== Clustering Quality Metrics ===\n",
      "Number of clusters: 244\n",
      "Noise points: 2628 (28.1%)\n",
      "Average cluster size: 27.6 ± 28.5\n",
      "Cluster size range: 9 - 257\n",
      "=== Quality Scores ===\n",
      "Silhouette Score: 0.650 (higher is better)\n",
      "Calinski-Harabasz Score: 5441.0 (higher is better)\n",
      "Davies-Bouldin Score: 0.428 (lower is better)\n",
      "HDBSCAN Validity Index: 0.448\n",
      "Composite Score: 0.549 (higher is better)\n",
      "\n",
      "[I 2025-06-15 20:41:39,118] Trial 24 finished with value: -0.5491605870200702 and parameters: {'min_cluster_size': 9, 'min_samples': 7, 'n_components': 351}. Best is trial 19 with value: -0.5544568178327329.\n",
      "=== HDBSCAN Parameters ===\n",
      "min_cluster_size:   6\n",
      "min_samples:        5\n",
      "n_components:       456\n",
      "=== Clustering Quality Metrics ===\n",
      "Number of clusters: 324\n",
      "Noise points: 2199 (23.5%)\n",
      "Average cluster size: 22.1 ± 26.6\n",
      "Cluster size range: 6 - 259\n",
      "=== Quality Scores ===\n",
      "Silhouette Score: 0.620 (higher is better)\n",
      "Calinski-Harabasz Score: 4650.2 (higher is better)\n",
      "Davies-Bouldin Score: 0.448 (lower is better)\n",
      "HDBSCAN Validity Index: 0.471\n",
      "Composite Score: 0.545 (higher is better)\n",
      "\n",
      "[I 2025-06-15 20:45:27,811] Trial 25 finished with value: -0.5452105726949135 and parameters: {'min_cluster_size': 6, 'min_samples': 5, 'n_components': 456}. Best is trial 19 with value: -0.5544568178327329.\n",
      "=== HDBSCAN Parameters ===\n",
      "min_cluster_size:   10\n",
      "min_samples:        9\n",
      "n_components:       585\n",
      "=== Clustering Quality Metrics ===\n",
      "Number of clusters: 217\n",
      "Noise points: 2663 (28.5%)\n",
      "Average cluster size: 30.9 ± 31.6\n",
      "Cluster size range: 10 - 265\n",
      "=== Quality Scores ===\n",
      "Silhouette Score: 0.657 (higher is better)\n",
      "Calinski-Harabasz Score: 5881.0 (higher is better)\n",
      "Davies-Bouldin Score: 0.413 (lower is better)\n",
      "HDBSCAN Validity Index: 0.442\n",
      "Composite Score: 0.550 (higher is better)\n",
      "\n",
      "[I 2025-06-15 20:50:34,147] Trial 26 finished with value: -0.5496586620044663 and parameters: {'min_cluster_size': 10, 'min_samples': 9, 'n_components': 585}. Best is trial 19 with value: -0.5544568178327329.\n",
      "=== HDBSCAN Parameters ===\n",
      "min_cluster_size:   8\n",
      "min_samples:        6\n",
      "n_components:       532\n",
      "=== Clustering Quality Metrics ===\n",
      "Number of clusters: 279\n",
      "Noise points: 2379 (25.4%)\n",
      "Average cluster size: 25.0 ± 24.5\n",
      "Cluster size range: 8 - 192\n",
      "=== Quality Scores ===\n",
      "Silhouette Score: 0.642 (higher is better)\n",
      "Calinski-Harabasz Score: 5848.7 (higher is better)\n",
      "Davies-Bouldin Score: 0.446 (lower is better)\n",
      "HDBSCAN Validity Index: 0.449\n",
      "Composite Score: 0.545 (higher is better)\n",
      "\n",
      "[I 2025-06-15 20:55:19,711] Trial 27 finished with value: -0.5454432960058033 and parameters: {'min_cluster_size': 8, 'min_samples': 6, 'n_components': 532}. Best is trial 19 with value: -0.5544568178327329.\n",
      "=== HDBSCAN Parameters ===\n",
      "min_cluster_size:   9\n",
      "min_samples:        8\n",
      "n_components:       448\n",
      "=== Clustering Quality Metrics ===\n",
      "Number of clusters: 226\n",
      "Noise points: 2376 (25.4%)\n",
      "Average cluster size: 30.9 ± 35.8\n",
      "Cluster size range: 9 - 261\n",
      "=== Quality Scores ===\n",
      "Silhouette Score: 0.624 (higher is better)\n",
      "Calinski-Harabasz Score: 4278.1 (higher is better)\n",
      "Davies-Bouldin Score: 0.437 (lower is better)\n",
      "HDBSCAN Validity Index: 0.446\n",
      "Composite Score: 0.535 (higher is better)\n",
      "\n",
      "[I 2025-06-15 20:59:19,904] Trial 28 finished with value: -0.5352288334905724 and parameters: {'min_cluster_size': 9, 'min_samples': 8, 'n_components': 448}. Best is trial 19 with value: -0.5544568178327329.\n",
      "=== HDBSCAN Parameters ===\n",
      "min_cluster_size:   6\n",
      "min_samples:        5\n",
      "n_components:       375\n",
      "=== Clustering Quality Metrics ===\n",
      "Number of clusters: 347\n",
      "Noise points: 2436 (26.0%)\n",
      "Average cluster size: 20.0 ± 22.6\n",
      "Cluster size range: 6 - 263\n",
      "=== Quality Scores ===\n",
      "Silhouette Score: 0.622 (higher is better)\n",
      "Calinski-Harabasz Score: 4820.1 (higher is better)\n",
      "Davies-Bouldin Score: 0.465 (lower is better)\n",
      "HDBSCAN Validity Index: 0.452\n",
      "Composite Score: 0.537 (higher is better)\n",
      "\n",
      "[I 2025-06-15 21:03:31,160] Trial 29 finished with value: -0.5370064694539458 and parameters: {'min_cluster_size': 6, 'min_samples': 5, 'n_components': 375}. Best is trial 19 with value: -0.5544568178327329.\n",
      "=== HDBSCAN Parameters ===\n",
      "min_cluster_size:   7\n",
      "min_samples:        6\n",
      "n_components:       294\n",
      "=== Clustering Quality Metrics ===\n",
      "Number of clusters: 294\n",
      "Noise points: 2497 (26.7%)\n",
      "Average cluster size: 23.3 ± 25.9\n",
      "Cluster size range: 7 - 264\n",
      "=== Quality Scores ===\n",
      "Silhouette Score: 0.647 (higher is better)\n",
      "Calinski-Harabasz Score: 5603.3 (higher is better)\n",
      "Davies-Bouldin Score: 0.428 (lower is better)\n",
      "HDBSCAN Validity Index: 0.460\n",
      "Composite Score: 0.553 (higher is better)\n",
      "\n",
      "[I 2025-06-15 21:06:16,330] Trial 30 finished with value: -0.5534967772630268 and parameters: {'min_cluster_size': 7, 'min_samples': 6, 'n_components': 294}. Best is trial 19 with value: -0.5544568178327329.\n",
      "=== HDBSCAN Parameters ===\n",
      "min_cluster_size:   7\n",
      "min_samples:        6\n",
      "n_components:       303\n",
      "=== Clustering Quality Metrics ===\n",
      "Number of clusters: 291\n",
      "Noise points: 2412 (25.8%)\n",
      "Average cluster size: 23.9 ± 25.8\n",
      "Cluster size range: 7 - 247\n",
      "=== Quality Scores ===\n",
      "Silhouette Score: 0.622 (higher is better)\n",
      "Calinski-Harabasz Score: 5460.5 (higher is better)\n",
      "Davies-Bouldin Score: 0.445 (lower is better)\n",
      "HDBSCAN Validity Index: 0.456\n",
      "Composite Score: 0.539 (higher is better)\n",
      "\n",
      "[I 2025-06-15 21:09:32,442] Trial 31 finished with value: -0.5392514020837701 and parameters: {'min_cluster_size': 7, 'min_samples': 6, 'n_components': 303}. Best is trial 19 with value: -0.5544568178327329.\n",
      "=== HDBSCAN Parameters ===\n",
      "min_cluster_size:   8\n",
      "min_samples:        7\n",
      "n_components:       294\n",
      "=== Clustering Quality Metrics ===\n",
      "Number of clusters: 250\n",
      "Noise points: 2340 (25.0%)\n",
      "Average cluster size: 28.1 ± 32.1\n",
      "Cluster size range: 8 - 260\n",
      "=== Quality Scores ===\n",
      "Silhouette Score: 0.630 (higher is better)\n",
      "Calinski-Harabasz Score: 4822.5 (higher is better)\n",
      "Davies-Bouldin Score: 0.428 (lower is better)\n",
      "HDBSCAN Validity Index: 0.468\n",
      "Composite Score: 0.549 (higher is better)\n",
      "\n",
      "[I 2025-06-15 21:12:41,522] Trial 32 finished with value: -0.5486797745112656 and parameters: {'min_cluster_size': 8, 'min_samples': 7, 'n_components': 294}. Best is trial 19 with value: -0.5544568178327329.\n",
      "=== HDBSCAN Parameters ===\n",
      "min_cluster_size:   7\n",
      "min_samples:        6\n",
      "n_components:       372\n",
      "=== Clustering Quality Metrics ===\n",
      "Number of clusters: 304\n",
      "Noise points: 2527 (27.0%)\n",
      "Average cluster size: 22.5 ± 25.9\n",
      "Cluster size range: 7 - 282\n",
      "=== Quality Scores ===\n",
      "Silhouette Score: 0.651 (higher is better)\n",
      "Calinski-Harabasz Score: 5233.8 (higher is better)\n",
      "Davies-Bouldin Score: 0.431 (lower is better)\n",
      "HDBSCAN Validity Index: 0.451\n",
      "Composite Score: 0.551 (higher is better)\n",
      "\n",
      "[I 2025-06-15 21:17:32,152] Trial 33 finished with value: -0.5507056204510058 and parameters: {'min_cluster_size': 7, 'min_samples': 6, 'n_components': 372}. Best is trial 19 with value: -0.5544568178327329.\n",
      "=== HDBSCAN Parameters ===\n",
      "min_cluster_size:   7\n",
      "min_samples:        4\n",
      "n_components:       220\n",
      "=== Clustering Quality Metrics ===\n",
      "Number of clusters: 332\n",
      "Noise points: 2248 (24.0%)\n",
      "Average cluster size: 21.4 ± 20.5\n",
      "Cluster size range: 7 - 183\n",
      "=== Quality Scores ===\n",
      "Silhouette Score: 0.614 (higher is better)\n",
      "Calinski-Harabasz Score: 5724.2 (higher is better)\n",
      "Davies-Bouldin Score: 0.483 (lower is better)\n",
      "HDBSCAN Validity Index: 0.432\n",
      "Composite Score: 0.523 (higher is better)\n",
      "\n",
      "[I 2025-06-15 21:20:24,214] Trial 34 finished with value: -0.5229866402382203 and parameters: {'min_cluster_size': 7, 'min_samples': 4, 'n_components': 220}. Best is trial 19 with value: -0.5544568178327329.\n",
      "=== HDBSCAN Parameters ===\n",
      "min_cluster_size:   5\n",
      "min_samples:        4\n",
      "n_components:       120\n",
      "=== Clustering Quality Metrics ===\n",
      "Number of clusters: 445\n",
      "Noise points: 2427 (25.9%)\n",
      "Average cluster size: 15.6 ± 14.5\n",
      "Cluster size range: 5 - 122\n",
      "=== Quality Scores ===\n",
      "Silhouette Score: 0.622 (higher is better)\n",
      "Calinski-Harabasz Score: 6038.6 (higher is better)\n",
      "Davies-Bouldin Score: 0.479 (lower is better)\n",
      "HDBSCAN Validity Index: 0.442\n",
      "Composite Score: 0.532 (higher is better)\n",
      "\n",
      "[I 2025-06-15 21:22:08,895] Trial 35 finished with value: -0.5321874371095237 and parameters: {'min_cluster_size': 5, 'min_samples': 4, 'n_components': 120}. Best is trial 19 with value: -0.5544568178327329.\n",
      "=== HDBSCAN Parameters ===\n",
      "min_cluster_size:   9\n",
      "min_samples:        8\n",
      "n_components:       226\n"
     ]
    },
    {
     "name": "stdout",
     "output_type": "stream",
     "text": [
      "=== Clustering Quality Metrics ===\n",
      "Number of clusters: 235\n",
      "Noise points: 2492 (26.6%)\n",
      "Average cluster size: 29.2 ± 30.9\n",
      "Cluster size range: 9 - 259\n",
      "=== Quality Scores ===\n",
      "Silhouette Score: 0.642 (higher is better)\n",
      "Calinski-Harabasz Score: 5114.7 (higher is better)\n",
      "Davies-Bouldin Score: 0.440 (lower is better)\n",
      "HDBSCAN Validity Index: 0.441\n",
      "Composite Score: 0.542 (higher is better)\n",
      "\n",
      "[I 2025-06-15 21:24:17,930] Trial 36 finished with value: -0.541840261635683 and parameters: {'min_cluster_size': 9, 'min_samples': 8, 'n_components': 226}. Best is trial 19 with value: -0.5544568178327329.\n",
      "=== HDBSCAN Parameters ===\n",
      "min_cluster_size:   10\n",
      "min_samples:        9\n",
      "n_components:       641\n",
      "=== Clustering Quality Metrics ===\n",
      "Number of clusters: 212\n",
      "Noise points: 2688 (28.7%)\n",
      "Average cluster size: 31.5 ± 30.4\n",
      "Cluster size range: 10 - 249\n",
      "=== Quality Scores ===\n",
      "Silhouette Score: 0.646 (higher is better)\n",
      "Calinski-Harabasz Score: 5633.6 (higher is better)\n",
      "Davies-Bouldin Score: 0.431 (lower is better)\n",
      "HDBSCAN Validity Index: 0.430\n",
      "Composite Score: 0.538 (higher is better)\n",
      "\n",
      "[I 2025-06-15 21:31:05,371] Trial 37 finished with value: -0.5379201691842692 and parameters: {'min_cluster_size': 10, 'min_samples': 9, 'n_components': 641}. Best is trial 19 with value: -0.5544568178327329.\n",
      "=== HDBSCAN Parameters ===\n",
      "min_cluster_size:   6\n",
      "min_samples:        5\n",
      "n_components:       539\n",
      "=== Clustering Quality Metrics ===\n",
      "Number of clusters: 342\n",
      "Noise points: 2330 (24.9%)\n",
      "Average cluster size: 20.6 ± 24.9\n",
      "Cluster size range: 6 - 269\n",
      "=== Quality Scores ===\n",
      "Silhouette Score: 0.627 (higher is better)\n",
      "Calinski-Harabasz Score: 4723.1 (higher is better)\n",
      "Davies-Bouldin Score: 0.441 (lower is better)\n",
      "HDBSCAN Validity Index: 0.461\n",
      "Composite Score: 0.544 (higher is better)\n",
      "\n",
      "[I 2025-06-15 21:37:51,370] Trial 38 finished with value: -0.544078541677669 and parameters: {'min_cluster_size': 6, 'min_samples': 5, 'n_components': 539}. Best is trial 19 with value: -0.5544568178327329.\n",
      "=== HDBSCAN Parameters ===\n",
      "min_cluster_size:   7\n",
      "min_samples:        6\n",
      "n_components:       277\n",
      "=== Clustering Quality Metrics ===\n",
      "Number of clusters: 298\n",
      "Noise points: 2419 (25.8%)\n",
      "Average cluster size: 23.3 ± 25.8\n",
      "Cluster size range: 7 - 258\n",
      "=== Quality Scores ===\n",
      "Silhouette Score: 0.629 (higher is better)\n",
      "Calinski-Harabasz Score: 5577.0 (higher is better)\n",
      "Davies-Bouldin Score: 0.445 (lower is better)\n",
      "HDBSCAN Validity Index: 0.449\n",
      "Composite Score: 0.539 (higher is better)\n",
      "\n",
      "[I 2025-06-15 21:41:08,716] Trial 39 finished with value: -0.539118443935037 and parameters: {'min_cluster_size': 7, 'min_samples': 6, 'n_components': 277}. Best is trial 19 with value: -0.5544568178327329.\n",
      "=== HDBSCAN Parameters ===\n",
      "min_cluster_size:   2\n",
      "min_samples:        2\n",
      "n_components:       432\n",
      "=== Clustering Quality Metrics ===\n",
      "Number of clusters: 1013\n",
      "Noise points: 2098 (22.4%)\n",
      "Average cluster size: 7.2 ± 7.8\n",
      "Cluster size range: 2 - 134\n",
      "=== Quality Scores ===\n",
      "Silhouette Score: 0.570 (higher is better)\n",
      "Calinski-Harabasz Score: 5484.9 (higher is better)\n",
      "Davies-Bouldin Score: 0.558 (lower is better)\n",
      "HDBSCAN Validity Index: 0.446\n",
      "Composite Score: 0.508 (higher is better)\n",
      "\n",
      "[I 2025-06-15 21:46:35,605] Trial 40 finished with value: -0.507875918269995 and parameters: {'min_cluster_size': 2, 'min_samples': 2, 'n_components': 432}. Best is trial 19 with value: -0.5544568178327329.\n",
      "=== HDBSCAN Parameters ===\n",
      "min_cluster_size:   10\n",
      "min_samples:        9\n",
      "n_components:       228\n",
      "=== Clustering Quality Metrics ===\n",
      "Number of clusters: 216\n",
      "Noise points: 2821 (30.1%)\n",
      "Average cluster size: 30.3 ± 29.6\n",
      "Cluster size range: 10 - 255\n",
      "=== Quality Scores ===\n",
      "Silhouette Score: 0.660 (higher is better)\n",
      "Calinski-Harabasz Score: 5861.6 (higher is better)\n",
      "Davies-Bouldin Score: 0.415 (lower is better)\n",
      "HDBSCAN Validity Index: 0.441\n",
      "Composite Score: 0.550 (higher is better)\n",
      "\n",
      "[I 2025-06-15 21:49:21,870] Trial 41 finished with value: -0.5502407013477443 and parameters: {'min_cluster_size': 10, 'min_samples': 9, 'n_components': 228}. Best is trial 19 with value: -0.5544568178327329.\n",
      "=== HDBSCAN Parameters ===\n",
      "min_cluster_size:   10\n",
      "min_samples:        9\n",
      "n_components:       179\n",
      "=== Clustering Quality Metrics ===\n",
      "Number of clusters: 205\n",
      "Noise points: 2785 (29.8%)\n",
      "Average cluster size: 32.1 ± 30.7\n",
      "Cluster size range: 10 - 256\n",
      "=== Quality Scores ===\n",
      "Silhouette Score: 0.661 (higher is better)\n",
      "Calinski-Harabasz Score: 5873.3 (higher is better)\n",
      "Davies-Bouldin Score: 0.435 (lower is better)\n",
      "HDBSCAN Validity Index: 0.449\n",
      "Composite Score: 0.555 (higher is better)\n",
      "\n",
      "[I 2025-06-15 21:51:20,753] Trial 42 finished with value: -0.555188975544405 and parameters: {'min_cluster_size': 10, 'min_samples': 9, 'n_components': 179}. Best is trial 42 with value: -0.555188975544405.\n",
      "=== HDBSCAN Parameters ===\n",
      "min_cluster_size:   9\n",
      "min_samples:        9\n",
      "n_components:       116\n",
      "=== Clustering Quality Metrics ===\n",
      "Number of clusters: 220\n",
      "Noise points: 2732 (29.2%)\n",
      "Average cluster size: 30.1 ± 32.6\n",
      "Cluster size range: 9 - 269\n",
      "=== Quality Scores ===\n",
      "Silhouette Score: 0.646 (higher is better)\n",
      "Calinski-Harabasz Score: 4917.8 (higher is better)\n",
      "Davies-Bouldin Score: 0.434 (lower is better)\n",
      "HDBSCAN Validity Index: 0.442\n",
      "Composite Score: 0.544 (higher is better)\n",
      "\n",
      "[I 2025-06-15 21:52:27,369] Trial 43 finished with value: -0.543953450747178 and parameters: {'min_cluster_size': 9, 'min_samples': 9, 'n_components': 116}. Best is trial 42 with value: -0.555188975544405.\n",
      "=== HDBSCAN Parameters ===\n",
      "min_cluster_size:   10\n",
      "min_samples:        9\n",
      "n_components:       359\n",
      "=== Clustering Quality Metrics ===\n",
      "Number of clusters: 218\n",
      "Noise points: 2932 (31.3%)\n",
      "Average cluster size: 29.5 ± 29.4\n",
      "Cluster size range: 10 - 263\n",
      "=== Quality Scores ===\n",
      "Silhouette Score: 0.671 (higher is better)\n",
      "Calinski-Harabasz Score: 6408.0 (higher is better)\n",
      "Davies-Bouldin Score: 0.403 (lower is better)\n",
      "HDBSCAN Validity Index: 0.428\n",
      "Composite Score: 0.549 (higher is better)\n",
      "\n",
      "[I 2025-06-15 21:56:02,988] Trial 44 finished with value: -0.549469471097395 and parameters: {'min_cluster_size': 10, 'min_samples': 9, 'n_components': 359}. Best is trial 42 with value: -0.555188975544405.\n",
      "=== HDBSCAN Parameters ===\n",
      "min_cluster_size:   4\n",
      "min_samples:        3\n",
      "n_components:       171\n",
      "=== Clustering Quality Metrics ===\n",
      "Number of clusters: 605\n",
      "Noise points: 2425 (25.9%)\n",
      "Average cluster size: 11.5 ± 9.8\n",
      "Cluster size range: 4 - 91\n",
      "=== Quality Scores ===\n",
      "Silhouette Score: 0.613 (higher is better)\n",
      "Calinski-Harabasz Score: 6406.3 (higher is better)\n",
      "Davies-Bouldin Score: 0.497 (lower is better)\n",
      "HDBSCAN Validity Index: 0.441\n",
      "Composite Score: 0.527 (higher is better)\n",
      "\n",
      "[I 2025-06-15 21:57:31,187] Trial 45 finished with value: -0.5269131467534957 and parameters: {'min_cluster_size': 4, 'min_samples': 3, 'n_components': 171}. Best is trial 42 with value: -0.555188975544405.\n",
      "=== HDBSCAN Parameters ===\n",
      "min_cluster_size:   8\n",
      "min_samples:        7\n",
      "n_components:       110\n",
      "=== Clustering Quality Metrics ===\n",
      "Number of clusters: 272\n",
      "Noise points: 2534 (27.1%)\n",
      "Average cluster size: 25.1 ± 26.5\n",
      "Cluster size range: 8 - 263\n",
      "=== Quality Scores ===\n",
      "Silhouette Score: 0.648 (higher is better)\n",
      "Calinski-Harabasz Score: 5391.2 (higher is better)\n",
      "Davies-Bouldin Score: 0.437 (lower is better)\n",
      "HDBSCAN Validity Index: 0.454\n",
      "Composite Score: 0.551 (higher is better)\n",
      "\n",
      "[I 2025-06-15 21:58:29,445] Trial 46 finished with value: -0.5511340802270415 and parameters: {'min_cluster_size': 8, 'min_samples': 7, 'n_components': 110}. Best is trial 42 with value: -0.555188975544405.\n",
      "=== HDBSCAN Parameters ===\n",
      "min_cluster_size:   10\n",
      "min_samples:        10\n",
      "n_components:       251\n",
      "=== Clustering Quality Metrics ===\n",
      "Number of clusters: 190\n",
      "Noise points: 2615 (27.9%)\n",
      "Average cluster size: 35.5 ± 38.7\n",
      "Cluster size range: 10 - 260\n",
      "=== Quality Scores ===\n",
      "Silhouette Score: 0.623 (higher is better)\n",
      "Calinski-Harabasz Score: 4470.3 (higher is better)\n",
      "Davies-Bouldin Score: 0.437 (lower is better)\n",
      "HDBSCAN Validity Index: 0.431\n",
      "Composite Score: 0.527 (higher is better)\n",
      "\n",
      "[I 2025-06-15 22:01:03,692] Trial 47 finished with value: -0.527074297419365 and parameters: {'min_cluster_size': 10, 'min_samples': 10, 'n_components': 251}. Best is trial 42 with value: -0.555188975544405.\n",
      "=== HDBSCAN Parameters ===\n",
      "min_cluster_size:   9\n",
      "min_samples:        8\n",
      "n_components:       384\n"
     ]
    },
    {
     "name": "stdout",
     "output_type": "stream",
     "text": [
      "=== Clustering Quality Metrics ===\n",
      "Number of clusters: 233\n",
      "Noise points: 2608 (27.9%)\n",
      "Average cluster size: 29.0 ± 29.6\n",
      "Cluster size range: 9 - 260\n",
      "=== Quality Scores ===\n",
      "Silhouette Score: 0.650 (higher is better)\n",
      "Calinski-Harabasz Score: 5867.0 (higher is better)\n",
      "Davies-Bouldin Score: 0.419 (lower is better)\n",
      "HDBSCAN Validity Index: 0.450\n",
      "Composite Score: 0.550 (higher is better)\n",
      "\n",
      "[I 2025-06-15 22:05:21,748] Trial 48 finished with value: -0.5496349496618768 and parameters: {'min_cluster_size': 9, 'min_samples': 8, 'n_components': 384}. Best is trial 42 with value: -0.555188975544405.\n",
      "=== HDBSCAN Parameters ===\n",
      "min_cluster_size:   10\n",
      "min_samples:        9\n",
      "n_components:       318\n",
      "=== Clustering Quality Metrics ===\n",
      "Number of clusters: 210\n",
      "Noise points: 2514 (26.9%)\n",
      "Average cluster size: 32.6 ± 36.6\n",
      "Cluster size range: 10 - 262\n",
      "=== Quality Scores ===\n",
      "Silhouette Score: 0.630 (higher is better)\n",
      "Calinski-Harabasz Score: 4458.6 (higher is better)\n",
      "Davies-Bouldin Score: 0.433 (lower is better)\n",
      "HDBSCAN Validity Index: 0.446\n",
      "Composite Score: 0.538 (higher is better)\n",
      "\n",
      "[I 2025-06-15 22:08:54,815] Trial 49 finished with value: -0.5377366405450306 and parameters: {'min_cluster_size': 10, 'min_samples': 9, 'n_components': 318}. Best is trial 42 with value: -0.555188975544405.\n",
      "\n",
      "Optimization completed!\n",
      "Best composite score: 0.5552\n",
      "Best parameters: {'min_cluster_size': 10, 'min_samples': 9, 'n_components': 179}\n",
      "\n",
      "=== Results with Best Parameters ===\n"
     ]
    },
    {
     "ename": "KeyError",
     "evalue": "'n_neighbors'",
     "output_type": "error",
     "traceback": [
      "\u001b[0;31m---------------------------------------------------------------------------\u001b[0m",
      "\u001b[0;31mKeyError\u001b[0m                                  Traceback (most recent call last)",
      "Cell \u001b[0;32mIn[44], line 201\u001b[0m\n\u001b[1;32m    198\u001b[0m     \u001b[38;5;28;01mexcept\u001b[39;00m \u001b[38;5;167;01mImportError\u001b[39;00m:\n\u001b[1;32m    199\u001b[0m         \u001b[38;5;28mprint\u001b[39m(\u001b[38;5;124m\"\u001b[39m\u001b[38;5;124mInstall plotly to visualize optimization history: pip install plotly\u001b[39m\u001b[38;5;124m\"\u001b[39m)\n\u001b[0;32m--> 201\u001b[0m results \u001b[38;5;241m=\u001b[39m \u001b[43moptimize_hdbscan\u001b[49m\u001b[43m(\u001b[49m\u001b[43membeddings_array\u001b[49m\u001b[43m,\u001b[49m\u001b[43m \u001b[49m\u001b[43mn_trials\u001b[49m\u001b[38;5;241;43m=\u001b[39;49m\u001b[43mN_TRIALS\u001b[49m\u001b[43m)\u001b[49m\n",
      "Cell \u001b[0;32mIn[44], line 124\u001b[0m, in \u001b[0;36moptimize_hdbscan\u001b[0;34m(embeddings_array, n_trials, timeout)\u001b[0m\n\u001b[1;32m    120\u001b[0m \u001b[38;5;66;03m# Apply best dimensionality reduction\u001b[39;00m\n\u001b[1;32m    121\u001b[0m \u001b[38;5;28;01mif\u001b[39;00m best_params[\u001b[38;5;124m'\u001b[39m\u001b[38;5;124mn_components\u001b[39m\u001b[38;5;124m'\u001b[39m] \u001b[38;5;241m<\u001b[39m embeddings_array\u001b[38;5;241m.\u001b[39mshape[\u001b[38;5;241m1\u001b[39m]:\n\u001b[1;32m    122\u001b[0m     reducer \u001b[38;5;241m=\u001b[39m umap\u001b[38;5;241m.\u001b[39mUMAP(\n\u001b[1;32m    123\u001b[0m         n_components\u001b[38;5;241m=\u001b[39mbest_params[\u001b[38;5;124m'\u001b[39m\u001b[38;5;124mn_components\u001b[39m\u001b[38;5;124m'\u001b[39m],\n\u001b[0;32m--> 124\u001b[0m         n_neighbors\u001b[38;5;241m=\u001b[39m\u001b[43mbest_params\u001b[49m\u001b[43m[\u001b[49m\u001b[38;5;124;43m'\u001b[39;49m\u001b[38;5;124;43mn_neighbors\u001b[39;49m\u001b[38;5;124;43m'\u001b[39;49m\u001b[43m]\u001b[49m,\n\u001b[1;32m    125\u001b[0m         min_dist\u001b[38;5;241m=\u001b[39mbest_params[\u001b[38;5;124m'\u001b[39m\u001b[38;5;124mmin_dist\u001b[39m\u001b[38;5;124m'\u001b[39m],\n\u001b[1;32m    126\u001b[0m         metric\u001b[38;5;241m=\u001b[39m\u001b[38;5;124m'\u001b[39m\u001b[38;5;124mcosine\u001b[39m\u001b[38;5;124m'\u001b[39m,\n\u001b[1;32m    127\u001b[0m         random_state\u001b[38;5;241m=\u001b[39m\u001b[38;5;241m42\u001b[39m\n\u001b[1;32m    128\u001b[0m     )\n\u001b[1;32m    129\u001b[0m     best_embeddings \u001b[38;5;241m=\u001b[39m reducer\u001b[38;5;241m.\u001b[39mfit_transform(embeddings_array)\n\u001b[1;32m    130\u001b[0m     best_embeddings \u001b[38;5;241m=\u001b[39m best_embeddings \u001b[38;5;241m/\u001b[39m np\u001b[38;5;241m.\u001b[39mlinalg\u001b[38;5;241m.\u001b[39mnorm(best_embeddings, axis\u001b[38;5;241m=\u001b[39m\u001b[38;5;241m1\u001b[39m, keepdims\u001b[38;5;241m=\u001b[39m\u001b[38;5;28;01mTrue\u001b[39;00m)\n",
      "\u001b[0;31mKeyError\u001b[0m: 'n_neighbors'"
     ]
    }
   ],
   "source": [
    "def objective(trial, embeddings_array):\n",
    "    \"\"\"\n",
    "    Optuna objective function to optimize HDBSCAN hyperparameters and dimensionality.\n",
    "    \n",
    "    Args:\n",
    "        trial: Optuna trial object\n",
    "        embeddings_array: Original normalized embeddings\n",
    "    \n",
    "    Returns:\n",
    "        Negative composite score (Optuna minimizes, we want to maximize)\n",
    "    \"\"\"\n",
    "    \n",
    "    # HDBSCAN hyperparameters to optimize\n",
    "    min_cluster_size = trial.suggest_int('min_cluster_size', 2, 10)\n",
    "    min_samples = trial.suggest_int('min_samples', 2, min_cluster_size)\n",
    "        \n",
    "    # Dimensionality reduction \n",
    "    original_dim = embeddings_array.shape[1]\n",
    "    n_components = trial.suggest_int('n_components', \n",
    "                                     MIN_COMPONENTS, \n",
    "                                     original_dim // 4)  \n",
    "    \n",
    "    print(\"=== HDBSCAN Parameters ===\")\n",
    "    print(f\"min_cluster_size:   {min_cluster_size}\")\n",
    "    print(f\"min_samples:        {min_samples}\")\n",
    "    print(f\"n_components:       {n_components}\")\n",
    "    \n",
    "    # SVD dimensionality reduction\n",
    "#     if n_components < original_dim:\n",
    "#         svd = TruncatedSVD(n_components=n_components, random_state=RANDOM_STATE)\n",
    "#         reduced_embeddings = svd.fit_transform(embeddings_array)\n",
    "#         # Re-normalize after SVD\n",
    "#         reduced_embeddings = reduced_embeddings / np.linalg.norm(reduced_embeddings, axis=1, keepdims=True)\n",
    "#     else:\n",
    "#         reduced_embeddings = embeddings_array\n",
    "\n",
    "   \n",
    "    # UMAP dimensionality reduction\n",
    "    if n_components < original_dim:\n",
    "        reducer = umap.UMAP(n_components=n_components)\n",
    "        # # Fit the reducer to the data without transforming\n",
    "        reducer.fit(embeddings_array)\n",
    "        # force np64 or hdbscan pukes\n",
    "        reduced_embeddings = reducer.transform(embeddings_array).astype(np.float64)\n",
    "        # Re-normalize after UMAP\n",
    "        reduced_embeddings /= np.linalg.norm(reduced_embeddings, axis=1, keepdims=True)        \n",
    "    else:\n",
    "        reduced_embeddings = embeddings_array\n",
    "        \n",
    "    try:\n",
    "        # Fit HDBSCAN\n",
    "        clusterer = hdbscan.HDBSCAN(\n",
    "            min_cluster_size=min_cluster_size,\n",
    "            min_samples=min_samples,\n",
    "            metric=\"euclidean\",\n",
    "            cluster_selection_method=\"eom\",\n",
    "        )\n",
    "        \n",
    "        labels = clusterer.fit_predict(reduced_embeddings)\n",
    "        \n",
    "        # Calculate metrics\n",
    "        metrics = calculate_clustering_metrics(reduced_embeddings, labels, clusterer)\n",
    "        print_clustering_summary(metrics)\n",
    "        \n",
    "        # Return negative composite score (Optuna minimizes)\n",
    "        composite_score = metrics.get('composite_score', -1.0)\n",
    "        \n",
    "        # Penalize if no valid clusters found or too much noise\n",
    "        if metrics.get('n_clusters', 0) < 2 or metrics.get('noise_ratio', 1.0) > 0.8:\n",
    "            composite_score = -1.0\n",
    "            \n",
    "        return -composite_score\n",
    "        \n",
    "    except Exception as e:\n",
    "        print(f\"Error in trial: {e}\")\n",
    "        return 1.0  # Bad score for failed trials\n",
    "\n",
    "def optimize_hdbscan(embeddings_array, n_trials=100, timeout=None):\n",
    "    \"\"\"\n",
    "    Optimize HDBSCAN hyperparameters using Optuna.\n",
    "    \n",
    "    Args:\n",
    "        embeddings_array: Normalized embeddings array\n",
    "        n_trials: Number of optimization trials\n",
    "        timeout: Maximum time in seconds (None for no limit)\n",
    "    \n",
    "    Returns:\n",
    "        Dictionary with best parameters and results\n",
    "    \"\"\"\n",
    "    \n",
    "    print(f\"Starting optimization with {n_trials} trials...\")\n",
    "    print(f\"Original embedding shape: {embeddings_array.shape}\")\n",
    "    \n",
    "    # Create study\n",
    "    study = optuna.create_study(\n",
    "        direction='minimize',  # We return negative composite score\n",
    "        sampler=optuna.samplers.TPESampler(seed=42),\n",
    "        pruner=optuna.pruners.MedianPruner(n_startup_trials=10)\n",
    "    )\n",
    "    \n",
    "    # Optimize\n",
    "    study.optimize(\n",
    "        lambda trial: objective(trial, embeddings_array),\n",
    "        n_trials=n_trials,\n",
    "        timeout=timeout,\n",
    "        show_progress_bar=True\n",
    "    )\n",
    "    \n",
    "    # Get best parameters\n",
    "    best_params = study.best_params\n",
    "    best_score = -study.best_value  # Convert back to positive\n",
    "    \n",
    "    print(f\"\\nOptimization completed!\")\n",
    "    print(f\"Best composite score: {best_score:.4f}\")\n",
    "    print(f\"Best parameters: {best_params}\")\n",
    "    \n",
    "    # Test best parameters\n",
    "    print(f\"\\n=== Results with Best Parameters ===\")\n",
    "        \n",
    "    # Apply best dimensionality reduction\n",
    "    if best_params['n_components'] < embeddings_array.shape[1]:\n",
    "        reducer = umap.UMAP(n_components=best_params['n_components'])\n",
    "        # # Fit the reducer to the data without transforming\n",
    "        reducer.fit(embeddings_array)\n",
    "        # force np64 or hdbscan pukes\n",
    "        best_embeddings = reducer.transform(embeddings_array).astype(np.float64)\n",
    "        # Re-normalize after UMAP\n",
    "        best_embeddings /= np.linalg.norm(best_embeddings, axis=1, keepdims=True)        \n",
    "        print(f\"Reduced dimensions from {embeddings_array.shape[1]} to {best_params['n_components']}\")\n",
    "    else:\n",
    "        best_embeddings = embeddings_array\n",
    "        reducer = None\n",
    "        print(\"No dimensionality reduction applied\")\n",
    "     \n",
    "    # Fit with best parameters\n",
    "    best_clusterer = hdbscan.HDBSCAN(\n",
    "        min_cluster_size=best_params['min_cluster_size'],\n",
    "        min_samples=best_params['min_samples'],\n",
    "        metric=\"euclidean\",\n",
    "        cluster_selection_method=\"eom\",\n",
    "    )\n",
    "    \n",
    "    best_labels = best_clusterer.fit_predict(best_embeddings)\n",
    "    best_metrics = calculate_clustering_metrics(best_embeddings, best_labels, best_clusterer)\n",
    "    \n",
    "    print_clustering_summary(best_metrics)\n",
    "    print()\n",
    "    \n",
    "    # Return results\n",
    "    return {\n",
    "        'study': study,\n",
    "        'best_params': best_params,\n",
    "        'best_score': best_score,\n",
    "        'best_clusterer': best_clusterer,\n",
    "        'best_labels': best_labels,\n",
    "        'best_embeddings': best_embeddings,\n",
    "        'best_metrics': best_metrics,\n",
    "        'svd_transformer': svd if best_params['n_components'] < embeddings_array.shape[1] else None\n",
    "    }\n",
    "\n",
    "def plot_optimization_history(study):\n",
    "    \"\"\"Plot optimization history (requires plotly)\"\"\"\n",
    "    try:\n",
    "        import plotly.graph_objects as go\n",
    "        \n",
    "        # Get trial data\n",
    "        trials = study.trials\n",
    "        values = [-t.value for t in trials if t.value is not None]  # Convert back to positive\n",
    "        trial_numbers = list(range(1, len(values) + 1))\n",
    "        \n",
    "        # Create plot\n",
    "        fig = go.Figure()\n",
    "        fig.add_trace(go.Scatter(\n",
    "            x=trial_numbers,\n",
    "            y=values,\n",
    "            mode='lines+markers',\n",
    "            name='Composite Score',\n",
    "            line=dict(color='blue', width=2),\n",
    "            marker=dict(size=4)\n",
    "        ))\n",
    "        \n",
    "        # Add best score line\n",
    "        best_score = max(values)\n",
    "        fig.add_hline(y=best_score, line_dash=\"dash\", line_color=\"red\",\n",
    "                     annotation_text=f\"Best: {best_score:.4f}\")\n",
    "        \n",
    "        fig.update_layout(\n",
    "            title='HDBSCAN Optimization History',\n",
    "            xaxis_title='Trial',\n",
    "            yaxis_title='Composite Score',\n",
    "            showlegend=True\n",
    "        )\n",
    "        \n",
    "        fig.show()\n",
    "        \n",
    "    except ImportError:\n",
    "        print(\"Install plotly to visualize optimization history: pip install plotly\")\n",
    "\n",
    "results = optimize_hdbscan(embeddings_array, n_trials=N_TRIALS)\n"
   ]
  },
  {
   "cell_type": "code",
   "execution_count": 45,
   "id": "88aa924b",
   "metadata": {},
   "outputs": [
    {
     "data": {
      "text/plain": [
       "0.22566429917751107"
      ]
     },
     "execution_count": 45,
     "metadata": {},
     "output_type": "execute_result"
    }
   ],
   "source": [
    "best_score\n"
   ]
  },
  {
   "cell_type": "code",
   "execution_count": 19,
   "id": "9f661beb",
   "metadata": {},
   "outputs": [
    {
     "data": {
      "application/vnd.plotly.v1+json": {
       "config": {
        "plotlyServerURL": "https://plot.ly"
       },
       "data": [
        {
         "line": {
          "color": "blue",
          "width": 2
         },
         "marker": {
          "size": 4
         },
         "mode": "lines+markers",
         "name": "Composite Score",
         "type": "scatter",
         "x": [
          1,
          2,
          3,
          4,
          5,
          6,
          7,
          8,
          9,
          10,
          11,
          12,
          13,
          14,
          15,
          16,
          17,
          18,
          19,
          20,
          21,
          22,
          23,
          24,
          25,
          26,
          27,
          28,
          29,
          30,
          31,
          32,
          33,
          34,
          35,
          36,
          37,
          38,
          39,
          40,
          41,
          42,
          43,
          44,
          45,
          46,
          47,
          48,
          49,
          50
         ],
         "y": [
          0.15805695707905612,
          0.14005200946696492,
          0.19053477578964648,
          0.19690173657462656,
          -1,
          0.19902963658151843,
          0.15841841359221792,
          0.13483415457562367,
          0.15759396309852364,
          0.17164772867082456,
          0.1937510256039976,
          0.17962122150004736,
          0.1851386432339712,
          0.1733060229364473,
          0.15548222719134802,
          0.20752918211989388,
          0.20391206199130402,
          0.20488882881008247,
          0.19049504535777745,
          0.16948804646997653,
          0.18574171674342232,
          0.20251668007117254,
          0.20922971325453044,
          0.21222387510388033,
          0.21418518202473003,
          0.20147241819456962,
          0.18419585844448405,
          0.18923600683824623,
          0.19771391818399364,
          0.1689436237225,
          0.2115640819167097,
          0.2250783093175412,
          0.21052680026160292,
          0.22566429917751107,
          0.2134311302088847,
          0.16674122454271567,
          0.2187378896598117,
          0.19723562160893585,
          0.17388130847414027,
          0.18436646361520867,
          -1,
          0.2162815638290777,
          0.21946168274774366,
          0.1971333062480784,
          0.21965889559473442,
          0.2220348949587384,
          0.2176876366759458,
          0.2069535574664087,
          0.1784756501126672,
          0.2054794181632681
         ]
        }
       ],
       "layout": {
        "annotations": [
         {
          "showarrow": false,
          "text": "Best: 0.2257",
          "x": 1,
          "xanchor": "right",
          "xref": "x domain",
          "y": 0.22566429917751107,
          "yanchor": "bottom",
          "yref": "y"
         }
        ],
        "shapes": [
         {
          "line": {
           "color": "red",
           "dash": "dash"
          },
          "type": "line",
          "x0": 0,
          "x1": 1,
          "xref": "x domain",
          "y0": 0.22566429917751107,
          "y1": 0.22566429917751107,
          "yref": "y"
         }
        ],
        "showlegend": true,
        "template": {
         "data": {
          "bar": [
           {
            "error_x": {
             "color": "#2a3f5f"
            },
            "error_y": {
             "color": "#2a3f5f"
            },
            "marker": {
             "line": {
              "color": "#E5ECF6",
              "width": 0.5
             },
             "pattern": {
              "fillmode": "overlay",
              "size": 10,
              "solidity": 0.2
             }
            },
            "type": "bar"
           }
          ],
          "barpolar": [
           {
            "marker": {
             "line": {
              "color": "#E5ECF6",
              "width": 0.5
             },
             "pattern": {
              "fillmode": "overlay",
              "size": 10,
              "solidity": 0.2
             }
            },
            "type": "barpolar"
           }
          ],
          "carpet": [
           {
            "aaxis": {
             "endlinecolor": "#2a3f5f",
             "gridcolor": "white",
             "linecolor": "white",
             "minorgridcolor": "white",
             "startlinecolor": "#2a3f5f"
            },
            "baxis": {
             "endlinecolor": "#2a3f5f",
             "gridcolor": "white",
             "linecolor": "white",
             "minorgridcolor": "white",
             "startlinecolor": "#2a3f5f"
            },
            "type": "carpet"
           }
          ],
          "choropleth": [
           {
            "colorbar": {
             "outlinewidth": 0,
             "ticks": ""
            },
            "type": "choropleth"
           }
          ],
          "contour": [
           {
            "colorbar": {
             "outlinewidth": 0,
             "ticks": ""
            },
            "colorscale": [
             [
              0,
              "#0d0887"
             ],
             [
              0.1111111111111111,
              "#46039f"
             ],
             [
              0.2222222222222222,
              "#7201a8"
             ],
             [
              0.3333333333333333,
              "#9c179e"
             ],
             [
              0.4444444444444444,
              "#bd3786"
             ],
             [
              0.5555555555555556,
              "#d8576b"
             ],
             [
              0.6666666666666666,
              "#ed7953"
             ],
             [
              0.7777777777777778,
              "#fb9f3a"
             ],
             [
              0.8888888888888888,
              "#fdca26"
             ],
             [
              1,
              "#f0f921"
             ]
            ],
            "type": "contour"
           }
          ],
          "contourcarpet": [
           {
            "colorbar": {
             "outlinewidth": 0,
             "ticks": ""
            },
            "type": "contourcarpet"
           }
          ],
          "heatmap": [
           {
            "colorbar": {
             "outlinewidth": 0,
             "ticks": ""
            },
            "colorscale": [
             [
              0,
              "#0d0887"
             ],
             [
              0.1111111111111111,
              "#46039f"
             ],
             [
              0.2222222222222222,
              "#7201a8"
             ],
             [
              0.3333333333333333,
              "#9c179e"
             ],
             [
              0.4444444444444444,
              "#bd3786"
             ],
             [
              0.5555555555555556,
              "#d8576b"
             ],
             [
              0.6666666666666666,
              "#ed7953"
             ],
             [
              0.7777777777777778,
              "#fb9f3a"
             ],
             [
              0.8888888888888888,
              "#fdca26"
             ],
             [
              1,
              "#f0f921"
             ]
            ],
            "type": "heatmap"
           }
          ],
          "histogram": [
           {
            "marker": {
             "pattern": {
              "fillmode": "overlay",
              "size": 10,
              "solidity": 0.2
             }
            },
            "type": "histogram"
           }
          ],
          "histogram2d": [
           {
            "colorbar": {
             "outlinewidth": 0,
             "ticks": ""
            },
            "colorscale": [
             [
              0,
              "#0d0887"
             ],
             [
              0.1111111111111111,
              "#46039f"
             ],
             [
              0.2222222222222222,
              "#7201a8"
             ],
             [
              0.3333333333333333,
              "#9c179e"
             ],
             [
              0.4444444444444444,
              "#bd3786"
             ],
             [
              0.5555555555555556,
              "#d8576b"
             ],
             [
              0.6666666666666666,
              "#ed7953"
             ],
             [
              0.7777777777777778,
              "#fb9f3a"
             ],
             [
              0.8888888888888888,
              "#fdca26"
             ],
             [
              1,
              "#f0f921"
             ]
            ],
            "type": "histogram2d"
           }
          ],
          "histogram2dcontour": [
           {
            "colorbar": {
             "outlinewidth": 0,
             "ticks": ""
            },
            "colorscale": [
             [
              0,
              "#0d0887"
             ],
             [
              0.1111111111111111,
              "#46039f"
             ],
             [
              0.2222222222222222,
              "#7201a8"
             ],
             [
              0.3333333333333333,
              "#9c179e"
             ],
             [
              0.4444444444444444,
              "#bd3786"
             ],
             [
              0.5555555555555556,
              "#d8576b"
             ],
             [
              0.6666666666666666,
              "#ed7953"
             ],
             [
              0.7777777777777778,
              "#fb9f3a"
             ],
             [
              0.8888888888888888,
              "#fdca26"
             ],
             [
              1,
              "#f0f921"
             ]
            ],
            "type": "histogram2dcontour"
           }
          ],
          "mesh3d": [
           {
            "colorbar": {
             "outlinewidth": 0,
             "ticks": ""
            },
            "type": "mesh3d"
           }
          ],
          "parcoords": [
           {
            "line": {
             "colorbar": {
              "outlinewidth": 0,
              "ticks": ""
             }
            },
            "type": "parcoords"
           }
          ],
          "pie": [
           {
            "automargin": true,
            "type": "pie"
           }
          ],
          "scatter": [
           {
            "fillpattern": {
             "fillmode": "overlay",
             "size": 10,
             "solidity": 0.2
            },
            "type": "scatter"
           }
          ],
          "scatter3d": [
           {
            "line": {
             "colorbar": {
              "outlinewidth": 0,
              "ticks": ""
             }
            },
            "marker": {
             "colorbar": {
              "outlinewidth": 0,
              "ticks": ""
             }
            },
            "type": "scatter3d"
           }
          ],
          "scattercarpet": [
           {
            "marker": {
             "colorbar": {
              "outlinewidth": 0,
              "ticks": ""
             }
            },
            "type": "scattercarpet"
           }
          ],
          "scattergeo": [
           {
            "marker": {
             "colorbar": {
              "outlinewidth": 0,
              "ticks": ""
             }
            },
            "type": "scattergeo"
           }
          ],
          "scattergl": [
           {
            "marker": {
             "colorbar": {
              "outlinewidth": 0,
              "ticks": ""
             }
            },
            "type": "scattergl"
           }
          ],
          "scattermap": [
           {
            "marker": {
             "colorbar": {
              "outlinewidth": 0,
              "ticks": ""
             }
            },
            "type": "scattermap"
           }
          ],
          "scattermapbox": [
           {
            "marker": {
             "colorbar": {
              "outlinewidth": 0,
              "ticks": ""
             }
            },
            "type": "scattermapbox"
           }
          ],
          "scatterpolar": [
           {
            "marker": {
             "colorbar": {
              "outlinewidth": 0,
              "ticks": ""
             }
            },
            "type": "scatterpolar"
           }
          ],
          "scatterpolargl": [
           {
            "marker": {
             "colorbar": {
              "outlinewidth": 0,
              "ticks": ""
             }
            },
            "type": "scatterpolargl"
           }
          ],
          "scatterternary": [
           {
            "marker": {
             "colorbar": {
              "outlinewidth": 0,
              "ticks": ""
             }
            },
            "type": "scatterternary"
           }
          ],
          "surface": [
           {
            "colorbar": {
             "outlinewidth": 0,
             "ticks": ""
            },
            "colorscale": [
             [
              0,
              "#0d0887"
             ],
             [
              0.1111111111111111,
              "#46039f"
             ],
             [
              0.2222222222222222,
              "#7201a8"
             ],
             [
              0.3333333333333333,
              "#9c179e"
             ],
             [
              0.4444444444444444,
              "#bd3786"
             ],
             [
              0.5555555555555556,
              "#d8576b"
             ],
             [
              0.6666666666666666,
              "#ed7953"
             ],
             [
              0.7777777777777778,
              "#fb9f3a"
             ],
             [
              0.8888888888888888,
              "#fdca26"
             ],
             [
              1,
              "#f0f921"
             ]
            ],
            "type": "surface"
           }
          ],
          "table": [
           {
            "cells": {
             "fill": {
              "color": "#EBF0F8"
             },
             "line": {
              "color": "white"
             }
            },
            "header": {
             "fill": {
              "color": "#C8D4E3"
             },
             "line": {
              "color": "white"
             }
            },
            "type": "table"
           }
          ]
         },
         "layout": {
          "annotationdefaults": {
           "arrowcolor": "#2a3f5f",
           "arrowhead": 0,
           "arrowwidth": 1
          },
          "autotypenumbers": "strict",
          "coloraxis": {
           "colorbar": {
            "outlinewidth": 0,
            "ticks": ""
           }
          },
          "colorscale": {
           "diverging": [
            [
             0,
             "#8e0152"
            ],
            [
             0.1,
             "#c51b7d"
            ],
            [
             0.2,
             "#de77ae"
            ],
            [
             0.3,
             "#f1b6da"
            ],
            [
             0.4,
             "#fde0ef"
            ],
            [
             0.5,
             "#f7f7f7"
            ],
            [
             0.6,
             "#e6f5d0"
            ],
            [
             0.7,
             "#b8e186"
            ],
            [
             0.8,
             "#7fbc41"
            ],
            [
             0.9,
             "#4d9221"
            ],
            [
             1,
             "#276419"
            ]
           ],
           "sequential": [
            [
             0,
             "#0d0887"
            ],
            [
             0.1111111111111111,
             "#46039f"
            ],
            [
             0.2222222222222222,
             "#7201a8"
            ],
            [
             0.3333333333333333,
             "#9c179e"
            ],
            [
             0.4444444444444444,
             "#bd3786"
            ],
            [
             0.5555555555555556,
             "#d8576b"
            ],
            [
             0.6666666666666666,
             "#ed7953"
            ],
            [
             0.7777777777777778,
             "#fb9f3a"
            ],
            [
             0.8888888888888888,
             "#fdca26"
            ],
            [
             1,
             "#f0f921"
            ]
           ],
           "sequentialminus": [
            [
             0,
             "#0d0887"
            ],
            [
             0.1111111111111111,
             "#46039f"
            ],
            [
             0.2222222222222222,
             "#7201a8"
            ],
            [
             0.3333333333333333,
             "#9c179e"
            ],
            [
             0.4444444444444444,
             "#bd3786"
            ],
            [
             0.5555555555555556,
             "#d8576b"
            ],
            [
             0.6666666666666666,
             "#ed7953"
            ],
            [
             0.7777777777777778,
             "#fb9f3a"
            ],
            [
             0.8888888888888888,
             "#fdca26"
            ],
            [
             1,
             "#f0f921"
            ]
           ]
          },
          "colorway": [
           "#636efa",
           "#EF553B",
           "#00cc96",
           "#ab63fa",
           "#FFA15A",
           "#19d3f3",
           "#FF6692",
           "#B6E880",
           "#FF97FF",
           "#FECB52"
          ],
          "font": {
           "color": "#2a3f5f"
          },
          "geo": {
           "bgcolor": "white",
           "lakecolor": "white",
           "landcolor": "#E5ECF6",
           "showlakes": true,
           "showland": true,
           "subunitcolor": "white"
          },
          "hoverlabel": {
           "align": "left"
          },
          "hovermode": "closest",
          "mapbox": {
           "style": "light"
          },
          "paper_bgcolor": "white",
          "plot_bgcolor": "#E5ECF6",
          "polar": {
           "angularaxis": {
            "gridcolor": "white",
            "linecolor": "white",
            "ticks": ""
           },
           "bgcolor": "#E5ECF6",
           "radialaxis": {
            "gridcolor": "white",
            "linecolor": "white",
            "ticks": ""
           }
          },
          "scene": {
           "xaxis": {
            "backgroundcolor": "#E5ECF6",
            "gridcolor": "white",
            "gridwidth": 2,
            "linecolor": "white",
            "showbackground": true,
            "ticks": "",
            "zerolinecolor": "white"
           },
           "yaxis": {
            "backgroundcolor": "#E5ECF6",
            "gridcolor": "white",
            "gridwidth": 2,
            "linecolor": "white",
            "showbackground": true,
            "ticks": "",
            "zerolinecolor": "white"
           },
           "zaxis": {
            "backgroundcolor": "#E5ECF6",
            "gridcolor": "white",
            "gridwidth": 2,
            "linecolor": "white",
            "showbackground": true,
            "ticks": "",
            "zerolinecolor": "white"
           }
          },
          "shapedefaults": {
           "line": {
            "color": "#2a3f5f"
           }
          },
          "ternary": {
           "aaxis": {
            "gridcolor": "white",
            "linecolor": "white",
            "ticks": ""
           },
           "baxis": {
            "gridcolor": "white",
            "linecolor": "white",
            "ticks": ""
           },
           "bgcolor": "#E5ECF6",
           "caxis": {
            "gridcolor": "white",
            "linecolor": "white",
            "ticks": ""
           }
          },
          "title": {
           "x": 0.05
          },
          "xaxis": {
           "automargin": true,
           "gridcolor": "white",
           "linecolor": "white",
           "ticks": "",
           "title": {
            "standoff": 15
           },
           "zerolinecolor": "white",
           "zerolinewidth": 2
          },
          "yaxis": {
           "automargin": true,
           "gridcolor": "white",
           "linecolor": "white",
           "ticks": "",
           "title": {
            "standoff": 15
           },
           "zerolinecolor": "white",
           "zerolinewidth": 2
          }
         }
        },
        "title": {
         "text": "HDBSCAN Optimization History"
        },
        "xaxis": {
         "title": {
          "text": "Trial"
         }
        },
        "yaxis": {
         "title": {
          "text": "Composite Score"
         }
        }
       }
      }
     },
     "metadata": {},
     "output_type": "display_data"
    }
   ],
   "source": [
    "import plotly.graph_objects as go\n",
    "\n",
    "trials = results['study'].trials\n",
    "values = [-t.value for t in trials if t.value is not None]  # Convert back to positive\n",
    "trial_numbers = list(range(1, len(values) + 1))\n",
    "\n",
    "# Create plot\n",
    "fig = go.Figure()\n",
    "fig.add_trace(go.Scatter(\n",
    "    x=trial_numbers,\n",
    "    y=values,\n",
    "    mode='lines+markers',\n",
    "    name='Composite Score',\n",
    "    line=dict(color='blue', width=2),\n",
    "    marker=dict(size=4)\n",
    "))\n",
    "\n",
    "# Add best score line\n",
    "best_score = max(values)\n",
    "fig.add_hline(y=best_score, line_dash=\"dash\", line_color=\"red\",\n",
    "             annotation_text=f\"Best: {best_score:.4f}\")\n",
    "\n",
    "fig.update_layout(\n",
    "    title='HDBSCAN Optimization History',\n",
    "    xaxis_title='Trial',\n",
    "    yaxis_title='Composite Score',\n",
    "    showlegend=True\n",
    ")\n",
    "\n",
    "fig.show()\n"
   ]
  },
  {
   "cell_type": "code",
   "execution_count": 22,
   "id": "029af063",
   "metadata": {},
   "outputs": [
    {
     "data": {
      "text/plain": [
       "[1,\n",
       " 2,\n",
       " 3,\n",
       " 4,\n",
       " 5,\n",
       " 6,\n",
       " 7,\n",
       " 8,\n",
       " 9,\n",
       " 10,\n",
       " 11,\n",
       " 12,\n",
       " 13,\n",
       " 14,\n",
       " 15,\n",
       " 16,\n",
       " 17,\n",
       " 18,\n",
       " 19,\n",
       " 20,\n",
       " 21,\n",
       " 22,\n",
       " 23,\n",
       " 24,\n",
       " 25,\n",
       " 26,\n",
       " 27,\n",
       " 28,\n",
       " 29,\n",
       " 30,\n",
       " 31,\n",
       " 32,\n",
       " 33,\n",
       " 34,\n",
       " 35,\n",
       " 36,\n",
       " 37,\n",
       " 38,\n",
       " 39,\n",
       " 40,\n",
       " 41,\n",
       " 42,\n",
       " 43,\n",
       " 44,\n",
       " 45,\n",
       " 46,\n",
       " 47,\n",
       " 48,\n",
       " 49,\n",
       " 50]"
      ]
     },
     "execution_count": 22,
     "metadata": {},
     "output_type": "execute_result"
    }
   ],
   "source": [
    "trial_numbers\n"
   ]
  },
  {
   "cell_type": "code",
   "execution_count": 51,
   "id": "c01212dd",
   "metadata": {},
   "outputs": [
    {
     "data": {
      "text/html": [
       "<style>#sk-container-id-3 {\n",
       "  /* Definition of color scheme common for light and dark mode */\n",
       "  --sklearn-color-text: #000;\n",
       "  --sklearn-color-text-muted: #666;\n",
       "  --sklearn-color-line: gray;\n",
       "  /* Definition of color scheme for unfitted estimators */\n",
       "  --sklearn-color-unfitted-level-0: #fff5e6;\n",
       "  --sklearn-color-unfitted-level-1: #f6e4d2;\n",
       "  --sklearn-color-unfitted-level-2: #ffe0b3;\n",
       "  --sklearn-color-unfitted-level-3: chocolate;\n",
       "  /* Definition of color scheme for fitted estimators */\n",
       "  --sklearn-color-fitted-level-0: #f0f8ff;\n",
       "  --sklearn-color-fitted-level-1: #d4ebff;\n",
       "  --sklearn-color-fitted-level-2: #b3dbfd;\n",
       "  --sklearn-color-fitted-level-3: cornflowerblue;\n",
       "\n",
       "  /* Specific color for light theme */\n",
       "  --sklearn-color-text-on-default-background: var(--sg-text-color, var(--theme-code-foreground, var(--jp-content-font-color1, black)));\n",
       "  --sklearn-color-background: var(--sg-background-color, var(--theme-background, var(--jp-layout-color0, white)));\n",
       "  --sklearn-color-border-box: var(--sg-text-color, var(--theme-code-foreground, var(--jp-content-font-color1, black)));\n",
       "  --sklearn-color-icon: #696969;\n",
       "\n",
       "  @media (prefers-color-scheme: dark) {\n",
       "    /* Redefinition of color scheme for dark theme */\n",
       "    --sklearn-color-text-on-default-background: var(--sg-text-color, var(--theme-code-foreground, var(--jp-content-font-color1, white)));\n",
       "    --sklearn-color-background: var(--sg-background-color, var(--theme-background, var(--jp-layout-color0, #111)));\n",
       "    --sklearn-color-border-box: var(--sg-text-color, var(--theme-code-foreground, var(--jp-content-font-color1, white)));\n",
       "    --sklearn-color-icon: #878787;\n",
       "  }\n",
       "}\n",
       "\n",
       "#sk-container-id-3 {\n",
       "  color: var(--sklearn-color-text);\n",
       "}\n",
       "\n",
       "#sk-container-id-3 pre {\n",
       "  padding: 0;\n",
       "}\n",
       "\n",
       "#sk-container-id-3 input.sk-hidden--visually {\n",
       "  border: 0;\n",
       "  clip: rect(1px 1px 1px 1px);\n",
       "  clip: rect(1px, 1px, 1px, 1px);\n",
       "  height: 1px;\n",
       "  margin: -1px;\n",
       "  overflow: hidden;\n",
       "  padding: 0;\n",
       "  position: absolute;\n",
       "  width: 1px;\n",
       "}\n",
       "\n",
       "#sk-container-id-3 div.sk-dashed-wrapped {\n",
       "  border: 1px dashed var(--sklearn-color-line);\n",
       "  margin: 0 0.4em 0.5em 0.4em;\n",
       "  box-sizing: border-box;\n",
       "  padding-bottom: 0.4em;\n",
       "  background-color: var(--sklearn-color-background);\n",
       "}\n",
       "\n",
       "#sk-container-id-3 div.sk-container {\n",
       "  /* jupyter's `normalize.less` sets `[hidden] { display: none; }`\n",
       "     but bootstrap.min.css set `[hidden] { display: none !important; }`\n",
       "     so we also need the `!important` here to be able to override the\n",
       "     default hidden behavior on the sphinx rendered scikit-learn.org.\n",
       "     See: https://github.com/scikit-learn/scikit-learn/issues/21755 */\n",
       "  display: inline-block !important;\n",
       "  position: relative;\n",
       "}\n",
       "\n",
       "#sk-container-id-3 div.sk-text-repr-fallback {\n",
       "  display: none;\n",
       "}\n",
       "\n",
       "div.sk-parallel-item,\n",
       "div.sk-serial,\n",
       "div.sk-item {\n",
       "  /* draw centered vertical line to link estimators */\n",
       "  background-image: linear-gradient(var(--sklearn-color-text-on-default-background), var(--sklearn-color-text-on-default-background));\n",
       "  background-size: 2px 100%;\n",
       "  background-repeat: no-repeat;\n",
       "  background-position: center center;\n",
       "}\n",
       "\n",
       "/* Parallel-specific style estimator block */\n",
       "\n",
       "#sk-container-id-3 div.sk-parallel-item::after {\n",
       "  content: \"\";\n",
       "  width: 100%;\n",
       "  border-bottom: 2px solid var(--sklearn-color-text-on-default-background);\n",
       "  flex-grow: 1;\n",
       "}\n",
       "\n",
       "#sk-container-id-3 div.sk-parallel {\n",
       "  display: flex;\n",
       "  align-items: stretch;\n",
       "  justify-content: center;\n",
       "  background-color: var(--sklearn-color-background);\n",
       "  position: relative;\n",
       "}\n",
       "\n",
       "#sk-container-id-3 div.sk-parallel-item {\n",
       "  display: flex;\n",
       "  flex-direction: column;\n",
       "}\n",
       "\n",
       "#sk-container-id-3 div.sk-parallel-item:first-child::after {\n",
       "  align-self: flex-end;\n",
       "  width: 50%;\n",
       "}\n",
       "\n",
       "#sk-container-id-3 div.sk-parallel-item:last-child::after {\n",
       "  align-self: flex-start;\n",
       "  width: 50%;\n",
       "}\n",
       "\n",
       "#sk-container-id-3 div.sk-parallel-item:only-child::after {\n",
       "  width: 0;\n",
       "}\n",
       "\n",
       "/* Serial-specific style estimator block */\n",
       "\n",
       "#sk-container-id-3 div.sk-serial {\n",
       "  display: flex;\n",
       "  flex-direction: column;\n",
       "  align-items: center;\n",
       "  background-color: var(--sklearn-color-background);\n",
       "  padding-right: 1em;\n",
       "  padding-left: 1em;\n",
       "}\n",
       "\n",
       "\n",
       "/* Toggleable style: style used for estimator/Pipeline/ColumnTransformer box that is\n",
       "clickable and can be expanded/collapsed.\n",
       "- Pipeline and ColumnTransformer use this feature and define the default style\n",
       "- Estimators will overwrite some part of the style using the `sk-estimator` class\n",
       "*/\n",
       "\n",
       "/* Pipeline and ColumnTransformer style (default) */\n",
       "\n",
       "#sk-container-id-3 div.sk-toggleable {\n",
       "  /* Default theme specific background. It is overwritten whether we have a\n",
       "  specific estimator or a Pipeline/ColumnTransformer */\n",
       "  background-color: var(--sklearn-color-background);\n",
       "}\n",
       "\n",
       "/* Toggleable label */\n",
       "#sk-container-id-3 label.sk-toggleable__label {\n",
       "  cursor: pointer;\n",
       "  display: flex;\n",
       "  width: 100%;\n",
       "  margin-bottom: 0;\n",
       "  padding: 0.5em;\n",
       "  box-sizing: border-box;\n",
       "  text-align: center;\n",
       "  align-items: start;\n",
       "  justify-content: space-between;\n",
       "  gap: 0.5em;\n",
       "}\n",
       "\n",
       "#sk-container-id-3 label.sk-toggleable__label .caption {\n",
       "  font-size: 0.6rem;\n",
       "  font-weight: lighter;\n",
       "  color: var(--sklearn-color-text-muted);\n",
       "}\n",
       "\n",
       "#sk-container-id-3 label.sk-toggleable__label-arrow:before {\n",
       "  /* Arrow on the left of the label */\n",
       "  content: \"▸\";\n",
       "  float: left;\n",
       "  margin-right: 0.25em;\n",
       "  color: var(--sklearn-color-icon);\n",
       "}\n",
       "\n",
       "#sk-container-id-3 label.sk-toggleable__label-arrow:hover:before {\n",
       "  color: var(--sklearn-color-text);\n",
       "}\n",
       "\n",
       "/* Toggleable content - dropdown */\n",
       "\n",
       "#sk-container-id-3 div.sk-toggleable__content {\n",
       "  max-height: 0;\n",
       "  max-width: 0;\n",
       "  overflow: hidden;\n",
       "  text-align: left;\n",
       "  /* unfitted */\n",
       "  background-color: var(--sklearn-color-unfitted-level-0);\n",
       "}\n",
       "\n",
       "#sk-container-id-3 div.sk-toggleable__content.fitted {\n",
       "  /* fitted */\n",
       "  background-color: var(--sklearn-color-fitted-level-0);\n",
       "}\n",
       "\n",
       "#sk-container-id-3 div.sk-toggleable__content pre {\n",
       "  margin: 0.2em;\n",
       "  border-radius: 0.25em;\n",
       "  color: var(--sklearn-color-text);\n",
       "  /* unfitted */\n",
       "  background-color: var(--sklearn-color-unfitted-level-0);\n",
       "}\n",
       "\n",
       "#sk-container-id-3 div.sk-toggleable__content.fitted pre {\n",
       "  /* unfitted */\n",
       "  background-color: var(--sklearn-color-fitted-level-0);\n",
       "}\n",
       "\n",
       "#sk-container-id-3 input.sk-toggleable__control:checked~div.sk-toggleable__content {\n",
       "  /* Expand drop-down */\n",
       "  max-height: 200px;\n",
       "  max-width: 100%;\n",
       "  overflow: auto;\n",
       "}\n",
       "\n",
       "#sk-container-id-3 input.sk-toggleable__control:checked~label.sk-toggleable__label-arrow:before {\n",
       "  content: \"▾\";\n",
       "}\n",
       "\n",
       "/* Pipeline/ColumnTransformer-specific style */\n",
       "\n",
       "#sk-container-id-3 div.sk-label input.sk-toggleable__control:checked~label.sk-toggleable__label {\n",
       "  color: var(--sklearn-color-text);\n",
       "  background-color: var(--sklearn-color-unfitted-level-2);\n",
       "}\n",
       "\n",
       "#sk-container-id-3 div.sk-label.fitted input.sk-toggleable__control:checked~label.sk-toggleable__label {\n",
       "  background-color: var(--sklearn-color-fitted-level-2);\n",
       "}\n",
       "\n",
       "/* Estimator-specific style */\n",
       "\n",
       "/* Colorize estimator box */\n",
       "#sk-container-id-3 div.sk-estimator input.sk-toggleable__control:checked~label.sk-toggleable__label {\n",
       "  /* unfitted */\n",
       "  background-color: var(--sklearn-color-unfitted-level-2);\n",
       "}\n",
       "\n",
       "#sk-container-id-3 div.sk-estimator.fitted input.sk-toggleable__control:checked~label.sk-toggleable__label {\n",
       "  /* fitted */\n",
       "  background-color: var(--sklearn-color-fitted-level-2);\n",
       "}\n",
       "\n",
       "#sk-container-id-3 div.sk-label label.sk-toggleable__label,\n",
       "#sk-container-id-3 div.sk-label label {\n",
       "  /* The background is the default theme color */\n",
       "  color: var(--sklearn-color-text-on-default-background);\n",
       "}\n",
       "\n",
       "/* On hover, darken the color of the background */\n",
       "#sk-container-id-3 div.sk-label:hover label.sk-toggleable__label {\n",
       "  color: var(--sklearn-color-text);\n",
       "  background-color: var(--sklearn-color-unfitted-level-2);\n",
       "}\n",
       "\n",
       "/* Label box, darken color on hover, fitted */\n",
       "#sk-container-id-3 div.sk-label.fitted:hover label.sk-toggleable__label.fitted {\n",
       "  color: var(--sklearn-color-text);\n",
       "  background-color: var(--sklearn-color-fitted-level-2);\n",
       "}\n",
       "\n",
       "/* Estimator label */\n",
       "\n",
       "#sk-container-id-3 div.sk-label label {\n",
       "  font-family: monospace;\n",
       "  font-weight: bold;\n",
       "  display: inline-block;\n",
       "  line-height: 1.2em;\n",
       "}\n",
       "\n",
       "#sk-container-id-3 div.sk-label-container {\n",
       "  text-align: center;\n",
       "}\n",
       "\n",
       "/* Estimator-specific */\n",
       "#sk-container-id-3 div.sk-estimator {\n",
       "  font-family: monospace;\n",
       "  border: 1px dotted var(--sklearn-color-border-box);\n",
       "  border-radius: 0.25em;\n",
       "  box-sizing: border-box;\n",
       "  margin-bottom: 0.5em;\n",
       "  /* unfitted */\n",
       "  background-color: var(--sklearn-color-unfitted-level-0);\n",
       "}\n",
       "\n",
       "#sk-container-id-3 div.sk-estimator.fitted {\n",
       "  /* fitted */\n",
       "  background-color: var(--sklearn-color-fitted-level-0);\n",
       "}\n",
       "\n",
       "/* on hover */\n",
       "#sk-container-id-3 div.sk-estimator:hover {\n",
       "  /* unfitted */\n",
       "  background-color: var(--sklearn-color-unfitted-level-2);\n",
       "}\n",
       "\n",
       "#sk-container-id-3 div.sk-estimator.fitted:hover {\n",
       "  /* fitted */\n",
       "  background-color: var(--sklearn-color-fitted-level-2);\n",
       "}\n",
       "\n",
       "/* Specification for estimator info (e.g. \"i\" and \"?\") */\n",
       "\n",
       "/* Common style for \"i\" and \"?\" */\n",
       "\n",
       ".sk-estimator-doc-link,\n",
       "a:link.sk-estimator-doc-link,\n",
       "a:visited.sk-estimator-doc-link {\n",
       "  float: right;\n",
       "  font-size: smaller;\n",
       "  line-height: 1em;\n",
       "  font-family: monospace;\n",
       "  background-color: var(--sklearn-color-background);\n",
       "  border-radius: 1em;\n",
       "  height: 1em;\n",
       "  width: 1em;\n",
       "  text-decoration: none !important;\n",
       "  margin-left: 0.5em;\n",
       "  text-align: center;\n",
       "  /* unfitted */\n",
       "  border: var(--sklearn-color-unfitted-level-1) 1pt solid;\n",
       "  color: var(--sklearn-color-unfitted-level-1);\n",
       "}\n",
       "\n",
       ".sk-estimator-doc-link.fitted,\n",
       "a:link.sk-estimator-doc-link.fitted,\n",
       "a:visited.sk-estimator-doc-link.fitted {\n",
       "  /* fitted */\n",
       "  border: var(--sklearn-color-fitted-level-1) 1pt solid;\n",
       "  color: var(--sklearn-color-fitted-level-1);\n",
       "}\n",
       "\n",
       "/* On hover */\n",
       "div.sk-estimator:hover .sk-estimator-doc-link:hover,\n",
       ".sk-estimator-doc-link:hover,\n",
       "div.sk-label-container:hover .sk-estimator-doc-link:hover,\n",
       ".sk-estimator-doc-link:hover {\n",
       "  /* unfitted */\n",
       "  background-color: var(--sklearn-color-unfitted-level-3);\n",
       "  color: var(--sklearn-color-background);\n",
       "  text-decoration: none;\n",
       "}\n",
       "\n",
       "div.sk-estimator.fitted:hover .sk-estimator-doc-link.fitted:hover,\n",
       ".sk-estimator-doc-link.fitted:hover,\n",
       "div.sk-label-container:hover .sk-estimator-doc-link.fitted:hover,\n",
       ".sk-estimator-doc-link.fitted:hover {\n",
       "  /* fitted */\n",
       "  background-color: var(--sklearn-color-fitted-level-3);\n",
       "  color: var(--sklearn-color-background);\n",
       "  text-decoration: none;\n",
       "}\n",
       "\n",
       "/* Span, style for the box shown on hovering the info icon */\n",
       ".sk-estimator-doc-link span {\n",
       "  display: none;\n",
       "  z-index: 9999;\n",
       "  position: relative;\n",
       "  font-weight: normal;\n",
       "  right: .2ex;\n",
       "  padding: .5ex;\n",
       "  margin: .5ex;\n",
       "  width: min-content;\n",
       "  min-width: 20ex;\n",
       "  max-width: 50ex;\n",
       "  color: var(--sklearn-color-text);\n",
       "  box-shadow: 2pt 2pt 4pt #999;\n",
       "  /* unfitted */\n",
       "  background: var(--sklearn-color-unfitted-level-0);\n",
       "  border: .5pt solid var(--sklearn-color-unfitted-level-3);\n",
       "}\n",
       "\n",
       ".sk-estimator-doc-link.fitted span {\n",
       "  /* fitted */\n",
       "  background: var(--sklearn-color-fitted-level-0);\n",
       "  border: var(--sklearn-color-fitted-level-3);\n",
       "}\n",
       "\n",
       ".sk-estimator-doc-link:hover span {\n",
       "  display: block;\n",
       "}\n",
       "\n",
       "/* \"?\"-specific style due to the `<a>` HTML tag */\n",
       "\n",
       "#sk-container-id-3 a.estimator_doc_link {\n",
       "  float: right;\n",
       "  font-size: 1rem;\n",
       "  line-height: 1em;\n",
       "  font-family: monospace;\n",
       "  background-color: var(--sklearn-color-background);\n",
       "  border-radius: 1rem;\n",
       "  height: 1rem;\n",
       "  width: 1rem;\n",
       "  text-decoration: none;\n",
       "  /* unfitted */\n",
       "  color: var(--sklearn-color-unfitted-level-1);\n",
       "  border: var(--sklearn-color-unfitted-level-1) 1pt solid;\n",
       "}\n",
       "\n",
       "#sk-container-id-3 a.estimator_doc_link.fitted {\n",
       "  /* fitted */\n",
       "  border: var(--sklearn-color-fitted-level-1) 1pt solid;\n",
       "  color: var(--sklearn-color-fitted-level-1);\n",
       "}\n",
       "\n",
       "/* On hover */\n",
       "#sk-container-id-3 a.estimator_doc_link:hover {\n",
       "  /* unfitted */\n",
       "  background-color: var(--sklearn-color-unfitted-level-3);\n",
       "  color: var(--sklearn-color-background);\n",
       "  text-decoration: none;\n",
       "}\n",
       "\n",
       "#sk-container-id-3 a.estimator_doc_link.fitted:hover {\n",
       "  /* fitted */\n",
       "  background-color: var(--sklearn-color-fitted-level-3);\n",
       "}\n",
       "</style><div id=\"sk-container-id-3\" class=\"sk-top-container\"><div class=\"sk-text-repr-fallback\"><pre>UMAP(n_components=192, tqdm_kwds={&#x27;bar_format&#x27;: &#x27;{desc}: {percentage:3.0f}%| {bar} {n_fmt}/{total_fmt} [{elapsed}]&#x27;, &#x27;desc&#x27;: &#x27;Epochs completed&#x27;, &#x27;disable&#x27;: True})</pre><b>In a Jupyter environment, please rerun this cell to show the HTML representation or trust the notebook. <br />On GitHub, the HTML representation is unable to render, please try loading this page with nbviewer.org.</b></div><div class=\"sk-container\" hidden><div class=\"sk-item\"><div class=\"sk-estimator fitted sk-toggleable\"><input class=\"sk-toggleable__control sk-hidden--visually\" id=\"sk-estimator-id-3\" type=\"checkbox\" checked><label for=\"sk-estimator-id-3\" class=\"sk-toggleable__label fitted sk-toggleable__label-arrow\"><div><div>UMAP</div></div><div><span class=\"sk-estimator-doc-link fitted\">i<span>Fitted</span></span></div></label><div class=\"sk-toggleable__content fitted\"><pre>UMAP(n_components=192, tqdm_kwds={&#x27;bar_format&#x27;: &#x27;{desc}: {percentage:3.0f}%| {bar} {n_fmt}/{total_fmt} [{elapsed}]&#x27;, &#x27;desc&#x27;: &#x27;Epochs completed&#x27;, &#x27;disable&#x27;: True})</pre></div> </div></div></div></div>"
      ],
      "text/plain": [
       "UMAP(n_components=192, tqdm_kwds={'bar_format': '{desc}: {percentage:3.0f}%| {bar} {n_fmt}/{total_fmt} [{elapsed}]', 'desc': 'Epochs completed', 'disable': True})"
      ]
     },
     "execution_count": 51,
     "metadata": {},
     "output_type": "execute_result"
    }
   ],
   "source": [
    "reducer = umap.UMAP(n_components=192)\n",
    "# # Fit the reducer to the data without transforming\n",
    "reducer.fit(embeddings_array)\n"
   ]
  },
  {
   "cell_type": "code",
   "execution_count": 53,
   "id": "8cef657b",
   "metadata": {},
   "outputs": [],
   "source": [
    "import pickle \n",
    "\n",
    "with open('umap_reducer.pkl', 'wb') as f:\n",
    "    pickle.dump(reducer, f)"
   ]
  },
  {
   "cell_type": "code",
   "execution_count": null,
   "id": "95bebec2",
   "metadata": {},
   "outputs": [],
   "source": [
    "min_cluster_size': 10, 'min_samples': 9, 'n_components': 179}"
   ]
  },
  {
   "cell_type": "code",
   "execution_count": null,
   "id": "577fbc7a",
   "metadata": {},
   "outputs": [],
   "source": [
    "# hdbscan, truncatedsvd\n",
    "\n",
    "# === Results with Best Parameters ===\n",
    "# Reduced dimensions from 3072 to 64\n",
    "# === Clustering Quality Metrics ===\n",
    "# Number of clusters: 736\n",
    "# Noise points: 4859 (51.9%)\n",
    "# Average cluster size: 6.1 ± 5.6\n",
    "# Cluster size range: 3 - 84\n",
    "# === Quality Scores ===\n",
    "# Silhouette Score: 0.319 (higher is better)\n",
    "# Calinski-Harabasz Score: 31.7 (higher is better)\n",
    "# Davies-Bouldin Score: 1.086 (lower is better)\n",
    "# HDBSCAN Validity Index: 0.133\n",
    "# Composite Score: 0.226 (higher is better)\n",
    "    \n"
   ]
  }
 ],
 "metadata": {
  "kernelspec": {
   "display_name": "ainewsbot",
   "language": "python",
   "name": "ainewsbot"
  },
  "language_info": {
   "codemirror_mode": {
    "name": "ipython",
    "version": 3
   },
   "file_extension": ".py",
   "mimetype": "text/x-python",
   "name": "python",
   "nbconvert_exporter": "python",
   "pygments_lexer": "ipython3",
   "version": "3.11.13"
  }
 },
 "nbformat": 4,
 "nbformat_minor": 5
}
