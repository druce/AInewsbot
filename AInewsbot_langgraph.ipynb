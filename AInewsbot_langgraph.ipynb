{
 "cells": [
  {
   "cell_type": "markdown",
   "id": "f7c703a9",
   "metadata": {},
   "source": [
    "### Newsbot to write a daily AI news summary using langgraph\n",
    "- Save a list of HTML files from sources.yaml (tech news sites)\n",
    "- Extract URLs for the news stories\n",
    "- Filter URLs to remove duplicates, articles seen before, and non-AI articles (using a ChatGPT prompt)\n",
    "- Perform headline topic analysis and sort by topic to help the AI structure the response by topic\n",
    "- Scrape and summarize individual articles\n",
    "- Compose and email the summary\n"
   ]
  },
  {
   "cell_type": "code",
   "execution_count": 1,
   "id": "74032f7c",
   "metadata": {},
   "outputs": [],
   "source": [
    "# to selectively re-import as needed\n",
    "import sys\n",
    "# del sys.modules['ainb_llm']\n",
    "# del sys.modules['ainb_const']\n",
    "# del sys.modules['ainb_utilities']\n",
    "# del sys.modules['ainb_webscrape']\n"
   ]
  },
  {
   "cell_type": "code",
   "execution_count": 2,
   "id": "562be45b",
   "metadata": {},
   "outputs": [],
   "source": [
    "from datetime import datetime, timedelta\n",
    "import os\n",
    "import yaml\n",
    "import sqlite3\n",
    "import json\n",
    "from collections import Counter\n",
    "import uuid\n",
    "from typing import TypedDict, Annotated\n",
    "import subprocess\n",
    "import requests\n",
    "\n",
    "import operator\n",
    "import pickle\n",
    "\n",
    "import langchain\n",
    "from langchain_openai import ChatOpenAI\n",
    "from langchain_core.messages import BaseMessage, AnyMessage, SystemMessage, HumanMessage, ToolMessage\n",
    "from langchain_core.prompts import (ChatPromptTemplate, MessagesPlaceholder, PromptTemplate,\n",
    "                                    SystemMessagePromptTemplate, HumanMessagePromptTemplate)\n",
    "from langgraph.checkpoint.memory import MemorySaver\n",
    "from langgraph.checkpoint.sqlite import SqliteSaver\n",
    "from langgraph.checkpoint.sqlite.aio import AsyncSqliteSaver\n",
    "\n",
    "from langchain_core.output_parsers import SimpleJsonOutputParser, JsonOutputParser, StrOutputParser\n",
    "\n",
    "from langgraph.graph import StateGraph, START, END\n",
    "\n",
    "from langchain_community.tools.tavily_search import TavilySearchResults\n",
    "from langgraph.graph.message import add_messages\n",
    "from langgraph.prebuilt import ToolNode, tools_condition\n",
    "\n",
    "import numpy as np\n",
    "import pandas as pd\n",
    "import umap\n",
    "\n",
    "import sklearn\n",
    "from sklearn.cluster import DBSCAN\n",
    "\n",
    "import bs4\n",
    "from urllib.parse import urljoin, urlparse\n",
    "\n",
    "import multiprocessing\n",
    "import asyncio\n",
    "import aiohttp\n",
    "\n",
    "from IPython.display import HTML, Image, Markdown, display\n",
    "import markdown\n",
    "\n",
    "import openai\n",
    "from openai import OpenAI\n",
    "\n",
    "import trafilatura   # web scrape uses this to get clean news stories w/o a lot of js and boilerplate\n",
    "\n",
    "\n",
    "import dotenv\n",
    "VERBOSE=1\n",
    "from ainb_const import (DOWNLOAD_DIR, PAGES_DIR,\n",
    "                        MODEL, LOWCOST_MODEL, HIGHCOST_MODEL, CANONICAL_TOPICS,\n",
    "                        SOURCECONFIG, FILTER_PROMPT, TOPIC_PROMPT,\n",
    "                        SUMMARIZE_SYSTEM_PROMPT, SUMMARIZE_USER_PROMPT, FINAL_SUMMARY_PROMPT, \n",
    "                        TOP_CATEGORIES_PROMPT, REWRITE_PROMPT,\n",
    "                        MAX_INPUT_TOKENS, MAX_OUTPUT_TOKENS, MAX_RETRIES, TEMPERATURE, SQLITE_DB,\n",
    "                        HOSTNAME_SKIPLIST, SITE_NAME_SKIPLIST, TOPSOURCES\n",
    "                       )\n",
    "from ainb_utilities import (log, delete_files, filter_unseen_urls_db, insert_article,\n",
    "                            nearest_neighbor_sort, agglomerative_cluster_sort, traveling_salesman_sort_scipy,\n",
    "                            unicode_to_ascii, send_gmail)\n",
    "from ainb_webscrape import (get_driver, quit_drivers, launch_drivers, get_file, get_url, parse_file,\n",
    "                            get_og_tags, get_path_from_url, trimmed_href, process_source_queue_factory,\n",
    "                            process_url_queue_factory, get_google_news_redirects)\n",
    "from ainb_llm import (paginate_df, process_pages, fetch_pages, fetch_openai, fetch_all_summaries,\n",
    "                      fetch_openai_summary, count_tokens, trunc_tokens, \n",
    "                      categorize_headline, categorize_df, clean_topics,\n",
    "                      get_site_name, fetch_missing_site_names)\n",
    "\n",
    "\n",
    "import asyncio\n",
    "# need this to run async in jupyter since it already has an asyncio event loop running\n",
    "import nest_asyncio\n",
    "nest_asyncio.apply()\n"
   ]
  },
  {
   "cell_type": "code",
   "execution_count": 3,
   "id": "59ba13ee",
   "metadata": {},
   "outputs": [
    {
     "name": "stdout",
     "output_type": "stream",
     "text": [
      "Python.           3.11.10 | packaged by conda-forge | (main, Sep 10 2024, 10:57:35) [Clang 17.0.6 ]\n",
      "LangChain         0.3.3\n",
      "OpenAI            1.52.0\n",
      "trafilatura       1.12.2\n",
      "numpy             1.26.4\n",
      "pandas            2.2.3\n",
      "sklearn           1.5.2\n",
      "umap              0.5.6\n"
     ]
    }
   ],
   "source": [
    "print(f\"Python.           {sys.version}\")\n",
    "print(f\"LangChain         {langchain.__version__}\")\n",
    "print(f\"OpenAI            {openai.__version__}\")\n",
    "# print(f\"smtplib           {smtplib.sys.version}\")\n",
    "print(f\"trafilatura       {trafilatura.__version__}\")\n",
    "# print(f\"bs4               {bs4.__version__}\")\n",
    "print(f\"numpy             {np.__version__}\")\n",
    "print(f\"pandas            {pd.__version__}\")\n",
    "print(f\"sklearn           {sklearn.__version__}\")\n",
    "print(f\"umap              {umap.__version__}\")\n"
   ]
  },
  {
   "cell_type": "markdown",
   "id": "eb072688",
   "metadata": {},
   "source": [
    "# Test LLM calling"
   ]
  },
  {
   "cell_type": "code",
   "execution_count": 4,
   "id": "a5ed3b77",
   "metadata": {},
   "outputs": [
    {
     "name": "stderr",
     "output_type": "stream",
     "text": [
      "2024-10-19 13:18:25,382 - httpx - INFO - HTTP Request: POST https://api.openai.com/v1/chat/completions \"HTTP/1.1 200 OK\"\n"
     ]
    },
    {
     "data": {
      "text/plain": [
       "AIMessage(content='Ascoltami. Sei bellissima. Sei perfetta e ti amo.', additional_kwargs={'refusal': None}, response_metadata={'token_usage': {'completion_tokens': 16, 'prompt_tokens': 34, 'total_tokens': 50, 'completion_tokens_details': {'audio_tokens': None, 'reasoning_tokens': 0}, 'prompt_tokens_details': {'audio_tokens': None, 'cached_tokens': 0}}, 'model_name': 'chatgpt-4o-latest', 'system_fingerprint': 'fp_dba2970730', 'finish_reason': 'stop', 'logprobs': None}, id='run-948e92e0-eb72-4158-a5ab-ca6c03dd6b5f-0', usage_metadata={'input_tokens': 34, 'output_tokens': 16, 'total_tokens': 50, 'input_token_details': {'cache_read': 0}, 'output_token_details': {'reasoning': 0}})"
      ]
     },
     "execution_count": 4,
     "metadata": {},
     "output_type": "execute_result"
    }
   ],
   "source": [
    "# a basic LLM call with langchain\n",
    "model = ChatOpenAI(model=MODEL)\n",
    "\n",
    "model.invoke([\n",
    "    SystemMessage(content=\"Translate the following from English into Italian\"),\n",
    "    HumanMessage(content='Listen to me. You are beautiful. You are perfect and I love you.'),\n",
    "])\n"
   ]
  },
  {
   "cell_type": "code",
   "execution_count": 5,
   "id": "79ff6dff",
   "metadata": {},
   "outputs": [
    {
     "name": "stderr",
     "output_type": "stream",
     "text": [
      "2024-10-19 13:18:25,760 - httpx - INFO - HTTP Request: POST https://api.openai.com/v1/chat/completions \"HTTP/1.1 200 OK\"\n"
     ]
    },
    {
     "data": {
      "text/plain": [
       "'Ciao'"
      ]
     },
     "execution_count": 5,
     "metadata": {},
     "output_type": "execute_result"
    }
   ],
   "source": [
    "# use a langchain template\n",
    "system_template = \"Translate the following into {language}:\"\n",
    "prompt_template = ChatPromptTemplate.from_messages(\n",
    "    [(\"system\", system_template), (\"user\", \"{text}\")]\n",
    ")\n",
    "parser = StrOutputParser()\n",
    "chain = prompt_template | model | parser\n",
    "chain.invoke({\"language\": \"italian\", \"text\": \"hi\"})\n"
   ]
  },
  {
   "cell_type": "code",
   "execution_count": 6,
   "id": "6382e44e",
   "metadata": {
    "scrolled": true
   },
   "outputs": [
    {
     "name": "stderr",
     "output_type": "stream",
     "text": [
      "2024-10-19 13:18:26,131 - httpx - INFO - HTTP Request: POST https://api.openai.com/v1/chat/completions \"HTTP/1.1 200 OK\"\n"
     ]
    },
    {
     "name": "stdout",
     "output_type": "stream",
     "text": [
      "Écoute-moi. Tu es parfait(e). Tu es magnifique et je t'aime."
     ]
    },
    {
     "name": "stderr",
     "output_type": "stream",
     "text": [
      "2024-10-19 13:18:26,848 - httpx - INFO - HTTP Request: POST https://api.openai.com/v1/chat/completions \"HTTP/1.1 200 OK\"\n"
     ]
    },
    {
     "name": "stdout",
     "output_type": "stream",
     "text": [
      "Hör mir zu. Du bist makellos. Du bist exquisit und ich liebe dich."
     ]
    },
    {
     "name": "stderr",
     "output_type": "stream",
     "text": [
      "2024-10-19 13:18:27,992 - httpx - INFO - HTTP Request: POST https://api.openai.com/v1/chat/completions \"HTTP/1.1 200 OK\"\n"
     ]
    },
    {
     "name": "stdout",
     "output_type": "stream",
     "text": [
      "Escúchame. Eres perfecta. Eres hermosa y te amo."
     ]
    },
    {
     "name": "stderr",
     "output_type": "stream",
     "text": [
      "2024-10-19 13:18:28,897 - httpx - INFO - HTTP Request: POST https://api.openai.com/v1/chat/completions \"HTTP/1.1 200 OK\"\n"
     ]
    },
    {
     "name": "stdout",
     "output_type": "stream",
     "text": [
      "Ascoltami. Sei incredibile. Sei magnifica e ti amo."
     ]
    },
    {
     "name": "stderr",
     "output_type": "stream",
     "text": [
      "2024-10-19 13:18:29,509 - httpx - INFO - HTTP Request: POST https://api.openai.com/v1/chat/completions \"HTTP/1.1 200 OK\"\n"
     ]
    },
    {
     "name": "stdout",
     "output_type": "stream",
     "text": [
      "Figyelj rám. Elbűvölő vagy. Lélegzetelállító vagy, és szeretlek.\n",
      "\n",
      "Elapsed seconds: 4.123532\n"
     ]
    }
   ],
   "source": [
    "# time multiple templants (single-threaded)\n",
    "prompt_inputs = [\n",
    "    {\"language\": \"French\", \"adjective1\": \"flawless\", \"adjective2\": \"beautiful\"},\n",
    "    {\"language\": \"German\", \"adjective1\": \"immaculate\", \"adjective2\": \"exquisite\"},\n",
    "    {\"language\": \"Spanish\", \"adjective1\": \"perfect\", \"adjective2\": \"gorgeous\"},\n",
    "    {\"language\": \"Italian\", \"adjective1\": \"amazing\", \"adjective2\": \"magnificent\"},\n",
    "    {\"language\": \"Hungarian\", \"adjective1\": \"ravishing\", \"adjective2\": \"stunning\"},\n",
    "]\n",
    "\n",
    "system_template = 'Translate the following into {language}:'\n",
    "user_template = 'Listen to me. You are {adjective1}. You are {adjective2} and I love you.'\n",
    "\n",
    "prompt_template = ChatPromptTemplate.from_messages(\n",
    "    [(\"system\", system_template),\n",
    "     (\"user\", user_template)]\n",
    ")\n",
    "\n",
    "parser = StrOutputParser()\n",
    "\n",
    "chain = prompt_template | model | parser\n",
    "\n",
    "start_time = datetime.now()\n",
    "for tpl in prompt_inputs:\n",
    "    response = \"\"\n",
    "    # stream tokens as they are generated\n",
    "    for r in chain.stream(tpl):\n",
    "        print(r, end=\"\")\n",
    "        response += r\n",
    "end_time = datetime.now()\n",
    "\n",
    "difference = end_time - start_time\n",
    "total_seconds = difference.total_seconds()\n",
    "print(f\"\\n\\nElapsed seconds: {total_seconds:.6f}\")\n"
   ]
  },
  {
   "cell_type": "code",
   "execution_count": 7,
   "id": "659782d9",
   "metadata": {},
   "outputs": [
    {
     "name": "stderr",
     "output_type": "stream",
     "text": [
      "2024-10-19 13:18:30,438 - httpx - INFO - HTTP Request: POST https://api.openai.com/v1/chat/completions \"HTTP/1.1 200 OK\"\n",
      "2024-10-19 13:18:30,575 - httpx - INFO - HTTP Request: POST https://api.openai.com/v1/chat/completions \"HTTP/1.1 200 OK\"\n",
      "2024-10-19 13:18:30,721 - httpx - INFO - HTTP Request: POST https://api.openai.com/v1/chat/completions \"HTTP/1.1 200 OK\"\n",
      "2024-10-19 13:18:31,013 - httpx - INFO - HTTP Request: POST https://api.openai.com/v1/chat/completions \"HTTP/1.1 200 OK\"\n",
      "2024-10-19 13:18:31,559 - httpx - INFO - HTTP Request: POST https://api.openai.com/v1/chat/completions \"HTTP/1.1 200 OK\"\n"
     ]
    },
    {
     "name": "stdout",
     "output_type": "stream",
     "text": [
      "\n",
      "\n",
      "Elapsed seconds: 1.657398\n",
      "Écoute-moi. Tu es parfait(e). Tu es magnifique et je t'aime.\n",
      "Hör mir zu. Du bist makellos. Du bist exquisit und ich liebe dich.\n",
      "Escúchame. Eres perfecta. Eres hermosa y te amo.\n",
      "Ascoltami. Sei incredibile. Sei magnifica e ti amo.\n",
      "Figyelj rám. Elbűvölő vagy. Lenyűgöző vagy, és szeretlek.\n"
     ]
    }
   ],
   "source": [
    "# same but send all at once using asyncio\n",
    "\n",
    "async def async_langchain(chain, input_dict):\n",
    "    response = await chain.ainvoke(input_dict)\n",
    "    return response\n",
    "\n",
    "\n",
    "prompt_templates = [\n",
    "    {\"language\": \"French\", \"adjective1\": \"flawless\", \"adjective2\": \"beautiful\"},\n",
    "    {\"language\": \"German\", \"adjective1\": \"immaculate\", \"adjective2\": \"exquisite\"},\n",
    "    {\"language\": \"Spanish\", \"adjective1\": \"perfect\", \"adjective2\": \"gorgeous\"},\n",
    "    {\"language\": \"Italian\", \"adjective1\": \"amazing\", \"adjective2\": \"magnificent\"},\n",
    "    {\"language\": \"Hungarian\", \"adjective1\": \"ravishing\", \"adjective2\": \"stunning\"},\n",
    "]\n",
    "\n",
    "start_time = datetime.now()\n",
    "tasks = []\n",
    "for d in prompt_templates:\n",
    "    task = asyncio.create_task(async_langchain(chain, d))\n",
    "    tasks.append(task)\n",
    "responses = await asyncio.gather(*tasks)\n",
    "end_time = datetime.now()\n",
    "\n",
    "\n",
    "difference = end_time - start_time\n",
    "total_seconds = difference.total_seconds()\n",
    "print(f\"\\n\\nElapsed seconds: {total_seconds:.6f}\")\n",
    "print(\"\\n\".join(responses))\n"
   ]
  },
  {
   "cell_type": "code",
   "execution_count": 8,
   "id": "203ddd89",
   "metadata": {},
   "outputs": [],
   "source": [
    "# test o1-preview, note temperature, system prompt not supported\n",
    "# client = OpenAI()\n",
    "# response = client.chat.completions.create(\n",
    "#     model=\"o1-preview\",\n",
    "#     messages=[\n",
    "#         {\n",
    "#             \"role\": \"user\",\n",
    "#             \"content\": \"Write a Python script that takes a matrix represented as a string with format '[1,2],[3,4],[5,6]' and prints the transpose in the same format.\"\n",
    "#         }\n",
    "#     ]\n",
    "# )\n",
    "# print(response.choices[0].message.content)\n"
   ]
  },
  {
   "cell_type": "markdown",
   "id": "554be5ce",
   "metadata": {},
   "source": [
    "# Functions for state graph\n",
    "- Each takes a state dict and returns updated state dict\n",
    "- We will use these later to construct a LangGraph agent workflow"
   ]
  },
  {
   "cell_type": "code",
   "execution_count": 9,
   "id": "5f02beff",
   "metadata": {},
   "outputs": [],
   "source": [
    "DEBUG = False\n",
    "N_BROWSERS = 4\n",
    "MAX_EDITS = 3\n",
    "before_date = None\n",
    "do_download = True\n"
   ]
  },
  {
   "cell_type": "code",
   "execution_count": 10,
   "id": "e94b7857",
   "metadata": {},
   "outputs": [],
   "source": [
    "# class to maintain state within graph\n",
    "\n",
    "class AgentState(TypedDict):\n",
    "    AIdf: dict                #  the current working set of headlines (pandas dataframe not supported)\n",
    "    before_date: str          #  ignore stories before this date for deduplication (force reprocess since)\n",
    "    do_download: bool         #  if False use existing files, else download from sources\n",
    "    sources: dict             #  sources to scrap\n",
    "    sources_reverse: dict     #  map file names to sources\n",
    "    bullets: list             #  bullet points for summary email\n",
    "    summary: str              #  final summary\n",
    "    cluster_topics: list      #  list of cluster topics\n",
    "    n_edits: int              #  count edit iterations so we don't keep editing forever\n",
    "    edit_complete: bool       #  edit will update if no more edits to make\n",
    "    # message thread with OpenAI\n",
    "    # messages: Annotated[list[AnyMessage], operator.add]\n"
   ]
  },
  {
   "cell_type": "code",
   "execution_count": 11,
   "id": "f5cd14f0",
   "metadata": {},
   "outputs": [],
   "source": [
    "test_state = AgentState(\n",
    "    {'AIdf': None,\n",
    "    'before_date': before_date,\n",
    "    'do_download': do_download,\n",
    "    'sources': None,\n",
    "    'sources_reverse': None,\n",
    "    'bullets': '',\n",
    "    'summary': '',\n",
    "    'n_edits': 0,\n",
    "    'edit_complete': False,\n",
    "#     'messages': None\n",
    "    }\n",
    ")\n"
   ]
  },
  {
   "cell_type": "code",
   "execution_count": 12,
   "id": "fc712e9d",
   "metadata": {},
   "outputs": [],
   "source": [
    "# Initialize reading configurations from YAML file\n",
    "\n",
    "def fn_initialize(state: AgentState) -> AgentState:\n",
    "    \"\"\"\n",
    "    Initializes the agent state by loading source configurations from SOURCECONFIG (sources.yaml) .\n",
    "\n",
    "    Args:\n",
    "        state (AgentState): The current state of the agent.\n",
    "        verbose (bool, optional): Whether to print verbose output. Defaults to False.\n",
    "\n",
    "    Returns:\n",
    "        AgentState: The updated state of the agent.\n",
    "\n",
    "    Raises:\n",
    "        yaml.YAMLError: If there is an error while loading the YAML file.\n",
    "\n",
    "    \"\"\"\n",
    "\n",
    "    #  load sources to scrape from sources.yaml\n",
    "    with open(SOURCECONFIG, \"r\") as stream:\n",
    "        try:\n",
    "            state['sources'] = yaml.safe_load(stream)\n",
    "        except yaml.YAMLError as exc:\n",
    "            print(exc)\n",
    "\n",
    "    log(f\"Initialized {len(state['sources'])} items in sources from {SOURCECONFIG}\")\n",
    "\n",
    "    # make a reverse dict to map file titles to source names\n",
    "    state['sources_reverse'] = {}\n",
    "    for k, v in state['sources'].items():\n",
    "        log(f\"{k} -> {v['url']} -> {v['title']}.html\")\n",
    "        v['sourcename'] = k\n",
    "        # map filename (title) to source name\n",
    "        state['sources_reverse'][v['title']] = k\n",
    "\n",
    "    log(f\"Initialized {len(state['sources_reverse'])} items in sources_reverse\")\n",
    "\n",
    "    return state\n",
    "\n",
    "\n",
    "if DEBUG:\n",
    "    test_state = fn_initialize(test_state)\n"
   ]
  },
  {
   "cell_type": "code",
   "execution_count": 13,
   "id": "83608da3",
   "metadata": {},
   "outputs": [],
   "source": [
    "# scrape sources with selenium and save local files in DOWNLOAD_DIR (htmldata)\n",
    "def fn_download_sources(state: AgentState) -> AgentState:\n",
    "    \"\"\"\n",
    "    Scrapes sources and saves HTML files.\n",
    "    If state[\"do_download\"] is True, deletes all files in DOWNLOAD_DIR (htmldata) and scrapes fresh copies.\n",
    "    If state[\"do_download\"] is False, uses existing files in DOWNLOAD_DIR.\n",
    "    Uses state[\"sources\"] for config info on sources to scrape\n",
    "    For each source, saves the current filename to state[\"sources\"][sourcename]['latest']\n",
    "\n",
    "    Args:\n",
    "        state (AgentState): The current state of the agent.\n",
    "        do_delete (bool, optional): Whether to delete files in DOWNLOAD_DIR. Defaults to True.\n",
    "\n",
    "    Returns:\n",
    "        AgentState: The updated state of the agent.\n",
    "    \"\"\"\n",
    "\n",
    "    if state[\"do_download\"]:\n",
    "        # empty download directories\n",
    "        delete_files(DOWNLOAD_DIR)\n",
    "        delete_files(PAGES_DIR)\n",
    "\n",
    "        # save each file specified from sources\n",
    "        log(f\"Saving HTML files using {N_BROWSERS} browsers\")\n",
    "\n",
    "        # Create a queue for multiprocessing and populate it\n",
    "        queue = multiprocessing.Queue()\n",
    "        for item in state[\"sources\"].values():\n",
    "            queue.put(item)\n",
    "\n",
    "        # Function to take the queue and pop entries off and process until none are left\n",
    "        # lets you create an array of functions with different args\n",
    "        callable = process_source_queue_factory(queue)\n",
    "\n",
    "        saved_pages = launch_drivers(N_BROWSERS, callable)\n",
    "        for sourcename, file in saved_pages:\n",
    "            log(f\"Downloaded {sourcename} to {file}\")\n",
    "            state['sources'][sourcename]['latest'] = file\n",
    "        log(f\"Saved {len(saved_pages)} HTML files\")\n",
    "\n",
    "    else:   # use existing files\n",
    "        log(f\"Web fetch disabled, using existing files in {DOWNLOAD_DIR}\")\n",
    "        # Get the current date\n",
    "        datestr = datetime.now().strftime(\"%m_%d_%Y\")\n",
    "        files = [os.path.join(DOWNLOAD_DIR, file)\n",
    "                 for file in os.listdir(DOWNLOAD_DIR)]\n",
    "        # filter files with today's date ending in .html\n",
    "        files = [\n",
    "            file for file in files if datestr in file and file.endswith(\".html\")]\n",
    "        log(f\"Found {len(files)} previously downloaded files\")\n",
    "        for file in files:\n",
    "            log(file)\n",
    "\n",
    "        saved_pages = []\n",
    "        for file in files:\n",
    "            filename = os.path.basename(file)\n",
    "            # locate date like '01_14_2024' in filename\n",
    "            position = filename.find(\" (\" + datestr)\n",
    "            basename = filename[:position]\n",
    "            # match to source name\n",
    "            sourcename = state[\"sources_reverse\"].get(basename)\n",
    "            if sourcename is None:\n",
    "                log(f\"Skipping {basename}, no sourcename metadata\")\n",
    "                continue\n",
    "            state[\"sources\"][sourcename]['latest'] = file\n",
    "\n",
    "    return state\n",
    "\n",
    "if DEBUG:\n",
    "    test_state = fn_download_sources(test_state)\n"
   ]
  },
  {
   "cell_type": "code",
   "execution_count": 14,
   "id": "65845bff",
   "metadata": {},
   "outputs": [],
   "source": [
    "def fn_extract_urls(state: AgentState) -> AgentState:\n",
    "    \"\"\"\n",
    "    Extracts news URLs from the latest HTML files matching the patterns defined in the state['sources'] configuration info.\n",
    "\n",
    "    Args:\n",
    "        state (AgentState): The current state of the agent.\n",
    "\n",
    "    Returns:\n",
    "        AgentState: The updated state of the agent with the extracted URLs stored in state['AIdf'].\n",
    "    \"\"\"\n",
    "    # Parse news URLs and titles from downloaded HTML files\n",
    "    log(\"Parsing html files\")\n",
    "    all_urls = []\n",
    "    for sourcename, sourcedict in state['sources'].items():\n",
    "        filename = sourcedict.get('latest')\n",
    "        if not filename:\n",
    "            log(f\"no filename found for {sourcename}\")\n",
    "            continue\n",
    "\n",
    "        log(sourcename + ' -> ' + filename)\n",
    "        links = parse_file(state['sources'][sourcename])\n",
    "        log(f\"{len(links)} links found\")\n",
    "        all_urls.extend(links)\n",
    "\n",
    "    log(f\"Saved {len(all_urls)} links\")\n",
    "\n",
    "    # make a pandas dataframe of all the links found\n",
    "    AIdf = (\n",
    "        pd.DataFrame(all_urls)\n",
    "        .groupby(\"url\")\n",
    "        .first()\n",
    "        .reset_index()\n",
    "        .sort_values(\"src\")[[\"src\", \"title\", \"url\"]]\n",
    "        .reset_index(drop=True)\n",
    "        .reset_index(drop=False)\n",
    "        .rename(columns={\"index\": \"id\"})\n",
    "    )\n",
    "    state['AIdf'] = AIdf.to_dict()\n",
    "\n",
    "    return state\n",
    "\n",
    "\n",
    "if DEBUG:\n",
    "    test_state = fn_extract_urls(test_state)\n",
    "\n",
    "    # s/b 17 but if some like bloomberg\" or wsj are missing, maybe got a robot block\n",
    "    # if so, download missing ones manually and then re-run fn_extract_urls\n",
    "    print(len(pd.DataFrame(test_state[\"AIdf\"]).groupby('src').count()))\n",
    "    display(pd.DataFrame(test_state[\"AIdf\"]).groupby('src').count()[['id']])\n"
   ]
  },
  {
   "cell_type": "code",
   "execution_count": 15,
   "id": "b44940fb",
   "metadata": {},
   "outputs": [],
   "source": [
    "# get AI news via newscatcher\n",
    "# https://docs.newscatcherapi.com/api-docs/endpoints/search-news\n",
    "\n",
    "newscatcher_sources = ['247wallst.com',\n",
    " '9to5mac.com',\n",
    " 'androidauthority.com',\n",
    " 'androidcentral.com',\n",
    " 'androidheadlines.com',\n",
    " 'appleinsider.com',\n",
    " 'benzinga.com',\n",
    " 'cnet.com',\n",
    " 'cnn.com',\n",
    " 'digitaltrends.com',\n",
    " 'engadget.com',\n",
    " 'fastcompany.com',\n",
    " 'finextra.com',\n",
    " 'fintechnews.sg',\n",
    " 'fonearena.com',\n",
    " 'ft.com',\n",
    " 'gadgets360.com',\n",
    " 'geekwire.com',\n",
    " 'gizchina.com',\n",
    " 'gizmochina.com',\n",
    " 'gizmodo.com',\n",
    " 'gsmarena.com',\n",
    " 'hackernoon.com',\n",
    " 'howtogeek.com',\n",
    " 'ibtimes.co.uk',\n",
    " 'itwire.com',\n",
    " 'lifehacker.com',\n",
    " 'macrumors.com',\n",
    " 'mashable.com',\n",
    "#  'medium.com',\n",
    " 'mobileworldlive.com',\n",
    " 'msn.com',\n",
    " 'nypost.com',\n",
    " 'phonearena.com',\n",
    " 'phys.org',\n",
    " 'popsci.com',\n",
    " 'scmp.com',\n",
    " 'sify.com',\n",
    " 'siliconangle.com',\n",
    " 'siliconera.com',\n",
    " 'siliconrepublic.com',\n",
    " 'slashdot.org',\n",
    " 'slashgear.com',\n",
    " 'statnews.com',\n",
    " 'tech.co',\n",
    " 'techcrunch.com',\n",
    " 'techdirt.com',\n",
    " 'technode.com',\n",
    " 'technologyreview.com',\n",
    " 'techopedia.com',\n",
    " 'techradar.com',\n",
    " 'techraptor.net',\n",
    " 'techtimes.com',\n",
    " 'techxplore.com',\n",
    " 'telecomtalk.info',\n",
    " 'thecut.com',\n",
    " 'thedrum.com',\n",
    " 'thehill.com',\n",
    " 'theregister.com',\n",
    " 'theverge.com',\n",
    " 'thurrott.com',\n",
    " 'tipranks.com',\n",
    " 'tweaktown.com',\n",
    " 'videocardz.com',\n",
    " 'washingtonpost.com',\n",
    " 'wccftech.com',\n",
    " 'wired.com',\n",
    " 'xda-developers.com',\n",
    " 'yahoo.com',\n",
    " 'zdnet.com']\n",
    "\n",
    "def fn_extract_newscatcher(state: AgentState) -> AgentState:\n",
    "    \n",
    "    q = 'Artificial Intelligence'\n",
    "    page_size = 100\n",
    "    log(f\"Fetching top {page_size} stories matching {q} from Newscatcher\")\n",
    "    base_url = \"https://api.newscatcherapi.com/v2/search\"\n",
    "    time_24h_ago = datetime.now() - timedelta(hours=24)\n",
    "\n",
    "    # Put API key in headers \n",
    "    headers = {'x-api-key': os.getenv('NEWSCATCHER_API_KEY')}\n",
    "\n",
    "    # Define search parameters\n",
    "    params = {\n",
    "        'q': q,\n",
    "        'lang': 'en',\n",
    "        'sources': ','.join(newscatcher_sources),\n",
    "        'from': time_24h_ago.strftime('%Y-%m-%d %H:%M:%S'),\n",
    "        'to': datetime.now().strftime('%Y-%m-%d %H:%M:%S'),\n",
    "        'page_size': page_size, # by default should be most highly relevant to the search\n",
    "        'page': 1\n",
    "        }\n",
    "\n",
    "    # Make API call with headers and params\n",
    "    response = requests.get(base_url, headers=headers, params=params)\n",
    "\n",
    "    # Encode received results\n",
    "    results = json.loads(response.text.encode())\n",
    "    if response.status_code != 200:\n",
    "        print('ERROR: API call failed.')\n",
    "        print(results)\n",
    "        \n",
    "    # merge into existing df\n",
    "    newscatcher_df = pd.DataFrame(results['articles'])[['title', 'link']]\n",
    "    newscatcher_df['src']='Newscatcher'\n",
    "    newscatcher_df = newscatcher_df.rename(columns={'link': 'url'})\n",
    "#     display(newscatcher_df.head())\n",
    "    AIdf = pd.DataFrame(state['AIdf'])\n",
    "#     display(AIdf.head())\n",
    "    \n",
    "    max_id = AIdf['id'].max()\n",
    "    # add id column to newscatcher_df\n",
    "    newscatcher_df['id'] = range(max_id + 1, max_id + 1 + len(newscatcher_df))\n",
    "    AIdf = pd.concat([AIdf, newscatcher_df], ignore_index=True)\n",
    "    state['AIdf'] = AIdf.to_dict()\n",
    "    return state\n",
    "    \n",
    "\n",
    "if DEBUG:\n",
    "    test_state = fn_extract_newscatcher(test_state)\n",
    "    print(len(pd.DataFrame(test_state[\"AIdf\"]).groupby('src').count()))\n",
    "    display(pd.DataFrame(test_state[\"AIdf\"]).groupby('src').count()[['id']])\n",
    "    "
   ]
  },
  {
   "cell_type": "code",
   "execution_count": 16,
   "id": "3143ed9a",
   "metadata": {},
   "outputs": [],
   "source": [
    "# some debugging stuff\n",
    "# zdf = pd.DataFrame(test_state[\"AIdf\"])\n",
    "# zdf.loc[zdf[\"src\"]=='Techmeme']\n",
    "\n",
    "# connection = sqlite3.connect('articles.db')\n",
    "# xdf = pd.read_sql_query(\"SELECT * FROM news_articles\", connection)\n",
    "# connection.close()\n",
    "\n",
    "# zdf.loc[zdf[\"title\"].str.startswith(\"NHTSA\")] \n",
    "# xdf.loc[xdf[\"title\"].str.startswith(\"NHTSA\")] \n",
    "\n",
    "# pd.set_option('display.max_rows', 300)  # Ensure up to 300 rows are shown\n",
    "\n",
    "# xdf.loc[xdf['isAI']> 0].groupby('actual_src') \\\n",
    "#     .count() \\\n",
    "#     .reset_index()[['actual_src', 'id']] \\\n",
    "#     .sort_values('id', ascending=False) \\\n",
    "#     .head(300)\n"
   ]
  },
  {
   "cell_type": "code",
   "execution_count": 17,
   "id": "9eb53b07",
   "metadata": {},
   "outputs": [],
   "source": [
    "# sqlite schema to store previously processed \n",
    "# CREATE TABLE news_articles (\n",
    "#     id INTEGER PRIMARY KEY,\n",
    "#     src TEXT,\n",
    "#     title TEXT,\n",
    "#     url TEXT UNIQUE,\n",
    "#     isAI BOOLEAN,\n",
    "#     article_date DATE\n",
    "# , timestamp DATETIME, actual_url TEXT, actual_src TEXT);\n",
    "#\n",
    "# CREATE TABLE sites (\n",
    "#     id INTEGER PRIMARY KEY AUTOINCREMENT,\n",
    "#     hostname TEXT UNIQUE NOT NULL,\n",
    "#     site_name TEXT NOT NULL\n",
    "# );\n",
    "\n"
   ]
  },
  {
   "cell_type": "code",
   "execution_count": 18,
   "id": "cd53332f",
   "metadata": {},
   "outputs": [],
   "source": [
    "# filter and clean URLs for new AI stories\n",
    "\n",
    "def fn_filter_urls(state: AgentState) -> AgentState:\n",
    "    \"\"\"\n",
    "    Filters the URLs in state[\"AIdf\"] to include only those that have not been previously seen,\n",
    "    and are related to AI according to the response from a ChatGPT prompt.\n",
    "\n",
    "    Args:\n",
    "        state (AgentState): The current state of the agent.\n",
    "        before_date (str, optional): The date before which the URLs should be filtered. Defaults to \"\".\n",
    "\n",
    "    Returns:\n",
    "\n",
    "\n",
    "        AgentState: The updated state of the agent with the filtered URLs stored in state[\"AIdf\"].\n",
    "\n",
    "    \"\"\"\n",
    "    # filter to URL not previously seen\n",
    "    AIdf = pd.DataFrame(state[\"AIdf\"])\n",
    "\n",
    "    AIdf = filter_unseen_urls_db(AIdf, before_date=state[\"before_date\"])\n",
    "\n",
    "    if len(AIdf) == 0:\n",
    "        log(\"No new URLs, returning\")\n",
    "        return state\n",
    "\n",
    "    # dedupe identical headlines\n",
    "    # filter similar titles differing by type of quote or something\n",
    "    AIdf['title'] = AIdf['title'].apply(unicode_to_ascii)\n",
    "    AIdf['title_clean'] = AIdf['title'].map(lambda s: \"\".join(s.split()))\n",
    "    AIdf = AIdf.sort_values(\"src\") \\\n",
    "        .groupby(\"title_clean\") \\\n",
    "        .first() \\\n",
    "        .reset_index(drop=True) \\\n",
    "        .drop(columns=['id']) \\\n",
    "        .reset_index() \\\n",
    "        .rename(columns={'index': 'id'})\n",
    "    log(f\"Found {len(AIdf)} unique new headlines\")\n",
    "\n",
    "    # structured response format\n",
    "    json_schema = {\n",
    "        \"name\": \"json_schema\",\n",
    "        \"strict\": True,\n",
    "        \"schema\": {\n",
    "            \"type\": \"object\",\n",
    "            \"properties\": {\n",
    "                \"isai_array\": {\n",
    "                    \"type\": \"array\",\n",
    "                    \"items\": {\n",
    "                        \"type\": \"object\",\n",
    "                                \"properties\": {\n",
    "                                    \"id\": {\n",
    "                                        \"type\": \"number\"\n",
    "                                    },\n",
    "                                    \"isAI\": {\n",
    "                                        \"type\": \"boolean\"\n",
    "                                    }\n",
    "                                },\n",
    "                        \"required\": [\"id\", \"isAI\"],\n",
    "                        \"additionalProperties\": False\n",
    "                    }\n",
    "                }\n",
    "            },\n",
    "            \"required\": [\"isai_array\"],\n",
    "            \"additionalProperties\": False\n",
    "        }\n",
    "    }\n",
    "\n",
    "    # filter AI-related headlines using a prompt\n",
    "    pages = paginate_df(AIdf)\n",
    "    enriched_urls = asyncio.run(fetch_pages(pages, prompt=FILTER_PROMPT, json_schema=json_schema))\n",
    "    filter_df = pd.DataFrame(enriched_urls)\n",
    "    \n",
    "    try:  # for idempotency\n",
    "        AIdf = AIdf.drop(columns=['isAI'])\n",
    "    except:\n",
    "        pass\n",
    "\n",
    "    # merge returned df with isAI column into original df on id column\n",
    "    AIdf = pd.merge(AIdf, filter_df, on=\"id\", how=\"outer\")\n",
    "    log(AIdf.columns)\n",
    "    # set hostname based on actualurl\n",
    "    AIdf['actual_url'] = AIdf['url']    # ideally resolve redirects but Google News blocks\n",
    "    AIdf['hostname']=AIdf['actual_url'].apply(lambda url: urlparse(url).netloc)\n",
    "\n",
    "    # update SQLite database with all seen URLs (we are doing this using url and ignoring redirects)\n",
    "    log(f\"Inserting {len(AIdf)} URLs into {SQLITE_DB}\")\n",
    "    conn = sqlite3.connect(SQLITE_DB)\n",
    "    cursor = conn.cursor()\n",
    "    for row in AIdf.itertuples():\n",
    "        insert_article(conn, cursor, row.src, row.hostname, row.title,\n",
    "                       row.url, row.actual_url, row.isAI, datetime.now().date())\n",
    "\n",
    "    # keep headlines that are related to AI\n",
    "    AIdf = AIdf.loc[AIdf[\"isAI\"]==1] \\\n",
    "        .reset_index(drop=True)  \\\n",
    "        .reset_index()  \\\n",
    "        .drop(columns=[\"id\"])  \\\n",
    "        .rename(columns={'index': 'id'})\n",
    "\n",
    "    log(f\"Found {len(AIdf)} AI headlines\")\n",
    "\n",
    "    # update actual URLs for Google News redirects\n",
    "    # I think Google changed something so this no longer works, instead of a 301 redirct\n",
    "    # get a javascript page that redirects. Also tomorrow we might see different URLs for same stories\n",
    "    # AIdf = get_google_news_redirects(AIdf)\n",
    "\n",
    "    conn = sqlite3.connect('articles.db')\n",
    "    query = \"select * from sites\"\n",
    "    sites_df = pd.read_sql_query(query, conn)\n",
    "    sites_dict = {row.hostname:row.site_name for row in sites_df.itertuples()}\n",
    "    conn.close()\n",
    "\n",
    "    # get clean site_name\n",
    "    AIdf['site_name'] = AIdf['hostname'].apply(lambda hostname: sites_dict.get(hostname, hostname))\n",
    "\n",
    "    # if any missing clean site names, populate them using OpenAI\n",
    "    missing_site_names =  len(AIdf.loc[AIdf['site_name']==\"\"])\n",
    "    if missing_site_names:\n",
    "        log(f\"Asking OpenAI for {missing_site_names} missing site names\")\n",
    "        responses = asyncio.run(fetch_missing_site_names(AIdf))\n",
    "        # update site_dict from responses\n",
    "        new_urls = []\n",
    "        for r in responses:\n",
    "            if r['url'].startswith('https://'):\n",
    "                r['url'] = r['url'][8:]\n",
    "            new_urls.append(r['url'])\n",
    "            sites_dict[r['url']] = r['site_name']\n",
    "            log(f\"Looked up {r['url']} -> {r['site_name']}\")\n",
    "        # update sites table with new names\n",
    "        for url in new_urls:\n",
    "            sqlstr = \"INSERT OR IGNORE INTO sites (hostname, site_name) VALUES (?, ?);\"\n",
    "            log(f\"Updated {url} -> {sites_dict[url]}\")\n",
    "            conn.execute(sqlstr, (url, sites_dict[url]))\n",
    "            conn.commit()\n",
    "        # reapply to AIdf with updated sites\n",
    "        AIdf['site_name'] = AIdf['hostname'].apply(lambda hostname: sites_dict.get(hostname, hostname))\n",
    "    else:\n",
    "        log(\"No missing site names\")\n",
    "  \n",
    "    # drop banned slop sites\n",
    "\n",
    "    AIdf = AIdf.loc[~AIdf[\"hostname\"].str.lower().isin(HOSTNAME_SKIPLIST)]\n",
    "    AIdf = AIdf.loc[~AIdf[\"site_name\"].str.lower().isin(SITE_NAME_SKIPLIST)]\n",
    "    \n",
    "    state[\"AIdf\"] = AIdf.to_dict()\n",
    "    return state\n",
    "\n",
    "\n",
    "if DEBUG:\n",
    "    test_state = fn_filter_urls(test_state)\n",
    "    display(pd.DataFrame(test_state[\"AIdf\"]).groupby('src').count()[['id']])\n",
    "    display(list(pd.DataFrame(test_state[\"AIdf\"]).columns))\n",
    "\n"
   ]
  },
  {
   "cell_type": "code",
   "execution_count": 19,
   "id": "e968501e",
   "metadata": {},
   "outputs": [],
   "source": [
    "# for row in pd.DataFrame(test_state[\"AIdf\"]).itertuples():\n",
    "#     display(Markdown(f\"[{row.id}. {row.title} - {row.src}]({row.url})\"))\n"
   ]
  },
  {
   "cell_type": "code",
   "execution_count": 20,
   "id": "a3c42f10",
   "metadata": {},
   "outputs": [],
   "source": [
    "# Function for topic extraction\n",
    "# TODO: could send more prompts to gpt-4o-mini and not hit rate limits\n",
    "def clean_topics(row, lcategories):\n",
    "    \"\"\"\n",
    "    Cleans the extracted_topics and assigned_topics by removing certain common topics and combining them into a single list.\n",
    "\n",
    "    Args:\n",
    "        row (pandas.Series): The row containing the extracted_topics and assigned_topics.\n",
    "        lcategories (set): The set of lowercase categories.\n",
    "\n",
    "    Returns:\n",
    "        list: The cleaned and combined list of topics.\n",
    "    \"\"\"\n",
    "    extracted_topics = [x.title() for x in row.extracted_topics if x.lower() not in {\"technology\", \"ai\", \"artificial intelligence\"}]\n",
    "    assigned_topics = [x.title() for x in row.assigned_topics if x.lower() in lcategories]\n",
    "    combined = sorted(list(set(extracted_topics + assigned_topics)))\n",
    "    combined = [s.replace(\"Ai\", \"AI\") for s in combined]\n",
    "    combined = [s.replace(\"Genai\", \"Gen AI\") for s in combined]\n",
    "    combined = [s.replace(\"Openai\", \"OpenAI\") for s in combined]\n",
    "\n",
    "    return combined\n",
    "\n",
    "\n",
    "async def do_cat(AIdf, categories):\n",
    "    \"\"\"\n",
    "    Sends a prompt to ChatGPT to select topics for the title for each row in AIdf\n",
    "    which match the topics in categories.\n",
    "\n",
    "    Args:\n",
    "        AIdf (pandas.DataFrame): The DataFrame containing the headlines.\n",
    "        categories (list): The list of topics to match with the headlines.\n",
    "\n",
    "    Returns:\n",
    "        dict: A dictionary where the keys are the row IDs and the values are lists\n",
    "        of selected topics for each headline.\n",
    "\n",
    "    \"\"\"\n",
    "\n",
    "    catdict = {}\n",
    "    async with aiohttp.ClientSession() as session:\n",
    "        for i, row in enumerate(AIdf.itertuples()):\n",
    "            tasks = []\n",
    "            log(f\"Categorizing headline {row.id+1} of {len(AIdf)}\")\n",
    "            h = row.title\n",
    "            log(h)\n",
    "            for c in categories:\n",
    "                task = asyncio.create_task(categorize_headline(h, c, session))\n",
    "                tasks.append(task)\n",
    "            responses = await asyncio.gather(*tasks)\n",
    "            catdict[row.id] = [item for sublist in responses for item in sublist]\n",
    "            log(str(catdict[row.id]))\n",
    "\n",
    "    return catdict\n",
    "\n",
    "\n",
    "def fn_topic_analysis(state: AgentState) -> AgentState:\n",
    "\n",
    "    \"\"\"\n",
    "    Extracts and selects topics for each headline in the state['AIdf'] dataframe, scrubs them, and stores them back in the dataframe.\n",
    "\n",
    "    Args:\n",
    "        state (AgentState): The current state of the agent.\n",
    "\n",
    "    Returns:\n",
    "        AgentState: The updated state of the agent with the extracted and selected topics stored in state['AIdf'].\n",
    "    \"\"\"\n",
    "    AIdf = pd.DataFrame(state[\"AIdf\"])\n",
    "    pages = paginate_df(AIdf)\n",
    "    # apply topic extraction prompt to AI headlines\n",
    "    log(\"start free-form topic extraction\")\n",
    "    json_schema = {\n",
    "        \"name\": \"extracted_topics\",\n",
    "        \"strict\": True,\n",
    "        \"schema\": {\n",
    "            \"type\": \"object\",\n",
    "            \"properties\": {\n",
    "                \"extracted_topics\": {\n",
    "                    \"type\": \"array\",\n",
    "                    \"items\": {\n",
    "                        \"type\": \"object\",\n",
    "                        \"properties\": {\n",
    "                            \"id\": {\n",
    "                                \"type\": \"number\",\n",
    "                            },\n",
    "                            \"topics\": {\n",
    "                                \"type\": \"array\",\n",
    "                                \"items\": {\n",
    "                                    \"type\": \"string\",\n",
    "                                },\n",
    "                            },\n",
    "                        },\n",
    "                        \"required\": [\"id\", \"topics\"],\n",
    "                        \"additionalProperties\": False,\n",
    "                    }\n",
    "                }\n",
    "            },\n",
    "            \"required\": [\"extracted_topics\"],\n",
    "            \"additionalProperties\": False,\n",
    "        }\n",
    "    }\n",
    "    response = asyncio.run(fetch_pages(pages, prompt=TOPIC_PROMPT, json_schema=json_schema))\n",
    "    topic_df = pd.DataFrame(response)\n",
    "    topic_df = topic_df.rename(columns={'topics': 'extracted_topics'})\n",
    "    log(f\"{len(topic_df)} free-form topics extracted\")\n",
    "    all_topics = [item.lower() for row in topic_df.itertuples() for item in row.extracted_topics]\n",
    "    item_counts = Counter(all_topics)\n",
    "    filtered_topics = [item for item in item_counts if item_counts[item] >= 2 and item not in {'technology', 'ai', 'artificial intelligence'}]\n",
    "\n",
    "    categories = sorted(CANONICAL_TOPICS)\n",
    "    # use categories that are canonical or show up twice in freeform\n",
    "    lcategories = set([c.lower() for c in categories] + [c.lower() for c in filtered_topics])\n",
    "    # new topics\n",
    "    log([c for c in filtered_topics if c not in categories])\n",
    "\n",
    "    catdict = asyncio.run(categorize_headline(AIdf, categories=categories))\n",
    "    topic_df['assigned_topics'] = topic_df['id'].apply(lambda id: catdict.get(id, \"\"))\n",
    "\n",
    "    topic_df[\"topics\"] = topic_df.apply(lambda t: clean_topics(t, lcategories), axis=1)\n",
    "    topic_df[\"topic_str\"] = topic_df.apply(lambda row: \", \".join(row.topics), axis=1)\n",
    "\n",
    "    try: # for idempotency\n",
    "        AIdf = AIdf.drop(columns=['topic_str', 'title_topic_str'])\n",
    "    except:\n",
    "        pass\n",
    "\n",
    "    AIdf = pd.merge(AIdf, topic_df[[\"id\", \"topic_str\"]], on=\"id\", how=\"outer\")\n",
    "    AIdf['title_topic_str'] = AIdf.apply(lambda row: f'{row.title} (Topics: {row.topic_str})', axis=1)\n",
    "\n",
    "    state[\"AIdf\"] = AIdf.to_dict()\n",
    "    return state\n",
    "\n",
    "if DEBUG:\n",
    "    test_state = fn_topic_analysis(test_state)\n"
   ]
  },
  {
   "cell_type": "code",
   "execution_count": 21,
   "id": "426fbbd9",
   "metadata": {},
   "outputs": [],
   "source": [
    "async def write_topic_name(topic_list_str, max_retries=3, model=LOWCOST_MODEL):\n",
    "    \"\"\"\n",
    "    Generates a name for a cluster based on a list of headline topics.\n",
    "\n",
    "    Parameters:\n",
    "    session (aiohttp.ClientSession): The client session for making async HTTP requests.\n",
    "    topic_list_str (str): A string containing the list of headline topics.\n",
    "    max_retries (int, optional): The maximum number of retries in case of an error. Defaults to 3.\n",
    "    model (str, optional): The model to use for generating the topic name. Defaults to LOWCOST_MODEL.\n",
    "\n",
    "    Returns:\n",
    "    dict: A dictionary containing the generated topic name.\n",
    "\n",
    "    Example Usage:\n",
    "    title_topic_str_list = \"Headline 1 (Topic: Topic 1)\\n\\nHeadline 2 (Topic: Topic 2)\"\n",
    "    result = await write_topic_name(session, title_topic_str_list)\n",
    "    print(result)\n",
    "\n",
    "    Output:\n",
    "    {\"topic_title\": \"Generated Topic Name\"}\n",
    "    ```\n",
    "    \"\"\"\n",
    "    TOPIC_WRITER_PROMPT = f\"\"\"\n",
    "You are a topic writing assistant. I will provide a list of headlines with extracted topics in parentheses.\n",
    "Your task is to propose a name for a topic that very simply, clearly and accurately captures all the provided\n",
    "headlines in less than 7 words. You will output a JSON object with the key \"topic_title\".\n",
    "\n",
    "Example Input:\n",
    "In the latest issue of Caixins weekly magazine: CATL Bets on 'Skateboard Chassis' and Battery Swaps to Dispell Market Concerns (powered by AI) (Topics: Battery Swaps, Catl, China, Market Concerns, Skateboard Chassis)\n",
    "\n",
    "AI, cheap EVs, future Chevy  the week (Topics: Chevy, Evs)\n",
    "\n",
    "Electric Vehicles and AI: Driving the Consumer & World Forward (Topics: Consumer, Electric Vehicles, Technology)\n",
    "\n",
    "Example Output:\n",
    "{{\"topic_title\": \"Electric Vehicles\"}}\n",
    "\n",
    "Task\n",
    "Propose the name for the overall topic based on the following provided headlines and individual topics:\n",
    "\n",
    "{topic_list_str}\n",
    "\"\"\"\n",
    "\n",
    "    for i in range(max_retries):\n",
    "        try:\n",
    "            messages=[\n",
    "                      {\"role\": \"user\", \"content\": TOPIC_WRITER_PROMPT\n",
    "                      }]\n",
    "\n",
    "            payload = {\"model\":  model,\n",
    "                       \"response_format\": {\"type\": \"json_object\"},\n",
    "                       \"messages\": messages,\n",
    "                       \"temperature\": 0\n",
    "                       }\n",
    "#             print(topic_list_str)\n",
    "\n",
    "            async with aiohttp.ClientSession() as session:\n",
    "                response = asyncio.run(fetch_openai(session, payload))\n",
    "            response_dict = json.loads(response[\"choices\"][0][\"message\"][\"content\"])\n",
    "            log(response_dict)\n",
    "            \n",
    "            return response_dict\n",
    "        except Exception as exc:\n",
    "            log(f\"Error: {exc}\")\n",
    "\n",
    "    return {}\n",
    "\n",
    "\n",
    "def fn_topic_clusters(state: AgentState) -> AgentState:\n",
    "    \"\"\"\n",
    "    Fetches embeddings for the headlines, creates clusters of similar articles using DBSCAN, and sorts\n",
    "    using the clusters and a traveling salesman shortest traversal in embedding space.\n",
    "\n",
    "    Parameters:\n",
    "    state (AgentState): The state of the agent.\n",
    "\n",
    "    Returns:\n",
    "    AgentState: The updated state of the agent.\n",
    "\n",
    "    \"\"\"\n",
    "    AIdf = pd.DataFrame(state[\"AIdf\"])\n",
    "\n",
    "    log(f\"Fetching embeddings for {len(AIdf)} headlines\")\n",
    "    embedding_model = 'text-embedding-3-large'\n",
    "    client = OpenAI()\n",
    "    response = client.embeddings.create(input=AIdf['title_topic_str'].tolist(),\n",
    "                                        model=embedding_model)\n",
    "    embedding_df = pd.DataFrame([e.model_dump()['embedding'] for e in response.data])\n",
    "\n",
    "    # greedy traveling salesman sort\n",
    "    log(f\"Sort with nearest_neighbor_sort sort\")\n",
    "    sorted_indices = nearest_neighbor_sort(embedding_df)\n",
    "    AIdf['sort_order'] = sorted_indices\n",
    "\n",
    "    # do dimensionality reduction on embedding_df and cluster analysis\n",
    "    log(f\"Load umap dimensionality reduction model\")\n",
    "    with open(\"reducer.pkl\", 'rb') as file:\n",
    "        # Load the model from the file\n",
    "        reducer = pickle.load(file)\n",
    "    log(f\"Perform dimensionality reduction\")\n",
    "    reduced_data = reducer.transform(embedding_df)\n",
    "    log(f\"Cluster with DBSCAN\")\n",
    "    dbscan = DBSCAN(eps=0.4, min_samples=3)  # Adjust eps and min_samples as needed\n",
    "    AIdf['cluster'] = dbscan.fit_predict(reduced_data)\n",
    "    AIdf.loc[AIdf['cluster'] == -1, 'cluster'] = 999\n",
    "\n",
    "    # sort first by clusters found by DBSCAN, then by semantic ordering\n",
    "    AIdf = AIdf.sort_values(['cluster', 'sort_order']) \\\n",
    "        .reset_index(drop=True) \\\n",
    "        .reset_index() \\\n",
    "        .drop(columns=[\"id\"]) \\\n",
    "        .rename(columns={'index': 'id'})\n",
    "\n",
    "    # show clusters\n",
    "    state[\"cluster_topics\"] = []\n",
    "    with pd.option_context('display.max_rows', None, 'display.max_colwidth', None):\n",
    "        for i in range(30):\n",
    "            try:\n",
    "                tmpdf = AIdf.loc[AIdf['cluster']==i][[\"id\", \"title_topic_str\"]]\n",
    "                if len(tmpdf) ==0:\n",
    "                    break\n",
    "                display(tmpdf)\n",
    "                title_topic_str_list = (\"\\n\\n\".join(tmpdf['title_topic_str'].to_list()))\n",
    "                cluster_topic = asyncio.run(write_topic_name(title_topic_str_list))\n",
    "                cluster_topic = cluster_topic['topic_title']\n",
    "                state[\"cluster_topics\"].append(cluster_topic)\n",
    "                log(f\"I dub this cluster: {cluster_topic}\")\n",
    "            except Exception as exc:\n",
    "                log(exc)\n",
    "    AIdf[\"cluster_name\"] = AIdf['cluster'].apply(lambda i: state[\"cluster_topics\"][i] \n",
    "                                                 if i < len(state[\"cluster_topics\"]) \n",
    "                                                 else \"\")\n",
    "    state[\"AIdf\"] = AIdf.to_dict()\n",
    "    print(state[\"cluster_topics\"])\n",
    "    return state\n",
    "\n",
    "# TODO: could add a quality rating for stories based on site reputation, length, complexity of story\n",
    "# could then add the quality rating to the summaries and tell the prompt to favor high-quality stories\n",
    "# could put summaries into vector store and retrieve stories by topic. but then you will have to deal\n",
    "# with duplicates across categories, ask the prompt to dedupe\n",
    "\n",
    "# def fn_topic_clusters(state: AgentState) -> AgentState:\n",
    "#     \"call async afn_topic_clusters on state\"\n",
    "#     state = asyncio.run(afn_topic_clusters(state))\n",
    "#     return state\n",
    "\n",
    "\n",
    "if DEBUG:\n",
    "    test_state = fn_topic_clusters(test_state)\n"
   ]
  },
  {
   "cell_type": "code",
   "execution_count": 22,
   "id": "6f796cd7",
   "metadata": {},
   "outputs": [],
   "source": [
    "# scrape individual pages\n",
    "def fn_download_pages(state: AgentState) -> AgentState:\n",
    "    \"\"\"\n",
    "    Uses several Selenium browser sessions to download all the pages referenced in the\n",
    "    state[\"AIdf\"] DataFrame and store their pathnames.\n",
    "\n",
    "    Args:\n",
    "        state (AgentState): The current state of the agent.\n",
    "\n",
    "    Returns:\n",
    "        AgentState: The updated state of the agent with the downloaded pages' pathnames stored in the `state[\"AIdf\"]` DataFrame.\n",
    "    \"\"\"\n",
    "    log(\"Queuing URLs for scraping\")\n",
    "    AIdf = pd.DataFrame(state['AIdf'])\n",
    "    queue = multiprocessing.Queue()\n",
    "\n",
    "    count = 0\n",
    "    for row in AIdf.itertuples():\n",
    "#         if row.cluster < 999:\n",
    "        queue.put((row.id, row.url, row.title))\n",
    "        count +=1\n",
    "    # scrape urls in queue asynchronously\n",
    "    num_browsers = 4\n",
    "\n",
    "    callable = process_url_queue_factory(queue)\n",
    "\n",
    "    log(f\"fetching {count} pages using {num_browsers} browsers\")\n",
    "    saved_pages = launch_drivers(num_browsers, callable)\n",
    "\n",
    "    pages_df = pd.DataFrame(saved_pages)\n",
    "    if len(pages_df):\n",
    "        pages_df.columns = ['id', 'url', 'title', 'path']\n",
    "\n",
    "        try: # for idempotency\n",
    "            AIdf = AIdf.drop(columns=['path'])\n",
    "        except:\n",
    "            pass        \n",
    "        AIdf = pd.merge(AIdf, pages_df[[\"id\", \"path\"]], on='id', how=\"inner\")\n",
    "    state[\"AIdf\"] = AIdf.to_dict()\n",
    "    return state\n",
    "\n",
    "\n",
    "if DEBUG:\n",
    "    test_state = fn_download_pages(test_state)\n",
    "\n"
   ]
  },
  {
   "cell_type": "code",
   "execution_count": 23,
   "id": "b40abdff",
   "metadata": {
    "scrolled": false
   },
   "outputs": [],
   "source": [
    "# summarize individual pages\n",
    "\n",
    "def fn_summarize_pages(state: AgentState) -> AgentState:\n",
    "    \"\"\"\n",
    "    Reads all the articles, summarizes each one using a ChatGPT prompt, and sends an email with the summaries.\n",
    "\n",
    "    Args:\n",
    "        state (AgentState): The current state of the agent.\n",
    "\n",
    "    Returns:\n",
    "        AgentState: The updated state of the agent.\n",
    "\n",
    "    \"\"\"\n",
    "    log(\"Starting summarize\")\n",
    "    AIdf = pd.DataFrame(state['AIdf'])\n",
    "    responses = asyncio.run(fetch_all_summaries(AIdf))\n",
    "    log(f\"Received {len(responses)} summaries\")\n",
    "    response_dict = {}\n",
    "    for i, response in responses:\n",
    "        try:\n",
    "            response_str = response[\"choices\"][0][\"message\"][\"content\"]\n",
    "            response_dict[i] = response_str\n",
    "        except Exception as exc:\n",
    "            print(exc)\n",
    "\n",
    "    markdown_str = ''\n",
    "    bullets = []\n",
    "\n",
    "    for i, row in enumerate(AIdf.itertuples()):\n",
    "        try:\n",
    "            topics = []\n",
    "            if row.cluster_name:\n",
    "                topics.append(row.cluster_name)\n",
    "            if row.topic_str:\n",
    "                topics.append(row.topic_str)\n",
    "            topic_str = \", \".join(topics)\n",
    "\n",
    "            mdstr = f\"[{i+1}. {row.title} - {row.site_name}]({row.actual_url})  \\n\\n {topic_str}  \\n\\n{response_dict[row.id]} \\n\\n\"\n",
    "            bullets.append(f\"[{row.title} - {row.site_name}]({row.actual_url})\\n\\nTopics: {row.topic_str} \\n\\n{response_dict[row.id]}\\n\\n\")\n",
    "            display(Markdown(mdstr.replace(\"$\",\"\\\\\\\\$\")))\n",
    "            markdown_str += mdstr\n",
    "        except Exception as exc:\n",
    "            print(\"Error:\", exc)\n",
    "\n",
    "    state['bullets'] = bullets\n",
    "    # Convert Markdown to HTML\n",
    "    html_str = markdown.markdown(markdown_str, extensions=['extra'])\n",
    "    # save bullets\n",
    "    with open('bullets.md', 'w') as f:\n",
    "        f.write(markdown_str)\n",
    "    # send email\n",
    "    log(\"Sending bullet points email\")\n",
    "    subject = f'AI news bullets {datetime.now().strftime(\"%H:%M:%S\")}'\n",
    "    send_gmail(subject, html_str)\n",
    "\n",
    "    return state\n",
    "\n",
    "\n",
    "if DEBUG:\n",
    "    test_state = fn_summarize_pages(test_state)\n",
    "\n"
   ]
  },
  {
   "cell_type": "code",
   "execution_count": 24,
   "id": "2a8696ee",
   "metadata": {},
   "outputs": [],
   "source": [
    "def fn_propose_cats(state: AgentState) -> AgentState:\n",
    "    # ask chatgpt for top categories\n",
    "    log(f\"Proposing categories using {MODEL}\")\n",
    "\n",
    "    model = ChatOpenAI(\n",
    "        model=MODEL,\n",
    "        temperature=0.3,\n",
    "        model_kwargs={\"response_format\": {\"type\": \"json_object\"}}\n",
    "    )\n",
    "\n",
    "    chain = ChatPromptTemplate.from_template(\"{p}\") | model | SimpleJsonOutputParser()\n",
    "    response = chain.invoke({ \"p\": TOP_CATEGORIES_PROMPT + \"\\n\\n\".join(state[\"bullets\"])})\n",
    "    suggested_categories = []\n",
    "    for k, v in response.items():\n",
    "        suggested_categories.extend(v)\n",
    "    state[\"cluster_topics\"] = list(set(state[\"cluster_topics\"] + suggested_categories))\n",
    "    state[\"cluster_topics\"].sort()\n",
    "    log(f\"Proposed categories: {state['cluster_topics']}\")\n",
    "    return state\n",
    "\n",
    "\n",
    "if DEBUG:\n",
    "    test_state = fn_propose_cats(test_state)\n",
    "    print(\"edit the following proposed topic list and update state['cluster_topics']:\")\n",
    "    print('\"' + '\",\\n\"'.join(test_state[\"cluster_topics\"]) + '\"')\n"
   ]
  },
  {
   "cell_type": "code",
   "execution_count": 25,
   "id": "476589f4",
   "metadata": {},
   "outputs": [],
   "source": [
    "def fn_compose_summary(state: AgentState) -> AgentState:\n",
    "    log(f\"Composing summary using {HIGHCOST_MODEL}\")\n",
    "\n",
    "    cat_str = \"\\n\".join(state['cluster_topics'])\n",
    "    bullet_str = \"\\n~~~\\n\".join(state[\"bullets\"])\n",
    "    client = OpenAI()\n",
    "    response = client.chat.completions.create(\n",
    "        model=HIGHCOST_MODEL,\n",
    "        messages=[\n",
    "            {\n",
    "                \"role\": \"user\",\n",
    "                \"content\": FINAL_SUMMARY_PROMPT.format(cat_str=cat_str, bullet_str=bullet_str)\n",
    "            }\n",
    "        ]\n",
    "    )\n",
    "#     print(response)\n",
    "    \n",
    "#     model = ChatOpenAI(\n",
    "#         model=HIGHCOST_MODEL,\n",
    "#         temperature=0.3,\n",
    "#         model_kwargs={\"response_format\": {\"type\": \"json_object\"}}\n",
    "#     )\n",
    "\n",
    "#     chain = ChatPromptTemplate.from_template(FINAL_SUMMARY_PROMPT) | model | SimpleJsonOutputParser()\n",
    "#     response = chain.invoke({ \"cat_str\": cat_str, \"bullet_str\": bullet_str})\n",
    "#     print(response)\n",
    "    state[\"summary\"] = response.choices[0].message.content\n",
    "\n",
    "    return state\n",
    "\n",
    "\n",
    "if DEBUG:\n",
    "    test_state = fn_compose_summary(test_state)\n",
    "    display(Markdown(test_state[\"summary\"].replace(\"$\",\"\\\\\\\\$\")))\n"
   ]
  },
  {
   "cell_type": "code",
   "execution_count": 26,
   "id": "af8947de",
   "metadata": {},
   "outputs": [],
   "source": [
    "#post manually to o1-preview and grab response b/c I don't have API yet\n",
    "# cat_str = \"\\n\".join(test_state['cluster_topics'])\n",
    "# bullet_str = \"\\n~~~\\n\".join(test_state[\"bullets\"])\n",
    "# final_summary_prompt = FINAL_SUMMARY_PROMPT.format(cat_str=cat_str, bullet_str=bullet_str)\n",
    "# count_tokens(final_summary_prompt)\n",
    "# # copy to clipboard to paste in o1-preview\n",
    "# subprocess.run(\"pbcopy\", universal_newlines=True, input=final_summary_prompt)\n",
    "# print(final_summary_prompt)\n"
   ]
  },
  {
   "cell_type": "code",
   "execution_count": 27,
   "id": "db415214",
   "metadata": {},
   "outputs": [],
   "source": [
    "# test_state[\"summary\"] = \"\"\"\n",
    "# \"\"\"\n",
    "\n",
    "# display(Markdown(test_state[\"summary\"].replace(\"$\",\"\\\\\\\\$\")))\n"
   ]
  },
  {
   "cell_type": "code",
   "execution_count": 28,
   "id": "aef9690d",
   "metadata": {},
   "outputs": [],
   "source": [
    "def fn_rewrite_summary(state: AgentState) -> AgentState:\n",
    "\n",
    "#     model = ChatOpenAI(\n",
    "#         model=HIGHCOST_MODEL,\n",
    "#         temperature=0.3,\n",
    "#         model_kwargs={\"response_format\": {\"type\": \"json_object\"}}\n",
    "#     )\n",
    "\n",
    "#     chain = ChatPromptTemplate.from_template(REWRITE_PROMPT) | model | SimpleJsonOutputParser()\n",
    "#     response = chain.invoke({ \"summary\": state[\"summary\"]})\n",
    "    log(f\"Rewriting summary using {HIGHCOST_MODEL}\")\n",
    "\n",
    "    client = OpenAI()\n",
    "    response = client.chat.completions.create(\n",
    "        model=HIGHCOST_MODEL,\n",
    "        messages=[\n",
    "            {\n",
    "                \"role\": \"user\",\n",
    "                \"content\": REWRITE_PROMPT.format(summary=state[\"summary\"])\n",
    "            }\n",
    "        ]\n",
    "    )\n",
    "    response_str = response.choices[0].message.content\n",
    "    state[\"n_edits\"] += 1    \n",
    "    if response_str.strip().lower().startswith('ok'):\n",
    "        log(\"No edits made, edit complete\")\n",
    "        state[\"edit_complete\"] = True\n",
    "    else:\n",
    "        state[\"summary\"] = response_str\n",
    "    return state\n",
    "\n",
    "\n",
    "if DEBUG:\n",
    "    test_state = fn_rewrite_summary(test_state)\n",
    "    display(Markdown(test_state[\"summary\"].replace(\"$\",\"\\\\\\\\$\")))\n"
   ]
  },
  {
   "cell_type": "code",
   "execution_count": 29,
   "id": "abf4496b",
   "metadata": {},
   "outputs": [],
   "source": [
    "# rewrite_prompt = (REWRITE_PROMPT.format(summary=test_state[\"summary\"]))\n",
    "# subprocess.run(\"pbcopy\", universal_newlines=True, input=rewrite_prompt)\n",
    "# print(rewrite_prompt)\n"
   ]
  },
  {
   "cell_type": "code",
   "execution_count": 30,
   "id": "34d40128",
   "metadata": {},
   "outputs": [],
   "source": [
    "# test_state[\"summary\"] = \"\"\"\n",
    "# \"\"\"\n",
    "\n",
    "# if DEBUG:\n",
    "#     display(Markdown(test_state[\"summary\"].replace(\"$\",\"\\\\\\\\$\")))\n"
   ]
  },
  {
   "cell_type": "code",
   "execution_count": 31,
   "id": "48f56983",
   "metadata": {},
   "outputs": [],
   "source": [
    "def fn_is_revision_complete(state: AgentState) -> str:\n",
    "    \"\"\"update edit_complete if MAX_EDITS exceeded\"\n",
    "    return \"complete\" if edit_complete else \"incomplete\"\n",
    "    \"\"\"\n",
    "\n",
    "    if state[\"n_edits\"] >= MAX_EDITS:\n",
    "        log(\"Max edits reached\")\n",
    "        state[\"edit_complete\"] = True\n",
    "\n",
    "\n",
    "    return \"complete\" if state[\"edit_complete\"] else \"incomplete\"\n",
    "\n",
    "\n",
    "if DEBUG:\n",
    "    test_state[\"edit_complete\"] = fn_is_revision_complete(test_state)\n",
    "    display(test_state[\"edit_complete\"])\n"
   ]
  },
  {
   "cell_type": "code",
   "execution_count": 32,
   "id": "3a651d6c",
   "metadata": {},
   "outputs": [],
   "source": [
    "def fn_send_mail(state: AgentState) -> AgentState:\n",
    "\n",
    "    log(\"Sending summary email\")\n",
    "    # Convert Markdown to HTML\n",
    "    html_str = markdown.markdown(state['summary'], extensions=['extra'])\n",
    "    # send email\n",
    "    subject = f'AI news summary {datetime.now().strftime(\"%H:%M:%S\")}'\n",
    "    send_gmail(subject, html_str)\n",
    "    return state\n",
    "\n",
    "if DEBUG:\n",
    "    fn_send_mail(test_state)"
   ]
  },
  {
   "cell_type": "markdown",
   "id": "e83bbf66",
   "metadata": {},
   "source": [
    "# Define LangGraph agent state graph"
   ]
  },
  {
   "cell_type": "code",
   "execution_count": 33,
   "id": "1ae374e1",
   "metadata": {},
   "outputs": [],
   "source": [
    "class Agent:\n",
    "\n",
    "    def __init__(self, state):\n",
    "        \n",
    "        self.state = state\n",
    "        \n",
    "        graph_builder = StateGraph(AgentState)\n",
    "        graph_builder.add_node(\"initialize\", self.initialize)\n",
    "        graph_builder.add_node(\"download_sources\", self.download_sources)\n",
    "        graph_builder.add_node(\"extract_web_urls\", self.extract_web_urls)\n",
    "        graph_builder.add_node(\"extract_newscatcher_urls\", self.extract_newscatcher_urls)\n",
    "        graph_builder.add_node(\"filter_urls\", self.filter_urls)\n",
    "        graph_builder.add_node(\"topic_analysis\", self.topic_analysis)\n",
    "        graph_builder.add_node(\"topic_clusters\", self.topic_clusters)\n",
    "        graph_builder.add_node(\"download_pages\", self.download_pages)\n",
    "        graph_builder.add_node(\"summarize_pages\", self.summarize_pages)\n",
    "        graph_builder.add_node(\"propose_topics\", self.propose_topics)\n",
    "        graph_builder.add_node(\"compose_summary\", self.compose_summary)\n",
    "        graph_builder.add_node(\"rewrite_summary\", self.rewrite_summary)\n",
    "        graph_builder.add_node(\"send_mail\", self.send_mail)\n",
    "\n",
    "        graph_builder.add_edge(START, \"initialize\")\n",
    "        graph_builder.add_edge(\"initialize\", \"download_sources\")\n",
    "        graph_builder.add_edge(\"download_sources\", \"extract_web_urls\")\n",
    "        graph_builder.add_edge(\"extract_web_urls\", \"extract_newscatcher_urls\")\n",
    "        graph_builder.add_edge(\"extract_newscatcher_urls\", \"filter_urls\")\n",
    "        graph_builder.add_edge(\"filter_urls\", \"topic_analysis\")\n",
    "        graph_builder.add_edge(\"topic_analysis\", \"topic_clusters\")\n",
    "        graph_builder.add_edge(\"topic_clusters\", \"download_pages\")\n",
    "        graph_builder.add_edge(\"download_pages\", \"summarize_pages\")\n",
    "        graph_builder.add_edge(\"summarize_pages\", \"propose_topics\")\n",
    "        graph_builder.add_edge(\"propose_topics\", \"compose_summary\")\n",
    "        graph_builder.add_edge(\"compose_summary\", \"rewrite_summary\")\n",
    "        graph_builder.add_conditional_edges(\"rewrite_summary\",\n",
    "                                            self.is_revision_complete,\n",
    "                                            {\"incomplete\": \"rewrite_summary\",\n",
    "                                             \"complete\": \"send_mail\",\n",
    "                                            })\n",
    "        graph_builder.add_edge(\"send_mail\", END)\n",
    "\n",
    "        # human in the loop should check web pages downloaded ok, and edit proposed categories \n",
    "#         self.conn = sqlite3.connect('lg_checkpointer.db')\n",
    "#         self.checkpointer = SqliteSaver(conn=self.conn)\n",
    "        self.checkpointer = MemorySaver()\n",
    "        graph = graph_builder.compile(checkpointer=self.checkpointer,\n",
    "                                      interrupt_before=[\"filter_urls\", \"compose_summary\",])\n",
    "        self.graph = graph\n",
    "\n",
    "\n",
    "    def initialize(self, state: AgentState) -> AgentState:\n",
    "        self.state = fn_initialize(state)\n",
    "        return self.state\n",
    "\n",
    "    def download_sources(self, state: AgentState) -> AgentState:\n",
    "        self.state = fn_download_sources(state)\n",
    "        return self.state\n",
    "\n",
    "    def extract_web_urls(self, state: AgentState) -> AgentState:\n",
    "        self.state = fn_extract_urls(state)\n",
    "        return self.state\n",
    "\n",
    "    def extract_newscatcher_urls(self, state: AgentState) -> AgentState:\n",
    "        self.state = fn_extract_newscatcher(state)\n",
    "        return self.state\n",
    "\n",
    "    def filter_urls(self, state: AgentState) -> AgentState:\n",
    "        self.state = fn_filter_urls(state)\n",
    "        return self.state\n",
    "\n",
    "    def topic_analysis(self, state: AgentState) -> AgentState:\n",
    "        self.state = fn_topic_analysis(state)\n",
    "        return self.state\n",
    "\n",
    "    def topic_clusters(self, state: AgentState) -> AgentState:\n",
    "        self.state = fn_topic_clusters(state)\n",
    "        return self.state\n",
    "\n",
    "    def download_pages(self, state: AgentState) -> AgentState:\n",
    "        self.state = fn_download_pages(state)\n",
    "        return self.state\n",
    "\n",
    "    def summarize_pages(self, state: AgentState) -> AgentState:\n",
    "        self.state = fn_summarize_pages(state)\n",
    "        return self.state\n",
    "\n",
    "    def propose_topics(self, state: AgentState) -> AgentState:\n",
    "        self.state = fn_propose_cats(state)\n",
    "        return self.state\n",
    "\n",
    "    def compose_summary(self, state: AgentState) -> AgentState:\n",
    "        self.state = fn_compose_summary(state)\n",
    "        return self.state\n",
    "\n",
    "    def rewrite_summary(self, state: AgentState) -> AgentState:\n",
    "        self.state = fn_rewrite_summary(state)\n",
    "        return self.state\n",
    "\n",
    "    def is_revision_complete(self, state: AgentState) -> str:\n",
    "        return fn_is_revision_complete(state)\n",
    "\n",
    "    def send_mail(self, state: AgentState) -> AgentState:\n",
    "        self.state = fn_send_mail(state)\n",
    "        return self.state\n",
    "    \n",
    "    def run(self, state, config):\n",
    "        # The config is the **second positional argument** to stream() or invoke()!\n",
    "        events = self.graph.stream(state, config, stream_mode=\"values\"\n",
    "        )\n",
    "        \n",
    "        for event in events:\n",
    "            try:\n",
    "                if event.get('summary'):\n",
    "                    display(Markdown(event.get('summary').replace(\"$\",\"\\\\\\\\$\")))\n",
    "                elif event.get('bullets'):\n",
    "                    display(Markdown(\"\\n\\n\".join(event.get('bullets')).replace(\"$\",\"\\\\\\\\$\")))\n",
    "                elif event.get('cluster_topics'):\n",
    "                    display(Markdown(\"\\n\\n\".join(event.get('cluster_topics'))))\n",
    "                elif event.get('AIdf'):\n",
    "                    display(pd.DataFrame(event.get('AIdf')).groupby(\"src\").count()[['id']])\n",
    "                elif event.get('sources'):\n",
    "                    print([k for k in event.get('sources').keys()])\n",
    "            except Exception as exc: \n",
    "                print(exc)\n",
    "                \n",
    "        return self.state\n",
    "\n",
    " "
   ]
  },
  {
   "cell_type": "markdown",
   "id": "b1c93915",
   "metadata": {},
   "source": [
    "# Instantiate agent and show flowchart"
   ]
  },
  {
   "cell_type": "code",
   "execution_count": 35,
   "id": "a9585f64",
   "metadata": {},
   "outputs": [
    {
     "name": "stderr",
     "output_type": "stream",
     "text": [
      "2024-10-19 12:45:42,864 - AInewsbot - INFO - Initializing with before_date=2024-10-18 11:00:00, do_download=True, thread_id=55cd0ea9b36d49c2aabd55668f7af45d\n"
     ]
    },
    {
     "data": {
      "image/jpeg": "[encoded data removed]",
      "text/plain": [
       "<IPython.core.display.Image object>"
      ]
     },
     "metadata": {},
     "output_type": "display_data"
    }
   ],
   "source": [
    "do_download = True\n",
    "before_date = None\n",
    "# before_date=\"2024-10-18 11:00:00\"\n",
    "\n",
    "# initial state\n",
    "state = AgentState()\n",
    "state[\"before_date\"] = before_date\n",
    "state[\"do_download\"] = do_download\n",
    "state[\"n_edits\"] = 0\n",
    "state[\"edit_complete\"] = False\n",
    "\n",
    "# Configuration with thread ID for checkpointing\n",
    "# Generate a random UUID\n",
    "thread_id = uuid.uuid4().hex\n",
    "config = {\"configurable\": {\"thread_id\": thread_id}}\n",
    "\n",
    "log(f\"Initializing with before_date={state.get('before_date')}, do_download={do_download}, thread_id={thread_id}\")\n",
    "lg_agent = Agent(state)\n",
    "display(Image(lg_agent.graph.get_graph().draw_mermaid_png()))\n"
   ]
  },
  {
   "cell_type": "markdown",
   "id": "25ff0b02",
   "metadata": {},
   "source": [
    "# Run each step individually"
   ]
  },
  {
   "cell_type": "code",
   "execution_count": 36,
   "id": "f0108a59",
   "metadata": {},
   "outputs": [
    {
     "name": "stderr",
     "output_type": "stream",
     "text": [
      "2024-10-19 12:45:49,321 - AInewsbot - INFO - Initialized 17 items in sources from sources.yaml\n",
      "2024-10-19 12:45:49,322 - AInewsbot - INFO - Ars Technica -> https://arstechnica.com/ -> Ars Technica.html\n",
      "2024-10-19 12:45:49,322 - AInewsbot - INFO - Bloomberg Tech -> https://www.bloomberg.com/ai -> Bloomberg Technology.html\n",
      "2024-10-19 12:45:49,323 - AInewsbot - INFO - Business Insider -> https://www.businessinsider.com/tech -> Business Insider Tech.html\n",
      "2024-10-19 12:45:49,323 - AInewsbot - INFO - FT Tech -> https://www.ft.com/technology -> FT Technology.html\n",
      "2024-10-19 12:45:49,323 - AInewsbot - INFO - Feedly AI -> https://feedly.com/i/aiFeeds?options=eyJsYXllcnMiOlt7InBhcnRzIjpbeyJpZCI6Im5scC9mL3RvcGljLzMwMDAifV0sInNlYXJjaEhpbnQiOiJ0ZWNobm9sb2d5IiwidHlwZSI6Im1hdGNoZXMiLCJzYWxpZW5jZSI6ImFib3V0In1dLCJidW5kbGVzIjpbeyJ0eXBlIjoic3RyZWFtIiwiaWQiOiJ1c2VyLzYyZWViYjlmLTcxNTEtNGY5YS1hOGM3LTlhNTdiODIwNTMwOC9jYXRlZ29yeS9HYWRnZXRzIn1dfQ -> Feedly AI.html\n",
      "2024-10-19 12:45:49,324 - AInewsbot - INFO - Google News -> https://news.google.com/topics/CAAqJggKIiBDQkFTRWdvSUwyMHZNRGRqTVhZU0FtVnVHZ0pWVXlnQVAB?hl=en-US&gl=US&ceid=US%3Aen -> Google News - Technology - Artificial intelligence.html\n",
      "2024-10-19 12:45:49,324 - AInewsbot - INFO - Hacker News -> https://news.ycombinator.com/ -> Hacker News Page 1.html\n",
      "2024-10-19 12:45:49,324 - AInewsbot - INFO - Hacker News 2 -> https://news.ycombinator.com/?p=2 -> Hacker News Page 2.html\n",
      "2024-10-19 12:45:49,325 - AInewsbot - INFO - HackerNoon -> https://hackernoon.com/ -> HackerNoon.html\n",
      "2024-10-19 12:45:49,325 - AInewsbot - INFO - NYT Tech -> https://www.nytimes.com/section/technology -> New York Times Technology.html\n",
      "2024-10-19 12:45:49,326 - AInewsbot - INFO - Reddit -> https://www.reddit.com/r/ChatGPT+ChatGPTCoding+MacOS+MachineLearning+OpenAI+ProgrammerHumor+Windows10+battlestations+buildapc+cordcutters+dataisbeautiful+gadgets+hardware+linux+msp+programming+realtech+software+talesfromtechsupport+tech+technews+technology+techsupportgore+windows/top/?sort=top&t=day -> Reddit multiple subreddits.html\n",
      "2024-10-19 12:45:49,326 - AInewsbot - INFO - Techmeme -> https://www.techmeme.com/river -> Techmeme.html\n",
      "2024-10-19 12:45:49,326 - AInewsbot - INFO - The Register -> https://www.theregister.com/software/ai_ml/ -> The Register.html\n",
      "2024-10-19 12:45:49,327 - AInewsbot - INFO - The Verge -> https://www.theverge.com/ai-artificial-intelligence -> The Verge AI.html\n",
      "2024-10-19 12:45:49,327 - AInewsbot - INFO - VentureBeat -> https://venturebeat.com/category/ai/ -> VentureBeat AI.html\n",
      "2024-10-19 12:45:49,328 - AInewsbot - INFO - WSJ Tech -> https://www.wsj.com/tech/ai -> WSJ Technology.html\n",
      "2024-10-19 12:45:49,328 - AInewsbot - INFO - WaPo Tech -> https://www.washingtonpost.com/technology/innovations/ -> Washington Post Technology.html\n",
      "2024-10-19 12:45:49,329 - AInewsbot - INFO - Initialized 17 items in sources_reverse\n"
     ]
    }
   ],
   "source": [
    "state = lg_agent.initialize(state)\n"
   ]
  },
  {
   "cell_type": "code",
   "execution_count": 37,
   "id": "162852fc",
   "metadata": {},
   "outputs": [
    {
     "name": "stderr",
     "output_type": "stream",
     "text": [
      "2024-10-19 12:45:53,278 - AInewsbot - INFO - Saving HTML files using 4 browsers\n",
      "2024-10-19 12:45:53,304 - AInewsbot - INFO - get_driver - 95410 Initializing webdriver\n",
      "2024-10-19 12:45:53,307 - AInewsbot - INFO - get_driver - 95410 Initializing webdriver\n",
      "2024-10-19 12:45:53,307 - AInewsbot - INFO - get_driver - 95410 Initializing webdriver\n",
      "2024-10-19 12:45:53,307 - AInewsbot - INFO - get_driver - 95410 Initializing webdriver\n",
      "2024-10-19 12:46:10,561 - AInewsbot - INFO - get_driver - Initialized webdriver profile\n",
      "2024-10-19 12:46:10,561 - AInewsbot - INFO - get_driver - Initialized webdriver profile\n",
      "2024-10-19 12:46:10,561 - AInewsbot - INFO - get_driver - Initialized webdriver profile\n",
      "2024-10-19 12:46:10,561 - AInewsbot - INFO - get_driver - Initialized webdriver profile\n",
      "2024-10-19 12:46:10,562 - AInewsbot - INFO - get_driver - Initialized webdriver service\n",
      "2024-10-19 12:46:10,562 - AInewsbot - INFO - get_driver - Initialized webdriver service\n",
      "2024-10-19 12:46:10,562 - AInewsbot - INFO - get_driver - Initialized webdriver service\n",
      "2024-10-19 12:46:10,563 - AInewsbot - INFO - get_driver - Initialized webdriver service\n",
      "2024-10-19 12:46:50,589 - AInewsbot - INFO - get_driver - Initialized webdriver\n",
      "2024-10-19 12:46:50,666 - AInewsbot - INFO - Processing Ars Technica\n",
      "2024-10-19 12:46:50,669 - AInewsbot - INFO - get_files(Ars Technica) - starting get_files https://arstechnica.com/\n",
      "2024-10-19 12:46:52,864 - AInewsbot - INFO - get_driver - Initialized webdriver\n",
      "2024-10-19 12:46:52,891 - AInewsbot - INFO - Processing Bloomberg Tech\n",
      "2024-10-19 12:46:52,895 - AInewsbot - INFO - get_files(Bloomberg Technology) - starting get_files https://www.bloomberg.com/ai\n",
      "2024-10-19 12:46:58,472 - AInewsbot - INFO - get_driver - Initialized webdriver\n",
      "2024-10-19 12:46:58,533 - AInewsbot - INFO - Processing Business Insider\n",
      "2024-10-19 12:46:58,536 - AInewsbot - INFO - get_files(Business Insider Tech) - starting get_files https://www.businessinsider.com/tech\n",
      "2024-10-19 12:46:58,615 - AInewsbot - INFO - get_driver - Initialized webdriver\n",
      "2024-10-19 12:46:58,644 - AInewsbot - INFO - Processing FT Tech\n",
      "2024-10-19 12:46:58,645 - AInewsbot - INFO - get_files(FT Technology) - starting get_files https://www.ft.com/technology\n",
      "2024-10-19 12:47:01,885 - AInewsbot - INFO - Message: Unable to locate element: //meta[@http-equiv='Content-Type']; For documentation on this error, please visit: https://www.selenium.dev/documentation/webdriver/troubleshooting/errors#no-such-element-exception\n",
      "Stacktrace:\n",
      "RemoteError@chrome://remote/content/shared/RemoteError.sys.mjs:8:8\n",
      "WebDriverError@chrome://remote/content/shared/webdriver/Errors.sys.mjs:192:5\n",
      "NoSuchElementError@chrome://remote/content/shared/webdriver/Errors.sys.mjs:510:5\n",
      "dom.find/</<@chrome://remote/content/shared/DOM.sys.mjs:136:16\n",
      "\n",
      "2024-10-19 12:47:01,885 - AInewsbot - INFO - get_files(Ars Technica) - Saving Ars Technica (10_19_2024 12_47_01 PM).html as utf-8\n",
      "2024-10-19 12:47:01,887 - AInewsbot - INFO - Processing Feedly AI\n",
      "2024-10-19 12:47:01,888 - AInewsbot - INFO - get_files(Feedly AI) - starting get_files https://feedly.com/i/aiFeeds?options=eyJsYXllcnMiOlt7InBhcnRzIjpbeyJpZCI6Im5scC9mL3RvcGljLzMwMDAifV0sInNlYXJjaEhpbnQiOiJ0ZWNobm9sb2d5IiwidHlwZSI6Im1hdGNoZXMiLCJzYWxpZW5jZSI6ImFib3V0In1dLCJidW5kbGVzIjpbeyJ0eXBlIjoic3RyZWFtIiwiaWQiOiJ1c2VyLzYyZWViYjlmLTcxNTEtNGY5YS1hOGM3LTlhNTdiODIwNTMwOC9jYXRlZ29yeS9HYWRnZXRzIn1dfQ\n",
      "2024-10-19 12:47:06,416 - AInewsbot - INFO - Message: Unable to locate element: //meta[@http-equiv='Content-Type']; For documentation on this error, please visit: https://www.selenium.dev/documentation/webdriver/troubleshooting/errors#no-such-element-exception\n",
      "Stacktrace:\n",
      "RemoteError@chrome://remote/content/shared/RemoteError.sys.mjs:8:8\n",
      "WebDriverError@chrome://remote/content/shared/webdriver/Errors.sys.mjs:192:5\n",
      "NoSuchElementError@chrome://remote/content/shared/webdriver/Errors.sys.mjs:510:5\n",
      "dom.find/</<@chrome://remote/content/shared/DOM.sys.mjs:136:16\n",
      "\n",
      "2024-10-19 12:47:06,418 - AInewsbot - INFO - get_files(Bloomberg Technology) - Saving Bloomberg Technology (10_19_2024 12_47_06 PM).html as utf-8\n",
      "2024-10-19 12:47:06,419 - AInewsbot - INFO - Processing Google News\n",
      "2024-10-19 12:47:06,419 - AInewsbot - INFO - get_files(Google News - Technology - Artificial intelligence) - starting get_files https://news.google.com/topics/CAAqJggKIiBDQkFTRWdvSUwyMHZNRGRqTVhZU0FtVnVHZ0pWVXlnQVAB?hl=en-US&gl=US&ceid=US%3Aen\n",
      "2024-10-19 12:47:09,135 - AInewsbot - INFO - Message: Unable to locate element: //meta[@http-equiv='Content-Type']; For documentation on this error, please visit: https://www.selenium.dev/documentation/webdriver/troubleshooting/errors#no-such-element-exception\n",
      "Stacktrace:\n",
      "RemoteError@chrome://remote/content/shared/RemoteError.sys.mjs:8:8\n",
      "WebDriverError@chrome://remote/content/shared/webdriver/Errors.sys.mjs:192:5\n",
      "NoSuchElementError@chrome://remote/content/shared/webdriver/Errors.sys.mjs:510:5\n",
      "dom.find/</<@chrome://remote/content/shared/DOM.sys.mjs:136:16\n",
      "\n",
      "2024-10-19 12:47:09,135 - AInewsbot - INFO - get_files(Business Insider Tech) - Saving Business Insider Tech (10_19_2024 12_47_09 PM).html as utf-8\n",
      "2024-10-19 12:47:09,136 - AInewsbot - INFO - Processing Hacker News\n",
      "2024-10-19 12:47:09,136 - AInewsbot - INFO - get_files(Hacker News Page 1) - starting get_files https://news.ycombinator.com/\n",
      "2024-10-19 12:47:09,520 - AInewsbot - INFO - Message: Unable to locate element: //meta[@http-equiv='Content-Type']; For documentation on this error, please visit: https://www.selenium.dev/documentation/webdriver/troubleshooting/errors#no-such-element-exception\n",
      "Stacktrace:\n",
      "RemoteError@chrome://remote/content/shared/RemoteError.sys.mjs:8:8\n",
      "WebDriverError@chrome://remote/content/shared/webdriver/Errors.sys.mjs:192:5\n",
      "NoSuchElementError@chrome://remote/content/shared/webdriver/Errors.sys.mjs:510:5\n",
      "dom.find/</<@chrome://remote/content/shared/DOM.sys.mjs:136:16\n",
      "\n",
      "2024-10-19 12:47:09,523 - AInewsbot - INFO - get_files(FT Technology) - Saving FT Technology (10_19_2024 12_47_09 PM).html as utf-8\n",
      "2024-10-19 12:47:09,526 - AInewsbot - INFO - Processing Hacker News 2\n",
      "2024-10-19 12:47:09,527 - AInewsbot - INFO - get_files(Hacker News Page 2) - starting get_files https://news.ycombinator.com/?p=2\n",
      "2024-10-19 12:47:17,176 - AInewsbot - INFO - get_files(Google News - Technology - Artificial intelligence) - Attempting to click on //*[@aria-label=\"Artificial intelligence\"]\n",
      "2024-10-19 12:47:17,441 - AInewsbot - INFO - get_files - Clicked\n",
      "2024-10-19 12:47:17,449 - AInewsbot - INFO - get_files(Google News - Technology - Artificial intelligence) - Loading additional infinite scroll items\n",
      "2024-10-19 12:47:19,761 - AInewsbot - INFO - Message: Unable to locate element: //meta[@http-equiv='Content-Type']; For documentation on this error, please visit: https://www.selenium.dev/documentation/webdriver/troubleshooting/errors#no-such-element-exception\n",
      "Stacktrace:\n",
      "RemoteError@chrome://remote/content/shared/RemoteError.sys.mjs:8:8\n",
      "WebDriverError@chrome://remote/content/shared/webdriver/Errors.sys.mjs:192:5\n",
      "NoSuchElementError@chrome://remote/content/shared/webdriver/Errors.sys.mjs:510:5\n",
      "dom.find/</<@chrome://remote/content/shared/DOM.sys.mjs:136:16\n",
      "\n",
      "2024-10-19 12:47:19,763 - AInewsbot - INFO - get_files(Hacker News Page 1) - Saving Hacker News Page 1 (10_19_2024 12_47_19 PM).html as utf-8\n",
      "2024-10-19 12:47:19,764 - AInewsbot - INFO - Processing HackerNoon\n",
      "2024-10-19 12:47:19,765 - AInewsbot - INFO - get_files(HackerNoon) - starting get_files https://hackernoon.com/\n",
      "2024-10-19 12:47:20,050 - AInewsbot - INFO - Message: Unable to locate element: //meta[@http-equiv='Content-Type']; For documentation on this error, please visit: https://www.selenium.dev/documentation/webdriver/troubleshooting/errors#no-such-element-exception\n",
      "Stacktrace:\n",
      "RemoteError@chrome://remote/content/shared/RemoteError.sys.mjs:8:8\n",
      "WebDriverError@chrome://remote/content/shared/webdriver/Errors.sys.mjs:192:5\n",
      "NoSuchElementError@chrome://remote/content/shared/webdriver/Errors.sys.mjs:510:5\n",
      "dom.find/</<@chrome://remote/content/shared/DOM.sys.mjs:136:16\n",
      "\n",
      "2024-10-19 12:47:20,051 - AInewsbot - INFO - get_files(Hacker News Page 2) - Saving Hacker News Page 2 (10_19_2024 12_47_20 PM).html as utf-8\n",
      "2024-10-19 12:47:20,054 - AInewsbot - INFO - Processing NYT Tech\n"
     ]
    },
    {
     "name": "stderr",
     "output_type": "stream",
     "text": [
      "2024-10-19 12:47:20,055 - AInewsbot - INFO - get_files(New York Times Technology) - starting get_files https://www.nytimes.com/section/technology\n",
      "2024-10-19 12:47:27,492 - AInewsbot - INFO - Message: Unable to locate element: //meta[@http-equiv='Content-Type']; For documentation on this error, please visit: https://www.selenium.dev/documentation/webdriver/troubleshooting/errors#no-such-element-exception\n",
      "Stacktrace:\n",
      "RemoteError@chrome://remote/content/shared/RemoteError.sys.mjs:8:8\n",
      "WebDriverError@chrome://remote/content/shared/webdriver/Errors.sys.mjs:192:5\n",
      "NoSuchElementError@chrome://remote/content/shared/webdriver/Errors.sys.mjs:510:5\n",
      "dom.find/</<@chrome://remote/content/shared/DOM.sys.mjs:136:16\n",
      "\n",
      "2024-10-19 12:47:27,493 - AInewsbot - INFO - get_files(Google News - Technology - Artificial intelligence) - Saving Google News - Technology - Artificial intelligence (10_19_2024 12_47_27 PM).html as utf-8\n",
      "2024-10-19 12:47:27,496 - AInewsbot - INFO - Processing Reddit\n",
      "2024-10-19 12:47:27,496 - AInewsbot - INFO - get_files(Reddit multiple subreddits) - starting get_files https://www.reddit.com/r/ChatGPT+ChatGPTCoding+MacOS+MachineLearning+OpenAI+ProgrammerHumor+Windows10+battlestations+buildapc+cordcutters+dataisbeautiful+gadgets+hardware+linux+msp+programming+realtech+software+talesfromtechsupport+tech+technews+technology+techsupportgore+windows/top/?sort=top&t=day\n",
      "2024-10-19 12:47:30,763 - AInewsbot - INFO - Message: Unable to locate element: //meta[@http-equiv='Content-Type']; For documentation on this error, please visit: https://www.selenium.dev/documentation/webdriver/troubleshooting/errors#no-such-element-exception\n",
      "Stacktrace:\n",
      "RemoteError@chrome://remote/content/shared/RemoteError.sys.mjs:8:8\n",
      "WebDriverError@chrome://remote/content/shared/webdriver/Errors.sys.mjs:192:5\n",
      "NoSuchElementError@chrome://remote/content/shared/webdriver/Errors.sys.mjs:510:5\n",
      "dom.find/</<@chrome://remote/content/shared/DOM.sys.mjs:136:16\n",
      "\n",
      "2024-10-19 12:47:30,763 - AInewsbot - INFO - get_files(HackerNoon) - Saving HackerNoon (10_19_2024 12_47_30 PM).html as utf-8\n",
      "2024-10-19 12:47:30,766 - AInewsbot - INFO - Processing Techmeme\n",
      "2024-10-19 12:47:30,766 - AInewsbot - INFO - get_files(Techmeme) - starting get_files https://www.techmeme.com/river\n",
      "2024-10-19 12:47:31,442 - AInewsbot - INFO - Message: Unable to locate element: //meta[@http-equiv='Content-Type']; For documentation on this error, please visit: https://www.selenium.dev/documentation/webdriver/troubleshooting/errors#no-such-element-exception\n",
      "Stacktrace:\n",
      "RemoteError@chrome://remote/content/shared/RemoteError.sys.mjs:8:8\n",
      "WebDriverError@chrome://remote/content/shared/webdriver/Errors.sys.mjs:192:5\n",
      "NoSuchElementError@chrome://remote/content/shared/webdriver/Errors.sys.mjs:510:5\n",
      "dom.find/</<@chrome://remote/content/shared/DOM.sys.mjs:136:16\n",
      "\n",
      "2024-10-19 12:47:31,442 - AInewsbot - INFO - get_files(New York Times Technology) - Saving New York Times Technology (10_19_2024 12_47_31 PM).html as utf-8\n",
      "2024-10-19 12:47:31,444 - AInewsbot - INFO - Processing The Register\n",
      "2024-10-19 12:47:31,445 - AInewsbot - INFO - get_files(The Register) - starting get_files https://www.theregister.com/software/ai_ml/\n",
      "2024-10-19 12:47:32,494 - AInewsbot - INFO - get_files(Feedly AI) - Loading additional infinite scroll items\n",
      "2024-10-19 12:47:39,527 - AInewsbot - INFO - get_files(Reddit multiple subreddits) - Loading additional infinite scroll items\n",
      "2024-10-19 12:47:41,925 - AInewsbot - INFO - Message: Unable to locate element: //meta[@http-equiv='Content-Type']; For documentation on this error, please visit: https://www.selenium.dev/documentation/webdriver/troubleshooting/errors#no-such-element-exception\n",
      "Stacktrace:\n",
      "RemoteError@chrome://remote/content/shared/RemoteError.sys.mjs:8:8\n",
      "WebDriverError@chrome://remote/content/shared/webdriver/Errors.sys.mjs:192:5\n",
      "NoSuchElementError@chrome://remote/content/shared/webdriver/Errors.sys.mjs:510:5\n",
      "dom.find/</<@chrome://remote/content/shared/DOM.sys.mjs:136:16\n",
      "\n",
      "2024-10-19 12:47:41,926 - AInewsbot - INFO - get_files(Techmeme) - Saving Techmeme (10_19_2024 12_47_41 PM).html as utf-8\n",
      "2024-10-19 12:47:41,928 - AInewsbot - INFO - Processing The Verge\n",
      "2024-10-19 12:47:41,928 - AInewsbot - INFO - get_files(The Verge AI) - starting get_files https://www.theverge.com/ai-artificial-intelligence\n",
      "2024-10-19 12:47:42,435 - AInewsbot - INFO - get_files(The Register) - Saving The Register (10_19_2024 12_47_42 PM).html as utf-8\n",
      "2024-10-19 12:47:42,437 - AInewsbot - INFO - Processing VentureBeat\n",
      "2024-10-19 12:47:42,437 - AInewsbot - INFO - get_files(VentureBeat AI) - starting get_files https://venturebeat.com/category/ai/\n",
      "2024-10-19 12:47:42,499 - AInewsbot - INFO - get_files(Feedly AI) - Loading additional infinite scroll items\n",
      "2024-10-19 12:47:49,539 - AInewsbot - INFO - get_files(Reddit multiple subreddits) - Loading additional infinite scroll items\n",
      "2024-10-19 12:47:52,510 - AInewsbot - INFO - get_files(Feedly AI) - Loading additional infinite scroll items\n",
      "2024-10-19 12:47:52,880 - AInewsbot - INFO - get_files(VentureBeat AI) - Saving VentureBeat AI (10_19_2024 12_47_52 PM).html as UTF-8\n",
      "2024-10-19 12:47:52,881 - AInewsbot - INFO - Processing WSJ Tech\n",
      "2024-10-19 12:47:52,882 - AInewsbot - INFO - get_files(WSJ Technology) - starting get_files https://www.wsj.com/tech/ai\n",
      "2024-10-19 12:47:54,088 - AInewsbot - INFO - Message: Unable to locate element: //meta[@http-equiv='Content-Type']; For documentation on this error, please visit: https://www.selenium.dev/documentation/webdriver/troubleshooting/errors#no-such-element-exception\n",
      "Stacktrace:\n",
      "RemoteError@chrome://remote/content/shared/RemoteError.sys.mjs:8:8\n",
      "WebDriverError@chrome://remote/content/shared/webdriver/Errors.sys.mjs:192:5\n",
      "NoSuchElementError@chrome://remote/content/shared/webdriver/Errors.sys.mjs:510:5\n",
      "dom.find/</<@chrome://remote/content/shared/DOM.sys.mjs:136:16\n",
      "\n",
      "2024-10-19 12:47:54,089 - AInewsbot - INFO - get_files(The Verge AI) - Saving The Verge AI (10_19_2024 12_47_54 PM).html as utf-8\n",
      "2024-10-19 12:47:54,090 - AInewsbot - INFO - Processing WaPo Tech\n",
      "2024-10-19 12:47:54,090 - AInewsbot - INFO - get_files(Washington Post Technology) - starting get_files https://www.washingtonpost.com/technology/innovations/\n",
      "2024-10-19 12:47:59,571 - AInewsbot - INFO - Message: Unable to locate element: //meta[@http-equiv='Content-Type']; For documentation on this error, please visit: https://www.selenium.dev/documentation/webdriver/troubleshooting/errors#no-such-element-exception\n",
      "Stacktrace:\n",
      "RemoteError@chrome://remote/content/shared/RemoteError.sys.mjs:8:8\n",
      "WebDriverError@chrome://remote/content/shared/webdriver/Errors.sys.mjs:192:5\n",
      "NoSuchElementError@chrome://remote/content/shared/webdriver/Errors.sys.mjs:510:5\n",
      "dom.find/</<@chrome://remote/content/shared/DOM.sys.mjs:136:16\n",
      "\n",
      "2024-10-19 12:47:59,573 - AInewsbot - INFO - get_files(Reddit multiple subreddits) - Saving Reddit multiple subreddits (10_19_2024 12_47_59 PM).html as utf-8\n",
      "2024-10-19 12:47:59,576 - AInewsbot - INFO - Quit webdriver\n",
      "2024-10-19 12:48:02,524 - AInewsbot - INFO - get_files(Feedly AI) - Loading additional infinite scroll items\n",
      "2024-10-19 12:48:03,872 - AInewsbot - INFO - Message: Unable to locate element: //meta[@http-equiv='Content-Type']; For documentation on this error, please visit: https://www.selenium.dev/documentation/webdriver/troubleshooting/errors#no-such-element-exception\n",
      "Stacktrace:\n",
      "RemoteError@chrome://remote/content/shared/RemoteError.sys.mjs:8:8\n",
      "WebDriverError@chrome://remote/content/shared/webdriver/Errors.sys.mjs:192:5\n",
      "NoSuchElementError@chrome://remote/content/shared/webdriver/Errors.sys.mjs:510:5\n",
      "dom.find/</<@chrome://remote/content/shared/DOM.sys.mjs:136:16\n",
      "\n",
      "2024-10-19 12:48:03,873 - AInewsbot - INFO - get_files(WSJ Technology) - Saving WSJ Technology (10_19_2024 12_48_03 PM).html as utf-8\n",
      "2024-10-19 12:48:03,874 - AInewsbot - INFO - Quit webdriver\n",
      "2024-10-19 12:48:08,026 - AInewsbot - INFO - Message: Unable to locate element: //meta[@http-equiv='Content-Type']; For documentation on this error, please visit: https://www.selenium.dev/documentation/webdriver/troubleshooting/errors#no-such-element-exception\n",
      "Stacktrace:\n",
      "RemoteError@chrome://remote/content/shared/RemoteError.sys.mjs:8:8\n",
      "WebDriverError@chrome://remote/content/shared/webdriver/Errors.sys.mjs:192:5\n",
      "NoSuchElementError@chrome://remote/content/shared/webdriver/Errors.sys.mjs:510:5\n",
      "dom.find/</<@chrome://remote/content/shared/DOM.sys.mjs:136:16\n",
      "\n"
     ]
    },
    {
     "name": "stderr",
     "output_type": "stream",
     "text": [
      "2024-10-19 12:48:08,026 - AInewsbot - INFO - get_files(Washington Post Technology) - Saving Washington Post Technology (10_19_2024 12_48_08 PM).html as utf-8\n",
      "2024-10-19 12:48:08,031 - AInewsbot - INFO - Quit webdriver\n",
      "2024-10-19 12:48:12,536 - AInewsbot - INFO - get_files(Feedly AI) - Loading additional infinite scroll items\n",
      "2024-10-19 12:48:22,573 - AInewsbot - INFO - Message: Unable to locate element: //meta[@http-equiv='Content-Type']; For documentation on this error, please visit: https://www.selenium.dev/documentation/webdriver/troubleshooting/errors#no-such-element-exception\n",
      "Stacktrace:\n",
      "RemoteError@chrome://remote/content/shared/RemoteError.sys.mjs:8:8\n",
      "WebDriverError@chrome://remote/content/shared/webdriver/Errors.sys.mjs:192:5\n",
      "NoSuchElementError@chrome://remote/content/shared/webdriver/Errors.sys.mjs:510:5\n",
      "dom.find/</<@chrome://remote/content/shared/DOM.sys.mjs:136:16\n",
      "\n",
      "2024-10-19 12:48:22,575 - AInewsbot - INFO - get_files(Feedly AI) - Saving Feedly AI (10_19_2024 12_48_22 PM).html as utf-8\n",
      "2024-10-19 12:48:22,576 - AInewsbot - INFO - Quit webdriver\n",
      "2024-10-19 12:48:24,383 - AInewsbot - INFO - returned 17\n",
      "2024-10-19 12:48:24,384 - AInewsbot - INFO - Downloaded Bloomberg Tech to htmldata/Bloomberg Technology (10_19_2024 12_47_06 PM).html\n",
      "2024-10-19 12:48:24,384 - AInewsbot - INFO - Downloaded Google News to htmldata/Google News - Technology - Artificial intelligence (10_19_2024 12_47_27 PM).html\n",
      "2024-10-19 12:48:24,385 - AInewsbot - INFO - Downloaded Reddit to htmldata/Reddit multiple subreddits (10_19_2024 12_47_59 PM).html\n",
      "2024-10-19 12:48:24,385 - AInewsbot - INFO - Downloaded FT Tech to htmldata/FT Technology (10_19_2024 12_47_09 PM).html\n",
      "2024-10-19 12:48:24,385 - AInewsbot - INFO - Downloaded Hacker News 2 to htmldata/Hacker News Page 2 (10_19_2024 12_47_20 PM).html\n",
      "2024-10-19 12:48:24,385 - AInewsbot - INFO - Downloaded NYT Tech to htmldata/New York Times Technology (10_19_2024 12_47_31 PM).html\n",
      "2024-10-19 12:48:24,385 - AInewsbot - INFO - Downloaded The Register to htmldata/The Register (10_19_2024 12_47_42 PM).html\n",
      "2024-10-19 12:48:24,385 - AInewsbot - INFO - Downloaded VentureBeat to htmldata/VentureBeat AI (10_19_2024 12_47_52 PM).html\n",
      "2024-10-19 12:48:24,386 - AInewsbot - INFO - Downloaded WSJ Tech to htmldata/WSJ Technology (10_19_2024 12_48_03 PM).html\n",
      "2024-10-19 12:48:24,386 - AInewsbot - INFO - Downloaded Business Insider to htmldata/Business Insider Tech (10_19_2024 12_47_09 PM).html\n",
      "2024-10-19 12:48:24,386 - AInewsbot - INFO - Downloaded Hacker News to htmldata/Hacker News Page 1 (10_19_2024 12_47_19 PM).html\n",
      "2024-10-19 12:48:24,386 - AInewsbot - INFO - Downloaded HackerNoon to htmldata/HackerNoon (10_19_2024 12_47_30 PM).html\n",
      "2024-10-19 12:48:24,386 - AInewsbot - INFO - Downloaded Techmeme to htmldata/Techmeme (10_19_2024 12_47_41 PM).html\n",
      "2024-10-19 12:48:24,386 - AInewsbot - INFO - Downloaded The Verge to htmldata/The Verge AI (10_19_2024 12_47_54 PM).html\n",
      "2024-10-19 12:48:24,386 - AInewsbot - INFO - Downloaded WaPo Tech to htmldata/Washington Post Technology (10_19_2024 12_48_08 PM).html\n",
      "2024-10-19 12:48:24,386 - AInewsbot - INFO - Downloaded Ars Technica to htmldata/Ars Technica (10_19_2024 12_47_01 PM).html\n",
      "2024-10-19 12:48:24,386 - AInewsbot - INFO - Downloaded Feedly AI to htmldata/Feedly AI (10_19_2024 12_48_22 PM).html\n",
      "2024-10-19 12:48:24,387 - AInewsbot - INFO - Saved 17 HTML files\n"
     ]
    }
   ],
   "source": [
    "state = lg_agent.download_sources(state)\n"
   ]
  },
  {
   "cell_type": "code",
   "execution_count": 38,
   "id": "bf49ebf5",
   "metadata": {},
   "outputs": [
    {
     "name": "stderr",
     "output_type": "stream",
     "text": [
      "2024-10-19 12:48:24,404 - AInewsbot - INFO - Parsing html files\n",
      "2024-10-19 12:48:24,404 - AInewsbot - INFO - Ars Technica -> htmldata/Ars Technica (10_19_2024 12_47_01 PM).html\n",
      "2024-10-19 12:48:24,473 - AInewsbot - INFO - parse_file - found 203 raw links\n",
      "2024-10-19 12:48:24,476 - AInewsbot - INFO - parse_file - found 31 filtered links\n",
      "2024-10-19 12:48:24,477 - AInewsbot - INFO - 31 links found\n",
      "2024-10-19 12:48:24,477 - AInewsbot - INFO - Bloomberg Tech -> htmldata/Bloomberg Technology (10_19_2024 12_47_06 PM).html\n",
      "2024-10-19 12:48:24,497 - AInewsbot - INFO - parse_file - found 202 raw links\n",
      "2024-10-19 12:48:24,500 - AInewsbot - INFO - parse_file - found 14 filtered links\n",
      "2024-10-19 12:48:24,500 - AInewsbot - INFO - 14 links found\n",
      "2024-10-19 12:48:24,500 - AInewsbot - INFO - Business Insider -> htmldata/Business Insider Tech (10_19_2024 12_47_09 PM).html\n",
      "2024-10-19 12:48:24,524 - AInewsbot - INFO - parse_file - found 309 raw links\n",
      "2024-10-19 12:48:24,528 - AInewsbot - INFO - parse_file - found 52 filtered links\n",
      "2024-10-19 12:48:24,528 - AInewsbot - INFO - 52 links found\n",
      "2024-10-19 12:48:24,528 - AInewsbot - INFO - FT Tech -> htmldata/FT Technology (10_19_2024 12_47_09 PM).html\n",
      "2024-10-19 12:48:24,557 - AInewsbot - INFO - parse_file - found 487 raw links\n",
      "2024-10-19 12:48:24,563 - AInewsbot - INFO - parse_file - found 114 filtered links\n",
      "2024-10-19 12:48:24,563 - AInewsbot - INFO - 114 links found\n",
      "2024-10-19 12:48:24,563 - AInewsbot - INFO - Feedly AI -> htmldata/Feedly AI (10_19_2024 12_48_22 PM).html\n",
      "2024-10-19 12:48:24,596 - AInewsbot - INFO - parse_file - found 299 raw links\n",
      "2024-10-19 12:48:24,600 - AInewsbot - INFO - parse_file - found 73 filtered links\n",
      "2024-10-19 12:48:24,600 - AInewsbot - INFO - 73 links found\n",
      "2024-10-19 12:48:24,600 - AInewsbot - INFO - Google News -> htmldata/Google News - Technology - Artificial intelligence (10_19_2024 12_47_27 PM).html\n",
      "2024-10-19 12:48:24,639 - AInewsbot - INFO - parse_file - found 162 raw links\n",
      "2024-10-19 12:48:24,641 - AInewsbot - INFO - parse_file - found 64 filtered links\n",
      "2024-10-19 12:48:24,641 - AInewsbot - INFO - 64 links found\n",
      "2024-10-19 12:48:24,642 - AInewsbot - INFO - Hacker News -> htmldata/Hacker News Page 1 (10_19_2024 12_47_19 PM).html\n",
      "2024-10-19 12:48:24,653 - AInewsbot - INFO - parse_file - found 261 raw links\n",
      "2024-10-19 12:48:24,656 - AInewsbot - INFO - parse_file - found 27 filtered links\n",
      "2024-10-19 12:48:24,656 - AInewsbot - INFO - 27 links found\n",
      "2024-10-19 12:48:24,656 - AInewsbot - INFO - Hacker News 2 -> htmldata/Hacker News Page 2 (10_19_2024 12_47_20 PM).html\n",
      "2024-10-19 12:48:24,667 - AInewsbot - INFO - parse_file - found 255 raw links\n",
      "2024-10-19 12:48:24,670 - AInewsbot - INFO - parse_file - found 21 filtered links\n",
      "2024-10-19 12:48:24,670 - AInewsbot - INFO - 21 links found\n",
      "2024-10-19 12:48:24,671 - AInewsbot - INFO - HackerNoon -> htmldata/HackerNoon (10_19_2024 12_47_30 PM).html\n",
      "2024-10-19 12:48:24,723 - AInewsbot - INFO - parse_file - found 598 raw links\n",
      "2024-10-19 12:48:24,732 - AInewsbot - INFO - parse_file - found 100 filtered links\n",
      "2024-10-19 12:48:24,733 - AInewsbot - INFO - 100 links found\n",
      "2024-10-19 12:48:24,733 - AInewsbot - INFO - NYT Tech -> htmldata/New York Times Technology (10_19_2024 12_47_31 PM).html\n",
      "2024-10-19 12:48:24,743 - AInewsbot - INFO - parse_file - found 77 raw links\n",
      "2024-10-19 12:48:24,744 - AInewsbot - INFO - parse_file - found 19 filtered links\n",
      "2024-10-19 12:48:24,744 - AInewsbot - INFO - 19 links found\n",
      "2024-10-19 12:48:24,744 - AInewsbot - INFO - Reddit -> htmldata/Reddit multiple subreddits (10_19_2024 12_47_59 PM).html\n",
      "2024-10-19 12:48:24,764 - AInewsbot - INFO - parse_file - found 194 raw links\n",
      "2024-10-19 12:48:24,767 - AInewsbot - INFO - parse_file - found 120 filtered links\n",
      "2024-10-19 12:48:24,767 - AInewsbot - INFO - 120 links found\n",
      "2024-10-19 12:48:24,768 - AInewsbot - INFO - Techmeme -> htmldata/Techmeme (10_19_2024 12_47_41 PM).html\n",
      "2024-10-19 12:48:24,786 - AInewsbot - INFO - parse_file - found 402 raw links\n",
      "2024-10-19 12:48:24,792 - AInewsbot - INFO - parse_file - found 172 filtered links\n",
      "2024-10-19 12:48:24,792 - AInewsbot - INFO - 172 links found\n",
      "2024-10-19 12:48:24,793 - AInewsbot - INFO - The Register -> htmldata/The Register (10_19_2024 12_47_42 PM).html\n",
      "2024-10-19 12:48:25,133 - AInewsbot - INFO - parse_file - found 203 raw links\n",
      "2024-10-19 12:48:25,137 - AInewsbot - INFO - parse_file - found 110 filtered links\n",
      "2024-10-19 12:48:25,138 - AInewsbot - INFO - 110 links found\n",
      "2024-10-19 12:48:25,138 - AInewsbot - INFO - The Verge -> htmldata/The Verge AI (10_19_2024 12_47_54 PM).html\n",
      "2024-10-19 12:48:25,168 - AInewsbot - INFO - parse_file - found 295 raw links\n",
      "2024-10-19 12:48:25,172 - AInewsbot - INFO - parse_file - found 27 filtered links\n",
      "2024-10-19 12:48:25,172 - AInewsbot - INFO - 27 links found\n",
      "2024-10-19 12:48:25,172 - AInewsbot - INFO - VentureBeat -> htmldata/VentureBeat AI (10_19_2024 12_47_52 PM).html\n",
      "2024-10-19 12:48:25,189 - AInewsbot - INFO - parse_file - found 332 raw links\n",
      "2024-10-19 12:48:25,193 - AInewsbot - INFO - parse_file - found 45 filtered links\n",
      "2024-10-19 12:48:25,193 - AInewsbot - INFO - 45 links found\n",
      "2024-10-19 12:48:25,193 - AInewsbot - INFO - WSJ Tech -> htmldata/WSJ Technology (10_19_2024 12_48_03 PM).html\n",
      "2024-10-19 12:48:25,230 - AInewsbot - INFO - parse_file - found 640 raw links\n",
      "2024-10-19 12:48:25,237 - AInewsbot - INFO - parse_file - found 56 filtered links\n",
      "2024-10-19 12:48:25,238 - AInewsbot - INFO - 56 links found\n",
      "2024-10-19 12:48:25,238 - AInewsbot - INFO - WaPo Tech -> htmldata/Washington Post Technology (10_19_2024 12_48_08 PM).html\n",
      "2024-10-19 12:48:25,263 - AInewsbot - INFO - parse_file - found 199 raw links\n",
      "2024-10-19 12:48:25,265 - AInewsbot - INFO - parse_file - found 58 filtered links\n",
      "2024-10-19 12:48:25,266 - AInewsbot - INFO - 58 links found\n",
      "2024-10-19 12:48:25,266 - AInewsbot - INFO - Saved 1103 links\n"
     ]
    }
   ],
   "source": [
    "state = lg_agent.extract_web_urls(state)\n"
   ]
  },
  {
   "cell_type": "code",
   "execution_count": 39,
   "id": "724ccb6d",
   "metadata": {},
   "outputs": [
    {
     "name": "stdout",
     "output_type": "stream",
     "text": [
      "17\n"
     ]
    },
    {
     "data": {
      "text/html": [
       "<div>\n",
       "<style scoped>\n",
       "    .dataframe tbody tr th:only-of-type {\n",
       "        vertical-align: middle;\n",
       "    }\n",
       "\n",
       "    .dataframe tbody tr th {\n",
       "        vertical-align: top;\n",
       "    }\n",
       "\n",
       "    .dataframe thead th {\n",
       "        text-align: right;\n",
       "    }\n",
       "</style>\n",
       "<table border=\"1\" class=\"dataframe\">\n",
       "  <thead>\n",
       "    <tr style=\"text-align: right;\">\n",
       "      <th></th>\n",
       "      <th>id</th>\n",
       "    </tr>\n",
       "    <tr>\n",
       "      <th>src</th>\n",
       "      <th></th>\n",
       "    </tr>\n",
       "  </thead>\n",
       "  <tbody>\n",
       "    <tr>\n",
       "      <th>Ars Technica</th>\n",
       "      <td>24</td>\n",
       "    </tr>\n",
       "    <tr>\n",
       "      <th>Bloomberg Tech</th>\n",
       "      <td>11</td>\n",
       "    </tr>\n",
       "    <tr>\n",
       "      <th>Business Insider</th>\n",
       "      <td>51</td>\n",
       "    </tr>\n",
       "    <tr>\n",
       "      <th>FT Tech</th>\n",
       "      <td>55</td>\n",
       "    </tr>\n",
       "    <tr>\n",
       "      <th>Feedly AI</th>\n",
       "      <td>71</td>\n",
       "    </tr>\n",
       "    <tr>\n",
       "      <th>Google News</th>\n",
       "      <td>60</td>\n",
       "    </tr>\n",
       "    <tr>\n",
       "      <th>Hacker News</th>\n",
       "      <td>27</td>\n",
       "    </tr>\n",
       "    <tr>\n",
       "      <th>Hacker News 2</th>\n",
       "      <td>21</td>\n",
       "    </tr>\n",
       "    <tr>\n",
       "      <th>HackerNoon</th>\n",
       "      <td>97</td>\n",
       "    </tr>\n",
       "    <tr>\n",
       "      <th>NYT Tech</th>\n",
       "      <td>18</td>\n",
       "    </tr>\n",
       "    <tr>\n",
       "      <th>Reddit</th>\n",
       "      <td>94</td>\n",
       "    </tr>\n",
       "    <tr>\n",
       "      <th>Techmeme</th>\n",
       "      <td>160</td>\n",
       "    </tr>\n",
       "    <tr>\n",
       "      <th>The Register</th>\n",
       "      <td>110</td>\n",
       "    </tr>\n",
       "    <tr>\n",
       "      <th>The Verge</th>\n",
       "      <td>22</td>\n",
       "    </tr>\n",
       "    <tr>\n",
       "      <th>VentureBeat</th>\n",
       "      <td>40</td>\n",
       "    </tr>\n",
       "    <tr>\n",
       "      <th>WSJ Tech</th>\n",
       "      <td>25</td>\n",
       "    </tr>\n",
       "    <tr>\n",
       "      <th>WaPo Tech</th>\n",
       "      <td>38</td>\n",
       "    </tr>\n",
       "  </tbody>\n",
       "</table>\n",
       "</div>"
      ],
      "text/plain": [
       "                   id\n",
       "src                  \n",
       "Ars Technica       24\n",
       "Bloomberg Tech     11\n",
       "Business Insider   51\n",
       "FT Tech            55\n",
       "Feedly AI          71\n",
       "Google News        60\n",
       "Hacker News        27\n",
       "Hacker News 2      21\n",
       "HackerNoon         97\n",
       "NYT Tech           18\n",
       "Reddit             94\n",
       "Techmeme          160\n",
       "The Register      110\n",
       "The Verge          22\n",
       "VentureBeat        40\n",
       "WSJ Tech           25\n",
       "WaPo Tech          38"
      ]
     },
     "execution_count": 39,
     "metadata": {},
     "output_type": "execute_result"
    }
   ],
   "source": [
    "# s/b 17 check all downloaded, if any got hit by a bot block then download manually\n",
    "print(len(pd.DataFrame(state[\"AIdf\"]).groupby(\"src\").count()[['id']]))\n",
    "pd.DataFrame(state[\"AIdf\"]).groupby(\"src\").count()[['id']]\n"
   ]
  },
  {
   "cell_type": "code",
   "execution_count": 40,
   "id": "b5473cec",
   "metadata": {},
   "outputs": [
    {
     "name": "stderr",
     "output_type": "stream",
     "text": [
      "2024-10-19 12:48:25,307 - AInewsbot - INFO - Fetching top 100 stories matching Artificial Intelligence from Newscatcher\n"
     ]
    }
   ],
   "source": [
    "state = lg_agent.extract_newscatcher_urls(state)\n"
   ]
  },
  {
   "cell_type": "code",
   "execution_count": 41,
   "id": "580116ba",
   "metadata": {},
   "outputs": [
    {
     "name": "stderr",
     "output_type": "stream",
     "text": [
      "2024-10-19 12:48:25,966 - AInewsbot - INFO - Querying SQLite with where_clause: WHERE timestamp < '2024-10-18 11:00:00'\n",
      "2024-10-19 12:48:26,647 - AInewsbot - INFO - URLs in orig_df: 1024\n",
      "2024-10-19 12:48:26,650 - AInewsbot - INFO - Existing URLs in DB: 165030\n",
      "2024-10-19 12:48:26,683 - AInewsbot - INFO - New URLs in df filtered by URL: 358\n",
      "2024-10-19 12:48:26,769 - AInewsbot - INFO - Existing src+title: 7\n",
      "2024-10-19 12:48:26,770 - AInewsbot - INFO - New URLs in df filtered by src+title: 351\n",
      "2024-10-19 12:48:26,781 - AInewsbot - INFO - Found 330 unique new headlines\n",
      "2024-10-19 12:48:26,933 - AInewsbot - INFO - Applying prompt to 7 pages using gpt-4o-mini\n",
      "2024-10-19 12:48:26,934 - AInewsbot - INFO - sent 50 items \n",
      "2024-10-19 12:48:26,934 - AInewsbot - INFO - sent 50 items \n",
      "2024-10-19 12:48:26,935 - AInewsbot - INFO - sent 50 items \n",
      "2024-10-19 12:48:26,935 - AInewsbot - INFO - sent 50 items \n",
      "2024-10-19 12:48:26,936 - AInewsbot - INFO - sent 50 items \n",
      "2024-10-19 12:48:26,936 - AInewsbot - INFO - sent 50 items \n",
      "2024-10-19 12:48:26,936 - AInewsbot - INFO - sent 30 items \n",
      "2024-10-19 12:48:29,111 - AInewsbot - INFO - got dict with 30 items \n",
      "2024-10-19 12:48:30,484 - AInewsbot - INFO - got dict with 50 items \n",
      "2024-10-19 12:48:30,485 - AInewsbot - INFO - got dict with 50 items \n",
      "2024-10-19 12:48:30,595 - AInewsbot - INFO - got dict with 50 items \n",
      "2024-10-19 12:48:30,627 - AInewsbot - INFO - got dict with 50 items \n",
      "2024-10-19 12:48:31,319 - AInewsbot - INFO - got dict with 50 items \n",
      "2024-10-19 12:48:31,368 - AInewsbot - INFO - got dict with 50 items \n",
      "2024-10-19 12:48:31,371 - AInewsbot - INFO - Processed 330 responses.\n",
      "2024-10-19 12:48:31,377 - AInewsbot - INFO - Index(['id', 'src', 'title', 'url', 'isAI'], dtype='object')\n",
      "2024-10-19 12:48:31,381 - AInewsbot - INFO - Inserting 330 URLs into articles.db\n",
      "2024-10-19 12:48:31,429 - AInewsbot - INFO - Found 142 AI headlines\n",
      "2024-10-19 12:48:31,434 - AInewsbot - INFO - No missing site names\n"
     ]
    }
   ],
   "source": [
    "state = lg_agent.filter_urls(state)\n"
   ]
  },
  {
   "cell_type": "code",
   "execution_count": 42,
   "id": "a36028af",
   "metadata": {},
   "outputs": [
    {
     "data": {
      "text/html": [
       "<div>\n",
       "<style scoped>\n",
       "    .dataframe tbody tr th:only-of-type {\n",
       "        vertical-align: middle;\n",
       "    }\n",
       "\n",
       "    .dataframe tbody tr th {\n",
       "        vertical-align: top;\n",
       "    }\n",
       "\n",
       "    .dataframe thead th {\n",
       "        text-align: right;\n",
       "    }\n",
       "</style>\n",
       "<table border=\"1\" class=\"dataframe\">\n",
       "  <thead>\n",
       "    <tr style=\"text-align: right;\">\n",
       "      <th></th>\n",
       "      <th>id</th>\n",
       "    </tr>\n",
       "    <tr>\n",
       "      <th>src</th>\n",
       "      <th></th>\n",
       "    </tr>\n",
       "  </thead>\n",
       "  <tbody>\n",
       "    <tr>\n",
       "      <th>Ars Technica</th>\n",
       "      <td>2</td>\n",
       "    </tr>\n",
       "    <tr>\n",
       "      <th>Bloomberg Tech</th>\n",
       "      <td>1</td>\n",
       "    </tr>\n",
       "    <tr>\n",
       "      <th>Business Insider</th>\n",
       "      <td>2</td>\n",
       "    </tr>\n",
       "    <tr>\n",
       "      <th>FT Tech</th>\n",
       "      <td>1</td>\n",
       "    </tr>\n",
       "    <tr>\n",
       "      <th>Feedly AI</th>\n",
       "      <td>53</td>\n",
       "    </tr>\n",
       "    <tr>\n",
       "      <th>Google News</th>\n",
       "      <td>20</td>\n",
       "    </tr>\n",
       "    <tr>\n",
       "      <th>Hacker News</th>\n",
       "      <td>2</td>\n",
       "    </tr>\n",
       "    <tr>\n",
       "      <th>HackerNoon</th>\n",
       "      <td>8</td>\n",
       "    </tr>\n",
       "    <tr>\n",
       "      <th>Newscatcher</th>\n",
       "      <td>43</td>\n",
       "    </tr>\n",
       "    <tr>\n",
       "      <th>Reddit</th>\n",
       "      <td>1</td>\n",
       "    </tr>\n",
       "    <tr>\n",
       "      <th>Techmeme</th>\n",
       "      <td>6</td>\n",
       "    </tr>\n",
       "    <tr>\n",
       "      <th>The Verge</th>\n",
       "      <td>3</td>\n",
       "    </tr>\n",
       "  </tbody>\n",
       "</table>\n",
       "</div>"
      ],
      "text/plain": [
       "                  id\n",
       "src                 \n",
       "Ars Technica       2\n",
       "Bloomberg Tech     1\n",
       "Business Insider   2\n",
       "FT Tech            1\n",
       "Feedly AI         53\n",
       "Google News       20\n",
       "Hacker News        2\n",
       "HackerNoon         8\n",
       "Newscatcher       43\n",
       "Reddit             1\n",
       "Techmeme           6\n",
       "The Verge          3"
      ]
     },
     "execution_count": 42,
     "metadata": {},
     "output_type": "execute_result"
    }
   ],
   "source": [
    "pd.DataFrame(state[\"AIdf\"]).groupby(\"src\").count()[['id']]\n"
   ]
  },
  {
   "cell_type": "code",
   "execution_count": 43,
   "id": "5978a462",
   "metadata": {},
   "outputs": [
    {
     "data": {
      "text/markdown": [
       "[0. 01.ai, DeepSeek, and other Chinese companies are reducing costs to create AI models by focusing on smaller training data sets, as they deal with export controls (Eleanor Olcott/Financial Times) - Feedly AI](https://t.co/OjoP4jYT5c)"
      ],
      "text/plain": [
       "<IPython.core.display.Markdown object>"
      ]
     },
     "metadata": {},
     "output_type": "display_data"
    },
    {
     "data": {
      "text/markdown": [
       "[1. 10 AI Prompts to Turbocharge Your Job Search - Feedly AI](https://www.forbes.com/sites/jeremyschifeling/2024/10/19/10-ai-prompts-to-turbocharge-your-job-search/)"
      ],
      "text/plain": [
       "<IPython.core.display.Markdown object>"
      ]
     },
     "metadata": {},
     "output_type": "display_data"
    },
    {
     "data": {
      "text/markdown": [
       "[2. 4 ways AI could negatively impact the 2024 election - Newscatcher](https://www.fastcompany.com/91210933/ai-impact-2024-election)"
      ],
      "text/plain": [
       "<IPython.core.display.Markdown object>"
      ]
     },
     "metadata": {},
     "output_type": "display_data"
    },
    {
     "data": {
      "text/markdown": [
       "[3. AI, crypto and data privacy: Comparing Harris, Trump on technology regulation - Newscatcher](https://www.yahoo.com/news/ai-crypto-data-privacy-comparing-133847347.html)"
      ],
      "text/plain": [
       "<IPython.core.display.Markdown object>"
      ]
     },
     "metadata": {},
     "output_type": "display_data"
    },
    {
     "data": {
      "text/markdown": [
       "[4. AI-generated art piece disqualified by SC State Fair after being awarded cash prize - Newscatcher](https://www.yahoo.com/news/ai-generated-art-piece-disqualified-173231172.html)"
      ],
      "text/plain": [
       "<IPython.core.display.Markdown object>"
      ]
     },
     "metadata": {},
     "output_type": "display_data"
    },
    {
     "data": {
      "text/markdown": [
       "[5. AI-generated child abuse images increasing at 'chilling' rate - as watchdog warns it is now becoming hard to spot - Feedly AI](https://news.sky.com/story/ai-generated-child-abuse-images-increasing-at-chilling-rate-as-watchdog-warns-it-is-now-becoming-hard-to-spot-13235706)"
      ],
      "text/plain": [
       "<IPython.core.display.Markdown object>"
      ]
     },
     "metadata": {},
     "output_type": "display_data"
    },
    {
     "data": {
      "text/markdown": [
       "[6. AI Coding Showdown: Claude Sonnet vs ChatGPT vs OpenAI o1 - Who Wins? - Feedly AI](https://www.geeky-gadgets.com/claude-sonnet-vs-chatgpt-vs-openai-o1/)"
      ],
      "text/plain": [
       "<IPython.core.display.Markdown object>"
      ]
     },
     "metadata": {},
     "output_type": "display_data"
    },
    {
     "data": {
      "text/markdown": [
       "[7. AI Creates 'Generational Opportunity': Why Nvidia Analyst Says Stock Will Hit $190 - Newscatcher](https://www.benzinga.com/analyst-ratings/analyst-color/24/10/41410262/ai-creates-generational-opportunity-why-nvidia-analyst-says-stock-will-hit-190)"
      ],
      "text/plain": [
       "<IPython.core.display.Markdown object>"
      ]
     },
     "metadata": {},
     "output_type": "display_data"
    },
    {
     "data": {
      "text/markdown": [
       "[8. AI Video Call Scams Are on the Rise, and This Is How They Work - Feedly AI](https://www.makeuseof.com/how-ai-video-call-scams-work/)"
      ],
      "text/plain": [
       "<IPython.core.display.Markdown object>"
      ]
     },
     "metadata": {},
     "output_type": "display_data"
    },
    {
     "data": {
      "text/markdown": [
       "[9. AI for business process intelligence: A sneak peak at Celosphere 2024 - Newscatcher](https://siliconangle.com/2024/10/18/ai-process-intelligence-celonis-automation-celosphere)"
      ],
      "text/plain": [
       "<IPython.core.display.Markdown object>"
      ]
     },
     "metadata": {},
     "output_type": "display_data"
    },
    {
     "data": {
      "text/markdown": [
       "[10. AI humanoid robot defends criticism that she can't be artistic - Newscatcher](https://www.cnn.com/2024/10/18/science/video/ai-humanoid-robot-painting-stewart-contd-digvid)"
      ],
      "text/plain": [
       "<IPython.core.display.Markdown object>"
      ]
     },
     "metadata": {},
     "output_type": "display_data"
    },
    {
     "data": {
      "text/markdown": [
       "[11. Agent-as-a-Judge: An Advanced AI Framework for Scalable and Accurate Evaluation of AI Systems Through Continuous Feedback and Human-level Judgments - Feedly AI](https://www.marktechpost.com/2024/10/18/agent-as-a-judge-an-advanced-ai-framework-for-scalable-and-accurate-evaluation-of-ai-systems-through-continuous-feedback-and-human-level-judgments/)"
      ],
      "text/plain": [
       "<IPython.core.display.Markdown object>"
      ]
     },
     "metadata": {},
     "output_type": "display_data"
    },
    {
     "data": {
      "text/markdown": [
       "[12. A historical look at Microsoft's work in AI, from research to real-world applications, recent progress, competition, challenges, and the future (Todd Bishop/GeekWire) - Feedly AI](https://www.geekwire.com/2024/ai-dreams-microsoft-50-chapter-1/)"
      ],
      "text/plain": [
       "<IPython.core.display.Markdown object>"
      ]
     },
     "metadata": {},
     "output_type": "display_data"
    },
    {
     "data": {
      "text/markdown": [
       "[13. All System Prompts For Anthropics Claude , Revealed - Google News](https://news.google.com/read/CBMiigFBVV95cUxOdzFYTnNPNEpLdGMwdVh0cE9kRF9ReExiS1M2aE11dG14UmlUdjBfbTZsUk9uek1mRFZ3VHNuWVMwbmdRdmp0d2o1Skl5RXRMMVJQcWtWT1dVbm14LTBCUXczVUE0VE5uRFJtblN0a3F4Q0w1TGFPM2hPLW9rNXkweEZPd0c3R0Fod2c)"
      ],
      "text/plain": [
       "<IPython.core.display.Markdown object>"
      ]
     },
     "metadata": {},
     "output_type": "display_data"
    },
    {
     "data": {
      "text/markdown": [
       "[14. A look at Greg Brockman's role at OpenAI, as his return from a sabbatical nears; sources: OpenAI CFO thinks Apple pulled out of fundraising due to Murati's exit - Techmeme](https://www.theinformation.com/articles/can-greg-brockman-find-a-future-back-at-openai)"
      ],
      "text/plain": [
       "<IPython.core.display.Markdown object>"
      ]
     },
     "metadata": {},
     "output_type": "display_data"
    },
    {
     "data": {
      "text/markdown": [
       "[15. Anthropic just announced major Claude AI update  heres everything thats new - Google News](https://news.google.com/read/CBMipgFBVV95cUxOT1k3S3ZVb2ZLcUh6VHRYUXlqRXRFSmFYNDNOOTZiWWdLTllyLXRabWE1Z1NZNVd3OS1aMUxkNFBrVmM2OXV1S3dMZzQ5a1Q4NGxiVXZlbnlIWTg2eVFNQ0V6d29WVV94dmtNVFNyUDVUeGt5bmZxWTRfX0o3UnZBa3RWSWEwQ3Q0SjFFMmpielFOOE41VjRRWkk5R1c3b1NZWjkxR0p3)"
      ],
      "text/plain": [
       "<IPython.core.display.Markdown object>"
      ]
     },
     "metadata": {},
     "output_type": "display_data"
    },
    {
     "data": {
      "text/markdown": [
       "[16. AskBobby: The AI Tool Helping People in Need Locate Social Services - HackerNoon](https://hackernoon.com/askbobby-the-ai-tool-helping-people-in-need-locate-social-services)"
      ],
      "text/plain": [
       "<IPython.core.display.Markdown object>"
      ]
     },
     "metadata": {},
     "output_type": "display_data"
    },
    {
     "data": {
      "text/markdown": [
       "[17. Astera Labs Inc (ALAB) Unveils Industry's First PCIe 6 Switch, Revolutionizing AI Infrastructure with Scorpio Smart Fabric Switch Portfolio - Newscatcher](https://ca.finance.yahoo.com/news/astera-labs-inc-alab-unveils-204442497.html)"
      ],
      "text/plain": [
       "<IPython.core.display.Markdown object>"
      ]
     },
     "metadata": {},
     "output_type": "display_data"
    },
    {
     "data": {
      "text/markdown": [
       "[18. Bullfrog AI Announces Pricing of Registered Direct Offering and Concurrent Private Placement for Aggregate Gross Proceeds of $3.13 Million - Newscatcher](https://finance.yahoo.com/news/bullfrog-ai-announces-pricing-registered-133000030.html)"
      ],
      "text/plain": [
       "<IPython.core.display.Markdown object>"
      ]
     },
     "metadata": {},
     "output_type": "display_data"
    },
    {
     "data": {
      "text/markdown": [
       "[19. Causal AI: Evolving from recognition to reasoning - Newscatcher](https://siliconangle.com/2024/10/18/causal-ai-evolving-recognition-reasoning-cubeconversations)"
      ],
      "text/plain": [
       "<IPython.core.display.Markdown object>"
      ]
     },
     "metadata": {},
     "output_type": "display_data"
    },
    {
     "data": {
      "text/markdown": [
       "[20. ChatGPT's Name Bias and Apple's Findings on AI's Lack of Reasoning - Feedly AI](https://medium.com/@researchgraph/chatgpts-name-bias-and-apple-s-findings-on-ai-s-lack-of-reasoning-major-flaws-revealed-b4a44c27fd75)"
      ],
      "text/plain": [
       "<IPython.core.display.Markdown object>"
      ]
     },
     "metadata": {},
     "output_type": "display_data"
    },
    {
     "data": {
      "text/markdown": [
       "[21. Chatbot hack shows why you shouldn't trust AI with your personal data - Feedly AI](https://bgr.com/tech/chatbot-hack-shows-why-you-shouldnt-trust-ai-with-your-personal-data/)"
      ],
      "text/plain": [
       "<IPython.core.display.Markdown object>"
      ]
     },
     "metadata": {},
     "output_type": "display_data"
    },
    {
     "data": {
      "text/markdown": [
       "[22. Chinese AI groups get creative to drive down cost of models - FT Tech](https://www.ft.com/content/0a6da1bb-2bda-40f3-9645-97877eb0947c)"
      ],
      "text/plain": [
       "<IPython.core.display.Markdown object>"
      ]
     },
     "metadata": {},
     "output_type": "display_data"
    },
    {
     "data": {
      "text/markdown": [
       "[23. Claude: Everything you need to know about Anthropics AI - Feedly AI](https://techcrunch.com/2024/10/19/claude-everything-you-need-to-know-about-anthropics-ai/)"
      ],
      "text/plain": [
       "<IPython.core.display.Markdown object>"
      ]
     },
     "metadata": {},
     "output_type": "display_data"
    },
    {
     "data": {
      "text/markdown": [
       "[24. Claude AI: Unboxing Anthropics LLM-based AI Assistant, Artifacts & Use Cases - Google News](https://news.google.com/read/CBMinwFBVV95cUxOa0VNSkZvUjlkVF9BNnMzdHVUNnB1b2JpUm52WnNyWGVaUHJWYkdMZXRPc3E4YjVnRG9YRUVhbkhpY3lEY0J5Wk9iczhYNjc2S2tValk5MFZ4R0tncW1lTXF6RTFNbVM2OXlQRFdfZE56em1zZUxFM1JjX2VCcGdXUDhuWmFwdW5qdEtCVnNxcTl5dWRzbFZMRjB6SEpGbGs)"
      ],
      "text/plain": [
       "<IPython.core.display.Markdown object>"
      ]
     },
     "metadata": {},
     "output_type": "display_data"
    },
    {
     "data": {
      "text/markdown": [
       "[25. Congressional leaders negotiating potential lame-duck deal to address AI concerns - Google News](https://news.google.com/read/CBMieEFVX3lxTE14UWN3MjZ3OEZnTU00STFLUUZwRUVMbFRyR2U1OWJEMTVUanFZRUc4UEZuNjI4MDRqRm81YmdZRExSU2FvbzlUaFNTNzNZMXRSU2R0LVh1NUl0NUEyZ3JjWHVSX1laQmFHRElYUUFUbjlfT3pHeFBNMA)"
      ],
      "text/plain": [
       "<IPython.core.display.Markdown object>"
      ]
     },
     "metadata": {},
     "output_type": "display_data"
    },
    {
     "data": {
      "text/markdown": [
       "[26. Department of Labor releases AI best practices for employers - Newscatcher](https://www.yahoo.com/news/department-labor-releases-ai-best-222510480.html)"
      ],
      "text/plain": [
       "<IPython.core.display.Markdown object>"
      ]
     },
     "metadata": {},
     "output_type": "display_data"
    },
    {
     "data": {
      "text/markdown": [
       "[27. Enhanced climate change resilience on wheat anther morphology using optimized deep learning techniques - Feedly AI](https://www.nature.com/articles/s41598-024-74875-7)"
      ],
      "text/plain": [
       "<IPython.core.display.Markdown object>"
      ]
     },
     "metadata": {},
     "output_type": "display_data"
    },
    {
     "data": {
      "text/markdown": [
       "[28. Enhancing AI Accuracy and Confidence in Answer Generation - Feedly AI](https://neurosciencenews.com/ai-llm-accuracy-27893/)"
      ],
      "text/plain": [
       "<IPython.core.display.Markdown object>"
      ]
     },
     "metadata": {},
     "output_type": "display_data"
    },
    {
     "data": {
      "text/markdown": [
       "[29. Escaping the Payday Matrix: Ex-OpenAI & Opera Devs Code Financial Freedom for 1.4 Billion Unbanked - Feedly AI](https://hackernoon.com/escaping-the-payday-matrix-ex-openai-and-opera-devs-code-financial-freedom-for-14-billion-unbanked)"
      ],
      "text/plain": [
       "<IPython.core.display.Markdown object>"
      ]
     },
     "metadata": {},
     "output_type": "display_data"
    },
    {
     "data": {
      "text/markdown": [
       "[30. Father Disgusted to Find His Murdered Daughter Was Brought Back as an AI - Feedly AI](https://futurism.com/murdered-daughter-brought-back-as-ai)"
      ],
      "text/plain": [
       "<IPython.core.display.Markdown object>"
      ]
     },
     "metadata": {},
     "output_type": "display_data"
    },
    {
     "data": {
      "text/markdown": [
       "[31. Former OpenAI technology chief Mira Murati to raise capital for new AI startup, sources say - Google News](https://news.google.com/read/CBMi5AFBVV95cUxQMHN1YUdxSlFzMURxNEMyellUblRvUzF4dGlyamR3VkFwU0RTUHVGRV83c1Jaa01OQUptUlBEdDlsaUxqcE04TWJhTWZaNGJmWmJReDI3UUNfRkZ0UkNZR0NRc1pyX3poYzY3VXEyRFROR1BPQWYwYU9CR0s0Y3ZlbEx6eWIzTkdkUHk4NE55RE1JTmd5Yzl1cEhtMzB3YUlGV2MwVngteV9KNUI3VXdxRzU3QnFINlMwRnBkUUFWSzZvTzkySHduRWtsWEVsLWdZbFpUcnRrZlh2UkszREtpa0R5Q28)"
      ],
      "text/plain": [
       "<IPython.core.display.Markdown object>"
      ]
     },
     "metadata": {},
     "output_type": "display_data"
    },
    {
     "data": {
      "text/markdown": [
       "[32. Google's viral AI podcast tool just got more useful - Business Insider](https://www.businessinsider.com/google-notebooklm-ai-podcast-tool-customize-feature-update-2024-10)"
      ],
      "text/plain": [
       "<IPython.core.display.Markdown object>"
      ]
     },
     "metadata": {},
     "output_type": "display_data"
    },
    {
     "data": {
      "text/markdown": [
       "[33. Google Unveils Sample What You Cant Compress in AIA Game-Changer in High-Fidelity Image Compression - Feedly AI](https://www.marktechpost.com/2024/10/19/google-unveils-sample-what-you-cant-compress-in-ai-a-game-changer-in-high-fidelity-image-compression/)"
      ],
      "text/plain": [
       "<IPython.core.display.Markdown object>"
      ]
     },
     "metadata": {},
     "output_type": "display_data"
    },
    {
     "data": {
      "text/markdown": [
       "[34. Google licences diabetic retinopathy AI model to partners in APAC - Newscatcher](https://finance.yahoo.com/news/google-licences-diabetic-retinopathy-ai-150335183.html)"
      ],
      "text/plain": [
       "<IPython.core.display.Markdown object>"
      ]
     },
     "metadata": {},
     "output_type": "display_data"
    },
    {
     "data": {
      "text/markdown": [
       "[35. Googles NotebookLM now lets you guide the hosts of your AI podcast - The Verge](https://www.theverge.com/2024/10/18/24273411/google-notebooklm-ai-audio-overview-customize)"
      ],
      "text/plain": [
       "<IPython.core.display.Markdown object>"
      ]
     },
     "metadata": {},
     "output_type": "display_data"
    },
    {
     "data": {
      "text/markdown": [
       "[36. Got a Cool Idea for an AI Bot? Heres How It Could Win You $3000 in the #AI-Chatbot Writing Contest - HackerNoon](https://hackernoon.com/got-a-cool-idea-for-an-ai-bot-heres-how-it-could-win-you-$3000-in-the-ai-chatbot-writing-contest)"
      ],
      "text/plain": [
       "<IPython.core.display.Markdown object>"
      ]
     },
     "metadata": {},
     "output_type": "display_data"
    },
    {
     "data": {
      "text/markdown": [
       "[37. Harris vs. Trump: Their Stance on AI and Cryptocurrency Regulations - Feedly AI](https://greekreporter.com/2024/10/19/harris-trump-stance-ai-cryptocurrency-regulations/)"
      ],
      "text/plain": [
       "<IPython.core.display.Markdown object>"
      ]
     },
     "metadata": {},
     "output_type": "display_data"
    },
    {
     "data": {
      "text/markdown": [
       "[38. HeartFlow Announces New Category I CPT Code from the American Medical Association for AI-Enabled Plaque Analysis to Assess Risk for Coronary Artery Disease - Newscatcher](https://finance.yahoo.com/news/heartflow-announces-category-cpt-code-163900050.html)"
      ],
      "text/plain": [
       "<IPython.core.display.Markdown object>"
      ]
     },
     "metadata": {},
     "output_type": "display_data"
    },
    {
     "data": {
      "text/markdown": [
       "[39. Herbie Hancock on AI, Kamala Harris, and the Kendrick Lamar collab that never was - Newscatcher](https://www.scmp.com/postmag/culture/article/3282841/herbie-hancock-ai-snoop-dogg-and-kendrick-lamar-collab-never-happened-and-kamala-harris-president)"
      ],
      "text/plain": [
       "<IPython.core.display.Markdown object>"
      ]
     },
     "metadata": {},
     "output_type": "display_data"
    },
    {
     "data": {
      "text/markdown": [
       "[40. Heres Why Critics Are Raising Eyebrows Over Sam Altmans Iris-Scanning Crypto Project - Feedly AI](https://www.inc.com/reuters/heres-why-critics-are-raising-eyebrows-over-sam-altmans-iris-scanning-crypto-project/90991229)"
      ],
      "text/plain": [
       "<IPython.core.display.Markdown object>"
      ]
     },
     "metadata": {},
     "output_type": "display_data"
    },
    {
     "data": {
      "text/markdown": [
       "[41. Hopes and fears for AI at work - Feedly AI](https://rapidcityjournal.com/hopes-and-fears-for-ai-at-work/article_83e2b052-2175-5214-a1a0-2dfb094c9122.html)"
      ],
      "text/plain": [
       "<IPython.core.display.Markdown object>"
      ]
     },
     "metadata": {},
     "output_type": "display_data"
    },
    {
     "data": {
      "text/markdown": [
       "[42. How Google is changing to compete with ChatGPT - The Verge](https://www.theverge.com/2024/10/18/24273748/google-deepmind-gemini-search-chaptgpt-meta-ai-interview)"
      ],
      "text/plain": [
       "<IPython.core.display.Markdown object>"
      ]
     },
     "metadata": {},
     "output_type": "display_data"
    },
    {
     "data": {
      "text/markdown": [
       "[43. How Mixtral 8x7B Sets New Standards in Open-Source AI with Innovative Design - HackerNoon](https://hackernoon.com/how-mixtral-8x7b-sets-new-standards-in-open-source-ai-with-innovative-design)"
      ],
      "text/plain": [
       "<IPython.core.display.Markdown object>"
      ]
     },
     "metadata": {},
     "output_type": "display_data"
    },
    {
     "data": {
      "text/markdown": [
       "[44. How Waymo is converting locals and attracting tourists in San Francisco to pull ahead in the robotaxi race, with ~300 vehicles in the city and global ambitions (Wall Street Journal) - Feedly AI](https://www.wsj.com/tech/waymo-san-francisco-self-driving-robotaxis-uber-244feecf)"
      ],
      "text/plain": [
       "<IPython.core.display.Markdown object>"
      ]
     },
     "metadata": {},
     "output_type": "display_data"
    },
    {
     "data": {
      "text/markdown": [
       "[45. How can AI augment rather than dictate human action? This expert explains - Feedly AI](https://www.weforum.org/agenda/2024/10/ai-augment-rather-than-dictate-human-action/)"
      ],
      "text/plain": [
       "<IPython.core.display.Markdown object>"
      ]
     },
     "metadata": {},
     "output_type": "display_data"
    },
    {
     "data": {
      "text/markdown": [
       "[46. INOVAIT reveals Canada's strategic advantages in image-guided therapy and artificial intelligence in latest report - Newscatcher](https://finance.yahoo.com/news/inovait-reveals-canadas-strategic-advantages-154700391.html)"
      ],
      "text/plain": [
       "<IPython.core.display.Markdown object>"
      ]
     },
     "metadata": {},
     "output_type": "display_data"
    },
    {
     "data": {
      "text/markdown": [
       "[47. I created an AI clone of myself and the result was unintentionally hilarious - Feedly AI](https://www.techradar.com/computing/artificial-intelligence/i-created-an-ai-clone-of-myself-and-the-result-was-unintentionally-hilarious)"
      ],
      "text/plain": [
       "<IPython.core.display.Markdown object>"
      ]
     },
     "metadata": {},
     "output_type": "display_data"
    },
    {
     "data": {
      "text/markdown": [
       "[48. I dumped Google for AI search alternatives like Perplexity and ChatGPT - Feedly AI](https://www.androidpolice.com/i-dumped-google-search-for-ai/)"
      ],
      "text/plain": [
       "<IPython.core.display.Markdown object>"
      ]
     },
     "metadata": {},
     "output_type": "display_data"
    },
    {
     "data": {
      "text/markdown": [
       "[49. InnoTech Forum: Hong Kong can evolve into an AI applications development hub - Newscatcher](https://www.scmp.com/tech/tech-trends/article/3283002/innotech-forum-hong-kong-has-potential-become-ai-applications-development-hub)"
      ],
      "text/plain": [
       "<IPython.core.display.Markdown object>"
      ]
     },
     "metadata": {},
     "output_type": "display_data"
    },
    {
     "data": {
      "text/markdown": [
       "[50. Inside the inaugural Culver Cup, a generative AI film competition sponsored by AWS and FBRC.ai giving filmmakers AI tools and three weeks to submit a short (Marah Eakin/Wired) - Feedly AI](https://www.wired.com/story/filmmakers-are-worried-about-ai-big-tech-wants-them-to-see-whats-possible/)"
      ],
      "text/plain": [
       "<IPython.core.display.Markdown object>"
      ]
     },
     "metadata": {},
     "output_type": "display_data"
    },
    {
     "data": {
      "text/markdown": [
       "[51. Is Broadcom a Top Artificial Intelligence (AI) Stock to Buy Right Now? - Newscatcher](https://finance.yahoo.com/news/broadcom-top-artificial-intelligence-ai-110000564.html)"
      ],
      "text/plain": [
       "<IPython.core.display.Markdown object>"
      ]
     },
     "metadata": {},
     "output_type": "display_data"
    },
    {
     "data": {
      "text/markdown": [
       "[52. It's not even Halloween, but AI is already getting spooky - Feedly AI](https://www.laptopmag.com/ai/its-not-even-halloween-but-ai-is-already-getting-spooky)"
      ],
      "text/plain": [
       "<IPython.core.display.Markdown object>"
      ]
     },
     "metadata": {},
     "output_type": "display_data"
    },
    {
     "data": {
      "text/markdown": [
       "[53. Looking to Buy Your First AI Stock? This Is the Best Choice (Hint: It's Not Nvidia). - Google News](https://news.google.com/read/CBMifEFVX3lxTFBMSDhoSjVjdHRTS2FVS2lEeDhHeldHN1ItVndlOXFVWFdPX25tREtScDhNWE5yUGRsMVQ4WXpJcVphMkRiTVhQWjlMeHdxcUVEZk9Oby1ia01tNXA5SG9QZGdYNUs2dS1EalZLYmFscjF2MGhDbThrNi0xQUE)"
      ],
      "text/plain": [
       "<IPython.core.display.Markdown object>"
      ]
     },
     "metadata": {},
     "output_type": "display_data"
    },
    {
     "data": {
      "text/markdown": [
       "[54. Meta AI Releases Meta Lingua: A Minimal and Fast LLM Training and Inference Library for Research - Feedly AI](https://www.marktechpost.com/2024/10/18/meta-ai-releases-meta-lingua-a-minimal-and-fast-llm-training-and-inference-library-for-research/)"
      ],
      "text/plain": [
       "<IPython.core.display.Markdown object>"
      ]
     },
     "metadata": {},
     "output_type": "display_data"
    },
    {
     "data": {
      "text/markdown": [
       "[55. Meta AI in WhatsApp may soon remember your likes and dislikes - Feedly AI](https://www.androidauthority.com/meta-ai-whatsapp-memory-3492224/)"
      ],
      "text/plain": [
       "<IPython.core.display.Markdown object>"
      ]
     },
     "metadata": {},
     "output_type": "display_data"
    },
    {
     "data": {
      "text/markdown": [
       "[56. Meta Extends Pilot Program for AI Video Creation Tools into 2025 - Newscatcher](https://finance.yahoo.com/news/meta-extends-pilot-program-ai-210942397.html)"
      ],
      "text/plain": [
       "<IPython.core.display.Markdown object>"
      ]
     },
     "metadata": {},
     "output_type": "display_data"
    },
    {
     "data": {
      "text/markdown": [
       "[57. Meta Platforms (NASDAQ:META) Releases a Series of New AI Models - Newscatcher](https://www.tipranks.com/news/meta-platforms-nasdaqmeta-releases-a-series-of-new-ai-models)"
      ],
      "text/plain": [
       "<IPython.core.display.Markdown object>"
      ]
     },
     "metadata": {},
     "output_type": "display_data"
    },
    {
     "data": {
      "text/markdown": [
       "[58. Meta Releases AI Model That Can Check Other AI Models' Work - Newscatcher](https://www.gadgets360.com/ai/news/meta-ai-release-check-other-models-work-6823539)"
      ],
      "text/plain": [
       "<IPython.core.display.Markdown object>"
      ]
     },
     "metadata": {},
     "output_type": "display_data"
    },
    {
     "data": {
      "text/markdown": [
       "[59. Meta debuts Spirit LM, its first open-source multimodal language model capable of integrating text and speech inputs and outputs, for non-commercial use only - Techmeme](https://venturebeat.com/ai/meta-introduces-spirit-lm-open-source-model-that-combines-text-and-speech-inputs-outputs/)"
      ],
      "text/plain": [
       "<IPython.core.display.Markdown object>"
      ]
     },
     "metadata": {},
     "output_type": "display_data"
    },
    {
     "data": {
      "text/markdown": [
       "[60. Microsoft Open-Sources bitnet.cpp: A Super-Efficient 1-bit LLM Inference Framework that Runs Directly on CPUs - Feedly AI](https://www.marktechpost.com/2024/10/18/microsoft-open-sources-bitnet-cpp-a-super-efficient-1-bit-llm-inference-framework-that-runs-directly-on-cpus/)"
      ],
      "text/plain": [
       "<IPython.core.display.Markdown object>"
      ]
     },
     "metadata": {},
     "output_type": "display_data"
    },
    {
     "data": {
      "text/markdown": [
       "[61. Microsoft could end up with substantial equity in the restructured, for-profit OpenAI - Feedly AI](https://techcrunch.com/2024/10/18/microsoft-could-end-up-with-substantial-equity-in-the-restructured-for-profit-openai/)"
      ],
      "text/plain": [
       "<IPython.core.display.Markdown object>"
      ]
     },
     "metadata": {},
     "output_type": "display_data"
    },
    {
     "data": {
      "text/markdown": [
       "[62. Mixtrala Multilingual Language Model Trained with a Context Size of 32k Tokens - HackerNoon](https://hackernoon.com/mixtrala-multilingual-language-model-trained-with-a-context-size-of-32k-tokens)"
      ],
      "text/plain": [
       "<IPython.core.display.Markdown object>"
      ]
     },
     "metadata": {},
     "output_type": "display_data"
    },
    {
     "data": {
      "text/markdown": [
       "[63. New GraphAcademy Course: Transform Unstructured Data into Knowledge Graphs with LLMs and Python - HackerNoon](https://hackernoon.com/new-graphacademy-course-transform-unstructured-data-into-knowledge-graphs-with-llms-and-python)"
      ],
      "text/plain": [
       "<IPython.core.display.Markdown object>"
      ]
     },
     "metadata": {},
     "output_type": "display_data"
    },
    {
     "data": {
      "text/markdown": [
       "[64. New JAMA channel highlights AI's role in medicine - Newscatcher](https://www.msn.com/en-us/health/other/new-jama-channel-highlights-ai-s-role-in-medicine/ar-AA1sxTdE)"
      ],
      "text/plain": [
       "<IPython.core.display.Markdown object>"
      ]
     },
     "metadata": {},
     "output_type": "display_data"
    },
    {
     "data": {
      "text/markdown": [
       "[65. New JAMA channel highlights AIs role in medicine - Feedly AI](https://www.washingtonpost.com/health/2024/10/19/artificial-intelligence-health-care-website/)"
      ],
      "text/plain": [
       "<IPython.core.display.Markdown object>"
      ]
     },
     "metadata": {},
     "output_type": "display_data"
    },
    {
     "data": {
      "text/markdown": [
       "[66. News - Penguin Random House underscores copyright protection in AI rebuff - Google News](https://news.google.com/read/CBMiowFBVV95cUxPWWNRQ1ZTd2R5ZW0waGlvbnJsa3lrNkNkUUdNcWtPaDNvVGE3NE9Bakc2UVZEbHJHdEFUS09mdDdWdng0ZEdzbkwtQ2lsZDQxdk1VSGNhTGFVeUxGME4tMjBHVTRPWmxlR1ZHOFVnbWRCYWpEMG14ai1YZkZ0UFUzdnJtN1JPZUpySU9oa2drM2lfZnpmWDVFcmxzWnlBQ0ZKM3dz)"
      ],
      "text/plain": [
       "<IPython.core.display.Markdown object>"
      ]
     },
     "metadata": {},
     "output_type": "display_data"
    },
    {
     "data": {
      "text/markdown": [
       "[67. Nobel Prizes and AI: The Promise, the Peril, and the Path Forward  Communications of the ACM - Feedly AI](https://cacm.acm.org/blogcacm/nobel-prizes-and-ai-the-promise-the-peril-and-the-path-forward/)"
      ],
      "text/plain": [
       "<IPython.core.display.Markdown object>"
      ]
     },
     "metadata": {},
     "output_type": "display_data"
    },
    {
     "data": {
      "text/markdown": [
       "[68. Nokia Integrates AI into Altiplano Access Controller for Enhanced Network Automation - Newscatcher](https://telecomtalk.info/nokia-integrates-ai-into-altiplano-access-controller/983411)"
      ],
      "text/plain": [
       "<IPython.core.display.Markdown object>"
      ]
     },
     "metadata": {},
     "output_type": "display_data"
    },
    {
     "data": {
      "text/markdown": [
       "[69. NotebookLM is Googles Own ChatGPT Moment - Feedly AI](https://analyticsindiamag.com/ai-insights-analysis/notebooklm-is-googles-chatgpt-moment/)"
      ],
      "text/plain": [
       "<IPython.core.display.Markdown object>"
      ]
     },
     "metadata": {},
     "output_type": "display_data"
    },
    {
     "data": {
      "text/markdown": [
       "[70. Nvidia, Google, Microsoft and more head to Las Vegas to tout health-care AI tools - Feedly AI](https://www.cnbc.com/2024/10/19/hlth-2024-tech-companies-head-to-las-vegas-to-tout-health-ai-tools-.html)"
      ],
      "text/plain": [
       "<IPython.core.display.Markdown object>"
      ]
     },
     "metadata": {},
     "output_type": "display_data"
    },
    {
     "data": {
      "text/markdown": [
       "[71. OpenAI, Microsoft reportedly hire banks to renegotiate partnership terms - Newscatcher](https://siliconangle.com/2024/10/18/openai-microsoft-reportedly-hire-banks-renegotiate-partnership-terms)"
      ],
      "text/plain": [
       "<IPython.core.display.Markdown object>"
      ]
     },
     "metadata": {},
     "output_type": "display_data"
    },
    {
     "data": {
      "text/markdown": [
       "[72. OpenAI releases ChatGPT app for Windows - Ars Technica](https://arstechnica.com/ai/2024/10/openai-releases-chatgpt-app-for-windows/)"
      ],
      "text/plain": [
       "<IPython.core.display.Markdown object>"
      ]
     },
     "metadata": {},
     "output_type": "display_data"
    },
    {
     "data": {
      "text/markdown": [
       "[73. OpenAIs Newest Possible Threat: Ex-CTO Murati; Googles Mini-ChatGPT Moment - Google News](https://news.google.com/read/CBMisgFBVV95cUxPaWVnSnluejYtRzBRTWhCY2NEYVJVcVVvUDRvalRwNXpsOTdvT29ocldveU1iVzIwa2NfbFg3SGx2Y3VjcnQ2MGNWRFlvOTFkWnhBWkREVkNuTHJOREk4M2JyZFBnaTRVb3dCeWNjSmQxZEVUb1I1MmlEOE1uSDd3QjBab2doVjFQTThjVkJraEZyZi1Gakc1UXpVSV9yYUVacUJDeldNWFczSmZQOUwxa3NR)"
      ],
      "text/plain": [
       "<IPython.core.display.Markdown object>"
      ]
     },
     "metadata": {},
     "output_type": "display_data"
    },
    {
     "data": {
      "text/markdown": [
       "[74. OpenAIs research organization in upheaval, The Information reports - Google News](https://news.google.com/read/CBMipgFBVV95cUxPTllrZnJobEJpcjFTeldTU0dDUDBsT2FhdzUySnl0QmNNbGlkMnFGS29Xb3Bhb2N6S184ZTA3LW5pRGRIeGU4QU80VHhiRjE2dDZhci15NWNPcGF5REY0TGR2QmNPZmVwRlBDMEFCeVJzOVBESXhsRXAydDdVZU9XUFluemJhbTZxSWNGcVQyQjBNZnhmaS05cmp6ZUhVTTB1bklJLVlR)"
      ],
      "text/plain": [
       "<IPython.core.display.Markdown object>"
      ]
     },
     "metadata": {},
     "output_type": "display_data"
    },
    {
     "data": {
      "text/markdown": [
       "[75. OpenAIs revolving door risk factor - Google News](https://news.google.com/read/CBMidEFVX3lxTE1zOTRXWHdXTFIxX0RUODVZd04wd19tTXE5TW5jMUhiZUNVTV9BbVRXbzZYTWN4N1F2R0ZkZDR0bVNNanA0U0NGM0p6ZDItZ3N3MFl6UGdsaGQ1QW9PMjBTaC1mb2h3T040V1owckxCWm9NMTV0)"
      ],
      "text/plain": [
       "<IPython.core.display.Markdown object>"
      ]
     },
     "metadata": {},
     "output_type": "display_data"
    },
    {
     "data": {
      "text/markdown": [
       "[76. Opinion - The 3 major decisions the next Congress must make about AI policy - Newscatcher](https://www.yahoo.com/news/opinion-3-major-decisions-next-143000600.html)"
      ],
      "text/plain": [
       "<IPython.core.display.Markdown object>"
      ]
     },
     "metadata": {},
     "output_type": "display_data"
    },
    {
     "data": {
      "text/markdown": [
       "[77. Parents sue school over son's punishment for using AI, claim it's harmed his college chances - Feedly AI](https://www.techspot.com/news/105192-parents-sue-school-over-son-punishment-using-ai.html)"
      ],
      "text/plain": [
       "<IPython.core.display.Markdown object>"
      ]
     },
     "metadata": {},
     "output_type": "display_data"
    },
    {
     "data": {
      "text/markdown": [
       "[78. Penguin Adds a Do-Not-Scrape-for-AI Page to Its Books - Google News](https://news.google.com/read/CBMijAFBVV95cUxOMGZOUGJsUGNfai1Od0VaU2xWWDdGMm81ZHd2czJBRnFBblFvSTJRUENBUjdXLTl5VV9lenJsUXM1Um1raDV6R1A5R0poUlpha1RwaW5BR1o4S1BUSEMzd3FIaHJfbG90ZnM5aGpKQ0JiZzBRcGF6YmJ3YjVjQzUxYTI3SFE2WWVkMlZ2MA)"
      ],
      "text/plain": [
       "<IPython.core.display.Markdown object>"
      ]
     },
     "metadata": {},
     "output_type": "display_data"
    },
    {
     "data": {
      "text/markdown": [
       "[79. Penguin Random House Underscores Copyright Protection in AI Rebuff - Newscatcher](https://tech.slashdot.org/story/24/10/19/0121240/penguin-random-house-underscores-copyright-protection-in-ai-rebuff)"
      ],
      "text/plain": [
       "<IPython.core.display.Markdown object>"
      ]
     },
     "metadata": {},
     "output_type": "display_data"
    },
    {
     "data": {
      "text/markdown": [
       "[80. Penguin Random House amends its copyright notice globally to prohibit the use of books for training AI; the notice will be included in new titles and reprints - Techmeme](https://www.thebookseller.com/news/penguin-random-house-underscores-copyright-protection-in-ai-rebuff)"
      ],
      "text/plain": [
       "<IPython.core.display.Markdown object>"
      ]
     },
     "metadata": {},
     "output_type": "display_data"
    },
    {
     "data": {
      "text/markdown": [
       "[81. Penguin Random House amends its copyright rules to protect authors from AI - Google News](https://news.google.com/read/CBMiuAFBVV95cUxQRGl3S0I0SnJCSjYtMnVTZ2VfNHB5SXlmRjhETmd1cGxEWHJUUVJrb1FEaDJqTXJhNE84SHVJWE5rWXJ6VzFnbFU2WnlPV2F3S0o3OUttUjQwcHJWRVZZV2tybHJsdTZIdGJCUDJLbWlzTm9RR194WWlNMkhTWlp3TlJITmZ1NERlb2JUTmRSdks3VmVUb3NubnZlQUt4a1BzX3RKYXduTHJWTVR6a3lDM2FhR1dDVklK)"
      ],
      "text/plain": [
       "<IPython.core.display.Markdown object>"
      ]
     },
     "metadata": {},
     "output_type": "display_data"
    },
    {
     "data": {
      "text/markdown": [
       "[82. Penguin Random House books now explicitly say no to AI training - Google News](https://news.google.com/read/CBMijAFBVV95cUxPalMyWTZfUThabm42ZVlCQVRaX2hKb0w3ZFJsRGtWcnFfMjY5MXVabXFjSjdfS21IOTY5NFZjU01BbUlBOU0yZjVyajRaYmV2VE9aSjIzbUdVNzhHOWFCcUVvSzUzYlZGQXRHZzBXSW80RzZvSmRzQkd3WFZVSjJRSlpSZFhTVERmZWt0WA)"
      ],
      "text/plain": [
       "<IPython.core.display.Markdown object>"
      ]
     },
     "metadata": {},
     "output_type": "display_data"
    },
    {
     "data": {
      "text/markdown": [
       "[83. Penguin Random House copyright pages will now forbid AI training - Feedly AI](https://mashable.com/article/penguin-random-house-ai-protections-copyright-page)"
      ],
      "text/plain": [
       "<IPython.core.display.Markdown object>"
      ]
     },
     "metadata": {},
     "output_type": "display_data"
    },
    {
     "data": {
      "text/markdown": [
       "[84. PennWest launches Center for Artificial Intelligence and Emerging Technologies - Newscatcher](https://news.yahoo.com/news/tech/pennwest-launches-center-artificial-intelligence-134600528.html)"
      ],
      "text/plain": [
       "<IPython.core.display.Markdown object>"
      ]
     },
     "metadata": {},
     "output_type": "display_data"
    },
    {
     "data": {
      "text/markdown": [
       "[85. Perplexity's AI search engine goes deep to get your answers - Feedly AI](https://www.techradar.com/computing/artificial-intelligence/perplexitys-ai-search-engine-goes-deep-to-get-your-answers)"
      ],
      "text/plain": [
       "<IPython.core.display.Markdown object>"
      ]
     },
     "metadata": {},
     "output_type": "display_data"
    },
    {
     "data": {
      "text/markdown": [
       "[86. Perplexity AI Can Help You Make Millions, or Even Billions of Dollars - Google News](https://news.google.com/read/CBMivAFBVV95cUxPem51Rk1UM1dJTHNDTmVxcFlvRTc3SzRJWHRrT05TbnA4amtKcmVzaXBiWE5tc0VhQmdkekFDMG56RENzWDBFYTFpWFg3eVZ4Mnd3SDhSMnVKXzFqY05uU1hWQWlBTVB4b1N2MDJzemN4SXZpb0tBUV9LZGZnNVVPeFl2alJmNHBOX1YwT0lTVUQxa3NzT2pEQkh1UjJMUm5VMldJM29DOWFmNWxTcDBYRy1jWjh1cDU2X0NyYg)"
      ],
      "text/plain": [
       "<IPython.core.display.Markdown object>"
      ]
     },
     "metadata": {},
     "output_type": "display_data"
    },
    {
     "data": {
      "text/markdown": [
       "[87. Perplexity lets you search your internal enterprise files and the web - Google News](https://news.google.com/read/CBMingFBVV95cUxQR2ZBNjBYTHpMMTlpcERnWDhmamU0YVlhdW1KQWNuMkpLMmNabk5DTE4xeGpfc2F1YXBZV0k4Nm9GdTAtVEJidWQyZDNCMUE1d1BJTENnQS1FNGd4djl1cmdQdTRHNWoyNnd1NkhyQWhKOVJjQTJ1XzJpMzZBVzVBeXBXNW8wV19iTTFYRE9Qd2E0ZFVGTlFnWG1FekpoZw)"
      ],
      "text/plain": [
       "<IPython.core.display.Markdown object>"
      ]
     },
     "metadata": {},
     "output_type": "display_data"
    },
    {
     "data": {
      "text/markdown": [
       "[88. Phase 3 AI Will Make Chatbots Look Like Dial-Up Internet - Here's How to Prepare Your Business Now! - Feedly AI](https://www.entrepreneur.com/business-news/phase-3-ai-will-make-chatbots-look-like-dial-up-internet/481494)"
      ],
      "text/plain": [
       "<IPython.core.display.Markdown object>"
      ]
     },
     "metadata": {},
     "output_type": "display_data"
    },
    {
     "data": {
      "text/markdown": [
       "[89. Pope Francis and the Vatican just created an AI Bible reshaping faith in the Digital Age - Feedly AI](https://www.thebrighterside.news/post/pope-francis-and-the-vatican-just-created-an-ai-bible-reshaping-faith-in-the-digital-age/)"
      ],
      "text/plain": [
       "<IPython.core.display.Markdown object>"
      ]
     },
     "metadata": {},
     "output_type": "display_data"
    },
    {
     "data": {
      "text/markdown": [
       "[90. Protect AI Named 2024 SINET16 Innovator - Newscatcher](https://finance.yahoo.com/news/protect-ai-named-2024-sinet16-130300622.html)"
      ],
      "text/plain": [
       "<IPython.core.display.Markdown object>"
      ]
     },
     "metadata": {},
     "output_type": "display_data"
    },
    {
     "data": {
      "text/markdown": [
       "[91. Protein Structures | AlphaFold: Google Research Vacancy, Weakness in Theoretical Science - HackerNoon](https://hackernoon.com/protein-structures-or-alphafold-google-research-vacancy-weakness-in-theoretical-science)"
      ],
      "text/plain": [
       "<IPython.core.display.Markdown object>"
      ]
     },
     "metadata": {},
     "output_type": "display_data"
    },
    {
     "data": {
      "text/markdown": [
       "[92. PyTorch 2.5 Unleashes High-End GPU Performance, Supercharges LLMs - Feedly AI](https://analyticsindiamag.com/ai-insights-analysis/pytorch-2-5-unleashes-high-end-gpu-performance-supercharges-llms/)"
      ],
      "text/plain": [
       "<IPython.core.display.Markdown object>"
      ]
     },
     "metadata": {},
     "output_type": "display_data"
    },
    {
     "data": {
      "text/markdown": [
       "[93. Q&A with Cloudflare CEO Matthew Prince on how internet traffic surge during COVID helped it build an AI-ready \"connectivity cloud\", internet balkanization, more (Om Malik/Crazy Stupid Tech) - Feedly AI](https://crazystupidtech.com/archive/future-of-internet-in-the-age-of-ai/)"
      ],
      "text/plain": [
       "<IPython.core.display.Markdown object>"
      ]
     },
     "metadata": {},
     "output_type": "display_data"
    },
    {
     "data": {
      "text/markdown": [
       "[94. Ransomware protection: AI and strategies to combat rising threats - Newscatcher](https://siliconangle.com/2024/10/18/ransomware-protection-ai-strategies-rising-cyber-threats-cubeconversations)"
      ],
      "text/plain": [
       "<IPython.core.display.Markdown object>"
      ]
     },
     "metadata": {},
     "output_type": "display_data"
    },
    {
     "data": {
      "text/markdown": [
       "[95. Report: OpenAI sees a clause in its Microsoft contract, which cuts off Microsoft's access to OpenAI tech if OpenAI develops AGI, as a path to a better contract - Techmeme](https://techcrunch.com/2024/10/17/the-surprising-way-openai-could-get-out-of-its-pact-with-microsoft/)"
      ],
      "text/plain": [
       "<IPython.core.display.Markdown object>"
      ]
     },
     "metadata": {},
     "output_type": "display_data"
    },
    {
     "data": {
      "text/markdown": [
       "[96. Researchers develop method enabling LLMs to answer questions more concisely and accurately - Newscatcher](https://techxplore.com/news/2024-10-method-enabling-llms-concisely-accurately.html)"
      ],
      "text/plain": [
       "<IPython.core.display.Markdown object>"
      ]
     },
     "metadata": {},
     "output_type": "display_data"
    },
    {
     "data": {
      "text/markdown": [
       "[97. Sam Altman's Worldcoin Rebrand Now Calls It 'World,' Brings New Orb for Crypto Project - Feedly AI](https://www.techtimes.com/articles/307927/20241019/sam-altmans-worldcoin-rebrand-now-calls-it-world-brings-new-orb-crypto-project.htm)"
      ],
      "text/plain": [
       "<IPython.core.display.Markdown object>"
      ]
     },
     "metadata": {},
     "output_type": "display_data"
    },
    {
     "data": {
      "text/markdown": [
       "[98. Sam Altmans eyeball-scanning crypto project has a new Orb and a new name - The Verge](https://www.theverge.com/2024/10/18/24273691/world-orb-sam-altman-iris-scan-crypto-token)"
      ],
      "text/plain": [
       "<IPython.core.display.Markdown object>"
      ]
     },
     "metadata": {},
     "output_type": "display_data"
    },
    {
     "data": {
      "text/markdown": [
       "[99. Scammers swindle elderly California man out of $25K by using AI voice technology to claim his son was in 'horrible accident,' needed money for bail: 'Absolutely his voice' - Reddit](https://www.reddit.com/r/technology/comments/1g6xoem/scammers_swindle_elderly_california_man_out_of/)"
      ],
      "text/plain": [
       "<IPython.core.display.Markdown object>"
      ]
     },
     "metadata": {},
     "output_type": "display_data"
    },
    {
     "data": {
      "text/markdown": [
       "[100. Scientists have built an AI-powered 'electronic tongue' - Feedly AI](https://www.livescience.com/technology/engineering/scientists-have-built-an-ai-powered-electronic-tongue)"
      ],
      "text/plain": [
       "<IPython.core.display.Markdown object>"
      ]
     },
     "metadata": {},
     "output_type": "display_data"
    },
    {
     "data": {
      "text/markdown": [
       "[101. Self-learning AI gives out NFL against the spread, over-under, money-line picks for every Week 7, 2024 game - Feedly AI](https://www.cbssports.com/nfl/news/self-learning-ai-gives-out-nfl-against-the-spread-over-under-money-line-picks-for-every-week-7-2024-game/)"
      ],
      "text/plain": [
       "<IPython.core.display.Markdown object>"
      ]
     },
     "metadata": {},
     "output_type": "display_data"
    },
    {
     "data": {
      "text/markdown": [
       "[102. SentinelOne, Inc. (S) Upgraded by Piper Sandler as AI-Powered Purple AI Platform Drives Q2 Outperformance and Market Share Gains - Newscatcher](https://finance.yahoo.com/news/sentinelone-inc-upgraded-piper-sandler-212814293.html)"
      ],
      "text/plain": [
       "<IPython.core.display.Markdown object>"
      ]
     },
     "metadata": {},
     "output_type": "display_data"
    },
    {
     "data": {
      "text/markdown": [
       "[103. SentinelOne Expands Collaboration with AWS, Enhancing AI-Powered Cybersecurity Solutions - Newscatcher](https://finance.yahoo.com/news/sentinelone-expands-collaboration-aws-enhancing-210950914.html)"
      ],
      "text/plain": [
       "<IPython.core.display.Markdown object>"
      ]
     },
     "metadata": {},
     "output_type": "display_data"
    },
    {
     "data": {
      "text/markdown": [
       "[104. Show HN: How to leverage Claude's capabilities with interactive visualization - Hacker News](https://github.com/anthropics/anthropic-quickstarts/tree/main/financial-data-analyst)"
      ],
      "text/plain": [
       "<IPython.core.display.Markdown object>"
      ]
     },
     "metadata": {},
     "output_type": "display_data"
    },
    {
     "data": {
      "text/markdown": [
       "[105. Solving complex problems with OpenAI o1 models - Feedly AI](https://openai.com/business/solving-complex-problems-with-openai-o1-models/)"
      ],
      "text/plain": [
       "<IPython.core.display.Markdown object>"
      ]
     },
     "metadata": {},
     "output_type": "display_data"
    },
    {
     "data": {
      "text/markdown": [
       "[106. Sources: former OpenAI CTO Mira Murati is raising funds for her new startup, which aims to build AI products based on proprietary models - Techmeme](https://www.reuters.com/technology/artificial-intelligence/former-openai-technology-chief-mira-murati-raise-capital-new-ai-startup-sources-2024-10-18/)"
      ],
      "text/plain": [
       "<IPython.core.display.Markdown object>"
      ]
     },
     "metadata": {},
     "output_type": "display_data"
    },
    {
     "data": {
      "text/markdown": [
       "[107. Southeast Asia reiterates pledge to collaborate amid growing cyber threats in AI era - Feedly AI](https://www.zdnet.com/article/southeast-asia-reiterates-pledge-to-collaborate-amid-growing-cyber-threat-in-ai-era/#ftag=RSSbaffb68)"
      ],
      "text/plain": [
       "<IPython.core.display.Markdown object>"
      ]
     },
     "metadata": {},
     "output_type": "display_data"
    },
    {
     "data": {
      "text/markdown": [
       "[108. Study In UK: University of Sheffield Invites International Students For MSc Artificial Intelligence, Offering 10,000 Scholarships For 2025 - Newscatcher](https://www.msn.com/en-in/news/India/study-in-uk-university-of-sheffield-invites-international-students-for-msc-artificial-intelligence-offering-10-000-scholarships-for-2025/ar-AA1sxYzC)"
      ],
      "text/plain": [
       "<IPython.core.display.Markdown object>"
      ]
     },
     "metadata": {},
     "output_type": "display_data"
    },
    {
     "data": {
      "text/markdown": [
       "[109. TREAT: A Deep Learning Framework that Achieves High-Precision Modeling for a Wide Range of Dynamical Systems by Injecting Time-Reversal Symmetry as an Inductive Bias - Feedly AI](https://www.marktechpost.com/2024/10/19/treat-a-deep-learning-framework-that-achieves-high-precision-modeling-for-a-wide-range-of-dynamical-systems-by-injecting-time-reversal-symmetry-as-an-inductive-bias/)"
      ],
      "text/plain": [
       "<IPython.core.display.Markdown object>"
      ]
     },
     "metadata": {},
     "output_type": "display_data"
    },
    {
     "data": {
      "text/markdown": [
       "[110. Taming randomness in ML models with hypothesis testing and marimo - Hacker News](https://blog.mozilla.ai/taming-randomness-in-ml-models-with-hypothesis-testing-and-marimo/)"
      ],
      "text/plain": [
       "<IPython.core.display.Markdown object>"
      ]
     },
     "metadata": {},
     "output_type": "display_data"
    },
    {
     "data": {
      "text/markdown": [
       "[111. Tensions with OpenAI underscore Microsoft's need to ensure its own AI future - Newscatcher](https://www.geekwire.com/2024/tensions-with-openai-underscore-microsofts-need-to-ensure-its-own-ai-future)"
      ],
      "text/plain": [
       "<IPython.core.display.Markdown object>"
      ]
     },
     "metadata": {},
     "output_type": "display_data"
    },
    {
     "data": {
      "text/markdown": [
       "[112. Terray Therapeutics, which uses AI to accelerate small-molecule drug development, raised a $120M Series B led by Bedford Ridge Capital and Nvidia's NVentures - Techmeme](https://siliconangle.com/2024/10/17/terray-therapeutics-rakes-120m-ai-powered-small-molecule-drug-development/)"
      ],
      "text/plain": [
       "<IPython.core.display.Markdown object>"
      ]
     },
     "metadata": {},
     "output_type": "display_data"
    },
    {
     "data": {
      "text/markdown": [
       "[113. Tesla FSD crashes in fog, sun glareFeds open new safety investigation - Ars Technica](https://arstechnica.com/cars/2024/10/feds-open-their-14th-tesla-safety-investigation-this-time-for-fsd/)"
      ],
      "text/plain": [
       "<IPython.core.display.Markdown object>"
      ]
     },
     "metadata": {},
     "output_type": "display_data"
    },
    {
     "data": {
      "text/markdown": [
       "[114. Tesla Facing NHTSA Investigation of 2.4 Million Cars Over Full Self-Driving Crashes - Newscatcher](https://ca.finance.yahoo.com/news/tesla-facing-nhtsa-investigation-2-151200159.html)"
      ],
      "text/plain": [
       "<IPython.core.display.Markdown object>"
      ]
     },
     "metadata": {},
     "output_type": "display_data"
    },
    {
     "data": {
      "text/markdown": [
       "[115. Tesla software under investigation after collisions - Newscatcher](https://www.yahoo.com/news/tesla-software-under-investigation-collisions-134341068.html)"
      ],
      "text/plain": [
       "<IPython.core.display.Markdown object>"
      ]
     },
     "metadata": {},
     "output_type": "display_data"
    },
    {
     "data": {
      "text/markdown": [
       "[116. The 3 major decisions the next Congress must make about AI policy - Newscatcher](https://thehill.com/opinion/technology/4939175-ai-regulatory-limbo-congress)"
      ],
      "text/plain": [
       "<IPython.core.display.Markdown object>"
      ]
     },
     "metadata": {},
     "output_type": "display_data"
    },
    {
     "data": {
      "text/markdown": [
       "[117. The Age of AI Child Abuse Is Here - Google News](https://news.google.com/read/CBMikAFBVV95cUxPVFMtdXNWT3ZJbVZzSGtBWjZMX18yQ2pnWmZ6enREdUdsRFJ5N1JCUHhRanpyRzFaWi1pZ1VJOWlaXzdOLVlzRENQbHBZcTJ2UjRsNWVKbUUwWXpXa1BJOF9weWpZTzc0Y2s3T01yc3ZCNkowaVNsX2tRQnl4ZHJwbm9CbGhIZERORzFaRzgzVVY)"
      ],
      "text/plain": [
       "<IPython.core.display.Markdown object>"
      ]
     },
     "metadata": {},
     "output_type": "display_data"
    },
    {
     "data": {
      "text/markdown": [
       "[118. The Big TakeAI Detectors Falsely Accuse Students of CheatingWith Big ConsequencesAbout two-thirds of teachers report regularly using tools for detecting AI-generated content. At that scale, even tiny error rates can add up quickly. - Bloomberg Tech](https://www.bloomberg.com/news/features/2024-10-18/do-ai-detectors-work-students-face-false-cheating-accusations)"
      ],
      "text/plain": [
       "<IPython.core.display.Markdown object>"
      ]
     },
     "metadata": {},
     "output_type": "display_data"
    },
    {
     "data": {
      "text/markdown": [
       "[119. The HackerNoon Newsletter: The Paradox of AI: If It Cant Replace us, Is It Making Us Dumber?  (10/18/2024) - HackerNoon](https://hackernoon.com/10-18-2024-newsletter)"
      ],
      "text/plain": [
       "<IPython.core.display.Markdown object>"
      ]
     },
     "metadata": {},
     "output_type": "display_data"
    },
    {
     "data": {
      "text/markdown": [
       "[120. The Paradox of AI: If It Can't Replace us, Is It Making Us Dumber? - HackerNoon](https://hackernoon.com/the-paradox-of-ai-if-it-cant-replace-us-is-it-making-us-dumber)"
      ],
      "text/plain": [
       "<IPython.core.display.Markdown object>"
      ]
     },
     "metadata": {},
     "output_type": "display_data"
    },
    {
     "data": {
      "text/markdown": [
       "[121. The Pentagon Wants to Flood Social Media With Fake AI People - Feedly AI](https://futurism.com/the-byte/pentagon-wants-fake-ai-people)"
      ],
      "text/plain": [
       "<IPython.core.display.Markdown object>"
      ]
     },
     "metadata": {},
     "output_type": "display_data"
    },
    {
     "data": {
      "text/markdown": [
       "[122. The Return of Nuclear Energy Thanks to the AI Revolution - Feedly AI](https://greekreporter.com/2024/10/19/the-return-of-nuclear-energy-thanks-to-the-ai-revolution/)"
      ],
      "text/plain": [
       "<IPython.core.display.Markdown object>"
      ]
     },
     "metadata": {},
     "output_type": "display_data"
    },
    {
     "data": {
      "text/markdown": [
       "[123. This AI Paper from Google DeepMind Explores Inference Scaling in Long-Context RAG - Feedly AI](https://www.marktechpost.com/2024/10/19/this-ai-paper-from-google-deepmind-explores-inference-scaling-in-long-context-rag/)"
      ],
      "text/plain": [
       "<IPython.core.display.Markdown object>"
      ]
     },
     "metadata": {},
     "output_type": "display_data"
    },
    {
     "data": {
      "text/markdown": [
       "[124. This Expert Says AI Efficiency Soars When it Uses Video to Crunch Numbers - Feedly AI](https://www.inc.com/kit-eaton/this-expert-says-ai-efficiency-soars-when-it-uses-video-to-crunch-numbers/90991212)"
      ],
      "text/plain": [
       "<IPython.core.display.Markdown object>"
      ]
     },
     "metadata": {},
     "output_type": "display_data"
    },
    {
     "data": {
      "text/markdown": [
       "[125. This is OpenAI CEO Sam Altman's favorite question about AGI - Business Insider](https://www.businessinsider.com/openai-ceo-sam-altman-favorite-question-about-agi-2024-10)"
      ],
      "text/plain": [
       "<IPython.core.display.Markdown object>"
      ]
     },
     "metadata": {},
     "output_type": "display_data"
    },
    {
     "data": {
      "text/markdown": [
       "[126. Tired of ChatGPT? 5 incredible uses of Perplexity AI that trumps Google Search - Google News](https://news.google.com/read/CBMisgFBVV95cUxOTGFqdU1zZkI2WC1ZNWpwWHkyUUE2a2F5SEE4bnVhZ19fdlpSS20tal9xZERUcjE1ZWtiVXo1YlRCeHQwZUFZdWUyeTQ0NnFfMlJ3TTl0a2Z2ajVDMDVEOWdhaGx4d0hOZ3BwVTNYOGJnT2pTcmdwMUsxU3NlYUdCX0lKVTlNYUZoeExjOHFoM19zSHhJVUg1WjJwYjFIZXRZS0xXSVA1b2dmNkc5WXBHc29B)"
      ],
      "text/plain": [
       "<IPython.core.display.Markdown object>"
      ]
     },
     "metadata": {},
     "output_type": "display_data"
    },
    {
     "data": {
      "text/markdown": [
       "[127. US Government Recovered $4 Billion Worth of Fraud With AI - Newscatcher](https://tech.co/news/us-govt-recovered-billions-fraud-ai)"
      ],
      "text/plain": [
       "<IPython.core.display.Markdown object>"
      ]
     },
     "metadata": {},
     "output_type": "display_data"
    },
    {
     "data": {
      "text/markdown": [
       "[128. US Probes TSMC for Allegedly Helping Huawei Develop Smartphone, AI Chips for the Chinese Tech - Newscatcher](https://www.techtimes.com/articles/307928/20241019/us-probes-tsmc-allegedly-helping-huawei-develop-smartphone-ai-chips-chinese-tech.htm)"
      ],
      "text/plain": [
       "<IPython.core.display.Markdown object>"
      ]
     },
     "metadata": {},
     "output_type": "display_data"
    },
    {
     "data": {
      "text/markdown": [
       "[129. US probing Elon Musk's Tesla over self-driving systems - Newscatcher](https://www.yahoo.com/news/us-probing-elon-musks-tesla-232739208.html)"
      ],
      "text/plain": [
       "<IPython.core.display.Markdown object>"
      ]
     },
     "metadata": {},
     "output_type": "display_data"
    },
    {
     "data": {
      "text/markdown": [
       "[130. Ventura teen finds her voice lobbying for bill on AI child abuse - Google News](https://news.google.com/read/CBMirAFBVV95cUxQT1lXeW1fVEJ4emhmaGlUOEJqSkFtVVZaek9kNWhrQ0JpMjFvbVdQdGxpeUFpcUptUS1HeUQydEwxWWpoeHN2SkZyNGl5YlplYWlTOE52TUUzSWlFNmJFenlKeGJKNlVvSlI4eG9zT0NaWVE3bDVRSlliWHhuNW1VWnpKWlZ4SXRIeFp4MmZzMk9hM2hOMGRYNU9RMkJRY3ZyNUJjckFIS080Sjd4)"
      ],
      "text/plain": [
       "<IPython.core.display.Markdown object>"
      ]
     },
     "metadata": {},
     "output_type": "display_data"
    },
    {
     "data": {
      "text/markdown": [
       "[131. Washington Journal: Cat Zakrzewski Discusses Artificial intelligence & Campaign 2024 - Google News](https://news.google.com/read/CBMilgFBVV95cUxNWGMtZGp4c3VDZjJ1MWk0enR3M2w4LUZ6WDhvZ3lxYld3Q2oxdWJGdUhXMHRtZklfSFE3c3BxX0VQdUFsNi16NHNUaU5la1htbnRXbGNZdDR2d2VvOXlyVHJNbXhhdkVkRGtyT2UxMFlrblNLc2ZUbURHU0ZlbGtRLWRyektJM01SZ2s3dXBmUXN0SlFrMWc)"
      ],
      "text/plain": [
       "<IPython.core.display.Markdown object>"
      ]
     },
     "metadata": {},
     "output_type": "display_data"
    },
    {
     "data": {
      "text/markdown": [
       "[132. Where Nvidia ranks among fastest-growing AI companies. No, its not No. 1. - Google News](https://news.google.com/read/CBMisgFBVV95cUxNeFc3aFRnSmRKOWtJaFJWMVVocXg1LUhZU0pkNUZObVFZMVpjVDkzakdwTmw2Z0s3a1ZCdHJVS3NzYnBEdFluZzhSR1lWUlZKRktudWMtNWQ4U3NLOFBxTEtKTThkT1RaUV9DeEFrakttTTVXS3ViY2p2ZDFFcDlMems1QXFWaDF1eUtwNG1oTThicjdEaWlmeXdoUWstQ3VidS1SWXpaQ0puT0RhNDQwbkhB)"
      ],
      "text/plain": [
       "<IPython.core.display.Markdown object>"
      ]
     },
     "metadata": {},
     "output_type": "display_data"
    },
    {
     "data": {
      "text/markdown": [
       "[133. Why AI Success Still Appears So Elusive - Feedly AI](https://www.forbes.com/sites/joemckendrick/2024/10/19/why-ai-success-still-appears-so-elusive/)"
      ],
      "text/plain": [
       "<IPython.core.display.Markdown object>"
      ]
     },
     "metadata": {},
     "output_type": "display_data"
    },
    {
     "data": {
      "text/markdown": [
       "[134. Why balancing Europes AI regulations is a difficult juggling act for start-ups - Feedly AI](https://www.euronews.com/next/2024/10/19/why-balancing-europes-ai-regulations-is-a-difficult-juggling-act-for-start-ups)"
      ],
      "text/plain": [
       "<IPython.core.display.Markdown object>"
      ]
     },
     "metadata": {},
     "output_type": "display_data"
    },
    {
     "data": {
      "text/markdown": [
       "[135. X's new terms of service push lawsuits to Texas courts, allow third-party AI data-sharing - Newscatcher](https://www.yahoo.com/news/xs-terms-push-lawsuits-texas-110231929.html)"
      ],
      "text/plain": [
       "<IPython.core.display.Markdown object>"
      ]
     },
     "metadata": {},
     "output_type": "display_data"
    },
    {
     "data": {
      "text/markdown": [
       "[136. X Is Giving Away Your Data to Train Third-Party AIs - Feedly AI](https://lifehacker.com/tech/x-is-selling-your-data-to-third-parties-for-ai-training)"
      ],
      "text/plain": [
       "<IPython.core.display.Markdown object>"
      ]
     },
     "metadata": {},
     "output_type": "display_data"
    },
    {
     "data": {
      "text/markdown": [
       "[137. XYZ Media's 'Next Generation of Innovators' Highlights James Gu's Research: Advancing Personalized Cancer Treatment with Digital Twin Technology - Newscatcher](https://www.benzinga.com/pressreleases/24/10/g41414929/xyz-medias-next-generation-of-innovators-highlights-james-gus-research-advancing-personalized-canc)"
      ],
      "text/plain": [
       "<IPython.core.display.Markdown object>"
      ]
     },
     "metadata": {},
     "output_type": "display_data"
    },
    {
     "data": {
      "text/markdown": [
       "[138. XYZ Media's Next Generation of Innovators' Highlights James Gu's Research: Advancing Personalized Cancer Treatment with Digital Twin Technology - Newscatcher](https://finance.yahoo.com/news/xyz-media-next-generation-innovators-034400241.html)"
      ],
      "text/plain": [
       "<IPython.core.display.Markdown object>"
      ]
     },
     "metadata": {},
     "output_type": "display_data"
    },
    {
     "data": {
      "text/markdown": [
       "[139. Xs controversial changes to blocking and AI training sees half a million users leave for rival Bluesky  which then crashes under the strain - Feedly AI](https://www.techradar.com/computing/websites-apps/xs-controversial-changes-to-blocking-and-ai-training-sees-half-a-million-users-leave-for-rival-bluesky-which-then-crashes-under-the-strain)"
      ],
      "text/plain": [
       "<IPython.core.display.Markdown object>"
      ]
     },
     "metadata": {},
     "output_type": "display_data"
    },
    {
     "data": {
      "text/markdown": [
       "[140. X to allow third parties to train AI on your posts - Newscatcher](https://mashable.com/article/x-train-ai-posts)"
      ],
      "text/plain": [
       "<IPython.core.display.Markdown object>"
      ]
     },
     "metadata": {},
     "output_type": "display_data"
    },
    {
     "data": {
      "text/markdown": [
       "[141. X to allow third parties to train their AI models with social media users' data - Newscatcher](https://www.theregister.com/2024/10/18/x_train_data)"
      ],
      "text/plain": [
       "<IPython.core.display.Markdown object>"
      ]
     },
     "metadata": {},
     "output_type": "display_data"
    }
   ],
   "source": [
    "for row in pd.DataFrame(state[\"AIdf\"]).itertuples():\n",
    "    display(Markdown(f\"[{row.id}. {row.title} - {row.src}]({row.url})\"))\n"
   ]
  },
  {
   "cell_type": "code",
   "execution_count": 44,
   "id": "a5478962",
   "metadata": {},
   "outputs": [
    {
     "name": "stderr",
     "output_type": "stream",
     "text": [
      "2024-10-19 12:48:31,507 - AInewsbot - INFO - start free-form topic extraction\n",
      "2024-10-19 12:48:31,507 - AInewsbot - INFO - Applying prompt to 3 pages using gpt-4o-mini\n",
      "2024-10-19 12:48:31,508 - AInewsbot - INFO - sent 50 items \n",
      "2024-10-19 12:48:31,508 - AInewsbot - INFO - sent 50 items \n",
      "2024-10-19 12:48:31,509 - AInewsbot - INFO - sent 42 items \n",
      "2024-10-19 12:48:38,603 - AInewsbot - INFO - got dict with 42 items \n",
      "2024-10-19 12:48:39,359 - AInewsbot - INFO - got dict with 50 items \n",
      "2024-10-19 12:48:39,597 - AInewsbot - INFO - got dict with 50 items \n",
      "2024-10-19 12:48:39,599 - AInewsbot - INFO - Processed 142 responses.\n",
      "2024-10-19 12:48:39,601 - AInewsbot - INFO - 142 free-form topics extracted\n",
      "2024-10-19 12:48:39,605 - AInewsbot - INFO - ['cost reduction', 'harris', 'trump', 'child abuse', 'competition', 'chatgpt', 'openai', 'nvidia', 'investment', 'cybersecurity', 'fraud', 'microsoft', 'research', 'claude', 'anthropic', 'fundraising', 'apple', 'reasoning', 'chatbot', 'llm', 'congress', 'negotiation', 'deep learning', 'accuracy', 'mira murati', 'startup', 'google', 'ai podcast', 'ai model', 'notebooklm', 'sam altman', 'crypto project', 'innovation', 'perplexity', 'aws', 'ai tools', 'ai stocks', 'meta ai', 'meta', 'ai models', 'open-source', 'partnership', 'llms', 'medicine', 'jama', 'healthcare', 'penguin random house', 'copyright protection', 'legal issues', 'ai policy', 'decisions', 'copyright', 'ai training', 'books', 'agi', 'sentinelone', 'collaboration', 'tesla', 'crashes', 'investigation', 'self-driving', 'legislation', 'paradox', 'intelligence', 'us', 'x', 'xyz media', 'james gu', 'cancer treatment', 'digital twin technology', 'third parties']\n",
      "2024-10-19 12:48:39,609 - AInewsbot - INFO - Start canonical topic classification\n",
      "2024-10-19 12:48:39,623 - AInewsbot - INFO - AI doom, topic 1 of 100\n",
      "2024-10-19 12:48:39,624 - AInewsbot - INFO - Applying prompt to 3 pages using gpt-4o-mini\n",
      "2024-10-19 12:48:39,625 - AInewsbot - INFO - sent 50 items \n",
      "2024-10-19 12:48:39,626 - AInewsbot - INFO - sent 50 items \n",
      "2024-10-19 12:48:39,626 - AInewsbot - INFO - sent 42 items \n",
      "2024-10-19 12:48:43,078 - AInewsbot - INFO - got dict with 42 items \n",
      "2024-10-19 12:48:43,383 - AInewsbot - INFO - got dict with 50 items \n",
      "2024-10-19 12:48:43,547 - AInewsbot - INFO - got dict with 50 items \n",
      "2024-10-19 12:48:43,550 - AInewsbot - INFO - Processed 142 responses.\n",
      "2024-10-19 12:48:43,551 - AInewsbot - INFO - Agriculture, topic 2 of 100\n",
      "2024-10-19 12:48:43,552 - AInewsbot - INFO - Applying prompt to 3 pages using gpt-4o-mini\n",
      "2024-10-19 12:48:43,554 - AInewsbot - INFO - sent 50 items \n",
      "2024-10-19 12:48:43,556 - AInewsbot - INFO - sent 50 items \n",
      "2024-10-19 12:48:43,557 - AInewsbot - INFO - sent 42 items \n",
      "2024-10-19 12:48:47,263 - AInewsbot - INFO - got dict with 42 items \n",
      "2024-10-19 12:48:47,947 - AInewsbot - INFO - got dict with 50 items \n",
      "2024-10-19 12:48:47,948 - AInewsbot - INFO - got dict with 50 items \n",
      "2024-10-19 12:48:47,950 - AInewsbot - INFO - Processed 142 responses.\n",
      "2024-10-19 12:48:47,951 - AInewsbot - INFO - Art & Design, topic 3 of 100\n",
      "2024-10-19 12:48:47,953 - AInewsbot - INFO - Applying prompt to 3 pages using gpt-4o-mini\n",
      "2024-10-19 12:48:47,955 - AInewsbot - INFO - sent 50 items \n",
      "2024-10-19 12:48:47,958 - AInewsbot - INFO - sent 50 items \n",
      "2024-10-19 12:48:47,959 - AInewsbot - INFO - sent 42 items \n",
      "2024-10-19 12:48:51,168 - AInewsbot - INFO - got dict with 42 items \n",
      "2024-10-19 12:48:51,475 - AInewsbot - INFO - got dict with 50 items \n",
      "2024-10-19 12:48:51,570 - AInewsbot - INFO - got dict with 50 items \n",
      "2024-10-19 12:48:51,573 - AInewsbot - INFO - Processed 142 responses.\n",
      "2024-10-19 12:48:51,574 - AInewsbot - INFO - Artificial General Intelligence, topic 4 of 100\n",
      "2024-10-19 12:48:51,576 - AInewsbot - INFO - Applying prompt to 3 pages using gpt-4o-mini\n",
      "2024-10-19 12:48:51,578 - AInewsbot - INFO - sent 50 items \n",
      "2024-10-19 12:48:51,580 - AInewsbot - INFO - sent 50 items \n",
      "2024-10-19 12:48:51,585 - AInewsbot - INFO - sent 42 items \n",
      "2024-10-19 12:48:54,831 - AInewsbot - INFO - got dict with 42 items \n",
      "2024-10-19 12:48:55,248 - AInewsbot - INFO - got dict with 50 items \n",
      "2024-10-19 12:48:55,309 - AInewsbot - INFO - got dict with 50 items \n",
      "2024-10-19 12:48:55,311 - AInewsbot - INFO - Processed 142 responses.\n",
      "2024-10-19 12:48:55,312 - AInewsbot - INFO - Authors & Writing, topic 5 of 100\n",
      "2024-10-19 12:48:55,312 - AInewsbot - INFO - Applying prompt to 3 pages using gpt-4o-mini\n",
      "2024-10-19 12:48:55,314 - AInewsbot - INFO - sent 50 items \n",
      "2024-10-19 12:48:55,315 - AInewsbot - INFO - sent 50 items \n",
      "2024-10-19 12:48:55,316 - AInewsbot - INFO - sent 42 items \n",
      "2024-10-19 12:48:58,419 - AInewsbot - INFO - got dict with 42 items \n",
      "2024-10-19 12:48:58,946 - AInewsbot - INFO - got dict with 50 items \n",
      "2024-10-19 12:48:59,049 - AInewsbot - INFO - got dict with 50 items \n",
      "2024-10-19 12:48:59,050 - AInewsbot - INFO - Processed 142 responses.\n",
      "2024-10-19 12:48:59,051 - AInewsbot - INFO - Autonomous vehicles, topic 6 of 100\n",
      "2024-10-19 12:48:59,052 - AInewsbot - INFO - Applying prompt to 3 pages using gpt-4o-mini\n",
      "2024-10-19 12:48:59,053 - AInewsbot - INFO - sent 50 items \n",
      "2024-10-19 12:48:59,054 - AInewsbot - INFO - sent 50 items \n",
      "2024-10-19 12:48:59,055 - AInewsbot - INFO - sent 42 items \n",
      "2024-10-19 12:49:02,126 - AInewsbot - INFO - got dict with 42 items \n",
      "2024-10-19 12:49:02,537 - AInewsbot - INFO - got dict with 50 items \n",
      "2024-10-19 12:49:02,539 - AInewsbot - INFO - got dict with 50 items \n",
      "2024-10-19 12:49:02,541 - AInewsbot - INFO - Processed 142 responses.\n",
      "2024-10-19 12:49:02,542 - AInewsbot - INFO - Bias and Fairness, topic 7 of 100\n",
      "2024-10-19 12:49:02,543 - AInewsbot - INFO - Applying prompt to 3 pages using gpt-4o-mini\n",
      "2024-10-19 12:49:02,544 - AInewsbot - INFO - sent 50 items \n",
      "2024-10-19 12:49:02,545 - AInewsbot - INFO - sent 50 items \n",
      "2024-10-19 12:49:02,546 - AInewsbot - INFO - sent 42 items \n",
      "2024-10-19 12:49:05,915 - AInewsbot - INFO - got dict with 42 items \n",
      "2024-10-19 12:49:06,217 - AInewsbot - INFO - got dict with 50 items \n",
      "2024-10-19 12:49:06,939 - AInewsbot - INFO - got dict with 50 items \n",
      "2024-10-19 12:49:06,943 - AInewsbot - INFO - Processed 142 responses.\n",
      "2024-10-19 12:49:06,944 - AInewsbot - INFO - Books & Publishing, topic 8 of 100\n",
      "2024-10-19 12:49:06,946 - AInewsbot - INFO - Applying prompt to 3 pages using gpt-4o-mini\n",
      "2024-10-19 12:49:06,949 - AInewsbot - INFO - sent 50 items \n",
      "2024-10-19 12:49:06,953 - AInewsbot - INFO - sent 50 items \n",
      "2024-10-19 12:49:06,955 - AInewsbot - INFO - sent 42 items \n",
      "2024-10-19 12:49:10,189 - AInewsbot - INFO - got dict with 42 items \n",
      "2024-10-19 12:49:10,350 - AInewsbot - INFO - got dict with 50 items \n",
      "2024-10-19 12:49:10,480 - AInewsbot - INFO - got dict with 50 items \n",
      "2024-10-19 12:49:10,482 - AInewsbot - INFO - Processed 142 responses.\n",
      "2024-10-19 12:49:10,483 - AInewsbot - INFO - Brain-Computer Interfaces, topic 9 of 100\n",
      "2024-10-19 12:49:10,484 - AInewsbot - INFO - Applying prompt to 3 pages using gpt-4o-mini\n",
      "2024-10-19 12:49:10,485 - AInewsbot - INFO - sent 50 items \n",
      "2024-10-19 12:49:10,486 - AInewsbot - INFO - sent 50 items \n",
      "2024-10-19 12:49:10,487 - AInewsbot - INFO - sent 42 items \n",
      "2024-10-19 12:49:13,537 - AInewsbot - INFO - got dict with 42 items \n",
      "2024-10-19 12:49:13,962 - AInewsbot - INFO - got dict with 50 items \n",
      "2024-10-19 12:49:14,270 - AInewsbot - INFO - got dict with 50 items \n",
      "2024-10-19 12:49:14,273 - AInewsbot - INFO - Processed 142 responses.\n",
      "2024-10-19 12:49:14,274 - AInewsbot - INFO - Bubble, topic 10 of 100\n",
      "2024-10-19 12:49:14,275 - AInewsbot - INFO - Applying prompt to 3 pages using gpt-4o-mini\n",
      "2024-10-19 12:49:14,276 - AInewsbot - INFO - sent 50 items \n",
      "2024-10-19 12:49:14,279 - AInewsbot - INFO - sent 50 items \n",
      "2024-10-19 12:49:14,282 - AInewsbot - INFO - sent 42 items \n",
      "2024-10-19 12:49:17,445 - AInewsbot - INFO - got dict with 42 items \n",
      "2024-10-19 12:49:17,962 - AInewsbot - INFO - got dict with 50 items \n",
      "2024-10-19 12:49:18,408 - AInewsbot - INFO - got dict with 50 items \n",
      "2024-10-19 12:49:18,411 - AInewsbot - INFO - Processed 142 responses.\n",
      "2024-10-19 12:49:18,412 - AInewsbot - INFO - Chatbots, topic 11 of 100\n",
      "2024-10-19 12:49:18,414 - AInewsbot - INFO - Applying prompt to 3 pages using gpt-4o-mini\n",
      "2024-10-19 12:49:18,415 - AInewsbot - INFO - sent 50 items \n"
     ]
    },
    {
     "name": "stderr",
     "output_type": "stream",
     "text": [
      "2024-10-19 12:49:18,416 - AInewsbot - INFO - sent 50 items \n",
      "2024-10-19 12:49:18,417 - AInewsbot - INFO - sent 42 items \n",
      "2024-10-19 12:49:21,273 - AInewsbot - INFO - got dict with 42 items \n",
      "2024-10-19 12:49:21,687 - AInewsbot - INFO - got dict with 50 items \n",
      "2024-10-19 12:49:21,762 - AInewsbot - INFO - got dict with 50 items \n",
      "2024-10-19 12:49:21,764 - AInewsbot - INFO - Processed 142 responses.\n",
      "2024-10-19 12:49:21,765 - AInewsbot - INFO - China, topic 12 of 100\n",
      "2024-10-19 12:49:21,767 - AInewsbot - INFO - Applying prompt to 3 pages using gpt-4o-mini\n",
      "2024-10-19 12:49:21,769 - AInewsbot - INFO - sent 50 items \n",
      "2024-10-19 12:49:21,770 - AInewsbot - INFO - sent 50 items \n",
      "2024-10-19 12:49:21,771 - AInewsbot - INFO - sent 42 items \n",
      "2024-10-19 12:49:24,456 - AInewsbot - INFO - got dict with 42 items \n",
      "2024-10-19 12:49:24,462 - AInewsbot - INFO - got dict with 50 items \n",
      "2024-10-19 12:49:24,962 - AInewsbot - INFO - got dict with 50 items \n",
      "2024-10-19 12:49:24,966 - AInewsbot - INFO - Processed 142 responses.\n",
      "2024-10-19 12:49:24,967 - AInewsbot - INFO - Climate, topic 13 of 100\n",
      "2024-10-19 12:49:24,968 - AInewsbot - INFO - Applying prompt to 3 pages using gpt-4o-mini\n",
      "2024-10-19 12:49:24,969 - AInewsbot - INFO - sent 50 items \n",
      "2024-10-19 12:49:24,970 - AInewsbot - INFO - sent 50 items \n",
      "2024-10-19 12:49:24,971 - AInewsbot - INFO - sent 42 items \n",
      "2024-10-19 12:49:28,185 - AInewsbot - INFO - got dict with 42 items \n",
      "2024-10-19 12:49:28,348 - AInewsbot - INFO - got dict with 50 items \n",
      "2024-10-19 12:49:28,556 - AInewsbot - INFO - got dict with 50 items \n",
      "2024-10-19 12:49:28,558 - AInewsbot - INFO - Processed 142 responses.\n",
      "2024-10-19 12:49:28,559 - AInewsbot - INFO - Code assistants, topic 14 of 100\n",
      "2024-10-19 12:49:28,559 - AInewsbot - INFO - Applying prompt to 3 pages using gpt-4o-mini\n",
      "2024-10-19 12:49:28,561 - AInewsbot - INFO - sent 50 items \n",
      "2024-10-19 12:49:28,562 - AInewsbot - INFO - sent 50 items \n",
      "2024-10-19 12:49:28,564 - AInewsbot - INFO - sent 42 items \n",
      "2024-10-19 12:49:32,251 - AInewsbot - INFO - got dict with 42 items \n",
      "2024-10-19 12:49:32,370 - AInewsbot - INFO - got dict with 50 items \n",
      "2024-10-19 12:49:32,944 - AInewsbot - INFO - got dict with 50 items \n",
      "2024-10-19 12:49:32,946 - AInewsbot - INFO - Processed 142 responses.\n",
      "2024-10-19 12:49:32,947 - AInewsbot - INFO - Cognitive Science, topic 15 of 100\n",
      "2024-10-19 12:49:32,948 - AInewsbot - INFO - Applying prompt to 3 pages using gpt-4o-mini\n",
      "2024-10-19 12:49:32,949 - AInewsbot - INFO - sent 50 items \n",
      "2024-10-19 12:49:32,950 - AInewsbot - INFO - sent 50 items \n",
      "2024-10-19 12:49:32,951 - AInewsbot - INFO - sent 42 items \n",
      "2024-10-19 12:49:36,142 - AInewsbot - INFO - got dict with 42 items \n",
      "2024-10-19 12:49:36,635 - AInewsbot - INFO - got dict with 50 items \n",
      "2024-10-19 12:49:36,674 - AInewsbot - INFO - got dict with 50 items \n",
      "2024-10-19 12:49:36,676 - AInewsbot - INFO - Processed 142 responses.\n",
      "2024-10-19 12:49:36,677 - AInewsbot - INFO - Computer Vision, topic 16 of 100\n",
      "2024-10-19 12:49:36,677 - AInewsbot - INFO - Applying prompt to 3 pages using gpt-4o-mini\n",
      "2024-10-19 12:49:36,678 - AInewsbot - INFO - sent 50 items \n",
      "2024-10-19 12:49:36,678 - AInewsbot - INFO - sent 50 items \n",
      "2024-10-19 12:49:36,679 - AInewsbot - INFO - sent 42 items \n",
      "2024-10-19 12:49:40,835 - AInewsbot - INFO - got dict with 42 items \n",
      "2024-10-19 12:49:41,228 - AInewsbot - INFO - got dict with 50 items \n",
      "2024-10-19 12:49:41,654 - AInewsbot - INFO - got dict with 50 items \n",
      "2024-10-19 12:49:41,657 - AInewsbot - INFO - Processed 142 responses.\n",
      "2024-10-19 12:49:41,658 - AInewsbot - INFO - Consciousness, topic 17 of 100\n",
      "2024-10-19 12:49:41,660 - AInewsbot - INFO - Applying prompt to 3 pages using gpt-4o-mini\n",
      "2024-10-19 12:49:41,661 - AInewsbot - INFO - sent 50 items \n",
      "2024-10-19 12:49:41,665 - AInewsbot - INFO - sent 50 items \n",
      "2024-10-19 12:49:41,668 - AInewsbot - INFO - sent 42 items \n",
      "2024-10-19 12:49:45,150 - AInewsbot - INFO - got dict with 42 items \n",
      "2024-10-19 12:49:45,469 - AInewsbot - INFO - got dict with 50 items \n",
      "2024-10-19 12:49:45,628 - AInewsbot - INFO - got dict with 50 items \n",
      "2024-10-19 12:49:45,631 - AInewsbot - INFO - Processed 142 responses.\n",
      "2024-10-19 12:49:45,632 - AInewsbot - INFO - Cryptocurrency, topic 18 of 100\n",
      "2024-10-19 12:49:45,632 - AInewsbot - INFO - Applying prompt to 3 pages using gpt-4o-mini\n",
      "2024-10-19 12:49:45,634 - AInewsbot - INFO - sent 50 items \n",
      "2024-10-19 12:49:45,636 - AInewsbot - INFO - sent 50 items \n",
      "2024-10-19 12:49:45,637 - AInewsbot - INFO - sent 42 items \n",
      "2024-10-19 12:49:48,849 - AInewsbot - INFO - got dict with 42 items \n",
      "2024-10-19 12:49:49,092 - AInewsbot - INFO - got dict with 50 items \n",
      "2024-10-19 12:49:49,288 - AInewsbot - INFO - got dict with 50 items \n",
      "2024-10-19 12:49:49,291 - AInewsbot - INFO - Processed 142 responses.\n",
      "2024-10-19 12:49:49,292 - AInewsbot - INFO - Customer service, topic 19 of 100\n",
      "2024-10-19 12:49:49,294 - AInewsbot - INFO - Applying prompt to 3 pages using gpt-4o-mini\n",
      "2024-10-19 12:49:49,295 - AInewsbot - INFO - sent 50 items \n",
      "2024-10-19 12:49:49,296 - AInewsbot - INFO - sent 50 items \n",
      "2024-10-19 12:49:49,297 - AInewsbot - INFO - sent 42 items \n",
      "2024-10-19 12:49:53,010 - AInewsbot - INFO - got dict with 42 items \n",
      "2024-10-19 12:49:53,063 - AInewsbot - INFO - got dict with 50 items \n",
      "2024-10-19 12:49:53,313 - AInewsbot - INFO - got dict with 50 items \n",
      "2024-10-19 12:49:53,315 - AInewsbot - INFO - Processed 142 responses.\n",
      "2024-10-19 12:49:53,316 - AInewsbot - INFO - Cybersecurity, topic 20 of 100\n",
      "2024-10-19 12:49:53,318 - AInewsbot - INFO - Applying prompt to 3 pages using gpt-4o-mini\n",
      "2024-10-19 12:49:53,319 - AInewsbot - INFO - sent 50 items \n",
      "2024-10-19 12:49:53,321 - AInewsbot - INFO - sent 50 items \n",
      "2024-10-19 12:49:53,322 - AInewsbot - INFO - sent 42 items \n",
      "2024-10-19 12:49:57,116 - AInewsbot - INFO - got dict with 42 items \n",
      "2024-10-19 12:49:57,528 - AInewsbot - INFO - got dict with 50 items \n",
      "2024-10-19 12:49:57,594 - AInewsbot - INFO - got dict with 50 items \n",
      "2024-10-19 12:49:57,596 - AInewsbot - INFO - Processed 142 responses.\n",
      "2024-10-19 12:49:57,597 - AInewsbot - INFO - Deals, topic 21 of 100\n",
      "2024-10-19 12:49:57,597 - AInewsbot - INFO - Applying prompt to 3 pages using gpt-4o-mini\n",
      "2024-10-19 12:49:57,598 - AInewsbot - INFO - sent 50 items \n",
      "2024-10-19 12:49:57,599 - AInewsbot - INFO - sent 50 items \n",
      "2024-10-19 12:49:57,600 - AInewsbot - INFO - sent 42 items \n",
      "2024-10-19 12:50:00,755 - AInewsbot - INFO - got dict with 42 items \n",
      "2024-10-19 12:50:01,008 - AInewsbot - INFO - got dict with 50 items \n",
      "2024-10-19 12:50:01,081 - AInewsbot - INFO - got dict with 50 items \n",
      "2024-10-19 12:50:01,082 - AInewsbot - INFO - Processed 142 responses.\n",
      "2024-10-19 12:50:01,083 - AInewsbot - INFO - Deepfakes, topic 22 of 100\n",
      "2024-10-19 12:50:01,083 - AInewsbot - INFO - Applying prompt to 3 pages using gpt-4o-mini\n",
      "2024-10-19 12:50:01,085 - AInewsbot - INFO - sent 50 items \n",
      "2024-10-19 12:50:01,085 - AInewsbot - INFO - sent 50 items \n",
      "2024-10-19 12:50:01,086 - AInewsbot - INFO - sent 42 items \n",
      "2024-10-19 12:50:04,896 - AInewsbot - INFO - got dict with 50 items \n",
      "2024-10-19 12:50:04,901 - AInewsbot - INFO - got dict with 50 items \n",
      "2024-10-19 12:50:07,194 - AInewsbot - INFO - got dict with 42 items \n",
      "2024-10-19 12:50:07,196 - AInewsbot - INFO - Processed 142 responses.\n",
      "2024-10-19 12:50:07,197 - AInewsbot - INFO - Disinformation, topic 23 of 100\n",
      "2024-10-19 12:50:07,198 - AInewsbot - INFO - Applying prompt to 3 pages using gpt-4o-mini\n",
      "2024-10-19 12:50:07,199 - AInewsbot - INFO - sent 50 items \n",
      "2024-10-19 12:50:07,200 - AInewsbot - INFO - sent 50 items \n",
      "2024-10-19 12:50:07,201 - AInewsbot - INFO - sent 42 items \n",
      "2024-10-19 12:50:10,235 - AInewsbot - INFO - got dict with 42 items \n",
      "2024-10-19 12:50:10,702 - AInewsbot - INFO - got dict with 50 items \n",
      "2024-10-19 12:50:11,219 - AInewsbot - INFO - got dict with 50 items \n",
      "2024-10-19 12:50:11,221 - AInewsbot - INFO - Processed 142 responses.\n",
      "2024-10-19 12:50:11,221 - AInewsbot - INFO - Drones, topic 24 of 100\n",
      "2024-10-19 12:50:11,222 - AInewsbot - INFO - Applying prompt to 3 pages using gpt-4o-mini\n",
      "2024-10-19 12:50:11,223 - AInewsbot - INFO - sent 50 items \n",
      "2024-10-19 12:50:11,224 - AInewsbot - INFO - sent 50 items \n",
      "2024-10-19 12:50:11,225 - AInewsbot - INFO - sent 42 items \n"
     ]
    },
    {
     "name": "stderr",
     "output_type": "stream",
     "text": [
      "2024-10-19 12:50:14,703 - AInewsbot - INFO - got dict with 50 items \n",
      "2024-10-19 12:50:14,766 - AInewsbot - INFO - got dict with 50 items \n",
      "2024-10-19 12:50:14,948 - AInewsbot - INFO - got dict with 42 items \n",
      "2024-10-19 12:50:14,951 - AInewsbot - INFO - Processed 142 responses.\n",
      "2024-10-19 12:50:14,951 - AInewsbot - INFO - Economics, topic 25 of 100\n",
      "2024-10-19 12:50:14,952 - AInewsbot - INFO - Applying prompt to 3 pages using gpt-4o-mini\n",
      "2024-10-19 12:50:14,953 - AInewsbot - INFO - sent 50 items \n",
      "2024-10-19 12:50:14,953 - AInewsbot - INFO - sent 50 items \n",
      "2024-10-19 12:50:14,954 - AInewsbot - INFO - sent 42 items \n",
      "2024-10-19 12:50:17,945 - AInewsbot - INFO - got dict with 42 items \n",
      "2024-10-19 12:50:18,417 - AInewsbot - INFO - got dict with 50 items \n",
      "2024-10-19 12:50:18,419 - AInewsbot - INFO - got dict with 50 items \n",
      "2024-10-19 12:50:18,420 - AInewsbot - INFO - Processed 142 responses.\n",
      "2024-10-19 12:50:18,420 - AInewsbot - INFO - Education, topic 26 of 100\n",
      "2024-10-19 12:50:18,420 - AInewsbot - INFO - Applying prompt to 3 pages using gpt-4o-mini\n",
      "2024-10-19 12:50:18,421 - AInewsbot - INFO - sent 50 items \n",
      "2024-10-19 12:50:18,422 - AInewsbot - INFO - sent 50 items \n",
      "2024-10-19 12:50:18,423 - AInewsbot - INFO - sent 42 items \n",
      "2024-10-19 12:50:21,695 - AInewsbot - INFO - got dict with 50 items \n",
      "2024-10-19 12:50:22,105 - AInewsbot - INFO - got dict with 42 items \n",
      "2024-10-19 12:50:22,554 - AInewsbot - INFO - got dict with 50 items \n",
      "2024-10-19 12:50:22,557 - AInewsbot - INFO - Processed 142 responses.\n",
      "2024-10-19 12:50:22,558 - AInewsbot - INFO - Energy, topic 27 of 100\n",
      "2024-10-19 12:50:22,559 - AInewsbot - INFO - Applying prompt to 3 pages using gpt-4o-mini\n",
      "2024-10-19 12:50:22,562 - AInewsbot - INFO - sent 50 items \n",
      "2024-10-19 12:50:22,564 - AInewsbot - INFO - sent 50 items \n",
      "2024-10-19 12:50:22,565 - AInewsbot - INFO - sent 42 items \n",
      "2024-10-19 12:50:25,390 - AInewsbot - INFO - got dict with 42 items \n",
      "2024-10-19 12:50:25,791 - AInewsbot - INFO - got dict with 50 items \n",
      "2024-10-19 12:50:25,856 - AInewsbot - INFO - got dict with 50 items \n",
      "2024-10-19 12:50:25,858 - AInewsbot - INFO - Processed 142 responses.\n",
      "2024-10-19 12:50:25,858 - AInewsbot - INFO - Entertainment, topic 28 of 100\n",
      "2024-10-19 12:50:25,859 - AInewsbot - INFO - Applying prompt to 3 pages using gpt-4o-mini\n",
      "2024-10-19 12:50:25,859 - AInewsbot - INFO - sent 50 items \n",
      "2024-10-19 12:50:25,860 - AInewsbot - INFO - sent 50 items \n",
      "2024-10-19 12:50:25,861 - AInewsbot - INFO - sent 42 items \n",
      "2024-10-19 12:50:29,203 - AInewsbot - INFO - got dict with 42 items \n",
      "2024-10-19 12:50:29,480 - AInewsbot - INFO - got dict with 50 items \n",
      "2024-10-19 12:50:29,528 - AInewsbot - INFO - got dict with 50 items \n",
      "2024-10-19 12:50:29,530 - AInewsbot - INFO - Processed 142 responses.\n",
      "2024-10-19 12:50:29,531 - AInewsbot - INFO - Ethics, topic 29 of 100\n",
      "2024-10-19 12:50:29,531 - AInewsbot - INFO - Applying prompt to 3 pages using gpt-4o-mini\n",
      "2024-10-19 12:50:29,533 - AInewsbot - INFO - sent 50 items \n",
      "2024-10-19 12:50:29,534 - AInewsbot - INFO - sent 50 items \n",
      "2024-10-19 12:50:29,535 - AInewsbot - INFO - sent 42 items \n",
      "2024-10-19 12:50:32,754 - AInewsbot - INFO - got dict with 42 items \n",
      "2024-10-19 12:50:32,883 - AInewsbot - INFO - got dict with 50 items \n",
      "2024-10-19 12:50:33,115 - AInewsbot - INFO - got dict with 50 items \n",
      "2024-10-19 12:50:33,117 - AInewsbot - INFO - Processed 142 responses.\n",
      "2024-10-19 12:50:33,118 - AInewsbot - INFO - European Union, topic 30 of 100\n",
      "2024-10-19 12:50:33,119 - AInewsbot - INFO - Applying prompt to 3 pages using gpt-4o-mini\n",
      "2024-10-19 12:50:33,120 - AInewsbot - INFO - sent 50 items \n",
      "2024-10-19 12:50:33,121 - AInewsbot - INFO - sent 50 items \n",
      "2024-10-19 12:50:33,122 - AInewsbot - INFO - sent 42 items \n",
      "2024-10-19 12:50:36,484 - AInewsbot - INFO - got dict with 42 items \n",
      "2024-10-19 12:50:36,809 - AInewsbot - INFO - got dict with 50 items \n",
      "2024-10-19 12:50:37,054 - AInewsbot - INFO - got dict with 50 items \n",
      "2024-10-19 12:50:37,055 - AInewsbot - INFO - Processed 142 responses.\n",
      "2024-10-19 12:50:37,055 - AInewsbot - INFO - Facial Recognition, topic 31 of 100\n",
      "2024-10-19 12:50:37,056 - AInewsbot - INFO - Applying prompt to 3 pages using gpt-4o-mini\n",
      "2024-10-19 12:50:37,057 - AInewsbot - INFO - sent 50 items \n",
      "2024-10-19 12:50:37,058 - AInewsbot - INFO - sent 50 items \n",
      "2024-10-19 12:50:37,059 - AInewsbot - INFO - sent 42 items \n",
      "2024-10-19 12:50:40,433 - AInewsbot - INFO - got dict with 42 items \n",
      "2024-10-19 12:50:40,553 - AInewsbot - INFO - got dict with 50 items \n",
      "2024-10-19 12:50:40,944 - AInewsbot - INFO - got dict with 50 items \n",
      "2024-10-19 12:50:40,946 - AInewsbot - INFO - Processed 142 responses.\n",
      "2024-10-19 12:50:40,946 - AInewsbot - INFO - Fashion, topic 32 of 100\n",
      "2024-10-19 12:50:40,947 - AInewsbot - INFO - Applying prompt to 3 pages using gpt-4o-mini\n",
      "2024-10-19 12:50:40,948 - AInewsbot - INFO - sent 50 items \n",
      "2024-10-19 12:50:40,949 - AInewsbot - INFO - sent 50 items \n",
      "2024-10-19 12:50:40,950 - AInewsbot - INFO - sent 42 items \n",
      "2024-10-19 12:50:44,084 - AInewsbot - INFO - got dict with 42 items \n",
      "2024-10-19 12:50:44,527 - AInewsbot - INFO - got dict with 50 items \n",
      "2024-10-19 12:50:44,538 - AInewsbot - INFO - got dict with 50 items \n",
      "2024-10-19 12:50:44,540 - AInewsbot - INFO - Processed 142 responses.\n",
      "2024-10-19 12:50:44,540 - AInewsbot - INFO - Finance, topic 33 of 100\n",
      "2024-10-19 12:50:44,541 - AInewsbot - INFO - Applying prompt to 3 pages using gpt-4o-mini\n",
      "2024-10-19 12:50:44,543 - AInewsbot - INFO - sent 50 items \n",
      "2024-10-19 12:50:44,545 - AInewsbot - INFO - sent 50 items \n",
      "2024-10-19 12:50:44,546 - AInewsbot - INFO - sent 42 items \n",
      "2024-10-19 12:50:47,731 - AInewsbot - INFO - got dict with 42 items \n",
      "2024-10-19 12:50:48,237 - AInewsbot - INFO - got dict with 50 items \n",
      "2024-10-19 12:50:48,282 - AInewsbot - INFO - got dict with 50 items \n",
      "2024-10-19 12:50:48,285 - AInewsbot - INFO - Processed 142 responses.\n",
      "2024-10-19 12:50:48,285 - AInewsbot - INFO - Fintech, topic 34 of 100\n",
      "2024-10-19 12:50:48,286 - AInewsbot - INFO - Applying prompt to 3 pages using gpt-4o-mini\n",
      "2024-10-19 12:50:48,287 - AInewsbot - INFO - sent 50 items \n",
      "2024-10-19 12:50:48,289 - AInewsbot - INFO - sent 50 items \n",
      "2024-10-19 12:50:48,291 - AInewsbot - INFO - sent 42 items \n",
      "2024-10-19 12:50:51,474 - AInewsbot - INFO - got dict with 42 items \n",
      "2024-10-19 12:50:51,806 - AInewsbot - INFO - got dict with 50 items \n",
      "2024-10-19 12:50:51,888 - AInewsbot - INFO - got dict with 50 items \n",
      "2024-10-19 12:50:51,892 - AInewsbot - INFO - Processed 142 responses.\n",
      "2024-10-19 12:50:51,893 - AInewsbot - INFO - Food & Drink, topic 35 of 100\n",
      "2024-10-19 12:50:51,894 - AInewsbot - INFO - Applying prompt to 3 pages using gpt-4o-mini\n",
      "2024-10-19 12:50:51,896 - AInewsbot - INFO - sent 50 items \n",
      "2024-10-19 12:50:51,897 - AInewsbot - INFO - sent 50 items \n",
      "2024-10-19 12:50:51,898 - AInewsbot - INFO - sent 42 items \n",
      "2024-10-19 12:50:54,955 - AInewsbot - INFO - got dict with 42 items \n",
      "2024-10-19 12:50:55,380 - AInewsbot - INFO - got dict with 50 items \n",
      "2024-10-19 12:50:55,402 - AInewsbot - INFO - got dict with 50 items \n",
      "2024-10-19 12:50:55,404 - AInewsbot - INFO - Processed 142 responses.\n",
      "2024-10-19 12:50:55,406 - AInewsbot - INFO - Funding, topic 36 of 100\n",
      "2024-10-19 12:50:55,408 - AInewsbot - INFO - Applying prompt to 3 pages using gpt-4o-mini\n",
      "2024-10-19 12:50:55,410 - AInewsbot - INFO - sent 50 items \n",
      "2024-10-19 12:50:55,411 - AInewsbot - INFO - sent 50 items \n",
      "2024-10-19 12:50:55,413 - AInewsbot - INFO - sent 42 items \n",
      "2024-10-19 12:50:58,145 - AInewsbot - INFO - got dict with 42 items \n",
      "2024-10-19 12:50:58,627 - AInewsbot - INFO - got dict with 50 items \n",
      "2024-10-19 12:50:58,696 - AInewsbot - INFO - got dict with 50 items \n",
      "2024-10-19 12:50:58,699 - AInewsbot - INFO - Processed 142 responses.\n",
      "2024-10-19 12:50:58,701 - AInewsbot - INFO - Gaming, topic 37 of 100\n",
      "2024-10-19 12:50:58,702 - AInewsbot - INFO - Applying prompt to 3 pages using gpt-4o-mini\n",
      "2024-10-19 12:50:58,703 - AInewsbot - INFO - sent 50 items \n",
      "2024-10-19 12:50:58,705 - AInewsbot - INFO - sent 50 items \n",
      "2024-10-19 12:50:58,707 - AInewsbot - INFO - sent 42 items \n",
      "2024-10-19 12:51:01,327 - AInewsbot - INFO - got dict with 42 items \n",
      "2024-10-19 12:51:02,043 - AInewsbot - INFO - got dict with 50 items \n",
      "2024-10-19 12:51:02,046 - AInewsbot - INFO - got dict with 50 items \n"
     ]
    },
    {
     "name": "stderr",
     "output_type": "stream",
     "text": [
      "2024-10-19 12:51:02,049 - AInewsbot - INFO - Processed 142 responses.\n",
      "2024-10-19 12:51:02,050 - AInewsbot - INFO - Gen AI, topic 38 of 100\n",
      "2024-10-19 12:51:02,051 - AInewsbot - INFO - Applying prompt to 3 pages using gpt-4o-mini\n",
      "2024-10-19 12:51:02,052 - AInewsbot - INFO - sent 50 items \n",
      "2024-10-19 12:51:02,054 - AInewsbot - INFO - sent 50 items \n",
      "2024-10-19 12:51:02,058 - AInewsbot - INFO - sent 42 items \n",
      "2024-10-19 12:51:05,463 - AInewsbot - INFO - got dict with 42 items \n",
      "2024-10-19 12:51:05,830 - AInewsbot - INFO - got dict with 50 items \n",
      "2024-10-19 12:51:05,957 - AInewsbot - INFO - got dict with 50 items \n",
      "2024-10-19 12:51:05,960 - AInewsbot - INFO - Processed 142 responses.\n",
      "2024-10-19 12:51:05,961 - AInewsbot - INFO - Governance, topic 39 of 100\n",
      "2024-10-19 12:51:05,962 - AInewsbot - INFO - Applying prompt to 3 pages using gpt-4o-mini\n",
      "2024-10-19 12:51:05,964 - AInewsbot - INFO - sent 50 items \n",
      "2024-10-19 12:51:05,966 - AInewsbot - INFO - sent 50 items \n",
      "2024-10-19 12:51:05,967 - AInewsbot - INFO - sent 42 items \n",
      "2024-10-19 12:51:09,180 - AInewsbot - INFO - got dict with 50 items \n",
      "2024-10-19 12:51:09,204 - AInewsbot - INFO - got dict with 42 items \n",
      "2024-10-19 12:51:09,824 - AInewsbot - INFO - got dict with 50 items \n",
      "2024-10-19 12:51:09,829 - AInewsbot - INFO - Processed 142 responses.\n",
      "2024-10-19 12:51:09,831 - AInewsbot - INFO - Hardware, topic 40 of 100\n",
      "2024-10-19 12:51:09,834 - AInewsbot - INFO - Applying prompt to 3 pages using gpt-4o-mini\n",
      "2024-10-19 12:51:09,839 - AInewsbot - INFO - sent 50 items \n",
      "2024-10-19 12:51:09,842 - AInewsbot - INFO - sent 50 items \n",
      "2024-10-19 12:51:09,844 - AInewsbot - INFO - sent 42 items \n",
      "2024-10-19 12:51:13,511 - AInewsbot - INFO - got dict with 42 items \n",
      "2024-10-19 12:51:13,557 - AInewsbot - INFO - got dict with 50 items \n",
      "2024-10-19 12:51:13,720 - AInewsbot - INFO - got dict with 50 items \n",
      "2024-10-19 12:51:13,722 - AInewsbot - INFO - Processed 142 responses.\n",
      "2024-10-19 12:51:13,723 - AInewsbot - INFO - Health & Fitness, topic 41 of 100\n",
      "2024-10-19 12:51:13,723 - AInewsbot - INFO - Applying prompt to 3 pages using gpt-4o-mini\n",
      "2024-10-19 12:51:13,724 - AInewsbot - INFO - sent 50 items \n",
      "2024-10-19 12:51:13,726 - AInewsbot - INFO - sent 50 items \n",
      "2024-10-19 12:51:13,728 - AInewsbot - INFO - sent 42 items \n",
      "2024-10-19 12:51:17,095 - AInewsbot - INFO - got dict with 42 items \n",
      "2024-10-19 12:51:17,207 - AInewsbot - INFO - got dict with 50 items \n",
      "2024-10-19 12:51:17,500 - AInewsbot - INFO - got dict with 50 items \n",
      "2024-10-19 12:51:17,502 - AInewsbot - INFO - Processed 142 responses.\n",
      "2024-10-19 12:51:17,503 - AInewsbot - INFO - Healthcare, topic 42 of 100\n",
      "2024-10-19 12:51:17,503 - AInewsbot - INFO - Applying prompt to 3 pages using gpt-4o-mini\n",
      "2024-10-19 12:51:17,505 - AInewsbot - INFO - sent 50 items \n",
      "2024-10-19 12:51:17,506 - AInewsbot - INFO - sent 50 items \n",
      "2024-10-19 12:51:17,507 - AInewsbot - INFO - sent 42 items \n",
      "2024-10-19 12:51:20,562 - AInewsbot - INFO - got dict with 42 items \n",
      "2024-10-19 12:51:20,883 - AInewsbot - INFO - got dict with 50 items \n",
      "2024-10-19 12:51:20,897 - AInewsbot - INFO - got dict with 50 items \n",
      "2024-10-19 12:51:20,899 - AInewsbot - INFO - Processed 142 responses.\n",
      "2024-10-19 12:51:20,900 - AInewsbot - INFO - History, topic 43 of 100\n",
      "2024-10-19 12:51:20,902 - AInewsbot - INFO - Applying prompt to 3 pages using gpt-4o-mini\n",
      "2024-10-19 12:51:20,903 - AInewsbot - INFO - sent 50 items \n",
      "2024-10-19 12:51:20,904 - AInewsbot - INFO - sent 50 items \n",
      "2024-10-19 12:51:20,906 - AInewsbot - INFO - sent 42 items \n",
      "2024-10-19 12:51:23,956 - AInewsbot - INFO - got dict with 42 items \n",
      "2024-10-19 12:51:24,282 - AInewsbot - INFO - got dict with 50 items \n",
      "2024-10-19 12:51:24,301 - AInewsbot - INFO - got dict with 50 items \n",
      "2024-10-19 12:51:24,303 - AInewsbot - INFO - Processed 142 responses.\n",
      "2024-10-19 12:51:24,304 - AInewsbot - INFO - Hollywood, topic 44 of 100\n",
      "2024-10-19 12:51:24,305 - AInewsbot - INFO - Applying prompt to 3 pages using gpt-4o-mini\n",
      "2024-10-19 12:51:24,306 - AInewsbot - INFO - sent 50 items \n",
      "2024-10-19 12:51:24,307 - AInewsbot - INFO - sent 50 items \n",
      "2024-10-19 12:51:24,308 - AInewsbot - INFO - sent 42 items \n",
      "2024-10-19 12:51:26,873 - AInewsbot - INFO - got dict with 42 items \n",
      "2024-10-19 12:51:27,122 - AInewsbot - INFO - got dict with 50 items \n",
      "2024-10-19 12:51:27,265 - AInewsbot - INFO - got dict with 50 items \n",
      "2024-10-19 12:51:27,267 - AInewsbot - INFO - Processed 142 responses.\n",
      "2024-10-19 12:51:27,267 - AInewsbot - INFO - IPOs, topic 45 of 100\n",
      "2024-10-19 12:51:27,268 - AInewsbot - INFO - Applying prompt to 3 pages using gpt-4o-mini\n",
      "2024-10-19 12:51:27,268 - AInewsbot - INFO - sent 50 items \n",
      "2024-10-19 12:51:27,269 - AInewsbot - INFO - sent 50 items \n",
      "2024-10-19 12:51:27,270 - AInewsbot - INFO - sent 42 items \n",
      "2024-10-19 12:51:30,252 - AInewsbot - INFO - got dict with 42 items \n",
      "2024-10-19 12:51:30,679 - AInewsbot - INFO - got dict with 50 items \n",
      "2024-10-19 12:51:30,759 - AInewsbot - INFO - got dict with 50 items \n",
      "2024-10-19 12:51:30,761 - AInewsbot - INFO - Processed 142 responses.\n",
      "2024-10-19 12:51:30,762 - AInewsbot - INFO - India, topic 46 of 100\n",
      "2024-10-19 12:51:30,763 - AInewsbot - INFO - Applying prompt to 3 pages using gpt-4o-mini\n",
      "2024-10-19 12:51:30,764 - AInewsbot - INFO - sent 50 items \n",
      "2024-10-19 12:51:30,765 - AInewsbot - INFO - sent 50 items \n",
      "2024-10-19 12:51:30,766 - AInewsbot - INFO - sent 42 items \n",
      "2024-10-19 12:51:33,760 - AInewsbot - INFO - got dict with 42 items \n",
      "2024-10-19 12:51:34,121 - AInewsbot - INFO - got dict with 50 items \n",
      "2024-10-19 12:51:34,328 - AInewsbot - INFO - got dict with 50 items \n",
      "2024-10-19 12:51:34,330 - AInewsbot - INFO - Processed 142 responses.\n",
      "2024-10-19 12:51:34,330 - AInewsbot - INFO - Inequality, topic 47 of 100\n",
      "2024-10-19 12:51:34,331 - AInewsbot - INFO - Applying prompt to 3 pages using gpt-4o-mini\n",
      "2024-10-19 12:51:34,332 - AInewsbot - INFO - sent 50 items \n",
      "2024-10-19 12:51:34,334 - AInewsbot - INFO - sent 50 items \n",
      "2024-10-19 12:51:34,335 - AInewsbot - INFO - sent 42 items \n",
      "2024-10-19 12:51:37,136 - AInewsbot - INFO - got dict with 42 items \n",
      "2024-10-19 12:51:37,884 - AInewsbot - INFO - got dict with 50 items \n",
      "2024-10-19 12:51:37,941 - AInewsbot - INFO - got dict with 50 items \n",
      "2024-10-19 12:51:37,945 - AInewsbot - INFO - Processed 142 responses.\n",
      "2024-10-19 12:51:37,946 - AInewsbot - INFO - Infrastructure, topic 48 of 100\n",
      "2024-10-19 12:51:37,947 - AInewsbot - INFO - Applying prompt to 3 pages using gpt-4o-mini\n",
      "2024-10-19 12:51:37,947 - AInewsbot - INFO - sent 50 items \n",
      "2024-10-19 12:51:37,948 - AInewsbot - INFO - sent 50 items \n",
      "2024-10-19 12:51:37,949 - AInewsbot - INFO - sent 42 items \n",
      "2024-10-19 12:51:41,010 - AInewsbot - INFO - got dict with 42 items \n",
      "2024-10-19 12:51:41,774 - AInewsbot - INFO - got dict with 50 items \n",
      "2024-10-19 12:51:42,214 - AInewsbot - INFO - got dict with 50 items \n",
      "2024-10-19 12:51:42,216 - AInewsbot - INFO - Processed 142 responses.\n",
      "2024-10-19 12:51:42,216 - AInewsbot - INFO - Intellectual Property, topic 49 of 100\n",
      "2024-10-19 12:51:42,217 - AInewsbot - INFO - Applying prompt to 3 pages using gpt-4o-mini\n",
      "2024-10-19 12:51:42,217 - AInewsbot - INFO - sent 50 items \n",
      "2024-10-19 12:51:42,219 - AInewsbot - INFO - sent 50 items \n",
      "2024-10-19 12:51:42,222 - AInewsbot - INFO - sent 42 items \n",
      "2024-10-19 12:51:45,324 - AInewsbot - INFO - got dict with 42 items \n",
      "2024-10-19 12:51:45,547 - AInewsbot - INFO - got dict with 50 items \n",
      "2024-10-19 12:51:45,870 - AInewsbot - INFO - got dict with 50 items \n",
      "2024-10-19 12:51:45,872 - AInewsbot - INFO - Processed 142 responses.\n",
      "2024-10-19 12:51:45,873 - AInewsbot - INFO - Internet of Things, topic 50 of 100\n",
      "2024-10-19 12:51:45,874 - AInewsbot - INFO - Applying prompt to 3 pages using gpt-4o-mini\n",
      "2024-10-19 12:51:45,876 - AInewsbot - INFO - sent 50 items \n",
      "2024-10-19 12:51:45,877 - AInewsbot - INFO - sent 50 items \n",
      "2024-10-19 12:51:45,878 - AInewsbot - INFO - sent 42 items \n",
      "2024-10-19 12:51:49,045 - AInewsbot - INFO - got dict with 42 items \n",
      "2024-10-19 12:51:49,441 - AInewsbot - INFO - got dict with 50 items \n",
      "2024-10-19 12:51:49,864 - AInewsbot - INFO - got dict with 50 items \n",
      "2024-10-19 12:51:49,866 - AInewsbot - INFO - Processed 142 responses.\n",
      "2024-10-19 12:51:49,867 - AInewsbot - INFO - Japan, topic 51 of 100\n"
     ]
    },
    {
     "name": "stderr",
     "output_type": "stream",
     "text": [
      "2024-10-19 12:51:49,869 - AInewsbot - INFO - Applying prompt to 3 pages using gpt-4o-mini\n",
      "2024-10-19 12:51:49,870 - AInewsbot - INFO - sent 50 items \n",
      "2024-10-19 12:51:49,871 - AInewsbot - INFO - sent 50 items \n",
      "2024-10-19 12:51:49,873 - AInewsbot - INFO - sent 42 items \n",
      "2024-10-19 12:51:53,038 - AInewsbot - INFO - got dict with 42 items \n",
      "2024-10-19 12:51:53,283 - AInewsbot - INFO - got dict with 50 items \n",
      "2024-10-19 12:51:53,409 - AInewsbot - INFO - got dict with 50 items \n",
      "2024-10-19 12:51:53,410 - AInewsbot - INFO - Processed 142 responses.\n",
      "2024-10-19 12:51:53,411 - AInewsbot - INFO - Job Automation, topic 52 of 100\n",
      "2024-10-19 12:51:53,411 - AInewsbot - INFO - Applying prompt to 3 pages using gpt-4o-mini\n",
      "2024-10-19 12:51:53,412 - AInewsbot - INFO - sent 50 items \n",
      "2024-10-19 12:51:53,413 - AInewsbot - INFO - sent 50 items \n",
      "2024-10-19 12:51:53,414 - AInewsbot - INFO - sent 42 items \n",
      "2024-10-19 12:51:56,098 - AInewsbot - INFO - got dict with 42 items \n",
      "2024-10-19 12:51:56,699 - AInewsbot - INFO - got dict with 50 items \n",
      "2024-10-19 12:51:56,887 - AInewsbot - INFO - got dict with 50 items \n",
      "2024-10-19 12:51:56,890 - AInewsbot - INFO - Processed 142 responses.\n",
      "2024-10-19 12:51:56,890 - AInewsbot - INFO - Jobs & CareersLabor Market, topic 53 of 100\n",
      "2024-10-19 12:51:56,891 - AInewsbot - INFO - Applying prompt to 3 pages using gpt-4o-mini\n",
      "2024-10-19 12:51:56,892 - AInewsbot - INFO - sent 50 items \n",
      "2024-10-19 12:51:56,893 - AInewsbot - INFO - sent 50 items \n",
      "2024-10-19 12:51:56,894 - AInewsbot - INFO - sent 42 items \n",
      "2024-10-19 12:52:00,172 - AInewsbot - INFO - got dict with 42 items \n",
      "2024-10-19 12:52:00,575 - AInewsbot - INFO - got dict with 50 items \n",
      "2024-10-19 12:52:00,649 - AInewsbot - INFO - got dict with 50 items \n",
      "2024-10-19 12:52:00,651 - AInewsbot - INFO - Processed 142 responses.\n",
      "2024-10-19 12:52:00,652 - AInewsbot - INFO - Korea, topic 54 of 100\n",
      "2024-10-19 12:52:00,652 - AInewsbot - INFO - Applying prompt to 3 pages using gpt-4o-mini\n",
      "2024-10-19 12:52:00,653 - AInewsbot - INFO - sent 50 items \n",
      "2024-10-19 12:52:00,653 - AInewsbot - INFO - sent 50 items \n",
      "2024-10-19 12:52:00,654 - AInewsbot - INFO - sent 42 items \n",
      "2024-10-19 12:52:04,242 - AInewsbot - INFO - got dict with 42 items \n",
      "2024-10-19 12:52:05,082 - AInewsbot - INFO - got dict with 50 items \n",
      "2024-10-19 12:52:05,084 - AInewsbot - INFO - got dict with 50 items \n",
      "2024-10-19 12:52:05,086 - AInewsbot - INFO - Processed 142 responses.\n",
      "2024-10-19 12:52:05,087 - AInewsbot - INFO - Language Models, topic 55 of 100\n",
      "2024-10-19 12:52:05,089 - AInewsbot - INFO - Applying prompt to 3 pages using gpt-4o-mini\n",
      "2024-10-19 12:52:05,090 - AInewsbot - INFO - sent 50 items \n",
      "2024-10-19 12:52:05,092 - AInewsbot - INFO - sent 50 items \n",
      "2024-10-19 12:52:05,093 - AInewsbot - INFO - sent 42 items \n",
      "2024-10-19 12:52:08,091 - AInewsbot - INFO - got dict with 42 items \n",
      "2024-10-19 12:52:08,243 - AInewsbot - INFO - got dict with 50 items \n",
      "2024-10-19 12:52:08,357 - AInewsbot - INFO - got dict with 50 items \n",
      "2024-10-19 12:52:08,359 - AInewsbot - INFO - Processed 142 responses.\n",
      "2024-10-19 12:52:08,360 - AInewsbot - INFO - Legal issues, topic 56 of 100\n",
      "2024-10-19 12:52:08,360 - AInewsbot - INFO - Applying prompt to 3 pages using gpt-4o-mini\n",
      "2024-10-19 12:52:08,362 - AInewsbot - INFO - sent 50 items \n",
      "2024-10-19 12:52:08,363 - AInewsbot - INFO - sent 50 items \n",
      "2024-10-19 12:52:08,363 - AInewsbot - INFO - sent 42 items \n",
      "2024-10-19 12:52:11,276 - AInewsbot - INFO - got dict with 42 items \n",
      "2024-10-19 12:52:11,574 - AInewsbot - INFO - got dict with 50 items \n",
      "2024-10-19 12:52:12,347 - AInewsbot - INFO - got dict with 50 items \n",
      "2024-10-19 12:52:12,349 - AInewsbot - INFO - Processed 142 responses.\n",
      "2024-10-19 12:52:12,350 - AInewsbot - INFO - Lifestyle & Travel, topic 57 of 100\n",
      "2024-10-19 12:52:12,350 - AInewsbot - INFO - Applying prompt to 3 pages using gpt-4o-mini\n",
      "2024-10-19 12:52:12,351 - AInewsbot - INFO - sent 50 items \n",
      "2024-10-19 12:52:12,352 - AInewsbot - INFO - sent 50 items \n",
      "2024-10-19 12:52:12,354 - AInewsbot - INFO - sent 42 items \n",
      "2024-10-19 12:52:15,311 - AInewsbot - INFO - got dict with 42 items \n",
      "2024-10-19 12:52:15,774 - AInewsbot - INFO - got dict with 50 items \n",
      "2024-10-19 12:52:15,776 - AInewsbot - INFO - got dict with 50 items \n",
      "2024-10-19 12:52:15,777 - AInewsbot - INFO - Processed 142 responses.\n",
      "2024-10-19 12:52:15,778 - AInewsbot - INFO - Manufacturing, topic 58 of 100\n",
      "2024-10-19 12:52:15,779 - AInewsbot - INFO - Applying prompt to 3 pages using gpt-4o-mini\n",
      "2024-10-19 12:52:15,780 - AInewsbot - INFO - sent 50 items \n",
      "2024-10-19 12:52:15,781 - AInewsbot - INFO - sent 50 items \n",
      "2024-10-19 12:52:15,782 - AInewsbot - INFO - sent 42 items \n",
      "2024-10-19 12:52:19,048 - AInewsbot - INFO - got dict with 42 items \n",
      "2024-10-19 12:52:19,560 - AInewsbot - INFO - got dict with 50 items \n",
      "2024-10-19 12:52:19,586 - AInewsbot - INFO - got dict with 50 items \n",
      "2024-10-19 12:52:19,588 - AInewsbot - INFO - Processed 142 responses.\n",
      "2024-10-19 12:52:19,589 - AInewsbot - INFO - Mergers and acquisitions, topic 59 of 100\n",
      "2024-10-19 12:52:19,590 - AInewsbot - INFO - Applying prompt to 3 pages using gpt-4o-mini\n",
      "2024-10-19 12:52:19,591 - AInewsbot - INFO - sent 50 items \n",
      "2024-10-19 12:52:19,592 - AInewsbot - INFO - sent 50 items \n",
      "2024-10-19 12:52:19,592 - AInewsbot - INFO - sent 42 items \n",
      "2024-10-19 12:52:22,942 - AInewsbot - INFO - got dict with 42 items \n",
      "2024-10-19 12:52:23,232 - AInewsbot - INFO - got dict with 50 items \n",
      "2024-10-19 12:52:23,307 - AInewsbot - INFO - got dict with 50 items \n",
      "2024-10-19 12:52:23,310 - AInewsbot - INFO - Processed 142 responses.\n",
      "2024-10-19 12:52:23,311 - AInewsbot - INFO - Military, topic 60 of 100\n",
      "2024-10-19 12:52:23,312 - AInewsbot - INFO - Applying prompt to 3 pages using gpt-4o-mini\n",
      "2024-10-19 12:52:23,313 - AInewsbot - INFO - sent 50 items \n",
      "2024-10-19 12:52:23,313 - AInewsbot - INFO - sent 50 items \n",
      "2024-10-19 12:52:23,314 - AInewsbot - INFO - sent 42 items \n",
      "2024-10-19 12:52:26,206 - AInewsbot - INFO - got dict with 42 items \n",
      "2024-10-19 12:52:26,622 - AInewsbot - INFO - got dict with 50 items \n",
      "2024-10-19 12:52:26,635 - AInewsbot - INFO - got dict with 50 items \n",
      "2024-10-19 12:52:26,636 - AInewsbot - INFO - Processed 142 responses.\n",
      "2024-10-19 12:52:26,637 - AInewsbot - INFO - Music, topic 61 of 100\n",
      "2024-10-19 12:52:26,637 - AInewsbot - INFO - Applying prompt to 3 pages using gpt-4o-mini\n",
      "2024-10-19 12:52:26,638 - AInewsbot - INFO - sent 50 items \n",
      "2024-10-19 12:52:26,640 - AInewsbot - INFO - sent 50 items \n",
      "2024-10-19 12:52:26,641 - AInewsbot - INFO - sent 42 items \n",
      "2024-10-19 12:52:28,782 - AInewsbot - INFO - got dict with 42 items \n",
      "2024-10-19 12:52:28,984 - AInewsbot - INFO - got dict with 50 items \n",
      "2024-10-19 12:52:29,032 - AInewsbot - INFO - got dict with 50 items \n",
      "2024-10-19 12:52:29,035 - AInewsbot - INFO - Processed 142 responses.\n",
      "2024-10-19 12:52:29,035 - AInewsbot - INFO - Neuromorphic Computing, topic 62 of 100\n",
      "2024-10-19 12:52:29,037 - AInewsbot - INFO - Applying prompt to 3 pages using gpt-4o-mini\n",
      "2024-10-19 12:52:29,037 - AInewsbot - INFO - sent 50 items \n",
      "2024-10-19 12:52:29,039 - AInewsbot - INFO - sent 50 items \n",
      "2024-10-19 12:52:29,040 - AInewsbot - INFO - sent 42 items \n",
      "2024-10-19 12:52:32,054 - AInewsbot - INFO - got dict with 42 items \n",
      "2024-10-19 12:52:32,168 - AInewsbot - INFO - got dict with 50 items \n",
      "2024-10-19 12:52:32,668 - AInewsbot - INFO - got dict with 50 items \n",
      "2024-10-19 12:52:32,670 - AInewsbot - INFO - Processed 142 responses.\n",
      "2024-10-19 12:52:32,671 - AInewsbot - INFO - Nuclear, topic 63 of 100\n",
      "2024-10-19 12:52:32,672 - AInewsbot - INFO - Applying prompt to 3 pages using gpt-4o-mini\n",
      "2024-10-19 12:52:32,673 - AInewsbot - INFO - sent 50 items \n",
      "2024-10-19 12:52:32,674 - AInewsbot - INFO - sent 50 items \n",
      "2024-10-19 12:52:32,675 - AInewsbot - INFO - sent 42 items \n",
      "2024-10-19 12:52:35,389 - AInewsbot - INFO - got dict with 42 items \n",
      "2024-10-19 12:52:35,843 - AInewsbot - INFO - got dict with 50 items \n",
      "2024-10-19 12:52:35,845 - AInewsbot - INFO - got dict with 50 items \n",
      "2024-10-19 12:52:35,848 - AInewsbot - INFO - Processed 142 responses.\n",
      "2024-10-19 12:52:35,849 - AInewsbot - INFO - Open Source, topic 64 of 100\n",
      "2024-10-19 12:52:35,850 - AInewsbot - INFO - Applying prompt to 3 pages using gpt-4o-mini\n"
     ]
    },
    {
     "name": "stderr",
     "output_type": "stream",
     "text": [
      "2024-10-19 12:52:35,851 - AInewsbot - INFO - sent 50 items \n",
      "2024-10-19 12:52:35,852 - AInewsbot - INFO - sent 50 items \n",
      "2024-10-19 12:52:35,853 - AInewsbot - INFO - sent 42 items \n",
      "2024-10-19 12:52:39,540 - AInewsbot - INFO - got dict with 50 items \n",
      "2024-10-19 12:52:39,691 - AInewsbot - INFO - got dict with 50 items \n",
      "2024-10-19 12:52:40,264 - AInewsbot - INFO - got dict with 42 items \n",
      "2024-10-19 12:52:40,266 - AInewsbot - INFO - Processed 142 responses.\n",
      "2024-10-19 12:52:40,266 - AInewsbot - INFO - Opinion, topic 65 of 100\n",
      "2024-10-19 12:52:40,267 - AInewsbot - INFO - Applying prompt to 3 pages using gpt-4o-mini\n",
      "2024-10-19 12:52:40,268 - AInewsbot - INFO - sent 50 items \n",
      "2024-10-19 12:52:40,274 - AInewsbot - INFO - sent 50 items \n",
      "2024-10-19 12:52:40,275 - AInewsbot - INFO - sent 42 items \n",
      "2024-10-19 12:52:43,256 - AInewsbot - INFO - got dict with 50 items \n",
      "2024-10-19 12:52:43,280 - AInewsbot - INFO - got dict with 42 items \n",
      "2024-10-19 12:52:43,728 - AInewsbot - INFO - got dict with 50 items \n",
      "2024-10-19 12:52:43,730 - AInewsbot - INFO - Processed 142 responses.\n",
      "2024-10-19 12:52:43,731 - AInewsbot - INFO - Policy and regulation, topic 66 of 100\n",
      "2024-10-19 12:52:43,731 - AInewsbot - INFO - Applying prompt to 3 pages using gpt-4o-mini\n",
      "2024-10-19 12:52:43,732 - AInewsbot - INFO - sent 50 items \n",
      "2024-10-19 12:52:43,733 - AInewsbot - INFO - sent 50 items \n",
      "2024-10-19 12:52:43,734 - AInewsbot - INFO - sent 42 items \n",
      "2024-10-19 12:52:47,581 - AInewsbot - INFO - got dict with 50 items \n",
      "2024-10-19 12:52:47,588 - AInewsbot - INFO - got dict with 42 items \n",
      "2024-10-19 12:52:48,220 - AInewsbot - INFO - got dict with 50 items \n",
      "2024-10-19 12:52:48,222 - AInewsbot - INFO - Processed 142 responses.\n",
      "2024-10-19 12:52:48,222 - AInewsbot - INFO - Politics, topic 67 of 100\n",
      "2024-10-19 12:52:48,222 - AInewsbot - INFO - Applying prompt to 3 pages using gpt-4o-mini\n",
      "2024-10-19 12:52:48,223 - AInewsbot - INFO - sent 50 items \n",
      "2024-10-19 12:52:48,224 - AInewsbot - INFO - sent 50 items \n",
      "2024-10-19 12:52:48,227 - AInewsbot - INFO - sent 42 items \n",
      "2024-10-19 12:52:51,480 - AInewsbot - INFO - got dict with 42 items \n",
      "2024-10-19 12:52:51,849 - AInewsbot - INFO - got dict with 50 items \n",
      "2024-10-19 12:52:52,006 - AInewsbot - INFO - got dict with 50 items \n",
      "2024-10-19 12:52:52,008 - AInewsbot - INFO - Processed 142 responses.\n",
      "2024-10-19 12:52:52,008 - AInewsbot - INFO - Privacy, topic 68 of 100\n",
      "2024-10-19 12:52:52,009 - AInewsbot - INFO - Applying prompt to 3 pages using gpt-4o-mini\n",
      "2024-10-19 12:52:52,010 - AInewsbot - INFO - sent 50 items \n",
      "2024-10-19 12:52:52,011 - AInewsbot - INFO - sent 50 items \n",
      "2024-10-19 12:52:52,012 - AInewsbot - INFO - sent 42 items \n",
      "2024-10-19 12:52:54,890 - AInewsbot - INFO - got dict with 42 items \n",
      "2024-10-19 12:52:55,607 - AInewsbot - INFO - got dict with 50 items \n",
      "2024-10-19 12:52:55,630 - AInewsbot - INFO - got dict with 50 items \n",
      "2024-10-19 12:52:55,632 - AInewsbot - INFO - Processed 142 responses.\n",
      "2024-10-19 12:52:55,632 - AInewsbot - INFO - Privacy & Surveillance, topic 69 of 100\n",
      "2024-10-19 12:52:55,633 - AInewsbot - INFO - Applying prompt to 3 pages using gpt-4o-mini\n",
      "2024-10-19 12:52:55,634 - AInewsbot - INFO - sent 50 items \n",
      "2024-10-19 12:52:55,636 - AInewsbot - INFO - sent 50 items \n",
      "2024-10-19 12:52:55,636 - AInewsbot - INFO - sent 42 items \n",
      "2024-10-19 12:52:59,262 - AInewsbot - INFO - got dict with 42 items \n",
      "2024-10-19 12:52:59,488 - AInewsbot - INFO - got dict with 50 items \n",
      "2024-10-19 12:52:59,512 - AInewsbot - INFO - got dict with 50 items \n",
      "2024-10-19 12:52:59,514 - AInewsbot - INFO - Processed 142 responses.\n",
      "2024-10-19 12:52:59,514 - AInewsbot - INFO - Products, topic 70 of 100\n",
      "2024-10-19 12:52:59,515 - AInewsbot - INFO - Applying prompt to 3 pages using gpt-4o-mini\n",
      "2024-10-19 12:52:59,515 - AInewsbot - INFO - sent 50 items \n",
      "2024-10-19 12:52:59,516 - AInewsbot - INFO - sent 50 items \n",
      "2024-10-19 12:52:59,517 - AInewsbot - INFO - sent 42 items \n",
      "2024-10-19 12:53:02,571 - AInewsbot - INFO - got dict with 42 items \n",
      "2024-10-19 12:53:02,696 - AInewsbot - INFO - got dict with 50 items \n",
      "2024-10-19 12:53:02,962 - AInewsbot - INFO - got dict with 50 items \n",
      "2024-10-19 12:53:02,963 - AInewsbot - INFO - Processed 142 responses.\n",
      "2024-10-19 12:53:02,964 - AInewsbot - INFO - Quantum Computing, topic 71 of 100\n",
      "2024-10-19 12:53:02,965 - AInewsbot - INFO - Applying prompt to 3 pages using gpt-4o-mini\n",
      "2024-10-19 12:53:02,966 - AInewsbot - INFO - sent 50 items \n",
      "2024-10-19 12:53:02,968 - AInewsbot - INFO - sent 50 items \n",
      "2024-10-19 12:53:02,969 - AInewsbot - INFO - sent 42 items \n",
      "2024-10-19 12:53:06,117 - AInewsbot - INFO - got dict with 42 items \n",
      "2024-10-19 12:53:06,769 - AInewsbot - INFO - got dict with 50 items \n",
      "2024-10-19 12:53:06,771 - AInewsbot - INFO - got dict with 50 items \n",
      "2024-10-19 12:53:06,774 - AInewsbot - INFO - Processed 142 responses.\n",
      "2024-10-19 12:53:06,775 - AInewsbot - INFO - Recommendation systems, topic 72 of 100\n",
      "2024-10-19 12:53:06,775 - AInewsbot - INFO - Applying prompt to 3 pages using gpt-4o-mini\n",
      "2024-10-19 12:53:06,776 - AInewsbot - INFO - sent 50 items \n",
      "2024-10-19 12:53:06,778 - AInewsbot - INFO - sent 50 items \n",
      "2024-10-19 12:53:06,779 - AInewsbot - INFO - sent 42 items \n",
      "2024-10-19 12:53:10,455 - AInewsbot - INFO - got dict with 42 items \n",
      "2024-10-19 12:53:10,612 - AInewsbot - INFO - got dict with 50 items \n",
      "2024-10-19 12:53:10,740 - AInewsbot - INFO - got dict with 50 items \n",
      "2024-10-19 12:53:10,742 - AInewsbot - INFO - Processed 142 responses.\n",
      "2024-10-19 12:53:10,742 - AInewsbot - INFO - Reinforcement Learning, topic 73 of 100\n",
      "2024-10-19 12:53:10,743 - AInewsbot - INFO - Applying prompt to 3 pages using gpt-4o-mini\n",
      "2024-10-19 12:53:10,744 - AInewsbot - INFO - sent 50 items \n",
      "2024-10-19 12:53:10,745 - AInewsbot - INFO - sent 50 items \n",
      "2024-10-19 12:53:10,746 - AInewsbot - INFO - sent 42 items \n",
      "2024-10-19 12:53:13,898 - AInewsbot - INFO - got dict with 42 items \n",
      "2024-10-19 12:53:13,986 - AInewsbot - INFO - got dict with 50 items \n",
      "2024-10-19 12:53:14,137 - AInewsbot - INFO - got dict with 50 items \n",
      "2024-10-19 12:53:14,139 - AInewsbot - INFO - Processed 142 responses.\n",
      "2024-10-19 12:53:14,140 - AInewsbot - INFO - Retrieval Augmented Generation, topic 74 of 100\n",
      "2024-10-19 12:53:14,141 - AInewsbot - INFO - Applying prompt to 3 pages using gpt-4o-mini\n",
      "2024-10-19 12:53:14,142 - AInewsbot - INFO - sent 50 items \n",
      "2024-10-19 12:53:14,142 - AInewsbot - INFO - sent 50 items \n",
      "2024-10-19 12:53:14,143 - AInewsbot - INFO - sent 42 items \n",
      "2024-10-19 12:53:17,077 - AInewsbot - INFO - got dict with 42 items \n",
      "2024-10-19 12:53:17,521 - AInewsbot - INFO - got dict with 50 items \n",
      "2024-10-19 12:53:17,524 - AInewsbot - INFO - got dict with 50 items \n",
      "2024-10-19 12:53:17,526 - AInewsbot - INFO - Processed 142 responses.\n",
      "2024-10-19 12:53:17,526 - AInewsbot - INFO - Review, topic 75 of 100\n",
      "2024-10-19 12:53:17,527 - AInewsbot - INFO - Applying prompt to 3 pages using gpt-4o-mini\n",
      "2024-10-19 12:53:17,528 - AInewsbot - INFO - sent 50 items \n",
      "2024-10-19 12:53:17,529 - AInewsbot - INFO - sent 50 items \n",
      "2024-10-19 12:53:17,530 - AInewsbot - INFO - sent 42 items \n",
      "2024-10-19 12:53:20,696 - AInewsbot - INFO - got dict with 42 items \n",
      "2024-10-19 12:53:20,730 - AInewsbot - INFO - got dict with 50 items \n",
      "2024-10-19 12:53:20,885 - AInewsbot - INFO - got dict with 50 items \n",
      "2024-10-19 12:53:20,888 - AInewsbot - INFO - Processed 142 responses.\n",
      "2024-10-19 12:53:20,889 - AInewsbot - INFO - Robots, topic 76 of 100\n",
      "2024-10-19 12:53:20,889 - AInewsbot - INFO - Applying prompt to 3 pages using gpt-4o-mini\n",
      "2024-10-19 12:53:20,890 - AInewsbot - INFO - sent 50 items \n",
      "2024-10-19 12:53:20,891 - AInewsbot - INFO - sent 50 items \n",
      "2024-10-19 12:53:20,892 - AInewsbot - INFO - sent 42 items \n",
      "2024-10-19 12:53:24,383 - AInewsbot - INFO - got dict with 42 items \n",
      "2024-10-19 12:53:24,439 - AInewsbot - INFO - got dict with 50 items \n",
      "2024-10-19 12:53:24,484 - AInewsbot - INFO - got dict with 50 items \n",
      "2024-10-19 12:53:24,486 - AInewsbot - INFO - Processed 142 responses.\n",
      "2024-10-19 12:53:24,487 - AInewsbot - INFO - Russia, topic 77 of 100\n",
      "2024-10-19 12:53:24,488 - AInewsbot - INFO - Applying prompt to 3 pages using gpt-4o-mini\n",
      "2024-10-19 12:53:24,489 - AInewsbot - INFO - sent 50 items \n",
      "2024-10-19 12:53:24,490 - AInewsbot - INFO - sent 50 items \n"
     ]
    },
    {
     "name": "stderr",
     "output_type": "stream",
     "text": [
      "2024-10-19 12:53:24,492 - AInewsbot - INFO - sent 42 items \n",
      "2024-10-19 12:53:27,854 - AInewsbot - INFO - got dict with 42 items \n",
      "2024-10-19 12:53:28,557 - AInewsbot - INFO - got dict with 50 items \n",
      "2024-10-19 12:53:28,699 - AInewsbot - INFO - got dict with 50 items \n",
      "2024-10-19 12:53:28,701 - AInewsbot - INFO - Processed 142 responses.\n",
      "2024-10-19 12:53:28,701 - AInewsbot - INFO - Safety and Alignment, topic 78 of 100\n",
      "2024-10-19 12:53:28,702 - AInewsbot - INFO - Applying prompt to 3 pages using gpt-4o-mini\n",
      "2024-10-19 12:53:28,703 - AInewsbot - INFO - sent 50 items \n",
      "2024-10-19 12:53:28,704 - AInewsbot - INFO - sent 50 items \n",
      "2024-10-19 12:53:28,706 - AInewsbot - INFO - sent 42 items \n",
      "2024-10-19 12:53:31,656 - AInewsbot - INFO - got dict with 42 items \n",
      "2024-10-19 12:53:32,063 - AInewsbot - INFO - got dict with 50 items \n",
      "2024-10-19 12:53:32,066 - AInewsbot - INFO - got dict with 50 items \n",
      "2024-10-19 12:53:32,070 - AInewsbot - INFO - Processed 142 responses.\n",
      "2024-10-19 12:53:32,071 - AInewsbot - INFO - Scams, topic 79 of 100\n",
      "2024-10-19 12:53:32,072 - AInewsbot - INFO - Applying prompt to 3 pages using gpt-4o-mini\n",
      "2024-10-19 12:53:32,076 - AInewsbot - INFO - sent 50 items \n",
      "2024-10-19 12:53:32,078 - AInewsbot - INFO - sent 50 items \n",
      "2024-10-19 12:53:32,078 - AInewsbot - INFO - sent 42 items \n",
      "2024-10-19 12:53:35,238 - AInewsbot - INFO - got dict with 50 items \n",
      "2024-10-19 12:53:35,261 - AInewsbot - INFO - got dict with 42 items \n",
      "2024-10-19 12:53:36,301 - AInewsbot - INFO - got dict with 50 items \n",
      "2024-10-19 12:53:36,303 - AInewsbot - INFO - Processed 142 responses.\n",
      "2024-10-19 12:53:36,303 - AInewsbot - INFO - Science, topic 80 of 100\n",
      "2024-10-19 12:53:36,303 - AInewsbot - INFO - Applying prompt to 3 pages using gpt-4o-mini\n",
      "2024-10-19 12:53:36,304 - AInewsbot - INFO - sent 50 items \n",
      "2024-10-19 12:53:36,306 - AInewsbot - INFO - sent 50 items \n",
      "2024-10-19 12:53:36,307 - AInewsbot - INFO - sent 42 items \n",
      "2024-10-19 12:53:39,436 - AInewsbot - INFO - got dict with 42 items \n",
      "2024-10-19 12:53:39,947 - AInewsbot - INFO - got dict with 50 items \n",
      "2024-10-19 12:53:39,956 - AInewsbot - INFO - got dict with 50 items \n",
      "2024-10-19 12:53:39,959 - AInewsbot - INFO - Processed 142 responses.\n",
      "2024-10-19 12:53:39,959 - AInewsbot - INFO - Semiconductor Chips, topic 81 of 100\n",
      "2024-10-19 12:53:39,960 - AInewsbot - INFO - Applying prompt to 3 pages using gpt-4o-mini\n",
      "2024-10-19 12:53:39,961 - AInewsbot - INFO - sent 50 items \n",
      "2024-10-19 12:53:39,962 - AInewsbot - INFO - sent 50 items \n",
      "2024-10-19 12:53:39,962 - AInewsbot - INFO - sent 42 items \n",
      "2024-10-19 12:53:43,272 - AInewsbot - INFO - got dict with 42 items \n",
      "2024-10-19 12:53:43,504 - AInewsbot - INFO - got dict with 50 items \n",
      "2024-10-19 12:53:43,600 - AInewsbot - INFO - got dict with 50 items \n",
      "2024-10-19 12:53:43,602 - AInewsbot - INFO - Processed 142 responses.\n",
      "2024-10-19 12:53:43,603 - AInewsbot - INFO - Singularity, topic 82 of 100\n",
      "2024-10-19 12:53:43,603 - AInewsbot - INFO - Applying prompt to 3 pages using gpt-4o-mini\n",
      "2024-10-19 12:53:43,604 - AInewsbot - INFO - sent 50 items \n",
      "2024-10-19 12:53:43,605 - AInewsbot - INFO - sent 50 items \n",
      "2024-10-19 12:53:43,606 - AInewsbot - INFO - sent 42 items \n",
      "2024-10-19 12:53:46,659 - AInewsbot - INFO - got dict with 42 items \n",
      "2024-10-19 12:53:47,115 - AInewsbot - INFO - got dict with 50 items \n",
      "2024-10-19 12:53:47,226 - AInewsbot - INFO - got dict with 50 items \n",
      "2024-10-19 12:53:47,229 - AInewsbot - INFO - Processed 142 responses.\n",
      "2024-10-19 12:53:47,230 - AInewsbot - INFO - Smart grid, topic 83 of 100\n",
      "2024-10-19 12:53:47,231 - AInewsbot - INFO - Applying prompt to 3 pages using gpt-4o-mini\n",
      "2024-10-19 12:53:47,232 - AInewsbot - INFO - sent 50 items \n",
      "2024-10-19 12:53:47,233 - AInewsbot - INFO - sent 50 items \n",
      "2024-10-19 12:53:47,233 - AInewsbot - INFO - sent 42 items \n",
      "2024-10-19 12:53:50,188 - AInewsbot - INFO - got dict with 42 items \n",
      "2024-10-19 12:53:50,405 - AInewsbot - INFO - got dict with 50 items \n",
      "2024-10-19 12:53:50,494 - AInewsbot - INFO - got dict with 50 items \n",
      "2024-10-19 12:53:50,497 - AInewsbot - INFO - Processed 142 responses.\n",
      "2024-10-19 12:53:50,498 - AInewsbot - INFO - Society & Culture, topic 84 of 100\n",
      "2024-10-19 12:53:50,499 - AInewsbot - INFO - Applying prompt to 3 pages using gpt-4o-mini\n",
      "2024-10-19 12:53:50,500 - AInewsbot - INFO - sent 50 items \n",
      "2024-10-19 12:53:50,501 - AInewsbot - INFO - sent 50 items \n",
      "2024-10-19 12:53:50,502 - AInewsbot - INFO - sent 42 items \n",
      "2024-10-19 12:53:53,535 - AInewsbot - INFO - got dict with 42 items \n",
      "2024-10-19 12:53:53,874 - AInewsbot - INFO - got dict with 50 items \n",
      "2024-10-19 12:53:53,994 - AInewsbot - INFO - got dict with 50 items \n",
      "2024-10-19 12:53:53,997 - AInewsbot - INFO - Processed 142 responses.\n",
      "2024-10-19 12:53:53,998 - AInewsbot - INFO - Speech Recognition & Synthesis, topic 85 of 100\n",
      "2024-10-19 12:53:53,999 - AInewsbot - INFO - Applying prompt to 3 pages using gpt-4o-mini\n",
      "2024-10-19 12:53:54,000 - AInewsbot - INFO - sent 50 items \n",
      "2024-10-19 12:53:54,002 - AInewsbot - INFO - sent 50 items \n",
      "2024-10-19 12:53:54,003 - AInewsbot - INFO - sent 42 items \n",
      "2024-10-19 12:53:57,161 - AInewsbot - INFO - got dict with 42 items \n",
      "2024-10-19 12:53:57,664 - AInewsbot - INFO - got dict with 50 items \n",
      "2024-10-19 12:53:57,666 - AInewsbot - INFO - got dict with 50 items \n",
      "2024-10-19 12:53:57,667 - AInewsbot - INFO - Processed 142 responses.\n",
      "2024-10-19 12:53:57,668 - AInewsbot - INFO - Sports, topic 86 of 100\n",
      "2024-10-19 12:53:57,669 - AInewsbot - INFO - Applying prompt to 3 pages using gpt-4o-mini\n",
      "2024-10-19 12:53:57,670 - AInewsbot - INFO - sent 50 items \n",
      "2024-10-19 12:53:57,671 - AInewsbot - INFO - sent 50 items \n",
      "2024-10-19 12:53:57,672 - AInewsbot - INFO - sent 42 items \n",
      "2024-10-19 12:54:00,531 - AInewsbot - INFO - got dict with 42 items \n",
      "2024-10-19 12:54:01,006 - AInewsbot - INFO - got dict with 50 items \n",
      "2024-10-19 12:54:01,555 - AInewsbot - INFO - got dict with 50 items \n",
      "2024-10-19 12:54:01,558 - AInewsbot - INFO - Processed 142 responses.\n",
      "2024-10-19 12:54:01,560 - AInewsbot - INFO - Stocks, topic 87 of 100\n",
      "2024-10-19 12:54:01,561 - AInewsbot - INFO - Applying prompt to 3 pages using gpt-4o-mini\n",
      "2024-10-19 12:54:01,561 - AInewsbot - INFO - sent 50 items \n",
      "2024-10-19 12:54:01,562 - AInewsbot - INFO - sent 50 items \n",
      "2024-10-19 12:54:01,563 - AInewsbot - INFO - sent 42 items \n",
      "2024-10-19 12:54:04,935 - AInewsbot - INFO - got dict with 42 items \n",
      "2024-10-19 12:54:05,202 - AInewsbot - INFO - got dict with 50 items \n",
      "2024-10-19 12:54:05,259 - AInewsbot - INFO - got dict with 50 items \n",
      "2024-10-19 12:54:05,262 - AInewsbot - INFO - Processed 142 responses.\n",
      "2024-10-19 12:54:05,263 - AInewsbot - INFO - Streaming, topic 88 of 100\n",
      "2024-10-19 12:54:05,264 - AInewsbot - INFO - Applying prompt to 3 pages using gpt-4o-mini\n",
      "2024-10-19 12:54:05,265 - AInewsbot - INFO - sent 50 items \n",
      "2024-10-19 12:54:05,265 - AInewsbot - INFO - sent 50 items \n",
      "2024-10-19 12:54:05,266 - AInewsbot - INFO - sent 42 items \n",
      "2024-10-19 12:54:07,904 - AInewsbot - INFO - got dict with 42 items \n",
      "2024-10-19 12:54:08,223 - AInewsbot - INFO - got dict with 50 items \n",
      "2024-10-19 12:54:08,656 - AInewsbot - INFO - got dict with 50 items \n",
      "2024-10-19 12:54:08,658 - AInewsbot - INFO - Processed 142 responses.\n",
      "2024-10-19 12:54:08,659 - AInewsbot - INFO - Supply chain optimization, topic 89 of 100\n",
      "2024-10-19 12:54:08,660 - AInewsbot - INFO - Applying prompt to 3 pages using gpt-4o-mini\n",
      "2024-10-19 12:54:08,661 - AInewsbot - INFO - sent 50 items \n",
      "2024-10-19 12:54:08,662 - AInewsbot - INFO - sent 50 items \n",
      "2024-10-19 12:54:08,663 - AInewsbot - INFO - sent 42 items \n",
      "2024-10-19 12:54:12,514 - AInewsbot - INFO - got dict with 42 items \n",
      "2024-10-19 12:54:12,517 - AInewsbot - INFO - got dict with 50 items \n",
      "2024-10-19 12:54:12,680 - AInewsbot - INFO - got dict with 50 items \n",
      "2024-10-19 12:54:12,684 - AInewsbot - INFO - Processed 142 responses.\n",
      "2024-10-19 12:54:12,687 - AInewsbot - INFO - Sustainability, topic 90 of 100\n",
      "2024-10-19 12:54:12,687 - AInewsbot - INFO - Applying prompt to 3 pages using gpt-4o-mini\n",
      "2024-10-19 12:54:12,688 - AInewsbot - INFO - sent 50 items \n",
      "2024-10-19 12:54:12,689 - AInewsbot - INFO - sent 50 items \n",
      "2024-10-19 12:54:12,690 - AInewsbot - INFO - sent 42 items \n",
      "2024-10-19 12:54:16,405 - AInewsbot - INFO - got dict with 42 items \n"
     ]
    },
    {
     "name": "stderr",
     "output_type": "stream",
     "text": [
      "2024-10-19 12:54:17,019 - AInewsbot - INFO - got dict with 50 items \n",
      "2024-10-19 12:54:17,381 - AInewsbot - INFO - got dict with 50 items \n",
      "2024-10-19 12:54:17,383 - AInewsbot - INFO - Processed 142 responses.\n",
      "2024-10-19 12:54:17,384 - AInewsbot - INFO - TV & Film & Movies, topic 91 of 100\n",
      "2024-10-19 12:54:17,385 - AInewsbot - INFO - Applying prompt to 3 pages using gpt-4o-mini\n",
      "2024-10-19 12:54:17,389 - AInewsbot - INFO - sent 50 items \n",
      "2024-10-19 12:54:17,392 - AInewsbot - INFO - sent 50 items \n",
      "2024-10-19 12:54:17,395 - AInewsbot - INFO - sent 42 items \n",
      "2024-10-19 12:54:20,541 - AInewsbot - INFO - got dict with 50 items \n",
      "2024-10-19 12:54:20,629 - AInewsbot - INFO - got dict with 42 items \n",
      "2024-10-19 12:54:20,910 - AInewsbot - INFO - got dict with 50 items \n",
      "2024-10-19 12:54:20,915 - AInewsbot - INFO - Processed 142 responses.\n",
      "2024-10-19 12:54:20,915 - AInewsbot - INFO - Taiwan, topic 92 of 100\n",
      "2024-10-19 12:54:20,916 - AInewsbot - INFO - Applying prompt to 3 pages using gpt-4o-mini\n",
      "2024-10-19 12:54:20,916 - AInewsbot - INFO - sent 50 items \n",
      "2024-10-19 12:54:20,917 - AInewsbot - INFO - sent 50 items \n",
      "2024-10-19 12:54:20,918 - AInewsbot - INFO - sent 42 items \n",
      "2024-10-19 12:54:23,981 - AInewsbot - INFO - got dict with 42 items \n",
      "2024-10-19 12:54:24,698 - AInewsbot - INFO - got dict with 50 items \n",
      "2024-10-19 12:54:24,704 - AInewsbot - INFO - got dict with 50 items \n",
      "2024-10-19 12:54:24,707 - AInewsbot - INFO - Processed 142 responses.\n",
      "2024-10-19 12:54:24,709 - AInewsbot - INFO - Testing, topic 93 of 100\n",
      "2024-10-19 12:54:24,709 - AInewsbot - INFO - Applying prompt to 3 pages using gpt-4o-mini\n",
      "2024-10-19 12:54:24,712 - AInewsbot - INFO - sent 50 items \n",
      "2024-10-19 12:54:24,714 - AInewsbot - INFO - sent 50 items \n",
      "2024-10-19 12:54:24,715 - AInewsbot - INFO - sent 42 items \n",
      "2024-10-19 12:54:28,158 - AInewsbot - INFO - got dict with 42 items \n",
      "2024-10-19 12:54:28,232 - AInewsbot - INFO - got dict with 50 items \n",
      "2024-10-19 12:54:28,274 - AInewsbot - INFO - got dict with 50 items \n",
      "2024-10-19 12:54:28,276 - AInewsbot - INFO - Processed 142 responses.\n",
      "2024-10-19 12:54:28,277 - AInewsbot - INFO - Transformers, topic 94 of 100\n",
      "2024-10-19 12:54:28,277 - AInewsbot - INFO - Applying prompt to 3 pages using gpt-4o-mini\n",
      "2024-10-19 12:54:28,278 - AInewsbot - INFO - sent 50 items \n",
      "2024-10-19 12:54:28,280 - AInewsbot - INFO - sent 50 items \n",
      "2024-10-19 12:54:28,281 - AInewsbot - INFO - sent 42 items \n",
      "2024-10-19 12:54:31,537 - AInewsbot - INFO - got dict with 42 items \n",
      "2024-10-19 12:54:31,866 - AInewsbot - INFO - got dict with 50 items \n",
      "2024-10-19 12:54:32,174 - AInewsbot - INFO - got dict with 50 items \n",
      "2024-10-19 12:54:32,176 - AInewsbot - INFO - Processed 142 responses.\n",
      "2024-10-19 12:54:32,176 - AInewsbot - INFO - Transportation, topic 95 of 100\n",
      "2024-10-19 12:54:32,177 - AInewsbot - INFO - Applying prompt to 3 pages using gpt-4o-mini\n",
      "2024-10-19 12:54:32,178 - AInewsbot - INFO - sent 50 items \n",
      "2024-10-19 12:54:32,180 - AInewsbot - INFO - sent 50 items \n",
      "2024-10-19 12:54:32,181 - AInewsbot - INFO - sent 42 items \n",
      "2024-10-19 12:54:35,860 - AInewsbot - INFO - got dict with 50 items \n",
      "2024-10-19 12:54:35,867 - AInewsbot - INFO - got dict with 42 items \n",
      "2024-10-19 12:54:35,884 - AInewsbot - INFO - got dict with 50 items \n",
      "2024-10-19 12:54:35,886 - AInewsbot - INFO - Processed 142 responses.\n",
      "2024-10-19 12:54:35,886 - AInewsbot - INFO - Travel, topic 96 of 100\n",
      "2024-10-19 12:54:35,887 - AInewsbot - INFO - Applying prompt to 3 pages using gpt-4o-mini\n",
      "2024-10-19 12:54:35,888 - AInewsbot - INFO - sent 50 items \n",
      "2024-10-19 12:54:35,889 - AInewsbot - INFO - sent 50 items \n",
      "2024-10-19 12:54:35,891 - AInewsbot - INFO - sent 42 items \n",
      "2024-10-19 12:54:39,113 - AInewsbot - INFO - got dict with 42 items \n",
      "2024-10-19 12:54:39,539 - AInewsbot - INFO - got dict with 50 items \n",
      "2024-10-19 12:54:39,555 - AInewsbot - INFO - got dict with 50 items \n",
      "2024-10-19 12:54:39,559 - AInewsbot - INFO - Processed 142 responses.\n",
      "2024-10-19 12:54:39,559 - AInewsbot - INFO - UK, topic 97 of 100\n",
      "2024-10-19 12:54:39,561 - AInewsbot - INFO - Applying prompt to 3 pages using gpt-4o-mini\n",
      "2024-10-19 12:54:39,562 - AInewsbot - INFO - sent 50 items \n",
      "2024-10-19 12:54:39,563 - AInewsbot - INFO - sent 50 items \n",
      "2024-10-19 12:54:39,565 - AInewsbot - INFO - sent 42 items \n",
      "2024-10-19 12:54:42,721 - AInewsbot - INFO - got dict with 42 items \n",
      "2024-10-19 12:54:43,029 - AInewsbot - INFO - got dict with 50 items \n",
      "2024-10-19 12:54:43,256 - AInewsbot - INFO - got dict with 50 items \n",
      "2024-10-19 12:54:43,259 - AInewsbot - INFO - Processed 142 responses.\n",
      "2024-10-19 12:54:43,260 - AInewsbot - INFO - Venture Capital, topic 98 of 100\n",
      "2024-10-19 12:54:43,261 - AInewsbot - INFO - Applying prompt to 3 pages using gpt-4o-mini\n",
      "2024-10-19 12:54:43,262 - AInewsbot - INFO - sent 50 items \n",
      "2024-10-19 12:54:43,264 - AInewsbot - INFO - sent 50 items \n",
      "2024-10-19 12:54:43,266 - AInewsbot - INFO - sent 42 items \n",
      "2024-10-19 12:54:46,486 - AInewsbot - INFO - got dict with 42 items \n",
      "2024-10-19 12:54:46,533 - AInewsbot - INFO - got dict with 50 items \n",
      "2024-10-19 12:54:47,023 - AInewsbot - INFO - got dict with 50 items \n",
      "2024-10-19 12:54:47,025 - AInewsbot - INFO - Processed 142 responses.\n",
      "2024-10-19 12:54:47,026 - AInewsbot - INFO - Virtual & Augmented Reality, topic 99 of 100\n",
      "2024-10-19 12:54:47,027 - AInewsbot - INFO - Applying prompt to 3 pages using gpt-4o-mini\n",
      "2024-10-19 12:54:47,028 - AInewsbot - INFO - sent 50 items \n",
      "2024-10-19 12:54:47,030 - AInewsbot - INFO - sent 50 items \n",
      "2024-10-19 12:54:47,031 - AInewsbot - INFO - sent 42 items \n",
      "2024-10-19 12:54:49,889 - AInewsbot - INFO - got dict with 42 items \n",
      "2024-10-19 12:54:50,270 - AInewsbot - INFO - got dict with 50 items \n",
      "2024-10-19 12:54:50,366 - AInewsbot - INFO - got dict with 50 items \n",
      "2024-10-19 12:54:50,369 - AInewsbot - INFO - Processed 142 responses.\n",
      "2024-10-19 12:54:50,370 - AInewsbot - INFO - Virtual Assistants, topic 100 of 100\n",
      "2024-10-19 12:54:50,370 - AInewsbot - INFO - Applying prompt to 3 pages using gpt-4o-mini\n",
      "2024-10-19 12:54:50,371 - AInewsbot - INFO - sent 50 items \n",
      "2024-10-19 12:54:50,373 - AInewsbot - INFO - sent 50 items \n",
      "2024-10-19 12:54:50,375 - AInewsbot - INFO - sent 42 items \n",
      "2024-10-19 12:54:54,137 - AInewsbot - INFO - got dict with 42 items \n",
      "2024-10-19 12:54:54,242 - AInewsbot - INFO - got dict with 50 items \n",
      "2024-10-19 12:54:54,592 - AInewsbot - INFO - got dict with 50 items \n",
      "2024-10-19 12:54:54,594 - AInewsbot - INFO - Processed 142 responses.\n",
      "2024-10-19 12:54:54,595 - AInewsbot - INFO - end canonical topic classification\n"
     ]
    }
   ],
   "source": [
    "state = lg_agent.topic_analysis(state)\n"
   ]
  },
  {
   "cell_type": "code",
   "execution_count": 45,
   "id": "bd91c263",
   "metadata": {},
   "outputs": [
    {
     "name": "stderr",
     "output_type": "stream",
     "text": [
      "2024-10-19 12:54:54,618 - AInewsbot - INFO - Fetching embeddings for 142 headlines\n",
      "2024-10-19 12:54:55,301 - httpx - INFO - HTTP Request: POST https://api.openai.com/v1/embeddings \"HTTP/1.1 200 OK\"\n",
      "2024-10-19 12:54:55,719 - AInewsbot - INFO - Sort with nearest_neighbor_sort sort\n",
      "2024-10-19 12:54:55,752 - AInewsbot - INFO - Load umap dimensionality reduction model\n",
      "2024-10-19 12:54:57,125 - AInewsbot - INFO - Perform dimensionality reduction\n",
      "2024-10-19 12:54:58,604 - AInewsbot - INFO - Cluster with DBSCAN\n"
     ]
    },
    {
     "data": {
      "text/html": [
       "<div>\n",
       "<style scoped>\n",
       "    .dataframe tbody tr th:only-of-type {\n",
       "        vertical-align: middle;\n",
       "    }\n",
       "\n",
       "    .dataframe tbody tr th {\n",
       "        vertical-align: top;\n",
       "    }\n",
       "\n",
       "    .dataframe thead th {\n",
       "        text-align: right;\n",
       "    }\n",
       "</style>\n",
       "<table border=\"1\" class=\"dataframe\">\n",
       "  <thead>\n",
       "    <tr style=\"text-align: right;\">\n",
       "      <th></th>\n",
       "      <th>id</th>\n",
       "      <th>title_topic_str</th>\n",
       "    </tr>\n",
       "  </thead>\n",
       "  <tbody>\n",
       "    <tr>\n",
       "      <th>0</th>\n",
       "      <td>0</td>\n",
       "      <td>4 ways AI could negatively impact the 2024 election (Topics: 2024 Election, AI Doom, Bias And Fairness, Disinformation, Ethics, Gen AI, Governance, Negative Impact, Opinion, Politics, Safety And Alignment)</td>\n",
       "    </tr>\n",
       "    <tr>\n",
       "      <th>1</th>\n",
       "      <td>1</td>\n",
       "      <td>The Pentagon Wants to Flood Social Media With Fake AI People (Topics: AI Doom, Bias And Fairness, Deepfakes, Disinformation, Ethics, Fake Personas, Gen AI, Governance, Military, Pentagon, Politics, Privacy, Privacy &amp; Surveillance, Social Media)</td>\n",
       "    </tr>\n",
       "    <tr>\n",
       "      <th>2</th>\n",
       "      <td>2</td>\n",
       "      <td>Washington Journal: Cat Zakrzewski Discusses Artificial intelligence &amp; Campaign 2024 (Topics: Campaign 2024, Cat Zakrzewski, Gen AI, Governance, Opinion, Politics, Washington Journal)</td>\n",
       "    </tr>\n",
       "  </tbody>\n",
       "</table>\n",
       "</div>"
      ],
      "text/plain": [
       "   id  \\\n",
       "0   0   \n",
       "1   1   \n",
       "2   2   \n",
       "\n",
       "                                                                                                                                                                                                                                        title_topic_str  \n",
       "0                                         4 ways AI could negatively impact the 2024 election (Topics: 2024 Election, AI Doom, Bias And Fairness, Disinformation, Ethics, Gen AI, Governance, Negative Impact, Opinion, Politics, Safety And Alignment)  \n",
       "1  The Pentagon Wants to Flood Social Media With Fake AI People (Topics: AI Doom, Bias And Fairness, Deepfakes, Disinformation, Ethics, Fake Personas, Gen AI, Governance, Military, Pentagon, Politics, Privacy, Privacy & Surveillance, Social Media)  \n",
       "2                                                               Washington Journal: Cat Zakrzewski Discusses Artificial intelligence & Campaign 2024 (Topics: Campaign 2024, Cat Zakrzewski, Gen AI, Governance, Opinion, Politics, Washington Journal)  "
      ]
     },
     "metadata": {},
     "output_type": "display_data"
    },
    {
     "name": "stderr",
     "output_type": "stream",
     "text": [
      "2024-10-19 12:54:59,256 - AInewsbot - INFO - {'topic_title': 'AI Impact on Politics and Elections'}\n",
      "2024-10-19 12:54:59,257 - AInewsbot - INFO - I dub this cluster: AI Impact on Politics and Elections\n"
     ]
    },
    {
     "data": {
      "text/html": [
       "<div>\n",
       "<style scoped>\n",
       "    .dataframe tbody tr th:only-of-type {\n",
       "        vertical-align: middle;\n",
       "    }\n",
       "\n",
       "    .dataframe tbody tr th {\n",
       "        vertical-align: top;\n",
       "    }\n",
       "\n",
       "    .dataframe thead th {\n",
       "        text-align: right;\n",
       "    }\n",
       "</style>\n",
       "<table border=\"1\" class=\"dataframe\">\n",
       "  <thead>\n",
       "    <tr style=\"text-align: right;\">\n",
       "      <th></th>\n",
       "      <th>id</th>\n",
       "      <th>title_topic_str</th>\n",
       "    </tr>\n",
       "  </thead>\n",
       "  <tbody>\n",
       "    <tr>\n",
       "      <th>3</th>\n",
       "      <td>3</td>\n",
       "      <td>Harris vs. Trump: Their Stance on AI and Cryptocurrency Regulations (Topics: Cryptocurrency, Economics, Ethics, Finance, Fintech, Gen AI, Governance, Harris, Job Automation, Legal Issues, Opinion, Policy And Regulation, Politics, Privacy, Privacy &amp; Surveillance, Regulations, Safety And Alignment, Trump)</td>\n",
       "    </tr>\n",
       "    <tr>\n",
       "      <th>4</th>\n",
       "      <td>4</td>\n",
       "      <td>Herbie Hancock on AI, Kamala Harris, and the Kendrick Lamar collab that never was (Topics: Art &amp; Design, Consciousness, Entertainment, Gen AI, Herbie Hancock, Kamala Harris, Kendrick Lamar, Music, Opinion, Politics, Society &amp; Culture)</td>\n",
       "    </tr>\n",
       "    <tr>\n",
       "      <th>5</th>\n",
       "      <td>5</td>\n",
       "      <td>AI, crypto and data privacy: Comparing Harris, Trump on technology regulation (Topics: Crypto, Cryptocurrency, Data Privacy, Ethics, Finance, Fintech, Gen AI, Governance, Harris, Legal Issues, Opinion, Policy And Regulation, Politics, Privacy, Privacy &amp; Surveillance, Safety And Alignment, Technology Regulation, Trump)</td>\n",
       "    </tr>\n",
       "  </tbody>\n",
       "</table>\n",
       "</div>"
      ],
      "text/plain": [
       "   id  \\\n",
       "3   3   \n",
       "4   4   \n",
       "5   5   \n",
       "\n",
       "                                                                                                                                                                                                                                                                                                                   title_topic_str  \n",
       "3                 Harris vs. Trump: Their Stance on AI and Cryptocurrency Regulations (Topics: Cryptocurrency, Economics, Ethics, Finance, Fintech, Gen AI, Governance, Harris, Job Automation, Legal Issues, Opinion, Policy And Regulation, Politics, Privacy, Privacy & Surveillance, Regulations, Safety And Alignment, Trump)  \n",
       "4                                                                                       Herbie Hancock on AI, Kamala Harris, and the Kendrick Lamar collab that never was (Topics: Art & Design, Consciousness, Entertainment, Gen AI, Herbie Hancock, Kamala Harris, Kendrick Lamar, Music, Opinion, Politics, Society & Culture)  \n",
       "5  AI, crypto and data privacy: Comparing Harris, Trump on technology regulation (Topics: Crypto, Cryptocurrency, Data Privacy, Ethics, Finance, Fintech, Gen AI, Governance, Harris, Legal Issues, Opinion, Policy And Regulation, Politics, Privacy, Privacy & Surveillance, Safety And Alignment, Technology Regulation, Trump)  "
      ]
     },
     "metadata": {},
     "output_type": "display_data"
    },
    {
     "name": "stderr",
     "output_type": "stream",
     "text": [
      "2024-10-19 12:54:59,925 - AInewsbot - INFO - {'topic_title': 'AI and Technology Regulation in Politics'}\n",
      "2024-10-19 12:54:59,926 - AInewsbot - INFO - I dub this cluster: AI and Technology Regulation in Politics\n"
     ]
    },
    {
     "data": {
      "text/html": [
       "<div>\n",
       "<style scoped>\n",
       "    .dataframe tbody tr th:only-of-type {\n",
       "        vertical-align: middle;\n",
       "    }\n",
       "\n",
       "    .dataframe tbody tr th {\n",
       "        vertical-align: top;\n",
       "    }\n",
       "\n",
       "    .dataframe thead th {\n",
       "        text-align: right;\n",
       "    }\n",
       "</style>\n",
       "<table border=\"1\" class=\"dataframe\">\n",
       "  <thead>\n",
       "    <tr style=\"text-align: right;\">\n",
       "      <th></th>\n",
       "      <th>id</th>\n",
       "      <th>title_topic_str</th>\n",
       "    </tr>\n",
       "  </thead>\n",
       "  <tbody>\n",
       "    <tr>\n",
       "      <th>6</th>\n",
       "      <td>6</td>\n",
       "      <td>AI Coding Showdown: Claude Sonnet vs ChatGPT vs OpenAI o1 - Who Wins? (Topics: Chatbots, Chatgpt, Claude Sonnet, Code Assistants, Coding, Competition, Gen AI, Language Models, OpenAI, Review)</td>\n",
       "    </tr>\n",
       "    <tr>\n",
       "      <th>7</th>\n",
       "      <td>7</td>\n",
       "      <td>Show HN: How to leverage Claude's capabilities with interactive visualization (Topics: Art &amp; Design, Chatbots, Claude, Code Assistants, Gen AI, Interactive Visualization, Language Models)</td>\n",
       "    </tr>\n",
       "    <tr>\n",
       "      <th>8</th>\n",
       "      <td>8</td>\n",
       "      <td>Claude AI: Unboxing Anthropics LLM-based AI Assistant, Artifacts &amp; Use Cases (Topics: AI Assistant, Chatbots, Claude AI, Code Assistants, Entertainment, Gen AI, Language Models, Llm, Products, Review, Science, Unboxing, Use Cases, Virtual Assistants)</td>\n",
       "    </tr>\n",
       "    <tr>\n",
       "      <th>9</th>\n",
       "      <td>9</td>\n",
       "      <td>Claude: Everything you need to know about Anthropics AI (Topics: Anthropic, Claude, Code Assistants, Gen AI, Language Models, Overview, Review, Science)</td>\n",
       "    </tr>\n",
       "    <tr>\n",
       "      <th>10</th>\n",
       "      <td>10</td>\n",
       "      <td>All System Prompts For Anthropics Claude , Revealed (Topics: Anthropic, Claude, Code Assistants, Gen AI, Language Models, Review, System Prompts)</td>\n",
       "    </tr>\n",
       "    <tr>\n",
       "      <th>11</th>\n",
       "      <td>11</td>\n",
       "      <td>Anthropic just announced major Claude AI update  heres everything thats new (Topics: Anthropic, Claude, Code Assistants, Gen AI, Language Models, Products, Review, Science, Update)</td>\n",
       "    </tr>\n",
       "  </tbody>\n",
       "</table>\n",
       "</div>"
      ],
      "text/plain": [
       "    id  \\\n",
       "6    6   \n",
       "7    7   \n",
       "8    8   \n",
       "9    9   \n",
       "10  10   \n",
       "11  11   \n",
       "\n",
       "                                                                                                                                                                                                                                               title_topic_str  \n",
       "6                                                              AI Coding Showdown: Claude Sonnet vs ChatGPT vs OpenAI o1 - Who Wins? (Topics: Chatbots, Chatgpt, Claude Sonnet, Code Assistants, Coding, Competition, Gen AI, Language Models, OpenAI, Review)  \n",
       "7                                                                  Show HN: How to leverage Claude's capabilities with interactive visualization (Topics: Art & Design, Chatbots, Claude, Code Assistants, Gen AI, Interactive Visualization, Language Models)  \n",
       "8   Claude AI: Unboxing Anthropics LLM-based AI Assistant, Artifacts & Use Cases (Topics: AI Assistant, Chatbots, Claude AI, Code Assistants, Entertainment, Gen AI, Language Models, Llm, Products, Review, Science, Unboxing, Use Cases, Virtual Assistants)  \n",
       "9                                                                                                     Claude: Everything you need to know about Anthropics AI (Topics: Anthropic, Claude, Code Assistants, Gen AI, Language Models, Overview, Review, Science)  \n",
       "10                                                                                                           All System Prompts For Anthropics Claude , Revealed (Topics: Anthropic, Claude, Code Assistants, Gen AI, Language Models, Review, System Prompts)  \n",
       "11                                                                        Anthropic just announced major Claude AI update  heres everything thats new (Topics: Anthropic, Claude, Code Assistants, Gen AI, Language Models, Products, Review, Science, Update)  "
      ]
     },
     "metadata": {},
     "output_type": "display_data"
    },
    {
     "name": "stderr",
     "output_type": "stream",
     "text": [
      "2024-10-19 12:55:00,321 - AInewsbot - INFO - {'topic_title': 'Claude AI and Code Assistants'}\n",
      "2024-10-19 12:55:00,322 - AInewsbot - INFO - I dub this cluster: Claude AI and Code Assistants\n"
     ]
    },
    {
     "data": {
      "text/html": [
       "<div>\n",
       "<style scoped>\n",
       "    .dataframe tbody tr th:only-of-type {\n",
       "        vertical-align: middle;\n",
       "    }\n",
       "\n",
       "    .dataframe tbody tr th {\n",
       "        vertical-align: top;\n",
       "    }\n",
       "\n",
       "    .dataframe thead th {\n",
       "        text-align: right;\n",
       "    }\n",
       "</style>\n",
       "<table border=\"1\" class=\"dataframe\">\n",
       "  <thead>\n",
       "    <tr style=\"text-align: right;\">\n",
       "      <th></th>\n",
       "      <th>id</th>\n",
       "      <th>title_topic_str</th>\n",
       "    </tr>\n",
       "  </thead>\n",
       "  <tbody>\n",
       "    <tr>\n",
       "      <th>12</th>\n",
       "      <td>12</td>\n",
       "      <td>Where Nvidia ranks among fastest-growing AI companies. No, its not No. 1. (Topics: AI Companies, Gen AI, Growth, Hardware, Nvidia, Stocks)</td>\n",
       "    </tr>\n",
       "    <tr>\n",
       "      <th>13</th>\n",
       "      <td>13</td>\n",
       "      <td>Looking to Buy Your First AI Stock? This Is the Best Choice (Hint: It's Not Nvidia). (Topics: AI Stocks, Deals, Economics, Finance, Investment, Nvidia, Products, Science, Stocks)</td>\n",
       "    </tr>\n",
       "    <tr>\n",
       "      <th>14</th>\n",
       "      <td>14</td>\n",
       "      <td>AI Creates 'Generational Opportunity': Why Nvidia Analyst Says Stock Will Hit $190 (Topics: Economics, Finance, Gen AI, Generational Opportunity, Investment, Nvidia, Opinion, Products, Stock Market, Stocks)</td>\n",
       "    </tr>\n",
       "  </tbody>\n",
       "</table>\n",
       "</div>"
      ],
      "text/plain": [
       "    id  \\\n",
       "12  12   \n",
       "13  13   \n",
       "14  14   \n",
       "\n",
       "                                                                                                                                                                                                   title_topic_str  \n",
       "12                                                                      Where Nvidia ranks among fastest-growing AI companies. No, its not No. 1. (Topics: AI Companies, Gen AI, Growth, Hardware, Nvidia, Stocks)  \n",
       "13                              Looking to Buy Your First AI Stock? This Is the Best Choice (Hint: It's Not Nvidia). (Topics: AI Stocks, Deals, Economics, Finance, Investment, Nvidia, Products, Science, Stocks)  \n",
       "14  AI Creates 'Generational Opportunity': Why Nvidia Analyst Says Stock Will Hit $190 (Topics: Economics, Finance, Gen AI, Generational Opportunity, Investment, Nvidia, Opinion, Products, Stock Market, Stocks)  "
      ]
     },
     "metadata": {},
     "output_type": "display_data"
    },
    {
     "name": "stderr",
     "output_type": "stream",
     "text": [
      "2024-10-19 12:55:00,757 - AInewsbot - INFO - {'topic_title': 'Nvidia and AI Stock Market Trends'}\n",
      "2024-10-19 12:55:00,759 - AInewsbot - INFO - I dub this cluster: Nvidia and AI Stock Market Trends\n"
     ]
    },
    {
     "data": {
      "text/html": [
       "<div>\n",
       "<style scoped>\n",
       "    .dataframe tbody tr th:only-of-type {\n",
       "        vertical-align: middle;\n",
       "    }\n",
       "\n",
       "    .dataframe tbody tr th {\n",
       "        vertical-align: top;\n",
       "    }\n",
       "\n",
       "    .dataframe thead th {\n",
       "        text-align: right;\n",
       "    }\n",
       "</style>\n",
       "<table border=\"1\" class=\"dataframe\">\n",
       "  <thead>\n",
       "    <tr style=\"text-align: right;\">\n",
       "      <th></th>\n",
       "      <th>id</th>\n",
       "      <th>title_topic_str</th>\n",
       "    </tr>\n",
       "  </thead>\n",
       "  <tbody>\n",
       "    <tr>\n",
       "      <th>15</th>\n",
       "      <td>15</td>\n",
       "      <td>Scammers swindle elderly California man out of $25K by using AI voice technology to claim his son was in 'horrible accident,' needed money for bail: 'Absolutely his voice' (Topics: AI Doom, AI Voice Technology, California, Computer Vision, Cybersecurity, Deepfakes, Disinformation, Economics, Elderly, Ethics, Facial Recognition, Finance, Fraud, Gen AI, Legal Issues, Privacy, Privacy &amp; Surveillance, Safety And Alignment, Scammers, Scams, Society &amp; Culture, Speech Recognition &amp; Synthesis, Virtual Assistants)</td>\n",
       "    </tr>\n",
       "    <tr>\n",
       "      <th>16</th>\n",
       "      <td>16</td>\n",
       "      <td>US Government Recovered $4 Billion Worth of Fraud With AI (Topics: Economics, Finance, Fraud, Gen AI, Governance, Legal Issues, Politics, Recovery, Scams, Us Government)</td>\n",
       "    </tr>\n",
       "    <tr>\n",
       "      <th>17</th>\n",
       "      <td>17</td>\n",
       "      <td>AI Video Call Scams Are on the Rise, and This Is How They Work (Topics: AI Doom, Cybersecurity, Deepfakes, Disinformation, Ethics, Fraud, Gen AI, Legal Issues, Privacy, Privacy &amp; Surveillance, Safety And Alignment, Scams, Society &amp; Culture, Video Call Scams)</td>\n",
       "    </tr>\n",
       "  </tbody>\n",
       "</table>\n",
       "</div>"
      ],
      "text/plain": [
       "    id  \\\n",
       "15  15   \n",
       "16  16   \n",
       "17  17   \n",
       "\n",
       "                                                                                                                                                                                                                                                                                                                                                                                                                                                                                                                   title_topic_str  \n",
       "15  Scammers swindle elderly California man out of $25K by using AI voice technology to claim his son was in 'horrible accident,' needed money for bail: 'Absolutely his voice' (Topics: AI Doom, AI Voice Technology, California, Computer Vision, Cybersecurity, Deepfakes, Disinformation, Economics, Elderly, Ethics, Facial Recognition, Finance, Fraud, Gen AI, Legal Issues, Privacy, Privacy & Surveillance, Safety And Alignment, Scammers, Scams, Society & Culture, Speech Recognition & Synthesis, Virtual Assistants)  \n",
       "16                                                                                                                                                                                                                                                                                                                                                       US Government Recovered $4 Billion Worth of Fraud With AI (Topics: Economics, Finance, Fraud, Gen AI, Governance, Legal Issues, Politics, Recovery, Scams, Us Government)  \n",
       "17                                                                                                                                                                                                                                                              AI Video Call Scams Are on the Rise, and This Is How They Work (Topics: AI Doom, Cybersecurity, Deepfakes, Disinformation, Ethics, Fraud, Gen AI, Legal Issues, Privacy, Privacy & Surveillance, Safety And Alignment, Scams, Society & Culture, Video Call Scams)  "
      ]
     },
     "metadata": {},
     "output_type": "display_data"
    },
    {
     "name": "stderr",
     "output_type": "stream",
     "text": [
      "2024-10-19 12:55:01,158 - AInewsbot - INFO - {'topic_title': 'AI-Driven Fraud and Scams'}\n",
      "2024-10-19 12:55:01,159 - AInewsbot - INFO - I dub this cluster: AI-Driven Fraud and Scams\n"
     ]
    },
    {
     "data": {
      "text/html": [
       "<div>\n",
       "<style scoped>\n",
       "    .dataframe tbody tr th:only-of-type {\n",
       "        vertical-align: middle;\n",
       "    }\n",
       "\n",
       "    .dataframe tbody tr th {\n",
       "        vertical-align: top;\n",
       "    }\n",
       "\n",
       "    .dataframe thead th {\n",
       "        text-align: right;\n",
       "    }\n",
       "</style>\n",
       "<table border=\"1\" class=\"dataframe\">\n",
       "  <thead>\n",
       "    <tr style=\"text-align: right;\">\n",
       "      <th></th>\n",
       "      <th>id</th>\n",
       "      <th>title_topic_str</th>\n",
       "    </tr>\n",
       "  </thead>\n",
       "  <tbody>\n",
       "    <tr>\n",
       "      <th>18</th>\n",
       "      <td>18</td>\n",
       "      <td>Researchers develop method enabling LLMs to answer questions more concisely and accurately (Topics: Accuracy, Code Assistants, Cognitive Science, Gen AI, Language Models, Llms, Products, Question Answering, Researchers, Retrieval Augmented Generation, Review, Safety And Alignment, Science, Testing)</td>\n",
       "    </tr>\n",
       "    <tr>\n",
       "      <th>19</th>\n",
       "      <td>19</td>\n",
       "      <td>Enhancing AI Accuracy and Confidence in Answer Generation (Topics: Accuracy, Answer Generation, Cognitive Science, Confidence, Gen AI, Retrieval Augmented Generation, Science, Testing)</td>\n",
       "    </tr>\n",
       "    <tr>\n",
       "      <th>20</th>\n",
       "      <td>20</td>\n",
       "      <td>Taming randomness in ML models with hypothesis testing and marimo (Topics: Cognitive Science, Hypothesis Testing, Language Models, Machine Learning, Randomness, Science, Testing)</td>\n",
       "    </tr>\n",
       "    <tr>\n",
       "      <th>21</th>\n",
       "      <td>21</td>\n",
       "      <td>This AI Paper from Google DeepMind Explores Inference Scaling in Long-Context RAG (Topics: Cognitive Science, Gen AI, Google Deepmind, Inference Scaling, Language Models, Long-Context Rag, Retrieval Augmented Generation, Science)</td>\n",
       "    </tr>\n",
       "    <tr>\n",
       "      <th>22</th>\n",
       "      <td>22</td>\n",
       "      <td>TREAT: A Deep Learning Framework that Achieves High-Precision Modeling for a Wide Range of Dynamical Systems by Injecting Time-Reversal Symmetry as an Inductive Bias (Topics: Cognitive Science, Deep Learning, Dynamical Systems, Inductive Bias, Language Models, Modeling, Science, Treat)</td>\n",
       "    </tr>\n",
       "  </tbody>\n",
       "</table>\n",
       "</div>"
      ],
      "text/plain": [
       "    id  \\\n",
       "18  18   \n",
       "19  19   \n",
       "20  20   \n",
       "21  21   \n",
       "22  22   \n",
       "\n",
       "                                                                                                                                                                                                                                                                                                title_topic_str  \n",
       "18  Researchers develop method enabling LLMs to answer questions more concisely and accurately (Topics: Accuracy, Code Assistants, Cognitive Science, Gen AI, Language Models, Llms, Products, Question Answering, Researchers, Retrieval Augmented Generation, Review, Safety And Alignment, Science, Testing)  \n",
       "19                                                                                                                     Enhancing AI Accuracy and Confidence in Answer Generation (Topics: Accuracy, Answer Generation, Cognitive Science, Confidence, Gen AI, Retrieval Augmented Generation, Science, Testing)  \n",
       "20                                                                                                                           Taming randomness in ML models with hypothesis testing and marimo (Topics: Cognitive Science, Hypothesis Testing, Language Models, Machine Learning, Randomness, Science, Testing)  \n",
       "21                                                                        This AI Paper from Google DeepMind Explores Inference Scaling in Long-Context RAG (Topics: Cognitive Science, Gen AI, Google Deepmind, Inference Scaling, Language Models, Long-Context Rag, Retrieval Augmented Generation, Science)  \n",
       "22               TREAT: A Deep Learning Framework that Achieves High-Precision Modeling for a Wide Range of Dynamical Systems by Injecting Time-Reversal Symmetry as an Inductive Bias (Topics: Cognitive Science, Deep Learning, Dynamical Systems, Inductive Bias, Language Models, Modeling, Science, Treat)  "
      ]
     },
     "metadata": {},
     "output_type": "display_data"
    },
    {
     "name": "stderr",
     "output_type": "stream",
     "text": [
      "2024-10-19 12:55:01,569 - AInewsbot - INFO - {'topic_title': 'Advancements in AI and Language Models'}\n",
      "2024-10-19 12:55:01,570 - AInewsbot - INFO - I dub this cluster: Advancements in AI and Language Models\n"
     ]
    },
    {
     "data": {
      "text/html": [
       "<div>\n",
       "<style scoped>\n",
       "    .dataframe tbody tr th:only-of-type {\n",
       "        vertical-align: middle;\n",
       "    }\n",
       "\n",
       "    .dataframe tbody tr th {\n",
       "        vertical-align: top;\n",
       "    }\n",
       "\n",
       "    .dataframe thead th {\n",
       "        text-align: right;\n",
       "    }\n",
       "</style>\n",
       "<table border=\"1\" class=\"dataframe\">\n",
       "  <thead>\n",
       "    <tr style=\"text-align: right;\">\n",
       "      <th></th>\n",
       "      <th>id</th>\n",
       "      <th>title_topic_str</th>\n",
       "    </tr>\n",
       "  </thead>\n",
       "  <tbody>\n",
       "    <tr>\n",
       "      <th>23</th>\n",
       "      <td>23</td>\n",
       "      <td>Scientists have built an AI-powered 'electronic tongue' (Topics: Electronic Tongue, Gen AI, Hardware, Innovation, Products, Science)</td>\n",
       "    </tr>\n",
       "    <tr>\n",
       "      <th>24</th>\n",
       "      <td>24</td>\n",
       "      <td>New JAMA channel highlights AIs role in medicine (Topics: Cognitive Science, Ethics, Gen AI, Health &amp; Fitness, Healthcare, Jama, Medicine, Safety And Alignment, Science, Society &amp; Culture)</td>\n",
       "    </tr>\n",
       "    <tr>\n",
       "      <th>25</th>\n",
       "      <td>25</td>\n",
       "      <td>XYZ Media's 'Next Generation of Innovators' Highlights James Gu's Research: Advancing Personalized Cancer Treatment with Digital Twin Technology (Topics: Cancer Treatment, Digital Twin Technology, Health &amp; Fitness, Healthcare, Internet Of Things, James Gu, Recommendation Systems, Science, Xyz Media)</td>\n",
       "    </tr>\n",
       "    <tr>\n",
       "      <th>26</th>\n",
       "      <td>26</td>\n",
       "      <td>HeartFlow Announces New Category I CPT Code from the American Medical Association for AI-Enabled Plaque Analysis to Assess Risk for Coronary Artery Disease (Topics: Computer Vision, Coronary Artery Disease, Cpt Code, Gen AI, Health &amp; Fitness, Healthcare, Heartflow, Plaque Analysis, Policy And Regulation, Products, Safety And Alignment, Science, Testing)</td>\n",
       "    </tr>\n",
       "    <tr>\n",
       "      <th>27</th>\n",
       "      <td>27</td>\n",
       "      <td>New JAMA channel highlights AI's role in medicine (Topics: Cognitive Science, Ethics, Gen AI, Health &amp; Fitness, Healthcare, Jama, Medicine, Safety And Alignment, Science, Society &amp; Culture)</td>\n",
       "    </tr>\n",
       "    <tr>\n",
       "      <th>28</th>\n",
       "      <td>28</td>\n",
       "      <td>XYZ Media's Next Generation of Innovators' Highlights James Gu's Research: Advancing Personalized Cancer Treatment with Digital Twin Technology (Topics: Cancer Treatment, Digital Twin Technology, Health &amp; Fitness, Healthcare, Internet Of Things, James Gu, Recommendation Systems, Science, Xyz Media)</td>\n",
       "    </tr>\n",
       "    <tr>\n",
       "      <th>29</th>\n",
       "      <td>29</td>\n",
       "      <td>INOVAIT reveals Canada's strategic advantages in image-guided therapy and artificial intelligence in latest report (Topics: Canada, Computer Vision, Gen AI, Healthcare, Image-Guided Therapy, Inovait, Science)</td>\n",
       "    </tr>\n",
       "  </tbody>\n",
       "</table>\n",
       "</div>"
      ],
      "text/plain": [
       "    id  \\\n",
       "23  23   \n",
       "24  24   \n",
       "25  25   \n",
       "26  26   \n",
       "27  27   \n",
       "28  28   \n",
       "29  29   \n",
       "\n",
       "                                                                                                                                                                                                                                                                                                                                                        title_topic_str  \n",
       "23                                                                                                                                                                                                                                 Scientists have built an AI-powered 'electronic tongue' (Topics: Electronic Tongue, Gen AI, Hardware, Innovation, Products, Science)  \n",
       "24                                                                                                                                                                         New JAMA channel highlights AIs role in medicine (Topics: Cognitive Science, Ethics, Gen AI, Health & Fitness, Healthcare, Jama, Medicine, Safety And Alignment, Science, Society & Culture)  \n",
       "25                                                         XYZ Media's 'Next Generation of Innovators' Highlights James Gu's Research: Advancing Personalized Cancer Treatment with Digital Twin Technology (Topics: Cancer Treatment, Digital Twin Technology, Health & Fitness, Healthcare, Internet Of Things, James Gu, Recommendation Systems, Science, Xyz Media)  \n",
       "26  HeartFlow Announces New Category I CPT Code from the American Medical Association for AI-Enabled Plaque Analysis to Assess Risk for Coronary Artery Disease (Topics: Computer Vision, Coronary Artery Disease, Cpt Code, Gen AI, Health & Fitness, Healthcare, Heartflow, Plaque Analysis, Policy And Regulation, Products, Safety And Alignment, Science, Testing)  \n",
       "27                                                                                                                                                                        New JAMA channel highlights AI's role in medicine (Topics: Cognitive Science, Ethics, Gen AI, Health & Fitness, Healthcare, Jama, Medicine, Safety And Alignment, Science, Society & Culture)  \n",
       "28                                                          XYZ Media's Next Generation of Innovators' Highlights James Gu's Research: Advancing Personalized Cancer Treatment with Digital Twin Technology (Topics: Cancer Treatment, Digital Twin Technology, Health & Fitness, Healthcare, Internet Of Things, James Gu, Recommendation Systems, Science, Xyz Media)  \n",
       "29                                                                                                                                                     INOVAIT reveals Canada's strategic advantages in image-guided therapy and artificial intelligence in latest report (Topics: Canada, Computer Vision, Gen AI, Healthcare, Image-Guided Therapy, Inovait, Science)  "
      ]
     },
     "metadata": {},
     "output_type": "display_data"
    },
    {
     "name": "stderr",
     "output_type": "stream",
     "text": [
      "2024-10-19 12:55:02,017 - AInewsbot - INFO - {'topic_title': 'AI in Healthcare and Innovation'}\n",
      "2024-10-19 12:55:02,018 - AInewsbot - INFO - I dub this cluster: AI in Healthcare and Innovation\n"
     ]
    },
    {
     "data": {
      "text/html": [
       "<div>\n",
       "<style scoped>\n",
       "    .dataframe tbody tr th:only-of-type {\n",
       "        vertical-align: middle;\n",
       "    }\n",
       "\n",
       "    .dataframe tbody tr th {\n",
       "        vertical-align: top;\n",
       "    }\n",
       "\n",
       "    .dataframe thead th {\n",
       "        text-align: right;\n",
       "    }\n",
       "</style>\n",
       "<table border=\"1\" class=\"dataframe\">\n",
       "  <thead>\n",
       "    <tr style=\"text-align: right;\">\n",
       "      <th></th>\n",
       "      <th>id</th>\n",
       "      <th>title_topic_str</th>\n",
       "    </tr>\n",
       "  </thead>\n",
       "  <tbody>\n",
       "    <tr>\n",
       "      <th>30</th>\n",
       "      <td>30</td>\n",
       "      <td>Sam Altmans eyeball-scanning crypto project has a new Orb and a new name (Topics: Crypto Project, Cryptocurrency, Economics, Eyeball-Scanning, Finance, Fintech, New Orb, Politics, Privacy, Privacy &amp; Surveillance, Products, Sam Altman)</td>\n",
       "    </tr>\n",
       "    <tr>\n",
       "      <th>31</th>\n",
       "      <td>31</td>\n",
       "      <td>Sam Altman's Worldcoin Rebrand Now Calls It 'World,' Brings New Orb for Crypto Project (Topics: Crypto Project, Cryptocurrency, Economics, Finance, Fintech, Politics, Privacy, Privacy &amp; Surveillance, Products, Rebrand, Sam Altman, Venture Capital, Worldcoin)</td>\n",
       "    </tr>\n",
       "    <tr>\n",
       "      <th>32</th>\n",
       "      <td>32</td>\n",
       "      <td>Heres Why Critics Are Raising Eyebrows Over Sam Altmans Iris-Scanning Crypto Project (Topics: Criticism, Crypto Project, Cryptocurrency, Economics, Ethics, Facial Recognition, Finance, Fintech, Governance, Iris-Scanning, Legal Issues, Opinion, Policy And Regulation, Privacy, Privacy &amp; Surveillance, Safety And Alignment, Sam Altman)</td>\n",
       "    </tr>\n",
       "  </tbody>\n",
       "</table>\n",
       "</div>"
      ],
      "text/plain": [
       "    id  \\\n",
       "30  30   \n",
       "31  31   \n",
       "32  32   \n",
       "\n",
       "                                                                                                                                                                                                                                                                                                                                  title_topic_str  \n",
       "30                                                                                                     Sam Altmans eyeball-scanning crypto project has a new Orb and a new name (Topics: Crypto Project, Cryptocurrency, Economics, Eyeball-Scanning, Finance, Fintech, New Orb, Politics, Privacy, Privacy & Surveillance, Products, Sam Altman)  \n",
       "31                                                                             Sam Altman's Worldcoin Rebrand Now Calls It 'World,' Brings New Orb for Crypto Project (Topics: Crypto Project, Cryptocurrency, Economics, Finance, Fintech, Politics, Privacy, Privacy & Surveillance, Products, Rebrand, Sam Altman, Venture Capital, Worldcoin)  \n",
       "32  Heres Why Critics Are Raising Eyebrows Over Sam Altmans Iris-Scanning Crypto Project (Topics: Criticism, Crypto Project, Cryptocurrency, Economics, Ethics, Facial Recognition, Finance, Fintech, Governance, Iris-Scanning, Legal Issues, Opinion, Policy And Regulation, Privacy, Privacy & Surveillance, Safety And Alignment, Sam Altman)  "
      ]
     },
     "metadata": {},
     "output_type": "display_data"
    },
    {
     "name": "stderr",
     "output_type": "stream",
     "text": [
      "2024-10-19 12:55:02,487 - AInewsbot - INFO - {'topic_title': \"Sam Altman's Crypto and Privacy Innovations\"}\n",
      "2024-10-19 12:55:02,489 - AInewsbot - INFO - I dub this cluster: Sam Altman's Crypto and Privacy Innovations\n"
     ]
    },
    {
     "data": {
      "text/html": [
       "<div>\n",
       "<style scoped>\n",
       "    .dataframe tbody tr th:only-of-type {\n",
       "        vertical-align: middle;\n",
       "    }\n",
       "\n",
       "    .dataframe tbody tr th {\n",
       "        vertical-align: top;\n",
       "    }\n",
       "\n",
       "    .dataframe thead th {\n",
       "        text-align: right;\n",
       "    }\n",
       "</style>\n",
       "<table border=\"1\" class=\"dataframe\">\n",
       "  <thead>\n",
       "    <tr style=\"text-align: right;\">\n",
       "      <th></th>\n",
       "      <th>id</th>\n",
       "      <th>title_topic_str</th>\n",
       "    </tr>\n",
       "  </thead>\n",
       "  <tbody>\n",
       "    <tr>\n",
       "      <th>33</th>\n",
       "      <td>33</td>\n",
       "      <td>Mixtrala Multilingual Language Model Trained with a Context Size of 32k Tokens (Topics: Cognitive Science, Context Size, Gen AI, Language Models, Mixtrala, Multilingual Language Model, Products, Science, Tokens)</td>\n",
       "    </tr>\n",
       "    <tr>\n",
       "      <th>34</th>\n",
       "      <td>34</td>\n",
       "      <td>Meta Platforms (NASDAQ:META) Releases a Series of New AI Models (Topics: AI Models, Cognitive Science, Gen AI, Language Models, Meta Platforms, Products, Review, Science, Testing)</td>\n",
       "    </tr>\n",
       "    <tr>\n",
       "      <th>35</th>\n",
       "      <td>35</td>\n",
       "      <td>Meta AI Releases Meta Lingua: A Minimal and Fast LLM Training and Inference Library for Research (Topics: Cognitive Science, Gen AI, Inference, Language Models, Llm, Meta AI, Meta Lingua, Products, Research, Review, Science, Testing, Training)</td>\n",
       "    </tr>\n",
       "    <tr>\n",
       "      <th>36</th>\n",
       "      <td>36</td>\n",
       "      <td>How Mixtral 8x7B Sets New Standards in Open-Source AI with Innovative Design (Topics: Art &amp; Design, Design, Gen AI, Hardware, Innovation, Language Models, Mixtral 8X7B, Open Source, Open-Source AI, Products, Science)</td>\n",
       "    </tr>\n",
       "    <tr>\n",
       "      <th>37</th>\n",
       "      <td>37</td>\n",
       "      <td>Meta debuts Spirit LM, its first open-source multimodal language model capable of integrating text and speech inputs and outputs, for non-commercial use only (Topics: Cognitive Science, Gen AI, Intellectual Property, Language Model, Language Models, Meta, Multimodal, Open Source, Open-Source, Products, Science, Speech Recognition &amp; Synthesis, Spirit Lm)</td>\n",
       "    </tr>\n",
       "    <tr>\n",
       "      <th>38</th>\n",
       "      <td>38</td>\n",
       "      <td>Microsoft Open-Sources bitnet.cpp: A Super-Efficient 1-bit LLM Inference Framework that Runs Directly on CPUs (Topics: Bitnet.Cpp, Cognitive Science, Gen AI, Hardware, Inference Framework, Intellectual Property, Language Models, Llm, Microsoft, Open Source, Open-Source, Products, Review, Science, Testing)</td>\n",
       "    </tr>\n",
       "    <tr>\n",
       "      <th>39</th>\n",
       "      <td>39</td>\n",
       "      <td>PyTorch 2.5 Unleashes High-End GPU Performance, Supercharges LLMs (Topics: Cognitive Science, Gen AI, Gpu Performance, Hardware, Language Models, Llms, Products, Pytorch, Science)</td>\n",
       "    </tr>\n",
       "  </tbody>\n",
       "</table>\n",
       "</div>"
      ],
      "text/plain": [
       "    id  \\\n",
       "33  33   \n",
       "34  34   \n",
       "35  35   \n",
       "36  36   \n",
       "37  37   \n",
       "38  38   \n",
       "39  39   \n",
       "\n",
       "                                                                                                                                                                                                                                                                                                                                                        title_topic_str  \n",
       "33                                                                                                                                                  Mixtrala Multilingual Language Model Trained with a Context Size of 32k Tokens (Topics: Cognitive Science, Context Size, Gen AI, Language Models, Mixtrala, Multilingual Language Model, Products, Science, Tokens)  \n",
       "34                                                                                                                                                                                  Meta Platforms (NASDAQ:META) Releases a Series of New AI Models (Topics: AI Models, Cognitive Science, Gen AI, Language Models, Meta Platforms, Products, Review, Science, Testing)  \n",
       "35                                                                                                                  Meta AI Releases Meta Lingua: A Minimal and Fast LLM Training and Inference Library for Research (Topics: Cognitive Science, Gen AI, Inference, Language Models, Llm, Meta AI, Meta Lingua, Products, Research, Review, Science, Testing, Training)  \n",
       "36                                                                                                                                             How Mixtral 8x7B Sets New Standards in Open-Source AI with Innovative Design (Topics: Art & Design, Design, Gen AI, Hardware, Innovation, Language Models, Mixtral 8X7B, Open Source, Open-Source AI, Products, Science)  \n",
       "37  Meta debuts Spirit LM, its first open-source multimodal language model capable of integrating text and speech inputs and outputs, for non-commercial use only (Topics: Cognitive Science, Gen AI, Intellectual Property, Language Model, Language Models, Meta, Multimodal, Open Source, Open-Source, Products, Science, Speech Recognition & Synthesis, Spirit Lm)  \n",
       "38                                                   Microsoft Open-Sources bitnet.cpp: A Super-Efficient 1-bit LLM Inference Framework that Runs Directly on CPUs (Topics: Bitnet.Cpp, Cognitive Science, Gen AI, Hardware, Inference Framework, Intellectual Property, Language Models, Llm, Microsoft, Open Source, Open-Source, Products, Review, Science, Testing)  \n",
       "39                                                                                                                                                                                  PyTorch 2.5 Unleashes High-End GPU Performance, Supercharges LLMs (Topics: Cognitive Science, Gen AI, Gpu Performance, Hardware, Language Models, Llms, Products, Pytorch, Science)  "
      ]
     },
     "metadata": {},
     "output_type": "display_data"
    },
    {
     "name": "stderr",
     "output_type": "stream",
     "text": [
      "2024-10-19 12:55:02,899 - AInewsbot - INFO - {'topic_title': 'Advancements in Language Models and AI'}\n",
      "2024-10-19 12:55:02,901 - AInewsbot - INFO - I dub this cluster: Advancements in Language Models and AI\n"
     ]
    },
    {
     "data": {
      "text/html": [
       "<div>\n",
       "<style scoped>\n",
       "    .dataframe tbody tr th:only-of-type {\n",
       "        vertical-align: middle;\n",
       "    }\n",
       "\n",
       "    .dataframe tbody tr th {\n",
       "        vertical-align: top;\n",
       "    }\n",
       "\n",
       "    .dataframe thead th {\n",
       "        text-align: right;\n",
       "    }\n",
       "</style>\n",
       "<table border=\"1\" class=\"dataframe\">\n",
       "  <thead>\n",
       "    <tr style=\"text-align: right;\">\n",
       "      <th></th>\n",
       "      <th>id</th>\n",
       "      <th>title_topic_str</th>\n",
       "    </tr>\n",
       "  </thead>\n",
       "  <tbody>\n",
       "    <tr>\n",
       "      <th>40</th>\n",
       "      <td>40</td>\n",
       "      <td>I dumped Google for AI search alternatives like Perplexity and ChatGPT (Topics: AI Search, Alternatives, Chatbots, Chatgpt, Gen AI, Google, Language Models, Opinion, Perplexity, Products)</td>\n",
       "    </tr>\n",
       "    <tr>\n",
       "      <th>41</th>\n",
       "      <td>41</td>\n",
       "      <td>Perplexity lets you search your internal enterprise files and the web (Topics: Enterprise Files, Gen AI, Perplexity, Products, Web Search)</td>\n",
       "    </tr>\n",
       "    <tr>\n",
       "      <th>42</th>\n",
       "      <td>42</td>\n",
       "      <td>Perplexity's AI search engine goes deep to get your answers (Topics: Gen AI, Perplexity, Products, Search Engine)</td>\n",
       "    </tr>\n",
       "  </tbody>\n",
       "</table>\n",
       "</div>"
      ],
      "text/plain": [
       "    id  \\\n",
       "40  40   \n",
       "41  41   \n",
       "42  42   \n",
       "\n",
       "                                                                                                                                                                                title_topic_str  \n",
       "40  I dumped Google for AI search alternatives like Perplexity and ChatGPT (Topics: AI Search, Alternatives, Chatbots, Chatgpt, Gen AI, Google, Language Models, Opinion, Perplexity, Products)  \n",
       "41                                                   Perplexity lets you search your internal enterprise files and the web (Topics: Enterprise Files, Gen AI, Perplexity, Products, Web Search)  \n",
       "42                                                                            Perplexity's AI search engine goes deep to get your answers (Topics: Gen AI, Perplexity, Products, Search Engine)  "
      ]
     },
     "metadata": {},
     "output_type": "display_data"
    },
    {
     "name": "stderr",
     "output_type": "stream",
     "text": [
      "2024-10-19 12:55:03,259 - AInewsbot - INFO - {'topic_title': 'AI Search Alternatives'}\n",
      "2024-10-19 12:55:03,261 - AInewsbot - INFO - I dub this cluster: AI Search Alternatives\n"
     ]
    },
    {
     "data": {
      "text/html": [
       "<div>\n",
       "<style scoped>\n",
       "    .dataframe tbody tr th:only-of-type {\n",
       "        vertical-align: middle;\n",
       "    }\n",
       "\n",
       "    .dataframe tbody tr th {\n",
       "        vertical-align: top;\n",
       "    }\n",
       "\n",
       "    .dataframe thead th {\n",
       "        text-align: right;\n",
       "    }\n",
       "</style>\n",
       "<table border=\"1\" class=\"dataframe\">\n",
       "  <thead>\n",
       "    <tr style=\"text-align: right;\">\n",
       "      <th></th>\n",
       "      <th>id</th>\n",
       "      <th>title_topic_str</th>\n",
       "    </tr>\n",
       "  </thead>\n",
       "  <tbody>\n",
       "    <tr>\n",
       "      <th>43</th>\n",
       "      <td>43</td>\n",
       "      <td>Microsoft could end up with substantial equity in the restructured, for-profit OpenAI (Topics: Artificial General Intelligence, Deals, Economics, Equity, Finance, Funding, Governance, Mergers And Acquisitions, Microsoft, OpenAI, Partnership, Policy And Regulation, Politics, Restructured, Stocks, Venture Capital)</td>\n",
       "    </tr>\n",
       "    <tr>\n",
       "      <th>44</th>\n",
       "      <td>44</td>\n",
       "      <td>Tensions with OpenAI underscore Microsoft's need to ensure its own AI future (Topics: AI Future, Gen AI, Microsoft, OpenAI, Tensions)</td>\n",
       "    </tr>\n",
       "    <tr>\n",
       "      <th>45</th>\n",
       "      <td>45</td>\n",
       "      <td>Report: OpenAI sees a clause in its Microsoft contract, which cuts off Microsoft's access to OpenAI tech if OpenAI develops AGI, as a path to a better contract (Topics: Agi, AI Doom, Artificial General Intelligence, Contract, Deals, Economics, Finance, Funding, Governance, Legal Issues, Mergers And Acquisitions, Microsoft, Negotiation, OpenAI, Policy And Regulation, Politics, Singularity, Stocks, Venture Capital)</td>\n",
       "    </tr>\n",
       "    <tr>\n",
       "      <th>46</th>\n",
       "      <td>46</td>\n",
       "      <td>OpenAI, Microsoft reportedly hire banks to renegotiate partnership terms (Topics: Artificial General Intelligence, Deals, Economics, Finance, Funding, Governance, Legal Issues, Mergers And Acquisitions, Microsoft, Negotiation, OpenAI, Partnership, Policy And Regulation, Politics, Stocks, Venture Capital)</td>\n",
       "    </tr>\n",
       "  </tbody>\n",
       "</table>\n",
       "</div>"
      ],
      "text/plain": [
       "    id  \\\n",
       "43  43   \n",
       "44  44   \n",
       "45  45   \n",
       "46  46   \n",
       "\n",
       "                                                                                                                                                                                                                                                                                                                                                                                                                     title_topic_str  \n",
       "43                                                                                                         Microsoft could end up with substantial equity in the restructured, for-profit OpenAI (Topics: Artificial General Intelligence, Deals, Economics, Equity, Finance, Funding, Governance, Mergers And Acquisitions, Microsoft, OpenAI, Partnership, Policy And Regulation, Politics, Restructured, Stocks, Venture Capital)  \n",
       "44                                                                                                                                                                                                                                                                                             Tensions with OpenAI underscore Microsoft's need to ensure its own AI future (Topics: AI Future, Gen AI, Microsoft, OpenAI, Tensions)  \n",
       "45  Report: OpenAI sees a clause in its Microsoft contract, which cuts off Microsoft's access to OpenAI tech if OpenAI develops AGI, as a path to a better contract (Topics: Agi, AI Doom, Artificial General Intelligence, Contract, Deals, Economics, Finance, Funding, Governance, Legal Issues, Mergers And Acquisitions, Microsoft, Negotiation, OpenAI, Policy And Regulation, Politics, Singularity, Stocks, Venture Capital)  \n",
       "46                                                                                                                 OpenAI, Microsoft reportedly hire banks to renegotiate partnership terms (Topics: Artificial General Intelligence, Deals, Economics, Finance, Funding, Governance, Legal Issues, Mergers And Acquisitions, Microsoft, Negotiation, OpenAI, Partnership, Policy And Regulation, Politics, Stocks, Venture Capital)  "
      ]
     },
     "metadata": {},
     "output_type": "display_data"
    },
    {
     "name": "stderr",
     "output_type": "stream",
     "text": [
      "2024-10-19 12:55:03,680 - AInewsbot - INFO - {'topic_title': 'Microsoft and OpenAI Partnership Dynamics'}\n",
      "2024-10-19 12:55:03,682 - AInewsbot - INFO - I dub this cluster: Microsoft and OpenAI Partnership Dynamics\n"
     ]
    },
    {
     "data": {
      "text/html": [
       "<div>\n",
       "<style scoped>\n",
       "    .dataframe tbody tr th:only-of-type {\n",
       "        vertical-align: middle;\n",
       "    }\n",
       "\n",
       "    .dataframe tbody tr th {\n",
       "        vertical-align: top;\n",
       "    }\n",
       "\n",
       "    .dataframe thead th {\n",
       "        text-align: right;\n",
       "    }\n",
       "</style>\n",
       "<table border=\"1\" class=\"dataframe\">\n",
       "  <thead>\n",
       "    <tr style=\"text-align: right;\">\n",
       "      <th></th>\n",
       "      <th>id</th>\n",
       "      <th>title_topic_str</th>\n",
       "    </tr>\n",
       "  </thead>\n",
       "  <tbody>\n",
       "    <tr>\n",
       "      <th>47</th>\n",
       "      <td>47</td>\n",
       "      <td>News - Penguin Random House underscores copyright protection in AI rebuff (Topics: Authors &amp; Writing, Bias And Fairness, Books &amp; Publishing, Copyright Protection, Ethics, Intellectual Property, Legal Issues, Penguin Random House, Policy And Regulation)</td>\n",
       "    </tr>\n",
       "    <tr>\n",
       "      <th>48</th>\n",
       "      <td>48</td>\n",
       "      <td>Penguin Random House Underscores Copyright Protection in AI Rebuff (Topics: Authors &amp; Writing, Bias And Fairness, Books &amp; Publishing, Copyright Protection, Ethics, Intellectual Property, Legal Issues, Penguin Random House, Policy And Regulation)</td>\n",
       "    </tr>\n",
       "    <tr>\n",
       "      <th>49</th>\n",
       "      <td>49</td>\n",
       "      <td>Penguin Random House amends its copyright rules to protect authors from AI (Topics: Authors, Authors &amp; Writing, Bias And Fairness, Books &amp; Publishing, Copyright Rules, Ethics, Intellectual Property, Legal Issues, Penguin Random House, Policy And Regulation, Privacy, Privacy &amp; Surveillance)</td>\n",
       "    </tr>\n",
       "  </tbody>\n",
       "</table>\n",
       "</div>"
      ],
      "text/plain": [
       "    id  \\\n",
       "47  47   \n",
       "48  48   \n",
       "49  49   \n",
       "\n",
       "                                                                                                                                                                                                                                                                                       title_topic_str  \n",
       "47                                        News - Penguin Random House underscores copyright protection in AI rebuff (Topics: Authors & Writing, Bias And Fairness, Books & Publishing, Copyright Protection, Ethics, Intellectual Property, Legal Issues, Penguin Random House, Policy And Regulation)  \n",
       "48                                               Penguin Random House Underscores Copyright Protection in AI Rebuff (Topics: Authors & Writing, Bias And Fairness, Books & Publishing, Copyright Protection, Ethics, Intellectual Property, Legal Issues, Penguin Random House, Policy And Regulation)  \n",
       "49  Penguin Random House amends its copyright rules to protect authors from AI (Topics: Authors, Authors & Writing, Bias And Fairness, Books & Publishing, Copyright Rules, Ethics, Intellectual Property, Legal Issues, Penguin Random House, Policy And Regulation, Privacy, Privacy & Surveillance)  "
      ]
     },
     "metadata": {},
     "output_type": "display_data"
    },
    {
     "name": "stderr",
     "output_type": "stream",
     "text": [
      "2024-10-19 12:55:04,275 - AInewsbot - INFO - {'topic_title': 'Copyright Protection in Publishing and AI'}\n",
      "2024-10-19 12:55:04,276 - AInewsbot - INFO - I dub this cluster: Copyright Protection in Publishing and AI\n"
     ]
    },
    {
     "data": {
      "text/html": [
       "<div>\n",
       "<style scoped>\n",
       "    .dataframe tbody tr th:only-of-type {\n",
       "        vertical-align: middle;\n",
       "    }\n",
       "\n",
       "    .dataframe tbody tr th {\n",
       "        vertical-align: top;\n",
       "    }\n",
       "\n",
       "    .dataframe thead th {\n",
       "        text-align: right;\n",
       "    }\n",
       "</style>\n",
       "<table border=\"1\" class=\"dataframe\">\n",
       "  <thead>\n",
       "    <tr style=\"text-align: right;\">\n",
       "      <th></th>\n",
       "      <th>id</th>\n",
       "      <th>title_topic_str</th>\n",
       "    </tr>\n",
       "  </thead>\n",
       "  <tbody>\n",
       "    <tr>\n",
       "      <th>50</th>\n",
       "      <td>50</td>\n",
       "      <td>Penguin Random House amends its copyright notice globally to prohibit the use of books for training AI; the notice will be included in new titles and reprints (Topics: AI Training, Authors &amp; Writing, Bias And Fairness, Books, Books &amp; Publishing, Copyright Notice, Ethics, Intellectual Property, Legal Issues, Penguin Random House, Policy And Regulation, Privacy, Privacy &amp; Surveillance)</td>\n",
       "    </tr>\n",
       "    <tr>\n",
       "      <th>51</th>\n",
       "      <td>51</td>\n",
       "      <td>Xs controversial changes to blocking and AI training sees half a million users leave for rival Bluesky  which then crashes under the strain (Topics: AI Training, Bias And Fairness, Bluesky, Controversy, Ethics, Gen AI, Language Models, Opinion, Privacy, Privacy &amp; Surveillance, User Migration, X)</td>\n",
       "    </tr>\n",
       "    <tr>\n",
       "      <th>52</th>\n",
       "      <td>52</td>\n",
       "      <td>X to allow third parties to train their AI models with social media users' data (Topics: AI Models, Bias And Fairness, Cybersecurity, Disinformation, Ethics, Gen AI, Governance, Intellectual Property, Language Models, Legal Issues, Policy And Regulation, Privacy, Privacy &amp; Surveillance, Social Media Data, Third Parties, X)</td>\n",
       "    </tr>\n",
       "    <tr>\n",
       "      <th>53</th>\n",
       "      <td>53</td>\n",
       "      <td>X to allow third parties to train AI on your posts (Topics: AI Training, Bias And Fairness, Cybersecurity, Disinformation, Ethics, Gen AI, Governance, Intellectual Property, Language Models, Legal Issues, Policy And Regulation, Privacy, Privacy &amp; Surveillance, Third Parties, User Data, X)</td>\n",
       "    </tr>\n",
       "    <tr>\n",
       "      <th>54</th>\n",
       "      <td>54</td>\n",
       "      <td>Penguin Random House books now explicitly say no to AI training (Topics: AI Training, Authors &amp; Writing, Bias And Fairness, Books, Books &amp; Publishing, Copyright, Ethics, Intellectual Property, Legal Issues, Penguin Random House, Policy And Regulation, Privacy, Privacy &amp; Surveillance)</td>\n",
       "    </tr>\n",
       "    <tr>\n",
       "      <th>55</th>\n",
       "      <td>55</td>\n",
       "      <td>X Is Giving Away Your Data to Train Third-Party AIs (Topics: AI Doom, Bias And Fairness, Cybersecurity, Data Sharing, Disinformation, Ethics, Gen AI, Governance, Intellectual Property, Language Models, Legal Issues, Policy And Regulation, Privacy, Privacy &amp; Surveillance, Third-Party AI, X)</td>\n",
       "    </tr>\n",
       "    <tr>\n",
       "      <th>56</th>\n",
       "      <td>56</td>\n",
       "      <td>X's new terms of service push lawsuits to Texas courts, allow third-party AI data-sharing (Topics: AI Data-Sharing, Bias And Fairness, Ethics, Gen AI, Governance, Intellectual Property, Lawsuits, Legal Issues, Policy And Regulation, Privacy, Privacy &amp; Surveillance, Terms Of Service, X)</td>\n",
       "    </tr>\n",
       "  </tbody>\n",
       "</table>\n",
       "</div>"
      ],
      "text/plain": [
       "    id  \\\n",
       "50  50   \n",
       "51  51   \n",
       "52  52   \n",
       "53  53   \n",
       "54  54   \n",
       "55  55   \n",
       "56  56   \n",
       "\n",
       "                                                                                                                                                                                                                                                                                                                                                                                       title_topic_str  \n",
       "50  Penguin Random House amends its copyright notice globally to prohibit the use of books for training AI; the notice will be included in new titles and reprints (Topics: AI Training, Authors & Writing, Bias And Fairness, Books, Books & Publishing, Copyright Notice, Ethics, Intellectual Property, Legal Issues, Penguin Random House, Policy And Regulation, Privacy, Privacy & Surveillance)  \n",
       "51                                                                                            Xs controversial changes to blocking and AI training sees half a million users leave for rival Bluesky  which then crashes under the strain (Topics: AI Training, Bias And Fairness, Bluesky, Controversy, Ethics, Gen AI, Language Models, Opinion, Privacy, Privacy & Surveillance, User Migration, X)  \n",
       "52                                                                X to allow third parties to train their AI models with social media users' data (Topics: AI Models, Bias And Fairness, Cybersecurity, Disinformation, Ethics, Gen AI, Governance, Intellectual Property, Language Models, Legal Issues, Policy And Regulation, Privacy, Privacy & Surveillance, Social Media Data, Third Parties, X)  \n",
       "53                                                                                                   X to allow third parties to train AI on your posts (Topics: AI Training, Bias And Fairness, Cybersecurity, Disinformation, Ethics, Gen AI, Governance, Intellectual Property, Language Models, Legal Issues, Policy And Regulation, Privacy, Privacy & Surveillance, Third Parties, User Data, X)  \n",
       "54                                                                                                        Penguin Random House books now explicitly say no to AI training (Topics: AI Training, Authors & Writing, Bias And Fairness, Books, Books & Publishing, Copyright, Ethics, Intellectual Property, Legal Issues, Penguin Random House, Policy And Regulation, Privacy, Privacy & Surveillance)  \n",
       "55                                                                                                  X Is Giving Away Your Data to Train Third-Party AIs (Topics: AI Doom, Bias And Fairness, Cybersecurity, Data Sharing, Disinformation, Ethics, Gen AI, Governance, Intellectual Property, Language Models, Legal Issues, Policy And Regulation, Privacy, Privacy & Surveillance, Third-Party AI, X)  \n",
       "56                                                                                                      X's new terms of service push lawsuits to Texas courts, allow third-party AI data-sharing (Topics: AI Data-Sharing, Bias And Fairness, Ethics, Gen AI, Governance, Intellectual Property, Lawsuits, Legal Issues, Policy And Regulation, Privacy, Privacy & Surveillance, Terms Of Service, X)  "
      ]
     },
     "metadata": {},
     "output_type": "display_data"
    },
    {
     "name": "stderr",
     "output_type": "stream",
     "text": [
      "2024-10-19 12:55:05,046 - AInewsbot - INFO - {'topic_title': 'AI Training and Data Privacy Issues'}\n",
      "2024-10-19 12:55:05,048 - AInewsbot - INFO - I dub this cluster: AI Training and Data Privacy Issues\n"
     ]
    },
    {
     "data": {
      "text/html": [
       "<div>\n",
       "<style scoped>\n",
       "    .dataframe tbody tr th:only-of-type {\n",
       "        vertical-align: middle;\n",
       "    }\n",
       "\n",
       "    .dataframe tbody tr th {\n",
       "        vertical-align: top;\n",
       "    }\n",
       "\n",
       "    .dataframe thead th {\n",
       "        text-align: right;\n",
       "    }\n",
       "</style>\n",
       "<table border=\"1\" class=\"dataframe\">\n",
       "  <thead>\n",
       "    <tr style=\"text-align: right;\">\n",
       "      <th></th>\n",
       "      <th>id</th>\n",
       "      <th>title_topic_str</th>\n",
       "    </tr>\n",
       "  </thead>\n",
       "  <tbody>\n",
       "    <tr>\n",
       "      <th>57</th>\n",
       "      <td>57</td>\n",
       "      <td>US probing Elon Musk's Tesla over self-driving systems (Topics: Autonomous Vehicles, Computer Vision, Elon Musk, Governance, Hardware, Investigation, Job Automation, Legal Issues, Policy And Regulation, Politics, Products, Robots, Safety And Alignment, Self-Driving, Tesla, Transportation, Us)</td>\n",
       "    </tr>\n",
       "    <tr>\n",
       "      <th>58</th>\n",
       "      <td>58</td>\n",
       "      <td>Tesla FSD crashes in fog, sun glareFeds open new safety investigation (Topics: AI Doom, Autonomous Vehicles, Computer Vision, Crashes, Fog, Fsd, Governance, Hardware, Legal Issues, Policy And Regulation, Products, Robots, Safety And Alignment, Safety Investigation, Sun Glare, Tesla, Transportation)</td>\n",
       "    </tr>\n",
       "    <tr>\n",
       "      <th>59</th>\n",
       "      <td>59</td>\n",
       "      <td>Tesla software under investigation after collisions (Topics: AI Doom, Autonomous Vehicles, Collisions, Computer Vision, Governance, Hardware, Investigation, Legal Issues, Policy And Regulation, Politics, Products, Robots, Safety And Alignment, Software, Tesla, Transportation)</td>\n",
       "    </tr>\n",
       "    <tr>\n",
       "      <th>60</th>\n",
       "      <td>60</td>\n",
       "      <td>Tesla Facing NHTSA Investigation of 2.4 Million Cars Over Full Self-Driving Crashes (Topics: AI Doom, Autonomous Vehicles, Computer Vision, Crashes, Governance, Hardware, Investigation, Legal Issues, Nhtsa, Policy And Regulation, Politics, Products, Robots, Safety And Alignment, Self-Driving, Tesla, Transportation)</td>\n",
       "    </tr>\n",
       "  </tbody>\n",
       "</table>\n",
       "</div>"
      ],
      "text/plain": [
       "    id  \\\n",
       "57  57   \n",
       "58  58   \n",
       "59  59   \n",
       "60  60   \n",
       "\n",
       "                                                                                                                                                                                                                                                                                                                 title_topic_str  \n",
       "57                         US probing Elon Musk's Tesla over self-driving systems (Topics: Autonomous Vehicles, Computer Vision, Elon Musk, Governance, Hardware, Investigation, Job Automation, Legal Issues, Policy And Regulation, Politics, Products, Robots, Safety And Alignment, Self-Driving, Tesla, Transportation, Us)  \n",
       "58                   Tesla FSD crashes in fog, sun glareFeds open new safety investigation (Topics: AI Doom, Autonomous Vehicles, Computer Vision, Crashes, Fog, Fsd, Governance, Hardware, Legal Issues, Policy And Regulation, Products, Robots, Safety And Alignment, Safety Investigation, Sun Glare, Tesla, Transportation)  \n",
       "59                                          Tesla software under investigation after collisions (Topics: AI Doom, Autonomous Vehicles, Collisions, Computer Vision, Governance, Hardware, Investigation, Legal Issues, Policy And Regulation, Politics, Products, Robots, Safety And Alignment, Software, Tesla, Transportation)  \n",
       "60  Tesla Facing NHTSA Investigation of 2.4 Million Cars Over Full Self-Driving Crashes (Topics: AI Doom, Autonomous Vehicles, Computer Vision, Crashes, Governance, Hardware, Investigation, Legal Issues, Nhtsa, Policy And Regulation, Politics, Products, Robots, Safety And Alignment, Self-Driving, Tesla, Transportation)  "
      ]
     },
     "metadata": {},
     "output_type": "display_data"
    },
    {
     "name": "stderr",
     "output_type": "stream",
     "text": [
      "2024-10-19 12:55:05,455 - AInewsbot - INFO - {'topic_title': 'Tesla Self-Driving Investigations'}\n",
      "2024-10-19 12:55:05,456 - AInewsbot - INFO - I dub this cluster: Tesla Self-Driving Investigations\n"
     ]
    },
    {
     "name": "stdout",
     "output_type": "stream",
     "text": [
      "['AI Impact on Politics and Elections', 'AI and Technology Regulation in Politics', 'Claude AI and Code Assistants', 'Nvidia and AI Stock Market Trends', 'AI-Driven Fraud and Scams', 'Advancements in AI and Language Models', 'AI in Healthcare and Innovation', \"Sam Altman's Crypto and Privacy Innovations\", 'Advancements in Language Models and AI', 'AI Search Alternatives', 'Microsoft and OpenAI Partnership Dynamics', 'Copyright Protection in Publishing and AI', 'AI Training and Data Privacy Issues', 'Tesla Self-Driving Investigations']\n"
     ]
    }
   ],
   "source": [
    "state = lg_agent.topic_clusters(state)\n"
   ]
  },
  {
   "cell_type": "code",
   "execution_count": 46,
   "id": "f29fb420",
   "metadata": {},
   "outputs": [
    {
     "name": "stderr",
     "output_type": "stream",
     "text": [
      "2024-10-19 12:55:05,493 - AInewsbot - INFO - Queuing URLs for scraping\n",
      "2024-10-19 12:55:05,498 - AInewsbot - INFO - fetching 142 pages using 4 browsers\n",
      "2024-10-19 12:55:05,499 - AInewsbot - INFO - get_driver - 95410 Initializing webdriver\n",
      "2024-10-19 12:55:05,500 - AInewsbot - INFO - get_driver - 95410 Initializing webdriver\n",
      "2024-10-19 12:55:05,500 - AInewsbot - INFO - get_driver - 95410 Initializing webdriver\n",
      "2024-10-19 12:55:05,500 - AInewsbot - INFO - get_driver - 95410 Initializing webdriver\n",
      "2024-10-19 12:55:21,891 - AInewsbot - INFO - get_driver - Initialized webdriver profile\n",
      "2024-10-19 12:55:21,891 - AInewsbot - INFO - get_driver - Initialized webdriver profile\n",
      "2024-10-19 12:55:21,891 - AInewsbot - INFO - get_driver - Initialized webdriver profile\n",
      "2024-10-19 12:55:21,891 - AInewsbot - INFO - get_driver - Initialized webdriver profile\n",
      "2024-10-19 12:55:21,892 - AInewsbot - INFO - get_driver - Initialized webdriver service\n",
      "2024-10-19 12:55:21,892 - AInewsbot - INFO - get_driver - Initialized webdriver service\n",
      "2024-10-19 12:55:21,892 - AInewsbot - INFO - get_driver - Initialized webdriver service\n",
      "2024-10-19 12:55:21,892 - AInewsbot - INFO - get_driver - Initialized webdriver service\n",
      "2024-10-19 12:56:08,326 - AInewsbot - INFO - get_driver - Initialized webdriver\n",
      "2024-10-19 12:56:08,352 - AInewsbot - INFO - Processing page 0: https://www.fastcompany.com/91210933/ai-impact-2024-election\n",
      "2024-10-19 12:56:08,361 - AInewsbot - INFO - get_driver - Initialized webdriver\n",
      "2024-10-19 12:56:08,362 - AInewsbot - INFO - get_url(https://www.fastcompany.com/91210933/ai-impact-2024-election) - starting get_url https://www.fastcompany.com/91210933/ai-impact-2024-election\n",
      "2024-10-19 12:56:08,371 - AInewsbot - INFO - Processing page 1: https://futurism.com/the-byte/pentagon-wants-fake-ai-people\n",
      "2024-10-19 12:56:08,403 - AInewsbot - INFO - get_url(https://futurism.com/the-byte/pentagon-wants-fake-ai-people) - starting get_url https://futurism.com/the-byte/pentagon-wants-fake-ai-people\n",
      "2024-10-19 12:56:10,368 - AInewsbot - INFO - get_driver - Initialized webdriver\n",
      "2024-10-19 12:56:10,404 - AInewsbot - INFO - Processing page 2: https://news.google.com/read/CBMilgFBVV95cUxNWGMtZGp4c3VDZjJ1MWk0enR3M2w4LUZ6WDhvZ3lxYld3Q2oxdWJGdUhXMHRtZklfSFE3c3BxX0VQdUFsNi16NHNUaU5la1htbnRXbGNZdDR2d2VvOXlyVHJNbXhhdkVkRGtyT2UxMFlrblNLc2ZUbURHU0ZlbGtRLWRyektJM01SZ2s3dXBmUXN0SlFrMWc\n",
      "2024-10-19 12:56:10,411 - AInewsbot - INFO - get_url(https://news.google.com/read/CBMilgFBVV95cUxNWGMtZGp4c3VDZjJ1MWk0enR3M2w4LUZ6WDhvZ3lxYld3Q2oxdWJGdUhXMHRtZklfSFE3c3BxX0VQdUFsNi16NHNUaU5la1htbnRXbGNZdDR2d2VvOXlyVHJNbXhhdkVkRGtyT2UxMFlrblNLc2ZUbURHU0ZlbGtRLWRyektJM01SZ2s3dXBmUXN0SlFrMWc) - starting get_url https://news.google.com/read/CBMilgFBVV95cUxNWGMtZGp4c3VDZjJ1MWk0enR3M2w4LUZ6WDhvZ3lxYld3Q2oxdWJGdUhXMHRtZklfSFE3c3BxX0VQdUFsNi16NHNUaU5la1htbnRXbGNZdDR2d2VvOXlyVHJNbXhhdkVkRGtyT2UxMFlrblNLc2ZUbURHU0ZlbGtRLWRyektJM01SZ2s3dXBmUXN0SlFrMWc\n",
      "2024-10-19 12:56:13,715 - AInewsbot - INFO - get_driver - Initialized webdriver\n",
      "2024-10-19 12:56:13,736 - AInewsbot - INFO - Processing page 3: https://greekreporter.com/2024/10/19/harris-trump-stance-ai-cryptocurrency-regulations/\n",
      "2024-10-19 12:56:13,737 - AInewsbot - INFO - get_url(https://greekreporter.com/2024/10/19/harris-trump-stance-ai-cryptocurrency-regulations/) - starting get_url https://greekreporter.com/2024/10/19/harris-trump-stance-ai-cryptocurrency-regulations/\n",
      "2024-10-19 12:56:19,609 - AInewsbot - INFO - get_url(The Pentagon Wants to Flood Social Media With Fake AI People) - Saving The_Pentagon_Wants_to_Flood_Social_Media_With_Fake_AI_People.html as utf-8\n",
      "2024-10-19 12:56:19,612 - AInewsbot - INFO - Processing page 4: https://www.scmp.com/postmag/culture/article/3282841/herbie-hancock-ai-snoop-dogg-and-kendrick-lamar-collab-never-happened-and-kamala-harris-president\n",
      "2024-10-19 12:56:19,615 - AInewsbot - INFO - get_url(https://www.scmp.com/postmag/culture/article/3282841/herbie-hancock-ai-snoop-dogg-and-kendrick-lamar-collab-never-happened-and-kamala-harris-president) - starting get_url https://www.scmp.com/postmag/culture/article/3282841/herbie-hancock-ai-snoop-dogg-and-kendrick-lamar-collab-never-happened-and-kamala-harris-president\n",
      "2024-10-19 12:56:21,353 - AInewsbot - INFO - get_url(4 ways AI could negatively impact the 2024 election) - Saving 4_ways_AI_could_negatively_impact_the_2024_election.html as utf-8\n",
      "2024-10-19 12:56:21,354 - AInewsbot - INFO - Processing page 5: https://www.yahoo.com/news/ai-crypto-data-privacy-comparing-133847347.html\n",
      "2024-10-19 12:56:21,354 - AInewsbot - INFO - get_url(https://www.yahoo.com/news/ai-crypto-data-privacy-comparing-133847347.html) - starting get_url https://www.yahoo.com/news/ai-crypto-data-privacy-comparing-133847347.html\n",
      "2024-10-19 12:56:22,417 - AInewsbot - INFO - get_url(Washington Journal: Cat Zakrzewski Discusses Artificial intelligence & Campaign 2024) - Saving Washington_Journal__Cat_Zakrzewski_Discusses_Artificial_intelligence___Campaign_2024.html as utf-8\n",
      "2024-10-19 12:56:22,419 - AInewsbot - INFO - Processing page 6: https://www.geeky-gadgets.com/claude-sonnet-vs-chatgpt-vs-openai-o1/\n",
      "2024-10-19 12:56:22,419 - AInewsbot - INFO - get_url(https://www.geeky-gadgets.com/claude-sonnet-vs-chatgpt-vs-openai-o1/) - starting get_url https://www.geeky-gadgets.com/claude-sonnet-vs-chatgpt-vs-openai-o1/\n",
      "2024-10-19 12:56:24,294 - AInewsbot - INFO - get_url(Harris vs. Trump: Their Stance on AI and Cryptocurrency Regulations) - Saving Harris_vs__Trump__Their_Stance_on_AI_and_Cryptocurrency_Regulations.html as utf-8\n",
      "2024-10-19 12:56:24,295 - AInewsbot - INFO - Processing page 7: https://github.com/anthropics/anthropic-quickstarts/tree/main/financial-data-analyst\n",
      "2024-10-19 12:56:24,297 - AInewsbot - INFO - get_url(https://github.com/anthropics/anthropic-quickstarts/tree/main/financial-data-analyst) - starting get_url https://github.com/anthropics/anthropic-quickstarts/tree/main/financial-data-analyst\n",
      "2024-10-19 12:56:32,364 - AInewsbot - INFO - get_url(AI, crypto and data privacy: Comparing Harris, Trump on technology regulation) - Saving AI__crypto_and_data_privacy__Comparing_Harris__Trump_on_technology_regulation.html as utf-8\n",
      "2024-10-19 12:56:32,366 - AInewsbot - INFO - Processing page 8: https://news.google.com/read/CBMinwFBVV95cUxOa0VNSkZvUjlkVF9BNnMzdHVUNnB1b2JpUm52WnNyWGVaUHJWYkdMZXRPc3E4YjVnRG9YRUVhbkhpY3lEY0J5Wk9iczhYNjc2S2tValk5MFZ4R0tncW1lTXF6RTFNbVM2OXlQRFdfZE56em1zZUxFM1JjX2VCcGdXUDhuWmFwdW5qdEtCVnNxcTl5dWRzbFZMRjB6SEpGbGs\n",
      "2024-10-19 12:56:32,366 - AInewsbot - INFO - get_url(https://news.google.com/read/CBMinwFBVV95cUxOa0VNSkZvUjlkVF9BNnMzdHVUNnB1b2JpUm52WnNyWGVaUHJWYkdMZXRPc3E4YjVnRG9YRUVhbkhpY3lEY0J5Wk9iczhYNjc2S2tValk5MFZ4R0tncW1lTXF6RTFNbVM2OXlQRFdfZE56em1zZUxFM1JjX2VCcGdXUDhuWmFwdW5qdEtCVnNxcTl5dWRzbFZMRjB6SEpGbGs) - starting get_url https://news.google.com/read/CBMinwFBVV95cUxOa0VNSkZvUjlkVF9BNnMzdHVUNnB1b2JpUm52WnNyWGVaUHJWYkdMZXRPc3E4YjVnRG9YRUVhbkhpY3lEY0J5Wk9iczhYNjc2S2tValk5MFZ4R0tncW1lTXF6RTFNbVM2OXlQRFdfZE56em1zZUxFM1JjX2VCcGdXUDhuWmFwdW5qdEtCVnNxcTl5dWRzbFZMRjB6SEpGbGs\n",
      "2024-10-19 12:56:32,908 - AInewsbot - INFO - get_url(AI Coding Showdown: Claude Sonnet vs ChatGPT vs OpenAI o1 - Who Wins?) - Saving AI_Coding_Showdown__Claude_Sonnet_vs_ChatGPT_vs_OpenAI_o1_-_Who_Wins_.html as utf-8\n",
      "2024-10-19 12:56:32,910 - AInewsbot - INFO - Processing page 9: https://techcrunch.com/2024/10/19/claude-everything-you-need-to-know-about-anthropics-ai/\n",
      "2024-10-19 12:56:32,910 - AInewsbot - INFO - get_url(https://techcrunch.com/2024/10/19/claude-everything-you-need-to-know-about-anthropics-ai/) - starting get_url https://techcrunch.com/2024/10/19/claude-everything-you-need-to-know-about-anthropics-ai/\n",
      "2024-10-19 12:56:32,972 - AInewsbot - INFO - get_url(Herbie Hancock on AI, Kamala Harris, and the Kendrick Lamar collab that never was) - Saving Herbie_Hancock_on_AI__Kamala_Harris__and_the_Kendrick_Lamar_collab_that_never_was.html as utf-8\n",
      "2024-10-19 12:56:32,975 - AInewsbot - INFO - Processing page 10: https://news.google.com/read/CBMiigFBVV95cUxOdzFYTnNPNEpLdGMwdVh0cE9kRF9ReExiS1M2aE11dG14UmlUdjBfbTZsUk9uek1mRFZ3VHNuWVMwbmdRdmp0d2o1Skl5RXRMMVJQcWtWT1dVbm14LTBCUXczVUE0VE5uRFJtblN0a3F4Q0w1TGFPM2hPLW9rNXkweEZPd0c3R0Fod2c\n"
     ]
    },
    {
     "name": "stderr",
     "output_type": "stream",
     "text": [
      "2024-10-19 12:56:32,976 - AInewsbot - INFO - get_url(https://news.google.com/read/CBMiigFBVV95cUxOdzFYTnNPNEpLdGMwdVh0cE9kRF9ReExiS1M2aE11dG14UmlUdjBfbTZsUk9uek1mRFZ3VHNuWVMwbmdRdmp0d2o1Skl5RXRMMVJQcWtWT1dVbm14LTBCUXczVUE0VE5uRFJtblN0a3F4Q0w1TGFPM2hPLW9rNXkweEZPd0c3R0Fod2c) - starting get_url https://news.google.com/read/CBMiigFBVV95cUxOdzFYTnNPNEpLdGMwdVh0cE9kRF9ReExiS1M2aE11dG14UmlUdjBfbTZsUk9uek1mRFZ3VHNuWVMwbmdRdmp0d2o1Skl5RXRMMVJQcWtWT1dVbm14LTBCUXczVUE0VE5uRFJtblN0a3F4Q0w1TGFPM2hPLW9rNXkweEZPd0c3R0Fod2c\n",
      "2024-10-19 12:56:35,195 - AInewsbot - INFO - get_url(Show HN: How to leverage Claude's capabilities with interactive visualization) - Saving Show_HN__How_to_leverage_Claude_s_capabilities_with_interactive_visualization.html as utf-8\n",
      "2024-10-19 12:56:35,196 - AInewsbot - INFO - Processing page 11: https://news.google.com/read/CBMipgFBVV95cUxOT1k3S3ZVb2ZLcUh6VHRYUXlqRXRFSmFYNDNOOTZiWWdLTllyLXRabWE1Z1NZNVd3OS1aMUxkNFBrVmM2OXV1S3dMZzQ5a1Q4NGxiVXZlbnlIWTg2eVFNQ0V6d29WVV94dmtNVFNyUDVUeGt5bmZxWTRfX0o3UnZBa3RWSWEwQ3Q0SjFFMmpielFOOE41VjRRWkk5R1c3b1NZWjkxR0p3\n",
      "2024-10-19 12:56:35,197 - AInewsbot - INFO - get_url(https://news.google.com/read/CBMipgFBVV95cUxOT1k3S3ZVb2ZLcUh6VHRYUXlqRXRFSmFYNDNOOTZiWWdLTllyLXRabWE1Z1NZNVd3OS1aMUxkNFBrVmM2OXV1S3dMZzQ5a1Q4NGxiVXZlbnlIWTg2eVFNQ0V6d29WVV94dmtNVFNyUDVUeGt5bmZxWTRfX0o3UnZBa3RWSWEwQ3Q0SjFFMmpielFOOE41VjRRWkk5R1c3b1NZWjkxR0p3) - starting get_url https://news.google.com/read/CBMipgFBVV95cUxOT1k3S3ZVb2ZLcUh6VHRYUXlqRXRFSmFYNDNOOTZiWWdLTllyLXRabWE1Z1NZNVd3OS1aMUxkNFBrVmM2OXV1S3dMZzQ5a1Q4NGxiVXZlbnlIWTg2eVFNQ0V6d29WVV94dmtNVFNyUDVUeGt5bmZxWTRfX0o3UnZBa3RWSWEwQ3Q0SjFFMmpielFOOE41VjRRWkk5R1c3b1NZWjkxR0p3\n",
      "2024-10-19 12:56:43,616 - AInewsbot - INFO - get_url(All System Prompts For Anthropics Claude , Revealed) - Saving All_System_Prompts_For_Anthropics_Claude___Revealed.html as utf-8\n",
      "2024-10-19 12:56:43,617 - AInewsbot - INFO - Processing page 12: https://news.google.com/read/CBMisgFBVV95cUxNeFc3aFRnSmRKOWtJaFJWMVVocXg1LUhZU0pkNUZObVFZMVpjVDkzakdwTmw2Z0s3a1ZCdHJVS3NzYnBEdFluZzhSR1lWUlZKRktudWMtNWQ4U3NLOFBxTEtKTThkT1RaUV9DeEFrakttTTVXS3ViY2p2ZDFFcDlMems1QXFWaDF1eUtwNG1oTThicjdEaWlmeXdoUWstQ3VidS1SWXpaQ0puT0RhNDQwbkhB\n",
      "2024-10-19 12:56:43,618 - AInewsbot - INFO - get_url(https://news.google.com/read/CBMisgFBVV95cUxNeFc3aFRnSmRKOWtJaFJWMVVocXg1LUhZU0pkNUZObVFZMVpjVDkzakdwTmw2Z0s3a1ZCdHJVS3NzYnBEdFluZzhSR1lWUlZKRktudWMtNWQ4U3NLOFBxTEtKTThkT1RaUV9DeEFrakttTTVXS3ViY2p2ZDFFcDlMems1QXFWaDF1eUtwNG1oTThicjdEaWlmeXdoUWstQ3VidS1SWXpaQ0puT0RhNDQwbkhB) - starting get_url https://news.google.com/read/CBMisgFBVV95cUxNeFc3aFRnSmRKOWtJaFJWMVVocXg1LUhZU0pkNUZObVFZMVpjVDkzakdwTmw2Z0s3a1ZCdHJVS3NzYnBEdFluZzhSR1lWUlZKRktudWMtNWQ4U3NLOFBxTEtKTThkT1RaUV9DeEFrakttTTVXS3ViY2p2ZDFFcDlMems1QXFWaDF1eUtwNG1oTThicjdEaWlmeXdoUWstQ3VidS1SWXpaQ0puT0RhNDQwbkhB\n",
      "2024-10-19 12:56:43,670 - AInewsbot - INFO - get_url(Claude AI: Unboxing Anthropics LLM-based AI Assistant, Artifacts & Use Cases) - Saving Claude_AI__Unboxing_Anthropics_LLM-based_AI_Assistant__Artifacts___Use_Cases.html as utf-8\n",
      "2024-10-19 12:56:43,672 - AInewsbot - INFO - Processing page 13: https://news.google.com/read/CBMifEFVX3lxTFBMSDhoSjVjdHRTS2FVS2lEeDhHeldHN1ItVndlOXFVWFdPX25tREtScDhNWE5yUGRsMVQ4WXpJcVphMkRiTVhQWjlMeHdxcUVEZk9Oby1ia01tNXA5SG9QZGdYNUs2dS1EalZLYmFscjF2MGhDbThrNi0xQUE\n",
      "2024-10-19 12:56:43,672 - AInewsbot - INFO - get_url(https://news.google.com/read/CBMifEFVX3lxTFBMSDhoSjVjdHRTS2FVS2lEeDhHeldHN1ItVndlOXFVWFdPX25tREtScDhNWE5yUGRsMVQ4WXpJcVphMkRiTVhQWjlMeHdxcUVEZk9Oby1ia01tNXA5SG9QZGdYNUs2dS1EalZLYmFscjF2MGhDbThrNi0xQUE) - starting get_url https://news.google.com/read/CBMifEFVX3lxTFBMSDhoSjVjdHRTS2FVS2lEeDhHeldHN1ItVndlOXFVWFdPX25tREtScDhNWE5yUGRsMVQ4WXpJcVphMkRiTVhQWjlMeHdxcUVEZk9Oby1ia01tNXA5SG9QZGdYNUs2dS1EalZLYmFscjF2MGhDbThrNi0xQUE\n",
      "2024-10-19 12:56:46,421 - AInewsbot - INFO - get_url(Claude: Everything you need to know about Anthropics AI) - Saving Claude__Everything_you_need_to_know_about_Anthropics_AI.html as utf-8\n",
      "2024-10-19 12:56:46,423 - AInewsbot - INFO - Processing page 14: https://www.benzinga.com/analyst-ratings/analyst-color/24/10/41410262/ai-creates-generational-opportunity-why-nvidia-analyst-says-stock-will-hit-190\n",
      "2024-10-19 12:56:46,424 - AInewsbot - INFO - get_url(https://www.benzinga.com/analyst-ratings/analyst-color/24/10/41410262/ai-creates-generational-opportunity-why-nvidia-analyst-says-stock-will-hit-190) - starting get_url https://www.benzinga.com/analyst-ratings/analyst-color/24/10/41410262/ai-creates-generational-opportunity-why-nvidia-analyst-says-stock-will-hit-190\n",
      "2024-10-19 12:56:46,536 - AInewsbot - INFO - get_url(Anthropic just announced major Claude AI update  heres everything thats new) - Saving Anthropic_just_announced_major_Claude_AI_update__heres_everything_thats_new.html as utf-8\n",
      "2024-10-19 12:56:46,539 - AInewsbot - INFO - Processing page 15: https://www.reddit.com/r/technology/comments/1g6xoem/scammers_swindle_elderly_california_man_out_of/\n",
      "2024-10-19 12:56:46,541 - AInewsbot - INFO - get_url(https://www.reddit.com/r/technology/comments/1g6xoem/scammers_swindle_elderly_california_man_out_of/) - starting get_url https://www.reddit.com/r/technology/comments/1g6xoem/scammers_swindle_elderly_california_man_out_of/\n",
      "2024-10-19 12:56:54,051 - AInewsbot - INFO - get_url(Where Nvidia ranks among fastest-growing AI companies. No, its not No. 1.) - Saving Where_Nvidia_ranks_among_fastest-growing_AI_companies__No__its_not_No__1_.html as utf-8\n",
      "2024-10-19 12:56:54,052 - AInewsbot - INFO - Processing page 16: https://tech.co/news/us-govt-recovered-billions-fraud-ai\n",
      "2024-10-19 12:56:54,052 - AInewsbot - INFO - get_url(https://tech.co/news/us-govt-recovered-billions-fraud-ai) - starting get_url https://tech.co/news/us-govt-recovered-billions-fraud-ai\n",
      "2024-10-19 12:56:54,102 - AInewsbot - INFO - get_url(Looking to Buy Your First AI Stock? This Is the Best Choice (Hint: It's Not Nvidia).) - Saving Looking_to_Buy_Your_First_AI_Stock__This_Is_the_Best_Choice__Hint__It_s_Not_Nvidia__.html as utf-8\n",
      "2024-10-19 12:56:54,104 - AInewsbot - INFO - Processing page 17: https://www.makeuseof.com/how-ai-video-call-scams-work/\n",
      "2024-10-19 12:56:54,106 - AInewsbot - INFO - get_url(https://www.makeuseof.com/how-ai-video-call-scams-work/) - starting get_url https://www.makeuseof.com/how-ai-video-call-scams-work/\n",
      "2024-10-19 12:56:58,015 - AInewsbot - INFO - get_url(Scammers swindle elderly California man out of $25K by using AI voice technology to claim his son was in 'horrible accident,' needed money for bail: 'Absolutely his voice') - Saving Scammers_swindle_elderly_California_man_out_of__25K_by_using_AI_voice_technology_to_claim_his_son_was_in__horrible_accident___needed_money_for_bail___Absolutely_his_voice_.html as utf-8\n",
      "2024-10-19 12:56:58,017 - AInewsbot - INFO - Processing page 18: https://techxplore.com/news/2024-10-method-enabling-llms-concisely-accurately.html\n",
      "2024-10-19 12:56:58,018 - AInewsbot - INFO - get_url(https://techxplore.com/news/2024-10-method-enabling-llms-concisely-accurately.html) - starting get_url https://techxplore.com/news/2024-10-method-enabling-llms-concisely-accurately.html\n",
      "2024-10-19 12:56:59,358 - AInewsbot - INFO - get_url(AI Creates 'Generational Opportunity': Why Nvidia Analyst Says Stock Will Hit $190) - Saving AI_Creates__Generational_Opportunity___Why_Nvidia_Analyst_Says_Stock_Will_Hit__190.html as utf-8\n",
      "2024-10-19 12:56:59,360 - AInewsbot - INFO - Processing page 19: https://neurosciencenews.com/ai-llm-accuracy-27893/\n",
      "2024-10-19 12:56:59,360 - AInewsbot - INFO - get_url(https://neurosciencenews.com/ai-llm-accuracy-27893/) - starting get_url https://neurosciencenews.com/ai-llm-accuracy-27893/\n",
      "2024-10-19 12:57:05,769 - AInewsbot - INFO - get_url(US Government Recovered $4 Billion Worth of Fraud With AI) - Saving US_Government_Recovered__4_Billion_Worth_of_Fraud_With_AI.html as utf-8\n",
      "2024-10-19 12:57:05,772 - AInewsbot - INFO - Processing page 20: https://blog.mozilla.ai/taming-randomness-in-ml-models-with-hypothesis-testing-and-marimo/\n",
      "2024-10-19 12:57:05,773 - AInewsbot - INFO - get_url(https://blog.mozilla.ai/taming-randomness-in-ml-models-with-hypothesis-testing-and-marimo/) - starting get_url https://blog.mozilla.ai/taming-randomness-in-ml-models-with-hypothesis-testing-and-marimo/\n"
     ]
    },
    {
     "name": "stderr",
     "output_type": "stream",
     "text": [
      "2024-10-19 12:57:07,563 - AInewsbot - INFO - get_url(AI Video Call Scams Are on the Rise, and This Is How They Work) - Saving AI_Video_Call_Scams_Are_on_the_Rise__and_This_Is_How_They_Work.html as utf-8\n",
      "2024-10-19 12:57:07,566 - AInewsbot - INFO - Processing page 21: https://www.marktechpost.com/2024/10/19/this-ai-paper-from-google-deepmind-explores-inference-scaling-in-long-context-rag/\n",
      "2024-10-19 12:57:07,566 - AInewsbot - INFO - get_url(https://www.marktechpost.com/2024/10/19/this-ai-paper-from-google-deepmind-explores-inference-scaling-in-long-context-rag/) - starting get_url https://www.marktechpost.com/2024/10/19/this-ai-paper-from-google-deepmind-explores-inference-scaling-in-long-context-rag/\n",
      "2024-10-19 12:57:10,057 - AInewsbot - INFO - get_url(Enhancing AI Accuracy and Confidence in Answer Generation) - Saving Enhancing_AI_Accuracy_and_Confidence_in_Answer_Generation.html as utf-8\n",
      "2024-10-19 12:57:10,059 - AInewsbot - INFO - Processing page 22: https://www.marktechpost.com/2024/10/19/treat-a-deep-learning-framework-that-achieves-high-precision-modeling-for-a-wide-range-of-dynamical-systems-by-injecting-time-reversal-symmetry-as-an-inductive-bias/\n",
      "2024-10-19 12:57:10,059 - AInewsbot - INFO - get_url(https://www.marktechpost.com/2024/10/19/treat-a-deep-learning-framework-that-achieves-high-precision-modeling-for-a-wide-range-of-dynamical-systems-by-injecting-time-reversal-symmetry-as-an-inductive-bias/) - starting get_url https://www.marktechpost.com/2024/10/19/treat-a-deep-learning-framework-that-achieves-high-precision-modeling-for-a-wide-range-of-dynamical-systems-by-injecting-time-reversal-symmetry-as-an-inductive-bias/\n",
      "2024-10-19 12:57:10,216 - AInewsbot - INFO - get_url(Researchers develop method enabling LLMs to answer questions more concisely and accurately) - Saving Researchers_develop_method_enabling_LLMs_to_answer_questions_more_concisely_and_accurately.html as utf-8\n",
      "2024-10-19 12:57:10,216 - AInewsbot - INFO - Processing page 23: https://www.livescience.com/technology/engineering/scientists-have-built-an-ai-powered-electronic-tongue\n",
      "2024-10-19 12:57:10,217 - AInewsbot - INFO - get_url(https://www.livescience.com/technology/engineering/scientists-have-built-an-ai-powered-electronic-tongue) - starting get_url https://www.livescience.com/technology/engineering/scientists-have-built-an-ai-powered-electronic-tongue\n",
      "2024-10-19 12:57:16,231 - AInewsbot - INFO - get_url(Taming randomness in ML models with hypothesis testing and marimo) - Saving Taming_randomness_in_ML_models_with_hypothesis_testing_and_marimo.html as utf-8\n",
      "2024-10-19 12:57:16,233 - AInewsbot - INFO - Processing page 24: https://www.washingtonpost.com/health/2024/10/19/artificial-intelligence-health-care-website/\n",
      "2024-10-19 12:57:16,234 - AInewsbot - INFO - get_url(https://www.washingtonpost.com/health/2024/10/19/artificial-intelligence-health-care-website/) - starting get_url https://www.washingtonpost.com/health/2024/10/19/artificial-intelligence-health-care-website/\n",
      "2024-10-19 12:57:20,234 - AInewsbot - INFO - get_url(This AI Paper from Google DeepMind Explores Inference Scaling in Long-Context RAG) - Saving This_AI_Paper_from_Google_DeepMind_Explores_Inference_Scaling_in_Long-Context_RAG.html as utf-8\n",
      "2024-10-19 12:57:20,236 - AInewsbot - INFO - Processing page 25: https://www.benzinga.com/pressreleases/24/10/g41414929/xyz-medias-next-generation-of-innovators-highlights-james-gus-research-advancing-personalized-canc\n",
      "2024-10-19 12:57:20,236 - AInewsbot - INFO - get_url(https://www.benzinga.com/pressreleases/24/10/g41414929/xyz-medias-next-generation-of-innovators-highlights-james-gus-research-advancing-personalized-canc) - starting get_url https://www.benzinga.com/pressreleases/24/10/g41414929/xyz-medias-next-generation-of-innovators-highlights-james-gus-research-advancing-personalized-canc\n",
      "2024-10-19 12:57:21,205 - AInewsbot - INFO - get_url(Scientists have built an AI-powered 'electronic tongue') - Saving Scientists_have_built_an_AI-powered__electronic_tongue_.html as utf-8\n",
      "2024-10-19 12:57:21,206 - AInewsbot - INFO - Processing page 26: https://finance.yahoo.com/news/heartflow-announces-category-cpt-code-163900050.html\n",
      "2024-10-19 12:57:21,206 - AInewsbot - INFO - get_url(https://finance.yahoo.com/news/heartflow-announces-category-cpt-code-163900050.html) - starting get_url https://finance.yahoo.com/news/heartflow-announces-category-cpt-code-163900050.html\n",
      "2024-10-19 12:57:22,834 - AInewsbot - INFO - get_url(TREAT: A Deep Learning Framework that Achieves High-Precision Modeling for a Wide Range of Dynamical Systems by Injecting Time-Reversal Symmetry as an Inductive Bias) - Saving TREAT__A_Deep_Learning_Framework_that_Achieves_High-Precision_Modeling_for_a_Wide_Range_of_Dynamical_Systems_by_Injecting_Time-Reversal_Symmetry_as_an_Inductive_Bias.html as utf-8\n",
      "2024-10-19 12:57:22,835 - AInewsbot - INFO - Processing page 27: https://www.msn.com/en-us/health/other/new-jama-channel-highlights-ai-s-role-in-medicine/ar-AA1sxTdE\n",
      "2024-10-19 12:57:22,835 - AInewsbot - INFO - get_url(https://www.msn.com/en-us/health/other/new-jama-channel-highlights-ai-s-role-in-medicine/ar-AA1sxTdE) - starting get_url https://www.msn.com/en-us/health/other/new-jama-channel-highlights-ai-s-role-in-medicine/ar-AA1sxTdE\n",
      "2024-10-19 12:57:28,899 - AInewsbot - INFO - get_url(New JAMA channel highlights AIs role in medicine) - Saving New_JAMA_channel_highlights_AIs_role_in_medicine.html as utf-8\n",
      "2024-10-19 12:57:28,901 - AInewsbot - INFO - Processing page 28: https://finance.yahoo.com/news/xyz-media-next-generation-innovators-034400241.html\n",
      "2024-10-19 12:57:28,901 - AInewsbot - INFO - get_url(https://finance.yahoo.com/news/xyz-media-next-generation-innovators-034400241.html) - starting get_url https://finance.yahoo.com/news/xyz-media-next-generation-innovators-034400241.html\n",
      "2024-10-19 12:57:31,618 - AInewsbot - INFO - get_url(XYZ Media's 'Next Generation of Innovators' Highlights James Gu's Research: Advancing Personalized Cancer Treatment with Digital Twin Technology) - Saving XYZ_Media_s__Next_Generation_of_Innovators__Highlights_James_Gu_s_Research__Advancing_Personalized_Cancer_Treatment_with_Digital_Twin_Technology.html as utf-8\n",
      "2024-10-19 12:57:31,619 - AInewsbot - INFO - Processing page 29: https://finance.yahoo.com/news/inovait-reveals-canadas-strategic-advantages-154700391.html\n",
      "2024-10-19 12:57:31,620 - AInewsbot - INFO - get_url(https://finance.yahoo.com/news/inovait-reveals-canadas-strategic-advantages-154700391.html) - starting get_url https://finance.yahoo.com/news/inovait-reveals-canadas-strategic-advantages-154700391.html\n",
      "2024-10-19 12:57:32,930 - AInewsbot - INFO - get_url(HeartFlow Announces New Category I CPT Code from the American Medical Association for AI-Enabled Plaque Analysis to Assess Risk for Coronary Artery Disease) - Saving HeartFlow_Announces_New_Category_I_CPT_Code_from_the_American_Medical_Association_for_AI-Enabled_Plaque_Analysis_to_Assess_Risk_for_Coronary_Artery_Disease.html as utf-8\n",
      "2024-10-19 12:57:32,933 - AInewsbot - INFO - Processing page 30: https://www.theverge.com/2024/10/18/24273691/world-orb-sam-altman-iris-scan-crypto-token\n",
      "2024-10-19 12:57:32,934 - AInewsbot - INFO - get_url(https://www.theverge.com/2024/10/18/24273691/world-orb-sam-altman-iris-scan-crypto-token) - starting get_url https://www.theverge.com/2024/10/18/24273691/world-orb-sam-altman-iris-scan-crypto-token\n",
      "2024-10-19 12:57:33,181 - AInewsbot - INFO - get_url(New JAMA channel highlights AI's role in medicine) - Saving New_JAMA_channel_highlights_AI_s_role_in_medicine.html as utf-8\n",
      "2024-10-19 12:57:33,186 - AInewsbot - INFO - Processing page 31: https://www.techtimes.com/articles/307927/20241019/sam-altmans-worldcoin-rebrand-now-calls-it-world-brings-new-orb-crypto-project.htm\n",
      "2024-10-19 12:57:33,192 - AInewsbot - INFO - get_url(https://www.techtimes.com/articles/307927/20241019/sam-altmans-worldcoin-rebrand-now-calls-it-world-brings-new-orb-crypto-project.htm) - starting get_url https://www.techtimes.com/articles/307927/20241019/sam-altmans-worldcoin-rebrand-now-calls-it-world-brings-new-orb-crypto-project.htm\n",
      "2024-10-19 12:57:40,515 - AInewsbot - INFO - get_url(XYZ Media's Next Generation of Innovators' Highlights James Gu's Research: Advancing Personalized Cancer Treatment with Digital Twin Technology) - Saving XYZ_Media_s_Next_Generation_of_Innovators__Highlights_James_Gu_s_Research__Advancing_Personalized_Cancer_Treatment_with_Digital_Twin_Technology.html as utf-8\n"
     ]
    },
    {
     "name": "stderr",
     "output_type": "stream",
     "text": [
      "2024-10-19 12:57:40,519 - AInewsbot - INFO - Processing page 32: https://www.inc.com/reuters/heres-why-critics-are-raising-eyebrows-over-sam-altmans-iris-scanning-crypto-project/90991229\n",
      "2024-10-19 12:57:40,520 - AInewsbot - INFO - get_url(https://www.inc.com/reuters/heres-why-critics-are-raising-eyebrows-over-sam-altmans-iris-scanning-crypto-project/90991229) - starting get_url https://www.inc.com/reuters/heres-why-critics-are-raising-eyebrows-over-sam-altmans-iris-scanning-crypto-project/90991229\n",
      "2024-10-19 12:57:42,719 - AInewsbot - INFO - get_url(INOVAIT reveals Canada's strategic advantages in image-guided therapy and artificial intelligence in latest report) - Saving INOVAIT_reveals_Canada_s_strategic_advantages_in_image-guided_therapy_and_artificial_intelligence_in_latest_report.html as utf-8\n",
      "2024-10-19 12:57:42,721 - AInewsbot - INFO - Processing page 33: https://hackernoon.com/mixtrala-multilingual-language-model-trained-with-a-context-size-of-32k-tokens\n",
      "2024-10-19 12:57:42,721 - AInewsbot - INFO - get_url(https://hackernoon.com/mixtrala-multilingual-language-model-trained-with-a-context-size-of-32k-tokens) - starting get_url https://hackernoon.com/mixtrala-multilingual-language-model-trained-with-a-context-size-of-32k-tokens\n",
      "2024-10-19 12:57:43,843 - AInewsbot - INFO - get_url(Sam Altmans eyeball-scanning crypto project has a new Orb and a new name) - Saving Sam_Altmans_eyeball-scanning_crypto_project_has_a_new_Orb_and_a_new_name.html as utf-8\n",
      "2024-10-19 12:57:43,845 - AInewsbot - INFO - Processing page 34: https://www.tipranks.com/news/meta-platforms-nasdaqmeta-releases-a-series-of-new-ai-models\n",
      "2024-10-19 12:57:43,845 - AInewsbot - INFO - get_url(https://www.tipranks.com/news/meta-platforms-nasdaqmeta-releases-a-series-of-new-ai-models) - starting get_url https://www.tipranks.com/news/meta-platforms-nasdaqmeta-releases-a-series-of-new-ai-models\n",
      "2024-10-19 12:57:45,479 - AInewsbot - INFO - get_url(Sam Altman's Worldcoin Rebrand Now Calls It 'World,' Brings New Orb for Crypto Project) - Saving Sam_Altman_s_Worldcoin_Rebrand_Now_Calls_It__World___Brings_New_Orb_for_Crypto_Project.html as utf-8\n",
      "2024-10-19 12:57:45,480 - AInewsbot - INFO - Processing page 35: https://www.marktechpost.com/2024/10/18/meta-ai-releases-meta-lingua-a-minimal-and-fast-llm-training-and-inference-library-for-research/\n",
      "2024-10-19 12:57:45,481 - AInewsbot - INFO - get_url(https://www.marktechpost.com/2024/10/18/meta-ai-releases-meta-lingua-a-minimal-and-fast-llm-training-and-inference-library-for-research/) - starting get_url https://www.marktechpost.com/2024/10/18/meta-ai-releases-meta-lingua-a-minimal-and-fast-llm-training-and-inference-library-for-research/\n",
      "2024-10-19 12:57:51,245 - AInewsbot - INFO - get_url(Heres Why Critics Are Raising Eyebrows Over Sam Altmans Iris-Scanning Crypto Project) - Saving Heres_Why_Critics_Are_Raising_Eyebrows_Over_Sam_Altmans_Iris-Scanning_Crypto_Project.html as utf-8\n",
      "2024-10-19 12:57:51,247 - AInewsbot - INFO - Processing page 36: https://hackernoon.com/how-mixtral-8x7b-sets-new-standards-in-open-source-ai-with-innovative-design\n",
      "2024-10-19 12:57:51,248 - AInewsbot - INFO - get_url(https://hackernoon.com/how-mixtral-8x7b-sets-new-standards-in-open-source-ai-with-innovative-design) - starting get_url https://hackernoon.com/how-mixtral-8x7b-sets-new-standards-in-open-source-ai-with-innovative-design\n",
      "2024-10-19 12:57:53,688 - AInewsbot - INFO - get_url(Mixtrala Multilingual Language Model Trained with a Context Size of 32k Tokens) - Saving Mixtrala_Multilingual_Language_Model_Trained_with_a_Context_Size_of_32k_Tokens.html as utf-8\n",
      "2024-10-19 12:57:53,690 - AInewsbot - INFO - Processing page 37: https://venturebeat.com/ai/meta-introduces-spirit-lm-open-source-model-that-combines-text-and-speech-inputs-outputs/\n",
      "2024-10-19 12:57:53,690 - AInewsbot - INFO - get_url(https://venturebeat.com/ai/meta-introduces-spirit-lm-open-source-model-that-combines-text-and-speech-inputs-outputs/) - starting get_url https://venturebeat.com/ai/meta-introduces-spirit-lm-open-source-model-that-combines-text-and-speech-inputs-outputs/\n",
      "2024-10-19 12:57:54,628 - AInewsbot - INFO - get_url(Meta Platforms (NASDAQ:META) Releases a Series of New AI Models) - Saving Meta_Platforms__NASDAQ_META__Releases_a_Series_of_New_AI_Models.html as utf-8\n",
      "2024-10-19 12:57:54,629 - AInewsbot - INFO - Processing page 38: https://www.marktechpost.com/2024/10/18/microsoft-open-sources-bitnet-cpp-a-super-efficient-1-bit-llm-inference-framework-that-runs-directly-on-cpus/\n",
      "2024-10-19 12:57:54,630 - AInewsbot - INFO - get_url(https://www.marktechpost.com/2024/10/18/microsoft-open-sources-bitnet-cpp-a-super-efficient-1-bit-llm-inference-framework-that-runs-directly-on-cpus/) - starting get_url https://www.marktechpost.com/2024/10/18/microsoft-open-sources-bitnet-cpp-a-super-efficient-1-bit-llm-inference-framework-that-runs-directly-on-cpus/\n",
      "2024-10-19 12:57:57,314 - AInewsbot - INFO - get_url(Meta AI Releases Meta Lingua: A Minimal and Fast LLM Training and Inference Library for Research) - Saving Meta_AI_Releases_Meta_Lingua__A_Minimal_and_Fast_LLM_Training_and_Inference_Library_for_Research.html as utf-8\n",
      "2024-10-19 12:57:57,315 - AInewsbot - INFO - Processing page 39: https://analyticsindiamag.com/ai-insights-analysis/pytorch-2-5-unleashes-high-end-gpu-performance-supercharges-llms/\n",
      "2024-10-19 12:57:57,315 - AInewsbot - INFO - get_url(https://analyticsindiamag.com/ai-insights-analysis/pytorch-2-5-unleashes-high-end-gpu-performance-supercharges-llms/) - starting get_url https://analyticsindiamag.com/ai-insights-analysis/pytorch-2-5-unleashes-high-end-gpu-performance-supercharges-llms/\n",
      "2024-10-19 12:58:02,420 - AInewsbot - INFO - get_url(How Mixtral 8x7B Sets New Standards in Open-Source AI with Innovative Design) - Saving How_Mixtral_8x7B_Sets_New_Standards_in_Open-Source_AI_with_Innovative_Design.html as utf-8\n",
      "2024-10-19 12:58:02,422 - AInewsbot - INFO - Processing page 40: https://www.androidpolice.com/i-dumped-google-search-for-ai/\n",
      "2024-10-19 12:58:02,422 - AInewsbot - INFO - get_url(https://www.androidpolice.com/i-dumped-google-search-for-ai/) - starting get_url https://www.androidpolice.com/i-dumped-google-search-for-ai/\n",
      "2024-10-19 12:58:04,689 - AInewsbot - INFO - get_url(Meta debuts Spirit LM, its first open-source multimodal language model capable of integrating text and speech inputs and outputs, for non-commercial use only) - Saving Meta_debuts_Spirit_LM__its_first_open-source_multimodal_language_model_capable_of_integrating_text_and_speech_inputs_and_outputs__for_non-commercial_use_only.html as utf-8\n",
      "2024-10-19 12:58:04,690 - AInewsbot - INFO - Processing page 41: https://news.google.com/read/CBMingFBVV95cUxQR2ZBNjBYTHpMMTlpcERnWDhmamU0YVlhdW1KQWNuMkpLMmNabk5DTE4xeGpfc2F1YXBZV0k4Nm9GdTAtVEJidWQyZDNCMUE1d1BJTENnQS1FNGd4djl1cmdQdTRHNWoyNnd1NkhyQWhKOVJjQTJ1XzJpMzZBVzVBeXBXNW8wV19iTTFYRE9Qd2E0ZFVGTlFnWG1FekpoZw\n",
      "2024-10-19 12:58:04,690 - AInewsbot - INFO - get_url(https://news.google.com/read/CBMingFBVV95cUxQR2ZBNjBYTHpMMTlpcERnWDhmamU0YVlhdW1KQWNuMkpLMmNabk5DTE4xeGpfc2F1YXBZV0k4Nm9GdTAtVEJidWQyZDNCMUE1d1BJTENnQS1FNGd4djl1cmdQdTRHNWoyNnd1NkhyQWhKOVJjQTJ1XzJpMzZBVzVBeXBXNW8wV19iTTFYRE9Qd2E0ZFVGTlFnWG1FekpoZw) - starting get_url https://news.google.com/read/CBMingFBVV95cUxQR2ZBNjBYTHpMMTlpcERnWDhmamU0YVlhdW1KQWNuMkpLMmNabk5DTE4xeGpfc2F1YXBZV0k4Nm9GdTAtVEJidWQyZDNCMUE1d1BJTENnQS1FNGd4djl1cmdQdTRHNWoyNnd1NkhyQWhKOVJjQTJ1XzJpMzZBVzVBeXBXNW8wV19iTTFYRE9Qd2E0ZFVGTlFnWG1FekpoZw\n",
      "2024-10-19 12:58:07,584 - AInewsbot - INFO - get_url(Microsoft Open-Sources bitnet.cpp: A Super-Efficient 1-bit LLM Inference Framework that Runs Directly on CPUs) - Saving Microsoft_Open-Sources_bitnet_cpp__A_Super-Efficient_1-bit_LLM_Inference_Framework_that_Runs_Directly_on_CPUs.html as utf-8\n",
      "2024-10-19 12:58:07,585 - AInewsbot - INFO - Processing page 42: https://www.techradar.com/computing/artificial-intelligence/perplexitys-ai-search-engine-goes-deep-to-get-your-answers\n",
      "2024-10-19 12:58:07,585 - AInewsbot - INFO - get_url(https://www.techradar.com/computing/artificial-intelligence/perplexitys-ai-search-engine-goes-deep-to-get-your-answers) - starting get_url https://www.techradar.com/computing/artificial-intelligence/perplexitys-ai-search-engine-goes-deep-to-get-your-answers\n"
     ]
    },
    {
     "name": "stderr",
     "output_type": "stream",
     "text": [
      "2024-10-19 12:58:08,409 - AInewsbot - INFO - get_url(PyTorch 2.5 Unleashes High-End GPU Performance, Supercharges LLMs) - Saving PyTorch_2_5_Unleashes_High-End_GPU_Performance__Supercharges_LLMs.html as utf-8\n",
      "2024-10-19 12:58:08,410 - AInewsbot - INFO - Processing page 43: https://techcrunch.com/2024/10/18/microsoft-could-end-up-with-substantial-equity-in-the-restructured-for-profit-openai/\n",
      "2024-10-19 12:58:08,410 - AInewsbot - INFO - get_url(https://techcrunch.com/2024/10/18/microsoft-could-end-up-with-substantial-equity-in-the-restructured-for-profit-openai/) - starting get_url https://techcrunch.com/2024/10/18/microsoft-could-end-up-with-substantial-equity-in-the-restructured-for-profit-openai/\n",
      "2024-10-19 12:58:14,463 - AInewsbot - INFO - get_url(I dumped Google for AI search alternatives like Perplexity and ChatGPT) - Saving I_dumped_Google_for_AI_search_alternatives_like_Perplexity_and_ChatGPT.html as utf-8\n",
      "2024-10-19 12:58:14,465 - AInewsbot - INFO - Processing page 44: https://www.geekwire.com/2024/tensions-with-openai-underscore-microsofts-need-to-ensure-its-own-ai-future\n",
      "2024-10-19 12:58:14,465 - AInewsbot - INFO - get_url(https://www.geekwire.com/2024/tensions-with-openai-underscore-microsofts-need-to-ensure-its-own-ai-future) - starting get_url https://www.geekwire.com/2024/tensions-with-openai-underscore-microsofts-need-to-ensure-its-own-ai-future\n",
      "2024-10-19 12:58:15,111 - AInewsbot - INFO - get_url(Perplexity lets you search your internal enterprise files and the web) - Saving Perplexity_lets_you_search_your_internal_enterprise_files_and_the_web.html as utf-8\n",
      "2024-10-19 12:58:15,112 - AInewsbot - INFO - Processing page 45: https://techcrunch.com/2024/10/17/the-surprising-way-openai-could-get-out-of-its-pact-with-microsoft/\n",
      "2024-10-19 12:58:15,112 - AInewsbot - INFO - get_url(https://techcrunch.com/2024/10/17/the-surprising-way-openai-could-get-out-of-its-pact-with-microsoft/) - starting get_url https://techcrunch.com/2024/10/17/the-surprising-way-openai-could-get-out-of-its-pact-with-microsoft/\n",
      "2024-10-19 12:58:18,633 - AInewsbot - INFO - get_url(Perplexity's AI search engine goes deep to get your answers) - Saving Perplexity_s_AI_search_engine_goes_deep_to_get_your_answers.html as utf-8\n",
      "2024-10-19 12:58:18,635 - AInewsbot - INFO - Processing page 46: https://siliconangle.com/2024/10/18/openai-microsoft-reportedly-hire-banks-renegotiate-partnership-terms\n",
      "2024-10-19 12:58:18,636 - AInewsbot - INFO - get_url(https://siliconangle.com/2024/10/18/openai-microsoft-reportedly-hire-banks-renegotiate-partnership-terms) - starting get_url https://siliconangle.com/2024/10/18/openai-microsoft-reportedly-hire-banks-renegotiate-partnership-terms\n",
      "2024-10-19 12:58:19,083 - AInewsbot - INFO - get_url(Microsoft could end up with substantial equity in the restructured, for-profit OpenAI) - Saving Microsoft_could_end_up_with_substantial_equity_in_the_restructured__for-profit_OpenAI.html as utf-8\n",
      "2024-10-19 12:58:19,085 - AInewsbot - INFO - Processing page 47: https://news.google.com/read/CBMiowFBVV95cUxPWWNRQ1ZTd2R5ZW0waGlvbnJsa3lrNkNkUUdNcWtPaDNvVGE3NE9Bakc2UVZEbHJHdEFUS09mdDdWdng0ZEdzbkwtQ2lsZDQxdk1VSGNhTGFVeUxGME4tMjBHVTRPWmxlR1ZHOFVnbWRCYWpEMG14ai1YZkZ0UFUzdnJtN1JPZUpySU9oa2drM2lfZnpmWDVFcmxzWnlBQ0ZKM3dz\n",
      "2024-10-19 12:58:19,085 - AInewsbot - INFO - get_url(https://news.google.com/read/CBMiowFBVV95cUxPWWNRQ1ZTd2R5ZW0waGlvbnJsa3lrNkNkUUdNcWtPaDNvVGE3NE9Bakc2UVZEbHJHdEFUS09mdDdWdng0ZEdzbkwtQ2lsZDQxdk1VSGNhTGFVeUxGME4tMjBHVTRPWmxlR1ZHOFVnbWRCYWpEMG14ai1YZkZ0UFUzdnJtN1JPZUpySU9oa2drM2lfZnpmWDVFcmxzWnlBQ0ZKM3dz) - starting get_url https://news.google.com/read/CBMiowFBVV95cUxPWWNRQ1ZTd2R5ZW0waGlvbnJsa3lrNkNkUUdNcWtPaDNvVGE3NE9Bakc2UVZEbHJHdEFUS09mdDdWdng0ZEdzbkwtQ2lsZDQxdk1VSGNhTGFVeUxGME4tMjBHVTRPWmxlR1ZHOFVnbWRCYWpEMG14ai1YZkZ0UFUzdnJtN1JPZUpySU9oa2drM2lfZnpmWDVFcmxzWnlBQ0ZKM3dz\n",
      "2024-10-19 12:58:26,114 - AInewsbot - INFO - get_url(Tensions with OpenAI underscore Microsoft's need to ensure its own AI future) - Saving Tensions_with_OpenAI_underscore_Microsoft_s_need_to_ensure_its_own_AI_future.html as utf-8\n",
      "2024-10-19 12:58:26,116 - AInewsbot - INFO - Processing page 48: https://tech.slashdot.org/story/24/10/19/0121240/penguin-random-house-underscores-copyright-protection-in-ai-rebuff\n",
      "2024-10-19 12:58:26,116 - AInewsbot - INFO - get_url(https://tech.slashdot.org/story/24/10/19/0121240/penguin-random-house-underscores-copyright-protection-in-ai-rebuff) - starting get_url https://tech.slashdot.org/story/24/10/19/0121240/penguin-random-house-underscores-copyright-protection-in-ai-rebuff\n",
      "2024-10-19 12:58:29,195 - AInewsbot - INFO - get_url(Report: OpenAI sees a clause in its Microsoft contract, which cuts off Microsoft's access to OpenAI tech if OpenAI develops AGI, as a path to a better contract) - Saving Report__OpenAI_sees_a_clause_in_its_Microsoft_contract__which_cuts_off_Microsoft_s_access_to_OpenAI_tech_if_OpenAI_develops_AGI__as_a_path_to_a_better_contract.html as utf-8\n",
      "2024-10-19 12:58:29,197 - AInewsbot - INFO - Processing page 49: https://news.google.com/read/CBMiuAFBVV95cUxQRGl3S0I0SnJCSjYtMnVTZ2VfNHB5SXlmRjhETmd1cGxEWHJUUVJrb1FEaDJqTXJhNE84SHVJWE5rWXJ6VzFnbFU2WnlPV2F3S0o3OUttUjQwcHJWRVZZV2tybHJsdTZIdGJCUDJLbWlzTm9RR194WWlNMkhTWlp3TlJITmZ1NERlb2JUTmRSdks3VmVUb3NubnZlQUt4a1BzX3RKYXduTHJWTVR6a3lDM2FhR1dDVklK\n",
      "2024-10-19 12:58:29,197 - AInewsbot - INFO - get_url(https://news.google.com/read/CBMiuAFBVV95cUxQRGl3S0I0SnJCSjYtMnVTZ2VfNHB5SXlmRjhETmd1cGxEWHJUUVJrb1FEaDJqTXJhNE84SHVJWE5rWXJ6VzFnbFU2WnlPV2F3S0o3OUttUjQwcHJWRVZZV2tybHJsdTZIdGJCUDJLbWlzTm9RR194WWlNMkhTWlp3TlJITmZ1NERlb2JUTmRSdks3VmVUb3NubnZlQUt4a1BzX3RKYXduTHJWTVR6a3lDM2FhR1dDVklK) - starting get_url https://news.google.com/read/CBMiuAFBVV95cUxQRGl3S0I0SnJCSjYtMnVTZ2VfNHB5SXlmRjhETmd1cGxEWHJUUVJrb1FEaDJqTXJhNE84SHVJWE5rWXJ6VzFnbFU2WnlPV2F3S0o3OUttUjQwcHJWRVZZV2tybHJsdTZIdGJCUDJLbWlzTm9RR194WWlNMkhTWlp3TlJITmZ1NERlb2JUTmRSdks3VmVUb3NubnZlQUt4a1BzX3RKYXduTHJWTVR6a3lDM2FhR1dDVklK\n",
      "2024-10-19 12:58:29,489 - AInewsbot - INFO - get_url(News - Penguin Random House underscores copyright protection in AI rebuff) - Saving News_-_Penguin_Random_House_underscores_copyright_protection_in_AI_rebuff.html as utf-8\n",
      "2024-10-19 12:58:29,490 - AInewsbot - INFO - Processing page 50: https://www.thebookseller.com/news/penguin-random-house-underscores-copyright-protection-in-ai-rebuff\n",
      "2024-10-19 12:58:29,490 - AInewsbot - INFO - get_url(https://www.thebookseller.com/news/penguin-random-house-underscores-copyright-protection-in-ai-rebuff) - starting get_url https://www.thebookseller.com/news/penguin-random-house-underscores-copyright-protection-in-ai-rebuff\n",
      "2024-10-19 12:58:30,924 - AInewsbot - INFO - get_url(OpenAI, Microsoft reportedly hire banks to renegotiate partnership terms) - Saving OpenAI__Microsoft_reportedly_hire_banks_to_renegotiate_partnership_terms.html as utf-8\n",
      "2024-10-19 12:58:30,925 - AInewsbot - INFO - Processing page 51: https://www.techradar.com/computing/websites-apps/xs-controversial-changes-to-blocking-and-ai-training-sees-half-a-million-users-leave-for-rival-bluesky-which-then-crashes-under-the-strain\n",
      "2024-10-19 12:58:30,925 - AInewsbot - INFO - get_url(https://www.techradar.com/computing/websites-apps/xs-controversial-changes-to-blocking-and-ai-training-sees-half-a-million-users-leave-for-rival-bluesky-which-then-crashes-under-the-strain) - starting get_url https://www.techradar.com/computing/websites-apps/xs-controversial-changes-to-blocking-and-ai-training-sees-half-a-million-users-leave-for-rival-bluesky-which-then-crashes-under-the-strain\n",
      "2024-10-19 12:58:37,481 - AInewsbot - INFO - get_url(Penguin Random House Underscores Copyright Protection in AI Rebuff) - Saving Penguin_Random_House_Underscores_Copyright_Protection_in_AI_Rebuff.html as utf-8\n",
      "2024-10-19 12:58:37,482 - AInewsbot - INFO - Processing page 52: https://www.theregister.com/2024/10/18/x_train_data\n",
      "2024-10-19 12:58:37,482 - AInewsbot - INFO - get_url(https://www.theregister.com/2024/10/18/x_train_data) - starting get_url https://www.theregister.com/2024/10/18/x_train_data\n",
      "2024-10-19 12:58:39,516 - AInewsbot - INFO - get_url(Penguin Random House amends its copyright rules to protect authors from AI) - Saving Penguin_Random_House_amends_its_copyright_rules_to_protect_authors_from_AI.html as utf-8\n"
     ]
    },
    {
     "name": "stderr",
     "output_type": "stream",
     "text": [
      "2024-10-19 12:58:39,517 - AInewsbot - INFO - Processing page 53: https://mashable.com/article/x-train-ai-posts\n",
      "2024-10-19 12:58:39,518 - AInewsbot - INFO - get_url(https://mashable.com/article/x-train-ai-posts) - starting get_url https://mashable.com/article/x-train-ai-posts\n",
      "2024-10-19 12:58:40,006 - AInewsbot - INFO - get_url(Penguin Random House amends its copyright notice globally to prohibit the use of books for training AI; the notice will be included in new titles and reprints) - Saving Penguin_Random_House_amends_its_copyright_notice_globally_to_prohibit_the_use_of_books_for_training_AI__the_notice_will_be_included_in_new_titles_and_reprints.html as utf-8\n",
      "2024-10-19 12:58:40,007 - AInewsbot - INFO - Processing page 54: https://news.google.com/read/CBMijAFBVV95cUxPalMyWTZfUThabm42ZVlCQVRaX2hKb0w3ZFJsRGtWcnFfMjY5MXVabXFjSjdfS21IOTY5NFZjU01BbUlBOU0yZjVyajRaYmV2VE9aSjIzbUdVNzhHOWFCcUVvSzUzYlZGQXRHZzBXSW80RzZvSmRzQkd3WFZVSjJRSlpSZFhTVERmZWt0WA\n",
      "2024-10-19 12:58:40,008 - AInewsbot - INFO - get_url(https://news.google.com/read/CBMijAFBVV95cUxPalMyWTZfUThabm42ZVlCQVRaX2hKb0w3ZFJsRGtWcnFfMjY5MXVabXFjSjdfS21IOTY5NFZjU01BbUlBOU0yZjVyajRaYmV2VE9aSjIzbUdVNzhHOWFCcUVvSzUzYlZGQXRHZzBXSW80RzZvSmRzQkd3WFZVSjJRSlpSZFhTVERmZWt0WA) - starting get_url https://news.google.com/read/CBMijAFBVV95cUxPalMyWTZfUThabm42ZVlCQVRaX2hKb0w3ZFJsRGtWcnFfMjY5MXVabXFjSjdfS21IOTY5NFZjU01BbUlBOU0yZjVyajRaYmV2VE9aSjIzbUdVNzhHOWFCcUVvSzUzYlZGQXRHZzBXSW80RzZvSmRzQkd3WFZVSjJRSlpSZFhTVERmZWt0WA\n",
      "2024-10-19 12:58:41,739 - AInewsbot - INFO - get_url(Xs controversial changes to blocking and AI training sees half a million users leave for rival Bluesky  which then crashes under the strain) - Saving Xs_controversial_changes_to_blocking_and_AI_training_sees_half_a_million_users_leave_for_rival_Bluesky__which_then_crashes_under_the_strain.html as utf-8\n",
      "2024-10-19 12:58:41,741 - AInewsbot - INFO - Processing page 55: https://lifehacker.com/tech/x-is-selling-your-data-to-third-parties-for-ai-training\n",
      "2024-10-19 12:58:41,741 - AInewsbot - INFO - get_url(https://lifehacker.com/tech/x-is-selling-your-data-to-third-parties-for-ai-training) - starting get_url https://lifehacker.com/tech/x-is-selling-your-data-to-third-parties-for-ai-training\n",
      "2024-10-19 12:58:48,944 - AInewsbot - INFO - get_url(X to allow third parties to train their AI models with social media users' data) - Saving X_to_allow_third_parties_to_train_their_AI_models_with_social_media_users__data.html as utf-8\n",
      "2024-10-19 12:58:48,945 - AInewsbot - INFO - Processing page 56: https://www.yahoo.com/news/xs-terms-push-lawsuits-texas-110231929.html\n",
      "2024-10-19 12:58:48,945 - AInewsbot - INFO - get_url(https://www.yahoo.com/news/xs-terms-push-lawsuits-texas-110231929.html) - starting get_url https://www.yahoo.com/news/xs-terms-push-lawsuits-texas-110231929.html\n",
      "2024-10-19 12:58:50,325 - AInewsbot - INFO - get_url(Penguin Random House books now explicitly say no to AI training) - Saving Penguin_Random_House_books_now_explicitly_say_no_to_AI_training.html as utf-8\n",
      "2024-10-19 12:58:50,325 - AInewsbot - INFO - Processing page 57: https://www.yahoo.com/news/us-probing-elon-musks-tesla-232739208.html\n",
      "2024-10-19 12:58:50,326 - AInewsbot - INFO - get_url(https://www.yahoo.com/news/us-probing-elon-musks-tesla-232739208.html) - starting get_url https://www.yahoo.com/news/us-probing-elon-musks-tesla-232739208.html\n",
      "2024-10-19 12:58:50,801 - AInewsbot - INFO - get_url(X to allow third parties to train AI on your posts) - Saving X_to_allow_third_parties_to_train_AI_on_your_posts.html as utf-8\n",
      "2024-10-19 12:58:50,802 - AInewsbot - INFO - Processing page 58: https://arstechnica.com/cars/2024/10/feds-open-their-14th-tesla-safety-investigation-this-time-for-fsd/\n",
      "2024-10-19 12:58:50,802 - AInewsbot - INFO - get_url(https://arstechnica.com/cars/2024/10/feds-open-their-14th-tesla-safety-investigation-this-time-for-fsd/) - starting get_url https://arstechnica.com/cars/2024/10/feds-open-their-14th-tesla-safety-investigation-this-time-for-fsd/\n",
      "2024-10-19 12:58:52,758 - AInewsbot - INFO - get_url(X Is Giving Away Your Data to Train Third-Party AIs) - Saving X_Is_Giving_Away_Your_Data_to_Train_Third-Party_AIs.html as utf-8\n",
      "2024-10-19 12:58:52,759 - AInewsbot - INFO - Processing page 59: https://www.yahoo.com/news/tesla-software-under-investigation-collisions-134341068.html\n",
      "2024-10-19 12:58:52,760 - AInewsbot - INFO - get_url(https://www.yahoo.com/news/tesla-software-under-investigation-collisions-134341068.html) - starting get_url https://www.yahoo.com/news/tesla-software-under-investigation-collisions-134341068.html\n",
      "2024-10-19 12:58:59,760 - AInewsbot - INFO - get_url(X's new terms of service push lawsuits to Texas courts, allow third-party AI data-sharing) - Saving X_s_new_terms_of_service_push_lawsuits_to_Texas_courts__allow_third-party_AI_data-sharing.html as utf-8\n",
      "2024-10-19 12:58:59,762 - AInewsbot - INFO - Processing page 60: https://ca.finance.yahoo.com/news/tesla-facing-nhtsa-investigation-2-151200159.html\n",
      "2024-10-19 12:58:59,762 - AInewsbot - INFO - get_url(https://ca.finance.yahoo.com/news/tesla-facing-nhtsa-investigation-2-151200159.html) - starting get_url https://ca.finance.yahoo.com/news/tesla-facing-nhtsa-investigation-2-151200159.html\n",
      "2024-10-19 12:59:01,413 - AInewsbot - INFO - get_url(US probing Elon Musk's Tesla over self-driving systems) - Saving US_probing_Elon_Musk_s_Tesla_over_self-driving_systems.html as utf-8\n",
      "2024-10-19 12:59:01,415 - AInewsbot - INFO - Processing page 61: https://finance.yahoo.com/news/protect-ai-named-2024-sinet16-130300622.html\n",
      "2024-10-19 12:59:01,416 - AInewsbot - INFO - get_url(https://finance.yahoo.com/news/protect-ai-named-2024-sinet16-130300622.html) - starting get_url https://finance.yahoo.com/news/protect-ai-named-2024-sinet16-130300622.html\n",
      "2024-10-19 12:59:02,768 - AInewsbot - INFO - get_url(Tesla FSD crashes in fog, sun glareFeds open new safety investigation) - Saving Tesla_FSD_crashes_in_fog__sun_glareFeds_open_new_safety_investigation.html as utf-8\n",
      "2024-10-19 12:59:02,769 - AInewsbot - INFO - Processing page 62: https://www.theverge.com/2024/10/18/24273411/google-notebooklm-ai-audio-overview-customize\n",
      "2024-10-19 12:59:02,770 - AInewsbot - INFO - get_url(https://www.theverge.com/2024/10/18/24273411/google-notebooklm-ai-audio-overview-customize) - starting get_url https://www.theverge.com/2024/10/18/24273411/google-notebooklm-ai-audio-overview-customize\n",
      "2024-10-19 12:59:03,599 - AInewsbot - INFO - get_url(Tesla software under investigation after collisions) - Saving Tesla_software_under_investigation_after_collisions.html as utf-8\n",
      "2024-10-19 12:59:03,601 - AInewsbot - INFO - Processing page 63: https://www.yahoo.com/news/opinion-3-major-decisions-next-143000600.html\n",
      "2024-10-19 12:59:03,602 - AInewsbot - INFO - get_url(https://www.yahoo.com/news/opinion-3-major-decisions-next-143000600.html) - starting get_url https://www.yahoo.com/news/opinion-3-major-decisions-next-143000600.html\n",
      "2024-10-19 12:59:11,116 - AInewsbot - INFO - get_url(Tesla Facing NHTSA Investigation of 2.4 Million Cars Over Full Self-Driving Crashes) - Saving Tesla_Facing_NHTSA_Investigation_of_2_4_Million_Cars_Over_Full_Self-Driving_Crashes.html as utf-8\n",
      "2024-10-19 12:59:11,117 - AInewsbot - INFO - Processing page 64: https://www.yahoo.com/news/department-labor-releases-ai-best-222510480.html\n",
      "2024-10-19 12:59:11,118 - AInewsbot - INFO - get_url(https://www.yahoo.com/news/department-labor-releases-ai-best-222510480.html) - starting get_url https://www.yahoo.com/news/department-labor-releases-ai-best-222510480.html\n",
      "2024-10-19 12:59:13,337 - AInewsbot - INFO - get_url(Protect AI Named 2024 SINET16 Innovator) - Saving Protect_AI_Named_2024_SINET16_Innovator.html as utf-8\n",
      "2024-10-19 12:59:13,341 - AInewsbot - INFO - Processing page 65: https://siliconangle.com/2024/10/18/causal-ai-evolving-recognition-reasoning-cubeconversations\n",
      "2024-10-19 12:59:13,344 - AInewsbot - INFO - get_url(https://siliconangle.com/2024/10/18/causal-ai-evolving-recognition-reasoning-cubeconversations) - starting get_url https://siliconangle.com/2024/10/18/causal-ai-evolving-recognition-reasoning-cubeconversations\n",
      "2024-10-19 12:59:14,036 - AInewsbot - INFO - get_url(Googles NotebookLM now lets you guide the hosts of your AI podcast) - Saving Googles_NotebookLM_now_lets_you_guide_the_hosts_of_your_AI_podcast.html as utf-8\n"
     ]
    },
    {
     "name": "stderr",
     "output_type": "stream",
     "text": [
      "2024-10-19 12:59:14,037 - AInewsbot - INFO - Processing page 66: https://www.theinformation.com/articles/can-greg-brockman-find-a-future-back-at-openai\n",
      "2024-10-19 12:59:14,037 - AInewsbot - INFO - get_url(https://www.theinformation.com/articles/can-greg-brockman-find-a-future-back-at-openai) - starting get_url https://www.theinformation.com/articles/can-greg-brockman-find-a-future-back-at-openai\n",
      "2024-10-19 12:59:14,252 - AInewsbot - INFO - get_url(Opinion - The 3 major decisions the next Congress must make about AI policy) - Saving Opinion_-_The_3_major_decisions_the_next_Congress_must_make_about_AI_policy.html as utf-8\n",
      "2024-10-19 12:59:14,253 - AInewsbot - INFO - Processing page 67: https://www.businessinsider.com/openai-ceo-sam-altman-favorite-question-about-agi-2024-10\n",
      "2024-10-19 12:59:14,254 - AInewsbot - INFO - get_url(https://www.businessinsider.com/openai-ceo-sam-altman-favorite-question-about-agi-2024-10) - starting get_url https://www.businessinsider.com/openai-ceo-sam-altman-favorite-question-about-agi-2024-10\n",
      "2024-10-19 12:59:21,828 - AInewsbot - INFO - get_url(Department of Labor releases AI best practices for employers) - Saving Department_of_Labor_releases_AI_best_practices_for_employers.html as utf-8\n",
      "2024-10-19 12:59:21,832 - AInewsbot - INFO - Processing page 68: https://news.google.com/read/CBMikAFBVV95cUxPVFMtdXNWT3ZJbVZzSGtBWjZMX18yQ2pnWmZ6enREdUdsRFJ5N1JCUHhRanpyRzFaWi1pZ1VJOWlaXzdOLVlzRENQbHBZcTJ2UjRsNWVKbUUwWXpXa1BJOF9weWpZTzc0Y2s3T01yc3ZCNkowaVNsX2tRQnl4ZHJwbm9CbGhIZERORzFaRzgzVVY\n",
      "2024-10-19 12:59:21,832 - AInewsbot - INFO - get_url(https://news.google.com/read/CBMikAFBVV95cUxPVFMtdXNWT3ZJbVZzSGtBWjZMX18yQ2pnWmZ6enREdUdsRFJ5N1JCUHhRanpyRzFaWi1pZ1VJOWlaXzdOLVlzRENQbHBZcTJ2UjRsNWVKbUUwWXpXa1BJOF9weWpZTzc0Y2s3T01yc3ZCNkowaVNsX2tRQnl4ZHJwbm9CbGhIZERORzFaRzgzVVY) - starting get_url https://news.google.com/read/CBMikAFBVV95cUxPVFMtdXNWT3ZJbVZzSGtBWjZMX18yQ2pnWmZ6enREdUdsRFJ5N1JCUHhRanpyRzFaWi1pZ1VJOWlaXzdOLVlzRENQbHBZcTJ2UjRsNWVKbUUwWXpXa1BJOF9weWpZTzc0Y2s3T01yc3ZCNkowaVNsX2tRQnl4ZHJwbm9CbGhIZERORzFaRzgzVVY\n",
      "2024-10-19 12:59:24,756 - AInewsbot - INFO - get_url(This is OpenAI CEO Sam Altman's favorite question about AGI) - Saving This_is_OpenAI_CEO_Sam_Altman_s_favorite_question_about_AGI.html as utf-8\n",
      "2024-10-19 12:59:24,757 - AInewsbot - INFO - Processing page 69: https://hackernoon.com/new-graphacademy-course-transform-unstructured-data-into-knowledge-graphs-with-llms-and-python\n",
      "2024-10-19 12:59:24,758 - AInewsbot - INFO - get_url(https://hackernoon.com/new-graphacademy-course-transform-unstructured-data-into-knowledge-graphs-with-llms-and-python) - starting get_url https://hackernoon.com/new-graphacademy-course-transform-unstructured-data-into-knowledge-graphs-with-llms-and-python\n",
      "2024-10-19 12:59:25,514 - AInewsbot - INFO - get_url(A look at Greg Brockman's role at OpenAI, as his return from a sabbatical nears; sources: OpenAI CFO thinks Apple pulled out of fundraising due to Murati's exit) - Saving A_look_at_Greg_Brockman_s_role_at_OpenAI__as_his_return_from_a_sabbatical_nears__sources__OpenAI_CFO_thinks_Apple_pulled_out_of_fundraising_due_to_Murati_s_exit.html as utf-8\n",
      "2024-10-19 12:59:25,517 - AInewsbot - INFO - Processing page 70: https://t.co/OjoP4jYT5c\n",
      "2024-10-19 12:59:25,518 - AInewsbot - INFO - get_url(https://t.co/OjoP4jYT5c) - starting get_url https://t.co/OjoP4jYT5c\n",
      "2024-10-19 12:59:26,116 - AInewsbot - INFO - get_url(Causal AI: Evolving from recognition to reasoning) - Saving Causal_AI__Evolving_from_recognition_to_reasoning.html as utf-8\n",
      "2024-10-19 12:59:26,117 - AInewsbot - INFO - Processing page 71: https://finance.yahoo.com/news/bullfrog-ai-announces-pricing-registered-133000030.html\n",
      "2024-10-19 12:59:26,117 - AInewsbot - INFO - get_url(https://finance.yahoo.com/news/bullfrog-ai-announces-pricing-registered-133000030.html) - starting get_url https://finance.yahoo.com/news/bullfrog-ai-announces-pricing-registered-133000030.html\n",
      "2024-10-19 12:59:32,228 - AInewsbot - INFO - get_url(The Age of AI Child Abuse Is Here) - Saving The_Age_of_AI_Child_Abuse_Is_Here.html as utf-8\n",
      "2024-10-19 12:59:32,230 - AInewsbot - INFO - Processing page 72: https://www.thebrighterside.news/post/pope-francis-and-the-vatican-just-created-an-ai-bible-reshaping-faith-in-the-digital-age/\n",
      "2024-10-19 12:59:32,230 - AInewsbot - INFO - get_url(https://www.thebrighterside.news/post/pope-francis-and-the-vatican-just-created-an-ai-bible-reshaping-faith-in-the-digital-age/) - starting get_url https://www.thebrighterside.news/post/pope-francis-and-the-vatican-just-created-an-ai-bible-reshaping-faith-in-the-digital-age/\n",
      "2024-10-19 12:59:35,946 - AInewsbot - INFO - get_url(New GraphAcademy Course: Transform Unstructured Data into Knowledge Graphs with LLMs and Python) - Saving New_GraphAcademy_Course__Transform_Unstructured_Data_into_Knowledge_Graphs_with_LLMs_and_Python.html as utf-8\n",
      "2024-10-19 12:59:35,947 - AInewsbot - INFO - Processing page 73: https://news.google.com/read/CBMijAFBVV95cUxOMGZOUGJsUGNfai1Od0VaU2xWWDdGMm81ZHd2czJBRnFBblFvSTJRUENBUjdXLTl5VV9lenJsUXM1Um1raDV6R1A5R0poUlpha1RwaW5BR1o4S1BUSEMzd3FIaHJfbG90ZnM5aGpKQ0JiZzBRcGF6YmJ3YjVjQzUxYTI3SFE2WWVkMlZ2MA\n",
      "2024-10-19 12:59:35,947 - AInewsbot - INFO - get_url(https://news.google.com/read/CBMijAFBVV95cUxOMGZOUGJsUGNfai1Od0VaU2xWWDdGMm81ZHd2czJBRnFBblFvSTJRUENBUjdXLTl5VV9lenJsUXM1Um1raDV6R1A5R0poUlpha1RwaW5BR1o4S1BUSEMzd3FIaHJfbG90ZnM5aGpKQ0JiZzBRcGF6YmJ3YjVjQzUxYTI3SFE2WWVkMlZ2MA) - starting get_url https://news.google.com/read/CBMijAFBVV95cUxOMGZOUGJsUGNfai1Od0VaU2xWWDdGMm81ZHd2czJBRnFBblFvSTJRUENBUjdXLTl5VV9lenJsUXM1Um1raDV6R1A5R0poUlpha1RwaW5BR1o4S1BUSEMzd3FIaHJfbG90ZnM5aGpKQ0JiZzBRcGF6YmJ3YjVjQzUxYTI3SFE2WWVkMlZ2MA\n",
      "2024-10-19 12:59:37,313 - AInewsbot - INFO - get_url(01.ai, DeepSeek, and other Chinese companies are reducing costs to create AI models by focusing on smaller training data sets, as they deal with export controls (Eleanor Olcott/Financial Times)) - Saving 01_ai__DeepSeek__and_other_Chinese_companies_are_reducing_costs_to_create_AI_models_by_focusing_on_smaller_training_data_sets__as_they_deal_with_export_controls__Eleanor_Olcott_Financial_Times_.html as utf-8\n",
      "2024-10-19 12:59:37,314 - AInewsbot - INFO - Processing page 74: https://www.techspot.com/news/105192-parents-sue-school-over-son-punishment-using-ai.html\n",
      "2024-10-19 12:59:37,315 - AInewsbot - INFO - get_url(https://www.techspot.com/news/105192-parents-sue-school-over-son-punishment-using-ai.html) - starting get_url https://www.techspot.com/news/105192-parents-sue-school-over-son-punishment-using-ai.html\n",
      "2024-10-19 12:59:37,326 - AInewsbot - INFO - get_url(Bullfrog AI Announces Pricing of Registered Direct Offering and Concurrent Private Placement for Aggregate Gross Proceeds of $3.13 Million) - Saving Bullfrog_AI_Announces_Pricing_of_Registered_Direct_Offering_and_Concurrent_Private_Placement_for_Aggregate_Gross_Proceeds_of__3_13_Million.html as utf-8\n",
      "2024-10-19 12:59:37,328 - AInewsbot - INFO - Processing page 75: https://www.yahoo.com/news/ai-generated-art-piece-disqualified-173231172.html\n",
      "2024-10-19 12:59:37,330 - AInewsbot - INFO - get_url(https://www.yahoo.com/news/ai-generated-art-piece-disqualified-173231172.html) - starting get_url https://www.yahoo.com/news/ai-generated-art-piece-disqualified-173231172.html\n",
      "2024-10-19 12:59:44,264 - AInewsbot - INFO - get_url(Pope Francis and the Vatican just created an AI Bible reshaping faith in the Digital Age) - Saving Pope_Francis_and_the_Vatican_just_created_an_AI_Bible_reshaping_faith_in_the_Digital_Age.html as utf-8\n",
      "2024-10-19 12:59:44,265 - AInewsbot - INFO - Processing page 76: https://www.cbssports.com/nfl/news/self-learning-ai-gives-out-nfl-against-the-spread-over-under-money-line-picks-for-every-week-7-2024-game/\n",
      "2024-10-19 12:59:44,265 - AInewsbot - INFO - get_url(https://www.cbssports.com/nfl/news/self-learning-ai-gives-out-nfl-against-the-spread-over-under-money-line-picks-for-every-week-7-2024-game/) - starting get_url https://www.cbssports.com/nfl/news/self-learning-ai-gives-out-nfl-against-the-spread-over-under-money-line-picks-for-every-week-7-2024-game/\n",
      "2024-10-19 12:59:46,353 - AInewsbot - INFO - get_url(Penguin Adds a Do-Not-Scrape-for-AI Page to Its Books) - Saving Penguin_Adds_a_Do-Not-Scrape-for-AI_Page_to_Its_Books.html as utf-8\n"
     ]
    },
    {
     "name": "stderr",
     "output_type": "stream",
     "text": [
      "2024-10-19 12:59:46,355 - AInewsbot - INFO - Processing page 77: https://www.theverge.com/2024/10/18/24273748/google-deepmind-gemini-search-chaptgpt-meta-ai-interview\n",
      "2024-10-19 12:59:46,357 - AInewsbot - INFO - get_url(https://www.theverge.com/2024/10/18/24273748/google-deepmind-gemini-search-chaptgpt-meta-ai-interview) - starting get_url https://www.theverge.com/2024/10/18/24273748/google-deepmind-gemini-search-chaptgpt-meta-ai-interview\n",
      "2024-10-19 12:59:48,135 - AInewsbot - INFO - get_url(AI-generated art piece disqualified by SC State Fair after being awarded cash prize) - Saving AI-generated_art_piece_disqualified_by_SC_State_Fair_after_being_awarded_cash_prize.html as utf-8\n",
      "2024-10-19 12:59:48,138 - AInewsbot - INFO - Processing page 78: https://www.inc.com/kit-eaton/this-expert-says-ai-efficiency-soars-when-it-uses-video-to-crunch-numbers/90991212\n",
      "2024-10-19 12:59:48,139 - AInewsbot - INFO - get_url(https://www.inc.com/kit-eaton/this-expert-says-ai-efficiency-soars-when-it-uses-video-to-crunch-numbers/90991212) - starting get_url https://www.inc.com/kit-eaton/this-expert-says-ai-efficiency-soars-when-it-uses-video-to-crunch-numbers/90991212\n",
      "2024-10-19 12:59:48,469 - AInewsbot - INFO - get_url(Parents sue school over son's punishment for using AI, claim it's harmed his college chances) - Saving Parents_sue_school_over_son_s_punishment_for_using_AI__claim_it_s_harmed_his_college_chances.html as utf-8\n",
      "2024-10-19 12:59:48,473 - AInewsbot - INFO - Processing page 79: https://finance.yahoo.com/news/broadcom-top-artificial-intelligence-ai-110000564.html\n",
      "2024-10-19 12:59:48,476 - AInewsbot - INFO - get_url(https://finance.yahoo.com/news/broadcom-top-artificial-intelligence-ai-110000564.html) - starting get_url https://finance.yahoo.com/news/broadcom-top-artificial-intelligence-ai-110000564.html\n",
      "2024-10-19 12:59:54,907 - AInewsbot - INFO - get_url(Self-learning AI gives out NFL against the spread, over-under, money-line picks for every Week 7, 2024 game) - Saving Self-learning_AI_gives_out_NFL_against_the_spread__over-under__money-line_picks_for_every_Week_7__2024_game.html as utf-8\n",
      "2024-10-19 12:59:54,910 - AInewsbot - INFO - Processing page 80: https://hackernoon.com/the-paradox-of-ai-if-it-cant-replace-us-is-it-making-us-dumber\n",
      "2024-10-19 12:59:54,910 - AInewsbot - INFO - get_url(https://hackernoon.com/the-paradox-of-ai-if-it-cant-replace-us-is-it-making-us-dumber) - starting get_url https://hackernoon.com/the-paradox-of-ai-if-it-cant-replace-us-is-it-making-us-dumber\n",
      "2024-10-19 12:59:57,207 - AInewsbot - INFO - get_url(How Google is changing to compete with ChatGPT) - Saving How_Google_is_changing_to_compete_with_ChatGPT.html as utf-8\n",
      "2024-10-19 12:59:57,209 - AInewsbot - INFO - Processing page 81: https://www.wired.com/story/filmmakers-are-worried-about-ai-big-tech-wants-them-to-see-whats-possible/\n",
      "2024-10-19 12:59:57,209 - AInewsbot - INFO - get_url(https://www.wired.com/story/filmmakers-are-worried-about-ai-big-tech-wants-them-to-see-whats-possible/) - starting get_url https://www.wired.com/story/filmmakers-are-worried-about-ai-big-tech-wants-them-to-see-whats-possible/\n",
      "2024-10-19 12:59:59,059 - AInewsbot - INFO - get_url(This Expert Says AI Efficiency Soars When it Uses Video to Crunch Numbers) - Saving This_Expert_Says_AI_Efficiency_Soars_When_it_Uses_Video_to_Crunch_Numbers.html as utf-8\n",
      "2024-10-19 12:59:59,061 - AInewsbot - INFO - Processing page 82: https://greekreporter.com/2024/10/19/the-return-of-nuclear-energy-thanks-to-the-ai-revolution/\n",
      "2024-10-19 12:59:59,063 - AInewsbot - INFO - get_url(https://greekreporter.com/2024/10/19/the-return-of-nuclear-energy-thanks-to-the-ai-revolution/) - starting get_url https://greekreporter.com/2024/10/19/the-return-of-nuclear-energy-thanks-to-the-ai-revolution/\n",
      "2024-10-19 12:59:59,802 - AInewsbot - INFO - get_url(Is Broadcom a Top Artificial Intelligence (AI) Stock to Buy Right Now?) - Saving Is_Broadcom_a_Top_Artificial_Intelligence__AI__Stock_to_Buy_Right_Now_.html as utf-8\n",
      "2024-10-19 12:59:59,804 - AInewsbot - INFO - Processing page 83: https://finance.yahoo.com/news/google-licences-diabetic-retinopathy-ai-150335183.html\n",
      "2024-10-19 12:59:59,805 - AInewsbot - INFO - get_url(https://finance.yahoo.com/news/google-licences-diabetic-retinopathy-ai-150335183.html) - starting get_url https://finance.yahoo.com/news/google-licences-diabetic-retinopathy-ai-150335183.html\n",
      "2024-10-19 13:00:05,911 - AInewsbot - INFO - get_url(The Paradox of AI: If It Can't Replace us, Is It Making Us Dumber?) - Saving The_Paradox_of_AI__If_It_Can_t_Replace_us__Is_It_Making_Us_Dumber_.html as utf-8\n",
      "2024-10-19 13:00:05,913 - AInewsbot - INFO - Processing page 84: https://hackernoon.com/10-18-2024-newsletter\n",
      "2024-10-19 13:00:05,913 - AInewsbot - INFO - get_url(https://hackernoon.com/10-18-2024-newsletter) - starting get_url https://hackernoon.com/10-18-2024-newsletter\n",
      "2024-10-19 13:00:08,323 - AInewsbot - INFO - get_url(Inside the inaugural Culver Cup, a generative AI film competition sponsored by AWS and FBRC.ai giving filmmakers AI tools and three weeks to submit a short (Marah Eakin/Wired)) - Saving Inside_the_inaugural_Culver_Cup__a_generative_AI_film_competition_sponsored_by_AWS_and_FBRC_ai_giving_filmmakers_AI_tools_and_three_weeks_to_submit_a_short__Marah_Eakin_Wired_.html as utf-8\n",
      "2024-10-19 13:00:08,325 - AInewsbot - INFO - Processing page 85: https://siliconangle.com/2024/10/17/terray-therapeutics-rakes-120m-ai-powered-small-molecule-drug-development/\n",
      "2024-10-19 13:00:08,325 - AInewsbot - INFO - get_url(https://siliconangle.com/2024/10/17/terray-therapeutics-rakes-120m-ai-powered-small-molecule-drug-development/) - starting get_url https://siliconangle.com/2024/10/17/terray-therapeutics-rakes-120m-ai-powered-small-molecule-drug-development/\n",
      "2024-10-19 13:00:09,678 - AInewsbot - INFO - get_url(The Return of Nuclear Energy Thanks to the AI Revolution) - Saving The_Return_of_Nuclear_Energy_Thanks_to_the_AI_Revolution.html as utf-8\n",
      "2024-10-19 13:00:09,679 - AInewsbot - INFO - Processing page 86: https://www.techradar.com/computing/artificial-intelligence/i-created-an-ai-clone-of-myself-and-the-result-was-unintentionally-hilarious\n",
      "2024-10-19 13:00:09,679 - AInewsbot - INFO - get_url(https://www.techradar.com/computing/artificial-intelligence/i-created-an-ai-clone-of-myself-and-the-result-was-unintentionally-hilarious) - starting get_url https://www.techradar.com/computing/artificial-intelligence/i-created-an-ai-clone-of-myself-and-the-result-was-unintentionally-hilarious\n",
      "2024-10-19 13:00:10,818 - AInewsbot - INFO - get_url(Google licences diabetic retinopathy AI model to partners in APAC) - Saving Google_licences_diabetic_retinopathy_AI_model_to_partners_in_APAC.html as utf-8\n",
      "2024-10-19 13:00:10,822 - AInewsbot - INFO - Processing page 87: https://www.entrepreneur.com/business-news/phase-3-ai-will-make-chatbots-look-like-dial-up-internet/481494\n",
      "2024-10-19 13:00:10,822 - AInewsbot - INFO - get_url(https://www.entrepreneur.com/business-news/phase-3-ai-will-make-chatbots-look-like-dial-up-internet/481494) - starting get_url https://www.entrepreneur.com/business-news/phase-3-ai-will-make-chatbots-look-like-dial-up-internet/481494\n",
      "2024-10-19 13:00:16,450 - AInewsbot - INFO - get_url(The HackerNoon Newsletter: The Paradox of AI: If It Cant Replace us, Is It Making Us Dumber?  (10/18/2024)) - Saving The_HackerNoon_Newsletter__The_Paradox_of_AI__If_It_Cant_Replace_us__Is_It_Making_Us_Dumber____10_18_2024_.html as utf-8\n",
      "2024-10-19 13:00:16,452 - AInewsbot - INFO - Processing page 88: https://www.nature.com/articles/s41598-024-74875-7\n",
      "2024-10-19 13:00:16,452 - AInewsbot - INFO - get_url(https://www.nature.com/articles/s41598-024-74875-7) - starting get_url https://www.nature.com/articles/s41598-024-74875-7\n",
      "2024-10-19 13:00:19,243 - AInewsbot - INFO - get_url(Terray Therapeutics, which uses AI to accelerate small-molecule drug development, raised a $120M Series B led by Bedford Ridge Capital and Nvidia's NVentures) - Saving Terray_Therapeutics__which_uses_AI_to_accelerate_small-molecule_drug_development__raised_a__120M_Series_B_led_by_Bedford_Ridge_Capital_and_Nvidia_s_NVentures.html as utf-8\n",
      "2024-10-19 13:00:19,244 - AInewsbot - INFO - Processing page 89: https://www.laptopmag.com/ai/its-not-even-halloween-but-ai-is-already-getting-spooky\n"
     ]
    },
    {
     "name": "stderr",
     "output_type": "stream",
     "text": [
      "2024-10-19 13:00:19,245 - AInewsbot - INFO - get_url(https://www.laptopmag.com/ai/its-not-even-halloween-but-ai-is-already-getting-spooky) - starting get_url https://www.laptopmag.com/ai/its-not-even-halloween-but-ai-is-already-getting-spooky\n",
      "2024-10-19 13:00:20,708 - AInewsbot - INFO - get_url(I created an AI clone of myself and the result was unintentionally hilarious) - Saving I_created_an_AI_clone_of_myself_and_the_result_was_unintentionally_hilarious.html as utf-8\n",
      "2024-10-19 13:00:20,710 - AInewsbot - INFO - Processing page 90: https://www.androidauthority.com/meta-ai-whatsapp-memory-3492224/\n",
      "2024-10-19 13:00:20,710 - AInewsbot - INFO - get_url(https://www.androidauthority.com/meta-ai-whatsapp-memory-3492224/) - starting get_url https://www.androidauthority.com/meta-ai-whatsapp-memory-3492224/\n",
      "2024-10-19 13:00:22,582 - AInewsbot - INFO - get_url(Phase 3 AI Will Make Chatbots Look Like Dial-Up Internet - Here's How to Prepare Your Business Now!) - Saving Phase_3_AI_Will_Make_Chatbots_Look_Like_Dial-Up_Internet_-_Here_s_How_to_Prepare_Your_Business_Now_.html as utf-8\n",
      "2024-10-19 13:00:22,586 - AInewsbot - INFO - Processing page 91: https://www.gadgets360.com/ai/news/meta-ai-release-check-other-models-work-6823539\n",
      "2024-10-19 13:00:22,587 - AInewsbot - INFO - get_url(https://www.gadgets360.com/ai/news/meta-ai-release-check-other-models-work-6823539) - starting get_url https://www.gadgets360.com/ai/news/meta-ai-release-check-other-models-work-6823539\n",
      "2024-10-19 13:00:27,538 - AInewsbot - INFO - get_url(Enhanced climate change resilience on wheat anther morphology using optimized deep learning techniques) - Saving Enhanced_climate_change_resilience_on_wheat_anther_morphology_using_optimized_deep_learning_techniques.html as utf-8\n",
      "2024-10-19 13:00:27,540 - AInewsbot - INFO - Processing page 92: https://www.marktechpost.com/2024/10/18/agent-as-a-judge-an-advanced-ai-framework-for-scalable-and-accurate-evaluation-of-ai-systems-through-continuous-feedback-and-human-level-judgments/\n",
      "2024-10-19 13:00:27,541 - AInewsbot - INFO - get_url(https://www.marktechpost.com/2024/10/18/agent-as-a-judge-an-advanced-ai-framework-for-scalable-and-accurate-evaluation-of-ai-systems-through-continuous-feedback-and-human-level-judgments/) - starting get_url https://www.marktechpost.com/2024/10/18/agent-as-a-judge-an-advanced-ai-framework-for-scalable-and-accurate-evaluation-of-ai-systems-through-continuous-feedback-and-human-level-judgments/\n",
      "2024-10-19 13:00:32,264 - AInewsbot - INFO - get_url(It's not even Halloween, but AI is already getting spooky) - Saving It_s_not_even_Halloween__but_AI_is_already_getting_spooky.html as utf-8\n",
      "2024-10-19 13:00:32,267 - AInewsbot - INFO - Processing page 93: https://finance.yahoo.com/news/meta-extends-pilot-program-ai-210942397.html\n",
      "2024-10-19 13:00:32,270 - AInewsbot - INFO - get_url(https://finance.yahoo.com/news/meta-extends-pilot-program-ai-210942397.html) - starting get_url https://finance.yahoo.com/news/meta-extends-pilot-program-ai-210942397.html\n",
      "2024-10-19 13:00:32,548 - AInewsbot - INFO - get_url(Meta AI in WhatsApp may soon remember your likes and dislikes) - Saving Meta_AI_in_WhatsApp_may_soon_remember_your_likes_and_dislikes.html as utf-8\n",
      "2024-10-19 13:00:32,550 - AInewsbot - INFO - Processing page 94: https://news.google.com/read/CBMivAFBVV95cUxPem51Rk1UM1dJTHNDTmVxcFlvRTc3SzRJWHRrT05TbnA4amtKcmVzaXBiWE5tc0VhQmdkekFDMG56RENzWDBFYTFpWFg3eVZ4Mnd3SDhSMnVKXzFqY05uU1hWQWlBTVB4b1N2MDJzemN4SXZpb0tBUV9LZGZnNVVPeFl2alJmNHBOX1YwT0lTVUQxa3NzT2pEQkh1UjJMUm5VMldJM29DOWFmNWxTcDBYRy1jWjh1cDU2X0NyYg\n",
      "2024-10-19 13:00:32,551 - AInewsbot - INFO - get_url(https://news.google.com/read/CBMivAFBVV95cUxPem51Rk1UM1dJTHNDTmVxcFlvRTc3SzRJWHRrT05TbnA4amtKcmVzaXBiWE5tc0VhQmdkekFDMG56RENzWDBFYTFpWFg3eVZ4Mnd3SDhSMnVKXzFqY05uU1hWQWlBTVB4b1N2MDJzemN4SXZpb0tBUV9LZGZnNVVPeFl2alJmNHBOX1YwT0lTVUQxa3NzT2pEQkh1UjJMUm5VMldJM29DOWFmNWxTcDBYRy1jWjh1cDU2X0NyYg) - starting get_url https://news.google.com/read/CBMivAFBVV95cUxPem51Rk1UM1dJTHNDTmVxcFlvRTc3SzRJWHRrT05TbnA4amtKcmVzaXBiWE5tc0VhQmdkekFDMG56RENzWDBFYTFpWFg3eVZ4Mnd3SDhSMnVKXzFqY05uU1hWQWlBTVB4b1N2MDJzemN4SXZpb0tBUV9LZGZnNVVPeFl2alJmNHBOX1YwT0lTVUQxa3NzT2pEQkh1UjJMUm5VMldJM29DOWFmNWxTcDBYRy1jWjh1cDU2X0NyYg\n",
      "2024-10-19 13:00:38,162 - AInewsbot - INFO - get_url(Meta Releases AI Model That Can Check Other AI Models' Work) - Saving Meta_Releases_AI_Model_That_Can_Check_Other_AI_Models__Work.html as utf-8\n",
      "2024-10-19 13:00:38,163 - AInewsbot - INFO - Processing page 95: https://news.google.com/read/CBMi5AFBVV95cUxQMHN1YUdxSlFzMURxNEMyellUblRvUzF4dGlyamR3VkFwU0RTUHVGRV83c1Jaa01OQUptUlBEdDlsaUxqcE04TWJhTWZaNGJmWmJReDI3UUNfRkZ0UkNZR0NRc1pyX3poYzY3VXEyRFROR1BPQWYwYU9CR0s0Y3ZlbEx6eWIzTkdkUHk4NE55RE1JTmd5Yzl1cEhtMzB3YUlGV2MwVngteV9KNUI3VXdxRzU3QnFINlMwRnBkUUFWSzZvTzkySHduRWtsWEVsLWdZbFpUcnRrZlh2UkszREtpa0R5Q28\n",
      "2024-10-19 13:00:38,164 - AInewsbot - INFO - get_url(https://news.google.com/read/CBMi5AFBVV95cUxQMHN1YUdxSlFzMURxNEMyellUblRvUzF4dGlyamR3VkFwU0RTUHVGRV83c1Jaa01OQUptUlBEdDlsaUxqcE04TWJhTWZaNGJmWmJReDI3UUNfRkZ0UkNZR0NRc1pyX3poYzY3VXEyRFROR1BPQWYwYU9CR0s0Y3ZlbEx6eWIzTkdkUHk4NE55RE1JTmd5Yzl1cEhtMzB3YUlGV2MwVngteV9KNUI3VXdxRzU3QnFINlMwRnBkUUFWSzZvTzkySHduRWtsWEVsLWdZbFpUcnRrZlh2UkszREtpa0R5Q28) - starting get_url https://news.google.com/read/CBMi5AFBVV95cUxQMHN1YUdxSlFzMURxNEMyellUblRvUzF4dGlyamR3VkFwU0RTUHVGRV83c1Jaa01OQUptUlBEdDlsaUxqcE04TWJhTWZaNGJmWmJReDI3UUNfRkZ0UkNZR0NRc1pyX3poYzY3VXEyRFROR1BPQWYwYU9CR0s0Y3ZlbEx6eWIzTkdkUHk4NE55RE1JTmd5Yzl1cEhtMzB3YUlGV2MwVngteV9KNUI3VXdxRzU3QnFINlMwRnBkUUFWSzZvTzkySHduRWtsWEVsLWdZbFpUcnRrZlh2UkszREtpa0R5Q28\n",
      "2024-10-19 13:00:40,790 - AInewsbot - INFO - get_url(Agent-as-a-Judge: An Advanced AI Framework for Scalable and Accurate Evaluation of AI Systems Through Continuous Feedback and Human-level Judgments) - Saving Agent-as-a-Judge__An_Advanced_AI_Framework_for_Scalable_and_Accurate_Evaluation_of_AI_Systems_Through_Continuous_Feedback_and_Human-level_Judgments.html as utf-8\n",
      "2024-10-19 13:00:40,792 - AInewsbot - INFO - Processing page 96: https://www.businessinsider.com/google-notebooklm-ai-podcast-tool-customize-feature-update-2024-10\n",
      "2024-10-19 13:00:40,793 - AInewsbot - INFO - get_url(https://www.businessinsider.com/google-notebooklm-ai-podcast-tool-customize-feature-update-2024-10) - starting get_url https://www.businessinsider.com/google-notebooklm-ai-podcast-tool-customize-feature-update-2024-10\n",
      "2024-10-19 13:00:42,910 - AInewsbot - INFO - get_url(Perplexity AI Can Help You Make Millions, or Even Billions of Dollars) - Saving Perplexity_AI_Can_Help_You_Make_Millions__or_Even_Billions_of_Dollars.html as utf-8\n",
      "2024-10-19 13:00:42,911 - AInewsbot - INFO - Processing page 97: https://www.zdnet.com/article/southeast-asia-reiterates-pledge-to-collaborate-amid-growing-cyber-threat-in-ai-era/#ftag=RSSbaffb68\n",
      "2024-10-19 13:00:42,912 - AInewsbot - INFO - get_url(https://www.zdnet.com/article/southeast-asia-reiterates-pledge-to-collaborate-amid-growing-cyber-threat-in-ai-era/#ftag=RSSbaffb68) - starting get_url https://www.zdnet.com/article/southeast-asia-reiterates-pledge-to-collaborate-amid-growing-cyber-threat-in-ai-era/#ftag=RSSbaffb68\n",
      "2024-10-19 13:00:43,666 - AInewsbot - INFO - get_url(Meta Extends Pilot Program for AI Video Creation Tools into 2025) - Saving Meta_Extends_Pilot_Program_for_AI_Video_Creation_Tools_into_2025.html as utf-8\n",
      "2024-10-19 13:00:43,668 - AInewsbot - INFO - Processing page 98: https://www.marktechpost.com/2024/10/19/google-unveils-sample-what-you-cant-compress-in-ai-a-game-changer-in-high-fidelity-image-compression/\n",
      "2024-10-19 13:00:43,669 - AInewsbot - INFO - get_url(https://www.marktechpost.com/2024/10/19/google-unveils-sample-what-you-cant-compress-in-ai-a-game-changer-in-high-fidelity-image-compression/) - starting get_url https://www.marktechpost.com/2024/10/19/google-unveils-sample-what-you-cant-compress-in-ai-a-game-changer-in-high-fidelity-image-compression/\n",
      "2024-10-19 13:00:48,564 - AInewsbot - INFO - get_url(Former OpenAI technology chief Mira Murati to raise capital for new AI startup, sources say) - Saving Former_OpenAI_technology_chief_Mira_Murati_to_raise_capital_for_new_AI_startup__sources_say.html as utf-8\n",
      "2024-10-19 13:00:48,565 - AInewsbot - INFO - Processing page 99: https://thehill.com/opinion/technology/4939175-ai-regulatory-limbo-congress\n"
     ]
    },
    {
     "name": "stderr",
     "output_type": "stream",
     "text": [
      "2024-10-19 13:00:48,565 - AInewsbot - INFO - get_url(https://thehill.com/opinion/technology/4939175-ai-regulatory-limbo-congress) - starting get_url https://thehill.com/opinion/technology/4939175-ai-regulatory-limbo-congress\n",
      "2024-10-19 13:00:51,003 - AInewsbot - INFO - get_url(Google's viral AI podcast tool just got more useful) - Saving Google_s_viral_AI_podcast_tool_just_got_more_useful.html as utf-8\n",
      "2024-10-19 13:00:51,004 - AInewsbot - INFO - Processing page 100: https://www.scmp.com/tech/tech-trends/article/3283002/innotech-forum-hong-kong-has-potential-become-ai-applications-development-hub\n",
      "2024-10-19 13:00:51,005 - AInewsbot - INFO - get_url(https://www.scmp.com/tech/tech-trends/article/3283002/innotech-forum-hong-kong-has-potential-become-ai-applications-development-hub) - starting get_url https://www.scmp.com/tech/tech-trends/article/3283002/innotech-forum-hong-kong-has-potential-become-ai-applications-development-hub\n",
      "2024-10-19 13:00:56,164 - AInewsbot - INFO - get_url(Southeast Asia reiterates pledge to collaborate amid growing cyber threats in AI era) - Saving Southeast_Asia_reiterates_pledge_to_collaborate_amid_growing_cyber_threats_in_AI_era.html as utf-8\n",
      "2024-10-19 13:00:56,165 - AInewsbot - INFO - Processing page 101: https://futurism.com/murdered-daughter-brought-back-as-ai\n",
      "2024-10-19 13:00:56,166 - AInewsbot - INFO - get_url(https://futurism.com/murdered-daughter-brought-back-as-ai) - starting get_url https://futurism.com/murdered-daughter-brought-back-as-ai\n",
      "2024-10-19 13:00:58,378 - AInewsbot - INFO - get_url(Google Unveils Sample What You Cant Compress in AIA Game-Changer in High-Fidelity Image Compression) - Saving Google_Unveils_Sample_What_You_Cant_Compress_in_AIA_Game-Changer_in_High-Fidelity_Image_Compression.html as utf-8\n",
      "2024-10-19 13:00:58,380 - AInewsbot - INFO - Processing page 102: https://www.cnn.com/2024/10/18/science/video/ai-humanoid-robot-painting-stewart-contd-digvid\n",
      "2024-10-19 13:00:58,381 - AInewsbot - INFO - get_url(https://www.cnn.com/2024/10/18/science/video/ai-humanoid-robot-painting-stewart-contd-digvid) - starting get_url https://www.cnn.com/2024/10/18/science/video/ai-humanoid-robot-painting-stewart-contd-digvid\n",
      "2024-10-19 13:01:02,869 - AInewsbot - INFO - get_url(The 3 major decisions the next Congress must make about AI policy) - Saving The_3_major_decisions_the_next_Congress_must_make_about_AI_policy.html as utf-8\n",
      "2024-10-19 13:01:02,870 - AInewsbot - INFO - Processing page 103: https://news.google.com/read/CBMidEFVX3lxTE1zOTRXWHdXTFIxX0RUODVZd04wd19tTXE5TW5jMUhiZUNVTV9BbVRXbzZYTWN4N1F2R0ZkZDR0bVNNanA0U0NGM0p6ZDItZ3N3MFl6UGdsaGQ1QW9PMjBTaC1mb2h3T040V1owckxCWm9NMTV0\n",
      "2024-10-19 13:01:02,870 - AInewsbot - INFO - get_url(https://news.google.com/read/CBMidEFVX3lxTE1zOTRXWHdXTFIxX0RUODVZd04wd19tTXE5TW5jMUhiZUNVTV9BbVRXbzZYTWN4N1F2R0ZkZDR0bVNNanA0U0NGM0p6ZDItZ3N3MFl6UGdsaGQ1QW9PMjBTaC1mb2h3T040V1owckxCWm9NMTV0) - starting get_url https://news.google.com/read/CBMidEFVX3lxTE1zOTRXWHdXTFIxX0RUODVZd04wd19tTXE5TW5jMUhiZUNVTV9BbVRXbzZYTWN4N1F2R0ZkZDR0bVNNanA0U0NGM0p6ZDItZ3N3MFl6UGdsaGQ1QW9PMjBTaC1mb2h3T040V1owckxCWm9NMTV0\n",
      "2024-10-19 13:01:04,713 - AInewsbot - INFO - get_url(InnoTech Forum: Hong Kong can evolve into an AI applications development hub) - Saving InnoTech_Forum__Hong_Kong_can_evolve_into_an_AI_applications_development_hub.html as utf-8\n",
      "2024-10-19 13:01:04,715 - AInewsbot - INFO - Processing page 104: https://news.google.com/read/CBMipgFBVV95cUxPTllrZnJobEJpcjFTeldTU0dDUDBsT2FhdzUySnl0QmNNbGlkMnFGS29Xb3Bhb2N6S184ZTA3LW5pRGRIeGU4QU80VHhiRjE2dDZhci15NWNPcGF5REY0TGR2QmNPZmVwRlBDMEFCeVJzOVBESXhsRXAydDdVZU9XUFluemJhbTZxSWNGcVQyQjBNZnhmaS05cmp6ZUhVTTB1bklJLVlR\n",
      "2024-10-19 13:01:04,715 - AInewsbot - INFO - get_url(https://news.google.com/read/CBMipgFBVV95cUxPTllrZnJobEJpcjFTeldTU0dDUDBsT2FhdzUySnl0QmNNbGlkMnFGS29Xb3Bhb2N6S184ZTA3LW5pRGRIeGU4QU80VHhiRjE2dDZhci15NWNPcGF5REY0TGR2QmNPZmVwRlBDMEFCeVJzOVBESXhsRXAydDdVZU9XUFluemJhbTZxSWNGcVQyQjBNZnhmaS05cmp6ZUhVTTB1bklJLVlR) - starting get_url https://news.google.com/read/CBMipgFBVV95cUxPTllrZnJobEJpcjFTeldTU0dDUDBsT2FhdzUySnl0QmNNbGlkMnFGS29Xb3Bhb2N6S184ZTA3LW5pRGRIeGU4QU80VHhiRjE2dDZhci15NWNPcGF5REY0TGR2QmNPZmVwRlBDMEFCeVJzOVBESXhsRXAydDdVZU9XUFluemJhbTZxSWNGcVQyQjBNZnhmaS05cmp6ZUhVTTB1bklJLVlR\n",
      "2024-10-19 13:01:06,969 - AInewsbot - INFO - get_url(Father Disgusted to Find His Murdered Daughter Was Brought Back as an AI) - Saving Father_Disgusted_to_Find_His_Murdered_Daughter_Was_Brought_Back_as_an_AI.html as utf-8\n",
      "2024-10-19 13:01:06,970 - AInewsbot - INFO - Processing page 105: https://siliconangle.com/2024/10/18/ai-process-intelligence-celonis-automation-celosphere\n",
      "2024-10-19 13:01:06,970 - AInewsbot - INFO - get_url(https://siliconangle.com/2024/10/18/ai-process-intelligence-celonis-automation-celosphere) - starting get_url https://siliconangle.com/2024/10/18/ai-process-intelligence-celonis-automation-celosphere\n",
      "2024-10-19 13:01:09,302 - AInewsbot - INFO - get_url(AI humanoid robot defends criticism that she can't be artistic) - Saving AI_humanoid_robot_defends_criticism_that_she_can_t_be_artistic.html as utf-8\n",
      "2024-10-19 13:01:09,306 - AInewsbot - INFO - Processing page 106: https://cacm.acm.org/blogcacm/nobel-prizes-and-ai-the-promise-the-peril-and-the-path-forward/\n",
      "2024-10-19 13:01:09,307 - AInewsbot - INFO - get_url(https://cacm.acm.org/blogcacm/nobel-prizes-and-ai-the-promise-the-peril-and-the-path-forward/) - starting get_url https://cacm.acm.org/blogcacm/nobel-prizes-and-ai-the-promise-the-peril-and-the-path-forward/\n",
      "2024-10-19 13:01:13,258 - AInewsbot - INFO - get_url(OpenAIs revolving door risk factor) - Saving OpenAIs_revolving_door_risk_factor.html as utf-8\n",
      "2024-10-19 13:01:13,260 - AInewsbot - INFO - Processing page 107: https://www.msn.com/en-in/news/India/study-in-uk-university-of-sheffield-invites-international-students-for-msc-artificial-intelligence-offering-10-000-scholarships-for-2025/ar-AA1sxYzC\n",
      "2024-10-19 13:01:13,260 - AInewsbot - INFO - get_url(https://www.msn.com/en-in/news/India/study-in-uk-university-of-sheffield-invites-international-students-for-msc-artificial-intelligence-offering-10-000-scholarships-for-2025/ar-AA1sxYzC) - starting get_url https://www.msn.com/en-in/news/India/study-in-uk-university-of-sheffield-invites-international-students-for-msc-artificial-intelligence-offering-10-000-scholarships-for-2025/ar-AA1sxYzC\n",
      "2024-10-19 13:01:15,129 - AInewsbot - INFO - get_url(OpenAIs research organization in upheaval, The Information reports) - Saving OpenAIs_research_organization_in_upheaval__The_Information_reports.html as utf-8\n",
      "2024-10-19 13:01:15,131 - AInewsbot - INFO - Processing page 108: https://www.reuters.com/technology/artificial-intelligence/former-openai-technology-chief-mira-murati-raise-capital-new-ai-startup-sources-2024-10-18/\n",
      "2024-10-19 13:01:15,132 - AInewsbot - INFO - get_url(https://www.reuters.com/technology/artificial-intelligence/former-openai-technology-chief-mira-murati-raise-capital-new-ai-startup-sources-2024-10-18/) - starting get_url https://www.reuters.com/technology/artificial-intelligence/former-openai-technology-chief-mira-murati-raise-capital-new-ai-startup-sources-2024-10-18/\n",
      "2024-10-19 13:01:18,049 - AInewsbot - INFO - get_url(AI for business process intelligence: A sneak peak at Celosphere 2024) - Saving AI_for_business_process_intelligence__A_sneak_peak_at_Celosphere_2024.html as utf-8\n",
      "2024-10-19 13:01:18,051 - AInewsbot - INFO - Processing page 109: https://openai.com/business/solving-complex-problems-with-openai-o1-models/\n",
      "2024-10-19 13:01:18,052 - AInewsbot - INFO - get_url(https://openai.com/business/solving-complex-problems-with-openai-o1-models/) - starting get_url https://openai.com/business/solving-complex-problems-with-openai-o1-models/\n",
      "2024-10-19 13:01:19,956 - AInewsbot - INFO - get_url(Nobel Prizes and AI: The Promise, the Peril, and the Path Forward  Communications of the ACM) - Saving Nobel_Prizes_and_AI__The_Promise__the_Peril__and_the_Path_Forward__Communications_of_the_ACM.html as utf-8\n",
      "2024-10-19 13:01:19,958 - AInewsbot - INFO - Processing page 110: https://finance.yahoo.com/news/sentinelone-inc-upgraded-piper-sandler-212814293.html\n",
      "2024-10-19 13:01:19,958 - AInewsbot - INFO - get_url(https://finance.yahoo.com/news/sentinelone-inc-upgraded-piper-sandler-212814293.html) - starting get_url https://finance.yahoo.com/news/sentinelone-inc-upgraded-piper-sandler-212814293.html\n"
     ]
    },
    {
     "name": "stderr",
     "output_type": "stream",
     "text": [
      "2024-10-19 13:01:23,769 - AInewsbot - INFO - get_url(Study In UK: University of Sheffield Invites International Students For MSc Artificial Intelligence, Offering 10,000 Scholarships For 2025) - Saving Study_In_UK__University_of_Sheffield_Invites_International_Students_For_MSc_Artificial_Intelligence__Offering_10_000_Scholarships_For_2025.html as utf-8\n",
      "2024-10-19 13:01:23,770 - AInewsbot - INFO - Processing page 111: https://finance.yahoo.com/news/sentinelone-expands-collaboration-aws-enhancing-210950914.html\n",
      "2024-10-19 13:01:23,770 - AInewsbot - INFO - get_url(https://finance.yahoo.com/news/sentinelone-expands-collaboration-aws-enhancing-210950914.html) - starting get_url https://finance.yahoo.com/news/sentinelone-expands-collaboration-aws-enhancing-210950914.html\n",
      "2024-10-19 13:01:25,708 - AInewsbot - INFO - get_url(Sources: former OpenAI CTO Mira Murati is raising funds for her new startup, which aims to build AI products based on proprietary models) - Saving Sources__former_OpenAI_CTO_Mira_Murati_is_raising_funds_for_her_new_startup__which_aims_to_build_AI_products_based_on_proprietary_models.html as utf-8\n",
      "2024-10-19 13:01:25,709 - AInewsbot - INFO - Processing page 112: https://www.wsj.com/tech/waymo-san-francisco-self-driving-robotaxis-uber-244feecf\n",
      "2024-10-19 13:01:25,709 - AInewsbot - INFO - get_url(https://www.wsj.com/tech/waymo-san-francisco-self-driving-robotaxis-uber-244feecf) - starting get_url https://www.wsj.com/tech/waymo-san-francisco-self-driving-robotaxis-uber-244feecf\n",
      "2024-10-19 13:01:28,533 - AInewsbot - INFO - get_url(Solving complex problems with OpenAI o1 models) - Saving Solving_complex_problems_with_OpenAI_o1_models.html as utf-8\n",
      "2024-10-19 13:01:28,536 - AInewsbot - INFO - Processing page 113: https://www.weforum.org/agenda/2024/10/ai-augment-rather-than-dictate-human-action/\n",
      "2024-10-19 13:01:28,536 - AInewsbot - INFO - get_url(https://www.weforum.org/agenda/2024/10/ai-augment-rather-than-dictate-human-action/) - starting get_url https://www.weforum.org/agenda/2024/10/ai-augment-rather-than-dictate-human-action/\n",
      "2024-10-19 13:01:31,247 - AInewsbot - INFO - get_url(SentinelOne, Inc. (S) Upgraded by Piper Sandler as AI-Powered Purple AI Platform Drives Q2 Outperformance and Market Share Gains) - Saving SentinelOne__Inc___S__Upgraded_by_Piper_Sandler_as_AI-Powered_Purple_AI_Platform_Drives_Q2_Outperformance_and_Market_Share_Gains.html as utf-8\n",
      "2024-10-19 13:01:31,249 - AInewsbot - INFO - Processing page 114: https://www.techtimes.com/articles/307928/20241019/us-probes-tsmc-allegedly-helping-huawei-develop-smartphone-ai-chips-chinese-tech.htm\n",
      "2024-10-19 13:01:31,249 - AInewsbot - INFO - get_url(https://www.techtimes.com/articles/307928/20241019/us-probes-tsmc-allegedly-helping-huawei-develop-smartphone-ai-chips-chinese-tech.htm) - starting get_url https://www.techtimes.com/articles/307928/20241019/us-probes-tsmc-allegedly-helping-huawei-develop-smartphone-ai-chips-chinese-tech.htm\n",
      "2024-10-19 13:01:35,011 - AInewsbot - INFO - get_url(SentinelOne Expands Collaboration with AWS, Enhancing AI-Powered Cybersecurity Solutions) - Saving SentinelOne_Expands_Collaboration_with_AWS__Enhancing_AI-Powered_Cybersecurity_Solutions.html as utf-8\n",
      "2024-10-19 13:01:35,013 - AInewsbot - INFO - Processing page 115: https://www.bloomberg.com/news/features/2024-10-18/do-ai-detectors-work-students-face-false-cheating-accusations\n",
      "2024-10-19 13:01:35,014 - AInewsbot - INFO - get_url(https://www.bloomberg.com/news/features/2024-10-18/do-ai-detectors-work-students-face-false-cheating-accusations) - starting get_url https://www.bloomberg.com/news/features/2024-10-18/do-ai-detectors-work-students-face-false-cheating-accusations\n",
      "2024-10-19 13:01:36,766 - AInewsbot - INFO - get_url(How Waymo is converting locals and attracting tourists in San Francisco to pull ahead in the robotaxi race, with ~300 vehicles in the city and global ambitions (Wall Street Journal)) - Saving How_Waymo_is_converting_locals_and_attracting_tourists_in_San_Francisco_to_pull_ahead_in_the_robotaxi_race__with__300_vehicles_in_the_city_and_global_ambitions__Wall_Street_Journal_.html as utf-8\n",
      "2024-10-19 13:01:36,767 - AInewsbot - INFO - Processing page 116: https://www.forbes.com/sites/joemckendrick/2024/10/19/why-ai-success-still-appears-so-elusive/\n",
      "2024-10-19 13:01:36,768 - AInewsbot - INFO - get_url(https://www.forbes.com/sites/joemckendrick/2024/10/19/why-ai-success-still-appears-so-elusive/) - starting get_url https://www.forbes.com/sites/joemckendrick/2024/10/19/why-ai-success-still-appears-so-elusive/\n",
      "2024-10-19 13:01:40,178 - AInewsbot - INFO - get_url(How can AI augment rather than dictate human action? This expert explains) - Saving How_can_AI_augment_rather_than_dictate_human_action__This_expert_explains.html as utf-8\n",
      "2024-10-19 13:01:40,180 - AInewsbot - INFO - Processing page 117: https://www.ft.com/content/0a6da1bb-2bda-40f3-9645-97877eb0947c\n",
      "2024-10-19 13:01:40,181 - AInewsbot - INFO - get_url(https://www.ft.com/content/0a6da1bb-2bda-40f3-9645-97877eb0947c) - starting get_url https://www.ft.com/content/0a6da1bb-2bda-40f3-9645-97877eb0947c\n",
      "2024-10-19 13:01:45,825 - AInewsbot - INFO - get_url(US Probes TSMC for Allegedly Helping Huawei Develop Smartphone, AI Chips for the Chinese Tech) - Saving US_Probes_TSMC_for_Allegedly_Helping_Huawei_Develop_Smartphone__AI_Chips_for_the_Chinese_Tech.html as utf-8\n",
      "2024-10-19 13:01:45,827 - AInewsbot - INFO - Processing page 118: https://www.geekwire.com/2024/ai-dreams-microsoft-50-chapter-1/\n",
      "2024-10-19 13:01:45,828 - AInewsbot - INFO - get_url(https://www.geekwire.com/2024/ai-dreams-microsoft-50-chapter-1/) - starting get_url https://www.geekwire.com/2024/ai-dreams-microsoft-50-chapter-1/\n",
      "2024-10-19 13:01:47,440 - AInewsbot - INFO - get_url(The Big TakeAI Detectors Falsely Accuse Students of CheatingWith Big ConsequencesAbout two-thirds of teachers report regularly using tools for detecting AI-generated content. At that scale, even tiny error rates can add up quickly.) - Saving The_Big_TakeAI_Detectors_Falsely_Accuse_Students_of_CheatingWith_Big_ConsequencesAbout_two-thirds_of_teachers_report_regularly_using_tools_for_detecting_AI-generated_content__At_that_scale__even_tiny_error_rates_can_add_up_quickly_.html as utf-8\n",
      "2024-10-19 13:01:47,443 - AInewsbot - INFO - Processing page 119: https://rapidcityjournal.com/hopes-and-fears-for-ai-at-work/article_83e2b052-2175-5214-a1a0-2dfb094c9122.html\n",
      "2024-10-19 13:01:47,444 - AInewsbot - INFO - get_url(https://rapidcityjournal.com/hopes-and-fears-for-ai-at-work/article_83e2b052-2175-5214-a1a0-2dfb094c9122.html) - starting get_url https://rapidcityjournal.com/hopes-and-fears-for-ai-at-work/article_83e2b052-2175-5214-a1a0-2dfb094c9122.html\n",
      "2024-10-19 13:01:48,825 - AInewsbot - INFO - get_url(Why AI Success Still Appears So Elusive) - Saving Why_AI_Success_Still_Appears_So_Elusive.html as utf-8\n",
      "2024-10-19 13:01:48,827 - AInewsbot - INFO - Processing page 120: https://medium.com/@researchgraph/chatgpts-name-bias-and-apple-s-findings-on-ai-s-lack-of-reasoning-major-flaws-revealed-b4a44c27fd75\n",
      "2024-10-19 13:01:48,828 - AInewsbot - INFO - get_url(https://medium.com/@researchgraph/chatgpts-name-bias-and-apple-s-findings-on-ai-s-lack-of-reasoning-major-flaws-revealed-b4a44c27fd75) - starting get_url https://medium.com/@researchgraph/chatgpts-name-bias-and-apple-s-findings-on-ai-s-lack-of-reasoning-major-flaws-revealed-b4a44c27fd75\n",
      "2024-10-19 13:01:51,078 - AInewsbot - INFO - get_url(Chinese AI groups get creative to drive down cost of models) - Saving Chinese_AI_groups_get_creative_to_drive_down_cost_of_models.html as utf-8\n",
      "2024-10-19 13:01:51,080 - AInewsbot - INFO - Processing page 121: https://news.google.com/read/CBMirAFBVV95cUxQT1lXeW1fVEJ4emhmaGlUOEJqSkFtVVZaek9kNWhrQ0JpMjFvbVdQdGxpeUFpcUptUS1HeUQydEwxWWpoeHN2SkZyNGl5YlplYWlTOE52TUUzSWlFNmJFenlKeGJKNlVvSlI4eG9zT0NaWVE3bDVRSlliWHhuNW1VWnpKWlZ4SXRIeFp4MmZzMk9hM2hOMGRYNU9RMkJRY3ZyNUJjckFIS080Sjd4\n",
      "2024-10-19 13:01:51,081 - AInewsbot - INFO - get_url(https://news.google.com/read/CBMirAFBVV95cUxQT1lXeW1fVEJ4emhmaGlUOEJqSkFtVVZaek9kNWhrQ0JpMjFvbVdQdGxpeUFpcUptUS1HeUQydEwxWWpoeHN2SkZyNGl5YlplYWlTOE52TUUzSWlFNmJFenlKeGJKNlVvSlI4eG9zT0NaWVE3bDVRSlliWHhuNW1VWnpKWlZ4SXRIeFp4MmZzMk9hM2hOMGRYNU9RMkJRY3ZyNUJjckFIS080Sjd4) - starting get_url https://news.google.com/read/CBMirAFBVV95cUxQT1lXeW1fVEJ4emhmaGlUOEJqSkFtVVZaek9kNWhrQ0JpMjFvbVdQdGxpeUFpcUptUS1HeUQydEwxWWpoeHN2SkZyNGl5YlplYWlTOE52TUUzSWlFNmJFenlKeGJKNlVvSlI4eG9zT0NaWVE3bDVRSlliWHhuNW1VWnpKWlZ4SXRIeFp4MmZzMk9hM2hOMGRYNU9RMkJRY3ZyNUJjckFIS080Sjd4\n"
     ]
    },
    {
     "name": "stderr",
     "output_type": "stream",
     "text": [
      "2024-10-19 13:01:56,901 - AInewsbot - INFO - get_url(A historical look at Microsoft's work in AI, from research to real-world applications, recent progress, competition, challenges, and the future (Todd Bishop/GeekWire)) - Saving A_historical_look_at_Microsoft_s_work_in_AI__from_research_to_real-world_applications__recent_progress__competition__challenges__and_the_future__Todd_Bishop_GeekWire_.html as utf-8\n",
      "2024-10-19 13:01:56,902 - AInewsbot - INFO - Processing page 122: https://news.google.com/read/CBMieEFVX3lxTE14UWN3MjZ3OEZnTU00STFLUUZwRUVMbFRyR2U1OWJEMTVUanFZRUc4UEZuNjI4MDRqRm81YmdZRExSU2FvbzlUaFNTNzNZMXRSU2R0LVh1NUl0NUEyZ3JjWHVSX1laQmFHRElYUUFUbjlfT3pHeFBNMA\n",
      "2024-10-19 13:01:56,903 - AInewsbot - INFO - get_url(https://news.google.com/read/CBMieEFVX3lxTE14UWN3MjZ3OEZnTU00STFLUUZwRUVMbFRyR2U1OWJEMTVUanFZRUc4UEZuNjI4MDRqRm81YmdZRExSU2FvbzlUaFNTNzNZMXRSU2R0LVh1NUl0NUEyZ3JjWHVSX1laQmFHRElYUUFUbjlfT3pHeFBNMA) - starting get_url https://news.google.com/read/CBMieEFVX3lxTE14UWN3MjZ3OEZnTU00STFLUUZwRUVMbFRyR2U1OWJEMTVUanFZRUc4UEZuNjI4MDRqRm81YmdZRExSU2FvbzlUaFNTNzNZMXRSU2R0LVh1NUl0NUEyZ3JjWHVSX1laQmFHRElYUUFUbjlfT3pHeFBNMA\n",
      "2024-10-19 13:01:59,346 - AInewsbot - INFO - get_url(Hopes and fears for AI at work) - Saving Hopes_and_fears_for_AI_at_work.html as utf-8\n",
      "2024-10-19 13:01:59,347 - AInewsbot - INFO - Processing page 123: https://news.yahoo.com/news/tech/pennwest-launches-center-artificial-intelligence-134600528.html\n",
      "2024-10-19 13:01:59,348 - AInewsbot - INFO - get_url(https://news.yahoo.com/news/tech/pennwest-launches-center-artificial-intelligence-134600528.html) - starting get_url https://news.yahoo.com/news/tech/pennwest-launches-center-artificial-intelligence-134600528.html\n",
      "2024-10-19 13:01:59,695 - AInewsbot - INFO - get_url(ChatGPT's Name Bias and Apple's Findings on AI's Lack of Reasoning) - Saving ChatGPT_s_Name_Bias_and_Apple_s_Findings_on_AI_s_Lack_of_Reasoning.html as utf-8\n",
      "2024-10-19 13:01:59,697 - AInewsbot - INFO - Processing page 124: https://siliconangle.com/2024/10/18/ransomware-protection-ai-strategies-rising-cyber-threats-cubeconversations\n",
      "2024-10-19 13:01:59,697 - AInewsbot - INFO - get_url(https://siliconangle.com/2024/10/18/ransomware-protection-ai-strategies-rising-cyber-threats-cubeconversations) - starting get_url https://siliconangle.com/2024/10/18/ransomware-protection-ai-strategies-rising-cyber-threats-cubeconversations\n",
      "2024-10-19 13:02:01,434 - AInewsbot - INFO - get_url(Ventura teen finds her voice lobbying for bill on AI child abuse) - Saving Ventura_teen_finds_her_voice_lobbying_for_bill_on_AI_child_abuse.html as utf-8\n",
      "2024-10-19 13:02:01,437 - AInewsbot - INFO - Processing page 125: https://crazystupidtech.com/archive/future-of-internet-in-the-age-of-ai/\n",
      "2024-10-19 13:02:01,439 - AInewsbot - INFO - get_url(https://crazystupidtech.com/archive/future-of-internet-in-the-age-of-ai/) - starting get_url https://crazystupidtech.com/archive/future-of-internet-in-the-age-of-ai/\n",
      "2024-10-19 13:02:07,312 - AInewsbot - INFO - get_url(Congressional leaders negotiating potential lame-duck deal to address AI concerns) - Saving Congressional_leaders_negotiating_potential_lame-duck_deal_to_address_AI_concerns.html as utf-8\n",
      "2024-10-19 13:02:07,317 - AInewsbot - INFO - Processing page 126: https://news.sky.com/story/ai-generated-child-abuse-images-increasing-at-chilling-rate-as-watchdog-warns-it-is-now-becoming-hard-to-spot-13235706\n",
      "2024-10-19 13:02:07,318 - AInewsbot - INFO - get_url(https://news.sky.com/story/ai-generated-child-abuse-images-increasing-at-chilling-rate-as-watchdog-warns-it-is-now-becoming-hard-to-spot-13235706) - starting get_url https://news.sky.com/story/ai-generated-child-abuse-images-increasing-at-chilling-rate-as-watchdog-warns-it-is-now-becoming-hard-to-spot-13235706\n",
      "2024-10-19 13:02:11,873 - AInewsbot - INFO - get_url(PennWest launches Center for Artificial Intelligence and Emerging Technologies) - Saving PennWest_launches_Center_for_Artificial_Intelligence_and_Emerging_Technologies.html as utf-8\n",
      "2024-10-19 13:02:11,875 - AInewsbot - INFO - Processing page 127: https://www.forbes.com/sites/jeremyschifeling/2024/10/19/10-ai-prompts-to-turbocharge-your-job-search/\n",
      "2024-10-19 13:02:11,875 - AInewsbot - INFO - get_url(https://www.forbes.com/sites/jeremyschifeling/2024/10/19/10-ai-prompts-to-turbocharge-your-job-search/) - starting get_url https://www.forbes.com/sites/jeremyschifeling/2024/10/19/10-ai-prompts-to-turbocharge-your-job-search/\n",
      "2024-10-19 13:02:12,215 - AInewsbot - INFO - get_url(Ransomware protection: AI and strategies to combat rising threats) - Saving Ransomware_protection__AI_and_strategies_to_combat_rising_threats.html as utf-8\n",
      "2024-10-19 13:02:12,216 - AInewsbot - INFO - Processing page 128: https://telecomtalk.info/nokia-integrates-ai-into-altiplano-access-controller/983411\n",
      "2024-10-19 13:02:12,216 - AInewsbot - INFO - get_url(https://telecomtalk.info/nokia-integrates-ai-into-altiplano-access-controller/983411) - starting get_url https://telecomtalk.info/nokia-integrates-ai-into-altiplano-access-controller/983411\n",
      "2024-10-19 13:02:13,942 - AInewsbot - INFO - get_url(Q&A with Cloudflare CEO Matthew Prince on how internet traffic surge during COVID helped it build an AI-ready \"connectivity cloud\", internet balkanization, more (Om Malik/Crazy Stupid Tech)) - Saving Q_A_with_Cloudflare_CEO_Matthew_Prince_on_how_internet_traffic_surge_during_COVID_helped_it_build_an_AI-ready__connectivity_cloud___internet_balkanization__more__Om_Malik_Crazy_Stupid_Tech_.html as utf-8\n",
      "2024-10-19 13:02:13,943 - AInewsbot - INFO - Processing page 129: https://ca.finance.yahoo.com/news/astera-labs-inc-alab-unveils-204442497.html\n",
      "2024-10-19 13:02:13,943 - AInewsbot - INFO - get_url(https://ca.finance.yahoo.com/news/astera-labs-inc-alab-unveils-204442497.html) - starting get_url https://ca.finance.yahoo.com/news/astera-labs-inc-alab-unveils-204442497.html\n",
      "2024-10-19 13:02:17,990 - AInewsbot - INFO - get_url(AI-generated child abuse images increasing at 'chilling' rate - as watchdog warns it is now becoming hard to spot) - Saving AI-generated_child_abuse_images_increasing_at__chilling__rate_-_as_watchdog_warns_it_is_now_becoming_hard_to_spot.html as utf-8\n",
      "2024-10-19 13:02:17,992 - AInewsbot - INFO - Processing page 130: https://hackernoon.com/askbobby-the-ai-tool-helping-people-in-need-locate-social-services\n",
      "2024-10-19 13:02:17,993 - AInewsbot - INFO - get_url(https://hackernoon.com/askbobby-the-ai-tool-helping-people-in-need-locate-social-services) - starting get_url https://hackernoon.com/askbobby-the-ai-tool-helping-people-in-need-locate-social-services\n",
      "2024-10-19 13:02:23,733 - AInewsbot - INFO - get_url(Nokia Integrates AI into Altiplano Access Controller for Enhanced Network Automation) - Saving Nokia_Integrates_AI_into_Altiplano_Access_Controller_for_Enhanced_Network_Automation.html as utf-8\n",
      "2024-10-19 13:02:23,734 - AInewsbot - INFO - Processing page 131: https://mashable.com/article/penguin-random-house-ai-protections-copyright-page\n",
      "2024-10-19 13:02:23,735 - AInewsbot - INFO - get_url(https://mashable.com/article/penguin-random-house-ai-protections-copyright-page) - starting get_url https://mashable.com/article/penguin-random-house-ai-protections-copyright-page\n",
      "2024-10-19 13:02:25,475 - AInewsbot - INFO - get_url(10 AI Prompts to Turbocharge Your Job Search) - Saving 10_AI_Prompts_to_Turbocharge_Your_Job_Search.html as utf-8\n",
      "2024-10-19 13:02:25,477 - AInewsbot - INFO - Processing page 132: https://news.google.com/read/CBMisgFBVV95cUxOTGFqdU1zZkI2WC1ZNWpwWHkyUUE2a2F5SEE4bnVhZ19fdlpSS20tal9xZERUcjE1ZWtiVXo1YlRCeHQwZUFZdWUyeTQ0NnFfMlJ3TTl0a2Z2ajVDMDVEOWdhaGx4d0hOZ3BwVTNYOGJnT2pTcmdwMUsxU3NlYUdCX0lKVTlNYUZoeExjOHFoM19zSHhJVUg1WjJwYjFIZXRZS0xXSVA1b2dmNkc5WXBHc29B\n",
      "2024-10-19 13:02:25,478 - AInewsbot - INFO - get_url(https://news.google.com/read/CBMisgFBVV95cUxOTGFqdU1zZkI2WC1ZNWpwWHkyUUE2a2F5SEE4bnVhZ19fdlpSS20tal9xZERUcjE1ZWtiVXo1YlRCeHQwZUFZdWUyeTQ0NnFfMlJ3TTl0a2Z2ajVDMDVEOWdhaGx4d0hOZ3BwVTNYOGJnT2pTcmdwMUsxU3NlYUdCX0lKVTlNYUZoeExjOHFoM19zSHhJVUg1WjJwYjFIZXRZS0xXSVA1b2dmNkc5WXBHc29B) - starting get_url https://news.google.com/read/CBMisgFBVV95cUxOTGFqdU1zZkI2WC1ZNWpwWHkyUUE2a2F5SEE4bnVhZ19fdlpSS20tal9xZERUcjE1ZWtiVXo1YlRCeHQwZUFZdWUyeTQ0NnFfMlJ3TTl0a2Z2ajVDMDVEOWdhaGx4d0hOZ3BwVTNYOGJnT2pTcmdwMUsxU3NlYUdCX0lKVTlNYUZoeExjOHFoM19zSHhJVUg1WjJwYjFIZXRZS0xXSVA1b2dmNkc5WXBHc29B\n"
     ]
    },
    {
     "name": "stderr",
     "output_type": "stream",
     "text": [
      "2024-10-19 13:02:28,821 - AInewsbot - INFO - get_url(Astera Labs Inc (ALAB) Unveils Industry's First PCIe 6 Switch, Revolutionizing AI Infrastructure with Scorpio Smart Fabric Switch Portfolio) - Saving Astera_Labs_Inc__ALAB__Unveils_Industry_s_First_PCIe_6_Switch__Revolutionizing_AI_Infrastructure_with_Scorpio_Smart_Fabric_Switch_Portfolio.html as utf-8\n",
      "2024-10-19 13:02:28,826 - AInewsbot - INFO - Processing page 133: https://bgr.com/tech/chatbot-hack-shows-why-you-shouldnt-trust-ai-with-your-personal-data/\n",
      "2024-10-19 13:02:28,826 - AInewsbot - INFO - get_url(https://bgr.com/tech/chatbot-hack-shows-why-you-shouldnt-trust-ai-with-your-personal-data/) - starting get_url https://bgr.com/tech/chatbot-hack-shows-why-you-shouldnt-trust-ai-with-your-personal-data/\n",
      "2024-10-19 13:02:29,137 - AInewsbot - INFO - get_url(AskBobby: The AI Tool Helping People in Need Locate Social Services) - Saving AskBobby__The_AI_Tool_Helping_People_in_Need_Locate_Social_Services.html as utf-8\n",
      "2024-10-19 13:02:29,143 - AInewsbot - INFO - Processing page 134: https://hackernoon.com/protein-structures-or-alphafold-google-research-vacancy-weakness-in-theoretical-science\n",
      "2024-10-19 13:02:29,147 - AInewsbot - INFO - get_url(https://hackernoon.com/protein-structures-or-alphafold-google-research-vacancy-weakness-in-theoretical-science) - starting get_url https://hackernoon.com/protein-structures-or-alphafold-google-research-vacancy-weakness-in-theoretical-science\n",
      "2024-10-19 13:02:34,736 - AInewsbot - INFO - get_url(Penguin Random House copyright pages will now forbid AI training) - Saving Penguin_Random_House_copyright_pages_will_now_forbid_AI_training.html as utf-8\n",
      "2024-10-19 13:02:34,737 - AInewsbot - INFO - Processing page 135: https://hackernoon.com/got-a-cool-idea-for-an-ai-bot-heres-how-it-could-win-you-$3000-in-the-ai-chatbot-writing-contest\n",
      "2024-10-19 13:02:34,737 - AInewsbot - INFO - get_url(https://hackernoon.com/got-a-cool-idea-for-an-ai-bot-heres-how-it-could-win-you-$3000-in-the-ai-chatbot-writing-contest) - starting get_url https://hackernoon.com/got-a-cool-idea-for-an-ai-bot-heres-how-it-could-win-you-$3000-in-the-ai-chatbot-writing-contest\n",
      "2024-10-19 13:02:35,984 - AInewsbot - INFO - get_url(Tired of ChatGPT? 5 incredible uses of Perplexity AI that trumps Google Search) - Saving Tired_of_ChatGPT__5_incredible_uses_of_Perplexity_AI_that_trumps_Google_Search.html as utf-8\n",
      "2024-10-19 13:02:35,985 - AInewsbot - INFO - Processing page 136: https://hackernoon.com/escaping-the-payday-matrix-ex-openai-and-opera-devs-code-financial-freedom-for-14-billion-unbanked\n",
      "2024-10-19 13:02:35,985 - AInewsbot - INFO - get_url(https://hackernoon.com/escaping-the-payday-matrix-ex-openai-and-opera-devs-code-financial-freedom-for-14-billion-unbanked) - starting get_url https://hackernoon.com/escaping-the-payday-matrix-ex-openai-and-opera-devs-code-financial-freedom-for-14-billion-unbanked\n",
      "2024-10-19 13:02:39,777 - AInewsbot - INFO - get_url(Protein Structures | AlphaFold: Google Research Vacancy, Weakness in Theoretical Science) - Saving Protein_Structures___AlphaFold__Google_Research_Vacancy__Weakness_in_Theoretical_Science.html as utf-8\n",
      "2024-10-19 13:02:39,779 - AInewsbot - INFO - Processing page 137: https://arstechnica.com/ai/2024/10/openai-releases-chatgpt-app-for-windows/\n",
      "2024-10-19 13:02:39,779 - AInewsbot - INFO - get_url(https://arstechnica.com/ai/2024/10/openai-releases-chatgpt-app-for-windows/) - starting get_url https://arstechnica.com/ai/2024/10/openai-releases-chatgpt-app-for-windows/\n",
      "2024-10-19 13:02:44,783 - AInewsbot - INFO - get_url(Chatbot hack shows why you shouldn't trust AI with your personal data) - Saving Chatbot_hack_shows_why_you_shouldn_t_trust_AI_with_your_personal_data.html as utf-8\n",
      "2024-10-19 13:02:44,785 - AInewsbot - INFO - Processing page 138: https://analyticsindiamag.com/ai-insights-analysis/notebooklm-is-googles-chatgpt-moment/\n",
      "2024-10-19 13:02:44,786 - AInewsbot - INFO - get_url(https://analyticsindiamag.com/ai-insights-analysis/notebooklm-is-googles-chatgpt-moment/) - starting get_url https://analyticsindiamag.com/ai-insights-analysis/notebooklm-is-googles-chatgpt-moment/\n",
      "2024-10-19 13:02:45,767 - AInewsbot - INFO - get_url(Got a Cool Idea for an AI Bot? Heres How It Could Win You $3000 in the #AI-Chatbot Writing Contest) - Saving Got_a_Cool_Idea_for_an_AI_Bot__Heres_How_It_Could_Win_You__3000_in_the__AI-Chatbot_Writing_Contest.html as utf-8\n",
      "2024-10-19 13:02:45,769 - AInewsbot - INFO - Processing page 139: https://www.euronews.com/next/2024/10/19/why-balancing-europes-ai-regulations-is-a-difficult-juggling-act-for-start-ups\n",
      "2024-10-19 13:02:45,770 - AInewsbot - INFO - get_url(https://www.euronews.com/next/2024/10/19/why-balancing-europes-ai-regulations-is-a-difficult-juggling-act-for-start-ups) - starting get_url https://www.euronews.com/next/2024/10/19/why-balancing-europes-ai-regulations-is-a-difficult-juggling-act-for-start-ups\n",
      "2024-10-19 13:02:47,516 - AInewsbot - INFO - get_url(Escaping the Payday Matrix: Ex-OpenAI & Opera Devs Code Financial Freedom for 1.4 Billion Unbanked) - Saving Escaping_the_Payday_Matrix__Ex-OpenAI___Opera_Devs_Code_Financial_Freedom_for_1_4_Billion_Unbanked.html as utf-8\n",
      "2024-10-19 13:02:47,517 - AInewsbot - INFO - Processing page 140: https://news.google.com/read/CBMisgFBVV95cUxPaWVnSnluejYtRzBRTWhCY2NEYVJVcVVvUDRvalRwNXpsOTdvT29ocldveU1iVzIwa2NfbFg3SGx2Y3VjcnQ2MGNWRFlvOTFkWnhBWkREVkNuTHJOREk4M2JyZFBnaTRVb3dCeWNjSmQxZEVUb1I1MmlEOE1uSDd3QjBab2doVjFQTThjVkJraEZyZi1Gakc1UXpVSV9yYUVacUJDeldNWFczSmZQOUwxa3NR\n",
      "2024-10-19 13:02:47,517 - AInewsbot - INFO - get_url(https://news.google.com/read/CBMisgFBVV95cUxPaWVnSnluejYtRzBRTWhCY2NEYVJVcVVvUDRvalRwNXpsOTdvT29ocldveU1iVzIwa2NfbFg3SGx2Y3VjcnQ2MGNWRFlvOTFkWnhBWkREVkNuTHJOREk4M2JyZFBnaTRVb3dCeWNjSmQxZEVUb1I1MmlEOE1uSDd3QjBab2doVjFQTThjVkJraEZyZi1Gakc1UXpVSV9yYUVacUJDeldNWFczSmZQOUwxa3NR) - starting get_url https://news.google.com/read/CBMisgFBVV95cUxPaWVnSnluejYtRzBRTWhCY2NEYVJVcVVvUDRvalRwNXpsOTdvT29ocldveU1iVzIwa2NfbFg3SGx2Y3VjcnQ2MGNWRFlvOTFkWnhBWkREVkNuTHJOREk4M2JyZFBnaTRVb3dCeWNjSmQxZEVUb1I1MmlEOE1uSDd3QjBab2doVjFQTThjVkJraEZyZi1Gakc1UXpVSV9yYUVacUJDeldNWFczSmZQOUwxa3NR\n",
      "2024-10-19 13:02:53,520 - AInewsbot - INFO - get_url(OpenAI releases ChatGPT app for Windows) - Saving OpenAI_releases_ChatGPT_app_for_Windows.html as utf-8\n",
      "2024-10-19 13:02:53,521 - AInewsbot - INFO - Processing page 141: https://www.cnbc.com/2024/10/19/hlth-2024-tech-companies-head-to-las-vegas-to-tout-health-ai-tools-.html\n",
      "2024-10-19 13:02:53,521 - AInewsbot - INFO - get_url(https://www.cnbc.com/2024/10/19/hlth-2024-tech-companies-head-to-las-vegas-to-tout-health-ai-tools-.html) - starting get_url https://www.cnbc.com/2024/10/19/hlth-2024-tech-companies-head-to-las-vegas-to-tout-health-ai-tools-.html\n",
      "2024-10-19 13:02:55,533 - AInewsbot - INFO - get_url(NotebookLM is Googles Own ChatGPT Moment) - Saving NotebookLM_is_Googles_Own_ChatGPT_Moment.html as utf-8\n",
      "2024-10-19 13:02:55,534 - AInewsbot - INFO - Quit webdriver\n",
      "2024-10-19 13:02:57,561 - AInewsbot - INFO - get_url(Why balancing Europes AI regulations is a difficult juggling act for start-ups) - Saving Why_balancing_Europes_AI_regulations_is_a_difficult_juggling_act_for_start-ups.html as utf-8\n",
      "2024-10-19 13:02:57,564 - AInewsbot - INFO - Quit webdriver\n",
      "2024-10-19 13:02:57,824 - AInewsbot - INFO - get_url(OpenAIs Newest Possible Threat: Ex-CTO Murati; Googles Mini-ChatGPT Moment) - Saving OpenAIs_Newest_Possible_Threat__Ex-CTO_Murati__Googles_Mini-ChatGPT_Moment.html as utf-8\n",
      "2024-10-19 13:02:57,824 - AInewsbot - INFO - Quit webdriver\n",
      "2024-10-19 13:02:59,613 - AInewsbot - INFO - 35 pages saved\n",
      "2024-10-19 13:03:01,242 - AInewsbot - INFO - 36 pages saved\n",
      "2024-10-19 13:03:01,286 - AInewsbot - INFO - 35 pages saved\n",
      "2024-10-19 13:03:04,178 - AInewsbot - INFO - get_url(Nvidia, Google, Microsoft and more head to Las Vegas to tout health-care AI tools) - Saving Nvidia__Google__Microsoft_and_more_head_to_Las_Vegas_to_tout_health-care_AI_tools.html as utf-8\n",
      "2024-10-19 13:03:04,198 - AInewsbot - INFO - Quit webdriver\n",
      "2024-10-19 13:03:06,459 - AInewsbot - INFO - 36 pages saved\n",
      "2024-10-19 13:03:06,462 - AInewsbot - INFO - returned 142\n"
     ]
    }
   ],
   "source": [
    "state = lg_agent.download_pages(state)\n"
   ]
  },
  {
   "cell_type": "code",
   "execution_count": 47,
   "id": "4298801f",
   "metadata": {},
   "outputs": [
    {
     "name": "stderr",
     "output_type": "stream",
     "text": [
      "2024-10-19 13:03:06,526 - AInewsbot - INFO - Starting summarize\n",
      "2024-10-19 13:03:06,557 - AInewsbot - INFO - fetch_all_summaries - Page title: 4 ways AI could negatively impact the 2024 election - Fast Company\n",
      "Social card title: 4 ways AI could negatively impact the 2024 election\n",
      "Social card description: Some are concerned that AI might be used by election deniers in this cycle.\n",
      "\n",
      "2024-10-19 13:03:06,639 - AInewsbot - INFO - fetch_all_summaries - Page title: The Pentagon Wants to Flood Social Media With Fake AI People\n",
      "Social card title: The Pentagon Wants to Flood Social Media With Fake AI People\n",
      "Social card description: Sophisticated AI deepfakes, created and operated by covert Pentagon teams, might be coming to an online forum near you.\n",
      "\n",
      "2024-10-19 13:03:06,727 - AInewsbot - INFO - fetch_all_summaries - Page title: Cat Zakrzewski on Artificial intelligence and Campaign 2024 | C-SPAN.org\n",
      "Social card title: Washington Journal: Cat Zakrzewski Discusses Artificial intelligence & Campaign 2024\n",
      "Social card description: Washington Post Technology Policy Reporter Cat Zakrzewski discussed the use of artificial intelligence in Campaign 2024.\n",
      "\n",
      "2024-10-19 13:03:06,926 - AInewsbot - INFO - fetch_all_summaries - Page title: Harris vs. Trump: Their Stance on AI and Cryptocurrency Regulations - GreekReporter.com\n",
      "Social card title: Harris vs. Trump: Their Stance on AI and Cryptocurrency Regulations - GreekReporter.com\n",
      "Social card description: Kamala Harris and Donald Trump have distinct policies on AI and cryptocurrencies regulation, issues that gain importance in the election.\n",
      "\n",
      "2024-10-19 13:03:06,968 - AInewsbot - INFO - fetch_all_summaries - Page title: Exclusive | Herbie Hancock on AI, the Snoop Dogg and Kendrick Lamar collab that never happened, and Kamala Harris for president | South China Morning Post\n",
      "Social card title: Exclusive | Herbie Hancock on AI, Kamala Harris, and the Kendrick Lamar collab that never was\n",
      "Social card description: The 84-year-old legend reflects on his decades-long career ahead of his performance at Hong Kong’s Freespace Jazz Fest\n",
      "\n",
      "2024-10-19 13:03:07,032 - AInewsbot - INFO - fetch_all_summaries - Page title: AI, crypto and data privacy: Comparing Harris, Trump on technology regulation\n",
      "Social card title: AI, crypto and data privacy: Comparing Harris, Trump on technology regulation\n",
      "Social card description: With artificial intelligence now widespread, governments worldwide are grappling with how to regulate various aspects of the technology. Kamala Harris and Donald Trump offer different visions for U.S. AI policy.\n",
      "\n",
      "2024-10-19 13:03:07,371 - AInewsbot - INFO - fetch_all_summaries - Page title: Comparing Claude Sonnet, ChatGPT, and OpenAI o1 Programming - Geeky Gadgets\n",
      "Social card title: AI Coding Showdown: Claude Sonnet vs ChatGPT vs OpenAI o1 - Who Wins?\n",
      "Social card description: Explore the strengths of Claude Sonnet, ChatGPT, and OpenAI o1 in programming. Discover which AI model suits your coding needs best.\n",
      "\n",
      "2024-10-19 13:03:07,412 - AInewsbot - INFO - fetch_all_summaries - Page title: anthropic-quickstarts/financial-data-analyst at main · anthropics/anthropic-quickstarts · GitHub\n",
      "Social card title: anthropic-quickstarts/financial-data-analyst at main · anthropics/anthropic-quickstarts\n",
      "Social card description: A collection of projects designed to help developers quickly get started with building deployable applications using the Anthropic API - anthropics/anthropic-quickstarts\n",
      "\n",
      "2024-10-19 13:03:07,455 - AInewsbot - INFO - fetch_all_summaries - Page title: Claude AI: Unboxing Anthropic’s LLM-based AI Assistant, Artifacts & Use Cases - KDnuggets\n",
      "Social card title: Claude AI: Unboxing Anthropic's LLM-based AI Assistant, Artifacts & Use Cases - KDnuggets\n",
      "Social card description: Dive into this emerging and powerful LLM-based AI tool for enhancing your business, creative, or daily processes through well-managed conversations.\n",
      "\n",
      "2024-10-19 13:03:07,486 - AInewsbot - INFO - fetch_all_summaries - Page title: Claude: Everything you need to know about Anthropic's AI | TechCrunch\n",
      "Social card title: Claude: Everything you need to know about Anthropic's AI | TechCrunch\n",
      "Social card description: Anthropic, the AI vendor second in size only to OpenAI, has a powerful family of generative AI models called Claude. These models can perform a range of\n",
      "\n",
      "2024-10-19 13:03:07,519 - AInewsbot - INFO - fetch_all_summaries - Page title: All System Prompts For Anthropic’s Claude, Revealed | Hackaday\n",
      "Social card title: All System Prompts For Anthropic’s Claude, Revealed\n",
      "Social card description: For as long as AI Large Language Models have been around (well, for as long as modern ones have been accessible online, anyway) people have tried to coax the models into revealing their system prom…\n",
      "\n",
      "2024-10-19 13:03:07,544 - AInewsbot - INFO - fetch_all_summaries - Page title: Claude AI update — and now it's even easier to use | Tom's Guide\n",
      "Social card title: Anthropic just announced major Claude AI update — here’s everything that’s new\n",
      "Social card description: Including its first-ever iPad app\n",
      "\n",
      "2024-10-19 13:03:07,588 - AInewsbot - INFO - fetch_all_summaries - Page title: Where Nvidia ranks among fastest-growing AI companies. No, it’s not No. 1. - MarketWatch\n",
      "Social card title: Where Nvidia ranks among fastest-growing AI companies. No, it’s not No. 1.\n",
      "Social card description: Others ranking high on a broad list of AI stocks include AMD and Micron.\n",
      "\n",
      "2024-10-19 13:03:07,655 - AInewsbot - INFO - fetch_all_summaries - Page title: Looking to Buy Your First AI Stock? This Is the Best Choice (Hint: It's Not Nvidia).\n",
      "Social card title: Looking to Buy Your First AI Stock? This Is the Best Choice (Hint: It's Not Nvidia).\n",
      "Social card description: This chip manufacturer sees a bright future for AI.\n",
      "\n",
      "2024-10-19 13:03:07,729 - AInewsbot - INFO - fetch_all_summaries - Page title: AI Creates 'Generational Opportunity': Why Nvidia Analyst Says Stock Will Hit $190 - Apple (NASDAQ:AAPL), Accenture (NYSE:ACN) - Benzinga\n",
      "Social card title: AI Creates 'Generational Opportunity': Why Nvidia Analyst Says Stock Will Hit $190 - Apple (NASDAQ:AAPL), Accenture (NYSE:ACN)\n",
      "Social card description: Nvidia continues to be Bank of America's top stock pick within the AI universe. Earnings forecasts for 2025 and 2026 to 20%\n",
      "\n",
      "2024-10-19 13:03:07,844 - AInewsbot - INFO - fetch_all_summaries - Page title: Scammers swindle elderly California man out of $25K by using AI voice technology to claim his son was in 'horrible accident,' needed money for bail: 'Absolutely his voice' : r/technology\n",
      "\n",
      "2024-10-19 13:03:07,915 - AInewsbot - INFO - fetch_all_summaries - Page title: US Government Recovered $4 Billion Worth of Fraud With AI\n",
      "Social card title: US Government Recovered $4 Billion Worth of Fraud With AI\n",
      "Social card description: Learn more about how the US Treasury Department is using machine learning to track data that may point to fraud.\n",
      "\n",
      "2024-10-19 13:03:07,950 - AInewsbot - INFO - fetch_all_summaries - Page title: AI Video Call Scams Are on the Rise, and This Is How They Work\n",
      "Social card title: AI Video Call Scams Are on the Rise, and This Is How They Work\n",
      "Social card description: AI is wonderful, but it comes with downsides. Thankfully, there are a few ways you can spot AI video call scams.\n",
      "\n",
      "2024-10-19 13:03:08,001 - AInewsbot - INFO - fetch_all_summaries - Page title: Researchers develop method enabling LLMs to answer questions more concisely and accurately\n",
      "Social card title: Researchers develop method enabling LLMs to answer questions more concisely and accurately\n",
      "Social card description: Large language models (LLMs) are machine-learning models designed to understand and generate human language. State-of-the-art LLMs have demonstrated outstanding potential in open-domain question answering (ODQA), where the model is tasked with providing answers to factual questions.\n",
      "\n",
      "2024-10-19 13:03:08,131 - AInewsbot - INFO - fetch_all_summaries - Page title: Enhancing AI Accuracy and Confidence in Answer Generation - Neuroscience News\n",
      "Social card title: Enhancing AI Accuracy and Confidence in Answer Generation - Neuroscience News\n",
      "Social card description: Researchers have introduced a novel method called Answer-prefix Generation (ANSPRE) to improve the precision and reliability of large language models (LLMs) in open-domain question answering.\n",
      "\n"
     ]
    },
    {
     "name": "stderr",
     "output_type": "stream",
     "text": [
      "2024-10-19 13:03:08,151 - AInewsbot - INFO - fetch_all_summaries - Page title: Taming randomness in ML models with hypothesis testing and marimo\n",
      "Social card title: Taming randomness in ML models with hypothesis testing and marimo\n",
      "Social card description: The behavior of ML models is often affected by randomness at different levels, from the initialization of model parameters to the dataset split into training and evaluation. Thus, predictions made by a model (including the answers an LLM gives to your questions) are potentially different every time you run it.\n",
      "\n",
      "2024-10-19 13:03:08,174 - AInewsbot - INFO - fetch_all_summaries - Page title: This AI Paper from Google DeepMind Explores Inference Scaling in Long-Context RAG - MarkTechPost\n",
      "Social card title: This AI Paper from Google DeepMind Explores Inference Scaling in Long-Context RAG\n",
      "Social card description: Long-context Large language models (LLMs) are designed to handle long input sequences, enabling them to process and understand large amounts of information. As the interference computation power is increased the large language models (LLMs) can perform diverse tasks. Particularly for knowledge-intensive tasks that rely mainly on Retrieval augmented generation (RAG), increasing the quantity or size of retrieved documents up to a certain level consistently increases the performance. For knowledge-intensive tasks, the increased compute is often allocated to incorporate more external knowledge. However, just adding more amount of information does not always enhance performance. Numerous studies have also shown reading more\n",
      "\n",
      "2024-10-19 13:03:08,215 - AInewsbot - INFO - fetch_all_summaries - Page title: TREAT: A Deep Learning Framework that Achieves High-Precision Modeling for a Wide Range of Dynamical Systems by Injecting Time-Reversal Symmetry as an Inductive Bias - MarkTechPost\n",
      "Social card title: TREAT: A Deep Learning Framework that Achieves High-Precision Modeling for a Wide Range of Dynamical Systems by Injecting Time-Reversal Symmetry as an Inductive Bias\n",
      "Social card description: Dynamical systems are mathematical models that explain how a system evolves due to physical interactions or forces. These systems are fundamental to understanding various phenomena across scientific fields like physics, biology, and engineering. For example, they model fluid dynamics, celestial mechanics, and robotic movements. The core challenge in modeling these systems lies in their complexity, often involving nonlinear patterns and multi-agent interactions, making them difficult to predict accurately over extended periods. Moreover, many systems must adhere to simple physical laws like energy conservation, further complicating the modeling process. A persistent problem in this field is the difficulty in accurately predicting\n",
      "\n",
      "2024-10-19 13:03:08,265 - AInewsbot - INFO - fetch_all_summaries - Page title: A new 'electronic tongue' can monitor food for safety issues | Live Science\n",
      "Social card title: Scientists have built an AI-powered 'electronic tongue'\n",
      "Social card description: This new device can AI to distinguish between different coffee blends or detect when food or drink may be on the verge of going bad.\n",
      "\n",
      "2024-10-19 13:03:08,310 - AInewsbot - INFO - fetch_all_summaries - Page title: New JAMA channel highlights AI’s role in medicine  - The Washington Post\n",
      "Social card title: New JAMA channel highlights AI’s role in medicine\n",
      "Social card description: JAMA+ AI will supplement studies from across the JAMA Network with author interviews, educational reviews, a podcast and invited commentaries.\n",
      "\n",
      "2024-10-19 13:03:08,350 - AInewsbot - INFO - fetch_all_summaries - Page title: XYZ Media's 'Next Generation of Innovators' Highlights James Gu's Research: Advancing Personalized Cancer Treatment with Digital Twin Technology  - Benzinga\n",
      "Social card title: XYZ Media's 'Next Generation of Innovators' Highlights James Gu's Research: Advancing Personalized Cancer Treatment with Digital Twin Technology\n",
      "Social card description: LOS ANGELES, Oct. 18, 2024 (GLOBE NEWSWIRE) -- XYZ Media, a leading media and marketing company that connects education with innovative technology, is proud to announce the latest feature in &quot;Next Generation of\n",
      "\n",
      "2024-10-19 13:03:08,418 - AInewsbot - INFO - fetch_all_summaries - Page title: HeartFlow Announces New Category I CPT Code from the American Medical Association for AI-Enabled Plaque Analysis to Assess Risk for Coronary Artery Disease\n",
      "Social card title: HeartFlow Announces New Category I CPT Code from the American Medical Association for AI-Enabled Plaque Analysis to Assess Risk for Coronary Artery Disease\n",
      "Social card description: New reimbursement code follows recent favorable Medicare coverage decision, expanding access to HeartFlow’s Plaque Analysis to help physicians provide personalized treatment plansMOUNTAIN VIEW, Calif., Oct. 18, 2024 (GLOBE NEWSWIRE) -- HeartFlow, Inc., the global leader in non-invasive artificial intelligence (AI) heart care solutions, today announced that the American Medical Association (AMA) has issued a new Category I Current Procedural Terminology (CPT®) code for AI-enabled plaque quantific\n",
      "\n",
      "2024-10-19 13:03:08,462 - AInewsbot - INFO - fetch_all_summaries - Page title: New JAMA channel highlights AI’s role in medicine\n",
      "Social card title: New JAMA channel highlights AI’s role in medicine\n",
      "Social card description: JAMA+ AI will supplement studies from across the JAMA Network with author interviews, educational reviews, a podcast and invited commentaries.\n",
      "\n",
      "2024-10-19 13:03:08,591 - AInewsbot - INFO - fetch_all_summaries - Page title: XYZ Media’s ‘Next Generation of Innovators' Highlights James Gu’s Research: Advancing Personalized Cancer Treatment with Digital Twin Technology\n",
      "Social card title: XYZ Media’s ‘Next Generation of Innovators' Highlights James Gu’s Research: Advancing Personalized Cancer Treatment with Digital Twin Technology\n",
      "Social card description: Spotlighting a 'Next Generation Innovator': James Gu’s personalized cancer treatment project proposes the Multi-level Parameterized Automata (MLPA) framework, integrating genomic data and electronic health records to combine molecular insights with clinical dataLOS ANGELES, Oct. 18, 2024 (GLOBE NEWSWIRE) -- XYZ Media, a leading media and marketing company that connects education with innovative technology, is proud to announce the latest feature in “Next Generation of Innovators”, a digital camp\n",
      "\n",
      "2024-10-19 13:03:08,681 - AInewsbot - INFO - fetch_all_summaries - Page title: INOVAIT reveals Canada's strategic advantages in image-guided therapy and artificial intelligence in latest report\n",
      "Social card title: INOVAIT reveals Canada's strategic advantages in image-guided therapy and artificial intelligence in latest report\n",
      "Social card description: INOVAIT, the pan-Canadian innovation network supporting advancements and commercialization in image-guided therapy (IGT) and artificial intelligence (AI), is excited to share their latest report titled, 'Unlocking Medtech's Potential: Canada's Strategic Advantages in Image-Guided Therapy & AI'. Through synthesized insights from interviews with founders and executives from 30 IGT companies in the INOVAIT Network, this new report uncovers the untapped potential of the image-guided therapy sector i\n",
      "\n",
      "2024-10-19 13:03:08,749 - AInewsbot - INFO - fetch_all_summaries - Page title: Sam Altman’s eyeball-scanning crypto project has a new Orb and a new name - The Verge\n",
      "Social card title: Sam Altman’s eyeball-scanning crypto project has a new Orb and a new name\n",
      "Social card description: Orb on demand.\n",
      "\n",
      "2024-10-19 13:03:08,775 - AInewsbot - INFO - fetch_all_summaries - Page title: Sam Altman's Worldcoin Rebrand Now Calls It 'World,' Brings New Orb for Crypto Project\n",
      "Social card title: Sam Altman's Worldcoin Rebrand Now Calls It 'World,' Brings New Orb for Crypto Project\n",
      "Social card description: Sam Altman's crypto project is now called 'World' and it offers a new cryptocurrency orb project.\n",
      "\n",
      "2024-10-19 13:03:08,784 - AInewsbot - INFO - fetch_all_summaries - Page title: inc.com\n",
      "\n",
      "2024-10-19 13:03:08,786 - trafilatura.core - WARNING - discarding data: None\n",
      "2024-10-19 13:03:08,805 - AInewsbot - INFO - fetch_all_summaries - Page title: Mixtral—a Multilingual Language Model Trained with a Context Size of 32k Tokens  | HackerNoon\n",
      "Social card title: Mixtral—a Multilingual Language Model Trained with a Context Size of 32k Tokens  | HackerNoon\n",
      "Social card description: Discover Mixtral 8x7B, a Sparse Mixture of Experts (SMoE) language model, trained with a context size of 32k tokens with access to 47B parameters. \n",
      "\n"
     ]
    },
    {
     "name": "stderr",
     "output_type": "stream",
     "text": [
      "2024-10-19 13:03:08,864 - AInewsbot - INFO - fetch_all_summaries - Page title: Meta Platforms (NASDAQ:META) Releases a Series of New AI Models - TipRanks.com\n",
      "Social card title: Meta Platforms (NASDAQ:META) Releases a Series of New AI Models - TipRanks.com\n",
      "Social card description: Meta Platforms ($META) has issued several new artificial intelligence (AI) models, including one that is capable of checking the work of other AI for accuracy. Call...\n",
      "\n",
      "2024-10-19 13:03:09,012 - AInewsbot - INFO - fetch_all_summaries - Page title: Meta AI Releases Meta Lingua: A Minimal and Fast LLM Training and Inference Library for Research - MarkTechPost\n",
      "Social card title: Meta AI Releases Meta Lingua: A Minimal and Fast LLM Training and Inference Library for Research\n",
      "Social card description: Training and deploying large-scale language models (LLMs) is complex, requiring significant computational resources, technical expertise, and access to high-performance infrastructure. These barriers limit reproducibility, increase development time, and make experimentation challenging, particularly for academia and smaller research institutions. Addressing these issues requires a lightweight, flexible, and efficient approach that reduces friction in LLM research. Meta AI releases Meta Lingua: a minimal and fast LLM training and inference library designed for research. Meta Lingua aims to provide a research-friendly platform that enables researchers to translate theoretical concepts into practical experiments more seamlessly. The library is designed to be lightweight and self-contained,\n",
      "\n",
      "2024-10-19 13:03:09,053 - AInewsbot - INFO - fetch_all_summaries - Page title: How Mixtral 8x7B Sets New Standards in Open-Source AI with Innovative Design | HackerNoon\n",
      "Social card title: How Mixtral 8x7B Sets New Standards in Open-Source AI with Innovative Design | HackerNoon\n",
      "Social card description: The Mixtral 8x7B model sets a new standard in open-source AI performance, surpassing models like Claude-2.1, Gemini Pro, and GPT-3.5 Turbo in human evaluations.\n",
      "\n",
      "2024-10-19 13:03:09,111 - AInewsbot - INFO - fetch_all_summaries - Page title: Meta Introduces Spirit LM open source model that combines text and speech inputs/outputs | VentureBeat\n",
      "Social card title: Meta Introduces Spirit LM open source model that combines text and speech inputs/outputs\n",
      "Social card description: Spirit LM Expressive incorporates emotional cues into its speech generation and can detect and reflect anger, surprise, or joy.\n",
      "\n",
      "2024-10-19 13:03:09,140 - AInewsbot - INFO - fetch_all_summaries - Page title: Microsoft Open-Sources bitnet.cpp: A Super-Efficient 1-bit LLM Inference Framework that Runs Directly on CPUs - MarkTechPost\n",
      "Social card title: Microsoft Open-Sources bitnet.cpp: A Super-Efficient 1-bit LLM Inference Framework that Runs Directly on CPUs\n",
      "Social card description: The rapid growth of large language models (LLMs) has brought impressive capabilities, but it has also highlighted significant challenges related to resource consumption and scalability. LLMs often require extensive GPU infrastructure and enormous amounts of power, making them costly to deploy and maintain. This has particularly limited their accessibility for smaller enterprises or individual users without access to advanced hardware. Moreover, the energy demands of these models contribute to increased carbon footprints, raising sustainability concerns. The need for an efficient, CPU-friendly solution that addresses these issues has become more pressing than ever. Microsoft recently open-sourced bitnet.cpp, a super-efficient 1-bit LLM\n",
      "\n",
      "2024-10-19 13:03:09,186 - AInewsbot - INFO - fetch_all_summaries - Page title: PyTorch 2.5 Unleashes High-End GPU Performance, Supercharges LLMs\n",
      "Social card title: PyTorch 2.5 Unleashes High-End GPU Performance, Supercharges LLMs\n",
      "Social card description: Adds Intel ARC dGPU and Core Ultra iGPU support for Linux and Windows, bringing broader compatibility and performance optimisation to Intel GPUs in AI workloads.\n",
      "\n",
      "2024-10-19 13:03:09,249 - AInewsbot - INFO - fetch_all_summaries - Page title: I dumped Google for AI search alternatives like Perplexity and ChatGPT\n",
      "Social card title: I’ve mostly dumped Google Search for the smarter Perplexity and ChatGPT\n",
      "Social card description: Google's out, now Perplexity and ChatGPT are my new pals 🤝 \n",
      "\n",
      "2024-10-19 13:03:09,301 - AInewsbot - INFO - fetch_all_summaries - Page title: Perplexity lets you search your internal enterprise files and the web | VentureBeat\n",
      "Social card title: Perplexity lets you search your internal enterprise files and the web\n",
      "Social card description: Perplexity announced Internal Knowledge Search and Spaces, which lets paying users query their own files as well as the internet.\n",
      "\n",
      "2024-10-19 13:03:09,337 - AInewsbot - INFO - fetch_all_summaries - Page title: Perplexity's AI search engine goes deep to get your answers | TechRadar\n",
      "Social card title: Perplexity's AI search engine goes deep to get your answers\n",
      "Social card description: Zen AI?\n",
      "\n",
      "2024-10-19 13:03:09,383 - AInewsbot - INFO - fetch_all_summaries - Page title: Microsoft could end up with substantial equity in the restructured, for-profit OpenAI | TechCrunch\n",
      "Social card title: Microsoft could end up with substantial equity in the restructured, for-profit OpenAI | TechCrunch\n",
      "Social card description: Microsoft and OpenAI are reportedly negotiating over how much equity the former will get in OpenAI once OpenAI converts to a for-profit.\n",
      "\n",
      "2024-10-19 13:03:09,404 - AInewsbot - INFO - fetch_all_summaries - Page title: Tensions with OpenAI underscore Microsoft's need to ensure its own AI future – GeekWire\n",
      "Social card title: Tensions with OpenAI underscore Microsoft’s need to ensure its own AI future\n",
      "Social card description: Are Microsoft and OpenAI going from bromance to frenemies? Two new reports on the companies suggest that may be the case.\n",
      "\n",
      "2024-10-19 13:03:09,424 - AInewsbot - INFO - fetch_all_summaries - Page title: The surprising way OpenAI could get out of its pact with Microsoft | TechCrunch\n",
      "Social card title: The surprising way OpenAI could get out of its pact with Microsoft | TechCrunch\n",
      "Social card description: The New York Times on Thursday published a look at the \"fraying\" relationship between OpenAI and its investor, partner, and, increasingly, rival,\n",
      "\n",
      "2024-10-19 13:03:09,452 - AInewsbot - INFO - fetch_all_summaries - Page title: OpenAI, Microsoft reportedly hire banks to renegotiate partnership terms - SiliconANGLE\n",
      "Social card title: OpenAI, Microsoft reportedly hire banks to renegotiate partnership terms - SiliconANGLE\n",
      "Social card description: OpenAI, Microsoft reportedly hire banks to renegotiate partnership terms - SiliconANGLE\n",
      "\n",
      "2024-10-19 13:03:09,484 - AInewsbot - INFO - fetch_all_summaries - Page title: The Bookseller - News - Penguin Random House underscores copyright protection in AI rebuff\n",
      "Social card title: Penguin Random House underscores copyright protection in AI rebuff\n",
      "Social card description: The world’s biggest trade publisher has changed the wording on its copyright pages to help protect authors’ intellectual property from being used to train AI tools, The Bookseller can exclusively reveal\n",
      "\n",
      "2024-10-19 13:03:09,549 - AInewsbot - INFO - fetch_all_summaries - Page title: Penguin Random House Underscores Copyright Protection in AI Rebuff - Slashdot\n",
      "Social card title: Penguin Random House Underscores Copyright Protection in AI Rebuff - Slashdot\n",
      "Social card description: The world's biggest trade publisher has changed the wording on its copyright pages to help protect authors' intellectual property from being used to train large language models and other artificial intelligence tools, The Bookseller has reported. From the report: Penguin Random House has amended its...\n",
      "\n",
      "2024-10-19 13:03:09,574 - AInewsbot - INFO - fetch_all_summaries - Page title: Penguin Random House amends its copyright rules to protect authors from AI\n",
      "Social card title: Penguin Random House amends its copyright rules to protect authors from AI\n",
      "Social card description: The world's biggest publisher is taking steps to protect its books and authors from AI infringement.\n",
      "\n",
      "2024-10-19 13:03:09,601 - AInewsbot - INFO - fetch_all_summaries - Page title: The Bookseller - News - Penguin Random House underscores copyright protection in AI rebuff\n",
      "Social card title: Penguin Random House underscores copyright protection in AI rebuff\n",
      "Social card description: The world’s biggest trade publisher has changed the wording on its copyright pages to help protect authors’ intellectual property from being used to train AI tools, The Bookseller can exclusively reveal\n",
      "\n"
     ]
    },
    {
     "name": "stderr",
     "output_type": "stream",
     "text": [
      "2024-10-19 13:03:09,664 - AInewsbot - INFO - fetch_all_summaries - Page title: X’s controversial changes to blocking and AI training sees half a million users leave for rival Bluesky – which then crashes under the strain | TechRadar\n",
      "Social card title: X’s controversial changes to blocking and AI training sees half a million users leave for rival Bluesky – which then crashes under the strain\n",
      "Social card description: Concerns over the enablement of stalkers and trolls abound\n",
      "\n",
      "2024-10-19 13:03:09,703 - AInewsbot - INFO - fetch_all_summaries - Page title: X to allow third parties to train AIs with user data • The Register\n",
      "Social card title: X to allow third parties to train AIs with user data\n",
      "Social card description: Another raft of reasons to ponder your social media presence\n",
      "\n",
      "2024-10-19 13:03:09,731 - AInewsbot - INFO - fetch_all_summaries - Page title: X to allow third parties to train AI on your posts | Mashable\n",
      "Social card title: X to allow third parties to train AI on your posts\n",
      "Social card description: You can't opt out yet.\n",
      "\n",
      "2024-10-19 13:03:09,871 - AInewsbot - INFO - fetch_all_summaries - Page title: Penguin Random House books now explicitly say ‘no’ to AI training - The Verge\n",
      "Social card title: Penguin Random House books now explicitly say ‘no’ to AI training\n",
      "Social card description: Copyright protections apply whether a note is there or not.\n",
      "\n",
      "2024-10-19 13:03:09,901 - AInewsbot - INFO - fetch_all_summaries - Page title: How to Stop X From Giving Away Your Data to Train AIs | Lifehacker\n",
      "Social card title: X Is Giving Away Your Data to Train Third-Party AIs\n",
      "Social card description: X is now letting third-party collaborators train their AI models using your data. You can opt-out, but it isn't clear how.\n",
      "\n",
      "2024-10-19 13:03:09,933 - AInewsbot - INFO - fetch_all_summaries - Page title: X's new terms of service push lawsuits to Texas courts, allow third-party AI data-sharing\n",
      "Social card title: X's new terms of service push lawsuits to Texas courts, allow third-party AI data-sharing\n",
      "Social card description: X's new terms of services, effective Nov. 15, will redirect user lawsuits to Texas courts and allow third-party data-sharing with AI companies.\n",
      "\n",
      "2024-10-19 13:03:09,977 - AInewsbot - INFO - fetch_all_summaries - Page title: US probing Elon Musk's Tesla over self-driving systems\n",
      "Social card title: US probing Elon Musk's Tesla over self-driving systems\n",
      "Social card description: The National Highway Traffic Safety Administration's evaluation is the first step toward a potential recall of 2.4 million Tesla vehicles\n",
      "\n",
      "2024-10-19 13:03:10,013 - AInewsbot - INFO - fetch_all_summaries - Page title: Feds open their 14th Tesla safety investigation, this time for FSD - Ars Technica\n",
      "Social card title: Feds open their 14th Tesla safety investigation, this time for FSD\n",
      "Social card description: Four crashes and one death could lead to a costly recall or FSD being banned.\n",
      "\n",
      "2024-10-19 13:03:10,046 - AInewsbot - INFO - fetch_all_summaries - Page title: Tesla software under investigation after collisions\n",
      "Social card title: Tesla software under investigation after collisions\n",
      "Social card description: The National Highway Traffic Safety Administration (NHTSA) opened an investigation into Tesla’s Full Self-Driving (FSD) software on Thursday after the system was reportedly involved in four crashes, including one that killed a pedestrian. The agency said it is investigating the system’s “potential failure to detect and disengage in specific situations where it cannot adequately operate.”…\n",
      "\n",
      "2024-10-19 13:03:10,090 - AInewsbot - INFO - fetch_all_summaries - Page title: Tesla Facing NHTSA Investigation of 2.4 Million Cars Over Full Self-Driving Crashes\n",
      "Social card title: Tesla Facing NHTSA Investigation of 2.4 Million Cars Over Full Self-Driving Crashes\n",
      "Social card description: Tesla and its Full Self-Driving ADAS system are under fire from NHTSA. The regulatory agency is investigating the system's capabilities in low-visibility situations.\n",
      "\n",
      "2024-10-19 13:03:10,167 - AInewsbot - INFO - fetch_all_summaries - Page title: Protect AI Named 2024 SINET16 Innovator\n",
      "Social card title: Protect AI Named 2024 SINET16 Innovator\n",
      "Social card description: SEATTLE, October 18, 2024--As enterprises and government deploy AI, Protect AI is leading the industry with the most comprehensive platform for securing AI, end-to-end.\n",
      "\n",
      "2024-10-19 13:03:10,222 - AInewsbot - INFO - fetch_all_summaries - Page title: Google’s NotebookLM now lets you guide the hosts of your AI podcast - The Verge\n",
      "Social card title: Google’s NotebookLM now lets you guide the hosts of your AI podcast\n",
      "Social card description: Now you can have even more fun with fake podcasts.\n",
      "\n",
      "2024-10-19 13:03:10,264 - AInewsbot - INFO - fetch_all_summaries - Page title: Opinion - The 3 major decisions the next Congress must make about AI policy\n",
      "Social card title: Opinion - The 3 major decisions the next Congress must make about AI policy\n",
      "Social card description: With careful consideration and bold leadership, we can ensure that AI becomes a tool for progress, not a threat to our future.\n",
      "\n",
      "2024-10-19 13:03:10,312 - AInewsbot - INFO - fetch_all_summaries - Page title: Department of Labor releases AI best practices for employers\n",
      "Social card title: Department of Labor releases AI best practices for employers\n",
      "Social card description: The U.S. Department of Labor released a list of artificial intelligence best practices for developers and employers this week, aiming to help employers benefit from potential time and cost savings of AI, while protecting workers from discrimination and job displacement. The voluntary guidelines come about a year after President Joe Biden signed an executive order […]\n",
      "\n",
      "2024-10-19 13:03:10,353 - AInewsbot - INFO - fetch_all_summaries - Page title: Causal AI: Evolving from recognition to reasoning - SiliconANGLE\n",
      "Social card title: Causal AI: Evolving from recognition to reasoning - SiliconANGLE\n",
      "Social card description: Causal AI is at the forefront of the evolution of artificial intelligence. This decision-making intelligence has the potential to redefine the marketplace.\n",
      "\n",
      "2024-10-19 13:03:10,382 - AInewsbot - INFO - fetch_all_summaries - Page title: Can Greg Brockman Find a Future Back at OpenAI? — The Information\n",
      "Social card title: Can Greg Brockman Find a Future Back at OpenAI?\n",
      "Social card description: When Greg Brockman returns to OpenAI in the next month or so, as senior leaders expect him to, the artificial intelligence startup’s co-founder will rejoin a company that’s already changed a lot in the two months since he started a sabbatical. In the time he was gone, OpenAI Chief Technology ...\n",
      "\n",
      "2024-10-19 13:03:10,410 - AInewsbot - INFO - fetch_all_summaries - Page title: This Is OpenAI CEO Sam Altman's Favorite Question About AGI - Business Insider\n",
      "Social card title: This is OpenAI CEO Sam Altman's favorite question about AGI\n",
      "Social card description: Altman said artificial general intelligence will facilitate \"scaffolding that exists between all of us.\"\n",
      "\n",
      "2024-10-19 13:03:10,430 - AInewsbot - INFO - fetch_all_summaries - Page title: People Are Asking AI for Child Pornography - The Atlantic\n",
      "Social card title: The Age of AI Child Abuse Is Here\n",
      "Social card description: For maybe the first time, the scale of the problem is coming into view.\n",
      "\n",
      "2024-10-19 13:03:10,455 - AInewsbot - INFO - fetch_all_summaries - Page title: New GraphAcademy Course: Transform Unstructured Data into Knowledge Graphs with LLMs and Python | HackerNoon\n",
      "Social card title: New GraphAcademy Course: Transform Unstructured Data into Knowledge Graphs with LLMs and Python | HackerNoon\n",
      "Social card description: Learn how to use GenAI, LLMs, and Python to convert unstructured data into graphs\n",
      "\n",
      "2024-10-19 13:03:10,614 - AInewsbot - INFO - fetch_all_summaries - Page title: Chinese AI groups get creative to drive down cost of models\n",
      "Social card title: Chinese AI groups get creative to drive down cost of models\n",
      "Social card description: 01.ai, Alibaba and ByteDance have cut ‘inference’ costs despite Washington curbs on accessing cutting-edge chips\n",
      "\n",
      "2024-10-19 13:03:10,677 - AInewsbot - INFO - fetch_all_summaries - Page title: Bullfrog AI Announces Pricing of Registered Direct Offering and Concurrent Private Placement for Aggregate Gross Proceeds of $3.13 Million\n",
      "Social card title: Bullfrog AI Announces Pricing of Registered Direct Offering and Concurrent Private Placement for Aggregate Gross Proceeds of $3.13 Million\n",
      "Social card description: GAITHERSBURG, Md., Oct. 18, 2024 (GLOBE NEWSWIRE) -- BullFrog AI Holdings, Inc. (NASDAQ:BFRG; BFRGW) (\"Bullfrog AI\" or the \"Company\"), a technology-enabled drug development company using artificial intelligence (AI) and machine learning to enable the successful development of pharmaceuticals and biologics, announced today it has entered into a definitive agreement for the purchase and sale of an aggregate of 1,565,000 shares of common stock (or common stock equivalents in lieu thereof) in a regi\n",
      "\n"
     ]
    },
    {
     "name": "stderr",
     "output_type": "stream",
     "text": [
      "2024-10-19 13:03:10,726 - AInewsbot - INFO - fetch_all_summaries - Page title: Pope Francis and the Vatican just created an \"AI Bible\" reshaping faith in the Digital Age - The Brighter Side of News\n",
      "Social card title: Pope Francis and the Vatican just created an \"AI Bible\" reshaping faith in the Digital Age\n",
      "Social card description: The Vatican has signaled its determination to be an influential voice in the rapidly advancing field of artificial intelligence.\n",
      "\n",
      "2024-10-19 13:03:10,758 - AInewsbot - INFO - fetch_all_summaries - Page title: Penguin Adds a Do-Not-Scrape-for-AI Page to Its Books\n",
      "Social card title: Penguin Adds a Do-Not-Scrape-for-AI Page to Its Books\n",
      "Social card description: The world's largest publishing house doesn't want its copyrighted work used to train AI models.\n",
      "\n",
      "2024-10-19 13:03:10,782 - AInewsbot - INFO - fetch_all_summaries - Page title: Parents sue school over son's punishment for using AI, claim it's harmed his college chances | TechSpot\n",
      "Social card title: Parents sue school over son's punishment for using AI, claim it's harmed his college chances\n",
      "Social card description: The student in question, identified only by his initials, RNH, admitted to Hingham High School teachers that he had used AI to complete a Social Studies project...\n",
      "\n",
      "2024-10-19 13:03:10,810 - AInewsbot - INFO - fetch_all_summaries - Page title: AI-generated art piece disqualified by SC State Fair after being awarded cash prize\n",
      "Social card title: AI-generated art piece disqualified by SC State Fair after being awarded cash prize\n",
      "Social card description: The piece, which the artist said in a social media post last year was generated with AI, had been given an amateur-division award with a $300 prize.\n",
      "\n",
      "2024-10-19 13:03:10,887 - AInewsbot - INFO - fetch_all_summaries - Page title: Self-learning AI gives out NFL against the spread, over-under, money-line picks for every Week 7, 2024 game - CBSSports.com\n",
      "Social card title: Self-learning AI gives out NFL against the spread, over-under, money-line picks for every Week 7, 2024 game\n",
      "Social card description: SportsLine AI evaluated the Week 7 NFL odds and revealed its NFL predictions, NFL score predictions, and NFL betting picks for every game\n",
      "\n",
      "2024-10-19 13:03:10,946 - AInewsbot - INFO - fetch_all_summaries - Page title: How Google is changing to compete with ChatGPT - The Verge\n",
      "Social card title: How Google is changing to compete with ChatGPT\n",
      "Social card description: Google is all in on Gemini as the future.\n",
      "\n",
      "2024-10-19 13:03:10,967 - AInewsbot - INFO - fetch_all_summaries - Page title: inc.com\n",
      "\n",
      "2024-10-19 13:03:10,970 - trafilatura.core - WARNING - discarding data: None\n",
      "2024-10-19 13:03:11,017 - AInewsbot - INFO - fetch_all_summaries - Page title: Is Broadcom a Top Artificial Intelligence (AI) Stock to Buy Right Now?\n",
      "Social card title: Is Broadcom a Top Artificial Intelligence (AI) Stock to Buy Right Now?\n",
      "Social card description: Broadcom's connectivity solutions are driving its AI buzz.\n",
      "\n",
      "2024-10-19 13:03:11,089 - AInewsbot - INFO - fetch_all_summaries - Page title: The Paradox of AI: If It Can't Replace us, Is It Making Us Dumber?  | HackerNoon\n",
      "Social card title: The Paradox of AI: If It Can't Replace us, Is It Making Us Dumber?  | HackerNoon\n",
      "Social card description: AI is solving complex and simple tasks alike, but at what cost? Explore the paradox of AI—whether it’s making life easier or turning our brains to mush.\n",
      "\n",
      "2024-10-19 13:03:11,154 - AInewsbot - INFO - fetch_all_summaries - Page title: Filmmakers Are Worried About AI. Big Tech Wants Them to See ‘What's Possible’ | WIRED\n",
      "Social card title: Filmmakers Are Worried About AI. Big Tech Wants Them to See ‘What's Possible’\n",
      "Social card description: Amazon is hosting AI filmmaking competitions. Meta is letting directors test Movie Gen. As tech companies develop new tools, they need filmmakers to show they can be used responsibly.\n",
      "\n",
      "2024-10-19 13:03:11,209 - AInewsbot - INFO - fetch_all_summaries - Page title: The Return of Nuclear Energy Thanks to the AI Revolution - GreekReporter.com\n",
      "Social card title: The Return of Nuclear Energy Thanks to the AI Revolution - GreekReporter.com\n",
      "Social card description: Nuclear energy is on the rise as tech giants like Amazon, Microsoft, and Google all vy to power their AI databases.\n",
      "\n",
      "2024-10-19 13:03:11,373 - AInewsbot - INFO - fetch_all_summaries - Page title: Google licences diabetic retinopathy AI model to partners in APAC\n",
      "Social card title: Google licences diabetic retinopathy AI model to partners in APAC\n",
      "Social card description: Google Health has partnered with Forus Health, AuroLab and Perceptra, who will work on securing local regulatory approvals in India and Thailand.\n",
      "\n",
      "2024-10-19 13:03:11,437 - AInewsbot - INFO - fetch_all_summaries - Page title: The HackerNoon Newsletter: The Paradox of AI: If It Cant Replace us, Is It Making Us Dumber?  (10/18/2024) | HackerNoon\n",
      "Social card title: The HackerNoon Newsletter: The Paradox of AI: If It Cant Replace us, Is It Making Us Dumber?  (10/18/2024) | HackerNoon\n",
      "Social card description: 10/18/2024: Top 5 stories on the HackerNoon homepage!\n",
      "\n",
      "2024-10-19 13:03:11,493 - AInewsbot - INFO - fetch_all_summaries - Page title: Terray Therapeutics rakes in $120M for AI-powered small-molecule drug development - SiliconANGLE\n",
      "Social card title: Terray Therapeutics rakes in $120M for AI-powered small-molecule drug development - SiliconANGLE\n",
      "Social card description: Terray Therapeutics rakes in $120M for AI-powered small-molecule drug development - SiliconANGLE\n",
      "\n",
      "2024-10-19 13:03:11,529 - AInewsbot - INFO - fetch_all_summaries - Page title: I created an AI clone of myself and the result was unintentionally hilarious | TechRadar\n",
      "Social card title: I created an AI clone of myself and the result was unintentionally hilarious\n",
      "Social card description: Now I need to talk to my boss...\n",
      "\n",
      "2024-10-19 13:03:11,565 - AInewsbot - INFO - fetch_all_summaries - Page title: Phase 3 AI Will Make Chatbots Look Like Dial-Up Internet - Here's How to Prepare Your Business Now! | Entrepreneur\n",
      "Social card title: Phase 3 AI Will Make Chatbots Look Like Dial-Up Internet - Here's How to Prepare Your Business Now! | Entrepreneur\n",
      "Social card description: Your customers will cut costs by choosing Phase 3 AI over your services—unless you prepare now.In 2025, the business landscape will look drastically different, driven by the unstoppable rise of AI, fueled by giants like Google, OpenAI, Microsoft, and Salesforce. The truth is, many businesses are unprepared for what comes next.In this video, I explore the transformative power of AI and what's quietly reshaping our reality right now. We'll break down the myths, expose what's coming next, and reveal strategies to not just survive—but thrive. Learn how AI can boost your business for the next few years, but why failing to prepare for what's on the horizon could put everything at risk.Download the free 'AI Success Kit' (limited time only). And you'll also get a free chapter from Ben's brand new book, 'The Wolf is at The Door - How to Survive and Thrive in an AI-Driven World.'LINKS: Free chapter + Success Kit download: https://bit.ly/477Isr8Book Link: https://mybook.to/thewolfbook\n",
      "\n",
      "2024-10-19 13:03:11,620 - AInewsbot - INFO - fetch_all_summaries - Page title: Enhanced climate change resilience on wheat anther morphology using optimized deep learning techniques | Scientific Reports\n",
      "Social card title: Enhanced climate change resilience on wheat anther morphology using optimized deep learning techniques - Scientific Reports\n",
      "Social card description: Scientific Reports - Enhanced climate change resilience on wheat anther morphology using optimized deep learning techniques\n",
      "\n",
      "2024-10-19 13:03:11,716 - AInewsbot - INFO - fetch_all_summaries - Page title: It's not even Halloween, but AI is already getting spooky | Laptop Mag\n",
      "Social card title: It's not even Halloween, but AI is already getting spooky\n",
      "Social card description: AI manifests the zoombie apocalypse as the Pepper's ghost in the machine gets into the spirit of Halloween.\n",
      "\n",
      "2024-10-19 13:03:11,781 - AInewsbot - INFO - fetch_all_summaries - Page title: Meta AI in WhatsApp may soon remember your likes and dislikes\n",
      "Social card title: Meta AI in WhatsApp may soon remember your likes and dislikes\n",
      "Social card description: WhatsApp is working on a new feature that will allow Meta AI to remember you preferences and offer personalized responses.\n",
      "\n"
     ]
    },
    {
     "name": "stderr",
     "output_type": "stream",
     "text": [
      "2024-10-19 13:03:11,806 - AInewsbot - INFO - fetch_all_summaries - Page title: Meta Releases AI Model That Can Check Other AI Models' Work | Technology News\n",
      "Social card title: Meta Releases AI Model That Can Check Other AI Models' Work\n",
      "Social card description: Meta's \"Self-Taught Evaluator\" the same \"chain of thought\" technique used by OpenAI's o1 models to make reliable judgments about models' responses.\n",
      "\n",
      "2024-10-19 13:03:11,866 - AInewsbot - INFO - fetch_all_summaries - Page title: Agent-as-a-Judge: An Advanced AI Framework for Scalable and Accurate Evaluation of AI Systems Through Continuous Feedback and Human-level Judgments - MarkTechPost\n",
      "Social card title: Agent-as-a-Judge: An Advanced AI Framework for Scalable and Accurate Evaluation of AI Systems Through Continuous Feedback and Human-level Judgments\n",
      "Social card description: Agentic systems have evolved rapidly in recent years, showing potential to solve complex tasks that mimic human-like decision-making processes. These systems are designed to act step-by-step, analyzing intermediate stages in tasks like humans do. However, one of the biggest challenges in this field is evaluating these systems effectively. Traditional evaluation methods focus only on the outcomes, leaving out critical feedback that could help improve the intermediate steps of problem-solving. As a result, the potential for real-time optimization of agentic systems could be improved, slowing their progress in real-world applications like code generation and software development. The lack of effective evaluation\n",
      "\n",
      "2024-10-19 13:03:11,934 - AInewsbot - INFO - fetch_all_summaries - Page title: Meta Extends Pilot Program for AI Video Creation Tools into 2025\n",
      "Social card title: Meta Extends Pilot Program for AI Video Creation Tools into 2025\n",
      "Social card description: Meta is focusing on early input from the creative community to refine the tools before public release\n",
      "\n",
      "2024-10-19 13:03:11,995 - AInewsbot - INFO - fetch_all_summaries - Page title: ‘Perplexity AI Can Help You Make Millions, or Even Billions of Dollars’\n",
      "Social card title: ‘Perplexity AI Can Help You Make Millions, or Even Billions of Dollars’\n",
      "Social card description: Perplexity AI, one of the leading GenAI startups, is unleashing a host of news services to its paid enterprise customers that can enable them to make informed financial decisions. These include a knowledge search platform, a financial information tool, and a data repository. \n",
      "\n",
      "2024-10-19 13:03:12,054 - AInewsbot - INFO - fetch_all_summaries - Page title: Former OpenAI technology chief Mira Murati to raise capital for new AI startup, sources say | Reuters\n",
      "Social card title: Former OpenAI technology chief Mira Murati to raise capital for new AI startup, sources say\n",
      "Social card description: Mira Murati, former chief technology officer at OpenAI, is raising funds from venture capitalists for her new AI startup, according to sources familiar with the matter.\n",
      "\n",
      "2024-10-19 13:03:12,107 - AInewsbot - INFO - fetch_all_summaries - Page title: Google's AI Podcast Tool, NotebookLM, Just Got Better - Business Insider\n",
      "Social card title: Google's viral AI podcast tool just got more useful\n",
      "Social card description: Google's product lead for the AI podcast tool, which now has millions of users, told BI that customizing instructions was the most requested feature.\n",
      "\n",
      "2024-10-19 13:03:12,258 - AInewsbot - INFO - fetch_all_summaries - Page title: Southeast Asia reiterates pledge to collaborate amid growing cyber threats in AI era | ZDNET\n",
      "Social card title: Southeast Asia reiterates pledge to collaborate amid growing cyber threats in AI era\n",
      "Social card description: ASEAN member states now have a physical CERT facility located in Singapore to exchange threat intel and best practices.\n",
      "\n",
      "2024-10-19 13:03:12,307 - AInewsbot - INFO - fetch_all_summaries - Page title: Google Unveils 'Sample What You Can’t Compress' in AI—A Game-Changer in High-Fidelity Image Compression - MarkTechPost\n",
      "Social card title: Google Unveils 'Sample What You Can’t Compress' in AI—A Game-Changer in High-Fidelity Image Compression\n",
      "Social card description: The key challenge in the image autoencoding process is to create high-quality reconstructions that can retain fine details, especially when the image data has undergone compression. Traditional autoencoders, which rely on pixel-level losses such as mean squared error (MSE), tend to produce blurry outputs without capturing high-frequency details, textual information, and edge information. While adversarial methods, as applied by generative adversarial networks (GANs), have helped enhance the realism of reconstructions, they introduce other problems: instability in training and an inability to achieve high variability in generated images due to their deterministic nature. Overcoming these challenges is crucial for improving applications\n",
      "\n",
      "2024-10-19 13:03:12,359 - AInewsbot - INFO - fetch_all_summaries - Page title: Congress's inaction on AI policy raises concerns over tech chaos\n",
      "Social card title: The 3 major decisions the next Congress must make about AI policy\n",
      "Social card description: With careful consideration and bold leadership, we can ensure that AI becomes a tool for progress, not a threat to our future. \n",
      "\n",
      "2024-10-19 13:03:12,417 - AInewsbot - INFO - fetch_all_summaries - Page title: InnoTech Forum: Hong Kong has potential to become an AI applications development hub | South China Morning Post\n",
      "Social card title: InnoTech Forum: Hong Kong can evolve into an AI applications development hub\n",
      "Social card description: The InnoTech discussions reflect the steps being taken by the government and private sector to set the path for AI to thrive in Hong Kong.\n",
      "\n",
      "2024-10-19 13:03:12,454 - AInewsbot - INFO - fetch_all_summaries - Page title: Father Disgusted to Find His Murdered Daughter Was Brought Back as an AI\n",
      "Social card title: Father Disgusted to Find His Murdered Daughter Was Brought Back as an AI\n",
      "Social card description: Drew Crecente described the moment he found an AI chatbot impersonating his slain daughter, Jennifer Crecente, hosted on Character.AI.\n",
      "\n",
      "2024-10-19 13:03:12,501 - AInewsbot - INFO - fetch_all_summaries - Page title: Video: AI humanoid robot defends criticism that she can’t be artistic | CNN\n",
      "Social card title: AI humanoid robot defends criticism that she can’t be artistic | CNN\n",
      "Social card description: Art created by a humanoid robot’s artificial intelligence is being auctioned by Sotheby’s. CNN’s Anna Stewart reports on what this means for AI in the future.\n",
      "\n",
      "2024-10-19 13:03:12,576 - AInewsbot - INFO - fetch_all_summaries - Page title: OpenAI's revolving door risk factor | Fortune\n",
      "Social card title: OpenAI's revolving door risk factor\n",
      "Social card description: OpenAI after Mira Murati, Apple's cheaper Vision, SpaceX landing, Adobe does AI video. Plus: A tech IPO!\n",
      "\n",
      "2024-10-19 13:03:12,619 - AInewsbot - INFO - fetch_all_summaries - Page title: OpenAI’s research organization in ‘upheaval,’ The Information reports - TipRanks.com\n",
      "Social card title: OpenAI’s research organization in ‘upheaval,’ The Information reports - TipRanks.com\n",
      "Social card description: OpenAI’s research organization is in upheaval after the promotion of Liam Fedus to lead post-training, with several researchers asking to switch teams, The Informat...\n",
      "\n",
      "2024-10-19 13:03:12,662 - AInewsbot - INFO - fetch_all_summaries - Page title: AI for business process intelligence: A sneak peak at Celosphere 2024\n",
      "Social card title: AI for business process intelligence: A sneak peak at Celosphere 2024\n",
      "Social card description: Discover how Celonis drives process intelligence innovation by leveraging AI to optimize processes, unify data and enhance business performance.\n",
      "\n",
      "2024-10-19 13:03:12,709 - AInewsbot - INFO - fetch_all_summaries - Page title: Nobel Prizes and AI: The Promise, the Peril, and the Path Forward – Communications of the ACM\n",
      "\n",
      "2024-10-19 13:03:12,735 - AInewsbot - INFO - fetch_all_summaries - Page title: Study In UK: University of Sheffield Invites International Students For MSc Artificial Intelligence, Offering £10,000 Scholarships For 2025\n",
      "Social card title: Study In UK: University of Sheffield Invites International Students For MSc Artificial Intelligence, Offering £10,000 Scholarships For 2025\n",
      "Social card description: The University of Sheffield, UK is inviting applications for its MSc Artificial Intelligence course starting in September 2025. MSc Artificial Intelligence course This course not only teaches students the theoretical aspects of artificial intelligence (AI), but also provides them  with the practical skills needed to work with big data sets, a funda...\n",
      "\n"
     ]
    },
    {
     "name": "stderr",
     "output_type": "stream",
     "text": [
      "2024-10-19 13:03:12,744 - AInewsbot - INFO - fetch_all_summaries - Page title: reuters.com\n",
      "\n",
      "2024-10-19 13:03:12,746 - trafilatura.core - WARNING - discarding data: None\n",
      "2024-10-19 13:03:12,753 - AInewsbot - INFO - fetch_all_summaries - Page title: Solving complex problems with OpenAI o1 models | OpenAI\n",
      "Social card title: Solving complex problems with OpenAI o1 models\n",
      "Social card description: In this video, we share how the o1 reasoning models can help in domains like coding, strategy, and research.\n",
      "\n",
      "2024-10-19 13:03:12,812 - AInewsbot - INFO - fetch_all_summaries - Page title: SentinelOne, Inc. (S) Upgraded by Piper Sandler as AI-Powered Purple AI Platform Drives Q2 Outperformance and Market Share Gains\n",
      "Social card title: SentinelOne, Inc. (S) Upgraded by Piper Sandler as AI-Powered Purple AI Platform Drives Q2 Outperformance and Market Share Gains\n",
      "Social card description: We recently compiled a list of the 20 Trending AI Stocks on Latest News and Ratings. In this article, we are going to take a look at where SentinelOne, Inc. (NYSE:S) stands against the other trending AI stocks. S&P 500 to Reach 6,000 by Year-End Amid AI Boom and Earnings Growth Joining CNBC’s Squawk Box to […]\n",
      "\n",
      "2024-10-19 13:03:12,921 - AInewsbot - INFO - fetch_all_summaries - Page title: SentinelOne Expands Collaboration with AWS, Enhancing AI-Powered Cybersecurity Solutions\n",
      "Social card title: SentinelOne Expands Collaboration with AWS, Enhancing AI-Powered Cybersecurity Solutions\n",
      "Social card description: SentinelOne's Purple AI will offer advanced protection across cloud, endpoint security, and AI-SIEM solutions\n",
      "\n",
      "2024-10-19 13:03:12,992 - AInewsbot - INFO - fetch_all_summaries - Page title: How San Francisco Learned to Love Self-Driving Cars - WSJ\n",
      "Social card title: How San Francisco Learned to Love Self-Driving Cars\n",
      "Social card description: Just last year, residents wanted to get rid of robotaxis. Now locals and tourists can’t get enough.\n",
      "\n",
      "2024-10-19 13:03:13,161 - AInewsbot - INFO - fetch_all_summaries - Page title: How can AI augment rather than dictate human action? | World Economic Forum\n",
      "Social card title: How can AI augment rather than dictate human action?\n",
      "Social card description: AI was a major topic of discussion at the Forum's Annual Meeting of the Global Future Councils. In a public session, Professor Erik Brynjolfsson detailed how the technology is impacting the global economy.\n",
      "\n",
      "\n",
      "2024-10-19 13:03:13,248 - AInewsbot - INFO - fetch_all_summaries - Page title: US Probes TSMC for Allegedly Helping Huawei Develop Smartphone, AI Chips for the Chinese Tech\n",
      "Social card title: US Probes TSMC for Allegedly Helping Huawei Develop Smartphone, AI Chips for the Chinese Tech\n",
      "Social card description: The United States got its eyes on TSMC, suspected to help Huawei develop new chips despite export controls.\n",
      "\n",
      "2024-10-19 13:03:13,270 - AInewsbot - INFO - fetch_all_summaries - Page title: Do AI Detectors Work? Students Face False Cheating Accusations - Bloomberg\n",
      "Social card title: AI Detectors Falsely Accuse Students of Cheating—With Big Consequences\n",
      "Social card description: About two-thirds of teachers report regularly using tools for detecting AI-generated content. At that scale, even tiny error rates can add up quickly.\n",
      "\n",
      "2024-10-19 13:03:13,302 - AInewsbot - INFO - fetch_all_summaries - Page title: Why AI Success Still Appears So Elusive\n",
      "Social card title: Why AI Success Still Appears So Elusive\n",
      "Social card description: Business leaders say they are still intrigued by generative AI, but their enthusiasm is waning.\n",
      "\n",
      "2024-10-19 13:03:13,333 - AInewsbot - INFO - fetch_all_summaries - Page title: Subscribe to read\n",
      "Social card title: Chinese AI groups get creative to drive down cost of models\n",
      "Social card description: 01.ai, Alibaba and ByteDance have cut ‘inference’ costs despite Washington curbs on accessing cutting-edge chips\n",
      "\n",
      "2024-10-19 13:03:13,366 - AInewsbot - INFO - fetch_all_summaries - Page title: AI Dreams: Microsoft @ 50, Chapter 1 – GeekWire\n",
      "Social card title: AI Dreams: Microsoft @ 50, Chapter 1\n",
      "Social card description: Just as the PC and cloud defined much of Microsoft’s first 50 years, and just as its struggles in mobile set the company back in the smartphone era, its success or failure in AI promises to determine its fate for decades to come. \n",
      "\n",
      "2024-10-19 13:03:13,414 - AInewsbot - INFO - fetch_all_summaries - Page title: Hopes and fears for AI at work\n",
      "Social card title: Hopes and fears for AI at work\n",
      "Social card description: Christina Janzer Slack Senior VP of Research and Analytics Artificial intelligence's recent rise has left most office workers wondering how often they should use the technology and worried about whether\n",
      "\n",
      "2024-10-19 13:03:13,461 - AInewsbot - INFO - fetch_all_summaries - Page title: ChatGPT’s Name Bias and Apple’s Findings on AI’s Lack of Reasoning: Major Flaws Revealed | by Research Graph | Oct, 2024 | Medium\n",
      "Social card title: ChatGPT’s Name Bias and Apple’s Findings on AI’s Lack of Reasoning: Major Flaws Revealed\n",
      "Social card description: How Apple’s Research Exposes AI’s Inability to Reason and OpenAI Highlights ChatGPT’s Name-Based Biases\n",
      "\n",
      "2024-10-19 13:03:13,524 - AInewsbot - INFO - fetch_all_summaries - Page title: Kaylin Hayman helps lobby for California AI child abuse bill\n",
      "Social card title: Ventura teen finds her voice lobbying for bill on AI child abuse\n",
      "Social card description: Kaylin Hayman, 17, testified in Sacramento for a bill that outlaws AI-generated images of child sexual abuse. She was a victim in a similar case.\n",
      "\n",
      "2024-10-19 13:03:13,563 - AInewsbot - INFO - fetch_all_summaries - Page title: Congressional leaders negotiating potential lame-duck deal to address AI concerns - POLITICO\n",
      "Social card title: Congressional leaders negotiating potential lame-duck deal to address AI concerns\n",
      "Social card description: The discussions between the top four Hill leaders are centered on hopes to pass legislation before January.\n",
      "\n",
      "2024-10-19 13:03:13,598 - AInewsbot - INFO - fetch_all_summaries - Page title: PennWest launches Center for Artificial Intelligence and Emerging Technologies\n",
      "Social card title: PennWest launches Center for Artificial Intelligence and Emerging Technologies\n",
      "Social card description: EDINBORO — Pennsylvania Western University is extending its commitment to the future of learning and workforce preparation by launching the PennWest Center for Artificial Intelligence and Emerging Technologies. The center, set to open in the spring, will serve as a dynamic hub preparing students, employees and community partners for the responsible adoption and innovative use of AI and ...\n",
      "\n",
      "2024-10-19 13:03:13,637 - AInewsbot - INFO - fetch_all_summaries - Page title: Ransomware protection: AI and strategies to combat rising threats - SiliconANGLE\n",
      "Social card title: Ransomware protection: AI and strategies to combat rising threats - SiliconANGLE\n",
      "Social card description: Discover why ransomware protection is critical and how AI and strategic defense can shield your business from escalating cyber threats.\n",
      "\n",
      "2024-10-19 13:03:13,660 - AInewsbot - INFO - fetch_all_summaries - Page title: Future of Internet in the age of AI\n",
      "Social card title: Future of Internet in the age of AI\n",
      "Social card description: By Om Malik I first met Matthew Prince in 2010, the day he launched Cloudflare at TechCrunch Disrupt. His original pitch for Cloudflare was “Content Delivery...\n",
      "\n",
      "2024-10-19 13:03:13,681 - AInewsbot - INFO - fetch_all_summaries - Page title: AI-generated child abuse images increasing at 'chilling' rate - as watchdog warns it is now becoming hard to spot | Science & Tech News | Sky News\n",
      "Social card title: AI-generated child abuse images increasing at 'chilling' rate - as watchdog warns it is now becoming hard to spot\n",
      "Social card description: Creating explicit pictures of children is illegal, even if they are generated using AI, and Internet Watch Foundation analysts work with police forces and tech providers to trace images they find online.\n",
      "\n",
      "2024-10-19 13:03:13,707 - AInewsbot - INFO - fetch_all_summaries - Page title: 10 AI Prompts to Turbocharge Your Job Search\n",
      "Social card title: 10 AI Prompts to Turbocharge Your Job Search\n",
      "Social card description: Do you hate writing cover letters?\n",
      "\n",
      "Or coming up with the perfect resume bullet?\n",
      "\n",
      "Or just figuring out what to do with your life???\n",
      "\n",
      "Good news: ChatGPT is here to help!\n",
      "\n"
     ]
    },
    {
     "name": "stderr",
     "output_type": "stream",
     "text": [
      "2024-10-19 13:03:13,747 - AInewsbot - INFO - fetch_all_summaries - Page title: Nokia Integrates AI into Altiplano Access Controller for Enhanced Network Automation\n",
      "Social card title: Nokia Integrates AI into Altiplano Access Controller for Enhanced Network Automation\n",
      "Social card description: Nokia enhances its Altiplano Access Controller with AI-driven operations (AIOps), offering faster network anomaly detection, resource optimization, and smarter broadband network management.\n",
      "\n",
      "2024-10-19 13:03:13,797 - AInewsbot - INFO - fetch_all_summaries - Page title: Astera Labs Inc (ALAB) Unveils Industry’s First PCIe 6 Switch, Revolutionizing AI Infrastructure with Scorpio Smart Fabric Switch Portfolio\n",
      "Social card title: Astera Labs Inc (ALAB) Unveils Industry’s First PCIe 6 Switch, Revolutionizing AI Infrastructure with Scorpio Smart Fabric Switch Portfolio\n",
      "Social card description: We recently compiled a list of the 20 Trending AI Stocks on Latest News and Ratings. In this article, we are going to take a look at where Astera Labs Inc (NASDAQ:ALAB) stands against the other trending AI stocks. S&P 500 to Reach 6,000 by Year-End Amid AI Boom and Earnings Growth Joining CNBC’s Squawk Box […]\n",
      "\n",
      "2024-10-19 13:03:13,861 - AInewsbot - INFO - fetch_all_summaries - Page title: AskBobby: The AI Tool Helping People in Need Locate Social Services | HackerNoon\n",
      "Social card title: AskBobby: The AI Tool Helping People in Need Locate Social Services | HackerNoon\n",
      "Social card description: AskBobby uses AI to streamline access to social services, helping combat homelessness and food insecurity with real-time resource optimization.\n",
      "\n",
      "2024-10-19 13:03:14,023 - AInewsbot - INFO - fetch_all_summaries - Page title: Penguin Random House copyright pages will now forbid AI training | Mashable\n",
      "Social card title: Penguin Random House copyright pages will now forbid AI training\n",
      "Social card description: A bold move from the largest of the Big Five publishing houses.\n",
      "\n",
      "2024-10-19 13:03:14,055 - AInewsbot - INFO - fetch_all_summaries - Page title: Tired of ChatGPT? 5 incredible uses of Perplexity AI that trumps Google Search | Technology News - The Indian Express\n",
      "Social card title: Tired of ChatGPT? 5 incredible uses of Perplexity AI that trumps Google Search\n",
      "Social card description: All those who are looking for a search engine that is fast and offers accurate information, look no further, Perplexity AI is something you should try.\n",
      "\n",
      "2024-10-19 13:03:14,111 - AInewsbot - INFO - fetch_all_summaries - Page title: AI hack: Do not give chatbots your personal data\n",
      "Social card title: Chatbot hack shows why you shouldn't trust AI with your personal data\n",
      "Social card description: Security researchers devised a prompt hack for AI chatbots that helped them extract personal data from chats. Here's how to protect yourself.\n",
      "\n",
      "2024-10-19 13:03:14,150 - AInewsbot - INFO - fetch_all_summaries - Page title: Protein Structures | AlphaFold: Google Research Vacancy, Weakness in Theoretical Science | HackerNoon\n",
      "Social card title: Protein Structures | AlphaFold: Google Research Vacancy, Weakness in Theoretical Science | HackerNoon\n",
      "Social card description: Google, with its massive research teams, is weak and almost completely irrelevant if answers in theoretical science are sought.\n",
      "\n",
      "2024-10-19 13:03:14,200 - AInewsbot - INFO - fetch_all_summaries - Page title: Got a Cool Idea for an AI Bot? Here’s How It Could Win You $3000 in the #AI-Chatbot Writing Contest | HackerNoon\n",
      "Social card title: Got a Cool Idea for an AI Bot? Here’s How It Could Win You $3000 in the #AI-Chatbot Writing Contest | HackerNoon\n",
      "Social card description: Enter the #AI-chatbot contest on HackerNoon for a chance to win from  $7k+  prizes! Create chatbots on Coze and share your experience by November 6, 2024.\n",
      "\n",
      "2024-10-19 13:03:14,258 - AInewsbot - INFO - fetch_all_summaries - Page title: Escaping the Payday Matrix: Ex-OpenAI & Opera Devs Code Financial Freedom for 1.4 Billion Unbanked | HackerNoon\n",
      "Social card title: Escaping the Payday Matrix: Ex-OpenAI & Opera Devs Code Financial Freedom for 1.4 Billion Unbanked | HackerNoon\n",
      "Social card description: Blockchain and AI revolutionize global payroll, bringing financial access to billions. Explore how Volante Chain aims to bank the unbanked.\n",
      "\n",
      "2024-10-19 13:03:14,318 - AInewsbot - INFO - fetch_all_summaries - Page title: OpenAI releases ChatGPT app for Windows - Ars Technica\n",
      "Social card title: OpenAI releases ChatGPT app for Windows\n",
      "Social card description: New Alt+Space shortcut puts OpenAI’s assistant a key press away at all times.\n",
      "\n",
      "2024-10-19 13:03:14,353 - AInewsbot - INFO - fetch_all_summaries - Page title: NotebookLM is Google’s Own ChatGPT Moment\n",
      "Social card title: NotebookLM is Google’s Own ChatGPT Moment\n",
      "Social card description: “The fact that we are source-grounded is what makes the product so unique.”\n",
      "\n",
      "2024-10-19 13:03:14,414 - AInewsbot - INFO - fetch_all_summaries - Page title: Why balancing Europe’s AI regulations is a difficult juggling act for start-ups | Euronews\n",
      "Social card title: Europe’s ‘promising’ start-ups are mixed over EU regulation\n",
      "Social card description: Euronews Next was at CES unveiled to discover the latest tech to watch and speak to innovative start-ups on the challenges they face.\n",
      "\n",
      "2024-10-19 13:03:14,456 - AInewsbot - INFO - fetch_all_summaries - Page title: OpenAI’s Newest Possible Threat: Ex-CTO Murati; Google’s Mini-ChatGPT Moment — The Information\n",
      "Social card title: OpenAI’s Newest Possible Threat: Ex-CTO Murati; Google’s Mini-ChatGPT Moment\n",
      "Social card description: When it comes to recruiting and retaining artificial intelligence researchers, OpenAI has faced tougher competition this year from old and new rivals. Now it’s facing pressure from a very recent former employee: ex-chief technology officer Mira Murati.Murati, whose last day was Friday, October 4 ...\n",
      "\n",
      "2024-10-19 13:03:14,490 - AInewsbot - INFO - fetch_all_summaries - Page title: HLTH 2024: Tech companies head to Las Vegas to tout health AI tools\n",
      "Social card title: Nvidia, Google, Microsoft and more head to Las Vegas to tout health-care AI tools\n",
      "Social card description: Tech companies are in Las Vegas this week to talk health-care AI at the HLTH conference.\n",
      "\n",
      "2024-10-19 13:03:19,352 - AInewsbot - INFO - Received 142 summaries\n"
     ]
    },
    {
     "data": {
      "text/markdown": [
       "[1. 4 ways AI could negatively impact the 2024 election - Fast Company](https://www.fastcompany.com/91210933/ai-impact-2024-election)  \n",
       "\n",
       " AI Impact on Politics and Elections, 2024 Election, AI Doom, Bias And Fairness, Disinformation, Ethics, Gen AI, Governance, Negative Impact, Opinion, Politics, Safety And Alignment  \n",
       "\n",
       "- A September 2024 Pew Research Center poll indicates that over half of Americans are concerned about AI being used to spread false information during the 2024 election cycle.\n",
       "- The text identifies four ways AI may influence the election, emphasizing its potential roles in voter information and misinformation.\n",
       "- Generative AI tools are becoming alternatives for seeking electoral information, although some platforms may choose to limit responses about candidates. \n",
       "\n"
      ],
      "text/plain": [
       "<IPython.core.display.Markdown object>"
      ]
     },
     "metadata": {},
     "output_type": "display_data"
    },
    {
     "data": {
      "text/markdown": [
       "[2. The Pentagon Wants to Flood Social Media With Fake AI People - Futurism](https://futurism.com/the-byte/pentagon-wants-fake-ai-people)  \n",
       "\n",
       " AI Impact on Politics and Elections, AI Doom, Bias And Fairness, Deepfakes, Disinformation, Ethics, Fake Personas, Gen AI, Governance, Military, Pentagon, Politics, Privacy, Privacy & Surveillance, Social Media  \n",
       "\n",
       "- The Pentagon's Joint Special Operations Command (JSOC) plans to use generative AI to create fake online personas for social media to aid information-gathering efforts.\n",
       "- This strategy raises concerns about increasing misinformation and could encourage other nations to adopt similar deceptive practices.\n",
       "- Experts warn that the U.S. military's use of AI for surveillance and influence could further complicate the ability to distinguish truth from fiction in the geopolitical landscape. \n",
       "\n"
      ],
      "text/plain": [
       "<IPython.core.display.Markdown object>"
      ]
     },
     "metadata": {},
     "output_type": "display_data"
    },
    {
     "data": {
      "text/markdown": [
       "[3. Washington Journal: Cat Zakrzewski Discusses Artificial intelligence & Campaign 2024 - Google News](https://news.google.com/read/CBMilgFBVV95cUxNWGMtZGp4c3VDZjJ1MWk0enR3M2w4LUZ6WDhvZ3lxYld3Q2oxdWJGdUhXMHRtZklfSFE3c3BxX0VQdUFsNi16NHNUaU5la1htbnRXbGNZdDR2d2VvOXlyVHJNbXhhdkVkRGtyT2UxMFlrblNLc2ZUbURHU0ZlbGtRLWRyektJM01SZ2s3dXBmUXN0SlFrMWc)  \n",
       "\n",
       " AI Impact on Politics and Elections, Campaign 2024, Cat Zakrzewski, Gen AI, Governance, Opinion, Politics, Washington Journal  \n",
       "\n",
       "- Political actors in the U.S. and internationally are using artificial intelligence (AI) to influence political discourse in the 2024 election, with examples including Donald Trump's use of AI-generated images to bolster his messaging.\n",
       "- There is growing caution among campaigns regarding the use of AI due to concerns about misinformation, ethical implications, and potential legal regulations, with many states implementing laws on AI usage in political contexts.\n",
       "- Both major parties are navigating significant discussions around AI regulation, reflecting a broader debate on balancing innovation with consumer protection and the ramifications for upcoming elections. \n",
       "\n"
      ],
      "text/plain": [
       "<IPython.core.display.Markdown object>"
      ]
     },
     "metadata": {},
     "output_type": "display_data"
    },
    {
     "data": {
      "text/markdown": [
       "[4. Harris vs. Trump: Their Stance on AI and Cryptocurrency Regulations - Greek Reporter](https://greekreporter.com/2024/10/19/harris-trump-stance-ai-cryptocurrency-regulations/)  \n",
       "\n",
       " AI and Technology Regulation in Politics, Cryptocurrency, Economics, Ethics, Finance, Fintech, Gen AI, Governance, Harris, Job Automation, Legal Issues, Opinion, Policy And Regulation, Politics, Privacy, Privacy & Surveillance, Regulations, Safety And Alignment, Trump  \n",
       "\n",
       "- Kamala Harris and Donald Trump exhibit divergent approaches to AI and cryptocurrency regulations, critical issues in the 2024 presidential campaign.\n",
       "- Harris emphasizes addressing algorithmic harms and has implemented measures for consumer protection and antitrust enforcement, while Trump has expressed intentions to repeal certain regulations and believes in a more lenient approach toward cryptocurrencies.\n",
       "- The Biden administration's stance appears more proactive in regulating technology and antitrust concerns compared to the approaches taken during Trump's presidency. \n",
       "\n"
      ],
      "text/plain": [
       "<IPython.core.display.Markdown object>"
      ]
     },
     "metadata": {},
     "output_type": "display_data"
    },
    {
     "data": {
      "text/markdown": [
       "[5. Herbie Hancock on AI, Kamala Harris, and the Kendrick Lamar collab that never was - South China Morning Post](https://www.scmp.com/postmag/culture/article/3282841/herbie-hancock-ai-snoop-dogg-and-kendrick-lamar-collab-never-happened-and-kamala-harris-president)  \n",
       "\n",
       " AI and Technology Regulation in Politics, Art & Design, Consciousness, Entertainment, Gen AI, Herbie Hancock, Kamala Harris, Kendrick Lamar, Music, Opinion, Politics, Society & Culture  \n",
       "\n",
       "- Herbie Hancock expresses optimism about the potential of artificial intelligence in the creative process and emphasizes its artistic benefits despite some concerns about accuracy.\n",
       "- He reflects on his illustrious career, highlighting his role in jazz innovation and collaborations with artists like Kendrick Lamar and Snoop Dogg, although no album from these efforts has been released.\n",
       "- Hancock shares his support for Kamala Harris's presidential campaign, suggesting her appeal among younger voters and expressing hope for a positive democratic outcome amidst current political challenges. \n",
       "\n"
      ],
      "text/plain": [
       "<IPython.core.display.Markdown object>"
      ]
     },
     "metadata": {},
     "output_type": "display_data"
    },
    {
     "data": {
      "text/markdown": [
       "[6. AI, crypto and data privacy: Comparing Harris, Trump on technology regulation - Yahoo](https://www.yahoo.com/news/ai-crypto-data-privacy-comparing-133847347.html)  \n",
       "\n",
       " AI and Technology Regulation in Politics, Crypto, Cryptocurrency, Data Privacy, Ethics, Finance, Fintech, Gen AI, Governance, Harris, Legal Issues, Opinion, Policy And Regulation, Politics, Privacy, Privacy & Surveillance, Safety And Alignment, Technology Regulation, Trump  \n",
       "\n",
       "- Kamala Harris emphasizes the need to address algorithmic harms from AI and has actively sought commitments from tech companies to safeguard individual rights, while Donald Trump has not publicly prioritized this issue and seeks to repeal Biden's AI executive order.\n",
       "- Both administrations have engaged in antitrust actions, but the Biden-Harris administration's approach appears more aggressive, focusing on dominant companies like Google and Apple, while the Trump administration's efforts were less comprehensive.\n",
       "- The candidates have differing views on cryptocurrency regulation, with Trump advocating for a more lenient approach and calling for the U.S. to become a Bitcoin superpower, whereas the Biden administration has enacted stricter regulations and enforcement actions. \n",
       "\n"
      ],
      "text/plain": [
       "<IPython.core.display.Markdown object>"
      ]
     },
     "metadata": {},
     "output_type": "display_data"
    },
    {
     "data": {
      "text/markdown": [
       "[7. AI Coding Showdown: Claude Sonnet vs ChatGPT vs OpenAI o1 - Who Wins? - Geeky Gadgets](https://www.geeky-gadgets.com/claude-sonnet-vs-chatgpt-vs-openai-o1/)  \n",
       "\n",
       " Claude AI and Code Assistants, Chatbots, Chatgpt, Claude Sonnet, Code Assistants, Coding, Competition, Gen AI, Language Models, OpenAI, Review  \n",
       "\n",
       "- Claude Sonnet excels in reasoning for complex problem-solving, while ChatGPT stands out for natural language interaction, and OpenAI's o1 models are versatile across various tasks.\n",
       "- Benchmarking challenges highlight the inadequacy of current tests in reflecting real-world programming needs, necessitating more comprehensive evaluation methods.\n",
       "- Human feedback and effective prompt design are critical for enhancing model performance and ensuring outputs meet practical coding requirements. \n",
       "\n"
      ],
      "text/plain": [
       "<IPython.core.display.Markdown object>"
      ]
     },
     "metadata": {},
     "output_type": "display_data"
    },
    {
     "data": {
      "text/markdown": [
       "[8. Show HN: How to leverage Claude's capabilities with interactive visualization - GitHub](https://github.com/anthropics/anthropic-quickstarts/tree/main/financial-data-analyst)  \n",
       "\n",
       " Claude AI and Code Assistants, Art & Design, Chatbots, Claude, Code Assistants, Gen AI, Interactive Visualization, Language Models  \n",
       "\n",
       "- The project is a Next.js application that integrates the Anthropic API for interactive financial data analysis, allowing users to upload diverse file formats and analyze data using AI.\n",
       "- It supports various types of data visualization, including line, bar, pie, and area charts, enabling users to extract key metrics and identify trends through interactive analysis.\n",
       "- While focused on financial applications, the assistant can also be repurposed for analyzing environmental data, sports performance, social media engagement, educational progress, and health metrics. \n",
       "\n"
      ],
      "text/plain": [
       "<IPython.core.display.Markdown object>"
      ]
     },
     "metadata": {},
     "output_type": "display_data"
    },
    {
     "data": {
      "text/markdown": [
       "[9. Claude AI: Unboxing Anthropics LLM-based AI Assistant, Artifacts & Use Cases - Google News](https://news.google.com/read/CBMinwFBVV95cUxOa0VNSkZvUjlkVF9BNnMzdHVUNnB1b2JpUm52WnNyWGVaUHJWYkdMZXRPc3E4YjVnRG9YRUVhbkhpY3lEY0J5Wk9iczhYNjc2S2tValk5MFZ4R0tncW1lTXF6RTFNbVM2OXlQRFdfZE56em1zZUxFM1JjX2VCcGdXUDhuWmFwdW5qdEtCVnNxcTl5dWRzbFZMRjB6SEpGbGs)  \n",
       "\n",
       " Claude AI and Code Assistants, AI Assistant, Chatbots, Claude AI, Code Assistants, Entertainment, Gen AI, Language Models, Llm, Products, Review, Science, Unboxing, Use Cases, Virtual Assistants  \n",
       "\n",
       "- Claude AI, developed by Anthropic, is a next-generation AI assistant focusing on advanced capabilities, safety, and ethical interactions in conversational AI.\n",
       "- Key features include \"artifacts,\" which allow the creation of reusable content from conversations, and advanced visual reasoning that aids in processing complex information.\n",
       "- Notable use cases involve financial analysis, retail vision optimization, and multilingual processing for e-commerce, showcasing Claude's versatility in addressing various business needs. \n",
       "\n"
      ],
      "text/plain": [
       "<IPython.core.display.Markdown object>"
      ]
     },
     "metadata": {},
     "output_type": "display_data"
    },
    {
     "data": {
      "text/markdown": [
       "[10. Claude: Everything you need to know about Anthropics AI - TechCrunch](https://techcrunch.com/2024/10/19/claude-everything-you-need-to-know-about-anthropics-ai/)  \n",
       "\n",
       " Claude AI and Code Assistants, Anthropic, Claude, Code Assistants, Gen AI, Language Models, Overview, Review, Science  \n",
       "\n",
       "- Anthropic's Claude is a family of generative AI models, including Claude 3 Haiku, Claude 3.5 Sonnet, and Claude 3 Opus, which perform various tasks like analyzing text and images, solving math, and coding challenges.\n",
       "- The Claude models, which do not access the internet and lack image generation capabilities, are available through API with different pricing tiers, and their performance varies based on model type.\n",
       "- Subscription plans for individual and business users offer enhanced functionalities, while risks such as potential copyright issues and the models' tendency to produce inaccuracies (\"hallucinations\") are noted. \n",
       "\n"
      ],
      "text/plain": [
       "<IPython.core.display.Markdown object>"
      ]
     },
     "metadata": {},
     "output_type": "display_data"
    },
    {
     "data": {
      "text/markdown": [
       "[11. All System Prompts For Anthropics Claude , Revealed - Google News](https://news.google.com/read/CBMiigFBVV95cUxOdzFYTnNPNEpLdGMwdVh0cE9kRF9ReExiS1M2aE11dG14UmlUdjBfbTZsUk9uek1mRFZ3VHNuWVMwbmdRdmp0d2o1Skl5RXRMMVJQcWtWT1dVbm14LTBCUXczVUE0VE5uRFJtblN0a3F4Q0w1TGFPM2hPLW9rNXkweEZPd0c3R0Fod2c)  \n",
       "\n",
       " Claude AI and Code Assistants, Anthropic, Claude, Code Assistants, Gen AI, Language Models, Review, System Prompts  \n",
       "\n",
       "- Anthropic has made public the system prompts for all versions of its AI model Claude, including a detailed 1500-word prompt for Claude Opus that guides its responses and behavior.\n",
       "- The prompts include directives for Claude to communicate effectively, consider its knowledge cut-off date, and avoid certain conversational fillers, showcasing a more transparent approach compared to other AI models.\n",
       "- Claude is noted for being intuitive and responsive, offering a more user-friendly experience, particularly in demo modes involving facial recognition. \n",
       "\n"
      ],
      "text/plain": [
       "<IPython.core.display.Markdown object>"
      ]
     },
     "metadata": {},
     "output_type": "display_data"
    },
    {
     "data": {
      "text/markdown": [
       "[12. Anthropic just announced major Claude AI update  heres everything thats new - Google News](https://news.google.com/read/CBMipgFBVV95cUxOT1k3S3ZVb2ZLcUh6VHRYUXlqRXRFSmFYNDNOOTZiWWdLTllyLXRabWE1Z1NZNVd3OS1aMUxkNFBrVmM2OXV1S3dMZzQ5a1Q4NGxiVXZlbnlIWTg2eVFNQ0V6d29WVV94dmtNVFNyUDVUeGt5bmZxWTRfX0o3UnZBa3RWSWEwQ3Q0SjFFMmpielFOOE41VjRRWkk5R1c3b1NZWjkxR0p3)  \n",
       "\n",
       " Claude AI and Code Assistants, Anthropic, Claude, Code Assistants, Gen AI, Language Models, Products, Review, Science, Update  \n",
       "\n",
       "- Anthropic released a major update to Claude AI, debuting an iPad app and enhancing the iOS and Android versions with a fresh look and improved functionality.\n",
       "- New features include the ability to search past chats and customize instructions by adding specific information, enhancing user productivity for personal and professional tasks.\n",
       "- The updates aim to improve accessibility and usability across devices, solidifying Claude AI's position as a versatile productivity tool. \n",
       "\n"
      ],
      "text/plain": [
       "<IPython.core.display.Markdown object>"
      ]
     },
     "metadata": {},
     "output_type": "display_data"
    },
    {
     "data": {
      "text/markdown": [
       "[13. Where Nvidia ranks among fastest-growing AI companies. No, its not No. 1. - Google News](https://news.google.com/read/CBMisgFBVV95cUxNeFc3aFRnSmRKOWtJaFJWMVVocXg1LUhZU0pkNUZObVFZMVpjVDkzakdwTmw2Z0s3a1ZCdHJVS3NzYnBEdFluZzhSR1lWUlZKRktudWMtNWQ4U3NLOFBxTEtKTThkT1RaUV9DeEFrakttTTVXS3ViY2p2ZDFFcDlMems1QXFWaDF1eUtwNG1oTThicjdEaWlmeXdoUWstQ3VidS1SWXpaQ0puT0RhNDQwbkhB)  \n",
       "\n",
       " Nvidia and AI Stock Market Trends, AI Companies, Gen AI, Growth, Hardware, Nvidia, Stocks  \n",
       "\n",
       "- Nvidia Corp. is a leading producer of GPUs crucial for AI technology development but is not ranked No. 1 among the fastest-growing AI companies.  \n",
       "- Other companies, such as AMD and Micron, are also recognized as high-ranking in the AI stocks category.  \n",
       "- Interest from individual investors in the AI sector may be waning despite Nvidia's media presence in the space.   \n",
       "\n"
      ],
      "text/plain": [
       "<IPython.core.display.Markdown object>"
      ]
     },
     "metadata": {},
     "output_type": "display_data"
    },
    {
     "data": {
      "text/markdown": [
       "[14. Looking to Buy Your First AI Stock? This Is the Best Choice (Hint: It's Not Nvidia). - Google News](https://news.google.com/read/CBMifEFVX3lxTFBMSDhoSjVjdHRTS2FVS2lEeDhHeldHN1ItVndlOXFVWFdPX25tREtScDhNWE5yUGRsMVQ4WXpJcVphMkRiTVhQWjlMeHdxcUVEZk9Oby1ia01tNXA5SG9QZGdYNUs2dS1EalZLYmFscjF2MGhDbThrNi0xQUE)  \n",
       "\n",
       " Nvidia and AI Stock Market Trends, AI Stocks, Deals, Economics, Finance, Investment, Nvidia, Products, Science, Stocks  \n",
       "\n",
       "- Nvidia holds a dominant position in the AI chip market with significant demand but faces competition and risks associated with high stock prices and potential overspending in the sector.\n",
       "- Taiwan Semiconductor Manufacturing Corporation (TSMC) emerges as a more stable investment option, reporting a 39% revenue growth and continued high demand for its advanced chip technologies.\n",
       "- TSMC's financials show increased profits and an affordable price-to-earnings ratio, contrasting with challenges faced by competitors Intel and Samsung, making TSMC a strong candidate for first-time AI stock investors. \n",
       "\n"
      ],
      "text/plain": [
       "<IPython.core.display.Markdown object>"
      ]
     },
     "metadata": {},
     "output_type": "display_data"
    },
    {
     "data": {
      "text/markdown": [
       "[15. AI Creates 'Generational Opportunity': Why Nvidia Analyst Says Stock Will Hit \\\\$190 - Benzinga](https://www.benzinga.com/analyst-ratings/analyst-color/24/10/41410262/ai-creates-generational-opportunity-why-nvidia-analyst-says-stock-will-hit-190)  \n",
       "\n",
       " Nvidia and AI Stock Market Trends, Economics, Finance, Gen AI, Generational Opportunity, Investment, Nvidia, Opinion, Products, Stock Market, Stocks  \n",
       "\n",
       "- Bank of America has named Nvidia as its top stock pick in the AI sector, raising the price target from \\\\$165 to \\\\$190, signaling a 40% potential upside.\n",
       "- Analyst Vivek Arya boosted Nvidia's earnings forecasts for 2025 and 2026 by 13% to 20%, citing the company's dominant market position in AI chips and expectations of significant market growth.\n",
       "- Nvidia's ongoing partnerships and strong demand for its next-generation products support a bullish outlook, with the potential to generate over \\\\$200 billion in free cash flow over the next two years. \n",
       "\n"
      ],
      "text/plain": [
       "<IPython.core.display.Markdown object>"
      ]
     },
     "metadata": {},
     "output_type": "display_data"
    },
    {
     "data": {
      "text/markdown": [
       "[16. Scammers swindle elderly California man out of \\\\$25K by using AI voice technology to claim his son was in 'horrible accident,' needed money for bail: 'Absolutely his voice' - Reddit](https://www.reddit.com/r/technology/comments/1g6xoem/scammers_swindle_elderly_california_man_out_of/)  \n",
       "\n",
       " AI-Driven Fraud and Scams, AI Doom, AI Voice Technology, California, Computer Vision, Cybersecurity, Deepfakes, Disinformation, Economics, Elderly, Ethics, Facial Recognition, Finance, Fraud, Gen AI, Legal Issues, Privacy, Privacy & Surveillance, Safety And Alignment, Scammers, Scams, Society & Culture, Speech Recognition & Synthesis, Virtual Assistants  \n",
       "\n",
       "- Scammers stole \\\\$25,000 from an elderly California man using AI voice technology to impersonate his son, claiming he was in a serious accident and needed bail money.\n",
       "- This incident highlights the growing use of advanced technology in scams targeting vulnerable populations, particularly the elderly.\n",
       "- Such scams, akin to traditional \"it's me\" scams, have gained sophistication with the help of AI, raising concerns about future risks as technology evolves. \n",
       "\n"
      ],
      "text/plain": [
       "<IPython.core.display.Markdown object>"
      ]
     },
     "metadata": {},
     "output_type": "display_data"
    },
    {
     "data": {
      "text/markdown": [
       "[17. US Government Recovered \\\\$4 Billion Worth of Fraud With AI - Tech.co](https://tech.co/news/us-govt-recovered-billions-fraud-ai)  \n",
       "\n",
       " AI-Driven Fraud and Scams, Economics, Finance, Fraud, Gen AI, Governance, Legal Issues, Politics, Recovery, Scams, Us Government  \n",
       "\n",
       "- The US Treasury Department announced that it has prevented and recovered \\\\$4 billion in fraud in 2024, a significant increase from \\\\$652.7 million in 2023, by utilizing machine learning and AI technologies.\n",
       "- A notable recovery includes \\\\$1 billion from check fraud in 2024, more than triple the amount retrieved in the previous year.\n",
       "- The agency uses AI to analyze large data sets to identify patterns and anomalies associated with fraudulent activity, enhancing its fraud detection capabilities. \n",
       "\n"
      ],
      "text/plain": [
       "<IPython.core.display.Markdown object>"
      ]
     },
     "metadata": {},
     "output_type": "display_data"
    },
    {
     "data": {
      "text/markdown": [
       "[18. AI Video Call Scams Are on the Rise, and This Is How They Work - MakeUseOf](https://www.makeuseof.com/how-ai-video-call-scams-work/)  \n",
       "\n",
       " AI-Driven Fraud and Scams, AI Doom, Cybersecurity, Deepfakes, Disinformation, Ethics, Fraud, Gen AI, Legal Issues, Privacy, Privacy & Surveillance, Safety And Alignment, Scams, Society & Culture, Video Call Scams  \n",
       "\n",
       "- AI video call scams are increasing, utilizing deepfake technology to impersonate individuals and extract sensitive information, often targeting victims through romance scams or impersonating known figures.\n",
       "- Scammers aim to gather sensitive data, ranging from client information to personal financial details, with the potential for severe consequences depending on the information obtained.\n",
       "- To protect against these scams, it's crucial to verify the identity of the caller, avoid sharing sensitive information over video calls, and take a proactive approach in security measures. \n",
       "\n"
      ],
      "text/plain": [
       "<IPython.core.display.Markdown object>"
      ]
     },
     "metadata": {},
     "output_type": "display_data"
    },
    {
     "data": {
      "text/markdown": [
       "[19. Researchers develop method enabling LLMs to answer questions more concisely and accurately - TechXplore](https://techxplore.com/news/2024-10-method-enabling-llms-concisely-accurately.html)  \n",
       "\n",
       " Advancements in AI and Language Models, Accuracy, Code Assistants, Cognitive Science, Gen AI, Language Models, Llms, Products, Question Answering, Researchers, Retrieval Augmented Generation, Review, Safety And Alignment, Science, Testing  \n",
       "\n",
       "- Researchers at the Japan Advanced Institute of Science and Technology developed a new method called Answer-prefix Generation (ANSPRE) to enhance large language models (LLMs) in producing concise and accurate answers to factual questions.\n",
       "- ANSPRE improves the quality of responses by adding an answer prefix to the LLM prompt, enabling the model to generate exact answer phrases and produce reliable confidence scores, which is crucial in high-risk fields like finance and healthcare.\n",
       "- The results from tests on various LLM architectures demonstrate that ANSPRE significantly enhances question answering capabilities and correlation of confidence scores with correctness, paving the way for broader application of LLMs in sensitive domains. \n",
       "\n"
      ],
      "text/plain": [
       "<IPython.core.display.Markdown object>"
      ]
     },
     "metadata": {},
     "output_type": "display_data"
    },
    {
     "data": {
      "text/markdown": [
       "[20. Enhancing AI Accuracy and Confidence in Answer Generation - Neuroscience News](https://neurosciencenews.com/ai-llm-accuracy-27893/)  \n",
       "\n",
       " Advancements in AI and Language Models, Accuracy, Answer Generation, Cognitive Science, Confidence, Gen AI, Retrieval Augmented Generation, Science, Testing  \n",
       "\n",
       "- Researchers at the Japan Advanced Institute of Science and Technology have developed a method called Answer-prefix Generation (ANSPRE) to enhance the performance of large language models (LLMs) in open-domain question answering (ODQA), improving both answer precision and confidence scoring.\n",
       "- ANSPRE improves LLMs by using an \"answer prefix\" in prompts to guide models in generating concise answers, which is essential in high-stakes fields like healthcare and law.\n",
       "- Tests on multiple benchmarks show that ANSPRE significantly enhances LLM performance, making them more applicable for real-world situations, including sensitive domains. \n",
       "\n"
      ],
      "text/plain": [
       "<IPython.core.display.Markdown object>"
      ]
     },
     "metadata": {},
     "output_type": "display_data"
    },
    {
     "data": {
      "text/markdown": [
       "[21. Taming randomness in ML models with hypothesis testing and marimo - Mozilla AI Blog](https://blog.mozilla.ai/taming-randomness-in-ml-models-with-hypothesis-testing-and-marimo/)  \n",
       "\n",
       " Advancements in AI and Language Models, Cognitive Science, Hypothesis Testing, Language Models, Machine Learning, Randomness, Science, Testing  \n",
       "\n",
       "- The performance of ML models is influenced by randomness in various aspects, complicating the evaluation of their effectiveness across different experiments.\n",
       "- Hypothesis testing is introduced as a statistical method to compare results from different experiments and validate claims about ML model performance.\n",
       "- A marimo app is utilized to provide practical examples of hypothesis testing, using dice throwing to simplify the understanding of randomness and statistical comparisons. \n",
       "\n"
      ],
      "text/plain": [
       "<IPython.core.display.Markdown object>"
      ]
     },
     "metadata": {},
     "output_type": "display_data"
    },
    {
     "data": {
      "text/markdown": [
       "[22. This AI Paper from Google DeepMind Explores Inference Scaling in Long-Context RAG - MarkTechPost](https://www.marktechpost.com/2024/10/19/this-ai-paper-from-google-deepmind-explores-inference-scaling-in-long-context-rag/)  \n",
       "\n",
       " Advancements in AI and Language Models, Cognitive Science, Gen AI, Google Deepmind, Inference Scaling, Language Models, Long-Context Rag, Retrieval Augmented Generation, Science  \n",
       "\n",
       "- Researchers from Google DeepMind and universities have explored inference scaling for Retrieval-Augmented Generation (RAG), finding that increasing computation optimally enhances performance in long-context tasks.\n",
       "- Two strategies were introduced: Demonstration-based RAG (DRAG), which uses multiple examples for context application, and Iterative DRAG (IterDRAG), which retrieves information in steps, improving handling of complex queries.\n",
       "- Experimental results show both DRAG and IterDRAG outperform traditional RAG methods, achieving up to 58.9% gains on benchmark datasets when optimal configurations are applied. \n",
       "\n"
      ],
      "text/plain": [
       "<IPython.core.display.Markdown object>"
      ]
     },
     "metadata": {},
     "output_type": "display_data"
    },
    {
     "data": {
      "text/markdown": [
       "[23. TREAT: A Deep Learning Framework that Achieves High-Precision Modeling for a Wide Range of Dynamical Systems by Injecting Time-Reversal Symmetry as an Inductive Bias - MarkTechPost](https://www.marktechpost.com/2024/10/19/treat-a-deep-learning-framework-that-achieves-high-precision-modeling-for-a-wide-range-of-dynamical-systems-by-injecting-time-reversal-symmetry-as-an-inductive-bias/)  \n",
       "\n",
       " Advancements in AI and Language Models, Cognitive Science, Deep Learning, Dynamical Systems, Inductive Bias, Language Models, Modeling, Science, Treat  \n",
       "\n",
       "- The TREAT framework introduces a Time-Reversal Symmetry (TRS) loss that enhances the accuracy of long-term predictions in complex dynamical systems, achieving an 11.5% reduction in Mean Squared Error (MSE) for chaotic systems like the triple-pendulum.\n",
       "- TREAT outperformed existing models in various applications, including multi-agent systems, by adapting the TRS regularization to improve performance in both conservative and non-conservative scenarios.\n",
       "- Rigorous testing across nine different datasets demonstrates TREAT's versatility and effectiveness in accurately modeling complex physical interactions in real-world and simulated environments. \n",
       "\n"
      ],
      "text/plain": [
       "<IPython.core.display.Markdown object>"
      ]
     },
     "metadata": {},
     "output_type": "display_data"
    },
    {
     "data": {
      "text/markdown": [
       "[24. Scientists have built an AI-powered 'electronic tongue' - Live Science](https://www.livescience.com/technology/engineering/scientists-have-built-an-ai-powered-electronic-tongue)  \n",
       "\n",
       " AI in Healthcare and Innovation, Electronic Tongue, Gen AI, Hardware, Innovation, Products, Science  \n",
       "\n",
       "- Scientists have developed an AI-powered \"electronic tongue\" capable of assessing food safety and freshness, distinguishing between various beverages, and detecting spoilage or harmful substances.\n",
       "- The system uses an ion-sensitive field-effect transistor to collect data, which is processed by an artificial neural network, achieving an accuracy rate of over 95% when determining the acidity of liquids.\n",
       "- This technology could enhance food safety monitoring by adapting to variations in sensor performance, similar to how natural systems operate despite imperfections. \n",
       "\n"
      ],
      "text/plain": [
       "<IPython.core.display.Markdown object>"
      ]
     },
     "metadata": {},
     "output_type": "display_data"
    },
    {
     "data": {
      "text/markdown": [
       "[25. New JAMA channel highlights AIs role in medicine - The Washington Post](https://www.washingtonpost.com/health/2024/10/19/artificial-intelligence-health-care-website/)  \n",
       "\n",
       " AI in Healthcare and Innovation, Cognitive Science, Ethics, Gen AI, Health & Fitness, Healthcare, Jama, Medicine, Safety And Alignment, Science, Society & Culture  \n",
       "\n",
       "- A new website, JAMA+ AI, has launched to focus on artificial intelligence's role in medicine. \n",
       "- The platform will feature supplementary studies, author interviews, educational reviews, a podcast, and invited commentaries from the JAMA Network. \n",
       "- This initiative reflects the growing importance of AI in healthcare research and news. \n",
       "\n"
      ],
      "text/plain": [
       "<IPython.core.display.Markdown object>"
      ]
     },
     "metadata": {},
     "output_type": "display_data"
    },
    {
     "data": {
      "text/markdown": [
       "[26. XYZ Media's 'Next Generation of Innovators' Highlights James Gu's Research: Advancing Personalized Cancer Treatment with Digital Twin Technology - Benzinga](https://www.benzinga.com/pressreleases/24/10/g41414929/xyz-medias-next-generation-of-innovators-highlights-james-gus-research-advancing-personalized-canc)  \n",
       "\n",
       " AI in Healthcare and Innovation, Cancer Treatment, Digital Twin Technology, Health & Fitness, Healthcare, Internet Of Things, James Gu, Recommendation Systems, Science, Xyz Media  \n",
       "\n",
       "- XYZ Media's \"Next Generation of Innovators\" series features James Gu, a student developing technology for personalized cancer treatment using Multi-level Parameterized Automata (MLPA) and artificial intelligence.\n",
       "- Gu's research focuses on simulating cancer progression to tailor treatment strategies, inspired by his grandfather's battle with cancer.\n",
       "- The initiative aims to highlight and support young innovators addressing global challenges through their inventive solutions. \n",
       "\n"
      ],
      "text/plain": [
       "<IPython.core.display.Markdown object>"
      ]
     },
     "metadata": {},
     "output_type": "display_data"
    },
    {
     "data": {
      "text/markdown": [
       "[27. HeartFlow Announces New Category I CPT Code from the American Medical Association for AI-Enabled Plaque Analysis to Assess Risk for Coronary Artery Disease - Yahoo Finance](https://finance.yahoo.com/news/heartflow-announces-category-cpt-code-163900050.html)  \n",
       "\n",
       " AI in Healthcare and Innovation, Computer Vision, Coronary Artery Disease, Cpt Code, Gen AI, Health & Fitness, Healthcare, Heartflow, Plaque Analysis, Policy And Regulation, Products, Safety And Alignment, Science, Testing  \n",
       "\n",
       "- HeartFlow has received a new Category I CPT code from the AMA for its AI-enabled Plaque Analysis, effective January 2026, following increasing use and strong clinical validation.\n",
       "- The new code will allow for better reimbursement practices, as it transitions from a Category III to a Category I code, enhancing physician payment for using the service.\n",
       "- This development follows recent favorable Medicare coverage decisions, expanding patient access to HeartFlow’s Plaque Analysis, which aids in personalized treatment for coronary artery disease. \n",
       "\n"
      ],
      "text/plain": [
       "<IPython.core.display.Markdown object>"
      ]
     },
     "metadata": {},
     "output_type": "display_data"
    },
    {
     "data": {
      "text/markdown": [
       "[28. New JAMA channel highlights AI's role in medicine - MSN](https://www.msn.com/en-us/health/other/new-jama-channel-highlights-ai-s-role-in-medicine/ar-AA1sxTdE)  \n",
       "\n",
       " AI in Healthcare and Innovation, Cognitive Science, Ethics, Gen AI, Health & Fitness, Healthcare, Jama, Medicine, Safety And Alignment, Science, Society & Culture  \n",
       "\n",
       "- JAMA is launching a new channel focused on the role of artificial intelligence in medicine.\n",
       "- The JAMA+ AI channel will feature supplementary studies, author interviews, educational reviews, a podcast, and invited commentaries.\n",
       "- The initiative aims to enhance understanding of AI's impact within the JAMA Network. \n",
       "\n"
      ],
      "text/plain": [
       "<IPython.core.display.Markdown object>"
      ]
     },
     "metadata": {},
     "output_type": "display_data"
    },
    {
     "data": {
      "text/markdown": [
       "[29. XYZ Media's Next Generation of Innovators' Highlights James Gu's Research: Advancing Personalized Cancer Treatment with Digital Twin Technology - Yahoo Finance](https://finance.yahoo.com/news/xyz-media-next-generation-innovators-034400241.html)  \n",
       "\n",
       " AI in Healthcare and Innovation, Cancer Treatment, Digital Twin Technology, Health & Fitness, Healthcare, Internet Of Things, James Gu, Recommendation Systems, Science, Xyz Media  \n",
       "\n",
       "- James Gu's research, featured in XYZ Media's \"Next Generation of Innovators,\" focuses on advancing personalized cancer treatment using the Multi-level Parameterized Automata (MLPA) framework, which integrates genomic data and electronic health records.\n",
       "- The MLPA model simulates tumor growth, metastasis, and drug responses, aiming to tailor treatment strategies to the biological characteristics of individual patients' cancers.\n",
       "- Gu's inspiration for this project stems from his grandfather's battle with cancer, leading him to develop a digital twin framework that leverages artificial intelligence for optimizing personalized therapies. \n",
       "\n"
      ],
      "text/plain": [
       "<IPython.core.display.Markdown object>"
      ]
     },
     "metadata": {},
     "output_type": "display_data"
    },
    {
     "data": {
      "text/markdown": [
       "[30. INOVAIT reveals Canada's strategic advantages in image-guided therapy and artificial intelligence in latest report - Yahoo Finance](https://finance.yahoo.com/news/inovait-reveals-canadas-strategic-advantages-154700391.html)  \n",
       "\n",
       " AI in Healthcare and Innovation, Canada, Computer Vision, Gen AI, Healthcare, Image-Guided Therapy, Inovait, Science  \n",
       "\n",
       "- INOVAIT's new report highlights Canada's strategic advantages in image-guided therapy (IGT) and artificial intelligence (AI), revealing untapped potential in the sector.\n",
       "- Key strategic benefits for IGT companies in Canada include strong research foundations, access to a skilled talent pool, global collaboration opportunities, and availability of non-dilutive funding.\n",
       "- The report emphasizes Canada's unique strengths in supporting innovation and commercialization in healthcare technology, positioning it as a global leader in IGT advancements. \n",
       "\n"
      ],
      "text/plain": [
       "<IPython.core.display.Markdown object>"
      ]
     },
     "metadata": {},
     "output_type": "display_data"
    },
    {
     "data": {
      "text/markdown": [
       "[31. Sam Altmans eyeball-scanning crypto project has a new Orb and a new name - The Verge](https://www.theverge.com/2024/10/18/24273691/world-orb-sam-altman-iris-scan-crypto-token)  \n",
       "\n",
       " Sam Altman's Crypto and Privacy Innovations, Crypto Project, Cryptocurrency, Economics, Eyeball-Scanning, Finance, Fintech, New Orb, Politics, Privacy, Privacy & Surveillance, Products, Sam Altman  \n",
       "\n",
       "- The cryptocurrency and identity project co-founded by Sam Altman, previously known as Worldcoin, has rebranded to World and introduced an updated version of its eyeball-scanning device, the Orb, to improve human authentication amidst AI advancements.\n",
       "- The new Orb features a simplified design, made with 30% fewer parts, aiming for wider accessibility and production, including a new service called \"Orb on Demand\" for individuals to rent or purchase the device.\n",
       "- Despite verifying nearly 7 million users, the project faces ongoing privacy concerns and regulatory scrutiny, with multiple countries like Kenya, Hong Kong, Portugal, and Spain taking actions against its operations. \n",
       "\n"
      ],
      "text/plain": [
       "<IPython.core.display.Markdown object>"
      ]
     },
     "metadata": {},
     "output_type": "display_data"
    },
    {
     "data": {
      "text/markdown": [
       "[32. Sam Altman's Worldcoin Rebrand Now Calls It 'World,' Brings New Orb for Crypto Project - Tech Times](https://www.techtimes.com/articles/307927/20241019/sam-altmans-worldcoin-rebrand-now-calls-it-world-brings-new-orb-crypto-project.htm)  \n",
       "\n",
       " Sam Altman's Crypto and Privacy Innovations, Crypto Project, Cryptocurrency, Economics, Finance, Fintech, Politics, Privacy, Privacy & Surveillance, Products, Rebrand, Sam Altman, Venture Capital, Worldcoin  \n",
       "\n",
       "- Sam Altman's cryptocurrency project has rebranded from 'Worldcoin' to 'World,' introducing a new focus on its iris-scanning technology and a new human verification device called the 'Orb.'\n",
       "- The new Orb device is smaller, more efficient, and features significant technology upgrades, ensuring user anonymity and security by deleting eye scan data after transmission.\n",
       "- World continues to face regulatory scrutiny and complaints regarding privacy practices related to its technology, but is pushing to expand its iris-scanning initiative globally. \n",
       "\n"
      ],
      "text/plain": [
       "<IPython.core.display.Markdown object>"
      ]
     },
     "metadata": {},
     "output_type": "display_data"
    },
    {
     "data": {
      "text/markdown": [
       "[33. Heres Why Critics Are Raising Eyebrows Over Sam Altmans Iris-Scanning Crypto Project - Inc.](https://www.inc.com/reuters/heres-why-critics-are-raising-eyebrows-over-sam-altmans-iris-scanning-crypto-project/90991229)  \n",
       "\n",
       " Sam Altman's Crypto and Privacy Innovations, Criticism, Crypto Project, Cryptocurrency, Economics, Ethics, Facial Recognition, Finance, Fintech, Governance, Iris-Scanning, Legal Issues, Opinion, Policy And Regulation, Privacy, Privacy & Surveillance, Safety And Alignment, Sam Altman  \n",
       "\n",
       "- The page title suggests it belongs to Inc.com, a publication focused on business news and entrepreneurship.\n",
       "- No substantive news content to summarize is provided. \n",
       "\n"
      ],
      "text/plain": [
       "<IPython.core.display.Markdown object>"
      ]
     },
     "metadata": {},
     "output_type": "display_data"
    },
    {
     "data": {
      "text/markdown": [
       "[34. Mixtrala Multilingual Language Model Trained with a Context Size of 32k Tokens - Hacker Noon](https://hackernoon.com/mixtrala-multilingual-language-model-trained-with-a-context-size-of-32k-tokens)  \n",
       "\n",
       " Advancements in Language Models and AI, Cognitive Science, Context Size, Gen AI, Language Models, Mixtrala, Multilingual Language Model, Products, Science, Tokens  \n",
       "\n",
       "- Mixtral 8x7B is a Sparse Mixture of Experts (SMoE) language model with a context size of 32k tokens, outperforming models like Llama 2 70B and GPT-3.5 across multiple benchmarks, particularly in mathematics and code generation.\n",
       "- The model utilizes 47B parameters while only activating 13B during inference, allowing for faster processing and higher throughput.\n",
       "- Mixtral 8x7B – Instruct is a fine-tuned version that excels in following instructions and demonstrates lower biases compared to competitors, released under the Apache 2.0 license for wide accessibility. \n",
       "\n"
      ],
      "text/plain": [
       "<IPython.core.display.Markdown object>"
      ]
     },
     "metadata": {},
     "output_type": "display_data"
    },
    {
     "data": {
      "text/markdown": [
       "[35. Meta Platforms (NASDAQ:META) Releases a Series of New AI Models - TipRanks](https://www.tipranks.com/news/meta-platforms-nasdaqmeta-releases-a-series-of-new-ai-models)  \n",
       "\n",
       " Advancements in Language Models and AI, AI Models, Cognitive Science, Gen AI, Language Models, Meta Platforms, Products, Review, Science, Testing  \n",
       "\n",
       "- Meta Platforms has released several new AI models, including the \"Self-Taught Evaluator,\" which checks the accuracy of AI-generated responses in areas like science and coding.  \n",
       "- The introduction of AI that can evaluate other AI marks progress towards autonomous AI applications capable of learning and self-correcting without human input.  \n",
       "- Analysts predict that we could achieve \"artificial general intelligence,\" where AI matches human intelligence, as soon as 2030. \n",
       "\n"
      ],
      "text/plain": [
       "<IPython.core.display.Markdown object>"
      ]
     },
     "metadata": {},
     "output_type": "display_data"
    },
    {
     "data": {
      "text/markdown": [
       "[36. Meta AI Releases Meta Lingua: A Minimal and Fast LLM Training and Inference Library for Research - MarkTechPost](https://www.marktechpost.com/2024/10/18/meta-ai-releases-meta-lingua-a-minimal-and-fast-llm-training-and-inference-library-for-research/)  \n",
       "\n",
       " Advancements in Language Models and AI, Cognitive Science, Gen AI, Inference, Language Models, Llm, Meta AI, Meta Lingua, Products, Research, Review, Science, Testing, Training  \n",
       "\n",
       "- Meta AI has launched Meta Lingua, a minimal and fast library designed for training and inference of large-scale language models (LLMs), aiming to simplify the research process.\n",
       "- The library is built on PyTorch and emphasizes a self-contained, modular design, reducing setup complexities and allowing for rapid experimentation by researchers with limited computational resources.\n",
       "- Meta Lingua is positioned to address key challenges in LLM research, potentially becoming a standard tool that enhances accessibility and innovation in natural language processing. \n",
       "\n"
      ],
      "text/plain": [
       "<IPython.core.display.Markdown object>"
      ]
     },
     "metadata": {},
     "output_type": "display_data"
    },
    {
     "data": {
      "text/markdown": [
       "[37. How Mixtral 8x7B Sets New Standards in Open-Source AI with Innovative Design - Hacker Noon](https://hackernoon.com/how-mixtral-8x7b-sets-new-standards-in-open-source-ai-with-innovative-design)  \n",
       "\n",
       " Advancements in Language Models and AI, Art & Design, Design, Gen AI, Hardware, Innovation, Language Models, Mixtral 8X7B, Open Source, Open-Source AI, Products, Science  \n",
       "\n",
       "- The Mixtral 8x7B model achieves state-of-the-art performance in open-source AI, outperforming Claude-2.1, Gemini Pro, and GPT-3.5 Turbo on human evaluation benchmarks.\n",
       "- It uniquely utilizes a sparse mixture of experts, activating only 13B parameters per token, in contrast to other models requiring 70B parameters per token.\n",
       "- The trained models are made publicly available under the Apache 2.0 license to encourage advancements across various industries. \n",
       "\n"
      ],
      "text/plain": [
       "<IPython.core.display.Markdown object>"
      ]
     },
     "metadata": {},
     "output_type": "display_data"
    },
    {
     "data": {
      "text/markdown": [
       "[38. Meta debuts Spirit LM, its first open-source multimodal language model capable of integrating text and speech inputs and outputs, for non-commercial use only - VentureBeat](https://venturebeat.com/ai/meta-introduces-spirit-lm-open-source-model-that-combines-text-and-speech-inputs-outputs/)  \n",
       "\n",
       " Advancements in Language Models and AI, Cognitive Science, Gen AI, Intellectual Property, Language Model, Language Models, Meta, Multimodal, Open Source, Open-Source, Products, Science, Speech Recognition & Synthesis, Spirit Lm  \n",
       "\n",
       "- Meta has launched Spirit LM, an open-source multimodal language model that integrates text and speech inputs and outputs, designed to provide more natural-sounding and expressive speech generation.  \n",
       "- The model includes two versions: Spirit LM Base, which uses phonetic tokens, and Spirit LM Expressive, which adds emotional tones, enabling it to reflect feelings like anger or joy in generated speech.  \n",
       "- Spirit LM is available for non-commercial research use and is part of a broader effort by Meta to advance AI capabilities while promoting open science and accessibility in artificial intelligence. \n",
       "\n"
      ],
      "text/plain": [
       "<IPython.core.display.Markdown object>"
      ]
     },
     "metadata": {},
     "output_type": "display_data"
    },
    {
     "data": {
      "text/markdown": [
       "[39. Microsoft Open-Sources bitnet.cpp: A Super-Efficient 1-bit LLM Inference Framework that Runs Directly on CPUs - MarkTechPost](https://www.marktechpost.com/2024/10/18/microsoft-open-sources-bitnet-cpp-a-super-efficient-1-bit-llm-inference-framework-that-runs-directly-on-cpus/)  \n",
       "\n",
       " Advancements in Language Models and AI, Bitnet.Cpp, Cognitive Science, Gen AI, Hardware, Inference Framework, Intellectual Property, Language Models, Llm, Microsoft, Open Source, Open-Source, Products, Review, Science, Testing  \n",
       "\n",
       "- Microsoft has open-sourced bitnet.cpp, a 1-bit LLM inference framework designed to run efficiently on CPUs, enabling the execution of large models without the need for GPUs.\n",
       "- The framework provides substantial performance improvements, with speedups of up to 6.17x and energy consumption reductions of up to 82.2%, making LLMs more accessible and sustainable.\n",
       "- Bitnet.cpp's design promotes local execution of LLMs, addressing privacy concerns and reducing reliance on expensive, power-intensive infrastructure, potentially democratizing AI technology for smaller enterprises and individuals. \n",
       "\n"
      ],
      "text/plain": [
       "<IPython.core.display.Markdown object>"
      ]
     },
     "metadata": {},
     "output_type": "display_data"
    },
    {
     "data": {
      "text/markdown": [
       "[40. PyTorch 2.5 Unleashes High-End GPU Performance, Supercharges LLMs - Analytics India Magazine](https://analyticsindiamag.com/ai-insights-analysis/pytorch-2-5-unleashes-high-end-gpu-performance-supercharges-llms/)  \n",
       "\n",
       " Advancements in Language Models and AI, Cognitive Science, Gen AI, Gpu Performance, Hardware, Language Models, Llms, Products, Pytorch, Science  \n",
       "\n",
       "- PyTorch 2.5 introduces significant performance enhancements, including a new CuDNN backend for SDPA that provides up to 75% speedups on H100 GPUs and regional compilation to optimize execution for transformer layers in large language models (LLMs).\n",
       "- The update improves TorchInductor's performance with a CPP backend featuring FP16 support and max-autotune mode, consistently outperforming the previous eager mode.\n",
       "- This version expands PyTorch's ecosystem by introducing projects like TorchRec and TorchFix, while also enhancing compatibility and performance for Intel GPUs in AI workloads. \n",
       "\n"
      ],
      "text/plain": [
       "<IPython.core.display.Markdown object>"
      ]
     },
     "metadata": {},
     "output_type": "display_data"
    },
    {
     "data": {
      "text/markdown": [
       "[41. I dumped Google for AI search alternatives like Perplexity and ChatGPT - Android Police](https://www.androidpolice.com/i-dumped-google-search-for-ai/)  \n",
       "\n",
       " AI Search Alternatives, AI Search, Alternatives, Chatbots, Chatgpt, Gen AI, Google, Language Models, Opinion, Perplexity, Products  \n",
       "\n",
       "- The author has shifted from using Google Search to AI-based alternatives like Perplexity and ChatGPT due to dissatisfaction with the reliability of Google’s search results.\n",
       "- Perplexity provides efficient summarization of information and improves research productivity, although it has faced criticism regarding citation practices and ethical concerns about data scraping.\n",
       "- The author highlights a change in search query formulation, using AI tools for both straightforward answers and creative brainstorming, while noting that their reliance on Google Search has decreased as AI tools handle more queries. \n",
       "\n"
      ],
      "text/plain": [
       "<IPython.core.display.Markdown object>"
      ]
     },
     "metadata": {},
     "output_type": "display_data"
    },
    {
     "data": {
      "text/markdown": [
       "[42. Perplexity lets you search your internal enterprise files and the web - Google News](https://news.google.com/read/CBMingFBVV95cUxQR2ZBNjBYTHpMMTlpcERnWDhmamU0YVlhdW1KQWNuMkpLMmNabk5DTE4xeGpfc2F1YXBZV0k4Nm9GdTAtVEJidWQyZDNCMUE1d1BJTENnQS1FNGd4djl1cmdQdTRHNWoyNnd1NkhyQWhKOVJjQTJ1XzJpMzZBVzVBeXBXNW8wV19iTTFYRE9Qd2E0ZFVGTlFnWG1FekpoZw)  \n",
       "\n",
       " AI Search Alternatives, Enterprise Files, Gen AI, Perplexity, Products, Web Search  \n",
       "\n",
       "- Perplexity has launched Internal Knowledge Search and Spaces, enabling users to query both internal files and web data within a single platform, improving enterprise productivity.\n",
       "- The Internal Knowledge Search feature allows specific uploaded files to be searched, with a limitation of 500 files for Enterprise Pro users, while ensuring data source labeling for deeper insights.\n",
       "- Perplexity plans to integrate third-party data from services like Crunchbase and FactSet into the Spaces feature, enhancing the knowledge base available for enterprise search queries. \n",
       "\n"
      ],
      "text/plain": [
       "<IPython.core.display.Markdown object>"
      ]
     },
     "metadata": {},
     "output_type": "display_data"
    },
    {
     "data": {
      "text/markdown": [
       "[43. Perplexity's AI search engine goes deep to get your answers - TechRadar](https://www.techradar.com/computing/artificial-intelligence/perplexitys-ai-search-engine-goes-deep-to-get-your-answers)  \n",
       "\n",
       " AI Search Alternatives, Gen AI, Perplexity, Products, Search Engine  \n",
       "\n",
       "- Perplexity's AI search engine has introduced two new features, Internal Knowledge Search and Spaces, to enhance users' search capabilities by integrating online and internal information.\n",
       "- The Internal Knowledge Search allows for simultaneous searches of company knowledge and online resources, which can greatly benefit professionals and students.\n",
       "- The Spaces feature enables collaborative environments where users can work together with the AI, share files, and customize instructions for both personal and professional projects. \n",
       "\n"
      ],
      "text/plain": [
       "<IPython.core.display.Markdown object>"
      ]
     },
     "metadata": {},
     "output_type": "display_data"
    },
    {
     "data": {
      "text/markdown": [
       "[44. Microsoft could end up with substantial equity in the restructured, for-profit OpenAI - TechCrunch](https://techcrunch.com/2024/10/18/microsoft-could-end-up-with-substantial-equity-in-the-restructured-for-profit-openai/)  \n",
       "\n",
       " Microsoft and OpenAI Partnership Dynamics, Artificial General Intelligence, Deals, Economics, Equity, Finance, Funding, Governance, Mergers And Acquisitions, Microsoft, OpenAI, Partnership, Policy And Regulation, Politics, Restructured, Stocks, Venture Capital  \n",
       "\n",
       "- Microsoft and OpenAI are negotiating the equity stake Microsoft will receive as OpenAI transitions to a for-profit model, potentially resulting in substantial ownership.\n",
       "- Microsoft has invested nearly \\\\$14 billion in OpenAI, now recognized as the second-most valuable startup in the U.S. after SpaceX.\n",
       "- Key issues in the talks include equity distribution for CEO Sam Altman and employees, as well as Microsoft's governance rights in the new public-benefit corporation structure. \n",
       "\n"
      ],
      "text/plain": [
       "<IPython.core.display.Markdown object>"
      ]
     },
     "metadata": {},
     "output_type": "display_data"
    },
    {
     "data": {
      "text/markdown": [
       "[45. Tensions with OpenAI underscore Microsoft's need to ensure its own AI future - GeekWire](https://www.geekwire.com/2024/tensions-with-openai-underscore-microsofts-need-to-ensure-its-own-ai-future)  \n",
       "\n",
       " Microsoft and OpenAI Partnership Dynamics, AI Future, Gen AI, Microsoft, OpenAI, Tensions  \n",
       "\n",
       "- Microsoft’s partnership with OpenAI is becoming increasingly strained due to funding needs, recruitment competition, and questions over Microsoft's equity stake in OpenAI's future.\n",
       "- OpenAI CEO Sam Altman remains optimistic about their collaboration, but Microsoft is proactively seeking to establish its own AI direction independent of OpenAI.\n",
       "- Recent developments include the recruitment of Microsoft’s AI researcher by OpenAI and the opening of OpenAI’s satellite office near Microsoft, raising concerns over potential employee attrition. \n",
       "\n"
      ],
      "text/plain": [
       "<IPython.core.display.Markdown object>"
      ]
     },
     "metadata": {},
     "output_type": "display_data"
    },
    {
     "data": {
      "text/markdown": [
       "[46. Report: OpenAI sees a clause in its Microsoft contract, which cuts off Microsoft's access to OpenAI tech if OpenAI develops AGI, as a path to a better contract - TechCrunch](https://techcrunch.com/2024/10/17/the-surprising-way-openai-could-get-out-of-its-pact-with-microsoft/)  \n",
       "\n",
       " Microsoft and OpenAI Partnership Dynamics, Agi, AI Doom, Artificial General Intelligence, Contract, Deals, Economics, Finance, Funding, Governance, Legal Issues, Mergers And Acquisitions, Microsoft, Negotiation, OpenAI, Policy And Regulation, Politics, Singularity, Stocks, Venture Capital  \n",
       "\n",
       "- The relationship between OpenAI and Microsoft is reportedly \"fraying\" due to financial pressures and disagreements, leading to speculation on their future collaboration.\n",
       "- A clause in OpenAI's contract with Microsoft restricts access to its technology if OpenAI develops artificial general intelligence (AGI), which is defined subjectively by OpenAI's board.\n",
       "- Concerns arise about Microsoft potentially misusing OpenAI's technology as development towards AGI progresses, highlighting the complexities in their partnership. \n",
       "\n"
      ],
      "text/plain": [
       "<IPython.core.display.Markdown object>"
      ]
     },
     "metadata": {},
     "output_type": "display_data"
    },
    {
     "data": {
      "text/markdown": [
       "[47. OpenAI, Microsoft reportedly hire banks to renegotiate partnership terms - SiliconANGLE](https://siliconangle.com/2024/10/18/openai-microsoft-reportedly-hire-banks-renegotiate-partnership-terms)  \n",
       "\n",
       " Microsoft and OpenAI Partnership Dynamics, Artificial General Intelligence, Deals, Economics, Finance, Funding, Governance, Legal Issues, Mergers And Acquisitions, Microsoft, Negotiation, OpenAI, Partnership, Policy And Regulation, Politics, Stocks, Venture Capital  \n",
       "\n",
       "- OpenAI and Microsoft have hired investment banks to renegotiate their partnership, with Goldman Sachs advising OpenAI and Morgan Stanley advising Microsoft.\n",
       "- The negotiations aim to determine Microsoft's future stake in OpenAI as the company transitions to a benefit corporation and seeks to eliminate caps on investor returns.\n",
       "- OpenAI expects to incur losses of about \\\\$5 billion against projected revenues of \\\\$3.7 billion this year, and is negotiating to reduce cloud costs from Microsoft to help achieve profitability by 2029. \n",
       "\n"
      ],
      "text/plain": [
       "<IPython.core.display.Markdown object>"
      ]
     },
     "metadata": {},
     "output_type": "display_data"
    },
    {
     "data": {
      "text/markdown": [
       "[48. News - Penguin Random House underscores copyright protection in AI rebuff - Google News](https://news.google.com/read/CBMiowFBVV95cUxPWWNRQ1ZTd2R5ZW0waGlvbnJsa3lrNkNkUUdNcWtPaDNvVGE3NE9Bakc2UVZEbHJHdEFUS09mdDdWdng0ZEdzbkwtQ2lsZDQxdk1VSGNhTGFVeUxGME4tMjBHVTRPWmxlR1ZHOFVnbWRCYWpEMG14ai1YZkZ0UFUzdnJtN1JPZUpySU9oa2drM2lfZnpmWDVFcmxzWnlBQ0ZKM3dz)  \n",
       "\n",
       " Copyright Protection in Publishing and AI, Authors & Writing, Bias And Fairness, Books & Publishing, Copyright Protection, Ethics, Intellectual Property, Legal Issues, Penguin Random House, Policy And Regulation  \n",
       "\n",
       "- Penguin Random House has updated its copyright wording to prohibit the use of its books for training AI technologies, aiming to protect authors' intellectual property from copyright infringement.\n",
       "- The new copyright statement will be included in all new titles and any reprinted backlist titles, explicitly excluding text and data mining for AI applications.\n",
       "- This move reflects ongoing concerns within the publishing industry regarding the use of copyrighted material in developing AI tools, amidst a backdrop of existing copyright infringement cases in the US. \n",
       "\n"
      ],
      "text/plain": [
       "<IPython.core.display.Markdown object>"
      ]
     },
     "metadata": {},
     "output_type": "display_data"
    },
    {
     "data": {
      "text/markdown": [
       "[49. Penguin Random House Underscores Copyright Protection in AI Rebuff - tech.slashdot.org](https://tech.slashdot.org/story/24/10/19/0121240/penguin-random-house-underscores-copyright-protection-in-ai-rebuff)  \n",
       "\n",
       " Copyright Protection in Publishing and AI, Authors & Writing, Bias And Fairness, Books & Publishing, Copyright Protection, Ethics, Intellectual Property, Legal Issues, Penguin Random House, Policy And Regulation  \n",
       "\n",
       "- Penguin Random House has updated its copyright pages to explicitly prohibit the use of its books for training artificial intelligence technologies, aiming to protect authors' intellectual property.\n",
       "- The new copyright wording will be applied globally across all its imprints and includes a reservation from the text and data mining exception in accordance with European Parliament directives.\n",
       "- This decision follows a rise in copyright infringement cases and concerns about tech companies using pirated books to train AI tools. \n",
       "\n"
      ],
      "text/plain": [
       "<IPython.core.display.Markdown object>"
      ]
     },
     "metadata": {},
     "output_type": "display_data"
    },
    {
     "data": {
      "text/markdown": [
       "[50. Penguin Random House amends its copyright rules to protect authors from AI - Google News](https://news.google.com/read/CBMiuAFBVV95cUxQRGl3S0I0SnJCSjYtMnVTZ2VfNHB5SXlmRjhETmd1cGxEWHJUUVJrb1FEaDJqTXJhNE84SHVJWE5rWXJ6VzFnbFU2WnlPV2F3S0o3OUttUjQwcHJWRVZZV2tybHJsdTZIdGJCUDJLbWlzTm9RR194WWlNMkhTWlp3TlJITmZ1NERlb2JUTmRSdks3VmVUb3NubnZlQUt4a1BzX3RKYXduTHJWTVR6a3lDM2FhR1dDVklK)  \n",
       "\n",
       " Copyright Protection in Publishing and AI, Authors, Authors & Writing, Bias And Fairness, Books & Publishing, Copyright Rules, Ethics, Intellectual Property, Legal Issues, Penguin Random House, Policy And Regulation, Privacy, Privacy & Surveillance  \n",
       "\n",
       "- Penguin Random House has updated its copyright rules to prohibit AI companies from using its books for training purposes.\n",
       "- The amended copyright notice explicitly states that no part of the books may be reproduced for artificial intelligence technologies or systems.\n",
       "- This change follows criticism of AI practices and comes after a European Parliament directive on text and data mining. \n",
       "\n"
      ],
      "text/plain": [
       "<IPython.core.display.Markdown object>"
      ]
     },
     "metadata": {},
     "output_type": "display_data"
    },
    {
     "data": {
      "text/markdown": [
       "[51. Penguin Random House amends its copyright notice globally to prohibit the use of books for training AI; the notice will be included in new titles and reprints - The Bookseller](https://www.thebookseller.com/news/penguin-random-house-underscores-copyright-protection-in-ai-rebuff)  \n",
       "\n",
       " AI Training and Data Privacy Issues, AI Training, Authors & Writing, Bias And Fairness, Books, Books & Publishing, Copyright Notice, Ethics, Intellectual Property, Legal Issues, Penguin Random House, Policy And Regulation, Privacy, Privacy & Surveillance  \n",
       "\n",
       "- Penguin Random House (PRH) has updated its copyright wording to prohibit the use of its titles for training AI tools, aiming to protect authors' intellectual property rights.\n",
       "- The new copyright statement will be included in all new and reprinted titles, explicitly barring their use for AI training purposes and establishing a clear stance against text and data mining exceptions.\n",
       "- The change has been welcomed by industry organizations like the Authors’ Licensing and Collecting Society and the Society of Authors, who emphasize the need for broader contractual protections for authors regarding AI usage of their works. \n",
       "\n"
      ],
      "text/plain": [
       "<IPython.core.display.Markdown object>"
      ]
     },
     "metadata": {},
     "output_type": "display_data"
    },
    {
     "data": {
      "text/markdown": [
       "[52. Xs controversial changes to blocking and AI training sees half a million users leave for rival Bluesky  which then crashes under the strain - TechRadar](https://www.techradar.com/computing/websites-apps/xs-controversial-changes-to-blocking-and-ai-training-sees-half-a-million-users-leave-for-rival-bluesky-which-then-crashes-under-the-strain)  \n",
       "\n",
       " AI Training and Data Privacy Issues, AI Training, Bias And Fairness, Bluesky, Controversy, Ethics, Gen AI, Language Models, Opinion, Privacy, Privacy & Surveillance, User Migration, X  \n",
       "\n",
       "- X's recent changes to its blocking feature and AI training policy have led to a mass exodus of users, with approximately half a million migrating to rival platform Bluesky, which temporarily crashed due to the influx.\n",
       "- The modified blocking policy allows blocked users to view public posts of the accounts that blocked them, raising concerns about online safety and harassment.\n",
       "- X's updated privacy policy permits third-party collaborators to use user content for AI training unless users opt out, prompting backlash from users and contributing to the migration. \n",
       "\n"
      ],
      "text/plain": [
       "<IPython.core.display.Markdown object>"
      ]
     },
     "metadata": {},
     "output_type": "display_data"
    },
    {
     "data": {
      "text/markdown": [
       "[53. X to allow third parties to train their AI models with social media users' data - The Register](https://www.theregister.com/2024/10/18/x_train_data)  \n",
       "\n",
       " AI Training and Data Privacy Issues, AI Models, Bias And Fairness, Cybersecurity, Disinformation, Ethics, Gen AI, Governance, Intellectual Property, Language Models, Legal Issues, Policy And Regulation, Privacy, Privacy & Surveillance, Social Media Data, Third Parties, X  \n",
       "\n",
       "- X (formerly Twitter) is updating its Terms of Service to allow third parties to use user data for training AI models, effective November 15, 2024, with an option for users to opt out.\n",
       "- The company is targeting new revenue streams amid reduced advertising business, following a notable loss of advertisers after controversial statements made by Elon Musk.\n",
       "- Disputes will now be directed to a federal court in the northern district of Texas, which has raised concerns about \"judge shopping\" due to its more conservative, business-friendly environment. \n",
       "\n"
      ],
      "text/plain": [
       "<IPython.core.display.Markdown object>"
      ]
     },
     "metadata": {},
     "output_type": "display_data"
    },
    {
     "data": {
      "text/markdown": [
       "[54. X to allow third parties to train AI on your posts - Mashable](https://mashable.com/article/x-train-ai-posts)  \n",
       "\n",
       " AI Training and Data Privacy Issues, AI Training, Bias And Fairness, Cybersecurity, Disinformation, Ethics, Gen AI, Governance, Intellectual Property, Language Models, Legal Issues, Policy And Regulation, Privacy, Privacy & Surveillance, Third Parties, User Data, X  \n",
       "\n",
       "- X has updated its Privacy Policy to permit third parties to use user posts for training their AI models, in addition to training its own chatbot Grok.\n",
       "- Users cannot currently opt out of having their posts used by third parties for AI training, although opting out of Grok training remains an option.\n",
       "- The new policy will take effect on November 15, 2024, with no current mechanisms in place for users to block third-party access. \n",
       "\n"
      ],
      "text/plain": [
       "<IPython.core.display.Markdown object>"
      ]
     },
     "metadata": {},
     "output_type": "display_data"
    },
    {
     "data": {
      "text/markdown": [
       "[55. Penguin Random House books now explicitly say no to AI training - Google News](https://news.google.com/read/CBMijAFBVV95cUxPalMyWTZfUThabm42ZVlCQVRaX2hKb0w3ZFJsRGtWcnFfMjY5MXVabXFjSjdfS21IOTY5NFZjU01BbUlBOU0yZjVyajRaYmV2VE9aSjIzbUdVNzhHOWFCcUVvSzUzYlZGQXRHZzBXSW80RzZvSmRzQkd3WFZVSjJRSlpSZFhTVERmZWt0WA)  \n",
       "\n",
       " AI Training and Data Privacy Issues, AI Training, Authors & Writing, Bias And Fairness, Books, Books & Publishing, Copyright, Ethics, Intellectual Property, Legal Issues, Penguin Random House, Policy And Regulation, Privacy, Privacy & Surveillance  \n",
       "\n",
       "- Penguin Random House has added a clause to its copyright pages stating that no part of its books may be used for AI training purposes, making it the first major publisher to do so.\n",
       "- The new clause also reserves the works from the text and data mining exception under EU law, signaling a protective stance towards copyright in the context of AI.\n",
       "- This move parallels the usage of a robots.txt file on websites but lacks legal enforceability as copyright protections exist independently of such statements. \n",
       "\n"
      ],
      "text/plain": [
       "<IPython.core.display.Markdown object>"
      ]
     },
     "metadata": {},
     "output_type": "display_data"
    },
    {
     "data": {
      "text/markdown": [
       "[56. X Is Giving Away Your Data to Train Third-Party AIs - Lifehacker](https://lifehacker.com/tech/x-is-selling-your-data-to-third-parties-for-ai-training)  \n",
       "\n",
       " AI Training and Data Privacy Issues, AI Doom, Bias And Fairness, Cybersecurity, Data Sharing, Disinformation, Ethics, Gen AI, Governance, Intellectual Property, Language Models, Legal Issues, Policy And Regulation, Privacy, Privacy & Surveillance, Third-Party AI, X  \n",
       "\n",
       "- X has updated its Privacy Policy to allow sharing user data with unnamed third-party collaborators for AI training without explicit user consent.\n",
       "- Users can opt-out of this data sharing by changing their settings, but the process is not clearly communicated and could lead to further unawareness among users.\n",
       "- The policy revisions suggest that X may be financially benefiting from this data sharing, as they face challenges with advertising revenue and user engagement. \n",
       "\n"
      ],
      "text/plain": [
       "<IPython.core.display.Markdown object>"
      ]
     },
     "metadata": {},
     "output_type": "display_data"
    },
    {
     "data": {
      "text/markdown": [
       "[57. X's new terms of service push lawsuits to Texas courts, allow third-party AI data-sharing - Yahoo](https://www.yahoo.com/news/xs-terms-push-lawsuits-texas-110231929.html)  \n",
       "\n",
       " AI Training and Data Privacy Issues, AI Data-Sharing, Bias And Fairness, Ethics, Gen AI, Governance, Intellectual Property, Lawsuits, Legal Issues, Policy And Regulation, Privacy, Privacy & Surveillance, Terms Of Service, X  \n",
       "\n",
       "- X's new terms of service, effective November 15, will require user lawsuits to be filed in Texas courts.\n",
       "- The updated privacy policy allows third parties to access user data to train AI models, which could involve using the data for independent purposes.\n",
       "- Users will have the option to opt out of third-party data-sharing, but the settings for this option will not be fully implemented until after the update takes effect. \n",
       "\n"
      ],
      "text/plain": [
       "<IPython.core.display.Markdown object>"
      ]
     },
     "metadata": {},
     "output_type": "display_data"
    },
    {
     "data": {
      "text/markdown": [
       "[58. US probing Elon Musk's Tesla over self-driving systems - Yahoo](https://www.yahoo.com/news/us-probing-elon-musks-tesla-232739208.html)  \n",
       "\n",
       " Tesla Self-Driving Investigations, Autonomous Vehicles, Computer Vision, Elon Musk, Governance, Hardware, Investigation, Job Automation, Legal Issues, Policy And Regulation, Politics, Products, Robots, Safety And Alignment, Self-Driving, Tesla, Transportation, Us  \n",
       "\n",
       "- The National Highway Traffic Safety Administration (NHTSA) is probing Tesla's self-driving software systems, evaluating 2.4 million vehicles from 2016 to 2024, potentially leading to a recall.\n",
       "- The investigation follows four crash reports involving Tesla's \"Full Self-Driving\" (FSD) software, including a fatal incident, focusing on the system's ability to respond to reduced visibility conditions.\n",
       "- Despite Elon Musk's recent promotion of the Cybercab autonomous vehicle, Tesla's stock has dropped 8% since the reveal, and analysts remain skeptical about its self-driving technology compared to competitors like Waymo. \n",
       "\n"
      ],
      "text/plain": [
       "<IPython.core.display.Markdown object>"
      ]
     },
     "metadata": {},
     "output_type": "display_data"
    },
    {
     "data": {
      "text/markdown": [
       "[59. Tesla FSD crashes in fog, sun glareFeds open new safety investigation - Ars Technica](https://arstechnica.com/cars/2024/10/feds-open-their-14th-tesla-safety-investigation-this-time-for-fsd/)  \n",
       "\n",
       " Tesla Self-Driving Investigations, AI Doom, Autonomous Vehicles, Computer Vision, Crashes, Fog, Fsd, Governance, Hardware, Legal Issues, Policy And Regulation, Products, Robots, Safety And Alignment, Safety Investigation, Sun Glare, Tesla, Transportation  \n",
       "\n",
       "- The National Highway Traffic Safety Administration (NHTSA) has opened its 14th investigation into Tesla, focusing on its \"full self-driving\" (FSD) feature following reports of four crashes, including one fatal incident involving a pedestrian.\n",
       "- The investigation is prompted by concerns regarding the FSD system's performance in challenging conditions such as fog, sun glare, and airborne dust.\n",
       "- NHTSA requires notification of any crashes occurring while operating under semi-autonomous functions, highlighting the distinction between Tesla's level 2+ automation and fully autonomous systems. \n",
       "\n"
      ],
      "text/plain": [
       "<IPython.core.display.Markdown object>"
      ]
     },
     "metadata": {},
     "output_type": "display_data"
    },
    {
     "data": {
      "text/markdown": [
       "[60. Tesla software under investigation after collisions - Yahoo](https://www.yahoo.com/news/tesla-software-under-investigation-collisions-134341068.html)  \n",
       "\n",
       " Tesla Self-Driving Investigations, AI Doom, Autonomous Vehicles, Collisions, Computer Vision, Governance, Hardware, Investigation, Legal Issues, Policy And Regulation, Politics, Products, Robots, Safety And Alignment, Software, Tesla, Transportation  \n",
       "\n",
       "- The NHTSA has initiated an investigation into Tesla's Full Self-Driving (FSD) software after it was implicated in four crashes, including one fatality involving a pedestrian.  \n",
       "- The investigation is focused on potential failures of the FSD system to detect and disengage in challenging visibility conditions like sun glare and fog.  \n",
       "- Approximately 2.4 million Tesla vehicles are part of the investigation, coinciding with the recent unveiling of Tesla's robotaxi concept by CEO Elon Musk.   \n",
       "\n"
      ],
      "text/plain": [
       "<IPython.core.display.Markdown object>"
      ]
     },
     "metadata": {},
     "output_type": "display_data"
    },
    {
     "data": {
      "text/markdown": [
       "[61. Tesla Facing NHTSA Investigation of 2.4 Million Cars Over Full Self-Driving Crashes - Yahoo Finance](https://ca.finance.yahoo.com/news/tesla-facing-nhtsa-investigation-2-151200159.html)  \n",
       "\n",
       " Tesla Self-Driving Investigations, AI Doom, Autonomous Vehicles, Computer Vision, Crashes, Governance, Hardware, Investigation, Legal Issues, Nhtsa, Policy And Regulation, Politics, Products, Robots, Safety And Alignment, Self-Driving, Tesla, Transportation  \n",
       "\n",
       "- The NHTSA has launched an investigation into Tesla's Full Self-Driving system after four crashes, including one fatality, were reported in low-visibility conditions, affecting approximately 2.4 million vehicles.\n",
       "- The investigation will assess the system's ability to detect and respond to reduced visibility, amid concerns that Tesla's driver-assistance systems lack the same safeguards as competitors.\n",
       "- This scrutiny follows a previous recall of two million vehicles for updates to Autopilot safeguards and could impact Tesla's future plans for fully autonomous vehicles, including the anticipated Cybercab. \n",
       "\n"
      ],
      "text/plain": [
       "<IPython.core.display.Markdown object>"
      ]
     },
     "metadata": {},
     "output_type": "display_data"
    },
    {
     "data": {
      "text/markdown": [
       "[62. Protect AI Named 2024 SINET16 Innovator - Yahoo Finance](https://finance.yahoo.com/news/protect-ai-named-2024-sinet16-130300622.html)  \n",
       "\n",
       " 2024, Innovator, Protect AI, Sinet16  \n",
       "\n",
       "- Protect AI has been awarded the SINET16 Innovator Award for 2024, recognizing its innovative technologies in AI security among 230 applicants from 13 countries.\n",
       "- The award highlights Protect AI's commitment to addressing security challenges in AI and machine learning systems as enterprises and governments increasingly deploy these technologies.\n",
       "- The company is acknowledged for its leadership in AI Security Posture Management (AI-SPM), providing comprehensive security for AI systems throughout their development lifecycle. \n",
       "\n"
      ],
      "text/plain": [
       "<IPython.core.display.Markdown object>"
      ]
     },
     "metadata": {},
     "output_type": "display_data"
    },
    {
     "data": {
      "text/markdown": [
       "[63. Googles NotebookLM now lets you guide the hosts of your AI podcast - The Verge](https://www.theverge.com/2024/10/18/24273411/google-notebooklm-ai-audio-overview-customize)  \n",
       "\n",
       " AI Podcast, Gen AI, Google, Guidance, Music, Notebooklm, Products, Review  \n",
       "\n",
       "- Google’s NotebookLM now allows users to customize AI podcast-like Audio Overviews by providing specific instructions on topics and target audiences.\n",
       "- The feature enables a personalized discussion generated by AI hosts based on user-uploaded sources and instructions.\n",
       "- Google has also removed the \"experimental\" label from NotebookLM and introduced background listening for Audio Overviews, enhancing usability while working within the app. \n",
       "\n"
      ],
      "text/plain": [
       "<IPython.core.display.Markdown object>"
      ]
     },
     "metadata": {},
     "output_type": "display_data"
    },
    {
     "data": {
      "text/markdown": [
       "[64. Opinion - The 3 major decisions the next Congress must make about AI policy - Yahoo](https://www.yahoo.com/news/opinion-3-major-decisions-next-143000600.html)  \n",
       "\n",
       " AI Policy, Bias And Fairness, Congress, Decisions, Economics, Ethics, Governance, Legal Issues, Opinion, Policy And Regulation, Politics, Safety And Alignment, Society & Culture  \n",
       "\n",
       "- The upcoming Congress faces pivotal decisions regarding AI policy, including addressing national security concerns, existing harms, and whether to create a new agency for AI regulation.  \n",
       "- Despite over 100 AI-related bills introduced, no legislation has passed, leading to a perception that elected officials are not sufficiently addressing technology issues, as highlighted by a 2020 Gallup survey showing 59% of Americans feeling overlooked.  \n",
       "- State-level efforts have resulted in a fragmented regulatory landscape, emphasizing the necessity for cohesive national policies to manage AI development and mitigate ethical and safety risks.   \n",
       "\n"
      ],
      "text/plain": [
       "<IPython.core.display.Markdown object>"
      ]
     },
     "metadata": {},
     "output_type": "display_data"
    },
    {
     "data": {
      "text/markdown": [
       "[65. Department of Labor releases AI best practices for employers - Yahoo](https://www.yahoo.com/news/department-labor-releases-ai-best-222510480.html)  \n",
       "\n",
       " Best Practices, Bias And Fairness, Department Of Labor, Economics, Education, Employers, Ethics, Gen AI, Governance, Job Automation, Jobs & Careerslabor Market, Legal Issues, Policy And Regulation, Safety And Alignment, Science, Testing  \n",
       "\n",
       "- The U.S. Department of Labor has released a guide of artificial intelligence best practices aimed at helping employers utilize AI for efficiency while safeguarding workers from discrimination and job displacement.\n",
       "- The guidelines emphasize the importance of worker involvement in the development and oversight of AI systems and advocate for transparency and ethical practices in AI deployment.\n",
       "- Employers are encouraged to assess the impact of AI on job opportunities, retrain displaced workers, and ensure the protection of employee data while providing them with a share of productivity gains. \n",
       "\n"
      ],
      "text/plain": [
       "<IPython.core.display.Markdown object>"
      ]
     },
     "metadata": {},
     "output_type": "display_data"
    },
    {
     "data": {
      "text/markdown": [
       "[66. Causal AI: Evolving from recognition to reasoning - SiliconANGLE](https://siliconangle.com/2024/10/18/causal-ai-evolving-recognition-reasoning-cubeconversations)  \n",
       "\n",
       " Artificial General Intelligence, Causal AI, Cognitive Science, Consciousness, Evolution, Gen AI, Reasoning, Recognition, Reinforcement Learning, Science  \n",
       "\n",
       "- Causal AI is emerging as a crucial evolution in artificial intelligence, focusing on reasoning and explainability rather than mere pattern recognition, enabling businesses to make smarter decisions.\n",
       "- The integration of large and small language models in causal AI facilitates a better understanding of cause-and-effect relationships, enhancing problem-solving capabilities in dynamic environments.\n",
       "- A significant number of AI professionals are already experimenting with causal AI, signaling its potential as a key technology that demands greater explainability and adaptability in decision-making processes. \n",
       "\n"
      ],
      "text/plain": [
       "<IPython.core.display.Markdown object>"
      ]
     },
     "metadata": {},
     "output_type": "display_data"
    },
    {
     "data": {
      "text/markdown": [
       "[67. A look at Greg Brockman's role at OpenAI, as his return from a sabbatical nears; sources: OpenAI CFO thinks Apple pulled out of fundraising due to Murati's exit - The Information](https://www.theinformation.com/articles/can-greg-brockman-find-a-future-back-at-openai)  \n",
       "\n",
       " Apple, Economics, Finance, Funding, Fundraising, Gen AI, Greg Brockman, Language Models, Open Source, OpenAI, Sabbatical, Venture Capital  \n",
       "\n",
       "- Greg Brockman is expected to return to OpenAI after a two-month sabbatical, during which significant changes occurred within the company.  \n",
       "- The departure of Chief Technology Officer Mira Murati and other senior researchers happened while Brockman was away, along with a substantial increase in the company's valuation from \\\\$86 billion to \\\\$157 billion.  \n",
       "- Brockman's return will challenge his ability to coexist with CEO Sam Altman, who has consolidated power during Brockman's absence. \n",
       "\n"
      ],
      "text/plain": [
       "<IPython.core.display.Markdown object>"
      ]
     },
     "metadata": {},
     "output_type": "display_data"
    },
    {
     "data": {
      "text/markdown": [
       "[68. This is OpenAI CEO Sam Altman's favorite question about AGI - Business Insider](https://www.businessinsider.com/openai-ceo-sam-altman-favorite-question-about-agi-2024-10)  \n",
       "\n",
       " Agi, Artificial General Intelligence, Consciousness, Gen AI, OpenAI, Questions, Sam Altman, Singularity  \n",
       "\n",
       "- Sam Altman discussed his vision for artificial general intelligence (AGI) at Harvard, emphasizing its potential to enhance productivity and create shared intelligence within society.\n",
       "- He articulated that AGI could serve as a tool for societal participation and economic improvement, contrasting earlier views of it as a superintelligent entity.\n",
       "- Altman illustrated the development of a \"technology tree\" through collaborative expertise and experiences, suggesting that AGI would emerge from the connections between neural networks rather than from a single intelligence source. \n",
       "\n"
      ],
      "text/plain": [
       "<IPython.core.display.Markdown object>"
      ]
     },
     "metadata": {},
     "output_type": "display_data"
    },
    {
     "data": {
      "text/markdown": [
       "[69. The Age of AI Child Abuse Is Here - Google News](https://news.google.com/read/CBMikAFBVV95cUxPVFMtdXNWT3ZJbVZzSGtBWjZMX18yQ2pnWmZ6enREdUdsRFJ5N1JCUHhRanpyRzFaWi1pZ1VJOWlaXzdOLVlzRENQbHBZcTJ2UjRsNWVKbUUwWXpXa1BJOF9weWpZTzc0Y2s3T01yc3ZCNkowaVNsX2tRQnl4ZHJwbm9CbGhIZERORzFaRzgzVVY)  \n",
       "\n",
       " AI Doom, Bias And Fairness, Child Abuse, Consciousness, Deepfakes, Ethics, Gen AI, Inequality, Opinion, Privacy, Privacy & Surveillance, Safety And Alignment, Society, Society & Culture  \n",
       "\n",
       "- The Muah.AI website, allowing users to create AI chatbots, has raised concerns as data suggests some individuals might be using it to generate child sexual abuse material (CSAM).\n",
       "- A report revealed alarming user prompts, including explicit references to infants and young children, highlighting potential misuse of AI technology despite existing content moderation tools on major platforms.\n",
       "- Child-safety advocates are warning that generative AI is increasingly exploited to create sexually abusive images, with significant instances reported in schools nationwide. \n",
       "\n"
      ],
      "text/plain": [
       "<IPython.core.display.Markdown object>"
      ]
     },
     "metadata": {},
     "output_type": "display_data"
    },
    {
     "data": {
      "text/markdown": [
       "[70. New GraphAcademy Course: Transform Unstructured Data into Knowledge Graphs with LLMs and Python - Hacker Noon](https://hackernoon.com/new-graphacademy-course-transform-unstructured-data-into-knowledge-graphs-with-llms-and-python)  \n",
       "\n",
       " Cognitive Science, Education, Gen AI, Graphacademy, Knowledge Graphs, Language Models, Llms, Python, Science, Unstructured Data  \n",
       "\n",
       "- A new course on GraphAcademy teaches how to create and query knowledge graphs using large language models (LLMs) and Python.\n",
       "- The course covers text analysis capabilities, knowledge graph generation, schema setting, and result interpretation.\n",
       "- It is an advanced course requiring prior knowledge of Neo4j, LLM integration, and Cypher for effective learning. \n",
       "\n"
      ],
      "text/plain": [
       "<IPython.core.display.Markdown object>"
      ]
     },
     "metadata": {},
     "output_type": "display_data"
    },
    {
     "data": {
      "text/markdown": [
       "[71. 01.ai, DeepSeek, and other Chinese companies are reducing costs to create AI models by focusing on smaller training data sets, as they deal with export controls (Eleanor Olcott/Financial Times) - Twitter](https://t.co/OjoP4jYT5c)  \n",
       "\n",
       " China, Chinese Companies, Cost Reduction, Deepseek, Economics, Export Controls, Finance, Gen AI, Language Models, Policy And Regulation, Science, Training Data  \n",
       "\n",
       "- Chinese AI companies are significantly reducing model costs, competing effectively despite US restrictions on high-end chips.\n",
       "- Start-ups like 01.ai and larger firms like Alibaba and ByteDance have slashed inference costs by over 90%, utilizing strategies like focusing on smaller datasets and hiring skilled engineers at lower costs.\n",
       "- The \"model-of-expert\" approach, which uses multiple neural networks for industry-specific data, is being adopted by many Chinese firms to enhance efficiency and maintain competitiveness. \n",
       "\n"
      ],
      "text/plain": [
       "<IPython.core.display.Markdown object>"
      ]
     },
     "metadata": {},
     "output_type": "display_data"
    },
    {
     "data": {
      "text/markdown": [
       "[72. Bullfrog AI Announces Pricing of Registered Direct Offering and Concurrent Private Placement for Aggregate Gross Proceeds of \\\\$3.13 Million - Yahoo Finance](https://finance.yahoo.com/news/bullfrog-ai-announces-pricing-registered-133000030.html)  \n",
       "\n",
       " Bullfrog AI, Deals, Economics, Finance, Funding, Ipos, Offering, Pricing, Private Placement, Products, Stocks, Venture Capital  \n",
       "\n",
       "- Bullfrog AI Holdings, Inc. announced a definitive agreement for a registered direct offering and concurrent private placement, aiming for gross proceeds of approximately \\\\$3.13 million.\n",
       "- The company plans to sell 1,565,000 shares of common stock at a combined purchase price of \\\\$2.00, alongside warrants that will have an exercise price of \\\\$2.00 each.\n",
       "- Closing of the offering is expected around October 21, 2024, pending customary closing conditions. \n",
       "\n"
      ],
      "text/plain": [
       "<IPython.core.display.Markdown object>"
      ]
     },
     "metadata": {},
     "output_type": "display_data"
    },
    {
     "data": {
      "text/markdown": [
       "[73. Pope Francis and the Vatican just created an AI Bible reshaping faith in the Digital Age - The Brighter Side](https://www.thebrighterside.news/post/pope-francis-and-the-vatican-just-created-an-ai-bible-reshaping-faith-in-the-digital-age/)  \n",
       "\n",
       " AI Bible, Books & Publishing, Consciousness, Digital Age, Entertainment, Ethics, Faith, Gen AI, History, Politics, Pope Francis, Society & Culture, Vatican  \n",
       "\n",
       "- The Vatican, under Pope Francis' direction, has launched an \"AI Bible\" and a handbook on AI ethics through a partnership with Santa Clara University's Markkula Center for Applied Ethics, aiming to influence the dialogue surrounding AI's societal impacts.\n",
       "- The handbook titled \"Ethics in the Age of Disruptive Technologies\" outlines seven key ethical guidelines for tech companies, emphasizing principles like accountability, transparency, and the common good of humanity and the environment.\n",
       "- The initiative seeks to empower companies to integrate ethical values into technology development proactively, addressing current AI challenges rather than waiting for regulatory measures. \n",
       "\n"
      ],
      "text/plain": [
       "<IPython.core.display.Markdown object>"
      ]
     },
     "metadata": {},
     "output_type": "display_data"
    },
    {
     "data": {
      "text/markdown": [
       "[74. Penguin Adds a Do-Not-Scrape-for-AI Page to Its Books - Google News](https://news.google.com/read/CBMijAFBVV95cUxOMGZOUGJsUGNfai1Od0VaU2xWWDdGMm81ZHd2czJBRnFBblFvSTJRUENBUjdXLTl5VV9lenJsUXM1Um1raDV6R1A5R0poUlpha1RwaW5BR1o4S1BUSEMzd3FIaHJfbG90ZnM5aGpKQ0JiZzBRcGF6YmJ3YjVjQzUxYTI3SFE2WWVkMlZ2MA)  \n",
       "\n",
       " Authors & Writing, Bias And Fairness, Books & Publishing, Copyright, Ethics, Intellectual Property, Legal Issues, Penguin Random House, Policy And Regulation, Privacy, Privacy & Surveillance, Scraping  \n",
       "\n",
       "- Penguin Random House is altering its copyright pages to prohibit using its books for training AI systems, making it distinct from other large publishers that have licensed their content to AI companies.\n",
       "- The change is partially aimed at the European market, where copyright holders can opt out of data mining under EU law, and may influence practices in the U.S. as well.\n",
       "- If successful, this move could force AI developers to pay for high-quality content from publishers, challenging current business models that rely on using copyrighted material without payment. \n",
       "\n"
      ],
      "text/plain": [
       "<IPython.core.display.Markdown object>"
      ]
     },
     "metadata": {},
     "output_type": "display_data"
    },
    {
     "data": {
      "text/markdown": [
       "[75. Parents sue school over son's punishment for using AI, claim it's harmed his college chances - TechSpot](https://www.techspot.com/news/105192-parents-sue-school-over-son-punishment-using-ai.html)  \n",
       "\n",
       " Bias And Fairness, College Chances, Education, Ethics, Gen AI, Inequality, Jobs & Careerslabor Market, Lawsuit, Legal Issues, Parents, Policy And Regulation, Safety And Alignment, School, Society & Culture  \n",
       "\n",
       "- A Massachusetts school district is being sued by the parents of a student who was punished for using AI to complete a Social Studies project, claiming the punishment harmed his college chances.\n",
       "- The plaintiffs argue that the school handbook does not explicitly prohibit the use of AI for assignments, while the school maintains that the students were informed of policies against unauthorized technology use.\n",
       "- The parents seek to have the incident removed from their son's records, a better grade, and training for school officials on using AI in education, with the case set to go to court unless settled. \n",
       "\n"
      ],
      "text/plain": [
       "<IPython.core.display.Markdown object>"
      ]
     },
     "metadata": {},
     "output_type": "display_data"
    },
    {
     "data": {
      "text/markdown": [
       "[76. AI-generated art piece disqualified by SC State Fair after being awarded cash prize - Yahoo](https://www.yahoo.com/news/ai-generated-art-piece-disqualified-173231172.html)  \n",
       "\n",
       " Art, Art & Design, Cash Prize, Disqualification, Entertainment, Gen AI, Intellectual Property, Legal Issues, Society & Culture, State Fair  \n",
       "\n",
       "- An AI-generated art piece titled \"Country Woman\" by Terrance Washington was disqualified from the S.C. State Fair after winning a cash prize due to violation of contest rules prohibiting AI art.\n",
       "- The fair issued a statement regarding the disqualification, emphasizing that artists must adhere to rules against using generative AI in submissions.\n",
       "- Local artists expressed concern over the implications of AI art on the art community, highlighting issues of copyright and the challenges of detecting AI entries in future competitions. \n",
       "\n"
      ],
      "text/plain": [
       "<IPython.core.display.Markdown object>"
      ]
     },
     "metadata": {},
     "output_type": "display_data"
    },
    {
     "data": {
      "text/markdown": [
       "[77. Self-learning AI gives out NFL against the spread, over-under, money-line picks for every Week 7, 2024 game - CBS Sports](https://www.cbssports.com/nfl/news/self-learning-ai-gives-out-nfl-against-the-spread-over-under-money-line-picks-for-every-week-7-2024-game/)  \n",
       "\n",
       " Finance, Gen AI, Nfl, Predictions, Reinforcement Learning, Self-Learning, Sports, Sports Betting  \n",
       "\n",
       "- The SportsLine AI has evaluated the Week 7 NFL odds and generated predictions for all 15 games, including a notable matchup between the San Francisco 49ers and Kansas City Chiefs.\n",
       "- The AI PickBot predicts that the Cleveland Browns will cover as 5.5-point underdogs against the Bengals and projects a final score of 23-21 in favor of the Browns.\n",
       "- The AI model is the first fully automated predictive tool at SportsLine, continuously updating its predictions based on historical data and current odds. \n",
       "\n"
      ],
      "text/plain": [
       "<IPython.core.display.Markdown object>"
      ]
     },
     "metadata": {},
     "output_type": "display_data"
    },
    {
     "data": {
      "text/markdown": [
       "[78. How Google is changing to compete with ChatGPT - The Verge](https://www.theverge.com/2024/10/18/24273748/google-deepmind-gemini-search-chaptgpt-meta-ai-interview)  \n",
       "\n",
       " Chatbots, Chatgpt, Competition, Gen AI, Google, Language Models  \n",
       "\n",
       "- Google is focusing its strategy on Gemini to compete with ChatGPT, positioning itself strongly in the AI landscape.\n",
       "- Demis Hassabis has gained significant power at Google, now overseeing the entire process of developing and deploying AI models, including the chatbot.\n",
       "- Nick Fox's role in managing Google's Search operations enhances the company's capability to integrate AI into its core offerings. \n",
       "\n"
      ],
      "text/plain": [
       "<IPython.core.display.Markdown object>"
      ]
     },
     "metadata": {},
     "output_type": "display_data"
    },
    {
     "data": {
      "text/markdown": [
       "[79. This Expert Says AI Efficiency Soars When it Uses Video to Crunch Numbers - Inc.](https://www.inc.com/kit-eaton/this-expert-says-ai-efficiency-soars-when-it-uses-video-to-crunch-numbers/90991212)  \n",
       "\n",
       " Computer Vision, Data Analysis, Efficiency, Gen AI, Science, Video  \n",
       "\n",
       "- The provided text does not contain substantive news content to summarize. \n",
       "\n"
      ],
      "text/plain": [
       "<IPython.core.display.Markdown object>"
      ]
     },
     "metadata": {},
     "output_type": "display_data"
    },
    {
     "data": {
      "text/markdown": [
       "[80. Is Broadcom a Top Artificial Intelligence (AI) Stock to Buy Right Now? - Yahoo Finance](https://finance.yahoo.com/news/broadcom-top-artificial-intelligence-ai-110000564.html)  \n",
       "\n",
       " AI Stocks, Broadcom, Economics, Finance, Investment, Products, Science, Stocks  \n",
       "\n",
       "- Broadcom is considered a popular choice in the AI investment landscape, but its extensive product line may limit its ability to fully capitalize on AI market growth compared to more specialized companies like Nvidia and Palantir.  \n",
       "- The company's revenue grew 47% year-over-year to \\\\$13 billion in Q3 FY 2024, largely attributed to VMware; excluding VMware, growth was only 4%, raising concerns about its AI performance.  \n",
       "- Despite impressive growth in AI-related products like custom accelerators and Ethernet switches, Broadcom's stock remains expensive at nearly 38 times forward earnings, leading some analysts to suggest better AI investment alternatives. \n",
       "\n"
      ],
      "text/plain": [
       "<IPython.core.display.Markdown object>"
      ]
     },
     "metadata": {},
     "output_type": "display_data"
    },
    {
     "data": {
      "text/markdown": [
       "[81. The Paradox of AI: If It Can't Replace us, Is It Making Us Dumber? - Hacker Noon](https://hackernoon.com/the-paradox-of-ai-if-it-cant-replace-us-is-it-making-us-dumber)  \n",
       "\n",
       " Cognitive Science, Consciousness, Gen AI, Intelligence, Job Automation, Opinion, Paradox, Society & Culture  \n",
       "\n",
       "- The article discusses the paradox of AI making life easier while potentially hindering our cognitive abilities by reducing the need for problem-solving skills and critical thinking.\n",
       "- Studies indicate that increased reliance on AI tools can correlate with cognitive atrophy, as users bypass traditional memory and computation tasks, leading to underactive cognitive functions.\n",
       "- While AI offers significant benefits in various fields, the need for a balance between using technology and engaging our brains is emphasized to avoid losing essential skills. \n",
       "\n"
      ],
      "text/plain": [
       "<IPython.core.display.Markdown object>"
      ]
     },
     "metadata": {},
     "output_type": "display_data"
    },
    {
     "data": {
      "text/markdown": [
       "[82. Inside the inaugural Culver Cup, a generative AI film competition sponsored by AWS and FBRC.ai giving filmmakers AI tools and three weeks to submit a short (Marah Eakin/Wired) - Wired](https://www.wired.com/story/filmmakers-are-worried-about-ai-big-tech-wants-them-to-see-whats-possible/)  \n",
       "\n",
       " AI Tools, Aws, Entertainment, Fbrc.AI, Film Competition, Filmmakers, Funding, Gen AI, Generative AI, Hollywood, Language Models, Tv & Film & Movies  \n",
       "\n",
       "- Filmmakers expressed mixed feelings about AI following the Hollywood strikes, with some fearing its impact while others sought to explore its potential through competitions like the inaugural Culver Cup sponsored by FBRC.AI and Amazon Web Services.\n",
       "- The competition showcased generative AI's ability to assist independent filmmakers by automating processes, despite concerns over legal and ethical implications, indicating a potential shift in Hollywood's traditional production model.\n",
       "- Industry leaders acknowledge the potential for job displacement due to generative AI, while also hoping it could foster diverse projects and new career opportunities, highlighting a contentious debate over the technology's impact on the film industry. \n",
       "\n"
      ],
      "text/plain": [
       "<IPython.core.display.Markdown object>"
      ]
     },
     "metadata": {},
     "output_type": "display_data"
    },
    {
     "data": {
      "text/markdown": [
       "[83. The Return of Nuclear Energy Thanks to the AI Revolution - Greek Reporter](https://greekreporter.com/2024/10/19/the-return-of-nuclear-energy-thanks-to-the-ai-revolution/)  \n",
       "\n",
       " Climate, Energy, Gen AI, Nuclear, Nuclear Energy, Revolution, Science, Sustainability  \n",
       "\n",
       "- Tech giants like Amazon, Microsoft, and Google are increasingly turning to nuclear energy to power their AI data centers, recognizing the substantial energy demands of artificial intelligence.\n",
       "- Microsoft has secured a deal with Constellation for the exclusive use of a reactor at Three Mile Island, while Google and Amazon are collaborating with other nuclear operators for their energy needs.\n",
       "- This shift towards nuclear power helps these companies meet rising energy demands while aiming to reduce their carbon emissions compared to traditional energy sources. \n",
       "\n"
      ],
      "text/plain": [
       "<IPython.core.display.Markdown object>"
      ]
     },
     "metadata": {},
     "output_type": "display_data"
    },
    {
     "data": {
      "text/markdown": [
       "[84. Google licences diabetic retinopathy AI model to partners in APAC - Yahoo Finance](https://finance.yahoo.com/news/google-licences-diabetic-retinopathy-ai-150335183.html)  \n",
       "\n",
       " AI Model, Apac, Computer Vision, Deals, Diabetic Retinopathy, Facial Recognition, Gen AI, Google, Health & Fitness, Healthcare, India, Intellectual Property, Language Models, Licensing, Products, Science, Testing  \n",
       "\n",
       "- Google Health has licensed its diabetic retinopathy AI model, Automated Retinal Disease Assessment (ARDA), to Forus Health, AuroLab, and Perceptra for use in India and Thailand, aiming for six million AI-assisted screenings at no cost to patients.\n",
       "- The partners will work on obtaining local regulatory approvals to integrate the AI model into clinical care systems, with additional collaboration involving Thailand’s Ministry of Public Health for research on the technology's implementation.\n",
       "- ARDA has been developed based on over 100,000 retinal scans and aims to improve detection of diabetic retinopathy, with potential future applications for other retinal diseases. \n",
       "\n"
      ],
      "text/plain": [
       "<IPython.core.display.Markdown object>"
      ]
     },
     "metadata": {},
     "output_type": "display_data"
    },
    {
     "data": {
      "text/markdown": [
       "[85. The HackerNoon Newsletter: The Paradox of AI: If It Cant Replace us, Is It Making Us Dumber?  (10/18/2024) - Hacker Noon](https://hackernoon.com/10-18-2024-newsletter)  \n",
       "\n",
       " Cognitive Science, Consciousness, Gen AI, Hackernoon, Intelligence, Opinion, Paradox, Society & Culture  \n",
       "\n",
       "- The HackerNoon newsletter highlights tech developments, including a discussion on AI's impact on cognitive abilities, questioning whether it makes life easier or detracts from our intelligence.\n",
       "- Notable anniversaries mentioned include the U.S. taking possession of Alaska in 1867 and the Clean Water Act becoming law in 1972.\n",
       "- The newsletter features top stories, including the introduction of the Mixtral language model and an invitation to participate in an AI-chatbot contest. \n",
       "\n"
      ],
      "text/plain": [
       "<IPython.core.display.Markdown object>"
      ]
     },
     "metadata": {},
     "output_type": "display_data"
    },
    {
     "data": {
      "text/markdown": [
       "[86. Terray Therapeutics, which uses AI to accelerate small-molecule drug development, raised a \\\\$120M Series B led by Bedford Ridge Capital and Nvidia's NVentures - SiliconANGLE](https://siliconangle.com/2024/10/17/terray-therapeutics-rakes-120m-ai-powered-small-molecule-drug-development/)  \n",
       "\n",
       " Deals, Drug Development, Economics, Finance, Funding, Gen AI, Health & Fitness, Healthcare, Nvidia, Products, Science, Semiconductor Chips, Stocks, Terray Therapeutics, Venture Capital  \n",
       "\n",
       "- Terray Therapeutics has secured \\\\$120 million in a Series B funding round to enhance its AI platform for small-molecule drug development, bringing its total funding to over \\\\$200 million.\n",
       "- The investment round was led by new investor Bedford Ridge Capital and existing investor NVentures, with contributions from several other venture firms.\n",
       "- The funds will be used to advance Terray's AI-driven drug discovery processes, including its generative AI model tNova, and to progress its internal immunology programs toward clinical trials. \n",
       "\n"
      ],
      "text/plain": [
       "<IPython.core.display.Markdown object>"
      ]
     },
     "metadata": {},
     "output_type": "display_data"
    },
    {
     "data": {
      "text/markdown": [
       "[87. I created an AI clone of myself and the result was unintentionally hilarious - TechRadar](https://www.techradar.com/computing/artificial-intelligence/i-created-an-ai-clone-of-myself-and-the-result-was-unintentionally-hilarious)  \n",
       "\n",
       " Clone, Entertainment, Gen AI, Humor, Opinion, Society & Culture  \n",
       "\n",
       "- The author created an AI clone of himself using Character.ai, which resulted in humorous and unexpected interactions, such as misgendering colleagues and making absurd claims.  \n",
       "- Character.ai allows users to create chatbot versions of themselves with minimal information, leading to a mix of accurate and wildly incorrect portrayals.  \n",
       "- The process of setting up the AI version is simple and free, but users are advised to keep their clones unlisted for privacy. \n",
       "\n"
      ],
      "text/plain": [
       "<IPython.core.display.Markdown object>"
      ]
     },
     "metadata": {},
     "output_type": "display_data"
    },
    {
     "data": {
      "text/markdown": [
       "[88. Phase 3 AI Will Make Chatbots Look Like Dial-Up Internet - Here's How to Prepare Your Business Now! - Entrepreneur](https://www.entrepreneur.com/business-news/phase-3-ai-will-make-chatbots-look-like-dial-up-internet/481494)  \n",
       "\n",
       " Business Preparation, Chatbots, Customer Service, Economics, Gen AI, Job Automation, Phase 3 AI, Virtual Assistants  \n",
       "\n",
       "- By 2025, businesses must prepare for the significant impact of Phase 3 AI, which could drastically change the competitive landscape.  \n",
       "- Companies unprepared for this AI revolution risk losing customers who opt for AI solutions over traditional services.  \n",
       "- Strategies to leverage AI for business success are essential, as failure to adapt could threaten operational viability.   \n",
       "\n"
      ],
      "text/plain": [
       "<IPython.core.display.Markdown object>"
      ]
     },
     "metadata": {},
     "output_type": "display_data"
    },
    {
     "data": {
      "text/markdown": [
       "[89. Enhanced climate change resilience on wheat anther morphology using optimized deep learning techniques - Nature](https://www.nature.com/articles/s41598-024-74875-7)  \n",
       "\n",
       " Agriculture, Climate, Climate Change, Computer Vision, Deep Learning, Energy, Morphology, Science, Sustainability, Wheat  \n",
       "\n",
       "- This research investigates the effects of heat stress on wheat anther morphology and employs deep learning techniques to assess differences among wheat varieties, specifically focusing on shape and size measures of anthers.\n",
       "- Using high-resolution images and deep learning algorithms like CNN, LeNet, and Inception-V3, the study finds significant variations in anther dimensions, with LeNet outperforming other models in classifying records at an accuracy of 96%.\n",
       "- The findings highlight the potential for integrating advanced analytics into agricultural practices to enhance plant breeding and improve resilience against climate change stresses in wheat crops. \n",
       "\n"
      ],
      "text/plain": [
       "<IPython.core.display.Markdown object>"
      ]
     },
     "metadata": {},
     "output_type": "display_data"
    },
    {
     "data": {
      "text/markdown": [
       "[90. It's not even Halloween, but AI is already getting spooky - Laptop Mag](https://www.laptopmag.com/ai/its-not-even-halloween-but-ai-is-already-getting-spooky)  \n",
       "\n",
       " AI Doom, Halloween, Spooky  \n",
       "\n",
       "- AI technology is creatively interacting with Halloween themes, including a pet collar that claims to translate pets' thoughts using AI.\n",
       "- The UK's Cambridge University Museum of Zoology plans to showcase AI-generated \"Zoombies\" that allow visitors to interact with the digital representations of extinct or endangered animals.\n",
       "- Major tech companies are exploring nuclear power to meet the significant energy demands of AI applications, raising concerns about their reliability and safety. \n",
       "\n"
      ],
      "text/plain": [
       "<IPython.core.display.Markdown object>"
      ]
     },
     "metadata": {},
     "output_type": "display_data"
    },
    {
     "data": {
      "text/markdown": [
       "[91. Meta AI in WhatsApp may soon remember your likes and dislikes - Android Authority](https://www.androidauthority.com/meta-ai-whatsapp-memory-3492224/)  \n",
       "\n",
       " Chatbots, Cognitive Science, Customer Service, Dislikes, Gen AI, Likes, Meta AI, Privacy, Privacy & Surveillance, Recommendation Systems, User Preferences, Virtual Assistants, Whatsapp  \n",
       "\n",
       "- WhatsApp is developing a Memory feature for Meta AI that will allow it to remember user preferences and offer personalized responses.\n",
       "- The feature will let users view and manage what the AI remembers, including food preferences and birthdays, with the ability to update or remove details at any time.\n",
       "- Although the Memory feature was spotted in the WhatsApp beta for Android, it is not yet available to users, and Meta has not confirmed its release timeline. \n",
       "\n"
      ],
      "text/plain": [
       "<IPython.core.display.Markdown object>"
      ]
     },
     "metadata": {},
     "output_type": "display_data"
    },
    {
     "data": {
      "text/markdown": [
       "[92. Meta Releases AI Model That Can Check Other AI Models' Work - www.gadgets360.com](https://www.gadgets360.com/ai/news/meta-ai-release-check-other-models-work-6823539)  \n",
       "\n",
       " AI Model, Code Assistants, Cognitive Science, Gen AI, Language Models, Meta, Model Evaluation, Products, Review, Safety And Alignment, Science, Testing  \n",
       "\n",
       "- Meta has released a new AI model called \"Self-Taught Evaluator\" aimed at improving AI development by reducing the reliance on human input.\n",
       "- The model utilizes a \"chain of thought\" technique similar to that in OpenAI's o1 models, enhancing the accuracy of responses to complex problems.\n",
       "- This development may pave the way for autonomous AI agents capable of self-evaluation and improvement, moving away from traditional reinforcement learning methods that depend on human feedback. \n",
       "\n"
      ],
      "text/plain": [
       "<IPython.core.display.Markdown object>"
      ]
     },
     "metadata": {},
     "output_type": "display_data"
    },
    {
     "data": {
      "text/markdown": [
       "[93. Agent-as-a-Judge: An Advanced AI Framework for Scalable and Accurate Evaluation of AI Systems Through Continuous Feedback and Human-level Judgments - MarkTechPost](https://www.marktechpost.com/2024/10/18/agent-as-a-judge-an-advanced-ai-framework-for-scalable-and-accurate-evaluation-of-ai-systems-through-continuous-feedback-and-human-level-judgments/)  \n",
       "\n",
       " Artificial General Intelligence, Bias And Fairness, Cognitive Science, Ethics, Evaluation, Feedback, Framework, Gen AI, Human-Level Judgments, Language Models, Reinforcement Learning, Retrieval Augmented Generation, Review, Safety And Alignment, Science, Testing  \n",
       "\n",
       "- The Agent-as-a-Judge framework provides a scalable and efficient method for evaluating agentic AI systems by offering continuous feedback throughout the task-solving process, significantly improving accuracy and reducing reliance on human evaluation.\n",
       "- The new benchmark, DevAI, includes 55 realistic AI development tasks designed to assess agentic systems comprehensively, highlighting their capabilities across various stages of problem-solving.\n",
       "- Results show that Agent-as-a-Judge achieved 90% alignment with human evaluators, reduced evaluation time by 97.72%, and costs by 97.64%, illustrating its effectiveness as a cost-efficient alternative to traditional evaluation methods. \n",
       "\n"
      ],
      "text/plain": [
       "<IPython.core.display.Markdown object>"
      ]
     },
     "metadata": {},
     "output_type": "display_data"
    },
    {
     "data": {
      "text/markdown": [
       "[94. Meta Extends Pilot Program for AI Video Creation Tools into 2025 - Yahoo Finance](https://finance.yahoo.com/news/meta-extends-pilot-program-ai-210942397.html)  \n",
       "\n",
       " 2025, AI Video Creation, Entertainment, Funding, Gen AI, Meta, Pilot Program, Products, Testing, Tv & Film & Movies  \n",
       "\n",
       "- Meta has extended the pilot program for its AI video creation tool, Meta Movie Gen, until 2025 to gather feedback from the creative community before its public release.\n",
       "- The Movie Gen technology allows users to create high-definition 1080p films using basic text cues, with collaborations involving notable artists and production companies like Blumhouse.\n",
       "- Meta emphasizes ethical development and open communication with artists throughout the trial, which aims to enhance creative processes and benefit digital-first content producers. \n",
       "\n"
      ],
      "text/plain": [
       "<IPython.core.display.Markdown object>"
      ]
     },
     "metadata": {},
     "output_type": "display_data"
    },
    {
     "data": {
      "text/markdown": [
       "[95. Perplexity AI Can Help You Make Millions, or Even Billions of Dollars - Google News](https://news.google.com/read/CBMivAFBVV95cUxPem51Rk1UM1dJTHNDTmVxcFlvRTc3SzRJWHRrT05TbnA4amtKcmVzaXBiWE5tc0VhQmdkekFDMG56RENzWDBFYTFpWFg3eVZ4Mnd3SDhSMnVKXzFqY05uU1hWQWlBTVB4b1N2MDJzemN4SXZpb0tBUV9LZGZnNVVPeFl2alJmNHBOX1YwT0lTVUQxa3NzT2pEQkh1UjJMUm5VMldJM29DOWFmNWxTcDBYRy1jWjh1cDU2X0NyYg)  \n",
       "\n",
       " Business, Deals, Economics, Finance, Financial Success, Fintech, Funding, Gen AI, Jobs & Careerslabor Market, Perplexity, Products, Stocks, Venture Capital  \n",
       "\n",
       "- Perplexity AI is launching new services for enterprise customers, including a knowledge search platform and financial information tools, aimed at enhancing financial decision-making through informed data access.  \n",
       "- The company introduced Perplexity for Finance, which offers real-time stock quotes and comprehensive company financial analysis, anticipating significant financial impacts for users.  \n",
       "- Perplexity AI positions itself as a potential disruptor in capital market research, drawing comparisons to Bloomberg Terminal, while facing competition from other financial institutions developing their own generative AI tools.   \n",
       "\n"
      ],
      "text/plain": [
       "<IPython.core.display.Markdown object>"
      ]
     },
     "metadata": {},
     "output_type": "display_data"
    },
    {
     "data": {
      "text/markdown": [
       "[96. Former OpenAI technology chief Mira Murati to raise capital for new AI startup, sources say - Google News](https://news.google.com/read/CBMi5AFBVV95cUxQMHN1YUdxSlFzMURxNEMyellUblRvUzF4dGlyamR3VkFwU0RTUHVGRV83c1Jaa01OQUptUlBEdDlsaUxqcE04TWJhTWZaNGJmWmJReDI3UUNfRkZ0UkNZR0NRc1pyX3poYzY3VXEyRFROR1BPQWYwYU9CR0s0Y3ZlbEx6eWIzTkdkUHk4NE55RE1JTmd5Yzl1cEhtMzB3YUlGV2MwVngteV9KNUI3VXdxRzU3QnFINlMwRnBkUUFWSzZvTzkySHduRWtsWEVsLWdZbFpUcnRrZlh2UkszREtpa0R5Q28)  \n",
       "\n",
       " Capital Raising, Deals, Economics, Finance, Funding, Gen AI, Jobs & Careerslabor Market, Mira Murati, Open Source, OpenAI, Startup, Venture Capital  \n",
       "\n",
       "- Mira Murati, former CTO of OpenAI, is seeking to raise over \\\\$100 million for her new AI startup, focusing on proprietary AI models.\n",
       "- The early-stage venture may also involve Barret Zoph, another former OpenAI researcher, as Murati recruits former OpenAI employees.\n",
       "- Murati's departure from OpenAI follows her significant contributions to projects like ChatGPT and her brief role as interim CEO amidst governance changes at the company. \n",
       "\n"
      ],
      "text/plain": [
       "<IPython.core.display.Markdown object>"
      ]
     },
     "metadata": {},
     "output_type": "display_data"
    },
    {
     "data": {
      "text/markdown": [
       "[97. Google's viral AI podcast tool just got more useful - Business Insider](https://www.businessinsider.com/google-notebooklm-ai-podcast-tool-customize-feature-update-2024-10)  \n",
       "\n",
       " AI Podcast, Gen AI, Google, Music, Products, Review, Tool, Utility  \n",
       "\n",
       "- Google's AI podcast tool, NotebookLM, has introduced customizable instructions, allowing users to guide conversations more specifically based on uploaded content.\n",
       "- The tool's Audio Overview feature has gained popularity, prompting updates based on user feedback, including the ability to listen while working in NotebookLM.\n",
       "- A business version of NotebookLM is in development, with users able to apply for early access, and the product has officially shed its \"Experimental\" label amid growing user engagement. \n",
       "\n"
      ],
      "text/plain": [
       "<IPython.core.display.Markdown object>"
      ]
     },
     "metadata": {},
     "output_type": "display_data"
    },
    {
     "data": {
      "text/markdown": [
       "[98. Southeast Asia reiterates pledge to collaborate amid growing cyber threats in AI era - ZDNet](https://www.zdnet.com/article/southeast-asia-reiterates-pledge-to-collaborate-amid-growing-cyber-threat-in-ai-era/#ftag=RSSbaffb68)  \n",
       "\n",
       " AI Threats, Collaboration, Cybersecurity, Gen AI, Governance, Safety And Alignment, Southeast Asia  \n",
       "\n",
       "- ASEAN member states launched a new physical Cyber Emergency Response Team (CERT) in Singapore to enhance regional cyberdefense collaboration amid rising cyber threats, funded for up to 10 years at an estimated cost of \\\\$10.1 million.\n",
       "- Ministers highlighted the growing challenges of cybercrime, particularly from ransomware groups, and emphasized the importance of international cooperation and trust within the digital ecosystem to address these issues.\n",
       "- Malaysia announced plans to enhance digital trust through the introduction of a National AI Office to develop safeguards for ethical AI practices and a Data Sharing Bill to create a framework for public sector data sharing. \n",
       "\n"
      ],
      "text/plain": [
       "<IPython.core.display.Markdown object>"
      ]
     },
     "metadata": {},
     "output_type": "display_data"
    },
    {
     "data": {
      "text/markdown": [
       "[99. Google Unveils Sample What You Cant Compress in AIA Game-Changer in High-Fidelity Image Compression - MarkTechPost](https://www.marktechpost.com/2024/10/19/google-unveils-sample-what-you-cant-compress-in-ai-a-game-changer-in-high-fidelity-image-compression/)  \n",
       "\n",
       " Art & Design, Computer Vision, Gen AI, Google, Hardware, High-Fidelity, Image Compression, Intellectual Property, Products, Science  \n",
       "\n",
       "- Google has introduced a new image compression method called \"Sample What You Can’t Compress\" (SWYCC), which combines autoencoder-based representation learning with diffusion models for high-quality image reconstructions.\n",
       "- SWYCC addresses limitations of traditional GAN-based methods by allowing for stochastic decoding, producing multiple varied outputs from a single latent representation while improving the quality and scalability of generated images.\n",
       "- The new method outperforms existing GAN-based autoencoders, achieving lower perceptual distortion and preserving high-frequency details even at high compression ratios, making it a significant advancement in AI-driven generative models. \n",
       "\n"
      ],
      "text/plain": [
       "<IPython.core.display.Markdown object>"
      ]
     },
     "metadata": {},
     "output_type": "display_data"
    },
    {
     "data": {
      "text/markdown": [
       "[100. The 3 major decisions the next Congress must make about AI policy - The Hill](https://thehill.com/opinion/technology/4939175-ai-regulatory-limbo-congress)  \n",
       "\n",
       " AI Policy, Bias And Fairness, Congress, Decisions, Ethics, Gen AI, Governance, Job Automation, Legislation, Opinion, Policy And Regulation, Politics, Safety And Alignment  \n",
       "\n",
       "- Congress has failed to enact significant AI policy despite over 100 related bills introduced, raising concerns about unchecked AI proliferation and regulatory chaos.\n",
       "- A majority of Americans feel that elected officials are not adequately addressing technology-related issues, leading to fears of AI-powered discrimination and fraud.\n",
       "- The upcoming Congress faces critical decisions regarding AI regulation, including what values to prioritize, whether to focus on long-term risks or existing harms, and the potential establishment of a new regulatory agency. \n",
       "\n"
      ],
      "text/plain": [
       "<IPython.core.display.Markdown object>"
      ]
     },
     "metadata": {},
     "output_type": "display_data"
    },
    {
     "data": {
      "text/markdown": [
       "[101. InnoTech Forum: Hong Kong can evolve into an AI applications development hub - South China Morning Post](https://www.scmp.com/tech/tech-trends/article/3283002/innotech-forum-hong-kong-has-potential-become-ai-applications-development-hub)  \n",
       "\n",
       " Applications Development, China, Gen AI, Hong Kong, Hub, Korea  \n",
       "\n",
       "- The InnoTech Forum emphasized Hong Kong's potential as an AI development hub, supported by increased government subsidies and plans for AI supercomputing centers to meet a projected demand of 15,000 petaflops by 2030.\n",
       "- Experts highlighted the need for further investment in computing resources and a shift in focus from training AI models to their practical application, aiming for widespread adoption in households and businesses.\n",
       "- Challenges remain in attracting global talent and fostering demand for innovative AI applications, with the city seen as a key connector between China and international markets. \n",
       "\n"
      ],
      "text/plain": [
       "<IPython.core.display.Markdown object>"
      ]
     },
     "metadata": {},
     "output_type": "display_data"
    },
    {
     "data": {
      "text/markdown": [
       "[102. Father Disgusted to Find His Murdered Daughter Was Brought Back as an AI - Futurism](https://futurism.com/murdered-daughter-brought-back-as-ai)  \n",
       "\n",
       " AI Doom, Artificial General Intelligence, Consciousness, Daughter, Emotional Impact, Entertainment, Ethics, Gen AI, Murder, Opinion, Robots, Safety And Alignment, Singularity, Society & Culture  \n",
       "\n",
       "- Drew Crecente discovered an AI chatbot impersonating his murdered daughter, Jennifer, on Character.AI, prompting outrage over the use of her likeness without consent.\n",
       "- The chatbot inaccurately presented itself as a video game journalist, confusing Jennifer's identity with her uncle, further distressing her family.\n",
       "- Character.AI removed the bot after being notified, raising ethical questions about the platform's policies on impersonation and its reliance on victims to police misuse. \n",
       "\n"
      ],
      "text/plain": [
       "<IPython.core.display.Markdown object>"
      ]
     },
     "metadata": {},
     "output_type": "display_data"
    },
    {
     "data": {
      "text/markdown": [
       "[103. AI humanoid robot defends criticism that she can't be artistic - CNN](https://www.cnn.com/2024/10/18/science/video/ai-humanoid-robot-painting-stewart-contd-digvid)  \n",
       "\n",
       " Art & Design, Artificial General Intelligence, Artistic Criticism, Consciousness, Entertainment, Gen AI, Hardware, Humanoid Robot, Robotics, Robots, Science, Singularity, Society & Culture  \n",
       "\n",
       "- An AI humanoid robot is defending itself against criticism regarding its artistic capabilities.\n",
       "- Art created by this robot's artificial intelligence is set to be auctioned by Sotheby’s.\n",
       "- The report discusses the implications of this development for the future of AI in art. \n",
       "\n"
      ],
      "text/plain": [
       "<IPython.core.display.Markdown object>"
      ]
     },
     "metadata": {},
     "output_type": "display_data"
    },
    {
     "data": {
      "text/markdown": [
       "[104. OpenAIs revolving door risk factor - Google News](https://news.google.com/read/CBMidEFVX3lxTE1zOTRXWHdXTFIxX0RUODVZd04wd19tTXE5TW5jMUhiZUNVTV9BbVRXbzZYTWN4N1F2R0ZkZDR0bVNNanA0U0NGM0p6ZDItZ3N3MFl6UGdsaGQ1QW9PMjBTaC1mb2h3T040V1owckxCWm9NMTV0)  \n",
       "\n",
       " Bias And Fairness, Ethics, Governance, OpenAI, Policy And Regulation, Politics, Privacy & Surveillance, Revolving Door, Risk Factor, Safety And Alignment  \n",
       "\n",
       "- OpenAI faces employee retention challenges after the departure of CTO Mira Murati, who is reportedly attempting to recruit current employees for her next venture amidst a leadership shakeup.\n",
       "- Apple is set to launch a \\\\$2,000 version of its Vision augmented reality headset, omitting some features to make it more affordable as it competes with lower-priced alternatives from Meta.\n",
       "- SpaceX successfully caught its Super Heavy booster using a robotic arm during its fifth launch, marking a significant milestone for rocket reusability. \n",
       "\n"
      ],
      "text/plain": [
       "<IPython.core.display.Markdown object>"
      ]
     },
     "metadata": {},
     "output_type": "display_data"
    },
    {
     "data": {
      "text/markdown": [
       "[105. OpenAIs research organization in upheaval, The Information reports - Google News](https://news.google.com/read/CBMipgFBVV95cUxPTllrZnJobEJpcjFTeldTU0dDUDBsT2FhdzUySnl0QmNNbGlkMnFGS29Xb3Bhb2N6S184ZTA3LW5pRGRIeGU4QU80VHhiRjE2dDZhci15NWNPcGF5REY0TGR2QmNPZmVwRlBDMEFCeVJzOVBESXhsRXAydDdVZU9XUFluemJhbTZxSWNGcVQyQjBNZnhmaS05cmp6ZUhVTTB1bklJLVlR)  \n",
       "\n",
       " Artificial General Intelligence, Governance, News, OpenAI, Policy And Regulation, Politics, Research Organization, Upheaval  \n",
       "\n",
       "- OpenAI's research organization is currently in turmoil following the promotion of Liam Fedus to lead post-training, leading to several researchers requesting team changes.\n",
       "- Former CTO Mira Murati, who resigned recently, is reportedly discussing her next venture with OpenAI employees.\n",
       "- Investors in OpenAI include prominent firms such as Microsoft, Thrive Capital, Khosla Ventures, Fidelity Management, Nvidia, and SoftBank. \n",
       "\n"
      ],
      "text/plain": [
       "<IPython.core.display.Markdown object>"
      ]
     },
     "metadata": {},
     "output_type": "display_data"
    },
    {
     "data": {
      "text/markdown": [
       "[106. AI for business process intelligence: A sneak peak at Celosphere 2024 - SiliconANGLE](https://siliconangle.com/2024/10/18/ai-process-intelligence-celonis-automation-celosphere)  \n",
       "\n",
       " Business Process Intelligence, Celosphere 2024, Gen AI, Science  \n",
       "\n",
       "- Celonis is leveraging AI to optimize business processes, unify data, and improve performance, particularly in the context of process intelligence.  \n",
       "- A recent survey revealed that 72% of business leaders have concerns about process inadequacies hampering AI success, prompting Celonis to enhance its platform to address these challenges.  \n",
       "- The company is invested in developing agentic AI to integrate legacy systems with modern data modalities, improving collaboration and refining organizational business processes over time.   \n",
       "\n"
      ],
      "text/plain": [
       "<IPython.core.display.Markdown object>"
      ]
     },
     "metadata": {},
     "output_type": "display_data"
    },
    {
     "data": {
      "text/markdown": [
       "[107. Nobel Prizes and AI: The Promise, the Peril, and the Path Forward  Communications of the ACM - ACM Communications](https://cacm.acm.org/blogcacm/nobel-prizes-and-ai-the-promise-the-peril-and-the-path-forward/)  \n",
       "\n",
       " AI Doom, Cognitive Science, Ethics, Gen AI, Nobel Prizes, Opinion, Path Forward, Peril, Promise, Safety And Alignment, Science, Society & Culture  \n",
       "\n",
       "- The Nobel Committee recognized contributions to AI and computing through awards to Demis Hassabis, Geoffrey Hinton, and Daron Acemoglu, highlighting the dual aspects of innovation and regulation in AI development.\n",
       "- Hassabis received the Chemistry prize for his AI model that predicts protein structures, while Hinton's Physics prize relates to his foundational work in machine learning and warnings about unregulated AI risks.\n",
       "- Acemoglu's Economic Sciences prize emphasizes the importance of institutions in ensuring that technological advancements benefit society, underscoring the need for governance in AI as 2024 brings significant regulatory developments. \n",
       "\n"
      ],
      "text/plain": [
       "<IPython.core.display.Markdown object>"
      ]
     },
     "metadata": {},
     "output_type": "display_data"
    },
    {
     "data": {
      "text/markdown": [
       "[108. Study In UK: University of Sheffield Invites International Students For MSc Artificial Intelligence, Offering 10,000 Scholarships For 2025 - MSN](https://www.msn.com/en-in/news/India/study-in-uk-university-of-sheffield-invites-international-students-for-msc-artificial-intelligence-offering-10-000-scholarships-for-2025/ar-AA1sxYzC)  \n",
       "\n",
       " Deals, Education, Funding, Gen AI, Inequality, International Students, Jobs & Careerslabor Market, Lifestyle & Travel, Msc, Scholarships, Science, Society & Culture, Uk, University Of Sheffield  \n",
       "\n",
       "- The University of Sheffield is accepting applications for its MSc Artificial Intelligence program scheduled to begin in September 2025.\n",
       "- The program offers £10,000 scholarships for international students.\n",
       "- The course focuses on both theoretical knowledge and practical skills related to artificial intelligence and big data. \n",
       "\n"
      ],
      "text/plain": [
       "<IPython.core.display.Markdown object>"
      ]
     },
     "metadata": {},
     "output_type": "display_data"
    },
    {
     "data": {
      "text/markdown": [
       "[109. Sources: former OpenAI CTO Mira Murati is raising funds for her new startup, which aims to build AI products based on proprietary models - Reuters](https://www.reuters.com/technology/artificial-intelligence/former-openai-technology-chief-mira-murati-raise-capital-new-ai-startup-sources-2024-10-18/)  \n",
       "\n",
       " AI Products, Deals, Economics, Finance, Funding, Fundraising, Gen AI, Intellectual Property, Language Models, Mira Murati, OpenAI, Products, Startup, Venture Capital  \n",
       "\n",
       "- No substantive news content available to summarize. \n",
       "\n"
      ],
      "text/plain": [
       "<IPython.core.display.Markdown object>"
      ]
     },
     "metadata": {},
     "output_type": "display_data"
    },
    {
     "data": {
      "text/markdown": [
       "[110. Solving complex problems with OpenAI o1 models - OpenAI](https://openai.com/business/solving-complex-problems-with-openai-o1-models/)  \n",
       "\n",
       " AI Models, Code Assistants, Gen AI, Language Models, OpenAI, Problem Solving, Science  \n",
       "\n",
       "- The video discusses the capabilities of OpenAI's o1 reasoning models in solving complex problems.\n",
       "- These models can be applied in various domains including coding, strategy, and research.\n",
       "- The content primarily focuses on how the o1 models enhance problem-solving efficiency in these fields. \n",
       "\n"
      ],
      "text/plain": [
       "<IPython.core.display.Markdown object>"
      ]
     },
     "metadata": {},
     "output_type": "display_data"
    },
    {
     "data": {
      "text/markdown": [
       "[111. SentinelOne, Inc. (S) Upgraded by Piper Sandler as AI-Powered Purple AI Platform Drives Q2 Outperformance and Market Share Gains - Yahoo Finance](https://finance.yahoo.com/news/sentinelone-inc-upgraded-piper-sandler-212814293.html)  \n",
       "\n",
       " Cybersecurity, Economics, Finance, Gen AI, Market Performance, Piper Sandler, Products, Sentinelone, Stocks  \n",
       "\n",
       "- SentinelOne, Inc. has been upgraded by Piper Sandler from \"Neutral\" to \"Overweight,\" with a price target increase from \\\\$25 to \\\\$32, attributed to strong performance from its AI-powered Purple AI platform in Q2.\n",
       "- The S&P 500 is projected to reach 6,000 by year-end, driven by optimism in the AI sector and resilient corporate earnings, despite potential risks from ongoing geopolitical conflicts and economic pressures.\n",
       "- The AI semiconductor industry is anticipated to grow to \\\\$168 billion by the end of the year, emphasizing the significance of continued innovation and investment in AI technology. \n",
       "\n"
      ],
      "text/plain": [
       "<IPython.core.display.Markdown object>"
      ]
     },
     "metadata": {},
     "output_type": "display_data"
    },
    {
     "data": {
      "text/markdown": [
       "[112. SentinelOne Expands Collaboration with AWS, Enhancing AI-Powered Cybersecurity Solutions - Yahoo Finance](https://finance.yahoo.com/news/sentinelone-expands-collaboration-aws-enhancing-210950914.html)  \n",
       "\n",
       " Aws, Collaboration, Cybersecurity, Gen AI, Products, Safety And Alignment, Sentinelone  \n",
       "\n",
       "- SentinelOne has expanded its strategic partnership with Amazon Web Services (AWS) to enhance AI-powered cybersecurity through Amazon Bedrock and AWS AI infrastructure, focusing on their Purple AI cybersecurity analyst.\n",
       "- The collaboration aims to improve threat detection, investigation efficiency, and response times, utilizing AWS's resources for training and tuning AI models on SentinelOne's Singularity Platform.\n",
       "- The partnership will also facilitate access to generative AI applications and prioritize security and ethical AI practices while making the Singularity Platform available in the AWS Marketplace for easier client procurement. \n",
       "\n"
      ],
      "text/plain": [
       "<IPython.core.display.Markdown object>"
      ]
     },
     "metadata": {},
     "output_type": "display_data"
    },
    {
     "data": {
      "text/markdown": [
       "[113. How Waymo is converting locals and attracting tourists in San Francisco to pull ahead in the robotaxi race, with ~300 vehicles in the city and global ambitions (Wall Street Journal) - The Wall Street Journal](https://www.wsj.com/tech/waymo-san-francisco-self-driving-robotaxis-uber-244feecf)  \n",
       "\n",
       " Autonomous Vehicles, Infrastructure, Job Automation, Lifestyle & Travel, Local Engagement, Robotaxi, Robots, Safety And Alignment, San Francisco, Society & Culture, Tourism, Transportation, Travel, Waymo  \n",
       "\n",
       "- San Francisco residents' sentiment towards self-driving cars has shifted from wanting to eliminate robotaxis to embracing them as a popular mode of transport for locals and tourists.\n",
       "- Tourists are now documenting their experiences with Waymo self-driving cars, highlighting their growing acceptance and integration into the city.\n",
       "- Increasing numbers of driverless cars are seen regularly picking up and dropping off passengers around key locations in San Francisco, such as the Ferry Building. \n",
       "\n"
      ],
      "text/plain": [
       "<IPython.core.display.Markdown object>"
      ]
     },
     "metadata": {},
     "output_type": "display_data"
    },
    {
     "data": {
      "text/markdown": [
       "[114. How can AI augment rather than dictate human action? This expert explains - World Economic Forum](https://www.weforum.org/agenda/2024/10/ai-augment-rather-than-dictate-human-action/)  \n",
       "\n",
       " AI Doom, Artificial General Intelligence, Augmentation, Bias And Fairness, Cognitive Science, Consciousness, Ethics, Expert Opinion, Gen AI, Human Action, Job Automation, Opinion, Reinforcement Learning, Retrieval Augmented Generation, Safety And Alignment, Science  \n",
       "\n",
       "- AI discussions at the World Economic Forum highlighted its potential to augment human action and transform the global economy, as presented by Professor Erik Brynjolfsson.\n",
       "- Brynjolfsson emphasized the need for task-based analysis to better manage AI's impact on jobs, urging senior managers and policymakers to track progress with new metrics.\n",
       "- He warned of a challenging decade ahead if institutions and decision-makers fail to adapt quickly to the ongoing technological transformation. \n",
       "\n"
      ],
      "text/plain": [
       "<IPython.core.display.Markdown object>"
      ]
     },
     "metadata": {},
     "output_type": "display_data"
    },
    {
     "data": {
      "text/markdown": [
       "[115. US Probes TSMC for Allegedly Helping Huawei Develop Smartphone, AI Chips for the Chinese Tech - Tech Times](https://www.techtimes.com/articles/307928/20241019/us-probes-tsmc-allegedly-helping-huawei-develop-smartphone-ai-chips-chinese-tech.htm)  \n",
       "\n",
       " AI Chips, China, Economics, Gen AI, Governance, Hardware, Huawei, Intellectual Property, Legal Issues, Policy And Regulation, Politics, Products, Semiconductor Chips, Smartphone, Taiwan, Tsmc, Us  \n",
       "\n",
       "- The US Department of Commerce is investigating TSMC for allegedly aiding Huawei in the development of new smartphone and AI chips, which may violate export controls.  \n",
       "- TSMC is suspected of circumventing US 5G export restrictions against Chinese companies, including Huawei.  \n",
       "- Despite US sanctions, Huawei has reported growth in its tech developments, raising concerns about its access to American technology.   \n",
       "\n"
      ],
      "text/plain": [
       "<IPython.core.display.Markdown object>"
      ]
     },
     "metadata": {},
     "output_type": "display_data"
    },
    {
     "data": {
      "text/markdown": [
       "[116. The Big TakeAI Detectors Falsely Accuse Students of CheatingWith Big ConsequencesAbout two-thirds of teachers report regularly using tools for detecting AI-generated content. At that scale, even tiny error rates can add up quickly. - Bloomberg](https://www.bloomberg.com/news/features/2024-10-18/do-ai-detectors-work-students-face-false-cheating-accusations)  \n",
       "\n",
       " AI Doom, Bias And Fairness, Cheating, Cognitive Science, Consequences, Detectors, Disinformation, Education, Ethics, Gen AI, Inequality, Language Models, Legal Issues, Opinion, Privacy, Privacy & Surveillance, Safety And Alignment, Society & Culture, Testing  \n",
       "\n",
       "- Two-thirds of teachers regularly use AI detection tools, which can falsely accuse students of cheating, causing significant anxiety and negative academic consequences.\n",
       "- Studies show that these tools often misidentify the work of neurodivergent students and nonnative English speakers as AI-generated due to their writing styles.\n",
       "- The growing reliance on AI detection software has heightened tensions in educational settings, with students taking extra precautions to avoid false accusations, complicating their learning experiences. \n",
       "\n"
      ],
      "text/plain": [
       "<IPython.core.display.Markdown object>"
      ]
     },
     "metadata": {},
     "output_type": "display_data"
    },
    {
     "data": {
      "text/markdown": [
       "[117. Why AI Success Still Appears So Elusive - Forbes](https://www.forbes.com/sites/joemckendrick/2024/10/19/why-ai-success-still-appears-so-elusive/)  \n",
       "\n",
       " Challenges, Gen AI, Opinion, Success  \n",
       "\n",
       "- A recent Deloitte survey indicates a decline in enthusiasm for generative AI among business leaders, with interest levels dropping significantly in recent months as many initiatives remain in the pilot phase.\n",
       "- Organizations are facing challenges in scaling AI efforts and measuring return on investment, primarily due to governance issues and talent shortages, while still exploring the potential business value of these technologies.\n",
       "- Successful AI implementation relies on selecting promising use cases, measuring performance against benchmarks, and fostering a culture of continuous improvement to maximize impact and maintain executive support. \n",
       "\n"
      ],
      "text/plain": [
       "<IPython.core.display.Markdown object>"
      ]
     },
     "metadata": {},
     "output_type": "display_data"
    },
    {
     "data": {
      "text/markdown": [
       "[118. Chinese AI groups get creative to drive down cost of models - Financial Times](https://www.ft.com/content/0a6da1bb-2bda-40f3-9645-97877eb0947c)  \n",
       "\n",
       " China, Chinese AI, Cost Reduction, Creativity, Economics, Finance, Gen AI, Korea, Language Models, Model Development, Policy And Regulation, Science  \n",
       "\n",
       "- Chinese AI companies, including 01.ai, Alibaba, and ByteDance, have successfully reduced 'inference' costs for their models.\n",
       "- These cost reductions come despite restrictions from Washington on accessing advanced semiconductor technology.\n",
       "- The innovations point to the adaptability and resourcefulness of the Chinese AI sector in response to external challenges. \n",
       "\n"
      ],
      "text/plain": [
       "<IPython.core.display.Markdown object>"
      ]
     },
     "metadata": {},
     "output_type": "display_data"
    },
    {
     "data": {
      "text/markdown": [
       "[119. A historical look at Microsoft's work in AI, from research to real-world applications, recent progress, competition, challenges, and the future (Todd Bishop/GeekWire) - GeekWire](https://www.geekwire.com/2024/ai-dreams-microsoft-50-chapter-1/)  \n",
       "\n",
       " Applications, Competition, Gen AI, History, Microsoft, Research, Science  \n",
       "\n",
       "- Microsoft's future success hinges on its ability to innovate in AI, following significant investments in AI infrastructure and partnerships, particularly with OpenAI, which have become essential to its growth strategy.\n",
       "- The company has been a pioneer in AI research since its inception, with a history of leveraging breakthroughs to enhance products like GitHub Copilot and cloud services, significantly impacting revenue.\n",
       "- Despite early achievements, Microsoft faces intensifying competition in AI from established rivals and startups, along with challenges related to customer satisfaction and sustainable practices. \n",
       "\n"
      ],
      "text/plain": [
       "<IPython.core.display.Markdown object>"
      ]
     },
     "metadata": {},
     "output_type": "display_data"
    },
    {
     "data": {
      "text/markdown": [
       "[120. Hopes and fears for AI at work - Rapid City Journal](https://rapidcityjournal.com/hopes-and-fears-for-ai-at-work/article_83e2b052-2175-5214-a1a0-2dfb094c9122.html)  \n",
       "\n",
       " AI Doom, Bias And Fairness, Concerns, Ethics, Gen AI, Impact, Inequality, Job Automation, Jobs & Careerslabor Market, Opinion, Safety And Alignment, Workplace  \n",
       "\n",
       "- A study by Slack identifies five AI personalities in the workplace: Maximalists, Underground, Rebels, Superfans, and Observers, highlighting varied attitudes towards AI among office workers.\n",
       "- Only 50% of respondents are categorized as Maximalists or Underground, indicating a challenge for businesses to encourage broader AI adoption among employees.\n",
       "- Concerns about job security and lack of clear guidelines from employers about AI use are prevalent, with the majority of desk workers lacking proper direction on how to integrate AI into their roles. \n",
       "\n"
      ],
      "text/plain": [
       "<IPython.core.display.Markdown object>"
      ]
     },
     "metadata": {},
     "output_type": "display_data"
    },
    {
     "data": {
      "text/markdown": [
       "[121. ChatGPT's Name Bias and Apple's Findings on AI's Lack of Reasoning - Medium](https://medium.com/@researchgraph/chatgpts-name-bias-and-apple-s-findings-on-ai-s-lack-of-reasoning-major-flaws-revealed-b4a44c27fd75)  \n",
       "\n",
       " AI Doom, Apple, Artificial General Intelligence, Bias And Fairness, Chatbots, Chatgpt, Cognitive Science, Consciousness, Disinformation, Ethics, Gen AI, Language Models, Legal Issues, Name Bias, Opinion, Privacy, Privacy & Surveillance, Reasoning, Safety And Alignment, Science, Society & Culture, Virtual Assistants  \n",
       "\n",
       "- A recent study by Apple reveals that large language models (LLMs), including advanced versions, struggle with mathematical reasoning, especially when irrelevant details are introduced, indicating a reliance on pattern matching rather than true understanding.\n",
       "- OpenAI's report highlights that ChatGPT's responses may vary based on the perceived gender, race, or cultural background of the user, suggesting potential bias derived from the training datasets; however, harmful stereotypes are present in only about 0.1% of cases.\n",
       "- Both studies emphasize significant limitations in LLMs regarding reasoning and bias, calling for improved evaluation frameworks and training methods to enhance AI reliability and fairness. \n",
       "\n"
      ],
      "text/plain": [
       "<IPython.core.display.Markdown object>"
      ]
     },
     "metadata": {},
     "output_type": "display_data"
    },
    {
     "data": {
      "text/markdown": [
       "[122. Ventura teen finds her voice lobbying for bill on AI child abuse - Google News](https://news.google.com/read/CBMirAFBVV95cUxQT1lXeW1fVEJ4emhmaGlUOEJqSkFtVVZaek9kNWhrQ0JpMjFvbVdQdGxpeUFpcUptUS1HeUQydEwxWWpoeHN2SkZyNGl5YlplYWlTOE52TUUzSWlFNmJFenlKeGJKNlVvSlI4eG9zT0NaWVE3bDVRSlliWHhuNW1VWnpKWlZ4SXRIeFp4MmZzMk9hM2hOMGRYNU9RMkJRY3ZyNUJjckFIS080Sjd4)  \n",
       "\n",
       " AI Doom, Bias And Fairness, Child Abuse, Cognitive Science, Consciousness, Deepfakes, Ethics, Gen AI, Governance, Inequality, Legal Issues, Legislation, Lobbying, Opinion, Policy And Regulation, Politics, Privacy, Privacy & Surveillance, Safety And Alignment, Society & Culture, Ventura  \n",
       "\n",
       "- Kaylin Hayman, a 17-year-old survivor of child sexual abuse related to AI-generated images, played a key role in lobbying for California's Assembly Bill 1831, which bans such images.\n",
       "- The bill, signed by Governor Gavin Newsom, marks California as the 16th state to outlaw AI-generated child sexual abuse images, with enforcement starting January 1.\n",
       "- Kaylin testified three times in support of the bill, highlighting the dangers of AI exploitation and her determination to advocate for other victims of this crime. \n",
       "\n"
      ],
      "text/plain": [
       "<IPython.core.display.Markdown object>"
      ]
     },
     "metadata": {},
     "output_type": "display_data"
    },
    {
     "data": {
      "text/markdown": [
       "[123. Congressional leaders negotiating potential lame-duck deal to address AI concerns - Google News](https://news.google.com/read/CBMieEFVX3lxTE14UWN3MjZ3OEZnTU00STFLUUZwRUVMbFRyR2U1OWJEMTVUanFZRUc4UEZuNjI4MDRqRm81YmdZRExSU2FvbzlUaFNTNzNZMXRSU2R0LVh1NUl0NUEyZ3JjWHVSX1laQmFHRElYUUFUbjlfT3pHeFBNMA)  \n",
       "\n",
       " AI Concerns, AI Doom, Bias And Fairness, Congress, Deals, Ethics, Gen AI, Governance, Job Automation, Legal Issues, Negotiation, Opinion, Policy, Policy And Regulation, Politics, Privacy, Privacy & Surveillance, Safety And Alignment, Science  \n",
       "\n",
       "- Congressional leaders are negotiating a potential lame-duck deal to address concerns related to artificial intelligence (AI) before the new congressional term begins in January.\n",
       "- The discussions are focusing on bipartisan initiatives for AI research and workforce training, but challenges remain regarding contentious topics like misinformation and national security.\n",
       "- The outcome of negotiations may be influenced by the results of the upcoming elections and internal party dynamics, particularly regarding the House GOP's leadership and the stance of presidential candidates on AI regulation. \n",
       "\n"
      ],
      "text/plain": [
       "<IPython.core.display.Markdown object>"
      ]
     },
     "metadata": {},
     "output_type": "display_data"
    },
    {
     "data": {
      "text/markdown": [
       "[124. PennWest launches Center for Artificial Intelligence and Emerging Technologies - Yahoo News](https://news.yahoo.com/news/tech/pennwest-launches-center-artificial-intelligence-134600528.html)  \n",
       "\n",
       " Center For Artificial Intelligence, Cognitive Science, Education, Emerging Technologies, Funding, Gen AI, Pennwest, Science  \n",
       "\n",
       "- Pennsylvania Western University is launching the PennWest Center for Artificial Intelligence and Emerging Technologies in spring, focusing on workforce preparation and the responsible use of AI.\n",
       "- The center will provide tools, knowledge, and training for faculty and students to integrate AI into education while fostering collaboration with community partners to address challenges presented by AI.\n",
       "- Camille Dempsey, an expert in AI and education technology, will serve as the inaugural director, highlighting the university's commitment to leveraging local AI talent for community benefits. \n",
       "\n"
      ],
      "text/plain": [
       "<IPython.core.display.Markdown object>"
      ]
     },
     "metadata": {},
     "output_type": "display_data"
    },
    {
     "data": {
      "text/markdown": [
       "[125. Ransomware protection: AI and strategies to combat rising threats - SiliconANGLE](https://siliconangle.com/2024/10/18/ransomware-protection-ai-strategies-rising-cyber-threats-cubeconversations)  \n",
       "\n",
       " Cybersecurity, Gen AI, Privacy & Surveillance, Protection Strategies, Ransomware, Safety And Alignment, Scams, Science  \n",
       "\n",
       "- Ransomware attacks, particularly from groups like Dark Angels, are escalating, with significant financial repercussions for businesses, as evidenced by a \\\\$75 million ransom paid by a Fortune 50 company.\n",
       "- AI and advanced monitoring technologies are critical in enhancing ransomware protection strategies to better safeguard enterprise data.\n",
       "- Certain sectors, including energy and food & restaurant, have seen dramatic increases in ransomware extortion attacks, highlighting the urgent need for improved cybersecurity measures. \n",
       "\n"
      ],
      "text/plain": [
       "<IPython.core.display.Markdown object>"
      ]
     },
     "metadata": {},
     "output_type": "display_data"
    },
    {
     "data": {
      "text/markdown": [
       "[126. Q&A with Cloudflare CEO Matthew Prince on how internet traffic surge during COVID helped it build an AI-ready \"connectivity cloud\", internet balkanization, more (Om Malik/Crazy Stupid Tech) - crazystupidtech.com](https://crazystupidtech.com/archive/future-of-internet-in-the-age-of-ai/)  \n",
       "\n",
       " Ceo, Cloudflare, Connectivity Cloud, Gen AI, Internet Traffic  \n",
       "\n",
       "- Cloudflare has evolved into a \\\\$32 billion company by focusing on simplifying internet infrastructure and providing protection against threats like DDoS attacks.\n",
       "- The rise of artificial intelligence is shifting network design, with a trend towards AI inference being performed closer to end users to reduce latency and improve performance.\n",
       "- Future regulations and local laws will necessitate a reconfiguration of the internet's architectural framework, particularly in navigating the complexities posed by increased regionalization and the balkanization of the internet. \n",
       "\n"
      ],
      "text/plain": [
       "<IPython.core.display.Markdown object>"
      ]
     },
     "metadata": {},
     "output_type": "display_data"
    },
    {
     "data": {
      "text/markdown": [
       "[127. AI-generated child abuse images increasing at 'chilling' rate - as watchdog warns it is now becoming hard to spot - Sky News](https://news.sky.com/story/ai-generated-child-abuse-images-increasing-at-chilling-rate-as-watchdog-warns-it-is-now-becoming-hard-to-spot-13235706)  \n",
       "\n",
       " AI Doom, Child Abuse, Cybersecurity, Detection, Ethics, Gen AI, Images, Legal Issues, Privacy, Privacy & Surveillance, Safety, Safety And Alignment, Science, Society & Culture, Watchdog  \n",
       "\n",
       "- The Internet Watch Foundation reports a \"chilling\" 6% increase in AI-generated child abuse images in the last six months, making it harder to distinguish them from real images.\n",
       "- The software used to create these images is reportedly trained on existing sexual abuse photos, leading to disturbingly realistic depictions that ease their production and sharing online.\n",
       "- Most AI-generated child sexual abuse content is not confined to the dark web, with over half of the recent findings hosted on servers in Russia and the US, highlighting the widespread nature of the issue. \n",
       "\n"
      ],
      "text/plain": [
       "<IPython.core.display.Markdown object>"
      ]
     },
     "metadata": {},
     "output_type": "display_data"
    },
    {
     "data": {
      "text/markdown": [
       "[128. 10 AI Prompts to Turbocharge Your Job Search - Forbes](https://www.forbes.com/sites/jeremyschifeling/2024/10/19/10-ai-prompts-to-turbocharge-your-job-search/)  \n",
       "\n",
       " Authors & Writing, Career Development, Gen AI, Job Automation, Job Search, Jobs & Careerslabor Market, Products, Prompts, Review  \n",
       "\n",
       "- ChatGPT can assist job seekers in various stages of their job search, including identifying potential career paths, building skills, and generating company lists.\n",
       "- The AI tool can review and enhance resumes and cover letters, as well as help prepare for interviews and negotiate salaries.\n",
       "- By following a structured approach with ChatGPT, individuals can navigate their job search more effectively and improve their chances of landing desirable roles. \n",
       "\n"
      ],
      "text/plain": [
       "<IPython.core.display.Markdown object>"
      ]
     },
     "metadata": {},
     "output_type": "display_data"
    },
    {
     "data": {
      "text/markdown": [
       "[129. Nokia Integrates AI into Altiplano Access Controller for Enhanced Network Automation - telecomtalk.info](https://telecomtalk.info/nokia-integrates-ai-into-altiplano-access-controller/983411)  \n",
       "\n",
       " Altiplano Access Controller, Gen AI, Hardware, Job Automation, Network Automation, Nokia, Products, Science  \n",
       "\n",
       "- Nokia has integrated AI-driven operations (AIOps) into its Altiplano Access Controller to enhance automation in broadband networks, enabling faster anomaly detection and improved resource optimization.\n",
       "- The AI features utilize big data analytics and digital twins, assisting operators in managing incidents and ensuring smoother network operations.\n",
       "- The Altiplano platform currently supports over 160 broadband operators worldwide and aims to move toward fully autonomous networks for better customer experiences. \n",
       "\n"
      ],
      "text/plain": [
       "<IPython.core.display.Markdown object>"
      ]
     },
     "metadata": {},
     "output_type": "display_data"
    },
    {
     "data": {
      "text/markdown": [
       "[130. Astera Labs Inc (ALAB) Unveils Industry's First PCIe 6 Switch, Revolutionizing AI Infrastructure with Scorpio Smart Fabric Switch Portfolio - Yahoo Finance](https://ca.finance.yahoo.com/news/astera-labs-inc-alab-unveils-204442497.html)  \n",
       "\n",
       " AI Infrastructure, Astera Labs, Gen AI, Hardware, Infrastructure, Manufacturing, Pcie 6 Switch, Products, Science, Scorpio Smart Fabric, Semiconductor Chips  \n",
       "\n",
       "- Astera Labs Inc has launched the industry's first PCIe 6 switch, part of its Scorpio Smart Fabric Switch portfolio, designed for AI workloads and cloud-scale deployments.\n",
       "- The S&P 500 and other major indices have recently reached all-time highs, buoyed by robust corporate earnings and growing investments in AI-linked stocks.\n",
       "- Analysts note ongoing market risks, including geopolitical tensions and high valuations, but maintain a positive outlook on technology and AI sectors as key growth drivers. \n",
       "\n"
      ],
      "text/plain": [
       "<IPython.core.display.Markdown object>"
      ]
     },
     "metadata": {},
     "output_type": "display_data"
    },
    {
     "data": {
      "text/markdown": [
       "[131. AskBobby: The AI Tool Helping People in Need Locate Social Services - Hacker Noon](https://hackernoon.com/askbobby-the-ai-tool-helping-people-in-need-locate-social-services)  \n",
       "\n",
       " Askbobby, Assistance, Customer Service, Education, Gen AI, Health & Fitness, Healthcare, Inequality, Jobs & Careerslabor Market, Social Services, Society & Culture  \n",
       "\n",
       "- AskBobby is an AI-driven tool designed to improve access to social services and tackle issues like homelessness and food insecurity by providing real-time resource optimization.\n",
       "- The tool connects individuals in need to essential resources through SMS, helping non-profits optimize resource allocation and enhance service delivery based on real-time data.\n",
       "- Since its launch, AskBobby has significantly improved access to social services, and plans for future enhancements include expanding its reach and capabilities through collaborations with more non-profit organizations. \n",
       "\n"
      ],
      "text/plain": [
       "<IPython.core.display.Markdown object>"
      ]
     },
     "metadata": {},
     "output_type": "display_data"
    },
    {
     "data": {
      "text/markdown": [
       "[132. Penguin Random House copyright pages will now forbid AI training - Mashable](https://mashable.com/article/penguin-random-house-ai-protections-copyright-page)  \n",
       "\n",
       " AI Training, Authors & Writing, Bias And Fairness, Books & Publishing, Copyright Pages, Ethics, Intellectual Property, Legal Issues, Penguin Random House, Policy And Regulation, Privacy, Privacy & Surveillance  \n",
       "\n",
       "- Penguin Random House has updated its copyright wording to prohibit the use of its published works for training artificial intelligence, making it the first of the Big Five publishers to take this stance.  \n",
       "- The new copyright statement will be included in all new titles and reprints, explicitly forbidding reproduction of any part of the books for AI training purposes.  \n",
       "- This action follows a trend among publishers, including legal actions by The New York Times against AI companies for copyright infringement.   \n",
       "\n"
      ],
      "text/plain": [
       "<IPython.core.display.Markdown object>"
      ]
     },
     "metadata": {},
     "output_type": "display_data"
    },
    {
     "data": {
      "text/markdown": [
       "[133. Tired of ChatGPT? 5 incredible uses of Perplexity AI that trumps Google Search - Google News](https://news.google.com/read/CBMisgFBVV95cUxOTGFqdU1zZkI2WC1ZNWpwWHkyUUE2a2F5SEE4bnVhZ19fdlpSS20tal9xZERUcjE1ZWtiVXo1YlRCeHQwZUFZdWUyeTQ0NnFfMlJ3TTl0a2Z2ajVDMDVEOWdhaGx4d0hOZ3BwVTNYOGJnT2pTcmdwMUsxU3NlYUdCX0lKVTlNYUZoeExjOHFoM19zSHhJVUg1WjJwYjFIZXRZS0xXSVA1b2dmNkc5WXBHc29B)  \n",
       "\n",
       " Chatbots, Chatgpt, Gen AI, Google Search, Language Models, Perplexity AI, Products  \n",
       "\n",
       "- Perplexity AI is an AI-powered search engine that generates answers using web sources and provides citations within its responses, distinguishing it from other AI tools.\n",
       "- Recent features include Perplexity Finance for real-time stock tracking, and tools for price comparison, current events updates, property research, advanced reasoning capabilities, and creating timelines.\n",
       "- The startup has faced challenges, including a cease and desist notice from The New York Times, although it claims not to use their content for training but indexes web pages for factual information. \n",
       "\n"
      ],
      "text/plain": [
       "<IPython.core.display.Markdown object>"
      ]
     },
     "metadata": {},
     "output_type": "display_data"
    },
    {
     "data": {
      "text/markdown": [
       "[134. Chatbot hack shows why you shouldn't trust AI with your personal data - BGR](https://bgr.com/tech/chatbot-hack-shows-why-you-shouldnt-trust-ai-with-your-personal-data/)  \n",
       "\n",
       " AI Doom, Chatbot, Chatbots, Cybersecurity, Disinformation, Ethics, Gen AI, Governance, Hack, Language Models, Legal Issues, Opinion, Personal Data, Privacy, Privacy & Surveillance, Safety And Alignment, Scams, Society & Culture, Trust, Virtual Assistants  \n",
       "\n",
       "- Security researchers demonstrated a hacking method that allows AI chatbots to extract personal data from user interactions through cleverly crafted prompts.\n",
       "- The hack involves disguising malicious prompts as useful requests, like drafting cover letters, enabling hackers to collect sensitive information such as names, ID numbers, and credit card details.\n",
       "- Companies like Mistral have fixed the vulnerabilities, highlighting the ongoing need for users to avoid sharing personal information with AI until better security measures are established. \n",
       "\n"
      ],
      "text/plain": [
       "<IPython.core.display.Markdown object>"
      ]
     },
     "metadata": {},
     "output_type": "display_data"
    },
    {
     "data": {
      "text/markdown": [
       "[135. Protein Structures | AlphaFold: Google Research Vacancy, Weakness in Theoretical Science - Hacker Noon](https://hackernoon.com/protein-structures-or-alphafold-google-research-vacancy-weakness-in-theoretical-science)  \n",
       "\n",
       " Alphafold, Google Research, Protein Structures, Science, Theoretical Science  \n",
       "\n",
       "- Google excels in computational science but is criticized for its lack of relevance and strength in theoretical science.\n",
       "- The AlphaFold award has raised questions about the nature of scientific progress and whether true understanding is being achieved alongside practical advancements in protein structure prediction.\n",
       "- Concerns are expressed that reliance on AI may lead to a loss of deeper scientific understanding, particularly regarding protein dynamics and their implications for disease treatment. \n",
       "\n"
      ],
      "text/plain": [
       "<IPython.core.display.Markdown object>"
      ]
     },
     "metadata": {},
     "output_type": "display_data"
    },
    {
     "data": {
      "text/markdown": [
       "[136. Got a Cool Idea for an AI Bot? Heres How It Could Win You \\\\$3000 in the #AI-Chatbot Writing Contest - Hacker Noon](https://hackernoon.com/got-a-cool-idea-for-an-ai-bot-heres-how-it-could-win-you-\\\\$3000-in-the-ai-chatbot-writing-contest)  \n",
       "\n",
       " Authors & Writing, Chatbot, Chatbots, Gen AI, Prize, Products, Review, Virtual Assistants, Writing Contest  \n",
       "\n",
       "- The #AI-chatbot writing contest, hosted by HackerNoon and Coze, invites participants to create personalized AI chatbots and share their experiences for a chance to win over \\\\$7000 in prizes, with submissions due by November 6, 2024.\n",
       "- Participants can win various awards, including a \\\\$3000 prize for the best Coze use-case/app story and smaller prizes for top experience and chatbot stories.\n",
       "- Coze's no-code platform allows anyone, regardless of coding skills, to create chatbots, fostering creativity and innovation in AI development. \n",
       "\n"
      ],
      "text/plain": [
       "<IPython.core.display.Markdown object>"
      ]
     },
     "metadata": {},
     "output_type": "display_data"
    },
    {
     "data": {
      "text/markdown": [
       "[137. Escaping the Payday Matrix: Ex-OpenAI & Opera Devs Code Financial Freedom for 1.4 Billion Unbanked - Hacker Noon](https://hackernoon.com/escaping-the-payday-matrix-ex-openai-and-opera-devs-code-financial-freedom-for-14-billion-unbanked)  \n",
       "\n",
       " Cryptocurrency, Economics, Finance, Financial Freedom, Fintech, Gen AI, India, Inequality, Jobs & Careerslabor Market, Open Source, OpenAI, Opera, Society & Culture, Unbanked  \n",
       "\n",
       "- Volante Chain, founded by former OpenAI and Opera engineers, aims to provide financial access to 1.4 billion unbanked individuals by introducing Earned Wage Access (EWA), allowing workers to withdraw wages as they earn them.\n",
       "- The platform utilizes a bespoke blockchain and AI technology to facilitate fair transactions and eliminate intermediaries, potentially transforming the global payroll market valued at over \\\\$100 trillion.\n",
       "- Volante's goal is to create a more inclusive financial system by offering a digital financial identity and simplifying access to essential financial services for those lacking traditional banking options. \n",
       "\n"
      ],
      "text/plain": [
       "<IPython.core.display.Markdown object>"
      ]
     },
     "metadata": {},
     "output_type": "display_data"
    },
    {
     "data": {
      "text/markdown": [
       "[138. OpenAI releases ChatGPT app for Windows - Ars Technica](https://arstechnica.com/ai/2024/10/openai-releases-chatgpt-app-for-windows/)  \n",
       "\n",
       " App Release, Chatbots, Chatgpt, Code Assistants, Customer Service, Entertainment, Gen AI, Hardware, OpenAI, Products, Virtual Assistants, Windows  \n",
       "\n",
       "- OpenAI has released an early beta version of its ChatGPT app for Windows, available for Plus, Team, Enterprise, and Edu subscribers, with plans for a wider release later this year.\n",
       "- The app, which functions similarly to the web version, allows users to access multiple models and features like image generation with DALL-E 3.\n",
       "- An Alt+Space shortcut enables quick access to a mini ChatGPT window for easy queries, but users should remain cautious as the AI can produce incorrect information. \n",
       "\n"
      ],
      "text/plain": [
       "<IPython.core.display.Markdown object>"
      ]
     },
     "metadata": {},
     "output_type": "display_data"
    },
    {
     "data": {
      "text/markdown": [
       "[139. NotebookLM is Googles Own ChatGPT Moment - Analytics India Magazine](https://analyticsindiamag.com/ai-insights-analysis/notebooklm-is-googles-chatgpt-moment/)  \n",
       "\n",
       " Chatbots, Chatgpt, Code Assistants, Gen AI, Google, Language Models, Notebooklm, Retrieval Augmented Generation, Virtual Assistants  \n",
       "\n",
       "- Google’s NotebookLM, likened to ChatGPT, offers innovative AI-driven content generation, including customizable audio summaries and a business version aimed at personalizing content engagement.\n",
       "- The technology allows for rapid consumption of podcast content, though concerns exist about its potential impact on traditional podcasters, emphasizing that users still prefer human voices over AI-generated ones.\n",
       "- Currently available only in English, NotebookLM is powered by Google’s Gemini 1.5 model and has transitioned from an experimental tool to fully developed software due to its unexpected success. \n",
       "\n"
      ],
      "text/plain": [
       "<IPython.core.display.Markdown object>"
      ]
     },
     "metadata": {},
     "output_type": "display_data"
    },
    {
     "data": {
      "text/markdown": [
       "[140. Why balancing Europes AI regulations is a difficult juggling act for start-ups - Euronews](https://www.euronews.com/next/2024/10/19/why-balancing-europes-ai-regulations-is-a-difficult-juggling-act-for-start-ups)  \n",
       "\n",
       " AI Regulations, Balancing Act, Bias And Fairness, Ethics, Europe, European Union, Gen AI, Governance, Legal Issues, Opinion, Policy And Regulation, Politics, Privacy, Safety And Alignment, Start-Ups  \n",
       "\n",
       "- European start-ups are facing challenges due to regulatory environments and access to funding, hindering their ability to innovate compared to their U.S. counterparts.\n",
       "- A report highlights the necessity for €750 billion to €800 billion in additional investments yearly to meet Europe's competitiveness and climate goals.\n",
       "- The EU's stringent data privacy laws complicate AI development, with companies needing to adapt due to regulations affecting access to large datasets for training AI systems. \n",
       "\n"
      ],
      "text/plain": [
       "<IPython.core.display.Markdown object>"
      ]
     },
     "metadata": {},
     "output_type": "display_data"
    },
    {
     "data": {
      "text/markdown": [
       "[141. OpenAIs Newest Possible Threat: Ex-CTO Murati; Googles Mini-ChatGPT Moment - Google News](https://news.google.com/read/CBMisgFBVV95cUxPaWVnSnluejYtRzBRTWhCY2NEYVJVcVVvUDRvalRwNXpsOTdvT29ocldveU1iVzIwa2NfbFg3SGx2Y3VjcnQ2MGNWRFlvOTFkWnhBWkREVkNuTHJOREk4M2JyZFBnaTRVb3dCeWNjSmQxZEVUb1I1MmlEOE1uSDd3QjBab2doVjFQTThjVkJraEZyZi1Gakc1UXpVSV9yYUVacUJDeldNWFczSmZQOUwxa3NR)  \n",
       "\n",
       " AI Doom, Artificial General Intelligence, Chatbots, Chatgpt, Cto, Google, Murati, OpenAI, Virtual Assistants  \n",
       "\n",
       "- OpenAI is experiencing increased competition for AI researchers from both new and existing rivals.  \n",
       "- The former CTO, Mira Murati, has recently left OpenAI, which may impact the company's recruitment efforts.  \n",
       "- The article discusses the competitive landscape, including Google's recent developments in AI similar to ChatGPT.   \n",
       "\n"
      ],
      "text/plain": [
       "<IPython.core.display.Markdown object>"
      ]
     },
     "metadata": {},
     "output_type": "display_data"
    },
    {
     "data": {
      "text/markdown": [
       "[142. Nvidia, Google, Microsoft and more head to Las Vegas to tout health-care AI tools - CNBC](https://www.cnbc.com/2024/10/19/hlth-2024-tech-companies-head-to-las-vegas-to-tout-health-ai-tools-.html)  \n",
       "\n",
       " AI Tools, Cognitive Science, Gen AI, Google, Health & Fitness, Healthcare, Las Vegas, Microsoft, Nvidia, Products, Science  \n",
       "\n",
       "- Major tech companies, including Nvidia, Google, and Microsoft, are showcasing AI tools aimed at reducing healthcare workers' administrative burdens at the HLTH conference in Las Vegas, anticipated to attract over 12,000 attendees.\n",
       "- Google announced the availability of its Vertex AI Search for Healthcare, aimed at helping clinicians efficiently search through varied medical records, while Microsoft presented tools to lessen administrative work for both doctors and nurses.\n",
       "- The healthcare industry is experiencing a significant workforce shortage, and the adoption of AI tools in clinical documentation is growing rapidly, with tools like Microsoft's DAX Copilot gaining popularity for automating medical note-taking. \n",
       "\n"
      ],
      "text/plain": [
       "<IPython.core.display.Markdown object>"
      ]
     },
     "metadata": {},
     "output_type": "display_data"
    },
    {
     "name": "stderr",
     "output_type": "stream",
     "text": [
      "2024-10-19 13:03:19,586 - AInewsbot - INFO - Sending bullet points email\n"
     ]
    }
   ],
   "source": [
    "state = lg_agent.summarize_pages(state)\n"
   ]
  },
  {
   "cell_type": "code",
   "execution_count": 48,
   "id": "b856dd93",
   "metadata": {},
   "outputs": [
    {
     "name": "stderr",
     "output_type": "stream",
     "text": [
      "2024-10-19 13:03:22,151 - AInewsbot - INFO - Proposing categories using chatgpt-4o-latest\n",
      "2024-10-19 13:03:28,295 - httpx - INFO - HTTP Request: POST https://api.openai.com/v1/chat/completions \"HTTP/1.1 200 OK\"\n",
      "2024-10-19 13:03:28,327 - AInewsbot - INFO - Proposed categories: ['AI Impact on Politics and Elections', 'AI Search Alternatives', 'AI Training and Data Privacy Issues', 'AI and Technology Regulation in Politics', 'AI detectors falsely accusing students', 'AI in Healthcare and Innovation', 'AI scams targeting elderly', 'AI video call scams rise', \"AI's impact on 2024 election\", \"AI's role in healthcare\", \"AI's role in personalized cancer treatment\", 'AI-Driven Fraud and Scams', 'AI-driven cybersecurity innovations', 'AI-enhanced question answering', 'AI-generated child abuse images', 'AI-powered electronic tongue', 'Advancements in AI and Language Models', 'Advancements in Language Models and AI', \"Anthropic's Claude AI updates\", 'Claude AI and Code Assistants', 'Claude AI vs ChatGPT coding showdown', 'Copyright Protection in Publishing and AI', 'Harris vs Trump on AI regulation', \"Meta's new multimodal AI model\", 'Microsoft and OpenAI Partnership Dynamics', \"Microsoft's bitnet.cpp for AI\", 'Nvidia and AI Stock Market Trends', \"Nvidia's AI stock performance\", \"Pentagon's use of AI for fake personas\", \"Sam Altman's Crypto and Privacy Innovations\", \"Sam Altman's Worldcoin rebrand\", 'Tesla Self-Driving Investigations', \"Tesla's self-driving software investigation\", 'US Treasury recovers fraud with AI']\n"
     ]
    }
   ],
   "source": [
    "state = lg_agent.propose_topics(state)\n"
   ]
  },
  {
   "cell_type": "code",
   "execution_count": 49,
   "id": "204c9dbd",
   "metadata": {},
   "outputs": [
    {
     "data": {
      "text/plain": [
       "['AI Impact on Politics and Elections',\n",
       " 'AI Search Alternatives',\n",
       " 'AI Training and Data Privacy Issues',\n",
       " 'AI and Technology Regulation in Politics',\n",
       " 'AI detectors falsely accusing students',\n",
       " 'AI in Healthcare and Innovation',\n",
       " 'AI scams targeting elderly',\n",
       " 'AI video call scams rise',\n",
       " \"AI's impact on 2024 election\",\n",
       " \"AI's role in healthcare\",\n",
       " \"AI's role in personalized cancer treatment\",\n",
       " 'AI-Driven Fraud and Scams',\n",
       " 'AI-driven cybersecurity innovations',\n",
       " 'AI-enhanced question answering',\n",
       " 'AI-generated child abuse images',\n",
       " 'AI-powered electronic tongue',\n",
       " 'Advancements in AI and Language Models',\n",
       " 'Advancements in Language Models and AI',\n",
       " \"Anthropic's Claude AI updates\",\n",
       " 'Claude AI and Code Assistants',\n",
       " 'Claude AI vs ChatGPT coding showdown',\n",
       " 'Copyright Protection in Publishing and AI',\n",
       " 'Harris vs Trump on AI regulation',\n",
       " \"Meta's new multimodal AI model\",\n",
       " 'Microsoft and OpenAI Partnership Dynamics',\n",
       " \"Microsoft's bitnet.cpp for AI\",\n",
       " 'Nvidia and AI Stock Market Trends',\n",
       " \"Nvidia's AI stock performance\",\n",
       " \"Pentagon's use of AI for fake personas\",\n",
       " \"Sam Altman's Crypto and Privacy Innovations\",\n",
       " \"Sam Altman's Worldcoin rebrand\",\n",
       " 'Tesla Self-Driving Investigations',\n",
       " \"Tesla's self-driving software investigation\",\n",
       " 'US Treasury recovers fraud with AI']"
      ]
     },
     "execution_count": 49,
     "metadata": {},
     "output_type": "execute_result"
    }
   ],
   "source": [
    "state[\"cluster_topics\"]\n"
   ]
  },
  {
   "cell_type": "code",
   "execution_count": 50,
   "id": "79401619",
   "metadata": {},
   "outputs": [],
   "source": [
    "state[\"cluster_topics\"] = [\n",
    " 'AI Search Alternatives',\n",
    " 'AI Training and Data Privacy Issues',\n",
    " 'AI and Technology Regulation in Politics',\n",
    " 'AI detectors falsely accusing students',\n",
    " 'AI in Healthcare and Innovation',\n",
    " 'AI scams',\n",
    " \"AI's impact on 2024 election\",\n",
    " \"AI's role in healthcare\",\n",
    " \"AI's role in personalized cancer treatment\",\n",
    " 'AI-driven cybersecurity innovations',\n",
    " 'AI-enhanced question answering',\n",
    " 'AI-generated child abuse images',\n",
    " 'AI-powered electronic tongue',\n",
    " 'Advancements in AI and Language Models',\n",
    " \"Anthropic Claude\",\n",
    " 'Copyright Protection in Publishing and AI',\n",
    " 'Harris vs Trump on AI regulation',\n",
    " \"Meta's new multimodal AI model\",\n",
    " 'Microsoft and OpenAI Partnership Dynamics',\n",
    " \"Microsoft's bitnet.cpp\",\n",
    " 'Nvidia',\n",
    " \"Pentagon's use of AI for fake personas\",\n",
    " \"Sam Altman's Worldcoin\",\n",
    " \"Tesla's self-driving software investigation\",\n",
    " 'US Treasury recovers fraud with AI']"
   ]
  },
  {
   "cell_type": "code",
   "execution_count": 51,
   "id": "51cb9067",
   "metadata": {},
   "outputs": [
    {
     "name": "stderr",
     "output_type": "stream",
     "text": [
      "2024-10-19 13:06:05,353 - AInewsbot - INFO - Composing summary using o1-preview\n",
      "2024-10-19 13:08:27,020 - httpx - INFO - HTTP Request: POST https://api.openai.com/v1/chat/completions \"HTTP/1.1 200 OK\"\n"
     ]
    }
   ],
   "source": [
    "state = lg_agent.compose_summary(state)\n"
   ]
  },
  {
   "cell_type": "code",
   "execution_count": 52,
   "id": "f06e70db",
   "metadata": {},
   "outputs": [
    {
     "data": {
      "text/markdown": [
       "# AI on the Campaign Trail: Tech's Tango with the 2024 Election\n",
       "\n",
       "- Over half of Americans fear AI will spread election misinformation - [Fast Company](https://www.fastcompany.com/91210933/ai-impact-2024-election)\n",
       "- Pentagon plans to use AI-generated fake personas on social media - [Futurism](https://futurism.com/the-byte/pentagon-wants-fake-ai-people)\n",
       "- Candidates exercise caution with AI amid misinformation concerns - [Google News](https://news.google.com/read/CBMilgFBVV95cUxNWGMtZGp4c3VDZjJ1MWk0enR3M2w4LUZ6WDhvZ3lxYld3Q2oxdWJGdUhXMHRtZklfSFE3c3BxX0VQdUFsNi16NHNUaU5la1htbnRXbGNZdDR2d2VvOXlyVHJNbXhhdkVkRGtyT2UxMFlrblNLc2ZUbURHU0ZlbGtRLWRyektJM01SZ2s3dXBmUXN0SlFrMWc)\n",
       "- Harris and Trump diverge on AI and cryptocurrency regulations - [Greek Reporter](https://greekreporter.com/2024/10/19/harris-trump-stance-ai-cryptocurrency-regulations/)\n",
       "- Herbie Hancock optimistic about AI's creative potential and supports Harris - [South China Morning Post](https://www.scmp.com/postmag/culture/article/3282841/herbie-hancock-ai-snoop-dogg-and-kendrick-lamar-collab-never-happened-and-kamala-harris-president)\n",
       "\n",
       "# Claude's Clever Capabilities: Anthropic's AI Advances\n",
       "\n",
       "- Claude Sonnet excels in reasoning, ChatGPT shines in interaction - [Geeky Gadgets](https://www.geeky-gadgets.com/claude-sonnet-vs-chatgpt-vs-openai-o1/)\n",
       "- Leveraging Claude's capabilities with interactive visualization - [GitHub](https://github.com/anthropics/anthropic-quickstarts/tree/main/financial-data-analyst)\n",
       "- Unboxing Claude AI: Artifacts and use cases explored - [Google News](https://news.google.com/read/CBMinwFBVV95cUxOa0VNSkZvUjlkVF9BNnMzdHVUNnB1b2JpUm52WnNyWGVaUHJWYkdMZXRPc3E4YjVnRG9YRUVhbkhpY3lEY0J5Wk9iczhYNjc2S2tValk5MFZ4R0tncW1lTXF6RTFNbVM2OXlQRFdfZE56em1zZUxFM1JjX2VCcGdXUDhuWmFwdW5qdEtCVnNxcTl5dWRzbFZMRjB6SEpGbGs)\n",
       "- Everything you need to know about Anthropic's Claude AI - [TechCrunch](https://techcrunch.com/2024/10/19/claude-everything-you-need-to-know-about-anthropics-ai/)\n",
       "- All system prompts for Anthropic's Claude revealed - [Hacker Noon](https://hackernoon.com/all-system-prompts-for-anthropics-claude-revealed)\n",
       "\n",
       "# Nvidia's AI Dominance and Investment Insights\n",
       "\n",
       "- Nvidia ranks among fastest-growing AI companies, but not No. 1 - [Google News](https://news.google.com/read/CBMisgFBVV95cUxNeFc3aFRnSmRKOWtJaFJWMVVocXg1LUhZU0pkNUZObVFZMVpjVDkzakdwTmw2Z0s3a1ZCdHJVS3NzYnBEdFluZzhSR1lWUlZKRktudWMtNWQ4U3NLOFBxTEtKTThkT1RaUV9DeEFrakttTTVXS3ViY2p2ZDFFcDlMems1QXFWaDF1eUtwNG1oTThicjdEaWlmeXdoUWstQ3VidS1SWXpaQ0puT0RhNDQwbkhB)\n",
       "- Looking to buy your first AI stock? Consider TSMC over Nvidia - [Yahoo Finance](https://finance.yahoo.com/news/looking-buy-first-ai-stock-110000564.html)\n",
       "- AI creates 'generational opportunity': Nvidia stock predicted to hit \\\\$190 - [Benzinga](https://www.benzinga.com/analyst-ratings/analyst-color/24/10/41410262/ai-creates-generational-opportunity-why-nvidia-analyst-says-stock-will-hit-190)\n",
       "\n",
       "# AI Scammers and Fraud Fighters: The Double-Edged Sword\n",
       "\n",
       "- Scammers swindle elderly California man out of \\\\$25K using AI voice tech - [Reddit](https://www.reddit.com/r/technology/comments/1g6xoem/scammers_swindle_elderly_california_man_out_of/)\n",
       "- US government recovered \\\\$4 billion worth of fraud with AI - [Tech.co](https://tech.co/news/us-govt-recovered-billions-fraud-ai)\n",
       "- AI video call scams are on the rise—here's how they work - [MakeUseOf](https://www.makeuseof.com/how-ai-video-call-scams-work/)\n",
       "\n",
       "# AI Answering the Call: Innovations in Understanding\n",
       "\n",
       "- Researchers enhance AI accuracy with Answer-prefix Generation - [TechXplore](https://techxplore.com/news/2024-10-method-enabling-llms-concisely-accurately.html)\n",
       "- Scientists build an AI-powered 'electronic tongue' for food safety - [Live Science](https://www.livescience.com/technology/engineering/scientists-have-built-an-ai-powered-electronic-tongue)\n",
       "\n",
       "# AI in Healthcare: A Dose of Innovation\n",
       "\n",
       "- New JAMA channel highlights AI's role in medicine - [The Washington Post](https://www.washingtonpost.com/health/2024/10/19/artificial-intelligence-health-care-website/)\n",
       "- James Gu advances personalized cancer treatment with digital twins - [Benzinga](https://www.benzinga.com/pressreleases/24/10/g41414929/xyz-medias-next-generation-of-innovators-highlights-james-gus-research-advancing-personalized-canc)\n",
       "- HeartFlow announces new CPT code for AI-enabled plaque analysis - [Yahoo Finance](https://finance.yahoo.com/news/heartflow-announces-category-cpt-code-163900050.html)\n",
       "\n",
       "# Worldcoin Reimagined: Sam Altman's Orbital Ambitions\n",
       "\n",
       "- Sam Altman's crypto project rebrands as 'World,' unveils new Orb - [The Verge](https://www.theverge.com/2024/10/18/24273691/world-orb-sam-altman-iris-scan-crypto-token)\n",
       "- World introduces new Orb for crypto project, aiming for global expansion - [Tech Times](https://www.techtimes.com/articles/307927/20241019/sam-altmans-worldcoin-rebrand-now-calls-it-world-brings-new-orb-crypto-project.htm)\n",
       "- Critics raise eyebrows over Altman's iris-scanning crypto project - [Inc.](https://www.inc.com/reuters/heres-why-critics-are-raising-eyebrows-over-sam-altmans-iris-scanning-crypto-project/90991229)\n",
       "\n",
       "# Meta's Multimodal Moves and Open-Source Advances\n",
       "\n",
       "- Meta releases new AI models, including 'Self-Taught Evaluator' - [TipRanks](https://www.tipranks.com/news/meta-platforms-nasdaqmeta-releases-a-series-of-new-ai-models)\n",
       "- Meta debuts Spirit LM, an open-source multimodal language model - [VentureBeat](https://venturebeat.com/ai/meta-introduces-spirit-lm-open-source-model-that-combines-text-and-speech-inputs-outputs/)\n",
       "\n",
       "# Microsoft and OpenAI: A Tech Tango with Twists\n",
       "\n",
       "- Microsoft could gain substantial equity in restructured OpenAI - [TechCrunch](https://techcrunch.com/2024/10/18/microsoft-could-end-up-with-substantial-equity-in-the-restructured-for-profit-openai/)\n",
       "- Tensions with OpenAI highlight Microsoft's need to secure its AI future - [GeekWire](https://www.geekwire.com/2024/tensions-with-openai-underscore-microsofts-need-to-ensure-its-own-ai-future)\n",
       "\n",
       "# Penguin's Protective Prose: Guarding Books from AI\n",
       "\n",
       "- Penguin Random House prohibits AI training on its books - [The Bookseller](https://www.thebookseller.com/news/penguin-random-house-underscores-copyright-protection-in-ai-rebuff)\n",
       "- Penguin Random House amends copyright to protect authors from AI - [Mashable](https://mashable.com/article/penguin-random-house-ai-protections-copyright-page)\n",
       "\n",
       "# Data Privacy Debacles: Social Media's AI Ills\n",
       "\n",
       "- X to allow third parties to train AI on user posts - [Mashable](https://mashable.com/article/x-train-ai-posts)\n",
       "- X's new terms enable AI data-sharing and shift lawsuits to Texas - [Yahoo](https://www.yahoo.com/news/xs-terms-push-lawsuits-texas-110231929.html)\n",
       "\n",
       "# Tesla's Tech Turbulence: Self-Driving Scrutiny\n",
       "\n",
       "- US probes Tesla over self-driving systems after crashes - [Yahoo](https://www.yahoo.com/news/us-probing-elon-musks-tesla-232739208.html)\n",
       "- Tesla FSD crashes prompt new federal safety investigation - [Ars Technica](https://arstechnica.com/cars/2024/10/feds-open-their-14th-tesla-safety-investigation-this-time-for-fsd/)\n",
       "- Tesla software under investigation after collisions - [Yahoo](https://www.yahoo.com/news/tesla-software-under-investigation-collisions-134341068.html)\n",
       "\n",
       "# Shorter answer\n",
       "\n",
       "[Same as above.]"
      ],
      "text/plain": [
       "<IPython.core.display.Markdown object>"
      ]
     },
     "metadata": {},
     "output_type": "display_data"
    }
   ],
   "source": [
    "display(Markdown(state[\"summary\"].replace(\"$\",\"\\\\\\\\$\")))"
   ]
  },
  {
   "cell_type": "code",
   "execution_count": 53,
   "id": "94fb6095",
   "metadata": {},
   "outputs": [
    {
     "name": "stderr",
     "output_type": "stream",
     "text": [
      "2024-10-19 13:08:27,044 - AInewsbot - INFO - Rewriting summary using o1-preview\n",
      "2024-10-19 13:09:50,119 - httpx - INFO - HTTP Request: POST https://api.openai.com/v1/chat/completions \"HTTP/1.1 200 OK\"\n"
     ]
    },
    {
     "data": {
      "text/markdown": [
       "# AI Ascends: From Election Angst to Corporate Conquests\n",
       "\n",
       "## Election AI Angst: Misinformation and Candidate Caution\n",
       "\n",
       "- Over half of Americans fear AI will spread election misinformation - [Fast Company](https://www.fastcompany.com/91210933/ai-impact-2024-election)\n",
       "- Pentagon plans to use AI-generated fake personas on social media - [Futurism](https://futurism.com/the-byte/pentagon-wants-fake-ai-people)\n",
       "- Candidates exercise caution with AI amid misinformation concerns - [Google News](https://news.google.com/read/CBMilgFBVV95cUxNWGMtZGp4c3VDZjJ1MWk0enR3M2w4LUZ6WDhvZ3lxYld3Q2oxdWJGdUhXMHRtZklfSFE3c3BxX0VQdUFsNi16NHNUaU5la1htbnRXbGNZdDR2d2VvOXlyVHJNbXhhdkVkRGtyT2UxMFlrblNLc2ZUbURHU0ZlbGtRLWRyektJM01SZ2s3dXBmUXN0SlFrMWc)\n",
       "- Harris and Trump diverge on AI and cryptocurrency regulations - [Greek Reporter](https://greekreporter.com/2024/10/19/harris-trump-stance-ai-cryptocurrency-regulations/)\n",
       "\n",
       "## Claude Chronicles: Unveiling Anthropic's AI\n",
       "\n",
       "- Claude Sonnet excels in reasoning; ChatGPT shines in interaction - [Geeky Gadgets](https://www.geeky-gadgets.com/claude-sonnet-vs-chatgpt-vs-openai-o1/)\n",
       "- Leveraging Claude's capabilities with interactive visualization - [GitHub](https://github.com/anthropics/anthropic-quickstarts/tree/main/financial-data-analyst)\n",
       "- Unboxing Claude AI: artifacts and use cases - [Google News](https://news.google.com/read/CBMinwFBVV95cUxOa0VNSkZvUjlkVF9BNnMzdHVUNnB1b2JpUm52WnNyWGVaUHJWYkdMZXRPc3E4YjVnRG9YRUVhbkhpY3lEY0J5Wk9iczhYNjc2S2tValk5MFZ4R0tncW1lTXF6RTFNbVM2OXlQRFdfZE56em1zZUxFM1JjX2VCcGdXUDhuWmFwdW5qdEtCVnNxcTl5dWRzbFZMRjB6SEpGbGs)\n",
       "- All system prompts for Anthropic's Claude revealed - [Hacker Noon](https://hackernoon.com/all-system-prompts-for-anthropics-claude-revealed)\n",
       "\n",
       "## Nvidia News: AI Growth and Investment Advice\n",
       "\n",
       "- Nvidia among fastest-growing AI companies, but not No. 1 - [Google News](https://news.google.com/read/CBMisgFBVV95cUxNeFc3aFRnSmRKOWtJaFJWMVVocXg1LUhZU0pkNUZObVFZMVpjVDkzakdwTmw2Z0s3a1ZCdHJVS3NzYnBEdFluZzhSR1lWUlZKRktudWMtNWQ4U3NLOFBxTEtKTThkT1RaUV9DeEFrakttTTVXS3ViY2p2ZDFFcDlMems1QXFWaDF1eUtwNG1oTThicjdEaWlmeXdoUWstQ3VidS1SWXpaQ0puT0RhNDQwbkhB)\n",
       "- First AI stock to buy? Consider TSMC over Nvidia - [Yahoo Finance](https://finance.yahoo.com/news/looking-buy-first-ai-stock-110000564.html)\n",
       "- Nvidia stock predicted to hit \\\\$190 amid AI 'generational opportunity' - [Benzinga](https://www.benzinga.com/analyst-ratings/analyst-color/24/10/41410262/ai-creates-generational-opportunity-why-nvidia-analyst-says-stock-will-hit-190)\n",
       "\n",
       "## AI Scam Spike: Fraudsters and Fraud Fighters\n",
       "\n",
       "- Elderly man loses \\\\$25K to AI voice scam - [Reddit](https://www.reddit.com/r/technology/comments/1g6xoem/scammers_swindle_elderly_california_man_out_of/)\n",
       "- US government recovers \\\\$4B in fraud using AI - [Tech.co](https://tech.co/news/us-govt-recovered-billions-fraud-ai)\n",
       "- AI video call scams on the rise—how they work - [MakeUseOf](https://www.makeuseof.com/how-ai-video-call-scams-work/)\n",
       "\n",
       "## AI Innovations: Precise Answers and a New 'Tongue'\n",
       "\n",
       "- Researchers boost AI accuracy with Answer-prefix Generation - [TechXplore](https://techxplore.com/news/2024-10-method-enabling-llms-concisely-accurately.html)\n",
       "- Scientists develop AI-powered 'electronic tongue' for food safety - [Live Science](https://www.livescience.com/technology/engineering/scientists-have-built-an-ai-powered-electronic-tongue)\n",
       "\n",
       "## AI in Healthcare: A Dose of Innovation\n",
       "\n",
       "- JAMA launches channel on AI in medicine - [The Washington Post](https://www.washingtonpost.com/health/2024/10/19/artificial-intelligence-health-care-website/)\n",
       "- James Gu advances personalized cancer treatment with digital twins - [Benzinga](https://www.benzinga.com/pressreleases/24/10/g41414929/xyz-medias-next-generation-of-innovators-highlights-james-gus-research-advancing-personalized-canc)\n",
       "- HeartFlow announces CPT code for AI-enabled plaque analysis - [Yahoo Finance](https://finance.yahoo.com/news/heartflow-announces-category-cpt-code-163900050.html)\n",
       "\n",
       "## Worldcoin's New World: Orbs, Rebrands, and Skepticism\n",
       "\n",
       "- Altman's crypto project rebrands as 'World,' unveils new Orb for global expansion - [The Verge](https://www.theverge.com/2024/10/18/24273691/world-orb-sam-altman-iris-scan-crypto-token)\n",
       "- Critics question Altman's iris-scanning crypto project - [Inc.](https://www.inc.com/reuters/heres-why-critics-are-raising-eyebrows-over-sam-altmans-iris-scanning-crypto-project/90991229)\n",
       "\n",
       "## Meta's Multimodal Marathon: New AI Models Unveiled\n",
       "\n",
       "- Meta releases new AI models, including 'Self-Taught Evaluator' - [TipRanks](https://www.tipranks.com/news/meta-platforms-nasdaqmeta-releases-a-series-of-new-ai-models)\n",
       "- Meta debuts Spirit LM, an open-source multimodal language model - [VentureBeat](https://venturebeat.com/ai/meta-introduces-spirit-lm-open-source-model-that-combines-text-and-speech-inputs-outputs/)\n",
       "\n",
       "## Microsoft and OpenAI: Tango of Tensions and Takeovers\n",
       "\n",
       "- Microsoft could gain substantial equity in restructured OpenAI - [TechCrunch](https://techcrunch.com/2024/10/18/microsoft-could-end-up-with-substantial-equity-in-the-restructured-for-profit-openai/)\n",
       "- Tensions with OpenAI highlight Microsoft's need to secure its AI future - [GeekWire](https://www.geekwire.com/2024/tensions-with-openai-underscore-microsofts-need-to-ensure-its-own-ai-future)\n",
       "\n",
       "## Penguin's Protective Prose: Guarding Books from AI\n",
       "\n",
       "- Penguin Random House amends copyright, prohibits AI training on its books to protect authors - [Mashable](https://mashable.com/article/penguin-random-house-ai-protections-copyright-page)\n",
       "\n",
       "## Data Privacy Debacles: Social Media's AI Ills\n",
       "\n",
       "- X updates terms, allows AI to train on user posts and shifts lawsuits to Texas - [Yahoo](https://www.yahoo.com/news/xs-terms-push-lawsuits-texas-110231929.html)\n",
       "\n",
       "## Tesla's Tech Turbulence: Self-Driving Scrutiny\n",
       "\n",
       "- US federal safety investigation launched into Tesla's self-driving system after crashes - [Yahoo](https://www.yahoo.com/news/us-probing-elon-musks-tesla-232739208.html)\n",
       "\n",
       "# Shorter answer\n",
       "\n",
       "OK"
      ],
      "text/plain": [
       "<IPython.core.display.Markdown object>"
      ]
     },
     "metadata": {},
     "output_type": "display_data"
    },
    {
     "name": "stderr",
     "output_type": "stream",
     "text": [
      "2024-10-19 13:09:50,125 - AInewsbot - INFO - Rewriting summary using o1-preview\n",
      "2024-10-19 13:11:14,705 - httpx - INFO - HTTP Request: POST https://api.openai.com/v1/chat/completions \"HTTP/1.1 200 OK\"\n"
     ]
    },
    {
     "data": {
      "text/markdown": [
       "# AI's Highs and Lows: Innovations, Inquiries, and Industry Intrigue\n",
       "\n",
       "## Misinformation Machines: AI's Impact on Elections\n",
       "\n",
       "- Majority of Americans fear AI spreading election misinformation - [Fast Company](https://www.fastcompany.com/91210933/ai-impact-2024-election)\n",
       "- Pentagon considers AI-generated fake social media personas - [Futurism](https://futurism.com/the-byte/pentagon-wants-fake-ai-people)\n",
       "- Candidates cautious with AI amid misinformation worries - [Google News](https://news.google.com/read/CBMilgFBVV95cUxNWGMtZGp4c3VDZjJ1MWk0enR3M2w4LUZ6WDhvZ3lxYld3Q2oxdWJGdUhXMHRtZklfSFE3c3BxX0VQdUFsNi16NHNUaU5la1htbnRXbGNZdDR2d2VvOXlyVHJNbXhhdkVkRGtyT2UxMFlrblNLc2ZUbURHU0ZlbGtRLWRyektJM01SZ2s3dXBmUXN0SlFrMWc)\n",
       "- Harris and Trump differ on AI and cryptocurrency regulations - [Greek Reporter](https://greekreporter.com/2024/10/19/harris-trump-stance-ai-cryptocurrency-regulations/)\n",
       "\n",
       "## Claude's Capers: Anthropic's AI Unveiled\n",
       "\n",
       "- Claude Sonnet excels in reasoning; ChatGPT excels in interaction - [Geeky Gadgets](https://www.geeky-gadgets.com/claude-sonnet-vs-chatgpt-vs-openai-o1/)\n",
       "- Using Claude AI with interactive visualization tools - [GitHub](https://github.com/anthropics/anthropic-quickstarts/tree/main/financial-data-analyst)\n",
       "- Unboxing Claude AI's features and applications - [Google News](https://news.google.com/read/CBMinwFBVV95cUxOa0VNSkZvUjlkVF9BNnMzdHVUNnB1b2JpUm52WnNyWGVaUHJWYkdMZXRPc3E4YjVnRG9YRUVhbkhpY3lEY0J5Wk9iczhYNjc2S2tValk5MFZ4R0tncW1lTXF6RTFNbVM2OXlQRFdfZE56em1zZUxFM1JjX2VCcGdXUDhuWmFwdW5qdEtCVnNxcTl5dWRzbFZMRjB6SEpGbGs)\n",
       "- All system prompts for Anthropic's Claude exposed - [Hacker Noon](https://hackernoon.com/all-system-prompts-for-anthropics-claude-revealed)\n",
       "\n",
       "## Nvidia Nuggets: AI Growth and Stock Strategies\n",
       "\n",
       "- Nvidia among fastest-growing AI companies, but not top - [Google News](https://news.google.com/read/CBMisgFBVV95cUxNeFc3aFRnSmRKOWtJaFJWMVVocXg1LUhZU0pkNUZObVFZMVpjVDkzakdwTmw2Z0s3a1ZCdHJVS3NzYnBEdFluZzhSR1lWUlZKRktudWMtNWQ4U3NLOFBxTEtKTThkT1RaUV9DeEFrakttTTVXS3ViY2p2ZDFFcDlMems1QXFWaDF1eUtwNG1oTThicjdEaWlmeXdoUWstQ3VidS1SWXpaQ0puT0RhNDQwbkhB)\n",
       "- For AI investment, consider TSMC over Nvidia - [Yahoo Finance](https://finance.yahoo.com/news/looking-buy-first-ai-stock-110000564.html)\n",
       "- Nvidia stock predicted to reach \\\\$190 amid AI opportunities - [Benzinga](https://www.benzinga.com/analyst-ratings/analyst-color/24/10/41410262/ai-creates-generational-opportunity-why-nvidia-analyst-says-stock-will-hit-190)\n",
       "\n",
       "## AI Fraud Frenzy: Scams and Solutions\n",
       "\n",
       "- Elderly man loses \\\\$25K to AI voice scam - [Reddit](https://www.reddit.com/r/technology/comments/1g6xoem/scammers_swindle_elderly_california_man_out_of/)\n",
       "- US government recovers \\\\$4B in fraud using AI - [Tech.co](https://tech.co/news/us-govt-recovered-billions-fraud-ai)\n",
       "- Rise of AI video call scams explained - [MakeUseOf](https://www.makeuseof.com/how-ai-video-call-scams-work/)\n",
       "\n",
       "## Tongues and Tech: AI Innovations Unveiled\n",
       "\n",
       "- New method enhances AI accuracy with answer-prefix generation - [TechXplore](https://techxplore.com/news/2024-10-method-enabling-llms-concisely-accurately.html)\n",
       "- AI-powered 'electronic tongue' created for food safety - [Live Science](https://www.livescience.com/technology/engineering/scientists-have-built-an-ai-powered-electronic-tongue)\n",
       "\n",
       "## Medical Marvels: AI's Healing Touch\n",
       "\n",
       "- JAMA launches AI in medicine channel - [The Washington Post](https://www.washingtonpost.com/health/2024/10/19/artificial-intelligence-health-care-website/)\n",
       "- James Gu advances personalized cancer treatment with digital twins - [Benzinga](https://www.benzinga.com/pressreleases/24/10/g41414929/xyz-medias-next-generation-of-innovators-highlights-james-gus-research-advancing-personalized-canc)\n",
       "- HeartFlow announces code for AI-enabled plaque analysis - [Yahoo Finance](https://finance.yahoo.com/news/heartflow-announces-category-cpt-code-163900050.html)\n",
       "\n",
       "## Worldcoin Whirl: Rebrands and Reactions\n",
       "\n",
       "- Altman's crypto project rebrands as 'World,' unveils new Orb - [The Verge](https://www.theverge.com/2024/10/18/24273691/world-orb-sam-altman-iris-scan-crypto-token)\n",
       "- Critics raise concerns over Altman's iris-scanning crypto project - [Inc.](https://www.inc.com/reuters/heres-why-critics-are-raising-eyebrows-over-sam-altmans-iris-scanning-crypto-project/90991229)\n",
       "\n",
       "## Meta's AI Menagerie: New Models Unleashed\n",
       "\n",
       "- Meta releases new AI models, including 'Self-Taught Evaluator' - [TipRanks](https://www.tipranks.com/news/meta-platforms-nasdaqmeta-releases-a-series-of-new-ai-models)\n",
       "- Meta introduces Spirit LM, open-source multimodal model - [VentureBeat](https://venturebeat.com/ai/meta-introduces-spirit-lm-open-source-model-that-combines-text-and-speech-inputs-outputs/)\n",
       "\n",
       "## AI Allies at Odds: Microsoft and OpenAI\n",
       "\n",
       "- Microsoft may gain equity in restructured OpenAI - [TechCrunch](https://techcrunch.com/2024/10/18/microsoft-could-end-up-with-substantial-equity-in-the-restructured-for-profit-openai/)\n",
       "- Tensions with OpenAI emphasize Microsoft's AI ambitions - [GeekWire](https://www.geekwire.com/2024/tensions-with-openai-underscore-microsofts-need-to-ensure-its-own-ai-future)\n",
       "\n",
       "## Pages Protected: Penguin Random House vs. AI\n",
       "\n",
       "- Penguin Random House prohibits AI training on its books - [Mashable](https://mashable.com/article/penguin-random-house-ai-protections-copyright-page)\n",
       "\n",
       "## X Marks the Spot: AI Training and Legal Shifts\n",
       "\n",
       "- X updates terms, allows AI training on posts, moves lawsuits to Texas - [Yahoo](https://www.yahoo.com/news/xs-terms-push-lawsuits-texas-110231929.html)\n",
       "\n",
       "## Tesla Troubles: Self-Driving Under Scrutiny\n",
       "\n",
       "- US probes Tesla's self-driving system after crashes - [Yahoo](https://www.yahoo.com/news/us-probing-elon-musks-tesla-232739208.html)\n",
       "\n",
       "# Shorter answer\n",
       "\n",
       "OK"
      ],
      "text/plain": [
       "<IPython.core.display.Markdown object>"
      ]
     },
     "metadata": {},
     "output_type": "display_data"
    },
    {
     "name": "stderr",
     "output_type": "stream",
     "text": [
      "2024-10-19 13:11:14,710 - AInewsbot - INFO - Rewriting summary using o1-preview\n",
      "2024-10-19 13:12:13,485 - httpx - INFO - HTTP Request: POST https://api.openai.com/v1/chat/completions \"HTTP/1.1 200 OK\"\n"
     ]
    },
    {
     "data": {
      "text/markdown": [
       "# AI Unveiled: Misinformation, Market Moves, and Medical Marvels\n",
       "\n",
       "## Election Illusions: AI's Role in Misinformation\n",
       "\n",
       "- Majority of Americans fear AI will spread election misinformation - [Fast Company](https://www.fastcompany.com/91210933/ai-impact-2024-election)\n",
       "- Pentagon considers creating AI-generated fake social media personas - [Futurism](https://futurism.com/the-byte/pentagon-wants-fake-ai-people)\n",
       "- Political candidates cautious with AI due to misinformation concerns - [Google News](https://news.google.com/read/CBMilgFBVV95cUxNWGMtZGp4c3VDZjJ1MWk0enR3M2w4LUZ6WDhvZ3lxYld3Q2oxdWJGdUhXMHRtZklfSFE3c3BxX0VQdUFsNi16NHNUaU5la1htbnRXbGNZdDR2d2VvOXlyVHJNbXhhdkVkRGtyT2UxMFlrblNLc2ZUbURHU0ZlbGtRLWRyektJM01SZ2s3dXBmUXN0SlFrMWc)\n",
       "- Harris and Trump differ on AI and cryptocurrency regulations - [Greek Reporter](https://greekreporter.com/2024/10/19/harris-trump-stance-ai-cryptocurrency-regulations/)\n",
       "\n",
       "## Claude's Clues: Inside Anthropic's AI\n",
       "\n",
       "- Claude Sonnet excels in reasoning; ChatGPT excels in interaction - [Geeky Gadgets](https://www.geeky-gadgets.com/claude-sonnet-vs-chatgpt-vs-openai-o1/)\n",
       "- Using Claude AI with interactive visualization tools - [GitHub](https://github.com/anthropics/anthropic-quickstarts/tree/main/financial-data-analyst)\n",
       "- All system prompts for Anthropic's Claude revealed - [Hacker Noon](https://hackernoon.com/all-system-prompts-for-anthropics-claude-revealed)\n",
       "\n",
       "## Nvidia Nuggets: AI Growth and Stock Strategies\n",
       "\n",
       "- Nvidia is among the fastest-growing AI companies, but not the top - [Google News](https://news.google.com/read/CBMisgFBVV95cUxNeFc3aFRnSmRKOWtJaFJWMVVocXg1LUhZU0pkNUZObVFZMVpjVDkzakdwTmw2Z0s3a1ZCdHJVS3NzYnBEdFluZzhSR1lWUlZKRktudWMtNWQ4U3NLOFBxTEtKTThkT1RaUV9DeEFrakttTTVXS3ViY2p2ZDFFcDlMems1QXFWaDF1eUtwNG1oTThicjdEaWlmeXdoUWstQ3VidS1SWXpaQ0puT0RhNDQwbkhB)\n",
       "- For AI investment, consider TSMC over Nvidia - [Yahoo Finance](https://finance.yahoo.com/news/looking-buy-first-ai-stock-110000564.html)\n",
       "- Nvidia stock predicted to reach \\\\$190 amid AI opportunities - [Benzinga](https://www.benzinga.com/analyst-ratings/analyst-color/24/10/41410262/ai-creates-generational-opportunity-why-nvidia-analyst-says-stock-will-hit-190)\n",
       "\n",
       "## AI Fraud Frenzy: Scams and Solutions\n",
       "\n",
       "- Elderly man loses \\\\$25K to AI voice scam - [Reddit](https://www.reddit.com/r/technology/comments/1g6xoem/scammers_swindle_elderly_california_man_out_of/)\n",
       "- US government recovers \\\\$4B in fraud using AI - [Tech.co](https://tech.co/news/us-govt-recovered-billions-fraud-ai)\n",
       "- Rise of AI video call scams explained - [MakeUseOf](https://www.makeuseof.com/how-ai-video-call-scams-work/)\n",
       "\n",
       "## Tongues and Tech: AI Innovations Unveiled\n",
       "\n",
       "- New method enables large language models to answer concisely and accurately - [Tech Xplore](https://techxplore.com/news/2024-10-method-enabling-llms-concisely-accurately.html)\n",
       "- Scientists create AI-powered 'electronic tongue' for food safety - [Live Science](https://www.livescience.com/technology/engineering/scientists-have-built-an-ai-powered-electronic-tongue)\n",
       "\n",
       "## Medical Marvels: AI's Healing Touch\n",
       "\n",
       "- JAMA launches website on AI in healthcare - [The Washington Post](https://www.washingtonpost.com/health/2024/10/19/artificial-intelligence-health-care-website/)\n",
       "- James Gu advances personalized cancer treatment with digital twins - [Benzinga](https://www.benzinga.com/pressreleases/24/10/g41414929/xyz-medias-next-generation-of-innovators-highlights-james-gus-research-advancing-personalized-canc)\n",
       "- HeartFlow announces CPT code for AI-enabled plaque analysis - [Yahoo Finance](https://finance.yahoo.com/news/heartflow-announces-category-cpt-code-163900050.html)\n",
       "\n",
       "## Worldcoin Whirl: Rebrands and Reactions\n",
       "\n",
       "- Altman's crypto project rebrands as 'World,' unveils new Orb - [The Verge](https://www.theverge.com/2024/10/18/24273691/world-orb-sam-altman-iris-scan-crypto-token)\n",
       "- Critics raise concerns over Altman's iris-scanning crypto project - [Inc.](https://www.inc.com/reuters/heres-why-critics-are-raising-eyebrows-over-sam-altmans-iris-scanning-crypto-project/90991229)\n",
       "\n",
       "## Meta's AI Menagerie: New Models Unleashed\n",
       "\n",
       "- Meta releases new AI models, including 'Self-Taught Evaluator' - [TipRanks](https://www.tipranks.com/news/meta-platforms-nasdaqmeta-releases-a-series-of-new-ai-models)\n",
       "- Meta introduces Spirit LM, an open-source multimodal model - [VentureBeat](https://venturebeat.com/ai/meta-introduces-spirit-lm-open-source-model-that-combines-text-and-speech-inputs-outputs/)\n",
       "\n",
       "## AI Allies at Odds: Microsoft and OpenAI\n",
       "\n",
       "- Microsoft may gain equity in restructured OpenAI - [TechCrunch](https://techcrunch.com/2024/10/18/microsoft-could-end-up-with-substantial-equity-in-the-restructured-for-profit-openai/)\n",
       "- Tensions with OpenAI highlight Microsoft's AI ambitions - [GeekWire](https://www.geekwire.com/2024/tensions-with-openai-underscore-microsofts-need-to-ensure-its-own-ai-future)\n",
       "\n",
       "## Pages Protected: Penguin Random House vs. AI\n",
       "\n",
       "- Penguin Random House prohibits AI training on its books - [Mashable](https://mashable.com/article/penguin-random-house-ai-protections-copyright-page)\n",
       "\n",
       "## X Marks the Spot: AI Training and Legal Shifts\n",
       "\n",
       "- X updates terms to allow AI training on user posts, shifts lawsuits to Texas - [Yahoo](https://www.yahoo.com/news/xs-terms-push-lawsuits-texas-110231929.html)\n",
       "\n",
       "## Tesla Troubles: Self-Driving Under Scrutiny\n",
       "\n",
       "- US investigating Tesla's self-driving system after crashes - [Yahoo](https://www.yahoo.com/news/us-probing-elon-musks-tesla-232739208.html)"
      ],
      "text/plain": [
       "<IPython.core.display.Markdown object>"
      ]
     },
     "metadata": {},
     "output_type": "display_data"
    }
   ],
   "source": [
    "for _ in range(MAX_EDITS):\n",
    "    if lg_agent.is_revision_complete(state)=='complete':\n",
    "        break\n",
    "    state = lg_agent.rewrite_summary(state)\n",
    "    display(Markdown(state[\"summary\"].replace(\"$\",\"\\\\\\\\$\")))\n",
    "    "
   ]
  },
  {
   "cell_type": "code",
   "execution_count": 54,
   "id": "9d3097ac",
   "metadata": {},
   "outputs": [
    {
     "name": "stderr",
     "output_type": "stream",
     "text": [
      "2024-10-19 13:12:13,494 - AInewsbot - INFO - Sending summary email\n"
     ]
    }
   ],
   "source": [
    "state = lg_agent.send_mail(state)\n"
   ]
  },
  {
   "cell_type": "markdown",
   "id": "4b0dcbc7",
   "metadata": {},
   "source": [
    "# Instantiate agent and run workflow end to end"
   ]
  },
  {
   "cell_type": "code",
   "execution_count": 37,
   "id": "ed071173",
   "metadata": {},
   "outputs": [
    {
     "name": "stderr",
     "output_type": "stream",
     "text": [
      "2024-10-19 13:19:31,008 - AInewsbot - INFO - Initializing with before_date=2024-10-18 11:00:00, do_download=False, thread_id=7da44215a35245e09c997de014361f84\n"
     ]
    },
    {
     "data": {
      "image/jpeg": "[encoded data removed]",
      "text/plain": [
       "<IPython.core.display.Image object>"
      ]
     },
     "metadata": {},
     "output_type": "display_data"
    }
   ],
   "source": [
    "do_download = False\n",
    "# before_date = None\n",
    "before_date=\"2024-10-18 11:00:00\"\n",
    "\n",
    "# initial state\n",
    "state = AgentState()\n",
    "state[\"before_date\"] = before_date\n",
    "state[\"do_download\"] = do_download\n",
    "state[\"n_edits\"] = 0\n",
    "state[\"edit_complete\"] = False\n",
    "\n",
    "# Configuration with thread ID for checkpointing\n",
    "# Generate a random UUID\n",
    "thread_id = uuid.uuid4().hex\n",
    "config = {\"configurable\": {\"thread_id\": thread_id}}\n",
    "\n",
    "log(f\"Initializing with before_date={state.get('before_date')}, do_download={do_download}, thread_id={thread_id}\")\n",
    "lg_agent = Agent(state)\n",
    "display(Image(lg_agent.graph.get_graph().draw_mermaid_png()))\n"
   ]
  },
  {
   "cell_type": "code",
   "execution_count": 38,
   "id": "02cf6214",
   "metadata": {},
   "outputs": [
    {
     "data": {
      "text/plain": [
       "{'configurable': {'thread_id': '7da44215a35245e09c997de014361f84'}}"
      ]
     },
     "execution_count": 38,
     "metadata": {},
     "output_type": "execute_result"
    }
   ],
   "source": [
    "config\n"
   ]
  },
  {
   "cell_type": "code",
   "execution_count": 39,
   "id": "ecb89028",
   "metadata": {},
   "outputs": [
    {
     "data": {
      "text/plain": [
       "{'before_date': '2024-10-18 11:00:00',\n",
       " 'do_download': False,\n",
       " 'n_edits': 0,\n",
       " 'edit_complete': False}"
      ]
     },
     "execution_count": 39,
     "metadata": {},
     "output_type": "execute_result"
    }
   ],
   "source": [
    "state\n"
   ]
  },
  {
   "cell_type": "code",
   "execution_count": 40,
   "id": "931f3b91",
   "metadata": {},
   "outputs": [
    {
     "name": "stderr",
     "output_type": "stream",
     "text": [
      "2024-10-19 13:19:35,423 - AInewsbot - INFO - Initialized 17 items in sources from sources.yaml\n",
      "2024-10-19 13:19:35,423 - AInewsbot - INFO - Ars Technica -> https://arstechnica.com/ -> Ars Technica.html\n",
      "2024-10-19 13:19:35,424 - AInewsbot - INFO - Bloomberg Tech -> https://www.bloomberg.com/ai -> Bloomberg Technology.html\n",
      "2024-10-19 13:19:35,424 - AInewsbot - INFO - Business Insider -> https://www.businessinsider.com/tech -> Business Insider Tech.html\n",
      "2024-10-19 13:19:35,424 - AInewsbot - INFO - FT Tech -> https://www.ft.com/technology -> FT Technology.html\n",
      "2024-10-19 13:19:35,425 - AInewsbot - INFO - Feedly AI -> https://feedly.com/i/aiFeeds?options=eyJsYXllcnMiOlt7InBhcnRzIjpbeyJpZCI6Im5scC9mL3RvcGljLzMwMDAifV0sInNlYXJjaEhpbnQiOiJ0ZWNobm9sb2d5IiwidHlwZSI6Im1hdGNoZXMiLCJzYWxpZW5jZSI6ImFib3V0In1dLCJidW5kbGVzIjpbeyJ0eXBlIjoic3RyZWFtIiwiaWQiOiJ1c2VyLzYyZWViYjlmLTcxNTEtNGY5YS1hOGM3LTlhNTdiODIwNTMwOC9jYXRlZ29yeS9HYWRnZXRzIn1dfQ -> Feedly AI.html\n",
      "2024-10-19 13:19:35,425 - AInewsbot - INFO - Google News -> https://news.google.com/topics/CAAqJggKIiBDQkFTRWdvSUwyMHZNRGRqTVhZU0FtVnVHZ0pWVXlnQVAB?hl=en-US&gl=US&ceid=US%3Aen -> Google News - Technology - Artificial intelligence.html\n",
      "2024-10-19 13:19:35,425 - AInewsbot - INFO - Hacker News -> https://news.ycombinator.com/ -> Hacker News Page 1.html\n",
      "2024-10-19 13:19:35,426 - AInewsbot - INFO - Hacker News 2 -> https://news.ycombinator.com/?p=2 -> Hacker News Page 2.html\n",
      "2024-10-19 13:19:35,426 - AInewsbot - INFO - HackerNoon -> https://hackernoon.com/ -> HackerNoon.html\n",
      "2024-10-19 13:19:35,426 - AInewsbot - INFO - NYT Tech -> https://www.nytimes.com/section/technology -> New York Times Technology.html\n",
      "2024-10-19 13:19:35,427 - AInewsbot - INFO - Reddit -> https://www.reddit.com/r/ChatGPT+ChatGPTCoding+MacOS+MachineLearning+OpenAI+ProgrammerHumor+Windows10+battlestations+buildapc+cordcutters+dataisbeautiful+gadgets+hardware+linux+msp+programming+realtech+software+talesfromtechsupport+tech+technews+technology+techsupportgore+windows/top/?sort=top&t=day -> Reddit multiple subreddits.html\n",
      "2024-10-19 13:19:35,427 - AInewsbot - INFO - Techmeme -> https://www.techmeme.com/river -> Techmeme.html\n",
      "2024-10-19 13:19:35,427 - AInewsbot - INFO - The Register -> https://www.theregister.com/software/ai_ml/ -> The Register.html\n",
      "2024-10-19 13:19:35,428 - AInewsbot - INFO - The Verge -> https://www.theverge.com/ai-artificial-intelligence -> The Verge AI.html\n",
      "2024-10-19 13:19:35,428 - AInewsbot - INFO - VentureBeat -> https://venturebeat.com/category/ai/ -> VentureBeat AI.html\n",
      "2024-10-19 13:19:35,428 - AInewsbot - INFO - WSJ Tech -> https://www.wsj.com/tech/ai -> WSJ Technology.html\n",
      "2024-10-19 13:19:35,429 - AInewsbot - INFO - WaPo Tech -> https://www.washingtonpost.com/technology/innovations/ -> Washington Post Technology.html\n",
      "2024-10-19 13:19:35,429 - AInewsbot - INFO - Initialized 17 items in sources_reverse\n",
      "2024-10-19 13:19:35,430 - AInewsbot - INFO - Web fetch disabled, using existing files in htmldata\n",
      "2024-10-19 13:19:35,431 - AInewsbot - INFO - Found 17 previously downloaded files\n",
      "2024-10-19 13:19:35,431 - AInewsbot - INFO - htmldata/Hacker News Page 2 (10_19_2024 12_47_20 PM).html\n",
      "2024-10-19 13:19:35,431 - AInewsbot - INFO - htmldata/The Register (10_19_2024 12_47_42 PM).html\n",
      "2024-10-19 13:19:35,432 - AInewsbot - INFO - htmldata/Techmeme (10_19_2024 12_47_41 PM).html\n",
      "2024-10-19 13:19:35,432 - AInewsbot - INFO - htmldata/VentureBeat AI (10_19_2024 12_47_52 PM).html\n",
      "2024-10-19 13:19:35,432 - AInewsbot - INFO - htmldata/HackerNoon (10_19_2024 12_47_30 PM).html\n",
      "2024-10-19 13:19:35,432 - AInewsbot - INFO - htmldata/Feedly AI (10_19_2024 12_48_22 PM).html\n",
      "2024-10-19 13:19:35,433 - AInewsbot - INFO - htmldata/FT Technology (10_19_2024 12_47_09 PM).html\n",
      "2024-10-19 13:19:35,433 - AInewsbot - INFO - htmldata/WSJ Technology (10_19_2024 12_48_03 PM).html\n",
      "2024-10-19 13:19:35,433 - AInewsbot - INFO - htmldata/The Verge AI (10_19_2024 12_47_54 PM).html\n",
      "2024-10-19 13:19:35,434 - AInewsbot - INFO - htmldata/Hacker News Page 1 (10_19_2024 12_47_19 PM).html\n",
      "2024-10-19 13:19:35,434 - AInewsbot - INFO - htmldata/Reddit multiple subreddits (10_19_2024 12_47_59 PM).html\n",
      "2024-10-19 13:19:35,435 - AInewsbot - INFO - htmldata/Bloomberg Technology (10_19_2024 12_47_06 PM).html\n",
      "2024-10-19 13:19:35,435 - AInewsbot - INFO - htmldata/Ars Technica (10_19_2024 12_47_01 PM).html\n",
      "2024-10-19 13:19:35,436 - AInewsbot - INFO - htmldata/Google News - Technology - Artificial intelligence (10_19_2024 12_47_27 PM).html\n",
      "2024-10-19 13:19:35,436 - AInewsbot - INFO - htmldata/New York Times Technology (10_19_2024 12_47_31 PM).html\n",
      "2024-10-19 13:19:35,436 - AInewsbot - INFO - htmldata/Business Insider Tech (10_19_2024 12_47_09 PM).html\n",
      "2024-10-19 13:19:35,437 - AInewsbot - INFO - htmldata/Washington Post Technology (10_19_2024 12_48_08 PM).html\n",
      "2024-10-19 13:19:35,438 - AInewsbot - INFO - Parsing html files\n",
      "2024-10-19 13:19:35,439 - AInewsbot - INFO - Ars Technica -> htmldata/Ars Technica (10_19_2024 12_47_01 PM).html\n",
      "2024-10-19 13:19:35,493 - AInewsbot - INFO - parse_file - found 203 raw links\n",
      "2024-10-19 13:19:35,496 - AInewsbot - INFO - parse_file - found 31 filtered links\n",
      "2024-10-19 13:19:35,496 - AInewsbot - INFO - 31 links found\n",
      "2024-10-19 13:19:35,497 - AInewsbot - INFO - Bloomberg Tech -> htmldata/Bloomberg Technology (10_19_2024 12_47_06 PM).html\n",
      "2024-10-19 13:19:35,518 - AInewsbot - INFO - parse_file - found 202 raw links\n",
      "2024-10-19 13:19:35,521 - AInewsbot - INFO - parse_file - found 14 filtered links\n",
      "2024-10-19 13:19:35,521 - AInewsbot - INFO - 14 links found\n",
      "2024-10-19 13:19:35,521 - AInewsbot - INFO - Business Insider -> htmldata/Business Insider Tech (10_19_2024 12_47_09 PM).html\n",
      "2024-10-19 13:19:35,546 - AInewsbot - INFO - parse_file - found 309 raw links\n",
      "2024-10-19 13:19:35,550 - AInewsbot - INFO - parse_file - found 52 filtered links\n",
      "2024-10-19 13:19:35,551 - AInewsbot - INFO - 52 links found\n",
      "2024-10-19 13:19:35,551 - AInewsbot - INFO - FT Tech -> htmldata/FT Technology (10_19_2024 12_47_09 PM).html\n",
      "2024-10-19 13:19:35,580 - AInewsbot - INFO - parse_file - found 487 raw links\n",
      "2024-10-19 13:19:35,585 - AInewsbot - INFO - parse_file - found 114 filtered links\n",
      "2024-10-19 13:19:35,585 - AInewsbot - INFO - 114 links found\n",
      "2024-10-19 13:19:35,586 - AInewsbot - INFO - Feedly AI -> htmldata/Feedly AI (10_19_2024 12_48_22 PM).html\n",
      "2024-10-19 13:19:35,619 - AInewsbot - INFO - parse_file - found 299 raw links\n",
      "2024-10-19 13:19:35,623 - AInewsbot - INFO - parse_file - found 73 filtered links\n",
      "2024-10-19 13:19:35,623 - AInewsbot - INFO - 73 links found\n",
      "2024-10-19 13:19:35,624 - AInewsbot - INFO - Google News -> htmldata/Google News - Technology - Artificial intelligence (10_19_2024 12_47_27 PM).html\n"
     ]
    },
    {
     "name": "stdout",
     "output_type": "stream",
     "text": [
      "['Ars Technica', 'Bloomberg Tech', 'Business Insider', 'FT Tech', 'Feedly AI', 'Google News', 'Hacker News', 'Hacker News 2', 'HackerNoon', 'NYT Tech', 'Reddit', 'Techmeme', 'The Register', 'The Verge', 'VentureBeat', 'WSJ Tech', 'WaPo Tech']\n",
      "['Ars Technica', 'Bloomberg Tech', 'Business Insider', 'FT Tech', 'Feedly AI', 'Google News', 'Hacker News', 'Hacker News 2', 'HackerNoon', 'NYT Tech', 'Reddit', 'Techmeme', 'The Register', 'The Verge', 'VentureBeat', 'WSJ Tech', 'WaPo Tech']\n"
     ]
    },
    {
     "name": "stderr",
     "output_type": "stream",
     "text": [
      "2024-10-19 13:19:35,663 - AInewsbot - INFO - parse_file - found 162 raw links\n",
      "2024-10-19 13:19:35,665 - AInewsbot - INFO - parse_file - found 64 filtered links\n",
      "2024-10-19 13:19:35,665 - AInewsbot - INFO - 64 links found\n",
      "2024-10-19 13:19:35,665 - AInewsbot - INFO - Hacker News -> htmldata/Hacker News Page 1 (10_19_2024 12_47_19 PM).html\n",
      "2024-10-19 13:19:35,676 - AInewsbot - INFO - parse_file - found 261 raw links\n",
      "2024-10-19 13:19:35,679 - AInewsbot - INFO - parse_file - found 27 filtered links\n",
      "2024-10-19 13:19:35,680 - AInewsbot - INFO - 27 links found\n",
      "2024-10-19 13:19:35,680 - AInewsbot - INFO - Hacker News 2 -> htmldata/Hacker News Page 2 (10_19_2024 12_47_20 PM).html\n",
      "2024-10-19 13:19:35,690 - AInewsbot - INFO - parse_file - found 255 raw links\n",
      "2024-10-19 13:19:35,693 - AInewsbot - INFO - parse_file - found 21 filtered links\n",
      "2024-10-19 13:19:35,693 - AInewsbot - INFO - 21 links found\n",
      "2024-10-19 13:19:35,694 - AInewsbot - INFO - HackerNoon -> htmldata/HackerNoon (10_19_2024 12_47_30 PM).html\n",
      "2024-10-19 13:19:35,841 - AInewsbot - INFO - parse_file - found 598 raw links\n",
      "2024-10-19 13:19:35,850 - AInewsbot - INFO - parse_file - found 100 filtered links\n",
      "2024-10-19 13:19:35,850 - AInewsbot - INFO - 100 links found\n",
      "2024-10-19 13:19:35,850 - AInewsbot - INFO - NYT Tech -> htmldata/New York Times Technology (10_19_2024 12_47_31 PM).html\n",
      "2024-10-19 13:19:35,863 - AInewsbot - INFO - parse_file - found 77 raw links\n",
      "2024-10-19 13:19:35,865 - AInewsbot - INFO - parse_file - found 19 filtered links\n",
      "2024-10-19 13:19:35,866 - AInewsbot - INFO - 19 links found\n",
      "2024-10-19 13:19:35,866 - AInewsbot - INFO - Reddit -> htmldata/Reddit multiple subreddits (10_19_2024 12_47_59 PM).html\n",
      "2024-10-19 13:19:35,889 - AInewsbot - INFO - parse_file - found 194 raw links\n",
      "2024-10-19 13:19:35,893 - AInewsbot - INFO - parse_file - found 120 filtered links\n",
      "2024-10-19 13:19:35,894 - AInewsbot - INFO - 120 links found\n",
      "2024-10-19 13:19:35,894 - AInewsbot - INFO - Techmeme -> htmldata/Techmeme (10_19_2024 12_47_41 PM).html\n",
      "2024-10-19 13:19:35,913 - AInewsbot - INFO - parse_file - found 402 raw links\n",
      "2024-10-19 13:19:35,918 - AInewsbot - INFO - parse_file - found 172 filtered links\n",
      "2024-10-19 13:19:35,918 - AInewsbot - INFO - 172 links found\n",
      "2024-10-19 13:19:35,918 - AInewsbot - INFO - The Register -> htmldata/The Register (10_19_2024 12_47_42 PM).html\n",
      "2024-10-19 13:19:35,941 - AInewsbot - INFO - parse_file - found 203 raw links\n",
      "2024-10-19 13:19:35,946 - AInewsbot - INFO - parse_file - found 110 filtered links\n",
      "2024-10-19 13:19:35,946 - AInewsbot - INFO - 110 links found\n",
      "2024-10-19 13:19:35,946 - AInewsbot - INFO - The Verge -> htmldata/The Verge AI (10_19_2024 12_47_54 PM).html\n",
      "2024-10-19 13:19:35,978 - AInewsbot - INFO - parse_file - found 295 raw links\n",
      "2024-10-19 13:19:35,981 - AInewsbot - INFO - parse_file - found 27 filtered links\n",
      "2024-10-19 13:19:35,982 - AInewsbot - INFO - 27 links found\n",
      "2024-10-19 13:19:35,982 - AInewsbot - INFO - VentureBeat -> htmldata/VentureBeat AI (10_19_2024 12_47_52 PM).html\n",
      "2024-10-19 13:19:36,000 - AInewsbot - INFO - parse_file - found 332 raw links\n",
      "2024-10-19 13:19:36,003 - AInewsbot - INFO - parse_file - found 45 filtered links\n",
      "2024-10-19 13:19:36,004 - AInewsbot - INFO - 45 links found\n",
      "2024-10-19 13:19:36,004 - AInewsbot - INFO - WSJ Tech -> htmldata/WSJ Technology (10_19_2024 12_48_03 PM).html\n",
      "2024-10-19 13:19:36,043 - AInewsbot - INFO - parse_file - found 640 raw links\n",
      "2024-10-19 13:19:36,051 - AInewsbot - INFO - parse_file - found 56 filtered links\n",
      "2024-10-19 13:19:36,052 - AInewsbot - INFO - 56 links found\n",
      "2024-10-19 13:19:36,052 - AInewsbot - INFO - WaPo Tech -> htmldata/Washington Post Technology (10_19_2024 12_48_08 PM).html\n",
      "2024-10-19 13:19:36,080 - AInewsbot - INFO - parse_file - found 199 raw links\n",
      "2024-10-19 13:19:36,083 - AInewsbot - INFO - parse_file - found 58 filtered links\n",
      "2024-10-19 13:19:36,083 - AInewsbot - INFO - 58 links found\n",
      "2024-10-19 13:19:36,083 - AInewsbot - INFO - Saved 1103 links\n"
     ]
    },
    {
     "data": {
      "text/html": [
       "<div>\n",
       "<style scoped>\n",
       "    .dataframe tbody tr th:only-of-type {\n",
       "        vertical-align: middle;\n",
       "    }\n",
       "\n",
       "    .dataframe tbody tr th {\n",
       "        vertical-align: top;\n",
       "    }\n",
       "\n",
       "    .dataframe thead th {\n",
       "        text-align: right;\n",
       "    }\n",
       "</style>\n",
       "<table border=\"1\" class=\"dataframe\">\n",
       "  <thead>\n",
       "    <tr style=\"text-align: right;\">\n",
       "      <th></th>\n",
       "      <th>id</th>\n",
       "    </tr>\n",
       "    <tr>\n",
       "      <th>src</th>\n",
       "      <th></th>\n",
       "    </tr>\n",
       "  </thead>\n",
       "  <tbody>\n",
       "    <tr>\n",
       "      <th>Ars Technica</th>\n",
       "      <td>24</td>\n",
       "    </tr>\n",
       "    <tr>\n",
       "      <th>Bloomberg Tech</th>\n",
       "      <td>11</td>\n",
       "    </tr>\n",
       "    <tr>\n",
       "      <th>Business Insider</th>\n",
       "      <td>51</td>\n",
       "    </tr>\n",
       "    <tr>\n",
       "      <th>FT Tech</th>\n",
       "      <td>55</td>\n",
       "    </tr>\n",
       "    <tr>\n",
       "      <th>Feedly AI</th>\n",
       "      <td>71</td>\n",
       "    </tr>\n",
       "    <tr>\n",
       "      <th>Google News</th>\n",
       "      <td>60</td>\n",
       "    </tr>\n",
       "    <tr>\n",
       "      <th>Hacker News</th>\n",
       "      <td>27</td>\n",
       "    </tr>\n",
       "    <tr>\n",
       "      <th>Hacker News 2</th>\n",
       "      <td>21</td>\n",
       "    </tr>\n",
       "    <tr>\n",
       "      <th>HackerNoon</th>\n",
       "      <td>97</td>\n",
       "    </tr>\n",
       "    <tr>\n",
       "      <th>NYT Tech</th>\n",
       "      <td>18</td>\n",
       "    </tr>\n",
       "    <tr>\n",
       "      <th>Reddit</th>\n",
       "      <td>94</td>\n",
       "    </tr>\n",
       "    <tr>\n",
       "      <th>Techmeme</th>\n",
       "      <td>160</td>\n",
       "    </tr>\n",
       "    <tr>\n",
       "      <th>The Register</th>\n",
       "      <td>110</td>\n",
       "    </tr>\n",
       "    <tr>\n",
       "      <th>The Verge</th>\n",
       "      <td>22</td>\n",
       "    </tr>\n",
       "    <tr>\n",
       "      <th>VentureBeat</th>\n",
       "      <td>40</td>\n",
       "    </tr>\n",
       "    <tr>\n",
       "      <th>WSJ Tech</th>\n",
       "      <td>25</td>\n",
       "    </tr>\n",
       "    <tr>\n",
       "      <th>WaPo Tech</th>\n",
       "      <td>38</td>\n",
       "    </tr>\n",
       "  </tbody>\n",
       "</table>\n",
       "</div>"
      ],
      "text/plain": [
       "                   id\n",
       "src                  \n",
       "Ars Technica       24\n",
       "Bloomberg Tech     11\n",
       "Business Insider   51\n",
       "FT Tech            55\n",
       "Feedly AI          71\n",
       "Google News        60\n",
       "Hacker News        27\n",
       "Hacker News 2      21\n",
       "HackerNoon         97\n",
       "NYT Tech           18\n",
       "Reddit             94\n",
       "Techmeme          160\n",
       "The Register      110\n",
       "The Verge          22\n",
       "VentureBeat        40\n",
       "WSJ Tech           25\n",
       "WaPo Tech          38"
      ]
     },
     "metadata": {},
     "output_type": "display_data"
    },
    {
     "name": "stderr",
     "output_type": "stream",
     "text": [
      "2024-10-19 13:19:36,094 - AInewsbot - INFO - Fetching top 100 stories matching Artificial Intelligence from Newscatcher\n"
     ]
    },
    {
     "data": {
      "text/html": [
       "<div>\n",
       "<style scoped>\n",
       "    .dataframe tbody tr th:only-of-type {\n",
       "        vertical-align: middle;\n",
       "    }\n",
       "\n",
       "    .dataframe tbody tr th {\n",
       "        vertical-align: top;\n",
       "    }\n",
       "\n",
       "    .dataframe thead th {\n",
       "        text-align: right;\n",
       "    }\n",
       "</style>\n",
       "<table border=\"1\" class=\"dataframe\">\n",
       "  <thead>\n",
       "    <tr style=\"text-align: right;\">\n",
       "      <th></th>\n",
       "      <th>id</th>\n",
       "    </tr>\n",
       "    <tr>\n",
       "      <th>src</th>\n",
       "      <th></th>\n",
       "    </tr>\n",
       "  </thead>\n",
       "  <tbody>\n",
       "    <tr>\n",
       "      <th>Ars Technica</th>\n",
       "      <td>24</td>\n",
       "    </tr>\n",
       "    <tr>\n",
       "      <th>Bloomberg Tech</th>\n",
       "      <td>11</td>\n",
       "    </tr>\n",
       "    <tr>\n",
       "      <th>Business Insider</th>\n",
       "      <td>51</td>\n",
       "    </tr>\n",
       "    <tr>\n",
       "      <th>FT Tech</th>\n",
       "      <td>55</td>\n",
       "    </tr>\n",
       "    <tr>\n",
       "      <th>Feedly AI</th>\n",
       "      <td>71</td>\n",
       "    </tr>\n",
       "    <tr>\n",
       "      <th>Google News</th>\n",
       "      <td>60</td>\n",
       "    </tr>\n",
       "    <tr>\n",
       "      <th>Hacker News</th>\n",
       "      <td>27</td>\n",
       "    </tr>\n",
       "    <tr>\n",
       "      <th>Hacker News 2</th>\n",
       "      <td>21</td>\n",
       "    </tr>\n",
       "    <tr>\n",
       "      <th>HackerNoon</th>\n",
       "      <td>97</td>\n",
       "    </tr>\n",
       "    <tr>\n",
       "      <th>NYT Tech</th>\n",
       "      <td>18</td>\n",
       "    </tr>\n",
       "    <tr>\n",
       "      <th>Newscatcher</th>\n",
       "      <td>100</td>\n",
       "    </tr>\n",
       "    <tr>\n",
       "      <th>Reddit</th>\n",
       "      <td>94</td>\n",
       "    </tr>\n",
       "    <tr>\n",
       "      <th>Techmeme</th>\n",
       "      <td>160</td>\n",
       "    </tr>\n",
       "    <tr>\n",
       "      <th>The Register</th>\n",
       "      <td>110</td>\n",
       "    </tr>\n",
       "    <tr>\n",
       "      <th>The Verge</th>\n",
       "      <td>22</td>\n",
       "    </tr>\n",
       "    <tr>\n",
       "      <th>VentureBeat</th>\n",
       "      <td>40</td>\n",
       "    </tr>\n",
       "    <tr>\n",
       "      <th>WSJ Tech</th>\n",
       "      <td>25</td>\n",
       "    </tr>\n",
       "    <tr>\n",
       "      <th>WaPo Tech</th>\n",
       "      <td>38</td>\n",
       "    </tr>\n",
       "  </tbody>\n",
       "</table>\n",
       "</div>"
      ],
      "text/plain": [
       "                   id\n",
       "src                  \n",
       "Ars Technica       24\n",
       "Bloomberg Tech     11\n",
       "Business Insider   51\n",
       "FT Tech            55\n",
       "Feedly AI          71\n",
       "Google News        60\n",
       "Hacker News        27\n",
       "Hacker News 2      21\n",
       "HackerNoon         97\n",
       "NYT Tech           18\n",
       "Newscatcher       100\n",
       "Reddit             94\n",
       "Techmeme          160\n",
       "The Register      110\n",
       "The Verge          22\n",
       "VentureBeat        40\n",
       "WSJ Tech           25\n",
       "WaPo Tech          38"
      ]
     },
     "metadata": {},
     "output_type": "display_data"
    }
   ],
   "source": [
    "state = lg_agent.run(state, config)\n"
   ]
  },
  {
   "cell_type": "code",
   "execution_count": 41,
   "id": "510c8c8e",
   "metadata": {
    "scrolled": true
   },
   "outputs": [
    {
     "ename": "ValueError",
     "evalue": "int is not allowed for map key when strict_map_key=True",
     "output_type": "error",
     "traceback": [
      "\u001b[0;31m---------------------------------------------------------------------------\u001b[0m",
      "\u001b[0;31mValueError\u001b[0m                                Traceback (most recent call last)",
      "Cell \u001b[0;32mIn[41], line 2\u001b[0m\n\u001b[1;32m      1\u001b[0m \u001b[38;5;66;03m# it stopped here because we compiled with interrupt_before=[\"filter_urls\", \"compose_summary\",]\u001b[39;00m\n\u001b[0;32m----> 2\u001b[0m last_state \u001b[38;5;241m=\u001b[39m \u001b[43mlg_agent\u001b[49m\u001b[38;5;241;43m.\u001b[39;49m\u001b[43mgraph\u001b[49m\u001b[38;5;241;43m.\u001b[39;49m\u001b[43mget_state\u001b[49m\u001b[43m(\u001b[49m\u001b[43mconfig\u001b[49m\u001b[43m)\u001b[49m\n",
      "File \u001b[0;32m/opt/anaconda3/envs/ainewsbot/lib/python3.11/site-packages/langgraph/pregel/__init__.py:620\u001b[0m, in \u001b[0;36mPregel.get_state\u001b[0;34m(self, config, subgraphs)\u001b[0m\n\u001b[1;32m    617\u001b[0m         \u001b[38;5;28;01mraise\u001b[39;00m \u001b[38;5;167;01mValueError\u001b[39;00m(\u001b[38;5;124mf\u001b[39m\u001b[38;5;124m\"\u001b[39m\u001b[38;5;124mSubgraph \u001b[39m\u001b[38;5;132;01m{\u001b[39;00mrecast_checkpoint_ns\u001b[38;5;132;01m}\u001b[39;00m\u001b[38;5;124m not found\u001b[39m\u001b[38;5;124m\"\u001b[39m)\n\u001b[1;32m    619\u001b[0m config \u001b[38;5;241m=\u001b[39m merge_configs(\u001b[38;5;28mself\u001b[39m\u001b[38;5;241m.\u001b[39mconfig, config) \u001b[38;5;28;01mif\u001b[39;00m \u001b[38;5;28mself\u001b[39m\u001b[38;5;241m.\u001b[39mconfig \u001b[38;5;28;01melse\u001b[39;00m config\n\u001b[0;32m--> 620\u001b[0m saved \u001b[38;5;241m=\u001b[39m \u001b[43mcheckpointer\u001b[49m\u001b[38;5;241;43m.\u001b[39;49m\u001b[43mget_tuple\u001b[49m\u001b[43m(\u001b[49m\u001b[43mconfig\u001b[49m\u001b[43m)\u001b[49m\n\u001b[1;32m    621\u001b[0m \u001b[38;5;28;01mreturn\u001b[39;00m \u001b[38;5;28mself\u001b[39m\u001b[38;5;241m.\u001b[39m_prepare_state_snapshot(\n\u001b[1;32m    622\u001b[0m     config, saved, recurse\u001b[38;5;241m=\u001b[39mcheckpointer \u001b[38;5;28;01mif\u001b[39;00m subgraphs \u001b[38;5;28;01melse\u001b[39;00m \u001b[38;5;28;01mNone\u001b[39;00m\n\u001b[1;32m    623\u001b[0m )\n",
      "File \u001b[0;32m/opt/anaconda3/envs/ainewsbot/lib/python3.11/site-packages/langgraph/checkpoint/memory/__init__.py:172\u001b[0m, in \u001b[0;36mMemorySaver.get_tuple\u001b[0;34m(self, config)\u001b[0m\n\u001b[1;32m    161\u001b[0m \u001b[38;5;28;01melse\u001b[39;00m:\n\u001b[1;32m    162\u001b[0m     sends \u001b[38;5;241m=\u001b[39m []\n\u001b[1;32m    163\u001b[0m \u001b[38;5;28;01mreturn\u001b[39;00m CheckpointTuple(\n\u001b[1;32m    164\u001b[0m     config\u001b[38;5;241m=\u001b[39m{\n\u001b[1;32m    165\u001b[0m         \u001b[38;5;124m\"\u001b[39m\u001b[38;5;124mconfigurable\u001b[39m\u001b[38;5;124m\"\u001b[39m: {\n\u001b[1;32m    166\u001b[0m             \u001b[38;5;124m\"\u001b[39m\u001b[38;5;124mthread_id\u001b[39m\u001b[38;5;124m\"\u001b[39m: thread_id,\n\u001b[1;32m    167\u001b[0m             \u001b[38;5;124m\"\u001b[39m\u001b[38;5;124mcheckpoint_ns\u001b[39m\u001b[38;5;124m\"\u001b[39m: checkpoint_ns,\n\u001b[1;32m    168\u001b[0m             \u001b[38;5;124m\"\u001b[39m\u001b[38;5;124mcheckpoint_id\u001b[39m\u001b[38;5;124m\"\u001b[39m: checkpoint_id,\n\u001b[1;32m    169\u001b[0m         }\n\u001b[1;32m    170\u001b[0m     },\n\u001b[1;32m    171\u001b[0m     checkpoint\u001b[38;5;241m=\u001b[39m{\n\u001b[0;32m--> 172\u001b[0m         \u001b[38;5;241m*\u001b[39m\u001b[38;5;241m*\u001b[39m\u001b[38;5;28;43mself\u001b[39;49m\u001b[38;5;241;43m.\u001b[39;49m\u001b[43mserde\u001b[49m\u001b[38;5;241;43m.\u001b[39;49m\u001b[43mloads_typed\u001b[49m\u001b[43m(\u001b[49m\u001b[43mcheckpoint\u001b[49m\u001b[43m)\u001b[49m,\n\u001b[1;32m    173\u001b[0m         \u001b[38;5;124m\"\u001b[39m\u001b[38;5;124mpending_sends\u001b[39m\u001b[38;5;124m\"\u001b[39m: [\u001b[38;5;28mself\u001b[39m\u001b[38;5;241m.\u001b[39mserde\u001b[38;5;241m.\u001b[39mloads_typed(s) \u001b[38;5;28;01mfor\u001b[39;00m s \u001b[38;5;129;01min\u001b[39;00m sends],\n\u001b[1;32m    174\u001b[0m     },\n\u001b[1;32m    175\u001b[0m     metadata\u001b[38;5;241m=\u001b[39m\u001b[38;5;28mself\u001b[39m\u001b[38;5;241m.\u001b[39mserde\u001b[38;5;241m.\u001b[39mloads_typed(metadata),\n\u001b[1;32m    176\u001b[0m     pending_writes\u001b[38;5;241m=\u001b[39m[\n\u001b[1;32m    177\u001b[0m         (\u001b[38;5;28mid\u001b[39m, c, \u001b[38;5;28mself\u001b[39m\u001b[38;5;241m.\u001b[39mserde\u001b[38;5;241m.\u001b[39mloads_typed(v)) \u001b[38;5;28;01mfor\u001b[39;00m \u001b[38;5;28mid\u001b[39m, c, v \u001b[38;5;129;01min\u001b[39;00m writes\n\u001b[1;32m    178\u001b[0m     ],\n\u001b[1;32m    179\u001b[0m     parent_config\u001b[38;5;241m=\u001b[39m{\n\u001b[1;32m    180\u001b[0m         \u001b[38;5;124m\"\u001b[39m\u001b[38;5;124mconfigurable\u001b[39m\u001b[38;5;124m\"\u001b[39m: {\n\u001b[1;32m    181\u001b[0m             \u001b[38;5;124m\"\u001b[39m\u001b[38;5;124mthread_id\u001b[39m\u001b[38;5;124m\"\u001b[39m: thread_id,\n\u001b[1;32m    182\u001b[0m             \u001b[38;5;124m\"\u001b[39m\u001b[38;5;124mcheckpoint_ns\u001b[39m\u001b[38;5;124m\"\u001b[39m: checkpoint_ns,\n\u001b[1;32m    183\u001b[0m             \u001b[38;5;124m\"\u001b[39m\u001b[38;5;124mcheckpoint_id\u001b[39m\u001b[38;5;124m\"\u001b[39m: parent_checkpoint_id,\n\u001b[1;32m    184\u001b[0m         }\n\u001b[1;32m    185\u001b[0m     }\n\u001b[1;32m    186\u001b[0m     \u001b[38;5;28;01mif\u001b[39;00m parent_checkpoint_id\n\u001b[1;32m    187\u001b[0m     \u001b[38;5;28;01melse\u001b[39;00m \u001b[38;5;28;01mNone\u001b[39;00m,\n\u001b[1;32m    188\u001b[0m )\n",
      "File \u001b[0;32m/opt/anaconda3/envs/ainewsbot/lib/python3.11/site-packages/langgraph/checkpoint/serde/jsonplus.py:209\u001b[0m, in \u001b[0;36mJsonPlusSerializer.loads_typed\u001b[0;34m(self, data)\u001b[0m\n\u001b[1;32m    207\u001b[0m     \u001b[38;5;28;01mreturn\u001b[39;00m \u001b[38;5;28mself\u001b[39m\u001b[38;5;241m.\u001b[39mloads(data_)\n\u001b[1;32m    208\u001b[0m \u001b[38;5;28;01melif\u001b[39;00m type_ \u001b[38;5;241m==\u001b[39m \u001b[38;5;124m\"\u001b[39m\u001b[38;5;124mmsgpack\u001b[39m\u001b[38;5;124m\"\u001b[39m:\n\u001b[0;32m--> 209\u001b[0m     \u001b[38;5;28;01mreturn\u001b[39;00m \u001b[43mmsgpack\u001b[49m\u001b[38;5;241;43m.\u001b[39;49m\u001b[43munpackb\u001b[49m\u001b[43m(\u001b[49m\u001b[43mdata_\u001b[49m\u001b[43m,\u001b[49m\u001b[43m \u001b[49m\u001b[43mext_hook\u001b[49m\u001b[38;5;241;43m=\u001b[39;49m\u001b[43m_msgpack_ext_hook\u001b[49m\u001b[43m)\u001b[49m\n\u001b[1;32m    210\u001b[0m \u001b[38;5;28;01melse\u001b[39;00m:\n\u001b[1;32m    211\u001b[0m     \u001b[38;5;28;01mraise\u001b[39;00m \u001b[38;5;167;01mNotImplementedError\u001b[39;00m(\u001b[38;5;124mf\u001b[39m\u001b[38;5;124m\"\u001b[39m\u001b[38;5;124mUnknown serialization type: \u001b[39m\u001b[38;5;132;01m{\u001b[39;00mtype_\u001b[38;5;132;01m}\u001b[39;00m\u001b[38;5;124m\"\u001b[39m)\n",
      "File \u001b[0;32mmsgpack/_unpacker.pyx:194\u001b[0m, in \u001b[0;36mmsgpack._cmsgpack.unpackb\u001b[0;34m()\u001b[0m\n",
      "\u001b[0;31mValueError\u001b[0m: int is not allowed for map key when strict_map_key=True"
     ]
    }
   ],
   "source": [
    "# it stopped here because we compiled with interrupt_before=[\"filter_urls\", \"compose_summary\",]\n",
    "last_state = lg_agent.graph.get_state(config)\n"
   ]
  },
  {
   "cell_type": "code",
   "execution_count": 61,
   "id": "e18d7848",
   "metadata": {},
   "outputs": [
    {
     "ename": "EmptyInputError",
     "evalue": "Received no input for __start__",
     "output_type": "error",
     "traceback": [
      "\u001b[0;31m---------------------------------------------------------------------------\u001b[0m",
      "\u001b[0;31mEmptyInputError\u001b[0m                           Traceback (most recent call last)",
      "Cell \u001b[0;32mIn[61], line 1\u001b[0m\n\u001b[0;32m----> 1\u001b[0m state \u001b[38;5;241m=\u001b[39m \u001b[43mlg_agent\u001b[49m\u001b[38;5;241;43m.\u001b[39;49m\u001b[43mrun\u001b[49m\u001b[43m(\u001b[49m\u001b[38;5;28;43;01mNone\u001b[39;49;00m\u001b[43m,\u001b[49m\u001b[43m \u001b[49m\u001b[43mconfig\u001b[49m\u001b[43m)\u001b[49m\n",
      "Cell \u001b[0;32mIn[55], line 108\u001b[0m, in \u001b[0;36mAgent.run\u001b[0;34m(self, state, config)\u001b[0m\n\u001b[1;32m    103\u001b[0m \u001b[38;5;28;01mdef\u001b[39;00m \u001b[38;5;21mrun\u001b[39m(\u001b[38;5;28mself\u001b[39m, state, config):\n\u001b[1;32m    104\u001b[0m     \u001b[38;5;66;03m# The config is the **second positional argument** to stream() or invoke()!\u001b[39;00m\n\u001b[1;32m    105\u001b[0m     events \u001b[38;5;241m=\u001b[39m \u001b[38;5;28mself\u001b[39m\u001b[38;5;241m.\u001b[39mgraph\u001b[38;5;241m.\u001b[39mstream(state, config, stream_mode\u001b[38;5;241m=\u001b[39m\u001b[38;5;124m\"\u001b[39m\u001b[38;5;124mvalues\u001b[39m\u001b[38;5;124m\"\u001b[39m\n\u001b[1;32m    106\u001b[0m     )\n\u001b[0;32m--> 108\u001b[0m \u001b[43m    \u001b[49m\u001b[38;5;28;43;01mfor\u001b[39;49;00m\u001b[43m \u001b[49m\u001b[43mevent\u001b[49m\u001b[43m \u001b[49m\u001b[38;5;129;43;01min\u001b[39;49;00m\u001b[43m \u001b[49m\u001b[43mevents\u001b[49m\u001b[43m:\u001b[49m\n\u001b[1;32m    109\u001b[0m \u001b[43m        \u001b[49m\u001b[38;5;28;43;01mtry\u001b[39;49;00m\u001b[43m:\u001b[49m\n\u001b[1;32m    110\u001b[0m \u001b[43m            \u001b[49m\u001b[38;5;28;43;01mif\u001b[39;49;00m\u001b[43m \u001b[49m\u001b[43mevent\u001b[49m\u001b[38;5;241;43m.\u001b[39;49m\u001b[43mget\u001b[49m\u001b[43m(\u001b[49m\u001b[38;5;124;43m'\u001b[39;49m\u001b[38;5;124;43msummary\u001b[39;49m\u001b[38;5;124;43m'\u001b[39;49m\u001b[43m)\u001b[49m\u001b[43m:\u001b[49m\n",
      "File \u001b[0;32m/opt/anaconda3/envs/ainewsbot/lib/python3.11/site-packages/langgraph/pregel/__init__.py:1301\u001b[0m, in \u001b[0;36mPregel.stream\u001b[0;34m(self, input, config, stream_mode, output_keys, interrupt_before, interrupt_after, debug, subgraphs)\u001b[0m\n\u001b[1;32m   1295\u001b[0m     get_waiter \u001b[38;5;241m=\u001b[39m \u001b[38;5;28;01mNone\u001b[39;00m  \u001b[38;5;66;03m# type: ignore[assignment]\u001b[39;00m\n\u001b[1;32m   1296\u001b[0m \u001b[38;5;66;03m# Similarly to Bulk Synchronous Parallel / Pregel model\u001b[39;00m\n\u001b[1;32m   1297\u001b[0m \u001b[38;5;66;03m# computation proceeds in steps, while there are channel updates\u001b[39;00m\n\u001b[1;32m   1298\u001b[0m \u001b[38;5;66;03m# channel updates from step N are only visible in step N+1\u001b[39;00m\n\u001b[1;32m   1299\u001b[0m \u001b[38;5;66;03m# channels are guaranteed to be immutable for the duration of the step,\u001b[39;00m\n\u001b[1;32m   1300\u001b[0m \u001b[38;5;66;03m# with channel updates applied only at the transition between steps\u001b[39;00m\n\u001b[0;32m-> 1301\u001b[0m \u001b[38;5;28;01mwhile\u001b[39;00m \u001b[43mloop\u001b[49m\u001b[38;5;241;43m.\u001b[39;49m\u001b[43mtick\u001b[49m\u001b[43m(\u001b[49m\n\u001b[1;32m   1302\u001b[0m \u001b[43m    \u001b[49m\u001b[43minput_keys\u001b[49m\u001b[38;5;241;43m=\u001b[39;49m\u001b[38;5;28;43mself\u001b[39;49m\u001b[38;5;241;43m.\u001b[39;49m\u001b[43minput_channels\u001b[49m\u001b[43m,\u001b[49m\n\u001b[1;32m   1303\u001b[0m \u001b[43m    \u001b[49m\u001b[43minterrupt_before\u001b[49m\u001b[38;5;241;43m=\u001b[39;49m\u001b[43minterrupt_before_\u001b[49m\u001b[43m,\u001b[49m\n\u001b[1;32m   1304\u001b[0m \u001b[43m    \u001b[49m\u001b[43minterrupt_after\u001b[49m\u001b[38;5;241;43m=\u001b[39;49m\u001b[43minterrupt_after_\u001b[49m\u001b[43m,\u001b[49m\n\u001b[1;32m   1305\u001b[0m \u001b[43m    \u001b[49m\u001b[43mmanager\u001b[49m\u001b[38;5;241;43m=\u001b[39;49m\u001b[43mrun_manager\u001b[49m\u001b[43m,\u001b[49m\n\u001b[1;32m   1306\u001b[0m \u001b[43m\u001b[49m\u001b[43m)\u001b[49m:\n\u001b[1;32m   1307\u001b[0m     \u001b[38;5;28;01mfor\u001b[39;00m _ \u001b[38;5;129;01min\u001b[39;00m runner\u001b[38;5;241m.\u001b[39mtick(\n\u001b[1;32m   1308\u001b[0m         loop\u001b[38;5;241m.\u001b[39mtasks\u001b[38;5;241m.\u001b[39mvalues(),\n\u001b[1;32m   1309\u001b[0m         timeout\u001b[38;5;241m=\u001b[39m\u001b[38;5;28mself\u001b[39m\u001b[38;5;241m.\u001b[39mstep_timeout,\n\u001b[0;32m   (...)\u001b[0m\n\u001b[1;32m   1312\u001b[0m     ):\n\u001b[1;32m   1313\u001b[0m         \u001b[38;5;66;03m# emit output\u001b[39;00m\n\u001b[1;32m   1314\u001b[0m         \u001b[38;5;28;01myield from\u001b[39;00m output()\n",
      "File \u001b[0;32m/opt/anaconda3/envs/ainewsbot/lib/python3.11/site-packages/langgraph/pregel/loop.py:276\u001b[0m, in \u001b[0;36mPregelLoop.tick\u001b[0;34m(self, input_keys, interrupt_after, interrupt_before, manager)\u001b[0m\n\u001b[1;32m    273\u001b[0m     \u001b[38;5;28;01mraise\u001b[39;00m \u001b[38;5;167;01mRuntimeError\u001b[39;00m(\u001b[38;5;124m\"\u001b[39m\u001b[38;5;124mCannot tick when status is no longer \u001b[39m\u001b[38;5;124m'\u001b[39m\u001b[38;5;124mpending\u001b[39m\u001b[38;5;124m'\u001b[39m\u001b[38;5;124m\"\u001b[39m)\n\u001b[1;32m    275\u001b[0m \u001b[38;5;28;01mif\u001b[39;00m \u001b[38;5;28mself\u001b[39m\u001b[38;5;241m.\u001b[39minput \u001b[38;5;129;01mnot\u001b[39;00m \u001b[38;5;129;01min\u001b[39;00m (INPUT_DONE, INPUT_RESUMING):\n\u001b[0;32m--> 276\u001b[0m     \u001b[38;5;28;43mself\u001b[39;49m\u001b[38;5;241;43m.\u001b[39;49m\u001b[43m_first\u001b[49m\u001b[43m(\u001b[49m\u001b[43minput_keys\u001b[49m\u001b[38;5;241;43m=\u001b[39;49m\u001b[43minput_keys\u001b[49m\u001b[43m)\u001b[49m\n\u001b[1;32m    277\u001b[0m \u001b[38;5;28;01melif\u001b[39;00m \u001b[38;5;28mall\u001b[39m(task\u001b[38;5;241m.\u001b[39mwrites \u001b[38;5;28;01mfor\u001b[39;00m task \u001b[38;5;129;01min\u001b[39;00m \u001b[38;5;28mself\u001b[39m\u001b[38;5;241m.\u001b[39mtasks\u001b[38;5;241m.\u001b[39mvalues()):\n\u001b[1;32m    278\u001b[0m     writes \u001b[38;5;241m=\u001b[39m [w \u001b[38;5;28;01mfor\u001b[39;00m t \u001b[38;5;129;01min\u001b[39;00m \u001b[38;5;28mself\u001b[39m\u001b[38;5;241m.\u001b[39mtasks\u001b[38;5;241m.\u001b[39mvalues() \u001b[38;5;28;01mfor\u001b[39;00m w \u001b[38;5;129;01min\u001b[39;00m t\u001b[38;5;241m.\u001b[39mwrites]\n",
      "File \u001b[0;32m/opt/anaconda3/envs/ainewsbot/lib/python3.11/site-packages/langgraph/pregel/loop.py:478\u001b[0m, in \u001b[0;36mPregelLoop._first\u001b[0;34m(self, input_keys)\u001b[0m\n\u001b[1;32m    476\u001b[0m     \u001b[38;5;28mself\u001b[39m\u001b[38;5;241m.\u001b[39m_put_checkpoint({\u001b[38;5;124m\"\u001b[39m\u001b[38;5;124msource\u001b[39m\u001b[38;5;124m\"\u001b[39m: \u001b[38;5;124m\"\u001b[39m\u001b[38;5;124minput\u001b[39m\u001b[38;5;124m\"\u001b[39m, \u001b[38;5;124m\"\u001b[39m\u001b[38;5;124mwrites\u001b[39m\u001b[38;5;124m\"\u001b[39m: \u001b[38;5;28mdict\u001b[39m(input_writes)})\n\u001b[1;32m    477\u001b[0m \u001b[38;5;28;01melif\u001b[39;00m CONFIG_KEY_RESUMING \u001b[38;5;129;01mnot\u001b[39;00m \u001b[38;5;129;01min\u001b[39;00m configurable:\n\u001b[0;32m--> 478\u001b[0m     \u001b[38;5;28;01mraise\u001b[39;00m EmptyInputError(\u001b[38;5;124mf\u001b[39m\u001b[38;5;124m\"\u001b[39m\u001b[38;5;124mReceived no input for \u001b[39m\u001b[38;5;132;01m{\u001b[39;00minput_keys\u001b[38;5;132;01m}\u001b[39;00m\u001b[38;5;124m\"\u001b[39m)\n\u001b[1;32m    479\u001b[0m \u001b[38;5;66;03m# done with input\u001b[39;00m\n\u001b[1;32m    480\u001b[0m \u001b[38;5;28mself\u001b[39m\u001b[38;5;241m.\u001b[39minput \u001b[38;5;241m=\u001b[39m INPUT_RESUMING \u001b[38;5;28;01mif\u001b[39;00m is_resuming \u001b[38;5;28;01melse\u001b[39;00m INPUT_DONE\n",
      "\u001b[0;31mEmptyInputError\u001b[0m: Received no input for __start__"
     ]
    }
   ],
   "source": [
    "state = lg_agent.run(None, config)\n"
   ]
  },
  {
   "cell_type": "code",
   "execution_count": 62,
   "id": "5edaf0d4",
   "metadata": {},
   "outputs": [],
   "source": [
    "for state in lg_agent.graph.get_state_history(config):\n",
    "    print(state)\n"
   ]
  },
  {
   "cell_type": "code",
   "execution_count": null,
   "id": "f18fc0b4",
   "metadata": {},
   "outputs": [],
   "source": [
    "snapshot.count ()\n",
    "\n"
   ]
  },
  {
   "cell_type": "code",
   "execution_count": null,
   "id": "7d7c80fe",
   "metadata": {},
   "outputs": [],
   "source": [
    "snapshot = lg_agent.graph.get_state(config)\n",
    "sna"
   ]
  },
  {
   "cell_type": "code",
   "execution_count": null,
   "id": "ef12bd9a",
   "metadata": {},
   "outputs": [],
   "source": [
    "events = lg_agent.graph.stream(None, config, stream_mode=\"values\")\n"
   ]
  },
  {
   "cell_type": "code",
   "execution_count": null,
   "id": "a7a42109",
   "metadata": {},
   "outputs": [],
   "source": [
    "for event in events:\n",
    "    print(event)"
   ]
  },
  {
   "cell_type": "code",
   "execution_count": null,
   "id": "db9248c2",
   "metadata": {},
   "outputs": [],
   "source": [
    "if user_approval.lower() == \"yes\":\n",
    "    # If approved, continue the graph execution\n",
    "    events = lg_agent.graph.stream(None, config, stream_mode=\"values\")\n",
    "    for event in events:\n",
    "        if \"messages\" in event:\n",
    "            event[\"messages\"][-1].pretty_print()    \n",
    "else:\n",
    "    print(\"Operation cancelled by user.\")\n"
   ]
  },
  {
   "cell_type": "code",
   "execution_count": null,
   "id": "5d9b7583",
   "metadata": {},
   "outputs": [],
   "source": [
    "# get last state\n",
    "last_state = lg_agent.graph.get_state(config)\n",
    "pd.DataFrame(last_state.values['AIdf'])\n"
   ]
  },
  {
   "cell_type": "code",
   "execution_count": null,
   "id": "f7ec31c1",
   "metadata": {},
   "outputs": [],
   "source": [
    "# update state as node\n",
    "# lg_agent.graph.update_state(config, {\"foo\": 2, \"bar\": [\"b\"]}, as_node=\"revise_summary\")\n"
   ]
  },
  {
   "cell_type": "code",
   "execution_count": null,
   "id": "b44a4a90",
   "metadata": {},
   "outputs": [],
   "source": [
    "# resume from error starting at a node\n",
    "# result = lg_agent.graph.invoke(None, {'configurable': {'thread_id': 'newsbot-thread-5'}, \"next\": \"topic_analysis\"})"
   ]
  },
  {
   "cell_type": "code",
   "execution_count": null,
   "id": "62207b6b",
   "metadata": {},
   "outputs": [],
   "source": []
  }
 ],
 "metadata": {
  "kernelspec": {
   "display_name": "ainewsbot",
   "language": "python",
   "name": "ainewsbot"
  },
  "language_info": {
   "codemirror_mode": {
    "name": "ipython",
    "version": 3
   },
   "file_extension": ".py",
   "mimetype": "text/x-python",
   "name": "python",
   "nbconvert_exporter": "python",
   "pygments_lexer": "ipython3",
   "version": "3.11.10"
  }
 },
 "nbformat": 4,
 "nbformat_minor": 5
}
