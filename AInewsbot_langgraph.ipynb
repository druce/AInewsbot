{
 "cells": [
  {
   "cell_type": "markdown",
   "id": "f7c703a9",
   "metadata": {},
   "source": [
    "### Newsbot to write a daily AI news summary using langgraph\n",
    "- Save a list of HTML files from sources.yaml (tech news sites)\n",
    "- Extract URLs for the news stories\n",
    "- Filter URLs to remove duplicates, articles seen before, and non-AI articles (using a ChatGPT prompt)\n",
    "- Perform headline topic analysis and sort by topic to help the AI structure the response by topic\n",
    "- Scrape and summarize individual articles\n",
    "- Compose and email the summary\n",
    "- Used to generate a daily newsletter at skynetandchill.com \n"
   ]
  },
  {
   "cell_type": "code",
   "execution_count": 1,
   "id": "74032f7c",
   "metadata": {},
   "outputs": [],
   "source": [
    "# to selectively re-import as needed\n",
    "import sys\n",
    "# del sys.modules['ainb_llm']\n",
    "# del sys.modules['ainb_const']\n",
    "# del sys.modules['ainb_utilities']\n",
    "# del sys.modules['ainb_webscrape']\n"
   ]
  },
  {
   "cell_type": "code",
   "execution_count": 2,
   "id": "562be45b",
   "metadata": {},
   "outputs": [],
   "source": [
    "from datetime import datetime, timedelta\n",
    "import os\n",
    "import yaml\n",
    "import sqlite3\n",
    "import json\n",
    "from collections import Counter\n",
    "import uuid\n",
    "from typing import TypedDict, Annotated\n",
    "import subprocess\n",
    "import requests\n",
    "import re\n",
    "\n",
    "import operator\n",
    "import pickle\n",
    "\n",
    "import langchain\n",
    "from langchain_openai import ChatOpenAI\n",
    "from langchain_core.messages import BaseMessage, AnyMessage, SystemMessage, HumanMessage, ToolMessage\n",
    "from langchain_core.prompts import (ChatPromptTemplate, MessagesPlaceholder, PromptTemplate,\n",
    "                                    SystemMessagePromptTemplate, HumanMessagePromptTemplate)\n",
    "from langgraph.checkpoint.memory import MemorySaver\n",
    "from langgraph.checkpoint.sqlite import SqliteSaver\n",
    "from langgraph.checkpoint.sqlite.aio import AsyncSqliteSaver\n",
    "\n",
    "from langchain_core.output_parsers import SimpleJsonOutputParser, JsonOutputParser, StrOutputParser\n",
    "\n",
    "from langgraph.graph import StateGraph, START, END\n",
    "\n",
    "from langchain_community.tools.tavily_search import TavilySearchResults\n",
    "from langgraph.graph.message import add_messages\n",
    "from langgraph.prebuilt import ToolNode, tools_condition\n",
    "\n",
    "import numpy as np\n",
    "import pandas as pd\n",
    "import umap\n",
    "\n",
    "import sklearn\n",
    "from sklearn.cluster import DBSCAN\n",
    "\n",
    "import bs4\n",
    "from urllib.parse import urljoin, urlparse\n",
    "\n",
    "import multiprocessing\n",
    "import asyncio\n",
    "import aiohttp\n",
    "\n",
    "from IPython.display import HTML, Image, Markdown, display\n",
    "import markdown\n",
    "\n",
    "import pyperclip\n",
    "import shlex\n",
    "\n",
    "import openai\n",
    "from openai import OpenAI\n",
    "\n",
    "import trafilatura   # web scrape uses this to get clean news stories w/o a lot of js and boilerplate\n",
    "\n",
    "import pdb\n",
    "\n",
    "import dotenv\n",
    "VERBOSE=1\n",
    "from ainb_const import (DOWNLOAD_DIR, PAGES_DIR,\n",
    "                        MODEL, LOWCOST_MODEL, HIGHCOST_MODEL, CANONICAL_TOPICS,\n",
    "                        SOURCECONFIG, FILTER_PROMPT, TOPIC_PROMPT,\n",
    "                        SUMMARIZE_SYSTEM_PROMPT, SUMMARIZE_USER_PROMPT, FINAL_SUMMARY_PROMPT, \n",
    "                        TOP_CATEGORIES_PROMPT, TOPIC_REWRITE_PROMPT, REWRITE_PROMPT,\n",
    "                        MAX_INPUT_TOKENS, MAX_OUTPUT_TOKENS, MAX_RETRIES, TEMPERATURE, SQLITE_DB,\n",
    "                        HOSTNAME_SKIPLIST, SITE_NAME_SKIPLIST, TOPSOURCES\n",
    "                       )\n",
    "from ainb_utilities import (log, delete_files, filter_unseen_urls_db, insert_article,\n",
    "                            nearest_neighbor_sort, agglomerative_cluster_sort, traveling_salesman_sort_scipy,\n",
    "                            unicode_to_ascii, send_gmail)\n",
    "from ainb_webscrape import (get_driver, quit_drivers, launch_drivers, get_file, get_url, parse_file,\n",
    "                            get_og_tags, get_path_from_url, trimmed_href, process_source_queue_factory,\n",
    "                            process_url_queue_factory, get_google_news_redirects)\n",
    "from ainb_llm import (paginate_df, process_pages, fetch_pages, fetch_openai, fetch_all_summaries,\n",
    "                      fetch_openai_summary, count_tokens, trunc_tokens, \n",
    "                      categorize_headline, categorize_df, clean_topics,\n",
    "                      get_site_name, fetch_missing_site_names)\n",
    "\n",
    "\n",
    "import asyncio\n",
    "# need this to run async in jupyter since it already has an asyncio event loop running\n",
    "import nest_asyncio\n",
    "nest_asyncio.apply()\n"
   ]
  },
  {
   "cell_type": "code",
   "execution_count": 3,
   "id": "59ba13ee",
   "metadata": {},
   "outputs": [
    {
     "name": "stdout",
     "output_type": "stream",
     "text": [
      "Python            3.11.10 | packaged by conda-forge | (main, Sep 10 2024, 10:57:35) [Clang 17.0.6 ]\n",
      "LangChain         0.3.3\n",
      "OpenAI            1.52.0\n",
      "trafilatura       1.12.2\n",
      "numpy             1.26.4\n",
      "pandas            2.2.3\n",
      "sklearn           1.5.2\n",
      "umap              0.5.6\n"
     ]
    }
   ],
   "source": [
    "print(f\"Python            {sys.version}\")\n",
    "print(f\"LangChain         {langchain.__version__}\")\n",
    "print(f\"OpenAI            {openai.__version__}\")\n",
    "# print(f\"smtplib           {smtplib.sys.version}\")\n",
    "print(f\"trafilatura       {trafilatura.__version__}\")\n",
    "# print(f\"bs4               {bs4.__version__}\")\n",
    "print(f\"numpy             {np.__version__}\")\n",
    "print(f\"pandas            {pd.__version__}\")\n",
    "print(f\"sklearn           {sklearn.__version__}\")\n",
    "print(f\"umap              {umap.__version__}\")\n"
   ]
  },
  {
   "cell_type": "markdown",
   "id": "eb072688",
   "metadata": {},
   "source": [
    "# Test LLM calling"
   ]
  },
  {
   "cell_type": "code",
   "execution_count": 4,
   "id": "a5ed3b77",
   "metadata": {},
   "outputs": [
    {
     "name": "stderr",
     "output_type": "stream",
     "text": [
      "2024-11-09 17:50:54,126 - httpx - INFO - HTTP Request: POST https://api.openai.com/v1/chat/completions \"HTTP/1.1 200 OK\"\n"
     ]
    },
    {
     "data": {
      "text/plain": [
       "AIMessage(content='Ascoltami. Sei bellissima. Sei perfetta e ti amo.', additional_kwargs={'refusal': None}, response_metadata={'token_usage': {'completion_tokens': 16, 'prompt_tokens': 34, 'total_tokens': 50, 'completion_tokens_details': {'audio_tokens': 0, 'reasoning_tokens': 0, 'accepted_prediction_tokens': 0, 'rejected_prediction_tokens': 0}, 'prompt_tokens_details': {'audio_tokens': 0, 'cached_tokens': 0}}, 'model_name': 'chatgpt-4o-latest', 'system_fingerprint': 'fp_e9e8eff3a8', 'finish_reason': 'stop', 'logprobs': None}, id='run-cb941606-91fe-4c15-abd9-c9612f850e85-0', usage_metadata={'input_tokens': 34, 'output_tokens': 16, 'total_tokens': 50, 'input_token_details': {'audio': 0, 'cache_read': 0}, 'output_token_details': {'audio': 0, 'reasoning': 0}})"
      ]
     },
     "execution_count": 4,
     "metadata": {},
     "output_type": "execute_result"
    }
   ],
   "source": [
    "# a basic LLM call with langchain\n",
    "model = ChatOpenAI(model=MODEL)\n",
    "\n",
    "model.invoke([\n",
    "    SystemMessage(content=\"Translate the following from English into Italian\"),\n",
    "    HumanMessage(content='Listen to me. You are beautiful. You are perfect and I love you.'),\n",
    "])\n"
   ]
  },
  {
   "cell_type": "code",
   "execution_count": 5,
   "id": "79ff6dff",
   "metadata": {},
   "outputs": [
    {
     "name": "stderr",
     "output_type": "stream",
     "text": [
      "2024-11-09 17:50:54,605 - httpx - INFO - HTTP Request: POST https://api.openai.com/v1/chat/completions \"HTTP/1.1 200 OK\"\n"
     ]
    },
    {
     "data": {
      "text/plain": [
       "'Ciao'"
      ]
     },
     "execution_count": 5,
     "metadata": {},
     "output_type": "execute_result"
    }
   ],
   "source": [
    "# use a langchain template\n",
    "system_template = \"Translate the following into {language}:\"\n",
    "prompt_template = ChatPromptTemplate.from_messages(\n",
    "    [(\"system\", system_template), (\"user\", \"{text}\")]\n",
    ")\n",
    "parser = StrOutputParser()\n",
    "chain = prompt_template | model | parser\n",
    "chain.invoke({\"language\": \"italian\", \"text\": \"hi\"})\n"
   ]
  },
  {
   "cell_type": "code",
   "execution_count": 6,
   "id": "6382e44e",
   "metadata": {
    "scrolled": true
   },
   "outputs": [
    {
     "name": "stderr",
     "output_type": "stream",
     "text": [
      "2024-11-09 17:50:55,249 - httpx - INFO - HTTP Request: POST https://api.openai.com/v1/chat/completions \"HTTP/1.1 200 OK\"\n"
     ]
    },
    {
     "name": "stdout",
     "output_type": "stream",
     "text": [
      "Écoute-moi. Tu es parfait(e). Tu es magnifique et je t'aime."
     ]
    },
    {
     "name": "stderr",
     "output_type": "stream",
     "text": [
      "2024-11-09 17:50:56,008 - httpx - INFO - HTTP Request: POST https://api.openai.com/v1/chat/completions \"HTTP/1.1 200 OK\"\n"
     ]
    },
    {
     "name": "stdout",
     "output_type": "stream",
     "text": [
      "Hör mir zu. Du bist makellos. Du bist exquisit, und ich liebe dich."
     ]
    },
    {
     "name": "stderr",
     "output_type": "stream",
     "text": [
      "2024-11-09 17:50:56,889 - httpx - INFO - HTTP Request: POST https://api.openai.com/v1/chat/completions \"HTTP/1.1 200 OK\"\n"
     ]
    },
    {
     "name": "stdout",
     "output_type": "stream",
     "text": [
      "Escúchame. Eres perfecta. Eres hermosa y te amo."
     ]
    },
    {
     "name": "stderr",
     "output_type": "stream",
     "text": [
      "2024-11-09 17:50:57,608 - httpx - INFO - HTTP Request: POST https://api.openai.com/v1/chat/completions \"HTTP/1.1 200 OK\"\n"
     ]
    },
    {
     "name": "stdout",
     "output_type": "stream",
     "text": [
      "Ascoltami. Sei incredibile. Sei magnifico e ti amo."
     ]
    },
    {
     "name": "stderr",
     "output_type": "stream",
     "text": [
      "2024-11-09 17:50:57,950 - httpx - INFO - HTTP Request: POST https://api.openai.com/v1/chat/completions \"HTTP/1.1 200 OK\"\n"
     ]
    },
    {
     "name": "stdout",
     "output_type": "stream",
     "text": [
      "Hallgass rám. Elbűvölő vagy. Lenyűgöző vagy, és szeretlek.\n",
      "\n",
      "Elapsed seconds: 3.564469\n"
     ]
    }
   ],
   "source": [
    "# time multiple templates (single-threaded)\n",
    "prompt_inputs = [\n",
    "    {\"language\": \"French\", \"adjective1\": \"flawless\", \"adjective2\": \"beautiful\"},\n",
    "    {\"language\": \"German\", \"adjective1\": \"immaculate\", \"adjective2\": \"exquisite\"},\n",
    "    {\"language\": \"Spanish\", \"adjective1\": \"perfect\", \"adjective2\": \"gorgeous\"},\n",
    "    {\"language\": \"Italian\", \"adjective1\": \"amazing\", \"adjective2\": \"magnificent\"},\n",
    "    {\"language\": \"Hungarian\", \"adjective1\": \"ravishing\", \"adjective2\": \"stunning\"},\n",
    "]\n",
    "\n",
    "system_template = 'Translate the following into {language}:'\n",
    "user_template = 'Listen to me. You are {adjective1}. You are {adjective2} and I love you.'\n",
    "\n",
    "prompt_template = ChatPromptTemplate.from_messages(\n",
    "    [(\"system\", system_template),\n",
    "     (\"user\", user_template)]\n",
    ")\n",
    "\n",
    "parser = StrOutputParser()\n",
    "\n",
    "chain = prompt_template | model | parser\n",
    "\n",
    "start_time = datetime.now()\n",
    "for tpl in prompt_inputs:\n",
    "    response = \"\"\n",
    "    # stream tokens as they are generated\n",
    "    for r in chain.stream(tpl):\n",
    "        print(r, end=\"\")\n",
    "        response += r\n",
    "end_time = datetime.now()\n",
    "\n",
    "difference = end_time - start_time\n",
    "total_seconds = difference.total_seconds()\n",
    "print(f\"\\n\\nElapsed seconds: {total_seconds:.6f}\")\n"
   ]
  },
  {
   "cell_type": "code",
   "execution_count": 7,
   "id": "659782d9",
   "metadata": {},
   "outputs": [
    {
     "name": "stderr",
     "output_type": "stream",
     "text": [
      "2024-11-09 17:50:58,692 - httpx - INFO - HTTP Request: POST https://api.openai.com/v1/chat/completions \"HTTP/1.1 200 OK\"\n",
      "2024-11-09 17:50:58,765 - httpx - INFO - HTTP Request: POST https://api.openai.com/v1/chat/completions \"HTTP/1.1 200 OK\"\n",
      "2024-11-09 17:50:58,787 - httpx - INFO - HTTP Request: POST https://api.openai.com/v1/chat/completions \"HTTP/1.1 200 OK\"\n",
      "2024-11-09 17:50:59,144 - httpx - INFO - HTTP Request: POST https://api.openai.com/v1/chat/completions \"HTTP/1.1 200 OK\"\n",
      "2024-11-09 17:50:59,484 - httpx - INFO - HTTP Request: POST https://api.openai.com/v1/chat/completions \"HTTP/1.1 200 OK\"\n"
     ]
    },
    {
     "name": "stdout",
     "output_type": "stream",
     "text": [
      "\n",
      "\n",
      "Elapsed seconds: 1.293818\n",
      "Écoute-moi. Tu es parfait(e). Tu es magnifique et je t'aime.\n",
      "Hör mir zu. Du bist makellos. Du bist exquisit und ich liebe dich.\n",
      "Escúchame. Eres perfecta. Eres hermosa y te amo.\n",
      "Ascoltami. Sei incredibile. Sei magnifico/a e ti amo.\n",
      "Figyelj rám. Elbűvölő vagy. Lenyűgöző vagy, és szeretlek.\n"
     ]
    }
   ],
   "source": [
    "# same but send all at once using asyncio\n",
    "\n",
    "async def async_langchain(chain, input_dict):\n",
    "    response = await chain.ainvoke(input_dict)\n",
    "    return response\n",
    "\n",
    "\n",
    "prompt_templates = [\n",
    "    {\"language\": \"French\", \"adjective1\": \"flawless\", \"adjective2\": \"beautiful\"},\n",
    "    {\"language\": \"German\", \"adjective1\": \"immaculate\", \"adjective2\": \"exquisite\"},\n",
    "    {\"language\": \"Spanish\", \"adjective1\": \"perfect\", \"adjective2\": \"gorgeous\"},\n",
    "    {\"language\": \"Italian\", \"adjective1\": \"amazing\", \"adjective2\": \"magnificent\"},\n",
    "    {\"language\": \"Hungarian\", \"adjective1\": \"ravishing\", \"adjective2\": \"stunning\"},\n",
    "]\n",
    "\n",
    "start_time = datetime.now()\n",
    "tasks = []\n",
    "for d in prompt_templates:\n",
    "    task = asyncio.create_task(async_langchain(chain, d))\n",
    "    tasks.append(task)\n",
    "responses = await asyncio.gather(*tasks)\n",
    "end_time = datetime.now()\n",
    "\n",
    "\n",
    "difference = end_time - start_time\n",
    "total_seconds = difference.total_seconds()\n",
    "print(f\"\\n\\nElapsed seconds: {total_seconds:.6f}\")\n",
    "print(\"\\n\".join(responses))\n"
   ]
  },
  {
   "cell_type": "code",
   "execution_count": 8,
   "id": "203ddd89",
   "metadata": {},
   "outputs": [],
   "source": [
    "# test o1-preview, note temperature, system prompt not supported\n",
    "# client = OpenAI()\n",
    "# response = client.chat.completions.create(\n",
    "#     model=\"o1-preview\",\n",
    "#     messages=[\n",
    "#         {\n",
    "#             \"role\": \"user\",\n",
    "#             \"content\": \"Write a Python script that takes a matrix represented as a string with format '[1,2],[3,4],[5,6]' and prints the transpose in the same format.\"\n",
    "#         }\n",
    "#     ]\n",
    "# )\n",
    "# print(response.choices[0].message.content)\n"
   ]
  },
  {
   "cell_type": "markdown",
   "id": "554be5ce",
   "metadata": {},
   "source": [
    "# Functions for state graph\n",
    "- Each takes a state dict and returns updated state dict\n",
    "- We will use these later to construct a LangGraph agent workflow"
   ]
  },
  {
   "cell_type": "code",
   "execution_count": 9,
   "id": "5f02beff",
   "metadata": {},
   "outputs": [],
   "source": [
    "DEBUG = False\n",
    "N_BROWSERS = 4\n",
    "MAX_EDITS = 3\n",
    "before_date = None\n",
    "# before_date = '2024-10-19 15:00:00'\n",
    "do_download = True\n"
   ]
  },
  {
   "cell_type": "code",
   "execution_count": 10,
   "id": "e94b7857",
   "metadata": {},
   "outputs": [],
   "source": [
    "# class to maintain state within graph\n",
    "\n",
    "class AgentState(TypedDict):\n",
    "    AIdf: dict                #  the current working set of headlines (pandas dataframe not supported)\n",
    "    before_date: str          #  ignore stories before this date for deduplication (force reprocess since)\n",
    "    do_download: bool         #  if False use existing files, else download from sources\n",
    "    sources: dict             #  sources to scrap\n",
    "    sources_reverse: dict     #  map file names to sources\n",
    "    bullets: list             #  bullet points for summary email\n",
    "    summary: str              #  final summary\n",
    "    cluster_topics: list      #  list of cluster topics\n",
    "    topics_str: str           #  edited topics\n",
    "    n_edits: int              #  count edit iterations so we don't keep editing forever\n",
    "    edit_complete: bool       #  edit will update if no more edits to make\n",
    "    # message thread with OpenAI\n",
    "    # messages: Annotated[list[AnyMessage], operator.add]\n"
   ]
  },
  {
   "cell_type": "code",
   "execution_count": 11,
   "id": "f5cd14f0",
   "metadata": {},
   "outputs": [],
   "source": [
    "test_state = AgentState(\n",
    "    {'AIdf': None,\n",
    "    'before_date': before_date,\n",
    "    'do_download': do_download,\n",
    "    'sources': None,\n",
    "    'sources_reverse': None,\n",
    "    'bullets': '',\n",
    "    'summary': '',\n",
    "    'cluster_topics': [],\n",
    "    'topics_str': str,\n",
    "    'n_edits': 0,\n",
    "    'edit_complete': False,\n",
    "#     'messages': None\n",
    "    }\n",
    ")\n"
   ]
  },
  {
   "cell_type": "code",
   "execution_count": 12,
   "id": "fc712e9d",
   "metadata": {},
   "outputs": [],
   "source": [
    "# Initialize reading configurations from YAML file\n",
    "\n",
    "def fn_initialize(state: AgentState) -> AgentState:\n",
    "    \"\"\"\n",
    "    Initializes the agent state by loading source configurations from SOURCECONFIG (sources.yaml) .\n",
    "\n",
    "    Args:\n",
    "        state (AgentState): The current state of the agent.\n",
    "        verbose (bool, optional): Whether to print verbose output. Defaults to False.\n",
    "\n",
    "    Returns:\n",
    "        AgentState: The updated state of the agent.\n",
    "\n",
    "    Raises:\n",
    "        yaml.YAMLError: If there is an error while loading the YAML file.\n",
    "\n",
    "    \"\"\"\n",
    "\n",
    "    #  load sources to scrape from sources.yaml\n",
    "    with open(SOURCECONFIG, \"r\") as stream:\n",
    "        try:\n",
    "            state['sources'] = yaml.safe_load(stream)\n",
    "        except yaml.YAMLError as exc:\n",
    "            print(exc)\n",
    "\n",
    "    log(f\"Initialized {len(state['sources'])} items in sources from {SOURCECONFIG}\")\n",
    "\n",
    "    # make a reverse dict to map file titles to source names\n",
    "    state['sources_reverse'] = {}\n",
    "    for k, v in state['sources'].items():\n",
    "        log(f\"{k} -> {v['url']} -> {v['title']}.html\")\n",
    "        v['sourcename'] = k\n",
    "        # map filename (title) to source name\n",
    "        state['sources_reverse'][v['title']] = k\n",
    "\n",
    "    log(f\"Initialized {len(state['sources_reverse'])} items in sources_reverse\")\n",
    "\n",
    "    return state\n",
    "\n",
    "\n",
    "if DEBUG:\n",
    "    test_state = fn_initialize(test_state)\n"
   ]
  },
  {
   "cell_type": "code",
   "execution_count": 13,
   "id": "83608da3",
   "metadata": {},
   "outputs": [],
   "source": [
    "# scrape sources with selenium and save local files in DOWNLOAD_DIR (htmldata)\n",
    "def fn_download_sources(state: AgentState) -> AgentState:\n",
    "    \"\"\"\n",
    "    Scrapes sources and saves HTML files.\n",
    "    If state[\"do_download\"] is True, deletes all files in DOWNLOAD_DIR (htmldata) and scrapes fresh copies.\n",
    "    If state[\"do_download\"] is False, uses existing files in DOWNLOAD_DIR.\n",
    "    Uses state[\"sources\"] for config info on sources to scrape\n",
    "    For each source, saves the current filename to state[\"sources\"][sourcename]['latest']\n",
    "\n",
    "    Args:\n",
    "        state (AgentState): The current state of the agent.\n",
    "        do_delete (bool, optional): Whether to delete files in DOWNLOAD_DIR. Defaults to True.\n",
    "\n",
    "    Returns:\n",
    "        AgentState: The updated state of the agent.\n",
    "    \"\"\"\n",
    "\n",
    "    if state[\"do_download\"]:\n",
    "        # empty download directories\n",
    "        delete_files(DOWNLOAD_DIR)\n",
    "        delete_files(PAGES_DIR)\n",
    "\n",
    "        # save each file specified from sources\n",
    "        log(f\"Saving HTML files using {N_BROWSERS} browsers\")\n",
    "\n",
    "        # Create a queue for multiprocessing and populate it\n",
    "        queue = multiprocessing.Queue()\n",
    "        for item in state[\"sources\"].values():\n",
    "            queue.put(item)\n",
    "\n",
    "        # Function to take the queue and pop entries off and process until none are left\n",
    "        # lets you create an array of functions with different args\n",
    "        callable = process_source_queue_factory(queue)\n",
    "\n",
    "        saved_pages = launch_drivers(N_BROWSERS, callable)\n",
    "        for sourcename, file in saved_pages:\n",
    "            log(f\"Downloaded {sourcename} to {file}\")\n",
    "            state['sources'][sourcename]['latest'] = file\n",
    "        log(f\"Saved {len(saved_pages)} HTML files\")\n",
    "\n",
    "    else:   # use existing files\n",
    "        log(f\"Web fetch disabled, using existing files in {DOWNLOAD_DIR}\")\n",
    "        # Get the current date\n",
    "        datestr = datetime.now().strftime(\"%m_%d_%Y\")\n",
    "        files = [os.path.join(DOWNLOAD_DIR, file)\n",
    "                 for file in os.listdir(DOWNLOAD_DIR)]\n",
    "        # filter files with today's date ending in .html\n",
    "        files = [\n",
    "            file for file in files if datestr in file and file.endswith(\".html\")]\n",
    "        log(f\"Found {len(files)} previously downloaded files\")\n",
    "        for file in files:\n",
    "            log(file)\n",
    "\n",
    "        saved_pages = []\n",
    "        for file in files:\n",
    "            filename = os.path.basename(file)\n",
    "            # locate date like '01_14_2024' in filename\n",
    "            position = filename.find(\" (\" + datestr)\n",
    "            basename = filename[:position]\n",
    "            # match to source name\n",
    "            sourcename = state[\"sources_reverse\"].get(basename)\n",
    "            if sourcename is None:\n",
    "                log(f\"Skipping {basename}, no sourcename metadata\")\n",
    "                continue\n",
    "            state[\"sources\"][sourcename]['latest'] = file\n",
    "\n",
    "    return state\n",
    "\n",
    "if DEBUG:\n",
    "    test_state = fn_download_sources(test_state)\n"
   ]
  },
  {
   "cell_type": "code",
   "execution_count": 14,
   "id": "65845bff",
   "metadata": {},
   "outputs": [],
   "source": [
    "def fn_extract_urls(state: AgentState) -> AgentState:\n",
    "    \"\"\"\n",
    "    Extracts news URLs from the latest HTML files matching the patterns defined in the state['sources'] configuration info.\n",
    "\n",
    "    Args:\n",
    "        state (AgentState): The current state of the agent.\n",
    "\n",
    "    Returns:\n",
    "        AgentState: The updated state of the agent with the extracted URLs stored in state['AIdf'].\n",
    "    \"\"\"\n",
    "    # Parse news URLs and titles from downloaded HTML files\n",
    "    log(\"Parsing html files\")\n",
    "    all_urls = []\n",
    "    for sourcename, sourcedict in state['sources'].items():\n",
    "        filename = sourcedict.get('latest')\n",
    "        if not filename:\n",
    "            log(f\"no filename found for {sourcename}\")\n",
    "            continue\n",
    "\n",
    "        log(sourcename + ' -> ' + filename)\n",
    "        links = parse_file(state['sources'][sourcename])\n",
    "        log(f\"{len(links)} links found\")\n",
    "        all_urls.extend(links)\n",
    "\n",
    "    log(f\"Saved {len(all_urls)} links\")\n",
    "\n",
    "    # make a pandas dataframe of all the links found\n",
    "    AIdf = (\n",
    "        pd.DataFrame(all_urls)\n",
    "        .groupby(\"url\")\n",
    "        .first()\n",
    "        .reset_index()\n",
    "        .sort_values(\"src\")[[\"src\", \"title\", \"url\"]]\n",
    "        .reset_index(drop=True)\n",
    "        .reset_index(drop=False)\n",
    "        .rename(columns={\"index\": \"id\"})\n",
    "    )\n",
    "    state['AIdf'] = AIdf.to_dict(orient='records')\n",
    "\n",
    "    return state\n",
    "\n",
    "\n",
    "if DEBUG:\n",
    "    test_state = fn_extract_urls(test_state)\n",
    "\n",
    "    # s/b 17 but if some like bloomberg\" or wsj are missing, maybe got a robot block\n",
    "    # if so, download missing ones manually and then re-run fn_extract_urls\n",
    "    print(len(pd.DataFrame(test_state[\"AIdf\"]).groupby('src').count()))\n",
    "    display(pd.DataFrame(test_state[\"AIdf\"]).groupby('src').count()[['id']])\n"
   ]
  },
  {
   "cell_type": "code",
   "execution_count": 15,
   "id": "b44940fb",
   "metadata": {},
   "outputs": [],
   "source": [
    "# get AI news via newscatcher\n",
    "# https://docs.newscatcherapi.com/api-docs/endpoints/search-news\n",
    "\n",
    "newscatcher_sources = ['247wallst.com',\n",
    " '9to5mac.com',\n",
    " 'androidauthority.com',\n",
    " 'androidcentral.com',\n",
    " 'androidheadlines.com',\n",
    " 'appleinsider.com',\n",
    " 'benzinga.com',\n",
    " 'cnet.com',\n",
    " 'cnn.com',\n",
    " 'digitaltrends.com',\n",
    " 'engadget.com',\n",
    " 'fastcompany.com',\n",
    " 'finextra.com',\n",
    " 'fintechnews.sg',\n",
    " 'fonearena.com',\n",
    " 'ft.com',\n",
    " 'gadgets360.com',\n",
    " 'geekwire.com',\n",
    " 'gizchina.com',\n",
    " 'gizmochina.com',\n",
    " 'gizmodo.com',\n",
    " 'gsmarena.com',\n",
    " 'hackernoon.com',\n",
    " 'howtogeek.com',\n",
    " 'ibtimes.co.uk',\n",
    " 'itwire.com',\n",
    " 'lifehacker.com',\n",
    " 'macrumors.com',\n",
    " 'mashable.com',\n",
    "#  'medium.com',\n",
    " 'mobileworldlive.com',\n",
    " 'msn.com',\n",
    " 'nypost.com',\n",
    " 'phonearena.com',\n",
    " 'phys.org',\n",
    " 'popsci.com',\n",
    " 'scmp.com',\n",
    " 'sify.com',\n",
    " 'siliconangle.com',\n",
    " 'siliconera.com',\n",
    " 'siliconrepublic.com',\n",
    " 'slashdot.org',\n",
    " 'slashgear.com',\n",
    " 'statnews.com',\n",
    " 'tech.co',\n",
    " 'techcrunch.com',\n",
    " 'techdirt.com',\n",
    " 'technode.com',\n",
    " 'technologyreview.com',\n",
    " 'techopedia.com',\n",
    " 'techradar.com',\n",
    " 'techraptor.net',\n",
    " 'techtimes.com',\n",
    " 'techxplore.com',\n",
    " 'telecomtalk.info',\n",
    " 'thecut.com',\n",
    " 'thedrum.com',\n",
    " 'thehill.com',\n",
    " 'theregister.com',\n",
    " 'theverge.com',\n",
    " 'thurrott.com',\n",
    " 'tipranks.com',\n",
    " 'tweaktown.com',\n",
    " 'videocardz.com',\n",
    " 'washingtonpost.com',\n",
    " 'wccftech.com',\n",
    " 'wired.com',\n",
    " 'xda-developers.com',\n",
    " 'yahoo.com',\n",
    " 'zdnet.com']\n",
    "\n",
    "def fn_extract_newscatcher(state: AgentState) -> AgentState:\n",
    "    \n",
    "    q = 'Artificial Intelligence'\n",
    "    page_size = 100\n",
    "    log(f\"Fetching top {page_size} stories matching {q} from Newscatcher\")\n",
    "    base_url = \"https://api.newscatcherapi.com/v2/search\"\n",
    "    time_24h_ago = datetime.now() - timedelta(hours=24)\n",
    "\n",
    "    # Put API key in headers \n",
    "    headers = {'x-api-key': os.getenv('NEWSCATCHER_API_KEY')}\n",
    "\n",
    "    # Define search parameters\n",
    "    params = {\n",
    "        'q': q,\n",
    "        'lang': 'en',\n",
    "        'sources': ','.join(newscatcher_sources),\n",
    "        'from': time_24h_ago.strftime('%Y-%m-%d %H:%M:%S'),\n",
    "        'to': datetime.now().strftime('%Y-%m-%d %H:%M:%S'),\n",
    "        'page_size': page_size, # by default should be most highly relevant to the search\n",
    "        'page': 1\n",
    "        }\n",
    "\n",
    "    # Make API call with headers and params\n",
    "    response = requests.get(base_url, headers=headers, params=params)\n",
    "\n",
    "    # Encode received results\n",
    "    results = json.loads(response.text.encode())\n",
    "    if response.status_code != 200:\n",
    "        print('ERROR: API call failed.')\n",
    "        print(results)\n",
    "        \n",
    "    # merge into existing df\n",
    "    newscatcher_df = pd.DataFrame(results['articles'])[['title', 'link']]\n",
    "    newscatcher_df['src']='Newscatcher'\n",
    "    newscatcher_df = newscatcher_df.rename(columns={'link': 'url'})\n",
    "#     display(newscatcher_df.head())\n",
    "    AIdf = pd.DataFrame(state['AIdf'])\n",
    "#     display(AIdf.head())\n",
    "    \n",
    "    max_id = AIdf['id'].max()\n",
    "    # add id column to newscatcher_df\n",
    "    newscatcher_df['id'] = range(max_id + 1, max_id + 1 + len(newscatcher_df))\n",
    "    AIdf = pd.concat([AIdf, newscatcher_df], ignore_index=True)\n",
    "    state['AIdf'] = AIdf.to_dict(orient='records')\n",
    "    return state\n",
    "    \n",
    "\n",
    "if DEBUG:\n",
    "    test_state = fn_extract_newscatcher(test_state)\n",
    "    print(len(pd.DataFrame(test_state[\"AIdf\"]).groupby('src').count()))\n",
    "    display(pd.DataFrame(test_state[\"AIdf\"]).groupby('src').count()[['id']])\n",
    "    "
   ]
  },
  {
   "cell_type": "code",
   "execution_count": 16,
   "id": "3143ed9a",
   "metadata": {},
   "outputs": [],
   "source": [
    "# some debugging stuff\n",
    "# zdf = pd.DataFrame(test_state[\"AIdf\"])\n",
    "# zdf.loc[zdf[\"src\"]=='Techmeme']\n",
    "\n",
    "# connection = sqlite3.connect('articles.db')\n",
    "# xdf = pd.read_sql_query(\"SELECT * FROM news_articles\", connection)\n",
    "# connection.close()\n",
    "\n",
    "# zdf.loc[zdf[\"title\"].str.startswith(\"NHTSA\")] \n",
    "# xdf.loc[xdf[\"title\"].str.startswith(\"NHTSA\")] \n",
    "\n",
    "# pd.set_option('display.max_rows', 300)  # Ensure up to 300 rows are shown\n",
    "\n",
    "# xdf.loc[xdf['isAI']> 0].groupby('actual_src') \\\n",
    "#     .count() \\\n",
    "#     .reset_index()[['actual_src', 'id']] \\\n",
    "#     .sort_values('id', ascending=False) \\\n",
    "#     .head(300)\n"
   ]
  },
  {
   "cell_type": "code",
   "execution_count": 17,
   "id": "9eb53b07",
   "metadata": {},
   "outputs": [],
   "source": [
    "# sqlite schema to store previously processed \n",
    "# CREATE TABLE news_articles (\n",
    "#     id INTEGER PRIMARY KEY,\n",
    "#     src TEXT,\n",
    "#     title TEXT,\n",
    "#     url TEXT UNIQUE,\n",
    "#     isAI BOOLEAN,\n",
    "#     article_date DATE\n",
    "# , timestamp DATETIME, actual_url TEXT, actual_src TEXT);\n",
    "#\n",
    "# CREATE TABLE sites (\n",
    "#     id INTEGER PRIMARY KEY AUTOINCREMENT,\n",
    "#     hostname TEXT UNIQUE NOT NULL,\n",
    "#     site_name TEXT NOT NULL\n",
    "# );\n",
    "\n"
   ]
  },
  {
   "cell_type": "code",
   "execution_count": 18,
   "id": "cd53332f",
   "metadata": {},
   "outputs": [],
   "source": [
    "# filter and clean URLs for new AI stories\n",
    "\n",
    "def fn_filter_urls(state: AgentState) -> AgentState:\n",
    "    \"\"\"\n",
    "    Filters the URLs in state[\"AIdf\"] to include only those that have not been previously seen,\n",
    "    and are related to AI according to the response from a ChatGPT prompt.\n",
    "\n",
    "    Args:\n",
    "        state (AgentState): The current state of the agent.\n",
    "        before_date (str, optional): The date before which the URLs should be filtered. Defaults to \"\".\n",
    "\n",
    "    Returns:\n",
    "\n",
    "\n",
    "        AgentState: The updated state of the agent with the filtered URLs stored in state[\"AIdf\"].\n",
    "\n",
    "    \"\"\"\n",
    "    # filter to URL not previously seen\n",
    "    AIdf = pd.DataFrame(state[\"AIdf\"])\n",
    "\n",
    "    AIdf = filter_unseen_urls_db(AIdf, before_date=state[\"before_date\"])\n",
    "\n",
    "    if len(AIdf) == 0:\n",
    "        log(\"No new URLs, returning\")\n",
    "        return state\n",
    "\n",
    "    # dedupe identical headlines\n",
    "    # filter similar titles differing by type of quote or something\n",
    "    AIdf['title'] = AIdf['title'].apply(unicode_to_ascii)\n",
    "    AIdf['title_clean'] = AIdf['title'].map(lambda s: \"\".join(s.split()))\n",
    "    AIdf = AIdf.sort_values(\"src\") \\\n",
    "        .groupby(\"title_clean\") \\\n",
    "        .first() \\\n",
    "        .reset_index(drop=True) \\\n",
    "        .drop(columns=['id']) \\\n",
    "        .reset_index() \\\n",
    "        .rename(columns={'index': 'id'})\n",
    "    log(f\"Found {len(AIdf)} unique new headlines\")\n",
    "\n",
    "    # structured response format\n",
    "    json_schema = {\n",
    "        \"name\": \"json_schema\",\n",
    "        \"strict\": True,\n",
    "        \"schema\": {\n",
    "            \"type\": \"object\",\n",
    "            \"properties\": {\n",
    "                \"isai_array\": {\n",
    "                    \"type\": \"array\",\n",
    "                    \"items\": {\n",
    "                        \"type\": \"object\",\n",
    "                                \"properties\": {\n",
    "                                    \"id\": {\n",
    "                                        \"type\": \"number\"\n",
    "                                    },\n",
    "                                    \"isAI\": {\n",
    "                                        \"type\": \"boolean\"\n",
    "                                    }\n",
    "                                },\n",
    "                        \"required\": [\"id\", \"isAI\"],\n",
    "                        \"additionalProperties\": False\n",
    "                    }\n",
    "                }\n",
    "            },\n",
    "            \"required\": [\"isai_array\"],\n",
    "            \"additionalProperties\": False\n",
    "        }\n",
    "    }\n",
    "\n",
    "    # filter AI-related headlines using a prompt\n",
    "    pages = paginate_df(AIdf)\n",
    "    enriched_urls = asyncio.run(fetch_pages(pages, prompt=FILTER_PROMPT, json_schema=json_schema))\n",
    "    filter_df = pd.DataFrame(enriched_urls)\n",
    "    \n",
    "    try:  # for idempotency\n",
    "        AIdf = AIdf.drop(columns=['isAI'])\n",
    "    except:\n",
    "        pass\n",
    "\n",
    "    # merge returned df with isAI column into original df on id column\n",
    "    AIdf = pd.merge(AIdf, filter_df, on=\"id\", how=\"outer\")\n",
    "    log(AIdf.columns)\n",
    "    # set hostname based on actualurl\n",
    "    AIdf['actual_url'] = AIdf['url']    # ideally resolve redirects but Google News blocks\n",
    "    AIdf['hostname']=AIdf['actual_url'].apply(lambda url: urlparse(url).netloc)\n",
    "\n",
    "    # update SQLite database with all seen URLs (we are doing this using url and ignoring redirects)\n",
    "    log(f\"Inserting {len(AIdf)} URLs into {SQLITE_DB}\")\n",
    "    conn = sqlite3.connect(SQLITE_DB)\n",
    "    cursor = conn.cursor()\n",
    "    for row in AIdf.itertuples():\n",
    "        insert_article(conn, cursor, row.src, row.hostname, row.title,\n",
    "                       row.url, row.actual_url, row.isAI, datetime.now().date())\n",
    "\n",
    "    # keep headlines that are related to AI\n",
    "    AIdf = AIdf.loc[AIdf[\"isAI\"]==1] \\\n",
    "        .reset_index(drop=True)  \\\n",
    "        .reset_index()  \\\n",
    "        .drop(columns=[\"id\"])  \\\n",
    "        .rename(columns={'index': 'id'})\n",
    "\n",
    "    log(f\"Found {len(AIdf)} AI headlines\")\n",
    "\n",
    "    # update actual URLs for Google News redirects\n",
    "    # I think Google changed something so this no longer works, instead of a 301 redirct\n",
    "    # get a javascript page that redirects. Also tomorrow we might see different URLs for same stories\n",
    "    # AIdf = get_google_news_redirects(AIdf)\n",
    "\n",
    "    conn = sqlite3.connect('articles.db')\n",
    "    query = \"select * from sites\"\n",
    "    sites_df = pd.read_sql_query(query, conn)\n",
    "    sites_dict = {row.hostname:row.site_name for row in sites_df.itertuples()}\n",
    "    conn.close()\n",
    "\n",
    "    # get clean site_name\n",
    "    AIdf['site_name'] = AIdf['hostname'].apply(lambda hostname: sites_dict.get(hostname, hostname))\n",
    "\n",
    "    # if any missing clean site names, populate them using OpenAI\n",
    "    missing_site_names =  len(AIdf.loc[AIdf['site_name']==\"\"])\n",
    "    if missing_site_names:\n",
    "        log(f\"Asking OpenAI for {missing_site_names} missing site names\")\n",
    "        responses = asyncio.run(fetch_missing_site_names(AIdf))\n",
    "        # update site_dict from responses\n",
    "        new_urls = []\n",
    "        for r in responses:\n",
    "            if r['url'].startswith('https://'):\n",
    "                r['url'] = r['url'][8:]\n",
    "            new_urls.append(r['url'])\n",
    "            sites_dict[r['url']] = r['site_name']\n",
    "            log(f\"Looked up {r['url']} -> {r['site_name']}\")\n",
    "        # update sites table with new names\n",
    "        for url in new_urls:\n",
    "            sqlstr = \"INSERT OR IGNORE INTO sites (hostname, site_name) VALUES (?, ?);\"\n",
    "            log(f\"Updated {url} -> {sites_dict[url]}\")\n",
    "            conn.execute(sqlstr, (url, sites_dict[url]))\n",
    "            conn.commit()\n",
    "        # reapply to AIdf with updated sites\n",
    "        AIdf['site_name'] = AIdf['hostname'].apply(lambda hostname: sites_dict.get(hostname, hostname))\n",
    "    else:\n",
    "        log(\"No missing site names\")\n",
    "  \n",
    "    # drop banned slop sites\n",
    "\n",
    "    AIdf = AIdf.loc[~AIdf[\"hostname\"].str.lower().isin(HOSTNAME_SKIPLIST)]\n",
    "    AIdf = AIdf.loc[~AIdf[\"site_name\"].str.lower().isin(SITE_NAME_SKIPLIST)]\n",
    "    \n",
    "    state[\"AIdf\"] = AIdf.to_dict(orient='records')\n",
    "    return state\n",
    "\n",
    "\n",
    "if DEBUG:\n",
    "    test_state = fn_filter_urls(test_state)\n",
    "    display(pd.DataFrame(test_state[\"AIdf\"]).groupby('src').count()[['id']])\n",
    "    display(list(pd.DataFrame(test_state[\"AIdf\"]).columns))\n",
    "\n"
   ]
  },
  {
   "cell_type": "code",
   "execution_count": 19,
   "id": "e968501e",
   "metadata": {},
   "outputs": [],
   "source": [
    "# for row in pd.DataFrame(test_state[\"AIdf\"]).itertuples():\n",
    "#     display(Markdown(f\"[{row.id}. {row.title} - {row.src}]({row.url})\"))\n"
   ]
  },
  {
   "cell_type": "code",
   "execution_count": 20,
   "id": "a3c42f10",
   "metadata": {},
   "outputs": [],
   "source": [
    "# Function for topic extraction\n",
    "# TODO: could send more prompts to gpt-4o-mini and not hit rate limits\n",
    "def clean_topics(row, lcategories):\n",
    "    \"\"\"\n",
    "    Cleans the extracted_topics and assigned_topics by removing certain common topics and combining them into a single list.\n",
    "\n",
    "    Args:\n",
    "        row (pandas.Series): The row containing the extracted_topics and assigned_topics.\n",
    "        lcategories (set): The set of lowercase categories.\n",
    "\n",
    "    Returns:\n",
    "        list: The cleaned and combined list of topics.\n",
    "    \"\"\"\n",
    "    extracted_topics = [x.title() for x in row.extracted_topics if x.lower() not in {\"technology\", \"ai\", \"artificial intelligence\"}]\n",
    "    assigned_topics = [x.title() for x in row.assigned_topics if x.lower() in lcategories]\n",
    "    combined = sorted(list(set(extracted_topics + assigned_topics)))\n",
    "    combined = [s.replace(\"Ai\", \"AI\") for s in combined]\n",
    "    combined = [s.replace(\"Genai\", \"Gen AI\") for s in combined]\n",
    "    combined = [s.replace(\"Openai\", \"OpenAI\") for s in combined]\n",
    "\n",
    "    return combined\n",
    "\n",
    "\n",
    "async def do_cat(AIdf, categories):\n",
    "    \"\"\"\n",
    "    Sends a prompt to ChatGPT to select topics for the title for each row in AIdf\n",
    "    which match the topics in categories.\n",
    "\n",
    "    Args:\n",
    "        AIdf (pandas.DataFrame): The DataFrame containing the headlines.\n",
    "        categories (list): The list of topics to match with the headlines.\n",
    "\n",
    "    Returns:\n",
    "        dict: A dictionary where the keys are the row IDs and the values are lists\n",
    "        of selected topics for each headline.\n",
    "\n",
    "    \"\"\"\n",
    "\n",
    "    catdict = {}\n",
    "    async with aiohttp.ClientSession() as session:\n",
    "        for i, row in enumerate(AIdf.itertuples()):\n",
    "            tasks = []\n",
    "            log(f\"Categorizing headline {row.id+1} of {len(AIdf)}\")\n",
    "            h = row.title\n",
    "            log(h)\n",
    "            for c in categories:\n",
    "                task = asyncio.create_task(categorize_headline(h, c, session))\n",
    "                tasks.append(task)\n",
    "            responses = await asyncio.gather(*tasks)\n",
    "            catdict[row.id] = [item for sublist in responses for item in sublist]\n",
    "            log(str(catdict[row.id]))\n",
    "\n",
    "    return catdict\n",
    "\n",
    "\n",
    "def fn_topic_analysis(state: AgentState) -> AgentState:\n",
    "\n",
    "    \"\"\"\n",
    "    Extracts and selects topics for each headline in the state['AIdf'] dataframe, scrubs them, and stores them back in the dataframe.\n",
    "\n",
    "    Args:\n",
    "        state (AgentState): The current state of the agent.\n",
    "\n",
    "    Returns:\n",
    "        AgentState: The updated state of the agent with the extracted and selected topics stored in state['AIdf'].\n",
    "    \"\"\"\n",
    "    AIdf = pd.DataFrame(state[\"AIdf\"])\n",
    "    pages = paginate_df(AIdf)\n",
    "    # apply topic extraction prompt to AI headlines\n",
    "    log(\"start free-form topic extraction\")\n",
    "    json_schema = {\n",
    "        \"name\": \"extracted_topics\",\n",
    "        \"strict\": True,\n",
    "        \"schema\": {\n",
    "            \"type\": \"object\",\n",
    "            \"properties\": {\n",
    "                \"extracted_topics\": {\n",
    "                    \"type\": \"array\",\n",
    "                    \"items\": {\n",
    "                        \"type\": \"object\",\n",
    "                        \"properties\": {\n",
    "                            \"id\": {\n",
    "                                \"type\": \"number\",\n",
    "                            },\n",
    "                            \"topics\": {\n",
    "                                \"type\": \"array\",\n",
    "                                \"items\": {\n",
    "                                    \"type\": \"string\",\n",
    "                                },\n",
    "                            },\n",
    "                        },\n",
    "                        \"required\": [\"id\", \"topics\"],\n",
    "                        \"additionalProperties\": False,\n",
    "                    }\n",
    "                }\n",
    "            },\n",
    "            \"required\": [\"extracted_topics\"],\n",
    "            \"additionalProperties\": False,\n",
    "        }\n",
    "    }\n",
    "    response = asyncio.run(fetch_pages(pages, prompt=TOPIC_PROMPT, json_schema=json_schema))\n",
    "    topic_df = pd.DataFrame(response)\n",
    "\n",
    "    topic_df = topic_df.rename(columns={'topics': 'extracted_topics'})\n",
    "    log(f\"{len(topic_df)} free-form topics extracted\")\n",
    "    all_topics = [item.lower() for row in topic_df.itertuples() for item in row.extracted_topics]\n",
    "    item_counts = Counter(all_topics)\n",
    "    filtered_topics = [item for item in item_counts if item_counts[item] >= 2 and item not in {'technology', 'ai', 'artificial intelligence'}]\n",
    "\n",
    "    categories = sorted(CANONICAL_TOPICS)\n",
    "    # use categories that are canonical or show up twice in freeform\n",
    "    lcategories = set([c.lower() for c in categories] + [c.lower() for c in filtered_topics])\n",
    "    # new topics\n",
    "    log([c for c in filtered_topics if c not in categories])\n",
    "\n",
    "    catdict = asyncio.run(categorize_headline(AIdf, categories=categories))\n",
    "    topic_df['assigned_topics'] = topic_df['id'].apply(lambda id: catdict.get(id, \"\"))\n",
    "\n",
    "#     pdb.set_trace()\n",
    "\n",
    "    topic_df[\"topics\"] = topic_df.apply(lambda t: clean_topics(t, lcategories), axis=1)\n",
    "    topic_df[\"topic_str\"] = topic_df.apply(lambda row: \", \".join(row.topics), axis=1)\n",
    "\n",
    "    try: # for idempotency\n",
    "        AIdf = AIdf.drop(columns=['topic_str', 'title_topic_str'])\n",
    "    except:\n",
    "        pass\n",
    "\n",
    "    AIdf = pd.merge(AIdf, topic_df[[\"id\", \"topic_str\"]], on=\"id\", how=\"outer\")\n",
    "    AIdf['title_topic_str'] = AIdf.apply(lambda row: f'{row.title} (Topics: {row.topic_str})', axis=1)\n",
    "\n",
    "    state[\"AIdf\"] = AIdf.to_dict(orient='records')\n",
    "    return state\n",
    "\n",
    "if DEBUG:\n",
    "    test_state = fn_topic_analysis(test_state)\n"
   ]
  },
  {
   "cell_type": "code",
   "execution_count": 21,
   "id": "426fbbd9",
   "metadata": {},
   "outputs": [],
   "source": [
    "async def write_topic_name(topic_list_str, max_retries=3, model=LOWCOST_MODEL):\n",
    "    \"\"\"\n",
    "    Generates a name for a cluster based on a list of headline topics.\n",
    "\n",
    "    Parameters:\n",
    "    session (aiohttp.ClientSession): The client session for making async HTTP requests.\n",
    "    topic_list_str (str): A string containing the list of headline topics.\n",
    "    max_retries (int, optional): The maximum number of retries in case of an error. Defaults to 3.\n",
    "    model (str, optional): The model to use for generating the topic name. Defaults to LOWCOST_MODEL.\n",
    "\n",
    "    Returns:\n",
    "    dict: A dictionary containing the generated topic name.\n",
    "\n",
    "    Example Usage:\n",
    "    title_topic_str_list = \"Headline 1 (Topic: Topic 1)\\n\\nHeadline 2 (Topic: Topic 2)\"\n",
    "    result = await write_topic_name(session, title_topic_str_list)\n",
    "    print(result)\n",
    "\n",
    "    Output:\n",
    "    {\"topic_title\": \"Generated Topic Name\"}\n",
    "    ```\n",
    "    \"\"\"\n",
    "    TOPIC_WRITER_PROMPT = f\"\"\"\n",
    "You are a topic writing assistant. I will provide a list of headlines with extracted topics in parentheses.\n",
    "Your task is to propose a name for a topic that very simply, clearly and accurately captures all the provided\n",
    "headlines in less than 7 words. You will output a JSON object with the key \"topic_title\".\n",
    "\n",
    "Example Input:\n",
    "In the latest issue of Caixins weekly magazine: CATL Bets on 'Skateboard Chassis' and Battery Swaps to Dispell Market Concerns (powered by AI) (Topics: Battery Swaps, Catl, China, Market Concerns, Skateboard Chassis)\n",
    "\n",
    "AI, cheap EVs, future Chevy  the week (Topics: Chevy, Evs)\n",
    "\n",
    "Electric Vehicles and AI: Driving the Consumer & World Forward (Topics: Consumer, Electric Vehicles, Technology)\n",
    "\n",
    "Example Output:\n",
    "{{\"topic_title\": \"Electric Vehicles\"}}\n",
    "\n",
    "Task\n",
    "Propose the name for the overall topic based on the following provided headlines and individual topics:\n",
    "\n",
    "{topic_list_str}\n",
    "\"\"\"\n",
    "\n",
    "    for i in range(max_retries):\n",
    "        try:\n",
    "            messages=[\n",
    "                      {\"role\": \"user\", \"content\": TOPIC_WRITER_PROMPT\n",
    "                      }]\n",
    "\n",
    "            payload = {\"model\":  model,\n",
    "                       \"response_format\": {\"type\": \"json_object\"},\n",
    "                       \"messages\": messages,\n",
    "                       \"temperature\": 0\n",
    "                       }\n",
    "#             print(topic_list_str)\n",
    "\n",
    "            async with aiohttp.ClientSession() as session:\n",
    "                response = asyncio.run(fetch_openai(session, payload))\n",
    "            response_dict = json.loads(response[\"choices\"][0][\"message\"][\"content\"])\n",
    "            log(response_dict)\n",
    "            \n",
    "            return response_dict\n",
    "        except Exception as exc:\n",
    "            log(f\"Error: {exc}\")\n",
    "\n",
    "    return {}\n",
    "\n",
    "\n",
    "def fn_topic_clusters(state: AgentState) -> AgentState:\n",
    "    \"\"\"\n",
    "    Fetches embeddings for the headlines, creates clusters of similar articles using DBSCAN, and sorts\n",
    "    using the clusters and a traveling salesman shortest traversal in embedding space.\n",
    "\n",
    "    Parameters:\n",
    "    state (AgentState): The state of the agent.\n",
    "\n",
    "    Returns:\n",
    "    AgentState: The updated state of the agent.\n",
    "\n",
    "    \"\"\"\n",
    "    AIdf = pd.DataFrame(state[\"AIdf\"])\n",
    "\n",
    "    log(f\"Fetching embeddings for {len(AIdf)} headlines\")\n",
    "    embedding_model = 'text-embedding-3-large'\n",
    "    client = OpenAI()\n",
    "    response = client.embeddings.create(input=AIdf['title_topic_str'].tolist(),\n",
    "                                        model=embedding_model)\n",
    "    embedding_df = pd.DataFrame([e.model_dump()['embedding'] for e in response.data])\n",
    "\n",
    "    # greedy traveling salesman sort\n",
    "    log(f\"Sort with nearest_neighbor_sort sort\")\n",
    "    sorted_indices = nearest_neighbor_sort(embedding_df)\n",
    "    AIdf['sort_order'] = sorted_indices\n",
    "\n",
    "    # do dimensionality reduction on embedding_df and cluster analysis\n",
    "    log(f\"Load umap dimensionality reduction model\")\n",
    "    with open(\"reducer.pkl\", 'rb') as file:\n",
    "        # Load the model from the file\n",
    "        reducer = pickle.load(file)\n",
    "    log(f\"Perform dimensionality reduction\")\n",
    "    reduced_data = reducer.transform(embedding_df)\n",
    "    log(f\"Cluster with DBSCAN\")\n",
    "    dbscan = DBSCAN(eps=0.4, min_samples=3)  # Adjust eps and min_samples as needed\n",
    "    AIdf['cluster'] = dbscan.fit_predict(reduced_data)\n",
    "    AIdf.loc[AIdf['cluster'] == -1, 'cluster'] = 999\n",
    "\n",
    "    # sort first by clusters found by DBSCAN, then by semantic ordering\n",
    "    AIdf = AIdf.sort_values(['cluster', 'sort_order']) \\\n",
    "        .reset_index(drop=True) \\\n",
    "        .reset_index() \\\n",
    "        .drop(columns=[\"id\"]) \\\n",
    "        .rename(columns={'index': 'id'})\n",
    "\n",
    "    # show clusters\n",
    "    state[\"cluster_topics\"] = []\n",
    "    with pd.option_context('display.max_rows', None, 'display.max_colwidth', None):\n",
    "        for i in range(30):\n",
    "            try:\n",
    "                tmpdf = AIdf.loc[AIdf['cluster']==i][[\"id\", \"title_topic_str\"]]\n",
    "                if len(tmpdf) ==0:\n",
    "                    break\n",
    "                display(tmpdf)\n",
    "                title_topic_str_list = (\"\\n\\n\".join(tmpdf['title_topic_str'].to_list()))\n",
    "                cluster_topic = asyncio.run(write_topic_name(title_topic_str_list))\n",
    "                cluster_topic = cluster_topic['topic_title']\n",
    "                state[\"cluster_topics\"].append(cluster_topic)\n",
    "                log(f\"I dub this cluster: {cluster_topic}\")\n",
    "            except Exception as exc:\n",
    "                log(exc)\n",
    "    AIdf[\"cluster_name\"] = AIdf['cluster'].apply(lambda i: state[\"cluster_topics\"][i] \n",
    "                                                 if i < len(state[\"cluster_topics\"]) \n",
    "                                                 else \"\")\n",
    "    state[\"AIdf\"] = AIdf.to_dict(orient='records')\n",
    "    print(state[\"cluster_topics\"])\n",
    "    return state\n",
    "\n",
    "# TODO: could add a quality rating for stories based on site reputation, length, complexity of story\n",
    "# could then add the quality rating to the summaries and tell the prompt to favor high-quality stories\n",
    "# could put summaries into vector store and retrieve stories by topic. but then you will have to deal\n",
    "# with duplicates across categories, ask the prompt to dedupe\n",
    "\n",
    "# def fn_topic_clusters(state: AgentState) -> AgentState:\n",
    "#     \"call async afn_topic_clusters on state\"\n",
    "#     state = asyncio.run(afn_topic_clusters(state))\n",
    "#     return state\n",
    "\n",
    "\n",
    "if DEBUG:\n",
    "    test_state = fn_topic_clusters(test_state)\n"
   ]
  },
  {
   "cell_type": "code",
   "execution_count": 22,
   "id": "6f796cd7",
   "metadata": {},
   "outputs": [],
   "source": [
    "# scrape individual pages\n",
    "def fn_download_pages(state: AgentState) -> AgentState:\n",
    "    \"\"\"\n",
    "    Uses several Selenium browser sessions to download all the pages referenced in the\n",
    "    state[\"AIdf\"] DataFrame and store their pathnames.\n",
    "\n",
    "    Args:\n",
    "        state (AgentState): The current state of the agent.\n",
    "\n",
    "    Returns:\n",
    "        AgentState: The updated state of the agent with the downloaded pages' pathnames stored in the `state[\"AIdf\"]` DataFrame.\n",
    "    \"\"\"\n",
    "    log(\"Queuing URLs for scraping\")\n",
    "    AIdf = pd.DataFrame(state['AIdf'])\n",
    "    queue = multiprocessing.Queue()\n",
    "\n",
    "    count = 0\n",
    "    for row in AIdf.itertuples():\n",
    "#         if row.cluster < 999:\n",
    "        queue.put((row.id, row.url, row.title))\n",
    "        count +=1\n",
    "    # scrape urls in queue asynchronously\n",
    "    num_browsers = 4\n",
    "\n",
    "    callable = process_url_queue_factory(queue)\n",
    "\n",
    "    log(f\"fetching {count} pages using {num_browsers} browsers\")\n",
    "    saved_pages = launch_drivers(num_browsers, callable)\n",
    "\n",
    "    pages_df = pd.DataFrame(saved_pages)\n",
    "    if len(pages_df):\n",
    "        pages_df.columns = ['id', 'url', 'title', 'path']\n",
    "\n",
    "        try: # for idempotency\n",
    "            AIdf = AIdf.drop(columns=['path'])\n",
    "        except:\n",
    "            pass        \n",
    "        AIdf = pd.merge(AIdf, pages_df[[\"id\", \"path\"]], on='id', how=\"inner\")\n",
    "    state[\"AIdf\"] = AIdf.to_dict(orient='records')\n",
    "    return state\n",
    "\n",
    "\n",
    "if DEBUG:\n",
    "    test_state = fn_download_pages(test_state)\n",
    "\n"
   ]
  },
  {
   "cell_type": "code",
   "execution_count": 23,
   "id": "b40abdff",
   "metadata": {
    "scrolled": false
   },
   "outputs": [],
   "source": [
    "# summarize individual pages\n",
    "\n",
    "def fn_summarize_pages(state: AgentState) -> AgentState:\n",
    "    \"\"\"\n",
    "    Reads all the articles, summarizes each one using a ChatGPT prompt, and sends an email with the summaries.\n",
    "\n",
    "    Args:\n",
    "        state (AgentState): The current state of the agent.\n",
    "\n",
    "    Returns:\n",
    "        AgentState: The updated state of the agent.\n",
    "\n",
    "    \"\"\"\n",
    "    log(\"Starting summarize\")\n",
    "    AIdf = pd.DataFrame(state['AIdf'])\n",
    "    responses = asyncio.run(fetch_all_summaries(AIdf))\n",
    "    log(f\"Received {len(responses)} summaries\")\n",
    "    response_dict = {}\n",
    "    for i, response in responses:\n",
    "        try:\n",
    "            response_str = response[\"choices\"][0][\"message\"][\"content\"]\n",
    "            response_dict[i] = response_str\n",
    "        except Exception as exc:\n",
    "            print(exc)\n",
    "\n",
    "    markdown_str = ''\n",
    "    bullets = []\n",
    "\n",
    "    for i, row in enumerate(AIdf.itertuples()):\n",
    "        try:\n",
    "            topics = []\n",
    "            if row.cluster_name:\n",
    "                topics.append(row.cluster_name)\n",
    "            if row.topic_str:\n",
    "                topics.append(row.topic_str)\n",
    "            topic_str = \", \".join(topics)\n",
    "\n",
    "            mdstr = f\"[{i+1}. {row.title} - {row.site_name}]({row.actual_url})  \\n\\n {topic_str}  \\n\\n{response_dict[row.id]} \\n\\n\"\n",
    "            bullets.append(f\"[{row.title} - {row.site_name}]({row.actual_url})\\n\\nTopics: {row.topic_str} \\n\\n{response_dict[row.id]}\\n\\n\")\n",
    "            display(Markdown(mdstr.replace(\"$\",\"\\\\\\\\$\")))\n",
    "            markdown_str += mdstr\n",
    "        except Exception as exc:\n",
    "            print(\"Error:\", exc)\n",
    "\n",
    "    state['bullets'] = bullets\n",
    "    # Convert Markdown to HTML\n",
    "    html_str = markdown.markdown(markdown_str, extensions=['extra'])\n",
    "    # save bullets\n",
    "    with open('bullets.md', 'w') as f:\n",
    "        f.write(markdown_str)\n",
    "    # send email\n",
    "    log(\"Sending bullet points email\")\n",
    "    subject = f'AI news bullets {datetime.now().strftime(\"%H:%M:%S\")}'\n",
    "    send_gmail(subject, html_str)\n",
    "\n",
    "    return state\n",
    "\n",
    "\n",
    "if DEBUG:\n",
    "    test_state = fn_summarize_pages(test_state)\n",
    "\n"
   ]
  },
  {
   "cell_type": "code",
   "execution_count": 24,
   "id": "2a8696ee",
   "metadata": {},
   "outputs": [],
   "source": [
    "topic_schema = {\n",
    "                \"name\": \"topic_schema\",\n",
    "                \"strict\": True,\n",
    "                \"schema\": {\n",
    "                    \"type\": \"object\",\n",
    "                    \"properties\": {\n",
    "                        \"topics\": {\n",
    "                            \"type\": \"array\",\n",
    "                            \"items\": {\n",
    "                                \"type\": \"string\",\n",
    "                            }\n",
    "                        }\n",
    "                    },\n",
    "                    \"additionalProperties\": False,\n",
    "                    \"required\": [\"topics\"],\n",
    "                }\n",
    "            }\n",
    "\n",
    "\n",
    "\n",
    "def topic_rewrite(client, \n",
    "                  model, \n",
    "                  prompt_template,\n",
    "                  topics_str,\n",
    "                  json_schema\n",
    "                 ):\n",
    "    client = OpenAI()\n",
    "    response = client.chat.completions.create(\n",
    "        model=model,\n",
    "        response_format={\n",
    "            \"type\": \"json_schema\",\n",
    "            \"json_schema\": json_schema\n",
    "        },\n",
    "        messages=[{\n",
    "            \"role\": \"user\",\n",
    "            \"content\": prompt_template.format(topics_str=topics_str)\n",
    "        }])\n",
    "    response_str = response.choices[0].message.content\n",
    "#     print(response_str)\n",
    "    return response_str\n",
    "\n",
    "\n",
    "def fn_propose_cats(state: AgentState) -> AgentState:\n",
    "    # ask chatgpt for top categories\n",
    "    log(f\"Proposing categories using {MODEL}\")\n",
    "\n",
    "    model = ChatOpenAI(\n",
    "        model=MODEL,\n",
    "        temperature=0.3,\n",
    "        model_kwargs={\"response_format\": {\"type\": \"json_object\"}}\n",
    "    )\n",
    "\n",
    "    chain = ChatPromptTemplate.from_template(\"{p}\") | model | SimpleJsonOutputParser()\n",
    "    response = chain.invoke({ \"p\": TOP_CATEGORIES_PROMPT + \"\\n\\n\".join(state[\"bullets\"])})\n",
    "    suggested_categories = []\n",
    "    for k, v in response.items():\n",
    "        suggested_categories.extend(v)\n",
    "    state[\"cluster_topics\"] = list(set(state[\"cluster_topics\"] + suggested_categories))\n",
    "    state[\"cluster_topics\"].sort()\n",
    "    topics_str = \"\\n\".join(state[\"cluster_topics\"])\n",
    "    log(f\"Original topics:\\n{topics_str}\")\n",
    "    # rewrite\n",
    "    response_str = topic_rewrite(OpenAI(), 'gpt-4o', TOPIC_REWRITE_PROMPT, topics_str, topic_schema)\n",
    "#     print(response_str)\n",
    "    state[\"topics_str\"] = \"\\n\".join(sorted(json.loads(response_str)['topics']))\n",
    "    log(f\"Updated topics:\\n{state['topics_str']}\")\n",
    "    return state\n",
    "\n",
    "\n",
    "if DEBUG:\n",
    "    test_state = fn_propose_cats(test_state)\n",
    "    print(\"edit the following proposed topic list and update state['cluster_topics']:\")\n",
    "    print('\"' + '\",\\n\"'.join(test_state[\"cluster_topics\"]) + '\"')\n"
   ]
  },
  {
   "cell_type": "code",
   "execution_count": 25,
   "id": "476589f4",
   "metadata": {},
   "outputs": [],
   "source": [
    "def fn_compose_summary(state: AgentState) -> AgentState:\n",
    "    log(f\"Composing summary using {HIGHCOST_MODEL}\")\n",
    "\n",
    "    cat_str = state['topics_str']\n",
    "    bullet_str = \"\\n~~~\\n\".join(state[\"bullets\"])\n",
    "    client = OpenAI()\n",
    "    response = client.chat.completions.create(\n",
    "        model=HIGHCOST_MODEL,\n",
    "        messages=[\n",
    "            {\n",
    "                \"role\": \"user\",\n",
    "                \"content\": FINAL_SUMMARY_PROMPT.format(cat_str=cat_str, bullet_str=bullet_str)\n",
    "            }\n",
    "        ]\n",
    "    )\n",
    "#     print(response)\n",
    "    \n",
    "#     model = ChatOpenAI(\n",
    "#         model=HIGHCOST_MODEL,\n",
    "#         temperature=0.3,\n",
    "#         model_kwargs={\"response_format\": {\"type\": \"json_object\"}}\n",
    "#     )\n",
    "\n",
    "#     chain = ChatPromptTemplate.from_template(FINAL_SUMMARY_PROMPT) | model | SimpleJsonOutputParser()\n",
    "#     response = chain.invoke({ \"cat_str\": cat_str, \"bullet_str\": bullet_str})\n",
    "#     print(response)\n",
    "    state[\"summary\"] = response.choices[0].message.content\n",
    "\n",
    "    return state\n",
    "\n",
    "\n",
    "if DEBUG:\n",
    "    test_state = fn_compose_summary(test_state)\n",
    "    display(Markdown(test_state[\"summary\"].replace(\"$\",\"\\\\\\\\$\")))\n"
   ]
  },
  {
   "cell_type": "code",
   "execution_count": 26,
   "id": "af8947de",
   "metadata": {},
   "outputs": [],
   "source": [
    "#post manually to o1-preview and grab response b/c I don't have API yet\n",
    "# cat_str = \"\\n\".join(test_state['cluster_topics'])\n",
    "# bullet_str = \"\\n~~~\\n\".join(test_state[\"bullets\"])\n",
    "# final_summary_prompt = FINAL_SUMMARY_PROMPT.format(cat_str=cat_str, bullet_str=bullet_str)\n",
    "# count_tokens(final_summary_prompt)\n",
    "# # copy to clipboard to paste in o1-preview\n",
    "# subprocess.run(\"pbcopy\", universal_newlines=True, input=final_summary_prompt)\n",
    "# print(final_summary_prompt)\n"
   ]
  },
  {
   "cell_type": "code",
   "execution_count": 27,
   "id": "db415214",
   "metadata": {},
   "outputs": [],
   "source": [
    "# test_state[\"summary\"] = \"\"\"\n",
    "# \"\"\"\n",
    "\n",
    "# display(Markdown(test_state[\"summary\"].replace(\"$\",\"\\\\\\\\$\")))\n"
   ]
  },
  {
   "cell_type": "code",
   "execution_count": 28,
   "id": "aef9690d",
   "metadata": {},
   "outputs": [],
   "source": [
    "def fn_rewrite_summary(state: AgentState) -> AgentState:\n",
    "\n",
    "#     model = ChatOpenAI(\n",
    "#         model=HIGHCOST_MODEL,\n",
    "#         temperature=0.3,\n",
    "#         model_kwargs={\"response_format\": {\"type\": \"json_object\"}}\n",
    "#     )\n",
    "\n",
    "#     chain = ChatPromptTemplate.from_template(REWRITE_PROMPT) | model | SimpleJsonOutputParser()\n",
    "#     response = chain.invoke({ \"summary\": state[\"summary\"]})\n",
    "    log(f\"Rewriting summary using {HIGHCOST_MODEL}\")\n",
    "\n",
    "    client = OpenAI()\n",
    "    response = client.chat.completions.create(\n",
    "        model=HIGHCOST_MODEL,\n",
    "        messages=[\n",
    "            {\n",
    "                \"role\": \"user\",\n",
    "                \"content\": REWRITE_PROMPT.format(summary=state[\"summary\"])\n",
    "            }\n",
    "        ]\n",
    "    )\n",
    "    response_str = response.choices[0].message.content\n",
    "    state[\"n_edits\"] += 1    \n",
    "    if response_str.strip().lower().startswith('ok'):\n",
    "        log(\"No edits made, edit complete\")\n",
    "        state[\"edit_complete\"] = True\n",
    "    else:\n",
    "        state[\"summary\"] = response_str\n",
    "    return state\n",
    "\n",
    "\n",
    "if DEBUG:\n",
    "    test_state = fn_rewrite_summary(test_state)\n",
    "    display(Markdown(test_state[\"summary\"].replace(\"$\",\"\\\\\\\\$\")))\n"
   ]
  },
  {
   "cell_type": "code",
   "execution_count": 29,
   "id": "abf4496b",
   "metadata": {},
   "outputs": [],
   "source": [
    "# rewrite_prompt = (REWRITE_PROMPT.format(summary=test_state[\"summary\"]))\n",
    "# subprocess.run(\"pbcopy\", universal_newlines=True, input=rewrite_prompt)\n",
    "# print(rewrite_prompt)\n"
   ]
  },
  {
   "cell_type": "code",
   "execution_count": 30,
   "id": "34d40128",
   "metadata": {},
   "outputs": [],
   "source": [
    "\n",
    "# test_state[\"summary\"] = \"\"\"\n",
    "# \"\"\"\n",
    "\n",
    "# if DEBUG:\n",
    "#     display(Markdown(test_state[\"summary\"].replace(\"$\",\"\\\\\\\\$\")))\n"
   ]
  },
  {
   "cell_type": "code",
   "execution_count": 31,
   "id": "48f56983",
   "metadata": {},
   "outputs": [],
   "source": [
    "def fn_is_revision_complete(state: AgentState) -> str:\n",
    "    \"\"\"update edit_complete if MAX_EDITS exceeded\"\n",
    "    return \"complete\" if edit_complete else \"incomplete\"\n",
    "    \"\"\"\n",
    "\n",
    "    if state[\"n_edits\"] >= MAX_EDITS:\n",
    "        log(\"Max edits reached\")\n",
    "        state[\"edit_complete\"] = True\n",
    "\n",
    "\n",
    "    return \"complete\" if state[\"edit_complete\"] else \"incomplete\"\n",
    "\n",
    "\n",
    "if DEBUG:\n",
    "    test_state[\"edit_complete\"] = fn_is_revision_complete(test_state)\n",
    "    display(test_state[\"edit_complete\"])\n"
   ]
  },
  {
   "cell_type": "code",
   "execution_count": 32,
   "id": "3a651d6c",
   "metadata": {},
   "outputs": [],
   "source": [
    "def fn_send_mail(state: AgentState) -> AgentState:\n",
    "\n",
    "    log(\"Sending summary email\")\n",
    "    # Convert Markdown to HTML\n",
    "    html_str = markdown.markdown(state['summary'], extensions=['extra'])\n",
    "    # extract subject, match a top-level Markdown heading (starts with \"# \")\n",
    "    match = re.search(r\"^# (.+)$\", state[\"summary\"], re.MULTILINE)\n",
    "    \n",
    "    # If a match is found, return the first captured group (the heading text)\n",
    "    if match:\n",
    "        subject = match.group(1).strip()\n",
    "    else:\n",
    "        subject = f'AI news summary {datetime.now().strftime(\"%H:%M:%S\")}'\n",
    "    log(f\"Email subject {subject}\")\n",
    "    log(f\"Email length {len(html_str)}\")\n",
    "        \n",
    "    # send email\n",
    "    send_gmail(subject, html_str)\n",
    "    return state\n",
    "\n",
    "if DEBUG:\n",
    "    fn_send_mail(test_statestate)"
   ]
  },
  {
   "cell_type": "markdown",
   "id": "e83bbf66",
   "metadata": {},
   "source": [
    "# Define LangGraph agent state graph"
   ]
  },
  {
   "cell_type": "code",
   "execution_count": 33,
   "id": "1ae374e1",
   "metadata": {},
   "outputs": [],
   "source": [
    "class Agent:\n",
    "\n",
    "    def __init__(self, state):\n",
    "        \n",
    "        self.state = state\n",
    "        \n",
    "        graph_builder = StateGraph(AgentState)\n",
    "        graph_builder.add_node(\"initialize\", self.initialize)\n",
    "        graph_builder.add_node(\"download_sources\", self.download_sources)\n",
    "        graph_builder.add_node(\"extract_web_urls\", self.extract_web_urls)\n",
    "        graph_builder.add_node(\"extract_newscatcher_urls\", self.extract_newscatcher_urls)\n",
    "        graph_builder.add_node(\"filter_urls\", self.filter_urls)\n",
    "        graph_builder.add_node(\"topic_analysis\", self.topic_analysis)\n",
    "        graph_builder.add_node(\"topic_clusters\", self.topic_clusters)\n",
    "        graph_builder.add_node(\"download_pages\", self.download_pages)\n",
    "        graph_builder.add_node(\"summarize_pages\", self.summarize_pages)\n",
    "        graph_builder.add_node(\"propose_topics\", self.propose_topics)\n",
    "        graph_builder.add_node(\"compose_summary\", self.compose_summary)\n",
    "        graph_builder.add_node(\"rewrite_summary\", self.rewrite_summary)\n",
    "        graph_builder.add_node(\"send_mail\", self.send_mail)\n",
    "\n",
    "        graph_builder.add_edge(START, \"initialize\")\n",
    "        graph_builder.add_edge(\"initialize\", \"download_sources\")\n",
    "        graph_builder.add_edge(\"download_sources\", \"extract_web_urls\")\n",
    "        graph_builder.add_edge(\"extract_web_urls\", \"extract_newscatcher_urls\")\n",
    "        graph_builder.add_edge(\"extract_newscatcher_urls\", \"filter_urls\")\n",
    "        graph_builder.add_edge(\"filter_urls\", \"topic_analysis\")\n",
    "        graph_builder.add_edge(\"topic_analysis\", \"topic_clusters\")\n",
    "        graph_builder.add_edge(\"topic_clusters\", \"download_pages\")\n",
    "        graph_builder.add_edge(\"download_pages\", \"summarize_pages\")\n",
    "        graph_builder.add_edge(\"summarize_pages\", \"propose_topics\")\n",
    "        graph_builder.add_edge(\"propose_topics\", \"compose_summary\")\n",
    "        graph_builder.add_edge(\"compose_summary\", \"rewrite_summary\")\n",
    "        graph_builder.add_conditional_edges(\"rewrite_summary\",\n",
    "                                            self.is_revision_complete,\n",
    "                                            {\"incomplete\": \"rewrite_summary\",\n",
    "                                             \"complete\": \"send_mail\",\n",
    "                                            })\n",
    "        graph_builder.add_edge(\"send_mail\", END)\n",
    "\n",
    "        # human in the loop should check web pages downloaded ok, and edit proposed categories \n",
    "#         self.conn = sqlite3.connect('lg_checkpointer.db')\n",
    "#         self.checkpointer = SqliteSaver(conn=self.conn)\n",
    "        self.checkpointer = MemorySaver()\n",
    "        graph = graph_builder.compile(checkpointer=self.checkpointer,\n",
    "                                      interrupt_before=[\"filter_urls\", \"compose_summary\",])\n",
    "        self.graph = graph\n",
    "\n",
    "\n",
    "    def initialize(self, state: AgentState) -> AgentState:\n",
    "        self.state = fn_initialize(state)\n",
    "        return self.state\n",
    "\n",
    "    def download_sources(self, state: AgentState) -> AgentState:\n",
    "        self.state = fn_download_sources(state)\n",
    "        return self.state\n",
    "\n",
    "    def extract_web_urls(self, state: AgentState) -> AgentState:\n",
    "        self.state = fn_extract_urls(state)\n",
    "        return self.state\n",
    "\n",
    "    def extract_newscatcher_urls(self, state: AgentState) -> AgentState:\n",
    "        self.state = fn_extract_newscatcher(state)\n",
    "        return self.state\n",
    "\n",
    "    def filter_urls(self, state: AgentState) -> AgentState:\n",
    "        self.state = fn_filter_urls(state)\n",
    "        return self.state\n",
    "\n",
    "    def topic_analysis(self, state: AgentState) -> AgentState:\n",
    "        self.state = fn_topic_analysis(state)\n",
    "        return self.state\n",
    "\n",
    "    def topic_clusters(self, state: AgentState) -> AgentState:\n",
    "        self.state = fn_topic_clusters(state)\n",
    "        return self.state\n",
    "\n",
    "    def download_pages(self, state: AgentState) -> AgentState:\n",
    "        self.state = fn_download_pages(state)\n",
    "        return self.state\n",
    "\n",
    "    def summarize_pages(self, state: AgentState) -> AgentState:\n",
    "        self.state = fn_summarize_pages(state)\n",
    "        return self.state\n",
    "\n",
    "    def propose_topics(self, state: AgentState) -> AgentState:\n",
    "        self.state = fn_propose_cats(state)\n",
    "        return self.state\n",
    "\n",
    "    def compose_summary(self, state: AgentState) -> AgentState:\n",
    "        self.state = fn_compose_summary(state)\n",
    "        return self.state\n",
    "\n",
    "    def rewrite_summary(self, state: AgentState) -> AgentState:\n",
    "        self.state = fn_rewrite_summary(state)\n",
    "        return self.state\n",
    "\n",
    "    def is_revision_complete(self, state: AgentState) -> str:\n",
    "        return fn_is_revision_complete(state)\n",
    "\n",
    "    def send_mail(self, state: AgentState) -> AgentState:\n",
    "        self.state = fn_send_mail(state)\n",
    "        return self.state\n",
    "    \n",
    "    def run(self, state, config):\n",
    "        # The config is the **second positional argument** to stream() or invoke()!\n",
    "        events = self.graph.stream(state, config, stream_mode=\"values\"\n",
    "        )\n",
    "        \n",
    "        for event in events:\n",
    "            try:\n",
    "                if event.get('summary'):\n",
    "                    display(Markdown(event.get('summary').replace(\"$\",\"\\\\\\\\$\")))\n",
    "                elif event.get('bullets'):\n",
    "                    display(Markdown(\"\\n\\n\".join(event.get('bullets')).replace(\"$\",\"\\\\\\\\$\")))\n",
    "                elif event.get('cluster_topics'):\n",
    "                    display(Markdown(\"\\n\\n\".join(event.get('cluster_topics'))))\n",
    "                elif event.get('AIdf'):\n",
    "                    display(pd.DataFrame(event.get('AIdf')).groupby(\"src\").count()[['id']])\n",
    "                elif event.get('sources'):\n",
    "                    print([k for k in event.get('sources').keys()])\n",
    "            except Exception as exc: \n",
    "                print(exc)\n",
    "                \n",
    "        return self.state\n",
    "\n",
    " "
   ]
  },
  {
   "cell_type": "markdown",
   "id": "b1c93915",
   "metadata": {},
   "source": [
    "# Instantiate agent and show flowchart"
   ]
  },
  {
   "cell_type": "code",
   "execution_count": 34,
   "id": "a9585f64",
   "metadata": {},
   "outputs": [
    {
     "name": "stderr",
     "output_type": "stream",
     "text": [
      "2024-11-09 17:50:59,605 - AInewsbot - INFO - Initializing with before_date=None, do_download=True, thread_id=e0e7997e3d644e3e8b0422541ccff9ba\n"
     ]
    },
    {
     "data": {
      "image/jpeg": "[encoded data removed]",
      "text/plain": [
       "<IPython.core.display.Image object>"
      ]
     },
     "metadata": {},
     "output_type": "display_data"
    }
   ],
   "source": [
    "do_download = True\n",
    "before_date = None\n",
    "# before_date = '2024-11-07 16:00:00'\n",
    "# use everything since this date even if already seen\n",
    "# like if you want to rerun it for any reason after sqlite updated\n",
    "\n",
    "# initial state\n",
    "state = AgentState(\n",
    "    {'AIdf': None,\n",
    "    'before_date': before_date,\n",
    "    'do_download': do_download,\n",
    "    'sources': None,\n",
    "    'sources_reverse': None,\n",
    "    'bullets': '',\n",
    "    'summary': '',\n",
    "    'cluster_topics': [],\n",
    "    'topics_str': str,\n",
    "    'n_edits': 0,\n",
    "    'edit_complete': False,\n",
    "#     'messages': None\n",
    "    }\n",
    ")\n",
    "# Configuration with thread ID for checkpointing\n",
    "# Generate a random UUID\n",
    "thread_id = uuid.uuid4().hex\n",
    "config = {\"configurable\": {\"thread_id\": thread_id}}\n",
    "\n",
    "log(f\"Initializing with before_date={state.get('before_date')}, do_download={do_download}, thread_id={thread_id}\")\n",
    "lg_agent = Agent(state)\n",
    "display(Image(lg_agent.graph.get_graph().draw_mermaid_png()))\n"
   ]
  },
  {
   "cell_type": "markdown",
   "id": "25ff0b02",
   "metadata": {},
   "source": [
    "# Run each step individually"
   ]
  },
  {
   "cell_type": "code",
   "execution_count": 35,
   "id": "f0108a59",
   "metadata": {},
   "outputs": [
    {
     "name": "stderr",
     "output_type": "stream",
     "text": [
      "2024-11-09 17:50:59,704 - AInewsbot - INFO - Initialized 17 items in sources from sources.yaml\n",
      "2024-11-09 17:50:59,704 - AInewsbot - INFO - Ars Technica -> https://arstechnica.com/ -> Ars Technica.html\n",
      "2024-11-09 17:50:59,704 - AInewsbot - INFO - Bloomberg Tech -> https://www.bloomberg.com/ai -> Bloomberg Technology.html\n",
      "2024-11-09 17:50:59,704 - AInewsbot - INFO - Business Insider -> https://www.businessinsider.com/tech -> Business Insider Tech.html\n",
      "2024-11-09 17:50:59,704 - AInewsbot - INFO - FT Tech -> https://www.ft.com/technology -> FT Technology.html\n",
      "2024-11-09 17:50:59,705 - AInewsbot - INFO - Feedly AI -> https://feedly.com/i/aiFeeds?options=eyJsYXllcnMiOlt7InBhcnRzIjpbeyJpZCI6Im5scC9mL3RvcGljLzMwMDAifV0sInNlYXJjaEhpbnQiOiJ0ZWNobm9sb2d5IiwidHlwZSI6Im1hdGNoZXMiLCJzYWxpZW5jZSI6ImFib3V0In1dLCJidW5kbGVzIjpbeyJ0eXBlIjoic3RyZWFtIiwiaWQiOiJ1c2VyLzYyZWViYjlmLTcxNTEtNGY5YS1hOGM3LTlhNTdiODIwNTMwOC9jYXRlZ29yeS9HYWRnZXRzIn1dfQ -> Feedly AI.html\n",
      "2024-11-09 17:50:59,705 - AInewsbot - INFO - Google News -> https://news.google.com/topics/CAAqJggKIiBDQkFTRWdvSUwyMHZNRGRqTVhZU0FtVnVHZ0pWVXlnQVAB?hl=en-US&gl=US&ceid=US%3Aen -> Google News - Technology - Artificial intelligence.html\n",
      "2024-11-09 17:50:59,705 - AInewsbot - INFO - Hacker News -> https://news.ycombinator.com/ -> Hacker News Page 1.html\n",
      "2024-11-09 17:50:59,705 - AInewsbot - INFO - Hacker News 2 -> https://news.ycombinator.com/?p=2 -> Hacker News Page 2.html\n",
      "2024-11-09 17:50:59,705 - AInewsbot - INFO - HackerNoon -> https://hackernoon.com/ -> HackerNoon.html\n",
      "2024-11-09 17:50:59,705 - AInewsbot - INFO - NYT Tech -> https://www.nytimes.com/section/technology -> New York Times Technology.html\n",
      "2024-11-09 17:50:59,705 - AInewsbot - INFO - Reddit -> https://www.reddit.com/r/ChatGPT+ChatGPTCoding+MacOS+MachineLearning+OpenAI+ProgrammerHumor+Windows10+battlestations+buildapc+cordcutters+dataisbeautiful+gadgets+hardware+linux+msp+programming+realtech+software+talesfromtechsupport+tech+technews+technology+techsupportgore+windows/top/?sort=top&t=day -> Reddit multiple subreddits.html\n",
      "2024-11-09 17:50:59,706 - AInewsbot - INFO - Techmeme -> https://www.techmeme.com/river -> Techmeme.html\n",
      "2024-11-09 17:50:59,706 - AInewsbot - INFO - The Register -> https://www.theregister.com/software/ai_ml/ -> The Register.html\n",
      "2024-11-09 17:50:59,706 - AInewsbot - INFO - The Verge -> https://www.theverge.com/ai-artificial-intelligence -> The Verge AI.html\n",
      "2024-11-09 17:50:59,706 - AInewsbot - INFO - VentureBeat -> https://venturebeat.com/category/ai/ -> VentureBeat AI.html\n",
      "2024-11-09 17:50:59,706 - AInewsbot - INFO - WSJ Tech -> https://www.wsj.com/tech/ai -> WSJ Technology.html\n",
      "2024-11-09 17:50:59,706 - AInewsbot - INFO - WaPo Tech -> https://www.washingtonpost.com/technology/innovations/ -> Washington Post Technology.html\n",
      "2024-11-09 17:50:59,706 - AInewsbot - INFO - Initialized 17 items in sources_reverse\n",
      "2024-11-09 17:50:59,725 - AInewsbot - INFO - Saving HTML files using 4 browsers\n",
      "2024-11-09 17:50:59,736 - AInewsbot - INFO - get_driver - 32331 Initializing webdriver\n",
      "2024-11-09 17:50:59,737 - AInewsbot - INFO - get_driver - 32331 Initializing webdriver\n",
      "2024-11-09 17:50:59,737 - AInewsbot - INFO - get_driver - 32331 Initializing webdriver\n",
      "2024-11-09 17:50:59,737 - AInewsbot - INFO - get_driver - 32331 Initializing webdriver\n",
      "2024-11-09 17:51:18,574 - AInewsbot - INFO - get_driver - Initialized webdriver profile\n",
      "2024-11-09 17:51:18,575 - AInewsbot - INFO - get_driver - Initialized webdriver service\n",
      "2024-11-09 17:51:18,690 - AInewsbot - INFO - get_driver - Initialized webdriver profile\n",
      "2024-11-09 17:51:18,690 - AInewsbot - INFO - get_driver - Initialized webdriver service\n",
      "2024-11-09 17:51:19,011 - AInewsbot - INFO - get_driver - Initialized webdriver profile\n",
      "2024-11-09 17:51:19,012 - AInewsbot - INFO - get_driver - Initialized webdriver service\n",
      "2024-11-09 17:51:19,293 - AInewsbot - INFO - get_driver - Initialized webdriver profile\n",
      "2024-11-09 17:51:19,294 - AInewsbot - INFO - get_driver - Initialized webdriver service\n",
      "2024-11-09 17:52:25,746 - AInewsbot - INFO - get_driver - Initialized webdriver\n",
      "2024-11-09 17:52:25,787 - AInewsbot - INFO - Processing Ars Technica\n",
      "2024-11-09 17:52:25,794 - AInewsbot - INFO - get_driver - Initialized webdriver\n",
      "2024-11-09 17:52:25,807 - AInewsbot - INFO - get_files(Ars Technica) - starting get_files https://arstechnica.com/\n",
      "2024-11-09 17:52:25,838 - AInewsbot - INFO - Processing Bloomberg Tech\n",
      "2024-11-09 17:52:25,841 - AInewsbot - INFO - get_files(Bloomberg Technology) - starting get_files https://www.bloomberg.com/ai\n",
      "2024-11-09 17:52:28,940 - AInewsbot - INFO - get_driver - Initialized webdriver\n",
      "2024-11-09 17:52:28,977 - AInewsbot - INFO - Processing Business Insider\n",
      "2024-11-09 17:52:28,994 - AInewsbot - INFO - get_files(Business Insider Tech) - starting get_files https://www.businessinsider.com/tech\n",
      "2024-11-09 17:52:30,593 - AInewsbot - INFO - get_driver - Initialized webdriver\n",
      "2024-11-09 17:52:30,628 - AInewsbot - INFO - Processing FT Tech\n",
      "2024-11-09 17:52:30,636 - AInewsbot - INFO - get_files(FT Technology) - starting get_files https://www.ft.com/technology\n",
      "2024-11-09 17:52:38,068 - AInewsbot - INFO - Message: Unable to locate element: //meta[@http-equiv='Content-Type']; For documentation on this error, please visit: https://www.selenium.dev/documentation/webdriver/troubleshooting/errors#no-such-element-exception\n",
      "Stacktrace:\n",
      "RemoteError@chrome://remote/content/shared/RemoteError.sys.mjs:8:8\n",
      "WebDriverError@chrome://remote/content/shared/webdriver/Errors.sys.mjs:192:5\n",
      "NoSuchElementError@chrome://remote/content/shared/webdriver/Errors.sys.mjs:510:5\n",
      "dom.find/</<@chrome://remote/content/shared/DOM.sys.mjs:136:16\n",
      "\n",
      "2024-11-09 17:52:38,069 - AInewsbot - INFO - get_files(Ars Technica) - Saving Ars Technica (11_09_2024 05_52_38 PM).html as utf-8\n",
      "2024-11-09 17:52:38,073 - AInewsbot - INFO - Processing Feedly AI\n",
      "2024-11-09 17:52:38,073 - AInewsbot - INFO - get_files(Feedly AI) - starting get_files https://feedly.com/i/aiFeeds?options=eyJsYXllcnMiOlt7InBhcnRzIjpbeyJpZCI6Im5scC9mL3RvcGljLzMwMDAifV0sInNlYXJjaEhpbnQiOiJ0ZWNobm9sb2d5IiwidHlwZSI6Im1hdGNoZXMiLCJzYWxpZW5jZSI6ImFib3V0In1dLCJidW5kbGVzIjpbeyJ0eXBlIjoic3RyZWFtIiwiaWQiOiJ1c2VyLzYyZWViYjlmLTcxNTEtNGY5YS1hOGM3LTlhNTdiODIwNTMwOC9jYXRlZ29yeS9HYWRnZXRzIn1dfQ\n",
      "2024-11-09 17:52:38,357 - AInewsbot - INFO - Message: Unable to locate element: //meta[@http-equiv='Content-Type']; For documentation on this error, please visit: https://www.selenium.dev/documentation/webdriver/troubleshooting/errors#no-such-element-exception\n",
      "Stacktrace:\n",
      "RemoteError@chrome://remote/content/shared/RemoteError.sys.mjs:8:8\n",
      "WebDriverError@chrome://remote/content/shared/webdriver/Errors.sys.mjs:192:5\n",
      "NoSuchElementError@chrome://remote/content/shared/webdriver/Errors.sys.mjs:510:5\n",
      "dom.find/</<@chrome://remote/content/shared/DOM.sys.mjs:136:16\n",
      "\n",
      "2024-11-09 17:52:38,358 - AInewsbot - INFO - get_files(Bloomberg Technology) - Saving Bloomberg Technology (11_09_2024 05_52_38 PM).html as utf-8\n",
      "2024-11-09 17:52:38,359 - AInewsbot - INFO - Processing Google News\n",
      "2024-11-09 17:52:38,359 - AInewsbot - INFO - get_files(Google News - Technology - Artificial intelligence) - starting get_files https://news.google.com/topics/CAAqJggKIiBDQkFTRWdvSUwyMHZNRGRqTVhZU0FtVnVHZ0pWVXlnQVAB?hl=en-US&gl=US&ceid=US%3Aen\n",
      "2024-11-09 17:52:39,434 - AInewsbot - INFO - Message: Unable to locate element: //meta[@http-equiv='Content-Type']; For documentation on this error, please visit: https://www.selenium.dev/documentation/webdriver/troubleshooting/errors#no-such-element-exception\n",
      "Stacktrace:\n",
      "RemoteError@chrome://remote/content/shared/RemoteError.sys.mjs:8:8\n",
      "WebDriverError@chrome://remote/content/shared/webdriver/Errors.sys.mjs:192:5\n",
      "NoSuchElementError@chrome://remote/content/shared/webdriver/Errors.sys.mjs:510:5\n",
      "dom.find/</<@chrome://remote/content/shared/DOM.sys.mjs:136:16\n",
      "\n",
      "2024-11-09 17:52:39,434 - AInewsbot - INFO - get_files(Business Insider Tech) - Saving Business Insider Tech (11_09_2024 05_52_39 PM).html as utf-8\n",
      "2024-11-09 17:52:39,435 - AInewsbot - INFO - Processing Hacker News\n",
      "2024-11-09 17:52:39,436 - AInewsbot - INFO - get_files(Hacker News Page 1) - starting get_files https://news.ycombinator.com/\n"
     ]
    },
    {
     "name": "stderr",
     "output_type": "stream",
     "text": [
      "2024-11-09 17:52:42,928 - AInewsbot - INFO - Message: Unable to locate element: //meta[@http-equiv='Content-Type']; For documentation on this error, please visit: https://www.selenium.dev/documentation/webdriver/troubleshooting/errors#no-such-element-exception\n",
      "Stacktrace:\n",
      "RemoteError@chrome://remote/content/shared/RemoteError.sys.mjs:8:8\n",
      "WebDriverError@chrome://remote/content/shared/webdriver/Errors.sys.mjs:192:5\n",
      "NoSuchElementError@chrome://remote/content/shared/webdriver/Errors.sys.mjs:510:5\n",
      "dom.find/</<@chrome://remote/content/shared/DOM.sys.mjs:136:16\n",
      "\n",
      "2024-11-09 17:52:42,930 - AInewsbot - INFO - get_files(FT Technology) - Saving FT Technology (11_09_2024 05_52_42 PM).html as utf-8\n",
      "2024-11-09 17:52:42,931 - AInewsbot - INFO - Processing Hacker News 2\n",
      "2024-11-09 17:52:42,932 - AInewsbot - INFO - get_files(Hacker News Page 2) - starting get_files https://news.ycombinator.com/?p=2\n",
      "2024-11-09 17:52:49,656 - AInewsbot - INFO - get_files(Google News - Technology - Artificial intelligence) - Attempting to click on //*[@aria-label=\"Artificial intelligence\"]\n",
      "2024-11-09 17:52:49,936 - AInewsbot - INFO - get_files - Clicked\n",
      "2024-11-09 17:52:49,947 - AInewsbot - INFO - get_files(Google News - Technology - Artificial intelligence) - Loading additional infinite scroll items\n",
      "2024-11-09 17:52:50,084 - AInewsbot - INFO - Message: Unable to locate element: //meta[@http-equiv='Content-Type']; For documentation on this error, please visit: https://www.selenium.dev/documentation/webdriver/troubleshooting/errors#no-such-element-exception\n",
      "Stacktrace:\n",
      "RemoteError@chrome://remote/content/shared/RemoteError.sys.mjs:8:8\n",
      "WebDriverError@chrome://remote/content/shared/webdriver/Errors.sys.mjs:192:5\n",
      "NoSuchElementError@chrome://remote/content/shared/webdriver/Errors.sys.mjs:510:5\n",
      "dom.find/</<@chrome://remote/content/shared/DOM.sys.mjs:136:16\n",
      "\n",
      "2024-11-09 17:52:50,085 - AInewsbot - INFO - get_files(Hacker News Page 1) - Saving Hacker News Page 1 (11_09_2024 05_52_50 PM).html as utf-8\n",
      "2024-11-09 17:52:50,086 - AInewsbot - INFO - Processing HackerNoon\n",
      "2024-11-09 17:52:50,086 - AInewsbot - INFO - get_files(HackerNoon) - starting get_files https://hackernoon.com/\n",
      "2024-11-09 17:52:53,445 - AInewsbot - INFO - Message: Unable to locate element: //meta[@http-equiv='Content-Type']; For documentation on this error, please visit: https://www.selenium.dev/documentation/webdriver/troubleshooting/errors#no-such-element-exception\n",
      "Stacktrace:\n",
      "RemoteError@chrome://remote/content/shared/RemoteError.sys.mjs:8:8\n",
      "WebDriverError@chrome://remote/content/shared/webdriver/Errors.sys.mjs:192:5\n",
      "NoSuchElementError@chrome://remote/content/shared/webdriver/Errors.sys.mjs:510:5\n",
      "dom.find/</<@chrome://remote/content/shared/DOM.sys.mjs:136:16\n",
      "\n",
      "2024-11-09 17:52:53,445 - AInewsbot - INFO - get_files(Hacker News Page 2) - Saving Hacker News Page 2 (11_09_2024 05_52_53 PM).html as utf-8\n",
      "2024-11-09 17:52:53,446 - AInewsbot - INFO - Processing NYT Tech\n",
      "2024-11-09 17:52:53,446 - AInewsbot - INFO - get_files(New York Times Technology) - starting get_files https://www.nytimes.com/section/technology\n",
      "2024-11-09 17:52:59,976 - AInewsbot - INFO - Message: Unable to locate element: //meta[@http-equiv='Content-Type']; For documentation on this error, please visit: https://www.selenium.dev/documentation/webdriver/troubleshooting/errors#no-such-element-exception\n",
      "Stacktrace:\n",
      "RemoteError@chrome://remote/content/shared/RemoteError.sys.mjs:8:8\n",
      "WebDriverError@chrome://remote/content/shared/webdriver/Errors.sys.mjs:192:5\n",
      "NoSuchElementError@chrome://remote/content/shared/webdriver/Errors.sys.mjs:510:5\n",
      "dom.find/</<@chrome://remote/content/shared/DOM.sys.mjs:136:16\n",
      "\n",
      "2024-11-09 17:52:59,976 - AInewsbot - INFO - get_files(Google News - Technology - Artificial intelligence) - Saving Google News - Technology - Artificial intelligence (11_09_2024 05_52_59 PM).html as utf-8\n",
      "2024-11-09 17:52:59,978 - AInewsbot - INFO - Processing Reddit\n",
      "2024-11-09 17:52:59,978 - AInewsbot - INFO - get_files(Reddit multiple subreddits) - starting get_files https://www.reddit.com/r/ChatGPT+ChatGPTCoding+MacOS+MachineLearning+OpenAI+ProgrammerHumor+Windows10+battlestations+buildapc+cordcutters+dataisbeautiful+gadgets+hardware+linux+msp+programming+realtech+software+talesfromtechsupport+tech+technews+technology+techsupportgore+windows/top/?sort=top&t=day\n",
      "2024-11-09 17:53:00,966 - AInewsbot - INFO - Message: Unable to locate element: //meta[@http-equiv='Content-Type']; For documentation on this error, please visit: https://www.selenium.dev/documentation/webdriver/troubleshooting/errors#no-such-element-exception\n",
      "Stacktrace:\n",
      "RemoteError@chrome://remote/content/shared/RemoteError.sys.mjs:8:8\n",
      "WebDriverError@chrome://remote/content/shared/webdriver/Errors.sys.mjs:192:5\n",
      "NoSuchElementError@chrome://remote/content/shared/webdriver/Errors.sys.mjs:510:5\n",
      "dom.find/</<@chrome://remote/content/shared/DOM.sys.mjs:136:16\n",
      "\n",
      "2024-11-09 17:53:00,968 - AInewsbot - INFO - get_files(HackerNoon) - Saving HackerNoon (11_09_2024 05_53_00 PM).html as utf-8\n",
      "2024-11-09 17:53:00,978 - AInewsbot - INFO - Processing Techmeme\n",
      "2024-11-09 17:53:00,978 - AInewsbot - INFO - get_files(Techmeme) - starting get_files https://www.techmeme.com/river\n",
      "2024-11-09 17:53:05,010 - AInewsbot - INFO - Message: Unable to locate element: //meta[@http-equiv='Content-Type']; For documentation on this error, please visit: https://www.selenium.dev/documentation/webdriver/troubleshooting/errors#no-such-element-exception\n",
      "Stacktrace:\n",
      "RemoteError@chrome://remote/content/shared/RemoteError.sys.mjs:8:8\n",
      "WebDriverError@chrome://remote/content/shared/webdriver/Errors.sys.mjs:192:5\n",
      "NoSuchElementError@chrome://remote/content/shared/webdriver/Errors.sys.mjs:510:5\n",
      "dom.find/</<@chrome://remote/content/shared/DOM.sys.mjs:136:16\n",
      "\n",
      "2024-11-09 17:53:05,011 - AInewsbot - INFO - get_files(New York Times Technology) - Saving New York Times Technology (11_09_2024 05_53_05 PM).html as utf-8\n",
      "2024-11-09 17:53:05,013 - AInewsbot - INFO - Processing The Register\n",
      "2024-11-09 17:53:05,014 - AInewsbot - INFO - get_files(The Register) - starting get_files https://www.theregister.com/software/ai_ml/\n",
      "2024-11-09 17:53:09,115 - AInewsbot - INFO - get_files(Feedly AI) - Loading additional infinite scroll items\n",
      "2024-11-09 17:53:12,067 - AInewsbot - INFO - Message: Unable to locate element: //meta[@http-equiv='Content-Type']; For documentation on this error, please visit: https://www.selenium.dev/documentation/webdriver/troubleshooting/errors#no-such-element-exception\n",
      "Stacktrace:\n",
      "RemoteError@chrome://remote/content/shared/RemoteError.sys.mjs:8:8\n",
      "WebDriverError@chrome://remote/content/shared/webdriver/Errors.sys.mjs:192:5\n",
      "NoSuchElementError@chrome://remote/content/shared/webdriver/Errors.sys.mjs:510:5\n",
      "dom.find/</<@chrome://remote/content/shared/DOM.sys.mjs:136:16\n",
      "\n",
      "2024-11-09 17:53:12,068 - AInewsbot - INFO - get_files(Techmeme) - Saving Techmeme (11_09_2024 05_53_12 PM).html as utf-8\n",
      "2024-11-09 17:53:12,070 - AInewsbot - INFO - Processing The Verge\n",
      "2024-11-09 17:53:12,071 - AInewsbot - INFO - get_files(The Verge AI) - starting get_files https://www.theverge.com/ai-artificial-intelligence\n",
      "2024-11-09 17:53:12,350 - AInewsbot - INFO - get_files(Reddit multiple subreddits) - Loading additional infinite scroll items\n",
      "2024-11-09 17:53:15,969 - AInewsbot - INFO - get_files(The Register) - Saving The Register (11_09_2024 05_53_15 PM).html as utf-8\n",
      "2024-11-09 17:53:15,970 - AInewsbot - INFO - Processing VentureBeat\n",
      "2024-11-09 17:53:15,971 - AInewsbot - INFO - get_files(VentureBeat AI) - starting get_files https://venturebeat.com/category/ai/\n",
      "2024-11-09 17:53:19,129 - AInewsbot - INFO - get_files(Feedly AI) - Loading additional infinite scroll items\n",
      "2024-11-09 17:53:22,365 - AInewsbot - INFO - get_files(Reddit multiple subreddits) - Loading additional infinite scroll items\n",
      "2024-11-09 17:53:23,289 - AInewsbot - INFO - Message: Unable to locate element: //meta[@http-equiv='Content-Type']; For documentation on this error, please visit: https://www.selenium.dev/documentation/webdriver/troubleshooting/errors#no-such-element-exception\n",
      "Stacktrace:\n",
      "RemoteError@chrome://remote/content/shared/RemoteError.sys.mjs:8:8\n",
      "WebDriverError@chrome://remote/content/shared/webdriver/Errors.sys.mjs:192:5\n",
      "NoSuchElementError@chrome://remote/content/shared/webdriver/Errors.sys.mjs:510:5\n",
      "dom.find/</<@chrome://remote/content/shared/DOM.sys.mjs:136:16\n",
      "\n"
     ]
    },
    {
     "name": "stderr",
     "output_type": "stream",
     "text": [
      "2024-11-09 17:53:23,290 - AInewsbot - INFO - get_files(The Verge AI) - Saving The Verge AI (11_09_2024 05_53_23 PM).html as utf-8\n",
      "2024-11-09 17:53:23,291 - AInewsbot - INFO - Processing WSJ Tech\n",
      "2024-11-09 17:53:23,291 - AInewsbot - INFO - get_files(WSJ Technology) - starting get_files https://www.wsj.com/tech/ai\n",
      "2024-11-09 17:53:26,515 - AInewsbot - INFO - get_files(VentureBeat AI) - Saving VentureBeat AI (11_09_2024 05_53_26 PM).html as UTF-8\n",
      "2024-11-09 17:53:26,516 - AInewsbot - INFO - Processing WaPo Tech\n",
      "2024-11-09 17:53:26,517 - AInewsbot - INFO - get_files(Washington Post Technology) - starting get_files https://www.washingtonpost.com/technology/innovations/\n",
      "2024-11-09 17:53:29,136 - AInewsbot - INFO - get_files(Feedly AI) - Loading additional infinite scroll items\n",
      "2024-11-09 17:53:32,381 - AInewsbot - INFO - Message: Unable to locate element: //meta[@http-equiv='Content-Type']; For documentation on this error, please visit: https://www.selenium.dev/documentation/webdriver/troubleshooting/errors#no-such-element-exception\n",
      "Stacktrace:\n",
      "RemoteError@chrome://remote/content/shared/RemoteError.sys.mjs:8:8\n",
      "WebDriverError@chrome://remote/content/shared/webdriver/Errors.sys.mjs:192:5\n",
      "NoSuchElementError@chrome://remote/content/shared/webdriver/Errors.sys.mjs:510:5\n",
      "dom.find/</<@chrome://remote/content/shared/DOM.sys.mjs:136:16\n",
      "\n",
      "2024-11-09 17:53:32,382 - AInewsbot - INFO - get_files(Reddit multiple subreddits) - Saving Reddit multiple subreddits (11_09_2024 05_53_32 PM).html as utf-8\n",
      "2024-11-09 17:53:32,384 - AInewsbot - INFO - Quit webdriver\n",
      "2024-11-09 17:53:34,208 - AInewsbot - INFO - Message: Unable to locate element: //meta[@http-equiv='Content-Type']; For documentation on this error, please visit: https://www.selenium.dev/documentation/webdriver/troubleshooting/errors#no-such-element-exception\n",
      "Stacktrace:\n",
      "RemoteError@chrome://remote/content/shared/RemoteError.sys.mjs:8:8\n",
      "WebDriverError@chrome://remote/content/shared/webdriver/Errors.sys.mjs:192:5\n",
      "NoSuchElementError@chrome://remote/content/shared/webdriver/Errors.sys.mjs:510:5\n",
      "dom.find/</<@chrome://remote/content/shared/DOM.sys.mjs:136:16\n",
      "\n",
      "2024-11-09 17:53:34,208 - AInewsbot - INFO - get_files(WSJ Technology) - Saving WSJ Technology (11_09_2024 05_53_34 PM).html as utf-8\n",
      "2024-11-09 17:53:34,209 - AInewsbot - INFO - Quit webdriver\n",
      "2024-11-09 17:53:39,143 - AInewsbot - INFO - get_files(Feedly AI) - Loading additional infinite scroll items\n",
      "2024-11-09 17:53:39,606 - AInewsbot - INFO - Message: Unable to locate element: //meta[@http-equiv='Content-Type']; For documentation on this error, please visit: https://www.selenium.dev/documentation/webdriver/troubleshooting/errors#no-such-element-exception\n",
      "Stacktrace:\n",
      "RemoteError@chrome://remote/content/shared/RemoteError.sys.mjs:8:8\n",
      "WebDriverError@chrome://remote/content/shared/webdriver/Errors.sys.mjs:192:5\n",
      "NoSuchElementError@chrome://remote/content/shared/webdriver/Errors.sys.mjs:510:5\n",
      "dom.find/</<@chrome://remote/content/shared/DOM.sys.mjs:136:16\n",
      "\n",
      "2024-11-09 17:53:39,607 - AInewsbot - INFO - get_files(Washington Post Technology) - Saving Washington Post Technology (11_09_2024 05_53_39 PM).html as utf-8\n",
      "2024-11-09 17:53:39,608 - AInewsbot - INFO - Quit webdriver\n",
      "2024-11-09 17:53:49,157 - AInewsbot - INFO - get_files(Feedly AI) - Loading additional infinite scroll items\n",
      "2024-11-09 17:53:59,176 - AInewsbot - INFO - Message: Unable to locate element: //meta[@http-equiv='Content-Type']; For documentation on this error, please visit: https://www.selenium.dev/documentation/webdriver/troubleshooting/errors#no-such-element-exception\n",
      "Stacktrace:\n",
      "RemoteError@chrome://remote/content/shared/RemoteError.sys.mjs:8:8\n",
      "WebDriverError@chrome://remote/content/shared/webdriver/Errors.sys.mjs:192:5\n",
      "NoSuchElementError@chrome://remote/content/shared/webdriver/Errors.sys.mjs:510:5\n",
      "dom.find/</<@chrome://remote/content/shared/DOM.sys.mjs:136:16\n",
      "\n",
      "2024-11-09 17:53:59,176 - AInewsbot - INFO - get_files(Feedly AI) - Saving Feedly AI (11_09_2024 05_53_59 PM).html as utf-8\n",
      "2024-11-09 17:53:59,178 - AInewsbot - INFO - Quit webdriver\n",
      "2024-11-09 17:54:02,262 - AInewsbot - INFO - returned 17\n",
      "2024-11-09 17:54:02,263 - AInewsbot - INFO - Downloaded Bloomberg Tech to htmldata/Bloomberg Technology (11_09_2024 05_52_38 PM).html\n",
      "2024-11-09 17:54:02,263 - AInewsbot - INFO - Downloaded Google News to htmldata/Google News - Technology - Artificial intelligence (11_09_2024 05_52_59 PM).html\n",
      "2024-11-09 17:54:02,263 - AInewsbot - INFO - Downloaded Reddit to htmldata/Reddit multiple subreddits (11_09_2024 05_53_32 PM).html\n",
      "2024-11-09 17:54:02,263 - AInewsbot - INFO - Downloaded Business Insider to htmldata/Business Insider Tech (11_09_2024 05_52_39 PM).html\n",
      "2024-11-09 17:54:02,263 - AInewsbot - INFO - Downloaded Hacker News to htmldata/Hacker News Page 1 (11_09_2024 05_52_50 PM).html\n",
      "2024-11-09 17:54:02,263 - AInewsbot - INFO - Downloaded HackerNoon to htmldata/HackerNoon (11_09_2024 05_53_00 PM).html\n",
      "2024-11-09 17:54:02,264 - AInewsbot - INFO - Downloaded Techmeme to htmldata/Techmeme (11_09_2024 05_53_12 PM).html\n",
      "2024-11-09 17:54:02,264 - AInewsbot - INFO - Downloaded The Verge to htmldata/The Verge AI (11_09_2024 05_53_23 PM).html\n",
      "2024-11-09 17:54:02,265 - AInewsbot - INFO - Downloaded WSJ Tech to htmldata/WSJ Technology (11_09_2024 05_53_34 PM).html\n",
      "2024-11-09 17:54:02,265 - AInewsbot - INFO - Downloaded FT Tech to htmldata/FT Technology (11_09_2024 05_52_42 PM).html\n",
      "2024-11-09 17:54:02,265 - AInewsbot - INFO - Downloaded Hacker News 2 to htmldata/Hacker News Page 2 (11_09_2024 05_52_53 PM).html\n",
      "2024-11-09 17:54:02,265 - AInewsbot - INFO - Downloaded NYT Tech to htmldata/New York Times Technology (11_09_2024 05_53_05 PM).html\n",
      "2024-11-09 17:54:02,265 - AInewsbot - INFO - Downloaded The Register to htmldata/The Register (11_09_2024 05_53_15 PM).html\n",
      "2024-11-09 17:54:02,266 - AInewsbot - INFO - Downloaded VentureBeat to htmldata/VentureBeat AI (11_09_2024 05_53_26 PM).html\n",
      "2024-11-09 17:54:02,266 - AInewsbot - INFO - Downloaded WaPo Tech to htmldata/Washington Post Technology (11_09_2024 05_53_39 PM).html\n",
      "2024-11-09 17:54:02,266 - AInewsbot - INFO - Downloaded Ars Technica to htmldata/Ars Technica (11_09_2024 05_52_38 PM).html\n",
      "2024-11-09 17:54:02,267 - AInewsbot - INFO - Downloaded Feedly AI to htmldata/Feedly AI (11_09_2024 05_53_59 PM).html\n",
      "2024-11-09 17:54:02,267 - AInewsbot - INFO - Saved 17 HTML files\n",
      "2024-11-09 17:54:02,274 - AInewsbot - INFO - Parsing html files\n",
      "2024-11-09 17:54:02,276 - AInewsbot - INFO - Ars Technica -> htmldata/Ars Technica (11_09_2024 05_52_38 PM).html\n",
      "2024-11-09 17:54:02,355 - AInewsbot - INFO - parse_file - found 204 raw links\n",
      "2024-11-09 17:54:02,361 - AInewsbot - INFO - parse_file - found 32 filtered links\n",
      "2024-11-09 17:54:02,362 - AInewsbot - INFO - 32 links found\n",
      "2024-11-09 17:54:02,362 - AInewsbot - INFO - Bloomberg Tech -> htmldata/Bloomberg Technology (11_09_2024 05_52_38 PM).html\n",
      "2024-11-09 17:54:02,385 - AInewsbot - INFO - parse_file - found 202 raw links\n",
      "2024-11-09 17:54:02,388 - AInewsbot - INFO - parse_file - found 20 filtered links\n",
      "2024-11-09 17:54:02,388 - AInewsbot - INFO - 20 links found\n",
      "2024-11-09 17:54:02,389 - AInewsbot - INFO - Business Insider -> htmldata/Business Insider Tech (11_09_2024 05_52_39 PM).html\n",
      "2024-11-09 17:54:02,417 - AInewsbot - INFO - parse_file - found 311 raw links\n",
      "2024-11-09 17:54:02,420 - AInewsbot - INFO - parse_file - found 50 filtered links\n",
      "2024-11-09 17:54:02,421 - AInewsbot - INFO - 50 links found\n",
      "2024-11-09 17:54:02,421 - AInewsbot - INFO - FT Tech -> htmldata/FT Technology (11_09_2024 05_52_42 PM).html\n",
      "2024-11-09 17:54:02,449 - AInewsbot - INFO - parse_file - found 486 raw links\n",
      "2024-11-09 17:54:02,455 - AInewsbot - INFO - parse_file - found 116 filtered links\n",
      "2024-11-09 17:54:02,455 - AInewsbot - INFO - 116 links found\n",
      "2024-11-09 17:54:02,455 - AInewsbot - INFO - Feedly AI -> htmldata/Feedly AI (11_09_2024 05_53_59 PM).html\n",
      "2024-11-09 17:54:02,476 - AInewsbot - INFO - parse_file - found 118 raw links\n",
      "2024-11-09 17:54:02,478 - AInewsbot - INFO - parse_file - found 30 filtered links\n",
      "2024-11-09 17:54:02,478 - AInewsbot - INFO - 30 links found\n",
      "2024-11-09 17:54:02,478 - AInewsbot - INFO - Google News -> htmldata/Google News - Technology - Artificial intelligence (11_09_2024 05_52_59 PM).html\n"
     ]
    },
    {
     "name": "stderr",
     "output_type": "stream",
     "text": [
      "2024-11-09 17:54:02,518 - AInewsbot - INFO - parse_file - found 169 raw links\n",
      "2024-11-09 17:54:02,520 - AInewsbot - INFO - parse_file - found 68 filtered links\n",
      "2024-11-09 17:54:02,520 - AInewsbot - INFO - 68 links found\n",
      "2024-11-09 17:54:02,520 - AInewsbot - INFO - Hacker News -> htmldata/Hacker News Page 1 (11_09_2024 05_52_50 PM).html\n",
      "2024-11-09 17:54:02,530 - AInewsbot - INFO - parse_file - found 258 raw links\n",
      "2024-11-09 17:54:02,533 - AInewsbot - INFO - parse_file - found 23 filtered links\n",
      "2024-11-09 17:54:02,533 - AInewsbot - INFO - 23 links found\n",
      "2024-11-09 17:54:02,534 - AInewsbot - INFO - Hacker News 2 -> htmldata/Hacker News Page 2 (11_09_2024 05_52_53 PM).html\n",
      "2024-11-09 17:54:02,544 - AInewsbot - INFO - parse_file - found 262 raw links\n",
      "2024-11-09 17:54:02,547 - AInewsbot - INFO - parse_file - found 23 filtered links\n",
      "2024-11-09 17:54:02,548 - AInewsbot - INFO - 23 links found\n",
      "2024-11-09 17:54:02,548 - AInewsbot - INFO - HackerNoon -> htmldata/HackerNoon (11_09_2024 05_53_00 PM).html\n",
      "2024-11-09 17:54:02,599 - AInewsbot - INFO - parse_file - found 598 raw links\n",
      "2024-11-09 17:54:02,610 - AInewsbot - INFO - parse_file - found 97 filtered links\n",
      "2024-11-09 17:54:02,610 - AInewsbot - INFO - 97 links found\n",
      "2024-11-09 17:54:02,611 - AInewsbot - INFO - NYT Tech -> htmldata/New York Times Technology (11_09_2024 05_53_05 PM).html\n",
      "2024-11-09 17:54:02,621 - AInewsbot - INFO - parse_file - found 77 raw links\n",
      "2024-11-09 17:54:02,623 - AInewsbot - INFO - parse_file - found 19 filtered links\n",
      "2024-11-09 17:54:02,623 - AInewsbot - INFO - 19 links found\n",
      "2024-11-09 17:54:02,623 - AInewsbot - INFO - Reddit -> htmldata/Reddit multiple subreddits (11_09_2024 05_53_32 PM).html\n",
      "2024-11-09 17:54:02,643 - AInewsbot - INFO - parse_file - found 201 raw links\n",
      "2024-11-09 17:54:02,647 - AInewsbot - INFO - parse_file - found 117 filtered links\n",
      "2024-11-09 17:54:02,648 - AInewsbot - INFO - 117 links found\n",
      "2024-11-09 17:54:02,648 - AInewsbot - INFO - Techmeme -> htmldata/Techmeme (11_09_2024 05_53_12 PM).html\n",
      "2024-11-09 17:54:02,664 - AInewsbot - INFO - parse_file - found 358 raw links\n",
      "2024-11-09 17:54:02,669 - AInewsbot - INFO - parse_file - found 150 filtered links\n",
      "2024-11-09 17:54:02,669 - AInewsbot - INFO - 150 links found\n",
      "2024-11-09 17:54:02,669 - AInewsbot - INFO - The Register -> htmldata/The Register (11_09_2024 05_53_15 PM).html\n",
      "2024-11-09 17:54:02,689 - AInewsbot - INFO - parse_file - found 208 raw links\n",
      "2024-11-09 17:54:02,693 - AInewsbot - INFO - parse_file - found 110 filtered links\n",
      "2024-11-09 17:54:02,694 - AInewsbot - INFO - 110 links found\n",
      "2024-11-09 17:54:02,694 - AInewsbot - INFO - The Verge -> htmldata/The Verge AI (11_09_2024 05_53_23 PM).html\n",
      "2024-11-09 17:54:02,721 - AInewsbot - INFO - parse_file - found 307 raw links\n",
      "2024-11-09 17:54:02,724 - AInewsbot - INFO - parse_file - found 34 filtered links\n",
      "2024-11-09 17:54:02,724 - AInewsbot - INFO - 34 links found\n",
      "2024-11-09 17:54:02,724 - AInewsbot - INFO - VentureBeat -> htmldata/VentureBeat AI (11_09_2024 05_53_26 PM).html\n",
      "2024-11-09 17:54:03,122 - AInewsbot - INFO - parse_file - found 333 raw links\n",
      "2024-11-09 17:54:03,127 - AInewsbot - INFO - parse_file - found 47 filtered links\n",
      "2024-11-09 17:54:03,128 - AInewsbot - INFO - 47 links found\n",
      "2024-11-09 17:54:03,128 - AInewsbot - INFO - WSJ Tech -> htmldata/WSJ Technology (11_09_2024 05_53_34 PM).html\n",
      "2024-11-09 17:54:03,171 - AInewsbot - INFO - parse_file - found 635 raw links\n",
      "2024-11-09 17:54:03,180 - AInewsbot - INFO - parse_file - found 54 filtered links\n",
      "2024-11-09 17:54:03,180 - AInewsbot - INFO - 54 links found\n",
      "2024-11-09 17:54:03,181 - AInewsbot - INFO - WaPo Tech -> htmldata/Washington Post Technology (11_09_2024 05_53_39 PM).html\n",
      "2024-11-09 17:54:03,206 - AInewsbot - INFO - parse_file - found 229 raw links\n",
      "2024-11-09 17:54:03,209 - AInewsbot - INFO - parse_file - found 64 filtered links\n",
      "2024-11-09 17:54:03,210 - AInewsbot - INFO - 64 links found\n",
      "2024-11-09 17:54:03,210 - AInewsbot - INFO - Saved 1054 links\n",
      "2024-11-09 17:54:03,241 - AInewsbot - INFO - Fetching top 100 stories matching Artificial Intelligence from Newscatcher\n"
     ]
    },
    {
     "name": "stdout",
     "output_type": "stream",
     "text": [
      "18\n"
     ]
    },
    {
     "data": {
      "text/html": [
       "<div>\n",
       "<style scoped>\n",
       "    .dataframe tbody tr th:only-of-type {\n",
       "        vertical-align: middle;\n",
       "    }\n",
       "\n",
       "    .dataframe tbody tr th {\n",
       "        vertical-align: top;\n",
       "    }\n",
       "\n",
       "    .dataframe thead th {\n",
       "        text-align: right;\n",
       "    }\n",
       "</style>\n",
       "<table border=\"1\" class=\"dataframe\">\n",
       "  <thead>\n",
       "    <tr style=\"text-align: right;\">\n",
       "      <th></th>\n",
       "      <th>id</th>\n",
       "    </tr>\n",
       "    <tr>\n",
       "      <th>src</th>\n",
       "      <th></th>\n",
       "    </tr>\n",
       "  </thead>\n",
       "  <tbody>\n",
       "    <tr>\n",
       "      <th>Ars Technica</th>\n",
       "      <td>26</td>\n",
       "    </tr>\n",
       "    <tr>\n",
       "      <th>Bloomberg Tech</th>\n",
       "      <td>12</td>\n",
       "    </tr>\n",
       "    <tr>\n",
       "      <th>Business Insider</th>\n",
       "      <td>50</td>\n",
       "    </tr>\n",
       "    <tr>\n",
       "      <th>FT Tech</th>\n",
       "      <td>62</td>\n",
       "    </tr>\n",
       "    <tr>\n",
       "      <th>Feedly AI</th>\n",
       "      <td>29</td>\n",
       "    </tr>\n",
       "    <tr>\n",
       "      <th>Google News</th>\n",
       "      <td>68</td>\n",
       "    </tr>\n",
       "    <tr>\n",
       "      <th>Hacker News</th>\n",
       "      <td>21</td>\n",
       "    </tr>\n",
       "    <tr>\n",
       "      <th>Hacker News 2</th>\n",
       "      <td>23</td>\n",
       "    </tr>\n",
       "    <tr>\n",
       "      <th>HackerNoon</th>\n",
       "      <td>95</td>\n",
       "    </tr>\n",
       "    <tr>\n",
       "      <th>NYT Tech</th>\n",
       "      <td>19</td>\n",
       "    </tr>\n",
       "    <tr>\n",
       "      <th>Newscatcher</th>\n",
       "      <td>100</td>\n",
       "    </tr>\n",
       "    <tr>\n",
       "      <th>Reddit</th>\n",
       "      <td>92</td>\n",
       "    </tr>\n",
       "    <tr>\n",
       "      <th>Techmeme</th>\n",
       "      <td>140</td>\n",
       "    </tr>\n",
       "    <tr>\n",
       "      <th>The Register</th>\n",
       "      <td>110</td>\n",
       "    </tr>\n",
       "    <tr>\n",
       "      <th>The Verge</th>\n",
       "      <td>32</td>\n",
       "    </tr>\n",
       "    <tr>\n",
       "      <th>VentureBeat</th>\n",
       "      <td>46</td>\n",
       "    </tr>\n",
       "    <tr>\n",
       "      <th>WSJ Tech</th>\n",
       "      <td>28</td>\n",
       "    </tr>\n",
       "    <tr>\n",
       "      <th>WaPo Tech</th>\n",
       "      <td>41</td>\n",
       "    </tr>\n",
       "  </tbody>\n",
       "</table>\n",
       "</div>"
      ],
      "text/plain": [
       "                   id\n",
       "src                  \n",
       "Ars Technica       26\n",
       "Bloomberg Tech     12\n",
       "Business Insider   50\n",
       "FT Tech            62\n",
       "Feedly AI          29\n",
       "Google News        68\n",
       "Hacker News        21\n",
       "Hacker News 2      23\n",
       "HackerNoon         95\n",
       "NYT Tech           19\n",
       "Newscatcher       100\n",
       "Reddit             92\n",
       "Techmeme          140\n",
       "The Register      110\n",
       "The Verge          32\n",
       "VentureBeat        46\n",
       "WSJ Tech           28\n",
       "WaPo Tech          41"
      ]
     },
     "execution_count": 35,
     "metadata": {},
     "output_type": "execute_result"
    }
   ],
   "source": [
    "# download and extract, human in the loop checks all sources downloaded OK\n",
    "state = lg_agent.initialize(state)\n",
    "state = lg_agent.download_sources(state)\n",
    "state = lg_agent.extract_web_urls(state)\n",
    "state = lg_agent.extract_newscatcher_urls(state)\n",
    "# s/b 18 check all downloaded, if any got hit by a bot block then download manually\n",
    "print(len(pd.DataFrame(state[\"AIdf\"]).groupby(\"src\").count()[['id']]))\n",
    "pd.DataFrame(state[\"AIdf\"]).groupby(\"src\").count()[['id']]\n"
   ]
  },
  {
   "cell_type": "code",
   "execution_count": 36,
   "id": "580116ba",
   "metadata": {},
   "outputs": [
    {
     "name": "stderr",
     "output_type": "stream",
     "text": [
      "2024-11-09 17:54:03,964 - AInewsbot - INFO - Querying SQLite with where_clause: \n",
      "2024-11-09 17:54:04,613 - AInewsbot - INFO - URLs in orig_df: 994\n",
      "2024-11-09 17:54:04,615 - AInewsbot - INFO - Existing URLs in DB: 178008\n",
      "2024-11-09 17:54:04,642 - AInewsbot - INFO - New URLs in df filtered by URL: 190\n",
      "2024-11-09 17:54:04,731 - AInewsbot - INFO - Existing src+title: 9\n",
      "2024-11-09 17:54:04,731 - AInewsbot - INFO - New URLs in df filtered by src+title: 181\n",
      "2024-11-09 17:54:04,742 - AInewsbot - INFO - Found 169 unique new headlines\n",
      "2024-11-09 17:54:04,910 - AInewsbot - INFO - Applying prompt to 4 pages using gpt-4o-mini\n",
      "2024-11-09 17:54:04,911 - AInewsbot - INFO - sent 50 items \n",
      "2024-11-09 17:54:04,912 - AInewsbot - INFO - sent 50 items \n",
      "2024-11-09 17:54:04,912 - AInewsbot - INFO - sent 50 items \n",
      "2024-11-09 17:54:04,913 - AInewsbot - INFO - sent 19 items \n",
      "2024-11-09 17:54:06,640 - AInewsbot - INFO - got dict with 19 items \n",
      "2024-11-09 17:54:08,180 - AInewsbot - INFO - got dict with 50 items \n",
      "2024-11-09 17:54:08,228 - AInewsbot - INFO - got dict with 50 items \n",
      "2024-11-09 17:54:08,586 - AInewsbot - INFO - got dict with 50 items \n",
      "2024-11-09 17:54:08,589 - AInewsbot - INFO - Processed 169 responses.\n",
      "2024-11-09 17:54:08,596 - AInewsbot - INFO - Index(['id', 'src', 'title', 'url', 'isAI'], dtype='object')\n",
      "2024-11-09 17:54:08,600 - AInewsbot - INFO - Inserting 169 URLs into articles.db\n",
      "2024-11-09 17:54:08,674 - AInewsbot - INFO - Found 52 AI headlines\n",
      "2024-11-09 17:54:08,683 - AInewsbot - INFO - No missing site names\n"
     ]
    },
    {
     "data": {
      "text/html": [
       "<div>\n",
       "<style scoped>\n",
       "    .dataframe tbody tr th:only-of-type {\n",
       "        vertical-align: middle;\n",
       "    }\n",
       "\n",
       "    .dataframe tbody tr th {\n",
       "        vertical-align: top;\n",
       "    }\n",
       "\n",
       "    .dataframe thead th {\n",
       "        text-align: right;\n",
       "    }\n",
       "</style>\n",
       "<table border=\"1\" class=\"dataframe\">\n",
       "  <thead>\n",
       "    <tr style=\"text-align: right;\">\n",
       "      <th></th>\n",
       "      <th>id</th>\n",
       "    </tr>\n",
       "    <tr>\n",
       "      <th>src</th>\n",
       "      <th></th>\n",
       "    </tr>\n",
       "  </thead>\n",
       "  <tbody>\n",
       "    <tr>\n",
       "      <th>Business Insider</th>\n",
       "      <td>1</td>\n",
       "    </tr>\n",
       "    <tr>\n",
       "      <th>Feedly AI</th>\n",
       "      <td>20</td>\n",
       "    </tr>\n",
       "    <tr>\n",
       "      <th>Google News</th>\n",
       "      <td>13</td>\n",
       "    </tr>\n",
       "    <tr>\n",
       "      <th>Hacker News</th>\n",
       "      <td>2</td>\n",
       "    </tr>\n",
       "    <tr>\n",
       "      <th>Newscatcher</th>\n",
       "      <td>15</td>\n",
       "    </tr>\n",
       "    <tr>\n",
       "      <th>Techmeme</th>\n",
       "      <td>1</td>\n",
       "    </tr>\n",
       "  </tbody>\n",
       "</table>\n",
       "</div>"
      ],
      "text/plain": [
       "                  id\n",
       "src                 \n",
       "Business Insider   1\n",
       "Feedly AI         20\n",
       "Google News       13\n",
       "Hacker News        2\n",
       "Newscatcher       15\n",
       "Techmeme           1"
      ]
     },
     "execution_count": 36,
     "metadata": {},
     "output_type": "execute_result"
    }
   ],
   "source": [
    "state = lg_agent.filter_urls(state)\n",
    "pd.DataFrame(state[\"AIdf\"]).groupby(\"src\").count()[['id']]\n"
   ]
  },
  {
   "cell_type": "code",
   "execution_count": 37,
   "id": "5978a462",
   "metadata": {},
   "outputs": [
    {
     "data": {
      "text/markdown": [
       "[0. 3 Ways To Use ChatGPT Search To Make Money Online In 2024 - Google News](https://news.google.com/read/CBMioAFBVV95cUxORVpWOWRhT1ZuVk90QndDNDNWazRXVHNaTS00T2w4dlJFUTRjT2RfZF9ScGN1dWhCR28yeFNvcEtzTWdJTzdxZ1NBdVB3TV9WbGkzSVo4bDRaY01wd2dlZnVZQnh6V2F4bW9GU1JjakpHMGd1c0FSaG0xTmFlblp1ZEVtOUFOVF82WUloNjFUcFhwZHNBT0FfZVozLUI5dmxr)"
      ],
      "text/plain": [
       "<IPython.core.display.Markdown object>"
      ]
     },
     "metadata": {},
     "output_type": "display_data"
    },
    {
     "data": {
      "text/markdown": [
       "[1. A Deep Dive into Small Language Models: Efficient Alternatives to Large Language Models for Real-Time Processing and Specialized Tasks - Feedly AI](https://www.marktechpost.com/2024/11/09/a-deep-dive-into-small-language-models-efficient-alternatives-to-large-language-models-for-real-time-processing-and-specialized-tasks/)"
      ],
      "text/plain": [
       "<IPython.core.display.Markdown object>"
      ]
     },
     "metadata": {},
     "output_type": "display_data"
    },
    {
     "data": {
      "text/markdown": [
       "[2. AI-READI consortium launches groundbreaking diabetes data study - Newscatcher](https://www.msn.com/en-gb/health/other/ai-readi-consortium-launches-groundbreaking-diabetes-data-study/ar-AA1tKPLh)"
      ],
      "text/plain": [
       "<IPython.core.display.Markdown object>"
      ]
     },
     "metadata": {},
     "output_type": "display_data"
    },
    {
     "data": {
      "text/markdown": [
       "[3. AI Tool Reveals Long COVID May Affect 23% of People - Feedly AI](https://neurosciencenews.com/ai-long-covid-28003/)"
      ],
      "text/plain": [
       "<IPython.core.display.Markdown object>"
      ]
     },
     "metadata": {},
     "output_type": "display_data"
    },
    {
     "data": {
      "text/markdown": [
       "[4. AI companies get comfortable offering their technology to the military - Google News](https://news.google.com/read/CBMimAFBVV95cUxQTlVTenpaQkJxNUxUYURoLVZNV25KQjhYOHVySlg1OFAxTDVlNGw3cWtuQTdLVzF4cnV3Q2k3RDFxVkJnRDVxU1hPVEhxMzlQZHdjWTc2d3NwYWNZWUQzNEZLeXdMTUdodDNiOVF6YURNSDk5Mzl1VHlsdFBXNmphMFZ1bkdVdzl0ekZ0MWc5Q3VFOHJtQkhPSg)"
      ],
      "text/plain": [
       "<IPython.core.display.Markdown object>"
      ]
     },
     "metadata": {},
     "output_type": "display_data"
    },
    {
     "data": {
      "text/markdown": [
       "[5. AI didn't sway the election, but it deepened the partisan divide - Newscatcher](https://www.washingtonpost.com/technology/2024/11/09/ai-deepfakes-us-election)"
      ],
      "text/plain": [
       "<IPython.core.display.Markdown object>"
      ]
     },
     "metadata": {},
     "output_type": "display_data"
    },
    {
     "data": {
      "text/markdown": [
       "[6. AI didnt sway the election, but it deepened the partisan divide - Google News](https://news.google.com/read/CBMihAFBVV95cUxQVXc5RmhoN2NSZEFtSVVsd01KeDM3SzFyR2RNSnExTGdEaGhzdnZoaG0zTmE2RlNtMGRsb1RldlZMbzk3cHJleklQZjBoUElfR2FWRVFCZ2xmYzdUa3BxcG1JZTQteVAxYldqSGFUR3dfdVhfYmpCYlBoNEdDYllEZUF6OHA)"
      ],
      "text/plain": [
       "<IPython.core.display.Markdown object>"
      ]
     },
     "metadata": {},
     "output_type": "display_data"
    },
    {
     "data": {
      "text/markdown": [
       "[7. AI groups rush to redesign model testing and create new benchmarks - Google News](https://news.google.com/read/CBMicEFVX3lxTE1oOW5JdFI0bWpJYkVMVS1fR21jLU83YXlQUVpGQzFEakJsYUZMVV80RFdyYXp4ZWZhLVZaSTJobVRNRVlhNTM5T2VtYzhwSkVLck9YSlczdGhXcnJTeFJzTTFzMDlyLTI3OVpvMW9WUjE)"
      ],
      "text/plain": [
       "<IPython.core.display.Markdown object>"
      ]
     },
     "metadata": {},
     "output_type": "display_data"
    },
    {
     "data": {
      "text/markdown": [
       "[8. American AI company Vantiq launches project to develop smart cities in Ukraine - Feedly AI](https://kyivindependent.com/american-ai-company-vantiq-launches-project-to-develop-smart-cities-in-ukraine/)"
      ],
      "text/plain": [
       "<IPython.core.display.Markdown object>"
      ]
     },
     "metadata": {},
     "output_type": "display_data"
    },
    {
     "data": {
      "text/markdown": [
       "[9. At last, it seems the law recognizes that AI synthesizes, not copies - Feedly AI](https://medium.com/enrique-dans/at-last-it-seems-the-law-recognizes-that-ai-synthesizes-not-copies-8489ba5616df)"
      ],
      "text/plain": [
       "<IPython.core.display.Markdown object>"
      ]
     },
     "metadata": {},
     "output_type": "display_data"
    },
    {
     "data": {
      "text/markdown": [
       "[10. Can AI And Your Heart Rate Data Help You To Flourish? - Feedly AI](https://www.forbes.com/sites/johnwerner/2024/11/09/can-ai-and-your-heart-rate-data-help-you-to-flourish/)"
      ],
      "text/plain": [
       "<IPython.core.display.Markdown object>"
      ]
     },
     "metadata": {},
     "output_type": "display_data"
    },
    {
     "data": {
      "text/markdown": [
       "[11. Can AI stop ships from killing thousands of whales each year? - Newscatcher](https://www.msn.com/en-us/travel/news/can-ai-stop-ships-from-killing-thousands-of-whales-each-year/ar-AA1tNAzZ)"
      ],
      "text/plain": [
       "<IPython.core.display.Markdown object>"
      ]
     },
     "metadata": {},
     "output_type": "display_data"
    },
    {
     "data": {
      "text/markdown": [
       "[12. ChatGPT denied 250,000 requests to generate deepfake images of candidates in the month before the election - Business Insider](https://www.businessinsider.com/chatgpt-openai-denied-requests-generate-images-candidates-election-trump-harris-2024-11)"
      ],
      "text/plain": [
       "<IPython.core.display.Markdown object>"
      ]
     },
     "metadata": {},
     "output_type": "display_data"
    },
    {
     "data": {
      "text/markdown": [
       "[13. ChatGPT rejected more than 250,000 image generations of presidential candidates prior to Election Day - Feedly AI](https://www.nbcnews.com/tech/chatgpt-rejected-image-generations-presidential-candidates-rcna179469)"
      ],
      "text/plain": [
       "<IPython.core.display.Markdown object>"
      ]
     },
     "metadata": {},
     "output_type": "display_data"
    },
    {
     "data": {
      "text/markdown": [
       "[14. Chegg Is On Its Last Legs After ChatGPT Sent Its Stock Down 99% - Feedly AI](https://gizmodo.com/chegg-is-on-its-last-legs-after-chatgpt-sent-its-stock-down-99-2000522585)"
      ],
      "text/plain": [
       "<IPython.core.display.Markdown object>"
      ]
     },
     "metadata": {},
     "output_type": "display_data"
    },
    {
     "data": {
      "text/markdown": [
       "[15. Claude AI to process secret government data through new Palantir deal - Google News](https://news.google.com/read/CBMirAFBVV95cUxNWmZGV284amdOOVJWUl9nWFFYZTZCZzA3Z3c3eGJGUW04aUh2QndhRWpPcmdrY3d3MlVWLWV0WDNFVDdQRlo1U1dFOUp3M0hvZXVoN3dpVWRVcDVTQWY1Ym1rMHdreE9ZdW1ZOFZWc3BwOVlQZFEtZFplTm41SHlKazNKdlMzNFc1WXMyTTltOEVqOHMxZlRwUlFtdXE1MDZRTmxTb0E4WlFNZV9F)"
      ],
      "text/plain": [
       "<IPython.core.display.Markdown object>"
      ]
     },
     "metadata": {},
     "output_type": "display_data"
    },
    {
     "data": {
      "text/markdown": [
       "[16. Cloud Computing Market to Grow by USD 404.7 Billion from 2024-2028, as Cost-Cutting Drives Adoption with AI Driving Market Transformation - Newscatcher](https://finance.yahoo.com/news/cloud-computing-market-grow-usd-222000832.html)"
      ],
      "text/plain": [
       "<IPython.core.display.Markdown object>"
      ]
     },
     "metadata": {},
     "output_type": "display_data"
    },
    {
     "data": {
      "text/markdown": [
       "[17. Federal court sides with OpenAI in AI copyright lawsuit - Newscatcher](https://siliconangle.com/2024/11/08/federal-court-sides-openai-ai-copyright-lawsuit)"
      ],
      "text/plain": [
       "<IPython.core.display.Markdown object>"
      ]
     },
     "metadata": {},
     "output_type": "display_data"
    },
    {
     "data": {
      "text/markdown": [
       "[18. FrontierMath: A benchmark for evaluating advanced mathematical reasoning in AI - Hacker News](https://epochai.org/frontiermath/the-benchmark)"
      ],
      "text/plain": [
       "<IPython.core.display.Markdown object>"
      ]
     },
     "metadata": {},
     "output_type": "display_data"
    },
    {
     "data": {
      "text/markdown": [
       "[19. Gemini AI Now Accessible Through the OpenAI Library for Streamlined Use - Feedly AI](https://www.marktechpost.com/2024/11/09/gemini-ai-now-accessible-through-the-openai-library-for-streamlined-use/)"
      ],
      "text/plain": [
       "<IPython.core.display.Markdown object>"
      ]
     },
     "metadata": {},
     "output_type": "display_data"
    },
    {
     "data": {
      "text/markdown": [
       "[20. Goodbye Google? How to use ChatGPTs new web search. - Google News](https://news.google.com/read/CBMiYkFVX3lxTE04bzJkYXhEU3RfRmhvYzZHUDEwc0hCd0djUlpRV19OU1c1cVB0LXRFRmhIUnJWby1pUkYxdGV6RGxWc3o0UlRQXzJOMl9zc29OOGFMNU1rV0xlVlBMOGhkVlRB)"
      ],
      "text/plain": [
       "<IPython.core.display.Markdown object>"
      ]
     },
     "metadata": {},
     "output_type": "display_data"
    },
    {
     "data": {
      "text/markdown": [
       "[21. Google says Enhanced protection feature in Chrome now uses AI - Feedly AI](https://www.bleepingcomputer.com/news/google/google-says-enhanced-protection-feature-in-chrome-now-uses-ai/)"
      ],
      "text/plain": [
       "<IPython.core.display.Markdown object>"
      ]
     },
     "metadata": {},
     "output_type": "display_data"
    },
    {
     "data": {
      "text/markdown": [
       "[22. Hands on with AI features in Windows 11 Paint and Notepad - Feedly AI](https://www.bleepingcomputer.com/news/microsoft/hands-on-with-ai-features-in-windows-11-paint-and-notepad/)"
      ],
      "text/plain": [
       "<IPython.core.display.Markdown object>"
      ]
     },
     "metadata": {},
     "output_type": "display_data"
    },
    {
     "data": {
      "text/markdown": [
       "[23. Headshot Photographers: AI Is About To Eat Your Lunch - Feedly AI](https://fstoppers.com/artificial-intelligence/headshot-photographers-ai-about-eat-your-lunch-684878)"
      ],
      "text/plain": [
       "<IPython.core.display.Markdown object>"
      ]
     },
     "metadata": {},
     "output_type": "display_data"
    },
    {
     "data": {
      "text/markdown": [
       "[24. Here's your first look at Google Meet's AI backgrounds on Android - Feedly AI](https://www.androidpolice.com/google-meet-ai-backgrounds-android-demo/)"
      ],
      "text/plain": [
       "<IPython.core.display.Markdown object>"
      ]
     },
     "metadata": {},
     "output_type": "display_data"
    },
    {
     "data": {
      "text/markdown": [
       "[25. Here are 3 critical LLM compression strategies to supercharge AI performance - Google News](https://news.google.com/read/CBMipwFBVV95cUxPZmZUQ0V0aUllWHpIY3RndEM4cWhGOGdKSmo4eVBkTTE3aDRETmlfeTBwenhId1RuNDVvY2F1VDVqWnBmcWlvLTNzcFRSZlN6ZW5PZVVVOGZUdl9qNFJiM2J6djRUMDJjRTJWUG5vQWNzUzYxNlVja0NwUWFvNW5ESnlwNU5MaVlQcDBHT214R2NMTE5wSWtzeFFmRkE2OWdiVEp2ejVnNA)"
      ],
      "text/plain": [
       "<IPython.core.display.Markdown object>"
      ]
     },
     "metadata": {},
     "output_type": "display_data"
    },
    {
     "data": {
      "text/markdown": [
       "[26. How Agentic AI will revolutionize business operations  are you ready? - Feedly AI](https://www.techradar.com/pro/how-agentic-ai-will-revolutionize-business-operations-are-you-ready)"
      ],
      "text/plain": [
       "<IPython.core.display.Markdown object>"
      ]
     },
     "metadata": {},
     "output_type": "display_data"
    },
    {
     "data": {
      "text/markdown": [
       "[27. I Compared ChatGPT Search and Google, and Google Should Be Worried - Google News](https://news.google.com/read/CBMikwFBVV95cUxNWWxzQUgweHY3SWVYM1hOLUdrQXJuMmJVbFJHWmtDenJrRWVNRUtKRDZvdWh4U3JHNjRWTGJBRDBVZzBULUI2UzNVdGpXTGJBVUR1c2VnYUFnMU9xMGZIVU1lNmdNYXhzZGh3Z3JvQUxId2tyTTZYUnd1TW9UU2xxRkRsUl9QRV8xNVc5TkVaZWN4dDA)"
      ],
      "text/plain": [
       "<IPython.core.display.Markdown object>"
      ]
     },
     "metadata": {},
     "output_type": "display_data"
    },
    {
     "data": {
      "text/markdown": [
       "[28. I found these 5 tips helped me get the most out of ChatGPT Search - Google News](https://news.google.com/read/CBMiiAFBVV95cUxPM01Qa2ZGUHllTjdDNWkxRVdvYTFTYm5jNGdhRFhCU1B6YW9Kc1lyeHdBZ0JUQkdOVG5JbkdzTmJQNzRJS0hPTlM5c0JCaVZFRE51bGtvTnZlV01WVG9hZTU3RkFzTjJ0VWdXUEFmSXZIalhLVHpnT2lMbGRDNUZNc2o3eXAyR1Fz)"
      ],
      "text/plain": [
       "<IPython.core.display.Markdown object>"
      ]
     },
     "metadata": {},
     "output_type": "display_data"
    },
    {
     "data": {
      "text/markdown": [
       "[29. ML analysis tracks the evolution of 16th-century European astronomical thought - Hacker News](https://phys.org/news/2024-10-machine-analysis-tracks-evolution-16th.html)"
      ],
      "text/plain": [
       "<IPython.core.display.Markdown object>"
      ]
     },
     "metadata": {},
     "output_type": "display_data"
    },
    {
     "data": {
      "text/markdown": [
       "[30. Microsoft added AI to software it has barely touched since 1985. The results are astonishing - Feedly AI](https://edition.cnn.com/2024/11/08/business/microsoft-paint-artificial-intelligence/index.html)"
      ],
      "text/plain": [
       "<IPython.core.display.Markdown object>"
      ]
     },
     "metadata": {},
     "output_type": "display_data"
    },
    {
     "data": {
      "text/markdown": [
       "[31. New fanless cooling technology enhances energy efficiency for AI workloads by achieving a 90% reduction in cooling power consumption - Feedly AI](https://www.techradar.com/pro/new-fanless-cooling-technology-enhances-energy-efficiency-for-ai-workloads-by-achieving-a-90-percent-reduction-in-cooling-power-consumption)"
      ],
      "text/plain": [
       "<IPython.core.display.Markdown object>"
      ]
     },
     "metadata": {},
     "output_type": "display_data"
    },
    {
     "data": {
      "text/markdown": [
       "[32. Ofcom warns tech firms after chatbots imitate Brianna Ghey and Molly Russell - Newscatcher](https://ca.finance.yahoo.com/news/ofcom-warns-tech-firms-chatbots-060040536.html)"
      ],
      "text/plain": [
       "<IPython.core.display.Markdown object>"
      ]
     },
     "metadata": {},
     "output_type": "display_data"
    },
    {
     "data": {
      "text/markdown": [
       "[33. Om Malik  With AI, the Future of Augmented Reality Is in Your Ears - Feedly AI](https://crazystupidtech.com/archive/with-ai-the-future-of-augmented-reality-is-in/)"
      ],
      "text/plain": [
       "<IPython.core.display.Markdown object>"
      ]
     },
     "metadata": {},
     "output_type": "display_data"
    },
    {
     "data": {
      "text/markdown": [
       "[34. OpenAI's CEO Sam Altman Predicts AGI Could Appear Within Five Years, With Far Less Impact On Society Than Most Expect - Newscatcher](https://wccftech.com/openai-ceo-sam-altman-predicts-agi-could-appear-within-five-years)"
      ],
      "text/plain": [
       "<IPython.core.display.Markdown object>"
      ]
     },
     "metadata": {},
     "output_type": "display_data"
    },
    {
     "data": {
      "text/markdown": [
       "[35. OpenAI Has, For Now, Escaped Copyright Lawsuit Filed Against It Regarding Its Use Of News Articles Without Consent To Train ChatGPT - Newscatcher](https://wccftech.com/openai-escaped-copyright-laws)"
      ],
      "text/plain": [
       "<IPython.core.display.Markdown object>"
      ]
     },
     "metadata": {},
     "output_type": "display_data"
    },
    {
     "data": {
      "text/markdown": [
       "[36. OpenAI backs robots, Amazon and Palantir's defense deal, Saudi Arabia's $100 billion bet: This week's AI launches - Newscatcher](https://www.yahoo.com/tech/openai-backs-robots-amazon-palantirs-100000753.html)"
      ],
      "text/plain": [
       "<IPython.core.display.Markdown object>"
      ]
     },
     "metadata": {},
     "output_type": "display_data"
    },
    {
     "data": {
      "text/markdown": [
       "[37. Running Large Language Models Privately | by Robert Corwin | Oct, 2024 - Google News](https://news.google.com/read/CBMixgFBVV95cUxPeGE2VFlFWkltUXIwV3pPM2pxTHM1STQyME1EWjVuRlp2aDR4djU3QVloVU5zSDZmd0lQSUdpOHdIeXZMQjM5UHp3Z3NwMjgyUkhheGNLbzFQb3F4LXFhUUNLeHJyaThVSEFwaDZJcnRRVTNNakhXQ2FrdkVVc0ZxS0FEZmZMMURqUjNxQW9jY3kyem1fRDJfMVdKbThBRTBvUEpoWVp0Um5CX25qU0RGNU56UE9Va21nbHJfYWZJeVA2M0tOMVE)"
      ],
      "text/plain": [
       "<IPython.core.display.Markdown object>"
      ]
     },
     "metadata": {},
     "output_type": "display_data"
    },
    {
     "data": {
      "text/markdown": [
       "[38. Samsung plans record-breaking 400-layer NAND chip that could be key to breaking 200TB barrier for ultra large capacity AI hyperscaler SSDs - Feedly AI](https://www.techradar.com/pro/samsung-plans-record-breaking-400-layer-nand-chip-that-could-be-key-to-breaking-200tb-barrier-for-ultra-large-capacity-ai-hyperscaler-ssds)"
      ],
      "text/plain": [
       "<IPython.core.display.Markdown object>"
      ]
     },
     "metadata": {},
     "output_type": "display_data"
    },
    {
     "data": {
      "text/markdown": [
       "[39. Scientists Are Testing AI That Could Detect Pain in Goats Just By Their Facial Expressions - Feedly AI](https://gizmodo.com/scientists-are-testing-ai-that-could-detect-pain-in-goats-just-by-their-facial-expressions-2000522501)"
      ],
      "text/plain": [
       "<IPython.core.display.Markdown object>"
      ]
     },
     "metadata": {},
     "output_type": "display_data"
    },
    {
     "data": {
      "text/markdown": [
       "[40. Small Language Models Gaining Popularity While LLMs Still Go Strong - Google News](https://news.google.com/read/CBMihAJBVV95cUxNYlp0RnQ2U25qTmxpR2JwOHBLWEd1dFc2cWFISGk3Zm5xMVdybm9MNzBFVzFQajZZQVBuRDI3Nzk5NDdpc3llc2U5bmY5Q2RtYmM1ZkpIM0hNemJDMFpGTm9OWl9VOFF1WjFELUlKV2prVnFZTFE0ZkF5WUItTGduZHFoNi1VSXVXSzNyVkkyeUtfOVVWQ1FwTThqZEg2cTU0TFVCYzlTY0c3ZXdJbWxJTWQ3NU1BamVUSEJsLWJWa1JPSTRQVDB1ekc3QmxTLWdQaWhzZG1Nbmd4STRwYUx4YkhnY3RCeW50eExKX3JHVVNJY3RPY3l6a1kteC1LZGl5Mm4xTg)"
      ],
      "text/plain": [
       "<IPython.core.display.Markdown object>"
      ]
     },
     "metadata": {},
     "output_type": "display_data"
    },
    {
     "data": {
      "text/markdown": [
       "[41. Sources: the jump in quality from GPT-4 to Orion is far smaller than the jump from GPT-3 to GPT-4; Orion may not outperform predecessors in tasks like coding (The Information) - Feedly AI](https://www.theinformation.com/articles/openai-shifts-strategy-as-rate-of-gpt-ai-improvements-slows)"
      ],
      "text/plain": [
       "<IPython.core.display.Markdown object>"
      ]
     },
     "metadata": {},
     "output_type": "display_data"
    },
    {
     "data": {
      "text/markdown": [
       "[42. TSMC may stop producing AI chips for Chinese companies - Newscatcher](https://www.androidheadlines.com/2024/11/tsmc-may-stop-producing-ai-chips-for-chinese-companies.html)"
      ],
      "text/plain": [
       "<IPython.core.display.Markdown object>"
      ]
     },
     "metadata": {},
     "output_type": "display_data"
    },
    {
     "data": {
      "text/markdown": [
       "[43. TSMC to Suspend AI Chips Production for China From November 11: Report - Newscatcher](https://www.gadgets360.com/ai/news/tsmc-suspend-advanced-ai-chip-production-china-report-6981141)"
      ],
      "text/plain": [
       "<IPython.core.display.Markdown object>"
      ]
     },
     "metadata": {},
     "output_type": "display_data"
    },
    {
     "data": {
      "text/markdown": [
       "[44. The Beatles final song, restored using AI, is up for a Grammy - Google News](https://news.google.com/read/CBMimgFBVV95cUxOX2ZnTHBsNHgxbmtMc1EtNDY3ZFRhN2taWktCRmkwYzdCcFFtbjl3Q1htVS1vUkJBS3piaVgxRmhhMUg1MUhjTW0ta2pNb19TMWx5cV9vYk81b0Q2MEtwRkVld25pTWlTUnJHbTdmQUFRNUFCM29JeWd5LVVyQjJjRXA2VGRqaldJRHZoMjZWVklEVFE5S0owdHdn)"
      ],
      "text/plain": [
       "<IPython.core.display.Markdown object>"
      ]
     },
     "metadata": {},
     "output_type": "display_data"
    },
    {
     "data": {
      "text/markdown": [
       "[45. The Taiwan Semiconductor Industry Association says Taiwan's semiconductor production is on track to increase 22% YoY to a record $165B in 2024 on AI demand - Techmeme](https://t.co/LHrQIaHRfq)"
      ],
      "text/plain": [
       "<IPython.core.display.Markdown object>"
      ]
     },
     "metadata": {},
     "output_type": "display_data"
    },
    {
     "data": {
      "text/markdown": [
       "[46. UnifyApps reels in $20M for its AI-powered application platform - Newscatcher](https://siliconangle.com/2024/11/08/unifyapps-reels-20m-ai-powered-application-platform)"
      ],
      "text/plain": [
       "<IPython.core.display.Markdown object>"
      ]
     },
     "metadata": {},
     "output_type": "display_data"
    },
    {
     "data": {
      "text/markdown": [
       "[47. Vancouver high school students create intelligent garbage cans to help sort waste - Newscatcher](https://ca.news.yahoo.com/vancouver-high-school-students-create-130000179.html)"
      ],
      "text/plain": [
       "<IPython.core.display.Markdown object>"
      ]
     },
     "metadata": {},
     "output_type": "display_data"
    },
    {
     "data": {
      "text/markdown": [
       "[48. Warren Buffett's AI Bets: 24.1% of Berkshire Hathaway's $287 Billion Stock Portfolio Is Invested in These 2 Artificial Intelligence Stocks - Newscatcher](https://finance.yahoo.com/news/warren-buffetts-ai-bets-24-111800171.html)"
      ],
      "text/plain": [
       "<IPython.core.display.Markdown object>"
      ]
     },
     "metadata": {},
     "output_type": "display_data"
    },
    {
     "data": {
      "text/markdown": [
       "[49. When machine learning tells the wrong story - Feedly AI](https://jackcook.com/2024/11/09/bigger-fish.html)"
      ],
      "text/plain": [
       "<IPython.core.display.Markdown object>"
      ]
     },
     "metadata": {},
     "output_type": "display_data"
    },
    {
     "data": {
      "text/markdown": [
       "[50. Why is AI unable to predict disasters like Spains flash flooding in time? - Google News](https://news.google.com/read/CBMixAFBVV95cUxNbm5xQkxHTTM3Q2YwN3ctelpOM0I5Z0tWWE1rV1JTM3p1a29zNl9URkFkZTRDUG1ocjZzMzhqUzBLaTlUQUZQMUViYnA1dEc0QktFNkVQREROSkJtX1BpNWhvbjhFOFBnbWI2MmZWMG1Hbk5zWFF1NnlycnBHWUNXUnJTeGt0eThibm4tN0tELTc5U1RYelZaRHp1czdHR1FFNUhhcXE0OXdxY1o3QVRMZ1J6aThhRF9TUlhVRDZtT1UxX2s2)"
      ],
      "text/plain": [
       "<IPython.core.display.Markdown object>"
      ]
     },
     "metadata": {},
     "output_type": "display_data"
    },
    {
     "data": {
      "text/markdown": [
       "[51. eBay Inc. (EBAY)'s Secret to Dominating Internet Retail: AI Innovations and Revenue Growth - Newscatcher](https://finance.yahoo.com/news/ebay-inc-ebay-secret-dominating-195907555.html)"
      ],
      "text/plain": [
       "<IPython.core.display.Markdown object>"
      ]
     },
     "metadata": {},
     "output_type": "display_data"
    }
   ],
   "source": [
    "for row in pd.DataFrame(state[\"AIdf\"]).itertuples():\n",
    "    display(Markdown(f\"[{row.id}. {row.title} - {row.src}]({row.url})\"))\n"
   ]
  },
  {
   "cell_type": "code",
   "execution_count": 38,
   "id": "a5478962",
   "metadata": {},
   "outputs": [
    {
     "name": "stderr",
     "output_type": "stream",
     "text": [
      "2024-11-09 17:54:08,714 - AInewsbot - INFO - start free-form topic extraction\n",
      "2024-11-09 17:54:08,715 - AInewsbot - INFO - Applying prompt to 2 pages using gpt-4o-mini\n",
      "2024-11-09 17:54:08,715 - AInewsbot - INFO - sent 50 items \n",
      "2024-11-09 17:54:08,715 - AInewsbot - INFO - sent 2 items \n",
      "2024-11-09 17:54:10,110 - AInewsbot - INFO - got dict with 2 items \n",
      "2024-11-09 17:54:16,066 - AInewsbot - INFO - got dict with 50 items \n",
      "2024-11-09 17:54:16,069 - AInewsbot - INFO - Processed 52 responses.\n",
      "2024-11-09 17:54:16,072 - AInewsbot - INFO - 52 free-form topics extracted\n",
      "2024-11-09 17:54:16,074 - AInewsbot - INFO - ['chatgpt', 'search', '2024', 'small language models', 'large language models', 'research', 'health', 'election', 'partisan divide', 'politics', 'intellectual property', 'image generation', 'business', 'palantir', 'openai', 'copyright lawsuit', 'legal', 'google', 'performance', 'innovation', 'machine learning', 'tsmc', 'ai chips', 'china']\n",
      "2024-11-09 17:54:16,076 - AInewsbot - INFO - Start canonical topic classification\n",
      "2024-11-09 17:54:16,083 - AInewsbot - INFO - AI doom, topic 1 of 100\n",
      "2024-11-09 17:54:16,085 - AInewsbot - INFO - Applying prompt to 2 pages using gpt-4o-mini\n",
      "2024-11-09 17:54:16,087 - AInewsbot - INFO - sent 50 items \n",
      "2024-11-09 17:54:16,088 - AInewsbot - INFO - sent 2 items \n",
      "2024-11-09 17:54:17,033 - AInewsbot - INFO - got dict with 2 items \n",
      "2024-11-09 17:54:19,240 - AInewsbot - INFO - got dict with 50 items \n",
      "2024-11-09 17:54:19,244 - AInewsbot - INFO - Processed 52 responses.\n",
      "2024-11-09 17:54:19,252 - AInewsbot - INFO - Agriculture, topic 2 of 100\n",
      "2024-11-09 17:54:19,254 - AInewsbot - INFO - Applying prompt to 2 pages using gpt-4o-mini\n",
      "2024-11-09 17:54:19,255 - AInewsbot - INFO - sent 50 items \n",
      "2024-11-09 17:54:19,256 - AInewsbot - INFO - sent 2 items \n",
      "2024-11-09 17:54:20,569 - AInewsbot - INFO - got dict with 2 items \n",
      "2024-11-09 17:54:23,230 - AInewsbot - INFO - got dict with 50 items \n",
      "2024-11-09 17:54:23,233 - AInewsbot - INFO - Processed 52 responses.\n",
      "2024-11-09 17:54:23,234 - AInewsbot - INFO - Art & Design, topic 3 of 100\n",
      "2024-11-09 17:54:23,235 - AInewsbot - INFO - Applying prompt to 2 pages using gpt-4o-mini\n",
      "2024-11-09 17:54:23,236 - AInewsbot - INFO - sent 50 items \n",
      "2024-11-09 17:54:23,238 - AInewsbot - INFO - sent 2 items \n",
      "2024-11-09 17:54:23,891 - AInewsbot - INFO - got dict with 2 items \n",
      "2024-11-09 17:54:26,607 - AInewsbot - INFO - got dict with 50 items \n",
      "2024-11-09 17:54:26,609 - AInewsbot - INFO - Processed 52 responses.\n",
      "2024-11-09 17:54:26,610 - AInewsbot - INFO - Artificial General Intelligence, topic 4 of 100\n",
      "2024-11-09 17:54:26,611 - AInewsbot - INFO - Applying prompt to 2 pages using gpt-4o-mini\n",
      "2024-11-09 17:54:26,613 - AInewsbot - INFO - sent 50 items \n",
      "2024-11-09 17:54:26,614 - AInewsbot - INFO - sent 2 items \n",
      "2024-11-09 17:54:27,631 - AInewsbot - INFO - got dict with 2 items \n",
      "2024-11-09 17:54:29,680 - AInewsbot - INFO - got dict with 50 items \n",
      "2024-11-09 17:54:29,684 - AInewsbot - INFO - Processed 52 responses.\n",
      "2024-11-09 17:54:29,685 - AInewsbot - INFO - Authors & Writing, topic 5 of 100\n",
      "2024-11-09 17:54:29,687 - AInewsbot - INFO - Applying prompt to 2 pages using gpt-4o-mini\n",
      "2024-11-09 17:54:29,690 - AInewsbot - INFO - sent 50 items \n",
      "2024-11-09 17:54:29,691 - AInewsbot - INFO - sent 2 items \n",
      "2024-11-09 17:54:30,397 - AInewsbot - INFO - got dict with 2 items \n",
      "2024-11-09 17:54:33,048 - AInewsbot - INFO - got dict with 50 items \n",
      "2024-11-09 17:54:33,051 - AInewsbot - INFO - Processed 52 responses.\n",
      "2024-11-09 17:54:33,052 - AInewsbot - INFO - Autonomous vehicles, topic 6 of 100\n",
      "2024-11-09 17:54:33,053 - AInewsbot - INFO - Applying prompt to 2 pages using gpt-4o-mini\n",
      "2024-11-09 17:54:33,054 - AInewsbot - INFO - sent 50 items \n",
      "2024-11-09 17:54:33,056 - AInewsbot - INFO - sent 2 items \n",
      "2024-11-09 17:54:33,775 - AInewsbot - INFO - got dict with 2 items \n",
      "2024-11-09 17:54:36,335 - AInewsbot - INFO - got dict with 50 items \n",
      "2024-11-09 17:54:36,338 - AInewsbot - INFO - Processed 52 responses.\n",
      "2024-11-09 17:54:36,339 - AInewsbot - INFO - Bias and Fairness, topic 7 of 100\n",
      "2024-11-09 17:54:36,340 - AInewsbot - INFO - Applying prompt to 2 pages using gpt-4o-mini\n",
      "2024-11-09 17:54:36,342 - AInewsbot - INFO - sent 50 items \n",
      "2024-11-09 17:54:36,344 - AInewsbot - INFO - sent 2 items \n",
      "2024-11-09 17:54:37,008 - AInewsbot - INFO - got dict with 2 items \n",
      "2024-11-09 17:54:39,800 - AInewsbot - INFO - got dict with 50 items \n",
      "2024-11-09 17:54:39,803 - AInewsbot - INFO - Processed 52 responses.\n",
      "2024-11-09 17:54:39,805 - AInewsbot - INFO - Books & Publishing, topic 8 of 100\n",
      "2024-11-09 17:54:39,806 - AInewsbot - INFO - Applying prompt to 2 pages using gpt-4o-mini\n",
      "2024-11-09 17:54:39,808 - AInewsbot - INFO - sent 50 items \n",
      "2024-11-09 17:54:39,809 - AInewsbot - INFO - sent 2 items \n",
      "2024-11-09 17:54:40,533 - AInewsbot - INFO - got dict with 2 items \n",
      "2024-11-09 17:54:43,148 - AInewsbot - INFO - got dict with 50 items \n",
      "2024-11-09 17:54:43,150 - AInewsbot - INFO - Processed 52 responses.\n",
      "2024-11-09 17:54:43,151 - AInewsbot - INFO - Brain-Computer Interfaces, topic 9 of 100\n",
      "2024-11-09 17:54:43,152 - AInewsbot - INFO - Applying prompt to 2 pages using gpt-4o-mini\n",
      "2024-11-09 17:54:43,154 - AInewsbot - INFO - sent 50 items \n",
      "2024-11-09 17:54:43,156 - AInewsbot - INFO - sent 2 items \n",
      "2024-11-09 17:54:43,825 - AInewsbot - INFO - got dict with 2 items \n",
      "2024-11-09 17:54:46,270 - AInewsbot - INFO - got dict with 50 items \n",
      "2024-11-09 17:54:46,273 - AInewsbot - INFO - Processed 52 responses.\n",
      "2024-11-09 17:54:46,274 - AInewsbot - INFO - Bubble, topic 10 of 100\n",
      "2024-11-09 17:54:46,275 - AInewsbot - INFO - Applying prompt to 2 pages using gpt-4o-mini\n",
      "2024-11-09 17:54:46,277 - AInewsbot - INFO - sent 50 items \n",
      "2024-11-09 17:54:46,283 - AInewsbot - INFO - sent 2 items \n",
      "2024-11-09 17:54:46,764 - AInewsbot - INFO - got dict with 2 items \n",
      "2024-11-09 17:54:49,307 - AInewsbot - INFO - got dict with 50 items \n",
      "2024-11-09 17:54:49,310 - AInewsbot - INFO - Processed 52 responses.\n",
      "2024-11-09 17:54:49,311 - AInewsbot - INFO - Chatbots, topic 11 of 100\n",
      "2024-11-09 17:54:49,315 - AInewsbot - INFO - Applying prompt to 2 pages using gpt-4o-mini\n",
      "2024-11-09 17:54:49,317 - AInewsbot - INFO - sent 50 items \n",
      "2024-11-09 17:54:49,318 - AInewsbot - INFO - sent 2 items \n",
      "2024-11-09 17:54:49,852 - AInewsbot - INFO - got dict with 2 items \n",
      "2024-11-09 17:54:52,478 - AInewsbot - INFO - got dict with 50 items \n",
      "2024-11-09 17:54:52,482 - AInewsbot - INFO - Processed 52 responses.\n",
      "2024-11-09 17:54:52,483 - AInewsbot - INFO - China, topic 12 of 100\n",
      "2024-11-09 17:54:52,484 - AInewsbot - INFO - Applying prompt to 2 pages using gpt-4o-mini\n",
      "2024-11-09 17:54:52,486 - AInewsbot - INFO - sent 50 items \n",
      "2024-11-09 17:54:52,488 - AInewsbot - INFO - sent 2 items \n",
      "2024-11-09 17:54:53,129 - AInewsbot - INFO - got dict with 2 items \n",
      "2024-11-09 17:54:56,328 - AInewsbot - INFO - got dict with 50 items \n",
      "2024-11-09 17:54:56,330 - AInewsbot - INFO - Processed 52 responses.\n",
      "2024-11-09 17:54:56,332 - AInewsbot - INFO - Climate, topic 13 of 100\n",
      "2024-11-09 17:54:56,333 - AInewsbot - INFO - Applying prompt to 2 pages using gpt-4o-mini\n",
      "2024-11-09 17:54:56,335 - AInewsbot - INFO - sent 50 items \n",
      "2024-11-09 17:54:56,337 - AInewsbot - INFO - sent 2 items \n",
      "2024-11-09 17:54:56,993 - AInewsbot - INFO - got dict with 2 items \n",
      "2024-11-09 17:54:59,464 - AInewsbot - INFO - got dict with 50 items \n",
      "2024-11-09 17:54:59,467 - AInewsbot - INFO - Processed 52 responses.\n",
      "2024-11-09 17:54:59,468 - AInewsbot - INFO - Code assistants, topic 14 of 100\n",
      "2024-11-09 17:54:59,469 - AInewsbot - INFO - Applying prompt to 2 pages using gpt-4o-mini\n",
      "2024-11-09 17:54:59,471 - AInewsbot - INFO - sent 50 items \n",
      "2024-11-09 17:54:59,473 - AInewsbot - INFO - sent 2 items \n",
      "2024-11-09 17:55:00,811 - AInewsbot - INFO - got dict with 2 items \n",
      "2024-11-09 17:55:03,178 - AInewsbot - INFO - got dict with 50 items \n",
      "2024-11-09 17:55:03,181 - AInewsbot - INFO - Processed 52 responses.\n",
      "2024-11-09 17:55:03,181 - AInewsbot - INFO - Cognitive Science, topic 15 of 100\n",
      "2024-11-09 17:55:03,182 - AInewsbot - INFO - Applying prompt to 2 pages using gpt-4o-mini\n",
      "2024-11-09 17:55:03,184 - AInewsbot - INFO - sent 50 items \n",
      "2024-11-09 17:55:03,185 - AInewsbot - INFO - sent 2 items \n"
     ]
    },
    {
     "name": "stderr",
     "output_type": "stream",
     "text": [
      "2024-11-09 17:55:04,119 - AInewsbot - INFO - got dict with 2 items \n",
      "2024-11-09 17:55:06,441 - AInewsbot - INFO - got dict with 50 items \n",
      "2024-11-09 17:55:06,445 - AInewsbot - INFO - Processed 52 responses.\n",
      "2024-11-09 17:55:06,447 - AInewsbot - INFO - Computer Vision, topic 16 of 100\n",
      "2024-11-09 17:55:06,449 - AInewsbot - INFO - Applying prompt to 2 pages using gpt-4o-mini\n",
      "2024-11-09 17:55:06,451 - AInewsbot - INFO - sent 50 items \n",
      "2024-11-09 17:55:06,453 - AInewsbot - INFO - sent 2 items \n",
      "2024-11-09 17:55:07,402 - AInewsbot - INFO - got dict with 2 items \n",
      "2024-11-09 17:55:09,946 - AInewsbot - INFO - got dict with 50 items \n",
      "2024-11-09 17:55:09,950 - AInewsbot - INFO - Processed 52 responses.\n",
      "2024-11-09 17:55:09,951 - AInewsbot - INFO - Consciousness, topic 17 of 100\n",
      "2024-11-09 17:55:09,952 - AInewsbot - INFO - Applying prompt to 2 pages using gpt-4o-mini\n",
      "2024-11-09 17:55:09,954 - AInewsbot - INFO - sent 50 items \n",
      "2024-11-09 17:55:09,955 - AInewsbot - INFO - sent 2 items \n",
      "2024-11-09 17:55:10,630 - AInewsbot - INFO - got dict with 2 items \n",
      "2024-11-09 17:55:13,066 - AInewsbot - INFO - got dict with 50 items \n",
      "2024-11-09 17:55:13,076 - AInewsbot - INFO - Processed 52 responses.\n",
      "2024-11-09 17:55:13,077 - AInewsbot - INFO - Cryptocurrency, topic 18 of 100\n",
      "2024-11-09 17:55:13,079 - AInewsbot - INFO - Applying prompt to 2 pages using gpt-4o-mini\n",
      "2024-11-09 17:55:13,081 - AInewsbot - INFO - sent 50 items \n",
      "2024-11-09 17:55:13,082 - AInewsbot - INFO - sent 2 items \n",
      "2024-11-09 17:55:13,712 - AInewsbot - INFO - got dict with 2 items \n",
      "2024-11-09 17:55:18,543 - AInewsbot - INFO - got dict with 50 items \n",
      "2024-11-09 17:55:18,546 - AInewsbot - INFO - Processed 52 responses.\n",
      "2024-11-09 17:55:18,548 - AInewsbot - INFO - Customer service, topic 19 of 100\n",
      "2024-11-09 17:55:18,549 - AInewsbot - INFO - Applying prompt to 2 pages using gpt-4o-mini\n",
      "2024-11-09 17:55:18,551 - AInewsbot - INFO - sent 50 items \n",
      "2024-11-09 17:55:18,553 - AInewsbot - INFO - sent 2 items \n",
      "2024-11-09 17:55:19,980 - AInewsbot - INFO - got dict with 2 items \n",
      "2024-11-09 17:55:22,538 - AInewsbot - INFO - got dict with 50 items \n",
      "2024-11-09 17:55:22,541 - AInewsbot - INFO - Processed 52 responses.\n",
      "2024-11-09 17:55:22,542 - AInewsbot - INFO - Cybersecurity, topic 20 of 100\n",
      "2024-11-09 17:55:22,543 - AInewsbot - INFO - Applying prompt to 2 pages using gpt-4o-mini\n",
      "2024-11-09 17:55:22,545 - AInewsbot - INFO - sent 50 items \n",
      "2024-11-09 17:55:22,546 - AInewsbot - INFO - sent 2 items \n",
      "2024-11-09 17:55:23,146 - AInewsbot - INFO - got dict with 2 items \n",
      "2024-11-09 17:55:26,763 - AInewsbot - INFO - got dict with 50 items \n",
      "2024-11-09 17:55:26,766 - AInewsbot - INFO - Processed 52 responses.\n",
      "2024-11-09 17:55:26,767 - AInewsbot - INFO - Deals, topic 21 of 100\n",
      "2024-11-09 17:55:26,769 - AInewsbot - INFO - Applying prompt to 2 pages using gpt-4o-mini\n",
      "2024-11-09 17:55:26,770 - AInewsbot - INFO - sent 50 items \n",
      "2024-11-09 17:55:26,772 - AInewsbot - INFO - sent 2 items \n",
      "2024-11-09 17:55:27,250 - AInewsbot - INFO - got dict with 2 items \n",
      "2024-11-09 17:55:29,823 - AInewsbot - INFO - got dict with 50 items \n",
      "2024-11-09 17:55:29,826 - AInewsbot - INFO - Processed 52 responses.\n",
      "2024-11-09 17:55:29,827 - AInewsbot - INFO - Deepfakes, topic 22 of 100\n",
      "2024-11-09 17:55:29,828 - AInewsbot - INFO - Applying prompt to 2 pages using gpt-4o-mini\n",
      "2024-11-09 17:55:29,830 - AInewsbot - INFO - sent 50 items \n",
      "2024-11-09 17:55:29,832 - AInewsbot - INFO - sent 2 items \n",
      "2024-11-09 17:55:30,472 - AInewsbot - INFO - got dict with 2 items \n",
      "2024-11-09 17:55:33,150 - AInewsbot - INFO - got dict with 50 items \n",
      "2024-11-09 17:55:33,153 - AInewsbot - INFO - Processed 52 responses.\n",
      "2024-11-09 17:55:33,154 - AInewsbot - INFO - Disinformation, topic 23 of 100\n",
      "2024-11-09 17:55:33,155 - AInewsbot - INFO - Applying prompt to 2 pages using gpt-4o-mini\n",
      "2024-11-09 17:55:33,156 - AInewsbot - INFO - sent 50 items \n",
      "2024-11-09 17:55:33,159 - AInewsbot - INFO - sent 2 items \n",
      "2024-11-09 17:55:33,808 - AInewsbot - INFO - got dict with 2 items \n",
      "2024-11-09 17:55:36,208 - AInewsbot - INFO - got dict with 50 items \n",
      "2024-11-09 17:55:36,212 - AInewsbot - INFO - Processed 52 responses.\n",
      "2024-11-09 17:55:36,213 - AInewsbot - INFO - Drones, topic 24 of 100\n",
      "2024-11-09 17:55:36,214 - AInewsbot - INFO - Applying prompt to 2 pages using gpt-4o-mini\n",
      "2024-11-09 17:55:36,215 - AInewsbot - INFO - sent 50 items \n",
      "2024-11-09 17:55:36,217 - AInewsbot - INFO - sent 2 items \n",
      "2024-11-09 17:55:36,957 - AInewsbot - INFO - got dict with 2 items \n",
      "2024-11-09 17:55:39,799 - AInewsbot - INFO - got dict with 50 items \n",
      "2024-11-09 17:55:39,803 - AInewsbot - INFO - Processed 52 responses.\n",
      "2024-11-09 17:55:39,804 - AInewsbot - INFO - Economics, topic 25 of 100\n",
      "2024-11-09 17:55:39,806 - AInewsbot - INFO - Applying prompt to 2 pages using gpt-4o-mini\n",
      "2024-11-09 17:55:39,807 - AInewsbot - INFO - sent 50 items \n",
      "2024-11-09 17:55:39,809 - AInewsbot - INFO - sent 2 items \n",
      "2024-11-09 17:55:40,382 - AInewsbot - INFO - got dict with 2 items \n",
      "2024-11-09 17:55:43,093 - AInewsbot - INFO - got dict with 50 items \n",
      "2024-11-09 17:55:43,096 - AInewsbot - INFO - Processed 52 responses.\n",
      "2024-11-09 17:55:43,097 - AInewsbot - INFO - Education, topic 26 of 100\n",
      "2024-11-09 17:55:43,099 - AInewsbot - INFO - Applying prompt to 2 pages using gpt-4o-mini\n",
      "2024-11-09 17:55:43,100 - AInewsbot - INFO - sent 50 items \n",
      "2024-11-09 17:55:43,102 - AInewsbot - INFO - sent 2 items \n",
      "2024-11-09 17:55:43,706 - AInewsbot - INFO - got dict with 2 items \n",
      "2024-11-09 17:55:46,582 - AInewsbot - INFO - got dict with 50 items \n",
      "2024-11-09 17:55:46,585 - AInewsbot - INFO - Processed 52 responses.\n",
      "2024-11-09 17:55:46,586 - AInewsbot - INFO - Energy, topic 27 of 100\n",
      "2024-11-09 17:55:46,587 - AInewsbot - INFO - Applying prompt to 2 pages using gpt-4o-mini\n",
      "2024-11-09 17:55:46,588 - AInewsbot - INFO - sent 50 items \n",
      "2024-11-09 17:55:46,589 - AInewsbot - INFO - sent 2 items \n",
      "2024-11-09 17:55:47,250 - AInewsbot - INFO - got dict with 2 items \n",
      "2024-11-09 17:55:50,177 - AInewsbot - INFO - got dict with 50 items \n",
      "2024-11-09 17:55:50,179 - AInewsbot - INFO - Processed 52 responses.\n",
      "2024-11-09 17:55:50,180 - AInewsbot - INFO - Entertainment, topic 28 of 100\n",
      "2024-11-09 17:55:50,181 - AInewsbot - INFO - Applying prompt to 2 pages using gpt-4o-mini\n",
      "2024-11-09 17:55:50,182 - AInewsbot - INFO - sent 50 items \n",
      "2024-11-09 17:55:50,184 - AInewsbot - INFO - sent 2 items \n",
      "2024-11-09 17:55:51,112 - AInewsbot - INFO - got dict with 2 items \n",
      "2024-11-09 17:55:57,630 - AInewsbot - INFO - got dict with 50 items \n",
      "2024-11-09 17:55:57,633 - AInewsbot - INFO - Processed 52 responses.\n",
      "2024-11-09 17:55:57,635 - AInewsbot - INFO - Ethics, topic 29 of 100\n",
      "2024-11-09 17:55:57,636 - AInewsbot - INFO - Applying prompt to 2 pages using gpt-4o-mini\n",
      "2024-11-09 17:55:57,637 - AInewsbot - INFO - sent 50 items \n",
      "2024-11-09 17:55:57,639 - AInewsbot - INFO - sent 2 items \n",
      "2024-11-09 17:55:58,358 - AInewsbot - INFO - got dict with 2 items \n",
      "2024-11-09 17:56:00,827 - AInewsbot - INFO - got dict with 50 items \n",
      "2024-11-09 17:56:00,829 - AInewsbot - INFO - Processed 52 responses.\n",
      "2024-11-09 17:56:00,830 - AInewsbot - INFO - European Union, topic 30 of 100\n",
      "2024-11-09 17:56:00,831 - AInewsbot - INFO - Applying prompt to 2 pages using gpt-4o-mini\n",
      "2024-11-09 17:56:00,833 - AInewsbot - INFO - sent 50 items \n",
      "2024-11-09 17:56:00,835 - AInewsbot - INFO - sent 2 items \n",
      "2024-11-09 17:56:02,251 - AInewsbot - INFO - got dict with 2 items \n",
      "2024-11-09 17:56:06,653 - AInewsbot - INFO - got dict with 50 items \n",
      "2024-11-09 17:56:06,655 - AInewsbot - INFO - Processed 52 responses.\n",
      "2024-11-09 17:56:06,656 - AInewsbot - INFO - Facial Recognition, topic 31 of 100\n",
      "2024-11-09 17:56:06,657 - AInewsbot - INFO - Applying prompt to 2 pages using gpt-4o-mini\n",
      "2024-11-09 17:56:06,658 - AInewsbot - INFO - sent 50 items \n",
      "2024-11-09 17:56:06,659 - AInewsbot - INFO - sent 2 items \n",
      "2024-11-09 17:56:07,267 - AInewsbot - INFO - got dict with 2 items \n",
      "2024-11-09 17:56:09,725 - AInewsbot - INFO - got dict with 50 items \n",
      "2024-11-09 17:56:09,727 - AInewsbot - INFO - Processed 52 responses.\n",
      "2024-11-09 17:56:09,728 - AInewsbot - INFO - Fashion, topic 32 of 100\n",
      "2024-11-09 17:56:09,729 - AInewsbot - INFO - Applying prompt to 2 pages using gpt-4o-mini\n"
     ]
    },
    {
     "name": "stderr",
     "output_type": "stream",
     "text": [
      "2024-11-09 17:56:09,731 - AInewsbot - INFO - sent 50 items \n",
      "2024-11-09 17:56:09,732 - AInewsbot - INFO - sent 2 items \n",
      "2024-11-09 17:56:10,238 - AInewsbot - INFO - got dict with 2 items \n",
      "2024-11-09 17:56:12,875 - AInewsbot - INFO - got dict with 50 items \n",
      "2024-11-09 17:56:12,882 - AInewsbot - INFO - Processed 52 responses.\n",
      "2024-11-09 17:56:12,883 - AInewsbot - INFO - Finance, topic 33 of 100\n",
      "2024-11-09 17:56:12,884 - AInewsbot - INFO - Applying prompt to 2 pages using gpt-4o-mini\n",
      "2024-11-09 17:56:12,885 - AInewsbot - INFO - sent 50 items \n",
      "2024-11-09 17:56:12,886 - AInewsbot - INFO - sent 2 items \n",
      "2024-11-09 17:56:14,920 - AInewsbot - INFO - got dict with 2 items \n",
      "2024-11-09 17:56:16,300 - AInewsbot - INFO - got dict with 50 items \n",
      "2024-11-09 17:56:16,303 - AInewsbot - INFO - Processed 52 responses.\n",
      "2024-11-09 17:56:16,304 - AInewsbot - INFO - Fintech, topic 34 of 100\n",
      "2024-11-09 17:56:16,305 - AInewsbot - INFO - Applying prompt to 2 pages using gpt-4o-mini\n",
      "2024-11-09 17:56:16,306 - AInewsbot - INFO - sent 50 items \n",
      "2024-11-09 17:56:16,307 - AInewsbot - INFO - sent 2 items \n",
      "2024-11-09 17:56:16,913 - AInewsbot - INFO - got dict with 2 items \n",
      "2024-11-09 17:56:19,472 - AInewsbot - INFO - got dict with 50 items \n",
      "2024-11-09 17:56:19,474 - AInewsbot - INFO - Processed 52 responses.\n",
      "2024-11-09 17:56:19,475 - AInewsbot - INFO - Food & Drink, topic 35 of 100\n",
      "2024-11-09 17:56:19,475 - AInewsbot - INFO - Applying prompt to 2 pages using gpt-4o-mini\n",
      "2024-11-09 17:56:19,476 - AInewsbot - INFO - sent 50 items \n",
      "2024-11-09 17:56:19,477 - AInewsbot - INFO - sent 2 items \n",
      "2024-11-09 17:56:20,145 - AInewsbot - INFO - got dict with 2 items \n",
      "2024-11-09 17:56:22,560 - AInewsbot - INFO - got dict with 50 items \n",
      "2024-11-09 17:56:22,573 - AInewsbot - INFO - Processed 52 responses.\n",
      "2024-11-09 17:56:22,582 - AInewsbot - INFO - Funding, topic 36 of 100\n",
      "2024-11-09 17:56:22,585 - AInewsbot - INFO - Applying prompt to 2 pages using gpt-4o-mini\n",
      "2024-11-09 17:56:22,586 - AInewsbot - INFO - sent 50 items \n",
      "2024-11-09 17:56:22,587 - AInewsbot - INFO - sent 2 items \n",
      "2024-11-09 17:56:23,190 - AInewsbot - INFO - got dict with 2 items \n",
      "2024-11-09 17:56:25,602 - AInewsbot - INFO - got dict with 50 items \n",
      "2024-11-09 17:56:25,606 - AInewsbot - INFO - Processed 52 responses.\n",
      "2024-11-09 17:56:25,607 - AInewsbot - INFO - Gaming, topic 37 of 100\n",
      "2024-11-09 17:56:25,608 - AInewsbot - INFO - Applying prompt to 2 pages using gpt-4o-mini\n",
      "2024-11-09 17:56:25,609 - AInewsbot - INFO - sent 50 items \n",
      "2024-11-09 17:56:25,612 - AInewsbot - INFO - sent 2 items \n",
      "2024-11-09 17:56:26,109 - AInewsbot - INFO - got dict with 2 items \n",
      "2024-11-09 17:56:29,693 - AInewsbot - INFO - got dict with 50 items \n",
      "2024-11-09 17:56:29,697 - AInewsbot - INFO - Processed 52 responses.\n",
      "2024-11-09 17:56:29,698 - AInewsbot - INFO - Gen AI, topic 38 of 100\n",
      "2024-11-09 17:56:29,700 - AInewsbot - INFO - Applying prompt to 2 pages using gpt-4o-mini\n",
      "2024-11-09 17:56:29,703 - AInewsbot - INFO - sent 50 items \n",
      "2024-11-09 17:56:29,705 - AInewsbot - INFO - sent 2 items \n",
      "2024-11-09 17:56:30,524 - AInewsbot - INFO - got dict with 2 items \n",
      "2024-11-09 17:56:33,741 - AInewsbot - INFO - got dict with 50 items \n",
      "2024-11-09 17:56:33,744 - AInewsbot - INFO - Processed 52 responses.\n",
      "2024-11-09 17:56:33,745 - AInewsbot - INFO - Governance, topic 39 of 100\n",
      "2024-11-09 17:56:33,747 - AInewsbot - INFO - Applying prompt to 2 pages using gpt-4o-mini\n",
      "2024-11-09 17:56:33,748 - AInewsbot - INFO - sent 50 items \n",
      "2024-11-09 17:56:33,749 - AInewsbot - INFO - sent 2 items \n",
      "2024-11-09 17:56:34,300 - AInewsbot - INFO - got dict with 2 items \n",
      "2024-11-09 17:56:36,513 - AInewsbot - INFO - got dict with 50 items \n",
      "2024-11-09 17:56:36,516 - AInewsbot - INFO - Processed 52 responses.\n",
      "2024-11-09 17:56:36,517 - AInewsbot - INFO - Hardware, topic 40 of 100\n",
      "2024-11-09 17:56:36,519 - AInewsbot - INFO - Applying prompt to 2 pages using gpt-4o-mini\n",
      "2024-11-09 17:56:36,520 - AInewsbot - INFO - sent 50 items \n",
      "2024-11-09 17:56:36,522 - AInewsbot - INFO - sent 2 items \n",
      "2024-11-09 17:56:37,331 - AInewsbot - INFO - got dict with 2 items \n",
      "2024-11-09 17:56:39,576 - AInewsbot - INFO - got dict with 50 items \n",
      "2024-11-09 17:56:39,579 - AInewsbot - INFO - Processed 52 responses.\n",
      "2024-11-09 17:56:39,580 - AInewsbot - INFO - Health & Fitness, topic 41 of 100\n",
      "2024-11-09 17:56:39,582 - AInewsbot - INFO - Applying prompt to 2 pages using gpt-4o-mini\n",
      "2024-11-09 17:56:39,583 - AInewsbot - INFO - sent 50 items \n",
      "2024-11-09 17:56:39,585 - AInewsbot - INFO - sent 2 items \n",
      "2024-11-09 17:56:40,413 - AInewsbot - INFO - got dict with 2 items \n",
      "2024-11-09 17:56:42,914 - AInewsbot - INFO - got dict with 50 items \n",
      "2024-11-09 17:56:42,917 - AInewsbot - INFO - Processed 52 responses.\n",
      "2024-11-09 17:56:42,917 - AInewsbot - INFO - Healthcare, topic 42 of 100\n",
      "2024-11-09 17:56:42,919 - AInewsbot - INFO - Applying prompt to 2 pages using gpt-4o-mini\n",
      "2024-11-09 17:56:42,920 - AInewsbot - INFO - sent 50 items \n",
      "2024-11-09 17:56:42,921 - AInewsbot - INFO - sent 2 items \n",
      "2024-11-09 17:56:43,394 - AInewsbot - INFO - got dict with 2 items \n",
      "2024-11-09 17:56:46,107 - AInewsbot - INFO - got dict with 50 items \n",
      "2024-11-09 17:56:46,110 - AInewsbot - INFO - Processed 52 responses.\n",
      "2024-11-09 17:56:46,111 - AInewsbot - INFO - History, topic 43 of 100\n",
      "2024-11-09 17:56:46,112 - AInewsbot - INFO - Applying prompt to 2 pages using gpt-4o-mini\n",
      "2024-11-09 17:56:46,114 - AInewsbot - INFO - sent 50 items \n",
      "2024-11-09 17:56:46,116 - AInewsbot - INFO - sent 2 items \n",
      "2024-11-09 17:56:46,615 - AInewsbot - INFO - got dict with 2 items \n",
      "2024-11-09 17:56:49,119 - AInewsbot - INFO - got dict with 50 items \n",
      "2024-11-09 17:56:49,121 - AInewsbot - INFO - Processed 52 responses.\n",
      "2024-11-09 17:56:49,122 - AInewsbot - INFO - Hollywood, topic 44 of 100\n",
      "2024-11-09 17:56:49,123 - AInewsbot - INFO - Applying prompt to 2 pages using gpt-4o-mini\n",
      "2024-11-09 17:56:49,124 - AInewsbot - INFO - sent 50 items \n",
      "2024-11-09 17:56:49,128 - AInewsbot - INFO - sent 2 items \n",
      "2024-11-09 17:56:49,661 - AInewsbot - INFO - got dict with 2 items \n",
      "2024-11-09 17:56:51,920 - AInewsbot - INFO - got dict with 50 items \n",
      "2024-11-09 17:56:51,923 - AInewsbot - INFO - Processed 52 responses.\n",
      "2024-11-09 17:56:51,924 - AInewsbot - INFO - IPOs, topic 45 of 100\n",
      "2024-11-09 17:56:51,925 - AInewsbot - INFO - Applying prompt to 2 pages using gpt-4o-mini\n",
      "2024-11-09 17:56:51,926 - AInewsbot - INFO - sent 50 items \n",
      "2024-11-09 17:56:51,928 - AInewsbot - INFO - sent 2 items \n",
      "2024-11-09 17:56:52,588 - AInewsbot - INFO - got dict with 2 items \n",
      "2024-11-09 17:56:55,191 - AInewsbot - INFO - got dict with 50 items \n",
      "2024-11-09 17:56:55,194 - AInewsbot - INFO - Processed 52 responses.\n",
      "2024-11-09 17:56:55,195 - AInewsbot - INFO - India, topic 46 of 100\n",
      "2024-11-09 17:56:55,196 - AInewsbot - INFO - Applying prompt to 2 pages using gpt-4o-mini\n",
      "2024-11-09 17:56:55,198 - AInewsbot - INFO - sent 50 items \n",
      "2024-11-09 17:56:55,200 - AInewsbot - INFO - sent 2 items \n",
      "2024-11-09 17:56:55,727 - AInewsbot - INFO - got dict with 2 items \n",
      "2024-11-09 17:56:58,269 - AInewsbot - INFO - got dict with 50 items \n",
      "2024-11-09 17:56:58,273 - AInewsbot - INFO - Processed 52 responses.\n",
      "2024-11-09 17:56:58,275 - AInewsbot - INFO - Inequality, topic 47 of 100\n",
      "2024-11-09 17:56:58,276 - AInewsbot - INFO - Applying prompt to 2 pages using gpt-4o-mini\n",
      "2024-11-09 17:56:58,279 - AInewsbot - INFO - sent 50 items \n",
      "2024-11-09 17:56:58,280 - AInewsbot - INFO - sent 2 items \n",
      "2024-11-09 17:56:58,962 - AInewsbot - INFO - got dict with 2 items \n",
      "2024-11-09 17:57:01,534 - AInewsbot - INFO - got dict with 50 items \n",
      "2024-11-09 17:57:01,537 - AInewsbot - INFO - Processed 52 responses.\n",
      "2024-11-09 17:57:01,537 - AInewsbot - INFO - Infrastructure, topic 48 of 100\n",
      "2024-11-09 17:57:01,538 - AInewsbot - INFO - Applying prompt to 2 pages using gpt-4o-mini\n",
      "2024-11-09 17:57:01,539 - AInewsbot - INFO - sent 50 items \n",
      "2024-11-09 17:57:01,540 - AInewsbot - INFO - sent 2 items \n",
      "2024-11-09 17:57:02,395 - AInewsbot - INFO - got dict with 2 items \n",
      "2024-11-09 17:57:04,716 - AInewsbot - INFO - got dict with 50 items \n",
      "2024-11-09 17:57:04,719 - AInewsbot - INFO - Processed 52 responses.\n",
      "2024-11-09 17:57:04,720 - AInewsbot - INFO - Intellectual Property, topic 49 of 100\n"
     ]
    },
    {
     "name": "stderr",
     "output_type": "stream",
     "text": [
      "2024-11-09 17:57:04,724 - AInewsbot - INFO - Applying prompt to 2 pages using gpt-4o-mini\n",
      "2024-11-09 17:57:04,728 - AInewsbot - INFO - sent 50 items \n",
      "2024-11-09 17:57:04,734 - AInewsbot - INFO - sent 2 items \n",
      "2024-11-09 17:57:05,329 - AInewsbot - INFO - got dict with 2 items \n",
      "2024-11-09 17:57:07,875 - AInewsbot - INFO - got dict with 50 items \n",
      "2024-11-09 17:57:07,878 - AInewsbot - INFO - Processed 52 responses.\n",
      "2024-11-09 17:57:07,878 - AInewsbot - INFO - Internet of Things, topic 50 of 100\n",
      "2024-11-09 17:57:07,879 - AInewsbot - INFO - Applying prompt to 2 pages using gpt-4o-mini\n",
      "2024-11-09 17:57:07,880 - AInewsbot - INFO - sent 50 items \n",
      "2024-11-09 17:57:07,882 - AInewsbot - INFO - sent 2 items \n",
      "2024-11-09 17:57:08,478 - AInewsbot - INFO - got dict with 2 items \n",
      "2024-11-09 17:57:11,278 - AInewsbot - INFO - got dict with 50 items \n",
      "2024-11-09 17:57:11,281 - AInewsbot - INFO - Processed 52 responses.\n",
      "2024-11-09 17:57:11,282 - AInewsbot - INFO - Japan, topic 51 of 100\n",
      "2024-11-09 17:57:11,283 - AInewsbot - INFO - Applying prompt to 2 pages using gpt-4o-mini\n",
      "2024-11-09 17:57:11,286 - AInewsbot - INFO - sent 50 items \n",
      "2024-11-09 17:57:11,288 - AInewsbot - INFO - sent 2 items \n",
      "2024-11-09 17:57:11,904 - AInewsbot - INFO - got dict with 2 items \n",
      "2024-11-09 17:57:14,545 - AInewsbot - INFO - got dict with 50 items \n",
      "2024-11-09 17:57:14,548 - AInewsbot - INFO - Processed 52 responses.\n",
      "2024-11-09 17:57:14,550 - AInewsbot - INFO - Job Automation, topic 52 of 100\n",
      "2024-11-09 17:57:14,551 - AInewsbot - INFO - Applying prompt to 2 pages using gpt-4o-mini\n",
      "2024-11-09 17:57:14,552 - AInewsbot - INFO - sent 50 items \n",
      "2024-11-09 17:57:14,554 - AInewsbot - INFO - sent 2 items \n",
      "2024-11-09 17:57:15,083 - AInewsbot - INFO - got dict with 2 items \n",
      "2024-11-09 17:57:17,822 - AInewsbot - INFO - got dict with 50 items \n",
      "2024-11-09 17:57:17,825 - AInewsbot - INFO - Processed 52 responses.\n",
      "2024-11-09 17:57:17,826 - AInewsbot - INFO - Jobs & CareersLabor Market, topic 53 of 100\n",
      "2024-11-09 17:57:17,827 - AInewsbot - INFO - Applying prompt to 2 pages using gpt-4o-mini\n",
      "2024-11-09 17:57:17,828 - AInewsbot - INFO - sent 50 items \n",
      "2024-11-09 17:57:17,830 - AInewsbot - INFO - sent 2 items \n",
      "2024-11-09 17:57:18,436 - AInewsbot - INFO - got dict with 2 items \n",
      "2024-11-09 17:57:20,922 - AInewsbot - INFO - got dict with 50 items \n",
      "2024-11-09 17:57:20,924 - AInewsbot - INFO - Processed 52 responses.\n",
      "2024-11-09 17:57:20,925 - AInewsbot - INFO - Korea, topic 54 of 100\n",
      "2024-11-09 17:57:20,926 - AInewsbot - INFO - Applying prompt to 2 pages using gpt-4o-mini\n",
      "2024-11-09 17:57:20,928 - AInewsbot - INFO - sent 50 items \n",
      "2024-11-09 17:57:20,930 - AInewsbot - INFO - sent 2 items \n",
      "2024-11-09 17:57:22,398 - AInewsbot - INFO - got dict with 2 items \n",
      "2024-11-09 17:57:25,092 - AInewsbot - INFO - got dict with 50 items \n",
      "2024-11-09 17:57:25,095 - AInewsbot - INFO - Processed 52 responses.\n",
      "2024-11-09 17:57:25,096 - AInewsbot - INFO - Language Models, topic 55 of 100\n",
      "2024-11-09 17:57:25,097 - AInewsbot - INFO - Applying prompt to 2 pages using gpt-4o-mini\n",
      "2024-11-09 17:57:25,098 - AInewsbot - INFO - sent 50 items \n",
      "2024-11-09 17:57:25,100 - AInewsbot - INFO - sent 2 items \n",
      "2024-11-09 17:57:25,707 - AInewsbot - INFO - got dict with 2 items \n",
      "2024-11-09 17:57:28,369 - AInewsbot - INFO - got dict with 50 items \n",
      "2024-11-09 17:57:28,372 - AInewsbot - INFO - Processed 52 responses.\n",
      "2024-11-09 17:57:28,372 - AInewsbot - INFO - Legal issues, topic 56 of 100\n",
      "2024-11-09 17:57:28,374 - AInewsbot - INFO - Applying prompt to 2 pages using gpt-4o-mini\n",
      "2024-11-09 17:57:28,375 - AInewsbot - INFO - sent 50 items \n",
      "2024-11-09 17:57:28,376 - AInewsbot - INFO - sent 2 items \n",
      "2024-11-09 17:57:28,984 - AInewsbot - INFO - got dict with 2 items \n",
      "2024-11-09 17:57:31,420 - AInewsbot - INFO - got dict with 50 items \n",
      "2024-11-09 17:57:31,423 - AInewsbot - INFO - Processed 52 responses.\n",
      "2024-11-09 17:57:31,424 - AInewsbot - INFO - Lifestyle & Travel, topic 57 of 100\n",
      "2024-11-09 17:57:31,425 - AInewsbot - INFO - Applying prompt to 2 pages using gpt-4o-mini\n",
      "2024-11-09 17:57:31,427 - AInewsbot - INFO - sent 50 items \n",
      "2024-11-09 17:57:31,428 - AInewsbot - INFO - sent 2 items \n",
      "2024-11-09 17:57:32,257 - AInewsbot - INFO - got dict with 2 items \n",
      "2024-11-09 17:57:34,616 - AInewsbot - INFO - got dict with 50 items \n",
      "2024-11-09 17:57:34,619 - AInewsbot - INFO - Processed 52 responses.\n",
      "2024-11-09 17:57:34,620 - AInewsbot - INFO - Manufacturing, topic 58 of 100\n",
      "2024-11-09 17:57:34,621 - AInewsbot - INFO - Applying prompt to 2 pages using gpt-4o-mini\n",
      "2024-11-09 17:57:34,622 - AInewsbot - INFO - sent 50 items \n",
      "2024-11-09 17:57:34,625 - AInewsbot - INFO - sent 2 items \n",
      "2024-11-09 17:57:35,406 - AInewsbot - INFO - got dict with 2 items \n",
      "2024-11-09 17:57:37,896 - AInewsbot - INFO - got dict with 50 items \n",
      "2024-11-09 17:57:37,899 - AInewsbot - INFO - Processed 52 responses.\n",
      "2024-11-09 17:57:37,900 - AInewsbot - INFO - Mergers and acquisitions, topic 59 of 100\n",
      "2024-11-09 17:57:37,902 - AInewsbot - INFO - Applying prompt to 2 pages using gpt-4o-mini\n",
      "2024-11-09 17:57:37,903 - AInewsbot - INFO - sent 50 items \n",
      "2024-11-09 17:57:37,905 - AInewsbot - INFO - sent 2 items \n",
      "2024-11-09 17:57:38,510 - AInewsbot - INFO - got dict with 2 items \n",
      "2024-11-09 17:57:41,144 - AInewsbot - INFO - got dict with 50 items \n",
      "2024-11-09 17:57:41,147 - AInewsbot - INFO - Processed 52 responses.\n",
      "2024-11-09 17:57:41,148 - AInewsbot - INFO - Military, topic 60 of 100\n",
      "2024-11-09 17:57:41,150 - AInewsbot - INFO - Applying prompt to 2 pages using gpt-4o-mini\n",
      "2024-11-09 17:57:41,151 - AInewsbot - INFO - sent 50 items \n",
      "2024-11-09 17:57:41,153 - AInewsbot - INFO - sent 2 items \n",
      "2024-11-09 17:57:41,762 - AInewsbot - INFO - got dict with 2 items \n",
      "2024-11-09 17:57:45,486 - AInewsbot - INFO - got dict with 50 items \n",
      "2024-11-09 17:57:45,490 - AInewsbot - INFO - Processed 52 responses.\n",
      "2024-11-09 17:57:45,491 - AInewsbot - INFO - Music, topic 61 of 100\n",
      "2024-11-09 17:57:45,492 - AInewsbot - INFO - Applying prompt to 2 pages using gpt-4o-mini\n",
      "2024-11-09 17:57:45,494 - AInewsbot - INFO - sent 50 items \n",
      "2024-11-09 17:57:45,496 - AInewsbot - INFO - sent 2 items \n",
      "2024-11-09 17:57:46,007 - AInewsbot - INFO - got dict with 2 items \n",
      "2024-11-09 17:57:47,813 - AInewsbot - INFO - got dict with 50 items \n",
      "2024-11-09 17:57:47,817 - AInewsbot - INFO - Processed 52 responses.\n",
      "2024-11-09 17:57:47,818 - AInewsbot - INFO - Neuromorphic Computing, topic 62 of 100\n",
      "2024-11-09 17:57:47,820 - AInewsbot - INFO - Applying prompt to 2 pages using gpt-4o-mini\n",
      "2024-11-09 17:57:47,822 - AInewsbot - INFO - sent 50 items \n",
      "2024-11-09 17:57:47,823 - AInewsbot - INFO - sent 2 items \n",
      "2024-11-09 17:57:48,650 - AInewsbot - INFO - got dict with 2 items \n",
      "2024-11-09 17:57:51,309 - AInewsbot - INFO - got dict with 50 items \n",
      "2024-11-09 17:57:51,312 - AInewsbot - INFO - Processed 52 responses.\n",
      "2024-11-09 17:57:51,313 - AInewsbot - INFO - Nuclear, topic 63 of 100\n",
      "2024-11-09 17:57:51,314 - AInewsbot - INFO - Applying prompt to 2 pages using gpt-4o-mini\n",
      "2024-11-09 17:57:51,316 - AInewsbot - INFO - sent 50 items \n",
      "2024-11-09 17:57:51,318 - AInewsbot - INFO - sent 2 items \n",
      "2024-11-09 17:57:51,706 - AInewsbot - INFO - got dict with 2 items \n",
      "2024-11-09 17:57:56,315 - AInewsbot - INFO - got dict with 50 items \n",
      "2024-11-09 17:57:56,318 - AInewsbot - INFO - Processed 52 responses.\n",
      "2024-11-09 17:57:56,319 - AInewsbot - INFO - Open Source, topic 64 of 100\n",
      "2024-11-09 17:57:56,320 - AInewsbot - INFO - Applying prompt to 2 pages using gpt-4o-mini\n",
      "2024-11-09 17:57:56,323 - AInewsbot - INFO - sent 50 items \n",
      "2024-11-09 17:57:56,324 - AInewsbot - INFO - sent 2 items \n",
      "2024-11-09 17:57:57,121 - AInewsbot - INFO - got dict with 2 items \n",
      "2024-11-09 17:58:00,384 - AInewsbot - INFO - got dict with 50 items \n",
      "2024-11-09 17:58:00,387 - AInewsbot - INFO - Processed 52 responses.\n",
      "2024-11-09 17:58:00,388 - AInewsbot - INFO - Opinion, topic 65 of 100\n",
      "2024-11-09 17:58:00,390 - AInewsbot - INFO - Applying prompt to 2 pages using gpt-4o-mini\n",
      "2024-11-09 17:58:00,391 - AInewsbot - INFO - sent 50 items \n",
      "2024-11-09 17:58:00,394 - AInewsbot - INFO - sent 2 items \n",
      "2024-11-09 17:58:00,895 - AInewsbot - INFO - got dict with 2 items \n",
      "2024-11-09 17:58:03,428 - AInewsbot - INFO - got dict with 50 items \n"
     ]
    },
    {
     "name": "stderr",
     "output_type": "stream",
     "text": [
      "2024-11-09 17:58:03,431 - AInewsbot - INFO - Processed 52 responses.\n",
      "2024-11-09 17:58:03,432 - AInewsbot - INFO - Policy and regulation, topic 66 of 100\n",
      "2024-11-09 17:58:03,433 - AInewsbot - INFO - Applying prompt to 2 pages using gpt-4o-mini\n",
      "2024-11-09 17:58:03,435 - AInewsbot - INFO - sent 50 items \n",
      "2024-11-09 17:58:03,437 - AInewsbot - INFO - sent 2 items \n",
      "2024-11-09 17:58:04,904 - AInewsbot - INFO - got dict with 2 items \n",
      "2024-11-09 17:58:07,385 - AInewsbot - INFO - got dict with 50 items \n",
      "2024-11-09 17:58:07,387 - AInewsbot - INFO - Processed 52 responses.\n",
      "2024-11-09 17:58:07,388 - AInewsbot - INFO - Politics, topic 67 of 100\n",
      "2024-11-09 17:58:07,390 - AInewsbot - INFO - Applying prompt to 2 pages using gpt-4o-mini\n",
      "2024-11-09 17:58:07,391 - AInewsbot - INFO - sent 50 items \n",
      "2024-11-09 17:58:07,393 - AInewsbot - INFO - sent 2 items \n",
      "2024-11-09 17:58:07,984 - AInewsbot - INFO - got dict with 2 items \n",
      "2024-11-09 17:58:11,462 - AInewsbot - INFO - got dict with 50 items \n",
      "2024-11-09 17:58:11,465 - AInewsbot - INFO - Processed 52 responses.\n",
      "2024-11-09 17:58:11,466 - AInewsbot - INFO - Privacy, topic 68 of 100\n",
      "2024-11-09 17:58:11,468 - AInewsbot - INFO - Applying prompt to 2 pages using gpt-4o-mini\n",
      "2024-11-09 17:58:11,470 - AInewsbot - INFO - sent 50 items \n",
      "2024-11-09 17:58:11,472 - AInewsbot - INFO - sent 2 items \n",
      "2024-11-09 17:58:12,350 - AInewsbot - INFO - got dict with 2 items \n",
      "2024-11-09 17:58:15,005 - AInewsbot - INFO - got dict with 50 items \n",
      "2024-11-09 17:58:15,008 - AInewsbot - INFO - Processed 52 responses.\n",
      "2024-11-09 17:58:15,009 - AInewsbot - INFO - Privacy & Surveillance, topic 69 of 100\n",
      "2024-11-09 17:58:15,010 - AInewsbot - INFO - Applying prompt to 2 pages using gpt-4o-mini\n",
      "2024-11-09 17:58:15,012 - AInewsbot - INFO - sent 50 items \n",
      "2024-11-09 17:58:15,014 - AInewsbot - INFO - sent 2 items \n",
      "2024-11-09 17:58:16,463 - AInewsbot - INFO - got dict with 2 items \n",
      "2024-11-09 17:58:19,421 - AInewsbot - INFO - got dict with 50 items \n",
      "2024-11-09 17:58:19,424 - AInewsbot - INFO - Processed 52 responses.\n",
      "2024-11-09 17:58:19,426 - AInewsbot - INFO - Products, topic 70 of 100\n",
      "2024-11-09 17:58:19,427 - AInewsbot - INFO - Applying prompt to 2 pages using gpt-4o-mini\n",
      "2024-11-09 17:58:19,429 - AInewsbot - INFO - sent 50 items \n",
      "2024-11-09 17:58:19,430 - AInewsbot - INFO - sent 2 items \n",
      "2024-11-09 17:58:19,899 - AInewsbot - INFO - got dict with 2 items \n",
      "2024-11-09 17:58:22,422 - AInewsbot - INFO - got dict with 50 items \n",
      "2024-11-09 17:58:22,424 - AInewsbot - INFO - Processed 52 responses.\n",
      "2024-11-09 17:58:22,425 - AInewsbot - INFO - Quantum Computing, topic 71 of 100\n",
      "2024-11-09 17:58:22,425 - AInewsbot - INFO - Applying prompt to 2 pages using gpt-4o-mini\n",
      "2024-11-09 17:58:22,426 - AInewsbot - INFO - sent 50 items \n",
      "2024-11-09 17:58:22,427 - AInewsbot - INFO - sent 2 items \n",
      "2024-11-09 17:58:22,846 - AInewsbot - INFO - got dict with 2 items \n",
      "2024-11-09 17:58:25,481 - AInewsbot - INFO - got dict with 50 items \n",
      "2024-11-09 17:58:25,483 - AInewsbot - INFO - Processed 52 responses.\n",
      "2024-11-09 17:58:25,484 - AInewsbot - INFO - Recommendation systems, topic 72 of 100\n",
      "2024-11-09 17:58:25,485 - AInewsbot - INFO - Applying prompt to 2 pages using gpt-4o-mini\n",
      "2024-11-09 17:58:25,486 - AInewsbot - INFO - sent 50 items \n",
      "2024-11-09 17:58:25,489 - AInewsbot - INFO - sent 2 items \n",
      "2024-11-09 17:58:26,709 - AInewsbot - INFO - got dict with 2 items \n",
      "2024-11-09 17:58:29,081 - AInewsbot - INFO - got dict with 50 items \n",
      "2024-11-09 17:58:29,084 - AInewsbot - INFO - Processed 52 responses.\n",
      "2024-11-09 17:58:29,085 - AInewsbot - INFO - Reinforcement Learning, topic 73 of 100\n",
      "2024-11-09 17:58:29,086 - AInewsbot - INFO - Applying prompt to 2 pages using gpt-4o-mini\n",
      "2024-11-09 17:58:29,087 - AInewsbot - INFO - sent 50 items \n",
      "2024-11-09 17:58:29,088 - AInewsbot - INFO - sent 2 items \n",
      "2024-11-09 17:58:29,740 - AInewsbot - INFO - got dict with 2 items \n",
      "2024-11-09 17:58:32,058 - AInewsbot - INFO - got dict with 50 items \n",
      "2024-11-09 17:58:32,065 - AInewsbot - INFO - Processed 52 responses.\n",
      "2024-11-09 17:58:32,066 - AInewsbot - INFO - Retrieval Augmented Generation, topic 74 of 100\n",
      "2024-11-09 17:58:32,067 - AInewsbot - INFO - Applying prompt to 2 pages using gpt-4o-mini\n",
      "2024-11-09 17:58:32,068 - AInewsbot - INFO - sent 50 items \n",
      "2024-11-09 17:58:32,069 - AInewsbot - INFO - sent 2 items \n",
      "2024-11-09 17:58:32,566 - AInewsbot - INFO - got dict with 2 items \n",
      "2024-11-09 17:58:35,178 - AInewsbot - INFO - got dict with 50 items \n",
      "2024-11-09 17:58:35,181 - AInewsbot - INFO - Processed 52 responses.\n",
      "2024-11-09 17:58:35,182 - AInewsbot - INFO - Review, topic 75 of 100\n",
      "2024-11-09 17:58:35,183 - AInewsbot - INFO - Applying prompt to 2 pages using gpt-4o-mini\n",
      "2024-11-09 17:58:35,184 - AInewsbot - INFO - sent 50 items \n",
      "2024-11-09 17:58:35,185 - AInewsbot - INFO - sent 2 items \n",
      "2024-11-09 17:58:35,754 - AInewsbot - INFO - got dict with 2 items \n",
      "2024-11-09 17:58:38,239 - AInewsbot - INFO - got dict with 50 items \n",
      "2024-11-09 17:58:38,243 - AInewsbot - INFO - Processed 52 responses.\n",
      "2024-11-09 17:58:38,244 - AInewsbot - INFO - Robots, topic 76 of 100\n",
      "2024-11-09 17:58:38,245 - AInewsbot - INFO - Applying prompt to 2 pages using gpt-4o-mini\n",
      "2024-11-09 17:58:38,249 - AInewsbot - INFO - sent 50 items \n",
      "2024-11-09 17:58:38,252 - AInewsbot - INFO - sent 2 items \n",
      "2024-11-09 17:58:39,337 - AInewsbot - INFO - got dict with 2 items \n",
      "2024-11-09 17:58:41,921 - AInewsbot - INFO - got dict with 50 items \n",
      "2024-11-09 17:58:41,924 - AInewsbot - INFO - Processed 52 responses.\n",
      "2024-11-09 17:58:41,925 - AInewsbot - INFO - Russia, topic 77 of 100\n",
      "2024-11-09 17:58:41,926 - AInewsbot - INFO - Applying prompt to 2 pages using gpt-4o-mini\n",
      "2024-11-09 17:58:41,927 - AInewsbot - INFO - sent 50 items \n",
      "2024-11-09 17:58:41,928 - AInewsbot - INFO - sent 2 items \n",
      "2024-11-09 17:58:43,242 - AInewsbot - INFO - got dict with 2 items \n",
      "2024-11-09 17:58:46,116 - AInewsbot - INFO - got dict with 50 items \n",
      "2024-11-09 17:58:46,118 - AInewsbot - INFO - Processed 52 responses.\n",
      "2024-11-09 17:58:46,119 - AInewsbot - INFO - Safety and Alignment, topic 78 of 100\n",
      "2024-11-09 17:58:46,120 - AInewsbot - INFO - Applying prompt to 2 pages using gpt-4o-mini\n",
      "2024-11-09 17:58:46,121 - AInewsbot - INFO - sent 50 items \n",
      "2024-11-09 17:58:46,122 - AInewsbot - INFO - sent 2 items \n",
      "2024-11-09 17:58:46,706 - AInewsbot - INFO - got dict with 2 items \n",
      "2024-11-09 17:58:49,270 - AInewsbot - INFO - got dict with 50 items \n",
      "2024-11-09 17:58:49,272 - AInewsbot - INFO - Processed 52 responses.\n",
      "2024-11-09 17:58:49,272 - AInewsbot - INFO - Scams, topic 79 of 100\n",
      "2024-11-09 17:58:49,273 - AInewsbot - INFO - Applying prompt to 2 pages using gpt-4o-mini\n",
      "2024-11-09 17:58:49,273 - AInewsbot - INFO - sent 50 items \n",
      "2024-11-09 17:58:49,275 - AInewsbot - INFO - sent 2 items \n",
      "2024-11-09 17:58:50,161 - AInewsbot - INFO - got dict with 2 items \n",
      "2024-11-09 17:58:53,287 - AInewsbot - INFO - got dict with 50 items \n",
      "2024-11-09 17:58:53,290 - AInewsbot - INFO - Processed 52 responses.\n",
      "2024-11-09 17:58:53,290 - AInewsbot - INFO - Science, topic 80 of 100\n",
      "2024-11-09 17:58:53,292 - AInewsbot - INFO - Applying prompt to 2 pages using gpt-4o-mini\n",
      "2024-11-09 17:58:53,293 - AInewsbot - INFO - sent 50 items \n",
      "2024-11-09 17:58:53,294 - AInewsbot - INFO - sent 2 items \n",
      "2024-11-09 17:58:54,154 - AInewsbot - INFO - got dict with 2 items \n",
      "2024-11-09 17:58:56,300 - AInewsbot - INFO - got dict with 50 items \n",
      "2024-11-09 17:58:56,302 - AInewsbot - INFO - Processed 52 responses.\n",
      "2024-11-09 17:58:56,303 - AInewsbot - INFO - Semiconductor Chips, topic 81 of 100\n",
      "2024-11-09 17:58:56,304 - AInewsbot - INFO - Applying prompt to 2 pages using gpt-4o-mini\n",
      "2024-11-09 17:58:56,305 - AInewsbot - INFO - sent 50 items \n",
      "2024-11-09 17:58:56,307 - AInewsbot - INFO - sent 2 items \n",
      "2024-11-09 17:58:57,103 - AInewsbot - INFO - got dict with 2 items \n",
      "2024-11-09 17:58:59,431 - AInewsbot - INFO - got dict with 50 items \n",
      "2024-11-09 17:58:59,433 - AInewsbot - INFO - Processed 52 responses.\n",
      "2024-11-09 17:58:59,434 - AInewsbot - INFO - Singularity, topic 82 of 100\n",
      "2024-11-09 17:58:59,435 - AInewsbot - INFO - Applying prompt to 2 pages using gpt-4o-mini\n",
      "2024-11-09 17:58:59,436 - AInewsbot - INFO - sent 50 items \n",
      "2024-11-09 17:58:59,437 - AInewsbot - INFO - sent 2 items \n"
     ]
    },
    {
     "name": "stderr",
     "output_type": "stream",
     "text": [
      "2024-11-09 17:59:00,324 - AInewsbot - INFO - got dict with 2 items \n",
      "2024-11-09 17:59:02,768 - AInewsbot - INFO - got dict with 50 items \n",
      "2024-11-09 17:59:02,771 - AInewsbot - INFO - Processed 52 responses.\n",
      "2024-11-09 17:59:02,772 - AInewsbot - INFO - Smart grid, topic 83 of 100\n",
      "2024-11-09 17:59:02,772 - AInewsbot - INFO - Applying prompt to 2 pages using gpt-4o-mini\n",
      "2024-11-09 17:59:02,773 - AInewsbot - INFO - sent 50 items \n",
      "2024-11-09 17:59:02,774 - AInewsbot - INFO - sent 2 items \n",
      "2024-11-09 17:59:03,266 - AInewsbot - INFO - got dict with 2 items \n",
      "2024-11-09 17:59:05,775 - AInewsbot - INFO - got dict with 50 items \n",
      "2024-11-09 17:59:05,777 - AInewsbot - INFO - Processed 52 responses.\n",
      "2024-11-09 17:59:05,777 - AInewsbot - INFO - Society & Culture, topic 84 of 100\n",
      "2024-11-09 17:59:05,778 - AInewsbot - INFO - Applying prompt to 2 pages using gpt-4o-mini\n",
      "2024-11-09 17:59:05,780 - AInewsbot - INFO - sent 50 items \n",
      "2024-11-09 17:59:05,781 - AInewsbot - INFO - sent 2 items \n",
      "2024-11-09 17:59:06,275 - AInewsbot - INFO - got dict with 2 items \n",
      "2024-11-09 17:59:08,775 - AInewsbot - INFO - got dict with 50 items \n",
      "2024-11-09 17:59:08,777 - AInewsbot - INFO - Processed 52 responses.\n",
      "2024-11-09 17:59:08,778 - AInewsbot - INFO - Speech Recognition & Synthesis, topic 85 of 100\n",
      "2024-11-09 17:59:08,780 - AInewsbot - INFO - Applying prompt to 2 pages using gpt-4o-mini\n",
      "2024-11-09 17:59:08,781 - AInewsbot - INFO - sent 50 items \n",
      "2024-11-09 17:59:08,782 - AInewsbot - INFO - sent 2 items \n",
      "2024-11-09 17:59:09,298 - AInewsbot - INFO - got dict with 2 items \n",
      "2024-11-09 17:59:11,870 - AInewsbot - INFO - got dict with 50 items \n",
      "2024-11-09 17:59:11,871 - AInewsbot - INFO - Processed 52 responses.\n",
      "2024-11-09 17:59:11,872 - AInewsbot - INFO - Sports, topic 86 of 100\n",
      "2024-11-09 17:59:11,873 - AInewsbot - INFO - Applying prompt to 2 pages using gpt-4o-mini\n",
      "2024-11-09 17:59:11,875 - AInewsbot - INFO - sent 50 items \n",
      "2024-11-09 17:59:11,877 - AInewsbot - INFO - sent 2 items \n",
      "2024-11-09 17:59:12,461 - AInewsbot - INFO - got dict with 2 items \n",
      "2024-11-09 17:59:14,914 - AInewsbot - INFO - got dict with 50 items \n",
      "2024-11-09 17:59:14,917 - AInewsbot - INFO - Processed 52 responses.\n",
      "2024-11-09 17:59:14,918 - AInewsbot - INFO - Stocks, topic 87 of 100\n",
      "2024-11-09 17:59:14,919 - AInewsbot - INFO - Applying prompt to 2 pages using gpt-4o-mini\n",
      "2024-11-09 17:59:14,920 - AInewsbot - INFO - sent 50 items \n",
      "2024-11-09 17:59:14,922 - AInewsbot - INFO - sent 2 items \n",
      "2024-11-09 17:59:15,844 - AInewsbot - INFO - got dict with 2 items \n",
      "2024-11-09 17:59:18,382 - AInewsbot - INFO - got dict with 50 items \n",
      "2024-11-09 17:59:18,383 - AInewsbot - INFO - Processed 52 responses.\n",
      "2024-11-09 17:59:18,384 - AInewsbot - INFO - Streaming, topic 88 of 100\n",
      "2024-11-09 17:59:18,384 - AInewsbot - INFO - Applying prompt to 2 pages using gpt-4o-mini\n",
      "2024-11-09 17:59:18,385 - AInewsbot - INFO - sent 50 items \n",
      "2024-11-09 17:59:18,386 - AInewsbot - INFO - sent 2 items \n",
      "2024-11-09 17:59:18,869 - AInewsbot - INFO - got dict with 2 items \n",
      "2024-11-09 17:59:21,661 - AInewsbot - INFO - got dict with 50 items \n",
      "2024-11-09 17:59:21,663 - AInewsbot - INFO - Processed 52 responses.\n",
      "2024-11-09 17:59:21,664 - AInewsbot - INFO - Supply chain optimization, topic 89 of 100\n",
      "2024-11-09 17:59:21,665 - AInewsbot - INFO - Applying prompt to 2 pages using gpt-4o-mini\n",
      "2024-11-09 17:59:21,667 - AInewsbot - INFO - sent 50 items \n",
      "2024-11-09 17:59:21,668 - AInewsbot - INFO - sent 2 items \n",
      "2024-11-09 17:59:22,625 - AInewsbot - INFO - got dict with 2 items \n",
      "2024-11-09 17:59:25,454 - AInewsbot - INFO - got dict with 50 items \n",
      "2024-11-09 17:59:25,458 - AInewsbot - INFO - Processed 52 responses.\n",
      "2024-11-09 17:59:25,460 - AInewsbot - INFO - Sustainability, topic 90 of 100\n",
      "2024-11-09 17:59:25,460 - AInewsbot - INFO - Applying prompt to 2 pages using gpt-4o-mini\n",
      "2024-11-09 17:59:25,462 - AInewsbot - INFO - sent 50 items \n",
      "2024-11-09 17:59:25,463 - AInewsbot - INFO - sent 2 items \n",
      "2024-11-09 17:59:26,916 - AInewsbot - INFO - got dict with 2 items \n",
      "2024-11-09 17:59:29,208 - AInewsbot - INFO - got dict with 50 items \n",
      "2024-11-09 17:59:29,210 - AInewsbot - INFO - Processed 52 responses.\n",
      "2024-11-09 17:59:29,211 - AInewsbot - INFO - TV & Film & Movies, topic 91 of 100\n",
      "2024-11-09 17:59:29,212 - AInewsbot - INFO - Applying prompt to 2 pages using gpt-4o-mini\n",
      "2024-11-09 17:59:29,214 - AInewsbot - INFO - sent 50 items \n",
      "2024-11-09 17:59:29,216 - AInewsbot - INFO - sent 2 items \n",
      "2024-11-09 17:59:29,717 - AInewsbot - INFO - got dict with 2 items \n",
      "2024-11-09 17:59:32,667 - AInewsbot - INFO - got dict with 50 items \n",
      "2024-11-09 17:59:32,669 - AInewsbot - INFO - Processed 52 responses.\n",
      "2024-11-09 17:59:32,670 - AInewsbot - INFO - Taiwan, topic 92 of 100\n",
      "2024-11-09 17:59:32,672 - AInewsbot - INFO - Applying prompt to 2 pages using gpt-4o-mini\n",
      "2024-11-09 17:59:32,673 - AInewsbot - INFO - sent 50 items \n",
      "2024-11-09 17:59:32,674 - AInewsbot - INFO - sent 2 items \n",
      "2024-11-09 17:59:33,493 - AInewsbot - INFO - got dict with 2 items \n",
      "2024-11-09 17:59:36,156 - AInewsbot - INFO - got dict with 50 items \n",
      "2024-11-09 17:59:36,158 - AInewsbot - INFO - Processed 52 responses.\n",
      "2024-11-09 17:59:36,158 - AInewsbot - INFO - Testing, topic 93 of 100\n",
      "2024-11-09 17:59:36,158 - AInewsbot - INFO - Applying prompt to 2 pages using gpt-4o-mini\n",
      "2024-11-09 17:59:36,159 - AInewsbot - INFO - sent 50 items \n",
      "2024-11-09 17:59:36,161 - AInewsbot - INFO - sent 2 items \n",
      "2024-11-09 17:59:36,864 - AInewsbot - INFO - got dict with 2 items \n",
      "2024-11-09 17:59:39,449 - AInewsbot - INFO - got dict with 50 items \n",
      "2024-11-09 17:59:39,452 - AInewsbot - INFO - Processed 52 responses.\n",
      "2024-11-09 17:59:39,453 - AInewsbot - INFO - Transformers, topic 94 of 100\n",
      "2024-11-09 17:59:39,454 - AInewsbot - INFO - Applying prompt to 2 pages using gpt-4o-mini\n",
      "2024-11-09 17:59:39,456 - AInewsbot - INFO - sent 50 items \n",
      "2024-11-09 17:59:39,457 - AInewsbot - INFO - sent 2 items \n",
      "2024-11-09 17:59:40,343 - AInewsbot - INFO - got dict with 2 items \n",
      "2024-11-09 17:59:43,018 - AInewsbot - INFO - got dict with 50 items \n",
      "2024-11-09 17:59:43,020 - AInewsbot - INFO - Processed 52 responses.\n",
      "2024-11-09 17:59:43,020 - AInewsbot - INFO - Transportation, topic 95 of 100\n",
      "2024-11-09 17:59:43,021 - AInewsbot - INFO - Applying prompt to 2 pages using gpt-4o-mini\n",
      "2024-11-09 17:59:43,023 - AInewsbot - INFO - sent 50 items \n",
      "2024-11-09 17:59:43,024 - AInewsbot - INFO - sent 2 items \n",
      "2024-11-09 17:59:43,927 - AInewsbot - INFO - got dict with 2 items \n",
      "2024-11-09 17:59:46,232 - AInewsbot - INFO - got dict with 50 items \n",
      "2024-11-09 17:59:46,235 - AInewsbot - INFO - Processed 52 responses.\n",
      "2024-11-09 17:59:46,235 - AInewsbot - INFO - Travel, topic 96 of 100\n",
      "2024-11-09 17:59:46,236 - AInewsbot - INFO - Applying prompt to 2 pages using gpt-4o-mini\n",
      "2024-11-09 17:59:46,238 - AInewsbot - INFO - sent 50 items \n",
      "2024-11-09 17:59:46,239 - AInewsbot - INFO - sent 2 items \n",
      "2024-11-09 17:59:46,830 - AInewsbot - INFO - got dict with 2 items \n",
      "2024-11-09 17:59:49,469 - AInewsbot - INFO - got dict with 50 items \n",
      "2024-11-09 17:59:49,470 - AInewsbot - INFO - Processed 52 responses.\n",
      "2024-11-09 17:59:49,470 - AInewsbot - INFO - UK, topic 97 of 100\n",
      "2024-11-09 17:59:49,471 - AInewsbot - INFO - Applying prompt to 2 pages using gpt-4o-mini\n",
      "2024-11-09 17:59:49,472 - AInewsbot - INFO - sent 50 items \n",
      "2024-11-09 17:59:49,472 - AInewsbot - INFO - sent 2 items \n",
      "2024-11-09 17:59:49,980 - AInewsbot - INFO - got dict with 2 items \n",
      "2024-11-09 17:59:52,654 - AInewsbot - INFO - got dict with 50 items \n",
      "2024-11-09 17:59:52,656 - AInewsbot - INFO - Processed 52 responses.\n",
      "2024-11-09 17:59:52,657 - AInewsbot - INFO - Venture Capital, topic 98 of 100\n",
      "2024-11-09 17:59:52,657 - AInewsbot - INFO - Applying prompt to 2 pages using gpt-4o-mini\n",
      "2024-11-09 17:59:52,659 - AInewsbot - INFO - sent 50 items \n",
      "2024-11-09 17:59:52,660 - AInewsbot - INFO - sent 2 items \n",
      "2024-11-09 17:59:53,226 - AInewsbot - INFO - got dict with 2 items \n",
      "2024-11-09 17:59:55,749 - AInewsbot - INFO - got dict with 50 items \n",
      "2024-11-09 17:59:55,751 - AInewsbot - INFO - Processed 52 responses.\n",
      "2024-11-09 17:59:55,752 - AInewsbot - INFO - Virtual & Augmented Reality, topic 99 of 100\n",
      "2024-11-09 17:59:55,753 - AInewsbot - INFO - Applying prompt to 2 pages using gpt-4o-mini\n"
     ]
    },
    {
     "name": "stderr",
     "output_type": "stream",
     "text": [
      "2024-11-09 17:59:55,754 - AInewsbot - INFO - sent 50 items \n",
      "2024-11-09 17:59:55,755 - AInewsbot - INFO - sent 2 items \n",
      "2024-11-09 17:59:56,184 - AInewsbot - INFO - got dict with 2 items \n",
      "2024-11-09 17:59:59,513 - AInewsbot - INFO - got dict with 50 items \n",
      "2024-11-09 17:59:59,516 - AInewsbot - INFO - Processed 52 responses.\n",
      "2024-11-09 17:59:59,516 - AInewsbot - INFO - Virtual Assistants, topic 100 of 100\n",
      "2024-11-09 17:59:59,517 - AInewsbot - INFO - Applying prompt to 2 pages using gpt-4o-mini\n",
      "2024-11-09 17:59:59,518 - AInewsbot - INFO - sent 50 items \n",
      "2024-11-09 17:59:59,520 - AInewsbot - INFO - sent 2 items \n",
      "2024-11-09 18:00:01,046 - AInewsbot - INFO - got dict with 2 items \n",
      "2024-11-09 18:00:03,591 - AInewsbot - INFO - got dict with 50 items \n",
      "2024-11-09 18:00:03,593 - AInewsbot - INFO - Processed 52 responses.\n",
      "2024-11-09 18:00:03,594 - AInewsbot - INFO - end canonical topic classification\n",
      "2024-11-09 18:00:03,607 - AInewsbot - INFO - Fetching embeddings for 52 headlines\n",
      "2024-11-09 18:00:04,063 - httpx - INFO - HTTP Request: POST https://api.openai.com/v1/embeddings \"HTTP/1.1 200 OK\"\n",
      "2024-11-09 18:00:04,210 - AInewsbot - INFO - Sort with nearest_neighbor_sort sort\n",
      "2024-11-09 18:00:04,219 - AInewsbot - INFO - Load umap dimensionality reduction model\n",
      "2024-11-09 18:00:05,762 - AInewsbot - INFO - Perform dimensionality reduction\n",
      "2024-11-09 18:00:07,336 - AInewsbot - INFO - Cluster with DBSCAN\n"
     ]
    },
    {
     "data": {
      "text/html": [
       "<div>\n",
       "<style scoped>\n",
       "    .dataframe tbody tr th:only-of-type {\n",
       "        vertical-align: middle;\n",
       "    }\n",
       "\n",
       "    .dataframe tbody tr th {\n",
       "        vertical-align: top;\n",
       "    }\n",
       "\n",
       "    .dataframe thead th {\n",
       "        text-align: right;\n",
       "    }\n",
       "</style>\n",
       "<table border=\"1\" class=\"dataframe\">\n",
       "  <thead>\n",
       "    <tr style=\"text-align: right;\">\n",
       "      <th></th>\n",
       "      <th>id</th>\n",
       "      <th>title_topic_str</th>\n",
       "    </tr>\n",
       "  </thead>\n",
       "  <tbody>\n",
       "    <tr>\n",
       "      <th>0</th>\n",
       "      <td>0</td>\n",
       "      <td>I found these 5 tips helped me get the most out of ChatGPT Search (Topics: Chatbots, Chatgpt, Code Assistants, Gen AI, Language Models, Opinion, Optimization, Review, Search, Tips, Virtual Assistants)</td>\n",
       "    </tr>\n",
       "    <tr>\n",
       "      <th>1</th>\n",
       "      <td>1</td>\n",
       "      <td>3 Ways To Use ChatGPT Search To Make Money Online In 2024 (Topics: 2024, Chatbots, Chatgpt, Economics, Finance, Gen AI, Language Models, Money, Online, Search, Virtual Assistants)</td>\n",
       "    </tr>\n",
       "    <tr>\n",
       "      <th>2</th>\n",
       "      <td>2</td>\n",
       "      <td>Chegg Is On Its Last Legs After ChatGPT Sent Its Stock Down 99% (Topics: Books &amp; Publishing, Business, Chatbots, Chatgpt, Chegg, Code Assistants, Economics, Education, Finance, Gen AI, Job Automation, Jobs &amp; Careerslabor Market, Language Models, Products, Stock Market, Stocks, Virtual Assistants)</td>\n",
       "    </tr>\n",
       "  </tbody>\n",
       "</table>\n",
       "</div>"
      ],
      "text/plain": [
       "   id  \\\n",
       "0   0   \n",
       "1   1   \n",
       "2   2   \n",
       "\n",
       "                                                                                                                                                                                                                                                                                             title_topic_str  \n",
       "0                                                                                                   I found these 5 tips helped me get the most out of ChatGPT Search (Topics: Chatbots, Chatgpt, Code Assistants, Gen AI, Language Models, Opinion, Optimization, Review, Search, Tips, Virtual Assistants)  \n",
       "1                                                                                                                        3 Ways To Use ChatGPT Search To Make Money Online In 2024 (Topics: 2024, Chatbots, Chatgpt, Economics, Finance, Gen AI, Language Models, Money, Online, Search, Virtual Assistants)  \n",
       "2  Chegg Is On Its Last Legs After ChatGPT Sent Its Stock Down 99% (Topics: Books & Publishing, Business, Chatbots, Chatgpt, Chegg, Code Assistants, Economics, Education, Finance, Gen AI, Job Automation, Jobs & Careerslabor Market, Language Models, Products, Stock Market, Stocks, Virtual Assistants)  "
      ]
     },
     "metadata": {},
     "output_type": "display_data"
    },
    {
     "name": "stderr",
     "output_type": "stream",
     "text": [
      "2024-11-09 18:00:07,808 - AInewsbot - INFO - {'topic_title': 'ChatGPT and Online Opportunities'}\n",
      "2024-11-09 18:00:07,808 - AInewsbot - INFO - I dub this cluster: ChatGPT and Online Opportunities\n"
     ]
    },
    {
     "data": {
      "text/html": [
       "<div>\n",
       "<style scoped>\n",
       "    .dataframe tbody tr th:only-of-type {\n",
       "        vertical-align: middle;\n",
       "    }\n",
       "\n",
       "    .dataframe tbody tr th {\n",
       "        vertical-align: top;\n",
       "    }\n",
       "\n",
       "    .dataframe thead th {\n",
       "        text-align: right;\n",
       "    }\n",
       "</style>\n",
       "<table border=\"1\" class=\"dataframe\">\n",
       "  <thead>\n",
       "    <tr style=\"text-align: right;\">\n",
       "      <th></th>\n",
       "      <th>id</th>\n",
       "      <th>title_topic_str</th>\n",
       "    </tr>\n",
       "  </thead>\n",
       "  <tbody>\n",
       "    <tr>\n",
       "      <th>3</th>\n",
       "      <td>3</td>\n",
       "      <td>Running Large Language Models Privately | by Robert Corwin | Oct, 2024 (Topics: Authors &amp; Writing, Cognitive Science, Gen AI, Language Models, Large Language Models, Opinion, Privacy, Privacy &amp; Surveillance, Research, Speech Recognition &amp; Synthesis)</td>\n",
       "    </tr>\n",
       "    <tr>\n",
       "      <th>4</th>\n",
       "      <td>4</td>\n",
       "      <td>Here are 3 critical LLM compression strategies to supercharge AI performance (Topics: Artificial General Intelligence, Cognitive Science, Compression Strategies, Gen AI, Language Models, Llm, Performance, Science, Speech Recognition &amp; Synthesis)</td>\n",
       "    </tr>\n",
       "    <tr>\n",
       "      <th>5</th>\n",
       "      <td>5</td>\n",
       "      <td>A Deep Dive into Small Language Models: Efficient Alternatives to Large Language Models for Real-Time Processing and Specialized Tasks (Topics: Cognitive Science, Efficiency, Gen AI, Language Models, Large Language Models, Real-Time Processing, Science, Small Language Models, Speech Recognition &amp; Synthesis)</td>\n",
       "    </tr>\n",
       "    <tr>\n",
       "      <th>6</th>\n",
       "      <td>6</td>\n",
       "      <td>Small Language Models Gaining Popularity While LLMs Still Go Strong (Topics: Cognitive Science, Gen AI, Language Models, Large Language Models, Popularity, Science, Small Language Models, Speech Recognition &amp; Synthesis)</td>\n",
       "    </tr>\n",
       "  </tbody>\n",
       "</table>\n",
       "</div>"
      ],
      "text/plain": [
       "   id  \\\n",
       "3   3   \n",
       "4   4   \n",
       "5   5   \n",
       "6   6   \n",
       "\n",
       "                                                                                                                                                                                                                                                                                                        title_topic_str  \n",
       "3                                                             Running Large Language Models Privately | by Robert Corwin | Oct, 2024 (Topics: Authors & Writing, Cognitive Science, Gen AI, Language Models, Large Language Models, Opinion, Privacy, Privacy & Surveillance, Research, Speech Recognition & Synthesis)  \n",
       "4                                                                 Here are 3 critical LLM compression strategies to supercharge AI performance (Topics: Artificial General Intelligence, Cognitive Science, Compression Strategies, Gen AI, Language Models, Llm, Performance, Science, Speech Recognition & Synthesis)  \n",
       "5  A Deep Dive into Small Language Models: Efficient Alternatives to Large Language Models for Real-Time Processing and Specialized Tasks (Topics: Cognitive Science, Efficiency, Gen AI, Language Models, Large Language Models, Real-Time Processing, Science, Small Language Models, Speech Recognition & Synthesis)  \n",
       "6                                                                                           Small Language Models Gaining Popularity While LLMs Still Go Strong (Topics: Cognitive Science, Gen AI, Language Models, Large Language Models, Popularity, Science, Small Language Models, Speech Recognition & Synthesis)  "
      ]
     },
     "metadata": {},
     "output_type": "display_data"
    },
    {
     "name": "stderr",
     "output_type": "stream",
     "text": [
      "2024-11-09 18:00:08,157 - AInewsbot - INFO - {'topic_title': 'Language Models and AI Performance'}\n",
      "2024-11-09 18:00:08,158 - AInewsbot - INFO - I dub this cluster: Language Models and AI Performance\n"
     ]
    },
    {
     "data": {
      "text/html": [
       "<div>\n",
       "<style scoped>\n",
       "    .dataframe tbody tr th:only-of-type {\n",
       "        vertical-align: middle;\n",
       "    }\n",
       "\n",
       "    .dataframe tbody tr th {\n",
       "        vertical-align: top;\n",
       "    }\n",
       "\n",
       "    .dataframe thead th {\n",
       "        text-align: right;\n",
       "    }\n",
       "</style>\n",
       "<table border=\"1\" class=\"dataframe\">\n",
       "  <thead>\n",
       "    <tr style=\"text-align: right;\">\n",
       "      <th></th>\n",
       "      <th>id</th>\n",
       "      <th>title_topic_str</th>\n",
       "    </tr>\n",
       "  </thead>\n",
       "  <tbody>\n",
       "    <tr>\n",
       "      <th>7</th>\n",
       "      <td>7</td>\n",
       "      <td>TSMC to Suspend AI Chips Production for China From November 11: Report (Topics: AI Chips, China, Economics, Gen AI, Governance, Hardware, Manufacturing, Policy And Regulation, Politics, Production, Products, Semiconductor Chips, Taiwan, Tsmc)</td>\n",
       "    </tr>\n",
       "    <tr>\n",
       "      <th>8</th>\n",
       "      <td>8</td>\n",
       "      <td>TSMC may stop producing AI chips for Chinese companies (Topics: AI Chips, China, Economics, Gen AI, Governance, Hardware, Manufacturing, Policy And Regulation, Politics, Products, Semiconductor Chips, Semiconductors, Taiwan, Tsmc)</td>\n",
       "    </tr>\n",
       "    <tr>\n",
       "      <th>9</th>\n",
       "      <td>9</td>\n",
       "      <td>The Taiwan Semiconductor Industry Association says Taiwan's semiconductor production is on track to increase 22% YoY to a record $165B in 2024 on AI demand (Topics: 2024, Economics, Economy, Finance, Gen AI, Hardware, Job Automation, Jobs &amp; Careerslabor Market, Manufacturing, Products, Semiconductor Chips, Semiconductor Production, Taiwan, Taiwan Semiconductor Industry Association)</td>\n",
       "    </tr>\n",
       "  </tbody>\n",
       "</table>\n",
       "</div>"
      ],
      "text/plain": [
       "   id  \\\n",
       "7   7   \n",
       "8   8   \n",
       "9   9   \n",
       "\n",
       "                                                                                                                                                                                                                                                                                                                                                                                    title_topic_str  \n",
       "7                                                                                                                                                TSMC to Suspend AI Chips Production for China From November 11: Report (Topics: AI Chips, China, Economics, Gen AI, Governance, Hardware, Manufacturing, Policy And Regulation, Politics, Production, Products, Semiconductor Chips, Taiwan, Tsmc)  \n",
       "8                                                                                                                                                            TSMC may stop producing AI chips for Chinese companies (Topics: AI Chips, China, Economics, Gen AI, Governance, Hardware, Manufacturing, Policy And Regulation, Politics, Products, Semiconductor Chips, Semiconductors, Taiwan, Tsmc)  \n",
       "9  The Taiwan Semiconductor Industry Association says Taiwan's semiconductor production is on track to increase 22% YoY to a record $165B in 2024 on AI demand (Topics: 2024, Economics, Economy, Finance, Gen AI, Hardware, Job Automation, Jobs & Careerslabor Market, Manufacturing, Products, Semiconductor Chips, Semiconductor Production, Taiwan, Taiwan Semiconductor Industry Association)  "
      ]
     },
     "metadata": {},
     "output_type": "display_data"
    },
    {
     "name": "stderr",
     "output_type": "stream",
     "text": [
      "2024-11-09 18:00:08,546 - AInewsbot - INFO - {'topic_title': 'Taiwan Semiconductor Industry and AI Chips'}\n",
      "2024-11-09 18:00:08,547 - AInewsbot - INFO - I dub this cluster: Taiwan Semiconductor Industry and AI Chips\n",
      "2024-11-09 18:00:08,569 - AInewsbot - INFO - Queuing URLs for scraping\n",
      "2024-11-09 18:00:08,571 - AInewsbot - INFO - fetching 52 pages using 4 browsers\n",
      "2024-11-09 18:00:08,572 - AInewsbot - INFO - get_driver - 32331 Initializing webdriver\n",
      "2024-11-09 18:00:08,572 - AInewsbot - INFO - get_driver - 32331 Initializing webdriver\n",
      "2024-11-09 18:00:08,573 - AInewsbot - INFO - get_driver - 32331 Initializing webdriver\n",
      "2024-11-09 18:00:08,573 - AInewsbot - INFO - get_driver - 32331 Initializing webdriver\n"
     ]
    },
    {
     "name": "stdout",
     "output_type": "stream",
     "text": [
      "['ChatGPT and Online Opportunities', 'Language Models and AI Performance', 'Taiwan Semiconductor Industry and AI Chips']\n"
     ]
    },
    {
     "name": "stderr",
     "output_type": "stream",
     "text": [
      "2024-11-09 18:00:28,129 - AInewsbot - INFO - get_driver - Initialized webdriver profile\n",
      "2024-11-09 18:00:28,130 - AInewsbot - INFO - get_driver - Initialized webdriver profile\n",
      "2024-11-09 18:00:28,130 - AInewsbot - INFO - get_driver - Initialized webdriver profile\n",
      "2024-11-09 18:00:28,130 - AInewsbot - INFO - get_driver - Initialized webdriver profile\n",
      "2024-11-09 18:00:28,130 - AInewsbot - INFO - get_driver - Initialized webdriver service\n",
      "2024-11-09 18:00:28,130 - AInewsbot - INFO - get_driver - Initialized webdriver service\n",
      "2024-11-09 18:00:28,131 - AInewsbot - INFO - get_driver - Initialized webdriver service\n",
      "2024-11-09 18:00:28,131 - AInewsbot - INFO - get_driver - Initialized webdriver service\n",
      "2024-11-09 18:01:36,003 - AInewsbot - INFO - get_driver - Initialized webdriver\n",
      "2024-11-09 18:01:36,046 - AInewsbot - INFO - Processing page 0: https://news.google.com/read/CBMiiAFBVV95cUxPM01Qa2ZGUHllTjdDNWkxRVdvYTFTYm5jNGdhRFhCU1B6YW9Kc1lyeHdBZ0JUQkdOVG5JbkdzTmJQNzRJS0hPTlM5c0JCaVZFRE51bGtvTnZlV01WVG9hZTU3RkFzTjJ0VWdXUEFmSXZIalhLVHpnT2lMbGRDNUZNc2o3eXAyR1Fz\n",
      "2024-11-09 18:01:36,048 - AInewsbot - INFO - get_url(https://news.google.com/read/CBMiiAFBVV95cUxPM01Qa2ZGUHllTjdDNWkxRVdvYTFTYm5jNGdhRFhCU1B6YW9Kc1lyeHdBZ0JUQkdOVG5JbkdzTmJQNzRJS0hPTlM5c0JCaVZFRE51bGtvTnZlV01WVG9hZTU3RkFzTjJ0VWdXUEFmSXZIalhLVHpnT2lMbGRDNUZNc2o3eXAyR1Fz) - starting get_url https://news.google.com/read/CBMiiAFBVV95cUxPM01Qa2ZGUHllTjdDNWkxRVdvYTFTYm5jNGdhRFhCU1B6YW9Kc1lyeHdBZ0JUQkdOVG5JbkdzTmJQNzRJS0hPTlM5c0JCaVZFRE51bGtvTnZlV01WVG9hZTU3RkFzTjJ0VWdXUEFmSXZIalhLVHpnT2lMbGRDNUZNc2o3eXAyR1Fz\n",
      "2024-11-09 18:01:39,105 - AInewsbot - INFO - get_driver - Initialized webdriver\n",
      "2024-11-09 18:01:39,109 - AInewsbot - INFO - Processing page 1: https://news.google.com/read/CBMioAFBVV95cUxORVpWOWRhT1ZuVk90QndDNDNWazRXVHNaTS00T2w4dlJFUTRjT2RfZF9ScGN1dWhCR28yeFNvcEtzTWdJTzdxZ1NBdVB3TV9WbGkzSVo4bDRaY01wd2dlZnVZQnh6V2F4bW9GU1JjakpHMGd1c0FSaG0xTmFlblp1ZEVtOUFOVF82WUloNjFUcFhwZHNBT0FfZVozLUI5dmxr\n",
      "2024-11-09 18:01:39,112 - AInewsbot - INFO - get_url(https://news.google.com/read/CBMioAFBVV95cUxORVpWOWRhT1ZuVk90QndDNDNWazRXVHNaTS00T2w4dlJFUTRjT2RfZF9ScGN1dWhCR28yeFNvcEtzTWdJTzdxZ1NBdVB3TV9WbGkzSVo4bDRaY01wd2dlZnVZQnh6V2F4bW9GU1JjakpHMGd1c0FSaG0xTmFlblp1ZEVtOUFOVF82WUloNjFUcFhwZHNBT0FfZVozLUI5dmxr) - starting get_url https://news.google.com/read/CBMioAFBVV95cUxORVpWOWRhT1ZuVk90QndDNDNWazRXVHNaTS00T2w4dlJFUTRjT2RfZF9ScGN1dWhCR28yeFNvcEtzTWdJTzdxZ1NBdVB3TV9WbGkzSVo4bDRaY01wd2dlZnVZQnh6V2F4bW9GU1JjakpHMGd1c0FSaG0xTmFlblp1ZEVtOUFOVF82WUloNjFUcFhwZHNBT0FfZVozLUI5dmxr\n",
      "2024-11-09 18:01:42,534 - AInewsbot - INFO - get_driver - Initialized webdriver\n",
      "2024-11-09 18:01:42,543 - AInewsbot - INFO - Processing page 2: https://gizmodo.com/chegg-is-on-its-last-legs-after-chatgpt-sent-its-stock-down-99-2000522585\n",
      "2024-11-09 18:01:42,545 - AInewsbot - INFO - get_url(https://gizmodo.com/chegg-is-on-its-last-legs-after-chatgpt-sent-its-stock-down-99-2000522585) - starting get_url https://gizmodo.com/chegg-is-on-its-last-legs-after-chatgpt-sent-its-stock-down-99-2000522585\n",
      "2024-11-09 18:01:43,748 - AInewsbot - INFO - get_driver - Initialized webdriver\n",
      "2024-11-09 18:01:43,783 - AInewsbot - INFO - Processing page 3: https://news.google.com/read/CBMixgFBVV95cUxPeGE2VFlFWkltUXIwV3pPM2pxTHM1STQyME1EWjVuRlp2aDR4djU3QVloVU5zSDZmd0lQSUdpOHdIeXZMQjM5UHp3Z3NwMjgyUkhheGNLbzFQb3F4LXFhUUNLeHJyaThVSEFwaDZJcnRRVTNNakhXQ2FrdkVVc0ZxS0FEZmZMMURqUjNxQW9jY3kyem1fRDJfMVdKbThBRTBvUEpoWVp0Um5CX25qU0RGNU56UE9Va21nbHJfYWZJeVA2M0tOMVE\n",
      "2024-11-09 18:01:43,785 - AInewsbot - INFO - get_url(https://news.google.com/read/CBMixgFBVV95cUxPeGE2VFlFWkltUXIwV3pPM2pxTHM1STQyME1EWjVuRlp2aDR4djU3QVloVU5zSDZmd0lQSUdpOHdIeXZMQjM5UHp3Z3NwMjgyUkhheGNLbzFQb3F4LXFhUUNLeHJyaThVSEFwaDZJcnRRVTNNakhXQ2FrdkVVc0ZxS0FEZmZMMURqUjNxQW9jY3kyem1fRDJfMVdKbThBRTBvUEpoWVp0Um5CX25qU0RGNU56UE9Va21nbHJfYWZJeVA2M0tOMVE) - starting get_url https://news.google.com/read/CBMixgFBVV95cUxPeGE2VFlFWkltUXIwV3pPM2pxTHM1STQyME1EWjVuRlp2aDR4djU3QVloVU5zSDZmd0lQSUdpOHdIeXZMQjM5UHp3Z3NwMjgyUkhheGNLbzFQb3F4LXFhUUNLeHJyaThVSEFwaDZJcnRRVTNNakhXQ2FrdkVVc0ZxS0FEZmZMMURqUjNxQW9jY3kyem1fRDJfMVdKbThBRTBvUEpoWVp0Um5CX25qU0RGNU56UE9Va21nbHJfYWZJeVA2M0tOMVE\n",
      "2024-11-09 18:01:46,874 - AInewsbot - INFO - get_url(I found these 5 tips helped me get the most out of ChatGPT Search) - Saving I_found_these_5_tips_helped_me_get_the_most_out_of_ChatGPT_Search.html as utf-8\n",
      "2024-11-09 18:01:46,896 - AInewsbot - INFO - Processing page 4: https://news.google.com/read/CBMipwFBVV95cUxPZmZUQ0V0aUllWHpIY3RndEM4cWhGOGdKSmo4eVBkTTE3aDRETmlfeTBwenhId1RuNDVvY2F1VDVqWnBmcWlvLTNzcFRSZlN6ZW5PZVVVOGZUdl9qNFJiM2J6djRUMDJjRTJWUG5vQWNzUzYxNlVja0NwUWFvNW5ESnlwNU5MaVlQcDBHT214R2NMTE5wSWtzeFFmRkE2OWdiVEp2ejVnNA\n",
      "2024-11-09 18:01:46,901 - AInewsbot - INFO - get_url(https://news.google.com/read/CBMipwFBVV95cUxPZmZUQ0V0aUllWHpIY3RndEM4cWhGOGdKSmo4eVBkTTE3aDRETmlfeTBwenhId1RuNDVvY2F1VDVqWnBmcWlvLTNzcFRSZlN6ZW5PZVVVOGZUdl9qNFJiM2J6djRUMDJjRTJWUG5vQWNzUzYxNlVja0NwUWFvNW5ESnlwNU5MaVlQcDBHT214R2NMTE5wSWtzeFFmRkE2OWdiVEp2ejVnNA) - starting get_url https://news.google.com/read/CBMipwFBVV95cUxPZmZUQ0V0aUllWHpIY3RndEM4cWhGOGdKSmo4eVBkTTE3aDRETmlfeTBwenhId1RuNDVvY2F1VDVqWnBmcWlvLTNzcFRSZlN6ZW5PZVVVOGZUdl9qNFJiM2J6djRUMDJjRTJWUG5vQWNzUzYxNlVja0NwUWFvNW5ESnlwNU5MaVlQcDBHT214R2NMTE5wSWtzeFFmRkE2OWdiVEp2ejVnNA\n",
      "2024-11-09 18:01:50,282 - AInewsbot - INFO - get_url(3 Ways To Use ChatGPT Search To Make Money Online In 2024) - Saving 3_Ways_To_Use_ChatGPT_Search_To_Make_Money_Online_In_2024.html as utf-8\n",
      "2024-11-09 18:01:50,288 - AInewsbot - INFO - Processing page 5: https://www.marktechpost.com/2024/11/09/a-deep-dive-into-small-language-models-efficient-alternatives-to-large-language-models-for-real-time-processing-and-specialized-tasks/\n",
      "2024-11-09 18:01:50,289 - AInewsbot - INFO - get_url(https://www.marktechpost.com/2024/11/09/a-deep-dive-into-small-language-models-efficient-alternatives-to-large-language-models-for-real-time-processing-and-specialized-tasks/) - starting get_url https://www.marktechpost.com/2024/11/09/a-deep-dive-into-small-language-models-efficient-alternatives-to-large-language-models-for-real-time-processing-and-specialized-tasks/\n",
      "2024-11-09 18:01:54,563 - AInewsbot - INFO - get_url(Running Large Language Models Privately | by Robert Corwin | Oct, 2024) - Saving Running_Large_Language_Models_Privately___by_Robert_Corwin___Oct__2024.html as utf-8\n",
      "2024-11-09 18:01:54,572 - AInewsbot - INFO - Processing page 6: https://news.google.com/read/CBMihAJBVV95cUxNYlp0RnQ2U25qTmxpR2JwOHBLWEd1dFc2cWFISGk3Zm5xMVdybm9MNzBFVzFQajZZQVBuRDI3Nzk5NDdpc3llc2U5bmY5Q2RtYmM1ZkpIM0hNemJDMFpGTm9OWl9VOFF1WjFELUlKV2prVnFZTFE0ZkF5WUItTGduZHFoNi1VSXVXSzNyVkkyeUtfOVVWQ1FwTThqZEg2cTU0TFVCYzlTY0c3ZXdJbWxJTWQ3NU1BamVUSEJsLWJWa1JPSTRQVDB1ekc3QmxTLWdQaWhzZG1Nbmd4STRwYUx4YkhnY3RCeW50eExKX3JHVVNJY3RPY3l6a1kteC1LZGl5Mm4xTg\n",
      "2024-11-09 18:01:54,576 - AInewsbot - INFO - get_url(https://news.google.com/read/CBMihAJBVV95cUxNYlp0RnQ2U25qTmxpR2JwOHBLWEd1dFc2cWFISGk3Zm5xMVdybm9MNzBFVzFQajZZQVBuRDI3Nzk5NDdpc3llc2U5bmY5Q2RtYmM1ZkpIM0hNemJDMFpGTm9OWl9VOFF1WjFELUlKV2prVnFZTFE0ZkF5WUItTGduZHFoNi1VSXVXSzNyVkkyeUtfOVVWQ1FwTThqZEg2cTU0TFVCYzlTY0c3ZXdJbWxJTWQ3NU1BamVUSEJsLWJWa1JPSTRQVDB1ekc3QmxTLWdQaWhzZG1Nbmd4STRwYUx4YkhnY3RCeW50eExKX3JHVVNJY3RPY3l6a1kteC1LZGl5Mm4xTg) - starting get_url https://news.google.com/read/CBMihAJBVV95cUxNYlp0RnQ2U25qTmxpR2JwOHBLWEd1dFc2cWFISGk3Zm5xMVdybm9MNzBFVzFQajZZQVBuRDI3Nzk5NDdpc3llc2U5bmY5Q2RtYmM1ZkpIM0hNemJDMFpGTm9OWl9VOFF1WjFELUlKV2prVnFZTFE0ZkF5WUItTGduZHFoNi1VSXVXSzNyVkkyeUtfOVVWQ1FwTThqZEg2cTU0TFVCYzlTY0c3ZXdJbWxJTWQ3NU1BamVUSEJsLWJWa1JPSTRQVDB1ekc3QmxTLWdQaWhzZG1Nbmd4STRwYUx4YkhnY3RCeW50eExKX3JHVVNJY3RPY3l6a1kteC1LZGl5Mm4xTg\n",
      "2024-11-09 18:01:55,604 - AInewsbot - INFO - get_url(Chegg Is On Its Last Legs After ChatGPT Sent Its Stock Down 99%) - Saving Chegg_Is_On_Its_Last_Legs_After_ChatGPT_Sent_Its_Stock_Down_99_.html as utf-8\n",
      "2024-11-09 18:01:55,606 - AInewsbot - INFO - Processing page 7: https://www.gadgets360.com/ai/news/tsmc-suspend-advanced-ai-chip-production-china-report-6981141\n",
      "2024-11-09 18:01:55,606 - AInewsbot - INFO - get_url(https://www.gadgets360.com/ai/news/tsmc-suspend-advanced-ai-chip-production-china-report-6981141) - starting get_url https://www.gadgets360.com/ai/news/tsmc-suspend-advanced-ai-chip-production-china-report-6981141\n"
     ]
    },
    {
     "name": "stderr",
     "output_type": "stream",
     "text": [
      "2024-11-09 18:01:57,673 - AInewsbot - INFO - get_url(Here are 3 critical LLM compression strategies to supercharge AI performance) - Saving Here_are_3_critical_LLM_compression_strategies_to_supercharge_AI_performance.html as utf-8\n",
      "2024-11-09 18:01:57,674 - AInewsbot - INFO - Processing page 8: https://www.androidheadlines.com/2024/11/tsmc-may-stop-producing-ai-chips-for-chinese-companies.html\n",
      "2024-11-09 18:01:57,674 - AInewsbot - INFO - get_url(https://www.androidheadlines.com/2024/11/tsmc-may-stop-producing-ai-chips-for-chinese-companies.html) - starting get_url https://www.androidheadlines.com/2024/11/tsmc-may-stop-producing-ai-chips-for-chinese-companies.html\n",
      "2024-11-09 18:02:04,676 - AInewsbot - INFO - get_url(A Deep Dive into Small Language Models: Efficient Alternatives to Large Language Models for Real-Time Processing and Specialized Tasks) - Saving A_Deep_Dive_into_Small_Language_Models__Efficient_Alternatives_to_Large_Language_Models_for_Real-Time_Processing_and_Specialized_Tasks.html as utf-8\n",
      "2024-11-09 18:02:04,678 - AInewsbot - INFO - Processing page 9: https://t.co/LHrQIaHRfq\n",
      "2024-11-09 18:02:04,678 - AInewsbot - INFO - get_url(https://t.co/LHrQIaHRfq) - starting get_url https://t.co/LHrQIaHRfq\n",
      "2024-11-09 18:02:04,913 - AInewsbot - INFO - get_url(Small Language Models Gaining Popularity While LLMs Still Go Strong) - Saving Small_Language_Models_Gaining_Popularity_While_LLMs_Still_Go_Strong.html as utf-8\n",
      "2024-11-09 18:02:04,915 - AInewsbot - INFO - Processing page 10: https://news.google.com/read/CBMicEFVX3lxTE1oOW5JdFI0bWpJYkVMVS1fR21jLU83YXlQUVpGQzFEakJsYUZMVV80RFdyYXp4ZWZhLVZaSTJobVRNRVlhNTM5T2VtYzhwSkVLck9YSlczdGhXcnJTeFJzTTFzMDlyLTI3OVpvMW9WUjE\n",
      "2024-11-09 18:02:04,916 - AInewsbot - INFO - get_url(https://news.google.com/read/CBMicEFVX3lxTE1oOW5JdFI0bWpJYkVMVS1fR21jLU83YXlQUVpGQzFEakJsYUZMVV80RFdyYXp4ZWZhLVZaSTJobVRNRVlhNTM5T2VtYzhwSkVLck9YSlczdGhXcnJTeFJzTTFzMDlyLTI3OVpvMW9WUjE) - starting get_url https://news.google.com/read/CBMicEFVX3lxTE1oOW5JdFI0bWpJYkVMVS1fR21jLU83YXlQUVpGQzFEakJsYUZMVV80RFdyYXp4ZWZhLVZaSTJobVRNRVlhNTM5T2VtYzhwSkVLck9YSlczdGhXcnJTeFJzTTFzMDlyLTI3OVpvMW9WUjE\n",
      "2024-11-09 18:02:09,369 - AInewsbot - INFO - get_url(TSMC may stop producing AI chips for Chinese companies) - Saving TSMC_may_stop_producing_AI_chips_for_Chinese_companies.html as utf-8\n",
      "2024-11-09 18:02:09,371 - AInewsbot - INFO - Processing page 11: https://www.msn.com/en-gb/health/other/ai-readi-consortium-launches-groundbreaking-diabetes-data-study/ar-AA1tKPLh\n",
      "2024-11-09 18:02:09,371 - AInewsbot - INFO - get_url(https://www.msn.com/en-gb/health/other/ai-readi-consortium-launches-groundbreaking-diabetes-data-study/ar-AA1tKPLh) - starting get_url https://www.msn.com/en-gb/health/other/ai-readi-consortium-launches-groundbreaking-diabetes-data-study/ar-AA1tKPLh\n",
      "2024-11-09 18:02:15,340 - AInewsbot - INFO - get_url(AI groups rush to redesign model testing and create new benchmarks) - Saving AI_groups_rush_to_redesign_model_testing_and_create_new_benchmarks.html as utf-8\n",
      "2024-11-09 18:02:15,341 - AInewsbot - INFO - Processing page 12: https://www.yahoo.com/tech/openai-backs-robots-amazon-palantirs-100000753.html\n",
      "2024-11-09 18:02:15,341 - AInewsbot - INFO - get_url(https://www.yahoo.com/tech/openai-backs-robots-amazon-palantirs-100000753.html) - starting get_url https://www.yahoo.com/tech/openai-backs-robots-amazon-palantirs-100000753.html\n",
      "2024-11-09 18:02:20,370 - AInewsbot - INFO - get_url(The Taiwan Semiconductor Industry Association says Taiwan's semiconductor production is on track to increase 22% YoY to a record $165B in 2024 on AI demand) - Saving The_Taiwan_Semiconductor_Industry_Association_says_Taiwan_s_semiconductor_production_is_on_track_to_increase_22__YoY_to_a_record__165B_in_2024_on_AI_demand.html as utf-8\n",
      "2024-11-09 18:02:20,372 - AInewsbot - INFO - Processing page 13: https://news.google.com/read/CBMiYkFVX3lxTE04bzJkYXhEU3RfRmhvYzZHUDEwc0hCd0djUlpRV19OU1c1cVB0LXRFRmhIUnJWby1pUkYxdGV6RGxWc3o0UlRQXzJOMl9zc29OOGFMNU1rV0xlVlBMOGhkVlRB\n",
      "2024-11-09 18:02:20,372 - AInewsbot - INFO - get_url(https://news.google.com/read/CBMiYkFVX3lxTE04bzJkYXhEU3RfRmhvYzZHUDEwc0hCd0djUlpRV19OU1c1cVB0LXRFRmhIUnJWby1pUkYxdGV6RGxWc3o0UlRQXzJOMl9zc29OOGFMNU1rV0xlVlBMOGhkVlRB) - starting get_url https://news.google.com/read/CBMiYkFVX3lxTE04bzJkYXhEU3RfRmhvYzZHUDEwc0hCd0djUlpRV19OU1c1cVB0LXRFRmhIUnJWby1pUkYxdGV6RGxWc3o0UlRQXzJOMl9zc29OOGFMNU1rV0xlVlBMOGhkVlRB\n",
      "2024-11-09 18:02:21,237 - AInewsbot - INFO - get_url(AI-READI consortium launches groundbreaking diabetes data study) - Saving AI-READI_consortium_launches_groundbreaking_diabetes_data_study.html as utf-8\n",
      "2024-11-09 18:02:21,240 - AInewsbot - INFO - Processing page 14: https://phys.org/news/2024-10-machine-analysis-tracks-evolution-16th.html\n",
      "2024-11-09 18:02:21,240 - AInewsbot - INFO - get_url(https://phys.org/news/2024-10-machine-analysis-tracks-evolution-16th.html) - starting get_url https://phys.org/news/2024-10-machine-analysis-tracks-evolution-16th.html\n",
      "2024-11-09 18:02:26,461 - AInewsbot - INFO - get_url(OpenAI backs robots, Amazon and Palantir's defense deal, Saudi Arabia's $100 billion bet: This week's AI launches) - Saving OpenAI_backs_robots__Amazon_and_Palantir_s_defense_deal__Saudi_Arabia_s__100_billion_bet__This_week_s_AI_launches.html as utf-8\n",
      "2024-11-09 18:02:26,463 - AInewsbot - INFO - Processing page 15: https://fstoppers.com/artificial-intelligence/headshot-photographers-ai-about-eat-your-lunch-684878\n",
      "2024-11-09 18:02:26,464 - AInewsbot - INFO - get_url(https://fstoppers.com/artificial-intelligence/headshot-photographers-ai-about-eat-your-lunch-684878) - starting get_url https://fstoppers.com/artificial-intelligence/headshot-photographers-ai-about-eat-your-lunch-684878\n",
      "2024-11-09 18:02:27,265 - AInewsbot - INFO - get_url(TSMC to Suspend AI Chips Production for China From November 11: Report) - Saving TSMC_to_Suspend_AI_Chips_Production_for_China_From_November_11__Report.html as utf-8\n",
      "2024-11-09 18:02:27,267 - AInewsbot - INFO - Processing page 16: https://wccftech.com/openai-escaped-copyright-laws\n",
      "2024-11-09 18:02:27,267 - AInewsbot - INFO - get_url(https://wccftech.com/openai-escaped-copyright-laws) - starting get_url https://wccftech.com/openai-escaped-copyright-laws\n",
      "2024-11-09 18:02:30,880 - AInewsbot - INFO - get_url(Goodbye Google? How to use ChatGPTs new web search.) - Saving Goodbye_Google__How_to_use_ChatGPTs_new_web_search_.html as utf-8\n",
      "2024-11-09 18:02:30,881 - AInewsbot - INFO - Processing page 17: https://www.msn.com/en-us/travel/news/can-ai-stop-ships-from-killing-thousands-of-whales-each-year/ar-AA1tNAzZ\n",
      "2024-11-09 18:02:30,881 - AInewsbot - INFO - get_url(https://www.msn.com/en-us/travel/news/can-ai-stop-ships-from-killing-thousands-of-whales-each-year/ar-AA1tNAzZ) - starting get_url https://www.msn.com/en-us/travel/news/can-ai-stop-ships-from-killing-thousands-of-whales-each-year/ar-AA1tNAzZ\n",
      "2024-11-09 18:02:34,176 - AInewsbot - INFO - get_url(ML analysis tracks the evolution of 16th-century European astronomical thought) - Saving ML_analysis_tracks_the_evolution_of_16th-century_European_astronomical_thought.html as utf-8\n",
      "2024-11-09 18:02:34,178 - AInewsbot - INFO - Processing page 18: https://www.forbes.com/sites/johnwerner/2024/11/09/can-ai-and-your-heart-rate-data-help-you-to-flourish/\n",
      "2024-11-09 18:02:34,178 - AInewsbot - INFO - get_url(https://www.forbes.com/sites/johnwerner/2024/11/09/can-ai-and-your-heart-rate-data-help-you-to-flourish/) - starting get_url https://www.forbes.com/sites/johnwerner/2024/11/09/can-ai-and-your-heart-rate-data-help-you-to-flourish/\n",
      "2024-11-09 18:02:38,167 - AInewsbot - INFO - get_url(Headshot Photographers: AI Is About To Eat Your Lunch) - Saving Headshot_Photographers__AI_Is_About_To_Eat_Your_Lunch.html as utf-8\n",
      "2024-11-09 18:02:38,168 - AInewsbot - INFO - Processing page 19: https://finance.yahoo.com/news/warren-buffetts-ai-bets-24-111800171.html\n",
      "2024-11-09 18:02:38,168 - AInewsbot - INFO - get_url(https://finance.yahoo.com/news/warren-buffetts-ai-bets-24-111800171.html) - starting get_url https://finance.yahoo.com/news/warren-buffetts-ai-bets-24-111800171.html\n",
      "2024-11-09 18:02:38,797 - AInewsbot - INFO - get_url(OpenAI Has, For Now, Escaped Copyright Lawsuit Filed Against It Regarding Its Use Of News Articles Without Consent To Train ChatGPT) - Saving OpenAI_Has__For_Now__Escaped_Copyright_Lawsuit_Filed_Against_It_Regarding_Its_Use_Of_News_Articles_Without_Consent_To_Train_ChatGPT.html as utf-8\n"
     ]
    },
    {
     "name": "stderr",
     "output_type": "stream",
     "text": [
      "2024-11-09 18:02:38,798 - AInewsbot - INFO - Processing page 20: https://www.bleepingcomputer.com/news/microsoft/hands-on-with-ai-features-in-windows-11-paint-and-notepad/\n",
      "2024-11-09 18:02:38,798 - AInewsbot - INFO - get_url(https://www.bleepingcomputer.com/news/microsoft/hands-on-with-ai-features-in-windows-11-paint-and-notepad/) - starting get_url https://www.bleepingcomputer.com/news/microsoft/hands-on-with-ai-features-in-windows-11-paint-and-notepad/\n",
      "2024-11-09 18:02:41,383 - AInewsbot - INFO - get_url(Can AI stop ships from killing thousands of whales each year?) - Saving Can_AI_stop_ships_from_killing_thousands_of_whales_each_year_.html as utf-8\n",
      "2024-11-09 18:02:41,384 - AInewsbot - INFO - Processing page 21: https://news.google.com/read/CBMimgFBVV95cUxOX2ZnTHBsNHgxbmtMc1EtNDY3ZFRhN2taWktCRmkwYzdCcFFtbjl3Q1htVS1vUkJBS3piaVgxRmhhMUg1MUhjTW0ta2pNb19TMWx5cV9vYk81b0Q2MEtwRkVld25pTWlTUnJHbTdmQUFRNUFCM29JeWd5LVVyQjJjRXA2VGRqaldJRHZoMjZWVklEVFE5S0owdHdn\n",
      "2024-11-09 18:02:41,384 - AInewsbot - INFO - get_url(https://news.google.com/read/CBMimgFBVV95cUxOX2ZnTHBsNHgxbmtMc1EtNDY3ZFRhN2taWktCRmkwYzdCcFFtbjl3Q1htVS1vUkJBS3piaVgxRmhhMUg1MUhjTW0ta2pNb19TMWx5cV9vYk81b0Q2MEtwRkVld25pTWlTUnJHbTdmQUFRNUFCM29JeWd5LVVyQjJjRXA2VGRqaldJRHZoMjZWVklEVFE5S0owdHdn) - starting get_url https://news.google.com/read/CBMimgFBVV95cUxOX2ZnTHBsNHgxbmtMc1EtNDY3ZFRhN2taWktCRmkwYzdCcFFtbjl3Q1htVS1vUkJBS3piaVgxRmhhMUg1MUhjTW0ta2pNb19TMWx5cV9vYk81b0Q2MEtwRkVld25pTWlTUnJHbTdmQUFRNUFCM29JeWd5LVVyQjJjRXA2VGRqaldJRHZoMjZWVklEVFE5S0owdHdn\n",
      "2024-11-09 18:02:47,159 - AInewsbot - INFO - get_url(Can AI And Your Heart Rate Data Help You To Flourish?) - Saving Can_AI_And_Your_Heart_Rate_Data_Help_You_To_Flourish_.html as utf-8\n",
      "2024-11-09 18:02:47,165 - AInewsbot - INFO - Processing page 22: https://www.nbcnews.com/tech/chatgpt-rejected-image-generations-presidential-candidates-rcna179469\n",
      "2024-11-09 18:02:47,168 - AInewsbot - INFO - get_url(https://www.nbcnews.com/tech/chatgpt-rejected-image-generations-presidential-candidates-rcna179469) - starting get_url https://www.nbcnews.com/tech/chatgpt-rejected-image-generations-presidential-candidates-rcna179469\n",
      "2024-11-09 18:02:50,955 - AInewsbot - INFO - get_url(Warren Buffett's AI Bets: 24.1% of Berkshire Hathaway's $287 Billion Stock Portfolio Is Invested in These 2 Artificial Intelligence Stocks) - Saving Warren_Buffett_s_AI_Bets__24_1__of_Berkshire_Hathaway_s__287_Billion_Stock_Portfolio_Is_Invested_in_These_2_Artificial_Intelligence_Stocks.html as utf-8\n",
      "2024-11-09 18:02:50,959 - AInewsbot - INFO - Processing page 23: https://siliconangle.com/2024/11/08/unifyapps-reels-20m-ai-powered-application-platform\n",
      "2024-11-09 18:02:50,960 - AInewsbot - INFO - get_url(https://siliconangle.com/2024/11/08/unifyapps-reels-20m-ai-powered-application-platform) - starting get_url https://siliconangle.com/2024/11/08/unifyapps-reels-20m-ai-powered-application-platform\n",
      "2024-11-09 18:02:51,828 - AInewsbot - INFO - get_url(The Beatles final song, restored using AI, is up for a Grammy) - Saving The_Beatles_final_song__restored_using_AI__is_up_for_a_Grammy.html as utf-8\n",
      "2024-11-09 18:02:51,829 - AInewsbot - INFO - Processing page 24: https://kyivindependent.com/american-ai-company-vantiq-launches-project-to-develop-smart-cities-in-ukraine/\n",
      "2024-11-09 18:02:51,829 - AInewsbot - INFO - get_url(https://kyivindependent.com/american-ai-company-vantiq-launches-project-to-develop-smart-cities-in-ukraine/) - starting get_url https://kyivindependent.com/american-ai-company-vantiq-launches-project-to-develop-smart-cities-in-ukraine/\n",
      "2024-11-09 18:02:52,866 - AInewsbot - INFO - get_url(Hands on with AI features in Windows 11 Paint and Notepad) - Saving Hands_on_with_AI_features_in_Windows_11_Paint_and_Notepad.html as utf-8\n",
      "2024-11-09 18:02:52,866 - AInewsbot - INFO - Processing page 25: https://www.marktechpost.com/2024/11/09/gemini-ai-now-accessible-through-the-openai-library-for-streamlined-use/\n",
      "2024-11-09 18:02:52,867 - AInewsbot - INFO - get_url(https://www.marktechpost.com/2024/11/09/gemini-ai-now-accessible-through-the-openai-library-for-streamlined-use/) - starting get_url https://www.marktechpost.com/2024/11/09/gemini-ai-now-accessible-through-the-openai-library-for-streamlined-use/\n",
      "2024-11-09 18:03:01,945 - AInewsbot - INFO - get_url(ChatGPT rejected more than 250,000 image generations of presidential candidates prior to Election Day) - Saving ChatGPT_rejected_more_than_250_000_image_generations_of_presidential_candidates_prior_to_Election_Day.html as utf-8\n",
      "2024-11-09 18:03:01,947 - AInewsbot - INFO - Processing page 26: https://siliconangle.com/2024/11/08/federal-court-sides-openai-ai-copyright-lawsuit\n",
      "2024-11-09 18:03:01,947 - AInewsbot - INFO - get_url(https://siliconangle.com/2024/11/08/federal-court-sides-openai-ai-copyright-lawsuit) - starting get_url https://siliconangle.com/2024/11/08/federal-court-sides-openai-ai-copyright-lawsuit\n",
      "2024-11-09 18:03:04,188 - AInewsbot - INFO - get_url(American AI company Vantiq launches project to develop smart cities in Ukraine) - Saving American_AI_company_Vantiq_launches_project_to_develop_smart_cities_in_Ukraine.html as utf-8\n",
      "2024-11-09 18:03:04,190 - AInewsbot - INFO - Processing page 27: https://www.techradar.com/pro/new-fanless-cooling-technology-enhances-energy-efficiency-for-ai-workloads-by-achieving-a-90-percent-reduction-in-cooling-power-consumption\n",
      "2024-11-09 18:03:04,190 - AInewsbot - INFO - get_url(https://www.techradar.com/pro/new-fanless-cooling-technology-enhances-energy-efficiency-for-ai-workloads-by-achieving-a-90-percent-reduction-in-cooling-power-consumption) - starting get_url https://www.techradar.com/pro/new-fanless-cooling-technology-enhances-energy-efficiency-for-ai-workloads-by-achieving-a-90-percent-reduction-in-cooling-power-consumption\n",
      "2024-11-09 18:03:07,327 - AInewsbot - INFO - get_url(Gemini AI Now Accessible Through the OpenAI Library for Streamlined Use) - Saving Gemini_AI_Now_Accessible_Through_the_OpenAI_Library_for_Streamlined_Use.html as utf-8\n",
      "2024-11-09 18:03:07,328 - AInewsbot - INFO - Processing page 28: https://epochai.org/frontiermath/the-benchmark\n",
      "2024-11-09 18:03:07,329 - AInewsbot - INFO - get_url(https://epochai.org/frontiermath/the-benchmark) - starting get_url https://epochai.org/frontiermath/the-benchmark\n",
      "2024-11-09 18:03:17,380 - AInewsbot - INFO - get_url(New fanless cooling technology enhances energy efficiency for AI workloads by achieving a 90% reduction in cooling power consumption) - Saving New_fanless_cooling_technology_enhances_energy_efficiency_for_AI_workloads_by_achieving_a_90__reduction_in_cooling_power_consumption.html as utf-8\n",
      "2024-11-09 18:03:17,382 - AInewsbot - INFO - Processing page 29: https://www.washingtonpost.com/technology/2024/11/09/ai-deepfakes-us-election\n",
      "2024-11-09 18:03:17,383 - AInewsbot - INFO - get_url(https://www.washingtonpost.com/technology/2024/11/09/ai-deepfakes-us-election) - starting get_url https://www.washingtonpost.com/technology/2024/11/09/ai-deepfakes-us-election\n",
      "2024-11-09 18:03:18,060 - AInewsbot - INFO - get_url(FrontierMath: A benchmark for evaluating advanced mathematical reasoning in AI) - Saving FrontierMath__A_benchmark_for_evaluating_advanced_mathematical_reasoning_in_AI.html as utf-8\n",
      "2024-11-09 18:03:18,061 - AInewsbot - INFO - Processing page 30: https://ca.finance.yahoo.com/news/ofcom-warns-tech-firms-chatbots-060040536.html\n",
      "2024-11-09 18:03:18,062 - AInewsbot - INFO - get_url(https://ca.finance.yahoo.com/news/ofcom-warns-tech-firms-chatbots-060040536.html) - starting get_url https://ca.finance.yahoo.com/news/ofcom-warns-tech-firms-chatbots-060040536.html\n",
      "2024-11-09 18:03:22,853 - AInewsbot - INFO - get_url(Federal court sides with OpenAI in AI copyright lawsuit) - Saving Federal_court_sides_with_OpenAI_in_AI_copyright_lawsuit.html as utf-8\n",
      "2024-11-09 18:03:22,854 - AInewsbot - INFO - Processing page 31: https://medium.com/enrique-dans/at-last-it-seems-the-law-recognizes-that-ai-synthesizes-not-copies-8489ba5616df\n",
      "2024-11-09 18:03:22,854 - AInewsbot - INFO - get_url(https://medium.com/enrique-dans/at-last-it-seems-the-law-recognizes-that-ai-synthesizes-not-copies-8489ba5616df) - starting get_url https://medium.com/enrique-dans/at-last-it-seems-the-law-recognizes-that-ai-synthesizes-not-copies-8489ba5616df\n"
     ]
    },
    {
     "name": "stderr",
     "output_type": "stream",
     "text": [
      "2024-11-09 18:03:25,724 - AInewsbot - INFO - get_url(UnifyApps reels in $20M for its AI-powered application platform) - Saving UnifyApps_reels_in__20M_for_its_AI-powered_application_platform.html as utf-8\n",
      "2024-11-09 18:03:25,725 - AInewsbot - INFO - Processing page 32: https://news.google.com/read/CBMihAFBVV95cUxQVXc5RmhoN2NSZEFtSVVsd01KeDM3SzFyR2RNSnExTGdEaGhzdnZoaG0zTmE2RlNtMGRsb1RldlZMbzk3cHJleklQZjBoUElfR2FWRVFCZ2xmYzdUa3BxcG1JZTQteVAxYldqSGFUR3dfdVhfYmpCYlBoNEdDYllEZUF6OHA\n",
      "2024-11-09 18:03:25,725 - AInewsbot - INFO - get_url(https://news.google.com/read/CBMihAFBVV95cUxQVXc5RmhoN2NSZEFtSVVsd01KeDM3SzFyR2RNSnExTGdEaGhzdnZoaG0zTmE2RlNtMGRsb1RldlZMbzk3cHJleklQZjBoUElfR2FWRVFCZ2xmYzdUa3BxcG1JZTQteVAxYldqSGFUR3dfdVhfYmpCYlBoNEdDYllEZUF6OHA) - starting get_url https://news.google.com/read/CBMihAFBVV95cUxQVXc5RmhoN2NSZEFtSVVsd01KeDM3SzFyR2RNSnExTGdEaGhzdnZoaG0zTmE2RlNtMGRsb1RldlZMbzk3cHJleklQZjBoUElfR2FWRVFCZ2xmYzdUa3BxcG1JZTQteVAxYldqSGFUR3dfdVhfYmpCYlBoNEdDYllEZUF6OHA\n",
      "2024-11-09 18:03:29,811 - AInewsbot - INFO - get_url(Ofcom warns tech firms after chatbots imitate Brianna Ghey and Molly Russell) - Saving Ofcom_warns_tech_firms_after_chatbots_imitate_Brianna_Ghey_and_Molly_Russell.html as utf-8\n",
      "2024-11-09 18:03:29,813 - AInewsbot - INFO - Processing page 33: https://finance.yahoo.com/news/ebay-inc-ebay-secret-dominating-195907555.html\n",
      "2024-11-09 18:03:29,814 - AInewsbot - INFO - get_url(https://finance.yahoo.com/news/ebay-inc-ebay-secret-dominating-195907555.html) - starting get_url https://finance.yahoo.com/news/ebay-inc-ebay-secret-dominating-195907555.html\n",
      "2024-11-09 18:03:30,176 - AInewsbot - INFO - get_url(AI didn't sway the election, but it deepened the partisan divide) - Saving AI_didn_t_sway_the_election__but_it_deepened_the_partisan_divide.html as utf-8\n",
      "2024-11-09 18:03:30,178 - AInewsbot - INFO - Processing page 34: https://finance.yahoo.com/news/cloud-computing-market-grow-usd-222000832.html\n",
      "2024-11-09 18:03:30,178 - AInewsbot - INFO - get_url(https://finance.yahoo.com/news/cloud-computing-market-grow-usd-222000832.html) - starting get_url https://finance.yahoo.com/news/cloud-computing-market-grow-usd-222000832.html\n",
      "2024-11-09 18:03:33,555 - AInewsbot - INFO - get_url(At last, it seems the law recognizes that AI synthesizes, not copies) - Saving At_last__it_seems_the_law_recognizes_that_AI_synthesizes__not_copies.html as utf-8\n",
      "2024-11-09 18:03:33,556 - AInewsbot - INFO - Processing page 35: https://edition.cnn.com/2024/11/08/business/microsoft-paint-artificial-intelligence/index.html\n",
      "2024-11-09 18:03:33,556 - AInewsbot - INFO - get_url(https://edition.cnn.com/2024/11/08/business/microsoft-paint-artificial-intelligence/index.html) - starting get_url https://edition.cnn.com/2024/11/08/business/microsoft-paint-artificial-intelligence/index.html\n",
      "2024-11-09 18:03:36,237 - AInewsbot - INFO - get_url(AI didnt sway the election, but it deepened the partisan divide) - Saving AI_didnt_sway_the_election__but_it_deepened_the_partisan_divide.html as utf-8\n",
      "2024-11-09 18:03:36,239 - AInewsbot - INFO - Processing page 36: https://wccftech.com/openai-ceo-sam-altman-predicts-agi-could-appear-within-five-years\n",
      "2024-11-09 18:03:36,239 - AInewsbot - INFO - get_url(https://wccftech.com/openai-ceo-sam-altman-predicts-agi-could-appear-within-five-years) - starting get_url https://wccftech.com/openai-ceo-sam-altman-predicts-agi-could-appear-within-five-years\n",
      "2024-11-09 18:03:41,322 - AInewsbot - INFO - get_url(eBay Inc. (EBAY)'s Secret to Dominating Internet Retail: AI Innovations and Revenue Growth) - Saving eBay_Inc___EBAY__s_Secret_to_Dominating_Internet_Retail__AI_Innovations_and_Revenue_Growth.html as utf-8\n",
      "2024-11-09 18:03:41,323 - AInewsbot - INFO - Processing page 37: https://crazystupidtech.com/archive/with-ai-the-future-of-augmented-reality-is-in/\n",
      "2024-11-09 18:03:41,323 - AInewsbot - INFO - get_url(https://crazystupidtech.com/archive/with-ai-the-future-of-augmented-reality-is-in/) - starting get_url https://crazystupidtech.com/archive/with-ai-the-future-of-augmented-reality-is-in/\n",
      "2024-11-09 18:03:42,398 - AInewsbot - INFO - get_url(Cloud Computing Market to Grow by USD 404.7 Billion from 2024-2028, as Cost-Cutting Drives Adoption with AI Driving Market Transformation) - Saving Cloud_Computing_Market_to_Grow_by_USD_404_7_Billion_from_2024-2028__as_Cost-Cutting_Drives_Adoption_with_AI_Driving_Market_Transformation.html as utf-8\n",
      "2024-11-09 18:03:42,402 - AInewsbot - INFO - Processing page 38: https://www.businessinsider.com/chatgpt-openai-denied-requests-generate-images-candidates-election-trump-harris-2024-11\n",
      "2024-11-09 18:03:42,404 - AInewsbot - INFO - get_url(https://www.businessinsider.com/chatgpt-openai-denied-requests-generate-images-candidates-election-trump-harris-2024-11) - starting get_url https://www.businessinsider.com/chatgpt-openai-denied-requests-generate-images-candidates-election-trump-harris-2024-11\n",
      "2024-11-09 18:03:45,922 - AInewsbot - INFO - get_url(Microsoft added AI to software it has barely touched since 1985. The results are astonishing) - Saving Microsoft_added_AI_to_software_it_has_barely_touched_since_1985__The_results_are_astonishing.html as utf-8\n",
      "2024-11-09 18:03:45,926 - AInewsbot - INFO - Processing page 39: https://www.bleepingcomputer.com/news/google/google-says-enhanced-protection-feature-in-chrome-now-uses-ai/\n",
      "2024-11-09 18:03:45,926 - AInewsbot - INFO - get_url(https://www.bleepingcomputer.com/news/google/google-says-enhanced-protection-feature-in-chrome-now-uses-ai/) - starting get_url https://www.bleepingcomputer.com/news/google/google-says-enhanced-protection-feature-in-chrome-now-uses-ai/\n",
      "2024-11-09 18:03:48,104 - AInewsbot - INFO - get_url(OpenAI's CEO Sam Altman Predicts AGI Could Appear Within Five Years, With Far Less Impact On Society Than Most Expect) - Saving OpenAI_s_CEO_Sam_Altman_Predicts_AGI_Could_Appear_Within_Five_Years__With_Far_Less_Impact_On_Society_Than_Most_Expect.html as utf-8\n",
      "2024-11-09 18:03:48,105 - AInewsbot - INFO - Processing page 40: https://news.google.com/read/CBMimAFBVV95cUxQTlVTenpaQkJxNUxUYURoLVZNV25KQjhYOHVySlg1OFAxTDVlNGw3cWtuQTdLVzF4cnV3Q2k3RDFxVkJnRDVxU1hPVEhxMzlQZHdjWTc2d3NwYWNZWUQzNEZLeXdMTUdodDNiOVF6YURNSDk5Mzl1VHlsdFBXNmphMFZ1bkdVdzl0ekZ0MWc5Q3VFOHJtQkhPSg\n",
      "2024-11-09 18:03:48,105 - AInewsbot - INFO - get_url(https://news.google.com/read/CBMimAFBVV95cUxQTlVTenpaQkJxNUxUYURoLVZNV25KQjhYOHVySlg1OFAxTDVlNGw3cWtuQTdLVzF4cnV3Q2k3RDFxVkJnRDVxU1hPVEhxMzlQZHdjWTc2d3NwYWNZWUQzNEZLeXdMTUdodDNiOVF6YURNSDk5Mzl1VHlsdFBXNmphMFZ1bkdVdzl0ekZ0MWc5Q3VFOHJtQkhPSg) - starting get_url https://news.google.com/read/CBMimAFBVV95cUxQTlVTenpaQkJxNUxUYURoLVZNV25KQjhYOHVySlg1OFAxTDVlNGw3cWtuQTdLVzF4cnV3Q2k3RDFxVkJnRDVxU1hPVEhxMzlQZHdjWTc2d3NwYWNZWUQzNEZLeXdMTUdodDNiOVF6YURNSDk5Mzl1VHlsdFBXNmphMFZ1bkdVdzl0ekZ0MWc5Q3VFOHJtQkhPSg\n",
      "2024-11-09 18:03:52,636 - AInewsbot - INFO - get_url(Om Malik  With AI, the Future of Augmented Reality Is in Your Ears) - Saving Om_Malik__With_AI__the_Future_of_Augmented_Reality_Is_in_Your_Ears.html as utf-8\n",
      "2024-11-09 18:03:52,637 - AInewsbot - INFO - Processing page 41: https://www.techradar.com/pro/samsung-plans-record-breaking-400-layer-nand-chip-that-could-be-key-to-breaking-200tb-barrier-for-ultra-large-capacity-ai-hyperscaler-ssds\n",
      "2024-11-09 18:03:52,637 - AInewsbot - INFO - get_url(https://www.techradar.com/pro/samsung-plans-record-breaking-400-layer-nand-chip-that-could-be-key-to-breaking-200tb-barrier-for-ultra-large-capacity-ai-hyperscaler-ssds) - starting get_url https://www.techradar.com/pro/samsung-plans-record-breaking-400-layer-nand-chip-that-could-be-key-to-breaking-200tb-barrier-for-ultra-large-capacity-ai-hyperscaler-ssds\n",
      "2024-11-09 18:03:52,833 - AInewsbot - INFO - get_url(ChatGPT denied 250,000 requests to generate deepfake images of candidates in the month before the election) - Saving ChatGPT_denied_250_000_requests_to_generate_deepfake_images_of_candidates_in_the_month_before_the_election.html as utf-8\n",
      "2024-11-09 18:03:52,835 - AInewsbot - INFO - Processing page 42: https://neurosciencenews.com/ai-long-covid-28003/\n",
      "2024-11-09 18:03:52,837 - AInewsbot - INFO - get_url(https://neurosciencenews.com/ai-long-covid-28003/) - starting get_url https://neurosciencenews.com/ai-long-covid-28003/\n"
     ]
    },
    {
     "name": "stderr",
     "output_type": "stream",
     "text": [
      "2024-11-09 18:03:58,465 - AInewsbot - INFO - get_url(AI companies get comfortable offering their technology to the military) - Saving AI_companies_get_comfortable_offering_their_technology_to_the_military.html as utf-8\n",
      "2024-11-09 18:03:58,475 - AInewsbot - INFO - Processing page 43: https://ca.news.yahoo.com/vancouver-high-school-students-create-130000179.html\n",
      "2024-11-09 18:03:58,480 - AInewsbot - INFO - get_url(https://ca.news.yahoo.com/vancouver-high-school-students-create-130000179.html) - starting get_url https://ca.news.yahoo.com/vancouver-high-school-students-create-130000179.html\n",
      "2024-11-09 18:03:59,593 - AInewsbot - INFO - get_url(Google says Enhanced protection feature in Chrome now uses AI) - Saving Google_says_Enhanced_protection_feature_in_Chrome_now_uses_AI.html as utf-8\n",
      "2024-11-09 18:03:59,593 - AInewsbot - INFO - Processing page 44: https://gizmodo.com/scientists-are-testing-ai-that-could-detect-pain-in-goats-just-by-their-facial-expressions-2000522501\n",
      "2024-11-09 18:03:59,594 - AInewsbot - INFO - get_url(https://gizmodo.com/scientists-are-testing-ai-that-could-detect-pain-in-goats-just-by-their-facial-expressions-2000522501) - starting get_url https://gizmodo.com/scientists-are-testing-ai-that-could-detect-pain-in-goats-just-by-their-facial-expressions-2000522501\n",
      "2024-11-09 18:04:04,163 - AInewsbot - INFO - get_url(AI Tool Reveals Long COVID May Affect 23% of People) - Saving AI_Tool_Reveals_Long_COVID_May_Affect_23__of_People.html as utf-8\n",
      "2024-11-09 18:04:04,164 - AInewsbot - INFO - Processing page 45: https://news.google.com/read/CBMirAFBVV95cUxNWmZGV284amdOOVJWUl9nWFFYZTZCZzA3Z3c3eGJGUW04aUh2QndhRWpPcmdrY3d3MlVWLWV0WDNFVDdQRlo1U1dFOUp3M0hvZXVoN3dpVWRVcDVTQWY1Ym1rMHdreE9ZdW1ZOFZWc3BwOVlQZFEtZFplTm41SHlKazNKdlMzNFc1WXMyTTltOEVqOHMxZlRwUlFtdXE1MDZRTmxTb0E4WlFNZV9F\n",
      "2024-11-09 18:04:04,164 - AInewsbot - INFO - get_url(https://news.google.com/read/CBMirAFBVV95cUxNWmZGV284amdOOVJWUl9nWFFYZTZCZzA3Z3c3eGJGUW04aUh2QndhRWpPcmdrY3d3MlVWLWV0WDNFVDdQRlo1U1dFOUp3M0hvZXVoN3dpVWRVcDVTQWY1Ym1rMHdreE9ZdW1ZOFZWc3BwOVlQZFEtZFplTm41SHlKazNKdlMzNFc1WXMyTTltOEVqOHMxZlRwUlFtdXE1MDZRTmxTb0E4WlFNZV9F) - starting get_url https://news.google.com/read/CBMirAFBVV95cUxNWmZGV284amdOOVJWUl9nWFFYZTZCZzA3Z3c3eGJGUW04aUh2QndhRWpPcmdrY3d3MlVWLWV0WDNFVDdQRlo1U1dFOUp3M0hvZXVoN3dpVWRVcDVTQWY1Ym1rMHdreE9ZdW1ZOFZWc3BwOVlQZFEtZFplTm41SHlKazNKdlMzNFc1WXMyTTltOEVqOHMxZlRwUlFtdXE1MDZRTmxTb0E4WlFNZV9F\n",
      "2024-11-09 18:04:05,749 - AInewsbot - INFO - get_url(Samsung plans record-breaking 400-layer NAND chip that could be key to breaking 200TB barrier for ultra large capacity AI hyperscaler SSDs) - Saving Samsung_plans_record-breaking_400-layer_NAND_chip_that_could_be_key_to_breaking_200TB_barrier_for_ultra_large_capacity_AI_hyperscaler_SSDs.html as utf-8\n",
      "2024-11-09 18:04:05,752 - AInewsbot - INFO - Processing page 46: https://www.theinformation.com/articles/openai-shifts-strategy-as-rate-of-gpt-ai-improvements-slows\n",
      "2024-11-09 18:04:05,752 - AInewsbot - INFO - get_url(https://www.theinformation.com/articles/openai-shifts-strategy-as-rate-of-gpt-ai-improvements-slows) - starting get_url https://www.theinformation.com/articles/openai-shifts-strategy-as-rate-of-gpt-ai-improvements-slows\n",
      "2024-11-09 18:04:09,586 - AInewsbot - INFO - get_url(Vancouver high school students create intelligent garbage cans to help sort waste) - Saving Vancouver_high_school_students_create_intelligent_garbage_cans_to_help_sort_waste.html as utf-8\n",
      "2024-11-09 18:04:09,588 - AInewsbot - INFO - Processing page 47: https://www.androidpolice.com/google-meet-ai-backgrounds-android-demo/\n",
      "2024-11-09 18:04:09,588 - AInewsbot - INFO - get_url(https://www.androidpolice.com/google-meet-ai-backgrounds-android-demo/) - starting get_url https://www.androidpolice.com/google-meet-ai-backgrounds-android-demo/\n",
      "2024-11-09 18:04:12,741 - AInewsbot - INFO - get_url(Scientists Are Testing AI That Could Detect Pain in Goats Just By Their Facial Expressions) - Saving Scientists_Are_Testing_AI_That_Could_Detect_Pain_in_Goats_Just_By_Their_Facial_Expressions.html as utf-8\n",
      "2024-11-09 18:04:12,743 - AInewsbot - INFO - Processing page 48: https://news.google.com/read/CBMixAFBVV95cUxNbm5xQkxHTTM3Q2YwN3ctelpOM0I5Z0tWWE1rV1JTM3p1a29zNl9URkFkZTRDUG1ocjZzMzhqUzBLaTlUQUZQMUViYnA1dEc0QktFNkVQREROSkJtX1BpNWhvbjhFOFBnbWI2MmZWMG1Hbk5zWFF1NnlycnBHWUNXUnJTeGt0eThibm4tN0tELTc5U1RYelZaRHp1czdHR1FFNUhhcXE0OXdxY1o3QVRMZ1J6aThhRF9TUlhVRDZtT1UxX2s2\n",
      "2024-11-09 18:04:12,743 - AInewsbot - INFO - get_url(https://news.google.com/read/CBMixAFBVV95cUxNbm5xQkxHTTM3Q2YwN3ctelpOM0I5Z0tWWE1rV1JTM3p1a29zNl9URkFkZTRDUG1ocjZzMzhqUzBLaTlUQUZQMUViYnA1dEc0QktFNkVQREROSkJtX1BpNWhvbjhFOFBnbWI2MmZWMG1Hbk5zWFF1NnlycnBHWUNXUnJTeGt0eThibm4tN0tELTc5U1RYelZaRHp1czdHR1FFNUhhcXE0OXdxY1o3QVRMZ1J6aThhRF9TUlhVRDZtT1UxX2s2) - starting get_url https://news.google.com/read/CBMixAFBVV95cUxNbm5xQkxHTTM3Q2YwN3ctelpOM0I5Z0tWWE1rV1JTM3p1a29zNl9URkFkZTRDUG1ocjZzMzhqUzBLaTlUQUZQMUViYnA1dEc0QktFNkVQREROSkJtX1BpNWhvbjhFOFBnbWI2MmZWMG1Hbk5zWFF1NnlycnBHWUNXUnJTeGt0eThibm4tN0tELTc5U1RYelZaRHp1czdHR1FFNUhhcXE0OXdxY1o3QVRMZ1J6aThhRF9TUlhVRDZtT1UxX2s2\n",
      "2024-11-09 18:04:14,661 - AInewsbot - INFO - get_url(Claude AI to process secret government data through new Palantir deal) - Saving Claude_AI_to_process_secret_government_data_through_new_Palantir_deal.html as utf-8\n",
      "2024-11-09 18:04:14,662 - AInewsbot - INFO - Processing page 49: https://news.google.com/read/CBMikwFBVV95cUxNWWxzQUgweHY3SWVYM1hOLUdrQXJuMmJVbFJHWmtDenJrRWVNRUtKRDZvdWh4U3JHNjRWTGJBRDBVZzBULUI2UzNVdGpXTGJBVUR1c2VnYUFnMU9xMGZIVU1lNmdNYXhzZGh3Z3JvQUxId2tyTTZYUnd1TW9UU2xxRkRsUl9QRV8xNVc5TkVaZWN4dDA\n",
      "2024-11-09 18:04:14,663 - AInewsbot - INFO - get_url(https://news.google.com/read/CBMikwFBVV95cUxNWWxzQUgweHY3SWVYM1hOLUdrQXJuMmJVbFJHWmtDenJrRWVNRUtKRDZvdWh4U3JHNjRWTGJBRDBVZzBULUI2UzNVdGpXTGJBVUR1c2VnYUFnMU9xMGZIVU1lNmdNYXhzZGh3Z3JvQUxId2tyTTZYUnd1TW9UU2xxRkRsUl9QRV8xNVc5TkVaZWN4dDA) - starting get_url https://news.google.com/read/CBMikwFBVV95cUxNWWxzQUgweHY3SWVYM1hOLUdrQXJuMmJVbFJHWmtDenJrRWVNRUtKRDZvdWh4U3JHNjRWTGJBRDBVZzBULUI2UzNVdGpXTGJBVUR1c2VnYUFnMU9xMGZIVU1lNmdNYXhzZGh3Z3JvQUxId2tyTTZYUnd1TW9UU2xxRkRsUl9QRV8xNVc5TkVaZWN4dDA\n",
      "2024-11-09 18:04:17,219 - AInewsbot - INFO - get_url(Sources: the jump in quality from GPT-4 to Orion is far smaller than the jump from GPT-3 to GPT-4; Orion may not outperform predecessors in tasks like coding (The Information)) - Saving Sources__the_jump_in_quality_from_GPT-4_to_Orion_is_far_smaller_than_the_jump_from_GPT-3_to_GPT-4__Orion_may_not_outperform_predecessors_in_tasks_like_coding__The_Information_.html as utf-8\n",
      "2024-11-09 18:04:17,222 - AInewsbot - INFO - Processing page 50: https://www.techradar.com/pro/how-agentic-ai-will-revolutionize-business-operations-are-you-ready\n",
      "2024-11-09 18:04:17,223 - AInewsbot - INFO - get_url(https://www.techradar.com/pro/how-agentic-ai-will-revolutionize-business-operations-are-you-ready) - starting get_url https://www.techradar.com/pro/how-agentic-ai-will-revolutionize-business-operations-are-you-ready\n",
      "2024-11-09 18:04:21,852 - AInewsbot - INFO - get_url(Here's your first look at Google Meet's AI backgrounds on Android) - Saving Here_s_your_first_look_at_Google_Meet_s_AI_backgrounds_on_Android.html as utf-8\n",
      "2024-11-09 18:04:21,853 - AInewsbot - INFO - Processing page 51: https://jackcook.com/2024/11/09/bigger-fish.html\n",
      "2024-11-09 18:04:21,853 - AInewsbot - INFO - get_url(https://jackcook.com/2024/11/09/bigger-fish.html) - starting get_url https://jackcook.com/2024/11/09/bigger-fish.html\n",
      "2024-11-09 18:04:23,365 - AInewsbot - INFO - get_url(Why is AI unable to predict disasters like Spains flash flooding in time?) - Saving Why_is_AI_unable_to_predict_disasters_like_Spains_flash_flooding_in_time_.html as utf-8\n",
      "2024-11-09 18:04:23,366 - AInewsbot - INFO - Quit webdriver\n",
      "2024-11-09 18:04:25,015 - AInewsbot - INFO - get_url(I Compared ChatGPT Search and Google, and Google Should Be Worried) - Saving I_Compared_ChatGPT_Search_and_Google__and_Google_Should_Be_Worried.html as utf-8\n",
      "2024-11-09 18:04:25,016 - AInewsbot - INFO - Quit webdriver\n",
      "2024-11-09 18:04:29,047 - AInewsbot - INFO - get_url(How Agentic AI will revolutionize business operations  are you ready?) - Saving How_Agentic_AI_will_revolutionize_business_operations__are_you_ready_.html as utf-8\n"
     ]
    },
    {
     "name": "stderr",
     "output_type": "stream",
     "text": [
      "2024-11-09 18:04:29,050 - AInewsbot - INFO - Quit webdriver\n",
      "2024-11-09 18:04:29,125 - AInewsbot - INFO - 13 pages saved\n",
      "2024-11-09 18:04:31,776 - AInewsbot - INFO - 14 pages saved\n",
      "2024-11-09 18:04:33,064 - AInewsbot - INFO - get_url(When machine learning tells the wrong story) - Saving When_machine_learning_tells_the_wrong_story.html as utf-8\n",
      "2024-11-09 18:04:33,077 - AInewsbot - INFO - Quit webdriver\n",
      "2024-11-09 18:04:34,953 - AInewsbot - INFO - 12 pages saved\n",
      "2024-11-09 18:04:37,921 - AInewsbot - INFO - 13 pages saved\n",
      "2024-11-09 18:04:37,923 - AInewsbot - INFO - returned 52\n",
      "2024-11-09 18:04:37,969 - AInewsbot - INFO - Starting summarize\n",
      "2024-11-09 18:04:38,015 - AInewsbot - INFO - fetch_all_summaries - Page title: I found these 5 tips helped me get the most out of ChatGPT Search | Tom's Guide\n",
      "Social card title: I found these 5 tips helped me get the most out of ChatGPT Search\n",
      "Social card description: Have a chat with your search engine\n",
      "\n",
      "2024-11-09 18:04:38,161 - AInewsbot - INFO - fetch_all_summaries - Page title: 3 Ways To Use ChatGPT Search To Make Money Online In 2024\n",
      "Social card title: 3 Ways To Use ChatGPT Search To Make Money Online In 2024\n",
      "Social card description: With the arrival of ChatGPT's newest feature—ChatGPT Search—how can you use this tool to boost your income? Here are 3 ideas to make money online with ChatGPT.\n",
      "\n",
      "2024-11-09 18:04:38,208 - AInewsbot - INFO - fetch_all_summaries - Page title: Chegg Is On Its Last Legs After ChatGPT Sent Its Stock Down 99%\n",
      "Social card title: Chegg Is On Its Last Legs After ChatGPT Sent Its Stock Down 99%\n",
      "Social card description: After seeing its stock fall 99%, there are doubts the online education company will soon be able to pay its debts.\n",
      "\n",
      "2024-11-09 18:04:38,248 - AInewsbot - INFO - fetch_all_summaries - Page title: Running Large Language Models Privately | by Robert Corwin | Oct, 2024 | Towards Data Science\n",
      "Social card title: Running Large Language Models Privately\n",
      "Social card description: A comparison of frameworks, models, and costs\n",
      "\n",
      "2024-11-09 18:04:38,305 - AInewsbot - INFO - fetch_all_summaries - Page title: Here are 3 critical LLM compression strategies to supercharge AI performance | VentureBeat\n",
      "Social card title: Here are 3 critical LLM compression strategies to supercharge AI performance\n",
      "Social card description: How techniques like model pruning, quantization and knowledge distillation can optimize LLMs for faster, cheaper predictions.\n",
      "\n",
      "2024-11-09 18:04:38,336 - AInewsbot - INFO - fetch_all_summaries - Page title: A Deep Dive into Small Language Models: Efficient Alternatives to Large Language Models for Real-Time Processing and Specialized Tasks - MarkTechPost\n",
      "Social card title: A Deep Dive into Small Language Models: Efficient Alternatives to Large Language Models for Real-Time Processing and Specialized Tasks\n",
      "Social card description: AI has made significant strides in developing large language models (LLMs) that excel in complex tasks such as text generation, summarization, and conversational AI. Models like LaPM 540B and Llama-3.1 405B demonstrate advanced language processing abilities, yet their computational demands limit their applicability in real-world, resource-constrained environments. These LLMs are often cloud-based, requiring extensive GPU memory and hardware, which raises privacy concerns and prevents immediate on-device deployment. In contrast, small language models (SLMs) are being explored as an efficient and adaptable alternative, capable of performing domain-specific tasks with lower computational requirements. The primary challenge with LLMs, as addressed by SLMs,\n",
      "\n",
      "2024-11-09 18:04:38,706 - AInewsbot - INFO - fetch_all_summaries - Page title: Small Language Models Gaining Popularity While LLMs Still Go Strong\n",
      "Social card title: Small Language Models Gaining Popularity While LLMs Still Go Strong\n",
      "Social card description: Generative AI is currently dominated with large language models. The advent of small language models has huge promise. Here's the scoop.\n",
      "\n",
      "2024-11-09 18:04:38,759 - AInewsbot - INFO - fetch_all_summaries - Page title: TSMC to Suspend Production of Advanced AI Chips for China From November 11: Report | Technology News\n",
      "Social card title: TSMC to Suspend AI Chips Production for China From November 11: Report\n",
      "Social card description: TSMC reportedly told Chinese customers it would no longer manufacture AI chips at advanced process nodes of 7nm or smaller.\n",
      "\n",
      "2024-11-09 18:04:38,843 - AInewsbot - INFO - fetch_all_summaries - Page title: TSMC may stop producing AI chips for Chinese companies\n",
      "Social card title: TSMC may stop producing AI chips for Chinese companies\n",
      "Social card description: A recent report claims that TSMC has stopped producing AI chips for companies from China following the “Huawei incident.”\n",
      "\n",
      "2024-11-09 18:04:38,889 - AInewsbot - INFO - fetch_all_summaries - Page title: Taiwan chip output to hit record $165bn on AI demand - Nikkei Asia\n",
      "Social card title: Taiwan chip output to hit record $165bn on AI demand\n",
      "Social card description: TSMC exec predicts cooperation with U.S. to continue under second Trump term\n",
      "\n",
      "2024-11-09 18:04:38,928 - AInewsbot - INFO - fetch_all_summaries - Page title: AI groups rush to redesign model testing and create new benchmarks\n",
      "Social card title: AI groups rush to redesign model testing and create new benchmarks\n",
      "Social card description: Rapidly advancing technology is surpassing current methods of evaluating and comparing large language models\n",
      "\n",
      "2024-11-09 18:04:38,955 - AInewsbot - INFO - fetch_all_summaries - Page title: AI-READI consortium launches groundbreaking diabetes data study\n",
      "Social card title: AI-READI consortium launches groundbreaking diabetes data study\n",
      "Social card description: Researchers today (Nov. 8, 2024) are releasing the flagship dataset from an ambitious study of biomarkers and environmental factors that might influence the development of type 2 diabetes. Because the study participants include people with no diabetes and others with various stages of the condit...\n",
      "\n",
      "2024-11-09 18:04:39,010 - AInewsbot - INFO - fetch_all_summaries - Page title: OpenAI backs robots, Amazon and Palantir's defense deal, Saudi Arabia's $100 billion bet: This week's AI launches\n",
      "Social card title: OpenAI backs robots, Amazon and Palantir's defense deal, Saudi Arabia's $100 billion bet: This week's AI launches\n",
      "Social card description: Each week, Quartz rounds up product launches, updates, and funding news from artificial intelligence-focused startups and companies.\n",
      "\n",
      "2024-11-09 18:04:39,093 - AInewsbot - INFO - fetch_all_summaries - Page title: Goodbye Google? How to use ChatGPT's new web search. | Popular Science\n",
      "Social card title: Goodbye Google? How to use ChatGPT's new web search.\n",
      "Social card description: Get your answers from the web via AI.\n",
      "\n",
      "2024-11-09 18:04:39,126 - AInewsbot - INFO - fetch_all_summaries - Page title: Machine-learning analysis tracks the evolution of 16th-century European astronomical thought\n",
      "Social card title: Machine-learning analysis tracks the evolution of 16th-century European astronomical thought\n",
      "Social card description: A team of computer scientists, astronomers and historians in Berlin has used machine-learning applications to learn more about the evolutionary history of European astronomical thought in the 15th and 16th centuries. In their study published in the journal Science Advances, the group trained machine-learning applications to make sense of hand-written texts, graphs, charts and other data from textbooks of the era.\n",
      "\n",
      "2024-11-09 18:04:39,235 - AInewsbot - INFO - fetch_all_summaries - Page title: Headshot Photographers: AI Is About To Eat Your Lunch | Fstoppers\n",
      "Social card title: Headshot Photographers: AI Is About To Eat Your Lunch\n",
      "Social card description: A friend sent me an advertisement for AI-generated headshots recently, and I was surprised by how good the images looked. It got me thinking about the future of headshot photography. The images in the advertisement were much better than any I have seen so far, which is to be expected. The question many of us continue to ask is, should we as photographers be worried? The answer is, of course, yes. And there are too many industries to count that are beginning to understand that artificial intelligence is going to have a major impact on their businesses.\n",
      "\n"
     ]
    },
    {
     "name": "stderr",
     "output_type": "stream",
     "text": [
      "2024-11-09 18:04:39,255 - AInewsbot - INFO - fetch_all_summaries - Page title: OpenAI Has, For Now, Escaped Copyright Lawsuit Filed Against It Regarding Its Use Of News Articles Without Consent To Train ChatGPT\n",
      "Social card title: OpenAI Has, For Now, Escaped Copyright Lawsuit Filed Against It Regarding Its Use Of News Articles Without Consent To Train ChatGPT\n",
      "Social card description: A Reuters report revealed that OpenAI has been able to escape a copyright lawsuit against it for training its AI models.\n",
      "\n",
      "2024-11-09 18:04:39,266 - AInewsbot - INFO - fetch_all_summaries - Page title: Can AI stop ships from killing thousands of whales each year?\n",
      "Social card title: Can AI stop ships from killing thousands of whales each year?\n",
      "Social card description: With an estimated 20,000 whales dying from ship strikes each year, the Woods Hole Oceanographic Institution in Falmouth, Mass. is working to use artificial intelligence and thermal-imaging cameras to diminish these unnecessary deaths.\n",
      "\n",
      "2024-11-09 18:04:39,289 - AInewsbot - INFO - fetch_all_summaries - Page title: Can AI And Your Heart Rate Data Help You To Flourish?\n",
      "Social card title: Can AI And Your Heart Rate Data Help You To Flourish?\n",
      "Social card description: People may soon be able to get better results from their bodies with vitals tracking. \n",
      "\n",
      "2024-11-09 18:04:39,361 - AInewsbot - INFO - fetch_all_summaries - Page title: Warren Buffett's AI Bets: 24.1% of Berkshire Hathaway's $287 Billion Stock Portfolio Is Invested in These 2 Artificial Intelligence Stocks\n",
      "Social card title: Warren Buffett's AI Bets: 24.1% of Berkshire Hathaway's $287 Billion Stock Portfolio Is Invested in These 2 Artificial Intelligence Stocks\n",
      "Social card description: Looking to profit from the rise of artificial intelligence? Here's how Buffett is playing the trend.\n",
      "\n",
      "2024-11-09 18:04:39,436 - AInewsbot - INFO - fetch_all_summaries - Page title: Hands on with AI features in Windows 11 Paint and Notepad\n",
      "Social card title: Hands on with AI features in Windows 11 Paint and Notepad\n",
      "Social card description: As part of its efforts to add AI everywhere, Microsoft is now bringing AI features to the popular Paint and Notepad apps on Windows 11.\n",
      "\n",
      "2024-11-09 18:04:39,459 - AInewsbot - INFO - fetch_all_summaries - Page title: The Beatles’ final song, restored using AI, is up for a Grammy - The Verge\n",
      "Social card title: The Beatles’ final song, restored using AI, is up for a Grammy\n",
      "Social card description: It’s taking on “Texas Hold ‘Em.”\n",
      "\n",
      "2024-11-09 18:04:39,493 - AInewsbot - INFO - fetch_all_summaries - Page title: ChatGPT rejected more than 250,000 image generations of presidential candidates prior to Election Day\n",
      "Social card title: ChatGPT rejected more than 250,000 image generations of presidential candidates prior to Election Day\n",
      "Social card description: The rise of generative artificial intelligence has led to concerns about how misinformation created using the technology could affect the numerous elections in 2024. \n",
      "\n",
      "2024-11-09 18:04:39,535 - AInewsbot - INFO - fetch_all_summaries - Page title: UnifyApps reels in $20M for its AI-powered application platform - SiliconANGLE\n",
      "Social card title: UnifyApps reels in $20M for its AI-powered application platform - SiliconANGLE\n",
      "Social card description: UnifyApps reels in $20M for its AI-powered application platform - SiliconANGLE\n",
      "\n",
      "2024-11-09 18:04:39,579 - AInewsbot - INFO - fetch_all_summaries - Page title: American AI company Vantiq launches project to develop smart cities in Ukraine\n",
      "Social card title: American AI company Vantiq launches project to develop smart cities in Ukraine\n",
      "Social card description: The memorandum of understanding will establish over 100 industrial parks across Ukraine, impacting the lives of 2.5 million citizens, and helping create “hyper-modern” cities.\n",
      "\n",
      "2024-11-09 18:04:39,746 - AInewsbot - INFO - fetch_all_summaries - Page title: Gemini AI Now Accessible Through the OpenAI Library for Streamlined Use - MarkTechPost\n",
      "Social card title: Gemini AI Now Accessible Through the OpenAI Library for Streamlined Use\n",
      "Social card description: In an exciting update for developers, Google has launched Gemini, a new AI model that promises to be more accessible and developer-friendly. Gemini, designed to rival models like OpenAI's GPT-4, has been made easier to access and integrate into various applications, thanks to Google's recent initiatives. If you're a developer exploring powerful alternatives or complementary tools to OpenAI, here's why Gemini might be the right fit. Gemini Joins OpenAI Library: Streamlining Access Google's Gemini is now accessible through the OpenAI library, providing a seamless experience for developers already familiar with OpenAI's tools. This integration enables developers to leverage Gemini directly\n",
      "\n",
      "2024-11-09 18:04:39,785 - AInewsbot - INFO - fetch_all_summaries - Page title: Federal court sides with OpenAI in AI copyright lawsuit - SiliconANGLE\n",
      "Social card title: Federal court sides with OpenAI in AI copyright lawsuit - SiliconANGLE\n",
      "Social card description: Federal court sides with OpenAI in AI copyright lawsuit - SiliconANGLE\n",
      "\n",
      "2024-11-09 18:04:39,825 - AInewsbot - INFO - fetch_all_summaries - Page title: New fanless cooling technology enhances energy efficiency for AI workloads by achieving a 90% reduction in cooling power consumption | TechRadar\n",
      "Social card title: New fanless cooling technology enhances energy efficiency for AI workloads by achieving a 90% reduction in cooling power consumption\n",
      "Social card description: A 100% fanless cooling technology\n",
      "\n",
      "2024-11-09 18:04:39,874 - AInewsbot - INFO - fetch_all_summaries - Page title: FrontierMath: Evaluating Advanced Mathematical Reasoning in AI | Epoch AI | Epoch AI\n",
      "Social card title: FrontierMath: A Benchmark for Evaluating Advanced Mathematical Reasoning in AI\n",
      "Social card description: FrontierMath: a new benchmark of expert-level math problems designed to measure AI’s mathematical abilities. See how leading AI models perform against the collective mathematics community.\n",
      "\n",
      "2024-11-09 18:04:39,909 - AInewsbot - INFO - fetch_all_summaries - Page title: AI didn’t sway the election, but it’s eroding voters’ grip on reality - The Washington Post\n",
      "Social card title: AI didn’t sway the election, but it deepened the partisan divide\n",
      "Social card description: Artificial intelligence was predicted to disrupt the 2024 election. It ended up shaking people’s faith in truth rather than influencing their vote.\n",
      "\n",
      "2024-11-09 18:04:39,960 - AInewsbot - INFO - fetch_all_summaries - Page title: Ofcom warns tech firms after chatbots imitate Brianna Ghey and Molly Russell\n",
      "Social card title: Ofcom warns tech firms after chatbots imitate Brianna Ghey and Molly Russell\n",
      "Social card description: After ‘distressing incidents’, watchdog says content from user-made bots would be covered by UK Online Safety Act\n",
      "\n",
      "2024-11-09 18:04:40,007 - AInewsbot - INFO - fetch_all_summaries - Page title: At last, it seems the law recognizes that AI synthesizes, not copies | by Enrique Dans | Enrique Dans | Nov, 2024 | Medium\n",
      "Social card title: At last, it seems the law recognizes that AI synthesizes, not copies\n",
      "Social card description: OpenAI, and by proxy, generative AI as a whole, has won the first round of the court fight brought by Raw Story Media Inc. and Alternet…\n",
      "\n",
      "2024-11-09 18:04:40,047 - AInewsbot - INFO - fetch_all_summaries - Page title: AI didn’t sway the election, but it’s eroding voters’ grip on reality - The Washington Post\n",
      "Social card title: AI didn’t sway the election, but it deepened the partisan divide\n",
      "Social card description: Artificial intelligence was predicted to disrupt the 2024 election. It ended up shaking people’s faith in truth rather than influencing their vote.\n",
      "\n",
      "2024-11-09 18:04:40,109 - AInewsbot - INFO - fetch_all_summaries - Page title: eBay Inc. (EBAY)’s Secret to Dominating Internet Retail: AI Innovations and Revenue Growth\n",
      "Social card title: eBay Inc. (EBAY)’s Secret to Dominating Internet Retail: AI Innovations and Revenue Growth\n",
      "Social card description: We recently published a list of 10 Best Internet Retail Stocks to Buy Now. In this article, we are going to take a look at where eBay Inc. (NASDAQ:EBAY) stands against other best internet retail stocks to buy now. What’s Happening In The Internet Retail Sector? According to a report published by FTI Consulting, the […]\n",
      "\n"
     ]
    },
    {
     "name": "stderr",
     "output_type": "stream",
     "text": [
      "2024-11-09 18:04:40,217 - AInewsbot - INFO - fetch_all_summaries - Page title: Cloud Computing Market to Grow by USD 404.7 Billion from 2024-2028, as Cost-Cutting Drives Adoption with AI Driving Market Transformation - Technavio\n",
      "Social card title: Cloud Computing Market to Grow by USD 404.7 Billion from 2024-2028, as Cost-Cutting Drives Adoption with AI Driving Market Transformation - Technavio\n",
      "Social card description: Report with the AI impact on market trends - The global cloud computing market size is estimated to grow by USD 404.7 billion from 2024-2028, according to Technavio. The market is estimated to grow at a CAGR of 15.19% during the forecast period. Increased inclination toward cloud computing for cost-cutting is driving market growth, with a trend towards increased inclination for private cloud for enhanced data security. However, system integration issues poses a challenge. Key market players incl\n",
      "\n",
      "2024-11-09 18:04:40,325 - AInewsbot - INFO - fetch_all_summaries - Page title: Microsoft added AI to software it has barely touched since 1985. The results are astonishing | CNN Business\n",
      "Social card title: Microsoft added AI to software it has barely touched since 1985. The results are astonishing | CNN Business\n",
      "Social card description: If your artistic style is more stick-figure than Picasso, Microsoft has a remedy to boost your creativity: adding artificial intelligence to its Paint application.\n",
      "\n",
      "2024-11-09 18:04:40,399 - AInewsbot - INFO - fetch_all_summaries - Page title: OpenAI's CEO Sam Altman Predicts AGI Could Appear Within Five Years, With Far Less Impact On Society Than Most Expect\n",
      "Social card title: OpenAI's CEO Sam Altman Predicts AGI Could Appear Within Five Years, With Far Less Impact On Society Than Most Expect\n",
      "Social card description: OpenAI's Sam Altman has recently revealed that AGI could be here in the next five years. However, the impact on society would be little.\n",
      "\n",
      "2024-11-09 18:04:40,411 - AInewsbot - INFO - fetch_all_summaries - Page title: With AI, the Future of Augmented Reality is in Your Ears\n",
      "Social card title: With AI, the Future of Augmented Reality is in Your Ears\n",
      "Social card description: By Om Malik Dennis Crowley has built his career at the intersection of emerging technologies and human behavior. Twenty years ago, as a 25-year-old inspired...\n",
      "\n",
      "2024-11-09 18:04:40,438 - AInewsbot - INFO - fetch_all_summaries - Page title: ChatGPT Denied Over 250,000 Requests to Generate Images of Candidates - Business Insider\n",
      "Social card title: ChatGPT denied 250,000 requests to generate deepfake images of candidates in the month before the election\n",
      "Social card description: In an effort to fight deepfakes during a contentious election, ChatGPT denied over 250,000 requests to create images of candidates, OpenAI said.\n",
      "\n",
      "2024-11-09 18:04:40,467 - AInewsbot - INFO - fetch_all_summaries - Page title: Google says “Enhanced protection” feature in Chrome now uses AI\n",
      "Social card title: Google says “Enhanced protection” feature in Chrome now uses AI\n",
      "Social card description: Google has quietly updated the description of one of the Chrome's security features \"Enchaned protection\" to confirm that it will be powered by AI in a future release.\n",
      "\n",
      "2024-11-09 18:04:40,490 - AInewsbot - INFO - fetch_all_summaries - Page title: Anthropic and Meta open the way for military use of artificial intelligence - The Washington Post\n",
      "Social card title: AI companies get comfortable offering their technology to the military\n",
      "Social card description: Social network giant Meta and leading artificial intelligence start-up Anthropic are making it easier for U.S. military and intelligence to tap their algorithms.\n",
      "\n",
      "2024-11-09 18:04:40,535 - AInewsbot - INFO - fetch_all_summaries - Page title: Samsung plans record-breaking 400-layer NAND chip that could be key to breaking 200TB barrier for ultra large capacity AI hyperscaler SSDs | TechRadar\n",
      "Social card title: Samsung plans record-breaking 400-layer NAND chip that could be key to breaking 200TB barrier for ultra large capacity AI hyperscaler SSDs\n",
      "Social card description: NAND chips with over 1,000 layers could arrive by 2030\n",
      "\n",
      "2024-11-09 18:04:40,586 - AInewsbot - INFO - fetch_all_summaries - Page title: AI Tool Reveals Long COVID May Affect 23% of People - Neuroscience News\n",
      "Social card title: AI Tool Reveals Long COVID May Affect 23% of People - Neuroscience News\n",
      "Social card description: A new AI tool identified long COVID in 22.8% of patients, a much higher rate than previously diagnosed.\n",
      "\n",
      "2024-11-09 18:04:40,753 - AInewsbot - INFO - fetch_all_summaries - Page title: Vancouver high school students create intelligent garbage cans to help sort waste\n",
      "Social card title: Vancouver high school students create intelligent garbage cans to help sort waste\n",
      "Social card description: A pair of Vancouver high school students hope their innovation using odour sensors and artificial intelligence will help their peers divert more waste from the landfill.Amy Bach and Sunny Huynh created Bin Genius because of what they saw around them at their schools.\"A lot of students, when they have lunch, they just throw all of their plates and then their food [waste] into the garbage bin, which will be sent to landfills,\" said Bach, a Grade 12 student at Gladstone Secondary School.\"So we want\n",
      "\n",
      "2024-11-09 18:04:40,795 - AInewsbot - INFO - fetch_all_summaries - Page title: Scientists Are Testing AI That Could Detect Pain in Goats Just By Their Facial Expressions\n",
      "Social card title: Scientists Are Testing AI That Could Detect Pain in Goats Just By Their Facial Expressions\n",
      "Social card description: Identifying when animals are in pain is good for moral reasons, of course, but also for maximizing their productivity.\n",
      "\n",
      "2024-11-09 18:04:40,825 - AInewsbot - INFO - fetch_all_summaries - Page title: Claude AI to process secret government data through new Palantir deal - Ars Technica\n",
      "Social card title: Claude AI to process secret government data through new Palantir deal\n",
      "Social card description: Critics worry Anthropic is endangering its “ethical” AI stance due to defense associations.\n",
      "\n",
      "2024-11-09 18:04:40,845 - AInewsbot - INFO - fetch_all_summaries - Page title: OpenAI Shifts Strategy as Rate of ‘GPT’ AI Improvements Slows — The Information\n",
      "Social card title: OpenAI Shifts Strategy as Rate of ‘GPT’ AI Improvements Slows\n",
      "Social card description: The number of people using ChatGPT and other artificial intelligence products is soaring. The rate of improvement for the basic building blocks underpinning them appears to be slowing down, though. The situation has prompted OpenAI, which makes ChatGPT, to cook up new techniques for boosting ...\n",
      "\n",
      "2024-11-09 18:04:40,891 - AInewsbot - INFO - fetch_all_summaries - Page title: Here's your first look at Google Meet's AI backgrounds on Android\n",
      "Social card title: Here's your first look at Google Meet's AI backgrounds on Android\n",
      "Social card description: A new version of Google Meet reveals how the upcoming AI backgrounds feature will work\n",
      "\n",
      "2024-11-09 18:04:40,933 - AInewsbot - INFO - fetch_all_summaries - Page title: Why is AI unable to predict disasters like Spain’s flash flooding in time? | Technology | EL PAÍS English\n",
      "Social card title: Why is AI unable to predict disasters like Spain’s flash flooding in time?\n",
      "Social card description: The technology’s ability to forecast floods is limited by the poor quality of data and the irregular behavior of weather events such as a DANA\n",
      "\n",
      "2024-11-09 18:04:40,958 - AInewsbot - INFO - fetch_all_summaries - Page title: I Compared ChatGPT Search and Google, and Google Should Be Worried | Lifehacker\n",
      "Social card title: I Compared ChatGPT Search and Google, and Google Should Be Worried\n",
      "Social card description: ChatGPT has launched a new web search tool, but how does it compare to Google?\n",
      "\n",
      "2024-11-09 18:04:40,998 - AInewsbot - INFO - fetch_all_summaries - Page title: How Agentic AI will revolutionize business operations – are you ready? | TechRadar\n",
      "Social card title: How Agentic AI will revolutionize business operations – are you ready?\n",
      "Social card description: We’re entering an era of autonomous agents capable of executing complex, multistep workflows\n",
      "\n",
      "2024-11-09 18:04:41,048 - AInewsbot - INFO - fetch_all_summaries - Page title: When Machine Learning Tells the Wrong Story\n",
      "Social card title: When Machine Learning Tells the Wrong Story\n",
      "Social card description: A story about side-channel attacks, computer architecture, and how I unexpectedly got my start in academia.\n",
      "\n"
     ]
    },
    {
     "name": "stderr",
     "output_type": "stream",
     "text": [
      "2024-11-09 18:04:45,497 - AInewsbot - INFO - Received 52 summaries\n"
     ]
    },
    {
     "data": {
      "text/markdown": [
       "[1. I found these 5 tips helped me get the most out of ChatGPT Search - Google News](https://news.google.com/read/CBMiiAFBVV95cUxPM01Qa2ZGUHllTjdDNWkxRVdvYTFTYm5jNGdhRFhCU1B6YW9Kc1lyeHdBZ0JUQkdOVG5JbkdzTmJQNzRJS0hPTlM5c0JCaVZFRE51bGtvTnZlV01WVG9hZTU3RkFzTjJ0VWdXUEFmSXZIalhLVHpnT2lMbGRDNUZNc2o3eXAyR1Fz)  \n",
       "\n",
       " ChatGPT and Online Opportunities, Chatbots, Chatgpt, Code Assistants, Gen AI, Language Models, Opinion, Optimization, Review, Search, Tips, Virtual Assistants  \n",
       "\n",
       "- ChatGPT Search, recently integrated into the platform, offers a conversational approach to searching, with features distinct from traditional search engines like Google.\n",
       "- Users are encouraged to utilize natural language queries for better results, engage in follow-up questions for clarity, and explore citations and multimedia content for enhanced information retrieval.\n",
       "- The search engine supports site-specific and time-range queries, allowing users to refine their search without complex commands. \n",
       "\n"
      ],
      "text/plain": [
       "<IPython.core.display.Markdown object>"
      ]
     },
     "metadata": {},
     "output_type": "display_data"
    },
    {
     "data": {
      "text/markdown": [
       "[2. 3 Ways To Use ChatGPT Search To Make Money Online In 2024 - Google News](https://news.google.com/read/CBMioAFBVV95cUxORVpWOWRhT1ZuVk90QndDNDNWazRXVHNaTS00T2w4dlJFUTRjT2RfZF9ScGN1dWhCR28yeFNvcEtzTWdJTzdxZ1NBdVB3TV9WbGkzSVo4bDRaY01wd2dlZnVZQnh6V2F4bW9GU1JjakpHMGd1c0FSaG0xTmFlblp1ZEVtOUFOVF82WUloNjFUcFhwZHNBT0FfZVozLUI5dmxr)  \n",
       "\n",
       " ChatGPT and Online Opportunities, 2024, Chatbots, Chatgpt, Economics, Finance, Gen AI, Language Models, Money, Online, Search, Virtual Assistants  \n",
       "\n",
       "- ChatGPT Search, launched on November 1, 2024, allows users to access real-time web search capabilities, enhancing the AI's usefulness for tasks like content creation and market research.\n",
       "- The tool can aid in freelance writing by providing up-to-date research, facilitate affiliate marketing by identifying trending products, and support social media managers in content planning aligned with current trends.\n",
       "- Users have reported some inaccuracies in search results, highlighting the need for verification, but the overall efficiency in time-saving presents a valuable opportunity for online income generation. \n",
       "\n"
      ],
      "text/plain": [
       "<IPython.core.display.Markdown object>"
      ]
     },
     "metadata": {},
     "output_type": "display_data"
    },
    {
     "data": {
      "text/markdown": [
       "[3. Chegg Is On Its Last Legs After ChatGPT Sent Its Stock Down 99% - Gizmodo](https://gizmodo.com/chegg-is-on-its-last-legs-after-chatgpt-sent-its-stock-down-99-2000522585)  \n",
       "\n",
       " ChatGPT and Online Opportunities, Books & Publishing, Business, Chatbots, Chatgpt, Chegg, Code Assistants, Economics, Education, Finance, Gen AI, Job Automation, Jobs & Careerslabor Market, Language Models, Products, Stock Market, Stocks, Virtual Assistants  \n",
       "\n",
       "- Chegg's stock has plummeted 99% since 2021, losing \\\\$14.5 billion in value and half a million subscribers, raising doubts about its ability to pay debts.\n",
       "- The launch of ChatGPT has significantly disrupted Chegg's business model, leading to a decline in subscriptions as students prefer the free, instant assistance of the chatbot.\n",
       "- Chegg is struggling to adapt despite attempts to introduce AI-assisted features and laying off a quarter of its workforce to target new markets. \n",
       "\n"
      ],
      "text/plain": [
       "<IPython.core.display.Markdown object>"
      ]
     },
     "metadata": {},
     "output_type": "display_data"
    },
    {
     "data": {
      "text/markdown": [
       "[4. Running Large Language Models Privately | by Robert Corwin | Oct, 2024 - Google News](https://news.google.com/read/CBMixgFBVV95cUxPeGE2VFlFWkltUXIwV3pPM2pxTHM1STQyME1EWjVuRlp2aDR4djU3QVloVU5zSDZmd0lQSUdpOHdIeXZMQjM5UHp3Z3NwMjgyUkhheGNLbzFQb3F4LXFhUUNLeHJyaThVSEFwaDZJcnRRVTNNakhXQ2FrdkVVc0ZxS0FEZmZMMURqUjNxQW9jY3kyem1fRDJfMVdKbThBRTBvUEpoWVp0Um5CX25qU0RGNU56UE9Va21nbHJfYWZJeVA2M0tOMVE)  \n",
       "\n",
       " Language Models and AI Performance, Authors & Writing, Cognitive Science, Gen AI, Language Models, Large Language Models, Opinion, Privacy, Privacy & Surveillance, Research, Speech Recognition & Synthesis  \n",
       "\n",
       "- Large Language Models (LLMs) can be run privately on local servers, offering enhanced privacy and control over model settings, although they may require expensive hardware for powerful models.\n",
       "- The analysis explores the performance, speed, and energy efficiency of running Llama models locally using frameworks like llama.cpp and Ollama, with quantization techniques helping to improve resource usage.\n",
       "- Operating LLMs on private servers proves to be cost-effective compared to cloud services, especially when considering energy consumption and pricing for generated tokens. \n",
       "\n"
      ],
      "text/plain": [
       "<IPython.core.display.Markdown object>"
      ]
     },
     "metadata": {},
     "output_type": "display_data"
    },
    {
     "data": {
      "text/markdown": [
       "[5. Here are 3 critical LLM compression strategies to supercharge AI performance - Google News](https://news.google.com/read/CBMipwFBVV95cUxPZmZUQ0V0aUllWHpIY3RndEM4cWhGOGdKSmo4eVBkTTE3aDRETmlfeTBwenhId1RuNDVvY2F1VDVqWnBmcWlvLTNzcFRSZlN6ZW5PZVVVOGZUdl9qNFJiM2J6djRUMDJjRTJWUG5vQWNzUzYxNlVja0NwUWFvNW5ESnlwNU5MaVlQcDBHT214R2NMTE5wSWtzeFFmRkE2OWdiVEp2ejVnNA)  \n",
       "\n",
       " Language Models and AI Performance, Artificial General Intelligence, Cognitive Science, Compression Strategies, Gen AI, Language Models, Llm, Performance, Science, Speech Recognition & Synthesis  \n",
       "\n",
       "- Businesses face challenges in AI performance due to high latency, memory usage, and compute costs, prompting the need for efficient AI solutions.\n",
       "- Model compression strategies, including model pruning, quantization, and knowledge distillation, help optimize AI models for faster and more cost-effective predictions without significant loss of accuracy.\n",
       "- These techniques enable deployment on resource-constrained devices and contribute to reduced energy consumption, aligning AI development with broader sustainability goals. \n",
       "\n"
      ],
      "text/plain": [
       "<IPython.core.display.Markdown object>"
      ]
     },
     "metadata": {},
     "output_type": "display_data"
    },
    {
     "data": {
      "text/markdown": [
       "[6. A Deep Dive into Small Language Models: Efficient Alternatives to Large Language Models for Real-Time Processing and Specialized Tasks - MarkTechPost](https://www.marktechpost.com/2024/11/09/a-deep-dive-into-small-language-models-efficient-alternatives-to-large-language-models-for-real-time-processing-and-specialized-tasks/)  \n",
       "\n",
       " Language Models and AI Performance, Cognitive Science, Efficiency, Gen AI, Language Models, Large Language Models, Real-Time Processing, Science, Small Language Models, Speech Recognition & Synthesis  \n",
       "\n",
       "- Small language models (SLMs) are being developed as efficient alternatives to large language models (LLMs), addressing challenges such as high computational costs, latency, and privacy concerns for resource-constrained environments.\n",
       "- SLMs can maintain approximately 90% of LLM performance in specialized applications (e.g., healthcare, finance) while reducing response times by over 70%, making them suitable for real-time processing on devices with limited hardware.\n",
       "- The research emphasizes a framework for optimizing SLM performance through methods like grouped query attention and parameter sharing, facilitating local data processing and enhancing data privacy. \n",
       "\n"
      ],
      "text/plain": [
       "<IPython.core.display.Markdown object>"
      ]
     },
     "metadata": {},
     "output_type": "display_data"
    },
    {
     "data": {
      "text/markdown": [
       "[7. Small Language Models Gaining Popularity While LLMs Still Go Strong - Google News](https://news.google.com/read/CBMihAJBVV95cUxNYlp0RnQ2U25qTmxpR2JwOHBLWEd1dFc2cWFISGk3Zm5xMVdybm9MNzBFVzFQajZZQVBuRDI3Nzk5NDdpc3llc2U5bmY5Q2RtYmM1ZkpIM0hNemJDMFpGTm9OWl9VOFF1WjFELUlKV2prVnFZTFE0ZkF5WUItTGduZHFoNi1VSXVXSzNyVkkyeUtfOVVWQ1FwTThqZEg2cTU0TFVCYzlTY0c3ZXdJbWxJTWQ3NU1BamVUSEJsLWJWa1JPSTRQVDB1ekc3QmxTLWdQaWhzZG1Nbmd4STRwYUx4YkhnY3RCeW50eExKX3JHVVNJY3RPY3l6a1kteC1LZGl5Mm4xTg)  \n",
       "\n",
       " Language Models and AI Performance, Cognitive Science, Gen AI, Language Models, Large Language Models, Popularity, Science, Small Language Models, Speech Recognition & Synthesis  \n",
       "\n",
       "- Small language models (SLMs) are gaining popularity as they allow for on-device usage without needing an internet connection, contrasting with the larger language models (LLMs) that require cloud services.\n",
       "- Although SLMs are still in their developmental stages and tend to offer less detailed responses compared to LLMs, they present unique advantages such as reduced costs and enhanced privacy.\n",
       "- The ongoing research and advancements in SLMs indicate potential for integration alongside LLMs, emphasizing that both types of models can coexist and serve different applications effectively. \n",
       "\n"
      ],
      "text/plain": [
       "<IPython.core.display.Markdown object>"
      ]
     },
     "metadata": {},
     "output_type": "display_data"
    },
    {
     "data": {
      "text/markdown": [
       "[8. TSMC to Suspend AI Chips Production for China From November 11: Report - www.gadgets360.com](https://www.gadgets360.com/ai/news/tsmc-suspend-advanced-ai-chip-production-china-report-6981141)  \n",
       "\n",
       " Taiwan Semiconductor Industry and AI Chips, AI Chips, China, Economics, Gen AI, Governance, Hardware, Manufacturing, Policy And Regulation, Politics, Production, Products, Semiconductor Chips, Taiwan, Tsmc  \n",
       "\n",
       "- TSMC will suspend the production of advanced AI chips for Chinese customers starting November 11, discontinuing manufacturing for chips at process nodes of 7nm or smaller.\n",
       "- This decision follows U.S. restrictions on the shipment of advanced GPU chips to China amid concerns over potential uses in bioweapons and cyberattacks.\n",
       "- Future supplies of advanced AI chips from TSMC to Chinese clients will require approval likely involving U.S. authorities. \n",
       "\n"
      ],
      "text/plain": [
       "<IPython.core.display.Markdown object>"
      ]
     },
     "metadata": {},
     "output_type": "display_data"
    },
    {
     "data": {
      "text/markdown": [
       "[9. TSMC may stop producing AI chips for Chinese companies - www.androidheadlines.com](https://www.androidheadlines.com/2024/11/tsmc-may-stop-producing-ai-chips-for-chinese-companies.html)  \n",
       "\n",
       " Taiwan Semiconductor Industry and AI Chips, AI Chips, China, Economics, Gen AI, Governance, Hardware, Manufacturing, Policy And Regulation, Politics, Products, Semiconductor Chips, Semiconductors, Taiwan, Tsmc  \n",
       "\n",
       "- TSMC has halted AI chip production for Chinese companies following controversies related to Huawei, which used TSMC chips in its hardware.\n",
       "- This decision comes as a gesture of goodwill to maintain relations with the US government amid increasing tensions and potential sanctions against Chinese firms.\n",
       "- The move could significantly impact major Chinese tech companies, such as Baidu, which were planning to utilize TSMC-manufactured chips for AI developments. \n",
       "\n"
      ],
      "text/plain": [
       "<IPython.core.display.Markdown object>"
      ]
     },
     "metadata": {},
     "output_type": "display_data"
    },
    {
     "data": {
      "text/markdown": [
       "[10. The Taiwan Semiconductor Industry Association says Taiwan's semiconductor production is on track to increase 22% YoY to a record \\\\$165B in 2024 on AI demand - Twitter](https://t.co/LHrQIaHRfq)  \n",
       "\n",
       " Taiwan Semiconductor Industry and AI Chips, 2024, Economics, Economy, Finance, Gen AI, Hardware, Job Automation, Jobs & Careerslabor Market, Manufacturing, Products, Semiconductor Chips, Semiconductor Production, Taiwan, Taiwan Semiconductor Industry Association  \n",
       "\n",
       "- Taiwan's semiconductor production is projected to reach a record \\\\$165 billion in 2024, a 22% increase from the previous year.\n",
       "- The surge in demand for advanced chips, particularly for generative AI applications, is driving this growth.\n",
       "- Output in 2023 had previously declined by 10.2% due to weakened demand for computers and smartphones. \n",
       "\n"
      ],
      "text/plain": [
       "<IPython.core.display.Markdown object>"
      ]
     },
     "metadata": {},
     "output_type": "display_data"
    },
    {
     "data": {
      "text/markdown": [
       "[11. AI groups rush to redesign model testing and create new benchmarks - Google News](https://news.google.com/read/CBMicEFVX3lxTE1oOW5JdFI0bWpJYkVMVS1fR21jLU83YXlQUVpGQzFEakJsYUZMVV80RFdyYXp4ZWZhLVZaSTJobVRNRVlhNTM5T2VtYzhwSkVLck9YSlczdGhXcnJTeFJzTTFzMDlyLTI3OVpvMW9WUjE)  \n",
       "\n",
       " Benchmarks, Cognitive Science, Development, Gen AI, Language Models, Model Testing, Research, Safety And Alignment, Science, Testing  \n",
       "\n",
       "- Tech groups like OpenAI, Microsoft, Meta, and Anthropic are redesigning AI model testing and creating new benchmarks to keep pace with rapidly advancing technology that surpasses existing evaluation methods.\n",
       "- Concerns arise over the effectiveness of proprietary benchmarks in comparing AI technologies, as many companies develop internal tests that lack transparency for public assessment.\n",
       "- New public benchmarks, like SWE-bench Verified, aim to evaluate AI models on more complex, real-world problems, emphasizing the importance of reasoning and planning capabilities in autonomous AI systems. \n",
       "\n"
      ],
      "text/plain": [
       "<IPython.core.display.Markdown object>"
      ]
     },
     "metadata": {},
     "output_type": "display_data"
    },
    {
     "data": {
      "text/markdown": [
       "[12. AI-READI consortium launches groundbreaking diabetes data study - MSN](https://www.msn.com/en-gb/health/other/ai-readi-consortium-launches-groundbreaking-diabetes-data-study/ar-AA1tKPLh)  \n",
       "\n",
       " AI-Readi, Data Study, Diabetes, Health & Fitness, Healthcare, Research, Science  \n",
       "\n",
       "- The AI-READI consortium has launched a significant study on biomarkers and environmental factors affecting the development of type 2 diabetes.\n",
       "- The study includes participants with varying stages of diabetes, as well as individuals without the condition, to gain comprehensive insights.\n",
       "- Researchers will release a flagship dataset from this ambitious study on November 8, 2024. \n",
       "\n"
      ],
      "text/plain": [
       "<IPython.core.display.Markdown object>"
      ]
     },
     "metadata": {},
     "output_type": "display_data"
    },
    {
     "data": {
      "text/markdown": [
       "[13. OpenAI backs robots, Amazon and Palantir's defense deal, Saudi Arabia's \\\\$100 billion bet: This week's AI launches - Yahoo](https://www.yahoo.com/tech/openai-backs-robots-amazon-palantirs-100000753.html)  \n",
       "\n",
       " AI Doom, AI Launches, Amazon, Deals, Drones, Economics, Ethics, Finance, Funding, Gen AI, Governance, Military, OpenAI, Palantir, Policy And Regulation, Politics, Products, Robots, Safety And Alignment  \n",
       "\n",
       "- Physical Intelligence raised \\\\$400 million in funding, with investments from OpenAI and Jeff Bezos, to develop a general-purpose robot foundation model aimed at creating artificial physical intelligence.\n",
       "- Anthropic partnered with Palantir and Amazon Web Services to provide Claude AI models to U.S. intelligence and defense agencies, enhancing capabilities in data processing and decision-making.\n",
       "- Saudi Arabia plans to launch a \\\\$100 billion AI project called \"Project Transcendence,\" focusing on building an AI hub with investments in infrastructure and talent recruitment. \n",
       "\n"
      ],
      "text/plain": [
       "<IPython.core.display.Markdown object>"
      ]
     },
     "metadata": {},
     "output_type": "display_data"
    },
    {
     "data": {
      "text/markdown": [
       "[14. Goodbye Google? How to use ChatGPTs new web search. - Google News](https://news.google.com/read/CBMiYkFVX3lxTE04bzJkYXhEU3RfRmhvYzZHUDEwc0hCd0djUlpRV19OU1c1cVB0LXRFRmhIUnJWby1pUkYxdGV6RGxWc3o0UlRQXzJOMl9zc29OOGFMNU1rV0xlVlBMOGhkVlRB)  \n",
       "\n",
       " Chatbots, Chatgpt, Code Assistants, Gen AI, Google, Internet, Language Models, Opinion, Virtual Assistants, Web Search  \n",
       "\n",
       "- OpenAI is launching its ChatGPT web search tool for all users following initial testing, with a full rollout expected in the coming months, starting with ChatGPT Plus subscribers. \n",
       "- The tool offers a conversational interface that retrieves and summarizes real-time information from the web, providing a streamlined alternative to traditional search engines like Google. \n",
       "- ChatGPT includes source links for its responses to ensure reliability, aiming to avoid common pitfalls like misinformation, with partnerships in place for various information services. \n",
       "\n"
      ],
      "text/plain": [
       "<IPython.core.display.Markdown object>"
      ]
     },
     "metadata": {},
     "output_type": "display_data"
    },
    {
     "data": {
      "text/markdown": [
       "[15. ML analysis tracks the evolution of 16th-century European astronomical thought - Phys.org](https://phys.org/news/2024-10-machine-analysis-tracks-evolution-16th.html)  \n",
       "\n",
       " 16Th Century, Astronomy, Cognitive Science, European Union, Historical Analysis, History, Machine Learning, Science  \n",
       "\n",
       "- A team in Berlin utilized machine-learning applications to analyze over 300 historical texts to understand the evolution of European astronomical thought in the 15th and 16th centuries.\n",
       "- The study, published in Science Advances, highlights the contributions of lesser-known scientists beyond Galileo, Kepler, and Copernicus, and emphasizes the role of mathematical advancements in astronomy.\n",
       "- The researchers processed 76,000 pages to identify trends such as the standardization of formulas and improved communication of astronomical findings across Europe. \n",
       "\n"
      ],
      "text/plain": [
       "<IPython.core.display.Markdown object>"
      ]
     },
     "metadata": {},
     "output_type": "display_data"
    },
    {
     "data": {
      "text/markdown": [
       "[16. Headshot Photographers: AI Is About To Eat Your Lunch - Fstoppers](https://fstoppers.com/artificial-intelligence/headshot-photographers-ai-about-eat-your-lunch-684878)  \n",
       "\n",
       " AI Doom, Business, Gen AI, Industry Impact, Job Automation, Jobs & Careerslabor Market, Opinion, Photography  \n",
       "\n",
       "- AI-generated headshots are becoming increasingly high-quality, prompting concerns among photographers about the future of headshot photography.\n",
       "- Many industries, including photography, need to adapt to the growing influence of artificial intelligence.\n",
       "- The author offers five tips in a video to help photographers \"AI-proof\" their businesses while maintaining a positive outlook. \n",
       "\n"
      ],
      "text/plain": [
       "<IPython.core.display.Markdown object>"
      ]
     },
     "metadata": {},
     "output_type": "display_data"
    },
    {
     "data": {
      "text/markdown": [
       "[17. OpenAI Has, For Now, Escaped Copyright Lawsuit Filed Against It Regarding Its Use Of News Articles Without Consent To Train ChatGPT - Wccftech](https://wccftech.com/openai-escaped-copyright-laws)  \n",
       "\n",
       " Authors & Writing, Bias And Fairness, Chatbots, Copyright Lawsuit, Ethics, Gen AI, Governance, Intellectual Property, Language Models, Legal, Legal Issues, News Articles, Open Source, OpenAI, Policy And Regulation, Politics, Privacy, Privacy & Surveillance, Speech Recognition & Synthesis, Training  \n",
       "\n",
       "- A federal judge in New York dismissed a copyright lawsuit against OpenAI, stating there was insufficient evidence of harm related to the use of news articles to train its AI models.\n",
       "- The lawsuit was filed by Raw Story and AlterNet, alleging OpenAI misused their articles without consent, but the judge expressed skepticism about the claims.\n",
       "- OpenAI maintains its practices are fair, relying on publicly available data and established legal precedents for its AI training methods. \n",
       "\n"
      ],
      "text/plain": [
       "<IPython.core.display.Markdown object>"
      ]
     },
     "metadata": {},
     "output_type": "display_data"
    },
    {
     "data": {
      "text/markdown": [
       "[18. Can AI stop ships from killing thousands of whales each year? - MSN](https://www.msn.com/en-us/travel/news/can-ai-stop-ships-from-killing-thousands-of-whales-each-year/ar-AA1tNAzZ)  \n",
       "\n",
       " Climate, Conservation, Environment, Ethics, Policy And Regulation, Safety And Alignment, Science, Ships, Sustainability, Transportation, Whales  \n",
       "\n",
       "- An estimated 20,000 whales die from ship strikes annually.\n",
       "- The Woods Hole Oceanographic Institution is developing AI and thermal-imaging technology to reduce these fatalities. \n",
       "\n"
      ],
      "text/plain": [
       "<IPython.core.display.Markdown object>"
      ]
     },
     "metadata": {},
     "output_type": "display_data"
    },
    {
     "data": {
      "text/markdown": [
       "[19. Can AI And Your Heart Rate Data Help You To Flourish? - Forbes](https://www.forbes.com/sites/johnwerner/2024/11/09/can-ai-and-your-heart-rate-data-help-you-to-flourish/)  \n",
       "\n",
       " Cognitive Science, Consciousness, Flourish, Health, Health & Fitness, Healthcare, Heart Rate Data, Science, Wellness  \n",
       "\n",
       "- Kristen Holmes suggests that heart rate data and AI can enhance individual resilience and performance by mapping stress and recovery, promoting intentional behaviors aligned with overall well-being.\n",
       "- AI can aggregate health data, analyze sleep patterns, and provide personalized guidance to improve performance and longevity, potentially leading to better health outcomes.\n",
       "- Implementing techniques like breathwork, ice baths, and optimized sleep routines are among recommendations for achieving \"autonomic robustness\" as per Holmes' research. \n",
       "\n"
      ],
      "text/plain": [
       "<IPython.core.display.Markdown object>"
      ]
     },
     "metadata": {},
     "output_type": "display_data"
    },
    {
     "data": {
      "text/markdown": [
       "[20. Warren Buffett's AI Bets: 24.1% of Berkshire Hathaway's \\\\$287 Billion Stock Portfolio Is Invested in These 2 Artificial Intelligence Stocks - Yahoo Finance](https://finance.yahoo.com/news/warren-buffetts-ai-bets-24-111800171.html)  \n",
       "\n",
       " Berkshire Hathaway, Economics, Finance, Gen AI, Investment, Jobs & Careerslabor Market, Products, Stocks, Venture Capital, Warren Buffett  \n",
       "\n",
       "- Warren Buffett's Berkshire Hathaway has 24.1% of its \\\\$287 billion stock portfolio invested in two AI stocks, primarily Apple, which accounts for 23.2% of its public equity portfolio.  \n",
       "- Despite Apple's strong performance, Berkshire has reduced its stake in the company by over two-thirds, indicating potential concerns about market conditions.  \n",
       "- Amazon, while a smaller investment at 0.7% of the portfolio, is positioned as a leader in cloud infrastructure and generative AI, with significant growth potential ahead.   \n",
       "\n"
      ],
      "text/plain": [
       "<IPython.core.display.Markdown object>"
      ]
     },
     "metadata": {},
     "output_type": "display_data"
    },
    {
     "data": {
      "text/markdown": [
       "[21. Hands on with AI features in Windows 11 Paint and Notepad - Bleeping Computer](https://www.bleepingcomputer.com/news/microsoft/hands-on-with-ai-features-in-windows-11-paint-and-notepad/)  \n",
       "\n",
       " Art & Design, Code Assistants, Computer Vision, Features, Gen AI, Hardware, Notepad, Paint, Products, Review, Windows 11  \n",
       "\n",
       "- Microsoft is integrating AI features into Windows 11's Paint and Notepad apps, enhancing user functionality.\n",
       "- The Paint app introduces a generative erase feature that effectively removes unwanted objects from images while filling in backgrounds naturally.\n",
       "- Notepad's AI Rewrite feature allows users to rephrase text with options for tone and length adjustments, generating multiple variations for selection. \n",
       "\n"
      ],
      "text/plain": [
       "<IPython.core.display.Markdown object>"
      ]
     },
     "metadata": {},
     "output_type": "display_data"
    },
    {
     "data": {
      "text/markdown": [
       "[22. The Beatles final song, restored using AI, is up for a Grammy - Google News](https://news.google.com/read/CBMimgFBVV95cUxOX2ZnTHBsNHgxbmtMc1EtNDY3ZFRhN2taWktCRmkwYzdCcFFtbjl3Q1htVS1vUkJBS3piaVgxRmhhMUg1MUhjTW0ta2pNb19TMWx5cV9vYk81b0Q2MEtwRkVld25pTWlTUnJHbTdmQUFRNUFCM29JeWd5LVVyQjJjRXA2VGRqaldJRHZoMjZWVklEVFE5S0owdHdn)  \n",
       "\n",
       " Art & Design, Authors & Writing, Entertainment, Gen AI, Grammy, History, Hollywood, Intellectual Property, Music, Restoration, Review, Society & Culture, The Beatles, Tv & Film & Movies  \n",
       "\n",
       "- The Beatles have received two Grammy nominations for their final song \"Now and Then,\" restored with AI technology, competing against artists like Beyoncé and Billie Eilish.\n",
       "- The song, originally a demo by John Lennon from the late 1970s, was completed in 2021 with the help of filmmaker Peter Jackson's sound team, after previously being unreleased due to technological limitations.\n",
       "- Despite being created using machine learning, \"Now and Then\" adheres to Grammy rules allowing works with AI elements to be nominated in specific categories. \n",
       "\n"
      ],
      "text/plain": [
       "<IPython.core.display.Markdown object>"
      ]
     },
     "metadata": {},
     "output_type": "display_data"
    },
    {
     "data": {
      "text/markdown": [
       "[23. ChatGPT rejected more than 250,000 image generations of presidential candidates prior to Election Day - NBC News](https://www.nbcnews.com/tech/chatgpt-rejected-image-generations-presidential-candidates-rcna179469)  \n",
       "\n",
       " Chatbots, Chatgpt, Computer Vision, Disinformation, Election, Ethics, Gen AI, Governance, Image Generation, Language Models, Legal Issues, Policy And Regulation, Politics, Presidential Candidates, Privacy, Privacy & Surveillance, Virtual Assistants  \n",
       "\n",
       "- OpenAI reported that ChatGPT rejected over 250,000 requests for generating images of 2024 U.S. presidential candidates to prevent misinformation.\n",
       "- Concerns regarding AI-generated misinformation have risen, with deepfakes increasing by 900% year over year, some funded by foreign entities aiming to disrupt U.S. elections.\n",
       "- A report indicated that OpenAI had disrupted numerous deceptive operations globally but found no evidence of covert efforts significantly influencing the U.S. election outcome. \n",
       "\n"
      ],
      "text/plain": [
       "<IPython.core.display.Markdown object>"
      ]
     },
     "metadata": {},
     "output_type": "display_data"
    },
    {
     "data": {
      "text/markdown": [
       "[24. UnifyApps reels in \\\\$20M for its AI-powered application platform - SiliconANGLE](https://siliconangle.com/2024/11/08/unifyapps-reels-20m-ai-powered-application-platform)  \n",
       "\n",
       " Application Platform, Deals, Economics, Finance, Funding, Gen AI, Job Automation, Jobs & Careerslabor Market, Products, Unifyapps, Venture Capital  \n",
       "\n",
       "- UnifyApps, a startup providing AI-powered software development tools for enterprises, has raised \\\\$20 million in a Series A funding round led by ICONIQ Growth, following an earlier \\\\$11 million in seed funding.\n",
       "- The company's product suite includes tools for automating business tasks through natural language processing, building custom applications via a no-code interface, and managing data across applications.\n",
       "- Since its founding last year, UnifyApps has grown to a workforce of 150 and has over 20 customers, including major financial and internet service organizations. \n",
       "\n"
      ],
      "text/plain": [
       "<IPython.core.display.Markdown object>"
      ]
     },
     "metadata": {},
     "output_type": "display_data"
    },
    {
     "data": {
      "text/markdown": [
       "[25. American AI company Vantiq launches project to develop smart cities in Ukraine - Kyiv Independent](https://kyivindependent.com/american-ai-company-vantiq-launches-project-to-develop-smart-cities-in-ukraine/)  \n",
       "\n",
       " Climate, Governance, Infrastructure, Internet Of Things, Military, Politics, Russia, Smart Cities, Sustainability, Transportation, Ukraine, Vantiq  \n",
       "\n",
       "- Vantiq, an American AI company, has launched a project to develop smart cities in Ukraine, establishing over 100 industrial parks that aim to improve the quality of life for 2.5 million citizens.\n",
       "- The project includes a \\\\$500,000 donation of AI software to enhance data collection and real-time management of economic activities, supporting Ukraine's recovery efforts amid ongoing war-related challenges.\n",
       "- Vantiq's technology will promote transparency and potentially attract foreign investment by allowing stakeholders to monitor development projects remotely, thus addressing concerns over corruption. \n",
       "\n"
      ],
      "text/plain": [
       "<IPython.core.display.Markdown object>"
      ]
     },
     "metadata": {},
     "output_type": "display_data"
    },
    {
     "data": {
      "text/markdown": [
       "[26. Gemini AI Now Accessible Through the OpenAI Library for Streamlined Use - MarkTechPost](https://www.marktechpost.com/2024/11/09/gemini-ai-now-accessible-through-the-openai-library-for-streamlined-use/)  \n",
       "\n",
       " Accessibility, Code Assistants, Gemini AI, Gen AI, Language Models, Library, Open Source, OpenAI, Products, Virtual Assistants  \n",
       "\n",
       "- Google has launched Gemini, a new AI model that is now integrated into the OpenAI library, making it easier for developers to access and use alongside existing tools.\n",
       "- The integration includes comprehensive support and migration tools aimed at easing the transition for developers familiar with OpenAI's API, minimizing disruptions to their current workflows.\n",
       "- Gemini focuses on enhanced contextual understanding, addressing limitations of traditional AI models, and offers performance that matches or exceeds competitors like OpenAI’s GPT-4. \n",
       "\n"
      ],
      "text/plain": [
       "<IPython.core.display.Markdown object>"
      ]
     },
     "metadata": {},
     "output_type": "display_data"
    },
    {
     "data": {
      "text/markdown": [
       "[27. Federal court sides with OpenAI in AI copyright lawsuit - SiliconANGLE](https://siliconangle.com/2024/11/08/federal-court-sides-openai-ai-copyright-lawsuit)  \n",
       "\n",
       " Authors & Writing, Copyright Lawsuit, Ethics, Gen AI, Governance, Intellectual Property, Legal, Legal Issues, Open Source, OpenAI, Policy And Regulation, Politics, Speech Recognition & Synthesis  \n",
       "\n",
       "- A federal court dismissed a copyright lawsuit against OpenAI brought by Raw Story Media and AlterNet Media, allowing the plaintiffs to potentially relaunch with revisions.\n",
       "- The lawsuit challenged OpenAI's removal of copyright management information (CMI) from their articles used in AI training, claiming it violated the Digital Millennium Copyright Act.\n",
       "- The ruling stated that alleged harm was related to the use of articles without compensation, not merely the removal of CMI. \n",
       "\n"
      ],
      "text/plain": [
       "<IPython.core.display.Markdown object>"
      ]
     },
     "metadata": {},
     "output_type": "display_data"
    },
    {
     "data": {
      "text/markdown": [
       "[28. New fanless cooling technology enhances energy efficiency for AI workloads by achieving a 90% reduction in cooling power consumption - TechRadar](https://www.techradar.com/pro/new-fanless-cooling-technology-enhances-energy-efficiency-for-ai-workloads-by-achieving-a-90-percent-reduction-in-cooling-power-consumption)  \n",
       "\n",
       " Climate, Cooling Technology, Energy, Energy Efficiency, Gen AI, Hardware, Innovation, Job Automation, Products, Science, Sustainability, Workloads  \n",
       "\n",
       "- Hewlett-Packard Enterprise (HPE) has launched a 100% fanless direct liquid cooling technology that significantly reduces cooling power consumption by 90% compared to traditional air-cooling systems.\n",
       "- This new cooling system improves energy efficiency for AI workloads, cutting server blade power consumption by 37% and addressing environmental sustainability by lowering carbon emissions and utility costs.\n",
       "- The architecture is designed to be scalable, supporting high-density performance and flexible configurations, catering to the increasing power demands of advanced AI technologies. \n",
       "\n"
      ],
      "text/plain": [
       "<IPython.core.display.Markdown object>"
      ]
     },
     "metadata": {},
     "output_type": "display_data"
    },
    {
     "data": {
      "text/markdown": [
       "[29. FrontierMath: A benchmark for evaluating advanced mathematical reasoning in AI - epochai.org](https://epochai.org/frontiermath/the-benchmark)  \n",
       "\n",
       " Artificial General Intelligence, Benchmark, Cognitive Science, Education, Evaluation, Frontiermath, Gen AI, Language Models, Mathematical Reasoning, Safety And Alignment, Science, Testing  \n",
       "\n",
       "- FrontierMath introduces a benchmark of hundreds of expert-level mathematical problems to evaluate AI's advanced reasoning capabilities, spanning various branches of modern mathematics.\n",
       "- Current AI models demonstrated a significant challenge, solving less than 2% of the problems, in stark contrast to over 90% accuracy on other benchmarks like GSM-8K and MATH.\n",
       "- Future plans include regular evaluations, expanding the problem set, releasing more public problems, and enhancing quality assurance processes to improve the benchmark's effectiveness. \n",
       "\n"
      ],
      "text/plain": [
       "<IPython.core.display.Markdown object>"
      ]
     },
     "metadata": {},
     "output_type": "display_data"
    },
    {
     "data": {
      "text/markdown": [
       "[30. AI didn't sway the election, but it deepened the partisan divide - The Washington Post](https://www.washingtonpost.com/technology/2024/11/09/ai-deepfakes-us-election)  \n",
       "\n",
       " Bias And Fairness, Disinformation, Election, Governance, Inequality, Opinion, Partisan Divide, Politics, Society & Culture  \n",
       "\n",
       "- Artificial intelligence was anticipated to disrupt the 2024 election but ultimately did not influence voting behavior.\n",
       "- Instead of changing minds, AI has contributed to a deeper partisan divide and eroded voters' trust in reality.\n",
       "- The impact of AI on the election emphasizes challenges in maintaining truth in a politically charged environment. \n",
       "\n"
      ],
      "text/plain": [
       "<IPython.core.display.Markdown object>"
      ]
     },
     "metadata": {},
     "output_type": "display_data"
    },
    {
     "data": {
      "text/markdown": [
       "[31. Ofcom warns tech firms after chatbots imitate Brianna Ghey and Molly Russell - Yahoo Finance](https://ca.finance.yahoo.com/news/ofcom-warns-tech-firms-chatbots-060040536.html)  \n",
       "\n",
       " AI Doom, Bias And Fairness, Chatbots, Disinformation, Ethics, Governance, Imitation, Legal Issues, Ofcom, Opinion, Policy And Regulation, Privacy, Privacy & Surveillance, Regulation, Safety And Alignment, Society & Culture, Tech Firms, Uk  \n",
       "\n",
       "- Ofcom has warned tech firms that chatbots impersonating real and fictional individuals, such as Brianna Ghey and Molly Russell, may violate the UK Online Safety Act.\n",
       "- The regulator emphasized that user-generated chatbot content falls within the act’s scope, with potential fines of £18m or 10% of global turnover for non-compliance.\n",
       "- The guidance comes after reports of distressing incidents, underscoring the need for platforms to safeguard users, particularly children, from harmful content created by chatbots. \n",
       "\n"
      ],
      "text/plain": [
       "<IPython.core.display.Markdown object>"
      ]
     },
     "metadata": {},
     "output_type": "display_data"
    },
    {
     "data": {
      "text/markdown": [
       "[32. At last, it seems the law recognizes that AI synthesizes, not copies - Medium](https://medium.com/enrique-dans/at-last-it-seems-the-law-recognizes-that-ai-synthesizes-not-copies-8489ba5616df)  \n",
       "\n",
       " Copyright, Ethics, Gen AI, Intellectual Property, Law, Legal Issues, Policy And Regulation, Speech Recognition & Synthesis, Synthesis  \n",
       "\n",
       "- OpenAI has won the initial legal battle against Raw Story Media Inc. and Alternet Media Inc. regarding the use of their content for training its algorithms.\n",
       "- The lawsuit accused OpenAI of copyright infringement and violating the DMCA, but the judge ruled that the harm claimed by the companies was insufficient to justify the lawsuit.\n",
       "- The ruling emphasizes that generative AI synthesizes information rather than copying it directly. \n",
       "\n"
      ],
      "text/plain": [
       "<IPython.core.display.Markdown object>"
      ]
     },
     "metadata": {},
     "output_type": "display_data"
    },
    {
     "data": {
      "text/markdown": [
       "[33. AI didnt sway the election, but it deepened the partisan divide - Google News](https://news.google.com/read/CBMihAFBVV95cUxQVXc5RmhoN2NSZEFtSVVsd01KeDM3SzFyR2RNSnExTGdEaGhzdnZoaG0zTmE2RlNtMGRsb1RldlZMbzk3cHJleklQZjBoUElfR2FWRVFCZ2xmYzdUa3BxcG1JZTQteVAxYldqSGFUR3dfdVhfYmpCYlBoNEdDYllEZUF6OHA)  \n",
       "\n",
       " Bias And Fairness, Disinformation, Election, Governance, Inequality, Opinion, Partisan Divide, Politics, Society & Culture  \n",
       "\n",
       "- Artificial intelligence did not significantly influence the 2024 election outcome.\n",
       "- Instead, AI contributed to a greater erosion of voter trust and faith in the truth.\n",
       "- The impact of AI has deepened the existing partisan divide rather than changing voter opinions. \n",
       "\n"
      ],
      "text/plain": [
       "<IPython.core.display.Markdown object>"
      ]
     },
     "metadata": {},
     "output_type": "display_data"
    },
    {
     "data": {
      "text/markdown": [
       "[34. eBay Inc. (EBAY)'s Secret to Dominating Internet Retail: AI Innovations and Revenue Growth - Yahoo Finance](https://finance.yahoo.com/news/ebay-inc-ebay-secret-dominating-195907555.html)  \n",
       "\n",
       " E-Commerce, Ebay, Economics, Finance, Gen AI, Innovations, Intellectual Property, Internet Retail, Job Automation, Products, Recommendation Systems, Revenue Growth, Stocks  \n",
       "\n",
       "- eBay Inc. is witnessing renewed growth in the e-commerce sector, with a revenue increase of 4% year-over-year in Q3 2024, largely driven by improvements in its advertising segment and the adoption of AI technologies.\n",
       "- The U.S. e-commerce market is expected to reach \\\\$1.2 trillion in 2024, reflecting a growth rate of 9.8%, contrasting with slower growth post-COVID, as consumers continue to favor online shopping over physical stores.\n",
       "- New entrants like Temu, Shein, and TikTok Shop are disrupting the e-commerce landscape by appealing to budget-conscious consumers, but established players like eBay are maintaining their market share through quality and brand positioning. \n",
       "\n"
      ],
      "text/plain": [
       "<IPython.core.display.Markdown object>"
      ]
     },
     "metadata": {},
     "output_type": "display_data"
    },
    {
     "data": {
      "text/markdown": [
       "[35. Cloud Computing Market to Grow by USD 404.7 Billion from 2024-2028, as Cost-Cutting Drives Adoption with AI Driving Market Transformation - Yahoo Finance](https://finance.yahoo.com/news/cloud-computing-market-grow-usd-222000832.html)  \n",
       "\n",
       " Adoption, Cloud Computing, Cost-Cutting, Economics, Finance, Gen AI, Job Automation, Jobs & Careerslabor Market, Market Growth, Products  \n",
       "\n",
       "- The global cloud computing market is projected to grow by USD 404.7 billion from 2024-2028, with a CAGR of 15.19%, driven by cost-cutting measures and an increased focus on private cloud solutions for improved data security.\n",
       "- Major challenges include system integration issues and security concerns, particularly in regulated industries, which hinder the adoption of public cloud solutions.\n",
       "- Companies such as Amazon, Microsoft, and IBM are key players in the market, leveraging technologies like AI, Machine Learning, and Big Data to enhance their cloud services. \n",
       "\n"
      ],
      "text/plain": [
       "<IPython.core.display.Markdown object>"
      ]
     },
     "metadata": {},
     "output_type": "display_data"
    },
    {
     "data": {
      "text/markdown": [
       "[36. Microsoft added AI to software it has barely touched since 1985. The results are astonishing - CNN](https://edition.cnn.com/2024/11/08/business/microsoft-paint-artificial-intelligence/index.html)  \n",
       "\n",
       " Code Assistants, Gen AI, Innovation, Job Automation, Microsoft, Products, Software  \n",
       "\n",
       "- Microsoft is adding AI tools to its Paint application as part of a Windows 11 update, marking the first significant change since its introduction in 1985.\n",
       "- New features include generative fill, allowing users to create AI-generated graphics by typing requests, and generative erase, which lets users remove objects from images seamlessly.\n",
       "- The update aims to bolster user creativity with AI capabilities, aligning with similar efforts by other tech companies to integrate AI into their products. \n",
       "\n"
      ],
      "text/plain": [
       "<IPython.core.display.Markdown object>"
      ]
     },
     "metadata": {},
     "output_type": "display_data"
    },
    {
     "data": {
      "text/markdown": [
       "[37. OpenAI's CEO Sam Altman Predicts AGI Could Appear Within Five Years, With Far Less Impact On Society Than Most Expect - Wccftech](https://wccftech.com/openai-ceo-sam-altman-predicts-agi-could-appear-within-five-years)  \n",
       "\n",
       " Agi, AI Doom, Artificial General Intelligence, Consciousness, Gen AI, Open Source, OpenAI, Opinion, Predictions, Sam Altman, Science, Singularity, Society, Society & Culture  \n",
       "\n",
       "- OpenAI's CEO Sam Altman predicts that Artificial General Intelligence (AGI) could be developed within the next five years, although its societal impact is expected to be gradual and less dramatic than commonly anticipated.\n",
       "- Altman highlighted the need for substantial resources, estimating around \\\\$7 trillion and significant infrastructure investments, to achieve AGI's development in the projected timeframe.\n",
       "- He noted a rapid advancement in technology and science, emphasizing that while initial impacts may be subtle, more significant effects from AI progression will become evident in the long term. \n",
       "\n"
      ],
      "text/plain": [
       "<IPython.core.display.Markdown object>"
      ]
     },
     "metadata": {},
     "output_type": "display_data"
    },
    {
     "data": {
      "text/markdown": [
       "[38. Om Malik  With AI, the Future of Augmented Reality Is in Your Ears - crazystupidtech.com](https://crazystupidtech.com/archive/with-ai-the-future-of-augmented-reality-is-in/)  \n",
       "\n",
       " Augmented Reality, Future, Gen AI, Om Malik, Opinion, Virtual & Augmented Reality  \n",
       "\n",
       "- Dennis Crowley, co-founder of Dodgeball and Foursquare, has launched a new startup, Hopscotch Labs, which is developing an AI-powered service that leverages AirPods to provide location-based information to users in real-time.\n",
       "- The app, named Beebop, aims to deliver a form of audio augmented reality, notifying users about places and activities around them, such as where friends have been or comments left at locations, thus creating a more intimate way to share information without the need for screens.\n",
       "- Crowley emphasizes the importance of using AI to filter relevant local information and envisions a future where ambient information and AI companions enhance everyday experiences, connecting individuals to their environments more naturally. \n",
       "\n"
      ],
      "text/plain": [
       "<IPython.core.display.Markdown object>"
      ]
     },
     "metadata": {},
     "output_type": "display_data"
    },
    {
     "data": {
      "text/markdown": [
       "[39. ChatGPT denied 250,000 requests to generate deepfake images of candidates in the month before the election - Business Insider](https://www.businessinsider.com/chatgpt-openai-denied-requests-generate-images-candidates-election-trump-harris-2024-11)  \n",
       "\n",
       " Chatbots, Chatgpt, Computer Vision, Deepfake, Deepfakes, Disinformation, Election, Ethics, Gen AI, Governance, Image Generation, Language Models, Legal Issues, Policy And Regulation, Politics, Privacy, Privacy & Surveillance, Virtual Assistants  \n",
       "\n",
       "- OpenAI's ChatGPT denied over 250,000 requests to generate deepfake images of candidates in the month leading up to the presidential election to combat misinformation.\n",
       "- The AI provided approximately 1 million responses guiding users to official voting resources and directed election result inquiries to reputable news organizations.\n",
       "- Unlike other chatbots, ChatGPT refrained from expressing political opinions, maintaining a neutral stance during the election period. \n",
       "\n"
      ],
      "text/plain": [
       "<IPython.core.display.Markdown object>"
      ]
     },
     "metadata": {},
     "output_type": "display_data"
    },
    {
     "data": {
      "text/markdown": [
       "[40. Google says Enhanced protection feature in Chrome now uses AI - Bleeping Computer](https://www.bleepingcomputer.com/news/google/google-says-enhanced-protection-feature-in-chrome-now-uses-ai/)  \n",
       "\n",
       " Chrome, Cybersecurity, Enhanced Protection, Gen AI, Google, Privacy, Privacy & Surveillance, Products, Safety And Alignment  \n",
       "\n",
       "- Google has updated its Chrome feature \"Enhanced protection\" to now include AI-powered security for improved real-time protection against dangerous sites and downloads.\n",
       "- The term \"proactive protection\" has been rebranded as \"AI-powered protection,\" which may enhance detection of harmful sites.\n",
       "- Additional features like Group tabs and Close unused tabs are also being renamed and enhanced with AI capabilities in Chrome Canary, although rollout details remain unclear. \n",
       "\n"
      ],
      "text/plain": [
       "<IPython.core.display.Markdown object>"
      ]
     },
     "metadata": {},
     "output_type": "display_data"
    },
    {
     "data": {
      "text/markdown": [
       "[41. AI companies get comfortable offering their technology to the military - Google News](https://news.google.com/read/CBMimAFBVV95cUxQTlVTenpaQkJxNUxUYURoLVZNV25KQjhYOHVySlg1OFAxTDVlNGw3cWtuQTdLVzF4cnV3Q2k3RDFxVkJnRDVxU1hPVEhxMzlQZHdjWTc2d3NwYWNZWUQzNEZLeXdMTUdodDNiOVF6YURNSDk5Mzl1VHlsdFBXNmphMFZ1bkdVdzl0ekZ0MWc5Q3VFOHJtQkhPSg)  \n",
       "\n",
       " AI Doom, Defense, Drones, Ethics, Industry, Military, Policy And Regulation, Politics, Privacy & Surveillance, Safety And Alignment  \n",
       "\n",
       "- Meta and Anthropic are facilitating access to their artificial intelligence technologies for U.S. military and intelligence agencies.\n",
       "- AI companies are changing their previously cautious stance and are now forming partnerships with the Pentagon and spy agencies.\n",
       "- This shift represents a significant policy change in how AI firms engage with military applications. \n",
       "\n"
      ],
      "text/plain": [
       "<IPython.core.display.Markdown object>"
      ]
     },
     "metadata": {},
     "output_type": "display_data"
    },
    {
     "data": {
      "text/markdown": [
       "[42. Samsung plans record-breaking 400-layer NAND chip that could be key to breaking 200TB barrier for ultra large capacity AI hyperscaler SSDs - TechRadar](https://www.techradar.com/pro/samsung-plans-record-breaking-400-layer-nand-chip-that-could-be-key-to-breaking-200tb-barrier-for-ultra-large-capacity-ai-hyperscaler-ssds)  \n",
       "\n",
       " Gen AI, Hardware, Korea, Manufacturing, Nand Chip, Products, Samsung, Science, Semiconductor Chips, Storage  \n",
       "\n",
       "- Samsung plans to launch a record-breaking 400-layer NAND chip by 2026, aimed at meeting the demand of AI data centers and potentially breaking the 200TB storage threshold for SSDs.\n",
       "- The new BV NAND technology enhances density, reduces heat buildup, and is expected to offer a 1.6x increase in bit density per unit area.\n",
       "- Samsung's roadmap includes the development of 1,000-layer NAND chips by 2030 and future generations aiming for faster data transfer rates and improved performance for high-demand storage applications. \n",
       "\n"
      ],
      "text/plain": [
       "<IPython.core.display.Markdown object>"
      ]
     },
     "metadata": {},
     "output_type": "display_data"
    },
    {
     "data": {
      "text/markdown": [
       "[43. AI Tool Reveals Long COVID May Affect 23% of People - Neuroscience News](https://neurosciencenews.com/ai-long-covid-28003/)  \n",
       "\n",
       " Health, Health & Fitness, Healthcare, Impact, Long Covid, Science, Study  \n",
       "\n",
       "- A new AI tool identified long COVID in 22.8% of patients by analyzing health records from nearly 300,000 individuals, significantly higher than the previously estimated 7%.\n",
       "- The algorithm improves diagnostic accuracy for long COVID by distinguishing it from other health conditions, utilizing a method called \"precision phenotyping\" to ensure accurate identification of symptoms.\n",
       "- The study addresses biases in traditional diagnostic methods, representing a broader demographic profile and aiming to assist marginalized communities historically underrepresented in clinical studies. \n",
       "\n"
      ],
      "text/plain": [
       "<IPython.core.display.Markdown object>"
      ]
     },
     "metadata": {},
     "output_type": "display_data"
    },
    {
     "data": {
      "text/markdown": [
       "[44. Vancouver high school students create intelligent garbage cans to help sort waste - Yahoo News Canada](https://ca.news.yahoo.com/vancouver-high-school-students-create-130000179.html)  \n",
       "\n",
       " Climate, Cognitive Science, Education, High School, Innovation, Intelligent Garbage Cans, Internet Of Things, Robots, Science, Society & Culture, Sustainability, Vancouver, Waste Management  \n",
       "\n",
       "- Vancouver high school students Amy Bach and Sunny Huynh developed \"Bin Genius,\" a smart garbage can using odour sensors and AI to improve waste sorting and reduce landfill waste.\n",
       "- The invention alerts users via light, sound, or smartphone notifications when waste is improperly sorted, aiming to educate peers on proper disposal methods.\n",
       "- Bach and Huynh are competing for a \\\\$5,000 prize in a science fair and plan to scale their project for implementation across local schools, estimating a cost of \\\\$100,000. \n",
       "\n"
      ],
      "text/plain": [
       "<IPython.core.display.Markdown object>"
      ]
     },
     "metadata": {},
     "output_type": "display_data"
    },
    {
     "data": {
      "text/markdown": [
       "[45. Scientists Are Testing AI That Could Detect Pain in Goats Just By Their Facial Expressions - Gizmodo](https://gizmodo.com/scientists-are-testing-ai-that-could-detect-pain-in-goats-just-by-their-facial-expressions-2000522501)  \n",
       "\n",
       " Agriculture, Animal Welfare, Cognitive Science, Computer Vision, Consciousness, Ethics, Facial Expressions, Facial Recognition, Goats, Health & Fitness, Healthcare, Pain Detection, Safety And Alignment, Science, Sustainability, Testing  \n",
       "\n",
       "- Researchers at the University of Florida are developing AI technology to detect pain in goats by analyzing their facial expressions, achieving 62% to 80% accuracy.\n",
       "- The AI model is based on decades of veterinarians' observations of pain indicators, aiming to streamline the process for farmers to assess the wellbeing of their animals.\n",
       "- The technology could also have broader applications for detecting pain in other non-verbal patients, such as young children. \n",
       "\n"
      ],
      "text/plain": [
       "<IPython.core.display.Markdown object>"
      ]
     },
     "metadata": {},
     "output_type": "display_data"
    },
    {
     "data": {
      "text/markdown": [
       "[46. Claude AI to process secret government data through new Palantir deal - Google News](https://news.google.com/read/CBMirAFBVV95cUxNWmZGV284amdOOVJWUl9nWFFYZTZCZzA3Z3c3eGJGUW04aUh2QndhRWpPcmdrY3d3MlVWLWV0WDNFVDdQRlo1U1dFOUp3M0hvZXVoN3dpVWRVcDVTQWY1Ym1rMHdreE9ZdW1ZOFZWc3BwOVlQZFEtZFplTm41SHlKazNKdlMzNFc1WXMyTTltOEVqOHMxZlRwUlFtdXE1MDZRTmxTb0E4WlFNZV9F)  \n",
       "\n",
       " Claude AI, Deals, Ethics, Gen AI, Governance, Government Data, Military, Palantir, Policy And Regulation, Politics, Privacy, Privacy & Surveillance, Safety And Alignment, Security  \n",
       "\n",
       "- Anthropic has partnered with Palantir and Amazon Web Services to deploy its Claude AI models for processing secret data in US intelligence and defense agencies.\n",
       "- Critics argue that this collaboration undermines Anthropic's commitment to \"AI safety,\" emphasizing concerns over ethical implications.\n",
       "- Claude will operate within a defense-accredited environment, focusing on data analysis, pattern identification, and document review, while maintaining human oversight in decision-making. \n",
       "\n"
      ],
      "text/plain": [
       "<IPython.core.display.Markdown object>"
      ]
     },
     "metadata": {},
     "output_type": "display_data"
    },
    {
     "data": {
      "text/markdown": [
       "[47. Sources: the jump in quality from GPT-4 to Orion is far smaller than the jump from GPT-3 to GPT-4; Orion may not outperform predecessors in tasks like coding (The Information) - The Information](https://www.theinformation.com/articles/openai-shifts-strategy-as-rate-of-gpt-ai-improvements-slows)  \n",
       "\n",
       " Code Assistants, Coding, Gen AI, Gpt-4, Language Models, Orion, Performance  \n",
       "\n",
       "- The usage of ChatGPT and other AI products is increasing significantly.\n",
       "- The rate of improvement in the foundational technologies of these AI products is slowing down.\n",
       "- OpenAI is developing new techniques to enhance these technologies in response to the slowdown. \n",
       "\n"
      ],
      "text/plain": [
       "<IPython.core.display.Markdown object>"
      ]
     },
     "metadata": {},
     "output_type": "display_data"
    },
    {
     "data": {
      "text/markdown": [
       "[48. Here's your first look at Google Meet's AI backgrounds on Android - Android Police](https://www.androidpolice.com/google-meet-ai-backgrounds-android-demo/)  \n",
       "\n",
       " AI Backgrounds, Android, Art & Design, Gen AI, Google Meet, Products, Video Conferencing  \n",
       "\n",
       "- Google Meet for Android will soon introduce AI-generated meeting backgrounds, a feature previously available on the web version.\n",
       "- Users will be able to create custom backgrounds using the Google Gemini technology, with the option to preview and regenerate outputs in real-time.\n",
       "- A holiday-themed background style will also be available exclusively on Android, while different artistic styles like Photography and Sci-fi will be included as options. \n",
       "\n"
      ],
      "text/plain": [
       "<IPython.core.display.Markdown object>"
      ]
     },
     "metadata": {},
     "output_type": "display_data"
    },
    {
     "data": {
      "text/markdown": [
       "[49. Why is AI unable to predict disasters like Spains flash flooding in time? - Google News](https://news.google.com/read/CBMixAFBVV95cUxNbm5xQkxHTTM3Q2YwN3ctelpOM0I5Z0tWWE1rV1JTM3p1a29zNl9URkFkZTRDUG1ocjZzMzhqUzBLaTlUQUZQMUViYnA1dEc0QktFNkVQREROSkJtX1BpNWhvbjhFOFBnbWI2MmZWMG1Hbk5zWFF1NnlycnBHWUNXUnJTeGt0eThibm4tN0tELTc5U1RYelZaRHp1czdHR1FFNUhhcXE0OXdxY1o3QVRMZ1J6aThhRF9TUlhVRDZtT1UxX2s2)  \n",
       "\n",
       " Climate, Cognitive Science, Disaster Prediction, Flooding, Natural Disasters, Opinion, Safety And Alignment, Science, Spain, Technology Limitations  \n",
       "\n",
       "- AI struggles to predict disasters like floods due to inadequate data quality and the unpredictable nature of extreme weather events, such as DANAs, which complicate forecasting efforts.\n",
       "- Despite advances in various applications of AI, the rarity and complexity of extreme weather phenomena hinder effective model training, limiting accurate predictions and early warnings.\n",
       "- Technology companies, including Google and IBM, are developing machine learning models to enhance weather forecasts and flood predictions, aiming to improve disaster preparedness and response. \n",
       "\n"
      ],
      "text/plain": [
       "<IPython.core.display.Markdown object>"
      ]
     },
     "metadata": {},
     "output_type": "display_data"
    },
    {
     "data": {
      "text/markdown": [
       "[50. I Compared ChatGPT Search and Google, and Google Should Be Worried - Google News](https://news.google.com/read/CBMikwFBVV95cUxNWWxzQUgweHY3SWVYM1hOLUdrQXJuMmJVbFJHWmtDenJrRWVNRUtKRDZvdWh4U3JHNjRWTGJBRDBVZzBULUI2UzNVdGpXTGJBVUR1c2VnYUFnMU9xMGZIVU1lNmdNYXhzZGh3Z3JvQUxId2tyTTZYUnd1TW9UU2xxRkRsUl9QRV8xNVc5TkVaZWN4dDA)  \n",
       "\n",
       " Chatbots, Chatgpt, Code Assistants, Comparison, Gen AI, Google, Language Models, Opinion, Review, Search, Virtual Assistants  \n",
       "\n",
       "- A comparison between ChatGPT's new web search feature and Google highlights that while both provide accurate information, Google still holds advantages in sourcing depth and presenting a variety of results, especially in news and shopping queries.\n",
       "- ChatGPT excels in generating detailed instructions and answering complex questions, but lacks the breadth of links and additional content that Google offers, such as a dedicated shopping tab or seamless integration with Google Maps.\n",
       "- Overall, ChatGPT presents a clean interface and useful responses for specific queries, indicating its potential to transform online information searches, although Google remains the go-to for general searches at this time. \n",
       "\n"
      ],
      "text/plain": [
       "<IPython.core.display.Markdown object>"
      ]
     },
     "metadata": {},
     "output_type": "display_data"
    },
    {
     "data": {
      "text/markdown": [
       "[51. How Agentic AI will revolutionize business operations  are you ready? - TechRadar](https://www.techradar.com/pro/how-agentic-ai-will-revolutionize-business-operations-are-you-ready)  \n",
       "\n",
       " Agentic AI, Artificial General Intelligence, Business Operations, Economics, Finance, Gen AI, Innovation, Job Automation, Jobs & Careerslabor Market, Opinion, Reinforcement Learning, Revolution, Virtual Assistants  \n",
       "\n",
       "- Agentic AI is set to transform business operations by enabling autonomous agents to handle complex, multistep workflows, enhancing tasks like sales targeting and supply chain optimization.\n",
       "- Successful implementation of agentic AI requires addressing data challenges, including latency, data silos, and inconsistent data across organizations' systems.\n",
       "- Unified data platforms and robust memory systems are essential for maximizing the potential of agentic AI, allowing businesses to leverage advanced automation and improved decision-making. \n",
       "\n"
      ],
      "text/plain": [
       "<IPython.core.display.Markdown object>"
      ]
     },
     "metadata": {},
     "output_type": "display_data"
    },
    {
     "data": {
      "text/markdown": [
       "[52. When machine learning tells the wrong story - jackcook.com](https://jackcook.com/2024/11/09/bigger-fish.html)  \n",
       "\n",
       " Analysis, Bias And Fairness, Cognitive Science, Disinformation, Machine Learning, Misinterpretation, Opinion, Science, Storytelling  \n",
       "\n",
       "- The research paper discusses a machine-learning-assisted side-channel attack that reveals how system interrupts can leak user activity, highlighting the vulnerabilities in modern computer architecture.\n",
       "- The author, a recent MIT graduate, presented the research at ISCA and the paper won the Intel Hardware Security Academic Award in 2024, indicating its significance in the field.\n",
       "- Key findings emphasize that machine learning models must be applied with caution in hardware security, as misinterpretation of data can lead to ineffective defenses against attacks. \n",
       "\n"
      ],
      "text/plain": [
       "<IPython.core.display.Markdown object>"
      ]
     },
     "metadata": {},
     "output_type": "display_data"
    },
    {
     "name": "stderr",
     "output_type": "stream",
     "text": [
      "2024-11-09 18:04:45,630 - AInewsbot - INFO - Sending bullet points email\n",
      "2024-11-09 18:04:47,162 - AInewsbot - INFO - Proposing categories using chatgpt-4o-latest\n",
      "2024-11-09 18:04:50,189 - httpx - INFO - HTTP Request: POST https://api.openai.com/v1/chat/completions \"HTTP/1.1 200 OK\"\n",
      "2024-11-09 18:04:50,226 - AInewsbot - INFO - Original topics:\n",
      "AI Benchmarks and Model Testing\n",
      "AI Model Compression Strategies\n",
      "AI Tool Identifies Long COVID\n",
      "AI and Heart Rate Data for Wellness\n",
      "AI for Whale Conservation\n",
      "AI in Healthcare: Diabetes Data Study\n",
      "AI in Military and Defense\n",
      "AI in Windows 11 Paint and Notepad\n",
      "AI's Role in the 2024 Election\n",
      "AI-Generated Headshots Impact Photography\n",
      "AI-Powered Smart Cities in Ukraine\n",
      "Agentic AI in Business Operations\n",
      "ChatGPT Search Enhancements\n",
      "ChatGPT and Online Opportunities\n",
      "Chegg's Stock Collapse Due to ChatGPT\n",
      "Google Chrome's AI-Powered Protection\n",
      "Language Models and AI Performance\n",
      "OpenAI's Copyright Lawsuit Victory\n",
      "Samsung's 400-Layer NAND Chip for AI\n",
      "Small Language Models vs LLMs\n",
      "TSMC Halts AI Chip Production for China\n",
      "Taiwan Semiconductor Industry and AI Chips\n",
      "Warren Buffett's AI Investments\n",
      "2024-11-09 18:04:52,087 - httpx - INFO - HTTP Request: POST https://api.openai.com/v1/chat/completions \"HTTP/1.1 200 OK\"\n",
      "2024-11-09 18:04:52,093 - AInewsbot - INFO - Updated topics:\n",
      "2024 Election Influence\n",
      "AI Performance Metrics\n",
      "Business Operations Automation\n",
      "ChatGPT Enhancements\n",
      "ChatGPT and Job Opportunities\n",
      "Chegg Stock Decline\n",
      "Chip Production Halted\n",
      "Chrome's Protection Features\n",
      "Copyright Lawsuit Outcome\n",
      "Diabetes Data Study\n",
      "Heart Rate Wellness Data\n",
      "Investment in Technology\n",
      "Language Model Comparisons\n",
      "Long COVID Identification Tool\n",
      "Military and Defense Tech\n",
      "Model Compression Strategies\n",
      "Model Testing Benchmarks\n",
      "Photography Industry Impact\n",
      "Samsung's NAND Chip\n",
      "Smart Cities In Ukraine\n",
      "Taiwan Semiconductor Industry\n",
      "Whale Conservation Initiative\n",
      "Windows 11 Paint and Notepad\n",
      "2024-11-09 18:04:52,096 - AInewsbot - INFO - Composing summary using o1-preview\n"
     ]
    },
    {
     "name": "stdout",
     "output_type": "stream",
     "text": [
      "2024 Election Influence\n",
      "AI Performance Metrics\n",
      "Business Operations Automation\n",
      "ChatGPT Enhancements\n",
      "ChatGPT and Job Opportunities\n",
      "Chegg Stock Decline\n",
      "Chip Production Halted\n",
      "Chrome's Protection Features\n",
      "Copyright Lawsuit Outcome\n",
      "Diabetes Data Study\n",
      "Heart Rate Wellness Data\n",
      "Investment in Technology\n",
      "Language Model Comparisons\n",
      "Long COVID Identification Tool\n",
      "Military and Defense Tech\n",
      "Model Compression Strategies\n",
      "Model Testing Benchmarks\n",
      "Photography Industry Impact\n",
      "Samsung's NAND Chip\n",
      "Smart Cities In Ukraine\n",
      "Taiwan Semiconductor Industry\n",
      "Whale Conservation Initiative\n",
      "Windows 11 Paint and Notepad\n"
     ]
    },
    {
     "name": "stderr",
     "output_type": "stream",
     "text": [
      "2024-11-09 18:06:19,988 - httpx - INFO - HTTP Request: POST https://api.openai.com/v1/chat/completions \"HTTP/1.1 200 OK\"\n"
     ]
    },
    {
     "data": {
      "text/markdown": [
       "# ChatGPT Challenges Google: The Search Showdown\n",
       "\n",
       "- I found these 5 tips helped me get the most out of ChatGPT Search - [Google News](https://news.google.com/read/CBMiiAFBVV95cUxPM01Qa2ZGUHllTjdDNWkxRVdvYTFTYm5jNGdhRFhCU1B6YW9Kc1lyeHdBZ0JUQkdOVG5JbkdzTmJQNzRJS0hPTlM5c0JCaVZFRE51bGtvTnZlV01WVG9hZTU3RkFzTjJ0VWdXUEFmSXZIalhLVHpnT2lMbGRDNUZNc2o3eXAyR1Fz)\n",
       "- 3 Ways To Use ChatGPT Search To Make Money Online In 2024 - [Google News](https://news.google.com/read/CBMioAFBVV95cUxORVpWOWRhT1ZuVk90QndDNDNWazRXVHNaTS00T2w4dlJFUTRjT2RfZF9ScGN1dWhCR28yeFNvcEtzTWdJTzdxZ1NBdVB3TV9WbGkzSVo4bDRaY01wd2dlZnVZQnh6V2F4bW9GU1JjakpHMGd1c0FSaG0xTmFlblp1ZEVtOUFOVF82WUloNjFUcFhwZHNBT0FfZVozLUI5dmxr)\n",
       "- Goodbye Google? How to use ChatGPT's new web search - [Google News](https://news.google.com/read/CBMimgFBVV95cUxOX2ZnTHBsNHgxbmtMc1EtNDY3ZFRhN2taWktCRmkwYzdCcFFtbjl3Q1htVS1vUkJBS3piaVgxRmhhMUg1MUhjTW0ta2pNb19TMWx5cV9vYk81b0Q2MEtwRkVld25pTWlTUnJHbTdmQUFRNUFCM29JeWd5LVVyQjJjRXA2VGRqaldJRHZoMjZWVklEVFE5S0owdHdn)\n",
       "- I Compared ChatGPT Search and Google, and Google Should Be Worried - [Google News](https://news.google.com/read/CBMikwFBVV95cUxNWWxzQUgweHY3SWVYM1hOLUdrQXJuMmJVbFJHWmtDenJrRWVNRUtKRDZvdWh4U3JHNjRWTGJBRDBVZzBULUI2UzNVdGpXTGJBVUR1c2VnYUFnMU9xMGZIVU1lNmdNYXhzZGh3Z3JvQUxId2tyTTZYUnd1TW9UU2xxRkRsUl9QRV8xNVc5TkVaZWN4dDA)\n",
       "\n",
       "# AI Upending Careers: From Chegg to Cameras\n",
       "\n",
       "- Chegg Is On Its Last Legs After ChatGPT Sent Its Stock Down 99% - [Gizmodo](https://gizmodo.com/chegg-is-on-its-last-legs-after-chatgpt-sent-its-stock-down-99-2000522585)\n",
       "- Headshot Photographers: AI Is About To Eat Your Lunch - [Fstoppers](https://fstoppers.com/artificial-intelligence/headshot-photographers-ai-about-eat-your-lunch-684878)\n",
       "\n",
       "# Little Language Models, Big Potential\n",
       "\n",
       "- Here are 3 critical LLM compression strategies to supercharge AI performance - [Google News](https://news.google.com/read/CBMipwFBVV95cUxPZmZUQ0V0aUllWHpIY3RndEM4cWhGOGdKSmo4eVBkTTE3aDRETmlfeTBwenhId1RuNDVvY2F1VDVqWnBmcWlvLTNzcFRSZlN6ZW5PZVVVOGZUdl9qNFJiM2J6djRUMDJjRTJWUG5vQWNzUzYxNlVja0NwUWFvNW5ESnlwNU5MaVlQcDBHT214R2NMTE5wSWtzeFFmRkE2OWdiVEp2ejVnNA)\n",
       "- A Deep Dive into Small Language Models: Efficient Alternatives to Large Language Models for Real-Time Processing and Specialized Tasks - [MarkTechPost](https://www.marktechpost.com/2024/11/09/a-deep-dive-into-small-language-models-efficient-alternatives-to-large-language-models-for-real-time-processing-and-specialized-tasks/)\n",
       "- Small Language Models Gaining Popularity While LLMs Still Go Strong - [Google News](https://news.google.com/read/CBMihAJBVV95cUxNYlp0RnQ2U25qTmxpR2JwOHBLWEd1dFc2cWFISGk3Zm5xMVdybm9MNzBFVzFQajZZQVBuRDI3Nzk5NDdpc3llc2U5bmY5Q2RtYmM1ZkpIM0hNemJDMFpGTm9OWl9VOFF1WjFELUlKV2prVnFZTFE0ZkF5WUItTGduZHFoNi1VSXVXSzNyVkkyeUtfOVVWQ1FwTThqZEg2cTU0TFVCYzlTY0c3ZXdJbWxJTWQ3NU1BamVUSEJsLWJWa1JPSTRQVDB1ekc3QmxTLWdQaWhzZG1Nbmd4STRwYUx4YkhnY3RCeW50eExKX3JHVVNJY3RPY3l6a1kteC1LZGl5Mm4xTg)\n",
       "\n",
       "# Chips and Tensions: Taiwan's Semiconductor Saga\n",
       "\n",
       "- TSMC to Suspend AI Chips Production for China From November 11: Report - [Gadgets360](https://www.gadgets360.com/ai/news/tsmc-suspend-advanced-ai-chip-production-china-report-6981141)\n",
       "- TSMC may stop producing AI chips for Chinese companies - [Android Headlines](https://www.androidheadlines.com/2024/11/tsmc-may-stop-producing-ai-chips-for-chinese-companies.html)\n",
       "- Taiwan's semiconductor production is on track to increase 22% YoY to a record \\\\$165B in 2024 on AI demand - [Twitter](https://t.co/LHrQIaHRfq)\n",
       "\n",
       "# AI and the Military: A New Alliance\n",
       "\n",
       "- OpenAI backs robots, Amazon and Palantir's defense deal, Saudi Arabia's \\\\$100 billion bet: This week's AI launches - [Yahoo](https://www.yahoo.com/tech/openai-backs-robots-amazon-palantirs-100000753.html)\n",
       "- AI companies get comfortable offering their technology to the military - [Google News](https://news.google.com/read/CBMimAFBVV95cUxQTlVTenpaQkJxNUxUYURoLVZNV25KQjhYOHVySlg1OFAxTDVlNGw3cWtuQTdLVzF4cnV3Q2k3RDFxVkJnRDVxU1hPVEhxMzlQZHdjWTc2d3NwYWNZWUQzNEZLeXdMTUdodDNiOVF6YURNSDk5Mzl1VHlsdFBXNmphMFZ1bkdVdzl0ekZ0MWc5Q3VFOHJtQkhPSg)\n",
       "\n",
       "# Health and AI: A Symbiotic Future\n",
       "\n",
       "- AI-READI consortium launches groundbreaking diabetes data study - [MSN](https://www.msn.com/en-gb/health/other/ai-readi-consortium-launches-groundbreaking-diabetes-data-study/ar-AA1tKPLh)\n",
       "- Can AI And Your Heart Rate Data Help You To Flourish? - [Forbes](https://www.forbes.com/sites/johnwerner/2024/11/09/can-ai-and-your-heart-rate-data-help-you-to-flourish/)\n",
       "- AI Tool Reveals Long COVID May Affect 23% of People - [Neuroscience News](https://neurosciencenews.com/ai-long-covid-28003/)\n",
       "\n",
       "# Legal Battles in the AI Arena\n",
       "\n",
       "- OpenAI Has, For Now, Escaped Copyright Lawsuit Filed Against It Regarding Its Use Of News Articles Without Consent To Train ChatGPT - [Wccftech](https://wccftech.com/openai-escaped-copyright-laws)\n",
       "- Federal court sides with OpenAI in AI copyright lawsuit - [SiliconANGLE](https://siliconangle.com/2024/11/08/federal-court-sides-openai-ai-copyright-lawsuit)\n",
       "- At last, it seems the law recognizes that AI synthesizes, not copies - [Medium](https://medium.com/enrique-dans/at-last-it-seems-the-law-recognizes-that-ai-synthesizes-not-copies-8489ba5616df)\n",
       "\n",
       "# Election Integrity in the Age of AI\n",
       "\n",
       "- ChatGPT rejected more than 250,000 image generations of presidential candidates prior to Election Day - [NBC News](https://www.nbcnews.com/tech/chatgpt-rejected-image-generations-presidential-candidates-rcna179469)\n",
       "- AI didn't sway the election, but it deepened the partisan divide - [The Washington Post](https://www.washingtonpost.com/technology/2024/11/09/ai-deepfakes-us-election)\n",
       "\n",
       "# Tech Titans Invest in AI Futures\n",
       "\n",
       "- Warren Buffett's AI Bets: 24.1% of Berkshire Hathaway's \\\\$287 Billion Stock Portfolio Is Invested in These 2 Artificial Intelligence Stocks - [Yahoo Finance](https://finance.yahoo.com/news/warren-buffetts-ai-bets-24-111800171.html)\n",
       "- eBay Inc.'s Secret to Dominating Internet Retail: AI Innovations and Revenue Growth - [Yahoo Finance](https://finance.yahoo.com/news/ebay-inc-ebay-secret-dominating-195907555.html)\n",
       "\n",
       "# AI Innovations in Everyday Tools\n",
       "\n",
       "- Hands on with AI features in Windows 11 Paint and Notepad - [Bleeping Computer](https://www.bleepingcomputer.com/news/microsoft/hands-on-with-ai-features-in-windows-11-paint-and-notepad/)\n",
       "- Google says Enhanced protection feature in Chrome now uses AI - [Bleeping Computer](https://www.bleepingcomputer.com/news/google/google-says-enhanced-protection-feature-in-chrome-now-uses-ai/)\n",
       "\n",
       "# Building Smart Cities Amidst Conflict\n",
       "\n",
       "- American AI company Vantiq launches project to develop smart cities in Ukraine - [Kyiv Independent](https://kyivindependent.com/american-ai-company-vantiq-launches-project-to-develop-smart-cities-in-ukraine/)\n",
       "\n",
       "# Innovations in AI Benchmarking\n",
       "\n",
       "- AI groups rush to redesign model testing and create new benchmarks - [Google News](https://news.google.com/read/CBMicEFVX3lxTE1oOW5JdFI0bWpJYkVMVS1fR21jLU83YXlQUVpGQzFEakJsYUZMVV80RFdyYXp4ZWZhLVZaSTJobVRNRVlhNTM5T2VtYzhwSkVLck9YSlczdGhXcnJTeFJzTTFzMDlyLTI3OVpvMW9WUjE)\n",
       "- FrontierMath: A benchmark for evaluating advanced mathematical reasoning in AI - [epochai.org](https://epochai.org/frontiermath/the-benchmark)\n",
       "\n",
       "# Energy-Efficient AI Hardware Breakthroughs\n",
       "\n",
       "- New fanless cooling technology enhances energy efficiency for AI workloads by achieving a 90% reduction in cooling power consumption - [TechRadar](https://www.techradar.com/pro/new-fanless-cooling-technology-enhances-energy-efficiency-for-ai-workloads-by-achieving-a-90-percent-reduction-in-cooling-power-consumption)\n",
       "- Samsung plans record-breaking 400-layer NAND chip that could be key to breaking 200TB barrier for ultra large capacity AI hyperscaler SSDs - [TechRadar](https://www.techradar.com/pro/samsung-plans-record-breaking-400-layer-nand-chip-that-could-be-key-to-breaking-200tb-barrier-for-ultra-large-capacity-ai-hyperscaler-ssds)\n",
       "\n",
       "# AI Meets the Natural World\n",
       "\n",
       "- Can AI stop ships from killing thousands of whales each year? - [MSN](https://www.msn.com/en-us/travel/news/can-ai-stop-ships-from-killing-thousands-of-whales-each-year/ar-AA1tNAzZ)\n",
       "- Scientists Are Testing AI That Could Detect Pain in Goats Just By Their Facial Expressions - [Gizmodo](https://gizmodo.com/scientists-are-testing-ai-that-could-detect-pain-in-goats-just-by-their-facial-expressions-2000522501)\n",
       "\n",
       "# AI's Evolution: Slowdowns and New Strategies\n",
       "\n",
       "- Sources: the jump in quality from GPT-4 to Orion is far smaller than the jump from GPT-3 to GPT-4; Orion may not outperform predecessors in tasks like coding - [The Information](https://www.theinformation.com/articles/openai-shifts-strategy-as-rate-of-gpt-ai-improvements-slows)\n",
       "- OpenAI's CEO Sam Altman Predicts AGI Could Appear Within Five Years, With Far Less Impact On Society Than Most Expect - [Wccftech](https://wccftech.com/openai-ceo-sam-altman-predicts-agi-could-appear-within-five-years)\n",
       "\n",
       "# Business Operations Revolutionized by Agentic AI\n",
       "\n",
       "- How Agentic AI will revolutionize business operations—are you ready? - [TechRadar](https://www.techradar.com/pro/how-agentic-ai-will-revolutionize-business-operations-are-you-ready)\n",
       "- UnifyApps reels in \\\\$20M for its AI-powered application platform - [SiliconANGLE](https://siliconangle.com/2024/11/08/unifyapps-reels-20m-ai-powered-application-platform)\n",
       "\n",
       "# Augmented Reality Takes to the Ears\n",
       "\n",
       "- With AI, the Future of Augmented Reality Is in Your Ears - [Crazystupidtech.com](https://crazystupidtech.com/archive/with-ai-the-future-of-augmented-reality-is-in/)\n",
       "\n",
       "# AI's Role in Weather Prediction and Limitations\n",
       "\n",
       "- Why is AI unable to predict disasters like Spain’s flash flooding in time? - [Google News](https://news.google.com/read/CBMixAFBVV95cUxNbm5xQkxHTTM3Q2YwN3ctelpOM0I5Z0tWWE1rV1JTM3p1a29zNl9URkFkZTRDUG1ocjZzMzhqUzBLaTlUQUZQMUViYnA1dEc0QktFNkVQREROSkJtX1BpNWhvbjhFOFBnbWI2MmZWMG1Hbk5zWFF1NnlycnBHWUNXUnJTeGt0eThibm4tN0tELTc5U1RYelZaRHp1czdHR1FFNUhhcXE0OXdxY1o3QVRMZ1J6aThhRF9TUlhVRDZtT1UxX2s2)\n",
       "\n",
       "# AI in Education and Historical Analysis\n",
       "\n",
       "- ML analysis tracks the evolution of 16th-century European astronomical thought - [Phys.org](https://phys.org/news/2024-10-machine-analysis-tracks-evolution-16th.html)\n",
       "\n",
       "# AI Innovations in Communication Tools\n",
       "\n",
       "- Here's your first look at Google Meet's AI backgrounds on Android - [Android Police](https://www.androidpolice.com/google-meet-ai-backgrounds-android-demo/)\n",
       "\n",
       "# Students Innovate with AI for Sustainability\n",
       "\n",
       "- Vancouver high school students create intelligent garbage cans to help sort waste - [Yahoo News Canada](https://ca.news.yahoo.com/vancouver-high-school-students-create-130000179.html)\n",
       "\n",
       "# When Machine Learning Tells the Wrong Story\n",
       "\n",
       "- When machine learning tells the wrong story - [jackcook.com](https://jackcook.com/2024/11/09/bigger-fish.html)\n",
       "\n",
       "# Short Summary\n",
       "\n",
       "This newsletter covers a breadth of AI advancements and impacts across industries, highlighting ChatGPT's potential to rival Google in web search, AI's disruptive effects on careers and businesses like Chegg and photography, and the growing prominence of small language models. It delves into geopolitical tensions affecting semiconductor production, the integration of AI into military operations, and significant legal rulings on AI and copyright. Additionally, it explores AI's role in healthcare, environmental conservation, business operations, augmented reality, and technological innovations in everyday tools. Emerging themes include energy-efficient hardware, AI's limitations in disaster prediction, and student-led sustainability initiatives using AI."
      ],
      "text/plain": [
       "<IPython.core.display.Markdown object>"
      ]
     },
     "metadata": {},
     "output_type": "display_data"
    },
    {
     "name": "stderr",
     "output_type": "stream",
     "text": [
      "2024-11-09 18:06:19,999 - AInewsbot - INFO - Rewriting summary using o1-preview\n",
      "2024-11-09 18:07:59,654 - httpx - INFO - HTTP Request: POST https://api.openai.com/v1/chat/completions \"HTTP/1.1 200 OK\"\n"
     ]
    },
    {
     "data": {
      "text/markdown": [
       "# AI Revolution: ChatGPT Takes on Google, Careers Shift, and Global Tech Tensions Rise\n",
       "\n",
       "## Search Wars: ChatGPT Challenges Google\n",
       "\n",
       "- Articles explore ChatGPT's new web search capabilities, comparing it to Google, offering tips, and exploring its potential for online income in 2024: [Google News](https://news.google.com/read/CBMiiAFBVV95cUxPM01Qa2ZGUHllTjdDNWkxRVdvYTFTYm5jNGdhRFhCU1B6YW9Kc1lyeHdBZ0JUQkdOVG5JbkdzTmJQNzRJS0hPTlM5c0JCaVZFRE51bGtvTnZlV01WVG9hZTU3RkFzTjJ0VWdXUEFmSXZIalhLVHpnT2lMbGRDNUZNc2o3eXAyR1Fz), [Google News](https://news.google.com/read/CBMioAFBVV95cUxORVpWOWRhT1ZuVk90QndDNDNWazRXVHNaTS00T2w4dlJFUTRjT2RfZF9ScGN1dWhCR28yeFNvcEtzTWdJTzdxZ1NBdVB3TV9WbGkzSVo4bDRaY01wd2dlZnVZQnh6V2F4bW9GU1JjakpHMGd1c0FSaG0xTmFlblp1ZEVtOUFOVF82WUloNjFUcFhwZHNBT0FfZVozLUI5dmxr), [Google News](https://news.google.com/read/CBMimgFBVV95cUxOX2ZnTHBsNHgxbmtMc1EtNDY3ZFRhN2taWktCRmkwYzdCcFFtbjl3Q1htVS1vUkJBS3piaVgxRmhhMUg1MUhjTW0ta2pNb19TMWx5cV9vYk81b0Q2MEtwRkVld25pTWlTUnJHbTdmQUFRNUFCM29JeWd5LVVyQjJjRXA2VGRqaldJRHZoMjZWVklEVFE5S0owdHdn), [Google News](https://news.google.com/read/CBMikwFBVV95cUxNWWxzQUgweHY3SWVYM1hOLUdrQXJuMmJVbFJHWmtDenJrRWVNRUtKRDZvdWh4U3JHNjRWTGJBRDBVZzBULUI2UzNVdGpXTGJBVUR1c2VnYUFnMU9xMGZIVU1lNmdNYXhzZGh3Z3JvQUxId2tyTTZYUnd1TW9UU2xxRkRsUl9QRV8xNVc5TkVaZWN4dDA)\n",
       "\n",
       "## Career Crunch: AI Hits Chegg and Photographers\n",
       "\n",
       "- Chegg is facing decline after ChatGPT caused its stock to drop 99%: [Gizmodo](https://gizmodo.com/chegg-is-on-its-last-legs-after-chatgpt-sent-its-stock-down-99-2000522585)\n",
       "- AI threatens headshot photographers by automating the process: [Fstoppers](https://fstoppers.com/artificial-intelligence/headshot-photographers-ai-about-eat-your-lunch-684878)\n",
       "\n",
       "## Little Language Models, Big Potential\n",
       "\n",
       "- Articles discuss small language models as efficient alternatives to large ones, covering compression strategies and their growing popularity: [Google News](https://news.google.com/read/CBMipwFBVV95cUxPZmZUQ0V0aUllWHpIY3RndEM4cWhGOGdKSmo4eVBkTTE3aDRETmlfeTBwenhId1RuNDVvY2F1VDVqWnBmcWlvLTNzcFRSZlN6ZW5PZVVVOGZUdl9qNFJiM2J6djRUMDJjRTJWUG5vQWNzUzYxNlVja0NwUWFvNW5ESnlwNU5MaVlQcDBHT214R2NMTE5wSWtzeFFmRkE2OWdiVEp2ejVnNA), [MarkTechPost](https://www.marktechpost.com/2024/11/09/a-deep-dive-into-small-language-models-efficient-alternatives-to-large-language-models-for-real-time-processing-and-specialized-tasks/), [Google News](https://news.google.com/read/CBMihAJBVV95cUxNYlp0RnQ2U25qTmxpR2JwOHBLWEd1dFc2cWFISGk3Zm5xMVdybm9MNzBFVzFQajZZQVBuRDI3Nzk5NDdpc3llc2U5bmY5Q2RtYmM1ZkpIM0hNemJDMFpGTm9OWl9VOFF1WjFELUlKV2prVnFZTFE0ZkF5WUItTGduZHFoNi1VSXVXSzNyVkkyeUtfOVVWQ1FwTThqZEg2cTU0TFVCYzlTY0c3ZXdJbWxJTWQ3NU1BamVUSEJsLWJWa1JPSTRQVDB1ekc3QmxTLWdQaWhzZG1Nbmd4STRwYUx4YkhnY3RCeW50eExKX3JHVVNJY3RPY3l6a1kteC1LZGl5Mm4xTg)\n",
       "\n",
       "## Chips and Tensions: Taiwan's Semiconductor Saga\n",
       "\n",
       "- TSMC may halt AI chip production for Chinese companies starting November 11: [Gadgets360](https://www.gadgets360.com/ai/news/tsmc-suspend-advanced-ai-chip-production-china-report-6981141), [Android Headlines](https://www.androidheadlines.com/2024/11/tsmc-may-stop-producing-ai-chips-for-chinese-companies.html)\n",
       "- Taiwan's semiconductor production is projected to increase 22% YoY to a record \\\\$165B in 2024 due to AI demand: [Twitter](https://t.co/LHrQIaHRfq)\n",
       "\n",
       "## AI and the Military: A New Alliance\n",
       "\n",
       "- AI companies expand into military and defense sectors, with OpenAI, Amazon, and Palantir making deals, and Saudi Arabia investing \\\\$100 billion: [Yahoo](https://www.yahoo.com/tech/openai-backs-robots-amazon-palantirs-100000753.html), [Google News](https://news.google.com/read/CBMimAFBVV95cUxQTlVTenpaQkJxNUxUYURoLVZNV25KQjhYOHVySlg1OFAxTDVlNGw3cWtuQTdLVzF4cnV3Q2k3RDFxVkJnRDVxU1hPVEhxMzlQZHdjWTc2d3NwYWNZWUQzNEZLeXdMTUdodDNiOVF6YURNSDk5Mzl1VHlsdFBXNmphMFZ1bkdVdzl0ekZ0MWc5Q3VFOHJtQkhPSg)\n",
       "\n",
       "## Health and AI: A Symbiotic Future\n",
       "\n",
       "- AI-READI consortium launches groundbreaking diabetes data study: [MSN](https://www.msn.com/en-gb/health/other/ai-readi-consortium-launches-groundbreaking-diabetes-data-study/ar-AA1tKPLh)\n",
       "- Can AI and your heart rate data help you to flourish?: [Forbes](https://www.forbes.com/sites/johnwerner/2024/11/09/can-ai-and-your-heart-rate-data-help-you-to-flourish/)\n",
       "- AI tool reveals Long COVID may affect 23% of people: [Neuroscience News](https://neurosciencenews.com/ai-long-covid-28003/)\n",
       "\n",
       "## Legal Battles in the AI Arena\n",
       "\n",
       "- OpenAI prevails in copyright lawsuit over use of news articles to train ChatGPT: [Wccftech](https://wccftech.com/openai-escaped-copyright-laws), [SiliconANGLE](https://siliconangle.com/2024/11/08/federal-court-sides-openai-ai-copyright-lawsuit)\n",
       "- Commentary suggests the law recognizes that AI synthesizes, not copies: [Medium](https://medium.com/enrique-dans/at-last-it-seems-the-law-recognizes-that-ai-synthesizes-not-copies-8489ba5616df)\n",
       "\n",
       "## Election Integrity in the Age of AI\n",
       "\n",
       "- ChatGPT rejected over 250,000 image generations of presidential candidates prior to Election Day: [NBC News](https://www.nbcnews.com/tech/chatgpt-rejected-image-generations-presidential-candidates-rcna179469)\n",
       "- AI didn't sway the election but deepened the partisan divide: [The Washington Post](https://www.washingtonpost.com/technology/2024/11/09/ai-deepfakes-us-election)\n",
       "\n",
       "## Tech Titans Invest in AI Futures\n",
       "\n",
       "- Warren Buffett's Berkshire Hathaway invests 24.1% of its \\\\$287B stock portfolio in two AI stocks: [Yahoo Finance](https://finance.yahoo.com/news/warren-buffetts-ai-bets-24-111800171.html)\n",
       "- eBay's secret to dominating internet retail: AI innovations and revenue growth: [Yahoo Finance](https://finance.yahoo.com/news/ebay-inc-ebay-secret-dominating-195907555.html)\n",
       "\n",
       "## AI Innovations in Everyday Tools\n",
       "\n",
       "- Hands-on with AI features in Windows 11 Paint and Notepad: [Bleeping Computer](https://www.bleepingcomputer.com/news/microsoft/hands-on-with-ai-features-in-windows-11-paint-and-notepad/)\n",
       "- Google says Enhanced Protection feature in Chrome now uses AI: [Bleeping Computer](https://www.bleepingcomputer.com/news/google/google-says-enhanced-protection-feature-in-chrome-now-uses-ai/)\n",
       "\n",
       "## Building Smart Cities Amidst Conflict\n",
       "\n",
       "- American AI company Vantiq launches project to develop smart cities in Ukraine: [Kyiv Independent](https://kyivindependent.com/american-ai-company-vantiq-launches-project-to-develop-smart-cities-in-ukraine/)\n",
       "\n",
       "## Innovations in AI Benchmarking\n",
       "\n",
       "- AI groups redesign model testing and create new benchmarks like FrontierMath for evaluating advanced capabilities: [Google News](https://news.google.com/read/CBMicEFVX3lxTE1oOW5JdFI0bWpJYkVMVS1fR21jLU83YXlQUVpGQzFEakJsYUZMVV80RFdyYXp4ZWZhLVZaSTJobVRNRVlhNTM5T2VtYzhwSkVLck9YSlczdGhXcnJTeFJzTTFzMDlyLTI3OVpvMW9WUjE), [Epoch AI](https://epochai.org/frontiermath/the-benchmark)\n",
       "\n",
       "## Energy-Efficient AI Hardware Breakthroughs\n",
       "\n",
       "- New fanless cooling technology enhances energy efficiency for AI workloads by reducing cooling power consumption by 90%: [TechRadar](https://www.techradar.com/pro/new-fanless-cooling-technology-enhances-energy-efficiency-for-ai-workloads-by-achieving-a-90-percent-reduction-in-cooling-power-consumption)\n",
       "- Samsung plans record-breaking 400-layer NAND chip, key to breaking 200TB barrier for ultra-large capacity AI hyperscaler SSDs: [TechRadar](https://www.techradar.com/pro/samsung-plans-record-breaking-400-layer-nand-chip-that-could-be-key-to-breaking-200tb-barrier-for-ultra-large-capacity-ai-hyperscaler-ssds)\n",
       "\n",
       "## AI Meets the Natural World\n",
       "\n",
       "- AI aims to prevent ships from killing thousands of whales each year: [MSN](https://www.msn.com/en-us/travel/news/can-ai-stop-ships-from-killing-thousands-of-whales-each-year/ar-AA1tNAzZ)\n",
       "- Scientists test AI that could detect pain in goats by their facial expressions: [Gizmodo](https://gizmodo.com/scientists-are-testing-ai-that-could-detect-pain-in-goats-just-by-their-facial-expressions-2000522501)\n",
       "\n",
       "## AI's Evolution: Slowdowns and New Strategies\n",
       "\n",
       "- Reports suggest the quality jump from GPT-4 to Orion is smaller than previous leaps, with Orion potentially not outperforming predecessors in tasks like coding: [The Information](https://www.theinformation.com/articles/openai-shifts-strategy-as-rate-of-gpt-ai-improvements-slows)\n",
       "- OpenAI's CEO Sam Altman predicts AGI could appear within five years, with less impact on society than expected: [Wccftech](https://wccftech.com/openai-ceo-sam-altman-predicts-agi-could-appear-within-five-years)\n",
       "\n",
       "## Business Operations Revolutionized by Agentic AI\n",
       "\n",
       "- Agentic AI poised to revolutionize business operations—are you ready?: [TechRadar](https://www.techradar.com/pro/how-agentic-ai-will-revolutionize-business-operations-are-you-ready)\n",
       "- UnifyApps reels in \\\\$20M for its AI-powered application platform: [SiliconANGLE](https://siliconangle.com/2024/11/08/unifyapps-reels-20m-ai-powered-application-platform)\n",
       "\n",
       "## Augmented Reality Takes to the Ears\n",
       "\n",
       "- With AI, the future of augmented reality is in your ears: [Crazystupidtech.com](https://crazystupidtech.com/archive/with-ai-the-future-of-augmented-reality-is-in/)\n",
       "\n",
       "## AI's Role in Weather Prediction and Limitations\n",
       "\n",
       "- Why is AI unable to predict disasters like Spain’s flash flooding in time?: [Google News](https://news.google.com/read/CBMixAFBVV95cUxNbm5xQkxHTTM3Q2YwN3ctelpOM0I5Z0tWWE1rV1JTM3p1a29zNl9URkFkZTRDUG1ocjZzMzhqUzBLaTlUQUZQMUViYnA1dEc0QktFNkVQREROSkJtX1BpNWhvbjhFOFBnbWI2MmZWMG1Hbk5zWFF1NnlycnBHWUNXUnJTeGt0eThibm4tN0tELTc5U1RYelZaRHp1czdHR1FFNUhhcXE0OXdxY1o3QVRMZ1J6aThhRF9TUlhVRDZtT1UxX2s2)\n",
       "\n",
       "## AI in Education and Historical Analysis\n",
       "\n",
       "- Machine learning analysis tracks the evolution of 16th-century European astronomical thought: [Phys.org](https://phys.org/news/2024-10-machine-analysis-tracks-evolution-16th.html)\n",
       "\n",
       "## AI Innovations in Communication Tools\n",
       "\n",
       "- First look at Google Meet's AI backgrounds on Android: [Android Police](https://www.androidpolice.com/google-meet-ai-backgrounds-android-demo/)\n",
       "\n",
       "## Students Innovate with AI for Sustainability\n",
       "\n",
       "- Vancouver high school students create intelligent garbage cans to help sort waste: [Yahoo News Canada](https://ca.news.yahoo.com/vancouver-high-school-students-create-130000179.html)\n",
       "\n",
       "## When Machine Learning Tells the Wrong Story\n",
       "\n",
       "- When machine learning tells the wrong story: [jackcook.com](https://jackcook.com/2024/11/09/bigger-fish.html)\n",
       "\n",
       "## Short Summary\n",
       "\n",
       "This newsletter covers AI advancements and impacts across industries, highlighting ChatGPT's potential to rival Google in web search, AI's disruptive effects on careers and businesses like Chegg and photography, and the growing prominence of small language models. It delves into geopolitical tensions affecting semiconductor production, the integration of AI into military operations, and significant legal rulings on AI and copyright. Additionally, it explores AI's role in healthcare, environmental conservation, business operations, augmented reality, and technological innovations in everyday tools. Emerging themes include energy-efficient hardware, AI's limitations in disaster prediction, and student-led sustainability initiatives using AI."
      ],
      "text/plain": [
       "<IPython.core.display.Markdown object>"
      ]
     },
     "metadata": {},
     "output_type": "display_data"
    },
    {
     "name": "stderr",
     "output_type": "stream",
     "text": [
      "2024-11-09 18:07:59,664 - AInewsbot - INFO - Rewriting summary using o1-preview\n",
      "2024-11-09 18:09:25,691 - httpx - INFO - HTTP Request: POST https://api.openai.com/v1/chat/completions \"HTTP/1.1 200 OK\"\n"
     ]
    },
    {
     "data": {
      "text/markdown": [
       "# AI's Big Impact: Search Showdowns, Career Crunches, and Tech Tensions\n",
       "\n",
       "## Search Wars: ChatGPT Challenges Google\n",
       "\n",
       "- ChatGPT's web search capabilities challenge Google, with comparisons, tips, and income potential for 2024: [Google News](https://news.google.com/read/CBMiiAFBVV95cUxPM01Qa2ZGUHllTjdDNWkxRVdvYTFTYm5jNGdhRFhCU1B6YW9Kc1lyeHdBZ0JUQkdOVG5JbkdzTmJQNzRJS0hPTlM5c0JCaVZFRE51bGtvTnZlV01WVG9hZTU3RkFzTjJ0VWdXUEFmSXZIalhLVHpnT2lMbGRDNUZNc2o3eXAyR1Fz), [Google News](https://news.google.com/read/CBMioAFBVV95cUxORVpWOWRhT1ZuVk90QndDNDNWazRXVHNaTS00T2w4dlJFUTRjT2RfZF9ScGN1dWhCR28yeFNvcEtzTWdJTzdxZ1NBdVB3TV9WbGkzSVo4bDRaY01wd2dlZnVZQnh6V2F4bW9GU1JjakpHMGd1c0FSaG0xTmFlblp1ZEVtOUFOVF82WUloNjFUcFhwZHNBT0FfZVozLUI5dmxr), [Google News](https://news.google.com/read/CBMimgFBVV95cUxOX2ZnTHBsNHgxbmtMc1EtNDY3ZFRhN2taWktCRmkwYzdCcFFtbjl3Q1htVS1vUkJBS3piaVgxRmhhMUg1MUhjTW0ta2pNb19TMWx5cV9vYk81b0Q2MEtwRkVld25pTWlTUnJHbTdmQUFRNUFCM29JeWd5LVVyQjJjRXA2VGRqaldJRHZoMjZWVklEVFE5S0owdHdn), [Google News](https://news.google.com/read/CBMikwFBVV95cUxNWWxzQUgweHY3SWVYM1hOLUdrQXJuMmJVbFJHWmtDenJrRWVNRUtKRDZvdWh4U3JHNjRWTGJBRDBVZzBULUI2UzNVdGpXTGJBVUR1c2VnYUFnMU9xMGZIVU1lNmdNYXhzZGh3Z3JvQUxId2tyTTZYUnd1TW9UU2xxRkRsUl9QRV8xNVc5TkVaZWN4dDA)\n",
       "\n",
       "## AI's One-Two Punch: Chegg and Photographers Hit Hard\n",
       "\n",
       "- Chegg's stock drops 99% due to competition from ChatGPT: [Gizmodo](https://gizmodo.com/chegg-is-on-its-last-legs-after-chatgpt-sent-its-stock-down-99-2000522585)\n",
       "- AI threatens headshot photographers by automating their work: [Fstoppers](https://fstoppers.com/artificial-intelligence/headshot-photographers-ai-about-eat-your-lunch-684878)\n",
       "\n",
       "## Little Language Models, Big Potential\n",
       "\n",
       "- Small language models gain popularity as efficient alternatives with compression strategies: [Google News](https://news.google.com/read/CBMipwFBVV95cUxPZmZUQ0V0aUllWHpIY3RndEM4cWhGOGdKSmo4eVBkTTE3aDRETmlfeTBwenhId1RuNDVvY2F1VDVqWnBmcWlvLTNzcFRSZlN6ZW5PZVVVOGZUdl9qNFJiM2J6djRUMDJjRTJWUG5vQWNzUzYxNlVja0NwUWFvNW5ESnlwNU5MaVlQcDBHT214R2NMTE5wSWtzeFFmRkE2OWdiVEp2ejVnNA), [MarkTechPost](https://www.marktechpost.com/2024/11/09/a-deep-dive-into-small-language-models-efficient-alternatives-to-large-language-models-for-real-time-processing-and-specialized-tasks/), [Google News](https://news.google.com/read/CBMihAJBVV95cUxNYlp0RnQ2U25qTmxpR2JwOHBLWEd1dFc2cWFISGk3Zm5xMVdybm9MNzBFVzFQajZZQVBuRDI3Nzk5NDdpc3llc2U5bmY5Q2RtYmM1ZkpIM0hNemJDMFpGTm9OWl9VOFF1WjFELUlKV2prVnFZTFE0ZkF5WUItTGduZHFoNi1VSXVXSzNyVkkyeUtfOVVWQ1FwTThqZEg2cTU0TFVCYzlTY0c3ZXdJbWxJTWQ3NU1BamVUSEJsLWJWa1JPSTRQVDB1ekc3QmxTLWdQaWhzZG1Nbmd4STRwYUx4YkhnY3RCeW50eExKX3JHVVNJY3RPY3l6a1kteC1LZGl5Mm4xTg)\n",
       "\n",
       "## Chip Wars: TSMC's China Freeze and Taiwan's Boom\n",
       "\n",
       "- TSMC may stop AI chip production for Chinese companies starting November 11: [Gadgets360](https://www.gadgets360.com/ai/news/tsmc-suspend-advanced-ai-chip-production-china-report-6981141), [Android Headlines](https://www.androidheadlines.com/2024/11/tsmc-may-stop-producing-ai-chips-for-chinese-companies.html)\n",
       "- Taiwan's semiconductor production projected to rise 22% YoY to a record \\\\$165B in 2024 due to AI demand: [Twitter](https://t.co/LHrQIaHRfq)\n",
       "\n",
       "## Armed with AI: Tech Giants Join Defense Sector\n",
       "\n",
       "- OpenAI, Amazon, and Palantir expand into military and defense sectors; Saudi Arabia invests \\\\$100 billion in AI: [Yahoo](https://www.yahoo.com/tech/openai-backs-robots-amazon-palantirs-100000753.html), [Google News](https://news.google.com/read/CBMimAFBVV95cUxQTlVTenpaQkJxNUxUYURoLVZNV25KQjhYOHVySlg1OFAxTDVlNGw3cWtuQTdLVzF4cnV3Q2k3RDFxVkJnRDVxU1hPVEhxMzlQZHdjWTc2d3NwYWNZWUQzNEZLeXdMTUdodDNiOVF6YURNSDk5Mzl1VHlsdFBXNmphMFZ1bkdVdzl0ekZ0MWc5Q3VFOHJtQkhPSg)\n",
       "\n",
       "## Healing with AI: Diabetes, Heart Health, and Long COVID\n",
       "\n",
       "- AI-READI consortium launches groundbreaking diabetes data study: [MSN](https://www.msn.com/en-gb/health/other/ai-readi-consortium-launches-groundbreaking-diabetes-data-study/ar-AA1tKPLh)\n",
       "- AI and heart rate data may promote well-being: [Forbes](https://www.forbes.com/sites/johnwerner/2024/11/09/can-ai-and-your-heart-rate-data-help-you-to-flourish/)\n",
       "- AI tool reveals Long COVID may affect 23% of people: [Neuroscience News](https://neurosciencenews.com/ai-long-covid-28003/)\n",
       "\n",
       "## AI's Legal Triumph: OpenAI Wins Copyright Case\n",
       "\n",
       "- OpenAI wins copyright lawsuit; courts recognize AI synthesizes, not copies: [Wccftech](https://wccftech.com/openai-escaped-copyright-laws), [SiliconANGLE](https://siliconangle.com/2024/11/08/federal-court-sides-openai-ai-copyright-lawsuit), [Medium](https://medium.com/enrique-dans/at-last-it-seems-the-law-recognizes-that-ai-synthesizes-not-copies-8489ba5616df)\n",
       "\n",
       "## Ballot Bots: AI's Role in Elections\n",
       "\n",
       "- ChatGPT blocked over 250,000 candidate images before Election Day; AI deepened partisan divides but didn't sway elections: [NBC News](https://www.nbcnews.com/tech/chatgpt-rejected-image-generations-presidential-candidates-rcna179469), [The Washington Post](https://www.washingtonpost.com/technology/2024/11/09/ai-deepfakes-us-election)\n",
       "\n",
       "## Tech Titans Invest in AI Futures\n",
       "\n",
       "- Berkshire Hathaway invests 24.1% of its \\\\$287B portfolio in two AI stocks: [Yahoo Finance](https://finance.yahoo.com/news/warren-buffetts-ai-bets-24-111800171.html)\n",
       "- eBay leverages AI innovations for revenue growth and retail dominance: [Yahoo Finance](https://finance.yahoo.com/news/ebay-inc-ebay-secret-dominating-195907555.html)\n",
       "\n",
       "## AI Everywhere: Paint, Notepad, and Chrome Get Smarter\n",
       "\n",
       "- AI enhances everyday tools: Windows 11's Paint and Notepad get AI features; Chrome's Enhanced Protection now uses AI: [Bleeping Computer](https://www.bleepingcomputer.com/news/microsoft/hands-on-with-ai-features-in-windows-11-paint-and-notepad/), [Bleeping Computer](https://www.bleepingcomputer.com/news/google/google-says-enhanced-protection-feature-in-chrome-now-uses-ai/)\n",
       "\n",
       "## AI Rebuilds: Smart Cities in Ukraine\n",
       "\n",
       "- Vantiq launches AI-powered smart cities project in Ukraine: [Kyiv Independent](https://kyivindependent.com/american-ai-company-vantiq-launches-project-to-develop-smart-cities-in-ukraine/)\n",
       "\n",
       "## Benchmark Breakthroughs: New Standards for Advanced AI\n",
       "\n",
       "- AI groups create new benchmarks like FrontierMath for evaluating advanced models: [Google News](https://news.google.com/read/CBMicEFVX3lxTE1oOW5JdFI0bWpJYkVMVS1fR21jLU83YXlQUVpGQzFEakJsYUZMVV80RFdyYXp4ZWZhLVZaSTJobVRNRVlhNTM5T2VtYzhwSkVLck9YSlczdGhXcnJTeFJzTTFzMDlyLTI3OVpvMW9WUjE), [Epoch AI](https://epochai.org/frontiermath/the-benchmark)\n",
       "\n",
       "## Powering AI: Cool Innovations and Monster Chips\n",
       "\n",
       "- Fanless cooling cuts power consumption by 90% for AI workloads: [TechRadar](https://www.techradar.com/pro/new-fanless-cooling-technology-enhances-energy-efficiency-for-ai-workloads-by-achieving-a-90-percent-reduction-in-cooling-power-consumption)\n",
       "- Samsung plans 400-layer NAND chip for ultra-large capacity AI SSDs: [TechRadar](https://www.techradar.com/pro/samsung-plans-record-breaking-400-layer-nand-chip-that-could-be-key-to-breaking-200tb-barrier-for-ultra-large-capacity-ai-hyperscaler-ssds)\n",
       "\n",
       "## Animal Allies: AI Helps Whales and Goats\n",
       "\n",
       "- AI aims to prevent ships from killing thousands of whales each year: [MSN](https://www.msn.com/en-us/travel/news/can-ai-stop-ships-from-killing-thousands-of-whales-each-year/ar-AA1tNAzZ)\n",
       "- Scientists test AI that could detect pain in goats by their facial expressions: [Gizmodo](https://gizmodo.com/scientists-are-testing-ai-that-could-detect-pain-in-goats-just-by-their-facial-expressions-2000522501)\n",
       "\n",
       "## AGI Ahead: OpenAI's Slowdown and Future Predictions\n",
       "\n",
       "- OpenAI faces slowing gains with GPT-4 to Orion; CEO Sam Altman predicts AGI within five years, with less impact than expected: [The Information](https://www.theinformation.com/articles/openai-shifts-strategy-as-rate-of-gpt-ai-improvements-slows), [Wccftech](https://wccftech.com/openai-ceo-sam-altman-predicts-agi-could-appear-within-five-years)\n",
       "\n",
       "## Business Boost: Agentic AI and New Investments\n",
       "\n",
       "- Agentic AI set to revolutionize business operations; UnifyApps raises \\\\$20M for AI-powered application platform: [TechRadar](https://www.techradar.com/pro/how-agentic-ai-will-revolutionize-business-operations-are-you-ready), [SiliconANGLE](https://siliconangle.com/2024/11/08/unifyapps-reels-20m-ai-powered-application-platform)\n",
       "\n",
       "## Hearing the Future: AI's Audio Augmented Reality\n",
       "\n",
       "- AI drives audio-based augmented reality innovations: [Crazystupidtech.com](https://crazystupidtech.com/archive/with-ai-the-future-of-augmented-reality-is-in/)\n",
       "\n",
       "## Forecast Flaws: AI's Limits in Disaster Prediction\n",
       "\n",
       "- AI struggles to predict disasters like Spain's flash flooding in time: [Google News](https://news.google.com/read/CBMixAFBVV95cUxNbm5xQkxHTTM3Q2YwN3ctelpOM0I5Z0tWWE1rV1JTM3p1a29zNl9URkFkZTRDUG1ocjZzMzhqUzBLaTlUQUZQMUViYnA1dEc0QktFNkVQREROSkJtX1BpNWhvbjhFOFBnbWI2MmZWMG1Hbk5zWFF1NnlycnBHWUNXUnJTeGt0eThibm4tN0tELTc5U1RYelZaRHp1czdHR1FFNUhhcXE0OXdxY1o3QVRMZ1J6aThhRF9TUlhVRDZtT1UxX2s2)\n",
       "\n",
       "## Historical Horizons: AI Unearths 16th-Century Astronomy\n",
       "\n",
       "- Machine learning tracks evolution of 16th-century European astronomy: [Phys.org](https://phys.org/news/2024-10-machine-analysis-tracks-evolution-16th.html)\n",
       "\n",
       "## Meet with Style: Google Meet's AI Backgrounds\n",
       "\n",
       "- Preview of Google Meet's AI backgrounds on Android: [Android Police](https://www.androidpolice.com/google-meet-ai-backgrounds-android-demo/)\n",
       "\n",
       "## Smart Trash: Students Use AI for Waste Sorting\n",
       "\n",
       "- Vancouver students create AI-powered garbage cans to sort waste: [Yahoo News Canada](https://ca.news.yahoo.com/vancouver-high-school-students-create-130000179.html)\n",
       "\n",
       "## Misleading Machines: When AI Gets It Wrong\n",
       "\n",
       "- Article discusses cases where machine learning provides misleading results: [Jack Cook](https://jackcook.com/2024/11/09/bigger-fish.html)"
      ],
      "text/plain": [
       "<IPython.core.display.Markdown object>"
      ]
     },
     "metadata": {},
     "output_type": "display_data"
    },
    {
     "name": "stderr",
     "output_type": "stream",
     "text": [
      "2024-11-09 18:09:25,701 - AInewsbot - INFO - Rewriting summary using o1-preview\n",
      "2024-11-09 18:10:30,512 - httpx - INFO - HTTP Request: POST https://api.openai.com/v1/chat/completions \"HTTP/1.1 200 OK\"\n"
     ]
    },
    {
     "data": {
      "text/markdown": [
       "# AI's Next Level: Search Shakeups, Industry Upheaval, and Legal Victories\n",
       "\n",
       "## Search Wars: ChatGPT Challenges Google\n",
       "\n",
       "- ChatGPT challenges Google's dominance in web search: [Google News](https://news.google.com/read/CBMiiAFBVV95cUxPM01Qa2ZGUHllTjdDNWkxRVdvYTFTYm5jNGdhRFhCU1B6YW9Kc1lyeHdBZ0JUQkdOVG5JbkdzTmJQNzRJS0hPTlM5c0JCaVZFRE51bGtvTnZlV01WVG9hZTU3RkFzTjJ0VWdXUEFmSXZIalhLVHpnT2lMbGRDNUZNc2o3eXAyR1Fz), [Google News](https://news.google.com/read/CBMioAFBVV95cUxORVpWOWRhT1ZuVk90QndDNDNWazRXVHNaTS00T2w4dlJFUTRjT2RfZF9ScGN1dWhCR28yeFNvcEtzTWdJTzdxZ1NBdVB3TV9WbGkzSVo4bDRaY01wd2dlZnVZQnh6V2F4bW9GU1JjakpHMGd1c0FSaG0xTmFlblp1ZEVtOUFOVF82WUloNjFUcFhwZHNBT0FfZVozLUI5dmxr), [Google News](https://news.google.com/read/CBMimgFBVV95cUxOX2ZnTHBsNHgxbmtMc1EtNDY3ZFRhN2taWktCRmkwYzdCcFFtbjl3Q1htVS1vUkJBS3piaVgxRmhhMUg1MUhjTW0ta2pNb19TMWx5cV9vYk81b0Q2MEtwRkVld25pTWlTUnJHbTdmQUFRNUFCM29JeWd5LVVyQjJjRXA2VGRqaldJRHZoMjZWVklEVFE5S0owdHdn), [Google News](https://news.google.com/read/CBMikwFBVV95cUxNWWxzQUgweHY3SWVYM1hOLUdrQXJuMmJVbFJHWmtDenJrRWVNRUtKRDZvdWh4U3JHNjRWTGJBRDBVZzBULUI2UzNVdGpXTGJBVUR1c2VnYUFnMU9xMGZIVU1lNmdNYXhzZGh3Z3JvQUxId2tyTTZYUnd1TW9UU2xxRkRsUl9QRV8xNVc5TkVaZWN4dDA)\n",
       "\n",
       "## AI's One-Two Punch: Chegg Crashes, Photographers Threatened\n",
       "\n",
       "- Chegg's stock drops 99% due to competition from ChatGPT: [Gizmodo](https://gizmodo.com/chegg-is-on-its-last-legs-after-chatgpt-sent-its-stock-down-99-2000522585)\n",
       "- AI threatens headshot photographers by automating their work: [Fstoppers](https://fstoppers.com/artificial-intelligence/headshot-photographers-ai-about-eat-your-lunch-684878)\n",
       "\n",
       "## Little Language Models, Big Potential\n",
       "\n",
       "- Small language models gain popularity as efficient alternatives with compression strategies: [Google News](https://news.google.com/read/CBMipwFBVV95cUxPZmZUQ0V0aUllWHpIY3RndEM4cWhGOGdKSmo4eVBkTTE3aDRETmlfeTBwenhId1RuNDVvY2F1VDVqWnBmcWlvLTNzcFRSZlN6ZW5PZVVVOGZUdl9qNFJiM2J6djRUMDJjRTJWUG5vQWNzUzYxNlVja0NwUWFvNW5ESnlwNU5MaVlQcDBHT214R2NMTE5wSWtzeFFmRkE2OWdiVEp2ejVnNA), [MarkTechPost](https://www.marktechpost.com/2024/11/09/a-deep-dive-into-small-language-models-efficient-alternatives-to-large-language-models-for-real-time-processing-and-specialized-tasks/), [Google News](https://news.google.com/read/CBMihAJBVV95cUxNYlp0RnQ2U25qTmxpR2JwOHBLWEd1dFc2cWFISGk3Zm5xMVdybm9MNzBFVzFQajZZQVBuRDI3Nzk5NDdpc3llc2U5bmY5Q2RtYmM1ZkpIM0hNemJDMFpGTm9OWl9VOFF1WjFELUlKV2prVnFZTFE0ZkF5WUItTGduZHFoNi1VSXVXSzNyVkkyeUtfOVVWQ1FwTThqZEg2cTU0TFVCYzlTY0c3ZXdJbWxJTWQ3NU1BamVUSEJsLWJWa1JPSTRQVDB1ekc3QmxTLWdQaWhzZG1Nbmd4STRwYUx4YkhnY3RCeW50eExKX3JHVVNJY3RPY3l6a1kteC1LZGl5Mm4xTg)\n",
       "\n",
       "## Chip Wars: TSMC's China Freeze and Taiwan's Boom\n",
       "\n",
       "- TSMC may stop AI chip production for Chinese companies starting November 11: [Gadgets360](https://www.gadgets360.com/ai/news/tsmc-suspend-advanced-ai-chip-production-china-report-6981141), [Android Headlines](https://www.androidheadlines.com/2024/11/tsmc-may-stop-producing-ai-chips-for-chinese-companies.html)\n",
       "- Taiwan's semiconductor production projected to rise 22% YoY to a record \\\\$165B in 2024 due to AI demand: [Twitter](https://t.co/LHrQIaHRfq)\n",
       "\n",
       "## Armed with AI: Tech Giants Join Defense Sector\n",
       "\n",
       "- OpenAI, Amazon, and Palantir expand into military and defense sectors; Saudi Arabia invests \\\\$100 billion in AI: [Yahoo](https://www.yahoo.com/tech/openai-backs-robots-amazon-palantirs-100000753.html), [Google News](https://news.google.com/read/CBMimAFBVV95cUxQTlVTenpaQkJxNUxUYURoLVZNV25KQjhYOHVySlg1OFAxTDVlNGw3cWtuQTdLVzF4cnV3Q2k3RDFxVkJnRDVxU1hPVEhxMzlQZHdjWTc2d3NwYWNZWUQzNEZLeXdMTUdodDNiOVF6YURNSDk5Mzl1VHlsdFBXNmphMFZ1bkdVdzl0ekZ0MWc5Q3VFOHJtQkhPSg)\n",
       "\n",
       "## Healing with AI: Diabetes, Heart Health, and Long COVID\n",
       "\n",
       "- AI consortium launches diabetes data study: [MSN](https://www.msn.com/en-gb/health/other/ai-readi-consortium-launches-groundbreaking-diabetes-data-study/ar-AA1tKPLh)\n",
       "- AI and heart rate data linked to well-being: [Forbes](https://www.forbes.com/sites/johnwerner/2024/11/09/can-ai-and-your-heart-rate-data-help-you-to-flourish/)\n",
       "- AI reveals Long COVID may affect 23% of people: [Neuroscience News](https://neurosciencenews.com/ai-long-covid-28003/)\n",
       "\n",
       "## AI's Legal Triumph: OpenAI Wins Copyright Case\n",
       "\n",
       "- OpenAI wins copyright lawsuit; court rules AI synthesizes, not copies: [Wccftech](https://wccftech.com/openai-escaped-copyright-laws), [SiliconANGLE](https://siliconangle.com/2024/11/08/federal-court-sides-openai-ai-copyright-lawsuit), [Medium](https://medium.com/enrique-dans/at-last-it-seems-the-law-recognizes-that-ai-synthesizes-not-copies-8489ba5616df)\n",
       "\n",
       "## Ballot Bots: AI's Role in Elections\n",
       "\n",
       "- ChatGPT blocked over 250,000 candidate images before Election Day; AI deepened partisan divides but didn't sway elections: [NBC News](https://www.nbcnews.com/tech/chatgpt-rejected-image-generations-presidential-candidates-rcna179469), [The Washington Post](https://www.washingtonpost.com/technology/2024/11/09/ai-deepfakes-us-election)\n",
       "\n",
       "## Tech Titans Invest in AI Futures\n",
       "\n",
       "- Berkshire Hathaway invests 24.1% of its \\\\$287B portfolio in two AI stocks: [Yahoo Finance](https://finance.yahoo.com/news/warren-buffetts-ai-bets-24-111800171.html)\n",
       "- eBay leverages AI innovations for revenue growth and retail dominance: [Yahoo Finance](https://finance.yahoo.com/news/ebay-inc-ebay-secret-dominating-195907555.html)\n",
       "\n",
       "## AI Everywhere: Paint, Notepad, and Chrome Get Smarter\n",
       "\n",
       "- AI enhances everyday tools: Windows 11's Paint and Notepad get AI features; Chrome's Enhanced Protection now uses AI: [Bleeping Computer](https://www.bleepingcomputer.com/news/microsoft/hands-on-with-ai-features-in-windows-11-paint-and-notepad/), [Bleeping Computer](https://www.bleepingcomputer.com/news/google/google-says-enhanced-protection-feature-in-chrome-now-uses-ai/)\n",
       "\n",
       "## AI Rebuilds: Smart Cities in Ukraine\n",
       "\n",
       "- Vantiq launches AI-powered smart cities project in Ukraine: [Kyiv Independent](https://kyivindependent.com/american-ai-company-vantiq-launches-project-to-develop-smart-cities-in-ukraine/)\n",
       "\n",
       "## Benchmark Breakthroughs: New Standards for Advanced AI\n",
       "\n",
       "- AI groups create new benchmarks like FrontierMath to evaluate advanced models: [Google News](https://news.google.com/read/CBMicEFVX3lxTE1oOW5JdFI0bWpJYkVMVS1fR21jLU83YXlQUVpGQzFEakJsYUZMVV80RFdyYXp4ZWZhLVZaSTJobVRNRVlhNTM5T2VtYzhwSkVLck9YSlczdGhXcnJTeFJzTTFzMDlyLTI3OVpvMW9WUjE), [Epoch AI](https://epochai.org/frontiermath/the-benchmark)\n",
       "\n",
       "## Powering AI: Cool Innovations and Monster Chips\n",
       "\n",
       "- Fanless cooling cuts power consumption by 90% for AI workloads: [TechRadar](https://www.techradar.com/pro/new-fanless-cooling-technology-enhances-energy-efficiency-for-ai-workloads-by-achieving-a-90-percent-reduction-in-cooling-power-consumption)\n",
       "- Samsung plans 400-layer NAND chip for ultra-large capacity AI SSDs: [TechRadar](https://www.techradar.com/pro/samsung-plans-record-breaking-400-layer-nand-chip-that-could-be-key-to-breaking-200tb-barrier-for-ultra-large-capacity-ai-hyperscaler-ssds)\n",
       "\n",
       "## Animal Allies: AI Helps Whales and Goats\n",
       "\n",
       "- AI aims to prevent ships from killing thousands of whales each year: [MSN](https://www.msn.com/en-us/travel/news/can-ai-stop-ships-from-killing-thousands-of-whales-each-year/ar-AA1tNAzZ)\n",
       "- Scientists test AI that could detect pain in goats by their facial expressions: [Gizmodo](https://gizmodo.com/scientists-are-testing-ai-that-could-detect-pain-in-goats-just-by-their-facial-expressions-2000522501)\n",
       "\n",
       "## AGI Ahead: OpenAI's Slowdown and Future Predictions\n",
       "\n",
       "- OpenAI experiences slower improvements; CEO Sam Altman predicts AGI within five years, with less impact than expected: [The Information](https://www.theinformation.com/articles/openai-shifts-strategy-as-rate-of-gpt-ai-improvements-slows), [Wccftech](https://wccftech.com/openai-ceo-sam-altman-predicts-agi-could-appear-within-five-years)\n",
       "\n",
       "## Business Boost: Agentic AI and New Investments\n",
       "\n",
       "- Agentic AI set to revolutionize business operations; UnifyApps raises \\\\$20M for AI-powered application platform: [TechRadar](https://www.techradar.com/pro/how-agentic-ai-will-revolutionize-business-operations-are-you-ready), [SiliconANGLE](https://siliconangle.com/2024/11/08/unifyapps-reels-20m-ai-powered-application-platform)\n",
       "\n",
       "## Hearing the Future: AI's Audio Augmented Reality\n",
       "\n",
       "- AI drives audio-based augmented reality innovations: [Crazystupidtech.com](https://crazystupidtech.com/archive/with-ai-the-future-of-augmented-reality-is-in/)\n",
       "\n",
       "## Forecast Flaws: AI's Limits in Disaster Prediction\n",
       "\n",
       "- AI struggles to predict disasters like Spain's flash flooding in time: [Google News](https://news.google.com/read/CBMixAFBVV95cUxNbm5xQkxHTTM3Q2YwN3ctelpOM0I5Z0tWWE1rV1JTM3p1a29zNl9URkFkZTRDUG1ocjZzMzhqUzBLaTlUQUZQMUViYnA1dEc0QktFNkVQREROSkJtX1BpNWhvbjhFOFBnbWI2MmZWMG1Hbk5zWFF1NnlycnBHWUNXUnJTeGt0eThibm4tN0tELTc5U1RYelZaRHp1czdHR1FFNUhhcXE0OXdxY1o3QVRMZ1J6aThhRF9TUlhVRDZtT1UxX2s2)\n",
       "\n",
       "## Historical Horizons: AI Unearths 16th-Century Astronomy\n",
       "\n",
       "- Machine learning tracks evolution of 16th-century European astronomy: [Phys.org](https://phys.org/news/2024-10-machine-analysis-tracks-evolution-16th.html)\n",
       "\n",
       "## Meet with Style: Google Meet's AI Backgrounds\n",
       "\n",
       "- Preview of Google Meet's AI backgrounds on Android: [Android Police](https://www.androidpolice.com/google-meet-ai-backgrounds-android-demo/)\n",
       "\n",
       "## Smart Trash: Students Use AI for Waste Sorting\n",
       "\n",
       "- Vancouver students create AI-powered garbage cans to sort waste: [Yahoo News Canada](https://ca.news.yahoo.com/vancouver-high-school-students-create-130000179.html)\n",
       "\n",
       "## Misleading Machines: When AI Gets It Wrong\n",
       "\n",
       "- Machine learning sometimes provides misleading results: [Jack Cook](https://jackcook.com/2024/11/09/bigger-fish.html)"
      ],
      "text/plain": [
       "<IPython.core.display.Markdown object>"
      ]
     },
     "metadata": {},
     "output_type": "display_data"
    },
    {
     "name": "stderr",
     "output_type": "stream",
     "text": [
      "2024-11-09 18:10:30,521 - AInewsbot - INFO - Sending summary email\n",
      "2024-11-09 18:10:30,537 - AInewsbot - INFO - Email subject AI's Next Level: Search Shakeups, Industry Upheaval, and Legal Victories\n",
      "2024-11-09 18:10:30,538 - AInewsbot - INFO - Email length 10606\n"
     ]
    }
   ],
   "source": [
    "# do topic analysis, identify good topics\n",
    "state = lg_agent.topic_analysis(state)\n",
    "state = lg_agent.topic_clusters(state)\n",
    "\n",
    "# download and summarize pages\n",
    "state = lg_agent.download_pages(state)\n",
    "state = lg_agent.summarize_pages(state)\n",
    "# free-form extract topics from summarize, combine with clusters, propose clean topics\n",
    "state = lg_agent.propose_topics(state)\n",
    "print(state[\"topics_str\"])\n",
    "# compose using o1-preview and rewrite summary 3 times\n",
    "state = lg_agent.compose_summary(state)\n",
    "display(Markdown(state[\"summary\"].replace(\"$\",\"\\\\\\\\$\")))\n",
    "for _ in range(MAX_EDITS):\n",
    "    if lg_agent.is_revision_complete(state)=='complete':\n",
    "        break\n",
    "    state = lg_agent.rewrite_summary(state)\n",
    "    display(Markdown(state[\"summary\"].replace(\"$\",\"\\\\\\\\$\")))\n",
    "state = lg_agent.send_mail(state)"
   ]
  },
  {
   "cell_type": "code",
   "execution_count": null,
   "id": "ca5305b1",
   "metadata": {},
   "outputs": [],
   "source": [
    "# Edit topics in the state graph\n",
    "# topics_str = state[\"topics_str\"]\n",
    "# ct2 = [s.replace('\"', '\\\\\"') for s in topics_str]\n",
    "# Copy to clipboard\n",
    "# os.system(shlex.quote(f\"echo {topics_str} | pbcopy\"))\n",
    "\n",
    "# pyperclip.copy(topics_str)\n",
    "\n",
    "# print(pyperclip.paste())"
   ]
  },
  {
   "cell_type": "markdown",
   "id": "4b0dcbc7",
   "metadata": {},
   "source": [
    "# Instantiate agent and run workflow graph end to end"
   ]
  },
  {
   "cell_type": "code",
   "execution_count": null,
   "id": "ed071173",
   "metadata": {},
   "outputs": [],
   "source": [
    "do_download = True\n",
    "before_date = None\n",
    "# before_date=\"2024-10-21 11:00:00\"\n",
    "\n",
    "# initial state# initial state\n",
    "state = AgentState(\n",
    "    {'AIdf': None,\n",
    "    'before_date': before_date,\n",
    "    'do_download': do_download,\n",
    "    'sources': None,\n",
    "    'sources_reverse': None,\n",
    "    'bullets': '',\n",
    "    'summary': '',\n",
    "    'cluster_topics': [],\n",
    "    'topics_str': str,\n",
    "    'n_edits': 0,\n",
    "    'edit_complete': False,\n",
    "#     'messages': None\n",
    "    }\n",
    ")\n",
    "# Configuration with thread ID for checkpointing\n",
    "# Generate a random UUID\n",
    "thread_id = uuid.uuid4().hex\n",
    "config = {\"configurable\": {\"thread_id\": thread_id}}\n",
    "\n",
    "log(f\"Initializing with before_date={state.get('before_date')}, do_download={do_download}, thread_id={thread_id}\")\n",
    "lg_agent = Agent(state)\n",
    "display(Image(lg_agent.graph.get_graph().draw_mermaid_png()))\n"
   ]
  },
  {
   "cell_type": "code",
   "execution_count": null,
   "id": "02cf6214",
   "metadata": {},
   "outputs": [],
   "source": [
    "config\n"
   ]
  },
  {
   "cell_type": "code",
   "execution_count": null,
   "id": "ecb89028",
   "metadata": {},
   "outputs": [],
   "source": [
    "state\n"
   ]
  },
  {
   "cell_type": "code",
   "execution_count": null,
   "id": "931f3b91",
   "metadata": {},
   "outputs": [],
   "source": [
    "state = lg_agent.run(state, config)\n"
   ]
  },
  {
   "cell_type": "code",
   "execution_count": null,
   "id": "510c8c8e",
   "metadata": {
    "scrolled": true
   },
   "outputs": [],
   "source": [
    "# it stopped here because we compiled with interrupt_before=[\"filter_urls\", \"compose_summary\",]\n",
    "last_state = lg_agent.graph.get_state(config)\n",
    "len(last_state.values[\"AIdf\"])\n"
   ]
  },
  {
   "cell_type": "code",
   "execution_count": null,
   "id": "5bd2b3b7",
   "metadata": {},
   "outputs": [],
   "source": [
    "pd.DataFrame(last_state.values['AIdf']).groupby('src').count()"
   ]
  },
  {
   "cell_type": "code",
   "execution_count": null,
   "id": "e18d7848",
   "metadata": {},
   "outputs": [],
   "source": [
    "# if something got a robot block, download manually and rerun from beginning\n",
    "# if all OK, then proceed\n",
    "# state=None proceeds from last state\n",
    "last_state = lg_agent.graph.get_state(config)\n",
    "last_state.values[\"before_date\"]\n",
    "\n",
    "state = lg_agent.run(None, config)\n"
   ]
  },
  {
   "cell_type": "code",
   "execution_count": null,
   "id": "ae74ddde",
   "metadata": {},
   "outputs": [],
   "source": [
    "lg_agent.graph.get_state(config).values.keys()"
   ]
  },
  {
   "cell_type": "code",
   "execution_count": null,
   "id": "5edaf0d4",
   "metadata": {},
   "outputs": [],
   "source": [
    "# it stopped here because we compiled with interrupt_before=[\"filter_urls\", \"compose_summary\",]\n",
    "last_state = lg_agent.graph.get_state(config)\n",
    "print('next', last_state.next)\n",
    "print('config', last_state.config)\n",
    "last_state.values[\"cluster_topics\"]\n"
   ]
  },
  {
   "cell_type": "code",
   "execution_count": null,
   "id": "f18fc0b4",
   "metadata": {},
   "outputs": [],
   "source": [
    "# update cluster_topics\n",
    "lg_agent.graph.update_state(\n",
    "    last_state.config, {\n",
    "        \"cluster_topics\": []         \n",
    "    }\n",
    "    as_node='propose_topics')\n"
   ]
  },
  {
   "cell_type": "code",
   "execution_count": null,
   "id": "baca80d4",
   "metadata": {},
   "outputs": [],
   "source": []
  },
  {
   "cell_type": "code",
   "execution_count": null,
   "id": "f1457cbf",
   "metadata": {},
   "outputs": [],
   "source": [
    "topic_list =  \"\"\"'AI Hardware and Robotics Funding'\n",
    " 'AI agents in insurance'\n",
    " 'AI cybersecurity threats'\n",
    " 'AI in healthcare ethics'\n",
    " 'AI in workplace productivity'\n",
    " 'AI-driven drug discovery'\n",
    " 'AI-driven supply chain transformation'\n",
    " 'AI-powered messaging app Daze'\n",
    " 'Apple Intelligence'\n",
    " 'Blade Runner 2049 lawsuit against Tesla'\n",
    " 'ByteDance intern AI sabotage'\n",
    " 'Carbon Robotics AI deweeding robot'\n",
    " 'ChatGPT and Personalization',\n",
    " 'Gary Marcus AI boycott proposal'\n",
    " 'Lawsuits Against AI for Copyright Infringement'\n",
    " 'Microsoft Copilot and AI Automation'\n",
    " 'Nvidia AI chip leadership'\n",
    " 'Perplexity AI copyright lawsuit'\n",
    " 'Qualcomm AI smartphone chip'\n",
    " 'Rabbit AI hardware funding'\n",
    " 'Zip AI funding round'\n",
    " \"AI Integration in Microsoft Notepad\"\n",
    " \"AI chatbots in education\"\n",
    " \"AI in Healthcare\"\n",
    " \"AI in autonomous vehicles\"\n",
    " \"AI in customer experience\"\n",
    " \"AI in financial planning and analysis\"\n",
    " \"AI in retirement systems\"\n",
    " \"AI in risk analytics\"\n",
    " \"AI in robotics and humanoid development\"\n",
    " \"AI in social media and mental health\"\n",
    " \"AI in sports coverage\"\n",
    " \"AI in video data extraction\"\n",
    " \"AI in weather forecasting\"\n",
    " \"AI-driven productivity gains\"\n",
    " \"AI-powered job automation\"\n",
    " \"Anthropic and Palantir AI partnership\"\n",
    " \"Apple iOS 18.2 AI features\"\n",
    " \"ChatGPT and Generative AI Applications\"\n",
    " \"Google AI Tools and Privacy Issues\"\n",
    " \"Google Jarvis AI leak\"\n",
    " \"Microsoft AI-powered Notepad\"\n",
    " \"Nvidia AI dominance\"\n",
    " \"Nvidia and Robotics Innovation\"\n",
    " \"Saudi Arabia's $100B AI investment\"  \n",
    " \"\"\""
   ]
  },
  {
   "cell_type": "code",
   "execution_count": null,
   "id": "fdc40310",
   "metadata": {},
   "outputs": [],
   "source": [
    "\n",
    "client = OpenAI()\n",
    "response = client.chat.completions.create(\n",
    "    model=MODEL,\n",
    "    messages=[\n",
    "        {\n",
    "            \"role\": \"user\",\n",
    "            \"content\": TOPIC_REWRITE_PROMPT.format(topic_list=topic_list)\n",
    "        }\n",
    "    ]\n",
    ")\n",
    "response_str = response.choices[0].message.content"
   ]
  },
  {
   "cell_type": "code",
   "execution_count": null,
   "id": "d0e3ac79",
   "metadata": {},
   "outputs": [],
   "source": [
    "print(response_str)\n"
   ]
  },
  {
   "cell_type": "code",
   "execution_count": null,
   "id": "0246532d",
   "metadata": {},
   "outputs": [],
   "source": [
    "last_state = lg_agent.graph.get_state(config)\n",
    "print('next', last_state.next)\n",
    "print('config', last_state.config)\n",
    "last_state.values[\"cluster_topics\"]\n"
   ]
  },
  {
   "cell_type": "code",
   "execution_count": null,
   "id": "83d28255",
   "metadata": {},
   "outputs": [],
   "source": [
    "# resume running the graph\n",
    "state = lg_agent.run(None, config)\n"
   ]
  },
  {
   "cell_type": "code",
   "execution_count": null,
   "id": "7d7c80fe",
   "metadata": {},
   "outputs": [],
   "source": [
    "last_state = lg_agent.graph.get_state(config)\n",
    "display(Markdown(last_state.values[\"summary\"].replace(\"$\",\"\\\\\\\\$\")))"
   ]
  },
  {
   "cell_type": "markdown",
   "id": "8f8fdec2",
   "metadata": {},
   "source": [
    "# Create AI-generated podcast from the summary"
   ]
  },
  {
   "cell_type": "markdown",
   "id": "3f6d258d",
   "metadata": {},
   "source": [
    "- Uses Podcastfy by Tharzis Souza -abs https://github.com/souzatharsis/podcastfy\n",
    "- IIUC it fetches the URLs and generates a very long prompt saying 'make a podcast script'\n",
    "- For my purpose I have sections and bullet points\n",
    "- I could probably send each section individually, something like\n",
    "    - prompt to do intro, let's dive in, do the first section with a title, bullet text, article texts via trafilatura\n",
    "    - iteratively loop with a complex prompt, the podcast script so far, the next items to add\n",
    "    - add a rewrite step after completion to clean it up, spice it up \n",
    "- try different elevenlabs options and maybe look for the google tts that notebooklm uses and try to get a more natural inflection\n",
    " "
   ]
  },
  {
   "cell_type": "code",
   "execution_count": null,
   "id": "d1cf3500",
   "metadata": {},
   "outputs": [],
   "source": [
    "from podcastfy.client import generate_podcast\n",
    "from IPython.display import Audio, display\n"
   ]
  },
  {
   "cell_type": "code",
   "execution_count": null,
   "id": "4080057f",
   "metadata": {},
   "outputs": [],
   "source": [
    "def embed_audio(audio_file):\n",
    "    \"\"\"\n",
    "    Embeds an audio file in the notebook, making it playable.\n",
    "\n",
    "    Args:\n",
    "        audio_file (str): Path to the audio file.\n",
    "    \"\"\"\n",
    "    try:\n",
    "        display(Audio(audio_file))\n",
    "        print(f\"Audio player embedded for: {audio_file}\")\n",
    "    except Exception as e:\n",
    "        print(f\"Error embedding audio: {str(e)}\")"
   ]
  },
  {
   "cell_type": "code",
   "execution_count": null,
   "id": "40c85e96",
   "metadata": {},
   "outputs": [],
   "source": [
    "# save summary to local file\n",
    "filename = 'summary.md'\n",
    "\n",
    "try:\n",
    "    with open(filename, 'w') as file:\n",
    "        file.write(state[\"summary\"])\n",
    "        print(f\"Markdown content successfully saved to {filename}.\")\n",
    "except Exception as e:\n",
    "    print(f\"An error occurred: {e}\")\n",
    "    "
   ]
  },
  {
   "cell_type": "code",
   "execution_count": null,
   "id": "ff3f8353",
   "metadata": {},
   "outputs": [],
   "source": [
    "# git push it because we want to download from a URL\n",
    "debate_config = {\n",
    "    \"word_count\": 3000,  # Longer content for in-depth discussions\n",
    "    \"conversation_style\": [\"conversational\", \"fast-paced\", \"informal\", \"engaging\", \"thoughtful\", \"analytical\", \"balanced\"],\n",
    "    \"roles_person1\": \"main summarizer\",\n",
    "    \"roles_person2\": \"questioner/clarifier\",\n",
    "    \"dialogue_structure\": [\"Introduction\", \"Discuss News of the day\", \"Conclusion\"],\n",
    "    \"podcast_name\": \"Skynet and Chill\",\n",
    "    \"podcast_tagline\": \"Today's AI news, lovingly curated by man and machine\",\n",
    "    \"output_language\": \"English\",\n",
    "    \"engagement_techniques\": [\"questions\", \"analogies\", \"humor\"],\n",
    "    \"creativity\": 0.5  # Lower creativity for more factual content\n",
    "}\n"
   ]
  },
  {
   "cell_type": "code",
   "execution_count": null,
   "id": "aa589c0f",
   "metadata": {},
   "outputs": [],
   "source": [
    "audio_file = generate_podcast(urls=[\"https://github.com/druce/AInewsbot/blob/main/summary.md\"],\n",
    "                              conversation_config=debate_config,\n",
    "                              tts_model='elevenlabs'\n",
    "                            \n",
    "                             )\n"
   ]
  },
  {
   "cell_type": "code",
   "execution_count": null,
   "id": "bf6db5ac",
   "metadata": {},
   "outputs": [],
   "source": [
    "embed_audio(audio_file)\n"
   ]
  },
  {
   "cell_type": "code",
   "execution_count": null,
   "id": "a3c7add7",
   "metadata": {},
   "outputs": [],
   "source": [
    "# move the file into ./podcast.mp3\n",
    "\n",
    "import os\n",
    "import shutil\n",
    "\n",
    "try:\n",
    "    # Extract the filename from the given path\n",
    "    filename = os.path.basename(audio_file)\n",
    "\n",
    "    # Define the destination path (current directory)\n",
    "    destination = os.path.join(os.getcwd(), 'podcast.mp3')\n",
    "\n",
    "    # Move the file to the current directory\n",
    "    shutil.move(audio_file, destination)\n",
    "    print(f\"File '{filename}' successfully moved to the current directory.\")\n",
    "except FileNotFoundError:\n",
    "    print(f\"The file '{pathname}' does not exist.\")\n",
    "except Exception as e:\n",
    "    print(f\"An error occurred: {e}\")\n"
   ]
  },
  {
   "cell_type": "code",
   "execution_count": null,
   "id": "6d77eb4a",
   "metadata": {},
   "outputs": [],
   "source": [
    "# make a video with ffmpeg and a static image\n",
    "\n",
    "!ffmpeg -y -loop 1 -i test.jpg -i podcast.mp3 -c:v mpeg4 -c:a aac -b:a 192k -shortest -pix_fmt yuv420p podcast.mp4\n"
   ]
  },
  {
   "cell_type": "code",
   "execution_count": null,
   "id": "bcc6d50e",
   "metadata": {},
   "outputs": [],
   "source": [
    "# # debug some datatypes that don't checkpoint properly, like hash with int keys (!)\n",
    "# import string\n",
    "# import random\n",
    "\n",
    "# def random_string(length=20):\n",
    "#     letters = string.ascii_letters  # Contains 'abcdefghijklmnopqrstuvwxyzABCDEFGHIJKLMNOPQRSTUVWXYZ'\n",
    "#     return ''.join(random.choice(letters) for _ in range(length))\n",
    "\n",
    "# def random_strings(string_length=20, array_length=100):\n",
    "#     return [random_string(string_length) for _ in range(array_length)]\n",
    "\n",
    "# def random_int(maxint=10000):\n",
    "#     return random.randint(0, maxint) \n",
    "\n",
    "# def random_ints(maxint=10000, array_length=100):\n",
    "#     return [random_int() for _ in range(array_length)]\n",
    "\n",
    "# def random_floats(minfloat=0.0, maxfloat=1.0, array_length=100):\n",
    "#     return [random.uniform(minfloat, maxfloat) for _ in range(array_length)]\n",
    "\n",
    "# def random_bool():\n",
    "#     return bool(random.randint(0, 1))\n",
    "\n",
    "# def random_bools(array_length=100):\n",
    "#     return [random_bool() for _ in range(array_length)]\n",
    "\n",
    "# def random_dataframe():\n",
    "#     return pd.DataFrame({\n",
    "#         'id': random_ints(),\n",
    "#         'src': random_strings(),\n",
    "#         'title': random_strings(),\n",
    "#         'url': random_strings(),\n",
    "#         'isAI': random_bools(),\n",
    "#         'actual_url': random_strings(),\n",
    "#         'hostname': random_strings(),\n",
    "#         'site_name': random_strings(),\n",
    "#         'topic_str': random_strings(),\n",
    "#         'title_topic_str': random_strings(),\n",
    "#         'sort_order': random_ints(),\n",
    "#         'cluster': random_ints(),\n",
    "#         'cluster_name': random_strings(),\n",
    "#         'path': random_strings()\n",
    "#     })\n",
    "\n",
    "\n",
    "# def random_state():\n",
    "#     return AgentState({\n",
    "#         'AIdf': random_dataframe().to_dict(orient='records'),\n",
    "#         'before_date': random_string(),\n",
    "#         'do_download': random_bool(),\n",
    "# #         'sources': dict(zip(random_ints(), random_strings())),\n",
    "#         'sources_reverse': dict(zip(random_strings(), random_ints())),\n",
    "#         'bullets': list(random_strings()),\n",
    "#         'summary': '\\n\\n'.join(random_strings()),\n",
    "#         'n_edits': random_int(),\n",
    "#         'edit_complete': random_bool(),\n",
    "#     })"
   ]
  },
  {
   "cell_type": "code",
   "execution_count": null,
   "id": "fa55ca14",
   "metadata": {},
   "outputs": [],
   "source": [
    "# class Test:\n",
    "\n",
    "#     def __init__(self, state):\n",
    "        \n",
    "#         self.state = state\n",
    "        \n",
    "#         graph_builder = StateGraph(AgentState)\n",
    "#         graph_builder.add_node(\"initialize\", self.initialize)\n",
    "#         graph_builder.add_node(\"download_sources\", self.download_sources)\n",
    "#         graph_builder.add_node(\"extract_web_urls\", self.extract_web_urls)\n",
    "#         graph_builder.add_node(\"extract_newscatcher_urls\", self.extract_newscatcher_urls)\n",
    "#         graph_builder.add_node(\"filter_urls\", self.filter_urls)\n",
    "#         graph_builder.add_node(\"topic_analysis\", self.topic_analysis)\n",
    "#         graph_builder.add_node(\"topic_clusters\", self.topic_clusters)\n",
    "#         graph_builder.add_node(\"download_pages\", self.download_pages)\n",
    "#         graph_builder.add_node(\"summarize_pages\", self.summarize_pages)\n",
    "#         graph_builder.add_node(\"propose_topics\", self.propose_topics)\n",
    "#         graph_builder.add_node(\"compose_summary\", self.compose_summary)\n",
    "#         graph_builder.add_node(\"rewrite_summary\", self.rewrite_summary)\n",
    "#         graph_builder.add_node(\"send_mail\", self.send_mail)\n",
    "\n",
    "#         graph_builder.add_edge(START, \"initialize\")\n",
    "#         graph_builder.add_edge(\"initialize\", \"download_sources\")\n",
    "#         graph_builder.add_edge(\"download_sources\", \"extract_web_urls\")\n",
    "#         graph_builder.add_edge(\"extract_web_urls\", \"extract_newscatcher_urls\")\n",
    "#         graph_builder.add_edge(\"extract_newscatcher_urls\", \"filter_urls\")\n",
    "#         graph_builder.add_edge(\"filter_urls\", \"topic_analysis\")\n",
    "#         graph_builder.add_edge(\"topic_analysis\", \"topic_clusters\")\n",
    "#         graph_builder.add_edge(\"topic_clusters\", \"download_pages\")\n",
    "#         graph_builder.add_edge(\"download_pages\", \"summarize_pages\")\n",
    "#         graph_builder.add_edge(\"summarize_pages\", \"propose_topics\")\n",
    "#         graph_builder.add_edge(\"propose_topics\", \"compose_summary\")\n",
    "#         graph_builder.add_edge(\"compose_summary\", \"rewrite_summary\")\n",
    "#         graph_builder.add_conditional_edges(\"rewrite_summary\",\n",
    "#                                             self.is_revision_complete,\n",
    "#                                             {\"incomplete\": \"rewrite_summary\",\n",
    "#                                              \"complete\": \"send_mail\",\n",
    "#                                             })\n",
    "#         graph_builder.add_edge(\"send_mail\", END)\n",
    "\n",
    "#         # human in the loop should check web pages downloaded ok, and edit proposed categories \n",
    "# #         self.conn = sqlite3.connect('lg_checkpointer.db')\n",
    "# #         self.checkpointer = SqliteSaver(conn=self.conn)\n",
    "#         self.checkpointer = MemorySaver()\n",
    "#         graph = graph_builder.compile(checkpointer=self.checkpointer,\n",
    "#                                       interrupt_before=[\"filter_urls\", \"compose_summary\",])\n",
    "#         self.graph = graph\n",
    "\n",
    "\n",
    "#     def initialize(self, state: AgentState) -> AgentState:\n",
    "#         self.state = random_state()\n",
    "#         return self.state\n",
    "\n",
    "#     def download_sources(self, state: AgentState) -> AgentState:\n",
    "#         self.state = random_state()\n",
    "#         return self.state\n",
    "\n",
    "#     def extract_web_urls(self, state: AgentState) -> AgentState:\n",
    "#         self.state = random_state()\n",
    "#         return self.state\n",
    "\n",
    "#     def extract_newscatcher_urls(self, state: AgentState) -> AgentState:\n",
    "#         self.state = random_state()\n",
    "#         return self.state\n",
    "\n",
    "#     def filter_urls(self, state: AgentState) -> AgentState:\n",
    "#         self.state = random_state()\n",
    "#         return self.state\n",
    "\n",
    "#     def topic_analysis(self, state: AgentState) -> AgentState:\n",
    "#         self.state = random_state()\n",
    "#         return self.state\n",
    "\n",
    "#     def topic_clusters(self, state: AgentState) -> AgentState:\n",
    "#         self.state = random_state()\n",
    "#         return self.state\n",
    "\n",
    "#     def download_pages(self, state: AgentState) -> AgentState:\n",
    "#         self.state = random_state()\n",
    "#         return self.state\n",
    "\n",
    "#     def summarize_pages(self, state: AgentState) -> AgentState:\n",
    "#         self.state = random_state()\n",
    "#         return self.state\n",
    "\n",
    "#     def propose_topics(self, state: AgentState) -> AgentState:\n",
    "#         self.state = random_state()\n",
    "#         return self.state\n",
    "\n",
    "#     def compose_summary(self, state: AgentState) -> AgentState:\n",
    "#         self.state = random_state()\n",
    "#         return self.state\n",
    "\n",
    "#     def rewrite_summary(self, state: AgentState) -> AgentState:\n",
    "#         self.state = random_state()\n",
    "#         return self.state\n",
    "\n",
    "#     def is_revision_complete(self, state: AgentState) -> str:\n",
    "#         return random_bool()\n",
    "\n",
    "#     def send_mail(self, state: AgentState) -> AgentState:\n",
    "#         self.state = random_state()\n",
    "#         return self.state\n",
    "    \n",
    "#     def run(self, state, config):\n",
    "#         # The config is the **second positional argument** to stream() or invoke()!\n",
    "#         events = self.graph.stream(state, config, stream_mode=\"values\"\n",
    "#         )\n",
    "        \n",
    "#         for event in events:\n",
    "#             try:\n",
    "#                 print(event)\n",
    "#             except Exception as exc: \n",
    "#                 print(exc)\n",
    "                \n",
    "#         return self.state\n",
    "\n",
    " "
   ]
  },
  {
   "cell_type": "code",
   "execution_count": null,
   "id": "ece9f3f1",
   "metadata": {},
   "outputs": [],
   "source": [
    "# thread_id = uuid.uuid4().hex\n",
    "# test_config = {\"configurable\": {\"thread_id\": thread_id}}\n",
    "\n",
    "# start_state = random_state()\n",
    "# test_agent = Test(start_state)\n",
    "# log(f\"Initializing with before_date={start_state.get('before_date')}, do_download={do_download}, thread_id={thread_id}\")\n",
    "\n",
    "# display(Image(test_agent.graph.get_graph().draw_mermaid_png()))\n",
    "\n"
   ]
  },
  {
   "cell_type": "code",
   "execution_count": null,
   "id": "9d4783f1",
   "metadata": {},
   "outputs": [],
   "source": [
    "# test_agent.run(start_state, test_config)\n"
   ]
  },
  {
   "cell_type": "code",
   "execution_count": null,
   "id": "4258206f",
   "metadata": {},
   "outputs": [],
   "source": [
    "# last_state = test_agent.graph.get_state(test_config)\n"
   ]
  },
  {
   "cell_type": "code",
   "execution_count": null,
   "id": "935e965c",
   "metadata": {},
   "outputs": [],
   "source": [
    "from datetime import datetime\n",
    "import time\n",
    "import re\n",
    "import os\n",
    "# import uuid\n",
    "from concurrent.futures import ThreadPoolExecutor, as_completed\n",
    "\n",
    "\n",
    "# from selenium import webdriver\n",
    "from selenium.webdriver.common.by import By\n",
    "import undetected_chromedriver as uc\n",
    "from selenium.webdriver.chrome.options import Options\n",
    "\n",
    "# use firefox v. chrome b/c it updates less often, can disable updates\n",
    "# recommend importing profile from Chrome for cookies, passwords\n",
    "# looks less like a bot with more user cruft in the profile\n",
    "# from selenium.webdriver.firefox.options import Options\n",
    "# from selenium.webdriver.firefox.service import Service\n",
    "\n",
    "# import bs4\n",
    "from bs4 import BeautifulSoup\n",
    "import requests\n",
    "from urllib.parse import urljoin, urlparse\n",
    "\n",
    "from ainb_const import DOWNLOAD_DIR, PAGES_DIR, CHROME_PROFILE_PATH, CHROME_PROFILE, CHROME_DRIVER_PATH, GECKODRIVER_PATH, FIREFOX_PROFILE_PATH, MINTITLELEN, sleeptime\n",
    "from ainb_utilities import log\n",
    "\n",
    "# get a page title from html or tags if you have not-descriptive link titles like 'link'\n"
   ]
  },
  {
   "cell_type": "code",
   "execution_count": null,
   "id": "ca079f2b",
   "metadata": {},
   "outputs": [],
   "source": [
    "import undetected_chromedriver as uc\n",
    "import os\n",
    "\n",
    "CHROME_PROFILE_PATH = '/Users/drucev/Library/Application Support/Google/Chrome'\n",
    "CHROME_PROFILE =  'Default'\n",
    "CHROME_DRIVER_PATH =  '/Users/drucev/Library/Application Support/undetected_chromedriver/undetected_chromedriver'\n",
    "# initialize selenium driver\n",
    "log(f\"{os.getpid()} Initializing webdriver\", \"get_driver\")\n",
    "\n",
    "options = uc.ChromeOptions()\n",
    "options.add_argument(f'--user-data-dir={CHROME_PROFILE_PATH}')\n",
    "options.add_argument(f'--profile-directory={CHROME_PROFILE_PATH}')\n",
    "log(\"Initialized webdriver profile\", \"get_driver\")\n",
    "\n",
    "\n",
    "driver = uc.Chrome(options=options,\n",
    "#                    driver_executable_path=CHROME_DRIVER_PATH,\n",
    "                   version_main=130,\n",
    "                   )\n",
    "driver.get(\"https://www.yahoo.com\")\n"
   ]
  },
  {
   "cell_type": "code",
   "execution_count": null,
   "id": "0eea0ad9",
   "metadata": {},
   "outputs": [],
   "source": [
    "import undetected_chromedriver as uc\n",
    "import time\n",
    "\n",
    "# options = uc.ChromeOptions()\n",
    "# options.add_argument(f'--user-data-dir={CHROME_PROFILE_PATH}')\n",
    "# options.add_argument(f'--profile-directory={CHROME_PROFILE}')\n",
    "\n",
    "with uc.Chrome(\n",
    "#     options=options, \n",
    "#     version_main=130,\n",
    "    ) as driver:\n",
    "    time.sleep(1)\n",
    "    driver.get(\"https://www.yahoo.com/\")\n",
    "    time.sleep(5)  # Keep the browser open for 5 seconds\n",
    "    "
   ]
  },
  {
   "cell_type": "code",
   "execution_count": null,
   "id": "c7db17bc",
   "metadata": {},
   "outputs": [],
   "source": []
  }
 ],
 "metadata": {
  "kernelspec": {
   "display_name": "ainewsbot",
   "language": "python",
   "name": "ainewsbot"
  },
  "language_info": {
   "codemirror_mode": {
    "name": "ipython",
    "version": 3
   },
   "file_extension": ".py",
   "mimetype": "text/x-python",
   "name": "python",
   "nbconvert_exporter": "python",
   "pygments_lexer": "ipython3",
   "version": "3.11.10"
  }
 },
 "nbformat": 4,
 "nbformat_minor": 5
}
