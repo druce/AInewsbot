{
 "cells": [
  {
   "cell_type": "markdown",
   "id": "f7c703a9",
   "metadata": {},
   "source": [
    "### Newsbot to write a daily AI news summary using langgraph\n",
    "- Save a list of HTML files from sources.yaml (tech news sites)\n",
    "- Extract URLs for the news stories\n",
    "- Filter URLs to remove duplicates, articles seen before, and non-AI articles (using a ChatGPT prompt)\n",
    "- Perform headline topic analysis and sort by topic to help the AI structure the response by topic\n",
    "- Scrape and summarize individual articles\n",
    "- Compose and email the summary\n",
    "- Used to generate a daily newsletter at skynetandchill.com \n"
   ]
  },
  {
   "cell_type": "code",
   "execution_count": 1,
   "id": "74032f7c",
   "metadata": {},
   "outputs": [],
   "source": [
    "# to selectively re-import as needed\n",
    "import sys\n",
    "# del sys.modules['ainb_llm']\n",
    "# del sys.modules['ainb_const']\n",
    "# del sys.modules['ainb_utilities']\n",
    "# del sys.modules['ainb_webscrape']\n"
   ]
  },
  {
   "cell_type": "code",
   "execution_count": 2,
   "id": "562be45b",
   "metadata": {},
   "outputs": [],
   "source": [
    "from datetime import datetime, timedelta\n",
    "import os\n",
    "import yaml\n",
    "import sqlite3\n",
    "import json\n",
    "from collections import Counter\n",
    "import uuid\n",
    "from typing import TypedDict, Annotated\n",
    "import subprocess\n",
    "import requests\n",
    "import re\n",
    "\n",
    "import operator\n",
    "import pickle\n",
    "\n",
    "import langchain\n",
    "from langchain_openai import ChatOpenAI\n",
    "from langchain_core.messages import BaseMessage, AnyMessage, SystemMessage, HumanMessage, ToolMessage\n",
    "from langchain_core.prompts import (ChatPromptTemplate, MessagesPlaceholder, PromptTemplate,\n",
    "                                    SystemMessagePromptTemplate, HumanMessagePromptTemplate)\n",
    "from langgraph.checkpoint.memory import MemorySaver\n",
    "from langgraph.checkpoint.sqlite import SqliteSaver\n",
    "from langgraph.checkpoint.sqlite.aio import AsyncSqliteSaver\n",
    "\n",
    "from langchain_core.output_parsers import SimpleJsonOutputParser, JsonOutputParser, StrOutputParser\n",
    "\n",
    "from langgraph.graph import StateGraph, START, END\n",
    "\n",
    "from langchain_community.tools.tavily_search import TavilySearchResults\n",
    "from langgraph.graph.message import add_messages\n",
    "from langgraph.prebuilt import ToolNode, tools_condition\n",
    "\n",
    "import numpy as np\n",
    "import pandas as pd\n",
    "import umap\n",
    "\n",
    "import sklearn\n",
    "from sklearn.cluster import DBSCAN\n",
    "\n",
    "import bs4\n",
    "from urllib.parse import urljoin, urlparse\n",
    "\n",
    "import multiprocessing\n",
    "import asyncio\n",
    "import aiohttp\n",
    "\n",
    "from IPython.display import HTML, Image, Markdown, display\n",
    "import markdown\n",
    "\n",
    "import openai\n",
    "from openai import OpenAI\n",
    "\n",
    "import trafilatura   # web scrape uses this to get clean news stories w/o a lot of js and boilerplate\n",
    "\n",
    "\n",
    "import dotenv\n",
    "VERBOSE=1\n",
    "from ainb_const import (DOWNLOAD_DIR, PAGES_DIR,\n",
    "                        MODEL, LOWCOST_MODEL, HIGHCOST_MODEL, CANONICAL_TOPICS,\n",
    "                        SOURCECONFIG, FILTER_PROMPT, TOPIC_PROMPT,\n",
    "                        SUMMARIZE_SYSTEM_PROMPT, SUMMARIZE_USER_PROMPT, FINAL_SUMMARY_PROMPT, \n",
    "                        TOP_CATEGORIES_PROMPT, REWRITE_PROMPT,\n",
    "                        MAX_INPUT_TOKENS, MAX_OUTPUT_TOKENS, MAX_RETRIES, TEMPERATURE, SQLITE_DB,\n",
    "                        HOSTNAME_SKIPLIST, SITE_NAME_SKIPLIST, TOPSOURCES\n",
    "                       )\n",
    "from ainb_utilities import (log, delete_files, filter_unseen_urls_db, insert_article,\n",
    "                            nearest_neighbor_sort, agglomerative_cluster_sort, traveling_salesman_sort_scipy,\n",
    "                            unicode_to_ascii, send_gmail)\n",
    "from ainb_webscrape import (get_driver, quit_drivers, launch_drivers, get_file, get_url, parse_file,\n",
    "                            get_og_tags, get_path_from_url, trimmed_href, process_source_queue_factory,\n",
    "                            process_url_queue_factory, get_google_news_redirects)\n",
    "from ainb_llm import (paginate_df, process_pages, fetch_pages, fetch_openai, fetch_all_summaries,\n",
    "                      fetch_openai_summary, count_tokens, trunc_tokens, \n",
    "                      categorize_headline, categorize_df, clean_topics,\n",
    "                      get_site_name, fetch_missing_site_names)\n",
    "\n",
    "\n",
    "import asyncio\n",
    "# need this to run async in jupyter since it already has an asyncio event loop running\n",
    "import nest_asyncio\n",
    "nest_asyncio.apply()\n"
   ]
  },
  {
   "cell_type": "code",
   "execution_count": 3,
   "id": "59ba13ee",
   "metadata": {},
   "outputs": [
    {
     "name": "stdout",
     "output_type": "stream",
     "text": [
      "Python            3.11.10 | packaged by conda-forge | (main, Sep 10 2024, 10:57:35) [Clang 17.0.6 ]\n",
      "LangChain         0.3.3\n",
      "OpenAI            1.52.0\n",
      "trafilatura       1.12.2\n",
      "numpy             1.26.4\n",
      "pandas            2.2.3\n",
      "sklearn           1.5.2\n",
      "umap              0.5.6\n"
     ]
    }
   ],
   "source": [
    "print(f\"Python            {sys.version}\")\n",
    "print(f\"LangChain         {langchain.__version__}\")\n",
    "print(f\"OpenAI            {openai.__version__}\")\n",
    "# print(f\"smtplib           {smtplib.sys.version}\")\n",
    "print(f\"trafilatura       {trafilatura.__version__}\")\n",
    "# print(f\"bs4               {bs4.__version__}\")\n",
    "print(f\"numpy             {np.__version__}\")\n",
    "print(f\"pandas            {pd.__version__}\")\n",
    "print(f\"sklearn           {sklearn.__version__}\")\n",
    "print(f\"umap              {umap.__version__}\")\n"
   ]
  },
  {
   "cell_type": "markdown",
   "id": "eb072688",
   "metadata": {},
   "source": [
    "# Test LLM calling"
   ]
  },
  {
   "cell_type": "code",
   "execution_count": 4,
   "id": "a5ed3b77",
   "metadata": {},
   "outputs": [
    {
     "name": "stderr",
     "output_type": "stream",
     "text": [
      "2024-10-23 06:40:10,001 - httpx - INFO - HTTP Request: POST https://api.openai.com/v1/chat/completions \"HTTP/1.1 200 OK\"\n"
     ]
    },
    {
     "data": {
      "text/plain": [
       "AIMessage(content='Ascoltami. Sei bellissima. Sei perfetta e ti amo.', additional_kwargs={'refusal': None}, response_metadata={'token_usage': {'completion_tokens': 16, 'prompt_tokens': 34, 'total_tokens': 50, 'completion_tokens_details': {'audio_tokens': None, 'reasoning_tokens': 0}, 'prompt_tokens_details': {'audio_tokens': None, 'cached_tokens': 0}}, 'model_name': 'chatgpt-4o-latest', 'system_fingerprint': 'fp_61e551c4c2', 'finish_reason': 'stop', 'logprobs': None}, id='run-1448c504-abc9-4d6a-a514-e9c6b78d1300-0', usage_metadata={'input_tokens': 34, 'output_tokens': 16, 'total_tokens': 50, 'input_token_details': {'cache_read': 0}, 'output_token_details': {'reasoning': 0}})"
      ]
     },
     "execution_count": 4,
     "metadata": {},
     "output_type": "execute_result"
    }
   ],
   "source": [
    "# a basic LLM call with langchain\n",
    "model = ChatOpenAI(model=MODEL)\n",
    "\n",
    "model.invoke([\n",
    "    SystemMessage(content=\"Translate the following from English into Italian\"),\n",
    "    HumanMessage(content='Listen to me. You are beautiful. You are perfect and I love you.'),\n",
    "])\n"
   ]
  },
  {
   "cell_type": "code",
   "execution_count": 5,
   "id": "79ff6dff",
   "metadata": {},
   "outputs": [
    {
     "name": "stderr",
     "output_type": "stream",
     "text": [
      "2024-10-23 06:40:10,437 - httpx - INFO - HTTP Request: POST https://api.openai.com/v1/chat/completions \"HTTP/1.1 200 OK\"\n"
     ]
    },
    {
     "data": {
      "text/plain": [
       "'Ciao'"
      ]
     },
     "execution_count": 5,
     "metadata": {},
     "output_type": "execute_result"
    }
   ],
   "source": [
    "# use a langchain template\n",
    "system_template = \"Translate the following into {language}:\"\n",
    "prompt_template = ChatPromptTemplate.from_messages(\n",
    "    [(\"system\", system_template), (\"user\", \"{text}\")]\n",
    ")\n",
    "parser = StrOutputParser()\n",
    "chain = prompt_template | model | parser\n",
    "chain.invoke({\"language\": \"italian\", \"text\": \"hi\"})\n"
   ]
  },
  {
   "cell_type": "code",
   "execution_count": 6,
   "id": "6382e44e",
   "metadata": {
    "scrolled": true
   },
   "outputs": [
    {
     "name": "stderr",
     "output_type": "stream",
     "text": [
      "2024-10-23 06:40:10,722 - httpx - INFO - HTTP Request: POST https://api.openai.com/v1/chat/completions \"HTTP/1.1 200 OK\"\n"
     ]
    },
    {
     "name": "stdout",
     "output_type": "stream",
     "text": [
      "Écoute-moi. Tu es parfait(e). Tu es magnifique et je t'aime."
     ]
    },
    {
     "name": "stderr",
     "output_type": "stream",
     "text": [
      "2024-10-23 06:40:11,687 - httpx - INFO - HTTP Request: POST https://api.openai.com/v1/chat/completions \"HTTP/1.1 200 OK\"\n"
     ]
    },
    {
     "name": "stdout",
     "output_type": "stream",
     "text": [
      "Hör mir zu. Du bist makellos. Du bist exquisit und ich liebe dich."
     ]
    },
    {
     "name": "stderr",
     "output_type": "stream",
     "text": [
      "2024-10-23 06:40:13,213 - httpx - INFO - HTTP Request: POST https://api.openai.com/v1/chat/completions \"HTTP/1.1 200 OK\"\n"
     ]
    },
    {
     "name": "stdout",
     "output_type": "stream",
     "text": [
      "Escúchame. Eres perfecta. Eres hermosa y te amo."
     ]
    },
    {
     "name": "stderr",
     "output_type": "stream",
     "text": [
      "2024-10-23 06:40:14,108 - httpx - INFO - HTTP Request: POST https://api.openai.com/v1/chat/completions \"HTTP/1.1 200 OK\"\n"
     ]
    },
    {
     "name": "stdout",
     "output_type": "stream",
     "text": [
      "Ascoltami. Sei straordinario/a. Sei magnifico/a e ti amo."
     ]
    },
    {
     "name": "stderr",
     "output_type": "stream",
     "text": [
      "2024-10-23 06:40:15,517 - httpx - INFO - HTTP Request: POST https://api.openai.com/v1/chat/completions \"HTTP/1.1 200 OK\"\n"
     ]
    },
    {
     "name": "stdout",
     "output_type": "stream",
     "text": [
      "Figyelj rám. Elbűvölő vagy. Lélegzetelállító vagy, és szeretlek.\n",
      "\n",
      "Elapsed seconds: 6.342670\n"
     ]
    }
   ],
   "source": [
    "# time multiple templates (single-threaded)\n",
    "prompt_inputs = [\n",
    "    {\"language\": \"French\", \"adjective1\": \"flawless\", \"adjective2\": \"beautiful\"},\n",
    "    {\"language\": \"German\", \"adjective1\": \"immaculate\", \"adjective2\": \"exquisite\"},\n",
    "    {\"language\": \"Spanish\", \"adjective1\": \"perfect\", \"adjective2\": \"gorgeous\"},\n",
    "    {\"language\": \"Italian\", \"adjective1\": \"amazing\", \"adjective2\": \"magnificent\"},\n",
    "    {\"language\": \"Hungarian\", \"adjective1\": \"ravishing\", \"adjective2\": \"stunning\"},\n",
    "]\n",
    "\n",
    "system_template = 'Translate the following into {language}:'\n",
    "user_template = 'Listen to me. You are {adjective1}. You are {adjective2} and I love you.'\n",
    "\n",
    "prompt_template = ChatPromptTemplate.from_messages(\n",
    "    [(\"system\", system_template),\n",
    "     (\"user\", user_template)]\n",
    ")\n",
    "\n",
    "parser = StrOutputParser()\n",
    "\n",
    "chain = prompt_template | model | parser\n",
    "\n",
    "start_time = datetime.now()\n",
    "for tpl in prompt_inputs:\n",
    "    response = \"\"\n",
    "    # stream tokens as they are generated\n",
    "    for r in chain.stream(tpl):\n",
    "        print(r, end=\"\")\n",
    "        response += r\n",
    "end_time = datetime.now()\n",
    "\n",
    "difference = end_time - start_time\n",
    "total_seconds = difference.total_seconds()\n",
    "print(f\"\\n\\nElapsed seconds: {total_seconds:.6f}\")\n"
   ]
  },
  {
   "cell_type": "code",
   "execution_count": 7,
   "id": "659782d9",
   "metadata": {},
   "outputs": [
    {
     "name": "stderr",
     "output_type": "stream",
     "text": [
      "2024-10-23 06:40:17,955 - httpx - INFO - HTTP Request: POST https://api.openai.com/v1/chat/completions \"HTTP/1.1 200 OK\"\n",
      "2024-10-23 06:40:18,045 - httpx - INFO - HTTP Request: POST https://api.openai.com/v1/chat/completions \"HTTP/1.1 200 OK\"\n",
      "2024-10-23 06:40:18,257 - httpx - INFO - HTTP Request: POST https://api.openai.com/v1/chat/completions \"HTTP/1.1 200 OK\"\n",
      "2024-10-23 06:40:19,209 - httpx - INFO - HTTP Request: POST https://api.openai.com/v1/chat/completions \"HTTP/1.1 200 OK\"\n",
      "2024-10-23 06:40:19,302 - httpx - INFO - HTTP Request: POST https://api.openai.com/v1/chat/completions \"HTTP/1.1 200 OK\"\n"
     ]
    },
    {
     "name": "stdout",
     "output_type": "stream",
     "text": [
      "\n",
      "\n",
      "Elapsed seconds: 2.501711\n",
      "Écoute-moi. Tu es parfait(e). Tu es magnifique et je t'aime.\n",
      "Hör mir zu. Du bist makellos. Du bist exquisit und ich liebe dich.\n",
      "Escúchame. Eres perfecta. Eres hermosa y te amo.\n",
      "Ascoltami. Sei incredibile. Sei magnifico/a e ti amo.\n",
      "Hallgass rám. Elbűvölő vagy. Lenyűgöző vagy, és szeretlek.\n"
     ]
    }
   ],
   "source": [
    "# same but send all at once using asyncio\n",
    "\n",
    "async def async_langchain(chain, input_dict):\n",
    "    response = await chain.ainvoke(input_dict)\n",
    "    return response\n",
    "\n",
    "\n",
    "prompt_templates = [\n",
    "    {\"language\": \"French\", \"adjective1\": \"flawless\", \"adjective2\": \"beautiful\"},\n",
    "    {\"language\": \"German\", \"adjective1\": \"immaculate\", \"adjective2\": \"exquisite\"},\n",
    "    {\"language\": \"Spanish\", \"adjective1\": \"perfect\", \"adjective2\": \"gorgeous\"},\n",
    "    {\"language\": \"Italian\", \"adjective1\": \"amazing\", \"adjective2\": \"magnificent\"},\n",
    "    {\"language\": \"Hungarian\", \"adjective1\": \"ravishing\", \"adjective2\": \"stunning\"},\n",
    "]\n",
    "\n",
    "start_time = datetime.now()\n",
    "tasks = []\n",
    "for d in prompt_templates:\n",
    "    task = asyncio.create_task(async_langchain(chain, d))\n",
    "    tasks.append(task)\n",
    "responses = await asyncio.gather(*tasks)\n",
    "end_time = datetime.now()\n",
    "\n",
    "\n",
    "difference = end_time - start_time\n",
    "total_seconds = difference.total_seconds()\n",
    "print(f\"\\n\\nElapsed seconds: {total_seconds:.6f}\")\n",
    "print(\"\\n\".join(responses))\n"
   ]
  },
  {
   "cell_type": "code",
   "execution_count": 8,
   "id": "203ddd89",
   "metadata": {},
   "outputs": [],
   "source": [
    "# test o1-preview, note temperature, system prompt not supported\n",
    "# client = OpenAI()\n",
    "# response = client.chat.completions.create(\n",
    "#     model=\"o1-preview\",\n",
    "#     messages=[\n",
    "#         {\n",
    "#             \"role\": \"user\",\n",
    "#             \"content\": \"Write a Python script that takes a matrix represented as a string with format '[1,2],[3,4],[5,6]' and prints the transpose in the same format.\"\n",
    "#         }\n",
    "#     ]\n",
    "# )\n",
    "# print(response.choices[0].message.content)\n"
   ]
  },
  {
   "cell_type": "markdown",
   "id": "554be5ce",
   "metadata": {},
   "source": [
    "# Functions for state graph\n",
    "- Each takes a state dict and returns updated state dict\n",
    "- We will use these later to construct a LangGraph agent workflow"
   ]
  },
  {
   "cell_type": "code",
   "execution_count": 9,
   "id": "5f02beff",
   "metadata": {},
   "outputs": [],
   "source": [
    "DEBUG = False\n",
    "N_BROWSERS = 4\n",
    "MAX_EDITS = 3\n",
    "before_date = None\n",
    "# before_date = '2024-10-19 15:00:00'\n",
    "do_download = True\n"
   ]
  },
  {
   "cell_type": "code",
   "execution_count": 10,
   "id": "e94b7857",
   "metadata": {},
   "outputs": [],
   "source": [
    "# class to maintain state within graph\n",
    "\n",
    "class AgentState(TypedDict):\n",
    "    AIdf: dict                #  the current working set of headlines (pandas dataframe not supported)\n",
    "    before_date: str          #  ignore stories before this date for deduplication (force reprocess since)\n",
    "    do_download: bool         #  if False use existing files, else download from sources\n",
    "    sources: dict             #  sources to scrap\n",
    "    sources_reverse: dict     #  map file names to sources\n",
    "    bullets: list             #  bullet points for summary email\n",
    "    summary: str              #  final summary\n",
    "    cluster_topics: list      #  list of cluster topics\n",
    "    n_edits: int              #  count edit iterations so we don't keep editing forever\n",
    "    edit_complete: bool       #  edit will update if no more edits to make\n",
    "    # message thread with OpenAI\n",
    "    # messages: Annotated[list[AnyMessage], operator.add]\n"
   ]
  },
  {
   "cell_type": "code",
   "execution_count": 11,
   "id": "f5cd14f0",
   "metadata": {},
   "outputs": [],
   "source": [
    "test_state = AgentState(\n",
    "    {'AIdf': None,\n",
    "    'before_date': before_date,\n",
    "    'do_download': do_download,\n",
    "    'sources': None,\n",
    "    'sources_reverse': None,\n",
    "    'bullets': '',\n",
    "    'summary': '',\n",
    "    'n_edits': 0,\n",
    "    'edit_complete': False,\n",
    "#     'messages': None\n",
    "    }\n",
    ")\n"
   ]
  },
  {
   "cell_type": "code",
   "execution_count": 12,
   "id": "fc712e9d",
   "metadata": {},
   "outputs": [],
   "source": [
    "# Initialize reading configurations from YAML file\n",
    "\n",
    "def fn_initialize(state: AgentState) -> AgentState:\n",
    "    \"\"\"\n",
    "    Initializes the agent state by loading source configurations from SOURCECONFIG (sources.yaml) .\n",
    "\n",
    "    Args:\n",
    "        state (AgentState): The current state of the agent.\n",
    "        verbose (bool, optional): Whether to print verbose output. Defaults to False.\n",
    "\n",
    "    Returns:\n",
    "        AgentState: The updated state of the agent.\n",
    "\n",
    "    Raises:\n",
    "        yaml.YAMLError: If there is an error while loading the YAML file.\n",
    "\n",
    "    \"\"\"\n",
    "\n",
    "    #  load sources to scrape from sources.yaml\n",
    "    with open(SOURCECONFIG, \"r\") as stream:\n",
    "        try:\n",
    "            state['sources'] = yaml.safe_load(stream)\n",
    "        except yaml.YAMLError as exc:\n",
    "            print(exc)\n",
    "\n",
    "    log(f\"Initialized {len(state['sources'])} items in sources from {SOURCECONFIG}\")\n",
    "\n",
    "    # make a reverse dict to map file titles to source names\n",
    "    state['sources_reverse'] = {}\n",
    "    for k, v in state['sources'].items():\n",
    "        log(f\"{k} -> {v['url']} -> {v['title']}.html\")\n",
    "        v['sourcename'] = k\n",
    "        # map filename (title) to source name\n",
    "        state['sources_reverse'][v['title']] = k\n",
    "\n",
    "    log(f\"Initialized {len(state['sources_reverse'])} items in sources_reverse\")\n",
    "\n",
    "    return state\n",
    "\n",
    "\n",
    "if DEBUG:\n",
    "    test_state = fn_initialize(test_state)\n"
   ]
  },
  {
   "cell_type": "code",
   "execution_count": 13,
   "id": "83608da3",
   "metadata": {},
   "outputs": [],
   "source": [
    "# scrape sources with selenium and save local files in DOWNLOAD_DIR (htmldata)\n",
    "def fn_download_sources(state: AgentState) -> AgentState:\n",
    "    \"\"\"\n",
    "    Scrapes sources and saves HTML files.\n",
    "    If state[\"do_download\"] is True, deletes all files in DOWNLOAD_DIR (htmldata) and scrapes fresh copies.\n",
    "    If state[\"do_download\"] is False, uses existing files in DOWNLOAD_DIR.\n",
    "    Uses state[\"sources\"] for config info on sources to scrape\n",
    "    For each source, saves the current filename to state[\"sources\"][sourcename]['latest']\n",
    "\n",
    "    Args:\n",
    "        state (AgentState): The current state of the agent.\n",
    "        do_delete (bool, optional): Whether to delete files in DOWNLOAD_DIR. Defaults to True.\n",
    "\n",
    "    Returns:\n",
    "        AgentState: The updated state of the agent.\n",
    "    \"\"\"\n",
    "\n",
    "    if state[\"do_download\"]:\n",
    "        # empty download directories\n",
    "        delete_files(DOWNLOAD_DIR)\n",
    "        delete_files(PAGES_DIR)\n",
    "\n",
    "        # save each file specified from sources\n",
    "        log(f\"Saving HTML files using {N_BROWSERS} browsers\")\n",
    "\n",
    "        # Create a queue for multiprocessing and populate it\n",
    "        queue = multiprocessing.Queue()\n",
    "        for item in state[\"sources\"].values():\n",
    "            queue.put(item)\n",
    "\n",
    "        # Function to take the queue and pop entries off and process until none are left\n",
    "        # lets you create an array of functions with different args\n",
    "        callable = process_source_queue_factory(queue)\n",
    "\n",
    "        saved_pages = launch_drivers(N_BROWSERS, callable)\n",
    "        for sourcename, file in saved_pages:\n",
    "            log(f\"Downloaded {sourcename} to {file}\")\n",
    "            state['sources'][sourcename]['latest'] = file\n",
    "        log(f\"Saved {len(saved_pages)} HTML files\")\n",
    "\n",
    "    else:   # use existing files\n",
    "        log(f\"Web fetch disabled, using existing files in {DOWNLOAD_DIR}\")\n",
    "        # Get the current date\n",
    "        datestr = datetime.now().strftime(\"%m_%d_%Y\")\n",
    "        files = [os.path.join(DOWNLOAD_DIR, file)\n",
    "                 for file in os.listdir(DOWNLOAD_DIR)]\n",
    "        # filter files with today's date ending in .html\n",
    "        files = [\n",
    "            file for file in files if datestr in file and file.endswith(\".html\")]\n",
    "        log(f\"Found {len(files)} previously downloaded files\")\n",
    "        for file in files:\n",
    "            log(file)\n",
    "\n",
    "        saved_pages = []\n",
    "        for file in files:\n",
    "            filename = os.path.basename(file)\n",
    "            # locate date like '01_14_2024' in filename\n",
    "            position = filename.find(\" (\" + datestr)\n",
    "            basename = filename[:position]\n",
    "            # match to source name\n",
    "            sourcename = state[\"sources_reverse\"].get(basename)\n",
    "            if sourcename is None:\n",
    "                log(f\"Skipping {basename}, no sourcename metadata\")\n",
    "                continue\n",
    "            state[\"sources\"][sourcename]['latest'] = file\n",
    "\n",
    "    return state\n",
    "\n",
    "if DEBUG:\n",
    "    test_state = fn_download_sources(test_state)\n"
   ]
  },
  {
   "cell_type": "code",
   "execution_count": 14,
   "id": "65845bff",
   "metadata": {},
   "outputs": [],
   "source": [
    "def fn_extract_urls(state: AgentState) -> AgentState:\n",
    "    \"\"\"\n",
    "    Extracts news URLs from the latest HTML files matching the patterns defined in the state['sources'] configuration info.\n",
    "\n",
    "    Args:\n",
    "        state (AgentState): The current state of the agent.\n",
    "\n",
    "    Returns:\n",
    "        AgentState: The updated state of the agent with the extracted URLs stored in state['AIdf'].\n",
    "    \"\"\"\n",
    "    # Parse news URLs and titles from downloaded HTML files\n",
    "    log(\"Parsing html files\")\n",
    "    all_urls = []\n",
    "    for sourcename, sourcedict in state['sources'].items():\n",
    "        filename = sourcedict.get('latest')\n",
    "        if not filename:\n",
    "            log(f\"no filename found for {sourcename}\")\n",
    "            continue\n",
    "\n",
    "        log(sourcename + ' -> ' + filename)\n",
    "        links = parse_file(state['sources'][sourcename])\n",
    "        log(f\"{len(links)} links found\")\n",
    "        all_urls.extend(links)\n",
    "\n",
    "    log(f\"Saved {len(all_urls)} links\")\n",
    "\n",
    "    # make a pandas dataframe of all the links found\n",
    "    AIdf = (\n",
    "        pd.DataFrame(all_urls)\n",
    "        .groupby(\"url\")\n",
    "        .first()\n",
    "        .reset_index()\n",
    "        .sort_values(\"src\")[[\"src\", \"title\", \"url\"]]\n",
    "        .reset_index(drop=True)\n",
    "        .reset_index(drop=False)\n",
    "        .rename(columns={\"index\": \"id\"})\n",
    "    )\n",
    "    state['AIdf'] = AIdf.to_dict(orient='records')\n",
    "\n",
    "    return state\n",
    "\n",
    "\n",
    "if DEBUG:\n",
    "    test_state = fn_extract_urls(test_state)\n",
    "\n",
    "    # s/b 17 but if some like bloomberg\" or wsj are missing, maybe got a robot block\n",
    "    # if so, download missing ones manually and then re-run fn_extract_urls\n",
    "    print(len(pd.DataFrame(test_state[\"AIdf\"]).groupby('src').count()))\n",
    "    display(pd.DataFrame(test_state[\"AIdf\"]).groupby('src').count()[['id']])\n"
   ]
  },
  {
   "cell_type": "code",
   "execution_count": 15,
   "id": "b44940fb",
   "metadata": {},
   "outputs": [],
   "source": [
    "# get AI news via newscatcher\n",
    "# https://docs.newscatcherapi.com/api-docs/endpoints/search-news\n",
    "\n",
    "newscatcher_sources = ['247wallst.com',\n",
    " '9to5mac.com',\n",
    " 'androidauthority.com',\n",
    " 'androidcentral.com',\n",
    " 'androidheadlines.com',\n",
    " 'appleinsider.com',\n",
    " 'benzinga.com',\n",
    " 'cnet.com',\n",
    " 'cnn.com',\n",
    " 'digitaltrends.com',\n",
    " 'engadget.com',\n",
    " 'fastcompany.com',\n",
    " 'finextra.com',\n",
    " 'fintechnews.sg',\n",
    " 'fonearena.com',\n",
    " 'ft.com',\n",
    " 'gadgets360.com',\n",
    " 'geekwire.com',\n",
    " 'gizchina.com',\n",
    " 'gizmochina.com',\n",
    " 'gizmodo.com',\n",
    " 'gsmarena.com',\n",
    " 'hackernoon.com',\n",
    " 'howtogeek.com',\n",
    " 'ibtimes.co.uk',\n",
    " 'itwire.com',\n",
    " 'lifehacker.com',\n",
    " 'macrumors.com',\n",
    " 'mashable.com',\n",
    "#  'medium.com',\n",
    " 'mobileworldlive.com',\n",
    " 'msn.com',\n",
    " 'nypost.com',\n",
    " 'phonearena.com',\n",
    " 'phys.org',\n",
    " 'popsci.com',\n",
    " 'scmp.com',\n",
    " 'sify.com',\n",
    " 'siliconangle.com',\n",
    " 'siliconera.com',\n",
    " 'siliconrepublic.com',\n",
    " 'slashdot.org',\n",
    " 'slashgear.com',\n",
    " 'statnews.com',\n",
    " 'tech.co',\n",
    " 'techcrunch.com',\n",
    " 'techdirt.com',\n",
    " 'technode.com',\n",
    " 'technologyreview.com',\n",
    " 'techopedia.com',\n",
    " 'techradar.com',\n",
    " 'techraptor.net',\n",
    " 'techtimes.com',\n",
    " 'techxplore.com',\n",
    " 'telecomtalk.info',\n",
    " 'thecut.com',\n",
    " 'thedrum.com',\n",
    " 'thehill.com',\n",
    " 'theregister.com',\n",
    " 'theverge.com',\n",
    " 'thurrott.com',\n",
    " 'tipranks.com',\n",
    " 'tweaktown.com',\n",
    " 'videocardz.com',\n",
    " 'washingtonpost.com',\n",
    " 'wccftech.com',\n",
    " 'wired.com',\n",
    " 'xda-developers.com',\n",
    " 'yahoo.com',\n",
    " 'zdnet.com']\n",
    "\n",
    "def fn_extract_newscatcher(state: AgentState) -> AgentState:\n",
    "    \n",
    "    q = 'Artificial Intelligence'\n",
    "    page_size = 100\n",
    "    log(f\"Fetching top {page_size} stories matching {q} from Newscatcher\")\n",
    "    base_url = \"https://api.newscatcherapi.com/v2/search\"\n",
    "    time_24h_ago = datetime.now() - timedelta(hours=24)\n",
    "\n",
    "    # Put API key in headers \n",
    "    headers = {'x-api-key': os.getenv('NEWSCATCHER_API_KEY')}\n",
    "\n",
    "    # Define search parameters\n",
    "    params = {\n",
    "        'q': q,\n",
    "        'lang': 'en',\n",
    "        'sources': ','.join(newscatcher_sources),\n",
    "        'from': time_24h_ago.strftime('%Y-%m-%d %H:%M:%S'),\n",
    "        'to': datetime.now().strftime('%Y-%m-%d %H:%M:%S'),\n",
    "        'page_size': page_size, # by default should be most highly relevant to the search\n",
    "        'page': 1\n",
    "        }\n",
    "\n",
    "    # Make API call with headers and params\n",
    "    response = requests.get(base_url, headers=headers, params=params)\n",
    "\n",
    "    # Encode received results\n",
    "    results = json.loads(response.text.encode())\n",
    "    if response.status_code != 200:\n",
    "        print('ERROR: API call failed.')\n",
    "        print(results)\n",
    "        \n",
    "    # merge into existing df\n",
    "    newscatcher_df = pd.DataFrame(results['articles'])[['title', 'link']]\n",
    "    newscatcher_df['src']='Newscatcher'\n",
    "    newscatcher_df = newscatcher_df.rename(columns={'link': 'url'})\n",
    "#     display(newscatcher_df.head())\n",
    "    AIdf = pd.DataFrame(state['AIdf'])\n",
    "#     display(AIdf.head())\n",
    "    \n",
    "    max_id = AIdf['id'].max()\n",
    "    # add id column to newscatcher_df\n",
    "    newscatcher_df['id'] = range(max_id + 1, max_id + 1 + len(newscatcher_df))\n",
    "    AIdf = pd.concat([AIdf, newscatcher_df], ignore_index=True)\n",
    "    state['AIdf'] = AIdf.to_dict(orient='records')\n",
    "    return state\n",
    "    \n",
    "\n",
    "if DEBUG:\n",
    "    test_state = fn_extract_newscatcher(test_state)\n",
    "    print(len(pd.DataFrame(test_state[\"AIdf\"]).groupby('src').count()))\n",
    "    display(pd.DataFrame(test_state[\"AIdf\"]).groupby('src').count()[['id']])\n",
    "    "
   ]
  },
  {
   "cell_type": "code",
   "execution_count": 16,
   "id": "3143ed9a",
   "metadata": {},
   "outputs": [],
   "source": [
    "# some debugging stuff\n",
    "# zdf = pd.DataFrame(test_state[\"AIdf\"])\n",
    "# zdf.loc[zdf[\"src\"]=='Techmeme']\n",
    "\n",
    "# connection = sqlite3.connect('articles.db')\n",
    "# xdf = pd.read_sql_query(\"SELECT * FROM news_articles\", connection)\n",
    "# connection.close()\n",
    "\n",
    "# zdf.loc[zdf[\"title\"].str.startswith(\"NHTSA\")] \n",
    "# xdf.loc[xdf[\"title\"].str.startswith(\"NHTSA\")] \n",
    "\n",
    "# pd.set_option('display.max_rows', 300)  # Ensure up to 300 rows are shown\n",
    "\n",
    "# xdf.loc[xdf['isAI']> 0].groupby('actual_src') \\\n",
    "#     .count() \\\n",
    "#     .reset_index()[['actual_src', 'id']] \\\n",
    "#     .sort_values('id', ascending=False) \\\n",
    "#     .head(300)\n"
   ]
  },
  {
   "cell_type": "code",
   "execution_count": 17,
   "id": "9eb53b07",
   "metadata": {},
   "outputs": [],
   "source": [
    "# sqlite schema to store previously processed \n",
    "# CREATE TABLE news_articles (\n",
    "#     id INTEGER PRIMARY KEY,\n",
    "#     src TEXT,\n",
    "#     title TEXT,\n",
    "#     url TEXT UNIQUE,\n",
    "#     isAI BOOLEAN,\n",
    "#     article_date DATE\n",
    "# , timestamp DATETIME, actual_url TEXT, actual_src TEXT);\n",
    "#\n",
    "# CREATE TABLE sites (\n",
    "#     id INTEGER PRIMARY KEY AUTOINCREMENT,\n",
    "#     hostname TEXT UNIQUE NOT NULL,\n",
    "#     site_name TEXT NOT NULL\n",
    "# );\n",
    "\n"
   ]
  },
  {
   "cell_type": "code",
   "execution_count": 18,
   "id": "cd53332f",
   "metadata": {},
   "outputs": [],
   "source": [
    "# filter and clean URLs for new AI stories\n",
    "\n",
    "def fn_filter_urls(state: AgentState) -> AgentState:\n",
    "    \"\"\"\n",
    "    Filters the URLs in state[\"AIdf\"] to include only those that have not been previously seen,\n",
    "    and are related to AI according to the response from a ChatGPT prompt.\n",
    "\n",
    "    Args:\n",
    "        state (AgentState): The current state of the agent.\n",
    "        before_date (str, optional): The date before which the URLs should be filtered. Defaults to \"\".\n",
    "\n",
    "    Returns:\n",
    "\n",
    "\n",
    "        AgentState: The updated state of the agent with the filtered URLs stored in state[\"AIdf\"].\n",
    "\n",
    "    \"\"\"\n",
    "    # filter to URL not previously seen\n",
    "    AIdf = pd.DataFrame(state[\"AIdf\"])\n",
    "\n",
    "    AIdf = filter_unseen_urls_db(AIdf, before_date=state[\"before_date\"])\n",
    "\n",
    "    if len(AIdf) == 0:\n",
    "        log(\"No new URLs, returning\")\n",
    "        return state\n",
    "\n",
    "    # dedupe identical headlines\n",
    "    # filter similar titles differing by type of quote or something\n",
    "    AIdf['title'] = AIdf['title'].apply(unicode_to_ascii)\n",
    "    AIdf['title_clean'] = AIdf['title'].map(lambda s: \"\".join(s.split()))\n",
    "    AIdf = AIdf.sort_values(\"src\") \\\n",
    "        .groupby(\"title_clean\") \\\n",
    "        .first() \\\n",
    "        .reset_index(drop=True) \\\n",
    "        .drop(columns=['id']) \\\n",
    "        .reset_index() \\\n",
    "        .rename(columns={'index': 'id'})\n",
    "    log(f\"Found {len(AIdf)} unique new headlines\")\n",
    "\n",
    "    # structured response format\n",
    "    json_schema = {\n",
    "        \"name\": \"json_schema\",\n",
    "        \"strict\": True,\n",
    "        \"schema\": {\n",
    "            \"type\": \"object\",\n",
    "            \"properties\": {\n",
    "                \"isai_array\": {\n",
    "                    \"type\": \"array\",\n",
    "                    \"items\": {\n",
    "                        \"type\": \"object\",\n",
    "                                \"properties\": {\n",
    "                                    \"id\": {\n",
    "                                        \"type\": \"number\"\n",
    "                                    },\n",
    "                                    \"isAI\": {\n",
    "                                        \"type\": \"boolean\"\n",
    "                                    }\n",
    "                                },\n",
    "                        \"required\": [\"id\", \"isAI\"],\n",
    "                        \"additionalProperties\": False\n",
    "                    }\n",
    "                }\n",
    "            },\n",
    "            \"required\": [\"isai_array\"],\n",
    "            \"additionalProperties\": False\n",
    "        }\n",
    "    }\n",
    "\n",
    "    # filter AI-related headlines using a prompt\n",
    "    pages = paginate_df(AIdf)\n",
    "    enriched_urls = asyncio.run(fetch_pages(pages, prompt=FILTER_PROMPT, json_schema=json_schema))\n",
    "    filter_df = pd.DataFrame(enriched_urls)\n",
    "    \n",
    "    try:  # for idempotency\n",
    "        AIdf = AIdf.drop(columns=['isAI'])\n",
    "    except:\n",
    "        pass\n",
    "\n",
    "    # merge returned df with isAI column into original df on id column\n",
    "    AIdf = pd.merge(AIdf, filter_df, on=\"id\", how=\"outer\")\n",
    "    log(AIdf.columns)\n",
    "    # set hostname based on actualurl\n",
    "    AIdf['actual_url'] = AIdf['url']    # ideally resolve redirects but Google News blocks\n",
    "    AIdf['hostname']=AIdf['actual_url'].apply(lambda url: urlparse(url).netloc)\n",
    "\n",
    "    # update SQLite database with all seen URLs (we are doing this using url and ignoring redirects)\n",
    "    log(f\"Inserting {len(AIdf)} URLs into {SQLITE_DB}\")\n",
    "    conn = sqlite3.connect(SQLITE_DB)\n",
    "    cursor = conn.cursor()\n",
    "    for row in AIdf.itertuples():\n",
    "        insert_article(conn, cursor, row.src, row.hostname, row.title,\n",
    "                       row.url, row.actual_url, row.isAI, datetime.now().date())\n",
    "\n",
    "    # keep headlines that are related to AI\n",
    "    AIdf = AIdf.loc[AIdf[\"isAI\"]==1] \\\n",
    "        .reset_index(drop=True)  \\\n",
    "        .reset_index()  \\\n",
    "        .drop(columns=[\"id\"])  \\\n",
    "        .rename(columns={'index': 'id'})\n",
    "\n",
    "    log(f\"Found {len(AIdf)} AI headlines\")\n",
    "\n",
    "    # update actual URLs for Google News redirects\n",
    "    # I think Google changed something so this no longer works, instead of a 301 redirct\n",
    "    # get a javascript page that redirects. Also tomorrow we might see different URLs for same stories\n",
    "    # AIdf = get_google_news_redirects(AIdf)\n",
    "\n",
    "    conn = sqlite3.connect('articles.db')\n",
    "    query = \"select * from sites\"\n",
    "    sites_df = pd.read_sql_query(query, conn)\n",
    "    sites_dict = {row.hostname:row.site_name for row in sites_df.itertuples()}\n",
    "    conn.close()\n",
    "\n",
    "    # get clean site_name\n",
    "    AIdf['site_name'] = AIdf['hostname'].apply(lambda hostname: sites_dict.get(hostname, hostname))\n",
    "\n",
    "    # if any missing clean site names, populate them using OpenAI\n",
    "    missing_site_names =  len(AIdf.loc[AIdf['site_name']==\"\"])\n",
    "    if missing_site_names:\n",
    "        log(f\"Asking OpenAI for {missing_site_names} missing site names\")\n",
    "        responses = asyncio.run(fetch_missing_site_names(AIdf))\n",
    "        # update site_dict from responses\n",
    "        new_urls = []\n",
    "        for r in responses:\n",
    "            if r['url'].startswith('https://'):\n",
    "                r['url'] = r['url'][8:]\n",
    "            new_urls.append(r['url'])\n",
    "            sites_dict[r['url']] = r['site_name']\n",
    "            log(f\"Looked up {r['url']} -> {r['site_name']}\")\n",
    "        # update sites table with new names\n",
    "        for url in new_urls:\n",
    "            sqlstr = \"INSERT OR IGNORE INTO sites (hostname, site_name) VALUES (?, ?);\"\n",
    "            log(f\"Updated {url} -> {sites_dict[url]}\")\n",
    "            conn.execute(sqlstr, (url, sites_dict[url]))\n",
    "            conn.commit()\n",
    "        # reapply to AIdf with updated sites\n",
    "        AIdf['site_name'] = AIdf['hostname'].apply(lambda hostname: sites_dict.get(hostname, hostname))\n",
    "    else:\n",
    "        log(\"No missing site names\")\n",
    "  \n",
    "    # drop banned slop sites\n",
    "\n",
    "    AIdf = AIdf.loc[~AIdf[\"hostname\"].str.lower().isin(HOSTNAME_SKIPLIST)]\n",
    "    AIdf = AIdf.loc[~AIdf[\"site_name\"].str.lower().isin(SITE_NAME_SKIPLIST)]\n",
    "    \n",
    "    state[\"AIdf\"] = AIdf.to_dict(orient='records')\n",
    "    return state\n",
    "\n",
    "\n",
    "if DEBUG:\n",
    "    test_state = fn_filter_urls(test_state)\n",
    "    display(pd.DataFrame(test_state[\"AIdf\"]).groupby('src').count()[['id']])\n",
    "    display(list(pd.DataFrame(test_state[\"AIdf\"]).columns))\n",
    "\n"
   ]
  },
  {
   "cell_type": "code",
   "execution_count": 19,
   "id": "e968501e",
   "metadata": {},
   "outputs": [],
   "source": [
    "# for row in pd.DataFrame(test_state[\"AIdf\"]).itertuples():\n",
    "#     display(Markdown(f\"[{row.id}. {row.title} - {row.src}]({row.url})\"))\n"
   ]
  },
  {
   "cell_type": "code",
   "execution_count": 20,
   "id": "a3c42f10",
   "metadata": {},
   "outputs": [],
   "source": [
    "# Function for topic extraction\n",
    "# TODO: could send more prompts to gpt-4o-mini and not hit rate limits\n",
    "def clean_topics(row, lcategories):\n",
    "    \"\"\"\n",
    "    Cleans the extracted_topics and assigned_topics by removing certain common topics and combining them into a single list.\n",
    "\n",
    "    Args:\n",
    "        row (pandas.Series): The row containing the extracted_topics and assigned_topics.\n",
    "        lcategories (set): The set of lowercase categories.\n",
    "\n",
    "    Returns:\n",
    "        list: The cleaned and combined list of topics.\n",
    "    \"\"\"\n",
    "    extracted_topics = [x.title() for x in row.extracted_topics if x.lower() not in {\"technology\", \"ai\", \"artificial intelligence\"}]\n",
    "    assigned_topics = [x.title() for x in row.assigned_topics if x.lower() in lcategories]\n",
    "    combined = sorted(list(set(extracted_topics + assigned_topics)))\n",
    "    combined = [s.replace(\"Ai\", \"AI\") for s in combined]\n",
    "    combined = [s.replace(\"Genai\", \"Gen AI\") for s in combined]\n",
    "    combined = [s.replace(\"Openai\", \"OpenAI\") for s in combined]\n",
    "\n",
    "    return combined\n",
    "\n",
    "\n",
    "async def do_cat(AIdf, categories):\n",
    "    \"\"\"\n",
    "    Sends a prompt to ChatGPT to select topics for the title for each row in AIdf\n",
    "    which match the topics in categories.\n",
    "\n",
    "    Args:\n",
    "        AIdf (pandas.DataFrame): The DataFrame containing the headlines.\n",
    "        categories (list): The list of topics to match with the headlines.\n",
    "\n",
    "    Returns:\n",
    "        dict: A dictionary where the keys are the row IDs and the values are lists\n",
    "        of selected topics for each headline.\n",
    "\n",
    "    \"\"\"\n",
    "\n",
    "    catdict = {}\n",
    "    async with aiohttp.ClientSession() as session:\n",
    "        for i, row in enumerate(AIdf.itertuples()):\n",
    "            tasks = []\n",
    "            log(f\"Categorizing headline {row.id+1} of {len(AIdf)}\")\n",
    "            h = row.title\n",
    "            log(h)\n",
    "            for c in categories:\n",
    "                task = asyncio.create_task(categorize_headline(h, c, session))\n",
    "                tasks.append(task)\n",
    "            responses = await asyncio.gather(*tasks)\n",
    "            catdict[row.id] = [item for sublist in responses for item in sublist]\n",
    "            log(str(catdict[row.id]))\n",
    "\n",
    "    return catdict\n",
    "\n",
    "\n",
    "def fn_topic_analysis(state: AgentState) -> AgentState:\n",
    "\n",
    "    \"\"\"\n",
    "    Extracts and selects topics for each headline in the state['AIdf'] dataframe, scrubs them, and stores them back in the dataframe.\n",
    "\n",
    "    Args:\n",
    "        state (AgentState): The current state of the agent.\n",
    "\n",
    "    Returns:\n",
    "        AgentState: The updated state of the agent with the extracted and selected topics stored in state['AIdf'].\n",
    "    \"\"\"\n",
    "    AIdf = pd.DataFrame(state[\"AIdf\"])\n",
    "    pages = paginate_df(AIdf)\n",
    "    # apply topic extraction prompt to AI headlines\n",
    "    log(\"start free-form topic extraction\")\n",
    "    json_schema = {\n",
    "        \"name\": \"extracted_topics\",\n",
    "        \"strict\": True,\n",
    "        \"schema\": {\n",
    "            \"type\": \"object\",\n",
    "            \"properties\": {\n",
    "                \"extracted_topics\": {\n",
    "                    \"type\": \"array\",\n",
    "                    \"items\": {\n",
    "                        \"type\": \"object\",\n",
    "                        \"properties\": {\n",
    "                            \"id\": {\n",
    "                                \"type\": \"number\",\n",
    "                            },\n",
    "                            \"topics\": {\n",
    "                                \"type\": \"array\",\n",
    "                                \"items\": {\n",
    "                                    \"type\": \"string\",\n",
    "                                },\n",
    "                            },\n",
    "                        },\n",
    "                        \"required\": [\"id\", \"topics\"],\n",
    "                        \"additionalProperties\": False,\n",
    "                    }\n",
    "                }\n",
    "            },\n",
    "            \"required\": [\"extracted_topics\"],\n",
    "            \"additionalProperties\": False,\n",
    "        }\n",
    "    }\n",
    "    response = asyncio.run(fetch_pages(pages, prompt=TOPIC_PROMPT, json_schema=json_schema))\n",
    "    topic_df = pd.DataFrame(response)\n",
    "    topic_df = topic_df.rename(columns={'topics': 'extracted_topics'})\n",
    "    log(f\"{len(topic_df)} free-form topics extracted\")\n",
    "    all_topics = [item.lower() for row in topic_df.itertuples() for item in row.extracted_topics]\n",
    "    item_counts = Counter(all_topics)\n",
    "    filtered_topics = [item for item in item_counts if item_counts[item] >= 2 and item not in {'technology', 'ai', 'artificial intelligence'}]\n",
    "\n",
    "    categories = sorted(CANONICAL_TOPICS)\n",
    "    # use categories that are canonical or show up twice in freeform\n",
    "    lcategories = set([c.lower() for c in categories] + [c.lower() for c in filtered_topics])\n",
    "    # new topics\n",
    "    log([c for c in filtered_topics if c not in categories])\n",
    "\n",
    "    catdict = asyncio.run(categorize_headline(AIdf, categories=categories))\n",
    "    topic_df['assigned_topics'] = topic_df['id'].apply(lambda id: catdict.get(id, \"\"))\n",
    "\n",
    "    topic_df[\"topics\"] = topic_df.apply(lambda t: clean_topics(t, lcategories), axis=1)\n",
    "    topic_df[\"topic_str\"] = topic_df.apply(lambda row: \", \".join(row.topics), axis=1)\n",
    "\n",
    "    try: # for idempotency\n",
    "        AIdf = AIdf.drop(columns=['topic_str', 'title_topic_str'])\n",
    "    except:\n",
    "        pass\n",
    "\n",
    "    AIdf = pd.merge(AIdf, topic_df[[\"id\", \"topic_str\"]], on=\"id\", how=\"outer\")\n",
    "    AIdf['title_topic_str'] = AIdf.apply(lambda row: f'{row.title} (Topics: {row.topic_str})', axis=1)\n",
    "\n",
    "    state[\"AIdf\"] = AIdf.to_dict(orient='records')\n",
    "    return state\n",
    "\n",
    "if DEBUG:\n",
    "    test_state = fn_topic_analysis(test_state)\n"
   ]
  },
  {
   "cell_type": "code",
   "execution_count": 21,
   "id": "426fbbd9",
   "metadata": {},
   "outputs": [],
   "source": [
    "async def write_topic_name(topic_list_str, max_retries=3, model=LOWCOST_MODEL):\n",
    "    \"\"\"\n",
    "    Generates a name for a cluster based on a list of headline topics.\n",
    "\n",
    "    Parameters:\n",
    "    session (aiohttp.ClientSession): The client session for making async HTTP requests.\n",
    "    topic_list_str (str): A string containing the list of headline topics.\n",
    "    max_retries (int, optional): The maximum number of retries in case of an error. Defaults to 3.\n",
    "    model (str, optional): The model to use for generating the topic name. Defaults to LOWCOST_MODEL.\n",
    "\n",
    "    Returns:\n",
    "    dict: A dictionary containing the generated topic name.\n",
    "\n",
    "    Example Usage:\n",
    "    title_topic_str_list = \"Headline 1 (Topic: Topic 1)\\n\\nHeadline 2 (Topic: Topic 2)\"\n",
    "    result = await write_topic_name(session, title_topic_str_list)\n",
    "    print(result)\n",
    "\n",
    "    Output:\n",
    "    {\"topic_title\": \"Generated Topic Name\"}\n",
    "    ```\n",
    "    \"\"\"\n",
    "    TOPIC_WRITER_PROMPT = f\"\"\"\n",
    "You are a topic writing assistant. I will provide a list of headlines with extracted topics in parentheses.\n",
    "Your task is to propose a name for a topic that very simply, clearly and accurately captures all the provided\n",
    "headlines in less than 7 words. You will output a JSON object with the key \"topic_title\".\n",
    "\n",
    "Example Input:\n",
    "In the latest issue of Caixins weekly magazine: CATL Bets on 'Skateboard Chassis' and Battery Swaps to Dispell Market Concerns (powered by AI) (Topics: Battery Swaps, Catl, China, Market Concerns, Skateboard Chassis)\n",
    "\n",
    "AI, cheap EVs, future Chevy  the week (Topics: Chevy, Evs)\n",
    "\n",
    "Electric Vehicles and AI: Driving the Consumer & World Forward (Topics: Consumer, Electric Vehicles, Technology)\n",
    "\n",
    "Example Output:\n",
    "{{\"topic_title\": \"Electric Vehicles\"}}\n",
    "\n",
    "Task\n",
    "Propose the name for the overall topic based on the following provided headlines and individual topics:\n",
    "\n",
    "{topic_list_str}\n",
    "\"\"\"\n",
    "\n",
    "    for i in range(max_retries):\n",
    "        try:\n",
    "            messages=[\n",
    "                      {\"role\": \"user\", \"content\": TOPIC_WRITER_PROMPT\n",
    "                      }]\n",
    "\n",
    "            payload = {\"model\":  model,\n",
    "                       \"response_format\": {\"type\": \"json_object\"},\n",
    "                       \"messages\": messages,\n",
    "                       \"temperature\": 0\n",
    "                       }\n",
    "#             print(topic_list_str)\n",
    "\n",
    "            async with aiohttp.ClientSession() as session:\n",
    "                response = asyncio.run(fetch_openai(session, payload))\n",
    "            response_dict = json.loads(response[\"choices\"][0][\"message\"][\"content\"])\n",
    "            log(response_dict)\n",
    "            \n",
    "            return response_dict\n",
    "        except Exception as exc:\n",
    "            log(f\"Error: {exc}\")\n",
    "\n",
    "    return {}\n",
    "\n",
    "\n",
    "def fn_topic_clusters(state: AgentState) -> AgentState:\n",
    "    \"\"\"\n",
    "    Fetches embeddings for the headlines, creates clusters of similar articles using DBSCAN, and sorts\n",
    "    using the clusters and a traveling salesman shortest traversal in embedding space.\n",
    "\n",
    "    Parameters:\n",
    "    state (AgentState): The state of the agent.\n",
    "\n",
    "    Returns:\n",
    "    AgentState: The updated state of the agent.\n",
    "\n",
    "    \"\"\"\n",
    "    AIdf = pd.DataFrame(state[\"AIdf\"])\n",
    "\n",
    "    log(f\"Fetching embeddings for {len(AIdf)} headlines\")\n",
    "    embedding_model = 'text-embedding-3-large'\n",
    "    client = OpenAI()\n",
    "    response = client.embeddings.create(input=AIdf['title_topic_str'].tolist(),\n",
    "                                        model=embedding_model)\n",
    "    embedding_df = pd.DataFrame([e.model_dump()['embedding'] for e in response.data])\n",
    "\n",
    "    # greedy traveling salesman sort\n",
    "    log(f\"Sort with nearest_neighbor_sort sort\")\n",
    "    sorted_indices = nearest_neighbor_sort(embedding_df)\n",
    "    AIdf['sort_order'] = sorted_indices\n",
    "\n",
    "    # do dimensionality reduction on embedding_df and cluster analysis\n",
    "    log(f\"Load umap dimensionality reduction model\")\n",
    "    with open(\"reducer.pkl\", 'rb') as file:\n",
    "        # Load the model from the file\n",
    "        reducer = pickle.load(file)\n",
    "    log(f\"Perform dimensionality reduction\")\n",
    "    reduced_data = reducer.transform(embedding_df)\n",
    "    log(f\"Cluster with DBSCAN\")\n",
    "    dbscan = DBSCAN(eps=0.4, min_samples=3)  # Adjust eps and min_samples as needed\n",
    "    AIdf['cluster'] = dbscan.fit_predict(reduced_data)\n",
    "    AIdf.loc[AIdf['cluster'] == -1, 'cluster'] = 999\n",
    "\n",
    "    # sort first by clusters found by DBSCAN, then by semantic ordering\n",
    "    AIdf = AIdf.sort_values(['cluster', 'sort_order']) \\\n",
    "        .reset_index(drop=True) \\\n",
    "        .reset_index() \\\n",
    "        .drop(columns=[\"id\"]) \\\n",
    "        .rename(columns={'index': 'id'})\n",
    "\n",
    "    # show clusters\n",
    "    state[\"cluster_topics\"] = []\n",
    "    with pd.option_context('display.max_rows', None, 'display.max_colwidth', None):\n",
    "        for i in range(30):\n",
    "            try:\n",
    "                tmpdf = AIdf.loc[AIdf['cluster']==i][[\"id\", \"title_topic_str\"]]\n",
    "                if len(tmpdf) ==0:\n",
    "                    break\n",
    "                display(tmpdf)\n",
    "                title_topic_str_list = (\"\\n\\n\".join(tmpdf['title_topic_str'].to_list()))\n",
    "                cluster_topic = asyncio.run(write_topic_name(title_topic_str_list))\n",
    "                cluster_topic = cluster_topic['topic_title']\n",
    "                state[\"cluster_topics\"].append(cluster_topic)\n",
    "                log(f\"I dub this cluster: {cluster_topic}\")\n",
    "            except Exception as exc:\n",
    "                log(exc)\n",
    "    AIdf[\"cluster_name\"] = AIdf['cluster'].apply(lambda i: state[\"cluster_topics\"][i] \n",
    "                                                 if i < len(state[\"cluster_topics\"]) \n",
    "                                                 else \"\")\n",
    "    state[\"AIdf\"] = AIdf.to_dict(orient='records')\n",
    "    print(state[\"cluster_topics\"])\n",
    "    return state\n",
    "\n",
    "# TODO: could add a quality rating for stories based on site reputation, length, complexity of story\n",
    "# could then add the quality rating to the summaries and tell the prompt to favor high-quality stories\n",
    "# could put summaries into vector store and retrieve stories by topic. but then you will have to deal\n",
    "# with duplicates across categories, ask the prompt to dedupe\n",
    "\n",
    "# def fn_topic_clusters(state: AgentState) -> AgentState:\n",
    "#     \"call async afn_topic_clusters on state\"\n",
    "#     state = asyncio.run(afn_topic_clusters(state))\n",
    "#     return state\n",
    "\n",
    "\n",
    "if DEBUG:\n",
    "    test_state = fn_topic_clusters(test_state)\n"
   ]
  },
  {
   "cell_type": "code",
   "execution_count": 22,
   "id": "6f796cd7",
   "metadata": {},
   "outputs": [],
   "source": [
    "# scrape individual pages\n",
    "def fn_download_pages(state: AgentState) -> AgentState:\n",
    "    \"\"\"\n",
    "    Uses several Selenium browser sessions to download all the pages referenced in the\n",
    "    state[\"AIdf\"] DataFrame and store their pathnames.\n",
    "\n",
    "    Args:\n",
    "        state (AgentState): The current state of the agent.\n",
    "\n",
    "    Returns:\n",
    "        AgentState: The updated state of the agent with the downloaded pages' pathnames stored in the `state[\"AIdf\"]` DataFrame.\n",
    "    \"\"\"\n",
    "    log(\"Queuing URLs for scraping\")\n",
    "    AIdf = pd.DataFrame(state['AIdf'])\n",
    "    queue = multiprocessing.Queue()\n",
    "\n",
    "    count = 0\n",
    "    for row in AIdf.itertuples():\n",
    "#         if row.cluster < 999:\n",
    "        queue.put((row.id, row.url, row.title))\n",
    "        count +=1\n",
    "    # scrape urls in queue asynchronously\n",
    "    num_browsers = 4\n",
    "\n",
    "    callable = process_url_queue_factory(queue)\n",
    "\n",
    "    log(f\"fetching {count} pages using {num_browsers} browsers\")\n",
    "    saved_pages = launch_drivers(num_browsers, callable)\n",
    "\n",
    "    pages_df = pd.DataFrame(saved_pages)\n",
    "    if len(pages_df):\n",
    "        pages_df.columns = ['id', 'url', 'title', 'path']\n",
    "\n",
    "        try: # for idempotency\n",
    "            AIdf = AIdf.drop(columns=['path'])\n",
    "        except:\n",
    "            pass        \n",
    "        AIdf = pd.merge(AIdf, pages_df[[\"id\", \"path\"]], on='id', how=\"inner\")\n",
    "    state[\"AIdf\"] = AIdf.to_dict(orient='records')\n",
    "    return state\n",
    "\n",
    "\n",
    "if DEBUG:\n",
    "    test_state = fn_download_pages(test_state)\n",
    "\n"
   ]
  },
  {
   "cell_type": "code",
   "execution_count": 23,
   "id": "b40abdff",
   "metadata": {
    "scrolled": false
   },
   "outputs": [],
   "source": [
    "# summarize individual pages\n",
    "\n",
    "def fn_summarize_pages(state: AgentState) -> AgentState:\n",
    "    \"\"\"\n",
    "    Reads all the articles, summarizes each one using a ChatGPT prompt, and sends an email with the summaries.\n",
    "\n",
    "    Args:\n",
    "        state (AgentState): The current state of the agent.\n",
    "\n",
    "    Returns:\n",
    "        AgentState: The updated state of the agent.\n",
    "\n",
    "    \"\"\"\n",
    "    log(\"Starting summarize\")\n",
    "    AIdf = pd.DataFrame(state['AIdf'])\n",
    "    responses = asyncio.run(fetch_all_summaries(AIdf))\n",
    "    log(f\"Received {len(responses)} summaries\")\n",
    "    response_dict = {}\n",
    "    for i, response in responses:\n",
    "        try:\n",
    "            response_str = response[\"choices\"][0][\"message\"][\"content\"]\n",
    "            response_dict[i] = response_str\n",
    "        except Exception as exc:\n",
    "            print(exc)\n",
    "\n",
    "    markdown_str = ''\n",
    "    bullets = []\n",
    "\n",
    "    for i, row in enumerate(AIdf.itertuples()):\n",
    "        try:\n",
    "            topics = []\n",
    "            if row.cluster_name:\n",
    "                topics.append(row.cluster_name)\n",
    "            if row.topic_str:\n",
    "                topics.append(row.topic_str)\n",
    "            topic_str = \", \".join(topics)\n",
    "\n",
    "            mdstr = f\"[{i+1}. {row.title} - {row.site_name}]({row.actual_url})  \\n\\n {topic_str}  \\n\\n{response_dict[row.id]} \\n\\n\"\n",
    "            bullets.append(f\"[{row.title} - {row.site_name}]({row.actual_url})\\n\\nTopics: {row.topic_str} \\n\\n{response_dict[row.id]}\\n\\n\")\n",
    "            display(Markdown(mdstr.replace(\"$\",\"\\\\\\\\$\")))\n",
    "            markdown_str += mdstr\n",
    "        except Exception as exc:\n",
    "            print(\"Error:\", exc)\n",
    "\n",
    "    state['bullets'] = bullets\n",
    "    # Convert Markdown to HTML\n",
    "    html_str = markdown.markdown(markdown_str, extensions=['extra'])\n",
    "    # save bullets\n",
    "    with open('bullets.md', 'w') as f:\n",
    "        f.write(markdown_str)\n",
    "    # send email\n",
    "    log(\"Sending bullet points email\")\n",
    "    subject = f'AI news bullets {datetime.now().strftime(\"%H:%M:%S\")}'\n",
    "    send_gmail(subject, html_str)\n",
    "\n",
    "    return state\n",
    "\n",
    "\n",
    "if DEBUG:\n",
    "    test_state = fn_summarize_pages(test_state)\n",
    "\n"
   ]
  },
  {
   "cell_type": "code",
   "execution_count": 24,
   "id": "2a8696ee",
   "metadata": {},
   "outputs": [],
   "source": [
    "def fn_propose_cats(state: AgentState) -> AgentState:\n",
    "    # ask chatgpt for top categories\n",
    "    log(f\"Proposing categories using {MODEL}\")\n",
    "\n",
    "    model = ChatOpenAI(\n",
    "        model=MODEL,\n",
    "        temperature=0.3,\n",
    "        model_kwargs={\"response_format\": {\"type\": \"json_object\"}}\n",
    "    )\n",
    "\n",
    "    chain = ChatPromptTemplate.from_template(\"{p}\") | model | SimpleJsonOutputParser()\n",
    "    response = chain.invoke({ \"p\": TOP_CATEGORIES_PROMPT + \"\\n\\n\".join(state[\"bullets\"])})\n",
    "    suggested_categories = []\n",
    "    for k, v in response.items():\n",
    "        suggested_categories.extend(v)\n",
    "    state[\"cluster_topics\"] = list(set(state[\"cluster_topics\"] + suggested_categories))\n",
    "    state[\"cluster_topics\"].sort()\n",
    "    log(f\"Proposed categories: {state['cluster_topics']}\")\n",
    "    return state\n",
    "\n",
    "\n",
    "if DEBUG:\n",
    "    test_state = fn_propose_cats(test_state)\n",
    "    print(\"edit the following proposed topic list and update state['cluster_topics']:\")\n",
    "    print('\"' + '\",\\n\"'.join(test_state[\"cluster_topics\"]) + '\"')\n"
   ]
  },
  {
   "cell_type": "code",
   "execution_count": 25,
   "id": "476589f4",
   "metadata": {},
   "outputs": [],
   "source": [
    "def fn_compose_summary(state: AgentState) -> AgentState:\n",
    "    log(f\"Composing summary using {HIGHCOST_MODEL}\")\n",
    "\n",
    "    cat_str = \"\\n\".join(state['cluster_topics'])\n",
    "    bullet_str = \"\\n~~~\\n\".join(state[\"bullets\"])\n",
    "    client = OpenAI()\n",
    "    response = client.chat.completions.create(\n",
    "        model=HIGHCOST_MODEL,\n",
    "        messages=[\n",
    "            {\n",
    "                \"role\": \"user\",\n",
    "                \"content\": FINAL_SUMMARY_PROMPT.format(cat_str=cat_str, bullet_str=bullet_str)\n",
    "            }\n",
    "        ]\n",
    "    )\n",
    "#     print(response)\n",
    "    \n",
    "#     model = ChatOpenAI(\n",
    "#         model=HIGHCOST_MODEL,\n",
    "#         temperature=0.3,\n",
    "#         model_kwargs={\"response_format\": {\"type\": \"json_object\"}}\n",
    "#     )\n",
    "\n",
    "#     chain = ChatPromptTemplate.from_template(FINAL_SUMMARY_PROMPT) | model | SimpleJsonOutputParser()\n",
    "#     response = chain.invoke({ \"cat_str\": cat_str, \"bullet_str\": bullet_str})\n",
    "#     print(response)\n",
    "    state[\"summary\"] = response.choices[0].message.content\n",
    "\n",
    "    return state\n",
    "\n",
    "\n",
    "if DEBUG:\n",
    "    test_state = fn_compose_summary(test_state)\n",
    "    display(Markdown(test_state[\"summary\"].replace(\"$\",\"\\\\\\\\$\")))\n"
   ]
  },
  {
   "cell_type": "code",
   "execution_count": 26,
   "id": "af8947de",
   "metadata": {},
   "outputs": [],
   "source": [
    "#post manually to o1-preview and grab response b/c I don't have API yet\n",
    "# cat_str = \"\\n\".join(test_state['cluster_topics'])\n",
    "# bullet_str = \"\\n~~~\\n\".join(test_state[\"bullets\"])\n",
    "# final_summary_prompt = FINAL_SUMMARY_PROMPT.format(cat_str=cat_str, bullet_str=bullet_str)\n",
    "# count_tokens(final_summary_prompt)\n",
    "# # copy to clipboard to paste in o1-preview\n",
    "# subprocess.run(\"pbcopy\", universal_newlines=True, input=final_summary_prompt)\n",
    "# print(final_summary_prompt)\n"
   ]
  },
  {
   "cell_type": "code",
   "execution_count": 27,
   "id": "db415214",
   "metadata": {},
   "outputs": [],
   "source": [
    "# test_state[\"summary\"] = \"\"\"\n",
    "# \"\"\"\n",
    "\n",
    "# display(Markdown(test_state[\"summary\"].replace(\"$\",\"\\\\\\\\$\")))\n"
   ]
  },
  {
   "cell_type": "code",
   "execution_count": 28,
   "id": "aef9690d",
   "metadata": {},
   "outputs": [],
   "source": [
    "def fn_rewrite_summary(state: AgentState) -> AgentState:\n",
    "\n",
    "#     model = ChatOpenAI(\n",
    "#         model=HIGHCOST_MODEL,\n",
    "#         temperature=0.3,\n",
    "#         model_kwargs={\"response_format\": {\"type\": \"json_object\"}}\n",
    "#     )\n",
    "\n",
    "#     chain = ChatPromptTemplate.from_template(REWRITE_PROMPT) | model | SimpleJsonOutputParser()\n",
    "#     response = chain.invoke({ \"summary\": state[\"summary\"]})\n",
    "    log(f\"Rewriting summary using {HIGHCOST_MODEL}\")\n",
    "\n",
    "    client = OpenAI()\n",
    "    response = client.chat.completions.create(\n",
    "        model=HIGHCOST_MODEL,\n",
    "        messages=[\n",
    "            {\n",
    "                \"role\": \"user\",\n",
    "                \"content\": REWRITE_PROMPT.format(summary=state[\"summary\"])\n",
    "            }\n",
    "        ]\n",
    "    )\n",
    "    response_str = response.choices[0].message.content\n",
    "    state[\"n_edits\"] += 1    \n",
    "    if response_str.strip().lower().startswith('ok'):\n",
    "        log(\"No edits made, edit complete\")\n",
    "        state[\"edit_complete\"] = True\n",
    "    else:\n",
    "        state[\"summary\"] = response_str\n",
    "    return state\n",
    "\n",
    "\n",
    "if DEBUG:\n",
    "    test_state = fn_rewrite_summary(test_state)\n",
    "    display(Markdown(test_state[\"summary\"].replace(\"$\",\"\\\\\\\\$\")))\n"
   ]
  },
  {
   "cell_type": "code",
   "execution_count": 29,
   "id": "abf4496b",
   "metadata": {},
   "outputs": [],
   "source": [
    "# rewrite_prompt = (REWRITE_PROMPT.format(summary=test_state[\"summary\"]))\n",
    "# subprocess.run(\"pbcopy\", universal_newlines=True, input=rewrite_prompt)\n",
    "# print(rewrite_prompt)\n"
   ]
  },
  {
   "cell_type": "code",
   "execution_count": 30,
   "id": "34d40128",
   "metadata": {},
   "outputs": [],
   "source": [
    "# test_state[\"summary\"] = \"\"\"\n",
    "# \"\"\"\n",
    "\n",
    "# if DEBUG:\n",
    "#     display(Markdown(test_state[\"summary\"].replace(\"$\",\"\\\\\\\\$\")))\n"
   ]
  },
  {
   "cell_type": "code",
   "execution_count": 31,
   "id": "48f56983",
   "metadata": {},
   "outputs": [],
   "source": [
    "def fn_is_revision_complete(state: AgentState) -> str:\n",
    "    \"\"\"update edit_complete if MAX_EDITS exceeded\"\n",
    "    return \"complete\" if edit_complete else \"incomplete\"\n",
    "    \"\"\"\n",
    "\n",
    "    if state[\"n_edits\"] >= MAX_EDITS:\n",
    "        log(\"Max edits reached\")\n",
    "        state[\"edit_complete\"] = True\n",
    "\n",
    "\n",
    "    return \"complete\" if state[\"edit_complete\"] else \"incomplete\"\n",
    "\n",
    "\n",
    "if DEBUG:\n",
    "    test_state[\"edit_complete\"] = fn_is_revision_complete(test_state)\n",
    "    display(test_state[\"edit_complete\"])\n"
   ]
  },
  {
   "cell_type": "code",
   "execution_count": 32,
   "id": "3a651d6c",
   "metadata": {},
   "outputs": [],
   "source": [
    "def fn_send_mail(state: AgentState) -> AgentState:\n",
    "\n",
    "    log(\"Sending summary email\")\n",
    "    # Convert Markdown to HTML\n",
    "    html_str = markdown.markdown(state['summary'], extensions=['extra'])\n",
    "    # extract subject, match a top-level Markdown heading (starts with \"# \")\n",
    "    match = re.search(r\"^# (.+)$\", state[\"summary\"], re.MULTILINE)\n",
    "    \n",
    "    # If a match is found, return the first captured group (the heading text)\n",
    "    if match:\n",
    "        subject = match.group(1).strip()\n",
    "    else:\n",
    "        subject = f'AI news summary {datetime.now().strftime(\"%H:%M:%S\")}'\n",
    "    log(f\"Email subject {subject}\")\n",
    "    log(f\"Email length {len(html_str)}\")\n",
    "        \n",
    "    # send email\n",
    "    send_gmail(subject, html_str)\n",
    "    return state\n",
    "\n",
    "if DEBUG:\n",
    "    fn_send_mail(test_statestate)"
   ]
  },
  {
   "cell_type": "markdown",
   "id": "e83bbf66",
   "metadata": {},
   "source": [
    "# Define LangGraph agent state graph"
   ]
  },
  {
   "cell_type": "code",
   "execution_count": 33,
   "id": "1ae374e1",
   "metadata": {},
   "outputs": [],
   "source": [
    "class Agent:\n",
    "\n",
    "    def __init__(self, state):\n",
    "        \n",
    "        self.state = state\n",
    "        \n",
    "        graph_builder = StateGraph(AgentState)\n",
    "        graph_builder.add_node(\"initialize\", self.initialize)\n",
    "        graph_builder.add_node(\"download_sources\", self.download_sources)\n",
    "        graph_builder.add_node(\"extract_web_urls\", self.extract_web_urls)\n",
    "        graph_builder.add_node(\"extract_newscatcher_urls\", self.extract_newscatcher_urls)\n",
    "        graph_builder.add_node(\"filter_urls\", self.filter_urls)\n",
    "        graph_builder.add_node(\"topic_analysis\", self.topic_analysis)\n",
    "        graph_builder.add_node(\"topic_clusters\", self.topic_clusters)\n",
    "        graph_builder.add_node(\"download_pages\", self.download_pages)\n",
    "        graph_builder.add_node(\"summarize_pages\", self.summarize_pages)\n",
    "        graph_builder.add_node(\"propose_topics\", self.propose_topics)\n",
    "        graph_builder.add_node(\"compose_summary\", self.compose_summary)\n",
    "        graph_builder.add_node(\"rewrite_summary\", self.rewrite_summary)\n",
    "        graph_builder.add_node(\"send_mail\", self.send_mail)\n",
    "\n",
    "        graph_builder.add_edge(START, \"initialize\")\n",
    "        graph_builder.add_edge(\"initialize\", \"download_sources\")\n",
    "        graph_builder.add_edge(\"download_sources\", \"extract_web_urls\")\n",
    "        graph_builder.add_edge(\"extract_web_urls\", \"extract_newscatcher_urls\")\n",
    "        graph_builder.add_edge(\"extract_newscatcher_urls\", \"filter_urls\")\n",
    "        graph_builder.add_edge(\"filter_urls\", \"topic_analysis\")\n",
    "        graph_builder.add_edge(\"topic_analysis\", \"topic_clusters\")\n",
    "        graph_builder.add_edge(\"topic_clusters\", \"download_pages\")\n",
    "        graph_builder.add_edge(\"download_pages\", \"summarize_pages\")\n",
    "        graph_builder.add_edge(\"summarize_pages\", \"propose_topics\")\n",
    "        graph_builder.add_edge(\"propose_topics\", \"compose_summary\")\n",
    "        graph_builder.add_edge(\"compose_summary\", \"rewrite_summary\")\n",
    "        graph_builder.add_conditional_edges(\"rewrite_summary\",\n",
    "                                            self.is_revision_complete,\n",
    "                                            {\"incomplete\": \"rewrite_summary\",\n",
    "                                             \"complete\": \"send_mail\",\n",
    "                                            })\n",
    "        graph_builder.add_edge(\"send_mail\", END)\n",
    "\n",
    "        # human in the loop should check web pages downloaded ok, and edit proposed categories \n",
    "#         self.conn = sqlite3.connect('lg_checkpointer.db')\n",
    "#         self.checkpointer = SqliteSaver(conn=self.conn)\n",
    "        self.checkpointer = MemorySaver()\n",
    "        graph = graph_builder.compile(checkpointer=self.checkpointer,\n",
    "                                      interrupt_before=[\"filter_urls\", \"compose_summary\",])\n",
    "        self.graph = graph\n",
    "\n",
    "\n",
    "    def initialize(self, state: AgentState) -> AgentState:\n",
    "        self.state = fn_initialize(state)\n",
    "        return self.state\n",
    "\n",
    "    def download_sources(self, state: AgentState) -> AgentState:\n",
    "        self.state = fn_download_sources(state)\n",
    "        return self.state\n",
    "\n",
    "    def extract_web_urls(self, state: AgentState) -> AgentState:\n",
    "        self.state = fn_extract_urls(state)\n",
    "        return self.state\n",
    "\n",
    "    def extract_newscatcher_urls(self, state: AgentState) -> AgentState:\n",
    "        self.state = fn_extract_newscatcher(state)\n",
    "        return self.state\n",
    "\n",
    "    def filter_urls(self, state: AgentState) -> AgentState:\n",
    "        self.state = fn_filter_urls(state)\n",
    "        return self.state\n",
    "\n",
    "    def topic_analysis(self, state: AgentState) -> AgentState:\n",
    "        self.state = fn_topic_analysis(state)\n",
    "        return self.state\n",
    "\n",
    "    def topic_clusters(self, state: AgentState) -> AgentState:\n",
    "        self.state = fn_topic_clusters(state)\n",
    "        return self.state\n",
    "\n",
    "    def download_pages(self, state: AgentState) -> AgentState:\n",
    "        self.state = fn_download_pages(state)\n",
    "        return self.state\n",
    "\n",
    "    def summarize_pages(self, state: AgentState) -> AgentState:\n",
    "        self.state = fn_summarize_pages(state)\n",
    "        return self.state\n",
    "\n",
    "    def propose_topics(self, state: AgentState) -> AgentState:\n",
    "        self.state = fn_propose_cats(state)\n",
    "        return self.state\n",
    "\n",
    "    def compose_summary(self, state: AgentState) -> AgentState:\n",
    "        self.state = fn_compose_summary(state)\n",
    "        return self.state\n",
    "\n",
    "    def rewrite_summary(self, state: AgentState) -> AgentState:\n",
    "        self.state = fn_rewrite_summary(state)\n",
    "        return self.state\n",
    "\n",
    "    def is_revision_complete(self, state: AgentState) -> str:\n",
    "        return fn_is_revision_complete(state)\n",
    "\n",
    "    def send_mail(self, state: AgentState) -> AgentState:\n",
    "        self.state = fn_send_mail(state)\n",
    "        return self.state\n",
    "    \n",
    "    def run(self, state, config):\n",
    "        # The config is the **second positional argument** to stream() or invoke()!\n",
    "        events = self.graph.stream(state, config, stream_mode=\"values\"\n",
    "        )\n",
    "        \n",
    "        for event in events:\n",
    "            try:\n",
    "                if event.get('summary'):\n",
    "                    display(Markdown(event.get('summary').replace(\"$\",\"\\\\\\\\$\")))\n",
    "                elif event.get('bullets'):\n",
    "                    display(Markdown(\"\\n\\n\".join(event.get('bullets')).replace(\"$\",\"\\\\\\\\$\")))\n",
    "                elif event.get('cluster_topics'):\n",
    "                    display(Markdown(\"\\n\\n\".join(event.get('cluster_topics'))))\n",
    "                elif event.get('AIdf'):\n",
    "                    display(pd.DataFrame(event.get('AIdf')).groupby(\"src\").count()[['id']])\n",
    "                elif event.get('sources'):\n",
    "                    print([k for k in event.get('sources').keys()])\n",
    "            except Exception as exc: \n",
    "                print(exc)\n",
    "                \n",
    "        return self.state\n",
    "\n",
    " "
   ]
  },
  {
   "cell_type": "markdown",
   "id": "b1c93915",
   "metadata": {},
   "source": [
    "# Instantiate agent and show flowchart"
   ]
  },
  {
   "cell_type": "code",
   "execution_count": 34,
   "id": "a9585f64",
   "metadata": {},
   "outputs": [
    {
     "name": "stderr",
     "output_type": "stream",
     "text": [
      "2024-10-23 06:40:41,871 - AInewsbot - INFO - Initializing with before_date=None, do_download=True, thread_id=b3b05b6dec1048acbb6dc6157d74a48c\n"
     ]
    },
    {
     "data": {
      "image/jpeg": "[encoded data removed]",
      "text/plain": [
       "<IPython.core.display.Image object>"
      ]
     },
     "metadata": {},
     "output_type": "display_data"
    }
   ],
   "source": [
    "do_download = True\n",
    "before_date = None\n",
    "# before_date=\"2024-10-21 08:00:00\"\n",
    "\n",
    "# initial state\n",
    "state = AgentState(\n",
    "    {'AIdf': None,\n",
    "    'before_date': before_date,\n",
    "    'do_download': do_download,\n",
    "    'sources': None,\n",
    "    'sources_reverse': None,\n",
    "    'bullets': '',\n",
    "    'summary': '',\n",
    "    'n_edits': 0,\n",
    "    'edit_complete': False,\n",
    "    }\n",
    ")\n",
    "\n",
    "# Configuration with thread ID for checkpointing\n",
    "# Generate a random UUID\n",
    "thread_id = uuid.uuid4().hex\n",
    "config = {\"configurable\": {\"thread_id\": thread_id}}\n",
    "\n",
    "log(f\"Initializing with before_date={state.get('before_date')}, do_download={do_download}, thread_id={thread_id}\")\n",
    "lg_agent = Agent(state)\n",
    "display(Image(lg_agent.graph.get_graph().draw_mermaid_png()))\n"
   ]
  },
  {
   "cell_type": "markdown",
   "id": "25ff0b02",
   "metadata": {},
   "source": [
    "# Run each step individually"
   ]
  },
  {
   "cell_type": "code",
   "execution_count": 35,
   "id": "f0108a59",
   "metadata": {},
   "outputs": [
    {
     "name": "stderr",
     "output_type": "stream",
     "text": [
      "2024-10-23 06:40:48,582 - AInewsbot - INFO - Initialized 17 items in sources from sources.yaml\n",
      "2024-10-23 06:40:48,583 - AInewsbot - INFO - Ars Technica -> https://arstechnica.com/ -> Ars Technica.html\n",
      "2024-10-23 06:40:48,583 - AInewsbot - INFO - Bloomberg Tech -> https://www.bloomberg.com/ai -> Bloomberg Technology.html\n",
      "2024-10-23 06:40:48,584 - AInewsbot - INFO - Business Insider -> https://www.businessinsider.com/tech -> Business Insider Tech.html\n",
      "2024-10-23 06:40:48,584 - AInewsbot - INFO - FT Tech -> https://www.ft.com/technology -> FT Technology.html\n",
      "2024-10-23 06:40:48,585 - AInewsbot - INFO - Feedly AI -> https://feedly.com/i/aiFeeds?options=eyJsYXllcnMiOlt7InBhcnRzIjpbeyJpZCI6Im5scC9mL3RvcGljLzMwMDAifV0sInNlYXJjaEhpbnQiOiJ0ZWNobm9sb2d5IiwidHlwZSI6Im1hdGNoZXMiLCJzYWxpZW5jZSI6ImFib3V0In1dLCJidW5kbGVzIjpbeyJ0eXBlIjoic3RyZWFtIiwiaWQiOiJ1c2VyLzYyZWViYjlmLTcxNTEtNGY5YS1hOGM3LTlhNTdiODIwNTMwOC9jYXRlZ29yeS9HYWRnZXRzIn1dfQ -> Feedly AI.html\n",
      "2024-10-23 06:40:48,585 - AInewsbot - INFO - Google News -> https://news.google.com/topics/CAAqJggKIiBDQkFTRWdvSUwyMHZNRGRqTVhZU0FtVnVHZ0pWVXlnQVAB?hl=en-US&gl=US&ceid=US%3Aen -> Google News - Technology - Artificial intelligence.html\n",
      "2024-10-23 06:40:48,585 - AInewsbot - INFO - Hacker News -> https://news.ycombinator.com/ -> Hacker News Page 1.html\n",
      "2024-10-23 06:40:48,586 - AInewsbot - INFO - Hacker News 2 -> https://news.ycombinator.com/?p=2 -> Hacker News Page 2.html\n",
      "2024-10-23 06:40:48,586 - AInewsbot - INFO - HackerNoon -> https://hackernoon.com/ -> HackerNoon.html\n",
      "2024-10-23 06:40:48,586 - AInewsbot - INFO - NYT Tech -> https://www.nytimes.com/section/technology -> New York Times Technology.html\n",
      "2024-10-23 06:40:48,587 - AInewsbot - INFO - Reddit -> https://www.reddit.com/r/ChatGPT+ChatGPTCoding+MacOS+MachineLearning+OpenAI+ProgrammerHumor+Windows10+battlestations+buildapc+cordcutters+dataisbeautiful+gadgets+hardware+linux+msp+programming+realtech+software+talesfromtechsupport+tech+technews+technology+techsupportgore+windows/top/?sort=top&t=day -> Reddit multiple subreddits.html\n",
      "2024-10-23 06:40:48,587 - AInewsbot - INFO - Techmeme -> https://www.techmeme.com/river -> Techmeme.html\n",
      "2024-10-23 06:40:48,587 - AInewsbot - INFO - The Register -> https://www.theregister.com/software/ai_ml/ -> The Register.html\n",
      "2024-10-23 06:40:48,588 - AInewsbot - INFO - The Verge -> https://www.theverge.com/ai-artificial-intelligence -> The Verge AI.html\n",
      "2024-10-23 06:40:48,588 - AInewsbot - INFO - VentureBeat -> https://venturebeat.com/category/ai/ -> VentureBeat AI.html\n",
      "2024-10-23 06:40:48,588 - AInewsbot - INFO - WSJ Tech -> https://www.wsj.com/tech/ai -> WSJ Technology.html\n",
      "2024-10-23 06:40:48,588 - AInewsbot - INFO - WaPo Tech -> https://www.washingtonpost.com/technology/innovations/ -> Washington Post Technology.html\n",
      "2024-10-23 06:40:48,589 - AInewsbot - INFO - Initialized 17 items in sources_reverse\n",
      "2024-10-23 06:40:48,642 - AInewsbot - INFO - Saving HTML files using 4 browsers\n",
      "2024-10-23 06:40:48,658 - AInewsbot - INFO - get_driver - 60664 Initializing webdriver\n",
      "2024-10-23 06:40:48,659 - AInewsbot - INFO - get_driver - 60664 Initializing webdriver\n",
      "2024-10-23 06:40:48,660 - AInewsbot - INFO - get_driver - 60664 Initializing webdriver\n",
      "2024-10-23 06:40:48,660 - AInewsbot - INFO - get_driver - 60664 Initializing webdriver\n",
      "2024-10-23 06:41:06,627 - AInewsbot - INFO - get_driver - Initialized webdriver profile\n",
      "2024-10-23 06:41:06,627 - AInewsbot - INFO - get_driver - Initialized webdriver profile\n",
      "2024-10-23 06:41:06,627 - AInewsbot - INFO - get_driver - Initialized webdriver profile\n",
      "2024-10-23 06:41:06,628 - AInewsbot - INFO - get_driver - Initialized webdriver profile\n",
      "2024-10-23 06:41:06,628 - AInewsbot - INFO - get_driver - Initialized webdriver service\n",
      "2024-10-23 06:41:06,628 - AInewsbot - INFO - get_driver - Initialized webdriver service\n",
      "2024-10-23 06:41:06,629 - AInewsbot - INFO - get_driver - Initialized webdriver service\n",
      "2024-10-23 06:41:06,629 - AInewsbot - INFO - get_driver - Initialized webdriver service\n",
      "2024-10-23 06:42:10,206 - AInewsbot - INFO - get_driver - Initialized webdriver\n",
      "2024-10-23 06:42:10,353 - AInewsbot - INFO - Processing Ars Technica\n",
      "2024-10-23 06:42:10,355 - AInewsbot - INFO - get_files(Ars Technica) - starting get_files https://arstechnica.com/\n",
      "2024-10-23 06:42:10,513 - AInewsbot - INFO - get_driver - Initialized webdriver\n",
      "2024-10-23 06:42:10,585 - AInewsbot - INFO - Processing Bloomberg Tech\n",
      "2024-10-23 06:42:10,588 - AInewsbot - INFO - get_files(Bloomberg Technology) - starting get_files https://www.bloomberg.com/ai\n",
      "2024-10-23 06:42:10,604 - AInewsbot - INFO - get_driver - Initialized webdriver\n",
      "2024-10-23 06:42:10,618 - AInewsbot - INFO - Processing Business Insider\n",
      "2024-10-23 06:42:10,619 - AInewsbot - INFO - get_files(Business Insider Tech) - starting get_files https://www.businessinsider.com/tech\n",
      "2024-10-23 06:42:10,662 - AInewsbot - INFO - get_driver - Initialized webdriver\n",
      "2024-10-23 06:42:10,667 - AInewsbot - INFO - Processing FT Tech\n",
      "2024-10-23 06:42:10,668 - AInewsbot - INFO - get_files(FT Technology) - starting get_files https://www.ft.com/technology\n",
      "2024-10-23 06:42:21,301 - AInewsbot - INFO - Message: Unable to locate element: //meta[@http-equiv='Content-Type']; For documentation on this error, please visit: https://www.selenium.dev/documentation/webdriver/troubleshooting/errors#no-such-element-exception\n",
      "Stacktrace:\n",
      "RemoteError@chrome://remote/content/shared/RemoteError.sys.mjs:8:8\n",
      "WebDriverError@chrome://remote/content/shared/webdriver/Errors.sys.mjs:192:5\n",
      "NoSuchElementError@chrome://remote/content/shared/webdriver/Errors.sys.mjs:510:5\n",
      "dom.find/</<@chrome://remote/content/shared/DOM.sys.mjs:136:16\n",
      "\n",
      "2024-10-23 06:42:21,301 - AInewsbot - INFO - get_files(Business Insider Tech) - Saving Business Insider Tech (10_23_2024 06_42_21 AM).html as utf-8\n",
      "2024-10-23 06:42:21,306 - AInewsbot - INFO - Processing Feedly AI\n",
      "2024-10-23 06:42:21,307 - AInewsbot - INFO - get_files(Feedly AI) - starting get_files https://feedly.com/i/aiFeeds?options=eyJsYXllcnMiOlt7InBhcnRzIjpbeyJpZCI6Im5scC9mL3RvcGljLzMwMDAifV0sInNlYXJjaEhpbnQiOiJ0ZWNobm9sb2d5IiwidHlwZSI6Im1hdGNoZXMiLCJzYWxpZW5jZSI6ImFib3V0In1dLCJidW5kbGVzIjpbeyJ0eXBlIjoic3RyZWFtIiwiaWQiOiJ1c2VyLzYyZWViYjlmLTcxNTEtNGY5YS1hOGM3LTlhNTdiODIwNTMwOC9jYXRlZ29yeS9HYWRnZXRzIn1dfQ\n",
      "2024-10-23 06:42:23,130 - AInewsbot - INFO - Message: Unable to locate element: //meta[@http-equiv='Content-Type']; For documentation on this error, please visit: https://www.selenium.dev/documentation/webdriver/troubleshooting/errors#no-such-element-exception\n",
      "Stacktrace:\n",
      "RemoteError@chrome://remote/content/shared/RemoteError.sys.mjs:8:8\n",
      "WebDriverError@chrome://remote/content/shared/webdriver/Errors.sys.mjs:192:5\n",
      "NoSuchElementError@chrome://remote/content/shared/webdriver/Errors.sys.mjs:510:5\n",
      "dom.find/</<@chrome://remote/content/shared/DOM.sys.mjs:136:16\n",
      "\n",
      "2024-10-23 06:42:23,131 - AInewsbot - INFO - get_files(Bloomberg Technology) - Saving Bloomberg Technology (10_23_2024 06_42_23 AM).html as utf-8\n",
      "2024-10-23 06:42:23,132 - AInewsbot - INFO - Processing Google News\n",
      "2024-10-23 06:42:23,132 - AInewsbot - INFO - get_files(Google News - Technology - Artificial intelligence) - starting get_files https://news.google.com/topics/CAAqJggKIiBDQkFTRWdvSUwyMHZNRGRqTVhZU0FtVnVHZ0pWVXlnQVAB?hl=en-US&gl=US&ceid=US%3Aen\n",
      "2024-10-23 06:42:23,915 - AInewsbot - INFO - Message: Unable to locate element: //meta[@http-equiv='Content-Type']; For documentation on this error, please visit: https://www.selenium.dev/documentation/webdriver/troubleshooting/errors#no-such-element-exception\n",
      "Stacktrace:\n",
      "RemoteError@chrome://remote/content/shared/RemoteError.sys.mjs:8:8\n",
      "WebDriverError@chrome://remote/content/shared/webdriver/Errors.sys.mjs:192:5\n",
      "NoSuchElementError@chrome://remote/content/shared/webdriver/Errors.sys.mjs:510:5\n",
      "dom.find/</<@chrome://remote/content/shared/DOM.sys.mjs:136:16\n",
      "\n",
      "2024-10-23 06:42:23,915 - AInewsbot - INFO - get_files(FT Technology) - Saving FT Technology (10_23_2024 06_42_23 AM).html as utf-8\n",
      "2024-10-23 06:42:23,916 - AInewsbot - INFO - Processing Hacker News\n",
      "2024-10-23 06:42:23,916 - AInewsbot - INFO - get_files(Hacker News Page 1) - starting get_files https://news.ycombinator.com/\n"
     ]
    },
    {
     "name": "stderr",
     "output_type": "stream",
     "text": [
      "2024-10-23 06:42:25,016 - AInewsbot - INFO - Message: Unable to locate element: //meta[@http-equiv='Content-Type']; For documentation on this error, please visit: https://www.selenium.dev/documentation/webdriver/troubleshooting/errors#no-such-element-exception\n",
      "Stacktrace:\n",
      "RemoteError@chrome://remote/content/shared/RemoteError.sys.mjs:8:8\n",
      "WebDriverError@chrome://remote/content/shared/webdriver/Errors.sys.mjs:192:5\n",
      "NoSuchElementError@chrome://remote/content/shared/webdriver/Errors.sys.mjs:510:5\n",
      "dom.find/</<@chrome://remote/content/shared/DOM.sys.mjs:136:16\n",
      "\n",
      "2024-10-23 06:42:25,017 - AInewsbot - INFO - get_files(Ars Technica) - Saving Ars Technica (10_23_2024 06_42_25 AM).html as utf-8\n",
      "2024-10-23 06:42:25,018 - AInewsbot - INFO - Processing Hacker News 2\n",
      "2024-10-23 06:42:25,019 - AInewsbot - INFO - get_files(Hacker News Page 2) - starting get_files https://news.ycombinator.com/?p=2\n",
      "2024-10-23 06:42:33,981 - AInewsbot - INFO - get_files(Google News - Technology - Artificial intelligence) - Attempting to click on //*[@aria-label=\"Artificial intelligence\"]\n",
      "2024-10-23 06:42:34,244 - AInewsbot - INFO - get_files - Clicked\n",
      "2024-10-23 06:42:34,251 - AInewsbot - INFO - get_files(Google News - Technology - Artificial intelligence) - Loading additional infinite scroll items\n",
      "2024-10-23 06:42:34,512 - AInewsbot - INFO - Message: Unable to locate element: //meta[@http-equiv='Content-Type']; For documentation on this error, please visit: https://www.selenium.dev/documentation/webdriver/troubleshooting/errors#no-such-element-exception\n",
      "Stacktrace:\n",
      "RemoteError@chrome://remote/content/shared/RemoteError.sys.mjs:8:8\n",
      "WebDriverError@chrome://remote/content/shared/webdriver/Errors.sys.mjs:192:5\n",
      "NoSuchElementError@chrome://remote/content/shared/webdriver/Errors.sys.mjs:510:5\n",
      "dom.find/</<@chrome://remote/content/shared/DOM.sys.mjs:136:16\n",
      "\n",
      "2024-10-23 06:42:34,513 - AInewsbot - INFO - get_files(Hacker News Page 1) - Saving Hacker News Page 1 (10_23_2024 06_42_34 AM).html as utf-8\n",
      "2024-10-23 06:42:34,515 - AInewsbot - INFO - Processing HackerNoon\n",
      "2024-10-23 06:42:34,515 - AInewsbot - INFO - get_files(HackerNoon) - starting get_files https://hackernoon.com/\n",
      "2024-10-23 06:42:35,564 - AInewsbot - INFO - Message: Unable to locate element: //meta[@http-equiv='Content-Type']; For documentation on this error, please visit: https://www.selenium.dev/documentation/webdriver/troubleshooting/errors#no-such-element-exception\n",
      "Stacktrace:\n",
      "RemoteError@chrome://remote/content/shared/RemoteError.sys.mjs:8:8\n",
      "WebDriverError@chrome://remote/content/shared/webdriver/Errors.sys.mjs:192:5\n",
      "NoSuchElementError@chrome://remote/content/shared/webdriver/Errors.sys.mjs:510:5\n",
      "dom.find/</<@chrome://remote/content/shared/DOM.sys.mjs:136:16\n",
      "\n",
      "2024-10-23 06:42:35,566 - AInewsbot - INFO - get_files(Hacker News Page 2) - Saving Hacker News Page 2 (10_23_2024 06_42_35 AM).html as utf-8\n",
      "2024-10-23 06:42:35,566 - AInewsbot - INFO - Processing NYT Tech\n",
      "2024-10-23 06:42:35,566 - AInewsbot - INFO - get_files(New York Times Technology) - starting get_files https://www.nytimes.com/section/technology\n",
      "2024-10-23 06:42:44,299 - AInewsbot - INFO - Message: Unable to locate element: //meta[@http-equiv='Content-Type']; For documentation on this error, please visit: https://www.selenium.dev/documentation/webdriver/troubleshooting/errors#no-such-element-exception\n",
      "Stacktrace:\n",
      "RemoteError@chrome://remote/content/shared/RemoteError.sys.mjs:8:8\n",
      "WebDriverError@chrome://remote/content/shared/webdriver/Errors.sys.mjs:192:5\n",
      "NoSuchElementError@chrome://remote/content/shared/webdriver/Errors.sys.mjs:510:5\n",
      "dom.find/</<@chrome://remote/content/shared/DOM.sys.mjs:136:16\n",
      "\n",
      "2024-10-23 06:42:44,299 - AInewsbot - INFO - get_files(Google News - Technology - Artificial intelligence) - Saving Google News - Technology - Artificial intelligence (10_23_2024 06_42_44 AM).html as utf-8\n",
      "2024-10-23 06:42:44,303 - AInewsbot - INFO - Processing Reddit\n",
      "2024-10-23 06:42:44,303 - AInewsbot - INFO - get_files(Reddit multiple subreddits) - starting get_files https://www.reddit.com/r/ChatGPT+ChatGPTCoding+MacOS+MachineLearning+OpenAI+ProgrammerHumor+Windows10+battlestations+buildapc+cordcutters+dataisbeautiful+gadgets+hardware+linux+msp+programming+realtech+software+talesfromtechsupport+tech+technews+technology+techsupportgore+windows/top/?sort=top&t=day\n",
      "2024-10-23 06:42:45,243 - AInewsbot - INFO - Message: Unable to locate element: //meta[@http-equiv='Content-Type']; For documentation on this error, please visit: https://www.selenium.dev/documentation/webdriver/troubleshooting/errors#no-such-element-exception\n",
      "Stacktrace:\n",
      "RemoteError@chrome://remote/content/shared/RemoteError.sys.mjs:8:8\n",
      "WebDriverError@chrome://remote/content/shared/webdriver/Errors.sys.mjs:192:5\n",
      "NoSuchElementError@chrome://remote/content/shared/webdriver/Errors.sys.mjs:510:5\n",
      "dom.find/</<@chrome://remote/content/shared/DOM.sys.mjs:136:16\n",
      "\n",
      "2024-10-23 06:42:45,244 - AInewsbot - INFO - get_files(HackerNoon) - Saving HackerNoon (10_23_2024 06_42_45 AM).html as utf-8\n",
      "2024-10-23 06:42:45,245 - AInewsbot - INFO - Processing Techmeme\n",
      "2024-10-23 06:42:45,247 - AInewsbot - INFO - get_files(Techmeme) - starting get_files https://www.techmeme.com/river\n",
      "2024-10-23 06:42:47,246 - AInewsbot - INFO - Message: Unable to locate element: //meta[@http-equiv='Content-Type']; For documentation on this error, please visit: https://www.selenium.dev/documentation/webdriver/troubleshooting/errors#no-such-element-exception\n",
      "Stacktrace:\n",
      "RemoteError@chrome://remote/content/shared/RemoteError.sys.mjs:8:8\n",
      "WebDriverError@chrome://remote/content/shared/webdriver/Errors.sys.mjs:192:5\n",
      "NoSuchElementError@chrome://remote/content/shared/webdriver/Errors.sys.mjs:510:5\n",
      "dom.find/</<@chrome://remote/content/shared/DOM.sys.mjs:136:16\n",
      "\n",
      "2024-10-23 06:42:47,247 - AInewsbot - INFO - get_files(New York Times Technology) - Saving New York Times Technology (10_23_2024 06_42_47 AM).html as utf-8\n",
      "2024-10-23 06:42:47,248 - AInewsbot - INFO - Processing The Register\n",
      "2024-10-23 06:42:47,248 - AInewsbot - INFO - get_files(The Register) - starting get_files https://www.theregister.com/software/ai_ml/\n",
      "2024-10-23 06:42:52,057 - AInewsbot - INFO - get_files(Feedly AI) - Loading additional infinite scroll items\n",
      "2024-10-23 06:42:56,345 - AInewsbot - INFO - Message: Unable to locate element: //meta[@http-equiv='Content-Type']; For documentation on this error, please visit: https://www.selenium.dev/documentation/webdriver/troubleshooting/errors#no-such-element-exception\n",
      "Stacktrace:\n",
      "RemoteError@chrome://remote/content/shared/RemoteError.sys.mjs:8:8\n",
      "WebDriverError@chrome://remote/content/shared/webdriver/Errors.sys.mjs:192:5\n",
      "NoSuchElementError@chrome://remote/content/shared/webdriver/Errors.sys.mjs:510:5\n",
      "dom.find/</<@chrome://remote/content/shared/DOM.sys.mjs:136:16\n",
      "\n",
      "2024-10-23 06:42:56,345 - AInewsbot - INFO - get_files(Techmeme) - Saving Techmeme (10_23_2024 06_42_56 AM).html as utf-8\n",
      "2024-10-23 06:42:56,348 - AInewsbot - INFO - Processing The Verge\n",
      "2024-10-23 06:42:56,349 - AInewsbot - INFO - get_files(The Verge AI) - starting get_files https://www.theverge.com/ai-artificial-intelligence\n",
      "2024-10-23 06:42:56,384 - AInewsbot - INFO - get_files(Reddit multiple subreddits) - Loading additional infinite scroll items\n",
      "2024-10-23 06:42:58,086 - AInewsbot - INFO - get_files(The Register) - Saving The Register (10_23_2024 06_42_58 AM).html as utf-8\n",
      "2024-10-23 06:42:58,087 - AInewsbot - INFO - Processing VentureBeat\n",
      "2024-10-23 06:42:58,087 - AInewsbot - INFO - get_files(VentureBeat AI) - starting get_files https://venturebeat.com/category/ai/\n",
      "2024-10-23 06:43:02,069 - AInewsbot - INFO - get_files(Feedly AI) - Loading additional infinite scroll items\n",
      "2024-10-23 06:43:06,399 - AInewsbot - INFO - get_files(Reddit multiple subreddits) - Loading additional infinite scroll items\n",
      "2024-10-23 06:43:07,101 - AInewsbot - INFO - Message: Unable to locate element: //meta[@http-equiv='Content-Type']; For documentation on this error, please visit: https://www.selenium.dev/documentation/webdriver/troubleshooting/errors#no-such-element-exception\n",
      "Stacktrace:\n",
      "RemoteError@chrome://remote/content/shared/RemoteError.sys.mjs:8:8\n",
      "WebDriverError@chrome://remote/content/shared/webdriver/Errors.sys.mjs:192:5\n",
      "NoSuchElementError@chrome://remote/content/shared/webdriver/Errors.sys.mjs:510:5\n",
      "dom.find/</<@chrome://remote/content/shared/DOM.sys.mjs:136:16\n",
      "\n"
     ]
    },
    {
     "name": "stderr",
     "output_type": "stream",
     "text": [
      "2024-10-23 06:43:07,101 - AInewsbot - INFO - get_files(The Verge AI) - Saving The Verge AI (10_23_2024 06_43_07 AM).html as utf-8\n",
      "2024-10-23 06:43:07,104 - AInewsbot - INFO - Processing WSJ Tech\n",
      "2024-10-23 06:43:07,105 - AInewsbot - INFO - get_files(WSJ Technology) - starting get_files https://www.wsj.com/tech/ai\n",
      "2024-10-23 06:43:08,720 - AInewsbot - INFO - get_files(VentureBeat AI) - Saving VentureBeat AI (10_23_2024 06_43_08 AM).html as UTF-8\n",
      "2024-10-23 06:43:08,722 - AInewsbot - INFO - Processing WaPo Tech\n",
      "2024-10-23 06:43:08,722 - AInewsbot - INFO - get_files(Washington Post Technology) - starting get_files https://www.washingtonpost.com/technology/innovations/\n",
      "2024-10-23 06:43:12,081 - AInewsbot - INFO - get_files(Feedly AI) - Loading additional infinite scroll items\n",
      "2024-10-23 06:43:16,426 - AInewsbot - INFO - Message: Unable to locate element: //meta[@http-equiv='Content-Type']; For documentation on this error, please visit: https://www.selenium.dev/documentation/webdriver/troubleshooting/errors#no-such-element-exception\n",
      "Stacktrace:\n",
      "RemoteError@chrome://remote/content/shared/RemoteError.sys.mjs:8:8\n",
      "WebDriverError@chrome://remote/content/shared/webdriver/Errors.sys.mjs:192:5\n",
      "NoSuchElementError@chrome://remote/content/shared/webdriver/Errors.sys.mjs:510:5\n",
      "dom.find/</<@chrome://remote/content/shared/DOM.sys.mjs:136:16\n",
      "\n",
      "2024-10-23 06:43:16,426 - AInewsbot - INFO - get_files(Reddit multiple subreddits) - Saving Reddit multiple subreddits (10_23_2024 06_43_16 AM).html as utf-8\n",
      "2024-10-23 06:43:16,428 - AInewsbot - INFO - Quit webdriver\n",
      "2024-10-23 06:43:18,196 - AInewsbot - INFO - Message: Unable to locate element: //meta[@http-equiv='Content-Type']; For documentation on this error, please visit: https://www.selenium.dev/documentation/webdriver/troubleshooting/errors#no-such-element-exception\n",
      "Stacktrace:\n",
      "RemoteError@chrome://remote/content/shared/RemoteError.sys.mjs:8:8\n",
      "WebDriverError@chrome://remote/content/shared/webdriver/Errors.sys.mjs:192:5\n",
      "NoSuchElementError@chrome://remote/content/shared/webdriver/Errors.sys.mjs:510:5\n",
      "dom.find/</<@chrome://remote/content/shared/DOM.sys.mjs:136:16\n",
      "\n",
      "2024-10-23 06:43:18,197 - AInewsbot - INFO - get_files(WSJ Technology) - Saving WSJ Technology (10_23_2024 06_43_18 AM).html as utf-8\n",
      "2024-10-23 06:43:18,197 - AInewsbot - INFO - Quit webdriver\n",
      "2024-10-23 06:43:22,100 - AInewsbot - INFO - get_files(Feedly AI) - Loading additional infinite scroll items\n",
      "2024-10-23 06:43:22,850 - AInewsbot - INFO - Message: Unable to locate element: //meta[@http-equiv='Content-Type']; For documentation on this error, please visit: https://www.selenium.dev/documentation/webdriver/troubleshooting/errors#no-such-element-exception\n",
      "Stacktrace:\n",
      "RemoteError@chrome://remote/content/shared/RemoteError.sys.mjs:8:8\n",
      "WebDriverError@chrome://remote/content/shared/webdriver/Errors.sys.mjs:192:5\n",
      "NoSuchElementError@chrome://remote/content/shared/webdriver/Errors.sys.mjs:510:5\n",
      "dom.find/</<@chrome://remote/content/shared/DOM.sys.mjs:136:16\n",
      "\n",
      "2024-10-23 06:43:22,851 - AInewsbot - INFO - get_files(Washington Post Technology) - Saving Washington Post Technology (10_23_2024 06_43_22 AM).html as utf-8\n",
      "2024-10-23 06:43:22,862 - AInewsbot - INFO - Quit webdriver\n",
      "2024-10-23 06:43:32,107 - AInewsbot - INFO - get_files(Feedly AI) - Loading additional infinite scroll items\n",
      "2024-10-23 06:43:42,143 - AInewsbot - INFO - Message: Unable to locate element: //meta[@http-equiv='Content-Type']; For documentation on this error, please visit: https://www.selenium.dev/documentation/webdriver/troubleshooting/errors#no-such-element-exception\n",
      "Stacktrace:\n",
      "RemoteError@chrome://remote/content/shared/RemoteError.sys.mjs:8:8\n",
      "WebDriverError@chrome://remote/content/shared/webdriver/Errors.sys.mjs:192:5\n",
      "NoSuchElementError@chrome://remote/content/shared/webdriver/Errors.sys.mjs:510:5\n",
      "dom.find/</<@chrome://remote/content/shared/DOM.sys.mjs:136:16\n",
      "\n",
      "2024-10-23 06:43:42,144 - AInewsbot - INFO - get_files(Feedly AI) - Saving Feedly AI (10_23_2024 06_43_42 AM).html as utf-8\n",
      "2024-10-23 06:43:42,147 - AInewsbot - INFO - Quit webdriver\n",
      "2024-10-23 06:43:44,741 - AInewsbot - INFO - returned 17\n",
      "2024-10-23 06:43:44,743 - AInewsbot - INFO - Downloaded Bloomberg Tech to htmldata/Bloomberg Technology (10_23_2024 06_42_23 AM).html\n",
      "2024-10-23 06:43:44,743 - AInewsbot - INFO - Downloaded Google News to htmldata/Google News - Technology - Artificial intelligence (10_23_2024 06_42_44 AM).html\n",
      "2024-10-23 06:43:44,744 - AInewsbot - INFO - Downloaded Reddit to htmldata/Reddit multiple subreddits (10_23_2024 06_43_16 AM).html\n",
      "2024-10-23 06:43:44,745 - AInewsbot - INFO - Downloaded FT Tech to htmldata/FT Technology (10_23_2024 06_42_23 AM).html\n",
      "2024-10-23 06:43:44,747 - AInewsbot - INFO - Downloaded Hacker News to htmldata/Hacker News Page 1 (10_23_2024 06_42_34 AM).html\n",
      "2024-10-23 06:43:44,747 - AInewsbot - INFO - Downloaded HackerNoon to htmldata/HackerNoon (10_23_2024 06_42_45 AM).html\n",
      "2024-10-23 06:43:44,748 - AInewsbot - INFO - Downloaded Techmeme to htmldata/Techmeme (10_23_2024 06_42_56 AM).html\n",
      "2024-10-23 06:43:44,748 - AInewsbot - INFO - Downloaded The Verge to htmldata/The Verge AI (10_23_2024 06_43_07 AM).html\n",
      "2024-10-23 06:43:44,749 - AInewsbot - INFO - Downloaded WSJ Tech to htmldata/WSJ Technology (10_23_2024 06_43_18 AM).html\n",
      "2024-10-23 06:43:44,749 - AInewsbot - INFO - Downloaded Ars Technica to htmldata/Ars Technica (10_23_2024 06_42_25 AM).html\n",
      "2024-10-23 06:43:44,749 - AInewsbot - INFO - Downloaded Hacker News 2 to htmldata/Hacker News Page 2 (10_23_2024 06_42_35 AM).html\n",
      "2024-10-23 06:43:44,750 - AInewsbot - INFO - Downloaded NYT Tech to htmldata/New York Times Technology (10_23_2024 06_42_47 AM).html\n",
      "2024-10-23 06:43:44,750 - AInewsbot - INFO - Downloaded The Register to htmldata/The Register (10_23_2024 06_42_58 AM).html\n",
      "2024-10-23 06:43:44,751 - AInewsbot - INFO - Downloaded VentureBeat to htmldata/VentureBeat AI (10_23_2024 06_43_08 AM).html\n",
      "2024-10-23 06:43:44,751 - AInewsbot - INFO - Downloaded WaPo Tech to htmldata/Washington Post Technology (10_23_2024 06_43_22 AM).html\n",
      "2024-10-23 06:43:44,752 - AInewsbot - INFO - Downloaded Business Insider to htmldata/Business Insider Tech (10_23_2024 06_42_21 AM).html\n",
      "2024-10-23 06:43:44,753 - AInewsbot - INFO - Downloaded Feedly AI to htmldata/Feedly AI (10_23_2024 06_43_42 AM).html\n",
      "2024-10-23 06:43:44,753 - AInewsbot - INFO - Saved 17 HTML files\n",
      "2024-10-23 06:43:44,763 - AInewsbot - INFO - Parsing html files\n",
      "2024-10-23 06:43:44,763 - AInewsbot - INFO - Ars Technica -> htmldata/Ars Technica (10_23_2024 06_42_25 AM).html\n",
      "2024-10-23 06:43:44,839 - AInewsbot - INFO - parse_file - found 203 raw links\n",
      "2024-10-23 06:43:44,844 - AInewsbot - INFO - parse_file - found 32 filtered links\n",
      "2024-10-23 06:43:44,844 - AInewsbot - INFO - 32 links found\n",
      "2024-10-23 06:43:44,844 - AInewsbot - INFO - Bloomberg Tech -> htmldata/Bloomberg Technology (10_23_2024 06_42_23 AM).html\n",
      "2024-10-23 06:43:44,865 - AInewsbot - INFO - parse_file - found 202 raw links\n",
      "2024-10-23 06:43:44,868 - AInewsbot - INFO - parse_file - found 14 filtered links\n",
      "2024-10-23 06:43:44,868 - AInewsbot - INFO - 14 links found\n",
      "2024-10-23 06:43:44,868 - AInewsbot - INFO - Business Insider -> htmldata/Business Insider Tech (10_23_2024 06_42_21 AM).html\n",
      "2024-10-23 06:43:44,891 - AInewsbot - INFO - parse_file - found 309 raw links\n",
      "2024-10-23 06:43:44,895 - AInewsbot - INFO - parse_file - found 49 filtered links\n",
      "2024-10-23 06:43:44,896 - AInewsbot - INFO - 49 links found\n",
      "2024-10-23 06:43:44,896 - AInewsbot - INFO - FT Tech -> htmldata/FT Technology (10_23_2024 06_42_23 AM).html\n",
      "2024-10-23 06:43:44,925 - AInewsbot - INFO - parse_file - found 485 raw links\n",
      "2024-10-23 06:43:44,930 - AInewsbot - INFO - parse_file - found 118 filtered links\n",
      "2024-10-23 06:43:44,930 - AInewsbot - INFO - 118 links found\n",
      "2024-10-23 06:43:44,930 - AInewsbot - INFO - Feedly AI -> htmldata/Feedly AI (10_23_2024 06_43_42 AM).html\n",
      "2024-10-23 06:43:45,340 - AInewsbot - INFO - parse_file - found 265 raw links\n",
      "2024-10-23 06:43:45,343 - AInewsbot - INFO - parse_file - found 60 filtered links\n",
      "2024-10-23 06:43:45,343 - AInewsbot - INFO - 60 links found\n",
      "2024-10-23 06:43:45,343 - AInewsbot - INFO - Google News -> htmldata/Google News - Technology - Artificial intelligence (10_23_2024 06_42_44 AM).html\n"
     ]
    },
    {
     "name": "stderr",
     "output_type": "stream",
     "text": [
      "2024-10-23 06:43:45,383 - AInewsbot - INFO - parse_file - found 169 raw links\n",
      "2024-10-23 06:43:45,384 - AInewsbot - INFO - parse_file - found 68 filtered links\n",
      "2024-10-23 06:43:45,385 - AInewsbot - INFO - 68 links found\n",
      "2024-10-23 06:43:45,385 - AInewsbot - INFO - Hacker News -> htmldata/Hacker News Page 1 (10_23_2024 06_42_34 AM).html\n",
      "2024-10-23 06:43:45,395 - AInewsbot - INFO - parse_file - found 256 raw links\n",
      "2024-10-23 06:43:45,398 - AInewsbot - INFO - parse_file - found 29 filtered links\n",
      "2024-10-23 06:43:45,398 - AInewsbot - INFO - 29 links found\n",
      "2024-10-23 06:43:45,398 - AInewsbot - INFO - Hacker News 2 -> htmldata/Hacker News Page 2 (10_23_2024 06_42_35 AM).html\n",
      "2024-10-23 06:43:45,410 - AInewsbot - INFO - parse_file - found 261 raw links\n",
      "2024-10-23 06:43:45,412 - AInewsbot - INFO - parse_file - found 22 filtered links\n",
      "2024-10-23 06:43:45,412 - AInewsbot - INFO - 22 links found\n",
      "2024-10-23 06:43:45,413 - AInewsbot - INFO - HackerNoon -> htmldata/HackerNoon (10_23_2024 06_42_45 AM).html\n",
      "2024-10-23 06:43:45,464 - AInewsbot - INFO - parse_file - found 598 raw links\n",
      "2024-10-23 06:43:45,472 - AInewsbot - INFO - parse_file - found 103 filtered links\n",
      "2024-10-23 06:43:45,472 - AInewsbot - INFO - 103 links found\n",
      "2024-10-23 06:43:45,472 - AInewsbot - INFO - NYT Tech -> htmldata/New York Times Technology (10_23_2024 06_42_47 AM).html\n",
      "2024-10-23 06:43:45,483 - AInewsbot - INFO - parse_file - found 77 raw links\n",
      "2024-10-23 06:43:45,484 - AInewsbot - INFO - parse_file - found 18 filtered links\n",
      "2024-10-23 06:43:45,484 - AInewsbot - INFO - 18 links found\n",
      "2024-10-23 06:43:45,485 - AInewsbot - INFO - Reddit -> htmldata/Reddit multiple subreddits (10_23_2024 06_43_16 AM).html\n",
      "2024-10-23 06:43:45,501 - AInewsbot - INFO - parse_file - found 175 raw links\n",
      "2024-10-23 06:43:45,504 - AInewsbot - INFO - parse_file - found 104 filtered links\n",
      "2024-10-23 06:43:45,504 - AInewsbot - INFO - 104 links found\n",
      "2024-10-23 06:43:45,505 - AInewsbot - INFO - Techmeme -> htmldata/Techmeme (10_23_2024 06_42_56 AM).html\n",
      "2024-10-23 06:43:45,518 - AInewsbot - INFO - parse_file - found 286 raw links\n",
      "2024-10-23 06:43:45,522 - AInewsbot - INFO - parse_file - found 114 filtered links\n",
      "2024-10-23 06:43:45,522 - AInewsbot - INFO - 114 links found\n",
      "2024-10-23 06:43:45,522 - AInewsbot - INFO - The Register -> htmldata/The Register (10_23_2024 06_42_58 AM).html\n",
      "2024-10-23 06:43:45,543 - AInewsbot - INFO - parse_file - found 206 raw links\n",
      "2024-10-23 06:43:45,547 - AInewsbot - INFO - parse_file - found 110 filtered links\n",
      "2024-10-23 06:43:45,548 - AInewsbot - INFO - 110 links found\n",
      "2024-10-23 06:43:45,548 - AInewsbot - INFO - The Verge -> htmldata/The Verge AI (10_23_2024 06_43_07 AM).html\n",
      "2024-10-23 06:43:45,578 - AInewsbot - INFO - parse_file - found 299 raw links\n",
      "2024-10-23 06:43:45,581 - AInewsbot - INFO - parse_file - found 28 filtered links\n",
      "2024-10-23 06:43:45,581 - AInewsbot - INFO - 28 links found\n",
      "2024-10-23 06:43:45,581 - AInewsbot - INFO - VentureBeat -> htmldata/VentureBeat AI (10_23_2024 06_43_08 AM).html\n",
      "2024-10-23 06:43:45,599 - AInewsbot - INFO - parse_file - found 331 raw links\n",
      "2024-10-23 06:43:45,603 - AInewsbot - INFO - parse_file - found 43 filtered links\n",
      "2024-10-23 06:43:45,603 - AInewsbot - INFO - 43 links found\n",
      "2024-10-23 06:43:45,604 - AInewsbot - INFO - WSJ Tech -> htmldata/WSJ Technology (10_23_2024 06_43_18 AM).html\n",
      "2024-10-23 06:43:45,644 - AInewsbot - INFO - parse_file - found 655 raw links\n",
      "2024-10-23 06:43:45,652 - AInewsbot - INFO - parse_file - found 55 filtered links\n",
      "2024-10-23 06:43:45,653 - AInewsbot - INFO - 55 links found\n",
      "2024-10-23 06:43:45,653 - AInewsbot - INFO - WaPo Tech -> htmldata/Washington Post Technology (10_23_2024 06_43_22 AM).html\n",
      "2024-10-23 06:43:45,681 - AInewsbot - INFO - parse_file - found 232 raw links\n",
      "2024-10-23 06:43:45,684 - AInewsbot - INFO - parse_file - found 57 filtered links\n",
      "2024-10-23 06:43:45,684 - AInewsbot - INFO - 57 links found\n",
      "2024-10-23 06:43:45,684 - AInewsbot - INFO - Saved 1024 links\n",
      "2024-10-23 06:43:45,707 - AInewsbot - INFO - Fetching top 100 stories matching Artificial Intelligence from Newscatcher\n"
     ]
    },
    {
     "name": "stdout",
     "output_type": "stream",
     "text": [
      "18\n"
     ]
    },
    {
     "data": {
      "text/html": [
       "<div>\n",
       "<style scoped>\n",
       "    .dataframe tbody tr th:only-of-type {\n",
       "        vertical-align: middle;\n",
       "    }\n",
       "\n",
       "    .dataframe tbody tr th {\n",
       "        vertical-align: top;\n",
       "    }\n",
       "\n",
       "    .dataframe thead th {\n",
       "        text-align: right;\n",
       "    }\n",
       "</style>\n",
       "<table border=\"1\" class=\"dataframe\">\n",
       "  <thead>\n",
       "    <tr style=\"text-align: right;\">\n",
       "      <th></th>\n",
       "      <th>id</th>\n",
       "    </tr>\n",
       "    <tr>\n",
       "      <th>src</th>\n",
       "      <th></th>\n",
       "    </tr>\n",
       "  </thead>\n",
       "  <tbody>\n",
       "    <tr>\n",
       "      <th>Ars Technica</th>\n",
       "      <td>26</td>\n",
       "    </tr>\n",
       "    <tr>\n",
       "      <th>Bloomberg Tech</th>\n",
       "      <td>11</td>\n",
       "    </tr>\n",
       "    <tr>\n",
       "      <th>Business Insider</th>\n",
       "      <td>49</td>\n",
       "    </tr>\n",
       "    <tr>\n",
       "      <th>FT Tech</th>\n",
       "      <td>62</td>\n",
       "    </tr>\n",
       "    <tr>\n",
       "      <th>Feedly AI</th>\n",
       "      <td>57</td>\n",
       "    </tr>\n",
       "    <tr>\n",
       "      <th>Google News</th>\n",
       "      <td>65</td>\n",
       "    </tr>\n",
       "    <tr>\n",
       "      <th>Hacker News</th>\n",
       "      <td>28</td>\n",
       "    </tr>\n",
       "    <tr>\n",
       "      <th>Hacker News 2</th>\n",
       "      <td>22</td>\n",
       "    </tr>\n",
       "    <tr>\n",
       "      <th>HackerNoon</th>\n",
       "      <td>102</td>\n",
       "    </tr>\n",
       "    <tr>\n",
       "      <th>NYT Tech</th>\n",
       "      <td>17</td>\n",
       "    </tr>\n",
       "    <tr>\n",
       "      <th>Newscatcher</th>\n",
       "      <td>100</td>\n",
       "    </tr>\n",
       "    <tr>\n",
       "      <th>Reddit</th>\n",
       "      <td>85</td>\n",
       "    </tr>\n",
       "    <tr>\n",
       "      <th>Techmeme</th>\n",
       "      <td>105</td>\n",
       "    </tr>\n",
       "    <tr>\n",
       "      <th>The Register</th>\n",
       "      <td>107</td>\n",
       "    </tr>\n",
       "    <tr>\n",
       "      <th>The Verge</th>\n",
       "      <td>24</td>\n",
       "    </tr>\n",
       "    <tr>\n",
       "      <th>VentureBeat</th>\n",
       "      <td>39</td>\n",
       "    </tr>\n",
       "    <tr>\n",
       "      <th>WSJ Tech</th>\n",
       "      <td>26</td>\n",
       "    </tr>\n",
       "    <tr>\n",
       "      <th>WaPo Tech</th>\n",
       "      <td>38</td>\n",
       "    </tr>\n",
       "  </tbody>\n",
       "</table>\n",
       "</div>"
      ],
      "text/plain": [
       "                   id\n",
       "src                  \n",
       "Ars Technica       26\n",
       "Bloomberg Tech     11\n",
       "Business Insider   49\n",
       "FT Tech            62\n",
       "Feedly AI          57\n",
       "Google News        65\n",
       "Hacker News        28\n",
       "Hacker News 2      22\n",
       "HackerNoon        102\n",
       "NYT Tech           17\n",
       "Newscatcher       100\n",
       "Reddit             85\n",
       "Techmeme          105\n",
       "The Register      107\n",
       "The Verge          24\n",
       "VentureBeat        39\n",
       "WSJ Tech           26\n",
       "WaPo Tech          38"
      ]
     },
     "execution_count": 35,
     "metadata": {},
     "output_type": "execute_result"
    }
   ],
   "source": [
    "# download and extract, check all sources downloaded OK\n",
    "state = lg_agent.initialize(state)\n",
    "state = lg_agent.download_sources(state)\n",
    "state = lg_agent.extract_web_urls(state)\n",
    "state = lg_agent.extract_newscatcher_urls(state)\n",
    "# s/b 18 check all downloaded, if any got hit by a bot block then download manually\n",
    "print(len(pd.DataFrame(state[\"AIdf\"]).groupby(\"src\").count()[['id']]))\n",
    "pd.DataFrame(state[\"AIdf\"]).groupby(\"src\").count()[['id']]\n"
   ]
  },
  {
   "cell_type": "code",
   "execution_count": 36,
   "id": "580116ba",
   "metadata": {},
   "outputs": [
    {
     "name": "stderr",
     "output_type": "stream",
     "text": [
      "2024-10-23 06:43:46,265 - AInewsbot - INFO - Querying SQLite with where_clause: \n",
      "2024-10-23 06:43:46,931 - AInewsbot - INFO - URLs in orig_df: 963\n",
      "2024-10-23 06:43:46,933 - AInewsbot - INFO - Existing URLs in DB: 167607\n",
      "2024-10-23 06:43:46,969 - AInewsbot - INFO - New URLs in df filtered by URL: 244\n",
      "2024-10-23 06:43:47,062 - AInewsbot - INFO - Existing src+title: 14\n",
      "2024-10-23 06:43:47,062 - AInewsbot - INFO - New URLs in df filtered by src+title: 230\n",
      "2024-10-23 06:43:47,073 - AInewsbot - INFO - Found 223 unique new headlines\n",
      "2024-10-23 06:43:47,252 - AInewsbot - INFO - Applying prompt to 5 pages using gpt-4o-mini\n",
      "2024-10-23 06:43:47,253 - AInewsbot - INFO - sent 50 items \n",
      "2024-10-23 06:43:47,254 - AInewsbot - INFO - sent 50 items \n",
      "2024-10-23 06:43:47,254 - AInewsbot - INFO - sent 50 items \n",
      "2024-10-23 06:43:47,255 - AInewsbot - INFO - sent 50 items \n",
      "2024-10-23 06:43:47,255 - AInewsbot - INFO - sent 23 items \n",
      "2024-10-23 06:43:49,164 - AInewsbot - INFO - got dict with 23 items \n",
      "2024-10-23 06:43:50,551 - AInewsbot - INFO - got dict with 50 items \n",
      "2024-10-23 06:43:50,637 - AInewsbot - INFO - got dict with 50 items \n",
      "2024-10-23 06:43:50,654 - AInewsbot - INFO - got dict with 50 items \n",
      "2024-10-23 06:43:50,803 - AInewsbot - INFO - got dict with 50 items \n",
      "2024-10-23 06:43:50,806 - AInewsbot - INFO - Processed 223 responses.\n",
      "2024-10-23 06:43:50,810 - AInewsbot - INFO - Index(['id', 'src', 'title', 'url', 'isAI'], dtype='object')\n",
      "2024-10-23 06:43:50,814 - AInewsbot - INFO - Inserting 223 URLs into articles.db\n",
      "2024-10-23 06:43:50,929 - AInewsbot - INFO - Found 86 AI headlines\n",
      "2024-10-23 06:43:50,932 - AInewsbot - INFO - No missing site names\n"
     ]
    },
    {
     "data": {
      "text/html": [
       "<div>\n",
       "<style scoped>\n",
       "    .dataframe tbody tr th:only-of-type {\n",
       "        vertical-align: middle;\n",
       "    }\n",
       "\n",
       "    .dataframe tbody tr th {\n",
       "        vertical-align: top;\n",
       "    }\n",
       "\n",
       "    .dataframe thead th {\n",
       "        text-align: right;\n",
       "    }\n",
       "</style>\n",
       "<table border=\"1\" class=\"dataframe\">\n",
       "  <thead>\n",
       "    <tr style=\"text-align: right;\">\n",
       "      <th></th>\n",
       "      <th>id</th>\n",
       "    </tr>\n",
       "    <tr>\n",
       "      <th>src</th>\n",
       "      <th></th>\n",
       "    </tr>\n",
       "  </thead>\n",
       "  <tbody>\n",
       "    <tr>\n",
       "      <th>Business Insider</th>\n",
       "      <td>3</td>\n",
       "    </tr>\n",
       "    <tr>\n",
       "      <th>Feedly AI</th>\n",
       "      <td>37</td>\n",
       "    </tr>\n",
       "    <tr>\n",
       "      <th>Google News</th>\n",
       "      <td>15</td>\n",
       "    </tr>\n",
       "    <tr>\n",
       "      <th>HackerNoon</th>\n",
       "      <td>4</td>\n",
       "    </tr>\n",
       "    <tr>\n",
       "      <th>NYT Tech</th>\n",
       "      <td>1</td>\n",
       "    </tr>\n",
       "    <tr>\n",
       "      <th>Newscatcher</th>\n",
       "      <td>17</td>\n",
       "    </tr>\n",
       "    <tr>\n",
       "      <th>Techmeme</th>\n",
       "      <td>1</td>\n",
       "    </tr>\n",
       "    <tr>\n",
       "      <th>The Register</th>\n",
       "      <td>2</td>\n",
       "    </tr>\n",
       "    <tr>\n",
       "      <th>The Verge</th>\n",
       "      <td>3</td>\n",
       "    </tr>\n",
       "    <tr>\n",
       "      <th>WSJ Tech</th>\n",
       "      <td>2</td>\n",
       "    </tr>\n",
       "    <tr>\n",
       "      <th>WaPo Tech</th>\n",
       "      <td>1</td>\n",
       "    </tr>\n",
       "  </tbody>\n",
       "</table>\n",
       "</div>"
      ],
      "text/plain": [
       "                  id\n",
       "src                 \n",
       "Business Insider   3\n",
       "Feedly AI         37\n",
       "Google News       15\n",
       "HackerNoon         4\n",
       "NYT Tech           1\n",
       "Newscatcher       17\n",
       "Techmeme           1\n",
       "The Register       2\n",
       "The Verge          3\n",
       "WSJ Tech           2\n",
       "WaPo Tech          1"
      ]
     },
     "execution_count": 36,
     "metadata": {},
     "output_type": "execute_result"
    }
   ],
   "source": [
    "state = lg_agent.filter_urls(state)\n",
    "pd.DataFrame(state[\"AIdf\"]).groupby(\"src\").count()[['id']]\n"
   ]
  },
  {
   "cell_type": "code",
   "execution_count": 37,
   "id": "5978a462",
   "metadata": {},
   "outputs": [
    {
     "data": {
      "text/markdown": [
       "[0. 'New AI update to lock phones will deter thieves' - Feedly AI](https://www.bbc.com/news/articles/c1484r0r3m6o)"
      ],
      "text/plain": [
       "<IPython.core.display.Markdown object>"
      ]
     },
     "metadata": {},
     "output_type": "display_data"
    },
    {
     "data": {
      "text/markdown": [
       "[1. ABBA, Radiohead and The Cure musicians sign AI protest letter against 'unlicensed use' of works - Newscatcher](https://www.washingtonpost.com/business/2024/10/22/generative-ai-abba-radiohead-thom-yorke/762d15c0-90b9-11ef-b5b1-75167840d9f3_story.html)"
      ],
      "text/plain": [
       "<IPython.core.display.Markdown object>"
      ]
     },
     "metadata": {},
     "output_type": "display_data"
    },
    {
     "data": {
      "text/markdown": [
       "[2. ABBA, Radiohead and The Cure musicians sign AI protest letter against unlicensed use' of works - Newscatcher](https://thehill.com/homenews/ap/ap-business/ap-abba-radiohead-and-the-cure-musicians-sign-ai-protest-letter-against-unlicensed-use-of-works-2)"
      ],
      "text/plain": [
       "<IPython.core.display.Markdown object>"
      ]
     },
     "metadata": {},
     "output_type": "display_data"
    },
    {
     "data": {
      "text/markdown": [
       "[3. AI Is Making It Easier for Scammers to Steal Homes From Their Owners - Google News](https://news.google.com/read/CBMimAFBVV95cUxPYjBjY3dITXdtWDRaU29Xemc2aTktRHRJMnlDbm96d0JvVzVRQjh4U1ZrZjB2R2ZwbkI0OFBmMHlMenduZkVKWHZiRUF6UUNHSF9DU2dQTGpReDNfX2FiVG02bnh0aGVDemVrMTNmY0xJZ21VU1plOFl3dW8ybHZRdWxtQUdOT19lWXAwd295SjlTWFY5c1pZcw)"
      ],
      "text/plain": [
       "<IPython.core.display.Markdown object>"
      ]
     },
     "metadata": {},
     "output_type": "display_data"
    },
    {
     "data": {
      "text/markdown": [
       "[4. AI at work: Will it contribute to employee burnout? - Feedly AI](https://www.bbc.co.uk/news/articles/c93pz1dz2kxo)"
      ],
      "text/plain": [
       "<IPython.core.display.Markdown object>"
      ]
     },
     "metadata": {},
     "output_type": "display_data"
    },
    {
     "data": {
      "text/markdown": [
       "[5. AI firms and civil society groups plead for passage of federal AI law ASAP - Feedly AI](https://go.theregister.com/feed/www.theregister.com/2024/10/23/ai_firms_and_civil_society/)"
      ],
      "text/plain": [
       "<IPython.core.display.Markdown object>"
      ]
     },
     "metadata": {},
     "output_type": "display_data"
    },
    {
     "data": {
      "text/markdown": [
       "[6. AI firms and civil society groups plead for passage of federal AI law ASAPCongress urged to act before year's end to support US competitivenessAI + ML4 hrs|3 - The Register](https://www.theregister.com/2024/10/23/ai_firms_and_civil_society/)"
      ],
      "text/plain": [
       "<IPython.core.display.Markdown object>"
      ]
     },
     "metadata": {},
     "output_type": "display_data"
    },
    {
     "data": {
      "text/markdown": [
       "[7. AI firms need to address security, open-source concerns: G42 exec - Newscatcher](https://www.yahoo.com/news/ai-firms-address-security-open-224302375.html)"
      ],
      "text/plain": [
       "<IPython.core.display.Markdown object>"
      ]
     },
     "metadata": {},
     "output_type": "display_data"
    },
    {
     "data": {
      "text/markdown": [
       "[8. AI sparks backlash from ABBA, Radiohead, and The Curethousands of artists sign letter protesting the use of their work to train robots - Google News](https://news.google.com/read/CBMioAFBVV95cUxOUFVnV3E3bTlQLVB5Y1VSekREaDNHU0FlcGxDcUV5QUhGRmpUX1psZnRUU2ZpU2xtVXkxYTVlS1F1U3I3NGVWT1hNU18zd1FEaFp1bm9KNWlXWFdlMDBfc0t5MHktWTZYaUJiVk1JT3BsYVJOMW1TNDdPRE5ZZGZTUlpZLXBjbVNUd0NFaWxiamRjdWlDOFFZVTdTMG1VUjJa)"
      ],
      "text/plain": [
       "<IPython.core.display.Markdown object>"
      ]
     },
     "metadata": {},
     "output_type": "display_data"
    },
    {
     "data": {
      "text/markdown": [
       "[9. A leaked internal report claims Apple Intelligence could be two years behind OpenAI's ChatGPT but its hard to count the iPhone maker out of the AI race: By 2026, nearly every Apple device with a screen will run it\" - Feedly AI](https://www.windowscentral.com/software-apps/apple-intelligence-could-already-be-behind-chatgpt)"
      ],
      "text/plain": [
       "<IPython.core.display.Markdown object>"
      ]
     },
     "metadata": {},
     "output_type": "display_data"
    },
    {
     "data": {
      "text/markdown": [
       "[10. Amazon's AI data center dream runs into the reality of 'zombie' facilities, higher costs, and labor shortages - Business Insider](https://www.businessinsider.com/amazon-data-centers-delays-costs-power-labor-shortages-aws-ai-2024-10)"
      ],
      "text/plain": [
       "<IPython.core.display.Markdown object>"
      ]
     },
     "metadata": {},
     "output_type": "display_data"
    },
    {
     "data": {
      "text/markdown": [
       "[11. Amazon-backed Anthropic debuts AI agents that can do complex tasks, racing against OpenAI, Microsoft and Google - Feedly AI](https://www.cnbc.com/2024/10/22/anthropic-announces-ai-agents-for-complex-tasks-racing-openai.html)"
      ],
      "text/plain": [
       "<IPython.core.display.Markdown object>"
      ]
     },
     "metadata": {},
     "output_type": "display_data"
    },
    {
     "data": {
      "text/markdown": [
       "[12. An interview with Craig Federighi on the launch of Apple Intelligence features like notification summaries in iOS 18.1, Siri, Apple's AI strategy, and more - Techmeme](https://www.wsj.com/tech/personal-tech/apple-intelligence-3833c320)"
      ],
      "text/plain": [
       "<IPython.core.display.Markdown object>"
      ]
     },
     "metadata": {},
     "output_type": "display_data"
    },
    {
     "data": {
      "text/markdown": [
       "[13. Anthropic publicly releases AI tool that can take over the users mouse cursor - Google News](https://news.google.com/read/CBMiswFBVV95cUxPRkJrVGhSWDZPV0psaEQtNTJndFczQnJzOWR6TGNSSFdRWmR1U3Nfd0ZSd3pGTHoxOHVldVdLSmVnekU0bUw1VEVBTkJMWUY0eHRiN29ldUVYUHNHS2JHTU5CTWxPeHhYcjRzbEtCNHZteHJRS1lwZHROZTNYZ3ktRFpuTnd2V2Y0MU1TQkU1WThnRFY4cThYSnd4R3lUanh5TENaTE9VdWFiT0VTTWc4eFExMA)"
      ],
      "text/plain": [
       "<IPython.core.display.Markdown object>"
      ]
     },
     "metadata": {},
     "output_type": "display_data"
    },
    {
     "data": {
      "text/markdown": [
       "[14. Anthropics latest AI update can use a computer on its own - The Verge](https://www.theverge.com/2024/10/22/24276822/anthopic-claude-3-5-sonnet-computer-use-ai)"
      ],
      "text/plain": [
       "<IPython.core.display.Markdown object>"
      ]
     },
     "metadata": {},
     "output_type": "display_data"
    },
    {
     "data": {
      "text/markdown": [
       "[15. Anthropics new AI can use computers like a human, redefining automation for enterprises - Google News](https://news.google.com/read/CBMiswFBVV95cUxPR3VUbWZYc0NqREdvc1lRQzZLd29NcjhueHVBRjNSSGRwZlQ0eE9ydnRveElSWVhqakJzbEI4bndmc2ZTNTBHVy1qUDZ2VDVpUUJLQjR0MnAyRlJQVk5zd3dsVDFhMDFxZ01yQTYzaUZWQTlab1lFc2F3OUtsWmZKOEVlX3M1Z2IxT1Z5bllzSUdqeXBTOGNOVjhBS3FDM04tdWlIcF9xdGlMNXJqa0lRYVJFaw)"
      ],
      "text/plain": [
       "<IPython.core.display.Markdown object>"
      ]
     },
     "metadata": {},
     "output_type": "display_data"
    },
    {
     "data": {
      "text/markdown": [
       "[16. Apple's Software Chief Explains AI Delays, Future of Siri and More - WSJ Tech](https://www.wsj.com/video/series/joanna-stern-personal-technology/apple-software-chief-explains-ai-delays-future-of-siri-and-more/7F3883B2-0404-4618-97EE-5ABA1AC1602C)"
      ],
      "text/plain": [
       "<IPython.core.display.Markdown object>"
      ]
     },
     "metadata": {},
     "output_type": "display_data"
    },
    {
     "data": {
      "text/markdown": [
       "[17. Apple's Tim Cook meets China regulator in Beijing but no final word on Apple Intelligence - Newscatcher](https://www.scmp.com/news/article/3283475/apples-tim-cook-meets-china-regulator-beijing-no-final-word-apple-intelligence)"
      ],
      "text/plain": [
       "<IPython.core.display.Markdown object>"
      ]
     },
     "metadata": {},
     "output_type": "display_data"
    },
    {
     "data": {
      "text/markdown": [
       "[18. Apple's Tim Cook meets Chinese regulators but no final word on AI roll-out - Newscatcher](https://scmp.com/news/article/3283475/apples-tim-cook-meets-china-regulator-beijing-no-final-word-apple-intelligence)"
      ],
      "text/plain": [
       "<IPython.core.display.Markdown object>"
      ]
     },
     "metadata": {},
     "output_type": "display_data"
    },
    {
     "data": {
      "text/markdown": [
       "[19. Apple Intelligence Isnt Very Smart Yetand Apples OK With That - Google News](https://news.google.com/read/CBMidEFVX3lxTFBQSXpoVTRBOG9iNVd5d0lKb0lGZ1RwQkpkY0NtNDEwXzhvdW56dWR6TDBRT3QyVmdSd3hhUzNKYndOMm1vUkhtYUVEMV9NNkE0aUZhT3NNbmpHWTA3bGdzSEp6UlpJYWROY0RiWlhIdFllZVVy)"
      ],
      "text/plain": [
       "<IPython.core.display.Markdown object>"
      ]
     },
     "metadata": {},
     "output_type": "display_data"
    },
    {
     "data": {
      "text/markdown": [
       "[20. Apple is concerned about AI turning real photos into fantasy - The Verge](https://www.theverge.com/2024/10/23/24277489/apple-intelligence-iphone-ai-photo-editing-craig-federighi-interview)"
      ],
      "text/plain": [
       "<IPython.core.display.Markdown object>"
      ]
     },
     "metadata": {},
     "output_type": "display_data"
    },
    {
     "data": {
      "text/markdown": [
       "[21. Apples Craig Federighi Explains Apple Intelligence Delays, Siris Future and More | WSJ - Google News](https://news.google.com/read/CCAiC2ZyOEFMY0VpWUFrmAEB)"
      ],
      "text/plain": [
       "<IPython.core.display.Markdown object>"
      ]
     },
     "metadata": {},
     "output_type": "display_data"
    },
    {
     "data": {
      "text/markdown": [
       "[22. Applying AI to satellite manufacturing - Google News](https://news.google.com/read/CBMibkFVX3lxTE5sSnh5WEhVNVRpX3c1Q3lDdGR4cERsT2ZHOWZUVmlhUmduUm1nRFFadUs2bHpKYVBTbnlseWFsU2JYQXN5ZzdZZThpdXVsVkRKaGFUVlUyOWgtM3FGaW83TWhHR18wS3doMG4zVGRB)"
      ],
      "text/plain": [
       "<IPython.core.display.Markdown object>"
      ]
     },
     "metadata": {},
     "output_type": "display_data"
    },
    {
     "data": {
      "text/markdown": [
       "[23. Aptos Orbital Announces Official Launch of Powerful AI Satellite Platform - Newscatcher](https://finance.yahoo.com/news/aptos-orbital-announces-official-launch-130100791.html)"
      ],
      "text/plain": [
       "<IPython.core.display.Markdown object>"
      ]
     },
     "metadata": {},
     "output_type": "display_data"
    },
    {
     "data": {
      "text/markdown": [
       "[24. Artificial Minds, Human Consequences: Explaining AIs Impact on Our Education, Cognition, and More - HackerNoon](https://hackernoon.com/artificial-minds-human-consequences-explaining-ais-impact-on-our-education-cognition-and-more)"
      ],
      "text/plain": [
       "<IPython.core.display.Markdown object>"
      ]
     },
     "metadata": {},
     "output_type": "display_data"
    },
    {
     "data": {
      "text/markdown": [
       "[25. As AI Hits E-Discovery, Lawyers Go From Big Law to Boutique - Feedly AI](https://news.bloomberglaw.com/us-law-week/as-ai-hits-e-discovery-lawyers-go-from-big-law-to-boutique)"
      ],
      "text/plain": [
       "<IPython.core.display.Markdown object>"
      ]
     },
     "metadata": {},
     "output_type": "display_data"
    },
    {
     "data": {
      "text/markdown": [
       "[26. BlackRock Expands AI and Tech Investment Opportunities with New Active ETFs - Newscatcher](https://uk.finance.yahoo.com/news/blackrock-expands-ai-tech-investment-213831075.html)"
      ],
      "text/plain": [
       "<IPython.core.display.Markdown object>"
      ]
     },
     "metadata": {},
     "output_type": "display_data"
    },
    {
     "data": {
      "text/markdown": [
       "[27. Can A.I. Be Blamed for a Teens Suicide? - NYT Tech](https://www.nytimes.com/2024/10/23/technology/characterai-lawsuit-teen-suicide.html)"
      ],
      "text/plain": [
       "<IPython.core.display.Markdown object>"
      ]
     },
     "metadata": {},
     "output_type": "display_data"
    },
    {
     "data": {
      "text/markdown": [
       "[28. Character.ai Faces Lawsuit After Teens Suicide - Google News](https://news.google.com/read/CBMiiwFBVV95cUxQbGtQZjJ3TWlnS1dvZHhjcWtVZENCZUl0Z0QtdTE0NG5yeTB5cjU4UFVLTjVXQUpMNFQxcW51OVAxc3ItWGIzZTNQbGNxTHhwNW11RDRnUkRITXdsQnNnSGF5MTNyOG5ublJrcnBTZGFuWmZBdTY4eUR4MlI1aG03N3VQTTZGVHpUUlBj)"
      ],
      "text/plain": [
       "<IPython.core.display.Markdown object>"
      ]
     },
     "metadata": {},
     "output_type": "display_data"
    },
    {
     "data": {
      "text/markdown": [
       "[29. Craig Federighi Explains Phased Release of Apple Intelligence Features - Feedly AI](https://www.macrumors.com/2024/10/23/craig-federighi-phased-release-apple-intelligence/)"
      ],
      "text/plain": [
       "<IPython.core.display.Markdown object>"
      ]
     },
     "metadata": {},
     "output_type": "display_data"
    },
    {
     "data": {
      "text/markdown": [
       "[30. Craig Federighi says Siri won't become sentient, but it'll get better - Newscatcher](https://appleinsider.com/articles/24/10/23/craig-federighi-says-siri-wont-become-sentient-but-itll-get-better)"
      ],
      "text/plain": [
       "<IPython.core.display.Markdown object>"
      ]
     },
     "metadata": {},
     "output_type": "display_data"
    },
    {
     "data": {
      "text/markdown": [
       "[31. Dawn of the Agent: New Claude AI can take over your computer - Feedly AI](https://newatlas.com/ai-humanoids/anthropic-claude-computer-use-agent-ai/)"
      ],
      "text/plain": [
       "<IPython.core.display.Markdown object>"
      ]
     },
     "metadata": {},
     "output_type": "display_data"
    },
    {
     "data": {
      "text/markdown": [
       "[32. Discrete Diffusion with Planned Denoising (DDPD): A Novel Machine Learning Framework that Decomposes the Discrete Generation Process into Planning and Denoising - Feedly AI](https://www.marktechpost.com/2024/10/22/discrete-diffusion-with-planned-denoising-ddpd-a-novel-machine-learning-framework-that-decomposes-the-discrete-generation-process-into-planning-and-denoising/)"
      ],
      "text/plain": [
       "<IPython.core.display.Markdown object>"
      ]
     },
     "metadata": {},
     "output_type": "display_data"
    },
    {
     "data": {
      "text/markdown": [
       "[33. Dont be fooled by AI companies ethics washing - Feedly AI](https://www.fastcompany.com/91214394/dont-be-fooled-by-ai-companies-ethics-washing)"
      ],
      "text/plain": [
       "<IPython.core.display.Markdown object>"
      ]
     },
     "metadata": {},
     "output_type": "display_data"
    },
    {
     "data": {
      "text/markdown": [
       "[34. Exclusive: Legal tech startup Genie AI just raised $17.8 million from Google and Khosla Ventures using this 13-slide deck - Business Insider](https://www.businessinsider.com/genie-ai-funding-khosla-ventures-google-pitch-deck-2024-10)"
      ],
      "text/plain": [
       "<IPython.core.display.Markdown object>"
      ]
     },
     "metadata": {},
     "output_type": "display_data"
    },
    {
     "data": {
      "text/markdown": [
       "[35. Exploring the mechanism of sustained consumer trust in AI chatbots after service failures: a perspective based on attribution and CASA theories - Feedly AI](https://www.nature.com/articles/s41599-024-03879-5)"
      ],
      "text/plain": [
       "<IPython.core.display.Markdown object>"
      ]
     },
     "metadata": {},
     "output_type": "display_data"
    },
    {
     "data": {
      "text/markdown": [
       "[36. Foreign adversaries using artificial intelligence to meddle in U.S. election, FBI says - Newscatcher](https://www.yahoo.com/news/foreign-adversaries-using-artificial-intelligence-010043303.html)"
      ],
      "text/plain": [
       "<IPython.core.display.Markdown object>"
      ]
     },
     "metadata": {},
     "output_type": "display_data"
    },
    {
     "data": {
      "text/markdown": [
       "[37. Fujitsu delivers GPU optimization tech it touts as a server-saverMiddleware aimed at softening the shortage of AI acceleratorsAI + ML9 hrs| - The Register](https://www.theregister.com/2024/10/23/fujitsu_gpu_middleware/)"
      ],
      "text/plain": [
       "<IPython.core.display.Markdown object>"
      ]
     },
     "metadata": {},
     "output_type": "display_data"
    },
    {
     "data": {
      "text/markdown": [
       "[38. Full Interview: Apples Software Chief Craig Federighi on Future of iPhone AI - WSJ Tech](https://www.wsj.com/video/series/joanna-stern-personal-technology/full-interview-apples-software-chief-craig-federighi-on-future-of-iphone-ai/756B8727-5FFB-422C-AE63-C4600272BD94)"
      ],
      "text/plain": [
       "<IPython.core.display.Markdown object>"
      ]
     },
     "metadata": {},
     "output_type": "display_data"
    },
    {
     "data": {
      "text/markdown": [
       "[39. Generative Reward Models (GenRM): A Hybrid Approach to Reinforcement Learning from Human and AI Feedback, Solving Task Generalization and Feedback Collection Challenges - Feedly AI](https://www.marktechpost.com/2024/10/22/generative-reward-models-genrm-a-hybrid-approach-to-reinforcement-learning-from-human-and-ai-feedback-solving-task-generalization-and-feedback-collection-challenges/)"
      ],
      "text/plain": [
       "<IPython.core.display.Markdown object>"
      ]
     },
     "metadata": {},
     "output_type": "display_data"
    },
    {
     "data": {
      "text/markdown": [
       "[40. Germany races to catch up inartificial intelligence - Feedly AI](https://dw.com/p/4m7Iv)"
      ],
      "text/plain": [
       "<IPython.core.display.Markdown object>"
      ]
     },
     "metadata": {},
     "output_type": "display_data"
    },
    {
     "data": {
      "text/markdown": [
       "[41. Google Chat getting AI-powered summaries via Gemini integration - Newscatcher](https://www.androidheadlines.com/2024/10/google-chat-getting-ai-powered-summaries-via-gemini-integration.html)"
      ],
      "text/plain": [
       "<IPython.core.display.Markdown object>"
      ]
     },
     "metadata": {},
     "output_type": "display_data"
    },
    {
     "data": {
      "text/markdown": [
       "[42. HR Leaders Say AI Is The Future  But Someone Forgot To Tell The Employees - Feedly AI](https://allwork.space/2024/10/hr-leaders-say-ai-is-the-future-but-someone-forgot-to-tell-the-employees/)"
      ],
      "text/plain": [
       "<IPython.core.display.Markdown object>"
      ]
     },
     "metadata": {},
     "output_type": "display_data"
    },
    {
     "data": {
      "text/markdown": [
       "[43. Heres how Philips Hue could work AI into its lighting scenes - Feedly AI](https://www.techhive.com/article/2495998/heres-how-philips-hue-could-work-ai-into-its-lighting-scenes.html)"
      ],
      "text/plain": [
       "<IPython.core.display.Markdown object>"
      ]
     },
     "metadata": {},
     "output_type": "display_data"
    },
    {
     "data": {
      "text/markdown": [
       "[44. How advances in AI and autonomous systems, new tech, and lower costs are shifting global wars towards \"precise mass\", or the mass deployment of uncrewed systems (Michael C. Horowitz/Foreign Affairs) - Feedly AI](https://www.foreignaffairs.com/world/battles-precise-mass-technology-war-horowitz)"
      ],
      "text/plain": [
       "<IPython.core.display.Markdown object>"
      ]
     },
     "metadata": {},
     "output_type": "display_data"
    },
    {
     "data": {
      "text/markdown": [
       "[45. How a worm could save humanity from bad AI - Feedly AI](https://www.ted.com/talks/ramin_hasani_how_a_worm_could_save_humanity_from_bad_ai)"
      ],
      "text/plain": [
       "<IPython.core.display.Markdown object>"
      ]
     },
     "metadata": {},
     "output_type": "display_data"
    },
    {
     "data": {
      "text/markdown": [
       "[46. Huawei's latest AI processors were allegedly made by TSMC: Report - Feedly AI](https://www.tomshardware.com/tech-industry/artificial-intelligence/huaweis-latest-ai-processors-were-allegedly-made-by-tsmc-report)"
      ],
      "text/plain": [
       "<IPython.core.display.Markdown object>"
      ]
     },
     "metadata": {},
     "output_type": "display_data"
    },
    {
     "data": {
      "text/markdown": [
       "[47. IBM Launches Guardium Data Security Center to Address AI, Quantum, and Hybrid Cloud Risks - Newscatcher](https://ca.finance.yahoo.com/news/ibm-launches-guardium-data-security-205525234.html)"
      ],
      "text/plain": [
       "<IPython.core.display.Markdown object>"
      ]
     },
     "metadata": {},
     "output_type": "display_data"
    },
    {
     "data": {
      "text/markdown": [
       "[48. IBM just launched powerful new open source AI models  heres what you need to know - Feedly AI](https://www.itpro.com/technology/artificial-intelligence/ibm-just-launched-powerful-new-open-source-ai-models-heres-what-you-need-to-know)"
      ],
      "text/plain": [
       "<IPython.core.display.Markdown object>"
      ]
     },
     "metadata": {},
     "output_type": "display_data"
    },
    {
     "data": {
      "text/markdown": [
       "[49. It's Now Illegal to Post Fake AI-Generated Product Reviews by People Who Don't Exist - Feedly AI](https://futurism.com/the-byte/illegal-fake-reviews-ai)"
      ],
      "text/plain": [
       "<IPython.core.display.Markdown object>"
      ]
     },
     "metadata": {},
     "output_type": "display_data"
    },
    {
     "data": {
      "text/markdown": [
       "[50. Joseph Gordon-Levitt criticizes AI, calling Hollywood a \"canary in the coal mine\" for other industries, and says studios \"own the IP and I don't own any of it\" (Erich Schwartzel/Wall Street Journal) - Feedly AI](https://www.wsj.com/tech/ai/meet-hollywoods-ai-doomsayer-joseph-gordon-levitt-27b82d69)"
      ],
      "text/plain": [
       "<IPython.core.display.Markdown object>"
      ]
     },
     "metadata": {},
     "output_type": "display_data"
    },
    {
     "data": {
      "text/markdown": [
       "[51. Kevin Bacon, Kate McKinnon, and other creatives warn of unjust AI threat - The Verge](https://www.theverge.com/2024/10/22/24276994/ai-statement-training-data-copyright-threat-actors-authors-musicians-kevin-bacon-kate-mckinnon)"
      ],
      "text/plain": [
       "<IPython.core.display.Markdown object>"
      ]
     },
     "metadata": {},
     "output_type": "display_data"
    },
    {
     "data": {
      "text/markdown": [
       "[52. Key Roles in a Fraud Prediction project with Machine Learning - Feedly AI](https://towardsdatascience.com/key-roles-in-a-fraud-prediction-project-with-machine-learning-565a01c98274)"
      ],
      "text/plain": [
       "<IPython.core.display.Markdown object>"
      ]
     },
     "metadata": {},
     "output_type": "display_data"
    },
    {
     "data": {
      "text/markdown": [
       "[53. ML Metamorphosis: Chaining ML Models for Optimized Results - Feedly AI](https://towardsdatascience.com/ml-metamorphosis-chaining-ml-models-for-optimized-results-d89d952627a9)"
      ],
      "text/plain": [
       "<IPython.core.display.Markdown object>"
      ]
     },
     "metadata": {},
     "output_type": "display_data"
    },
    {
     "data": {
      "text/markdown": [
       "[54. Meet Quatfit, The AI Innovator in HackerNoons Startups of the Year Awards! - HackerNoon](https://hackernoon.com/meet-quatfit-the-ai-innovator-in-hackernoons-startups-of-the-year-awards)"
      ],
      "text/plain": [
       "<IPython.core.display.Markdown object>"
      ]
     },
     "metadata": {},
     "output_type": "display_data"
    },
    {
     "data": {
      "text/markdown": [
       "[55. Meta AI tackles maths problems that stumped humans for over a century - Google News](https://news.google.com/read/CBMitgFBVV95cUxPQV9iTERJLVBzelpVYnhyM0JPVnVVV1RBaVhxUTdRbGhSMzNnMHpURVZNOE1rdXZ2d3pFNXlLY1A3U0dlZ1ZpemgxclcwNVdiT2pNWldOT1hFRHZ6VGdqZTJxbkRHM3F5dE56VkpuZzNqRHdpZTdZX2pjcml6UUVWWEdnZGc4aW5IWnd0d09tRlJxWU0xRFRwV3ZhcE1uczlwWTBBSUI3VXFEaHVCZU9TX1B4bU9hQQ)"
      ],
      "text/plain": [
       "<IPython.core.display.Markdown object>"
      ]
     },
     "metadata": {},
     "output_type": "display_data"
    },
    {
     "data": {
      "text/markdown": [
       "[56. Microsoft lets you create AI agents' using upgraded Copilot Studio - Newscatcher](https://www.androidheadlines.com/2024/10/microsoft-lets-you-create-ai-agents-using-upgraded-copilot-studio.html)"
      ],
      "text/plain": [
       "<IPython.core.display.Markdown object>"
      ]
     },
     "metadata": {},
     "output_type": "display_data"
    },
    {
     "data": {
      "text/markdown": [
       "[57. Microsoft ups finance automation game with AI agents - Feedly AI](https://www.cfodive.com/news/microsoft-expands-finance-automation-portfolio-ai-agents/730492/)"
      ],
      "text/plain": [
       "<IPython.core.display.Markdown object>"
      ]
     },
     "metadata": {},
     "output_type": "display_data"
    },
    {
     "data": {
      "text/markdown": [
       "[58. Minerals Technologies Announces Deployment of Artificial Intelligence Technology for Mining - Newscatcher](https://finance.yahoo.com/news/minerals-technologies-announces-deployment-artificial-210100061.html)"
      ],
      "text/plain": [
       "<IPython.core.display.Markdown object>"
      ]
     },
     "metadata": {},
     "output_type": "display_data"
    },
    {
     "data": {
      "text/markdown": [
       "[59. Moonshine: A Fast, Accurate, and Lightweight Speech-to-Text Models for Transcription and Voice Command Processing on Edge Devices - Feedly AI](https://www.marktechpost.com/2024/10/23/moonshine-a-fast-accurate-and-lightweight-speech-to-text-models-for-transcription-and-voice-command-processing-on-edge-devices/)"
      ],
      "text/plain": [
       "<IPython.core.display.Markdown object>"
      ]
     },
     "metadata": {},
     "output_type": "display_data"
    },
    {
     "data": {
      "text/markdown": [
       "[60. More than 10,500 actors, musicians and authors protest techs AI data grab - Google News](https://news.google.com/read/CBMijAFBVV95cUxPZlRUeGdSWXFpbVl5bldJTWZUV3FFbFdQRDRDenFWTHpZV1lFemJla0xnQUlhYWFzUDd4UksyYm5DRm9JWVFXc01mQmx0MjJqY08teHBZQlQzSXdXd282TS1QcHBaMkVRQ01vNHF0eWRaLVNHdFVJTGJ5NHRpWUM0WlN1YlJJR2xTS3d4Ng)"
      ],
      "text/plain": [
       "<IPython.core.display.Markdown object>"
      ]
     },
     "metadata": {},
     "output_type": "display_data"
    },
    {
     "data": {
      "text/markdown": [
       "[61. NYC-based Tennr, which uses AI-based document parsing and workflow automation to reduce waiting times for patients, raised a $37M Series B led by Lightspeed (Mike Wheatley/SiliconANGLE) - Feedly AI](https://siliconangle.com/2024/10/22/ai-startup-tennr-raises-37m-automate-healthcare-document-processing/)"
      ],
      "text/plain": [
       "<IPython.core.display.Markdown object>"
      ]
     },
     "metadata": {},
     "output_type": "display_data"
    },
    {
     "data": {
      "text/markdown": [
       "[62. New AI tech helps police track suspects' cars without license plate numbers - Feedly AI](https://www.foxnews.com/video/6363607217112)"
      ],
      "text/plain": [
       "<IPython.core.display.Markdown object>"
      ]
     },
     "metadata": {},
     "output_type": "display_data"
    },
    {
     "data": {
      "text/markdown": [
       "[63. New York Post, WSJ File Lawsuit Against Perplexity AI Over Author Rights - Feedly AI](https://greekreporter.com/2024/10/23/new-york-post-wsj-sue-perplexity-ai/)"
      ],
      "text/plain": [
       "<IPython.core.display.Markdown object>"
      ]
     },
     "metadata": {},
     "output_type": "display_data"
    },
    {
     "data": {
      "text/markdown": [
       "[64. OpenAI's rapid growth loaded with 'corner case' challenges, says Fivetran CEO - Feedly AI](https://go.theregister.com/feed/www.theregister.com/2024/10/23/fivetran_ceo_interview/)"
      ],
      "text/plain": [
       "<IPython.core.display.Markdown object>"
      ]
     },
     "metadata": {},
     "output_type": "display_data"
    },
    {
     "data": {
      "text/markdown": [
       "[65. OpenAI Appoints First Chief Economist to Lead AI Economic Research - Newscatcher](https://uk.finance.yahoo.com/news/openai-appoints-first-chief-economist-205520213.html)"
      ],
      "text/plain": [
       "<IPython.core.display.Markdown object>"
      ]
     },
     "metadata": {},
     "output_type": "display_data"
    },
    {
     "data": {
      "text/markdown": [
       "[66. OpenAI and Microsoft are funding $10 million in grants for AI-powered journalism - Feedly AI](https://www.engadget.com/ai/openai-and-microsoft-are-funding-10-million-in-grants-for-ai-powered-journalism-193042213.html)"
      ],
      "text/plain": [
       "<IPython.core.display.Markdown object>"
      ]
     },
     "metadata": {},
     "output_type": "display_data"
    },
    {
     "data": {
      "text/markdown": [
       "[67. OpenAI appoints ex-Uber exec as chief compliance officer - Feedly AI](https://www.techinasia.com/news/openai-appoints-exuber-exec-chief-compliance-officer)"
      ],
      "text/plain": [
       "<IPython.core.display.Markdown object>"
      ]
     },
     "metadata": {},
     "output_type": "display_data"
    },
    {
     "data": {
      "text/markdown": [
       "[68. Parents of Massachusetts high schooler disciplined for using AI sue school - Newscatcher](https://www.washingtonpost.com/business/2024/10/22/high-school-student-lawsuit-artificial-intelligence/000fbad0-90c0-11ef-b5b1-75167840d9f3_story.html)"
      ],
      "text/plain": [
       "<IPython.core.display.Markdown object>"
      ]
     },
     "metadata": {},
     "output_type": "display_data"
    },
    {
     "data": {
      "text/markdown": [
       "[69. People Are Competing for Your Dream Job With These AI Tools - HackerNoon](https://hackernoon.com/people-are-competing-for-your-dream-job-with-these-ai-tools)"
      ],
      "text/plain": [
       "<IPython.core.display.Markdown object>"
      ]
     },
     "metadata": {},
     "output_type": "display_data"
    },
    {
     "data": {
      "text/markdown": [
       "[70. Qualcomm CEO Says Everyone Will Have AI Smartphone in Five Years - Google News](https://news.google.com/read/CBMitgFBVV95cUxQbXlDVlNacDZCX0Z0R2RsbHV2QnM1R29qam5hMVpUdk1SMUxSR0pucWc5dnphZm83UUQtNU5reVZJZFNFM21oYXZzbm5ZaXp0cEdOVnZBajI4aDJYYmxuVlJnMnhhVnZwTmEtcXJPUjhDenB4T3lSZ3BXXzBueTZJZFNnTjJSdXRvN200UU1PMmFlaXREOUF6ckw2ZGR4Ykk5cDZBLU1aNG1rMkl6LVdIVXR2VzVyZw)"
      ],
      "text/plain": [
       "<IPython.core.display.Markdown object>"
      ]
     },
     "metadata": {},
     "output_type": "display_data"
    },
    {
     "data": {
      "text/markdown": [
       "[71. Qualcomm and Google team up to help carmakers create AI voice systems - Google News](https://news.google.com/read/CBMisgFBVV95cUxQNzhjSXltcjBvVE05SF9ac3VPMFhLQzkzY29uZHNUVHVTTHNsdm83dTEwaHBJa0JXb2ppZTZXOGtDV3hPWXRKVWdzRmx5RGVoS2VZc29lZXdqaHpLLXNBOEFUS3VlWkpZa183VlJKdXlxdlpKY0s5NEo4T3BwQ2EtVF92UFJMYVY0UlB3R3FtQTFrODVwTWZVMjc3Z20zVmloZmxKT1dnMXdFOGJCa3l6aC1B)"
      ],
      "text/plain": [
       "<IPython.core.display.Markdown object>"
      ]
     },
     "metadata": {},
     "output_type": "display_data"
    },
    {
     "data": {
      "text/markdown": [
       "[72. Qualcomm and Google to collaborate on more intelligent cars with integrated generative AI - Newscatcher](https://siliconangle.com/2024/10/22/qualcomm-google-collaborate-intelligent-cars-integrated-generative-ai)"
      ],
      "text/plain": [
       "<IPython.core.display.Markdown object>"
      ]
     },
     "metadata": {},
     "output_type": "display_data"
    },
    {
     "data": {
      "text/markdown": [
       "[73. Qualcomms Snapdragon 8 Elite to give Chinese smartphones an AI power boost - Google News](https://news.google.com/read/CBMiuwFBVV95cUxQSWcwNEo2b1d4U09zMHF0aGpNemhFYkxsZ0lIaWRJMmpkNElsQUZRTGpSbklpX1d6ZExqaDZkQ2Q5WDFtbnVNRXROTEdzbUplV0p1a3ZRLTk4cDBKa3l4ajU1eG5uR1NIWi1fR2RNTlpYeWNMa3hHRjRidnBOd1BFSl9Bd2g2MFdVTlk4OFRBa3ZfWmNCWGhkRUotdlFoSlNMZmhJZzBoVEYyUEZMak5HZ1M2eWRKV3N0RXZF)"
      ],
      "text/plain": [
       "<IPython.core.display.Markdown object>"
      ]
     },
     "metadata": {},
     "output_type": "display_data"
    },
    {
     "data": {
      "text/markdown": [
       "[74. Samsung TVs are getting 4K Generative Wallpapers - Newscatcher](https://www.fonearena.com/blog/438619/samsung-tv-generative-wallpapers.html)"
      ],
      "text/plain": [
       "<IPython.core.display.Markdown object>"
      ]
     },
     "metadata": {},
     "output_type": "display_data"
    },
    {
     "data": {
      "text/markdown": [
       "[75. Scarlett Johansson on fake AI-generated sex videos: Nothing can stop someone from cutting and pasting my image - WaPo Tech](https://www.washingtonpost.com/technology/2018/12/31/scarlett-johansson-fake-ai-generated-sex-videos-nothing-can-stop-someone-cutting-pasting-my-image/)"
      ],
      "text/plain": [
       "<IPython.core.display.Markdown object>"
      ]
     },
     "metadata": {},
     "output_type": "display_data"
    },
    {
     "data": {
      "text/markdown": [
       "[76. Stable Diffusion 3.5: Stability AI Redeems Itself With New Models and Expanded Features - Google News](https://news.google.com/read/CBMisgFBVV95cUxQVWpGN2xxWl9XS0hIdm9QWjlJY3lndlJuTnh2TU95X29ZWlhDZTVFMG9Fa3NCdnNoQXE4cHF5NV9fQWxQd0tLNnFub0RudG5FMVVlQVNkNXZ5QlY0aERZR2lTNVBwZV9OZ3RuYlZQeF9lSXlZRG12YllNT2tqVDRMNExfNFpwNW9RYVVDWHRqakFqcndPejdEOW5Kcnd4aGk5S2VxNEhENmg2OHJfTmktaDl30gG6AUFVX3lxTE5zbWZsR3ZoUW9xeF9TZEFvdlJRTUJPRXE0U0pTZkR4bHg3cTVDall4OFNNaVFXU2lBeGtYQTRyV2prNUhMVzRrSXRZektlQWJkREJxU3BtR2FfMTAtS0FMWDlvcFU2VkRXdTNXWUhHVzB4UW1zOHR6VENrb2YzLWNWVDZhS0dfOTZVQjk4OWV3bXE0OUhHc3h3TXI0aU5UR0dYcmtMY2V0ZXJwTTdyR0thY1NNTGRfSlRxQQ)"
      ],
      "text/plain": [
       "<IPython.core.display.Markdown object>"
      ]
     },
     "metadata": {},
     "output_type": "display_data"
    },
    {
     "data": {
      "text/markdown": [
       "[77. Tech bosses think nuclear fusion is the solution to AIs energy demands  heres what theyre missing - Feedly AI](https://thenextweb.com/news/tech-bosses-think-nuclear-fusion-is-the-solution-to-ais-energy-demands-heres-what-theyre-missing)"
      ],
      "text/plain": [
       "<IPython.core.display.Markdown object>"
      ]
     },
     "metadata": {},
     "output_type": "display_data"
    },
    {
     "data": {
      "text/markdown": [
       "[78. The AI Energy Crisis & A Newfound Push for Efficiency - HackerNoon](https://hackernoon.com/the-ai-energy-crisis-and-a-newfound-push-for-efficiency)"
      ],
      "text/plain": [
       "<IPython.core.display.Markdown object>"
      ]
     },
     "metadata": {},
     "output_type": "display_data"
    },
    {
     "data": {
      "text/markdown": [
       "[79. The AI app Soula seeks to improve healthcare access for pregnant women - Business Insider](https://www.businessinsider.com/soula-ai-chatbot-postpartum-healthcare-gap-women-2024-10)"
      ],
      "text/plain": [
       "<IPython.core.display.Markdown object>"
      ]
     },
     "metadata": {},
     "output_type": "display_data"
    },
    {
     "data": {
      "text/markdown": [
       "[80. Thom Yorke and Robert Smith among 10,500 creatives to sign petition against AI - Feedly AI](https://faroutmagazine.co.uk/thom-yorke-and-robert-smith-among-10500-creatives-to-sign-petition-against-ai/)"
      ],
      "text/plain": [
       "<IPython.core.display.Markdown object>"
      ]
     },
     "metadata": {},
     "output_type": "display_data"
    },
    {
     "data": {
      "text/markdown": [
       "[81. Toilet camera uses AI to analyze pics of poop and measure your gut health - Feedly AI](https://www.digitalcameraworld.com/news/toilet-camera-uses-ai-to-analyze-pics-of-poop-and-measure-your-gut-health)"
      ],
      "text/plain": [
       "<IPython.core.display.Markdown object>"
      ]
     },
     "metadata": {},
     "output_type": "display_data"
    },
    {
     "data": {
      "text/markdown": [
       "[82. UiPath is marrying generative AI with robots to accelerate business automation - SiliconANGLE - Feedly AI](https://siliconangle.com/2024/10/22/uipath-marrying-generative-ai-robots-accelerate-business-automation/)"
      ],
      "text/plain": [
       "<IPython.core.display.Markdown object>"
      ]
     },
     "metadata": {},
     "output_type": "display_data"
    },
    {
     "data": {
      "text/markdown": [
       "[83. Why its so challenging to deploy AI on space missions - Feedly AI](https://www.fastcompany.com/91214275/why-its-so-challenging-to-deploy-ai-on-space-missions)"
      ],
      "text/plain": [
       "<IPython.core.display.Markdown object>"
      ]
     },
     "metadata": {},
     "output_type": "display_data"
    },
    {
     "data": {
      "text/markdown": [
       "[84. Wicked star Ariana Grande finds AI troublesome after fan-edited posters cause controversy - Google News](https://news.google.com/read/CBMixgFBVV95cUxPODYtSUI2b3FMRzRQNmtWbjhoY19WRWswb3lmVTBFa0QyYXNNVENqeFlWcXh5TjJuaTBuRnBhM2JnMGtoZkFUa2c4RE9GQ3pvdGlzQ3JZb0hrZjIzSzVRMTFjRzd3OFQwNzZaYlA4UGdBU2I1NXVTZDFjUzItTkxOVVVXb04yWk54MTk4NEl0OTVGZS1CcmxOZVNaMGpKNXlhTzVLNENLb3BKU1lDR2pVWFN4ektaUHJIY0F3UWN3b3N3d3RNaFHSAcsBQVVfeXFMTlBJMVJwdENFWDM1UUx0ZUJCdkgxZmZteHZlbERwampRc0Q5X1g4X21LUU1nc1NYbUE4Q2t2alZNLXgzRXo5WDB1QzR1dmpZR18yeWo5U2xickF4TTBsVTlLbklnMExKbjBRdUltWDV2YzQyQ1pVT3ZTeEN1SE1HU2F0aDlDd2U1TzVvOFVrSUVSSjg1UlNUanh6bmtqaEVMdE1pZHc3OUhMR0dRUGdwdUZjTzdSMW50ZDVMZ242Y2JOeTZ2ZVBoNDNZU1k)"
      ],
      "text/plain": [
       "<IPython.core.display.Markdown object>"
      ]
     },
     "metadata": {},
     "output_type": "display_data"
    },
    {
     "data": {
      "text/markdown": [
       "[85. Youre Using Too Much ChatGPT5 Tell-Tale Signs In 2024 - Feedly AI](https://www.forbes.com/sites/rachelwells/2024/10/23/are-you-using-too-much-chatgpt-5-signs/)"
      ],
      "text/plain": [
       "<IPython.core.display.Markdown object>"
      ]
     },
     "metadata": {},
     "output_type": "display_data"
    }
   ],
   "source": [
    "for row in pd.DataFrame(state[\"AIdf\"]).itertuples():\n",
    "    display(Markdown(f\"[{row.id}. {row.title} - {row.src}]({row.url})\"))\n"
   ]
  },
  {
   "cell_type": "code",
   "execution_count": 38,
   "id": "a5478962",
   "metadata": {},
   "outputs": [
    {
     "name": "stderr",
     "output_type": "stream",
     "text": [
      "2024-10-23 06:44:08,092 - AInewsbot - INFO - start free-form topic extraction\n",
      "2024-10-23 06:44:08,093 - AInewsbot - INFO - Applying prompt to 2 pages using gpt-4o-mini\n",
      "2024-10-23 06:44:08,094 - AInewsbot - INFO - sent 50 items \n",
      "2024-10-23 06:44:08,094 - AInewsbot - INFO - sent 36 items \n",
      "2024-10-23 06:44:13,912 - AInewsbot - INFO - got dict with 36 items \n",
      "2024-10-23 06:44:16,785 - AInewsbot - INFO - got dict with 50 items \n",
      "2024-10-23 06:44:16,788 - AInewsbot - INFO - Processed 86 responses.\n",
      "2024-10-23 06:44:16,792 - AInewsbot - INFO - 86 free-form topics extracted\n",
      "2024-10-23 06:44:16,794 - AInewsbot - INFO - ['technology update', 'abba', 'radiohead', 'the cure', 'musicians', 'protest', 'unlicensed use', 'mental health', 'federal law', 'advocacy', 'technology regulation', 'security', 'technology concerns', 'apple', 'openai', 'chatgpt', 'technology competition', 'amazon', 'anthropic', 'ai agents', 'microsoft', 'google', 'craig federighi', 'ai features', 'siri', 'technology strategy', 'automation', 'ai delays', 'tim cook', 'china', 'regulators', 'teen suicide', 'lawsuit', 'machine learning', 'funding', 'innovation', 'ibm', 'creatives', 'qualcomm', 'smartphones', 'generative ai']\n",
      "2024-10-23 06:44:16,795 - AInewsbot - INFO - Start canonical topic classification\n",
      "2024-10-23 06:44:16,803 - AInewsbot - INFO - AI doom, topic 1 of 100\n",
      "2024-10-23 06:44:16,805 - AInewsbot - INFO - Applying prompt to 2 pages using gpt-4o-mini\n",
      "2024-10-23 06:44:16,806 - AInewsbot - INFO - sent 50 items \n",
      "2024-10-23 06:44:16,808 - AInewsbot - INFO - sent 36 items \n",
      "2024-10-23 06:44:19,857 - AInewsbot - INFO - got dict with 36 items \n",
      "2024-10-23 06:44:20,701 - AInewsbot - INFO - got dict with 50 items \n",
      "2024-10-23 06:44:20,702 - AInewsbot - INFO - Processed 86 responses.\n",
      "2024-10-23 06:44:20,703 - AInewsbot - INFO - Agriculture, topic 2 of 100\n",
      "2024-10-23 06:44:20,704 - AInewsbot - INFO - Applying prompt to 2 pages using gpt-4o-mini\n",
      "2024-10-23 06:44:20,705 - AInewsbot - INFO - sent 50 items \n",
      "2024-10-23 06:44:20,706 - AInewsbot - INFO - sent 36 items \n",
      "2024-10-23 06:44:23,239 - AInewsbot - INFO - got dict with 36 items \n",
      "2024-10-23 06:44:25,208 - AInewsbot - INFO - got dict with 50 items \n",
      "2024-10-23 06:44:25,209 - AInewsbot - INFO - Processed 86 responses.\n",
      "2024-10-23 06:44:25,210 - AInewsbot - INFO - Art & Design, topic 3 of 100\n",
      "2024-10-23 06:44:25,211 - AInewsbot - INFO - Applying prompt to 2 pages using gpt-4o-mini\n",
      "2024-10-23 06:44:25,212 - AInewsbot - INFO - sent 50 items \n",
      "2024-10-23 06:44:25,213 - AInewsbot - INFO - sent 36 items \n",
      "2024-10-23 06:44:27,844 - AInewsbot - INFO - got dict with 36 items \n",
      "2024-10-23 06:44:28,626 - AInewsbot - INFO - got dict with 50 items \n",
      "2024-10-23 06:44:28,628 - AInewsbot - INFO - Processed 86 responses.\n",
      "2024-10-23 06:44:28,629 - AInewsbot - INFO - Artificial General Intelligence, topic 4 of 100\n",
      "2024-10-23 06:44:28,630 - AInewsbot - INFO - Applying prompt to 2 pages using gpt-4o-mini\n",
      "2024-10-23 06:44:28,631 - AInewsbot - INFO - sent 50 items \n",
      "2024-10-23 06:44:28,632 - AInewsbot - INFO - sent 36 items \n",
      "2024-10-23 06:44:31,176 - AInewsbot - INFO - got dict with 36 items \n",
      "2024-10-23 06:44:32,094 - AInewsbot - INFO - got dict with 50 items \n",
      "2024-10-23 06:44:32,096 - AInewsbot - INFO - Processed 86 responses.\n",
      "2024-10-23 06:44:32,096 - AInewsbot - INFO - Authors & Writing, topic 5 of 100\n",
      "2024-10-23 06:44:32,097 - AInewsbot - INFO - Applying prompt to 2 pages using gpt-4o-mini\n",
      "2024-10-23 06:44:32,097 - AInewsbot - INFO - sent 50 items \n",
      "2024-10-23 06:44:32,098 - AInewsbot - INFO - sent 36 items \n",
      "2024-10-23 06:44:34,790 - AInewsbot - INFO - got dict with 36 items \n",
      "2024-10-23 06:44:35,846 - AInewsbot - INFO - got dict with 50 items \n",
      "2024-10-23 06:44:35,848 - AInewsbot - INFO - Processed 86 responses.\n",
      "2024-10-23 06:44:35,849 - AInewsbot - INFO - Autonomous vehicles, topic 6 of 100\n",
      "2024-10-23 06:44:35,849 - AInewsbot - INFO - Applying prompt to 2 pages using gpt-4o-mini\n",
      "2024-10-23 06:44:35,850 - AInewsbot - INFO - sent 50 items \n",
      "2024-10-23 06:44:35,852 - AInewsbot - INFO - sent 36 items \n",
      "2024-10-23 06:44:38,326 - AInewsbot - INFO - got dict with 36 items \n",
      "2024-10-23 06:44:39,621 - AInewsbot - INFO - got dict with 50 items \n",
      "2024-10-23 06:44:39,624 - AInewsbot - INFO - Processed 86 responses.\n",
      "2024-10-23 06:44:39,624 - AInewsbot - INFO - Bias and Fairness, topic 7 of 100\n",
      "2024-10-23 06:44:39,625 - AInewsbot - INFO - Applying prompt to 2 pages using gpt-4o-mini\n",
      "2024-10-23 06:44:39,626 - AInewsbot - INFO - sent 50 items \n",
      "2024-10-23 06:44:39,627 - AInewsbot - INFO - sent 36 items \n",
      "2024-10-23 06:44:42,091 - AInewsbot - INFO - got dict with 36 items \n",
      "2024-10-23 06:44:43,090 - AInewsbot - INFO - got dict with 50 items \n",
      "2024-10-23 06:44:43,091 - AInewsbot - INFO - Processed 86 responses.\n",
      "2024-10-23 06:44:43,092 - AInewsbot - INFO - Books & Publishing, topic 8 of 100\n",
      "2024-10-23 06:44:43,092 - AInewsbot - INFO - Applying prompt to 2 pages using gpt-4o-mini\n",
      "2024-10-23 06:44:43,093 - AInewsbot - INFO - sent 50 items \n",
      "2024-10-23 06:44:43,093 - AInewsbot - INFO - sent 36 items \n",
      "2024-10-23 06:44:45,867 - AInewsbot - INFO - got dict with 36 items \n",
      "2024-10-23 06:44:46,328 - AInewsbot - INFO - got dict with 50 items \n",
      "2024-10-23 06:44:46,330 - AInewsbot - INFO - Processed 86 responses.\n",
      "2024-10-23 06:44:46,331 - AInewsbot - INFO - Brain-Computer Interfaces, topic 9 of 100\n",
      "2024-10-23 06:44:46,331 - AInewsbot - INFO - Applying prompt to 2 pages using gpt-4o-mini\n",
      "2024-10-23 06:44:46,332 - AInewsbot - INFO - sent 50 items \n",
      "2024-10-23 06:44:46,333 - AInewsbot - INFO - sent 36 items \n",
      "2024-10-23 06:44:48,582 - AInewsbot - INFO - got dict with 36 items \n",
      "2024-10-23 06:44:49,747 - AInewsbot - INFO - got dict with 50 items \n",
      "2024-10-23 06:44:49,749 - AInewsbot - INFO - Processed 86 responses.\n",
      "2024-10-23 06:44:49,750 - AInewsbot - INFO - Bubble, topic 10 of 100\n",
      "2024-10-23 06:44:49,750 - AInewsbot - INFO - Applying prompt to 2 pages using gpt-4o-mini\n",
      "2024-10-23 06:44:49,751 - AInewsbot - INFO - sent 50 items \n",
      "2024-10-23 06:44:49,752 - AInewsbot - INFO - sent 36 items \n",
      "2024-10-23 06:44:52,422 - AInewsbot - INFO - got dict with 36 items \n",
      "2024-10-23 06:44:53,203 - AInewsbot - INFO - got dict with 50 items \n",
      "2024-10-23 06:44:53,205 - AInewsbot - INFO - Processed 86 responses.\n",
      "2024-10-23 06:44:53,206 - AInewsbot - INFO - Chatbots, topic 11 of 100\n",
      "2024-10-23 06:44:53,208 - AInewsbot - INFO - Applying prompt to 2 pages using gpt-4o-mini\n",
      "2024-10-23 06:44:53,209 - AInewsbot - INFO - sent 50 items \n",
      "2024-10-23 06:44:53,211 - AInewsbot - INFO - sent 36 items \n",
      "2024-10-23 06:44:55,801 - AInewsbot - INFO - got dict with 36 items \n",
      "2024-10-23 06:44:56,724 - AInewsbot - INFO - got dict with 50 items \n",
      "2024-10-23 06:44:56,726 - AInewsbot - INFO - Processed 86 responses.\n",
      "2024-10-23 06:44:56,726 - AInewsbot - INFO - China, topic 12 of 100\n",
      "2024-10-23 06:44:56,727 - AInewsbot - INFO - Applying prompt to 2 pages using gpt-4o-mini\n",
      "2024-10-23 06:44:56,728 - AInewsbot - INFO - sent 50 items \n",
      "2024-10-23 06:44:56,729 - AInewsbot - INFO - sent 36 items \n",
      "2024-10-23 06:44:58,873 - AInewsbot - INFO - got dict with 36 items \n",
      "2024-10-23 06:44:59,921 - AInewsbot - INFO - got dict with 50 items \n",
      "2024-10-23 06:44:59,923 - AInewsbot - INFO - Processed 86 responses.\n",
      "2024-10-23 06:44:59,923 - AInewsbot - INFO - Climate, topic 13 of 100\n",
      "2024-10-23 06:44:59,924 - AInewsbot - INFO - Applying prompt to 2 pages using gpt-4o-mini\n",
      "2024-10-23 06:44:59,925 - AInewsbot - INFO - sent 50 items \n",
      "2024-10-23 06:44:59,926 - AInewsbot - INFO - sent 36 items \n",
      "2024-10-23 06:45:02,948 - AInewsbot - INFO - got dict with 36 items \n",
      "2024-10-23 06:45:03,686 - AInewsbot - INFO - got dict with 50 items \n",
      "2024-10-23 06:45:03,687 - AInewsbot - INFO - Processed 86 responses.\n",
      "2024-10-23 06:45:03,688 - AInewsbot - INFO - Code assistants, topic 14 of 100\n",
      "2024-10-23 06:45:03,688 - AInewsbot - INFO - Applying prompt to 2 pages using gpt-4o-mini\n",
      "2024-10-23 06:45:03,689 - AInewsbot - INFO - sent 50 items \n",
      "2024-10-23 06:45:03,691 - AInewsbot - INFO - sent 36 items \n",
      "2024-10-23 06:45:07,271 - AInewsbot - INFO - got dict with 36 items \n",
      "2024-10-23 06:45:07,986 - AInewsbot - INFO - got dict with 50 items \n",
      "2024-10-23 06:45:07,988 - AInewsbot - INFO - Processed 86 responses.\n",
      "2024-10-23 06:45:07,989 - AInewsbot - INFO - Cognitive Science, topic 15 of 100\n"
     ]
    },
    {
     "name": "stderr",
     "output_type": "stream",
     "text": [
      "2024-10-23 06:45:07,989 - AInewsbot - INFO - Applying prompt to 2 pages using gpt-4o-mini\n",
      "2024-10-23 06:45:07,991 - AInewsbot - INFO - sent 50 items \n",
      "2024-10-23 06:45:07,993 - AInewsbot - INFO - sent 36 items \n",
      "2024-10-23 06:45:10,898 - AInewsbot - INFO - got dict with 36 items \n",
      "2024-10-23 06:45:11,684 - AInewsbot - INFO - got dict with 50 items \n",
      "2024-10-23 06:45:11,686 - AInewsbot - INFO - Processed 86 responses.\n",
      "2024-10-23 06:45:11,686 - AInewsbot - INFO - Computer Vision, topic 16 of 100\n",
      "2024-10-23 06:45:11,687 - AInewsbot - INFO - Applying prompt to 2 pages using gpt-4o-mini\n",
      "2024-10-23 06:45:11,688 - AInewsbot - INFO - sent 50 items \n",
      "2024-10-23 06:45:11,689 - AInewsbot - INFO - sent 36 items \n",
      "2024-10-23 06:45:14,976 - AInewsbot - INFO - got dict with 36 items \n",
      "2024-10-23 06:45:15,683 - AInewsbot - INFO - got dict with 50 items \n",
      "2024-10-23 06:45:15,686 - AInewsbot - INFO - Processed 86 responses.\n",
      "2024-10-23 06:45:15,686 - AInewsbot - INFO - Consciousness, topic 17 of 100\n",
      "2024-10-23 06:45:15,688 - AInewsbot - INFO - Applying prompt to 2 pages using gpt-4o-mini\n",
      "2024-10-23 06:45:15,689 - AInewsbot - INFO - sent 50 items \n",
      "2024-10-23 06:45:15,690 - AInewsbot - INFO - sent 36 items \n",
      "2024-10-23 06:45:18,228 - AInewsbot - INFO - got dict with 36 items \n",
      "2024-10-23 06:45:19,243 - AInewsbot - INFO - got dict with 50 items \n",
      "2024-10-23 06:45:19,244 - AInewsbot - INFO - Processed 86 responses.\n",
      "2024-10-23 06:45:19,245 - AInewsbot - INFO - Cryptocurrency, topic 18 of 100\n",
      "2024-10-23 06:45:19,245 - AInewsbot - INFO - Applying prompt to 2 pages using gpt-4o-mini\n",
      "2024-10-23 06:45:19,246 - AInewsbot - INFO - sent 50 items \n",
      "2024-10-23 06:45:19,247 - AInewsbot - INFO - sent 36 items \n",
      "2024-10-23 06:45:21,498 - AInewsbot - INFO - got dict with 36 items \n",
      "2024-10-23 06:45:22,968 - AInewsbot - INFO - got dict with 50 items \n",
      "2024-10-23 06:45:22,970 - AInewsbot - INFO - Processed 86 responses.\n",
      "2024-10-23 06:45:22,971 - AInewsbot - INFO - Customer service, topic 19 of 100\n",
      "2024-10-23 06:45:22,971 - AInewsbot - INFO - Applying prompt to 2 pages using gpt-4o-mini\n",
      "2024-10-23 06:45:22,972 - AInewsbot - INFO - sent 50 items \n",
      "2024-10-23 06:45:22,973 - AInewsbot - INFO - sent 36 items \n",
      "2024-10-23 06:45:26,939 - AInewsbot - INFO - got dict with 36 items \n",
      "2024-10-23 06:45:27,269 - AInewsbot - INFO - got dict with 50 items \n",
      "2024-10-23 06:45:27,270 - AInewsbot - INFO - Processed 86 responses.\n",
      "2024-10-23 06:45:27,271 - AInewsbot - INFO - Cybersecurity, topic 20 of 100\n",
      "2024-10-23 06:45:27,272 - AInewsbot - INFO - Applying prompt to 2 pages using gpt-4o-mini\n",
      "2024-10-23 06:45:27,272 - AInewsbot - INFO - sent 50 items \n",
      "2024-10-23 06:45:27,273 - AInewsbot - INFO - sent 36 items \n",
      "2024-10-23 06:45:29,588 - AInewsbot - INFO - got dict with 36 items \n",
      "2024-10-23 06:45:30,555 - AInewsbot - INFO - got dict with 50 items \n",
      "2024-10-23 06:45:30,556 - AInewsbot - INFO - Processed 86 responses.\n",
      "2024-10-23 06:45:30,557 - AInewsbot - INFO - Deals, topic 21 of 100\n",
      "2024-10-23 06:45:30,559 - AInewsbot - INFO - Applying prompt to 2 pages using gpt-4o-mini\n",
      "2024-10-23 06:45:30,560 - AInewsbot - INFO - sent 50 items \n",
      "2024-10-23 06:45:30,561 - AInewsbot - INFO - sent 36 items \n",
      "2024-10-23 06:45:33,187 - AInewsbot - INFO - got dict with 36 items \n",
      "2024-10-23 06:45:33,962 - AInewsbot - INFO - got dict with 50 items \n",
      "2024-10-23 06:45:33,964 - AInewsbot - INFO - Processed 86 responses.\n",
      "2024-10-23 06:45:33,964 - AInewsbot - INFO - Deepfakes, topic 22 of 100\n",
      "2024-10-23 06:45:33,965 - AInewsbot - INFO - Applying prompt to 2 pages using gpt-4o-mini\n",
      "2024-10-23 06:45:33,965 - AInewsbot - INFO - sent 50 items \n",
      "2024-10-23 06:45:33,969 - AInewsbot - INFO - sent 36 items \n",
      "2024-10-23 06:45:36,402 - AInewsbot - INFO - got dict with 36 items \n",
      "2024-10-23 06:45:37,274 - AInewsbot - INFO - got dict with 50 items \n",
      "2024-10-23 06:45:37,276 - AInewsbot - INFO - Processed 86 responses.\n",
      "2024-10-23 06:45:37,276 - AInewsbot - INFO - Disinformation, topic 23 of 100\n",
      "2024-10-23 06:45:37,277 - AInewsbot - INFO - Applying prompt to 2 pages using gpt-4o-mini\n",
      "2024-10-23 06:45:37,278 - AInewsbot - INFO - sent 50 items \n",
      "2024-10-23 06:45:37,279 - AInewsbot - INFO - sent 36 items \n",
      "2024-10-23 06:45:39,928 - AInewsbot - INFO - got dict with 36 items \n",
      "2024-10-23 06:45:40,551 - AInewsbot - INFO - got dict with 50 items \n",
      "2024-10-23 06:45:40,555 - AInewsbot - INFO - Processed 86 responses.\n",
      "2024-10-23 06:45:40,555 - AInewsbot - INFO - Drones, topic 24 of 100\n",
      "2024-10-23 06:45:40,556 - AInewsbot - INFO - Applying prompt to 2 pages using gpt-4o-mini\n",
      "2024-10-23 06:45:40,558 - AInewsbot - INFO - sent 50 items \n",
      "2024-10-23 06:45:40,561 - AInewsbot - INFO - sent 36 items \n",
      "2024-10-23 06:45:43,930 - AInewsbot - INFO - got dict with 36 items \n",
      "2024-10-23 06:45:44,956 - AInewsbot - INFO - got dict with 50 items \n",
      "2024-10-23 06:45:44,957 - AInewsbot - INFO - Processed 86 responses.\n",
      "2024-10-23 06:45:44,958 - AInewsbot - INFO - Economics, topic 25 of 100\n",
      "2024-10-23 06:45:44,959 - AInewsbot - INFO - Applying prompt to 2 pages using gpt-4o-mini\n",
      "2024-10-23 06:45:44,960 - AInewsbot - INFO - sent 50 items \n",
      "2024-10-23 06:45:44,961 - AInewsbot - INFO - sent 36 items \n",
      "2024-10-23 06:45:47,575 - AInewsbot - INFO - got dict with 36 items \n",
      "2024-10-23 06:45:48,846 - AInewsbot - INFO - got dict with 50 items \n",
      "2024-10-23 06:45:48,848 - AInewsbot - INFO - Processed 86 responses.\n",
      "2024-10-23 06:45:48,849 - AInewsbot - INFO - Education, topic 26 of 100\n",
      "2024-10-23 06:45:48,850 - AInewsbot - INFO - Applying prompt to 2 pages using gpt-4o-mini\n",
      "2024-10-23 06:45:48,851 - AInewsbot - INFO - sent 50 items \n",
      "2024-10-23 06:45:48,852 - AInewsbot - INFO - sent 36 items \n",
      "2024-10-23 06:45:51,391 - AInewsbot - INFO - got dict with 36 items \n",
      "2024-10-23 06:45:52,542 - AInewsbot - INFO - got dict with 50 items \n",
      "2024-10-23 06:45:52,544 - AInewsbot - INFO - Processed 86 responses.\n",
      "2024-10-23 06:45:52,544 - AInewsbot - INFO - Energy, topic 27 of 100\n",
      "2024-10-23 06:45:52,545 - AInewsbot - INFO - Applying prompt to 2 pages using gpt-4o-mini\n",
      "2024-10-23 06:45:52,546 - AInewsbot - INFO - sent 50 items \n",
      "2024-10-23 06:45:52,546 - AInewsbot - INFO - sent 36 items \n",
      "2024-10-23 06:45:55,375 - AInewsbot - INFO - got dict with 36 items \n",
      "2024-10-23 06:45:56,110 - AInewsbot - INFO - got dict with 50 items \n",
      "2024-10-23 06:45:56,112 - AInewsbot - INFO - Processed 86 responses.\n",
      "2024-10-23 06:45:56,113 - AInewsbot - INFO - Entertainment, topic 28 of 100\n",
      "2024-10-23 06:45:56,114 - AInewsbot - INFO - Applying prompt to 2 pages using gpt-4o-mini\n",
      "2024-10-23 06:45:56,116 - AInewsbot - INFO - sent 50 items \n",
      "2024-10-23 06:45:56,117 - AInewsbot - INFO - sent 36 items \n",
      "2024-10-23 06:45:59,117 - AInewsbot - INFO - got dict with 36 items \n",
      "2024-10-23 06:45:59,680 - AInewsbot - INFO - got dict with 50 items \n",
      "2024-10-23 06:45:59,683 - AInewsbot - INFO - Processed 86 responses.\n",
      "2024-10-23 06:45:59,683 - AInewsbot - INFO - Ethics, topic 29 of 100\n",
      "2024-10-23 06:45:59,684 - AInewsbot - INFO - Applying prompt to 2 pages using gpt-4o-mini\n",
      "2024-10-23 06:45:59,685 - AInewsbot - INFO - sent 50 items \n",
      "2024-10-23 06:45:59,686 - AInewsbot - INFO - sent 36 items \n",
      "2024-10-23 06:46:02,131 - AInewsbot - INFO - got dict with 36 items \n",
      "2024-10-23 06:46:03,138 - AInewsbot - INFO - got dict with 50 items \n",
      "2024-10-23 06:46:03,140 - AInewsbot - INFO - Processed 86 responses.\n",
      "2024-10-23 06:46:03,141 - AInewsbot - INFO - European Union, topic 30 of 100\n",
      "2024-10-23 06:46:03,141 - AInewsbot - INFO - Applying prompt to 2 pages using gpt-4o-mini\n",
      "2024-10-23 06:46:03,142 - AInewsbot - INFO - sent 50 items \n",
      "2024-10-23 06:46:03,144 - AInewsbot - INFO - sent 36 items \n",
      "2024-10-23 06:46:06,664 - AInewsbot - INFO - got dict with 36 items \n",
      "2024-10-23 06:46:07,688 - AInewsbot - INFO - got dict with 50 items \n",
      "2024-10-23 06:46:07,690 - AInewsbot - INFO - Processed 86 responses.\n",
      "2024-10-23 06:46:07,690 - AInewsbot - INFO - Facial Recognition, topic 31 of 100\n",
      "2024-10-23 06:46:07,691 - AInewsbot - INFO - Applying prompt to 2 pages using gpt-4o-mini\n",
      "2024-10-23 06:46:07,692 - AInewsbot - INFO - sent 50 items \n",
      "2024-10-23 06:46:07,693 - AInewsbot - INFO - sent 36 items \n",
      "2024-10-23 06:46:10,684 - AInewsbot - INFO - got dict with 36 items \n",
      "2024-10-23 06:46:11,041 - AInewsbot - INFO - got dict with 50 items \n"
     ]
    },
    {
     "name": "stderr",
     "output_type": "stream",
     "text": [
      "2024-10-23 06:46:11,043 - AInewsbot - INFO - Processed 86 responses.\n",
      "2024-10-23 06:46:11,044 - AInewsbot - INFO - Fashion, topic 32 of 100\n",
      "2024-10-23 06:46:11,044 - AInewsbot - INFO - Applying prompt to 2 pages using gpt-4o-mini\n",
      "2024-10-23 06:46:11,045 - AInewsbot - INFO - sent 50 items \n",
      "2024-10-23 06:46:11,046 - AInewsbot - INFO - sent 36 items \n",
      "2024-10-23 06:46:13,470 - AInewsbot - INFO - got dict with 36 items \n",
      "2024-10-23 06:46:14,400 - AInewsbot - INFO - got dict with 50 items \n",
      "2024-10-23 06:46:14,402 - AInewsbot - INFO - Processed 86 responses.\n",
      "2024-10-23 06:46:14,403 - AInewsbot - INFO - Finance, topic 33 of 100\n",
      "2024-10-23 06:46:14,404 - AInewsbot - INFO - Applying prompt to 2 pages using gpt-4o-mini\n",
      "2024-10-23 06:46:14,405 - AInewsbot - INFO - sent 50 items \n",
      "2024-10-23 06:46:14,407 - AInewsbot - INFO - sent 36 items \n",
      "2024-10-23 06:46:16,915 - AInewsbot - INFO - got dict with 36 items \n",
      "2024-10-23 06:46:17,910 - AInewsbot - INFO - got dict with 50 items \n",
      "2024-10-23 06:46:17,912 - AInewsbot - INFO - Processed 86 responses.\n",
      "2024-10-23 06:46:17,913 - AInewsbot - INFO - Fintech, topic 34 of 100\n",
      "2024-10-23 06:46:17,913 - AInewsbot - INFO - Applying prompt to 2 pages using gpt-4o-mini\n",
      "2024-10-23 06:46:17,914 - AInewsbot - INFO - sent 50 items \n",
      "2024-10-23 06:46:17,915 - AInewsbot - INFO - sent 36 items \n",
      "2024-10-23 06:46:20,344 - AInewsbot - INFO - got dict with 36 items \n",
      "2024-10-23 06:46:21,495 - AInewsbot - INFO - got dict with 50 items \n",
      "2024-10-23 06:46:21,498 - AInewsbot - INFO - Processed 86 responses.\n",
      "2024-10-23 06:46:21,498 - AInewsbot - INFO - Food & Drink, topic 35 of 100\n",
      "2024-10-23 06:46:21,499 - AInewsbot - INFO - Applying prompt to 2 pages using gpt-4o-mini\n",
      "2024-10-23 06:46:21,499 - AInewsbot - INFO - sent 50 items \n",
      "2024-10-23 06:46:21,500 - AInewsbot - INFO - sent 36 items \n",
      "2024-10-23 06:46:24,383 - AInewsbot - INFO - got dict with 36 items \n",
      "2024-10-23 06:46:25,261 - AInewsbot - INFO - got dict with 50 items \n",
      "2024-10-23 06:46:25,263 - AInewsbot - INFO - Processed 86 responses.\n",
      "2024-10-23 06:46:25,264 - AInewsbot - INFO - Funding, topic 36 of 100\n",
      "2024-10-23 06:46:25,264 - AInewsbot - INFO - Applying prompt to 2 pages using gpt-4o-mini\n",
      "2024-10-23 06:46:25,265 - AInewsbot - INFO - sent 50 items \n",
      "2024-10-23 06:46:25,266 - AInewsbot - INFO - sent 36 items \n",
      "2024-10-23 06:46:27,861 - AInewsbot - INFO - got dict with 36 items \n",
      "2024-10-23 06:46:29,090 - AInewsbot - INFO - got dict with 50 items \n",
      "2024-10-23 06:46:29,093 - AInewsbot - INFO - Processed 86 responses.\n",
      "2024-10-23 06:46:29,093 - AInewsbot - INFO - Gaming, topic 37 of 100\n",
      "2024-10-23 06:46:29,094 - AInewsbot - INFO - Applying prompt to 2 pages using gpt-4o-mini\n",
      "2024-10-23 06:46:29,094 - AInewsbot - INFO - sent 50 items \n",
      "2024-10-23 06:46:29,095 - AInewsbot - INFO - sent 36 items \n",
      "2024-10-23 06:46:31,525 - AInewsbot - INFO - got dict with 36 items \n",
      "2024-10-23 06:46:32,723 - AInewsbot - INFO - got dict with 50 items \n",
      "2024-10-23 06:46:32,724 - AInewsbot - INFO - Processed 86 responses.\n",
      "2024-10-23 06:46:32,724 - AInewsbot - INFO - Gen AI, topic 38 of 100\n",
      "2024-10-23 06:46:32,725 - AInewsbot - INFO - Applying prompt to 2 pages using gpt-4o-mini\n",
      "2024-10-23 06:46:32,725 - AInewsbot - INFO - sent 50 items \n",
      "2024-10-23 06:46:32,726 - AInewsbot - INFO - sent 36 items \n",
      "2024-10-23 06:46:35,068 - AInewsbot - INFO - got dict with 36 items \n",
      "2024-10-23 06:46:35,743 - AInewsbot - INFO - got dict with 50 items \n",
      "2024-10-23 06:46:35,745 - AInewsbot - INFO - Processed 86 responses.\n",
      "2024-10-23 06:46:35,746 - AInewsbot - INFO - Governance, topic 39 of 100\n",
      "2024-10-23 06:46:35,747 - AInewsbot - INFO - Applying prompt to 2 pages using gpt-4o-mini\n",
      "2024-10-23 06:46:35,749 - AInewsbot - INFO - sent 50 items \n",
      "2024-10-23 06:46:35,750 - AInewsbot - INFO - sent 36 items \n",
      "2024-10-23 06:46:38,537 - AInewsbot - INFO - got dict with 36 items \n",
      "2024-10-23 06:46:38,577 - AInewsbot - INFO - got dict with 50 items \n",
      "2024-10-23 06:46:38,579 - AInewsbot - INFO - Processed 86 responses.\n",
      "2024-10-23 06:46:38,579 - AInewsbot - INFO - Hardware, topic 40 of 100\n",
      "2024-10-23 06:46:38,580 - AInewsbot - INFO - Applying prompt to 2 pages using gpt-4o-mini\n",
      "2024-10-23 06:46:38,581 - AInewsbot - INFO - sent 50 items \n",
      "2024-10-23 06:46:38,582 - AInewsbot - INFO - sent 36 items \n",
      "2024-10-23 06:46:41,499 - AInewsbot - INFO - got dict with 36 items \n",
      "2024-10-23 06:46:42,387 - AInewsbot - INFO - got dict with 50 items \n",
      "2024-10-23 06:46:42,389 - AInewsbot - INFO - Processed 86 responses.\n",
      "2024-10-23 06:46:42,390 - AInewsbot - INFO - Health & Fitness, topic 41 of 100\n",
      "2024-10-23 06:46:42,390 - AInewsbot - INFO - Applying prompt to 2 pages using gpt-4o-mini\n",
      "2024-10-23 06:46:42,391 - AInewsbot - INFO - sent 50 items \n",
      "2024-10-23 06:46:42,393 - AInewsbot - INFO - sent 36 items \n",
      "2024-10-23 06:46:45,717 - AInewsbot - INFO - got dict with 36 items \n",
      "2024-10-23 06:46:45,921 - AInewsbot - INFO - got dict with 50 items \n",
      "2024-10-23 06:46:45,923 - AInewsbot - INFO - Processed 86 responses.\n",
      "2024-10-23 06:46:45,923 - AInewsbot - INFO - Healthcare, topic 42 of 100\n",
      "2024-10-23 06:46:45,923 - AInewsbot - INFO - Applying prompt to 2 pages using gpt-4o-mini\n",
      "2024-10-23 06:46:45,924 - AInewsbot - INFO - sent 50 items \n",
      "2024-10-23 06:46:45,925 - AInewsbot - INFO - sent 36 items \n",
      "2024-10-23 06:46:48,323 - AInewsbot - INFO - got dict with 36 items \n",
      "2024-10-23 06:46:49,024 - AInewsbot - INFO - got dict with 50 items \n",
      "2024-10-23 06:46:49,027 - AInewsbot - INFO - Processed 86 responses.\n",
      "2024-10-23 06:46:49,028 - AInewsbot - INFO - History, topic 43 of 100\n",
      "2024-10-23 06:46:49,029 - AInewsbot - INFO - Applying prompt to 2 pages using gpt-4o-mini\n",
      "2024-10-23 06:46:49,029 - AInewsbot - INFO - sent 50 items \n",
      "2024-10-23 06:46:49,031 - AInewsbot - INFO - sent 36 items \n",
      "2024-10-23 06:46:51,312 - AInewsbot - INFO - got dict with 36 items \n",
      "2024-10-23 06:46:52,308 - AInewsbot - INFO - got dict with 50 items \n",
      "2024-10-23 06:46:52,310 - AInewsbot - INFO - Processed 86 responses.\n",
      "2024-10-23 06:46:52,310 - AInewsbot - INFO - Hollywood, topic 44 of 100\n",
      "2024-10-23 06:46:52,311 - AInewsbot - INFO - Applying prompt to 2 pages using gpt-4o-mini\n",
      "2024-10-23 06:46:52,313 - AInewsbot - INFO - sent 50 items \n",
      "2024-10-23 06:46:52,315 - AInewsbot - INFO - sent 36 items \n",
      "2024-10-23 06:46:54,425 - AInewsbot - INFO - got dict with 36 items \n",
      "2024-10-23 06:46:54,971 - AInewsbot - INFO - got dict with 50 items \n",
      "2024-10-23 06:46:54,979 - AInewsbot - INFO - Processed 86 responses.\n",
      "2024-10-23 06:46:54,980 - AInewsbot - INFO - IPOs, topic 45 of 100\n",
      "2024-10-23 06:46:54,980 - AInewsbot - INFO - Applying prompt to 2 pages using gpt-4o-mini\n",
      "2024-10-23 06:46:54,981 - AInewsbot - INFO - sent 50 items \n",
      "2024-10-23 06:46:54,982 - AInewsbot - INFO - sent 36 items \n",
      "2024-10-23 06:46:57,738 - AInewsbot - INFO - got dict with 36 items \n",
      "2024-10-23 06:46:58,391 - AInewsbot - INFO - got dict with 50 items \n",
      "2024-10-23 06:46:58,393 - AInewsbot - INFO - Processed 86 responses.\n",
      "2024-10-23 06:46:58,393 - AInewsbot - INFO - India, topic 46 of 100\n",
      "2024-10-23 06:46:58,394 - AInewsbot - INFO - Applying prompt to 2 pages using gpt-4o-mini\n",
      "2024-10-23 06:46:58,395 - AInewsbot - INFO - sent 50 items \n",
      "2024-10-23 06:46:58,396 - AInewsbot - INFO - sent 36 items \n",
      "2024-10-23 06:47:01,144 - AInewsbot - INFO - got dict with 36 items \n",
      "2024-10-23 06:47:01,586 - AInewsbot - INFO - got dict with 50 items \n",
      "2024-10-23 06:47:01,590 - AInewsbot - INFO - Processed 86 responses.\n",
      "2024-10-23 06:47:01,591 - AInewsbot - INFO - Inequality, topic 47 of 100\n",
      "2024-10-23 06:47:01,592 - AInewsbot - INFO - Applying prompt to 2 pages using gpt-4o-mini\n",
      "2024-10-23 06:47:01,593 - AInewsbot - INFO - sent 50 items \n",
      "2024-10-23 06:47:01,594 - AInewsbot - INFO - sent 36 items \n",
      "2024-10-23 06:47:04,381 - AInewsbot - INFO - got dict with 36 items \n",
      "2024-10-23 06:47:05,013 - AInewsbot - INFO - got dict with 50 items \n",
      "2024-10-23 06:47:05,015 - AInewsbot - INFO - Processed 86 responses.\n",
      "2024-10-23 06:47:05,015 - AInewsbot - INFO - Infrastructure, topic 48 of 100\n",
      "2024-10-23 06:47:05,016 - AInewsbot - INFO - Applying prompt to 2 pages using gpt-4o-mini\n",
      "2024-10-23 06:47:05,016 - AInewsbot - INFO - sent 50 items \n",
      "2024-10-23 06:47:05,017 - AInewsbot - INFO - sent 36 items \n",
      "2024-10-23 06:47:07,595 - AInewsbot - INFO - got dict with 36 items \n"
     ]
    },
    {
     "name": "stderr",
     "output_type": "stream",
     "text": [
      "2024-10-23 06:47:08,209 - AInewsbot - INFO - got dict with 50 items \n",
      "2024-10-23 06:47:08,211 - AInewsbot - INFO - Processed 86 responses.\n",
      "2024-10-23 06:47:08,211 - AInewsbot - INFO - Intellectual Property, topic 49 of 100\n",
      "2024-10-23 06:47:08,212 - AInewsbot - INFO - Applying prompt to 2 pages using gpt-4o-mini\n",
      "2024-10-23 06:47:08,213 - AInewsbot - INFO - sent 50 items \n",
      "2024-10-23 06:47:08,214 - AInewsbot - INFO - sent 36 items \n",
      "2024-10-23 06:47:10,666 - AInewsbot - INFO - got dict with 36 items \n",
      "2024-10-23 06:47:11,588 - AInewsbot - INFO - got dict with 50 items \n",
      "2024-10-23 06:47:11,590 - AInewsbot - INFO - Processed 86 responses.\n",
      "2024-10-23 06:47:11,591 - AInewsbot - INFO - Internet of Things, topic 50 of 100\n",
      "2024-10-23 06:47:11,591 - AInewsbot - INFO - Applying prompt to 2 pages using gpt-4o-mini\n",
      "2024-10-23 06:47:11,592 - AInewsbot - INFO - sent 50 items \n",
      "2024-10-23 06:47:11,593 - AInewsbot - INFO - sent 36 items \n",
      "2024-10-23 06:47:14,078 - AInewsbot - INFO - got dict with 36 items \n",
      "2024-10-23 06:47:15,358 - AInewsbot - INFO - got dict with 50 items \n",
      "2024-10-23 06:47:15,360 - AInewsbot - INFO - Processed 86 responses.\n",
      "2024-10-23 06:47:15,360 - AInewsbot - INFO - Japan, topic 51 of 100\n",
      "2024-10-23 06:47:15,361 - AInewsbot - INFO - Applying prompt to 2 pages using gpt-4o-mini\n",
      "2024-10-23 06:47:15,363 - AInewsbot - INFO - sent 50 items \n",
      "2024-10-23 06:47:15,364 - AInewsbot - INFO - sent 36 items \n",
      "2024-10-23 06:47:18,421 - AInewsbot - INFO - got dict with 36 items \n",
      "2024-10-23 06:47:18,994 - AInewsbot - INFO - got dict with 50 items \n",
      "2024-10-23 06:47:18,996 - AInewsbot - INFO - Processed 86 responses.\n",
      "2024-10-23 06:47:18,997 - AInewsbot - INFO - Job Automation, topic 52 of 100\n",
      "2024-10-23 06:47:18,998 - AInewsbot - INFO - Applying prompt to 2 pages using gpt-4o-mini\n",
      "2024-10-23 06:47:19,000 - AInewsbot - INFO - sent 50 items \n",
      "2024-10-23 06:47:19,001 - AInewsbot - INFO - sent 36 items \n",
      "2024-10-23 06:47:22,040 - AInewsbot - INFO - got dict with 36 items \n",
      "2024-10-23 06:47:22,068 - AInewsbot - INFO - got dict with 50 items \n",
      "2024-10-23 06:47:22,070 - AInewsbot - INFO - Processed 86 responses.\n",
      "2024-10-23 06:47:22,071 - AInewsbot - INFO - Jobs & CareersLabor Market, topic 53 of 100\n",
      "2024-10-23 06:47:22,072 - AInewsbot - INFO - Applying prompt to 2 pages using gpt-4o-mini\n",
      "2024-10-23 06:47:22,073 - AInewsbot - INFO - sent 50 items \n",
      "2024-10-23 06:47:22,074 - AInewsbot - INFO - sent 36 items \n",
      "2024-10-23 06:47:24,904 - AInewsbot - INFO - got dict with 36 items \n",
      "2024-10-23 06:47:25,658 - AInewsbot - INFO - got dict with 50 items \n",
      "2024-10-23 06:47:25,660 - AInewsbot - INFO - Processed 86 responses.\n",
      "2024-10-23 06:47:25,661 - AInewsbot - INFO - Korea, topic 54 of 100\n",
      "2024-10-23 06:47:25,661 - AInewsbot - INFO - Applying prompt to 2 pages using gpt-4o-mini\n",
      "2024-10-23 06:47:25,662 - AInewsbot - INFO - sent 50 items \n",
      "2024-10-23 06:47:25,663 - AInewsbot - INFO - sent 36 items \n",
      "2024-10-23 06:47:28,886 - AInewsbot - INFO - got dict with 50 items \n",
      "2024-10-23 06:47:28,939 - AInewsbot - INFO - got dict with 36 items \n",
      "2024-10-23 06:47:28,941 - AInewsbot - INFO - Processed 86 responses.\n",
      "2024-10-23 06:47:28,942 - AInewsbot - INFO - Language Models, topic 55 of 100\n",
      "2024-10-23 06:47:28,943 - AInewsbot - INFO - Applying prompt to 2 pages using gpt-4o-mini\n",
      "2024-10-23 06:47:28,944 - AInewsbot - INFO - sent 50 items \n",
      "2024-10-23 06:47:28,945 - AInewsbot - INFO - sent 36 items \n",
      "2024-10-23 06:47:31,487 - AInewsbot - INFO - got dict with 36 items \n",
      "2024-10-23 06:47:32,479 - AInewsbot - INFO - got dict with 50 items \n",
      "2024-10-23 06:47:32,482 - AInewsbot - INFO - Processed 86 responses.\n",
      "2024-10-23 06:47:32,482 - AInewsbot - INFO - Legal issues, topic 56 of 100\n",
      "2024-10-23 06:47:32,484 - AInewsbot - INFO - Applying prompt to 2 pages using gpt-4o-mini\n",
      "2024-10-23 06:47:32,485 - AInewsbot - INFO - sent 50 items \n",
      "2024-10-23 06:47:32,486 - AInewsbot - INFO - sent 36 items \n",
      "2024-10-23 06:47:34,858 - AInewsbot - INFO - got dict with 36 items \n",
      "2024-10-23 06:47:35,690 - AInewsbot - INFO - got dict with 50 items \n",
      "2024-10-23 06:47:35,692 - AInewsbot - INFO - Processed 86 responses.\n",
      "2024-10-23 06:47:35,693 - AInewsbot - INFO - Lifestyle & Travel, topic 57 of 100\n",
      "2024-10-23 06:47:35,694 - AInewsbot - INFO - Applying prompt to 2 pages using gpt-4o-mini\n",
      "2024-10-23 06:47:35,695 - AInewsbot - INFO - sent 50 items \n",
      "2024-10-23 06:47:35,696 - AInewsbot - INFO - sent 36 items \n",
      "2024-10-23 06:47:38,338 - AInewsbot - INFO - got dict with 36 items \n",
      "2024-10-23 06:47:39,136 - AInewsbot - INFO - got dict with 50 items \n",
      "2024-10-23 06:47:39,139 - AInewsbot - INFO - Processed 86 responses.\n",
      "2024-10-23 06:47:39,140 - AInewsbot - INFO - Manufacturing, topic 58 of 100\n",
      "2024-10-23 06:47:39,141 - AInewsbot - INFO - Applying prompt to 2 pages using gpt-4o-mini\n",
      "2024-10-23 06:47:39,144 - AInewsbot - INFO - sent 50 items \n",
      "2024-10-23 06:47:39,145 - AInewsbot - INFO - sent 36 items \n",
      "2024-10-23 06:47:42,215 - AInewsbot - INFO - got dict with 36 items \n",
      "2024-10-23 06:47:42,869 - AInewsbot - INFO - got dict with 50 items \n",
      "2024-10-23 06:47:42,871 - AInewsbot - INFO - Processed 86 responses.\n",
      "2024-10-23 06:47:42,871 - AInewsbot - INFO - Mergers and acquisitions, topic 59 of 100\n",
      "2024-10-23 06:47:42,873 - AInewsbot - INFO - Applying prompt to 2 pages using gpt-4o-mini\n",
      "2024-10-23 06:47:42,874 - AInewsbot - INFO - sent 50 items \n",
      "2024-10-23 06:47:42,875 - AInewsbot - INFO - sent 36 items \n",
      "2024-10-23 06:47:45,748 - AInewsbot - INFO - got dict with 36 items \n",
      "2024-10-23 06:47:46,753 - AInewsbot - INFO - got dict with 50 items \n",
      "2024-10-23 06:47:46,755 - AInewsbot - INFO - Processed 86 responses.\n",
      "2024-10-23 06:47:46,755 - AInewsbot - INFO - Military, topic 60 of 100\n",
      "2024-10-23 06:47:46,755 - AInewsbot - INFO - Applying prompt to 2 pages using gpt-4o-mini\n",
      "2024-10-23 06:47:46,757 - AInewsbot - INFO - sent 50 items \n",
      "2024-10-23 06:47:46,758 - AInewsbot - INFO - sent 36 items \n",
      "2024-10-23 06:47:49,243 - AInewsbot - INFO - got dict with 36 items \n",
      "2024-10-23 06:47:49,988 - AInewsbot - INFO - got dict with 50 items \n",
      "2024-10-23 06:47:49,992 - AInewsbot - INFO - Processed 86 responses.\n",
      "2024-10-23 06:47:49,993 - AInewsbot - INFO - Music, topic 61 of 100\n",
      "2024-10-23 06:47:49,995 - AInewsbot - INFO - Applying prompt to 2 pages using gpt-4o-mini\n",
      "2024-10-23 06:47:49,997 - AInewsbot - INFO - sent 50 items \n",
      "2024-10-23 06:47:49,998 - AInewsbot - INFO - sent 36 items \n",
      "2024-10-23 06:47:51,744 - AInewsbot - INFO - got dict with 36 items \n",
      "2024-10-23 06:47:52,225 - AInewsbot - INFO - got dict with 50 items \n",
      "2024-10-23 06:47:52,226 - AInewsbot - INFO - Processed 86 responses.\n",
      "2024-10-23 06:47:52,227 - AInewsbot - INFO - Neuromorphic Computing, topic 62 of 100\n",
      "2024-10-23 06:47:52,228 - AInewsbot - INFO - Applying prompt to 2 pages using gpt-4o-mini\n",
      "2024-10-23 06:47:52,229 - AInewsbot - INFO - sent 50 items \n",
      "2024-10-23 06:47:52,230 - AInewsbot - INFO - sent 36 items \n",
      "2024-10-23 06:47:54,749 - AInewsbot - INFO - got dict with 36 items \n",
      "2024-10-23 06:47:55,557 - AInewsbot - INFO - got dict with 50 items \n",
      "2024-10-23 06:47:55,559 - AInewsbot - INFO - Processed 86 responses.\n",
      "2024-10-23 06:47:55,560 - AInewsbot - INFO - Nuclear, topic 63 of 100\n",
      "2024-10-23 06:47:55,561 - AInewsbot - INFO - Applying prompt to 2 pages using gpt-4o-mini\n",
      "2024-10-23 06:47:55,562 - AInewsbot - INFO - sent 50 items \n",
      "2024-10-23 06:47:55,563 - AInewsbot - INFO - sent 36 items \n",
      "2024-10-23 06:47:57,669 - AInewsbot - INFO - got dict with 36 items \n",
      "2024-10-23 06:47:58,491 - AInewsbot - INFO - got dict with 50 items \n",
      "2024-10-23 06:47:58,495 - AInewsbot - INFO - Processed 86 responses.\n",
      "2024-10-23 06:47:58,496 - AInewsbot - INFO - Open Source, topic 64 of 100\n",
      "2024-10-23 06:47:58,497 - AInewsbot - INFO - Applying prompt to 2 pages using gpt-4o-mini\n",
      "2024-10-23 06:47:58,498 - AInewsbot - INFO - sent 50 items \n",
      "2024-10-23 06:47:58,499 - AInewsbot - INFO - sent 36 items \n",
      "2024-10-23 06:48:01,971 - AInewsbot - INFO - got dict with 36 items \n",
      "2024-10-23 06:48:02,312 - AInewsbot - INFO - got dict with 50 items \n",
      "2024-10-23 06:48:02,314 - AInewsbot - INFO - Processed 86 responses.\n",
      "2024-10-23 06:48:02,315 - AInewsbot - INFO - Opinion, topic 65 of 100\n",
      "2024-10-23 06:48:02,315 - AInewsbot - INFO - Applying prompt to 2 pages using gpt-4o-mini\n"
     ]
    },
    {
     "name": "stderr",
     "output_type": "stream",
     "text": [
      "2024-10-23 06:48:02,316 - AInewsbot - INFO - sent 50 items \n",
      "2024-10-23 06:48:02,317 - AInewsbot - INFO - sent 36 items \n",
      "2024-10-23 06:48:05,557 - AInewsbot - INFO - got dict with 36 items \n",
      "2024-10-23 06:48:05,664 - AInewsbot - INFO - got dict with 50 items \n",
      "2024-10-23 06:48:05,667 - AInewsbot - INFO - Processed 86 responses.\n",
      "2024-10-23 06:48:05,667 - AInewsbot - INFO - Policy and regulation, topic 66 of 100\n",
      "2024-10-23 06:48:05,668 - AInewsbot - INFO - Applying prompt to 2 pages using gpt-4o-mini\n",
      "2024-10-23 06:48:05,669 - AInewsbot - INFO - sent 50 items \n",
      "2024-10-23 06:48:05,670 - AInewsbot - INFO - sent 36 items \n",
      "2024-10-23 06:48:08,749 - AInewsbot - INFO - got dict with 36 items \n",
      "2024-10-23 06:48:10,134 - AInewsbot - INFO - got dict with 50 items \n",
      "2024-10-23 06:48:10,137 - AInewsbot - INFO - Processed 86 responses.\n",
      "2024-10-23 06:48:10,138 - AInewsbot - INFO - Politics, topic 67 of 100\n",
      "2024-10-23 06:48:10,139 - AInewsbot - INFO - Applying prompt to 2 pages using gpt-4o-mini\n",
      "2024-10-23 06:48:10,141 - AInewsbot - INFO - sent 50 items \n",
      "2024-10-23 06:48:10,142 - AInewsbot - INFO - sent 36 items \n",
      "2024-10-23 06:48:12,705 - AInewsbot - INFO - got dict with 36 items \n",
      "2024-10-23 06:48:13,411 - AInewsbot - INFO - got dict with 50 items \n",
      "2024-10-23 06:48:13,413 - AInewsbot - INFO - Processed 86 responses.\n",
      "2024-10-23 06:48:13,413 - AInewsbot - INFO - Privacy, topic 68 of 100\n",
      "2024-10-23 06:48:13,414 - AInewsbot - INFO - Applying prompt to 2 pages using gpt-4o-mini\n",
      "2024-10-23 06:48:13,414 - AInewsbot - INFO - sent 50 items \n",
      "2024-10-23 06:48:13,415 - AInewsbot - INFO - sent 36 items \n",
      "2024-10-23 06:48:15,945 - AInewsbot - INFO - got dict with 36 items \n",
      "2024-10-23 06:48:16,580 - AInewsbot - INFO - got dict with 50 items \n",
      "2024-10-23 06:48:16,582 - AInewsbot - INFO - Processed 86 responses.\n",
      "2024-10-23 06:48:16,583 - AInewsbot - INFO - Privacy & Surveillance, topic 69 of 100\n",
      "2024-10-23 06:48:16,583 - AInewsbot - INFO - Applying prompt to 2 pages using gpt-4o-mini\n",
      "2024-10-23 06:48:16,585 - AInewsbot - INFO - sent 50 items \n",
      "2024-10-23 06:48:16,587 - AInewsbot - INFO - sent 36 items \n",
      "2024-10-23 06:48:19,695 - AInewsbot - INFO - got dict with 36 items \n",
      "2024-10-23 06:48:20,506 - AInewsbot - INFO - got dict with 50 items \n",
      "2024-10-23 06:48:20,509 - AInewsbot - INFO - Processed 86 responses.\n",
      "2024-10-23 06:48:20,510 - AInewsbot - INFO - Products, topic 70 of 100\n",
      "2024-10-23 06:48:20,511 - AInewsbot - INFO - Applying prompt to 2 pages using gpt-4o-mini\n",
      "2024-10-23 06:48:20,513 - AInewsbot - INFO - sent 50 items \n",
      "2024-10-23 06:48:20,514 - AInewsbot - INFO - sent 36 items \n",
      "2024-10-23 06:48:23,169 - AInewsbot - INFO - got dict with 36 items \n",
      "2024-10-23 06:48:23,974 - AInewsbot - INFO - got dict with 50 items \n",
      "2024-10-23 06:48:23,977 - AInewsbot - INFO - Processed 86 responses.\n",
      "2024-10-23 06:48:23,978 - AInewsbot - INFO - Quantum Computing, topic 71 of 100\n",
      "2024-10-23 06:48:23,978 - AInewsbot - INFO - Applying prompt to 2 pages using gpt-4o-mini\n",
      "2024-10-23 06:48:23,979 - AInewsbot - INFO - sent 50 items \n",
      "2024-10-23 06:48:23,980 - AInewsbot - INFO - sent 36 items \n",
      "2024-10-23 06:48:26,493 - AInewsbot - INFO - got dict with 36 items \n",
      "2024-10-23 06:48:27,302 - AInewsbot - INFO - got dict with 50 items \n",
      "2024-10-23 06:48:27,304 - AInewsbot - INFO - Processed 86 responses.\n",
      "2024-10-23 06:48:27,305 - AInewsbot - INFO - Recommendation systems, topic 72 of 100\n",
      "2024-10-23 06:48:27,306 - AInewsbot - INFO - Applying prompt to 2 pages using gpt-4o-mini\n",
      "2024-10-23 06:48:27,307 - AInewsbot - INFO - sent 50 items \n",
      "2024-10-23 06:48:27,308 - AInewsbot - INFO - sent 36 items \n",
      "2024-10-23 06:48:31,053 - AInewsbot - INFO - got dict with 36 items \n",
      "2024-10-23 06:48:32,082 - AInewsbot - INFO - got dict with 50 items \n",
      "2024-10-23 06:48:32,084 - AInewsbot - INFO - Processed 86 responses.\n",
      "2024-10-23 06:48:32,086 - AInewsbot - INFO - Reinforcement Learning, topic 73 of 100\n",
      "2024-10-23 06:48:32,087 - AInewsbot - INFO - Applying prompt to 2 pages using gpt-4o-mini\n",
      "2024-10-23 06:48:32,088 - AInewsbot - INFO - sent 50 items \n",
      "2024-10-23 06:48:32,090 - AInewsbot - INFO - sent 36 items \n",
      "2024-10-23 06:48:35,307 - AInewsbot - INFO - got dict with 36 items \n",
      "2024-10-23 06:48:38,072 - AInewsbot - INFO - got dict with 50 items \n",
      "2024-10-23 06:48:38,075 - AInewsbot - INFO - Processed 86 responses.\n",
      "2024-10-23 06:48:38,076 - AInewsbot - INFO - Retrieval Augmented Generation, topic 74 of 100\n",
      "2024-10-23 06:48:38,077 - AInewsbot - INFO - Applying prompt to 2 pages using gpt-4o-mini\n",
      "2024-10-23 06:48:38,078 - AInewsbot - INFO - sent 50 items \n",
      "2024-10-23 06:48:38,079 - AInewsbot - INFO - sent 36 items \n",
      "2024-10-23 06:48:40,679 - AInewsbot - INFO - got dict with 36 items \n",
      "2024-10-23 06:48:41,270 - AInewsbot - INFO - got dict with 50 items \n",
      "2024-10-23 06:48:41,272 - AInewsbot - INFO - Processed 86 responses.\n",
      "2024-10-23 06:48:41,273 - AInewsbot - INFO - Review, topic 75 of 100\n",
      "2024-10-23 06:48:41,273 - AInewsbot - INFO - Applying prompt to 2 pages using gpt-4o-mini\n",
      "2024-10-23 06:48:41,275 - AInewsbot - INFO - sent 50 items \n",
      "2024-10-23 06:48:41,276 - AInewsbot - INFO - sent 36 items \n",
      "2024-10-23 06:48:43,956 - AInewsbot - INFO - got dict with 36 items \n",
      "2024-10-23 06:48:44,673 - AInewsbot - INFO - got dict with 50 items \n",
      "2024-10-23 06:48:44,675 - AInewsbot - INFO - Processed 86 responses.\n",
      "2024-10-23 06:48:44,676 - AInewsbot - INFO - Robots, topic 76 of 100\n",
      "2024-10-23 06:48:44,677 - AInewsbot - INFO - Applying prompt to 2 pages using gpt-4o-mini\n",
      "2024-10-23 06:48:44,677 - AInewsbot - INFO - sent 50 items \n",
      "2024-10-23 06:48:44,679 - AInewsbot - INFO - sent 36 items \n",
      "2024-10-23 06:48:47,644 - AInewsbot - INFO - got dict with 36 items \n",
      "2024-10-23 06:48:48,434 - AInewsbot - INFO - got dict with 50 items \n",
      "2024-10-23 06:48:48,436 - AInewsbot - INFO - Processed 86 responses.\n",
      "2024-10-23 06:48:48,437 - AInewsbot - INFO - Russia, topic 77 of 100\n",
      "2024-10-23 06:48:48,437 - AInewsbot - INFO - Applying prompt to 2 pages using gpt-4o-mini\n",
      "2024-10-23 06:48:48,439 - AInewsbot - INFO - sent 50 items \n",
      "2024-10-23 06:48:48,440 - AInewsbot - INFO - sent 36 items \n",
      "2024-10-23 06:48:51,754 - AInewsbot - INFO - got dict with 36 items \n",
      "2024-10-23 06:48:52,661 - AInewsbot - INFO - got dict with 50 items \n",
      "2024-10-23 06:48:52,662 - AInewsbot - INFO - Processed 86 responses.\n",
      "2024-10-23 06:48:52,663 - AInewsbot - INFO - Safety and Alignment, topic 78 of 100\n",
      "2024-10-23 06:48:52,664 - AInewsbot - INFO - Applying prompt to 2 pages using gpt-4o-mini\n",
      "2024-10-23 06:48:52,665 - AInewsbot - INFO - sent 50 items \n",
      "2024-10-23 06:48:52,666 - AInewsbot - INFO - sent 36 items \n",
      "2024-10-23 06:48:55,194 - AInewsbot - INFO - got dict with 36 items \n",
      "2024-10-23 06:48:56,373 - AInewsbot - INFO - got dict with 50 items \n",
      "2024-10-23 06:48:56,376 - AInewsbot - INFO - Processed 86 responses.\n",
      "2024-10-23 06:48:56,376 - AInewsbot - INFO - Scams, topic 79 of 100\n",
      "2024-10-23 06:48:56,377 - AInewsbot - INFO - Applying prompt to 2 pages using gpt-4o-mini\n",
      "2024-10-23 06:48:56,378 - AInewsbot - INFO - sent 50 items \n",
      "2024-10-23 06:48:56,379 - AInewsbot - INFO - sent 36 items \n",
      "2024-10-23 06:48:59,015 - AInewsbot - INFO - got dict with 36 items \n",
      "2024-10-23 06:48:59,838 - AInewsbot - INFO - got dict with 50 items \n",
      "2024-10-23 06:48:59,839 - AInewsbot - INFO - Processed 86 responses.\n",
      "2024-10-23 06:48:59,840 - AInewsbot - INFO - Science, topic 80 of 100\n",
      "2024-10-23 06:48:59,840 - AInewsbot - INFO - Applying prompt to 2 pages using gpt-4o-mini\n",
      "2024-10-23 06:48:59,842 - AInewsbot - INFO - sent 50 items \n",
      "2024-10-23 06:48:59,843 - AInewsbot - INFO - sent 36 items \n",
      "2024-10-23 06:49:02,252 - AInewsbot - INFO - got dict with 36 items \n",
      "2024-10-23 06:49:03,195 - AInewsbot - INFO - got dict with 50 items \n",
      "2024-10-23 06:49:03,197 - AInewsbot - INFO - Processed 86 responses.\n",
      "2024-10-23 06:49:03,197 - AInewsbot - INFO - Semiconductor Chips, topic 81 of 100\n",
      "2024-10-23 06:49:03,198 - AInewsbot - INFO - Applying prompt to 2 pages using gpt-4o-mini\n",
      "2024-10-23 06:49:03,200 - AInewsbot - INFO - sent 50 items \n",
      "2024-10-23 06:49:03,201 - AInewsbot - INFO - sent 36 items \n",
      "2024-10-23 06:49:05,616 - AInewsbot - INFO - got dict with 36 items \n",
      "2024-10-23 06:49:06,485 - AInewsbot - INFO - got dict with 50 items \n",
      "2024-10-23 06:49:06,487 - AInewsbot - INFO - Processed 86 responses.\n"
     ]
    },
    {
     "name": "stderr",
     "output_type": "stream",
     "text": [
      "2024-10-23 06:49:06,488 - AInewsbot - INFO - Singularity, topic 82 of 100\n",
      "2024-10-23 06:49:06,488 - AInewsbot - INFO - Applying prompt to 2 pages using gpt-4o-mini\n",
      "2024-10-23 06:49:06,489 - AInewsbot - INFO - sent 50 items \n",
      "2024-10-23 06:49:06,490 - AInewsbot - INFO - sent 36 items \n",
      "2024-10-23 06:49:09,290 - AInewsbot - INFO - got dict with 36 items \n",
      "2024-10-23 06:49:09,926 - AInewsbot - INFO - got dict with 50 items \n",
      "2024-10-23 06:49:09,928 - AInewsbot - INFO - Processed 86 responses.\n",
      "2024-10-23 06:49:09,929 - AInewsbot - INFO - Smart grid, topic 83 of 100\n",
      "2024-10-23 06:49:09,929 - AInewsbot - INFO - Applying prompt to 2 pages using gpt-4o-mini\n",
      "2024-10-23 06:49:09,930 - AInewsbot - INFO - sent 50 items \n",
      "2024-10-23 06:49:09,931 - AInewsbot - INFO - sent 36 items \n",
      "2024-10-23 06:49:12,297 - AInewsbot - INFO - got dict with 36 items \n",
      "2024-10-23 06:49:13,054 - AInewsbot - INFO - got dict with 50 items \n",
      "2024-10-23 06:49:13,056 - AInewsbot - INFO - Processed 86 responses.\n",
      "2024-10-23 06:49:13,057 - AInewsbot - INFO - Society & Culture, topic 84 of 100\n",
      "2024-10-23 06:49:13,058 - AInewsbot - INFO - Applying prompt to 2 pages using gpt-4o-mini\n",
      "2024-10-23 06:49:13,059 - AInewsbot - INFO - sent 50 items \n",
      "2024-10-23 06:49:13,061 - AInewsbot - INFO - sent 36 items \n",
      "2024-10-23 06:49:15,387 - AInewsbot - INFO - got dict with 36 items \n",
      "2024-10-23 06:49:16,635 - AInewsbot - INFO - got dict with 50 items \n",
      "2024-10-23 06:49:16,637 - AInewsbot - INFO - Processed 86 responses.\n",
      "2024-10-23 06:49:16,638 - AInewsbot - INFO - Speech Recognition & Synthesis, topic 85 of 100\n",
      "2024-10-23 06:49:16,639 - AInewsbot - INFO - Applying prompt to 2 pages using gpt-4o-mini\n",
      "2024-10-23 06:49:16,641 - AInewsbot - INFO - sent 50 items \n",
      "2024-10-23 06:49:16,642 - AInewsbot - INFO - sent 36 items \n",
      "2024-10-23 06:49:19,100 - AInewsbot - INFO - got dict with 36 items \n",
      "2024-10-23 06:49:20,018 - AInewsbot - INFO - got dict with 50 items \n",
      "2024-10-23 06:49:20,021 - AInewsbot - INFO - Processed 86 responses.\n",
      "2024-10-23 06:49:20,021 - AInewsbot - INFO - Sports, topic 86 of 100\n",
      "2024-10-23 06:49:20,022 - AInewsbot - INFO - Applying prompt to 2 pages using gpt-4o-mini\n",
      "2024-10-23 06:49:20,023 - AInewsbot - INFO - sent 50 items \n",
      "2024-10-23 06:49:20,025 - AInewsbot - INFO - sent 36 items \n",
      "2024-10-23 06:49:22,562 - AInewsbot - INFO - got dict with 36 items \n",
      "2024-10-23 06:49:23,485 - AInewsbot - INFO - got dict with 50 items \n",
      "2024-10-23 06:49:23,488 - AInewsbot - INFO - Processed 86 responses.\n",
      "2024-10-23 06:49:23,488 - AInewsbot - INFO - Stocks, topic 87 of 100\n",
      "2024-10-23 06:49:23,488 - AInewsbot - INFO - Applying prompt to 2 pages using gpt-4o-mini\n",
      "2024-10-23 06:49:23,489 - AInewsbot - INFO - sent 50 items \n",
      "2024-10-23 06:49:23,490 - AInewsbot - INFO - sent 36 items \n",
      "2024-10-23 06:49:26,300 - AInewsbot - INFO - got dict with 36 items \n",
      "2024-10-23 06:49:27,391 - AInewsbot - INFO - got dict with 50 items \n",
      "2024-10-23 06:49:27,392 - AInewsbot - INFO - Processed 86 responses.\n",
      "2024-10-23 06:49:27,392 - AInewsbot - INFO - Streaming, topic 88 of 100\n",
      "2024-10-23 06:49:27,393 - AInewsbot - INFO - Applying prompt to 2 pages using gpt-4o-mini\n",
      "2024-10-23 06:49:27,393 - AInewsbot - INFO - sent 50 items \n",
      "2024-10-23 06:49:27,394 - AInewsbot - INFO - sent 36 items \n",
      "2024-10-23 06:49:29,567 - AInewsbot - INFO - got dict with 36 items \n",
      "2024-10-23 06:49:30,239 - AInewsbot - INFO - got dict with 50 items \n",
      "2024-10-23 06:49:30,241 - AInewsbot - INFO - Processed 86 responses.\n",
      "2024-10-23 06:49:30,241 - AInewsbot - INFO - Supply chain optimization, topic 89 of 100\n",
      "2024-10-23 06:49:30,242 - AInewsbot - INFO - Applying prompt to 2 pages using gpt-4o-mini\n",
      "2024-10-23 06:49:30,243 - AInewsbot - INFO - sent 50 items \n",
      "2024-10-23 06:49:30,244 - AInewsbot - INFO - sent 36 items \n",
      "2024-10-23 06:49:33,936 - AInewsbot - INFO - got dict with 36 items \n",
      "2024-10-23 06:49:35,076 - AInewsbot - INFO - got dict with 50 items \n",
      "2024-10-23 06:49:35,078 - AInewsbot - INFO - Processed 86 responses.\n",
      "2024-10-23 06:49:35,081 - AInewsbot - INFO - Sustainability, topic 90 of 100\n",
      "2024-10-23 06:49:35,081 - AInewsbot - INFO - Applying prompt to 2 pages using gpt-4o-mini\n",
      "2024-10-23 06:49:35,083 - AInewsbot - INFO - sent 50 items \n",
      "2024-10-23 06:49:35,084 - AInewsbot - INFO - sent 36 items \n",
      "2024-10-23 06:49:38,303 - AInewsbot - INFO - got dict with 36 items \n",
      "2024-10-23 06:49:39,265 - AInewsbot - INFO - got dict with 50 items \n",
      "2024-10-23 06:49:39,274 - AInewsbot - INFO - Processed 86 responses.\n",
      "2024-10-23 06:49:39,275 - AInewsbot - INFO - TV & Film & Movies, topic 91 of 100\n",
      "2024-10-23 06:49:39,276 - AInewsbot - INFO - Applying prompt to 2 pages using gpt-4o-mini\n",
      "2024-10-23 06:49:39,276 - AInewsbot - INFO - sent 50 items \n",
      "2024-10-23 06:49:39,278 - AInewsbot - INFO - sent 36 items \n",
      "2024-10-23 06:49:42,020 - AInewsbot - INFO - got dict with 36 items \n",
      "2024-10-23 06:49:42,907 - AInewsbot - INFO - got dict with 50 items \n",
      "2024-10-23 06:49:42,908 - AInewsbot - INFO - Processed 86 responses.\n",
      "2024-10-23 06:49:42,909 - AInewsbot - INFO - Taiwan, topic 92 of 100\n",
      "2024-10-23 06:49:42,909 - AInewsbot - INFO - Applying prompt to 2 pages using gpt-4o-mini\n",
      "2024-10-23 06:49:42,910 - AInewsbot - INFO - sent 50 items \n",
      "2024-10-23 06:49:42,911 - AInewsbot - INFO - sent 36 items \n",
      "2024-10-23 06:49:45,452 - AInewsbot - INFO - got dict with 36 items \n",
      "2024-10-23 06:49:46,219 - AInewsbot - INFO - got dict with 50 items \n",
      "2024-10-23 06:49:46,221 - AInewsbot - INFO - Processed 86 responses.\n",
      "2024-10-23 06:49:46,222 - AInewsbot - INFO - Testing, topic 93 of 100\n",
      "2024-10-23 06:49:46,223 - AInewsbot - INFO - Applying prompt to 2 pages using gpt-4o-mini\n",
      "2024-10-23 06:49:46,224 - AInewsbot - INFO - sent 50 items \n",
      "2024-10-23 06:49:46,225 - AInewsbot - INFO - sent 36 items \n",
      "2024-10-23 06:49:49,210 - AInewsbot - INFO - got dict with 36 items \n",
      "2024-10-23 06:49:50,652 - AInewsbot - INFO - got dict with 50 items \n",
      "2024-10-23 06:49:50,654 - AInewsbot - INFO - Processed 86 responses.\n",
      "2024-10-23 06:49:50,655 - AInewsbot - INFO - Transformers, topic 94 of 100\n",
      "2024-10-23 06:49:50,656 - AInewsbot - INFO - Applying prompt to 2 pages using gpt-4o-mini\n",
      "2024-10-23 06:49:50,658 - AInewsbot - INFO - sent 50 items \n",
      "2024-10-23 06:49:50,659 - AInewsbot - INFO - sent 36 items \n",
      "2024-10-23 06:49:53,613 - AInewsbot - INFO - got dict with 36 items \n",
      "2024-10-23 06:49:54,369 - AInewsbot - INFO - got dict with 50 items \n",
      "2024-10-23 06:49:54,371 - AInewsbot - INFO - Processed 86 responses.\n",
      "2024-10-23 06:49:54,372 - AInewsbot - INFO - Transportation, topic 95 of 100\n",
      "2024-10-23 06:49:54,373 - AInewsbot - INFO - Applying prompt to 2 pages using gpt-4o-mini\n",
      "2024-10-23 06:49:54,375 - AInewsbot - INFO - sent 50 items \n",
      "2024-10-23 06:49:54,376 - AInewsbot - INFO - sent 36 items \n",
      "2024-10-23 06:49:57,790 - AInewsbot - INFO - got dict with 36 items \n",
      "2024-10-23 06:49:58,812 - AInewsbot - INFO - got dict with 50 items \n",
      "2024-10-23 06:49:58,815 - AInewsbot - INFO - Processed 86 responses.\n",
      "2024-10-23 06:49:58,815 - AInewsbot - INFO - Travel, topic 96 of 100\n",
      "2024-10-23 06:49:58,816 - AInewsbot - INFO - Applying prompt to 2 pages using gpt-4o-mini\n",
      "2024-10-23 06:49:58,816 - AInewsbot - INFO - sent 50 items \n",
      "2024-10-23 06:49:58,817 - AInewsbot - INFO - sent 36 items \n",
      "2024-10-23 06:50:01,475 - AInewsbot - INFO - got dict with 36 items \n",
      "2024-10-23 06:50:02,310 - AInewsbot - INFO - got dict with 50 items \n",
      "2024-10-23 06:50:02,312 - AInewsbot - INFO - Processed 86 responses.\n",
      "2024-10-23 06:50:02,312 - AInewsbot - INFO - UK, topic 97 of 100\n",
      "2024-10-23 06:50:02,313 - AInewsbot - INFO - Applying prompt to 2 pages using gpt-4o-mini\n",
      "2024-10-23 06:50:02,314 - AInewsbot - INFO - sent 50 items \n",
      "2024-10-23 06:50:02,315 - AInewsbot - INFO - sent 36 items \n",
      "2024-10-23 06:50:04,838 - AInewsbot - INFO - got dict with 36 items \n",
      "2024-10-23 06:50:05,879 - AInewsbot - INFO - got dict with 50 items \n",
      "2024-10-23 06:50:05,881 - AInewsbot - INFO - Processed 86 responses.\n",
      "2024-10-23 06:50:05,882 - AInewsbot - INFO - Venture Capital, topic 98 of 100\n",
      "2024-10-23 06:50:05,883 - AInewsbot - INFO - Applying prompt to 2 pages using gpt-4o-mini\n",
      "2024-10-23 06:50:05,885 - AInewsbot - INFO - sent 50 items \n",
      "2024-10-23 06:50:05,886 - AInewsbot - INFO - sent 36 items \n",
      "2024-10-23 06:50:08,280 - AInewsbot - INFO - got dict with 36 items \n"
     ]
    },
    {
     "name": "stderr",
     "output_type": "stream",
     "text": [
      "2024-10-23 06:50:09,177 - AInewsbot - INFO - got dict with 50 items \n",
      "2024-10-23 06:50:09,179 - AInewsbot - INFO - Processed 86 responses.\n",
      "2024-10-23 06:50:09,180 - AInewsbot - INFO - Virtual & Augmented Reality, topic 99 of 100\n",
      "2024-10-23 06:50:09,181 - AInewsbot - INFO - Applying prompt to 2 pages using gpt-4o-mini\n",
      "2024-10-23 06:50:09,182 - AInewsbot - INFO - sent 50 items \n",
      "2024-10-23 06:50:09,183 - AInewsbot - INFO - sent 36 items \n",
      "2024-10-23 06:50:11,581 - AInewsbot - INFO - got dict with 36 items \n",
      "2024-10-23 06:50:12,536 - AInewsbot - INFO - got dict with 50 items \n",
      "2024-10-23 06:50:12,539 - AInewsbot - INFO - Processed 86 responses.\n",
      "2024-10-23 06:50:12,541 - AInewsbot - INFO - Virtual Assistants, topic 100 of 100\n",
      "2024-10-23 06:50:12,542 - AInewsbot - INFO - Applying prompt to 2 pages using gpt-4o-mini\n",
      "2024-10-23 06:50:12,544 - AInewsbot - INFO - sent 50 items \n",
      "2024-10-23 06:50:12,545 - AInewsbot - INFO - sent 36 items \n",
      "2024-10-23 06:50:15,915 - AInewsbot - INFO - got dict with 36 items \n",
      "2024-10-23 06:50:18,067 - AInewsbot - INFO - got dict with 50 items \n",
      "2024-10-23 06:50:18,069 - AInewsbot - INFO - Processed 86 responses.\n",
      "2024-10-23 06:50:18,070 - AInewsbot - INFO - end canonical topic classification\n",
      "2024-10-23 06:50:18,086 - AInewsbot - INFO - Fetching embeddings for 86 headlines\n",
      "2024-10-23 06:50:18,734 - httpx - INFO - HTTP Request: POST https://api.openai.com/v1/embeddings \"HTTP/1.1 200 OK\"\n",
      "2024-10-23 06:50:19,005 - AInewsbot - INFO - Sort with nearest_neighbor_sort sort\n",
      "2024-10-23 06:50:19,029 - AInewsbot - INFO - Load umap dimensionality reduction model\n",
      "2024-10-23 06:50:20,702 - AInewsbot - INFO - Perform dimensionality reduction\n",
      "2024-10-23 06:50:22,244 - AInewsbot - INFO - Cluster with DBSCAN\n"
     ]
    },
    {
     "data": {
      "text/html": [
       "<div>\n",
       "<style scoped>\n",
       "    .dataframe tbody tr th:only-of-type {\n",
       "        vertical-align: middle;\n",
       "    }\n",
       "\n",
       "    .dataframe tbody tr th {\n",
       "        vertical-align: top;\n",
       "    }\n",
       "\n",
       "    .dataframe thead th {\n",
       "        text-align: right;\n",
       "    }\n",
       "</style>\n",
       "<table border=\"1\" class=\"dataframe\">\n",
       "  <thead>\n",
       "    <tr style=\"text-align: right;\">\n",
       "      <th></th>\n",
       "      <th>id</th>\n",
       "      <th>title_topic_str</th>\n",
       "    </tr>\n",
       "  </thead>\n",
       "  <tbody>\n",
       "    <tr>\n",
       "      <th>0</th>\n",
       "      <td>0</td>\n",
       "      <td>AI sparks backlash from ABBA, Radiohead, and The Curethousands of artists sign letter protesting the use of their work to train robots (Topics: Abba, Art &amp; Design, Authors &amp; Writing, Bias And Fairness, Entertainment, Ethics, Gen AI, Intellectual Property, Legal Issues, Music, Musicians, Policy And Regulation, Protest, Radiohead, Robots, Society &amp; Culture, The Cure, Training Data)</td>\n",
       "    </tr>\n",
       "    <tr>\n",
       "      <th>1</th>\n",
       "      <td>1</td>\n",
       "      <td>ABBA, Radiohead and The Cure musicians sign AI protest letter against 'unlicensed use' of works (Topics: Abba, Art &amp; Design, Authors &amp; Writing, Bias And Fairness, Entertainment, Ethics, Gen AI, Intellectual Property, Legal Issues, Music, Musicians, Policy And Regulation, Protest, Radiohead, Society &amp; Culture, The Cure, Unlicensed Use)</td>\n",
       "    </tr>\n",
       "    <tr>\n",
       "      <th>2</th>\n",
       "      <td>2</td>\n",
       "      <td>ABBA, Radiohead and The Cure musicians sign AI protest letter against unlicensed use' of works (Topics: Abba, Art &amp; Design, Authors &amp; Writing, Bias And Fairness, Entertainment, Ethics, Gen AI, Intellectual Property, Legal Issues, Music, Musicians, Policy And Regulation, Protest, Radiohead, Society &amp; Culture, The Cure, Unlicensed Use)</td>\n",
       "    </tr>\n",
       "  </tbody>\n",
       "</table>\n",
       "</div>"
      ],
      "text/plain": [
       "   id  \\\n",
       "0   0   \n",
       "1   1   \n",
       "2   2   \n",
       "\n",
       "                                                                                                                                                                                                                                                                                                                                                                                  title_topic_str  \n",
       "0  AI sparks backlash from ABBA, Radiohead, and The Curethousands of artists sign letter protesting the use of their work to train robots (Topics: Abba, Art & Design, Authors & Writing, Bias And Fairness, Entertainment, Ethics, Gen AI, Intellectual Property, Legal Issues, Music, Musicians, Policy And Regulation, Protest, Radiohead, Robots, Society & Culture, The Cure, Training Data)  \n",
       "1                                                ABBA, Radiohead and The Cure musicians sign AI protest letter against 'unlicensed use' of works (Topics: Abba, Art & Design, Authors & Writing, Bias And Fairness, Entertainment, Ethics, Gen AI, Intellectual Property, Legal Issues, Music, Musicians, Policy And Regulation, Protest, Radiohead, Society & Culture, The Cure, Unlicensed Use)  \n",
       "2                                                 ABBA, Radiohead and The Cure musicians sign AI protest letter against unlicensed use' of works (Topics: Abba, Art & Design, Authors & Writing, Bias And Fairness, Entertainment, Ethics, Gen AI, Intellectual Property, Legal Issues, Music, Musicians, Policy And Regulation, Protest, Radiohead, Society & Culture, The Cure, Unlicensed Use)  "
      ]
     },
     "metadata": {},
     "output_type": "display_data"
    },
    {
     "name": "stderr",
     "output_type": "stream",
     "text": [
      "2024-10-23 06:50:23,289 - AInewsbot - INFO - {'topic_title': 'Musicians Protest AI and Copyright Issues'}\n",
      "2024-10-23 06:50:23,290 - AInewsbot - INFO - I dub this cluster: Musicians Protest AI and Copyright Issues\n"
     ]
    },
    {
     "data": {
      "text/html": [
       "<div>\n",
       "<style scoped>\n",
       "    .dataframe tbody tr th:only-of-type {\n",
       "        vertical-align: middle;\n",
       "    }\n",
       "\n",
       "    .dataframe tbody tr th {\n",
       "        vertical-align: top;\n",
       "    }\n",
       "\n",
       "    .dataframe thead th {\n",
       "        text-align: right;\n",
       "    }\n",
       "</style>\n",
       "<table border=\"1\" class=\"dataframe\">\n",
       "  <thead>\n",
       "    <tr style=\"text-align: right;\">\n",
       "      <th></th>\n",
       "      <th>id</th>\n",
       "      <th>title_topic_str</th>\n",
       "    </tr>\n",
       "  </thead>\n",
       "  <tbody>\n",
       "    <tr>\n",
       "      <th>3</th>\n",
       "      <td>3</td>\n",
       "      <td>A leaked internal report claims Apple Intelligence could be two years behind OpenAI's ChatGPT but its hard to count the iPhone maker out of the AI race: By 2026, nearly every Apple device with a screen will run it\" (Topics: Apple, Chatbots, Chatgpt, Gen AI, Hardware, Internal Report, Language Models, OpenAI, Products, Technology Competition, Virtual Assistants)</td>\n",
       "    </tr>\n",
       "    <tr>\n",
       "      <th>4</th>\n",
       "      <td>4</td>\n",
       "      <td>An interview with Craig Federighi on the launch of Apple Intelligence features like notification summaries in iOS 18.1, Siri, Apple's AI strategy, and more (Topics: AI Features, Apple, Chatbots, Craig Federighi, Gen AI, Hardware, Ios 18.1, Language Models, Products, Siri, Speech Recognition &amp; Synthesis, Technology Strategy, Virtual Assistants)</td>\n",
       "    </tr>\n",
       "    <tr>\n",
       "      <th>5</th>\n",
       "      <td>5</td>\n",
       "      <td>Apple's Software Chief Explains AI Delays, Future of Siri and More (Topics: AI Delays, Apple, Chatbots, Craig Federighi, Gen AI, Hardware, Language Models, Products, Siri, Speech Recognition &amp; Synthesis, Technology Strategy, Virtual Assistants)</td>\n",
       "    </tr>\n",
       "    <tr>\n",
       "      <th>6</th>\n",
       "      <td>6</td>\n",
       "      <td>Craig Federighi says Siri won't become sentient, but it'll get better (Topics: AI Development, Apple, Chatbots, Consciousness, Craig Federighi, Gen AI, Language Models, Sentience, Siri, Speech Recognition &amp; Synthesis, Virtual Assistants)</td>\n",
       "    </tr>\n",
       "    <tr>\n",
       "      <th>7</th>\n",
       "      <td>7</td>\n",
       "      <td>Apples Craig Federighi Explains Apple Intelligence Delays, Siris Future and More | WSJ (Topics: AI Delays, Apple, Chatbots, Craig Federighi, Gen AI, Hardware, Language Models, Products, Siri, Speech Recognition &amp; Synthesis, Technology Strategy, Virtual Assistants)</td>\n",
       "    </tr>\n",
       "    <tr>\n",
       "      <th>8</th>\n",
       "      <td>8</td>\n",
       "      <td>Apple Intelligence Isnt Very Smart Yetand Apples OK With That (Topics: Apple, Gen AI, Intelligence, Technology Assessment, Virtual Assistants)</td>\n",
       "    </tr>\n",
       "    <tr>\n",
       "      <th>9</th>\n",
       "      <td>9</td>\n",
       "      <td>'New AI update to lock phones will deter thieves' (Topics: Phone Security, Safety And Alignment, Technology Update, Theft Prevention)</td>\n",
       "    </tr>\n",
       "    <tr>\n",
       "      <th>10</th>\n",
       "      <td>10</td>\n",
       "      <td>Full Interview: Apples Software Chief Craig Federighi on Future of iPhone AI (Topics: Apple, Chatbots, Craig Federighi, Gen AI, Hardware, Iphone, Language Models, Products, Speech Recognition &amp; Synthesis, Technology Interview, Virtual Assistants)</td>\n",
       "    </tr>\n",
       "    <tr>\n",
       "      <th>11</th>\n",
       "      <td>11</td>\n",
       "      <td>Craig Federighi Explains Phased Release of Apple Intelligence Features (Topics: AI Features, Apple, Chatbots, Craig Federighi, Gen AI, Hardware, Language Models, Products, Speech Recognition &amp; Synthesis, Technology Rollout, Virtual Assistants)</td>\n",
       "    </tr>\n",
       "  </tbody>\n",
       "</table>\n",
       "</div>"
      ],
      "text/plain": [
       "    id  \\\n",
       "3    3   \n",
       "4    4   \n",
       "5    5   \n",
       "6    6   \n",
       "7    7   \n",
       "8    8   \n",
       "9    9   \n",
       "10  10   \n",
       "11  11   \n",
       "\n",
       "                                                                                                                                                                                                                                                                                                                                                                title_topic_str  \n",
       "3   A leaked internal report claims Apple Intelligence could be two years behind OpenAI's ChatGPT but its hard to count the iPhone maker out of the AI race: By 2026, nearly every Apple device with a screen will run it\" (Topics: Apple, Chatbots, Chatgpt, Gen AI, Hardware, Internal Report, Language Models, OpenAI, Products, Technology Competition, Virtual Assistants)  \n",
       "4                     An interview with Craig Federighi on the launch of Apple Intelligence features like notification summaries in iOS 18.1, Siri, Apple's AI strategy, and more (Topics: AI Features, Apple, Chatbots, Craig Federighi, Gen AI, Hardware, Ios 18.1, Language Models, Products, Siri, Speech Recognition & Synthesis, Technology Strategy, Virtual Assistants)  \n",
       "5                                                                                                                          Apple's Software Chief Explains AI Delays, Future of Siri and More (Topics: AI Delays, Apple, Chatbots, Craig Federighi, Gen AI, Hardware, Language Models, Products, Siri, Speech Recognition & Synthesis, Technology Strategy, Virtual Assistants)  \n",
       "6                                                                                                                                 Craig Federighi says Siri won't become sentient, but it'll get better (Topics: AI Development, Apple, Chatbots, Consciousness, Craig Federighi, Gen AI, Language Models, Sentience, Siri, Speech Recognition & Synthesis, Virtual Assistants)  \n",
       "7                                                                                                      Apples Craig Federighi Explains Apple Intelligence Delays, Siris Future and More | WSJ (Topics: AI Delays, Apple, Chatbots, Craig Federighi, Gen AI, Hardware, Language Models, Products, Siri, Speech Recognition & Synthesis, Technology Strategy, Virtual Assistants)  \n",
       "8                                                                                                                                                                                                                                Apple Intelligence Isnt Very Smart Yetand Apples OK With That (Topics: Apple, Gen AI, Intelligence, Technology Assessment, Virtual Assistants)  \n",
       "9                                                                                                                                                                                                                                         'New AI update to lock phones will deter thieves' (Topics: Phone Security, Safety And Alignment, Technology Update, Theft Prevention)  \n",
       "10                                                                                                                       Full Interview: Apples Software Chief Craig Federighi on Future of iPhone AI (Topics: Apple, Chatbots, Craig Federighi, Gen AI, Hardware, Iphone, Language Models, Products, Speech Recognition & Synthesis, Technology Interview, Virtual Assistants)  \n",
       "11                                                                                                                          Craig Federighi Explains Phased Release of Apple Intelligence Features (Topics: AI Features, Apple, Chatbots, Craig Federighi, Gen AI, Hardware, Language Models, Products, Speech Recognition & Synthesis, Technology Rollout, Virtual Assistants)  "
      ]
     },
     "metadata": {},
     "output_type": "display_data"
    },
    {
     "name": "stderr",
     "output_type": "stream",
     "text": [
      "2024-10-23 06:50:26,432 - AInewsbot - INFO - {'topic_title': \"Apple's AI Development and Strategy\"}\n",
      "2024-10-23 06:50:26,432 - AInewsbot - INFO - I dub this cluster: Apple's AI Development and Strategy\n"
     ]
    },
    {
     "data": {
      "text/html": [
       "<div>\n",
       "<style scoped>\n",
       "    .dataframe tbody tr th:only-of-type {\n",
       "        vertical-align: middle;\n",
       "    }\n",
       "\n",
       "    .dataframe tbody tr th {\n",
       "        vertical-align: top;\n",
       "    }\n",
       "\n",
       "    .dataframe thead th {\n",
       "        text-align: right;\n",
       "    }\n",
       "</style>\n",
       "<table border=\"1\" class=\"dataframe\">\n",
       "  <thead>\n",
       "    <tr style=\"text-align: right;\">\n",
       "      <th></th>\n",
       "      <th>id</th>\n",
       "      <th>title_topic_str</th>\n",
       "    </tr>\n",
       "  </thead>\n",
       "  <tbody>\n",
       "    <tr>\n",
       "      <th>12</th>\n",
       "      <td>12</td>\n",
       "      <td>Qualcomms Snapdragon 8 Elite to give Chinese smartphones an AI power boost (Topics: China, Gen AI, Hardware, Performance, Products, Qualcomm, Semiconductor Chips, Smartphones, Snapdragon 8 Elite)</td>\n",
       "    </tr>\n",
       "    <tr>\n",
       "      <th>13</th>\n",
       "      <td>13</td>\n",
       "      <td>Qualcomm and Google team up to help carmakers create AI voice systems (Topics: Automotive, Autonomous Vehicles, Chatbots, Gen AI, Google, Hardware, Products, Qualcomm, Semiconductor Chips, Speech Recognition &amp; Synthesis, Transportation, Virtual Assistants, Voice Systems)</td>\n",
       "    </tr>\n",
       "    <tr>\n",
       "      <th>14</th>\n",
       "      <td>14</td>\n",
       "      <td>Qualcomm and Google to collaborate on more intelligent cars with integrated generative AI (Topics: Autonomous Vehicles, Chatbots, Gen AI, Generative AI, Google, Hardware, Intelligent Cars, Language Models, Products, Qualcomm, Retrieval Augmented Generation, Semiconductor Chips, Transportation, Virtual Assistants)</td>\n",
       "    </tr>\n",
       "    <tr>\n",
       "      <th>15</th>\n",
       "      <td>15</td>\n",
       "      <td>Qualcomm CEO Says Everyone Will Have AI Smartphone in Five Years (Topics: Ceo, Future Predictions, Gen AI, Hardware, Products, Qualcomm, Semiconductor Chips, Smartphones)</td>\n",
       "    </tr>\n",
       "  </tbody>\n",
       "</table>\n",
       "</div>"
      ],
      "text/plain": [
       "    id  \\\n",
       "12  12   \n",
       "13  13   \n",
       "14  14   \n",
       "15  15   \n",
       "\n",
       "                                                                                                                                                                                                                                                                                                               title_topic_str  \n",
       "12                                                                                                                         Qualcomms Snapdragon 8 Elite to give Chinese smartphones an AI power boost (Topics: China, Gen AI, Hardware, Performance, Products, Qualcomm, Semiconductor Chips, Smartphones, Snapdragon 8 Elite)  \n",
       "13                                             Qualcomm and Google team up to help carmakers create AI voice systems (Topics: Automotive, Autonomous Vehicles, Chatbots, Gen AI, Google, Hardware, Products, Qualcomm, Semiconductor Chips, Speech Recognition & Synthesis, Transportation, Virtual Assistants, Voice Systems)  \n",
       "14  Qualcomm and Google to collaborate on more intelligent cars with integrated generative AI (Topics: Autonomous Vehicles, Chatbots, Gen AI, Generative AI, Google, Hardware, Intelligent Cars, Language Models, Products, Qualcomm, Retrieval Augmented Generation, Semiconductor Chips, Transportation, Virtual Assistants)  \n",
       "15                                                                                                                                                  Qualcomm CEO Says Everyone Will Have AI Smartphone in Five Years (Topics: Ceo, Future Predictions, Gen AI, Hardware, Products, Qualcomm, Semiconductor Chips, Smartphones)  "
      ]
     },
     "metadata": {},
     "output_type": "display_data"
    },
    {
     "name": "stderr",
     "output_type": "stream",
     "text": [
      "2024-10-23 06:50:27,281 - AInewsbot - INFO - {'topic_title': 'AI in Smartphones and Automotive Technology'}\n",
      "2024-10-23 06:50:27,282 - AInewsbot - INFO - I dub this cluster: AI in Smartphones and Automotive Technology\n",
      "2024-10-23 06:50:27,318 - AInewsbot - INFO - Queuing URLs for scraping\n",
      "2024-10-23 06:50:27,321 - AInewsbot - INFO - fetching 86 pages using 4 browsers\n",
      "2024-10-23 06:50:27,322 - AInewsbot - INFO - get_driver - 60664 Initializing webdriver\n",
      "2024-10-23 06:50:27,324 - AInewsbot - INFO - get_driver - 60664 Initializing webdriver\n",
      "2024-10-23 06:50:27,324 - AInewsbot - INFO - get_driver - 60664 Initializing webdriver\n",
      "2024-10-23 06:50:27,324 - AInewsbot - INFO - get_driver - 60664 Initializing webdriver\n"
     ]
    },
    {
     "name": "stdout",
     "output_type": "stream",
     "text": [
      "['Musicians Protest AI and Copyright Issues', \"Apple's AI Development and Strategy\", 'AI in Smartphones and Automotive Technology']\n"
     ]
    },
    {
     "name": "stderr",
     "output_type": "stream",
     "text": [
      "2024-10-23 06:50:44,967 - AInewsbot - INFO - get_driver - Initialized webdriver profile\n",
      "2024-10-23 06:50:44,967 - AInewsbot - INFO - get_driver - Initialized webdriver profile\n",
      "2024-10-23 06:50:44,967 - AInewsbot - INFO - get_driver - Initialized webdriver profile\n",
      "2024-10-23 06:50:44,968 - AInewsbot - INFO - get_driver - Initialized webdriver profile\n",
      "2024-10-23 06:50:44,968 - AInewsbot - INFO - get_driver - Initialized webdriver service\n",
      "2024-10-23 06:50:44,968 - AInewsbot - INFO - get_driver - Initialized webdriver service\n",
      "2024-10-23 06:50:44,969 - AInewsbot - INFO - get_driver - Initialized webdriver service\n",
      "2024-10-23 06:50:44,969 - AInewsbot - INFO - get_driver - Initialized webdriver service\n",
      "2024-10-23 06:51:39,547 - AInewsbot - INFO - get_driver - Initialized webdriver\n",
      "2024-10-23 06:51:39,713 - AInewsbot - INFO - Processing page 0: https://news.google.com/read/CBMioAFBVV95cUxOUFVnV3E3bTlQLVB5Y1VSekREaDNHU0FlcGxDcUV5QUhGRmpUX1psZnRUU2ZpU2xtVXkxYTVlS1F1U3I3NGVWT1hNU18zd1FEaFp1bm9KNWlXWFdlMDBfc0t5MHktWTZYaUJiVk1JT3BsYVJOMW1TNDdPRE5ZZGZTUlpZLXBjbVNUd0NFaWxiamRjdWlDOFFZVTdTMG1VUjJa\n",
      "2024-10-23 06:51:39,715 - AInewsbot - INFO - get_url(https://news.google.com/read/CBMioAFBVV95cUxOUFVnV3E3bTlQLVB5Y1VSekREaDNHU0FlcGxDcUV5QUhGRmpUX1psZnRUU2ZpU2xtVXkxYTVlS1F1U3I3NGVWT1hNU18zd1FEaFp1bm9KNWlXWFdlMDBfc0t5MHktWTZYaUJiVk1JT3BsYVJOMW1TNDdPRE5ZZGZTUlpZLXBjbVNUd0NFaWxiamRjdWlDOFFZVTdTMG1VUjJa) - starting get_url https://news.google.com/read/CBMioAFBVV95cUxOUFVnV3E3bTlQLVB5Y1VSekREaDNHU0FlcGxDcUV5QUhGRmpUX1psZnRUU2ZpU2xtVXkxYTVlS1F1U3I3NGVWT1hNU18zd1FEaFp1bm9KNWlXWFdlMDBfc0t5MHktWTZYaUJiVk1JT3BsYVJOMW1TNDdPRE5ZZGZTUlpZLXBjbVNUd0NFaWxiamRjdWlDOFFZVTdTMG1VUjJa\n",
      "2024-10-23 06:51:40,592 - AInewsbot - INFO - get_driver - Initialized webdriver\n",
      "2024-10-23 06:51:40,657 - AInewsbot - INFO - Processing page 1: https://www.washingtonpost.com/business/2024/10/22/generative-ai-abba-radiohead-thom-yorke/762d15c0-90b9-11ef-b5b1-75167840d9f3_story.html\n",
      "2024-10-23 06:51:40,658 - AInewsbot - INFO - get_url(https://www.washingtonpost.com/business/2024/10/22/generative-ai-abba-radiohead-thom-yorke/762d15c0-90b9-11ef-b5b1-75167840d9f3_story.html) - starting get_url https://www.washingtonpost.com/business/2024/10/22/generative-ai-abba-radiohead-thom-yorke/762d15c0-90b9-11ef-b5b1-75167840d9f3_story.html\n",
      "2024-10-23 06:51:40,780 - AInewsbot - INFO - get_driver - Initialized webdriver\n",
      "2024-10-23 06:51:40,808 - AInewsbot - INFO - Processing page 2: https://thehill.com/homenews/ap/ap-business/ap-abba-radiohead-and-the-cure-musicians-sign-ai-protest-letter-against-unlicensed-use-of-works-2\n",
      "2024-10-23 06:51:40,811 - AInewsbot - INFO - get_url(https://thehill.com/homenews/ap/ap-business/ap-abba-radiohead-and-the-cure-musicians-sign-ai-protest-letter-against-unlicensed-use-of-works-2) - starting get_url https://thehill.com/homenews/ap/ap-business/ap-abba-radiohead-and-the-cure-musicians-sign-ai-protest-letter-against-unlicensed-use-of-works-2\n",
      "2024-10-23 06:51:42,545 - AInewsbot - INFO - get_driver - Initialized webdriver\n",
      "2024-10-23 06:51:42,552 - AInewsbot - INFO - Processing page 3: https://www.windowscentral.com/software-apps/apple-intelligence-could-already-be-behind-chatgpt\n",
      "2024-10-23 06:51:42,555 - AInewsbot - INFO - get_url(https://www.windowscentral.com/software-apps/apple-intelligence-could-already-be-behind-chatgpt) - starting get_url https://www.windowscentral.com/software-apps/apple-intelligence-could-already-be-behind-chatgpt\n",
      "2024-10-23 06:51:50,807 - AInewsbot - INFO - get_url(AI sparks backlash from ABBA, Radiohead, and The Curethousands of artists sign letter protesting the use of their work to train robots) - Saving AI_sparks_backlash_from_ABBA__Radiohead__and_The_Curethousands_of_artists_sign_letter_protesting_the_use_of_their_work_to_train_robots.html as utf-8\n",
      "2024-10-23 06:51:50,810 - AInewsbot - INFO - Processing page 4: https://www.wsj.com/tech/personal-tech/apple-intelligence-3833c320\n",
      "2024-10-23 06:51:50,811 - AInewsbot - INFO - get_url(https://www.wsj.com/tech/personal-tech/apple-intelligence-3833c320) - starting get_url https://www.wsj.com/tech/personal-tech/apple-intelligence-3833c320\n",
      "2024-10-23 06:51:53,806 - AInewsbot - INFO - get_url(A leaked internal report claims Apple Intelligence could be two years behind OpenAI's ChatGPT but its hard to count the iPhone maker out of the AI race: By 2026, nearly every Apple device with a screen will run it\") - Saving A_leaked_internal_report_claims_Apple_Intelligence_could_be_two_years_behind_OpenAI_s_ChatGPT_but_its_hard_to_count_the_iPhone_maker_out_of_the_AI_race__By_2026__nearly_every_Apple_device_with_a_screen_will_run_it_.html as utf-8\n",
      "2024-10-23 06:51:53,809 - AInewsbot - INFO - Processing page 5: https://www.wsj.com/video/series/joanna-stern-personal-technology/apple-software-chief-explains-ai-delays-future-of-siri-and-more/7F3883B2-0404-4618-97EE-5ABA1AC1602C\n",
      "2024-10-23 06:51:53,809 - AInewsbot - INFO - get_url(https://www.wsj.com/video/series/joanna-stern-personal-technology/apple-software-chief-explains-ai-delays-future-of-siri-and-more/7F3883B2-0404-4618-97EE-5ABA1AC1602C) - starting get_url https://www.wsj.com/video/series/joanna-stern-personal-technology/apple-software-chief-explains-ai-delays-future-of-siri-and-more/7F3883B2-0404-4618-97EE-5ABA1AC1602C\n",
      "2024-10-23 06:51:53,943 - AInewsbot - INFO - get_url(ABBA, Radiohead and The Cure musicians sign AI protest letter against 'unlicensed use' of works) - Saving ABBA__Radiohead_and_The_Cure_musicians_sign_AI_protest_letter_against__unlicensed_use__of_works.html as utf-8\n",
      "2024-10-23 06:51:53,946 - AInewsbot - INFO - Processing page 6: https://appleinsider.com/articles/24/10/23/craig-federighi-says-siri-wont-become-sentient-but-itll-get-better\n",
      "2024-10-23 06:51:53,946 - AInewsbot - INFO - get_url(https://appleinsider.com/articles/24/10/23/craig-federighi-says-siri-wont-become-sentient-but-itll-get-better) - starting get_url https://appleinsider.com/articles/24/10/23/craig-federighi-says-siri-wont-become-sentient-but-itll-get-better\n",
      "2024-10-23 06:51:55,412 - AInewsbot - INFO - get_url(ABBA, Radiohead and The Cure musicians sign AI protest letter against unlicensed use' of works) - Saving ABBA__Radiohead_and_The_Cure_musicians_sign_AI_protest_letter_against_unlicensed_use__of_works.html as utf-8\n",
      "2024-10-23 06:51:55,414 - AInewsbot - INFO - Processing page 7: https://news.google.com/read/CCAiC2ZyOEFMY0VpWUFrmAEB\n",
      "2024-10-23 06:51:55,414 - AInewsbot - INFO - get_url(https://news.google.com/read/CCAiC2ZyOEFMY0VpWUFrmAEB) - starting get_url https://news.google.com/read/CCAiC2ZyOEFMY0VpWUFrmAEB\n",
      "2024-10-23 06:52:04,764 - AInewsbot - INFO - get_url(An interview with Craig Federighi on the launch of Apple Intelligence features like notification summaries in iOS 18.1, Siri, Apple's AI strategy, and more) - Saving An_interview_with_Craig_Federighi_on_the_launch_of_Apple_Intelligence_features_like_notification_summaries_in_iOS_18_1__Siri__Apple_s_AI_strategy__and_more.html as utf-8\n",
      "2024-10-23 06:52:04,767 - AInewsbot - INFO - Processing page 8: https://news.google.com/read/CBMidEFVX3lxTFBQSXpoVTRBOG9iNVd5d0lKb0lGZ1RwQkpkY0NtNDEwXzhvdW56dWR6TDBRT3QyVmdSd3hhUzNKYndOMm1vUkhtYUVEMV9NNkE0aUZhT3NNbmpHWTA3bGdzSEp6UlpJYWROY0RiWlhIdFllZVVy\n",
      "2024-10-23 06:52:04,768 - AInewsbot - INFO - get_url(https://news.google.com/read/CBMidEFVX3lxTFBQSXpoVTRBOG9iNVd5d0lKb0lGZ1RwQkpkY0NtNDEwXzhvdW56dWR6TDBRT3QyVmdSd3hhUzNKYndOMm1vUkhtYUVEMV9NNkE0aUZhT3NNbmpHWTA3bGdzSEp6UlpJYWROY0RiWlhIdFllZVVy) - starting get_url https://news.google.com/read/CBMidEFVX3lxTFBQSXpoVTRBOG9iNVd5d0lKb0lGZ1RwQkpkY0NtNDEwXzhvdW56dWR6TDBRT3QyVmdSd3hhUzNKYndOMm1vUkhtYUVEMV9NNkE0aUZhT3NNbmpHWTA3bGdzSEp6UlpJYWROY0RiWlhIdFllZVVy\n",
      "2024-10-23 06:52:04,869 - AInewsbot - INFO - get_url(Apple's Software Chief Explains AI Delays, Future of Siri and More) - Saving Apple_s_Software_Chief_Explains_AI_Delays__Future_of_Siri_and_More.html as utf-8\n",
      "2024-10-23 06:52:04,871 - AInewsbot - INFO - Processing page 9: https://www.bbc.com/news/articles/c1484r0r3m6o\n",
      "2024-10-23 06:52:04,872 - AInewsbot - INFO - get_url(https://www.bbc.com/news/articles/c1484r0r3m6o) - starting get_url https://www.bbc.com/news/articles/c1484r0r3m6o\n",
      "2024-10-23 06:52:06,266 - AInewsbot - INFO - get_url(Apples Craig Federighi Explains Apple Intelligence Delays, Siris Future and More | WSJ) - Saving Apples_Craig_Federighi_Explains_Apple_Intelligence_Delays__Siris_Future_and_More___WSJ.html as utf-8\n"
     ]
    },
    {
     "name": "stderr",
     "output_type": "stream",
     "text": [
      "2024-10-23 06:52:06,270 - AInewsbot - INFO - Processing page 10: https://www.wsj.com/video/series/joanna-stern-personal-technology/full-interview-apples-software-chief-craig-federighi-on-future-of-iphone-ai/756B8727-5FFB-422C-AE63-C4600272BD94\n",
      "2024-10-23 06:52:06,272 - AInewsbot - INFO - get_url(https://www.wsj.com/video/series/joanna-stern-personal-technology/full-interview-apples-software-chief-craig-federighi-on-future-of-iphone-ai/756B8727-5FFB-422C-AE63-C4600272BD94) - starting get_url https://www.wsj.com/video/series/joanna-stern-personal-technology/full-interview-apples-software-chief-craig-federighi-on-future-of-iphone-ai/756B8727-5FFB-422C-AE63-C4600272BD94\n",
      "2024-10-23 06:52:08,190 - AInewsbot - INFO - get_url(Craig Federighi says Siri won't become sentient, but it'll get better) - Saving Craig_Federighi_says_Siri_won_t_become_sentient__but_it_ll_get_better.html as utf-8\n",
      "2024-10-23 06:52:08,191 - AInewsbot - INFO - Processing page 11: https://www.macrumors.com/2024/10/23/craig-federighi-phased-release-apple-intelligence/\n",
      "2024-10-23 06:52:08,191 - AInewsbot - INFO - get_url(https://www.macrumors.com/2024/10/23/craig-federighi-phased-release-apple-intelligence/) - starting get_url https://www.macrumors.com/2024/10/23/craig-federighi-phased-release-apple-intelligence/\n",
      "2024-10-23 06:52:15,283 - AInewsbot - INFO - get_url(Apple Intelligence Isnt Very Smart Yetand Apples OK With That) - Saving Apple_Intelligence_Isnt_Very_Smart_Yetand_Apples_OK_With_That.html as utf-8\n",
      "2024-10-23 06:52:15,284 - AInewsbot - INFO - Processing page 12: https://news.google.com/read/CBMiuwFBVV95cUxQSWcwNEo2b1d4U09zMHF0aGpNemhFYkxsZ0lIaWRJMmpkNElsQUZRTGpSbklpX1d6ZExqaDZkQ2Q5WDFtbnVNRXROTEdzbUplV0p1a3ZRLTk4cDBKa3l4ajU1eG5uR1NIWi1fR2RNTlpYeWNMa3hHRjRidnBOd1BFSl9Bd2g2MFdVTlk4OFRBa3ZfWmNCWGhkRUotdlFoSlNMZmhJZzBoVEYyUEZMak5HZ1M2eWRKV3N0RXZF\n",
      "2024-10-23 06:52:15,284 - AInewsbot - INFO - get_url(https://news.google.com/read/CBMiuwFBVV95cUxQSWcwNEo2b1d4U09zMHF0aGpNemhFYkxsZ0lIaWRJMmpkNElsQUZRTGpSbklpX1d6ZExqaDZkQ2Q5WDFtbnVNRXROTEdzbUplV0p1a3ZRLTk4cDBKa3l4ajU1eG5uR1NIWi1fR2RNTlpYeWNMa3hHRjRidnBOd1BFSl9Bd2g2MFdVTlk4OFRBa3ZfWmNCWGhkRUotdlFoSlNMZmhJZzBoVEYyUEZMak5HZ1M2eWRKV3N0RXZF) - starting get_url https://news.google.com/read/CBMiuwFBVV95cUxQSWcwNEo2b1d4U09zMHF0aGpNemhFYkxsZ0lIaWRJMmpkNElsQUZRTGpSbklpX1d6ZExqaDZkQ2Q5WDFtbnVNRXROTEdzbUplV0p1a3ZRLTk4cDBKa3l4ajU1eG5uR1NIWi1fR2RNTlpYeWNMa3hHRjRidnBOd1BFSl9Bd2g2MFdVTlk4OFRBa3ZfWmNCWGhkRUotdlFoSlNMZmhJZzBoVEYyUEZMak5HZ1M2eWRKV3N0RXZF\n",
      "2024-10-23 06:52:16,933 - AInewsbot - INFO - get_url(Full Interview: Apples Software Chief Craig Federighi on Future of iPhone AI) - Saving Full_Interview__Apples_Software_Chief_Craig_Federighi_on_Future_of_iPhone_AI.html as utf-8\n",
      "2024-10-23 06:52:16,934 - AInewsbot - INFO - Processing page 13: https://news.google.com/read/CBMisgFBVV95cUxQNzhjSXltcjBvVE05SF9ac3VPMFhLQzkzY29uZHNUVHVTTHNsdm83dTEwaHBJa0JXb2ppZTZXOGtDV3hPWXRKVWdzRmx5RGVoS2VZc29lZXdqaHpLLXNBOEFUS3VlWkpZa183VlJKdXlxdlpKY0s5NEo4T3BwQ2EtVF92UFJMYVY0UlB3R3FtQTFrODVwTWZVMjc3Z20zVmloZmxKT1dnMXdFOGJCa3l6aC1B\n",
      "2024-10-23 06:52:16,940 - AInewsbot - INFO - get_url(https://news.google.com/read/CBMisgFBVV95cUxQNzhjSXltcjBvVE05SF9ac3VPMFhLQzkzY29uZHNUVHVTTHNsdm83dTEwaHBJa0JXb2ppZTZXOGtDV3hPWXRKVWdzRmx5RGVoS2VZc29lZXdqaHpLLXNBOEFUS3VlWkpZa183VlJKdXlxdlpKY0s5NEo4T3BwQ2EtVF92UFJMYVY0UlB3R3FtQTFrODVwTWZVMjc3Z20zVmloZmxKT1dnMXdFOGJCa3l6aC1B) - starting get_url https://news.google.com/read/CBMisgFBVV95cUxQNzhjSXltcjBvVE05SF9ac3VPMFhLQzkzY29uZHNUVHVTTHNsdm83dTEwaHBJa0JXb2ppZTZXOGtDV3hPWXRKVWdzRmx5RGVoS2VZc29lZXdqaHpLLXNBOEFUS3VlWkpZa183VlJKdXlxdlpKY0s5NEo4T3BwQ2EtVF92UFJMYVY0UlB3R3FtQTFrODVwTWZVMjc3Z20zVmloZmxKT1dnMXdFOGJCa3l6aC1B\n",
      "2024-10-23 06:52:17,373 - AInewsbot - INFO - get_url('New AI update to lock phones will deter thieves') - Saving _New_AI_update_to_lock_phones_will_deter_thieves_.html as utf-8\n",
      "2024-10-23 06:52:17,374 - AInewsbot - INFO - Processing page 14: https://siliconangle.com/2024/10/22/qualcomm-google-collaborate-intelligent-cars-integrated-generative-ai\n",
      "2024-10-23 06:52:17,374 - AInewsbot - INFO - get_url(https://siliconangle.com/2024/10/22/qualcomm-google-collaborate-intelligent-cars-integrated-generative-ai) - starting get_url https://siliconangle.com/2024/10/22/qualcomm-google-collaborate-intelligent-cars-integrated-generative-ai\n",
      "2024-10-23 06:52:19,304 - AInewsbot - INFO - get_url(Craig Federighi Explains Phased Release of Apple Intelligence Features) - Saving Craig_Federighi_Explains_Phased_Release_of_Apple_Intelligence_Features.html as utf-8\n",
      "2024-10-23 06:52:19,306 - AInewsbot - INFO - Processing page 15: https://news.google.com/read/CBMitgFBVV95cUxQbXlDVlNacDZCX0Z0R2RsbHV2QnM1R29qam5hMVpUdk1SMUxSR0pucWc5dnphZm83UUQtNU5reVZJZFNFM21oYXZzbm5ZaXp0cEdOVnZBajI4aDJYYmxuVlJnMnhhVnZwTmEtcXJPUjhDenB4T3lSZ3BXXzBueTZJZFNnTjJSdXRvN200UU1PMmFlaXREOUF6ckw2ZGR4Ykk5cDZBLU1aNG1rMkl6LVdIVXR2VzVyZw\n",
      "2024-10-23 06:52:19,306 - AInewsbot - INFO - get_url(https://news.google.com/read/CBMitgFBVV95cUxQbXlDVlNacDZCX0Z0R2RsbHV2QnM1R29qam5hMVpUdk1SMUxSR0pucWc5dnphZm83UUQtNU5reVZJZFNFM21oYXZzbm5ZaXp0cEdOVnZBajI4aDJYYmxuVlJnMnhhVnZwTmEtcXJPUjhDenB4T3lSZ3BXXzBueTZJZFNnTjJSdXRvN200UU1PMmFlaXREOUF6ckw2ZGR4Ykk5cDZBLU1aNG1rMkl6LVdIVXR2VzVyZw) - starting get_url https://news.google.com/read/CBMitgFBVV95cUxQbXlDVlNacDZCX0Z0R2RsbHV2QnM1R29qam5hMVpUdk1SMUxSR0pucWc5dnphZm83UUQtNU5reVZJZFNFM21oYXZzbm5ZaXp0cEdOVnZBajI4aDJYYmxuVlJnMnhhVnZwTmEtcXJPUjhDenB4T3lSZ3BXXzBueTZJZFNnTjJSdXRvN200UU1PMmFlaXREOUF6ckw2ZGR4Ykk5cDZBLU1aNG1rMkl6LVdIVXR2VzVyZw\n",
      "2024-10-23 06:52:25,651 - AInewsbot - INFO - get_url(Qualcomms Snapdragon 8 Elite to give Chinese smartphones an AI power boost) - Saving Qualcomms_Snapdragon_8_Elite_to_give_Chinese_smartphones_an_AI_power_boost.html as utf-8\n",
      "2024-10-23 06:52:25,652 - AInewsbot - INFO - Processing page 16: https://www.foxnews.com/video/6363607217112\n",
      "2024-10-23 06:52:25,653 - AInewsbot - INFO - get_url(https://www.foxnews.com/video/6363607217112) - starting get_url https://www.foxnews.com/video/6363607217112\n",
      "2024-10-23 06:52:27,217 - AInewsbot - INFO - get_url(Qualcomm and Google team up to help carmakers create AI voice systems) - Saving Qualcomm_and_Google_team_up_to_help_carmakers_create_AI_voice_systems.html as utf-8\n",
      "2024-10-23 06:52:27,220 - AInewsbot - INFO - Processing page 17: https://finance.yahoo.com/news/minerals-technologies-announces-deployment-artificial-210100061.html\n",
      "2024-10-23 06:52:27,221 - AInewsbot - INFO - get_url(https://finance.yahoo.com/news/minerals-technologies-announces-deployment-artificial-210100061.html) - starting get_url https://finance.yahoo.com/news/minerals-technologies-announces-deployment-artificial-210100061.html\n",
      "2024-10-23 06:52:30,139 - AInewsbot - INFO - get_url(Qualcomm CEO Says Everyone Will Have AI Smartphone in Five Years) - Saving Qualcomm_CEO_Says_Everyone_Will_Have_AI_Smartphone_in_Five_Years.html as utf-8\n",
      "2024-10-23 06:52:30,141 - AInewsbot - INFO - Processing page 18: https://www.marktechpost.com/2024/10/23/moonshine-a-fast-accurate-and-lightweight-speech-to-text-models-for-transcription-and-voice-command-processing-on-edge-devices/\n",
      "2024-10-23 06:52:30,142 - AInewsbot - INFO - get_url(https://www.marktechpost.com/2024/10/23/moonshine-a-fast-accurate-and-lightweight-speech-to-text-models-for-transcription-and-voice-command-processing-on-edge-devices/) - starting get_url https://www.marktechpost.com/2024/10/23/moonshine-a-fast-accurate-and-lightweight-speech-to-text-models-for-transcription-and-voice-command-processing-on-edge-devices/\n",
      "2024-10-23 06:52:30,818 - AInewsbot - INFO - get_url(Qualcomm and Google to collaborate on more intelligent cars with integrated generative AI) - Saving Qualcomm_and_Google_to_collaborate_on_more_intelligent_cars_with_integrated_generative_AI.html as utf-8\n",
      "2024-10-23 06:52:30,819 - AInewsbot - INFO - Processing page 19: https://www.yahoo.com/news/ai-firms-address-security-open-224302375.html\n",
      "2024-10-23 06:52:30,820 - AInewsbot - INFO - get_url(https://www.yahoo.com/news/ai-firms-address-security-open-224302375.html) - starting get_url https://www.yahoo.com/news/ai-firms-address-security-open-224302375.html\n",
      "2024-10-23 06:52:37,142 - AInewsbot - INFO - get_url(New AI tech helps police track suspects' cars without license plate numbers) - Saving New_AI_tech_helps_police_track_suspects__cars_without_license_plate_numbers.html as utf-8\n"
     ]
    },
    {
     "name": "stderr",
     "output_type": "stream",
     "text": [
      "2024-10-23 06:52:37,144 - AInewsbot - INFO - Processing page 20: https://ca.finance.yahoo.com/news/ibm-launches-guardium-data-security-205525234.html\n",
      "2024-10-23 06:52:37,144 - AInewsbot - INFO - get_url(https://ca.finance.yahoo.com/news/ibm-launches-guardium-data-security-205525234.html) - starting get_url https://ca.finance.yahoo.com/news/ibm-launches-guardium-data-security-205525234.html\n",
      "2024-10-23 06:52:38,628 - AInewsbot - INFO - get_url(Minerals Technologies Announces Deployment of Artificial Intelligence Technology for Mining) - Saving Minerals_Technologies_Announces_Deployment_of_Artificial_Intelligence_Technology_for_Mining.html as utf-8\n",
      "2024-10-23 06:52:38,630 - AInewsbot - INFO - Processing page 21: https://www.digitalcameraworld.com/news/toilet-camera-uses-ai-to-analyze-pics-of-poop-and-measure-your-gut-health\n",
      "2024-10-23 06:52:38,630 - AInewsbot - INFO - get_url(https://www.digitalcameraworld.com/news/toilet-camera-uses-ai-to-analyze-pics-of-poop-and-measure-your-gut-health) - starting get_url https://www.digitalcameraworld.com/news/toilet-camera-uses-ai-to-analyze-pics-of-poop-and-measure-your-gut-health\n",
      "2024-10-23 06:52:42,289 - AInewsbot - INFO - get_url(AI firms need to address security, open-source concerns: G42 exec) - Saving AI_firms_need_to_address_security__open-source_concerns__G42_exec.html as utf-8\n",
      "2024-10-23 06:52:42,291 - AInewsbot - INFO - Processing page 22: https://news.google.com/read/CBMibkFVX3lxTE5sSnh5WEhVNVRpX3c1Q3lDdGR4cERsT2ZHOWZUVmlhUmduUm1nRFFadUs2bHpKYVBTbnlseWFsU2JYQXN5ZzdZZThpdXVsVkRKaGFUVlUyOWgtM3FGaW83TWhHR18wS3doMG4zVGRB\n",
      "2024-10-23 06:52:42,292 - AInewsbot - INFO - get_url(https://news.google.com/read/CBMibkFVX3lxTE5sSnh5WEhVNVRpX3c1Q3lDdGR4cERsT2ZHOWZUVmlhUmduUm1nRFFadUs2bHpKYVBTbnlseWFsU2JYQXN5ZzdZZThpdXVsVkRKaGFUVlUyOWgtM3FGaW83TWhHR18wS3doMG4zVGRB) - starting get_url https://news.google.com/read/CBMibkFVX3lxTE5sSnh5WEhVNVRpX3c1Q3lDdGR4cERsT2ZHOWZUVmlhUmduUm1nRFFadUs2bHpKYVBTbnlseWFsU2JYQXN5ZzdZZThpdXVsVkRKaGFUVlUyOWgtM3FGaW83TWhHR18wS3doMG4zVGRB\n",
      "2024-10-23 06:52:43,145 - AInewsbot - INFO - get_url(Moonshine: A Fast, Accurate, and Lightweight Speech-to-Text Models for Transcription and Voice Command Processing on Edge Devices) - Saving Moonshine__A_Fast__Accurate__and_Lightweight_Speech-to-Text_Models_for_Transcription_and_Voice_Command_Processing_on_Edge_Devices.html as utf-8\n",
      "2024-10-23 06:52:43,147 - AInewsbot - INFO - Processing page 23: https://towardsdatascience.com/key-roles-in-a-fraud-prediction-project-with-machine-learning-565a01c98274\n",
      "2024-10-23 06:52:43,149 - AInewsbot - INFO - get_url(https://towardsdatascience.com/key-roles-in-a-fraud-prediction-project-with-machine-learning-565a01c98274) - starting get_url https://towardsdatascience.com/key-roles-in-a-fraud-prediction-project-with-machine-learning-565a01c98274\n",
      "2024-10-23 06:52:48,694 - AInewsbot - INFO - get_url(IBM Launches Guardium Data Security Center to Address AI, Quantum, and Hybrid Cloud Risks) - Saving IBM_Launches_Guardium_Data_Security_Center_to_Address_AI__Quantum__and_Hybrid_Cloud_Risks.html as utf-8\n",
      "2024-10-23 06:52:48,696 - AInewsbot - INFO - Processing page 24: https://www.theverge.com/2024/10/23/24277489/apple-intelligence-iphone-ai-photo-editing-craig-federighi-interview\n",
      "2024-10-23 06:52:48,697 - AInewsbot - INFO - get_url(https://www.theverge.com/2024/10/23/24277489/apple-intelligence-iphone-ai-photo-editing-craig-federighi-interview) - starting get_url https://www.theverge.com/2024/10/23/24277489/apple-intelligence-iphone-ai-photo-editing-craig-federighi-interview\n",
      "2024-10-23 06:52:52,814 - AInewsbot - INFO - get_url(Toilet camera uses AI to analyze pics of poop and measure your gut health) - Saving Toilet_camera_uses_AI_to_analyze_pics_of_poop_and_measure_your_gut_health.html as utf-8\n",
      "2024-10-23 06:52:52,815 - AInewsbot - INFO - Processing page 25: https://www.wsj.com/tech/ai/meet-hollywoods-ai-doomsayer-joseph-gordon-levitt-27b82d69\n",
      "2024-10-23 06:52:52,816 - AInewsbot - INFO - get_url(https://www.wsj.com/tech/ai/meet-hollywoods-ai-doomsayer-joseph-gordon-levitt-27b82d69) - starting get_url https://www.wsj.com/tech/ai/meet-hollywoods-ai-doomsayer-joseph-gordon-levitt-27b82d69\n",
      "2024-10-23 06:52:53,173 - AInewsbot - INFO - get_url(Applying AI to satellite manufacturing) - Saving Applying_AI_to_satellite_manufacturing.html as utf-8\n",
      "2024-10-23 06:52:53,175 - AInewsbot - INFO - Processing page 26: https://news.google.com/read/CBMixgFBVV95cUxPODYtSUI2b3FMRzRQNmtWbjhoY19WRWswb3lmVTBFa0QyYXNNVENqeFlWcXh5TjJuaTBuRnBhM2JnMGtoZkFUa2c4RE9GQ3pvdGlzQ3JZb0hrZjIzSzVRMTFjRzd3OFQwNzZaYlA4UGdBU2I1NXVTZDFjUzItTkxOVVVXb04yWk54MTk4NEl0OTVGZS1CcmxOZVNaMGpKNXlhTzVLNENLb3BKU1lDR2pVWFN4ektaUHJIY0F3UWN3b3N3d3RNaFHSAcsBQVVfeXFMTlBJMVJwdENFWDM1UUx0ZUJCdkgxZmZteHZlbERwampRc0Q5X1g4X21LUU1nc1NYbUE4Q2t2alZNLXgzRXo5WDB1QzR1dmpZR18yeWo5U2xickF4TTBsVTlLbklnMExKbjBRdUltWDV2YzQyQ1pVT3ZTeEN1SE1HU2F0aDlDd2U1TzVvOFVrSUVSSjg1UlNUanh6bmtqaEVMdE1pZHc3OUhMR0dRUGdwdUZjTzdSMW50ZDVMZ242Y2JOeTZ2ZVBoNDNZU1k\n",
      "2024-10-23 06:52:53,175 - AInewsbot - INFO - get_url(https://news.google.com/read/CBMixgFBVV95cUxPODYtSUI2b3FMRzRQNmtWbjhoY19WRWswb3lmVTBFa0QyYXNNVENqeFlWcXh5TjJuaTBuRnBhM2JnMGtoZkFUa2c4RE9GQ3pvdGlzQ3JZb0hrZjIzSzVRMTFjRzd3OFQwNzZaYlA4UGdBU2I1NXVTZDFjUzItTkxOVVVXb04yWk54MTk4NEl0OTVGZS1CcmxOZVNaMGpKNXlhTzVLNENLb3BKU1lDR2pVWFN4ektaUHJIY0F3UWN3b3N3d3RNaFHSAcsBQVVfeXFMTlBJMVJwdENFWDM1UUx0ZUJCdkgxZmZteHZlbERwampRc0Q5X1g4X21LUU1nc1NYbUE4Q2t2alZNLXgzRXo5WDB1QzR1dmpZR18yeWo5U2xickF4TTBsVTlLbklnMExKbjBRdUltWDV2YzQyQ1pVT3ZTeEN1SE1HU2F0aDlDd2U1TzVvOFVrSUVSSjg1UlNUanh6bmtqaEVMdE1pZHc3OUhMR0dRUGdwdUZjTzdSMW50ZDVMZ242Y2JOeTZ2ZVBoNDNZU1k) - starting get_url https://news.google.com/read/CBMixgFBVV95cUxPODYtSUI2b3FMRzRQNmtWbjhoY19WRWswb3lmVTBFa0QyYXNNVENqeFlWcXh5TjJuaTBuRnBhM2JnMGtoZkFUa2c4RE9GQ3pvdGlzQ3JZb0hrZjIzSzVRMTFjRzd3OFQwNzZaYlA4UGdBU2I1NXVTZDFjUzItTkxOVVVXb04yWk54MTk4NEl0OTVGZS1CcmxOZVNaMGpKNXlhTzVLNENLb3BKU1lDR2pVWFN4ektaUHJIY0F3UWN3b3N3d3RNaFHSAcsBQVVfeXFMTlBJMVJwdENFWDM1UUx0ZUJCdkgxZmZteHZlbERwampRc0Q5X1g4X21LUU1nc1NYbUE4Q2t2alZNLXgzRXo5WDB1QzR1dmpZR18yeWo5U2xickF4TTBsVTlLbklnMExKbjBRdUltWDV2YzQyQ1pVT3ZTeEN1SE1HU2F0aDlDd2U1TzVvOFVrSUVSSjg1UlNUanh6bmtqaEVMdE1pZHc3OUhMR0dRUGdwdUZjTzdSMW50ZDVMZ242Y2JOeTZ2ZVBoNDNZU1k\n",
      "2024-10-23 06:52:55,371 - AInewsbot - INFO - get_url(Key Roles in a Fraud Prediction project with Machine Learning) - Saving Key_Roles_in_a_Fraud_Prediction_project_with_Machine_Learning.html as utf-8\n",
      "2024-10-23 06:52:55,372 - AInewsbot - INFO - Processing page 27: https://www.fastcompany.com/91214275/why-its-so-challenging-to-deploy-ai-on-space-missions\n",
      "2024-10-23 06:52:55,373 - AInewsbot - INFO - get_url(https://www.fastcompany.com/91214275/why-its-so-challenging-to-deploy-ai-on-space-missions) - starting get_url https://www.fastcompany.com/91214275/why-its-so-challenging-to-deploy-ai-on-space-missions\n",
      "2024-10-23 06:53:02,133 - AInewsbot - INFO - get_url(Apple is concerned about AI turning real photos into fantasy) - Saving Apple_is_concerned_about_AI_turning_real_photos_into_fantasy.html as utf-8\n",
      "2024-10-23 06:53:02,135 - AInewsbot - INFO - Processing page 28: https://www.itpro.com/technology/artificial-intelligence/ibm-just-launched-powerful-new-open-source-ai-models-heres-what-you-need-to-know\n",
      "2024-10-23 06:53:02,136 - AInewsbot - INFO - get_url(https://www.itpro.com/technology/artificial-intelligence/ibm-just-launched-powerful-new-open-source-ai-models-heres-what-you-need-to-know) - starting get_url https://www.itpro.com/technology/artificial-intelligence/ibm-just-launched-powerful-new-open-source-ai-models-heres-what-you-need-to-know\n",
      "2024-10-23 06:53:03,477 - AInewsbot - INFO - get_url(Wicked star Ariana Grande finds AI troublesome after fan-edited posters cause controversy) - Saving Wicked_star_Ariana_Grande_finds_AI_troublesome_after_fan-edited_posters_cause_controversy.html as utf-8\n",
      "2024-10-23 06:53:03,479 - AInewsbot - INFO - Processing page 29: https://news.google.com/read/CBMitgFBVV95cUxPQV9iTERJLVBzelpVYnhyM0JPVnVVV1RBaVhxUTdRbGhSMzNnMHpURVZNOE1rdXZ2d3pFNXlLY1A3U0dlZ1ZpemgxclcwNVdiT2pNWldOT1hFRHZ6VGdqZTJxbkRHM3F5dE56VkpuZzNqRHdpZTdZX2pjcml6UUVWWEdnZGc4aW5IWnd0d09tRlJxWU0xRFRwV3ZhcE1uczlwWTBBSUI3VXFEaHVCZU9TX1B4bU9hQQ\n",
      "2024-10-23 06:53:03,479 - AInewsbot - INFO - get_url(https://news.google.com/read/CBMitgFBVV95cUxPQV9iTERJLVBzelpVYnhyM0JPVnVVV1RBaVhxUTdRbGhSMzNnMHpURVZNOE1rdXZ2d3pFNXlLY1A3U0dlZ1ZpemgxclcwNVdiT2pNWldOT1hFRHZ6VGdqZTJxbkRHM3F5dE56VkpuZzNqRHdpZTdZX2pjcml6UUVWWEdnZGc4aW5IWnd0d09tRlJxWU0xRFRwV3ZhcE1uczlwWTBBSUI3VXFEaHVCZU9TX1B4bU9hQQ) - starting get_url https://news.google.com/read/CBMitgFBVV95cUxPQV9iTERJLVBzelpVYnhyM0JPVnVVV1RBaVhxUTdRbGhSMzNnMHpURVZNOE1rdXZ2d3pFNXlLY1A3U0dlZ1ZpemgxclcwNVdiT2pNWldOT1hFRHZ6VGdqZTJxbkRHM3F5dE56VkpuZzNqRHdpZTdZX2pjcml6UUVWWEdnZGc4aW5IWnd0d09tRlJxWU0xRFRwV3ZhcE1uczlwWTBBSUI3VXFEaHVCZU9TX1B4bU9hQQ\n"
     ]
    },
    {
     "name": "stderr",
     "output_type": "stream",
     "text": [
      "2024-10-23 06:53:03,547 - AInewsbot - INFO - get_url(Joseph Gordon-Levitt criticizes AI, calling Hollywood a \"canary in the coal mine\" for other industries, and says studios \"own the IP and I don't own any of it\" (Erich Schwartzel/Wall Street Journal)) - Saving Joseph_Gordon-Levitt_criticizes_AI__calling_Hollywood_a__canary_in_the_coal_mine__for_other_industries__and_says_studios__own_the_IP_and_I_don_t_own_any_of_it___Erich_Schwartzel_Wall_Street_Journal_.html as utf-8\n",
      "2024-10-23 06:53:03,548 - AInewsbot - INFO - Processing page 30: https://futurism.com/the-byte/illegal-fake-reviews-ai\n",
      "2024-10-23 06:53:03,548 - AInewsbot - INFO - get_url(https://futurism.com/the-byte/illegal-fake-reviews-ai) - starting get_url https://futurism.com/the-byte/illegal-fake-reviews-ai\n",
      "2024-10-23 06:53:07,240 - AInewsbot - INFO - get_url(Why its so challenging to deploy AI on space missions) - Saving Why_its_so_challenging_to_deploy_AI_on_space_missions.html as utf-8\n",
      "2024-10-23 06:53:07,241 - AInewsbot - INFO - Processing page 31: https://www.fastcompany.com/91214394/dont-be-fooled-by-ai-companies-ethics-washing\n",
      "2024-10-23 06:53:07,241 - AInewsbot - INFO - get_url(https://www.fastcompany.com/91214394/dont-be-fooled-by-ai-companies-ethics-washing) - starting get_url https://www.fastcompany.com/91214394/dont-be-fooled-by-ai-companies-ethics-washing\n",
      "2024-10-23 06:53:13,953 - AInewsbot - INFO - get_url(Meta AI tackles maths problems that stumped humans for over a century) - Saving Meta_AI_tackles_maths_problems_that_stumped_humans_for_over_a_century.html as utf-8\n",
      "2024-10-23 06:53:13,954 - AInewsbot - INFO - Processing page 32: https://www.businessinsider.com/genie-ai-funding-khosla-ventures-google-pitch-deck-2024-10\n",
      "2024-10-23 06:53:13,955 - AInewsbot - INFO - get_url(https://www.businessinsider.com/genie-ai-funding-khosla-ventures-google-pitch-deck-2024-10) - starting get_url https://www.businessinsider.com/genie-ai-funding-khosla-ventures-google-pitch-deck-2024-10\n",
      "2024-10-23 06:53:14,908 - AInewsbot - INFO - get_url(It's Now Illegal to Post Fake AI-Generated Product Reviews by People Who Don't Exist) - Saving It_s_Now_Illegal_to_Post_Fake_AI-Generated_Product_Reviews_by_People_Who_Don_t_Exist.html as utf-8\n",
      "2024-10-23 06:53:14,909 - AInewsbot - INFO - Processing page 33: https://scmp.com/news/article/3283475/apples-tim-cook-meets-china-regulator-beijing-no-final-word-apple-intelligence\n",
      "2024-10-23 06:53:14,909 - AInewsbot - INFO - get_url(https://scmp.com/news/article/3283475/apples-tim-cook-meets-china-regulator-beijing-no-final-word-apple-intelligence) - starting get_url https://scmp.com/news/article/3283475/apples-tim-cook-meets-china-regulator-beijing-no-final-word-apple-intelligence\n",
      "2024-10-23 06:53:17,887 - AInewsbot - INFO - get_url(Dont be fooled by AI companies ethics washing) - Saving Dont_be_fooled_by_AI_companies_ethics_washing.html as utf-8\n",
      "2024-10-23 06:53:17,888 - AInewsbot - INFO - Processing page 34: https://www.yahoo.com/news/foreign-adversaries-using-artificial-intelligence-010043303.html\n",
      "2024-10-23 06:53:17,888 - AInewsbot - INFO - get_url(https://www.yahoo.com/news/foreign-adversaries-using-artificial-intelligence-010043303.html) - starting get_url https://www.yahoo.com/news/foreign-adversaries-using-artificial-intelligence-010043303.html\n",
      "2024-10-23 06:53:24,177 - AInewsbot - INFO - get_url(Exclusive: Legal tech startup Genie AI just raised $17.8 million from Google and Khosla Ventures using this 13-slide deck) - Saving Exclusive__Legal_tech_startup_Genie_AI_just_raised__17_8_million_from_Google_and_Khosla_Ventures_using_this_13-slide_deck.html as utf-8\n",
      "2024-10-23 06:53:24,180 - AInewsbot - INFO - Processing page 35: https://towardsdatascience.com/ml-metamorphosis-chaining-ml-models-for-optimized-results-d89d952627a9\n",
      "2024-10-23 06:53:24,180 - AInewsbot - INFO - get_url(https://towardsdatascience.com/ml-metamorphosis-chaining-ml-models-for-optimized-results-d89d952627a9) - starting get_url https://towardsdatascience.com/ml-metamorphosis-chaining-ml-models-for-optimized-results-d89d952627a9\n",
      "2024-10-23 06:53:28,349 - AInewsbot - INFO - get_url(Foreign adversaries using artificial intelligence to meddle in U.S. election, FBI says) - Saving Foreign_adversaries_using_artificial_intelligence_to_meddle_in_U_S__election__FBI_says.html as utf-8\n",
      "2024-10-23 06:53:28,354 - AInewsbot - INFO - Processing page 36: https://hackernoon.com/meet-quatfit-the-ai-innovator-in-hackernoons-startups-of-the-year-awards\n",
      "2024-10-23 06:53:28,355 - AInewsbot - INFO - get_url(https://hackernoon.com/meet-quatfit-the-ai-innovator-in-hackernoons-startups-of-the-year-awards) - starting get_url https://hackernoon.com/meet-quatfit-the-ai-innovator-in-hackernoons-startups-of-the-year-awards\n",
      "2024-10-23 06:53:28,429 - AInewsbot - INFO - get_url(Apple's Tim Cook meets Chinese regulators but no final word on AI roll-out) - Saving Apple_s_Tim_Cook_meets_Chinese_regulators_but_no_final_word_on_AI_roll-out.html as utf-8\n",
      "2024-10-23 06:53:28,430 - AInewsbot - INFO - Processing page 37: https://uk.finance.yahoo.com/news/blackrock-expands-ai-tech-investment-213831075.html\n",
      "2024-10-23 06:53:28,430 - AInewsbot - INFO - get_url(https://uk.finance.yahoo.com/news/blackrock-expands-ai-tech-investment-213831075.html) - starting get_url https://uk.finance.yahoo.com/news/blackrock-expands-ai-tech-investment-213831075.html\n",
      "2024-10-23 06:53:35,212 - AInewsbot - INFO - get_url(ML Metamorphosis: Chaining ML Models for Optimized Results) - Saving ML_Metamorphosis__Chaining_ML_Models_for_Optimized_Results.html as utf-8\n",
      "2024-10-23 06:53:35,213 - AInewsbot - INFO - Processing page 38: https://go.theregister.com/feed/www.theregister.com/2024/10/23/fivetran_ceo_interview/\n",
      "2024-10-23 06:53:35,213 - AInewsbot - INFO - get_url(https://go.theregister.com/feed/www.theregister.com/2024/10/23/fivetran_ceo_interview/) - starting get_url https://go.theregister.com/feed/www.theregister.com/2024/10/23/fivetran_ceo_interview/\n",
      "2024-10-23 06:53:39,103 - AInewsbot - INFO - get_url(BlackRock Expands AI and Tech Investment Opportunities with New Active ETFs) - Saving BlackRock_Expands_AI_and_Tech_Investment_Opportunities_with_New_Active_ETFs.html as utf-8\n",
      "2024-10-23 06:53:39,105 - AInewsbot - INFO - Processing page 39: https://www.theverge.com/2024/10/22/24276822/anthopic-claude-3-5-sonnet-computer-use-ai\n",
      "2024-10-23 06:53:39,105 - AInewsbot - INFO - get_url(https://www.theverge.com/2024/10/22/24276822/anthopic-claude-3-5-sonnet-computer-use-ai) - starting get_url https://www.theverge.com/2024/10/22/24276822/anthopic-claude-3-5-sonnet-computer-use-ai\n",
      "2024-10-23 06:53:40,128 - AInewsbot - INFO - get_url(Meet Quatfit, The AI Innovator in HackerNoons Startups of the Year Awards!) - Saving Meet_Quatfit__The_AI_Innovator_in_HackerNoons_Startups_of_the_Year_Awards_.html as utf-8\n",
      "2024-10-23 06:53:40,130 - AInewsbot - INFO - Processing page 40: https://www.washingtonpost.com/business/2024/10/22/high-school-student-lawsuit-artificial-intelligence/000fbad0-90c0-11ef-b5b1-75167840d9f3_story.html\n",
      "2024-10-23 06:53:40,130 - AInewsbot - INFO - get_url(https://www.washingtonpost.com/business/2024/10/22/high-school-student-lawsuit-artificial-intelligence/000fbad0-90c0-11ef-b5b1-75167840d9f3_story.html) - starting get_url https://www.washingtonpost.com/business/2024/10/22/high-school-student-lawsuit-artificial-intelligence/000fbad0-90c0-11ef-b5b1-75167840d9f3_story.html\n",
      "2024-10-23 06:53:46,477 - AInewsbot - INFO - get_url(OpenAI's rapid growth loaded with 'corner case' challenges, says Fivetran CEO) - Saving OpenAI_s_rapid_growth_loaded_with__corner_case__challenges__says_Fivetran_CEO.html as utf-8\n",
      "2024-10-23 06:53:46,479 - AInewsbot - INFO - Processing page 41: https://news.google.com/read/CBMiswFBVV95cUxPRkJrVGhSWDZPV0psaEQtNTJndFczQnJzOWR6TGNSSFdRWmR1U3Nfd0ZSd3pGTHoxOHVldVdLSmVnekU0bUw1VEVBTkJMWUY0eHRiN29ldUVYUHNHS2JHTU5CTWxPeHhYcjRzbEtCNHZteHJRS1lwZHROZTNYZ3ktRFpuTnd2V2Y0MU1TQkU1WThnRFY4cThYSnd4R3lUanh5TENaTE9VdWFiT0VTTWc4eFExMA\n",
      "2024-10-23 06:53:46,479 - AInewsbot - INFO - get_url(https://news.google.com/read/CBMiswFBVV95cUxPRkJrVGhSWDZPV0psaEQtNTJndFczQnJzOWR6TGNSSFdRWmR1U3Nfd0ZSd3pGTHoxOHVldVdLSmVnekU0bUw1VEVBTkJMWUY0eHRiN29ldUVYUHNHS2JHTU5CTWxPeHhYcjRzbEtCNHZteHJRS1lwZHROZTNYZ3ktRFpuTnd2V2Y0MU1TQkU1WThnRFY4cThYSnd4R3lUanh5TENaTE9VdWFiT0VTTWc4eFExMA) - starting get_url https://news.google.com/read/CBMiswFBVV95cUxPRkJrVGhSWDZPV0psaEQtNTJndFczQnJzOWR6TGNSSFdRWmR1U3Nfd0ZSd3pGTHoxOHVldVdLSmVnekU0bUw1VEVBTkJMWUY0eHRiN29ldUVYUHNHS2JHTU5CTWxPeHhYcjRzbEtCNHZteHJRS1lwZHROZTNYZ3ktRFpuTnd2V2Y0MU1TQkU1WThnRFY4cThYSnd4R3lUanh5TENaTE9VdWFiT0VTTWc4eFExMA\n"
     ]
    },
    {
     "name": "stderr",
     "output_type": "stream",
     "text": [
      "2024-10-23 06:53:52,525 - AInewsbot - INFO - get_url(Anthropics latest AI update can use a computer on its own) - Saving Anthropics_latest_AI_update_can_use_a_computer_on_its_own.html as utf-8\n",
      "2024-10-23 06:53:52,526 - AInewsbot - INFO - Processing page 42: https://www.marktechpost.com/2024/10/22/generative-reward-models-genrm-a-hybrid-approach-to-reinforcement-learning-from-human-and-ai-feedback-solving-task-generalization-and-feedback-collection-challenges/\n",
      "2024-10-23 06:53:52,527 - AInewsbot - INFO - get_url(https://www.marktechpost.com/2024/10/22/generative-reward-models-genrm-a-hybrid-approach-to-reinforcement-learning-from-human-and-ai-feedback-solving-task-generalization-and-feedback-collection-challenges/) - starting get_url https://www.marktechpost.com/2024/10/22/generative-reward-models-genrm-a-hybrid-approach-to-reinforcement-learning-from-human-and-ai-feedback-solving-task-generalization-and-feedback-collection-challenges/\n",
      "2024-10-23 06:53:53,115 - AInewsbot - INFO - get_url(Parents of Massachusetts high schooler disciplined for using AI sue school) - Saving Parents_of_Massachusetts_high_schooler_disciplined_for_using_AI_sue_school.html as utf-8\n",
      "2024-10-23 06:53:53,117 - AInewsbot - INFO - Processing page 43: https://www.theverge.com/2024/10/22/24276994/ai-statement-training-data-copyright-threat-actors-authors-musicians-kevin-bacon-kate-mckinnon\n",
      "2024-10-23 06:53:53,119 - AInewsbot - INFO - get_url(https://www.theverge.com/2024/10/22/24276994/ai-statement-training-data-copyright-threat-actors-authors-musicians-kevin-bacon-kate-mckinnon) - starting get_url https://www.theverge.com/2024/10/22/24276994/ai-statement-training-data-copyright-threat-actors-authors-musicians-kevin-bacon-kate-mckinnon\n",
      "2024-10-23 06:53:56,898 - AInewsbot - INFO - get_url(Anthropic publicly releases AI tool that can take over the users mouse cursor) - Saving Anthropic_publicly_releases_AI_tool_that_can_take_over_the_users_mouse_cursor.html as utf-8\n",
      "2024-10-23 06:53:56,898 - AInewsbot - INFO - Processing page 44: https://uk.finance.yahoo.com/news/openai-appoints-first-chief-economist-205520213.html\n",
      "2024-10-23 06:53:56,899 - AInewsbot - INFO - get_url(https://uk.finance.yahoo.com/news/openai-appoints-first-chief-economist-205520213.html) - starting get_url https://uk.finance.yahoo.com/news/openai-appoints-first-chief-economist-205520213.html\n",
      "2024-10-23 06:54:06,063 - AInewsbot - INFO - get_url(Generative Reward Models (GenRM): A Hybrid Approach to Reinforcement Learning from Human and AI Feedback, Solving Task Generalization and Feedback Collection Challenges) - Saving Generative_Reward_Models__GenRM___A_Hybrid_Approach_to_Reinforcement_Learning_from_Human_and_AI_Feedback__Solving_Task_Generalization_and_Feedback_Collection_Challenges.html as utf-8\n",
      "2024-10-23 06:54:06,065 - AInewsbot - INFO - Processing page 45: https://news.google.com/read/CBMijAFBVV95cUxPZlRUeGdSWXFpbVl5bldJTWZUV3FFbFdQRDRDenFWTHpZV1lFemJla0xnQUlhYWFzUDd4UksyYm5DRm9JWVFXc01mQmx0MjJqY08teHBZQlQzSXdXd282TS1QcHBaMkVRQ01vNHF0eWRaLVNHdFVJTGJ5NHRpWUM0WlN1YlJJR2xTS3d4Ng\n",
      "2024-10-23 06:54:06,065 - AInewsbot - INFO - get_url(https://news.google.com/read/CBMijAFBVV95cUxPZlRUeGdSWXFpbVl5bldJTWZUV3FFbFdQRDRDenFWTHpZV1lFemJla0xnQUlhYWFzUDd4UksyYm5DRm9JWVFXc01mQmx0MjJqY08teHBZQlQzSXdXd282TS1QcHBaMkVRQ01vNHF0eWRaLVNHdFVJTGJ5NHRpWUM0WlN1YlJJR2xTS3d4Ng) - starting get_url https://news.google.com/read/CBMijAFBVV95cUxPZlRUeGdSWXFpbVl5bldJTWZUV3FFbFdQRDRDenFWTHpZV1lFemJla0xnQUlhYWFzUDd4UksyYm5DRm9JWVFXc01mQmx0MjJqY08teHBZQlQzSXdXd282TS1QcHBaMkVRQ01vNHF0eWRaLVNHdFVJTGJ5NHRpWUM0WlN1YlJJR2xTS3d4Ng\n",
      "2024-10-23 06:54:06,488 - AInewsbot - INFO - get_url(Kevin Bacon, Kate McKinnon, and other creatives warn of unjust AI threat) - Saving Kevin_Bacon__Kate_McKinnon__and_other_creatives_warn_of_unjust_AI_threat.html as utf-8\n",
      "2024-10-23 06:54:06,490 - AInewsbot - INFO - Processing page 46: https://www.ted.com/talks/ramin_hasani_how_a_worm_could_save_humanity_from_bad_ai\n",
      "2024-10-23 06:54:06,491 - AInewsbot - INFO - get_url(https://www.ted.com/talks/ramin_hasani_how_a_worm_could_save_humanity_from_bad_ai) - starting get_url https://www.ted.com/talks/ramin_hasani_how_a_worm_could_save_humanity_from_bad_ai\n",
      "2024-10-23 06:54:07,575 - AInewsbot - INFO - get_url(OpenAI Appoints First Chief Economist to Lead AI Economic Research) - Saving OpenAI_Appoints_First_Chief_Economist_to_Lead_AI_Economic_Research.html as utf-8\n",
      "2024-10-23 06:54:07,577 - AInewsbot - INFO - Processing page 47: https://news.google.com/read/CBMiswFBVV95cUxPR3VUbWZYc0NqREdvc1lRQzZLd29NcjhueHVBRjNSSGRwZlQ0eE9ydnRveElSWVhqakJzbEI4bndmc2ZTNTBHVy1qUDZ2VDVpUUJLQjR0MnAyRlJQVk5zd3dsVDFhMDFxZ01yQTYzaUZWQTlab1lFc2F3OUtsWmZKOEVlX3M1Z2IxT1Z5bllzSUdqeXBTOGNOVjhBS3FDM04tdWlIcF9xdGlMNXJqa0lRYVJFaw\n",
      "2024-10-23 06:54:07,578 - AInewsbot - INFO - get_url(https://news.google.com/read/CBMiswFBVV95cUxPR3VUbWZYc0NqREdvc1lRQzZLd29NcjhueHVBRjNSSGRwZlQ0eE9ydnRveElSWVhqakJzbEI4bndmc2ZTNTBHVy1qUDZ2VDVpUUJLQjR0MnAyRlJQVk5zd3dsVDFhMDFxZ01yQTYzaUZWQTlab1lFc2F3OUtsWmZKOEVlX3M1Z2IxT1Z5bllzSUdqeXBTOGNOVjhBS3FDM04tdWlIcF9xdGlMNXJqa0lRYVJFaw) - starting get_url https://news.google.com/read/CBMiswFBVV95cUxPR3VUbWZYc0NqREdvc1lRQzZLd29NcjhueHVBRjNSSGRwZlQ0eE9ydnRveElSWVhqakJzbEI4bndmc2ZTNTBHVy1qUDZ2VDVpUUJLQjR0MnAyRlJQVk5zd3dsVDFhMDFxZ01yQTYzaUZWQTlab1lFc2F3OUtsWmZKOEVlX3M1Z2IxT1Z5bllzSUdqeXBTOGNOVjhBS3FDM04tdWlIcF9xdGlMNXJqa0lRYVJFaw\n",
      "2024-10-23 06:54:16,614 - AInewsbot - INFO - get_url(More than 10,500 actors, musicians and authors protest techs AI data grab) - Saving More_than_10_500_actors__musicians_and_authors_protest_techs_AI_data_grab.html as utf-8\n",
      "2024-10-23 06:54:16,616 - AInewsbot - INFO - Processing page 48: https://thenextweb.com/news/tech-bosses-think-nuclear-fusion-is-the-solution-to-ais-energy-demands-heres-what-theyre-missing\n",
      "2024-10-23 06:54:16,616 - AInewsbot - INFO - get_url(https://thenextweb.com/news/tech-bosses-think-nuclear-fusion-is-the-solution-to-ais-energy-demands-heres-what-theyre-missing) - starting get_url https://thenextweb.com/news/tech-bosses-think-nuclear-fusion-is-the-solution-to-ais-energy-demands-heres-what-theyre-missing\n",
      "2024-10-23 06:54:17,952 - AInewsbot - INFO - get_url(Anthropics new AI can use computers like a human, redefining automation for enterprises) - Saving Anthropics_new_AI_can_use_computers_like_a_human__redefining_automation_for_enterprises.html as utf-8\n",
      "2024-10-23 06:54:17,953 - AInewsbot - INFO - Processing page 49: https://siliconangle.com/2024/10/22/uipath-marrying-generative-ai-robots-accelerate-business-automation/\n",
      "2024-10-23 06:54:17,954 - AInewsbot - INFO - get_url(https://siliconangle.com/2024/10/22/uipath-marrying-generative-ai-robots-accelerate-business-automation/) - starting get_url https://siliconangle.com/2024/10/22/uipath-marrying-generative-ai-robots-accelerate-business-automation/\n",
      "2024-10-23 06:54:19,696 - AInewsbot - INFO - get_url(How a worm could save humanity from bad AI) - Saving How_a_worm_could_save_humanity_from_bad_AI.html as utf-8\n",
      "2024-10-23 06:54:19,697 - AInewsbot - INFO - Processing page 50: https://www.nytimes.com/2024/10/23/technology/characterai-lawsuit-teen-suicide.html\n",
      "2024-10-23 06:54:19,697 - AInewsbot - INFO - get_url(https://www.nytimes.com/2024/10/23/technology/characterai-lawsuit-teen-suicide.html) - starting get_url https://www.nytimes.com/2024/10/23/technology/characterai-lawsuit-teen-suicide.html\n",
      "2024-10-23 06:54:29,421 - AInewsbot - INFO - get_url(Tech bosses think nuclear fusion is the solution to AIs energy demands  heres what theyre missing) - Saving Tech_bosses_think_nuclear_fusion_is_the_solution_to_AIs_energy_demands__heres_what_theyre_missing.html as utf-8\n",
      "2024-10-23 06:54:29,424 - AInewsbot - INFO - Processing page 51: https://dw.com/p/4m7Iv\n",
      "2024-10-23 06:54:29,424 - AInewsbot - INFO - get_url(https://dw.com/p/4m7Iv) - starting get_url https://dw.com/p/4m7Iv\n",
      "2024-10-23 06:54:29,471 - AInewsbot - INFO - get_url(UiPath is marrying generative AI with robots to accelerate business automation - SiliconANGLE) - Saving UiPath_is_marrying_generative_AI_with_robots_to_accelerate_business_automation_-_SiliconANGLE.html as utf-8\n",
      "2024-10-23 06:54:29,472 - AInewsbot - INFO - Processing page 52: https://www.theregister.com/2024/10/23/fujitsu_gpu_middleware/\n"
     ]
    },
    {
     "name": "stderr",
     "output_type": "stream",
     "text": [
      "2024-10-23 06:54:29,473 - AInewsbot - INFO - get_url(https://www.theregister.com/2024/10/23/fujitsu_gpu_middleware/) - starting get_url https://www.theregister.com/2024/10/23/fujitsu_gpu_middleware/\n",
      "2024-10-23 06:54:30,457 - AInewsbot - INFO - get_url(IBM just launched powerful new open source AI models  heres what you need to know) - Saving IBM_just_launched_powerful_new_open_source_AI_models__heres_what_you_need_to_know.html as utf-8\n",
      "2024-10-23 06:54:30,459 - AInewsbot - INFO - Processing page 53: https://hackernoon.com/people-are-competing-for-your-dream-job-with-these-ai-tools\n",
      "2024-10-23 06:54:30,459 - AInewsbot - INFO - get_url(https://hackernoon.com/people-are-competing-for-your-dream-job-with-these-ai-tools) - starting get_url https://hackernoon.com/people-are-competing-for-your-dream-job-with-these-ai-tools\n",
      "2024-10-23 06:54:32,030 - AInewsbot - INFO - get_url(Can A.I. Be Blamed for a Teens Suicide?) - Saving Can_A_I__Be_Blamed_for_a_Teens_Suicide_.html as utf-8\n",
      "2024-10-23 06:54:32,031 - AInewsbot - INFO - Processing page 54: https://www.cfodive.com/news/microsoft-expands-finance-automation-portfolio-ai-agents/730492/\n",
      "2024-10-23 06:54:32,032 - AInewsbot - INFO - get_url(https://www.cfodive.com/news/microsoft-expands-finance-automation-portfolio-ai-agents/730492/) - starting get_url https://www.cfodive.com/news/microsoft-expands-finance-automation-portfolio-ai-agents/730492/\n",
      "2024-10-23 06:54:40,190 - AInewsbot - INFO - get_url(Fujitsu delivers GPU optimization tech it touts as a server-saverMiddleware aimed at softening the shortage of AI acceleratorsAI + ML9 hrs|) - Saving Fujitsu_delivers_GPU_optimization_tech_it_touts_as_a_server-saverMiddleware_aimed_at_softening_the_shortage_of_AI_acceleratorsAI___ML9_hrs_.html as utf-8\n",
      "2024-10-23 06:54:40,191 - AInewsbot - INFO - Processing page 55: https://www.androidheadlines.com/2024/10/microsoft-lets-you-create-ai-agents-using-upgraded-copilot-studio.html\n",
      "2024-10-23 06:54:40,191 - AInewsbot - INFO - get_url(https://www.androidheadlines.com/2024/10/microsoft-lets-you-create-ai-agents-using-upgraded-copilot-studio.html) - starting get_url https://www.androidheadlines.com/2024/10/microsoft-lets-you-create-ai-agents-using-upgraded-copilot-studio.html\n",
      "2024-10-23 06:54:41,788 - AInewsbot - INFO - get_url(Germany races to catch up inartificial intelligence) - Saving Germany_races_to_catch_up_inartificial_intelligence.html as utf-8\n",
      "2024-10-23 06:54:41,789 - AInewsbot - INFO - Processing page 56: https://www.forbes.com/sites/rachelwells/2024/10/23/are-you-using-too-much-chatgpt-5-signs/\n",
      "2024-10-23 06:54:41,789 - AInewsbot - INFO - get_url(https://www.forbes.com/sites/rachelwells/2024/10/23/are-you-using-too-much-chatgpt-5-signs/) - starting get_url https://www.forbes.com/sites/rachelwells/2024/10/23/are-you-using-too-much-chatgpt-5-signs/\n",
      "2024-10-23 06:54:42,191 - AInewsbot - INFO - get_url(People Are Competing for Your Dream Job With These AI Tools) - Saving People_Are_Competing_for_Your_Dream_Job_With_These_AI_Tools.html as utf-8\n",
      "2024-10-23 06:54:42,194 - AInewsbot - INFO - Processing page 57: https://www.engadget.com/ai/openai-and-microsoft-are-funding-10-million-in-grants-for-ai-powered-journalism-193042213.html\n",
      "2024-10-23 06:54:42,194 - AInewsbot - INFO - get_url(https://www.engadget.com/ai/openai-and-microsoft-are-funding-10-million-in-grants-for-ai-powered-journalism-193042213.html) - starting get_url https://www.engadget.com/ai/openai-and-microsoft-are-funding-10-million-in-grants-for-ai-powered-journalism-193042213.html\n",
      "2024-10-23 06:54:44,904 - AInewsbot - INFO - get_url(Microsoft ups finance automation game with AI agents) - Saving Microsoft_ups_finance_automation_game_with_AI_agents.html as utf-8\n",
      "2024-10-23 06:54:44,906 - AInewsbot - INFO - Processing page 58: https://www.businessinsider.com/soula-ai-chatbot-postpartum-healthcare-gap-women-2024-10\n",
      "2024-10-23 06:54:44,907 - AInewsbot - INFO - get_url(https://www.businessinsider.com/soula-ai-chatbot-postpartum-healthcare-gap-women-2024-10) - starting get_url https://www.businessinsider.com/soula-ai-chatbot-postpartum-healthcare-gap-women-2024-10\n",
      "2024-10-23 06:54:51,563 - AInewsbot - INFO - get_url(Microsoft lets you create AI agents' using upgraded Copilot Studio) - Saving Microsoft_lets_you_create_AI_agents__using_upgraded_Copilot_Studio.html as utf-8\n",
      "2024-10-23 06:54:51,568 - AInewsbot - INFO - Processing page 59: https://faroutmagazine.co.uk/thom-yorke-and-robert-smith-among-10500-creatives-to-sign-petition-against-ai/\n",
      "2024-10-23 06:54:51,578 - AInewsbot - INFO - get_url(https://faroutmagazine.co.uk/thom-yorke-and-robert-smith-among-10500-creatives-to-sign-petition-against-ai/) - starting get_url https://faroutmagazine.co.uk/thom-yorke-and-robert-smith-among-10500-creatives-to-sign-petition-against-ai/\n",
      "2024-10-23 06:54:54,045 - AInewsbot - INFO - get_url(OpenAI and Microsoft are funding $10 million in grants for AI-powered journalism) - Saving OpenAI_and_Microsoft_are_funding__10_million_in_grants_for_AI-powered_journalism.html as utf-8\n",
      "2024-10-23 06:54:54,046 - AInewsbot - INFO - Processing page 60: https://news.bloomberglaw.com/us-law-week/as-ai-hits-e-discovery-lawyers-go-from-big-law-to-boutique\n",
      "2024-10-23 06:54:54,047 - AInewsbot - INFO - get_url(https://news.bloomberglaw.com/us-law-week/as-ai-hits-e-discovery-lawyers-go-from-big-law-to-boutique) - starting get_url https://news.bloomberglaw.com/us-law-week/as-ai-hits-e-discovery-lawyers-go-from-big-law-to-boutique\n",
      "2024-10-23 06:54:54,716 - AInewsbot - INFO - get_url(Youre Using Too Much ChatGPT5 Tell-Tale Signs In 2024) - Saving Youre_Using_Too_Much_ChatGPT5_Tell-Tale_Signs_In_2024.html as utf-8\n",
      "2024-10-23 06:54:54,722 - AInewsbot - INFO - Processing page 61: https://finance.yahoo.com/news/aptos-orbital-announces-official-launch-130100791.html\n",
      "2024-10-23 06:54:54,728 - AInewsbot - INFO - get_url(https://finance.yahoo.com/news/aptos-orbital-announces-official-launch-130100791.html) - starting get_url https://finance.yahoo.com/news/aptos-orbital-announces-official-launch-130100791.html\n",
      "2024-10-23 06:54:55,256 - AInewsbot - INFO - get_url(The AI app Soula seeks to improve healthcare access for pregnant women) - Saving The_AI_app_Soula_seeks_to_improve_healthcare_access_for_pregnant_women.html as utf-8\n",
      "2024-10-23 06:54:55,257 - AInewsbot - INFO - Processing page 62: https://www.nature.com/articles/s41599-024-03879-5\n",
      "2024-10-23 06:54:55,258 - AInewsbot - INFO - get_url(https://www.nature.com/articles/s41599-024-03879-5) - starting get_url https://www.nature.com/articles/s41599-024-03879-5\n",
      "2024-10-23 06:55:06,402 - AInewsbot - INFO - get_url(Exploring the mechanism of sustained consumer trust in AI chatbots after service failures: a perspective based on attribution and CASA theories) - Saving Exploring_the_mechanism_of_sustained_consumer_trust_in_AI_chatbots_after_service_failures__a_perspective_based_on_attribution_and_CASA_theories.html as utf-8\n",
      "2024-10-23 06:55:06,405 - AInewsbot - INFO - Processing page 63: https://www.techinasia.com/news/openai-appoints-exuber-exec-chief-compliance-officer\n",
      "2024-10-23 06:55:06,405 - AInewsbot - INFO - get_url(https://www.techinasia.com/news/openai-appoints-exuber-exec-chief-compliance-officer) - starting get_url https://www.techinasia.com/news/openai-appoints-exuber-exec-chief-compliance-officer\n",
      "2024-10-23 06:55:06,691 - AInewsbot - INFO - get_url(Aptos Orbital Announces Official Launch of Powerful AI Satellite Platform) - Saving Aptos_Orbital_Announces_Official_Launch_of_Powerful_AI_Satellite_Platform.html as utf-8\n",
      "2024-10-23 06:55:06,696 - AInewsbot - INFO - Processing page 64: https://go.theregister.com/feed/www.theregister.com/2024/10/23/ai_firms_and_civil_society/\n",
      "2024-10-23 06:55:06,696 - AInewsbot - INFO - get_url(https://go.theregister.com/feed/www.theregister.com/2024/10/23/ai_firms_and_civil_society/) - starting get_url https://go.theregister.com/feed/www.theregister.com/2024/10/23/ai_firms_and_civil_society/\n",
      "2024-10-23 06:55:07,299 - AInewsbot - INFO - get_url(As AI Hits E-Discovery, Lawyers Go From Big Law to Boutique) - Saving As_AI_Hits_E-Discovery__Lawyers_Go_From_Big_Law_to_Boutique.html as utf-8\n",
      "2024-10-23 06:55:07,300 - AInewsbot - INFO - Processing page 65: https://www.fonearena.com/blog/438619/samsung-tv-generative-wallpapers.html\n"
     ]
    },
    {
     "name": "stderr",
     "output_type": "stream",
     "text": [
      "2024-10-23 06:55:07,300 - AInewsbot - INFO - get_url(https://www.fonearena.com/blog/438619/samsung-tv-generative-wallpapers.html) - starting get_url https://www.fonearena.com/blog/438619/samsung-tv-generative-wallpapers.html\n",
      "2024-10-23 06:55:15,648 - AInewsbot - INFO - get_url(Thom Yorke and Robert Smith among 10,500 creatives to sign petition against AI) - Saving Thom_Yorke_and_Robert_Smith_among_10_500_creatives_to_sign_petition_against_AI.html as utf-8\n",
      "2024-10-23 06:55:15,649 - AInewsbot - INFO - Processing page 66: https://siliconangle.com/2024/10/22/ai-startup-tennr-raises-37m-automate-healthcare-document-processing/\n",
      "2024-10-23 06:55:15,650 - AInewsbot - INFO - get_url(https://siliconangle.com/2024/10/22/ai-startup-tennr-raises-37m-automate-healthcare-document-processing/) - starting get_url https://siliconangle.com/2024/10/22/ai-startup-tennr-raises-37m-automate-healthcare-document-processing/\n",
      "2024-10-23 06:55:19,336 - AInewsbot - INFO - get_url(Samsung TVs are getting 4K Generative Wallpapers) - Saving Samsung_TVs_are_getting_4K_Generative_Wallpapers.html as utf-8\n",
      "2024-10-23 06:55:19,339 - AInewsbot - INFO - Processing page 67: https://www.bbc.co.uk/news/articles/c93pz1dz2kxo\n",
      "2024-10-23 06:55:19,339 - AInewsbot - INFO - get_url(https://www.bbc.co.uk/news/articles/c93pz1dz2kxo) - starting get_url https://www.bbc.co.uk/news/articles/c93pz1dz2kxo\n",
      "2024-10-23 06:55:19,612 - AInewsbot - INFO - get_url(AI firms and civil society groups plead for passage of federal AI law ASAP) - Saving AI_firms_and_civil_society_groups_plead_for_passage_of_federal_AI_law_ASAP.html as utf-8\n",
      "2024-10-23 06:55:19,613 - AInewsbot - INFO - Processing page 68: https://newatlas.com/ai-humanoids/anthropic-claude-computer-use-agent-ai/\n",
      "2024-10-23 06:55:19,613 - AInewsbot - INFO - get_url(https://newatlas.com/ai-humanoids/anthropic-claude-computer-use-agent-ai/) - starting get_url https://newatlas.com/ai-humanoids/anthropic-claude-computer-use-agent-ai/\n",
      "2024-10-23 06:55:20,041 - AInewsbot - INFO - get_url(OpenAI appoints ex-Uber exec as chief compliance officer) - Saving OpenAI_appoints_ex-Uber_exec_as_chief_compliance_officer.html as utf-8\n",
      "2024-10-23 06:55:20,045 - AInewsbot - INFO - Processing page 69: https://news.google.com/read/CBMimAFBVV95cUxPYjBjY3dITXdtWDRaU29Xemc2aTktRHRJMnlDbm96d0JvVzVRQjh4U1ZrZjB2R2ZwbkI0OFBmMHlMenduZkVKWHZiRUF6UUNHSF9DU2dQTGpReDNfX2FiVG02bnh0aGVDemVrMTNmY0xJZ21VU1plOFl3dW8ybHZRdWxtQUdOT19lWXAwd295SjlTWFY5c1pZcw\n",
      "2024-10-23 06:55:20,046 - AInewsbot - INFO - get_url(https://news.google.com/read/CBMimAFBVV95cUxPYjBjY3dITXdtWDRaU29Xemc2aTktRHRJMnlDbm96d0JvVzVRQjh4U1ZrZjB2R2ZwbkI0OFBmMHlMenduZkVKWHZiRUF6UUNHSF9DU2dQTGpReDNfX2FiVG02bnh0aGVDemVrMTNmY0xJZ21VU1plOFl3dW8ybHZRdWxtQUdOT19lWXAwd295SjlTWFY5c1pZcw) - starting get_url https://news.google.com/read/CBMimAFBVV95cUxPYjBjY3dITXdtWDRaU29Xemc2aTktRHRJMnlDbm96d0JvVzVRQjh4U1ZrZjB2R2ZwbkI0OFBmMHlMenduZkVKWHZiRUF6UUNHSF9DU2dQTGpReDNfX2FiVG02bnh0aGVDemVrMTNmY0xJZ21VU1plOFl3dW8ybHZRdWxtQUdOT19lWXAwd295SjlTWFY5c1pZcw\n",
      "2024-10-23 06:55:30,115 - AInewsbot - INFO - get_url(AI at work: Will it contribute to employee burnout?) - Saving AI_at_work__Will_it_contribute_to_employee_burnout_.html as utf-8\n",
      "2024-10-23 06:55:30,117 - AInewsbot - INFO - Processing page 70: https://www.scmp.com/news/article/3283475/apples-tim-cook-meets-china-regulator-beijing-no-final-word-apple-intelligence\n",
      "2024-10-23 06:55:30,117 - AInewsbot - INFO - get_url(https://www.scmp.com/news/article/3283475/apples-tim-cook-meets-china-regulator-beijing-no-final-word-apple-intelligence) - starting get_url https://www.scmp.com/news/article/3283475/apples-tim-cook-meets-china-regulator-beijing-no-final-word-apple-intelligence\n",
      "2024-10-23 06:55:30,594 - AInewsbot - INFO - get_url(AI Is Making It Easier for Scammers to Steal Homes From Their Owners) - Saving AI_Is_Making_It_Easier_for_Scammers_to_Steal_Homes_From_Their_Owners.html as utf-8\n",
      "2024-10-23 06:55:30,596 - AInewsbot - INFO - Processing page 71: https://allwork.space/2024/10/hr-leaders-say-ai-is-the-future-but-someone-forgot-to-tell-the-employees/\n",
      "2024-10-23 06:55:30,597 - AInewsbot - INFO - get_url(https://allwork.space/2024/10/hr-leaders-say-ai-is-the-future-but-someone-forgot-to-tell-the-employees/) - starting get_url https://allwork.space/2024/10/hr-leaders-say-ai-is-the-future-but-someone-forgot-to-tell-the-employees/\n",
      "2024-10-23 06:55:32,187 - AInewsbot - INFO - get_url(Dawn of the Agent: New Claude AI can take over your computer) - Saving Dawn_of_the_Agent__New_Claude_AI_can_take_over_your_computer.html as utf-8\n",
      "2024-10-23 06:55:32,189 - AInewsbot - INFO - Processing page 72: https://www.techhive.com/article/2495998/heres-how-philips-hue-could-work-ai-into-its-lighting-scenes.html\n",
      "2024-10-23 06:55:32,190 - AInewsbot - INFO - get_url(https://www.techhive.com/article/2495998/heres-how-philips-hue-could-work-ai-into-its-lighting-scenes.html) - starting get_url https://www.techhive.com/article/2495998/heres-how-philips-hue-could-work-ai-into-its-lighting-scenes.html\n",
      "2024-10-23 06:55:43,246 - AInewsbot - INFO - get_url(Apple's Tim Cook meets China regulator in Beijing but no final word on Apple Intelligence) - Saving Apple_s_Tim_Cook_meets_China_regulator_in_Beijing_but_no_final_word_on_Apple_Intelligence.html as utf-8\n",
      "2024-10-23 06:55:43,250 - AInewsbot - INFO - Processing page 73: https://www.foreignaffairs.com/world/battles-precise-mass-technology-war-horowitz\n",
      "2024-10-23 06:55:43,251 - AInewsbot - INFO - get_url(https://www.foreignaffairs.com/world/battles-precise-mass-technology-war-horowitz) - starting get_url https://www.foreignaffairs.com/world/battles-precise-mass-technology-war-horowitz\n",
      "2024-10-23 06:55:43,384 - AInewsbot - INFO - get_url(HR Leaders Say AI Is The Future  But Someone Forgot To Tell The Employees) - Saving HR_Leaders_Say_AI_Is_The_Future__But_Someone_Forgot_To_Tell_The_Employees.html as utf-8\n",
      "2024-10-23 06:55:43,387 - AInewsbot - INFO - Processing page 74: https://www.androidheadlines.com/2024/10/google-chat-getting-ai-powered-summaries-via-gemini-integration.html\n",
      "2024-10-23 06:55:43,389 - AInewsbot - INFO - get_url(https://www.androidheadlines.com/2024/10/google-chat-getting-ai-powered-summaries-via-gemini-integration.html) - starting get_url https://www.androidheadlines.com/2024/10/google-chat-getting-ai-powered-summaries-via-gemini-integration.html\n",
      "2024-10-23 06:55:46,695 - AInewsbot - INFO - get_url(Heres how Philips Hue could work AI into its lighting scenes) - Saving Heres_how_Philips_Hue_could_work_AI_into_its_lighting_scenes.html as utf-8\n",
      "2024-10-23 06:55:46,697 - AInewsbot - INFO - Processing page 75: https://hackernoon.com/the-ai-energy-crisis-and-a-newfound-push-for-efficiency\n",
      "2024-10-23 06:55:46,698 - AInewsbot - INFO - get_url(https://hackernoon.com/the-ai-energy-crisis-and-a-newfound-push-for-efficiency) - starting get_url https://hackernoon.com/the-ai-energy-crisis-and-a-newfound-push-for-efficiency\n",
      "2024-10-23 06:55:54,584 - AInewsbot - INFO - get_url(Google Chat getting AI-powered summaries via Gemini integration) - Saving Google_Chat_getting_AI-powered_summaries_via_Gemini_integration.html as utf-8\n",
      "2024-10-23 06:55:54,587 - AInewsbot - INFO - Processing page 76: https://www.cnbc.com/2024/10/22/anthropic-announces-ai-agents-for-complex-tasks-racing-openai.html\n",
      "2024-10-23 06:55:54,588 - AInewsbot - INFO - get_url(https://www.cnbc.com/2024/10/22/anthropic-announces-ai-agents-for-complex-tasks-racing-openai.html) - starting get_url https://www.cnbc.com/2024/10/22/anthropic-announces-ai-agents-for-complex-tasks-racing-openai.html\n",
      "2024-10-23 06:55:55,082 - AInewsbot - INFO - get_url(How advances in AI and autonomous systems, new tech, and lower costs are shifting global wars towards \"precise mass\", or the mass deployment of uncrewed systems (Michael C. Horowitz/Foreign Affairs)) - Saving How_advances_in_AI_and_autonomous_systems__new_tech__and_lower_costs_are_shifting_global_wars_towards__precise_mass___or_the_mass_deployment_of_uncrewed_systems__Michael_C__Horowitz_Foreign_Affairs_.html as utf-8\n",
      "2024-10-23 06:55:55,084 - AInewsbot - INFO - Processing page 77: https://greekreporter.com/2024/10/23/new-york-post-wsj-sue-perplexity-ai/\n",
      "2024-10-23 06:55:55,084 - AInewsbot - INFO - get_url(https://greekreporter.com/2024/10/23/new-york-post-wsj-sue-perplexity-ai/) - starting get_url https://greekreporter.com/2024/10/23/new-york-post-wsj-sue-perplexity-ai/\n"
     ]
    },
    {
     "name": "stderr",
     "output_type": "stream",
     "text": [
      "2024-10-23 06:55:58,428 - AInewsbot - INFO - get_url(The AI Energy Crisis & A Newfound Push for Efficiency) - Saving The_AI_Energy_Crisis___A_Newfound_Push_for_Efficiency.html as utf-8\n",
      "2024-10-23 06:55:58,430 - AInewsbot - INFO - Processing page 78: https://news.google.com/read/CBMiiwFBVV95cUxQbGtQZjJ3TWlnS1dvZHhjcWtVZENCZUl0Z0QtdTE0NG5yeTB5cjU4UFVLTjVXQUpMNFQxcW51OVAxc3ItWGIzZTNQbGNxTHhwNW11RDRnUkRITXdsQnNnSGF5MTNyOG5ublJrcnBTZGFuWmZBdTY4eUR4MlI1aG03N3VQTTZGVHpUUlBj\n",
      "2024-10-23 06:55:58,430 - AInewsbot - INFO - get_url(https://news.google.com/read/CBMiiwFBVV95cUxQbGtQZjJ3TWlnS1dvZHhjcWtVZENCZUl0Z0QtdTE0NG5yeTB5cjU4UFVLTjVXQUpMNFQxcW51OVAxc3ItWGIzZTNQbGNxTHhwNW11RDRnUkRITXdsQnNnSGF5MTNyOG5ublJrcnBTZGFuWmZBdTY4eUR4MlI1aG03N3VQTTZGVHpUUlBj) - starting get_url https://news.google.com/read/CBMiiwFBVV95cUxQbGtQZjJ3TWlnS1dvZHhjcWtVZENCZUl0Z0QtdTE0NG5yeTB5cjU4UFVLTjVXQUpMNFQxcW51OVAxc3ItWGIzZTNQbGNxTHhwNW11RDRnUkRITXdsQnNnSGF5MTNyOG5ublJrcnBTZGFuWmZBdTY4eUR4MlI1aG03N3VQTTZGVHpUUlBj\n",
      "2024-10-23 06:56:05,231 - AInewsbot - INFO - get_url(Amazon-backed Anthropic debuts AI agents that can do complex tasks, racing against OpenAI, Microsoft and Google) - Saving Amazon-backed_Anthropic_debuts_AI_agents_that_can_do_complex_tasks__racing_against_OpenAI__Microsoft_and_Google.html as utf-8\n",
      "2024-10-23 06:56:05,235 - AInewsbot - INFO - Processing page 79: https://www.washingtonpost.com/technology/2018/12/31/scarlett-johansson-fake-ai-generated-sex-videos-nothing-can-stop-someone-cutting-pasting-my-image/\n",
      "2024-10-23 06:56:05,236 - AInewsbot - INFO - get_url(https://www.washingtonpost.com/technology/2018/12/31/scarlett-johansson-fake-ai-generated-sex-videos-nothing-can-stop-someone-cutting-pasting-my-image/) - starting get_url https://www.washingtonpost.com/technology/2018/12/31/scarlett-johansson-fake-ai-generated-sex-videos-nothing-can-stop-someone-cutting-pasting-my-image/\n",
      "2024-10-23 06:56:05,399 - AInewsbot - INFO - get_url(New York Post, WSJ File Lawsuit Against Perplexity AI Over Author Rights) - Saving New_York_Post__WSJ_File_Lawsuit_Against_Perplexity_AI_Over_Author_Rights.html as utf-8\n",
      "2024-10-23 06:56:05,400 - AInewsbot - INFO - Processing page 80: https://www.theregister.com/2024/10/23/ai_firms_and_civil_society/\n",
      "2024-10-23 06:56:05,401 - AInewsbot - INFO - get_url(https://www.theregister.com/2024/10/23/ai_firms_and_civil_society/) - starting get_url https://www.theregister.com/2024/10/23/ai_firms_and_civil_society/\n",
      "2024-10-23 06:56:08,789 - AInewsbot - INFO - get_url(Character.ai Faces Lawsuit After Teens Suicide) - Saving Character_ai_Faces_Lawsuit_After_Teens_Suicide.html as utf-8\n",
      "2024-10-23 06:56:08,791 - AInewsbot - INFO - Processing page 81: https://news.google.com/read/CBMisgFBVV95cUxQVWpGN2xxWl9XS0hIdm9QWjlJY3lndlJuTnh2TU95X29ZWlhDZTVFMG9Fa3NCdnNoQXE4cHF5NV9fQWxQd0tLNnFub0RudG5FMVVlQVNkNXZ5QlY0aERZR2lTNVBwZV9OZ3RuYlZQeF9lSXlZRG12YllNT2tqVDRMNExfNFpwNW9RYVVDWHRqakFqcndPejdEOW5Kcnd4aGk5S2VxNEhENmg2OHJfTmktaDl30gG6AUFVX3lxTE5zbWZsR3ZoUW9xeF9TZEFvdlJRTUJPRXE0U0pTZkR4bHg3cTVDall4OFNNaVFXU2lBeGtYQTRyV2prNUhMVzRrSXRZektlQWJkREJxU3BtR2FfMTAtS0FMWDlvcFU2VkRXdTNXWUhHVzB4UW1zOHR6VENrb2YzLWNWVDZhS0dfOTZVQjk4OWV3bXE0OUhHc3h3TXI0aU5UR0dYcmtMY2V0ZXJwTTdyR0thY1NNTGRfSlRxQQ\n",
      "2024-10-23 06:56:08,791 - AInewsbot - INFO - get_url(https://news.google.com/read/CBMisgFBVV95cUxQVWpGN2xxWl9XS0hIdm9QWjlJY3lndlJuTnh2TU95X29ZWlhDZTVFMG9Fa3NCdnNoQXE4cHF5NV9fQWxQd0tLNnFub0RudG5FMVVlQVNkNXZ5QlY0aERZR2lTNVBwZV9OZ3RuYlZQeF9lSXlZRG12YllNT2tqVDRMNExfNFpwNW9RYVVDWHRqakFqcndPejdEOW5Kcnd4aGk5S2VxNEhENmg2OHJfTmktaDl30gG6AUFVX3lxTE5zbWZsR3ZoUW9xeF9TZEFvdlJRTUJPRXE0U0pTZkR4bHg3cTVDall4OFNNaVFXU2lBeGtYQTRyV2prNUhMVzRrSXRZektlQWJkREJxU3BtR2FfMTAtS0FMWDlvcFU2VkRXdTNXWUhHVzB4UW1zOHR6VENrb2YzLWNWVDZhS0dfOTZVQjk4OWV3bXE0OUhHc3h3TXI0aU5UR0dYcmtMY2V0ZXJwTTdyR0thY1NNTGRfSlRxQQ) - starting get_url https://news.google.com/read/CBMisgFBVV95cUxQVWpGN2xxWl9XS0hIdm9QWjlJY3lndlJuTnh2TU95X29ZWlhDZTVFMG9Fa3NCdnNoQXE4cHF5NV9fQWxQd0tLNnFub0RudG5FMVVlQVNkNXZ5QlY0aERZR2lTNVBwZV9OZ3RuYlZQeF9lSXlZRG12YllNT2tqVDRMNExfNFpwNW9RYVVDWHRqakFqcndPejdEOW5Kcnd4aGk5S2VxNEhENmg2OHJfTmktaDl30gG6AUFVX3lxTE5zbWZsR3ZoUW9xeF9TZEFvdlJRTUJPRXE0U0pTZkR4bHg3cTVDall4OFNNaVFXU2lBeGtYQTRyV2prNUhMVzRrSXRZektlQWJkREJxU3BtR2FfMTAtS0FMWDlvcFU2VkRXdTNXWUhHVzB4UW1zOHR6VENrb2YzLWNWVDZhS0dfOTZVQjk4OWV3bXE0OUhHc3h3TXI0aU5UR0dYcmtMY2V0ZXJwTTdyR0thY1NNTGRfSlRxQQ\n",
      "2024-10-23 06:56:16,866 - AInewsbot - INFO - get_url(AI firms and civil society groups plead for passage of federal AI law ASAPCongress urged to act before year's end to support US competitivenessAI + ML4 hrs|3) - Saving AI_firms_and_civil_society_groups_plead_for_passage_of_federal_AI_law_ASAPCongress_urged_to_act_before_year_s_end_to_support_US_competitivenessAI___ML4_hrs_3.html as utf-8\n",
      "2024-10-23 06:56:16,867 - AInewsbot - INFO - Processing page 82: https://hackernoon.com/artificial-minds-human-consequences-explaining-ais-impact-on-our-education-cognition-and-more\n",
      "2024-10-23 06:56:16,867 - AInewsbot - INFO - get_url(https://hackernoon.com/artificial-minds-human-consequences-explaining-ais-impact-on-our-education-cognition-and-more) - starting get_url https://hackernoon.com/artificial-minds-human-consequences-explaining-ais-impact-on-our-education-cognition-and-more\n",
      "2024-10-23 06:56:17,971 - AInewsbot - INFO - get_url(Scarlett Johansson on fake AI-generated sex videos: Nothing can stop someone from cutting and pasting my image) - Saving Scarlett_Johansson_on_fake_AI-generated_sex_videos__Nothing_can_stop_someone_from_cutting_and_pasting_my_image.html as utf-8\n",
      "2024-10-23 06:56:17,973 - AInewsbot - INFO - Processing page 83: https://www.marktechpost.com/2024/10/22/discrete-diffusion-with-planned-denoising-ddpd-a-novel-machine-learning-framework-that-decomposes-the-discrete-generation-process-into-planning-and-denoising/\n",
      "2024-10-23 06:56:17,973 - AInewsbot - INFO - get_url(https://www.marktechpost.com/2024/10/22/discrete-diffusion-with-planned-denoising-ddpd-a-novel-machine-learning-framework-that-decomposes-the-discrete-generation-process-into-planning-and-denoising/) - starting get_url https://www.marktechpost.com/2024/10/22/discrete-diffusion-with-planned-denoising-ddpd-a-novel-machine-learning-framework-that-decomposes-the-discrete-generation-process-into-planning-and-denoising/\n",
      "2024-10-23 06:56:19,344 - AInewsbot - INFO - get_url(Stable Diffusion 3.5: Stability AI Redeems Itself With New Models and Expanded Features) - Saving Stable_Diffusion_3_5__Stability_AI_Redeems_Itself_With_New_Models_and_Expanded_Features.html as utf-8\n",
      "2024-10-23 06:56:19,346 - AInewsbot - INFO - Processing page 84: https://www.businessinsider.com/amazon-data-centers-delays-costs-power-labor-shortages-aws-ai-2024-10\n",
      "2024-10-23 06:56:19,346 - AInewsbot - INFO - get_url(https://www.businessinsider.com/amazon-data-centers-delays-costs-power-labor-shortages-aws-ai-2024-10) - starting get_url https://www.businessinsider.com/amazon-data-centers-delays-costs-power-labor-shortages-aws-ai-2024-10\n",
      "2024-10-23 06:56:27,796 - AInewsbot - INFO - get_url(Artificial Minds, Human Consequences: Explaining AIs Impact on Our Education, Cognition, and More) - Saving Artificial_Minds__Human_Consequences__Explaining_AIs_Impact_on_Our_Education__Cognition__and_More.html as utf-8\n",
      "2024-10-23 06:56:27,797 - AInewsbot - INFO - Processing page 85: https://www.tomshardware.com/tech-industry/artificial-intelligence/huaweis-latest-ai-processors-were-allegedly-made-by-tsmc-report\n",
      "2024-10-23 06:56:27,797 - AInewsbot - INFO - get_url(https://www.tomshardware.com/tech-industry/artificial-intelligence/huaweis-latest-ai-processors-were-allegedly-made-by-tsmc-report) - starting get_url https://www.tomshardware.com/tech-industry/artificial-intelligence/huaweis-latest-ai-processors-were-allegedly-made-by-tsmc-report\n",
      "2024-10-23 06:56:29,634 - AInewsbot - INFO - get_url(Amazon's AI data center dream runs into the reality of 'zombie' facilities, higher costs, and labor shortages) - Saving Amazon_s_AI_data_center_dream_runs_into_the_reality_of__zombie__facilities__higher_costs__and_labor_shortages.html as utf-8\n",
      "2024-10-23 06:56:29,637 - AInewsbot - INFO - Quit webdriver\n",
      "2024-10-23 06:56:30,755 - AInewsbot - INFO - get_url(Discrete Diffusion with Planned Denoising (DDPD): A Novel Machine Learning Framework that Decomposes the Discrete Generation Process into Planning and Denoising) - Saving Discrete_Diffusion_with_Planned_Denoising__DDPD___A_Novel_Machine_Learning_Framework_that_Decomposes_the_Discrete_Generation_Process_into_Planning_and_Denoising.html as utf-8\n"
     ]
    },
    {
     "name": "stderr",
     "output_type": "stream",
     "text": [
      "2024-10-23 06:56:30,757 - AInewsbot - INFO - Quit webdriver\n",
      "2024-10-23 06:56:34,933 - AInewsbot - INFO - 24 pages saved\n",
      "2024-10-23 06:56:35,033 - AInewsbot - INFO - 24 pages saved\n",
      "2024-10-23 06:56:42,138 - AInewsbot - INFO - get_url(Huawei's latest AI processors were allegedly made by TSMC: Report) - Saving Huawei_s_latest_AI_processors_were_allegedly_made_by_TSMC__Report.html as utf-8\n",
      "2024-10-23 06:56:42,141 - AInewsbot - INFO - Quit webdriver\n",
      "2024-10-23 06:56:44,893 - AInewsbot - INFO - 19 pages saved\n",
      "2024-10-23 07:00:16,470 - AInewsbot - INFO - Error fetching https://siliconangle.com/2024/10/22/ai-startup-tennr-raises-37m-automate-healthcare-document-processing/: Message: Navigation timed out after 300000 ms\n",
      "Stacktrace:\n",
      "RemoteError@chrome://remote/content/shared/RemoteError.sys.mjs:8:8\n",
      "WebDriverError@chrome://remote/content/shared/webdriver/Errors.sys.mjs:192:5\n",
      "TimeoutError@chrome://remote/content/shared/webdriver/Errors.sys.mjs:739:5\n",
      "bail@chrome://remote/content/marionette/sync.sys.mjs:211:19\n",
      "\n",
      "2024-10-23 07:00:16,471 - AInewsbot - INFO - Error processing https://siliconangle.com/2024/10/22/ai-startup-tennr-raises-37m-automate-healthcare-document-processing/, continuing...\n",
      "2024-10-23 07:00:16,472 - AInewsbot - INFO - Quit webdriver\n",
      "2024-10-23 07:00:19,130 - AInewsbot - INFO - 18 pages saved\n",
      "2024-10-23 07:00:19,133 - AInewsbot - INFO - returned 85\n",
      "2024-10-23 07:00:19,191 - AInewsbot - INFO - Starting summarize\n",
      "2024-10-23 07:00:19,228 - AInewsbot - INFO - fetch_all_summaries - Page title: AI sparks backlash from ABBA, Radiohead, and The Cure–thousands of artists sign letter protesting the use of their work to train robots | Fortune\n",
      "Social card title: AI sparks backlash from ABBA, Radiohead, and The Cure–thousands of artists sign letter protesting the use of their work to train robots\n",
      "Social card description: AI sparks backlash from ABBA, Radiohead, and The Cure–thousands of artists sign letter protesting the use of their work to train robots\n",
      "\n",
      "2024-10-23 07:00:19,329 - AInewsbot - INFO - fetch_all_summaries - Page title: ABBA, Radiohead and The Cure musicians sign AI protest letter against 'unlicensed use' of works - The Washington Post\n",
      "Social card title: ABBA, Radiohead and The Cure musicians sign AI protest letter against 'unlicensed use' of works\n",
      "Social card description: Musicians from ABBA, Radiohead and The Cure have joined actors and authors in signing a protest letter against the mining of their artistry to build artificial intelligence tools\n",
      "\n",
      "2024-10-23 07:00:19,375 - AInewsbot - INFO - fetch_all_summaries - Page title: ABBA, Radiohead and The Cure musicians sign AI protest letter against ‘unlicensed use’ of works | The Hill\n",
      "Social card title: ABBA, Radiohead and The Cure musicians sign AI protest letter against ‘unlicensed use’ of works\n",
      "Social card description: LONDON (AP) — Musicians from ABBA, Radiohead and The Cure have joined actors and authors in signing a protest letter against the mining of their artistry to build artificial intelligence tools. Tho…\n",
      "\n",
      "2024-10-23 07:00:19,442 - AInewsbot - INFO - fetch_all_summaries - Page title: REPORT: Apple Intelligence could be two years behind ChatGPT even before it launches | Windows Central\n",
      "Social card title: A leaked internal report claims Apple Intelligence could be two years behind OpenAI's ChatGPT but it’s hard to count the iPhone maker out of the AI race: “By 2026, nearly every Apple device with a screen will run it\"\n",
      "Social card description: Apple Intelligence is slated to ship on October 28, 2024, but it needs to catch up quick.\n",
      "\n",
      "2024-10-23 07:00:19,509 - AInewsbot - INFO - fetch_all_summaries - Page title: Apple Intelligence Isn’t Very Smart Yet—and Apple’s OK With That - WSJ\n",
      "Social card title: Apple Intelligence Isn’t Very Smart Yet—and Apple’s OK With That\n",
      "Social card description: Our columnist reviews the first wave of AI features coming to iPhones with iOS 18.1, and asks Apple’s software chief why so much is still missing.\n",
      "\n",
      "2024-10-23 07:00:19,528 - AInewsbot - INFO - fetch_all_summaries - Page title: wsj.com\n",
      "\n",
      "2024-10-23 07:00:19,607 - trafilatura.core - WARNING - discarding data: None\n",
      "2024-10-23 07:00:19,639 - AInewsbot - INFO - fetch_all_summaries - Page title: Craig Federighi says Siri won't become sentient, but it'll get better | AppleInsider\n",
      "Social card title: Craig Federighi says Siri won't become sentient, but it'll get better | AppleInsider\n",
      "Social card description: Apple head of software Craig Federighi was asked about Siri and Apple Intelligence, and while he couldn't discuss the future, he was sure Siri was never going to become some kind of sentient pal.\n",
      "\n",
      "2024-10-23 07:00:19,666 - AInewsbot - INFO - fetch_all_summaries - Page title: Google News\n",
      "Social card title: Google News\n",
      "Social card description: Comprehensive up-to-date news coverage, aggregated from sources all over the world by Google News.\n",
      "\n",
      "2024-10-23 07:00:19,675 - AInewsbot - INFO - fetch_all_summaries - Page title: wsj.com\n",
      "\n",
      "2024-10-23 07:00:19,677 - trafilatura.core - WARNING - discarding data: None\n",
      "2024-10-23 07:00:19,689 - AInewsbot - INFO - fetch_all_summaries - Page title: Google's AI tech on devices will deter phone thieves, victim says\n",
      "Social card title: Google's AI tech on devices will deter phone thieves, victim says\n",
      "Social card description: Tyler had his phone snatched - now Google is using AI updates to Android to deter phone thefts.\n",
      "\n",
      "2024-10-23 07:00:19,706 - AInewsbot - INFO - fetch_all_summaries - Page title: wsj.com\n",
      "\n",
      "2024-10-23 07:00:19,708 - trafilatura.core - WARNING - discarding data: None\n",
      "2024-10-23 07:00:19,723 - AInewsbot - INFO - fetch_all_summaries - Page title: Craig Federighi Explains Phased Release of Apple Intelligence Features - MacRumors\n",
      "Social card title: Craig Federighi Explains Phased Release of Apple Intelligence Features\n",
      "Social card description: In a new interview with The Wall Street Journal, Apple's head of software Craig Federighi has highlighted the company's measured, multi-phase...\n",
      "\n",
      "2024-10-23 07:00:20,047 - AInewsbot - INFO - fetch_all_summaries - Page title: Qualcomm’s Snapdragon 8 Elite to give Chinese smartphones an AI power boost | South China Morning Post\n",
      "Social card title: Qualcomm’s Snapdragon 8 Elite to give Chinese smartphones an AI power boost\n",
      "Social card description: Xiaomi, OnePlus, Realme and Honor have announced devices with the new chip as they look to take on Apple and Samsung in AI.\n",
      "\n",
      "2024-10-23 07:00:20,087 - AInewsbot - INFO - fetch_all_summaries - Page title: Qualcomm and Google team up to help carmakers create AI voice systems\n",
      "Social card title: Qualcomm and Google team up to help carmakers create AI voice systems\n",
      "Social card description: The two tech companies are working on a new system that will let carmakers create their own voice-powered AI assistants.\n",
      "\n",
      "2024-10-23 07:00:20,117 - AInewsbot - INFO - fetch_all_summaries - Page title: Qualcomm and Google to collaborate on more intelligent cars with integrated generative AI - SiliconANGLE\n",
      "Social card title: Qualcomm and Google to collaborate on more intelligent cars with integrated generative AI - SiliconANGLE\n",
      "Social card description: Qualcomm and Google to collaborate on more intelligent cars with integrated generative AI - SiliconANGLE\n",
      "\n",
      "2024-10-23 07:00:20,153 - AInewsbot - INFO - fetch_all_summaries - Page title: Qualcomm (QCOM) CEO Amon Says Everyone Will Have AI Smartphone in Five Years - Bloomberg\n",
      "Social card title: Qualcomm CEO Says Everyone Will Have AI Smartphone in Five Years\n",
      "Social card description: Qualcomm Inc. Chief Executive Officer Cristiano Amon, who unveiled a new version of the company’s Snapdragon processor this week, said new phones that handle artificial intelligence on the device itself will be common within a few years.\n",
      "\n",
      "2024-10-23 07:00:20,193 - AInewsbot - INFO - fetch_all_summaries - Page title: New AI tech helps police track suspects' cars without license plate numbers | Fox News Video\n",
      "Social card title: New AI tech helps police track suspects' cars without license plate numbers | Fox News Video\n",
      "Social card description: Veritone CEO Ryan Steelberg explains how Veritone Track, an AI software, helps police find suspects' vehicles on municipal cameras without having a license plate number.\n",
      "\n"
     ]
    },
    {
     "name": "stderr",
     "output_type": "stream",
     "text": [
      "2024-10-23 07:00:20,249 - AInewsbot - INFO - fetch_all_summaries - Page title: Minerals Technologies Announces Deployment of Artificial Intelligence Technology for Mining\n",
      "Social card title: Minerals Technologies Announces Deployment of Artificial Intelligence Technology for Mining\n",
      "Social card description: NEW YORK, Oct. 22, 2024 (GLOBE NEWSWIRE) -- Minerals Technologies Inc. (NYSE: MTX) (MTI), a global specialty minerals company, has expanded its partnership with AIM Intelligent Machines Inc. (AIM), a technology company specializing in AI-enabled safety, productivity, and analytics for mining equipment. AIM enables mining operations to run continuously at peak performance in all weather conditions, unlocking value across fuel savings, fleet availability, and optimal site planning. This innovative\n",
      "\n",
      "2024-10-23 07:00:20,308 - AInewsbot - INFO - fetch_all_summaries - Page title: Moonshine: A Fast, Accurate, and Lightweight Speech-to-Text Models for Transcription and Voice Command Processing on Edge Devices - MarkTechPost\n",
      "Social card title: Moonshine: A Fast, Accurate, and Lightweight Speech-to-Text Models for Transcription and Voice Command Processing on Edge Devices\n",
      "Social card description: Speech recognition technology has become crucial in various modern applications, particularly real-time transcription and voice-activated command systems. It is essential in accessibility tools for individuals with hearing impairments, real-time captions during presentations, and voice-based controls in smart devices. These applications require immediate, precise feedback, often on devices with limited computing power. As these technologies expand into smaller and more cost-effective hardware, the need for efficient and fast speech recognition systems becomes even more critical. Devices that operate without a stable internet connection face additional challenges, making it necessary to develop solutions that can function well in such constrained environments. One\n",
      "\n",
      "2024-10-23 07:00:20,356 - AInewsbot - INFO - fetch_all_summaries - Page title: AI firms need to address security, open-source concerns: G42 exec\n",
      "Social card title: AI firms need to address security, open-source concerns: G42 exec\n",
      "Social card description: Industry leaders from Gulf-based G42, IBM, and BNY joined Semafor at an event focused on the Gulf’s role in emerging technology.\n",
      "\n",
      "2024-10-23 07:00:20,413 - AInewsbot - INFO - fetch_all_summaries - Page title: IBM Launches Guardium Data Security Center to Address AI, Quantum, and Hybrid Cloud Risks\n",
      "Social card title: IBM Launches Guardium Data Security Center to Address AI, Quantum, and Hybrid Cloud Risks\n",
      "Social card description: IBM Guardium AI Security secures AI deployments against vulnerabilities and addresses governance violations\n",
      "\n",
      "2024-10-23 07:00:20,467 - AInewsbot - INFO - fetch_all_summaries - Page title: Toilet camera uses AI to analyze pics of poop and measure your gut health | Digital Camera World\n",
      "Social card title: Toilet camera uses AI to analyze pics of poop and measure your gut health\n",
      "Social card description: I'm on the Throne! This camera clips onto the john and cuts the crap to tell you how healthy your insides are\n",
      "\n",
      "2024-10-23 07:00:20,517 - AInewsbot - INFO - fetch_all_summaries - Page title: Applying AI to satellite manufacturing - SpaceNews\n",
      "Social card title: Applying AI to satellite manufacturing\n",
      "Social card description: MOUNTAIN VIEW, Calif. – Companies are proceeding cautiously in applying artificial intelligence to satellite manufacturing. Blue Canyon Technologies, for example, wants to better understand how AI …\n",
      "\n",
      "2024-10-23 07:00:20,545 - AInewsbot - INFO - fetch_all_summaries - Page title: Key Roles in a Fraud Prediction Project with Machine Learning | by Mahsa Ebrahimian | Towards Data Science\n",
      "Social card title: Key Roles in a Fraud Prediction project with Machine Learning\n",
      "Social card description: What type of roles are involved in developing a ML model for fraud prediction?\n",
      "\n",
      "2024-10-23 07:00:20,593 - AInewsbot - INFO - fetch_all_summaries - Page title: Apple is ‘concerned’ about AI turning real photos into ‘fantasy’ - The Verge\n",
      "Social card title: Apple is ‘concerned’ about AI turning real photos into ‘fantasy’\n",
      "Social card description: “It’s important to us that we help purvey accurate information.”\n",
      "\n",
      "2024-10-23 07:00:20,615 - AInewsbot - INFO - fetch_all_summaries - Page title: wsj.com\n",
      "\n",
      "2024-10-23 07:00:20,617 - trafilatura.core - WARNING - discarding data: None\n",
      "2024-10-23 07:00:20,646 - AInewsbot - INFO - fetch_all_summaries - Page title: ‘Wicked’ star Ariana Grande finds AI ‘troublesome’ after fan-edited posters cause controversy | Fox News\n",
      "Social card title: ‘Wicked’ star Ariana Grande finds AI ‘troublesome’ after fan-edited posters cause controversy\n",
      "Social card description: Ariana Grande spoke out about the AI and fan-altered \"Wicked\" posters, which her co-star Cynthia Erivo had previously called out as offensive.\n",
      "\n",
      "2024-10-23 07:00:20,687 - AInewsbot - INFO - fetch_all_summaries - Page title: Why it's so challenging to deploy AI on space missions - Fast Company\n",
      "Social card title: Why it's so challenging to deploy AI on space missions\n",
      "Social card description: Mission Control CTO Michele Faragalli explains the difficulty of employing LLMs in space.\n",
      "\n",
      "2024-10-23 07:00:20,711 - AInewsbot - INFO - fetch_all_summaries - Page title: IBM just launched powerful new open source AI models – here’s what you need to know | ITPro\n",
      "Social card title: IBM just launched powerful new open source AI models – here’s what you need to know\n",
      "Social card description: Available under the Apache 2.0 license, IBM's Granite 3.0 models are trained on enterprise data and can out-perform the competition\n",
      "\n",
      "2024-10-23 07:00:20,748 - AInewsbot - INFO - fetch_all_summaries - Page title: Meta AI tackles maths problems that stumped humans for over a century | New Scientist\n",
      "Social card title: Meta AI tackles maths problems that stumped humans for over a century\n",
      "Social card description: A type of mathematical problem that was previously impossible to solve can now be successfully analysed with artificial intelligence\n",
      "\n",
      "2024-10-23 07:00:20,767 - AInewsbot - INFO - fetch_all_summaries - Page title: It's Now Illegal to Post Fake AI-Generated Product Reviews by People Who Don't Exist\n",
      "Social card title: It's Now Illegal to Post Fake AI-Generated Product Reviews by People Who Don't Exist\n",
      "Social card description: New FTC guidelines went into effect this week, officially rendering it illegal to publish fake, misleading, and AI-generated product reviews.\n",
      "\n",
      "2024-10-23 07:00:20,775 - AInewsbot - INFO - fetch_all_summaries - Page title: fastcompany.com\n",
      "\n",
      "2024-10-23 07:00:20,777 - trafilatura.core - WARNING - discarding data: None\n",
      "2024-10-23 07:00:20,799 - AInewsbot - INFO - fetch_all_summaries - Page title: Legal Startup Genie AI Secures Funding From Google and Khosla Ventures - Business Insider\n",
      "Social card title: Exclusive: Legal tech startup Genie AI just raised $17.8 million from Google and Khosla Ventures using this 13-slide deck\n",
      "Social card description: Genie AI has developed an editing platform that uses AI to draft and review legal documents for companies.\n",
      "\n",
      "2024-10-23 07:00:20,834 - AInewsbot - INFO - fetch_all_summaries - Page title: Tim Cook meets China regulator in Beijing but no final word on Apple Intelligence | South China Morning Post\n",
      "Social card title: Apple’s Tim Cook meets Chinese regulators but no final word on AI roll-out\n",
      "Social card description: Chinese consumers have been vocal about their desire to see Apple bring its generative AI services to China as soon as possible.\n",
      "\n",
      "2024-10-23 07:00:20,974 - AInewsbot - INFO - fetch_all_summaries - Page title: Foreign adversaries using artificial intelligence to meddle in U.S. election, FBI says\n",
      "Social card title: Foreign adversaries using artificial intelligence to meddle in U.S. election, FBI says\n",
      "Social card description: The FBI is warning that Russia and other adversarial nations are using artificial intelligence to confuse voters and meddle in our elections, and technology they can use to deceive us is getting far more advanced.\n",
      "\n",
      "2024-10-23 07:00:21,021 - AInewsbot - INFO - fetch_all_summaries - Page title: ML Metamorphosis: Chaining ML Models for Optimized Results | by Vadim Arzamasov | Oct, 2024 | Towards Data Science\n",
      "Social card title: ML Metamorphosis: Chaining ML Models for Optimized Results\n",
      "Social card description: The universal principle of knowledge distillation, model compression, and rule extraction\n",
      "\n"
     ]
    },
    {
     "name": "stderr",
     "output_type": "stream",
     "text": [
      "2024-10-23 07:00:21,074 - AInewsbot - INFO - fetch_all_summaries - Page title: Meet Quatfit, The AI Innovator in HackerNoon’s Startups of the Year Awards! | HackerNoon\n",
      "Social card title: Meet Quatfit, The AI Innovator in HackerNoon’s Startups of the Year Awards! | HackerNoon\n",
      "Social card description: Join us in supporting Quatfit, a pioneering AI startup from Telangana, nominated for HackerNoon’s Startups of the Year. \n",
      "\n",
      "2024-10-23 07:00:21,113 - AInewsbot - INFO - fetch_all_summaries - Page title: Yahoo is part of the Yahoo family of brands\n",
      "\n",
      "2024-10-23 07:00:21,127 - AInewsbot - INFO - fetch_all_summaries - Page title: Fast-scaling GenAI users can be 'corner cases' in testing • The Register\n",
      "Social card title: Fast-scaling GenAI users can be 'corner cases' in testing\n",
      "Social card description: GenAI poster child is a 100-story-tall baby with simple infrastructure but extreme demands\n",
      "\n",
      "2024-10-23 07:00:21,159 - AInewsbot - INFO - fetch_all_summaries - Page title: Anthropic’s latest AI update can use a computer on its own - The Verge\n",
      "Social card title: Anthropic’s latest AI update can use a computer on its own\n",
      "Social card description: Isn’t that what the Rabbit R1 was supposed to do?\n",
      "\n",
      "2024-10-23 07:00:21,194 - AInewsbot - INFO - fetch_all_summaries - Page title: Parents of Massachusetts high schooler disciplined for using AI sue school - The Washington Post\n",
      "Social card title: Parents of Massachusetts high schooler disciplined for using AI sue school\n",
      "Social card description: The parents of a high school senior in Massachusetts argued in federal court in Boston that their son was unfairly punished for using artificial intelligence while researching a history project, harming his prospects for acceptance to an elite college\n",
      "\n",
      "2024-10-23 07:00:21,223 - AInewsbot - INFO - fetch_all_summaries - Page title: Anthropic publicly releases AI tool that can take over the user’s mouse cursor\n",
      "Social card title: Anthropic publicly releases AI tool that can take over the user’s mouse cursor\n",
      "Social card description: Anthropic is one of the first to go beyond just screen vision.\n",
      "\n",
      "2024-10-23 07:00:21,256 - AInewsbot - INFO - fetch_all_summaries - Page title: Generative Reward Models (GenRM): A Hybrid Approach to Reinforcement Learning from Human and AI Feedback, Solving Task Generalization and Feedback Collection Challenges - MarkTechPost\n",
      "Social card title: Generative Reward Models (GenRM): A Hybrid Approach to Reinforcement Learning from Human and AI Feedback, Solving Task Generalization and Feedback Collection Challenges\n",
      "Social card description: Reinforcement learning (RL) has been pivotal in advancing artificial intelligence by enabling models to learn from their interactions with the environment. Traditionally, reinforcement learning relies on rewards for positive actions and penalties for negative ones. A recent approach, Reinforcement Learning from Human Feedback (RLHF), has brought remarkable improvements to large language models (LLMs) by incorporating human preferences into the training process. RLHF ensures that AI systems behave in ways aligned with human values. However, gathering and processing this feedback is resource-intensive, requiring large datasets of human-labeled preferences. With AI systems growing in scale and complexity, researchers are exploring more efficient\n",
      "\n",
      "2024-10-23 07:00:21,296 - AInewsbot - INFO - fetch_all_summaries - Page title: Kevin Bacon, Kate McKinnon, and other creatives warn of ‘unjust’ AI threat - The Verge\n",
      "Social card title: Kevin Bacon, Kate McKinnon, and other creatives warn of ‘unjust’ AI threat\n",
      "Social card description: Unauthorized AI training threatens livelihoods, their statement says.\n",
      "\n",
      "2024-10-23 07:00:21,319 - AInewsbot - INFO - fetch_all_summaries - Page title: Yahoo is part of the Yahoo family of brands\n",
      "\n",
      "2024-10-23 07:00:21,333 - AInewsbot - INFO - fetch_all_summaries - Page title: Thom Yorke, Julianne Moore join letter protesting unauthorized AI training - The Washington Post\n",
      "Social card title: More than 10,500 actors, musicians and authors protest tech’s AI data grab\n",
      "Social card description: Radiohead’s Thom Yorke, actress Julianne Moore and novelist Kazuo Ishiguro joined creatives protesting use of their work to train algorithms without consent.\n",
      "\n",
      "2024-10-23 07:00:21,363 - AInewsbot - INFO - fetch_all_summaries - Page title: Ramin Hasani: How a worm could save humanity from bad AI | TED Talk\n",
      "\n",
      "2024-10-23 07:00:21,394 - AInewsbot - INFO - fetch_all_summaries - Page title: Anthropic’s new AI can use computers like a human, redefining automation for enterprises | VentureBeat\n",
      "Social card title: Anthropic’s new AI can use computers like a human, redefining automation for enterprises\n",
      "Social card description: Anthropic's new AI, Claude 3.5 Sonnet, introduces groundbreaking \"Computer Use\" capabilities, allowing AI to interact with applications and complete complex tasks, potentially transforming enterprise workflows.\n",
      "\n",
      "2024-10-23 07:00:21,418 - AInewsbot - INFO - fetch_all_summaries - Page title: Tech bosses think nuclear fusion is the solution to AI’s energy demands – here’s what they’re missing\n",
      "Social card title: Tech bosses think nuclear fusion is the solution to AI’s energy demands – here’s what they’re missing\n",
      "Social card description: Could nuclear fusion be the answer to AI's energy needs? Tech companies need to consider these factors for the future.\n",
      "\n",
      "2024-10-23 07:00:21,447 - AInewsbot - INFO - fetch_all_summaries - Page title: UiPath is marrying generative AI with robots to accelerate business automation - SiliconANGLE\n",
      "Social card title: UiPath is marrying generative AI with robots to accelerate business automation - SiliconANGLE\n",
      "Social card description: UiPath is marrying generative AI with robots to accelerate business automation - SiliconANGLE\n",
      "\n",
      "2024-10-23 07:00:21,474 - AInewsbot - INFO - fetch_all_summaries - Page title: Character.ai Faces Lawsuit After Teen’s Suicide - The New York Times\n",
      "Social card title: Character.ai Faces Lawsuit After Teen’s Suicide\n",
      "Social card description: The mother of a 14-year-old Florida boy says he became obsessed with a chatbot on Character.AI before his death.\n",
      "\n",
      "2024-10-23 07:00:21,502 - AInewsbot - INFO - fetch_all_summaries - Page title: Germany races to catch up in artificial intelligence – DW – 10/23/2024\n",
      "Social card title: Germany races to catch up in artificial intelligence – DW – 10/23/2024\n",
      "Social card description: As the global AI race heats up, Germany has a strategy to compete with global leaders like the U.S. and China. But can it close the gap? \n",
      "\n",
      "2024-10-23 07:00:21,546 - AInewsbot - INFO - fetch_all_summaries - Page title: Fujitsu gets into the GPU optimization market • The Register\n",
      "Social card title: Fujitsu gets into the GPU optimization market\n",
      "Social card description: Middleware aimed at softening the shortage of AI accelerators\n",
      "\n",
      "2024-10-23 07:00:21,580 - AInewsbot - INFO - fetch_all_summaries - Page title: People Are Competing for Your Dream Job With These AI Tools | HackerNoon\n",
      "Social card title: People Are Competing for Your Dream Job With These AI Tools | HackerNoon\n",
      "Social card description: 🚀Discover the Power of AI in Job Hunting! 🌐 I’ve dived deep into the most popular AI resume tools on the market. \n",
      "\n",
      "2024-10-23 07:00:21,650 - AInewsbot - INFO - fetch_all_summaries - Page title: Microsoft ups finance automation game with ‘AI agents’ | CFO Dive\n",
      "Social card title: Microsoft ups finance automation game with ‘AI agents’\n",
      "Social card description: The move comes as the AI innovation race among enterprise software providers is heating up.\n",
      "\n",
      "2024-10-23 07:00:21,696 - AInewsbot - INFO - fetch_all_summaries - Page title: Microsoft lets you create ‘AI agents’ using upgraded Copilot Studio\n",
      "Social card title: Microsoft lets you create ‘AI agents’ using upgraded Copilot Studio\n",
      "Social card description: AI agents or mini-tools, created using the upgraded Microsoft Copilot Studio, would help automate and streamline business operations.\n",
      "\n",
      "2024-10-23 07:00:21,739 - AInewsbot - INFO - fetch_all_summaries - Page title: You’re Using Too Much ChatGPT: 5 Tell-Tale Signs In 2024\n",
      "Social card title: You’re Using Too Much ChatGPT—5 Tell-Tale Signs In 2024\n",
      "Social card description: If you've seen these phrases used across the internet, that's because you're reading content that has been ChatGPT-generated, or generated by another AI application.\n",
      "\n"
     ]
    },
    {
     "name": "stderr",
     "output_type": "stream",
     "text": [
      "2024-10-23 07:00:21,772 - AInewsbot - INFO - fetch_all_summaries - Page title: OpenAI and Microsoft are funding $10 million in grants for AI-powered journalism\n",
      "Social card title: OpenAI and Microsoft are funding $10 million in grants for AI-powered journalism\n",
      "Social card description: OpenAI and Microsoft are funding projects to bring more AI tools into the newsroom.\n",
      "\n",
      "2024-10-23 07:00:21,808 - AInewsbot - INFO - fetch_all_summaries - Page title: AI App Soula Seeks to Close Postpartum Healthcare Gap for Women - Business Insider\n",
      "Social card title: The AI app Soula seeks to improve healthcare access for pregnant women\n",
      "Social card description: Soula app users and OB/GYB experts spoke about the role that AI chatbots can have in healthcare access.\n",
      "\n",
      "2024-10-23 07:00:21,950 - AInewsbot - INFO - fetch_all_summaries - Page title: Thom Yorke and Robert Smith sign petition against AI\n",
      "Social card title: Thom Yorke and Robert Smith sign petition against AI\n",
      "Social card description: 10,500 creatives have come together to sign a petition against the use of AI. The petition specifically takes issue with using creative work to train AI models.\n",
      "\n",
      "2024-10-23 07:00:21,971 - AInewsbot - INFO - fetch_all_summaries - Page title: As AI Hits E-Discovery, Lawyers Go From Big Law to Boutique\n",
      "Social card title: As AI Hits E-Discovery, Lawyers Go From Big Law to Boutique\n",
      "Social card description: Columnist David Lat speaks with attorneys Robert Keeling and Jonathan Redgrave about whether there’s been a shift to e-discovery specialization in boutiques, and what the rise of generative AI means for e-discovery.\n",
      "\n",
      "2024-10-23 07:00:22,027 - AInewsbot - INFO - fetch_all_summaries - Page title: Aptos Orbital Announces Official Launch of Powerful AI Satellite Platform\n",
      "Social card title: Aptos Orbital Announces Official Launch of Powerful AI Satellite Platform\n",
      "Social card description: Aptos Orbital, the company developing an all-in-one artificial intelligence device for satellites, today announced the launch of its new platform, which aims to transform satellite intelligence and communication capabilities. The Aptos terminal is a low size weight and power (SWAP) device for satellites that combines proprietary space-hardened processing, connectivity, and cloud services. Leveraging Aptos's technology, satellites are capable of running powerful artificial intelligence (AI) on or\n",
      "\n",
      "2024-10-23 07:00:22,105 - AInewsbot - INFO - fetch_all_summaries - Page title: Exploring the mechanism of sustained consumer trust in AI chatbots after service failures: a perspective based on attribution and CASA theories | Humanities and Social Sciences Communications\n",
      "Social card title: Exploring the mechanism of sustained consumer trust in AI chatbots after service failures: a perspective based on attribution and CASA theories - Humanities and Social Sciences Communications\n",
      "Social card description: Humanities and Social Sciences Communications - Exploring the mechanism of sustained consumer trust in AI chatbots after service failures: a perspective based on attribution and CASA theories\n",
      "\n",
      "2024-10-23 07:00:22,200 - AInewsbot - INFO - fetch_all_summaries - Page title: OpenAI appoints ex-Uber exec as chief compliance officer\n",
      "Social card title: OpenAI appoints ex-Uber exec as chief compliance officer\n",
      "Social card description: Scott Schools also previously served as associate deputy attorney general at the US Justice Department.\n",
      "\n",
      "2024-10-23 07:00:22,239 - AInewsbot - INFO - fetch_all_summaries - Page title: AI firms and civil society groups plead for federal AI law • The Register\n",
      "Social card title: AI firms and civil society groups plead for federal AI law\n",
      "Social card description: Congress urged to act before year's end to support US competitiveness\n",
      "\n",
      "2024-10-23 07:00:22,272 - AInewsbot - INFO - fetch_all_summaries - Page title: Samsung TVs are getting 4K Generative Wallpapers\n",
      "\n",
      "2024-10-23 07:00:22,293 - AInewsbot - INFO - fetch_all_summaries - Page title: AI at work: Will it contribute to employee burnout?\n",
      "Social card title: AI at work: Will it contribute to employee burnout?\n",
      "Social card description: As more AI tools are rolled out, some argue they are contributing to employee burnout.\n",
      "\n",
      "2024-10-23 07:00:22,329 - AInewsbot - INFO - fetch_all_summaries - Page title: Dawn of the Agent: New Claude AI can take over your computer\n",
      "Social card title: Dawn of the Agent: New Claude AI can take over your computer\n",
      "Social card description: The next wave of game-changing AI models will soon be upon us – \"agent\" style models that'll be able to take over entire ongoing tasks and jobs with full autonomy. Anthropic's newest AI model gives us a sneak peek, by taking over your whole computer.\n",
      "\n",
      "2024-10-23 07:00:22,365 - AInewsbot - INFO - fetch_all_summaries - Page title: AI Is Making It Easier for Scammers to Steal Homes From Their Owners - Business Insider\n",
      "Social card title: Scammers are stealing homes from under their owners' noses. AI is making it scarily easy.\n",
      "Social card description: Scammers have seized properties from Elvis Presley's Graceland to modestly priced vacant lots. AI tools can help fake deeds or ownership documents.\n",
      "\n",
      "2024-10-23 07:00:22,397 - AInewsbot - INFO - fetch_all_summaries - Page title: Tim Cook meets China regulator in Beijing but no final word on Apple Intelligence | South China Morning Post\n",
      "Social card title: Apple’s Tim Cook meets Chinese regulators but no final word on AI roll-out\n",
      "Social card description: Chinese consumers have been vocal about their desire to see Apple bring its generative AI services to China as soon as possible.\n",
      "\n",
      "2024-10-23 07:00:22,446 - AInewsbot - INFO - fetch_all_summaries - Page title: HR Leaders Say AI Is The Future – But Someone Forgot To Tell The Employees\n",
      "Social card title: HR Leaders Say AI Is The Future – But Someone Forgot To Tell The Employees\n",
      "Social card description: There's a significant gap between the widespread adoption of AI tools by corporate leadership and the awareness and comfort level\n",
      "\n",
      "2024-10-23 07:00:22,509 - AInewsbot - INFO - fetch_all_summaries - Page title: Here’s how Philips Hue could work AI into its lighting scenes | TechHive\n",
      "Social card title: Here’s how Philips Hue could work AI into its lighting scenes\n",
      "Social card description: What if AI could create scenes for your Hue lights with some natural language prompts? \n",
      "\n",
      "2024-10-23 07:00:22,563 - AInewsbot - INFO - fetch_all_summaries - Page title: Battles of Precise Mass: Technology Is Remaking War—and America Must Adapt\n",
      "Social card title: Battles of Precise Mass\n",
      "Social card description: Technology is remaking war—and America must adapt.\n",
      "\n",
      "2024-10-23 07:00:22,621 - AInewsbot - INFO - fetch_all_summaries - Page title: Google Chat getting AI-powered summaries via Gemini integration\n",
      "Social card title: Google Chat getting AI-powered summaries via Gemini integration\n",
      "Social card description:  Google is rolling out AI-powered summaries to Google Chat thanks to the power of its Gemini models. More details here.\n",
      "\n",
      "2024-10-23 07:00:22,657 - AInewsbot - INFO - fetch_all_summaries - Page title: The AI Energy Crisis & A Newfound Push for Efficiency | HackerNoon\n",
      "Social card title: The AI Energy Crisis & A Newfound Push for Efficiency | HackerNoon\n",
      "Social card description: While Microsoft and Google spend billions, startups craft new, nimble, environmentally-friendly AI models.\n",
      "\n",
      "2024-10-23 07:00:22,822 - AInewsbot - INFO - fetch_all_summaries - Page title: Anthropic announces AI agents for complex tasks, racing OpenAI\n",
      "Social card title: Amazon-backed Anthropic debuts AI agents that can do complex tasks, racing against OpenAI, Microsoft and Google\n",
      "Social card description: Anthropic, the Amazon-backed AI startup founded by former OpenAI research executives, announced AI agents that can use a computer to complete complex tasks.\n",
      "\n",
      "2024-10-23 07:00:22,864 - AInewsbot - INFO - fetch_all_summaries - Page title: New York Post, WSJ File Lawsuit Against Perplexity AI Over Author Rights - GreekReporter.com\n",
      "Social card title: New York Post, WSJ File Lawsuit Against Perplexity AI Over Author Rights - GreekReporter.com\n",
      "Social card description: The New York Post and WSJ filed a lawsuit against Amazon-backed Perplexity AI over alleged illegal use of copyrighted stories.\n",
      "\n"
     ]
    },
    {
     "name": "stderr",
     "output_type": "stream",
     "text": [
      "2024-10-23 07:00:22,886 - AInewsbot - INFO - fetch_all_summaries - Page title: Character.ai Faces Lawsuit After Teen’s Suicide - The New York Times\n",
      "Social card title: Character.ai Faces Lawsuit After Teen’s Suicide\n",
      "Social card description: The mother of a 14-year-old Florida boy says he became obsessed with a chatbot on Character.AI before his death.\n",
      "\n",
      "2024-10-23 07:00:22,905 - AInewsbot - INFO - fetch_all_summaries - Page title: Scarlett Johansson on fake AI-generated sex videos: ‘Nothing can stop someone from cutting and pasting my image’ - The Washington Post\n",
      "Social card title: Scarlett Johansson on fake AI-generated sex videos: ‘Nothing can stop someone from cutting and pasting my image’\n",
      "Social card description: Johansson, one of the world's highest-paid actresses, spoke to The Washington Post in an exclusive interview: \"The Internet is just another place where sex sells and vulnerable people are preyed upon.\"\n",
      "\n",
      "2024-10-23 07:00:22,939 - AInewsbot - INFO - fetch_all_summaries - Page title: AI firms and civil society groups plead for federal AI law • The Register\n",
      "Social card title: AI firms and civil society groups plead for federal AI law\n",
      "Social card description: Congress urged to act before year's end to support US competitiveness\n",
      "\n",
      "2024-10-23 07:00:23,073 - AInewsbot - INFO - fetch_all_summaries - Page title: Stable Diffusion 3.5: Stability AI Redeems Itself With New Models and Expanded Features - Decrypt\n",
      "Social card title: Stable Diffusion 3.5: Stability AI Redeems Itself With New Models and Expanded Features - Decrypt\n",
      "Social card description: After the stumble with Stable Diffusion 3 Medium, Stability AI is back on track with Stable Diffusion 3.5, offering customizable models that are uncensored, fast, and accessible for everyone.\n",
      "\n",
      "2024-10-23 07:00:23,350 - AInewsbot - INFO - fetch_all_summaries - Page title: Artificial Minds, Human Consequences: Explaining AI’s Impact on Our Education, Cognition, and More | HackerNoon\n",
      "Social card title: Artificial Minds, Human Consequences: Explaining AI’s Impact on Our Education, Cognition, and More | HackerNoon\n",
      "Social card description: This text critiques AI language models' impact on learning, creativity, and ethics. Explores copyright issues, bias, and the fundamental differences between hum\n",
      "\n",
      "2024-10-23 07:00:23,406 - AInewsbot - INFO - fetch_all_summaries - Page title: Discrete Diffusion with Planned Denoising (DDPD): A Novel Machine Learning Framework that Decomposes the Discrete Generation Process into Planning and Denoising - MarkTechPost\n",
      "Social card title: Discrete Diffusion with Planned Denoising (DDPD): A Novel Machine Learning Framework that Decomposes the Discrete Generation Process into Planning and Denoising\n",
      "Social card description: Generative AI models have become highly prominent in recent years for their ability to generate new content based on existing data, such as text, images, audio, or video. A specific sub-type, diffusion models, produces high-quality outputs by transforming noisy data into a structured format. Even though the model is significantly advanced, it still lacks control over corrupted data points, leading to suboptimal and slower outputs. A team of researchers from MIT, the University of Oxford, and NVIDIA Research have found an innovative solution called Discrete Diffusion with Planned Denoising to tackle noise in a well-structured manner.  Existing methods include autoregressive\n",
      "\n",
      "2024-10-23 07:00:23,451 - AInewsbot - INFO - fetch_all_summaries - Page title: Amazon's Data Center Dream Runs Into the Reality of Physical Limits  - Business Insider\n",
      "Social card title: Amazon's AI data center dream runs into the reality of 'zombie' facilities, higher costs, and labor shortages\n",
      "Social card description: The cloud giant's predicament highlights broader tech industry challenges as generative AI upends the status quo\n",
      "\n",
      "2024-10-23 07:00:23,505 - AInewsbot - INFO - fetch_all_summaries - Page title: Huawei's latest AI processors were allegedly made by TSMC: Report | Tom's Hardware\n",
      "Social card title: Huawei's latest AI processors were allegedly made by TSMC: Report\n",
      "Social card description: Question is, when were they made?\n",
      "\n",
      "2024-10-23 07:00:32,984 - AInewsbot - INFO - Received 85 summaries\n"
     ]
    },
    {
     "data": {
      "text/markdown": [
       "[1. AI sparks backlash from ABBA, Radiohead, and The Curethousands of artists sign letter protesting the use of their work to train robots - Google News](https://news.google.com/read/CBMioAFBVV95cUxOUFVnV3E3bTlQLVB5Y1VSekREaDNHU0FlcGxDcUV5QUhGRmpUX1psZnRUU2ZpU2xtVXkxYTVlS1F1U3I3NGVWT1hNU18zd1FEaFp1bm9KNWlXWFdlMDBfc0t5MHktWTZYaUJiVk1JT3BsYVJOMW1TNDdPRE5ZZGZTUlpZLXBjbVNUd0NFaWxiamRjdWlDOFFZVTdTMG1VUjJa)  \n",
       "\n",
       " Musicians Protest AI and Copyright Issues, Abba, Art & Design, Authors & Writing, Bias And Fairness, Entertainment, Ethics, Gen AI, Intellectual Property, Legal Issues, Music, Musicians, Policy And Regulation, Protest, Radiohead, Robots, Society & Culture, The Cure, Training Data  \n",
       "\n",
       "- Musicians from ABBA, Radiohead, and The Cure, along with thousands of artists, signed a protest letter against the use of their work to train AI tools.\n",
       "- The petition warns that unlicensed use of creative works poses a significant threat to the livelihoods of artists and should not be allowed.\n",
       "- Notable signatories include Björn Ulvaeus, Robert Smith, Thom Yorke, and authors like Kazuo Ishiguro and James Patterson. \n",
       "\n"
      ],
      "text/plain": [
       "<IPython.core.display.Markdown object>"
      ]
     },
     "metadata": {},
     "output_type": "display_data"
    },
    {
     "data": {
      "text/markdown": [
       "[2. ABBA, Radiohead and The Cure musicians sign AI protest letter against 'unlicensed use' of works - The Washington Post](https://www.washingtonpost.com/business/2024/10/22/generative-ai-abba-radiohead-thom-yorke/762d15c0-90b9-11ef-b5b1-75167840d9f3_story.html)  \n",
       "\n",
       " Musicians Protest AI and Copyright Issues, Abba, Art & Design, Authors & Writing, Bias And Fairness, Entertainment, Ethics, Gen AI, Intellectual Property, Legal Issues, Music, Musicians, Policy And Regulation, Protest, Radiohead, Society & Culture, The Cure, Unlicensed Use  \n",
       "\n",
       "- Musicians from ABBA, Radiohead, and The Cure have signed a protest letter against the unlicensed use of their works for AI development.\n",
       "- The letter includes signatures from actors and authors expressing concerns over the exploitation of their artistry.\n",
       "- The protest highlights the growing tension between creatives and the tech industry regarding the use of artistic works in building AI tools. \n",
       "\n"
      ],
      "text/plain": [
       "<IPython.core.display.Markdown object>"
      ]
     },
     "metadata": {},
     "output_type": "display_data"
    },
    {
     "data": {
      "text/markdown": [
       "[3. ABBA, Radiohead and The Cure musicians sign AI protest letter against unlicensed use' of works - The Hill](https://thehill.com/homenews/ap/ap-business/ap-abba-radiohead-and-the-cure-musicians-sign-ai-protest-letter-against-unlicensed-use-of-works-2)  \n",
       "\n",
       " Musicians Protest AI and Copyright Issues, Abba, Art & Design, Authors & Writing, Bias And Fairness, Entertainment, Ethics, Gen AI, Intellectual Property, Legal Issues, Music, Musicians, Policy And Regulation, Protest, Radiohead, Society & Culture, The Cure, Unlicensed Use  \n",
       "\n",
       "- Musicians from ABBA, Radiohead, and The Cure have signed a protest letter against the unlicensed use of their works for training AI tools.\n",
       "- The letter highlights the threat AI poses to the livelihoods of artists by using their creations without permission.\n",
       "- Thousands of artists, including authors and actors, have joined the protest, emphasizing the need for copyright protections against generative AI. \n",
       "\n"
      ],
      "text/plain": [
       "<IPython.core.display.Markdown object>"
      ]
     },
     "metadata": {},
     "output_type": "display_data"
    },
    {
     "data": {
      "text/markdown": [
       "[4. A leaked internal report claims Apple Intelligence could be two years behind OpenAI's ChatGPT but its hard to count the iPhone maker out of the AI race: By 2026, nearly every Apple device with a screen will run it\" - Windows Central](https://www.windowscentral.com/software-apps/apple-intelligence-could-already-be-behind-chatgpt)  \n",
       "\n",
       " Apple's AI Development and Strategy, Apple, Chatbots, Chatgpt, Gen AI, Hardware, Internal Report, Language Models, OpenAI, Products, Technology Competition, Virtual Assistants  \n",
       "\n",
       "- A leaked report suggests that Apple's upcoming AI, Apple Intelligence, could be two years behind OpenAI's ChatGPT at launch on October 28, 2024.\n",
       "- Despite the delay, Apple's extensive user base and resources may provide a competitive edge in the AI space by 2026, with plans for deep integration across its ecosystem.\n",
       "- Apple's strategy of prioritizing privacy and security before launching its AI offering may position it well for future success despite current setbacks. \n",
       "\n"
      ],
      "text/plain": [
       "<IPython.core.display.Markdown object>"
      ]
     },
     "metadata": {},
     "output_type": "display_data"
    },
    {
     "data": {
      "text/markdown": [
       "[5. An interview with Craig Federighi on the launch of Apple Intelligence features like notification summaries in iOS 18.1, Siri, Apple's AI strategy, and more - The Wall Street Journal](https://www.wsj.com/tech/personal-tech/apple-intelligence-3833c320)  \n",
       "\n",
       " Apple's AI Development and Strategy, AI Features, Apple, Chatbots, Craig Federighi, Gen AI, Hardware, Ios 18.1, Language Models, Products, Siri, Speech Recognition & Synthesis, Technology Strategy, Virtual Assistants  \n",
       "\n",
       "- The review of iOS 18.1 highlights that Apple's AI features, particularly with Siri, are still lacking compared to expectations.  \n",
       "- Apple's software chief acknowledges the limitations of current AI capabilities and indicates that the company is comfortable with this gradual development.  \n",
       "- Overall, the article questions why significant advancements in Siri's intelligence have yet to materialize.   \n",
       "\n"
      ],
      "text/plain": [
       "<IPython.core.display.Markdown object>"
      ]
     },
     "metadata": {},
     "output_type": "display_data"
    },
    {
     "data": {
      "text/markdown": [
       "[6. Apple's Software Chief Explains AI Delays, Future of Siri and More - The Wall Street Journal](https://www.wsj.com/video/series/joanna-stern-personal-technology/apple-software-chief-explains-ai-delays-future-of-siri-and-more/7F3883B2-0404-4618-97EE-5ABA1AC1602C)  \n",
       "\n",
       " Apple's AI Development and Strategy, AI Delays, Apple, Chatbots, Craig Federighi, Gen AI, Hardware, Language Models, Products, Siri, Speech Recognition & Synthesis, Technology Strategy, Virtual Assistants  \n",
       "\n",
       "- No substantive news content available. \n",
       "\n"
      ],
      "text/plain": [
       "<IPython.core.display.Markdown object>"
      ]
     },
     "metadata": {},
     "output_type": "display_data"
    },
    {
     "data": {
      "text/markdown": [
       "[7. Craig Federighi says Siri won't become sentient, but it'll get better - Apple Insider](https://appleinsider.com/articles/24/10/23/craig-federighi-says-siri-wont-become-sentient-but-itll-get-better)  \n",
       "\n",
       " Apple's AI Development and Strategy, AI Development, Apple, Chatbots, Consciousness, Craig Federighi, Gen AI, Language Models, Sentience, Siri, Speech Recognition & Synthesis, Virtual Assistants  \n",
       "\n",
       "- Craig Federighi, Apple's head of software, stated that Siri will not achieve sentience but will improve over time, differing from competitors pursuing Artificial General Intelligence (AGI).\n",
       "- Apple is focusing on practical applications of AI with its upcoming Apple Intelligence, emphasizing user privacy and providing tools for everyday tasks rather than generating extensive content like other companies.\n",
       "- The release of Apple Intelligence is expected alongside iOS 18.1 and other operating systems by the end of October, reflecting Apple's commitment to a responsible and privacy-focused approach to AI development. \n",
       "\n"
      ],
      "text/plain": [
       "<IPython.core.display.Markdown object>"
      ]
     },
     "metadata": {},
     "output_type": "display_data"
    },
    {
     "data": {
      "text/markdown": [
       "[8. Apples Craig Federighi Explains Apple Intelligence Delays, Siris Future and More | WSJ - Google News](https://news.google.com/read/CCAiC2ZyOEFMY0VpWUFrmAEB)  \n",
       "\n",
       " Apple's AI Development and Strategy, AI Delays, Apple, Chatbots, Craig Federighi, Gen AI, Hardware, Language Models, Products, Siri, Speech Recognition & Synthesis, Technology Strategy, Virtual Assistants  \n",
       "\n",
       "- The page provides comprehensive up-to-date news coverage aggregated from various global sources by Google News.\n",
       "- There is a redirect to a YouTube link for video content.\n",
       "- No substantive news content is available to summarize. \n",
       "\n"
      ],
      "text/plain": [
       "<IPython.core.display.Markdown object>"
      ]
     },
     "metadata": {},
     "output_type": "display_data"
    },
    {
     "data": {
      "text/markdown": [
       "[9. Apple Intelligence Isnt Very Smart Yetand Apples OK With That - Google News](https://news.google.com/read/CBMidEFVX3lxTFBQSXpoVTRBOG9iNVd5d0lKb0lGZ1RwQkpkY0NtNDEwXzhvdW56dWR6TDBRT3QyVmdSd3hhUzNKYndOMm1vUkhtYUVEMV9NNkE0aUZhT3NNbmpHWTA3bGdzSEp6UlpJYWROY0RiWlhIdFllZVVy)  \n",
       "\n",
       " Apple's AI Development and Strategy, Apple, Gen AI, Intelligence, Technology Assessment, Virtual Assistants  \n",
       "\n",
       "- The provided text does not contain substantive news content to summarize. \n",
       "\n"
      ],
      "text/plain": [
       "<IPython.core.display.Markdown object>"
      ]
     },
     "metadata": {},
     "output_type": "display_data"
    },
    {
     "data": {
      "text/markdown": [
       "[10. 'New AI update to lock phones will deter thieves' - BBC](https://www.bbc.com/news/articles/c1484r0r3m6o)  \n",
       "\n",
       " Apple's AI Development and Strategy, Phone Security, Safety And Alignment, Technology Update, Theft Prevention  \n",
       "\n",
       "- Google has introduced new AI technology that automatically locks smartphones if they are snatched, potentially deterring thieves.\n",
       "- A victim of phone theft expressed approval of the update, citing difficulties in remotely locking his phone after it was stolen, and noted that the technology requires users to opt in.\n",
       "- Mobile phone theft accounted for 69% of all thefts in London last year, prompting officials, including London’s Mayor, to advocate for improved device security measures. \n",
       "\n"
      ],
      "text/plain": [
       "<IPython.core.display.Markdown object>"
      ]
     },
     "metadata": {},
     "output_type": "display_data"
    },
    {
     "data": {
      "text/markdown": [
       "[11. Full Interview: Apples Software Chief Craig Federighi on Future of iPhone AI - The Wall Street Journal](https://www.wsj.com/video/series/joanna-stern-personal-technology/full-interview-apples-software-chief-craig-federighi-on-future-of-iphone-ai/756B8727-5FFB-422C-AE63-C4600272BD94)  \n",
       "\n",
       " Apple's AI Development and Strategy, Apple, Chatbots, Craig Federighi, Gen AI, Hardware, Iphone, Language Models, Products, Speech Recognition & Synthesis, Technology Interview, Virtual Assistants  \n",
       "\n",
       "- No substantive news content to summarize. \n",
       "\n"
      ],
      "text/plain": [
       "<IPython.core.display.Markdown object>"
      ]
     },
     "metadata": {},
     "output_type": "display_data"
    },
    {
     "data": {
      "text/markdown": [
       "[12. Craig Federighi Explains Phased Release of Apple Intelligence Features - MacRumors](https://www.macrumors.com/2024/10/23/craig-federighi-phased-release-apple-intelligence/)  \n",
       "\n",
       " Apple's AI Development and Strategy, AI Features, Apple, Chatbots, Craig Federighi, Gen AI, Hardware, Language Models, Products, Speech Recognition & Synthesis, Technology Rollout, Virtual Assistants  \n",
       "\n",
       "- Apple's Craig Federighi announced a phased rollout for Apple Intelligence features starting with iOS 18.1, focusing on basic tools like text summarization and photo cleanup.\n",
       "- Unlike typical cloud-based models, Apple emphasizes user privacy, processing most AI tasks on-device and not storing data for training.\n",
       "- Major Siri advancements are set for future updates, including enhanced contextual commands and expanded app control, with initial features supporting only U.S. English. \n",
       "\n"
      ],
      "text/plain": [
       "<IPython.core.display.Markdown object>"
      ]
     },
     "metadata": {},
     "output_type": "display_data"
    },
    {
     "data": {
      "text/markdown": [
       "[13. Qualcomms Snapdragon 8 Elite to give Chinese smartphones an AI power boost - Google News](https://news.google.com/read/CBMiuwFBVV95cUxQSWcwNEo2b1d4U09zMHF0aGpNemhFYkxsZ0lIaWRJMmpkNElsQUZRTGpSbklpX1d6ZExqaDZkQ2Q5WDFtbnVNRXROTEdzbUplV0p1a3ZRLTk4cDBKa3l4ajU1eG5uR1NIWi1fR2RNTlpYeWNMa3hHRjRidnBOd1BFSl9Bd2g2MFdVTlk4OFRBa3ZfWmNCWGhkRUotdlFoSlNMZmhJZzBoVEYyUEZMak5HZ1M2eWRKV3N0RXZF)  \n",
       "\n",
       " AI in Smartphones and Automotive Technology, China, Gen AI, Hardware, Performance, Products, Qualcomm, Semiconductor Chips, Smartphones, Snapdragon 8 Elite  \n",
       "\n",
       "- Qualcomm's Snapdragon 8 Elite chip is set to enhance AI capabilities in smartphones from Chinese brands like Xiaomi, OnePlus, Realme, and Honor, aiming to rival Apple and Samsung.\n",
       "- Honor has introduced an AI Agent for devices that enables on-device generative AI for photography and gaming, showcasing advancements in smartphone AI technology.\n",
       "- Qualcomm's smartphone processor market share has grown to 31% in the premium segment, highlighting its key role for Android manufacturers in the competitive tech landscape. \n",
       "\n"
      ],
      "text/plain": [
       "<IPython.core.display.Markdown object>"
      ]
     },
     "metadata": {},
     "output_type": "display_data"
    },
    {
     "data": {
      "text/markdown": [
       "[14. Qualcomm and Google team up to help carmakers create AI voice systems - Google News](https://news.google.com/read/CBMisgFBVV95cUxQNzhjSXltcjBvVE05SF9ac3VPMFhLQzkzY29uZHNUVHVTTHNsdm83dTEwaHBJa0JXb2ppZTZXOGtDV3hPWXRKVWdzRmx5RGVoS2VZc29lZXdqaHpLLXNBOEFUS3VlWkpZa183VlJKdXlxdlpKY0s5NEo4T3BwQ2EtVF92UFJMYVY0UlB3R3FtQTFrODVwTWZVMjc3Z20zVmloZmxKT1dnMXdFOGJCa3l6aC1B)  \n",
       "\n",
       " AI in Smartphones and Automotive Technology, Automotive, Autonomous Vehicles, Chatbots, Gen AI, Google, Hardware, Products, Qualcomm, Semiconductor Chips, Speech Recognition & Synthesis, Transportation, Virtual Assistants, Voice Systems  \n",
       "\n",
       "- Qualcomm and Google are collaborating to allow carmakers to develop their own AI voice assistants using Qualcomm's hardware and Google's Android Automotive OS.\n",
       "- The partnership includes Qualcomm's Snapdragon Digital Chassis and new chips designed for digital cockpits and self-driving systems, enabling unique voice interactions and real-time updates.\n",
       "- Other manufacturers, like Volkswagen, are also pursuing AI integrations in vehicles, with AAOS gaining traction among several car brands. \n",
       "\n"
      ],
      "text/plain": [
       "<IPython.core.display.Markdown object>"
      ]
     },
     "metadata": {},
     "output_type": "display_data"
    },
    {
     "data": {
      "text/markdown": [
       "[15. Qualcomm and Google to collaborate on more intelligent cars with integrated generative AI - SiliconANGLE](https://siliconangle.com/2024/10/22/qualcomm-google-collaborate-intelligent-cars-integrated-generative-ai)  \n",
       "\n",
       " AI in Smartphones and Automotive Technology, Autonomous Vehicles, Chatbots, Gen AI, Generative AI, Google, Hardware, Intelligent Cars, Language Models, Products, Qualcomm, Retrieval Augmented Generation, Semiconductor Chips, Transportation, Virtual Assistants  \n",
       "\n",
       "- Qualcomm and Google are collaborating to enhance automotive experiences using generative AI, integrating Qualcomm’s Snapdragon Digital Chassis with Google’s Android Automotive OS.\n",
       "- The partnership aims to create a standardized reference framework for generative AI-enabled digital cockpits, improving developer productivity and user experiences through advanced voice assistants and AI applications.\n",
       "- Qualcomm announced new Snapdragon SoCs for automakers, including Snapdragon Cockpit Elite and Snapdragon Ride Elite, with Mercedes-Benz AG among the first to utilize the technology. \n",
       "\n"
      ],
      "text/plain": [
       "<IPython.core.display.Markdown object>"
      ]
     },
     "metadata": {},
     "output_type": "display_data"
    },
    {
     "data": {
      "text/markdown": [
       "[16. Qualcomm CEO Says Everyone Will Have AI Smartphone in Five Years - Google News](https://news.google.com/read/CBMitgFBVV95cUxQbXlDVlNacDZCX0Z0R2RsbHV2QnM1R29qam5hMVpUdk1SMUxSR0pucWc5dnphZm83UUQtNU5reVZJZFNFM21oYXZzbm5ZaXp0cEdOVnZBajI4aDJYYmxuVlJnMnhhVnZwTmEtcXJPUjhDenB4T3lSZ3BXXzBueTZJZFNnTjJSdXRvN200UU1PMmFlaXREOUF6ckw2ZGR4Ykk5cDZBLU1aNG1rMkl6LVdIVXR2VzVyZw)  \n",
       "\n",
       " AI in Smartphones and Automotive Technology, Ceo, Future Predictions, Gen AI, Hardware, Products, Qualcomm, Semiconductor Chips, Smartphones  \n",
       "\n",
       "- Qualcomm CEO Cristiano Amon predicts that all smartphones will feature artificial intelligence capabilities within five years, following the unveiling of a new Snapdragon processor.\n",
       "- The new processors promise 45% faster speeds and improved energy efficiency, enabling devices to run laptop-level capabilities and AI applications.\n",
       "- Amon refrained from commenting on potential bids for Intel while highlighting Qualcomm's successful expansion into automotive, computing, and industrial sectors. \n",
       "\n"
      ],
      "text/plain": [
       "<IPython.core.display.Markdown object>"
      ]
     },
     "metadata": {},
     "output_type": "display_data"
    },
    {
     "data": {
      "text/markdown": [
       "[17. New AI tech helps police track suspects' cars without license plate numbers - Fox News](https://www.foxnews.com/video/6363607217112)  \n",
       "\n",
       " Autonomous Vehicles, Computer Vision, Ethics, Facial Recognition, Gen AI, Governance, Legal Issues, License Plate Recognition, Police, Policy And Regulation, Politics, Privacy, Privacy & Surveillance, Safety And Alignment, Science, Suspect Tracking, Transportation  \n",
       "\n",
       "- Veritone has developed an AI software called Veritone Track that assists police in tracking vehicles of suspects using municipal cameras even without license plate numbers. \n",
       "- The technology enhances law enforcement capabilities by utilizing advanced AI to identify vehicles based on available visual data. \n",
       "- Ryan Steelberg, CEO of Veritone, discussed the features and benefits of this AI software in a recent interview. \n",
       "\n"
      ],
      "text/plain": [
       "<IPython.core.display.Markdown object>"
      ]
     },
     "metadata": {},
     "output_type": "display_data"
    },
    {
     "data": {
      "text/markdown": [
       "[18. Minerals Technologies Announces Deployment of Artificial Intelligence Technology for Mining - Yahoo Finance](https://finance.yahoo.com/news/minerals-technologies-announces-deployment-artificial-210100061.html)  \n",
       "\n",
       " Gen AI, Minerals Technologies, Mining, Science, Technology Deployment  \n",
       "\n",
       "- Minerals Technologies Inc. has expanded its partnership with AIM Intelligent Machines to deploy AI technology for enhancing safety, productivity, and analytics in mining operations.\n",
       "- The AI technology enables continuous peak performance of mining equipment in all weather conditions, improving fuel savings, fleet availability, and optimal site planning.\n",
       "- MTI's CEO emphasized the investment in autonomous technology aims to unlock greater safety and productivity for employees and equipment in complex mining environments. \n",
       "\n"
      ],
      "text/plain": [
       "<IPython.core.display.Markdown object>"
      ]
     },
     "metadata": {},
     "output_type": "display_data"
    },
    {
     "data": {
      "text/markdown": [
       "[19. Moonshine: A Fast, Accurate, and Lightweight Speech-to-Text Models for Transcription and Voice Command Processing on Edge Devices - MarkTechPost](https://www.marktechpost.com/2024/10/23/moonshine-a-fast-accurate-and-lightweight-speech-to-text-models-for-transcription-and-voice-command-processing-on-edge-devices/)  \n",
       "\n",
       " Cognitive Science, Edge Devices, Hardware, Internet Of Things, Language Models, Moonshine, Products, Science, Speech Recognition & Synthesis, Speech-To-Text, Testing, Transcription, Virtual Assistants, Voice Command  \n",
       "\n",
       "- Researchers have introduced the Moonshine family of speech recognition models, achieving up to 5 times faster processing speeds than OpenAI's Whisper for 10-second speech segments while maintaining comparable accuracy.\n",
       "- The Moonshine models utilize a variable-length encoder that eliminates the need for zero-padding, significantly reducing computational overhead and enhancing performance in resource-constrained environments.\n",
       "- Trained on 200,000 hours of diverse audio data, Moonshine models show superior robustness to noise and varying signal-to-noise ratios, making them suitable for real-time applications like transcription and voice commands. \n",
       "\n"
      ],
      "text/plain": [
       "<IPython.core.display.Markdown object>"
      ]
     },
     "metadata": {},
     "output_type": "display_data"
    },
    {
     "data": {
      "text/markdown": [
       "[20. AI firms need to address security, open-source concerns: G42 exec - Yahoo](https://www.yahoo.com/news/ai-firms-address-security-open-224302375.html)  \n",
       "\n",
       " Cybersecurity, G42, Gen AI, Open Source, Open-Source, Privacy, Privacy & Surveillance, Safety And Alignment, Security, Technology Concerns  \n",
       "\n",
       "- Industry leaders, including G42's Faheem Ahamed, emphasize the need for AI companies to address national security and promote open-source collaboration to unlock AI's full potential.\n",
       "- G42 collaborates with global governments and major tech firms on AI governance, stressing the importance of responsible and equitable AI development while adhering to regulations.\n",
       "- Venture capital funding for later-stage AI startups remains challenging, impacting their growth and exit opportunities, according to BNY's Madiha Sattar. \n",
       "\n"
      ],
      "text/plain": [
       "<IPython.core.display.Markdown object>"
      ]
     },
     "metadata": {},
     "output_type": "display_data"
    },
    {
     "data": {
      "text/markdown": [
       "[21. IBM Launches Guardium Data Security Center to Address AI, Quantum, and Hybrid Cloud Risks - Yahoo Finance](https://ca.finance.yahoo.com/news/ibm-launches-guardium-data-security-205525234.html)  \n",
       "\n",
       " Cybersecurity, Data Security, Economics, Finance, Gen AI, Governance, Guardium, Ibm, Policy And Regulation, Privacy, Privacy & Surveillance, Products, Quantum Computing, Safety And Alignment, Science  \n",
       "\n",
       "- IBM has launched the Guardium Data Security Center to enhance data security for hybrid cloud, AI, and quantum computing environments by offering comprehensive monitoring and governance features.\n",
       "- The platform includes components like IBM Guardium AI Security to protect against vulnerabilities and unsanctioned AI usage, as well as IBM Guardium Quantum Safe for safeguarding against future quantum computing threats.\n",
       "- IBM's new software integrates with existing products and provides post-quantum cryptography solutions, along with enhanced identity access management through its Verify solution. \n",
       "\n"
      ],
      "text/plain": [
       "<IPython.core.display.Markdown object>"
      ]
     },
     "metadata": {},
     "output_type": "display_data"
    },
    {
     "data": {
      "text/markdown": [
       "[22. Toilet camera uses AI to analyze pics of poop and measure your gut health - Digital Camera World](https://www.digitalcameraworld.com/news/toilet-camera-uses-ai-to-analyze-pics-of-poop-and-measure-your-gut-health)  \n",
       "\n",
       " Cognitive Science, Gen AI, Gut Health, Health & Fitness, Health Analysis, Healthcare, Products, Science, Testing, Toilet Camera  \n",
       "\n",
       "- Texas-based startup Throne is creating a toilet camera that uses AI to analyze bowel movements and provide insights into gut health and hydration levels.\n",
       "- The camera captures data that is processed based on the Bristol Stool Scale, allowing users to track their diet and health indicators through a companion app.\n",
       "- Currently in beta testing, the Throne camera will retail for \\\\$499, with early-bird pre-orders at \\\\$299, though availability outside the US is uncertain. \n",
       "\n"
      ],
      "text/plain": [
       "<IPython.core.display.Markdown object>"
      ]
     },
     "metadata": {},
     "output_type": "display_data"
    },
    {
     "data": {
      "text/markdown": [
       "[23. Applying AI to satellite manufacturing - Google News](https://news.google.com/read/CBMibkFVX3lxTE5sSnh5WEhVNVRpX3c1Q3lDdGR4cERsT2ZHOWZUVmlhUmduUm1nRFFadUs2bHpKYVBTbnlseWFsU2JYQXN5ZzdZZThpdXVsVkRKaGFUVlUyOWgtM3FGaW83TWhHR18wS3doMG4zVGRB)  \n",
       "\n",
       " Gen AI, Hardware, Manufacturing, Satellite Manufacturing, Science, Technology Application  \n",
       "\n",
       "- Companies in satellite manufacturing are cautiously adopting AI due to concerns about data security and trust in AI models, as highlighted by executives from Blue Canyon Technologies and Kongsberg NanoAvionics.\n",
       "- AI has potential benefits in engineering design and data analysis, helping to convert large datasets into actionable insights, reducing the time spent on data interpretation.\n",
       "- Machina Labs is leveraging its own data generation from robotic manufacturing processes, focusing on optimizing quality and processes with secure cloud storage of data. \n",
       "\n"
      ],
      "text/plain": [
       "<IPython.core.display.Markdown object>"
      ]
     },
     "metadata": {},
     "output_type": "display_data"
    },
    {
     "data": {
      "text/markdown": [
       "[24. Key Roles in a Fraud Prediction project with Machine Learning - Towards Data Science](https://towardsdatascience.com/key-roles-in-a-fraud-prediction-project-with-machine-learning-565a01c98274)  \n",
       "\n",
       " Cybersecurity, Finance, Fintech, Fraud Prediction, Jobs & Careerslabor Market, Machine Learning, Project Roles, Scams, Science, Testing  \n",
       "\n",
       "- The development of machine learning models for fraud prediction involves multiple key roles, including project managers, fraud analysts, data engineers, data scientists, and MLOps engineers, each contributing uniquely to the project's success.\n",
       "- Project managers face challenges related to interdependencies among technical teams and competing business priorities, requiring effective communication and coordination to keep the project on track.\n",
       "- High-level managers are essential for providing support, ensuring accountability for compliance, and aligning resources to meet project goals, while fraud analysts continuously monitor model performance and provide critical insights throughout the project lifecycle. \n",
       "\n"
      ],
      "text/plain": [
       "<IPython.core.display.Markdown object>"
      ]
     },
     "metadata": {},
     "output_type": "display_data"
    },
    {
     "data": {
      "text/markdown": [
       "[25. Apple is concerned about AI turning real photos into fantasy - The Verge](https://www.theverge.com/2024/10/23/24277489/apple-intelligence-iphone-ai-photo-editing-craig-federighi-interview)  \n",
       "\n",
       " Apple, Art & Design, Gen AI, Photo Manipulation, Safety And Alignment, Technology Concerns  \n",
       "\n",
       "- Apple is prioritizing the preservation of photo authenticity in its AI-powered image editing tools, emphasizing the importance of providing accurate information.\n",
       "- The new \"Clean Up\" feature in iOS 18.1 allows users to remove objects from photos without enabling drastic alterations, distinguishing Apple's approach from competitors.\n",
       "- Apple expresses concerns about AI's potential to mislead people regarding photographic content, and any edited images will be marked as \"Modified with Clean Up\" for transparency. \n",
       "\n"
      ],
      "text/plain": [
       "<IPython.core.display.Markdown object>"
      ]
     },
     "metadata": {},
     "output_type": "display_data"
    },
    {
     "data": {
      "text/markdown": [
       "[26. Joseph Gordon-Levitt criticizes AI, calling Hollywood a \"canary in the coal mine\" for other industries, and says studios \"own the IP and I don't own any of it\" (Erich Schwartzel/Wall Street Journal) - The Wall Street Journal](https://www.wsj.com/tech/ai/meet-hollywoods-ai-doomsayer-joseph-gordon-levitt-27b82d69)  \n",
       "\n",
       " AI Doom, Bias And Fairness, Criticism, Entertainment, Ethics, Gen AI, Hollywood, Intellectual Property, Joseph Gordon-Levitt, Legal Issues, Opinion, Safety And Alignment, Society & Culture, Tv & Film & Movies  \n",
       "\n",
       "- The provided text does not contain substantive news content to summarize. \n",
       "\n"
      ],
      "text/plain": [
       "<IPython.core.display.Markdown object>"
      ]
     },
     "metadata": {},
     "output_type": "display_data"
    },
    {
     "data": {
      "text/markdown": [
       "[27. Wicked star Ariana Grande finds AI troublesome after fan-edited posters cause controversy - Google News](https://news.google.com/read/CBMixgFBVV95cUxPODYtSUI2b3FMRzRQNmtWbjhoY19WRWswb3lmVTBFa0QyYXNNVENqeFlWcXh5TjJuaTBuRnBhM2JnMGtoZkFUa2c4RE9GQ3pvdGlzQ3JZb0hrZjIzSzVRMTFjRzd3OFQwNzZaYlA4UGdBU2I1NXVTZDFjUzItTkxOVVVXb04yWk54MTk4NEl0OTVGZS1CcmxOZVNaMGpKNXlhTzVLNENLb3BKU1lDR2pVWFN4ektaUHJIY0F3UWN3b3N3d3RNaFHSAcsBQVVfeXFMTlBJMVJwdENFWDM1UUx0ZUJCdkgxZmZteHZlbERwampRc0Q5X1g4X21LUU1nc1NYbUE4Q2t2alZNLXgzRXo5WDB1QzR1dmpZR18yeWo5U2xickF4TTBsVTlLbklnMExKbjBRdUltWDV2YzQyQ1pVT3ZTeEN1SE1HU2F0aDlDd2U1TzVvOFVrSUVSSjg1UlNUanh6bmtqaEVMdE1pZHc3OUhMR0dRUGdwdUZjTzdSMW50ZDVMZ242Y2JOeTZ2ZVBoNDNZU1k)  \n",
       "\n",
       " AI Doom, Ariana Grande, Art & Design, Bias And Fairness, Controversy, Disinformation, Entertainment, Ethics, Fan Edits, Gen AI, Hollywood, Intellectual Property, Legal Issues, Music, Opinion, Safety And Alignment, Society & Culture, Tv & Film & Movies  \n",
       "\n",
       "- Ariana Grande expressed concerns about artificial intelligence (AI) after her co-star Cynthia Erivo criticized fan-altered posters for their insensitivity, specifically regarding the portrayal of Erivo's character.\n",
       "- Erivo labeled some fan edits as \"offensive\" and hurtful, particularly those that covered her eyes, which she felt diminished her humanity.\n",
       "- Online responses to Erivo's comments were mixed, with some defending her stance while others believed her reaction was overly intense for a fan-edited image. \n",
       "\n"
      ],
      "text/plain": [
       "<IPython.core.display.Markdown object>"
      ]
     },
     "metadata": {},
     "output_type": "display_data"
    },
    {
     "data": {
      "text/markdown": [
       "[28. Why its so challenging to deploy AI on space missions - Fast Company](https://www.fastcompany.com/91214275/why-its-so-challenging-to-deploy-ai-on-space-missions)  \n",
       "\n",
       " Deployment Challenges, Gen AI, Safety And Alignment, Science, Space Missions  \n",
       "\n",
       "- U.S. satellite operator Spire is partnering with Mission Control to launch a demo mission in 2025, utilizing machine learning models for Earth observation satellite analyses in orbit.\n",
       "- Mission Control, established in 2015, specializes in software for autonomous space operations and has previously deployed deep-learning algorithms in both Earth and lunar orbits.\n",
       "- Challenges in deploying AI in space include the need for low-power models tailored for space environments, contrasting with terrestrial software and computing technologies. \n",
       "\n"
      ],
      "text/plain": [
       "<IPython.core.display.Markdown object>"
      ]
     },
     "metadata": {},
     "output_type": "display_data"
    },
    {
     "data": {
      "text/markdown": [
       "[29. IBM just launched powerful new open source AI models  heres what you need to know - IT Pro](https://www.itpro.com/technology/artificial-intelligence/ibm-just-launched-powerful-new-open-source-ai-models-heres-what-you-need-to-know)  \n",
       "\n",
       " AI Models, Code Assistants, Computer Vision, Gen AI, Ibm, Language Models, Open Source, Products, Science, Technology Update  \n",
       "\n",
       "- IBM has launched its Granite 3.0 AI models under the Apache 2.0 license, claiming they outperform existing models on the market due to their training on enterprise data.\n",
       "- The new models are designed for various tasks including Retrieval Augmented Generation and offer fine-tuning options for business environments, with the introduction of Granite Guardian 3.0 models focused on safety and risk detection.\n",
       "- IBM is also advancing its AI assistant capabilities with future developments in self-directing AI agents and enhanced tools for developers, along with plans to expand model context and multilingual support by the end of the year. \n",
       "\n"
      ],
      "text/plain": [
       "<IPython.core.display.Markdown object>"
      ]
     },
     "metadata": {},
     "output_type": "display_data"
    },
    {
     "data": {
      "text/markdown": [
       "[30. Meta AI tackles maths problems that stumped humans for over a century - Google News](https://news.google.com/read/CBMitgFBVV95cUxPQV9iTERJLVBzelpVYnhyM0JPVnVVV1RBaVhxUTdRbGhSMzNnMHpURVZNOE1rdXZ2d3pFNXlLY1A3U0dlZ1ZpemgxclcwNVdiT2pNWldOT1hFRHZ6VGdqZTJxbkRHM3F5dE56VkpuZzNqRHdpZTdZX2pjcml6UUVWWEdnZGc4aW5IWnd0d09tRlJxWU0xRFRwV3ZhcE1uczlwWTBBSUI3VXFEaHVCZU9TX1B4bU9hQQ)  \n",
       "\n",
       " Gen AI, Mathematics, Meta AI, Problem Solving, Science  \n",
       "\n",
       "- Meta's AI can solve long-standing mathematical problems involving Lyapunov functions, which analyze system stability over time.\n",
       "- The AI's capabilities address complex issues that have puzzled mathematicians for over 100 years, including the difficult \"three-body problem.\"\n",
       "- Researchers at Meta claim this breakthrough enhances our understanding of predictive behavior in dynamic systems. \n",
       "\n"
      ],
      "text/plain": [
       "<IPython.core.display.Markdown object>"
      ]
     },
     "metadata": {},
     "output_type": "display_data"
    },
    {
     "data": {
      "text/markdown": [
       "[31. It's Now Illegal to Post Fake AI-Generated Product Reviews by People Who Don't Exist - Futurism](https://futurism.com/the-byte/illegal-fake-reviews-ai)  \n",
       "\n",
       " Bias And Fairness, Consumer Protection, Customer Service, Deepfakes, Disinformation, Economics, Ethics, Fake Reviews, Gen AI, Governance, Intellectual Property, Language Models, Legal Issues, Legislation, Policy And Regulation, Politics, Privacy, Privacy & Surveillance, Products, Recommendation Systems, Review, Safety And Alignment, Scams, Society & Culture  \n",
       "\n",
       "- New FTC guidelines, effective this week, make it illegal to post fake or misleading AI-generated product reviews and allow civil penalties against violators.\n",
       "- The regulations target businesses using generative AI for fake testimonials and prohibit misleading reviews attributed to nonexistent individuals or those lacking actual experience with the products.\n",
       "- The FTC can also penalize entities that buy fake reviews, use intimidation tactics against consumers, or fail to disclose material connections in product reviews. \n",
       "\n"
      ],
      "text/plain": [
       "<IPython.core.display.Markdown object>"
      ]
     },
     "metadata": {},
     "output_type": "display_data"
    },
    {
     "data": {
      "text/markdown": [
       "[32. Dont be fooled by AI companies ethics washing - Fast Company](https://www.fastcompany.com/91214394/dont-be-fooled-by-ai-companies-ethics-washing)  \n",
       "\n",
       " Bias And Fairness, Corporate Responsibility, Disinformation, Ethics, Gen AI, Opinion, Policy And Regulation, Privacy, Safety And Alignment, Society & Culture  \n",
       "\n",
       "- No substantive news content to summarize. \n",
       "\n"
      ],
      "text/plain": [
       "<IPython.core.display.Markdown object>"
      ]
     },
     "metadata": {},
     "output_type": "display_data"
    },
    {
     "data": {
      "text/markdown": [
       "[33. Exclusive: Legal tech startup Genie AI just raised \\\\$17.8 million from Google and Khosla Ventures using this 13-slide deck - Business Insider](https://www.businessinsider.com/genie-ai-funding-khosla-ventures-google-pitch-deck-2024-10)  \n",
       "\n",
       " Deals, Economics, Finance, Fintech, Funding, Gen AI, Genie AI, Google, Intellectual Property, Ipos, Khosla Ventures, Legal Issues, Legal Tech, Mergers And Acquisitions, Products, Stocks, Venture Capital  \n",
       "\n",
       "- Legal tech startup Genie AI has raised \\\\$17.8 million in a Series A funding round from Google and Khosla Ventures, bringing its total funding to around \\\\$20 million.\n",
       "- The company's AI-driven editing platform aims to streamline the drafting and reviewing of legal documents, enabling faster turnaround times for contracts, thus attracting over 100,000 corporate users.\n",
       "- Genie AI plans to use the funds to expand in the US and enhance its agentic AI capabilities, differentiating itself from competitors by offering a proprietary, privacy-aware editing solution. \n",
       "\n"
      ],
      "text/plain": [
       "<IPython.core.display.Markdown object>"
      ]
     },
     "metadata": {},
     "output_type": "display_data"
    },
    {
     "data": {
      "text/markdown": [
       "[34. Apple's Tim Cook meets Chinese regulators but no final word on AI roll-out - scmp.com](https://scmp.com/news/article/3283475/apples-tim-cook-meets-china-regulator-beijing-no-final-word-apple-intelligence)  \n",
       "\n",
       " AI Rollout, Apple, China, Governance, Policy And Regulation, Politics, Regulators, Tim Cook  \n",
       "\n",
       "- Tim Cook met with Jin Zhuanglong, head of China's Ministry of Industry and Information Technology, to discuss Apple's development in China, but no details were provided regarding the launch of Apple's generative AI services in the country.\n",
       "- The Chinese government requires a permit for the public release of AI software, and currently, only local firms have received approval for their generative AI services.\n",
       "- Analysts suggest that the absence of Apple Intelligence in China could negatively impact iPhone sales, as local brands enhance their offerings with AI features. \n",
       "\n"
      ],
      "text/plain": [
       "<IPython.core.display.Markdown object>"
      ]
     },
     "metadata": {},
     "output_type": "display_data"
    },
    {
     "data": {
      "text/markdown": [
       "[35. Foreign adversaries using artificial intelligence to meddle in U.S. election, FBI says - Yahoo](https://www.yahoo.com/news/foreign-adversaries-using-artificial-intelligence-010043303.html)  \n",
       "\n",
       " AI Doom, Bias And Fairness, Cybersecurity, Disinformation, Fbi, Foreign Adversaries, Gen AI, Governance, Legal Issues, Military, Policy And Regulation, Politics, Privacy, Privacy & Surveillance, Russia, Safety And Alignment, Security, Society & Culture, U.S. Election  \n",
       "\n",
       "- The FBI warns that Russia and other foreign adversaries are using advanced artificial intelligence to deceive American voters and interfere in elections.\n",
       "- Techniques such as deepfake audio and video are making it increasingly difficult for voters to discern real from fake, potentially influencing election outcomes.\n",
       "- Experts express concern that undetected disinformation campaigns could spread rapidly before fact-checkers can respond, leading to widespread confusion about political realities. \n",
       "\n"
      ],
      "text/plain": [
       "<IPython.core.display.Markdown object>"
      ]
     },
     "metadata": {},
     "output_type": "display_data"
    },
    {
     "data": {
      "text/markdown": [
       "[36. ML Metamorphosis: Chaining ML Models for Optimized Results - Towards Data Science](https://towardsdatascience.com/ml-metamorphosis-chaining-ml-models-for-optimized-results-d89d952627a9)  \n",
       "\n",
       " Fintech, Language Models, Machine Learning, Model Chaining, Optimization, Recommendation Systems, Retrieval Augmented Generation, Science, Supply Chain Optimization, Testing  \n",
       "\n",
       "- The concept of \"ML metamorphosis\" involves chaining different machine learning models to improve the quality of the final model, resulting in better performance compared to training a single model directly on initial data.\n",
       "- Techniques such as knowledge distillation, model compression, and rule extraction are foundational to this process, each contributing to enhancing model efficiency and interpretability through the use of transfer sets with enriched data.\n",
       "- An example demonstrated using the MNIST dataset showed significant accuracy improvement from 0.67 to 0.86 by utilizing a CNN model to generate pseudo-labeled data for training a decision tree classifier. \n",
       "\n"
      ],
      "text/plain": [
       "<IPython.core.display.Markdown object>"
      ]
     },
     "metadata": {},
     "output_type": "display_data"
    },
    {
     "data": {
      "text/markdown": [
       "[37. Meet Quatfit, The AI Innovator in HackerNoons Startups of the Year Awards! - Hacker Noon](https://hackernoon.com/meet-quatfit-the-ai-innovator-in-hackernoons-startups-of-the-year-awards)  \n",
       "\n",
       " Awards, Gen AI, Hackernoon, Innovation, Products, Quatfit, Venture Capital  \n",
       "\n",
       "- Quatfit, an AI startup from Telangana, has been nominated for HackerNoon's Startups of the Year awards, focusing on democratizing access to advanced AI technologies across various industries.\n",
       "- The company emphasizes a commitment to safety, ethics, and long-term benefits while successfully achieving product-market fit and expanding its offerings beyond healthcare to other sectors like urban planning and logistics.\n",
       "- Quatfit values user feedback and adaptability, which have played key roles in its growth and development of user-friendly, scalable AI solutions. \n",
       "\n"
      ],
      "text/plain": [
       "<IPython.core.display.Markdown object>"
      ]
     },
     "metadata": {},
     "output_type": "display_data"
    },
    {
     "data": {
      "text/markdown": [
       "[38. BlackRock Expands AI and Tech Investment Opportunities with New Active ETFs - Yahoo Finance](https://uk.finance.yahoo.com/news/blackrock-expands-ai-tech-investment-213831075.html)  \n",
       "\n",
       " Blackrock, Deals, Economics, Etfs, Finance, Funding, Gen AI, Investment, Products, Stocks, Venture Capital  \n",
       "\n",
       "- The text outlines Yahoo's use of cookies to enhance user experience, authenticate users, and measure site usage.\n",
       "- It mentions user consent options regarding the use of personal data for advertising and content personalization.\n",
       "- Users can customize their privacy settings and manage their choices related to cookies and personal data usage. \n",
       "\n"
      ],
      "text/plain": [
       "<IPython.core.display.Markdown object>"
      ]
     },
     "metadata": {},
     "output_type": "display_data"
    },
    {
     "data": {
      "text/markdown": [
       "[39. OpenAI's rapid growth loaded with 'corner case' challenges, says Fivetran CEO - The Register](https://go.theregister.com/feed/www.theregister.com/2024/10/23/fivetran_ceo_interview/)  \n",
       "\n",
       " Challenges, Fivetran Ceo, Gen AI, Growth, Language Models, OpenAI, Opinion, Safety And Alignment  \n",
       "\n",
       "- OpenAI's rapid growth has led to unique data integration challenges, as highlighted by Fivetran CEO George Fraser, who compares OpenAI's infrastructure to a \"100-story-tall baby\" facing unexpected problems due to its scale.\n",
       "- Fivetran has surpassed \\\\$300 million in annual recurring revenue, up from \\\\$200 million in 2023, and aims to enhance data movement for organizations supporting GenAI and real-time decision-making.\n",
       "- Despite past criticisms, Fivetran is making strides in supporting data lakes and has no immediate plans to raise additional capital, focusing instead on a future IPO. \n",
       "\n"
      ],
      "text/plain": [
       "<IPython.core.display.Markdown object>"
      ]
     },
     "metadata": {},
     "output_type": "display_data"
    },
    {
     "data": {
      "text/markdown": [
       "[40. Anthropics latest AI update can use a computer on its own - The Verge](https://www.theverge.com/2024/10/22/24276822/anthopic-claude-3-5-sonnet-computer-use-ai)  \n",
       "\n",
       " AI Update, Anthropic, Automation, Code Assistants, Gen AI, Job Automation, Language Models, Privacy & Surveillance, Products, Safety And Alignment  \n",
       "\n",
       "- Anthropic has launched a new feature in its Claude 3.5 Sonnet AI model that allows the AI to control a computer by observing the screen and performing actions like moving the cursor and clicking buttons.\n",
       "- This feature, currently in public beta, aims to provide feedback for developers, though Anthropic acknowledges it is still experimental and can be error-prone, with limitations in performing certain computer actions.\n",
       "- The updated Claude 3.5 Sonnet model also shows significant performance improvements in coding and tool use tasks, surpassing benchmarks set by competing models. \n",
       "\n"
      ],
      "text/plain": [
       "<IPython.core.display.Markdown object>"
      ]
     },
     "metadata": {},
     "output_type": "display_data"
    },
    {
     "data": {
      "text/markdown": [
       "[41. Parents of Massachusetts high schooler disciplined for using AI sue school - The Washington Post](https://www.washingtonpost.com/business/2024/10/22/high-school-student-lawsuit-artificial-intelligence/000fbad0-90c0-11ef-b5b1-75167840d9f3_story.html)  \n",
       "\n",
       " Bias And Fairness, Discipline, Education, Ethics, Gen AI, Governance, High School, Lawsuit, Legal Issues, Massachusetts, Policy And Regulation, Politics, Safety And Alignment, Society & Culture  \n",
       "\n",
       "- Parents of a Massachusetts high school senior are suing the school after their son was disciplined for using AI in a history project.\n",
       "- The parents argue that the punishment negatively affected their son's chances of being accepted to an elite college.\n",
       "- The case was presented in federal court in Boston. \n",
       "\n"
      ],
      "text/plain": [
       "<IPython.core.display.Markdown object>"
      ]
     },
     "metadata": {},
     "output_type": "display_data"
    },
    {
     "data": {
      "text/markdown": [
       "[42. Anthropic publicly releases AI tool that can take over the users mouse cursor - Google News](https://news.google.com/read/CBMiswFBVV95cUxPRkJrVGhSWDZPV0psaEQtNTJndFczQnJzOWR6TGNSSFdRWmR1U3Nfd0ZSd3pGTHoxOHVldVdLSmVnekU0bUw1VEVBTkJMWUY0eHRiN29ldUVYUHNHS2JHTU5CTWxPeHhYcjRzbEtCNHZteHJRS1lwZHROZTNYZ3ktRFpuTnd2V2Y0MU1TQkU1WThnRFY4cThYSnd4R3lUanh5TENaTE9VdWFiT0VTTWc4eFExMA)  \n",
       "\n",
       " AI Tool, Anthropic, Automation, Code Assistants, Gen AI, Job Automation, Language Models, Mouse Cursor, Privacy, Privacy & Surveillance, Products, Safety And Alignment  \n",
       "\n",
       "- Anthropic has released a new AI tool called \"Computer Use\" that can take control of a user's mouse cursor to perform basic tasks on their computer.\n",
       "- The tool works by utilizing the mid-range 3.5 Sonnet model and allows users to give multi-step instructions through the API, with Claude executing tasks by analyzing screenshots.\n",
       "- Limitations include reliance on rapid screengrabs rather than live video, making it prone to missing notifications, and it has been described as \"cumbersome and error-prone\" during testing. \n",
       "\n"
      ],
      "text/plain": [
       "<IPython.core.display.Markdown object>"
      ]
     },
     "metadata": {},
     "output_type": "display_data"
    },
    {
     "data": {
      "text/markdown": [
       "[43. Generative Reward Models (GenRM): A Hybrid Approach to Reinforcement Learning from Human and AI Feedback, Solving Task Generalization and Feedback Collection Challenges - MarkTechPost](https://www.marktechpost.com/2024/10/22/generative-reward-models-genrm-a-hybrid-approach-to-reinforcement-learning-from-human-and-ai-feedback-solving-task-generalization-and-feedback-collection-challenges/)  \n",
       "\n",
       " AI Feedback, Artificial General Intelligence, Cognitive Science, Computer Vision, Gen AI, Generative Reward Models, Language Models, Recommendation Systems, Reinforcement Learning, Retrieval Augmented Generation, Safety And Alignment, Science, Testing  \n",
       "\n",
       "- Generative Reward Models (GenRM) enhance reinforcement learning by combining human feedback with AI-generated reasoning, leading to improved performance in both familiar and unfamiliar tasks.\n",
       "- GenRM surpasses traditional models, achieving 9-31% better accuracy in in-distribution tasks and 10-45% improvements in out-of-distribution scenarios, while reducing reliance on extensive human feedback.\n",
       "- The hybrid approach ensures alignment with human values and boosts model generalization, making it a viable solution for tackling complex real-world challenges in AI. \n",
       "\n"
      ],
      "text/plain": [
       "<IPython.core.display.Markdown object>"
      ]
     },
     "metadata": {},
     "output_type": "display_data"
    },
    {
     "data": {
      "text/markdown": [
       "[44. Kevin Bacon, Kate McKinnon, and other creatives warn of unjust AI threat - The Verge](https://www.theverge.com/2024/10/22/24276994/ai-statement-training-data-copyright-threat-actors-authors-musicians-kevin-bacon-kate-mckinnon)  \n",
       "\n",
       " Advocacy, AI Doom, Bias And Fairness, Creatives, Entertainment, Ethics, Gen AI, Hollywood, Inequality, Kate Mckinnon, Kevin Bacon, Legal Issues, Opinion, Safety And Alignment, Society & Culture, Threat, Tv & Film & Movies  \n",
       "\n",
       "- Kevin Bacon, Kate McKinnon, and over 11,500 creatives signed a statement warning against the unauthorized use of copyrighted materials to train AI, which they see as a significant threat to their livelihoods.  \n",
       "- The group, Fairly Trained, argues that generative AI companies exploit creators by using their works for free while they invest heavily in other resources.  \n",
       "- Various organizations, including the RIAA and News Corp, are taking legal action against AI companies for similar copyright violations. \n",
       "\n"
      ],
      "text/plain": [
       "<IPython.core.display.Markdown object>"
      ]
     },
     "metadata": {},
     "output_type": "display_data"
    },
    {
     "data": {
      "text/markdown": [
       "[45. OpenAI Appoints First Chief Economist to Lead AI Economic Research - Yahoo Finance](https://uk.finance.yahoo.com/news/openai-appoints-first-chief-economist-205520213.html)  \n",
       "\n",
       " Chief Economist, Economic Research, Economics, Gen AI, Governance, OpenAI, Science  \n",
       "\n",
       "- The text outlines Yahoo's use of cookies to provide services, enhance security, and measure site usage.\n",
       "- It informs users about options to accept or reject cookies and manage privacy settings for data usage.\n",
       "- The content emphasizes the personalization of advertising and content through the use of geolocation and personal data. \n",
       "\n"
      ],
      "text/plain": [
       "<IPython.core.display.Markdown object>"
      ]
     },
     "metadata": {},
     "output_type": "display_data"
    },
    {
     "data": {
      "text/markdown": [
       "[46. More than 10,500 actors, musicians and authors protest techs AI data grab - Google News](https://news.google.com/read/CBMijAFBVV95cUxPZlRUeGdSWXFpbVl5bldJTWZUV3FFbFdQRDRDenFWTHpZV1lFemJla0xnQUlhYWFzUDd4UksyYm5DRm9JWVFXc01mQmx0MjJqY08teHBZQlQzSXdXd282TS1QcHBaMkVRQ01vNHF0eWRaLVNHdFVJTGJ5NHRpWUM0WlN1YlJJR2xTS3d4Ng)  \n",
       "\n",
       " Actors, AI Doom, Authors, Authors & Writing, Bias And Fairness, Data Privacy, Entertainment, Ethics, Gen AI, Governance, Hollywood, Inequality, Intellectual Property, Legal Issues, Music, Musicians, Opinion, Policy And Regulation, Politics, Privacy, Privacy & Surveillance, Protest, Safety And Alignment, Society & Culture, Tv & Film & Movies  \n",
       "\n",
       "- Over 10,500 creative professionals, including Thom Yorke, Julianne Moore, and Kazuo Ishiguro, signed a letter against the unauthorized use of their works for AI training.\n",
       "- The letter condemns the \"unlicensed use of creative works,\" which they believe threatens their livelihoods.\n",
       "- This protest highlights growing concerns over data scraping practices by technology companies like OpenAI. \n",
       "\n"
      ],
      "text/plain": [
       "<IPython.core.display.Markdown object>"
      ]
     },
     "metadata": {},
     "output_type": "display_data"
    },
    {
     "data": {
      "text/markdown": [
       "[47. How a worm could save humanity from bad AI - TED](https://www.ted.com/talks/ramin_hasani_how_a_worm_could_save_humanity_from_bad_ai)  \n",
       "\n",
       " AI Doom, Cognitive Science, Consciousness, Gen AI, Humanity, Opinion, Safety And Alignment, Science, Technology Ethics, Worm  \n",
       "\n",
       "- Ramin Hasani discusses the potential of liquid neural networks, a flexible AI technology inspired by human brains and physics.  \n",
       "- The new AI approach aims to enhance adaptability and problem-solving capabilities.  \n",
       "- This innovative technology could address challenges posed by conventional artificial intelligence.   \n",
       "\n"
      ],
      "text/plain": [
       "<IPython.core.display.Markdown object>"
      ]
     },
     "metadata": {},
     "output_type": "display_data"
    },
    {
     "data": {
      "text/markdown": [
       "[48. Anthropics new AI can use computers like a human, redefining automation for enterprises - Google News](https://news.google.com/read/CBMiswFBVV95cUxPR3VUbWZYc0NqREdvc1lRQzZLd29NcjhueHVBRjNSSGRwZlQ0eE9ydnRveElSWVhqakJzbEI4bndmc2ZTNTBHVy1qUDZ2VDVpUUJLQjR0MnAyRlJQVk5zd3dsVDFhMDFxZ01yQTYzaUZWQTlab1lFc2F3OUtsWmZKOEVlX3M1Z2IxT1Z5bllzSUdqeXBTOGNOVjhBS3FDM04tdWlIcF9xdGlMNXJqa0lRYVJFaw)  \n",
       "\n",
       " Anthropic, Automation, Code Assistants, Economics, Enterprise Technology, Gen AI, Job Automation, Jobs & Careerslabor Market, Language Models, Products  \n",
       "\n",
       "- Anthropic has introduced Claude 3.5 Sonnet, featuring a new \"Computer Use\" capability that allows AI to interact with computers like humans, potentially transforming how businesses automate complex workflows.\n",
       "- Early partners like GitLab, Canva, and Replit are already using these advanced features to enhance productivity in tasks such as software development and design.\n",
       "- Despite its potential, the technology is in beta and raises security and privacy concerns, prompting Anthropic to implement safeguards and restrict access. \n",
       "\n"
      ],
      "text/plain": [
       "<IPython.core.display.Markdown object>"
      ]
     },
     "metadata": {},
     "output_type": "display_data"
    },
    {
     "data": {
      "text/markdown": [
       "[49. Tech bosses think nuclear fusion is the solution to AIs energy demands  heres what theyre missing - The Next Web](https://thenextweb.com/news/tech-bosses-think-nuclear-fusion-is-the-solution-to-ais-energy-demands-heres-what-theyre-missing)  \n",
       "\n",
       " AI Doom, Climate, Energy, Energy Demands, Gen AI, Nuclear, Nuclear Fusion, Opinion, Science, Singularity, Sustainability  \n",
       "\n",
       "- The rise of AI technology has significantly increased energy demands and greenhouse gas emissions, notably causing a 48% increase in Google's emissions over five years, complicating its goal for net-zero by 2030.  \n",
       "- Tech companies are exploring nuclear power, particularly small fission reactors and the potential of fusion energy, as solutions for powering data centres, though fusion technology remains unproven and requires extensive further development.  \n",
       "- There is concern that the focus on fusion for AI energy needs may overshadow broader humanitarian benefits, raising questions about who benefits from these technologies and whether they can genuinely contribute to decarbonizing the energy supply.   \n",
       "\n"
      ],
      "text/plain": [
       "<IPython.core.display.Markdown object>"
      ]
     },
     "metadata": {},
     "output_type": "display_data"
    },
    {
     "data": {
      "text/markdown": [
       "[50. UiPath is marrying generative AI with robots to accelerate business automation - SiliconANGLE - SiliconANGLE](https://siliconangle.com/2024/10/22/uipath-marrying-generative-ai-robots-accelerate-business-automation/)  \n",
       "\n",
       " Business Automation, Chatbots, Code Assistants, Customer Service, Deals, Economics, Finance, Fintech, Gen AI, Generative AI, Hardware, Job Automation, Jobs & Careerslabor Market, Language Models, Products, Retrieval Augmented Generation, Robots, Uipath, Virtual Assistants  \n",
       "\n",
       "- UiPath announced the preview of its Agent Builder tool, aimed at integrating generative AI with robotic process automation (RPA) to enhance enterprise automation capabilities.\n",
       "- The concept of \"agentic automation\" will allow AI agents to tackle complex tasks alongside traditional RPA, enabling intelligent decision-making and improved business efficiency.\n",
       "- UiPath also launched the Autopilot tool, a conversational agent that enhances employee productivity by providing a range of automation functionalities and supporting multiple large language models. \n",
       "\n"
      ],
      "text/plain": [
       "<IPython.core.display.Markdown object>"
      ]
     },
     "metadata": {},
     "output_type": "display_data"
    },
    {
     "data": {
      "text/markdown": [
       "[51. Can A.I. Be Blamed for a Teens Suicide? - The New York Times](https://www.nytimes.com/2024/10/23/technology/characterai-lawsuit-teen-suicide.html)  \n",
       "\n",
       " AI Doom, Bias And Fairness, Cognitive Science, Consciousness, Education, Ethics, Gen AI, Healthcare, Legal Issues, Mental Health, Opinion, Privacy, Privacy & Surveillance, Responsibility, Safety And Alignment, Society & Culture, Teen Suicide  \n",
       "\n",
       "- The mother of a 14-year-old boy from Florida has filed a lawsuit against Character.AI, claiming her son became obsessed with a chatbot on the platform prior to his suicide.\n",
       "- The boy reportedly communicated with a lifelike A.I. chatbot on the last day of his life, expressing emotional connections typical of human relationships.\n",
       "- The case raises questions about the potential influence of A.I. on mental health and the responsibility of technology companies. \n",
       "\n"
      ],
      "text/plain": [
       "<IPython.core.display.Markdown object>"
      ]
     },
     "metadata": {},
     "output_type": "display_data"
    },
    {
     "data": {
      "text/markdown": [
       "[52. Germany races to catch up inartificial intelligence - dw.com](https://dw.com/p/4m7Iv)  \n",
       "\n",
       " Competitiveness, Gen AI, Germany, Governance, Policy And Regulation, Technology Development  \n",
       "\n",
       "- Germany plans to boost its artificial intelligence (AI) competitiveness with a strategy focusing on trustworthy technology, industrial data, and European cooperation amid a global landscape dominated by US and Chinese advancements.\n",
       "- Chancellor Olaf Scholz highlighted the need for increased venture capital access for German companies to translate strong research into innovative applications, as currently most AI tools used are from US providers.\n",
       "- The German government aims to achieve \"technological sovereignty\" and lead in developing trustworthy AI, supported by initiatives like the EU's comprehensive AI Act, with calls for collaborative European efforts to enhance data utilization. \n",
       "\n"
      ],
      "text/plain": [
       "<IPython.core.display.Markdown object>"
      ]
     },
     "metadata": {},
     "output_type": "display_data"
    },
    {
     "data": {
      "text/markdown": [
       "[53. Fujitsu delivers GPU optimization tech it touts as a server-saverMiddleware aimed at softening the shortage of AI acceleratorsAI + ML9 hrs| - The Register](https://www.theregister.com/2024/10/23/fujitsu_gpu_middleware/)  \n",
       "\n",
       " AI Accelerators, Economics, Fujitsu, Gen AI, Gpu Optimization, Hardware, Japan, Products, Science, Semiconductor Chips  \n",
       "\n",
       "- Fujitsu has launched middleware designed to optimize GPU usage and address the shortage of AI accelerators, promising a 2.25x increase in computational efficiency during trials.\n",
       "- The software includes features for real-time resource allocation and memory management, allowing GPUs to perform tasks that exceed available memory.\n",
       "- Fujitsu plans to enhance the technology for multi-GPU setups, and notable customers like Tradom and Sakura Internet are starting feasibility studies for its implementation. \n",
       "\n"
      ],
      "text/plain": [
       "<IPython.core.display.Markdown object>"
      ]
     },
     "metadata": {},
     "output_type": "display_data"
    },
    {
     "data": {
      "text/markdown": [
       "[54. People Are Competing for Your Dream Job With These AI Tools - Hacker Noon](https://hackernoon.com/people-are-competing-for-your-dream-job-with-these-ai-tools)  \n",
       "\n",
       " AI Tools, Employment, Gen AI, Job Automation, Job Competition, Jobs & Careerslabor Market, Products  \n",
       "\n",
       "- Many job seekers are utilizing AI tools like ResumeWorded, Jobscan, and Kickresume to enhance their resumes and improve their chances of getting interviews, as these tools optimize content for applicant tracking systems (ATS).\n",
       "- Evaluation results show Kickresume scored the highest due to its user-friendly AI integration and competitive pricing, making it particularly attractive for freelancers and remote workers.\n",
       "- Although AI tools significantly boost efficiency in job hunting, they are not a complete replacement for personal efforts and professional consultations. Serious users often need to subscribe for full functionality as free versions offer limited features. \n",
       "\n"
      ],
      "text/plain": [
       "<IPython.core.display.Markdown object>"
      ]
     },
     "metadata": {},
     "output_type": "display_data"
    },
    {
     "data": {
      "text/markdown": [
       "[55. Microsoft ups finance automation game with AI agents - CFO Dive](https://www.cfodive.com/news/microsoft-expands-finance-automation-portfolio-ai-agents/730492/)  \n",
       "\n",
       " AI Agents, Automation, Chatbots, Economics, Finance, Fintech, Gen AI, Hardware, Job Automation, Microsoft, Products, Virtual Assistants  \n",
       "\n",
       "- Microsoft is introducing 10 new AI agents, including two specifically for finance professionals, aimed at automating business functions on its Dynamics 365 ERP platform.\n",
       "- The initiative highlights a significant opportunity to automate manual processes in corporate finance, particularly in accounts payable and receivable.\n",
       "- This launch comes as competition in the AI enterprise software sector intensifies, following similar developments from companies like Salesforce. \n",
       "\n"
      ],
      "text/plain": [
       "<IPython.core.display.Markdown object>"
      ]
     },
     "metadata": {},
     "output_type": "display_data"
    },
    {
     "data": {
      "text/markdown": [
       "[56. Microsoft lets you create AI agents' using upgraded Copilot Studio - www.androidheadlines.com](https://www.androidheadlines.com/2024/10/microsoft-lets-you-create-ai-agents-using-upgraded-copilot-studio.html)  \n",
       "\n",
       " AI Agents, Chatbots, Code Assistants, Copilot Studio, Gen AI, Hardware, Microsoft, Products, Speech Recognition & Synthesis, Virtual Assistants  \n",
       "\n",
       "- Microsoft has upgraded its Copilot Studio, allowing users to create custom “AI agents” to automate and streamline business operations.\n",
       "- The platform now features 10 prebuilt AI agents that can initiate tasks independently, respond to business signals, and automate complex workflows.\n",
       "- New tools within the Copilot Studio include the “Dynamic Agent Plan” for understanding agent decision-making and an “Activity overview” for tracking agent activities and performance. \n",
       "\n"
      ],
      "text/plain": [
       "<IPython.core.display.Markdown object>"
      ]
     },
     "metadata": {},
     "output_type": "display_data"
    },
    {
     "data": {
      "text/markdown": [
       "[57. Youre Using Too Much ChatGPT5 Tell-Tale Signs In 2024 - Forbes](https://www.forbes.com/sites/rachelwells/2024/10/23/are-you-using-too-much-chatgpt-5-signs/)  \n",
       "\n",
       " 2024, Chatbots, Chatgpt, Gen AI, Language Models, Opinion, Signs, Usage  \n",
       "\n",
       "- Approximately 62% of professionals, particularly among Gen Z and Millennials, are using ChatGPT and other AI tools for work, marking a significant increase from last year.\n",
       "- Heavy reliance on ChatGPT can lead to generic, emotionless content, identifying markers include repetitive phrases, uniform sentence length, and grammatical errors.\n",
       "- AI should enhance human creativity and expertise rather than replace it; moderation and personal input are crucial for authentic writing. \n",
       "\n"
      ],
      "text/plain": [
       "<IPython.core.display.Markdown object>"
      ]
     },
     "metadata": {},
     "output_type": "display_data"
    },
    {
     "data": {
      "text/markdown": [
       "[58. OpenAI and Microsoft are funding \\\\$10 million in grants for AI-powered journalism - Engadget](https://www.engadget.com/ai/openai-and-microsoft-are-funding-10-million-in-grants-for-ai-powered-journalism-193042213.html)  \n",
       "\n",
       " AI Journalism, Authors & Writing, Deals, Funding, Gen AI, Grants, Microsoft, OpenAI  \n",
       "\n",
       "- OpenAI and Microsoft are jointly funding \\\\$10 million in grants to promote AI-powered journalism, targeting several major publications such as Chicago Public Media and The Philadelphia Inquirer.\n",
       "- Each selected publication will hire a two-year AI fellow to develop and implement AI projects aimed at improving their business sustainability.\n",
       "- This initiative follows a series of legal challenges faced by OpenAI and Microsoft from various media outlets concerning AI's use of their content. \n",
       "\n"
      ],
      "text/plain": [
       "<IPython.core.display.Markdown object>"
      ]
     },
     "metadata": {},
     "output_type": "display_data"
    },
    {
     "data": {
      "text/markdown": [
       "[59. The AI app Soula seeks to improve healthcare access for pregnant women - Business Insider](https://www.businessinsider.com/soula-ai-chatbot-postpartum-healthcare-gap-women-2024-10)  \n",
       "\n",
       " Access, Bias And Fairness, Gen AI, Health & Fitness, Healthcare, Inequality, Pregnant Women, Products, Science, Society & Culture  \n",
       "\n",
       "- The Soula app features an AI chatbot named Dua, designed to support mothers with postpartum depression and improve access to postpartum mental health care.\n",
       "- OB/GYN experts endorse the use of AI chatbots to make maternal healthcare more accessible, potentially alleviating some pressure from the healthcare system.\n",
       "- Soula aims to serve as an affordable alternative to traditional doula support, addressing the needs of mothers who may feel uncomfortable seeking help or have limited access to healthcare resources. \n",
       "\n"
      ],
      "text/plain": [
       "<IPython.core.display.Markdown object>"
      ]
     },
     "metadata": {},
     "output_type": "display_data"
    },
    {
     "data": {
      "text/markdown": [
       "[60. Thom Yorke and Robert Smith among 10,500 creatives to sign petition against AI - Far Out Magazine](https://faroutmagazine.co.uk/thom-yorke-and-robert-smith-among-10500-creatives-to-sign-petition-against-ai/)  \n",
       "\n",
       " AI Doom, Authors & Writing, Bias And Fairness, Creatives, Entertainment, Ethics, Gen AI, Governance, Hollywood, Inequality, Intellectual Property, Legal Issues, Music, Opinion, Petition, Policy And Regulation, Politics, Privacy, Privacy & Surveillance, Robert Smith, Safety And Alignment, Society & Culture, Thom Yorke, Tv & Film & Movies  \n",
       "\n",
       "- Thom Yorke, Robert Smith, and over 10,500 creatives have signed a petition against the unlicensed use of their work to train AI models, citing it as a major threat to their livelihoods and a breach of copyright.\n",
       "- The petition highlights the ongoing legal battle between creative professionals and tech firms, with concerns that AI will replace human writers and creators, driven by cost-cutting measures in the industry.\n",
       "- Notable signatories include authors, musicians, and actors, reflecting widespread unease in the creative sector regarding AI's impact on their work and compensation. \n",
       "\n"
      ],
      "text/plain": [
       "<IPython.core.display.Markdown object>"
      ]
     },
     "metadata": {},
     "output_type": "display_data"
    },
    {
     "data": {
      "text/markdown": [
       "[61. As AI Hits E-Discovery, Lawyers Go From Big Law to Boutique - Bloomberg Law](https://news.bloomberglaw.com/us-law-week/as-ai-hits-e-discovery-lawyers-go-from-big-law-to-boutique)  \n",
       "\n",
       " E-Discovery, Economics, Gen AI, Job Automation, Jobs & Careerslabor Market, Lawyers, Legal Issues, Legal Technology  \n",
       "\n",
       "- Redgrave LLP has expanded its team by attracting e-discovery specialists, signaling a shift towards increased specialization in e-discovery within boutique law firms as opposed to large firms.\n",
       "- The rise of generative AI presents both opportunities and challenges for e-discovery, with potential for improved document classification and efficiency, but also complications related to privacy laws and authenticity of evidence.\n",
       "- Experts emphasize that rather than replacing legal professionals, AI will change the nature of the work, favoring those who can effectively utilize AI technologies over those who cannot. \n",
       "\n"
      ],
      "text/plain": [
       "<IPython.core.display.Markdown object>"
      ]
     },
     "metadata": {},
     "output_type": "display_data"
    },
    {
     "data": {
      "text/markdown": [
       "[62. Aptos Orbital Announces Official Launch of Powerful AI Satellite Platform - Yahoo Finance](https://finance.yahoo.com/news/aptos-orbital-announces-official-launch-130100791.html)  \n",
       "\n",
       " Aptos Orbital, Gen AI, Hardware, Language Models, Products, Satellite Platform, Science, Technology Launch  \n",
       "\n",
       "- Aptos Orbital has launched a new AI satellite platform that integrates advanced AI processing with cloud services, enabling real-time intelligence transmission from satellites to Earth.\n",
       "- The company aims to improve satellite communication capabilities, addressing issues like communication gaps and onboard compute limitations, providing continuous connectivity regardless of weather conditions.\n",
       "- Amazon Web Services (AWS) has partnered with Aptos as the exclusive cloud services provider, supporting the platform's capabilities and helping to secure over \\\\$100 million in customer commitments from various satellite companies. \n",
       "\n"
      ],
      "text/plain": [
       "<IPython.core.display.Markdown object>"
      ]
     },
     "metadata": {},
     "output_type": "display_data"
    },
    {
     "data": {
      "text/markdown": [
       "[63. Exploring the mechanism of sustained consumer trust in AI chatbots after service failures: a perspective based on attribution and CASA theories - Nature](https://www.nature.com/articles/s41599-024-03879-5)  \n",
       "\n",
       " Chatbots, Cognitive Science, Consumer Trust, Customer Service, Gen AI, Language Models, Recommendation Systems, Safety And Alignment, Science, Service Failures, Society & Culture, Virtual Assistants  \n",
       "\n",
       "- The study examines how social interaction cues and anthropomorphic factors in AI chatbots affect consumer trust after service failures, utilizing Computers as Social Actors (CASA) theory and Attribution Theory.\n",
       "- Findings indicate that perceived anthropomorphic characteristics and empathic abilities enhance user trust by promoting external attributions for service failures, while AI anxiety negatively impacts sustained trust.\n",
       "- The research provides insights for businesses to effectively manage consumer relationships and improve AI chatbot design, especially in coping with interaction failures. \n",
       "\n"
      ],
      "text/plain": [
       "<IPython.core.display.Markdown object>"
      ]
     },
     "metadata": {},
     "output_type": "display_data"
    },
    {
     "data": {
      "text/markdown": [
       "[64. OpenAI appoints ex-Uber exec as chief compliance officer - Tech in Asia](https://www.techinasia.com/news/openai-appoints-exuber-exec-chief-compliance-officer)  \n",
       "\n",
       " Chief Compliance Officer, Executive Appointment, Gen AI, Governance, OpenAI, Policy And Regulation  \n",
       "\n",
       "- OpenAI has appointed Scott Schools, a former Uber executive and ex-associate deputy attorney general, as their chief compliance officer amid rising global AI regulations.\n",
       "- This decision follows recent exits at OpenAI, including the departure of Chief Technology Officer Mira Murati.\n",
       "- Additionally, Aaron Chatterji has been appointed as chief economist to analyze AI's impact on economic growth and employment. \n",
       "\n"
      ],
      "text/plain": [
       "<IPython.core.display.Markdown object>"
      ]
     },
     "metadata": {},
     "output_type": "display_data"
    },
    {
     "data": {
      "text/markdown": [
       "[65. AI firms and civil society groups plead for passage of federal AI law ASAP - The Register](https://go.theregister.com/feed/www.theregister.com/2024/10/23/ai_firms_and_civil_society/)  \n",
       "\n",
       " Advocacy, Civil Society, Ethics, Federal Law, Gen AI, Governance, Legal Issues, Policy And Regulation, Politics, Safety And Alignment, Society & Culture, Technology Regulation  \n",
       "\n",
       "- Over 60 organizations are urging Congress to pass federal legislation to establish the US AI Safety Institute within NIST to enhance US competitiveness in AI technology.\n",
       "- Two bills, the Future of AI Innovation Act and the AI Advancement and Reliability Act, propose the creation of this institute and are currently under consideration in the Senate and House of Representatives.\n",
       "- The coalition emphasizes the need for national policies on AI safety, contrasting with California's recent vetoed bill, which aimed for enforceable regulations rather than voluntary guidelines. \n",
       "\n"
      ],
      "text/plain": [
       "<IPython.core.display.Markdown object>"
      ]
     },
     "metadata": {},
     "output_type": "display_data"
    },
    {
     "data": {
      "text/markdown": [
       "[66. Samsung TVs are getting 4K Generative Wallpapers - FoneArena](https://www.fonearena.com/blog/438619/samsung-tv-generative-wallpapers.html)  \n",
       "\n",
       " 4K, Art & Design, Gen AI, Generative Wallpapers, Hardware, Korea, Products, Samsung, Tv & Film & Movies, Tvs  \n",
       "\n",
       "- Samsung has launched a Generative Wallpaper feature for its 2024 Neo QLED and QLED TV models, utilizing AI to create personalized 4K images.\n",
       "- The feature integrates into Ambient Mode, allowing customization of the TV display with themes like \"Happy Holiday\" or \"Party\" while providing curated content.\n",
       "- Initially available in South Korea, North America, and Europe, the global rollout is planned for 2025. \n",
       "\n"
      ],
      "text/plain": [
       "<IPython.core.display.Markdown object>"
      ]
     },
     "metadata": {},
     "output_type": "display_data"
    },
    {
     "data": {
      "text/markdown": [
       "[67. AI at work: Will it contribute to employee burnout? - BBC](https://www.bbc.co.uk/news/articles/c93pz1dz2kxo)  \n",
       "\n",
       " Employee Burnout, Gen AI, Job Automation, Jobs & Careerslabor Market, Mental Health, Productivity, Workplace  \n",
       "\n",
       "- The introduction of AI tools in workplaces is leading to increased employee stress and burnout, as employees struggle to manage multiple tools that complicate their workflows rather than simplify them.\n",
       "- Surveys indicate that while top executives expect AI to boost productivity, a majority of employees feel overwhelmed and report a decrease in their productivity, with many believing AI will contribute to burnout.\n",
       "- Experts emphasize the need for better support in adapting to new technologies, as the rapid introduction of AI often leads to higher workloads without providing adequate training or clear benefits. \n",
       "\n"
      ],
      "text/plain": [
       "<IPython.core.display.Markdown object>"
      ]
     },
     "metadata": {},
     "output_type": "display_data"
    },
    {
     "data": {
      "text/markdown": [
       "[68. Dawn of the Agent: New Claude AI can take over your computer - New Atlas](https://newatlas.com/ai-humanoids/anthropic-claude-computer-use-agent-ai/)  \n",
       "\n",
       " Automation, Claude AI, Code Assistants, Computer Control, Gen AI, Job Automation, Language Models, Privacy, Privacy & Surveillance, Products, Safety And Alignment  \n",
       "\n",
       "- Anthropic has launched a new AI model, Claude, capable of autonomously taking over computer tasks, marking a significant advancement in \"agent\" style AI capabilities.\n",
       "- This model can interact with software like a human, performing tasks such as web browsing and calendar management, although it currently has limitations and scores only 14.9% on a computer use benchmark.\n",
       "- The introduction of such advanced AI poses potential safety risks, prompting Anthropic to release the feature in a controlled manner to address challenges proactively before broader deployment. \n",
       "\n"
      ],
      "text/plain": [
       "<IPython.core.display.Markdown object>"
      ]
     },
     "metadata": {},
     "output_type": "display_data"
    },
    {
     "data": {
      "text/markdown": [
       "[69. AI Is Making It Easier for Scammers to Steal Homes From Their Owners - Google News](https://news.google.com/read/CBMimAFBVV95cUxPYjBjY3dITXdtWDRaU29Xemc2aTktRHRJMnlDbm96d0JvVzVRQjh4U1ZrZjB2R2ZwbkI0OFBmMHlMenduZkVKWHZiRUF6UUNHSF9DU2dQTGpReDNfX2FiVG02bnh0aGVDemVrMTNmY0xJZ21VU1plOFl3dW8ybHZRdWxtQUdOT19lWXAwd295SjlTWFY5c1pZcw)  \n",
       "\n",
       " AI Doom, Bias And Fairness, Cybersecurity, Disinformation, Gen AI, Home Theft, Legal Issues, Privacy, Privacy & Surveillance, Real Estate, Safety And Alignment, Scammers, Scams, Security Risks  \n",
       "\n",
       "- AI tools are enabling scammers to easily create fake deeds and ownership documents, leading to increased incidents of real estate fraud, including high-profile cases like the fraudulent sale of Elvis Presley's Graceland.\n",
       "- Victims of deed fraud, ranging from mansion owners to individuals with modest properties, face significant legal challenges and potential losses as their ownership claims are disputed.\n",
       "- The rise of seller impersonation fraud, where scammers pose as property owners to sell homes without their knowledge, is becoming more common, with 28% of title insurance companies reporting attempts in 2023. \n",
       "\n"
      ],
      "text/plain": [
       "<IPython.core.display.Markdown object>"
      ]
     },
     "metadata": {},
     "output_type": "display_data"
    },
    {
     "data": {
      "text/markdown": [
       "[70. Apple's Tim Cook meets China regulator in Beijing but no final word on Apple Intelligence - South China Morning Post](https://www.scmp.com/news/article/3283475/apples-tim-cook-meets-china-regulator-beijing-no-final-word-apple-intelligence)  \n",
       "\n",
       " Apple, China, Governance, Policy And Regulation, Politics, Regulators, Tim Cook  \n",
       "\n",
       "- Tim Cook met with Jin Zhuanglong, China’s top industry regulator, to discuss Apple’s development in China, cybersecurity, and cloud services, but no details were provided on the launch of Apple’s generative AI services in the country.\n",
       "- The need for a government permit has delayed the rollout of Apple Intelligence, which is expected to impact iPhone sales amid rising competition from local brands that have already integrated AI features.\n",
       "- Despite consumer demand for Apple's generative AI services, the MIIT did not confirm any negotiations regarding market access during the meeting. \n",
       "\n"
      ],
      "text/plain": [
       "<IPython.core.display.Markdown object>"
      ]
     },
     "metadata": {},
     "output_type": "display_data"
    },
    {
     "data": {
      "text/markdown": [
       "[71. HR Leaders Say AI Is The Future  But Someone Forgot To Tell The Employees - Allwork.Space](https://allwork.space/2024/10/hr-leaders-say-ai-is-the-future-but-someone-forgot-to-tell-the-employees/)  \n",
       "\n",
       " Bias And Fairness, Economics, Employee Engagement, Future Of Work, Gen AI, Hr, Job Automation, Jobs & Careerslabor Market, Opinion, Society & Culture  \n",
       "\n",
       "- A Gallup study reveals a disconnect between corporate leaders' adoption of AI and employees' awareness, with only 33% of U.S. employees recognizing AI's integration in their roles.\n",
       "- Effective AI adoption necessitates transparent communication of integration plans, established guidelines, and role-aligned training, as many employees feel unprepared and uncomfortable with AI usage.\n",
       "- Organizations must address this gap to maximize AI's potential by empowering employees through clear strategies and support, fostering a culture of innovation and efficiency. \n",
       "\n"
      ],
      "text/plain": [
       "<IPython.core.display.Markdown object>"
      ]
     },
     "metadata": {},
     "output_type": "display_data"
    },
    {
     "data": {
      "text/markdown": [
       "[72. Heres how Philips Hue could work AI into its lighting scenes - TechHive](https://www.techhive.com/article/2495998/heres-how-philips-hue-could-work-ai-into-its-lighting-scenes.html)  \n",
       "\n",
       " Art & Design, Gen AI, Hardware, Innovation, Internet Of Things, Lighting Technology, Philips Hue, Products  \n",
       "\n",
       "- Philips Hue is reportedly working on an unannounced feature that would enable users to make natural language requests for lighting scenes, assisted by AI.\n",
       "- Initially, the AI would suggest existing scenes rather than generate new ones independently, with possibilities for future capabilities to control brightness and other features through natural language.\n",
       "- Other smart lighting brands, such as Govee and Nanoleaf, have already implemented AI functionalities, indicating a growing trend in integrating AI into smart home technologies. \n",
       "\n"
      ],
      "text/plain": [
       "<IPython.core.display.Markdown object>"
      ]
     },
     "metadata": {},
     "output_type": "display_data"
    },
    {
     "data": {
      "text/markdown": [
       "[73. How advances in AI and autonomous systems, new tech, and lower costs are shifting global wars towards \"precise mass\", or the mass deployment of uncrewed systems (Michael C. Horowitz/Foreign Affairs) - www.foreignaffairs.com](https://www.foreignaffairs.com/world/battles-precise-mass-technology-war-horowitz)  \n",
       "\n",
       " AI Doom, Autonomous Systems, Autonomous Vehicles, Drones, Gen AI, Global Warfare, Job Automation, Military, Policy And Regulation, Politics, Robots, Safety And Alignment, Science  \n",
       "\n",
       "- The war in Ukraine demonstrates a shift towards \"precise mass\" warfare, utilizing large numbers of low-cost uncrewed systems that combine both mass and precision in military strategy.  \n",
       "- The U.S. military, facing diminished dominance in precision capabilities, is now investing in scalable, affordable technologies such as drones and autonomous systems to adapt to evolving warfare dynamics.  \n",
       "- Advances in artificial intelligence and reduced manufacturing costs are allowing more countries and non-state actors to effectively engage in modern combat, making it essential for militaries to prepare for prolonged conflicts with inexpensive, precise weaponry. \n",
       "\n"
      ],
      "text/plain": [
       "<IPython.core.display.Markdown object>"
      ]
     },
     "metadata": {},
     "output_type": "display_data"
    },
    {
     "data": {
      "text/markdown": [
       "[74. Google Chat getting AI-powered summaries via Gemini integration - www.androidheadlines.com](https://www.androidheadlines.com/2024/10/google-chat-getting-ai-powered-summaries-via-gemini-integration.html)  \n",
       "\n",
       " Chat, Chatbots, Code Assistants, Computer Vision, Gemini Integration, Gen AI, Google, Job Automation, Language Models, Products, Recommendation Systems, Speech Recognition & Synthesis, Summaries, Virtual Assistants  \n",
       "\n",
       "- Google is integrating AI-powered summaries into Google Chat using its Gemini models, enhancing productivity by providing concise summaries of conversations.\n",
       "- This new feature will assist users in managing large volumes of unread messages, offering a quick overview of pending communications.\n",
       "- The Gemini summaries require a paid plan or add-on, and the feature may take up to 15 days to become available for users after rollout. \n",
       "\n"
      ],
      "text/plain": [
       "<IPython.core.display.Markdown object>"
      ]
     },
     "metadata": {},
     "output_type": "display_data"
    },
    {
     "data": {
      "text/markdown": [
       "[75. The AI Energy Crisis & A Newfound Push for Efficiency - Hacker Noon](https://hackernoon.com/the-ai-energy-crisis-and-a-newfound-push-for-efficiency)  \n",
       "\n",
       " AI Doom, Climate, Economics, Efficiency, Energy, Energy Crisis, Gen AI, Opinion, Safety And Alignment, Science, Singularity, Sustainability  \n",
       "\n",
       "- The growing energy consumption of AI models poses a significant sustainability challenge, with training a single model emitting as much carbon as five cars over their lifetimes.\n",
       "- Startups like Rhymes are developing more efficient AI models, such as the Aria model, which uses selective parameter activation to reduce energy usage significantly.\n",
       "- These innovations in AI technology, focusing on multimodal capabilities and environmental efficiency, offer promising solutions for the future of AI without massive infrastructure investments. \n",
       "\n"
      ],
      "text/plain": [
       "<IPython.core.display.Markdown object>"
      ]
     },
     "metadata": {},
     "output_type": "display_data"
    },
    {
     "data": {
      "text/markdown": [
       "[76. Amazon-backed Anthropic debuts AI agents that can do complex tasks, racing against OpenAI, Microsoft and Google - CNBC](https://www.cnbc.com/2024/10/22/anthropic-announces-ai-agents-for-complex-tasks-racing-openai.html)  \n",
       "\n",
       " AI Agents, Amazon, Anthropic, Chatbots, Code Assistants, Gen AI, Google, Job Automation, Language Models, Microsoft, OpenAI, Products, Technology Competition, Virtual Assistants  \n",
       "\n",
       "- Anthropic, backed by Amazon and founded by former OpenAI executives, launched AI agents capable of completing complex tasks similar to human users, marking a significant milestone in AI development.\n",
       "- The new AI agents can interpret computer screens, execute tasks across software applications, and are aimed at both consumer and enterprise clients, with potential applications in scheduling, online research, and more.\n",
       "- The announcement follows a trend in the tech industry, where startups and companies like Microsoft, Google, and Meta are investing heavily in developing AI agents as part of a competitive landscape in generative AI. \n",
       "\n"
      ],
      "text/plain": [
       "<IPython.core.display.Markdown object>"
      ]
     },
     "metadata": {},
     "output_type": "display_data"
    },
    {
     "data": {
      "text/markdown": [
       "[77. New York Post, WSJ File Lawsuit Against Perplexity AI Over Author Rights - Greek Reporter](https://greekreporter.com/2024/10/23/new-york-post-wsj-sue-perplexity-ai/)  \n",
       "\n",
       " Author Rights, Authors & Writing, Bias And Fairness, Books & Publishing, Ethics, Gen AI, Governance, Inequality, Intellectual Property, Lawsuit, Legal Issues, New York Post, Perplexity AI, Policy And Regulation, Politics, Privacy, Safety And Alignment, Society & Culture, Wsj  \n",
       "\n",
       "- The New York Post and The Wall Street Journal have filed a lawsuit against Perplexity AI, alleging illegal use of their copyrighted stories without permission.\n",
       "- The lawsuit seeks to halt Perplexity AI’s use of the publications' content and demands the destruction of any databases containing their copyrighted works.\n",
       "- This legal action is part of a larger conflict between media publishers and AI companies over the rights to use copyrighted material, with other publishers also taking similar measures against AI firms. \n",
       "\n"
      ],
      "text/plain": [
       "<IPython.core.display.Markdown object>"
      ]
     },
     "metadata": {},
     "output_type": "display_data"
    },
    {
     "data": {
      "text/markdown": [
       "[78. Character.ai Faces Lawsuit After Teens Suicide - Google News](https://news.google.com/read/CBMiiwFBVV95cUxQbGtQZjJ3TWlnS1dvZHhjcWtVZENCZUl0Z0QtdTE0NG5yeTB5cjU4UFVLTjVXQUpMNFQxcW51OVAxc3ItWGIzZTNQbGNxTHhwNW11RDRnUkRITXdsQnNnSGF5MTNyOG5ublJrcnBTZGFuWmZBdTY4eUR4MlI1aG03N3VQTTZGVHpUUlBj)  \n",
       "\n",
       " AI Doom, AI Ethics, Bias And Fairness, Character.AI, Cognitive Science, Consciousness, Education, Ethics, Gen AI, Healthcare, Lawsuit, Legal Issues, Privacy, Privacy & Surveillance, Safety And Alignment, Society & Culture, Teen Suicide  \n",
       "\n",
       "- The mother of a 14-year-old boy from Florida has filed a lawsuit against Character.ai, claiming her son became obsessed with a chatbot prior to his suicide.\n",
       "- Sewell Setzer III communicated with a chatbot named after a \"Game of Thrones\" character on the day of his death.\n",
       "- The case raises questions about the responsibility of AI platforms in cases of adolescent mental health issues. \n",
       "\n"
      ],
      "text/plain": [
       "<IPython.core.display.Markdown object>"
      ]
     },
     "metadata": {},
     "output_type": "display_data"
    },
    {
     "data": {
      "text/markdown": [
       "[79. Scarlett Johansson on fake AI-generated sex videos: Nothing can stop someone from cutting and pasting my image - The Washington Post](https://www.washingtonpost.com/technology/2018/12/31/scarlett-johansson-fake-ai-generated-sex-videos-nothing-can-stop-someone-cutting-pasting-my-image/)  \n",
       "\n",
       " AI Doom, Bias And Fairness, Deepfakes, Disinformation, Entertainment, Ethics, Gen AI, Governance, Hollywood, Image Manipulation, Inequality, Intellectual Property, Legal Issues, Opinion, Policy And Regulation, Politics, Privacy, Privacy & Surveillance, Safety And Alignment, Scams, Scarlett Johansson, Society & Culture, Tv & Film & Movies  \n",
       "\n",
       "- Scarlett Johansson expressed concern over AI-generated fake sex videos using her image, stating that there is nothing to stop such actions.  \n",
       "- She highlighted the exploitation of vulnerable individuals online, mentioning that the internet is a platform where \"sex sells.\"  \n",
       "- One particular fake video featuring her has been viewed over 1.5 million times on a popular porn site.   \n",
       "\n"
      ],
      "text/plain": [
       "<IPython.core.display.Markdown object>"
      ]
     },
     "metadata": {},
     "output_type": "display_data"
    },
    {
     "data": {
      "text/markdown": [
       "[80. AI firms and civil society groups plead for passage of federal AI law ASAPCongress urged to act before year's end to support US competitivenessAI + ML4 hrs|3 - The Register](https://www.theregister.com/2024/10/23/ai_firms_and_civil_society/)  \n",
       "\n",
       " Advocacy, Ethics, Federal Law, Gen AI, Governance, Legal Issues, Policy And Regulation, Politics, Safety And Alignment, Society & Culture, Technology Regulation, Us Competitiveness  \n",
       "\n",
       "- Over 60 organizations, including AI firms and civil society groups, are urging Congress to pass federal AI legislation to establish the US AI Safety Institute within NIST before the end of the year.\n",
       "- Two bills, the Future of AI Innovation Act and the AI Advancement and Reliability Act, have been introduced in Congress to support AI safety and competitiveness, but concerns remain about the likelihood of passage during a historically unproductive Congress.\n",
       "- The coalition emphasizes the need for national policy frameworks and voluntary best practices for AI safety, contrasting with California's recent vetoed bill, which aimed for enforceable regulations. \n",
       "\n"
      ],
      "text/plain": [
       "<IPython.core.display.Markdown object>"
      ]
     },
     "metadata": {},
     "output_type": "display_data"
    },
    {
     "data": {
      "text/markdown": [
       "[81. Stable Diffusion 3.5: Stability AI Redeems Itself With New Models and Expanded Features - Google News](https://news.google.com/read/CBMisgFBVV95cUxQVWpGN2xxWl9XS0hIdm9QWjlJY3lndlJuTnh2TU95X29ZWlhDZTVFMG9Fa3NCdnNoQXE4cHF5NV9fQWxQd0tLNnFub0RudG5FMVVlQVNkNXZ5QlY0aERZR2lTNVBwZV9OZ3RuYlZQeF9lSXlZRG12YllNT2tqVDRMNExfNFpwNW9RYVVDWHRqakFqcndPejdEOW5Kcnd4aGk5S2VxNEhENmg2OHJfTmktaDl30gG6AUFVX3lxTE5zbWZsR3ZoUW9xeF9TZEFvdlJRTUJPRXE0U0pTZkR4bHg3cTVDall4OFNNaVFXU2lBeGtYQTRyV2prNUhMVzRrSXRZektlQWJkREJxU3BtR2FfMTAtS0FMWDlvcFU2VkRXdTNXWUhHVzB4UW1zOHR6VENrb2YzLWNWVDZhS0dfOTZVQjk4OWV3bXE0OUhHc3h3TXI0aU5UR0dYcmtMY2V0ZXJwTTdyR0thY1NNTGRfSlRxQQ)  \n",
       "\n",
       " Art & Design, Computer Vision, Features, Gen AI, Language Models, Models, Products, Review, Science, Stability AI, Stable Diffusion 3.5, Testing  \n",
       "\n",
       "- Stability AI has released Stable Diffusion 3.5, following previous setbacks with version 3 Medium.\n",
       "- The new model offers customizable, uncensored, and faster capabilities aimed at accessibility for all users.\n",
       "- This update represents a redemption for Stability AI in the realm of AI model development. \n",
       "\n"
      ],
      "text/plain": [
       "<IPython.core.display.Markdown object>"
      ]
     },
     "metadata": {},
     "output_type": "display_data"
    },
    {
     "data": {
      "text/markdown": [
       "[82. Artificial Minds, Human Consequences: Explaining AIs Impact on Our Education, Cognition, and More - Hacker Noon](https://hackernoon.com/artificial-minds-human-consequences-explaining-ais-impact-on-our-education-cognition-and-more)  \n",
       "\n",
       " Artificial General Intelligence, Bias And Fairness, Cognition, Cognitive Science, Consciousness, Education, Ethics, Gen AI, Impact, Opinion, Safety And Alignment, Science, Society & Culture  \n",
       "\n",
       "- The text critiques AI language models for negatively impacting education and creativity, arguing they hinder effective tutoring due to their impersonal nature and potential to degrade cognitive development in students, especially younger ones.\n",
       "- It raises concerns about the ethical implications of AI in education, including copyright violations where companies like OpenAI and Microsoft face lawsuits for improperly using copyrighted content in their training data.\n",
       "- The article discusses the challenges in adapting intellectual property laws to evolving technologies, highlighting a potential monopolistic shift in cultural consumption and the risk of AI-generated content lacking true originality or innovation. \n",
       "\n"
      ],
      "text/plain": [
       "<IPython.core.display.Markdown object>"
      ]
     },
     "metadata": {},
     "output_type": "display_data"
    },
    {
     "data": {
      "text/markdown": [
       "[83. Discrete Diffusion with Planned Denoising (DDPD): A Novel Machine Learning Framework that Decomposes the Discrete Generation Process into Planning and Denoising - MarkTechPost](https://www.marktechpost.com/2024/10/22/discrete-diffusion-with-planned-denoising-ddpd-a-novel-machine-learning-framework-that-decomposes-the-discrete-generation-process-into-planning-and-denoising/)  \n",
       "\n",
       " Artificial General Intelligence, Computer Vision, Denoising, Framework, Gen AI, Language Models, Machine Learning, Planning, Retrieval Augmented Generation, Science, Testing  \n",
       "\n",
       "- Researchers from MIT, the University of Oxford, and NVIDIA have developed a new machine learning framework called Discrete Diffusion with Planned Denoising (DDPD) to improve the denoising process within generative AI models.\n",
       "- DDPD enhances control over data refinement by strategically selecting data sequences based on noise severity, significantly increasing output quality and reducing computational costs compared to existing methods like autoregressive models and post-processing techniques.\n",
       "- The framework shows performance improvements on benchmark datasets, indicating its potential for applications in machine translation, text summarization, and image generation, although further validation in real-world scenarios is needed. \n",
       "\n"
      ],
      "text/plain": [
       "<IPython.core.display.Markdown object>"
      ]
     },
     "metadata": {},
     "output_type": "display_data"
    },
    {
     "data": {
      "text/markdown": [
       "[84. Amazon's AI data center dream runs into the reality of 'zombie' facilities, higher costs, and labor shortages - Business Insider](https://www.businessinsider.com/amazon-data-centers-delays-costs-power-labor-shortages-aws-ai-2024-10)  \n",
       "\n",
       " Amazon, Costs, Data Centers, Economics, Finance, Gen AI, Hardware, Infrastructure, Job Automation, Jobs & Careerslabor Market, Labor Shortages, Products  \n",
       "\n",
       "- Amazon's data center expansion is hindered by electricity shortages, labor shortages, and regulatory challenges, impacting their ability to meet growing demand for AI workloads.\n",
       "- The company is facing increasing costs and delays in securing power agreements for new facilities, particularly in regions like Silicon Valley.\n",
       "- Broader industry challenges are emerging as the tech sector grapples with limited resources needed for data center operations, including power, water, and skilled labor. \n",
       "\n"
      ],
      "text/plain": [
       "<IPython.core.display.Markdown object>"
      ]
     },
     "metadata": {},
     "output_type": "display_data"
    },
    {
     "data": {
      "text/markdown": [
       "[85. Huawei's latest AI processors were allegedly made by TSMC: Report - Tom's Hardware](https://www.tomshardware.com/tech-industry/artificial-intelligence/huaweis-latest-ai-processors-were-allegedly-made-by-tsmc-report)  \n",
       "\n",
       " AI Processors, China, Gen AI, Hardware, Huawei, Manufacturing, Products, Semiconductor Chips, Taiwan, Technology Report, Tsmc  \n",
       "\n",
       "- Huawei's latest AI processor, HiSilicon Ascend 910B, was reportedly produced by TSMC, despite both companies denying recent collaborations due to U.S. export restrictions.\n",
       "- TSMC maintained it has complied with U.S. regulations and has not supplied Huawei since mid-September 2020, while allegations suggest Huawei tried to use a proxy to circumvent these restrictions.\n",
       "- The U.S. government may have granted TSMC an export license for the Ascend series, as Huawei's processor reportedly cannot compete with Nvidia's offerings and may not be deemed a security threat. \n",
       "\n"
      ],
      "text/plain": [
       "<IPython.core.display.Markdown object>"
      ]
     },
     "metadata": {},
     "output_type": "display_data"
    },
    {
     "name": "stderr",
     "output_type": "stream",
     "text": [
      "2024-10-23 07:00:33,193 - AInewsbot - INFO - Sending bullet points email\n",
      "2024-10-23 07:00:34,903 - AInewsbot - INFO - Proposing categories using chatgpt-4o-latest\n",
      "2024-10-23 07:00:43,949 - httpx - INFO - HTTP Request: POST https://api.openai.com/v1/chat/completions \"HTTP/1.1 200 OK\"\n",
      "2024-10-23 07:00:43,980 - AInewsbot - INFO - Proposed categories: ['AI fraud prediction roles', 'AI in Smartphones and Automotive Technology', 'AI in postpartum healthcare', 'AI in satellite manufacturing', 'AI lawsuit over teen suicide', 'AI toilet camera for gut health', 'AI-enhanced phone security', 'AI-generated fake reviews banned', 'AI-powered journalism grants', 'Amazon AI data center challenges', 'Anthropic AI agents', 'Apple AI delays', \"Apple's AI Development and Strategy\", 'Genie AI funding', 'Google and Qualcomm AI in cars', 'Huawei AI processors controversy', 'IBM Guardium data security', 'Moonshine speech-to-text models', 'Musicians Protest AI and Copyright Issues', 'Musicians protest AI use', 'Qualcomm Snapdragon AI boost', 'Stable Diffusion 3.5 release']\n"
     ]
    }
   ],
   "source": [
    "# do topic analysis and summarization, identify good topics\n",
    "state = lg_agent.topic_analysis(state)\n",
    "state = lg_agent.topic_clusters(state)\n",
    "state = lg_agent.download_pages(state)\n",
    "state = lg_agent.summarize_pages(state)\n",
    "state = lg_agent.propose_topics(state)\n"
   ]
  },
  {
   "cell_type": "code",
   "execution_count": 39,
   "id": "204c9dbd",
   "metadata": {},
   "outputs": [
    {
     "data": {
      "text/plain": [
       "['AI fraud prediction roles',\n",
       " 'AI in Smartphones and Automotive Technology',\n",
       " 'AI in postpartum healthcare',\n",
       " 'AI in satellite manufacturing',\n",
       " 'AI lawsuit over teen suicide',\n",
       " 'AI toilet camera for gut health',\n",
       " 'AI-enhanced phone security',\n",
       " 'AI-generated fake reviews banned',\n",
       " 'AI-powered journalism grants',\n",
       " 'Amazon AI data center challenges',\n",
       " 'Anthropic AI agents',\n",
       " 'Apple AI delays',\n",
       " \"Apple's AI Development and Strategy\",\n",
       " 'Genie AI funding',\n",
       " 'Google and Qualcomm AI in cars',\n",
       " 'Huawei AI processors controversy',\n",
       " 'IBM Guardium data security',\n",
       " 'Moonshine speech-to-text models',\n",
       " 'Musicians Protest AI and Copyright Issues',\n",
       " 'Musicians protest AI use',\n",
       " 'Qualcomm Snapdragon AI boost',\n",
       " 'Stable Diffusion 3.5 release']"
      ]
     },
     "execution_count": 39,
     "metadata": {},
     "output_type": "execute_result"
    }
   ],
   "source": [
    "# edit topics in the state graph\n",
    "state[\"cluster_topics\"]\n"
   ]
  },
  {
   "cell_type": "code",
   "execution_count": 40,
   "id": "79401619",
   "metadata": {},
   "outputs": [],
   "source": [
    "state[\"cluster_topics\"] =['AI fraud prediction',\n",
    "                          'AI in Smartphones',\n",
    "                          'AI in cars',\n",
    " 'AI in postpartum healthcare',\n",
    " 'AI in satellite manufacturing',\n",
    " 'AI lawsuit over teen suicide',\n",
    " 'AI toilet camera for gut health',\n",
    " 'AI-enhanced phone security',\n",
    " 'AI-generated fake reviews banned',\n",
    " 'AI-powered journalism grants',\n",
    " 'Amazon AI data center challenges',\n",
    " 'Anthropic AI agents',\n",
    " 'Apple AI',\n",
    " 'Genie AI funding',\n",
    " 'Huawei AI processors controversy',\n",
    " 'IBM Guardium data security',\n",
    " 'Moonshine speech-to-text models',\n",
    " 'Musicians protest AI use',\n",
    " 'Qualcomm Snapdragon AI',\n",
    " 'Stable Diffusion 3.5 release']"
   ]
  },
  {
   "cell_type": "code",
   "execution_count": 41,
   "id": "51cb9067",
   "metadata": {},
   "outputs": [
    {
     "name": "stderr",
     "output_type": "stream",
     "text": [
      "2024-10-23 07:03:39,903 - AInewsbot - INFO - Composing summary using o1-preview\n",
      "2024-10-23 07:04:55,089 - httpx - INFO - HTTP Request: POST https://api.openai.com/v1/chat/completions \"HTTP/1.1 200 OK\"\n"
     ]
    },
    {
     "data": {
      "text/markdown": [
       "# Creative Clash: Artists Unite Against AI's Unlicensed Use\n",
       "\n",
       "- Musicians from ABBA, Radiohead, and The Cure protest AI's use of their work - [Google News](https://news.google.com/read/CBMioAFBVV95cUxOUFVnV3E3bTlQLVB5Y1VSekREaDNHU0FlcGxDcUV5QUhGRmpUX1psZnRUU2ZpU2xtVXkxYTVlS1F1U3I3NGVWT1hNU18zd1FEaFp1bm9KNWlXWFdlMDBfc0t5MHktWTZYaUJiVk1JT3BsYVJOMW1TNDdPRE5ZZGZTUlpZLXBjbVNUd0NFaWxiamRjdWlDOFFZVTdTMG1VUjJa)\n",
       "- Artists highlight threats to livelihoods from unlicensed AI training - [The Washington Post](https://www.washingtonpost.com/business/2024/10/22/generative-ai-abba-radiohead-thom-yorke/762d15c0-90b9-11ef-b5b1-75167840d9f3_story.html)\n",
       "- Thousands sign protest emphasizing need for copyright protections - [The Hill](https://thehill.com/homenews/ap/ap-business/ap-abba-radiohead-and-the-cure-musicians-sign-ai-protest-letter-against-unlicensed-use-of-works-2)\n",
       "- Ariana Grande and co-stars voice concerns over AI-altered fan content - [Google News](https://news.google.com/read/CBMixgFBVV95cUxPODYtSUI2b3FMRzRQNmtWbjhoY19WRWswb3lmVTBFa0QyYXNNVENqeFlWcXh5TjJuaTBuRnBhM2JnMGtoZkFUa2c4RE9GQ3pvdGlzQ3JZb0hrZjIzSzVRMTFjRzd3OFQwNzZaYlA4UGdBU2I1NXVTZDFjUzItTkxOVVVXb04yWk54MTk4NEl0OTVGZS1CcmxOZVNaMGpKNXlhTzVLNENLb3BKU1lDR2pVWFN4ektaUHJIY0F3UWN3b3N3d3RNaFHSAcsBQVVfeXFMTlBJMVJwdENFWDM1UUx0ZUJCdkgxZmZteHZlbERwampRc0Q5X1g4X21LUU1nc1NYbUE4Q2t2alZNLXgzRXo5WDB1QzR1dmpZR18yeWo5U2xickF4TTBsVTlLbklnMExKbjBRdUltWDV2YzQyQ1pVT3ZTeEN1SE1HU2F0aDlDd2U1TzVvOFVrSUVSSjg1UlNUanh6bmtqaEVMdE1pZHc3OUhMR0dRUGdwdUZjTzdSMW50ZDVMZ242Y2JOeTZ2ZVBoNDNZU1k)\n",
       "\n",
       "# Apple's AI Odyssey: Delay Today, Domination Tomorrow?\n",
       "\n",
       "- Leaked report suggests Apple Intelligence trails behind ChatGPT by two years - [Windows Central](https://www.windowscentral.com/software-apps/apple-intelligence-could-already-be-behind-chatgpt)\n",
       "- Apple's Craig Federighi discusses gradual AI development and Siri's future - [The Wall Street Journal](https://www.wsj.com/tech/personal-tech/apple-intelligence-3833c320)\n",
       "- Federighi explains phased release of AI features starting with iOS 18.1 - [MacRumors](https://www.macrumors.com/2024/10/23/craig-federighi-phased-release-apple-intelligence/)\n",
       "- Apple prioritizes photo authenticity over AI fantasy in new editing tools - [The Verge](https://www.theverge.com/2024/10/23/24277489/apple-intelligence-iphone-ai-photo-editing-craig-federighi-interview)\n",
       "- Tim Cook meets Chinese regulators amid delays in AI rollout - [scmp.com](https://scmp.com/news/article/3283475/apples-tim-cook-meets-china-regulator-beijing-no-final-word-apple-intelligence)\n",
       "\n",
       "# Qualcomm Quickens the Pace: Supercharging Tech with AI\n",
       "\n",
       "- Qualcomm's Snapdragon 8 Elite boosts AI in Chinese smartphones - [Google News](https://news.google.com/read/CBMiuwFBVV95cUxQSWcwNEo2b1d4U09zMHF0aGpNemhFYkxsZ0lIaWRJMmpkNElsQUZRTGpSbklpX1d6ZExqaDZkQ2Q5WDFtbnVNRXROTEdzbUplV0p1a3ZRLTk4cDBKa3l4ajU1eG5uR1NIWi1fR2RNTlpYeWNMa3hHRjRidnBOd1BFSl9Bd2g2MFdVTlk4OFRBa3ZfWmNCWGhkRUotdlFoSlNMZmhJZzBoVEYyUEZMak5HZ1M2eWRKV3N0RXZF)\n",
       "- Qualcomm and Google collaborate on AI voice systems for cars - [Google News](https://news.google.com/read/CBMisgFBVV95cUxQNzhjSXltcjBvVE05SF9ac3VPMFhLQzkzY29uZHNUVHVTTHNsdm83dTEwaHBJa0JXb2ppZTZXOGtDV3hPWXRKVWdzRmx5RGVoS2VZc29lZXdqaHpLLXNBOEFUS3VlWkpZa183VlJKdXlxdlpKY0s5NEo4T3BwQ2EtVF92UFJMYVY0UlB3R3FtQTFrODVwTWZVMjc3Z20zVmloZmxKT1dnMXdFOGJCa3l6aC1B)\n",
       "- CEO predicts all smartphones will have AI capabilities within five years - [Google News](https://news.google.com/read/CBMitgFBVV95cUxQbXlDVlNacDZCX0Z0R2RsbHV2QnM1R29qam5hMVpUdk1SMUxSR0pucWc5dnphZm83UUQtNU5reVZJZFNFM21oYXZzbm5ZaXp0cEdOVnZBajI4aDJYYmxuVlJnMnhhVnZwTmEtcXJPUjhDenB4T3lSZ3BXXzBueTZJZFNnTjJSdXRvN200UU1PMmFlaXREOUF6ckw2ZGR4Ykk5cDZBLU1aNG1rMkl6LVdIVXR2VzVyZw)\n",
       "\n",
       "# Lock, Stock, and AI: Smartphones Get Smarter Security\n",
       "\n",
       "- AI update locks phones automatically when snatched to deter thieves - [BBC](https://www.bbc.com/news/articles/c1484r0r3m6o)\n",
       "\n",
       "# AI Everywhere: From Mines to Toilets to Satellites\n",
       "\n",
       "- Minerals Technologies deploys AI to enhance safety and productivity in mining - [Yahoo Finance](https://finance.yahoo.com/news/minerals-technologies-announces-deployment-artificial-210100061.html)\n",
       "- Startup Throne develops AI-powered toilet camera for gut health analysis - [Digital Camera World](https://www.digitalcameraworld.com/news/toilet-camera-uses-ai-to-analyze-pics-of-poop-and-measure-your-gut-health)\n",
       "- Satellite manufacturers cautiously adopt AI for data analysis - [Google News](https://news.google.com/read/CBMibkFVX3lxTE5sSnh5WEhVNVRpX3c1Q3lDdGR4cERsT2ZHOWZUVmlhUmduUm1nRFFadUs2bHpKYVBTbnlseWFsU2JYQXN5ZzdZZThpdXVsVkRKaGFUVlUyOWgtM3FGaW83TWhHR18wS3doMG4zVGRB)\n",
       "\n",
       "# FTC Tackles Fakes: AI-Generated Reviews Get the Boot\n",
       "\n",
       "- New FTC guidelines ban fake AI-generated product reviews - [Futurism](https://futurism.com/the-byte/illegal-fake-reviews-ai)"
      ],
      "text/plain": [
       "<IPython.core.display.Markdown object>"
      ]
     },
     "metadata": {},
     "output_type": "display_data"
    },
    {
     "name": "stderr",
     "output_type": "stream",
     "text": [
      "2024-10-23 07:04:55,095 - AInewsbot - INFO - Rewriting summary using o1-preview\n",
      "2024-10-23 07:05:57,716 - httpx - INFO - HTTP Request: POST https://api.openai.com/v1/chat/completions \"HTTP/1.1 200 OK\"\n"
     ]
    },
    {
     "data": {
      "text/markdown": [
       "# AI's Battle Lines: Artists Protest as Tech Titans Accelerate\n",
       "\n",
       "## Stars vs. Bots: Artists Protest AI Misuse\n",
       "\n",
       "- Musicians from ABBA, Radiohead, and The Cure protest AI's unlicensed use of their work - [Google News](https://news.google.com/read/CBMioAFBVV95cUxOUFVnV3E3bTlQLVB5Y1VSekREaDNHU0FlcGxDcUV5QUhGRmpUX1psZnRUU2ZpU2xtVXkxYTVlS1F1U3I3NGVWT1hNU18zd1FEaFp1bm9KNWlXWFdlMDBfc0t5MHktWTZYaUJiVk1JT3BsYVJOMW1TNDdPRE5ZZGZTUlpZLXBjbVNUd0NFaWxiamRjdWlDOFFZVTdTMG1VUjJa)\n",
       "- Ariana Grande and co-stars voice concerns over AI-altered fan content - [Google News](https://news.google.com/read/CBMixgFBVV95cUxPODYtSUI2b3FMRzRQNmtWbjhoY19WRWswb3lmVTBFa0QyYXNNVENqeFlWcXh5TjJuaTBuRnBhM2JnMGtoZkFUa2c4RE9GQ3pvdGlzQ3JZb0hrZjIzSzVRMTFjRzd3OFQwNzZaYlA4UGdBU2I1NXVTZDFjUzItTkxOVVVXb04yWk54MTk4NEl0OTVGZS1CcmxOZVNaMGpKNXlhTzVLNENLb3BKU1lDR2pVWFN4ektaUHJIY0F3UWN3b3N3d3RNaFHSAcsBQVVfeXFMTlBJMVJwdENFWDM1UUx0ZUJCdkgxZmZteHZlbERwampRc0Q5X1g4X21LUU1nc1NYbUE4Q2t2alZNLXgzRXo5WDB1QzR1dmpZR18yeWo5U2xickF4TTBsVTlLbklnMExKbjBRdUltWDV2YzQyQ1pVT3ZTeEN1SE1HU2F0aDlDd2U1TzVvOFVrSUVSSjg1UlNUanh6bmtqaEVMdE1pZHc3OUhMR0dRUGdwdUZjTzdSMW50ZDVMZ242Y2JOeTZ2ZVBoNDNZU1k)\n",
       "\n",
       "## Apple's AI Gap: Playing Catch-Up\n",
       "\n",
       "- Leaked report suggests Apple Intelligence lags two years behind ChatGPT - [Windows Central](https://www.windowscentral.com/software-apps/apple-intelligence-could-already-be-behind-chatgpt)\n",
       "- Apple's Craig Federighi discusses gradual AI development and Siri's future - [The Wall Street Journal](https://www.wsj.com/tech/personal-tech/apple-intelligence-3833c320)\n",
       "- Federighi explains phased release of AI features starting with iOS 18.1 - [MacRumors](https://www.macrumors.com/2024/10/23/craig-federighi-phased-release-apple-intelligence/)\n",
       "- Apple prioritizes photo authenticity over AI fantasy in new editing tools - [The Verge](https://www.theverge.com/2024/10/23/24277489/apple-intelligence-iphone-ai-photo-editing-craig-federighi-interview)\n",
       "- Tim Cook meets Chinese regulators amid delays in AI rollout - [scmp.com](https://scmp.com/news/article/3283475/apples-tim-cook-meets-china-regulator-beijing-no-final-word-apple-intelligence)\n",
       "\n",
       "## Qualcomm's AI Revolution: Fueling Future Tech\n",
       "\n",
       "- Qualcomm's Snapdragon 8 Elite boosts AI in Chinese smartphones - [Google News](https://news.google.com/read/CBMiuwFBVV95cUxQSWcwNEo2b1d4U09zMHF0aGpNemhFYkxsZ0lIaWRJMmpkNElsQUZRTGpSbklpX1d6ZExqaDZkQ2Q5WDFtbnVNRXROTEdzbUplV0p1a3ZRLTk4cDBKa3l4ajU1eG5uR1NIWi1fR2RNTlpYeWNMa3hHRjRidnBOd1BFSl9Bd2g2MFdVTlk4OFRBa3ZfWmNCWGhkRUotdlFoSlNMZmhJZzBoVEYyUEZMak5HZ1M2eWRKV3N0RXZF)\n",
       "- Qualcomm and Google collaborate on AI voice systems for cars - [Google News](https://news.google.com/read/CBMisgFBVV95cUxQNzhjSXltcjBvVE05SF9ac3VPMFhLQzkzY29uZHNUVHVTTHNsdm83dTEwaHBJa0JXb2ppZTZXOGtDV3hPWXRKVWdzRmx5RGVoS2VZc29lZXdqaHpLLXNBOEFUS3VlWkpZa183VlJKdXlxdlpKY0s5NEo4T3BwQ2EtVF92UFJMYVY0UlB3R3FtQTFrODVwTWZVMjc3Z20zVmloZmxKT1dnMXdFOGJCa3l6aC1B)\n",
       "- CEO predicts all smartphones will have AI capabilities within five years - [Google News](https://news.google.com/read/CBMitgFBVV95cUxQbXlDVlNacDZCX0Z0R2RsbHV2QnM1R29qam5hMVpUdk1SMUxSR0pucWc5dnphZm83UUQtNU5reVZJZFNFM21oYXZzbm5ZaXp0cEdOVnZBajI4aDJYYmxuVlJnMnhhVnZwTmEtcXJPUjhDenB4T3lSZ3BXXzBueTZJZFNnTjJSdXRvN200UU1PMmFlaXREOUF6ckw2ZGR4Ykk5cDZBLU1aNG1rMkl6LVdIVXR2VzVyZw)\n",
       "\n",
       "## Lock, Stock, and AI: Smartphones Get Smarter Security\n",
       "\n",
       "- AI update locks phones automatically when snatched to deter thieves - [BBC](https://www.bbc.com/news/articles/c1484r0r3m6o)\n",
       "\n",
       "## AI Everywhere: From Mines to Toilets to Satellites\n",
       "\n",
       "- Minerals Technologies uses AI to improve safety and productivity in mining - [Yahoo Finance](https://finance.yahoo.com/news/minerals-technologies-announces-deployment-artificial-210100061.html)\n",
       "- Startup Throne develops AI-powered toilet camera for gut health analysis - [Digital Camera World](https://www.digitalcameraworld.com/news/toilet-camera-uses-ai-to-analyze-pics-of-poop-and-measure-your-gut-health)\n",
       "- Satellite manufacturers cautiously adopt AI for data analysis - [Google News](https://news.google.com/read/CBMibkFVX3lxTE5sSnh5WEhVNVRpX3c1Q3lDdGR4cERsT2ZHOWZUVmlhUmduUm1nRFFadUs2bHpKYVBTbnlseWFsU2JYQXN5ZzdZZThpdXVsVkRKaGFUVlUyOWgtM3FGaW83TWhHR18wS3doMG4zVGRB)\n",
       "\n",
       "## FTC Tackles Fakes: AI-Generated Reviews Get the Boot\n",
       "\n",
       "- New FTC guidelines ban fake AI-generated product reviews - [Futurism](https://futurism.com/the-byte/illegal-fake-reviews-ai)"
      ],
      "text/plain": [
       "<IPython.core.display.Markdown object>"
      ]
     },
     "metadata": {},
     "output_type": "display_data"
    },
    {
     "name": "stderr",
     "output_type": "stream",
     "text": [
      "2024-10-23 07:05:57,719 - AInewsbot - INFO - Rewriting summary using o1-preview\n",
      "2024-10-23 07:06:53,230 - httpx - INFO - HTTP Request: POST https://api.openai.com/v1/chat/completions \"HTTP/1.1 200 OK\"\n"
     ]
    },
    {
     "data": {
      "text/markdown": [
       "# AI's Rapid Rise: Artists Protest, Tech Accelerates, Regulators React\n",
       "\n",
       "## Stars vs. Bots: Artists Protest AI Misuse\n",
       "\n",
       "- Musicians including ABBA, Radiohead, The Cure, and Ariana Grande protest AI's unlicensed use and alteration of their work - [Google News](https://news.google.com/read/CBMioAFBVV95cUxOUFVnV3E3bTlQLVB5Y1VSekREaDNHU0FlcGxDcUV5QUhGRmpUX1psZnRUU2ZpU2xtVXkxYTVlS1F1U3I3NGVWT1hNU18zd1FEaFp1bm9KNWlXWFdlMDBfc0t5MHktWTZYaUJiVk1JT3BsYVJOMW1TNDdPRE5ZZGZTUlpZLXBjbVNUd0NFaWxiamRjdWlDOFFZVTdTMG1VUjJa)\n",
       "\n",
       "## Apple's AI Awakening: Catch-Up Game Begins\n",
       "\n",
       "- Leaked report suggests Apple's AI efforts lag two years behind ChatGPT - [Windows Central](https://www.windowscentral.com/software-apps/apple-intelligence-could-already-be-behind-chatgpt)\n",
       "- Craig Federighi details phased AI feature rollout starting with iOS 18.1 and discusses Siri's future - [MacRumors](https://www.macrumors.com/2024/10/23/craig-federighi-phased-release-apple-intelligence/), [The Wall Street Journal](https://www.wsj.com/tech/personal-tech/apple-intelligence-3833c320)\n",
       "- Apple emphasizes photo authenticity over AI enhancements in new editing tools - [The Verge](https://www.theverge.com/2024/10/23/24277489/apple-intelligence-iphone-ai-photo-editing-craig-federighi-interview)\n",
       "- Tim Cook meets Chinese regulators amid AI rollout delays - [scmp.com](https://scmp.com/news/article/3283475/apples-tim-cook-meets-china-regulator-beijing-no-final-word-apple-intelligence)\n",
       "\n",
       "## Qualcomm Powers Ahead: AI in Phones and Cars\n",
       "\n",
       "- Qualcomm unveils Snapdragon 8 Elite, enhancing AI in Chinese smartphones - [Google News](https://news.google.com/read/CBMiuwFBVV95cUxQSWcwNEo2b1d4U09zMHF0aGpNemhFYkxsZ0lIaWRJMmpkNElsQUZRTGpSbklpX1d6ZExqaDZkQ2Q5WDFtbnVNRXROTEdzbUplV0p1a3ZRLTk4cDBKa3l4ajU1eG5uR1NIWi1fR2RNTlpYeWNMa3hHRjRidnBOd1BFSl9Bd2g2MFdVTlk4OFRBa3ZfWmNCWGhkRUotdlFoSlNMZmhJZzBoVEYyUEZMak5HZ1M2eWRKV3N0RXZF)\n",
       "- Qualcomm and Google partner on AI voice systems for cars - [Google News](https://news.google.com/read/CBMisgFBVV95cUxQNzhjSXltcjBvVE05SF9ac3VPMFhLQzkzY29uZHNUVHVTTHNsdm83dTEwaHBJa0JXb2ppZTZXOGtDV3hPWXRKVWdzRmx5RGVoS2VZc29lZXdqaHpLLXNBOEFUS3VlWkpZa183VlJKdXlxdlpKY0s5NEo4T3BwQ2EtVF92UFJMYVY0UlB3R3FtQTFrODVwTWZVMjc3Z20zVmloZmxKT1dnMXdFOGJCa3l6aC1B)\n",
       "- Qualcomm CEO predicts all smartphones will have AI capabilities within five years - [Google News](https://news.google.com/read/CBMitgFBVV95cUxQbXlDVlNacDZCX0Z0R2RsbHV2QnM1R29qam5hMVpUdk1SMUxSR0pucWc5dnphZm83UUQtNU5reVZJZFNFM21oYXZzbm5ZaXp0cEdOVnZBajI4aDJYYmxuVlJnMnhhVnZwTmEtcXJPUjhDenB4T3lSZ3BXXzBueTZJZFNnTjJSdXRvN200UU1PMmFlaXREOUF6ckw2ZGR4Ykk5cDZBLU1aNG1rMkl6LVdIVXR2VzVyZw)\n",
       "\n",
       "## Lock, Stock, and AI: Smartphones Get Smarter Security\n",
       "\n",
       "- AI update locks phones automatically when snatched to deter thieves - [BBC](https://www.bbc.com/news/articles/c1484r0r3m6o)\n",
       "\n",
       "## AI's Reach: From Mines to Toilets to Satellites\n",
       "\n",
       "- Minerals Technologies deploys AI to enhance mining safety and productivity - [Yahoo Finance](https://finance.yahoo.com/news/minerals-technologies-announces-deployment-artificial-210100061.html)\n",
       "- Startup Throne creates AI-powered toilet camera to analyze gut health - [Digital Camera World](https://www.digitalcameraworld.com/news/toilet-camera-uses-ai-to-analyze-pics-of-poop-and-measure-your-gut-health)\n",
       "- Satellite manufacturers cautiously implement AI for data analysis - [Google News](https://news.google.com/read/CBMibkFVX3lxTE5sSnh5WEhVNVRpX3c1Q3lDdGR4cERsT2ZHOWZUVmlhUmduUm1nRFFadUs2bHpKYVBTbnlseWFsU2JYQXN5ZzdZZThpdXVsVkRKaGFUVlUyOWgtM3FGaW83TWhHR18wS3doMG4zVGRB)\n",
       "\n",
       "## FTC Tackles Fakes: AI-Generated Reviews Get the Boot\n",
       "\n",
       "- New FTC guidelines ban fake AI-generated product reviews - [Futurism](https://futurism.com/the-byte/illegal-fake-reviews-ai)"
      ],
      "text/plain": [
       "<IPython.core.display.Markdown object>"
      ]
     },
     "metadata": {},
     "output_type": "display_data"
    },
    {
     "name": "stderr",
     "output_type": "stream",
     "text": [
      "2024-10-23 07:06:53,234 - AInewsbot - INFO - Rewriting summary using o1-preview\n",
      "2024-10-23 07:07:52,721 - httpx - INFO - HTTP Request: POST https://api.openai.com/v1/chat/completions \"HTTP/1.1 200 OK\"\n"
     ]
    },
    {
     "data": {
      "text/markdown": [
       "# AI's Big Week: Artists Object, Apple Accelerates, Qualcomm Innovates\n",
       "\n",
       "## Stars vs. Bots: Artists Protest AI Misuse\n",
       "\n",
       "- ABBA, Radiohead, The Cure, and Ariana Grande protest AI's unlicensed use of their music - [Google News](https://news.google.com/read/CBMioAFBVV95cUxOUFVnV3E3bTlQLVB5Y1VSekREaDNHU0FlcGxDcUV5QUhGRmpUX1psZnRUU2ZpU2xtVXkxYTVlS1F1U3I3NGVWT1hNU18zd1FEaFp1bm9KNWlXWFdlMDBfc0t5MHktWTZYaUJiVk1JT3BsYVJOMW1TNDdPRE5ZZGZTUlpZLXBjbVNUd0NFaWxiamRjdWlDOFFZVTdTMG1VUjJa)\n",
       "\n",
       "## Apple's AI Ambitions: Leaks, Rollouts, and Priorities\n",
       "\n",
       "- Leak: Apple's AI is two years behind ChatGPT - [Windows Central](https://www.windowscentral.com/software-apps/apple-intelligence-could-already-be-behind-chatgpt)\n",
       "- Craig Federighi announces phased AI features starting with iOS 18.1, discusses Siri's future - [MacRumors](https://www.macrumors.com/2024/10/23/craig-federighi-phased-release-apple-intelligence/), [The Wall Street Journal](https://www.wsj.com/tech/personal-tech/apple-intelligence-3833c320)\n",
       "- Apple prioritizes photo authenticity over AI enhancements in new editing tools - [The Verge](https://www.theverge.com/2024/10/23/24277489/apple-intelligence-iphone-ai-photo-editing-craig-federighi-interview)\n",
       "- Tim Cook meets Chinese regulators amid AI rollout delays - [scmp.com](https://scmp.com/news/article/3283475/apples-tim-cook-meets-china-regulator-beijing-no-final-word-apple-intelligence)\n",
       "\n",
       "## Qualcomm's AI Drive: Chips, Cars, and the Future\n",
       "\n",
       "- Qualcomm launches Snapdragon 8 Elite, boosting AI in Chinese smartphones - [Google News](https://news.google.com/read/CBMiuwFBVV95cUxQSWcwNEo2b1d4U09zMHF0aGpNemhFYkxsZ0lIaWRJMmpkNElsQUZRTGpSbklpX1d6ZExqaDZkQ2Q5WDFtbnVNRXROTEdzbUplV0p1a3ZRLTk4cDBKa3l4ajU1eG5uR1NIWi1fR2RNTlpYeWNMa3hHRjRidnBOd1BFSl9Bd2g2MFdVTlk4OFRBa3ZfWmNCWGhkRUotdlFoSlNMZmhJZzBoVEYyUEZMak5HZ1M2eWRKV3N0RXZF)\n",
       "- Qualcomm and Google collaborate on AI voice systems for cars - [Google News](https://news.google.com/read/CBMisgFBVV95cUxQNzhjSXltcjBvVE05SF9ac3VPMFhLQzkzY29uZHNUVHVTTHNsdm83dTEwaHBJa0JXb2ppZTZXOGtDV3hPWXRKVWdzRmx5RGVoS2VZc29lZXdqaHpLLXNBOEFUS3VlWkpZa183VlJKdXlxdlpKY0s5NEo4T3BwQ2EtVF92UFJMYVY0UlB3R3FtQTFrODVwTWZVMjc3Z20zVmloZmxKT1dnMXdFOGJCa3l6aC1B)\n",
       "- Qualcomm CEO predicts AI in all smartphones within five years - [Google News](https://news.google.com/read/CBMitgFBVV95cUxQbXlDVlNacDZCX0Z0R2RsbHV2QnM1R29qam5hMVpUdk1SMUxSR0pucWc5dnphZm83UUQtNU5reVZJZFNFM21oYXZzbm5ZaXp0cEdOVnZBajI4aDJYYmxuVlJnMnhhVnZwTmEtcXJPUjhDenB4T3lSZ3BXXzBueTZJZFNnTjJSdXRvN200UU1PMmFlaXREOUF6ckw2ZGR4Ykk5cDZBLU1aNG1rMkl6LVdIVXR2VzVyZw)\n",
       "\n",
       "## Lock, Stock, and AI: Smarter Smartphone Security\n",
       "\n",
       "- AI update locks phones automatically when snatched to deter thieves - [BBC](https://www.bbc.com/news/articles/c1484r0r3m6o)\n",
       "\n",
       "## AI Everywhere: From Mines to Toilets to Satellites\n",
       "\n",
       "- Minerals Technologies uses AI to improve mining safety and productivity - [Yahoo Finance](https://finance.yahoo.com/news/minerals-technologies-announces-deployment-artificial-210100061.html)\n",
       "- Startup Throne develops AI-powered toilet camera for gut health analysis - [Digital Camera World](https://www.digitalcameraworld.com/news/toilet-camera-uses-ai-to-analyze-pics-of-poop-and-measure-your-gut-health)\n",
       "- Satellite makers cautiously adopt AI for data analysis - [Google News](https://news.google.com/read/CBMibkFVX3lxTE5sSnh5WEhVNVRpX3c1Q3lDdGR4cERsT2ZHOWZUVmlhUmduUm1nRFFadUs2bHpKYVBTbnlseWFsU2JYQXN5ZzdZZThpdXVsVkRKaGFUVlUyOWgtM3FGaW83TWhHR18wS3doMG4zVGRB)\n",
       "\n",
       "## FTC Targets Fakes: Ban on AI-Generated Reviews\n",
       "\n",
       "- New FTC guidelines ban fake AI-generated product reviews - [Futurism](https://futurism.com/the-byte/illegal-fake-reviews-ai)"
      ],
      "text/plain": [
       "<IPython.core.display.Markdown object>"
      ]
     },
     "metadata": {},
     "output_type": "display_data"
    },
    {
     "name": "stderr",
     "output_type": "stream",
     "text": [
      "2024-10-23 07:07:52,725 - AInewsbot - INFO - Sending summary email\n",
      "2024-10-23 07:07:52,732 - AInewsbot - INFO - Email subject AI's Big Week: Artists Object, Apple Accelerates, Qualcomm Innovates\n",
      "2024-10-23 07:07:52,732 - AInewsbot - INFO - Email length 3958\n"
     ]
    }
   ],
   "source": [
    "# compose and rewrite summay\n",
    "state = lg_agent.compose_summary(state)\n",
    "display(Markdown(state[\"summary\"].replace(\"$\",\"\\\\\\\\$\")))\n",
    "for _ in range(MAX_EDITS):\n",
    "    if lg_agent.is_revision_complete(state)=='complete':\n",
    "        break\n",
    "    state = lg_agent.rewrite_summary(state)\n",
    "    display(Markdown(state[\"summary\"].replace(\"$\",\"\\\\\\\\$\")))\n",
    "state = lg_agent.send_mail(state)\n"
   ]
  },
  {
   "cell_type": "markdown",
   "id": "4b0dcbc7",
   "metadata": {},
   "source": [
    "# Instantiate agent and run workflow graph end to end"
   ]
  },
  {
   "cell_type": "code",
   "execution_count": null,
   "id": "ed071173",
   "metadata": {},
   "outputs": [],
   "source": [
    "do_download = False\n",
    "# before_date = None\n",
    "before_date=\"2024-10-21 11:00:00\"\n",
    "\n",
    "# initial state# initial state\n",
    "state = AgentState(\n",
    "    {'AIdf': None,\n",
    "    'before_date': before_date,\n",
    "    'do_download': do_download,\n",
    "    'sources': None,\n",
    "    'sources_reverse': None,\n",
    "    'bullets': '',\n",
    "    'summary': '',\n",
    "    'n_edits': 0,\n",
    "    'edit_complete': False,\n",
    "    }\n",
    ")\n",
    "\n",
    "# Configuration with thread ID for checkpointing\n",
    "# Generate a random UUID\n",
    "thread_id = uuid.uuid4().hex\n",
    "config = {\"configurable\": {\"thread_id\": thread_id}}\n",
    "\n",
    "log(f\"Initializing with before_date={state.get('before_date')}, do_download={do_download}, thread_id={thread_id}\")\n",
    "lg_agent = Agent(state)\n",
    "display(Image(lg_agent.graph.get_graph().draw_mermaid_png()))\n"
   ]
  },
  {
   "cell_type": "code",
   "execution_count": null,
   "id": "02cf6214",
   "metadata": {},
   "outputs": [],
   "source": [
    "config\n"
   ]
  },
  {
   "cell_type": "code",
   "execution_count": null,
   "id": "ecb89028",
   "metadata": {},
   "outputs": [],
   "source": [
    "state\n"
   ]
  },
  {
   "cell_type": "code",
   "execution_count": null,
   "id": "931f3b91",
   "metadata": {},
   "outputs": [],
   "source": [
    "state = lg_agent.run(state, config)\n"
   ]
  },
  {
   "cell_type": "code",
   "execution_count": null,
   "id": "510c8c8e",
   "metadata": {
    "scrolled": true
   },
   "outputs": [],
   "source": [
    "# it stopped here because we compiled with interrupt_before=[\"filter_urls\", \"compose_summary\",]\n",
    "last_state = lg_agent.graph.get_state(config)\n",
    "len(last_state.values[\"AIdf\"])\n"
   ]
  },
  {
   "cell_type": "code",
   "execution_count": null,
   "id": "5bd2b3b7",
   "metadata": {},
   "outputs": [],
   "source": [
    "pd.DataFrame(last_state.values['AIdf']).groupby('src').count()"
   ]
  },
  {
   "cell_type": "code",
   "execution_count": null,
   "id": "e18d7848",
   "metadata": {},
   "outputs": [],
   "source": [
    "# if something got a robot block, download manually and rerun from beginning\n",
    "# if all OK, then proceed\n",
    "# state=None proceeds from last state\n",
    "last_state = lg_agent.graph.get_state(config)\n",
    "last_state.values[\"before_date\"]\n",
    "\n",
    "state = lg_agent.run(None, config)\n"
   ]
  },
  {
   "cell_type": "code",
   "execution_count": null,
   "id": "ae74ddde",
   "metadata": {},
   "outputs": [],
   "source": [
    "lg_agent.graph.get_state(config).values.keys()"
   ]
  },
  {
   "cell_type": "code",
   "execution_count": null,
   "id": "5edaf0d4",
   "metadata": {},
   "outputs": [],
   "source": [
    "# it stopped here because we compiled with interrupt_before=[\"filter_urls\", \"compose_summary\",]\n",
    "last_state = lg_agent.graph.get_state(config)\n",
    "print('next', last_state.next)\n",
    "print('config', last_state.config)\n",
    "last_state.values[\"cluster_topics\"]\n"
   ]
  },
  {
   "cell_type": "code",
   "execution_count": null,
   "id": "f18fc0b4",
   "metadata": {},
   "outputs": [],
   "source": [
    "# update cluster_topics\n",
    "lg_agent.graph.update_state(\n",
    "    last_state.config, {\n",
    "        \"cluster_topics\": [\n",
    "            'AI Hardware and Robotics Funding',\n",
    " 'AI agents in insurance',\n",
    " 'AI cybersecurity threats',\n",
    " 'AI in healthcare ethics',\n",
    " 'AI in workplace productivity',\n",
    " 'AI-driven drug discovery',\n",
    " 'AI-driven supply chain transformation',\n",
    " 'AI-powered messaging app Daze',\n",
    " 'Apple Intelligence',\n",
    " 'Blade Runner 2049 lawsuit against Tesla',\n",
    " 'ByteDance intern AI sabotage',\n",
    " 'Carbon Robotics AI deweeding robot',\n",
    " 'ChatGPT and Personalization',\n",
    " 'Gary Marcus AI boycott proposal',\n",
    " 'Lawsuits Against AI for Copyright Infringement',\n",
    " 'Microsoft Copilot and AI Automation',\n",
    " 'Nvidia AI chip leadership',\n",
    " 'Perplexity AI copyright lawsuit',\n",
    " 'Qualcomm AI smartphone chip',\n",
    " 'Rabbit AI hardware funding',\n",
    " 'Zip AI funding round']\n",
    "\n",
    "    },\n",
    "    as_node='propose_topics')\n"
   ]
  },
  {
   "cell_type": "code",
   "execution_count": null,
   "id": "0246532d",
   "metadata": {},
   "outputs": [],
   "source": [
    "last_state = lg_agent.graph.get_state(config)\n",
    "print('next', last_state.next)\n",
    "print('config', last_state.config)\n",
    "last_state.values[\"cluster_topics\"]\n"
   ]
  },
  {
   "cell_type": "code",
   "execution_count": null,
   "id": "83d28255",
   "metadata": {},
   "outputs": [],
   "source": [
    "# resume running the graph\n",
    "state = lg_agent.run(None, config)\n"
   ]
  },
  {
   "cell_type": "code",
   "execution_count": null,
   "id": "7d7c80fe",
   "metadata": {},
   "outputs": [],
   "source": [
    "last_state = lg_agent.graph.get_state(config)\n",
    "display(Markdown(last_state.values[\"summary\"].replace(\"$\",\"\\\\\\\\$\")))"
   ]
  },
  {
   "cell_type": "markdown",
   "id": "8f8fdec2",
   "metadata": {},
   "source": [
    "# Create AI-generated podcast from the summary"
   ]
  },
  {
   "cell_type": "code",
   "execution_count": null,
   "id": "d1cf3500",
   "metadata": {},
   "outputs": [],
   "source": [
    "from podcastfy.client import generate_podcast\n",
    "from IPython.display import Audio, display\n"
   ]
  },
  {
   "cell_type": "code",
   "execution_count": null,
   "id": "4080057f",
   "metadata": {},
   "outputs": [],
   "source": [
    "def embed_audio(audio_file):\n",
    "    \"\"\"\n",
    "    Embeds an audio file in the notebook, making it playable.\n",
    "\n",
    "    Args:\n",
    "        audio_file (str): Path to the audio file.\n",
    "    \"\"\"\n",
    "    try:\n",
    "        display(Audio(audio_file))\n",
    "        print(f\"Audio player embedded for: {audio_file}\")\n",
    "    except Exception as e:\n",
    "        print(f\"Error embedding audio: {str(e)}\")"
   ]
  },
  {
   "cell_type": "code",
   "execution_count": null,
   "id": "40c85e96",
   "metadata": {},
   "outputs": [],
   "source": [
    "# save summary to local file\n",
    "filename = 'summary.md'\n",
    "\n",
    "try:\n",
    "    with open(filename, 'w') as file:\n",
    "        file.write(state[\"summary\"])\n",
    "        print(f\"Markdown content successfully saved to {filename}.\")\n",
    "except Exception as e:\n",
    "    print(f\"An error occurred: {e}\")\n",
    "    "
   ]
  },
  {
   "cell_type": "code",
   "execution_count": null,
   "id": "ff3f8353",
   "metadata": {},
   "outputs": [],
   "source": [
    "# git push it because we want to download from a URL\n",
    "debate_config = {\n",
    "    \"word_count\": 3000,  # Longer content for in-depth discussions\n",
    "    \"conversation_style\": [\"conversational\", \"fast-paced\", \"informal\", \"engaging\", \"thoughtful\", \"analytical\", \"balanced\"],\n",
    "    \"roles_person1\": \"main summarizer\",\n",
    "    \"roles_person2\": \"questioner/clarifier\",\n",
    "    \"dialogue_structure\": [\"Introduction\", \"Discuss News of the day\", \"Conclusion\"],\n",
    "    \"podcast_name\": \"Skynet and Chill\",\n",
    "    \"podcast_tagline\": \"Today's AI news, lovingly curated by man and machine\",\n",
    "    \"output_language\": \"English\",\n",
    "    \"engagement_techniques\": [\"questions\", \"analogies\", \"humor\"],\n",
    "    \"creativity\": 0.5  # Lower creativity for more factual content\n",
    "}\n"
   ]
  },
  {
   "cell_type": "code",
   "execution_count": null,
   "id": "aa589c0f",
   "metadata": {},
   "outputs": [],
   "source": [
    "audio_file = generate_podcast(urls=[\"https://github.com/druce/AInewsbot/blob/main/summary.md\"],\n",
    "                              conversation_config=debate_config,\n",
    "                              tts_model='elevenlabs'\n",
    "                            \n",
    "                             )\n"
   ]
  },
  {
   "cell_type": "code",
   "execution_count": null,
   "id": "bf6db5ac",
   "metadata": {},
   "outputs": [],
   "source": [
    "embed_audio(audio_file)\n"
   ]
  },
  {
   "cell_type": "code",
   "execution_count": null,
   "id": "a3c7add7",
   "metadata": {},
   "outputs": [],
   "source": [
    "# move the file into ./podcast.mp3\n",
    "\n",
    "import os\n",
    "import shutil\n",
    "\n",
    "try:\n",
    "    # Extract the filename from the given path\n",
    "    filename = os.path.basename(audio_file)\n",
    "\n",
    "    # Define the destination path (current directory)\n",
    "    destination = os.path.join(os.getcwd(), 'podcast.mp3')\n",
    "\n",
    "    # Move the file to the current directory\n",
    "    shutil.move(audio_file, destination)\n",
    "    print(f\"File '{filename}' successfully moved to the current directory.\")\n",
    "except FileNotFoundError:\n",
    "    print(f\"The file '{pathname}' does not exist.\")\n",
    "except Exception as e:\n",
    "    print(f\"An error occurred: {e}\")\n"
   ]
  },
  {
   "cell_type": "code",
   "execution_count": null,
   "id": "6d77eb4a",
   "metadata": {},
   "outputs": [],
   "source": [
    "# make a video with ffmpeg and a static image\n",
    "\n",
    "!ffmpeg -y -loop 1 -i test.jpg -i podcast.mp3 -c:v mpeg4 -c:a aac -b:a 192k -shortest -pix_fmt yuv420p podcast.mp4\n"
   ]
  },
  {
   "cell_type": "code",
   "execution_count": null,
   "id": "bcc6d50e",
   "metadata": {},
   "outputs": [],
   "source": [
    "# # debug some datatypes that don't checkpoint properly, like hash with int keys (!)\n",
    "# import string\n",
    "# import random\n",
    "\n",
    "# def random_string(length=20):\n",
    "#     letters = string.ascii_letters  # Contains 'abcdefghijklmnopqrstuvwxyzABCDEFGHIJKLMNOPQRSTUVWXYZ'\n",
    "#     return ''.join(random.choice(letters) for _ in range(length))\n",
    "\n",
    "# def random_strings(string_length=20, array_length=100):\n",
    "#     return [random_string(string_length) for _ in range(array_length)]\n",
    "\n",
    "# def random_int(maxint=10000):\n",
    "#     return random.randint(0, maxint) \n",
    "\n",
    "# def random_ints(maxint=10000, array_length=100):\n",
    "#     return [random_int() for _ in range(array_length)]\n",
    "\n",
    "# def random_floats(minfloat=0.0, maxfloat=1.0, array_length=100):\n",
    "#     return [random.uniform(minfloat, maxfloat) for _ in range(array_length)]\n",
    "\n",
    "# def random_bool():\n",
    "#     return bool(random.randint(0, 1))\n",
    "\n",
    "# def random_bools(array_length=100):\n",
    "#     return [random_bool() for _ in range(array_length)]\n",
    "\n",
    "# def random_dataframe():\n",
    "#     return pd.DataFrame({\n",
    "#         'id': random_ints(),\n",
    "#         'src': random_strings(),\n",
    "#         'title': random_strings(),\n",
    "#         'url': random_strings(),\n",
    "#         'isAI': random_bools(),\n",
    "#         'actual_url': random_strings(),\n",
    "#         'hostname': random_strings(),\n",
    "#         'site_name': random_strings(),\n",
    "#         'topic_str': random_strings(),\n",
    "#         'title_topic_str': random_strings(),\n",
    "#         'sort_order': random_ints(),\n",
    "#         'cluster': random_ints(),\n",
    "#         'cluster_name': random_strings(),\n",
    "#         'path': random_strings()\n",
    "#     })\n",
    "\n",
    "\n",
    "# def random_state():\n",
    "#     return AgentState({\n",
    "#         'AIdf': random_dataframe().to_dict(orient='records'),\n",
    "#         'before_date': random_string(),\n",
    "#         'do_download': random_bool(),\n",
    "# #         'sources': dict(zip(random_ints(), random_strings())),\n",
    "#         'sources_reverse': dict(zip(random_strings(), random_ints())),\n",
    "#         'bullets': list(random_strings()),\n",
    "#         'summary': '\\n\\n'.join(random_strings()),\n",
    "#         'n_edits': random_int(),\n",
    "#         'edit_complete': random_bool(),\n",
    "#     })"
   ]
  },
  {
   "cell_type": "code",
   "execution_count": null,
   "id": "fa55ca14",
   "metadata": {},
   "outputs": [],
   "source": [
    "# class Test:\n",
    "\n",
    "#     def __init__(self, state):\n",
    "        \n",
    "#         self.state = state\n",
    "        \n",
    "#         graph_builder = StateGraph(AgentState)\n",
    "#         graph_builder.add_node(\"initialize\", self.initialize)\n",
    "#         graph_builder.add_node(\"download_sources\", self.download_sources)\n",
    "#         graph_builder.add_node(\"extract_web_urls\", self.extract_web_urls)\n",
    "#         graph_builder.add_node(\"extract_newscatcher_urls\", self.extract_newscatcher_urls)\n",
    "#         graph_builder.add_node(\"filter_urls\", self.filter_urls)\n",
    "#         graph_builder.add_node(\"topic_analysis\", self.topic_analysis)\n",
    "#         graph_builder.add_node(\"topic_clusters\", self.topic_clusters)\n",
    "#         graph_builder.add_node(\"download_pages\", self.download_pages)\n",
    "#         graph_builder.add_node(\"summarize_pages\", self.summarize_pages)\n",
    "#         graph_builder.add_node(\"propose_topics\", self.propose_topics)\n",
    "#         graph_builder.add_node(\"compose_summary\", self.compose_summary)\n",
    "#         graph_builder.add_node(\"rewrite_summary\", self.rewrite_summary)\n",
    "#         graph_builder.add_node(\"send_mail\", self.send_mail)\n",
    "\n",
    "#         graph_builder.add_edge(START, \"initialize\")\n",
    "#         graph_builder.add_edge(\"initialize\", \"download_sources\")\n",
    "#         graph_builder.add_edge(\"download_sources\", \"extract_web_urls\")\n",
    "#         graph_builder.add_edge(\"extract_web_urls\", \"extract_newscatcher_urls\")\n",
    "#         graph_builder.add_edge(\"extract_newscatcher_urls\", \"filter_urls\")\n",
    "#         graph_builder.add_edge(\"filter_urls\", \"topic_analysis\")\n",
    "#         graph_builder.add_edge(\"topic_analysis\", \"topic_clusters\")\n",
    "#         graph_builder.add_edge(\"topic_clusters\", \"download_pages\")\n",
    "#         graph_builder.add_edge(\"download_pages\", \"summarize_pages\")\n",
    "#         graph_builder.add_edge(\"summarize_pages\", \"propose_topics\")\n",
    "#         graph_builder.add_edge(\"propose_topics\", \"compose_summary\")\n",
    "#         graph_builder.add_edge(\"compose_summary\", \"rewrite_summary\")\n",
    "#         graph_builder.add_conditional_edges(\"rewrite_summary\",\n",
    "#                                             self.is_revision_complete,\n",
    "#                                             {\"incomplete\": \"rewrite_summary\",\n",
    "#                                              \"complete\": \"send_mail\",\n",
    "#                                             })\n",
    "#         graph_builder.add_edge(\"send_mail\", END)\n",
    "\n",
    "#         # human in the loop should check web pages downloaded ok, and edit proposed categories \n",
    "# #         self.conn = sqlite3.connect('lg_checkpointer.db')\n",
    "# #         self.checkpointer = SqliteSaver(conn=self.conn)\n",
    "#         self.checkpointer = MemorySaver()\n",
    "#         graph = graph_builder.compile(checkpointer=self.checkpointer,\n",
    "#                                       interrupt_before=[\"filter_urls\", \"compose_summary\",])\n",
    "#         self.graph = graph\n",
    "\n",
    "\n",
    "#     def initialize(self, state: AgentState) -> AgentState:\n",
    "#         self.state = random_state()\n",
    "#         return self.state\n",
    "\n",
    "#     def download_sources(self, state: AgentState) -> AgentState:\n",
    "#         self.state = random_state()\n",
    "#         return self.state\n",
    "\n",
    "#     def extract_web_urls(self, state: AgentState) -> AgentState:\n",
    "#         self.state = random_state()\n",
    "#         return self.state\n",
    "\n",
    "#     def extract_newscatcher_urls(self, state: AgentState) -> AgentState:\n",
    "#         self.state = random_state()\n",
    "#         return self.state\n",
    "\n",
    "#     def filter_urls(self, state: AgentState) -> AgentState:\n",
    "#         self.state = random_state()\n",
    "#         return self.state\n",
    "\n",
    "#     def topic_analysis(self, state: AgentState) -> AgentState:\n",
    "#         self.state = random_state()\n",
    "#         return self.state\n",
    "\n",
    "#     def topic_clusters(self, state: AgentState) -> AgentState:\n",
    "#         self.state = random_state()\n",
    "#         return self.state\n",
    "\n",
    "#     def download_pages(self, state: AgentState) -> AgentState:\n",
    "#         self.state = random_state()\n",
    "#         return self.state\n",
    "\n",
    "#     def summarize_pages(self, state: AgentState) -> AgentState:\n",
    "#         self.state = random_state()\n",
    "#         return self.state\n",
    "\n",
    "#     def propose_topics(self, state: AgentState) -> AgentState:\n",
    "#         self.state = random_state()\n",
    "#         return self.state\n",
    "\n",
    "#     def compose_summary(self, state: AgentState) -> AgentState:\n",
    "#         self.state = random_state()\n",
    "#         return self.state\n",
    "\n",
    "#     def rewrite_summary(self, state: AgentState) -> AgentState:\n",
    "#         self.state = random_state()\n",
    "#         return self.state\n",
    "\n",
    "#     def is_revision_complete(self, state: AgentState) -> str:\n",
    "#         return random_bool()\n",
    "\n",
    "#     def send_mail(self, state: AgentState) -> AgentState:\n",
    "#         self.state = random_state()\n",
    "#         return self.state\n",
    "    \n",
    "#     def run(self, state, config):\n",
    "#         # The config is the **second positional argument** to stream() or invoke()!\n",
    "#         events = self.graph.stream(state, config, stream_mode=\"values\"\n",
    "#         )\n",
    "        \n",
    "#         for event in events:\n",
    "#             try:\n",
    "#                 print(event)\n",
    "#             except Exception as exc: \n",
    "#                 print(exc)\n",
    "                \n",
    "#         return self.state\n",
    "\n",
    " "
   ]
  },
  {
   "cell_type": "code",
   "execution_count": null,
   "id": "ece9f3f1",
   "metadata": {},
   "outputs": [],
   "source": [
    "# thread_id = uuid.uuid4().hex\n",
    "# test_config = {\"configurable\": {\"thread_id\": thread_id}}\n",
    "\n",
    "# start_state = random_state()\n",
    "# test_agent = Test(start_state)\n",
    "# log(f\"Initializing with before_date={start_state.get('before_date')}, do_download={do_download}, thread_id={thread_id}\")\n",
    "\n",
    "# display(Image(test_agent.graph.get_graph().draw_mermaid_png()))\n",
    "\n"
   ]
  },
  {
   "cell_type": "code",
   "execution_count": null,
   "id": "9d4783f1",
   "metadata": {},
   "outputs": [],
   "source": [
    "# test_agent.run(start_state, test_config)\n"
   ]
  },
  {
   "cell_type": "code",
   "execution_count": null,
   "id": "4258206f",
   "metadata": {},
   "outputs": [],
   "source": [
    "# last_state = test_agent.graph.get_state(test_config)\n"
   ]
  },
  {
   "cell_type": "code",
   "execution_count": null,
   "id": "ca079f2b",
   "metadata": {},
   "outputs": [],
   "source": []
  }
 ],
 "metadata": {
  "kernelspec": {
   "display_name": "ainewsbot",
   "language": "python",
   "name": "ainewsbot"
  },
  "language_info": {
   "codemirror_mode": {
    "name": "ipython",
    "version": 3
   },
   "file_extension": ".py",
   "mimetype": "text/x-python",
   "name": "python",
   "nbconvert_exporter": "python",
   "pygments_lexer": "ipython3",
   "version": "3.11.10"
  }
 },
 "nbformat": 4,
 "nbformat_minor": 5
}
