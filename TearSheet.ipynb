{
 "cells": [
  {
   "cell_type": "markdown",
   "id": "5dafe599",
   "metadata": {},
   "source": [
    "# TearSheet.ipynb\n",
    "\n",
    "- doesn't actually generate a tearsheet like a classic print [S&P or Value Line tearsheet](https://financetrain.com/what-is-a-tear-sheet) on a company\n",
    "- asks Perplexity a few basic questions about the company\n",
    "- gets info from AlphaVantage\n",
    "- opens a bunch of browser tabs from major services about the company\n",
    "- could potentially save those and scrape them to make a tearsheet.\n"
   ]
  },
  {
   "cell_type": "code",
   "execution_count": 63,
   "id": "d71cafca",
   "metadata": {},
   "outputs": [],
   "source": [
    "import dotenv\n",
    "import sys\n",
    "import os\n",
    "import re\n",
    "from datetime import datetime, timedelta\n",
    "import time\n",
    "\n",
    "import pandas as pd\n",
    "\n",
    "import requests\n",
    "import json\n",
    "\n",
    "import openai\n",
    "from openai import OpenAI\n",
    "\n",
    "import IPython\n",
    "from IPython.display import HTML, Image, Markdown, display\n",
    "\n",
    "from selenium import webdriver\n",
    "from selenium.webdriver.common.by import By\n",
    "# use firefox because it updates less often, can disable updates\n",
    "# recommend importing profile from Chrome for cookies, passwords\n",
    "# looks less like a bot with more user cruft in the profile\n",
    "from selenium.webdriver.firefox.options import Options\n",
    "from selenium.webdriver.firefox.service import Service\n"
   ]
  },
  {
   "cell_type": "code",
   "execution_count": 54,
   "id": "9f59bf5d",
   "metadata": {},
   "outputs": [],
   "source": [
    "company = \"Tesla\"\n",
    "symbol = \"TSLA\"\n"
   ]
  },
  {
   "cell_type": "code",
   "execution_count": 55,
   "id": "174dc59a",
   "metadata": {},
   "outputs": [
    {
     "data": {
      "text/plain": [
       "True"
      ]
     },
     "execution_count": 55,
     "metadata": {},
     "output_type": "execute_result"
    }
   ],
   "source": [
    "dotenv.load_dotenv()\n",
    "\n"
   ]
  },
  {
   "cell_type": "code",
   "execution_count": 3,
   "id": "71d8d3c6",
   "metadata": {},
   "outputs": [],
   "source": [
    "system_prompt = \"\"\"\n",
    "You will act as a securities analyst and investment advisor with deep knowledge of financial markets, \n",
    "securities analysis, portfolio management. You will maintain a professional yet engaging tone, \n",
    "in the style of a senior investment bank research analyst.\"\n",
    "\"\"\"\n",
    "\n",
    "user_prompt = f\"\"\"You will focus on {company} ({symbol}), and provide a comprehensive analysis covering the following aspects:\n",
    "\n",
    "Company Profile: An overview of {company}, including its lines of business, history, and recent key developments.\n",
    "\n",
    "Major News: Significant events related to {company} or its industry impacting its stock.\n",
    "\n",
    "Financial Performance: Recent earnings reports and stock performance compared to expectations, changes in dividends or stock buybacks.\n",
    "\n",
    "Analyst Coverage: summarize recent changes to analysts' ratings noting which analyst and firms made upgrades or downgrades; summarize any recent short seller reports noting the firm and analyst.\n",
    "\n",
    "Product Announcements: Launch of new products, strategic initiatives, or restructurings.\n",
    "\n",
    "Strategic Moves: Information on deals, partnerships, mergers, acquisitions, divestitures, joint ventures, and major new business and revenue.\n",
    "\n",
    "Securities Offerings: Announcements related to stock or bond issuances, buybacks, special dividends, or stock splits.\n",
    "\n",
    "Management Changes: Significant personnel changes within {company}.\n",
    "\n",
    "Stock Price Movements: Notable stock price changes and their reasons.\n",
    "\n",
    "Timeline and Future Outlook: A timeline of these events \"\"\"\n"
   ]
  },
  {
   "cell_type": "code",
   "execution_count": 4,
   "id": "8360a1c0",
   "metadata": {},
   "outputs": [
    {
     "data": {
      "text/markdown": [
       "**Company Profile**\n",
       "\n",
       "Tesla, Inc. is an American electric vehicle manufacturer and clean energy company headquartered in Austin, Texas. It was founded in 2003 by Elon Musk and Martin Eberhard. Tesla designs, develops, manufactures, leases, and sells electric vehicles, and energy generation and storage systems worldwide. The company operates through two segments: Automotive and Energy Generation and Storage. Its products include electric vehicles such as sedans, sports utility vehicles, and semi-trucks, as well as solar energy products, battery energy storage from home to grid scale, and other related products and services.\n",
       "\n",
       "**Recent Key Developments**\n",
       "\n",
       "Tesla recently announced that it plans to raise prices for its Model Y vehicles due to increased costs associated with raw materials and logistics. Despite this, competitors like BYD, Li Auto, Nio, and Xpeng Motors continue to challenge Tesla in terms of value.\n",
       "\n",
       "**Financial Performance**\n",
       "\n",
       "In 2023, Tesla's revenue was \\\\$96.77 billion, representing an increase of 18.80% compared to the previous year's \\\\$81.46 billion. Earnings reached \\\\$15.00 billion, marking a rise of 19.44%. However, Tesla's stock price has faced challenges, with the stock dropping 29.25% in the first quarter, making it the worst performer on the S&P 500. Shares are now 57.5% below their late 2021 all-time high.\n",
       "\n",
       "**Analyst Coverage**\n",
       "\n",
       "As of the most recent data available, 35 analysts cover Tesla stock, with an average rating of \"Hold\". The 12-month stock price forecast is \\\\$205.07, representing an increase of 23.57% from the current price.\n",
       "\n",
       "**Product Announcements**\n",
       "\n",
       "Tesla has introduced new models and product offerings, such as the Cybertruck, which is expected to contribute significantly to the company's performance this year.\n",
       "\n",
       "**Strategic Moves**\n",
       "\n",
       "There have been no significant strategic moves or announcements from Tesla recently.\n",
       "\n",
       "**Securities Offerings**\n",
       "\n",
       "No notable securities offerings, buybacks, or dividends have been announced by Tesla.\n",
       "\n",
       "**Management Changes**\n",
       "\n",
       "There have been no significant management changes within Tesla.\n",
       "\n",
       "**Stock Price Movements**\n",
       "\n",
       "The stock price of Tesla has experienced volatility, with shares trading lower after the company missed analyst expectations for first-quarter deliveries.\n",
       "\n",
       "**Future Outlook**\n",
       "\n",
       "Looking ahead, Tesla faces challenges from both established automakers and emerging competitors in the electric vehicle space. The company must navigate these competitive pressures while continuing to innovate and grow its operations. Upcoming earnings reports will provide insights into Tesla's performance and future prospects."
      ],
      "text/plain": [
       "<IPython.core.display.Markdown object>"
      ]
     },
     "metadata": {},
     "output_type": "display_data"
    }
   ],
   "source": [
    "perplexity_url = \"https://api.perplexity.ai/chat/completions\"\n",
    "\n",
    "payload = {\n",
    "    \"model\": \"pplx-7b-online\",\n",
    "    \"messages\": [\n",
    "        {\n",
    "            \"role\": \"system\",\n",
    "            \"content\": system_prompt,\n",
    "        },\n",
    "        {\n",
    "            \"role\": \"user\",\n",
    "            \"content\": user_prompt,\n",
    "        }\n",
    "    ]\n",
    "}\n",
    "\n",
    "perplexity_headers = {\n",
    "    \"Authorization\": f\"Bearer {os.getenv('PERPLEXITY_API_KEY')}\",\n",
    "    \"accept\": \"application/json\",\n",
    "    \"content-type\": \"application/json\"\n",
    "}\n",
    "\n",
    "response = requests.post(perplexity_url, json=payload, headers=perplexity_headers)\n",
    "response_str = response.json()['choices'][0]['message']['content']\n",
    "response_str = response_str.replace(\"$\", \"\\\\\\$\")\n",
    "display(Markdown(response_str))\n"
   ]
  },
  {
   "cell_type": "code",
   "execution_count": 5,
   "id": "cd8cfd01",
   "metadata": {},
   "outputs": [
    {
     "data": {
      "text/markdown": [
       "As of March 2024, Tesla, Inc. (TSLA) has received mixed analyst ratings. According to Barchart.com, the average analyst rating for Tesla over the last three months was a moderate buy, with a score of 3.44 based on 27 analysts. Two months ago, the average rating was a hold, with a score of 3.28 based on 29 analysts. One month ago, the average rating remained a hold, with a score of 3.24 based on 29 analysts. Currently, the average rating is a hold, with a score of 3.10 based on 29 analysts.\n",
       "\n",
       "In terms of specific analyst reports, there have been recent updates on Tesla from several firms. On March 25, 2024, Oppenheimer reiterated its hold rating on Tesla, suggesting investors to \"buy the dip or bail?\" due to pricing dynamics and expectations of lower prices before buying. However, on the same day, Vijay Rakesh from Mizuho Securities downgraded Tesla, along with Rivian and Nio, citing slowing electric vehicle (EV) demand, rising inventory levels, and pricing pressure. Additionally, Evercore ISI weighed in on Tesla's Model Y price hike, suggesting it could be a quarter-end marketing push rather than a significant shift in pricing strategy."
      ],
      "text/plain": [
       "<IPython.core.display.Markdown object>"
      ]
     },
     "metadata": {},
     "output_type": "display_data"
    }
   ],
   "source": [
    "user_prompt = f\"\"\"What are the current analyst ratings on {company} ({symbol})? \n",
    "Which short sellers issued reports on {company}, if any? Summarize any notable analyst reports.\"\"\"\n",
    "\n",
    "payload = {\n",
    "    \"model\": \"pplx-7b-online\",\n",
    "    \"messages\": [\n",
    "        {\n",
    "            \"role\": \"system\",\n",
    "            \"content\": system_prompt,\n",
    "        },\n",
    "        {\n",
    "            \"role\": \"user\",\n",
    "            \"content\": user_prompt,\n",
    "        }\n",
    "    ]\n",
    "}\n",
    "\n",
    "response = requests.post(perplexity_url, json=payload, headers=perplexity_headers)\n",
    "response_str = response.json()['choices'][0]['message']['content']\n",
    "response_str = response_str.replace(\"$\", \"\\\\\\$\")\n",
    "display(Markdown(response_str))\n"
   ]
  },
  {
   "cell_type": "code",
   "execution_count": 6,
   "id": "4b6f62d1",
   "metadata": {},
   "outputs": [
    {
     "data": {
      "text/markdown": [
       "Yes, there have been several notable news stories about Tesla (TSLA) in the past year. Here are some examples:\n",
       "\n",
       "1. **Investigative Report on Tesla's Management Team** - This article from Investopedia discusses the key members of Tesla's leadership team, including Elon Musk, Zachary Kirkhorn, Andrew Baglino, and others. It provides background information on their roles and responsibilities within the company.\n",
       "\n",
       "2. **Tesla Probes Current and Former Executives** - Autonews reported that Tesla faced multiple investigations from regulatory bodies in the United States, including the National Highway Traffic Safety Administration (NHTSA).\n",
       "\n",
       "3. **Allegations of Suppressing Complaints and Rigging Algorithms** - Reuters published an investigative report accusing Tesla of suppressing thousands of driving range complaints and rigging an algorithm to inflate its cars' in-dash range estimates, leading to a federal investigation.\n",
       "\n",
       "4. **Tesla's Risk Profile** - GlobalData released a risk profile report on Tesla, highlighting the company's moderate risk profile, market position, revenue growth, and operational efficiency. It also discussed potential concerns related to low profitability and high debt levels.\n",
       "\n",
       "5. **New Investigation into Several Popular Models** - The Street reported that the NHTSA opened a probe into several popular models of Tesla vehicles in response to a dozen complaints of reported loss of steering control."
      ],
      "text/plain": [
       "<IPython.core.display.Markdown object>"
      ]
     },
     "metadata": {},
     "output_type": "display_data"
    }
   ],
   "source": [
    "user_prompt = f\"\"\"Have there been any notable news stories about {company} ({symbol}) in the past year, including management profiles and investigative reports? \n",
    "For any notable stories, provide the date of publication and the media that reported them.\"\"\"\n",
    "\n",
    "payload = {\n",
    "    \"model\": \"pplx-7b-online\",\n",
    "    \"messages\": [\n",
    "        {\n",
    "            \"role\": \"system\",\n",
    "            \"content\": system_prompt,\n",
    "        },\n",
    "        {\n",
    "            \"role\": \"user\",\n",
    "            \"content\": user_prompt,\n",
    "        }\n",
    "    ]\n",
    "}\n",
    "\n",
    "response = requests.post(perplexity_url, json=payload, headers=perplexity_headers)\n",
    "response_str = response.json()['choices'][0]['message']['content']\n",
    "response_str = response_str.replace(\"$\", \"\\\\\\$\")\n",
    "display(Markdown(response_str))\n"
   ]
  },
  {
   "cell_type": "code",
   "execution_count": 44,
   "id": "ccd856ae",
   "metadata": {},
   "outputs": [
    {
     "data": {
      "text/html": [
       "<div>\n",
       "<style scoped>\n",
       "    .dataframe tbody tr th:only-of-type {\n",
       "        vertical-align: middle;\n",
       "    }\n",
       "\n",
       "    .dataframe tbody tr th {\n",
       "        vertical-align: top;\n",
       "    }\n",
       "\n",
       "    .dataframe thead th {\n",
       "        text-align: right;\n",
       "    }\n",
       "</style>\n",
       "<table border=\"1\" class=\"dataframe\">\n",
       "  <thead>\n",
       "    <tr style=\"text-align: right;\">\n",
       "      <th></th>\n",
       "      <th>1</th>\n",
       "    </tr>\n",
       "  </thead>\n",
       "  <tbody>\n",
       "    <tr>\n",
       "      <th>Symbol</th>\n",
       "      <td>TSLA</td>\n",
       "    </tr>\n",
       "    <tr>\n",
       "      <th>AssetType</th>\n",
       "      <td>Common Stock</td>\n",
       "    </tr>\n",
       "    <tr>\n",
       "      <th>Name</th>\n",
       "      <td>Tesla Inc</td>\n",
       "    </tr>\n",
       "    <tr>\n",
       "      <th>Description</th>\n",
       "      <td>Tesla, Inc. is an American electric vehicle an...</td>\n",
       "    </tr>\n",
       "    <tr>\n",
       "      <th>CIK</th>\n",
       "      <td>1318605</td>\n",
       "    </tr>\n",
       "    <tr>\n",
       "      <th>Exchange</th>\n",
       "      <td>NASDAQ</td>\n",
       "    </tr>\n",
       "    <tr>\n",
       "      <th>Currency</th>\n",
       "      <td>USD</td>\n",
       "    </tr>\n",
       "    <tr>\n",
       "      <th>Country</th>\n",
       "      <td>USA</td>\n",
       "    </tr>\n",
       "    <tr>\n",
       "      <th>Sector</th>\n",
       "      <td>MANUFACTURING</td>\n",
       "    </tr>\n",
       "    <tr>\n",
       "      <th>Industry</th>\n",
       "      <td>MOTOR VEHICLES &amp; PASSENGER CAR BODIES</td>\n",
       "    </tr>\n",
       "    <tr>\n",
       "      <th>Address</th>\n",
       "      <td>3500 DEER CREEK RD, PALO ALTO, CA, US</td>\n",
       "    </tr>\n",
       "    <tr>\n",
       "      <th>FiscalYearEnd</th>\n",
       "      <td>December</td>\n",
       "    </tr>\n",
       "    <tr>\n",
       "      <th>LatestQuarter</th>\n",
       "      <td>2023-12-31</td>\n",
       "    </tr>\n",
       "    <tr>\n",
       "      <th>MarketCapitalization</th>\n",
       "      <td>530681561000</td>\n",
       "    </tr>\n",
       "    <tr>\n",
       "      <th>EBITDA</th>\n",
       "      <td>13558000000</td>\n",
       "    </tr>\n",
       "    <tr>\n",
       "      <th>PERatio</th>\n",
       "      <td>38.75</td>\n",
       "    </tr>\n",
       "    <tr>\n",
       "      <th>PEGRatio</th>\n",
       "      <td>1.966</td>\n",
       "    </tr>\n",
       "    <tr>\n",
       "      <th>BookValue</th>\n",
       "      <td>19.66</td>\n",
       "    </tr>\n",
       "    <tr>\n",
       "      <th>DividendPerShare</th>\n",
       "      <td>None</td>\n",
       "    </tr>\n",
       "    <tr>\n",
       "      <th>DividendYield</th>\n",
       "      <td>None</td>\n",
       "    </tr>\n",
       "    <tr>\n",
       "      <th>EPS</th>\n",
       "      <td>4.3</td>\n",
       "    </tr>\n",
       "    <tr>\n",
       "      <th>RevenuePerShareTTM</th>\n",
       "      <td>30.49</td>\n",
       "    </tr>\n",
       "    <tr>\n",
       "      <th>ProfitMargin</th>\n",
       "      <td>0.155</td>\n",
       "    </tr>\n",
       "    <tr>\n",
       "      <th>OperatingMarginTTM</th>\n",
       "      <td>0.082</td>\n",
       "    </tr>\n",
       "    <tr>\n",
       "      <th>ReturnOnAssetsTTM</th>\n",
       "      <td>0.0588</td>\n",
       "    </tr>\n",
       "    <tr>\n",
       "      <th>ReturnOnEquityTTM</th>\n",
       "      <td>0.274</td>\n",
       "    </tr>\n",
       "    <tr>\n",
       "      <th>RevenueTTM</th>\n",
       "      <td>96772997000</td>\n",
       "    </tr>\n",
       "    <tr>\n",
       "      <th>GrossProfitTTM</th>\n",
       "      <td>20853000000</td>\n",
       "    </tr>\n",
       "    <tr>\n",
       "      <th>DilutedEPSTTM</th>\n",
       "      <td>4.3</td>\n",
       "    </tr>\n",
       "    <tr>\n",
       "      <th>QuarterlyEarningsGrowthYOY</th>\n",
       "      <td>1.115</td>\n",
       "    </tr>\n",
       "    <tr>\n",
       "      <th>QuarterlyRevenueGrowthYOY</th>\n",
       "      <td>0.035</td>\n",
       "    </tr>\n",
       "    <tr>\n",
       "      <th>AnalystTargetPrice</th>\n",
       "      <td>192.88</td>\n",
       "    </tr>\n",
       "    <tr>\n",
       "      <th>AnalystRatingStrongBuy</th>\n",
       "      <td>5</td>\n",
       "    </tr>\n",
       "    <tr>\n",
       "      <th>AnalystRatingBuy</th>\n",
       "      <td>12</td>\n",
       "    </tr>\n",
       "    <tr>\n",
       "      <th>AnalystRatingHold</th>\n",
       "      <td>21</td>\n",
       "    </tr>\n",
       "    <tr>\n",
       "      <th>AnalystRatingSell</th>\n",
       "      <td>5</td>\n",
       "    </tr>\n",
       "    <tr>\n",
       "      <th>AnalystRatingStrongSell</th>\n",
       "      <td>4</td>\n",
       "    </tr>\n",
       "    <tr>\n",
       "      <th>TrailingPE</th>\n",
       "      <td>38.75</td>\n",
       "    </tr>\n",
       "    <tr>\n",
       "      <th>ForwardPE</th>\n",
       "      <td>53.76</td>\n",
       "    </tr>\n",
       "    <tr>\n",
       "      <th>PriceToSalesRatioTTM</th>\n",
       "      <td>5.48</td>\n",
       "    </tr>\n",
       "    <tr>\n",
       "      <th>PriceToBookRatio</th>\n",
       "      <td>8.47</td>\n",
       "    </tr>\n",
       "    <tr>\n",
       "      <th>EVToRevenue</th>\n",
       "      <td>5.28</td>\n",
       "    </tr>\n",
       "    <tr>\n",
       "      <th>EVToEBITDA</th>\n",
       "      <td>34.54</td>\n",
       "    </tr>\n",
       "    <tr>\n",
       "      <th>Beta</th>\n",
       "      <td>2.415</td>\n",
       "    </tr>\n",
       "    <tr>\n",
       "      <th>52WeekHigh</th>\n",
       "      <td>299.29</td>\n",
       "    </tr>\n",
       "    <tr>\n",
       "      <th>52WeekLow</th>\n",
       "      <td>152.37</td>\n",
       "    </tr>\n",
       "    <tr>\n",
       "      <th>50DayMovingAverage</th>\n",
       "      <td>185.65</td>\n",
       "    </tr>\n",
       "    <tr>\n",
       "      <th>200DayMovingAverage</th>\n",
       "      <td>231.27</td>\n",
       "    </tr>\n",
       "    <tr>\n",
       "      <th>SharesOutstanding</th>\n",
       "      <td>3184790000</td>\n",
       "    </tr>\n",
       "    <tr>\n",
       "      <th>DividendDate</th>\n",
       "      <td>None</td>\n",
       "    </tr>\n",
       "    <tr>\n",
       "      <th>ExDividendDate</th>\n",
       "      <td>None</td>\n",
       "    </tr>\n",
       "  </tbody>\n",
       "</table>\n",
       "</div>"
      ],
      "text/plain": [
       "                                                                            1\n",
       "Symbol                                                                   TSLA\n",
       "AssetType                                                        Common Stock\n",
       "Name                                                                Tesla Inc\n",
       "Description                 Tesla, Inc. is an American electric vehicle an...\n",
       "CIK                                                                   1318605\n",
       "Exchange                                                               NASDAQ\n",
       "Currency                                                                  USD\n",
       "Country                                                                   USA\n",
       "Sector                                                          MANUFACTURING\n",
       "Industry                                MOTOR VEHICLES & PASSENGER CAR BODIES\n",
       "Address                                 3500 DEER CREEK RD, PALO ALTO, CA, US\n",
       "FiscalYearEnd                                                        December\n",
       "LatestQuarter                                                      2023-12-31\n",
       "MarketCapitalization                                             530681561000\n",
       "EBITDA                                                            13558000000\n",
       "PERatio                                                                 38.75\n",
       "PEGRatio                                                                1.966\n",
       "BookValue                                                               19.66\n",
       "DividendPerShare                                                         None\n",
       "DividendYield                                                            None\n",
       "EPS                                                                       4.3\n",
       "RevenuePerShareTTM                                                      30.49\n",
       "ProfitMargin                                                            0.155\n",
       "OperatingMarginTTM                                                      0.082\n",
       "ReturnOnAssetsTTM                                                      0.0588\n",
       "ReturnOnEquityTTM                                                       0.274\n",
       "RevenueTTM                                                        96772997000\n",
       "GrossProfitTTM                                                    20853000000\n",
       "DilutedEPSTTM                                                             4.3\n",
       "QuarterlyEarningsGrowthYOY                                              1.115\n",
       "QuarterlyRevenueGrowthYOY                                               0.035\n",
       "AnalystTargetPrice                                                     192.88\n",
       "AnalystRatingStrongBuy                                                      5\n",
       "AnalystRatingBuy                                                           12\n",
       "AnalystRatingHold                                                          21\n",
       "AnalystRatingSell                                                           5\n",
       "AnalystRatingStrongSell                                                     4\n",
       "TrailingPE                                                              38.75\n",
       "ForwardPE                                                               53.76\n",
       "PriceToSalesRatioTTM                                                     5.48\n",
       "PriceToBookRatio                                                         8.47\n",
       "EVToRevenue                                                              5.28\n",
       "EVToEBITDA                                                              34.54\n",
       "Beta                                                                    2.415\n",
       "52WeekHigh                                                             299.29\n",
       "52WeekLow                                                              152.37\n",
       "50DayMovingAverage                                                     185.65\n",
       "200DayMovingAverage                                                    231.27\n",
       "SharesOutstanding                                                  3184790000\n",
       "DividendDate                                                             None\n",
       "ExDividendDate                                                           None"
      ]
     },
     "execution_count": 44,
     "metadata": {},
     "output_type": "execute_result"
    }
   ],
   "source": [
    "# AlphaVantage overview\n",
    "url = f\"https://www.alphavantage.co/query?function=OVERVIEW&symbol={symbol}&apikey={os.environ['ALPHAVANTAGE_API_KEY']}\"\n",
    "r = requests.get(url)\n",
    "data = r.json()\n",
    "pd.DataFrame(data, index=[1]).transpose()\n"
   ]
  },
  {
   "cell_type": "code",
   "execution_count": 46,
   "id": "bfb4e885",
   "metadata": {},
   "outputs": [],
   "source": [
    "exchange = data['Exchange']\n",
    "\n",
    "morningstarmap = {'NYSE': 'xnys',\n",
    "                  'NASDAQ': 'xnas'\n",
    "                 }\n"
   ]
  },
  {
   "cell_type": "code",
   "execution_count": 105,
   "id": "bc5e2885",
   "metadata": {},
   "outputs": [
    {
     "data": {
      "text/plain": [
       "('20240401T1304', '20240403T1304')"
      ]
     },
     "execution_count": 105,
     "metadata": {},
     "output_type": "execute_result"
    }
   ],
   "source": [
    "now = datetime.now()\n",
    "end_date = now.strftime('%Y%m%dT%H%M')\n",
    "sdate = now - timedelta(days=2)\n",
    "# sdate = datetime(now.year, now.month-1, now.day)\n",
    "start_date = sdate.strftime('%Y%m%dT%H%M')\n",
    "start_date, end_date"
   ]
  },
  {
   "cell_type": "code",
   "execution_count": 107,
   "id": "d411abbc",
   "metadata": {},
   "outputs": [
    {
     "data": {
      "text/markdown": [
       "[2024-04-03 16:10:57 Mark Cuban Predicts World's First 'Trillionaire' Won't Be Musk Or Bezos - It'll Be Someone Who 'Masters AI' And Applies It In Brand New Ways](https://www.benzinga.com/general/24/04/38073344/mark-cuban-predicts-worlds-first-trillionaire-wont-be-musk-or-bezos-itll-be-someone-who-masters-ai-a)\n",
       " A few years back, amid the fanfare surrounding tech titans like Elon Musk and Jeff Bezos, Mark Cuban made a forward-looking statement at SXSW Conference and Festivals in 2017. He declared that the world's first trillionaire would emerge not from the traditional tech sector but from someone ..."
      ],
      "text/plain": [
       "<IPython.core.display.Markdown object>"
      ]
     },
     "metadata": {},
     "output_type": "display_data"
    },
    {
     "data": {
      "text/markdown": [
       "[2024-04-03 15:55:02 Ford Had a Different Start of 2024 Compared To General Motors And Even Tesla - Tesla  ( NASDAQ:TSLA ) ](https://www.benzinga.com/24/04/38072952/ford-had-a-different-start-of-2024-compared-to-general-motors-and-even-tesla)\n",
       " On Tuesday, the mighty EV king, Tesla Inc TSLA posted its first annual drop in sales since the first year of the pandemic. Simply put, rising EV competition from both Chinese, U.S. and European automakers ate into demand. General Motors GM posted a drop in deliveries as well as in EVs for the ..."
      ],
      "text/plain": [
       "<IPython.core.display.Markdown object>"
      ]
     },
     "metadata": {},
     "output_type": "display_data"
    },
    {
     "data": {
      "text/markdown": [
       "[2024-04-03 15:53:40 Wall Street Wakes Up To The Risk In The Stock Market - Hoping For A Dovish Powell To Run Up Stocks - iShares 20+ Year Treasury Bond ETF  ( NASDAQ:TLT ) ](https://www.benzinga.com/24/04/38072931/wall-street-wakes-up-to-the-risk-in-the-stock-market-hoping-for-a-dovish-powell-to-run-up-stocks)\n",
       " To gain an edge, this is what you need to know today. Please click here for an enlarged version of the chart of iShares 20+ Year Treasury Bond ETF TLT. Focus on the downward sloping trendline on the chart. According to momo gurus, the reverse was supposed to happen."
      ],
      "text/plain": [
       "<IPython.core.display.Markdown object>"
      ]
     },
     "metadata": {},
     "output_type": "display_data"
    },
    {
     "data": {
      "text/markdown": [
       "[2024-04-03 15:51:01 Market Clubhouse Morning Memo - April 3rd, 2024  ( Trade Strategy For SPY, QQQ, AAPL, MSFT, NVDA, GOOGL, META, and TSLA )  - Invesco QQQ Trust, Series 1  ( NASDAQ:QQQ ) ](https://www.benzinga.com/24/04/38072858/market-clubhouse-morning-memo-april-3rd-2024-trade-strategy-for-spy-qqq-aapl-msft-nvda-googl-meta-an)\n",
       " Good Morning Traders! In today's Market Clubhouse Morning Memo, we will discuss SPY, QQQ, AAPL, MSFT, NVDA, GOOGL, META, and TSLA. Our proprietary formula, exclusive to Market Clubhouse, dictates these price levels. This dynamic equation takes into account price, volume, and options flow."
      ],
      "text/plain": [
       "<IPython.core.display.Markdown object>"
      ]
     },
     "metadata": {},
     "output_type": "display_data"
    },
    {
     "data": {
      "text/markdown": [
       "[2024-04-03 15:05:00 Tesla Stock Sinks After a Big Q1 Delivery Miss: ETFs in Focus](https://www.zacks.com/stock/news/2249881/tesla-stock-sinks-after-a-big-q1-delivery-miss-etfs-in-focus)\n",
       " Tesla Inc. (TSLA) disappointed investors with its first year-over-year drop in quarterly deliveries since 2020."
      ],
      "text/plain": [
       "<IPython.core.display.Markdown object>"
      ]
     },
     "metadata": {},
     "output_type": "display_data"
    },
    {
     "data": {
      "text/markdown": [
       "[2024-04-03 15:02:00 Stocks Reverse Higher Ahead Of Powell Speech; Nvidia Up Despite Taiwan Quake As Tesla Falls](https://www.investors.com/market-trend/stock-market-today/dow-jones-sp500-nasdaq-nvidia-stock-powell/)\n",
       " Stocks Reverse Higher Ahead Of Powell Speech. Nvidia Up Despite Taiwan Quake As Tesla Falls Investor's Business Daily ..."
      ],
      "text/plain": [
       "<IPython.core.display.Markdown object>"
      ]
     },
     "metadata": {},
     "output_type": "display_data"
    },
    {
     "data": {
      "text/markdown": [
       "[2024-04-03 15:00:00 EV Realty and GreenPoint Partners Form Joint Venture for the Buildout of \\\\$200 Million in EV Charging Hubs](https://www.benzinga.com/pressreleases/24/04/g38071604/ev-realty-and-greenpoint-partners-form-joint-venture-for-the-buildout-of-200-million-in-ev-chargin)\n",
       " SAN FRANCISCO, April 03, 2024 ( GLOBE NEWSWIRE ) -- EV Realty, Inc. ( \"EV Realty\" ) , an EV infrastructure development platform powering commercial fleets, today announced the formation of a joint venture alongside GreenPoint Partners ( \"GreenPoint\" ) , an alternatives firm investing at the ..."
      ],
      "text/plain": [
       "<IPython.core.display.Markdown object>"
      ]
     },
     "metadata": {},
     "output_type": "display_data"
    },
    {
     "data": {
      "text/markdown": [
       "[2024-04-03 14:42:58 More students are dropping out of college - here's why](https://www.cnbc.com/2024/04/03/more-students-are-dropping-out-of-college-heres-why.html)\n",
       " Financial challenges are the main reasons at-risk students consider leaving college at some point, according to a recent report."
      ],
      "text/plain": [
       "<IPython.core.display.Markdown object>"
      ]
     },
     "metadata": {},
     "output_type": "display_data"
    },
    {
     "data": {
      "text/markdown": [
       "[2024-04-03 14:20:11 Tesla Stock Has 17% Downside, According to 1 Wall Street Analyst](https://www.fool.com/investing/2024/04/03/tesla-stock-downside-wall-street-analyst/)\n",
       " Deliveries are slumping, and price cuts aren't helping."
      ],
      "text/plain": [
       "<IPython.core.display.Markdown object>"
      ]
     },
     "metadata": {},
     "output_type": "display_data"
    },
    {
     "data": {
      "text/markdown": [
       "[2024-04-03 14:00:01 Waymo self-driving cars are delivering Uber Eats orders for first time](https://www.cnbc.com/2024/04/03/waymo-self-driving-cars-are-delivering-uber-eats-orders-for-first-time.html)\n",
       " Uber Eats customers may now receive orders delivered by one of Waymo's self-driving cars in the Phoenix metropolitan area."
      ],
      "text/plain": [
       "<IPython.core.display.Markdown object>"
      ]
     },
     "metadata": {},
     "output_type": "display_data"
    },
    {
     "data": {
      "text/markdown": [
       "[2024-04-03 13:54:36 Ford Stock Is Moving Higher Wednesday: What's Going On? - Ford Motor  ( NYSE:F ) ](https://www.benzinga.com/news/24/04/38069939/ford-stock-is-moving-higher-wednesday-whats-going-on)\n",
       " Ford Motor Co F shares are in the spotlight Wednesday after the company reported a nearly 7% increase in U.S. sales in the first quarter. What Happened: Ford reported total U.S. vehicle sales of 508,083 units in the first quarter, up 6.8%."
      ],
      "text/plain": [
       "<IPython.core.display.Markdown object>"
      ]
     },
     "metadata": {},
     "output_type": "display_data"
    },
    {
     "data": {
      "text/markdown": [
       "[2024-04-03 13:42:51 Tesla Plans Site Scouting In India For New EV Plant: Report - Tesla  ( NASDAQ:TSLA ) ](https://www.benzinga.com/news/24/04/38069722/tesla-plans-site-scouting-in-india-for-new-ev-plant-report)\n",
       " American EV giant Tesla Inc TSLA will reportedly send a team to India in late April to identify possible locations for a proposed EV plant."
      ],
      "text/plain": [
       "<IPython.core.display.Markdown object>"
      ]
     },
     "metadata": {},
     "output_type": "display_data"
    },
    {
     "data": {
      "text/markdown": [
       "[2024-04-03 13:35:17 What's Going On With Tesla Stock? - Tesla  ( NASDAQ:TSLA ) ](https://www.benzinga.com/news/24/04/38069572/whats-going-on-with-tesla-stock)\n",
       " Tesla Inc TSLA shares are trading lower Wednesday, adding to losses of nearly 5% on Tuesday. Here's a look at what's going on. What To Know: Tesla shares closed Tuesday down 4.9% at \\\\$166.63 after the company reported weak deliveries for the first quarter."
      ],
      "text/plain": [
       "<IPython.core.display.Markdown object>"
      ]
     },
     "metadata": {},
     "output_type": "display_data"
    },
    {
     "data": {
      "text/markdown": [
       "[2024-04-03 13:14:40 Elon Musk Dwells On Wokeness, Geopolitics, Population Crisis But Mostly Stays Silent On Tesla's Gloomy Q1 Deliveries - Tesla  ( NASDAQ:TSLA ) ](https://www.benzinga.com/news/24/04/38068997/elon-musk-dwells-on-wokeness-geopolitics-population-crisis-but-mostly-stays-silent-on-teslas-gloomy)\n",
       " Since EV giant Tesla reported a year-on-year drop in deliveries for the first quarter on Tuesday, company CEO Elon Musk has commented on international politics, wokeness, the falling birth rate in the U.S., and more but not on the company's disappointing delivery performance."
      ],
      "text/plain": [
       "<IPython.core.display.Markdown object>"
      ]
     },
     "metadata": {},
     "output_type": "display_data"
    },
    {
     "data": {
      "text/markdown": [
       "[2024-04-03 13:09:00 Tesla has a big competitor. And it is Chinese | Business](https://www.cnn.com/2024/04/03/cars/china-tesla-byd-competition-hnk-intl-dg/index.html)\n",
       " Tesla has a big competitor. And it is Chinese ..."
      ],
      "text/plain": [
       "<IPython.core.display.Markdown object>"
      ]
     },
     "metadata": {},
     "output_type": "display_data"
    },
    {
     "data": {
      "text/markdown": [
       "[2024-04-03 12:50:29 Bitcoin, Ethereum, Dogecoin Dip Amid High Selling Pressure: Analyst Says King Crypto Will Not See Highs 'Unless \\\\$69K Breaks; Tesla's Hidden Powerhouse: EV Giant Tries To Shift Investor Focus To Energy Business Amid Auto Slowdown - Top Headlines Today While US Slept](https://www.benzinga.com/news/24/04/38068055/bitcoin-ethereum-dogecoin-dip-amid-high-selling-pressure-analyst-says-king-crypto-will-not-see-highs)\n",
       " CHUCK Meme Coin That Aims To 'Make Ethereum Great Again' Skyrockets 25,800% Hours After Launch, Leaving Dogecoin, Shiba Inu In The Dust Cathie Wood's ARK Bitcoin ETF Posts Record \\\\$87M Outflow As Crypto Market Faces Correction"
      ],
      "text/plain": [
       "<IPython.core.display.Markdown object>"
      ]
     },
     "metadata": {},
     "output_type": "display_data"
    },
    {
     "data": {
      "text/markdown": [
       "[2024-04-03 12:36:29 Jim Cramer Slams Cathie Wood's 'Bold' Claims Of 80% Vehicles Being EV In A Few Years: 'Painful' - Tesla  ( NASDAQ:TSLA ) , ARK Innovation ETF  ( ARCA:ARKK ) ](https://www.benzinga.com/markets/equities/24/04/38067786/jim-cramer-slams-cathie-woods-bold-claims-of-80-vehicles-being-ev-in-a-few-years-painful)\n",
       " Jim Cramer took a potshot at Ark Invest's Cathie Wood's \"bold\" claims that 80% of the vehicles on the road will be electric in a \"few years.\" What Happened: Cramer slammed Wood's belief after Tesla Inc.'s TSLA big sales miss in the March 2024 quarter."
      ],
      "text/plain": [
       "<IPython.core.display.Markdown object>"
      ]
     },
     "metadata": {},
     "output_type": "display_data"
    },
    {
     "data": {
      "text/markdown": [
       "[2024-04-03 12:36:28 Chinese EV maker Aion plans second Southeast Asia plant in Indonesia](https://www.scmp.com/business/china-business/article/3257755/chinese-ev-maker-aion-plans-indonesia-plant-vying-against-rivals-byd-slice-promising-southeast-asia)\n",
       " Guangzhou-based Aion will partner with Jakarta-based carmaker Indomobil Group. Aion's first Southeast Asia plant, in Thailand, is expected to start production this summer."
      ],
      "text/plain": [
       "<IPython.core.display.Markdown object>"
      ]
     },
     "metadata": {},
     "output_type": "display_data"
    },
    {
     "data": {
      "text/markdown": [
       "[2024-04-03 12:30:00 Forget the \"Magnificent Seven.\" Instead, Look at the \"Fab Four.\"](https://www.fool.com/investing/2024/04/03/forget-the-magnificent-seven-instead-look-at-the-f/)\n",
       " These high-profile stocks helped fuel last year's market rally, but the group is beginning to fray at the edges."
      ],
      "text/plain": [
       "<IPython.core.display.Markdown object>"
      ]
     },
     "metadata": {},
     "output_type": "display_data"
    },
    {
     "data": {
      "text/markdown": [
       "[2024-04-03 12:19:00 Futures Lower Ahead Of Jobs Data, Powell Speech](https://www.investors.com/market-trend/stock-market-today/dow-jones-sp500-nasdaq-jerome-powell-intel-intc-stock/)\n",
       " Stock Market Today: Dow Jones Dips Ahead Of Powell Speech. Intel Dives On \\\\$7 Billion Loss Investor's Business Daily ..."
      ],
      "text/plain": [
       "<IPython.core.display.Markdown object>"
      ]
     },
     "metadata": {},
     "output_type": "display_data"
    },
    {
     "data": {
      "text/markdown": [
       "[2024-04-03 12:09:00 Rally Holds Support; Five Stocks Eye Buy Points](https://www.investors.com/market-trend/stock-market-today/dow-jones-futures-market-rally-holds-support-meta-near-buy-point-tesla-skid/)\n",
       " Dow Jones Futures: Stock Market Rally Holds Support, Meta Near Buy Point. Tesla Skids Investor's Business Daily ..."
      ],
      "text/plain": [
       "<IPython.core.display.Markdown object>"
      ]
     },
     "metadata": {},
     "output_type": "display_data"
    },
    {
     "data": {
      "text/markdown": [
       "[2024-04-03 12:07:00 Taylor Swift, Magic Johnson, and Sam Altman made Forbes' billionaires list for the first time. Here are the newcomers to know.](https://www.businessinsider.com/taylor-swift-magic-johnson-sam-altman-forbes-billionaires-rich-list-2024-4)\n",
       " Taylor Swift, Magic Johnson, Sam Altman join Forbes' billionaires list - Business Insider ..."
      ],
      "text/plain": [
       "<IPython.core.display.Markdown object>"
      ]
     },
     "metadata": {},
     "output_type": "display_data"
    },
    {
     "data": {
      "text/markdown": [
       "[2024-04-03 12:01:30 China's EV Wars Heat Up: Chery Launches New Brand To Battle Tesla And Huawei](https://www.benzinga.com/markets/asia/24/04/38066697/chinas-ev-wars-heat-up-chery-launches-new-brand-to-battle-tesla-and-huawei)\n",
       " Chery Auto, a prominent Chinese car manufacturer, is gearing up to launch a new electric vehicle ( EV ) brand in the third quarter of 2024. This move is aimed at driving growth in the face of intensifying competition and a slowdown in demand within the world's largest auto market."
      ],
      "text/plain": [
       "<IPython.core.display.Markdown object>"
      ]
     },
     "metadata": {},
     "output_type": "display_data"
    },
    {
     "data": {
      "text/markdown": [
       "[2024-04-03 11:45:45 S&P 500, Nasdaq Set To Stumble At Market Open Today: What's Pulling Stock Futures Down? - Invesco QQQ Trust, Series 1  ( NASDAQ:QQQ ) , SPDR S&P 500  ( ARCA:SPY ) ](https://www.benzinga.com/news/earnings/24/04/38066197/wall-street-set-to-stumble-at-open-as-traders-eye-key-data-fed-chair-powells-speech-analyst-finds-2)\n",
       " Gloom persists on Wall Street as stock futures point to a sluggish start on Wednesday, with the tech space potentially pressured by recent setbacks and the earthquake in Taiwan, home to several tech industry suppliers. Traders also face key data on services and jobs, along with remarks from ..."
      ],
      "text/plain": [
       "<IPython.core.display.Markdown object>"
      ]
     },
     "metadata": {},
     "output_type": "display_data"
    },
    {
     "data": {
      "text/markdown": [
       "[2024-04-03 11:28:45 Noted Tesla bear says Musk's EV maker could 'go bust,' says stock is worth \\\\$14](https://www.cnbc.com/2024/04/03/tesla-bear-says-elon-musks-ev-maker-will-go-bust-stock-worth-14.html)\n",
       " Tesla is facing a price war, intense competition from Chinese players and weakening demand for its electric cars."
      ],
      "text/plain": [
       "<IPython.core.display.Markdown object>"
      ]
     },
     "metadata": {},
     "output_type": "display_data"
    },
    {
     "data": {
      "text/markdown": [
       "[2024-04-03 11:05:00 Why this market has left behind direct-to-consumer companies like Warby Parker, AllBirds and Rent the Runway | Business](https://www.cnn.com/2024/04/03/investing/premarket-stocks-trading/index.html)\n",
       " Why the stock market has left behind companies like Warby Parker, AllBirds and Rent the Runway ..."
      ],
      "text/plain": [
       "<IPython.core.display.Markdown object>"
      ]
     },
     "metadata": {},
     "output_type": "display_data"
    },
    {
     "data": {
      "text/markdown": [
       "[2024-04-03 11:01:33 Fed Rate Cut Delay Weighs On Asia Stocks, Europe Markets Rise, Gold Hits \\\\$2,290 - Global Markets Today While US Slept - SmartETFs Asia Pacific Dividend Builder ETF  ( ARCA:ADIV ) ](https://www.benzinga.com/markets/asia/24/04/38065138/fed-rate-cut-delay-weighs-on-asia-stocks-europe-markets-rise-gold-hits-2-290-global-markets-today-wh)\n",
       " On Tuesday, April 2nd, the U.S. stock markets ended lower as concerns grew over a potential delay in Federal Reserve rate cuts, and Tesla shares fell after reporting a decline in quarterly deliveries for the first time in nearly four years."
      ],
      "text/plain": [
       "<IPython.core.display.Markdown object>"
      ]
     },
     "metadata": {},
     "output_type": "display_data"
    },
    {
     "data": {
      "text/markdown": [
       "[2024-04-03 10:53:37 Tesla's Hidden Powerhouse: EV Giant Tries To Shift Investor Focus To Energy Business Amid Auto Slowdown - Tesla  ( NASDAQ:TSLA ) ](https://www.benzinga.com/news/24/04/38064935/teslas-hidden-powerhouse-ev-giant-tries-to-shift-investor-focus-to-energy-business-amid-auto-slowdow)\n",
       " As the electric vehicle ( EV ) giant Tesla Inc. TSLA grapples with dwindling EV demand, it is now seemingly redirecting investor attention towards its other segments, particularly energy storage."
      ],
      "text/plain": [
       "<IPython.core.display.Markdown object>"
      ]
     },
     "metadata": {},
     "output_type": "display_data"
    },
    {
     "data": {
      "text/markdown": [
       "[2024-04-03 10:42:00 Hong Kong Market ends lower as rate cut hopes fade](https://www.business-standard.com/markets/capital-market-news/hong-kong-market-ends-lower-as-rate-cut-hopes-fade-124040300812_1.html)\n",
       " Market overshadowed upbeat data which showed Chinas services activity growth picked up in March as new business rose at the quickest pace in 3 months. At closing bell, the benchmark Hang Seng Index declined by 206.42 points, or 1.22%, to 16,725.10."
      ],
      "text/plain": [
       "<IPython.core.display.Markdown object>"
      ]
     },
     "metadata": {},
     "output_type": "display_data"
    },
    {
     "data": {
      "text/markdown": [
       "[2024-04-03 10:35:52 Tesla Stock On Track For 4th Session Of Losses? Here's What's Dragging The EV Giant Today - Tesla  ( NASDAQ:TSLA ) ](https://www.benzinga.com/markets/equities/24/04/38064769/tesla-stock-on-track-for-4th-session-of-losses-heres-whats-dragging-the-ev-giant-today)\n",
       " Shares of electric-vehicle giant Tesla, Inc. TSLA fell in premarket trading on Wednesday, extending losses after declining in each of the past three sessions. The stock fell nearly 5% to \\\\$166.63 on Tuesday after it reported its first year-over-year sales decline since the second quarter of 2020."
      ],
      "text/plain": [
       "<IPython.core.display.Markdown object>"
      ]
     },
     "metadata": {},
     "output_type": "display_data"
    },
    {
     "data": {
      "text/markdown": [
       "[2024-04-03 10:30:00 Shocking Stat: Tesla Is Underperforming GM by 58.6% in 2024](https://www.fool.com/investing/2024/04/03/shocking-stat-tesla-is-underperforming-gm-by-58-in/)\n",
       " Tesla may be more valuable, but GM has been the better-performing stock by a mile in 2024."
      ],
      "text/plain": [
       "<IPython.core.display.Markdown object>"
      ]
     },
     "metadata": {},
     "output_type": "display_data"
    },
    {
     "data": {
      "text/markdown": [
       "[2024-04-03 10:30:00 The World's Richest Person 2024](https://www.forbes.com/sites/giacomotognini/2024/04/03/the-worlds-richest-person-2024/)\n",
       " This French tastemaker came from a wealthy family and turned millions into hundreds of billions over nearly four decades. or the second year running, luxury goods magnate Bernard Arnault is the richest person in the world, ranking number one on Forbes' World's Billionaires list."
      ],
      "text/plain": [
       "<IPython.core.display.Markdown object>"
      ]
     },
     "metadata": {},
     "output_type": "display_data"
    },
    {
     "data": {
      "text/markdown": [
       "[2024-04-03 10:30:00 The World's Richest Self-Made Women In 2024](https://www.forbes.com/sites/nataliewu/2024/04/03/the-worlds-richest-self-made-women-in-2024-taylor-swift-kim-kardashian-rihanna/)\n",
       " Only a tiny sliver of the world's billionaires are women who've created their own fortunes. Still, this year their numbers reached a record-high. t's a rare thing to be a woman billionaire. Just 369-or 13%-of the 2,781 people on Forbes' 2024 list of the World's Billionaires are women."
      ],
      "text/plain": [
       "<IPython.core.display.Markdown object>"
      ]
     },
     "metadata": {},
     "output_type": "display_data"
    },
    {
     "data": {
      "text/markdown": [
       "[2024-04-03 10:21:44 Xiaomi CEO Predicts Tesla-Like Success As Chinese EV Debutant's 1st Electric Offering Zooms Off The Lot With Over 100K Orders - Xiaomi  ( OTC:XIACF ) ](https://www.benzinga.com/markets/asia/24/04/38064533/xiaomi-ceo-predicts-tesla-like-success-as-chinese-ev-debutants-1st-electric-offering-zooms-off-the-l)\n",
       " Chinese tech giant Xiaomi XIACF has reportedly commenced deliveries of its SU7 electric sedan for which it has received over 100,000 orders. What Happened: The smartphone company started delivering its first electric vehicle to customers on Wednesday and held a ceremony to commemorate it in ..."
      ],
      "text/plain": [
       "<IPython.core.display.Markdown object>"
      ]
     },
     "metadata": {},
     "output_type": "display_data"
    },
    {
     "data": {
      "text/markdown": [
       "[2024-04-03 09:06:00 1 \"Magnificent Seven\" Stock to Buy Hand Over Fist in April, and 1 to Avoid Like the Plague](https://www.fool.com/investing/2024/04/03/1-magnificent-seven-stock-buy-in-april-1-to-avoid/)\n",
       " Among Microsoft, Apple, Nvidia, Alphabet, Amazon, Meta Platforms, and Tesla, there's an industry leader still trading at a historically cheap valuation, as well as a highflier that has mounting red flags."
      ],
      "text/plain": [
       "<IPython.core.display.Markdown object>"
      ]
     },
     "metadata": {},
     "output_type": "display_data"
    },
    {
     "data": {
      "text/markdown": [
       "[2024-04-03 08:44:51 Tesla Catches Analysts Off Guard With 'Kitchen Sink' Q1: Why This Fund Manager Says It's 'Hard To Be Bullish' On EV Giant's Stock - Tesla  ( NASDAQ:TSLA ) ](https://www.benzinga.com/analyst-ratings/analyst-color/24/04/38063613/tesla-catches-analysts-off-guard-with-kitchen-sink-q1-why-this-fund-manager-says-it)\n",
       " Tesla, Inc.'s TSLA subpar first-quarter deliveries number triggered negative reactions from most analysts, although some still see light at the end of the tunnel. Caught Off Guard: Deepwater Asset Management's Gene Munster said Tesla's first-quarter sales caught him off guard, as he was bracing ..."
      ],
      "text/plain": [
       "<IPython.core.display.Markdown object>"
      ]
     },
     "metadata": {},
     "output_type": "display_data"
    },
    {
     "data": {
      "text/markdown": [
       "[2024-04-03 08:35:00 The \"Magnificent Seven\" Dominated the Market in 2023. Will the \"Fab Four\" Reign in 2024?](https://www.fool.com/investing/2024/04/03/magnificent-7-dominated-2023-fab-four-in-2024/)\n",
       " These four companies each have a track record of earnings growth."
      ],
      "text/plain": [
       "<IPython.core.display.Markdown object>"
      ]
     },
     "metadata": {},
     "output_type": "display_data"
    },
    {
     "data": {
      "text/markdown": [
       "[2024-04-03 08:00:00 Tesla Stock Has 87% Downside, According to 1 Wall Street Analyst](https://www.fool.com/investing/2024/04/03/tesla-stock-has-87-downside-according-to-1-wall-st/)\n",
       " It's recommended as a top short by a small research firm."
      ],
      "text/plain": [
       "<IPython.core.display.Markdown object>"
      ]
     },
     "metadata": {},
     "output_type": "display_data"
    },
    {
     "data": {
      "text/markdown": [
       "[2024-04-03 07:58:45 Planet Fitness  ( NYSE:PLNT )  Downgraded to \"Sell\" at StockNews.com](https://www.defenseworld.net/2024/04/03/planet-fitness-nyseplnt-downgraded-to-sell-at-stocknews-com.html)\n",
       " StockNews.com cut shares of Planet Fitness ( NYSE:PLNT - Free Report ) from a hold rating to a sell rating in a research note released on Tuesday."
      ],
      "text/plain": [
       "<IPython.core.display.Markdown object>"
      ]
     },
     "metadata": {},
     "output_type": "display_data"
    },
    {
     "data": {
      "text/markdown": [
       "[2024-04-03 07:58:43 Kinross Gold  ( NYSE:KGC )  Upgraded to \"Buy\" at StockNews.com](https://www.defenseworld.net/2024/04/03/kinross-gold-nysekgc-upgraded-to-buy-at-stocknews-com.html)\n",
       " StockNews.com upgraded shares of Kinross Gold ( NYSE:KGC - Free Report ) ( TSE:K ) from a hold rating to a buy rating in a research note published on Tuesday morning. A number of other equities research analysts have also recently commented on the stock."
      ],
      "text/plain": [
       "<IPython.core.display.Markdown object>"
      ]
     },
     "metadata": {},
     "output_type": "display_data"
    },
    {
     "data": {
      "text/markdown": [
       "[2024-04-03 07:58:41 Las Vegas Sands  ( NYSE:LVS )  Downgraded to \"Hold\" at StockNews.com](https://www.defenseworld.net/2024/04/03/las-vegas-sands-nyselvs-downgraded-to-hold-at-stocknews-com.html)\n",
       " StockNews.com cut shares of Las Vegas Sands ( NYSE:LVS - Free Report ) from a buy rating to a hold rating in a report issued on Tuesday. LVS has been the subject of several other research reports. Susquehanna started coverage on shares of Las Vegas Sands in a research note on Friday, December ..."
      ],
      "text/plain": [
       "<IPython.core.display.Markdown object>"
      ]
     },
     "metadata": {},
     "output_type": "display_data"
    },
    {
     "data": {
      "text/markdown": [
       "[2024-04-03 07:58:41 Element Solutions  ( NYSE:ESI )  Upgraded to \"Buy\" at StockNews.com](https://www.defenseworld.net/2024/04/03/element-solutions-nyseesi-upgraded-to-buy-at-stocknews-com.html)\n",
       " StockNews.com upgraded shares of Element Solutions ( NYSE:ESI - Free Report ) from a hold rating to a buy rating in a report published on Tuesday. ESI has been the subject of several other reports."
      ],
      "text/plain": [
       "<IPython.core.display.Markdown object>"
      ]
     },
     "metadata": {},
     "output_type": "display_data"
    },
    {
     "data": {
      "text/markdown": [
       "[2024-04-03 07:54:02 Tesla regains EV crown from BYD by outselling rivals in shrinking China market](https://www.scmp.com/business/china-business/article/3257701/tesla-knocks-byd-its-perch-worlds-largest-pure-ev-makers-struggle-win-new-customers-chinas-shrinking)\n",
       " Tesla is the world's largest maker of pure electric cars again after outselling its closest rival, BYD, during the first quarter of this year, according to data published by the companies."
      ],
      "text/plain": [
       "<IPython.core.display.Markdown object>"
      ]
     },
     "metadata": {},
     "output_type": "display_data"
    },
    {
     "data": {
      "text/markdown": [
       "[2024-04-03 07:26:48 OneSpan  ( NASDAQ:OSPN )  Downgraded by StockNews.com to \"Hold\"](https://www.defenseworld.net/2024/04/03/onespan-nasdaqospn-downgraded-by-stocknews-com-to-hold.html)\n",
       " StockNews.com cut shares of OneSpan ( NASDAQ:OSPN - Free Report ) from a buy rating to a hold rating in a report released on Tuesday morning. Separately, Sidoti downgraded OneSpan from a buy rating to a neutral rating and set a \\\\$12.00 target price for the company. in a report on Tuesday."
      ],
      "text/plain": [
       "<IPython.core.display.Markdown object>"
      ]
     },
     "metadata": {},
     "output_type": "display_data"
    },
    {
     "data": {
      "text/markdown": [
       "[2024-04-03 07:26:47 Puma Biotechnology  ( NASDAQ:PBYI )  Upgraded by StockNews.com to Buy](https://www.defenseworld.net/2024/04/03/puma-biotechnology-nasdaqpbyi-upgraded-by-stocknews-com-to-buy.html)\n",
       " StockNews.com upgraded shares of Puma Biotechnology ( NASDAQ:PBYI - Free Report ) from a hold rating to a buy rating in a report issued on Tuesday morning. Separately, HC Wainwright reduced their price target on Puma Biotechnology from \\\\$8.00 to \\\\$7.00 and set a buy rating on the stock in a ..."
      ],
      "text/plain": [
       "<IPython.core.display.Markdown object>"
      ]
     },
     "metadata": {},
     "output_type": "display_data"
    },
    {
     "data": {
      "text/markdown": [
       "[2024-04-03 07:26:47 Dave & Buster's Entertainment  ( NASDAQ:PLAY )  Lowered to Sell at StockNews.com](https://www.defenseworld.net/2024/04/03/dave-busters-entertainment-nasdaqplay-lowered-to-sell-at-stocknews-com.html)\n",
       " StockNews.com downgraded shares of Dave & Buster's Entertainment ( NASDAQ:PLAY - Free Report ) from a hold rating to a sell rating in a research note issued to investors on Tuesday. Other equities research analysts also recently issued research reports about the company."
      ],
      "text/plain": [
       "<IPython.core.display.Markdown object>"
      ]
     },
     "metadata": {},
     "output_type": "display_data"
    },
    {
     "data": {
      "text/markdown": [
       "[2024-04-03 07:26:47 WNS  ( NYSE:WNS )  Lowered to Hold at StockNews.com](https://www.defenseworld.net/2024/04/03/wns-nysewns-lowered-to-hold-at-stocknews-com.html)\n",
       " StockNews.com downgraded shares of WNS ( NYSE:WNS - Free Report ) from a buy rating to a hold rating in a research note issued to investors on Tuesday."
      ],
      "text/plain": [
       "<IPython.core.display.Markdown object>"
      ]
     },
     "metadata": {},
     "output_type": "display_data"
    },
    {
     "data": {
      "text/markdown": [
       "[2024-04-03 07:26:47 Teradata  ( NYSE:TDC )  Downgraded by StockNews.com to Buy](https://www.defenseworld.net/2024/04/03/teradata-nysetdc-downgraded-by-stocknews-com-to-buy.html)\n",
       " StockNews.com cut shares of Teradata ( NYSE:TDC - Free Report ) from a strong-buy rating to a buy rating in a research report released on Tuesday morning."
      ],
      "text/plain": [
       "<IPython.core.display.Markdown object>"
      ]
     },
     "metadata": {},
     "output_type": "display_data"
    },
    {
     "data": {
      "text/markdown": [
       "[2024-04-03 07:26:47 Veeva Systems  ( NYSE:VEEV )  Upgraded by StockNews.com to Buy](https://www.defenseworld.net/2024/04/03/veeva-systems-nyseveev-upgraded-by-stocknews-com-to-buy.html)\n",
       " StockNews.com upgraded shares of Veeva Systems ( NYSE:VEEV - Free Report ) from a hold rating to a buy rating in a research note published on Tuesday. VEEV has been the subject of several other research reports."
      ],
      "text/plain": [
       "<IPython.core.display.Markdown object>"
      ]
     },
     "metadata": {},
     "output_type": "display_data"
    },
    {
     "data": {
      "text/markdown": [
       "[2024-04-03 07:26:46 NorthWestern Energy Group  ( NYSE:NWE )  Downgraded by StockNews.com to Sell](https://www.defenseworld.net/2024/04/03/northwestern-energy-group-nysenwe-downgraded-by-stocknews-com-to-sell.html)\n",
       " StockNews.com lowered shares of NorthWestern Energy Group ( NYSE:NWE - Free Report ) from a hold rating to a sell rating in a research report released on Tuesday. Several other research analysts also recently weighed in on the company."
      ],
      "text/plain": [
       "<IPython.core.display.Markdown object>"
      ]
     },
     "metadata": {},
     "output_type": "display_data"
    }
   ],
   "source": [
    "url = f'https://www.alphavantage.co/query?function=NEWS_SENTIMENT&tickers={symbol}&apikey={os.environ[\"ALPHAVANTAGE_API_KEY\"]}&time_from={start_date}&time_to={end_date}'\n",
    "\n",
    "r = requests.get(url)\n",
    "data = r.json()\n",
    "\n",
    "for item in data['feed']:\n",
    "    markdown_str = \"\"\n",
    "    date_object = datetime.strptime(item['time_published'], \"%Y%m%dT%H%M%S\")\n",
    "    display_title = item['title'].replace(\"$\", \"\\\\\\$\")  # so Markdown doesn't interpret as latex escape\n",
    "    description = item['summary'].replace(\"$\", \"\\\\\\$\")\n",
    "    markdown_str += f\"[{str(date_object)} {display_title}]({item['url']})\\n {description}\"\n",
    "    display(Markdown(markdown_str))\n",
    "    "
   ]
  },
  {
   "cell_type": "code",
   "execution_count": 110,
   "id": "9627b611",
   "metadata": {},
   "outputs": [
    {
     "data": {
      "text/html": [
       "<div>\n",
       "<style scoped>\n",
       "    .dataframe tbody tr th:only-of-type {\n",
       "        vertical-align: middle;\n",
       "    }\n",
       "\n",
       "    .dataframe tbody tr th {\n",
       "        vertical-align: top;\n",
       "    }\n",
       "\n",
       "    .dataframe thead th {\n",
       "        text-align: right;\n",
       "    }\n",
       "</style>\n",
       "<table border=\"1\" class=\"dataframe\">\n",
       "  <thead>\n",
       "    <tr style=\"text-align: right;\">\n",
       "      <th></th>\n",
       "      <th>id</th>\n",
       "      <th>name</th>\n",
       "      <th>description</th>\n",
       "      <th>url</th>\n",
       "      <th>category</th>\n",
       "      <th>language</th>\n",
       "      <th>country</th>\n",
       "    </tr>\n",
       "  </thead>\n",
       "  <tbody>\n",
       "    <tr>\n",
       "      <th>0</th>\n",
       "      <td>abc-news</td>\n",
       "      <td>ABC News</td>\n",
       "      <td>Your trusted source for breaking news, analysi...</td>\n",
       "      <td>https://abcnews.go.com</td>\n",
       "      <td>general</td>\n",
       "      <td>en</td>\n",
       "      <td>us</td>\n",
       "    </tr>\n",
       "    <tr>\n",
       "      <th>1</th>\n",
       "      <td>abc-news-au</td>\n",
       "      <td>ABC News (AU)</td>\n",
       "      <td>Australia's most trusted source of local, nati...</td>\n",
       "      <td>https://www.abc.net.au/news</td>\n",
       "      <td>general</td>\n",
       "      <td>en</td>\n",
       "      <td>au</td>\n",
       "    </tr>\n",
       "    <tr>\n",
       "      <th>2</th>\n",
       "      <td>aftenposten</td>\n",
       "      <td>Aftenposten</td>\n",
       "      <td>Norges ledende nettavis med alltid oppdaterte ...</td>\n",
       "      <td>https://www.aftenposten.no</td>\n",
       "      <td>general</td>\n",
       "      <td>no</td>\n",
       "      <td>no</td>\n",
       "    </tr>\n",
       "    <tr>\n",
       "      <th>3</th>\n",
       "      <td>al-jazeera-english</td>\n",
       "      <td>Al Jazeera English</td>\n",
       "      <td>News, analysis from the Middle East and worldw...</td>\n",
       "      <td>https://www.aljazeera.com</td>\n",
       "      <td>general</td>\n",
       "      <td>en</td>\n",
       "      <td>us</td>\n",
       "    </tr>\n",
       "    <tr>\n",
       "      <th>4</th>\n",
       "      <td>ansa</td>\n",
       "      <td>ANSA.it</td>\n",
       "      <td>Agenzia ANSA: ultime notizie, foto, video e ap...</td>\n",
       "      <td>https://www.ansa.it</td>\n",
       "      <td>general</td>\n",
       "      <td>it</td>\n",
       "      <td>it</td>\n",
       "    </tr>\n",
       "    <tr>\n",
       "      <th>...</th>\n",
       "      <td>...</td>\n",
       "      <td>...</td>\n",
       "      <td>...</td>\n",
       "      <td>...</td>\n",
       "      <td>...</td>\n",
       "      <td>...</td>\n",
       "      <td>...</td>\n",
       "    </tr>\n",
       "    <tr>\n",
       "      <th>123</th>\n",
       "      <td>wired</td>\n",
       "      <td>Wired</td>\n",
       "      <td>Wired is a monthly American magazine, publishe...</td>\n",
       "      <td>https://www.wired.com</td>\n",
       "      <td>technology</td>\n",
       "      <td>en</td>\n",
       "      <td>us</td>\n",
       "    </tr>\n",
       "    <tr>\n",
       "      <th>124</th>\n",
       "      <td>wired-de</td>\n",
       "      <td>Wired.de</td>\n",
       "      <td>Wired reports on how emerging technologies aff...</td>\n",
       "      <td>https://www.wired.de</td>\n",
       "      <td>technology</td>\n",
       "      <td>de</td>\n",
       "      <td>de</td>\n",
       "    </tr>\n",
       "    <tr>\n",
       "      <th>125</th>\n",
       "      <td>wirtschafts-woche</td>\n",
       "      <td>Wirtschafts Woche</td>\n",
       "      <td>Das Online-Portal des führenden Wirtschaftsmag...</td>\n",
       "      <td>http://www.wiwo.de</td>\n",
       "      <td>business</td>\n",
       "      <td>de</td>\n",
       "      <td>de</td>\n",
       "    </tr>\n",
       "    <tr>\n",
       "      <th>126</th>\n",
       "      <td>xinhua-net</td>\n",
       "      <td>Xinhua Net</td>\n",
       "      <td>中国主要重点新闻网站,依托新华社遍布全球的采编网络,记者遍布世界100多个国家和地区,地方频...</td>\n",
       "      <td>http://xinhuanet.com/</td>\n",
       "      <td>general</td>\n",
       "      <td>zh</td>\n",
       "      <td>zh</td>\n",
       "    </tr>\n",
       "    <tr>\n",
       "      <th>127</th>\n",
       "      <td>ynet</td>\n",
       "      <td>Ynet</td>\n",
       "      <td>ynet דף הבית: אתר החדשות המוביל בישראל מבית יד...</td>\n",
       "      <td>http://www.ynet.co.il</td>\n",
       "      <td>general</td>\n",
       "      <td>he</td>\n",
       "      <td>is</td>\n",
       "    </tr>\n",
       "  </tbody>\n",
       "</table>\n",
       "<p>128 rows × 7 columns</p>\n",
       "</div>"
      ],
      "text/plain": [
       "                     id                name  \\\n",
       "0              abc-news            ABC News   \n",
       "1           abc-news-au       ABC News (AU)   \n",
       "2           aftenposten         Aftenposten   \n",
       "3    al-jazeera-english  Al Jazeera English   \n",
       "4                  ansa             ANSA.it   \n",
       "..                  ...                 ...   \n",
       "123               wired               Wired   \n",
       "124            wired-de            Wired.de   \n",
       "125   wirtschafts-woche   Wirtschafts Woche   \n",
       "126          xinhua-net          Xinhua Net   \n",
       "127                ynet                Ynet   \n",
       "\n",
       "                                           description  \\\n",
       "0    Your trusted source for breaking news, analysi...   \n",
       "1    Australia's most trusted source of local, nati...   \n",
       "2    Norges ledende nettavis med alltid oppdaterte ...   \n",
       "3    News, analysis from the Middle East and worldw...   \n",
       "4    Agenzia ANSA: ultime notizie, foto, video e ap...   \n",
       "..                                                 ...   \n",
       "123  Wired is a monthly American magazine, publishe...   \n",
       "124  Wired reports on how emerging technologies aff...   \n",
       "125  Das Online-Portal des führenden Wirtschaftsmag...   \n",
       "126  中国主要重点新闻网站,依托新华社遍布全球的采编网络,记者遍布世界100多个国家和地区,地方频...   \n",
       "127  ynet דף הבית: אתר החדשות המוביל בישראל מבית יד...   \n",
       "\n",
       "                             url    category language country  \n",
       "0         https://abcnews.go.com     general       en      us  \n",
       "1    https://www.abc.net.au/news     general       en      au  \n",
       "2     https://www.aftenposten.no     general       no      no  \n",
       "3      https://www.aljazeera.com     general       en      us  \n",
       "4            https://www.ansa.it     general       it      it  \n",
       "..                           ...         ...      ...     ...  \n",
       "123        https://www.wired.com  technology       en      us  \n",
       "124         https://www.wired.de  technology       de      de  \n",
       "125           http://www.wiwo.de    business       de      de  \n",
       "126        http://xinhuanet.com/     general       zh      zh  \n",
       "127        http://www.ynet.co.il     general       he      is  \n",
       "\n",
       "[128 rows x 7 columns]"
      ]
     },
     "execution_count": 110,
     "metadata": {},
     "output_type": "execute_result"
    }
   ],
   "source": [
    "from newsapi import NewsApiClient\n",
    "NEWSAPI_API_KEY = os.environ['NEWSAPI_API_KEY']\n",
    "api = NewsApiClient(api_key=NEWSAPI_API_KEY)\n",
    "sources = api.get_sources()\n",
    "pd.DataFrame(sources['sources'])"
   ]
  },
  {
   "cell_type": "code",
   "execution_count": 119,
   "id": "29b86663",
   "metadata": {},
   "outputs": [
    {
     "data": {
      "text/markdown": [
       "[2024-04-02T17:12:06Z Dow Jones Dives Nearly 500 Points; Cathie Wood Loads Up On This Stock Amid 45% Downtrend](https://www.defenseworld.net/2024/04/03/northwestern-energy-group-nysenwe-downgraded-by-stocknews-com-to-sell.html) \n",
       "\n",
       "[2024-04-02T16:48:30Z Top Stock Movers Now: Tesla, PVH, Humana, and More](https://www.defenseworld.net/2024/04/03/northwestern-energy-group-nysenwe-downgraded-by-stocknews-com-to-sell.html) \n",
       "\n",
       "[2024-04-02T16:22:02Z Tesla, UnitedHealth Group fall; Roivant, Valero rise, Tuesday, 4/2/2024](https://www.defenseworld.net/2024/04/03/northwestern-energy-group-nysenwe-downgraded-by-stocknews-com-to-sell.html) \n",
       "\n",
       "[2024-04-02T16:16:54Z Tesla reports its first year-over-year sales decline since the pandemic—and its shares are plummeting](https://www.defenseworld.net/2024/04/03/northwestern-energy-group-nysenwe-downgraded-by-stocknews-com-to-sell.html) \n",
       "\n",
       "[2024-04-02T16:10:43Z Tesla, Inc. (NASDAQ:TSLA) Shares Sold by Pallas Capital Advisors LLC](https://www.defenseworld.net/2024/04/03/northwestern-energy-group-nysenwe-downgraded-by-stocknews-com-to-sell.html) \n",
       "\n",
       "[2024-04-02T16:09:22Z BYD pode perder posto de maior do mundo em veículos elétricos para Tesla](https://www.defenseworld.net/2024/04/03/northwestern-energy-group-nysenwe-downgraded-by-stocknews-com-to-sell.html) \n",
       "\n",
       "[2024-04-02T16:07:37Z What You Missed On Wall Street This Morning](https://www.defenseworld.net/2024/04/03/northwestern-energy-group-nysenwe-downgraded-by-stocknews-com-to-sell.html) \n",
       "\n",
       "[2024-04-02T16:07:27Z BYD, Nio, Li and XPeng Report Deliveries Rose In March](https://www.defenseworld.net/2024/04/03/northwestern-energy-group-nysenwe-downgraded-by-stocknews-com-to-sell.html) \n",
       "\n",
       "[2024-04-02T15:28:05Z Tesla Stock Drops on Weak Delivery Numbers and it May Fall More](https://www.defenseworld.net/2024/04/03/northwestern-energy-group-nysenwe-downgraded-by-stocknews-com-to-sell.html) \n",
       "\n",
       "[2024-04-02T14:12:44Z Wall Street cai na abertura sob peso de seguradoras de saúde e Tesla](https://www.defenseworld.net/2024/04/03/northwestern-energy-group-nysenwe-downgraded-by-stocknews-com-to-sell.html) \n",
       "\n",
       "[2024-04-02T14:11:44Z Tesla Stock Tumbles as Q1 Deliveries Fall 8.5% From a Year Earlier](https://www.defenseworld.net/2024/04/03/northwestern-energy-group-nysenwe-downgraded-by-stocknews-com-to-sell.html) \n",
       "\n",
       "[2024-04-02T14:03:10Z Rivian Deliveries Grow 70% As The EV Startup Reaffirms 2024 Production Target](https://www.defenseworld.net/2024/04/03/northwestern-energy-group-nysenwe-downgraded-by-stocknews-com-to-sell.html) \n",
       "\n",
       "[2024-04-02T13:56:42Z Tesla shares drop 7% on first-quarter vehicle delivery and production report - CNBC](https://www.defenseworld.net/2024/04/03/northwestern-energy-group-nysenwe-downgraded-by-stocknews-com-to-sell.html) \n",
       "\n",
       "[2024-04-02T13:46:04Z Tesla misses first-quarter delivery estimate on slowing EV demand, tough competition](https://www.defenseworld.net/2024/04/03/northwestern-energy-group-nysenwe-downgraded-by-stocknews-com-to-sell.html) \n",
       "\n",
       "[2024-04-02T13:44:42Z Tesla stock slides following big Q1 delivery miss](https://www.defenseworld.net/2024/04/03/northwestern-energy-group-nysenwe-downgraded-by-stocknews-com-to-sell.html) \n",
       "\n",
       "[2024-04-02T13:35:23Z Tesla Vehicle Production & Deliveries and Date for Financial Results & Webcast for First Quarter 2024 - Tesla Investor Relations](https://www.defenseworld.net/2024/04/03/northwestern-energy-group-nysenwe-downgraded-by-stocknews-com-to-sell.html) \n",
       "\n"
      ],
      "text/plain": [
       "<IPython.core.display.Markdown object>"
      ]
     },
     "metadata": {},
     "output_type": "display_data"
    }
   ],
   "source": [
    "# Calculate the date 24 hours ago\n",
    "date_from = (datetime.now() - timedelta(days=1)).strftime('%Y-%m-%dT%H:%M:%S')\n",
    "\n",
    "# The base URL for the NewsAPI\n",
    "url = 'https://newsapi.org/v2/everything'\n",
    "\n",
    "# Parameters for the API request\n",
    "parameters = {\n",
    "    'q': symbol,  # Query term\n",
    "    'from': date_from,  # Get news from the last 24 hours\n",
    "    'sortBy': 'publishedAt',  # Sort by publication date\n",
    "    'apiKey': NEWSAPI_API_KEY  # Your API key\n",
    "}\n",
    "\n",
    "# Make the request to the NewsAPI\n",
    "response = requests.get(url, params=parameters)\n",
    "\n",
    "# Check if the request was successful\n",
    "if response.status_code == 200:\n",
    "    # Get the response data\n",
    "    data = response.json()\n",
    "    \n",
    "    # Print the articles\n",
    "    markdown_str = \"\"\n",
    "    for article in data['articles']:\n",
    "        date_object = datetime.strptime(item['time_published'], \"%Y%m%dT%H%M%S\")\n",
    "        display_title = article['title'].replace(\"$\", \"\\\\\\$\")  # so Markdown doesn't interpret as latex escape\n",
    "        markdown_str += f\"[{article['publishedAt']} {display_title}]({item['url']}) \\n\\n\"\n",
    "\n",
    "    display(Markdown(markdown_str))\n",
    "else:\n",
    "    print('Failed to retrieve data')"
   ]
  },
  {
   "cell_type": "code",
   "execution_count": 79,
   "id": "7f4c4063",
   "metadata": {},
   "outputs": [
    {
     "data": {
      "text/plain": [
       "('2024-03-03', '2024-04-03')"
      ]
     },
     "execution_count": 79,
     "metadata": {},
     "output_type": "execute_result"
    }
   ],
   "source": [
    "now = datetime.now()\n",
    "end_date = now.strftime('%Y-%m-%d')\n",
    "# start_date = datetime.now() - timedelta(days=30)\n",
    "sdate = datetime(now.year, now.month-1, now.day)\n",
    "start_date = sdate.strftime('%Y-%m-%d')\n",
    "start_date, end_date"
   ]
  },
  {
   "cell_type": "code",
   "execution_count": 94,
   "id": "a792f20b",
   "metadata": {},
   "outputs": [
    {
     "data": {
      "text/markdown": [
       "[2024-04-03 16:49:51 Baird Maintains Outperform on Tesla, Lowers Price Target to \\\\$280](https://newsfilter.io/articles/baird-maintains-outperform-on-tesla-lowers-price-target-to-280-70ffac859081da5a9fdfe3c5fe8ab934)\n",
       " Baird analyst Ben Kallo maintains Tesla with a Outperform and lowers the price target from $300 to $280."
      ],
      "text/plain": [
       "<IPython.core.display.Markdown object>"
      ]
     },
     "metadata": {},
     "output_type": "display_data"
    },
    {
     "data": {
      "text/markdown": [
       "[2024-04-03 13:36:16 Truist Securities Reiterates Hold on Tesla, Lowers Price Target to \\\\$176](https://newsfilter.io/articles/truist-securities-reiterates-hold-on-tesla-lowers-price-target-to-176-b7b2dfc1073fe46dd3848af9b7ba9280)\n",
       " Truist Securities analyst William Stein reiterates Tesla with a Hold and lowers the price target from $193 to $176."
      ],
      "text/plain": [
       "<IPython.core.display.Markdown object>"
      ]
     },
     "metadata": {},
     "output_type": "display_data"
    },
    {
     "data": {
      "text/markdown": [
       "[2024-04-03 13:11:15 JP Morgan Maintains Underweight on Tesla, Lowers Price Target to \\\\$115](https://newsfilter.io/articles/jp-morgan-maintains-underweight-on-tesla-lowers-price-target-to-115-35032a44204bb929d53f197699c5c28e)\n",
       " JP Morgan analyst Ryan Brinkman maintains Tesla with a Underweight and lowers the price target from $130 to $115."
      ],
      "text/plain": [
       "<IPython.core.display.Markdown object>"
      ]
     },
     "metadata": {},
     "output_type": "display_data"
    },
    {
     "data": {
      "text/markdown": [
       "[2024-04-03 12:59:00 What If Tesla Really Is Just Another Car Company? That’s a Nightmare for the Stock.](https://newsfilter.io/articles/what-if-tesla-really-is-just-another-car-company-thats-a-nightmare-for-the-stock-aee8a3440acbf69cc5d2f2a4f291b974)\n",
       " Tesla investors’ big nightmare might be that the electric-vehicle maker’s just an upscale Toyota Motor."
      ],
      "text/plain": [
       "<IPython.core.display.Markdown object>"
      ]
     },
     "metadata": {},
     "output_type": "display_data"
    },
    {
     "data": {
      "text/markdown": [
       "[2024-04-03 12:49:00 Intel, Tesla, SoFi, Cal-Maine, Dave & Buster’s, Disney, and More Stock Market Movers](https://newsfilter.io/articles/intel-tesla-sofi-cal-maine-dave--busters-disney-and-more-stock-market-movers-0d0c7bd7ef03b650fb9a23b92ed80d78)\n",
       " Intel stock tumbles after the company’s foundry business records an operating loss of about $7 billion in 2023, while Tesla extends losses after a sharp decline in first-quarter deliveries."
      ],
      "text/plain": [
       "<IPython.core.display.Markdown object>"
      ]
     },
     "metadata": {},
     "output_type": "display_data"
    },
    {
     "data": {
      "text/markdown": [
       "[2024-04-03 12:19:37 HSBC Maintains Reduce on Tesla, Lowers Price Target to \\\\$138](https://newsfilter.io/articles/hsbc-maintains-reduce-on-tesla-lowers-price-target-to-138-58ea27d95427b1bb030ee87e63767cee)\n",
       " HSBC analyst Michael Tyndall maintains Tesla with a Reduce and lowers the price target from $143 to $138."
      ],
      "text/plain": [
       "<IPython.core.display.Markdown object>"
      ]
     },
     "metadata": {},
     "output_type": "display_data"
    },
    {
     "data": {
      "text/markdown": [
       "[2024-04-03 12:18:00 Tesla Might Be Just Another Car Company. What That Means for the Stock.](https://newsfilter.io/articles/tesla-might-be-just-another-car-company-what-that-means-for-the-stock-37a55c132556baaebc9ad43a57a4bace)\n",
       " Tesla investors’ big nightmare might be that the electric-vehicle maker’s just an upscale Toyota Motor."
      ],
      "text/plain": [
       "<IPython.core.display.Markdown object>"
      ]
     },
     "metadata": {},
     "output_type": "display_data"
    },
    {
     "data": {
      "text/markdown": [
       "[2024-04-03 11:28:45 Noted Tesla bear says Musk's EV maker could 'go bust,' says stock is worth \\\\$14](https://newsfilter.io/articles/noted-tesla-bear-says-musks-ev-maker-could-go-bust-says-stock-is-worth-14-d9ca5a4df51dba5597dd5673f8352f49)\n",
       " Tesla is facing a price war, intense competition from Chinese players and weakening demand for its electric cars. "
      ],
      "text/plain": [
       "<IPython.core.display.Markdown object>"
      ]
     },
     "metadata": {},
     "output_type": "display_data"
    },
    {
     "data": {
      "text/markdown": [
       "[2024-04-03 10:38:00 Tesla’s Slump Exposes Magnificent 7 Cracks. Why Fed Rate Cuts Can Widen Them.](https://newsfilter.io/articles/teslas-slump-exposes-magnificent-7-cracks-why-fed-rate-cuts-can-widen-them-2e065ed5c17822ebd5f1b96d15a20a50)\n",
       " "
      ],
      "text/plain": [
       "<IPython.core.display.Markdown object>"
      ]
     },
     "metadata": {},
     "output_type": "display_data"
    },
    {
     "data": {
      "text/markdown": [
       "[2024-04-03 08:51:00 Alibaba, AMD, Super Micro, Intel and Other Tech Stocks in Focus Today](https://newsfilter.io/articles/alibaba-amd-super-micro-intel-and-other-tech-stocks-in-focus-today-fb13643c43286112eb7dafa9e197830a)\n",
       " It’s been a tough start to the quarter for technology stocks. The tech-heavy Nasdaq Composite Index fell 1% Tuesday and looked set to open lower again Wednesday."
      ],
      "text/plain": [
       "<IPython.core.display.Markdown object>"
      ]
     },
     "metadata": {},
     "output_type": "display_data"
    }
   ],
   "source": [
    "API_KEY = os.environ['NEWSFILTER_API_KEY']\n",
    "API_ENDPOINT = \"https://api.newsfilter.io/search?token={}\".format(API_KEY)\n",
    "\n",
    "# Define the news search parameters\n",
    "queryString = f\"symbols:{symbol} AND publishedAt:[{start_date} TO {end_date}]\"\n",
    "\n",
    "payload = {\n",
    "    \"queryString\": queryString,\n",
    "    \"from\": 0,\n",
    "    \"size\": 10\n",
    "}\n",
    "\n",
    "# Send the search query to the Search API\n",
    "response = requests.post(API_ENDPOINT, json=payload)\n",
    "\n",
    "# Read the response\n",
    "articles = response.json()\n",
    "\n",
    "\n",
    "# Read the response\n",
    "articles = response.json()\n",
    "\n",
    "for item in articles['articles']:\n",
    "    markdown_str = \"\"\n",
    "    date_array = item['publishedAt'].split(\"T\")\n",
    "    datestr = date_array[0] + \"T\" + date_array[1][:8]\n",
    "#     print(item['publishedAt'])\n",
    "#     print(date_array)\n",
    "#     print(datestr)\n",
    "    date_object = datetime.strptime(datestr, \"%Y-%m-%dT%H:%M:%S\")\n",
    "    display_title = item['title'].replace(\"$\", \"\\\\\\$\")  # so Markdown doesn't interpret as latex escape\n",
    "    description = item['description'].replace(\"$\", \"\\\\\\$\")\n",
    "\n",
    "    markdown_str += f\"[{str(date_object)} {display_title}]({item['url']})\\n {description}\"\n",
    "    display(Markdown(markdown_str))"
   ]
  },
  {
   "cell_type": "code",
   "execution_count": 29,
   "id": "e6ad54ef",
   "metadata": {},
   "outputs": [
    {
     "name": "stdout",
     "output_type": "stream",
     "text": [
      "16:49:12 Starting\n",
      "16:49:46 Initialized profile\n",
      "16:49:46 Initialized service\n",
      "16:50:59 Initialized webdriver\n"
     ]
    }
   ],
   "source": [
    "# open pages via selenium and firefox\n",
    "outputdir = \"htmldata\"\n",
    "\n",
    "# Print the formatted time\n",
    "print(datetime.now().strftime('%H:%M:%S'), \"Starting\", flush=True)\n",
    "\n",
    "firefox_app_path = '/Applications/Firefox.app'\n",
    "# Path to your geckodriver\n",
    "geckodriver_path = '/Users/drucev/webdrivers/geckodriver'\n",
    "\n",
    "# Set up Firefox options to use your existing profile\n",
    "# important for some sites that need a login, also a generic profile fingerprint that looks like a bot might get blocked\n",
    "firefox_profile_path = '/Users/drucev/Library/Application Support/Firefox/Profiles/k8k0lcjj.default-release'\n",
    "options = Options()\n",
    "options.profile = firefox_profile_path\n",
    "\n",
    "print(datetime.now().strftime('%H:%M:%S'), \"Initialized profile\", flush=True)\n",
    "\n",
    "# Create a Service object with the path\n",
    "service = Service(geckodriver_path)\n",
    "\n",
    "print(datetime.now().strftime('%H:%M:%S'), \"Initialized service\", flush=True)\n",
    "# Set up the Firefox driver\n",
    "driver = webdriver.Firefox(service=service, options=options)\n",
    "\n",
    "print(datetime.now().strftime('%H:%M:%S'), \"Initialized webdriver\", flush=True)\n",
    "sleeptime = 10\n"
   ]
  },
  {
   "cell_type": "code",
   "execution_count": 30,
   "id": "d694ae26",
   "metadata": {},
   "outputs": [],
   "source": [
    "# Open a new tab\n",
    "def open_tab(driver, url):\n",
    "    driver.execute_script(f\"window.open('{url}');\")\n",
    "    # Switch to last one opened - sometimes hangs?\n",
    "    # driver.switch_to.window(driver.window_handles[-1])\n",
    "    # print(url)\n",
    "    # time.sleep(sleeptime)  \n"
   ]
  },
  {
   "cell_type": "code",
   "execution_count": 31,
   "id": "d3107671",
   "metadata": {},
   "outputs": [
    {
     "data": {
      "text/markdown": [
       "[Stockcharts](https://stockcharts.com/h-sc/ui?s=TSLA&id=p33407302522&def=Y&listNum=1#)"
      ],
      "text/plain": [
       "<IPython.core.display.Markdown object>"
      ]
     },
     "metadata": {},
     "output_type": "display_data"
    }
   ],
   "source": [
    "url = f\"https://stockcharts.com/h-sc/ui?s={symbol}&id=p33407302522&def=Y&listNum=1#\"\n",
    "source = \"Stockcharts\"\n",
    "# Open the page\n",
    "driver.get(url)\n",
    "\n",
    "# Wait for the page to load\n",
    "# time.sleep(sleeptime)  \n",
    "display(Markdown(f\"[{source}]({url})\"))"
   ]
  },
  {
   "cell_type": "code",
   "execution_count": 32,
   "id": "db5b36a6",
   "metadata": {},
   "outputs": [
    {
     "data": {
      "text/markdown": [
       "[Bloomberg](https://www.bloomberg.com/search?query=Tesla)"
      ],
      "text/plain": [
       "<IPython.core.display.Markdown object>"
      ]
     },
     "metadata": {},
     "output_type": "display_data"
    }
   ],
   "source": [
    "url = f'https://www.bloomberg.com/search?query={company}'\n",
    "source = \"Bloomberg\"\n",
    "open_tab(driver, url)\n",
    "display(Markdown(f\"[{source}]({url})\"))"
   ]
  },
  {
   "cell_type": "code",
   "execution_count": 33,
   "id": "b854cf04",
   "metadata": {},
   "outputs": [
    {
     "data": {
      "text/markdown": [
       "[Reuters](https://www.reuters.com/site-search/?query=Tesla&offset=0)"
      ],
      "text/plain": [
       "<IPython.core.display.Markdown object>"
      ]
     },
     "metadata": {},
     "output_type": "display_data"
    }
   ],
   "source": [
    "url = f'https://www.reuters.com/site-search/?query={company}&offset=0'\n",
    "source = \"Reuters\"\n",
    "open_tab(driver, url)\n",
    "display(Markdown(f\"[{source}]({url})\"))"
   ]
  },
  {
   "cell_type": "code",
   "execution_count": 34,
   "id": "38912e8f",
   "metadata": {},
   "outputs": [
    {
     "data": {
      "text/markdown": [
       "[Yahoo quote](https://finance.yahoo.com/quote/TSLA/news)"
      ],
      "text/plain": [
       "<IPython.core.display.Markdown object>"
      ]
     },
     "metadata": {},
     "output_type": "display_data"
    }
   ],
   "source": [
    "url = f'https://finance.yahoo.com/quote/{symbol}/news'\n",
    "source = \"Yahoo quote\"\n",
    "open_tab(driver, url)\n",
    "display(Markdown(f\"[{source}]({url})\"))"
   ]
  },
  {
   "cell_type": "code",
   "execution_count": 35,
   "id": "b546c41f",
   "metadata": {},
   "outputs": [
    {
     "data": {
      "text/markdown": [
       "[Yahoo stats](https://finance.yahoo.com/quote/TSLA/key-statistics?ltr=1)"
      ],
      "text/plain": [
       "<IPython.core.display.Markdown object>"
      ]
     },
     "metadata": {},
     "output_type": "display_data"
    }
   ],
   "source": [
    "url = f'https://finance.yahoo.com/quote/{symbol}/key-statistics?ltr=1'\n",
    "source = \"Yahoo stats\"\n",
    "open_tab(driver, url)\n",
    "display(Markdown(f\"[{source}]({url})\"))"
   ]
  },
  {
   "cell_type": "code",
   "execution_count": 36,
   "id": "b4b8e6ce",
   "metadata": {},
   "outputs": [
    {
     "data": {
      "text/markdown": [
       "[FT](https://www.ft.com/search?q=Tesla)"
      ],
      "text/plain": [
       "<IPython.core.display.Markdown object>"
      ]
     },
     "metadata": {},
     "output_type": "display_data"
    }
   ],
   "source": [
    "url = f'https://www.ft.com/search?q={company}'\n",
    "source = \"FT\"\n",
    "open_tab(driver, url)\n",
    "display(Markdown(f\"[{source}]({url})\"))"
   ]
  },
  {
   "cell_type": "code",
   "execution_count": 37,
   "id": "936a210b",
   "metadata": {},
   "outputs": [
    {
     "data": {
      "text/markdown": [
       "[Marketwatch](https://www.marketwatch.com/investing/stock/TSLA?mod=search_symbol)"
      ],
      "text/plain": [
       "<IPython.core.display.Markdown object>"
      ]
     },
     "metadata": {},
     "output_type": "display_data"
    }
   ],
   "source": [
    "url = f'https://www.marketwatch.com/investing/stock/{symbol}?mod=search_symbol'\n",
    "source = \"Marketwatch\"\n",
    "open_tab(driver, url)\n",
    "display(Markdown(f\"[{source}]({url})\"))"
   ]
  },
  {
   "cell_type": "code",
   "execution_count": 38,
   "id": "36bd4b7a",
   "metadata": {},
   "outputs": [
    {
     "data": {
      "text/markdown": [
       "[Barrons](https://www.barrons.com/market-data/stocks/TSLA?mod=searchresults_companyquotes&mod=searchbar&search_keywords=Tesla&search_statement_type=suggested)"
      ],
      "text/plain": [
       "<IPython.core.display.Markdown object>"
      ]
     },
     "metadata": {},
     "output_type": "display_data"
    }
   ],
   "source": [
    "url = f'https://www.barrons.com/market-data/stocks/{symbol}?mod=searchresults_companyquotes&mod=searchbar&search_keywords={company}&search_statement_type=suggested'    \n",
    "source = \"Barrons\"\n",
    "open_tab(driver, url)\n",
    "display(Markdown(f\"[{source}]({url})\"))"
   ]
  },
  {
   "cell_type": "code",
   "execution_count": 39,
   "id": "ecf82b37",
   "metadata": {},
   "outputs": [
    {
     "data": {
      "text/markdown": [
       "[Insider](https://www.businessinsider.com/s?q=Tesla)"
      ],
      "text/plain": [
       "<IPython.core.display.Markdown object>"
      ]
     },
     "metadata": {},
     "output_type": "display_data"
    }
   ],
   "source": [
    "url = f'https://www.businessinsider.com/s?q={company}'\n",
    "source = \"Insider\"\n",
    "open_tab(driver, url)\n",
    "display(Markdown(f\"[{source}]({url})\"))"
   ]
  },
  {
   "cell_type": "code",
   "execution_count": 40,
   "id": "07a59ba0",
   "metadata": {},
   "outputs": [
    {
     "data": {
      "text/markdown": [
       "[Google Finance](https://www.google.com/finance/quote/NASDAQ:TSLA)"
      ],
      "text/plain": [
       "<IPython.core.display.Markdown object>"
      ]
     },
     "metadata": {},
     "output_type": "display_data"
    }
   ],
   "source": [
    "url = f'https://www.google.com/finance/quote/{symbol}:{exchange}'\n",
    "source = \"Google Finance\"\n",
    "open_tab(driver, url)\n",
    "display(Markdown(f\"[{source}]({url})\"))"
   ]
  },
  {
   "cell_type": "code",
   "execution_count": 41,
   "id": "ca5dd4d3",
   "metadata": {},
   "outputs": [
    {
     "data": {
      "text/markdown": [
       "[FinViz](https://finviz.com/quote.ashx?t=TSLA&p=d)"
      ],
      "text/plain": [
       "<IPython.core.display.Markdown object>"
      ]
     },
     "metadata": {},
     "output_type": "display_data"
    }
   ],
   "source": [
    "url = f'https://finviz.com/quote.ashx?t={symbol}&p=d'\n",
    "source = \"FinViz\"\n",
    "open_tab(driver, url)\n",
    "display(Markdown(f\"[{source}]({url})\"))"
   ]
  },
  {
   "cell_type": "code",
   "execution_count": 42,
   "id": "a658c304",
   "metadata": {},
   "outputs": [
    {
     "data": {
      "text/markdown": [
       "[Reddit](https://www.reddit.com/search?q=Tesla&include_over_18=on&sort=relevance&t=all)"
      ],
      "text/plain": [
       "<IPython.core.display.Markdown object>"
      ]
     },
     "metadata": {},
     "output_type": "display_data"
    }
   ],
   "source": [
    "url = f'https://www.reddit.com/search?q={company}&include_over_18=on&sort=relevance&t=all'\n",
    "source = \"Reddit\"\n",
    "open_tab(driver, url)\n",
    "display(Markdown(f\"[{source}]({url})\"))"
   ]
  },
  {
   "cell_type": "code",
   "execution_count": 43,
   "id": "42a06f35",
   "metadata": {},
   "outputs": [
    {
     "data": {
      "text/markdown": [
       "[Morningstar](https://www.morningstar.com/stocks/xnas/TSLA/quote)"
      ],
      "text/plain": [
       "<IPython.core.display.Markdown object>"
      ]
     },
     "metadata": {},
     "output_type": "display_data"
    }
   ],
   "source": [
    "morn_exch = morningstarmap[exchange]\n",
    "url = f'https://www.morningstar.com/stocks/{morn_exch}/{symbol}/quote'\n",
    "source = \"Morningstar\"\n",
    "open_tab(driver, url)\n",
    "display(Markdown(f\"[{source}]({url})\"))\n",
    "    "
   ]
  },
  {
   "cell_type": "code",
   "execution_count": null,
   "id": "3d8ff0b6",
   "metadata": {},
   "outputs": [],
   "source": [
    "url = f'https://whalewisdom.com/stock/{symbol}'\n",
    "source = \"WhaleWisdom\"\n",
    "open_tab(driver, url)\n",
    "display(Markdown(f\"[{source}]({url})\"))\n"
   ]
  },
  {
   "cell_type": "code",
   "execution_count": null,
   "id": "fee0adb6",
   "metadata": {},
   "outputs": [],
   "source": [
    "url = f'https://www.gurufocus.com/stock/{symbol}/guru-trades'\n",
    "source = \"GuruFocus\"\n",
    "open_tab(driver, url)\n",
    "display(Markdown(f\"[{source}]({url})\"))\n"
   ]
  },
  {
   "cell_type": "code",
   "execution_count": null,
   "id": "1c1162f6",
   "metadata": {},
   "outputs": [],
   "source": [
    "https://www.barchart.com/stocks/highs-lows/lows?orderBy=highPercent1y&orderDir=asc\n",
    "    https://stockcharts.com/h-sc/ui?s=%24DJUSEN&id=p33407302522&def=Y&listNum=1\n",
    "        https://stockcharts.com/h-sc/ui?s=%24DJUSDN&id=p33407302522&def=Y&listNum=1"
   ]
  }
 ],
 "metadata": {
  "kernelspec": {
   "display_name": "ainewsbot",
   "language": "python",
   "name": "ainewsbot"
  },
  "language_info": {
   "codemirror_mode": {
    "name": "ipython",
    "version": 3
   },
   "file_extension": ".py",
   "mimetype": "text/x-python",
   "name": "python",
   "nbconvert_exporter": "python",
   "pygments_lexer": "ipython3",
   "version": "3.9.19"
  }
 },
 "nbformat": 4,
 "nbformat_minor": 5
}
