{
 "cells": [
  {
   "cell_type": "markdown",
   "id": "5dafe599",
   "metadata": {},
   "source": [
    "# TearSheet.ipynb\n",
    "\n",
    "- doesn't actually generate a tearsheet like a classic print [S&P or Value Line tearsheet](https://financetrain.com/what-is-a-tear-sheet) on a company\n",
    "- asks Perplexity a few basic questions about the company\n",
    "- gets info from AlphaVantage\n",
    "- opens a bunch of browser tabs from major services about the company\n",
    "- could potentially save those and scrape them to make a tearsheet.\n"
   ]
  },
  {
   "cell_type": "markdown",
   "id": "5ab5ad1f-c5f3-4ed0-91a2-8c5385df9899",
   "metadata": {},
   "source": [
    "Updated version\n",
    "- profile - get info from perplexity , other company profiles, openbb, sec filings, wikipedia generate a description of the company, focus on business model history of the company\n",
    "- news\n",
    "  - get latest news\n",
    "  - scrape news using scraper - grab headlines matching pattern\n",
    "  - filter stuff by how relevant to the company\n",
    "- chart\n",
    "- key ratios, top holders\n",
    "- generate tear sheet using tools\n",
    "- question answering chatbot using tools\n"
   ]
  },
  {
   "cell_type": "code",
   "execution_count": 1,
   "id": "d71cafca",
   "metadata": {},
   "outputs": [],
   "source": [
    "import dotenv\n",
    "import sys\n",
    "import os\n",
    "import re\n",
    "from datetime import datetime, timedelta\n",
    "import time\n",
    "\n",
    "import pandas as pd\n",
    "\n",
    "import requests\n",
    "import json\n",
    "\n",
    "import openai\n",
    "from openai import OpenAI\n",
    "\n",
    "import IPython\n",
    "from IPython.display import HTML, Image, Markdown, display\n",
    "\n",
    "from selenium import webdriver\n",
    "from selenium.webdriver.common.by import By\n",
    "# use firefox because it updates less often, can disable updates\n",
    "# recommend importing profile from Chrome for cookies, passwords\n",
    "# looks less like a bot with more user cruft in the profile\n",
    "from selenium.webdriver.firefox.options import Options\n",
    "from selenium.webdriver.firefox.service import Service\n"
   ]
  },
  {
   "cell_type": "code",
   "execution_count": 2,
   "id": "9f59bf5d",
   "metadata": {},
   "outputs": [],
   "source": [
    "company = \"Tesla\"\n",
    "symbol = \"TSLA\"\n"
   ]
  },
  {
   "cell_type": "code",
   "execution_count": 3,
   "id": "174dc59a",
   "metadata": {},
   "outputs": [
    {
     "data": {
      "text/plain": [
       "True"
      ]
     },
     "execution_count": 3,
     "metadata": {},
     "output_type": "execute_result"
    }
   ],
   "source": [
    "dotenv.load_dotenv()\n",
    "\n"
   ]
  },
  {
   "cell_type": "code",
   "execution_count": 4,
   "id": "71d8d3c6",
   "metadata": {},
   "outputs": [],
   "source": [
    "system_prompt = \"\"\"\n",
    "You will act as a securities analyst and investment advisor with deep knowledge of financial markets, \n",
    "securities analysis, portfolio management. You will maintain a professional yet engaging tone, \n",
    "in the style of a senior investment bank research analyst.\"\n",
    "\"\"\"\n",
    "\n",
    "user_prompt = f\"\"\"You will focus on {company} ({symbol}), and provide a comprehensive analysis covering the following aspects:\n",
    "\n",
    "Company Profile: An overview of {company}, including its lines of business, history, and recent key developments.\n",
    "\n",
    "Major News: Significant events related to {company} or its industry impacting its stock.\n",
    "\n",
    "Financial Performance: Recent earnings reports and stock performance compared to expectations, changes in dividends or stock buybacks.\n",
    "\n",
    "Analyst Coverage: summarize recent changes to analysts' ratings noting which analyst and firms made upgrades or downgrades; summarize any recent short seller reports noting the firm and analyst.\n",
    "\n",
    "Product Announcements: Launch of new products, strategic initiatives, or restructurings.\n",
    "\n",
    "Strategic Moves: Information on deals, partnerships, mergers, acquisitions, divestitures, joint ventures, and major new business and revenue.\n",
    "\n",
    "Securities Offerings: Announcements related to stock or bond issuances, buybacks, special dividends, or stock splits.\n",
    "\n",
    "Management Changes: Significant personnel changes within {company}.\n",
    "\n",
    "Stock Price Movements: Notable stock price changes and their reasons.\n",
    "\n",
    "Timeline and Future Outlook: A timeline of these events \"\"\"\n"
   ]
  },
  {
   "cell_type": "code",
   "execution_count": 5,
   "id": "8360a1c0",
   "metadata": {},
   "outputs": [
    {
     "data": {
      "text/markdown": [
       "## Company Profile\n",
       "\n",
       "Tesla, Inc. is a leading company in the design, development, manufacture, and sale of electric vehicles (EVs) and energy generation and storage systems. The company operates under two primary segments: Automotive and Energy Generation and Storage. The Automotive segment includes the creation, production, marketing, and leasing of electric vehicles, as well as the sale of automotive regulatory credits. The Energy Generation and Storage segment focuses on the design, manufacture, installation, sale, and lease of stationary energy storage products and solar energy systems. Additionally, the segment sells solar energy systems incentives. Tesla's headquarters is located in Austin, TX.\n",
       "\n",
       "## Major News\n",
       "\n",
       "Recently, Tesla's stock experienced a 15% surge this week following the release of its first-quarter earnings. A former high-ranking executive, Drew Baglino, sold over 1 million shares of TSLA for approximately \\\\$181.5 million. Baglino, who previously served as senior vice president of powertrain and energy at Tesla, announced his departure from the company on April 15. Elon Musk, Tesla's CEO, also announced plans to reduce the workforce by more than 10%, aiming to prepare for the next phase of growth.\n",
       "\n",
       "## Financial Performance\n",
       "\n",
       "Tesla reported its first-quarter earnings and revenue on Tuesday. The stock price advanced around 0.7% during Friday's premarket trading and has gained over 15% on the week. Despite the weekly gain, Tesla shares remain approximately 3.3% below their April value. Last week, Tesla stock plummeted 14% and dipped below April 2023 lows.\n",
       "\n",
       "## Analyst Coverage\n",
       "\n",
       "Currently, the analyst ratings for Tesla, Inc. (TSLA) are:\n",
       "\n",
       "- Buy: [percentage]%\n",
       "- Hold: [percentage]%\n",
       "- Sell: [percentage]%\n",
       "\n",
       "(Note: Percentages may vary)\n",
       "\n",
       "## Product Announcements\n",
       "\n",
       "No significant product announcements have been made recently.\n",
       "\n",
       "## Strategic Moves\n",
       "\n",
       "Tesla's stock price is currently testing resistance at its 10-week moving average. The company has faced challenges in reclaiming this level throughout much of 2024. A decisive break above resistance could signal a positive development. Conversely, if Tesla stock fails to regain its 10-week moving average, this declining marker may continue to function as a barrier to the stock price.\n",
       "\n",
       "## Securities Offerings\n",
       "\n",
       "No significant securities offerings have been announced recently.\n",
       "\n",
       "## Management Changes\n",
       "\n",
       "Drew Baglino, a former high-ranking executive at Tesla, sold over 1 million shares of TSLA for approximately \\\\$181.5 million. Baglino, who previously served as senior vice president of powertrain and energy at Tesla, announced his departure from the company on April 15. Elon Musk, Tesla's CEO, also announced plans to reduce the workforce by more than 10%, aiming to prepare for the next phase of growth.\n",
       "\n",
       "## Stock Price Movements\n",
       "\n",
       "Tesla stock experienced a 15% surge this week following the release of its first-quarter earnings. The stock price advanced around 0.7% during Friday's premarket trading and has gained over 15% on the week. Despite the weekly gain, Tesla shares remain approximately 3.3% below their April value. Last week, Tesla stock plummeted 14% and dipped below April 2023 lows.\n",
       "\n",
       "## Timeline and Future Outlook\n",
       "\n",
       "Tesla's stock price has been volatile in recent weeks, with a 15% surge this week following the release of its first-quarter earnings. The company has faced challenges in reclaiming its 10-week moving average, which may continue to function as a barrier to the stock price. The future outlook for Tesla stock depends on its ability to overcome these challenges and continue its growth trajectory."
      ],
      "text/plain": [
       "<IPython.core.display.Markdown object>"
      ]
     },
     "metadata": {},
     "output_type": "display_data"
    }
   ],
   "source": [
    "perplexity_url = \"https://api.perplexity.ai/chat/completions\"\n",
    "\n",
    "payload = {\n",
    "    \"model\": \"pplx-7b-online\",\n",
    "    \"messages\": [\n",
    "        {\n",
    "            \"role\": \"system\",\n",
    "            \"content\": system_prompt,\n",
    "        },\n",
    "        {\n",
    "            \"role\": \"user\",\n",
    "            \"content\": user_prompt,\n",
    "        }\n",
    "    ]\n",
    "}\n",
    "\n",
    "perplexity_headers = {\n",
    "    \"Authorization\": f\"Bearer {os.getenv('PERPLEXITY_API_KEY')}\",\n",
    "    \"accept\": \"application/json\",\n",
    "    \"content-type\": \"application/json\"\n",
    "}\n",
    "\n",
    "response = requests.post(perplexity_url, json=payload, headers=perplexity_headers)\n",
    "response_str = response.json()['choices'][0]['message']['content']\n",
    "response_str = response_str.replace(\"$\", \"\\\\\\$\")\n",
    "display(Markdown(response_str))\n"
   ]
  },
  {
   "cell_type": "code",
   "execution_count": null,
   "id": "a8cb1eb3-fbad-4158-bd5c-a43e92c98afc",
   "metadata": {},
   "outputs": [],
   "source": [
    "# stuff to focus on\n",
    "# - is it growing\n",
    "# - is it quality, does it have a moat and consistent earnings\n",
    "# - are customers loyal , \n",
    "# - are employees and management long-tenured\n",
    "# - is capital intensive\n",
    "# - does it have a lot of debt\n",
    "# - does it have quality management that are operators as opposed to promoters or financiers\n",
    "\n",
    "- "
   ]
  },
  {
   "cell_type": "code",
   "execution_count": 6,
   "id": "cd8cfd01",
   "metadata": {},
   "outputs": [
    {
     "data": {
      "text/markdown": [
       "As of April 26, 2024, the current analyst ratings on Tesla (TSLA) are not explicitly mentioned in the search results provided. However, based on the information available, we can infer that the short interest ratio for Tesla is 1.75 days to cover, indicating strong positive sentiment about the stock and a lack of short sellers. This suggests that the analyst ratings for Tesla are generally positive, as short interest ratios below 4 are typically associated with bullish sentiment.\n",
       "\n",
       "There is no mention of any short sellers issuing reports on Tesla in the search results.\n",
       "\n",
       "Notable analyst reports on Tesla include those from MarketBeat and Barchart. MarketBeat offers a suite of research tools that includes news, buy/sell ratings, SEC filings, insider transactions, and personalized stock ideas based on a user's portfolio. Barchart provides stock analyst ratings on a scale of 1 to 5, with 1 being a strong buy and 5 being a strong sell. However, the specific ratings for Tesla are not mentioned in the search results."
      ],
      "text/plain": [
       "<IPython.core.display.Markdown object>"
      ]
     },
     "metadata": {},
     "output_type": "display_data"
    }
   ],
   "source": [
    "user_prompt = f\"\"\"What are the current analyst ratings on {company} ({symbol})? \n",
    "Which short sellers issued reports on {company}, if any? Summarize any notable analyst reports.\"\"\"\n",
    "\n",
    "payload = {\n",
    "    \"model\": \"pplx-7b-online\",\n",
    "    \"messages\": [\n",
    "        {\n",
    "            \"role\": \"system\",\n",
    "            \"content\": system_prompt,\n",
    "        },\n",
    "        {\n",
    "            \"role\": \"user\",\n",
    "            \"content\": user_prompt,\n",
    "        }\n",
    "    ]\n",
    "}\n",
    "\n",
    "response = requests.post(perplexity_url, json=payload, headers=perplexity_headers)\n",
    "response_str = response.json()['choices'][0]['message']['content']\n",
    "response_str = response_str.replace(\"$\", \"\\\\\\$\")\n",
    "display(Markdown(response_str))\n"
   ]
  },
  {
   "cell_type": "code",
   "execution_count": 7,
   "id": "4b6f62d1",
   "metadata": {},
   "outputs": [
    {
     "data": {
      "text/markdown": [
       "In the past year, several notable news stories have emerged about Tesla (TSLA), including investigations and management profiles. Here are some of the key events and reports:\n",
       "\n",
       "1. **Justice Department Investigation**: In October 2023, the Justice Department expanded its investigation into Tesla beyond the electric vehicle maker's partially automated driving systems. The investigation now includes \"personal benefits, related parties, vehicle range, and personnel decisions.\" Tesla disclosed this in a quarterly report filed with the Securities and Exchange Commission, suggesting that prosecutors may be investigating Tesla CEO Elon Musk and the company's representations about its vehicles.\n",
       "\n",
       "2. **Recall Investigation**: In July 2023, Tesla faced an investigation over a recall for 2 million cars due to issues with its Autopilot system.\n",
       "\n",
       "3. **Secret Team to Suppress Driving Range Complaints**: In July 2023, Tesla was found to have created a secret team to suppress thousands of driving range complaints. The team was tasked with diverting customers who did not require in-person service and offering tips on extending range by changing driving habits.\n",
       "\n",
       "4. **NHTSA Investigation**: In August 2023, the National Highway Traffic Safety Administration (NHTSA) opened a probe into Tesla's Autopilot system in response to a dozen complaints of reported loss of steering control.\n",
       "\n",
       "5. **Executive Probes**: In August 2023, Tesla faced multiple US investigations, with current and former executives subpoenaed.\n",
       "\n",
       "These investigations and reports highlight the ongoing scrutiny of Tesla's operations and management, particularly in the areas of vehicle safety and consumer protection."
      ],
      "text/plain": [
       "<IPython.core.display.Markdown object>"
      ]
     },
     "metadata": {},
     "output_type": "display_data"
    }
   ],
   "source": [
    "user_prompt = f\"\"\"Have there been any notable news stories about {company} ({symbol}) in the past year, including management profiles and investigative reports? \n",
    "For any notable stories, provide the date of publication and the media that reported them.\"\"\"\n",
    "\n",
    "payload = {\n",
    "    \"model\": \"pplx-7b-online\",\n",
    "    \"messages\": [\n",
    "        {\n",
    "            \"role\": \"system\",\n",
    "            \"content\": system_prompt,\n",
    "        },\n",
    "        {\n",
    "            \"role\": \"user\",\n",
    "            \"content\": user_prompt,\n",
    "        }\n",
    "    ]\n",
    "}\n",
    "\n",
    "response = requests.post(perplexity_url, json=payload, headers=perplexity_headers)\n",
    "response_str = response.json()['choices'][0]['message']['content']\n",
    "response_str = response_str.replace(\"$\", \"\\\\\\$\")\n",
    "display(Markdown(response_str))\n"
   ]
  },
  {
   "cell_type": "code",
   "execution_count": 8,
   "id": "ccd856ae",
   "metadata": {},
   "outputs": [
    {
     "data": {
      "text/html": [
       "<div>\n",
       "<style scoped>\n",
       "    .dataframe tbody tr th:only-of-type {\n",
       "        vertical-align: middle;\n",
       "    }\n",
       "\n",
       "    .dataframe tbody tr th {\n",
       "        vertical-align: top;\n",
       "    }\n",
       "\n",
       "    .dataframe thead th {\n",
       "        text-align: right;\n",
       "    }\n",
       "</style>\n",
       "<table border=\"1\" class=\"dataframe\">\n",
       "  <thead>\n",
       "    <tr style=\"text-align: right;\">\n",
       "      <th></th>\n",
       "      <th>1</th>\n",
       "    </tr>\n",
       "  </thead>\n",
       "  <tbody>\n",
       "    <tr>\n",
       "      <th>Symbol</th>\n",
       "      <td>TSLA</td>\n",
       "    </tr>\n",
       "    <tr>\n",
       "      <th>AssetType</th>\n",
       "      <td>Common Stock</td>\n",
       "    </tr>\n",
       "    <tr>\n",
       "      <th>Name</th>\n",
       "      <td>Tesla Inc</td>\n",
       "    </tr>\n",
       "    <tr>\n",
       "      <th>Description</th>\n",
       "      <td>Tesla, Inc. is an American electric vehicle an...</td>\n",
       "    </tr>\n",
       "    <tr>\n",
       "      <th>CIK</th>\n",
       "      <td>1318605</td>\n",
       "    </tr>\n",
       "    <tr>\n",
       "      <th>Exchange</th>\n",
       "      <td>NASDAQ</td>\n",
       "    </tr>\n",
       "    <tr>\n",
       "      <th>Currency</th>\n",
       "      <td>USD</td>\n",
       "    </tr>\n",
       "    <tr>\n",
       "      <th>Country</th>\n",
       "      <td>USA</td>\n",
       "    </tr>\n",
       "    <tr>\n",
       "      <th>Sector</th>\n",
       "      <td>MANUFACTURING</td>\n",
       "    </tr>\n",
       "    <tr>\n",
       "      <th>Industry</th>\n",
       "      <td>MOTOR VEHICLES &amp; PASSENGER CAR BODIES</td>\n",
       "    </tr>\n",
       "    <tr>\n",
       "      <th>Address</th>\n",
       "      <td>3500 DEER CREEK RD, PALO ALTO, CA, US</td>\n",
       "    </tr>\n",
       "    <tr>\n",
       "      <th>FiscalYearEnd</th>\n",
       "      <td>December</td>\n",
       "    </tr>\n",
       "    <tr>\n",
       "      <th>LatestQuarter</th>\n",
       "      <td>2024-03-31</td>\n",
       "    </tr>\n",
       "    <tr>\n",
       "      <th>MarketCapitalization</th>\n",
       "      <td>517064983000</td>\n",
       "    </tr>\n",
       "    <tr>\n",
       "      <th>EBITDA</th>\n",
       "      <td>12265000000</td>\n",
       "    </tr>\n",
       "    <tr>\n",
       "      <th>PERatio</th>\n",
       "      <td>41.47</td>\n",
       "    </tr>\n",
       "    <tr>\n",
       "      <th>PEGRatio</th>\n",
       "      <td>2.633</td>\n",
       "    </tr>\n",
       "    <tr>\n",
       "      <th>BookValue</th>\n",
       "      <td>20.21</td>\n",
       "    </tr>\n",
       "    <tr>\n",
       "      <th>DividendPerShare</th>\n",
       "      <td>None</td>\n",
       "    </tr>\n",
       "    <tr>\n",
       "      <th>DividendYield</th>\n",
       "      <td>None</td>\n",
       "    </tr>\n",
       "    <tr>\n",
       "      <th>EPS</th>\n",
       "      <td>3.91</td>\n",
       "    </tr>\n",
       "    <tr>\n",
       "      <th>RevenuePerShareTTM</th>\n",
       "      <td>29.8</td>\n",
       "    </tr>\n",
       "    <tr>\n",
       "      <th>ProfitMargin</th>\n",
       "      <td>0.144</td>\n",
       "    </tr>\n",
       "    <tr>\n",
       "      <th>OperatingMarginTTM</th>\n",
       "      <td>0.055</td>\n",
       "    </tr>\n",
       "    <tr>\n",
       "      <th>ReturnOnAssetsTTM</th>\n",
       "      <td>0.0472</td>\n",
       "    </tr>\n",
       "    <tr>\n",
       "      <th>ReturnOnEquityTTM</th>\n",
       "      <td>0.237</td>\n",
       "    </tr>\n",
       "    <tr>\n",
       "      <th>RevenueTTM</th>\n",
       "      <td>94745002000</td>\n",
       "    </tr>\n",
       "    <tr>\n",
       "      <th>GrossProfitTTM</th>\n",
       "      <td>20853000000</td>\n",
       "    </tr>\n",
       "    <tr>\n",
       "      <th>DilutedEPSTTM</th>\n",
       "      <td>3.91</td>\n",
       "    </tr>\n",
       "    <tr>\n",
       "      <th>QuarterlyEarningsGrowthYOY</th>\n",
       "      <td>-0.534</td>\n",
       "    </tr>\n",
       "    <tr>\n",
       "      <th>QuarterlyRevenueGrowthYOY</th>\n",
       "      <td>-0.087</td>\n",
       "    </tr>\n",
       "    <tr>\n",
       "      <th>AnalystTargetPrice</th>\n",
       "      <td>185.04</td>\n",
       "    </tr>\n",
       "    <tr>\n",
       "      <th>AnalystRatingStrongBuy</th>\n",
       "      <td>5</td>\n",
       "    </tr>\n",
       "    <tr>\n",
       "      <th>AnalystRatingBuy</th>\n",
       "      <td>12</td>\n",
       "    </tr>\n",
       "    <tr>\n",
       "      <th>AnalystRatingHold</th>\n",
       "      <td>21</td>\n",
       "    </tr>\n",
       "    <tr>\n",
       "      <th>AnalystRatingSell</th>\n",
       "      <td>6</td>\n",
       "    </tr>\n",
       "    <tr>\n",
       "      <th>AnalystRatingStrongSell</th>\n",
       "      <td>4</td>\n",
       "    </tr>\n",
       "    <tr>\n",
       "      <th>TrailingPE</th>\n",
       "      <td>41.47</td>\n",
       "    </tr>\n",
       "    <tr>\n",
       "      <th>ForwardPE</th>\n",
       "      <td>57.8</td>\n",
       "    </tr>\n",
       "    <tr>\n",
       "      <th>PriceToSalesRatioTTM</th>\n",
       "      <td>5.63</td>\n",
       "    </tr>\n",
       "    <tr>\n",
       "      <th>PriceToBookRatio</th>\n",
       "      <td>8.7</td>\n",
       "    </tr>\n",
       "    <tr>\n",
       "      <th>EVToRevenue</th>\n",
       "      <td>5.43</td>\n",
       "    </tr>\n",
       "    <tr>\n",
       "      <th>EVToEBITDA</th>\n",
       "      <td>35.5</td>\n",
       "    </tr>\n",
       "    <tr>\n",
       "      <th>Beta</th>\n",
       "      <td>2.441</td>\n",
       "    </tr>\n",
       "    <tr>\n",
       "      <th>52WeekHigh</th>\n",
       "      <td>299.29</td>\n",
       "    </tr>\n",
       "    <tr>\n",
       "      <th>52WeekLow</th>\n",
       "      <td>138.8</td>\n",
       "    </tr>\n",
       "    <tr>\n",
       "      <th>50DayMovingAverage</th>\n",
       "      <td>176.21</td>\n",
       "    </tr>\n",
       "    <tr>\n",
       "      <th>200DayMovingAverage</th>\n",
       "      <td>223.12</td>\n",
       "    </tr>\n",
       "    <tr>\n",
       "      <th>SharesOutstanding</th>\n",
       "      <td>3189200000</td>\n",
       "    </tr>\n",
       "    <tr>\n",
       "      <th>DividendDate</th>\n",
       "      <td>None</td>\n",
       "    </tr>\n",
       "    <tr>\n",
       "      <th>ExDividendDate</th>\n",
       "      <td>None</td>\n",
       "    </tr>\n",
       "  </tbody>\n",
       "</table>\n",
       "</div>"
      ],
      "text/plain": [
       "                                                                            1\n",
       "Symbol                                                                   TSLA\n",
       "AssetType                                                        Common Stock\n",
       "Name                                                                Tesla Inc\n",
       "Description                 Tesla, Inc. is an American electric vehicle an...\n",
       "CIK                                                                   1318605\n",
       "Exchange                                                               NASDAQ\n",
       "Currency                                                                  USD\n",
       "Country                                                                   USA\n",
       "Sector                                                          MANUFACTURING\n",
       "Industry                                MOTOR VEHICLES & PASSENGER CAR BODIES\n",
       "Address                                 3500 DEER CREEK RD, PALO ALTO, CA, US\n",
       "FiscalYearEnd                                                        December\n",
       "LatestQuarter                                                      2024-03-31\n",
       "MarketCapitalization                                             517064983000\n",
       "EBITDA                                                            12265000000\n",
       "PERatio                                                                 41.47\n",
       "PEGRatio                                                                2.633\n",
       "BookValue                                                               20.21\n",
       "DividendPerShare                                                         None\n",
       "DividendYield                                                            None\n",
       "EPS                                                                      3.91\n",
       "RevenuePerShareTTM                                                       29.8\n",
       "ProfitMargin                                                            0.144\n",
       "OperatingMarginTTM                                                      0.055\n",
       "ReturnOnAssetsTTM                                                      0.0472\n",
       "ReturnOnEquityTTM                                                       0.237\n",
       "RevenueTTM                                                        94745002000\n",
       "GrossProfitTTM                                                    20853000000\n",
       "DilutedEPSTTM                                                            3.91\n",
       "QuarterlyEarningsGrowthYOY                                             -0.534\n",
       "QuarterlyRevenueGrowthYOY                                              -0.087\n",
       "AnalystTargetPrice                                                     185.04\n",
       "AnalystRatingStrongBuy                                                      5\n",
       "AnalystRatingBuy                                                           12\n",
       "AnalystRatingHold                                                          21\n",
       "AnalystRatingSell                                                           6\n",
       "AnalystRatingStrongSell                                                     4\n",
       "TrailingPE                                                              41.47\n",
       "ForwardPE                                                                57.8\n",
       "PriceToSalesRatioTTM                                                     5.63\n",
       "PriceToBookRatio                                                          8.7\n",
       "EVToRevenue                                                              5.43\n",
       "EVToEBITDA                                                               35.5\n",
       "Beta                                                                    2.441\n",
       "52WeekHigh                                                             299.29\n",
       "52WeekLow                                                               138.8\n",
       "50DayMovingAverage                                                     176.21\n",
       "200DayMovingAverage                                                    223.12\n",
       "SharesOutstanding                                                  3189200000\n",
       "DividendDate                                                             None\n",
       "ExDividendDate                                                           None"
      ]
     },
     "execution_count": 8,
     "metadata": {},
     "output_type": "execute_result"
    }
   ],
   "source": [
    "# AlphaVantage overview\n",
    "url = f\"https://www.alphavantage.co/query?function=OVERVIEW&symbol={symbol}&apikey={os.environ['ALPHAVANTAGE_API_KEY']}\"\n",
    "r = requests.get(url)\n",
    "data = r.json()\n",
    "pd.DataFrame(data, index=[1]).transpose()\n"
   ]
  },
  {
   "cell_type": "code",
   "execution_count": 9,
   "id": "bfb4e885",
   "metadata": {},
   "outputs": [],
   "source": [
    "exchange = data['Exchange']\n",
    "\n",
    "morningstarmap = {'NYSE': 'xnys',\n",
    "                  'NASDAQ': 'xnas'\n",
    "                 }\n"
   ]
  },
  {
   "cell_type": "code",
   "execution_count": 10,
   "id": "bc5e2885",
   "metadata": {},
   "outputs": [
    {
     "data": {
      "text/plain": [
       "('20240424T1046', '20240426T1046')"
      ]
     },
     "execution_count": 10,
     "metadata": {},
     "output_type": "execute_result"
    }
   ],
   "source": [
    "now = datetime.now()\n",
    "end_date = now.strftime('%Y%m%dT%H%M')\n",
    "sdate = now - timedelta(days=2)\n",
    "# sdate = datetime(now.year, now.month-1, now.day)\n",
    "start_date = sdate.strftime('%Y%m%dT%H%M')\n",
    "start_date, end_date"
   ]
  },
  {
   "cell_type": "code",
   "execution_count": 11,
   "id": "d411abbc",
   "metadata": {},
   "outputs": [
    {
     "data": {
      "text/markdown": [
       "[2024-04-26 14:25:22 Market Clubhouse Morning Memo - April 26th, 2024  ( Trade Strategy For SPY, QQQ, AAPL, MSFT, NVDA, GOOGL, META, And TSLA )  - Invesco QQQ Trust, Series 1  ( NASDAQ:QQQ ) ](https://www.benzinga.com/trading-ideas/24/04/38461474/market-clubhouse-morning-memo-april-26th-2024-trade-strategy-for-spy-qqq-aapl-msft-nvda-googl-meta)\n",
       " Good Morning Traders! In today's Market Clubhouse Morning Memo, we will discuss SPY, QQQ, AAPL, MSFT, NVDA, GOOGL, META, and TSLA. Our proprietary formula, exclusive to Market Clubhouse, dictates these price levels. This dynamic equation takes into account price, volume, and options flow."
      ],
      "text/plain": [
       "<IPython.core.display.Markdown object>"
      ]
     },
     "metadata": {},
     "output_type": "display_data"
    },
    {
     "data": {
      "text/markdown": [
       "[2024-04-26 14:22:51 'Meta Actually Has Major Profit Margins Unlike Tesla': Redditor Reacts To Stock Drop Following Q1 Earnings - Meta Platforms  ( NASDAQ:META ) ](https://www.benzinga.com/news/earnings/24/04/38461410/meta-actually-has-major-profit-margins-unlike-tesla-redditor-reacts-to-stock-drop-following-q1-earn)\n",
       " Meta Platforms Inc META, formerly Facebook, recently reported a revenue and earnings beat for Q1 2024 but issued disappointing guidance for the future. This news caused the stock to drop 11% in extended trading, overshadowing the positive quarterly results."
      ],
      "text/plain": [
       "<IPython.core.display.Markdown object>"
      ]
     },
     "metadata": {},
     "output_type": "display_data"
    },
    {
     "data": {
      "text/markdown": [
       "[2024-04-26 14:22:11 Stock Market Dodges A Bullet - Momo Gurus Proven Wrong - Microsoft  ( NASDAQ:MSFT ) ](https://www.benzinga.com/markets/24/04/38461403/stock-market-dodges-a-bullet-momo-gurus-proven-wrong)\n",
       " To gain an edge, this is what you need to know today. Please click here for an enlarged chart of SPDR S&P 500 ETF Trust SPY which represents the benchmark stock market index S&P 500 ( SPX ) . Headline PCE came at 0.3% vs. 0.3% consensus. Core PCE came at 0.3% vs. 0.3% consensus."
      ],
      "text/plain": [
       "<IPython.core.display.Markdown object>"
      ]
     },
     "metadata": {},
     "output_type": "display_data"
    },
    {
     "data": {
      "text/markdown": [
       "[2024-04-26 14:06:12 Nvidia, Meta Among Tech Stocks That Stand To Benefit From 'Lots Of Infrastructure Spending On AI,' Says Tesla Bull Ross Gerber - Alphabet  ( NASDAQ:GOOG ) , ASML Holding  ( NASDAQ:ASML ) ](https://www.benzinga.com/analyst-ratings/analyst-color/24/04/38460970/nvidia-meta-among-tech-stocks-that-stand-to-benefit-from-lots-of-infrastructure-spe)\n",
       " Tesla bull Ross Gerber has suggested that the tech sector's earnings reports are indicative of substantial AI infrastructure spending. What Happened: Gerber took to X, formerly Twitter, on Thursday to express his views on the tech sector's earnings reports."
      ],
      "text/plain": [
       "<IPython.core.display.Markdown object>"
      ]
     },
     "metadata": {},
     "output_type": "display_data"
    },
    {
     "data": {
      "text/markdown": [
       "[2024-04-26 12:49:00 Tesla Stock Tests Key Resistance Level As Former Top Executive Divests 1.14 Million Shares](https://www.investors.com/news/tesla-stock-tests-resistance-former-top-executive-divests-1-million-tsla-shares/)\n",
       " Tesla ( TSLA ) is looking to make a move above a key resistance level after gaining more than 15% this week following first-quarter earnings. A federal regulatory filing Thursday shows that a former top executive has unloaded more than 1 million shares."
      ],
      "text/plain": [
       "<IPython.core.display.Markdown object>"
      ]
     },
     "metadata": {},
     "output_type": "display_data"
    },
    {
     "data": {
      "text/markdown": [
       "[2024-04-26 12:30:01 Why Americans worry changes to the U.S. retirement system could upend their plans](https://www.cnbc.com/2024/04/26/americans-worry-changes-to-retirement-system-will-upend-their-plans.html)\n",
       " When it comes to retirement, Americans worry about uncertainties they cannot control, like a higher cost of living or changes to the retirement system."
      ],
      "text/plain": [
       "<IPython.core.display.Markdown object>"
      ]
     },
     "metadata": {},
     "output_type": "display_data"
    },
    {
     "data": {
      "text/markdown": [
       "[2024-04-26 12:20:00 Tech Futures Lead Ahead Of Inflation Data](https://www.investors.com/market-trend/stock-market-today/dow-jones-sp500-nasdaq-alphabet-googl-stock-microsoft-msft/)\n",
       " Stock Market Today: Dow Jones Rises Ahead Of Inflation Data. Google, Microsoft Surge Investor's Business Daily ..."
      ],
      "text/plain": [
       "<IPython.core.display.Markdown object>"
      ]
     },
     "metadata": {},
     "output_type": "display_data"
    },
    {
     "data": {
      "text/markdown": [
       "[2024-04-26 12:09:58 US Investigates Tesla Recall After 'Post-Remedy Crash Events'](https://www.forbes.com/sites/siladityaray/2024/04/26/us-investigates-tesla-recall-after-post-remedy-crash-events/)\n",
       " The National Highway Traffic Safety Administration said Friday it is investigating whether Tesla properly handled a recall of more than 2 million cars in December to fix a flaw federal regulators detected in its Autopilot system."
      ],
      "text/plain": [
       "<IPython.core.display.Markdown object>"
      ]
     },
     "metadata": {},
     "output_type": "display_data"
    },
    {
     "data": {
      "text/markdown": [
       "[2024-04-26 12:00:00 GM And Ford Just Beat Tesla At Its Own Game](https://www.investors.com/etfs-and-funds/sectors/sp500-gm-and-ford-beat-tesla-at-its-own-game/)\n",
       " Some investors think General Motors ( GM ) and Ford ( F ) might be better off dead. But the S&P 500 automakers are still beating Tesla ( TSLA ) where it counts. GM and Ford's just-reported first-quarter revenue both topped Tesla's. Their first-quarter net income also did, too."
      ],
      "text/plain": [
       "<IPython.core.display.Markdown object>"
      ]
     },
     "metadata": {},
     "output_type": "display_data"
    },
    {
     "data": {
      "text/markdown": [
       "[2024-04-26 11:53:51 Tesla Cybertruck Races World War 2-Era Fighter Plane At Orlando Air Show - Did It Win? - Tesla  ( NASDAQ:TSLA ) ](https://www.benzinga.com/news/24/04/38457179/tesla-cybertruck-races-world-war-2-era-fighter-plane-at-orlando-air-show-did-it-win)\n",
       " Tesla Inc's TSLA Cybertruck competed against airplanes at the Orlando Airshow over the weekend and company CEO Elon Musk thinks it's \"cool\" despite the results of the race. What Happened: The result of the race was predictable."
      ],
      "text/plain": [
       "<IPython.core.display.Markdown object>"
      ]
     },
     "metadata": {},
     "output_type": "display_data"
    },
    {
     "data": {
      "text/markdown": [
       "[2024-04-26 10:55:00 Uber Technologies and RE/MAX have been highlighted as Zacks Bull and Bear of the Day](https://www.zacks.com/stock/news/2263020/uber-technologies-and-remax-have-been-highlighted-as-zacks-bull-and-bear-of-the-day)\n",
       " Uber Technologies and RE/MAX are part of the Zacks Bull and Bear of the Day article."
      ],
      "text/plain": [
       "<IPython.core.display.Markdown object>"
      ]
     },
     "metadata": {},
     "output_type": "display_data"
    },
    {
     "data": {
      "text/markdown": [
       "[2024-04-26 10:48:07 Quiz of The Week: 20 - 26 April](https://theweek.com/puzzles/quiz-of-the-week-20-26-april)\n",
       " From the US Senate paving the way for a ban on TikTok to warnings about a \"cicada-geddon\" featuring insect \"sex zombies\", the last seven days have been full of memorable stories."
      ],
      "text/plain": [
       "<IPython.core.display.Markdown object>"
      ]
     },
     "metadata": {},
     "output_type": "display_data"
    },
    {
     "data": {
      "text/markdown": [
       "[2024-04-26 10:19:23 BREAKING: NHTSA Starts Probe Into Tesla's Software Fix For 2M Vehicles Recalled In December - Tesla  ( NASDAQ:TSLA ) ](https://www.benzinga.com/government/24/04/38454591/breaking-nhtsa-starts-probe-into-teslas-software-fix-for-2m-vehicles-recalled-in-december)\n",
       " The U.S. auto safety regulator has started an investigation into the remedy offered by EV giant Tesla Inc TSLA for the recall of over 2 million vehicles it issued in December. Tesla in December recalled 2.03 million vehicles equipped with all versions of Autosteer after deeming the feature's ..."
      ],
      "text/plain": [
       "<IPython.core.display.Markdown object>"
      ]
     },
     "metadata": {},
     "output_type": "display_data"
    },
    {
     "data": {
      "text/markdown": [
       "[2024-04-26 10:13:00 Tesla 'has to be India' as Musk defers meeting with PM Modi: Analysts](https://www.business-standard.com/india-news/tesla-has-to-be-india-as-musk-defers-meeting-with-pm-modi-analysts-124042600729_1.html)\n",
       " Tesla CEO Elon Musk deferring his India visit this week has had no effect on buzz that his company will eventually have a base for electric vehicles ( EV ) in the country."
      ],
      "text/plain": [
       "<IPython.core.display.Markdown object>"
      ]
     },
     "metadata": {},
     "output_type": "display_data"
    },
    {
     "data": {
      "text/markdown": [
       "[2024-04-26 09:58:29 Chinese EV start-ups Nio and Xpeng turn to the mass market for growth](https://www.cnbc.com/2024/04/26/chinese-ev-start-ups-nio-and-xpeng-turn-to-the-mass-market-for-growth.html)\n",
       " Chinese electric car start-ups Nio and Xpeng are turning to a lower-priced segment of the market with plans to release newly-branded cars this year."
      ],
      "text/plain": [
       "<IPython.core.display.Markdown object>"
      ]
     },
     "metadata": {},
     "output_type": "display_data"
    },
    {
     "data": {
      "text/markdown": [
       "[2024-04-26 09:21:00 Opinion: 10 Figures That Show Tesla Is Completely Uninvestable Right Now](https://www.fool.com/investing/2024/04/26/10-figures-show-tesla-is-uninvestable-right-now/)\n",
       " The Tesla growth story looks to be officially over."
      ],
      "text/plain": [
       "<IPython.core.display.Markdown object>"
      ]
     },
     "metadata": {},
     "output_type": "display_data"
    },
    {
     "data": {
      "text/markdown": [
       "[2024-04-26 09:09:00 Tesla's Robotaxi Ambition Is Great News for Nvidia Stock Investors](https://www.fool.com/investing/2024/04/26/teslas-robotaxi-ambition-is-great-news-for-nvidia/)\n",
       " Tesla needs to spend more on the graphic processing units Nvidia sells to develop the driverless car technology."
      ],
      "text/plain": [
       "<IPython.core.display.Markdown object>"
      ]
     },
     "metadata": {},
     "output_type": "display_data"
    },
    {
     "data": {
      "text/markdown": [
       "[2024-04-26 09:00:00 Ford tapped the brakes on EVs and bet on hybrids. It's paying off.](https://www.businessinsider.com/ford-pulled-back-on-evs-focused-on-hybrids-paid-off-2024-4)\n",
       " By clicking \"Sign Up\", you accept our Terms of Service and Privacy Policy . You can opt-out at any time. Access your favorite topics in a personalized feed while you're on the go. download the app Sign up to get the inside scoop on today's biggest stories in markets, tech, and business - ..."
      ],
      "text/plain": [
       "<IPython.core.display.Markdown object>"
      ]
     },
     "metadata": {},
     "output_type": "display_data"
    },
    {
     "data": {
      "text/markdown": [
       "[2024-04-26 08:40:45 Katy Perry is the latest owner of Tesla Cybertruck: Check out her tweet thanking Elon Musk](https://www.financialexpress.com/auto/car-news/katy-perry-is-the-latest-owner-of-tesla-cybertruck-check-out-her-tweet-thanking-elon-musk/3469313/)\n",
       " Tesla Cybertruck is always in the news for something or the other, but more often than not in bad news recently. This time, the all-electric pickup truck is gaining traction online thanks to Katy Perry. The American pop sensation recently brought home a Tesla Cybertruck and the internet went gaga ..."
      ],
      "text/plain": [
       "<IPython.core.display.Markdown object>"
      ]
     },
     "metadata": {},
     "output_type": "display_data"
    },
    {
     "data": {
      "text/markdown": [
       "[2024-04-26 08:30:00 Tesla's Robotaxi Plan Hasn't Excited Investors, But Fund Manager Gary Black Says This Is What Matters More: 'No Other Way To Interpret This...' - Tesla  ( NASDAQ:TSLA ) ](https://www.benzinga.com/analyst-ratings/analyst-color/24/04/38453144/teslas-robotaxi-plan-hasnt-excited-investors-but-fund-manager-gary-black-says-this-)\n",
       " Tesla, Inc. TSLA shares extended their gains for the third consecutive session on Thursday, following the release of the electric vehicle maker's quarterly results. Gary Black of Future Fund shared his insights on the stock's movement and the company's future trajectory."
      ],
      "text/plain": [
       "<IPython.core.display.Markdown object>"
      ]
     },
     "metadata": {},
     "output_type": "display_data"
    },
    {
     "data": {
      "text/markdown": [
       "[2024-04-26 08:00:00 Bull of the Day: Uber Technologies, Inc.  ( UBER ) ](https://www.zacks.com/commentary/2262666/bull-of-the-day-uber-technologies-inc-uber)\n",
       " Uber shares have cooled off to trade at attractive levels for long-term investors given its impressive outlook in businesses it transformed from niche apps for people in select cities into a \\\\$50 billion-a-year behemoth."
      ],
      "text/plain": [
       "<IPython.core.display.Markdown object>"
      ]
     },
     "metadata": {},
     "output_type": "display_data"
    },
    {
     "data": {
      "text/markdown": [
       "[2024-04-26 07:30:00 Tesla's Biggest Layoffs Mapped: Where Has EV Giant Cut Most Jobs? - Tesla  ( NASDAQ:TSLA ) ](https://www.benzinga.com/news/24/04/38452751/teslas-biggest-layoffs-mapped-where-has-ev-giant-cut-most-jobs)\n",
       " Tesla, Inc. TSLA, is undergoing its biggest workforce reduction ever in a bid to combat slowing demand and falling margins. The company has decided to cut over 10% of its workforce or about 14,000 jobs. But where have the maximum slashings taken place? Benzinga examines using the data ( as of ..."
      ],
      "text/plain": [
       "<IPython.core.display.Markdown object>"
      ]
     },
     "metadata": {},
     "output_type": "display_data"
    },
    {
     "data": {
      "text/markdown": [
       "[2024-04-26 06:49:34 Tesla CEO Elon Musk Denies Human Rights Abuses In Most EV Battery Production: 'Those That Do...Use Very Little'](https://www.benzinga.com/news/24/04/38452299/tesla-ceo-elon-musk-denies-human-rights-abuses-in-most-ev-battery-production-those-that-do-use-very)\n",
       " Tesla Inc CEO Elon Musk on Thursday denied allegations that the use of cobalt in EVs is leading to human rights violations including child labor. What Happened: Unlike cellphone and laptop batteries that use cobalt, most electric cars use none, Musk said."
      ],
      "text/plain": [
       "<IPython.core.display.Markdown object>"
      ]
     },
     "metadata": {},
     "output_type": "display_data"
    },
    {
     "data": {
      "text/markdown": [
       "[2024-04-26 05:39:54 Perplexity AI Raises \\\\$63 Million, Vision Pro Sales Slow, Meta Takes A Tumble](https://www.forbes.com/sites/charliefink/2024/04/26/perplexity-ai-raises-63-million-vision-pro-sales-slow-meta-takes-a-tumble/)\n",
       " Perplexity AI Search Engine Raises \\\\$63M, vaulting its valuation to more than \\\\$2.5B. Perplexity is a search engine that uses AI to answer questions directly, instead of providing links. They plan to use the money to expand globally and offer a new plan for enterprise customers which would include ..."
      ],
      "text/plain": [
       "<IPython.core.display.Markdown object>"
      ]
     },
     "metadata": {},
     "output_type": "display_data"
    },
    {
     "data": {
      "text/markdown": [
       "[2024-04-26 05:39:15 Tesla Investor Touts EV Giant's Billions-Mile Leap In Gathering Self-Driving Data: 'How Can Any Automaker Catch Up?' - Tesla  ( NASDAQ:TSLA ) ](https://www.benzinga.com/analyst-ratings/analyst-color/24/04/38451359/tesla-investor-touts-ev-giants-billions-mile-leap-in-gathering-self-driving-data-ho)\n",
       " Sawyer Merritt, a prominent Tesla investor, recently emphasized the electric vehicle giant's unparalleled data collection prowess, citing the staggering mileage covered by Tesla TSLA owners."
      ],
      "text/plain": [
       "<IPython.core.display.Markdown object>"
      ]
     },
     "metadata": {},
     "output_type": "display_data"
    },
    {
     "data": {
      "text/markdown": [
       "[2024-04-26 05:37:44 Why is Elon Musk feuding with Australia and Brazil over free speech?](https://www.aljazeera.com/economy/2024/4/26/why-is-elon-musk-feuding-with-australia-and-brazil-over-free-speech)\n",
       " X owner is fighting governments over their attempts to curtail online content deemed to be harmful. Elon Musk, the self-proclaimed free speech absolutist and CEO of X, Tesla, and SpaceX, is once again at the centre of a heated debate about free speech and censorship."
      ],
      "text/plain": [
       "<IPython.core.display.Markdown object>"
      ]
     },
     "metadata": {},
     "output_type": "display_data"
    },
    {
     "data": {
      "text/markdown": [
       "[2024-04-26 04:36:57 Tesla's plan for affordable cars follows playbook of its Detroit rivals](https://www.business-standard.com/world-news/tesla-s-plan-for-affordable-cars-follows-playbook-of-its-detroit-rivals-124042600252_1.html)\n",
       " Tesla said the change would allow the company to launch low-cost vehicles swiftly but would result in smaller cost reduction than had been expected and modest volume growth ( Photo: Bloomberg )"
      ],
      "text/plain": [
       "<IPython.core.display.Markdown object>"
      ]
     },
     "metadata": {},
     "output_type": "display_data"
    },
    {
     "data": {
      "text/markdown": [
       "[2024-04-26 04:00:18 Have you got five minutes to talk about investing?](https://www.ft.com/content/17e29364-a5af-444d-b2a7-d9f106c7c972)\n",
       " It is high time we normalised conversations about money ..."
      ],
      "text/plain": [
       "<IPython.core.display.Markdown object>"
      ]
     },
     "metadata": {},
     "output_type": "display_data"
    },
    {
     "data": {
      "text/markdown": [
       "[2024-04-26 03:01:04 Ex-Tesla SVP Drew Baglino Offloads \\\\$181.5M Worth Of EV Maker's Shares After Resignation - Tesla  ( NASDAQ:TSLA ) ](https://www.benzinga.com/markets/equities/24/04/38450550/ex-tesla-svp-drew-baglino-offloads-181-5m-worth-of-ev-makers-shares-after-resignation)\n",
       " Drew Baglino, the former Senior Vice President of Tesla Inc. TSLA, has sold off a significant portion of his shares in the company. This move comes shortly after his resignation from the electric vehicle ( EV ) giant."
      ],
      "text/plain": [
       "<IPython.core.display.Markdown object>"
      ]
     },
     "metadata": {},
     "output_type": "display_data"
    },
    {
     "data": {
      "text/markdown": [
       "[2024-04-26 02:35:16 GOOGL, MSFT, ROKU, INTC, TSLA: Top 5 Trending Stocks Today - Alphabet  ( NASDAQ:GOOG ) , Alphabet  ( NASDAQ:GOOGL ) ](https://www.benzinga.com/markets/equities/24/04/38450417/google-parent-alphabet-microsoft-intel-roku-tesla-why-these-5-stocks-are-on-investors-radars-tod)\n",
       " Thursday saw a decrease in major U.S. indices, with the Dow Jones Industrial Average closing the session down by nearly 1% at 38,085.80. Similarly, the S&P 500 dropped by almost 0.5% to 5,048.42, while the Nasdaq experienced a decline of 0.6% to 15,611.76."
      ],
      "text/plain": [
       "<IPython.core.display.Markdown object>"
      ]
     },
     "metadata": {},
     "output_type": "display_data"
    },
    {
     "data": {
      "text/markdown": [
       "[2024-04-26 02:23:08 Former Tesla SVP Drew Baglino is selling \\\\$181.5 million worth of stock, SEC filing says](https://www.cnbc.com/2024/04/25/former-tesla-svp-drew-baglino-is-selling-181point5-million-worth-of-stock.html)\n",
       " Drew Baglino, who announced he'd be leaving Tesla on April 15, is selling 1.14 million shares of the electric car company, according to a filing on April 25."
      ],
      "text/plain": [
       "<IPython.core.display.Markdown object>"
      ]
     },
     "metadata": {},
     "output_type": "display_data"
    },
    {
     "data": {
      "text/markdown": [
       "[2024-04-26 02:16:07 Drills Turning at Lithium & Boron Explorer's Nevada Flagship Project - Canter Resources  ( OTC:CNRCF ) ](https://www.benzinga.com/news/24/04/38440593/drills-turning-at-lithium-boron-explorers-nevada-flagship-project)\n",
       " Canter Resources Corp. CNRCF has started a drilling program at its Columbus lithium-boron project in Nevada. Find out why one asset manager is excited to see the results."
      ],
      "text/plain": [
       "<IPython.core.display.Markdown object>"
      ]
     },
     "metadata": {},
     "output_type": "display_data"
    },
    {
     "data": {
      "text/markdown": [
       "[2024-04-26 01:39:46 Tesla pushes back on investor's latest move in Elon Musk's pay package row](https://www.business-standard.com/world-news/tesla-pushes-back-on-investor-s-latest-move-in-elon-musk-s-pay-package-row-124042600082_1.html)\n",
       " Tesla Inc. says the shareholder who won a court order in Delaware killing co-founder Elon Musk's \\\\$56 billion pay package is jumping the gun in asking the judge to bar the billionaire from moving the executive-compensation dispute to Texas."
      ],
      "text/plain": [
       "<IPython.core.display.Markdown object>"
      ]
     },
     "metadata": {},
     "output_type": "display_data"
    },
    {
     "data": {
      "text/markdown": [
       "[2024-04-26 00:05:00 Why Berkshire Hathaway Should Be in the Magnificent 7](https://www.zacks.com/stock/news/2262889/why-berkshire-hathaway-should-be-in-the-magnificent-7)\n",
       " Warren Buffett's Berkshire Hathaway is now in the Top 7 stocks in the S&P 500. Let's give it its due."
      ],
      "text/plain": [
       "<IPython.core.display.Markdown object>"
      ]
     },
     "metadata": {},
     "output_type": "display_data"
    },
    {
     "data": {
      "text/markdown": [
       "[2024-04-25 23:30:49 Tractor Supply CEO says there's still 'significant migration' out of urban areas](https://www.cnbc.com/2024/04/25/tractor-supply-ceo-says-theres-significant-migration-out-of-cities.html)\n",
       " Tractor Supply CEO Hal Lawton told CNBC's Jim Cramer on Thursday that a substantial number of Americans are leaving cities, and many are headed to rural areas."
      ],
      "text/plain": [
       "<IPython.core.display.Markdown object>"
      ]
     },
     "metadata": {},
     "output_type": "display_data"
    },
    {
     "data": {
      "text/markdown": [
       "[2024-04-25 23:00:01 Why ARK Invest thinks it's an 'amazing time' to invest in cutting-edge tech](https://www.cnbc.com/2024/04/25/ark-invest-amazing-time-to-invest-in-cutting-edge-tech-including-ai-.html)\n",
       " ARK Invest's Brett Winston is betting big on private tech companies for long-term gains."
      ],
      "text/plain": [
       "<IPython.core.display.Markdown object>"
      ]
     },
     "metadata": {},
     "output_type": "display_data"
    },
    {
     "data": {
      "text/markdown": [
       "[2024-04-25 22:30:11 Mobileye Global  ( MBLY )  Q1 2024 Earnings Call Transcript](https://www.fool.com/earnings/call-transcripts/2024/04/25/mobileye-global-mbly-q1-2024-earnings-call-transcr/)\n",
       " MBLY earnings call for the period ending March 31, 2024."
      ],
      "text/plain": [
       "<IPython.core.display.Markdown object>"
      ]
     },
     "metadata": {},
     "output_type": "display_data"
    },
    {
     "data": {
      "text/markdown": [
       "[2024-04-25 22:00:00 Gold Prices Are Tempting Traders. Use This Signal To Time Your Buys And Sells.](https://www.investors.com/news/gold-prices-tempt-traders-use-this-signal-to-time-your-buys-and-sells/)\n",
       " Gold prices, oil and commodities remain bright spots in a volatile market, with fears of slowing growth and stubborn inflation exacting a toll on stocks. But investors seeking the perceived relative safety of commodities should set up stops before rushing in."
      ],
      "text/plain": [
       "<IPython.core.display.Markdown object>"
      ]
     },
     "metadata": {},
     "output_type": "display_data"
    },
    {
     "data": {
      "text/markdown": [
       "[2024-04-25 21:55:00 How Lucrative Is Alphabet's New Dividend?](https://www.investors.com/etfs-and-funds/sectors/sp500-how-lucrative-alphabets-new-dividend-really-is-google/)\n",
       " Google parent Alphabet ( GOOG ) just announced a quarterly dividend - adding to the S&P 500 dividend average. But don't get your hopes up too high. The company is paying just 20 cents a share starting on July 17. Assuming that dividend is paid four times a year, Alphabet will yield just 0.51%."
      ],
      "text/plain": [
       "<IPython.core.display.Markdown object>"
      ]
     },
     "metadata": {},
     "output_type": "display_data"
    },
    {
     "data": {
      "text/markdown": [
       "[2024-04-25 20:41:43 Will Dogecoin skyrocket 7 months after the Bitcoin halving again?](https://cointelegraph.com/news/dogecoin-price-skyrocket-7-months-after-bitcoin-halving)\n",
       " The top memecoins are far from previous highs, yet retail investors may view them as fairer opportunities than VC-backed coins with high fully diluted valuations."
      ],
      "text/plain": [
       "<IPython.core.display.Markdown object>"
      ]
     },
     "metadata": {},
     "output_type": "display_data"
    },
    {
     "data": {
      "text/markdown": [
       "[2024-04-25 20:40:00 Tech Futures Jump On Google, Microsoft](https://www.investors.com/market-trend/stock-market-today/dow-jones-futures-microsoft-rise-google-soar/)\n",
       " Dow Jones Futures Rise. Microsoft Pops, Google Soars After Stock Market Rally Shows Resilience Investor's Business Daily ..."
      ],
      "text/plain": [
       "<IPython.core.display.Markdown object>"
      ]
     },
     "metadata": {},
     "output_type": "display_data"
    },
    {
     "data": {
      "text/markdown": [
       "[2024-04-25 20:24:00 The stark contrast between Meta and Tesla earnings reactions reveals the uncanny power of Musk's promises](https://www.businessinsider.com/tesla-meta-earnings-prove-power-of-musk-word-despite-promises-2024-4)\n",
       " Tesla vs. Meta earnings prove the power of Musk's word despite failed promises - Business Insider ..."
      ],
      "text/plain": [
       "<IPython.core.display.Markdown object>"
      ]
     },
     "metadata": {},
     "output_type": "display_data"
    },
    {
     "data": {
      "text/markdown": [
       "[2024-04-25 19:19:00 Billionaire 'bond king' Bill Gross tells investors to avoid tech and stick to value stocks](https://markets.businessinsider.com/news/stocks/tech-stocks-avoid-buying-bill-gross-microsoft-earnings-bond-yields-2024-4)\n",
       " 'Bond King' Bill Gross Tells Investors to Avoid Tech Stocks - Markets Insider ..."
      ],
      "text/plain": [
       "<IPython.core.display.Markdown object>"
      ]
     },
     "metadata": {},
     "output_type": "display_data"
    },
    {
     "data": {
      "text/markdown": [
       "[2024-04-25 19:10:00 Can Tesla's Earnings Struggle Take Down the \"Mag 7\"?](https://www.zacks.com/commentary/2262678/can-teslas-earnings-struggle-take-down-the-mag-7)\n",
       " The Electric Vehicle Downcycle May Have Broader Consequences."
      ],
      "text/plain": [
       "<IPython.core.display.Markdown object>"
      ]
     },
     "metadata": {},
     "output_type": "display_data"
    },
    {
     "data": {
      "text/markdown": [
       "[2024-04-25 18:49:00 Nvidia, Arista, Dell, Super Micro Rise On Meta's AI Capex Plan](https://www.investors.com/news/technology/ai-stocks-nvidia-stock-meta-ai-infrastructure-plans/)\n",
       " Meta's plan to invest more heavily in artificial infrastructure caused Meta ( META ) stock to sink Thursday, but the tech giant's capex news lifted shares of tech hardware companies, including Nvidia ( NVDA ) , Arista Networks ( ANET ) , Dell ( DELL ) and Super Micro Computer ( SMCI ) ."
      ],
      "text/plain": [
       "<IPython.core.display.Markdown object>"
      ]
     },
     "metadata": {},
     "output_type": "display_data"
    },
    {
     "data": {
      "text/markdown": [
       "[2024-04-25 18:46:39 Billionaire Ron Baron Calls The Bottom In Tesla Stock, Says Shares Will 'Go Up Huge' From Here: 'It's Like A Rubber Band' - Tesla  ( NASDAQ:TSLA ) ](https://www.benzinga.com/trading-ideas/long-ideas/24/04/38441703/billionaire-ron-baron-calls-the-bottom-in-tesla-stock-says-shares-will-go-up-huge-from-h)\n",
       " Billionaire investor Ron Baron believes Tesla Inc TSLA stock has fallen far enough and is now getting ready to rip higher from current levels. Why TSLA Is Down: Thursday on CNBC's \"Squawk Box,\" Baron, a longtime Tesla bull, explained both why Tesla stock is down so much for the year and why he ..."
      ],
      "text/plain": [
       "<IPython.core.display.Markdown object>"
      ]
     },
     "metadata": {},
     "output_type": "display_data"
    },
    {
     "data": {
      "text/markdown": [
       "[2024-04-25 18:45:14 Elon Musk once again richer than Mark Zuckerberg as fortunes reverse](https://www.business-standard.com/world-news/elon-musk-once-again-richer-than-mark-zuckerberg-as-fortunes-reverse-124042600010_1.html)\n",
       " Mark Zuckerberg's fortune plunged \\\\$20 billion as shares of Meta Platforms Inc. tumbled, allowing Tesla Inc.'s Elon Musk to cement his status as the world's third-richest billionaire. Meta shares fell as much as 16% Thursday in New York after the social media company said second-quarter sales were ..."
      ],
      "text/plain": [
       "<IPython.core.display.Markdown object>"
      ]
     },
     "metadata": {},
     "output_type": "display_data"
    },
    {
     "data": {
      "text/markdown": [
       "[2024-04-25 16:09:00 Magnificent Seven Stocks To Buy And Watch](https://www.investors.com/research/magnificent-seven-stocks-to-buy-and-and-watch/)\n",
       " Magnificent Seven Stocks: Nvidia Stock Dives Below Key Level Investor's Business Daily ..."
      ],
      "text/plain": [
       "<IPython.core.display.Markdown object>"
      ]
     },
     "metadata": {},
     "output_type": "display_data"
    },
    {
     "data": {
      "text/markdown": [
       "[2024-04-25 16:01:01 Alphabet set to report first-quarter results after market close](https://www.cnbc.com/2024/04/25/alphabet-set-to-report-first-quarter-results-after-market-close.html)\n",
       " Analysts expect a second straight quarter of revenue growth in the low teens as Alphabet rebounds from a historically weak period for expansion."
      ],
      "text/plain": [
       "<IPython.core.display.Markdown object>"
      ]
     },
     "metadata": {},
     "output_type": "display_data"
    },
    {
     "data": {
      "text/markdown": [
       "[2024-04-25 16:00:01 Microsoft set to report earnings after the bell](https://www.cnbc.com/2024/04/25/microsoft-msft-q3-earnings-2024.html)\n",
       " Microsoft added artificial intelligence talent through a deal with startup Inflection in the quarter, as it worked to sell a productivity chatbot to clients."
      ],
      "text/plain": [
       "<IPython.core.display.Markdown object>"
      ]
     },
     "metadata": {},
     "output_type": "display_data"
    }
   ],
   "source": [
    "url = f'https://www.alphavantage.co/query?function=NEWS_SENTIMENT&tickers={symbol}&apikey={os.environ[\"ALPHAVANTAGE_API_KEY\"]}&time_from={start_date}&time_to={end_date}'\n",
    "\n",
    "r = requests.get(url)\n",
    "data = r.json()\n",
    "\n",
    "for item in data['feed']:\n",
    "    markdown_str = \"\"\n",
    "    date_object = datetime.strptime(item['time_published'], \"%Y%m%dT%H%M%S\")\n",
    "    display_title = item['title'].replace(\"$\", \"\\\\\\$\")  # so Markdown doesn't interpret as latex escape\n",
    "    description = item['summary'].replace(\"$\", \"\\\\\\$\")\n",
    "    markdown_str += f\"[{str(date_object)} {display_title}]({item['url']})\\n {description}\"\n",
    "    display(Markdown(markdown_str))\n",
    "    "
   ]
  },
  {
   "cell_type": "code",
   "execution_count": 12,
   "id": "9627b611",
   "metadata": {},
   "outputs": [
    {
     "data": {
      "text/html": [
       "<div>\n",
       "<style scoped>\n",
       "    .dataframe tbody tr th:only-of-type {\n",
       "        vertical-align: middle;\n",
       "    }\n",
       "\n",
       "    .dataframe tbody tr th {\n",
       "        vertical-align: top;\n",
       "    }\n",
       "\n",
       "    .dataframe thead th {\n",
       "        text-align: right;\n",
       "    }\n",
       "</style>\n",
       "<table border=\"1\" class=\"dataframe\">\n",
       "  <thead>\n",
       "    <tr style=\"text-align: right;\">\n",
       "      <th></th>\n",
       "      <th>id</th>\n",
       "      <th>name</th>\n",
       "      <th>description</th>\n",
       "      <th>url</th>\n",
       "      <th>category</th>\n",
       "      <th>language</th>\n",
       "      <th>country</th>\n",
       "    </tr>\n",
       "  </thead>\n",
       "  <tbody>\n",
       "    <tr>\n",
       "      <th>0</th>\n",
       "      <td>abc-news</td>\n",
       "      <td>ABC News</td>\n",
       "      <td>Your trusted source for breaking news, analysi...</td>\n",
       "      <td>https://abcnews.go.com</td>\n",
       "      <td>general</td>\n",
       "      <td>en</td>\n",
       "      <td>us</td>\n",
       "    </tr>\n",
       "    <tr>\n",
       "      <th>1</th>\n",
       "      <td>abc-news-au</td>\n",
       "      <td>ABC News (AU)</td>\n",
       "      <td>Australia's most trusted source of local, nati...</td>\n",
       "      <td>https://www.abc.net.au/news</td>\n",
       "      <td>general</td>\n",
       "      <td>en</td>\n",
       "      <td>au</td>\n",
       "    </tr>\n",
       "    <tr>\n",
       "      <th>2</th>\n",
       "      <td>aftenposten</td>\n",
       "      <td>Aftenposten</td>\n",
       "      <td>Norges ledende nettavis med alltid oppdaterte ...</td>\n",
       "      <td>https://www.aftenposten.no</td>\n",
       "      <td>general</td>\n",
       "      <td>no</td>\n",
       "      <td>no</td>\n",
       "    </tr>\n",
       "    <tr>\n",
       "      <th>3</th>\n",
       "      <td>al-jazeera-english</td>\n",
       "      <td>Al Jazeera English</td>\n",
       "      <td>News, analysis from the Middle East and worldw...</td>\n",
       "      <td>https://www.aljazeera.com</td>\n",
       "      <td>general</td>\n",
       "      <td>en</td>\n",
       "      <td>us</td>\n",
       "    </tr>\n",
       "    <tr>\n",
       "      <th>4</th>\n",
       "      <td>ansa</td>\n",
       "      <td>ANSA.it</td>\n",
       "      <td>Agenzia ANSA: ultime notizie, foto, video e ap...</td>\n",
       "      <td>https://www.ansa.it</td>\n",
       "      <td>general</td>\n",
       "      <td>it</td>\n",
       "      <td>it</td>\n",
       "    </tr>\n",
       "    <tr>\n",
       "      <th>...</th>\n",
       "      <td>...</td>\n",
       "      <td>...</td>\n",
       "      <td>...</td>\n",
       "      <td>...</td>\n",
       "      <td>...</td>\n",
       "      <td>...</td>\n",
       "      <td>...</td>\n",
       "    </tr>\n",
       "    <tr>\n",
       "      <th>123</th>\n",
       "      <td>wired</td>\n",
       "      <td>Wired</td>\n",
       "      <td>Wired is a monthly American magazine, publishe...</td>\n",
       "      <td>https://www.wired.com</td>\n",
       "      <td>technology</td>\n",
       "      <td>en</td>\n",
       "      <td>us</td>\n",
       "    </tr>\n",
       "    <tr>\n",
       "      <th>124</th>\n",
       "      <td>wired-de</td>\n",
       "      <td>Wired.de</td>\n",
       "      <td>Wired reports on how emerging technologies aff...</td>\n",
       "      <td>https://www.wired.de</td>\n",
       "      <td>technology</td>\n",
       "      <td>de</td>\n",
       "      <td>de</td>\n",
       "    </tr>\n",
       "    <tr>\n",
       "      <th>125</th>\n",
       "      <td>wirtschafts-woche</td>\n",
       "      <td>Wirtschafts Woche</td>\n",
       "      <td>Das Online-Portal des führenden Wirtschaftsmag...</td>\n",
       "      <td>http://www.wiwo.de</td>\n",
       "      <td>business</td>\n",
       "      <td>de</td>\n",
       "      <td>de</td>\n",
       "    </tr>\n",
       "    <tr>\n",
       "      <th>126</th>\n",
       "      <td>xinhua-net</td>\n",
       "      <td>Xinhua Net</td>\n",
       "      <td>中国主要重点新闻网站,依托新华社遍布全球的采编网络,记者遍布世界100多个国家和地区,地方频...</td>\n",
       "      <td>http://xinhuanet.com/</td>\n",
       "      <td>general</td>\n",
       "      <td>zh</td>\n",
       "      <td>zh</td>\n",
       "    </tr>\n",
       "    <tr>\n",
       "      <th>127</th>\n",
       "      <td>ynet</td>\n",
       "      <td>Ynet</td>\n",
       "      <td>ynet דף הבית: אתר החדשות המוביל בישראל מבית יד...</td>\n",
       "      <td>http://www.ynet.co.il</td>\n",
       "      <td>general</td>\n",
       "      <td>he</td>\n",
       "      <td>is</td>\n",
       "    </tr>\n",
       "  </tbody>\n",
       "</table>\n",
       "<p>128 rows × 7 columns</p>\n",
       "</div>"
      ],
      "text/plain": [
       "                     id                name  \\\n",
       "0              abc-news            ABC News   \n",
       "1           abc-news-au       ABC News (AU)   \n",
       "2           aftenposten         Aftenposten   \n",
       "3    al-jazeera-english  Al Jazeera English   \n",
       "4                  ansa             ANSA.it   \n",
       "..                  ...                 ...   \n",
       "123               wired               Wired   \n",
       "124            wired-de            Wired.de   \n",
       "125   wirtschafts-woche   Wirtschafts Woche   \n",
       "126          xinhua-net          Xinhua Net   \n",
       "127                ynet                Ynet   \n",
       "\n",
       "                                           description  \\\n",
       "0    Your trusted source for breaking news, analysi...   \n",
       "1    Australia's most trusted source of local, nati...   \n",
       "2    Norges ledende nettavis med alltid oppdaterte ...   \n",
       "3    News, analysis from the Middle East and worldw...   \n",
       "4    Agenzia ANSA: ultime notizie, foto, video e ap...   \n",
       "..                                                 ...   \n",
       "123  Wired is a monthly American magazine, publishe...   \n",
       "124  Wired reports on how emerging technologies aff...   \n",
       "125  Das Online-Portal des führenden Wirtschaftsmag...   \n",
       "126  中国主要重点新闻网站,依托新华社遍布全球的采编网络,记者遍布世界100多个国家和地区,地方频...   \n",
       "127  ynet דף הבית: אתר החדשות המוביל בישראל מבית יד...   \n",
       "\n",
       "                             url    category language country  \n",
       "0         https://abcnews.go.com     general       en      us  \n",
       "1    https://www.abc.net.au/news     general       en      au  \n",
       "2     https://www.aftenposten.no     general       no      no  \n",
       "3      https://www.aljazeera.com     general       en      us  \n",
       "4            https://www.ansa.it     general       it      it  \n",
       "..                           ...         ...      ...     ...  \n",
       "123        https://www.wired.com  technology       en      us  \n",
       "124         https://www.wired.de  technology       de      de  \n",
       "125           http://www.wiwo.de    business       de      de  \n",
       "126        http://xinhuanet.com/     general       zh      zh  \n",
       "127        http://www.ynet.co.il     general       he      is  \n",
       "\n",
       "[128 rows x 7 columns]"
      ]
     },
     "execution_count": 12,
     "metadata": {},
     "output_type": "execute_result"
    }
   ],
   "source": [
    "from newsapi import NewsApiClient\n",
    "NEWSAPI_API_KEY = os.environ['NEWSAPI_API_KEY']\n",
    "api = NewsApiClient(api_key=NEWSAPI_API_KEY)\n",
    "sources = api.get_sources()\n",
    "pd.DataFrame(sources['sources'])"
   ]
  },
  {
   "cell_type": "code",
   "execution_count": 13,
   "id": "29b86663",
   "metadata": {},
   "outputs": [
    {
     "data": {
      "text/markdown": [
       "[2024-04-25T14:36:05Z Market Clubhouse Morning Memo - April 25th, 2024 (Trade Strategy For SPY, QQQ, AAPL, MSFT, NVDA, GOOGL, META, And TSLA)](https://www.cnbc.com/2024/04/25/microsoft-msft-q3-earnings-2024.html) \n",
       "\n",
       "[2024-04-25T14:00:00Z Rising 21% This Year, What Lies Ahead For Exxon Stock Following Q1 Earnings?](https://www.cnbc.com/2024/04/25/microsoft-msft-q3-earnings-2024.html) \n",
       "\n",
       "[2024-04-25T13:00:00Z Should You Pick General Electric Stock At \\\\$165?](https://www.cnbc.com/2024/04/25/microsoft-msft-q3-earnings-2024.html) \n",
       "\n",
       "[2024-04-25T12:48:27Z Dow Jones Futures Dive 400 Points On Weak GDP Data; Meta Plunges On Earnings](https://www.cnbc.com/2024/04/25/microsoft-msft-q3-earnings-2024.html) \n",
       "\n",
       "[2024-04-25T12:40:45Z Tesla (NASDAQ:TSLA) Price Target Cut to \\\\$180.00 by Analysts at Mizuho](https://www.cnbc.com/2024/04/25/microsoft-msft-q3-earnings-2024.html) \n",
       "\n",
       "[2024-04-25T12:40:44Z Tesla (NASDAQ:TSLA) Price Target Lowered to \\\\$162.00 at Truist Financial](https://www.cnbc.com/2024/04/25/microsoft-msft-q3-earnings-2024.html) \n",
       "\n",
       "[2024-04-25T12:40:44Z Tesla (NASDAQ:TSLA) Rating Reiterated by Needham & Company LLC](https://www.cnbc.com/2024/04/25/microsoft-msft-q3-earnings-2024.html) \n",
       "\n",
       "[2024-04-25T12:00:00Z What’s Next For JetBlue Stock After A Sharp 19% Fall Post Q1 Results?](https://www.cnbc.com/2024/04/25/microsoft-msft-q3-earnings-2024.html) \n",
       "\n",
       "[2024-04-25T12:00:00Z Mag 7 ETF Investors Eye Big Tech Earnings, PCE](https://www.cnbc.com/2024/04/25/microsoft-msft-q3-earnings-2024.html) \n",
       "\n",
       "[2024-04-25T11:56:08Z Is Tesla a Software Company?](https://www.cnbc.com/2024/04/25/microsoft-msft-q3-earnings-2024.html) \n",
       "\n",
       "[2024-04-25T11:16:44Z Tesla (NASDAQ:TSLA) Trading Up 1.8%](https://www.cnbc.com/2024/04/25/microsoft-msft-q3-earnings-2024.html) \n",
       "\n",
       "[2024-04-25T11:16:05Z Why Tesla’s stock price is surging](https://www.cnbc.com/2024/04/25/microsoft-msft-q3-earnings-2024.html) \n",
       "\n",
       "[2024-04-25T11:00:00Z Is Kimberly-Clark Stock Fairly Valued At \\\\$135 After A Solid Q1?](https://www.cnbc.com/2024/04/25/microsoft-msft-q3-earnings-2024.html) \n",
       "\n"
      ],
      "text/plain": [
       "<IPython.core.display.Markdown object>"
      ]
     },
     "metadata": {},
     "output_type": "display_data"
    }
   ],
   "source": [
    "# Calculate the date 24 hours ago\n",
    "date_from = (datetime.now() - timedelta(days=1)).strftime('%Y-%m-%dT%H:%M:%S')\n",
    "\n",
    "# The base URL for the NewsAPI\n",
    "url = 'https://newsapi.org/v2/everything'\n",
    "\n",
    "# Parameters for the API request\n",
    "parameters = {\n",
    "    'q': symbol,  # Query term\n",
    "    'from': date_from,  # Get news from the last 24 hours\n",
    "    'sortBy': 'publishedAt',  # Sort by publication date\n",
    "    'apiKey': NEWSAPI_API_KEY  # Your API key\n",
    "}\n",
    "\n",
    "# Make the request to the NewsAPI\n",
    "response = requests.get(url, params=parameters)\n",
    "\n",
    "# Check if the request was successful\n",
    "if response.status_code == 200:\n",
    "    # Get the response data\n",
    "    data = response.json()\n",
    "    \n",
    "    # Print the articles\n",
    "    markdown_str = \"\"\n",
    "    for article in data['articles']:\n",
    "        date_object = datetime.strptime(item['time_published'], \"%Y%m%dT%H%M%S\")\n",
    "        display_title = article['title'].replace(\"$\", \"\\\\\\$\")  # so Markdown doesn't interpret as latex escape\n",
    "        markdown_str += f\"[{article['publishedAt']} {display_title}]({item['url']}) \\n\\n\"\n",
    "\n",
    "    display(Markdown(markdown_str))\n",
    "else:\n",
    "    print('Failed to retrieve data')"
   ]
  },
  {
   "cell_type": "code",
   "execution_count": 14,
   "id": "7f4c4063",
   "metadata": {},
   "outputs": [
    {
     "data": {
      "text/plain": [
       "('2024-03-26', '2024-04-26')"
      ]
     },
     "execution_count": 14,
     "metadata": {},
     "output_type": "execute_result"
    }
   ],
   "source": [
    "now = datetime.now()\n",
    "end_date = now.strftime('%Y-%m-%d')\n",
    "# start_date = datetime.now() - timedelta(days=30)\n",
    "sdate = datetime(now.year, now.month-1, now.day)\n",
    "start_date = sdate.strftime('%Y-%m-%d')\n",
    "start_date, end_date"
   ]
  },
  {
   "cell_type": "code",
   "execution_count": 15,
   "id": "a792f20b",
   "metadata": {},
   "outputs": [
    {
     "data": {
      "text/markdown": [
       "[2024-04-26 13:42:00 Tesla’s AutoPilot Recall Gets a Government Probe. No, It’s Not a Stock Issue.](https://newsfilter.io/articles/teslas-autopilot-recall-gets-a-government-probe-no-its-not-a-stock-issue-ba82494103e20526a2e121375dc61de9)\n",
       " NHTSA is investigating Tesla’s AutoPilot system again. Investors don’t need to fret. "
      ],
      "text/plain": [
       "<IPython.core.display.Markdown object>"
      ]
     },
     "metadata": {},
     "output_type": "display_data"
    },
    {
     "data": {
      "text/markdown": [
       "[2024-04-26 10:40:00 Microsoft, Alphabet Earnings Show Markets Need AI After Fed Cut Delay. Here’s Why.](https://newsfilter.io/articles/microsoft-alphabet-earnings-show-markets-need-ai-after-fed-cut-delay-heres-why-17fe662515161685606e479f85f20a7c)\n",
       " "
      ],
      "text/plain": [
       "<IPython.core.display.Markdown object>"
      ]
     },
     "metadata": {},
     "output_type": "display_data"
    },
    {
     "data": {
      "text/markdown": [
       "[2024-04-26 08:54:00 Tesla, GM, and Ford Had Quite a Week. All the Numbers That Matter.](https://newsfilter.io/articles/tesla-gm-and-ford-had-quite-a-week-all-the-numbers-that-matter-d86dc85ea033ac933783efdc14b22dec)\n",
       " Tesla ended the quarter with less than 50% BEV market share in the U.S. for the first time."
      ],
      "text/plain": [
       "<IPython.core.display.Markdown object>"
      ]
     },
     "metadata": {},
     "output_type": "display_data"
    },
    {
     "data": {
      "text/markdown": [
       "[2024-04-26 02:23:08 Former Tesla SVP Drew Baglino is selling \\\\$181.5 million worth of stock, SEC filing says](https://newsfilter.io/articles/former-tesla-svp-drew-baglino-is-selling-1815-million-worth-of-stock-sec-filing-says-0935229bc04ab116721dcd714a297961)\n",
       " Drew Baglino, who announced he'd be leaving Tesla on April 15, is selling 1.14 million shares of the electric car company, according to a filing on April 25."
      ],
      "text/plain": [
       "<IPython.core.display.Markdown object>"
      ]
     },
     "metadata": {},
     "output_type": "display_data"
    },
    {
     "data": {
      "text/markdown": [
       "[2024-04-25 17:10:14 144 Form - Report of proposed sale of securities - Tesla, Inc. (0001318605) (Subject)](https://newsfilter.io/articles/144-form---report-of-proposed-sale-of-securities---tesla-inc-0001318605-subject-3c6614d80c134a283be1671e8ed09176)\n",
       " Report of proposed sale of securities"
      ],
      "text/plain": [
       "<IPython.core.display.Markdown object>"
      ]
     },
     "metadata": {},
     "output_type": "display_data"
    },
    {
     "data": {
      "text/markdown": [
       "[2024-04-25 20:34:00 Tesla Stock Rose Again. Three Reasons for the Jump.](https://newsfilter.io/articles/tesla-stock-rose-again-three-reasons-for-the-jump-d9ab871b77dd64fbf3ab9fab146e7b99)\n",
       " Tesla stock has risen for three consecutive days, after falling for seven straight. "
      ],
      "text/plain": [
       "<IPython.core.display.Markdown object>"
      ]
     },
     "metadata": {},
     "output_type": "display_data"
    },
    {
     "data": {
      "text/markdown": [
       "[2024-04-25 17:02:32 Deutsche Bank Maintains Hold on Tesla, Raises Price Target to \\\\$136](https://newsfilter.io/articles/deutsche-bank-maintains-hold-on-tesla-raises-price-target-to-136-4a8d0485a8505708997fbfbd9378e8b4)\n",
       " Deutsche Bank analyst Emmanuel Rosner maintains Tesla with a Hold and raises the price target from \\\\$123 to \\\\$136."
      ],
      "text/plain": [
       "<IPython.core.display.Markdown object>"
      ]
     },
     "metadata": {},
     "output_type": "display_data"
    },
    {
     "data": {
      "text/markdown": [
       "[2024-04-25 14:45:00 Stocks May Not Be Due for a Correction](https://newsfilter.io/articles/stocks-may-not-be-due-for-a-correction-759ab99c3df860dcae171b99e63642d2)\n",
       " The market may be bumpy for the next few months, but it probably won’t go down more than 10%."
      ],
      "text/plain": [
       "<IPython.core.display.Markdown object>"
      ]
     },
     "metadata": {},
     "output_type": "display_data"
    },
    {
     "data": {
      "text/markdown": [
       "[2024-04-25 14:09:00 Hertz’s Losses on Tesla EVs Bite Into Earnings](https://newsfilter.io/articles/hertzs-losses-on-tesla-evs-bite-into-earnings-2bfc6418cfd081b93f779ce6929460fb)\n",
       " The rental car company’s big push into EVs has proved to be a big problem."
      ],
      "text/plain": [
       "<IPython.core.display.Markdown object>"
      ]
     },
     "metadata": {},
     "output_type": "display_data"
    },
    {
     "data": {
      "text/markdown": [
       "[2024-04-25 13:28:00 Meta Shares Head for Worst Day in Years](https://newsfilter.io/articles/meta-shares-head-for-worst-day-in-years-88b530f3e7069ad6170a74d1f7c7c0e8)\n",
       " The company's plans to spend even more on its artificial-intelligence efforts appears to have shaken investors."
      ],
      "text/plain": [
       "<IPython.core.display.Markdown object>"
      ]
     },
     "metadata": {},
     "output_type": "display_data"
    }
   ],
   "source": [
    "API_KEY = os.environ['NEWSFILTER_API_KEY']\n",
    "API_ENDPOINT = \"https://api.newsfilter.io/search?token={}\".format(API_KEY)\n",
    "\n",
    "# Define the news search parameters\n",
    "queryString = f\"symbols:{symbol} AND publishedAt:[{start_date} TO {end_date}]\"\n",
    "\n",
    "payload = {\n",
    "    \"queryString\": queryString,\n",
    "    \"from\": 0,\n",
    "    \"size\": 10\n",
    "}\n",
    "\n",
    "# Send the search query to the Search API\n",
    "response = requests.post(API_ENDPOINT, json=payload)\n",
    "\n",
    "# Read the response\n",
    "articles = response.json()\n",
    "\n",
    "\n",
    "# Read the response\n",
    "articles = response.json()\n",
    "\n",
    "for item in articles['articles']:\n",
    "    markdown_str = \"\"\n",
    "    date_array = item['publishedAt'].split(\"T\")\n",
    "    datestr = date_array[0] + \"T\" + date_array[1][:8]\n",
    "#     print(item['publishedAt'])\n",
    "#     print(date_array)\n",
    "#     print(datestr)\n",
    "    date_object = datetime.strptime(datestr, \"%Y-%m-%dT%H:%M:%S\")\n",
    "    display_title = item['title'].replace(\"$\", \"\\\\\\$\")  # so Markdown doesn't interpret as latex escape\n",
    "    description = item['description'].replace(\"$\", \"\\\\\\$\")\n",
    "\n",
    "    markdown_str += f\"[{str(date_object)} {display_title}]({item['url']})\\n {description}\"\n",
    "    display(Markdown(markdown_str))"
   ]
  },
  {
   "cell_type": "code",
   "execution_count": 4,
   "id": "e6ad54ef",
   "metadata": {},
   "outputs": [
    {
     "name": "stdout",
     "output_type": "stream",
     "text": [
      "22:55:24 Starting\n",
      "22:55:36 Initialized profile\n",
      "22:55:36 Initialized service\n",
      "22:56:13 Initialized webdriver\n"
     ]
    }
   ],
   "source": [
    "# open pages via selenium and firefox\n",
    "outputdir = \"htmldata\"\n",
    "\n",
    "# Print the formatted time\n",
    "print(datetime.now().strftime('%H:%M:%S'), \"Starting\", flush=True)\n",
    "\n",
    "firefox_app_path = '/Applications/Firefox.app'\n",
    "# Path to your geckodriver\n",
    "geckodriver_path = '/Users/drucev/webdrivers/geckodriver'\n",
    "\n",
    "# Set up Firefox options to use your existing profile\n",
    "# important for some sites that need a login, also a generic profile fingerprint that looks like a bot might get blocked\n",
    "firefox_profile_path = '/Users/drucev/Library/Application Support/Firefox/Profiles/k8k0lcjj.default-release'\n",
    "options = Options()\n",
    "options.profile = firefox_profile_path\n",
    "\n",
    "print(datetime.now().strftime('%H:%M:%S'), \"Initialized profile\", flush=True)\n",
    "\n",
    "# Create a Service object with the path\n",
    "service = Service(geckodriver_path)\n",
    "\n",
    "print(datetime.now().strftime('%H:%M:%S'), \"Initialized service\", flush=True)\n",
    "# Set up the Firefox driver\n",
    "driver = webdriver.Firefox(service=service, options=options)\n",
    "\n",
    "print(datetime.now().strftime('%H:%M:%S'), \"Initialized webdriver\", flush=True)\n",
    "sleeptime = 10\n"
   ]
  },
  {
   "cell_type": "code",
   "execution_count": 5,
   "id": "d694ae26",
   "metadata": {},
   "outputs": [],
   "source": [
    "# Open a new tab\n",
    "def open_tab(driver, url):\n",
    "    driver.execute_script(f\"window.open('{url}');\")\n",
    "    # Switch to last one opened - sometimes hangs?\n",
    "    # driver.switch_to.window(driver.window_handles[-1])\n",
    "    # print(url)\n",
    "    # time.sleep(sleeptime)  \n"
   ]
  },
  {
   "cell_type": "code",
   "execution_count": 6,
   "id": "d3107671",
   "metadata": {},
   "outputs": [
    {
     "data": {
      "text/markdown": [
       "[Stockcharts](https://stockcharts.com/h-sc/ui?s=TSLA&id=p33407302522&def=Y&listNum=1#)"
      ],
      "text/plain": [
       "<IPython.core.display.Markdown object>"
      ]
     },
     "metadata": {},
     "output_type": "display_data"
    }
   ],
   "source": [
    "url = f\"https://stockcharts.com/h-sc/ui?s={symbol}&id=p33407302522&def=Y&listNum=1#\"\n",
    "source = \"Stockcharts\"\n",
    "# Open the page\n",
    "driver.get(url)\n",
    "\n",
    "# Wait for the page to load\n",
    "# time.sleep(sleeptime)  \n",
    "display(Markdown(f\"[{source}]({url})\"))"
   ]
  },
  {
   "cell_type": "code",
   "execution_count": 19,
   "id": "db5b36a6",
   "metadata": {},
   "outputs": [
    {
     "data": {
      "text/markdown": [
       "[Bloomberg](https://www.bloomberg.com/search?query=Tesla)"
      ],
      "text/plain": [
       "<IPython.core.display.Markdown object>"
      ]
     },
     "metadata": {},
     "output_type": "display_data"
    }
   ],
   "source": [
    "url = f'https://www.bloomberg.com/search?query={company}'\n",
    "source = \"Bloomberg\"\n",
    "open_tab(driver, url)\n",
    "display(Markdown(f\"[{source}]({url})\"))"
   ]
  },
  {
   "cell_type": "code",
   "execution_count": 20,
   "id": "b854cf04",
   "metadata": {},
   "outputs": [
    {
     "data": {
      "text/markdown": [
       "[Reuters](https://www.reuters.com/site-search/?query=Tesla&offset=0)"
      ],
      "text/plain": [
       "<IPython.core.display.Markdown object>"
      ]
     },
     "metadata": {},
     "output_type": "display_data"
    }
   ],
   "source": [
    "url = f'https://www.reuters.com/site-search/?query={company}&offset=0'\n",
    "source = \"Reuters\"\n",
    "open_tab(driver, url)\n",
    "display(Markdown(f\"[{source}]({url})\"))"
   ]
  },
  {
   "cell_type": "code",
   "execution_count": 21,
   "id": "38912e8f",
   "metadata": {},
   "outputs": [
    {
     "data": {
      "text/markdown": [
       "[Yahoo quote](https://finance.yahoo.com/quote/TSLA/news)"
      ],
      "text/plain": [
       "<IPython.core.display.Markdown object>"
      ]
     },
     "metadata": {},
     "output_type": "display_data"
    }
   ],
   "source": [
    "url = f'https://finance.yahoo.com/quote/{symbol}/news'\n",
    "source = \"Yahoo quote\"\n",
    "open_tab(driver, url)\n",
    "display(Markdown(f\"[{source}]({url})\"))"
   ]
  },
  {
   "cell_type": "code",
   "execution_count": 22,
   "id": "b546c41f",
   "metadata": {},
   "outputs": [
    {
     "data": {
      "text/markdown": [
       "[Yahoo stats](https://finance.yahoo.com/quote/TSLA/key-statistics?ltr=1)"
      ],
      "text/plain": [
       "<IPython.core.display.Markdown object>"
      ]
     },
     "metadata": {},
     "output_type": "display_data"
    }
   ],
   "source": [
    "url = f'https://finance.yahoo.com/quote/{symbol}/key-statistics?ltr=1'\n",
    "source = \"Yahoo stats\"\n",
    "open_tab(driver, url)\n",
    "display(Markdown(f\"[{source}]({url})\"))"
   ]
  },
  {
   "cell_type": "code",
   "execution_count": 23,
   "id": "b4b8e6ce",
   "metadata": {},
   "outputs": [
    {
     "data": {
      "text/markdown": [
       "[FT](https://www.ft.com/search?q=Tesla)"
      ],
      "text/plain": [
       "<IPython.core.display.Markdown object>"
      ]
     },
     "metadata": {},
     "output_type": "display_data"
    }
   ],
   "source": [
    "url = f'https://www.ft.com/search?q={company}'\n",
    "source = \"FT\"\n",
    "open_tab(driver, url)\n",
    "display(Markdown(f\"[{source}]({url})\"))"
   ]
  },
  {
   "cell_type": "code",
   "execution_count": 24,
   "id": "936a210b",
   "metadata": {},
   "outputs": [
    {
     "data": {
      "text/markdown": [
       "[Marketwatch](https://www.marketwatch.com/investing/stock/TSLA?mod=search_symbol)"
      ],
      "text/plain": [
       "<IPython.core.display.Markdown object>"
      ]
     },
     "metadata": {},
     "output_type": "display_data"
    }
   ],
   "source": [
    "url = f'https://www.marketwatch.com/investing/stock/{symbol}?mod=search_symbol'\n",
    "source = \"Marketwatch\"\n",
    "open_tab(driver, url)\n",
    "display(Markdown(f\"[{source}]({url})\"))"
   ]
  },
  {
   "cell_type": "code",
   "execution_count": 25,
   "id": "36bd4b7a",
   "metadata": {},
   "outputs": [
    {
     "data": {
      "text/markdown": [
       "[Barrons](https://www.barrons.com/market-data/stocks/TSLA?mod=searchresults_companyquotes&mod=searchbar&search_keywords=Tesla&search_statement_type=suggested)"
      ],
      "text/plain": [
       "<IPython.core.display.Markdown object>"
      ]
     },
     "metadata": {},
     "output_type": "display_data"
    }
   ],
   "source": [
    "url = f'https://www.barrons.com/market-data/stocks/{symbol}?mod=searchresults_companyquotes&mod=searchbar&search_keywords={company}&search_statement_type=suggested'    \n",
    "source = \"Barrons\"\n",
    "open_tab(driver, url)\n",
    "display(Markdown(f\"[{source}]({url})\"))"
   ]
  },
  {
   "cell_type": "code",
   "execution_count": 26,
   "id": "ecf82b37",
   "metadata": {},
   "outputs": [
    {
     "data": {
      "text/markdown": [
       "[Insider](https://www.businessinsider.com/s?q=Tesla)"
      ],
      "text/plain": [
       "<IPython.core.display.Markdown object>"
      ]
     },
     "metadata": {},
     "output_type": "display_data"
    }
   ],
   "source": [
    "url = f'https://www.businessinsider.com/s?q={company}'\n",
    "source = \"Insider\"\n",
    "open_tab(driver, url)\n",
    "display(Markdown(f\"[{source}]({url})\"))"
   ]
  },
  {
   "cell_type": "code",
   "execution_count": 27,
   "id": "07a59ba0",
   "metadata": {},
   "outputs": [
    {
     "data": {
      "text/markdown": [
       "[Google Finance](https://www.google.com/finance/quote/TSLA:NASDAQ)"
      ],
      "text/plain": [
       "<IPython.core.display.Markdown object>"
      ]
     },
     "metadata": {},
     "output_type": "display_data"
    }
   ],
   "source": [
    "url = f'https://www.google.com/finance/quote/{symbol}:{exchange}'\n",
    "source = \"Google Finance\"\n",
    "open_tab(driver, url)\n",
    "display(Markdown(f\"[{source}]({url})\"))"
   ]
  },
  {
   "cell_type": "code",
   "execution_count": 28,
   "id": "ca5dd4d3",
   "metadata": {},
   "outputs": [
    {
     "data": {
      "text/markdown": [
       "[FinViz](https://finviz.com/quote.ashx?t=TSLA&p=d)"
      ],
      "text/plain": [
       "<IPython.core.display.Markdown object>"
      ]
     },
     "metadata": {},
     "output_type": "display_data"
    }
   ],
   "source": [
    "url = f'https://finviz.com/quote.ashx?t={symbol}&p=d'\n",
    "source = \"FinViz\"\n",
    "open_tab(driver, url)\n",
    "display(Markdown(f\"[{source}]({url})\"))"
   ]
  },
  {
   "cell_type": "code",
   "execution_count": 29,
   "id": "a658c304",
   "metadata": {},
   "outputs": [
    {
     "data": {
      "text/markdown": [
       "[Reddit](https://www.reddit.com/search?q=Tesla&include_over_18=on&sort=relevance&t=all)"
      ],
      "text/plain": [
       "<IPython.core.display.Markdown object>"
      ]
     },
     "metadata": {},
     "output_type": "display_data"
    }
   ],
   "source": [
    "url = f'https://www.reddit.com/search?q={company}&include_over_18=on&sort=relevance&t=all'\n",
    "source = \"Reddit\"\n",
    "open_tab(driver, url)\n",
    "display(Markdown(f\"[{source}]({url})\"))"
   ]
  },
  {
   "cell_type": "code",
   "execution_count": 30,
   "id": "42a06f35",
   "metadata": {},
   "outputs": [
    {
     "data": {
      "text/markdown": [
       "[Morningstar](https://www.morningstar.com/stocks/xnas/TSLA/quote)"
      ],
      "text/plain": [
       "<IPython.core.display.Markdown object>"
      ]
     },
     "metadata": {},
     "output_type": "display_data"
    }
   ],
   "source": [
    "morn_exch = morningstarmap[exchange]\n",
    "url = f'https://www.morningstar.com/stocks/{morn_exch}/{symbol}/quote'\n",
    "source = \"Morningstar\"\n",
    "open_tab(driver, url)\n",
    "display(Markdown(f\"[{source}]({url})\"))\n",
    "    "
   ]
  },
  {
   "cell_type": "code",
   "execution_count": 31,
   "id": "3d8ff0b6",
   "metadata": {},
   "outputs": [
    {
     "data": {
      "text/markdown": [
       "[WhaleWisdom](https://whalewisdom.com/stock/TSLA)"
      ],
      "text/plain": [
       "<IPython.core.display.Markdown object>"
      ]
     },
     "metadata": {},
     "output_type": "display_data"
    }
   ],
   "source": [
    "url = f'https://whalewisdom.com/stock/{symbol}'\n",
    "source = \"WhaleWisdom\"\n",
    "open_tab(driver, url)\n",
    "display(Markdown(f\"[{source}]({url})\"))\n"
   ]
  },
  {
   "cell_type": "code",
   "execution_count": 32,
   "id": "fee0adb6",
   "metadata": {},
   "outputs": [
    {
     "data": {
      "text/markdown": [
       "[GuruFocus](https://www.gurufocus.com/stock/TSLA/guru-trades)"
      ],
      "text/plain": [
       "<IPython.core.display.Markdown object>"
      ]
     },
     "metadata": {},
     "output_type": "display_data"
    }
   ],
   "source": [
    "url = f'https://www.gurufocus.com/stock/{symbol}/guru-trades'\n",
    "source = \"GuruFocus\"\n",
    "open_tab(driver, url)\n",
    "display(Markdown(f\"[{source}]({url})\"))\n"
   ]
  },
  {
   "cell_type": "code",
   "execution_count": 33,
   "id": "1c1162f6",
   "metadata": {},
   "outputs": [
    {
     "ename": "SyntaxError",
     "evalue": "invalid syntax (1428333994.py, line 1)",
     "output_type": "error",
     "traceback": [
      "\u001b[0;36m  Cell \u001b[0;32mIn[33], line 1\u001b[0;36m\u001b[0m\n\u001b[0;31m    https://www.barchart.com/stocks/highs-lows/lows?orderBy=highPercent1y&orderDir=asc\u001b[0m\n\u001b[0m          ^\u001b[0m\n\u001b[0;31mSyntaxError\u001b[0m\u001b[0;31m:\u001b[0m invalid syntax\n"
     ]
    }
   ],
   "source": [
    "# https://www.barchart.com/stocks/highs-lows/lows?orderBy=highPercent1y&orderDir=asc\n",
    "#     https://stockcharts.com/h-sc/ui?s=%24DJUSEN&id=p33407302522&def=Y&listNum=1\n",
    "#         https://stockcharts.com/h-sc/ui?s=%24DJUSDN&id=p33407302522&def=Y&listNum=1"
   ]
  }
 ],
 "metadata": {
  "kernelspec": {
   "display_name": "ainewsbot",
   "language": "python",
   "name": "ainewsbot"
  },
  "language_info": {
   "codemirror_mode": {
    "name": "ipython",
    "version": 3
   },
   "file_extension": ".py",
   "mimetype": "text/x-python",
   "name": "python",
   "nbconvert_exporter": "python",
   "pygments_lexer": "ipython3",
   "version": "3.9.19"
  }
 },
 "nbformat": 4,
 "nbformat_minor": 5
}
