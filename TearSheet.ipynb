{
 "cells": [
  {
   "cell_type": "code",
   "execution_count": 1,
   "id": "d71cafca",
   "metadata": {},
   "outputs": [],
   "source": [
    "import dotenv\n",
    "import sys\n",
    "import os\n",
    "import re\n",
    "from datetime import datetime\n",
    "import time\n",
    "\n",
    "import pandas as pd\n",
    "\n",
    "import requests\n",
    "import json\n",
    "\n",
    "import openai\n",
    "from openai import OpenAI\n",
    "\n",
    "import IPython\n",
    "from IPython.display import HTML, Image, Markdown, display\n",
    "\n",
    "from selenium import webdriver\n",
    "from selenium.webdriver.common.by import By\n",
    "# use firefox because it updates less often, can disable updates\n",
    "# recommend importing profile from Chrome for cookies, passwords\n",
    "# looks less like a bot with more user cruft in the profile\n",
    "from selenium.webdriver.firefox.options import Options\n",
    "from selenium.webdriver.firefox.service import Service\n"
   ]
  },
  {
   "cell_type": "code",
   "execution_count": 2,
   "id": "174dc59a",
   "metadata": {},
   "outputs": [
    {
     "data": {
      "text/plain": [
       "True"
      ]
     },
     "execution_count": 2,
     "metadata": {},
     "output_type": "execute_result"
    }
   ],
   "source": [
    "dotenv.load_dotenv()\n",
    "\n"
   ]
  },
  {
   "cell_type": "code",
   "execution_count": 3,
   "id": "71d8d3c6",
   "metadata": {},
   "outputs": [],
   "source": [
    "company = \"Tesla\"\n",
    "symbol = \"TSLA\"\n",
    "\n",
    "system_prompt = \"\"\"\n",
    "You will act as a securities analyst and investment advisor with deep knowledge of financial markets, \n",
    "securities analysis, portfolio management. You will maintain a professional yet engaging tone, \n",
    "in the style of a senior investment bank research analyst.\"\n",
    "\"\"\"\n",
    "\n",
    "user_prompt = f\"\"\"You will focus on {company} ({symbol}), and provide a comprehensive analysis covering the following aspects:\n",
    "\n",
    "Company Profile: An overview of {company}, including its lines of business, history, and recent key developments.\n",
    "\n",
    "Major News: Significant events related to {company} or its industry impacting its stock.\n",
    "\n",
    "Financial Performance: Recent earnings reports and stock performance compared to expectations, changes in dividends or stock buybacks.\n",
    "\n",
    "Analyst Coverage: summarize recent changes to analysts' ratings noting which analyst and firms made upgrades or downgrades; summarize any recent short seller reports noting the firm and analyst.\n",
    "\n",
    "Product Announcements: Launch of new products, strategic initiatives, or restructurings.\n",
    "\n",
    "Strategic Moves: Information on deals, partnerships, mergers, acquisitions, divestitures, joint ventures, and major new business and revenue.\n",
    "\n",
    "Securities Offerings: Announcements related to stock or bond issuances, buybacks, special dividends, or stock splits.\n",
    "\n",
    "Management Changes: Significant personnel changes within {company}.\n",
    "\n",
    "Stock Price Movements: Notable stock price changes and their reasons.\n",
    "\n",
    "Timeline and Future Outlook: A timeline of these events \"\"\"\n"
   ]
  },
  {
   "cell_type": "code",
   "execution_count": 4,
   "id": "8360a1c0",
   "metadata": {},
   "outputs": [
    {
     "data": {
      "text/markdown": [
       "**Company Profile**\n",
       "\n",
       "Tesla, Inc. is an American electric vehicle manufacturer and clean energy company headquartered in Austin, Texas. It was founded in 2003 by Elon Musk and Martin Eberhard. Tesla designs, develops, manufactures, leases, and sells electric vehicles, and energy generation and storage systems worldwide. The company operates through two segments: Automotive and Energy Generation and Storage. Its products include electric vehicles such as sedans, sports utility vehicles, and semi-trucks, as well as solar energy products, battery energy storage from home to grid scale, and other related products and services.\n",
       "\n",
       "**Recent Key Developments**\n",
       "\n",
       "Tesla recently announced that it plans to raise prices for its Model Y vehicles due to increased costs associated with raw materials and logistics. Despite this, competitors like BYD, Li Auto, Nio, and Xpeng Motors continue to challenge Tesla in terms of value.\n",
       "\n",
       "**Financial Performance**\n",
       "\n",
       "In 2023, Tesla's revenue was \\\\$96.77 billion, representing an increase of 18.80% compared to the previous year's \\\\$81.46 billion. Earnings reached \\\\$15.00 billion, marking a rise of 19.44%. However, Tesla's stock price has faced challenges, with the stock dropping 29.25% in the first quarter, making it the worst performer on the S&P 500. Shares are now 57.5% below their late 2021 all-time high.\n",
       "\n",
       "**Analyst Coverage**\n",
       "\n",
       "As of the most recent data available, 35 analysts cover Tesla stock, with an average rating of \"Hold\". The 12-month stock price forecast is \\\\$205.07, representing an increase of 23.57% from the current price.\n",
       "\n",
       "**Product Announcements**\n",
       "\n",
       "Tesla has introduced new models and product offerings, such as the Cybertruck, which is expected to contribute significantly to the company's performance this year.\n",
       "\n",
       "**Strategic Moves**\n",
       "\n",
       "There have been no significant strategic moves or announcements from Tesla recently.\n",
       "\n",
       "**Securities Offerings**\n",
       "\n",
       "No notable securities offerings, buybacks, or dividends have been announced by Tesla.\n",
       "\n",
       "**Management Changes**\n",
       "\n",
       "There have been no significant management changes within Tesla.\n",
       "\n",
       "**Stock Price Movements**\n",
       "\n",
       "The stock price of Tesla has experienced volatility, with shares trading lower after the company missed analyst expectations for first-quarter deliveries.\n",
       "\n",
       "**Future Outlook**\n",
       "\n",
       "Looking ahead, Tesla faces challenges from both established automakers and emerging competitors in the electric vehicle space. The company must navigate these competitive pressures while continuing to innovate and grow its operations. Upcoming earnings reports will provide insights into Tesla's performance and future prospects."
      ],
      "text/plain": [
       "<IPython.core.display.Markdown object>"
      ]
     },
     "metadata": {},
     "output_type": "display_data"
    }
   ],
   "source": [
    "perplexity_url = \"https://api.perplexity.ai/chat/completions\"\n",
    "\n",
    "payload = {\n",
    "    \"model\": \"pplx-7b-online\",\n",
    "    \"messages\": [\n",
    "        {\n",
    "            \"role\": \"system\",\n",
    "            \"content\": system_prompt,\n",
    "        },\n",
    "        {\n",
    "            \"role\": \"user\",\n",
    "            \"content\": user_prompt,\n",
    "        }\n",
    "    ]\n",
    "}\n",
    "\n",
    "perplexity_headers = {\n",
    "    \"Authorization\": f\"Bearer {os.getenv('PERPLEXITY_API_KEY')}\",\n",
    "    \"accept\": \"application/json\",\n",
    "    \"content-type\": \"application/json\"\n",
    "}\n",
    "\n",
    "response = requests.post(perplexity_url, json=payload, headers=perplexity_headers)\n",
    "response_str = response.json()['choices'][0]['message']['content']\n",
    "response_str = response_str.replace(\"$\", \"\\\\\\$\")\n",
    "display(Markdown(response_str))\n"
   ]
  },
  {
   "cell_type": "code",
   "execution_count": 5,
   "id": "cd8cfd01",
   "metadata": {},
   "outputs": [
    {
     "data": {
      "text/markdown": [
       "As of March 2024, Tesla, Inc. (TSLA) has received mixed analyst ratings. According to Barchart.com, the average analyst rating for Tesla over the last three months was a moderate buy, with a score of 3.44 based on 27 analysts. Two months ago, the average rating was a hold, with a score of 3.28 based on 29 analysts. One month ago, the average rating remained a hold, with a score of 3.24 based on 29 analysts. Currently, the average rating is a hold, with a score of 3.10 based on 29 analysts.\n",
       "\n",
       "In terms of specific analyst reports, there have been recent updates on Tesla from several firms. On March 25, 2024, Oppenheimer reiterated its hold rating on Tesla, suggesting investors to \"buy the dip or bail?\" due to pricing dynamics and expectations of lower prices before buying. However, on the same day, Vijay Rakesh from Mizuho Securities downgraded Tesla, along with Rivian and Nio, citing slowing electric vehicle (EV) demand, rising inventory levels, and pricing pressure. Additionally, Evercore ISI weighed in on Tesla's Model Y price hike, suggesting it could be a quarter-end marketing push rather than a significant shift in pricing strategy."
      ],
      "text/plain": [
       "<IPython.core.display.Markdown object>"
      ]
     },
     "metadata": {},
     "output_type": "display_data"
    }
   ],
   "source": [
    "user_prompt = f\"\"\"What are the current analyst ratings on {company} ({symbol})? \n",
    "Which short sellers issued reports on {company}, if any? Summarize any notable analyst reports.\"\"\"\n",
    "\n",
    "payload = {\n",
    "    \"model\": \"pplx-7b-online\",\n",
    "    \"messages\": [\n",
    "        {\n",
    "            \"role\": \"system\",\n",
    "            \"content\": system_prompt,\n",
    "        },\n",
    "        {\n",
    "            \"role\": \"user\",\n",
    "            \"content\": user_prompt,\n",
    "        }\n",
    "    ]\n",
    "}\n",
    "\n",
    "response = requests.post(perplexity_url, json=payload, headers=perplexity_headers)\n",
    "response_str = response.json()['choices'][0]['message']['content']\n",
    "response_str = response_str.replace(\"$\", \"\\\\\\$\")\n",
    "display(Markdown(response_str))\n"
   ]
  },
  {
   "cell_type": "code",
   "execution_count": 6,
   "id": "4b6f62d1",
   "metadata": {},
   "outputs": [
    {
     "data": {
      "text/markdown": [
       "Yes, there have been several notable news stories about Tesla (TSLA) in the past year. Here are some examples:\n",
       "\n",
       "1. **Investigative Report on Tesla's Management Team** - This article from Investopedia discusses the key members of Tesla's leadership team, including Elon Musk, Zachary Kirkhorn, Andrew Baglino, and others. It provides background information on their roles and responsibilities within the company.\n",
       "\n",
       "2. **Tesla Probes Current and Former Executives** - Autonews reported that Tesla faced multiple investigations from regulatory bodies in the United States, including the National Highway Traffic Safety Administration (NHTSA).\n",
       "\n",
       "3. **Allegations of Suppressing Complaints and Rigging Algorithms** - Reuters published an investigative report accusing Tesla of suppressing thousands of driving range complaints and rigging an algorithm to inflate its cars' in-dash range estimates, leading to a federal investigation.\n",
       "\n",
       "4. **Tesla's Risk Profile** - GlobalData released a risk profile report on Tesla, highlighting the company's moderate risk profile, market position, revenue growth, and operational efficiency. It also discussed potential concerns related to low profitability and high debt levels.\n",
       "\n",
       "5. **New Investigation into Several Popular Models** - The Street reported that the NHTSA opened a probe into several popular models of Tesla vehicles in response to a dozen complaints of reported loss of steering control."
      ],
      "text/plain": [
       "<IPython.core.display.Markdown object>"
      ]
     },
     "metadata": {},
     "output_type": "display_data"
    }
   ],
   "source": [
    "user_prompt = f\"\"\"Have there been any notable news stories about {company} ({symbol}) in the past year, including management profiles and investigative reports? \n",
    "For any notable stories, provide the date of publication and the media that reported them.\"\"\"\n",
    "\n",
    "payload = {\n",
    "    \"model\": \"pplx-7b-online\",\n",
    "    \"messages\": [\n",
    "        {\n",
    "            \"role\": \"system\",\n",
    "            \"content\": system_prompt,\n",
    "        },\n",
    "        {\n",
    "            \"role\": \"user\",\n",
    "            \"content\": user_prompt,\n",
    "        }\n",
    "    ]\n",
    "}\n",
    "\n",
    "response = requests.post(perplexity_url, json=payload, headers=perplexity_headers)\n",
    "response_str = response.json()['choices'][0]['message']['content']\n",
    "response_str = response_str.replace(\"$\", \"\\\\\\$\")\n",
    "display(Markdown(response_str))\n"
   ]
  },
  {
   "cell_type": "code",
   "execution_count": 7,
   "id": "ccd856ae",
   "metadata": {},
   "outputs": [
    {
     "data": {
      "text/html": [
       "<div>\n",
       "<style scoped>\n",
       "    .dataframe tbody tr th:only-of-type {\n",
       "        vertical-align: middle;\n",
       "    }\n",
       "\n",
       "    .dataframe tbody tr th {\n",
       "        vertical-align: top;\n",
       "    }\n",
       "\n",
       "    .dataframe thead th {\n",
       "        text-align: right;\n",
       "    }\n",
       "</style>\n",
       "<table border=\"1\" class=\"dataframe\">\n",
       "  <thead>\n",
       "    <tr style=\"text-align: right;\">\n",
       "      <th></th>\n",
       "      <th>1</th>\n",
       "    </tr>\n",
       "  </thead>\n",
       "  <tbody>\n",
       "    <tr>\n",
       "      <th>Symbol</th>\n",
       "      <td>TSLA</td>\n",
       "    </tr>\n",
       "    <tr>\n",
       "      <th>AssetType</th>\n",
       "      <td>Common Stock</td>\n",
       "    </tr>\n",
       "    <tr>\n",
       "      <th>Name</th>\n",
       "      <td>Tesla Inc</td>\n",
       "    </tr>\n",
       "    <tr>\n",
       "      <th>Description</th>\n",
       "      <td>Tesla, Inc. is an American electric vehicle an...</td>\n",
       "    </tr>\n",
       "    <tr>\n",
       "      <th>CIK</th>\n",
       "      <td>1318605</td>\n",
       "    </tr>\n",
       "    <tr>\n",
       "      <th>Exchange</th>\n",
       "      <td>NASDAQ</td>\n",
       "    </tr>\n",
       "    <tr>\n",
       "      <th>Currency</th>\n",
       "      <td>USD</td>\n",
       "    </tr>\n",
       "    <tr>\n",
       "      <th>Country</th>\n",
       "      <td>USA</td>\n",
       "    </tr>\n",
       "    <tr>\n",
       "      <th>Sector</th>\n",
       "      <td>MANUFACTURING</td>\n",
       "    </tr>\n",
       "    <tr>\n",
       "      <th>Industry</th>\n",
       "      <td>MOTOR VEHICLES &amp; PASSENGER CAR BODIES</td>\n",
       "    </tr>\n",
       "    <tr>\n",
       "      <th>Address</th>\n",
       "      <td>3500 DEER CREEK RD, PALO ALTO, CA, US</td>\n",
       "    </tr>\n",
       "    <tr>\n",
       "      <th>FiscalYearEnd</th>\n",
       "      <td>December</td>\n",
       "    </tr>\n",
       "    <tr>\n",
       "      <th>LatestQuarter</th>\n",
       "      <td>2023-12-31</td>\n",
       "    </tr>\n",
       "    <tr>\n",
       "      <th>MarketCapitalization</th>\n",
       "      <td>558038909000</td>\n",
       "    </tr>\n",
       "    <tr>\n",
       "      <th>EBITDA</th>\n",
       "      <td>13558000000</td>\n",
       "    </tr>\n",
       "    <tr>\n",
       "      <th>PERatio</th>\n",
       "      <td>40.75</td>\n",
       "    </tr>\n",
       "    <tr>\n",
       "      <th>PEGRatio</th>\n",
       "      <td>2.067</td>\n",
       "    </tr>\n",
       "    <tr>\n",
       "      <th>BookValue</th>\n",
       "      <td>19.66</td>\n",
       "    </tr>\n",
       "    <tr>\n",
       "      <th>DividendPerShare</th>\n",
       "      <td>None</td>\n",
       "    </tr>\n",
       "    <tr>\n",
       "      <th>DividendYield</th>\n",
       "      <td>None</td>\n",
       "    </tr>\n",
       "    <tr>\n",
       "      <th>EPS</th>\n",
       "      <td>4.3</td>\n",
       "    </tr>\n",
       "    <tr>\n",
       "      <th>RevenuePerShareTTM</th>\n",
       "      <td>30.49</td>\n",
       "    </tr>\n",
       "    <tr>\n",
       "      <th>ProfitMargin</th>\n",
       "      <td>0.155</td>\n",
       "    </tr>\n",
       "    <tr>\n",
       "      <th>OperatingMarginTTM</th>\n",
       "      <td>0.082</td>\n",
       "    </tr>\n",
       "    <tr>\n",
       "      <th>ReturnOnAssetsTTM</th>\n",
       "      <td>0.0588</td>\n",
       "    </tr>\n",
       "    <tr>\n",
       "      <th>ReturnOnEquityTTM</th>\n",
       "      <td>0.274</td>\n",
       "    </tr>\n",
       "    <tr>\n",
       "      <th>RevenueTTM</th>\n",
       "      <td>96772997000</td>\n",
       "    </tr>\n",
       "    <tr>\n",
       "      <th>GrossProfitTTM</th>\n",
       "      <td>20853000000</td>\n",
       "    </tr>\n",
       "    <tr>\n",
       "      <th>DilutedEPSTTM</th>\n",
       "      <td>4.3</td>\n",
       "    </tr>\n",
       "    <tr>\n",
       "      <th>QuarterlyEarningsGrowthYOY</th>\n",
       "      <td>1.115</td>\n",
       "    </tr>\n",
       "    <tr>\n",
       "      <th>QuarterlyRevenueGrowthYOY</th>\n",
       "      <td>0.035</td>\n",
       "    </tr>\n",
       "    <tr>\n",
       "      <th>AnalystTargetPrice</th>\n",
       "      <td>192.88</td>\n",
       "    </tr>\n",
       "    <tr>\n",
       "      <th>AnalystRatingStrongBuy</th>\n",
       "      <td>5</td>\n",
       "    </tr>\n",
       "    <tr>\n",
       "      <th>AnalystRatingBuy</th>\n",
       "      <td>12</td>\n",
       "    </tr>\n",
       "    <tr>\n",
       "      <th>AnalystRatingHold</th>\n",
       "      <td>21</td>\n",
       "    </tr>\n",
       "    <tr>\n",
       "      <th>AnalystRatingSell</th>\n",
       "      <td>5</td>\n",
       "    </tr>\n",
       "    <tr>\n",
       "      <th>AnalystRatingStrongSell</th>\n",
       "      <td>4</td>\n",
       "    </tr>\n",
       "    <tr>\n",
       "      <th>TrailingPE</th>\n",
       "      <td>40.75</td>\n",
       "    </tr>\n",
       "    <tr>\n",
       "      <th>ForwardPE</th>\n",
       "      <td>56.5</td>\n",
       "    </tr>\n",
       "    <tr>\n",
       "      <th>PriceToSalesRatioTTM</th>\n",
       "      <td>5.77</td>\n",
       "    </tr>\n",
       "    <tr>\n",
       "      <th>PriceToBookRatio</th>\n",
       "      <td>8.9</td>\n",
       "    </tr>\n",
       "    <tr>\n",
       "      <th>EVToRevenue</th>\n",
       "      <td>5.56</td>\n",
       "    </tr>\n",
       "    <tr>\n",
       "      <th>EVToEBITDA</th>\n",
       "      <td>36.37</td>\n",
       "    </tr>\n",
       "    <tr>\n",
       "      <th>Beta</th>\n",
       "      <td>2.415</td>\n",
       "    </tr>\n",
       "    <tr>\n",
       "      <th>52WeekHigh</th>\n",
       "      <td>299.29</td>\n",
       "    </tr>\n",
       "    <tr>\n",
       "      <th>52WeekLow</th>\n",
       "      <td>152.37</td>\n",
       "    </tr>\n",
       "    <tr>\n",
       "      <th>50DayMovingAverage</th>\n",
       "      <td>187.29</td>\n",
       "    </tr>\n",
       "    <tr>\n",
       "      <th>200DayMovingAverage</th>\n",
       "      <td>232.14</td>\n",
       "    </tr>\n",
       "    <tr>\n",
       "      <th>SharesOutstanding</th>\n",
       "      <td>3184790000</td>\n",
       "    </tr>\n",
       "    <tr>\n",
       "      <th>DividendDate</th>\n",
       "      <td>None</td>\n",
       "    </tr>\n",
       "    <tr>\n",
       "      <th>ExDividendDate</th>\n",
       "      <td>None</td>\n",
       "    </tr>\n",
       "  </tbody>\n",
       "</table>\n",
       "</div>"
      ],
      "text/plain": [
       "                                                                            1\n",
       "Symbol                                                                   TSLA\n",
       "AssetType                                                        Common Stock\n",
       "Name                                                                Tesla Inc\n",
       "Description                 Tesla, Inc. is an American electric vehicle an...\n",
       "CIK                                                                   1318605\n",
       "Exchange                                                               NASDAQ\n",
       "Currency                                                                  USD\n",
       "Country                                                                   USA\n",
       "Sector                                                          MANUFACTURING\n",
       "Industry                                MOTOR VEHICLES & PASSENGER CAR BODIES\n",
       "Address                                 3500 DEER CREEK RD, PALO ALTO, CA, US\n",
       "FiscalYearEnd                                                        December\n",
       "LatestQuarter                                                      2023-12-31\n",
       "MarketCapitalization                                             558038909000\n",
       "EBITDA                                                            13558000000\n",
       "PERatio                                                                 40.75\n",
       "PEGRatio                                                                2.067\n",
       "BookValue                                                               19.66\n",
       "DividendPerShare                                                         None\n",
       "DividendYield                                                            None\n",
       "EPS                                                                       4.3\n",
       "RevenuePerShareTTM                                                      30.49\n",
       "ProfitMargin                                                            0.155\n",
       "OperatingMarginTTM                                                      0.082\n",
       "ReturnOnAssetsTTM                                                      0.0588\n",
       "ReturnOnEquityTTM                                                       0.274\n",
       "RevenueTTM                                                        96772997000\n",
       "GrossProfitTTM                                                    20853000000\n",
       "DilutedEPSTTM                                                             4.3\n",
       "QuarterlyEarningsGrowthYOY                                              1.115\n",
       "QuarterlyRevenueGrowthYOY                                               0.035\n",
       "AnalystTargetPrice                                                     192.88\n",
       "AnalystRatingStrongBuy                                                      5\n",
       "AnalystRatingBuy                                                           12\n",
       "AnalystRatingHold                                                          21\n",
       "AnalystRatingSell                                                           5\n",
       "AnalystRatingStrongSell                                                     4\n",
       "TrailingPE                                                              40.75\n",
       "ForwardPE                                                                56.5\n",
       "PriceToSalesRatioTTM                                                     5.77\n",
       "PriceToBookRatio                                                          8.9\n",
       "EVToRevenue                                                              5.56\n",
       "EVToEBITDA                                                              36.37\n",
       "Beta                                                                    2.415\n",
       "52WeekHigh                                                             299.29\n",
       "52WeekLow                                                              152.37\n",
       "50DayMovingAverage                                                     187.29\n",
       "200DayMovingAverage                                                    232.14\n",
       "SharesOutstanding                                                  3184790000\n",
       "DividendDate                                                             None\n",
       "ExDividendDate                                                           None"
      ]
     },
     "execution_count": 7,
     "metadata": {},
     "output_type": "execute_result"
    }
   ],
   "source": [
    "# AlphaVantage overview\n",
    "url = f\"https://www.alphavantage.co/query?function=OVERVIEW&symbol={symbol}&apikey={os.environ['ALPHAVANTAGE_API_KEY']}\"\n",
    "r = requests.get(url)\n",
    "data = r.json()\n",
    "pd.DataFrame(data, index=[1]).transpose()"
   ]
  },
  {
   "cell_type": "code",
   "execution_count": 27,
   "id": "bfb4e885",
   "metadata": {},
   "outputs": [],
   "source": [
    "exchange = data['Exchange']\n",
    "\n",
    "morningstarmap = {'NYSE': 'xnys',\n",
    "                  'NASDAQ': 'xnas'\n",
    "                 }\n"
   ]
  },
  {
   "cell_type": "code",
   "execution_count": 29,
   "id": "e6ad54ef",
   "metadata": {},
   "outputs": [
    {
     "name": "stdout",
     "output_type": "stream",
     "text": [
      "16:49:12 Starting\n",
      "16:49:46 Initialized profile\n",
      "16:49:46 Initialized service\n",
      "16:50:59 Initialized webdriver\n"
     ]
    }
   ],
   "source": [
    "# open pages via selenium and firefox\n",
    "outputdir = \"htmldata\"\n",
    "\n",
    "# Print the formatted time\n",
    "print(datetime.now().strftime('%H:%M:%S'), \"Starting\", flush=True)\n",
    "\n",
    "firefox_app_path = '/Applications/Firefox.app'\n",
    "# Path to your geckodriver\n",
    "geckodriver_path = '/Users/drucev/webdrivers/geckodriver'\n",
    "\n",
    "# Set up Firefox options to use your existing profile\n",
    "# important for some sites that need a login, also a generic profile fingerprint that looks like a bot might get blocked\n",
    "firefox_profile_path = '/Users/drucev/Library/Application Support/Firefox/Profiles/k8k0lcjj.default-release'\n",
    "options = Options()\n",
    "options.profile = firefox_profile_path\n",
    "\n",
    "print(datetime.now().strftime('%H:%M:%S'), \"Initialized profile\", flush=True)\n",
    "\n",
    "# Create a Service object with the path\n",
    "service = Service(geckodriver_path)\n",
    "\n",
    "print(datetime.now().strftime('%H:%M:%S'), \"Initialized service\", flush=True)\n",
    "# Set up the Firefox driver\n",
    "driver = webdriver.Firefox(service=service, options=options)\n",
    "\n",
    "print(datetime.now().strftime('%H:%M:%S'), \"Initialized webdriver\", flush=True)\n",
    "sleeptime = 10\n"
   ]
  },
  {
   "cell_type": "code",
   "execution_count": 30,
   "id": "d694ae26",
   "metadata": {},
   "outputs": [],
   "source": [
    "# Open a new tab\n",
    "def open_tab(driver, url):\n",
    "    driver.execute_script(f\"window.open('{url}');\")\n",
    "    # Switch to last one opened - sometimes hangs?\n",
    "    # driver.switch_to.window(driver.window_handles[-1])\n",
    "    # print(url)\n",
    "    # time.sleep(sleeptime)  \n"
   ]
  },
  {
   "cell_type": "code",
   "execution_count": 31,
   "id": "d3107671",
   "metadata": {},
   "outputs": [
    {
     "data": {
      "text/markdown": [
       "[Stockcharts](https://stockcharts.com/h-sc/ui?s=TSLA&id=p33407302522&def=Y&listNum=1#)"
      ],
      "text/plain": [
       "<IPython.core.display.Markdown object>"
      ]
     },
     "metadata": {},
     "output_type": "display_data"
    }
   ],
   "source": [
    "url = f\"https://stockcharts.com/h-sc/ui?s={symbol}&id=p33407302522&def=Y&listNum=1#\"\n",
    "source = \"Stockcharts\"\n",
    "# Open the page\n",
    "driver.get(url)\n",
    "\n",
    "# Wait for the page to load\n",
    "# time.sleep(sleeptime)  \n",
    "display(Markdown(f\"[{source}]({url})\"))"
   ]
  },
  {
   "cell_type": "code",
   "execution_count": 32,
   "id": "db5b36a6",
   "metadata": {},
   "outputs": [
    {
     "data": {
      "text/markdown": [
       "[Bloomberg](https://www.bloomberg.com/search?query=Tesla)"
      ],
      "text/plain": [
       "<IPython.core.display.Markdown object>"
      ]
     },
     "metadata": {},
     "output_type": "display_data"
    }
   ],
   "source": [
    "url = f'https://www.bloomberg.com/search?query={company}'\n",
    "source = \"Bloomberg\"\n",
    "open_tab(driver, url)\n",
    "display(Markdown(f\"[{source}]({url})\"))"
   ]
  },
  {
   "cell_type": "code",
   "execution_count": 33,
   "id": "b854cf04",
   "metadata": {},
   "outputs": [
    {
     "data": {
      "text/markdown": [
       "[Reuters](https://www.reuters.com/site-search/?query=Tesla&offset=0)"
      ],
      "text/plain": [
       "<IPython.core.display.Markdown object>"
      ]
     },
     "metadata": {},
     "output_type": "display_data"
    }
   ],
   "source": [
    "url = f'https://www.reuters.com/site-search/?query={company}&offset=0'\n",
    "source = \"Reuters\"\n",
    "open_tab(driver, url)\n",
    "display(Markdown(f\"[{source}]({url})\"))"
   ]
  },
  {
   "cell_type": "code",
   "execution_count": 34,
   "id": "38912e8f",
   "metadata": {},
   "outputs": [
    {
     "data": {
      "text/markdown": [
       "[Yahoo quote](https://finance.yahoo.com/quote/TSLA/news)"
      ],
      "text/plain": [
       "<IPython.core.display.Markdown object>"
      ]
     },
     "metadata": {},
     "output_type": "display_data"
    }
   ],
   "source": [
    "url = f'https://finance.yahoo.com/quote/{symbol}/news'\n",
    "source = \"Yahoo quote\"\n",
    "open_tab(driver, url)\n",
    "display(Markdown(f\"[{source}]({url})\"))"
   ]
  },
  {
   "cell_type": "code",
   "execution_count": 35,
   "id": "b546c41f",
   "metadata": {},
   "outputs": [
    {
     "data": {
      "text/markdown": [
       "[Yahoo stats](https://finance.yahoo.com/quote/TSLA/key-statistics?ltr=1)"
      ],
      "text/plain": [
       "<IPython.core.display.Markdown object>"
      ]
     },
     "metadata": {},
     "output_type": "display_data"
    }
   ],
   "source": [
    "url = f'https://finance.yahoo.com/quote/{symbol}/key-statistics?ltr=1'\n",
    "source = \"Yahoo stats\"\n",
    "open_tab(driver, url)\n",
    "display(Markdown(f\"[{source}]({url})\"))"
   ]
  },
  {
   "cell_type": "code",
   "execution_count": 36,
   "id": "b4b8e6ce",
   "metadata": {},
   "outputs": [
    {
     "data": {
      "text/markdown": [
       "[FT](https://www.ft.com/search?q=Tesla)"
      ],
      "text/plain": [
       "<IPython.core.display.Markdown object>"
      ]
     },
     "metadata": {},
     "output_type": "display_data"
    }
   ],
   "source": [
    "url = f'https://www.ft.com/search?q={company}'\n",
    "source = \"FT\"\n",
    "open_tab(driver, url)\n",
    "display(Markdown(f\"[{source}]({url})\"))"
   ]
  },
  {
   "cell_type": "code",
   "execution_count": 37,
   "id": "936a210b",
   "metadata": {},
   "outputs": [
    {
     "data": {
      "text/markdown": [
       "[Marketwatch](https://www.marketwatch.com/investing/stock/TSLA?mod=search_symbol)"
      ],
      "text/plain": [
       "<IPython.core.display.Markdown object>"
      ]
     },
     "metadata": {},
     "output_type": "display_data"
    }
   ],
   "source": [
    "url = f'https://www.marketwatch.com/investing/stock/{symbol}?mod=search_symbol'\n",
    "source = \"Marketwatch\"\n",
    "open_tab(driver, url)\n",
    "display(Markdown(f\"[{source}]({url})\"))"
   ]
  },
  {
   "cell_type": "code",
   "execution_count": 38,
   "id": "36bd4b7a",
   "metadata": {},
   "outputs": [
    {
     "data": {
      "text/markdown": [
       "[Barrons](https://www.barrons.com/market-data/stocks/TSLA?mod=searchresults_companyquotes&mod=searchbar&search_keywords=Tesla&search_statement_type=suggested)"
      ],
      "text/plain": [
       "<IPython.core.display.Markdown object>"
      ]
     },
     "metadata": {},
     "output_type": "display_data"
    }
   ],
   "source": [
    "url = f'https://www.barrons.com/market-data/stocks/{symbol}?mod=searchresults_companyquotes&mod=searchbar&search_keywords={company}&search_statement_type=suggested'    \n",
    "source = \"Barrons\"\n",
    "open_tab(driver, url)\n",
    "display(Markdown(f\"[{source}]({url})\"))"
   ]
  },
  {
   "cell_type": "code",
   "execution_count": 39,
   "id": "ecf82b37",
   "metadata": {},
   "outputs": [
    {
     "data": {
      "text/markdown": [
       "[Insider](https://www.businessinsider.com/s?q=Tesla)"
      ],
      "text/plain": [
       "<IPython.core.display.Markdown object>"
      ]
     },
     "metadata": {},
     "output_type": "display_data"
    }
   ],
   "source": [
    "url = f'https://www.businessinsider.com/s?q={company}'\n",
    "source = \"Insider\"\n",
    "open_tab(driver, url)\n",
    "display(Markdown(f\"[{source}]({url})\"))"
   ]
  },
  {
   "cell_type": "code",
   "execution_count": 40,
   "id": "07a59ba0",
   "metadata": {},
   "outputs": [
    {
     "data": {
      "text/markdown": [
       "[Google Finance](https://www.google.com/finance/quote/NASDAQ:TSLA)"
      ],
      "text/plain": [
       "<IPython.core.display.Markdown object>"
      ]
     },
     "metadata": {},
     "output_type": "display_data"
    }
   ],
   "source": [
    "url = f'https://www.google.com/finance/quote/{symbol}:{exchange}'\n",
    "source = \"Google Finance\"\n",
    "open_tab(driver, url)\n",
    "display(Markdown(f\"[{source}]({url})\"))"
   ]
  },
  {
   "cell_type": "code",
   "execution_count": 41,
   "id": "ca5dd4d3",
   "metadata": {},
   "outputs": [
    {
     "data": {
      "text/markdown": [
       "[FinViz](https://finviz.com/quote.ashx?t=TSLA&p=d)"
      ],
      "text/plain": [
       "<IPython.core.display.Markdown object>"
      ]
     },
     "metadata": {},
     "output_type": "display_data"
    }
   ],
   "source": [
    "url = f'https://finviz.com/quote.ashx?t={symbol}&p=d'\n",
    "source = \"FinViz\"\n",
    "open_tab(driver, url)\n",
    "display(Markdown(f\"[{source}]({url})\"))"
   ]
  },
  {
   "cell_type": "code",
   "execution_count": 42,
   "id": "a658c304",
   "metadata": {},
   "outputs": [
    {
     "data": {
      "text/markdown": [
       "[Reddit](https://www.reddit.com/search?q=Tesla&include_over_18=on&sort=relevance&t=all)"
      ],
      "text/plain": [
       "<IPython.core.display.Markdown object>"
      ]
     },
     "metadata": {},
     "output_type": "display_data"
    }
   ],
   "source": [
    "url = f'https://www.reddit.com/search?q={company}&include_over_18=on&sort=relevance&t=all'\n",
    "source = \"Reddit\"\n",
    "open_tab(driver, url)\n",
    "display(Markdown(f\"[{source}]({url})\"))"
   ]
  },
  {
   "cell_type": "code",
   "execution_count": 43,
   "id": "42a06f35",
   "metadata": {},
   "outputs": [
    {
     "data": {
      "text/markdown": [
       "[Morningstar](https://www.morningstar.com/stocks/xnas/TSLA/quote)"
      ],
      "text/plain": [
       "<IPython.core.display.Markdown object>"
      ]
     },
     "metadata": {},
     "output_type": "display_data"
    }
   ],
   "source": [
    "morn_exch = morningstarmap[exchange]\n",
    "url = f'https://www.morningstar.com/stocks/{morn_exch}/{symbol}/quote'\n",
    "source = \"Morningstar\"\n",
    "open_tab(driver, url)\n",
    "display(Markdown(f\"[{source}]({url})\"))\n",
    "    "
   ]
  },
  {
   "cell_type": "code",
   "execution_count": null,
   "id": "fee0adb6",
   "metadata": {},
   "outputs": [],
   "source": []
  }
 ],
 "metadata": {
  "kernelspec": {
   "display_name": "ainewsbot",
   "language": "python",
   "name": "ainewsbot"
  },
  "language_info": {
   "codemirror_mode": {
    "name": "ipython",
    "version": 3
   },
   "file_extension": ".py",
   "mimetype": "text/x-python",
   "name": "python",
   "nbconvert_exporter": "python",
   "pygments_lexer": "ipython3",
   "version": "3.9.19"
  }
 },
 "nbformat": 4,
 "nbformat_minor": 5
}
