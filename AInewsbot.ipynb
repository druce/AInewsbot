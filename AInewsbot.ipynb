{
 "cells": [
  {
   "cell_type": "markdown",
   "id": "2f4d6d88-0f37-4edb-a226-244a287823a6",
   "metadata": {},
   "source": [
    "AInewsbot.ipynb\n",
    "\n",
    "- Open URLs of news sites specififed in `sources` dict using Selenium and Firefox\n",
    "- Save HTML of each URL in htmldata directory\n",
    "- Extract URLs from all files, create a pandas dataframe with url, title, src\n",
    "- Use ChatGPT to filter only AI-related headlines by sending a prompt and formatted table of headlines\n",
    "- Use SQLite to filter headlines previously seen \n",
    "- OPENAI_API_KEY should be in the environment or in a .env file\n",
    "  \n",
    "Alternative manual workflow to get HTML files if necessary\n",
    "- Use Chrome, open e.g. Tech News bookmark folder, right-click and open all bookmarks in new window\n",
    "- on Google News, make sure switch to AI tab\n",
    "- on Google News, Feedly, Reddit, scroll to additional pages as desired\n",
    "- Use SingleFile extension, 'save all tabs'\n",
    "- Move files to htmldata directory\n",
    "- Run lower part of notebook to process the data\n"
   ]
  },
  {
   "cell_type": "code",
   "execution_count": 1,
   "id": "0c757ee9-8f4e-4f95-a491-bfac533755bd",
   "metadata": {
    "tags": []
   },
   "outputs": [
    {
     "name": "stdout",
     "output_type": "stream",
     "text": [
      "openai          1.14.2\n",
      "requests        2.31.0\n",
      "BeautifulSoup   4.12.3\n"
     ]
    }
   ],
   "source": [
    "import json\n",
    "import os\n",
    "import re\n",
    "from datetime import datetime, timedelta\n",
    "from urllib.parse import urlparse\n",
    "import time\n",
    "import yaml\n",
    "\n",
    "import smtplib\n",
    "from email.mime.multipart import MIMEMultipart\n",
    "from email.mime.text import MIMEText\n",
    "\n",
    "import numpy as np\n",
    "import pandas as pd\n",
    "from scipy.spatial.distance import cdist\n",
    "\n",
    "from selenium import webdriver\n",
    "from selenium.webdriver.common.by import By\n",
    "from selenium.webdriver.common.keys import Keys\n",
    "from selenium.webdriver.support.ui import WebDriverWait\n",
    "from selenium.webdriver.support import expected_conditions as EC\n",
    "# use firefox because it updates less often, can disable updates\n",
    "# recommend importing profile from Chrome for cookies, passwords\n",
    "# looks less like a bot with more user cruft in the profile\n",
    "from selenium.webdriver.firefox.options import Options\n",
    "from selenium.webdriver.firefox.service import Service\n",
    "\n",
    "import bs4\n",
    "from bs4 import BeautifulSoup\n",
    "import requests\n",
    "from urllib.parse import urljoin\n",
    "\n",
    "import openai\n",
    "from openai import OpenAI\n",
    "import tiktoken\n",
    "\n",
    "import dotenv\n",
    "\n",
    "import sqlite3\n",
    "\n",
    "import IPython\n",
    "from IPython.display import HTML, Markdown, display\n",
    "\n",
    "from atproto import Client\n",
    "\n",
    "import PIL\n",
    "from PIL import Image\n",
    "\n",
    "print(f\"openai          {openai.__version__}\")\n",
    "print(f\"requests        {requests.__version__}\")\n",
    "print(f\"BeautifulSoup   {bs4.__version__}\")"
   ]
  },
  {
   "cell_type": "code",
   "execution_count": 2,
   "id": "04ae6f86-e878-4f3d-9e1f-0bb9fad3ea81",
   "metadata": {},
   "outputs": [
    {
     "name": "stdout",
     "output_type": "stream",
     "text": [
      "2024-03-29 09:19:49.660217\n"
     ]
    }
   ],
   "source": [
    "print(datetime.now())"
   ]
  },
  {
   "cell_type": "code",
   "execution_count": 70,
   "id": "55023e78-e796-4e69-9cad-b5f039c75a85",
   "metadata": {},
   "outputs": [],
   "source": [
    "# load credentials if necessary\n",
    "dotenv.load_dotenv()\n",
    "client = OpenAI()"
   ]
  },
  {
   "cell_type": "code",
   "execution_count": 4,
   "id": "a85ffe86",
   "metadata": {},
   "outputs": [],
   "source": [
    "# delete files in output directory\n",
    "download_dir = \"htmldata\"\n",
    "\n",
    "def delete_files(outputdir):\n",
    "\n",
    "    # Iterate over all files in the directory\n",
    "    for filename in os.listdir(outputdir):\n",
    "        if filename.startswith('.'):\n",
    "            continue\n",
    "        file_path = os.path.join(outputdir, filename)\n",
    "        try:\n",
    "            if os.path.isfile(file_path) or os.path.islink(file_path):\n",
    "                os.remove(file_path)  # Remove the file\n",
    "            elif os.path.isdir(file_path):\n",
    "                # If you want to remove subdirectories as well, use os.rmdir() here\n",
    "                pass\n",
    "        except Exception as e:\n",
    "            print(f'Failed to delete {file_path}. Reason: {e}')\n",
    "\n",
    "\n",
    "delete_files(download_dir)"
   ]
  },
  {
   "cell_type": "markdown",
   "id": "3e57c1b2-b4bb-4a24-94ec-b0f17cd70d5d",
   "metadata": {},
   "source": [
    "# Specify sources"
   ]
  },
  {
   "cell_type": "code",
   "execution_count": 66,
   "id": "49c9efb0",
   "metadata": {},
   "outputs": [
    {
     "data": {
      "text/plain": [
       "{'Reddit': {'title': 'top scoring links _ multi',\n",
       "  'url': 'https://www.reddit.com/r/ChatGPT+ChatGPTCoding+MacOS+MachineLearning+OpenAI+ProgrammerHumor+Windows10+battlestations+buildapc+cordcutters+dataisbeautiful+gadgets+hardware+linux+msp+programming+realtech+software+talesfromtechsupport+tech+technews+technology+techsupportgore+windows/top/?sort=top&t=day',\n",
       "  'scroll': 2,\n",
       "  'exclude': ['^https://www.reddit.com/',\n",
       "   '^https://chat.reddit.com/',\n",
       "   '^https://i.redd.it/',\n",
       "   '^https://redditblog.com/',\n",
       "   '^https://www.redditinc.com/',\n",
       "   '^https://www.reddithelp.com/',\n",
       "   '^https://itunes.apple.com/',\n",
       "   '^https://play.google.com/']},\n",
       " 'Hacker News': {'title': 'Hacker News Page 1',\n",
       "  'url': 'https://news.ycombinator.com/',\n",
       "  'exclude': ['https://news.ycombinator.com/',\n",
       "   'https://www.ycombinator.com/']},\n",
       " 'Hacker News 2': {'title': 'Hacker News Page 2',\n",
       "  'url': 'https://news.ycombinator.com/?p=2',\n",
       "  'exclude': ['https://news.ycombinator.com/',\n",
       "   'https://www.ycombinator.com/']},\n",
       " 'Techmeme': {'title': 'Techmeme',\n",
       "  'url': 'https://www.techmeme.com/river',\n",
       "  'exclude': ['^https://www.techmeme.com',\n",
       "   '^https://twitter.com/',\n",
       "   '^https://www.threads.net',\n",
       "   '^https://www.linkedin.com',\n",
       "   '^https://mastodon.social',\n",
       "   '^https://bsky.app']},\n",
       " 'Feedly AI': {'title': 'Discover and Add New Feedly AI Feeds',\n",
       "  'url': 'https://feedly.com/i/aiFeeds?options=eyJsYXllcnMiOlt7InBhcnRzIjpbeyJpZCI6Im5scC9mL3RvcGljLzMwMDAifV0sInNlYXJjaEhpbnQiOiJ0ZWNobm9sb2d5IiwidHlwZSI6Im1hdGNoZXMiLCJzYWxpZW5jZSI6ImFib3V0In1dLCJidW5kbGVzIjpbeyJ0eXBlIjoic3RyZWFtIiwiaWQiOiJ1c2VyLzYyZWViYjlmLTcxNTEtNGY5YS1hOGM3LTlhNTdiODIwNTMwOC9jYXRlZ29yeS9HYWRnZXRzIn1dfQ',\n",
       "  'scroll': 2},\n",
       " 'NYT Tech': {'title': 'Technology - The New York Times',\n",
       "  'url': 'https://www.nytimes.com/section/technology',\n",
       "  'include': ['^https://www.nytimes.com/(\\\\d+)/(\\\\d+)/(\\\\d+)(.*).html$']},\n",
       " 'WSJ Tech': {'title': 'Technology - WSJ.com',\n",
       "  'url': 'https://www.wsj.com/tech',\n",
       "  'include': ['^https://www.wsj.com/articles/']},\n",
       " 'Bloomberg Tech': {'title': 'Bloomberg Technology - Bloomberg',\n",
       "  'url': 'https://www.bloomberg.com/technology',\n",
       "  'include': ['^https://www.bloomberg.com/news/(\\\\w+)/(\\\\d+)-(\\\\d+)-(\\\\d+)']},\n",
       " 'FT Tech': {'title': 'Technology',\n",
       "  'url': 'https://www.ft.com/technology',\n",
       "  'include': ['https://www.ft.com/content/']},\n",
       " 'WaPo Tech': {'title': 'Technology - The Washington Post',\n",
       "  'url': 'https://www.washingtonpost.com/business/technology/',\n",
       "  'include': ['https://www.washingtonpost.com/(\\\\w+)/(\\\\d+)/(\\\\d+)/(\\\\d+)/']},\n",
       " 'Google News': {'title': 'Google News - Technology - Artificial intelligence',\n",
       "  'url': 'https://news.google.com/topics/CAAqJggKIiBDQkFTRWdvSUwyMHZNRGRqTVhZU0FtVnVHZ0pWVXlnQVAB?hl=en-US&gl=US&ceid=US%3Aen',\n",
       "  'scroll': 2,\n",
       "  'click': '//*[@aria-label=\"Artificial intelligence\"]',\n",
       "  'include': ['^https://news.google.com/articles/']},\n",
       " 'HackerNoon': {'title': 'HackerNoon - read, write and learn about any technology',\n",
       "  'url': 'https://hackernoon.com/',\n",
       "  'include': ['^https://hackernoon.com/([^/])*$'],\n",
       "  'exclude': ['^https://hackernoon.com/$',\n",
       "   '^https://hackernoon.com/c$',\n",
       "   '^https://hackernoon.com/coins$',\n",
       "   '^https://hackernoon.com/companies$',\n",
       "   '^https://hackernoon.com/gallery$',\n",
       "   '^https://hackernoon.com/how-to-gain-followers-and-newsletter-subs-directly-on-hackernoon$',\n",
       "   '^https://hackernoon.com/login$',\n",
       "   '^https://hackernoon.com/reader-boot$',\n",
       "   '^https://hackernoon.com/sitemap.xml$',\n",
       "   '^https://hackernoon.com/startups$',\n",
       "   '^https://hackernoon.com/techbeat$',\n",
       "   '^https://hackernoon.com/why-i-write-on-hacker-noon-nl28335q$',\n",
       "   '^https://hackernoon.com/writer-signup$']},\n",
       " 'Ars Technica': {'title': 'Ars Technica',\n",
       "  'url': 'https://arstechnica.com/',\n",
       "  'include': ['^https://arstechnica.com/gadgets/(\\\\d+)/(\\\\d+)/']},\n",
       " 'The Register': {'title': 'The Register_ Enterprise Technology News and Analysis',\n",
       "  'url': 'https://www.theregister.com/',\n",
       "  'include': ['^https://www.theregister.com/(\\\\d+)/(\\\\d+)/(\\\\d+)/']},\n",
       " 'Business Insider': {'title': 'Tech - Business Insider',\n",
       "  'url': 'https://www.businessinsider.com/tech',\n",
       "  'exclude': ['^https://www.insider.com', '^https://www.passionfroot.me']}}"
      ]
     },
     "execution_count": 66,
     "metadata": {},
     "output_type": "execute_result"
    }
   ],
   "source": [
    "# load sources from YAML file\n",
    "with open(\"sources.yaml\", \"r\") as stream:\n",
    "    try:\n",
    "        INDICATORS = yaml.safe_load(stream)\n",
    "    except yaml.YAMLError as exc:\n",
    "        print(exc)\n",
    "\n",
    "sources"
   ]
  },
  {
   "cell_type": "markdown",
   "id": "79825fdb-7f01-4a35-bd6d-7a00f5d7d752",
   "metadata": {},
   "source": [
    "# Download HTML files from sources"
   ]
  },
  {
   "cell_type": "code",
   "execution_count": 67,
   "id": "5c9a3f1a",
   "metadata": {},
   "outputs": [
    {
     "name": "stdout",
     "output_type": "stream",
     "text": [
      "17:50:40 Starting\n",
      "17:51:12 Initialized profile\n",
      "17:51:12 Initialized service\n",
      "17:52:27 Initialized webdriver\n",
      "17:52:27 Processing Reddit\n",
      "17:52:40 Loading additional infinite scroll items\n",
      "17:52:50 Loading additional infinite scroll items\n",
      "17:53:01 Saving top scoring links _ multi (03_29_2024 05_53_01 PM).html as utf-8\n",
      "17:53:01 Processing Hacker News\n",
      "17:53:13 Saving Hacker News Page 1 (03_29_2024 05_53_13 PM).html as utf-8\n",
      "17:53:13 Processing Hacker News 2\n",
      "17:53:23 Saving Hacker News Page 2 (03_29_2024 05_53_23 PM).html as utf-8\n",
      "17:53:23 Processing Techmeme\n",
      "17:53:34 Saving Techmeme (03_29_2024 05_53_34 PM).html as utf-8\n",
      "17:53:34 Processing Feedly AI\n",
      "17:53:45 Loading additional infinite scroll items\n",
      "17:53:55 Loading additional infinite scroll items\n",
      "17:54:05 Saving Discover and Add New Feedly AI Feeds (03_29_2024 05_54_05 PM).html as utf-8\n",
      "17:54:05 Processing NYT Tech\n",
      "17:54:16 Saving Technology - The New York Times (03_29_2024 05_54_16 PM).html as utf-8\n",
      "17:54:16 Processing WSJ Tech\n",
      "17:54:28 Saving Technology - WSJ.com (03_29_2024 05_54_28 PM).html as utf-8\n",
      "17:54:28 Processing Bloomberg Tech\n",
      "17:54:40 Saving Bloomberg Technology - Bloomberg (03_29_2024 05_54_40 PM).html as utf-8\n",
      "17:54:40 Processing FT Tech\n",
      "17:54:51 Saving Technology (03_29_2024 05_54_51 PM).html as utf-8\n",
      "17:54:51 Processing WaPo Tech\n",
      "17:55:01 Saving Technology - The Washington Post (03_29_2024 05_55_01 PM).html as utf-8\n",
      "17:55:01 Processing Google News\n",
      "17:55:13 Clicking on //*[@aria-label=\"Artificial intelligence\"]\n",
      "17:55:14 Clicked\n",
      "17:55:14 Loading additional infinite scroll items\n",
      "17:55:24 Loading additional infinite scroll items\n",
      "17:55:34 Saving Google News - Technology - Artificial intelligence (03_29_2024 05_55_34 PM).html as utf-8\n",
      "17:55:34 Processing HackerNoon\n",
      "17:55:45 Saving HackerNoon - read, write and learn about any technology (03_29_2024 05_55_45 PM).html as utf-8\n",
      "17:55:45 Processing Ars Technica\n",
      "17:55:56 Saving Ars Technica (03_29_2024 05_55_56 PM).html as utf-8\n",
      "17:55:56 Processing The Register\n",
      "17:56:07 Saving The Register_ Enterprise Technology News and Analysis (03_29_2024 05_56_07 PM).html as utf-8\n",
      "17:56:07 Processing Business Insider\n",
      "17:56:17 Saving Tech - Business Insider (03_29_2024 05_56_17 PM).html as utf-8\n",
      "17:56:22 Quit webdriver\n"
     ]
    }
   ],
   "source": [
    "# download files via selenium and firefox\n",
    "outputdir = \"htmldata\"\n",
    "delete_files(outputdir)\n",
    "\n",
    "# Print the formatted time\n",
    "print(datetime.now().strftime('%H:%M:%S'), \"Starting\", flush=True)\n",
    "\n",
    "firefox_app_path = '/Applications/Firefox.app'\n",
    "# Path to your geckodriver\n",
    "geckodriver_path = '/Users/drucev/webdrivers/geckodriver'\n",
    "\n",
    "# Set up Firefox options to use your existing profile\n",
    "# important for some sites that need a login, also a generic profile fingerprint that looks like a bot might get blocked\n",
    "firefox_profile_path = '/Users/drucev/Library/Application Support/Firefox/Profiles/k8k0lcjj.default-release'\n",
    "options = Options()\n",
    "options.profile = firefox_profile_path\n",
    "\n",
    "print(datetime.now().strftime('%H:%M:%S'), \"Initialized profile\", flush=True)\n",
    "\n",
    "# Create a Service object with the path\n",
    "service = Service(geckodriver_path)\n",
    "\n",
    "print(datetime.now().strftime('%H:%M:%S'), \"Initialized service\", flush=True)\n",
    "# Set up the Firefox driver\n",
    "driver = webdriver.Firefox(service=service, options=options)\n",
    "\n",
    "print(datetime.now().strftime('%H:%M:%S'), \"Initialized webdriver\", flush=True)\n",
    "sleeptime = 10\n",
    "\n",
    "for sourcename, sourcedict in sources.items():\n",
    "    print(datetime.now().strftime('%H:%M:%S'), f'Processing {sourcename}', flush=True)\n",
    "    title = sourcedict[\"title\"]\n",
    "    url = sourcedict[\"url\"]\n",
    "    scroll = sourcedict.get(\"scroll\", 0)\n",
    "    click = sourcedict.get(\"click\")\n",
    "\n",
    "    # Open the page\n",
    "    driver.get(url)\n",
    "\n",
    "    # Wait for the page to load\n",
    "    time.sleep(sleeptime)  # Adjust the sleep time as necessary\n",
    "\n",
    "    if click:\n",
    "        print(datetime.now().strftime('%H:%M:%S'), f\"Clicking on {click}\", flush=True)\n",
    "        button = driver.find_element(By.XPATH, click)\n",
    "        if button:\n",
    "            button.click()\n",
    "            print(datetime.now().strftime('%H:%M:%S'), f\"Clicked\", flush=True)\n",
    "\n",
    "    for _ in range(scroll):\n",
    "        # scroll to bottom of infinite scrolling window\n",
    "        driver.execute_script(\"window.scrollTo(0, document.body.scrollHeight);\")\n",
    "        print(datetime.now().strftime('%H:%M:%S'), \"Loading additional infinite scroll items\", flush=True)\n",
    "        time.sleep(sleeptime) # wait for it to load additional items\n",
    "\n",
    "    # Get the HTML source of the page\n",
    "    html_source = driver.page_source\n",
    "\n",
    "    # check encoding, default utf-8\n",
    "    encoding = \"utf-8\"  # Default to UTF-8 if not specified\n",
    "    # Retrieve the content-type meta tag from the HTML\n",
    "    try:\n",
    "        meta_tag = driver.find_element(By.XPATH, \"//meta[@http-equiv='Content-Type']\")\n",
    "        content_type = meta_tag.get_attribute(\"content\")\n",
    "        # Typical format is \"text/html; charset=UTF-8\"\n",
    "        charset_start = content_type.find(\"charset=\")\n",
    "        if charset_start != -1:\n",
    "            encoding = content_type[charset_start + 8:]\n",
    "    except Exception as err:\n",
    "        pass\n",
    "\n",
    "    # Save the HTML to a local file\n",
    "    datestr = datetime.now().strftime(\"%m_%d_%Y %I_%M_%S %p\")\n",
    "    outfile = f'{title} ({datestr}).html'\n",
    "    print(datetime.now().strftime('%H:%M:%S'), f\"Saving {outfile} as {encoding}\", flush=True)\n",
    "    with open(outputdir + \"/\" + outfile, 'w', encoding=encoding) as file:\n",
    "        file.write(html_source)\n",
    "\n",
    "# Close the browser\n",
    "driver.quit()\n",
    "print(datetime.now().strftime('%H:%M:%S'), \"Quit webdriver\", flush=True)\n"
   ]
  },
  {
   "cell_type": "code",
   "execution_count": 7,
   "id": "592b5714",
   "metadata": {},
   "outputs": [
    {
     "data": {
      "text/plain": [
       "['htmldata/Bloomberg Technology - Bloomberg (03_29_2024 09_23_33 AM).html',\n",
       " 'htmldata/top scoring links _ multi (03_29_2024 09_21_54 AM).html',\n",
       " 'htmldata/Google News - Technology - Artificial intelligence (03_29_2024 09_24_29 AM).html',\n",
       " 'htmldata/Technology (03_29_2024 09_23_44 AM).html',\n",
       " 'htmldata/Technology - The Washington Post (03_29_2024 09_23_55 AM).html',\n",
       " 'htmldata/Discover and Add New Feedly AI Feeds (03_29_2024 09_22_59 AM).html',\n",
       " 'htmldata/.gitkeep',\n",
       " 'htmldata/Tech - Business Insider (03_29_2024 09_25_13 AM).html',\n",
       " 'htmldata/Hacker News Page 1 (03_29_2024 09_22_07 AM).html',\n",
       " 'htmldata/Technology - WSJ.com (03_29_2024 09_23_22 AM).html',\n",
       " 'htmldata/Ars Technica (03_29_2024 09_24_51 AM).html',\n",
       " 'htmldata/The Register_ Enterprise Technology News and Analysis (03_29_2024 09_25_01 AM).html',\n",
       " 'htmldata/Technology - The New York Times (03_29_2024 09_23_10 AM).html',\n",
       " 'htmldata/Hacker News Page 2 (03_29_2024 09_22_17 AM).html',\n",
       " 'htmldata/HackerNoon - read, write and learn about any technology (03_29_2024 09_24_40 AM).html',\n",
       " 'htmldata/Techmeme (03_29_2024 09_22_28 AM).html']"
      ]
     },
     "execution_count": 7,
     "metadata": {},
     "output_type": "execute_result"
    }
   ],
   "source": [
    "[os.path.join(download_dir, file) for file in os.listdir(download_dir)]"
   ]
  },
  {
   "cell_type": "code",
   "execution_count": 8,
   "id": "94633373-b719-48bc-9c4e-eb4ccbe6ad91",
   "metadata": {
    "tags": []
   },
   "outputs": [
    {
     "name": "stdout",
     "output_type": "stream",
     "text": [
      "15\n",
      "htmldata/Tech - Business Insider (03_29_2024 09_25_13 AM).html\n",
      "htmldata/The Register_ Enterprise Technology News and Analysis (03_29_2024 09_25_01 AM).html\n",
      "htmldata/Ars Technica (03_29_2024 09_24_51 AM).html\n",
      "htmldata/HackerNoon - read, write and learn about any technology (03_29_2024 09_24_40 AM).html\n",
      "htmldata/Google News - Technology - Artificial intelligence (03_29_2024 09_24_29 AM).html\n",
      "htmldata/Technology - The Washington Post (03_29_2024 09_23_55 AM).html\n",
      "htmldata/Technology (03_29_2024 09_23_44 AM).html\n",
      "htmldata/Bloomberg Technology - Bloomberg (03_29_2024 09_23_33 AM).html\n",
      "htmldata/Technology - WSJ.com (03_29_2024 09_23_22 AM).html\n",
      "htmldata/Technology - The New York Times (03_29_2024 09_23_10 AM).html\n",
      "htmldata/Discover and Add New Feedly AI Feeds (03_29_2024 09_22_59 AM).html\n",
      "htmldata/Techmeme (03_29_2024 09_22_28 AM).html\n",
      "htmldata/Hacker News Page 2 (03_29_2024 09_22_17 AM).html\n",
      "htmldata/Hacker News Page 1 (03_29_2024 09_22_07 AM).html\n",
      "htmldata/top scoring links _ multi (03_29_2024 09_21_54 AM).html\n"
     ]
    }
   ],
   "source": [
    "# List all paths in the directory matching today's date\n",
    "nfiles = 50\n",
    "\n",
    "# Get the current date\n",
    "today = datetime.now()\n",
    "year, month, day = today.year, today.month, today.day\n",
    "\n",
    "datestr = datetime.now().strftime(\"%m_%d_%Y\")\n",
    "\n",
    "# print(f\"Year: {year}, Month: {month}, Day: {day}\")\n",
    "\n",
    "files = [os.path.join(download_dir, file) for file in os.listdir(download_dir)]\n",
    "# filter files only\n",
    "files = [file for file in files if os.path.isfile(file)]\n",
    "\n",
    "# Sort files by modification time and take top 50\n",
    "files.sort(key=lambda x: os.path.getmtime(x), reverse=True)\n",
    "file = files[:nfiles]\n",
    "\n",
    "# filter files by with today's date ending in .html\n",
    "files = [file for file in files if datestr in file and file.endswith(\".html\")]\n",
    "print(len(files))\n",
    "for file in files:\n",
    "    print(file)"
   ]
  },
  {
   "cell_type": "code",
   "execution_count": 9,
   "id": "878be7b4-b7d6-4c0d-93a5-063e5a9afa52",
   "metadata": {},
   "outputs": [
    {
     "data": {
      "text/plain": [
       "{'og:locale': 'en-GB',\n",
       " 'og:url': 'https://www.euronews.com/next/2024/01/15/almost-40-of-jobs-around-the-world-will-be-impacted-by-ai-imf-chief-says',\n",
       " 'og:site_name': 'euronews',\n",
       " 'og:type': 'article',\n",
       " 'og:title': 'AI to impact 40% of jobs around the world, IMF chief says',\n",
       " 'og:description': 'Kristalina Georgieva said now is the time to act to create a set of policies ensuring the impact of AI is beneficial not detrimental to humanity.',\n",
       " 'og:image': 'https://static.euronews.com/articles/stories/08/17/12/08/1200x675_cmsv2_1bac2582-b418-5da9-80f9-6c4b6254606d-8171208.jpg',\n",
       " 'og:image:width': '1200',\n",
       " 'og:image:height': '675',\n",
       " 'og:image:type': 'image/jpeg',\n",
       " 'og:image:alt': 'Almost 40% of jobs around the world will be impacted by AI, IMF chief says',\n",
       " 'og:locale:alternate': 'el-GR',\n",
       " 'og:locale:alternate:url': 'https://www.euronews.com/next/2024/01/15/almost-40-of-jobs-around-the-world-will-be-impacted-by-ai-imf-chief-says',\n",
       " 'title': 'Almost 40% of jobs around the world will be impacted by AI, IMF chief says | Euronews'}"
      ]
     },
     "execution_count": 9,
     "metadata": {},
     "output_type": "execute_result"
    }
   ],
   "source": [
    "# you need this if you have not-descriptive link titles like 'link', can get a page title from html or tags\n",
    "def get_og_tags(url):\n",
    "    \"\"\"get a dict of Open Graph og: tags such as title in the HEAD of a URL\"\"\"\n",
    "    retdict = {}\n",
    "    try:\n",
    "        response = requests.get(url)\n",
    "        if response.status_code == 200:\n",
    "            soup = BeautifulSoup(response.content, \"html.parser\")\n",
    "            head = soup.head\n",
    "            if head:\n",
    "                og_tags = head.find_all(\n",
    "                    property=lambda prop: prop and prop.startswith(\"og:\")\n",
    "                )\n",
    "                for tag in og_tags:\n",
    "                    if \"content\" in tag.attrs:\n",
    "                        retdict[tag[\"property\"]] = tag[\"content\"]\n",
    "\n",
    "                page_title = \"\"\n",
    "                title_tag = soup.find(\"title\")\n",
    "                if title_tag:\n",
    "                    page_title = title_tag.text\n",
    "                    if page_title:\n",
    "                        retdict[\"title\"] = page_title\n",
    "        return retdict\n",
    "    except requests.RequestException as e:\n",
    "        print(f\"Error fetching {url}: {e}\")\n",
    "    return retdict\n",
    "\n",
    "\n",
    "url = \"https://www.euronews.com/next/2024/01/15/almost-40-of-jobs-around-the-world-will-be-impacted-by-ai-imf-chief-says\"\n",
    "get_og_tags(url)"
   ]
  },
  {
   "cell_type": "code",
   "execution_count": 10,
   "id": "55a281af-6a4d-4904-9f22-98704ad4c768",
   "metadata": {},
   "outputs": [
    {
     "name": "stdout",
     "output_type": "stream",
     "text": [
      "/some/path\n"
     ]
    }
   ],
   "source": [
    "def get_path_from_url(url):\n",
    "    \"\"\"\n",
    "    Extracts the path following the top-level domain name from a URL.\n",
    "\n",
    "    :param url: The URL string.\n",
    "    :return: The path component of the URL.\n",
    "    \"\"\"\n",
    "    parsed_url = urlparse(url)\n",
    "    return parsed_url.path\n",
    "\n",
    "\n",
    "# Example usage\n",
    "example_url = \"http://www.example.com/some/path?query=string\"\n",
    "path = get_path_from_url(example_url)\n",
    "print(path)"
   ]
  },
  {
   "cell_type": "code",
   "execution_count": 11,
   "id": "b76ba2f8-1ff4-418c-9c74-5712255ddae8",
   "metadata": {},
   "outputs": [],
   "source": [
    "MODEL = \"gpt-4-turbo-preview\"\n",
    "\n",
    "MAX_INPUT_TOKENS = 3072\n",
    "MAX_OUTPUT_TOKENS = 4096\n",
    "MAX_RETRIES = 3\n",
    "TEMPERATURE = 0"
   ]
  },
  {
   "cell_type": "code",
   "execution_count": 12,
   "id": "d39bd1b9-9a7e-4cd0-93d7-aa17b37bc024",
   "metadata": {},
   "outputs": [
    {
     "data": {
      "text/plain": [
       "13"
      ]
     },
     "execution_count": 12,
     "metadata": {},
     "output_type": "execute_result"
    }
   ],
   "source": [
    "enc = tiktoken.encoding_for_model(MODEL)\n",
    "assert enc.decode(enc.encode(\"hello world\")) == \"hello world\"\n",
    "\n",
    "\n",
    "def count_tokens(s):\n",
    "    return len(enc.encode(s))\n",
    "\n",
    "\n",
    "count_tokens(\"four score and 7 years go our forefathers brought forth\")"
   ]
  },
  {
   "cell_type": "code",
   "execution_count": 13,
   "id": "0e03a76d-be7c-40f3-80c6-db44c13e3e13",
   "metadata": {},
   "outputs": [],
   "source": [
    "def trimmed_href(l):\n",
    "    \"\"\"\n",
    "    Trims everything in the string after a question mark such as a session ID.\n",
    "\n",
    "    :param s: The input string.\n",
    "    :return: The trimmed string.\n",
    "    \"\"\"\n",
    "    # Find the position of the question mark\n",
    "    s = l.get(\"href\")\n",
    "    if s:\n",
    "        question_mark_index = s.find(\"?\")\n",
    "\n",
    "        # If a question mark is found, trim the string up to that point\n",
    "        if question_mark_index != -1:\n",
    "            return s[:question_mark_index]\n",
    "        else:\n",
    "            # Return the original string if no question mark is found\n",
    "            return s\n",
    "    else:\n",
    "        return s"
   ]
  },
  {
   "cell_type": "markdown",
   "id": "0b7abc8c-5d9d-4ea1-9a2a-82d5f92f250b",
   "metadata": {},
   "source": [
    "# Parse news URLs and titles from downloaded HTML files"
   ]
  },
  {
   "cell_type": "code",
   "execution_count": 14,
   "id": "e81e7ea3-ac61-42ed-b972-1f9e81128732",
   "metadata": {
    "tags": []
   },
   "outputs": [
    {
     "data": {
      "text/markdown": [
       "# Business Insider"
      ],
      "text/plain": [
       "<IPython.core.display.Markdown object>"
      ]
     },
     "metadata": {},
     "output_type": "display_data"
    },
    {
     "name": "stdout",
     "output_type": "stream",
     "text": [
      "334\n",
      "249\n",
      "\n"
     ]
    },
    {
     "data": {
      "text/markdown": [
       "# The Register"
      ],
      "text/plain": [
       "<IPython.core.display.Markdown object>"
      ]
     },
     "metadata": {},
     "output_type": "display_data"
    },
    {
     "name": "stdout",
     "output_type": "stream",
     "text": [
      "200\n",
      "88\n",
      "\n"
     ]
    },
    {
     "data": {
      "text/markdown": [
       "# Ars Technica"
      ],
      "text/plain": [
       "<IPython.core.display.Markdown object>"
      ]
     },
     "metadata": {},
     "output_type": "display_data"
    },
    {
     "name": "stdout",
     "output_type": "stream",
     "text": [
      "252\n",
      "7\n",
      "\n"
     ]
    },
    {
     "data": {
      "text/markdown": [
       "# HackerNoon"
      ],
      "text/plain": [
       "<IPython.core.display.Markdown object>"
      ]
     },
     "metadata": {},
     "output_type": "display_data"
    },
    {
     "name": "stdout",
     "output_type": "stream",
     "text": [
      "557\n",
      "83\n",
      "\n"
     ]
    },
    {
     "data": {
      "text/markdown": [
       "# Google News"
      ],
      "text/plain": [
       "<IPython.core.display.Markdown object>"
      ]
     },
     "metadata": {},
     "output_type": "display_data"
    },
    {
     "name": "stdout",
     "output_type": "stream",
     "text": [
      "989\n",
      "430\n",
      "\n"
     ]
    },
    {
     "data": {
      "text/markdown": [
       "# WaPo Tech"
      ],
      "text/plain": [
       "<IPython.core.display.Markdown object>"
      ]
     },
     "metadata": {},
     "output_type": "display_data"
    },
    {
     "name": "stdout",
     "output_type": "stream",
     "text": [
      "155\n",
      "35\n",
      "\n"
     ]
    },
    {
     "data": {
      "text/markdown": [
       "# FT Tech"
      ],
      "text/plain": [
       "<IPython.core.display.Markdown object>"
      ]
     },
     "metadata": {},
     "output_type": "display_data"
    },
    {
     "name": "stdout",
     "output_type": "stream",
     "text": [
      "459\n",
      "115\n",
      "\n"
     ]
    },
    {
     "data": {
      "text/markdown": [
       "# Bloomberg Tech"
      ],
      "text/plain": [
       "<IPython.core.display.Markdown object>"
      ]
     },
     "metadata": {},
     "output_type": "display_data"
    },
    {
     "name": "stdout",
     "output_type": "stream",
     "text": [
      "295\n",
      "48\n",
      "\n"
     ]
    },
    {
     "data": {
      "text/markdown": [
       "# WSJ Tech"
      ],
      "text/plain": [
       "<IPython.core.display.Markdown object>"
      ]
     },
     "metadata": {},
     "output_type": "display_data"
    },
    {
     "name": "stdout",
     "output_type": "stream",
     "text": [
      "496\n",
      "9\n",
      "\n"
     ]
    },
    {
     "data": {
      "text/markdown": [
       "# NYT Tech"
      ],
      "text/plain": [
       "<IPython.core.display.Markdown object>"
      ]
     },
     "metadata": {},
     "output_type": "display_data"
    },
    {
     "name": "stdout",
     "output_type": "stream",
     "text": [
      "77\n",
      "18\n",
      "\n"
     ]
    },
    {
     "data": {
      "text/markdown": [
       "# Feedly AI"
      ],
      "text/plain": [
       "<IPython.core.display.Markdown object>"
      ]
     },
     "metadata": {},
     "output_type": "display_data"
    },
    {
     "name": "stdout",
     "output_type": "stream",
     "text": [
      "242\n",
      "227\n",
      "\n"
     ]
    },
    {
     "data": {
      "text/markdown": [
       "# Techmeme"
      ],
      "text/plain": [
       "<IPython.core.display.Markdown object>"
      ]
     },
     "metadata": {},
     "output_type": "display_data"
    },
    {
     "name": "stdout",
     "output_type": "stream",
     "text": [
      "398\n",
      "172\n",
      "\n"
     ]
    },
    {
     "data": {
      "text/markdown": [
       "# Hacker News 2"
      ],
      "text/plain": [
       "<IPython.core.display.Markdown object>"
      ]
     },
     "metadata": {},
     "output_type": "display_data"
    },
    {
     "name": "stdout",
     "output_type": "stream",
     "text": [
      "261\n",
      "30\n",
      "\n"
     ]
    },
    {
     "data": {
      "text/markdown": [
       "# Hacker News"
      ],
      "text/plain": [
       "<IPython.core.display.Markdown object>"
      ]
     },
     "metadata": {},
     "output_type": "display_data"
    },
    {
     "name": "stdout",
     "output_type": "stream",
     "text": [
      "254\n",
      "24\n",
      "\n"
     ]
    },
    {
     "data": {
      "text/markdown": [
       "# Reddit"
      ],
      "text/plain": [
       "<IPython.core.display.Markdown object>"
      ]
     },
     "metadata": {},
     "output_type": "display_data"
    },
    {
     "name": "stdout",
     "output_type": "stream",
     "text": [
      "556\n",
      "44\n",
      "\n"
     ]
    }
   ],
   "source": [
    "# parse all the URL that look like news articles\n",
    "# into all_urls list of dicts with url, title, src\n",
    "all_urls = []\n",
    "\n",
    "for file in files:\n",
    "    # Extract filename from path\n",
    "    filename = os.path.basename(file)\n",
    "\n",
    "    # Find the position of '1_14_2024' in the filename\n",
    "    position = filename.find(\" (\" + datestr)\n",
    "    basename = filename[:position]\n",
    "#     print(basename)\n",
    "#     if basename.startswith('Google News'):\n",
    "#         pass\n",
    "#     else:\n",
    "#         continue\n",
    "\n",
    "    sourcename = sources_reverse.get(basename)\n",
    "    if sourcename is None:\n",
    "        print(f\"Skipping {basename}, no sourcename metadata\")\n",
    "        continue\n",
    "\n",
    "    display(Markdown(f\"# {sourcename}\"))\n",
    "    sources[sourcename][\"latest\"] = file\n",
    "\n",
    "    # get contents\n",
    "    with open(file, \"r\") as file:\n",
    "        html_content = file.read()\n",
    "\n",
    "    # Parse the HTML content\n",
    "    soup = BeautifulSoup(html_content, \"html.parser\")\n",
    "\n",
    "    # Find all <a> tags\n",
    "    if soup:\n",
    "        links = soup.find_all(\"a\")\n",
    "    else:\n",
    "        print(f\"Skipping {sourcename}, unable to parse\")\n",
    "\n",
    "    # convert relative links to absolute links using base URL if present\n",
    "    base_tag = soup.find('base')\n",
    "    base_url = base_tag.get('href') if base_tag else sources[sourcename][\"url\"]\n",
    "    for link in links:\n",
    "#         print(link.get(\"href\"))\n",
    "        link[\"href\"]= urljoin(base_url, link.get('href', \"\"))\n",
    "#         print(link[\"href\"])\n",
    "\n",
    "#     print(len(links))\n",
    "#     links = [l for l in links if l]\n",
    "#     links = [l.strip() for l in links]\n",
    "\n",
    "    print(len(links))\n",
    "\n",
    "    for pattern in sources[sourcename].get(\"exclude\", []):\n",
    "        # filter links by exclusion pattern\n",
    "#         print(pattern)\n",
    "#         print([ l.get(\"href\") for l in links])\n",
    "        links = [\n",
    "            l\n",
    "            for l in links\n",
    "            if l.get(\"href\") is not None and not re.match(pattern, l.get(\"href\"))\n",
    "        ]\n",
    "        # print(len(links))\n",
    "\n",
    "    for pattern in sources[sourcename].get(\"include\", []):\n",
    "        # print(pattern, len(links))\n",
    "        # filter links by inclusion pattern\n",
    "        # print(pattern)\n",
    "        # print(type(pattern))\n",
    "        newlinks = []\n",
    "        for l in links:\n",
    "            href = l.get(\"href\")\n",
    "#             print(href)\n",
    "            if href and re.match(pattern, href):\n",
    "                newlinks.append(l)\n",
    "        links = newlinks\n",
    "        # links = [l for l in links if re.match(pattern, l.get(\"href\"))]\n",
    "        # print(len(links))\n",
    "\n",
    "    # drop empty text\n",
    "    links = [l for l in links if l.get_text(strip=True)]\n",
    "\n",
    "    # drop empty url path, i.e. url = toplevel domain\n",
    "    links = [l for l in links if len(get_path_from_url(trimmed_href(l))) > 1]\n",
    "    # drop anything that is not http, like javascript: or mailto:\n",
    "    links = [l for l in links if l.get(\"href\") and l.get(\"href\").startswith(\"http\")]\n",
    "    # drop some ArsTechnica links that are just the number of comments and dupe the primary link\n",
    "    links = [l for l in links if not re.match(\"^(\\d+)$\", l.get_text(strip=True))]\n",
    "\n",
    "    for l in links:\n",
    "        url = trimmed_href(l)\n",
    "        title = l.get_text(strip=True)\n",
    "        if title == \"LINK\":\n",
    "            # try to update title\n",
    "            og_dict = get_og_tags(url)\n",
    "            if og_dict.get(\"og:title\"):\n",
    "                title = og_dict.get(\"og:title\")\n",
    "\n",
    "        # skip some low quality links that don't have full headline, like link to a Twitter or Threads account\n",
    "        if len(title) <= 28 and title != \"LINK\":\n",
    "            continue\n",
    "\n",
    "        all_urls.append({\"title\": title, \"url\": url, \"src\": sourcename})\n",
    "#         display(Markdown(f\"[{title}]({url})\"))\n",
    "\n",
    "    print(len(links))\n",
    "    print()\n",
    "\n",
    "    # for p in pages:\n",
    "    #     print(p)"
   ]
  },
  {
   "cell_type": "code",
   "execution_count": 15,
   "id": "c0eb7a52-ee94-4478-af89-11f059ab2d6e",
   "metadata": {},
   "outputs": [
    {
     "data": {
      "text/html": [
       "<div>\n",
       "<style scoped>\n",
       "    .dataframe tbody tr th:only-of-type {\n",
       "        vertical-align: middle;\n",
       "    }\n",
       "\n",
       "    .dataframe tbody tr th {\n",
       "        vertical-align: top;\n",
       "    }\n",
       "\n",
       "    .dataframe thead th {\n",
       "        text-align: right;\n",
       "    }\n",
       "</style>\n",
       "<table border=\"1\" class=\"dataframe\">\n",
       "  <thead>\n",
       "    <tr style=\"text-align: right;\">\n",
       "      <th></th>\n",
       "      <th>id</th>\n",
       "      <th>src</th>\n",
       "      <th>title</th>\n",
       "      <th>url</th>\n",
       "    </tr>\n",
       "  </thead>\n",
       "  <tbody>\n",
       "    <tr>\n",
       "      <th>0</th>\n",
       "      <td>0</td>\n",
       "      <td>Ars Technica</td>\n",
       "      <td>Explaining why your keyboard feels so darn goo...</td>\n",
       "      <td>https://arstechnica.com/gadgets/2024/03/the-ar...</td>\n",
       "    </tr>\n",
       "    <tr>\n",
       "      <th>1</th>\n",
       "      <td>1</td>\n",
       "      <td>Ars Technica</td>\n",
       "      <td>Apple’s first new 3D Vision Pro video since la...</td>\n",
       "      <td>https://arstechnica.com/gadgets/2024/03/apple-...</td>\n",
       "    </tr>\n",
       "    <tr>\n",
       "      <th>2</th>\n",
       "      <td>2</td>\n",
       "      <td>Ars Technica</td>\n",
       "      <td>Google’s Pixel 9 might have three models, addi...</td>\n",
       "      <td>https://arstechnica.com/gadgets/2024/03/google...</td>\n",
       "    </tr>\n",
       "    <tr>\n",
       "      <th>3</th>\n",
       "      <td>3</td>\n",
       "      <td>Ars Technica</td>\n",
       "      <td>Intel, Microsoft discuss plans to run Copilot ...</td>\n",
       "      <td>https://arstechnica.com/gadgets/2024/03/intel-...</td>\n",
       "    </tr>\n",
       "    <tr>\n",
       "      <th>4</th>\n",
       "      <td>4</td>\n",
       "      <td>Ars Technica</td>\n",
       "      <td>Facebook let Netflix see user DMs, quit stream...</td>\n",
       "      <td>https://arstechnica.com/gadgets/2024/03/netfli...</td>\n",
       "    </tr>\n",
       "    <tr>\n",
       "      <th>...</th>\n",
       "      <td>...</td>\n",
       "      <td>...</td>\n",
       "      <td>...</td>\n",
       "      <td>...</td>\n",
       "    </tr>\n",
       "    <tr>\n",
       "      <th>1036</th>\n",
       "      <td>1036</td>\n",
       "      <td>WaPo Tech</td>\n",
       "      <td>Gen Z embraces side hustles because ‘loyalty i...</td>\n",
       "      <td>https://www.washingtonpost.com/technology/2024...</td>\n",
       "    </tr>\n",
       "    <tr>\n",
       "      <th>1037</th>\n",
       "      <td>1037</td>\n",
       "      <td>WaPo Tech</td>\n",
       "      <td>Musk tried to ‘punish’ critics, judge rules, i...</td>\n",
       "      <td>https://www.washingtonpost.com/technology/2024...</td>\n",
       "    </tr>\n",
       "    <tr>\n",
       "      <th>1038</th>\n",
       "      <td>1038</td>\n",
       "      <td>WaPo Tech</td>\n",
       "      <td>Trump Media soars in first day of public trading</td>\n",
       "      <td>https://www.washingtonpost.com/technology/2024...</td>\n",
       "    </tr>\n",
       "    <tr>\n",
       "      <th>1039</th>\n",
       "      <td>1039</td>\n",
       "      <td>WaPo Tech</td>\n",
       "      <td>Reddit’s shares soar in stock market debut</td>\n",
       "      <td>https://www.washingtonpost.com/technology/2024...</td>\n",
       "    </tr>\n",
       "    <tr>\n",
       "      <th>1040</th>\n",
       "      <td>1040</td>\n",
       "      <td>WaPo Tech</td>\n",
       "      <td>How to use your smartphone to photograph the s...</td>\n",
       "      <td>https://www.washingtonpost.com/technology/2024...</td>\n",
       "    </tr>\n",
       "  </tbody>\n",
       "</table>\n",
       "<p>1041 rows × 4 columns</p>\n",
       "</div>"
      ],
      "text/plain": [
       "        id           src                                              title  \\\n",
       "0        0  Ars Technica  Explaining why your keyboard feels so darn goo...   \n",
       "1        1  Ars Technica  Apple’s first new 3D Vision Pro video since la...   \n",
       "2        2  Ars Technica  Google’s Pixel 9 might have three models, addi...   \n",
       "3        3  Ars Technica  Intel, Microsoft discuss plans to run Copilot ...   \n",
       "4        4  Ars Technica  Facebook let Netflix see user DMs, quit stream...   \n",
       "...    ...           ...                                                ...   \n",
       "1036  1036     WaPo Tech  Gen Z embraces side hustles because ‘loyalty i...   \n",
       "1037  1037     WaPo Tech  Musk tried to ‘punish’ critics, judge rules, i...   \n",
       "1038  1038     WaPo Tech   Trump Media soars in first day of public trading   \n",
       "1039  1039     WaPo Tech         Reddit’s shares soar in stock market debut   \n",
       "1040  1040     WaPo Tech  How to use your smartphone to photograph the s...   \n",
       "\n",
       "                                                    url  \n",
       "0     https://arstechnica.com/gadgets/2024/03/the-ar...  \n",
       "1     https://arstechnica.com/gadgets/2024/03/apple-...  \n",
       "2     https://arstechnica.com/gadgets/2024/03/google...  \n",
       "3     https://arstechnica.com/gadgets/2024/03/intel-...  \n",
       "4     https://arstechnica.com/gadgets/2024/03/netfli...  \n",
       "...                                                 ...  \n",
       "1036  https://www.washingtonpost.com/technology/2024...  \n",
       "1037  https://www.washingtonpost.com/technology/2024...  \n",
       "1038  https://www.washingtonpost.com/technology/2024...  \n",
       "1039  https://www.washingtonpost.com/technology/2024...  \n",
       "1040  https://www.washingtonpost.com/technology/2024...  \n",
       "\n",
       "[1041 rows x 4 columns]"
      ]
     },
     "execution_count": 15,
     "metadata": {},
     "output_type": "execute_result"
    }
   ],
   "source": [
    "# make a pandas dataframe\n",
    "orig_df = (\n",
    "    pd.DataFrame(all_urls)\n",
    "    .groupby(\"url\")\n",
    "    .first()\n",
    "    .reset_index()\n",
    "    .sort_values(\"src\")[[\"src\", \"title\", \"url\"]]\n",
    "    .reset_index(drop=True)\n",
    "    .reset_index(drop=False)\n",
    "    .rename(columns={\"index\": \"id\"})\n",
    ")\n",
    "orig_df"
   ]
  },
  {
   "cell_type": "code",
   "execution_count": 16,
   "id": "36a1f7dd-2763-46ac-944c-eec7361f40d7",
   "metadata": {},
   "outputs": [],
   "source": [
    "# filter ones not seen before\n",
    "conn = sqlite3.connect('articles.db')\n",
    "\n",
    "# Retrieve all URLs from the SQLite table\n",
    "existing_urls = pd.read_sql_query(\"SELECT url FROM news_articles\", conn)\n",
    "\n",
    "# Close the SQLite connection\n",
    "conn.close()\n",
    "\n",
    "# Convert the URLs to a list for easier comparison\n",
    "existing_urls_list = existing_urls['url'].tolist()\n",
    "\n",
    "# Filter the original DataFrame\n",
    "# Keep rows where the URL is not in the existing_urls_list\n",
    "filtered_df = orig_df[~orig_df['url'].isin(existing_urls_list)]\n"
   ]
  },
  {
   "cell_type": "code",
   "execution_count": 17,
   "id": "14bea6c0-a79f-41ef-853e-7b076b902dca",
   "metadata": {},
   "outputs": [
    {
     "data": {
      "text/plain": [
       "30509"
      ]
     },
     "execution_count": 17,
     "metadata": {},
     "output_type": "execute_result"
    }
   ],
   "source": [
    "len(existing_urls_list)"
   ]
  },
  {
   "cell_type": "code",
   "execution_count": 18,
   "id": "21f431d4-4512-44a3-831c-44e078a22d17",
   "metadata": {},
   "outputs": [
    {
     "data": {
      "text/plain": [
       "357"
      ]
     },
     "execution_count": 18,
     "metadata": {},
     "output_type": "execute_result"
    }
   ],
   "source": [
    "len(filtered_df)"
   ]
  },
  {
   "cell_type": "markdown",
   "id": "f05b4e7e-c039-458c-a02f-4931356115e0",
   "metadata": {},
   "source": [
    "# Filter AI-related headlines using a prompt to OpenAI"
   ]
  },
  {
   "cell_type": "code",
   "execution_count": 19,
   "id": "994796a1-fea7-4800-87a4-913e3fb7a821",
   "metadata": {},
   "outputs": [
    {
     "data": {
      "text/plain": [
       "8"
      ]
     },
     "execution_count": 19,
     "metadata": {},
     "output_type": "execute_result"
    }
   ],
   "source": [
    "# make pages that fit in a reasonably sized prompt\n",
    "MAXPAGELEN = 50\n",
    "pages = []\n",
    "current_page = []\n",
    "pagelength = 0\n",
    "\n",
    "for row in filtered_df.itertuples():\n",
    "    curlink = {\"id\": row.Index, \"title\": row.title}\n",
    "    curlength = count_tokens(json.dumps(curlink))\n",
    "    # Check if adding the current string would exceed the limit\n",
    "    if len(current_page) >= MAXPAGELEN or pagelength + curlength > MAX_INPUT_TOKENS:\n",
    "        # If so, start a new page\n",
    "        pages.append(current_page)\n",
    "        current_page = [curlink]\n",
    "        pagelength = curlength\n",
    "    else:\n",
    "        # Otherwise, add the string to the current page\n",
    "        current_page.append(curlink)\n",
    "        pagelength += curlength\n",
    "\n",
    "# add the last page if it's not empty\n",
    "if current_page:\n",
    "    pages.append(current_page)\n",
    "\n",
    "len(pages)"
   ]
  },
  {
   "cell_type": "code",
   "execution_count": 20,
   "id": "18bc60f8-8b90-4637-b884-b57aee1efb6f",
   "metadata": {},
   "outputs": [],
   "source": [
    "def get_response_json(\n",
    "    client,\n",
    "    messages,\n",
    "    verbose=False,\n",
    "    model=MODEL,\n",
    "    # max_input_tokens=MAX_INPUT_TOKENS,\n",
    "    max_output_tokens=MAX_OUTPUT_TOKENS,\n",
    "    max_retries=MAX_RETRIES,\n",
    "    temperature=TEMPERATURE,\n",
    "):\n",
    "    if type(messages) != list:  # allow passing one string for convenience\n",
    "        messages = [{\"role\": \"user\", \"content\": messages}]\n",
    "\n",
    "    if verbose:\n",
    "        print(\"\\n\".join([str(msg) for msg in messages]))\n",
    "\n",
    "    # truncate number of tokens\n",
    "    # retry loop, have received untrapped 500 errors like too busy\n",
    "    for i in range(max_retries):\n",
    "        if i > 0:\n",
    "            print(f\"Attempt {i+1}...\")\n",
    "        try:\n",
    "            response = client.chat.completions.create(\n",
    "                model=MODEL,\n",
    "                messages=messages,\n",
    "                temperature=0,\n",
    "                max_tokens=max_output_tokens,\n",
    "                response_format={\"type\": \"json_object\"},\n",
    "            )\n",
    "            # no exception thrown\n",
    "            return response\n",
    "        except Exception as error:\n",
    "            print(f\"An exception occurred on attempt {i+1}:\", error)\n",
    "            time.sleep(5)\n",
    "            continue  # try again\n",
    "        # retries exceeded if you got this far\n",
    "    print(\"Retries exceeded.\")\n",
    "    return None\n",
    "\n",
    "\n",
    "# messages = [\n",
    "#     {\n",
    "#         \"role\": \"system\",\n",
    "#         \"content\": \"You are a poetic assistant, skilled in explaining complex programming concepts with creative flair.\",\n",
    "#     },\n",
    "#     {\n",
    "#         \"role\": \"user\",\n",
    "#         \"content\": \"Compose a poem that explains the concept of recursion in programming, returning each verse as a json object.\",\n",
    "#     },\n",
    "# ]\n",
    "\n",
    "# response = get_response_json(client, messages)\n",
    "# response"
   ]
  },
  {
   "cell_type": "code",
   "execution_count": 21,
   "id": "46b54a3d-c29c-45e5-b984-d0580878337c",
   "metadata": {},
   "outputs": [
    {
     "data": {
      "text/plain": [
       "[Model(id='text-embedding-ada-002', created=1671217299, object='model', owned_by='openai-internal'),\n",
       " Model(id='whisper-1', created=1677532384, object='model', owned_by='openai-internal'),\n",
       " Model(id='gpt-3.5-turbo', created=1677610602, object='model', owned_by='openai'),\n",
       " Model(id='gpt-3.5-turbo-0301', created=1677649963, object='model', owned_by='openai'),\n",
       " Model(id='tts-1', created=1681940951, object='model', owned_by='openai-internal'),\n",
       " Model(id='gpt-3.5-turbo-16k', created=1683758102, object='model', owned_by='openai-internal'),\n",
       " Model(id='gpt-3.5-turbo-16k-0613', created=1685474247, object='model', owned_by='openai'),\n",
       " Model(id='gpt-3.5-turbo-0613', created=1686587434, object='model', owned_by='openai'),\n",
       " Model(id='gpt-4-0613', created=1686588896, object='model', owned_by='openai'),\n",
       " Model(id='gpt-4', created=1687882411, object='model', owned_by='openai'),\n",
       " Model(id='davinci-002', created=1692634301, object='model', owned_by='system'),\n",
       " Model(id='babbage-002', created=1692634615, object='model', owned_by='system'),\n",
       " Model(id='gpt-3.5-turbo-instruct', created=1692901427, object='model', owned_by='system'),\n",
       " Model(id='gpt-3.5-turbo-instruct-0914', created=1694122472, object='model', owned_by='system'),\n",
       " Model(id='dall-e-3', created=1698785189, object='model', owned_by='system'),\n",
       " Model(id='dall-e-2', created=1698798177, object='model', owned_by='system'),\n",
       " Model(id='gpt-4-vision-preview', created=1698894917, object='model', owned_by='system'),\n",
       " Model(id='gpt-4-1106-preview', created=1698957206, object='model', owned_by='system'),\n",
       " Model(id='gpt-3.5-turbo-1106', created=1698959748, object='model', owned_by='system'),\n",
       " Model(id='tts-1-hd', created=1699046015, object='model', owned_by='system'),\n",
       " Model(id='tts-1-1106', created=1699053241, object='model', owned_by='system'),\n",
       " Model(id='tts-1-hd-1106', created=1699053533, object='model', owned_by='system'),\n",
       " Model(id='text-embedding-3-small', created=1705948997, object='model', owned_by='system'),\n",
       " Model(id='text-embedding-3-large', created=1705953180, object='model', owned_by='system'),\n",
       " Model(id='gpt-4-0125-preview', created=1706037612, object='model', owned_by='system'),\n",
       " Model(id='gpt-4-turbo-preview', created=1706037777, object='model', owned_by='system'),\n",
       " Model(id='gpt-3.5-turbo-0125', created=1706048358, object='model', owned_by='system'),\n",
       " Model(id='gpt-4-1106-vision-preview', created=1711473033, object='model', owned_by='system')]"
      ]
     },
     "execution_count": 21,
     "metadata": {},
     "output_type": "execute_result"
    }
   ],
   "source": [
    "models = sorted(openai.models.list(), key=lambda m: m.created)\n",
    "models"
   ]
  },
  {
   "cell_type": "code",
   "execution_count": 22,
   "id": "00f01351-4067-4bd7-9bfc-c975e56f6970",
   "metadata": {},
   "outputs": [],
   "source": [
    "prompt = \"\"\"\n",
    "You will act as a research assistant classifying news stories as related to artificial intelligence (AI) or unrelated to AI.\n",
    "\n",
    "Your task is to read JSON format objects from an input list of news stories using the schema below delimited by |, and output JSON format objects for each using the schema below delimited by ~.\n",
    "\n",
    "Define a list of objects representing news stories in JSON format as in the following example:\n",
    "|\n",
    "{'stories':\n",
    "[{'id': 97, 'title': 'AI to predict dementia, detect cancer'},\n",
    " {'id': 103,'title': 'Figure robot learns to make coffee by watching humans for 10 hours'},\n",
    " {'id': 103,'title': 'Baby trapped in refrigerator eats own foot'},\n",
    " {'id': 210,'title': 'ChatGPT removes, then reinstates a summarization assistant without explanation.'},\n",
    " {'id': 298,'title': 'The 5 most interesting PC monitors from CES 2024'},\n",
    " ]\n",
    "}\n",
    "|\n",
    "\n",
    "Based on the title, you will classify each story as being about AI or not.\n",
    "\n",
    "For each object, you will output the input id field, and a field named isAI which is true if the input title is about AI and false if the input title is not about AI.\n",
    "\n",
    "When extracting information please make sure it matches the JSON format below exactly. Do not output any attributes that do not appear in the schema below.\n",
    "~\n",
    "{'stories':\n",
    "[{'id': 97, 'isAI': true},\n",
    " {'id': 103, 'isAI': true},\n",
    " {'id': 103, 'isAI': false},\n",
    " {'id': 210, 'isAI': true},\n",
    " {'id': 298, 'isAI': false}]\n",
    "}\n",
    "~\n",
    "\n",
    "You may interpret the term AI broadly as pertaining to\n",
    "- machine learning models\n",
    "- large language models\n",
    "- robotics\n",
    "- reinforcement learning\n",
    "- computer vision\n",
    "- OpenAI\n",
    "- ChatGPT\n",
    "- other closely related topics.\n",
    "\n",
    "You will return an array of valid JSON objects.\n",
    "\n",
    "The field 'id' in the output must match the field 'id' in the input EXACTLY.\n",
    "\n",
    "The field 'isAI' must be either true or false.\n",
    "\n",
    "The list of news stories to classify and enrich is:\n",
    "\n",
    "\n",
    "\"\"\""
   ]
  },
  {
   "cell_type": "code",
   "execution_count": 23,
   "id": "ead5697a-db5c-4f49-ada2-fd5367c8203f",
   "metadata": {},
   "outputs": [
    {
     "data": {
      "text/plain": [
       "{'id': 9,\n",
       " 'title': 'Tech CEOs Find Friendly Podcast Hosts Help Get Out Their Talking Points'}"
      ]
     },
     "execution_count": 23,
     "metadata": {},
     "output_type": "execute_result"
    }
   ],
   "source": [
    "pages[0][0]"
   ]
  },
  {
   "cell_type": "code",
   "execution_count": 24,
   "id": "a8119733-610b-45c7-a95c-25edf7bc7757",
   "metadata": {},
   "outputs": [
    {
     "name": "stdout",
     "output_type": "stream",
     "text": [
      "09:25:22 send page 1 of 8, 50 items \n",
      "09:25:44 got dict with 50 items \n",
      "09:25:44 send page 2 of 8, 50 items \n",
      "09:26:03 got dict with 50 items \n",
      "09:26:03 send page 3 of 8, 50 items \n",
      "09:26:27 got dict with 50 items \n",
      "09:26:27 send page 4 of 8, 50 items \n",
      "09:26:50 got dict with 50 items \n",
      "09:26:50 send page 5 of 8, 50 items \n",
      "09:27:18 got dict with 50 items \n",
      "09:27:18 send page 6 of 8, 50 items \n",
      "09:27:40 got dict with 50 items \n",
      "09:27:40 send page 7 of 8, 50 items \n",
      "09:27:59 got dict with 50 items \n",
      "09:27:59 send page 8 of 8, 7 items \n",
      "09:28:03 got dict with 7 items \n"
     ]
    }
   ],
   "source": [
    "responses = []\n",
    "enriched_urls = []\n",
    "for i, p in enumerate(pages):\n",
    "    print(\n",
    "        f\"{datetime.now().strftime('%H:%M:%S')} send page {i+1} of {len(pages)}, {len(p)} items \"\n",
    "    )\n",
    "    # print(prompt + json.dumps(p))\n",
    "    response = get_response_json(client, prompt + json.dumps(p))\n",
    "    responses.append(response.choices[0].message.content)\n",
    "    retval = json.loads(responses[-1])\n",
    "    retlist = []\n",
    "    # usually comes back as a dict with a single arbitrary key like \"stories\" with a list value\n",
    "    if type(retval) == dict:\n",
    "        for k, v in retval.items():\n",
    "            if type(v) == list:\n",
    "                retlist.extend(v)\n",
    "            else:\n",
    "                retlist.append(v)\n",
    "        print(\n",
    "            f\"{datetime.now().strftime('%H:%M:%S')} got dict with {len(retlist)} items \"\n",
    "        )\n",
    "    elif type(retval) == list:  # in case it comes back as a list\n",
    "        retlist = retval\n",
    "        print(\n",
    "            f\"{datetime.now().strftime('%H:%M:%S')} got list with {len(retlist)} items \"\n",
    "        )\n",
    "    else:\n",
    "        print(str(type(retval)))\n",
    "    enriched_urls.extend(retlist)"
   ]
  },
  {
   "cell_type": "code",
   "execution_count": 25,
   "id": "97c87832-7661-46a7-824b-b7790fb00c39",
   "metadata": {},
   "outputs": [
    {
     "data": {
      "text/html": [
       "<div>\n",
       "<style scoped>\n",
       "    .dataframe tbody tr th:only-of-type {\n",
       "        vertical-align: middle;\n",
       "    }\n",
       "\n",
       "    .dataframe tbody tr th {\n",
       "        vertical-align: top;\n",
       "    }\n",
       "\n",
       "    .dataframe thead th {\n",
       "        text-align: right;\n",
       "    }\n",
       "</style>\n",
       "<table border=\"1\" class=\"dataframe\">\n",
       "  <thead>\n",
       "    <tr style=\"text-align: right;\">\n",
       "      <th></th>\n",
       "      <th>id</th>\n",
       "      <th>isAI</th>\n",
       "    </tr>\n",
       "  </thead>\n",
       "  <tbody>\n",
       "    <tr>\n",
       "      <th>0</th>\n",
       "      <td>9</td>\n",
       "      <td>False</td>\n",
       "    </tr>\n",
       "    <tr>\n",
       "      <th>1</th>\n",
       "      <td>14</td>\n",
       "      <td>False</td>\n",
       "    </tr>\n",
       "    <tr>\n",
       "      <th>2</th>\n",
       "      <td>29</td>\n",
       "      <td>False</td>\n",
       "    </tr>\n",
       "    <tr>\n",
       "      <th>3</th>\n",
       "      <td>31</td>\n",
       "      <td>False</td>\n",
       "    </tr>\n",
       "    <tr>\n",
       "      <th>4</th>\n",
       "      <td>33</td>\n",
       "      <td>False</td>\n",
       "    </tr>\n",
       "  </tbody>\n",
       "</table>\n",
       "</div>"
      ],
      "text/plain": [
       "   id   isAI\n",
       "0   9  False\n",
       "1  14  False\n",
       "2  29  False\n",
       "3  31  False\n",
       "4  33  False"
      ]
     },
     "execution_count": 25,
     "metadata": {},
     "output_type": "execute_result"
    }
   ],
   "source": [
    "enriched_df = pd.DataFrame(enriched_urls)\n",
    "enriched_df.head()"
   ]
  },
  {
   "cell_type": "code",
   "execution_count": null,
   "id": "89d5033a-258a-4a14-8fb6-11cec3c60df3",
   "metadata": {},
   "outputs": [],
   "source": []
  },
  {
   "cell_type": "code",
   "execution_count": 26,
   "id": "a073401c-8366-498e-a251-44b2341965e8",
   "metadata": {},
   "outputs": [
    {
     "name": "stdout",
     "output_type": "stream",
     "text": [
      "isAI 141\n",
      "not isAI 216\n"
     ]
    }
   ],
   "source": [
    "print(\"isAI\", len(enriched_df.loc[enriched_df[\"isAI\"]]))\n",
    "print(\"not isAI\", len(enriched_df.loc[~enriched_df[\"isAI\"]]))"
   ]
  },
  {
   "cell_type": "code",
   "execution_count": 27,
   "id": "9cce23b3-03b0-4751-8a5f-301f7dc86464",
   "metadata": {},
   "outputs": [
    {
     "data": {
      "text/html": [
       "<div>\n",
       "<style scoped>\n",
       "    .dataframe tbody tr th:only-of-type {\n",
       "        vertical-align: middle;\n",
       "    }\n",
       "\n",
       "    .dataframe tbody tr th {\n",
       "        vertical-align: top;\n",
       "    }\n",
       "\n",
       "    .dataframe thead th {\n",
       "        text-align: right;\n",
       "    }\n",
       "</style>\n",
       "<table border=\"1\" class=\"dataframe\">\n",
       "  <thead>\n",
       "    <tr style=\"text-align: right;\">\n",
       "      <th></th>\n",
       "      <th>id</th>\n",
       "      <th>src</th>\n",
       "      <th>title</th>\n",
       "      <th>url</th>\n",
       "      <th>isAI</th>\n",
       "      <th>date</th>\n",
       "    </tr>\n",
       "  </thead>\n",
       "  <tbody>\n",
       "    <tr>\n",
       "      <th>0</th>\n",
       "      <td>9</td>\n",
       "      <td>Bloomberg Tech</td>\n",
       "      <td>Tech CEOs Find Friendly Podcast Hosts Help Get...</td>\n",
       "      <td>https://www.bloomberg.com/news/newsletters/202...</td>\n",
       "      <td>False</td>\n",
       "      <td>2024-03-29</td>\n",
       "    </tr>\n",
       "    <tr>\n",
       "      <th>1</th>\n",
       "      <td>14</td>\n",
       "      <td>Bloomberg Tech</td>\n",
       "      <td>Microsoft-Backed Rubrik Is Ready to File Next ...</td>\n",
       "      <td>https://www.bloomberg.com/news/articles/2024-0...</td>\n",
       "      <td>False</td>\n",
       "      <td>2024-03-29</td>\n",
       "    </tr>\n",
       "    <tr>\n",
       "      <th>2</th>\n",
       "      <td>29</td>\n",
       "      <td>Bloomberg Tech</td>\n",
       "      <td>South Korea’s Semiconductor Output Rises by Mo...</td>\n",
       "      <td>https://www.bloomberg.com/news/articles/2024-0...</td>\n",
       "      <td>False</td>\n",
       "      <td>2024-03-29</td>\n",
       "    </tr>\n",
       "    <tr>\n",
       "      <th>3</th>\n",
       "      <td>31</td>\n",
       "      <td>Bloomberg Tech</td>\n",
       "      <td>Huawei Profit Surges as It Takes Share From Ap...</td>\n",
       "      <td>https://www.bloomberg.com/news/articles/2024-0...</td>\n",
       "      <td>False</td>\n",
       "      <td>2024-03-29</td>\n",
       "    </tr>\n",
       "    <tr>\n",
       "      <th>4</th>\n",
       "      <td>33</td>\n",
       "      <td>Bloomberg Tech</td>\n",
       "      <td>Drive to Survive Star Guenther Steiner on Miam...</td>\n",
       "      <td>https://www.bloomberg.com/news/articles/2024-0...</td>\n",
       "      <td>False</td>\n",
       "      <td>2024-03-29</td>\n",
       "    </tr>\n",
       "  </tbody>\n",
       "</table>\n",
       "</div>"
      ],
      "text/plain": [
       "   id             src                                              title  \\\n",
       "0   9  Bloomberg Tech  Tech CEOs Find Friendly Podcast Hosts Help Get...   \n",
       "1  14  Bloomberg Tech  Microsoft-Backed Rubrik Is Ready to File Next ...   \n",
       "2  29  Bloomberg Tech  South Korea’s Semiconductor Output Rises by Mo...   \n",
       "3  31  Bloomberg Tech  Huawei Profit Surges as It Takes Share From Ap...   \n",
       "4  33  Bloomberg Tech  Drive to Survive Star Guenther Steiner on Miam...   \n",
       "\n",
       "                                                 url   isAI        date  \n",
       "0  https://www.bloomberg.com/news/newsletters/202...  False  2024-03-29  \n",
       "1  https://www.bloomberg.com/news/articles/2024-0...  False  2024-03-29  \n",
       "2  https://www.bloomberg.com/news/articles/2024-0...  False  2024-03-29  \n",
       "3  https://www.bloomberg.com/news/articles/2024-0...  False  2024-03-29  \n",
       "4  https://www.bloomberg.com/news/articles/2024-0...  False  2024-03-29  "
      ]
     },
     "execution_count": 27,
     "metadata": {},
     "output_type": "execute_result"
    }
   ],
   "source": [
    "merged_df = pd.merge(filtered_df, enriched_df, on=\"id\", how=\"outer\")\n",
    "merged_df['date']=datetime.now().date()\n",
    "merged_df.head()"
   ]
  },
  {
   "cell_type": "code",
   "execution_count": 28,
   "id": "03906d38-001a-4b20-83f7-caa468256098",
   "metadata": {},
   "outputs": [
    {
     "data": {
      "text/html": [
       "<div>\n",
       "<style scoped>\n",
       "    .dataframe tbody tr th:only-of-type {\n",
       "        vertical-align: middle;\n",
       "    }\n",
       "\n",
       "    .dataframe tbody tr th {\n",
       "        vertical-align: top;\n",
       "    }\n",
       "\n",
       "    .dataframe thead th {\n",
       "        text-align: right;\n",
       "    }\n",
       "</style>\n",
       "<table border=\"1\" class=\"dataframe\">\n",
       "  <thead>\n",
       "    <tr style=\"text-align: right;\">\n",
       "      <th></th>\n",
       "      <th>id</th>\n",
       "      <th>src</th>\n",
       "      <th>title</th>\n",
       "      <th>url</th>\n",
       "      <th>isAI</th>\n",
       "      <th>date</th>\n",
       "    </tr>\n",
       "  </thead>\n",
       "  <tbody>\n",
       "  </tbody>\n",
       "</table>\n",
       "</div>"
      ],
      "text/plain": [
       "Empty DataFrame\n",
       "Columns: [id, src, title, url, isAI, date]\n",
       "Index: []"
      ]
     },
     "execution_count": 28,
     "metadata": {},
     "output_type": "execute_result"
    }
   ],
   "source": [
    "# ideally should be empty, shouldn't get back rows that don't match to existing\n",
    "merged_df.loc[merged_df[\"src\"].isna()]"
   ]
  },
  {
   "cell_type": "code",
   "execution_count": 29,
   "id": "47d8da7e-6553-4731-81b8-4e5cddeb0d38",
   "metadata": {},
   "outputs": [
    {
     "data": {
      "text/html": [
       "<div>\n",
       "<style scoped>\n",
       "    .dataframe tbody tr th:only-of-type {\n",
       "        vertical-align: middle;\n",
       "    }\n",
       "\n",
       "    .dataframe tbody tr th {\n",
       "        vertical-align: top;\n",
       "    }\n",
       "\n",
       "    .dataframe thead th {\n",
       "        text-align: right;\n",
       "    }\n",
       "</style>\n",
       "<table border=\"1\" class=\"dataframe\">\n",
       "  <thead>\n",
       "    <tr style=\"text-align: right;\">\n",
       "      <th></th>\n",
       "      <th>id</th>\n",
       "      <th>src</th>\n",
       "      <th>title</th>\n",
       "      <th>url</th>\n",
       "      <th>isAI</th>\n",
       "      <th>date</th>\n",
       "    </tr>\n",
       "  </thead>\n",
       "  <tbody>\n",
       "  </tbody>\n",
       "</table>\n",
       "</div>"
      ],
      "text/plain": [
       "Empty DataFrame\n",
       "Columns: [id, src, title, url, isAI, date]\n",
       "Index: []"
      ]
     },
     "execution_count": 29,
     "metadata": {},
     "output_type": "execute_result"
    }
   ],
   "source": [
    "# ideally should be empty, should get back all rows from orig\n",
    "merged_df.loc[merged_df[\"isAI\"].isna()]"
   ]
  },
  {
   "cell_type": "code",
   "execution_count": 30,
   "id": "b84f216b-39e2-48f2-a87a-513bebaacb06",
   "metadata": {},
   "outputs": [],
   "source": [
    "# # Connect to SQLite database\n",
    "conn = sqlite3.connect('articles.db')\n",
    "cursor = conn.cursor()\n",
    "\n",
    "# # Create table with a date column\n",
    "# cursor.execute('''\n",
    "# CREATE TABLE IF NOT EXISTS news_articles (\n",
    "#     id INTEGER PRIMARY KEY,\n",
    "#     src TEXT,\n",
    "#     title TEXT,\n",
    "#     url TEXT UNIQUE,\n",
    "#     isAI BOOLEAN,\n",
    "#     article_date DATE\n",
    "# )\n",
    "# ''')\n",
    "# conn.commit()\n",
    "# conn.close()"
   ]
  },
  {
   "cell_type": "code",
   "execution_count": 31,
   "id": "b0539856-30df-4420-a192-4f70104f68ff",
   "metadata": {},
   "outputs": [],
   "source": [
    "# Function to insert a new article\n",
    "def insert_article(cursor, src, title, url, isAI, article_date):\n",
    "    try:\n",
    "        cursor.execute(\"INSERT OR IGNORE INTO news_articles (src, title, url, isAI, article_date) VALUES (?, ?, ?, ?, ?)\",\n",
    "                       (src, title, url, isAI, article_date))\n",
    "        conn.commit()\n",
    "    except sqlite3.IntegrityError:\n",
    "        print(f\"Duplicate entry for URL: {url}\")\n",
    "    except Exception as err:\n",
    "        print(err)"
   ]
  },
  {
   "cell_type": "code",
   "execution_count": 32,
   "id": "64926d99-f0ce-475b-8f4e-7e9e69d494e1",
   "metadata": {},
   "outputs": [
    {
     "data": {
      "text/html": [
       "<div>\n",
       "<style scoped>\n",
       "    .dataframe tbody tr th:only-of-type {\n",
       "        vertical-align: middle;\n",
       "    }\n",
       "\n",
       "    .dataframe tbody tr th {\n",
       "        vertical-align: top;\n",
       "    }\n",
       "\n",
       "    .dataframe thead th {\n",
       "        text-align: right;\n",
       "    }\n",
       "</style>\n",
       "<table border=\"1\" class=\"dataframe\">\n",
       "  <thead>\n",
       "    <tr style=\"text-align: right;\">\n",
       "      <th></th>\n",
       "      <th>count(*)</th>\n",
       "    </tr>\n",
       "  </thead>\n",
       "  <tbody>\n",
       "    <tr>\n",
       "      <th>0</th>\n",
       "      <td>30509</td>\n",
       "    </tr>\n",
       "  </tbody>\n",
       "</table>\n",
       "</div>"
      ],
      "text/plain": [
       "   count(*)\n",
       "0     30509"
      ]
     },
     "execution_count": 32,
     "metadata": {},
     "output_type": "execute_result"
    }
   ],
   "source": [
    "pd.read_sql_query(\"select count(*) from news_articles\", conn)\n"
   ]
  },
  {
   "cell_type": "code",
   "execution_count": 33,
   "id": "34579779-7fee-4b3c-b9c6-07d9a43420b6",
   "metadata": {},
   "outputs": [],
   "source": [
    "for row in merged_df.itertuples():\n",
    "    # print(row)\n",
    "    insert_article(cursor, row.src, row.title, row.url, row.isAI, row.date)\n"
   ]
  },
  {
   "cell_type": "code",
   "execution_count": 34,
   "id": "d3ef5f42-5d1f-4e24-85e3-17f6c8b7f4ca",
   "metadata": {},
   "outputs": [
    {
     "data": {
      "text/html": [
       "<div>\n",
       "<style scoped>\n",
       "    .dataframe tbody tr th:only-of-type {\n",
       "        vertical-align: middle;\n",
       "    }\n",
       "\n",
       "    .dataframe tbody tr th {\n",
       "        vertical-align: top;\n",
       "    }\n",
       "\n",
       "    .dataframe thead th {\n",
       "        text-align: right;\n",
       "    }\n",
       "</style>\n",
       "<table border=\"1\" class=\"dataframe\">\n",
       "  <thead>\n",
       "    <tr style=\"text-align: right;\">\n",
       "      <th></th>\n",
       "      <th>count(*)</th>\n",
       "    </tr>\n",
       "  </thead>\n",
       "  <tbody>\n",
       "    <tr>\n",
       "      <th>0</th>\n",
       "      <td>30866</td>\n",
       "    </tr>\n",
       "  </tbody>\n",
       "</table>\n",
       "</div>"
      ],
      "text/plain": [
       "   count(*)\n",
       "0     30866"
      ]
     },
     "execution_count": 34,
     "metadata": {},
     "output_type": "execute_result"
    }
   ],
   "source": [
    "pd.read_sql_query(\"select count(*) from news_articles\", conn)\n"
   ]
  },
  {
   "cell_type": "code",
   "execution_count": 35,
   "id": "335e9b0f-52b2-4da1-9628-d17da20514bd",
   "metadata": {},
   "outputs": [
    {
     "data": {
      "text/html": [
       "<div>\n",
       "<style scoped>\n",
       "    .dataframe tbody tr th:only-of-type {\n",
       "        vertical-align: middle;\n",
       "    }\n",
       "\n",
       "    .dataframe tbody tr th {\n",
       "        vertical-align: top;\n",
       "    }\n",
       "\n",
       "    .dataframe thead th {\n",
       "        text-align: right;\n",
       "    }\n",
       "</style>\n",
       "<table border=\"1\" class=\"dataframe\">\n",
       "  <thead>\n",
       "    <tr style=\"text-align: right;\">\n",
       "      <th></th>\n",
       "      <th>id</th>\n",
       "      <th>src</th>\n",
       "      <th>title</th>\n",
       "      <th>url</th>\n",
       "      <th>isAI</th>\n",
       "      <th>article_date</th>\n",
       "    </tr>\n",
       "  </thead>\n",
       "  <tbody>\n",
       "    <tr>\n",
       "      <th>0</th>\n",
       "      <td>1</td>\n",
       "      <td>Ars Technica</td>\n",
       "      <td>OnePlus 12 gets $800 US release along with the...</td>\n",
       "      <td>https://arstechnica.com/gadgets/2024/01/oneplu...</td>\n",
       "      <td>0</td>\n",
       "      <td>2024-01-24</td>\n",
       "    </tr>\n",
       "    <tr>\n",
       "      <th>1</th>\n",
       "      <td>2</td>\n",
       "      <td>Ars Technica</td>\n",
       "      <td>Chrome can now organize your tab bar for you</td>\n",
       "      <td>https://arstechnica.com/gadgets/2024/01/chrome...</td>\n",
       "      <td>0</td>\n",
       "      <td>2024-01-24</td>\n",
       "    </tr>\n",
       "    <tr>\n",
       "      <th>2</th>\n",
       "      <td>3</td>\n",
       "      <td>Ars Technica</td>\n",
       "      <td>HP CEO evokes James Bond-style hack via ink ca...</td>\n",
       "      <td>https://arstechnica.com/gadgets/2024/01/hp-ceo...</td>\n",
       "      <td>0</td>\n",
       "      <td>2024-01-24</td>\n",
       "    </tr>\n",
       "    <tr>\n",
       "      <th>3</th>\n",
       "      <td>4</td>\n",
       "      <td>Ars Technica</td>\n",
       "      <td>iOS 17.3 adds multiple features originally pla...</td>\n",
       "      <td>https://arstechnica.com/gadgets/2024/01/ios-17...</td>\n",
       "      <td>0</td>\n",
       "      <td>2024-01-24</td>\n",
       "    </tr>\n",
       "    <tr>\n",
       "      <th>4</th>\n",
       "      <td>5</td>\n",
       "      <td>Ars Technica</td>\n",
       "      <td>Wild Apples: The 12 weirdest and rarest Macs e...</td>\n",
       "      <td>https://arstechnica.com/gadgets/2024/01/macint...</td>\n",
       "      <td>0</td>\n",
       "      <td>2024-01-24</td>\n",
       "    </tr>\n",
       "    <tr>\n",
       "      <th>...</th>\n",
       "      <td>...</td>\n",
       "      <td>...</td>\n",
       "      <td>...</td>\n",
       "      <td>...</td>\n",
       "      <td>...</td>\n",
       "      <td>...</td>\n",
       "    </tr>\n",
       "    <tr>\n",
       "      <th>30861</th>\n",
       "      <td>30862</td>\n",
       "      <td>The Register</td>\n",
       "      <td>Microsoft rolls out safety tools for Azure AI....</td>\n",
       "      <td>https://www.theregister.com/2024/03/29/microso...</td>\n",
       "      <td>1</td>\n",
       "      <td>2024-03-29</td>\n",
       "    </tr>\n",
       "    <tr>\n",
       "      <th>30862</th>\n",
       "      <td>30863</td>\n",
       "      <td>The Register</td>\n",
       "      <td>Amazon fined in Europe for screwing shoppers w...</td>\n",
       "      <td>https://www.theregister.com/2024/03/29/amazon_...</td>\n",
       "      <td>0</td>\n",
       "      <td>2024-03-29</td>\n",
       "    </tr>\n",
       "    <tr>\n",
       "      <th>30863</th>\n",
       "      <td>30864</td>\n",
       "      <td>The Register</td>\n",
       "      <td>Farewell .NET 7, support ends in May - we hard...</td>\n",
       "      <td>https://www.theregister.com/2024/03/29/dotnet_...</td>\n",
       "      <td>0</td>\n",
       "      <td>2024-03-29</td>\n",
       "    </tr>\n",
       "    <tr>\n",
       "      <th>30864</th>\n",
       "      <td>30865</td>\n",
       "      <td>The Register</td>\n",
       "      <td>Hillary Clinton: 2024 will be 'ground zero' fo...</td>\n",
       "      <td>https://www.theregister.com/2024/03/29/hillary...</td>\n",
       "      <td>1</td>\n",
       "      <td>2024-03-29</td>\n",
       "    </tr>\n",
       "    <tr>\n",
       "      <th>30865</th>\n",
       "      <td>30866</td>\n",
       "      <td>The Register</td>\n",
       "      <td>Do not touch that computer. Not even while wea...</td>\n",
       "      <td>https://www.theregister.com/2024/03/29/on_call/</td>\n",
       "      <td>0</td>\n",
       "      <td>2024-03-29</td>\n",
       "    </tr>\n",
       "  </tbody>\n",
       "</table>\n",
       "<p>30866 rows × 6 columns</p>\n",
       "</div>"
      ],
      "text/plain": [
       "          id           src                                              title  \\\n",
       "0          1  Ars Technica  OnePlus 12 gets $800 US release along with the...   \n",
       "1          2  Ars Technica       Chrome can now organize your tab bar for you   \n",
       "2          3  Ars Technica  HP CEO evokes James Bond-style hack via ink ca...   \n",
       "3          4  Ars Technica  iOS 17.3 adds multiple features originally pla...   \n",
       "4          5  Ars Technica  Wild Apples: The 12 weirdest and rarest Macs e...   \n",
       "...      ...           ...                                                ...   \n",
       "30861  30862  The Register  Microsoft rolls out safety tools for Azure AI....   \n",
       "30862  30863  The Register  Amazon fined in Europe for screwing shoppers w...   \n",
       "30863  30864  The Register  Farewell .NET 7, support ends in May - we hard...   \n",
       "30864  30865  The Register  Hillary Clinton: 2024 will be 'ground zero' fo...   \n",
       "30865  30866  The Register  Do not touch that computer. Not even while wea...   \n",
       "\n",
       "                                                     url  isAI article_date  \n",
       "0      https://arstechnica.com/gadgets/2024/01/oneplu...     0   2024-01-24  \n",
       "1      https://arstechnica.com/gadgets/2024/01/chrome...     0   2024-01-24  \n",
       "2      https://arstechnica.com/gadgets/2024/01/hp-ceo...     0   2024-01-24  \n",
       "3      https://arstechnica.com/gadgets/2024/01/ios-17...     0   2024-01-24  \n",
       "4      https://arstechnica.com/gadgets/2024/01/macint...     0   2024-01-24  \n",
       "...                                                  ...   ...          ...  \n",
       "30861  https://www.theregister.com/2024/03/29/microso...     1   2024-03-29  \n",
       "30862  https://www.theregister.com/2024/03/29/amazon_...     0   2024-03-29  \n",
       "30863  https://www.theregister.com/2024/03/29/dotnet_...     0   2024-03-29  \n",
       "30864  https://www.theregister.com/2024/03/29/hillary...     1   2024-03-29  \n",
       "30865    https://www.theregister.com/2024/03/29/on_call/     0   2024-03-29  \n",
       "\n",
       "[30866 rows x 6 columns]"
      ]
     },
     "execution_count": 35,
     "metadata": {},
     "output_type": "execute_result"
    }
   ],
   "source": [
    "df = pd.read_sql_query(\"select * from news_articles\", conn)\n",
    "df\n"
   ]
  },
  {
   "cell_type": "code",
   "execution_count": 36,
   "id": "4916dac6",
   "metadata": {},
   "outputs": [
    {
     "data": {
      "text/plain": [
       "141"
      ]
     },
     "execution_count": 36,
     "metadata": {},
     "output_type": "execute_result"
    }
   ],
   "source": [
    "len(merged_df.loc[merged_df[\"isAI\"]])"
   ]
  },
  {
   "cell_type": "code",
   "execution_count": 37,
   "id": "9d4c9c78-9c58-482b-b7d9-427ed82d9746",
   "metadata": {
    "scrolled": true
   },
   "outputs": [],
   "source": [
    "AIdf = merged_df.loc[merged_df[\"isAI\"]].reset_index()\n"
   ]
  },
  {
   "cell_type": "code",
   "execution_count": 38,
   "id": "c3d649c1-3776-436d-86fe-712fe3fb3a82",
   "metadata": {},
   "outputs": [],
   "source": [
    "# Attempt to order by topic by getting embeddings and solving a traveling salesman problem\n",
    "embedding_model = 'text-embedding-3-small'\n",
    "response = client.embeddings.create(input=AIdf['title'].tolist(),\n",
    "                                    model=embedding_model)\n",
    "embedding_list = response.data"
   ]
  },
  {
   "cell_type": "code",
   "execution_count": 39,
   "id": "3f1074ce-5b31-470b-b962-3782dd8d2815",
   "metadata": {},
   "outputs": [
    {
     "data": {
      "text/html": [
       "<div>\n",
       "<style scoped>\n",
       "    .dataframe tbody tr th:only-of-type {\n",
       "        vertical-align: middle;\n",
       "    }\n",
       "\n",
       "    .dataframe tbody tr th {\n",
       "        vertical-align: top;\n",
       "    }\n",
       "\n",
       "    .dataframe thead th {\n",
       "        text-align: right;\n",
       "    }\n",
       "</style>\n",
       "<table border=\"1\" class=\"dataframe\">\n",
       "  <thead>\n",
       "    <tr style=\"text-align: right;\">\n",
       "      <th></th>\n",
       "      <th>0</th>\n",
       "      <th>1</th>\n",
       "      <th>2</th>\n",
       "      <th>3</th>\n",
       "      <th>4</th>\n",
       "      <th>5</th>\n",
       "      <th>6</th>\n",
       "      <th>7</th>\n",
       "      <th>8</th>\n",
       "      <th>9</th>\n",
       "      <th>...</th>\n",
       "      <th>1526</th>\n",
       "      <th>1527</th>\n",
       "      <th>1528</th>\n",
       "      <th>1529</th>\n",
       "      <th>1530</th>\n",
       "      <th>1531</th>\n",
       "      <th>1532</th>\n",
       "      <th>1533</th>\n",
       "      <th>1534</th>\n",
       "      <th>1535</th>\n",
       "    </tr>\n",
       "  </thead>\n",
       "  <tbody>\n",
       "    <tr>\n",
       "      <th>0</th>\n",
       "      <td>0.002582</td>\n",
       "      <td>-0.006159</td>\n",
       "      <td>0.024881</td>\n",
       "      <td>0.056909</td>\n",
       "      <td>0.033447</td>\n",
       "      <td>-0.035330</td>\n",
       "      <td>-0.003490</td>\n",
       "      <td>0.045478</td>\n",
       "      <td>0.022262</td>\n",
       "      <td>-0.044169</td>\n",
       "      <td>...</td>\n",
       "      <td>-0.060729</td>\n",
       "      <td>-0.012986</td>\n",
       "      <td>0.033093</td>\n",
       "      <td>0.016792</td>\n",
       "      <td>0.021893</td>\n",
       "      <td>0.037458</td>\n",
       "      <td>0.027636</td>\n",
       "      <td>0.001975</td>\n",
       "      <td>0.039995</td>\n",
       "      <td>-0.000850</td>\n",
       "    </tr>\n",
       "    <tr>\n",
       "      <th>1</th>\n",
       "      <td>0.008577</td>\n",
       "      <td>-0.000933</td>\n",
       "      <td>0.071857</td>\n",
       "      <td>0.027055</td>\n",
       "      <td>-0.003931</td>\n",
       "      <td>-0.004827</td>\n",
       "      <td>-0.004386</td>\n",
       "      <td>0.031101</td>\n",
       "      <td>0.013123</td>\n",
       "      <td>0.005893</td>\n",
       "      <td>...</td>\n",
       "      <td>-0.002522</td>\n",
       "      <td>0.041189</td>\n",
       "      <td>0.003978</td>\n",
       "      <td>0.011742</td>\n",
       "      <td>0.003129</td>\n",
       "      <td>0.009365</td>\n",
       "      <td>0.019583</td>\n",
       "      <td>0.004101</td>\n",
       "      <td>-0.024121</td>\n",
       "      <td>0.018456</td>\n",
       "    </tr>\n",
       "    <tr>\n",
       "      <th>2</th>\n",
       "      <td>0.016636</td>\n",
       "      <td>-0.029663</td>\n",
       "      <td>0.029832</td>\n",
       "      <td>0.030537</td>\n",
       "      <td>0.001967</td>\n",
       "      <td>-0.036036</td>\n",
       "      <td>-0.013492</td>\n",
       "      <td>-0.014916</td>\n",
       "      <td>0.011095</td>\n",
       "      <td>-0.028042</td>\n",
       "      <td>...</td>\n",
       "      <td>-0.048724</td>\n",
       "      <td>0.027168</td>\n",
       "      <td>0.000379</td>\n",
       "      <td>-0.009827</td>\n",
       "      <td>0.015395</td>\n",
       "      <td>-0.002962</td>\n",
       "      <td>0.002159</td>\n",
       "      <td>0.019343</td>\n",
       "      <td>0.011702</td>\n",
       "      <td>0.006640</td>\n",
       "    </tr>\n",
       "    <tr>\n",
       "      <th>3</th>\n",
       "      <td>-0.010392</td>\n",
       "      <td>0.018196</td>\n",
       "      <td>0.030686</td>\n",
       "      <td>0.046871</td>\n",
       "      <td>0.051621</td>\n",
       "      <td>-0.048605</td>\n",
       "      <td>-0.002193</td>\n",
       "      <td>0.057502</td>\n",
       "      <td>0.005193</td>\n",
       "      <td>-0.020269</td>\n",
       "      <td>...</td>\n",
       "      <td>0.008250</td>\n",
       "      <td>0.010147</td>\n",
       "      <td>-0.005843</td>\n",
       "      <td>0.004923</td>\n",
       "      <td>-0.001943</td>\n",
       "      <td>0.008878</td>\n",
       "      <td>-0.013622</td>\n",
       "      <td>-0.022292</td>\n",
       "      <td>0.013295</td>\n",
       "      <td>0.013081</td>\n",
       "    </tr>\n",
       "    <tr>\n",
       "      <th>4</th>\n",
       "      <td>-0.014357</td>\n",
       "      <td>-0.022761</td>\n",
       "      <td>0.041740</td>\n",
       "      <td>-0.006832</td>\n",
       "      <td>-0.016444</td>\n",
       "      <td>-0.014441</td>\n",
       "      <td>0.027285</td>\n",
       "      <td>-0.002675</td>\n",
       "      <td>-0.023041</td>\n",
       "      <td>0.001374</td>\n",
       "      <td>...</td>\n",
       "      <td>-0.031543</td>\n",
       "      <td>0.014329</td>\n",
       "      <td>-0.010183</td>\n",
       "      <td>0.001283</td>\n",
       "      <td>0.048491</td>\n",
       "      <td>0.011626</td>\n",
       "      <td>-0.008544</td>\n",
       "      <td>-0.004360</td>\n",
       "      <td>-0.004093</td>\n",
       "      <td>0.021542</td>\n",
       "    </tr>\n",
       "    <tr>\n",
       "      <th>...</th>\n",
       "      <td>...</td>\n",
       "      <td>...</td>\n",
       "      <td>...</td>\n",
       "      <td>...</td>\n",
       "      <td>...</td>\n",
       "      <td>...</td>\n",
       "      <td>...</td>\n",
       "      <td>...</td>\n",
       "      <td>...</td>\n",
       "      <td>...</td>\n",
       "      <td>...</td>\n",
       "      <td>...</td>\n",
       "      <td>...</td>\n",
       "      <td>...</td>\n",
       "      <td>...</td>\n",
       "      <td>...</td>\n",
       "      <td>...</td>\n",
       "      <td>...</td>\n",
       "      <td>...</td>\n",
       "      <td>...</td>\n",
       "      <td>...</td>\n",
       "    </tr>\n",
       "    <tr>\n",
       "      <th>136</th>\n",
       "      <td>-0.008556</td>\n",
       "      <td>-0.004638</td>\n",
       "      <td>-0.006529</td>\n",
       "      <td>0.039581</td>\n",
       "      <td>0.033882</td>\n",
       "      <td>-0.052974</td>\n",
       "      <td>-0.025760</td>\n",
       "      <td>0.065313</td>\n",
       "      <td>-0.020945</td>\n",
       "      <td>-0.009917</td>\n",
       "      <td>...</td>\n",
       "      <td>-0.004599</td>\n",
       "      <td>-0.004349</td>\n",
       "      <td>-0.012182</td>\n",
       "      <td>0.009696</td>\n",
       "      <td>0.008556</td>\n",
       "      <td>0.021814</td>\n",
       "      <td>-0.019320</td>\n",
       "      <td>-0.016357</td>\n",
       "      <td>0.030035</td>\n",
       "      <td>-0.013500</td>\n",
       "    </tr>\n",
       "    <tr>\n",
       "      <th>137</th>\n",
       "      <td>-0.008184</td>\n",
       "      <td>0.039025</td>\n",
       "      <td>0.015846</td>\n",
       "      <td>0.020982</td>\n",
       "      <td>-0.007518</td>\n",
       "      <td>-0.059429</td>\n",
       "      <td>-0.016299</td>\n",
       "      <td>0.047428</td>\n",
       "      <td>0.005527</td>\n",
       "      <td>-0.039821</td>\n",
       "      <td>...</td>\n",
       "      <td>-0.042814</td>\n",
       "      <td>0.038997</td>\n",
       "      <td>0.045561</td>\n",
       "      <td>0.038091</td>\n",
       "      <td>0.012791</td>\n",
       "      <td>0.026241</td>\n",
       "      <td>-0.036443</td>\n",
       "      <td>-0.027092</td>\n",
       "      <td>-0.027600</td>\n",
       "      <td>0.016903</td>\n",
       "    </tr>\n",
       "    <tr>\n",
       "      <th>138</th>\n",
       "      <td>-0.000002</td>\n",
       "      <td>-0.027671</td>\n",
       "      <td>-0.004337</td>\n",
       "      <td>0.055931</td>\n",
       "      <td>0.000066</td>\n",
       "      <td>-0.026492</td>\n",
       "      <td>-0.026591</td>\n",
       "      <td>0.058043</td>\n",
       "      <td>-0.011411</td>\n",
       "      <td>-0.029365</td>\n",
       "      <td>...</td>\n",
       "      <td>0.021078</td>\n",
       "      <td>0.032950</td>\n",
       "      <td>0.000160</td>\n",
       "      <td>0.029365</td>\n",
       "      <td>0.032630</td>\n",
       "      <td>0.021263</td>\n",
       "      <td>0.021975</td>\n",
       "      <td>-0.009158</td>\n",
       "      <td>0.010269</td>\n",
       "      <td>0.027499</td>\n",
       "    </tr>\n",
       "    <tr>\n",
       "      <th>139</th>\n",
       "      <td>-0.005980</td>\n",
       "      <td>0.007918</td>\n",
       "      <td>0.053330</td>\n",
       "      <td>0.028500</td>\n",
       "      <td>-0.005187</td>\n",
       "      <td>-0.040474</td>\n",
       "      <td>0.022141</td>\n",
       "      <td>0.056834</td>\n",
       "      <td>-0.035314</td>\n",
       "      <td>0.044253</td>\n",
       "      <td>...</td>\n",
       "      <td>-0.011636</td>\n",
       "      <td>0.035149</td>\n",
       "      <td>-0.015892</td>\n",
       "      <td>0.040032</td>\n",
       "      <td>0.008546</td>\n",
       "      <td>-0.016374</td>\n",
       "      <td>-0.001974</td>\n",
       "      <td>-0.000450</td>\n",
       "      <td>-0.016733</td>\n",
       "      <td>-0.013277</td>\n",
       "    </tr>\n",
       "    <tr>\n",
       "      <th>140</th>\n",
       "      <td>-0.004620</td>\n",
       "      <td>-0.005451</td>\n",
       "      <td>0.047385</td>\n",
       "      <td>0.036643</td>\n",
       "      <td>0.050623</td>\n",
       "      <td>-0.023447</td>\n",
       "      <td>0.049396</td>\n",
       "      <td>0.061071</td>\n",
       "      <td>-0.079564</td>\n",
       "      <td>0.046747</td>\n",
       "      <td>...</td>\n",
       "      <td>0.016138</td>\n",
       "      <td>0.008664</td>\n",
       "      <td>-0.012202</td>\n",
       "      <td>0.003967</td>\n",
       "      <td>0.013882</td>\n",
       "      <td>-0.028720</td>\n",
       "      <td>-0.005132</td>\n",
       "      <td>-0.009473</td>\n",
       "      <td>-0.016837</td>\n",
       "      <td>-0.014802</td>\n",
       "    </tr>\n",
       "  </tbody>\n",
       "</table>\n",
       "<p>141 rows × 1536 columns</p>\n",
       "</div>"
      ],
      "text/plain": [
       "         0         1         2         3         4         5         6     \\\n",
       "0    0.002582 -0.006159  0.024881  0.056909  0.033447 -0.035330 -0.003490   \n",
       "1    0.008577 -0.000933  0.071857  0.027055 -0.003931 -0.004827 -0.004386   \n",
       "2    0.016636 -0.029663  0.029832  0.030537  0.001967 -0.036036 -0.013492   \n",
       "3   -0.010392  0.018196  0.030686  0.046871  0.051621 -0.048605 -0.002193   \n",
       "4   -0.014357 -0.022761  0.041740 -0.006832 -0.016444 -0.014441  0.027285   \n",
       "..        ...       ...       ...       ...       ...       ...       ...   \n",
       "136 -0.008556 -0.004638 -0.006529  0.039581  0.033882 -0.052974 -0.025760   \n",
       "137 -0.008184  0.039025  0.015846  0.020982 -0.007518 -0.059429 -0.016299   \n",
       "138 -0.000002 -0.027671 -0.004337  0.055931  0.000066 -0.026492 -0.026591   \n",
       "139 -0.005980  0.007918  0.053330  0.028500 -0.005187 -0.040474  0.022141   \n",
       "140 -0.004620 -0.005451  0.047385  0.036643  0.050623 -0.023447  0.049396   \n",
       "\n",
       "         7         8         9     ...      1526      1527      1528  \\\n",
       "0    0.045478  0.022262 -0.044169  ... -0.060729 -0.012986  0.033093   \n",
       "1    0.031101  0.013123  0.005893  ... -0.002522  0.041189  0.003978   \n",
       "2   -0.014916  0.011095 -0.028042  ... -0.048724  0.027168  0.000379   \n",
       "3    0.057502  0.005193 -0.020269  ...  0.008250  0.010147 -0.005843   \n",
       "4   -0.002675 -0.023041  0.001374  ... -0.031543  0.014329 -0.010183   \n",
       "..        ...       ...       ...  ...       ...       ...       ...   \n",
       "136  0.065313 -0.020945 -0.009917  ... -0.004599 -0.004349 -0.012182   \n",
       "137  0.047428  0.005527 -0.039821  ... -0.042814  0.038997  0.045561   \n",
       "138  0.058043 -0.011411 -0.029365  ...  0.021078  0.032950  0.000160   \n",
       "139  0.056834 -0.035314  0.044253  ... -0.011636  0.035149 -0.015892   \n",
       "140  0.061071 -0.079564  0.046747  ...  0.016138  0.008664 -0.012202   \n",
       "\n",
       "         1529      1530      1531      1532      1533      1534      1535  \n",
       "0    0.016792  0.021893  0.037458  0.027636  0.001975  0.039995 -0.000850  \n",
       "1    0.011742  0.003129  0.009365  0.019583  0.004101 -0.024121  0.018456  \n",
       "2   -0.009827  0.015395 -0.002962  0.002159  0.019343  0.011702  0.006640  \n",
       "3    0.004923 -0.001943  0.008878 -0.013622 -0.022292  0.013295  0.013081  \n",
       "4    0.001283  0.048491  0.011626 -0.008544 -0.004360 -0.004093  0.021542  \n",
       "..        ...       ...       ...       ...       ...       ...       ...  \n",
       "136  0.009696  0.008556  0.021814 -0.019320 -0.016357  0.030035 -0.013500  \n",
       "137  0.038091  0.012791  0.026241 -0.036443 -0.027092 -0.027600  0.016903  \n",
       "138  0.029365  0.032630  0.021263  0.021975 -0.009158  0.010269  0.027499  \n",
       "139  0.040032  0.008546 -0.016374 -0.001974 -0.000450 -0.016733 -0.013277  \n",
       "140  0.003967  0.013882 -0.028720 -0.005132 -0.009473 -0.016837 -0.014802  \n",
       "\n",
       "[141 rows x 1536 columns]"
      ]
     },
     "execution_count": 39,
     "metadata": {},
     "output_type": "execute_result"
    }
   ],
   "source": [
    "embedding_df = pd.DataFrame([e.dict()['embedding'] for e in embedding_list])\n",
    "embedding_df\n"
   ]
  },
  {
   "cell_type": "code",
   "execution_count": 40,
   "id": "a09087d0-a63c-4a50-b9ac-ab2fe03be69e",
   "metadata": {},
   "outputs": [
    {
     "data": {
      "text/plain": [
       "array([  0,  50,  56,  35, 107,  81, 118,  14,  25,  48, 130, 112, 114,\n",
       "        30,  32,  88,  55,  62,  24, 123,  15,  19, 138,  26,  74,  44,\n",
       "        98,  53,  97,  94,  99, 131,   8,  86, 122,  43, 140,  91,  41,\n",
       "        54,   1,  42, 111, 125,  17,  58,  46, 139, 128,  83,  45, 132,\n",
       "       103,  92,  10,  18,  89,  49,  59,  95, 110,  90,  33, 129, 105,\n",
       "       108,  72, 117,  85,  79, 126,  80,  63,  47,  67,  84,  69,  66,\n",
       "       101,  37,  39, 102, 120,  60,  75, 119, 104,  87,   2, 115,  51,\n",
       "        82,  68,  16,  11, 113,  76,  77,  28, 124,  36, 116, 109, 137,\n",
       "         6,   4, 127,  29,  22, 106,  20,   9,   7,  40,   5,  27,  34,\n",
       "        96,  65,  71,  64,  61, 100,  57,  93,   3,  70,  52, 121, 136,\n",
       "        23,  31,  78,  73, 133, 135,  12, 134,  21,  38,  13])"
      ]
     },
     "execution_count": 40,
     "metadata": {},
     "output_type": "execute_result"
    }
   ],
   "source": [
    "# naive greedy solution to traveling salesman problem\n",
    "\n",
    "embedding_array = embedding_df.values\n",
    "\n",
    "def nearest_neighbor_sort(embedding_array):\n",
    "    # Compute the pairwise Euclidean distances between all embeddings\n",
    "    distances = cdist(embedding_array, embedding_array, metric='euclidean')\n",
    "\n",
    "    # Start from the first headline as the initial point\n",
    "    path = [0]\n",
    "    visited = set(path)\n",
    "\n",
    "    while len(path) < len(embedding_array):\n",
    "        last = path[-1]\n",
    "        # Set the distances to already visited nodes to infinity to avoid revisiting\n",
    "        distances[:, last][list(visited)] = np.inf\n",
    "        # Find the nearest neighbor\n",
    "        nearest = np.argmin(distances[:, last])\n",
    "        path.append(nearest)\n",
    "        visited.add(nearest)\n",
    "\n",
    "    return np.array(path)\n",
    "\n",
    "# Get the sorted indices\n",
    "sorted_indices = nearest_neighbor_sort(embedding_array)\n",
    "\n",
    "# The sorted embedding array can be obtained using these indices\n",
    "sorted_embedding_array = embedding_array[sorted_indices]\n",
    "\n",
    "sorted_indices  # Show the first few indices of the sorted path\n"
   ]
  },
  {
   "cell_type": "code",
   "execution_count": 96,
   "id": "40df3a68-9998-46b1-8275-862724be8bcd",
   "metadata": {},
   "outputs": [
    {
     "data": {
      "text/markdown": [
       "[0. Sam Altman is trying to convince Hollywood that Sora won't destroy the movie business - Business Insider](https://www.businessinsider.com/sam-altman-openai-convince-sora-wont-destroy-hollywood-2024-3)"
      ],
      "text/plain": [
       "<IPython.core.display.Markdown object>"
      ]
     },
     "metadata": {},
     "output_type": "display_data"
    },
    {
     "data": {
      "text/markdown": [
       "[1. Amazon Adds \\\\$2.75 Billion To Anthropic Investment, Sora Goes To Hollywood - Google News](https://news.google.com/articles/CBMie2h0dHBzOi8vd3d3LmZvcmJlcy5jb20vc2l0ZXMvY2hhcmxpZWZpbmsvMjAyNC8wMy8yOC9hbWF6b24tYWRkcy0yNzUtYmlsbGlvbi10by1hbnRocm9waWMtaW52ZXN0bWVudC1zb3JhLWdvZXMtdG8taG9sbHl3b29kL9IBAA)"
      ],
      "text/plain": [
       "<IPython.core.display.Markdown object>"
      ]
     },
     "metadata": {},
     "output_type": "display_data"
    },
    {
     "data": {
      "text/markdown": [
       "[2. Why Amazon's multi-billion dollar AI alliance with Anthropic isn't the game-changer it needs to remain king of the cloud - Google News](https://news.google.com/articles/CBMib2h0dHBzOi8vZm9ydHVuZS5jb20vMjAyNC8wMy8yOC9hbWF6b24tYXdzLWFudGhyb3BpYy1haS1kZWFsLXJldmVhbHMtdnVsbmVyYWJpbGl5LWNsb3VkLWVtcGlyZS1taWNyb3NvZnQtZ29vZ2xlL9IBAA)"
      ],
      "text/plain": [
       "<IPython.core.display.Markdown object>"
      ]
     },
     "metadata": {},
     "output_type": "display_data"
    },
    {
     "data": {
      "text/markdown": [
       "[3. Amazon’s Next Phase of Growth Will Be Driven by AI. Analyst Sees Bonanza for AWS. - Feedly AI](https://www.barrons.com/articles/amazon-revenue-growth-ai-d70d858d)"
      ],
      "text/plain": [
       "<IPython.core.display.Markdown object>"
      ]
     },
     "metadata": {},
     "output_type": "display_data"
    },
    {
     "data": {
      "text/markdown": [
       "[4. Amazon pours \\\\$150B into data centers to handle expected AI boom - Google News](https://news.google.com/articles/CBMiZmh0dHBzOi8vbnlwb3N0LmNvbS8yMDI0LzAzLzI4L2J1c2luZXNzL2FtYXpvbi1wb3Vycy0xNTBiLWludG8tZGF0YS1jZW50ZXJzLXRvLWhhbmRsZS1leHBlY3RlZC1haS1ib29tL9IBAA)"
      ],
      "text/plain": [
       "<IPython.core.display.Markdown object>"
      ]
     },
     "metadata": {},
     "output_type": "display_data"
    },
    {
     "data": {
      "text/markdown": [
       "[5. Amazon Bets \\\\$150 Billion on Data Centers Required for AI Boom - Google News](https://news.google.com/articles/CBMiSmh0dHBzOi8vZmluYW5jZS55YWhvby5jb20vbmV3cy9hbWF6b24tYmV0cy0xNTAtYmlsbGlvbi1kYXRhLTExMzAxOTk4NC5odG1s0gEA)"
      ],
      "text/plain": [
       "<IPython.core.display.Markdown object>"
      ]
     },
     "metadata": {},
     "output_type": "display_data"
    },
    {
     "data": {
      "text/markdown": [
       "[6. Amazon to Invest \\\\$150 Billion In AI-Supporting Data Centers - Google News](https://news.google.com/articles/CBMiVmh0dHBzOi8vd3d3LndlYnByb25ld3MuY29tL2FtYXpvbi10by1pbnZlc3QtMTUwLWJpbGxpb24taW4tYWktc3VwcG9ydGluZy1kYXRhLWNlbnRlcnMv0gEA)"
      ],
      "text/plain": [
       "<IPython.core.display.Markdown object>"
      ]
     },
     "metadata": {},
     "output_type": "display_data"
    },
    {
     "data": {
      "text/markdown": [
       "[7. Amazon reportedly to spend \\\\$150B to build data centers needed for AI boom, ‘get closer to customers’ - Feedly AI](https://nypost.com/2024/03/28/business/amazon-pours-150b-into-data-centers-to-handle-expected-ai-boom/)"
      ],
      "text/plain": [
       "<IPython.core.display.Markdown object>"
      ]
     },
     "metadata": {},
     "output_type": "display_data"
    },
    {
     "data": {
      "text/markdown": [
       "[8. Nvidia, Amazon And Microsoft's Recent Activity Indicate Impending AI Bubble: 'When The Music Stops There Will Not Be Many Chairs Available' - Feedly AI](https://www.benzinga.com/analyst-ratings/analyst-color/24/03/38001796/nvidia-amazon-and-microsofts-recent-activity-indicate-impending-ai-bubble-when-the-)"
      ],
      "text/plain": [
       "<IPython.core.display.Markdown object>"
      ]
     },
     "metadata": {},
     "output_type": "display_data"
    },
    {
     "data": {
      "text/markdown": [
       "[9. 'The frenzy continues': Researcher names 3 new signs of an AI bubble amid Nvidia hype - Google News](https://news.google.com/articles/CBMid2h0dHBzOi8vd3d3LmNuYmMuY29tLzIwMjQvMDMvMjkvdGhlLWZyZW56eS1jb250aW51ZXMtcmVzZWFyY2hlci1uYW1lcy0zLW5ldy1zaWducy1vZi1hbi1haS1idWJibGUtYW1pZC1udmlkaWEtaHlwZS5odG1s0gEA)"
      ],
      "text/plain": [
       "<IPython.core.display.Markdown object>"
      ]
     },
     "metadata": {},
     "output_type": "display_data"
    },
    {
     "data": {
      "text/markdown": [
       "[10. Nvidia Stock Had a Blockbuster Q1 Amid AI-Driven Frenzy—Watch This Key Chart Pattern - Google News](https://news.google.com/articles/CBMiXGh0dHBzOi8vd3d3LmludmVzdG9wZWRpYS5jb20vbnZpZGlhLXN0b2NrLWhhZC1hLWJsb2NrYnVzdGVyLXExLWFtaWQtYWktZHJpdmVuLWZyZW56eS04NjIyMDEx0gEA)"
      ],
      "text/plain": [
       "<IPython.core.display.Markdown object>"
      ]
     },
     "metadata": {},
     "output_type": "display_data"
    },
    {
     "data": {
      "text/markdown": [
       "[11. Meet the Artificial Intelligence (AI) Stock That Attracted Nvidia's Biggest Investment - Google News](https://news.google.com/articles/CBMiWWh0dHBzOi8vd3d3LmZvb2wuY29tL2ludmVzdGluZy8yMDI0LzAzLzI4L252aWRpYXMtZmF2b3JpdGUtYXJ0aWZpY2lhbC1pbnRlbGxpZ2VuY2Utc3RvY2sv0gEA)"
      ],
      "text/plain": [
       "<IPython.core.display.Markdown object>"
      ]
     },
     "metadata": {},
     "output_type": "display_data"
    },
    {
     "data": {
      "text/markdown": [
       "[12. Billionaire David Tepper Is Loading Up on These Artificial Intelligence (AI) Stocks -- and Nvidia Isn't One of Them - Google News](https://news.google.com/articles/CBMiWWh0dHBzOi8vZmluYW5jZS55YWhvby5jb20vbmV3cy9iaWxsaW9uYWlyZS1kYXZpZC10ZXBwZXItbG9hZGluZy1hcnRpZmljaWFsLTA5NDcwMDI3My5odG1s0gEA)"
      ],
      "text/plain": [
       "<IPython.core.display.Markdown object>"
      ]
     },
     "metadata": {},
     "output_type": "display_data"
    },
    {
     "data": {
      "text/markdown": [
       "[13. 1Artificial Intelligence(AI) Stock to Buy Hand Over Fist Before It Jumps 45% - Feedly AI](https://www.fool.com/investing/2024/03/29/1-artificial-intelligence-ai-stock-to-buy-hand-ove/)"
      ],
      "text/plain": [
       "<IPython.core.display.Markdown object>"
      ]
     },
     "metadata": {},
     "output_type": "display_data"
    },
    {
     "data": {
      "text/markdown": [
       "[14. Artificial intelligenceboom drives sharemarkets to best first quarter in five years - Feedly AI](https://www.nzherald.co.nz/business/artificial-intelligence-boom-drives-sharemarkets-to-best-first-quarter-in-five-years/FGK2JIFWWBFGNCPMSY7P5OZDDA/)"
      ],
      "text/plain": [
       "<IPython.core.display.Markdown object>"
      ]
     },
     "metadata": {},
     "output_type": "display_data"
    },
    {
     "data": {
      "text/markdown": [
       "[15. AI boom drives global stock markets to best first quarter in 5 years - Google News](https://news.google.com/articles/CBMiP2h0dHBzOi8vd3d3LmZ0LmNvbS9jb250ZW50LzFmNDcxYzg4LWQ0OWYtNGE1Mi04NjE5LWNjNWMwYzUwNjAwONIBAA)"
      ],
      "text/plain": [
       "<IPython.core.display.Markdown object>"
      ]
     },
     "metadata": {},
     "output_type": "display_data"
    },
    {
     "data": {
      "text/markdown": [
       "[16. AI Boom Flourishes Thanks to The Fed And Record Week - Google News](https://news.google.com/articles/CBMibGh0dHBzOi8vaW52ZXN0b3JwbGFjZS5jb20vaHlwZXJncm93dGhpbnZlc3RpbmcvMjAyNC8wMy9haS1ib29tLWZsb3VyaXNoZXMtdGhhbmtzLXRvLXRoZS1mZWQtYW5kLXJlY29yZC13ZWVrL9IBAA)"
      ],
      "text/plain": [
       "<IPython.core.display.Markdown object>"
      ]
     },
     "metadata": {},
     "output_type": "display_data"
    },
    {
     "data": {
      "text/markdown": [
       "[17. J.P. Morgan U.S. equity head eyes AI and health 'game changers' - Google News](https://news.google.com/articles/CBMibmh0dHBzOi8vYXNpYS5uaWtrZWkuY29tL0VkaXRvci1zLVBpY2tzL0ludGVydmlldy9KLlAuLU1vcmdhbi1VLlMuLWVxdWl0eS1oZWFkLWV5ZXMtQUktYW5kLWhlYWx0aC1nYW1lLWNoYW5nZXJz0gEA)"
      ],
      "text/plain": [
       "<IPython.core.display.Markdown object>"
      ]
     },
     "metadata": {},
     "output_type": "display_data"
    },
    {
     "data": {
      "text/markdown": [
       "[18. Mary Meeker Turns Her Attention to AI. Here’s How She’s Investing Today. - Feedly AI](https://www.barrons.com/articles/ai-startups-investing-mary-meeker-f5c6bcb2)"
      ],
      "text/plain": [
       "<IPython.core.display.Markdown object>"
      ]
     },
     "metadata": {},
     "output_type": "display_data"
    },
    {
     "data": {
      "text/markdown": [
       "[19. Scale AI Nears \\\\$13 Billion Valuation in Accel-Led Round - Google News](https://news.google.com/articles/CBMiXmh0dHBzOi8vd3d3LnRoZWluZm9ybWF0aW9uLmNvbS9hcnRpY2xlcy9zY2FsZS1haS1uZWFycy0xMy1iaWxsaW9uLXZhbHVhdGlvbi1pbi1hY2NlbC1sZWQtcm91bmTSAQA)"
      ],
      "text/plain": [
       "<IPython.core.display.Markdown object>"
      ]
     },
     "metadata": {},
     "output_type": "display_data"
    },
    {
     "data": {
      "text/markdown": [
       "[20. Sources: Accel is in talks to lead a round in Scale AI at a \\\\$13B valuation, up from \\\\$7.3B in 2021; Scale AI generated \\\\$675M+ in revenue in 2023, up ~150% YoY (The Information) - Feedly AI](https://www.theinformation.com/articles/scale-ai-nears-13-billion-valuation-in-accel-led-round)"
      ],
      "text/plain": [
       "<IPython.core.display.Markdown object>"
      ]
     },
     "metadata": {},
     "output_type": "display_data"
    },
    {
     "data": {
      "text/markdown": [
       "[21. Startup looking to disrupt ERP market with AI raises \\\\$9.2M - Feedly AI](https://www.cfodive.com/news/startup-looking-to-disrupt-erp-market-with-ai-raises-92m/711667/)"
      ],
      "text/plain": [
       "<IPython.core.display.Markdown object>"
      ]
     },
     "metadata": {},
     "output_type": "display_data"
    },
    {
     "data": {
      "text/markdown": [
       "[22. New York-based The Brandtech Group, which provides generative AI-based tools for advertising and marketing campaigns, raised a \\\\$115M Series C at a \\\\$4B valuation - Techmeme](https://t.co/eHtc1eEAa2)"
      ],
      "text/plain": [
       "<IPython.core.display.Markdown object>"
      ]
     },
     "metadata": {},
     "output_type": "display_data"
    },
    {
     "data": {
      "text/markdown": [
       "[23. Salesforce Spends \\\\$20M on Einstein Image Rights, Securing AI Brand Dominance and Guinness Record - Feedly AI](https://www.benzinga.com/news/24/03/37983904/salesforce-spends-20m-on-einstein-image-rights-securing-ai-brand-dominance-and-guinness-record)"
      ],
      "text/plain": [
       "<IPython.core.display.Markdown object>"
      ]
     },
     "metadata": {},
     "output_type": "display_data"
    },
    {
     "data": {
      "text/markdown": [
       "[24. Adobe Just Demonstrated How AI Can Create Stellar Marketing Materials for Coca-Cola--or Any Company - Google News](https://news.google.com/articles/CBMihgFodHRwczovL3d3dy5pbmMuY29tL2Jlbi1zaGVycnkvYWRvYmUtanVzdC1kZW1vbnN0cmF0ZWQtaG93LWFpLWNhbi1jcmVhdGUtc3RlbGxhci1tYXJrZXRpbmctbWF0ZXJpYWxzLWZvci1jb2NhLWNvbGEtb3ItYW55LWNvbXBhbnkuaHRtbNIBAA)"
      ],
      "text/plain": [
       "<IPython.core.display.Markdown object>"
      ]
     },
     "metadata": {},
     "output_type": "display_data"
    },
    {
     "data": {
      "text/markdown": [
       "[25. How to make impressive PowerPoint presentations using AI - Feedly AI](https://www.geeky-gadgets.com/make-powerpoint-using-ai/)"
      ],
      "text/plain": [
       "<IPython.core.display.Markdown object>"
      ]
     },
     "metadata": {},
     "output_type": "display_data"
    },
    {
     "data": {
      "text/markdown": [
       "[26. How AI Changes Your Workforce - Google News](https://news.google.com/articles/CBMiQmh0dHBzOi8vc2xvYW5yZXZpZXcubWl0LmVkdS9hcnRpY2xlL2hvdy1haS1jaGFuZ2VzLXlvdXItd29ya2ZvcmNlL9IBAA)"
      ],
      "text/plain": [
       "<IPython.core.display.Markdown object>"
      ]
     },
     "metadata": {},
     "output_type": "display_data"
    },
    {
     "data": {
      "text/markdown": [
       "[27. Productivity Boost: Real Uses of AI in the Software You Already Have - Google News](https://news.google.com/articles/CBMie2h0dHBzOi8vbGVnYWx0YWxrbmV0d29yay5jb20vcG9kY2FzdHMvbmV3LXNvbG8vMjAyNC8wMy9wcm9kdWN0aXZpdHktYm9vc3QtcmVhbC11c2VzLW9mLWFpLWluLXRoZS1zb2Z0d2FyZS15b3UtYWxyZWFkeS1oYXZlL9IBAA)"
      ],
      "text/plain": [
       "<IPython.core.display.Markdown object>"
      ]
     },
     "metadata": {},
     "output_type": "display_data"
    },
    {
     "data": {
      "text/markdown": [
       "[28. The 7 Best AI Tools for Data Science Workflow - Google News](https://news.google.com/articles/CBMiR2h0dHBzOi8vd3d3LmtkbnVnZ2V0cy5jb20vdGhlLTctYmVzdC1haS10b29scy1mb3ItZGF0YS1zY2llbmNlLXdvcmtmbG930gEA)"
      ],
      "text/plain": [
       "<IPython.core.display.Markdown object>"
      ]
     },
     "metadata": {},
     "output_type": "display_data"
    },
    {
     "data": {
      "text/markdown": [
       "[29. 15 Artificial Intelligence Tools to Experiment with at Home - Google News](https://news.google.com/articles/CBMiRWh0dHBzOi8vd3d3LmJvc3Rvbm1hZ2F6aW5lLmNvbS9uZXdzLzIwMjQvMDMvMjgvaG93LXRvLXVzZS1haS1hdC1ob21lL9IBAA)"
      ],
      "text/plain": [
       "<IPython.core.display.Markdown object>"
      ]
     },
     "metadata": {},
     "output_type": "display_data"
    },
    {
     "data": {
      "text/markdown": [
       "[30. 5 FREE AI Websites That Will Save You Hundreds of Dollars | Tap to know more | Inshorts - Google News](https://news.google.com/articles/CBMiZGh0dHBzOi8vaW5zaG9ydHMuY29tL2VuL25ld3MvNS1mcmVlLWFpLXdlYnNpdGVzLXRoYXQtd2lsbC1zYXZlLXlvdS1odW5kcmVkcy1vZi1kb2xsYXJzLTE3MTE1NTMzNjc1ODLSAWhodHRwczovL2luc2hvcnRzLmNvbS9lbi9hbXBfbmV3cy81LWZyZWUtYWktd2Vic2l0ZXMtdGhhdC13aWxsLXNhdmUteW91LWh1bmRyZWRzLW9mLWRvbGxhcnMtMTcxMTU1MzM2NzU4Mg)"
      ],
      "text/plain": [
       "<IPython.core.display.Markdown object>"
      ]
     },
     "metadata": {},
     "output_type": "display_data"
    },
    {
     "data": {
      "text/markdown": [
       "[31. Google.org shares new report on AI use among nonprofits - Google News](https://news.google.com/articles/CBMiX2h0dHBzOi8vYmxvZy5nb29nbGUvb3V0cmVhY2gtaW5pdGlhdGl2ZXMvZ29vZ2xlLW9yZy9nb29nbGUtZm9yLW5vbnByb2ZpdHMtZ2VuZXJhdGl2ZS1haS1yZXBvcnQv0gEA)"
      ],
      "text/plain": [
       "<IPython.core.display.Markdown object>"
      ]
     },
     "metadata": {},
     "output_type": "display_data"
    },
    {
     "data": {
      "text/markdown": [
       "[32. The White House Just Released New AI Guidelines - Feedly AI](https://flipboard.com/video/veuer/cef59a572b)"
      ],
      "text/plain": [
       "<IPython.core.display.Markdown object>"
      ]
     },
     "metadata": {},
     "output_type": "display_data"
    },
    {
     "data": {
      "text/markdown": [
       "[33. The White House issued new rules on how government can use AI. Here's what they do - Google News](https://news.google.com/articles/CBMiPWh0dHBzOi8vd3d3Lm5wci5vcmcvMjAyNC8wMy8yOS8xMjQxMjgxODkyL2JpZGVuLWdvdmVybm1lbnQtYWnSAQA)"
      ],
      "text/plain": [
       "<IPython.core.display.Markdown object>"
      ]
     },
     "metadata": {},
     "output_type": "display_data"
    },
    {
     "data": {
      "text/markdown": [
       "[34. Fretting about election-year deep fakes, states roll out new rules for A.I. content. - Google News](https://news.google.com/articles/CBMiVWh0dHBzOi8vd3d3Lm55dGltZXMuY29tLzIwMjQvMDMvMjYvdXMvcG9saXRpY3MvZWxlY3Rpb24teWVhci1kZWVwLWZha2VzLWFpLXJ1bGVzLmh0bWzSAQA)"
      ],
      "text/plain": [
       "<IPython.core.display.Markdown object>"
      ]
     },
     "metadata": {},
     "output_type": "display_data"
    },
    {
     "data": {
      "text/markdown": [
       "[35. States rush to combat AI threat to elections - Feedly AI](https://indianacapitalchronicle.com/2024/03/29/states-rush-to-combat-ai-threat-to-elections/)"
      ],
      "text/plain": [
       "<IPython.core.display.Markdown object>"
      ]
     },
     "metadata": {},
     "output_type": "display_data"
    },
    {
     "data": {
      "text/markdown": [
       "[36. Hillary Clinton: 2024 will be 'ground zero' for AI election manipulation2016 meddling was 'primitive' compared to what's aheadAI + ML13 hrs|18 - The Register](https://www.theregister.com/2024/03/29/hillary_clinton_election_ai/)"
      ],
      "text/plain": [
       "<IPython.core.display.Markdown object>"
      ]
     },
     "metadata": {},
     "output_type": "display_data"
    },
    {
     "data": {
      "text/markdown": [
       "[37. Could artificial intelligence benefit democracy? - Google News](https://news.google.com/articles/CBMiLWh0dHBzOi8vd3d3LmJiYy5jb20vbmV3cy91ay1wb2xpdGljcy02ODYyNzkxNtIBMWh0dHBzOi8vd3d3LmJiYy5jb20vbmV3cy91ay1wb2xpdGljcy02ODYyNzkxNi5hbXA)"
      ],
      "text/plain": [
       "<IPython.core.display.Markdown object>"
      ]
     },
     "metadata": {},
     "output_type": "display_data"
    },
    {
     "data": {
      "text/markdown": [
       "[38. A bright or dystopian future with AI? - Feedly AI](https://www.iowapublicradio.org/podcast/talk-of-iowa/2024-03-29/a-bright-or-dystopian-future-with-ai)"
      ],
      "text/plain": [
       "<IPython.core.display.Markdown object>"
      ]
     },
     "metadata": {},
     "output_type": "display_data"
    },
    {
     "data": {
      "text/markdown": [
       "[39. AI is on a fast track, but hype and immaturity could derail it - Google News](https://news.google.com/articles/CBMicGh0dHBzOi8vd3d3LmNvbXB1dGVyd29ybGQuY29tL2FydGljbGUvMzcxNDk0MC9haS1pcy1vbi1hLWZhc3QtdHJhY2stYnV0LWh5cGUtYW5kLWltbWF0dXJpdHktY291bGQtZGVyYWlsLWl0Lmh0bWzSAXRodHRwczovL3d3dy5jb21wdXRlcndvcmxkLmNvbS9hcnRpY2xlLzM3MTQ5NDAvYWktaXMtb24tYS1mYXN0LXRyYWNrLWJ1dC1oeXBlLWFuZC1pbW1hdHVyaXR5LWNvdWxkLWRlcmFpbC1pdC5hbXAuaHRtbA)"
      ],
      "text/plain": [
       "<IPython.core.display.Markdown object>"
      ]
     },
     "metadata": {},
     "output_type": "display_data"
    },
    {
     "data": {
      "text/markdown": [
       "[40. Chaotic departure of StabilityAI chief raises doubts over start-up’s future - FT Tech](https://www.ft.com/content/d7bbb769-20f1-4242-bd15-201741c90720)"
      ],
      "text/plain": [
       "<IPython.core.display.Markdown object>"
      ]
     },
     "metadata": {},
     "output_type": "display_data"
    },
    {
     "data": {
      "text/markdown": [
       "[41. Palantir Stock Downgraded To Sell Amid 'Unprecedented Generative AI Hype Cycle' - Feedly AI](https://www.investors.com/news/technology/palantir-stock-downgraded-to-sell-amid-unprecedented-generative-ai-hype-cycle/)"
      ],
      "text/plain": [
       "<IPython.core.display.Markdown object>"
      ]
     },
     "metadata": {},
     "output_type": "display_data"
    },
    {
     "data": {
      "text/markdown": [
       "[42. Up 35% After Its IPO, Is Reddit the Next Red-Hot Artificial Intelligence Stock? - Google News](https://news.google.com/articles/CBMiWWh0dHBzOi8vd3d3LmZvb2wuY29tL2ludmVzdGluZy8yMDI0LzAzLzI5L3VwLWlwby1yZWRkaXQtbmV4dC1ob3QtYXJ0aWZpY2lhbC1pbnRlbGxpZ2VuY2Uv0gEA)"
      ],
      "text/plain": [
       "<IPython.core.display.Markdown object>"
      ]
     },
     "metadata": {},
     "output_type": "display_data"
    },
    {
     "data": {
      "text/markdown": [
       "[43. 2 \"Magnificent Seven\" Stocks Could Join Forces to Create the Ultimate Artificial Intelligence (AI) Opportunity - Google News](https://news.google.com/articles/CBMiXWh0dHBzOi8vd3d3LmZvb2wuY29tL2ludmVzdGluZy8yMDI0LzAzLzI4LzItbWFnbmlmaWNlbnQtc2V2ZW4tc3RvY2tzLWFydGlmaWNpYWwtaW50ZWxsaWdlbmNlL9IBAA)"
      ],
      "text/plain": [
       "<IPython.core.display.Markdown object>"
      ]
     },
     "metadata": {},
     "output_type": "display_data"
    },
    {
     "data": {
      "text/markdown": [
       "[44. The Artificial Superintelligence Alliance may become crypto’s next merger - Feedly AI](https://www.cityam.com/the-artificial-superintelligence-alliance-may-become-cryptos-next-merger/)"
      ],
      "text/plain": [
       "<IPython.core.display.Markdown object>"
      ]
     },
     "metadata": {},
     "output_type": "display_data"
    },
    {
     "data": {
      "text/markdown": [
       "[45. US joins Austria, Bahrain, Canada, & Portugal to co-lead global push for safer military AI - Google News](https://news.google.com/articles/CBMiemh0dHBzOi8vYnJlYWtpbmdkZWZlbnNlLmNvbS8yMDI0LzAzL3VzLWpvaW5zLWF1c3RyaWEtYmFocmFpbi1jYW5hZGEtcG9ydHVnYWwtdG8tY28tbGVhZC1nbG9iYWwtcHVzaC1mb3Itc2FmZXItbWlsaXRhcnktYWkv0gGAAWh0dHBzOi8vYnJlYWtpbmdkZWZlbnNlLmNvbS8yMDI0LzAzL3VzLWpvaW5zLWF1c3RyaWEtYmFocmFpbi1jYW5hZGEtcG9ydHVnYWwtdG8tY28tbGVhZC1nbG9iYWwtcHVzaC1mb3Itc2FmZXItbWlsaXRhcnktYWkvP2FtcD0x)"
      ],
      "text/plain": [
       "<IPython.core.display.Markdown object>"
      ]
     },
     "metadata": {},
     "output_type": "display_data"
    },
    {
     "data": {
      "text/markdown": [
       "[46. Microsoft unveils safety and security tools for generative AI - Feedly AI](https://www.infoworld.com/article/3714606/microsoft-unveils-safety-and-security-tools-for-generative-ai.html)"
      ],
      "text/plain": [
       "<IPython.core.display.Markdown object>"
      ]
     },
     "metadata": {},
     "output_type": "display_data"
    },
    {
     "data": {
      "text/markdown": [
       "[47. Microsoft rolls out safety tools for Azure AI. Hint: More modelsDefenses against prompt injection, hallucination arrive as Feds eye ML risksAI + ML12 hrs|4 - The Register](https://www.theregister.com/2024/03/29/microsoft_azure_safety_tools/)"
      ],
      "text/plain": [
       "<IPython.core.display.Markdown object>"
      ]
     },
     "metadata": {},
     "output_type": "display_data"
    },
    {
     "data": {
      "text/markdown": [
       "[48. Microsoft wants to stop you from using AI chatbots for evil - Google News](https://news.google.com/articles/CBMiWmh0dHBzOi8vd3d3LnpkbmV0LmNvbS9hcnRpY2xlL21pY3Jvc29mdC13YW50cy10by1zdG9wLXlvdS1mcm9tLXVzaW5nLWFpLWNoYXRib3RzLWZvci1ldmlsL9IBAA)"
      ],
      "text/plain": [
       "<IPython.core.display.Markdown object>"
      ]
     },
     "metadata": {},
     "output_type": "display_data"
    },
    {
     "data": {
      "text/markdown": [
       "[49. NYC's AI Chatbot Tells Businesses to Break the Law – The Markup - Google News](https://news.google.com/articles/CBMiV2h0dHBzOi8vdGhlbWFya3VwLm9yZy9uZXdzLzIwMjQvMDMvMjkvbnljcy1haS1jaGF0Ym90LXRlbGxzLWJ1c2luZXNzZXMtdG8tYnJlYWstdGhlLWxhd9IBAA)"
      ],
      "text/plain": [
       "<IPython.core.display.Markdown object>"
      ]
     },
     "metadata": {},
     "output_type": "display_data"
    },
    {
     "data": {
      "text/markdown": [
       "[50. NYC’s AI Chatbot Tells Businesses to Break the Law - Feedly AI](https://themarkup.org/news/2024/03/29/nycs-ai-chatbot-tells-businesses-to-break-the-law)"
      ],
      "text/plain": [
       "<IPython.core.display.Markdown object>"
      ]
     },
     "metadata": {},
     "output_type": "display_data"
    },
    {
     "data": {
      "text/markdown": [
       "[51. NYPD to test scanners with AI tech to crack down on guns in NYC subway - Google News](https://news.google.com/articles/CBMiYWh0dHBzOi8vZ290aGFtaXN0LmNvbS9uZXdzL255cGQtdG8tdGVzdC1zY2FubmVycy13aXRoLWFpLXRlY2gtdG8tY3JhY2stZG93bi1vbi1ndW5zLWluLW55Yy1zdWJ3YXnSAQA)"
      ],
      "text/plain": [
       "<IPython.core.display.Markdown object>"
      ]
     },
     "metadata": {},
     "output_type": "display_data"
    },
    {
     "data": {
      "text/markdown": [
       "[52. NYC subway testing out weapons detection technology, Mayor Adams says - Google News](https://news.google.com/articles/CBMiZGh0dHBzOi8vd3d3LmNic25ld3MuY29tL25ld3lvcmsvbmV3cy9ueWMtc3Vid2F5LWNyaW1lLXdlYXBvbnMtZGV0ZWN0aW9uLXRlY2hub2xvZ3ktbWF5b3ItZXJpYy1hZGFtcy_SAWhodHRwczovL3d3dy5jYnNuZXdzLmNvbS9hbXAvbmV3eW9yay9uZXdzL255Yy1zdWJ3YXktY3JpbWUtd2VhcG9ucy1kZXRlY3Rpb24tdGVjaG5vbG9neS1tYXlvci1lcmljLWFkYW1zLw)"
      ],
      "text/plain": [
       "<IPython.core.display.Markdown object>"
      ]
     },
     "metadata": {},
     "output_type": "display_data"
    },
    {
     "data": {
      "text/markdown": [
       "[53. AI metal detectors are coming to New York City subways - Google News](https://news.google.com/articles/CBMiSWh0dHBzOi8vcXouY29tL2FpLW1ldGFsLWRldGVjdG9ycy1uZXcteW9yay1jaXR5LXN1YndheXMtc2FmZXR5LTE4NTEzNzM4MzHSAQA)"
      ],
      "text/plain": [
       "<IPython.core.display.Markdown object>"
      ]
     },
     "metadata": {},
     "output_type": "display_data"
    },
    {
     "data": {
      "text/markdown": [
       "[54. UNDER WATCH Tiny home crackdown underway as officials turn to cameras andartificial intelligenceto catch people living in cars - Feedly AI](https://www.the-sun.com/news/10920110/tiny-home-crackdown-san-jose-cars-rvs/)"
      ],
      "text/plain": [
       "<IPython.core.display.Markdown object>"
      ]
     },
     "metadata": {},
     "output_type": "display_data"
    },
    {
     "data": {
      "text/markdown": [
       "[55. Lawrence K. Zelvin: Fraudsters haveartificial intelligencetoo - Feedly AI](https://www.chicagotribune.com/2024/03/28/opinion-ai-bank-financial-fraud-security/)"
      ],
      "text/plain": [
       "<IPython.core.display.Markdown object>"
      ]
     },
     "metadata": {},
     "output_type": "display_data"
    },
    {
     "data": {
      "text/markdown": [
       "[56. AI's legal revolution | YaleNews - Google News](https://news.google.com/articles/CBMiNWh0dHBzOi8vbmV3cy55YWxlLmVkdS8yMDI0LzAzLzI1L2Fpcy1sZWdhbC1yZXZvbHV0aW9u0gEA)"
      ],
      "text/plain": [
       "<IPython.core.display.Markdown object>"
      ]
     },
     "metadata": {},
     "output_type": "display_data"
    },
    {
     "data": {
      "text/markdown": [
       "[57. Generative AI is changing the legal profession – future lawyers need to know how to use it - Google News](https://news.google.com/articles/CBMie2h0dHBzOi8vdGhlY29udmVyc2F0aW9uLmNvbS9nZW5lcmF0aXZlLWFpLWlzLWNoYW5naW5nLXRoZS1sZWdhbC1wcm9mZXNzaW9uLWZ1dHVyZS1sYXd5ZXJzLW5lZWQtdG8ta25vdy1ob3ctdG8tdXNlLWl0LTIyNTczMNIBAA)"
      ],
      "text/plain": [
       "<IPython.core.display.Markdown object>"
      ]
     },
     "metadata": {},
     "output_type": "display_data"
    },
    {
     "data": {
      "text/markdown": [
       "[58. How The Generative AI Backlash Took Over The Internet - Google News](https://news.google.com/articles/CBMibGh0dHBzOi8vd3d3LmZvcmJlcy5jb20vc2l0ZXMvZGFuaWRpcGxhY2lkby8yMDI0LzAzLzI4L2hvdy10aGUtZ2VuZXJhdGl2ZS1haS1iYWNrbGFzaC10b29rLW92ZXItdGhlLWludGVybmV0L9IBAA)"
      ],
      "text/plain": [
       "<IPython.core.display.Markdown object>"
      ]
     },
     "metadata": {},
     "output_type": "display_data"
    },
    {
     "data": {
      "text/markdown": [
       "[59. Opinion | AI Garbage Is Already Polluting the Internet - Google News](https://news.google.com/articles/CBMiRWh0dHBzOi8vd3d3Lm55dGltZXMuY29tLzIwMjQvMDMvMjkvb3Bpbmlvbi9haS1pbnRlcm5ldC14LXlvdXR1YmUuaHRtbNIBAA)"
      ],
      "text/plain": [
       "<IPython.core.display.Markdown object>"
      ]
     },
     "metadata": {},
     "output_type": "display_data"
    },
    {
     "data": {
      "text/markdown": [
       "[60. 'Machine Unlearning' May Be the Solution to Problematic AI Data - Google News](https://news.google.com/articles/CBMiZWh0dHBzOi8vcGV0YXBpeGVsLmNvbS8yMDI0LzAzLzI4L25ldy1tYWNoaW5lLXVubGVhcm5pbmctbWV0aG9kLWFpbXMtdG8tZGVhbC13aXRoLXByb2JsZW1hdGljLWFpLWRhdGEv0gEA)"
      ],
      "text/plain": [
       "<IPython.core.display.Markdown object>"
      ]
     },
     "metadata": {},
     "output_type": "display_data"
    },
    {
     "data": {
      "text/markdown": [
       "[61. Q&A: How to train AI when you don't have enough data - Google News](https://news.google.com/articles/CBMiM2h0dHBzOi8vdGVjaHhwbG9yZS5jb20vbmV3cy8yMDI0LTAzLXFhLWFpLWRvbnQuaHRtbNIBMmh0dHBzOi8vdGVjaHhwbG9yZS5jb20vbmV3cy8yMDI0LTAzLXFhLWFpLWRvbnQuYW1w)"
      ],
      "text/plain": [
       "<IPython.core.display.Markdown object>"
      ]
     },
     "metadata": {},
     "output_type": "display_data"
    },
    {
     "data": {
      "text/markdown": [
       "[62. How to make your own AI research assistant using your favorite LLM - Feedly AI](https://www.geeky-gadgets.com/build-and-ai-assistant/)"
      ],
      "text/plain": [
       "<IPython.core.display.Markdown object>"
      ]
     },
     "metadata": {},
     "output_type": "display_data"
    },
    {
     "data": {
      "text/markdown": [
       "[63. AI-Incubated Research: The Stealthy Virtual Author in Academic Publishing - Google News](https://news.google.com/articles/CBMiX2h0dHBzOi8veXRlY2gubmV3cy9lbi9haS1pbmN1YmF0ZWQtcmVzZWFyY2gtdGhlLXN0ZWFsdGh5LXZpcnR1YWwtYXV0aG9yLWluLWFjYWRlbWljLXB1Ymxpc2hpbmcv0gEA)"
      ],
      "text/plain": [
       "<IPython.core.display.Markdown object>"
      ]
     },
     "metadata": {},
     "output_type": "display_data"
    },
    {
     "data": {
      "text/markdown": [
       "[64. 'Meticulously commendable': AI's fingerprints found all over recent academic papers - Google News](https://news.google.com/articles/CBMiaWh0dHBzOi8vd3d3LmNvbXB1dGluZy5jby51ay9uZXdzLzQxOTAzMTEvbWV0aWN1bG91c2x5LWNvbW1lbmRhYmxlLWFpcy1maW5nZXJwcmludHMtcmVjZW50LWFjYWRlbWljLXBhcGVyc9IBAA)"
      ],
      "text/plain": [
       "<IPython.core.display.Markdown object>"
      ]
     },
     "metadata": {},
     "output_type": "display_data"
    },
    {
     "data": {
      "text/markdown": [
       "[65. AI21 Labs’ new AI model can handle more context than most - Google News](https://news.google.com/articles/CBMiZWh0dHBzOi8vdGVjaGNydW5jaC5jb20vMjAyNC8wMy8yOC9haTIxLWxhYnMtbmV3LXRleHQtZ2VuZXJhdGluZy1haS1tb2RlbC1pcy1tb3JlLWVmZmljaWVudC10aGFuLW1vc3Qv0gFpaHR0cHM6Ly90ZWNoY3J1bmNoLmNvbS8yMDI0LzAzLzI4L2FpMjEtbGFicy1uZXctdGV4dC1nZW5lcmF0aW5nLWFpLW1vZGVsLWlzLW1vcmUtZWZmaWNpZW50LXRoYW4tbW9zdC9hbXAv)"
      ],
      "text/plain": [
       "<IPython.core.display.Markdown object>"
      ]
     },
     "metadata": {},
     "output_type": "display_data"
    },
    {
     "data": {
      "text/markdown": [
       "[66. AI21 Labs Breaks New Ground with ‘Jamba’: The Pioneering Hybrid SSM-Transformer Large Language Model - Google News](https://news.google.com/articles/CBMiigFodHRwczovL3d3dy5tYXJrdGVjaHBvc3QuY29tLzIwMjQvMDMvMjgvYWkyMS1sYWJzLWJyZWFrcy1uZXctZ3JvdW5kLXdpdGgtamFtYmEtdGhlLXBpb25lZXJpbmctaHlicmlkLXNzbS10cmFuc2Zvcm1lci1sYXJnZS1sYW5ndWFnZS1tb2RlbC_SAY4BaHR0cHM6Ly93d3cubWFya3RlY2hwb3N0LmNvbS8yMDI0LzAzLzI4L2FpMjEtbGFicy1icmVha3MtbmV3LWdyb3VuZC13aXRoLWphbWJhLXRoZS1waW9uZWVyaW5nLWh5YnJpZC1zc20tdHJhbnNmb3JtZXItbGFyZ2UtbGFuZ3VhZ2UtbW9kZWwvP2FtcA)"
      ],
      "text/plain": [
       "<IPython.core.display.Markdown object>"
      ]
     },
     "metadata": {},
     "output_type": "display_data"
    },
    {
     "data": {
      "text/markdown": [
       "[67. AI21 Debuts Hybrid Structure Generative AI Model Jamba - Google News](https://news.google.com/articles/CBMiVmh0dHBzOi8vdm9pY2Vib3QuYWkvMjAyNC8wMy8yOC9haTIxLWRlYnV0cy1oeWJyaWQtc3RydWN0dXJlLWdlbmVyYXRpdmUtYWktbW9kZWwtamFtYmEv0gEA)"
      ],
      "text/plain": [
       "<IPython.core.display.Markdown object>"
      ]
     },
     "metadata": {},
     "output_type": "display_data"
    },
    {
     "data": {
      "text/markdown": [
       "[68. AI21 Labs juices up gen AI transformers with Jamba - Google News](https://news.google.com/articles/CBMiTmh0dHBzOi8vdmVudHVyZWJlYXQuY29tL2FpL2FpMjEtbGFicy1qdWljZXMtdXAtZ2VuLWFpLXRyYW5zZm9ybWVycy13aXRoLWphbWJhL9IBAA)"
      ],
      "text/plain": [
       "<IPython.core.display.Markdown object>"
      ]
     },
     "metadata": {},
     "output_type": "display_data"
    },
    {
     "data": {
      "text/markdown": [
       "[69. Galaxy S24's most widely used AI feature comes from Google - Google News](https://news.google.com/articles/CBMiTmh0dHBzOi8vd3d3LnNhbW1vYmlsZS5jb20vbmV3cy9nYWxheHktczI0cy1tb3N0LXdpZGVseS11c2VkLWFpLWZlYXR1cmUtZ29vZ2xlL9IBAA)"
      ],
      "text/plain": [
       "<IPython.core.display.Markdown object>"
      ]
     },
     "metadata": {},
     "output_type": "display_data"
    },
    {
     "data": {
      "text/markdown": [
       "[70. Samsung updates millions of Galaxy devices with Galaxy AI - Google News](https://news.google.com/articles/CBMiWmh0dHBzOi8vd3d3LnNhbW1vYmlsZS5jb20vbmV3cy9zYW1zdW5nLXVwZGF0ZXMtbWlsbGlvbnMtZ2FsYXh5LWRldmljZXMtd2l0aC1haS1vbmUtdWktNi0xL9IBAA)"
      ],
      "text/plain": [
       "<IPython.core.display.Markdown object>"
      ]
     },
     "metadata": {},
     "output_type": "display_data"
    },
    {
     "data": {
      "text/markdown": [
       "[71. Google will soon roll out on-device AI-powered features on Pixel 8 - Google News](https://news.google.com/articles/CBMiT2h0dHBzOi8vdGVjaGNydW5jaC5jb20vMjAyNC8wMy8yOC9nb29nbGUtZ2VtaW5pLW5hbm8tZmVhdHVyZXMtcGl4ZWwtOC1yb2xsLW91dC_SAVNodHRwczovL3RlY2hjcnVuY2guY29tLzIwMjQvMDMvMjgvZ29vZ2xlLWdlbWluaS1uYW5vLWZlYXR1cmVzLXBpeGVsLTgtcm9sbC1vdXQvYW1wLw)"
      ],
      "text/plain": [
       "<IPython.core.display.Markdown object>"
      ]
     },
     "metadata": {},
     "output_type": "display_data"
    },
    {
     "data": {
      "text/markdown": [
       "[72. Google is bringing its AI-powered Circle to Search to older smartphones – here's why that matters - Google News](https://news.google.com/articles/CBMilQFodHRwczovL3d3dy50ZWNocmFkYXIuY29tL3Bob25lcy9zYW1zdW5nLWdhbGF4eS1waG9uZXMvZ29vZ2xlLWlzLWJyaW5naW5nLWl0cy1haS1wb3dlcmVkLWNpcmNsZS10by1zZWFyY2gtdG8tb2xkZXItc21hcnRwaG9uZXMtaGVyZXMtd2h5LXRoYXQtbWF0dGVyc9IBAA)"
      ],
      "text/plain": [
       "<IPython.core.display.Markdown object>"
      ]
     },
     "metadata": {},
     "output_type": "display_data"
    },
    {
     "data": {
      "text/markdown": [
       "[73. Amazon's palm-recognition tech gets its own mobile app, with new AI matching capability - Google News](https://news.google.com/articles/CBMidGh0dHBzOi8vd3d3LmdlZWt3aXJlLmNvbS8yMDI0L2FtYXpvbnMtcGFsbS1yZWNvZ25pdGlvbi10ZWNoLWdldHMtaXRzLW93bi1tb2JpbGUtYXBwLXdpdGgtbmV3LWFpLW1hdGNoaW5nLWNhcGFiaWxpdHkv0gEA)"
      ],
      "text/plain": [
       "<IPython.core.display.Markdown object>"
      ]
     },
     "metadata": {},
     "output_type": "display_data"
    },
    {
     "data": {
      "text/markdown": [
       "[74. The new tech bringing loved ones back to life through AI - Google News](https://news.google.com/articles/CBMijAFodHRwczovL25ld3Muc2t5LmNvbS9zdG9yeS93ZS1hbGwtd2FudC10by1saXZlLWZvcmV2ZXItdGhlLXRlY2gtbGV0dGluZy1wZW9wbGUtY3JlYXRlLWF2YXRhcnMtZm9yLWxvdmVkLW9uZXMtdG8tbWVldC1hZnRlci10aGV5LWRpZS0xMzEwMTk5NtIBkAFodHRwczovL25ld3Muc2t5LmNvbS9zdG9yeS9hbXAvd2UtYWxsLXdhbnQtdG8tbGl2ZS1mb3JldmVyLXRoZS10ZWNoLWxldHRpbmctcGVvcGxlLWNyZWF0ZS1hdmF0YXJzLWZvci1sb3ZlZC1vbmVzLXRvLW1lZXQtYWZ0ZXItdGhleS1kaWUtMTMxMDE5OTY)"
      ],
      "text/plain": [
       "<IPython.core.display.Markdown object>"
      ]
     },
     "metadata": {},
     "output_type": "display_data"
    },
    {
     "data": {
      "text/markdown": [
       "[75. Medical Moment: AI getting hearts back in rhythm - Google News](https://news.google.com/articles/CBMiU2h0dHBzOi8vd3d3LnduZHUuY29tL3ZpZGVvLzIwMjQvMDMvMjgvbWVkaWNhbC1tb21lbnQtYWktZ2V0dGluZy1oZWFydHMtYmFjay1yaHl0aG0v0gEA)"
      ],
      "text/plain": [
       "<IPython.core.display.Markdown object>"
      ]
     },
     "metadata": {},
     "output_type": "display_data"
    },
    {
     "data": {
      "text/markdown": [
       "[76. Artificial Intelligence in Cardiac Imaging: How AI Improves the Accuracy and Efficiency of Diagnosing Heart Conditions - Google News](https://news.google.com/articles/CBMitgFodHRwczovL3d3dy50aGVoaW5kdS5jb20vYnJhbmRodWIvcHItcmVsZWFzZS9hcnRpZmljaWFsLWludGVsbGlnZW5jZS1pbi1jYXJkaWFjLWltYWdpbmctaG93LWFpLWltcHJvdmVzLXRoZS1hY2N1cmFjeS1hbmQtZWZmaWNpZW5jeS1vZi1kaWFnbm9zaW5nLWhlYXJ0LWNvbmRpdGlvbnMvYXJ0aWNsZTY3OTY4NDY3LmVjZdIBuwFodHRwczovL3d3dy50aGVoaW5kdS5jb20vYnJhbmRodWIvcHItcmVsZWFzZS9hcnRpZmljaWFsLWludGVsbGlnZW5jZS1pbi1jYXJkaWFjLWltYWdpbmctaG93LWFpLWltcHJvdmVzLXRoZS1hY2N1cmFjeS1hbmQtZWZmaWNpZW5jeS1vZi1kaWFnbm9zaW5nLWhlYXJ0LWNvbmRpdGlvbnMvYXJ0aWNsZTY3OTY4NDY3LmVjZS9hbXAv)"
      ],
      "text/plain": [
       "<IPython.core.display.Markdown object>"
      ]
     },
     "metadata": {},
     "output_type": "display_data"
    },
    {
     "data": {
      "text/markdown": [
       "[77. Heart Health: Researchers Develop AI Tool That Predicts Fatal Heart Rhythm With 80% Accuracy - Google News](https://news.google.com/articles/CBMikAFodHRwczovL3d3dy50aW1lc25vd25ld3MuY29tL2hlYWx0aC9oZWFydC1oZWFsdGgtcmVzZWFyY2hlcnMtZGV2ZWxvcC1haS10b29sLXRoYXQtcHJlZGljdHMtZmF0YWwtaGVhcnQtcmh5dGhtLXdpdGgtODAtYWNjdXJhY3ktYXJ0aWNsZS0xMDg4NTQ5NzTSAZQBaHR0cHM6Ly93d3cudGltZXNub3duZXdzLmNvbS9oZWFsdGgvaGVhcnQtaGVhbHRoLXJlc2VhcmNoZXJzLWRldmVsb3AtYWktdG9vbC10aGF0LXByZWRpY3RzLWZhdGFsLWhlYXJ0LXJoeXRobS13aXRoLTgwLWFjY3VyYWN5LWFydGljbGUtMTA4ODU0OTc0L2FtcA)"
      ],
      "text/plain": [
       "<IPython.core.display.Markdown object>"
      ]
     },
     "metadata": {},
     "output_type": "display_data"
    },
    {
     "data": {
      "text/markdown": [
       "[78. AI tool predicts lethal heart rhythm with 80% accuracy - Google News](https://news.google.com/articles/CBMiZ2h0dHBzOi8vd3d3Lm5ld3MtbWVkaWNhbC5uZXQvbmV3cy8yMDI0MDMyOC9BSS10b29sLXByZWRpY3RzLWxldGhhbC1oZWFydC1yaHl0aG0td2l0aC04MDI1LWFjY3VyYWN5LmFzcHjSAQA)"
      ],
      "text/plain": [
       "<IPython.core.display.Markdown object>"
      ]
     },
     "metadata": {},
     "output_type": "display_data"
    },
    {
     "data": {
      "text/markdown": [
       "[79. Revolutionizing heart disease prediction with quantum-enhanced machine learning - Feedly AI](https://www.nature.com/articles/s41598-024-55991-w)"
      ],
      "text/plain": [
       "<IPython.core.display.Markdown object>"
      ]
     },
     "metadata": {},
     "output_type": "display_data"
    },
    {
     "data": {
      "text/markdown": [
       "[80. Researchers at the University of Maryland Propose a Unified Machine Learning Framework for Continual Learning (CL) - Feedly AI](https://www.marktechpost.com/2024/03/28/researchers-at-the-university-of-maryland-propose-a-unified-machine-learning-framework-for-continual-learning-cl/)"
      ],
      "text/plain": [
       "<IPython.core.display.Markdown object>"
      ]
     },
     "metadata": {},
     "output_type": "display_data"
    },
    {
     "data": {
      "text/markdown": [
       "[81. MineOS: Shedding Light on the AI 'Black Box' for Enterprise - Google News](https://news.google.com/articles/CBMiYWh0dHBzOi8vd3d3Lmdsb2JhbHZpbGxhZ2VzcGFjZS5jb20vdGVjaC9taW5lb3Mtc2hlZGRpbmctbGlnaHQtb24tdGhlLWFpLWJsYWNrLWJveC1mb3ItZW50ZXJwcmlzZS_SAQA)"
      ],
      "text/plain": [
       "<IPython.core.display.Markdown object>"
      ]
     },
     "metadata": {},
     "output_type": "display_data"
    },
    {
     "data": {
      "text/markdown": [
       "[82. MineOS aims to illuminate the AI 'black box' for enterprise - Google News](https://news.google.com/articles/CBMiVWh0dHBzOi8vdmVudHVyZWJlYXQuY29tL2FpL21pbmVvcy1haW1zLXRvLWlsbHVtaW5hdGUtdGhlLWFpLWJsYWNrLWJveC1mb3ItZW50ZXJwcmlzZS_SAQA)"
      ],
      "text/plain": [
       "<IPython.core.display.Markdown object>"
      ]
     },
     "metadata": {},
     "output_type": "display_data"
    },
    {
     "data": {
      "text/markdown": [
       "[83. Mine launches MineOS AI Asset Discovery - ThePaypers - Google News](https://news.google.com/articles/CBMibmh0dHBzOi8vdGhlcGF5cGVycy5jb20vZGlnaXRhbC1pZGVudGl0eS1zZWN1cml0eS1vbmxpbmUtZnJhdWQvbWluZS1sYXVuY2hlcy1taW5lb3MtYWktYXNzZXQtZGlzY292ZXJ5LS0xMjY3NDM20gEA)"
      ],
      "text/plain": [
       "<IPython.core.display.Markdown object>"
      ]
     },
     "metadata": {},
     "output_type": "display_data"
    },
    {
     "data": {
      "text/markdown": [
       "[84. Data Privacy, Governance Provider Mine Releases New Module Automating AI Mapping, Audits | Legaltech News - Google News](https://news.google.com/articles/CBMihAFodHRwczovL3d3dy5sYXcuY29tL2xlZ2FsdGVjaG5ld3MvMjAyNC8wMy8yNy9kYXRhLXByaXZhY3ktZ292ZXJuYW5jZS1wcm92aWRlci1taW5lLXJlbGVhc2VzLW5ldy1tb2R1bGUtYXV0b21hdGluZy1haS1tYXBwaW5nLWF1ZGl0cy_SAQA)"
      ],
      "text/plain": [
       "<IPython.core.display.Markdown object>"
      ]
     },
     "metadata": {},
     "output_type": "display_data"
    },
    {
     "data": {
      "text/markdown": [
       "[85. Uber Settles Racist AI Accusations With Driver - Google News](https://news.google.com/articles/CBMiVmh0dHBzOi8vd3d3LmxhdzM2MC5jb20vYXJ0aWNsZXMvMTgxODA0My91YmVyLXNldHRsZXMtcmFjaXN0LWFpLWFjY3VzYXRpb25zLXdpdGgtZHJpdmVy0gEraHR0cHM6Ly93d3cubGF3MzYwLmNvbS9hbXAvYXJ0aWNsZXMvMTgxODA0Mw)"
      ],
      "text/plain": [
       "<IPython.core.display.Markdown object>"
      ]
     },
     "metadata": {},
     "output_type": "display_data"
    },
    {
     "data": {
      "text/markdown": [
       "[86. Uber Eats settles driver's facial recognition discrimination claim - Google News](https://news.google.com/articles/CBMiZGh0dHBzOi8vd3d3LnBlcnNvbm5lbHRvZGF5LmNvbS9oci91YmVyLWVhdHMtc2V0dGxlcy1kcml2ZXJzLWZhY2lhbC1yZWNvZ25pdGlvbi1kaXNjcmltaW5hdGlvbi1jbGFpbS_SAQA)"
      ],
      "text/plain": [
       "<IPython.core.display.Markdown object>"
      ]
     },
     "metadata": {},
     "output_type": "display_data"
    },
    {
     "data": {
      "text/markdown": [
       "[87. Uber Eats courier’s fight against AI bias shows justice under UK law is hard won - Google News](https://news.google.com/articles/CBMiP2h0dHBzOi8vdGVjaGNydW5jaC5jb20vMjAyNC8wMy8yOC91YmVyLWVhdHMtYWktYmlhcy1zZXR0bGVtZW50L9IBQ2h0dHBzOi8vdGVjaGNydW5jaC5jb20vMjAyNC8wMy8yOC91YmVyLWVhdHMtYWktYmlhcy1zZXR0bGVtZW50L2FtcC8)"
      ],
      "text/plain": [
       "<IPython.core.display.Markdown object>"
      ]
     },
     "metadata": {},
     "output_type": "display_data"
    },
    {
     "data": {
      "text/markdown": [
       "[88. OpenAI courts Hollywood over plans for video generation model Sora - FT Tech](https://www.ft.com/content/b063762e-4e00-4b7e-b0d0-7962c9767a58)"
      ],
      "text/plain": [
       "<IPython.core.display.Markdown object>"
      ]
     },
     "metadata": {},
     "output_type": "display_data"
    },
    {
     "data": {
      "text/markdown": [
       "[89. ‘It’s very easy to steal someone’s voice’: how AI is affecting video game actors - Google News](https://news.google.com/articles/CBMiWGh0dHBzOi8vd3d3LnRoZWd1YXJkaWFuLmNvbS90ZWNobm9sb2d5LzIwMjQvbWFyLzI5L2hvdy1haS1pcy1hZmZlY3RpbmctdmlkZW8tZ2FtZS1hY3RvcnPSAVhodHRwczovL2FtcC50aGVndWFyZGlhbi5jb20vdGVjaG5vbG9neS8yMDI0L21hci8yOS9ob3ctYWktaXMtYWZmZWN0aW5nLXZpZGVvLWdhbWUtYWN0b3Jz)"
      ],
      "text/plain": [
       "<IPython.core.display.Markdown object>"
      ]
     },
     "metadata": {},
     "output_type": "display_data"
    },
    {
     "data": {
      "text/markdown": [
       "[90. Let's think ethically about how to use AI with voice artists (not instead of them) - Google News](https://news.google.com/articles/CBMidWh0dHBzOi8vd3d3LnRoZWRydW0uY29tL29waW5pb24vMjAyNC8wMy8yOC9sZXQtcy10aGluay1ldGhpY2FsbHktYWJvdXQtaG93LXVzZS1haS13aXRoLXZvaWNlLWFydGlzdHMtbm90LWluc3RlYWQtdGhlbdIBAA)"
      ],
      "text/plain": [
       "<IPython.core.display.Markdown object>"
      ]
     },
     "metadata": {},
     "output_type": "display_data"
    },
    {
     "data": {
      "text/markdown": [
       "[91. (Almost) anything goes for AI in podcasting - Google News](https://news.google.com/articles/CBMiT2h0dHBzOi8vd3d3LnRoZXZlcmdlLmNvbS8yMDI0LzMvMjgvMjQxMTQ5MjEvYWktcG9kY2FzdC1hcHBsZS15b3V0dWJlLW1hbmFnZW1lbnTSAQA)"
      ],
      "text/plain": [
       "<IPython.core.display.Markdown object>"
      ]
     },
     "metadata": {},
     "output_type": "display_data"
    },
    {
     "data": {
      "text/markdown": [
       "[92. #497: Real Talk About Artificial Intelligence in Your Office, with Ben Schorr - Google News](https://news.google.com/articles/CBMiiwFodHRwczovL2xlZ2FsdGFsa25ldHdvcmsuY29tL3BvZGNhc3RzL2xhd3llcmlzdC1wb2RjYXN0LzIwMjQvMDMvNDk3LXJlYWwtdGFsay1hYm91dC1hcnRpZmljaWFsLWludGVsbGlnZW5jZS1pbi15b3VyLW9mZmljZS13aXRoLWJlbi1zY2hvcnIv0gEA)"
      ],
      "text/plain": [
       "<IPython.core.display.Markdown object>"
      ]
     },
     "metadata": {},
     "output_type": "display_data"
    },
    {
     "data": {
      "text/markdown": [
       "[93. Apple to Talk AI in June: This WWDC Is a Big Deal video - CNET - Feedly AI](https://www.cnet.com/videos/apple-to-talk-ai-in-june-this-wwdc-is-a-big-deal/#ftag=CAD590a51e)"
      ],
      "text/plain": [
       "<IPython.core.display.Markdown object>"
      ]
     },
     "metadata": {},
     "output_type": "display_data"
    },
    {
     "data": {
      "text/markdown": [
       "[94. An inside look at Windows and Surface leadership changes that could help Microsoft capitalize on AI PCs and transition Surface devices to Arm chips (Tom Warren/The Verge) - Feedly AI](https://www.theverge.com/2024/3/28/24114362/microsoft-windows-surface-reorg-ai-pcs-report)"
      ],
      "text/plain": [
       "<IPython.core.display.Markdown object>"
      ]
     },
     "metadata": {},
     "output_type": "display_data"
    },
    {
     "data": {
      "text/markdown": [
       "[95. Microsoft Copilot AI will soon run locally on PCs - Google News](https://news.google.com/articles/CBMiWWh0dHBzOi8vd3d3LmVuZ2FkZ2V0LmNvbS9taWNyb3NvZnQtY29waWxvdC1haS13aWxsLXNvb24tcnVuLWxvY2FsbHktb24tcGNzLTEzMDY0MjUxNC5odG1s0gEA)"
      ],
      "text/plain": [
       "<IPython.core.display.Markdown object>"
      ]
     },
     "metadata": {},
     "output_type": "display_data"
    },
    {
     "data": {
      "text/markdown": [
       "[96. ChatGPPT isn't better than Microsoft Copilot, says Microsoft - Google News](https://news.google.com/articles/CBMigwFodHRwczovL3d3dy53aW5kb3dzY2VudHJhbC5jb20vc29mdHdhcmUtYXBwcy9taWNyb3NvZnQtc2F5cy1jaGF0Z3B0LWlzbnQtYmV0dGVyLXRoYW4tY29waWxvdC1haS15b3VyZS1qdXN0LW5vdC11c2luZy1pdC1hcy1pbnRlbmRlZNIBAA)"
      ],
      "text/plain": [
       "<IPython.core.display.Markdown object>"
      ]
     },
     "metadata": {},
     "output_type": "display_data"
    },
    {
     "data": {
      "text/markdown": [
       "[97. John Pasmore tries to make AI less biased. Just don't call it BlackGPT - Google News](https://news.google.com/articles/CBMiTmh0dHBzOi8vd3d3LmJ1c2luZXNzaW5zaWRlci5jb20vam9obi1wYXNtb3JlLWxhdGltZXItYWktYmlhc2VkLWJsYWNrZ3B0LTIwMjQtM9IBUmh0dHBzOi8vd3d3LmJ1c2luZXNzaW5zaWRlci5jb20vam9obi1wYXNtb3JlLWxhdGltZXItYWktYmlhc2VkLWJsYWNrZ3B0LTIwMjQtMz9hbXA)"
      ],
      "text/plain": [
       "<IPython.core.display.Markdown object>"
      ]
     },
     "metadata": {},
     "output_type": "display_data"
    },
    {
     "data": {
      "text/markdown": [
       "[98. Elon Musk's updated Grok AI claims to be better at coding and math - Feedly AI](https://www.engadget.com/elon-musks-updated-grok-ai-claims-to-be-better-at-coding-and-math-120056776.html)"
      ],
      "text/plain": [
       "<IPython.core.display.Markdown object>"
      ]
     },
     "metadata": {},
     "output_type": "display_data"
    },
    {
     "data": {
      "text/markdown": [
       "[99. Musk's Grok-1.5 AI chatbot to be available next week - Google News](https://news.google.com/articles/CBMiXmh0dHBzOi8vd3d3LnJldXRlcnMuY29tL3RlY2hub2xvZ3kvbXVza3MtZ3Jvay0xNS1haS1jaGF0Ym90LWJlLWF2YWlsYWJsZS1uZXh0LXdlZWstMjAyNC0wMy0yOS_SAQA)"
      ],
      "text/plain": [
       "<IPython.core.display.Markdown object>"
      ]
     },
     "metadata": {},
     "output_type": "display_data"
    },
    {
     "data": {
      "text/markdown": [
       "[100. Musk's Grok-1.5 AI Chatbot to Be Available Next Week - Feedly AI](https://www.newsmax.com/finance/streettalk/elon-musk-grok-ai/2024/03/29/id/1159087/)"
      ],
      "text/plain": [
       "<IPython.core.display.Markdown object>"
      ]
     },
     "metadata": {},
     "output_type": "display_data"
    },
    {
     "data": {
      "text/markdown": [
       "[101. X’s Grok chatbot will soon get an upgraded model, Grok-1.5 - Google News](https://news.google.com/articles/CBMiW2h0dHBzOi8vdGVjaGNydW5jaC5jb20vMjAyNC8wMy8yOC94cy1ncm9rLWNoYXRib3Qtd2lsbC1zb29uLWdldC1hbi11cGdyYWRlZC1tb2RlbC1ncm9rLTEtNS_SAV9odHRwczovL3RlY2hjcnVuY2guY29tLzIwMjQvMDMvMjgveHMtZ3Jvay1jaGF0Ym90LXdpbGwtc29vbi1nZXQtYW4tdXBncmFkZWQtbW9kZWwtZ3Jvay0xLTUvYW1wLw)"
      ],
      "text/plain": [
       "<IPython.core.display.Markdown object>"
      ]
     },
     "metadata": {},
     "output_type": "display_data"
    },
    {
     "data": {
      "text/markdown": [
       "[102. Elon Musk Makes Grok AI Available to All Paying X Subscribers: What to Know - Google News](https://news.google.com/articles/CBMiZWh0dHBzOi8vd3d3LmNuZXQuY29tL3RlY2gvZWxvbi1tdXNrLW1ha2VzLWdyb2stYWktYXZhaWxhYmxlLXRvLWFsbC1wYXlpbmcteC1zdWJzY3JpYmVycy13aGF0LXRvLWtub3cv0gEA)"
      ],
      "text/plain": [
       "<IPython.core.display.Markdown object>"
      ]
     },
     "metadata": {},
     "output_type": "display_data"
    },
    {
     "data": {
      "text/markdown": [
       "[103. Sources detail Grindr's push to monetize, including plans for an AI chatbot that can engage users in sexual conversations and may be trained on opt-in user data - Techmeme](https://www.platformer.news/grindr-ai-boyfriend-wingman-monetization-paid-taps/)"
      ],
      "text/plain": [
       "<IPython.core.display.Markdown object>"
      ]
     },
     "metadata": {},
     "output_type": "display_data"
    },
    {
     "data": {
      "text/markdown": [
       "[104. User Numbers Skyrocket on Solana, AI Crypto Draws Investor Frenzy in Presale Boom - Feedly AI](https://finbold.com/user-numbers-skyrocket-on-solana-ai-crypto-draws-investor-frenzy-in-presale-boom/)"
      ],
      "text/plain": [
       "<IPython.core.display.Markdown object>"
      ]
     },
     "metadata": {},
     "output_type": "display_data"
    },
    {
     "data": {
      "text/markdown": [
       "[105. MLS NEXT Pro plans historic AI broadcasting feature for upcoming game - Feedly AI](https://awfulannouncing.com/soccer/mls-next-pro-historic-ai-broadcasting-translation.html)"
      ],
      "text/plain": [
       "<IPython.core.display.Markdown object>"
      ]
     },
     "metadata": {},
     "output_type": "display_data"
    },
    {
     "data": {
      "text/markdown": [
       "[106. Robot dog fueled by AI could help eliminate power outages - Google News](https://news.google.com/articles/CBMiWmh0dHBzOi8vd3d3Lndmc2IuY29tLzIwMjQvMDMvMjgvcm9ib3QtZG9nLWZ1ZWxlZC1ieS1haS1jb3VsZC1oZWxwLWVsaW1pbmF0ZS1wb3dlci1vdXRhZ2VzL9IBaWh0dHBzOi8vd3d3Lndmc2IuY29tLzIwMjQvMDMvMjgvcm9ib3QtZG9nLWZ1ZWxlZC1ieS1haS1jb3VsZC1oZWxwLWVsaW1pbmF0ZS1wb3dlci1vdXRhZ2VzLz9vdXRwdXRUeXBlPWFtcA)"
      ],
      "text/plain": [
       "<IPython.core.display.Markdown object>"
      ]
     },
     "metadata": {},
     "output_type": "display_data"
    },
    {
     "data": {
      "text/markdown": [
       "[107. ‘Reggaeton Be Gone’: This homemade machine silences neighbours' music using AI - Feedly AI](https://www.euronews.com/next/2024/03/29/reggaeton-be-gone-this-homemade-machine-silences-neighbours-music-using-ai)"
      ],
      "text/plain": [
       "<IPython.core.display.Markdown object>"
      ]
     },
     "metadata": {},
     "output_type": "display_data"
    },
    {
     "data": {
      "text/markdown": [
       "[108. China turns to AI in propaganda mocking the ‘American Dream’ - Feedly AI](https://www.aljazeera.com/economy/2024/3/29/china-turns-to-ai-in-propaganda-mocking-the-american-dream)"
      ],
      "text/plain": [
       "<IPython.core.display.Markdown object>"
      ]
     },
     "metadata": {},
     "output_type": "display_data"
    },
    {
     "data": {
      "text/markdown": [
       "[109. China turns to AI in propaganda mocking the ‘American Dream’ - Google News](https://news.google.com/articles/CBMiZmh0dHBzOi8vd3d3LmFsamF6ZWVyYS5jb20vZWNvbm9teS8yMDI0LzMvMjkvY2hpbmEtdHVybnMtdG8tYWktaW4tcHJvcGFnYW5kYS1tb2NraW5nLXRoZS1hbWVyaWNhbi1kcmVhbdIBamh0dHBzOi8vd3d3LmFsamF6ZWVyYS5jb20vYW1wL2Vjb25vbXkvMjAyNC8zLzI5L2NoaW5hLXR1cm5zLXRvLWFpLWluLXByb3BhZ2FuZGEtbW9ja2luZy10aGUtYW1lcmljYW4tZHJlYW0)"
      ],
      "text/plain": [
       "<IPython.core.display.Markdown object>"
      ]
     },
     "metadata": {},
     "output_type": "display_data"
    },
    {
     "data": {
      "text/markdown": [
       "[110. Shanghai planning US\\\\$13.8 billion fund of funds in pursuit of ‘several world-class industry clusters’, with eye on AI, biotech and semiconductors - Feedly AI](https://www.scmp.com/business/china-business/article/3257241/shanghai-planning-us138-billion-fund-funds-pursuit-several-world-class-industry-clusters-eye-ai)"
      ],
      "text/plain": [
       "<IPython.core.display.Markdown object>"
      ]
     },
     "metadata": {},
     "output_type": "display_data"
    },
    {
     "data": {
      "text/markdown": [
       "[111. Hong Kong companies hail Malaysia as ‘go-to place’ for AI, e-commerce development - Feedly AI](https://www.scmp.com/news/hong-kong/hong-kong-economy/article/3257153/hong-kong-companies-hail-malaysia-go-place-ai-e-commerce-development)"
      ],
      "text/plain": [
       "<IPython.core.display.Markdown object>"
      ]
     },
     "metadata": {},
     "output_type": "display_data"
    },
    {
     "data": {
      "text/markdown": [
       "[112. AI developers thrive in Indonesia with government support - Feedly AI](https://flipboard.com/video/stringershub/daede6037f)"
      ],
      "text/plain": [
       "<IPython.core.display.Markdown object>"
      ]
     },
     "metadata": {},
     "output_type": "display_data"
    },
    {
     "data": {
      "text/markdown": [
       "[113. Can AI code generation really replace human developers? - Feedly AI](https://www.itpro.com/technology/artificial-intelligence/can-ai-code-generation-really-replace-human-developers)"
      ],
      "text/plain": [
       "<IPython.core.display.Markdown object>"
      ]
     },
     "metadata": {},
     "output_type": "display_data"
    },
    {
     "data": {
      "text/markdown": [
       "[114. Generative AI Develops Drugs as Potential Treatment for Antibiotic-Resistant Bacteria - Feedly AI](https://www.techtimes.com/articles/303056/20240329/generative-ai-develops-drugs-potential-treatment-antibiotic-resistant-bacteria.htm)"
      ],
      "text/plain": [
       "<IPython.core.display.Markdown object>"
      ]
     },
     "metadata": {},
     "output_type": "display_data"
    },
    {
     "data": {
      "text/markdown": [
       "[115. Artificial Intelligencein Practice: Building a Roadmap for AI Use in Schools - Feedly AI](https://www.edweek.org/events/webinar/artificial-intelligence-in-practice-building-a-roadmap-for-ai-use-in-schools)"
      ],
      "text/plain": [
       "<IPython.core.display.Markdown object>"
      ]
     },
     "metadata": {},
     "output_type": "display_data"
    },
    {
     "data": {
      "text/markdown": [
       "[116. How doesartificial intelligence(AI) work in simple terms? - Feedly AI](https://www.geeky-gadgets.com/how-does-ai-work/)"
      ],
      "text/plain": [
       "<IPython.core.display.Markdown object>"
      ]
     },
     "metadata": {},
     "output_type": "display_data"
    },
    {
     "data": {
      "text/markdown": [
       "[117. Inside Out Emotions According To AI - Google News](https://news.google.com/articles/CBMiRGh0dHBzOi8vd3d3LmJ1enpmZWVkLmNvbS9teWNoYWx0aG9tcHNvbi9pbnNpZGUtb3V0LWVtb3Rpb25zLWFpLWltYWdl0gEA)"
      ],
      "text/plain": [
       "<IPython.core.display.Markdown object>"
      ]
     },
     "metadata": {},
     "output_type": "display_data"
    },
    {
     "data": {
      "text/markdown": [
       "[118. Researchers use machine learning models to detect moods of White English speakers from Facebook posts - Google News](https://news.google.com/articles/CBMikQFodHRwczovL3d3dy5ub3RlYm9va2NoZWNrLm5ldC9SZXNlYXJjaGVycy11c2UtbWFjaGluZS1sZWFybmluZy1tb2RlbHMtdG8tZGV0ZWN0LW1vb2RzLW9mLVdoaXRlLUVuZ2xpc2gtc3BlYWtlcnMtZnJvbS1GYWNlYm9vay1wb3N0cy44MTkxODUuMC5odG1s0gEA)"
      ],
      "text/plain": [
       "<IPython.core.display.Markdown object>"
      ]
     },
     "metadata": {},
     "output_type": "display_data"
    },
    {
     "data": {
      "text/markdown": [
       "[119. Analysis of social media language using AI models predicts depression severity for white Americans, but not Black Americans - Google News](https://news.google.com/articles/CBMinQFodHRwczovL3d3dy5uaWguZ292L25ld3MtZXZlbnRzL25ld3MtcmVsZWFzZXMvYW5hbHlzaXMtc29jaWFsLW1lZGlhLWxhbmd1YWdlLXVzaW5nLWFpLW1vZGVscy1wcmVkaWN0cy1kZXByZXNzaW9uLXNldmVyaXR5LXdoaXRlLWFtZXJpY2Fucy1ub3QtYmxhY2stYW1lcmljYW5z0gEA)"
      ],
      "text/plain": [
       "<IPython.core.display.Markdown object>"
      ]
     },
     "metadata": {},
     "output_type": "display_data"
    },
    {
     "data": {
      "text/markdown": [
       "[120. AI fails to detect depression signs in social media posts by Black Americans, study finds - Google News](https://news.google.com/articles/CBMilAFodHRwczovL3d3dy5yZXV0ZXJzLmNvbS9idXNpbmVzcy9oZWFsdGhjYXJlLXBoYXJtYWNldXRpY2Fscy9haS1mYWlscy1kZXRlY3QtZGVwcmVzc2lvbi1zaWducy1zb2NpYWwtbWVkaWEtcG9zdHMtYnktYmxhY2stYW1lcmljYW5zLXN0dWR5LTIwMjQtMDMtMjgv0gEA)"
      ],
      "text/plain": [
       "<IPython.core.display.Markdown object>"
      ]
     },
     "metadata": {},
     "output_type": "display_data"
    },
    {
     "data": {
      "text/markdown": [
       "[121. AI can detect depression in white people based on their social media posts – but not in Black people, Penn study finds - Google News](https://news.google.com/articles/CBMibmh0dHBzOi8vd3d3LnBoaWxseXZvaWNlLmNvbS9hcnRpZmljaWFsLWludGVsbGlnZW5jZS1kZXByZXNzaW9uLW1lbnRhbC1oZWFsdGgtcmFjaWFsLWRpc3Bhcml0aWVzLXBlbm4tc3R1ZHktYWkv0gFyaHR0cHM6Ly93d3cucGhpbGx5dm9pY2UuY29tL2FydGlmaWNpYWwtaW50ZWxsaWdlbmNlLWRlcHJlc3Npb24tbWVudGFsLWhlYWx0aC1yYWNpYWwtZGlzcGFyaXRpZXMtcGVubi1zdHVkeS1haS9hbXAv)"
      ],
      "text/plain": [
       "<IPython.core.display.Markdown object>"
      ]
     },
     "metadata": {},
     "output_type": "display_data"
    },
    {
     "data": {
      "text/markdown": [
       "[122. No, You Are Not Afraid of Artificial Intelligence. You’re Afraid of Other People - Google News](https://news.google.com/articles/CBMiZGh0dHBzOi8vaGFja2Vybm9vbi5jb20vbm8teW91LWFyZS1ub3QtYWZyYWlkLW9mLWFydGlmaWNpYWwtaW50ZWxsaWdlbmNlLXlvdXJlLWFmcmFpZC1vZi1vdGhlci1wZW9wbGXSAQA)"
      ],
      "text/plain": [
       "<IPython.core.display.Markdown object>"
      ]
     },
     "metadata": {},
     "output_type": "display_data"
    },
    {
     "data": {
      "text/markdown": [
       "[123. Sheryl Crow talks Stevie Nicks, Olivia Rodrigo and why AI in music 'terrified' her - Google News](https://news.google.com/articles/CBMiamh0dHBzOi8vd3d3LnVzYXRvZGF5LmNvbS9zdG9yeS9lbnRlcnRhaW5tZW50L211c2ljLzIwMjQvMDMvMjgvc2hlcnlsLWNyb3ctZXZvbHV0aW9uLWludGVydmlldy83MzEyMDI2NjAwNy_SAQA)"
      ],
      "text/plain": [
       "<IPython.core.display.Markdown object>"
      ]
     },
     "metadata": {},
     "output_type": "display_data"
    },
    {
     "data": {
      "text/markdown": [
       "[124. Family Requests 'Mamma Mia\" Star Be Replaced With AI in BBC Documentary - Google News](https://news.google.com/articles/CBMiS2h0dHBzOi8vZ2l6bW9kby5jb20vbWFtbWEtbWlhLXN0YXItcmVwbGFjZWQtYnktYWktaW4tYmJjLXByb2plY3QtMTg1MTM3MjAyMdIBAA)"
      ],
      "text/plain": [
       "<IPython.core.display.Markdown object>"
      ]
     },
     "metadata": {},
     "output_type": "display_data"
    },
    {
     "data": {
      "text/markdown": [
       "[125. NO BRAINER I can run world better than humans, Rishi Sunak is a ROBOT & Putin is a war criminal, first-ever AI woman tells The Sun - Feedly AI](https://www.the-sun.com/tech/10919867/putin-war-criminal-sunak-robot-humans-ai-robot/)"
      ],
      "text/plain": [
       "<IPython.core.display.Markdown object>"
      ]
     },
     "metadata": {},
     "output_type": "display_data"
    },
    {
     "data": {
      "text/markdown": [
       "[126. AMD lists mystery MI388X AI GPU in official docs, says it's barred from China sales due to US sanctions - Google News](https://news.google.com/articles/CBMitQFodHRwczovL3d3dy50b21zaGFyZHdhcmUuY29tL3RlY2gtaW5kdXN0cnkvYXJ0aWZpY2lhbC1pbnRlbGxpZ2VuY2UvYW1kLWxpc3RzLW15c3RlcnktbWkzODh4LWFpLWdwdS1pbi1vZmZpY2lhbC1kb2NzLWFzLWJhcnJlZC1mcm9tLWNoaW5hLXNhbGVzLWluc3RpbmN0LWNoaXAtaGFzbnQtYmVlbi1hbm5vdW5jZWQteWV00gEA)"
      ],
      "text/plain": [
       "<IPython.core.display.Markdown object>"
      ]
     },
     "metadata": {},
     "output_type": "display_data"
    },
    {
     "data": {
      "text/markdown": [
       "[127. Thousands of servers hacked due to insecurely deployed Ray AI framework - Google News](https://news.google.com/articles/CBMidmh0dHBzOi8vd3d3LmNzb29ubGluZS5jb20vYXJ0aWNsZS8yMDc1NTQwL3Rob3VzYW5kcy1vZi1zZXJ2ZXJzLWhhY2tlZC1kdWUtdG8taW5zZWN1cmVseS1kZXBsb3llZC1yYXktYWktZnJhbWV3b3JrLmh0bWzSAXtodHRwczovL3d3dy5jc29vbmxpbmUuY29tL2FydGljbGUvMjA3NTU0MC90aG91c2FuZHMtb2Ytc2VydmVycy1oYWNrZWQtZHVlLXRvLWluc2VjdXJlbHktZGVwbG95ZWQtcmF5LWFpLWZyYW1ld29yay5odG1sL2FtcC8)"
      ],
      "text/plain": [
       "<IPython.core.display.Markdown object>"
      ]
     },
     "metadata": {},
     "output_type": "display_data"
    },
    {
     "data": {
      "text/markdown": [
       "[128. Shane Fu dives into his fantastical fungi and foliage AI creations - Google News](https://news.google.com/articles/CBMiVWh0dHBzOi8vd3d3Lml0c25pY2V0aGF0LmNvbS9hcnRpY2xlcy9uaWNlci10dWVzZGF5cy1uZXcteW9yay1mZWJydWFyeS1zaGFuZS1mdS0yODAzMjTSAQA)"
      ],
      "text/plain": [
       "<IPython.core.display.Markdown object>"
      ]
     },
     "metadata": {},
     "output_type": "display_data"
    },
    {
     "data": {
      "text/markdown": [
       "[129. A.I.’s Messy Moment + Listeners Respond to Jonathan Haidt + Shrimp Jesus - NYT Tech](https://www.nytimes.com/2024/03/29/podcasts/ais-messy-moment-listeners-respond-to-jonathan-haidt-shrimp-jesus.html)"
      ],
      "text/plain": [
       "<IPython.core.display.Markdown object>"
      ]
     },
     "metadata": {},
     "output_type": "display_data"
    },
    {
     "data": {
      "text/markdown": [
       "[130. AI financial advisers are here — and could disrupt the industry - Feedly AI](https://www.axios.com/2024/03/29/ai-finance-advice-tools)"
      ],
      "text/plain": [
       "<IPython.core.display.Markdown object>"
      ]
     },
     "metadata": {},
     "output_type": "display_data"
    },
    {
     "data": {
      "text/markdown": [
       "[131. Nvidia, Microsoft, and Alphabet Are Top Positions in This Magnificent ETF. Here's Why It's a Buy Now. - Feedly AI](https://www.fool.com/investing/2024/03/29/nvidia-microsoft-alphabet-magnificent-etf-buy-now/)"
      ],
      "text/plain": [
       "<IPython.core.display.Markdown object>"
      ]
     },
     "metadata": {},
     "output_type": "display_data"
    },
    {
     "data": {
      "text/markdown": [
       "[132. 'Ethernet is the right train to ride' for AI says Cisco SVP - Google News](https://news.google.com/articles/CBMiTGh0dHBzOi8vd3d3LmZpZXJjZXRlbGVjb20uY29tL2FpL2V0aGVybmV0LXJpZ2h0LXRyYWluLXJpZGUtYWktc2F5cy1jaXNjby1zdnDSAQA)"
      ],
      "text/plain": [
       "<IPython.core.display.Markdown object>"
      ]
     },
     "metadata": {},
     "output_type": "display_data"
    },
    {
     "data": {
      "text/markdown": [
       "[133. Ever wonder if a contact center employee is burned out? AI-powered feature in Cisco Webex can help - Google News](https://news.google.com/articles/CBMifWh0dHBzOi8vdmVudHVyZWJlYXQuY29tL2FpL2V2ZXItd29uZGVyLWlmLWEtY29udGFjdC1jZW50ZXItZW1wbG95ZWUtaXMtYnVybmVkLW91dC1haS1wb3dlcmVkLWZlYXR1cmUtaW4tY2lzY28td2ViZXgtY2FuLWhlbHAv0gEA)"
      ],
      "text/plain": [
       "<IPython.core.display.Markdown object>"
      ]
     },
     "metadata": {},
     "output_type": "display_data"
    },
    {
     "data": {
      "text/markdown": [
       "[134. OpenVoice: Versatile Instant Voice Cloning - Hacker News](https://research.myshell.ai/open-voice)"
      ],
      "text/plain": [
       "<IPython.core.display.Markdown object>"
      ]
     },
     "metadata": {},
     "output_type": "display_data"
    },
    {
     "data": {
      "text/markdown": [
       "[135. Playing Simon Says with Gemma-2b and MediaPipe - HackerNoon](https://hackernoon.com/playing-simon-says-with-gemma-2b-and-mediapipe)"
      ],
      "text/plain": [
       "<IPython.core.display.Markdown object>"
      ]
     },
     "metadata": {},
     "output_type": "display_data"
    },
    {
     "data": {
      "text/markdown": [
       "[136. Arraymancer – Deep Learning Nim Library - Feedly AI](https://github.com/mratsim/Arraymancer)"
      ],
      "text/plain": [
       "<IPython.core.display.Markdown object>"
      ]
     },
     "metadata": {},
     "output_type": "display_data"
    },
    {
     "data": {
      "text/markdown": [
       "[137. Function Calling LLMs: Combining SLIMs and DRAGON for Better RAG Performance - HackerNoon](https://hackernoon.com/function-calling-llms-combining-slims-and-dragon-for-better-rag-performance)"
      ],
      "text/plain": [
       "<IPython.core.display.Markdown object>"
      ]
     },
     "metadata": {},
     "output_type": "display_data"
    },
    {
     "data": {
      "text/markdown": [
       "[138. Chat GPT Writes Records Ten Times Faster Than Doctors - Feedly AI](https://www.newsmax.com/health/health-news/artificial-intelligence-chat-gpt-doctors/2024/03/29/id/1159091/)"
      ],
      "text/plain": [
       "<IPython.core.display.Markdown object>"
      ]
     },
     "metadata": {},
     "output_type": "display_data"
    },
    {
     "data": {
      "text/markdown": [
       "[139. The Math Behind Neural Networks - Feedly AI](https://towardsdatascience.com/the-math-behind-neural-networks-a34a51b93873)"
      ],
      "text/plain": [
       "<IPython.core.display.Markdown object>"
      ]
     },
     "metadata": {},
     "output_type": "display_data"
    },
    {
     "data": {
      "text/markdown": [
       "[140. The complete Adobe Photoshop AI tutorial guide - Feedly AI](https://www.creativebloq.com/features/how-to-use-photoshop-ai-tools)"
      ],
      "text/plain": [
       "<IPython.core.display.Markdown object>"
      ]
     },
     "metadata": {},
     "output_type": "display_data"
    }
   ],
   "source": [
    "html_str = \"\"\n",
    "for i, j in enumerate(sorted_indices):\n",
    "    row = AIdf.iloc[j]\n",
    "    html_str += f'{i}.<a href=\"{row.url}\">{row.title} - {row.src}</a><br />\\n'\n",
    "    display_title = row.title.replace(\"$\", \"\\\\\\$\")  # so it doesn't interpret as latex escape\n",
    "    display(Markdown(f\"[{i}. {display_title} - {row.src}]({row.url})\"))\n",
    "    "
   ]
  },
  {
   "cell_type": "code",
   "execution_count": 84,
   "id": "258a91f5",
   "metadata": {},
   "outputs": [
    {
     "name": "stdout",
     "output_type": "stream",
     "text": [
      "0.<a href=\"https://www.businessinsider.com/sam-altman-openai-convince-sora-wont-destroy-hollywood-2024-3\">Sam Altman is trying to convince Hollywood that Sora won't destroy the movie business - Business Insider</a><br />\n",
      "1.<a href=\"https://news.google.com/articles/CBMie2h0dHBzOi8vd3d3LmZvcmJlcy5jb20vc2l0ZXMvY2hhcmxpZWZpbmsvMjAyNC8wMy8yOC9hbWF6b24tYWRkcy0yNzUtYmlsbGlvbi10by1hbnRocm9waWMtaW52ZXN0bWVudC1zb3JhLWdvZXMtdG8taG9sbHl3b29kL9IBAA\">Amazon Adds $2.75 Billion To Anthropic Investment, Sora Goes To Hollywood - Google News</a><br />\n",
      "2.<a href=\"https://news.google.com/articles/CBMib2h0dHBzOi8vZm9ydHVuZS5jb20vMjAyNC8wMy8yOC9hbWF6b24tYXdzLWFudGhyb3BpYy1haS1kZWFsLXJldmVhbHMtdnVsbmVyYWJpbGl5LWNsb3VkLWVtcGlyZS1taWNyb3NvZnQtZ29vZ2xlL9IBAA\">Why Amazon's multi-billion dollar AI alliance with Anthropic isn't the game-changer it needs to remain king of the cloud - Google News</a><br />\n",
      "3.<a href=\"https://www.barrons.com/articles/amazon-revenue-growth-ai-d70d858d\">Amazon’s Next Phase of Growth Will Be Driven by AI. Analyst Sees Bonanza for AWS. - Feedly AI</a><br />\n",
      "4.<a href=\"https://news.google.com/articles/CBMiZmh0dHBzOi8vbnlwb3N0LmNvbS8yMDI0LzAzLzI4L2J1c2luZXNzL2FtYXpvbi1wb3Vycy0xNTBiLWludG8tZGF0YS1jZW50ZXJzLXRvLWhhbmRsZS1leHBlY3RlZC1haS1ib29tL9IBAA\">Amazon pours $150B into data centers to handle expected AI boom - Google News</a><br />\n",
      "5.<a href=\"https://news.google.com/articles/CBMiSmh0dHBzOi8vZmluYW5jZS55YWhvby5jb20vbmV3cy9hbWF6b24tYmV0cy0xNTAtYmlsbGlvbi1kYXRhLTExMzAxOTk4NC5odG1s0gEA\">Amazon Bets $150 Billion on Data Centers Required for AI Boom - Google News</a><br />\n",
      "6.<a href=\"https://news.google.com/articles/CBMiVmh0dHBzOi8vd3d3LndlYnByb25ld3MuY29tL2FtYXpvbi10by1pbnZlc3QtMTUwLWJpbGxpb24taW4tYWktc3VwcG9ydGluZy1kYXRhLWNlbnRlcnMv0gEA\">Amazon to Invest $150 Billion In AI-Supporting Data Centers - Google News</a><br />\n",
      "7.<a href=\"https://nypost.com/2024/03/28/business/amazon-pours-150b-into-data-centers-to-handle-expected-ai-boom/\">Amazon reportedly to spend $150B to build data centers needed for AI boom, ‘get closer to customers’ - Feedly AI</a><br />\n",
      "8.<a href=\"https://www.benzinga.com/analyst-ratings/analyst-color/24/03/38001796/nvidia-amazon-and-microsofts-recent-activity-indicate-impending-ai-bubble-when-the-\">Nvidia, Amazon And Microsoft's Recent Activity Indicate Impending AI Bubble: 'When The Music Stops There Will Not Be Many Chairs Available' - Feedly AI</a><br />\n",
      "9.<a href=\"https://news.google.com/articles/CBMid2h0dHBzOi8vd3d3LmNuYmMuY29tLzIwMjQvMDMvMjkvdGhlLWZyZW56eS1jb250aW51ZXMtcmVzZWFyY2hlci1uYW1lcy0zLW5ldy1zaWducy1vZi1hbi1haS1idWJibGUtYW1pZC1udmlkaWEtaHlwZS5odG1s0gEA\">'The frenzy continues': Researcher names 3 new signs of an AI bubble amid Nvidia hype - Google News</a><br />\n",
      "10.<a href=\"https://news.google.com/articles/CBMiXGh0dHBzOi8vd3d3LmludmVzdG9wZWRpYS5jb20vbnZpZGlhLXN0b2NrLWhhZC1hLWJsb2NrYnVzdGVyLXExLWFtaWQtYWktZHJpdmVuLWZyZW56eS04NjIyMDEx0gEA\">Nvidia Stock Had a Blockbuster Q1 Amid AI-Driven Frenzy—Watch This Key Chart Pattern - Google News</a><br />\n",
      "11.<a href=\"https://news.google.com/articles/CBMiWWh0dHBzOi8vd3d3LmZvb2wuY29tL2ludmVzdGluZy8yMDI0LzAzLzI4L252aWRpYXMtZmF2b3JpdGUtYXJ0aWZpY2lhbC1pbnRlbGxpZ2VuY2Utc3RvY2sv0gEA\">Meet the Artificial Intelligence (AI) Stock That Attracted Nvidia's Biggest Investment - Google News</a><br />\n",
      "12.<a href=\"https://news.google.com/articles/CBMiWWh0dHBzOi8vZmluYW5jZS55YWhvby5jb20vbmV3cy9iaWxsaW9uYWlyZS1kYXZpZC10ZXBwZXItbG9hZGluZy1hcnRpZmljaWFsLTA5NDcwMDI3My5odG1s0gEA\">Billionaire David Tepper Is Loading Up on These Artificial Intelligence (AI) Stocks -- and Nvidia Isn't One of Them - Google News</a><br />\n",
      "13.<a href=\"https://www.fool.com/investing/2024/03/29/1-artificial-intelligence-ai-stock-to-buy-hand-ove/\">1Artificial Intelligence(AI) Stock to Buy Hand Over Fist Before It Jumps 45% - Feedly AI</a><br />\n",
      "14.<a href=\"https://www.nzherald.co.nz/business/artificial-intelligence-boom-drives-sharemarkets-to-best-first-quarter-in-five-years/FGK2JIFWWBFGNCPMSY7P5OZDDA/\">Artificial intelligenceboom drives sharemarkets to best first quarter in five years - Feedly AI</a><br />\n",
      "15.<a href=\"https://news.google.com/articles/CBMiP2h0dHBzOi8vd3d3LmZ0LmNvbS9jb250ZW50LzFmNDcxYzg4LWQ0OWYtNGE1Mi04NjE5LWNjNWMwYzUwNjAwONIBAA\">AI boom drives global stock markets to best first quarter in 5 years - Google News</a><br />\n",
      "16.<a href=\"https://news.google.com/articles/CBMibGh0dHBzOi8vaW52ZXN0b3JwbGFjZS5jb20vaHlwZXJncm93dGhpbnZlc3RpbmcvMjAyNC8wMy9haS1ib29tLWZsb3VyaXNoZXMtdGhhbmtzLXRvLXRoZS1mZWQtYW5kLXJlY29yZC13ZWVrL9IBAA\">AI Boom Flourishes Thanks to The Fed And Record Week - Google News</a><br />\n",
      "17.<a href=\"https://news.google.com/articles/CBMibmh0dHBzOi8vYXNpYS5uaWtrZWkuY29tL0VkaXRvci1zLVBpY2tzL0ludGVydmlldy9KLlAuLU1vcmdhbi1VLlMuLWVxdWl0eS1oZWFkLWV5ZXMtQUktYW5kLWhlYWx0aC1nYW1lLWNoYW5nZXJz0gEA\">J.P. Morgan U.S. equity head eyes AI and health 'game changers' - Google News</a><br />\n",
      "18.<a href=\"https://www.barrons.com/articles/ai-startups-investing-mary-meeker-f5c6bcb2\">Mary Meeker Turns Her Attention to AI. Here’s How She’s Investing Today. - Feedly AI</a><br />\n",
      "19.<a href=\"https://news.google.com/articles/CBMiXmh0dHBzOi8vd3d3LnRoZWluZm9ybWF0aW9uLmNvbS9hcnRpY2xlcy9zY2FsZS1haS1uZWFycy0xMy1iaWxsaW9uLXZhbHVhdGlvbi1pbi1hY2NlbC1sZWQtcm91bmTSAQA\">Scale AI Nears $13 Billion Valuation in Accel-Led Round - Google News</a><br />\n",
      "20.<a href=\"https://www.theinformation.com/articles/scale-ai-nears-13-billion-valuation-in-accel-led-round\">Sources: Accel is in talks to lead a round in Scale AI at a $13B valuation, up from $7.3B in 2021; Scale AI generated $675M+ in revenue in 2023, up ~150% YoY (The Information) - Feedly AI</a><br />\n",
      "21.<a href=\"https://www.cfodive.com/news/startup-looking-to-disrupt-erp-market-with-ai-raises-92m/711667/\">Startup looking to disrupt ERP market with AI raises $9.2M - Feedly AI</a><br />\n",
      "22.<a href=\"https://t.co/eHtc1eEAa2\">New York-based The Brandtech Group, which provides generative AI-based tools for advertising and marketing campaigns, raised a $115M Series C at a $4B valuation - Techmeme</a><br />\n",
      "23.<a href=\"https://www.benzinga.com/news/24/03/37983904/salesforce-spends-20m-on-einstein-image-rights-securing-ai-brand-dominance-and-guinness-record\">Salesforce Spends $20M on Einstein Image Rights, Securing AI Brand Dominance and Guinness Record - Feedly AI</a><br />\n",
      "24.<a href=\"https://news.google.com/articles/CBMihgFodHRwczovL3d3dy5pbmMuY29tL2Jlbi1zaGVycnkvYWRvYmUtanVzdC1kZW1vbnN0cmF0ZWQtaG93LWFpLWNhbi1jcmVhdGUtc3RlbGxhci1tYXJrZXRpbmctbWF0ZXJpYWxzLWZvci1jb2NhLWNvbGEtb3ItYW55LWNvbXBhbnkuaHRtbNIBAA\">Adobe Just Demonstrated How AI Can Create Stellar Marketing Materials for Coca-Cola--or Any Company - Google News</a><br />\n",
      "25.<a href=\"https://www.geeky-gadgets.com/make-powerpoint-using-ai/\">How to make impressive PowerPoint presentations using AI - Feedly AI</a><br />\n",
      "26.<a href=\"https://news.google.com/articles/CBMiQmh0dHBzOi8vc2xvYW5yZXZpZXcubWl0LmVkdS9hcnRpY2xlL2hvdy1haS1jaGFuZ2VzLXlvdXItd29ya2ZvcmNlL9IBAA\">How AI Changes Your Workforce - Google News</a><br />\n",
      "27.<a href=\"https://news.google.com/articles/CBMie2h0dHBzOi8vbGVnYWx0YWxrbmV0d29yay5jb20vcG9kY2FzdHMvbmV3LXNvbG8vMjAyNC8wMy9wcm9kdWN0aXZpdHktYm9vc3QtcmVhbC11c2VzLW9mLWFpLWluLXRoZS1zb2Z0d2FyZS15b3UtYWxyZWFkeS1oYXZlL9IBAA\">Productivity Boost: Real Uses of AI in the Software You Already Have - Google News</a><br />\n",
      "28.<a href=\"https://news.google.com/articles/CBMiR2h0dHBzOi8vd3d3LmtkbnVnZ2V0cy5jb20vdGhlLTctYmVzdC1haS10b29scy1mb3ItZGF0YS1zY2llbmNlLXdvcmtmbG930gEA\">The 7 Best AI Tools for Data Science Workflow - Google News</a><br />\n",
      "29.<a href=\"https://news.google.com/articles/CBMiRWh0dHBzOi8vd3d3LmJvc3Rvbm1hZ2F6aW5lLmNvbS9uZXdzLzIwMjQvMDMvMjgvaG93LXRvLXVzZS1haS1hdC1ob21lL9IBAA\">15 Artificial Intelligence Tools to Experiment with at Home - Google News</a><br />\n",
      "30.<a href=\"https://news.google.com/articles/CBMiZGh0dHBzOi8vaW5zaG9ydHMuY29tL2VuL25ld3MvNS1mcmVlLWFpLXdlYnNpdGVzLXRoYXQtd2lsbC1zYXZlLXlvdS1odW5kcmVkcy1vZi1kb2xsYXJzLTE3MTE1NTMzNjc1ODLSAWhodHRwczovL2luc2hvcnRzLmNvbS9lbi9hbXBfbmV3cy81LWZyZWUtYWktd2Vic2l0ZXMtdGhhdC13aWxsLXNhdmUteW91LWh1bmRyZWRzLW9mLWRvbGxhcnMtMTcxMTU1MzM2NzU4Mg\">5 FREE AI Websites That Will Save You Hundreds of Dollars | Tap to know more | Inshorts - Google News</a><br />\n",
      "31.<a href=\"https://news.google.com/articles/CBMiX2h0dHBzOi8vYmxvZy5nb29nbGUvb3V0cmVhY2gtaW5pdGlhdGl2ZXMvZ29vZ2xlLW9yZy9nb29nbGUtZm9yLW5vbnByb2ZpdHMtZ2VuZXJhdGl2ZS1haS1yZXBvcnQv0gEA\">Google.org shares new report on AI use among nonprofits - Google News</a><br />\n",
      "32.<a href=\"https://flipboard.com/video/veuer/cef59a572b\">The White House Just Released New AI Guidelines - Feedly AI</a><br />\n",
      "33.<a href=\"https://news.google.com/articles/CBMiPWh0dHBzOi8vd3d3Lm5wci5vcmcvMjAyNC8wMy8yOS8xMjQxMjgxODkyL2JpZGVuLWdvdmVybm1lbnQtYWnSAQA\">The White House issued new rules on how government can use AI. Here's what they do - Google News</a><br />\n",
      "34.<a href=\"https://news.google.com/articles/CBMiVWh0dHBzOi8vd3d3Lm55dGltZXMuY29tLzIwMjQvMDMvMjYvdXMvcG9saXRpY3MvZWxlY3Rpb24teWVhci1kZWVwLWZha2VzLWFpLXJ1bGVzLmh0bWzSAQA\">Fretting about election-year deep fakes, states roll out new rules for A.I. content. - Google News</a><br />\n",
      "35.<a href=\"https://indianacapitalchronicle.com/2024/03/29/states-rush-to-combat-ai-threat-to-elections/\">States rush to combat AI threat to elections - Feedly AI</a><br />\n",
      "36.<a href=\"https://www.theregister.com/2024/03/29/hillary_clinton_election_ai/\">Hillary Clinton: 2024 will be 'ground zero' for AI election manipulation2016 meddling was 'primitive' compared to what's aheadAI + ML13 hrs|18 - The Register</a><br />\n",
      "37.<a href=\"https://news.google.com/articles/CBMiLWh0dHBzOi8vd3d3LmJiYy5jb20vbmV3cy91ay1wb2xpdGljcy02ODYyNzkxNtIBMWh0dHBzOi8vd3d3LmJiYy5jb20vbmV3cy91ay1wb2xpdGljcy02ODYyNzkxNi5hbXA\">Could artificial intelligence benefit democracy? - Google News</a><br />\n",
      "38.<a href=\"https://www.iowapublicradio.org/podcast/talk-of-iowa/2024-03-29/a-bright-or-dystopian-future-with-ai\">A bright or dystopian future with AI? - Feedly AI</a><br />\n",
      "39.<a href=\"https://news.google.com/articles/CBMicGh0dHBzOi8vd3d3LmNvbXB1dGVyd29ybGQuY29tL2FydGljbGUvMzcxNDk0MC9haS1pcy1vbi1hLWZhc3QtdHJhY2stYnV0LWh5cGUtYW5kLWltbWF0dXJpdHktY291bGQtZGVyYWlsLWl0Lmh0bWzSAXRodHRwczovL3d3dy5jb21wdXRlcndvcmxkLmNvbS9hcnRpY2xlLzM3MTQ5NDAvYWktaXMtb24tYS1mYXN0LXRyYWNrLWJ1dC1oeXBlLWFuZC1pbW1hdHVyaXR5LWNvdWxkLWRlcmFpbC1pdC5hbXAuaHRtbA\">AI is on a fast track, but hype and immaturity could derail it - Google News</a><br />\n",
      "40.<a href=\"https://www.ft.com/content/d7bbb769-20f1-4242-bd15-201741c90720\">Chaotic departure of StabilityAI chief raises doubts over start-up’s future - FT Tech</a><br />\n",
      "41.<a href=\"https://www.investors.com/news/technology/palantir-stock-downgraded-to-sell-amid-unprecedented-generative-ai-hype-cycle/\">Palantir Stock Downgraded To Sell Amid 'Unprecedented Generative AI Hype Cycle' - Feedly AI</a><br />\n",
      "42.<a href=\"https://news.google.com/articles/CBMiWWh0dHBzOi8vd3d3LmZvb2wuY29tL2ludmVzdGluZy8yMDI0LzAzLzI5L3VwLWlwby1yZWRkaXQtbmV4dC1ob3QtYXJ0aWZpY2lhbC1pbnRlbGxpZ2VuY2Uv0gEA\">Up 35% After Its IPO, Is Reddit the Next Red-Hot Artificial Intelligence Stock? - Google News</a><br />\n",
      "43.<a href=\"https://news.google.com/articles/CBMiXWh0dHBzOi8vd3d3LmZvb2wuY29tL2ludmVzdGluZy8yMDI0LzAzLzI4LzItbWFnbmlmaWNlbnQtc2V2ZW4tc3RvY2tzLWFydGlmaWNpYWwtaW50ZWxsaWdlbmNlL9IBAA\">2 \"Magnificent Seven\" Stocks Could Join Forces to Create the Ultimate Artificial Intelligence (AI) Opportunity - Google News</a><br />\n",
      "44.<a href=\"https://www.cityam.com/the-artificial-superintelligence-alliance-may-become-cryptos-next-merger/\">The Artificial Superintelligence Alliance may become crypto’s next merger - Feedly AI</a><br />\n",
      "45.<a href=\"https://news.google.com/articles/CBMiemh0dHBzOi8vYnJlYWtpbmdkZWZlbnNlLmNvbS8yMDI0LzAzL3VzLWpvaW5zLWF1c3RyaWEtYmFocmFpbi1jYW5hZGEtcG9ydHVnYWwtdG8tY28tbGVhZC1nbG9iYWwtcHVzaC1mb3Itc2FmZXItbWlsaXRhcnktYWkv0gGAAWh0dHBzOi8vYnJlYWtpbmdkZWZlbnNlLmNvbS8yMDI0LzAzL3VzLWpvaW5zLWF1c3RyaWEtYmFocmFpbi1jYW5hZGEtcG9ydHVnYWwtdG8tY28tbGVhZC1nbG9iYWwtcHVzaC1mb3Itc2FmZXItbWlsaXRhcnktYWkvP2FtcD0x\">US joins Austria, Bahrain, Canada, & Portugal to co-lead global push for safer military AI - Google News</a><br />\n",
      "46.<a href=\"https://www.infoworld.com/article/3714606/microsoft-unveils-safety-and-security-tools-for-generative-ai.html\">Microsoft unveils safety and security tools for generative AI - Feedly AI</a><br />\n",
      "47.<a href=\"https://www.theregister.com/2024/03/29/microsoft_azure_safety_tools/\">Microsoft rolls out safety tools for Azure AI. Hint: More modelsDefenses against prompt injection, hallucination arrive as Feds eye ML risksAI + ML12 hrs|4 - The Register</a><br />\n",
      "48.<a href=\"https://news.google.com/articles/CBMiWmh0dHBzOi8vd3d3LnpkbmV0LmNvbS9hcnRpY2xlL21pY3Jvc29mdC13YW50cy10by1zdG9wLXlvdS1mcm9tLXVzaW5nLWFpLWNoYXRib3RzLWZvci1ldmlsL9IBAA\">Microsoft wants to stop you from using AI chatbots for evil - Google News</a><br />\n",
      "49.<a href=\"https://news.google.com/articles/CBMiV2h0dHBzOi8vdGhlbWFya3VwLm9yZy9uZXdzLzIwMjQvMDMvMjkvbnljcy1haS1jaGF0Ym90LXRlbGxzLWJ1c2luZXNzZXMtdG8tYnJlYWstdGhlLWxhd9IBAA\">NYC's AI Chatbot Tells Businesses to Break the Law – The Markup - Google News</a><br />\n",
      "50.<a href=\"https://themarkup.org/news/2024/03/29/nycs-ai-chatbot-tells-businesses-to-break-the-law\">NYC’s AI Chatbot Tells Businesses to Break the Law - Feedly AI</a><br />\n",
      "51.<a href=\"https://news.google.com/articles/CBMiYWh0dHBzOi8vZ290aGFtaXN0LmNvbS9uZXdzL255cGQtdG8tdGVzdC1zY2FubmVycy13aXRoLWFpLXRlY2gtdG8tY3JhY2stZG93bi1vbi1ndW5zLWluLW55Yy1zdWJ3YXnSAQA\">NYPD to test scanners with AI tech to crack down on guns in NYC subway - Google News</a><br />\n",
      "52.<a href=\"https://news.google.com/articles/CBMiZGh0dHBzOi8vd3d3LmNic25ld3MuY29tL25ld3lvcmsvbmV3cy9ueWMtc3Vid2F5LWNyaW1lLXdlYXBvbnMtZGV0ZWN0aW9uLXRlY2hub2xvZ3ktbWF5b3ItZXJpYy1hZGFtcy_SAWhodHRwczovL3d3dy5jYnNuZXdzLmNvbS9hbXAvbmV3eW9yay9uZXdzL255Yy1zdWJ3YXktY3JpbWUtd2VhcG9ucy1kZXRlY3Rpb24tdGVjaG5vbG9neS1tYXlvci1lcmljLWFkYW1zLw\">NYC subway testing out weapons detection technology, Mayor Adams says - Google News</a><br />\n",
      "53.<a href=\"https://news.google.com/articles/CBMiSWh0dHBzOi8vcXouY29tL2FpLW1ldGFsLWRldGVjdG9ycy1uZXcteW9yay1jaXR5LXN1YndheXMtc2FmZXR5LTE4NTEzNzM4MzHSAQA\">AI metal detectors are coming to New York City subways - Google News</a><br />\n",
      "54.<a href=\"https://www.the-sun.com/news/10920110/tiny-home-crackdown-san-jose-cars-rvs/\">UNDER WATCH Tiny home crackdown underway as officials turn to cameras andartificial intelligenceto catch people living in cars - Feedly AI</a><br />\n",
      "55.<a href=\"https://www.chicagotribune.com/2024/03/28/opinion-ai-bank-financial-fraud-security/\">Lawrence K. Zelvin: Fraudsters haveartificial intelligencetoo - Feedly AI</a><br />\n",
      "56.<a href=\"https://news.google.com/articles/CBMiNWh0dHBzOi8vbmV3cy55YWxlLmVkdS8yMDI0LzAzLzI1L2Fpcy1sZWdhbC1yZXZvbHV0aW9u0gEA\">AI's legal revolution | YaleNews - Google News</a><br />\n",
      "57.<a href=\"https://news.google.com/articles/CBMie2h0dHBzOi8vdGhlY29udmVyc2F0aW9uLmNvbS9nZW5lcmF0aXZlLWFpLWlzLWNoYW5naW5nLXRoZS1sZWdhbC1wcm9mZXNzaW9uLWZ1dHVyZS1sYXd5ZXJzLW5lZWQtdG8ta25vdy1ob3ctdG8tdXNlLWl0LTIyNTczMNIBAA\">Generative AI is changing the legal profession – future lawyers need to know how to use it - Google News</a><br />\n",
      "58.<a href=\"https://news.google.com/articles/CBMibGh0dHBzOi8vd3d3LmZvcmJlcy5jb20vc2l0ZXMvZGFuaWRpcGxhY2lkby8yMDI0LzAzLzI4L2hvdy10aGUtZ2VuZXJhdGl2ZS1haS1iYWNrbGFzaC10b29rLW92ZXItdGhlLWludGVybmV0L9IBAA\">How The Generative AI Backlash Took Over The Internet - Google News</a><br />\n",
      "59.<a href=\"https://news.google.com/articles/CBMiRWh0dHBzOi8vd3d3Lm55dGltZXMuY29tLzIwMjQvMDMvMjkvb3Bpbmlvbi9haS1pbnRlcm5ldC14LXlvdXR1YmUuaHRtbNIBAA\">Opinion | AI Garbage Is Already Polluting the Internet - Google News</a><br />\n",
      "60.<a href=\"https://news.google.com/articles/CBMiZWh0dHBzOi8vcGV0YXBpeGVsLmNvbS8yMDI0LzAzLzI4L25ldy1tYWNoaW5lLXVubGVhcm5pbmctbWV0aG9kLWFpbXMtdG8tZGVhbC13aXRoLXByb2JsZW1hdGljLWFpLWRhdGEv0gEA\">'Machine Unlearning' May Be the Solution to Problematic AI Data - Google News</a><br />\n",
      "61.<a href=\"https://news.google.com/articles/CBMiM2h0dHBzOi8vdGVjaHhwbG9yZS5jb20vbmV3cy8yMDI0LTAzLXFhLWFpLWRvbnQuaHRtbNIBMmh0dHBzOi8vdGVjaHhwbG9yZS5jb20vbmV3cy8yMDI0LTAzLXFhLWFpLWRvbnQuYW1w\">Q&A: How to train AI when you don't have enough data - Google News</a><br />\n",
      "62.<a href=\"https://www.geeky-gadgets.com/build-and-ai-assistant/\">How to make your own AI research assistant using your favorite LLM - Feedly AI</a><br />\n",
      "63.<a href=\"https://news.google.com/articles/CBMiX2h0dHBzOi8veXRlY2gubmV3cy9lbi9haS1pbmN1YmF0ZWQtcmVzZWFyY2gtdGhlLXN0ZWFsdGh5LXZpcnR1YWwtYXV0aG9yLWluLWFjYWRlbWljLXB1Ymxpc2hpbmcv0gEA\">AI-Incubated Research: The Stealthy Virtual Author in Academic Publishing - Google News</a><br />\n",
      "64.<a href=\"https://news.google.com/articles/CBMiaWh0dHBzOi8vd3d3LmNvbXB1dGluZy5jby51ay9uZXdzLzQxOTAzMTEvbWV0aWN1bG91c2x5LWNvbW1lbmRhYmxlLWFpcy1maW5nZXJwcmludHMtcmVjZW50LWFjYWRlbWljLXBhcGVyc9IBAA\">'Meticulously commendable': AI's fingerprints found all over recent academic papers - Google News</a><br />\n",
      "65.<a href=\"https://news.google.com/articles/CBMiZWh0dHBzOi8vdGVjaGNydW5jaC5jb20vMjAyNC8wMy8yOC9haTIxLWxhYnMtbmV3LXRleHQtZ2VuZXJhdGluZy1haS1tb2RlbC1pcy1tb3JlLWVmZmljaWVudC10aGFuLW1vc3Qv0gFpaHR0cHM6Ly90ZWNoY3J1bmNoLmNvbS8yMDI0LzAzLzI4L2FpMjEtbGFicy1uZXctdGV4dC1nZW5lcmF0aW5nLWFpLW1vZGVsLWlzLW1vcmUtZWZmaWNpZW50LXRoYW4tbW9zdC9hbXAv\">AI21 Labs’ new AI model can handle more context than most - Google News</a><br />\n",
      "66.<a href=\"https://news.google.com/articles/CBMiigFodHRwczovL3d3dy5tYXJrdGVjaHBvc3QuY29tLzIwMjQvMDMvMjgvYWkyMS1sYWJzLWJyZWFrcy1uZXctZ3JvdW5kLXdpdGgtamFtYmEtdGhlLXBpb25lZXJpbmctaHlicmlkLXNzbS10cmFuc2Zvcm1lci1sYXJnZS1sYW5ndWFnZS1tb2RlbC_SAY4BaHR0cHM6Ly93d3cubWFya3RlY2hwb3N0LmNvbS8yMDI0LzAzLzI4L2FpMjEtbGFicy1icmVha3MtbmV3LWdyb3VuZC13aXRoLWphbWJhLXRoZS1waW9uZWVyaW5nLWh5YnJpZC1zc20tdHJhbnNmb3JtZXItbGFyZ2UtbGFuZ3VhZ2UtbW9kZWwvP2FtcA\">AI21 Labs Breaks New Ground with ‘Jamba’: The Pioneering Hybrid SSM-Transformer Large Language Model - Google News</a><br />\n",
      "67.<a href=\"https://news.google.com/articles/CBMiVmh0dHBzOi8vdm9pY2Vib3QuYWkvMjAyNC8wMy8yOC9haTIxLWRlYnV0cy1oeWJyaWQtc3RydWN0dXJlLWdlbmVyYXRpdmUtYWktbW9kZWwtamFtYmEv0gEA\">AI21 Debuts Hybrid Structure Generative AI Model Jamba - Google News</a><br />\n",
      "68.<a href=\"https://news.google.com/articles/CBMiTmh0dHBzOi8vdmVudHVyZWJlYXQuY29tL2FpL2FpMjEtbGFicy1qdWljZXMtdXAtZ2VuLWFpLXRyYW5zZm9ybWVycy13aXRoLWphbWJhL9IBAA\">AI21 Labs juices up gen AI transformers with Jamba - Google News</a><br />\n",
      "69.<a href=\"https://news.google.com/articles/CBMiTmh0dHBzOi8vd3d3LnNhbW1vYmlsZS5jb20vbmV3cy9nYWxheHktczI0cy1tb3N0LXdpZGVseS11c2VkLWFpLWZlYXR1cmUtZ29vZ2xlL9IBAA\">Galaxy S24's most widely used AI feature comes from Google - Google News</a><br />\n",
      "70.<a href=\"https://news.google.com/articles/CBMiWmh0dHBzOi8vd3d3LnNhbW1vYmlsZS5jb20vbmV3cy9zYW1zdW5nLXVwZGF0ZXMtbWlsbGlvbnMtZ2FsYXh5LWRldmljZXMtd2l0aC1haS1vbmUtdWktNi0xL9IBAA\">Samsung updates millions of Galaxy devices with Galaxy AI - Google News</a><br />\n",
      "71.<a href=\"https://news.google.com/articles/CBMiT2h0dHBzOi8vdGVjaGNydW5jaC5jb20vMjAyNC8wMy8yOC9nb29nbGUtZ2VtaW5pLW5hbm8tZmVhdHVyZXMtcGl4ZWwtOC1yb2xsLW91dC_SAVNodHRwczovL3RlY2hjcnVuY2guY29tLzIwMjQvMDMvMjgvZ29vZ2xlLWdlbWluaS1uYW5vLWZlYXR1cmVzLXBpeGVsLTgtcm9sbC1vdXQvYW1wLw\">Google will soon roll out on-device AI-powered features on Pixel 8 - Google News</a><br />\n",
      "72.<a href=\"https://news.google.com/articles/CBMilQFodHRwczovL3d3dy50ZWNocmFkYXIuY29tL3Bob25lcy9zYW1zdW5nLWdhbGF4eS1waG9uZXMvZ29vZ2xlLWlzLWJyaW5naW5nLWl0cy1haS1wb3dlcmVkLWNpcmNsZS10by1zZWFyY2gtdG8tb2xkZXItc21hcnRwaG9uZXMtaGVyZXMtd2h5LXRoYXQtbWF0dGVyc9IBAA\">Google is bringing its AI-powered Circle to Search to older smartphones – here's why that matters - Google News</a><br />\n",
      "73.<a href=\"https://news.google.com/articles/CBMidGh0dHBzOi8vd3d3LmdlZWt3aXJlLmNvbS8yMDI0L2FtYXpvbnMtcGFsbS1yZWNvZ25pdGlvbi10ZWNoLWdldHMtaXRzLW93bi1tb2JpbGUtYXBwLXdpdGgtbmV3LWFpLW1hdGNoaW5nLWNhcGFiaWxpdHkv0gEA\">Amazon's palm-recognition tech gets its own mobile app, with new AI matching capability - Google News</a><br />\n",
      "74.<a href=\"https://news.google.com/articles/CBMijAFodHRwczovL25ld3Muc2t5LmNvbS9zdG9yeS93ZS1hbGwtd2FudC10by1saXZlLWZvcmV2ZXItdGhlLXRlY2gtbGV0dGluZy1wZW9wbGUtY3JlYXRlLWF2YXRhcnMtZm9yLWxvdmVkLW9uZXMtdG8tbWVldC1hZnRlci10aGV5LWRpZS0xMzEwMTk5NtIBkAFodHRwczovL25ld3Muc2t5LmNvbS9zdG9yeS9hbXAvd2UtYWxsLXdhbnQtdG8tbGl2ZS1mb3JldmVyLXRoZS10ZWNoLWxldHRpbmctcGVvcGxlLWNyZWF0ZS1hdmF0YXJzLWZvci1sb3ZlZC1vbmVzLXRvLW1lZXQtYWZ0ZXItdGhleS1kaWUtMTMxMDE5OTY\">The new tech bringing loved ones back to life through AI - Google News</a><br />\n",
      "75.<a href=\"https://news.google.com/articles/CBMiU2h0dHBzOi8vd3d3LnduZHUuY29tL3ZpZGVvLzIwMjQvMDMvMjgvbWVkaWNhbC1tb21lbnQtYWktZ2V0dGluZy1oZWFydHMtYmFjay1yaHl0aG0v0gEA\">Medical Moment: AI getting hearts back in rhythm - Google News</a><br />\n",
      "76.<a href=\"https://news.google.com/articles/CBMitgFodHRwczovL3d3dy50aGVoaW5kdS5jb20vYnJhbmRodWIvcHItcmVsZWFzZS9hcnRpZmljaWFsLWludGVsbGlnZW5jZS1pbi1jYXJkaWFjLWltYWdpbmctaG93LWFpLWltcHJvdmVzLXRoZS1hY2N1cmFjeS1hbmQtZWZmaWNpZW5jeS1vZi1kaWFnbm9zaW5nLWhlYXJ0LWNvbmRpdGlvbnMvYXJ0aWNsZTY3OTY4NDY3LmVjZdIBuwFodHRwczovL3d3dy50aGVoaW5kdS5jb20vYnJhbmRodWIvcHItcmVsZWFzZS9hcnRpZmljaWFsLWludGVsbGlnZW5jZS1pbi1jYXJkaWFjLWltYWdpbmctaG93LWFpLWltcHJvdmVzLXRoZS1hY2N1cmFjeS1hbmQtZWZmaWNpZW5jeS1vZi1kaWFnbm9zaW5nLWhlYXJ0LWNvbmRpdGlvbnMvYXJ0aWNsZTY3OTY4NDY3LmVjZS9hbXAv\">Artificial Intelligence in Cardiac Imaging: How AI Improves the Accuracy and Efficiency of Diagnosing Heart Conditions - Google News</a><br />\n",
      "77.<a href=\"https://news.google.com/articles/CBMikAFodHRwczovL3d3dy50aW1lc25vd25ld3MuY29tL2hlYWx0aC9oZWFydC1oZWFsdGgtcmVzZWFyY2hlcnMtZGV2ZWxvcC1haS10b29sLXRoYXQtcHJlZGljdHMtZmF0YWwtaGVhcnQtcmh5dGhtLXdpdGgtODAtYWNjdXJhY3ktYXJ0aWNsZS0xMDg4NTQ5NzTSAZQBaHR0cHM6Ly93d3cudGltZXNub3duZXdzLmNvbS9oZWFsdGgvaGVhcnQtaGVhbHRoLXJlc2VhcmNoZXJzLWRldmVsb3AtYWktdG9vbC10aGF0LXByZWRpY3RzLWZhdGFsLWhlYXJ0LXJoeXRobS13aXRoLTgwLWFjY3VyYWN5LWFydGljbGUtMTA4ODU0OTc0L2FtcA\">Heart Health: Researchers Develop AI Tool That Predicts Fatal Heart Rhythm With 80% Accuracy - Google News</a><br />\n",
      "78.<a href=\"https://news.google.com/articles/CBMiZ2h0dHBzOi8vd3d3Lm5ld3MtbWVkaWNhbC5uZXQvbmV3cy8yMDI0MDMyOC9BSS10b29sLXByZWRpY3RzLWxldGhhbC1oZWFydC1yaHl0aG0td2l0aC04MDI1LWFjY3VyYWN5LmFzcHjSAQA\">AI tool predicts lethal heart rhythm with 80% accuracy - Google News</a><br />\n",
      "79.<a href=\"https://www.nature.com/articles/s41598-024-55991-w\">Revolutionizing heart disease prediction with quantum-enhanced machine learning - Feedly AI</a><br />\n",
      "80.<a href=\"https://www.marktechpost.com/2024/03/28/researchers-at-the-university-of-maryland-propose-a-unified-machine-learning-framework-for-continual-learning-cl/\">Researchers at the University of Maryland Propose a Unified Machine Learning Framework for Continual Learning (CL) - Feedly AI</a><br />\n",
      "81.<a href=\"https://news.google.com/articles/CBMiYWh0dHBzOi8vd3d3Lmdsb2JhbHZpbGxhZ2VzcGFjZS5jb20vdGVjaC9taW5lb3Mtc2hlZGRpbmctbGlnaHQtb24tdGhlLWFpLWJsYWNrLWJveC1mb3ItZW50ZXJwcmlzZS_SAQA\">MineOS: Shedding Light on the AI 'Black Box' for Enterprise - Google News</a><br />\n",
      "82.<a href=\"https://news.google.com/articles/CBMiVWh0dHBzOi8vdmVudHVyZWJlYXQuY29tL2FpL21pbmVvcy1haW1zLXRvLWlsbHVtaW5hdGUtdGhlLWFpLWJsYWNrLWJveC1mb3ItZW50ZXJwcmlzZS_SAQA\">MineOS aims to illuminate the AI 'black box' for enterprise - Google News</a><br />\n",
      "83.<a href=\"https://news.google.com/articles/CBMibmh0dHBzOi8vdGhlcGF5cGVycy5jb20vZGlnaXRhbC1pZGVudGl0eS1zZWN1cml0eS1vbmxpbmUtZnJhdWQvbWluZS1sYXVuY2hlcy1taW5lb3MtYWktYXNzZXQtZGlzY292ZXJ5LS0xMjY3NDM20gEA\">Mine launches MineOS AI Asset Discovery - ThePaypers - Google News</a><br />\n",
      "84.<a href=\"https://news.google.com/articles/CBMihAFodHRwczovL3d3dy5sYXcuY29tL2xlZ2FsdGVjaG5ld3MvMjAyNC8wMy8yNy9kYXRhLXByaXZhY3ktZ292ZXJuYW5jZS1wcm92aWRlci1taW5lLXJlbGVhc2VzLW5ldy1tb2R1bGUtYXV0b21hdGluZy1haS1tYXBwaW5nLWF1ZGl0cy_SAQA\">Data Privacy, Governance Provider Mine Releases New Module Automating AI Mapping, Audits | Legaltech News - Google News</a><br />\n",
      "85.<a href=\"https://news.google.com/articles/CBMiVmh0dHBzOi8vd3d3LmxhdzM2MC5jb20vYXJ0aWNsZXMvMTgxODA0My91YmVyLXNldHRsZXMtcmFjaXN0LWFpLWFjY3VzYXRpb25zLXdpdGgtZHJpdmVy0gEraHR0cHM6Ly93d3cubGF3MzYwLmNvbS9hbXAvYXJ0aWNsZXMvMTgxODA0Mw\">Uber Settles Racist AI Accusations With Driver - Google News</a><br />\n",
      "86.<a href=\"https://news.google.com/articles/CBMiZGh0dHBzOi8vd3d3LnBlcnNvbm5lbHRvZGF5LmNvbS9oci91YmVyLWVhdHMtc2V0dGxlcy1kcml2ZXJzLWZhY2lhbC1yZWNvZ25pdGlvbi1kaXNjcmltaW5hdGlvbi1jbGFpbS_SAQA\">Uber Eats settles driver's facial recognition discrimination claim - Google News</a><br />\n",
      "87.<a href=\"https://news.google.com/articles/CBMiP2h0dHBzOi8vdGVjaGNydW5jaC5jb20vMjAyNC8wMy8yOC91YmVyLWVhdHMtYWktYmlhcy1zZXR0bGVtZW50L9IBQ2h0dHBzOi8vdGVjaGNydW5jaC5jb20vMjAyNC8wMy8yOC91YmVyLWVhdHMtYWktYmlhcy1zZXR0bGVtZW50L2FtcC8\">Uber Eats courier’s fight against AI bias shows justice under UK law is hard won - Google News</a><br />\n",
      "88.<a href=\"https://www.ft.com/content/b063762e-4e00-4b7e-b0d0-7962c9767a58\">OpenAI courts Hollywood over plans for video generation model Sora - FT Tech</a><br />\n",
      "89.<a href=\"https://news.google.com/articles/CBMiWGh0dHBzOi8vd3d3LnRoZWd1YXJkaWFuLmNvbS90ZWNobm9sb2d5LzIwMjQvbWFyLzI5L2hvdy1haS1pcy1hZmZlY3RpbmctdmlkZW8tZ2FtZS1hY3RvcnPSAVhodHRwczovL2FtcC50aGVndWFyZGlhbi5jb20vdGVjaG5vbG9neS8yMDI0L21hci8yOS9ob3ctYWktaXMtYWZmZWN0aW5nLXZpZGVvLWdhbWUtYWN0b3Jz\">‘It’s very easy to steal someone’s voice’: how AI is affecting video game actors - Google News</a><br />\n",
      "90.<a href=\"https://news.google.com/articles/CBMidWh0dHBzOi8vd3d3LnRoZWRydW0uY29tL29waW5pb24vMjAyNC8wMy8yOC9sZXQtcy10aGluay1ldGhpY2FsbHktYWJvdXQtaG93LXVzZS1haS13aXRoLXZvaWNlLWFydGlzdHMtbm90LWluc3RlYWQtdGhlbdIBAA\">Let's think ethically about how to use AI with voice artists (not instead of them) - Google News</a><br />\n",
      "91.<a href=\"https://news.google.com/articles/CBMiT2h0dHBzOi8vd3d3LnRoZXZlcmdlLmNvbS8yMDI0LzMvMjgvMjQxMTQ5MjEvYWktcG9kY2FzdC1hcHBsZS15b3V0dWJlLW1hbmFnZW1lbnTSAQA\">(Almost) anything goes for AI in podcasting - Google News</a><br />\n",
      "92.<a href=\"https://news.google.com/articles/CBMiiwFodHRwczovL2xlZ2FsdGFsa25ldHdvcmsuY29tL3BvZGNhc3RzL2xhd3llcmlzdC1wb2RjYXN0LzIwMjQvMDMvNDk3LXJlYWwtdGFsay1hYm91dC1hcnRpZmljaWFsLWludGVsbGlnZW5jZS1pbi15b3VyLW9mZmljZS13aXRoLWJlbi1zY2hvcnIv0gEA\">#497: Real Talk About Artificial Intelligence in Your Office, with Ben Schorr - Google News</a><br />\n",
      "93.<a href=\"https://www.cnet.com/videos/apple-to-talk-ai-in-june-this-wwdc-is-a-big-deal/#ftag=CAD590a51e\">Apple to Talk AI in June: This WWDC Is a Big Deal video - CNET - Feedly AI</a><br />\n",
      "94.<a href=\"https://www.theverge.com/2024/3/28/24114362/microsoft-windows-surface-reorg-ai-pcs-report\">An inside look at Windows and Surface leadership changes that could help Microsoft capitalize on AI PCs and transition Surface devices to Arm chips (Tom Warren/The Verge) - Feedly AI</a><br />\n",
      "95.<a href=\"https://news.google.com/articles/CBMiWWh0dHBzOi8vd3d3LmVuZ2FkZ2V0LmNvbS9taWNyb3NvZnQtY29waWxvdC1haS13aWxsLXNvb24tcnVuLWxvY2FsbHktb24tcGNzLTEzMDY0MjUxNC5odG1s0gEA\">Microsoft Copilot AI will soon run locally on PCs - Google News</a><br />\n",
      "96.<a href=\"https://news.google.com/articles/CBMigwFodHRwczovL3d3dy53aW5kb3dzY2VudHJhbC5jb20vc29mdHdhcmUtYXBwcy9taWNyb3NvZnQtc2F5cy1jaGF0Z3B0LWlzbnQtYmV0dGVyLXRoYW4tY29waWxvdC1haS15b3VyZS1qdXN0LW5vdC11c2luZy1pdC1hcy1pbnRlbmRlZNIBAA\">ChatGPPT isn't better than Microsoft Copilot, says Microsoft - Google News</a><br />\n",
      "97.<a href=\"https://news.google.com/articles/CBMiTmh0dHBzOi8vd3d3LmJ1c2luZXNzaW5zaWRlci5jb20vam9obi1wYXNtb3JlLWxhdGltZXItYWktYmlhc2VkLWJsYWNrZ3B0LTIwMjQtM9IBUmh0dHBzOi8vd3d3LmJ1c2luZXNzaW5zaWRlci5jb20vam9obi1wYXNtb3JlLWxhdGltZXItYWktYmlhc2VkLWJsYWNrZ3B0LTIwMjQtMz9hbXA\">John Pasmore tries to make AI less biased. Just don't call it BlackGPT - Google News</a><br />\n",
      "98.<a href=\"https://www.engadget.com/elon-musks-updated-grok-ai-claims-to-be-better-at-coding-and-math-120056776.html\">Elon Musk's updated Grok AI claims to be better at coding and math - Feedly AI</a><br />\n",
      "99.<a href=\"https://news.google.com/articles/CBMiXmh0dHBzOi8vd3d3LnJldXRlcnMuY29tL3RlY2hub2xvZ3kvbXVza3MtZ3Jvay0xNS1haS1jaGF0Ym90LWJlLWF2YWlsYWJsZS1uZXh0LXdlZWstMjAyNC0wMy0yOS_SAQA\">Musk's Grok-1.5 AI chatbot to be available next week - Google News</a><br />\n",
      "100.<a href=\"https://www.newsmax.com/finance/streettalk/elon-musk-grok-ai/2024/03/29/id/1159087/\">Musk's Grok-1.5 AI Chatbot to Be Available Next Week - Feedly AI</a><br />\n",
      "101.<a href=\"https://news.google.com/articles/CBMiW2h0dHBzOi8vdGVjaGNydW5jaC5jb20vMjAyNC8wMy8yOC94cy1ncm9rLWNoYXRib3Qtd2lsbC1zb29uLWdldC1hbi11cGdyYWRlZC1tb2RlbC1ncm9rLTEtNS_SAV9odHRwczovL3RlY2hjcnVuY2guY29tLzIwMjQvMDMvMjgveHMtZ3Jvay1jaGF0Ym90LXdpbGwtc29vbi1nZXQtYW4tdXBncmFkZWQtbW9kZWwtZ3Jvay0xLTUvYW1wLw\">X’s Grok chatbot will soon get an upgraded model, Grok-1.5 - Google News</a><br />\n",
      "102.<a href=\"https://news.google.com/articles/CBMiZWh0dHBzOi8vd3d3LmNuZXQuY29tL3RlY2gvZWxvbi1tdXNrLW1ha2VzLWdyb2stYWktYXZhaWxhYmxlLXRvLWFsbC1wYXlpbmcteC1zdWJzY3JpYmVycy13aGF0LXRvLWtub3cv0gEA\">Elon Musk Makes Grok AI Available to All Paying X Subscribers: What to Know - Google News</a><br />\n",
      "103.<a href=\"https://www.platformer.news/grindr-ai-boyfriend-wingman-monetization-paid-taps/\">Sources detail Grindr's push to monetize, including plans for an AI chatbot that can engage users in sexual conversations and may be trained on opt-in user data - Techmeme</a><br />\n",
      "104.<a href=\"https://finbold.com/user-numbers-skyrocket-on-solana-ai-crypto-draws-investor-frenzy-in-presale-boom/\">User Numbers Skyrocket on Solana, AI Crypto Draws Investor Frenzy in Presale Boom - Feedly AI</a><br />\n",
      "105.<a href=\"https://awfulannouncing.com/soccer/mls-next-pro-historic-ai-broadcasting-translation.html\">MLS NEXT Pro plans historic AI broadcasting feature for upcoming game - Feedly AI</a><br />\n",
      "106.<a href=\"https://news.google.com/articles/CBMiWmh0dHBzOi8vd3d3Lndmc2IuY29tLzIwMjQvMDMvMjgvcm9ib3QtZG9nLWZ1ZWxlZC1ieS1haS1jb3VsZC1oZWxwLWVsaW1pbmF0ZS1wb3dlci1vdXRhZ2VzL9IBaWh0dHBzOi8vd3d3Lndmc2IuY29tLzIwMjQvMDMvMjgvcm9ib3QtZG9nLWZ1ZWxlZC1ieS1haS1jb3VsZC1oZWxwLWVsaW1pbmF0ZS1wb3dlci1vdXRhZ2VzLz9vdXRwdXRUeXBlPWFtcA\">Robot dog fueled by AI could help eliminate power outages - Google News</a><br />\n",
      "107.<a href=\"https://www.euronews.com/next/2024/03/29/reggaeton-be-gone-this-homemade-machine-silences-neighbours-music-using-ai\">‘Reggaeton Be Gone’: This homemade machine silences neighbours' music using AI - Feedly AI</a><br />\n",
      "108.<a href=\"https://www.aljazeera.com/economy/2024/3/29/china-turns-to-ai-in-propaganda-mocking-the-american-dream\">China turns to AI in propaganda mocking the ‘American Dream’ - Feedly AI</a><br />\n",
      "109.<a href=\"https://news.google.com/articles/CBMiZmh0dHBzOi8vd3d3LmFsamF6ZWVyYS5jb20vZWNvbm9teS8yMDI0LzMvMjkvY2hpbmEtdHVybnMtdG8tYWktaW4tcHJvcGFnYW5kYS1tb2NraW5nLXRoZS1hbWVyaWNhbi1kcmVhbdIBamh0dHBzOi8vd3d3LmFsamF6ZWVyYS5jb20vYW1wL2Vjb25vbXkvMjAyNC8zLzI5L2NoaW5hLXR1cm5zLXRvLWFpLWluLXByb3BhZ2FuZGEtbW9ja2luZy10aGUtYW1lcmljYW4tZHJlYW0\">China turns to AI in propaganda mocking the ‘American Dream’ - Google News</a><br />\n",
      "110.<a href=\"https://www.scmp.com/business/china-business/article/3257241/shanghai-planning-us138-billion-fund-funds-pursuit-several-world-class-industry-clusters-eye-ai\">Shanghai planning US$13.8 billion fund of funds in pursuit of ‘several world-class industry clusters’, with eye on AI, biotech and semiconductors - Feedly AI</a><br />\n",
      "111.<a href=\"https://www.scmp.com/news/hong-kong/hong-kong-economy/article/3257153/hong-kong-companies-hail-malaysia-go-place-ai-e-commerce-development\">Hong Kong companies hail Malaysia as ‘go-to place’ for AI, e-commerce development - Feedly AI</a><br />\n",
      "112.<a href=\"https://flipboard.com/video/stringershub/daede6037f\">AI developers thrive in Indonesia with government support - Feedly AI</a><br />\n",
      "113.<a href=\"https://www.itpro.com/technology/artificial-intelligence/can-ai-code-generation-really-replace-human-developers\">Can AI code generation really replace human developers? - Feedly AI</a><br />\n",
      "114.<a href=\"https://www.techtimes.com/articles/303056/20240329/generative-ai-develops-drugs-potential-treatment-antibiotic-resistant-bacteria.htm\">Generative AI Develops Drugs as Potential Treatment for Antibiotic-Resistant Bacteria - Feedly AI</a><br />\n",
      "115.<a href=\"https://www.edweek.org/events/webinar/artificial-intelligence-in-practice-building-a-roadmap-for-ai-use-in-schools\">Artificial Intelligencein Practice: Building a Roadmap for AI Use in Schools - Feedly AI</a><br />\n",
      "116.<a href=\"https://www.geeky-gadgets.com/how-does-ai-work/\">How doesartificial intelligence(AI) work in simple terms? - Feedly AI</a><br />\n",
      "117.<a href=\"https://news.google.com/articles/CBMiRGh0dHBzOi8vd3d3LmJ1enpmZWVkLmNvbS9teWNoYWx0aG9tcHNvbi9pbnNpZGUtb3V0LWVtb3Rpb25zLWFpLWltYWdl0gEA\">Inside Out Emotions According To AI - Google News</a><br />\n",
      "118.<a href=\"https://news.google.com/articles/CBMikQFodHRwczovL3d3dy5ub3RlYm9va2NoZWNrLm5ldC9SZXNlYXJjaGVycy11c2UtbWFjaGluZS1sZWFybmluZy1tb2RlbHMtdG8tZGV0ZWN0LW1vb2RzLW9mLVdoaXRlLUVuZ2xpc2gtc3BlYWtlcnMtZnJvbS1GYWNlYm9vay1wb3N0cy44MTkxODUuMC5odG1s0gEA\">Researchers use machine learning models to detect moods of White English speakers from Facebook posts - Google News</a><br />\n",
      "119.<a href=\"https://news.google.com/articles/CBMinQFodHRwczovL3d3dy5uaWguZ292L25ld3MtZXZlbnRzL25ld3MtcmVsZWFzZXMvYW5hbHlzaXMtc29jaWFsLW1lZGlhLWxhbmd1YWdlLXVzaW5nLWFpLW1vZGVscy1wcmVkaWN0cy1kZXByZXNzaW9uLXNldmVyaXR5LXdoaXRlLWFtZXJpY2Fucy1ub3QtYmxhY2stYW1lcmljYW5z0gEA\">Analysis of social media language using AI models predicts depression severity for white Americans, but not Black Americans - Google News</a><br />\n",
      "120.<a href=\"https://news.google.com/articles/CBMilAFodHRwczovL3d3dy5yZXV0ZXJzLmNvbS9idXNpbmVzcy9oZWFsdGhjYXJlLXBoYXJtYWNldXRpY2Fscy9haS1mYWlscy1kZXRlY3QtZGVwcmVzc2lvbi1zaWducy1zb2NpYWwtbWVkaWEtcG9zdHMtYnktYmxhY2stYW1lcmljYW5zLXN0dWR5LTIwMjQtMDMtMjgv0gEA\">AI fails to detect depression signs in social media posts by Black Americans, study finds - Google News</a><br />\n",
      "121.<a href=\"https://news.google.com/articles/CBMibmh0dHBzOi8vd3d3LnBoaWxseXZvaWNlLmNvbS9hcnRpZmljaWFsLWludGVsbGlnZW5jZS1kZXByZXNzaW9uLW1lbnRhbC1oZWFsdGgtcmFjaWFsLWRpc3Bhcml0aWVzLXBlbm4tc3R1ZHktYWkv0gFyaHR0cHM6Ly93d3cucGhpbGx5dm9pY2UuY29tL2FydGlmaWNpYWwtaW50ZWxsaWdlbmNlLWRlcHJlc3Npb24tbWVudGFsLWhlYWx0aC1yYWNpYWwtZGlzcGFyaXRpZXMtcGVubi1zdHVkeS1haS9hbXAv\">AI can detect depression in white people based on their social media posts – but not in Black people, Penn study finds - Google News</a><br />\n",
      "122.<a href=\"https://news.google.com/articles/CBMiZGh0dHBzOi8vaGFja2Vybm9vbi5jb20vbm8teW91LWFyZS1ub3QtYWZyYWlkLW9mLWFydGlmaWNpYWwtaW50ZWxsaWdlbmNlLXlvdXJlLWFmcmFpZC1vZi1vdGhlci1wZW9wbGXSAQA\">No, You Are Not Afraid of Artificial Intelligence. You’re Afraid of Other People - Google News</a><br />\n",
      "123.<a href=\"https://news.google.com/articles/CBMiamh0dHBzOi8vd3d3LnVzYXRvZGF5LmNvbS9zdG9yeS9lbnRlcnRhaW5tZW50L211c2ljLzIwMjQvMDMvMjgvc2hlcnlsLWNyb3ctZXZvbHV0aW9uLWludGVydmlldy83MzEyMDI2NjAwNy_SAQA\">Sheryl Crow talks Stevie Nicks, Olivia Rodrigo and why AI in music 'terrified' her - Google News</a><br />\n",
      "124.<a href=\"https://news.google.com/articles/CBMiS2h0dHBzOi8vZ2l6bW9kby5jb20vbWFtbWEtbWlhLXN0YXItcmVwbGFjZWQtYnktYWktaW4tYmJjLXByb2plY3QtMTg1MTM3MjAyMdIBAA\">Family Requests 'Mamma Mia\" Star Be Replaced With AI in BBC Documentary - Google News</a><br />\n",
      "125.<a href=\"https://www.the-sun.com/tech/10919867/putin-war-criminal-sunak-robot-humans-ai-robot/\">NO BRAINER I can run world better than humans, Rishi Sunak is a ROBOT & Putin is a war criminal, first-ever AI woman tells The Sun - Feedly AI</a><br />\n",
      "126.<a href=\"https://news.google.com/articles/CBMitQFodHRwczovL3d3dy50b21zaGFyZHdhcmUuY29tL3RlY2gtaW5kdXN0cnkvYXJ0aWZpY2lhbC1pbnRlbGxpZ2VuY2UvYW1kLWxpc3RzLW15c3RlcnktbWkzODh4LWFpLWdwdS1pbi1vZmZpY2lhbC1kb2NzLWFzLWJhcnJlZC1mcm9tLWNoaW5hLXNhbGVzLWluc3RpbmN0LWNoaXAtaGFzbnQtYmVlbi1hbm5vdW5jZWQteWV00gEA\">AMD lists mystery MI388X AI GPU in official docs, says it's barred from China sales due to US sanctions - Google News</a><br />\n",
      "127.<a href=\"https://news.google.com/articles/CBMidmh0dHBzOi8vd3d3LmNzb29ubGluZS5jb20vYXJ0aWNsZS8yMDc1NTQwL3Rob3VzYW5kcy1vZi1zZXJ2ZXJzLWhhY2tlZC1kdWUtdG8taW5zZWN1cmVseS1kZXBsb3llZC1yYXktYWktZnJhbWV3b3JrLmh0bWzSAXtodHRwczovL3d3dy5jc29vbmxpbmUuY29tL2FydGljbGUvMjA3NTU0MC90aG91c2FuZHMtb2Ytc2VydmVycy1oYWNrZWQtZHVlLXRvLWluc2VjdXJlbHktZGVwbG95ZWQtcmF5LWFpLWZyYW1ld29yay5odG1sL2FtcC8\">Thousands of servers hacked due to insecurely deployed Ray AI framework - Google News</a><br />\n",
      "128.<a href=\"https://news.google.com/articles/CBMiVWh0dHBzOi8vd3d3Lml0c25pY2V0aGF0LmNvbS9hcnRpY2xlcy9uaWNlci10dWVzZGF5cy1uZXcteW9yay1mZWJydWFyeS1zaGFuZS1mdS0yODAzMjTSAQA\">Shane Fu dives into his fantastical fungi and foliage AI creations - Google News</a><br />\n",
      "129.<a href=\"https://www.nytimes.com/2024/03/29/podcasts/ais-messy-moment-listeners-respond-to-jonathan-haidt-shrimp-jesus.html\">A.I.’s Messy Moment + Listeners Respond to Jonathan Haidt + Shrimp Jesus - NYT Tech</a><br />\n",
      "130.<a href=\"https://www.axios.com/2024/03/29/ai-finance-advice-tools\">AI financial advisers are here — and could disrupt the industry - Feedly AI</a><br />\n",
      "131.<a href=\"https://www.fool.com/investing/2024/03/29/nvidia-microsoft-alphabet-magnificent-etf-buy-now/\">Nvidia, Microsoft, and Alphabet Are Top Positions in This Magnificent ETF. Here's Why It's a Buy Now. - Feedly AI</a><br />\n",
      "132.<a href=\"https://news.google.com/articles/CBMiTGh0dHBzOi8vd3d3LmZpZXJjZXRlbGVjb20uY29tL2FpL2V0aGVybmV0LXJpZ2h0LXRyYWluLXJpZGUtYWktc2F5cy1jaXNjby1zdnDSAQA\">'Ethernet is the right train to ride' for AI says Cisco SVP - Google News</a><br />\n",
      "133.<a href=\"https://news.google.com/articles/CBMifWh0dHBzOi8vdmVudHVyZWJlYXQuY29tL2FpL2V2ZXItd29uZGVyLWlmLWEtY29udGFjdC1jZW50ZXItZW1wbG95ZWUtaXMtYnVybmVkLW91dC1haS1wb3dlcmVkLWZlYXR1cmUtaW4tY2lzY28td2ViZXgtY2FuLWhlbHAv0gEA\">Ever wonder if a contact center employee is burned out? AI-powered feature in Cisco Webex can help - Google News</a><br />\n",
      "134.<a href=\"https://research.myshell.ai/open-voice\">OpenVoice: Versatile Instant Voice Cloning - Hacker News</a><br />\n",
      "135.<a href=\"https://hackernoon.com/playing-simon-says-with-gemma-2b-and-mediapipe\">Playing Simon Says with Gemma-2b and MediaPipe - HackerNoon</a><br />\n",
      "136.<a href=\"https://github.com/mratsim/Arraymancer\">Arraymancer – Deep Learning Nim Library - Feedly AI</a><br />\n",
      "137.<a href=\"https://hackernoon.com/function-calling-llms-combining-slims-and-dragon-for-better-rag-performance\">Function Calling LLMs: Combining SLIMs and DRAGON for Better RAG Performance - HackerNoon</a><br />\n",
      "138.<a href=\"https://www.newsmax.com/health/health-news/artificial-intelligence-chat-gpt-doctors/2024/03/29/id/1159091/\">Chat GPT Writes Records Ten Times Faster Than Doctors - Feedly AI</a><br />\n",
      "139.<a href=\"https://towardsdatascience.com/the-math-behind-neural-networks-a34a51b93873\">The Math Behind Neural Networks - Feedly AI</a><br />\n",
      "140.<a href=\"https://www.creativebloq.com/features/how-to-use-photoshop-ai-tools\">The complete Adobe Photoshop AI tutorial guide - Feedly AI</a><br />\n",
      "\n"
     ]
    }
   ],
   "source": [
    "print(html_str)"
   ]
  },
  {
   "cell_type": "code",
   "execution_count": 85,
   "id": "eb726395",
   "metadata": {},
   "outputs": [],
   "source": [
    "# send mail\n",
    "# credentials\n",
    "gmail_user = os.getenv(\"GMAIL_USER\")\n",
    "gmail_password = os.getenv(\"GMAIL_PASSWORD\")\n",
    "\n",
    "# Email content\n",
    "from_addr = gmail_user\n",
    "to_addr = 'drucev@gmail.com'\n",
    "subject = f'AI news' + datetime.now().strftime('%H:%M:%S')\n",
    "body = f\"\"\"\n",
    "<html>\n",
    "    <head></head>\n",
    "    <body>\n",
    "    <div>\n",
    "    {html_str}\n",
    "    </div>\n",
    "    </body>\n",
    "</html>\n",
    "\"\"\"\n",
    "\n",
    "# Setup the MIME\n",
    "message = MIMEMultipart()\n",
    "message['From'] = from_addr\n",
    "message['To'] = to_addr\n",
    "message['Subject'] = subject\n",
    "message.attach(MIMEText(body, 'html'))\n",
    "\n",
    "# Create SMTP session\n",
    "with smtplib.SMTP('smtp.gmail.com', 587) as server:\n",
    "    server.starttls()  # Secure the connection\n",
    "    server.login(gmail_user, gmail_password)\n",
    "    text = message.as_string()\n",
    "    server.sendmail(from_addr, to_addr, text)\n"
   ]
  },
  {
   "cell_type": "markdown",
   "id": "2d70bd0b-d69e-4306-9fc3-5bb83e633806",
   "metadata": {},
   "source": [
    "# Load posts from BlueSky and format for Substack or a blog post\n",
    "for now I share the interesting stuff on bluesky and then use this code to grab latest BlueSky 'tweets' and format a [Substack post](https://skynetandchill.com)"
   ]
  },
  {
   "cell_type": "code",
   "execution_count": 115,
   "id": "a64411df-424d-4fe1-a1ef-2484346fa856",
   "metadata": {},
   "outputs": [],
   "source": [
    "client = Client(base_url='https://bsky.social')\n",
    "client.login(os.environ['BSKY_USERNAME'], os.environ['BSKY_SECRET'])\n",
    "\n",
    "mydid = {\"did\":\"did:plc:qomkdnxrqw3gkbytdxea5z65\"}\n",
    "\n",
    "data = client.get_author_feed(\n",
    "    actor=mydid['did'],\n",
    "    filter='posts_and_author_threads',\n",
    "    limit=50,\n",
    ")\n"
   ]
  },
  {
   "cell_type": "code",
   "execution_count": 116,
   "id": "d2f0a047",
   "metadata": {},
   "outputs": [],
   "source": [
    "def remove_urls(text):\n",
    "    # Regular expression to match URLs\n",
    "    url_pattern = r'https?://\\S+|www\\.\\S+'\n",
    "    # Substitute found URLs with an empty string\n",
    "    clean_text = re.sub(url_pattern, '', text)\n",
    "    return clean_text\n",
    "\n"
   ]
  },
  {
   "cell_type": "code",
   "execution_count": 117,
   "id": "3d723127",
   "metadata": {},
   "outputs": [],
   "source": [
    "def rawfetchurl(url, timeout=60):\n",
    "    \"\"\"get url using requests with specified timeout. return response object, status, content-type\"\"\"\n",
    "    try:\n",
    "        response = requests.get(url, timeout=timeout)\n",
    "    except httplib.BadStatusLine:\n",
    "        print(\"Bad response (?) fetching url %s \" % url)\n",
    "        response = None\n",
    "    except requests.Timeout:\n",
    "        print(\"Timeout fetching url %s \" % url)\n",
    "        response = None\n",
    "    except requests.ConnectionError as e:\n",
    "        print(\"Connection error (%s) fetching url %s \" % (str(e), url))\n",
    "        response = None\n",
    "    except requests.TooManyRedirects:\n",
    "        print(\"Too many redirects fetching url %s \" % url)\n",
    "        response = None\n",
    "    except requests.exceptions.MissingSchema:\n",
    "        print(\"Missing schema url %s \" % url)\n",
    "        response = None\n",
    "    except requests.exceptions.InvalidSchema:\n",
    "        print(\"Invalid schema url %s \" % url)\n",
    "        response = None\n",
    "    except requests.exceptions.InvalidURL as e:\n",
    "        print(\"Invalid url %s, %s\" % (url, str(e)))\n",
    "        response = None\n",
    "    except ValueError as e:\n",
    "        # don't log url because possibly malformed url\n",
    "        print(\"ValueError, url ?: ? \")\n",
    "        response = None\n",
    "    except httplib.IncompleteRead as e:\n",
    "        print(\"IncompleteRead, url %s: %s \" % (url, str(e)))\n",
    "        response = None\n",
    "    except urllib3.exceptions.SSLError as e:\n",
    "        print(\"SSLError, url %s: %s \" % (url, str(e)))\n",
    "        response = None\n",
    "    except requests.exceptions.ContentDecodingError as e:\n",
    "        print(\"SSLError, url %s: %s \" % (url, str(e)))\n",
    "        response = None\n",
    "    except requests.exceptions.ChunkedEncodingError as e:\n",
    "        print(\"ChunkedEncodingError, url %s: %s \" % (url, str(e)))\n",
    "        response = None\n",
    "    except UnicodeEncodeError as e:\n",
    "        print(\"UnicodeEncodeError, url %s: %s \" % (url, str(e)))\n",
    "        response = None\n",
    "    except OpenSSL.SSL.SysCallError as e:\n",
    "        print(\"OpenSSL.SSL.SysCallError, url %s: %s \" % (url, str(e)))\n",
    "        response = -1\n",
    "    except OpenSSL.SSL.ZeroReturnError as e:\n",
    "        print(\"OpenSSL.SSL.ZeroReturnError, url %s: %s \" % (url, str(e)))\n",
    "        response = -1\n",
    "\n",
    "    # except requests.packages.urllib3.exceptions.DecodeError as e:\n",
    "    #     utilLog(\"DecodeError, url %s: %s \" % (url, str(e)))\n",
    "    #     response = None\n",
    "\n",
    "    return response\n",
    "\n",
    "\n",
    "imgurl = 'https://nypost.com/wp-content/uploads/sites/2/2024/02/nate-silver-calls-shut-gemini-77192719.jpg?quality=75&strip=all&w=1024'\n",
    "r = rawfetchurl(imgurl)"
   ]
  },
  {
   "cell_type": "code",
   "execution_count": 118,
   "id": "ac3c09d9",
   "metadata": {},
   "outputs": [],
   "source": [
    "\n",
    "# #         impath = \"%s/%d.%s\" % (today_orig_dir, actualurl.id, file_ext)\n",
    "# impath = 'x.jpg'\n",
    "# with open(impath, 'wb') as file:\n",
    "#     file.write(r.content)\n",
    "\n",
    "# display(IPython.display.Image(filename=impath))\n"
   ]
  },
  {
   "cell_type": "code",
   "execution_count": 119,
   "id": "da3e11a1",
   "metadata": {},
   "outputs": [],
   "source": [
    "\n",
    "# def resize_and_crop(image_path, output_path, size=(360, 360)):\n",
    "#     # Open the image\n",
    "#     image = PIL.Image.open(image_path)\n",
    "\n",
    "#     # Calculate the aspect ratio\n",
    "#     aspect_ratio = image.width / image.height\n",
    "#     target_aspect_ratio = size[0] / size[1]\n",
    "\n",
    "#     # Determine the scaling factor and new size\n",
    "#     if aspect_ratio > target_aspect_ratio:\n",
    "#         # Image is wider than desired aspect ratio\n",
    "#         new_height = size[1]\n",
    "#         new_width = int(new_height * aspect_ratio)\n",
    "#     else:\n",
    "#         # Image is taller than desired aspect ratio\n",
    "#         new_width = size[0]\n",
    "#         new_height = int(new_width / aspect_ratio)\n",
    "\n",
    "#     # Resize the image\n",
    "#     image = image.resize((new_width, new_height))\n",
    "\n",
    "#     # Calculate coordinates to crop the image to the target size\n",
    "#     left = (new_width - size[0]) / 2\n",
    "#     top = (new_height - size[1]) / 2\n",
    "#     right = (new_width + size[0]) / 2\n",
    "#     bottom = (new_height + size[1]) / 2\n",
    "\n",
    "#     # Crop the image\n",
    "#     image = image.crop((left, top, right, bottom))\n",
    "\n",
    "#     # Save the cropped image\n",
    "#     image.save(output_path)\n",
    "\n",
    "def resize_and_crop(input_image_path, output_image_path, desired_height=240):\n",
    "    # Load the image\n",
    "    with Image.open(input_image_path) as img:\n",
    "        img = img.convert('RGB')\n",
    "\n",
    "        # Calculate the new width maintaining the aspect ratio\n",
    "        aspect_ratio = img.width / img.height\n",
    "        new_width = int(desired_height * aspect_ratio)\n",
    "\n",
    "        # Resize the image\n",
    "        resized_img = img.resize((new_width, desired_height))\n",
    "\n",
    "        # Save the resized image\n",
    "        resized_img.save(output_image_path)\n",
    "\n",
    "# output_path = 'square.jpg'\n",
    "# resize_and_crop(impath, output_path)\n",
    "# display(IPython.display.Image(filename=output_path))\n"
   ]
  },
  {
   "cell_type": "code",
   "execution_count": 120,
   "id": "20ff6485",
   "metadata": {},
   "outputs": [
    {
     "name": "stdout",
     "output_type": "stream",
     "text": [
      "Elon Musk says we'll run out of power capacity to run all the AI chips in 2025\n"
     ]
    }
   ],
   "source": [
    "# attempt to remove traiing inline URLs\n",
    "\n",
    "def truncate_last_occurrence(text: str) -> str:\n",
    "    # Find the last occurrence of a space followed by any sequence of characters followed by 3 periods\n",
    "    pattern = r'\\s+\\S+\\.{3}$'\n",
    "    return re.sub(pattern, '', text)\n",
    "\n",
    "# Example text for testing\n",
    "\n",
    "example_text = \"\"\"Elon Musk says we'll run out of power capacity to run all the AI chips in 2025\n",
    "newatlas.com/technology/e...\"\"\"\n",
    "\n",
    "# Truncate the last occurrence\n",
    "print(truncate_last_occurrence(example_text))\n",
    "\n"
   ]
  },
  {
   "cell_type": "code",
   "execution_count": 121,
   "id": "03fe49dc",
   "metadata": {},
   "outputs": [],
   "source": [
    "\n",
    "# for post in data.feed:\n",
    "#     post_str = post.post.record.text.rstrip()\n",
    "#     post_str = truncate_last_occurrence(post_str)\n",
    "#     post_url = \"\"\n",
    "#     try:\n",
    "#         post_url = post.post.record.embed.external.uri.rstrip()\n",
    "#     except:\n",
    "#         pass\n",
    "\n",
    "#     print(remove_urls(post_str))\n",
    "#     print(post_url)\n",
    "#     print()\n"
   ]
  },
  {
   "cell_type": "code",
   "execution_count": 122,
   "id": "f78d8382",
   "metadata": {},
   "outputs": [],
   "source": [
    "# for i, post in enumerate(data.feed):\n",
    "#     post_str = post.post.record.text.rstrip()\n",
    "#     post_str = truncate_last_occurrence(post_str)\n",
    "#     post_url = \"\"\n",
    "#     tag_dict = {}\n",
    "#     try:\n",
    "#         post_url = post.post.record.embed.external.uri.rstrip()\n",
    "#     except:\n",
    "#         pass\n",
    "#     if post_url:\n",
    "#         tag_dict = get_og_tags(post_url)\n",
    "#         display_str = f\"[{post_str}]({post_url})\"\n",
    "#         site_name = tag_dict.get('og:site_name')\n",
    "#         img_url = tag_dict.get('og:image')\n",
    "#         if site_name:\n",
    "#             display_str += f\" - {site_name}\"\n",
    "#         if img_url:\n",
    "#             try:\n",
    "#                 r = rawfetchurl(img_url)\n",
    "#                 content_type = r.headers['Content-Type']\n",
    "#                 content_type = content_type[content_type.find('/')+1:]\n",
    "#                 impath = f\"source{i}.{content_type}\"\n",
    "#                 with open(impath, 'wb') as file:\n",
    "#                     file.write(r.content)\n",
    "#                 output_path = f'Image{i}.jpg'\n",
    "#                 resize_and_crop(impath, output_path)\n",
    "#                 display(IPython.display.Image(filename=output_path))\n",
    "#             except Exception as e:\n",
    "#                 print(e)\n",
    "#         display(Markdown(display_str))\n",
    "#     else:\n",
    "#         display(Markdown(f\"{post_str}\"))\n"
   ]
  },
  {
   "cell_type": "code",
   "execution_count": 123,
   "id": "026679ea",
   "metadata": {
    "scrolled": true
   },
   "outputs": [
    {
     "data": {
      "text/markdown": [
       "Follow the latest AI headlines via [SkynetAndChill.com on Bluesky](https://bsky.app/profile/skynetandchill.com)"
      ],
      "text/plain": [
       "<IPython.core.display.Markdown object>"
      ]
     },
     "metadata": {},
     "output_type": "display_data"
    },
    {
     "data": {
      "text/markdown": [
       "[In the words of John Prine, please don't bury me in the cold cold ground, resurrect me with AI.](https://cacm.acm.org/news/raising-the-dead-with-ai/)"
      ],
      "text/plain": [
       "<IPython.core.display.Markdown object>"
      ]
     },
     "metadata": {},
     "output_type": "display_data"
    },
    {
     "data": {
      "text/markdown": [
       "___"
      ],
      "text/plain": [
       "<IPython.core.display.Markdown object>"
      ]
     },
     "metadata": {},
     "output_type": "display_data"
    },
    {
     "data": {
      "image/jpeg": "[encoded data removed]",
      "text/plain": [
       "<IPython.core.display.Image object>"
      ]
     },
     "metadata": {},
     "output_type": "display_data"
    },
    {
     "data": {
      "text/markdown": [
       "[Grad students go on strike at BU, dean recommends using AI substitutes.](https://www.thedailybeast.com/boston-university-suggests-replacing-striking-grad-students-with-ai) - The Daily Beast"
      ],
      "text/plain": [
       "<IPython.core.display.Markdown object>"
      ]
     },
     "metadata": {},
     "output_type": "display_data"
    },
    {
     "data": {
      "text/markdown": [
       "___"
      ],
      "text/plain": [
       "<IPython.core.display.Markdown object>"
      ]
     },
     "metadata": {},
     "output_type": "display_data"
    },
    {
     "data": {
      "image/jpeg": "[encoded data removed]",
      "text/plain": [
       "<IPython.core.display.Image object>"
      ]
     },
     "metadata": {},
     "output_type": "display_data"
    },
    {
     "data": {
      "text/markdown": [
       "[The risks of handing decisions to computers with little transparency.](https://www.businessinsider.com/forget-ai-algorithm-apocalypse-driving-humans-lives-data-stock-market-2024-4) - Business Insider"
      ],
      "text/plain": [
       "<IPython.core.display.Markdown object>"
      ]
     },
     "metadata": {},
     "output_type": "display_data"
    },
    {
     "data": {
      "text/markdown": [
       "___"
      ],
      "text/plain": [
       "<IPython.core.display.Markdown object>"
      ]
     },
     "metadata": {},
     "output_type": "display_data"
    },
    {
     "data": {
      "image/jpeg": "[encoded data removed]",
      "text/plain": [
       "<IPython.core.display.Image object>"
      ]
     },
     "metadata": {},
     "output_type": "display_data"
    },
    {
     "data": {
      "text/markdown": [
       "[Which industries are most worried about AI?](https://variety.com/vip/ai-spurs-job-security-concerns-in-u-s-media-ech-1235955935/) - Variety"
      ],
      "text/plain": [
       "<IPython.core.display.Markdown object>"
      ]
     },
     "metadata": {},
     "output_type": "display_data"
    },
    {
     "data": {
      "text/markdown": [
       "___"
      ],
      "text/plain": [
       "<IPython.core.display.Markdown object>"
      ]
     },
     "metadata": {},
     "output_type": "display_data"
    },
    {
     "data": {
      "text/markdown": [
       "It's not joblessness, it's 'me' time!"
      ],
      "text/plain": [
       "<IPython.core.display.Markdown object>"
      ]
     },
     "metadata": {},
     "output_type": "display_data"
    },
    {
     "data": {
      "text/markdown": [
       "[Gene Munster predicts AI bull market just starting, might run 3 to 5 years and end in a bubble.](https://www.thestreet.com/technology/researcher-has-a-warning-about-the-future-of-the-ai-boom)"
      ],
      "text/plain": [
       "<IPython.core.display.Markdown object>"
      ]
     },
     "metadata": {},
     "output_type": "display_data"
    },
    {
     "data": {
      "text/markdown": [
       "___"
      ],
      "text/plain": [
       "<IPython.core.display.Markdown object>"
      ]
     },
     "metadata": {},
     "output_type": "display_data"
    },
    {
     "data": {
      "image/jpeg": "[encoded data removed]",
      "text/plain": [
       "<IPython.core.display.Image object>"
      ]
     },
     "metadata": {},
     "output_type": "display_data"
    },
    {
     "data": {
      "text/markdown": [
       "[Jon Stewart on AI - yeah it's gonna save the climate some day but first it's gonna eliminate your job tomorrow. Good luck as the VP of how to prompt AI to make toast!](https://www.youtube.com/watch?v=20TAkcy3aBY) - YouTube"
      ],
      "text/plain": [
       "<IPython.core.display.Markdown object>"
      ]
     },
     "metadata": {},
     "output_type": "display_data"
    },
    {
     "data": {
      "text/markdown": [
       "___"
      ],
      "text/plain": [
       "<IPython.core.display.Markdown object>"
      ]
     },
     "metadata": {},
     "output_type": "display_data"
    },
    {
     "data": {
      "text/markdown": [
       "[Hailo, another AI chip startup, raises $120m](https://www.bloomberg.com/news/articles/2024-04-02/hailo-raises-120-million-to-design-more-efficient-ai-chips)"
      ],
      "text/plain": [
       "<IPython.core.display.Markdown object>"
      ]
     },
     "metadata": {},
     "output_type": "display_data"
    },
    {
     "data": {
      "text/markdown": [
       "___"
      ],
      "text/plain": [
       "<IPython.core.display.Markdown object>"
      ]
     },
     "metadata": {},
     "output_type": "display_data"
    },
    {
     "data": {
      "text/markdown": [
       "[Larry Ellison: use AI to automate cybersecurity, and run everything in my cloud.](https://www.wsj.com/articles/its-time-to-hand-cybersecurity-over-to-the-computers-healthcare-industry-94858f48)"
      ],
      "text/plain": [
       "<IPython.core.display.Markdown object>"
      ]
     },
     "metadata": {},
     "output_type": "display_data"
    },
    {
     "data": {
      "text/markdown": [
       "___"
      ],
      "text/plain": [
       "<IPython.core.display.Markdown object>"
      ]
     },
     "metadata": {},
     "output_type": "display_data"
    },
    {
     "data": {
      "image/jpeg": "[encoded data removed]",
      "text/plain": [
       "<IPython.core.display.Image object>"
      ]
     },
     "metadata": {},
     "output_type": "display_data"
    },
    {
     "data": {
      "text/markdown": [
       "[Fake package hallucinated by AI gets 30k downloads, highlighting a cyberattack vector.](https://www.lasso.security/blog/ai-package-hallucinations)"
      ],
      "text/plain": [
       "<IPython.core.display.Markdown object>"
      ]
     },
     "metadata": {},
     "output_type": "display_data"
    },
    {
     "data": {
      "text/markdown": [
       "___"
      ],
      "text/plain": [
       "<IPython.core.display.Markdown object>"
      ]
     },
     "metadata": {},
     "output_type": "display_data"
    },
    {
     "data": {
      "image/jpeg": "[encoded data removed]",
      "text/plain": [
       "<IPython.core.display.Image object>"
      ]
     },
     "metadata": {},
     "output_type": "display_data"
    },
    {
     "data": {
      "text/markdown": [
       "[Empathic AI makes me cry too](https://www.zdnet.com/article/an-ai-model-with-emotional-intelligence-i-cried-and-humes-evi-told-me-it-cared/#ftag=RSSbaffb68) - ZDNET"
      ],
      "text/plain": [
       "<IPython.core.display.Markdown object>"
      ]
     },
     "metadata": {},
     "output_type": "display_data"
    },
    {
     "data": {
      "text/markdown": [
       "___"
      ],
      "text/plain": [
       "<IPython.core.display.Markdown object>"
      ]
     },
     "metadata": {},
     "output_type": "display_data"
    },
    {
     "data": {
      "image/jpeg": "[encoded data removed]",
      "text/plain": [
       "<IPython.core.display.Image object>"
      ]
     },
     "metadata": {},
     "output_type": "display_data"
    },
    {
     "data": {
      "text/markdown": [
       "[People like AI art, when they are told it is made by humans. Just need the AI to concoct a backstory about a scruffy front and a cheeky art dealer to sell it.](https://www.sciencenorway.no/art-artificial-intelligence/people-liked-ai-art-when-they-thought-it-was-made-by-humans/2337417)"
      ],
      "text/plain": [
       "<IPython.core.display.Markdown object>"
      ]
     },
     "metadata": {},
     "output_type": "display_data"
    },
    {
     "data": {
      "text/markdown": [
       "___"
      ],
      "text/plain": [
       "<IPython.core.display.Markdown object>"
      ]
     },
     "metadata": {},
     "output_type": "display_data"
    },
    {
     "data": {
      "image/jpeg": "[encoded data removed]",
      "text/plain": [
       "<IPython.core.display.Image object>"
      ]
     },
     "metadata": {},
     "output_type": "display_data"
    },
    {
     "data": {
      "text/markdown": [
       "[ChatGPT and Perplexity AI Tweak Free Plans In Battle for Users - Decrypt](https://decrypt.co/224344/free-chatgpt-perplexity-logging-in-ads) - Decrypt"
      ],
      "text/plain": [
       "<IPython.core.display.Markdown object>"
      ]
     },
     "metadata": {},
     "output_type": "display_data"
    },
    {
     "data": {
      "text/markdown": [
       "___"
      ],
      "text/plain": [
       "<IPython.core.display.Markdown object>"
      ]
     },
     "metadata": {},
     "output_type": "display_data"
    },
    {
     "data": {
      "image/jpeg": "[encoded data removed]",
      "text/plain": [
       "<IPython.core.display.Image object>"
      ]
     },
     "metadata": {},
     "output_type": "display_data"
    },
    {
     "data": {
      "text/markdown": [
       "[Perplexity has a plan to sell ads](https://www.adweek.com/media/gen-ai-search-engine-perplexity-has-a-plan-to-sell-ads/)"
      ],
      "text/plain": [
       "<IPython.core.display.Markdown object>"
      ]
     },
     "metadata": {},
     "output_type": "display_data"
    },
    {
     "data": {
      "text/markdown": [
       "___"
      ],
      "text/plain": [
       "<IPython.core.display.Markdown object>"
      ]
     },
     "metadata": {},
     "output_type": "display_data"
    },
    {
     "data": {
      "text/markdown": [
       "[How MIT's David Autor Decided A.I. Might Benefit the Middle Class](https://www.nytimes.com/2024/04/01/business/ai-tech-economy.html)"
      ],
      "text/plain": [
       "<IPython.core.display.Markdown object>"
      ]
     },
     "metadata": {},
     "output_type": "display_data"
    },
    {
     "data": {
      "text/markdown": [
       "___"
      ],
      "text/plain": [
       "<IPython.core.display.Markdown object>"
      ]
     },
     "metadata": {},
     "output_type": "display_data"
    },
    {
     "data": {
      "image/jpeg": "[encoded data removed]",
      "text/plain": [
       "<IPython.core.display.Image object>"
      ]
     },
     "metadata": {},
     "output_type": "display_data"
    },
    {
     "data": {
      "text/markdown": [
       "[Bill Burr: I'm afraid of robots (2022)](https://www.youtube.com/watch?v=ZjY2bUKrIhg#t=1m20s) - YouTube"
      ],
      "text/plain": [
       "<IPython.core.display.Markdown object>"
      ]
     },
     "metadata": {},
     "output_type": "display_data"
    },
    {
     "data": {
      "text/markdown": [
       "___"
      ],
      "text/plain": [
       "<IPython.core.display.Markdown object>"
      ]
     },
     "metadata": {},
     "output_type": "display_data"
    },
    {
     "data": {
      "image/jpeg": "[encoded data removed]",
      "text/plain": [
       "<IPython.core.display.Image object>"
      ]
     },
     "metadata": {},
     "output_type": "display_data"
    },
    {
     "data": {
      "text/markdown": [
       "[ChatGPT will be open to all, and no longer require an account but with more content restrictions.](https://techcrunch.com/2024/04/01/chatgpt-no-longer-requires-an-account-but-theres-a-catch/) - TechCrunch"
      ],
      "text/plain": [
       "<IPython.core.display.Markdown object>"
      ]
     },
     "metadata": {},
     "output_type": "display_data"
    },
    {
     "data": {
      "text/markdown": [
       "___"
      ],
      "text/plain": [
       "<IPython.core.display.Markdown object>"
      ]
     },
     "metadata": {},
     "output_type": "display_data"
    },
    {
     "data": {
      "text/markdown": [
       "[WSJ profiles Demis Hassabis](https://www.wsj.com/tech/ai/the-chess-master-trying-to-propel-googles-ai-push-30c15788)"
      ],
      "text/plain": [
       "<IPython.core.display.Markdown object>"
      ]
     },
     "metadata": {},
     "output_type": "display_data"
    },
    {
     "data": {
      "text/markdown": [
       "___"
      ],
      "text/plain": [
       "<IPython.core.display.Markdown object>"
      ]
     },
     "metadata": {},
     "output_type": "display_data"
    },
    {
     "data": {
      "text/markdown": [
       "[I assume this is a joke, cool but I ain't reading all that tho](https://warontherocks.com/2024/04/from-war-on-the-rocks-to-ai-on-the-rocks-a-new-chapter-for-an-ambitious-project/)"
      ],
      "text/plain": [
       "<IPython.core.display.Markdown object>"
      ]
     },
     "metadata": {},
     "output_type": "display_data"
    },
    {
     "data": {
      "text/markdown": [
       "___"
      ],
      "text/plain": [
       "<IPython.core.display.Markdown object>"
      ]
     },
     "metadata": {},
     "output_type": "display_data"
    },
    {
     "data": {
      "image/jpeg": "[encoded data removed]",
      "text/plain": [
       "<IPython.core.display.Image object>"
      ]
     },
     "metadata": {},
     "output_type": "display_data"
    },
    {
     "data": {
      "text/markdown": [
       "[Googles SGE gives much worse answers than expected, a lot more frequently than expected](https://www.washingtonpost.com/technology/2024/04/01/new-ai-google-search-sge/) - Washington Post"
      ],
      "text/plain": [
       "<IPython.core.display.Markdown object>"
      ]
     },
     "metadata": {},
     "output_type": "display_data"
    },
    {
     "data": {
      "text/markdown": [
       "___"
      ],
      "text/plain": [
       "<IPython.core.display.Markdown object>"
      ]
     },
     "metadata": {},
     "output_type": "display_data"
    },
    {
     "data": {
      "text/markdown": [
       "[If you want to train bigger LLMs, you need more data but we're getting to the point where they have used all the data, there literally is no more data.](https://www.wsj.com/tech/ai/ai-training-data-synthetic-openai-anthropic-9230f8d8)"
      ],
      "text/plain": [
       "<IPython.core.display.Markdown object>"
      ]
     },
     "metadata": {},
     "output_type": "display_data"
    },
    {
     "data": {
      "text/markdown": [
       "___"
      ],
      "text/plain": [
       "<IPython.core.display.Markdown object>"
      ]
     },
     "metadata": {},
     "output_type": "display_data"
    },
    {
     "data": {
      "text/markdown": [
       "[Will AI Boost Productivity? Or will it be like PCs when they took off, and economists said, you see tech everywhere except in the productivity statistics?](https://www.nytimes.com/2024/04/01/business/economy/artificial-intelligence-productivity.html)"
      ],
      "text/plain": [
       "<IPython.core.display.Markdown object>"
      ]
     },
     "metadata": {},
     "output_type": "display_data"
    },
    {
     "data": {
      "text/markdown": [
       "___"
      ],
      "text/plain": [
       "<IPython.core.display.Markdown object>"
      ]
     },
     "metadata": {},
     "output_type": "display_data"
    },
    {
     "data": {
      "image/jpeg": "[encoded data removed]",
      "text/plain": [
       "<IPython.core.display.Image object>"
      ]
     },
     "metadata": {},
     "output_type": "display_data"
    },
    {
     "data": {
      "text/markdown": [
       "[April fools or no? I can't tell, you be the judge](https://www.scmp.com/tech/tech-trends/article/3257463/alibaba-test-rocket-parcel-delivery-service-lofty-attempt-ship-goods-anywhere-world-within-hour?utm_source=rss_feed) - South China Morning Post"
      ],
      "text/plain": [
       "<IPython.core.display.Markdown object>"
      ]
     },
     "metadata": {},
     "output_type": "display_data"
    },
    {
     "data": {
      "text/markdown": [
       "___"
      ],
      "text/plain": [
       "<IPython.core.display.Markdown object>"
      ]
     },
     "metadata": {},
     "output_type": "display_data"
    },
    {
     "name": "stderr",
     "output_type": "stream",
     "text": [
      "Some characters could not be decoded, and were replaced with REPLACEMENT CHARACTER.\n"
     ]
    },
    {
     "data": {
      "text/markdown": [
       "[Apple has a paper on 'reference resolution'. A while back I scraped reddit threads for music with ChatGPT, it's was quite good at noticing, if someone said, 'Disturbed has a great cover', they were talking about 'The Sounds of Silence' mentioned in a parent post.](https://arxiv.org/pdf/2403.20329.pdf)"
      ],
      "text/plain": [
       "<IPython.core.display.Markdown object>"
      ]
     },
     "metadata": {},
     "output_type": "display_data"
    },
    {
     "data": {
      "text/markdown": [
       "___"
      ],
      "text/plain": [
       "<IPython.core.display.Markdown object>"
      ]
     },
     "metadata": {},
     "output_type": "display_data"
    },
    {
     "data": {
      "text/markdown": [
       "McKinsey's Iguazio releases a new BarkLM LLM for dogs"
      ],
      "text/plain": [
       "<IPython.core.display.Markdown object>"
      ]
     },
     "metadata": {},
     "output_type": "display_data"
    },
    {
     "data": {
      "text/markdown": [
       "[AI shenanigans](https://www.ictworks.org/gates-foundation-genai-copilot/)"
      ],
      "text/plain": [
       "<IPython.core.display.Markdown object>"
      ]
     },
     "metadata": {},
     "output_type": "display_data"
    },
    {
     "data": {
      "text/markdown": [
       "___"
      ],
      "text/plain": [
       "<IPython.core.display.Markdown object>"
      ]
     },
     "metadata": {},
     "output_type": "display_data"
    },
    {
     "data": {
      "text/markdown": [
       "[Short sellers gonna have a field day with AI hype artists.](https://www.capybararesearch.com/reports/SoundHound-AI-Fake-Revenue-Fake-Bookings-and-Fake-AI/)"
      ],
      "text/plain": [
       "<IPython.core.display.Markdown object>"
      ]
     },
     "metadata": {},
     "output_type": "display_data"
    },
    {
     "data": {
      "text/markdown": [
       "___"
      ],
      "text/plain": [
       "<IPython.core.display.Markdown object>"
      ]
     },
     "metadata": {},
     "output_type": "display_data"
    },
    {
     "data": {
      "image/jpeg": "[encoded data removed]",
      "text/plain": [
       "<IPython.core.display.Image object>"
      ]
     },
     "metadata": {},
     "output_type": "display_data"
    },
    {
     "data": {
      "text/markdown": [
       "[Get ready to argue with your hallucinatory fridge.](https://www.forbes.com/sites/bernardmarr/2024/03/29/generative-ai-is-coming-to-your-home-appliances/?sh=2dfd12c87640) - Forbes"
      ],
      "text/plain": [
       "<IPython.core.display.Markdown object>"
      ]
     },
     "metadata": {},
     "output_type": "display_data"
    },
    {
     "data": {
      "text/markdown": [
       "___"
      ],
      "text/plain": [
       "<IPython.core.display.Markdown object>"
      ]
     },
     "metadata": {},
     "output_type": "display_data"
    },
    {
     "data": {
      "image/jpeg": "[encoded data removed]",
      "text/plain": [
       "<IPython.core.display.Image object>"
      ]
     },
     "metadata": {},
     "output_type": "display_data"
    },
    {
     "data": {
      "text/markdown": [
       "[Be wary of April Fools shenanigans today!](https://www.tweaktown.com/news/97253/nvidia-buys-xbox-brand-from-microsoft-next-gen-has-dual-gpus-ai-to-fight-playstation-6/index.html) - TweakTown"
      ],
      "text/plain": [
       "<IPython.core.display.Markdown object>"
      ]
     },
     "metadata": {},
     "output_type": "display_data"
    },
    {
     "data": {
      "text/markdown": [
       "___"
      ],
      "text/plain": [
       "<IPython.core.display.Markdown object>"
      ]
     },
     "metadata": {},
     "output_type": "display_data"
    },
    {
     "data": {
      "image/jpeg": "[encoded data removed]",
      "text/plain": [
       "<IPython.core.display.Image object>"
      ]
     },
     "metadata": {},
     "output_type": "display_data"
    },
    {
     "data": {
      "text/markdown": [
       "[Maybe Super Siri, possibly with a pin companion, could record your life and let you ask questions about it, never forget someone's name they just told you or where you left your keys](https://www.wired.com/story/apple-google-gemini-iphone/) - WIRED"
      ],
      "text/plain": [
       "<IPython.core.display.Markdown object>"
      ]
     },
     "metadata": {},
     "output_type": "display_data"
    },
    {
     "data": {
      "text/markdown": [
       "___"
      ],
      "text/plain": [
       "<IPython.core.display.Markdown object>"
      ]
     },
     "metadata": {},
     "output_type": "display_data"
    },
    {
     "data": {
      "image/jpeg": "[encoded data removed]",
      "text/plain": [
       "<IPython.core.display.Image object>"
      ]
     },
     "metadata": {},
     "output_type": "display_data"
    },
    {
     "data": {
      "text/markdown": [
       "[AI horror stories in education. Hey learning to copy and paste is a skill.](https://www.yahoo.com/lifestyle/educators-sharing-student-ai-changed-200945857.html) - Yahoo Life"
      ],
      "text/plain": [
       "<IPython.core.display.Markdown object>"
      ]
     },
     "metadata": {},
     "output_type": "display_data"
    },
    {
     "data": {
      "text/markdown": [
       "___"
      ],
      "text/plain": [
       "<IPython.core.display.Markdown object>"
      ]
     },
     "metadata": {},
     "output_type": "display_data"
    },
    {
     "data": {
      "image/jpeg": "[encoded data removed]",
      "text/plain": [
       "<IPython.core.display.Image object>"
      ]
     },
     "metadata": {},
     "output_type": "display_data"
    },
    {
     "data": {
      "text/markdown": [
       "[Musk: AGI next year](https://www.webpronews.com/elon-musks-bold-prediction-artificial-general-intelligence-by-2025/) - WebProNews"
      ],
      "text/plain": [
       "<IPython.core.display.Markdown object>"
      ]
     },
     "metadata": {},
     "output_type": "display_data"
    },
    {
     "data": {
      "text/markdown": [
       "___"
      ],
      "text/plain": [
       "<IPython.core.display.Markdown object>"
      ]
     },
     "metadata": {},
     "output_type": "display_data"
    },
    {
     "data": {
      "image/jpeg": "[encoded data removed]",
      "text/plain": [
       "<IPython.core.display.Image object>"
      ]
     },
     "metadata": {},
     "output_type": "display_data"
    },
    {
     "data": {
      "text/markdown": [
       "[Elon says 20% chance AI destroys humanity, but full steam ahead anyway.](https://www.businessinsider.com/elon-musk-20-percent-chance-ai-destroys-humanity-2024-3) - Business Insider"
      ],
      "text/plain": [
       "<IPython.core.display.Markdown object>"
      ]
     },
     "metadata": {},
     "output_type": "display_data"
    },
    {
     "data": {
      "text/markdown": [
       "___"
      ],
      "text/plain": [
       "<IPython.core.display.Markdown object>"
      ]
     },
     "metadata": {},
     "output_type": "display_data"
    },
    {
     "data": {
      "text/markdown": [
       "[The MAD landscape 2024, if you need to wallpaper the Great Wall or something. mattturck.com/mad2024/](https://mattturck.com/mad2024/)"
      ],
      "text/plain": [
       "<IPython.core.display.Markdown object>"
      ]
     },
     "metadata": {},
     "output_type": "display_data"
    },
    {
     "data": {
      "text/markdown": [
       "___"
      ],
      "text/plain": [
       "<IPython.core.display.Markdown object>"
      ]
     },
     "metadata": {},
     "output_type": "display_data"
    },
    {
     "data": {
      "text/markdown": [
       "[When emotional AI crosses that uncanny valley, which it's starting to do, it's freaky and you have to ask if that is good or healthy or ethical. Maybe all robots should be recognizable as robots and stay on the C3PO side of the uncanny value.](https://theconversation.com/increasingly-sophisticated-ai-systems-can-perform-empathy-but-their-use-in-mental-health-care-raises-ethical-questions-225498)"
      ],
      "text/plain": [
       "<IPython.core.display.Markdown object>"
      ]
     },
     "metadata": {},
     "output_type": "display_data"
    },
    {
     "data": {
      "text/markdown": [
       "___"
      ],
      "text/plain": [
       "<IPython.core.display.Markdown object>"
      ]
     },
     "metadata": {},
     "output_type": "display_data"
    },
    {
     "data": {
      "text/markdown": [
       "[Survey: 40 Percent of Managers Hope to Replace Some Workers With AI This Year.](https://www.inc.com/kit-eaton/report-forty-precent-of-managers-hope-to-replace-some-workers-with-ai-this-year.html)"
      ],
      "text/plain": [
       "<IPython.core.display.Markdown object>"
      ]
     },
     "metadata": {},
     "output_type": "display_data"
    },
    {
     "data": {
      "text/markdown": [
       "___"
      ],
      "text/plain": [
       "<IPython.core.display.Markdown object>"
      ]
     },
     "metadata": {},
     "output_type": "display_data"
    },
    {
     "data": {
      "image/jpeg": "[encoded data removed]",
      "text/plain": [
       "<IPython.core.display.Image object>"
      ]
     },
     "metadata": {},
     "output_type": "display_data"
    },
    {
     "data": {
      "text/markdown": [
       "[Google having trouble keeping its story straight about on-device Nano AI on Pixels, now says RAM is the problem but you will be able to turn it on via a developer option.](https://www.tomsguide.com/phones/pixel-8s-initial-gemini-ai-snub-was-down-to-ram-google-says) - Tom's Guide"
      ],
      "text/plain": [
       "<IPython.core.display.Markdown object>"
      ]
     },
     "metadata": {},
     "output_type": "display_data"
    },
    {
     "data": {
      "text/markdown": [
       "___"
      ],
      "text/plain": [
       "<IPython.core.display.Markdown object>"
      ]
     },
     "metadata": {},
     "output_type": "display_data"
    },
    {
     "data": {
      "text/markdown": [
       "[OpenDevin attempts to replicate the Devin AI software engineer with open source www.geeky-gadgets.com/opendevin-ai...](https://www.geeky-gadgets.com/opendevin-ai-software-engineer/)"
      ],
      "text/plain": [
       "<IPython.core.display.Markdown object>"
      ]
     },
     "metadata": {},
     "output_type": "display_data"
    },
    {
     "data": {
      "text/markdown": [
       "___"
      ],
      "text/plain": [
       "<IPython.core.display.Markdown object>"
      ]
     },
     "metadata": {},
     "output_type": "display_data"
    },
    {
     "data": {
      "text/markdown": [
       "[What Fritz Lang's 1927 Metropolis has to teach us about the AI revolution.](https://www.bloomberg.com/opinion/articles/2024-03-31/ai-may-turn-the-economy-into-a-disaster-movie-lufgz9kg)"
      ],
      "text/plain": [
       "<IPython.core.display.Markdown object>"
      ]
     },
     "metadata": {},
     "output_type": "display_data"
    },
    {
     "data": {
      "text/markdown": [
       "___"
      ],
      "text/plain": [
       "<IPython.core.display.Markdown object>"
      ]
     },
     "metadata": {},
     "output_type": "display_data"
    },
    {
     "data": {
      "image/jpeg": "[encoded data removed]",
      "text/plain": [
       "<IPython.core.display.Image object>"
      ]
     },
     "metadata": {},
     "output_type": "display_data"
    },
    {
     "data": {
      "text/markdown": [
       "[Self-driving trucks coming to America's highways. I could sort of see 2 drivers accompanying a 10-truck train between depots without local driving. Independent self-driving trucks can get stuck in the middle of nowhere or hijacked, and longer trains can create traffic problems.](https://www.washingtonpost.com/technology/2024/03/31/autonomous-semi-truck-jobs-regulation/) - Washington Post"
      ],
      "text/plain": [
       "<IPython.core.display.Markdown object>"
      ]
     },
     "metadata": {},
     "output_type": "display_data"
    },
    {
     "data": {
      "text/markdown": [
       "___"
      ],
      "text/plain": [
       "<IPython.core.display.Markdown object>"
      ]
     },
     "metadata": {},
     "output_type": "display_data"
    },
    {
     "data": {
      "image/jpeg": "[encoded data removed]",
      "text/plain": [
       "<IPython.core.display.Image object>"
      ]
     },
     "metadata": {},
     "output_type": "display_data"
    },
    {
     "data": {
      "text/markdown": [
       "[MIT paper starts to figure out how LLMs store a knowledge graph. IIUC they write functions that look up information in the params to answer questions like, what instrument does Miles Davis play, without running the full LLM. If you know how info is stored, then you can update it without retraining.](https://news.mit.edu/2024/large-language-models-use-surprisingly-simple-mechanism-retrieve-stored-knowledge-0325) - MIT News | Massachusetts Institute of Technology"
      ],
      "text/plain": [
       "<IPython.core.display.Markdown object>"
      ]
     },
     "metadata": {},
     "output_type": "display_data"
    },
    {
     "data": {
      "text/markdown": [
       "___"
      ],
      "text/plain": [
       "<IPython.core.display.Markdown object>"
      ]
     },
     "metadata": {},
     "output_type": "display_data"
    },
    {
     "data": {
      "image/jpeg": "[encoded data removed]",
      "text/plain": [
       "<IPython.core.display.Image object>"
      ]
     },
     "metadata": {},
     "output_type": "display_data"
    },
    {
     "data": {
      "text/markdown": [
       "[Satya Nadella is truly the GOAT, says his greatest use case for gen-AI was helping him understand Heidegger.](https://www.businessinsider.com/ai-hacks-of-execs-including-meta-google-and-microsofts-ceo-2024-3#meta-ceo-mark-zuckerberg-built-a-personal-ai-assistant-called-jarvis-to-manage-different-parts-of-his-home-9) - Business Insider"
      ],
      "text/plain": [
       "<IPython.core.display.Markdown object>"
      ]
     },
     "metadata": {},
     "output_type": "display_data"
    },
    {
     "data": {
      "text/markdown": [
       "___"
      ],
      "text/plain": [
       "<IPython.core.display.Markdown object>"
      ]
     },
     "metadata": {},
     "output_type": "display_data"
    },
    {
     "name": "stderr",
     "output_type": "stream",
     "text": [
      "Some characters could not be decoded, and were replaced with REPLACEMENT CHARACTER.\n"
     ]
    },
    {
     "data": {
      "text/markdown": [
       "[Fed economists ask, does gen-AI represent a turning point in the labor share of national income, and will it go up or down?](https://www.philadelphiafed.org/-/media/frbp/assets/economy/articles/economic-insights/2024/q1/eiq124-generative-ai-a-turning-point-for-labors-share.pdf?utm_source=pocket_saves)"
      ],
      "text/plain": [
       "<IPython.core.display.Markdown object>"
      ]
     },
     "metadata": {},
     "output_type": "display_data"
    },
    {
     "data": {
      "text/markdown": [
       "___"
      ],
      "text/plain": [
       "<IPython.core.display.Markdown object>"
      ]
     },
     "metadata": {},
     "output_type": "display_data"
    },
    {
     "data": {
      "text/markdown": [
       "[Will gen-AI make labor more productive and workers more empowered, or gig-ify everything?](https://www.politico.com/news/magazine/2024/03/31/ai-labor-power-schuler-00144086)"
      ],
      "text/plain": [
       "<IPython.core.display.Markdown object>"
      ]
     },
     "metadata": {},
     "output_type": "display_data"
    },
    {
     "data": {
      "text/markdown": [
       "___"
      ],
      "text/plain": [
       "<IPython.core.display.Markdown object>"
      ]
     },
     "metadata": {},
     "output_type": "display_data"
    },
    {
     "data": {
      "image/jpeg": "[encoded data removed]",
      "text/plain": [
       "<IPython.core.display.Image object>"
      ]
     },
     "metadata": {},
     "output_type": "display_data"
    },
    {
     "data": {
      "text/markdown": [
       "[Exploring Chicago with Copilot, who needs travel buddies or bar debates about deep dish vs tavern pizza?](https://www.zdnet.com/article/microsoft-has-a-clever-way-of-showing-you-ai-is-normal-especially-if-youre-alone/) - ZDNET"
      ],
      "text/plain": [
       "<IPython.core.display.Markdown object>"
      ]
     },
     "metadata": {},
     "output_type": "display_data"
    },
    {
     "data": {
      "text/markdown": [
       "___"
      ],
      "text/plain": [
       "<IPython.core.display.Markdown object>"
      ]
     },
     "metadata": {},
     "output_type": "display_data"
    },
    {
     "data": {
      "text/markdown": [
       "[Demis Hassabis says there is an excess of AI hype and at the same time we underrate the progress AI will deliver humanity, wishes we focused more on science and less on hacking.](https://www.ft.com/content/774901e5-e831-4e0b-b0a1-e4b5b0032fb8)"
      ],
      "text/plain": [
       "<IPython.core.display.Markdown object>"
      ]
     },
     "metadata": {},
     "output_type": "display_data"
    },
    {
     "data": {
      "text/markdown": [
       "___"
      ],
      "text/plain": [
       "<IPython.core.display.Markdown object>"
      ]
     },
     "metadata": {},
     "output_type": "display_data"
    },
    {
     "data": {
      "image/jpeg": "[encoded data removed]",
      "text/plain": [
       "<IPython.core.display.Image object>"
      ]
     },
     "metadata": {},
     "output_type": "display_data"
    },
    {
     "data": {
      "text/markdown": [
       "[ChatGPT is predictably wishy-washy on this question](https://chat.openai.com/share/0bb30f44-d6ec-4d6b-8521-4c0d60230650)"
      ],
      "text/plain": [
       "<IPython.core.display.Markdown object>"
      ]
     },
     "metadata": {},
     "output_type": "display_data"
    },
    {
     "data": {
      "text/markdown": [
       "___"
      ],
      "text/plain": [
       "<IPython.core.display.Markdown object>"
      ]
     },
     "metadata": {},
     "output_type": "display_data"
    },
    {
     "data": {
      "text/markdown": [
       "Does ChatGPT disprove Chomsky's universal grammar? I think we speak like ChatGPT and human grammar would be more consistent if it was innate. But a child only hears maybe a few million words by age 5. Maybe there is at least a universal tokenizer or a tiny bit of low-level innate language circuitry?"
      ],
      "text/plain": [
       "<IPython.core.display.Markdown object>"
      ]
     },
     "metadata": {},
     "output_type": "display_data"
    },
    {
     "data": {
      "image/jpeg": "[encoded data removed]",
      "text/plain": [
       "<IPython.core.display.Image object>"
      ]
     },
     "metadata": {},
     "output_type": "display_data"
    },
    {
     "data": {
      "text/markdown": [
       "[A Nikkei interview with Geoffrey Hinton.](https://asia.nikkei.com/Business/Technology/Godfather-of-AI-speaks-on-threat-of-tech-surpassing-humanity) - Nikkei Asia"
      ],
      "text/plain": [
       "<IPython.core.display.Markdown object>"
      ]
     },
     "metadata": {},
     "output_type": "display_data"
    },
    {
     "data": {
      "text/markdown": [
       "___"
      ],
      "text/plain": [
       "<IPython.core.display.Markdown object>"
      ]
     },
     "metadata": {},
     "output_type": "display_data"
    }
   ],
   "source": [
    "imgdir = 'tmp'  # for images\n",
    "delete_files(imgdir)\n",
    "\n",
    "display(Markdown(f\"Follow the latest AI headlines via [SkynetAndChill.com on Bluesky](https://bsky.app/profile/skynetandchill.com)\"))\n",
    "\n",
    "\n",
    "for i, post in enumerate(data.feed):\n",
    "    post_str = post.post.record.text.rstrip()\n",
    "    post_str = truncate_last_occurrence(post_str)\n",
    "    post_url = \"\"\n",
    "    tag_dict = {}\n",
    "    try:\n",
    "        post_url = post.post.record.embed.external.uri.rstrip()\n",
    "    except:\n",
    "        pass\n",
    "    if post_url:\n",
    "        tag_dict = get_og_tags(post_url)\n",
    "        display_str = f\"[{post_str}]({post_url})\"\n",
    "        site_name = tag_dict.get('og:site_name')\n",
    "        img_url = tag_dict.get('og:image')\n",
    "        if site_name:\n",
    "            display_str += f\" - {site_name}\"\n",
    "        if img_url:\n",
    "            try:\n",
    "                r = rawfetchurl(img_url)\n",
    "                content_type = r.headers['Content-Type']\n",
    "                content_type = content_type[content_type.find('/')+1:]\n",
    "                impath = f\"{imgdir}/source{i}.{content_type}\"\n",
    "                with open(impath, 'wb') as file:\n",
    "                    file.write(r.content)\n",
    "                output_path = f'{imgdir}/Image{i}.jpg'\n",
    "                resize_and_crop(impath, output_path)\n",
    "                display(IPython.display.Image(filename=output_path))\n",
    "            except Exception as e:\n",
    "                print(e)\n",
    "        display(Markdown(display_str))\n",
    "        display(Markdown(\"___\"))\n",
    "\n",
    "    else:\n",
    "        display(Markdown(f\"{post_str}\"))"
   ]
  },
  {
   "cell_type": "code",
   "execution_count": 51,
   "id": "b2206e03",
   "metadata": {},
   "outputs": [
    {
     "ename": "AttributeError",
     "evalue": "'Main' object has no attribute 'external'",
     "output_type": "error",
     "traceback": [
      "\u001b[0;31m---------------------------------------------------------------------------\u001b[0m",
      "\u001b[0;31mKeyError\u001b[0m                                  Traceback (most recent call last)",
      "File \u001b[0;32m~/anaconda3/envs/ainewsbot/lib/python3.9/site-packages/pydantic/main.py:759\u001b[0m, in \u001b[0;36mBaseModel.__getattr__\u001b[0;34m(self, item)\u001b[0m\n\u001b[1;32m    758\u001b[0m \u001b[38;5;28;01mtry\u001b[39;00m:\n\u001b[0;32m--> 759\u001b[0m     \u001b[38;5;28;01mreturn\u001b[39;00m \u001b[43mpydantic_extra\u001b[49m\u001b[43m[\u001b[49m\u001b[43mitem\u001b[49m\u001b[43m]\u001b[49m\n\u001b[1;32m    760\u001b[0m \u001b[38;5;28;01mexcept\u001b[39;00m \u001b[38;5;167;01mKeyError\u001b[39;00m \u001b[38;5;28;01mas\u001b[39;00m exc:\n",
      "\u001b[0;31mKeyError\u001b[0m: 'external'",
      "\nThe above exception was the direct cause of the following exception:\n",
      "\u001b[0;31mAttributeError\u001b[0m                            Traceback (most recent call last)",
      "Cell \u001b[0;32mIn[51], line 1\u001b[0m\n\u001b[0;32m----> 1\u001b[0m \u001b[43mdata\u001b[49m\u001b[38;5;241;43m.\u001b[39;49m\u001b[43mfeed\u001b[49m\u001b[43m[\u001b[49m\u001b[38;5;241;43m0\u001b[39;49m\u001b[43m]\u001b[49m\u001b[38;5;241;43m.\u001b[39;49m\u001b[43mpost\u001b[49m\u001b[38;5;241;43m.\u001b[39;49m\u001b[43mrecord\u001b[49m\u001b[38;5;241;43m.\u001b[39;49m\u001b[43membed\u001b[49m\u001b[38;5;241;43m.\u001b[39;49m\u001b[43mexternal\u001b[49m\u001b[38;5;241m.\u001b[39mthumb\u001b[38;5;241m.\u001b[39mdict()\n",
      "File \u001b[0;32m~/anaconda3/envs/ainewsbot/lib/python3.9/site-packages/pydantic/main.py:761\u001b[0m, in \u001b[0;36mBaseModel.__getattr__\u001b[0;34m(self, item)\u001b[0m\n\u001b[1;32m    759\u001b[0m         \u001b[38;5;28;01mreturn\u001b[39;00m pydantic_extra[item]\n\u001b[1;32m    760\u001b[0m     \u001b[38;5;28;01mexcept\u001b[39;00m \u001b[38;5;167;01mKeyError\u001b[39;00m \u001b[38;5;28;01mas\u001b[39;00m exc:\n\u001b[0;32m--> 761\u001b[0m         \u001b[38;5;28;01mraise\u001b[39;00m \u001b[38;5;167;01mAttributeError\u001b[39;00m(\u001b[38;5;124mf\u001b[39m\u001b[38;5;124m'\u001b[39m\u001b[38;5;132;01m{\u001b[39;00m\u001b[38;5;28mtype\u001b[39m(\u001b[38;5;28mself\u001b[39m)\u001b[38;5;241m.\u001b[39m\u001b[38;5;18m__name__\u001b[39m\u001b[38;5;132;01m!r}\u001b[39;00m\u001b[38;5;124m object has no attribute \u001b[39m\u001b[38;5;132;01m{\u001b[39;00mitem\u001b[38;5;132;01m!r}\u001b[39;00m\u001b[38;5;124m'\u001b[39m) \u001b[38;5;28;01mfrom\u001b[39;00m \u001b[38;5;21;01mexc\u001b[39;00m\n\u001b[1;32m    762\u001b[0m \u001b[38;5;28;01melse\u001b[39;00m:\n\u001b[1;32m    763\u001b[0m     \u001b[38;5;28;01mif\u001b[39;00m \u001b[38;5;28mhasattr\u001b[39m(\u001b[38;5;28mself\u001b[39m\u001b[38;5;241m.\u001b[39m\u001b[38;5;18m__class__\u001b[39m, item):\n",
      "\u001b[0;31mAttributeError\u001b[0m: 'Main' object has no attribute 'external'"
     ]
    }
   ],
   "source": [
    "data.feed[0].post.record.embed.external.thumb.dict()"
   ]
  },
  {
   "cell_type": "code",
   "execution_count": null,
   "id": "e22a81b1",
   "metadata": {},
   "outputs": [],
   "source": [
    "data.feed[0].post.record.embed.dict()"
   ]
  },
  {
   "cell_type": "code",
   "execution_count": null,
   "id": "cd45e02f",
   "metadata": {},
   "outputs": [],
   "source": [
    "print(datetime.now())"
   ]
  },
  {
   "cell_type": "code",
   "execution_count": null,
   "id": "7c6f2b8e",
   "metadata": {},
   "outputs": [],
   "source": [
    "pd.read_sql_query(\"select * from news_articles where article_date > '2024-03-23'\", conn)\n"
   ]
  },
  {
   "cell_type": "code",
   "execution_count": 68,
   "id": "c140ba45-e82b-4c4d-98b5-76169587e58f",
   "metadata": {},
   "outputs": [
    {
     "data": {
      "text/plain": [
       "Response(feed=[FeedViewPost(post=PostView(author=ProfileViewBasic(did='did:plc:qomkdnxrqw3gkbytdxea5z65', handle='skynetandchill.com', associated=None, avatar='https://cdn.bsky.app/img/avatar/plain/did:plc:qomkdnxrqw3gkbytdxea5z65/bafkreifrqqv5leasjhgndik4yisfzpmes35jakmgwqdnwpw6hd4kzni66u@jpeg', display_name='SkynetAndChill.com', labels=[], viewer=ViewerState(blocked_by=False, blocking=None, blocking_by_list=None, followed_by=None, following=None, muted=False, muted_by_list=None, py_type='app.bsky.actor.defs#viewerState'), py_type='app.bsky.actor.defs#profileViewBasic'), cid='bafyreihkywyhqekfpzzylll2mxlr4ok3l3phwxio3fodezell65kgwxqiu', indexed_at='2024-03-29T14:51:41.637Z', record=Record(created_at='2024-03-29T14:51:41.637Z', text=\"You're not afraid of the AI, you're afraid of what the sophomoric techbros, maleducated morons, and master manipulators in a non-human-centered culture and economy will do with the AI\\nhackernoon.com/no-you-are-n...\", embed=Main(external=External(description='Are we humans holding Artificial Intelligence responsible for attitudes that are actually our gaps?', title='No, You Are Not Afraid of Artificial Intelligence. You’re Afraid of Other People | HackerNoon', uri='https://hackernoon.com/no-you-are-not-afraid-of-artificial-intelligence-youre-afraid-of-other-people', thumb=BlobRef(mime_type='image/jpeg', size=239328, ref=IpldLink(link='bafkreic2yk5qplsrampzifmgoc7ui5ljhjlcce4n6ebfa33xgvoaz6qjza'), py_type='blob'), py_type='app.bsky.embed.external#external'), py_type='app.bsky.embed.external'), entities=None, facets=[Main(features=[Link(uri='https://hackernoon.com/no-you-are-not-afraid-of-artificial-intelligence-youre-afraid-of-other-people', py_type='app.bsky.richtext.facet#link')], index=ByteSlice(byte_end=214, byte_start=184, py_type='app.bsky.richtext.facet#byteSlice'), py_type='app.bsky.richtext.facet')], labels=None, langs=['en'], reply=None, tags=None, py_type='app.bsky.feed.post'), uri='at://did:plc:qomkdnxrqw3gkbytdxea5z65/app.bsky.feed.post/3kotr5lyzal2z', embed=View(external=ViewExternal(description='Are we humans holding Artificial Intelligence responsible for attitudes that are actually our gaps?', title='No, You Are Not Afraid of Artificial Intelligence. You’re Afraid of Other People | HackerNoon', uri='https://hackernoon.com/no-you-are-not-afraid-of-artificial-intelligence-youre-afraid-of-other-people', thumb='https://cdn.bsky.app/img/feed_thumbnail/plain/did:plc:qomkdnxrqw3gkbytdxea5z65/bafkreic2yk5qplsrampzifmgoc7ui5ljhjlcce4n6ebfa33xgvoaz6qjza@jpeg', py_type='app.bsky.embed.external#viewExternal'), py_type='app.bsky.embed.external#view'), labels=[], like_count=0, reply_count=0, repost_count=0, threadgate=None, viewer=ViewerState(like=None, reply_disabled=None, repost=None, py_type='app.bsky.feed.defs#viewerState'), py_type='app.bsky.feed.defs#postView'), reason=None, reply=None, py_type='app.bsky.feed.defs#feedViewPost'), FeedViewPost(post=PostView(author=ProfileViewBasic(did='did:plc:qomkdnxrqw3gkbytdxea5z65', handle='skynetandchill.com', associated=None, avatar='https://cdn.bsky.app/img/avatar/plain/did:plc:qomkdnxrqw3gkbytdxea5z65/bafkreifrqqv5leasjhgndik4yisfzpmes35jakmgwqdnwpw6hd4kzni66u@jpeg', display_name='SkynetAndChill.com', labels=[], viewer=ViewerState(blocked_by=False, blocking=None, blocking_by_list=None, followed_by=None, following=None, muted=False, muted_by_list=None, py_type='app.bsky.actor.defs#viewerState'), py_type='app.bsky.actor.defs#profileViewBasic'), cid='bafyreia7rnmqacp4pmrrj5y452wtynxfvxaempnlqx2k7nxiks7q6gn564', indexed_at='2024-03-29T14:48:04.138Z', record=Record(created_at='2024-03-29T14:48:04.138Z', text='Using AI to make propaganda videos.', embed=Main(external=External(description='Chinese state media’s A Fractured America series shows how AI is beginning to shape Beijing’s influence campaigns.', title='China turns to AI in propaganda mocking the ‘American Dream’', uri='https://www.aljazeera.com/economy/2024/3/29/china-turns-to-ai-in-propaganda-mocking-the-american-dream', thumb=BlobRef(mime_type='image/jpeg', size=581045, ref=IpldLink(link='bafkreib7b627fdrllqy6zyl2yl5ecrot2td7izkjlo4wmmbznwcacg4ghy'), py_type='blob'), py_type='app.bsky.embed.external#external'), py_type='app.bsky.embed.external'), entities=None, facets=None, labels=None, langs=['en'], reply=None, tags=None, py_type='app.bsky.feed.post'), uri='at://did:plc:qomkdnxrqw3gkbytdxea5z65/app.bsky.feed.post/3kotqx4liwu27', embed=View(external=ViewExternal(description='Chinese state media’s A Fractured America series shows how AI is beginning to shape Beijing’s influence campaigns.', title='China turns to AI in propaganda mocking the ‘American Dream’', uri='https://www.aljazeera.com/economy/2024/3/29/china-turns-to-ai-in-propaganda-mocking-the-american-dream', thumb='https://cdn.bsky.app/img/feed_thumbnail/plain/did:plc:qomkdnxrqw3gkbytdxea5z65/bafkreib7b627fdrllqy6zyl2yl5ecrot2td7izkjlo4wmmbznwcacg4ghy@jpeg', py_type='app.bsky.embed.external#viewExternal'), py_type='app.bsky.embed.external#view'), labels=[], like_count=0, reply_count=0, repost_count=0, threadgate=None, viewer=ViewerState(like=None, reply_disabled=None, repost=None, py_type='app.bsky.feed.defs#viewerState'), py_type='app.bsky.feed.defs#postView'), reason=None, reply=None, py_type='app.bsky.feed.defs#feedViewPost'), FeedViewPost(post=PostView(author=ProfileViewBasic(did='did:plc:qomkdnxrqw3gkbytdxea5z65', handle='skynetandchill.com', associated=None, avatar='https://cdn.bsky.app/img/avatar/plain/did:plc:qomkdnxrqw3gkbytdxea5z65/bafkreifrqqv5leasjhgndik4yisfzpmes35jakmgwqdnwpw6hd4kzni66u@jpeg', display_name='SkynetAndChill.com', labels=[], viewer=ViewerState(blocked_by=False, blocking=None, blocking_by_list=None, followed_by=None, following=None, muted=False, muted_by_list=None, py_type='app.bsky.actor.defs#viewerState'), py_type='app.bsky.actor.defs#profileViewBasic'), cid='bafyreifhc7as6ixxffifqgbkm4qpgnrakyd7tipaupdiyp55h5wweewt3m', indexed_at='2024-03-29T14:45:51.267Z', record=Record(created_at='2024-03-29T14:45:51.267Z', text='An AI model can predict depression severity in White people based on their language, but not Black people.', embed=Main(external=External(description='NIH-supported study also found Black people with depression used different language compared to white people to express their thoughts on Facebook.', title='Analysis of social media language using AI models predicts depression', uri='https://www.nih.gov/news-events/news-releases/analysis-social-media-language-using-ai-models-predicts-depression-severity-white-americans-not-black-americans', thumb=BlobRef(mime_type='image/jpeg', size=371171, ref=IpldLink(link='bafkreifuw42mq575wcjyeflncdaapatiylwxmtvyyuchkpesuog3im4clm'), py_type='blob'), py_type='app.bsky.embed.external#external'), py_type='app.bsky.embed.external'), entities=None, facets=None, labels=None, langs=['en'], reply=None, tags=None, py_type='app.bsky.feed.post'), uri='at://did:plc:qomkdnxrqw3gkbytdxea5z65/app.bsky.feed.post/3kotqt5uca52l', embed=View(external=ViewExternal(description='NIH-supported study also found Black people with depression used different language compared to white people to express their thoughts on Facebook.', title='Analysis of social media language using AI models predicts depression', uri='https://www.nih.gov/news-events/news-releases/analysis-social-media-language-using-ai-models-predicts-depression-severity-white-americans-not-black-americans', thumb='https://cdn.bsky.app/img/feed_thumbnail/plain/did:plc:qomkdnxrqw3gkbytdxea5z65/bafkreifuw42mq575wcjyeflncdaapatiylwxmtvyyuchkpesuog3im4clm@jpeg', py_type='app.bsky.embed.external#viewExternal'), py_type='app.bsky.embed.external#view'), labels=[], like_count=0, reply_count=0, repost_count=0, threadgate=None, viewer=ViewerState(like=None, reply_disabled=None, repost=None, py_type='app.bsky.feed.defs#viewerState'), py_type='app.bsky.feed.defs#postView'), reason=None, reply=None, py_type='app.bsky.feed.defs#feedViewPost'), FeedViewPost(post=PostView(author=ProfileViewBasic(did='did:plc:qomkdnxrqw3gkbytdxea5z65', handle='skynetandchill.com', associated=None, avatar='https://cdn.bsky.app/img/avatar/plain/did:plc:qomkdnxrqw3gkbytdxea5z65/bafkreifrqqv5leasjhgndik4yisfzpmes35jakmgwqdnwpw6hd4kzni66u@jpeg', display_name='SkynetAndChill.com', labels=[], viewer=ViewerState(blocked_by=False, blocking=None, blocking_by_list=None, followed_by=None, following=None, muted=False, muted_by_list=None, py_type='app.bsky.actor.defs#viewerState'), py_type='app.bsky.actor.defs#profileViewBasic'), cid='bafyreidxvsj7sahsftug7v35wxurzsmpya6qkz2a77pkrakime7f4dfmyq', indexed_at='2024-03-29T14:42:32.955Z', record=Record(created_at='2024-03-29T14:42:32.955Z', text=\"Latimer, the 'Black Perplexity' more than a 'BlackGPT'.\", embed=Main(external=External(description='His startup, Latimer, is backed by Esther Dyson and is weaving Black data into AI model outputs.', title=\"In an ocean of white data, this founder is trying to make AI less biased. Just don't call it 'BlackGPT.'\", uri='https://www.businessinsider.com/john-pasmore-latimer-ai-biased-blackgpt-2024-3', thumb=BlobRef(mime_type='image/jpeg', size=805579, ref=IpldLink(link='bafkreiasohi4nfyxrs4oof7ioom4hmfuuwv7jbzxn53ajef2rsgboiqmli'), py_type='blob'), py_type='app.bsky.embed.external#external'), py_type='app.bsky.embed.external'), entities=None, facets=None, labels=None, langs=['en'], reply=None, tags=None, py_type='app.bsky.feed.post'), uri='at://did:plc:qomkdnxrqw3gkbytdxea5z65/app.bsky.feed.post/3kotqnaqusv2u', embed=View(external=ViewExternal(description='His startup, Latimer, is backed by Esther Dyson and is weaving Black data into AI model outputs.', title=\"In an ocean of white data, this founder is trying to make AI less biased. Just don't call it 'BlackGPT.'\", uri='https://www.businessinsider.com/john-pasmore-latimer-ai-biased-blackgpt-2024-3', thumb='https://cdn.bsky.app/img/feed_thumbnail/plain/did:plc:qomkdnxrqw3gkbytdxea5z65/bafkreiasohi4nfyxrs4oof7ioom4hmfuuwv7jbzxn53ajef2rsgboiqmli@jpeg', py_type='app.bsky.embed.external#viewExternal'), py_type='app.bsky.embed.external#view'), labels=[], like_count=0, reply_count=0, repost_count=0, threadgate=None, viewer=ViewerState(like=None, reply_disabled=None, repost=None, py_type='app.bsky.feed.defs#viewerState'), py_type='app.bsky.feed.defs#postView'), reason=None, reply=None, py_type='app.bsky.feed.defs#feedViewPost'), FeedViewPost(post=PostView(author=ProfileViewBasic(did='did:plc:qomkdnxrqw3gkbytdxea5z65', handle='skynetandchill.com', associated=None, avatar='https://cdn.bsky.app/img/avatar/plain/did:plc:qomkdnxrqw3gkbytdxea5z65/bafkreifrqqv5leasjhgndik4yisfzpmes35jakmgwqdnwpw6hd4kzni66u@jpeg', display_name='SkynetAndChill.com', labels=[], viewer=ViewerState(blocked_by=False, blocking=None, blocking_by_list=None, followed_by=None, following=None, muted=False, muted_by_list=None, py_type='app.bsky.actor.defs#viewerState'), py_type='app.bsky.actor.defs#profileViewBasic'), cid='bafyreierkbl3lby7avxvw7ldv4yduk6addenpnfhhifkelhmj7sxbh67uq', indexed_at='2024-03-29T14:34:19.964Z', record=Record(created_at='2024-03-29T14:34:19.964Z', text='Is gen AI an ecological disaster for the Internet, turning everything into gray goo?', embed=Main(external=External(description=\"AI-generated images, videos and writing are changing the internet, and the backlash isn't dying down.\", title='How The Generative AI Backlash Took Over The Internet', uri='https://www.forbes.com/sites/danidiplacido/2024/03/28/how-the-generative-ai-backlash-took-over-the-internet/?sh=5276420c6576', thumb=BlobRef(mime_type='image/jpeg', size=597908, ref=IpldLink(link='bafkreihowy766rt7xhdr74ftk3v6s6h5mbb6afneihsoscbwmfhe2ny3cq'), py_type='blob'), py_type='app.bsky.embed.external#external'), py_type='app.bsky.embed.external'), entities=None, facets=None, labels=None, langs=['en'], reply=None, tags=None, py_type='app.bsky.feed.post'), uri='at://did:plc:qomkdnxrqw3gkbytdxea5z65/app.bsky.feed.post/3kotq6kl6nv2m', embed=View(external=ViewExternal(description=\"AI-generated images, videos and writing are changing the internet, and the backlash isn't dying down.\", title='How The Generative AI Backlash Took Over The Internet', uri='https://www.forbes.com/sites/danidiplacido/2024/03/28/how-the-generative-ai-backlash-took-over-the-internet/?sh=5276420c6576', thumb='https://cdn.bsky.app/img/feed_thumbnail/plain/did:plc:qomkdnxrqw3gkbytdxea5z65/bafkreihowy766rt7xhdr74ftk3v6s6h5mbb6afneihsoscbwmfhe2ny3cq@jpeg', py_type='app.bsky.embed.external#viewExternal'), py_type='app.bsky.embed.external#view'), labels=[], like_count=0, reply_count=0, repost_count=0, threadgate=None, viewer=ViewerState(like=None, reply_disabled=None, repost=None, py_type='app.bsky.feed.defs#viewerState'), py_type='app.bsky.feed.defs#postView'), reason=None, reply=None, py_type='app.bsky.feed.defs#feedViewPost'), FeedViewPost(post=PostView(author=ProfileViewBasic(did='did:plc:qomkdnxrqw3gkbytdxea5z65', handle='skynetandchill.com', associated=None, avatar='https://cdn.bsky.app/img/avatar/plain/did:plc:qomkdnxrqw3gkbytdxea5z65/bafkreifrqqv5leasjhgndik4yisfzpmes35jakmgwqdnwpw6hd4kzni66u@jpeg', display_name='SkynetAndChill.com', labels=[], viewer=ViewerState(blocked_by=False, blocking=None, blocking_by_list=None, followed_by=None, following=None, muted=False, muted_by_list=None, py_type='app.bsky.actor.defs#viewerState'), py_type='app.bsky.actor.defs#profileViewBasic'), cid='bafyreif2jofofzy43mpj266fuvy6bgeirndeo5ukfzzqqx6bwtkzxb4jne', indexed_at='2024-03-29T14:32:41.465Z', record=Record(created_at='2024-03-29T14:32:41.465Z', text='Google rolling out on-device AI features on Pixel 8 using its Gemini Nano model', embed=Main(external=External(description='Google announced today that it will soon roll out on-device AI-powered features such as recording summaries and smart replies on the Pixel 8.', title='Google will soon roll out on-device AI-powered features on Pixel 8 | TechCrunch', uri='https://techcrunch.com/2024/03/28/google-gemini-nano-features-pixel-8-roll-out/', thumb=BlobRef(mime_type='image/jpeg', size=236954, ref=IpldLink(link='bafkreib33krdgr5s4ztloabnjrkanav6tocgc6yqfmvlmjgrinhm473bri'), py_type='blob'), py_type='app.bsky.embed.external#external'), py_type='app.bsky.embed.external'), entities=None, facets=None, labels=None, langs=['en'], reply=None, tags=None, py_type='app.bsky.feed.post'), uri='at://did:plc:qomkdnxrqw3gkbytdxea5z65/app.bsky.feed.post/3kotq3mn7bv2w', embed=View(external=ViewExternal(description='Google announced today that it will soon roll out on-device AI-powered features such as recording summaries and smart replies on the Pixel 8.', title='Google will soon roll out on-device AI-powered features on Pixel 8 | TechCrunch', uri='https://techcrunch.com/2024/03/28/google-gemini-nano-features-pixel-8-roll-out/', thumb='https://cdn.bsky.app/img/feed_thumbnail/plain/did:plc:qomkdnxrqw3gkbytdxea5z65/bafkreib33krdgr5s4ztloabnjrkanav6tocgc6yqfmvlmjgrinhm473bri@jpeg', py_type='app.bsky.embed.external#viewExternal'), py_type='app.bsky.embed.external#view'), labels=[], like_count=0, reply_count=0, repost_count=0, threadgate=None, viewer=ViewerState(like=None, reply_disabled=None, repost=None, py_type='app.bsky.feed.defs#viewerState'), py_type='app.bsky.feed.defs#postView'), reason=None, reply=None, py_type='app.bsky.feed.defs#feedViewPost'), FeedViewPost(post=PostView(author=ProfileViewBasic(did='did:plc:qomkdnxrqw3gkbytdxea5z65', handle='skynetandchill.com', associated=None, avatar='https://cdn.bsky.app/img/avatar/plain/did:plc:qomkdnxrqw3gkbytdxea5z65/bafkreifrqqv5leasjhgndik4yisfzpmes35jakmgwqdnwpw6hd4kzni66u@jpeg', display_name='SkynetAndChill.com', labels=[], viewer=ViewerState(blocked_by=False, blocking=None, blocking_by_list=None, followed_by=None, following=None, muted=False, muted_by_list=None, py_type='app.bsky.actor.defs#viewerState'), py_type='app.bsky.actor.defs#profileViewBasic'), cid='bafyreiesknlzevcmjcbmce6d5df6gfqf7hypz2jr4xomyi4i4y74tiweme', indexed_at='2024-03-29T14:29:08.525Z', record=Record(created_at='2024-03-29T14:29:08.525Z', text='Grok 1.5 coming next week.', embed=Main(external=External(description='Grok-1.5 appears to be a measurable upgrade over its predecessor, Grok-1 — at least judging by the published benchmark results and specs.', title=\"X's Grok chatbot will soon get an upgraded model, Grok-1.5 | TechCrunch\", uri='https://techcrunch.com/2024/03/28/xs-grok-chatbot-will-soon-get-an-upgraded-model-grok-1-5/', thumb=BlobRef(mime_type='image/jpeg', size=380699, ref=IpldLink(link='bafkreiejljb5fkalxg3jloricaa3yka2ebvcm5w6f24mcgaaz22t7zfp54'), py_type='blob'), py_type='app.bsky.embed.external#external'), py_type='app.bsky.embed.external'), entities=None, facets=None, labels=None, langs=['en'], reply=None, tags=None, py_type='app.bsky.feed.post'), uri='at://did:plc:qomkdnxrqw3gkbytdxea5z65/app.bsky.feed.post/3kotpvbkmlu2s', embed=View(external=ViewExternal(description='Grok-1.5 appears to be a measurable upgrade over its predecessor, Grok-1 — at least judging by the published benchmark results and specs.', title=\"X's Grok chatbot will soon get an upgraded model, Grok-1.5 | TechCrunch\", uri='https://techcrunch.com/2024/03/28/xs-grok-chatbot-will-soon-get-an-upgraded-model-grok-1-5/', thumb='https://cdn.bsky.app/img/feed_thumbnail/plain/did:plc:qomkdnxrqw3gkbytdxea5z65/bafkreiejljb5fkalxg3jloricaa3yka2ebvcm5w6f24mcgaaz22t7zfp54@jpeg', py_type='app.bsky.embed.external#viewExternal'), py_type='app.bsky.embed.external#view'), labels=[], like_count=0, reply_count=0, repost_count=0, threadgate=None, viewer=ViewerState(like=None, reply_disabled=None, repost=None, py_type='app.bsky.feed.defs#viewerState'), py_type='app.bsky.feed.defs#postView'), reason=None, reply=None, py_type='app.bsky.feed.defs#feedViewPost'), FeedViewPost(post=PostView(author=ProfileViewBasic(did='did:plc:qomkdnxrqw3gkbytdxea5z65', handle='skynetandchill.com', associated=None, avatar='https://cdn.bsky.app/img/avatar/plain/did:plc:qomkdnxrqw3gkbytdxea5z65/bafkreifrqqv5leasjhgndik4yisfzpmes35jakmgwqdnwpw6hd4kzni66u@jpeg', display_name='SkynetAndChill.com', labels=[], viewer=ViewerState(blocked_by=False, blocking=None, blocking_by_list=None, followed_by=None, following=None, muted=False, muted_by_list=None, py_type='app.bsky.actor.defs#viewerState'), py_type='app.bsky.actor.defs#profileViewBasic'), cid='bafyreieaxb2otqtqrtw7vibnva42olpqo4g7bh7iz7cbnkiqizkipzkbgy', indexed_at='2024-03-29T14:14:36.178Z', record=Record(created_at='2024-03-29T14:14:36.178Z', text=\"NYC rolled out an AI chatbot to help people understand how to do business in NYC, but it's giving the wrong answers. themarkup.org/news/2024/03...\", embed=Main(external=External(description='The Microsoft-powered bot says bosses can take workers’ tips and that landlords can discriminate based on source of income', title='NYC’s AI Chatbot Tells Businesses to Break the Law – The Markup', uri='https://themarkup.org/news/2024/03/29/nycs-ai-chatbot-tells-businesses-to-break-the-law', thumb=BlobRef(mime_type='image/jpeg', size=765654, ref=IpldLink(link='bafkreiekbkhmsmmb2jaenprmqbvo3lb4jntlhu4nnfrywywuuucoqt3j44'), py_type='blob'), py_type='app.bsky.embed.external#external'), py_type='app.bsky.embed.external'), entities=None, facets=[Main(features=[Link(uri='https://themarkup.org/news/2024/03/29/nycs-ai-chatbot-tells-businesses-to-break-the-law', py_type='app.bsky.richtext.facet#link')], index=ByteSlice(byte_end=146, byte_start=117, py_type='app.bsky.richtext.facet#byteSlice'), py_type='app.bsky.richtext.facet')], labels=None, langs=['en'], reply=None, tags=None, py_type='app.bsky.feed.post'), uri='at://did:plc:qomkdnxrqw3gkbytdxea5z65/app.bsky.feed.post/3kotp3bllps2w', embed=View(external=ViewExternal(description='The Microsoft-powered bot says bosses can take workers’ tips and that landlords can discriminate based on source of income', title='NYC’s AI Chatbot Tells Businesses to Break the Law – The Markup', uri='https://themarkup.org/news/2024/03/29/nycs-ai-chatbot-tells-businesses-to-break-the-law', thumb='https://cdn.bsky.app/img/feed_thumbnail/plain/did:plc:qomkdnxrqw3gkbytdxea5z65/bafkreiekbkhmsmmb2jaenprmqbvo3lb4jntlhu4nnfrywywuuucoqt3j44@jpeg', py_type='app.bsky.embed.external#viewExternal'), py_type='app.bsky.embed.external#view'), labels=[], like_count=0, reply_count=0, repost_count=0, threadgate=None, viewer=ViewerState(like=None, reply_disabled=None, repost=None, py_type='app.bsky.feed.defs#viewerState'), py_type='app.bsky.feed.defs#postView'), reason=None, reply=None, py_type='app.bsky.feed.defs#feedViewPost'), FeedViewPost(post=PostView(author=ProfileViewBasic(did='did:plc:qomkdnxrqw3gkbytdxea5z65', handle='skynetandchill.com', associated=None, avatar='https://cdn.bsky.app/img/avatar/plain/did:plc:qomkdnxrqw3gkbytdxea5z65/bafkreifrqqv5leasjhgndik4yisfzpmes35jakmgwqdnwpw6hd4kzni66u@jpeg', display_name='SkynetAndChill.com', labels=[], viewer=ViewerState(blocked_by=False, blocking=None, blocking_by_list=None, followed_by=None, following=None, muted=False, muted_by_list=None, py_type='app.bsky.actor.defs#viewerState'), py_type='app.bsky.actor.defs#profileViewBasic'), cid='bafyreic23ao2qfequubkd6fskycppqg7mouwdmrhrihuhiylcopbzin65u', indexed_at='2024-03-29T14:11:23.292Z', record=Record(created_at='2024-03-29T14:11:23.292Z', text=\"Hillary Clinton: 2016 disinformation was primitive compared to what's in store in 2024 with AI.\", embed=Main(external=External(description=\"2016 meddling was 'primitive' compared to what's ahead\", title=\"Hillary Clinton: 2024 is 'ground zero' for AI and elections\", uri='https://www.theregister.com/2024/03/29/hillary_clinton_election_ai/', thumb=BlobRef(mime_type='image/jpeg', size=821257, ref=IpldLink(link='bafkreibxxf22mjful2wnznqtiayauq4xuquw7ia3we6ox2y62hira762u4'), py_type='blob'), py_type='app.bsky.embed.external#external'), py_type='app.bsky.embed.external'), entities=None, facets=None, labels=None, langs=['en'], reply=None, tags=None, py_type='app.bsky.feed.post'), uri='at://did:plc:qomkdnxrqw3gkbytdxea5z65/app.bsky.feed.post/3kotovjn5ln2l', embed=View(external=ViewExternal(description=\"2016 meddling was 'primitive' compared to what's ahead\", title=\"Hillary Clinton: 2024 is 'ground zero' for AI and elections\", uri='https://www.theregister.com/2024/03/29/hillary_clinton_election_ai/', thumb='https://cdn.bsky.app/img/feed_thumbnail/plain/did:plc:qomkdnxrqw3gkbytdxea5z65/bafkreibxxf22mjful2wnznqtiayauq4xuquw7ia3we6ox2y62hira762u4@jpeg', py_type='app.bsky.embed.external#viewExternal'), py_type='app.bsky.embed.external#view'), labels=[], like_count=0, reply_count=0, repost_count=0, threadgate=None, viewer=ViewerState(like=None, reply_disabled=None, repost=None, py_type='app.bsky.feed.defs#viewerState'), py_type='app.bsky.feed.defs#postView'), reason=None, reply=None, py_type='app.bsky.feed.defs#feedViewPost'), FeedViewPost(post=PostView(author=ProfileViewBasic(did='did:plc:qomkdnxrqw3gkbytdxea5z65', handle='skynetandchill.com', associated=None, avatar='https://cdn.bsky.app/img/avatar/plain/did:plc:qomkdnxrqw3gkbytdxea5z65/bafkreifrqqv5leasjhgndik4yisfzpmes35jakmgwqdnwpw6hd4kzni66u@jpeg', display_name='SkynetAndChill.com', labels=[], viewer=ViewerState(blocked_by=False, blocking=None, blocking_by_list=None, followed_by=None, following=None, muted=False, muted_by_list=None, py_type='app.bsky.actor.defs#viewerState'), py_type='app.bsky.actor.defs#profileViewBasic'), cid='bafyreiege6ptpgklyfekcilsaayovz74lzzmpchndwo53uazd6eeeeh35m', indexed_at='2024-03-29T13:47:50.051Z', record=Record(created_at='2024-03-29T13:47:50.051Z', text='Sam Altman looking to do some kind of Sora deal with movie studios.', embed=Main(external=External(description=\"Sam Altman met with Hollywood studios in a bid to show that OpenAI's video tool can help, not harm the movie industry, the Financial Times reported.\", title=\"Sam Altman is trying to convince Hollywood that Sora won't destroy the movie business\", uri='https://www.businessinsider.com/sam-altman-openai-convince-sora-wont-destroy-hollywood-2024-3', thumb=BlobRef(mime_type='image/jpeg', size=617076, ref=IpldLink(link='bafkreihxxndx7vjmu5yxdk2x4hybfrm7czi3wspnzjtmttockuy6k57gau'), py_type='blob'), py_type='app.bsky.embed.external#external'), py_type='app.bsky.embed.external'), entities=None, facets=None, labels=None, langs=['en'], reply=None, tags=None, py_type='app.bsky.feed.post'), uri='at://did:plc:qomkdnxrqw3gkbytdxea5z65/app.bsky.feed.post/3kotnlfueif2q', embed=View(external=ViewExternal(description=\"Sam Altman met with Hollywood studios in a bid to show that OpenAI's video tool can help, not harm the movie industry, the Financial Times reported.\", title=\"Sam Altman is trying to convince Hollywood that Sora won't destroy the movie business\", uri='https://www.businessinsider.com/sam-altman-openai-convince-sora-wont-destroy-hollywood-2024-3', thumb='https://cdn.bsky.app/img/feed_thumbnail/plain/did:plc:qomkdnxrqw3gkbytdxea5z65/bafkreihxxndx7vjmu5yxdk2x4hybfrm7czi3wspnzjtmttockuy6k57gau@jpeg', py_type='app.bsky.embed.external#viewExternal'), py_type='app.bsky.embed.external#view'), labels=[], like_count=1, reply_count=0, repost_count=0, threadgate=None, viewer=ViewerState(like=None, reply_disabled=None, repost=None, py_type='app.bsky.feed.defs#viewerState'), py_type='app.bsky.feed.defs#postView'), reason=None, reply=None, py_type='app.bsky.feed.defs#feedViewPost'), FeedViewPost(post=PostView(author=ProfileViewBasic(did='did:plc:qomkdnxrqw3gkbytdxea5z65', handle='skynetandchill.com', associated=None, avatar='https://cdn.bsky.app/img/avatar/plain/did:plc:qomkdnxrqw3gkbytdxea5z65/bafkreifrqqv5leasjhgndik4yisfzpmes35jakmgwqdnwpw6hd4kzni66u@jpeg', display_name='SkynetAndChill.com', labels=[], viewer=ViewerState(blocked_by=False, blocking=None, blocking_by_list=None, followed_by=None, following=None, muted=False, muted_by_list=None, py_type='app.bsky.actor.defs#viewerState'), py_type='app.bsky.actor.defs#profileViewBasic'), cid='bafyreie62nat4ryrlx5zry5iweawpgq5sjjfgch4yfscenqczapiizkd5e', indexed_at='2024-03-29T02:46:50.140Z', record=Record(created_at='2024-03-29T02:46:50.140Z', text='when you ask ChatGPT what she looks like', embed=Main(images=[Image(alt='', image=BlobRef(mime_type='image/jpeg', size=889730, ref=IpldLink(link='bafkreici445uzhfi5vnncyptvzfe5hcovljd6zrsmtm6aftlewyifb2vxm'), py_type='blob'), aspect_ratio=AspectRatio(height=1024, width=1024, py_type='app.bsky.embed.images#aspectRatio'), py_type='app.bsky.embed.images#image')], py_type='app.bsky.embed.images'), entities=None, facets=None, labels=None, langs=['en'], reply=None, tags=None, py_type='app.bsky.feed.post'), uri='at://did:plc:qomkdnxrqw3gkbytdxea5z65/app.bsky.feed.post/3kosinh7qs32q', embed=View(images=[ViewImage(alt='', fullsize='https://cdn.bsky.app/img/feed_fullsize/plain/did:plc:qomkdnxrqw3gkbytdxea5z65/bafkreici445uzhfi5vnncyptvzfe5hcovljd6zrsmtm6aftlewyifb2vxm@jpeg', thumb='https://cdn.bsky.app/img/feed_thumbnail/plain/did:plc:qomkdnxrqw3gkbytdxea5z65/bafkreici445uzhfi5vnncyptvzfe5hcovljd6zrsmtm6aftlewyifb2vxm@jpeg', aspect_ratio=AspectRatio(height=1024, width=1024, py_type='app.bsky.embed.images#aspectRatio'), py_type='app.bsky.embed.images#viewImage')], py_type='app.bsky.embed.images#view'), labels=[], like_count=0, reply_count=0, repost_count=0, threadgate=None, viewer=ViewerState(like=None, reply_disabled=None, repost=None, py_type='app.bsky.feed.defs#viewerState'), py_type='app.bsky.feed.defs#postView'), reason=None, reply=None, py_type='app.bsky.feed.defs#feedViewPost'), FeedViewPost(post=PostView(author=ProfileViewBasic(did='did:plc:qomkdnxrqw3gkbytdxea5z65', handle='skynetandchill.com', associated=None, avatar='https://cdn.bsky.app/img/avatar/plain/did:plc:qomkdnxrqw3gkbytdxea5z65/bafkreifrqqv5leasjhgndik4yisfzpmes35jakmgwqdnwpw6hd4kzni66u@jpeg', display_name='SkynetAndChill.com', labels=[], viewer=ViewerState(blocked_by=False, blocking=None, blocking_by_list=None, followed_by=None, following=None, muted=False, muted_by_list=None, py_type='app.bsky.actor.defs#viewerState'), py_type='app.bsky.actor.defs#profileViewBasic'), cid='bafyreig5citoaco2jlqx6ctwayv4wkqiwabghp47qlawnccsvp7kuefqge', indexed_at='2024-03-29T00:32:58.275Z', record=Record(created_at='2024-03-29T00:32:58.275Z', text='I could see Apple buying Anthropic, not sure who else Apple could buy that could really move the needle. Depending on Google and Baidu is not where they want to be.', embed=None, entities=None, facets=None, labels=None, langs=['en'], reply=None, tags=None, py_type='app.bsky.feed.post'), uri='at://did:plc:qomkdnxrqw3gkbytdxea5z65/app.bsky.feed.post/3kosb63ml4527', embed=None, labels=[], like_count=0, reply_count=0, repost_count=0, threadgate=None, viewer=ViewerState(like=None, reply_disabled=None, repost=None, py_type='app.bsky.feed.defs#viewerState'), py_type='app.bsky.feed.defs#postView'), reason=None, reply=None, py_type='app.bsky.feed.defs#feedViewPost'), FeedViewPost(post=PostView(author=ProfileViewBasic(did='did:plc:qomkdnxrqw3gkbytdxea5z65', handle='skynetandchill.com', associated=None, avatar='https://cdn.bsky.app/img/avatar/plain/did:plc:qomkdnxrqw3gkbytdxea5z65/bafkreifrqqv5leasjhgndik4yisfzpmes35jakmgwqdnwpw6hd4kzni66u@jpeg', display_name='SkynetAndChill.com', labels=[], viewer=ViewerState(blocked_by=False, blocking=None, blocking_by_list=None, followed_by=None, following=None, muted=False, muted_by_list=None, py_type='app.bsky.actor.defs#viewerState'), py_type='app.bsky.actor.defs#profileViewBasic'), cid='bafyreiak7dmwyjexjyopzgsgt7t5mdtrx43o2zl4sb5upk5q4ahx2xavpa', indexed_at='2024-03-29T00:25:24.361Z', record=Record(created_at='2024-03-29T00:25:24.361Z', text='BGR iphone rumor roundup.', embed=Main(external=External(description='AI is going to be a big part of Apple products. The company is expected to introduce several Artificial Intelligence features during WWDC.', title='Apple AI: Rumors, features, research, and supported devices', uri='https://bgr.com/guides/apple-ai-rumors-features-research-and-supported-devices/', thumb=BlobRef(mime_type='image/jpeg', size=587399, ref=IpldLink(link='bafkreidow36taekyxizbwan2voyh6rnkujvswtl6k3iepuslqfioswozv4'), py_type='blob'), py_type='app.bsky.embed.external#external'), py_type='app.bsky.embed.external'), entities=None, facets=None, labels=None, langs=['en'], reply=None, tags=None, py_type='app.bsky.feed.post'), uri='at://did:plc:qomkdnxrqw3gkbytdxea5z65/app.bsky.feed.post/3kosaqklgbn23', embed=View(external=ViewExternal(description='AI is going to be a big part of Apple products. The company is expected to introduce several Artificial Intelligence features during WWDC.', title='Apple AI: Rumors, features, research, and supported devices', uri='https://bgr.com/guides/apple-ai-rumors-features-research-and-supported-devices/', thumb='https://cdn.bsky.app/img/feed_thumbnail/plain/did:plc:qomkdnxrqw3gkbytdxea5z65/bafkreidow36taekyxizbwan2voyh6rnkujvswtl6k3iepuslqfioswozv4@jpeg', py_type='app.bsky.embed.external#viewExternal'), py_type='app.bsky.embed.external#view'), labels=[], like_count=0, reply_count=0, repost_count=0, threadgate=None, viewer=ViewerState(like=None, reply_disabled=None, repost=None, py_type='app.bsky.feed.defs#viewerState'), py_type='app.bsky.feed.defs#postView'), reason=None, reply=None, py_type='app.bsky.feed.defs#feedViewPost'), FeedViewPost(post=PostView(author=ProfileViewBasic(did='did:plc:qomkdnxrqw3gkbytdxea5z65', handle='skynetandchill.com', associated=None, avatar='https://cdn.bsky.app/img/avatar/plain/did:plc:qomkdnxrqw3gkbytdxea5z65/bafkreifrqqv5leasjhgndik4yisfzpmes35jakmgwqdnwpw6hd4kzni66u@jpeg', display_name='SkynetAndChill.com', labels=[], viewer=ViewerState(blocked_by=False, blocking=None, blocking_by_list=None, followed_by=None, following=None, muted=False, muted_by_list=None, py_type='app.bsky.actor.defs#viewerState'), py_type='app.bsky.actor.defs#profileViewBasic'), cid='bafyreic2up7szttev6mztu75iyjylzlgbapyue2zca3lul2teuhiaghzem', indexed_at='2024-03-29T00:20:20.114Z', record=Record(created_at='2024-03-29T00:20:20.114Z', text='Empathic AI sounds oddly, weirdly human, like a scifi android.', embed=Main(external=External(description='EVI emotion in your voice', title='I just had a conversation with an empathic AI chatbot — and it creeped me out', uri='https://www.tomsguide.com/ai/i-had-a-conversation-with-evi-the-new-empathic-ai-voicebot-from-hume', thumb=BlobRef(mime_type='image/jpeg', size=944779, ref=IpldLink(link='bafkreifniuog2v7rxqa7xkcbvnjknji2bna5jtnndd2lus7k62vxjoumay'), py_type='blob'), py_type='app.bsky.embed.external#external'), py_type='app.bsky.embed.external'), entities=None, facets=None, labels=None, langs=['en'], reply=None, tags=None, py_type='app.bsky.feed.post'), uri='at://did:plc:qomkdnxrqw3gkbytdxea5z65/app.bsky.feed.post/3kosahigehd2p', embed=View(external=ViewExternal(description='EVI emotion in your voice', title='I just had a conversation with an empathic AI chatbot — and it creeped me out', uri='https://www.tomsguide.com/ai/i-had-a-conversation-with-evi-the-new-empathic-ai-voicebot-from-hume', thumb='https://cdn.bsky.app/img/feed_thumbnail/plain/did:plc:qomkdnxrqw3gkbytdxea5z65/bafkreifniuog2v7rxqa7xkcbvnjknji2bna5jtnndd2lus7k62vxjoumay@jpeg', py_type='app.bsky.embed.external#viewExternal'), py_type='app.bsky.embed.external#view'), labels=[], like_count=0, reply_count=0, repost_count=0, threadgate=None, viewer=ViewerState(like=None, reply_disabled=None, repost=None, py_type='app.bsky.feed.defs#viewerState'), py_type='app.bsky.feed.defs#postView'), reason=None, reply=None, py_type='app.bsky.feed.defs#feedViewPost'), FeedViewPost(post=PostView(author=ProfileViewBasic(did='did:plc:qomkdnxrqw3gkbytdxea5z65', handle='skynetandchill.com', associated=None, avatar='https://cdn.bsky.app/img/avatar/plain/did:plc:qomkdnxrqw3gkbytdxea5z65/bafkreifrqqv5leasjhgndik4yisfzpmes35jakmgwqdnwpw6hd4kzni66u@jpeg', display_name='SkynetAndChill.com', labels=[], viewer=ViewerState(blocked_by=False, blocking=None, blocking_by_list=None, followed_by=None, following=None, muted=False, muted_by_list=None, py_type='app.bsky.actor.defs#viewerState'), py_type='app.bsky.actor.defs#profileViewBasic'), cid='bafyreidyyziipj54dzlc3rulgpp72tql4rwppooljs5v63ejk7qoizkeda', indexed_at='2024-03-29T00:18:46.476Z', record=Record(created_at='2024-03-29T00:18:46.476Z', text='Stability AI gets new funding from Intel.', embed=Main(external=External(description='The artificial intelligence startup won the debt investment at a critical time.', title='Stability AI Gets Intel Backing in New Financing', uri='https://www.bloomberg.com/news/articles/2023-11-09/stability-ai-gets-intel-backing-in-new-financing', thumb=BlobRef(mime_type='image/jpeg', size=334766, ref=IpldLink(link='bafkreifr4yt5kqknq4bl7kthgwmx33nxwlnzzu5vou6wfcgjvoyveurp4m'), py_type='blob'), py_type='app.bsky.embed.external#external'), py_type='app.bsky.embed.external'), entities=None, facets=None, labels=None, langs=['en'], reply=None, tags=None, py_type='app.bsky.feed.post'), uri='at://did:plc:qomkdnxrqw3gkbytdxea5z65/app.bsky.feed.post/3kosaep4pw22w', embed=View(external=ViewExternal(description='The artificial intelligence startup won the debt investment at a critical time.', title='Stability AI Gets Intel Backing in New Financing', uri='https://www.bloomberg.com/news/articles/2023-11-09/stability-ai-gets-intel-backing-in-new-financing', thumb='https://cdn.bsky.app/img/feed_thumbnail/plain/did:plc:qomkdnxrqw3gkbytdxea5z65/bafkreifr4yt5kqknq4bl7kthgwmx33nxwlnzzu5vou6wfcgjvoyveurp4m@jpeg', py_type='app.bsky.embed.external#viewExternal'), py_type='app.bsky.embed.external#view'), labels=[], like_count=0, reply_count=0, repost_count=0, threadgate=None, viewer=ViewerState(like=None, reply_disabled=None, repost=None, py_type='app.bsky.feed.defs#viewerState'), py_type='app.bsky.feed.defs#postView'), reason=None, reply=None, py_type='app.bsky.feed.defs#feedViewPost'), FeedViewPost(post=PostView(author=ProfileViewBasic(did='did:plc:qomkdnxrqw3gkbytdxea5z65', handle='skynetandchill.com', associated=None, avatar='https://cdn.bsky.app/img/avatar/plain/did:plc:qomkdnxrqw3gkbytdxea5z65/bafkreifrqqv5leasjhgndik4yisfzpmes35jakmgwqdnwpw6hd4kzni66u@jpeg', display_name='SkynetAndChill.com', labels=[], viewer=ViewerState(blocked_by=False, blocking=None, blocking_by_list=None, followed_by=None, following=None, muted=False, muted_by_list=None, py_type='app.bsky.actor.defs#viewerState'), py_type='app.bsky.actor.defs#profileViewBasic'), cid='bafyreigfk7gejpkjlg5cc2d7yj7ponec3w3pohbk4c27jkcihconwfzfpi', indexed_at='2024-03-29T00:16:53.873Z', record=Record(created_at='2024-03-29T00:16:53.873Z', text='Influencer is partly real, partly AI-generated, a virtual cyborg.', embed=Main(external=External(description=\"It's complicated.\", title=\"The Internet Can't Figure Out If This Woman is Real or AI-Generated\", uri='https://petapixel.com/2024/03/28/the-internet-cant-figure-out-if-this-woman-is-real-or-ai-generated/', thumb=BlobRef(mime_type='image/jpeg', size=986246, ref=IpldLink(link='bafkreifq6hyt73lckxearinqtz7pn37aohmd2kyele2tzxpaasgbm63gma'), py_type='blob'), py_type='app.bsky.embed.external#external'), py_type='app.bsky.embed.external'), entities=None, facets=None, labels=None, langs=['en'], reply=None, tags=None, py_type='app.bsky.feed.post'), uri='at://did:plc:qomkdnxrqw3gkbytdxea5z65/app.bsky.feed.post/3kosabdq7at2y', embed=View(external=ViewExternal(description=\"It's complicated.\", title=\"The Internet Can't Figure Out If This Woman is Real or AI-Generated\", uri='https://petapixel.com/2024/03/28/the-internet-cant-figure-out-if-this-woman-is-real-or-ai-generated/', thumb='https://cdn.bsky.app/img/feed_thumbnail/plain/did:plc:qomkdnxrqw3gkbytdxea5z65/bafkreifq6hyt73lckxearinqtz7pn37aohmd2kyele2tzxpaasgbm63gma@jpeg', py_type='app.bsky.embed.external#viewExternal'), py_type='app.bsky.embed.external#view'), labels=[], like_count=0, reply_count=0, repost_count=0, threadgate=None, viewer=ViewerState(like=None, reply_disabled=None, repost=None, py_type='app.bsky.feed.defs#viewerState'), py_type='app.bsky.feed.defs#postView'), reason=None, reply=None, py_type='app.bsky.feed.defs#feedViewPost'), FeedViewPost(post=PostView(author=ProfileViewBasic(did='did:plc:qomkdnxrqw3gkbytdxea5z65', handle='skynetandchill.com', associated=None, avatar='https://cdn.bsky.app/img/avatar/plain/did:plc:qomkdnxrqw3gkbytdxea5z65/bafkreifrqqv5leasjhgndik4yisfzpmes35jakmgwqdnwpw6hd4kzni66u@jpeg', display_name='SkynetAndChill.com', labels=[], viewer=ViewerState(blocked_by=False, blocking=None, blocking_by_list=None, followed_by=None, following=None, muted=False, muted_by_list=None, py_type='app.bsky.actor.defs#viewerState'), py_type='app.bsky.actor.defs#profileViewBasic'), cid='bafyreigqx5mgmnk4ap7zvgviilbscp22ipfave7xpq7kt5yqjs6iiw6hr4', indexed_at='2024-03-29T00:10:16.030Z', record=Record(created_at='2024-03-29T00:10:16.030Z', text='No current CPU has the NPU TOPS to qualify as an AI PC, an announced Qualcomm Chromebook ARM chip might be the first.', embed=Main(external=External(description='A PC needs these specific requirements to be classified as an \"AI PC\"', title=\"Qualcomm Snapdragon X Elite laptops may be the only future-proof 'AI PCs' in 2024 — here's why\", uri='https://www.laptopmag.com/laptops/windows-laptops/what-is-an-ai-pc-intel-revealed-microsofts-requirements-for-next-gen-laptops', thumb=BlobRef(mime_type='image/jpeg', size=27195, ref=IpldLink(link='bafkreibgu6taepofzjlvktmynsxf56cqia5zrhrshznh6cab5vdjofb4ha'), py_type='blob'), py_type='app.bsky.embed.external#external'), py_type='app.bsky.embed.external'), entities=None, facets=None, labels=None, langs=['en'], reply=None, tags=None, py_type='app.bsky.feed.post'), uri='at://did:plc:qomkdnxrqw3gkbytdxea5z65/app.bsky.feed.post/3kos7viczod2y', embed=View(external=ViewExternal(description='A PC needs these specific requirements to be classified as an \"AI PC\"', title=\"Qualcomm Snapdragon X Elite laptops may be the only future-proof 'AI PCs' in 2024 — here's why\", uri='https://www.laptopmag.com/laptops/windows-laptops/what-is-an-ai-pc-intel-revealed-microsofts-requirements-for-next-gen-laptops', thumb='https://cdn.bsky.app/img/feed_thumbnail/plain/did:plc:qomkdnxrqw3gkbytdxea5z65/bafkreibgu6taepofzjlvktmynsxf56cqia5zrhrshznh6cab5vdjofb4ha@jpeg', py_type='app.bsky.embed.external#viewExternal'), py_type='app.bsky.embed.external#view'), labels=[], like_count=0, reply_count=0, repost_count=0, threadgate=None, viewer=ViewerState(like=None, reply_disabled=None, repost=None, py_type='app.bsky.feed.defs#viewerState'), py_type='app.bsky.feed.defs#postView'), reason=None, reply=None, py_type='app.bsky.feed.defs#feedViewPost'), FeedViewPost(post=PostView(author=ProfileViewBasic(did='did:plc:qomkdnxrqw3gkbytdxea5z65', handle='skynetandchill.com', associated=None, avatar='https://cdn.bsky.app/img/avatar/plain/did:plc:qomkdnxrqw3gkbytdxea5z65/bafkreifrqqv5leasjhgndik4yisfzpmes35jakmgwqdnwpw6hd4kzni66u@jpeg', display_name='SkynetAndChill.com', labels=[], viewer=ViewerState(blocked_by=False, blocking=None, blocking_by_list=None, followed_by=None, following=None, muted=False, muted_by_list=None, py_type='app.bsky.actor.defs#viewerState'), py_type='app.bsky.actor.defs#profileViewBasic'), cid='bafyreiggm3rv3ohsk22iuo56xdxetze65bgampetw3yluzvo7abkuoxjxq', indexed_at='2024-03-29T00:06:45.170Z', record=Record(created_at='2024-03-29T00:06:45.170Z', text='Microsoft launches tools to catch prompt injection attacks, hallucinations before they bite', embed=Main(external=External(description='AI safety help for anyone who doesn’t have a red team.', title='Microsoft’s new safety system can catch hallucinations in its customers’ AI apps', uri='https://www.theverge.com/2024/3/28/24114664/microsoft-safety-ai-prompt-injections-hallucinations-azure', thumb=BlobRef(mime_type='image/jpeg', size=397055, ref=IpldLink(link='bafkreihlg7pqconwppgvykomasyswrxfwomlh56qluyta73qwpg3osheju'), py_type='blob'), py_type='app.bsky.embed.external#external'), py_type='app.bsky.embed.external'), entities=None, facets=None, labels=None, langs=['en'], reply=None, tags=None, py_type='app.bsky.feed.post'), uri='at://did:plc:qomkdnxrqw3gkbytdxea5z65/app.bsky.feed.post/3kos7p7a5jn23', embed=View(external=ViewExternal(description='AI safety help for anyone who doesn’t have a red team.', title='Microsoft’s new safety system can catch hallucinations in its customers’ AI apps', uri='https://www.theverge.com/2024/3/28/24114664/microsoft-safety-ai-prompt-injections-hallucinations-azure', thumb='https://cdn.bsky.app/img/feed_thumbnail/plain/did:plc:qomkdnxrqw3gkbytdxea5z65/bafkreihlg7pqconwppgvykomasyswrxfwomlh56qluyta73qwpg3osheju@jpeg', py_type='app.bsky.embed.external#viewExternal'), py_type='app.bsky.embed.external#view'), labels=[], like_count=0, reply_count=0, repost_count=0, threadgate=None, viewer=ViewerState(like=None, reply_disabled=None, repost=None, py_type='app.bsky.feed.defs#viewerState'), py_type='app.bsky.feed.defs#postView'), reason=None, reply=None, py_type='app.bsky.feed.defs#feedViewPost'), FeedViewPost(post=PostView(author=ProfileViewBasic(did='did:plc:qomkdnxrqw3gkbytdxea5z65', handle='skynetandchill.com', associated=None, avatar='https://cdn.bsky.app/img/avatar/plain/did:plc:qomkdnxrqw3gkbytdxea5z65/bafkreifrqqv5leasjhgndik4yisfzpmes35jakmgwqdnwpw6hd4kzni66u@jpeg', display_name='SkynetAndChill.com', labels=[], viewer=ViewerState(blocked_by=False, blocking=None, blocking_by_list=None, followed_by=None, following=None, muted=False, muted_by_list=None, py_type='app.bsky.actor.defs#viewerState'), py_type='app.bsky.actor.defs#profileViewBasic'), cid='bafyreiev3kokfmheccjpwpxacuzsskqtvfxxhp6cr3lcf6mxmybdaytwxa', indexed_at='2024-03-28T23:39:55.929Z', record=Record(created_at='2024-03-28T23:39:55.929Z', text='Disillusioned businesses:  AI sucks actually', embed=Main(external=External(description=\"As hype and investment in AI soars, some businesses are learning that the technology isn't reliable enough to represent their companies.\", title='Disillusioned Businesses Discovering That AI Kind of Sucks', uri='https://futurism.com/the-byte/businesses-discovering-ai-sucks', thumb=BlobRef(mime_type='image/jpeg', size=669356, ref=IpldLink(link='bafkreigsukufqrt6nkdg24ow6yfckpxyhmhxxigoqu6qpjnh7brnmrruha'), py_type='blob'), py_type='app.bsky.embed.external#external'), py_type='app.bsky.embed.external'), entities=None, facets=None, labels=None, langs=['en'], reply=None, tags=None, py_type='app.bsky.feed.post'), uri='at://did:plc:qomkdnxrqw3gkbytdxea5z65/app.bsky.feed.post/3kos67aiz3j2u', embed=View(external=ViewExternal(description=\"As hype and investment in AI soars, some businesses are learning that the technology isn't reliable enough to represent their companies.\", title='Disillusioned Businesses Discovering That AI Kind of Sucks', uri='https://futurism.com/the-byte/businesses-discovering-ai-sucks', thumb='https://cdn.bsky.app/img/feed_thumbnail/plain/did:plc:qomkdnxrqw3gkbytdxea5z65/bafkreigsukufqrt6nkdg24ow6yfckpxyhmhxxigoqu6qpjnh7brnmrruha@jpeg', py_type='app.bsky.embed.external#viewExternal'), py_type='app.bsky.embed.external#view'), labels=[], like_count=0, reply_count=0, repost_count=0, threadgate=None, viewer=ViewerState(like=None, reply_disabled=None, repost=None, py_type='app.bsky.feed.defs#viewerState'), py_type='app.bsky.feed.defs#postView'), reason=None, reply=None, py_type='app.bsky.feed.defs#feedViewPost'), FeedViewPost(post=PostView(author=ProfileViewBasic(did='did:plc:qomkdnxrqw3gkbytdxea5z65', handle='skynetandchill.com', associated=None, avatar='https://cdn.bsky.app/img/avatar/plain/did:plc:qomkdnxrqw3gkbytdxea5z65/bafkreifrqqv5leasjhgndik4yisfzpmes35jakmgwqdnwpw6hd4kzni66u@jpeg', display_name='SkynetAndChill.com', labels=[], viewer=ViewerState(blocked_by=False, blocking=None, blocking_by_list=None, followed_by=None, following=None, muted=False, muted_by_list=None, py_type='app.bsky.actor.defs#viewerState'), py_type='app.bsky.actor.defs#profileViewBasic'), cid='bafyreib7yz4zfazjpc2d6erx4fjxnai47dcjyw3ugi3s47sir6rwkkfhkm', indexed_at='2024-03-28T21:35:20.267Z', record=Record(created_at='2024-03-28T21:35:20.267Z', text='NYPD to test AI gun scanners in NYC subway, Adams calls it a Sputnik moment… a time when Americans realize they are falling behind the most messed-up nations on Earth.', embed=Main(external=External(description=\"Mayor Eric Adams called the technology the city's\", title='NYPD to test scanners with AI tech to crack down on guns in NYC subway', uri='https://gothamist.com/news/nypd-to-test-scanners-with-ai-tech-to-crack-down-on-guns-in-nyc-subway', thumb=BlobRef(mime_type='image/jpeg', size=441792, ref=IpldLink(link='bafkreicbmqwktu6nf6p4f3drwm7hiylenbe5uuj3dflaxyejtmf3vxodx4'), py_type='blob'), py_type='app.bsky.embed.external#external'), py_type='app.bsky.embed.external'), entities=None, facets=None, labels=None, langs=['en'], reply=None, tags=None, py_type='app.bsky.feed.post'), uri='at://did:plc:qomkdnxrqw3gkbytdxea5z65/app.bsky.feed.post/3korxah77pf23', embed=View(external=ViewExternal(description=\"Mayor Eric Adams called the technology the city's\", title='NYPD to test scanners with AI tech to crack down on guns in NYC subway', uri='https://gothamist.com/news/nypd-to-test-scanners-with-ai-tech-to-crack-down-on-guns-in-nyc-subway', thumb='https://cdn.bsky.app/img/feed_thumbnail/plain/did:plc:qomkdnxrqw3gkbytdxea5z65/bafkreicbmqwktu6nf6p4f3drwm7hiylenbe5uuj3dflaxyejtmf3vxodx4@jpeg', py_type='app.bsky.embed.external#viewExternal'), py_type='app.bsky.embed.external#view'), labels=[], like_count=0, reply_count=0, repost_count=0, threadgate=None, viewer=ViewerState(like=None, reply_disabled=None, repost=None, py_type='app.bsky.feed.defs#viewerState'), py_type='app.bsky.feed.defs#postView'), reason=None, reply=None, py_type='app.bsky.feed.defs#feedViewPost'), FeedViewPost(post=PostView(author=ProfileViewBasic(did='did:plc:qomkdnxrqw3gkbytdxea5z65', handle='skynetandchill.com', associated=None, avatar='https://cdn.bsky.app/img/avatar/plain/did:plc:qomkdnxrqw3gkbytdxea5z65/bafkreifrqqv5leasjhgndik4yisfzpmes35jakmgwqdnwpw6hd4kzni66u@jpeg', display_name='SkynetAndChill.com', labels=[], viewer=ViewerState(blocked_by=False, blocking=None, blocking_by_list=None, followed_by=None, following=None, muted=False, muted_by_list=None, py_type='app.bsky.actor.defs#viewerState'), py_type='app.bsky.actor.defs#profileViewBasic'), cid='bafyreigejzpfuyhivvbnvpdo2udnbagoaklaajkmbhnkadqvoyddsapuui', indexed_at='2024-03-28T19:45:57.126Z', record=Record(created_at='2024-03-28T19:45:57.126Z', text='WaPo dives into the AI deepfakes of influencers to sell ED pills or praise Putin.', embed=Main(external=External(description='Artificial intelligence is spurring a new type of identity theft, altering people’s social media posts to sell erectile dysfunction pills or praise Russia’s Vladimir Putin.', title='AI hustlers stole women’s faces to put in ads. The law can’t help them.', uri='https://www.washingtonpost.com/technology/2024/03/28/ai-women-clone-ads/', thumb=BlobRef(mime_type='image/jpeg', size=279424, ref=IpldLink(link='bafkreidxryuo2wyae3pk5ysvdn35cn7pnvz4iss2wf3wdfhv5jbl2tfj3e'), py_type='blob'), py_type='app.bsky.embed.external#external'), py_type='app.bsky.embed.external'), entities=None, facets=None, labels=None, langs=['en'], reply=None, tags=None, py_type='app.bsky.feed.post'), uri='at://did:plc:qomkdnxrqw3gkbytdxea5z65/app.bsky.feed.post/3korr4u4vnb2m', embed=View(external=ViewExternal(description='Artificial intelligence is spurring a new type of identity theft, altering people’s social media posts to sell erectile dysfunction pills or praise Russia’s Vladimir Putin.', title='AI hustlers stole women’s faces to put in ads. The law can’t help them.', uri='https://www.washingtonpost.com/technology/2024/03/28/ai-women-clone-ads/', thumb='https://cdn.bsky.app/img/feed_thumbnail/plain/did:plc:qomkdnxrqw3gkbytdxea5z65/bafkreidxryuo2wyae3pk5ysvdn35cn7pnvz4iss2wf3wdfhv5jbl2tfj3e@jpeg', py_type='app.bsky.embed.external#viewExternal'), py_type='app.bsky.embed.external#view'), labels=[], like_count=0, reply_count=0, repost_count=0, threadgate=None, viewer=ViewerState(like=None, reply_disabled=None, repost=None, py_type='app.bsky.feed.defs#viewerState'), py_type='app.bsky.feed.defs#postView'), reason=None, reply=None, py_type='app.bsky.feed.defs#feedViewPost'), FeedViewPost(post=PostView(author=ProfileViewBasic(did='did:plc:qomkdnxrqw3gkbytdxea5z65', handle='skynetandchill.com', associated=None, avatar='https://cdn.bsky.app/img/avatar/plain/did:plc:qomkdnxrqw3gkbytdxea5z65/bafkreifrqqv5leasjhgndik4yisfzpmes35jakmgwqdnwpw6hd4kzni66u@jpeg', display_name='SkynetAndChill.com', labels=[], viewer=ViewerState(blocked_by=False, blocking=None, blocking_by_list=None, followed_by=None, following=None, muted=False, muted_by_list=None, py_type='app.bsky.actor.defs#viewerState'), py_type='app.bsky.actor.defs#profileViewBasic'), cid='bafyreiapcmqxigsea2luftvkfabh4ydm73hpok72df476yh5idptqrzqvq', indexed_at='2024-03-28T17:42:35.620Z', record=Record(created_at='2024-03-28T17:42:35.620Z', text='Google launches program to jumpstart nonprofit use cases for gen AI.', embed=Main(external=External(description=\"Google.org, Google's charitable wing, is launching a new program to help fund nonprofits developing tech that leverages generative AI. Called Google.org\", title='Google.org launches $20M generative AI accelerator program | TechCrunch', uri='https://techcrunch.com/2024/03/28/google-org-launches-20m-generative-ai-accelerator-program/', thumb=BlobRef(mime_type='image/jpeg', size=365745, ref=IpldLink(link='bafkreibqrxjg7z6gkfh6dvhdnojk7wm2qpcjfnv4x36srz2uvv6qjpa6jq'), py_type='blob'), py_type='app.bsky.embed.external#external'), py_type='app.bsky.embed.external'), entities=None, facets=None, labels=None, langs=['en'], reply=None, tags=None, py_type='app.bsky.feed.post'), uri='at://did:plc:qomkdnxrqw3gkbytdxea5z65/app.bsky.feed.post/3korkabea5f27', embed=View(external=ViewExternal(description=\"Google.org, Google's charitable wing, is launching a new program to help fund nonprofits developing tech that leverages generative AI. Called Google.org\", title='Google.org launches $20M generative AI accelerator program | TechCrunch', uri='https://techcrunch.com/2024/03/28/google-org-launches-20m-generative-ai-accelerator-program/', thumb='https://cdn.bsky.app/img/feed_thumbnail/plain/did:plc:qomkdnxrqw3gkbytdxea5z65/bafkreibqrxjg7z6gkfh6dvhdnojk7wm2qpcjfnv4x36srz2uvv6qjpa6jq@jpeg', py_type='app.bsky.embed.external#viewExternal'), py_type='app.bsky.embed.external#view'), labels=[], like_count=0, reply_count=0, repost_count=0, threadgate=None, viewer=ViewerState(like=None, reply_disabled=None, repost=None, py_type='app.bsky.feed.defs#viewerState'), py_type='app.bsky.feed.defs#postView'), reason=None, reply=None, py_type='app.bsky.feed.defs#feedViewPost'), FeedViewPost(post=PostView(author=ProfileViewBasic(did='did:plc:qomkdnxrqw3gkbytdxea5z65', handle='skynetandchill.com', associated=None, avatar='https://cdn.bsky.app/img/avatar/plain/did:plc:qomkdnxrqw3gkbytdxea5z65/bafkreifrqqv5leasjhgndik4yisfzpmes35jakmgwqdnwpw6hd4kzni66u@jpeg', display_name='SkynetAndChill.com', labels=[], viewer=ViewerState(blocked_by=False, blocking=None, blocking_by_list=None, followed_by=None, following=None, muted=False, muted_by_list=None, py_type='app.bsky.actor.defs#viewerState'), py_type='app.bsky.actor.defs#profileViewBasic'), cid='bafyreidmzet5lc4ccazu6r37wopxw7uqbpiavaeim3yckhel2cidsmobru', indexed_at='2024-03-28T17:40:08.678Z', record=Record(created_at='2024-03-28T17:40:08.678Z', text='Detecting people living in their cars using AI. To give them the assistance they need, no doubt!', embed=Main(external=External(description=\"San Jose's government has a pilot project for District 10, where a car equipped with cameras scans streets. Advocates for homeless people are concerned.\", title=\"San Jose, tech firms use AI to spot homeless people's cars\", uri='https://www.sfgate.com/tech/article/san-jose-ai-camera-homeless-people-19370144.php', thumb=BlobRef(mime_type='image/jpeg', size=835902, ref=IpldLink(link='bafkreifxrdpebo5jnka2xhqgaasrgxd3wl2cpw3ycgztm7p53ucsxqyk2m'), py_type='blob'), py_type='app.bsky.embed.external#external'), py_type='app.bsky.embed.external'), entities=None, facets=None, labels=None, langs=['en'], reply=None, tags=None, py_type='app.bsky.feed.post'), uri='at://did:plc:qomkdnxrqw3gkbytdxea5z65/app.bsky.feed.post/3kork3v7z2k2e', embed=View(external=ViewExternal(description=\"San Jose's government has a pilot project for District 10, where a car equipped with cameras scans streets. Advocates for homeless people are concerned.\", title=\"San Jose, tech firms use AI to spot homeless people's cars\", uri='https://www.sfgate.com/tech/article/san-jose-ai-camera-homeless-people-19370144.php', thumb='https://cdn.bsky.app/img/feed_thumbnail/plain/did:plc:qomkdnxrqw3gkbytdxea5z65/bafkreifxrdpebo5jnka2xhqgaasrgxd3wl2cpw3ycgztm7p53ucsxqyk2m@jpeg', py_type='app.bsky.embed.external#viewExternal'), py_type='app.bsky.embed.external#view'), labels=[], like_count=0, reply_count=0, repost_count=0, threadgate=None, viewer=ViewerState(like=None, reply_disabled=None, repost=None, py_type='app.bsky.feed.defs#viewerState'), py_type='app.bsky.feed.defs#postView'), reason=None, reply=None, py_type='app.bsky.feed.defs#feedViewPost'), FeedViewPost(post=PostView(author=ProfileViewBasic(did='did:plc:qomkdnxrqw3gkbytdxea5z65', handle='skynetandchill.com', associated=None, avatar='https://cdn.bsky.app/img/avatar/plain/did:plc:qomkdnxrqw3gkbytdxea5z65/bafkreifrqqv5leasjhgndik4yisfzpmes35jakmgwqdnwpw6hd4kzni66u@jpeg', display_name='SkynetAndChill.com', labels=[], viewer=ViewerState(blocked_by=False, blocking=None, blocking_by_list=None, followed_by=None, following=None, muted=False, muted_by_list=None, py_type='app.bsky.actor.defs#viewerState'), py_type='app.bsky.actor.defs#profileViewBasic'), cid='bafyreifhspc6a5npc2ak6gkeijy4775xjfkgcceudx773qwqu3xxfejjqy', indexed_at='2024-03-28T13:31:57.468Z', record=Record(created_at='2024-03-28T13:31:57.468Z', text=\"British performing artist gets an email from BBC saying they got approval to use AI so they won't need be needing her.\", embed=Main(external=External(description=\"'Mamma Mia!' stage star Sara Poyzer published an email saying her services were not required because the production was using an AI voice.\", title='‘Mamma Mia!’ Stage Star Sara Poyzer Replaced By AI On BBC Show To Recreate Voice Of Dying Person — Update', uri='https://deadline.com/2024/03/mamma-mia-sara-poyzer-replaced-ai-bbc-show-1235870498/', thumb=BlobRef(mime_type='image/jpeg', size=371314, ref=IpldLink(link='bafkreiaskvynworuf3gpzi4rpn67szalkap7abaavp2uu6zm6uhyb6seey'), py_type='blob'), py_type='app.bsky.embed.external#external'), py_type='app.bsky.embed.external'), entities=None, facets=None, labels=None, langs=['en'], reply=None, tags=None, py_type='app.bsky.feed.post'), uri='at://did:plc:qomkdnxrqw3gkbytdxea5z65/app.bsky.feed.post/3kor4a4cpy72s', embed=View(external=ViewExternal(description=\"'Mamma Mia!' stage star Sara Poyzer published an email saying her services were not required because the production was using an AI voice.\", title='‘Mamma Mia!’ Stage Star Sara Poyzer Replaced By AI On BBC Show To Recreate Voice Of Dying Person — Update', uri='https://deadline.com/2024/03/mamma-mia-sara-poyzer-replaced-ai-bbc-show-1235870498/', thumb='https://cdn.bsky.app/img/feed_thumbnail/plain/did:plc:qomkdnxrqw3gkbytdxea5z65/bafkreiaskvynworuf3gpzi4rpn67szalkap7abaavp2uu6zm6uhyb6seey@jpeg', py_type='app.bsky.embed.external#viewExternal'), py_type='app.bsky.embed.external#view'), labels=[], like_count=0, reply_count=0, repost_count=0, threadgate=None, viewer=ViewerState(like=None, reply_disabled=None, repost=None, py_type='app.bsky.feed.defs#viewerState'), py_type='app.bsky.feed.defs#postView'), reason=None, reply=None, py_type='app.bsky.feed.defs#feedViewPost'), FeedViewPost(post=PostView(author=ProfileViewBasic(did='did:plc:qomkdnxrqw3gkbytdxea5z65', handle='skynetandchill.com', associated=None, avatar='https://cdn.bsky.app/img/avatar/plain/did:plc:qomkdnxrqw3gkbytdxea5z65/bafkreifrqqv5leasjhgndik4yisfzpmes35jakmgwqdnwpw6hd4kzni66u@jpeg', display_name='SkynetAndChill.com', labels=[], viewer=ViewerState(blocked_by=False, blocking=None, blocking_by_list=None, followed_by=None, following=None, muted=False, muted_by_list=None, py_type='app.bsky.actor.defs#viewerState'), py_type='app.bsky.actor.defs#profileViewBasic'), cid='bafyreicvczcnllzt6yggv5eayubakby7o47ta6t3qhlwylx37uoawtyipy', indexed_at='2024-03-28T13:30:18.125Z', record=Record(created_at='2024-03-28T13:30:18.125Z', text='NYC announces a permitting regime for robotaxi testing.', embed=Main(external=External(description='NYC won’t permit fully driverless vehicles.', title='New York City welcomes robotaxis — but only with safety drivers', uri='https://www.theverge.com/2024/3/28/24108894/nyc-autonomous-robotaxi-safety-driver-permit-eric-adams', thumb=BlobRef(mime_type='image/jpeg', size=609212, ref=IpldLink(link='bafkreihv3jfdswm3ybchu5rx7huk2n2igyulujcn6ybk4ejlxrienty7ju'), py_type='blob'), py_type='app.bsky.embed.external#external'), py_type='app.bsky.embed.external'), entities=None, facets=None, labels=None, langs=['en'], reply=None, tags=None, py_type='app.bsky.feed.post'), uri='at://did:plc:qomkdnxrqw3gkbytdxea5z65/app.bsky.feed.post/3kor455hewu2a', embed=View(external=ViewExternal(description='NYC won’t permit fully driverless vehicles.', title='New York City welcomes robotaxis — but only with safety drivers', uri='https://www.theverge.com/2024/3/28/24108894/nyc-autonomous-robotaxi-safety-driver-permit-eric-adams', thumb='https://cdn.bsky.app/img/feed_thumbnail/plain/did:plc:qomkdnxrqw3gkbytdxea5z65/bafkreihv3jfdswm3ybchu5rx7huk2n2igyulujcn6ybk4ejlxrienty7ju@jpeg', py_type='app.bsky.embed.external#viewExternal'), py_type='app.bsky.embed.external#view'), labels=[], like_count=0, reply_count=0, repost_count=0, threadgate=None, viewer=ViewerState(like=None, reply_disabled=None, repost=None, py_type='app.bsky.feed.defs#viewerState'), py_type='app.bsky.feed.defs#postView'), reason=None, reply=None, py_type='app.bsky.feed.defs#feedViewPost'), FeedViewPost(post=PostView(author=ProfileViewBasic(did='did:plc:qomkdnxrqw3gkbytdxea5z65', handle='skynetandchill.com', associated=None, avatar='https://cdn.bsky.app/img/avatar/plain/did:plc:qomkdnxrqw3gkbytdxea5z65/bafkreifrqqv5leasjhgndik4yisfzpmes35jakmgwqdnwpw6hd4kzni66u@jpeg', display_name='SkynetAndChill.com', labels=[], viewer=ViewerState(blocked_by=False, blocking=None, blocking_by_list=None, followed_by=None, following=None, muted=False, muted_by_list=None, py_type='app.bsky.actor.defs#viewerState'), py_type='app.bsky.actor.defs#profileViewBasic'), cid='bafyreiadj2oxb5pfyphlttsoqtfy2b4g7nuresif6brpube6bc3cz3353m', indexed_at='2024-03-28T13:29:20.097Z', record=Record(created_at='2024-03-28T13:29:20.097Z', text='I made a video a while back. Jarvis is fun but my home espresso is better!', embed=Main(external=External(description='Artly robot at Muji in Hudson Yards. Not bad, but the espresso I make at home is better!', title='Espresso robot', uri='https://www.youtube.com/watch?v=RNLL0yjWLgE', thumb=BlobRef(mime_type='image/jpeg', size=385122, ref=IpldLink(link='bafkreicwaiaqdv6pua4djobquwihbfsh7p6azwvl37ot23c6ojbpamphtq'), py_type='blob'), py_type='app.bsky.embed.external#external'), py_type='app.bsky.embed.external'), entities=None, facets=None, labels=None, langs=['en'], reply=ReplyRef(parent=Main(cid='bafyreidxjwr35mr22sftgqo2hidoetazm6balg5kamnny6hatg52uwxmc4', uri='at://did:plc:qomkdnxrqw3gkbytdxea5z65/app.bsky.feed.post/3kor3ywcs2p2z', py_type='com.atproto.repo.strongRef'), root=Main(cid='bafyreidxjwr35mr22sftgqo2hidoetazm6balg5kamnny6hatg52uwxmc4', uri='at://did:plc:qomkdnxrqw3gkbytdxea5z65/app.bsky.feed.post/3kor3ywcs2p2z', py_type='com.atproto.repo.strongRef'), py_type='app.bsky.feed.post#replyRef'), tags=None, py_type='app.bsky.feed.post'), uri='at://did:plc:qomkdnxrqw3gkbytdxea5z65/app.bsky.feed.post/3kor43g2yd72s', embed=View(external=ViewExternal(description='Artly robot at Muji in Hudson Yards. Not bad, but the espresso I make at home is better!', title='Espresso robot', uri='https://www.youtube.com/watch?v=RNLL0yjWLgE', thumb='https://cdn.bsky.app/img/feed_thumbnail/plain/did:plc:qomkdnxrqw3gkbytdxea5z65/bafkreicwaiaqdv6pua4djobquwihbfsh7p6azwvl37ot23c6ojbpamphtq@jpeg', py_type='app.bsky.embed.external#viewExternal'), py_type='app.bsky.embed.external#view'), labels=[], like_count=0, reply_count=0, repost_count=0, threadgate=None, viewer=ViewerState(like=None, reply_disabled=None, repost=None, py_type='app.bsky.feed.defs#viewerState'), py_type='app.bsky.feed.defs#postView'), reason=None, reply=ReplyRef(parent=PostView(author=ProfileViewBasic(did='did:plc:qomkdnxrqw3gkbytdxea5z65', handle='skynetandchill.com', associated=None, avatar='https://cdn.bsky.app/img/avatar/plain/did:plc:qomkdnxrqw3gkbytdxea5z65/bafkreifrqqv5leasjhgndik4yisfzpmes35jakmgwqdnwpw6hd4kzni66u@jpeg', display_name='SkynetAndChill.com', labels=[], viewer=ViewerState(blocked_by=False, blocking=None, blocking_by_list=None, followed_by=None, following=None, muted=False, muted_by_list=None, py_type='app.bsky.actor.defs#viewerState'), py_type='app.bsky.actor.defs#profileViewBasic'), cid='bafyreidxjwr35mr22sftgqo2hidoetazm6balg5kamnny6hatg52uwxmc4', indexed_at='2024-03-28T13:27:56.490Z', record=Record(created_at='2024-03-28T13:27:56.490Z', text='The Jarvis coffee-making robot which you can find at Muji in NYC is fun.', embed=Main(external=External(description=\"But what this bot really runs on is tips. That's right folks, even robots are prompting customers to pay it forward on a tablet screen nowadays.\", title='NYC robot barista will make you coffee in minutes — but it also...', uri='https://nypost.com/2024/03/19/lifestyle/nyc-robot-barista-makes-you-coffee-but-it-also-demands-a-tip/', thumb=BlobRef(mime_type='image/jpeg', size=310549, ref=IpldLink(link='bafkreichgigtrclt52wmxux42x3of4z7lb2ysf6jzipc3dcfogbbzcutha'), py_type='blob'), py_type='app.bsky.embed.external#external'), py_type='app.bsky.embed.external'), entities=None, facets=None, labels=None, langs=['en'], reply=None, tags=None, py_type='app.bsky.feed.post'), uri='at://did:plc:qomkdnxrqw3gkbytdxea5z65/app.bsky.feed.post/3kor3ywcs2p2z', embed=View(external=ViewExternal(description=\"But what this bot really runs on is tips. That's right folks, even robots are prompting customers to pay it forward on a tablet screen nowadays.\", title='NYC robot barista will make you coffee in minutes — but it also...', uri='https://nypost.com/2024/03/19/lifestyle/nyc-robot-barista-makes-you-coffee-but-it-also-demands-a-tip/', thumb='https://cdn.bsky.app/img/feed_thumbnail/plain/did:plc:qomkdnxrqw3gkbytdxea5z65/bafkreichgigtrclt52wmxux42x3of4z7lb2ysf6jzipc3dcfogbbzcutha@jpeg', py_type='app.bsky.embed.external#viewExternal'), py_type='app.bsky.embed.external#view'), labels=[], like_count=0, reply_count=1, repost_count=0, threadgate=None, viewer=ViewerState(like=None, reply_disabled=None, repost=None, py_type='app.bsky.feed.defs#viewerState'), py_type='app.bsky.feed.defs#postView'), root=PostView(author=ProfileViewBasic(did='did:plc:qomkdnxrqw3gkbytdxea5z65', handle='skynetandchill.com', associated=None, avatar='https://cdn.bsky.app/img/avatar/plain/did:plc:qomkdnxrqw3gkbytdxea5z65/bafkreifrqqv5leasjhgndik4yisfzpmes35jakmgwqdnwpw6hd4kzni66u@jpeg', display_name='SkynetAndChill.com', labels=[], viewer=ViewerState(blocked_by=False, blocking=None, blocking_by_list=None, followed_by=None, following=None, muted=False, muted_by_list=None, py_type='app.bsky.actor.defs#viewerState'), py_type='app.bsky.actor.defs#profileViewBasic'), cid='bafyreidxjwr35mr22sftgqo2hidoetazm6balg5kamnny6hatg52uwxmc4', indexed_at='2024-03-28T13:27:56.490Z', record=Record(created_at='2024-03-28T13:27:56.490Z', text='The Jarvis coffee-making robot which you can find at Muji in NYC is fun.', embed=Main(external=External(description=\"But what this bot really runs on is tips. That's right folks, even robots are prompting customers to pay it forward on a tablet screen nowadays.\", title='NYC robot barista will make you coffee in minutes — but it also...', uri='https://nypost.com/2024/03/19/lifestyle/nyc-robot-barista-makes-you-coffee-but-it-also-demands-a-tip/', thumb=BlobRef(mime_type='image/jpeg', size=310549, ref=IpldLink(link='bafkreichgigtrclt52wmxux42x3of4z7lb2ysf6jzipc3dcfogbbzcutha'), py_type='blob'), py_type='app.bsky.embed.external#external'), py_type='app.bsky.embed.external'), entities=None, facets=None, labels=None, langs=['en'], reply=None, tags=None, py_type='app.bsky.feed.post'), uri='at://did:plc:qomkdnxrqw3gkbytdxea5z65/app.bsky.feed.post/3kor3ywcs2p2z', embed=View(external=ViewExternal(description=\"But what this bot really runs on is tips. That's right folks, even robots are prompting customers to pay it forward on a tablet screen nowadays.\", title='NYC robot barista will make you coffee in minutes — but it also...', uri='https://nypost.com/2024/03/19/lifestyle/nyc-robot-barista-makes-you-coffee-but-it-also-demands-a-tip/', thumb='https://cdn.bsky.app/img/feed_thumbnail/plain/did:plc:qomkdnxrqw3gkbytdxea5z65/bafkreichgigtrclt52wmxux42x3of4z7lb2ysf6jzipc3dcfogbbzcutha@jpeg', py_type='app.bsky.embed.external#viewExternal'), py_type='app.bsky.embed.external#view'), labels=[], like_count=0, reply_count=1, repost_count=0, threadgate=None, viewer=ViewerState(like=None, reply_disabled=None, repost=None, py_type='app.bsky.feed.defs#viewerState'), py_type='app.bsky.feed.defs#postView'), py_type='app.bsky.feed.defs#replyRef'), py_type='app.bsky.feed.defs#feedViewPost'), FeedViewPost(post=PostView(author=ProfileViewBasic(did='did:plc:qomkdnxrqw3gkbytdxea5z65', handle='skynetandchill.com', associated=None, avatar='https://cdn.bsky.app/img/avatar/plain/did:plc:qomkdnxrqw3gkbytdxea5z65/bafkreifrqqv5leasjhgndik4yisfzpmes35jakmgwqdnwpw6hd4kzni66u@jpeg', display_name='SkynetAndChill.com', labels=[], viewer=ViewerState(blocked_by=False, blocking=None, blocking_by_list=None, followed_by=None, following=None, muted=False, muted_by_list=None, py_type='app.bsky.actor.defs#viewerState'), py_type='app.bsky.actor.defs#profileViewBasic'), cid='bafyreidxjwr35mr22sftgqo2hidoetazm6balg5kamnny6hatg52uwxmc4', indexed_at='2024-03-28T13:27:56.490Z', record=Record(created_at='2024-03-28T13:27:56.490Z', text='The Jarvis coffee-making robot which you can find at Muji in NYC is fun.', embed=Main(external=External(description=\"But what this bot really runs on is tips. That's right folks, even robots are prompting customers to pay it forward on a tablet screen nowadays.\", title='NYC robot barista will make you coffee in minutes — but it also...', uri='https://nypost.com/2024/03/19/lifestyle/nyc-robot-barista-makes-you-coffee-but-it-also-demands-a-tip/', thumb=BlobRef(mime_type='image/jpeg', size=310549, ref=IpldLink(link='bafkreichgigtrclt52wmxux42x3of4z7lb2ysf6jzipc3dcfogbbzcutha'), py_type='blob'), py_type='app.bsky.embed.external#external'), py_type='app.bsky.embed.external'), entities=None, facets=None, labels=None, langs=['en'], reply=None, tags=None, py_type='app.bsky.feed.post'), uri='at://did:plc:qomkdnxrqw3gkbytdxea5z65/app.bsky.feed.post/3kor3ywcs2p2z', embed=View(external=ViewExternal(description=\"But what this bot really runs on is tips. That's right folks, even robots are prompting customers to pay it forward on a tablet screen nowadays.\", title='NYC robot barista will make you coffee in minutes — but it also...', uri='https://nypost.com/2024/03/19/lifestyle/nyc-robot-barista-makes-you-coffee-but-it-also-demands-a-tip/', thumb='https://cdn.bsky.app/img/feed_thumbnail/plain/did:plc:qomkdnxrqw3gkbytdxea5z65/bafkreichgigtrclt52wmxux42x3of4z7lb2ysf6jzipc3dcfogbbzcutha@jpeg', py_type='app.bsky.embed.external#viewExternal'), py_type='app.bsky.embed.external#view'), labels=[], like_count=0, reply_count=1, repost_count=0, threadgate=None, viewer=ViewerState(like=None, reply_disabled=None, repost=None, py_type='app.bsky.feed.defs#viewerState'), py_type='app.bsky.feed.defs#postView'), reason=None, reply=None, py_type='app.bsky.feed.defs#feedViewPost'), FeedViewPost(post=PostView(author=ProfileViewBasic(did='did:plc:qomkdnxrqw3gkbytdxea5z65', handle='skynetandchill.com', associated=None, avatar='https://cdn.bsky.app/img/avatar/plain/did:plc:qomkdnxrqw3gkbytdxea5z65/bafkreifrqqv5leasjhgndik4yisfzpmes35jakmgwqdnwpw6hd4kzni66u@jpeg', display_name='SkynetAndChill.com', labels=[], viewer=ViewerState(blocked_by=False, blocking=None, blocking_by_list=None, followed_by=None, following=None, muted=False, muted_by_list=None, py_type='app.bsky.actor.defs#viewerState'), py_type='app.bsky.actor.defs#profileViewBasic'), cid='bafyreibk6affaxlqbq7mibpvar5oswqpelj6puvjw6qppj5r27zc5iixp4', indexed_at='2024-03-28T13:26:01.597Z', record=Record(created_at='2024-03-28T13:26:01.597Z', text='US Treasury issues report on AI fraud prevention in banks.', embed=Main(external=External(description='A new U.S. Treasury report finds a gap in the data available to financial institutions for AI fraud prevention models.', title='Treasury Report Finds ‘Significant’ Gaps in AI Fraud Prevention', uri='https://www.pymnts.com/news/security-and-risk/2024/treasury-report-finds-significant-gaps-in-ai-fraud-prevention/', thumb=BlobRef(mime_type='image/jpeg', size=300100, ref=IpldLink(link='bafkreig44zjex2ycdjshaf4dqmshadkprvdgcoivlbbdcnauewaqbdf3j4'), py_type='blob'), py_type='app.bsky.embed.external#external'), py_type='app.bsky.embed.external'), entities=None, facets=None, labels=None, langs=['en'], reply=None, tags=None, py_type='app.bsky.feed.post'), uri='at://did:plc:qomkdnxrqw3gkbytdxea5z65/app.bsky.feed.post/3kor3visvxz2m', embed=View(external=ViewExternal(description='A new U.S. Treasury report finds a gap in the data available to financial institutions for AI fraud prevention models.', title='Treasury Report Finds ‘Significant’ Gaps in AI Fraud Prevention', uri='https://www.pymnts.com/news/security-and-risk/2024/treasury-report-finds-significant-gaps-in-ai-fraud-prevention/', thumb='https://cdn.bsky.app/img/feed_thumbnail/plain/did:plc:qomkdnxrqw3gkbytdxea5z65/bafkreig44zjex2ycdjshaf4dqmshadkprvdgcoivlbbdcnauewaqbdf3j4@jpeg', py_type='app.bsky.embed.external#viewExternal'), py_type='app.bsky.embed.external#view'), labels=[], like_count=0, reply_count=0, repost_count=0, threadgate=None, viewer=ViewerState(like=None, reply_disabled=None, repost=None, py_type='app.bsky.feed.defs#viewerState'), py_type='app.bsky.feed.defs#postView'), reason=None, reply=None, py_type='app.bsky.feed.defs#feedViewPost'), FeedViewPost(post=PostView(author=ProfileViewBasic(did='did:plc:qomkdnxrqw3gkbytdxea5z65', handle='skynetandchill.com', associated=None, avatar='https://cdn.bsky.app/img/avatar/plain/did:plc:qomkdnxrqw3gkbytdxea5z65/bafkreifrqqv5leasjhgndik4yisfzpmes35jakmgwqdnwpw6hd4kzni66u@jpeg', display_name='SkynetAndChill.com', labels=[], viewer=ViewerState(blocked_by=False, blocking=None, blocking_by_list=None, followed_by=None, following=None, muted=False, muted_by_list=None, py_type='app.bsky.actor.defs#viewerState'), py_type='app.bsky.actor.defs#profileViewBasic'), cid='bafyreidsqwoybhiyro27kphbdvotudl6jmkoui6la24eczkdkrqpswfjke', indexed_at='2024-03-28T13:24:57.073Z', record=Record(created_at='2024-03-28T13:24:57.073Z', text='Bad actors look for the nonexistent repo packages hallucinated by AI and upload malicious versions for victims to download.', embed=Main(external=External(description=\"Simply look out for libraries imagined by ML and make them real, with actual malicious code. No wait, don't do that\", title='AI bots hallucinate software packages and devs download them', uri='https://www.theregister.com/2024/03/28/ai_bots_hallucinate_software_packages/', thumb=BlobRef(mime_type='image/jpeg', size=279287, ref=IpldLink(link='bafkreifpbpey2qevx3uzau6vz6cfky4dh3b7ifu2x3lk6u267q2uq3xwf4'), py_type='blob'), py_type='app.bsky.embed.external#external'), py_type='app.bsky.embed.external'), entities=None, facets=None, labels=None, langs=['en'], reply=None, tags=None, py_type='app.bsky.feed.post'), uri='at://did:plc:qomkdnxrqw3gkbytdxea5z65/app.bsky.feed.post/3kor3tl6iz42a', embed=View(external=ViewExternal(description=\"Simply look out for libraries imagined by ML and make them real, with actual malicious code. No wait, don't do that\", title='AI bots hallucinate software packages and devs download them', uri='https://www.theregister.com/2024/03/28/ai_bots_hallucinate_software_packages/', thumb='https://cdn.bsky.app/img/feed_thumbnail/plain/did:plc:qomkdnxrqw3gkbytdxea5z65/bafkreifpbpey2qevx3uzau6vz6cfky4dh3b7ifu2x3lk6u267q2uq3xwf4@jpeg', py_type='app.bsky.embed.external#viewExternal'), py_type='app.bsky.embed.external#view'), labels=[], like_count=0, reply_count=0, repost_count=0, threadgate=None, viewer=ViewerState(like=None, reply_disabled=None, repost=None, py_type='app.bsky.feed.defs#viewerState'), py_type='app.bsky.feed.defs#postView'), reason=None, reply=None, py_type='app.bsky.feed.defs#feedViewPost'), FeedViewPost(post=PostView(author=ProfileViewBasic(did='did:plc:qomkdnxrqw3gkbytdxea5z65', handle='skynetandchill.com', associated=None, avatar='https://cdn.bsky.app/img/avatar/plain/did:plc:qomkdnxrqw3gkbytdxea5z65/bafkreifrqqv5leasjhgndik4yisfzpmes35jakmgwqdnwpw6hd4kzni66u@jpeg', display_name='SkynetAndChill.com', labels=[], viewer=ViewerState(blocked_by=False, blocking=None, blocking_by_list=None, followed_by=None, following=None, muted=False, muted_by_list=None, py_type='app.bsky.actor.defs#viewerState'), py_type='app.bsky.actor.defs#profileViewBasic'), cid='bafyreiee2ubvadwcyslnpll3ujnnziebl2sqmdo453gf4rr52fn7iqfrmm', indexed_at='2024-03-28T13:23:15.516Z', record=Record(created_at='2024-03-28T13:23:15.516Z', text='AI for wine, virtual sommelier recommendations and winemaker assistance.', embed=Main(external=External(description='AI: From the vineyard to the sales department, artificial intelligence is transforming the wine industry. For good or ill? Opinions are mixed', title='AI and wine: A taste of the future? - Decanter', uri='https://www.decanter.com/wine/ai-and-wine-a-taste-of-the-future-523210/', thumb=BlobRef(mime_type='image/jpeg', size=777806, ref=IpldLink(link='bafkreicvuy3a433ml3jywmkct4lwjjzbs3sgohfrhh4oasncbse3curenu'), py_type='blob'), py_type='app.bsky.embed.external#external'), py_type='app.bsky.embed.external'), entities=None, facets=None, labels=None, langs=['en'], reply=None, tags=None, py_type='app.bsky.feed.post'), uri='at://did:plc:qomkdnxrqw3gkbytdxea5z65/app.bsky.feed.post/3kor3qkh36e2p', embed=View(external=ViewExternal(description='AI: From the vineyard to the sales department, artificial intelligence is transforming the wine industry. For good or ill? Opinions are mixed', title='AI and wine: A taste of the future? - Decanter', uri='https://www.decanter.com/wine/ai-and-wine-a-taste-of-the-future-523210/', thumb='https://cdn.bsky.app/img/feed_thumbnail/plain/did:plc:qomkdnxrqw3gkbytdxea5z65/bafkreicvuy3a433ml3jywmkct4lwjjzbs3sgohfrhh4oasncbse3curenu@jpeg', py_type='app.bsky.embed.external#viewExternal'), py_type='app.bsky.embed.external#view'), labels=[], like_count=0, reply_count=0, repost_count=0, threadgate=None, viewer=ViewerState(like=None, reply_disabled=None, repost=None, py_type='app.bsky.feed.defs#viewerState'), py_type='app.bsky.feed.defs#postView'), reason=None, reply=None, py_type='app.bsky.feed.defs#feedViewPost'), FeedViewPost(post=PostView(author=ProfileViewBasic(did='did:plc:qomkdnxrqw3gkbytdxea5z65', handle='skynetandchill.com', associated=None, avatar='https://cdn.bsky.app/img/avatar/plain/did:plc:qomkdnxrqw3gkbytdxea5z65/bafkreifrqqv5leasjhgndik4yisfzpmes35jakmgwqdnwpw6hd4kzni66u@jpeg', display_name='SkynetAndChill.com', labels=[], viewer=ViewerState(blocked_by=False, blocking=None, blocking_by_list=None, followed_by=None, following=None, muted=False, muted_by_list=None, py_type='app.bsky.actor.defs#viewerState'), py_type='app.bsky.actor.defs#profileViewBasic'), cid='bafyreidc2bjm4txfwmu4haxaol54po5ew6eb3z6npmzj2oitpidrgz43na', indexed_at='2024-03-28T13:22:18.907Z', record=Record(created_at='2024-03-28T13:22:18.907Z', text='AI helps make better beer.', embed=Main(external=External(description=\"Beer: Even when its bad it's still pretty good.\", title=\"AI is poised to tackle some of the world's most important issues, including making beer taste better\", uri='https://www.pcgamer.com/software/ai/ai-is-poised-to-tackle-some-of-the-worlds-most-important-issues-including-making-beer-taste-better/', thumb=BlobRef(mime_type='image/jpeg', size=322734, ref=IpldLink(link='bafkreie7avdfrcbt34v4fo3g6of3y7rzmqadtpwp5skfcyyqafba6vc5by'), py_type='blob'), py_type='app.bsky.embed.external#external'), py_type='app.bsky.embed.external'), entities=None, facets=None, labels=None, langs=['en'], reply=None, tags=None, py_type='app.bsky.feed.post'), uri='at://did:plc:qomkdnxrqw3gkbytdxea5z65/app.bsky.feed.post/3kor3ougpn22e', embed=View(external=ViewExternal(description=\"Beer: Even when its bad it's still pretty good.\", title=\"AI is poised to tackle some of the world's most important issues, including making beer taste better\", uri='https://www.pcgamer.com/software/ai/ai-is-poised-to-tackle-some-of-the-worlds-most-important-issues-including-making-beer-taste-better/', thumb='https://cdn.bsky.app/img/feed_thumbnail/plain/did:plc:qomkdnxrqw3gkbytdxea5z65/bafkreie7avdfrcbt34v4fo3g6of3y7rzmqadtpwp5skfcyyqafba6vc5by@jpeg', py_type='app.bsky.embed.external#viewExternal'), py_type='app.bsky.embed.external#view'), labels=[], like_count=0, reply_count=0, repost_count=0, threadgate=None, viewer=ViewerState(like=None, reply_disabled=None, repost=None, py_type='app.bsky.feed.defs#viewerState'), py_type='app.bsky.feed.defs#postView'), reason=None, reply=None, py_type='app.bsky.feed.defs#feedViewPost'), FeedViewPost(post=PostView(author=ProfileViewBasic(did='did:plc:qomkdnxrqw3gkbytdxea5z65', handle='skynetandchill.com', associated=None, avatar='https://cdn.bsky.app/img/avatar/plain/did:plc:qomkdnxrqw3gkbytdxea5z65/bafkreifrqqv5leasjhgndik4yisfzpmes35jakmgwqdnwpw6hd4kzni66u@jpeg', display_name='SkynetAndChill.com', labels=[], viewer=ViewerState(blocked_by=False, blocking=None, blocking_by_list=None, followed_by=None, following=None, muted=False, muted_by_list=None, py_type='app.bsky.actor.defs#viewerState'), py_type='app.bsky.actor.defs#profileViewBasic'), cid='bafyreicmqisi3mk6efckatc24dasbcchwlv4pusgqaymkmjufobmj6ddey', indexed_at='2024-03-28T13:15:35.576Z', record=Record(created_at='2024-03-28T13:15:35.576Z', text='Gemini answers found less empathetic than ChatGPT and other chatbots.', embed=Main(external=External(description='Multiple LLM chat interfaces are used with real world scenarios to test their ability with respect to having empathetic conversations.', title='Testing the Extents of AI Empathy: A Nightmare Scenario | HackerNoon', uri='https://hackernoon.com/testing-the-extents-of-ai-empathy-a-nightmare-scenario', thumb=BlobRef(mime_type='image/jpeg', size=569293, ref=IpldLink(link='bafkreic3adix6jyxuvkdzut6yu7salew25frsluz7rnrlufjowaj6bbj7u'), py_type='blob'), py_type='app.bsky.embed.external#external'), py_type='app.bsky.embed.external'), entities=None, facets=None, labels=None, langs=['en'], reply=None, tags=None, py_type='app.bsky.feed.post'), uri='at://did:plc:qomkdnxrqw3gkbytdxea5z65/app.bsky.feed.post/3kor3ctrrtx2c', embed=View(external=ViewExternal(description='Multiple LLM chat interfaces are used with real world scenarios to test their ability with respect to having empathetic conversations.', title='Testing the Extents of AI Empathy: A Nightmare Scenario | HackerNoon', uri='https://hackernoon.com/testing-the-extents-of-ai-empathy-a-nightmare-scenario', thumb='https://cdn.bsky.app/img/feed_thumbnail/plain/did:plc:qomkdnxrqw3gkbytdxea5z65/bafkreic3adix6jyxuvkdzut6yu7salew25frsluz7rnrlufjowaj6bbj7u@jpeg', py_type='app.bsky.embed.external#viewExternal'), py_type='app.bsky.embed.external#view'), labels=[], like_count=0, reply_count=0, repost_count=0, threadgate=None, viewer=ViewerState(like=None, reply_disabled=None, repost=None, py_type='app.bsky.feed.defs#viewerState'), py_type='app.bsky.feed.defs#postView'), reason=None, reply=None, py_type='app.bsky.feed.defs#feedViewPost'), FeedViewPost(post=PostView(author=ProfileViewBasic(did='did:plc:qomkdnxrqw3gkbytdxea5z65', handle='skynetandchill.com', associated=None, avatar='https://cdn.bsky.app/img/avatar/plain/did:plc:qomkdnxrqw3gkbytdxea5z65/bafkreifrqqv5leasjhgndik4yisfzpmes35jakmgwqdnwpw6hd4kzni66u@jpeg', display_name='SkynetAndChill.com', labels=[], viewer=ViewerState(blocked_by=False, blocking=None, blocking_by_list=None, followed_by=None, following=None, muted=False, muted_by_list=None, py_type='app.bsky.actor.defs#viewerState'), py_type='app.bsky.actor.defs#profileViewBasic'), cid='bafyreih7c32pfncwdducskeeujfnwbdejr47iqlvkecvorwkkkyqabjd3m', indexed_at='2024-03-28T13:12:59.350Z', record=Record(created_at='2024-03-28T13:12:59.350Z', text='This robot senses your expressions and smiles back at you.', embed=Main(external=External(description='An AI-powered robot named Emo watches people’s facial expressions and tries to match them, in an effort to make robots more relatable', title=\"This robot predicts when you're going to smile – and smiles back\", uri='https://www.newscientist.com/article/2424545-this-robot-predicts-when-youre-going-to-smile-and-smiles-back/', thumb=BlobRef(mime_type='image/jpeg', size=257874, ref=IpldLink(link='bafkreifneqa4azkymbmrkf3rkser7q5pj4ys4gujq7ajgbi4sd2hj26p3y'), py_type='blob'), py_type='app.bsky.embed.external#external'), py_type='app.bsky.embed.external'), entities=None, facets=None, labels=None, langs=['en'], reply=None, tags=None, py_type='app.bsky.feed.post'), uri='at://did:plc:qomkdnxrqw3gkbytdxea5z65/app.bsky.feed.post/3kor366rptp2w', embed=View(external=ViewExternal(description='An AI-powered robot named Emo watches people’s facial expressions and tries to match them, in an effort to make robots more relatable', title=\"This robot predicts when you're going to smile – and smiles back\", uri='https://www.newscientist.com/article/2424545-this-robot-predicts-when-youre-going-to-smile-and-smiles-back/', thumb='https://cdn.bsky.app/img/feed_thumbnail/plain/did:plc:qomkdnxrqw3gkbytdxea5z65/bafkreifneqa4azkymbmrkf3rkser7q5pj4ys4gujq7ajgbi4sd2hj26p3y@jpeg', py_type='app.bsky.embed.external#viewExternal'), py_type='app.bsky.embed.external#view'), labels=[], like_count=0, reply_count=0, repost_count=0, threadgate=None, viewer=ViewerState(like=None, reply_disabled=None, repost=None, py_type='app.bsky.feed.defs#viewerState'), py_type='app.bsky.feed.defs#postView'), reason=None, reply=None, py_type='app.bsky.feed.defs#feedViewPost'), FeedViewPost(post=PostView(author=ProfileViewBasic(did='did:plc:qomkdnxrqw3gkbytdxea5z65', handle='skynetandchill.com', associated=None, avatar='https://cdn.bsky.app/img/avatar/plain/did:plc:qomkdnxrqw3gkbytdxea5z65/bafkreifrqqv5leasjhgndik4yisfzpmes35jakmgwqdnwpw6hd4kzni66u@jpeg', display_name='SkynetAndChill.com', labels=[], viewer=ViewerState(blocked_by=False, blocking=None, blocking_by_list=None, followed_by=None, following=None, muted=False, muted_by_list=None, py_type='app.bsky.actor.defs#viewerState'), py_type='app.bsky.actor.defs#profileViewBasic'), cid='bafyreiezdipsamiwxvr7r76bpr2fb5l2bww3heymt3u3reyr57nd72nwoy', indexed_at='2024-03-28T13:10:51.679Z', record=Record(created_at='2024-03-28T13:10:51.679Z', text=\"IT's top AI use cases, according to survey by Rackspace and AWS\", embed=Main(images=[Image(alt='', image=BlobRef(mime_type='image/jpeg', size=247659, ref=IpldLink(link='bafkreievnvddvpyupp2hfm47qqgxabvhtluztuarao46tui6qd44ejhuke'), py_type='blob'), aspect_ratio=AspectRatio(height=618, width=1286, py_type='app.bsky.embed.images#aspectRatio'), py_type='app.bsky.embed.images#image')], py_type='app.bsky.embed.images'), entities=None, facets=None, labels=None, langs=['en'], reply=None, tags=None, py_type='app.bsky.feed.post'), uri='at://did:plc:qomkdnxrqw3gkbytdxea5z65/app.bsky.feed.post/3kor32eybwc2z', embed=View(images=[ViewImage(alt='', fullsize='https://cdn.bsky.app/img/feed_fullsize/plain/did:plc:qomkdnxrqw3gkbytdxea5z65/bafkreievnvddvpyupp2hfm47qqgxabvhtluztuarao46tui6qd44ejhuke@jpeg', thumb='https://cdn.bsky.app/img/feed_thumbnail/plain/did:plc:qomkdnxrqw3gkbytdxea5z65/bafkreievnvddvpyupp2hfm47qqgxabvhtluztuarao46tui6qd44ejhuke@jpeg', aspect_ratio=AspectRatio(height=618, width=1286, py_type='app.bsky.embed.images#aspectRatio'), py_type='app.bsky.embed.images#viewImage')], py_type='app.bsky.embed.images#view'), labels=[], like_count=0, reply_count=0, repost_count=0, threadgate=None, viewer=ViewerState(like=None, reply_disabled=None, repost=None, py_type='app.bsky.feed.defs#viewerState'), py_type='app.bsky.feed.defs#postView'), reason=None, reply=None, py_type='app.bsky.feed.defs#feedViewPost'), FeedViewPost(post=PostView(author=ProfileViewBasic(did='did:plc:qomkdnxrqw3gkbytdxea5z65', handle='skynetandchill.com', associated=None, avatar='https://cdn.bsky.app/img/avatar/plain/did:plc:qomkdnxrqw3gkbytdxea5z65/bafkreifrqqv5leasjhgndik4yisfzpmes35jakmgwqdnwpw6hd4kzni66u@jpeg', display_name='SkynetAndChill.com', labels=[], viewer=ViewerState(blocked_by=False, blocking=None, blocking_by_list=None, followed_by=None, following=None, muted=False, muted_by_list=None, py_type='app.bsky.actor.defs#viewerState'), py_type='app.bsky.actor.defs#profileViewBasic'), cid='bafyreiczevjttbvcubhs55je57wzqsci5laferdb7l7f3cnskzmiesps6y', indexed_at='2024-03-28T13:08:20.026Z', record=Record(created_at='2024-03-28T13:08:20.026Z', text='9 features of the Humane AI pin. I could see it being a smartphone companion, like the watch, but constantly watching and listening.', embed=Main(external=External(description='Humane AI’s revolutionary Ai Pin is arriving this April. Here are some incredible use cases of the device that will virtually replace phones.', title='Humane’s Ai Pin is the ultimate smartphone killer: 9 incredible features', uri='https://indianexpress.com/article/technology/artificial-intelligence/humane-ai-pin-features-smartphone-killer-9226225/', thumb=BlobRef(mime_type='image/jpeg', size=273727, ref=IpldLink(link='bafkreigjv4xcgevidkmegzmgjmr7zhhiot737bxzs5ojtsxedvg7gi2rs4'), py_type='blob'), py_type='app.bsky.embed.external#external'), py_type='app.bsky.embed.external'), entities=None, facets=None, labels=None, langs=['en'], reply=None, tags=None, py_type='app.bsky.feed.post'), uri='at://did:plc:qomkdnxrqw3gkbytdxea5z65/app.bsky.feed.post/3kor2vuffbj2m', embed=View(external=ViewExternal(description='Humane AI’s revolutionary Ai Pin is arriving this April. Here are some incredible use cases of the device that will virtually replace phones.', title='Humane’s Ai Pin is the ultimate smartphone killer: 9 incredible features', uri='https://indianexpress.com/article/technology/artificial-intelligence/humane-ai-pin-features-smartphone-killer-9226225/', thumb='https://cdn.bsky.app/img/feed_thumbnail/plain/did:plc:qomkdnxrqw3gkbytdxea5z65/bafkreigjv4xcgevidkmegzmgjmr7zhhiot737bxzs5ojtsxedvg7gi2rs4@jpeg', py_type='app.bsky.embed.external#viewExternal'), py_type='app.bsky.embed.external#view'), labels=[], like_count=0, reply_count=0, repost_count=0, threadgate=None, viewer=ViewerState(like=None, reply_disabled=None, repost=None, py_type='app.bsky.feed.defs#viewerState'), py_type='app.bsky.feed.defs#postView'), reason=None, reply=None, py_type='app.bsky.feed.defs#feedViewPost'), FeedViewPost(post=PostView(author=ProfileViewBasic(did='did:plc:qomkdnxrqw3gkbytdxea5z65', handle='skynetandchill.com', associated=None, avatar='https://cdn.bsky.app/img/avatar/plain/did:plc:qomkdnxrqw3gkbytdxea5z65/bafkreifrqqv5leasjhgndik4yisfzpmes35jakmgwqdnwpw6hd4kzni66u@jpeg', display_name='SkynetAndChill.com', labels=[], viewer=ViewerState(blocked_by=False, blocking=None, blocking_by_list=None, followed_by=None, following=None, muted=False, muted_by_list=None, py_type='app.bsky.actor.defs#viewerState'), py_type='app.bsky.actor.defs#profileViewBasic'), cid='bafyreid7jccm6zdyjhe4xuljzwpp3mnm2wrfz6h3w2z54ejy42zxuflzyy', indexed_at='2024-03-28T13:06:10.660Z', record=Record(created_at='2024-03-28T13:06:10.660Z', text='NYT review says they are a bit hit or miss', embed=Main(external=External(description='What happens when a columnist and a reporter use A.I. glasses to scan groceries, monuments and zoo animals? Hilarity, wonder and lots of mistakes ensued.', title='Meta’s Smart Glasses Are Becoming Artificially Intelligent. We Took Them for a Spin.', uri='https://www.nytimes.com/2024/03/28/technology/personaltech/smart-glasses-ray-ban-meta.html', thumb=BlobRef(mime_type='image/jpeg', size=313220, ref=IpldLink(link='bafkreibcyjml2hgv6fqgjesbnymyg6yx2oaslem7pbfd6o2evekdt5ye6q'), py_type='blob'), py_type='app.bsky.embed.external#external'), py_type='app.bsky.embed.external'), entities=None, facets=None, labels=None, langs=['en'], reply=ReplyRef(parent=Main(cid='bafyreibydsi66paiowt27x6obitpsmazacq7qxc5gjmxbnsruvn6e4eibu', uri='at://did:plc:qomkdnxrqw3gkbytdxea5z65/app.bsky.feed.post/3kor2o7neg72l', py_type='com.atproto.repo.strongRef'), root=Main(cid='bafyreibydsi66paiowt27x6obitpsmazacq7qxc5gjmxbnsruvn6e4eibu', uri='at://did:plc:qomkdnxrqw3gkbytdxea5z65/app.bsky.feed.post/3kor2o7neg72l', py_type='com.atproto.repo.strongRef'), py_type='app.bsky.feed.post#replyRef'), tags=None, py_type='app.bsky.feed.post'), uri='at://did:plc:qomkdnxrqw3gkbytdxea5z65/app.bsky.feed.post/3kor2ryxxjg2g', embed=View(external=ViewExternal(description='What happens when a columnist and a reporter use A.I. glasses to scan groceries, monuments and zoo animals? Hilarity, wonder and lots of mistakes ensued.', title='Meta’s Smart Glasses Are Becoming Artificially Intelligent. We Took Them for a Spin.', uri='https://www.nytimes.com/2024/03/28/technology/personaltech/smart-glasses-ray-ban-meta.html', thumb='https://cdn.bsky.app/img/feed_thumbnail/plain/did:plc:qomkdnxrqw3gkbytdxea5z65/bafkreibcyjml2hgv6fqgjesbnymyg6yx2oaslem7pbfd6o2evekdt5ye6q@jpeg', py_type='app.bsky.embed.external#viewExternal'), py_type='app.bsky.embed.external#view'), labels=[], like_count=0, reply_count=0, repost_count=0, threadgate=None, viewer=ViewerState(like=None, reply_disabled=None, repost=None, py_type='app.bsky.feed.defs#viewerState'), py_type='app.bsky.feed.defs#postView'), reason=None, reply=ReplyRef(parent=PostView(author=ProfileViewBasic(did='did:plc:qomkdnxrqw3gkbytdxea5z65', handle='skynetandchill.com', associated=None, avatar='https://cdn.bsky.app/img/avatar/plain/did:plc:qomkdnxrqw3gkbytdxea5z65/bafkreifrqqv5leasjhgndik4yisfzpmes35jakmgwqdnwpw6hd4kzni66u@jpeg', display_name='SkynetAndChill.com', labels=[], viewer=ViewerState(blocked_by=False, blocking=None, blocking_by_list=None, followed_by=None, following=None, muted=False, muted_by_list=None, py_type='app.bsky.actor.defs#viewerState'), py_type='app.bsky.actor.defs#profileViewBasic'), cid='bafyreibydsi66paiowt27x6obitpsmazacq7qxc5gjmxbnsruvn6e4eibu', indexed_at='2024-03-28T13:04:03.392Z', record=Record(created_at='2024-03-28T13:04:03.392Z', text=\"Meta posted a paper and video showing how its AR glasses detect a room's geometry and do object detection.\", embed=Main(external=External(description='Today, we’re introducing SceneScript, a novel method for reconstructing environments and representing the layout of physical spaces.', title='Introducing SceneScript, a novel approach for 3D scene reconstruction', uri='https://ai.meta.com/blog/scenescript-3d-scene-reconstruction-reality-labs-research/?utm_source=twitter&utm_medium=organic_social&utm_campaign=research&utm_content=video', thumb=None, py_type='app.bsky.embed.external#external'), py_type='app.bsky.embed.external'), entities=None, facets=None, labels=None, langs=['en'], reply=None, tags=None, py_type='app.bsky.feed.post'), uri='at://did:plc:qomkdnxrqw3gkbytdxea5z65/app.bsky.feed.post/3kor2o7neg72l', embed=View(external=ViewExternal(description='Today, we’re introducing SceneScript, a novel method for reconstructing environments and representing the layout of physical spaces.', title='Introducing SceneScript, a novel approach for 3D scene reconstruction', uri='https://ai.meta.com/blog/scenescript-3d-scene-reconstruction-reality-labs-research/?utm_source=twitter&utm_medium=organic_social&utm_campaign=research&utm_content=video', thumb=None, py_type='app.bsky.embed.external#viewExternal'), py_type='app.bsky.embed.external#view'), labels=[], like_count=0, reply_count=1, repost_count=0, threadgate=None, viewer=ViewerState(like=None, reply_disabled=None, repost=None, py_type='app.bsky.feed.defs#viewerState'), py_type='app.bsky.feed.defs#postView'), root=PostView(author=ProfileViewBasic(did='did:plc:qomkdnxrqw3gkbytdxea5z65', handle='skynetandchill.com', associated=None, avatar='https://cdn.bsky.app/img/avatar/plain/did:plc:qomkdnxrqw3gkbytdxea5z65/bafkreifrqqv5leasjhgndik4yisfzpmes35jakmgwqdnwpw6hd4kzni66u@jpeg', display_name='SkynetAndChill.com', labels=[], viewer=ViewerState(blocked_by=False, blocking=None, blocking_by_list=None, followed_by=None, following=None, muted=False, muted_by_list=None, py_type='app.bsky.actor.defs#viewerState'), py_type='app.bsky.actor.defs#profileViewBasic'), cid='bafyreibydsi66paiowt27x6obitpsmazacq7qxc5gjmxbnsruvn6e4eibu', indexed_at='2024-03-28T13:04:03.392Z', record=Record(created_at='2024-03-28T13:04:03.392Z', text=\"Meta posted a paper and video showing how its AR glasses detect a room's geometry and do object detection.\", embed=Main(external=External(description='Today, we’re introducing SceneScript, a novel method for reconstructing environments and representing the layout of physical spaces.', title='Introducing SceneScript, a novel approach for 3D scene reconstruction', uri='https://ai.meta.com/blog/scenescript-3d-scene-reconstruction-reality-labs-research/?utm_source=twitter&utm_medium=organic_social&utm_campaign=research&utm_content=video', thumb=None, py_type='app.bsky.embed.external#external'), py_type='app.bsky.embed.external'), entities=None, facets=None, labels=None, langs=['en'], reply=None, tags=None, py_type='app.bsky.feed.post'), uri='at://did:plc:qomkdnxrqw3gkbytdxea5z65/app.bsky.feed.post/3kor2o7neg72l', embed=View(external=ViewExternal(description='Today, we’re introducing SceneScript, a novel method for reconstructing environments and representing the layout of physical spaces.', title='Introducing SceneScript, a novel approach for 3D scene reconstruction', uri='https://ai.meta.com/blog/scenescript-3d-scene-reconstruction-reality-labs-research/?utm_source=twitter&utm_medium=organic_social&utm_campaign=research&utm_content=video', thumb=None, py_type='app.bsky.embed.external#viewExternal'), py_type='app.bsky.embed.external#view'), labels=[], like_count=0, reply_count=1, repost_count=0, threadgate=None, viewer=ViewerState(like=None, reply_disabled=None, repost=None, py_type='app.bsky.feed.defs#viewerState'), py_type='app.bsky.feed.defs#postView'), py_type='app.bsky.feed.defs#replyRef'), py_type='app.bsky.feed.defs#feedViewPost'), FeedViewPost(post=PostView(author=ProfileViewBasic(did='did:plc:qomkdnxrqw3gkbytdxea5z65', handle='skynetandchill.com', associated=None, avatar='https://cdn.bsky.app/img/avatar/plain/did:plc:qomkdnxrqw3gkbytdxea5z65/bafkreifrqqv5leasjhgndik4yisfzpmes35jakmgwqdnwpw6hd4kzni66u@jpeg', display_name='SkynetAndChill.com', labels=[], viewer=ViewerState(blocked_by=False, blocking=None, blocking_by_list=None, followed_by=None, following=None, muted=False, muted_by_list=None, py_type='app.bsky.actor.defs#viewerState'), py_type='app.bsky.actor.defs#profileViewBasic'), cid='bafyreibydsi66paiowt27x6obitpsmazacq7qxc5gjmxbnsruvn6e4eibu', indexed_at='2024-03-28T13:04:03.392Z', record=Record(created_at='2024-03-28T13:04:03.392Z', text=\"Meta posted a paper and video showing how its AR glasses detect a room's geometry and do object detection.\", embed=Main(external=External(description='Today, we’re introducing SceneScript, a novel method for reconstructing environments and representing the layout of physical spaces.', title='Introducing SceneScript, a novel approach for 3D scene reconstruction', uri='https://ai.meta.com/blog/scenescript-3d-scene-reconstruction-reality-labs-research/?utm_source=twitter&utm_medium=organic_social&utm_campaign=research&utm_content=video', thumb=None, py_type='app.bsky.embed.external#external'), py_type='app.bsky.embed.external'), entities=None, facets=None, labels=None, langs=['en'], reply=None, tags=None, py_type='app.bsky.feed.post'), uri='at://did:plc:qomkdnxrqw3gkbytdxea5z65/app.bsky.feed.post/3kor2o7neg72l', embed=View(external=ViewExternal(description='Today, we’re introducing SceneScript, a novel method for reconstructing environments and representing the layout of physical spaces.', title='Introducing SceneScript, a novel approach for 3D scene reconstruction', uri='https://ai.meta.com/blog/scenescript-3d-scene-reconstruction-reality-labs-research/?utm_source=twitter&utm_medium=organic_social&utm_campaign=research&utm_content=video', thumb=None, py_type='app.bsky.embed.external#viewExternal'), py_type='app.bsky.embed.external#view'), labels=[], like_count=0, reply_count=1, repost_count=0, threadgate=None, viewer=ViewerState(like=None, reply_disabled=None, repost=None, py_type='app.bsky.feed.defs#viewerState'), py_type='app.bsky.feed.defs#postView'), reason=None, reply=None, py_type='app.bsky.feed.defs#feedViewPost'), FeedViewPost(post=PostView(author=ProfileViewBasic(did='did:plc:qomkdnxrqw3gkbytdxea5z65', handle='skynetandchill.com', associated=None, avatar='https://cdn.bsky.app/img/avatar/plain/did:plc:qomkdnxrqw3gkbytdxea5z65/bafkreifrqqv5leasjhgndik4yisfzpmes35jakmgwqdnwpw6hd4kzni66u@jpeg', display_name='SkynetAndChill.com', labels=[], viewer=ViewerState(blocked_by=False, blocking=None, blocking_by_list=None, followed_by=None, following=None, muted=False, muted_by_list=None, py_type='app.bsky.actor.defs#viewerState'), py_type='app.bsky.actor.defs#profileViewBasic'), cid='bafyreib5l63rrvoc44xdilrre6rbyn5f3vqjnqqeav2ca7sps5twmn5ram', indexed_at='2024-03-28T13:01:35.521Z', record=Record(created_at='2024-03-28T13:01:35.521Z', text='Palmer Luckey, the AI Oppenheimer in flip-flops?', embed=Main(external=External(description='Anduril Industries’ Palmer Luckey is leading the start-ups infiltrating the US government’s war machine', title='How Silicon Valley’s ‘Oppenheimer’ found lucrative trade in AI weapons', uri='https://www.ft.com/content/ce6f96f8-6ab8-4089-b7db-f99db22c2071', thumb=BlobRef(mime_type='image/jpeg', size=289546, ref=IpldLink(link='bafkreiejrz7h6twcb2xkxitly6wehwqnapcnun46ysfrzzlelp6oevdubq'), py_type='blob'), py_type='app.bsky.embed.external#external'), py_type='app.bsky.embed.external'), entities=None, facets=None, labels=None, langs=['en'], reply=None, tags=None, py_type='app.bsky.feed.post'), uri='at://did:plc:qomkdnxrqw3gkbytdxea5z65/app.bsky.feed.post/3kor2jslosx2c', embed=View(external=ViewExternal(description='Anduril Industries’ Palmer Luckey is leading the start-ups infiltrating the US government’s war machine', title='How Silicon Valley’s ‘Oppenheimer’ found lucrative trade in AI weapons', uri='https://www.ft.com/content/ce6f96f8-6ab8-4089-b7db-f99db22c2071', thumb='https://cdn.bsky.app/img/feed_thumbnail/plain/did:plc:qomkdnxrqw3gkbytdxea5z65/bafkreiejrz7h6twcb2xkxitly6wehwqnapcnun46ysfrzzlelp6oevdubq@jpeg', py_type='app.bsky.embed.external#viewExternal'), py_type='app.bsky.embed.external#view'), labels=[], like_count=0, reply_count=0, repost_count=0, threadgate=None, viewer=ViewerState(like=None, reply_disabled=None, repost=None, py_type='app.bsky.feed.defs#viewerState'), py_type='app.bsky.feed.defs#postView'), reason=None, reply=None, py_type='app.bsky.feed.defs#feedViewPost'), FeedViewPost(post=PostView(author=ProfileViewBasic(did='did:plc:qomkdnxrqw3gkbytdxea5z65', handle='skynetandchill.com', associated=None, avatar='https://cdn.bsky.app/img/avatar/plain/did:plc:qomkdnxrqw3gkbytdxea5z65/bafkreifrqqv5leasjhgndik4yisfzpmes35jakmgwqdnwpw6hd4kzni66u@jpeg', display_name='SkynetAndChill.com', labels=[], viewer=ViewerState(blocked_by=False, blocking=None, blocking_by_list=None, followed_by=None, following=None, muted=False, muted_by_list=None, py_type='app.bsky.actor.defs#viewerState'), py_type='app.bsky.actor.defs#profileViewBasic'), cid='bafyreiexakcu4pzjqedexgb3zp5zxir66afxf2yatcb7nwi7rhu4mwipca', indexed_at='2024-03-28T13:00:36.286Z', record=Record(created_at='2024-03-28T13:00:36.286Z', text='AI for medical imaging is a scene of intense activity.', embed=Main(external=External(description='With artificial intelligence in health care on the rise, eye screenings for diabetic retinopathy are emerging as one of the first proven use cases of AI-based diagnostics in a clinical setting.', title='As AI Eye Exams Prove Their Worth, Lessons for Future Tech Emerge - KFF Health News', uri='https://kffhealthnews.org/news/article/artificial-intelligence-ai-eye-exams-diabetic-retinopathy-innovation/', thumb=BlobRef(mime_type='image/jpeg', size=290008, ref=IpldLink(link='bafkreic3uwdynm2gzinkeufcw33yu563lcbwj7ygd3yzawymwpwomrzgri'), py_type='blob'), py_type='app.bsky.embed.external#external'), py_type='app.bsky.embed.external'), entities=None, facets=None, labels=None, langs=['en'], reply=None, tags=None, py_type='app.bsky.feed.post'), uri='at://did:plc:qomkdnxrqw3gkbytdxea5z65/app.bsky.feed.post/3kor2i23vkx2s', embed=View(external=ViewExternal(description='With artificial intelligence in health care on the rise, eye screenings for diabetic retinopathy are emerging as one of the first proven use cases of AI-based diagnostics in a clinical setting.', title='As AI Eye Exams Prove Their Worth, Lessons for Future Tech Emerge - KFF Health News', uri='https://kffhealthnews.org/news/article/artificial-intelligence-ai-eye-exams-diabetic-retinopathy-innovation/', thumb='https://cdn.bsky.app/img/feed_thumbnail/plain/did:plc:qomkdnxrqw3gkbytdxea5z65/bafkreic3uwdynm2gzinkeufcw33yu563lcbwj7ygd3yzawymwpwomrzgri@jpeg', py_type='app.bsky.embed.external#viewExternal'), py_type='app.bsky.embed.external#view'), labels=[], like_count=0, reply_count=0, repost_count=0, threadgate=None, viewer=ViewerState(like=None, reply_disabled=None, repost=None, py_type='app.bsky.feed.defs#viewerState'), py_type='app.bsky.feed.defs#postView'), reason=None, reply=None, py_type='app.bsky.feed.defs#feedViewPost'), FeedViewPost(post=PostView(author=ProfileViewBasic(did='did:plc:qomkdnxrqw3gkbytdxea5z65', handle='skynetandchill.com', associated=None, avatar='https://cdn.bsky.app/img/avatar/plain/did:plc:qomkdnxrqw3gkbytdxea5z65/bafkreifrqqv5leasjhgndik4yisfzpmes35jakmgwqdnwpw6hd4kzni66u@jpeg', display_name='SkynetAndChill.com', labels=[], viewer=ViewerState(blocked_by=False, blocking=None, blocking_by_list=None, followed_by=None, following=None, muted=False, muted_by_list=None, py_type='app.bsky.actor.defs#viewerState'), py_type='app.bsky.actor.defs#profileViewBasic'), cid='bafyreibbezgfcdzn7uadelly7qa2a6whbls56dr2rdevgkkbzrodqdadqa', indexed_at='2024-03-28T12:52:03.918Z', record=Record(created_at='2024-03-28T12:52:03.918Z', text='OMB issues AI guidelines for Federal agencies', embed=Main(external=External(description='The AI officers will have to ensure transparency of AI use in government.', title='Every US federal agency must hire a chief AI officer', uri='https://www.theverge.com/2024/3/28/24114105/federal-agencies-ai-responsible-guidance-omb-caio', thumb=BlobRef(mime_type='image/jpeg', size=460863, ref=IpldLink(link='bafkreibedlhiqo2pm4wm523mopob5tfvndc7dbyavwcgajao6gandsehfa'), py_type='blob'), py_type='app.bsky.embed.external#external'), py_type='app.bsky.embed.external'), entities=None, facets=None, labels=None, langs=['en'], reply=None, tags=None, py_type='app.bsky.feed.post'), uri='at://did:plc:qomkdnxrqw3gkbytdxea5z65/app.bsky.feed.post/3koqzyrjtgs24', embed=View(external=ViewExternal(description='The AI officers will have to ensure transparency of AI use in government.', title='Every US federal agency must hire a chief AI officer', uri='https://www.theverge.com/2024/3/28/24114105/federal-agencies-ai-responsible-guidance-omb-caio', thumb='https://cdn.bsky.app/img/feed_thumbnail/plain/did:plc:qomkdnxrqw3gkbytdxea5z65/bafkreibedlhiqo2pm4wm523mopob5tfvndc7dbyavwcgajao6gandsehfa@jpeg', py_type='app.bsky.embed.external#viewExternal'), py_type='app.bsky.embed.external#view'), labels=[], like_count=0, reply_count=0, repost_count=0, threadgate=None, viewer=ViewerState(like=None, reply_disabled=None, repost=None, py_type='app.bsky.feed.defs#viewerState'), py_type='app.bsky.feed.defs#postView'), reason=None, reply=None, py_type='app.bsky.feed.defs#feedViewPost'), FeedViewPost(post=PostView(author=ProfileViewBasic(did='did:plc:qomkdnxrqw3gkbytdxea5z65', handle='skynetandchill.com', associated=None, avatar='https://cdn.bsky.app/img/avatar/plain/did:plc:qomkdnxrqw3gkbytdxea5z65/bafkreifrqqv5leasjhgndik4yisfzpmes35jakmgwqdnwpw6hd4kzni66u@jpeg', display_name='SkynetAndChill.com', labels=[], viewer=ViewerState(blocked_by=False, blocking=None, blocking_by_list=None, followed_by=None, following=None, muted=False, muted_by_list=None, py_type='app.bsky.actor.defs#viewerState'), py_type='app.bsky.actor.defs#profileViewBasic'), cid='bafyreiddpwi2txp7hcfmr57zainsfvknidipg3xebl6umdfiy75eqcmn7a', indexed_at='2024-03-28T12:51:31.850Z', record=Record(created_at='2024-03-28T12:51:31.850Z', text=\"AI 'Tinderizes' recruiting, enshittifies everything\", embed=Main(external=External(description=\"AI is increasingly being used by job seekers and businesses to help with recruitment, so are we seeing the 'Tinderfication' of our careers?\", title='Is AI turning recruitment into the new online dating? - CityAM', uri='https://www.cityam.com/is-ai-turning-recruitment-into-the-new-online-dating/', thumb=BlobRef(mime_type='image/jpeg', size=320409, ref=IpldLink(link='bafkreic5kicuv5mr6dn52raify2pizazyq5qtny754b27lmbsz7lrwenpi'), py_type='blob'), py_type='app.bsky.embed.external#external'), py_type='app.bsky.embed.external'), entities=None, facets=None, labels=None, langs=['en'], reply=None, tags=None, py_type='app.bsky.feed.post'), uri='at://did:plc:qomkdnxrqw3gkbytdxea5z65/app.bsky.feed.post/3koqzxsx7ss2y', embed=View(external=ViewExternal(description=\"AI is increasingly being used by job seekers and businesses to help with recruitment, so are we seeing the 'Tinderfication' of our careers?\", title='Is AI turning recruitment into the new online dating? - CityAM', uri='https://www.cityam.com/is-ai-turning-recruitment-into-the-new-online-dating/', thumb='https://cdn.bsky.app/img/feed_thumbnail/plain/did:plc:qomkdnxrqw3gkbytdxea5z65/bafkreic5kicuv5mr6dn52raify2pizazyq5qtny754b27lmbsz7lrwenpi@jpeg', py_type='app.bsky.embed.external#viewExternal'), py_type='app.bsky.embed.external#view'), labels=[], like_count=0, reply_count=0, repost_count=0, threadgate=None, viewer=ViewerState(like=None, reply_disabled=None, repost=None, py_type='app.bsky.feed.defs#viewerState'), py_type='app.bsky.feed.defs#postView'), reason=None, reply=None, py_type='app.bsky.feed.defs#feedViewPost'), FeedViewPost(post=PostView(author=ProfileViewBasic(did='did:plc:qomkdnxrqw3gkbytdxea5z65', handle='skynetandchill.com', associated=None, avatar='https://cdn.bsky.app/img/avatar/plain/did:plc:qomkdnxrqw3gkbytdxea5z65/bafkreifrqqv5leasjhgndik4yisfzpmes35jakmgwqdnwpw6hd4kzni66u@jpeg', display_name='SkynetAndChill.com', labels=[], viewer=ViewerState(blocked_by=False, blocking=None, blocking_by_list=None, followed_by=None, following=None, muted=False, muted_by_list=None, py_type='app.bsky.actor.defs#viewerState'), py_type='app.bsky.actor.defs#profileViewBasic'), cid='bafyreihjiepbwps7h6zbbwk5fggqm5ouneqrnasjvydgomzonaxw7cvhdi', indexed_at='2024-03-28T12:45:45.513Z', record=Record(created_at='2024-03-28T12:45:45.513Z', text=\"Some say Google's SGE takes up real estate,  slows down searches, and there is no opt-out\", embed=Main(external=External(description='The search chatbot used to be opt-in, but now Google will try it on normal users.', title='Where’d my results go? Google Search’s chatbot is no longer opt-in', uri='https://arstechnica.com/gadgets/2024/03/google-search-will-start-automatically-showing-a-chatbot-to-some-users/', thumb=BlobRef(mime_type='image/jpeg', size=837091, ref=IpldLink(link='bafkreiacappoj4kpwklihnzmlq7znzrehphuy2ggvgw4tjqh2qafrrbrhe'), py_type='blob'), py_type='app.bsky.embed.external#external'), py_type='app.bsky.embed.external'), entities=None, facets=None, labels=None, langs=['en'], reply=None, tags=None, py_type='app.bsky.feed.post'), uri='at://did:plc:qomkdnxrqw3gkbytdxea5z65/app.bsky.feed.post/3koqzniq2fx2c', embed=View(external=ViewExternal(description='The search chatbot used to be opt-in, but now Google will try it on normal users.', title='Where’d my results go? Google Search’s chatbot is no longer opt-in', uri='https://arstechnica.com/gadgets/2024/03/google-search-will-start-automatically-showing-a-chatbot-to-some-users/', thumb='https://cdn.bsky.app/img/feed_thumbnail/plain/did:plc:qomkdnxrqw3gkbytdxea5z65/bafkreiacappoj4kpwklihnzmlq7znzrehphuy2ggvgw4tjqh2qafrrbrhe@jpeg', py_type='app.bsky.embed.external#viewExternal'), py_type='app.bsky.embed.external#view'), labels=[], like_count=0, reply_count=0, repost_count=0, threadgate=None, viewer=ViewerState(like=None, reply_disabled=None, repost=None, py_type='app.bsky.feed.defs#viewerState'), py_type='app.bsky.feed.defs#postView'), reason=None, reply=None, py_type='app.bsky.feed.defs#feedViewPost'), FeedViewPost(post=PostView(author=ProfileViewBasic(did='did:plc:qomkdnxrqw3gkbytdxea5z65', handle='skynetandchill.com', associated=None, avatar='https://cdn.bsky.app/img/avatar/plain/did:plc:qomkdnxrqw3gkbytdxea5z65/bafkreifrqqv5leasjhgndik4yisfzpmes35jakmgwqdnwpw6hd4kzni66u@jpeg', display_name='SkynetAndChill.com', labels=[], viewer=ViewerState(blocked_by=False, blocking=None, blocking_by_list=None, followed_by=None, following=None, muted=False, muted_by_list=None, py_type='app.bsky.actor.defs#viewerState'), py_type='app.bsky.actor.defs#profileViewBasic'), cid='bafyreie6u3hdugmwx4inxos4o2wf4yppwu4v4tnvsyqlq66zene4ji7jnq', indexed_at='2024-03-28T12:44:09.563Z', record=Record(created_at='2024-03-28T12:44:09.563Z', text='Sketchy apps are popular in the GPT Store, like, write something and avoid plagiarism detection, and pick stocks', embed=Main(images=[Image(alt='', image=BlobRef(mime_type='image/jpeg', size=242611, ref=IpldLink(link='bafkreifdcewisccttixdrmgcyrqvjnydlfxyvvope4xqqb42v2iaqmb6ie'), py_type='blob'), aspect_ratio=AspectRatio(height=816, width=1138, py_type='app.bsky.embed.images#aspectRatio'), py_type='app.bsky.embed.images#image')], py_type='app.bsky.embed.images'), entities=None, facets=None, labels=None, langs=['en'], reply=None, tags=None, py_type='app.bsky.feed.post'), uri='at://did:plc:qomkdnxrqw3gkbytdxea5z65/app.bsky.feed.post/3koqzkn5zje2k', embed=View(images=[ViewImage(alt='', fullsize='https://cdn.bsky.app/img/feed_fullsize/plain/did:plc:qomkdnxrqw3gkbytdxea5z65/bafkreifdcewisccttixdrmgcyrqvjnydlfxyvvope4xqqb42v2iaqmb6ie@jpeg', thumb='https://cdn.bsky.app/img/feed_thumbnail/plain/did:plc:qomkdnxrqw3gkbytdxea5z65/bafkreifdcewisccttixdrmgcyrqvjnydlfxyvvope4xqqb42v2iaqmb6ie@jpeg', aspect_ratio=AspectRatio(height=816, width=1138, py_type='app.bsky.embed.images#aspectRatio'), py_type='app.bsky.embed.images#viewImage')], py_type='app.bsky.embed.images#view'), labels=[], like_count=0, reply_count=0, repost_count=0, threadgate=None, viewer=ViewerState(like=None, reply_disabled=None, repost=None, py_type='app.bsky.feed.defs#viewerState'), py_type='app.bsky.feed.defs#postView'), reason=None, reply=None, py_type='app.bsky.feed.defs#feedViewPost'), FeedViewPost(post=PostView(author=ProfileViewBasic(did='did:plc:qomkdnxrqw3gkbytdxea5z65', handle='skynetandchill.com', associated=None, avatar='https://cdn.bsky.app/img/avatar/plain/did:plc:qomkdnxrqw3gkbytdxea5z65/bafkreifrqqv5leasjhgndik4yisfzpmes35jakmgwqdnwpw6hd4kzni66u@jpeg', display_name='SkynetAndChill.com', labels=[], viewer=ViewerState(blocked_by=False, blocking=None, blocking_by_list=None, followed_by=None, following=None, muted=False, muted_by_list=None, py_type='app.bsky.actor.defs#viewerState'), py_type='app.bsky.actor.defs#profileViewBasic'), cid='bafyreid3qfp5n43j7ktiim5fjobhqkaxio4jdbezxtwmwmqwewhxckzree', indexed_at='2024-03-28T12:34:25.216Z', record=Record(created_at='2024-03-28T12:34:25.216Z', text=\"A tick tock on problems at Stability AI, somehow doesn't mention the project's academic origins and how the German researchers who created the Stable Diffusion algorithm felt Mostaque ripped them off and split, some of them landing at Runway.\", embed=Main(external=External(description='Stability AI, led by CEO Emad Mostaque, emerged as one of the first high-flying startups in the generative AI boom, garnering a $1 billion seed valuation. Within months the relationship with investors...', title='Inside the rise and fall of AI’s open source king and his $1 billion startup—and the bad breakup with key investors Coatue and Lightspeed', uri='https://fortune.com/2024/03/27/inside-stability-ai-emad-mostaque-bad-breakup-vc-investors-coatue-lightspeed/', thumb=BlobRef(mime_type='image/jpeg', size=668419, ref=IpldLink(link='bafkreiei67ebuzpzxg4kizmwxji7xg3x73jjeyymedgxgxzz5tzw3cxe3m'), py_type='blob'), py_type='app.bsky.embed.external#external'), py_type='app.bsky.embed.external'), entities=None, facets=None, labels=None, langs=['en'], reply=None, tags=None, py_type='app.bsky.feed.post'), uri='at://did:plc:qomkdnxrqw3gkbytdxea5z65/app.bsky.feed.post/3koqyz7w3ib2x', embed=View(external=ViewExternal(description='Stability AI, led by CEO Emad Mostaque, emerged as one of the first high-flying startups in the generative AI boom, garnering a $1 billion seed valuation. Within months the relationship with investors...', title='Inside the rise and fall of AI’s open source king and his $1 billion startup—and the bad breakup with key investors Coatue and Lightspeed', uri='https://fortune.com/2024/03/27/inside-stability-ai-emad-mostaque-bad-breakup-vc-investors-coatue-lightspeed/', thumb='https://cdn.bsky.app/img/feed_thumbnail/plain/did:plc:qomkdnxrqw3gkbytdxea5z65/bafkreiei67ebuzpzxg4kizmwxji7xg3x73jjeyymedgxgxzz5tzw3cxe3m@jpeg', py_type='app.bsky.embed.external#viewExternal'), py_type='app.bsky.embed.external#view'), labels=[], like_count=0, reply_count=0, repost_count=0, threadgate=None, viewer=ViewerState(like=None, reply_disabled=None, repost=None, py_type='app.bsky.feed.defs#viewerState'), py_type='app.bsky.feed.defs#postView'), reason=None, reply=None, py_type='app.bsky.feed.defs#feedViewPost'), FeedViewPost(post=PostView(author=ProfileViewBasic(did='did:plc:qomkdnxrqw3gkbytdxea5z65', handle='skynetandchill.com', associated=None, avatar='https://cdn.bsky.app/img/avatar/plain/did:plc:qomkdnxrqw3gkbytdxea5z65/bafkreifrqqv5leasjhgndik4yisfzpmes35jakmgwqdnwpw6hd4kzni66u@jpeg', display_name='SkynetAndChill.com', labels=[], viewer=ViewerState(blocked_by=False, blocking=None, blocking_by_list=None, followed_by=None, following=None, muted=False, muted_by_list=None, py_type='app.bsky.actor.defs#viewerState'), py_type='app.bsky.actor.defs#profileViewBasic'), cid='bafyreiakz2rx4erw26tjdnv3n4jlekdt3jlkly4oneasuz63ouflsubsqa', indexed_at='2024-03-28T12:19:47.836Z', record=Record(created_at='2024-03-28T12:19:47.836Z', text=\"Microsoft customers complain Copilot doesn't work as well as ChatGPT. Microsoft says they're just not using it right.\", embed=Main(external=External(description='The company considers the issue to be partly an education problem, and thinks users need to write better prompts.', title=\"Microsoft customers complain Copilot doesn't work as well as ChatGPT. Microsoft says they're not using it right.\", uri='https://www.businessinsider.com/microsoft-customers-complain-copilot-doesnt-work-as-well-as-chatgpt-2024-3', thumb=BlobRef(mime_type='image/jpeg', size=353128, ref=IpldLink(link='bafkreichfsrsm3hxx5eq5kwriox6rlzxafba3w5kn6uqlplaut4hd3v6le'), py_type='blob'), py_type='app.bsky.embed.external#external'), py_type='app.bsky.embed.external'), entities=None, facets=None, labels=None, langs=['en'], reply=None, tags=None, py_type='app.bsky.feed.post'), uri='at://did:plc:qomkdnxrqw3gkbytdxea5z65/app.bsky.feed.post/3koqy736mzb2m', embed=View(external=ViewExternal(description='The company considers the issue to be partly an education problem, and thinks users need to write better prompts.', title=\"Microsoft customers complain Copilot doesn't work as well as ChatGPT. Microsoft says they're not using it right.\", uri='https://www.businessinsider.com/microsoft-customers-complain-copilot-doesnt-work-as-well-as-chatgpt-2024-3', thumb='https://cdn.bsky.app/img/feed_thumbnail/plain/did:plc:qomkdnxrqw3gkbytdxea5z65/bafkreichfsrsm3hxx5eq5kwriox6rlzxafba3w5kn6uqlplaut4hd3v6le@jpeg', py_type='app.bsky.embed.external#viewExternal'), py_type='app.bsky.embed.external#view'), labels=[], like_count=0, reply_count=0, repost_count=0, threadgate=None, viewer=ViewerState(like=None, reply_disabled=None, repost=None, py_type='app.bsky.feed.defs#viewerState'), py_type='app.bsky.feed.defs#postView'), reason=None, reply=None, py_type='app.bsky.feed.defs#feedViewPost'), FeedViewPost(post=PostView(author=ProfileViewBasic(did='did:plc:qomkdnxrqw3gkbytdxea5z65', handle='skynetandchill.com', associated=None, avatar='https://cdn.bsky.app/img/avatar/plain/did:plc:qomkdnxrqw3gkbytdxea5z65/bafkreifrqqv5leasjhgndik4yisfzpmes35jakmgwqdnwpw6hd4kzni66u@jpeg', display_name='SkynetAndChill.com', labels=[], viewer=ViewerState(blocked_by=False, blocking=None, blocking_by_list=None, followed_by=None, following=None, muted=False, muted_by_list=None, py_type='app.bsky.actor.defs#viewerState'), py_type='app.bsky.actor.defs#profileViewBasic'), cid='bafyreicxmsvbnluebvz65jnjhoqp2aefna6p7p5le3pupuqrn5bv5y35ki', indexed_at='2024-03-28T12:18:18.975Z', record=Record(created_at='2024-03-28T12:18:18.975Z', text='Is ChatGPT get lazy and quiet quitting again?', embed=Main(external=External(description=\"Some users say OpenAI's most powerful model, GPT-4, seems to be getting lazy again, leading them to try out rivals including Anthropic's Claude.\", title=\"Uh oh — it looks like ChatGPT's AI model got lazy again\", uri='https://www.businessinsider.com/chatgpt-openai-lazy-again-users-defecting-rivals-anthropic-claude-2024-3', thumb=BlobRef(mime_type='image/jpeg', size=597590, ref=IpldLink(link='bafkreiauny7hho5i2jrjgnvag553rsqrtjhywhhudzwfq55e5a3u7si4ta'), py_type='blob'), py_type='app.bsky.embed.external#external'), py_type='app.bsky.embed.external'), entities=None, facets=None, labels=None, langs=['en'], reply=None, tags=None, py_type='app.bsky.feed.post'), uri='at://did:plc:qomkdnxrqw3gkbytdxea5z65/app.bsky.feed.post/3koqy4gfxfh2c', embed=View(external=ViewExternal(description=\"Some users say OpenAI's most powerful model, GPT-4, seems to be getting lazy again, leading them to try out rivals including Anthropic's Claude.\", title=\"Uh oh — it looks like ChatGPT's AI model got lazy again\", uri='https://www.businessinsider.com/chatgpt-openai-lazy-again-users-defecting-rivals-anthropic-claude-2024-3', thumb='https://cdn.bsky.app/img/feed_thumbnail/plain/did:plc:qomkdnxrqw3gkbytdxea5z65/bafkreiauny7hho5i2jrjgnvag553rsqrtjhywhhudzwfq55e5a3u7si4ta@jpeg', py_type='app.bsky.embed.external#viewExternal'), py_type='app.bsky.embed.external#view'), labels=[], like_count=0, reply_count=0, repost_count=0, threadgate=None, viewer=ViewerState(like=None, reply_disabled=None, repost=None, py_type='app.bsky.feed.defs#viewerState'), py_type='app.bsky.feed.defs#postView'), reason=None, reply=None, py_type='app.bsky.feed.defs#feedViewPost'), FeedViewPost(post=PostView(author=ProfileViewBasic(did='did:plc:qomkdnxrqw3gkbytdxea5z65', handle='skynetandchill.com', associated=None, avatar='https://cdn.bsky.app/img/avatar/plain/did:plc:qomkdnxrqw3gkbytdxea5z65/bafkreifrqqv5leasjhgndik4yisfzpmes35jakmgwqdnwpw6hd4kzni66u@jpeg', display_name='SkynetAndChill.com', labels=[], viewer=ViewerState(blocked_by=False, blocking=None, blocking_by_list=None, followed_by=None, following=None, muted=False, muted_by_list=None, py_type='app.bsky.actor.defs#viewerState'), py_type='app.bsky.actor.defs#profileViewBasic'), cid='bafyreifz2kmgbemamxpkuk4nmmw3h5bqlxm5aedb37id7hn6tzljje23ry', indexed_at='2024-03-28T12:17:08.466Z', record=Record(created_at='2024-03-28T12:17:08.466Z', text='Amazon planning to spend $10b a year building data centers', embed=Main(external=External(description='Spending spree is a show of force as the company looks to retain cloud computing edge over Microsoft and Google.', title='Amazon Bets $150 Billion on Data Centers Required for AI Boom', uri='https://www.bloomberg.com/news/articles/2024-03-28/amazon-bets-150-billion-on-data-centers-required-for-ai-boom', thumb=BlobRef(mime_type='image/jpeg', size=642385, ref=IpldLink(link='bafkreibghcyzsvg7ixc77wbkw3giv3d7k7q2gv4lnhmxrvymt6dney3wwu'), py_type='blob'), py_type='app.bsky.embed.external#external'), py_type='app.bsky.embed.external'), entities=None, facets=None, labels=None, langs=['en'], reply=None, tags=None, py_type='app.bsky.feed.post'), uri='at://did:plc:qomkdnxrqw3gkbytdxea5z65/app.bsky.feed.post/3koqy2d6rix2z', embed=View(external=ViewExternal(description='Spending spree is a show of force as the company looks to retain cloud computing edge over Microsoft and Google.', title='Amazon Bets $150 Billion on Data Centers Required for AI Boom', uri='https://www.bloomberg.com/news/articles/2024-03-28/amazon-bets-150-billion-on-data-centers-required-for-ai-boom', thumb='https://cdn.bsky.app/img/feed_thumbnail/plain/did:plc:qomkdnxrqw3gkbytdxea5z65/bafkreibghcyzsvg7ixc77wbkw3giv3d7k7q2gv4lnhmxrvymt6dney3wwu@jpeg', py_type='app.bsky.embed.external#viewExternal'), py_type='app.bsky.embed.external#view'), labels=[], like_count=0, reply_count=0, repost_count=0, threadgate=None, viewer=ViewerState(like=None, reply_disabled=None, repost=None, py_type='app.bsky.feed.defs#viewerState'), py_type='app.bsky.feed.defs#postView'), reason=None, reply=None, py_type='app.bsky.feed.defs#feedViewPost'), FeedViewPost(post=PostView(author=ProfileViewBasic(did='did:plc:qomkdnxrqw3gkbytdxea5z65', handle='skynetandchill.com', associated=None, avatar='https://cdn.bsky.app/img/avatar/plain/did:plc:qomkdnxrqw3gkbytdxea5z65/bafkreifrqqv5leasjhgndik4yisfzpmes35jakmgwqdnwpw6hd4kzni66u@jpeg', display_name='SkynetAndChill.com', labels=[], viewer=ViewerState(blocked_by=False, blocking=None, blocking_by_list=None, followed_by=None, following=None, muted=False, muted_by_list=None, py_type='app.bsky.actor.defs#viewerState'), py_type='app.bsky.actor.defs#profileViewBasic'), cid='bafyreiabos5zonnilel6g2ptuxkpxdgy7r6ukb4t6vno2lfsbtalqkzyoi', indexed_at='2024-03-28T03:40:29.776Z', record=Record(created_at='2024-03-28T03:40:29.776Z', text=\"Ron Insana's iFi AI will use AI to pick stocks. At what point do recommendations from opaque models violate fiduciary obligations, prudent man rules, professional obligations of diligence, independence, investing with a reasonable basis in fact?\", embed=Main(external=External(description='The firm, called iFi AI, launches Wednesday and will use AI models to help generate projected returns for stocks over various time periods.', title=\"Ron Insana's new firm aims to bring AI-powered trade ideas to individual investors\", uri='https://www.cnbc.com/2024/03/27/ron-insanas-new-firm-aims-to-bring-ai-powered-trade-ideas-to-individual-investors.html', thumb=BlobRef(mime_type='image/jpeg', size=393830, ref=IpldLink(link='bafkreibxsevgozw6lr2pt6nmj4fyyg3mczpegy2qplhgj5zhkdk7lnjsn4'), py_type='blob'), py_type='app.bsky.embed.external#external'), py_type='app.bsky.embed.external'), entities=None, facets=None, labels=None, langs=['en'], reply=None, tags=None, py_type='app.bsky.feed.post'), uri='at://did:plc:qomkdnxrqw3gkbytdxea5z65/app.bsky.feed.post/3koq36ibkll2x', embed=View(external=ViewExternal(description='The firm, called iFi AI, launches Wednesday and will use AI models to help generate projected returns for stocks over various time periods.', title=\"Ron Insana's new firm aims to bring AI-powered trade ideas to individual investors\", uri='https://www.cnbc.com/2024/03/27/ron-insanas-new-firm-aims-to-bring-ai-powered-trade-ideas-to-individual-investors.html', thumb='https://cdn.bsky.app/img/feed_thumbnail/plain/did:plc:qomkdnxrqw3gkbytdxea5z65/bafkreibxsevgozw6lr2pt6nmj4fyyg3mczpegy2qplhgj5zhkdk7lnjsn4@jpeg', py_type='app.bsky.embed.external#viewExternal'), py_type='app.bsky.embed.external#view'), labels=[], like_count=1, reply_count=0, repost_count=0, threadgate=None, viewer=ViewerState(like=None, reply_disabled=None, repost=None, py_type='app.bsky.feed.defs#viewerState'), py_type='app.bsky.feed.defs#postView'), reason=None, reply=None, py_type='app.bsky.feed.defs#feedViewPost'), FeedViewPost(post=PostView(author=ProfileViewBasic(did='did:plc:qomkdnxrqw3gkbytdxea5z65', handle='skynetandchill.com', associated=None, avatar='https://cdn.bsky.app/img/avatar/plain/did:plc:qomkdnxrqw3gkbytdxea5z65/bafkreifrqqv5leasjhgndik4yisfzpmes35jakmgwqdnwpw6hd4kzni66u@jpeg', display_name='SkynetAndChill.com', labels=[], viewer=ViewerState(blocked_by=False, blocking=None, blocking_by_list=None, followed_by=None, following=None, muted=False, muted_by_list=None, py_type='app.bsky.actor.defs#viewerState'), py_type='app.bsky.actor.defs#profileViewBasic'), cid='bafyreibloea6rjovgikaerj4z7zgdlx53l6byv6brvbjvw6aiptuqgqdb4', indexed_at='2024-03-28T03:32:45.373Z', record=Record(created_at='2024-03-28T03:32:45.373Z', text='FAA authorizes crop-dusting drone swarms', embed=Main(external=External(description='Nearly 2 million farmworkers help put food on American tables today, but modern machines powered by AI could eventually replace many of them.', title='Drones and robots could replace some field workers as farming goes high-tech', uri='https://www.cbsnews.com/news/farming-goes-high-tech/', thumb=BlobRef(mime_type='image/jpeg', size=253326, ref=IpldLink(link='bafkreidbd3suh7uugzhbxzomtnhd3sixrrf5vc5luk6pucgnunfubmu4gy'), py_type='blob'), py_type='app.bsky.embed.external#external'), py_type='app.bsky.embed.external'), entities=None, facets=None, labels=None, langs=['en'], reply=None, tags=None, py_type='app.bsky.feed.post'), uri='at://did:plc:qomkdnxrqw3gkbytdxea5z65/app.bsky.feed.post/3koq2qngvtx2w', embed=View(external=ViewExternal(description='Nearly 2 million farmworkers help put food on American tables today, but modern machines powered by AI could eventually replace many of them.', title='Drones and robots could replace some field workers as farming goes high-tech', uri='https://www.cbsnews.com/news/farming-goes-high-tech/', thumb='https://cdn.bsky.app/img/feed_thumbnail/plain/did:plc:qomkdnxrqw3gkbytdxea5z65/bafkreidbd3suh7uugzhbxzomtnhd3sixrrf5vc5luk6pucgnunfubmu4gy@jpeg', py_type='app.bsky.embed.external#viewExternal'), py_type='app.bsky.embed.external#view'), labels=[], like_count=0, reply_count=0, repost_count=0, threadgate=None, viewer=ViewerState(like=None, reply_disabled=None, repost=None, py_type='app.bsky.feed.defs#viewerState'), py_type='app.bsky.feed.defs#postView'), reason=None, reply=None, py_type='app.bsky.feed.defs#feedViewPost')], cursor='2024-03-28T03:32:45.373Z')"
      ]
     },
     "execution_count": 68,
     "metadata": {},
     "output_type": "execute_result"
    }
   ],
   "source": [
    "data"
   ]
  },
  {
   "cell_type": "code",
   "execution_count": null,
   "id": "0926aba0",
   "metadata": {},
   "outputs": [],
   "source": []
  }
 ],
 "metadata": {
  "kernelspec": {
   "display_name": "ainewsbot",
   "language": "python",
   "name": "ainewsbot"
  },
  "language_info": {
   "codemirror_mode": {
    "name": "ipython",
    "version": 3
   },
   "file_extension": ".py",
   "mimetype": "text/x-python",
   "name": "python",
   "nbconvert_exporter": "python",
   "pygments_lexer": "ipython3",
   "version": "3.9.19"
  }
 },
 "nbformat": 4,
 "nbformat_minor": 5
}
