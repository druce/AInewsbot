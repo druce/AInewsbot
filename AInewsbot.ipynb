{
 "cells": [
  {
   "cell_type": "markdown",
   "id": "2f4d6d88-0f37-4edb-a226-244a287823a6",
   "metadata": {},
   "source": [
    "AInewsbot.ipynb\n",
    "\n",
    "- Open URLs of news sites specififed in `sources` dict (sources.yaml) using Selenium and Firefox\n",
    "- Save HTML of each URL in htmldata directory\n",
    "- Extract URLs from all files, create a pandas dataframe with url, title, src\n",
    "- Use ChatGPT to filter only AI-related headlines by sending a prompt and formatted table of headlines\n",
    "- Use SQLite to filter headlines previously seen \n",
    "- OPENAI_API_KEY should be in the environment or in a .env file\n",
    "  \n",
    "Alternative manual workflow to get HTML files if necessary\n",
    "- Use Chrome, open e.g. Tech News bookmark folder, right-click and open all bookmarks in new window\n",
    "- on Google News, make sure switch to AI tab\n",
    "- on Google News, Feedly, Reddit, scroll to additional pages as desired\n",
    "- Use SingleFile extension, 'save all tabs'\n",
    "- Move files to htmldata directory\n",
    "- Run lower part of notebook to process the data\n"
   ]
  },
  {
   "cell_type": "code",
   "execution_count": 1,
   "id": "0c757ee9-8f4e-4f95-a491-bfac533755bd",
   "metadata": {
    "tags": []
   },
   "outputs": [
    {
     "name": "stdout",
     "output_type": "stream",
     "text": [
      "openai          1.16.2\n",
      "requests        2.31.0\n",
      "BeautifulSoup   4.12.3\n"
     ]
    }
   ],
   "source": [
    "import json\n",
    "import os\n",
    "import re\n",
    "from datetime import datetime, timedelta\n",
    "from urllib.parse import urlparse\n",
    "import time\n",
    "import yaml\n",
    "\n",
    "import smtplib\n",
    "from email.mime.multipart import MIMEMultipart\n",
    "from email.mime.text import MIMEText\n",
    "\n",
    "import numpy as np\n",
    "import pandas as pd\n",
    "from scipy.spatial.distance import cdist\n",
    "\n",
    "from selenium import webdriver\n",
    "from selenium.webdriver.common.by import By\n",
    "from selenium.webdriver.common.keys import Keys\n",
    "from selenium.webdriver.support.ui import WebDriverWait\n",
    "from selenium.webdriver.support import expected_conditions as EC\n",
    "# use firefox because it updates less often, can disable updates\n",
    "# recommend importing profile from Chrome for cookies, passwords\n",
    "# looks less like a bot with more user cruft in the profile\n",
    "from selenium.webdriver.firefox.options import Options\n",
    "from selenium.webdriver.firefox.service import Service\n",
    "\n",
    "import bs4\n",
    "from bs4 import BeautifulSoup\n",
    "import requests\n",
    "from urllib.parse import urljoin\n",
    "\n",
    "import openai\n",
    "from openai import OpenAI\n",
    "import tiktoken\n",
    "\n",
    "import dotenv\n",
    "\n",
    "import sqlite3\n",
    "\n",
    "import IPython\n",
    "from IPython.display import HTML, Markdown, display\n",
    "\n",
    "from atproto import Client\n",
    "\n",
    "import PIL\n",
    "from PIL import Image\n",
    "\n",
    "print(f\"openai          {openai.__version__}\")\n",
    "print(f\"requests        {requests.__version__}\")\n",
    "print(f\"BeautifulSoup   {bs4.__version__}\")"
   ]
  },
  {
   "cell_type": "code",
   "execution_count": 2,
   "id": "04ae6f86-e878-4f3d-9e1f-0bb9fad3ea81",
   "metadata": {},
   "outputs": [
    {
     "name": "stdout",
     "output_type": "stream",
     "text": [
      "2024-04-25 13:40:03.075820\n"
     ]
    }
   ],
   "source": [
    "print(datetime.now())"
   ]
  },
  {
   "cell_type": "code",
   "execution_count": 3,
   "id": "55023e78-e796-4e69-9cad-b5f039c75a85",
   "metadata": {},
   "outputs": [],
   "source": [
    "# load credentials if necessary\n",
    "dotenv.load_dotenv()\n",
    "client = OpenAI()"
   ]
  },
  {
   "cell_type": "code",
   "execution_count": 4,
   "id": "1b96f53d-c673-4e6e-aad8-62515feba398",
   "metadata": {},
   "outputs": [],
   "source": [
    "# delete files in output directory\n",
    "download_dir = \"htmldata\"\n",
    "\n",
    "def delete_files(outputdir):\n",
    "\n",
    "    # Iterate over all files in the directory\n",
    "    for filename in os.listdir(outputdir):\n",
    "        if filename.startswith('.'):\n",
    "            continue\n",
    "        file_path = os.path.join(outputdir, filename)\n",
    "        try:\n",
    "            if os.path.isfile(file_path) or os.path.islink(file_path):\n",
    "                os.remove(file_path)  # Remove the file\n",
    "            elif os.path.isdir(file_path):\n",
    "                # If you want to remove subdirectories as well, use os.rmdir() here\n",
    "                pass\n",
    "        except Exception as e:\n",
    "            print(f'Failed to delete {file_path}. Reason: {e}')"
   ]
  },
  {
   "cell_type": "code",
   "execution_count": 5,
   "id": "59895847-ddcf-4d60-ab52-b170e3f7ffb4",
   "metadata": {},
   "outputs": [],
   "source": [
    "delete_files(download_dir)"
   ]
  },
  {
   "cell_type": "markdown",
   "id": "3e57c1b2-b4bb-4a24-94ec-b0f17cd70d5d",
   "metadata": {},
   "source": [
    "# Specify sources"
   ]
  },
  {
   "cell_type": "code",
   "execution_count": 6,
   "id": "49c9efb0",
   "metadata": {},
   "outputs": [
    {
     "data": {
      "text/plain": [
       "{'Ars Technica': {'include': ['^https://arstechnica.com/gadgets/(\\\\d+)/(\\\\d+)/'],\n",
       "  'title': 'Ars Technica',\n",
       "  'url': 'https://arstechnica.com/'},\n",
       " 'Bloomberg Tech': {'include': ['^https://www.bloomberg.com/news/(\\\\w+)/(\\\\d+)-(\\\\d+)-(\\\\d+)'],\n",
       "  'title': 'Bloomberg Technology - Bloomberg',\n",
       "  'url': 'https://www.bloomberg.com/technology'},\n",
       " 'Business Insider': {'exclude': ['^https://www.insider.com',\n",
       "   '^https://www.passionfroot.me'],\n",
       "  'title': 'Tech - Business Insider',\n",
       "  'url': 'https://www.businessinsider.com/tech'},\n",
       " 'FT Tech': {'include': ['https://www.ft.com/content/'],\n",
       "  'title': 'Technology',\n",
       "  'url': 'https://www.ft.com/technology'},\n",
       " 'Feedly AI': {'scroll': 2,\n",
       "  'title': 'Discover and Add New Feedly AI Feeds',\n",
       "  'url': 'https://feedly.com/i/aiFeeds?options=eyJsYXllcnMiOlt7InBhcnRzIjpbeyJpZCI6Im5scC9mL3RvcGljLzMwMDAifV0sInNlYXJjaEhpbnQiOiJ0ZWNobm9sb2d5IiwidHlwZSI6Im1hdGNoZXMiLCJzYWxpZW5jZSI6ImFib3V0In1dLCJidW5kbGVzIjpbeyJ0eXBlIjoic3RyZWFtIiwiaWQiOiJ1c2VyLzYyZWViYjlmLTcxNTEtNGY5YS1hOGM3LTlhNTdiODIwNTMwOC9jYXRlZ29yeS9HYWRnZXRzIn1dfQ'},\n",
       " 'Google News': {'click': '//*[@aria-label=\"Artificial intelligence\"]',\n",
       "  'include': ['^https://news.google.com/articles/'],\n",
       "  'scroll': 2,\n",
       "  'title': 'Google News - Technology - Artificial intelligence',\n",
       "  'url': 'https://news.google.com/topics/CAAqJggKIiBDQkFTRWdvSUwyMHZNRGRqTVhZU0FtVnVHZ0pWVXlnQVAB?hl=en-US&gl=US&ceid=US%3Aen'},\n",
       " 'Hacker News': {'exclude': ['https://news.ycombinator.com/',\n",
       "   'https://www.ycombinator.com/'],\n",
       "  'title': 'Hacker News Page 1',\n",
       "  'url': 'https://news.ycombinator.com/'},\n",
       " 'Hacker News 2': {'exclude': ['https://news.ycombinator.com/',\n",
       "   'https://www.ycombinator.com/'],\n",
       "  'title': 'Hacker News Page 2',\n",
       "  'url': 'https://news.ycombinator.com/?p=2'},\n",
       " 'HackerNoon': {'exclude': ['^https://hackernoon.com/$',\n",
       "   '^https://hackernoon.com/c$',\n",
       "   '^https://hackernoon.com/coins$',\n",
       "   '^https://hackernoon.com/companies$',\n",
       "   '^https://hackernoon.com/gallery$',\n",
       "   '^https://hackernoon.com/how-to-gain-followers-and-newsletter-subs-directly-on-hackernoon$',\n",
       "   '^https://hackernoon.com/login$',\n",
       "   '^https://hackernoon.com/reader-boot$',\n",
       "   '^https://hackernoon.com/sitemap.xml$',\n",
       "   '^https://hackernoon.com/startups$',\n",
       "   '^https://hackernoon.com/techbeat$',\n",
       "   '^https://hackernoon.com/why-i-write-on-hacker-noon-nl28335q$',\n",
       "   '^https://hackernoon.com/writer-signup$'],\n",
       "  'include': ['^https://hackernoon.com/([^/])*$'],\n",
       "  'title': 'HackerNoon - read, write and learn about any technology',\n",
       "  'url': 'https://hackernoon.com/'},\n",
       " 'NYT Tech': {'include': ['^https://www.nytimes.com/(\\\\d+)/(\\\\d+)/(\\\\d+)(.*).html$'],\n",
       "  'title': 'Technology - The New York Times',\n",
       "  'url': 'https://www.nytimes.com/section/technology'},\n",
       " 'Reddit': {'exclude': ['^https://www.reddit.com/',\n",
       "   '^https://chat.reddit.com/',\n",
       "   '^https://i.redd.it/',\n",
       "   '^https://redditblog.com/',\n",
       "   '^https://www.redditinc.com/',\n",
       "   '^https://www.reddithelp.com/',\n",
       "   '^https://itunes.apple.com/',\n",
       "   '^https://play.google.com/'],\n",
       "  'scroll': 2,\n",
       "  'title': 'top scoring links _ multi',\n",
       "  'url': 'https://www.reddit.com/r/ChatGPT+ChatGPTCoding+MacOS+MachineLearning+OpenAI+ProgrammerHumor+Windows10+battlestations+buildapc+cordcutters+dataisbeautiful+gadgets+hardware+linux+msp+programming+realtech+software+talesfromtechsupport+tech+technews+technology+techsupportgore+windows/top/?sort=top&t=day'},\n",
       " 'Techmeme': {'exclude': ['^https://www.techmeme.com',\n",
       "   '^https://twitter.com/',\n",
       "   '^https://www.threads.net',\n",
       "   '^https://www.linkedin.com',\n",
       "   '^https://mastodon.social',\n",
       "   '^https://bsky.app'],\n",
       "  'title': 'Techmeme',\n",
       "  'url': 'https://www.techmeme.com/river'},\n",
       " 'The Register': {'include': ['^https://www.theregister.com/(\\\\d+)/(\\\\d+)/(\\\\d+)/'],\n",
       "  'title': 'The Register_ Enterprise Technology News and Analysis',\n",
       "  'url': 'https://www.theregister.com/'},\n",
       " 'The Verge': {'include': ['^https://www.theverge.com/(\\\\d+)/(\\\\d+)/(\\\\d+)/(\\\\d+)/'],\n",
       "  'title': 'Artificial Intelligence - The Verge',\n",
       "  'url': 'https://www.theverge.com/ai-artificial-intelligence'},\n",
       " 'VentureBeat': {'title': 'AI News _ VentureBeat',\n",
       "  'url': 'https://venturebeat.com/category/ai/'},\n",
       " 'WSJ Tech': {'include': ['^https://www.wsj.com/articles/'],\n",
       "  'title': 'Technology - WSJ.com',\n",
       "  'url': 'https://www.wsj.com/tech'},\n",
       " 'WaPo Tech': {'include': ['https://www.washingtonpost.com/(\\\\w+)/(\\\\d+)/(\\\\d+)/(\\\\d+)/'],\n",
       "  'title': 'Technology - The Washington Post',\n",
       "  'url': 'https://www.washingtonpost.com/business/technology/'}}"
      ]
     },
     "execution_count": 6,
     "metadata": {},
     "output_type": "execute_result"
    }
   ],
   "source": [
    "# load sources from YAML file\n",
    "with open(\"sources.yaml\", \"r\") as stream:\n",
    "    try:\n",
    "        sources = yaml.safe_load(stream)\n",
    "    except yaml.YAMLError as exc:\n",
    "        print(exc)\n",
    "\n",
    "sources_reverse = {d['title']:src for src, d in sources.items()}\n",
    "\n",
    "sources"
   ]
  },
  {
   "cell_type": "markdown",
   "id": "79825fdb-7f01-4a35-bd6d-7a00f5d7d752",
   "metadata": {},
   "source": [
    "# Download HTML files from sources"
   ]
  },
  {
   "cell_type": "code",
   "execution_count": 7,
   "id": "5c9a3f1a",
   "metadata": {},
   "outputs": [
    {
     "name": "stdout",
     "output_type": "stream",
     "text": [
      "13:40:19 Starting\n",
      "13:40:30 Initialized profile\n",
      "13:40:30 Initialized service\n",
      "13:41:11 Initialized webdriver\n",
      "13:41:11 Processing Ars Technica\n",
      "13:41:22 Saving Ars Technica (04_25_2024 01_41_22 PM).html as utf-8\n",
      "13:41:22 Processing Bloomberg Tech\n",
      "13:41:33 Saving Bloomberg Technology - Bloomberg (04_25_2024 01_41_33 PM).html as utf-8\n",
      "13:41:33 Processing Business Insider\n",
      "13:41:44 Saving Tech - Business Insider (04_25_2024 01_41_44 PM).html as utf-8\n",
      "13:41:44 Processing FT Tech\n",
      "13:41:54 Saving Technology (04_25_2024 01_41_54 PM).html as utf-8\n",
      "13:41:54 Processing Feedly AI\n",
      "13:42:05 Loading additional infinite scroll items\n",
      "13:42:15 Loading additional infinite scroll items\n",
      "13:42:25 Saving Discover and Add New Feedly AI Feeds (04_25_2024 01_42_25 PM).html as utf-8\n",
      "13:42:25 Processing Google News\n",
      "13:42:36 Clicking on //*[@aria-label=\"Artificial intelligence\"]\n",
      "13:42:37 Clicked\n",
      "13:42:37 Loading additional infinite scroll items\n",
      "13:42:47 Loading additional infinite scroll items\n",
      "13:42:57 Saving Google News - Technology - Artificial intelligence (04_25_2024 01_42_57 PM).html as utf-8\n",
      "13:42:57 Processing Hacker News\n",
      "13:43:07 Saving Hacker News Page 1 (04_25_2024 01_43_07 PM).html as utf-8\n",
      "13:43:07 Processing Hacker News 2\n",
      "13:43:18 Saving Hacker News Page 2 (04_25_2024 01_43_18 PM).html as utf-8\n",
      "13:43:18 Processing HackerNoon\n",
      "13:43:29 Saving HackerNoon - read, write and learn about any technology (04_25_2024 01_43_29 PM).html as utf-8\n",
      "13:43:29 Processing NYT Tech\n",
      "13:43:40 Saving Technology - The New York Times (04_25_2024 01_43_40 PM).html as utf-8\n",
      "13:43:40 Processing Reddit\n",
      "13:43:52 Loading additional infinite scroll items\n",
      "13:44:02 Loading additional infinite scroll items\n",
      "13:44:13 Saving top scoring links _ multi (04_25_2024 01_44_13 PM).html as utf-8\n",
      "13:44:13 Processing Techmeme\n",
      "13:44:24 Saving Techmeme (04_25_2024 01_44_24 PM).html as utf-8\n",
      "13:44:24 Processing The Register\n",
      "13:44:34 Saving The Register_ Enterprise Technology News and Analysis (04_25_2024 01_44_34 PM).html as utf-8\n",
      "13:44:34 Processing The Verge\n",
      "13:44:45 Saving Artificial Intelligence - The Verge (04_25_2024 01_44_45 PM).html as utf-8\n",
      "13:44:45 Processing VentureBeat\n",
      "13:44:55 Saving AI News _ VentureBeat (04_25_2024 01_44_55 PM).html as UTF-8\n",
      "13:44:55 Processing WSJ Tech\n",
      "13:45:06 Saving Technology - WSJ.com (04_25_2024 01_45_06 PM).html as utf-8\n",
      "13:45:06 Processing WaPo Tech\n",
      "13:45:16 Saving Technology - The Washington Post (04_25_2024 01_45_16 PM).html as utf-8\n",
      "13:45:19 Quit webdriver\n"
     ]
    }
   ],
   "source": [
    "# download files via selenium and firefox\n",
    "outputdir = \"htmldata\"\n",
    "delete_files(outputdir)\n",
    "\n",
    "# Print the formatted time\n",
    "print(datetime.now().strftime('%H:%M:%S'), \"Starting\", flush=True)\n",
    "\n",
    "firefox_app_path = '/Applications/Firefox.app'\n",
    "# Path to your geckodriver\n",
    "geckodriver_path = '/Users/drucev/webdrivers/geckodriver'\n",
    "\n",
    "# Set up Firefox options to use your existing profile\n",
    "# important for some sites that need a login, also a generic profile fingerprint that looks like a bot might get blocked\n",
    "firefox_profile_path = '/Users/drucev/Library/Application Support/Firefox/Profiles/k8k0lcjj.default-release'\n",
    "options = Options()\n",
    "options.profile = firefox_profile_path\n",
    "\n",
    "print(datetime.now().strftime('%H:%M:%S'), \"Initialized profile\", flush=True)\n",
    "\n",
    "# Create a Service object with the path\n",
    "service = Service(geckodriver_path)\n",
    "\n",
    "print(datetime.now().strftime('%H:%M:%S'), \"Initialized service\", flush=True)\n",
    "# Set up the Firefox driver\n",
    "driver = webdriver.Firefox(service=service, options=options)\n",
    "\n",
    "print(datetime.now().strftime('%H:%M:%S'), \"Initialized webdriver\", flush=True)\n",
    "sleeptime = 10\n",
    "\n",
    "for sourcename, sourcedict in sources.items():\n",
    "    print(datetime.now().strftime('%H:%M:%S'), f'Processing {sourcename}', flush=True)\n",
    "    title = sourcedict[\"title\"]\n",
    "    url = sourcedict[\"url\"]\n",
    "    scroll = sourcedict.get(\"scroll\", 0)\n",
    "    click = sourcedict.get(\"click\")\n",
    "\n",
    "    # Open the page\n",
    "    driver.get(url)\n",
    "\n",
    "    # Wait for the page to load\n",
    "    time.sleep(sleeptime)  # Adjust the sleep time as necessary\n",
    "\n",
    "    if click:\n",
    "        print(datetime.now().strftime('%H:%M:%S'), f\"Clicking on {click}\", flush=True)\n",
    "        button = driver.find_element(By.XPATH, click)\n",
    "        if button:\n",
    "            button.click()\n",
    "            print(datetime.now().strftime('%H:%M:%S'), f\"Clicked\", flush=True)\n",
    "\n",
    "    for _ in range(scroll):\n",
    "        # scroll to bottom of infinite scrolling window\n",
    "        driver.execute_script(\"window.scrollTo(0, document.body.scrollHeight);\")\n",
    "        print(datetime.now().strftime('%H:%M:%S'), \"Loading additional infinite scroll items\", flush=True)\n",
    "        time.sleep(sleeptime) # wait for it to load additional items\n",
    "\n",
    "    # Get the HTML source of the page\n",
    "    html_source = driver.page_source\n",
    "\n",
    "    # check encoding, default utf-8\n",
    "    encoding = \"utf-8\"  # Default to UTF-8 if not specified\n",
    "    # Retrieve the content-type meta tag from the HTML\n",
    "    try:\n",
    "        meta_tag = driver.find_element(By.XPATH, \"//meta[@http-equiv='Content-Type']\")\n",
    "        content_type = meta_tag.get_attribute(\"content\")\n",
    "        # Typical format is \"text/html; charset=UTF-8\"\n",
    "        charset_start = content_type.find(\"charset=\")\n",
    "        if charset_start != -1:\n",
    "            encoding = content_type[charset_start + 8:]\n",
    "    except Exception as err:\n",
    "        pass\n",
    "\n",
    "    # Save the HTML to a local file\n",
    "    datestr = datetime.now().strftime(\"%m_%d_%Y %I_%M_%S %p\")\n",
    "    outfile = f'{title} ({datestr}).html'\n",
    "    print(datetime.now().strftime('%H:%M:%S'), f\"Saving {outfile} as {encoding}\", flush=True)\n",
    "    with open(outputdir + \"/\" + outfile, 'w', encoding=encoding) as file:\n",
    "        file.write(html_source)\n",
    "\n",
    "# Close the browser\n",
    "driver.quit()\n",
    "print(datetime.now().strftime('%H:%M:%S'), \"Quit webdriver\", flush=True)\n"
   ]
  },
  {
   "cell_type": "code",
   "execution_count": 8,
   "id": "592b5714",
   "metadata": {},
   "outputs": [
    {
     "data": {
      "text/plain": [
       "['htmldata/Ars Technica (04_25_2024 01_41_22 PM).html',\n",
       " 'htmldata/AI News _ VentureBeat (04_25_2024 01_44_55 PM).html',\n",
       " 'htmldata/HackerNoon - read, write and learn about any technology (04_25_2024 01_43_29 PM).html',\n",
       " 'htmldata/Technology (04_25_2024 01_41_54 PM).html',\n",
       " 'htmldata/Hacker News Page 2 (04_25_2024 01_43_18 PM).html',\n",
       " 'htmldata/Bloomberg Technology - Bloomberg (04_25_2024 01_41_33 PM).html',\n",
       " 'htmldata/Google News - Technology - Artificial intelligence (04_25_2024 01_42_57 PM).html',\n",
       " 'htmldata/Techmeme (04_25_2024 01_44_24 PM).html',\n",
       " 'htmldata/Hacker News Page 1 (04_25_2024 01_43_07 PM).html',\n",
       " 'htmldata/.gitkeep',\n",
       " 'htmldata/top scoring links _ multi (04_25_2024 01_44_13 PM).html',\n",
       " 'htmldata/Technology - The Washington Post (04_25_2024 01_45_16 PM).html',\n",
       " 'htmldata/Artificial Intelligence - The Verge (04_25_2024 01_44_45 PM).html',\n",
       " 'htmldata/The Register_ Enterprise Technology News and Analysis (04_25_2024 01_44_34 PM).html',\n",
       " 'htmldata/Discover and Add New Feedly AI Feeds (04_25_2024 01_42_25 PM).html',\n",
       " 'htmldata/Technology - The New York Times (04_25_2024 01_43_40 PM).html',\n",
       " 'htmldata/Technology - WSJ.com (04_25_2024 01_45_06 PM).html',\n",
       " 'htmldata/Tech - Business Insider (04_25_2024 01_41_44 PM).html']"
      ]
     },
     "execution_count": 8,
     "metadata": {},
     "output_type": "execute_result"
    }
   ],
   "source": [
    "[os.path.join(download_dir, file) for file in os.listdir(download_dir)]"
   ]
  },
  {
   "cell_type": "code",
   "execution_count": 9,
   "id": "94633373-b719-48bc-9c4e-eb4ccbe6ad91",
   "metadata": {
    "tags": []
   },
   "outputs": [
    {
     "name": "stdout",
     "output_type": "stream",
     "text": [
      "17\n",
      "htmldata/Technology - The Washington Post (04_25_2024 01_45_16 PM).html\n",
      "htmldata/Technology - WSJ.com (04_25_2024 01_45_06 PM).html\n",
      "htmldata/AI News _ VentureBeat (04_25_2024 01_44_55 PM).html\n",
      "htmldata/Artificial Intelligence - The Verge (04_25_2024 01_44_45 PM).html\n",
      "htmldata/The Register_ Enterprise Technology News and Analysis (04_25_2024 01_44_34 PM).html\n",
      "htmldata/Techmeme (04_25_2024 01_44_24 PM).html\n",
      "htmldata/top scoring links _ multi (04_25_2024 01_44_13 PM).html\n",
      "htmldata/Technology - The New York Times (04_25_2024 01_43_40 PM).html\n",
      "htmldata/HackerNoon - read, write and learn about any technology (04_25_2024 01_43_29 PM).html\n",
      "htmldata/Hacker News Page 2 (04_25_2024 01_43_18 PM).html\n",
      "htmldata/Hacker News Page 1 (04_25_2024 01_43_07 PM).html\n",
      "htmldata/Google News - Technology - Artificial intelligence (04_25_2024 01_42_57 PM).html\n",
      "htmldata/Discover and Add New Feedly AI Feeds (04_25_2024 01_42_25 PM).html\n",
      "htmldata/Technology (04_25_2024 01_41_54 PM).html\n",
      "htmldata/Tech - Business Insider (04_25_2024 01_41_44 PM).html\n",
      "htmldata/Bloomberg Technology - Bloomberg (04_25_2024 01_41_33 PM).html\n",
      "htmldata/Ars Technica (04_25_2024 01_41_22 PM).html\n"
     ]
    }
   ],
   "source": [
    "# List all paths in the directory matching today's date\n",
    "nfiles = 50\n",
    "\n",
    "# Get the current date\n",
    "today = datetime.now()\n",
    "year, month, day = today.year, today.month, today.day\n",
    "\n",
    "datestr = datetime.now().strftime(\"%m_%d_%Y\")\n",
    "\n",
    "# print(f\"Year: {year}, Month: {month}, Day: {day}\")\n",
    "\n",
    "files = [os.path.join(download_dir, file) for file in os.listdir(download_dir)]\n",
    "# filter files only\n",
    "files = [file for file in files if os.path.isfile(file)]\n",
    "\n",
    "# Sort files by modification time and take top 50\n",
    "files.sort(key=lambda x: os.path.getmtime(x), reverse=True)\n",
    "file = files[:nfiles]\n",
    "\n",
    "# filter files by with today's date ending in .html\n",
    "files = [file for file in files if datestr in file and file.endswith(\".html\")]\n",
    "print(len(files))\n",
    "for file in files:\n",
    "    print(file)"
   ]
  },
  {
   "cell_type": "code",
   "execution_count": 10,
   "id": "878be7b4-b7d6-4c0d-93a5-063e5a9afa52",
   "metadata": {},
   "outputs": [
    {
     "data": {
      "text/plain": [
       "{'og:locale': 'en-GB',\n",
       " 'og:url': 'https://www.euronews.com/next/2024/01/15/almost-40-of-jobs-around-the-world-will-be-impacted-by-ai-imf-chief-says',\n",
       " 'og:site_name': 'euronews',\n",
       " 'og:type': 'article',\n",
       " 'og:title': 'AI to impact 40% of jobs around the world, IMF chief says',\n",
       " 'og:description': 'Kristalina Georgieva said now is the time to act to create a set of policies ensuring the impact of AI is beneficial not detrimental to humanity.',\n",
       " 'og:image': 'https://static.euronews.com/articles/stories/08/17/12/08/1200x675_cmsv2_1bac2582-b418-5da9-80f9-6c4b6254606d-8171208.jpg',\n",
       " 'og:image:width': '1200',\n",
       " 'og:image:height': '675',\n",
       " 'og:image:type': 'image/jpeg',\n",
       " 'og:image:alt': 'Almost 40% of jobs around the world will be impacted by AI, IMF chief says',\n",
       " 'og:locale:alternate': 'el-GR',\n",
       " 'og:locale:alternate:url': 'https://www.euronews.com/next/2024/01/15/almost-40-of-jobs-around-the-world-will-be-impacted-by-ai-imf-chief-says',\n",
       " 'title': 'Almost 40% of jobs around the world will be impacted by AI, IMF chief says | Euronews'}"
      ]
     },
     "execution_count": 10,
     "metadata": {},
     "output_type": "execute_result"
    }
   ],
   "source": [
    "# you need this if you have not-descriptive link titles like 'link', can get a page title from html or tags\n",
    "def get_og_tags(url):\n",
    "    \"\"\"get a dict of Open Graph og: tags such as title in the HEAD of a URL\"\"\"\n",
    "    retdict = {}\n",
    "    try:\n",
    "        response = requests.get(url)\n",
    "        if response.status_code == 200:\n",
    "            soup = BeautifulSoup(response.content, \"html.parser\")\n",
    "            head = soup.head\n",
    "            if head:\n",
    "                og_tags = head.find_all(\n",
    "                    property=lambda prop: prop and prop.startswith(\"og:\")\n",
    "                )\n",
    "                for tag in og_tags:\n",
    "                    if \"content\" in tag.attrs:\n",
    "                        retdict[tag[\"property\"]] = tag[\"content\"]\n",
    "\n",
    "                page_title = \"\"\n",
    "                title_tag = soup.find(\"title\")\n",
    "                if title_tag:\n",
    "                    page_title = title_tag.text\n",
    "                    if page_title:\n",
    "                        retdict[\"title\"] = page_title\n",
    "        return retdict\n",
    "    except requests.RequestException as e:\n",
    "        print(f\"Error fetching {url}: {e}\")\n",
    "    return retdict\n",
    "\n",
    "\n",
    "url = \"https://www.euronews.com/next/2024/01/15/almost-40-of-jobs-around-the-world-will-be-impacted-by-ai-imf-chief-says\"\n",
    "get_og_tags(url)"
   ]
  },
  {
   "cell_type": "code",
   "execution_count": 11,
   "id": "55a281af-6a4d-4904-9f22-98704ad4c768",
   "metadata": {},
   "outputs": [
    {
     "name": "stdout",
     "output_type": "stream",
     "text": [
      "/some/path\n"
     ]
    }
   ],
   "source": [
    "def get_path_from_url(url):\n",
    "    \"\"\"\n",
    "    Extracts the path following the top-level domain name from a URL.\n",
    "\n",
    "    :param url: The URL string.\n",
    "    :return: The path component of the URL.\n",
    "    \"\"\"\n",
    "    parsed_url = urlparse(url)\n",
    "    return parsed_url.path\n",
    "\n",
    "\n",
    "# Example usage\n",
    "example_url = \"http://www.example.com/some/path?query=string\"\n",
    "path = get_path_from_url(example_url)\n",
    "print(path)"
   ]
  },
  {
   "cell_type": "code",
   "execution_count": 12,
   "id": "b76ba2f8-1ff4-418c-9c74-5712255ddae8",
   "metadata": {},
   "outputs": [],
   "source": [
    "# https://platform.openai.com/docs/models/gpt-4-turbo-and-gpt-4\n",
    "MODEL = \"gpt-4-turbo\"\n",
    "\n",
    "MAX_INPUT_TOKENS = 3072\n",
    "MAX_OUTPUT_TOKENS = 4096\n",
    "MAX_RETRIES = 3\n",
    "TEMPERATURE = 0\n",
    "\n",
    "# models = sorted(openai.models.list(), key=lambda m: m.created)\n",
    "# models"
   ]
  },
  {
   "cell_type": "code",
   "execution_count": 13,
   "id": "d39bd1b9-9a7e-4cd0-93d7-aa17b37bc024",
   "metadata": {},
   "outputs": [
    {
     "data": {
      "text/plain": [
       "13"
      ]
     },
     "execution_count": 13,
     "metadata": {},
     "output_type": "execute_result"
    }
   ],
   "source": [
    "enc = tiktoken.encoding_for_model(MODEL)\n",
    "assert enc.decode(enc.encode(\"hello world\")) == \"hello world\"\n",
    "\n",
    "\n",
    "def count_tokens(s):\n",
    "    return len(enc.encode(s))\n",
    "\n",
    "\n",
    "count_tokens(\"four score and 7 years go our forefathers brought forth\")"
   ]
  },
  {
   "cell_type": "code",
   "execution_count": 14,
   "id": "0e03a76d-be7c-40f3-80c6-db44c13e3e13",
   "metadata": {},
   "outputs": [],
   "source": [
    "def trimmed_href(l):\n",
    "    \"\"\"\n",
    "    Trims everything in the string after a question mark such as a session ID.\n",
    "\n",
    "    :param s: The input string.\n",
    "    :return: The trimmed string.\n",
    "    \"\"\"\n",
    "    # Find the position of the question mark\n",
    "    s = l.get(\"href\")\n",
    "    if s:\n",
    "        question_mark_index = s.find(\"?\")\n",
    "\n",
    "        # If a question mark is found, trim the string up to that point\n",
    "        if question_mark_index != -1:\n",
    "            return s[:question_mark_index]\n",
    "        else:\n",
    "            # Return the original string if no question mark is found\n",
    "            return s\n",
    "    else:\n",
    "        return s"
   ]
  },
  {
   "cell_type": "markdown",
   "id": "0b7abc8c-5d9d-4ea1-9a2a-82d5f92f250b",
   "metadata": {},
   "source": [
    "# Parse news URLs and titles from downloaded HTML files"
   ]
  },
  {
   "cell_type": "code",
   "execution_count": 15,
   "id": "e81e7ea3-ac61-42ed-b972-1f9e81128732",
   "metadata": {
    "tags": []
   },
   "outputs": [
    {
     "data": {
      "text/markdown": [
       "# WaPo Tech"
      ],
      "text/plain": [
       "<IPython.core.display.Markdown object>"
      ]
     },
     "metadata": {},
     "output_type": "display_data"
    },
    {
     "name": "stdout",
     "output_type": "stream",
     "text": [
      "164\n",
      "38\n",
      "\n"
     ]
    },
    {
     "data": {
      "text/markdown": [
       "# WSJ Tech"
      ],
      "text/plain": [
       "<IPython.core.display.Markdown object>"
      ]
     },
     "metadata": {},
     "output_type": "display_data"
    },
    {
     "name": "stdout",
     "output_type": "stream",
     "text": [
      "545\n",
      "14\n",
      "\n"
     ]
    },
    {
     "data": {
      "text/markdown": [
       "# VentureBeat"
      ],
      "text/plain": [
       "<IPython.core.display.Markdown object>"
      ]
     },
     "metadata": {},
     "output_type": "display_data"
    },
    {
     "name": "stdout",
     "output_type": "stream",
     "text": [
      "325\n",
      "268\n",
      "\n"
     ]
    },
    {
     "data": {
      "text/markdown": [
       "# The Verge"
      ],
      "text/plain": [
       "<IPython.core.display.Markdown object>"
      ]
     },
     "metadata": {},
     "output_type": "display_data"
    },
    {
     "name": "stdout",
     "output_type": "stream",
     "text": [
      "305\n",
      "93\n",
      "\n"
     ]
    },
    {
     "data": {
      "text/markdown": [
       "# The Register"
      ],
      "text/plain": [
       "<IPython.core.display.Markdown object>"
      ]
     },
     "metadata": {},
     "output_type": "display_data"
    },
    {
     "name": "stdout",
     "output_type": "stream",
     "text": [
      "200\n",
      "88\n",
      "\n"
     ]
    },
    {
     "data": {
      "text/markdown": [
       "# Techmeme"
      ],
      "text/plain": [
       "<IPython.core.display.Markdown object>"
      ]
     },
     "metadata": {},
     "output_type": "display_data"
    },
    {
     "name": "stdout",
     "output_type": "stream",
     "text": [
      "361\n",
      "156\n",
      "\n"
     ]
    },
    {
     "data": {
      "text/markdown": [
       "# Reddit"
      ],
      "text/plain": [
       "<IPython.core.display.Markdown object>"
      ]
     },
     "metadata": {},
     "output_type": "display_data"
    },
    {
     "name": "stdout",
     "output_type": "stream",
     "text": [
      "557\n",
      "46\n",
      "\n"
     ]
    },
    {
     "data": {
      "text/markdown": [
       "# NYT Tech"
      ],
      "text/plain": [
       "<IPython.core.display.Markdown object>"
      ]
     },
     "metadata": {},
     "output_type": "display_data"
    },
    {
     "name": "stdout",
     "output_type": "stream",
     "text": [
      "74\n",
      "19\n",
      "\n"
     ]
    },
    {
     "data": {
      "text/markdown": [
       "# HackerNoon"
      ],
      "text/plain": [
       "<IPython.core.display.Markdown object>"
      ]
     },
     "metadata": {},
     "output_type": "display_data"
    },
    {
     "name": "stdout",
     "output_type": "stream",
     "text": [
      "572\n",
      "88\n",
      "\n"
     ]
    },
    {
     "data": {
      "text/markdown": [
       "# Hacker News 2"
      ],
      "text/plain": [
       "<IPython.core.display.Markdown object>"
      ]
     },
     "metadata": {},
     "output_type": "display_data"
    },
    {
     "name": "stdout",
     "output_type": "stream",
     "text": [
      "261\n",
      "30\n",
      "\n"
     ]
    },
    {
     "data": {
      "text/markdown": [
       "# Hacker News"
      ],
      "text/plain": [
       "<IPython.core.display.Markdown object>"
      ]
     },
     "metadata": {},
     "output_type": "display_data"
    },
    {
     "name": "stdout",
     "output_type": "stream",
     "text": [
      "256\n",
      "29\n",
      "\n"
     ]
    },
    {
     "data": {
      "text/markdown": [
       "# Google News"
      ],
      "text/plain": [
       "<IPython.core.display.Markdown object>"
      ]
     },
     "metadata": {},
     "output_type": "display_data"
    },
    {
     "name": "stdout",
     "output_type": "stream",
     "text": [
      "914\n",
      "398\n",
      "\n"
     ]
    },
    {
     "data": {
      "text/markdown": [
       "# Feedly AI"
      ],
      "text/plain": [
       "<IPython.core.display.Markdown object>"
      ]
     },
     "metadata": {},
     "output_type": "display_data"
    },
    {
     "name": "stdout",
     "output_type": "stream",
     "text": [
      "251\n",
      "233\n",
      "\n"
     ]
    },
    {
     "data": {
      "text/markdown": [
       "# FT Tech"
      ],
      "text/plain": [
       "<IPython.core.display.Markdown object>"
      ]
     },
     "metadata": {},
     "output_type": "display_data"
    },
    {
     "name": "stdout",
     "output_type": "stream",
     "text": [
      "456\n",
      "107\n",
      "\n"
     ]
    },
    {
     "data": {
      "text/markdown": [
       "# Business Insider"
      ],
      "text/plain": [
       "<IPython.core.display.Markdown object>"
      ]
     },
     "metadata": {},
     "output_type": "display_data"
    },
    {
     "name": "stdout",
     "output_type": "stream",
     "text": [
      "339\n",
      "253\n",
      "\n"
     ]
    },
    {
     "data": {
      "text/markdown": [
       "# Bloomberg Tech"
      ],
      "text/plain": [
       "<IPython.core.display.Markdown object>"
      ]
     },
     "metadata": {},
     "output_type": "display_data"
    },
    {
     "name": "stdout",
     "output_type": "stream",
     "text": [
      "303\n",
      "52\n",
      "\n"
     ]
    },
    {
     "data": {
      "text/markdown": [
       "# Ars Technica"
      ],
      "text/plain": [
       "<IPython.core.display.Markdown object>"
      ]
     },
     "metadata": {},
     "output_type": "display_data"
    },
    {
     "name": "stdout",
     "output_type": "stream",
     "text": [
      "252\n",
      "8\n",
      "\n"
     ]
    }
   ],
   "source": [
    "# parse all the URL that look like news articles\n",
    "# into all_urls list of dicts with url, title, src\n",
    "all_urls = []\n",
    "\n",
    "for file in files:\n",
    "    # Extract filename from path\n",
    "    filename = os.path.basename(file)\n",
    "\n",
    "    # Find the position of '1_14_2024' in the filename\n",
    "    position = filename.find(\" (\" + datestr)\n",
    "    basename = filename[:position]\n",
    "#     print(basename)\n",
    "#     if basename.startswith('Google News'):\n",
    "#         pass\n",
    "#     else:\n",
    "#         continue\n",
    "\n",
    "    sourcename = sources_reverse.get(basename)\n",
    "    if sourcename is None:\n",
    "        print(f\"Skipping {basename}, no sourcename metadata\")\n",
    "        continue\n",
    "\n",
    "    display(Markdown(f\"# {sourcename}\"))\n",
    "    sources[sourcename][\"latest\"] = file\n",
    "\n",
    "    # get contents\n",
    "    with open(file, \"r\") as file:\n",
    "        html_content = file.read()\n",
    "\n",
    "    # Parse the HTML content\n",
    "    soup = BeautifulSoup(html_content, \"html.parser\")\n",
    "\n",
    "    # Find all <a> tags\n",
    "    if soup:\n",
    "        links = soup.find_all(\"a\")\n",
    "    else:\n",
    "        print(f\"Skipping {sourcename}, unable to parse\")\n",
    "\n",
    "    # convert relative links to absolute links using base URL if present\n",
    "    base_tag = soup.find('base')\n",
    "    base_url = base_tag.get('href') if base_tag else sources[sourcename][\"url\"]\n",
    "    for link in links:\n",
    "#         print(link.get(\"href\"))\n",
    "        link[\"href\"]= urljoin(base_url, link.get('href', \"\"))\n",
    "#         print(link[\"href\"])\n",
    "\n",
    "#     print(len(links))\n",
    "#     links = [l for l in links if l]\n",
    "#     links = [l.strip() for l in links]\n",
    "\n",
    "    print(len(links))\n",
    "\n",
    "    for pattern in sources[sourcename].get(\"exclude\", []):\n",
    "        # filter links by exclusion pattern\n",
    "#         print(pattern)\n",
    "#         print([ l.get(\"href\") for l in links])\n",
    "        links = [\n",
    "            l\n",
    "            for l in links\n",
    "            if l.get(\"href\") is not None and not re.match(pattern, l.get(\"href\"))\n",
    "        ]\n",
    "        # print(len(links))\n",
    "\n",
    "    for pattern in sources[sourcename].get(\"include\", []):\n",
    "        # print(pattern, len(links))\n",
    "        # filter links by inclusion pattern\n",
    "        # print(pattern)\n",
    "        # print(type(pattern))\n",
    "        newlinks = []\n",
    "        for l in links:\n",
    "            href = l.get(\"href\")\n",
    "#             print(href)\n",
    "            if href and re.match(pattern, href):\n",
    "                newlinks.append(l)\n",
    "        links = newlinks\n",
    "        # links = [l for l in links if re.match(pattern, l.get(\"href\"))]\n",
    "        # print(len(links))\n",
    "\n",
    "    # drop empty text\n",
    "    links = [l for l in links if l.get_text(strip=True)]\n",
    "\n",
    "    # drop empty url path, i.e. url = toplevel domain\n",
    "    links = [l for l in links if len(get_path_from_url(trimmed_href(l))) > 1]\n",
    "    # drop anything that is not http, like javascript: or mailto:\n",
    "    links = [l for l in links if l.get(\"href\") and l.get(\"href\").startswith(\"http\")]\n",
    "    # drop some ArsTechnica links that are just the number of comments and dupe the primary link\n",
    "    links = [l for l in links if not re.match(\"^(\\d+)$\", l.get_text(strip=True))]\n",
    "\n",
    "    for l in links:\n",
    "        url = trimmed_href(l)\n",
    "        title = l.get_text(strip=True)\n",
    "        if title == \"LINK\":\n",
    "            # try to update title\n",
    "            og_dict = get_og_tags(url)\n",
    "            if og_dict.get(\"og:title\"):\n",
    "                title = og_dict.get(\"og:title\")\n",
    "\n",
    "        # skip some low quality links that don't have full headline, like link to a Twitter or Threads account\n",
    "        if len(title) <= 28 and title != \"LINK\":\n",
    "            continue\n",
    "\n",
    "        all_urls.append({\"title\": title, \"url\": url, \"src\": sourcename})\n",
    "#         display(Markdown(f\"[{title}]({url})\"))\n",
    "\n",
    "    print(len(links))\n",
    "    print()\n",
    "\n",
    "    # for p in pages:\n",
    "    #     print(p)"
   ]
  },
  {
   "cell_type": "code",
   "execution_count": 16,
   "id": "c0eb7a52-ee94-4478-af89-11f059ab2d6e",
   "metadata": {},
   "outputs": [
    {
     "data": {
      "text/html": [
       "<div>\n",
       "<style scoped>\n",
       "    .dataframe tbody tr th:only-of-type {\n",
       "        vertical-align: middle;\n",
       "    }\n",
       "\n",
       "    .dataframe tbody tr th {\n",
       "        vertical-align: top;\n",
       "    }\n",
       "\n",
       "    .dataframe thead th {\n",
       "        text-align: right;\n",
       "    }\n",
       "</style>\n",
       "<table border=\"1\" class=\"dataframe\">\n",
       "  <thead>\n",
       "    <tr style=\"text-align: right;\">\n",
       "      <th></th>\n",
       "      <th>id</th>\n",
       "      <th>src</th>\n",
       "      <th>title</th>\n",
       "      <th>url</th>\n",
       "    </tr>\n",
       "  </thead>\n",
       "  <tbody>\n",
       "    <tr>\n",
       "      <th>0</th>\n",
       "      <td>0</td>\n",
       "      <td>Ars Technica</td>\n",
       "      <td>A Polestar Phone now inexplicably exists</td>\n",
       "      <td>https://arstechnica.com/gadgets/2024/04/a-pole...</td>\n",
       "    </tr>\n",
       "    <tr>\n",
       "      <th>1</th>\n",
       "      <td>1</td>\n",
       "      <td>Ars Technica</td>\n",
       "      <td>Google can’t quit third-party cookies—delays s...</td>\n",
       "      <td>https://arstechnica.com/gadgets/2024/04/google...</td>\n",
       "    </tr>\n",
       "    <tr>\n",
       "      <th>2</th>\n",
       "      <td>2</td>\n",
       "      <td>Ars Technica</td>\n",
       "      <td>Is the Arm version of Windows ready for its cl...</td>\n",
       "      <td>https://arstechnica.com/gadgets/2024/04/is-the...</td>\n",
       "    </tr>\n",
       "    <tr>\n",
       "      <th>3</th>\n",
       "      <td>3</td>\n",
       "      <td>Ars Technica</td>\n",
       "      <td>Qualcomm says lower-end Snapdragon X Plus chip...</td>\n",
       "      <td>https://arstechnica.com/gadgets/2024/04/qualco...</td>\n",
       "    </tr>\n",
       "    <tr>\n",
       "      <th>4</th>\n",
       "      <td>4</td>\n",
       "      <td>Ars Technica</td>\n",
       "      <td>The spam came from inside the house: How a sma...</td>\n",
       "      <td>https://arstechnica.com/gadgets/2024/04/the-sp...</td>\n",
       "    </tr>\n",
       "    <tr>\n",
       "      <th>...</th>\n",
       "      <td>...</td>\n",
       "      <td>...</td>\n",
       "      <td>...</td>\n",
       "      <td>...</td>\n",
       "    </tr>\n",
       "    <tr>\n",
       "      <th>1075</th>\n",
       "      <td>1075</td>\n",
       "      <td>WaPo Tech</td>\n",
       "      <td>FCC reinstates net neutrality, but it’s not as...</td>\n",
       "      <td>https://www.washingtonpost.com/technology/2024...</td>\n",
       "    </tr>\n",
       "    <tr>\n",
       "      <th>1076</th>\n",
       "      <td>1076</td>\n",
       "      <td>WaPo Tech</td>\n",
       "      <td>Trump got one thing right: Banning TikTok woul...</td>\n",
       "      <td>https://www.washingtonpost.com/technology/2024...</td>\n",
       "    </tr>\n",
       "    <tr>\n",
       "      <th>1077</th>\n",
       "      <td>1077</td>\n",
       "      <td>WaPo Tech</td>\n",
       "      <td>The U.S. could ban TikTok. These countries hav...</td>\n",
       "      <td>https://www.washingtonpost.com/world/2024/03/1...</td>\n",
       "    </tr>\n",
       "    <tr>\n",
       "      <th>1078</th>\n",
       "      <td>1078</td>\n",
       "      <td>WaPo Tech</td>\n",
       "      <td>Google fires more workers after CEO says workp...</td>\n",
       "      <td>https://www.washingtonpost.com/technology/2024...</td>\n",
       "    </tr>\n",
       "    <tr>\n",
       "      <th>1079</th>\n",
       "      <td>1079</td>\n",
       "      <td>WaPo Tech</td>\n",
       "      <td>5‘Don’t leave campus’: Parents are now using t...</td>\n",
       "      <td>https://www.washingtonpost.com/technology/2019...</td>\n",
       "    </tr>\n",
       "  </tbody>\n",
       "</table>\n",
       "<p>1080 rows × 4 columns</p>\n",
       "</div>"
      ],
      "text/plain": [
       "        id           src                                              title  \\\n",
       "0        0  Ars Technica           A Polestar Phone now inexplicably exists   \n",
       "1        1  Ars Technica  Google can’t quit third-party cookies—delays s...   \n",
       "2        2  Ars Technica  Is the Arm version of Windows ready for its cl...   \n",
       "3        3  Ars Technica  Qualcomm says lower-end Snapdragon X Plus chip...   \n",
       "4        4  Ars Technica  The spam came from inside the house: How a sma...   \n",
       "...    ...           ...                                                ...   \n",
       "1075  1075     WaPo Tech  FCC reinstates net neutrality, but it’s not as...   \n",
       "1076  1076     WaPo Tech  Trump got one thing right: Banning TikTok woul...   \n",
       "1077  1077     WaPo Tech  The U.S. could ban TikTok. These countries hav...   \n",
       "1078  1078     WaPo Tech  Google fires more workers after CEO says workp...   \n",
       "1079  1079     WaPo Tech  5‘Don’t leave campus’: Parents are now using t...   \n",
       "\n",
       "                                                    url  \n",
       "0     https://arstechnica.com/gadgets/2024/04/a-pole...  \n",
       "1     https://arstechnica.com/gadgets/2024/04/google...  \n",
       "2     https://arstechnica.com/gadgets/2024/04/is-the...  \n",
       "3     https://arstechnica.com/gadgets/2024/04/qualco...  \n",
       "4     https://arstechnica.com/gadgets/2024/04/the-sp...  \n",
       "...                                                 ...  \n",
       "1075  https://www.washingtonpost.com/technology/2024...  \n",
       "1076  https://www.washingtonpost.com/technology/2024...  \n",
       "1077  https://www.washingtonpost.com/world/2024/03/1...  \n",
       "1078  https://www.washingtonpost.com/technology/2024...  \n",
       "1079  https://www.washingtonpost.com/technology/2019...  \n",
       "\n",
       "[1080 rows x 4 columns]"
      ]
     },
     "execution_count": 16,
     "metadata": {},
     "output_type": "execute_result"
    }
   ],
   "source": [
    "# make a pandas dataframe\n",
    "orig_df = (\n",
    "    pd.DataFrame(all_urls)\n",
    "    .groupby(\"url\")\n",
    "    .first()\n",
    "    .reset_index()\n",
    "    .sort_values(\"src\")[[\"src\", \"title\", \"url\"]]\n",
    "    .reset_index(drop=True)\n",
    "    .reset_index(drop=False)\n",
    "    .rename(columns={\"index\": \"id\"})\n",
    ")\n",
    "orig_df"
   ]
  },
  {
   "cell_type": "code",
   "execution_count": 17,
   "id": "36a1f7dd-2763-46ac-944c-eec7361f40d7",
   "metadata": {},
   "outputs": [],
   "source": [
    "# filter ones not seen before\n",
    "conn = sqlite3.connect('articles.db')\n",
    "\n",
    "# Retrieve all URLs from the SQLite table\n",
    "existing_urls = pd.read_sql_query(\"SELECT url FROM news_articles\", conn)\n",
    "\n",
    "# Close the SQLite connection\n",
    "conn.close()\n",
    "\n",
    "# Convert the URLs to a list for easier comparison\n",
    "existing_urls_list = existing_urls['url'].tolist()\n",
    "\n",
    "# Filter the original DataFrame\n",
    "# Keep rows where the URL is not in the existing_urls_list\n",
    "filtered_df = orig_df[~orig_df['url'].isin(existing_urls_list)]\n"
   ]
  },
  {
   "cell_type": "code",
   "execution_count": 18,
   "id": "14bea6c0-a79f-41ef-853e-7b076b902dca",
   "metadata": {},
   "outputs": [
    {
     "data": {
      "text/plain": [
       "51977"
      ]
     },
     "execution_count": 18,
     "metadata": {},
     "output_type": "execute_result"
    }
   ],
   "source": [
    "len(existing_urls_list)"
   ]
  },
  {
   "cell_type": "code",
   "execution_count": 19,
   "id": "21f431d4-4512-44a3-831c-44e078a22d17",
   "metadata": {},
   "outputs": [
    {
     "data": {
      "text/plain": [
       "365"
      ]
     },
     "execution_count": 19,
     "metadata": {},
     "output_type": "execute_result"
    }
   ],
   "source": [
    "len(filtered_df)"
   ]
  },
  {
   "cell_type": "markdown",
   "id": "f05b4e7e-c039-458c-a02f-4931356115e0",
   "metadata": {},
   "source": [
    "# Filter AI-related headlines using a prompt to OpenAI"
   ]
  },
  {
   "cell_type": "code",
   "execution_count": 20,
   "id": "994796a1-fea7-4800-87a4-913e3fb7a821",
   "metadata": {},
   "outputs": [
    {
     "data": {
      "text/plain": [
       "8"
      ]
     },
     "execution_count": 20,
     "metadata": {},
     "output_type": "execute_result"
    }
   ],
   "source": [
    "# make pages that fit in a reasonably sized prompt\n",
    "MAXPAGELEN = 50\n",
    "pages = []\n",
    "current_page = []\n",
    "pagelength = 0\n",
    "\n",
    "for row in filtered_df.itertuples():\n",
    "    curlink = {\"id\": row.Index, \"title\": row.title}\n",
    "    curlength = count_tokens(json.dumps(curlink))\n",
    "    # Check if adding the current string would exceed the limit\n",
    "    if len(current_page) >= MAXPAGELEN or pagelength + curlength > MAX_INPUT_TOKENS:\n",
    "        # If so, start a new page\n",
    "        pages.append(current_page)\n",
    "        current_page = [curlink]\n",
    "        pagelength = curlength\n",
    "    else:\n",
    "        # Otherwise, add the string to the current page\n",
    "        current_page.append(curlink)\n",
    "        pagelength += curlength\n",
    "\n",
    "# add the last page if it's not empty\n",
    "if current_page:\n",
    "    pages.append(current_page)\n",
    "\n",
    "len(pages)"
   ]
  },
  {
   "cell_type": "code",
   "execution_count": 21,
   "id": "18bc60f8-8b90-4637-b884-b57aee1efb6f",
   "metadata": {},
   "outputs": [],
   "source": [
    "def get_response_json(\n",
    "    client,\n",
    "    messages,\n",
    "    verbose=False,\n",
    "    model=MODEL,\n",
    "    # max_input_tokens=MAX_INPUT_TOKENS,\n",
    "    max_output_tokens=MAX_OUTPUT_TOKENS,\n",
    "    max_retries=MAX_RETRIES,\n",
    "    temperature=TEMPERATURE,\n",
    "):\n",
    "    if type(messages) != list:  # allow passing one string for convenience\n",
    "        messages = [{\"role\": \"user\", \"content\": messages}]\n",
    "\n",
    "    if verbose:\n",
    "        print(\"\\n\".join([str(msg) for msg in messages]))\n",
    "\n",
    "    # truncate number of tokens\n",
    "    # retry loop, have received untrapped 500 errors like too busy\n",
    "    for i in range(max_retries):\n",
    "        if i > 0:\n",
    "            print(f\"Attempt {i+1}...\")\n",
    "        try:\n",
    "            response = client.chat.completions.create(\n",
    "                model=MODEL,\n",
    "                messages=messages,\n",
    "                temperature=0,\n",
    "                max_tokens=max_output_tokens,\n",
    "                response_format={\"type\": \"json_object\"},\n",
    "            )\n",
    "            # no exception thrown\n",
    "            return response\n",
    "        except Exception as error:\n",
    "            print(f\"An exception occurred on attempt {i+1}:\", error)\n",
    "            time.sleep(5)\n",
    "            continue  # try again\n",
    "        # retries exceeded if you got this far\n",
    "    print(\"Retries exceeded.\")\n",
    "    return None\n",
    "\n",
    "\n",
    "# messages = [\n",
    "#     {\n",
    "#         \"role\": \"system\",\n",
    "#         \"content\": \"You are a poetic assistant, skilled in explaining complex programming concepts with creative flair.\",\n",
    "#     },\n",
    "#     {\n",
    "#         \"role\": \"user\",\n",
    "#         \"content\": \"Compose a poem that explains the concept of recursion in programming, returning each verse as a json object.\",\n",
    "#     },\n",
    "# ]\n",
    "\n",
    "# response = get_response_json(client, messages)\n",
    "# response"
   ]
  },
  {
   "cell_type": "code",
   "execution_count": 22,
   "id": "00f01351-4067-4bd7-9bfc-c975e56f6970",
   "metadata": {},
   "outputs": [],
   "source": [
    "prompt = \"\"\"\n",
    "You will act as a research assistant classifying news stories as related to artificial intelligence (AI) or unrelated to AI.\n",
    "\n",
    "Your task is to read JSON format objects from an input list of news stories using the schema below delimited by |, and output JSON format objects for each using the schema below delimited by ~.\n",
    "\n",
    "Define a list of objects representing news stories in JSON format as in the following example:\n",
    "|\n",
    "{'stories':\n",
    "[{'id': 97, 'title': 'AI to predict dementia, detect cancer'},\n",
    " {'id': 103,'title': 'Figure robot learns to make coffee by watching humans for 10 hours'},\n",
    " {'id': 103,'title': 'Baby trapped in refrigerator eats own foot'},\n",
    " {'id': 210,'title': 'ChatGPT removes, then reinstates a summarization assistant without explanation.'},\n",
    " {'id': 298,'title': 'The 5 most interesting PC monitors from CES 2024'},\n",
    " ]\n",
    "}\n",
    "|\n",
    "\n",
    "Based on the title, you will classify each story as being about AI or not.\n",
    "\n",
    "For each object, you will output the input id field, and a field named isAI which is true if the input title is about AI and false if the input title is not about AI.\n",
    "\n",
    "When extracting information please make sure it matches the JSON format below exactly. Do not output any attributes that do not appear in the schema below.\n",
    "~\n",
    "{'stories':\n",
    "[{'id': 97, 'isAI': true},\n",
    " {'id': 103, 'isAI': true},\n",
    " {'id': 103, 'isAI': false},\n",
    " {'id': 210, 'isAI': true},\n",
    " {'id': 298, 'isAI': false}]\n",
    "}\n",
    "~\n",
    "\n",
    "You may interpret the term AI broadly as pertaining to\n",
    "- machine learning models\n",
    "- large language models\n",
    "- robotics\n",
    "- reinforcement learning\n",
    "- computer vision\n",
    "- OpenAI\n",
    "- ChatGPT\n",
    "- other closely related topics.\n",
    "\n",
    "You will return an array of valid JSON objects.\n",
    "\n",
    "The field 'id' in the output must match the field 'id' in the input EXACTLY.\n",
    "\n",
    "The field 'isAI' must be either true or false.\n",
    "\n",
    "The list of news stories to classify and enrich is:\n",
    "\n",
    "\n",
    "\"\"\""
   ]
  },
  {
   "cell_type": "code",
   "execution_count": 23,
   "id": "ead5697a-db5c-4f49-ada2-fd5367c8203f",
   "metadata": {},
   "outputs": [
    {
     "data": {
      "text/plain": [
       "{'id': 3,\n",
       " 'title': 'Qualcomm says lower-end Snapdragon X Plus chips can still outrun Apple’s M3'}"
      ]
     },
     "execution_count": 23,
     "metadata": {},
     "output_type": "execute_result"
    }
   ],
   "source": [
    "pages[0][0]"
   ]
  },
  {
   "cell_type": "code",
   "execution_count": 24,
   "id": "a8119733-610b-45c7-a95c-25edf7bc7757",
   "metadata": {},
   "outputs": [
    {
     "name": "stdout",
     "output_type": "stream",
     "text": [
      "14:00:58 send page 1 of 8, 50 items \n",
      "14:01:32 got dict with 50 items \n",
      "14:01:32 send page 2 of 8, 50 items \n",
      "14:02:11 got dict with 50 items \n",
      "14:02:11 send page 3 of 8, 50 items \n",
      "14:02:53 got dict with 50 items \n",
      "14:02:53 send page 4 of 8, 50 items \n",
      "14:03:39 got dict with 50 items \n",
      "14:03:39 send page 5 of 8, 50 items \n",
      "14:04:15 got dict with 50 items \n",
      "14:04:15 send page 6 of 8, 50 items \n",
      "14:04:50 got dict with 50 items \n",
      "14:04:50 send page 7 of 8, 50 items \n",
      "14:05:29 got dict with 50 items \n",
      "14:05:29 send page 8 of 8, 15 items \n",
      "14:05:40 got dict with 15 items \n"
     ]
    }
   ],
   "source": [
    "def fetch_response(client, prompt, p):\n",
    "    \"\"\"given a dict p (page) of keys and values,\n",
    "       prompt the openai client to process the dict \n",
    "       and return the response as a list of keys and values \"\"\"\n",
    "    response = get_response_json(client, prompt + json.dumps(p))\n",
    "    responses.append(response.choices[0].message.content)\n",
    "    retval = json.loads(responses[-1])\n",
    "    retlist = []\n",
    "    # usually comes back as a dict with a single arbitrary key like \"stories\" with a list value\n",
    "    if type(retval) == dict:\n",
    "        for k, v in retval.items():\n",
    "            if type(v) == list:\n",
    "                retlist.extend(v)\n",
    "            else:\n",
    "                retlist.append(v)\n",
    "        print(\n",
    "            f\"{datetime.now().strftime('%H:%M:%S')} got dict with {len(retlist)} items \"\n",
    "        )\n",
    "    elif type(retval) == list:  # in case it comes back as a list\n",
    "        retlist = retval\n",
    "        print(\n",
    "            f\"{datetime.now().strftime('%H:%M:%S')} got list with {len(retlist)} items \"\n",
    "        )\n",
    "    else:\n",
    "        print(str(type(retval)))\n",
    "    # make a list of ids sent\n",
    "    sent_ids = [ s['id'] for s in p]    \n",
    "    # list of ids got back\n",
    "    received_ids = [r['id'] for r in retval['stories']]\n",
    "    # subtract response from sent, check if empty\n",
    "    difference = set(sent_ids) - set(received_ids)\n",
    "    # could map response to boolean, remove anything from response that is not true or false\n",
    "    if difference:\n",
    "        print(\"missing items\", difference)\n",
    "        return []\n",
    "    else:\n",
    "        return retlist\n",
    "        \n",
    "responses = []\n",
    "enriched_urls = []\n",
    "for i, p in enumerate(pages):\n",
    "    print(\n",
    "        f\"{datetime.now().strftime('%H:%M:%S')} send page {i+1} of {len(pages)}, {len(p)} items \"\n",
    "    )\n",
    "    # print(prompt + json.dumps(p))\n",
    "    for c in range(3):\n",
    "        if c:\n",
    "            print(f\"Retrying, attempt {c+1}\")\n",
    "        retlist = fetch_response(client, prompt, p)\n",
    "        if retlist:\n",
    "            break\n",
    "    if retlist:\n",
    "        enriched_urls.extend(retlist)\n",
    "    else:\n",
    "        print(f\"Failed after {c+1} attempts\")\n"
   ]
  },
  {
   "cell_type": "code",
   "execution_count": 25,
   "id": "c76a7a17-3e06-4a9d-9f08-936c953d21b4",
   "metadata": {},
   "outputs": [
    {
     "data": {
      "text/html": [
       "<div>\n",
       "<style scoped>\n",
       "    .dataframe tbody tr th:only-of-type {\n",
       "        vertical-align: middle;\n",
       "    }\n",
       "\n",
       "    .dataframe tbody tr th {\n",
       "        vertical-align: top;\n",
       "    }\n",
       "\n",
       "    .dataframe thead th {\n",
       "        text-align: right;\n",
       "    }\n",
       "</style>\n",
       "<table border=\"1\" class=\"dataframe\">\n",
       "  <thead>\n",
       "    <tr style=\"text-align: right;\">\n",
       "      <th></th>\n",
       "      <th>id</th>\n",
       "      <th>isAI</th>\n",
       "    </tr>\n",
       "  </thead>\n",
       "  <tbody>\n",
       "    <tr>\n",
       "      <th>0</th>\n",
       "      <td>3</td>\n",
       "      <td>False</td>\n",
       "    </tr>\n",
       "    <tr>\n",
       "      <th>1</th>\n",
       "      <td>10</td>\n",
       "      <td>False</td>\n",
       "    </tr>\n",
       "    <tr>\n",
       "      <th>2</th>\n",
       "      <td>21</td>\n",
       "      <td>False</td>\n",
       "    </tr>\n",
       "    <tr>\n",
       "      <th>3</th>\n",
       "      <td>23</td>\n",
       "      <td>False</td>\n",
       "    </tr>\n",
       "    <tr>\n",
       "      <th>4</th>\n",
       "      <td>56</td>\n",
       "      <td>True</td>\n",
       "    </tr>\n",
       "  </tbody>\n",
       "</table>\n",
       "</div>"
      ],
      "text/plain": [
       "   id   isAI\n",
       "0   3  False\n",
       "1  10  False\n",
       "2  21  False\n",
       "3  23  False\n",
       "4  56   True"
      ]
     },
     "execution_count": 25,
     "metadata": {},
     "output_type": "execute_result"
    }
   ],
   "source": [
    "enriched_df = pd.DataFrame(enriched_urls)\n",
    "enriched_df.head()\n"
   ]
  },
  {
   "cell_type": "code",
   "execution_count": 26,
   "id": "a073401c-8366-498e-a251-44b2341965e8",
   "metadata": {},
   "outputs": [
    {
     "name": "stdout",
     "output_type": "stream",
     "text": [
      "isAI 156\n",
      "not isAI 209\n"
     ]
    }
   ],
   "source": [
    "print(\"isAI\", len(enriched_df.loc[enriched_df[\"isAI\"]]))\n",
    "print(\"not isAI\", len(enriched_df.loc[~enriched_df[\"isAI\"]]))"
   ]
  },
  {
   "cell_type": "code",
   "execution_count": 27,
   "id": "9cce23b3-03b0-4751-8a5f-301f7dc86464",
   "metadata": {},
   "outputs": [
    {
     "data": {
      "text/html": [
       "<div>\n",
       "<style scoped>\n",
       "    .dataframe tbody tr th:only-of-type {\n",
       "        vertical-align: middle;\n",
       "    }\n",
       "\n",
       "    .dataframe tbody tr th {\n",
       "        vertical-align: top;\n",
       "    }\n",
       "\n",
       "    .dataframe thead th {\n",
       "        text-align: right;\n",
       "    }\n",
       "</style>\n",
       "<table border=\"1\" class=\"dataframe\">\n",
       "  <thead>\n",
       "    <tr style=\"text-align: right;\">\n",
       "      <th></th>\n",
       "      <th>id</th>\n",
       "      <th>src</th>\n",
       "      <th>title</th>\n",
       "      <th>url</th>\n",
       "      <th>isAI</th>\n",
       "      <th>date</th>\n",
       "    </tr>\n",
       "  </thead>\n",
       "  <tbody>\n",
       "    <tr>\n",
       "      <th>0</th>\n",
       "      <td>3</td>\n",
       "      <td>Ars Technica</td>\n",
       "      <td>Qualcomm says lower-end Snapdragon X Plus chip...</td>\n",
       "      <td>https://arstechnica.com/gadgets/2024/04/qualco...</td>\n",
       "      <td>False</td>\n",
       "      <td>2024-04-25</td>\n",
       "    </tr>\n",
       "    <tr>\n",
       "      <th>1</th>\n",
       "      <td>10</td>\n",
       "      <td>Bloomberg Tech</td>\n",
       "      <td>‘Alien' Joins Old Movie Hits Returning to Thea...</td>\n",
       "      <td>https://www.bloomberg.com/news/articles/2024-0...</td>\n",
       "      <td>False</td>\n",
       "      <td>2024-04-25</td>\n",
       "    </tr>\n",
       "    <tr>\n",
       "      <th>2</th>\n",
       "      <td>21</td>\n",
       "      <td>Bloomberg Tech</td>\n",
       "      <td>Microsoft-Backed Rubrik Shares Jump 25% After ...</td>\n",
       "      <td>https://www.bloomberg.com/news/articles/2024-0...</td>\n",
       "      <td>False</td>\n",
       "      <td>2024-04-25</td>\n",
       "    </tr>\n",
       "    <tr>\n",
       "      <th>3</th>\n",
       "      <td>23</td>\n",
       "      <td>Bloomberg Tech</td>\n",
       "      <td>US Revives Net Neutrality to Establish Authori...</td>\n",
       "      <td>https://www.bloomberg.com/news/articles/2024-0...</td>\n",
       "      <td>False</td>\n",
       "      <td>2024-04-25</td>\n",
       "    </tr>\n",
       "    <tr>\n",
       "      <th>4</th>\n",
       "      <td>56</td>\n",
       "      <td>Business Insider</td>\n",
       "      <td>How Hitachi Digital Services is helping compan...</td>\n",
       "      <td>https://www.businessinsider.com/sc/how-compani...</td>\n",
       "      <td>True</td>\n",
       "      <td>2024-04-25</td>\n",
       "    </tr>\n",
       "  </tbody>\n",
       "</table>\n",
       "</div>"
      ],
      "text/plain": [
       "   id               src                                              title  \\\n",
       "0   3      Ars Technica  Qualcomm says lower-end Snapdragon X Plus chip...   \n",
       "1  10    Bloomberg Tech  ‘Alien' Joins Old Movie Hits Returning to Thea...   \n",
       "2  21    Bloomberg Tech  Microsoft-Backed Rubrik Shares Jump 25% After ...   \n",
       "3  23    Bloomberg Tech  US Revives Net Neutrality to Establish Authori...   \n",
       "4  56  Business Insider  How Hitachi Digital Services is helping compan...   \n",
       "\n",
       "                                                 url   isAI        date  \n",
       "0  https://arstechnica.com/gadgets/2024/04/qualco...  False  2024-04-25  \n",
       "1  https://www.bloomberg.com/news/articles/2024-0...  False  2024-04-25  \n",
       "2  https://www.bloomberg.com/news/articles/2024-0...  False  2024-04-25  \n",
       "3  https://www.bloomberg.com/news/articles/2024-0...  False  2024-04-25  \n",
       "4  https://www.businessinsider.com/sc/how-compani...   True  2024-04-25  "
      ]
     },
     "execution_count": 27,
     "metadata": {},
     "output_type": "execute_result"
    }
   ],
   "source": [
    "merged_df = pd.merge(filtered_df, enriched_df, on=\"id\", how=\"outer\")\n",
    "merged_df['date']=datetime.now().date()\n",
    "merged_df.head()"
   ]
  },
  {
   "cell_type": "code",
   "execution_count": 28,
   "id": "03906d38-001a-4b20-83f7-caa468256098",
   "metadata": {},
   "outputs": [
    {
     "data": {
      "text/html": [
       "<div>\n",
       "<style scoped>\n",
       "    .dataframe tbody tr th:only-of-type {\n",
       "        vertical-align: middle;\n",
       "    }\n",
       "\n",
       "    .dataframe tbody tr th {\n",
       "        vertical-align: top;\n",
       "    }\n",
       "\n",
       "    .dataframe thead th {\n",
       "        text-align: right;\n",
       "    }\n",
       "</style>\n",
       "<table border=\"1\" class=\"dataframe\">\n",
       "  <thead>\n",
       "    <tr style=\"text-align: right;\">\n",
       "      <th></th>\n",
       "      <th>id</th>\n",
       "      <th>src</th>\n",
       "      <th>title</th>\n",
       "      <th>url</th>\n",
       "      <th>isAI</th>\n",
       "      <th>date</th>\n",
       "    </tr>\n",
       "  </thead>\n",
       "  <tbody>\n",
       "  </tbody>\n",
       "</table>\n",
       "</div>"
      ],
      "text/plain": [
       "Empty DataFrame\n",
       "Columns: [id, src, title, url, isAI, date]\n",
       "Index: []"
      ]
     },
     "execution_count": 28,
     "metadata": {},
     "output_type": "execute_result"
    }
   ],
   "source": [
    "# ideally should be empty, shouldn't get back rows that don't match to existing\n",
    "merged_df.loc[merged_df[\"src\"].isna()]"
   ]
  },
  {
   "cell_type": "code",
   "execution_count": 29,
   "id": "47d8da7e-6553-4731-81b8-4e5cddeb0d38",
   "metadata": {},
   "outputs": [
    {
     "data": {
      "text/html": [
       "<div>\n",
       "<style scoped>\n",
       "    .dataframe tbody tr th:only-of-type {\n",
       "        vertical-align: middle;\n",
       "    }\n",
       "\n",
       "    .dataframe tbody tr th {\n",
       "        vertical-align: top;\n",
       "    }\n",
       "\n",
       "    .dataframe thead th {\n",
       "        text-align: right;\n",
       "    }\n",
       "</style>\n",
       "<table border=\"1\" class=\"dataframe\">\n",
       "  <thead>\n",
       "    <tr style=\"text-align: right;\">\n",
       "      <th></th>\n",
       "      <th>id</th>\n",
       "      <th>src</th>\n",
       "      <th>title</th>\n",
       "      <th>url</th>\n",
       "      <th>isAI</th>\n",
       "      <th>date</th>\n",
       "    </tr>\n",
       "  </thead>\n",
       "  <tbody>\n",
       "  </tbody>\n",
       "</table>\n",
       "</div>"
      ],
      "text/plain": [
       "Empty DataFrame\n",
       "Columns: [id, src, title, url, isAI, date]\n",
       "Index: []"
      ]
     },
     "execution_count": 29,
     "metadata": {},
     "output_type": "execute_result"
    }
   ],
   "source": [
    "# ideally should be empty, should get back all rows from orig\n",
    "merged_df.loc[merged_df[\"isAI\"].isna()]"
   ]
  },
  {
   "cell_type": "code",
   "execution_count": 30,
   "id": "b84f216b-39e2-48f2-a87a-513bebaacb06",
   "metadata": {},
   "outputs": [],
   "source": [
    "# # Connect to SQLite database\n",
    "conn = sqlite3.connect('articles.db')\n",
    "cursor = conn.cursor()\n",
    "\n",
    "# # Create table with a date column\n",
    "# cursor.execute('''\n",
    "# CREATE TABLE IF NOT EXISTS news_articles (\n",
    "#     id INTEGER PRIMARY KEY,\n",
    "#     src TEXT,\n",
    "#     title TEXT,\n",
    "#     url TEXT UNIQUE,\n",
    "#     isAI BOOLEAN,\n",
    "#     article_date DATE\n",
    "# )\n",
    "# ''')\n",
    "# conn.commit()\n",
    "# conn.close()"
   ]
  },
  {
   "cell_type": "code",
   "execution_count": 31,
   "id": "b0539856-30df-4420-a192-4f70104f68ff",
   "metadata": {},
   "outputs": [],
   "source": [
    "# Function to insert a new article\n",
    "def insert_article(cursor, src, title, url, isAI, article_date):\n",
    "    try:\n",
    "        cursor.execute(\"INSERT OR IGNORE INTO news_articles (src, title, url, isAI, article_date) VALUES (?, ?, ?, ?, ?)\",\n",
    "                       (src, title, url, isAI, article_date))\n",
    "        conn.commit()\n",
    "    except sqlite3.IntegrityError:\n",
    "        print(f\"Duplicate entry for URL: {url}\")\n",
    "    except Exception as err:\n",
    "        print(err)"
   ]
  },
  {
   "cell_type": "code",
   "execution_count": 32,
   "id": "64926d99-f0ce-475b-8f4e-7e9e69d494e1",
   "metadata": {},
   "outputs": [
    {
     "data": {
      "text/html": [
       "<div>\n",
       "<style scoped>\n",
       "    .dataframe tbody tr th:only-of-type {\n",
       "        vertical-align: middle;\n",
       "    }\n",
       "\n",
       "    .dataframe tbody tr th {\n",
       "        vertical-align: top;\n",
       "    }\n",
       "\n",
       "    .dataframe thead th {\n",
       "        text-align: right;\n",
       "    }\n",
       "</style>\n",
       "<table border=\"1\" class=\"dataframe\">\n",
       "  <thead>\n",
       "    <tr style=\"text-align: right;\">\n",
       "      <th></th>\n",
       "      <th>count(*)</th>\n",
       "    </tr>\n",
       "  </thead>\n",
       "  <tbody>\n",
       "    <tr>\n",
       "      <th>0</th>\n",
       "      <td>51977</td>\n",
       "    </tr>\n",
       "  </tbody>\n",
       "</table>\n",
       "</div>"
      ],
      "text/plain": [
       "   count(*)\n",
       "0     51977"
      ]
     },
     "execution_count": 32,
     "metadata": {},
     "output_type": "execute_result"
    }
   ],
   "source": [
    "pd.read_sql_query(\"select count(*) from news_articles\", conn)\n"
   ]
  },
  {
   "cell_type": "code",
   "execution_count": 33,
   "id": "34579779-7fee-4b3c-b9c6-07d9a43420b6",
   "metadata": {},
   "outputs": [],
   "source": [
    "for row in merged_df.itertuples():\n",
    "    # print(row)\n",
    "    insert_article(cursor, row.src, row.title, row.url, row.isAI, row.date)\n"
   ]
  },
  {
   "cell_type": "code",
   "execution_count": 34,
   "id": "d3ef5f42-5d1f-4e24-85e3-17f6c8b7f4ca",
   "metadata": {},
   "outputs": [
    {
     "data": {
      "text/html": [
       "<div>\n",
       "<style scoped>\n",
       "    .dataframe tbody tr th:only-of-type {\n",
       "        vertical-align: middle;\n",
       "    }\n",
       "\n",
       "    .dataframe tbody tr th {\n",
       "        vertical-align: top;\n",
       "    }\n",
       "\n",
       "    .dataframe thead th {\n",
       "        text-align: right;\n",
       "    }\n",
       "</style>\n",
       "<table border=\"1\" class=\"dataframe\">\n",
       "  <thead>\n",
       "    <tr style=\"text-align: right;\">\n",
       "      <th></th>\n",
       "      <th>count(*)</th>\n",
       "    </tr>\n",
       "  </thead>\n",
       "  <tbody>\n",
       "    <tr>\n",
       "      <th>0</th>\n",
       "      <td>52342</td>\n",
       "    </tr>\n",
       "  </tbody>\n",
       "</table>\n",
       "</div>"
      ],
      "text/plain": [
       "   count(*)\n",
       "0     52342"
      ]
     },
     "execution_count": 34,
     "metadata": {},
     "output_type": "execute_result"
    }
   ],
   "source": [
    "pd.read_sql_query(\"select count(*) from news_articles\", conn)\n"
   ]
  },
  {
   "cell_type": "code",
   "execution_count": null,
   "id": "335e9b0f-52b2-4da1-9628-d17da20514bd",
   "metadata": {},
   "outputs": [],
   "source": [
    "# df = pd.read_sql_query(\"select * from news_articles\", conn)\n",
    "# df\n"
   ]
  },
  {
   "cell_type": "code",
   "execution_count": null,
   "id": "1eb7ed9c-ec1b-42e8-8dbd-8e5aa3c2baa5",
   "metadata": {},
   "outputs": [],
   "source": [
    "# merged_df = pd.read_sql_query(\"select * from news_articles where article_date='2024-04-'\", conn)"
   ]
  },
  {
   "cell_type": "code",
   "execution_count": 35,
   "id": "3562ab5f-4263-425c-bb26-467627ffbc48",
   "metadata": {},
   "outputs": [
    {
     "data": {
      "text/plain": [
       "365"
      ]
     },
     "execution_count": 35,
     "metadata": {},
     "output_type": "execute_result"
    }
   ],
   "source": [
    "len(merged_df)"
   ]
  },
  {
   "cell_type": "code",
   "execution_count": 36,
   "id": "94195039-e2f6-47da-9b78-e69870ba0c12",
   "metadata": {},
   "outputs": [
    {
     "data": {
      "text/plain": [
       "365"
      ]
     },
     "execution_count": 36,
     "metadata": {},
     "output_type": "execute_result"
    }
   ],
   "source": [
    "merged_df = merged_df.dropna()\n",
    "len(merged_df)"
   ]
  },
  {
   "cell_type": "code",
   "execution_count": 37,
   "id": "4916dac6",
   "metadata": {},
   "outputs": [
    {
     "data": {
      "text/plain": [
       "156"
      ]
     },
     "execution_count": 37,
     "metadata": {},
     "output_type": "execute_result"
    }
   ],
   "source": [
    "len(merged_df.loc[merged_df[\"isAI\"] > 0])"
   ]
  },
  {
   "cell_type": "code",
   "execution_count": 38,
   "id": "4fe0cd9a-2788-4db5-96bd-5a2d427b0c25",
   "metadata": {},
   "outputs": [
    {
     "data": {
      "text/plain": [
       "156"
      ]
     },
     "execution_count": 38,
     "metadata": {},
     "output_type": "execute_result"
    }
   ],
   "source": [
    "len(merged_df.loc[merged_df[\"isAI\"]])"
   ]
  },
  {
   "cell_type": "code",
   "execution_count": 39,
   "id": "9d4c9c78-9c58-482b-b7d9-427ed82d9746",
   "metadata": {
    "scrolled": true
   },
   "outputs": [
    {
     "name": "stdout",
     "output_type": "stream",
     "text": [
      "14:05:41 Found 156 headlines\n"
     ]
    }
   ],
   "source": [
    "AIdf = merged_df.loc[merged_df[\"isAI\"] > 0].reset_index()\n",
    "print(datetime.now().strftime('%H:%M:%S'), f\"Found {len(AIdf)} headlines\", flush=True)"
   ]
  },
  {
   "cell_type": "code",
   "execution_count": 40,
   "id": "42516b43-2a5d-4b99-9784-3d9352af3334",
   "metadata": {},
   "outputs": [],
   "source": [
    "# drop spaces\n",
    "AIdf['title_clean'] = AIdf['title'].map(lambda s: \"\".join(s.split()))\n"
   ]
  },
  {
   "cell_type": "code",
   "execution_count": 41,
   "id": "68d836bc-9512-4276-91e8-ee562d8dabd0",
   "metadata": {},
   "outputs": [],
   "source": [
    "# make unique by title\n",
    "AIdf = AIdf.sort_values(\"src\") \\\n",
    "    .groupby(\"title_clean\") \\\n",
    "    .first() \\\n",
    "    .reset_index()"
   ]
  },
  {
   "cell_type": "code",
   "execution_count": 42,
   "id": "e06b5000-734b-4ccd-99fc-e71be40a627d",
   "metadata": {},
   "outputs": [
    {
     "name": "stdout",
     "output_type": "stream",
     "text": [
      "14:05:41 Deduped 152 headlines\n"
     ]
    }
   ],
   "source": [
    "print(datetime.now().strftime('%H:%M:%S'), f\"Deduped {len(AIdf)} headlines\", flush=True)"
   ]
  },
  {
   "cell_type": "code",
   "execution_count": 43,
   "id": "c3d649c1-3776-436d-86fe-712fe3fb3a82",
   "metadata": {},
   "outputs": [],
   "source": [
    "# Attempt to order by topic by getting embeddings and solving a traveling salesman problem\n",
    "embedding_model = 'text-embedding-3-small'\n",
    "response = client.embeddings.create(input=AIdf['title'].tolist(),\n",
    "                                    model=embedding_model)\n",
    "embedding_list = response.data"
   ]
  },
  {
   "cell_type": "code",
   "execution_count": 44,
   "id": "3f1074ce-5b31-470b-b962-3782dd8d2815",
   "metadata": {},
   "outputs": [
    {
     "data": {
      "text/html": [
       "<div>\n",
       "<style scoped>\n",
       "    .dataframe tbody tr th:only-of-type {\n",
       "        vertical-align: middle;\n",
       "    }\n",
       "\n",
       "    .dataframe tbody tr th {\n",
       "        vertical-align: top;\n",
       "    }\n",
       "\n",
       "    .dataframe thead th {\n",
       "        text-align: right;\n",
       "    }\n",
       "</style>\n",
       "<table border=\"1\" class=\"dataframe\">\n",
       "  <thead>\n",
       "    <tr style=\"text-align: right;\">\n",
       "      <th></th>\n",
       "      <th>0</th>\n",
       "      <th>1</th>\n",
       "      <th>2</th>\n",
       "      <th>3</th>\n",
       "      <th>4</th>\n",
       "      <th>5</th>\n",
       "      <th>6</th>\n",
       "      <th>7</th>\n",
       "      <th>8</th>\n",
       "      <th>9</th>\n",
       "      <th>...</th>\n",
       "      <th>1526</th>\n",
       "      <th>1527</th>\n",
       "      <th>1528</th>\n",
       "      <th>1529</th>\n",
       "      <th>1530</th>\n",
       "      <th>1531</th>\n",
       "      <th>1532</th>\n",
       "      <th>1533</th>\n",
       "      <th>1534</th>\n",
       "      <th>1535</th>\n",
       "    </tr>\n",
       "  </thead>\n",
       "  <tbody>\n",
       "    <tr>\n",
       "      <th>0</th>\n",
       "      <td>-0.003387</td>\n",
       "      <td>-0.060976</td>\n",
       "      <td>-0.024047</td>\n",
       "      <td>0.021451</td>\n",
       "      <td>0.013136</td>\n",
       "      <td>-0.023717</td>\n",
       "      <td>0.046199</td>\n",
       "      <td>0.022605</td>\n",
       "      <td>-0.018128</td>\n",
       "      <td>0.019158</td>\n",
       "      <td>...</td>\n",
       "      <td>-0.027439</td>\n",
       "      <td>0.014640</td>\n",
       "      <td>-0.001372</td>\n",
       "      <td>0.014914</td>\n",
       "      <td>0.000241</td>\n",
       "      <td>0.010417</td>\n",
       "      <td>-0.016851</td>\n",
       "      <td>-0.010341</td>\n",
       "      <td>0.002578</td>\n",
       "      <td>-0.010616</td>\n",
       "    </tr>\n",
       "    <tr>\n",
       "      <th>1</th>\n",
       "      <td>-0.034340</td>\n",
       "      <td>-0.037009</td>\n",
       "      <td>0.037200</td>\n",
       "      <td>0.008234</td>\n",
       "      <td>0.000415</td>\n",
       "      <td>-0.034078</td>\n",
       "      <td>-0.019541</td>\n",
       "      <td>0.045636</td>\n",
       "      <td>-0.034150</td>\n",
       "      <td>0.033602</td>\n",
       "      <td>...</td>\n",
       "      <td>-0.027501</td>\n",
       "      <td>0.046589</td>\n",
       "      <td>-0.005606</td>\n",
       "      <td>0.033983</td>\n",
       "      <td>-0.007411</td>\n",
       "      <td>0.029002</td>\n",
       "      <td>-0.006268</td>\n",
       "      <td>-0.043873</td>\n",
       "      <td>-0.020113</td>\n",
       "      <td>0.016276</td>\n",
       "    </tr>\n",
       "    <tr>\n",
       "      <th>2</th>\n",
       "      <td>-0.015442</td>\n",
       "      <td>0.028419</td>\n",
       "      <td>0.017353</td>\n",
       "      <td>0.005290</td>\n",
       "      <td>-0.002068</td>\n",
       "      <td>-0.020609</td>\n",
       "      <td>0.017174</td>\n",
       "      <td>0.042532</td>\n",
       "      <td>0.008908</td>\n",
       "      <td>0.000419</td>\n",
       "      <td>...</td>\n",
       "      <td>-0.034886</td>\n",
       "      <td>0.026314</td>\n",
       "      <td>-0.012694</td>\n",
       "      <td>0.011865</td>\n",
       "      <td>0.002927</td>\n",
       "      <td>0.014195</td>\n",
       "      <td>0.030674</td>\n",
       "      <td>0.002744</td>\n",
       "      <td>0.014717</td>\n",
       "      <td>-0.008721</td>\n",
       "    </tr>\n",
       "    <tr>\n",
       "      <th>3</th>\n",
       "      <td>0.016117</td>\n",
       "      <td>0.002881</td>\n",
       "      <td>0.041922</td>\n",
       "      <td>0.026410</td>\n",
       "      <td>0.047255</td>\n",
       "      <td>-0.042102</td>\n",
       "      <td>-0.016593</td>\n",
       "      <td>0.022790</td>\n",
       "      <td>-0.000708</td>\n",
       "      <td>0.034449</td>\n",
       "      <td>...</td>\n",
       "      <td>-0.019376</td>\n",
       "      <td>0.036047</td>\n",
       "      <td>-0.024169</td>\n",
       "      <td>0.034578</td>\n",
       "      <td>0.017830</td>\n",
       "      <td>0.023447</td>\n",
       "      <td>0.015537</td>\n",
       "      <td>-0.047178</td>\n",
       "      <td>-0.017766</td>\n",
       "      <td>0.019776</td>\n",
       "    </tr>\n",
       "    <tr>\n",
       "      <th>4</th>\n",
       "      <td>0.003119</td>\n",
       "      <td>-0.026173</td>\n",
       "      <td>0.007390</td>\n",
       "      <td>0.033505</td>\n",
       "      <td>-0.021488</td>\n",
       "      <td>-0.052549</td>\n",
       "      <td>-0.024238</td>\n",
       "      <td>0.011750</td>\n",
       "      <td>-0.018942</td>\n",
       "      <td>-0.010101</td>\n",
       "      <td>...</td>\n",
       "      <td>-0.005547</td>\n",
       "      <td>0.025320</td>\n",
       "      <td>0.020711</td>\n",
       "      <td>-0.001986</td>\n",
       "      <td>0.018560</td>\n",
       "      <td>-0.007033</td>\n",
       "      <td>-0.012132</td>\n",
       "      <td>0.013506</td>\n",
       "      <td>0.048577</td>\n",
       "      <td>0.008860</td>\n",
       "    </tr>\n",
       "    <tr>\n",
       "      <th>...</th>\n",
       "      <td>...</td>\n",
       "      <td>...</td>\n",
       "      <td>...</td>\n",
       "      <td>...</td>\n",
       "      <td>...</td>\n",
       "      <td>...</td>\n",
       "      <td>...</td>\n",
       "      <td>...</td>\n",
       "      <td>...</td>\n",
       "      <td>...</td>\n",
       "      <td>...</td>\n",
       "      <td>...</td>\n",
       "      <td>...</td>\n",
       "      <td>...</td>\n",
       "      <td>...</td>\n",
       "      <td>...</td>\n",
       "      <td>...</td>\n",
       "      <td>...</td>\n",
       "      <td>...</td>\n",
       "      <td>...</td>\n",
       "      <td>...</td>\n",
       "    </tr>\n",
       "    <tr>\n",
       "      <th>147</th>\n",
       "      <td>0.028076</td>\n",
       "      <td>0.008746</td>\n",
       "      <td>-0.018431</td>\n",
       "      <td>0.034659</td>\n",
       "      <td>0.010168</td>\n",
       "      <td>-0.045541</td>\n",
       "      <td>0.004173</td>\n",
       "      <td>0.038142</td>\n",
       "      <td>-0.046956</td>\n",
       "      <td>0.013371</td>\n",
       "      <td>...</td>\n",
       "      <td>0.005587</td>\n",
       "      <td>0.037271</td>\n",
       "      <td>0.009093</td>\n",
       "      <td>0.008073</td>\n",
       "      <td>-0.016568</td>\n",
       "      <td>0.036618</td>\n",
       "      <td>0.014092</td>\n",
       "      <td>0.025722</td>\n",
       "      <td>0.072964</td>\n",
       "      <td>-0.004996</td>\n",
       "    </tr>\n",
       "    <tr>\n",
       "      <th>148</th>\n",
       "      <td>-0.031314</td>\n",
       "      <td>0.046351</td>\n",
       "      <td>0.033851</td>\n",
       "      <td>0.024351</td>\n",
       "      <td>-0.035833</td>\n",
       "      <td>-0.035410</td>\n",
       "      <td>0.044052</td>\n",
       "      <td>0.009044</td>\n",
       "      <td>-0.019040</td>\n",
       "      <td>0.053908</td>\n",
       "      <td>...</td>\n",
       "      <td>0.010722</td>\n",
       "      <td>0.019079</td>\n",
       "      <td>0.005411</td>\n",
       "      <td>0.011356</td>\n",
       "      <td>0.010617</td>\n",
       "      <td>0.019304</td>\n",
       "      <td>-0.010676</td>\n",
       "      <td>-0.001957</td>\n",
       "      <td>0.000633</td>\n",
       "      <td>0.003591</td>\n",
       "    </tr>\n",
       "    <tr>\n",
       "      <th>149</th>\n",
       "      <td>-0.013124</td>\n",
       "      <td>0.025313</td>\n",
       "      <td>0.014179</td>\n",
       "      <td>-0.029385</td>\n",
       "      <td>-0.026486</td>\n",
       "      <td>-0.024931</td>\n",
       "      <td>-0.031862</td>\n",
       "      <td>0.004806</td>\n",
       "      <td>-0.046752</td>\n",
       "      <td>0.024378</td>\n",
       "      <td>...</td>\n",
       "      <td>-0.032389</td>\n",
       "      <td>0.010304</td>\n",
       "      <td>0.008776</td>\n",
       "      <td>-0.016392</td>\n",
       "      <td>0.007379</td>\n",
       "      <td>0.043036</td>\n",
       "      <td>0.026183</td>\n",
       "      <td>-0.006058</td>\n",
       "      <td>0.001561</td>\n",
       "      <td>-0.012149</td>\n",
       "    </tr>\n",
       "    <tr>\n",
       "      <th>150</th>\n",
       "      <td>0.008623</td>\n",
       "      <td>0.017980</td>\n",
       "      <td>0.019145</td>\n",
       "      <td>0.037191</td>\n",
       "      <td>-0.019368</td>\n",
       "      <td>-0.025811</td>\n",
       "      <td>0.028495</td>\n",
       "      <td>0.040622</td>\n",
       "      <td>-0.018373</td>\n",
       "      <td>-0.021424</td>\n",
       "      <td>...</td>\n",
       "      <td>-0.007621</td>\n",
       "      <td>-0.001954</td>\n",
       "      <td>-0.016146</td>\n",
       "      <td>0.032555</td>\n",
       "      <td>0.019996</td>\n",
       "      <td>0.028810</td>\n",
       "      <td>0.012486</td>\n",
       "      <td>0.004371</td>\n",
       "      <td>0.014156</td>\n",
       "      <td>-0.010522</td>\n",
       "    </tr>\n",
       "    <tr>\n",
       "      <th>151</th>\n",
       "      <td>-0.016996</td>\n",
       "      <td>0.015929</td>\n",
       "      <td>0.010251</td>\n",
       "      <td>0.041159</td>\n",
       "      <td>0.060737</td>\n",
       "      <td>-0.047788</td>\n",
       "      <td>0.022956</td>\n",
       "      <td>0.062484</td>\n",
       "      <td>-0.013746</td>\n",
       "      <td>0.019269</td>\n",
       "      <td>...</td>\n",
       "      <td>-0.029290</td>\n",
       "      <td>0.054468</td>\n",
       "      <td>-0.007766</td>\n",
       "      <td>0.025166</td>\n",
       "      <td>0.027285</td>\n",
       "      <td>0.003979</td>\n",
       "      <td>0.019629</td>\n",
       "      <td>0.007605</td>\n",
       "      <td>0.015274</td>\n",
       "      <td>0.028570</td>\n",
       "    </tr>\n",
       "  </tbody>\n",
       "</table>\n",
       "<p>152 rows × 1536 columns</p>\n",
       "</div>"
      ],
      "text/plain": [
       "         0         1         2         3         4         5         6     \\\n",
       "0   -0.003387 -0.060976 -0.024047  0.021451  0.013136 -0.023717  0.046199   \n",
       "1   -0.034340 -0.037009  0.037200  0.008234  0.000415 -0.034078 -0.019541   \n",
       "2   -0.015442  0.028419  0.017353  0.005290 -0.002068 -0.020609  0.017174   \n",
       "3    0.016117  0.002881  0.041922  0.026410  0.047255 -0.042102 -0.016593   \n",
       "4    0.003119 -0.026173  0.007390  0.033505 -0.021488 -0.052549 -0.024238   \n",
       "..        ...       ...       ...       ...       ...       ...       ...   \n",
       "147  0.028076  0.008746 -0.018431  0.034659  0.010168 -0.045541  0.004173   \n",
       "148 -0.031314  0.046351  0.033851  0.024351 -0.035833 -0.035410  0.044052   \n",
       "149 -0.013124  0.025313  0.014179 -0.029385 -0.026486 -0.024931 -0.031862   \n",
       "150  0.008623  0.017980  0.019145  0.037191 -0.019368 -0.025811  0.028495   \n",
       "151 -0.016996  0.015929  0.010251  0.041159  0.060737 -0.047788  0.022956   \n",
       "\n",
       "         7         8         9     ...      1526      1527      1528  \\\n",
       "0    0.022605 -0.018128  0.019158  ... -0.027439  0.014640 -0.001372   \n",
       "1    0.045636 -0.034150  0.033602  ... -0.027501  0.046589 -0.005606   \n",
       "2    0.042532  0.008908  0.000419  ... -0.034886  0.026314 -0.012694   \n",
       "3    0.022790 -0.000708  0.034449  ... -0.019376  0.036047 -0.024169   \n",
       "4    0.011750 -0.018942 -0.010101  ... -0.005547  0.025320  0.020711   \n",
       "..        ...       ...       ...  ...       ...       ...       ...   \n",
       "147  0.038142 -0.046956  0.013371  ...  0.005587  0.037271  0.009093   \n",
       "148  0.009044 -0.019040  0.053908  ...  0.010722  0.019079  0.005411   \n",
       "149  0.004806 -0.046752  0.024378  ... -0.032389  0.010304  0.008776   \n",
       "150  0.040622 -0.018373 -0.021424  ... -0.007621 -0.001954 -0.016146   \n",
       "151  0.062484 -0.013746  0.019269  ... -0.029290  0.054468 -0.007766   \n",
       "\n",
       "         1529      1530      1531      1532      1533      1534      1535  \n",
       "0    0.014914  0.000241  0.010417 -0.016851 -0.010341  0.002578 -0.010616  \n",
       "1    0.033983 -0.007411  0.029002 -0.006268 -0.043873 -0.020113  0.016276  \n",
       "2    0.011865  0.002927  0.014195  0.030674  0.002744  0.014717 -0.008721  \n",
       "3    0.034578  0.017830  0.023447  0.015537 -0.047178 -0.017766  0.019776  \n",
       "4   -0.001986  0.018560 -0.007033 -0.012132  0.013506  0.048577  0.008860  \n",
       "..        ...       ...       ...       ...       ...       ...       ...  \n",
       "147  0.008073 -0.016568  0.036618  0.014092  0.025722  0.072964 -0.004996  \n",
       "148  0.011356  0.010617  0.019304 -0.010676 -0.001957  0.000633  0.003591  \n",
       "149 -0.016392  0.007379  0.043036  0.026183 -0.006058  0.001561 -0.012149  \n",
       "150  0.032555  0.019996  0.028810  0.012486  0.004371  0.014156 -0.010522  \n",
       "151  0.025166  0.027285  0.003979  0.019629  0.007605  0.015274  0.028570  \n",
       "\n",
       "[152 rows x 1536 columns]"
      ]
     },
     "execution_count": 44,
     "metadata": {},
     "output_type": "execute_result"
    }
   ],
   "source": [
    "embedding_df = pd.DataFrame([e.dict()['embedding'] for e in embedding_list])\n",
    "embedding_df\n"
   ]
  },
  {
   "cell_type": "code",
   "execution_count": 45,
   "id": "a09087d0-a63c-4a50-b9ac-ab2fe03be69e",
   "metadata": {},
   "outputs": [
    {
     "data": {
      "text/plain": [
       "array([  0,  85,  88,  59,  87, 150,  26,  98,  66, 143, 104,  52, 126,\n",
       "       117, 118,  11,   3, 134,  39, 146,  21,  17,  93,  94, 139,  14,\n",
       "       133, 125,  68,  60,  24,  58,  28,  33,  29,  27,  48, 112, 111,\n",
       "       110, 137,   6,  44, 102, 101,  75, 119, 120,  72, 106, 100,  99,\n",
       "        82,  73,  64, 127,  50,  46,  53, 105,   2,  81,  89,  13,  83,\n",
       "        84,   1,  30, 115, 144, 145,   5,  61,  67,  49,   4, 138, 147,\n",
       "        35,  62, 124,  54, 113,  18,  31,  51,   7,  71,  12,  15,  55,\n",
       "        47,   9,  65, 116, 130, 141,  56,  70,  95, 122, 123, 131, 103,\n",
       "        22,  23,  45, 135, 136, 129, 142,  16,  32, 108,  86,  90,  77,\n",
       "        25,  40, 121, 132,  78,  79,  80, 107,  43,  74,  63, 128, 109,\n",
       "        38,  19, 151,  20,  57,  96,  91,  92,  41,  42, 140,  69,  10,\n",
       "       148,  76,  37,  36,  97,  34,   8, 149, 114])"
      ]
     },
     "execution_count": 45,
     "metadata": {},
     "output_type": "execute_result"
    }
   ],
   "source": [
    "# naive greedy solution to traveling salesman problem\n",
    "\n",
    "embedding_array = embedding_df.values\n",
    "\n",
    "def nearest_neighbor_sort(embedding_array):\n",
    "    # Compute the pairwise Euclidean distances between all embeddings\n",
    "    distances = cdist(embedding_array, embedding_array, metric='euclidean')\n",
    "\n",
    "    # Start from the first headline as the initial point\n",
    "    path = [0]\n",
    "    visited = set(path)\n",
    "\n",
    "    while len(path) < len(embedding_array):\n",
    "        last = path[-1]\n",
    "        # Set the distances to already visited nodes to infinity to avoid revisiting\n",
    "        distances[:, last][list(visited)] = np.inf\n",
    "        # Find the nearest neighbor\n",
    "        nearest = np.argmin(distances[:, last])\n",
    "        path.append(nearest)\n",
    "        visited.add(nearest)\n",
    "\n",
    "    return np.array(path)\n",
    "\n",
    "# Get the sorted indices\n",
    "sorted_indices = nearest_neighbor_sort(embedding_array)\n",
    "\n",
    "# The sorted embedding array can be obtained using these indices\n",
    "sorted_embedding_array = embedding_array[sorted_indices]\n",
    "\n",
    "sorted_indices  # Show the first few indices of the sorted path\n"
   ]
  },
  {
   "cell_type": "code",
   "execution_count": 46,
   "id": "40df3a68-9998-46b1-8275-862724be8bcd",
   "metadata": {},
   "outputs": [
    {
     "data": {
      "text/markdown": [
       "[0. 'Ask Meta AI anything': Putting Facebook's new AI to the test with a Cincinnati chili recipe - Google News](https://news.google.com/articles/CBMiZmh0dHBzOi8vd3d3Lndsd3QuY29tL2FydGljbGUvbWV0YS1haS1mYWNlYm9vay1pbnN0YWdyYW0tY2luY2lubmF0aS1jaGlsaS1yZWNpcGUtY3liZXJzZWN1cml0eS82MDYwMjI4OdIBAA)"
      ],
      "text/plain": [
       "<IPython.core.display.Markdown object>"
      ]
     },
     "metadata": {},
     "output_type": "display_data"
    },
    {
     "data": {
      "text/markdown": [
       "[1. Meta's AI is now in your Instagram and Facebook. Here's what it does — and whether you can turn it off - Business Insider](https://www.businessinsider.com/meta-ai-on-instagram-whatsapp-facebook-cant-turn-off-2024-4)"
      ],
      "text/plain": [
       "<IPython.core.display.Markdown object>"
      ]
     },
     "metadata": {},
     "output_type": "display_data"
    },
    {
     "data": {
      "text/markdown": [
       "[2. Meta adds AI tool to Facebook, Instagram, WhatsApp, Messenger; can you turn it off? - Feedly AI](https://www.actionnewsjax.com/news/trending/meta-adds-ai-tool-facebook-instagram-whatsapp-messenger-can-you-turn-it-off/LUUEUGST5RBDDOJDJLY4VX5VJU/)"
      ],
      "text/plain": [
       "<IPython.core.display.Markdown object>"
      ]
     },
     "metadata": {},
     "output_type": "display_data"
    },
    {
     "data": {
      "text/markdown": [
       "[3. Facebook's Meta AI is lying when it says you can disable it - but here's what you can do - Google News](https://news.google.com/articles/CBMic2h0dHBzOi8vd3d3LnpkbmV0LmNvbS9hcnRpY2xlL2ZhY2Vib29rcy1tZXRhLWFpLWlzLWx5aW5nLXdoZW4taXQtc2F5cy15b3UtY2FuLWRpc2FibGUtaXQtYnV0LWhlcmVzLXdoYXQteW91LWNhbi1kby_SAQA)"
      ],
      "text/plain": [
       "<IPython.core.display.Markdown object>"
      ]
     },
     "metadata": {},
     "output_type": "display_data"
    },
    {
     "data": {
      "text/markdown": [
       "[4. Meta's value plummets as Zuckerberg admits AI needs more time and moneyRevenues up, but is the AI hype bubble is threatening to burst?AI + ML5 hrs|11 - The Register](https://www.theregister.com/2024/04/25/facebooks_value_plummets_as_zuckerberg/)"
      ],
      "text/plain": [
       "<IPython.core.display.Markdown object>"
      ]
     },
     "metadata": {},
     "output_type": "display_data"
    },
    {
     "data": {
      "text/markdown": [
       "[5. Zuckerberg says it will take Meta years to make money from generative AI - Google News](https://news.google.com/articles/CBMiVGh0dHBzOi8vd3d3LnRoZXZlcmdlLmNvbS8yMDI0LzQvMjQvMjQxMzk1OTEvbWV0YS1xMS0yMDI0LWVhcm5pbmdzLWFpLW1hcmstenVja2VyYmVyZ9IBAA)"
      ],
      "text/plain": [
       "<IPython.core.display.Markdown object>"
      ]
     },
     "metadata": {},
     "output_type": "display_data"
    },
    {
     "data": {
      "text/markdown": [
       "[6. A new report explores the economic impact of generative AI - Feedly AI](https://blog.google/technology/ai/a-new-report-explores-the-economic-impact-of-generative-ai/)"
      ],
      "text/plain": [
       "<IPython.core.display.Markdown object>"
      ]
     },
     "metadata": {},
     "output_type": "display_data"
    },
    {
     "data": {
      "text/markdown": [
       "[7. New research on generative AI and the economy - Google News](https://news.google.com/articles/CBMiXWh0dHBzOi8vYmxvZy5nb29nbGUvdGVjaG5vbG9neS9haS9hLW5ldy1yZXBvcnQtZXhwbG9yZXMtdGhlLWVjb25vbWljLWltcGFjdC1vZi1nZW5lcmF0aXZlLWFpL9IBAA)"
      ],
      "text/plain": [
       "<IPython.core.display.Markdown object>"
      ]
     },
     "metadata": {},
     "output_type": "display_data"
    },
    {
     "data": {
      "text/markdown": [
       "[8. Generative AI in 2024: Navigating the Evolution from Hype to Transformation - HackerNoon](https://hackernoon.com/generative-ai-in-2024-navigating-the-evolution-from-hype-to-transformation)"
      ],
      "text/plain": [
       "<IPython.core.display.Markdown object>"
      ]
     },
     "metadata": {},
     "output_type": "display_data"
    },
    {
     "data": {
      "text/markdown": [
       "[9. What it takes to make AI responsible in an era of advanced models - Google News](https://news.google.com/articles/CBMiX2h0dHBzOi8vd3d3LnRlY2hyYWRhci5jb20vcHJvL3doYXQtaXQtdGFrZXMtdG8tbWFrZS1haS1yZXNwb25zaWJsZS1pbi1hbi1lcmEtb2YtYWR2YW5jZWQtbW9kZWxz0gEA)"
      ],
      "text/plain": [
       "<IPython.core.display.Markdown object>"
      ]
     },
     "metadata": {},
     "output_type": "display_data"
    },
    {
     "data": {
      "text/markdown": [
       "[10. Op-Ed: AI's Most Pressing Ethics Problem - Google News](https://news.google.com/articles/CBMiSWh0dHBzOi8vd3d3LmNqci5vcmcvdG93X2NlbnRlci9vcC1lZC1haXMtbW9zdC1wcmVzc2luZy1ldGhpY3MtcHJvYmxlbS5waHDSAQA)"
      ],
      "text/plain": [
       "<IPython.core.display.Markdown object>"
      ]
     },
     "metadata": {},
     "output_type": "display_data"
    },
    {
     "data": {
      "text/markdown": [
       "[11. Ethical A.I. and Innovation Are 'Two Sides of the Same Coin' - Google News](https://news.google.com/articles/CBMiN2h0dHBzOi8vdGltZS5jb20vNjk2ODgxMi90aW1lMTAwLWFpLWV0aGljYWwtaW5ub3ZhdGlvbi_SAQA)"
      ],
      "text/plain": [
       "<IPython.core.display.Markdown object>"
      ]
     },
     "metadata": {},
     "output_type": "display_data"
    },
    {
     "data": {
      "text/markdown": [
       "[12. Spotting AI Washing: How Companies Overhype Artificial Intelligence - Google News](https://news.google.com/articles/CBMid2h0dHBzOi8vd3d3LmZvcmJlcy5jb20vc2l0ZXMvYmVybmFyZG1hcnIvMjAyNC8wNC8yNS9zcG90dGluZy1haS13YXNoaW5nLWhvdy1jb21wYW5pZXMtb3Zlcmh5cGUtYXJ0aWZpY2lhbC1pbnRlbGxpZ2VuY2Uv0gEA)"
      ],
      "text/plain": [
       "<IPython.core.display.Markdown object>"
      ]
     },
     "metadata": {},
     "output_type": "display_data"
    },
    {
     "data": {
      "text/markdown": [
       "[13. SEC Enforcement Director Warns Against AI Washing - Google News](https://news.google.com/articles/CBMingFodHRwczovL3d3dy53aWxtZXJoYWxlLmNvbS9lbi9pbnNpZ2h0cy9ibG9ncy9rZWVwaW5nLWN1cnJlbnQtZGlzY2xvc3VyZS1hbmQtZ292ZXJuYW5jZS1kZXZlbG9wbWVudHMvMjAyNDA0MjQtc2VjLWVuZm9yY2VtZW50LWRpcmVjdG9yLXdhcm5zLWFnYWluc3QtYWktd2FzaGluZ9IBAA)"
      ],
      "text/plain": [
       "<IPython.core.display.Markdown object>"
      ]
     },
     "metadata": {},
     "output_type": "display_data"
    },
    {
     "data": {
      "text/markdown": [
       "[14. SEC Warns Individual Actors of Potential Liability for AI-Related Security Risk Disclosure Failures - Google News](https://news.google.com/articles/CBMie2h0dHBzOi8vd3d3LndoaXRlY2FzZS5jb20vaW5zaWdodC1hbGVydC9zZWMtd2FybnMtaW5kaXZpZHVhbC1hY3RvcnMtcG90ZW50aWFsLWxpYWJpbGl0eS1haS1yZWxhdGVkLXNlY3VyaXR5LXJpc2stZGlzY2xvc3VyZdIBAA)"
      ],
      "text/plain": [
       "<IPython.core.display.Markdown object>"
      ]
     },
     "metadata": {},
     "output_type": "display_data"
    },
    {
     "data": {
      "text/markdown": [
       "[15. AI Data Breaches Affect 1 in 5 UK Companies: Insider Leaks Highlight Internal Security Threats - Google News](https://news.google.com/articles/CBMiUGh0dHBzOi8vd3d3LmNjbi5jb20vbmV3cy90ZWNobm9sb2d5L2FpLWRhdGEtYnJlYWNoZXMtYWZmZWN0LTEtaW4tNS11ay1jb21wYW5pZXMv0gEA)"
      ],
      "text/plain": [
       "<IPython.core.display.Markdown object>"
      ]
     },
     "metadata": {},
     "output_type": "display_data"
    },
    {
     "data": {
      "text/markdown": [
       "[16. 25 cybersecurity AI stats you should know - Google News](https://news.google.com/articles/CBMiQmh0dHBzOi8vd3d3LmhlbHBuZXRzZWN1cml0eS5jb20vMjAyNC8wNC8yNS9jeWJlcnNlY3VyaXR5LWFpLXN0YXRzL9IBAA)"
      ],
      "text/plain": [
       "<IPython.core.display.Markdown object>"
      ]
     },
     "metadata": {},
     "output_type": "display_data"
    },
    {
     "data": {
      "text/markdown": [
       "[17. The cyber landscape in 2024: AI, cyber attacks and disinformation - Feedly AI](https://www.techradar.com/pro/the-cyber-landscape-in-2024-ai-cyber-attacks-and-disinformation)"
      ],
      "text/plain": [
       "<IPython.core.display.Markdown object>"
      ]
     },
     "metadata": {},
     "output_type": "display_data"
    },
    {
     "data": {
      "text/markdown": [
       "[18. Computer science expert predicts sweeping disruption from AI - Google News](https://news.google.com/articles/CBMiXmh0dHBzOi8vd3d3Lndpc2J1c2luZXNzLmNvbS8yMDI0L2NvbXB1dGVyLXNjaWVuY2UtZXhwZXJ0LXByZWRpY3RzLXN3ZWVwaW5nLWRpc3J1cHRpb24tZnJvbS1haS_SAQA)"
      ],
      "text/plain": [
       "<IPython.core.display.Markdown object>"
      ]
     },
     "metadata": {},
     "output_type": "display_data"
    },
    {
     "data": {
      "text/markdown": [
       "[19. Will AI Be the End of Programmers? What Happens to the IT Industry? - HackerNoon](https://hackernoon.com/will-ai-be-the-end-of-programmers-what-happens-to-the-it-industry)"
      ],
      "text/plain": [
       "<IPython.core.display.Markdown object>"
      ]
     },
     "metadata": {},
     "output_type": "display_data"
    },
    {
     "data": {
      "text/markdown": [
       "[20. AI will break the stagnation in developer productivity, but only if you do it right - Feedly AI](https://cloud.google.com/blog/products/application-development/ai-assistance-kickstarts-developer-productivity-whitepaper/)"
      ],
      "text/plain": [
       "<IPython.core.display.Markdown object>"
      ]
     },
     "metadata": {},
     "output_type": "display_data"
    },
    {
     "data": {
      "text/markdown": [
       "[21. AI could boost Canada’s lagging productivity, Microsoft Canada’s president says - Feedly AI](https://www.theglobeandmail.com/business/technology/article-ai-could-boost-canadas-lagging-productivity-microsoft-canadas/)"
      ],
      "text/plain": [
       "<IPython.core.display.Markdown object>"
      ]
     },
     "metadata": {},
     "output_type": "display_data"
    },
    {
     "data": {
      "text/markdown": [
       "[22. Microsoft's AI lead puts Amazon cloud dominance on watch - Google News](https://news.google.com/articles/CBMiY2h0dHBzOi8vd3d3LnJldXRlcnMuY29tL3RlY2hub2xvZ3kvbWljcm9zb2Z0cy1haS1sZWFkLXB1dHMtYW1hem9uLWNsb3VkLWRvbWluYW5jZS13YXRjaC0yMDI0LTA0LTI0L9IBAA)"
      ],
      "text/plain": [
       "<IPython.core.display.Markdown object>"
      ]
     },
     "metadata": {},
     "output_type": "display_data"
    },
    {
     "data": {
      "text/markdown": [
       "[23. Microsoft and Amazon face scrutiny from UK competition watchdog over recent AI deals - Google News](https://news.google.com/articles/CBMibWh0dHBzOi8vYXBuZXdzLmNvbS9hcnRpY2xlL21pY3Jvc29mdC1hbWF6b24tYW50aHJvcGljLWFpLWludmVzdG1lbnQtc2NydXRpbnktYTUyZjY0MDlmYTZlZTliMzM1YWI2ODAxYjhlODRjZGXSAQA)"
      ],
      "text/plain": [
       "<IPython.core.display.Markdown object>"
      ]
     },
     "metadata": {},
     "output_type": "display_data"
    },
    {
     "data": {
      "text/markdown": [
       "[24. UK regulator examines Microsoft and Amazon's AI dealmaking - Google News](https://news.google.com/articles/CBMiP2h0dHBzOi8vd3d3LmZ0LmNvbS9jb250ZW50LzA1OTdhODM0LWMxMDEtNGQwMS04OTNkLTg3YzJlY2ExMjJjOdIBAA)"
      ],
      "text/plain": [
       "<IPython.core.display.Markdown object>"
      ]
     },
     "metadata": {},
     "output_type": "display_data"
    },
    {
     "data": {
      "text/markdown": [
       "[25. AI Industry Braces as British Regulators Scrutinize Big Tech Deals - Google News](https://news.google.com/articles/CBMikAFodHRwczovL3d3dy5weW1udHMuY29tL2FydGlmaWNpYWwtaW50ZWxsaWdlbmNlLTIvMjAyNC9hcy1icml0aXNoLXJlZ3VsYXRvcnMtc2NydXRpbml6ZS1taWNyb3NvZnQtYW5kLWFtYXpvbi1haS1kZWFscy1pbmR1c3RyeS1icmFjZXMtZm9yLWltcGFjdC_SAQA)"
      ],
      "text/plain": [
       "<IPython.core.display.Markdown object>"
      ]
     },
     "metadata": {},
     "output_type": "display_data"
    },
    {
     "data": {
      "text/markdown": [
       "[26. The biggest AI companies agree to crack down on child abuse images - The Verge](https://www.theverge.com/2024/4/23/24138356/ai-companies-csam-thorn-training-data)"
      ],
      "text/plain": [
       "<IPython.core.display.Markdown object>"
      ]
     },
     "metadata": {},
     "output_type": "display_data"
    },
    {
     "data": {
      "text/markdown": [
       "[27. Should creators be concerned about Instagram’s AI developments? - Google News](https://news.google.com/articles/CBMiPGh0dHBzOi8vd3d3LmRhaWx5ZG90LmNvbS9wYXNzaW9uZnJ1aXQvaW5zdGFncmFtLWFpLWNyZWF0b3JzL9IBQGh0dHBzOi8vd3d3LmRhaWx5ZG90LmNvbS9wYXNzaW9uZnJ1aXQvaW5zdGFncmFtLWFpLWNyZWF0b3JzLz9hbXA)"
      ],
      "text/plain": [
       "<IPython.core.display.Markdown object>"
      ]
     },
     "metadata": {},
     "output_type": "display_data"
    },
    {
     "data": {
      "text/markdown": [
       "[28. Hot Topics: Instagram has new AI image generator - New Day NW - Google News](https://news.google.com/articles/CBMitQFodHRwczovL3d3dy5raW5nNS5jb20vdmlkZW8vZW50ZXJ0YWlubWVudC90ZWxldmlzaW9uL3Byb2dyYW1zL25ldy1kYXktbm9ydGh3ZXN0L2hvdC10b3BpY3MtaW5zdGFncmFtLWhhcy1hLW5ldy1haS1pbWFnZS1nZW5lcmF0b3ItbmV3LWRheS1udy8yODEtNzUzNWJlYWMtZjM5OS00OWJkLThhNTItZmRlMTQ4OTJjNzk10gEA)"
      ],
      "text/plain": [
       "<IPython.core.display.Markdown object>"
      ]
     },
     "metadata": {},
     "output_type": "display_data"
    },
    {
     "data": {
      "text/markdown": [
       "[29. Facebook’s Bizarre AI Images Now on LinkedIn, Too - Feedly AI](https://www.404media.co/facebooks-bizarre-ai-images-now-on-linkedin-too/)"
      ],
      "text/plain": [
       "<IPython.core.display.Markdown object>"
      ]
     },
     "metadata": {},
     "output_type": "display_data"
    },
    {
     "data": {
      "text/markdown": [
       "[30. Ads for Explicit 'AI Girlfriends' Are Swarming Facebook and Instagram - Google News](https://news.google.com/articles/CBMiXGh0dHBzOi8vd3d3LndpcmVkLmNvbS9zdG9yeS9hZHMtZm9yLWV4cGxpY2l0LWFpLWdpcmxmcmllbmRzLXN3YXJtaW5nLWZhY2Vib29rLWFuZC1pbnN0YWdyYW0v0gEA)"
      ],
      "text/plain": [
       "<IPython.core.display.Markdown object>"
      ]
     },
     "metadata": {},
     "output_type": "display_data"
    },
    {
     "data": {
      "text/markdown": [
       "[31. Facebook's ChatGPT-Like AI Knows Your Location - Google News](https://news.google.com/articles/CBMiRmh0dHBzOi8vODAubHYvYXJ0aWNsZXMvZmFjZWJvb2stcy1jaGF0Z3B0LWxpa2UtYWkta25vd3MteW91ci1sb2NhdGlvbi_SAQA)"
      ],
      "text/plain": [
       "<IPython.core.display.Markdown object>"
      ]
     },
     "metadata": {},
     "output_type": "display_data"
    },
    {
     "data": {
      "text/markdown": [
       "[32. Apple's new outperforming GPT-4 LLM will reportedly run on-device like Copilot on future AI PCs, but OpenAI's Sam Altman admitted it's virtually 'impossible' to train ChatGPT-like tools without copyrighted content - Feedly AI](https://www.windowscentral.com/software-apps/apples-new-outperforming-gpt-4-llm-will-reportedly-run-on-device-like-copilot)"
      ],
      "text/plain": [
       "<IPython.core.display.Markdown object>"
      ]
     },
     "metadata": {},
     "output_type": "display_data"
    },
    {
     "data": {
      "text/markdown": [
       "[33. Briefing: Apple Releases Small, Open-Source AI Models for On-Device Applications - Google News](https://news.google.com/articles/CBMibmh0dHBzOi8vd3d3LnRoZWluZm9ybWF0aW9uLmNvbS9icmllZmluZ3MvYXBwbGUtcmVsZWFzZXMtc21hbGwtb3Blbi1zb3VyY2UtYWktbW9kZWxzLWZvci1vbi1kZXZpY2UtYXBwbGljYXRpb25z0gEA)"
      ],
      "text/plain": [
       "<IPython.core.display.Markdown object>"
      ]
     },
     "metadata": {},
     "output_type": "display_data"
    },
    {
     "data": {
      "text/markdown": [
       "[34. Apple’s new AI model hints at how AI could come to the iPhone - The Verge](https://www.theverge.com/2024/4/24/24139266/apple-ai-model-openelm-iphone-laptops-strategy)"
      ],
      "text/plain": [
       "<IPython.core.display.Markdown object>"
      ]
     },
     "metadata": {},
     "output_type": "display_data"
    },
    {
     "data": {
      "text/markdown": [
       "[35. Apple's iPhone AI Plans Confirmed With New Software Release - Google News](https://news.google.com/articles/CBMieWh0dHBzOi8vd3d3LmZvcmJlcy5jb20vc2l0ZXMvZXdhbnNwZW5jZS8yMDI0LzA0LzI1L2FwcGxlLWlwaG9uZS0xNi1wcm8tYWktbGxtLW9wZW5lbG0tb3Blbi1zb3VyY2Utc29mdHdhcmUtbmV3LWlwaG9uZS0xNi_SAQA)"
      ],
      "text/plain": [
       "<IPython.core.display.Markdown object>"
      ]
     },
     "metadata": {},
     "output_type": "display_data"
    },
    {
     "data": {
      "text/markdown": [
       "[36. Does AI Know What an Apple Is? She Aims to Find Out. - Google News](https://news.google.com/articles/CBMiW2h0dHBzOi8vd3d3LnF1YW50YW1hZ2F6aW5lLm9yZy9kb2VzLWFpLWtub3ctd2hhdC1hbi1hcHBsZS1pcy1zaGUtYWltcy10by1maW5kLW91dC0yMDI0MDQyNS_SAQA)"
      ],
      "text/plain": [
       "<IPython.core.display.Markdown object>"
      ]
     },
     "metadata": {},
     "output_type": "display_data"
    },
    {
     "data": {
      "text/markdown": [
       "[37. Perplexity AI: Exploring AI-powered search beyond Google - Google News](https://news.google.com/articles/CBMiW2h0dHBzOi8vc2VhcmNoZW5naW5lbGFuZC5jb20vcGVycGxleGl0eS1haS1leHBsb3JpbmctYWktcG93ZXJlZC1zZWFyY2gtYmV5b25kLWdvb2dsZS00Mzk4NznSAQA)"
      ],
      "text/plain": [
       "<IPython.core.display.Markdown object>"
      ]
     },
     "metadata": {},
     "output_type": "display_data"
    },
    {
     "data": {
      "text/markdown": [
       "[38. Perplexity.ai Focuses On Ads, Attracts Funds From Digital Elite. Search Will Never Be The Same - Google News](https://news.google.com/articles/CBMijgFodHRwczovL3d3dy5mb3JiZXMuY29tL3NpdGVzL2RhdmlkZG90eS8yMDI0LzA0LzI1L3BlcnBsZXhpdHlhaS1mb2N1c2VzLW9uLWFkcy1hdHRyYWN0cy1mdW5kcy1mcm9tLWRpZ2l0YWwtZWxpdGUtc2VhcmNoLXdpbGwtbmV2ZXItYmUtdGhlLXNhbWUv0gEA)"
      ],
      "text/plain": [
       "<IPython.core.display.Markdown object>"
      ]
     },
     "metadata": {},
     "output_type": "display_data"
    },
    {
     "data": {
      "text/markdown": [
       "[39. PR firms race to launch internal AI tools - Feedly AI](https://www.axios.com/2024/04/25/pr-firms-launch-ai-tools)"
      ],
      "text/plain": [
       "<IPython.core.display.Markdown object>"
      ]
     },
     "metadata": {},
     "output_type": "display_data"
    },
    {
     "data": {
      "text/markdown": [
       "[40. Top Strategies for small businesses to successfully implementArtificial Intelligence - Feedly AI](https://www.mercurynews.com/2024/04/25/top-strategies-for-small-businesses-to-successfully-implement-artificial-intelligence/)"
      ],
      "text/plain": [
       "<IPython.core.display.Markdown object>"
      ]
     },
     "metadata": {},
     "output_type": "display_data"
    },
    {
     "data": {
      "text/markdown": [
       "[41. 5 Key Economic Impacts And Strategic Implications Of AI For Leaders - Google News](https://news.google.com/articles/CBMigQFodHRwczovL3d3dy5mb3JiZXMuY29tL3NpdGVzL3Bhb2xhY2VjY2hpLWRpbWVnbGlvLzIwMjQvMDQvMjUvNS1rZXktZWNvbm9taWMtaW1wYWN0cy1hbmQtc3RyYXRlZ2ljLWltcGxpY2F0aW9ucy1vZi1haS1mb3ItbGVhZGVycy_SAQA)"
      ],
      "text/plain": [
       "<IPython.core.display.Markdown object>"
      ]
     },
     "metadata": {},
     "output_type": "display_data"
    },
    {
     "data": {
      "text/markdown": [
       "[42. Decoding Economics | AI is a magic bullet to increase productivity, finds BIS research - Google News](https://news.google.com/articles/CBMiiwFodHRwczovL3d3dy5tb25leWNvbnRyb2wuY29tL25ld3Mvb3Bpbmlvbi9kZWNvZGluZy1lY29ub21pY3MtYWktaXMtYS1tYWdpYy1idWxsZXQtdG8taW5jcmVhc2UtcHJvZHVjdGl2aXR5LWZpbmRzLWJpcy1yZXNlYXJjaC0xMjcwNzEzNi5odG1s0gGPAWh0dHBzOi8vd3d3Lm1vbmV5Y29udHJvbC5jb20vbmV3cy9vcGluaW9uL2RlY29kaW5nLWVjb25vbWljcy1haS1pcy1hLW1hZ2ljLWJ1bGxldC10by1pbmNyZWFzZS1wcm9kdWN0aXZpdHktZmluZHMtYmlzLXJlc2VhcmNoLTEyNzA3MTM2Lmh0bWwvYW1w)"
      ],
      "text/plain": [
       "<IPython.core.display.Markdown object>"
      ]
     },
     "metadata": {},
     "output_type": "display_data"
    },
    {
     "data": {
      "text/markdown": [
       "[43. Nvidia stands to benefit as Meta spurs an even greater AI spending spree - Google News](https://news.google.com/articles/CBMiggFodHRwczovL3d3dy5tYXJrZXR3YXRjaC5jb20vc3RvcnkvbnZpZGlhLXN0YW5kcy10by1iZW5lZml0LWFzLW1ldGEtc3B1cnMtYW4tZXZlbi1ncmVhdGVyLWFpLXNwZW5kaW5nLXNwcmVlLWIxNWNkMGI2P3JlZj1iaXp0b2MuY29t0gF3aHR0cHM6Ly93d3cubWFya2V0d2F0Y2guY29tL2FtcC9zdG9yeS9udmlkaWEtc3RhbmRzLXRvLWJlbmVmaXQtYXMtbWV0YS1zcHVycy1hbi1ldmVuLWdyZWF0ZXItYWktc3BlbmRpbmctc3ByZWUtYjE1Y2QwYjY)"
      ],
      "text/plain": [
       "<IPython.core.display.Markdown object>"
      ]
     },
     "metadata": {},
     "output_type": "display_data"
    },
    {
     "data": {
      "text/markdown": [
       "[44. Nvidia Stock Gains. What Meta’s Earnings Mean for the AI Chip Maker. - Feedly AI](https://www.barrons.com/articles/nvidia-stock-price-buy-sell-meta-earnings-5299b966)"
      ],
      "text/plain": [
       "<IPython.core.display.Markdown object>"
      ]
     },
     "metadata": {},
     "output_type": "display_data"
    },
    {
     "data": {
      "text/markdown": [
       "[45. Intel to report Q1 earnings as Wall Street eyes AI and foundry growth - Feedly AI](https://finance.yahoo.com/news/intel-earnings-135825817.html)"
      ],
      "text/plain": [
       "<IPython.core.display.Markdown object>"
      ]
     },
     "metadata": {},
     "output_type": "display_data"
    },
    {
     "data": {
      "text/markdown": [
       "[46. SK hynix breaks Q1 revenue records on back of AI boom - Feedly AI](https://go.theregister.com/feed/www.theregister.com/2024/04/25/sk_hynix_ai_hbm/)"
      ],
      "text/plain": [
       "<IPython.core.display.Markdown object>"
      ]
     },
     "metadata": {},
     "output_type": "display_data"
    },
    {
     "data": {
      "text/markdown": [
       "[47. SK hynix breaks Q1 revenue records on back of AI boomMemory biz ditches NAND production plans to make more crucial HBM techStorage4 hrs| - The Register](https://www.theregister.com/2024/04/25/sk_hynix_ai_hbm/)"
      ],
      "text/plain": [
       "<IPython.core.display.Markdown object>"
      ]
     },
     "metadata": {},
     "output_type": "display_data"
    },
    {
     "data": {
      "text/markdown": [
       "[48. Huawei Leads Chinese Effort to Compete With Nvidia's AI Chips - Google News](https://news.google.com/articles/CBMiZGh0dHBzOi8vd3d3LnRoZWluZm9ybWF0aW9uLmNvbS9hcnRpY2xlcy9odWF3ZWktbGVhZHMtY2hpbmVzZS1lZmZvcnQtdG8tY29tcGV0ZS13aXRoLW52aWRpYXMtYWktY2hpcHPSAQA)"
      ],
      "text/plain": [
       "<IPython.core.display.Markdown object>"
      ]
     },
     "metadata": {},
     "output_type": "display_data"
    },
    {
     "data": {
      "text/markdown": [
       "[49. OpenAI receives the world's most powerful AI GPU from Nvidia CEO - Google News](https://news.google.com/articles/CBMiQmh0dHBzOi8vaW50ZXJlc3RpbmdlbmdpbmVlcmluZy5jb20vaW5ub3ZhdGlvbi9udmlkaWEtYWktZ3B1LW9wZW5hadIBAA)"
      ],
      "text/plain": [
       "<IPython.core.display.Markdown object>"
      ]
     },
     "metadata": {},
     "output_type": "display_data"
    },
    {
     "data": {
      "text/markdown": [
       "[50. Nvidia CEO hand-delivers world's fastest AI system to OpenAI, again — first DGX H200 given to Sam Altman and Greg Brockman - Google News](https://news.google.com/articles/CBMiuQFodHRwczovL3d3dy50b21zaGFyZHdhcmUuY29tL3RlY2gtaW5kdXN0cnkvYXJ0aWZpY2lhbC1pbnRlbGxpZ2VuY2UvbnZpZGlhLWNlby1oYW5kLWRlbGl2ZXJzLXdvcmxkcy1mYXN0ZXN0LWFpLXN5c3RlbS10by1vcGVuYWktYWdhaW4tZmlyc3QtZGd4LWgyMDAtZ2l2ZW4tdG8tc2FtLWFsdG1hbi1hbmQtZ3JlZy1icm9ja21hbtIBAA)"
      ],
      "text/plain": [
       "<IPython.core.display.Markdown object>"
      ]
     },
     "metadata": {},
     "output_type": "display_data"
    },
    {
     "data": {
      "text/markdown": [
       "[51. Nvidia CEO Jensen Huang personally delivers first DGX H200 to OpenAI - VentureBeat](https://venturebeat.com/ai/nvidia-ceo-jensen-huang-personally-delivers-first-dgx-h200-to-openai/)"
      ],
      "text/plain": [
       "<IPython.core.display.Markdown object>"
      ]
     },
     "metadata": {},
     "output_type": "display_data"
    },
    {
     "data": {
      "text/markdown": [
       "[52. M&A News: Nvidia (NASDAQ:NVDA) to Acquire 2 Israeli AI Startups - Google News](https://news.google.com/articles/CBMiWGh0dHBzOi8vd3d3LnRpcHJhbmtzLmNvbS9uZXdzL21hLW5ld3MtbnZpZGlhLW5hc2RhcW52ZGEtdG8tYWNxdWlyZS0yLWlzcmFlbGktYWktc3RhcnR1cHPSAQA)"
      ],
      "text/plain": [
       "<IPython.core.display.Markdown object>"
      ]
     },
     "metadata": {},
     "output_type": "display_data"
    },
    {
     "data": {
      "text/markdown": [
       "[53. Indian fintech Aurionpro bolsters AI portfolio with \\\\$16.5m takeover of Arya.ai - Feedly AI](https://www.fintechfutures.com/2024/04/indian-fintech-aurionpro-bolsters-ai-portfolio-with-16-5m-takeover-of-arya-ai/)"
      ],
      "text/plain": [
       "<IPython.core.display.Markdown object>"
      ]
     },
     "metadata": {},
     "output_type": "display_data"
    },
    {
     "data": {
      "text/markdown": [
       "[54. Generative AI for Healthcare: Xaira Therapeutics Launches with \\\\$1 Billion Funding - Feedly AI](https://www.techtimes.com/articles/303991/20240425/generative-ai-healthcare-xaira-therapeutics-launches-1-billion-funding.htm)"
      ],
      "text/plain": [
       "<IPython.core.display.Markdown object>"
      ]
     },
     "metadata": {},
     "output_type": "display_data"
    },
    {
     "data": {
      "text/markdown": [
       "[55. Sublime, which monitors emails of companies and political campaigns to spot AI-generated phishing attacks, raised a \\\\$20M Series A, taking total funding to \\\\$30M - Techmeme](https://www.forbes.com/sites/thomasbrewster/2024/04/24/ex-pentagon-hacker-raises-20-million-to-stop-chatgpt-fueled-cyberattacks/)"
      ],
      "text/plain": [
       "<IPython.core.display.Markdown object>"
      ]
     },
     "metadata": {},
     "output_type": "display_data"
    },
    {
     "data": {
      "text/markdown": [
       "[56. Dropzone raises \\\\$16.85M to build autonomous cybersecurity AI agents - Google News](https://news.google.com/articles/CBMicmh0dHBzOi8vdmVudHVyZWJlYXQuY29tL2FpL2Ryb3B6b25lLWFpLXJhaXNlcy0xN20tZnJvbS10aGVvcnktdmVudHVyZXMtZm9yLWl0cy1hdXRvbm9tb3VzLWN5YmVyc2VjdXJpdHktYWktYWdlbnRzL9IBAA)"
      ],
      "text/plain": [
       "<IPython.core.display.Markdown object>"
      ]
     },
     "metadata": {},
     "output_type": "display_data"
    },
    {
     "data": {
      "text/markdown": [
       "[57. DeepMind Patent Adds to Robotic AI Ambitions - Feedly AI](https://www.thedailyupside.com/technology/big-tech/deepmind-patent-adds-to-robotic-ai-ambitions/)"
      ],
      "text/plain": [
       "<IPython.core.display.Markdown object>"
      ]
     },
     "metadata": {},
     "output_type": "display_data"
    },
    {
     "data": {
      "text/markdown": [
       "[58. Europe taps deep learning to make industrial robots safer colleagues - Feedly AI](https://thenextweb.com/news/europe-taps-deep-learning-make-industrial-robots-safer)"
      ],
      "text/plain": [
       "<IPython.core.display.Markdown object>"
      ]
     },
     "metadata": {},
     "output_type": "display_data"
    },
    {
     "data": {
      "text/markdown": [
       "[59. OpenAI's Chris Lehane calls AI \"critical infrastructure\" - Google News](https://news.google.com/articles/CBMiT2h0dHBzOi8vd3d3LmF4aW9zLmNvbS8yMDI0LzA0LzI1L29wZW5haS1jaHJpcy1sZWhhbmUtYWktY3JpdGljYWwtaW5mcmFzdHJ1Y3R1cmXSAQA)"
      ],
      "text/plain": [
       "<IPython.core.display.Markdown object>"
      ]
     },
     "metadata": {},
     "output_type": "display_data"
    },
    {
     "data": {
      "text/markdown": [
       "[60. 2-5 years to sci-fi level AI? Former OpenAI employee sounds alarm - Feedly AI](https://boingboing.net/2024/04/25/2-5-years-to-sci-fi-level-ai-former-openai-employee-sounds-alarm.html)"
      ],
      "text/plain": [
       "<IPython.core.display.Markdown object>"
      ]
     },
     "metadata": {},
     "output_type": "display_data"
    },
    {
     "data": {
      "text/markdown": [
       "[61. Llama 3 Establishes Meta as the Leader in “Open” AI - Feedly AI](https://spectrum.ieee.org/meta-llama-3)"
      ],
      "text/plain": [
       "<IPython.core.display.Markdown object>"
      ]
     },
     "metadata": {},
     "output_type": "display_data"
    },
    {
     "data": {
      "text/markdown": [
       "[62. Meta’s Open Source Llama 3 Is Already Nipping at OpenAI’s Heels - Feedly AI](https://www.wired.com/story/metas-open-source-llama-3-nipping-at-openais-heels/)"
      ],
      "text/plain": [
       "<IPython.core.display.Markdown object>"
      ]
     },
     "metadata": {},
     "output_type": "display_data"
    },
    {
     "data": {
      "text/markdown": [
       "[63. AI Industries Converge: Llama 3 and Electric Atlas Have More In Common Than You Think - HackerNoon](https://hackernoon.com/ai-industries-converge-llama-3-and-electric-atlas-have-more-in-common-than-you-think)"
      ],
      "text/plain": [
       "<IPython.core.display.Markdown object>"
      ]
     },
     "metadata": {},
     "output_type": "display_data"
    },
    {
     "data": {
      "text/markdown": [
       "[64. Masa Announces Comprehensive AI Developer Ecosystem with 13 Dynamic Partners Focused on Leveraging Decentralized Data and Large Language Models - Google News](https://news.google.com/articles/CBMiqQFodHRwczovL2ZpbmFuY2VmZWVkcy5jb20vbWFzYS1hbm5vdW5jZXMtY29tcHJlaGVuc2l2ZS1haS1kZXZlbG9wZXItZWNvc3lzdGVtLXdpdGgtMTMtZHluYW1pYy1wYXJ0bmVycy1mb2N1c2VkLW9uLWxldmVyYWdpbmctZGVjZW50cmFsaXplZC1kYXRhLWFuZC1sYXJnZS1sYW5ndWFnZS1tb2RlbHMv0gEA)"
      ],
      "text/plain": [
       "<IPython.core.display.Markdown object>"
      ]
     },
     "metadata": {},
     "output_type": "display_data"
    },
    {
     "data": {
      "text/markdown": [
       "[65. Masa unveils AI developer ecosystem with 13 partner projects By Investing.com - Google News](https://news.google.com/articles/CBMid2h0dHBzOi8vd3d3LmludmVzdGluZy5jb20vbmV3cy9jcnlwdG9jdXJyZW5jeS1uZXdzL21hc2EtdW52ZWlscy1haS1kZXZlbG9wZXItZWNvc3lzdGVtLXdpdGgtMTMtcGFydG5lci1wcm9qZWN0cy0zMzk3NDI30gEA)"
      ],
      "text/plain": [
       "<IPython.core.display.Markdown object>"
      ]
     },
     "metadata": {},
     "output_type": "display_data"
    },
    {
     "data": {
      "text/markdown": [
       "[66. 13 Innovative AI Projects Partner With This Network: Details - Google News](https://news.google.com/articles/CBMiS2h0dHBzOi8vdS50b2RheS8xMy1pbm5vdmF0aXZlLWFpLXByb2plY3RzLXBhcnRuZXItd2l0aC10aGlzLW5ldHdvcmstZGV0YWlsc9IBT2h0dHBzOi8vdS50b2RheS8xMy1pbm5vdmF0aXZlLWFpLXByb2plY3RzLXBhcnRuZXItd2l0aC10aGlzLW5ldHdvcmstZGV0YWlscz9hbXA)"
      ],
      "text/plain": [
       "<IPython.core.display.Markdown object>"
      ]
     },
     "metadata": {},
     "output_type": "display_data"
    },
    {
     "data": {
      "text/markdown": [
       "[67. Artificial Intelligence (AI) Robots Are a \\\\$38 Billion Market, According to Goldman Sachs. Here's How the \"Magnificent Seven\" Are Investing in the Technology. - Google News](https://news.google.com/articles/CBMiXWh0dHBzOi8vd3d3LmZvb2wuY29tL2ludmVzdGluZy8yMDI0LzA0LzI1L2FydGlmaWNpYWwtaW50ZWxsaWdlbmNlLWFpLXJvYm90cy1hcmUtYS0zOC1iaWxsaW9uL9IBAA)"
      ],
      "text/plain": [
       "<IPython.core.display.Markdown object>"
      ]
     },
     "metadata": {},
     "output_type": "display_data"
    },
    {
     "data": {
      "text/markdown": [
       "[68. Redefining the Future withArtificial IntelligenceBuyouts - Feedly AI](https://www.entrepreneur.com/science-technology/redefining-the-future-with-artificial-intelligence-buyouts/473199)"
      ],
      "text/plain": [
       "<IPython.core.display.Markdown object>"
      ]
     },
     "metadata": {},
     "output_type": "display_data"
    },
    {
     "data": {
      "text/markdown": [
       "[69. Why BigBear.ai, Super Micro Computer, Arm Holdings, and Other Artificial Intelligence (AI) Stocks Surged on Tuesday - Google News](https://news.google.com/articles/CBMiXWh0dHBzOi8vd3d3LmZvb2wuY29tL2ludmVzdGluZy8yMDI0LzA0LzIzL3doeS1iaWdiZWFyYWktc3VwZXItbWljcm8tY29tcHV0ZXItYXJtLWhvbGRpbmdzLWFuL9IBAA)"
      ],
      "text/plain": [
       "<IPython.core.display.Markdown object>"
      ]
     },
     "metadata": {},
     "output_type": "display_data"
    },
    {
     "data": {
      "text/markdown": [
       "[70. Why Is SoundHound AI (SOUN) Stock Up 10% Today? - Google News](https://news.google.com/articles/CBMiTmh0dHBzOi8vaW52ZXN0b3JwbGFjZS5jb20vMjAyNC8wNC93aHktaXMtc291bmRob3VuZC1haS1zb3VuLXN0b2NrLXVwLTEwLXRvZGF5L9IBAA)"
      ],
      "text/plain": [
       "<IPython.core.display.Markdown object>"
      ]
     },
     "metadata": {},
     "output_type": "display_data"
    },
    {
     "data": {
      "text/markdown": [
       "[71. 3 Reasons to Buy SoundHound AI Stock, According to This Investor - TipRanks.com - Google News](https://news.google.com/articles/CBMiXWh0dHBzOi8vd3d3LnRpcHJhbmtzLmNvbS9uZXdzLzMtcmVhc29ucy10by1idXktc291bmRob3VuZC1haS1zdG9jay1hY2NvcmRpbmctdG8tdGhpcy1pbnZlc3RvctIBAA)"
      ],
      "text/plain": [
       "<IPython.core.display.Markdown object>"
      ]
     },
     "metadata": {},
     "output_type": "display_data"
    },
    {
     "data": {
      "text/markdown": [
       "[72. Forget SoundHound AI: 3 Tech Stocks to Buy Instead - Google News](https://news.google.com/articles/CBMiSWh0dHBzOi8vZmluYW5jZS55YWhvby5jb20vbmV3cy9mb3JnZXQtc291bmRob3VuZC1haS0zLXRlY2gtMDc0NTAwMjMxLmh0bWzSAQA)"
      ],
      "text/plain": [
       "<IPython.core.display.Markdown object>"
      ]
     },
     "metadata": {},
     "output_type": "display_data"
    },
    {
     "data": {
      "text/markdown": [
       "[73. Here Are Five Tips on How to Tell If a Song Is Real or A.I. - Google News](https://news.google.com/articles/CBMiNGh0dHBzOi8vd3d3Lnh4bG1hZy5jb20vc29uZy1yZWFsLW9yLWEtaS1ob3ctdG8tdGVsbC_SAQA)"
      ],
      "text/plain": [
       "<IPython.core.display.Markdown object>"
      ]
     },
     "metadata": {},
     "output_type": "display_data"
    },
    {
     "data": {
      "text/markdown": [
       "[74. Drake May Go to Court Over AI-Generated Tupac - Feedly AI](https://gizmodo.com/drake-court-rapping-ai-tupac-shakur-snoop-diss-track-1851435020)"
      ],
      "text/plain": [
       "<IPython.core.display.Markdown object>"
      ]
     },
     "metadata": {},
     "output_type": "display_data"
    },
    {
     "data": {
      "text/markdown": [
       "[75. 2Pac’s estate threatens to sue Drake over use of late rapper’s AI-generated voice on “taylor made freestyle” - Feedly AI](https://rhymejunkie.com/posts/2pac-estate-threatens-to-sue-drake-over-use-of-late-rapper-ai-generated-voice-on-taylor-made-freestyle-01hwaqrqpbxf)"
      ],
      "text/plain": [
       "<IPython.core.display.Markdown object>"
      ]
     },
     "metadata": {},
     "output_type": "display_data"
    },
    {
     "data": {
      "text/markdown": [
       "[76. Tupac Shakur's Estate Issues Drake Cease-and-Desist Letter For Using an AI-generated Tupac Voice in a Diss Track - Google News](https://news.google.com/articles/CBMikgFodHRwczovL3d3dy5iZXQuY29tL2FydGljbGUvZmZtZXlyL3R1cGFjLXNoYWt1cnMtZXN0YXRlLWlzc3Vlcy1kcmFrZS1jZWFzZS1hbmQtZGVzaXN0LWxldHRlci1mb3ItdXNpbmctYW4tYWktZ2VuZXJhdGVkLXR1cGFjLXZvaWNlLWluLWEtZGlzcy10cmFja9IBAA)"
      ],
      "text/plain": [
       "<IPython.core.display.Markdown object>"
      ]
     },
     "metadata": {},
     "output_type": "display_data"
    },
    {
     "data": {
      "text/markdown": [
       "[77. William Shatner Defends AI Artwork on New Children's Album Amid Backlash - Feedly AI](https://movieweb.com/william-shatner-defends-ai-backlash-new-childrens-album/)"
      ],
      "text/plain": [
       "<IPython.core.display.Markdown object>"
      ]
     },
     "metadata": {},
     "output_type": "display_data"
    },
    {
     "data": {
      "text/markdown": [
       "[78. Catholic Answer’s AI ‘priest’ laicized after backlash - Feedly AI](https://www.americamagazine.org/faith/2024/04/25/ai-priest-catholic-answers-laicized-father-justin-247799)"
      ],
      "text/plain": [
       "<IPython.core.display.Markdown object>"
      ]
     },
     "metadata": {},
     "output_type": "display_data"
    },
    {
     "data": {
      "text/markdown": [
       "[79. Former Maryland school official facing charges related to AI hoax - Google News](https://news.google.com/articles/CBMib2h0dHBzOi8vd3d3LndiYWx0di5jb20vYXJ0aWNsZS9wb2xpY2UtZm9ybWVyLXBpa2VzdmlsbGUtaGlnaC1hZC1mYWNpbmctY2hhcmdlcy1haS1nZW5lcmF0ZWQtdm9pY2UtaG9heC82MDYwMzMxM9IBAA)"
      ],
      "text/plain": [
       "<IPython.core.display.Markdown object>"
      ]
     },
     "metadata": {},
     "output_type": "display_data"
    },
    {
     "data": {
      "text/markdown": [
       "[80. School athletic director arrested for framing principal using AI voice synthesis - Google News](https://news.google.com/articles/CBMiiQFodHRwczovL2Fyc3RlY2huaWNhLmNvbS9pbmZvcm1hdGlvbi10ZWNobm9sb2d5LzIwMjQvMDQvYWxsZWdlZC1haS12b2ljZS1pbWl0YXRpb24tbGVhZHMtdG8tYXJyZXN0LWluLWJhbHRpbW9yZS1zY2hvb2wtcmFjaXNtLWNvbnRyb3ZlcnN5L9IBAA)"
      ],
      "text/plain": [
       "<IPython.core.display.Markdown object>"
      ]
     },
     "metadata": {},
     "output_type": "display_data"
    },
    {
     "data": {
      "text/markdown": [
       "[81. Ex-athletic director framed principal with AI-generated voice, police say - Google News](https://news.google.com/articles/CBMifGh0dHBzOi8vd3d3LnRoZWJhbHRpbW9yZWJhbm5lci5jb20vZWR1Y2F0aW9uL2stMTItc2Nob29scy9lcmljLWVpc3dlcnQtYWktYXVkaW8tYmFsdGltb3JlLWNvdW50eS1ZQkpOSkFTNk9aRUU1T1FWRjVMRk9GWU42TS_SAQA)"
      ],
      "text/plain": [
       "<IPython.core.display.Markdown object>"
      ]
     },
     "metadata": {},
     "output_type": "display_data"
    },
    {
     "data": {
      "text/markdown": [
       "[82. Pikesville High athletic director used AI to fake racist recording of principal, police say - Google News](https://news.google.com/articles/CBMiVmh0dHBzOi8vd3d3LmJhbHRpbW9yZXN1bi5jb20vMjAyNC8wNC8yNS9yYWNpc3QtcmVjb3JkaW5nLXBpa2VzdmlsbGUtYXRobGV0aWMtZGlyZWN0b3Iv0gEA)"
      ],
      "text/plain": [
       "<IPython.core.display.Markdown object>"
      ]
     },
     "metadata": {},
     "output_type": "display_data"
    },
    {
     "data": {
      "text/markdown": [
       "[83. AI in Education: Addressing Biases and Discrimination, Privacy & Surveillance - Google News](https://news.google.com/articles/CBMiYGh0dHBzOi8vY2R0Lm9yZy9ldmVudC9haS1pbi1lZHVjYXRpb24tYWRkcmVzc2luZy1iaWFzZXMtYW5kLWRpc2NyaW1pbmF0aW9uLXByaXZhY3ktc3VydmVpbGxhbmNlL9IBAA)"
      ],
      "text/plain": [
       "<IPython.core.display.Markdown object>"
      ]
     },
     "metadata": {},
     "output_type": "display_data"
    },
    {
     "data": {
      "text/markdown": [
       "[84. Artificial Intelligence in Schools: Privacy and Security Considerations - Google News](https://news.google.com/articles/CBMia2h0dHBzOi8vd3d3Lm5ld2FtZXJpY2Eub3JnL290aS9ibG9nL2FydGlmaWNpYWwtaW50ZWxsaWdlbmNlLWluLXNjaG9vbHMtcHJpdmFjeS1hbmQtc2VjdXJpdHktY29uc2lkZXJhdGlvbnMv0gEA)"
      ],
      "text/plain": [
       "<IPython.core.display.Markdown object>"
      ]
     },
     "metadata": {},
     "output_type": "display_data"
    },
    {
     "data": {
      "text/markdown": [
       "[85. Embedding AI into education will personalize learning - Google News](https://news.google.com/articles/CBMiWmh0dHBzOi8vd3d3LmZhc3Rjb21wYW55LmNvbS85MTExMTAwMS9lbWJlZGRpbmctYWktaW50by1lZHVjYXRpb24td2lsbC1wZXJzb25hbGl6ZS1sZWFybmluZ9IBAA)"
      ],
      "text/plain": [
       "<IPython.core.display.Markdown object>"
      ]
     },
     "metadata": {},
     "output_type": "display_data"
    },
    {
     "data": {
      "text/markdown": [
       "[86. A Bridge to Success: Using AI To Raise the Bar in Special Education - Feedly AI](https://www.3blmedia.com/news/bridge-success-using-ai-raise-bar-special-education)"
      ],
      "text/plain": [
       "<IPython.core.display.Markdown object>"
      ]
     },
     "metadata": {},
     "output_type": "display_data"
    },
    {
     "data": {
      "text/markdown": [
       "[87. How is AI being used in Colorado classrooms? - Feedly AI](https://www.cpr.org/2024/04/25/artificial-intelligence-colorado-schools/)"
      ],
      "text/plain": [
       "<IPython.core.display.Markdown object>"
      ]
     },
     "metadata": {},
     "output_type": "display_data"
    },
    {
     "data": {
      "text/markdown": [
       "[88. AI Do's and Don'ts for Teachers (Downloadable) (Opinion) - Feedly AI](https://www.edweek.org/teaching-learning/opinion-ai-dos-and-donts-for-teachers-downloadable/2024/04)"
      ],
      "text/plain": [
       "<IPython.core.display.Markdown object>"
      ]
     },
     "metadata": {},
     "output_type": "display_data"
    },
    {
     "data": {
      "text/markdown": [
       "[89. AI May Help Solve the Teacher Shortage Crisis in UK and Europe - Feedly AI](https://greekreporter.com/2024/04/25/ai-solve-teacher-shortage-crisis-uk-europe/)"
      ],
      "text/plain": [
       "<IPython.core.display.Markdown object>"
      ]
     },
     "metadata": {},
     "output_type": "display_data"
    },
    {
     "data": {
      "text/markdown": [
       "[90. Exclusive: AI startup Edia guarantees better math outcomes for school districts within one year - VentureBeat](https://venturebeat.com/ai/exclusive-ai-startup-edia-guarantees-better-math-outcomes-for-school-districts-within-one-year/)"
      ],
      "text/plain": [
       "<IPython.core.display.Markdown object>"
      ]
     },
     "metadata": {},
     "output_type": "display_data"
    },
    {
     "data": {
      "text/markdown": [
       "[91. DiagnaMed's AI Brain Health Platform Validated - TipRanks.com - Google News](https://news.google.com/articles/CBMiYWh0dHBzOi8vd3d3LnRpcHJhbmtzLmNvbS9uZXdzL2NvbXBhbnktYW5ub3VuY2VtZW50cy9kaWFnbmFtZWRzLWFpLWJyYWluLWhlYWx0aC1wbGF0Zm9ybS12YWxpZGF0ZWTSAQA)"
      ],
      "text/plain": [
       "<IPython.core.display.Markdown object>"
      ]
     },
     "metadata": {},
     "output_type": "display_data"
    },
    {
     "data": {
      "text/markdown": [
       "[92. AI-generated medical responses need monitoring, study finds - Google News](https://news.google.com/articles/CBMiZWh0dHBzOi8vd3d3LnRoZWVuZ2luZWVyLmNvLnVrL2NvbnRlbnQvbmV3cy9haS1nZW5lcmF0ZWQtbWVkaWNhbC1yZXNwb25zZXMtbmVlZC1tb25pdG9yaW5nLXN0dWR5LWZpbmRz0gEA)"
      ],
      "text/plain": [
       "<IPython.core.display.Markdown object>"
      ]
     },
     "metadata": {},
     "output_type": "display_data"
    },
    {
     "data": {
      "text/markdown": [
       "[93. Generative AI for clinical notes has limitations, new studies show - Google News](https://news.google.com/articles/CBMiW2h0dHBzOi8vd3d3LnN0YXRuZXdzLmNvbS8yMDI0LzA0LzI1L2hlYWx0aC1haS1sYXJnZS1sYW5ndWFnZS1tb2RlbHMtY2xpbmljYWwtZG9jdW1lbnRhdGlvbi_SAQA)"
      ],
      "text/plain": [
       "<IPython.core.display.Markdown object>"
      ]
     },
     "metadata": {},
     "output_type": "display_data"
    },
    {
     "data": {
      "text/markdown": [
       "[94. Risklick debuts new AI software that writes clinical trial protocols - Google News](https://news.google.com/articles/CBMiYWh0dHBzOi8vd3d3LmZpZXJjZWJpb3RlY2guY29tL2Nyby9yaXNrbGljay1kZWJ1dHMtbmV3LWFpLXNvZnR3YXJlLXdyaXRlcy1jbGluaWNhbC10cmlhbC1wcm90b2NvbHPSAQA)"
      ],
      "text/plain": [
       "<IPython.core.display.Markdown object>"
      ]
     },
     "metadata": {},
     "output_type": "display_data"
    },
    {
     "data": {
      "text/markdown": [
       "[95. The Difference Is the Data: Drug Discovery's AI Revolution - Feedly AI](https://www.genengnews.com/topics/drug-discovery/the-difference-is-the-data-drug-discoverys-ai-revolution/)"
      ],
      "text/plain": [
       "<IPython.core.display.Markdown object>"
      ]
     },
     "metadata": {},
     "output_type": "display_data"
    },
    {
     "data": {
      "text/markdown": [
       "[96. Unlock the Secrets of AI: How Rivalz Is Transforming Data Integrity Forever! - HackerNoon](https://hackernoon.com/unlock-the-secrets-of-ai-how-rivalz-is-transforming-data-integrity-forever)"
      ],
      "text/plain": [
       "<IPython.core.display.Markdown object>"
      ]
     },
     "metadata": {},
     "output_type": "display_data"
    },
    {
     "data": {
      "text/markdown": [
       "[97. Exclusive: Visa’s CIO shares insights on generative AI’s transformative potential in payments industry - Feedly AI](https://venturebeat.com/ai/exclusive-visas-cio-shares-insights-on-generative-ais-transformative-potential-in-payments-industry/)"
      ],
      "text/plain": [
       "<IPython.core.display.Markdown object>"
      ]
     },
     "metadata": {},
     "output_type": "display_data"
    },
    {
     "data": {
      "text/markdown": [
       "[98. How Hitachi Digital Services is helping companies adopt AI models responsibly to meet their operational and financial goals - Business Insider](https://www.businessinsider.com/sc/how-companies-can-use-ai-to-meet-their-operational-and-financial-goals)"
      ],
      "text/plain": [
       "<IPython.core.display.Markdown object>"
      ]
     },
     "metadata": {},
     "output_type": "display_data"
    },
    {
     "data": {
      "text/markdown": [
       "[99. Microsoft highlights Copilot capabilities as it pushes organisations to adopt AI technologies - Google News](https://news.google.com/articles/CBMimAFodHRwczovL3d3dy5tb25leWNvbnRyb2wuY29tL25ld3MvdGVjaG5vbG9neS9taWNyb3NvZnQtaGlnaGxpZ2h0cy1jb3BpbG90LWNhcGFiaWxpdGllcy1hcy1pdC1wdXNoZXMtb3JnYW5pc2F0aW9ucy10by1hZG9wdC1haS10ZWNobm9sb2dpZXMtMTI3MDgzNjEuaHRtbNIBnAFodHRwczovL3d3dy5tb25leWNvbnRyb2wuY29tL25ld3MvdGVjaG5vbG9neS9taWNyb3NvZnQtaGlnaGxpZ2h0cy1jb3BpbG90LWNhcGFiaWxpdGllcy1hcy1pdC1wdXNoZXMtb3JnYW5pc2F0aW9ucy10by1hZG9wdC1haS10ZWNobm9sb2dpZXMtMTI3MDgzNjEuaHRtbC9hbXA)"
      ],
      "text/plain": [
       "<IPython.core.display.Markdown object>"
      ]
     },
     "metadata": {},
     "output_type": "display_data"
    },
    {
     "data": {
      "text/markdown": [
       "[100. Samsung and Google tease new AI features - Google News](https://news.google.com/articles/CBMiRGh0dHBzOi8vd3d3LnNhbW1vYmlsZS5jb20vbmV3cy9zYW1zdW5nLWdvb2dsZS10ZWFzZS1uZXctYWktZmVhdHVyZXMv0gEA)"
      ],
      "text/plain": [
       "<IPython.core.display.Markdown object>"
      ]
     },
     "metadata": {},
     "output_type": "display_data"
    },
    {
     "data": {
      "text/markdown": [
       "[101. Samsung and Google tease “exciting things” for AI on Android and Galaxy hardware. - The Verge](https://www.theverge.com/2024/4/25/24140141/samsung-and-google-promise-theyre-not-breaking-up)"
      ],
      "text/plain": [
       "<IPython.core.display.Markdown object>"
      ]
     },
     "metadata": {},
     "output_type": "display_data"
    },
    {
     "data": {
      "text/markdown": [
       "[102. The Galaxy S25 could get a major AI upgrade from Google - Google News](https://news.google.com/articles/CBMiWmh0dHBzOi8vd3d3LmFuZHJvaWRjZW50cmFsLmNvbS9hcHBzLXNvZnR3YXJlL2dvb2dsZS1nZW1pbmktbmFuby12Mi1nYWxheHktczI1LXJlcG9ydC1jbGFpbdIBAA)"
      ],
      "text/plain": [
       "<IPython.core.display.Markdown object>"
      ]
     },
     "metadata": {},
     "output_type": "display_data"
    },
    {
     "data": {
      "text/markdown": [
       "[103. One UI 6.1.1 could be focused on video AI innovation - Google News](https://news.google.com/articles/CBMiVGh0dHBzOi8vd3d3LnNhbW1vYmlsZS5jb20vbmV3cy9vbmUtdWktNi0xLTEtY291bGQtYmUtZm9jdXNlZC1vbi12aWRlby1haS1pbm5vdmF0aW9uL9IBAA)"
      ],
      "text/plain": [
       "<IPython.core.display.Markdown object>"
      ]
     },
     "metadata": {},
     "output_type": "display_data"
    },
    {
     "data": {
      "text/markdown": [
       "[104. Adobe's next big project is an AI that can upscale low-res video to 8x its original quality - Google News](https://news.google.com/articles/CBMilgFodHRwczovL3d3dy50ZWNocmFkYXIuY29tL2NvbXB1dGluZy9hcnRpZmljaWFsLWludGVsbGlnZW5jZS9hZG9iZXMtbmV4dC1iaWctcHJvamVjdC1pcy1hbi1haS10aGF0LWNhbi11cHNjYWxlLWxvdy1yZXMtdmlkZW8tdG8tOHgtaXRzLW9yaWdpbmFsLXF1YWxpdHnSAQA)"
      ],
      "text/plain": [
       "<IPython.core.display.Markdown object>"
      ]
     },
     "metadata": {},
     "output_type": "display_data"
    },
    {
     "data": {
      "text/markdown": [
       "[105. Adobe’s impressive AI upscaling project makes blurry videos look HD - The Verge](https://www.theverge.com/2024/4/24/24138979/adobe-videogigagan-ai-video-upscaling-project-blurry-hd)"
      ],
      "text/plain": [
       "<IPython.core.display.Markdown object>"
      ]
     },
     "metadata": {},
     "output_type": "display_data"
    },
    {
     "data": {
      "text/markdown": [
       "[106. DeepL Write: New AI Editor Improves Content Quality - Google News](https://news.google.com/articles/CBMiO2h0dHBzOi8vd3d3LnNlYXJjaGVuZ2luZWpvdXJuYWwuY29tL2RlZXBsLXdyaXRlLXByby81MTQ3NjUv0gEA)"
      ],
      "text/plain": [
       "<IPython.core.display.Markdown object>"
      ]
     },
     "metadata": {},
     "output_type": "display_data"
    },
    {
     "data": {
      "text/markdown": [
       "[107. These AI avatars now come with human-like expressions - Google News](https://news.google.com/articles/CBMiVGh0dHBzOi8vd3d3LnpkbmV0LmNvbS9hcnRpY2xlL3RoZXNlLWFpLWF2YXRhcnMtbm93LWNvbWUtd2l0aC1odW1hbi1saWtlLWV4cHJlc3Npb25zL9IBAA)"
      ],
      "text/plain": [
       "<IPython.core.display.Markdown object>"
      ]
     },
     "metadata": {},
     "output_type": "display_data"
    },
    {
     "data": {
      "text/markdown": [
       "[108. This AI Camera Can Create Deepfake Images of People By Removing Their Clothing: How Scary is NUCA? - Feedly AI](https://www.techtimes.com/articles/303996/20240425/ai-camera-create-deepfake-images-people-removing-clothing-scary-nuca.htm)"
      ],
      "text/plain": [
       "<IPython.core.display.Markdown object>"
      ]
     },
     "metadata": {},
     "output_type": "display_data"
    },
    {
     "data": {
      "text/markdown": [
       "[109. The AI camera stripping away privacy in the blink of an eye - Google News](https://news.google.com/articles/CBMiUWh0dHBzOi8vd3d3LmZveG5ld3MuY29tL3RlY2gvdGhlLWFpLWNhbWVyYS1zdHJpcHBpbmctYXdheS1wcml2YWN5LWluLWJsaW5rLW9mLWV5ZdIBVWh0dHBzOi8vd3d3LmZveG5ld3MuY29tL3RlY2gvdGhlLWFpLWNhbWVyYS1zdHJpcHBpbmctYXdheS1wcml2YWN5LWluLWJsaW5rLW9mLWV5ZS5hbXA)"
      ],
      "text/plain": [
       "<IPython.core.display.Markdown object>"
      ]
     },
     "metadata": {},
     "output_type": "display_data"
    },
    {
     "data": {
      "text/markdown": [
       "[110. What is undress AI? Now apps can 'remove clothes', we ask an online safety expert what is being done to keep children safe - Google News](https://news.google.com/articles/CBMiVGh0dHBzOi8vd3d3Lmdvb2R0by5jb20vZmFtaWx5L3doYXQtaXMtdW5kcmVzcy1haS1hcHBzLXdpdGgtYWJpbGl0eS10by1yZW1vdmUtY2xvdGhlc9IBAA)"
      ],
      "text/plain": [
       "<IPython.core.display.Markdown object>"
      ]
     },
     "metadata": {},
     "output_type": "display_data"
    },
    {
     "data": {
      "text/markdown": [
       "[111. AI Policy Can't Ignore Climate Change: We Need Net Zero AI Emissions - Feedly AI](https://www.ipsnews.net/2024/04/ai-policy-cant-ignore-climate-change-need-net-zero-ai-emissions/)"
      ],
      "text/plain": [
       "<IPython.core.display.Markdown object>"
      ]
     },
     "metadata": {},
     "output_type": "display_data"
    },
    {
     "data": {
      "text/markdown": [
       "[112. Artificial intelligence boosts plant engineering to tackle climate change - Google News](https://news.google.com/articles/CBMiMWh0dHBzOi8vd3d3LnR1cmtpeWVuZXdzcGFwZXIuY29tL3RlY2hub2xvZ3kvMjIyNjfSATVodHRwczovL3d3dy50dXJraXllbmV3c3BhcGVyLmNvbS9hbXAvdGVjaG5vbG9neS8yMjI2Nw)"
      ],
      "text/plain": [
       "<IPython.core.display.Markdown object>"
      ]
     },
     "metadata": {},
     "output_type": "display_data"
    },
    {
     "data": {
      "text/markdown": [
       "[113. OpenCRISPR-1: World's first open-source AI scissor edits human genes Interesting Engineering - Google News](https://news.google.com/articles/CBMiTmh0dHBzOi8vaW50ZXJlc3RpbmdlbmdpbmVlcmluZy5jb20vaW5ub3ZhdGlvbi93b3JsZC1maXJzdC1haS1lZGl0cy1odW1hbi1nZW5lc9IBAA)"
      ],
      "text/plain": [
       "<IPython.core.display.Markdown object>"
      ]
     },
     "metadata": {},
     "output_type": "display_data"
    },
    {
     "data": {
      "text/markdown": [
       "[114. Meta's License to Spend on AI Gets Checked - Google News](https://news.google.com/articles/CBMiTmh0dHBzOi8vd3d3Lndzai5jb20vdGVjaC9haS9tZXRhcy1saWNlbnNlLXRvLXNwZW5kLW9uLWFpLWdldHMtY2hlY2tlZC1kZDMxYmEyYdIBAA)"
      ],
      "text/plain": [
       "<IPython.core.display.Markdown object>"
      ]
     },
     "metadata": {},
     "output_type": "display_data"
    },
    {
     "data": {
      "text/markdown": [
       "[115. Meta’s gamble on chatbots opens new wave of tech competition - FT Tech](https://www.ft.com/content/cca676aa-4502-4844-8274-5ae040b506f7)"
      ],
      "text/plain": [
       "<IPython.core.display.Markdown object>"
      ]
     },
     "metadata": {},
     "output_type": "display_data"
    },
    {
     "data": {
      "text/markdown": [
       "[116. I used Meta AI on WhatsApp and it instantly became my ultimate digital sidekick! - Google News](https://news.google.com/articles/CBMilAFodHRwczovL3d3dy5idXNpbmVzc3RvZGF5LmluL3RlY2hub2xvZ3kvbmV3cy9zdG9yeS9pLXVzZWQtbWV0YS1haS1vbi13aGF0c2FwcC1hbmQtaXQtaW5zdGFudGx5LWJlY2FtZS1teS11bHRpbWF0ZS1kaWdpdGFsLXNpZGVraWNrLTQyNjk3Mi0yMDI0LTA0LTI10gEA)"
      ],
      "text/plain": [
       "<IPython.core.display.Markdown object>"
      ]
     },
     "metadata": {},
     "output_type": "display_data"
    },
    {
     "data": {
      "text/markdown": [
       "[117. AikBeng Chia — Recreating vivid scenes from 1970s Singapore with the help of AI - Feedly AI](https://wepresent.wetransfer.com/stories/aikbeng-chia-return-to-bugis-street-ai)"
      ],
      "text/plain": [
       "<IPython.core.display.Markdown object>"
      ]
     },
     "metadata": {},
     "output_type": "display_data"
    },
    {
     "data": {
      "text/markdown": [
       "[118. Creating Your AI Persona with VASA-1 and Spheria - HackerNoon](https://hackernoon.com/creating-your-ai-persona-with-vasa-1-and-spheria)"
      ],
      "text/plain": [
       "<IPython.core.display.Markdown object>"
      ]
     },
     "metadata": {},
     "output_type": "display_data"
    },
    {
     "data": {
      "text/markdown": [
       "[119. SPONSOREDCurbing shadow AI with calculated generative AI deployment - VentureBeat](https://venturebeat.com/ai/curbing-shadow-ai-with-calculated-generative-ai-deployment/)"
      ],
      "text/plain": [
       "<IPython.core.display.Markdown object>"
      ]
     },
     "metadata": {},
     "output_type": "display_data"
    },
    {
     "data": {
      "text/markdown": [
       "[120. The Landscape of Emerging AI Agent Architectures for Reasoning, Planning, and Tool Calling: A… - Feedly AI](https://towardsdatascience.com/the-landscape-of-emerging-ai-agent-architectures-for-reasoning-planning-and-tool-calling-a-a95214b743c1)"
      ],
      "text/plain": [
       "<IPython.core.display.Markdown object>"
      ]
     },
     "metadata": {},
     "output_type": "display_data"
    },
    {
     "data": {
      "text/markdown": [
       "[121. JP Morgan AI Research Introduces FlowMind: A Novel Machine Learning Approach that Leverages the Capabilities of LLMs such as GPT to Create an Automatic Workflow Generation System - Google News](https://news.google.com/articles/CBMi2gFodHRwczovL3d3dy5tYXJrdGVjaHBvc3QuY29tLzIwMjQvMDQvMjQvanAtbW9yZ2FuLWFpLXJlc2VhcmNoLWludHJvZHVjZXMtZmxvd21pbmQtYS1ub3ZlbC1tYWNoaW5lLWxlYXJuaW5nLWFwcHJvYWNoLXRoYXQtbGV2ZXJhZ2VzLXRoZS1jYXBhYmlsaXRpZXMtb2YtbGxtcy1zdWNoLWFzLWdwdC10by1jcmVhdGUtYW4tYXV0b21hdGljLXdvcmtmbG93LWdlbmVyYXRpb24tc3lzdGVtL9IB3gFodHRwczovL3d3dy5tYXJrdGVjaHBvc3QuY29tLzIwMjQvMDQvMjQvanAtbW9yZ2FuLWFpLXJlc2VhcmNoLWludHJvZHVjZXMtZmxvd21pbmQtYS1ub3ZlbC1tYWNoaW5lLWxlYXJuaW5nLWFwcHJvYWNoLXRoYXQtbGV2ZXJhZ2VzLXRoZS1jYXBhYmlsaXRpZXMtb2YtbGxtcy1zdWNoLWFzLWdwdC10by1jcmVhdGUtYW4tYXV0b21hdGljLXdvcmtmbG93LWdlbmVyYXRpb24tc3lzdGVtLz9hbXA)"
      ],
      "text/plain": [
       "<IPython.core.display.Markdown object>"
      ]
     },
     "metadata": {},
     "output_type": "display_data"
    },
    {
     "data": {
      "text/markdown": [
       "[122. Leveraging LLMs for Generation of Unusual Text Inputs in Mobile App Tests: Approach - HackerNoon](https://hackernoon.com/leveraging-llms-for-generation-of-unusual-text-inputs-in-mobile-app-tests-approach)"
      ],
      "text/plain": [
       "<IPython.core.display.Markdown object>"
      ]
     },
     "metadata": {},
     "output_type": "display_data"
    },
    {
     "data": {
      "text/markdown": [
       "[123. Leveraging LLMs for Generation of Unusual Text Inputs in Mobile App Tests: Experiment Design - HackerNoon](https://hackernoon.com/leveraging-llms-for-generation-of-unusual-text-inputs-in-mobile-app-tests-experiment-design)"
      ],
      "text/plain": [
       "<IPython.core.display.Markdown object>"
      ]
     },
     "metadata": {},
     "output_type": "display_data"
    },
    {
     "data": {
      "text/markdown": [
       "[124. OpenAI’s rules can be ‘easily’ dodged to target Latinos, study warns - WaPo Tech](https://www.washingtonpost.com/politics/2024/04/25/openais-rules-can-be-easily-dodged-target-latinos-study-warns/)"
      ],
      "text/plain": [
       "<IPython.core.display.Markdown object>"
      ]
     },
     "metadata": {},
     "output_type": "display_data"
    },
    {
     "data": {
      "text/markdown": [
       "[125. Decentralized AI is key to more unbiased AI algorithms — Masa co-founder - Google News](https://news.google.com/articles/CBMiT2h0dHBzOi8vY29pbnRlbGVncmFwaC5jb20vbmV3cy9kZWNlbnRyYWxpemVkLWFpLWtleS11bmJpYXNlZC1haS1hbGdvcml0aG1zLW1hc2HSAQA)"
      ],
      "text/plain": [
       "<IPython.core.display.Markdown object>"
      ]
     },
     "metadata": {},
     "output_type": "display_data"
    },
    {
     "data": {
      "text/markdown": [
       "[126. Inside the China-US Competition for AI Experts - Feedly AI](https://www.bloomberg.com/news/articles/2024-04-25/inside-the-china-us-competition-for-ai-experts)"
      ],
      "text/plain": [
       "<IPython.core.display.Markdown object>"
      ]
     },
     "metadata": {},
     "output_type": "display_data"
    },
    {
     "data": {
      "text/markdown": [
       "[127. G42 Allies With US Over China in Global AI Conflict - Google News](https://news.google.com/articles/CBMiZmh0dHBzOi8vd3d3LmJsb29tYmVyZy5jb20vbmV3cy9hcnRpY2xlcy8yMDI0LTA0LTI1L2c0Mi1hbGxpZXMtd2l0aC11cy1vdmVyLWNoaW5hLWluLWdsb2JhbC1haS1jb25mbGljdNIBAA)"
      ],
      "text/plain": [
       "<IPython.core.display.Markdown object>"
      ]
     },
     "metadata": {},
     "output_type": "display_data"
    },
    {
     "data": {
      "text/markdown": [
       "[128. The AI-Fed Catch 22: Tango of Technology and Policy - Feedly AI](https://www.advisorperspectives.com/commentaries/2024/04/25/ai-fed-catch-22-technology-and-policy)"
      ],
      "text/plain": [
       "<IPython.core.display.Markdown object>"
      ]
     },
     "metadata": {},
     "output_type": "display_data"
    },
    {
     "data": {
      "text/markdown": [
       "[129. Outer Edge Summit in Riyadh explores AI, digital futures - Google News](https://news.google.com/articles/CBMiMmh0dHBzOi8vd3d3LmFyYWJuZXdzLmNvbS9ub2RlLzI0OTgxNzEvc2F1ZGktYXJhYmlh0gEA)"
      ],
      "text/plain": [
       "<IPython.core.display.Markdown object>"
      ]
     },
     "metadata": {},
     "output_type": "display_data"
    },
    {
     "data": {
      "text/markdown": [
       "[130. Cisco CEO meets Pope Francis, signs AI ethics pledge at Vatican - Feedly AI](https://cbcpnews.net/cbcpnews/cisco-ceo-meets-pope-francis-signs-ai-ethics-pledge-at-vatican/)"
      ],
      "text/plain": [
       "<IPython.core.display.Markdown object>"
      ]
     },
     "metadata": {},
     "output_type": "display_data"
    },
    {
     "data": {
      "text/markdown": [
       "[131. AI robot will give commencement speech at Upstate NY college - Feedly AI](https://www.newyorkupstate.com/news/2024/04/ai-robot-will-give-commencement-speech-at-upstate-ny-college.html)"
      ],
      "text/plain": [
       "<IPython.core.display.Markdown object>"
      ]
     },
     "metadata": {},
     "output_type": "display_data"
    },
    {
     "data": {
      "text/markdown": [
       "[132. ‘Not just a job': Neurodiverse find careers in AI tech at Northern Virginia company - Google News](https://news.google.com/articles/CBMikAFodHRwczovL3d3dy5uYmN3YXNoaW5ndG9uLmNvbS9uZXdzL2xvY2FsL2l0cy1ub3QtanVzdC1hLWpvYi1uZXVyb2RpdmVyc2UtZmluZC1jYXJlZXItcGF0aC1pbi1haS10ZWNobm9sb2d5LWF0LW5vcnRoZXJuLXZpcmdpbmlhLWNvbXBhbnkvMzYwMDE4Ni_SAZYBaHR0cHM6Ly93d3cubmJjd2FzaGluZ3Rvbi5jb20vbmV3cy9sb2NhbC9pdHMtbm90LWp1c3QtYS1qb2ItbmV1cm9kaXZlcnNlLWZpbmQtY2FyZWVyLXBhdGgtaW4tYWktdGVjaG5vbG9neS1hdC1ub3J0aGVybi12aXJnaW5pYS1jb21wYW55LzM2MDAxODYvP2FtcD0x)"
      ],
      "text/plain": [
       "<IPython.core.display.Markdown object>"
      ]
     },
     "metadata": {},
     "output_type": "display_data"
    },
    {
     "data": {
      "text/markdown": [
       "[133. AI to doctors: Beat that! - VUMC News - Google News](https://news.google.com/articles/CBMiOWh0dHBzOi8vbmV3cy52dW1jLm9yZy8yMDI0LzA0LzIyL2FpLXRvLWRvY3RvcnMtYmVhdC10aGF0L9IBAA)"
      ],
      "text/plain": [
       "<IPython.core.display.Markdown object>"
      ]
     },
     "metadata": {},
     "output_type": "display_data"
    },
    {
     "data": {
      "text/markdown": [
       "[134. Exo adds FDA-cleared AI tools to handheld ultrasound system - Feedly AI](https://www.medtechdive.com/news/exo-ai-tools-handheld-ultrasound-system/714245/)"
      ],
      "text/plain": [
       "<IPython.core.display.Markdown object>"
      ]
     },
     "metadata": {},
     "output_type": "display_data"
    },
    {
     "data": {
      "text/markdown": [
       "[135. Microsoft launches Phi-3 Mini, a tiny AI model that packs a punch - Google News](https://news.google.com/articles/CBMiUWh0dHBzOi8vbWFzaGFibGUuY29tL2FydGljbGUvbWljcm9zb2Z0LWxhdW5jaGVzLXBoaS0zLW1pbmktdGlueS1wb3dlcmZ1bC1haS1tb2RlbNIBAA)"
      ],
      "text/plain": [
       "<IPython.core.display.Markdown object>"
      ]
     },
     "metadata": {},
     "output_type": "display_data"
    },
    {
     "data": {
      "text/markdown": [
       "[136. Metro Installs AI Cameras - Los Angeles - Google News](https://news.google.com/articles/CBMiZ2h0dHBzOi8vbGFpc3QuY29tL2JyaWVmL25ld3MvdHJhbnNwb3J0YXRpb24vbWV0cm8tYWktcG93ZXJlZC1jYW1lcmFzLXRpY2tldC1kcml2ZXJzLXBhcmtlZC1pbi1idXMtbGFuZXPSAQA)"
      ],
      "text/plain": [
       "<IPython.core.display.Markdown object>"
      ]
     },
     "metadata": {},
     "output_type": "display_data"
    },
    {
     "data": {
      "text/markdown": [
       "[137. Metro installing AI-powered cameras on buses to issue tickets to illegally parked vehicles - Google News](https://news.google.com/articles/CBMicmh0dHBzOi8vYWJjNy5jb20vbWV0cm8taW5zdGFsbGluZy1haS1wb3dlcmVkLWNhbWVyYXMtb24tYnVzZXMtdG8taXNzdWUtdGlja2V0cy1pbGxlZ2FsbHktcGFya2VkLXZlaGljbGVzLzE0NzMyNjc0L9IBdmh0dHBzOi8vYWJjNy5jb20vYW1wL21ldHJvLWluc3RhbGxpbmctYWktcG93ZXJlZC1jYW1lcmFzLW9uLWJ1c2VzLXRvLWlzc3VlLXRpY2tldHMtaWxsZWdhbGx5LXBhcmtlZC12ZWhpY2xlcy8xNDczMjY3NC8)"
      ],
      "text/plain": [
       "<IPython.core.display.Markdown object>"
      ]
     },
     "metadata": {},
     "output_type": "display_data"
    },
    {
     "data": {
      "text/markdown": [
       "[138. Creepy AI-Generated Film Trailers 'Shot on Super Panavision 70' are Everywhere - Feedly AI](https://petapixel.com/2024/04/25/creepy-ai-generated-film-trailers-shot-on-super-panavision-70-are-everywhere/)"
      ],
      "text/plain": [
       "<IPython.core.display.Markdown object>"
      ]
     },
     "metadata": {},
     "output_type": "display_data"
    },
    {
     "data": {
      "text/markdown": [
       "[139. DARPA's latest toy is a 20-foot, 12-ton tank that drives itselfCrew entirely optionalOffbeat3 hrs|11 - The Register](https://www.theregister.com/2024/04/25/darpa_autonomous_tank/)"
      ],
      "text/plain": [
       "<IPython.core.display.Markdown object>"
      ]
     },
     "metadata": {},
     "output_type": "display_data"
    },
    {
     "data": {
      "text/markdown": [
       "[140. Ukraine Is Riddled With Land Mines. Drones and AI Can Help - Feedly AI](https://spectrum.ieee.org/ukraine-drones)"
      ],
      "text/plain": [
       "<IPython.core.display.Markdown object>"
      ]
     },
     "metadata": {},
     "output_type": "display_data"
    },
    {
     "data": {
      "text/markdown": [
       "[141. How AI and EVs are boosting demand for copper - Google News](https://news.google.com/articles/CBMiWGh0dHBzOi8vd3d3Lm1hcmtldHdhdGNoLmNvbS9zdG9yeS9ob3ctYWktYW5kLWV2cy1hcmUtYm9vc3RpbmctZGVtYW5kLWZvci1jb3BwZXItZmQ5ZWM1ZGLSAQA)"
      ],
      "text/plain": [
       "<IPython.core.display.Markdown object>"
      ]
     },
     "metadata": {},
     "output_type": "display_data"
    },
    {
     "data": {
      "text/markdown": [
       "[142. AI-washing: The next big concern in fund selection? - Google News](https://news.google.com/articles/CBMiXWh0dHBzOi8vY2l0eXdpcmUuY29tL3NlbGVjdG9yL25ld3MvYWktd2FzaGluZy10aGUtbmV4dC1iaWctY29uY2Vybi1pbi1mdW5kLXNlbGVjdGlvbi9hMjQ0MDU0NtIBAA)"
      ],
      "text/plain": [
       "<IPython.core.display.Markdown object>"
      ]
     },
     "metadata": {},
     "output_type": "display_data"
    },
    {
     "data": {
      "text/markdown": [
       "[143. Windows 11 will reportedly display a watermark if your PC does not support AI requirements - Feedly AI](https://www.tomshardware.com/software/operating-systems/windows-11-will-reportedly-display-a-watermark-if-your-pc-does-not-support-ai-requirements)"
      ],
      "text/plain": [
       "<IPython.core.display.Markdown object>"
      ]
     },
     "metadata": {},
     "output_type": "display_data"
    },
    {
     "data": {
      "text/markdown": [
       "[144. It's not only AI that hallucinates - Artificial intelligence - Google News](https://news.google.com/articles/CBMiP2h0dHBzOi8vd3d3LmZ0LmNvbS9jb250ZW50Lzc0MWY5MDVjLThhYTctNGY3Mi1hN2Y1LTdhZmMxOTM2NmU0M9IBAA)"
      ],
      "text/plain": [
       "<IPython.core.display.Markdown object>"
      ]
     },
     "metadata": {},
     "output_type": "display_data"
    },
    {
     "data": {
      "text/markdown": [
       "[145. Chatbot answers are all made up. This new tool helps you figure out which ones to trust. - Feedly AI](https://www.technologyreview.com/2024/04/25/1091835/chatbot-hallucination-new-tool-trustworthy-language-model/)"
      ],
      "text/plain": [
       "<IPython.core.display.Markdown object>"
      ]
     },
     "metadata": {},
     "output_type": "display_data"
    },
    {
     "data": {
      "text/markdown": [
       "[146. ChatGPT-4 not reliable in cancer patient messaging - Google News](https://news.google.com/articles/CBMiiAFodHRwczovL3d3dy5hdW50bWlubmllLmNvbS9pbWFnaW5nLWluZm9ybWF0aWNzL2FkdmFuY2VkLXZpc3VhbGl6YXRpb24vYXJ0aWNsZS8xNTY2OTM3MS9jaGF0Z3B0NC1ub3QtcmVsaWFibGUtaW4tY2FuY2VyLXBhdGllbnQtbWVzc2FnaW5n0gEA)"
      ],
      "text/plain": [
       "<IPython.core.display.Markdown object>"
      ]
     },
     "metadata": {},
     "output_type": "display_data"
    },
    {
     "data": {
      "text/markdown": [
       "[147. Moderna Employees Should Use ChatGPT at Least 20 Times a Day, CEO Says - Feedly AI](https://gizmodo.com/moderna-ceo-chatgpt-employees-vaccines-openai-1851435620)"
      ],
      "text/plain": [
       "<IPython.core.display.Markdown object>"
      ]
     },
     "metadata": {},
     "output_type": "display_data"
    },
    {
     "data": {
      "text/markdown": [
       "[148. Building an AI-Powered Summarizer using NodeJS and ApyHub API To Make Meetings Easy - HackerNoon](https://hackernoon.com/building-an-ai-powered-meeting-transcript-summarizer-using-nodejs-and-ai-api)"
      ],
      "text/plain": [
       "<IPython.core.display.Markdown object>"
      ]
     },
     "metadata": {},
     "output_type": "display_data"
    },
    {
     "data": {
      "text/markdown": [
       "[149. AI- and Blood-Powered Gym Opens in New York: Continuum Club - Google News](https://news.google.com/articles/CBMiUWh0dHBzOi8vd3d3LmN1cmJlZC5jb20vYXJ0aWNsZS9jb250aW51dW0tY2x1Yi1ncmVlbndpY2gtdmlsbGFnZS1neW0tYWktYmxvb2QuaHRtbNIBAA)"
      ],
      "text/plain": [
       "<IPython.core.display.Markdown object>"
      ]
     },
     "metadata": {},
     "output_type": "display_data"
    },
    {
     "data": {
      "text/markdown": [
       "[150. Writers Guild of Canada Overwhelmingly Votes to Authorize Strike Over AI, Fair Pay - Google News](https://news.google.com/articles/CBMidmh0dHBzOi8vd3d3LmhvbGx5d29vZHJlcG9ydGVyLmNvbS9idXNpbmVzcy9idXNpbmVzcy1uZXdzL3dyaXRlcnMtZ3VpbGQtb2YtY2FuYWRhLXZvdGVzLXRvLWF1dGhvcml6ZS1zdHJpa2UtMTIzNTg4MTI0NS_SAXpodHRwczovL3d3dy5ob2xseXdvb2RyZXBvcnRlci5jb20vYnVzaW5lc3MvYnVzaW5lc3MtbmV3cy93cml0ZXJzLWd1aWxkLW9mLWNhbmFkYS12b3Rlcy10by1hdXRob3JpemUtc3RyaWtlLTEyMzU4ODEyNDUvYW1wLw)"
      ],
      "text/plain": [
       "<IPython.core.display.Markdown object>"
      ]
     },
     "metadata": {},
     "output_type": "display_data"
    },
    {
     "data": {
      "text/markdown": [
       "[151. Plato's burial place finally revealed after AI deciphers ancient scroll carbonized in Mount Vesuvius eruption - Feedly AI](https://www.livescience.com/archaeology/romans/platos-burial-place-finally-revealed-after-ai-deciphers-ancient-scroll-carbonized-in-mount-vesuvius-eruption)"
      ],
      "text/plain": [
       "<IPython.core.display.Markdown object>"
      ]
     },
     "metadata": {},
     "output_type": "display_data"
    }
   ],
   "source": [
    "html_str = \"\"\n",
    "for i, j in enumerate(sorted_indices):\n",
    "    row = AIdf.iloc[j]\n",
    "    html_str += f'{i}.<a href=\"{row.url}\">{row.title} - {row.src}</a><br />\\n'\n",
    "    display_title = row.title.replace(\"$\", \"\\\\\\$\")  # so it doesn't interpret as latex escape\n",
    "    display(Markdown(f\"[{i}. {display_title} - {row.src}]({row.url})\"))\n",
    "    "
   ]
  },
  {
   "cell_type": "code",
   "execution_count": 47,
   "id": "258a91f5",
   "metadata": {},
   "outputs": [
    {
     "name": "stdout",
     "output_type": "stream",
     "text": [
      "0.<a href=\"https://news.google.com/articles/CBMiZmh0dHBzOi8vd3d3Lndsd3QuY29tL2FydGljbGUvbWV0YS1haS1mYWNlYm9vay1pbnN0YWdyYW0tY2luY2lubmF0aS1jaGlsaS1yZWNpcGUtY3liZXJzZWN1cml0eS82MDYwMjI4OdIBAA\">'Ask Meta AI anything': Putting Facebook's new AI to the test with a Cincinnati chili recipe - Google News</a><br />\n",
      "1.<a href=\"https://www.businessinsider.com/meta-ai-on-instagram-whatsapp-facebook-cant-turn-off-2024-4\">Meta's AI is now in your Instagram and Facebook. Here's what it does — and whether you can turn it off - Business Insider</a><br />\n",
      "2.<a href=\"https://www.actionnewsjax.com/news/trending/meta-adds-ai-tool-facebook-instagram-whatsapp-messenger-can-you-turn-it-off/LUUEUGST5RBDDOJDJLY4VX5VJU/\">Meta adds AI tool to Facebook, Instagram, WhatsApp, Messenger; can you turn it off? - Feedly AI</a><br />\n",
      "3.<a href=\"https://news.google.com/articles/CBMic2h0dHBzOi8vd3d3LnpkbmV0LmNvbS9hcnRpY2xlL2ZhY2Vib29rcy1tZXRhLWFpLWlzLWx5aW5nLXdoZW4taXQtc2F5cy15b3UtY2FuLWRpc2FibGUtaXQtYnV0LWhlcmVzLXdoYXQteW91LWNhbi1kby_SAQA\">Facebook's Meta AI is lying when it says you can disable it - but here's what you can do - Google News</a><br />\n",
      "4.<a href=\"https://www.theregister.com/2024/04/25/facebooks_value_plummets_as_zuckerberg/\">Meta's value plummets as Zuckerberg admits AI needs more time and moneyRevenues up, but is the AI hype bubble is threatening to burst?AI + ML5 hrs|11 - The Register</a><br />\n",
      "5.<a href=\"https://news.google.com/articles/CBMiVGh0dHBzOi8vd3d3LnRoZXZlcmdlLmNvbS8yMDI0LzQvMjQvMjQxMzk1OTEvbWV0YS1xMS0yMDI0LWVhcm5pbmdzLWFpLW1hcmstenVja2VyYmVyZ9IBAA\">Zuckerberg says it will take Meta years to make money from generative AI - Google News</a><br />\n",
      "6.<a href=\"https://blog.google/technology/ai/a-new-report-explores-the-economic-impact-of-generative-ai/\">A new report explores the economic impact of generative AI - Feedly AI</a><br />\n",
      "7.<a href=\"https://news.google.com/articles/CBMiXWh0dHBzOi8vYmxvZy5nb29nbGUvdGVjaG5vbG9neS9haS9hLW5ldy1yZXBvcnQtZXhwbG9yZXMtdGhlLWVjb25vbWljLWltcGFjdC1vZi1nZW5lcmF0aXZlLWFpL9IBAA\">New research on generative AI and the economy - Google News</a><br />\n",
      "8.<a href=\"https://hackernoon.com/generative-ai-in-2024-navigating-the-evolution-from-hype-to-transformation\">Generative AI in 2024: Navigating the Evolution from Hype to Transformation - HackerNoon</a><br />\n",
      "9.<a href=\"https://news.google.com/articles/CBMiX2h0dHBzOi8vd3d3LnRlY2hyYWRhci5jb20vcHJvL3doYXQtaXQtdGFrZXMtdG8tbWFrZS1haS1yZXNwb25zaWJsZS1pbi1hbi1lcmEtb2YtYWR2YW5jZWQtbW9kZWxz0gEA\">What it takes to make AI responsible in an era of advanced models - Google News</a><br />\n",
      "10.<a href=\"https://news.google.com/articles/CBMiSWh0dHBzOi8vd3d3LmNqci5vcmcvdG93X2NlbnRlci9vcC1lZC1haXMtbW9zdC1wcmVzc2luZy1ldGhpY3MtcHJvYmxlbS5waHDSAQA\">Op-Ed: AI's Most Pressing Ethics Problem - Google News</a><br />\n",
      "11.<a href=\"https://news.google.com/articles/CBMiN2h0dHBzOi8vdGltZS5jb20vNjk2ODgxMi90aW1lMTAwLWFpLWV0aGljYWwtaW5ub3ZhdGlvbi_SAQA\">Ethical A.I. and Innovation Are 'Two Sides of the Same Coin' - Google News</a><br />\n",
      "12.<a href=\"https://news.google.com/articles/CBMid2h0dHBzOi8vd3d3LmZvcmJlcy5jb20vc2l0ZXMvYmVybmFyZG1hcnIvMjAyNC8wNC8yNS9zcG90dGluZy1haS13YXNoaW5nLWhvdy1jb21wYW5pZXMtb3Zlcmh5cGUtYXJ0aWZpY2lhbC1pbnRlbGxpZ2VuY2Uv0gEA\">Spotting AI Washing: How Companies Overhype Artificial Intelligence - Google News</a><br />\n",
      "13.<a href=\"https://news.google.com/articles/CBMingFodHRwczovL3d3dy53aWxtZXJoYWxlLmNvbS9lbi9pbnNpZ2h0cy9ibG9ncy9rZWVwaW5nLWN1cnJlbnQtZGlzY2xvc3VyZS1hbmQtZ292ZXJuYW5jZS1kZXZlbG9wbWVudHMvMjAyNDA0MjQtc2VjLWVuZm9yY2VtZW50LWRpcmVjdG9yLXdhcm5zLWFnYWluc3QtYWktd2FzaGluZ9IBAA\">SEC Enforcement Director Warns Against AI Washing - Google News</a><br />\n",
      "14.<a href=\"https://news.google.com/articles/CBMie2h0dHBzOi8vd3d3LndoaXRlY2FzZS5jb20vaW5zaWdodC1hbGVydC9zZWMtd2FybnMtaW5kaXZpZHVhbC1hY3RvcnMtcG90ZW50aWFsLWxpYWJpbGl0eS1haS1yZWxhdGVkLXNlY3VyaXR5LXJpc2stZGlzY2xvc3VyZdIBAA\">SEC Warns Individual Actors of Potential Liability for AI-Related Security Risk Disclosure Failures - Google News</a><br />\n",
      "15.<a href=\"https://news.google.com/articles/CBMiUGh0dHBzOi8vd3d3LmNjbi5jb20vbmV3cy90ZWNobm9sb2d5L2FpLWRhdGEtYnJlYWNoZXMtYWZmZWN0LTEtaW4tNS11ay1jb21wYW5pZXMv0gEA\">AI Data Breaches Affect 1 in 5 UK Companies: Insider Leaks Highlight Internal Security Threats - Google News</a><br />\n",
      "16.<a href=\"https://news.google.com/articles/CBMiQmh0dHBzOi8vd3d3LmhlbHBuZXRzZWN1cml0eS5jb20vMjAyNC8wNC8yNS9jeWJlcnNlY3VyaXR5LWFpLXN0YXRzL9IBAA\">25 cybersecurity AI stats you should know - Google News</a><br />\n",
      "17.<a href=\"https://www.techradar.com/pro/the-cyber-landscape-in-2024-ai-cyber-attacks-and-disinformation\">The cyber landscape in 2024: AI, cyber attacks and disinformation - Feedly AI</a><br />\n",
      "18.<a href=\"https://news.google.com/articles/CBMiXmh0dHBzOi8vd3d3Lndpc2J1c2luZXNzLmNvbS8yMDI0L2NvbXB1dGVyLXNjaWVuY2UtZXhwZXJ0LXByZWRpY3RzLXN3ZWVwaW5nLWRpc3J1cHRpb24tZnJvbS1haS_SAQA\">Computer science expert predicts sweeping disruption from AI - Google News</a><br />\n",
      "19.<a href=\"https://hackernoon.com/will-ai-be-the-end-of-programmers-what-happens-to-the-it-industry\">Will AI Be the End of Programmers? What Happens to the IT Industry? - HackerNoon</a><br />\n",
      "20.<a href=\"https://cloud.google.com/blog/products/application-development/ai-assistance-kickstarts-developer-productivity-whitepaper/\">AI will break the stagnation in developer productivity, but only if you do it right - Feedly AI</a><br />\n",
      "21.<a href=\"https://www.theglobeandmail.com/business/technology/article-ai-could-boost-canadas-lagging-productivity-microsoft-canadas/\">AI could boost Canada’s lagging productivity, Microsoft Canada’s president says - Feedly AI</a><br />\n",
      "22.<a href=\"https://news.google.com/articles/CBMiY2h0dHBzOi8vd3d3LnJldXRlcnMuY29tL3RlY2hub2xvZ3kvbWljcm9zb2Z0cy1haS1sZWFkLXB1dHMtYW1hem9uLWNsb3VkLWRvbWluYW5jZS13YXRjaC0yMDI0LTA0LTI0L9IBAA\">Microsoft's AI lead puts Amazon cloud dominance on watch - Google News</a><br />\n",
      "23.<a href=\"https://news.google.com/articles/CBMibWh0dHBzOi8vYXBuZXdzLmNvbS9hcnRpY2xlL21pY3Jvc29mdC1hbWF6b24tYW50aHJvcGljLWFpLWludmVzdG1lbnQtc2NydXRpbnktYTUyZjY0MDlmYTZlZTliMzM1YWI2ODAxYjhlODRjZGXSAQA\">Microsoft and Amazon face scrutiny from UK competition watchdog over recent AI deals - Google News</a><br />\n",
      "24.<a href=\"https://news.google.com/articles/CBMiP2h0dHBzOi8vd3d3LmZ0LmNvbS9jb250ZW50LzA1OTdhODM0LWMxMDEtNGQwMS04OTNkLTg3YzJlY2ExMjJjOdIBAA\">UK regulator examines Microsoft and Amazon's AI dealmaking - Google News</a><br />\n",
      "25.<a href=\"https://news.google.com/articles/CBMikAFodHRwczovL3d3dy5weW1udHMuY29tL2FydGlmaWNpYWwtaW50ZWxsaWdlbmNlLTIvMjAyNC9hcy1icml0aXNoLXJlZ3VsYXRvcnMtc2NydXRpbml6ZS1taWNyb3NvZnQtYW5kLWFtYXpvbi1haS1kZWFscy1pbmR1c3RyeS1icmFjZXMtZm9yLWltcGFjdC_SAQA\">AI Industry Braces as British Regulators Scrutinize Big Tech Deals - Google News</a><br />\n",
      "26.<a href=\"https://www.theverge.com/2024/4/23/24138356/ai-companies-csam-thorn-training-data\">The biggest AI companies agree to crack down on child abuse images - The Verge</a><br />\n",
      "27.<a href=\"https://news.google.com/articles/CBMiPGh0dHBzOi8vd3d3LmRhaWx5ZG90LmNvbS9wYXNzaW9uZnJ1aXQvaW5zdGFncmFtLWFpLWNyZWF0b3JzL9IBQGh0dHBzOi8vd3d3LmRhaWx5ZG90LmNvbS9wYXNzaW9uZnJ1aXQvaW5zdGFncmFtLWFpLWNyZWF0b3JzLz9hbXA\">Should creators be concerned about Instagram’s AI developments? - Google News</a><br />\n",
      "28.<a href=\"https://news.google.com/articles/CBMitQFodHRwczovL3d3dy5raW5nNS5jb20vdmlkZW8vZW50ZXJ0YWlubWVudC90ZWxldmlzaW9uL3Byb2dyYW1zL25ldy1kYXktbm9ydGh3ZXN0L2hvdC10b3BpY3MtaW5zdGFncmFtLWhhcy1hLW5ldy1haS1pbWFnZS1nZW5lcmF0b3ItbmV3LWRheS1udy8yODEtNzUzNWJlYWMtZjM5OS00OWJkLThhNTItZmRlMTQ4OTJjNzk10gEA\">Hot Topics: Instagram has new AI image generator - New Day NW - Google News</a><br />\n",
      "29.<a href=\"https://www.404media.co/facebooks-bizarre-ai-images-now-on-linkedin-too/\">Facebook’s Bizarre AI Images Now on LinkedIn, Too - Feedly AI</a><br />\n",
      "30.<a href=\"https://news.google.com/articles/CBMiXGh0dHBzOi8vd3d3LndpcmVkLmNvbS9zdG9yeS9hZHMtZm9yLWV4cGxpY2l0LWFpLWdpcmxmcmllbmRzLXN3YXJtaW5nLWZhY2Vib29rLWFuZC1pbnN0YWdyYW0v0gEA\">Ads for Explicit 'AI Girlfriends' Are Swarming Facebook and Instagram - Google News</a><br />\n",
      "31.<a href=\"https://news.google.com/articles/CBMiRmh0dHBzOi8vODAubHYvYXJ0aWNsZXMvZmFjZWJvb2stcy1jaGF0Z3B0LWxpa2UtYWkta25vd3MteW91ci1sb2NhdGlvbi_SAQA\">Facebook's ChatGPT-Like AI Knows Your Location - Google News</a><br />\n",
      "32.<a href=\"https://www.windowscentral.com/software-apps/apples-new-outperforming-gpt-4-llm-will-reportedly-run-on-device-like-copilot\">Apple's new outperforming GPT-4 LLM will reportedly run on-device like Copilot on future AI PCs, but OpenAI's Sam Altman admitted it's virtually 'impossible' to train ChatGPT-like tools without copyrighted content - Feedly AI</a><br />\n",
      "33.<a href=\"https://news.google.com/articles/CBMibmh0dHBzOi8vd3d3LnRoZWluZm9ybWF0aW9uLmNvbS9icmllZmluZ3MvYXBwbGUtcmVsZWFzZXMtc21hbGwtb3Blbi1zb3VyY2UtYWktbW9kZWxzLWZvci1vbi1kZXZpY2UtYXBwbGljYXRpb25z0gEA\">Briefing: Apple Releases Small, Open-Source AI Models for On-Device Applications - Google News</a><br />\n",
      "34.<a href=\"https://www.theverge.com/2024/4/24/24139266/apple-ai-model-openelm-iphone-laptops-strategy\">Apple’s new AI model hints at how AI could come to the iPhone - The Verge</a><br />\n",
      "35.<a href=\"https://news.google.com/articles/CBMieWh0dHBzOi8vd3d3LmZvcmJlcy5jb20vc2l0ZXMvZXdhbnNwZW5jZS8yMDI0LzA0LzI1L2FwcGxlLWlwaG9uZS0xNi1wcm8tYWktbGxtLW9wZW5lbG0tb3Blbi1zb3VyY2Utc29mdHdhcmUtbmV3LWlwaG9uZS0xNi_SAQA\">Apple's iPhone AI Plans Confirmed With New Software Release - Google News</a><br />\n",
      "36.<a href=\"https://news.google.com/articles/CBMiW2h0dHBzOi8vd3d3LnF1YW50YW1hZ2F6aW5lLm9yZy9kb2VzLWFpLWtub3ctd2hhdC1hbi1hcHBsZS1pcy1zaGUtYWltcy10by1maW5kLW91dC0yMDI0MDQyNS_SAQA\">Does AI Know What an Apple Is? She Aims to Find Out. - Google News</a><br />\n",
      "37.<a href=\"https://news.google.com/articles/CBMiW2h0dHBzOi8vc2VhcmNoZW5naW5lbGFuZC5jb20vcGVycGxleGl0eS1haS1leHBsb3JpbmctYWktcG93ZXJlZC1zZWFyY2gtYmV5b25kLWdvb2dsZS00Mzk4NznSAQA\">Perplexity AI: Exploring AI-powered search beyond Google - Google News</a><br />\n",
      "38.<a href=\"https://news.google.com/articles/CBMijgFodHRwczovL3d3dy5mb3JiZXMuY29tL3NpdGVzL2RhdmlkZG90eS8yMDI0LzA0LzI1L3BlcnBsZXhpdHlhaS1mb2N1c2VzLW9uLWFkcy1hdHRyYWN0cy1mdW5kcy1mcm9tLWRpZ2l0YWwtZWxpdGUtc2VhcmNoLXdpbGwtbmV2ZXItYmUtdGhlLXNhbWUv0gEA\">Perplexity.ai Focuses On Ads, Attracts Funds From Digital Elite. Search Will Never Be The Same - Google News</a><br />\n",
      "39.<a href=\"https://www.axios.com/2024/04/25/pr-firms-launch-ai-tools\">PR firms race to launch internal AI tools - Feedly AI</a><br />\n",
      "40.<a href=\"https://www.mercurynews.com/2024/04/25/top-strategies-for-small-businesses-to-successfully-implement-artificial-intelligence/\">Top Strategies for small businesses to successfully implementArtificial Intelligence - Feedly AI</a><br />\n",
      "41.<a href=\"https://news.google.com/articles/CBMigQFodHRwczovL3d3dy5mb3JiZXMuY29tL3NpdGVzL3Bhb2xhY2VjY2hpLWRpbWVnbGlvLzIwMjQvMDQvMjUvNS1rZXktZWNvbm9taWMtaW1wYWN0cy1hbmQtc3RyYXRlZ2ljLWltcGxpY2F0aW9ucy1vZi1haS1mb3ItbGVhZGVycy_SAQA\">5 Key Economic Impacts And Strategic Implications Of AI For Leaders - Google News</a><br />\n",
      "42.<a href=\"https://news.google.com/articles/CBMiiwFodHRwczovL3d3dy5tb25leWNvbnRyb2wuY29tL25ld3Mvb3Bpbmlvbi9kZWNvZGluZy1lY29ub21pY3MtYWktaXMtYS1tYWdpYy1idWxsZXQtdG8taW5jcmVhc2UtcHJvZHVjdGl2aXR5LWZpbmRzLWJpcy1yZXNlYXJjaC0xMjcwNzEzNi5odG1s0gGPAWh0dHBzOi8vd3d3Lm1vbmV5Y29udHJvbC5jb20vbmV3cy9vcGluaW9uL2RlY29kaW5nLWVjb25vbWljcy1haS1pcy1hLW1hZ2ljLWJ1bGxldC10by1pbmNyZWFzZS1wcm9kdWN0aXZpdHktZmluZHMtYmlzLXJlc2VhcmNoLTEyNzA3MTM2Lmh0bWwvYW1w\">Decoding Economics | AI is a magic bullet to increase productivity, finds BIS research - Google News</a><br />\n",
      "43.<a href=\"https://news.google.com/articles/CBMiggFodHRwczovL3d3dy5tYXJrZXR3YXRjaC5jb20vc3RvcnkvbnZpZGlhLXN0YW5kcy10by1iZW5lZml0LWFzLW1ldGEtc3B1cnMtYW4tZXZlbi1ncmVhdGVyLWFpLXNwZW5kaW5nLXNwcmVlLWIxNWNkMGI2P3JlZj1iaXp0b2MuY29t0gF3aHR0cHM6Ly93d3cubWFya2V0d2F0Y2guY29tL2FtcC9zdG9yeS9udmlkaWEtc3RhbmRzLXRvLWJlbmVmaXQtYXMtbWV0YS1zcHVycy1hbi1ldmVuLWdyZWF0ZXItYWktc3BlbmRpbmctc3ByZWUtYjE1Y2QwYjY\">Nvidia stands to benefit as Meta spurs an even greater AI spending spree - Google News</a><br />\n",
      "44.<a href=\"https://www.barrons.com/articles/nvidia-stock-price-buy-sell-meta-earnings-5299b966\">Nvidia Stock Gains. What Meta’s Earnings Mean for the AI Chip Maker. - Feedly AI</a><br />\n",
      "45.<a href=\"https://finance.yahoo.com/news/intel-earnings-135825817.html\">Intel to report Q1 earnings as Wall Street eyes AI and foundry growth - Feedly AI</a><br />\n",
      "46.<a href=\"https://go.theregister.com/feed/www.theregister.com/2024/04/25/sk_hynix_ai_hbm/\">SK hynix breaks Q1 revenue records on back of AI boom - Feedly AI</a><br />\n",
      "47.<a href=\"https://www.theregister.com/2024/04/25/sk_hynix_ai_hbm/\">SK hynix breaks Q1 revenue records on back of AI boomMemory biz ditches NAND production plans to make more crucial HBM techStorage4 hrs| - The Register</a><br />\n",
      "48.<a href=\"https://news.google.com/articles/CBMiZGh0dHBzOi8vd3d3LnRoZWluZm9ybWF0aW9uLmNvbS9hcnRpY2xlcy9odWF3ZWktbGVhZHMtY2hpbmVzZS1lZmZvcnQtdG8tY29tcGV0ZS13aXRoLW52aWRpYXMtYWktY2hpcHPSAQA\">Huawei Leads Chinese Effort to Compete With Nvidia's AI Chips - Google News</a><br />\n",
      "49.<a href=\"https://news.google.com/articles/CBMiQmh0dHBzOi8vaW50ZXJlc3RpbmdlbmdpbmVlcmluZy5jb20vaW5ub3ZhdGlvbi9udmlkaWEtYWktZ3B1LW9wZW5hadIBAA\">OpenAI receives the world's most powerful AI GPU from Nvidia CEO - Google News</a><br />\n",
      "50.<a href=\"https://news.google.com/articles/CBMiuQFodHRwczovL3d3dy50b21zaGFyZHdhcmUuY29tL3RlY2gtaW5kdXN0cnkvYXJ0aWZpY2lhbC1pbnRlbGxpZ2VuY2UvbnZpZGlhLWNlby1oYW5kLWRlbGl2ZXJzLXdvcmxkcy1mYXN0ZXN0LWFpLXN5c3RlbS10by1vcGVuYWktYWdhaW4tZmlyc3QtZGd4LWgyMDAtZ2l2ZW4tdG8tc2FtLWFsdG1hbi1hbmQtZ3JlZy1icm9ja21hbtIBAA\">Nvidia CEO hand-delivers world's fastest AI system to OpenAI, again — first DGX H200 given to Sam Altman and Greg Brockman - Google News</a><br />\n",
      "51.<a href=\"https://venturebeat.com/ai/nvidia-ceo-jensen-huang-personally-delivers-first-dgx-h200-to-openai/\">Nvidia CEO Jensen Huang personally delivers first DGX H200 to OpenAI - VentureBeat</a><br />\n",
      "52.<a href=\"https://news.google.com/articles/CBMiWGh0dHBzOi8vd3d3LnRpcHJhbmtzLmNvbS9uZXdzL21hLW5ld3MtbnZpZGlhLW5hc2RhcW52ZGEtdG8tYWNxdWlyZS0yLWlzcmFlbGktYWktc3RhcnR1cHPSAQA\">M&A News: Nvidia (NASDAQ:NVDA) to Acquire 2 Israeli AI Startups - Google News</a><br />\n",
      "53.<a href=\"https://www.fintechfutures.com/2024/04/indian-fintech-aurionpro-bolsters-ai-portfolio-with-16-5m-takeover-of-arya-ai/\">Indian fintech Aurionpro bolsters AI portfolio with $16.5m takeover of Arya.ai - Feedly AI</a><br />\n",
      "54.<a href=\"https://www.techtimes.com/articles/303991/20240425/generative-ai-healthcare-xaira-therapeutics-launches-1-billion-funding.htm\">Generative AI for Healthcare: Xaira Therapeutics Launches with $1 Billion Funding - Feedly AI</a><br />\n",
      "55.<a href=\"https://www.forbes.com/sites/thomasbrewster/2024/04/24/ex-pentagon-hacker-raises-20-million-to-stop-chatgpt-fueled-cyberattacks/\">Sublime, which monitors emails of companies and political campaigns to spot AI-generated phishing attacks, raised a $20M Series A, taking total funding to $30M - Techmeme</a><br />\n",
      "56.<a href=\"https://news.google.com/articles/CBMicmh0dHBzOi8vdmVudHVyZWJlYXQuY29tL2FpL2Ryb3B6b25lLWFpLXJhaXNlcy0xN20tZnJvbS10aGVvcnktdmVudHVyZXMtZm9yLWl0cy1hdXRvbm9tb3VzLWN5YmVyc2VjdXJpdHktYWktYWdlbnRzL9IBAA\">Dropzone raises $16.85M to build autonomous cybersecurity AI agents - Google News</a><br />\n",
      "57.<a href=\"https://www.thedailyupside.com/technology/big-tech/deepmind-patent-adds-to-robotic-ai-ambitions/\">DeepMind Patent Adds to Robotic AI Ambitions - Feedly AI</a><br />\n",
      "58.<a href=\"https://thenextweb.com/news/europe-taps-deep-learning-make-industrial-robots-safer\">Europe taps deep learning to make industrial robots safer colleagues - Feedly AI</a><br />\n",
      "59.<a href=\"https://news.google.com/articles/CBMiT2h0dHBzOi8vd3d3LmF4aW9zLmNvbS8yMDI0LzA0LzI1L29wZW5haS1jaHJpcy1sZWhhbmUtYWktY3JpdGljYWwtaW5mcmFzdHJ1Y3R1cmXSAQA\">OpenAI's Chris Lehane calls AI \"critical infrastructure\" - Google News</a><br />\n",
      "60.<a href=\"https://boingboing.net/2024/04/25/2-5-years-to-sci-fi-level-ai-former-openai-employee-sounds-alarm.html\">2-5 years to sci-fi level AI? Former OpenAI employee sounds alarm - Feedly AI</a><br />\n",
      "61.<a href=\"https://spectrum.ieee.org/meta-llama-3\">Llama 3 Establishes Meta as the Leader in “Open” AI - Feedly AI</a><br />\n",
      "62.<a href=\"https://www.wired.com/story/metas-open-source-llama-3-nipping-at-openais-heels/\">Meta’s Open Source Llama 3 Is Already Nipping at OpenAI’s Heels - Feedly AI</a><br />\n",
      "63.<a href=\"https://hackernoon.com/ai-industries-converge-llama-3-and-electric-atlas-have-more-in-common-than-you-think\">AI Industries Converge: Llama 3 and Electric Atlas Have More In Common Than You Think - HackerNoon</a><br />\n",
      "64.<a href=\"https://news.google.com/articles/CBMiqQFodHRwczovL2ZpbmFuY2VmZWVkcy5jb20vbWFzYS1hbm5vdW5jZXMtY29tcHJlaGVuc2l2ZS1haS1kZXZlbG9wZXItZWNvc3lzdGVtLXdpdGgtMTMtZHluYW1pYy1wYXJ0bmVycy1mb2N1c2VkLW9uLWxldmVyYWdpbmctZGVjZW50cmFsaXplZC1kYXRhLWFuZC1sYXJnZS1sYW5ndWFnZS1tb2RlbHMv0gEA\">Masa Announces Comprehensive AI Developer Ecosystem with 13 Dynamic Partners Focused on Leveraging Decentralized Data and Large Language Models - Google News</a><br />\n",
      "65.<a href=\"https://news.google.com/articles/CBMid2h0dHBzOi8vd3d3LmludmVzdGluZy5jb20vbmV3cy9jcnlwdG9jdXJyZW5jeS1uZXdzL21hc2EtdW52ZWlscy1haS1kZXZlbG9wZXItZWNvc3lzdGVtLXdpdGgtMTMtcGFydG5lci1wcm9qZWN0cy0zMzk3NDI30gEA\">Masa unveils AI developer ecosystem with 13 partner projects By Investing.com - Google News</a><br />\n",
      "66.<a href=\"https://news.google.com/articles/CBMiS2h0dHBzOi8vdS50b2RheS8xMy1pbm5vdmF0aXZlLWFpLXByb2plY3RzLXBhcnRuZXItd2l0aC10aGlzLW5ldHdvcmstZGV0YWlsc9IBT2h0dHBzOi8vdS50b2RheS8xMy1pbm5vdmF0aXZlLWFpLXByb2plY3RzLXBhcnRuZXItd2l0aC10aGlzLW5ldHdvcmstZGV0YWlscz9hbXA\">13 Innovative AI Projects Partner With This Network: Details - Google News</a><br />\n",
      "67.<a href=\"https://news.google.com/articles/CBMiXWh0dHBzOi8vd3d3LmZvb2wuY29tL2ludmVzdGluZy8yMDI0LzA0LzI1L2FydGlmaWNpYWwtaW50ZWxsaWdlbmNlLWFpLXJvYm90cy1hcmUtYS0zOC1iaWxsaW9uL9IBAA\">Artificial Intelligence (AI) Robots Are a $38 Billion Market, According to Goldman Sachs. Here's How the \"Magnificent Seven\" Are Investing in the Technology. - Google News</a><br />\n",
      "68.<a href=\"https://www.entrepreneur.com/science-technology/redefining-the-future-with-artificial-intelligence-buyouts/473199\">Redefining the Future withArtificial IntelligenceBuyouts - Feedly AI</a><br />\n",
      "69.<a href=\"https://news.google.com/articles/CBMiXWh0dHBzOi8vd3d3LmZvb2wuY29tL2ludmVzdGluZy8yMDI0LzA0LzIzL3doeS1iaWdiZWFyYWktc3VwZXItbWljcm8tY29tcHV0ZXItYXJtLWhvbGRpbmdzLWFuL9IBAA\">Why BigBear.ai, Super Micro Computer, Arm Holdings, and Other Artificial Intelligence (AI) Stocks Surged on Tuesday - Google News</a><br />\n",
      "70.<a href=\"https://news.google.com/articles/CBMiTmh0dHBzOi8vaW52ZXN0b3JwbGFjZS5jb20vMjAyNC8wNC93aHktaXMtc291bmRob3VuZC1haS1zb3VuLXN0b2NrLXVwLTEwLXRvZGF5L9IBAA\">Why Is SoundHound AI (SOUN) Stock Up 10% Today? - Google News</a><br />\n",
      "71.<a href=\"https://news.google.com/articles/CBMiXWh0dHBzOi8vd3d3LnRpcHJhbmtzLmNvbS9uZXdzLzMtcmVhc29ucy10by1idXktc291bmRob3VuZC1haS1zdG9jay1hY2NvcmRpbmctdG8tdGhpcy1pbnZlc3RvctIBAA\">3 Reasons to Buy SoundHound AI Stock, According to This Investor - TipRanks.com - Google News</a><br />\n",
      "72.<a href=\"https://news.google.com/articles/CBMiSWh0dHBzOi8vZmluYW5jZS55YWhvby5jb20vbmV3cy9mb3JnZXQtc291bmRob3VuZC1haS0zLXRlY2gtMDc0NTAwMjMxLmh0bWzSAQA\">Forget SoundHound AI: 3 Tech Stocks to Buy Instead - Google News</a><br />\n",
      "73.<a href=\"https://news.google.com/articles/CBMiNGh0dHBzOi8vd3d3Lnh4bG1hZy5jb20vc29uZy1yZWFsLW9yLWEtaS1ob3ctdG8tdGVsbC_SAQA\">Here Are Five Tips on How to Tell If a Song Is Real or A.I. - Google News</a><br />\n",
      "74.<a href=\"https://gizmodo.com/drake-court-rapping-ai-tupac-shakur-snoop-diss-track-1851435020\">Drake May Go to Court Over AI-Generated Tupac - Feedly AI</a><br />\n",
      "75.<a href=\"https://rhymejunkie.com/posts/2pac-estate-threatens-to-sue-drake-over-use-of-late-rapper-ai-generated-voice-on-taylor-made-freestyle-01hwaqrqpbxf\">2Pac’s estate threatens to sue Drake over use of late rapper’s AI-generated voice on “taylor made freestyle” - Feedly AI</a><br />\n",
      "76.<a href=\"https://news.google.com/articles/CBMikgFodHRwczovL3d3dy5iZXQuY29tL2FydGljbGUvZmZtZXlyL3R1cGFjLXNoYWt1cnMtZXN0YXRlLWlzc3Vlcy1kcmFrZS1jZWFzZS1hbmQtZGVzaXN0LWxldHRlci1mb3ItdXNpbmctYW4tYWktZ2VuZXJhdGVkLXR1cGFjLXZvaWNlLWluLWEtZGlzcy10cmFja9IBAA\">Tupac Shakur's Estate Issues Drake Cease-and-Desist Letter For Using an AI-generated Tupac Voice in a Diss Track - Google News</a><br />\n",
      "77.<a href=\"https://movieweb.com/william-shatner-defends-ai-backlash-new-childrens-album/\">William Shatner Defends AI Artwork on New Children's Album Amid Backlash - Feedly AI</a><br />\n",
      "78.<a href=\"https://www.americamagazine.org/faith/2024/04/25/ai-priest-catholic-answers-laicized-father-justin-247799\">Catholic Answer’s AI ‘priest’ laicized after backlash - Feedly AI</a><br />\n",
      "79.<a href=\"https://news.google.com/articles/CBMib2h0dHBzOi8vd3d3LndiYWx0di5jb20vYXJ0aWNsZS9wb2xpY2UtZm9ybWVyLXBpa2VzdmlsbGUtaGlnaC1hZC1mYWNpbmctY2hhcmdlcy1haS1nZW5lcmF0ZWQtdm9pY2UtaG9heC82MDYwMzMxM9IBAA\">Former Maryland school official facing charges related to AI hoax - Google News</a><br />\n",
      "80.<a href=\"https://news.google.com/articles/CBMiiQFodHRwczovL2Fyc3RlY2huaWNhLmNvbS9pbmZvcm1hdGlvbi10ZWNobm9sb2d5LzIwMjQvMDQvYWxsZWdlZC1haS12b2ljZS1pbWl0YXRpb24tbGVhZHMtdG8tYXJyZXN0LWluLWJhbHRpbW9yZS1zY2hvb2wtcmFjaXNtLWNvbnRyb3ZlcnN5L9IBAA\">School athletic director arrested for framing principal using AI voice synthesis - Google News</a><br />\n",
      "81.<a href=\"https://news.google.com/articles/CBMifGh0dHBzOi8vd3d3LnRoZWJhbHRpbW9yZWJhbm5lci5jb20vZWR1Y2F0aW9uL2stMTItc2Nob29scy9lcmljLWVpc3dlcnQtYWktYXVkaW8tYmFsdGltb3JlLWNvdW50eS1ZQkpOSkFTNk9aRUU1T1FWRjVMRk9GWU42TS_SAQA\">Ex-athletic director framed principal with AI-generated voice, police say - Google News</a><br />\n",
      "82.<a href=\"https://news.google.com/articles/CBMiVmh0dHBzOi8vd3d3LmJhbHRpbW9yZXN1bi5jb20vMjAyNC8wNC8yNS9yYWNpc3QtcmVjb3JkaW5nLXBpa2VzdmlsbGUtYXRobGV0aWMtZGlyZWN0b3Iv0gEA\">Pikesville High athletic director used AI to fake racist recording of principal, police say - Google News</a><br />\n",
      "83.<a href=\"https://news.google.com/articles/CBMiYGh0dHBzOi8vY2R0Lm9yZy9ldmVudC9haS1pbi1lZHVjYXRpb24tYWRkcmVzc2luZy1iaWFzZXMtYW5kLWRpc2NyaW1pbmF0aW9uLXByaXZhY3ktc3VydmVpbGxhbmNlL9IBAA\">AI in Education: Addressing Biases and Discrimination, Privacy & Surveillance - Google News</a><br />\n",
      "84.<a href=\"https://news.google.com/articles/CBMia2h0dHBzOi8vd3d3Lm5ld2FtZXJpY2Eub3JnL290aS9ibG9nL2FydGlmaWNpYWwtaW50ZWxsaWdlbmNlLWluLXNjaG9vbHMtcHJpdmFjeS1hbmQtc2VjdXJpdHktY29uc2lkZXJhdGlvbnMv0gEA\">Artificial Intelligence in Schools: Privacy and Security Considerations - Google News</a><br />\n",
      "85.<a href=\"https://news.google.com/articles/CBMiWmh0dHBzOi8vd3d3LmZhc3Rjb21wYW55LmNvbS85MTExMTAwMS9lbWJlZGRpbmctYWktaW50by1lZHVjYXRpb24td2lsbC1wZXJzb25hbGl6ZS1sZWFybmluZ9IBAA\">Embedding AI into education will personalize learning - Google News</a><br />\n",
      "86.<a href=\"https://www.3blmedia.com/news/bridge-success-using-ai-raise-bar-special-education\">A Bridge to Success: Using AI To Raise the Bar in Special Education - Feedly AI</a><br />\n",
      "87.<a href=\"https://www.cpr.org/2024/04/25/artificial-intelligence-colorado-schools/\">How is AI being used in Colorado classrooms? - Feedly AI</a><br />\n",
      "88.<a href=\"https://www.edweek.org/teaching-learning/opinion-ai-dos-and-donts-for-teachers-downloadable/2024/04\">AI Do's and Don'ts for Teachers (Downloadable) (Opinion) - Feedly AI</a><br />\n",
      "89.<a href=\"https://greekreporter.com/2024/04/25/ai-solve-teacher-shortage-crisis-uk-europe/\">AI May Help Solve the Teacher Shortage Crisis in UK and Europe - Feedly AI</a><br />\n",
      "90.<a href=\"https://venturebeat.com/ai/exclusive-ai-startup-edia-guarantees-better-math-outcomes-for-school-districts-within-one-year/\">Exclusive: AI startup Edia guarantees better math outcomes for school districts within one year - VentureBeat</a><br />\n",
      "91.<a href=\"https://news.google.com/articles/CBMiYWh0dHBzOi8vd3d3LnRpcHJhbmtzLmNvbS9uZXdzL2NvbXBhbnktYW5ub3VuY2VtZW50cy9kaWFnbmFtZWRzLWFpLWJyYWluLWhlYWx0aC1wbGF0Zm9ybS12YWxpZGF0ZWTSAQA\">DiagnaMed's AI Brain Health Platform Validated - TipRanks.com - Google News</a><br />\n",
      "92.<a href=\"https://news.google.com/articles/CBMiZWh0dHBzOi8vd3d3LnRoZWVuZ2luZWVyLmNvLnVrL2NvbnRlbnQvbmV3cy9haS1nZW5lcmF0ZWQtbWVkaWNhbC1yZXNwb25zZXMtbmVlZC1tb25pdG9yaW5nLXN0dWR5LWZpbmRz0gEA\">AI-generated medical responses need monitoring, study finds - Google News</a><br />\n",
      "93.<a href=\"https://news.google.com/articles/CBMiW2h0dHBzOi8vd3d3LnN0YXRuZXdzLmNvbS8yMDI0LzA0LzI1L2hlYWx0aC1haS1sYXJnZS1sYW5ndWFnZS1tb2RlbHMtY2xpbmljYWwtZG9jdW1lbnRhdGlvbi_SAQA\">Generative AI for clinical notes has limitations, new studies show - Google News</a><br />\n",
      "94.<a href=\"https://news.google.com/articles/CBMiYWh0dHBzOi8vd3d3LmZpZXJjZWJpb3RlY2guY29tL2Nyby9yaXNrbGljay1kZWJ1dHMtbmV3LWFpLXNvZnR3YXJlLXdyaXRlcy1jbGluaWNhbC10cmlhbC1wcm90b2NvbHPSAQA\">Risklick debuts new AI software that writes clinical trial protocols - Google News</a><br />\n",
      "95.<a href=\"https://www.genengnews.com/topics/drug-discovery/the-difference-is-the-data-drug-discoverys-ai-revolution/\">The Difference Is the Data: Drug Discovery's AI Revolution - Feedly AI</a><br />\n",
      "96.<a href=\"https://hackernoon.com/unlock-the-secrets-of-ai-how-rivalz-is-transforming-data-integrity-forever\">Unlock the Secrets of AI: How Rivalz Is Transforming Data Integrity Forever! - HackerNoon</a><br />\n",
      "97.<a href=\"https://venturebeat.com/ai/exclusive-visas-cio-shares-insights-on-generative-ais-transformative-potential-in-payments-industry/\">Exclusive: Visa’s CIO shares insights on generative AI’s transformative potential in payments industry - Feedly AI</a><br />\n",
      "98.<a href=\"https://www.businessinsider.com/sc/how-companies-can-use-ai-to-meet-their-operational-and-financial-goals\">How Hitachi Digital Services is helping companies adopt AI models responsibly to meet their operational and financial goals - Business Insider</a><br />\n",
      "99.<a href=\"https://news.google.com/articles/CBMimAFodHRwczovL3d3dy5tb25leWNvbnRyb2wuY29tL25ld3MvdGVjaG5vbG9neS9taWNyb3NvZnQtaGlnaGxpZ2h0cy1jb3BpbG90LWNhcGFiaWxpdGllcy1hcy1pdC1wdXNoZXMtb3JnYW5pc2F0aW9ucy10by1hZG9wdC1haS10ZWNobm9sb2dpZXMtMTI3MDgzNjEuaHRtbNIBnAFodHRwczovL3d3dy5tb25leWNvbnRyb2wuY29tL25ld3MvdGVjaG5vbG9neS9taWNyb3NvZnQtaGlnaGxpZ2h0cy1jb3BpbG90LWNhcGFiaWxpdGllcy1hcy1pdC1wdXNoZXMtb3JnYW5pc2F0aW9ucy10by1hZG9wdC1haS10ZWNobm9sb2dpZXMtMTI3MDgzNjEuaHRtbC9hbXA\">Microsoft highlights Copilot capabilities as it pushes organisations to adopt AI technologies - Google News</a><br />\n",
      "100.<a href=\"https://news.google.com/articles/CBMiRGh0dHBzOi8vd3d3LnNhbW1vYmlsZS5jb20vbmV3cy9zYW1zdW5nLWdvb2dsZS10ZWFzZS1uZXctYWktZmVhdHVyZXMv0gEA\">Samsung and Google tease new AI features - Google News</a><br />\n",
      "101.<a href=\"https://www.theverge.com/2024/4/25/24140141/samsung-and-google-promise-theyre-not-breaking-up\">Samsung and Google tease “exciting things” for AI on Android and Galaxy hardware. - The Verge</a><br />\n",
      "102.<a href=\"https://news.google.com/articles/CBMiWmh0dHBzOi8vd3d3LmFuZHJvaWRjZW50cmFsLmNvbS9hcHBzLXNvZnR3YXJlL2dvb2dsZS1nZW1pbmktbmFuby12Mi1nYWxheHktczI1LXJlcG9ydC1jbGFpbdIBAA\">The Galaxy S25 could get a major AI upgrade from Google - Google News</a><br />\n",
      "103.<a href=\"https://news.google.com/articles/CBMiVGh0dHBzOi8vd3d3LnNhbW1vYmlsZS5jb20vbmV3cy9vbmUtdWktNi0xLTEtY291bGQtYmUtZm9jdXNlZC1vbi12aWRlby1haS1pbm5vdmF0aW9uL9IBAA\">One UI 6.1.1 could be focused on video AI innovation - Google News</a><br />\n",
      "104.<a href=\"https://news.google.com/articles/CBMilgFodHRwczovL3d3dy50ZWNocmFkYXIuY29tL2NvbXB1dGluZy9hcnRpZmljaWFsLWludGVsbGlnZW5jZS9hZG9iZXMtbmV4dC1iaWctcHJvamVjdC1pcy1hbi1haS10aGF0LWNhbi11cHNjYWxlLWxvdy1yZXMtdmlkZW8tdG8tOHgtaXRzLW9yaWdpbmFsLXF1YWxpdHnSAQA\">Adobe's next big project is an AI that can upscale low-res video to 8x its original quality - Google News</a><br />\n",
      "105.<a href=\"https://www.theverge.com/2024/4/24/24138979/adobe-videogigagan-ai-video-upscaling-project-blurry-hd\">Adobe’s impressive AI upscaling project makes blurry videos look HD - The Verge</a><br />\n",
      "106.<a href=\"https://news.google.com/articles/CBMiO2h0dHBzOi8vd3d3LnNlYXJjaGVuZ2luZWpvdXJuYWwuY29tL2RlZXBsLXdyaXRlLXByby81MTQ3NjUv0gEA\">DeepL Write: New AI Editor Improves Content Quality - Google News</a><br />\n",
      "107.<a href=\"https://news.google.com/articles/CBMiVGh0dHBzOi8vd3d3LnpkbmV0LmNvbS9hcnRpY2xlL3RoZXNlLWFpLWF2YXRhcnMtbm93LWNvbWUtd2l0aC1odW1hbi1saWtlLWV4cHJlc3Npb25zL9IBAA\">These AI avatars now come with human-like expressions - Google News</a><br />\n",
      "108.<a href=\"https://www.techtimes.com/articles/303996/20240425/ai-camera-create-deepfake-images-people-removing-clothing-scary-nuca.htm\">This AI Camera Can Create Deepfake Images of People By Removing Their Clothing: How Scary is NUCA? - Feedly AI</a><br />\n",
      "109.<a href=\"https://news.google.com/articles/CBMiUWh0dHBzOi8vd3d3LmZveG5ld3MuY29tL3RlY2gvdGhlLWFpLWNhbWVyYS1zdHJpcHBpbmctYXdheS1wcml2YWN5LWluLWJsaW5rLW9mLWV5ZdIBVWh0dHBzOi8vd3d3LmZveG5ld3MuY29tL3RlY2gvdGhlLWFpLWNhbWVyYS1zdHJpcHBpbmctYXdheS1wcml2YWN5LWluLWJsaW5rLW9mLWV5ZS5hbXA\">The AI camera stripping away privacy in the blink of an eye - Google News</a><br />\n",
      "110.<a href=\"https://news.google.com/articles/CBMiVGh0dHBzOi8vd3d3Lmdvb2R0by5jb20vZmFtaWx5L3doYXQtaXMtdW5kcmVzcy1haS1hcHBzLXdpdGgtYWJpbGl0eS10by1yZW1vdmUtY2xvdGhlc9IBAA\">What is undress AI? Now apps can 'remove clothes', we ask an online safety expert what is being done to keep children safe - Google News</a><br />\n",
      "111.<a href=\"https://www.ipsnews.net/2024/04/ai-policy-cant-ignore-climate-change-need-net-zero-ai-emissions/\">AI Policy Can't Ignore Climate Change: We Need Net Zero AI Emissions - Feedly AI</a><br />\n",
      "112.<a href=\"https://news.google.com/articles/CBMiMWh0dHBzOi8vd3d3LnR1cmtpeWVuZXdzcGFwZXIuY29tL3RlY2hub2xvZ3kvMjIyNjfSATVodHRwczovL3d3dy50dXJraXllbmV3c3BhcGVyLmNvbS9hbXAvdGVjaG5vbG9neS8yMjI2Nw\">Artificial intelligence boosts plant engineering to tackle climate change - Google News</a><br />\n",
      "113.<a href=\"https://news.google.com/articles/CBMiTmh0dHBzOi8vaW50ZXJlc3RpbmdlbmdpbmVlcmluZy5jb20vaW5ub3ZhdGlvbi93b3JsZC1maXJzdC1haS1lZGl0cy1odW1hbi1nZW5lc9IBAA\">OpenCRISPR-1: World's first open-source AI scissor edits human genes Interesting Engineering - Google News</a><br />\n",
      "114.<a href=\"https://news.google.com/articles/CBMiTmh0dHBzOi8vd3d3Lndzai5jb20vdGVjaC9haS9tZXRhcy1saWNlbnNlLXRvLXNwZW5kLW9uLWFpLWdldHMtY2hlY2tlZC1kZDMxYmEyYdIBAA\">Meta's License to Spend on AI Gets Checked - Google News</a><br />\n",
      "115.<a href=\"https://www.ft.com/content/cca676aa-4502-4844-8274-5ae040b506f7\">Meta’s gamble on chatbots opens new wave of tech competition - FT Tech</a><br />\n",
      "116.<a href=\"https://news.google.com/articles/CBMilAFodHRwczovL3d3dy5idXNpbmVzc3RvZGF5LmluL3RlY2hub2xvZ3kvbmV3cy9zdG9yeS9pLXVzZWQtbWV0YS1haS1vbi13aGF0c2FwcC1hbmQtaXQtaW5zdGFudGx5LWJlY2FtZS1teS11bHRpbWF0ZS1kaWdpdGFsLXNpZGVraWNrLTQyNjk3Mi0yMDI0LTA0LTI10gEA\">I used Meta AI on WhatsApp and it instantly became my ultimate digital sidekick! - Google News</a><br />\n",
      "117.<a href=\"https://wepresent.wetransfer.com/stories/aikbeng-chia-return-to-bugis-street-ai\">AikBeng Chia — Recreating vivid scenes from 1970s Singapore with the help of AI - Feedly AI</a><br />\n",
      "118.<a href=\"https://hackernoon.com/creating-your-ai-persona-with-vasa-1-and-spheria\">Creating Your AI Persona with VASA-1 and Spheria - HackerNoon</a><br />\n",
      "119.<a href=\"https://venturebeat.com/ai/curbing-shadow-ai-with-calculated-generative-ai-deployment/\">SPONSOREDCurbing shadow AI with calculated generative AI deployment - VentureBeat</a><br />\n",
      "120.<a href=\"https://towardsdatascience.com/the-landscape-of-emerging-ai-agent-architectures-for-reasoning-planning-and-tool-calling-a-a95214b743c1\">The Landscape of Emerging AI Agent Architectures for Reasoning, Planning, and Tool Calling: A… - Feedly AI</a><br />\n",
      "121.<a href=\"https://news.google.com/articles/CBMi2gFodHRwczovL3d3dy5tYXJrdGVjaHBvc3QuY29tLzIwMjQvMDQvMjQvanAtbW9yZ2FuLWFpLXJlc2VhcmNoLWludHJvZHVjZXMtZmxvd21pbmQtYS1ub3ZlbC1tYWNoaW5lLWxlYXJuaW5nLWFwcHJvYWNoLXRoYXQtbGV2ZXJhZ2VzLXRoZS1jYXBhYmlsaXRpZXMtb2YtbGxtcy1zdWNoLWFzLWdwdC10by1jcmVhdGUtYW4tYXV0b21hdGljLXdvcmtmbG93LWdlbmVyYXRpb24tc3lzdGVtL9IB3gFodHRwczovL3d3dy5tYXJrdGVjaHBvc3QuY29tLzIwMjQvMDQvMjQvanAtbW9yZ2FuLWFpLXJlc2VhcmNoLWludHJvZHVjZXMtZmxvd21pbmQtYS1ub3ZlbC1tYWNoaW5lLWxlYXJuaW5nLWFwcHJvYWNoLXRoYXQtbGV2ZXJhZ2VzLXRoZS1jYXBhYmlsaXRpZXMtb2YtbGxtcy1zdWNoLWFzLWdwdC10by1jcmVhdGUtYW4tYXV0b21hdGljLXdvcmtmbG93LWdlbmVyYXRpb24tc3lzdGVtLz9hbXA\">JP Morgan AI Research Introduces FlowMind: A Novel Machine Learning Approach that Leverages the Capabilities of LLMs such as GPT to Create an Automatic Workflow Generation System - Google News</a><br />\n",
      "122.<a href=\"https://hackernoon.com/leveraging-llms-for-generation-of-unusual-text-inputs-in-mobile-app-tests-approach\">Leveraging LLMs for Generation of Unusual Text Inputs in Mobile App Tests: Approach - HackerNoon</a><br />\n",
      "123.<a href=\"https://hackernoon.com/leveraging-llms-for-generation-of-unusual-text-inputs-in-mobile-app-tests-experiment-design\">Leveraging LLMs for Generation of Unusual Text Inputs in Mobile App Tests: Experiment Design - HackerNoon</a><br />\n",
      "124.<a href=\"https://www.washingtonpost.com/politics/2024/04/25/openais-rules-can-be-easily-dodged-target-latinos-study-warns/\">OpenAI’s rules can be ‘easily’ dodged to target Latinos, study warns - WaPo Tech</a><br />\n",
      "125.<a href=\"https://news.google.com/articles/CBMiT2h0dHBzOi8vY29pbnRlbGVncmFwaC5jb20vbmV3cy9kZWNlbnRyYWxpemVkLWFpLWtleS11bmJpYXNlZC1haS1hbGdvcml0aG1zLW1hc2HSAQA\">Decentralized AI is key to more unbiased AI algorithms — Masa co-founder - Google News</a><br />\n",
      "126.<a href=\"https://www.bloomberg.com/news/articles/2024-04-25/inside-the-china-us-competition-for-ai-experts\">Inside the China-US Competition for AI Experts - Feedly AI</a><br />\n",
      "127.<a href=\"https://news.google.com/articles/CBMiZmh0dHBzOi8vd3d3LmJsb29tYmVyZy5jb20vbmV3cy9hcnRpY2xlcy8yMDI0LTA0LTI1L2c0Mi1hbGxpZXMtd2l0aC11cy1vdmVyLWNoaW5hLWluLWdsb2JhbC1haS1jb25mbGljdNIBAA\">G42 Allies With US Over China in Global AI Conflict - Google News</a><br />\n",
      "128.<a href=\"https://www.advisorperspectives.com/commentaries/2024/04/25/ai-fed-catch-22-technology-and-policy\">The AI-Fed Catch 22: Tango of Technology and Policy - Feedly AI</a><br />\n",
      "129.<a href=\"https://news.google.com/articles/CBMiMmh0dHBzOi8vd3d3LmFyYWJuZXdzLmNvbS9ub2RlLzI0OTgxNzEvc2F1ZGktYXJhYmlh0gEA\">Outer Edge Summit in Riyadh explores AI, digital futures - Google News</a><br />\n",
      "130.<a href=\"https://cbcpnews.net/cbcpnews/cisco-ceo-meets-pope-francis-signs-ai-ethics-pledge-at-vatican/\">Cisco CEO meets Pope Francis, signs AI ethics pledge at Vatican - Feedly AI</a><br />\n",
      "131.<a href=\"https://www.newyorkupstate.com/news/2024/04/ai-robot-will-give-commencement-speech-at-upstate-ny-college.html\">AI robot will give commencement speech at Upstate NY college - Feedly AI</a><br />\n",
      "132.<a href=\"https://news.google.com/articles/CBMikAFodHRwczovL3d3dy5uYmN3YXNoaW5ndG9uLmNvbS9uZXdzL2xvY2FsL2l0cy1ub3QtanVzdC1hLWpvYi1uZXVyb2RpdmVyc2UtZmluZC1jYXJlZXItcGF0aC1pbi1haS10ZWNobm9sb2d5LWF0LW5vcnRoZXJuLXZpcmdpbmlhLWNvbXBhbnkvMzYwMDE4Ni_SAZYBaHR0cHM6Ly93d3cubmJjd2FzaGluZ3Rvbi5jb20vbmV3cy9sb2NhbC9pdHMtbm90LWp1c3QtYS1qb2ItbmV1cm9kaXZlcnNlLWZpbmQtY2FyZWVyLXBhdGgtaW4tYWktdGVjaG5vbG9neS1hdC1ub3J0aGVybi12aXJnaW5pYS1jb21wYW55LzM2MDAxODYvP2FtcD0x\">‘Not just a job': Neurodiverse find careers in AI tech at Northern Virginia company - Google News</a><br />\n",
      "133.<a href=\"https://news.google.com/articles/CBMiOWh0dHBzOi8vbmV3cy52dW1jLm9yZy8yMDI0LzA0LzIyL2FpLXRvLWRvY3RvcnMtYmVhdC10aGF0L9IBAA\">AI to doctors: Beat that! - VUMC News - Google News</a><br />\n",
      "134.<a href=\"https://www.medtechdive.com/news/exo-ai-tools-handheld-ultrasound-system/714245/\">Exo adds FDA-cleared AI tools to handheld ultrasound system - Feedly AI</a><br />\n",
      "135.<a href=\"https://news.google.com/articles/CBMiUWh0dHBzOi8vbWFzaGFibGUuY29tL2FydGljbGUvbWljcm9zb2Z0LWxhdW5jaGVzLXBoaS0zLW1pbmktdGlueS1wb3dlcmZ1bC1haS1tb2RlbNIBAA\">Microsoft launches Phi-3 Mini, a tiny AI model that packs a punch - Google News</a><br />\n",
      "136.<a href=\"https://news.google.com/articles/CBMiZ2h0dHBzOi8vbGFpc3QuY29tL2JyaWVmL25ld3MvdHJhbnNwb3J0YXRpb24vbWV0cm8tYWktcG93ZXJlZC1jYW1lcmFzLXRpY2tldC1kcml2ZXJzLXBhcmtlZC1pbi1idXMtbGFuZXPSAQA\">Metro Installs AI Cameras - Los Angeles - Google News</a><br />\n",
      "137.<a href=\"https://news.google.com/articles/CBMicmh0dHBzOi8vYWJjNy5jb20vbWV0cm8taW5zdGFsbGluZy1haS1wb3dlcmVkLWNhbWVyYXMtb24tYnVzZXMtdG8taXNzdWUtdGlja2V0cy1pbGxlZ2FsbHktcGFya2VkLXZlaGljbGVzLzE0NzMyNjc0L9IBdmh0dHBzOi8vYWJjNy5jb20vYW1wL21ldHJvLWluc3RhbGxpbmctYWktcG93ZXJlZC1jYW1lcmFzLW9uLWJ1c2VzLXRvLWlzc3VlLXRpY2tldHMtaWxsZWdhbGx5LXBhcmtlZC12ZWhpY2xlcy8xNDczMjY3NC8\">Metro installing AI-powered cameras on buses to issue tickets to illegally parked vehicles - Google News</a><br />\n",
      "138.<a href=\"https://petapixel.com/2024/04/25/creepy-ai-generated-film-trailers-shot-on-super-panavision-70-are-everywhere/\">Creepy AI-Generated Film Trailers 'Shot on Super Panavision 70' are Everywhere - Feedly AI</a><br />\n",
      "139.<a href=\"https://www.theregister.com/2024/04/25/darpa_autonomous_tank/\">DARPA's latest toy is a 20-foot, 12-ton tank that drives itselfCrew entirely optionalOffbeat3 hrs|11 - The Register</a><br />\n",
      "140.<a href=\"https://spectrum.ieee.org/ukraine-drones\">Ukraine Is Riddled With Land Mines. Drones and AI Can Help - Feedly AI</a><br />\n",
      "141.<a href=\"https://news.google.com/articles/CBMiWGh0dHBzOi8vd3d3Lm1hcmtldHdhdGNoLmNvbS9zdG9yeS9ob3ctYWktYW5kLWV2cy1hcmUtYm9vc3RpbmctZGVtYW5kLWZvci1jb3BwZXItZmQ5ZWM1ZGLSAQA\">How AI and EVs are boosting demand for copper - Google News</a><br />\n",
      "142.<a href=\"https://news.google.com/articles/CBMiXWh0dHBzOi8vY2l0eXdpcmUuY29tL3NlbGVjdG9yL25ld3MvYWktd2FzaGluZy10aGUtbmV4dC1iaWctY29uY2Vybi1pbi1mdW5kLXNlbGVjdGlvbi9hMjQ0MDU0NtIBAA\">AI-washing: The next big concern in fund selection? - Google News</a><br />\n",
      "143.<a href=\"https://www.tomshardware.com/software/operating-systems/windows-11-will-reportedly-display-a-watermark-if-your-pc-does-not-support-ai-requirements\">Windows 11 will reportedly display a watermark if your PC does not support AI requirements - Feedly AI</a><br />\n",
      "144.<a href=\"https://news.google.com/articles/CBMiP2h0dHBzOi8vd3d3LmZ0LmNvbS9jb250ZW50Lzc0MWY5MDVjLThhYTctNGY3Mi1hN2Y1LTdhZmMxOTM2NmU0M9IBAA\">It's not only AI that hallucinates - Artificial intelligence - Google News</a><br />\n",
      "145.<a href=\"https://www.technologyreview.com/2024/04/25/1091835/chatbot-hallucination-new-tool-trustworthy-language-model/\">Chatbot answers are all made up. This new tool helps you figure out which ones to trust. - Feedly AI</a><br />\n",
      "146.<a href=\"https://news.google.com/articles/CBMiiAFodHRwczovL3d3dy5hdW50bWlubmllLmNvbS9pbWFnaW5nLWluZm9ybWF0aWNzL2FkdmFuY2VkLXZpc3VhbGl6YXRpb24vYXJ0aWNsZS8xNTY2OTM3MS9jaGF0Z3B0NC1ub3QtcmVsaWFibGUtaW4tY2FuY2VyLXBhdGllbnQtbWVzc2FnaW5n0gEA\">ChatGPT-4 not reliable in cancer patient messaging - Google News</a><br />\n",
      "147.<a href=\"https://gizmodo.com/moderna-ceo-chatgpt-employees-vaccines-openai-1851435620\">Moderna Employees Should Use ChatGPT at Least 20 Times a Day, CEO Says - Feedly AI</a><br />\n",
      "148.<a href=\"https://hackernoon.com/building-an-ai-powered-meeting-transcript-summarizer-using-nodejs-and-ai-api\">Building an AI-Powered Summarizer using NodeJS and ApyHub API To Make Meetings Easy - HackerNoon</a><br />\n",
      "149.<a href=\"https://news.google.com/articles/CBMiUWh0dHBzOi8vd3d3LmN1cmJlZC5jb20vYXJ0aWNsZS9jb250aW51dW0tY2x1Yi1ncmVlbndpY2gtdmlsbGFnZS1neW0tYWktYmxvb2QuaHRtbNIBAA\">AI- and Blood-Powered Gym Opens in New York: Continuum Club - Google News</a><br />\n",
      "150.<a href=\"https://news.google.com/articles/CBMidmh0dHBzOi8vd3d3LmhvbGx5d29vZHJlcG9ydGVyLmNvbS9idXNpbmVzcy9idXNpbmVzcy1uZXdzL3dyaXRlcnMtZ3VpbGQtb2YtY2FuYWRhLXZvdGVzLXRvLWF1dGhvcml6ZS1zdHJpa2UtMTIzNTg4MTI0NS_SAXpodHRwczovL3d3dy5ob2xseXdvb2RyZXBvcnRlci5jb20vYnVzaW5lc3MvYnVzaW5lc3MtbmV3cy93cml0ZXJzLWd1aWxkLW9mLWNhbmFkYS12b3Rlcy10by1hdXRob3JpemUtc3RyaWtlLTEyMzU4ODEyNDUvYW1wLw\">Writers Guild of Canada Overwhelmingly Votes to Authorize Strike Over AI, Fair Pay - Google News</a><br />\n",
      "151.<a href=\"https://www.livescience.com/archaeology/romans/platos-burial-place-finally-revealed-after-ai-deciphers-ancient-scroll-carbonized-in-mount-vesuvius-eruption\">Plato's burial place finally revealed after AI deciphers ancient scroll carbonized in Mount Vesuvius eruption - Feedly AI</a><br />\n",
      "\n"
     ]
    }
   ],
   "source": [
    "print(html_str)"
   ]
  },
  {
   "cell_type": "code",
   "execution_count": 48,
   "id": "eb726395",
   "metadata": {},
   "outputs": [],
   "source": [
    "# send mail\n",
    "# credentials\n",
    "gmail_user = os.getenv(\"GMAIL_USER\")\n",
    "gmail_password = os.getenv(\"GMAIL_PASSWORD\")\n",
    "\n",
    "# Email content\n",
    "from_addr = gmail_user\n",
    "to_addr = 'drucev@gmail.com'\n",
    "subject = f'AI news' + datetime.now().strftime('%H:%M:%S')\n",
    "body = f\"\"\"\n",
    "<html>\n",
    "    <head></head>\n",
    "    <body>\n",
    "    <div>\n",
    "    {html_str}\n",
    "    </div>\n",
    "    </body>\n",
    "</html>\n",
    "\"\"\"\n",
    "\n",
    "# Setup the MIME\n",
    "message = MIMEMultipart()\n",
    "message['From'] = from_addr\n",
    "message['To'] = to_addr\n",
    "message['Subject'] = subject\n",
    "message.attach(MIMEText(body, 'html'))\n",
    "\n",
    "# Create SMTP session\n",
    "with smtplib.SMTP('smtp.gmail.com', 587) as server:\n",
    "    server.starttls()  # Secure the connection\n",
    "    server.login(gmail_user, gmail_password)\n",
    "    text = message.as_string()\n",
    "    server.sendmail(from_addr, to_addr, text)\n"
   ]
  },
  {
   "cell_type": "markdown",
   "id": "9db29674-d7bb-438d-a1c2-b35547ba9796",
   "metadata": {},
   "source": [
    "# Load posts from BlueSky and format for Substack or a blog post\n",
    "for now I share the interesting stuff on bluesky and then use this code to grab latest BlueSky 'tweets' and format a [Substack post](https://skynetandchill.com)"
   ]
  },
  {
   "cell_type": "code",
   "execution_count": null,
   "id": "a64411df-424d-4fe1-a1ef-2484346fa856",
   "metadata": {},
   "outputs": [],
   "source": [
    "client = Client(base_url='https://bsky.social')\n",
    "client.login(os.environ['BSKY_USERNAME'], os.environ['BSKY_SECRET'])\n",
    "\n",
    "mydid = {\"did\":\"did:plc:qomkdnxrqw3gkbytdxea5z65\"}\n",
    "\n",
    "data = client.get_author_feed(\n",
    "    actor=mydid['did'],\n",
    "    filter='posts_and_author_threads',\n",
    "    limit=50,\n",
    ")\n"
   ]
  },
  {
   "cell_type": "code",
   "execution_count": null,
   "id": "d2f0a047",
   "metadata": {},
   "outputs": [],
   "source": [
    "def remove_urls(text):\n",
    "    # Regular expression to match URLs\n",
    "    url_pattern = r'https?://\\S+|www\\.\\S+'\n",
    "    # Substitute found URLs with an empty string\n",
    "    clean_text = re.sub(url_pattern, '', text)\n",
    "    return clean_text\n",
    "\n"
   ]
  },
  {
   "cell_type": "code",
   "execution_count": null,
   "id": "3d723127",
   "metadata": {},
   "outputs": [],
   "source": [
    "def rawfetchurl(url, timeout=60):\n",
    "    \"\"\"get url using requests with specified timeout. return response object, status, content-type\"\"\"\n",
    "    try:\n",
    "        response = requests.get(url, timeout=timeout)\n",
    "    except httplib.BadStatusLine:\n",
    "        print(\"Bad response (?) fetching url %s \" % url)\n",
    "        response = None\n",
    "    except requests.Timeout:\n",
    "        print(\"Timeout fetching url %s \" % url)\n",
    "        response = None\n",
    "    except requests.ConnectionError as e:\n",
    "        print(\"Connection error (%s) fetching url %s \" % (str(e), url))\n",
    "        response = None\n",
    "    except requests.TooManyRedirects:\n",
    "        print(\"Too many redirects fetching url %s \" % url)\n",
    "        response = None\n",
    "    except requests.exceptions.MissingSchema:\n",
    "        print(\"Missing schema url %s \" % url)\n",
    "        response = None\n",
    "    except requests.exceptions.InvalidSchema:\n",
    "        print(\"Invalid schema url %s \" % url)\n",
    "        response = None\n",
    "    except requests.exceptions.InvalidURL as e:\n",
    "        print(\"Invalid url %s, %s\" % (url, str(e)))\n",
    "        response = None\n",
    "    except ValueError as e:\n",
    "        # don't log url because possibly malformed url\n",
    "        print(\"ValueError, url ?: ? \")\n",
    "        response = None\n",
    "    except httplib.IncompleteRead as e:\n",
    "        print(\"IncompleteRead, url %s: %s \" % (url, str(e)))\n",
    "        response = None\n",
    "    except urllib3.exceptions.SSLError as e:\n",
    "        print(\"SSLError, url %s: %s \" % (url, str(e)))\n",
    "        response = None\n",
    "    except requests.exceptions.ContentDecodingError as e:\n",
    "        print(\"SSLError, url %s: %s \" % (url, str(e)))\n",
    "        response = None\n",
    "    except requests.exceptions.ChunkedEncodingError as e:\n",
    "        print(\"ChunkedEncodingError, url %s: %s \" % (url, str(e)))\n",
    "        response = None\n",
    "    except UnicodeEncodeError as e:\n",
    "        print(\"UnicodeEncodeError, url %s: %s \" % (url, str(e)))\n",
    "        response = None\n",
    "    except OpenSSL.SSL.SysCallError as e:\n",
    "        print(\"OpenSSL.SSL.SysCallError, url %s: %s \" % (url, str(e)))\n",
    "        response = -1\n",
    "    except OpenSSL.SSL.ZeroReturnError as e:\n",
    "        print(\"OpenSSL.SSL.ZeroReturnError, url %s: %s \" % (url, str(e)))\n",
    "        response = -1\n",
    "\n",
    "    # except requests.packages.urllib3.exceptions.DecodeError as e:\n",
    "    #     utilLog(\"DecodeError, url %s: %s \" % (url, str(e)))\n",
    "    #     response = None\n",
    "\n",
    "    return response\n",
    "\n",
    "\n",
    "imgurl = 'https://nypost.com/wp-content/uploads/sites/2/2024/02/nate-silver-calls-shut-gemini-77192719.jpg?quality=75&strip=all&w=1024'\n",
    "r = rawfetchurl(imgurl)"
   ]
  },
  {
   "cell_type": "code",
   "execution_count": null,
   "id": "ac3c09d9",
   "metadata": {},
   "outputs": [],
   "source": [
    "\n",
    "# #         impath = \"%s/%d.%s\" % (today_orig_dir, actualurl.id, file_ext)\n",
    "# impath = 'x.jpg'\n",
    "# with open(impath, 'wb') as file:\n",
    "#     file.write(r.content)\n",
    "\n",
    "# display(IPython.display.Image(filename=impath))\n"
   ]
  },
  {
   "cell_type": "code",
   "execution_count": null,
   "id": "da3e11a1",
   "metadata": {},
   "outputs": [],
   "source": [
    "\n",
    "# def resize_and_crop(image_path, output_path, size=(360, 360)):\n",
    "#     # Open the image\n",
    "#     image = PIL.Image.open(image_path)\n",
    "\n",
    "#     # Calculate the aspect ratio\n",
    "#     aspect_ratio = image.width / image.height\n",
    "#     target_aspect_ratio = size[0] / size[1]\n",
    "\n",
    "#     # Determine the scaling factor and new size\n",
    "#     if aspect_ratio > target_aspect_ratio:\n",
    "#         # Image is wider than desired aspect ratio\n",
    "#         new_height = size[1]\n",
    "#         new_width = int(new_height * aspect_ratio)\n",
    "#     else:\n",
    "#         # Image is taller than desired aspect ratio\n",
    "#         new_width = size[0]\n",
    "#         new_height = int(new_width / aspect_ratio)\n",
    "\n",
    "#     # Resize the image\n",
    "#     image = image.resize((new_width, new_height))\n",
    "\n",
    "#     # Calculate coordinates to crop the image to the target size\n",
    "#     left = (new_width - size[0]) / 2\n",
    "#     top = (new_height - size[1]) / 2\n",
    "#     right = (new_width + size[0]) / 2\n",
    "#     bottom = (new_height + size[1]) / 2\n",
    "\n",
    "#     # Crop the image\n",
    "#     image = image.crop((left, top, right, bottom))\n",
    "\n",
    "#     # Save the cropped image\n",
    "#     image.save(output_path)\n",
    "\n",
    "def resize_and_crop(input_image_path, output_image_path, desired_height=240):\n",
    "    # Load the image\n",
    "    with Image.open(input_image_path) as img:\n",
    "        img = img.convert('RGB')\n",
    "\n",
    "        # Calculate the new width maintaining the aspect ratio\n",
    "        aspect_ratio = img.width / img.height\n",
    "        new_width = int(desired_height * aspect_ratio)\n",
    "\n",
    "        # Resize the image\n",
    "        resized_img = img.resize((new_width, desired_height))\n",
    "\n",
    "        # Save the resized image\n",
    "        resized_img.save(output_image_path)\n",
    "\n",
    "# output_path = 'square.jpg'\n",
    "# resize_and_crop(impath, output_path)\n",
    "# display(IPython.display.Image(filename=output_path))\n"
   ]
  },
  {
   "cell_type": "code",
   "execution_count": null,
   "id": "20ff6485",
   "metadata": {},
   "outputs": [],
   "source": [
    "# attempt to remove traiing inline URLs\n",
    "\n",
    "def truncate_last_occurrence(text: str) -> str:\n",
    "    # Find the last occurrence of a space followed by any sequence of characters followed by 3 periods\n",
    "    pattern = r'\\s+\\S+\\.{3}$'\n",
    "    return re.sub(pattern, '', text)\n",
    "\n",
    "# Example text for testing\n",
    "\n",
    "example_text = \"\"\"Elon Musk says we'll run out of power capacity to run all the AI chips in 2025\n",
    "newatlas.com/technology/e...\"\"\"\n",
    "\n",
    "# Truncate the last occurrence\n",
    "print(truncate_last_occurrence(example_text))\n",
    "\n"
   ]
  },
  {
   "cell_type": "code",
   "execution_count": null,
   "id": "03fe49dc",
   "metadata": {},
   "outputs": [],
   "source": [
    "\n",
    "# for post in data.feed:\n",
    "#     post_str = post.post.record.text.rstrip()\n",
    "#     post_str = truncate_last_occurrence(post_str)\n",
    "#     post_url = \"\"\n",
    "#     try:\n",
    "#         post_url = post.post.record.embed.external.uri.rstrip()\n",
    "#     except:\n",
    "#         pass\n",
    "\n",
    "#     print(remove_urls(post_str))\n",
    "#     print(post_url)\n",
    "#     print()\n"
   ]
  },
  {
   "cell_type": "code",
   "execution_count": null,
   "id": "f78d8382",
   "metadata": {},
   "outputs": [],
   "source": [
    "# for i, post in enumerate(data.feed):\n",
    "#     post_str = post.post.record.text.rstrip()\n",
    "#     post_str = truncate_last_occurrence(post_str)\n",
    "#     post_url = \"\"\n",
    "#     tag_dict = {}\n",
    "#     try:\n",
    "#         post_url = post.post.record.embed.external.uri.rstrip()\n",
    "#     except:\n",
    "#         pass\n",
    "#     if post_url:\n",
    "#         tag_dict = get_og_tags(post_url)\n",
    "#         display_str = f\"[{post_str}]({post_url})\"\n",
    "#         site_name = tag_dict.get('og:site_name')\n",
    "#         img_url = tag_dict.get('og:image')\n",
    "#         if site_name:\n",
    "#             display_str += f\" - {site_name}\"\n",
    "#         if img_url:\n",
    "#             try:\n",
    "#                 r = rawfetchurl(img_url)\n",
    "#                 content_type = r.headers['Content-Type']\n",
    "#                 content_type = content_type[content_type.find('/')+1:]\n",
    "#                 impath = f\"source{i}.{content_type}\"\n",
    "#                 with open(impath, 'wb') as file:\n",
    "#                     file.write(r.content)\n",
    "#                 output_path = f'Image{i}.jpg'\n",
    "#                 resize_and_crop(impath, output_path)\n",
    "#                 display(IPython.display.Image(filename=output_path))\n",
    "#             except Exception as e:\n",
    "#                 print(e)\n",
    "#         display(Markdown(display_str))\n",
    "#     else:\n",
    "#         display(Markdown(f\"{post_str}\"))\n"
   ]
  },
  {
   "cell_type": "code",
   "execution_count": null,
   "id": "026679ea",
   "metadata": {},
   "outputs": [],
   "source": [
    "imgdir = 'tmp'  # for images\n",
    "delete_files(imgdir)\n",
    "\n",
    "display(Markdown(f\"Follow the latest AI headlines via [SkynetAndChill.com on Bluesky](https://bsky.app/profile/skynetandchill.com)\"))\n",
    "\n",
    "\n",
    "for i, post in enumerate(data.feed):\n",
    "    post_str = post.post.record.text.rstrip()\n",
    "    post_str = truncate_last_occurrence(post_str)\n",
    "    post_url = \"\"\n",
    "    tag_dict = {}\n",
    "    try:\n",
    "        post_url = post.post.record.embed.external.uri.rstrip()\n",
    "    except:\n",
    "        pass\n",
    "    if post_url:\n",
    "        tag_dict = get_og_tags(post_url)\n",
    "        display_str = f\"[{post_str}]({post_url})\"\n",
    "        site_name = tag_dict.get('og:site_name')\n",
    "        img_url = tag_dict.get('og:image')\n",
    "        if site_name:\n",
    "            display_str += f\" - {site_name}\"\n",
    "\n",
    "        display_str = display_str.replace(\"$\", \"\\\\\\$\")  # so Markdown doesn't interpret $ as latex escape\n",
    "        if img_url:\n",
    "            try:\n",
    "                r = rawfetchurl(img_url)\n",
    "                content_type = r.headers['Content-Type']\n",
    "                content_type = content_type[content_type.find('/')+1:]\n",
    "                impath = f\"{imgdir}/source{i}.{content_type}\"\n",
    "                with open(impath, 'wb') as file:\n",
    "                    file.write(r.content)\n",
    "                output_path = f'{imgdir}/Image{i}.jpg'\n",
    "                resize_and_crop(impath, output_path)\n",
    "                display(IPython.display.Image(filename=output_path))\n",
    "            except Exception as e:\n",
    "                print(e)\n",
    "        display(Markdown(display_str))\n",
    "        display(Markdown(\"___\"))\n",
    "\n",
    "    else:\n",
    "        display(Markdown(f\"{post_str}\"))"
   ]
  },
  {
   "cell_type": "code",
   "execution_count": null,
   "id": "b2206e03",
   "metadata": {},
   "outputs": [],
   "source": [
    "data.feed[0].post.record.embed.external.thumb.dict()"
   ]
  },
  {
   "cell_type": "code",
   "execution_count": null,
   "id": "e22a81b1",
   "metadata": {},
   "outputs": [],
   "source": [
    "data.feed[0].post.record.embed.dict()"
   ]
  },
  {
   "cell_type": "code",
   "execution_count": null,
   "id": "cd45e02f",
   "metadata": {},
   "outputs": [],
   "source": [
    "print(datetime.now())"
   ]
  },
  {
   "cell_type": "code",
   "execution_count": null,
   "id": "7c6f2b8e",
   "metadata": {},
   "outputs": [],
   "source": [
    "# conn = sqlite3.connect('articles.db')\n",
    "\n",
    "# c = conn.cursor()\n",
    "# c.execute(\"delete from news_articles where article_date > '2024-04-20'\")\n",
    "\n",
    "# # Committing the changes\n",
    "# conn.commit()\n",
    "\n",
    "# # Closing the connection\n",
    "# conn.close()\n",
    "\n"
   ]
  },
  {
   "cell_type": "code",
   "execution_count": null,
   "id": "c140ba45-e82b-4c4d-98b5-76169587e58f",
   "metadata": {},
   "outputs": [],
   "source": [
    "data"
   ]
  },
  {
   "cell_type": "code",
   "execution_count": null,
   "id": "0926aba0",
   "metadata": {},
   "outputs": [],
   "source": []
  }
 ],
 "metadata": {
  "kernelspec": {
   "display_name": "ainewsbot",
   "language": "python",
   "name": "ainewsbot"
  },
  "language_info": {
   "codemirror_mode": {
    "name": "ipython",
    "version": 3
   },
   "file_extension": ".py",
   "mimetype": "text/x-python",
   "name": "python",
   "nbconvert_exporter": "python",
   "pygments_lexer": "ipython3",
   "version": "3.9.19"
  }
 },
 "nbformat": 4,
 "nbformat_minor": 5
}
