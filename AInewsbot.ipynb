{
 "cells": [
  {
   "cell_type": "markdown",
   "id": "cd15f6b8-26b9-468c-8427-9de836b240fd",
   "metadata": {},
   "source": [
    "AInewsbot.ipynb\n",
    "\n",
    "- Automate collecting daily AI news\n",
    "- Open URLs of news sites specififed in `sources` dict (sources.yaml) using Selenium and Firefox\n",
    "- Save HTML of each URL in htmldata directory\n",
    "- Extract URLs from all files, create a pandas dataframe with url, title, src\n",
    "- Use ChatGPT to filter only AI-related headlines by sending a prompt and formatted table of headlines\n",
    "- Use SQLite to filter headlines previously seen \n",
    "- OPENAI_API_KEY should be in the environment or in a .env file\n",
    "  \n",
    "Alternative manual workflow to get HTML files if necessary\n",
    "- Use Chrome, open e.g. Tech News bookmark folder, right-click and open all bookmarks in new window\n",
    "- on Google News, make sure switch to AI tab\n",
    "- on Google News, Feedly, Reddit, scroll to additional pages as desired\n",
    "- Use SingleFile extension, 'save all tabs'\n",
    "- Move files to htmldata directory\n",
    "- Run lower part of notebook to process the data\n"
   ]
  },
  {
   "cell_type": "markdown",
   "id": "b986568e",
   "metadata": {},
   "source": [
    "1. initialize\n",
    "2. fetch web pages\n",
    "3. parse news story urls from web pages\n",
    "4. filter headlines by relevance, not previously seen\n",
    "5. perform topic analysis on headlines, and ordering by topic\n",
    "6. summarize individual pages as bullet points\n",
    "7. from bullet points, extract top 10 most common themes and stories of the day in order of importance\n",
    "8. topic analysis of bullet points, categorize bullet points as belonging to particular themes\n",
    "9. for each theme, make a summary and links. Here we want to iterate to improve summaries per specific criteria.\n",
    "10. combine themes and send."
   ]
  },
  {
   "cell_type": "code",
   "execution_count": null,
   "id": "9663d0b2",
   "metadata": {},
   "outputs": [],
   "source": [
    "# import sys\n",
    "# del sys.modules['ainb_const']\n"
   ]
  },
  {
   "cell_type": "code",
   "execution_count": 1,
   "id": "d7195880-36be-4987-b71f-86590c934d72",
   "metadata": {},
   "outputs": [],
   "source": [
    "from datetime import datetime\n",
    "import os\n",
    "import yaml\n",
    "import dotenv\n",
    "import sqlite3\n",
    "import unicodedata\n",
    "import json\n",
    "import pickle\n",
    "from collections import Counter\n",
    "\n",
    "import numpy as np\n",
    "import pandas as pd\n",
    "import umap\n",
    "# import matplotlib.pyplot as plt\n",
    "from sklearn.cluster import KMeans\n",
    "from sklearn.metrics import silhouette_score\n",
    "from sklearn.cluster import DBSCAN\n",
    "\n",
    "# import bs4\n",
    "from bs4 import BeautifulSoup\n",
    "import requests\n",
    "from urllib.parse import urljoin, urlparse\n",
    "\n",
    "import multiprocessing\n",
    "from concurrent.futures import ThreadPoolExecutor, as_completed\n",
    "import asyncio\n",
    "import aiohttp\n",
    "\n",
    "from IPython.display import HTML, Image, Markdown, display\n",
    "import markdown\n",
    "\n",
    "import smtplib\n",
    "from email.mime.multipart import MIMEMultipart\n",
    "from email.mime.text import MIMEText\n",
    "\n",
    "from openai import OpenAI\n",
    "\n",
    "from ainb_const import (DOWNLOAD_DIR, LOWCOST_MODEL, MODEL,\n",
    "                        SOURCECONFIG, FILTER_PROMPT, TOPIC_PROMPT,\n",
    "                        SUMMARIZE_SYSTEM_PROMPT, SUMMARIZE_USER_PROMPT, FINAL_SUMMARY_PROMPT, TOP_CATEGORIES_PROMPT,\n",
    "                        MAX_INPUT_TOKENS, MAX_OUTPUT_TOKENS, MAX_RETRIES, TEMPERATURE)\n",
    "from ainb_utilities import (log, delete_files, filter_unseen_urls_db, insert_article, \n",
    "                            nearest_neighbor_sort, agglomerative_cluster_sort, traveling_salesman_sort_scipy,\n",
    "                            send_gmail)\n",
    "from ainb_webscrape import (get_driver, quit_drivers, launch_drivers, get_file, get_url, parse_file, \n",
    "                            get_og_tags, get_path_from_url, trimmed_href, process_source_queue_factory, \n",
    "                            process_url_queue_factory, DRIVERS)\n",
    "from ainb_llm import paginate_df, process_pages, fetch_pages, fetch_openai, fetch_all_summaries, fetch_openai_summary, trunc_tokens\n",
    "\n",
    "\n",
    "import asyncio\n",
    "# need this to run async in jupyter since it already has an asyncio event loop running\n",
    "import nest_asyncio\n",
    "nest_asyncio.apply()\n"
   ]
  },
  {
   "cell_type": "markdown",
   "id": "3427af54",
   "metadata": {},
   "source": [
    "# Initialize"
   ]
  },
  {
   "cell_type": "code",
   "execution_count": 2,
   "id": "d2950cda",
   "metadata": {},
   "outputs": [],
   "source": [
    "# OpenAI API module\n",
    "client = OpenAI()\n",
    "\n",
    "# Or can use REST API directly\n",
    "API_URL = 'https://api.openai.com/v1/chat/completions'\n",
    "\n",
    "headers = {\n",
    "    'Content-Type': 'application/json',\n",
    "    'Authorization': f'Bearer {os.getenv(\"OPENAI_API_KEY\")}',\n",
    "}\n"
   ]
  },
  {
   "cell_type": "code",
   "execution_count": 3,
   "id": "c2324ab9-f769-4a6f-aa16-a30a001ede78",
   "metadata": {},
   "outputs": [
    {
     "name": "stderr",
     "output_type": "stream",
     "text": [
      "2024-07-08 08:54:03,999 - AInewsbot - INFO - Load 17 sources from sources.yaml\n",
      "2024-07-08 08:54:04,001 - AInewsbot - INFO - Ars Technica -> https://arstechnica.com/ -> Ars Technica.html\n",
      "2024-07-08 08:54:04,001 - AInewsbot - INFO - Bloomberg Tech -> https://www.bloomberg.com/technology -> Bloomberg Technology - Bloomberg.html\n",
      "2024-07-08 08:54:04,001 - AInewsbot - INFO - Business Insider -> https://www.businessinsider.com/tech -> Tech - Business Insider.html\n",
      "2024-07-08 08:54:04,002 - AInewsbot - INFO - FT Tech -> https://www.ft.com/technology -> Technology.html\n",
      "2024-07-08 08:54:04,002 - AInewsbot - INFO - Feedly AI -> https://feedly.com/i/aiFeeds?options=eyJsYXllcnMiOlt7InBhcnRzIjpbeyJpZCI6Im5scC9mL3RvcGljLzMwMDAifV0sInNlYXJjaEhpbnQiOiJ0ZWNobm9sb2d5IiwidHlwZSI6Im1hdGNoZXMiLCJzYWxpZW5jZSI6ImFib3V0In1dLCJidW5kbGVzIjpbeyJ0eXBlIjoic3RyZWFtIiwiaWQiOiJ1c2VyLzYyZWViYjlmLTcxNTEtNGY5YS1hOGM3LTlhNTdiODIwNTMwOC9jYXRlZ29yeS9HYWRnZXRzIn1dfQ -> Discover and Add New Feedly AI Feeds.html\n",
      "2024-07-08 08:54:04,002 - AInewsbot - INFO - Google News -> https://news.google.com/topics/CAAqJggKIiBDQkFTRWdvSUwyMHZNRGRqTVhZU0FtVnVHZ0pWVXlnQVAB?hl=en-US&gl=US&ceid=US%3Aen -> Google News - Technology - Artificial intelligence.html\n",
      "2024-07-08 08:54:04,002 - AInewsbot - INFO - Hacker News -> https://news.ycombinator.com/ -> Hacker News Page 1.html\n",
      "2024-07-08 08:54:04,003 - AInewsbot - INFO - Hacker News 2 -> https://news.ycombinator.com/?p=2 -> Hacker News Page 2.html\n",
      "2024-07-08 08:54:04,003 - AInewsbot - INFO - HackerNoon -> https://hackernoon.com/ -> HackerNoon - read, write and learn about any technology.html\n",
      "2024-07-08 08:54:04,003 - AInewsbot - INFO - NYT Tech -> https://www.nytimes.com/section/technology -> Technology - The New York Times.html\n",
      "2024-07-08 08:54:04,003 - AInewsbot - INFO - Reddit -> https://www.reddit.com/r/ChatGPT+ChatGPTCoding+MacOS+MachineLearning+OpenAI+ProgrammerHumor+Windows10+battlestations+buildapc+cordcutters+dataisbeautiful+gadgets+hardware+linux+msp+programming+realtech+software+talesfromtechsupport+tech+technews+technology+techsupportgore+windows/top/?sort=top&t=day -> top scoring links _ multi.html\n",
      "2024-07-08 08:54:04,004 - AInewsbot - INFO - Techmeme -> https://www.techmeme.com/river -> Techmeme.html\n",
      "2024-07-08 08:54:04,004 - AInewsbot - INFO - The Register -> https://www.theregister.com/ -> The Register_ Enterprise Technology News and Analysis.html\n",
      "2024-07-08 08:54:04,004 - AInewsbot - INFO - The Verge -> https://www.theverge.com/ai-artificial-intelligence -> Artificial Intelligence - The Verge.html\n",
      "2024-07-08 08:54:04,004 - AInewsbot - INFO - VentureBeat -> https://venturebeat.com/category/ai/ -> AI News _ VentureBeat.html\n",
      "2024-07-08 08:54:04,005 - AInewsbot - INFO - WSJ Tech -> https://www.wsj.com/tech -> Technology - WSJ.com.html\n",
      "2024-07-08 08:54:04,005 - AInewsbot - INFO - WaPo Tech -> https://www.washingtonpost.com/business/technology/ -> Technology - The Washington Post.html\n",
      "2024-07-08 08:54:04,005 - AInewsbot - INFO - Mapped 17 source page titles to sources\n"
     ]
    },
    {
     "data": {
      "text/plain": [
       "20"
      ]
     },
     "execution_count": 3,
     "metadata": {},
     "output_type": "execute_result"
    }
   ],
   "source": [
    "#  load sources to scrape from sources.yaml\n",
    "with open(SOURCECONFIG, \"r\") as stream:\n",
    "    try:\n",
    "        sources = yaml.safe_load(stream)\n",
    "    except yaml.YAMLError as exc:\n",
    "        print(exc)\n",
    "\n",
    "log(f\"Load {len(sources)} sources from {SOURCECONFIG}\")\n",
    "\n",
    "# make a reverse dict to map output file titles to source names\n",
    "sources_reverse = {}\n",
    "for k, v in sources.items():\n",
    "    log(f\"{k} -> {v['url']} -> {v['title']}.html\")\n",
    "    v['sourcename'] = k\n",
    "    # map filename (title) to source name\n",
    "    sources_reverse[v['title']] = k\n",
    "\n",
    "log(f\"Mapped {len(sources_reverse)} source page titles to sources\")\n"
   ]
  },
  {
   "cell_type": "code",
   "execution_count": 4,
   "id": "85998de4",
   "metadata": {},
   "outputs": [
    {
     "data": {
      "text/plain": [
       "{'Ars Technica': {'include': ['^https://arstechnica.com/(\\\\w+)/(\\\\d+)/(\\\\d+)/'],\n",
       "  'title': 'Ars Technica',\n",
       "  'url': 'https://arstechnica.com/',\n",
       "  'sourcename': 'Ars Technica'},\n",
       " 'Bloomberg Tech': {'include': ['^https://www.bloomberg.com/news/'],\n",
       "  'title': 'Bloomberg Technology - Bloomberg',\n",
       "  'url': 'https://www.bloomberg.com/technology',\n",
       "  'sourcename': 'Bloomberg Tech'},\n",
       " 'Business Insider': {'exclude': ['^https://www.insider.com',\n",
       "   '^https://www.passionfroot.me'],\n",
       "  'title': 'Tech - Business Insider',\n",
       "  'url': 'https://www.businessinsider.com/tech',\n",
       "  'sourcename': 'Business Insider'},\n",
       " 'FT Tech': {'include': ['https://www.ft.com/content/'],\n",
       "  'title': 'Technology',\n",
       "  'url': 'https://www.ft.com/technology',\n",
       "  'sourcename': 'FT Tech'},\n",
       " 'Feedly AI': {'exclude': ['^https://feedly.com',\n",
       "   '^https://s1.feedly.com',\n",
       "   '^https://blog.feedly.com'],\n",
       "  'scroll': 5,\n",
       "  'initial_sleep': 30,\n",
       "  'title': 'Discover and Add New Feedly AI Feeds',\n",
       "  'url': 'https://feedly.com/i/aiFeeds?options=eyJsYXllcnMiOlt7InBhcnRzIjpbeyJpZCI6Im5scC9mL3RvcGljLzMwMDAifV0sInNlYXJjaEhpbnQiOiJ0ZWNobm9sb2d5IiwidHlwZSI6Im1hdGNoZXMiLCJzYWxpZW5jZSI6ImFib3V0In1dLCJidW5kbGVzIjpbeyJ0eXBlIjoic3RyZWFtIiwiaWQiOiJ1c2VyLzYyZWViYjlmLTcxNTEtNGY5YS1hOGM3LTlhNTdiODIwNTMwOC9jYXRlZ29yeS9HYWRnZXRzIn1dfQ',\n",
       "  'sourcename': 'Feedly AI'},\n",
       " 'Google News': {'click': '//*[@aria-label=\"Artificial intelligence\"]',\n",
       "  'include': ['^https://news.google.com/articles/'],\n",
       "  'scroll': 2,\n",
       "  'title': 'Google News - Technology - Artificial intelligence',\n",
       "  'url': 'https://news.google.com/topics/CAAqJggKIiBDQkFTRWdvSUwyMHZNRGRqTVhZU0FtVnVHZ0pWVXlnQVAB?hl=en-US&gl=US&ceid=US%3Aen',\n",
       "  'sourcename': 'Google News'},\n",
       " 'Hacker News': {'exclude': ['https://news.ycombinator.com/',\n",
       "   'https://www.ycombinator.com/'],\n",
       "  'title': 'Hacker News Page 1',\n",
       "  'url': 'https://news.ycombinator.com/',\n",
       "  'minlength': 5,\n",
       "  'sourcename': 'Hacker News'},\n",
       " 'Hacker News 2': {'exclude': ['https://news.ycombinator.com',\n",
       "   'https://www.ycombinator.com'],\n",
       "  'title': 'Hacker News Page 2',\n",
       "  'url': 'https://news.ycombinator.com/?p=2',\n",
       "  'sourcename': 'Hacker News 2'},\n",
       " 'HackerNoon': {'exclude': ['^https://hackernoon.com/$',\n",
       "   '^https://hackernoon.com/c$',\n",
       "   '^https://hackernoon.com/coins$',\n",
       "   '^https://hackernoon.com/companies$',\n",
       "   '^https://hackernoon.com/gallery$',\n",
       "   '^https://hackernoon.com/how-to-gain-followers-and-newsletter-subs-directly-on-hackernoon$',\n",
       "   '^https://hackernoon.com/login$',\n",
       "   '^https://hackernoon.com/reader-boot$',\n",
       "   '^https://hackernoon.com/sitemap.xml$',\n",
       "   '^https://hackernoon.com/startups$',\n",
       "   '^https://hackernoon.com/techbeat$',\n",
       "   '^https://hackernoon.com/why-i-write-on-hacker-noon-nl28335q$',\n",
       "   '^https://hackernoon.com/writer-signup$'],\n",
       "  'title': 'HackerNoon - read, write and learn about any technology',\n",
       "  'url': 'https://hackernoon.com/',\n",
       "  'sourcename': 'HackerNoon'},\n",
       " 'NYT Tech': {'include': ['^https://www.nytimes.com/(\\\\d+)/(\\\\d+)/(\\\\d+)/'],\n",
       "  'title': 'Technology - The New York Times',\n",
       "  'url': 'https://www.nytimes.com/section/technology',\n",
       "  'sourcename': 'NYT Tech'},\n",
       " 'Reddit': {'exclude': ['^https://chat.reddit.com/',\n",
       "   '^https://i.redd.it/',\n",
       "   '^https://redditblog.com/',\n",
       "   '^https://www.redditinc.com/',\n",
       "   '^https://www.reddithelp.com/',\n",
       "   '^https://itunes.apple.com/',\n",
       "   '^https://play.google.com/'],\n",
       "  'scroll': 2,\n",
       "  'minlength': 8,\n",
       "  'title': 'top scoring links _ multi',\n",
       "  'url': 'https://www.reddit.com/r/ChatGPT+ChatGPTCoding+MacOS+MachineLearning+OpenAI+ProgrammerHumor+Windows10+battlestations+buildapc+cordcutters+dataisbeautiful+gadgets+hardware+linux+msp+programming+realtech+software+talesfromtechsupport+tech+technews+technology+techsupportgore+windows/top/?sort=top&t=day',\n",
       "  'sourcename': 'Reddit'},\n",
       " 'Techmeme': {'exclude': ['^https://www.techmeme.com',\n",
       "   '^https://twitter.com/',\n",
       "   '^https://www.threads.net',\n",
       "   '^https://www.linkedin.com',\n",
       "   '^https://mastodon.social',\n",
       "   '^https://bsky.app'],\n",
       "  'title': 'Techmeme',\n",
       "  'url': 'https://www.techmeme.com/river',\n",
       "  'sourcename': 'Techmeme'},\n",
       " 'The Register': {'include': ['^https://www.theregister.com/(\\\\d+)/(\\\\d+)/(\\\\d+)/'],\n",
       "  'title': 'The Register_ Enterprise Technology News and Analysis',\n",
       "  'url': 'https://www.theregister.com/',\n",
       "  'sourcename': 'The Register'},\n",
       " 'The Verge': {'include': ['^https://www.theverge.com/(\\\\d+)/(\\\\d+)/(\\\\d+)/(\\\\d+)/'],\n",
       "  'title': 'Artificial Intelligence - The Verge',\n",
       "  'url': 'https://www.theverge.com/ai-artificial-intelligence',\n",
       "  'sourcename': 'The Verge'},\n",
       " 'VentureBeat': {'title': 'AI News _ VentureBeat',\n",
       "  'url': 'https://venturebeat.com/category/ai/',\n",
       "  'sourcename': 'VentureBeat'},\n",
       " 'WSJ Tech': {'include': ['^https://www.wsj.com/articles/'],\n",
       "  'title': 'Technology - WSJ.com',\n",
       "  'url': 'https://www.wsj.com/tech',\n",
       "  'sourcename': 'WSJ Tech'},\n",
       " 'WaPo Tech': {'include': ['https://www.washingtonpost.com/(\\\\w+)/(\\\\d+)/(\\\\d+)/(\\\\d+)/'],\n",
       "  'title': 'Technology - The Washington Post',\n",
       "  'url': 'https://www.washingtonpost.com/business/technology/',\n",
       "  'sourcename': 'WaPo Tech'}}"
      ]
     },
     "execution_count": 4,
     "metadata": {},
     "output_type": "execute_result"
    }
   ],
   "source": [
    "sources"
   ]
  },
  {
   "cell_type": "code",
   "execution_count": 5,
   "id": "562f83b1-b4b8-4355-8b8b-4fe028ea2af8",
   "metadata": {},
   "outputs": [
    {
     "data": {
      "text/plain": [
       "{'Ars Technica': 'Ars Technica',\n",
       " 'Bloomberg Technology - Bloomberg': 'Bloomberg Tech',\n",
       " 'Tech - Business Insider': 'Business Insider',\n",
       " 'Technology': 'FT Tech',\n",
       " 'Discover and Add New Feedly AI Feeds': 'Feedly AI',\n",
       " 'Google News - Technology - Artificial intelligence': 'Google News',\n",
       " 'Hacker News Page 1': 'Hacker News',\n",
       " 'Hacker News Page 2': 'Hacker News 2',\n",
       " 'HackerNoon - read, write and learn about any technology': 'HackerNoon',\n",
       " 'Technology - The New York Times': 'NYT Tech',\n",
       " 'top scoring links _ multi': 'Reddit',\n",
       " 'Techmeme': 'Techmeme',\n",
       " 'The Register_ Enterprise Technology News and Analysis': 'The Register',\n",
       " 'Artificial Intelligence - The Verge': 'The Verge',\n",
       " 'AI News _ VentureBeat': 'VentureBeat',\n",
       " 'Technology - WSJ.com': 'WSJ Tech',\n",
       " 'Technology - The Washington Post': 'WaPo Tech'}"
      ]
     },
     "execution_count": 5,
     "metadata": {},
     "output_type": "execute_result"
    }
   ],
   "source": [
    "sources_reverse\n"
   ]
  },
  {
   "cell_type": "code",
   "execution_count": 10,
   "id": "2549cf13-0de6-47d2-b7a9-544b5099ff11",
   "metadata": {},
   "outputs": [
    {
     "name": "stderr",
     "output_type": "stream",
     "text": [
      "2024-07-08 12:51:57,396 - AInewsbot - INFO - 17\n",
      "2024-07-08 12:51:57,400 - AInewsbot - INFO - htmldata/Technology - The Washington Post (07_08_2024 08_51_30 AM).html\n",
      "2024-07-08 12:51:57,400 - AInewsbot - INFO - htmldata/Technology - WSJ.com (07_08_2024 08_51_28 AM).html\n",
      "2024-07-08 12:51:57,400 - AInewsbot - INFO - htmldata/AI News _ VentureBeat (07_08_2024 08_51_24 AM).html\n",
      "2024-07-08 12:51:57,400 - AInewsbot - INFO - htmldata/Discover and Add New Feedly AI Feeds (07_08_2024 08_51_18 AM).html\n",
      "2024-07-08 12:51:57,400 - AInewsbot - INFO - htmldata/top scoring links _ multi (07_08_2024 08_51_15 AM).html\n",
      "2024-07-08 12:51:57,400 - AInewsbot - INFO - htmldata/Artificial Intelligence - The Verge (07_08_2024 08_51_13 AM).html\n",
      "2024-07-08 12:51:57,401 - AInewsbot - INFO - htmldata/The Register_ Enterprise Technology News and Analysis (07_08_2024 08_51_02 AM).html\n",
      "2024-07-08 12:51:57,401 - AInewsbot - INFO - htmldata/Techmeme (07_08_2024 08_50_52 AM).html\n",
      "2024-07-08 12:51:57,401 - AInewsbot - INFO - htmldata/HackerNoon - read, write and learn about any technology (07_08_2024 08_50_40 AM).html\n",
      "2024-07-08 12:51:57,401 - AInewsbot - INFO - htmldata/Technology - The New York Times (07_08_2024 08_50_40 AM).html\n",
      "2024-07-08 12:51:57,402 - AInewsbot - INFO - htmldata/Google News - Technology - Artificial intelligence (07_08_2024 08_50_30 AM).html\n",
      "2024-07-08 12:51:57,402 - AInewsbot - INFO - htmldata/Hacker News Page 2 (07_08_2024 08_50_29 AM).html\n",
      "2024-07-08 12:51:57,402 - AInewsbot - INFO - htmldata/Hacker News Page 1 (07_08_2024 08_50_18 AM).html\n",
      "2024-07-08 12:51:57,402 - AInewsbot - INFO - htmldata/Technology (07_08_2024 08_50_08 AM).html\n",
      "2024-07-08 12:51:57,402 - AInewsbot - INFO - htmldata/Bloomberg Technology - Bloomberg (07_08_2024 08_49_58 AM).html\n",
      "2024-07-08 12:51:57,402 - AInewsbot - INFO - htmldata/Ars Technica (07_08_2024 08_49_57 AM).html\n",
      "2024-07-08 12:51:57,403 - AInewsbot - INFO - htmldata/Tech - Business Insider (07_08_2024 08_49_57 AM).html\n"
     ]
    }
   ],
   "source": [
    "# determine files already in htmldata directory\n",
    "# List all paths in the directory matching today's date\n",
    "nfiles = 50\n",
    "files = [os.path.join(DOWNLOAD_DIR, file)\n",
    "         for file in os.listdir(DOWNLOAD_DIR)]\n",
    "\n",
    "# Get the current date\n",
    "today = datetime.now()\n",
    "year, month, day = today.year, today.month, today.day\n",
    "datestr = datetime.now().strftime(\"%m_%d_%Y\")\n",
    "\n",
    "# filter files only\n",
    "files = [file for file in files if os.path.isfile(file)]\n",
    "\n",
    "# Sort files by modification time and take top 50\n",
    "files.sort(key=lambda x: os.path.getmtime(x), reverse=True)\n",
    "file = files[:nfiles]\n",
    "\n",
    "# filter files by with today's date ending in .html\n",
    "files = [\n",
    "    file for file in files if datestr in file and file.endswith(\".html\")]\n",
    "log(len(files))\n",
    "for file in files:\n",
    "    log(file)\n",
    "\n",
    "saved_pages = []\n",
    "for file in files:\n",
    "    filename = os.path.basename(file)\n",
    "    # locate date like '01_14_2024' in filename\n",
    "    position = filename.find(\" (\" + datestr)\n",
    "    basename = filename[:position]\n",
    "    # match to source name\n",
    "    sourcename = sources_reverse.get(basename)\n",
    "    if sourcename is None:\n",
    "        log(f\"Skipping {basename}, no sourcename metadata\")\n",
    "        continue\n",
    "    sources[sourcename]['latest'] = file\n",
    "    saved_pages.append((sourcename, file))"
   ]
  },
  {
   "cell_type": "markdown",
   "id": "a28e703b",
   "metadata": {},
   "source": [
    "# Fetch and save source pages"
   ]
  },
  {
   "cell_type": "code",
   "execution_count": null,
   "id": "40fb94c3-464b-43d7-a156-f965c4e6e409",
   "metadata": {},
   "outputs": [],
   "source": [
    "# Fetch HTML files from sources\n",
    "\n",
    "# empty download directory\n",
    "delete_files(DOWNLOAD_DIR)\n",
    "\n",
    "# save each file specified from sources\n",
    "num_browsers = 3\n",
    "log(f\"Saving HTML files using {num_browsers} browsers\")\n",
    "\n",
    "# Create a queue for multiprocessing and populate it \n",
    "queue = multiprocessing.Queue()\n",
    "for item in sources.values():\n",
    "    queue.put(item)\n",
    "    \n",
    "# Function to take the queue and pop entries off and process until none are left\n",
    "# lets you create an array of functions with different args\n",
    "callable = process_source_queue_factory(queue)\n",
    "\n",
    "saved_pages = launch_drivers(num_browsers, callable)\n"
   ]
  },
  {
   "cell_type": "code",
   "execution_count": null,
   "id": "3b5aa21a-7387-4e76-a17e-6b22544dd13a",
   "metadata": {},
   "outputs": [],
   "source": [
    "log(f\"Saved {len(saved_pages)} pages\")\n",
    "\n",
    "print(len(saved_pages))\n",
    "for sourcename, page in saved_pages:\n",
    "    sources[sourcename]['latest'] = page\n",
    "    log(\"{sourcename} -> {page}\")\n",
    "    "
   ]
  },
  {
   "cell_type": "markdown",
   "id": "07ec5ab0",
   "metadata": {},
   "source": [
    "# Extract news URLs from saved pages"
   ]
  },
  {
   "cell_type": "code",
   "execution_count": 11,
   "id": "3d4d797e-1d72-46a5-9242-1877c5754bda",
   "metadata": {},
   "outputs": [
    {
     "name": "stderr",
     "output_type": "stream",
     "text": [
      "2024-07-08 12:52:01,213 - AInewsbot - INFO - Parsing html files\n",
      "2024-07-08 12:52:01,215 - AInewsbot - INFO - WaPo Tech -> htmldata/Technology - The Washington Post (07_08_2024 08_51_30 AM).html\n",
      "2024-07-08 12:52:01,217 - AInewsbot - INFO - parse loop - WaPo Tech\n",
      "2024-07-08 12:52:01,288 - AInewsbot - INFO - parse_file - found 159 raw links\n",
      "2024-07-08 12:52:01,293 - AInewsbot - INFO - parse_file - found 19 filtered links\n",
      "2024-07-08 12:52:01,294 - AInewsbot - INFO - parse loop - 19 links found\n",
      "2024-07-08 12:52:01,294 - AInewsbot - INFO - WSJ Tech -> htmldata/Technology - WSJ.com (07_08_2024 08_51_28 AM).html\n",
      "2024-07-08 12:52:01,294 - AInewsbot - INFO - parse loop - WSJ Tech\n",
      "2024-07-08 12:52:01,335 - AInewsbot - INFO - parse_file - found 510 raw links\n",
      "2024-07-08 12:52:01,341 - AInewsbot - INFO - parse_file - found 8 filtered links\n",
      "2024-07-08 12:52:01,341 - AInewsbot - INFO - parse loop - 8 links found\n",
      "2024-07-08 12:52:01,341 - AInewsbot - INFO - VentureBeat -> htmldata/AI News _ VentureBeat (07_08_2024 08_51_24 AM).html\n",
      "2024-07-08 12:52:01,342 - AInewsbot - INFO - parse loop - VentureBeat\n",
      "2024-07-08 12:52:01,360 - AInewsbot - INFO - parse_file - found 326 raw links\n",
      "2024-07-08 12:52:01,364 - AInewsbot - INFO - parse_file - found 44 filtered links\n",
      "2024-07-08 12:52:01,364 - AInewsbot - INFO - parse loop - 44 links found\n",
      "2024-07-08 12:52:01,364 - AInewsbot - INFO - Feedly AI -> htmldata/Discover and Add New Feedly AI Feeds (07_08_2024 08_51_18 AM).html\n",
      "2024-07-08 12:52:01,364 - AInewsbot - INFO - parse loop - Feedly AI\n",
      "2024-07-08 12:52:01,396 - AInewsbot - INFO - parse_file - found 230 raw links\n",
      "2024-07-08 12:52:01,399 - AInewsbot - INFO - parse_file - found 70 filtered links\n",
      "2024-07-08 12:52:01,400 - AInewsbot - INFO - parse loop - 70 links found\n",
      "2024-07-08 12:52:01,400 - AInewsbot - INFO - Reddit -> htmldata/top scoring links _ multi (07_08_2024 08_51_15 AM).html\n",
      "2024-07-08 12:52:01,400 - AInewsbot - INFO - parse loop - Reddit\n",
      "2024-07-08 12:52:01,618 - AInewsbot - INFO - parse_file - found 551 raw links\n",
      "2024-07-08 12:52:01,626 - AInewsbot - INFO - parse_file - found 361 filtered links\n",
      "2024-07-08 12:52:01,626 - AInewsbot - INFO - parse loop - 361 links found\n",
      "2024-07-08 12:52:01,627 - AInewsbot - INFO - The Verge -> htmldata/Artificial Intelligence - The Verge (07_08_2024 08_51_13 AM).html\n",
      "2024-07-08 12:52:01,628 - AInewsbot - INFO - parse loop - The Verge\n",
      "2024-07-08 12:52:01,653 - AInewsbot - INFO - parse_file - found 323 raw links\n",
      "2024-07-08 12:52:01,657 - AInewsbot - INFO - parse_file - found 34 filtered links\n",
      "2024-07-08 12:52:01,657 - AInewsbot - INFO - parse loop - 34 links found\n",
      "2024-07-08 12:52:01,657 - AInewsbot - INFO - The Register -> htmldata/The Register_ Enterprise Technology News and Analysis (07_08_2024 08_51_02 AM).html\n",
      "2024-07-08 12:52:01,658 - AInewsbot - INFO - parse loop - The Register\n",
      "2024-07-08 12:52:01,674 - AInewsbot - INFO - parse_file - found 202 raw links\n",
      "2024-07-08 12:52:01,678 - AInewsbot - INFO - parse_file - found 90 filtered links\n",
      "2024-07-08 12:52:01,678 - AInewsbot - INFO - parse loop - 90 links found\n",
      "2024-07-08 12:52:01,678 - AInewsbot - INFO - Techmeme -> htmldata/Techmeme (07_08_2024 08_50_52 AM).html\n",
      "2024-07-08 12:52:01,678 - AInewsbot - INFO - parse loop - Techmeme\n",
      "2024-07-08 12:52:01,687 - AInewsbot - INFO - parse_file - found 194 raw links\n",
      "2024-07-08 12:52:01,690 - AInewsbot - INFO - parse_file - found 67 filtered links\n",
      "2024-07-08 12:52:01,690 - AInewsbot - INFO - parse loop - 67 links found\n",
      "2024-07-08 12:52:01,690 - AInewsbot - INFO - HackerNoon -> htmldata/HackerNoon - read, write and learn about any technology (07_08_2024 08_50_40 AM).html\n",
      "2024-07-08 12:52:01,690 - AInewsbot - INFO - parse loop - HackerNoon\n",
      "2024-07-08 12:52:01,744 - AInewsbot - INFO - parse_file - found 585 raw links\n",
      "2024-07-08 12:52:01,752 - AInewsbot - INFO - parse_file - found 99 filtered links\n",
      "2024-07-08 12:52:01,752 - AInewsbot - INFO - parse loop - 99 links found\n",
      "2024-07-08 12:52:01,752 - AInewsbot - INFO - NYT Tech -> htmldata/Technology - The New York Times (07_08_2024 08_50_40 AM).html\n",
      "2024-07-08 12:52:01,752 - AInewsbot - INFO - parse loop - NYT Tech\n",
      "2024-07-08 12:52:01,763 - AInewsbot - INFO - parse_file - found 73 raw links\n",
      "2024-07-08 12:52:01,764 - AInewsbot - INFO - parse_file - found 19 filtered links\n",
      "2024-07-08 12:52:01,764 - AInewsbot - INFO - parse loop - 19 links found\n",
      "2024-07-08 12:52:01,764 - AInewsbot - INFO - Google News -> htmldata/Google News - Technology - Artificial intelligence (07_08_2024 08_50_30 AM).html\n",
      "2024-07-08 12:52:01,764 - AInewsbot - INFO - parse loop - Google News\n",
      "2024-07-08 12:52:02,063 - AInewsbot - INFO - parse_file - found 948 raw links\n",
      "2024-07-08 12:52:02,069 - AInewsbot - INFO - parse_file - found 409 filtered links\n",
      "2024-07-08 12:52:02,069 - AInewsbot - INFO - parse loop - 409 links found\n",
      "2024-07-08 12:52:02,069 - AInewsbot - INFO - Hacker News 2 -> htmldata/Hacker News Page 2 (07_08_2024 08_50_29 AM).html\n",
      "2024-07-08 12:52:02,069 - AInewsbot - INFO - parse loop - Hacker News 2\n",
      "2024-07-08 12:52:02,080 - AInewsbot - INFO - parse_file - found 261 raw links\n",
      "2024-07-08 12:52:02,083 - AInewsbot - INFO - parse_file - found 24 filtered links\n",
      "2024-07-08 12:52:02,083 - AInewsbot - INFO - parse loop - 24 links found\n",
      "2024-07-08 12:52:02,083 - AInewsbot - INFO - Hacker News -> htmldata/Hacker News Page 1 (07_08_2024 08_50_18 AM).html\n",
      "2024-07-08 12:52:02,083 - AInewsbot - INFO - parse loop - Hacker News\n",
      "2024-07-08 12:52:02,094 - AInewsbot - INFO - parse_file - found 256 raw links\n",
      "2024-07-08 12:52:02,096 - AInewsbot - INFO - parse_file - found 27 filtered links\n",
      "2024-07-08 12:52:02,097 - AInewsbot - INFO - parse loop - 27 links found\n",
      "2024-07-08 12:52:02,097 - AInewsbot - INFO - FT Tech -> htmldata/Technology (07_08_2024 08_50_08 AM).html\n",
      "2024-07-08 12:52:02,097 - AInewsbot - INFO - parse loop - FT Tech\n",
      "2024-07-08 12:52:02,124 - AInewsbot - INFO - parse_file - found 461 raw links\n",
      "2024-07-08 12:52:02,129 - AInewsbot - INFO - parse_file - found 104 filtered links\n",
      "2024-07-08 12:52:02,129 - AInewsbot - INFO - parse loop - 104 links found\n",
      "2024-07-08 12:52:02,130 - AInewsbot - INFO - Bloomberg Tech -> htmldata/Bloomberg Technology - Bloomberg (07_08_2024 08_49_58 AM).html\n",
      "2024-07-08 12:52:02,130 - AInewsbot - INFO - parse loop - Bloomberg Tech\n",
      "2024-07-08 12:52:02,205 - AInewsbot - INFO - parse_file - found 285 raw links\n",
      "2024-07-08 12:52:02,209 - AInewsbot - INFO - parse_file - found 48 filtered links\n",
      "2024-07-08 12:52:02,209 - AInewsbot - INFO - parse loop - 48 links found\n",
      "2024-07-08 12:52:02,209 - AInewsbot - INFO - Ars Technica -> htmldata/Ars Technica (07_08_2024 08_49_57 AM).html\n",
      "2024-07-08 12:52:02,209 - AInewsbot - INFO - parse loop - Ars Technica\n",
      "2024-07-08 12:52:02,224 - AInewsbot - INFO - parse_file - found 252 raw links\n",
      "2024-07-08 12:52:02,226 - AInewsbot - INFO - parse_file - found 30 filtered links\n",
      "2024-07-08 12:52:02,227 - AInewsbot - INFO - parse loop - 30 links found\n",
      "2024-07-08 12:52:02,227 - AInewsbot - INFO - Business Insider -> htmldata/Tech - Business Insider (07_08_2024 08_49_57 AM).html\n",
      "2024-07-08 12:52:02,227 - AInewsbot - INFO - parse loop - Business Insider\n",
      "2024-07-08 12:52:02,248 - AInewsbot - INFO - parse_file - found 310 raw links\n",
      "2024-07-08 12:52:02,251 - AInewsbot - INFO - parse_file - found 50 filtered links\n",
      "2024-07-08 12:52:02,252 - AInewsbot - INFO - parse loop - 50 links found\n",
      "2024-07-08 12:52:02,252 - AInewsbot - INFO - parse loop - found 1503 links\n"
     ]
    },
    {
     "data": {
      "text/html": [
       "<div>\n",
       "<style scoped>\n",
       "    .dataframe tbody tr th:only-of-type {\n",
       "        vertical-align: middle;\n",
       "    }\n",
       "\n",
       "    .dataframe tbody tr th {\n",
       "        vertical-align: top;\n",
       "    }\n",
       "\n",
       "    .dataframe thead th {\n",
       "        text-align: right;\n",
       "    }\n",
       "</style>\n",
       "<table border=\"1\" class=\"dataframe\">\n",
       "  <thead>\n",
       "    <tr style=\"text-align: right;\">\n",
       "      <th></th>\n",
       "      <th>id</th>\n",
       "      <th>src</th>\n",
       "      <th>title</th>\n",
       "      <th>url</th>\n",
       "    </tr>\n",
       "  </thead>\n",
       "  <tbody>\n",
       "    <tr>\n",
       "      <th>0</th>\n",
       "      <td>0</td>\n",
       "      <td>Ars Technica</td>\n",
       "      <td>Swarm of dusty young stars found around our ga...</td>\n",
       "      <td>https://arstechnica.com/science/2024/07/swarm-...</td>\n",
       "    </tr>\n",
       "    <tr>\n",
       "      <th>1</th>\n",
       "      <td>1</td>\n",
       "      <td>Ars Technica</td>\n",
       "      <td>Can’t stop your cat from scratching the furnit...</td>\n",
       "      <td>https://arstechnica.com/science/2024/07/cant-s...</td>\n",
       "    </tr>\n",
       "    <tr>\n",
       "      <th>2</th>\n",
       "      <td>2</td>\n",
       "      <td>Ars Technica</td>\n",
       "      <td>Egalitarian oddity found in the Neolithic</td>\n",
       "      <td>https://arstechnica.com/science/2024/07/egalit...</td>\n",
       "    </tr>\n",
       "    <tr>\n",
       "      <th>3</th>\n",
       "      <td>3</td>\n",
       "      <td>Ars Technica</td>\n",
       "      <td>High-altitude cave used by Tibetan Buddhists y...</td>\n",
       "      <td>https://arstechnica.com/science/2024/07/high-a...</td>\n",
       "    </tr>\n",
       "    <tr>\n",
       "      <th>4</th>\n",
       "      <td>4</td>\n",
       "      <td>Ars Technica</td>\n",
       "      <td>ITER fusion reactor to see further delays, wit...</td>\n",
       "      <td>https://arstechnica.com/science/2024/07/iters-...</td>\n",
       "    </tr>\n",
       "  </tbody>\n",
       "</table>\n",
       "</div>"
      ],
      "text/plain": [
       "   id           src                                              title  \\\n",
       "0   0  Ars Technica  Swarm of dusty young stars found around our ga...   \n",
       "1   1  Ars Technica  Can’t stop your cat from scratching the furnit...   \n",
       "2   2  Ars Technica          Egalitarian oddity found in the Neolithic   \n",
       "3   3  Ars Technica  High-altitude cave used by Tibetan Buddhists y...   \n",
       "4   4  Ars Technica  ITER fusion reactor to see further delays, wit...   \n",
       "\n",
       "                                                 url  \n",
       "0  https://arstechnica.com/science/2024/07/swarm-...  \n",
       "1  https://arstechnica.com/science/2024/07/cant-s...  \n",
       "2  https://arstechnica.com/science/2024/07/egalit...  \n",
       "3  https://arstechnica.com/science/2024/07/high-a...  \n",
       "4  https://arstechnica.com/science/2024/07/iters-...  "
      ]
     },
     "execution_count": 11,
     "metadata": {},
     "output_type": "execute_result"
    }
   ],
   "source": [
    "# Parse news URLs and titles from downloaded HTML files\n",
    "log(\"Parsing html files\")\n",
    "all_urls = []\n",
    "for sourcename, filename in saved_pages:\n",
    "    log(sourcename +' -> ' + filename)\n",
    "    log(f\"{sourcename}\", \"parse loop\")\n",
    "    links = parse_file(sources[sourcename])\n",
    "    log(f\"{len(links)} links found\", \"parse loop\")\n",
    "    all_urls.extend(links)\n",
    "\n",
    "log(f\"found {len(all_urls)} links\", \"parse loop\")\n",
    "\n",
    "# make a pandas dataframe of all the links found\n",
    "orig_df = (\n",
    "    pd.DataFrame(all_urls)\n",
    "    .groupby(\"url\")\n",
    "    .first()\n",
    "    .reset_index()\n",
    "    .sort_values(\"src\")[[\"src\", \"title\", \"url\"]]\n",
    "    .reset_index(drop=True)\n",
    "    .reset_index(drop=False)\n",
    "    .rename(columns={\"index\": \"id\"})\n",
    ")\n",
    "orig_df.head()\n"
   ]
  },
  {
   "cell_type": "code",
   "execution_count": 13,
   "id": "27972b6b",
   "metadata": {},
   "outputs": [
    {
     "data": {
      "text/html": [
       "<div>\n",
       "<style scoped>\n",
       "    .dataframe tbody tr th:only-of-type {\n",
       "        vertical-align: middle;\n",
       "    }\n",
       "\n",
       "    .dataframe tbody tr th {\n",
       "        vertical-align: top;\n",
       "    }\n",
       "\n",
       "    .dataframe thead th {\n",
       "        text-align: right;\n",
       "    }\n",
       "</style>\n",
       "<table border=\"1\" class=\"dataframe\">\n",
       "  <thead>\n",
       "    <tr style=\"text-align: right;\">\n",
       "      <th></th>\n",
       "      <th>id</th>\n",
       "      <th>src</th>\n",
       "      <th>title</th>\n",
       "      <th>url</th>\n",
       "      <th>isAI</th>\n",
       "      <th>article_date</th>\n",
       "      <th>timestamp</th>\n",
       "    </tr>\n",
       "  </thead>\n",
       "  <tbody>\n",
       "    <tr>\n",
       "      <th>0</th>\n",
       "      <td>12</td>\n",
       "      <td>Bloomberg Tech</td>\n",
       "      <td>Xperi Holder Rubric Pushes for Cost Cuts, AI U...</td>\n",
       "      <td>https://www.bloomberg.com/news/articles/2024-0...</td>\n",
       "      <td>1</td>\n",
       "      <td>2024-01-24</td>\n",
       "      <td>None</td>\n",
       "    </tr>\n",
       "    <tr>\n",
       "      <th>1</th>\n",
       "      <td>43</td>\n",
       "      <td>Bloomberg Tech</td>\n",
       "      <td>Apple Dials Back Car’s Self-Driving Features a...</td>\n",
       "      <td>https://www.bloomberg.com/news/articles/2024-0...</td>\n",
       "      <td>1</td>\n",
       "      <td>2024-01-24</td>\n",
       "      <td>None</td>\n",
       "    </tr>\n",
       "    <tr>\n",
       "      <th>2</th>\n",
       "      <td>46</td>\n",
       "      <td>Bloomberg Tech</td>\n",
       "      <td>AIAI Startup Strikes $200 Million SPAC Deal to...</td>\n",
       "      <td>https://www.bloomberg.com/news/articles/2024-0...</td>\n",
       "      <td>1</td>\n",
       "      <td>2024-01-24</td>\n",
       "      <td>None</td>\n",
       "    </tr>\n",
       "    <tr>\n",
       "      <th>3</th>\n",
       "      <td>61</td>\n",
       "      <td>Bloomberg Tech</td>\n",
       "      <td>TechnologySAP Plans 8,000-Job Restructuring to...</td>\n",
       "      <td>https://www.bloomberg.com/news/articles/2024-0...</td>\n",
       "      <td>1</td>\n",
       "      <td>2024-01-24</td>\n",
       "      <td>None</td>\n",
       "    </tr>\n",
       "    <tr>\n",
       "      <th>4</th>\n",
       "      <td>64</td>\n",
       "      <td>Bloomberg Tech</td>\n",
       "      <td>TechnologyNvidia Alum Snags Funding for Startu...</td>\n",
       "      <td>https://www.bloomberg.com/news/articles/2024-0...</td>\n",
       "      <td>1</td>\n",
       "      <td>2024-01-24</td>\n",
       "      <td>None</td>\n",
       "    </tr>\n",
       "    <tr>\n",
       "      <th>...</th>\n",
       "      <td>...</td>\n",
       "      <td>...</td>\n",
       "      <td>...</td>\n",
       "      <td>...</td>\n",
       "      <td>...</td>\n",
       "      <td>...</td>\n",
       "      <td>...</td>\n",
       "    </tr>\n",
       "    <tr>\n",
       "      <th>50473</th>\n",
       "      <td>124499</td>\n",
       "      <td>Reddit</td>\n",
       "      <td>Al-Generated Movie Trailer - Final Justice: Th...</td>\n",
       "      <td>https://www.reddit.com/r/ChatGPT/comments/1dxx...</td>\n",
       "      <td>1</td>\n",
       "      <td>2024-07-08</td>\n",
       "      <td>2024-07-08 09:35:00</td>\n",
       "    </tr>\n",
       "    <tr>\n",
       "      <th>50474</th>\n",
       "      <td>124502</td>\n",
       "      <td>Reddit</td>\n",
       "      <td>myGenerativeEiAiAlgorithm</td>\n",
       "      <td>https://www.reddit.com/r/ProgrammerHumor/comme...</td>\n",
       "      <td>1</td>\n",
       "      <td>2024-07-08</td>\n",
       "      <td>2024-07-08 09:35:00</td>\n",
       "    </tr>\n",
       "    <tr>\n",
       "      <th>50475</th>\n",
       "      <td>124510</td>\n",
       "      <td>Reddit</td>\n",
       "      <td>Co-author of the original Transformers paper s...</td>\n",
       "      <td>https://www.reddit.com/r/ChatGPT/comments/1dy1...</td>\n",
       "      <td>1</td>\n",
       "      <td>2024-07-08</td>\n",
       "      <td>2024-07-08 09:35:00</td>\n",
       "    </tr>\n",
       "    <tr>\n",
       "      <th>50476</th>\n",
       "      <td>124520</td>\n",
       "      <td>The Register</td>\n",
       "      <td>Breaking the rules is in big tech's blood – no...</td>\n",
       "      <td>https://www.theregister.com/2024/07/08/opinion...</td>\n",
       "      <td>1</td>\n",
       "      <td>2024-07-08</td>\n",
       "      <td>2024-07-08 09:35:00</td>\n",
       "    </tr>\n",
       "    <tr>\n",
       "      <th>50477</th>\n",
       "      <td>124524</td>\n",
       "      <td>The Register</td>\n",
       "      <td>Copilot+ PCs software compatibility issues lef...</td>\n",
       "      <td>https://www.theregister.com/2024/07/08/copilot...</td>\n",
       "      <td>1</td>\n",
       "      <td>2024-07-08</td>\n",
       "      <td>2024-07-08 09:35:00</td>\n",
       "    </tr>\n",
       "  </tbody>\n",
       "</table>\n",
       "<p>50478 rows × 7 columns</p>\n",
       "</div>"
      ],
      "text/plain": [
       "           id             src  \\\n",
       "0          12  Bloomberg Tech   \n",
       "1          43  Bloomberg Tech   \n",
       "2          46  Bloomberg Tech   \n",
       "3          61  Bloomberg Tech   \n",
       "4          64  Bloomberg Tech   \n",
       "...       ...             ...   \n",
       "50473  124499          Reddit   \n",
       "50474  124502          Reddit   \n",
       "50475  124510          Reddit   \n",
       "50476  124520    The Register   \n",
       "50477  124524    The Register   \n",
       "\n",
       "                                                   title  \\\n",
       "0      Xperi Holder Rubric Pushes for Cost Cuts, AI U...   \n",
       "1      Apple Dials Back Car’s Self-Driving Features a...   \n",
       "2      AIAI Startup Strikes $200 Million SPAC Deal to...   \n",
       "3      TechnologySAP Plans 8,000-Job Restructuring to...   \n",
       "4      TechnologyNvidia Alum Snags Funding for Startu...   \n",
       "...                                                  ...   \n",
       "50473  Al-Generated Movie Trailer - Final Justice: Th...   \n",
       "50474                          myGenerativeEiAiAlgorithm   \n",
       "50475  Co-author of the original Transformers paper s...   \n",
       "50476  Breaking the rules is in big tech's blood – no...   \n",
       "50477  Copilot+ PCs software compatibility issues lef...   \n",
       "\n",
       "                                                     url  isAI article_date  \\\n",
       "0      https://www.bloomberg.com/news/articles/2024-0...     1   2024-01-24   \n",
       "1      https://www.bloomberg.com/news/articles/2024-0...     1   2024-01-24   \n",
       "2      https://www.bloomberg.com/news/articles/2024-0...     1   2024-01-24   \n",
       "3      https://www.bloomberg.com/news/articles/2024-0...     1   2024-01-24   \n",
       "4      https://www.bloomberg.com/news/articles/2024-0...     1   2024-01-24   \n",
       "...                                                  ...   ...          ...   \n",
       "50473  https://www.reddit.com/r/ChatGPT/comments/1dxx...     1   2024-07-08   \n",
       "50474  https://www.reddit.com/r/ProgrammerHumor/comme...     1   2024-07-08   \n",
       "50475  https://www.reddit.com/r/ChatGPT/comments/1dy1...     1   2024-07-08   \n",
       "50476  https://www.theregister.com/2024/07/08/opinion...     1   2024-07-08   \n",
       "50477  https://www.theregister.com/2024/07/08/copilot...     1   2024-07-08   \n",
       "\n",
       "                 timestamp  \n",
       "0                     None  \n",
       "1                     None  \n",
       "2                     None  \n",
       "3                     None  \n",
       "4                     None  \n",
       "...                    ...  \n",
       "50473  2024-07-08 09:35:00  \n",
       "50474  2024-07-08 09:35:00  \n",
       "50475  2024-07-08 09:35:00  \n",
       "50476  2024-07-08 09:35:00  \n",
       "50477  2024-07-08 09:35:00  \n",
       "\n",
       "[50478 rows x 7 columns]"
      ]
     },
     "execution_count": 13,
     "metadata": {},
     "output_type": "execute_result"
    }
   ],
   "source": [
    "# extracts all links from history where isAI=1\n",
    "# useful for training dimensionality reduction\n",
    "conn = sqlite3.connect('articles.db')\n",
    "c = conn.cursor()\n",
    "\n",
    "query = \"select * from news_articles where isAI=1 order by id\"\n",
    "ai_history_df = pd.read_sql_query(query, conn)\n",
    "ai_history_df"
   ]
  },
  {
   "cell_type": "code",
   "execution_count": 14,
   "id": "8df42fdb-fed6-4e10-a130-17f22f9a97f3",
   "metadata": {},
   "outputs": [],
   "source": [
    "# clean up sqlite database if you want to rerun the job from a given point\n",
    "conn.execute(f\"delete from news_articles where timestamp > '2024-07-08 10:15'\")\n",
    "# conn.execute(f\"delete from news_articles where id > 220230\")\n",
    "# Committing the changes\n",
    "conn.commit()\n",
    "\n",
    "# Close the connection\n",
    "conn.close()\n"
   ]
  },
  {
   "cell_type": "markdown",
   "id": "92bbfb65",
   "metadata": {},
   "source": [
    "# Filter URLs to new AI headlines only"
   ]
  },
  {
   "cell_type": "code",
   "execution_count": 15,
   "id": "3f760895-915f-499e-814d-dea389c9a3db",
   "metadata": {},
   "outputs": [
    {
     "name": "stderr",
     "output_type": "stream",
     "text": [
      "2024-07-08 12:52:22,923 - AInewsbot - INFO - Existing URLs: 124046\n",
      "2024-07-08 12:52:22,958 - AInewsbot - INFO - New URLs: 485\n"
     ]
    }
   ],
   "source": [
    "# filter urls we've already seen in previous runs and saved in SQLite\n",
    "filtered_df = filter_unseen_urls_db(orig_df)\n"
   ]
  },
  {
   "cell_type": "code",
   "execution_count": 16,
   "id": "1a988ffc",
   "metadata": {},
   "outputs": [
    {
     "name": "stdout",
     "output_type": "stream",
     "text": [
      "\n",
      "You will act as a research assistant to categorize news articles based on their relevance\n",
      "to the topic of artificial intelligence (AI). You will closely read the title of each story\n",
      "to determine if it is primarily about AI based on the semanting meaning of the title and\n",
      "the keywords and entities mentioned. The input headlines and outptu classifications will\n",
      "be formatted as JSON objects.\n",
      "\n",
      "Input Specification:\n",
      "You will receive a list of news headlines formatted as JSON objects.\n",
      "Each object will include an 'id' and a 'title'. For instance:\n",
      "[{'id': 97, 'title': 'AI to predict dementia, detect cancer'},\n",
      " {'id': 103,'title': 'Figure robot learns to make coffee by watching humans for 10 hours'},\n",
      " {'id': 103,'title': 'Baby trapped in refrigerator eats own foot'},\n",
      " {'id': 210,'title': 'ChatGPT removes, then reinstates a summarization assistant without explanation.'},\n",
      " {'id': 298,'title': 'The 5 most interesting PC monitors from CES 2024'},\n",
      " ]\n",
      "\n",
      "Classification Criteria:\n",
      "Classify each story based on its title to determine whether it primarily pertains to AI.\n",
      "Broadly define AI-related content to include topics such as machine learning, robotics,\n",
      "computer vision, reinforcement learning, large language models, and related topics. Also\n",
      "include specific references to AI-related entities and individuals and products such as\n",
      "OpenAI, ChatGPT, Elon Musk, Sam Altman, Anthropic Claude, Google Gemini, Copilot,\n",
      "Perplexity.ai, Midjourney, etc.\n",
      "\n",
      "Output Specification:\n",
      "You will return a JSON object with the field 'stories' containing the list of classification results.\n",
      "For each story, your output will be a JSON object containing the original 'id' and a new field 'isAI',\n",
      "a boolean indicating if the story is about AI. You must strictly adhere to this output schema, without\n",
      "modification. Example output:\n",
      "{'stories':\n",
      "[{'id': 97, 'isAI': true},\n",
      " {'id': 103, 'isAI': true},\n",
      " {'id': 103, 'isAI': false},\n",
      " {'id': 210, 'isAI': true},\n",
      " {'id': 298, 'isAI': false}]\n",
      "}\n",
      "\n",
      "Instructions:\n",
      "Ensure that each output object accurately reflects the 'id' field of the corresponding input object\n",
      "and that the 'isAI' field accurately represents the title's relevance to AI.\n",
      "\n",
      "The list of news stories to classify is:\n",
      "\n",
      "\n"
     ]
    }
   ],
   "source": [
    "# use chatgpt to filter AI-related headlines using a prompt to OpenAI\n",
    "print(FILTER_PROMPT)\n"
   ]
  },
  {
   "cell_type": "code",
   "execution_count": 17,
   "id": "76cd3c8a",
   "metadata": {},
   "outputs": [
    {
     "name": "stderr",
     "output_type": "stream",
     "text": [
      "2024-07-08 12:52:31,014 - AInewsbot - INFO - Paginated 10 pages\n"
     ]
    },
    {
     "data": {
      "text/plain": [
       "20"
      ]
     },
     "execution_count": 17,
     "metadata": {},
     "output_type": "execute_result"
    }
   ],
   "source": [
    "# make pages that fit in a reasonably sized (MAXPAGELEN or MAX_INPUT_TOKENS) prompt\n",
    "pages = paginate_df(filtered_df)\n",
    "log(f\"Paginated {len(pages)} pages\")\n"
   ]
  },
  {
   "cell_type": "code",
   "execution_count": 18,
   "id": "39235332-cb60-4c13-8e8a-0e63c91bd263",
   "metadata": {},
   "outputs": [
    {
     "name": "stderr",
     "output_type": "stream",
     "text": [
      "2024-07-08 12:52:31,989 - AInewsbot - INFO - start classify\n",
      "2024-07-08 12:52:31,992 - AInewsbot - INFO - sent 50 items \n",
      "2024-07-08 12:52:32,021 - AInewsbot - INFO - sent 50 items \n",
      "2024-07-08 12:52:32,022 - AInewsbot - INFO - sent 50 items \n",
      "2024-07-08 12:52:32,022 - AInewsbot - INFO - sent 50 items \n",
      "2024-07-08 12:52:32,022 - AInewsbot - INFO - sent 50 items \n",
      "2024-07-08 12:52:32,023 - AInewsbot - INFO - sent 50 items \n",
      "2024-07-08 12:52:32,023 - AInewsbot - INFO - sent 50 items \n",
      "2024-07-08 12:52:32,024 - AInewsbot - INFO - sent 50 items \n",
      "2024-07-08 12:52:32,024 - AInewsbot - INFO - sent 50 items \n",
      "2024-07-08 12:52:32,025 - AInewsbot - INFO - sent 35 items \n",
      "2024-07-08 12:52:39,390 - AInewsbot - INFO - got dict with 50 items \n",
      "2024-07-08 12:52:39,392 - AInewsbot - INFO - got dict with 35 items \n",
      "2024-07-08 12:52:39,694 - AInewsbot - INFO - got dict with 50 items \n",
      "2024-07-08 12:52:40,105 - AInewsbot - INFO - got dict with 50 items \n",
      "2024-07-08 12:52:40,828 - AInewsbot - INFO - got dict with 50 items \n",
      "2024-07-08 12:52:40,985 - AInewsbot - INFO - got dict with 50 items \n",
      "2024-07-08 12:52:41,337 - AInewsbot - INFO - got dict with 50 items \n",
      "2024-07-08 12:52:41,846 - AInewsbot - INFO - got dict with 50 items \n",
      "2024-07-08 12:52:42,153 - AInewsbot - INFO - got dict with 50 items \n",
      "2024-07-08 12:52:42,871 - AInewsbot - INFO - got dict with 50 items \n",
      "2024-07-08 12:52:42,875 - AInewsbot - INFO - Processed 485 responses.\n",
      "2024-07-08 12:52:42,876 - AInewsbot - INFO - end classify\n",
      "2024-07-08 12:52:42,880 - AInewsbot - INFO - 147 - isAI\n",
      "2024-07-08 12:52:42,881 - AInewsbot - INFO - 338 - not isAI\n"
     ]
    },
    {
     "name": "stdout",
     "output_type": "stream",
     "text": [
      "485\n"
     ]
    },
    {
     "data": {
      "text/html": [
       "<div>\n",
       "<style scoped>\n",
       "    .dataframe tbody tr th:only-of-type {\n",
       "        vertical-align: middle;\n",
       "    }\n",
       "\n",
       "    .dataframe tbody tr th {\n",
       "        vertical-align: top;\n",
       "    }\n",
       "\n",
       "    .dataframe thead th {\n",
       "        text-align: right;\n",
       "    }\n",
       "</style>\n",
       "<table border=\"1\" class=\"dataframe\">\n",
       "  <thead>\n",
       "    <tr style=\"text-align: right;\">\n",
       "      <th></th>\n",
       "      <th>id</th>\n",
       "      <th>isAI</th>\n",
       "    </tr>\n",
       "  </thead>\n",
       "  <tbody>\n",
       "    <tr>\n",
       "      <th>0</th>\n",
       "      <td>30</td>\n",
       "      <td>False</td>\n",
       "    </tr>\n",
       "    <tr>\n",
       "      <th>1</th>\n",
       "      <td>43</td>\n",
       "      <td>False</td>\n",
       "    </tr>\n",
       "    <tr>\n",
       "      <th>2</th>\n",
       "      <td>44</td>\n",
       "      <td>False</td>\n",
       "    </tr>\n",
       "    <tr>\n",
       "      <th>3</th>\n",
       "      <td>49</td>\n",
       "      <td>False</td>\n",
       "    </tr>\n",
       "    <tr>\n",
       "      <th>4</th>\n",
       "      <td>50</td>\n",
       "      <td>False</td>\n",
       "    </tr>\n",
       "  </tbody>\n",
       "</table>\n",
       "</div>"
      ],
      "text/plain": [
       "   id   isAI\n",
       "0  30  False\n",
       "1  43  False\n",
       "2  44  False\n",
       "3  49  False\n",
       "4  50  False"
      ]
     },
     "execution_count": 18,
     "metadata": {},
     "output_type": "execute_result"
    }
   ],
   "source": [
    "# use REST API directly. OpenAI python API doesn't support concurrent requests from a single client\n",
    "# this runs fast with async aiohttp and on gpt-3.5 (15 seconds vs 2 minutes synchronously with gpt-4o)\n",
    "# the old API supported submitting multiple payloads in a single completion request\n",
    "# current API supports a slow 'batch' submission https://platform.openai.com/docs/guides/rate-limits/usage-tiers\n",
    "# there is a more complex example here - https://github.com/openai/openai-cookbook/blob/main/examples/api_request_parallel_processor.py\n",
    "\n",
    "log(\"start classify\")\n",
    "enriched_urls = asyncio.run(fetch_pages(pages, prompt=FILTER_PROMPT))\n",
    "log(\"end classify\")\n",
    "\n",
    "enriched_df = pd.DataFrame(enriched_urls)\n",
    "print(len(enriched_df))\n",
    "log(\"isAI\", len(enriched_df.loc[enriched_df[\"isAI\"]]))\n",
    "log(\"not isAI\", len(enriched_df.loc[~enriched_df[\"isAI\"]]))\n",
    "enriched_df.head()\n"
   ]
  },
  {
   "cell_type": "code",
   "execution_count": 19,
   "id": "3d36ce69-2da0-4c85-a98f-760c7b7c6a16",
   "metadata": {},
   "outputs": [
    {
     "data": {
      "text/html": [
       "<div>\n",
       "<style scoped>\n",
       "    .dataframe tbody tr th:only-of-type {\n",
       "        vertical-align: middle;\n",
       "    }\n",
       "\n",
       "    .dataframe tbody tr th {\n",
       "        vertical-align: top;\n",
       "    }\n",
       "\n",
       "    .dataframe thead th {\n",
       "        text-align: right;\n",
       "    }\n",
       "</style>\n",
       "<table border=\"1\" class=\"dataframe\">\n",
       "  <thead>\n",
       "    <tr style=\"text-align: right;\">\n",
       "      <th></th>\n",
       "      <th>id</th>\n",
       "      <th>src</th>\n",
       "      <th>title</th>\n",
       "      <th>url</th>\n",
       "      <th>isAI</th>\n",
       "      <th>date</th>\n",
       "    </tr>\n",
       "  </thead>\n",
       "  <tbody>\n",
       "    <tr>\n",
       "      <th>0</th>\n",
       "      <td>30</td>\n",
       "      <td>Bloomberg Tech</td>\n",
       "      <td>Samsung Union Steps Up Pressure Over Pay With ...</td>\n",
       "      <td>https://www.bloomberg.com/news/articles/2024-0...</td>\n",
       "      <td>False</td>\n",
       "      <td>2024-07-08</td>\n",
       "    </tr>\n",
       "    <tr>\n",
       "      <th>1</th>\n",
       "      <td>43</td>\n",
       "      <td>Bloomberg Tech</td>\n",
       "      <td>Fight Against Misinformation Suffers Defeat on...</td>\n",
       "      <td>https://www.bloomberg.com/news/newsletters/202...</td>\n",
       "      <td>False</td>\n",
       "      <td>2024-07-08</td>\n",
       "    </tr>\n",
       "    <tr>\n",
       "      <th>2</th>\n",
       "      <td>44</td>\n",
       "      <td>Bloomberg Tech</td>\n",
       "      <td>Skydance, Paramount to Merge (For Real This Time)</td>\n",
       "      <td>https://www.bloomberg.com/news/newsletters/202...</td>\n",
       "      <td>False</td>\n",
       "      <td>2024-07-08</td>\n",
       "    </tr>\n",
       "    <tr>\n",
       "      <th>3</th>\n",
       "      <td>49</td>\n",
       "      <td>Bloomberg Tech</td>\n",
       "      <td>Zyn Imitators Rush In as Online Sales Halt Wor...</td>\n",
       "      <td>https://www.bloomberg.com/news/articles/2024-0...</td>\n",
       "      <td>False</td>\n",
       "      <td>2024-07-08</td>\n",
       "    </tr>\n",
       "    <tr>\n",
       "      <th>4</th>\n",
       "      <td>50</td>\n",
       "      <td>Bloomberg Tech</td>\n",
       "      <td>Tencent’s Hit Stays on Top After ‘Genshin Impa...</td>\n",
       "      <td>https://www.bloomberg.com/news/articles/2024-0...</td>\n",
       "      <td>False</td>\n",
       "      <td>2024-07-08</td>\n",
       "    </tr>\n",
       "  </tbody>\n",
       "</table>\n",
       "</div>"
      ],
      "text/plain": [
       "   id             src                                              title  \\\n",
       "0  30  Bloomberg Tech  Samsung Union Steps Up Pressure Over Pay With ...   \n",
       "1  43  Bloomberg Tech  Fight Against Misinformation Suffers Defeat on...   \n",
       "2  44  Bloomberg Tech  Skydance, Paramount to Merge (For Real This Time)   \n",
       "3  49  Bloomberg Tech  Zyn Imitators Rush In as Online Sales Halt Wor...   \n",
       "4  50  Bloomberg Tech  Tencent’s Hit Stays on Top After ‘Genshin Impa...   \n",
       "\n",
       "                                                 url   isAI        date  \n",
       "0  https://www.bloomberg.com/news/articles/2024-0...  False  2024-07-08  \n",
       "1  https://www.bloomberg.com/news/newsletters/202...  False  2024-07-08  \n",
       "2  https://www.bloomberg.com/news/newsletters/202...  False  2024-07-08  \n",
       "3  https://www.bloomberg.com/news/articles/2024-0...  False  2024-07-08  \n",
       "4  https://www.bloomberg.com/news/articles/2024-0...  False  2024-07-08  "
      ]
     },
     "execution_count": 19,
     "metadata": {},
     "output_type": "execute_result"
    }
   ],
   "source": [
    "# merge returned df with isAI column into original df on id column\n",
    "merged_df = pd.merge(filtered_df, enriched_df, on=\"id\", how=\"outer\")\n",
    "merged_df['date'] = datetime.now().date()\n",
    "merged_df.head()\n"
   ]
  },
  {
   "cell_type": "code",
   "execution_count": 20,
   "id": "f286de30-81e7-4bab-a7fa-9477f27b6a75",
   "metadata": {},
   "outputs": [
    {
     "name": "stderr",
     "output_type": "stream",
     "text": [
      "2024-07-08 12:52:42,905 - AInewsbot - INFO - Unmatched response rows: 0\n",
      "2024-07-08 12:52:42,906 - AInewsbot - INFO - Unmatched source rows: 0\n"
     ]
    },
    {
     "data": {
      "text/plain": [
       "20"
      ]
     },
     "execution_count": 20,
     "metadata": {},
     "output_type": "execute_result"
    }
   ],
   "source": [
    "# should be empty, shouldn't get back rows that don't match to existing\n",
    "log(f\"Unmatched response rows: {len(merged_df.loc[merged_df['src'].isna()])}\")\n",
    "# should be empty, should get back all rows from orig\n",
    "log(f\"Unmatched source rows: {len(merged_df.loc[merged_df['isAI'].isna()])}\")\n"
   ]
  },
  {
   "cell_type": "code",
   "execution_count": 21,
   "id": "193ead65-a4f6-4b25-97a1-e14aec1d2c30",
   "metadata": {},
   "outputs": [],
   "source": [
    "# update SQLite database with all seen URLs\n",
    "conn = sqlite3.connect('articles.db')\n",
    "cursor = conn.cursor()\n",
    "\n",
    "for row in merged_df.itertuples():\n",
    "    insert_article(conn, cursor, row.src, row.title,\n",
    "                   row.url, row.isAI, row.date)\n"
   ]
  },
  {
   "cell_type": "code",
   "execution_count": 22,
   "id": "a5548bb2",
   "metadata": {},
   "outputs": [
    {
     "name": "stderr",
     "output_type": "stream",
     "text": [
      "2024-07-08 12:52:43,050 - AInewsbot - INFO - Found 147 AI headlines\n"
     ]
    },
    {
     "data": {
      "text/html": [
       "<div>\n",
       "<style scoped>\n",
       "    .dataframe tbody tr th:only-of-type {\n",
       "        vertical-align: middle;\n",
       "    }\n",
       "\n",
       "    .dataframe tbody tr th {\n",
       "        vertical-align: top;\n",
       "    }\n",
       "\n",
       "    .dataframe thead th {\n",
       "        text-align: right;\n",
       "    }\n",
       "</style>\n",
       "<table border=\"1\" class=\"dataframe\">\n",
       "  <thead>\n",
       "    <tr style=\"text-align: right;\">\n",
       "      <th></th>\n",
       "      <th>id</th>\n",
       "      <th>src</th>\n",
       "      <th>title</th>\n",
       "      <th>url</th>\n",
       "      <th>isAI</th>\n",
       "      <th>date</th>\n",
       "    </tr>\n",
       "  </thead>\n",
       "  <tbody>\n",
       "    <tr>\n",
       "      <th>0</th>\n",
       "      <td>0</td>\n",
       "      <td>Business Insider</td>\n",
       "      <td>SpaceX rockets blew away local bird habitats a...</td>\n",
       "      <td>https://www.businessinsider.com/spacex-boca-ch...</td>\n",
       "      <td>True</td>\n",
       "      <td>2024-07-08</td>\n",
       "    </tr>\n",
       "    <tr>\n",
       "      <th>1</th>\n",
       "      <td>1</td>\n",
       "      <td>Feedly AI</td>\n",
       "      <td>Apple’s massive AI-powered Siri upgrade isn’t ...</td>\n",
       "      <td>https://bgr.com/tech/apples-massive-ai-powered...</td>\n",
       "      <td>True</td>\n",
       "      <td>2024-07-08</td>\n",
       "    </tr>\n",
       "    <tr>\n",
       "      <th>2</th>\n",
       "      <td>2</td>\n",
       "      <td>Feedly AI</td>\n",
       "      <td>Small Language Models: The Future Catalyst for...</td>\n",
       "      <td>https://blog.kore.ai/why-could-small-language-...</td>\n",
       "      <td>True</td>\n",
       "      <td>2024-07-08</td>\n",
       "    </tr>\n",
       "    <tr>\n",
       "      <th>3</th>\n",
       "      <td>3</td>\n",
       "      <td>Feedly AI</td>\n",
       "      <td>Two Canadian stocks set to benefit from AI-dri...</td>\n",
       "      <td>https://www.theglobeandmail.com/investing/mark...</td>\n",
       "      <td>True</td>\n",
       "      <td>2024-07-08</td>\n",
       "    </tr>\n",
       "    <tr>\n",
       "      <th>4</th>\n",
       "      <td>4</td>\n",
       "      <td>Feedly AI</td>\n",
       "      <td>Revolutionizing Finance: Harnessing Next-Gen A...</td>\n",
       "      <td>https://thecyberexpress.com/next-gen-ai-platfo...</td>\n",
       "      <td>True</td>\n",
       "      <td>2024-07-08</td>\n",
       "    </tr>\n",
       "    <tr>\n",
       "      <th>...</th>\n",
       "      <td>...</td>\n",
       "      <td>...</td>\n",
       "      <td>...</td>\n",
       "      <td>...</td>\n",
       "      <td>...</td>\n",
       "      <td>...</td>\n",
       "    </tr>\n",
       "    <tr>\n",
       "      <th>142</th>\n",
       "      <td>142</td>\n",
       "      <td>Reddit</td>\n",
       "      <td>Al-Generated Movie Trailer - Final Justice: Th...</td>\n",
       "      <td>https://www.reddit.com/r/ChatGPT/comments/1dxx...</td>\n",
       "      <td>True</td>\n",
       "      <td>2024-07-08</td>\n",
       "    </tr>\n",
       "    <tr>\n",
       "      <th>143</th>\n",
       "      <td>143</td>\n",
       "      <td>Reddit</td>\n",
       "      <td>myGenerativeEiAiAlgorithm</td>\n",
       "      <td>https://www.reddit.com/r/ProgrammerHumor/comme...</td>\n",
       "      <td>True</td>\n",
       "      <td>2024-07-08</td>\n",
       "    </tr>\n",
       "    <tr>\n",
       "      <th>144</th>\n",
       "      <td>144</td>\n",
       "      <td>Reddit</td>\n",
       "      <td>Co-author of the original Transformers paper s...</td>\n",
       "      <td>https://www.reddit.com/r/ChatGPT/comments/1dy1...</td>\n",
       "      <td>True</td>\n",
       "      <td>2024-07-08</td>\n",
       "    </tr>\n",
       "    <tr>\n",
       "      <th>145</th>\n",
       "      <td>145</td>\n",
       "      <td>The Register</td>\n",
       "      <td>Breaking the rules is in big tech's blood – no...</td>\n",
       "      <td>https://www.theregister.com/2024/07/08/opinion...</td>\n",
       "      <td>True</td>\n",
       "      <td>2024-07-08</td>\n",
       "    </tr>\n",
       "    <tr>\n",
       "      <th>146</th>\n",
       "      <td>146</td>\n",
       "      <td>The Register</td>\n",
       "      <td>Copilot+ PCs software compatibility issues lef...</td>\n",
       "      <td>https://www.theregister.com/2024/07/08/copilot...</td>\n",
       "      <td>True</td>\n",
       "      <td>2024-07-08</td>\n",
       "    </tr>\n",
       "  </tbody>\n",
       "</table>\n",
       "<p>147 rows × 6 columns</p>\n",
       "</div>"
      ],
      "text/plain": [
       "      id               src                                              title  \\\n",
       "0      0  Business Insider  SpaceX rockets blew away local bird habitats a...   \n",
       "1      1         Feedly AI  Apple’s massive AI-powered Siri upgrade isn’t ...   \n",
       "2      2         Feedly AI  Small Language Models: The Future Catalyst for...   \n",
       "3      3         Feedly AI  Two Canadian stocks set to benefit from AI-dri...   \n",
       "4      4         Feedly AI  Revolutionizing Finance: Harnessing Next-Gen A...   \n",
       "..   ...               ...                                                ...   \n",
       "142  142            Reddit  Al-Generated Movie Trailer - Final Justice: Th...   \n",
       "143  143            Reddit                          myGenerativeEiAiAlgorithm   \n",
       "144  144            Reddit  Co-author of the original Transformers paper s...   \n",
       "145  145      The Register  Breaking the rules is in big tech's blood – no...   \n",
       "146  146      The Register  Copilot+ PCs software compatibility issues lef...   \n",
       "\n",
       "                                                   url  isAI        date  \n",
       "0    https://www.businessinsider.com/spacex-boca-ch...  True  2024-07-08  \n",
       "1    https://bgr.com/tech/apples-massive-ai-powered...  True  2024-07-08  \n",
       "2    https://blog.kore.ai/why-could-small-language-...  True  2024-07-08  \n",
       "3    https://www.theglobeandmail.com/investing/mark...  True  2024-07-08  \n",
       "4    https://thecyberexpress.com/next-gen-ai-platfo...  True  2024-07-08  \n",
       "..                                                 ...   ...         ...  \n",
       "142  https://www.reddit.com/r/ChatGPT/comments/1dxx...  True  2024-07-08  \n",
       "143  https://www.reddit.com/r/ProgrammerHumor/comme...  True  2024-07-08  \n",
       "144  https://www.reddit.com/r/ChatGPT/comments/1dy1...  True  2024-07-08  \n",
       "145  https://www.theregister.com/2024/07/08/opinion...  True  2024-07-08  \n",
       "146  https://www.theregister.com/2024/07/08/copilot...  True  2024-07-08  \n",
       "\n",
       "[147 rows x 6 columns]"
      ]
     },
     "execution_count": 22,
     "metadata": {},
     "output_type": "execute_result"
    }
   ],
   "source": [
    "# keep headlines that are related to AI\n",
    "AIdf = merged_df.loc[merged_df[\"isAI\"]==1] \\\n",
    "    .reset_index(drop=True)  \\\n",
    "    .reset_index()  \\\n",
    "    .drop(columns=[\"id\"])  \\\n",
    "    .rename(columns={'index': 'id'})\n",
    "\n",
    "log(f\"Found {len(AIdf)} AI headlines\")\n",
    "AIdf"
   ]
  },
  {
   "cell_type": "code",
   "execution_count": 23,
   "id": "5323512b-727a-4bcb-b74e-0577044e757c",
   "metadata": {},
   "outputs": [],
   "source": [
    "# map title to ascii characters to avoid some dupes with e.g. different quote symbols\n",
    "\n",
    "def unicode_to_ascii(input_string):\n",
    "    # Normalize the Unicode string to NFKD form\n",
    "    normalized_string = unicodedata.normalize('NFKD', input_string)\n",
    "    \n",
    "    # Encode to ASCII bytes, ignoring characters that cannot be converted\n",
    "    ascii_bytes = normalized_string.encode('ascii', 'ignore')\n",
    "    \n",
    "    # Convert bytes back to a string\n",
    "    ascii_string = ascii_bytes.decode('ascii')\n",
    "    \n",
    "    return ascii_string\n",
    "\n",
    "AIdf['title'] = AIdf['title'].apply(unicode_to_ascii)\n"
   ]
  },
  {
   "cell_type": "code",
   "execution_count": 24,
   "id": "ba28a38b-d93d-43d8-9e24-c6a107538f3d",
   "metadata": {},
   "outputs": [
    {
     "name": "stderr",
     "output_type": "stream",
     "text": [
      "2024-07-08 12:52:43,195 - AInewsbot - INFO - Found 141 unique AI headlines\n"
     ]
    },
    {
     "data": {
      "text/plain": [
       "20"
      ]
     },
     "execution_count": 24,
     "metadata": {},
     "output_type": "execute_result"
    }
   ],
   "source": [
    "# dedupe identical headlines\n",
    "AIdf['title_clean'] = AIdf['title'].map(lambda s: \"\".join(s.split()))\n",
    "AIdf = AIdf.sort_values(\"src\") \\\n",
    "    .groupby(\"title_clean\") \\\n",
    "    .first() \\\n",
    "    .reset_index(drop=True) \\\n",
    "    .drop(columns=['id']) \\\n",
    "    .reset_index() \\\n",
    "    .rename(columns={'index': 'id'})\n",
    "\n",
    "log(f\"Found {len(AIdf)} unique AI headlines\")\n"
   ]
  },
  {
   "cell_type": "code",
   "execution_count": 26,
   "id": "60816eb3",
   "metadata": {},
   "outputs": [
    {
     "name": "stdout",
     "output_type": "stream",
     "text": [
      "news.google.com -> news.google.com -> https://www.cio.com/article/2150142/10-ways-to-prevent-shadow-ai-disaster.html\n",
      "news.google.com -> news.google.com -> https://adage.com/article/agency-news/37-ad-execs-predict-2024-second-half-trends-ai-olympics-gen-z/2568341\n",
      "news.google.com -> news.google.com -> https://investorplace.com/2024/07/3-ai-stocks-that-also-pay-dividends/\n",
      "news.google.com -> news.google.com -> https://www.barrons.com/articles/3-stocks-to-benefit-from-the-ai-datacenter-power-boom-7c07b498\n",
      "news.google.com -> news.google.com -> https://time.com/6994739/ai-behavior-change-health-care/\n",
      "news.google.com -> news.google.com -> https://www.travelawaits.com/2993617/ai-trip-planning-how-to-use-ai-to-plan-your-next-vacation/\n",
      "news.google.com -> news.google.com -> https://www.newsbytesapp.com/news/science/google-deepmind-s-new-ai-training-technique-promises-significant-gains/story\n",
      "news.google.com -> news.google.com -> https://www.nextgov.com/artificial-intelligence/2024/07/ai-can-enhance-health-care-and-enable-cost-savings-lawmaker-says/397829/\n",
      "news.google.com -> news.google.com -> https://interestingengineering.com/innovation/ai-speed-detector-spy-inside-cars\n",
      "news.google.com -> news.google.com -> https://www.houstonchronicle.com/opinion/editorials/article/ai-predictive-policing-facial-scans-19551360.php\n",
      "news.google.com -> news.google.com -> https://techxplore.com/news/2024-07-physical-nonlinear-tasks-traditional-processor.html\n",
      "news.google.com -> news.google.com -> https://n24.com.tr/en/aidan-gomezs-cohere-reaches-5-billion-valuation-with-nvidias-backing\n",
      "news.google.com -> news.google.com -> https://fortune.com/2024/07/08/majority-cfos-admit-dont-fully-understand-ai/\n",
      "news.google.com -> news.google.com -> https://www.ictworks.org/apply-now-gbp-150000-artificial-intelligence-research-grants/\n",
      "news.google.com -> news.google.com -> https://seekingalpha.com/article/4702847-arista-networks-nvidia-isnt-the-only-ai-gold-rush-beneficiary\n",
      "news.google.com -> news.google.com -> https://www.wsj.com/articles/artificial-intelligence-boom-lifts-paychecks-for-cios-e1527eab\n",
      "news.google.com -> news.google.com -> https://foreignpolicy.com/2024/07/08/artificial-intelligence-ai-election-misinformation-technology-risks/\n",
      "news.google.com -> news.google.com -> https://www.sixthtone.com/news/1015460\n",
      "news.google.com -> news.google.com -> https://finance.yahoo.com/news/billionaires-selling-nvidia-stock-buying-091200525.html\n",
      "news.google.com -> news.google.com -> https://techcrunch.com/2024/07/07/cios-concerns-over-generative-ai-echo-those-of-the-early-days-of-cloud-computing/\n",
      "news.google.com -> news.google.com -> https://www.edweek.org/teaching-learning/can-ai-help-with-special-ed-theres-promise-and-reason-to-be-cautious/2024/07\n",
      "news.google.com -> news.google.com -> https://www.fastcompany.com/91147661/can-chatgpt-handle-hr-heres-what-happened-when-we-put-it-to-the-test\n",
      "news.google.com -> news.google.com -> https://asia.nikkei.com/Business/China-tech/China-AI-leader-iFlytek-dips-into-red-under-ultimate-U.S.-pressure\n",
      "news.google.com -> news.google.com -> https://asiatimes.com/2024/07/china-flexes-ai-muscle-at-shanghai-expo/\n",
      "news.google.com -> news.google.com -> https://www.scmp.com/economy/china-economy/article/3269334/chinas-tech-boom-powering-ai-career-coup-finance-muscled-out-top-salary-pyramid\n",
      "news.google.com -> news.google.com -> https://www.marktechpost.com/2024/07/05/claude-ai-a-comprehensive-overview-exploring-the-advanced-capabilities-and-ethical-design-of-anthropics-leading-language-model/\n",
      "news.google.com -> news.google.com -> https://www.cnbc.com/video/2024/07/06/cohere-ceo-and-ex-google-researcher-aidan-gomez-on-how-ai-makes-money.html\n",
      "news.google.com -> news.google.com -> https://www.marketwatch.com/story/cornings-stock-soars-7-after-company-raises-q2-guidance-to-reflect-ai-bump-165f51b6\n",
      "news.google.com -> news.google.com -> https://www.travelandtourworld.com/news/article/everything-you-need-to-know-about-how-artificial-intelligence-transforming-travel-and-tourism-industry/\n",
      "news.google.com -> news.google.com -> https://www.morningstar.com/news/pr-newswire/20240708ny51994/exiger-leads-market-in-ai-driven-multi-tier-visibility-with-versed-ai-acquisition\n",
      "news.google.com -> news.google.com -> https://www.androidpolice.com/galaxy-ai-live-translate-whatsapp-calls/\n",
      "news.google.com -> news.google.com -> https://www.cnet.com/tech/computing/google-experts-warn-that-ai-may-distort-reality-while-ai-overviews-repel-mobile-users/\n",
      "news.google.com -> news.google.com -> https://www.tomshardware.com/tech-industry/artificial-intelligence/google-claims-new-ai-training-tech-is-13-times-faster-and-10-times-more-power-efficient-deepminds-new-jest-optimizes-training-data-for-massive-gains\n",
      "news.google.com -> news.google.com -> https://www.androidauthority.com/microfuchsia-on-android-3457788/\n",
      "news.google.com -> news.google.com -> https://www.govtech.com/artificial-intelligence/government-partners-plan-together-for-accessible-ai\n",
      "news.google.com -> news.google.com -> https://www.foxbusiness.com/technology/hacker-accessed-openais-internal-ai-details-2023-breach-report\n",
      "news.google.com -> news.google.com -> https://www.bloomberg.com/news/articles/2024-07-08/hebbia-raises-130-million-for-ai-that-helps-firms-answer-complex-questions\n",
      "news.google.com -> news.google.com -> https://www.digitaltrends.com/computing/claude-sonnet-vs-gpt-4o-comparison/\n",
      "news.google.com -> news.google.com -> https://www.forbes.com/sites/stephenwunker/2024/07/08/how-ai-and-new-care-models-make-healthcare-easier-cheaper-and-better/\n",
      "news.google.com -> news.google.com -> https://www.axios.com/2024/07/08/ai-stock-market\n",
      "news.google.com -> news.google.com -> https://www.cnbcafrica.com/2024/how-cohere-ceo-aidan-gomez-says-ai-will-directly-profit-companies/\n",
      "news.google.com -> news.google.com -> https://digiday.com/marketing/inside-aldos-in-house-generative-ai-and-machine-learning-strategy/\n",
      "news.google.com -> news.google.com -> https://www.chosun.com/english/people-en/2024/07/07/4WZRIFLZFFFM5JCLJB446HOAJA/\n",
      "news.google.com -> news.google.com -> https://www.jpost.com/brandblend/article-809398\n",
      "news.google.com -> news.google.com -> http://tokenpost.com/Judge-Partially-Dismisses-1B-Lawsuit-Against-Microsoft-OpenAI-and-GitHub-Over-AI-Code-Use-12253\n",
      "news.google.com -> news.google.com -> https://cointelegraph.com/news/judge-dismisses-coders-dmca-claims-microsoft-open-ai-artificial-intelligence-git-hub\n",
      "news.google.com -> news.google.com -> https://news.mit.edu/2024/mit-researchers-introduce-generative-ai-databases-0708\n",
      "news.google.com -> news.google.com -> https://www.news-medical.net/news/20240707/Machine-learning-identifies-cancer-driving-mutations-at-CTCF-binding-sites.aspx\n",
      "news.google.com -> news.google.com -> https://www.insidehighered.com/news/tech-innovation/artificial-intelligence/2024/07/08/mary-meeker-urges-higher-ed-lead-ai\n",
      "news.google.com -> news.google.com -> https://timesofindia.indiatimes.com/world/us/meet-hijab-clad-kenza-layli-from-morcco-worlds-first-ever-miss-ai/articleshow/111581841.cms\n",
      "news.google.com -> news.google.com -> https://www.theverge.com/2024/7/7/24193680/meta-ai-may-get-more-collaborative-in-whatsapp-for-android\n",
      "news.google.com -> news.google.com -> https://indianexpress.com/article/technology/artificial-intelligence/meta-ai-on-whatsapp-edit-analyse-images-9439429/\n",
      "news.google.com -> news.google.com -> https://www.indiatoday.in/visualstories/technology/microsoft-ai-chief-on-ai-companies-using-online-content-149134-04-07-2024\n",
      "news.google.com -> news.google.com -> https://www.stltoday.com/news/local/metro/mobot-uses-ai-to-learn-how-trees-move-and-to-save-millions-of-plant-specimens/article_fb9f9660-3885-11ef-8f5a-57b61f2acc14.html\n",
      "news.google.com -> news.google.com -> https://www.macrumors.com/2024/07/07/new-siri-experience-to-debut-spring-2025/\n",
      "news.google.com -> news.google.com -> https://www.barrons.com/articles/nvidia-stock-price-antitrust-8d2d3b57\n",
      "news.google.com -> news.google.com -> https://news.bloomberglaw.com/litigation/openai-github-beat-digital-copyright-claims-from-programmers\n",
      "news.google.com -> news.google.com -> https://aithority.com/machine-learning/openai-startup-fund-and-thrive-global-launch-thrive-ai-health-offering-a-hyper-personalized-ai-health-coach/\n"
     ]
    },
    {
     "name": "stdout",
     "output_type": "stream",
     "text": [
      "news.google.com -> news.google.com -> https://www.forbes.com/sites/nikkibaird/2024/07/08/retail-this-week-soft-landings-ai-hype-and-department-store-deaths/\n",
      "news.google.com -> news.google.com -> https://www.reuters.com/technology/samsung-flags-15-fold-rise-second-quarter-profit-chip-prices-climb-2024-07-04/\n",
      "news.google.com -> news.google.com -> https://www.cnbc.com/2024/07/08/southeast-asia-ipo-market-fell-significantly-in-h2-2024-deloitte.html\n",
      "news.google.com -> news.google.com -> https://www.carmagazine.co.uk/car-news/motoring-issues/jenoptik-safety-cameras/\n",
      "news.google.com -> news.google.com -> https://www.tomsguide.com/gaming/steams-summer-sale-is-in-full-swing-heres-9-gaming-deals-id-get-now\n",
      "news.google.com -> news.google.com -> https://www.pymnts.com/artificial-intelligence-2/2024/synerise-raises-8-5-million-to-expand-ai-driven-behavioral-modeling-solutions/\n",
      "news.google.com -> news.google.com -> https://9to5mac.com/2024/07/08/scambaiting-ai-systems/\n",
      "news.google.com -> news.google.com -> https://cointelegraph.com/news/tether-ceo-promotes-local-ai-privacy\n",
      "news.google.com -> news.google.com -> https://elblog.pl/2024/07/07/the-role-of-artificial-intelligence-in-shaping-a-sustainable-future/\n",
      "news.google.com -> news.google.com -> https://www.digitaltrends.com/mobile/two-big-upgrades-confirmed-for-google-pixel-watch-3-uwb-5ghz-wi-fi/\n",
      "news.google.com -> news.google.com -> https://cdt.org/event/u-s-access-board-information-session-foundation-on-artificial-intelligence-and-disability/\n",
      "news.google.com -> news.google.com -> https://www.onrec.com/news/statistics/uk-future-workforce-index-2024-83-of-uk-businesses-willing-to-pay-a-higher-wage-to\n",
      "news.google.com -> news.google.com -> https://learningenglish.voanews.com/a/un-agency-china-leading-ai-patents-race/7686347.html\n",
      "news.google.com -> news.google.com -> https://www.fudzilla.com/news/ai/59307-vole-claims-all-web-content-is-freeware-to-be-scraped-for-ai\n",
      "news.google.com -> news.google.com -> https://www.androidauthority.com/whatsapp-meta-ai-update-3457975/\n",
      "news.google.com -> news.google.com -> https://www.tomsguide.com/phones/samsung-phones/whatsapp-could-soon-get-a-galaxy-ai-powered-live-translate-feature\n",
      "news.google.com -> news.google.com -> https://www.techopedia.com/news/why-claude-3-5-sonnet-is-the-ai-to-watch-not-chatgpt-4o\n",
      "news.google.com -> news.google.com -> https://mindmatters.ai/2024/07/will-ai-soon-help-animals-talk-to-us/\n",
      "news.google.com -> news.google.com -> https://english.jagran.com/technology/youtube-music-may-soon-let-you-generate-custom-radio-via-natural-language-prompts-using-ai-details-inside-10172115\n",
      "news.google.com -> news.google.com -> https://www.techradar.com/streaming/youtube-music-is-piloting-music-any-way-you-like-prompt-generated-radio-using-ai\n"
     ]
    }
   ],
   "source": [
    "# map google news headlines to redirect, kind of unnecessary\n",
    "from urllib.parse import urlparse\n",
    "\n",
    "redirect_dict = {}\n",
    "for row in AIdf.itertuples():\n",
    "    parsed_url = urlparse(row.url)\n",
    "    netloc = parsed_url.netloc\n",
    "    if netloc == 'news.google.com':\n",
    "        print(netloc, end=\" -> \")        \n",
    "        response = requests.get(row.url, allow_redirects=False)\n",
    "        # The URL to which it would have redirected\n",
    "        redirect_url = response.headers.get('Location')\n",
    "        redirect_dict[row.url] = redirect_url\n",
    "        parsed_url2 = urlparse(redirect_url)\n",
    "        netloc2 = parsed_url2.netloc\n",
    "        if netloc2 == 'news.google.com':\n",
    "            print(netloc2, end=\" -> \")\n",
    "            response = requests.get(redirect_url, allow_redirects=False)\n",
    "        # The URL to which it would have redirected\n",
    "            redirect_url = response.headers.get('Location')\n",
    "            redirect_dict[row.url] = redirect_url\n",
    "        print(redirect_url)\n",
    "\n",
    "AIdf['url'] = AIdf['url'].apply(lambda url: redirect_dict.get(url, url))\n"
   ]
  },
  {
   "cell_type": "code",
   "execution_count": 27,
   "id": "d9078abc",
   "metadata": {},
   "outputs": [
    {
     "data": {
      "text/html": [
       "<div>\n",
       "<style scoped>\n",
       "    .dataframe tbody tr th:only-of-type {\n",
       "        vertical-align: middle;\n",
       "    }\n",
       "\n",
       "    .dataframe tbody tr th {\n",
       "        vertical-align: top;\n",
       "    }\n",
       "\n",
       "    .dataframe thead th {\n",
       "        text-align: right;\n",
       "    }\n",
       "</style>\n",
       "<table border=\"1\" class=\"dataframe\">\n",
       "  <thead>\n",
       "    <tr style=\"text-align: right;\">\n",
       "      <th></th>\n",
       "      <th>id</th>\n",
       "      <th>src</th>\n",
       "      <th>title</th>\n",
       "      <th>url</th>\n",
       "      <th>isAI</th>\n",
       "      <th>date</th>\n",
       "    </tr>\n",
       "  </thead>\n",
       "  <tbody>\n",
       "    <tr>\n",
       "      <th>0</th>\n",
       "      <td>0</td>\n",
       "      <td>Google News</td>\n",
       "      <td>10 ways to prevent shadow AI disaster</td>\n",
       "      <td>https://www.cio.com/article/2150142/10-ways-to...</td>\n",
       "      <td>True</td>\n",
       "      <td>2024-07-08</td>\n",
       "    </tr>\n",
       "    <tr>\n",
       "      <th>1</th>\n",
       "      <td>1</td>\n",
       "      <td>Feedly AI</td>\n",
       "      <td>2 stocks to turn $100 into $1,000 for end of 2024</td>\n",
       "      <td>https://finbold.com/2-stocks-to-turn-100-into-...</td>\n",
       "      <td>True</td>\n",
       "      <td>2024-07-08</td>\n",
       "    </tr>\n",
       "    <tr>\n",
       "      <th>2</th>\n",
       "      <td>2</td>\n",
       "      <td>Google News</td>\n",
       "      <td>37 ad execs predict 2024 second half trends: A...</td>\n",
       "      <td>https://adage.com/article/agency-news/37-ad-ex...</td>\n",
       "      <td>True</td>\n",
       "      <td>2024-07-08</td>\n",
       "    </tr>\n",
       "    <tr>\n",
       "      <th>3</th>\n",
       "      <td>3</td>\n",
       "      <td>Google News</td>\n",
       "      <td>3 AI Stocks That Also Pay Dividends</td>\n",
       "      <td>https://investorplace.com/2024/07/3-ai-stocks-...</td>\n",
       "      <td>True</td>\n",
       "      <td>2024-07-08</td>\n",
       "    </tr>\n",
       "    <tr>\n",
       "      <th>4</th>\n",
       "      <td>4</td>\n",
       "      <td>Google News</td>\n",
       "      <td>3 Stocks to Benefit From the AI Datacenter Pow...</td>\n",
       "      <td>https://www.barrons.com/articles/3-stocks-to-b...</td>\n",
       "      <td>True</td>\n",
       "      <td>2024-07-08</td>\n",
       "    </tr>\n",
       "    <tr>\n",
       "      <th>...</th>\n",
       "      <td>...</td>\n",
       "      <td>...</td>\n",
       "      <td>...</td>\n",
       "      <td>...</td>\n",
       "      <td>...</td>\n",
       "      <td>...</td>\n",
       "    </tr>\n",
       "    <tr>\n",
       "      <th>136</th>\n",
       "      <td>136</td>\n",
       "      <td>Google News</td>\n",
       "      <td>Will AI Soon Help Animals Talk To Us?</td>\n",
       "      <td>https://mindmatters.ai/2024/07/will-ai-soon-he...</td>\n",
       "      <td>True</td>\n",
       "      <td>2024-07-08</td>\n",
       "    </tr>\n",
       "    <tr>\n",
       "      <th>137</th>\n",
       "      <td>137</td>\n",
       "      <td>Feedly AI</td>\n",
       "      <td>Worlds first Miss AI crowned  and shes a hijab...</td>\n",
       "      <td>https://nypost.com/2024/07/08/lifestyle/worlds...</td>\n",
       "      <td>True</td>\n",
       "      <td>2024-07-08</td>\n",
       "    </tr>\n",
       "    <tr>\n",
       "      <th>138</th>\n",
       "      <td>138</td>\n",
       "      <td>Google News</td>\n",
       "      <td>YouTube Music May Soon Let You Generate Custom...</td>\n",
       "      <td>https://english.jagran.com/technology/youtube-...</td>\n",
       "      <td>True</td>\n",
       "      <td>2024-07-08</td>\n",
       "    </tr>\n",
       "    <tr>\n",
       "      <th>139</th>\n",
       "      <td>139</td>\n",
       "      <td>Google News</td>\n",
       "      <td>YouTube Music is piloting 'music any way you l...</td>\n",
       "      <td>https://www.techradar.com/streaming/youtube-mu...</td>\n",
       "      <td>True</td>\n",
       "      <td>2024-07-08</td>\n",
       "    </tr>\n",
       "    <tr>\n",
       "      <th>140</th>\n",
       "      <td>140</td>\n",
       "      <td>Reddit</td>\n",
       "      <td>myGenerativeEiAiAlgorithm</td>\n",
       "      <td>https://www.reddit.com/r/ProgrammerHumor/comme...</td>\n",
       "      <td>True</td>\n",
       "      <td>2024-07-08</td>\n",
       "    </tr>\n",
       "  </tbody>\n",
       "</table>\n",
       "<p>141 rows × 6 columns</p>\n",
       "</div>"
      ],
      "text/plain": [
       "      id          src                                              title  \\\n",
       "0      0  Google News              10 ways to prevent shadow AI disaster   \n",
       "1      1    Feedly AI  2 stocks to turn $100 into $1,000 for end of 2024   \n",
       "2      2  Google News  37 ad execs predict 2024 second half trends: A...   \n",
       "3      3  Google News                3 AI Stocks That Also Pay Dividends   \n",
       "4      4  Google News  3 Stocks to Benefit From the AI Datacenter Pow...   \n",
       "..   ...          ...                                                ...   \n",
       "136  136  Google News              Will AI Soon Help Animals Talk To Us?   \n",
       "137  137    Feedly AI  Worlds first Miss AI crowned  and shes a hijab...   \n",
       "138  138  Google News  YouTube Music May Soon Let You Generate Custom...   \n",
       "139  139  Google News  YouTube Music is piloting 'music any way you l...   \n",
       "140  140       Reddit                          myGenerativeEiAiAlgorithm   \n",
       "\n",
       "                                                   url  isAI        date  \n",
       "0    https://www.cio.com/article/2150142/10-ways-to...  True  2024-07-08  \n",
       "1    https://finbold.com/2-stocks-to-turn-100-into-...  True  2024-07-08  \n",
       "2    https://adage.com/article/agency-news/37-ad-ex...  True  2024-07-08  \n",
       "3    https://investorplace.com/2024/07/3-ai-stocks-...  True  2024-07-08  \n",
       "4    https://www.barrons.com/articles/3-stocks-to-b...  True  2024-07-08  \n",
       "..                                                 ...   ...         ...  \n",
       "136  https://mindmatters.ai/2024/07/will-ai-soon-he...  True  2024-07-08  \n",
       "137  https://nypost.com/2024/07/08/lifestyle/worlds...  True  2024-07-08  \n",
       "138  https://english.jagran.com/technology/youtube-...  True  2024-07-08  \n",
       "139  https://www.techradar.com/streaming/youtube-mu...  True  2024-07-08  \n",
       "140  https://www.reddit.com/r/ProgrammerHumor/comme...  True  2024-07-08  \n",
       "\n",
       "[141 rows x 6 columns]"
      ]
     },
     "execution_count": 27,
     "metadata": {},
     "output_type": "execute_result"
    }
   ],
   "source": [
    "AIdf"
   ]
  },
  {
   "cell_type": "markdown",
   "id": "28a733fe",
   "metadata": {},
   "source": [
    "# Topic analysis\n",
    "Here we are trying to identify the top topics of the day, to help make a nice summary. \n",
    "\n",
    "1st approach - do dimensionality reduction on the headline embeddings with UMAP and cluster with DBSCAN.\n",
    "\n",
    "2nd approach\n",
    " - extract topics from headline using a prompt\n",
    " - human canonicalizes topics\n",
    " - assign headlines to topics using a prompt\n",
    " \n",
    " The final summary is pretty inconsistent, would be nice to give chatgpt a prompt that would say, summarize these bullet points using this categorization.\n",
    " "
   ]
  },
  {
   "cell_type": "code",
   "execution_count": 28,
   "id": "cd93532f",
   "metadata": {},
   "outputs": [
    {
     "name": "stdout",
     "output_type": "stream",
     "text": [
      "\n",
      "You will act as a research assistant to extract topics from news headlines. You will extract topics, entities,\n",
      "and keywords from news headlines formatted as JSON objects.\n",
      "\n",
      "Input Specification:\n",
      "You will receive a list of news headlines formatted as JSON objects.\n",
      "Each object will include an 'id' and a 'title'. For instance:\n",
      "[{'id': 97, 'title': 'AI to predict dementia, detect cancer'},\n",
      " {'id': 103,'title': 'Figure robot learns to make coffee by watching humans for 10 hours'},\n",
      " {'id': 105,'title': \"Former Microsoft CEO Steve Ballmer is now just as rich as his former boss Bill Gates. Here's how he spends his billions.\"},\n",
      " {'id': 210,'title': 'ChatGPT removes, then reinstates a summarization assistant without explanation.'},\n",
      " {'id': 298,'title': 'The 5 most interesting PC monitors from CES 2024'},\n",
      "]\n",
      "\n",
      "Output Specification:\n",
      "You will return a JSON object with the field 'topics' containing a flat list of classification results.\n",
      "For each headline input, your output will be a JSON object containing the original 'id' and a new field 'topics',\n",
      "with a list of strings representing topics. The output schema must be strictly adhered to, without\n",
      "any additional fields. Example output:\n",
      "\n",
      "{'topics':\n",
      " [{\"id\": 97, \"topics\": [\"AI\", \"dementia\", \"cancer\", \"healthcare\", \"prediction\", \"diagnostics\"]},\n",
      "  {\"id\": 103, \"topics\": [\"AI\", \"robotics\", \"machine learning\", \"automation\", \"coffee making\", \"Figure\"]},\n",
      "  {\"id\": 105, \"topics\": [\"Microsoft\", \"Steve Ballmer\", \"Bill Gates\", \"wealth\", \"billionaires\"]},\n",
      "  {\"id\": 210, \"topics\": [\"AI\", ChatGPT\", \"product updates\", \"summarization\"]},\n",
      "  {\"id\": 298, \"topics\": [\"PCs\", \"monitors\", \"CES 2024\", \"consumer electronics\"]},\n",
      " ]\n",
      "}\n",
      "\n",
      "Instructions:\n",
      "Ensure that each output object accurately reflects this schema exactly without modification, and that\n",
      "it matches the corresponding input object in terms of the 'id' field and relevant topics.\n",
      "\n",
      "The list of headlines to extract topics from:\n",
      "\n",
      "\n"
     ]
    }
   ],
   "source": [
    "# attempt to extract top topics \n",
    "print(TOPIC_PROMPT)\n"
   ]
  },
  {
   "cell_type": "code",
   "execution_count": 29,
   "id": "bffa039a",
   "metadata": {},
   "outputs": [
    {
     "name": "stderr",
     "output_type": "stream",
     "text": [
      "2024-07-08 12:54:12,852 - AInewsbot - INFO - start topic extraction\n",
      "2024-07-08 12:54:12,854 - AInewsbot - INFO - sent 50 items \n",
      "2024-07-08 12:54:12,855 - AInewsbot - INFO - sent 50 items \n",
      "2024-07-08 12:54:12,856 - AInewsbot - INFO - sent 41 items \n",
      "2024-07-08 12:54:27,206 - AInewsbot - INFO - got dict with 41 items \n",
      "2024-07-08 12:54:29,370 - AInewsbot - INFO - got dict with 50 items \n",
      "2024-07-08 12:54:32,349 - AInewsbot - INFO - got dict with 50 items \n",
      "2024-07-08 12:54:32,353 - AInewsbot - INFO - Processed 141 responses.\n",
      "2024-07-08 12:54:32,357 - AInewsbot - INFO - end topic extraction\n"
     ]
    },
    {
     "name": "stdout",
     "output_type": "stream",
     "text": [
      "141\n"
     ]
    },
    {
     "data": {
      "text/html": [
       "<div>\n",
       "<style scoped>\n",
       "    .dataframe tbody tr th:only-of-type {\n",
       "        vertical-align: middle;\n",
       "    }\n",
       "\n",
       "    .dataframe tbody tr th {\n",
       "        vertical-align: top;\n",
       "    }\n",
       "\n",
       "    .dataframe thead th {\n",
       "        text-align: right;\n",
       "    }\n",
       "</style>\n",
       "<table border=\"1\" class=\"dataframe\">\n",
       "  <thead>\n",
       "    <tr style=\"text-align: right;\">\n",
       "      <th></th>\n",
       "      <th>id</th>\n",
       "      <th>topics</th>\n",
       "    </tr>\n",
       "  </thead>\n",
       "  <tbody>\n",
       "    <tr>\n",
       "      <th>0</th>\n",
       "      <td>0</td>\n",
       "      <td>[AI, disaster prevention]</td>\n",
       "    </tr>\n",
       "    <tr>\n",
       "      <th>1</th>\n",
       "      <td>1</td>\n",
       "      <td>[stocks, investment, financial planning]</td>\n",
       "    </tr>\n",
       "    <tr>\n",
       "      <th>2</th>\n",
       "      <td>2</td>\n",
       "      <td>[advertising, trends, AI, Olympics, Gen Z]</td>\n",
       "    </tr>\n",
       "    <tr>\n",
       "      <th>3</th>\n",
       "      <td>3</td>\n",
       "      <td>[AI, stocks, dividends]</td>\n",
       "    </tr>\n",
       "    <tr>\n",
       "      <th>4</th>\n",
       "      <td>4</td>\n",
       "      <td>[AI, datacenter, technology stocks]</td>\n",
       "    </tr>\n",
       "  </tbody>\n",
       "</table>\n",
       "</div>"
      ],
      "text/plain": [
       "   id                                      topics\n",
       "0   0                   [AI, disaster prevention]\n",
       "1   1    [stocks, investment, financial planning]\n",
       "2   2  [advertising, trends, AI, Olympics, Gen Z]\n",
       "3   3                     [AI, stocks, dividends]\n",
       "4   4         [AI, datacenter, technology stocks]"
      ]
     },
     "execution_count": 29,
     "metadata": {},
     "output_type": "execute_result"
    }
   ],
   "source": [
    "# get topics\n",
    "pages = paginate_df(AIdf)\n",
    "\n",
    "# apply this prompt to AI headlines\n",
    "log(\"start topic extraction\")\n",
    "response = asyncio.run(fetch_pages(pages, prompt=TOPIC_PROMPT))\n",
    "log(\"end topic extraction\")\n",
    "\n",
    "topic_df = pd.DataFrame(response)\n",
    "print(len(topic_df))\n",
    "topic_df.head()\n"
   ]
  },
  {
   "cell_type": "code",
   "execution_count": 40,
   "id": "45bf65ae",
   "metadata": {},
   "outputs": [
    {
     "name": "stdout",
     "output_type": "stream",
     "text": [
      "('AI', 76)\n",
      "('investment', 8)\n",
      "('ChatGPT', 8)\n",
      "('China', 8)\n",
      "('Google', 7)\n",
      "('WhatsApp', 5)\n",
      "('OpenAI', 5)\n",
      "('healthcare', 4)\n",
      "('technology', 4)\n",
      "('innovation', 4)\n",
      "('entertainment', 4)\n",
      "('generative AI', 4)\n",
      "('Microsoft', 4)\n",
      "('Artificial Intelligence', 3)\n",
      "('GitHub', 3)\n",
      "('Meta AI', 3)\n",
      "('business trends', 3)\n",
      "('stocks', 2)\n",
      "('trends', 2)\n",
      "('valuation', 2)\n",
      "('Siri', 2)\n",
      "('salary trends', 2)\n",
      "('research', 2)\n",
      "('robotics', 2)\n",
      "('big tech', 2)\n",
      "('technology applications', 2)\n",
      "('HR', 2)\n",
      "('technology testing', 2)\n",
      "('image analysis', 2)\n",
      "('language models', 2)\n",
      "('transformers', 2)\n",
      "('Cohere', 2)\n",
      "('Aidan Gomez', 2)\n",
      "('coding', 2)\n",
      "('stock market', 2)\n",
      "('Galaxy AI', 2)\n",
      "('Live Translate', 2)\n",
      "('training tech', 2)\n",
      "('Hebbia', 2)\n",
      "('funding', 2)\n",
      "('CEO', 2)\n",
      "('vacation planning', 2)\n",
      "('MIT', 2)\n",
      "('researchers', 2)\n",
      "('databases', 2)\n",
      "('Miss AI', 2)\n",
      "('Morocco', 2)\n",
      "('beauty pageant', 2)\n",
      "('MoBot', 2)\n",
      "('plant specimens', 2)\n",
      "('Nvidia', 2)\n",
      "('environmental impact', 2)\n",
      "('telecoms companies', 2)\n",
      "('scambaiting AI systems', 2)\n",
      "('Tesla', 2)\n",
      "('AI model', 2)\n",
      "('technology impact', 2)\n",
      "('YouTube Music', 2)\n",
      "('disaster prevention', 1)\n",
      "('financial planning', 1)\n",
      "('advertising', 1)\n",
      "('Olympics', 1)\n",
      "('Gen Z', 1)\n",
      "('dividends', 1)\n",
      "('datacenter', 1)\n",
      "('technology stocks', 1)\n",
      "('behavior change', 1)\n",
      "('military technology', 1)\n",
      "('super soldiers', 1)\n",
      "('ethics', 1)\n",
      "('trip planning', 1)\n",
      "('vacation', 1)\n",
      "('training methods', 1)\n",
      "('energy efficiency', 1)\n",
      "('cost savings', 1)\n",
      "('legislation', 1)\n",
      "('video creation', 1)\n",
      "('horror content', 1)\n",
      "('privacy concerns', 1)\n",
      "('surveillance', 1)\n",
      "('industry', 1)\n",
      "('revenues', 1)\n",
      "('economy', 1)\n",
      "('law enforcement', 1)\n",
      "('wrongful conviction', 1)\n",
      "('AI firms', 1)\n",
      "('business partnerships', 1)\n",
      "('fun', 1)\n",
      "('movie industry', 1)\n",
      "('creative content', 1)\n",
      "('CFOs', 1)\n",
      "('knowledge gap', 1)\n",
      "('technology upgrades', 1)\n",
      "('research grants', 1)\n",
      "('funding opportunities', 1)\n",
      "('networking', 1)\n",
      "('business growth', 1)\n",
      "('job market', 1)\n",
      "('risk assessment', 1)\n",
      "('exhibitions', 1)\n",
      "('baking', 1)\n",
      "('revenue targets', 1)\n",
      "('investment strategies', 1)\n",
      "('stock market trends', 1)\n",
      "('data privacy', 1)\n",
      "('opinion pieces', 1)\n",
      "('CIOs', 1)\n",
      "('cloud computing', 1)\n",
      "('special education', 1)\n",
      "('humor', 1)\n",
      "('creativity', 1)\n",
      "('writing', 1)\n",
      "('leadership', 1)\n",
      "('LLMs', 1)\n",
      "('resource allocation', 1)\n",
      "('iFlytek', 1)\n",
      "('market challenges', 1)\n",
      "('technology expo', 1)\n",
      "('industry trends', 1)\n",
      "('career paths', 1)\n",
      "('tech industry', 1)\n",
      "('career development', 1)\n",
      "('GPU technology', 1)\n",
      "('competition', 1)\n",
      "('Claude AI', 1)\n",
      "('ethical design', 1)\n",
      "('scaling laws', 1)\n",
      "('business models', 1)\n",
      "('software compatibility', 1)\n",
      "('PCs', 1)\n",
      "('troubleshooting', 1)\n",
      "('Corning', 1)\n",
      "('financial guidance', 1)\n",
      "('DRLQ', 1)\n",
      "('quantum computing', 1)\n",
      "('task optimization', 1)\n",
      "('birds', 1)\n",
      "('migration', 1)\n",
      "('microphone', 1)\n",
      "('plastic dish', 1)\n",
      "('Ethereum', 1)\n",
      "('Solana', 1)\n",
      "('ChatGPT-4o', 1)\n",
      "('travel industry', 1)\n",
      "('tourism industry', 1)\n",
      "('transformation', 1)\n",
      "('Claude 3', 1)\n",
      "('projects', 1)\n",
      "('knowledge', 1)\n",
      "('context window', 1)\n",
      "('Exiger', 1)\n",
      "('AI-driven', 1)\n",
      "('visibility', 1)\n",
      "('Versed AI', 1)\n",
      "('acquisition', 1)\n",
      "('language translation', 1)\n",
      "('feature', 1)\n",
      "('Cover Letter', 1)\n",
      "('writing assistance', 1)\n",
      "('search landscape', 1)\n",
      "('expert advice', 1)\n",
      "('energy consumption', 1)\n",
      "('search summaries', 1)\n",
      "('reality distortion', 1)\n",
      "('mobile users', 1)\n",
      "('warnings', 1)\n",
      "('DeepMind', 1)\n",
      "('JEST', 1)\n",
      "('optimization', 1)\n",
      "('speed', 1)\n",
      "('efficiency', 1)\n",
      "('Fuchsia OS', 1)\n",
      "('Android devices', 1)\n",
      "('Government', 1)\n",
      "('partnership', 1)\n",
      "('accessibility', 1)\n",
      "('Hacker', 1)\n",
      "('breach', 1)\n",
      "('internal details', 1)\n",
      "('report', 1)\n",
      "('complex questions', 1)\n",
      "('Online Activity', 1)\n",
      "('training data', 1)\n",
      "('Claude 3.5', 1)\n",
      "('Sonnet', 1)\n",
      "('GPT-4o', 1)\n",
      "('comparison', 1)\n",
      "('care models', 1)\n",
      "('venture capital market', 1)\n",
      "('company profits', 1)\n",
      "('AI limitations', 1)\n",
      "('study findings', 1)\n",
      "('AI assistants', 1)\n",
      "('viral video content production', 1)\n",
      "('prompting', 1)\n",
      "('integration', 1)\n",
      "('Gemini AI', 1)\n",
      "('Chromebooks', 1)\n",
      "('tools', 1)\n",
      "('workplace impact', 1)\n",
      "('liberal arts education', 1)\n",
      "('ascii art', 1)\n",
      "('flag depiction', 1)\n",
      "('ALDO', 1)\n",
      "('machine learning', 1)\n",
      "('strategy', 1)\n",
      "('AI chief', 1)\n",
      "('Mustafa Suleyman', 1)\n",
      "('containment', 1)\n",
      "('music industry', 1)\n",
      "('humanity', 1)\n",
      "('lawsuit', 1)\n",
      "('AI code use', 1)\n",
      "('DMCA claims', 1)\n",
      "('coders', 1)\n",
      "('Machine learning', 1)\n",
      "('cancer mutations', 1)\n",
      "('CTCF binding sites', 1)\n",
      "('Mary Meeker', 1)\n",
      "('higher education', 1)\n",
      "('Kenza Layli', 1)\n",
      "('contest winner', 1)\n",
      "('collaboration', 1)\n",
      "('features', 1)\n",
      "('image editing', 1)\n",
      "('Micro-agent', 1)\n",
      "('code writing', 1)\n",
      "('unit testing', 1)\n",
      "('AI companies', 1)\n",
      "('online content', 1)\n",
      "('tree movement', 1)\n",
      "('conservation', 1)\n",
      "('NYSEG', 1)\n",
      "('RG&E', 1)\n",
      "('AI assistant', 1)\n",
      "('customer service', 1)\n",
      "('website improvement', 1)\n",
      "('Apple Intelligence', 1)\n",
      "('new experience', 1)\n",
      "('Spring 2025 debut', 1)\n",
      "('document analysis', 1)\n",
      "('AI chip', 1)\n",
      "('antitrust scrutiny', 1)\n",
      "('stock gains', 1)\n",
      "('copyright claims', 1)\n",
      "('programmers', 1)\n",
      "('Thrive Global', 1)\n",
      "('Thrive AI Health', 1)\n",
      "('AI health coach', 1)\n",
      "('startup fund', 1)\n",
      "('tech giants', 1)\n",
      "('carbon emissions', 1)\n",
      "('racial bias', 1)\n",
      "('education', 1)\n",
      "('classroom apps', 1)\n",
      "('retail', 1)\n",
      "('department stores', 1)\n",
      "('finance', 1)\n",
      "('AI platforms', 1)\n",
      "('enterprise success', 1)\n",
      "('Samsung', 1)\n",
      "('profit rise', 1)\n",
      "('AI boom', 1)\n",
      "('chip prices', 1)\n",
      "('organizational success', 1)\n",
      "('hospital', 1)\n",
      "('labor and delivery', 1)\n",
      "('Southeast Asia', 1)\n",
      "('IPO market', 1)\n",
      "('AI listings', 1)\n",
      "('SpaceX', 1)\n",
      "('Elon Musk', 1)\n",
      "('rocket expansion', 1)\n",
      "('Jenoptik', 1)\n",
      "('smart cameras', 1)\n",
      "('UK', 1)\n",
      "('technology rollout', 1)\n",
      "('Steam', 1)\n",
      "('gaming deals', 1)\n",
      "('Summer Sale', 1)\n",
      "('Synerise', 1)\n",
      "('AI-driven solutions', 1)\n",
      "('behavioral modeling', 1)\n",
      "('Lenny+', 1)\n",
      "('Lenny', 1)\n",
      "('EV', 1)\n",
      "('FSD revenue', 1)\n",
      "('earnings report', 1)\n",
      "('AI plans', 1)\n",
      "('Tether', 1)\n",
      "('AI models', 1)\n",
      "('cybersecurity', 1)\n",
      "('technology models', 1)\n",
      "('text-to-code', 1)\n",
      "('automation', 1)\n",
      "('technology evolution', 1)\n",
      "('sustainable future', 1)\n",
      "('environment', 1)\n",
      "('AI-powered', 1)\n",
      "('movie camera', 1)\n",
      "('filmed footage', 1)\n",
      "('US recession', 1)\n",
      "('economic prediction', 1)\n",
      "('robots', 1)\n",
      "('microrobots', 1)\n",
      "('text to code', 1)\n",
      "('Agile Development', 1)\n",
      "('technology transformation', 1)\n",
      "('Canadian stocks', 1)\n",
      "('AI-driven datacenter expansion', 1)\n",
      "('Google Pixel Watch', 1)\n",
      "('upgrades', 1)\n",
      "('technology news', 1)\n",
      "('U.S. Access Board', 1)\n",
      "('disability', 1)\n",
      "('information session', 1)\n",
      "('UAB', 1)\n",
      "('artificial intelligence', 1)\n",
      "('education programs', 1)\n",
      "('students', 1)\n",
      "('UK Future Workforce Index', 1)\n",
      "('AI skills', 1)\n",
      "('hiring challenges', 1)\n",
      "('UN Agency', 1)\n",
      "('AI patents', 1)\n",
      "('technology race', 1)\n",
      "('examiners', 1)\n",
      "('real-world test', 1)\n",
      "('technology assessment', 1)\n",
      "('Vole', 1)\n",
      "('web content', 1)\n",
      "('AI scraping', 1)\n",
      "('freeware', 1)\n",
      "('disabled people', 1)\n",
      "('assistive technology', 1)\n",
      "('inclusion', 1)\n",
      "('photo editing', 1)\n",
      "('social media', 1)\n",
      "('communication', 1)\n",
      "('Claude 3.5 Sonnet', 1)\n",
      "('technology trends', 1)\n",
      "('Bitcoin mining companies', 1)\n",
      "('AI pivot', 1)\n",
      "('business strategy', 1)\n",
      "('animal communication', 1)\n",
      "('activist', 1)\n",
      "('radio generation', 1)\n",
      "('natural language prompts', 1)\n",
      "('AI technology', 1)\n",
      "('music radio', 1)\n",
      "('AI-generated', 1)\n",
      "('Generative AI Algorithm', 1)\n",
      "('technology innovation', 1)\n"
     ]
    }
   ],
   "source": [
    "all_topics = [item for row in topic_df.itertuples() for item in row.topics]\n",
    "item_counts = Counter(all_topics)\n",
    "for x in item_counts.most_common():\n",
    "    print(x)\n",
    "    "
   ]
  },
  {
   "cell_type": "code",
   "execution_count": 60,
   "id": "a42b0384",
   "metadata": {},
   "outputs": [],
   "source": [
    "# evergreen topics to hopefully map healdines to canonical standardized topics\n",
    "# review extracted topics and add\n",
    "evergreen = [\n",
    "    \"Policy and regulation\",\n",
    "    \"AI economic impacts\",\n",
    "    \"Robots\",\n",
    "    \"Autonomous vehicles\",\n",
    "    \"AI job market\",\n",
    "    \"LLMs\",\n",
    "    \"Healthcare\",\n",
    "    \"Fintech\",\n",
    "    \"Education\",\n",
    "    \"Entertainment\",\n",
    "    \"Startup funding\",\n",
    "    \"IPOs\",\n",
    "    \"Ethical issues\",\n",
    "    \"Legal issues\",\n",
    "    \"Cybersecurity\",\n",
    "    \"AI doom\",\n",
    "    'Stocks',\n",
    "    'Climate',\n",
    "    'Scams',\n",
    "    'Privacy',\n",
    "    'Intellectual Property',\n",
    "    'Code assistants',\n",
    "    'Customer service',\n",
    "    'Reinforcement Learning',\n",
    "    'Open Source',\n",
    "    'Language Models',\n",
    "    'China',\n",
    "    'Military',\n",
    "    'Semiconductor chips',\n",
    "    'Sustainability',\n",
    "    'Agriculture',\n",
    "    'Gen AI',\n",
    "    'Testing',\n",
    "    \n",
    "    'Nvidia',\n",
    "    'Google',\n",
    "    'OpenAI',\n",
    "    'Meta',\n",
    "    'Apple',\n",
    "    'Microsoft',\n",
    "    'Salesforce',\n",
    "    'Uber',\n",
    "    'AMD',\n",
    "    'Netflix',\n",
    "    'Disney',\n",
    "    'Amazon',\n",
    "    'Cloudflare',\n",
    "    'Anthropic',\n",
    "    'Cohere',\n",
    "    'Baidu',\n",
    "    'Big Tech',\n",
    "    'Samsung',\n",
    "    'Tesla',\n",
    "    \n",
    "    'ChatGPT',\n",
    "    'WhatsApp',\n",
    "    'Gemini',\n",
    "    'Claude',\n",
    "    'Copilot',\n",
    "    \n",
    "    'Elon Musk',\n",
    "    'Bill Gates',\n",
    "    'Sam Altman',\n",
    "    'Mustafa Suleyman',\n",
    "    'Sundar Pichai',\n",
    "    'Yann LeCun',\n",
    "    'Geoffrey Hinton',\n",
    "    'Mark Zuckerberg',\n",
    "]"
   ]
  },
  {
   "cell_type": "code",
   "execution_count": 63,
   "id": "86688034",
   "metadata": {},
   "outputs": [
    {
     "data": {
      "text/plain": [
       "['AI doom',\n",
       " 'AI economic impacts',\n",
       " 'AI job market',\n",
       " 'AMD',\n",
       " 'Agriculture',\n",
       " 'Amazon',\n",
       " 'Analyst',\n",
       " 'Anthropic',\n",
       " 'Apple',\n",
       " 'Autonomous vehicles',\n",
       " 'Baidu',\n",
       " 'Big Tech',\n",
       " 'Bill Gates',\n",
       " 'ChatGPT',\n",
       " 'China',\n",
       " 'Claude',\n",
       " 'Climate',\n",
       " 'Cloudflare',\n",
       " 'Code assistants',\n",
       " 'Cohere',\n",
       " 'Customer service',\n",
       " 'Cybersecurity',\n",
       " 'Disney',\n",
       " 'Education',\n",
       " 'Elon Musk',\n",
       " 'Entertainment',\n",
       " 'Ethical issues',\n",
       " 'Fintech',\n",
       " 'Gemini',\n",
       " 'GenAI',\n",
       " 'Geoffrey Hinton',\n",
       " 'Google',\n",
       " 'Healthcare',\n",
       " 'IPOs',\n",
       " 'Intellectual Property',\n",
       " 'LLMs',\n",
       " 'Language Models',\n",
       " 'Legal issues',\n",
       " 'Mark Zuckerberg',\n",
       " 'Meta',\n",
       " 'Microsoft',\n",
       " 'Military',\n",
       " 'Mustafa Suleyman',\n",
       " 'Netflix',\n",
       " 'Nvidia',\n",
       " 'Open Source',\n",
       " 'OpenAI',\n",
       " 'Policy and regulation',\n",
       " 'Privacy',\n",
       " 'Reinforcement Learning',\n",
       " 'Robots',\n",
       " 'Salesforce',\n",
       " 'Sam Altman',\n",
       " 'Samsung',\n",
       " 'Scams',\n",
       " 'Semiconductor chips',\n",
       " 'Startup funding',\n",
       " 'Stocks',\n",
       " 'Sundar Pichai',\n",
       " 'Sustainability',\n",
       " 'Tesla',\n",
       " 'Testing',\n",
       " 'Uber',\n",
       " 'WhatsApp',\n",
       " 'Yann LeCun']"
      ]
     },
     "execution_count": 63,
     "metadata": {},
     "output_type": "execute_result"
    }
   ],
   "source": [
    "# you could try it with new cats or new cats + evergreen\n",
    "# but probably look at new cats and human in the loop should add good new cats today to evergreen list\n",
    "# new_cats = list(json.loads(response.choices[0].message.content).values())[0]\n",
    "# categories = sorted(list(set(new_cats + evergreen)))\n",
    "categories = sorted(evergreen)\n",
    "categories\n"
   ]
  },
  {
   "cell_type": "code",
   "execution_count": 64,
   "id": "9de0a44a",
   "metadata": {},
   "outputs": [
    {
     "name": "stderr",
     "output_type": "stream",
     "text": [
      "2024-07-08 13:12:33,745 - AInewsbot - INFO - Categorizing headline 1 of 141\n",
      "2024-07-08 13:12:33,746 - AInewsbot - INFO - 10 ways to prevent shadow AI disaster\n",
      "2024-07-08 13:12:34,945 - AInewsbot - INFO - ['AI doom', 'Ethical issues']\n",
      "2024-07-08 13:12:34,947 - AInewsbot - INFO - Categorizing headline 2 of 141\n",
      "2024-07-08 13:12:34,948 - AInewsbot - INFO - 2 stocks to turn $100 into $1,000 for end of 2024\n",
      "2024-07-08 13:12:35,833 - AInewsbot - INFO - ['Stocks']\n",
      "2024-07-08 13:12:35,835 - AInewsbot - INFO - Categorizing headline 3 of 141\n",
      "2024-07-08 13:12:35,836 - AInewsbot - INFO - 37 ad execs predict 2024 second half trends: AI, Olympics, Gen Z\n",
      "2024-07-08 13:12:36,649 - AInewsbot - INFO - ['GenAI']\n",
      "2024-07-08 13:12:36,651 - AInewsbot - INFO - Categorizing headline 4 of 141\n",
      "2024-07-08 13:12:36,651 - AInewsbot - INFO - 3 AI Stocks That Also Pay Dividends\n",
      "2024-07-08 13:12:37,315 - AInewsbot - INFO - ['Stocks']\n",
      "2024-07-08 13:12:37,316 - AInewsbot - INFO - Categorizing headline 5 of 141\n",
      "2024-07-08 13:12:37,316 - AInewsbot - INFO - 3 Stocks to Benefit From the AI Datacenter Power Boom\n",
      "2024-07-08 13:12:38,138 - AInewsbot - INFO - ['AI economic impacts', 'Big Tech', 'Nvidia', 'Stocks']\n",
      "2024-07-08 13:12:38,140 - AInewsbot - INFO - Categorizing headline 6 of 141\n",
      "2024-07-08 13:12:38,141 - AInewsbot - INFO - AI-Driven Behavior Change Could Transform Health Care\n",
      "2024-07-08 13:12:38,920 - AInewsbot - INFO - ['GenAI', 'Healthcare']\n",
      "2024-07-08 13:12:38,922 - AInewsbot - INFO - Categorizing headline 7 of 141\n",
      "2024-07-08 13:12:38,922 - AInewsbot - INFO - AI-Powered Super Soldiers Are More Than Just a Pipe Dream\n",
      "2024-07-08 13:12:39,711 - AInewsbot - INFO - ['GenAI', 'Military']\n",
      "2024-07-08 13:12:39,712 - AInewsbot - INFO - Categorizing headline 8 of 141\n",
      "2024-07-08 13:12:39,714 - AInewsbot - INFO - AI Doppelganger  Cool or Creepy?\n",
      "2024-07-08 13:12:41,376 - AInewsbot - INFO - ['Ethical issues', 'GenAI']\n",
      "2024-07-08 13:12:41,378 - AInewsbot - INFO - Categorizing headline 9 of 141\n",
      "2024-07-08 13:12:41,380 - AInewsbot - INFO - AI Trip Planning: How to Use AI to Plan Your Next Vacation\n",
      "2024-07-08 13:12:42,704 - AInewsbot - INFO - ['GenAI']\n",
      "2024-07-08 13:12:42,706 - AInewsbot - INFO - Categorizing headline 10 of 141\n",
      "2024-07-08 13:12:42,707 - AInewsbot - INFO - AI breakthrough? Google's new training method uses 10x less power\n",
      "2024-07-08 13:12:43,478 - AInewsbot - INFO - ['Big Tech', 'Google', 'Reinforcement Learning', 'Sustainability']\n",
      "2024-07-08 13:12:43,479 - AInewsbot - INFO - Categorizing headline 11 of 141\n",
      "2024-07-08 13:12:43,480 - AInewsbot - INFO - AI can enhance health care and enable cost savings, lawmaker says\n",
      "2024-07-08 13:12:44,100 - AInewsbot - INFO - ['AI economic impacts', 'Healthcare', 'Policy and regulation']\n",
      "2024-07-08 13:12:44,101 - AInewsbot - INFO - Categorizing headline 12 of 141\n",
      "2024-07-08 13:12:44,102 - AInewsbot - INFO - AI creates video of 'what hell looks like' and the result is terrifying\n",
      "2024-07-08 13:12:45,102 - AInewsbot - INFO - ['AI doom', 'Ethical issues', 'GenAI', 'OpenAI']\n",
      "2024-07-08 13:12:45,104 - AInewsbot - INFO - Categorizing headline 13 of 141\n",
      "2024-07-08 13:12:45,104 - AInewsbot - INFO - AI eyes of roads that can spy inside cars pose threat to privacy\n",
      "2024-07-08 13:12:46,001 - AInewsbot - INFO - ['AI doom', 'Big Tech', 'Ethical issues', 'Legal issues', 'Policy and regulation', 'Privacy']\n",
      "2024-07-08 13:12:46,002 - AInewsbot - INFO - Categorizing headline 14 of 141\n",
      "2024-07-08 13:12:46,003 - AInewsbot - INFO - AI industry needs annual revenues of more than the UAEs GDP to offset costs\n",
      "2024-07-08 13:12:47,000 - AInewsbot - INFO - ['AI economic impacts']\n",
      "2024-07-08 13:12:47,002 - AInewsbot - INFO - Categorizing headline 15 of 141\n",
      "2024-07-08 13:12:47,003 - AInewsbot - INFO - AI put an innocent Texan in jail. Why is HPD working with Airship AI?\n",
      "2024-07-08 13:12:47,738 - AInewsbot - INFO - ['Ethical issues']\n",
      "2024-07-08 13:12:47,740 - AInewsbot - INFO - Categorizing headline 16 of 141\n",
      "2024-07-08 13:12:47,741 - AInewsbot - INFO - Abu Dhabi Investment Firm Lunate Takes On AI Firm G42s China Fund\n",
      "2024-07-08 13:12:48,705 - AInewsbot - INFO - ['GenAI', 'Startup funding']\n",
      "2024-07-08 13:12:48,707 - AInewsbot - INFO - Categorizing headline 17 of 141\n",
      "2024-07-08 13:12:48,708 - AInewsbot - INFO - A first physical system to learn nonlinear tasks without a traditional computer processor\n",
      "2024-07-08 13:12:49,953 - AInewsbot - INFO - ['GenAI', 'Meta', 'OpenAI', 'Reinforcement Learning', 'Robots', 'Semiconductor chips']\n",
      "2024-07-08 13:12:49,955 - AInewsbot - INFO - Categorizing headline 18 of 141\n",
      "2024-07-08 13:12:49,955 - AInewsbot - INFO - Aidan Gomez's Cohere Reaches $5 Billion Valuation with Nvidia's Backing\n",
      "2024-07-08 13:12:50,852 - AInewsbot - INFO - ['AI economic impacts', 'Cohere', 'Nvidia', 'Startup funding']\n",
      "2024-07-08 13:12:50,854 - AInewsbot - INFO - Categorizing headline 19 of 141\n",
      "2024-07-08 13:12:50,855 - AInewsbot - INFO - Ai is fun lol\n",
      "2024-07-08 13:12:51,774 - AInewsbot - INFO - []\n",
      "2024-07-08 13:12:51,776 - AInewsbot - INFO - Categorizing headline 20 of 141\n",
      "2024-07-08 13:12:51,777 - AInewsbot - INFO - Al-Generated Movie Trailer - Final Justice: The First Justice\n",
      "2024-07-08 13:12:52,673 - AInewsbot - INFO - ['Entertainment', 'GenAI', 'Language Models', 'Reinforcement Learning', 'Robots']\n",
      "2024-07-08 13:12:52,674 - AInewsbot - INFO - Categorizing headline 21 of 141\n",
      "2024-07-08 13:12:52,675 - AInewsbot - INFO - A majority of CFOs admit they don't fully understand AI\n",
      "2024-07-08 13:12:53,888 - AInewsbot - INFO - ['AI economic impacts', 'GenAI']\n",
      "2024-07-08 13:12:53,890 - AInewsbot - INFO - Categorizing headline 22 of 141\n",
      "2024-07-08 13:12:53,891 - AInewsbot - INFO - Apples massive AI-powered Siri upgrade isnt coming until spring 2025\n",
      "2024-07-08 13:12:54,608 - AInewsbot - INFO - ['Apple', 'Big Tech']\n",
      "2024-07-08 13:12:54,610 - AInewsbot - INFO - Categorizing headline 23 of 141\n",
      "2024-07-08 13:12:54,611 - AInewsbot - INFO - Apply Now: GBP 150,000 Artificial Intelligence Research Grants\n",
      "2024-07-08 13:12:55,552 - AInewsbot - INFO - []\n",
      "2024-07-08 13:12:55,553 - AInewsbot - INFO - Categorizing headline 24 of 141\n",
      "2024-07-08 13:12:55,554 - AInewsbot - INFO - Arista Networks: Nvidia Isn't The Only AI Gold Rush Beneficiary (NYSE:ANET)\n",
      "2024-07-08 13:12:56,531 - AInewsbot - INFO - ['Stocks']\n",
      "2024-07-08 13:12:56,532 - AInewsbot - INFO - Categorizing headline 25 of 141\n",
      "2024-07-08 13:12:56,533 - AInewsbot - INFO - Artificial Intelligence Boom Lifts Paychecks for CIOs\n",
      "2024-07-08 13:12:57,456 - AInewsbot - INFO - ['AI economic impacts', 'AI job market', 'Big Tech', 'GenAI']\n",
      "2024-07-08 13:12:57,458 - AInewsbot - INFO - Categorizing headline 26 of 141\n",
      "2024-07-08 13:12:57,459 - AInewsbot - INFO - Artificial Intelligence Researchers Need More Information to Understand Risks\n",
      "2024-07-08 13:12:58,838 - AInewsbot - INFO - ['AI doom', 'Ethical issues', 'OpenAI']\n",
      "2024-07-08 13:12:58,840 - AInewsbot - INFO - Categorizing headline 27 of 141\n",
      "2024-07-08 13:12:58,841 - AInewsbot - INFO - At Shanghai AI Expo, Humanoid Robots Turn Heads, Bake Bread\n",
      "2024-07-08 13:12:59,895 - AInewsbot - INFO - ['China', 'Robots']\n",
      "2024-07-08 13:12:59,897 - AInewsbot - INFO - Categorizing headline 28 of 141\n",
      "2024-07-08 13:12:59,898 - AInewsbot - INFO - Big Tech needs to generate $600 billion in annual revenue to justify AI hardware expenditure\n",
      "2024-07-08 13:13:00,700 - AInewsbot - INFO - ['AI economic impacts', 'Analyst', 'Big Tech', 'GenAI', 'Nvidia']\n",
      "2024-07-08 13:13:00,702 - AInewsbot - INFO - Categorizing headline 29 of 141\n",
      "2024-07-08 13:13:00,703 - AInewsbot - INFO - Billionaires Are Selling Nvidia Stock and Buying 2 Supercharged Artificial Intelligence (AI) Stocks Instead\n",
      "2024-07-08 13:13:01,597 - AInewsbot - INFO - ['AI economic impacts', 'Nvidia', 'Stocks']\n",
      "2024-07-08 13:13:01,599 - AInewsbot - INFO - Categorizing headline 30 of 141\n",
      "2024-07-08 13:13:01,600 - AInewsbot - INFO - Breaking the rules is in big tech's blood  now it's time to break the habitOpinionMicrosoft: All your data are belong to us? World: That's so last centuryAI + ML4 hrs|9\n",
      "2024-07-08 13:13:02,411 - AInewsbot - INFO - ['Big Tech', 'Ethical issues', 'Microsoft', 'Privacy']\n",
      "2024-07-08 13:13:02,413 - AInewsbot - INFO - Categorizing headline 31 of 141\n"
     ]
    },
    {
     "name": "stderr",
     "output_type": "stream",
     "text": [
      "2024-07-08 13:13:02,414 - AInewsbot - INFO - CIOs' concerns over generative AI echo those of the early days of cloud computing\n",
      "2024-07-08 13:13:03,182 - AInewsbot - INFO - ['GenAI']\n",
      "2024-07-08 13:13:03,184 - AInewsbot - INFO - Categorizing headline 32 of 141\n",
      "2024-07-08 13:13:03,185 - AInewsbot - INFO - Can AI Help With Special Ed.? There's Promiseand Reason to Be Cautious\n",
      "2024-07-08 13:13:04,843 - AInewsbot - INFO - ['Education', 'Meta']\n",
      "2024-07-08 13:13:04,845 - AInewsbot - INFO - Categorizing headline 33 of 141\n",
      "2024-07-08 13:13:04,845 - AInewsbot - INFO - Can ChatGPT handle HR? Here's what happened when we put it to the test\n",
      "2024-07-08 13:13:05,793 - AInewsbot - INFO - ['ChatGPT', 'GenAI', 'Language Models', 'OpenAI', 'Testing']\n",
      "2024-07-08 13:13:05,795 - AInewsbot - INFO - Categorizing headline 34 of 141\n",
      "2024-07-08 13:13:05,795 - AInewsbot - INFO - Can ChatGPT handle HR? Heres what happened when we put it to the test\n",
      "2024-07-08 13:13:06,995 - AInewsbot - INFO - ['AI job market', 'ChatGPT', 'GenAI', 'Language Models', 'OpenAI', 'Robots', 'Testing']\n",
      "2024-07-08 13:13:06,997 - AInewsbot - INFO - Categorizing headline 35 of 141\n",
      "2024-07-08 13:13:06,998 - AInewsbot - INFO - ChatGPT accurately guesses my weight based on a photo. I weigh 167\n",
      "2024-07-08 13:13:07,779 - AInewsbot - INFO - []\n",
      "2024-07-08 13:13:07,781 - AInewsbot - INFO - Categorizing headline 36 of 141\n",
      "2024-07-08 13:13:07,781 - AInewsbot - INFO - ChatGPT is funnier than humans (and its no joke for professional writers)\n",
      "2024-07-08 13:13:08,627 - AInewsbot - INFO - ['ChatGPT', 'Code assistants', 'GenAI', 'Language Models', 'OpenAI', 'Robots']\n",
      "2024-07-08 13:13:08,629 - AInewsbot - INFO - Categorizing headline 37 of 141\n",
      "2024-07-08 13:13:08,630 - AInewsbot - INFO - China's AI Leaders Alibaba and SenseTime Showcase Breakthroughs at Shanghai Conference\n",
      "2024-07-08 13:13:09,477 - AInewsbot - INFO - ['AI economic impacts', 'Big Tech', 'China']\n",
      "2024-07-08 13:13:09,478 - AInewsbot - INFO - Categorizing headline 38 of 141\n",
      "2024-07-08 13:13:09,479 - AInewsbot - INFO - China's AI model glut is a 'significant waste of resources' due to scarce real-world applications for 100+ LLMs says Baidu CEO\n",
      "2024-07-08 13:13:10,189 - AInewsbot - INFO - ['AI doom', 'AI economic impacts', 'Baidu', 'Big Tech', 'China', 'GenAI', 'LLMs', 'Language Models']\n",
      "2024-07-08 13:13:10,190 - AInewsbot - INFO - Categorizing headline 39 of 141\n",
      "2024-07-08 13:13:10,192 - AInewsbot - INFO - China AI leader iFlytek dips into red under 'ultimate' U.S. pressure\n",
      "2024-07-08 13:13:11,259 - AInewsbot - INFO - ['AI economic impacts', 'China', 'Policy and regulation']\n",
      "2024-07-08 13:13:11,260 - AInewsbot - INFO - Categorizing headline 40 of 141\n",
      "2024-07-08 13:13:11,260 - AInewsbot - INFO - China flexes AI muscle at Shanghai expo\n",
      "2024-07-08 13:13:12,314 - AInewsbot - INFO - ['AI economic impacts', 'Big Tech', 'China', 'GenAI', 'Robots']\n",
      "2024-07-08 13:13:12,315 - AInewsbot - INFO - Categorizing headline 41 of 141\n",
      "2024-07-08 13:13:12,316 - AInewsbot - INFO - China sees changing of career guard as AI beats out finance in pay pyramid\n",
      "2024-07-08 13:13:13,690 - AInewsbot - INFO - ['AI economic impacts', 'AI job market', 'GenAI', 'Robots']\n",
      "2024-07-08 13:13:13,692 - AInewsbot - INFO - Categorizing headline 42 of 141\n",
      "2024-07-08 13:13:13,693 - AInewsbot - INFO - Chinas tech boom powering AI career coup, with finance muscled out at top of salary pyramid\n",
      "2024-07-08 13:13:14,662 - AInewsbot - INFO - ['AI economic impacts', 'AI job market', 'China']\n",
      "2024-07-08 13:13:14,663 - AInewsbot - INFO - Categorizing headline 43 of 141\n",
      "2024-07-08 13:13:14,664 - AInewsbot - INFO - Chinese GPU maker Moore Threads' MTLink fabric tech challenges Nvidia's NVLink, can now scale to 10,000 GPUs for AI clusters\n",
      "2024-07-08 13:13:15,905 - AInewsbot - INFO - ['China', 'GenAI', 'Nvidia', 'Semiconductor chips']\n",
      "2024-07-08 13:13:15,906 - AInewsbot - INFO - Categorizing headline 44 of 141\n",
      "2024-07-08 13:13:15,907 - AInewsbot - INFO - Claude AI: A Comprehensive Overview Exploring the Advanced Capabilities and Ethical Design of Anthropics Leading Language Model\n",
      "2024-07-08 13:13:16,987 - AInewsbot - INFO - ['Anthropic', 'Claude', 'Cohere', 'Ethical issues', 'LLMs', 'Language Models']\n",
      "2024-07-08 13:13:16,988 - AInewsbot - INFO - Categorizing headline 45 of 141\n",
      "2024-07-08 13:13:16,989 - AInewsbot - INFO - Co-author of the original Transformers paper says models are doing things he thought were 40 years away and scaling laws will continue to hold\n",
      "2024-07-08 13:13:18,532 - AInewsbot - INFO - ['Geoffrey Hinton', 'Meta', 'OpenAI', 'Robots', 'Yann LeCun']\n",
      "2024-07-08 13:13:18,533 - AInewsbot - INFO - Categorizing headline 46 of 141\n",
      "2024-07-08 13:13:18,534 - AInewsbot - INFO - Cohere CEO and ex-Google researcher Aidan Gomez on how his AI models make money for companies\n",
      "2024-07-08 13:13:19,798 - AInewsbot - INFO - ['AI economic impacts', 'AI job market', 'Big Tech', 'Cohere', 'GenAI', 'Language Models']\n",
      "2024-07-08 13:13:19,800 - AInewsbot - INFO - Categorizing headline 47 of 141\n",
      "2024-07-08 13:13:19,801 - AInewsbot - INFO - Converting Epics/Stories into Pseudocode using Transformers\n",
      "2024-07-08 13:13:20,734 - AInewsbot - INFO - ['Code assistants', 'GenAI', 'LLMs', 'Language Models', 'OpenAI']\n",
      "2024-07-08 13:13:20,736 - AInewsbot - INFO - Categorizing headline 48 of 141\n",
      "2024-07-08 13:13:20,737 - AInewsbot - INFO - Copilot+ PCs software compatibility issues left to you to sort out, with help from crowdsourcersSamsung warned users, but the PC industrys big players hardly mention the possibility of problems\n",
      "2024-07-08 13:13:21,527 - AInewsbot - INFO - []\n",
      "2024-07-08 13:13:21,529 - AInewsbot - INFO - Categorizing headline 49 of 141\n",
      "2024-07-08 13:13:21,530 - AInewsbot - INFO - Cornings stock soars 7% after company raises Q2 guidance to reflect AI bump\n",
      "2024-07-08 13:13:22,249 - AInewsbot - INFO - ['AI economic impacts', 'GenAI', 'Robots', 'Stocks']\n",
      "2024-07-08 13:13:22,251 - AInewsbot - INFO - Categorizing headline 50 of 141\n",
      "2024-07-08 13:13:22,252 - AInewsbot - INFO - DRLQ: A Novel Deep Reinforcement Learning (DRL)-based Technique for Task Placement in Quantum Cloud Computing Environments\n",
      "2024-07-08 13:13:22,862 - AInewsbot - INFO - ['Reinforcement Learning']\n",
      "2024-07-08 13:13:22,863 - AInewsbot - INFO - Categorizing headline 51 of 141\n",
      "2024-07-08 13:13:22,864 - AInewsbot - INFO - Detect Migrating Birds with a Plastic Dish and a Cheap Microphone\n",
      "2024-07-08 13:13:23,558 - AInewsbot - INFO - ['Sustainability']\n",
      "2024-07-08 13:13:23,560 - AInewsbot - INFO - Categorizing headline 52 of 141\n",
      "2024-07-08 13:13:23,561 - AInewsbot - INFO - Ethereum or Solana? We asked ChatGPT-4o which stock is a better buy for 2024\n",
      "2024-07-08 13:13:24,445 - AInewsbot - INFO - ['ChatGPT', 'GenAI', 'Language Models', 'OpenAI']\n",
      "2024-07-08 13:13:24,447 - AInewsbot - INFO - Categorizing headline 53 of 141\n",
      "2024-07-08 13:13:24,448 - AInewsbot - INFO - Everything You Need to Know About How Artificial Intelligence Transforming Travel and Tourism Industry\n",
      "2024-07-08 13:13:25,492 - AInewsbot - INFO - ['AI economic impacts']\n",
      "2024-07-08 13:13:25,493 - AInewsbot - INFO - Categorizing headline 54 of 141\n",
      "2024-07-08 13:13:25,495 - AInewsbot - INFO - Exciting Claude 3 Projects with internal knowledge, 200k context window\n",
      "2024-07-08 13:13:26,440 - AInewsbot - INFO - ['ChatGPT', 'Claude', 'Code assistants', 'Cohere', 'LLMs', 'Language Models', 'OpenAI']\n",
      "2024-07-08 13:13:26,442 - AInewsbot - INFO - Categorizing headline 55 of 141\n",
      "2024-07-08 13:13:26,443 - AInewsbot - INFO - Exiger Leads Market in AI-Driven Multi-Tier Visibility with Versed AI Acquisition\n",
      "2024-07-08 13:13:27,314 - AInewsbot - INFO - []\n",
      "2024-07-08 13:13:27,316 - AInewsbot - INFO - Categorizing headline 56 of 141\n",
      "2024-07-08 13:13:27,316 - AInewsbot - INFO - Galaxy AI Live Translate feature might soon bridge the language gap in WhatsApp calls\n",
      "2024-07-08 13:13:28,367 - AInewsbot - INFO - ['Big Tech', 'Language Models', 'Samsung', 'WhatsApp']\n",
      "2024-07-08 13:13:28,369 - AInewsbot - INFO - Categorizing headline 57 of 141\n",
      "2024-07-08 13:13:28,370 - AInewsbot - INFO - Go Ahead, Write Your Cover Letter With ChatGPT\n",
      "2024-07-08 13:13:29,272 - AInewsbot - INFO - ['AI job market', 'ChatGPT', 'GenAI', 'Language Models', 'Meta', 'OpenAI']\n"
     ]
    },
    {
     "name": "stderr",
     "output_type": "stream",
     "text": [
      "2024-07-08 13:13:29,273 - AInewsbot - INFO - Categorizing headline 58 of 141\n",
      "2024-07-08 13:13:29,274 - AInewsbot - INFO - Google's AI Aftershock: Expert Explains How to Thrive in the New Search Landscape\n",
      "2024-07-08 13:13:29,995 - AInewsbot - INFO - ['AI economic impacts', 'Big Tech', 'Google']\n",
      "2024-07-08 13:13:29,997 - AInewsbot - INFO - Categorizing headline 59 of 141\n",
      "2024-07-08 13:13:29,998 - AInewsbot - INFO - Google's AI search summaries use 10x more energy than just doing a normal Google search\n",
      "2024-07-08 13:13:30,696 - AInewsbot - INFO - ['AI doom', 'AI economic impacts', 'Big Tech', 'Climate', 'Ethical issues', 'Google', 'Sustainability']\n",
      "2024-07-08 13:13:30,697 - AInewsbot - INFO - Categorizing headline 60 of 141\n",
      "2024-07-08 13:13:30,697 - AInewsbot - INFO - Google Experts Warn That AI May Distort Reality, While AI Overviews Repel Mobile Users\n",
      "2024-07-08 13:13:31,777 - AInewsbot - INFO - ['AI doom', 'AI economic impacts', 'Big Tech', 'Ethical issues', 'GenAI', 'Google', 'Language Models']\n",
      "2024-07-08 13:13:31,778 - AInewsbot - INFO - Categorizing headline 61 of 141\n",
      "2024-07-08 13:13:31,779 - AInewsbot - INFO - Google claims new AI training tech is 13 times faster and 10 times more power efficient  DeepMind's new JEST optimizes training data for impressive gains\n",
      "2024-07-08 13:13:32,542 - AInewsbot - INFO - ['Big Tech', 'GenAI', 'Google']\n",
      "2024-07-08 13:13:32,543 - AInewsbot - INFO - Categorizing headline 62 of 141\n",
      "2024-07-08 13:13:32,545 - AInewsbot - INFO - Google claims new AI training tech is 13x faster, 10x more power efficient\n",
      "2024-07-08 13:13:34,133 - AInewsbot - INFO - ['Big Tech', 'GenAI', 'Google']\n",
      "2024-07-08 13:13:34,134 - AInewsbot - INFO - Categorizing headline 63 of 141\n",
      "2024-07-08 13:13:34,135 - AInewsbot - INFO - Google is bringing Fuchsia OS to Android devices, but not in the way you'd think\n",
      "2024-07-08 13:13:34,894 - AInewsbot - INFO - ['Big Tech', 'Google', 'Open Source']\n",
      "2024-07-08 13:13:34,896 - AInewsbot - INFO - Categorizing headline 64 of 141\n",
      "2024-07-08 13:13:34,897 - AInewsbot - INFO - Government, Partners Plan Together for Accessible AI\n",
      "2024-07-08 13:13:36,182 - AInewsbot - INFO - ['GenAI', 'Meta', 'Policy and regulation']\n",
      "2024-07-08 13:13:36,184 - AInewsbot - INFO - Categorizing headline 65 of 141\n",
      "2024-07-08 13:13:36,185 - AInewsbot - INFO - Hacker accessed OpenAI's internal AI details in 2023 breach: report\n",
      "2024-07-08 13:13:37,203 - AInewsbot - INFO - ['AI doom', 'Big Tech', 'Cybersecurity', 'Ethical issues', 'Language Models', 'OpenAI', 'Privacy']\n",
      "2024-07-08 13:13:37,205 - AInewsbot - INFO - Categorizing headline 66 of 141\n",
      "2024-07-08 13:13:37,206 - AInewsbot - INFO - Hebbia Raises $130 Million for AI That Helps Firms Answer Complex Questions\n",
      "2024-07-08 13:13:37,952 - AInewsbot - INFO - ['AI economic impacts', 'AI job market', 'Language Models', 'Startup funding']\n",
      "2024-07-08 13:13:37,954 - AInewsbot - INFO - Categorizing headline 67 of 141\n",
      "2024-07-08 13:13:37,955 - AInewsbot - INFO - Here's How Your Online Activity Is Training Next-Gen AI\n",
      "2024-07-08 13:13:38,791 - AInewsbot - INFO - ['AI doom', 'AI economic impacts', 'AI job market', 'Big Tech', 'GenAI', 'LLMs', 'Language Models', 'OpenAI', 'Reinforcement Learning']\n",
      "2024-07-08 13:13:38,793 - AInewsbot - INFO - Categorizing headline 68 of 141\n",
      "2024-07-08 13:13:38,794 - AInewsbot - INFO - Heres how Claude 3.5 Sonnet and GPT-4o stack up in a direct comparison\n",
      "2024-07-08 13:13:39,654 - AInewsbot - INFO - ['ChatGPT', 'GenAI', 'Language Models', 'OpenAI']\n",
      "2024-07-08 13:13:39,656 - AInewsbot - INFO - Categorizing headline 69 of 141\n",
      "2024-07-08 13:13:39,657 - AInewsbot - INFO - How AI And New Care Models Make Healthcare Easier, Cheaper, And Better\n",
      "2024-07-08 13:13:41,424 - AInewsbot - INFO - ['Healthcare']\n",
      "2024-07-08 13:13:41,426 - AInewsbot - INFO - Categorizing headline 70 of 141\n",
      "2024-07-08 13:13:41,427 - AInewsbot - INFO - How AI is driving the venture capital market\n",
      "2024-07-08 13:13:42,577 - AInewsbot - INFO - ['AI economic impacts', 'GenAI', 'Meta', 'Startup funding']\n",
      "2024-07-08 13:13:42,579 - AInewsbot - INFO - Categorizing headline 71 of 141\n",
      "2024-07-08 13:13:42,581 - AInewsbot - INFO - How Cohere CEO Aidan Gomez Says AI Will Directly Profit Companies\n",
      "2024-07-08 13:13:43,481 - AInewsbot - INFO - ['AI economic impacts', 'Cohere', 'GenAI', 'Language Models', 'Reinforcement Learning']\n",
      "2024-07-08 13:13:43,482 - AInewsbot - INFO - Categorizing headline 72 of 141\n",
      "2024-07-08 13:13:43,483 - AInewsbot - INFO - How Good Is ChatGPT at Coding, Really? Study finds that while AI can be great, it also struggles due to training limitations\n",
      "2024-07-08 13:13:44,415 - AInewsbot - INFO - ['ChatGPT', 'Code assistants', 'Language Models', 'OpenAI']\n",
      "2024-07-08 13:13:44,416 - AInewsbot - INFO - Categorizing headline 73 of 141\n",
      "2024-07-08 13:13:44,418 - AInewsbot - INFO - How prompting and integration AI assistants have sped up viral video content production 100 fold\n",
      "2024-07-08 13:13:46,358 - AInewsbot - INFO - ['AI economic impacts', 'GenAI']\n",
      "2024-07-08 13:13:46,360 - AInewsbot - INFO - Categorizing headline 74 of 141\n",
      "2024-07-08 13:13:46,361 - AInewsbot - INFO - How to use AI to plan your next vacation\n",
      "2024-07-08 13:13:47,090 - AInewsbot - INFO - ['GenAI']\n",
      "2024-07-08 13:13:47,092 - AInewsbot - INFO - Categorizing headline 75 of 141\n",
      "2024-07-08 13:13:47,094 - AInewsbot - INFO - How to use the new Gemini AI tools built into Chromebooks\n",
      "2024-07-08 13:13:48,165 - AInewsbot - INFO - ['Code assistants', 'Gemini', 'GenAI', 'Google']\n",
      "2024-07-08 13:13:48,166 - AInewsbot - INFO - Categorizing headline 76 of 141\n",
      "2024-07-08 13:13:48,167 - AInewsbot - INFO - How will the rise of AI in the workplace impact liberal arts education?\n",
      "2024-07-08 13:13:49,103 - AInewsbot - INFO - ['AI economic impacts', 'Education', 'GenAI']\n",
      "2024-07-08 13:13:49,104 - AInewsbot - INFO - Categorizing headline 77 of 141\n",
      "2024-07-08 13:13:49,104 - AInewsbot - INFO - I asked chat gpt to depict Bhutans flag in ascii.\n",
      "2024-07-08 13:13:50,151 - AInewsbot - INFO - ['ChatGPT', 'Code assistants', 'GenAI', 'LLMs', 'Language Models', 'OpenAI', 'Robots', 'Testing']\n",
      "2024-07-08 13:13:50,153 - AInewsbot - INFO - Categorizing headline 78 of 141\n",
      "2024-07-08 13:13:50,154 - AInewsbot - INFO - Inside ALDO's in-house generative AI and machine learning strategy\n",
      "2024-07-08 13:13:51,162 - AInewsbot - INFO - ['AI job market', 'GenAI', 'Meta']\n",
      "2024-07-08 13:13:51,164 - AInewsbot - INFO - Categorizing headline 79 of 141\n",
      "2024-07-08 13:13:51,165 - AInewsbot - INFO - Interview: Microsoft AI chief Mustafa Suleyman on balancing AI innovation and containment\n",
      "2024-07-08 13:13:53,896 - AInewsbot - INFO - ['Big Tech', 'Ethical issues', 'Microsoft', 'Mustafa Suleyman']\n",
      "2024-07-08 13:13:53,898 - AInewsbot - INFO - Categorizing headline 80 of 141\n",
      "2024-07-08 13:13:53,899 - AInewsbot - INFO - Is AI's entry into music a sign of humanity's last tune?\n",
      "2024-07-08 13:13:55,510 - AInewsbot - INFO - ['AI doom', 'Entertainment', 'Ethical issues', 'GenAI', 'Robots']\n",
      "2024-07-08 13:13:55,512 - AInewsbot - INFO - Categorizing headline 81 of 141\n",
      "2024-07-08 13:13:55,513 - AInewsbot - INFO - Judge Partially Dismisses $1B Lawsuit Against Microsoft, OpenAI, and GitHub Over AI Code Use\n",
      "2024-07-08 13:13:56,219 - AInewsbot - INFO - ['Big Tech', 'Code assistants', 'Ethical issues', 'GenAI', 'Intellectual Property', 'Language Models', 'Legal issues', 'Microsoft', 'Open Source', 'OpenAI']\n",
      "2024-07-08 13:13:56,221 - AInewsbot - INFO - Categorizing headline 82 of 141\n",
      "2024-07-08 13:13:56,221 - AInewsbot - INFO - Judge dismisses coders' DMCA claims against Microsoft, OpenAI and GitHub\n",
      "2024-07-08 13:13:57,314 - AInewsbot - INFO - ['Big Tech', 'GenAI', 'Intellectual Property', 'Legal issues', 'Microsoft', 'Open Source', 'OpenAI', 'Policy and regulation']\n",
      "2024-07-08 13:13:57,316 - AInewsbot - INFO - Categorizing headline 83 of 141\n",
      "2024-07-08 13:13:57,317 - AInewsbot - INFO - MIT researchers introduce generative AI for databases\n",
      "2024-07-08 13:13:58,329 - AInewsbot - INFO - ['AI job market', 'GenAI']\n",
      "2024-07-08 13:13:58,331 - AInewsbot - INFO - Categorizing headline 84 of 141\n",
      "2024-07-08 13:13:58,332 - AInewsbot - INFO - MIT researchers introduce generative AI for databases | MIT News | Massachusetts Institute of Technology\n"
     ]
    },
    {
     "name": "stderr",
     "output_type": "stream",
     "text": [
      "2024-07-08 13:13:59,197 - AInewsbot - INFO - ['AI economic impacts', 'AI job market', 'GenAI', 'Meta']\n",
      "2024-07-08 13:13:59,198 - AInewsbot - INFO - Categorizing headline 85 of 141\n",
      "2024-07-08 13:13:59,199 - AInewsbot - INFO - Machine learning identifies cancer-driving mutations at CTCF binding sites\n",
      "2024-07-08 13:14:00,886 - AInewsbot - INFO - ['GenAI', 'Healthcare', 'Meta']\n",
      "2024-07-08 13:14:00,888 - AInewsbot - INFO - Categorizing headline 86 of 141\n",
      "2024-07-08 13:14:00,889 - AInewsbot - INFO - Mary Meeker urges higher ed to lead in AI\n",
      "2024-07-08 13:14:02,492 - AInewsbot - INFO - ['AI economic impacts', 'AI job market', 'Education', 'GenAI']\n",
      "2024-07-08 13:14:02,493 - AInewsbot - INFO - Categorizing headline 87 of 141\n",
      "2024-07-08 13:14:02,494 - AInewsbot - INFO - Meet hijab-clad Kenza Layli from Morcco, world's first-ever Miss AI who beat 1500 contestants\n",
      "2024-07-08 13:14:03,626 - AInewsbot - INFO - ['Entertainment', 'GenAI']\n",
      "2024-07-08 13:14:03,628 - AInewsbot - INFO - Categorizing headline 88 of 141\n",
      "2024-07-08 13:14:03,629 - AInewsbot - INFO - Meta AI may get more collaborative in WhatsApp for Android.\n",
      "2024-07-08 13:14:04,527 - AInewsbot - INFO - ['Big Tech', 'Language Models', 'Meta', 'WhatsApp']\n",
      "2024-07-08 13:14:04,528 - AInewsbot - INFO - Categorizing headline 89 of 141\n",
      "2024-07-08 13:14:04,529 - AInewsbot - INFO - Meta AI on WhatsApp is getting smarter: You will soon be able to edit and analyse images\n",
      "2024-07-08 13:14:05,327 - AInewsbot - INFO - ['AI economic impacts', 'Big Tech', 'Meta', 'WhatsApp']\n",
      "2024-07-08 13:14:05,328 - AInewsbot - INFO - Categorizing headline 90 of 141\n",
      "2024-07-08 13:14:05,333 - AInewsbot - INFO - Micro-agent: make an AI write code until it passes an unit test\n",
      "2024-07-08 13:14:06,427 - AInewsbot - INFO - ['Code assistants', 'GenAI', 'Language Models', 'Meta', 'OpenAI', 'Reinforcement Learning', 'Testing']\n",
      "2024-07-08 13:14:06,429 - AInewsbot - INFO - Categorizing headline 91 of 141\n",
      "2024-07-08 13:14:06,430 - AInewsbot - INFO - Microsoft AI chief on AI companies using online content\n",
      "2024-07-08 13:14:07,317 - AInewsbot - INFO - ['AI economic impacts', 'AI job market', 'Big Tech', 'Ethical issues', 'Language Models', 'Microsoft', 'Privacy']\n",
      "2024-07-08 13:14:07,319 - AInewsbot - INFO - Categorizing headline 92 of 141\n",
      "2024-07-08 13:14:07,320 - AInewsbot - INFO - MoBot uses AI to learn how trees move. And to save millions of plant specimens.\n",
      "2024-07-08 13:14:08,192 - AInewsbot - INFO - ['GenAI', 'Robots', 'Sustainability']\n",
      "2024-07-08 13:14:08,194 - AInewsbot - INFO - Categorizing headline 93 of 141\n",
      "2024-07-08 13:14:08,194 - AInewsbot - INFO - MoBot uses AI to save millions of plant specimens\n",
      "2024-07-08 13:14:09,089 - AInewsbot - INFO - ['GenAI', 'Robots', 'Sustainability']\n",
      "2024-07-08 13:14:09,091 - AInewsbot - INFO - Categorizing headline 94 of 141\n",
      "2024-07-08 13:14:09,092 - AInewsbot - INFO - NYSEG and RG&E use AI assistant on website to improve customer service\n",
      "2024-07-08 13:14:09,963 - AInewsbot - INFO - ['AI economic impacts', 'Customer service', 'GenAI', 'Robots']\n",
      "2024-07-08 13:14:09,965 - AInewsbot - INFO - Categorizing headline 95 of 141\n",
      "2024-07-08 13:14:09,966 - AInewsbot - INFO - New Siri Experience With Apple Intelligence Likely to Debut in Spring 2025\n",
      "2024-07-08 13:14:11,016 - AInewsbot - INFO - ['Apple', 'Big Tech']\n",
      "2024-07-08 13:14:11,018 - AInewsbot - INFO - Categorizing headline 96 of 141\n",
      "2024-07-08 13:14:11,019 - AInewsbot - INFO - New York-based Hebbia, which uses AI to help companies sift through documents, raised $130M led by a16z, a source says at a ~$700M post-money valuation (Rachel Metz/Bloomberg)\n",
      "2024-07-08 13:14:11,636 - AInewsbot - INFO - ['AI economic impacts', 'AI job market', 'Startup funding']\n",
      "2024-07-08 13:14:11,638 - AInewsbot - INFO - Categorizing headline 97 of 141\n",
      "2024-07-08 13:14:11,639 - AInewsbot - INFO - Nvidia Stock Gains Amid AI Chip Antitrust Scrutiny\n",
      "2024-07-08 13:14:13,389 - AInewsbot - INFO - ['Legal issues', 'Nvidia', 'Policy and regulation', 'Semiconductor chips', 'Stocks']\n",
      "2024-07-08 13:14:13,391 - AInewsbot - INFO - Categorizing headline 98 of 141\n",
      "2024-07-08 13:14:13,392 - AInewsbot - INFO - OpenAI, GitHub Beat Digital Copyright Claims From Programmers\n",
      "2024-07-08 13:14:14,407 - AInewsbot - INFO - ['Code assistants', 'Ethical issues', 'Intellectual Property', 'Language Models', 'Legal issues', 'Open Source', 'OpenAI']\n",
      "2024-07-08 13:14:14,408 - AInewsbot - INFO - Categorizing headline 99 of 141\n",
      "2024-07-08 13:14:14,409 - AInewsbot - INFO - OpenAI Startup Fund and Thrive Global Launch Thrive AI Health, Offering a Hyper-Personalized AI Health Coach\n",
      "2024-07-08 13:14:15,273 - AInewsbot - INFO - ['Healthcare', 'OpenAI', 'Startup funding']\n",
      "2024-07-08 13:14:15,275 - AInewsbot - INFO - Categorizing headline 100 of 141\n",
      "2024-07-08 13:14:15,276 - AInewsbot - INFO - Power-hungry AI is driving a surge in tech giant carbon emissions. Nobody knows what to do about it\n",
      "2024-07-08 13:14:16,408 - AInewsbot - INFO - ['AI doom', 'AI economic impacts', 'Big Tech', 'Climate', 'Ethical issues', 'GenAI', 'Sustainability']\n",
      "2024-07-08 13:14:16,409 - AInewsbot - INFO - Categorizing headline 101 of 141\n",
      "2024-07-08 13:14:16,410 - AInewsbot - INFO - Researchers Warn of Potential for Racial Bias in AI Apps in the Classroom\n",
      "2024-07-08 13:14:17,708 - AInewsbot - INFO - ['AI doom', 'Education', 'Ethical issues', 'GenAI']\n",
      "2024-07-08 13:14:17,710 - AInewsbot - INFO - Categorizing headline 102 of 141\n",
      "2024-07-08 13:14:17,711 - AInewsbot - INFO - Retail This Week: Soft Landings, AI Hype, And Department Store Deaths\n",
      "2024-07-08 13:14:18,638 - AInewsbot - INFO - []\n",
      "2024-07-08 13:14:18,640 - AInewsbot - INFO - Categorizing headline 103 of 141\n",
      "2024-07-08 13:14:18,640 - AInewsbot - INFO - Revolutionizing Finance: Harnessing Next-Gen AI Platforms for Enterprise Success\n",
      "2024-07-08 13:14:19,577 - AInewsbot - INFO - ['AI economic impacts', 'Fintech', 'GenAI', 'Nvidia']\n",
      "2024-07-08 13:14:19,579 - AInewsbot - INFO - Categorizing headline 104 of 141\n",
      "2024-07-08 13:14:19,580 - AInewsbot - INFO - Samsung flags better-than-expected profit rise as AI boom lifts chip prices\n",
      "2024-07-08 13:14:20,827 - AInewsbot - INFO - ['AI economic impacts', 'Big Tech', 'Samsung', 'Semiconductor chips']\n",
      "2024-07-08 13:14:20,828 - AInewsbot - INFO - Categorizing headline 105 of 141\n",
      "2024-07-08 13:14:20,829 - AInewsbot - INFO - Small Language Models: The Future Catalyst for Organizational Success\n",
      "2024-07-08 13:14:21,850 - AInewsbot - INFO - ['ChatGPT', 'LLMs', 'Language Models', 'OpenAI']\n",
      "2024-07-08 13:14:21,851 - AInewsbot - INFO - Categorizing headline 106 of 141\n",
      "2024-07-08 13:14:21,852 - AInewsbot - INFO - South Florida hospital using AI in labor and delivery ward\n",
      "2024-07-08 13:14:22,977 - AInewsbot - INFO - ['GenAI', 'Healthcare']\n",
      "2024-07-08 13:14:22,979 - AInewsbot - INFO - Categorizing headline 107 of 141\n",
      "2024-07-08 13:14:22,980 - AInewsbot - INFO - Southeast Asia's IPO market fell drastically in the first half, but AI listings could revive it\n",
      "2024-07-08 13:14:23,745 - AInewsbot - INFO - ['AI economic impacts', 'GenAI', 'IPOs', 'Stocks']\n",
      "2024-07-08 13:14:23,747 - AInewsbot - INFO - Categorizing headline 108 of 141\n",
      "2024-07-08 13:14:23,747 - AInewsbot - INFO - SpaceX rockets blew away local bird habitats after Elon Musk 'misled' NPS officials about expansion, NYT reports\n",
      "2024-07-08 13:14:24,843 - AInewsbot - INFO - ['Elon Musk', 'Ethical issues']\n",
      "2024-07-08 13:14:24,845 - AInewsbot - INFO - Categorizing headline 109 of 141\n",
      "2024-07-08 13:14:24,846 - AInewsbot - INFO - Stealthy Jenoptik smart cameras that can spot drivers on their phone roll out across UK\n",
      "2024-07-08 13:14:26,105 - AInewsbot - INFO - []\n",
      "2024-07-08 13:14:26,106 - AInewsbot - INFO - Categorizing headline 110 of 141\n",
      "2024-07-08 13:14:26,107 - AInewsbot - INFO - Steam's Summer Sale is in full swing  here's 11 gaming deals I'd buy right now\n",
      "2024-07-08 13:14:26,933 - AInewsbot - INFO - ['Entertainment']\n",
      "2024-07-08 13:14:26,934 - AInewsbot - INFO - Categorizing headline 111 of 141\n",
      "2024-07-08 13:14:26,935 - AInewsbot - INFO - Synerise Raises $8.5 Million to Expand AI-Driven Behavioral Modeling Solutions\n",
      "2024-07-08 13:14:27,743 - AInewsbot - INFO - ['AI economic impacts', 'Startup funding']\n",
      "2024-07-08 13:14:27,745 - AInewsbot - INFO - Categorizing headline 112 of 141\n"
     ]
    },
    {
     "name": "stderr",
     "output_type": "stream",
     "text": [
      "2024-07-08 13:14:27,746 - AInewsbot - INFO - Telecoms companies now using scambaiting AI systems; Lenny+\n",
      "2024-07-08 13:14:28,392 - AInewsbot - INFO - ['AI economic impacts', 'Cybersecurity', 'GenAI', 'Scams']\n",
      "2024-07-08 13:14:28,394 - AInewsbot - INFO - Categorizing headline 113 of 141\n",
      "2024-07-08 13:14:28,396 - AInewsbot - INFO - Telecoms companies now using scambaiting AI systems modelled on Lenny\n",
      "2024-07-08 13:14:29,636 - AInewsbot - INFO - ['Cybersecurity', 'Language Models', 'Scams']\n",
      "2024-07-08 13:14:29,637 - AInewsbot - INFO - Categorizing headline 114 of 141\n",
      "2024-07-08 13:14:29,638 - AInewsbot - INFO - Tesla Bull Says EV Giant's FSD Revenue Nearing $1B Annual Run-Rate, Urges Breaking Out AI And Robotics Numbers\n",
      "2024-07-08 13:14:30,503 - AInewsbot - INFO - ['AI economic impacts', 'Analyst', 'Autonomous vehicles', 'Elon Musk', 'Robots', 'Stocks', 'Tesla']\n",
      "2024-07-08 13:14:30,504 - AInewsbot - INFO - Categorizing headline 115 of 141\n",
      "2024-07-08 13:14:30,505 - AInewsbot - INFO - Teslas upcoming earnings report has to divulge its AI plans and Nvidias role\n",
      "2024-07-08 13:14:31,733 - AInewsbot - INFO - ['AI economic impacts', 'Autonomous vehicles', 'Big Tech', 'Elon Musk', 'GenAI', 'Nvidia', 'Stocks', 'Tesla']\n",
      "2024-07-08 13:14:31,735 - AInewsbot - INFO - Categorizing headline 116 of 141\n",
      "2024-07-08 13:14:31,735 - AInewsbot - INFO - Tether CEO advocates for localized AI models to prevent hacks\n",
      "2024-07-08 13:14:32,808 - AInewsbot - INFO - ['AI economic impacts', 'Cybersecurity', 'Fintech']\n",
      "2024-07-08 13:14:32,810 - AInewsbot - INFO - Categorizing headline 117 of 141\n",
      "2024-07-08 13:14:32,812 - AInewsbot - INFO - The Download: vacation planning with AI, and smaller models\n",
      "2024-07-08 13:14:33,658 - AInewsbot - INFO - ['GenAI']\n",
      "2024-07-08 13:14:33,662 - AInewsbot - INFO - Categorizing headline 118 of 141\n",
      "2024-07-08 13:14:33,664 - AInewsbot - INFO - The Evolution of Text-to-Code and Pseudocode Automation\n",
      "2024-07-08 13:14:34,358 - AInewsbot - INFO - ['Code assistants', 'Language Models']\n",
      "2024-07-08 13:14:34,359 - AInewsbot - INFO - Categorizing headline 119 of 141\n",
      "2024-07-08 13:14:34,360 - AInewsbot - INFO - The Role of Artificial Intelligence in Shaping a Sustainable Future\n",
      "2024-07-08 13:14:35,173 - AInewsbot - INFO - ['GenAI', 'Sustainability']\n",
      "2024-07-08 13:14:35,174 - AInewsbot - INFO - Categorizing headline 120 of 141\n",
      "2024-07-08 13:14:35,175 - AInewsbot - INFO - The World's First AI-Powered Movie Camera Transforms Filmed Footage\n",
      "2024-07-08 13:14:35,821 - AInewsbot - INFO - ['Big Tech', 'Entertainment', 'GenAI', 'Robots']\n",
      "2024-07-08 13:14:35,823 - AInewsbot - INFO - Categorizing headline 121 of 141\n",
      "2024-07-08 13:14:35,823 - AInewsbot - INFO - This AI model says US recession chances are up to 68%\n",
      "2024-07-08 13:14:36,694 - AInewsbot - INFO - ['AI doom', 'AI economic impacts', 'GenAI', 'Stocks']\n",
      "2024-07-08 13:14:36,696 - AInewsbot - INFO - Categorizing headline 122 of 141\n",
      "2024-07-08 13:14:36,697 - AInewsbot - INFO - Tiny robots with a big impact: microrobots for single-cell handling\n",
      "2024-07-08 13:14:37,368 - AInewsbot - INFO - ['Robots']\n",
      "2024-07-08 13:14:37,370 - AInewsbot - INFO - Categorizing headline 123 of 141\n",
      "2024-07-08 13:14:37,371 - AInewsbot - INFO - Transforming Text to Code: An Approach to Efficient Agile Development\n",
      "2024-07-08 13:14:38,459 - AInewsbot - INFO - ['Code assistants']\n",
      "2024-07-08 13:14:38,460 - AInewsbot - INFO - Categorizing headline 124 of 141\n",
      "2024-07-08 13:14:38,461 - AInewsbot - INFO - Two Canadian stocks set to benefit from AI-driven datacenter expansion: RBC\n",
      "2024-07-08 13:14:39,516 - AInewsbot - INFO - ['AI economic impacts', 'Analyst', 'GenAI', 'Stocks']\n",
      "2024-07-08 13:14:39,518 - AInewsbot - INFO - Categorizing headline 125 of 141\n",
      "2024-07-08 13:14:39,518 - AInewsbot - INFO - Two big upgrades were just confirmed for the Google Pixel Watch 3\n",
      "2024-07-08 13:14:40,258 - AInewsbot - INFO - ['Big Tech', 'Google']\n",
      "2024-07-08 13:14:40,260 - AInewsbot - INFO - Categorizing headline 126 of 141\n",
      "2024-07-08 13:14:40,262 - AInewsbot - INFO - U.S. Access Board Information Session: Foundation on Artificial Intelligence and Disability\n",
      "2024-07-08 13:14:41,078 - AInewsbot - INFO - []\n",
      "2024-07-08 13:14:41,079 - AInewsbot - INFO - Categorizing headline 127 of 141\n",
      "2024-07-08 13:14:41,080 - AInewsbot - INFO - UAB adds programs for students interested inartificial intelligence\n",
      "2024-07-08 13:14:41,989 - AInewsbot - INFO - ['AI job market', 'Education', 'GenAI', 'Meta']\n",
      "2024-07-08 13:14:41,991 - AInewsbot - INFO - Categorizing headline 128 of 141\n",
      "2024-07-08 13:14:41,992 - AInewsbot - INFO - UK Future Workforce Index 2024: 83% of UK businesses willing to pay a higher wage to those with AI skills amid hiring challenges\n",
      "2024-07-08 13:14:42,618 - AInewsbot - INFO - ['AI economic impacts', 'AI job market', 'GenAI', 'Robots']\n",
      "2024-07-08 13:14:42,619 - AInewsbot - INFO - Categorizing headline 129 of 141\n",
      "2024-07-08 13:14:42,620 - AInewsbot - INFO - UN Agency: China Leading AI Patents Race\n",
      "2024-07-08 13:14:43,362 - AInewsbot - INFO - ['AI economic impacts', 'China', 'Intellectual Property']\n",
      "2024-07-08 13:14:43,364 - AInewsbot - INFO - Categorizing headline 130 of 141\n",
      "2024-07-08 13:14:43,365 - AInewsbot - INFO - University examiners fail to spot ChatGPT answers in real-world test\n",
      "2024-07-08 13:14:44,368 - AInewsbot - INFO - ['AI doom', 'ChatGPT', 'Code assistants', 'Cohere', 'Education', 'Ethical issues', 'GenAI', 'Language Models', 'OpenAI', 'Privacy', 'Testing']\n",
      "2024-07-08 13:14:44,369 - AInewsbot - INFO - Categorizing headline 131 of 141\n",
      "2024-07-08 13:14:44,370 - AInewsbot - INFO - Vole claims all web content is freeware to be scraped for AI\n",
      "2024-07-08 13:14:45,419 - AInewsbot - INFO - ['AI doom', 'AI economic impacts', 'Ethical issues', 'Language Models', 'Legal issues', 'OpenAI']\n",
      "2024-07-08 13:14:45,421 - AInewsbot - INFO - Categorizing headline 132 of 141\n",
      "2024-07-08 13:14:45,422 - AInewsbot - INFO - We dont want to leave people behind: AI is helping disabled people in surprising new ways\n",
      "2024-07-08 13:14:46,295 - AInewsbot - INFO - ['Big Tech', 'GenAI']\n",
      "2024-07-08 13:14:46,296 - AInewsbot - INFO - Categorizing headline 133 of 141\n",
      "2024-07-08 13:14:46,297 - AInewsbot - INFO - WhatsApp's new feature will let Meta AI edit your photos for you\n",
      "2024-07-08 13:14:47,293 - AInewsbot - INFO - ['AI economic impacts', 'AI job market', 'Big Tech', 'GenAI', 'Mark Zuckerberg', 'Meta', 'WhatsApp']\n",
      "2024-07-08 13:14:47,295 - AInewsbot - INFO - Categorizing headline 134 of 141\n",
      "2024-07-08 13:14:47,296 - AInewsbot - INFO - WhatsApp could soon get a Galaxy AI-powered Live Translate feature\n",
      "2024-07-08 13:14:48,074 - AInewsbot - INFO - ['Big Tech', 'Language Models', 'Samsung', 'WhatsApp']\n",
      "2024-07-08 13:14:48,075 - AInewsbot - INFO - Categorizing headline 135 of 141\n",
      "2024-07-08 13:14:48,076 - AInewsbot - INFO - Why Claude 3.5 Sonnet is the AI to Watch, Not ChatGPT-4o\n",
      "2024-07-08 13:14:49,148 - AInewsbot - INFO - ['Claude', 'GenAI']\n",
      "2024-07-08 13:14:49,149 - AInewsbot - INFO - Categorizing headline 136 of 141\n",
      "2024-07-08 13:14:49,150 - AInewsbot - INFO - Why So Many Bitcoin Mining Companies Are Pivoting to AI\n",
      "2024-07-08 13:14:49,762 - AInewsbot - INFO - ['AI economic impacts']\n",
      "2024-07-08 13:14:49,763 - AInewsbot - INFO - Categorizing headline 137 of 141\n",
      "2024-07-08 13:14:49,763 - AInewsbot - INFO - Will AI Soon Help Animals Talk To Us?\n",
      "2024-07-08 13:14:50,879 - AInewsbot - INFO - []\n",
      "2024-07-08 13:14:50,881 - AInewsbot - INFO - Categorizing headline 138 of 141\n",
      "2024-07-08 13:14:50,882 - AInewsbot - INFO - Worlds first Miss AI crowned  and shes a hijab-wearing activist from Morocco genuinely excited for the win\n",
      "2024-07-08 13:14:52,060 - AInewsbot - INFO - ['GenAI']\n",
      "2024-07-08 13:14:52,062 - AInewsbot - INFO - Categorizing headline 139 of 141\n",
      "2024-07-08 13:14:52,064 - AInewsbot - INFO - YouTube Music May Soon Let You Generate Custom Radio Via Natural Language Prompts Using AI; Details Inside\n",
      "2024-07-08 13:14:52,934 - AInewsbot - INFO - ['Big Tech', 'GenAI', 'Google', 'Language Models']\n",
      "2024-07-08 13:14:52,936 - AInewsbot - INFO - Categorizing headline 140 of 141\n",
      "2024-07-08 13:14:52,936 - AInewsbot - INFO - YouTube Music is piloting 'music any way you like' prompt-generated radio using AI\n"
     ]
    },
    {
     "name": "stderr",
     "output_type": "stream",
     "text": [
      "2024-07-08 13:14:53,887 - AInewsbot - INFO - ['Big Tech', 'Entertainment', 'GenAI', 'Google', 'Language Models', 'Testing']\n",
      "2024-07-08 13:14:53,889 - AInewsbot - INFO - Categorizing headline 141 of 141\n",
      "2024-07-08 13:14:53,890 - AInewsbot - INFO - myGenerativeEiAiAlgorithm\n",
      "2024-07-08 13:14:54,710 - AInewsbot - INFO - ['Code assistants', 'Cohere', 'GenAI', 'OpenAI']\n"
     ]
    }
   ],
   "source": [
    "async def categorize_story(headline, categories, session, \n",
    "                           model=LOWCOST_MODEL,\n",
    "                           temperature=0.5,\n",
    "                           max_retries=MAX_RETRIES):\n",
    "    \n",
    "    retlist = []\n",
    "    if type(categories) is not list:\n",
    "        categories = [categories]\n",
    "    for topic in categories:\n",
    "        cat_prompt = f\"\"\"You are a news topic categorizaton assistant. I will provide a headline \n",
    "and a topic. You will respond with a JSON object {{'response': 1}} if the news headline matches \n",
    "the news topic and {{'response': 0}} if it does not. Check carefully and only return {{'response': 1}}\n",
    "if the headline closely matches the topic. If the headline is not a close match or if unsure, \n",
    "return {{'response': 0}}\n",
    "Headline:\n",
    "{headline}\n",
    "Topic:\n",
    "{topic}\n",
    "\"\"\"\n",
    "        for i in range(max_retries):\n",
    "            try:\n",
    "                messages=[\n",
    "                          {\"role\": \"user\", \"content\": cat_prompt\n",
    "                          }]\n",
    "\n",
    "                payload = {\"model\":  model,\n",
    "                           \"response_format\": {\"type\": \"json_object\"},\n",
    "                           \"messages\": messages,\n",
    "                           \"temperature\": temperature\n",
    "                           }\n",
    "                response = await fetch_openai(session, payload)\n",
    "                response_dict = json.loads(response[\"choices\"][0][\"message\"][\"content\"])\n",
    "                response_val = response_dict['response']\n",
    "                if response_val == 1:\n",
    "                    retlist.append(topic)\n",
    "                break\n",
    "            except Exception as exc:\n",
    "                log(f\"Error: {exc}\")\n",
    "\n",
    "            \n",
    "    return retlist\n",
    "        \n",
    "\n",
    "h = \"Utility stocks are Wall Streets secret backdoor to AI\"\n",
    "catdict = dict()\n",
    "\n",
    "async with aiohttp.ClientSession() as session:\n",
    "    for i, row in enumerate(AIdf.itertuples()):\n",
    "        tasks = []\n",
    "        log(f\"Categorizing headline {row.id+1} of {len(AIdf)}\")\n",
    "        h = row.title\n",
    "        log(h)\n",
    "        for c in categories:\n",
    "            task = asyncio.create_task(categorize_story(h, c, session))\n",
    "            tasks.append(task)\n",
    "        responses = await asyncio.gather(*tasks)\n",
    "        catdict[row.id] = [item for sublist in responses for item in sublist]\n",
    "        log(str(catdict[row.id]))\n",
    "        \n"
   ]
  },
  {
   "cell_type": "code",
   "execution_count": 65,
   "id": "7816d573",
   "metadata": {},
   "outputs": [
    {
     "data": {
      "text/plain": [
       "{0: ['AI doom', 'Ethical issues'],\n",
       " 1: ['Stocks'],\n",
       " 2: ['GenAI'],\n",
       " 3: ['Stocks'],\n",
       " 4: ['AI economic impacts', 'Big Tech', 'Nvidia', 'Stocks'],\n",
       " 5: ['GenAI', 'Healthcare'],\n",
       " 6: ['GenAI', 'Military'],\n",
       " 7: ['Ethical issues', 'GenAI'],\n",
       " 8: ['GenAI'],\n",
       " 9: ['Big Tech', 'Google', 'Reinforcement Learning', 'Sustainability'],\n",
       " 10: ['AI economic impacts', 'Healthcare', 'Policy and regulation'],\n",
       " 11: ['AI doom', 'Ethical issues', 'GenAI', 'OpenAI'],\n",
       " 12: ['AI doom',\n",
       "  'Big Tech',\n",
       "  'Ethical issues',\n",
       "  'Legal issues',\n",
       "  'Policy and regulation',\n",
       "  'Privacy'],\n",
       " 13: ['AI economic impacts'],\n",
       " 14: ['Ethical issues'],\n",
       " 15: ['GenAI', 'Startup funding'],\n",
       " 16: ['GenAI',\n",
       "  'Meta',\n",
       "  'OpenAI',\n",
       "  'Reinforcement Learning',\n",
       "  'Robots',\n",
       "  'Semiconductor chips'],\n",
       " 17: ['AI economic impacts', 'Cohere', 'Nvidia', 'Startup funding'],\n",
       " 18: [],\n",
       " 19: ['Entertainment',\n",
       "  'GenAI',\n",
       "  'Language Models',\n",
       "  'Reinforcement Learning',\n",
       "  'Robots'],\n",
       " 20: ['AI economic impacts', 'GenAI'],\n",
       " 21: ['Apple', 'Big Tech'],\n",
       " 22: [],\n",
       " 23: ['Stocks'],\n",
       " 24: ['AI economic impacts', 'AI job market', 'Big Tech', 'GenAI'],\n",
       " 25: ['AI doom', 'Ethical issues', 'OpenAI'],\n",
       " 26: ['China', 'Robots'],\n",
       " 27: ['AI economic impacts', 'Analyst', 'Big Tech', 'GenAI', 'Nvidia'],\n",
       " 28: ['AI economic impacts', 'Nvidia', 'Stocks'],\n",
       " 29: ['Big Tech', 'Ethical issues', 'Microsoft', 'Privacy'],\n",
       " 30: ['GenAI'],\n",
       " 31: ['Education', 'Meta'],\n",
       " 32: ['ChatGPT', 'GenAI', 'Language Models', 'OpenAI', 'Testing'],\n",
       " 33: ['AI job market',\n",
       "  'ChatGPT',\n",
       "  'GenAI',\n",
       "  'Language Models',\n",
       "  'OpenAI',\n",
       "  'Robots',\n",
       "  'Testing'],\n",
       " 34: [],\n",
       " 35: ['ChatGPT',\n",
       "  'Code assistants',\n",
       "  'GenAI',\n",
       "  'Language Models',\n",
       "  'OpenAI',\n",
       "  'Robots'],\n",
       " 36: ['AI economic impacts', 'Big Tech', 'China'],\n",
       " 37: ['AI doom',\n",
       "  'AI economic impacts',\n",
       "  'Baidu',\n",
       "  'Big Tech',\n",
       "  'China',\n",
       "  'GenAI',\n",
       "  'LLMs',\n",
       "  'Language Models'],\n",
       " 38: ['AI economic impacts', 'China', 'Policy and regulation'],\n",
       " 39: ['AI economic impacts', 'Big Tech', 'China', 'GenAI', 'Robots'],\n",
       " 40: ['AI economic impacts', 'AI job market', 'GenAI', 'Robots'],\n",
       " 41: ['AI economic impacts', 'AI job market', 'China'],\n",
       " 42: ['China', 'GenAI', 'Nvidia', 'Semiconductor chips'],\n",
       " 43: ['Anthropic',\n",
       "  'Claude',\n",
       "  'Cohere',\n",
       "  'Ethical issues',\n",
       "  'LLMs',\n",
       "  'Language Models'],\n",
       " 44: ['Geoffrey Hinton', 'Meta', 'OpenAI', 'Robots', 'Yann LeCun'],\n",
       " 45: ['AI economic impacts',\n",
       "  'AI job market',\n",
       "  'Big Tech',\n",
       "  'Cohere',\n",
       "  'GenAI',\n",
       "  'Language Models'],\n",
       " 46: ['Code assistants', 'GenAI', 'LLMs', 'Language Models', 'OpenAI'],\n",
       " 47: [],\n",
       " 48: ['AI economic impacts', 'GenAI', 'Robots', 'Stocks'],\n",
       " 49: ['Reinforcement Learning'],\n",
       " 50: ['Sustainability'],\n",
       " 51: ['ChatGPT', 'GenAI', 'Language Models', 'OpenAI'],\n",
       " 52: ['AI economic impacts'],\n",
       " 53: ['ChatGPT',\n",
       "  'Claude',\n",
       "  'Code assistants',\n",
       "  'Cohere',\n",
       "  'LLMs',\n",
       "  'Language Models',\n",
       "  'OpenAI'],\n",
       " 54: [],\n",
       " 55: ['Big Tech', 'Language Models', 'Samsung', 'WhatsApp'],\n",
       " 56: ['AI job market',\n",
       "  'ChatGPT',\n",
       "  'GenAI',\n",
       "  'Language Models',\n",
       "  'Meta',\n",
       "  'OpenAI'],\n",
       " 57: ['AI economic impacts', 'Big Tech', 'Google'],\n",
       " 58: ['AI doom',\n",
       "  'AI economic impacts',\n",
       "  'Big Tech',\n",
       "  'Climate',\n",
       "  'Ethical issues',\n",
       "  'Google',\n",
       "  'Sustainability'],\n",
       " 59: ['AI doom',\n",
       "  'AI economic impacts',\n",
       "  'Big Tech',\n",
       "  'Ethical issues',\n",
       "  'GenAI',\n",
       "  'Google',\n",
       "  'Language Models'],\n",
       " 60: ['Big Tech', 'GenAI', 'Google'],\n",
       " 61: ['Big Tech', 'GenAI', 'Google'],\n",
       " 62: ['Big Tech', 'Google', 'Open Source'],\n",
       " 63: ['GenAI', 'Meta', 'Policy and regulation'],\n",
       " 64: ['AI doom',\n",
       "  'Big Tech',\n",
       "  'Cybersecurity',\n",
       "  'Ethical issues',\n",
       "  'Language Models',\n",
       "  'OpenAI',\n",
       "  'Privacy'],\n",
       " 65: ['AI economic impacts',\n",
       "  'AI job market',\n",
       "  'Language Models',\n",
       "  'Startup funding'],\n",
       " 66: ['AI doom',\n",
       "  'AI economic impacts',\n",
       "  'AI job market',\n",
       "  'Big Tech',\n",
       "  'GenAI',\n",
       "  'LLMs',\n",
       "  'Language Models',\n",
       "  'OpenAI',\n",
       "  'Reinforcement Learning'],\n",
       " 67: ['ChatGPT', 'GenAI', 'Language Models', 'OpenAI'],\n",
       " 68: ['Healthcare'],\n",
       " 69: ['AI economic impacts', 'GenAI', 'Meta', 'Startup funding'],\n",
       " 70: ['AI economic impacts',\n",
       "  'Cohere',\n",
       "  'GenAI',\n",
       "  'Language Models',\n",
       "  'Reinforcement Learning'],\n",
       " 71: ['ChatGPT', 'Code assistants', 'Language Models', 'OpenAI'],\n",
       " 72: ['AI economic impacts', 'GenAI'],\n",
       " 73: ['GenAI'],\n",
       " 74: ['Code assistants', 'Gemini', 'GenAI', 'Google'],\n",
       " 75: ['AI economic impacts', 'Education', 'GenAI'],\n",
       " 76: ['ChatGPT',\n",
       "  'Code assistants',\n",
       "  'GenAI',\n",
       "  'LLMs',\n",
       "  'Language Models',\n",
       "  'OpenAI',\n",
       "  'Robots',\n",
       "  'Testing'],\n",
       " 77: ['AI job market', 'GenAI', 'Meta'],\n",
       " 78: ['Big Tech', 'Ethical issues', 'Microsoft', 'Mustafa Suleyman'],\n",
       " 79: ['AI doom', 'Entertainment', 'Ethical issues', 'GenAI', 'Robots'],\n",
       " 80: ['Big Tech',\n",
       "  'Code assistants',\n",
       "  'Ethical issues',\n",
       "  'GenAI',\n",
       "  'Intellectual Property',\n",
       "  'Language Models',\n",
       "  'Legal issues',\n",
       "  'Microsoft',\n",
       "  'Open Source',\n",
       "  'OpenAI'],\n",
       " 81: ['Big Tech',\n",
       "  'GenAI',\n",
       "  'Intellectual Property',\n",
       "  'Legal issues',\n",
       "  'Microsoft',\n",
       "  'Open Source',\n",
       "  'OpenAI',\n",
       "  'Policy and regulation'],\n",
       " 82: ['AI job market', 'GenAI'],\n",
       " 83: ['AI economic impacts', 'AI job market', 'GenAI', 'Meta'],\n",
       " 84: ['GenAI', 'Healthcare', 'Meta'],\n",
       " 85: ['AI economic impacts', 'AI job market', 'Education', 'GenAI'],\n",
       " 86: ['Entertainment', 'GenAI'],\n",
       " 87: ['Big Tech', 'Language Models', 'Meta', 'WhatsApp'],\n",
       " 88: ['AI economic impacts', 'Big Tech', 'Meta', 'WhatsApp'],\n",
       " 89: ['Code assistants',\n",
       "  'GenAI',\n",
       "  'Language Models',\n",
       "  'Meta',\n",
       "  'OpenAI',\n",
       "  'Reinforcement Learning',\n",
       "  'Testing'],\n",
       " 90: ['AI economic impacts',\n",
       "  'AI job market',\n",
       "  'Big Tech',\n",
       "  'Ethical issues',\n",
       "  'Language Models',\n",
       "  'Microsoft',\n",
       "  'Privacy'],\n",
       " 91: ['GenAI', 'Robots', 'Sustainability'],\n",
       " 92: ['GenAI', 'Robots', 'Sustainability'],\n",
       " 93: ['AI economic impacts', 'Customer service', 'GenAI', 'Robots'],\n",
       " 94: ['Apple', 'Big Tech'],\n",
       " 95: ['AI economic impacts', 'AI job market', 'Startup funding'],\n",
       " 96: ['Legal issues',\n",
       "  'Nvidia',\n",
       "  'Policy and regulation',\n",
       "  'Semiconductor chips',\n",
       "  'Stocks'],\n",
       " 97: ['Code assistants',\n",
       "  'Ethical issues',\n",
       "  'Intellectual Property',\n",
       "  'Language Models',\n",
       "  'Legal issues',\n",
       "  'Open Source',\n",
       "  'OpenAI'],\n",
       " 98: ['Healthcare', 'OpenAI', 'Startup funding'],\n",
       " 99: ['AI doom',\n",
       "  'AI economic impacts',\n",
       "  'Big Tech',\n",
       "  'Climate',\n",
       "  'Ethical issues',\n",
       "  'GenAI',\n",
       "  'Sustainability'],\n",
       " 100: ['AI doom', 'Education', 'Ethical issues', 'GenAI'],\n",
       " 101: [],\n",
       " 102: ['AI economic impacts', 'Fintech', 'GenAI', 'Nvidia'],\n",
       " 103: ['AI economic impacts', 'Big Tech', 'Samsung', 'Semiconductor chips'],\n",
       " 104: ['ChatGPT', 'LLMs', 'Language Models', 'OpenAI'],\n",
       " 105: ['GenAI', 'Healthcare'],\n",
       " 106: ['AI economic impacts', 'GenAI', 'IPOs', 'Stocks'],\n",
       " 107: ['Elon Musk', 'Ethical issues'],\n",
       " 108: [],\n",
       " 109: ['Entertainment'],\n",
       " 110: ['AI economic impacts', 'Startup funding'],\n",
       " 111: ['AI economic impacts', 'Cybersecurity', 'GenAI', 'Scams'],\n",
       " 112: ['Cybersecurity', 'Language Models', 'Scams'],\n",
       " 113: ['AI economic impacts',\n",
       "  'Analyst',\n",
       "  'Autonomous vehicles',\n",
       "  'Elon Musk',\n",
       "  'Robots',\n",
       "  'Stocks',\n",
       "  'Tesla'],\n",
       " 114: ['AI economic impacts',\n",
       "  'Autonomous vehicles',\n",
       "  'Big Tech',\n",
       "  'Elon Musk',\n",
       "  'GenAI',\n",
       "  'Nvidia',\n",
       "  'Stocks',\n",
       "  'Tesla'],\n",
       " 115: ['AI economic impacts', 'Cybersecurity', 'Fintech'],\n",
       " 116: ['GenAI'],\n",
       " 117: ['Code assistants', 'Language Models'],\n",
       " 118: ['GenAI', 'Sustainability'],\n",
       " 119: ['Big Tech', 'Entertainment', 'GenAI', 'Robots'],\n",
       " 120: ['AI doom', 'AI economic impacts', 'GenAI', 'Stocks'],\n",
       " 121: ['Robots'],\n",
       " 122: ['Code assistants'],\n",
       " 123: ['AI economic impacts', 'Analyst', 'GenAI', 'Stocks'],\n",
       " 124: ['Big Tech', 'Google'],\n",
       " 125: [],\n",
       " 126: ['AI job market', 'Education', 'GenAI', 'Meta'],\n",
       " 127: ['AI economic impacts', 'AI job market', 'GenAI', 'Robots'],\n",
       " 128: ['AI economic impacts', 'China', 'Intellectual Property'],\n",
       " 129: ['AI doom',\n",
       "  'ChatGPT',\n",
       "  'Code assistants',\n",
       "  'Cohere',\n",
       "  'Education',\n",
       "  'Ethical issues',\n",
       "  'GenAI',\n",
       "  'Language Models',\n",
       "  'OpenAI',\n",
       "  'Privacy',\n",
       "  'Testing'],\n",
       " 130: ['AI doom',\n",
       "  'AI economic impacts',\n",
       "  'Ethical issues',\n",
       "  'Language Models',\n",
       "  'Legal issues',\n",
       "  'OpenAI'],\n",
       " 131: ['Big Tech', 'GenAI'],\n",
       " 132: ['AI economic impacts',\n",
       "  'AI job market',\n",
       "  'Big Tech',\n",
       "  'GenAI',\n",
       "  'Mark Zuckerberg',\n",
       "  'Meta',\n",
       "  'WhatsApp'],\n",
       " 133: ['Big Tech', 'Language Models', 'Samsung', 'WhatsApp'],\n",
       " 134: ['Claude', 'GenAI'],\n",
       " 135: ['AI economic impacts'],\n",
       " 136: [],\n",
       " 137: ['GenAI'],\n",
       " 138: ['Big Tech', 'GenAI', 'Google', 'Language Models'],\n",
       " 139: ['Big Tech',\n",
       "  'Entertainment',\n",
       "  'GenAI',\n",
       "  'Google',\n",
       "  'Language Models',\n",
       "  'Testing'],\n",
       " 140: ['Code assistants', 'Cohere', 'GenAI', 'OpenAI']}"
      ]
     },
     "execution_count": 65,
     "metadata": {},
     "output_type": "execute_result"
    }
   ],
   "source": [
    "catdict"
   ]
  },
  {
   "cell_type": "code",
   "execution_count": 71,
   "id": "15c42045",
   "metadata": {},
   "outputs": [],
   "source": [
    "AIdf = AIdf.drop(columns=[\"assigned_topics\"])"
   ]
  },
  {
   "cell_type": "code",
   "execution_count": 72,
   "id": "3f5f0454",
   "metadata": {},
   "outputs": [
    {
     "data": {
      "text/html": [
       "<div>\n",
       "<style scoped>\n",
       "    .dataframe tbody tr th:only-of-type {\n",
       "        vertical-align: middle;\n",
       "    }\n",
       "\n",
       "    .dataframe tbody tr th {\n",
       "        vertical-align: top;\n",
       "    }\n",
       "\n",
       "    .dataframe thead th {\n",
       "        text-align: right;\n",
       "    }\n",
       "</style>\n",
       "<table border=\"1\" class=\"dataframe\">\n",
       "  <thead>\n",
       "    <tr style=\"text-align: right;\">\n",
       "      <th></th>\n",
       "      <th>id</th>\n",
       "      <th>topics</th>\n",
       "      <th>topic_str</th>\n",
       "      <th>assigned_topics</th>\n",
       "    </tr>\n",
       "  </thead>\n",
       "  <tbody>\n",
       "    <tr>\n",
       "      <th>0</th>\n",
       "      <td>0</td>\n",
       "      <td>[AI, disaster prevention]</td>\n",
       "      <td>['disaster prevention']</td>\n",
       "      <td>[AI doom, Ethical issues]</td>\n",
       "    </tr>\n",
       "    <tr>\n",
       "      <th>1</th>\n",
       "      <td>1</td>\n",
       "      <td>[stocks, investment, financial planning]</td>\n",
       "      <td>['stocks', 'investment', 'financial planning']</td>\n",
       "      <td>[Stocks]</td>\n",
       "    </tr>\n",
       "    <tr>\n",
       "      <th>2</th>\n",
       "      <td>2</td>\n",
       "      <td>[advertising, trends, AI, Olympics, Gen Z]</td>\n",
       "      <td>['advertising', 'trends', 'Olympics', 'Gen Z']</td>\n",
       "      <td>[GenAI]</td>\n",
       "    </tr>\n",
       "    <tr>\n",
       "      <th>3</th>\n",
       "      <td>3</td>\n",
       "      <td>[AI, stocks, dividends]</td>\n",
       "      <td>['stocks', 'dividends']</td>\n",
       "      <td>[Stocks]</td>\n",
       "    </tr>\n",
       "    <tr>\n",
       "      <th>4</th>\n",
       "      <td>4</td>\n",
       "      <td>[AI, datacenter, technology stocks]</td>\n",
       "      <td>['datacenter', 'technology stocks']</td>\n",
       "      <td>[AI economic impacts, Big Tech, Nvidia, Stocks]</td>\n",
       "    </tr>\n",
       "    <tr>\n",
       "      <th>...</th>\n",
       "      <td>...</td>\n",
       "      <td>...</td>\n",
       "      <td>...</td>\n",
       "      <td>...</td>\n",
       "    </tr>\n",
       "    <tr>\n",
       "      <th>136</th>\n",
       "      <td>136</td>\n",
       "      <td>[AI, animal communication, technology impact]</td>\n",
       "      <td>['animal communication', 'technology impact']</td>\n",
       "      <td>[]</td>\n",
       "    </tr>\n",
       "    <tr>\n",
       "      <th>137</th>\n",
       "      <td>137</td>\n",
       "      <td>[Miss AI, activist, Morocco, beauty pageant]</td>\n",
       "      <td>['Miss AI', 'activist', 'Morocco', 'beauty pag...</td>\n",
       "      <td>[GenAI]</td>\n",
       "    </tr>\n",
       "    <tr>\n",
       "      <th>138</th>\n",
       "      <td>138</td>\n",
       "      <td>[YouTube Music, radio generation, natural lang...</td>\n",
       "      <td>['YouTube Music', 'radio generation', 'natural...</td>\n",
       "      <td>[Big Tech, GenAI, Google, Language Models]</td>\n",
       "    </tr>\n",
       "    <tr>\n",
       "      <th>139</th>\n",
       "      <td>139</td>\n",
       "      <td>[YouTube Music, music radio, AI-generated, ent...</td>\n",
       "      <td>['YouTube Music', 'music radio', 'AI-generated...</td>\n",
       "      <td>[Big Tech, Entertainment, GenAI, Google, Langu...</td>\n",
       "    </tr>\n",
       "    <tr>\n",
       "      <th>140</th>\n",
       "      <td>140</td>\n",
       "      <td>[Generative AI Algorithm, technology innovatio...</td>\n",
       "      <td>['Generative AI Algorithm', 'technology innova...</td>\n",
       "      <td>[Code assistants, Cohere, GenAI, OpenAI]</td>\n",
       "    </tr>\n",
       "  </tbody>\n",
       "</table>\n",
       "<p>141 rows × 4 columns</p>\n",
       "</div>"
      ],
      "text/plain": [
       "      id                                             topics  \\\n",
       "0      0                          [AI, disaster prevention]   \n",
       "1      1           [stocks, investment, financial planning]   \n",
       "2      2         [advertising, trends, AI, Olympics, Gen Z]   \n",
       "3      3                            [AI, stocks, dividends]   \n",
       "4      4                [AI, datacenter, technology stocks]   \n",
       "..   ...                                                ...   \n",
       "136  136      [AI, animal communication, technology impact]   \n",
       "137  137       [Miss AI, activist, Morocco, beauty pageant]   \n",
       "138  138  [YouTube Music, radio generation, natural lang...   \n",
       "139  139  [YouTube Music, music radio, AI-generated, ent...   \n",
       "140  140  [Generative AI Algorithm, technology innovatio...   \n",
       "\n",
       "                                             topic_str  \\\n",
       "0                              ['disaster prevention']   \n",
       "1       ['stocks', 'investment', 'financial planning']   \n",
       "2       ['advertising', 'trends', 'Olympics', 'Gen Z']   \n",
       "3                              ['stocks', 'dividends']   \n",
       "4                  ['datacenter', 'technology stocks']   \n",
       "..                                                 ...   \n",
       "136      ['animal communication', 'technology impact']   \n",
       "137  ['Miss AI', 'activist', 'Morocco', 'beauty pag...   \n",
       "138  ['YouTube Music', 'radio generation', 'natural...   \n",
       "139  ['YouTube Music', 'music radio', 'AI-generated...   \n",
       "140  ['Generative AI Algorithm', 'technology innova...   \n",
       "\n",
       "                                       assigned_topics  \n",
       "0                            [AI doom, Ethical issues]  \n",
       "1                                             [Stocks]  \n",
       "2                                              [GenAI]  \n",
       "3                                             [Stocks]  \n",
       "4      [AI economic impacts, Big Tech, Nvidia, Stocks]  \n",
       "..                                                 ...  \n",
       "136                                                 []  \n",
       "137                                            [GenAI]  \n",
       "138         [Big Tech, GenAI, Google, Language Models]  \n",
       "139  [Big Tech, Entertainment, GenAI, Google, Langu...  \n",
       "140           [Code assistants, Cohere, GenAI, OpenAI]  \n",
       "\n",
       "[141 rows x 4 columns]"
      ]
     },
     "execution_count": 72,
     "metadata": {},
     "output_type": "execute_result"
    }
   ],
   "source": [
    "topic_df[\"assigned_topics\"] = topic_df[\"id\"].apply(lambda id: catdict.get(id, []))\n",
    "topic_df"
   ]
  },
  {
   "cell_type": "code",
   "execution_count": 93,
   "id": "7d7ee805",
   "metadata": {},
   "outputs": [
    {
     "data": {
      "text/html": [
       "<div>\n",
       "<style scoped>\n",
       "    .dataframe tbody tr th:only-of-type {\n",
       "        vertical-align: middle;\n",
       "    }\n",
       "\n",
       "    .dataframe tbody tr th {\n",
       "        vertical-align: top;\n",
       "    }\n",
       "\n",
       "    .dataframe thead th {\n",
       "        text-align: right;\n",
       "    }\n",
       "</style>\n",
       "<table border=\"1\" class=\"dataframe\">\n",
       "  <thead>\n",
       "    <tr style=\"text-align: right;\">\n",
       "      <th></th>\n",
       "      <th>id</th>\n",
       "      <th>topics</th>\n",
       "      <th>topic_str</th>\n",
       "      <th>assigned_topics</th>\n",
       "      <th>clean_topics</th>\n",
       "    </tr>\n",
       "  </thead>\n",
       "  <tbody>\n",
       "    <tr>\n",
       "      <th>0</th>\n",
       "      <td>0</td>\n",
       "      <td>[AI, disaster prevention]</td>\n",
       "      <td>['AI Doom', 'Disaster Prevention', 'Ethical Is...</td>\n",
       "      <td>[AI doom, Ethical issues]</td>\n",
       "      <td>AI Doom, Disaster Prevention, Ethical Issues</td>\n",
       "    </tr>\n",
       "    <tr>\n",
       "      <th>1</th>\n",
       "      <td>1</td>\n",
       "      <td>[stocks, investment, financial planning]</td>\n",
       "      <td>['Financial Planning', 'Investment', 'Stocks']</td>\n",
       "      <td>[Stocks]</td>\n",
       "      <td>Financial Planning, Investment, Stocks</td>\n",
       "    </tr>\n",
       "    <tr>\n",
       "      <th>2</th>\n",
       "      <td>2</td>\n",
       "      <td>[advertising, trends, AI, Olympics, Gen Z]</td>\n",
       "      <td>['Advertising', 'Gen Z', 'Gen AI', 'Olympics',...</td>\n",
       "      <td>[GenAI]</td>\n",
       "      <td>Advertising, Gen Z, Gen AI, Olympics, Trends</td>\n",
       "    </tr>\n",
       "    <tr>\n",
       "      <th>3</th>\n",
       "      <td>3</td>\n",
       "      <td>[AI, stocks, dividends]</td>\n",
       "      <td>['Dividends', 'Stocks']</td>\n",
       "      <td>[Stocks]</td>\n",
       "      <td>Dividends, Stocks</td>\n",
       "    </tr>\n",
       "    <tr>\n",
       "      <th>4</th>\n",
       "      <td>4</td>\n",
       "      <td>[AI, datacenter, technology stocks]</td>\n",
       "      <td>['AI Economic Impacts', 'Big Tech', 'Datacente...</td>\n",
       "      <td>[AI economic impacts, Big Tech, Nvidia, Stocks]</td>\n",
       "      <td>AI Economic Impacts, Big Tech, Datacenter, Nvi...</td>\n",
       "    </tr>\n",
       "    <tr>\n",
       "      <th>...</th>\n",
       "      <td>...</td>\n",
       "      <td>...</td>\n",
       "      <td>...</td>\n",
       "      <td>...</td>\n",
       "      <td>...</td>\n",
       "    </tr>\n",
       "    <tr>\n",
       "      <th>136</th>\n",
       "      <td>136</td>\n",
       "      <td>[AI, animal communication, technology impact]</td>\n",
       "      <td>['Animal Communication', 'Technology Impact']</td>\n",
       "      <td>[]</td>\n",
       "      <td>Animal Communication, Technology Impact</td>\n",
       "    </tr>\n",
       "    <tr>\n",
       "      <th>137</th>\n",
       "      <td>137</td>\n",
       "      <td>[Miss AI, activist, Morocco, beauty pageant]</td>\n",
       "      <td>['Activist', 'Beauty Pageant', 'Gen AI', 'Miss...</td>\n",
       "      <td>[GenAI]</td>\n",
       "      <td>Activist, Beauty Pageant, Gen AI, Miss AI, Mor...</td>\n",
       "    </tr>\n",
       "    <tr>\n",
       "      <th>138</th>\n",
       "      <td>138</td>\n",
       "      <td>[YouTube Music, radio generation, natural lang...</td>\n",
       "      <td>['AI Technology', 'Big Tech', 'Gen AI', 'Googl...</td>\n",
       "      <td>[Big Tech, GenAI, Google, Language Models]</td>\n",
       "      <td>AI Technology, Big Tech, Gen AI, Google, Langu...</td>\n",
       "    </tr>\n",
       "    <tr>\n",
       "      <th>139</th>\n",
       "      <td>139</td>\n",
       "      <td>[YouTube Music, music radio, AI-generated, ent...</td>\n",
       "      <td>['AI-Generated', 'Big Tech', 'Entertainment', ...</td>\n",
       "      <td>[Big Tech, Entertainment, GenAI, Google, Langu...</td>\n",
       "      <td>AI-Generated, Big Tech, Entertainment, Gen AI,...</td>\n",
       "    </tr>\n",
       "    <tr>\n",
       "      <th>140</th>\n",
       "      <td>140</td>\n",
       "      <td>[Generative AI Algorithm, technology innovatio...</td>\n",
       "      <td>['AI Model', 'Code Assistants', 'Cohere', 'Gen...</td>\n",
       "      <td>[Code assistants, Cohere, GenAI, OpenAI]</td>\n",
       "      <td>AI Model, Code Assistants, Cohere, Gen AI, Gen...</td>\n",
       "    </tr>\n",
       "  </tbody>\n",
       "</table>\n",
       "<p>141 rows × 5 columns</p>\n",
       "</div>"
      ],
      "text/plain": [
       "      id                                             topics  \\\n",
       "0      0                          [AI, disaster prevention]   \n",
       "1      1           [stocks, investment, financial planning]   \n",
       "2      2         [advertising, trends, AI, Olympics, Gen Z]   \n",
       "3      3                            [AI, stocks, dividends]   \n",
       "4      4                [AI, datacenter, technology stocks]   \n",
       "..   ...                                                ...   \n",
       "136  136      [AI, animal communication, technology impact]   \n",
       "137  137       [Miss AI, activist, Morocco, beauty pageant]   \n",
       "138  138  [YouTube Music, radio generation, natural lang...   \n",
       "139  139  [YouTube Music, music radio, AI-generated, ent...   \n",
       "140  140  [Generative AI Algorithm, technology innovatio...   \n",
       "\n",
       "                                             topic_str  \\\n",
       "0    ['AI Doom', 'Disaster Prevention', 'Ethical Is...   \n",
       "1       ['Financial Planning', 'Investment', 'Stocks']   \n",
       "2    ['Advertising', 'Gen Z', 'Gen AI', 'Olympics',...   \n",
       "3                              ['Dividends', 'Stocks']   \n",
       "4    ['AI Economic Impacts', 'Big Tech', 'Datacente...   \n",
       "..                                                 ...   \n",
       "136      ['Animal Communication', 'Technology Impact']   \n",
       "137  ['Activist', 'Beauty Pageant', 'Gen AI', 'Miss...   \n",
       "138  ['AI Technology', 'Big Tech', 'Gen AI', 'Googl...   \n",
       "139  ['AI-Generated', 'Big Tech', 'Entertainment', ...   \n",
       "140  ['AI Model', 'Code Assistants', 'Cohere', 'Gen...   \n",
       "\n",
       "                                       assigned_topics  \\\n",
       "0                            [AI doom, Ethical issues]   \n",
       "1                                             [Stocks]   \n",
       "2                                              [GenAI]   \n",
       "3                                             [Stocks]   \n",
       "4      [AI economic impacts, Big Tech, Nvidia, Stocks]   \n",
       "..                                                 ...   \n",
       "136                                                 []   \n",
       "137                                            [GenAI]   \n",
       "138         [Big Tech, GenAI, Google, Language Models]   \n",
       "139  [Big Tech, Entertainment, GenAI, Google, Langu...   \n",
       "140           [Code assistants, Cohere, GenAI, OpenAI]   \n",
       "\n",
       "                                          clean_topics  \n",
       "0         AI Doom, Disaster Prevention, Ethical Issues  \n",
       "1               Financial Planning, Investment, Stocks  \n",
       "2         Advertising, Gen Z, Gen AI, Olympics, Trends  \n",
       "3                                    Dividends, Stocks  \n",
       "4    AI Economic Impacts, Big Tech, Datacenter, Nvi...  \n",
       "..                                                 ...  \n",
       "136            Animal Communication, Technology Impact  \n",
       "137  Activist, Beauty Pageant, Gen AI, Miss AI, Mor...  \n",
       "138  AI Technology, Big Tech, Gen AI, Google, Langu...  \n",
       "139  AI-Generated, Big Tech, Entertainment, Gen AI,...  \n",
       "140  AI Model, Code Assistants, Cohere, Gen AI, Gen...  \n",
       "\n",
       "[141 rows x 5 columns]"
      ]
     },
     "execution_count": 93,
     "metadata": {},
     "output_type": "execute_result"
    }
   ],
   "source": [
    "def clean_topics(row):\n",
    "    topics = [x.title() for x in row.topics if x.lower() not in {\"ai\", \"artificial intelligence\"}]\n",
    "    assigned_topics = [x.title() for x in row.assigned_topics]\n",
    "    combined = sorted(list(set(topics + assigned_topics)))\n",
    "    combined = [s.replace(\"Ai\", \"AI\") for s in combined]\n",
    "    combined = [s.replace(\"Genai\", \"Gen AI\") for s in combined]\n",
    "    \n",
    "    return \", \".join(combined)\n",
    "\n",
    "topic_df[\"clean_topics\"] = topic_df.apply(clean_topics, axis=1)\n",
    "topic_df"
   ]
  },
  {
   "cell_type": "code",
   "execution_count": 90,
   "id": "3aa602bd",
   "metadata": {},
   "outputs": [
    {
     "data": {
      "text/html": [
       "<div>\n",
       "<style scoped>\n",
       "    .dataframe tbody tr th:only-of-type {\n",
       "        vertical-align: middle;\n",
       "    }\n",
       "\n",
       "    .dataframe tbody tr th {\n",
       "        vertical-align: top;\n",
       "    }\n",
       "\n",
       "    .dataframe thead th {\n",
       "        text-align: right;\n",
       "    }\n",
       "</style>\n",
       "<table border=\"1\" class=\"dataframe\">\n",
       "  <thead>\n",
       "    <tr style=\"text-align: right;\">\n",
       "      <th></th>\n",
       "      <th>id</th>\n",
       "      <th>src</th>\n",
       "      <th>title</th>\n",
       "      <th>url</th>\n",
       "      <th>isAI</th>\n",
       "      <th>date</th>\n",
       "      <th>topic_str</th>\n",
       "    </tr>\n",
       "  </thead>\n",
       "  <tbody>\n",
       "    <tr>\n",
       "      <th>0</th>\n",
       "      <td>0</td>\n",
       "      <td>Google News</td>\n",
       "      <td>10 ways to prevent shadow AI disaster</td>\n",
       "      <td>https://www.cio.com/article/2150142/10-ways-to...</td>\n",
       "      <td>True</td>\n",
       "      <td>2024-07-08</td>\n",
       "      <td>10 ways to prevent shadow AI disaster (Topics:...</td>\n",
       "    </tr>\n",
       "    <tr>\n",
       "      <th>1</th>\n",
       "      <td>1</td>\n",
       "      <td>Feedly AI</td>\n",
       "      <td>2 stocks to turn $100 into $1,000 for end of 2024</td>\n",
       "      <td>https://finbold.com/2-stocks-to-turn-100-into-...</td>\n",
       "      <td>True</td>\n",
       "      <td>2024-07-08</td>\n",
       "      <td>2 stocks to turn $100 into $1,000 for end of 2...</td>\n",
       "    </tr>\n",
       "    <tr>\n",
       "      <th>2</th>\n",
       "      <td>2</td>\n",
       "      <td>Google News</td>\n",
       "      <td>37 ad execs predict 2024 second half trends: A...</td>\n",
       "      <td>https://adage.com/article/agency-news/37-ad-ex...</td>\n",
       "      <td>True</td>\n",
       "      <td>2024-07-08</td>\n",
       "      <td>37 ad execs predict 2024 second half trends: A...</td>\n",
       "    </tr>\n",
       "    <tr>\n",
       "      <th>3</th>\n",
       "      <td>3</td>\n",
       "      <td>Google News</td>\n",
       "      <td>3 AI Stocks That Also Pay Dividends</td>\n",
       "      <td>https://investorplace.com/2024/07/3-ai-stocks-...</td>\n",
       "      <td>True</td>\n",
       "      <td>2024-07-08</td>\n",
       "      <td>3 AI Stocks That Also Pay Dividends (Topics: [...</td>\n",
       "    </tr>\n",
       "    <tr>\n",
       "      <th>4</th>\n",
       "      <td>4</td>\n",
       "      <td>Google News</td>\n",
       "      <td>3 Stocks to Benefit From the AI Datacenter Pow...</td>\n",
       "      <td>https://www.barrons.com/articles/3-stocks-to-b...</td>\n",
       "      <td>True</td>\n",
       "      <td>2024-07-08</td>\n",
       "      <td>3 Stocks to Benefit From the AI Datacenter Pow...</td>\n",
       "    </tr>\n",
       "    <tr>\n",
       "      <th>...</th>\n",
       "      <td>...</td>\n",
       "      <td>...</td>\n",
       "      <td>...</td>\n",
       "      <td>...</td>\n",
       "      <td>...</td>\n",
       "      <td>...</td>\n",
       "      <td>...</td>\n",
       "    </tr>\n",
       "    <tr>\n",
       "      <th>136</th>\n",
       "      <td>136</td>\n",
       "      <td>Google News</td>\n",
       "      <td>Will AI Soon Help Animals Talk To Us?</td>\n",
       "      <td>https://mindmatters.ai/2024/07/will-ai-soon-he...</td>\n",
       "      <td>True</td>\n",
       "      <td>2024-07-08</td>\n",
       "      <td>Will AI Soon Help Animals Talk To Us? (Topics:...</td>\n",
       "    </tr>\n",
       "    <tr>\n",
       "      <th>137</th>\n",
       "      <td>137</td>\n",
       "      <td>Feedly AI</td>\n",
       "      <td>Worlds first Miss AI crowned  and shes a hijab...</td>\n",
       "      <td>https://nypost.com/2024/07/08/lifestyle/worlds...</td>\n",
       "      <td>True</td>\n",
       "      <td>2024-07-08</td>\n",
       "      <td>Worlds first Miss AI crowned  and shes a hijab...</td>\n",
       "    </tr>\n",
       "    <tr>\n",
       "      <th>138</th>\n",
       "      <td>138</td>\n",
       "      <td>Google News</td>\n",
       "      <td>YouTube Music May Soon Let You Generate Custom...</td>\n",
       "      <td>https://english.jagran.com/technology/youtube-...</td>\n",
       "      <td>True</td>\n",
       "      <td>2024-07-08</td>\n",
       "      <td>YouTube Music May Soon Let You Generate Custom...</td>\n",
       "    </tr>\n",
       "    <tr>\n",
       "      <th>139</th>\n",
       "      <td>139</td>\n",
       "      <td>Google News</td>\n",
       "      <td>YouTube Music is piloting 'music any way you l...</td>\n",
       "      <td>https://www.techradar.com/streaming/youtube-mu...</td>\n",
       "      <td>True</td>\n",
       "      <td>2024-07-08</td>\n",
       "      <td>YouTube Music is piloting 'music any way you l...</td>\n",
       "    </tr>\n",
       "    <tr>\n",
       "      <th>140</th>\n",
       "      <td>140</td>\n",
       "      <td>Reddit</td>\n",
       "      <td>myGenerativeEiAiAlgorithm</td>\n",
       "      <td>https://www.reddit.com/r/ProgrammerHumor/comme...</td>\n",
       "      <td>True</td>\n",
       "      <td>2024-07-08</td>\n",
       "      <td>myGenerativeEiAiAlgorithm (Topics: ['AI Model'...</td>\n",
       "    </tr>\n",
       "  </tbody>\n",
       "</table>\n",
       "<p>141 rows × 7 columns</p>\n",
       "</div>"
      ],
      "text/plain": [
       "      id          src                                              title  \\\n",
       "0      0  Google News              10 ways to prevent shadow AI disaster   \n",
       "1      1    Feedly AI  2 stocks to turn $100 into $1,000 for end of 2024   \n",
       "2      2  Google News  37 ad execs predict 2024 second half trends: A...   \n",
       "3      3  Google News                3 AI Stocks That Also Pay Dividends   \n",
       "4      4  Google News  3 Stocks to Benefit From the AI Datacenter Pow...   \n",
       "..   ...          ...                                                ...   \n",
       "136  136  Google News              Will AI Soon Help Animals Talk To Us?   \n",
       "137  137    Feedly AI  Worlds first Miss AI crowned  and shes a hijab...   \n",
       "138  138  Google News  YouTube Music May Soon Let You Generate Custom...   \n",
       "139  139  Google News  YouTube Music is piloting 'music any way you l...   \n",
       "140  140       Reddit                          myGenerativeEiAiAlgorithm   \n",
       "\n",
       "                                                   url  isAI        date  \\\n",
       "0    https://www.cio.com/article/2150142/10-ways-to...  True  2024-07-08   \n",
       "1    https://finbold.com/2-stocks-to-turn-100-into-...  True  2024-07-08   \n",
       "2    https://adage.com/article/agency-news/37-ad-ex...  True  2024-07-08   \n",
       "3    https://investorplace.com/2024/07/3-ai-stocks-...  True  2024-07-08   \n",
       "4    https://www.barrons.com/articles/3-stocks-to-b...  True  2024-07-08   \n",
       "..                                                 ...   ...         ...   \n",
       "136  https://mindmatters.ai/2024/07/will-ai-soon-he...  True  2024-07-08   \n",
       "137  https://nypost.com/2024/07/08/lifestyle/worlds...  True  2024-07-08   \n",
       "138  https://english.jagran.com/technology/youtube-...  True  2024-07-08   \n",
       "139  https://www.techradar.com/streaming/youtube-mu...  True  2024-07-08   \n",
       "140  https://www.reddit.com/r/ProgrammerHumor/comme...  True  2024-07-08   \n",
       "\n",
       "                                             topic_str  \n",
       "0    10 ways to prevent shadow AI disaster (Topics:...  \n",
       "1    2 stocks to turn $100 into $1,000 for end of 2...  \n",
       "2    37 ad execs predict 2024 second half trends: A...  \n",
       "3    3 AI Stocks That Also Pay Dividends (Topics: [...  \n",
       "4    3 Stocks to Benefit From the AI Datacenter Pow...  \n",
       "..                                                 ...  \n",
       "136  Will AI Soon Help Animals Talk To Us? (Topics:...  \n",
       "137  Worlds first Miss AI crowned  and shes a hijab...  \n",
       "138  YouTube Music May Soon Let You Generate Custom...  \n",
       "139  YouTube Music is piloting 'music any way you l...  \n",
       "140  myGenerativeEiAiAlgorithm (Topics: ['AI Model'...  \n",
       "\n",
       "[141 rows x 7 columns]"
      ]
     },
     "execution_count": 90,
     "metadata": {},
     "output_type": "execute_result"
    }
   ],
   "source": [
    "# merge returned df into original df\n",
    "merged_df = pd.merge(AIdf, topic_df[[\"id\", \"topic_str\"]], on=\"id\", how=\"outer\")\n",
    "merged_df['title_topic_str'] = merged_df.apply(lambda row: f'{row.title} (Topics: {row.topic_str})', axis=1)\n",
    "\n",
    "merged_df\n"
   ]
  },
  {
   "cell_type": "code",
   "execution_count": 91,
   "id": "7f269ead",
   "metadata": {},
   "outputs": [],
   "source": [
    "AIdf = merged_df"
   ]
  },
  {
   "cell_type": "markdown",
   "id": "f6748df0",
   "metadata": {},
   "source": [
    "### Semantic sort"
   ]
  },
  {
   "cell_type": "code",
   "execution_count": 96,
   "id": "468fa9e6",
   "metadata": {},
   "outputs": [
    {
     "name": "stderr",
     "output_type": "stream",
     "text": [
      "2024-07-08 13:40:05,668 - AInewsbot - INFO - Fetching embeddings for 141 headlines\n",
      "2024-07-08 13:40:06,313 - httpx - INFO - HTTP Request: POST https://api.openai.com/v1/embeddings \"HTTP/1.1 200 OK\"\n"
     ]
    },
    {
     "data": {
      "text/html": [
       "<div>\n",
       "<style scoped>\n",
       "    .dataframe tbody tr th:only-of-type {\n",
       "        vertical-align: middle;\n",
       "    }\n",
       "\n",
       "    .dataframe tbody tr th {\n",
       "        vertical-align: top;\n",
       "    }\n",
       "\n",
       "    .dataframe thead th {\n",
       "        text-align: right;\n",
       "    }\n",
       "</style>\n",
       "<table border=\"1\" class=\"dataframe\">\n",
       "  <thead>\n",
       "    <tr style=\"text-align: right;\">\n",
       "      <th></th>\n",
       "      <th>id</th>\n",
       "      <th>src</th>\n",
       "      <th>title</th>\n",
       "      <th>url</th>\n",
       "      <th>isAI</th>\n",
       "      <th>date</th>\n",
       "      <th>topic_str</th>\n",
       "    </tr>\n",
       "  </thead>\n",
       "  <tbody>\n",
       "    <tr>\n",
       "      <th>0</th>\n",
       "      <td>0</td>\n",
       "      <td>Google News</td>\n",
       "      <td>Heres how Claude 3.5 Sonnet and GPT-4o stack u...</td>\n",
       "      <td>https://www.digitaltrends.com/computing/claude...</td>\n",
       "      <td>True</td>\n",
       "      <td>2024-07-08</td>\n",
       "      <td>Heres how Claude 3.5 Sonnet and GPT-4o stack u...</td>\n",
       "    </tr>\n",
       "    <tr>\n",
       "      <th>1</th>\n",
       "      <td>1</td>\n",
       "      <td>Google News</td>\n",
       "      <td>Why Claude 3.5 Sonnet is the AI to Watch, Not ...</td>\n",
       "      <td>https://www.techopedia.com/news/why-claude-3-5...</td>\n",
       "      <td>True</td>\n",
       "      <td>2024-07-08</td>\n",
       "      <td>Why Claude 3.5 Sonnet is the AI to Watch, Not ...</td>\n",
       "    </tr>\n",
       "    <tr>\n",
       "      <th>2</th>\n",
       "      <td>2</td>\n",
       "      <td>Google News</td>\n",
       "      <td>Claude AI: A Comprehensive Overview Exploring ...</td>\n",
       "      <td>https://www.marktechpost.com/2024/07/05/claude...</td>\n",
       "      <td>True</td>\n",
       "      <td>2024-07-08</td>\n",
       "      <td>Claude AI: A Comprehensive Overview Exploring ...</td>\n",
       "    </tr>\n",
       "    <tr>\n",
       "      <th>3</th>\n",
       "      <td>3</td>\n",
       "      <td>Feedly AI</td>\n",
       "      <td>Exciting Claude 3 Projects with internal knowl...</td>\n",
       "      <td>https://www.geeky-gadgets.com/claude-projects/</td>\n",
       "      <td>True</td>\n",
       "      <td>2024-07-08</td>\n",
       "      <td>Exciting Claude 3 Projects with internal knowl...</td>\n",
       "    </tr>\n",
       "    <tr>\n",
       "      <th>4</th>\n",
       "      <td>4</td>\n",
       "      <td>Reddit</td>\n",
       "      <td>University examiners fail to spot ChatGPT answ...</td>\n",
       "      <td>https://www.reddit.com/r/technology/comments/1...</td>\n",
       "      <td>True</td>\n",
       "      <td>2024-07-08</td>\n",
       "      <td>University examiners fail to spot ChatGPT answ...</td>\n",
       "    </tr>\n",
       "    <tr>\n",
       "      <th>...</th>\n",
       "      <td>...</td>\n",
       "      <td>...</td>\n",
       "      <td>...</td>\n",
       "      <td>...</td>\n",
       "      <td>...</td>\n",
       "      <td>...</td>\n",
       "      <td>...</td>\n",
       "    </tr>\n",
       "    <tr>\n",
       "      <th>136</th>\n",
       "      <td>136</td>\n",
       "      <td>Google News</td>\n",
       "      <td>Can AI Help With Special Ed.? There's Promisea...</td>\n",
       "      <td>https://www.edweek.org/teaching-learning/can-a...</td>\n",
       "      <td>True</td>\n",
       "      <td>2024-07-08</td>\n",
       "      <td>Can AI Help With Special Ed.? There's Promisea...</td>\n",
       "    </tr>\n",
       "    <tr>\n",
       "      <th>137</th>\n",
       "      <td>137</td>\n",
       "      <td>Feedly AI</td>\n",
       "      <td>Researchers Warn of Potential for Racial Bias ...</td>\n",
       "      <td>https://www.kqed.org/mindshift/64139/researche...</td>\n",
       "      <td>True</td>\n",
       "      <td>2024-07-08</td>\n",
       "      <td>Researchers Warn of Potential for Racial Bias ...</td>\n",
       "    </tr>\n",
       "    <tr>\n",
       "      <th>138</th>\n",
       "      <td>138</td>\n",
       "      <td>Feedly AI</td>\n",
       "      <td>UAB adds programs for students interested inar...</td>\n",
       "      <td>https://www.al.com/educationlab/2024/07/uab-ad...</td>\n",
       "      <td>True</td>\n",
       "      <td>2024-07-08</td>\n",
       "      <td>UAB adds programs for students interested inar...</td>\n",
       "    </tr>\n",
       "    <tr>\n",
       "      <th>139</th>\n",
       "      <td>139</td>\n",
       "      <td>Feedly AI</td>\n",
       "      <td>How will the rise of AI in the workplace impac...</td>\n",
       "      <td>https://www.highereddive.com/news/artificial-i...</td>\n",
       "      <td>True</td>\n",
       "      <td>2024-07-08</td>\n",
       "      <td>How will the rise of AI in the workplace impac...</td>\n",
       "    </tr>\n",
       "    <tr>\n",
       "      <th>140</th>\n",
       "      <td>140</td>\n",
       "      <td>Google News</td>\n",
       "      <td>Mary Meeker urges higher ed to lead in AI</td>\n",
       "      <td>https://www.insidehighered.com/news/tech-innov...</td>\n",
       "      <td>True</td>\n",
       "      <td>2024-07-08</td>\n",
       "      <td>Mary Meeker urges higher ed to lead in AI (Top...</td>\n",
       "    </tr>\n",
       "  </tbody>\n",
       "</table>\n",
       "<p>141 rows × 7 columns</p>\n",
       "</div>"
      ],
      "text/plain": [
       "      id          src                                              title  \\\n",
       "0      0  Google News  Heres how Claude 3.5 Sonnet and GPT-4o stack u...   \n",
       "1      1  Google News  Why Claude 3.5 Sonnet is the AI to Watch, Not ...   \n",
       "2      2  Google News  Claude AI: A Comprehensive Overview Exploring ...   \n",
       "3      3    Feedly AI  Exciting Claude 3 Projects with internal knowl...   \n",
       "4      4       Reddit  University examiners fail to spot ChatGPT answ...   \n",
       "..   ...          ...                                                ...   \n",
       "136  136  Google News  Can AI Help With Special Ed.? There's Promisea...   \n",
       "137  137    Feedly AI  Researchers Warn of Potential for Racial Bias ...   \n",
       "138  138    Feedly AI  UAB adds programs for students interested inar...   \n",
       "139  139    Feedly AI  How will the rise of AI in the workplace impac...   \n",
       "140  140  Google News          Mary Meeker urges higher ed to lead in AI   \n",
       "\n",
       "                                                   url  isAI        date  \\\n",
       "0    https://www.digitaltrends.com/computing/claude...  True  2024-07-08   \n",
       "1    https://www.techopedia.com/news/why-claude-3-5...  True  2024-07-08   \n",
       "2    https://www.marktechpost.com/2024/07/05/claude...  True  2024-07-08   \n",
       "3       https://www.geeky-gadgets.com/claude-projects/  True  2024-07-08   \n",
       "4    https://www.reddit.com/r/technology/comments/1...  True  2024-07-08   \n",
       "..                                                 ...   ...         ...   \n",
       "136  https://www.edweek.org/teaching-learning/can-a...  True  2024-07-08   \n",
       "137  https://www.kqed.org/mindshift/64139/researche...  True  2024-07-08   \n",
       "138  https://www.al.com/educationlab/2024/07/uab-ad...  True  2024-07-08   \n",
       "139  https://www.highereddive.com/news/artificial-i...  True  2024-07-08   \n",
       "140  https://www.insidehighered.com/news/tech-innov...  True  2024-07-08   \n",
       "\n",
       "                                             topic_str  \n",
       "0    Heres how Claude 3.5 Sonnet and GPT-4o stack u...  \n",
       "1    Why Claude 3.5 Sonnet is the AI to Watch, Not ...  \n",
       "2    Claude AI: A Comprehensive Overview Exploring ...  \n",
       "3    Exciting Claude 3 Projects with internal knowl...  \n",
       "4    University examiners fail to spot ChatGPT answ...  \n",
       "..                                                 ...  \n",
       "136  Can AI Help With Special Ed.? There's Promisea...  \n",
       "137  Researchers Warn of Potential for Racial Bias ...  \n",
       "138  UAB adds programs for students interested inar...  \n",
       "139  How will the rise of AI in the workplace impac...  \n",
       "140  Mary Meeker urges higher ed to lead in AI (Top...  \n",
       "\n",
       "[141 rows x 7 columns]"
      ]
     },
     "execution_count": 96,
     "metadata": {},
     "output_type": "execute_result"
    }
   ],
   "source": [
    "# use embeddings to sort headlines by semantical similarity\n",
    "log(f\"Fetching embeddings for {len(AIdf)} headlines\")\n",
    "embedding_model = 'text-embedding-3-large'\n",
    "response = client.embeddings.create(input=AIdf['title_topic_str'].tolist(),\n",
    "                                    model=embedding_model)\n",
    "embedding_df = pd.DataFrame([e.model_dump()['embedding'] for e in response.data])\n",
    "\n",
    "sorted_indices = agglomerative_cluster_sort(embedding_df)\n",
    "AIdf = AIdf.iloc[sorted_indices] \\\n",
    "    .reset_index(drop=True) \\\n",
    "    .reset_index() \\\n",
    "    .drop(columns=[\"id\"]) \\\n",
    "    .rename(columns={'index': 'id'})\n",
    "\n",
    "# sort embedding_df to match\n",
    "embedding_df = embedding_df[sorted_indices]\n",
    "\n",
    "AIdf\n"
   ]
  },
  {
   "cell_type": "code",
   "execution_count": 98,
   "id": "17941fb5",
   "metadata": {},
   "outputs": [
    {
     "data": {
      "text/html": [
       "<div>\n",
       "<style scoped>\n",
       "    .dataframe tbody tr th:only-of-type {\n",
       "        vertical-align: middle;\n",
       "    }\n",
       "\n",
       "    .dataframe tbody tr th {\n",
       "        vertical-align: top;\n",
       "    }\n",
       "\n",
       "    .dataframe thead th {\n",
       "        text-align: right;\n",
       "    }\n",
       "</style>\n",
       "<table border=\"1\" class=\"dataframe\">\n",
       "  <thead>\n",
       "    <tr style=\"text-align: right;\">\n",
       "      <th></th>\n",
       "      <th>title</th>\n",
       "    </tr>\n",
       "  </thead>\n",
       "  <tbody>\n",
       "    <tr>\n",
       "      <th>0</th>\n",
       "      <td>Heres how Claude 3.5 Sonnet and GPT-4o stack up in a direct comparison</td>\n",
       "    </tr>\n",
       "    <tr>\n",
       "      <th>1</th>\n",
       "      <td>Why Claude 3.5 Sonnet is the AI to Watch, Not ChatGPT-4o</td>\n",
       "    </tr>\n",
       "    <tr>\n",
       "      <th>2</th>\n",
       "      <td>Claude AI: A Comprehensive Overview Exploring the Advanced Capabilities and Ethical Design of Anthropics Leading Language Model</td>\n",
       "    </tr>\n",
       "    <tr>\n",
       "      <th>3</th>\n",
       "      <td>Exciting Claude 3 Projects with internal knowledge, 200k context window</td>\n",
       "    </tr>\n",
       "    <tr>\n",
       "      <th>4</th>\n",
       "      <td>University examiners fail to spot ChatGPT answers in real-world test</td>\n",
       "    </tr>\n",
       "    <tr>\n",
       "      <th>5</th>\n",
       "      <td>ChatGPT is funnier than humans (and its no joke for professional writers)</td>\n",
       "    </tr>\n",
       "    <tr>\n",
       "      <th>6</th>\n",
       "      <td>How Good Is ChatGPT at Coding, Really? Study finds that while AI can be great, it also struggles due to training limitations</td>\n",
       "    </tr>\n",
       "    <tr>\n",
       "      <th>7</th>\n",
       "      <td>Go Ahead, Write Your Cover Letter With ChatGPT</td>\n",
       "    </tr>\n",
       "    <tr>\n",
       "      <th>8</th>\n",
       "      <td>Can ChatGPT handle HR? Here's what happened when we put it to the test</td>\n",
       "    </tr>\n",
       "    <tr>\n",
       "      <th>9</th>\n",
       "      <td>Can ChatGPT handle HR? Heres what happened when we put it to the test</td>\n",
       "    </tr>\n",
       "    <tr>\n",
       "      <th>10</th>\n",
       "      <td>ChatGPT accurately guesses my weight based on a photo. I weigh 167</td>\n",
       "    </tr>\n",
       "    <tr>\n",
       "      <th>11</th>\n",
       "      <td>I asked chat gpt to depict Bhutans flag in ascii.</td>\n",
       "    </tr>\n",
       "    <tr>\n",
       "      <th>12</th>\n",
       "      <td>OpenAI, GitHub Beat Digital Copyright Claims From Programmers</td>\n",
       "    </tr>\n",
       "    <tr>\n",
       "      <th>13</th>\n",
       "      <td>Judge Partially Dismisses $1B Lawsuit Against Microsoft, OpenAI, and GitHub Over AI Code Use</td>\n",
       "    </tr>\n",
       "    <tr>\n",
       "      <th>14</th>\n",
       "      <td>Judge dismisses coders' DMCA claims against Microsoft, OpenAI and GitHub</td>\n",
       "    </tr>\n",
       "    <tr>\n",
       "      <th>15</th>\n",
       "      <td>Micro-agent: make an AI write code until it passes an unit test</td>\n",
       "    </tr>\n",
       "    <tr>\n",
       "      <th>16</th>\n",
       "      <td>Converting Epics/Stories into Pseudocode using Transformers</td>\n",
       "    </tr>\n",
       "    <tr>\n",
       "      <th>17</th>\n",
       "      <td>The Evolution of Text-to-Code and Pseudocode Automation</td>\n",
       "    </tr>\n",
       "    <tr>\n",
       "      <th>18</th>\n",
       "      <td>Transforming Text to Code: An Approach to Efficient Agile Development</td>\n",
       "    </tr>\n",
       "    <tr>\n",
       "      <th>19</th>\n",
       "      <td>Apply Now: GBP 150,000 Artificial Intelligence Research Grants</td>\n",
       "    </tr>\n",
       "    <tr>\n",
       "      <th>20</th>\n",
       "      <td>Exiger Leads Market in AI-Driven Multi-Tier Visibility with Versed AI Acquisition</td>\n",
       "    </tr>\n",
       "    <tr>\n",
       "      <th>21</th>\n",
       "      <td>Why So Many Bitcoin Mining Companies Are Pivoting to AI</td>\n",
       "    </tr>\n",
       "    <tr>\n",
       "      <th>22</th>\n",
       "      <td>How AI is driving the venture capital market</td>\n",
       "    </tr>\n",
       "    <tr>\n",
       "      <th>23</th>\n",
       "      <td>Revolutionizing Finance: Harnessing Next-Gen AI Platforms for Enterprise Success</td>\n",
       "    </tr>\n",
       "    <tr>\n",
       "      <th>24</th>\n",
       "      <td>Abu Dhabi Investment Firm Lunate Takes On AI Firm G42s China Fund</td>\n",
       "    </tr>\n",
       "    <tr>\n",
       "      <th>25</th>\n",
       "      <td>OpenAI Startup Fund and Thrive Global Launch Thrive AI Health, Offering a Hyper-Personalized AI Health Coach</td>\n",
       "    </tr>\n",
       "    <tr>\n",
       "      <th>26</th>\n",
       "      <td>Aidan Gomez's Cohere Reaches $5 Billion Valuation with Nvidia's Backing</td>\n",
       "    </tr>\n",
       "    <tr>\n",
       "      <th>27</th>\n",
       "      <td>Cohere CEO and ex-Google researcher Aidan Gomez on how his AI models make money for companies</td>\n",
       "    </tr>\n",
       "    <tr>\n",
       "      <th>28</th>\n",
       "      <td>How Cohere CEO Aidan Gomez Says AI Will Directly Profit Companies</td>\n",
       "    </tr>\n",
       "    <tr>\n",
       "      <th>29</th>\n",
       "      <td>Synerise Raises $8.5 Million to Expand AI-Driven Behavioral Modeling Solutions</td>\n",
       "    </tr>\n",
       "    <tr>\n",
       "      <th>30</th>\n",
       "      <td>Hebbia Raises $130 Million for AI That Helps Firms Answer Complex Questions</td>\n",
       "    </tr>\n",
       "    <tr>\n",
       "      <th>31</th>\n",
       "      <td>New York-based Hebbia, which uses AI to help companies sift through documents, raised $130M led by a16z, a source says at a ~$700M post-money valuation (Rachel Metz/Bloomberg)</td>\n",
       "    </tr>\n",
       "    <tr>\n",
       "      <th>32</th>\n",
       "      <td>2 stocks to turn $100 into $1,000 for end of 2024</td>\n",
       "    </tr>\n",
       "    <tr>\n",
       "      <th>33</th>\n",
       "      <td>Ethereum or Solana? We asked ChatGPT-4o which stock is a better buy for 2024</td>\n",
       "    </tr>\n",
       "    <tr>\n",
       "      <th>34</th>\n",
       "      <td>Tesla Bull Says EV Giant's FSD Revenue Nearing $1B Annual Run-Rate, Urges Breaking Out AI And Robotics Numbers</td>\n",
       "    </tr>\n",
       "    <tr>\n",
       "      <th>35</th>\n",
       "      <td>Teslas upcoming earnings report has to divulge its AI plans and Nvidias role</td>\n",
       "    </tr>\n",
       "    <tr>\n",
       "      <th>36</th>\n",
       "      <td>AI industry needs annual revenues of more than the UAEs GDP to offset costs</td>\n",
       "    </tr>\n",
       "    <tr>\n",
       "      <th>37</th>\n",
       "      <td>Big Tech needs to generate $600 billion in annual revenue to justify AI hardware expenditure</td>\n",
       "    </tr>\n",
       "    <tr>\n",
       "      <th>38</th>\n",
       "      <td>Arista Networks: Nvidia Isn't The Only AI Gold Rush Beneficiary (NYSE:ANET)</td>\n",
       "    </tr>\n",
       "    <tr>\n",
       "      <th>39</th>\n",
       "      <td>Billionaires Are Selling Nvidia Stock and Buying 2 Supercharged Artificial Intelligence (AI) Stocks Instead</td>\n",
       "    </tr>\n",
       "    <tr>\n",
       "      <th>40</th>\n",
       "      <td>Nvidia Stock Gains Amid AI Chip Antitrust Scrutiny</td>\n",
       "    </tr>\n",
       "    <tr>\n",
       "      <th>41</th>\n",
       "      <td>3 AI Stocks That Also Pay Dividends</td>\n",
       "    </tr>\n",
       "    <tr>\n",
       "      <th>42</th>\n",
       "      <td>3 Stocks to Benefit From the AI Datacenter Power Boom</td>\n",
       "    </tr>\n",
       "    <tr>\n",
       "      <th>43</th>\n",
       "      <td>Two Canadian stocks set to benefit from AI-driven datacenter expansion: RBC</td>\n",
       "    </tr>\n",
       "    <tr>\n",
       "      <th>44</th>\n",
       "      <td>Cornings stock soars 7% after company raises Q2 guidance to reflect AI bump</td>\n",
       "    </tr>\n",
       "    <tr>\n",
       "      <th>45</th>\n",
       "      <td>Samsung flags better-than-expected profit rise as AI boom lifts chip prices</td>\n",
       "    </tr>\n",
       "    <tr>\n",
       "      <th>46</th>\n",
       "      <td>China AI leader iFlytek dips into red under 'ultimate' U.S. pressure</td>\n",
       "    </tr>\n",
       "    <tr>\n",
       "      <th>47</th>\n",
       "      <td>Southeast Asia's IPO market fell drastically in the first half, but AI listings could revive it</td>\n",
       "    </tr>\n",
       "    <tr>\n",
       "      <th>48</th>\n",
       "      <td>Galaxy AI Live Translate feature might soon bridge the language gap in WhatsApp calls</td>\n",
       "    </tr>\n",
       "    <tr>\n",
       "      <th>49</th>\n",
       "      <td>WhatsApp could soon get a Galaxy AI-powered Live Translate feature</td>\n",
       "    </tr>\n",
       "    <tr>\n",
       "      <th>50</th>\n",
       "      <td>Meta AI may get more collaborative in WhatsApp for Android.</td>\n",
       "    </tr>\n",
       "    <tr>\n",
       "      <th>51</th>\n",
       "      <td>Meta AI on WhatsApp is getting smarter: You will soon be able to edit and analyse images</td>\n",
       "    </tr>\n",
       "    <tr>\n",
       "      <th>52</th>\n",
       "      <td>WhatsApp's new feature will let Meta AI edit your photos for you</td>\n",
       "    </tr>\n",
       "    <tr>\n",
       "      <th>53</th>\n",
       "      <td>Apples massive AI-powered Siri upgrade isnt coming until spring 2025</td>\n",
       "    </tr>\n",
       "    <tr>\n",
       "      <th>54</th>\n",
       "      <td>New Siri Experience With Apple Intelligence Likely to Debut in Spring 2025</td>\n",
       "    </tr>\n",
       "    <tr>\n",
       "      <th>55</th>\n",
       "      <td>Steam's Summer Sale is in full swing  here's 11 gaming deals I'd buy right now</td>\n",
       "    </tr>\n",
       "    <tr>\n",
       "      <th>56</th>\n",
       "      <td>Copilot+ PCs software compatibility issues left to you to sort out, with help from crowdsourcersSamsung warned users, but the PC industrys big players hardly mention the possibility of problems</td>\n",
       "    </tr>\n",
       "    <tr>\n",
       "      <th>57</th>\n",
       "      <td>Stealthy Jenoptik smart cameras that can spot drivers on their phone roll out across UK</td>\n",
       "    </tr>\n",
       "    <tr>\n",
       "      <th>58</th>\n",
       "      <td>Google is bringing Fuchsia OS to Android devices, but not in the way you'd think</td>\n",
       "    </tr>\n",
       "    <tr>\n",
       "      <th>59</th>\n",
       "      <td>Two big upgrades were just confirmed for the Google Pixel Watch 3</td>\n",
       "    </tr>\n",
       "    <tr>\n",
       "      <th>60</th>\n",
       "      <td>AI put an innocent Texan in jail. Why is HPD working with Airship AI?</td>\n",
       "    </tr>\n",
       "    <tr>\n",
       "      <th>61</th>\n",
       "      <td>Is AI's entry into music a sign of humanity's last tune?</td>\n",
       "    </tr>\n",
       "    <tr>\n",
       "      <th>62</th>\n",
       "      <td>AI Doppelganger  Cool or Creepy?</td>\n",
       "    </tr>\n",
       "    <tr>\n",
       "      <th>63</th>\n",
       "      <td>AI creates video of 'what hell looks like' and the result is terrifying</td>\n",
       "    </tr>\n",
       "    <tr>\n",
       "      <th>64</th>\n",
       "      <td>Hacker accessed OpenAI's internal AI details in 2023 breach: report</td>\n",
       "    </tr>\n",
       "    <tr>\n",
       "      <th>65</th>\n",
       "      <td>AI eyes of roads that can spy inside cars pose threat to privacy</td>\n",
       "    </tr>\n",
       "    <tr>\n",
       "      <th>66</th>\n",
       "      <td>10 ways to prevent shadow AI disaster</td>\n",
       "    </tr>\n",
       "    <tr>\n",
       "      <th>67</th>\n",
       "      <td>Artificial Intelligence Researchers Need More Information to Understand Risks</td>\n",
       "    </tr>\n",
       "    <tr>\n",
       "      <th>68</th>\n",
       "      <td>Telecoms companies now using scambaiting AI systems; Lenny+</td>\n",
       "    </tr>\n",
       "    <tr>\n",
       "      <th>69</th>\n",
       "      <td>Telecoms companies now using scambaiting AI systems modelled on Lenny</td>\n",
       "    </tr>\n",
       "    <tr>\n",
       "      <th>70</th>\n",
       "      <td>Here's How Your Online Activity Is Training Next-Gen AI</td>\n",
       "    </tr>\n",
       "    <tr>\n",
       "      <th>71</th>\n",
       "      <td>Google's AI Aftershock: Expert Explains How to Thrive in the New Search Landscape</td>\n",
       "    </tr>\n",
       "    <tr>\n",
       "      <th>72</th>\n",
       "      <td>Google Experts Warn That AI May Distort Reality, While AI Overviews Repel Mobile Users</td>\n",
       "    </tr>\n",
       "    <tr>\n",
       "      <th>73</th>\n",
       "      <td>China's AI model glut is a 'significant waste of resources' due to scarce real-world applications for 100+ LLMs says Baidu CEO</td>\n",
       "    </tr>\n",
       "    <tr>\n",
       "      <th>74</th>\n",
       "      <td>Google's AI search summaries use 10x more energy than just doing a normal Google search</td>\n",
       "    </tr>\n",
       "    <tr>\n",
       "      <th>75</th>\n",
       "      <td>Power-hungry AI is driving a surge in tech giant carbon emissions. Nobody knows what to do about it</td>\n",
       "    </tr>\n",
       "    <tr>\n",
       "      <th>76</th>\n",
       "      <td>Co-author of the original Transformers paper says models are doing things he thought were 40 years away and scaling laws will continue to hold</td>\n",
       "    </tr>\n",
       "    <tr>\n",
       "      <th>77</th>\n",
       "      <td>Small Language Models: The Future Catalyst for Organizational Success</td>\n",
       "    </tr>\n",
       "    <tr>\n",
       "      <th>78</th>\n",
       "      <td>Breaking the rules is in big tech's blood  now it's time to break the habitOpinionMicrosoft: All your data are belong to us? World: That's so last centuryAI + ML4 hrs|9</td>\n",
       "    </tr>\n",
       "    <tr>\n",
       "      <th>79</th>\n",
       "      <td>Tether CEO advocates for localized AI models to prevent hacks</td>\n",
       "    </tr>\n",
       "    <tr>\n",
       "      <th>80</th>\n",
       "      <td>Interview: Microsoft AI chief Mustafa Suleyman on balancing AI innovation and containment</td>\n",
       "    </tr>\n",
       "    <tr>\n",
       "      <th>81</th>\n",
       "      <td>Microsoft AI chief on AI companies using online content</td>\n",
       "    </tr>\n",
       "    <tr>\n",
       "      <th>82</th>\n",
       "      <td>UK Future Workforce Index 2024: 83% of UK businesses willing to pay a higher wage to those with AI skills amid hiring challenges</td>\n",
       "    </tr>\n",
       "    <tr>\n",
       "      <th>83</th>\n",
       "      <td>Artificial Intelligence Boom Lifts Paychecks for CIOs</td>\n",
       "    </tr>\n",
       "    <tr>\n",
       "      <th>84</th>\n",
       "      <td>China sees changing of career guard as AI beats out finance in pay pyramid</td>\n",
       "    </tr>\n",
       "    <tr>\n",
       "      <th>85</th>\n",
       "      <td>Chinas tech boom powering AI career coup, with finance muscled out at top of salary pyramid</td>\n",
       "    </tr>\n",
       "    <tr>\n",
       "      <th>86</th>\n",
       "      <td>A majority of CFOs admit they don't fully understand AI</td>\n",
       "    </tr>\n",
       "    <tr>\n",
       "      <th>87</th>\n",
       "      <td>CIOs' concerns over generative AI echo those of the early days of cloud computing</td>\n",
       "    </tr>\n",
       "    <tr>\n",
       "      <th>88</th>\n",
       "      <td>This AI model says US recession chances are up to 68%</td>\n",
       "    </tr>\n",
       "    <tr>\n",
       "      <th>89</th>\n",
       "      <td>37 ad execs predict 2024 second half trends: AI, Olympics, Gen Z</td>\n",
       "    </tr>\n",
       "    <tr>\n",
       "      <th>90</th>\n",
       "      <td>Retail This Week: Soft Landings, AI Hype, And Department Store Deaths</td>\n",
       "    </tr>\n",
       "    <tr>\n",
       "      <th>91</th>\n",
       "      <td>AI breakthrough? Google's new training method uses 10x less power</td>\n",
       "    </tr>\n",
       "    <tr>\n",
       "      <th>92</th>\n",
       "      <td>Google claims new AI training tech is 13 times faster and 10 times more power efficient  DeepMind's new JEST optimizes training data for impressive gains</td>\n",
       "    </tr>\n",
       "    <tr>\n",
       "      <th>93</th>\n",
       "      <td>Google claims new AI training tech is 13x faster, 10x more power efficient</td>\n",
       "    </tr>\n",
       "    <tr>\n",
       "      <th>94</th>\n",
       "      <td>UN Agency: China Leading AI Patents Race</td>\n",
       "    </tr>\n",
       "    <tr>\n",
       "      <th>95</th>\n",
       "      <td>At Shanghai AI Expo, Humanoid Robots Turn Heads, Bake Bread</td>\n",
       "    </tr>\n",
       "    <tr>\n",
       "      <th>96</th>\n",
       "      <td>China's AI Leaders Alibaba and SenseTime Showcase Breakthroughs at Shanghai Conference</td>\n",
       "    </tr>\n",
       "    <tr>\n",
       "      <th>97</th>\n",
       "      <td>China flexes AI muscle at Shanghai expo</td>\n",
       "    </tr>\n",
       "    <tr>\n",
       "      <th>98</th>\n",
       "      <td>Chinese GPU maker Moore Threads' MTLink fabric tech challenges Nvidia's NVLink, can now scale to 10,000 GPUs for AI clusters</td>\n",
       "    </tr>\n",
       "    <tr>\n",
       "      <th>99</th>\n",
       "      <td>AI-Powered Super Soldiers Are More Than Just a Pipe Dream</td>\n",
       "    </tr>\n",
       "    <tr>\n",
       "      <th>100</th>\n",
       "      <td>A first physical system to learn nonlinear tasks without a traditional computer processor</td>\n",
       "    </tr>\n",
       "    <tr>\n",
       "      <th>101</th>\n",
       "      <td>Detect Migrating Birds with a Plastic Dish and a Cheap Microphone</td>\n",
       "    </tr>\n",
       "    <tr>\n",
       "      <th>102</th>\n",
       "      <td>SpaceX rockets blew away local bird habitats after Elon Musk 'misled' NPS officials about expansion, NYT reports</td>\n",
       "    </tr>\n",
       "    <tr>\n",
       "      <th>103</th>\n",
       "      <td>DRLQ: A Novel Deep Reinforcement Learning (DRL)-based Technique for Task Placement in Quantum Cloud Computing Environments</td>\n",
       "    </tr>\n",
       "    <tr>\n",
       "      <th>104</th>\n",
       "      <td>MoBot uses AI to learn how trees move. And to save millions of plant specimens.</td>\n",
       "    </tr>\n",
       "    <tr>\n",
       "      <th>105</th>\n",
       "      <td>MoBot uses AI to save millions of plant specimens</td>\n",
       "    </tr>\n",
       "    <tr>\n",
       "      <th>106</th>\n",
       "      <td>Machine learning identifies cancer-driving mutations at CTCF binding sites</td>\n",
       "    </tr>\n",
       "    <tr>\n",
       "      <th>107</th>\n",
       "      <td>Tiny robots with a big impact: microrobots for single-cell handling</td>\n",
       "    </tr>\n",
       "    <tr>\n",
       "      <th>108</th>\n",
       "      <td>Meet hijab-clad Kenza Layli from Morcco, world's first-ever Miss AI who beat 1500 contestants</td>\n",
       "    </tr>\n",
       "    <tr>\n",
       "      <th>109</th>\n",
       "      <td>Worlds first Miss AI crowned  and shes a hijab-wearing activist from Morocco genuinely excited for the win</td>\n",
       "    </tr>\n",
       "    <tr>\n",
       "      <th>110</th>\n",
       "      <td>MIT researchers introduce generative AI for databases</td>\n",
       "    </tr>\n",
       "    <tr>\n",
       "      <th>111</th>\n",
       "      <td>MIT researchers introduce generative AI for databases | MIT News | Massachusetts Institute of Technology</td>\n",
       "    </tr>\n",
       "    <tr>\n",
       "      <th>112</th>\n",
       "      <td>Inside ALDO's in-house generative AI and machine learning strategy</td>\n",
       "    </tr>\n",
       "    <tr>\n",
       "      <th>113</th>\n",
       "      <td>myGenerativeEiAiAlgorithm</td>\n",
       "    </tr>\n",
       "    <tr>\n",
       "      <th>114</th>\n",
       "      <td>YouTube Music May Soon Let You Generate Custom Radio Via Natural Language Prompts Using AI; Details Inside</td>\n",
       "    </tr>\n",
       "    <tr>\n",
       "      <th>115</th>\n",
       "      <td>YouTube Music is piloting 'music any way you like' prompt-generated radio using AI</td>\n",
       "    </tr>\n",
       "    <tr>\n",
       "      <th>116</th>\n",
       "      <td>How to use the new Gemini AI tools built into Chromebooks</td>\n",
       "    </tr>\n",
       "    <tr>\n",
       "      <th>117</th>\n",
       "      <td>Will AI Soon Help Animals Talk To Us?</td>\n",
       "    </tr>\n",
       "    <tr>\n",
       "      <th>118</th>\n",
       "      <td>How prompting and integration AI assistants have sped up viral video content production 100 fold</td>\n",
       "    </tr>\n",
       "    <tr>\n",
       "      <th>119</th>\n",
       "      <td>NYSEG and RG&amp;E use AI assistant on website to improve customer service</td>\n",
       "    </tr>\n",
       "    <tr>\n",
       "      <th>120</th>\n",
       "      <td>The Download: vacation planning with AI, and smaller models</td>\n",
       "    </tr>\n",
       "    <tr>\n",
       "      <th>121</th>\n",
       "      <td>AI Trip Planning: How to Use AI to Plan Your Next Vacation</td>\n",
       "    </tr>\n",
       "    <tr>\n",
       "      <th>122</th>\n",
       "      <td>How to use AI to plan your next vacation</td>\n",
       "    </tr>\n",
       "    <tr>\n",
       "      <th>123</th>\n",
       "      <td>Everything You Need to Know About How Artificial Intelligence Transforming Travel and Tourism Industry</td>\n",
       "    </tr>\n",
       "    <tr>\n",
       "      <th>124</th>\n",
       "      <td>The Role of Artificial Intelligence in Shaping a Sustainable Future</td>\n",
       "    </tr>\n",
       "    <tr>\n",
       "      <th>125</th>\n",
       "      <td>Al-Generated Movie Trailer - Final Justice: The First Justice</td>\n",
       "    </tr>\n",
       "    <tr>\n",
       "      <th>126</th>\n",
       "      <td>The World's First AI-Powered Movie Camera Transforms Filmed Footage</td>\n",
       "    </tr>\n",
       "    <tr>\n",
       "      <th>127</th>\n",
       "      <td>Ai is fun lol</td>\n",
       "    </tr>\n",
       "    <tr>\n",
       "      <th>128</th>\n",
       "      <td>Vole claims all web content is freeware to be scraped for AI</td>\n",
       "    </tr>\n",
       "    <tr>\n",
       "      <th>129</th>\n",
       "      <td>South Florida hospital using AI in labor and delivery ward</td>\n",
       "    </tr>\n",
       "    <tr>\n",
       "      <th>130</th>\n",
       "      <td>AI can enhance health care and enable cost savings, lawmaker says</td>\n",
       "    </tr>\n",
       "    <tr>\n",
       "      <th>131</th>\n",
       "      <td>AI-Driven Behavior Change Could Transform Health Care</td>\n",
       "    </tr>\n",
       "    <tr>\n",
       "      <th>132</th>\n",
       "      <td>How AI And New Care Models Make Healthcare Easier, Cheaper, And Better</td>\n",
       "    </tr>\n",
       "    <tr>\n",
       "      <th>133</th>\n",
       "      <td>U.S. Access Board Information Session: Foundation on Artificial Intelligence and Disability</td>\n",
       "    </tr>\n",
       "    <tr>\n",
       "      <th>134</th>\n",
       "      <td>Government, Partners Plan Together for Accessible AI</td>\n",
       "    </tr>\n",
       "    <tr>\n",
       "      <th>135</th>\n",
       "      <td>We dont want to leave people behind: AI is helping disabled people in surprising new ways</td>\n",
       "    </tr>\n",
       "    <tr>\n",
       "      <th>136</th>\n",
       "      <td>Can AI Help With Special Ed.? There's Promiseand Reason to Be Cautious</td>\n",
       "    </tr>\n",
       "    <tr>\n",
       "      <th>137</th>\n",
       "      <td>Researchers Warn of Potential for Racial Bias in AI Apps in the Classroom</td>\n",
       "    </tr>\n",
       "    <tr>\n",
       "      <th>138</th>\n",
       "      <td>UAB adds programs for students interested inartificial intelligence</td>\n",
       "    </tr>\n",
       "    <tr>\n",
       "      <th>139</th>\n",
       "      <td>How will the rise of AI in the workplace impact liberal arts education?</td>\n",
       "    </tr>\n",
       "    <tr>\n",
       "      <th>140</th>\n",
       "      <td>Mary Meeker urges higher ed to lead in AI</td>\n",
       "    </tr>\n",
       "  </tbody>\n",
       "</table>\n",
       "</div>"
      ],
      "text/plain": [
       "                                                                                                                                                                                                 title\n",
       "0                                                                                                                               Heres how Claude 3.5 Sonnet and GPT-4o stack up in a direct comparison\n",
       "1                                                                                                                                             Why Claude 3.5 Sonnet is the AI to Watch, Not ChatGPT-4o\n",
       "2                                                                      Claude AI: A Comprehensive Overview Exploring the Advanced Capabilities and Ethical Design of Anthropics Leading Language Model\n",
       "3                                                                                                                              Exciting Claude 3 Projects with internal knowledge, 200k context window\n",
       "4                                                                                                                                 University examiners fail to spot ChatGPT answers in real-world test\n",
       "5                                                                                                                            ChatGPT is funnier than humans (and its no joke for professional writers)\n",
       "6                                                                         How Good Is ChatGPT at Coding, Really? Study finds that while AI can be great, it also struggles due to training limitations\n",
       "7                                                                                                                                                       Go Ahead, Write Your Cover Letter With ChatGPT\n",
       "8                                                                                                                               Can ChatGPT handle HR? Here's what happened when we put it to the test\n",
       "9                                                                                                                                Can ChatGPT handle HR? Heres what happened when we put it to the test\n",
       "10                                                                                                                                  ChatGPT accurately guesses my weight based on a photo. I weigh 167\n",
       "11                                                                                                                                                   I asked chat gpt to depict Bhutans flag in ascii.\n",
       "12                                                                                                                                       OpenAI, GitHub Beat Digital Copyright Claims From Programmers\n",
       "13                                                                                                        Judge Partially Dismisses $1B Lawsuit Against Microsoft, OpenAI, and GitHub Over AI Code Use\n",
       "14                                                                                                                            Judge dismisses coders' DMCA claims against Microsoft, OpenAI and GitHub\n",
       "15                                                                                                                                     Micro-agent: make an AI write code until it passes an unit test\n",
       "16                                                                                                                                         Converting Epics/Stories into Pseudocode using Transformers\n",
       "17                                                                                                                                             The Evolution of Text-to-Code and Pseudocode Automation\n",
       "18                                                                                                                               Transforming Text to Code: An Approach to Efficient Agile Development\n",
       "19                                                                                                                                      Apply Now: GBP 150,000 Artificial Intelligence Research Grants\n",
       "20                                                                                                                   Exiger Leads Market in AI-Driven Multi-Tier Visibility with Versed AI Acquisition\n",
       "21                                                                                                                                             Why So Many Bitcoin Mining Companies Are Pivoting to AI\n",
       "22                                                                                                                                                        How AI is driving the venture capital market\n",
       "23                                                                                                                    Revolutionizing Finance: Harnessing Next-Gen AI Platforms for Enterprise Success\n",
       "24                                                                                                                                   Abu Dhabi Investment Firm Lunate Takes On AI Firm G42s China Fund\n",
       "25                                                                                        OpenAI Startup Fund and Thrive Global Launch Thrive AI Health, Offering a Hyper-Personalized AI Health Coach\n",
       "26                                                                                                                             Aidan Gomez's Cohere Reaches $5 Billion Valuation with Nvidia's Backing\n",
       "27                                                                                                       Cohere CEO and ex-Google researcher Aidan Gomez on how his AI models make money for companies\n",
       "28                                                                                                                                   How Cohere CEO Aidan Gomez Says AI Will Directly Profit Companies\n",
       "29                                                                                                                      Synerise Raises $8.5 Million to Expand AI-Driven Behavioral Modeling Solutions\n",
       "30                                                                                                                         Hebbia Raises $130 Million for AI That Helps Firms Answer Complex Questions\n",
       "31                     New York-based Hebbia, which uses AI to help companies sift through documents, raised $130M led by a16z, a source says at a ~$700M post-money valuation (Rachel Metz/Bloomberg)\n",
       "32                                                                                                                                                   2 stocks to turn $100 into $1,000 for end of 2024\n",
       "33                                                                                                                        Ethereum or Solana? We asked ChatGPT-4o which stock is a better buy for 2024\n",
       "34                                                                                      Tesla Bull Says EV Giant's FSD Revenue Nearing $1B Annual Run-Rate, Urges Breaking Out AI And Robotics Numbers\n",
       "35                                                                                                                        Teslas upcoming earnings report has to divulge its AI plans and Nvidias role\n",
       "36                                                                                                                         AI industry needs annual revenues of more than the UAEs GDP to offset costs\n",
       "37                                                                                                        Big Tech needs to generate $600 billion in annual revenue to justify AI hardware expenditure\n",
       "38                                                                                                                         Arista Networks: Nvidia Isn't The Only AI Gold Rush Beneficiary (NYSE:ANET)\n",
       "39                                                                                         Billionaires Are Selling Nvidia Stock and Buying 2 Supercharged Artificial Intelligence (AI) Stocks Instead\n",
       "40                                                                                                                                                  Nvidia Stock Gains Amid AI Chip Antitrust Scrutiny\n",
       "41                                                                                                                                                                 3 AI Stocks That Also Pay Dividends\n",
       "42                                                                                                                                               3 Stocks to Benefit From the AI Datacenter Power Boom\n",
       "43                                                                                                                         Two Canadian stocks set to benefit from AI-driven datacenter expansion: RBC\n",
       "44                                                                                                                         Cornings stock soars 7% after company raises Q2 guidance to reflect AI bump\n",
       "45                                                                                                                         Samsung flags better-than-expected profit rise as AI boom lifts chip prices\n",
       "46                                                                                                                                China AI leader iFlytek dips into red under 'ultimate' U.S. pressure\n",
       "47                                                                                                     Southeast Asia's IPO market fell drastically in the first half, but AI listings could revive it\n",
       "48                                                                                                               Galaxy AI Live Translate feature might soon bridge the language gap in WhatsApp calls\n",
       "49                                                                                                                                  WhatsApp could soon get a Galaxy AI-powered Live Translate feature\n",
       "50                                                                                                                                         Meta AI may get more collaborative in WhatsApp for Android.\n",
       "51                                                                                                            Meta AI on WhatsApp is getting smarter: You will soon be able to edit and analyse images\n",
       "52                                                                                                                                    WhatsApp's new feature will let Meta AI edit your photos for you\n",
       "53                                                                                                                                Apples massive AI-powered Siri upgrade isnt coming until spring 2025\n",
       "54                                                                                                                          New Siri Experience With Apple Intelligence Likely to Debut in Spring 2025\n",
       "55                                                                                                                      Steam's Summer Sale is in full swing  here's 11 gaming deals I'd buy right now\n",
       "56   Copilot+ PCs software compatibility issues left to you to sort out, with help from crowdsourcersSamsung warned users, but the PC industrys big players hardly mention the possibility of problems\n",
       "57                                                                                                             Stealthy Jenoptik smart cameras that can spot drivers on their phone roll out across UK\n",
       "58                                                                                                                    Google is bringing Fuchsia OS to Android devices, but not in the way you'd think\n",
       "59                                                                                                                                   Two big upgrades were just confirmed for the Google Pixel Watch 3\n",
       "60                                                                                                                               AI put an innocent Texan in jail. Why is HPD working with Airship AI?\n",
       "61                                                                                                                                            Is AI's entry into music a sign of humanity's last tune?\n",
       "62                                                                                                                                                                    AI Doppelganger  Cool or Creepy?\n",
       "63                                                                                                                             AI creates video of 'what hell looks like' and the result is terrifying\n",
       "64                                                                                                                                 Hacker accessed OpenAI's internal AI details in 2023 breach: report\n",
       "65                                                                                                                                    AI eyes of roads that can spy inside cars pose threat to privacy\n",
       "66                                                                                                                                                               10 ways to prevent shadow AI disaster\n",
       "67                                                                                                                       Artificial Intelligence Researchers Need More Information to Understand Risks\n",
       "68                                                                                                                                         Telecoms companies now using scambaiting AI systems; Lenny+\n",
       "69                                                                                                                               Telecoms companies now using scambaiting AI systems modelled on Lenny\n",
       "70                                                                                                                                             Here's How Your Online Activity Is Training Next-Gen AI\n",
       "71                                                                                                                   Google's AI Aftershock: Expert Explains How to Thrive in the New Search Landscape\n",
       "72                                                                                                              Google Experts Warn That AI May Distort Reality, While AI Overviews Repel Mobile Users\n",
       "73                                                                      China's AI model glut is a 'significant waste of resources' due to scarce real-world applications for 100+ LLMs says Baidu CEO\n",
       "74                                                                                                             Google's AI search summaries use 10x more energy than just doing a normal Google search\n",
       "75                                                                                                 Power-hungry AI is driving a surge in tech giant carbon emissions. Nobody knows what to do about it\n",
       "76                                                      Co-author of the original Transformers paper says models are doing things he thought were 40 years away and scaling laws will continue to hold\n",
       "77                                                                                                                               Small Language Models: The Future Catalyst for Organizational Success\n",
       "78                            Breaking the rules is in big tech's blood  now it's time to break the habitOpinionMicrosoft: All your data are belong to us? World: That's so last centuryAI + ML4 hrs|9\n",
       "79                                                                                                                                       Tether CEO advocates for localized AI models to prevent hacks\n",
       "80                                                                                                           Interview: Microsoft AI chief Mustafa Suleyman on balancing AI innovation and containment\n",
       "81                                                                                                                                             Microsoft AI chief on AI companies using online content\n",
       "82                                                                    UK Future Workforce Index 2024: 83% of UK businesses willing to pay a higher wage to those with AI skills amid hiring challenges\n",
       "83                                                                                                                                               Artificial Intelligence Boom Lifts Paychecks for CIOs\n",
       "84                                                                                                                          China sees changing of career guard as AI beats out finance in pay pyramid\n",
       "85                                                                                                         Chinas tech boom powering AI career coup, with finance muscled out at top of salary pyramid\n",
       "86                                                                                                                                             A majority of CFOs admit they don't fully understand AI\n",
       "87                                                                                                                   CIOs' concerns over generative AI echo those of the early days of cloud computing\n",
       "88                                                                                                                                               This AI model says US recession chances are up to 68%\n",
       "89                                                                                                                                    37 ad execs predict 2024 second half trends: AI, Olympics, Gen Z\n",
       "90                                                                                                                               Retail This Week: Soft Landings, AI Hype, And Department Store Deaths\n",
       "91                                                                                                                                   AI breakthrough? Google's new training method uses 10x less power\n",
       "92                                           Google claims new AI training tech is 13 times faster and 10 times more power efficient  DeepMind's new JEST optimizes training data for impressive gains\n",
       "93                                                                                                                          Google claims new AI training tech is 13x faster, 10x more power efficient\n",
       "94                                                                                                                                                            UN Agency: China Leading AI Patents Race\n",
       "95                                                                                                                                         At Shanghai AI Expo, Humanoid Robots Turn Heads, Bake Bread\n",
       "96                                                                                                              China's AI Leaders Alibaba and SenseTime Showcase Breakthroughs at Shanghai Conference\n",
       "97                                                                                                                                                             China flexes AI muscle at Shanghai expo\n",
       "98                                                                        Chinese GPU maker Moore Threads' MTLink fabric tech challenges Nvidia's NVLink, can now scale to 10,000 GPUs for AI clusters\n",
       "99                                                                                                                                           AI-Powered Super Soldiers Are More Than Just a Pipe Dream\n",
       "100                                                                                                          A first physical system to learn nonlinear tasks without a traditional computer processor\n",
       "101                                                                                                                                  Detect Migrating Birds with a Plastic Dish and a Cheap Microphone\n",
       "102                                                                                   SpaceX rockets blew away local bird habitats after Elon Musk 'misled' NPS officials about expansion, NYT reports\n",
       "103                                                                         DRLQ: A Novel Deep Reinforcement Learning (DRL)-based Technique for Task Placement in Quantum Cloud Computing Environments\n",
       "104                                                                                                                    MoBot uses AI to learn how trees move. And to save millions of plant specimens.\n",
       "105                                                                                                                                                  MoBot uses AI to save millions of plant specimens\n",
       "106                                                                                                                         Machine learning identifies cancer-driving mutations at CTCF binding sites\n",
       "107                                                                                                                                Tiny robots with a big impact: microrobots for single-cell handling\n",
       "108                                                                                                      Meet hijab-clad Kenza Layli from Morcco, world's first-ever Miss AI who beat 1500 contestants\n",
       "109                                                                                         Worlds first Miss AI crowned  and shes a hijab-wearing activist from Morocco genuinely excited for the win\n",
       "110                                                                                                                                              MIT researchers introduce generative AI for databases\n",
       "111                                                                                           MIT researchers introduce generative AI for databases | MIT News | Massachusetts Institute of Technology\n",
       "112                                                                                                                                 Inside ALDO's in-house generative AI and machine learning strategy\n",
       "113                                                                                                                                                                          myGenerativeEiAiAlgorithm\n",
       "114                                                                                         YouTube Music May Soon Let You Generate Custom Radio Via Natural Language Prompts Using AI; Details Inside\n",
       "115                                                                                                                 YouTube Music is piloting 'music any way you like' prompt-generated radio using AI\n",
       "116                                                                                                                                          How to use the new Gemini AI tools built into Chromebooks\n",
       "117                                                                                                                                                              Will AI Soon Help Animals Talk To Us?\n",
       "118                                                                                                   How prompting and integration AI assistants have sped up viral video content production 100 fold\n",
       "119                                                                                                                             NYSEG and RG&E use AI assistant on website to improve customer service\n",
       "120                                                                                                                                        The Download: vacation planning with AI, and smaller models\n",
       "121                                                                                                                                         AI Trip Planning: How to Use AI to Plan Your Next Vacation\n",
       "122                                                                                                                                                           How to use AI to plan your next vacation\n",
       "123                                                                                             Everything You Need to Know About How Artificial Intelligence Transforming Travel and Tourism Industry\n",
       "124                                                                                                                                The Role of Artificial Intelligence in Shaping a Sustainable Future\n",
       "125                                                                                                                                      Al-Generated Movie Trailer - Final Justice: The First Justice\n",
       "126                                                                                                                                The World's First AI-Powered Movie Camera Transforms Filmed Footage\n",
       "127                                                                                                                                                                                      Ai is fun lol\n",
       "128                                                                                                                                       Vole claims all web content is freeware to be scraped for AI\n",
       "129                                                                                                                                         South Florida hospital using AI in labor and delivery ward\n",
       "130                                                                                                                                  AI can enhance health care and enable cost savings, lawmaker says\n",
       "131                                                                                                                                              AI-Driven Behavior Change Could Transform Health Care\n",
       "132                                                                                                                             How AI And New Care Models Make Healthcare Easier, Cheaper, And Better\n",
       "133                                                                                                        U.S. Access Board Information Session: Foundation on Artificial Intelligence and Disability\n",
       "134                                                                                                                                               Government, Partners Plan Together for Accessible AI\n",
       "135                                                                                                          We dont want to leave people behind: AI is helping disabled people in surprising new ways\n",
       "136                                                                                                                             Can AI Help With Special Ed.? There's Promiseand Reason to Be Cautious\n",
       "137                                                                                                                          Researchers Warn of Potential for Racial Bias in AI Apps in the Classroom\n",
       "138                                                                                                                                UAB adds programs for students interested inartificial intelligence\n",
       "139                                                                                                                            How will the rise of AI in the workplace impact liberal arts education?\n",
       "140                                                                                                                                                          Mary Meeker urges higher ed to lead in AI"
      ]
     },
     "metadata": {},
     "output_type": "display_data"
    }
   ],
   "source": [
    "with pd.option_context('display.max_rows', None, 'display.max_colwidth', None):\n",
    "    display(AIdf[[\"title\"]])\n",
    "    "
   ]
  },
  {
   "cell_type": "markdown",
   "id": "4aa44e52",
   "metadata": {},
   "source": [
    "### Cluster with DBSCAN"
   ]
  },
  {
   "cell_type": "code",
   "execution_count": null,
   "id": "e528269b",
   "metadata": {},
   "outputs": [],
   "source": [
    "# embedding_model = 'text-embedding-3-large'\n",
    "# chunksize = 1000\n",
    "# e_results = []\n",
    "# for start in range(0, len(ai_history_df), chunksize):\n",
    "#     tempdf = ai_history_df.iloc[start:start+chunksize]\n",
    "#     templist = tempdf['title'].tolist()\n",
    "#     log(f\"Fetching embeddings for {len(templist)} headlines starting at row {start}\")\n",
    "#     response = client.embeddings.create(input=templist,\n",
    "#                                         model=embedding_model)\n",
    "#     e_results.append(pd.DataFrame([e.model_dump()['embedding'] for e in response.data]))\n"
   ]
  },
  {
   "cell_type": "code",
   "execution_count": null,
   "id": "5bf7da7e",
   "metadata": {},
   "outputs": [],
   "source": [
    "# historical_embedding_df = pd.concat(e_results)\n",
    "# historical_embedding_df.shape\n"
   ]
  },
  {
   "cell_type": "code",
   "execution_count": null,
   "id": "d2053391",
   "metadata": {},
   "outputs": [],
   "source": [
    "# historical_embedding_df.to_pickle('historical_embedding_df.pkl')\n"
   ]
  },
  {
   "cell_type": "code",
   "execution_count": 110,
   "id": "a3cea3a0",
   "metadata": {},
   "outputs": [
    {
     "name": "stderr",
     "output_type": "stream",
     "text": [
      "2024-07-08 13:48:34,239 - AInewsbot - INFO - Fetching embeddings for 141 headlines\n",
      "2024-07-08 13:48:34,784 - httpx - INFO - HTTP Request: POST https://api.openai.com/v1/embeddings \"HTTP/1.1 200 OK\"\n"
     ]
    }
   ],
   "source": [
    "log(f\"Fetching embeddings for {len(AIdf)} headlines\")\n",
    "embedding_model = 'text-embedding-3-large'\n",
    "response = client.embeddings.create(input=AIdf['title'].tolist(),\n",
    "                                    model=embedding_model)\n",
    "embedding_df = pd.DataFrame([e.model_dump()['embedding'] for e in response.data])\n"
   ]
  },
  {
   "cell_type": "code",
   "execution_count": null,
   "id": "27c19196",
   "metadata": {},
   "outputs": [],
   "source": [
    "# reducer = umap.UMAP(n_components=30)  # Reducing to 30 dimensions\n",
    "# reduced_data = reducer.fit_transform(historical_embedding_df)\n",
    "# with open('umap_model.pkl', 'wb') as file:\n",
    "#     pickle.dump(reducer, file)"
   ]
  },
  {
   "cell_type": "code",
   "execution_count": 111,
   "id": "5f535eac",
   "metadata": {},
   "outputs": [],
   "source": [
    "with open(\"umap_model.pkl\", 'rb') as file:\n",
    "    # Load the model from the file\n",
    "    reducer = pickle.load(file)\n",
    "    "
   ]
  },
  {
   "cell_type": "code",
   "execution_count": 112,
   "id": "477b9f6a",
   "metadata": {},
   "outputs": [],
   "source": [
    "reduced_data = reducer.transform(embedding_df)\n"
   ]
  },
  {
   "cell_type": "code",
   "execution_count": 116,
   "id": "d9c4ad1b",
   "metadata": {},
   "outputs": [
    {
     "data": {
      "text/plain": [
       "False"
      ]
     },
     "execution_count": 116,
     "metadata": {},
     "output_type": "execute_result"
    }
   ],
   "source": [
    "np.isnan(reduced_data).any()\n"
   ]
  },
  {
   "cell_type": "code",
   "execution_count": 117,
   "id": "aab237f9",
   "metadata": {},
   "outputs": [
    {
     "name": "stdout",
     "output_type": "stream",
     "text": [
      "Silhouette Score: 0.41552725434303284\n"
     ]
    }
   ],
   "source": [
    "# Apply a Clustering Algorithm (e.g., K-Means)\n",
    "kmeans = KMeans(n_clusters=20)  \n",
    "clusters = kmeans.fit_predict(reduced_data)\n",
    "\n",
    "# Evaluate the Clustering\n",
    "silhouette_avg = silhouette_score(reduced_data, clusters)\n",
    "print(f'Silhouette Score: {silhouette_avg}')\n",
    "\n",
    "# Visualization with UMAP (optional)\n",
    "# reducer_2d = umap.UMAP(n_components=2)  # Reducing to 2 dimensions for visualization\n",
    "# reduced_data_2d = reducer_2d.fit_transform(embedding_df)\n",
    "\n",
    "# plt.scatter(reduced_data_2d[:, 0], reduced_data_2d[:, 1], c=clusters, cmap='viridis', s=5)\n",
    "# plt.colorbar(boundaries=np.arange(11)-0.5).set_ticks(np.arange(10))\n",
    "# plt.title('UMAP Projection of the News Headlines Clusters')\n",
    "# plt.show()\n"
   ]
  },
  {
   "cell_type": "code",
   "execution_count": 118,
   "id": "2a9f75ae",
   "metadata": {},
   "outputs": [],
   "source": [
    "dbscan = DBSCAN(eps=0.5, min_samples=3)  # Adjust eps and min_samples as needed\n",
    "clusters = dbscan.fit_predict(reduced_data)\n",
    "\n",
    "AIdf['cluster'] = clusters"
   ]
  },
  {
   "cell_type": "code",
   "execution_count": 129,
   "id": "4ca92189",
   "metadata": {},
   "outputs": [
    {
     "data": {
      "text/html": [
       "<div>\n",
       "<style scoped>\n",
       "    .dataframe tbody tr th:only-of-type {\n",
       "        vertical-align: middle;\n",
       "    }\n",
       "\n",
       "    .dataframe tbody tr th {\n",
       "        vertical-align: top;\n",
       "    }\n",
       "\n",
       "    .dataframe thead th {\n",
       "        text-align: right;\n",
       "    }\n",
       "</style>\n",
       "<table border=\"1\" class=\"dataframe\">\n",
       "  <thead>\n",
       "    <tr style=\"text-align: right;\">\n",
       "      <th></th>\n",
       "      <th>id</th>\n",
       "      <th>title</th>\n",
       "    </tr>\n",
       "  </thead>\n",
       "  <tbody>\n",
       "    <tr>\n",
       "      <th>0</th>\n",
       "      <td>0</td>\n",
       "      <td>Heres how Claude 3.5 Sonnet and GPT-4o stack up in a direct comparison</td>\n",
       "    </tr>\n",
       "    <tr>\n",
       "      <th>1</th>\n",
       "      <td>1</td>\n",
       "      <td>Why Claude 3.5 Sonnet is the AI to Watch, Not ChatGPT-4o</td>\n",
       "    </tr>\n",
       "    <tr>\n",
       "      <th>2</th>\n",
       "      <td>2</td>\n",
       "      <td>Claude AI: A Comprehensive Overview Exploring the Advanced Capabilities and Ethical Design of Anthropics Leading Language Model</td>\n",
       "    </tr>\n",
       "    <tr>\n",
       "      <th>3</th>\n",
       "      <td>3</td>\n",
       "      <td>Exciting Claude 3 Projects with internal knowledge, 200k context window</td>\n",
       "    </tr>\n",
       "  </tbody>\n",
       "</table>\n",
       "</div>"
      ],
      "text/plain": [
       "   id  \\\n",
       "0   0   \n",
       "1   1   \n",
       "2   2   \n",
       "3   3   \n",
       "\n",
       "                                                                                                                             title  \n",
       "0                                                           Heres how Claude 3.5 Sonnet and GPT-4o stack up in a direct comparison  \n",
       "1                                                                         Why Claude 3.5 Sonnet is the AI to Watch, Not ChatGPT-4o  \n",
       "2  Claude AI: A Comprehensive Overview Exploring the Advanced Capabilities and Ethical Design of Anthropics Leading Language Model  \n",
       "3                                                          Exciting Claude 3 Projects with internal knowledge, 200k context window  "
      ]
     },
     "metadata": {},
     "output_type": "display_data"
    },
    {
     "data": {
      "text/html": [
       "<div>\n",
       "<style scoped>\n",
       "    .dataframe tbody tr th:only-of-type {\n",
       "        vertical-align: middle;\n",
       "    }\n",
       "\n",
       "    .dataframe tbody tr th {\n",
       "        vertical-align: top;\n",
       "    }\n",
       "\n",
       "    .dataframe thead th {\n",
       "        text-align: right;\n",
       "    }\n",
       "</style>\n",
       "<table border=\"1\" class=\"dataframe\">\n",
       "  <thead>\n",
       "    <tr style=\"text-align: right;\">\n",
       "      <th></th>\n",
       "      <th>id</th>\n",
       "      <th>title</th>\n",
       "    </tr>\n",
       "  </thead>\n",
       "  <tbody>\n",
       "    <tr>\n",
       "      <th>5</th>\n",
       "      <td>5</td>\n",
       "      <td>ChatGPT is funnier than humans (and its no joke for professional writers)</td>\n",
       "    </tr>\n",
       "    <tr>\n",
       "      <th>6</th>\n",
       "      <td>6</td>\n",
       "      <td>How Good Is ChatGPT at Coding, Really? Study finds that while AI can be great, it also struggles due to training limitations</td>\n",
       "    </tr>\n",
       "    <tr>\n",
       "      <th>7</th>\n",
       "      <td>7</td>\n",
       "      <td>Go Ahead, Write Your Cover Letter With ChatGPT</td>\n",
       "    </tr>\n",
       "    <tr>\n",
       "      <th>8</th>\n",
       "      <td>8</td>\n",
       "      <td>Can ChatGPT handle HR? Here's what happened when we put it to the test</td>\n",
       "    </tr>\n",
       "    <tr>\n",
       "      <th>9</th>\n",
       "      <td>9</td>\n",
       "      <td>Can ChatGPT handle HR? Heres what happened when we put it to the test</td>\n",
       "    </tr>\n",
       "    <tr>\n",
       "      <th>10</th>\n",
       "      <td>10</td>\n",
       "      <td>ChatGPT accurately guesses my weight based on a photo. I weigh 167</td>\n",
       "    </tr>\n",
       "    <tr>\n",
       "      <th>11</th>\n",
       "      <td>11</td>\n",
       "      <td>I asked chat gpt to depict Bhutans flag in ascii.</td>\n",
       "    </tr>\n",
       "  </tbody>\n",
       "</table>\n",
       "</div>"
      ],
      "text/plain": [
       "    id  \\\n",
       "5    5   \n",
       "6    6   \n",
       "7    7   \n",
       "8    8   \n",
       "9    9   \n",
       "10  10   \n",
       "11  11   \n",
       "\n",
       "                                                                                                                           title  \n",
       "5                                                      ChatGPT is funnier than humans (and its no joke for professional writers)  \n",
       "6   How Good Is ChatGPT at Coding, Really? Study finds that while AI can be great, it also struggles due to training limitations  \n",
       "7                                                                                 Go Ahead, Write Your Cover Letter With ChatGPT  \n",
       "8                                                         Can ChatGPT handle HR? Here's what happened when we put it to the test  \n",
       "9                                                          Can ChatGPT handle HR? Heres what happened when we put it to the test  \n",
       "10                                                            ChatGPT accurately guesses my weight based on a photo. I weigh 167  \n",
       "11                                                                             I asked chat gpt to depict Bhutans flag in ascii.  "
      ]
     },
     "metadata": {},
     "output_type": "display_data"
    },
    {
     "data": {
      "text/html": [
       "<div>\n",
       "<style scoped>\n",
       "    .dataframe tbody tr th:only-of-type {\n",
       "        vertical-align: middle;\n",
       "    }\n",
       "\n",
       "    .dataframe tbody tr th {\n",
       "        vertical-align: top;\n",
       "    }\n",
       "\n",
       "    .dataframe thead th {\n",
       "        text-align: right;\n",
       "    }\n",
       "</style>\n",
       "<table border=\"1\" class=\"dataframe\">\n",
       "  <thead>\n",
       "    <tr style=\"text-align: right;\">\n",
       "      <th></th>\n",
       "      <th>id</th>\n",
       "      <th>title</th>\n",
       "    </tr>\n",
       "  </thead>\n",
       "  <tbody>\n",
       "    <tr>\n",
       "      <th>12</th>\n",
       "      <td>12</td>\n",
       "      <td>OpenAI, GitHub Beat Digital Copyright Claims From Programmers</td>\n",
       "    </tr>\n",
       "    <tr>\n",
       "      <th>13</th>\n",
       "      <td>13</td>\n",
       "      <td>Judge Partially Dismisses $1B Lawsuit Against Microsoft, OpenAI, and GitHub Over AI Code Use</td>\n",
       "    </tr>\n",
       "    <tr>\n",
       "      <th>14</th>\n",
       "      <td>14</td>\n",
       "      <td>Judge dismisses coders' DMCA claims against Microsoft, OpenAI and GitHub</td>\n",
       "    </tr>\n",
       "  </tbody>\n",
       "</table>\n",
       "</div>"
      ],
      "text/plain": [
       "    id  \\\n",
       "12  12   \n",
       "13  13   \n",
       "14  14   \n",
       "\n",
       "                                                                                           title  \n",
       "12                                 OpenAI, GitHub Beat Digital Copyright Claims From Programmers  \n",
       "13  Judge Partially Dismisses $1B Lawsuit Against Microsoft, OpenAI, and GitHub Over AI Code Use  \n",
       "14                      Judge dismisses coders' DMCA claims against Microsoft, OpenAI and GitHub  "
      ]
     },
     "metadata": {},
     "output_type": "display_data"
    },
    {
     "data": {
      "text/html": [
       "<div>\n",
       "<style scoped>\n",
       "    .dataframe tbody tr th:only-of-type {\n",
       "        vertical-align: middle;\n",
       "    }\n",
       "\n",
       "    .dataframe tbody tr th {\n",
       "        vertical-align: top;\n",
       "    }\n",
       "\n",
       "    .dataframe thead th {\n",
       "        text-align: right;\n",
       "    }\n",
       "</style>\n",
       "<table border=\"1\" class=\"dataframe\">\n",
       "  <thead>\n",
       "    <tr style=\"text-align: right;\">\n",
       "      <th></th>\n",
       "      <th>id</th>\n",
       "      <th>title</th>\n",
       "    </tr>\n",
       "  </thead>\n",
       "  <tbody>\n",
       "    <tr>\n",
       "      <th>15</th>\n",
       "      <td>15</td>\n",
       "      <td>Micro-agent: make an AI write code until it passes an unit test</td>\n",
       "    </tr>\n",
       "    <tr>\n",
       "      <th>17</th>\n",
       "      <td>17</td>\n",
       "      <td>The Evolution of Text-to-Code and Pseudocode Automation</td>\n",
       "    </tr>\n",
       "    <tr>\n",
       "      <th>18</th>\n",
       "      <td>18</td>\n",
       "      <td>Transforming Text to Code: An Approach to Efficient Agile Development</td>\n",
       "    </tr>\n",
       "  </tbody>\n",
       "</table>\n",
       "</div>"
      ],
      "text/plain": [
       "    id                                                                  title\n",
       "15  15        Micro-agent: make an AI write code until it passes an unit test\n",
       "17  17                The Evolution of Text-to-Code and Pseudocode Automation\n",
       "18  18  Transforming Text to Code: An Approach to Efficient Agile Development"
      ]
     },
     "metadata": {},
     "output_type": "display_data"
    },
    {
     "data": {
      "text/html": [
       "<div>\n",
       "<style scoped>\n",
       "    .dataframe tbody tr th:only-of-type {\n",
       "        vertical-align: middle;\n",
       "    }\n",
       "\n",
       "    .dataframe tbody tr th {\n",
       "        vertical-align: top;\n",
       "    }\n",
       "\n",
       "    .dataframe thead th {\n",
       "        text-align: right;\n",
       "    }\n",
       "</style>\n",
       "<table border=\"1\" class=\"dataframe\">\n",
       "  <thead>\n",
       "    <tr style=\"text-align: right;\">\n",
       "      <th></th>\n",
       "      <th>id</th>\n",
       "      <th>title</th>\n",
       "    </tr>\n",
       "  </thead>\n",
       "  <tbody>\n",
       "    <tr>\n",
       "      <th>26</th>\n",
       "      <td>26</td>\n",
       "      <td>Aidan Gomez's Cohere Reaches $5 Billion Valuation with Nvidia's Backing</td>\n",
       "    </tr>\n",
       "    <tr>\n",
       "      <th>29</th>\n",
       "      <td>29</td>\n",
       "      <td>Synerise Raises $8.5 Million to Expand AI-Driven Behavioral Modeling Solutions</td>\n",
       "    </tr>\n",
       "    <tr>\n",
       "      <th>30</th>\n",
       "      <td>30</td>\n",
       "      <td>Hebbia Raises $130 Million for AI That Helps Firms Answer Complex Questions</td>\n",
       "    </tr>\n",
       "    <tr>\n",
       "      <th>31</th>\n",
       "      <td>31</td>\n",
       "      <td>New York-based Hebbia, which uses AI to help companies sift through documents, raised $130M led by a16z, a source says at a ~$700M post-money valuation (Rachel Metz/Bloomberg)</td>\n",
       "    </tr>\n",
       "  </tbody>\n",
       "</table>\n",
       "</div>"
      ],
      "text/plain": [
       "    id  \\\n",
       "26  26   \n",
       "29  29   \n",
       "30  30   \n",
       "31  31   \n",
       "\n",
       "                                                                                                                                                                              title  \n",
       "26                                                                                                          Aidan Gomez's Cohere Reaches $5 Billion Valuation with Nvidia's Backing  \n",
       "29                                                                                                   Synerise Raises $8.5 Million to Expand AI-Driven Behavioral Modeling Solutions  \n",
       "30                                                                                                      Hebbia Raises $130 Million for AI That Helps Firms Answer Complex Questions  \n",
       "31  New York-based Hebbia, which uses AI to help companies sift through documents, raised $130M led by a16z, a source says at a ~$700M post-money valuation (Rachel Metz/Bloomberg)  "
      ]
     },
     "metadata": {},
     "output_type": "display_data"
    },
    {
     "data": {
      "text/html": [
       "<div>\n",
       "<style scoped>\n",
       "    .dataframe tbody tr th:only-of-type {\n",
       "        vertical-align: middle;\n",
       "    }\n",
       "\n",
       "    .dataframe tbody tr th {\n",
       "        vertical-align: top;\n",
       "    }\n",
       "\n",
       "    .dataframe thead th {\n",
       "        text-align: right;\n",
       "    }\n",
       "</style>\n",
       "<table border=\"1\" class=\"dataframe\">\n",
       "  <thead>\n",
       "    <tr style=\"text-align: right;\">\n",
       "      <th></th>\n",
       "      <th>id</th>\n",
       "      <th>title</th>\n",
       "    </tr>\n",
       "  </thead>\n",
       "  <tbody>\n",
       "    <tr>\n",
       "      <th>32</th>\n",
       "      <td>32</td>\n",
       "      <td>2 stocks to turn $100 into $1,000 for end of 2024</td>\n",
       "    </tr>\n",
       "    <tr>\n",
       "      <th>41</th>\n",
       "      <td>41</td>\n",
       "      <td>3 AI Stocks That Also Pay Dividends</td>\n",
       "    </tr>\n",
       "    <tr>\n",
       "      <th>55</th>\n",
       "      <td>55</td>\n",
       "      <td>Steam's Summer Sale is in full swing  here's 11 gaming deals I'd buy right now</td>\n",
       "    </tr>\n",
       "  </tbody>\n",
       "</table>\n",
       "</div>"
      ],
      "text/plain": [
       "    id  \\\n",
       "32  32   \n",
       "41  41   \n",
       "55  55   \n",
       "\n",
       "                                                                             title  \n",
       "32                               2 stocks to turn $100 into $1,000 for end of 2024  \n",
       "41                                             3 AI Stocks That Also Pay Dividends  \n",
       "55  Steam's Summer Sale is in full swing  here's 11 gaming deals I'd buy right now  "
      ]
     },
     "metadata": {},
     "output_type": "display_data"
    },
    {
     "data": {
      "text/html": [
       "<div>\n",
       "<style scoped>\n",
       "    .dataframe tbody tr th:only-of-type {\n",
       "        vertical-align: middle;\n",
       "    }\n",
       "\n",
       "    .dataframe tbody tr th {\n",
       "        vertical-align: top;\n",
       "    }\n",
       "\n",
       "    .dataframe thead th {\n",
       "        text-align: right;\n",
       "    }\n",
       "</style>\n",
       "<table border=\"1\" class=\"dataframe\">\n",
       "  <thead>\n",
       "    <tr style=\"text-align: right;\">\n",
       "      <th></th>\n",
       "      <th>id</th>\n",
       "      <th>title</th>\n",
       "    </tr>\n",
       "  </thead>\n",
       "  <tbody>\n",
       "    <tr>\n",
       "      <th>82</th>\n",
       "      <td>82</td>\n",
       "      <td>UK Future Workforce Index 2024: 83% of UK businesses willing to pay a higher wage to those with AI skills amid hiring challenges</td>\n",
       "    </tr>\n",
       "    <tr>\n",
       "      <th>83</th>\n",
       "      <td>83</td>\n",
       "      <td>Artificial Intelligence Boom Lifts Paychecks for CIOs</td>\n",
       "    </tr>\n",
       "    <tr>\n",
       "      <th>84</th>\n",
       "      <td>84</td>\n",
       "      <td>China sees changing of career guard as AI beats out finance in pay pyramid</td>\n",
       "    </tr>\n",
       "  </tbody>\n",
       "</table>\n",
       "</div>"
      ],
      "text/plain": [
       "    id  \\\n",
       "82  82   \n",
       "83  83   \n",
       "84  84   \n",
       "\n",
       "                                                                                                                               title  \n",
       "82  UK Future Workforce Index 2024: 83% of UK businesses willing to pay a higher wage to those with AI skills amid hiring challenges  \n",
       "83                                                                             Artificial Intelligence Boom Lifts Paychecks for CIOs  \n",
       "84                                                        China sees changing of career guard as AI beats out finance in pay pyramid  "
      ]
     },
     "metadata": {},
     "output_type": "display_data"
    },
    {
     "data": {
      "text/html": [
       "<div>\n",
       "<style scoped>\n",
       "    .dataframe tbody tr th:only-of-type {\n",
       "        vertical-align: middle;\n",
       "    }\n",
       "\n",
       "    .dataframe tbody tr th {\n",
       "        vertical-align: top;\n",
       "    }\n",
       "\n",
       "    .dataframe thead th {\n",
       "        text-align: right;\n",
       "    }\n",
       "</style>\n",
       "<table border=\"1\" class=\"dataframe\">\n",
       "  <thead>\n",
       "    <tr style=\"text-align: right;\">\n",
       "      <th></th>\n",
       "      <th>id</th>\n",
       "      <th>title</th>\n",
       "    </tr>\n",
       "  </thead>\n",
       "  <tbody>\n",
       "    <tr>\n",
       "      <th>46</th>\n",
       "      <td>46</td>\n",
       "      <td>China AI leader iFlytek dips into red under 'ultimate' U.S. pressure</td>\n",
       "    </tr>\n",
       "    <tr>\n",
       "      <th>96</th>\n",
       "      <td>96</td>\n",
       "      <td>China's AI Leaders Alibaba and SenseTime Showcase Breakthroughs at Shanghai Conference</td>\n",
       "    </tr>\n",
       "    <tr>\n",
       "      <th>97</th>\n",
       "      <td>97</td>\n",
       "      <td>China flexes AI muscle at Shanghai expo</td>\n",
       "    </tr>\n",
       "  </tbody>\n",
       "</table>\n",
       "</div>"
      ],
      "text/plain": [
       "    id  \\\n",
       "46  46   \n",
       "96  96   \n",
       "97  97   \n",
       "\n",
       "                                                                                     title  \n",
       "46                    China AI leader iFlytek dips into red under 'ultimate' U.S. pressure  \n",
       "96  China's AI Leaders Alibaba and SenseTime Showcase Breakthroughs at Shanghai Conference  \n",
       "97                                                 China flexes AI muscle at Shanghai expo  "
      ]
     },
     "metadata": {},
     "output_type": "display_data"
    },
    {
     "data": {
      "text/html": [
       "<div>\n",
       "<style scoped>\n",
       "    .dataframe tbody tr th:only-of-type {\n",
       "        vertical-align: middle;\n",
       "    }\n",
       "\n",
       "    .dataframe tbody tr th {\n",
       "        vertical-align: top;\n",
       "    }\n",
       "\n",
       "    .dataframe thead th {\n",
       "        text-align: right;\n",
       "    }\n",
       "</style>\n",
       "<table border=\"1\" class=\"dataframe\">\n",
       "  <thead>\n",
       "    <tr style=\"text-align: right;\">\n",
       "      <th></th>\n",
       "      <th>id</th>\n",
       "      <th>title</th>\n",
       "    </tr>\n",
       "  </thead>\n",
       "  <tbody>\n",
       "    <tr>\n",
       "      <th>110</th>\n",
       "      <td>110</td>\n",
       "      <td>MIT researchers introduce generative AI for databases</td>\n",
       "    </tr>\n",
       "    <tr>\n",
       "      <th>111</th>\n",
       "      <td>111</td>\n",
       "      <td>MIT researchers introduce generative AI for databases | MIT News | Massachusetts Institute of Technology</td>\n",
       "    </tr>\n",
       "    <tr>\n",
       "      <th>113</th>\n",
       "      <td>113</td>\n",
       "      <td>myGenerativeEiAiAlgorithm</td>\n",
       "    </tr>\n",
       "  </tbody>\n",
       "</table>\n",
       "</div>"
      ],
      "text/plain": [
       "      id  \\\n",
       "110  110   \n",
       "111  111   \n",
       "113  113   \n",
       "\n",
       "                                                                                                        title  \n",
       "110                                                     MIT researchers introduce generative AI for databases  \n",
       "111  MIT researchers introduce generative AI for databases | MIT News | Massachusetts Institute of Technology  \n",
       "113                                                                                 myGenerativeEiAiAlgorithm  "
      ]
     },
     "metadata": {},
     "output_type": "display_data"
    },
    {
     "data": {
      "text/html": [
       "<div>\n",
       "<style scoped>\n",
       "    .dataframe tbody tr th:only-of-type {\n",
       "        vertical-align: middle;\n",
       "    }\n",
       "\n",
       "    .dataframe tbody tr th {\n",
       "        vertical-align: top;\n",
       "    }\n",
       "\n",
       "    .dataframe thead th {\n",
       "        text-align: right;\n",
       "    }\n",
       "</style>\n",
       "<table border=\"1\" class=\"dataframe\">\n",
       "  <thead>\n",
       "    <tr style=\"text-align: right;\">\n",
       "      <th></th>\n",
       "      <th>id</th>\n",
       "      <th>title</th>\n",
       "    </tr>\n",
       "  </thead>\n",
       "  <tbody>\n",
       "    <tr>\n",
       "      <th>120</th>\n",
       "      <td>120</td>\n",
       "      <td>The Download: vacation planning with AI, and smaller models</td>\n",
       "    </tr>\n",
       "    <tr>\n",
       "      <th>121</th>\n",
       "      <td>121</td>\n",
       "      <td>AI Trip Planning: How to Use AI to Plan Your Next Vacation</td>\n",
       "    </tr>\n",
       "    <tr>\n",
       "      <th>122</th>\n",
       "      <td>122</td>\n",
       "      <td>How to use AI to plan your next vacation</td>\n",
       "    </tr>\n",
       "    <tr>\n",
       "      <th>123</th>\n",
       "      <td>123</td>\n",
       "      <td>Everything You Need to Know About How Artificial Intelligence Transforming Travel and Tourism Industry</td>\n",
       "    </tr>\n",
       "  </tbody>\n",
       "</table>\n",
       "</div>"
      ],
      "text/plain": [
       "      id  \\\n",
       "120  120   \n",
       "121  121   \n",
       "122  122   \n",
       "123  123   \n",
       "\n",
       "                                                                                                      title  \n",
       "120                                             The Download: vacation planning with AI, and smaller models  \n",
       "121                                              AI Trip Planning: How to Use AI to Plan Your Next Vacation  \n",
       "122                                                                How to use AI to plan your next vacation  \n",
       "123  Everything You Need to Know About How Artificial Intelligence Transforming Travel and Tourism Industry  "
      ]
     },
     "metadata": {},
     "output_type": "display_data"
    },
    {
     "data": {
      "text/html": [
       "<div>\n",
       "<style scoped>\n",
       "    .dataframe tbody tr th:only-of-type {\n",
       "        vertical-align: middle;\n",
       "    }\n",
       "\n",
       "    .dataframe tbody tr th {\n",
       "        vertical-align: top;\n",
       "    }\n",
       "\n",
       "    .dataframe thead th {\n",
       "        text-align: right;\n",
       "    }\n",
       "</style>\n",
       "<table border=\"1\" class=\"dataframe\">\n",
       "  <thead>\n",
       "    <tr style=\"text-align: right;\">\n",
       "      <th></th>\n",
       "      <th>id</th>\n",
       "      <th>title</th>\n",
       "    </tr>\n",
       "  </thead>\n",
       "  <tbody>\n",
       "    <tr>\n",
       "      <th>129</th>\n",
       "      <td>129</td>\n",
       "      <td>South Florida hospital using AI in labor and delivery ward</td>\n",
       "    </tr>\n",
       "    <tr>\n",
       "      <th>130</th>\n",
       "      <td>130</td>\n",
       "      <td>AI can enhance health care and enable cost savings, lawmaker says</td>\n",
       "    </tr>\n",
       "    <tr>\n",
       "      <th>131</th>\n",
       "      <td>131</td>\n",
       "      <td>AI-Driven Behavior Change Could Transform Health Care</td>\n",
       "    </tr>\n",
       "    <tr>\n",
       "      <th>132</th>\n",
       "      <td>132</td>\n",
       "      <td>How AI And New Care Models Make Healthcare Easier, Cheaper, And Better</td>\n",
       "    </tr>\n",
       "  </tbody>\n",
       "</table>\n",
       "</div>"
      ],
      "text/plain": [
       "      id  \\\n",
       "129  129   \n",
       "130  130   \n",
       "131  131   \n",
       "132  132   \n",
       "\n",
       "                                                                      title  \n",
       "129              South Florida hospital using AI in labor and delivery ward  \n",
       "130       AI can enhance health care and enable cost savings, lawmaker says  \n",
       "131                   AI-Driven Behavior Change Could Transform Health Care  \n",
       "132  How AI And New Care Models Make Healthcare Easier, Cheaper, And Better  "
      ]
     },
     "metadata": {},
     "output_type": "display_data"
    }
   ],
   "source": [
    "with pd.option_context('display.max_rows', None, 'display.max_colwidth', None):\n",
    "    for i in range(30):\n",
    "        tmpdf = AIdf.loc[AIdf['cluster']==i][[\"id\", \"title\"]]\n",
    "        if len(tmpdf) ==0:\n",
    "            break\n",
    "        display(tmpdf)\n",
    "    \n"
   ]
  },
  {
   "cell_type": "markdown",
   "id": "e79cc4ee",
   "metadata": {},
   "source": [
    "# Save and email headlines\n"
   ]
  },
  {
   "cell_type": "code",
   "execution_count": 120,
   "id": "12047601-67d0-4e60-b1e7-79d38349b58e",
   "metadata": {},
   "outputs": [
    {
     "name": "stderr",
     "output_type": "stream",
     "text": [
      "2024-07-08 13:51:22,242 - AInewsbot - INFO - [0. Heres how Claude 3.5 Sonnet and GPT-4o stack up in a direct comparison - Google News](https://www.digitaltrends.com/computing/claude-sonnet-vs-gpt-4o-comparison/)\n",
      "2024-07-08 13:51:22,245 - AInewsbot - INFO - [1. Why Claude 3.5 Sonnet is the AI to Watch, Not ChatGPT-4o - Google News](https://www.techopedia.com/news/why-claude-3-5-sonnet-is-the-ai-to-watch-not-chatgpt-4o)\n",
      "2024-07-08 13:51:22,246 - AInewsbot - INFO - [2. Claude AI: A Comprehensive Overview Exploring the Advanced Capabilities and Ethical Design of Anthropics Leading Language Model - Google News](https://www.marktechpost.com/2024/07/05/claude-ai-a-comprehensive-overview-exploring-the-advanced-capabilities-and-ethical-design-of-anthropics-leading-language-model/)\n",
      "2024-07-08 13:51:22,247 - AInewsbot - INFO - [3. Exciting Claude 3 Projects with internal knowledge, 200k context window - Feedly AI](https://www.geeky-gadgets.com/claude-projects/)\n",
      "2024-07-08 13:51:22,248 - AInewsbot - INFO - [4. University examiners fail to spot ChatGPT answers in real-world test - Reddit](https://www.reddit.com/r/technology/comments/1dxw16s/university_examiners_fail_to_spot_chatgpt_answers/)\n",
      "2024-07-08 13:51:22,248 - AInewsbot - INFO - [5. ChatGPT is funnier than humans (and its no joke for professional writers) - Feedly AI](https://newatlas.com/technology/chatgpt-is-funnier/)\n",
      "2024-07-08 13:51:22,249 - AInewsbot - INFO - [6. How Good Is ChatGPT at Coding, Really? Study finds that while AI can be great, it also struggles due to training limitations - Reddit](https://www.reddit.com/r/technology/comments/1dxwcyv/how_good_is_chatgpt_at_coding_really_study_finds/)\n",
      "2024-07-08 13:51:22,249 - AInewsbot - INFO - [7. Go Ahead, Write Your Cover Letter With ChatGPT - Feedly AI](https://www.bloomberg.com/opinion/articles/2024-07-08/how-to-use-chatgpt-to-write-a-cover-letter-and-apply-for-a-job)\n",
      "2024-07-08 13:51:22,250 - AInewsbot - INFO - [8. Can ChatGPT handle HR? Here's what happened when we put it to the test - Google News](https://www.fastcompany.com/91147661/can-chatgpt-handle-hr-heres-what-happened-when-we-put-it-to-the-test)\n",
      "2024-07-08 13:51:22,250 - AInewsbot - INFO - [9. Can ChatGPT handle HR? Heres what happened when we put it to the test - Feedly AI](https://www.fastcompany.com/91147661/can-chatgpt-handle-hr-heres-what-happened-when-we-put-it-to-the-test)\n",
      "2024-07-08 13:51:22,251 - AInewsbot - INFO - [10. ChatGPT accurately guesses my weight based on a photo. I weigh 167 - Reddit](https://www.reddit.com/r/ChatGPT/comments/1dxw1jn/chatgpt_accurately_guesses_my_weight_based_on_a/)\n",
      "2024-07-08 13:51:22,251 - AInewsbot - INFO - [11. I asked chat gpt to depict Bhutans flag in ascii. - Reddit](https://www.reddit.com/r/ChatGPT/comments/1dxmwx1/i_asked_chat_gpt_to_depict_bhutans_flag_in_ascii/)\n",
      "2024-07-08 13:51:22,251 - AInewsbot - INFO - [12. OpenAI, GitHub Beat Digital Copyright Claims From Programmers - Google News](https://news.bloomberglaw.com/litigation/openai-github-beat-digital-copyright-claims-from-programmers)\n",
      "2024-07-08 13:51:22,252 - AInewsbot - INFO - [13. Judge Partially Dismisses $1B Lawsuit Against Microsoft, OpenAI, and GitHub Over AI Code Use - Google News](http://tokenpost.com/Judge-Partially-Dismisses-1B-Lawsuit-Against-Microsoft-OpenAI-and-GitHub-Over-AI-Code-Use-12253)\n",
      "2024-07-08 13:51:22,252 - AInewsbot - INFO - [14. Judge dismisses coders' DMCA claims against Microsoft, OpenAI and GitHub - Google News](https://cointelegraph.com/news/judge-dismisses-coders-dmca-claims-microsoft-open-ai-artificial-intelligence-git-hub)\n",
      "2024-07-08 13:51:22,253 - AInewsbot - INFO - [15. Micro-agent: make an AI write code until it passes an unit test - Hacker News](https://github.com/BuilderIO/micro-agent)\n",
      "2024-07-08 13:51:22,253 - AInewsbot - INFO - [16. Converting Epics/Stories into Pseudocode using Transformers - HackerNoon](https://hackernoon.com/converting-epicsstories-into-pseudocode-using-transformers)\n",
      "2024-07-08 13:51:22,254 - AInewsbot - INFO - [17. The Evolution of Text-to-Code and Pseudocode Automation - HackerNoon](https://hackernoon.com/the-evolution-of-text-to-code-and-pseudocode-automation)\n",
      "2024-07-08 13:51:22,254 - AInewsbot - INFO - [18. Transforming Text to Code: An Approach to Efficient Agile Development - HackerNoon](https://hackernoon.com/transforming-text-to-code-an-approach-to-efficient-agile-development)\n",
      "2024-07-08 13:51:22,254 - AInewsbot - INFO - [19. Apply Now: GBP 150,000 Artificial Intelligence Research Grants - Google News](https://www.ictworks.org/apply-now-gbp-150000-artificial-intelligence-research-grants/)\n",
      "2024-07-08 13:51:22,255 - AInewsbot - INFO - [20. Exiger Leads Market in AI-Driven Multi-Tier Visibility with Versed AI Acquisition - Google News](https://www.morningstar.com/news/pr-newswire/20240708ny51994/exiger-leads-market-in-ai-driven-multi-tier-visibility-with-versed-ai-acquisition)\n",
      "2024-07-08 13:51:22,255 - AInewsbot - INFO - [21. Why So Many Bitcoin Mining Companies Are Pivoting to AI - Hacker News 2](https://time.com/6993603/ai-bitcoin-mining-artificial-intelligence-energy-use/)\n",
      "2024-07-08 13:51:22,256 - AInewsbot - INFO - [22. How AI is driving the venture capital market - Google News](https://www.axios.com/2024/07/08/ai-stock-market)\n",
      "2024-07-08 13:51:22,256 - AInewsbot - INFO - [23. Revolutionizing Finance: Harnessing Next-Gen AI Platforms for Enterprise Success - Feedly AI](https://thecyberexpress.com/next-gen-ai-platforms-for-enterprise-success/)\n",
      "2024-07-08 13:51:22,257 - AInewsbot - INFO - [24. Abu Dhabi Investment Firm Lunate Takes On AI Firm G42s China Fund - Feedly AI](https://www.bloomberg.com/news/articles/2024-07-08/abu-dhabi-investment-firm-lunate-takes-on-ai-firm-g42-s-china-fund)\n",
      "2024-07-08 13:51:22,257 - AInewsbot - INFO - [25. OpenAI Startup Fund and Thrive Global Launch Thrive AI Health, Offering a Hyper-Personalized AI Health Coach - Google News](https://aithority.com/machine-learning/openai-startup-fund-and-thrive-global-launch-thrive-ai-health-offering-a-hyper-personalized-ai-health-coach/)\n",
      "2024-07-08 13:51:22,257 - AInewsbot - INFO - [26. Aidan Gomez's Cohere Reaches $5 Billion Valuation with Nvidia's Backing - Google News](https://n24.com.tr/en/aidan-gomezs-cohere-reaches-5-billion-valuation-with-nvidias-backing)\n",
      "2024-07-08 13:51:22,258 - AInewsbot - INFO - [27. Cohere CEO and ex-Google researcher Aidan Gomez on how his AI models make money for companies - Google News](https://www.cnbc.com/video/2024/07/06/cohere-ceo-and-ex-google-researcher-aidan-gomez-on-how-ai-makes-money.html)\n",
      "2024-07-08 13:51:22,258 - AInewsbot - INFO - [28. How Cohere CEO Aidan Gomez Says AI Will Directly Profit Companies - Google News](https://www.cnbcafrica.com/2024/how-cohere-ceo-aidan-gomez-says-ai-will-directly-profit-companies/)\n",
      "2024-07-08 13:51:22,258 - AInewsbot - INFO - [29. Synerise Raises $8.5 Million to Expand AI-Driven Behavioral Modeling Solutions - Google News](https://www.pymnts.com/artificial-intelligence-2/2024/synerise-raises-8-5-million-to-expand-ai-driven-behavioral-modeling-solutions/)\n",
      "2024-07-08 13:51:22,258 - AInewsbot - INFO - [30. Hebbia Raises $130 Million for AI That Helps Firms Answer Complex Questions - Google News](https://www.bloomberg.com/news/articles/2024-07-08/hebbia-raises-130-million-for-ai-that-helps-firms-answer-complex-questions)\n",
      "2024-07-08 13:51:22,259 - AInewsbot - INFO - [31. New York-based Hebbia, which uses AI to help companies sift through documents, raised $130M led by a16z, a source says at a ~$700M post-money valuation (Rachel Metz/Bloomberg) - Feedly AI](https://www.bloomberg.com/news/articles/2024-07-08/hebbia-raises-130-million-for-ai-that-helps-firms-answer-complex-questions)\n",
      "2024-07-08 13:51:22,259 - AInewsbot - INFO - [32. 2 stocks to turn $100 into $1,000 for end of 2024 - Feedly AI](https://finbold.com/2-stocks-to-turn-100-into-1000-for-end-of-2024/)\n",
      "2024-07-08 13:51:22,259 - AInewsbot - INFO - [33. Ethereum or Solana? We asked ChatGPT-4o which stock is a better buy for 2024 - Feedly AI](https://finbold.com/ethereum-or-solana-we-asked-chatgpt-4o-which-stock-is-a-better-buy-for-2024/)\n",
      "2024-07-08 13:51:22,259 - AInewsbot - INFO - [34. Tesla Bull Says EV Giant's FSD Revenue Nearing $1B Annual Run-Rate, Urges Breaking Out AI And Robotics Numbers - Feedly AI](https://www.benzinga.com/analyst-ratings/analyst-color/24/07/39660003/tesla-bull-says-ev-giants-fsd-revenue-nearing-1b-annual-run-rate-urges-breaking-out)\n"
     ]
    },
    {
     "name": "stderr",
     "output_type": "stream",
     "text": [
      "2024-07-08 13:51:22,260 - AInewsbot - INFO - [35. Teslas upcoming earnings report has to divulge its AI plans and Nvidias role - Feedly AI](https://www.marketwatch.com/story/teslas-upcoming-earnings-report-needs-to-divulge-its-ai-plans-and-nvidias-role-16cde94e)\n",
      "2024-07-08 13:51:22,260 - AInewsbot - INFO - [36. AI industry needs annual revenues of more than the UAEs GDP to offset costs - Feedly AI](https://readwrite.com/ai-must-find-annual-revenue-more-than-the-gdp-of-singapore-to-justify-expenditure/)\n",
      "2024-07-08 13:51:22,260 - AInewsbot - INFO - [37. Big Tech needs to generate $600 billion in annual revenue to justify AI hardware expenditure - Reddit](https://www.reddit.com/r/technews/comments/1dxtt72/big_tech_needs_to_generate_600_billion_in_annual/)\n",
      "2024-07-08 13:51:22,260 - AInewsbot - INFO - [38. Arista Networks: Nvidia Isn't The Only AI Gold Rush Beneficiary (NYSE:ANET) - Google News](https://seekingalpha.com/article/4702847-arista-networks-nvidia-isnt-the-only-ai-gold-rush-beneficiary)\n",
      "2024-07-08 13:51:22,260 - AInewsbot - INFO - [39. Billionaires Are Selling Nvidia Stock and Buying 2 Supercharged Artificial Intelligence (AI) Stocks Instead - Google News](https://finance.yahoo.com/news/billionaires-selling-nvidia-stock-buying-091200525.html)\n",
      "2024-07-08 13:51:22,261 - AInewsbot - INFO - [40. Nvidia Stock Gains Amid AI Chip Antitrust Scrutiny - Google News](https://www.barrons.com/articles/nvidia-stock-price-antitrust-8d2d3b57)\n",
      "2024-07-08 13:51:22,261 - AInewsbot - INFO - [41. 3 AI Stocks That Also Pay Dividends - Google News](https://investorplace.com/2024/07/3-ai-stocks-that-also-pay-dividends/)\n",
      "2024-07-08 13:51:22,261 - AInewsbot - INFO - [42. 3 Stocks to Benefit From the AI Datacenter Power Boom - Google News](https://www.barrons.com/articles/3-stocks-to-benefit-from-the-ai-datacenter-power-boom-7c07b498)\n",
      "2024-07-08 13:51:22,261 - AInewsbot - INFO - [43. Two Canadian stocks set to benefit from AI-driven datacenter expansion: RBC - Feedly AI](https://www.theglobeandmail.com/investing/markets/inside-the-market/article-two-canadian-stocks-set-to-benefit-from-ai-driven-datacenter-expansion/)\n",
      "2024-07-08 13:51:22,262 - AInewsbot - INFO - [44. Cornings stock soars 7% after company raises Q2 guidance to reflect AI bump - Google News](https://www.marketwatch.com/story/cornings-stock-soars-7-after-company-raises-q2-guidance-to-reflect-ai-bump-165f51b6)\n",
      "2024-07-08 13:51:22,262 - AInewsbot - INFO - [45. Samsung flags better-than-expected profit rise as AI boom lifts chip prices - Google News](https://www.reuters.com/technology/samsung-flags-15-fold-rise-second-quarter-profit-chip-prices-climb-2024-07-04/)\n",
      "2024-07-08 13:51:22,262 - AInewsbot - INFO - [46. China AI leader iFlytek dips into red under 'ultimate' U.S. pressure - Google News](https://asia.nikkei.com/Business/China-tech/China-AI-leader-iFlytek-dips-into-red-under-ultimate-U.S.-pressure)\n",
      "2024-07-08 13:51:22,263 - AInewsbot - INFO - [47. Southeast Asia's IPO market fell drastically in the first half, but AI listings could revive it - Google News](https://www.cnbc.com/2024/07/08/southeast-asia-ipo-market-fell-significantly-in-h2-2024-deloitte.html)\n",
      "2024-07-08 13:51:22,263 - AInewsbot - INFO - [48. Galaxy AI Live Translate feature might soon bridge the language gap in WhatsApp calls - Google News](https://www.androidpolice.com/galaxy-ai-live-translate-whatsapp-calls/)\n",
      "2024-07-08 13:51:22,263 - AInewsbot - INFO - [49. WhatsApp could soon get a Galaxy AI-powered Live Translate feature - Google News](https://www.tomsguide.com/phones/samsung-phones/whatsapp-could-soon-get-a-galaxy-ai-powered-live-translate-feature)\n",
      "2024-07-08 13:51:22,263 - AInewsbot - INFO - [50. Meta AI may get more collaborative in WhatsApp for Android. - Google News](https://www.theverge.com/2024/7/7/24193680/meta-ai-may-get-more-collaborative-in-whatsapp-for-android)\n",
      "2024-07-08 13:51:22,264 - AInewsbot - INFO - [51. Meta AI on WhatsApp is getting smarter: You will soon be able to edit and analyse images - Google News](https://indianexpress.com/article/technology/artificial-intelligence/meta-ai-on-whatsapp-edit-analyse-images-9439429/)\n",
      "2024-07-08 13:51:22,264 - AInewsbot - INFO - [52. WhatsApp's new feature will let Meta AI edit your photos for you - Google News](https://www.androidauthority.com/whatsapp-meta-ai-update-3457975/)\n",
      "2024-07-08 13:51:22,264 - AInewsbot - INFO - [53. Apples massive AI-powered Siri upgrade isnt coming until spring 2025 - Feedly AI](https://bgr.com/tech/apples-massive-ai-powered-siri-upgrade-isnt-coming-until-spring-2025/)\n",
      "2024-07-08 13:51:22,264 - AInewsbot - INFO - [54. New Siri Experience With Apple Intelligence Likely to Debut in Spring 2025 - Google News](https://www.macrumors.com/2024/07/07/new-siri-experience-to-debut-spring-2025/)\n",
      "2024-07-08 13:51:22,265 - AInewsbot - INFO - [55. Steam's Summer Sale is in full swing  here's 11 gaming deals I'd buy right now - Google News](https://www.tomsguide.com/gaming/steams-summer-sale-is-in-full-swing-heres-9-gaming-deals-id-get-now)\n",
      "2024-07-08 13:51:22,265 - AInewsbot - INFO - [56. Copilot+ PCs software compatibility issues left to you to sort out, with help from crowdsourcersSamsung warned users, but the PC industrys big players hardly mention the possibility of problems - The Register](https://www.theregister.com/2024/07/08/copilot_plus_pc_software_compatibility/)\n",
      "2024-07-08 13:51:22,265 - AInewsbot - INFO - [57. Stealthy Jenoptik smart cameras that can spot drivers on their phone roll out across UK - Google News](https://www.carmagazine.co.uk/car-news/motoring-issues/jenoptik-safety-cameras/)\n",
      "2024-07-08 13:51:22,265 - AInewsbot - INFO - [58. Google is bringing Fuchsia OS to Android devices, but not in the way you'd think - Google News](https://www.androidauthority.com/microfuchsia-on-android-3457788/)\n",
      "2024-07-08 13:51:22,265 - AInewsbot - INFO - [59. Two big upgrades were just confirmed for the Google Pixel Watch 3 - Google News](https://www.digitaltrends.com/mobile/two-big-upgrades-confirmed-for-google-pixel-watch-3-uwb-5ghz-wi-fi/)\n",
      "2024-07-08 13:51:22,266 - AInewsbot - INFO - [60. AI put an innocent Texan in jail. Why is HPD working with Airship AI? - Google News](https://www.houstonchronicle.com/opinion/editorials/article/ai-predictive-policing-facial-scans-19551360.php)\n",
      "2024-07-08 13:51:22,266 - AInewsbot - INFO - [61. Is AI's entry into music a sign of humanity's last tune? - Google News](https://www.jpost.com/brandblend/article-809398)\n",
      "2024-07-08 13:51:22,266 - AInewsbot - INFO - [62. AI Doppelganger  Cool or Creepy? - Feedly AI](https://flipboard.com/video/dw/999755771b)\n",
      "2024-07-08 13:51:22,266 - AInewsbot - INFO - [63. AI creates video of 'what hell looks like' and the result is terrifying - Feedly AI](https://www.uniladtech.com/news/ai-what-hell-looks-like-terrifying-results-237896-20240708)\n",
      "2024-07-08 13:51:22,266 - AInewsbot - INFO - [64. Hacker accessed OpenAI's internal AI details in 2023 breach: report - Google News](https://www.foxbusiness.com/technology/hacker-accessed-openais-internal-ai-details-2023-breach-report)\n",
      "2024-07-08 13:51:22,267 - AInewsbot - INFO - [65. AI eyes of roads that can spy inside cars pose threat to privacy - Google News](https://interestingengineering.com/innovation/ai-speed-detector-spy-inside-cars)\n",
      "2024-07-08 13:51:22,267 - AInewsbot - INFO - [66. 10 ways to prevent shadow AI disaster - Google News](https://www.cio.com/article/2150142/10-ways-to-prevent-shadow-ai-disaster.html)\n",
      "2024-07-08 13:51:22,267 - AInewsbot - INFO - [67. Artificial Intelligence Researchers Need More Information to Understand Risks - Google News](https://foreignpolicy.com/2024/07/08/artificial-intelligence-ai-election-misinformation-technology-risks/)\n",
      "2024-07-08 13:51:22,267 - AInewsbot - INFO - [68. Telecoms companies now using scambaiting AI systems; Lenny+ - Google News](https://9to5mac.com/2024/07/08/scambaiting-ai-systems/)\n",
      "2024-07-08 13:51:22,267 - AInewsbot - INFO - [69. Telecoms companies now using scambaiting AI systems modelled on Lenny - Feedly AI](https://9to5mac.com/2024/07/08/scambaiting-ai-systems/)\n",
      "2024-07-08 13:51:22,267 - AInewsbot - INFO - [70. Here's How Your Online Activity Is Training Next-Gen AI - Feedly AI](https://www.inc.com/associated-press/your-social-media-posts-are-training-next-gen-ai-heres-how.html)\n"
     ]
    },
    {
     "name": "stderr",
     "output_type": "stream",
     "text": [
      "2024-07-08 13:51:22,268 - AInewsbot - INFO - [71. Google's AI Aftershock: Expert Explains How to Thrive in the New Search Landscape - HackerNoon](https://hackernoon.com/googles-ai-aftershock-expert-explains-how-to-thrive-in-the-new-search-landscape)\n",
      "2024-07-08 13:51:22,268 - AInewsbot - INFO - [72. Google Experts Warn That AI May Distort Reality, While AI Overviews Repel Mobile Users - Google News](https://www.cnet.com/tech/computing/google-experts-warn-that-ai-may-distort-reality-while-ai-overviews-repel-mobile-users/)\n",
      "2024-07-08 13:51:22,268 - AInewsbot - INFO - [73. China's AI model glut is a 'significant waste of resources' due to scarce real-world applications for 100+ LLMs says Baidu CEO - Reddit](https://www.reddit.com/r/technology/comments/1dxwfzs/chinas_ai_model_glut_is_a_significant_waste_of/)\n",
      "2024-07-08 13:51:22,268 - AInewsbot - INFO - [74. Google's AI search summaries use 10x more energy than just doing a normal Google search - Reddit](https://www.reddit.com/r/technology/comments/1dxrnlk/googles_ai_search_summaries_use_10x_more_energy/)\n",
      "2024-07-08 13:51:22,268 - AInewsbot - INFO - [75. Power-hungry AI is driving a surge in tech giant carbon emissions. Nobody knows what to do about it - Feedly AI](https://theconversation.com/power-hungry-ai-is-driving-a-surge-in-tech-giant-carbon-emissions-nobody-knows-what-to-do-about-it-233452)\n",
      "2024-07-08 13:51:22,268 - AInewsbot - INFO - [76. Co-author of the original Transformers paper says models are doing things he thought were 40 years away and scaling laws will continue to hold - Reddit](https://www.reddit.com/r/ChatGPT/comments/1dy1da9/coauthor_of_the_original_transformers_paper_says/)\n",
      "2024-07-08 13:51:22,269 - AInewsbot - INFO - [77. Small Language Models: The Future Catalyst for Organizational Success - Feedly AI](https://blog.kore.ai/why-could-small-language-models-be-the-game-changer-for-your-organization)\n",
      "2024-07-08 13:51:22,269 - AInewsbot - INFO - [78. Breaking the rules is in big tech's blood  now it's time to break the habitOpinionMicrosoft: All your data are belong to us? World: That's so last centuryAI + ML4 hrs|9 - The Register](https://www.theregister.com/2024/07/08/opinion_column_ai_ip/)\n",
      "2024-07-08 13:51:22,269 - AInewsbot - INFO - [79. Tether CEO advocates for localized AI models to prevent hacks - Google News](https://cointelegraph.com/news/tether-ceo-promotes-local-ai-privacy)\n",
      "2024-07-08 13:51:22,269 - AInewsbot - INFO - [80. Interview: Microsoft AI chief Mustafa Suleyman on balancing AI innovation and containment - Google News](https://www.chosun.com/english/people-en/2024/07/07/4WZRIFLZFFFM5JCLJB446HOAJA/)\n",
      "2024-07-08 13:51:22,269 - AInewsbot - INFO - [81. Microsoft AI chief on AI companies using online content - Google News](https://www.indiatoday.in/visualstories/technology/microsoft-ai-chief-on-ai-companies-using-online-content-149134-04-07-2024)\n",
      "2024-07-08 13:51:22,269 - AInewsbot - INFO - [82. UK Future Workforce Index 2024: 83% of UK businesses willing to pay a higher wage to those with AI skills amid hiring challenges - Google News](https://www.onrec.com/news/statistics/uk-future-workforce-index-2024-83-of-uk-businesses-willing-to-pay-a-higher-wage-to)\n",
      "2024-07-08 13:51:22,270 - AInewsbot - INFO - [83. Artificial Intelligence Boom Lifts Paychecks for CIOs - Google News](https://www.wsj.com/articles/artificial-intelligence-boom-lifts-paychecks-for-cios-e1527eab)\n",
      "2024-07-08 13:51:22,270 - AInewsbot - INFO - [84. China sees changing of career guard as AI beats out finance in pay pyramid - Google News](https://www.scmp.com/economy/china-economy/article/3269334/chinas-tech-boom-powering-ai-career-coup-finance-muscled-out-top-salary-pyramid)\n",
      "2024-07-08 13:51:22,270 - AInewsbot - INFO - [85. Chinas tech boom powering AI career coup, with finance muscled out at top of salary pyramid - Reddit](https://www.reddit.com/r/technology/comments/1dxltnf/chinas_tech_boom_powering_ai_career_coup_with/)\n",
      "2024-07-08 13:51:22,270 - AInewsbot - INFO - [86. A majority of CFOs admit they don't fully understand AI - Google News](https://fortune.com/2024/07/08/majority-cfos-admit-dont-fully-understand-ai/)\n",
      "2024-07-08 13:51:22,270 - AInewsbot - INFO - [87. CIOs' concerns over generative AI echo those of the early days of cloud computing - Google News](https://techcrunch.com/2024/07/07/cios-concerns-over-generative-ai-echo-those-of-the-early-days-of-cloud-computing/)\n",
      "2024-07-08 13:51:22,271 - AInewsbot - INFO - [88. This AI model says US recession chances are up to 68% - Feedly AI](https://au.investing.com/news/economy-news/this-ai-model-says-us-recession-chances-are-up-to-68-3330415)\n",
      "2024-07-08 13:51:22,271 - AInewsbot - INFO - [89. 37 ad execs predict 2024 second half trends: AI, Olympics, Gen Z - Google News](https://adage.com/article/agency-news/37-ad-execs-predict-2024-second-half-trends-ai-olympics-gen-z/2568341)\n",
      "2024-07-08 13:51:22,271 - AInewsbot - INFO - [90. Retail This Week: Soft Landings, AI Hype, And Department Store Deaths - Google News](https://www.forbes.com/sites/nikkibaird/2024/07/08/retail-this-week-soft-landings-ai-hype-and-department-store-deaths/)\n",
      "2024-07-08 13:51:22,271 - AInewsbot - INFO - [91. AI breakthrough? Google's new training method uses 10x less power - Google News](https://www.newsbytesapp.com/news/science/google-deepmind-s-new-ai-training-technique-promises-significant-gains/story)\n",
      "2024-07-08 13:51:22,271 - AInewsbot - INFO - [92. Google claims new AI training tech is 13 times faster and 10 times more power efficient  DeepMind's new JEST optimizes training data for impressive gains - Google News](https://www.tomshardware.com/tech-industry/artificial-intelligence/google-claims-new-ai-training-tech-is-13-times-faster-and-10-times-more-power-efficient-deepminds-new-jest-optimizes-training-data-for-massive-gains)\n",
      "2024-07-08 13:51:22,271 - AInewsbot - INFO - [93. Google claims new AI training tech is 13x faster, 10x more power efficient - Feedly AI](https://www.tomshardware.com/tech-industry/artificial-intelligence/google-claims-new-ai-training-tech-is-13-times-faster-and-10-times-more-power-efficient-deepminds-new-jest-optimizes-training-data-for-massive-gains)\n",
      "2024-07-08 13:51:22,271 - AInewsbot - INFO - [94. UN Agency: China Leading AI Patents Race - Google News](https://learningenglish.voanews.com/a/un-agency-china-leading-ai-patents-race/7686347.html)\n",
      "2024-07-08 13:51:22,272 - AInewsbot - INFO - [95. At Shanghai AI Expo, Humanoid Robots Turn Heads, Bake Bread - Google News](https://www.sixthtone.com/news/1015460)\n",
      "2024-07-08 13:51:22,272 - AInewsbot - INFO - [96. China's AI Leaders Alibaba and SenseTime Showcase Breakthroughs at Shanghai Conference - Feedly AI](https://www.benzinga.com/news/24/07/39663974/chinas-ai-leaders-alibaba-and-sensetime-showcase-breakthroughs-at-shanghai-conference)\n",
      "2024-07-08 13:51:22,272 - AInewsbot - INFO - [97. China flexes AI muscle at Shanghai expo - Google News](https://asiatimes.com/2024/07/china-flexes-ai-muscle-at-shanghai-expo/)\n",
      "2024-07-08 13:51:22,272 - AInewsbot - INFO - [98. Chinese GPU maker Moore Threads' MTLink fabric tech challenges Nvidia's NVLink, can now scale to 10,000 GPUs for AI clusters - Feedly AI](https://www.tomshardware.com/pc-components/gpus/chinese-gpu-maker-moore-threads-can-now-scale-to-10000-processors-for-ai-clusters-mtlink-fabric-tech-competes-with-nvidias-nvlink)\n",
      "2024-07-08 13:51:22,272 - AInewsbot - INFO - [99. AI-Powered Super Soldiers Are More Than Just a Pipe Dream - Feedly AI](https://www.wired.com/story/us-military-hyper-enabled-operator/)\n",
      "2024-07-08 13:51:22,272 - AInewsbot - INFO - [100. A first physical system to learn nonlinear tasks without a traditional computer processor - Google News](https://techxplore.com/news/2024-07-physical-nonlinear-tasks-traditional-processor.html)\n",
      "2024-07-08 13:51:22,273 - AInewsbot - INFO - [101. Detect Migrating Birds with a Plastic Dish and a Cheap Microphone - Hacker News](https://spectrum.ieee.org/detect-migrating-birds-with-sound)\n",
      "2024-07-08 13:51:22,273 - AInewsbot - INFO - [102. SpaceX rockets blew away local bird habitats after Elon Musk 'misled' NPS officials about expansion, NYT reports - Business Insider](https://www.businessinsider.com/spacex-boca-chica-texas-starbase-bird-habitat-2024-7)\n"
     ]
    },
    {
     "name": "stderr",
     "output_type": "stream",
     "text": [
      "2024-07-08 13:51:22,273 - AInewsbot - INFO - [103. DRLQ: A Novel Deep Reinforcement Learning (DRL)-based Technique for Task Placement in Quantum Cloud Computing Environments - Feedly AI](https://www.marktechpost.com/2024/07/08/drlq-a-novel-deep-reinforcement-learning-drl-based-technique-for-task-placement-in-quantum-cloud-computing-environments/)\n",
      "2024-07-08 13:51:22,273 - AInewsbot - INFO - [104. MoBot uses AI to learn how trees move. And to save millions of plant specimens. - Feedly AI](https://www.stltoday.com/news/local/metro/mobot-uses-ai-to-learn-how-trees-move-and-to-save-millions-of-plant-specimens/article_fb9f9660-3885-11ef-8f5a-57b61f2acc14.html)\n",
      "2024-07-08 13:51:22,273 - AInewsbot - INFO - [105. MoBot uses AI to save millions of plant specimens - Google News](https://www.stltoday.com/news/local/metro/mobot-uses-ai-to-learn-how-trees-move-and-to-save-millions-of-plant-specimens/article_fb9f9660-3885-11ef-8f5a-57b61f2acc14.html)\n",
      "2024-07-08 13:51:22,273 - AInewsbot - INFO - [106. Machine learning identifies cancer-driving mutations at CTCF binding sites - Google News](https://www.news-medical.net/news/20240707/Machine-learning-identifies-cancer-driving-mutations-at-CTCF-binding-sites.aspx)\n",
      "2024-07-08 13:51:22,273 - AInewsbot - INFO - [107. Tiny robots with a big impact: microrobots for single-cell handling - Hacker News](https://www.advancedsciencenews.com/tiny-robots-with-a-big-impact-scientists-develop-microrobots-for-single-cell-handling/)\n",
      "2024-07-08 13:51:22,274 - AInewsbot - INFO - [108. Meet hijab-clad Kenza Layli from Morcco, world's first-ever Miss AI who beat 1500 contestants - Google News](https://timesofindia.indiatimes.com/world/us/meet-hijab-clad-kenza-layli-from-morcco-worlds-first-ever-miss-ai/articleshow/111581841.cms)\n",
      "2024-07-08 13:51:22,274 - AInewsbot - INFO - [109. Worlds first Miss AI crowned  and shes a hijab-wearing activist from Morocco genuinely excited for the win - Feedly AI](https://nypost.com/2024/07/08/lifestyle/worlds-first-miss-ai-crowned-kenza-layli-from-morocco-genuinely-excited/)\n",
      "2024-07-08 13:51:22,274 - AInewsbot - INFO - [110. MIT researchers introduce generative AI for databases - Feedly AI](https://news.mit.edu/2024/mit-researchers-introduce-generative-ai-databases-0708)\n",
      "2024-07-08 13:51:22,274 - AInewsbot - INFO - [111. MIT researchers introduce generative AI for databases | MIT News | Massachusetts Institute of Technology - Google News](https://news.mit.edu/2024/mit-researchers-introduce-generative-ai-databases-0708)\n",
      "2024-07-08 13:51:22,274 - AInewsbot - INFO - [112. Inside ALDO's in-house generative AI and machine learning strategy - Google News](https://digiday.com/marketing/inside-aldos-in-house-generative-ai-and-machine-learning-strategy/)\n",
      "2024-07-08 13:51:22,274 - AInewsbot - INFO - [113. myGenerativeEiAiAlgorithm - Reddit](https://www.reddit.com/r/ProgrammerHumor/comments/1dxyx1j/mygenerativeeiaialgorithm/)\n",
      "2024-07-08 13:51:22,275 - AInewsbot - INFO - [114. YouTube Music May Soon Let You Generate Custom Radio Via Natural Language Prompts Using AI; Details Inside - Google News](https://english.jagran.com/technology/youtube-music-may-soon-let-you-generate-custom-radio-via-natural-language-prompts-using-ai-details-inside-10172115)\n",
      "2024-07-08 13:51:22,275 - AInewsbot - INFO - [115. YouTube Music is piloting 'music any way you like' prompt-generated radio using AI - Google News](https://www.techradar.com/streaming/youtube-music-is-piloting-music-any-way-you-like-prompt-generated-radio-using-ai)\n",
      "2024-07-08 13:51:22,275 - AInewsbot - INFO - [116. How to use the new Gemini AI tools built into Chromebooks - Feedly AI](https://www.popsci.com/diy/how-to-use-gemini-ai-tools-chromebooks/)\n",
      "2024-07-08 13:51:22,275 - AInewsbot - INFO - [117. Will AI Soon Help Animals Talk To Us? - Google News](https://mindmatters.ai/2024/07/will-ai-soon-help-animals-talk-to-us/)\n",
      "2024-07-08 13:51:22,275 - AInewsbot - INFO - [118. How prompting and integration AI assistants have sped up viral video content production 100 fold - Feedly AI](https://www.marketingdive.com/spons/how-prompting-and-integration-ai-assistants-have-sped-up-viral-video-conten/720652/)\n",
      "2024-07-08 13:51:22,275 - AInewsbot - INFO - [119. NYSEG and RG&E use AI assistant on website to improve customer service - Feedly AI](https://www.fingerlakes1.com/2024/07/08/nyseg-and-rge-use-ai-assistant-on-website-to-improve-customer-service/)\n",
      "2024-07-08 13:51:22,275 - AInewsbot - INFO - [120. The Download: vacation planning with AI, and smaller models - Feedly AI](https://www.technologyreview.com/2024/07/08/1094742/the-download-vacation-planning-with-ai-and-smaller-models/)\n",
      "2024-07-08 13:51:22,276 - AInewsbot - INFO - [121. AI Trip Planning: How to Use AI to Plan Your Next Vacation - Google News](https://www.travelawaits.com/2993617/ai-trip-planning-how-to-use-ai-to-plan-your-next-vacation/)\n",
      "2024-07-08 13:51:22,276 - AInewsbot - INFO - [122. How to use AI to plan your next vacation - Feedly AI](https://www.technologyreview.com/2024/07/08/1094733/how-to-use-ai-to-plan-your-next-vacation/)\n",
      "2024-07-08 13:51:22,276 - AInewsbot - INFO - [123. Everything You Need to Know About How Artificial Intelligence Transforming Travel and Tourism Industry - Google News](https://www.travelandtourworld.com/news/article/everything-you-need-to-know-about-how-artificial-intelligence-transforming-travel-and-tourism-industry/)\n",
      "2024-07-08 13:51:22,276 - AInewsbot - INFO - [124. The Role of Artificial Intelligence in Shaping a Sustainable Future - Google News](https://elblog.pl/2024/07/07/the-role-of-artificial-intelligence-in-shaping-a-sustainable-future/)\n",
      "2024-07-08 13:51:22,276 - AInewsbot - INFO - [125. Al-Generated Movie Trailer - Final Justice: The First Justice - Reddit](https://www.reddit.com/r/ChatGPT/comments/1dxxh19/algenerated_movie_trailer_final_justice_the_first/)\n",
      "2024-07-08 13:51:22,276 - AInewsbot - INFO - [126. The World's First AI-Powered Movie Camera Transforms Filmed Footage - Feedly AI](https://petapixel.com/2024/07/08/the-worlds-first-ai-powered-movie-camera-transforms-filmed-footage-cmr-m1/)\n",
      "2024-07-08 13:51:22,276 - AInewsbot - INFO - [127. Ai is fun lol - Reddit](https://www.reddit.com/r/ChatGPT/comments/1dxqvjp/ai_is_fun_lol/)\n",
      "2024-07-08 13:51:22,277 - AInewsbot - INFO - [128. Vole claims all web content is freeware to be scraped for AI - Google News](https://www.fudzilla.com/news/ai/59307-vole-claims-all-web-content-is-freeware-to-be-scraped-for-ai)\n",
      "2024-07-08 13:51:22,279 - AInewsbot - INFO - [129. South Florida hospital using AI in labor and delivery ward - Feedly AI](https://www.cbsnews.com/miami/news/south-florida-hospital-using-ai-in-labor-and-delivery-ward/)\n",
      "2024-07-08 13:51:22,279 - AInewsbot - INFO - [130. AI can enhance health care and enable cost savings, lawmaker says - Google News](https://www.nextgov.com/artificial-intelligence/2024/07/ai-can-enhance-health-care-and-enable-cost-savings-lawmaker-says/397829/)\n",
      "2024-07-08 13:51:22,279 - AInewsbot - INFO - [131. AI-Driven Behavior Change Could Transform Health Care - Google News](https://time.com/6994739/ai-behavior-change-health-care/)\n",
      "2024-07-08 13:51:22,280 - AInewsbot - INFO - [132. How AI And New Care Models Make Healthcare Easier, Cheaper, And Better - Google News](https://www.forbes.com/sites/stephenwunker/2024/07/08/how-ai-and-new-care-models-make-healthcare-easier-cheaper-and-better/)\n",
      "2024-07-08 13:51:22,280 - AInewsbot - INFO - [133. U.S. Access Board Information Session: Foundation on Artificial Intelligence and Disability - Google News](https://cdt.org/event/u-s-access-board-information-session-foundation-on-artificial-intelligence-and-disability/)\n",
      "2024-07-08 13:51:22,280 - AInewsbot - INFO - [134. Government, Partners Plan Together for Accessible AI - Google News](https://www.govtech.com/artificial-intelligence/government-partners-plan-together-for-accessible-ai)\n",
      "2024-07-08 13:51:22,280 - AInewsbot - INFO - [135. We dont want to leave people behind: AI is helping disabled people in surprising new ways - Feedly AI](https://www.cnn.com/2024/07/08/tech/ai-assistive-technology-disabilities)\n",
      "2024-07-08 13:51:22,281 - AInewsbot - INFO - [136. Can AI Help With Special Ed.? There's Promiseand Reason to Be Cautious - Google News](https://www.edweek.org/teaching-learning/can-ai-help-with-special-ed-theres-promise-and-reason-to-be-cautious/2024/07)\n"
     ]
    },
    {
     "name": "stderr",
     "output_type": "stream",
     "text": [
      "2024-07-08 13:51:22,281 - AInewsbot - INFO - [137. Researchers Warn of Potential for Racial Bias in AI Apps in the Classroom - Feedly AI](https://www.kqed.org/mindshift/64139/researchers-warn-of-potential-for-racial-bias-in-ai-apps-in-the-classroom)\n",
      "2024-07-08 13:51:22,281 - AInewsbot - INFO - [138. UAB adds programs for students interested inartificial intelligence - Feedly AI](https://www.al.com/educationlab/2024/07/uab-adds-programs-for-students-interested-in-artificial-intelligence.html)\n",
      "2024-07-08 13:51:22,281 - AInewsbot - INFO - [139. How will the rise of AI in the workplace impact liberal arts education? - Feedly AI](https://www.highereddive.com/news/artificial-intelligence-liberal-arts-education/720640/)\n",
      "2024-07-08 13:51:22,281 - AInewsbot - INFO - [140. Mary Meeker urges higher ed to lead in AI - Google News](https://www.insidehighered.com/news/tech-innovation/artificial-intelligence/2024/07/08/mary-meeker-urges-higher-ed-lead-ai)\n"
     ]
    }
   ],
   "source": [
    "html_str = \"\"\n",
    "for row in AIdf.itertuples():\n",
    "    log(f\"[{row.Index}. {row.title} - {row.src}]({row.url})\")\n",
    "    html_str += f'{row.Index}.<a href=\"{row.url}\">{row.title} - {row.src}</a><br />\\n'\n"
   ]
  },
  {
   "cell_type": "code",
   "execution_count": 121,
   "id": "4c6d4e9f",
   "metadata": {},
   "outputs": [],
   "source": [
    "# save headlines\n",
    "with open('headlines.html', 'w') as f:\n",
    "    f.write(html_str)\n"
   ]
  },
  {
   "cell_type": "code",
   "execution_count": 122,
   "id": "25c7617b",
   "metadata": {},
   "outputs": [
    {
     "name": "stderr",
     "output_type": "stream",
     "text": [
      "2024-07-08 13:51:30,159 - AInewsbot - INFO - Sending headlines email\n"
     ]
    }
   ],
   "source": [
    "# send mail\n",
    "log(\"Sending headlines email\")\n",
    "subject = f'AI headlines {datetime.now().strftime(\"%H:%M:%S\")}'\n",
    "send_gmail(subject, html_str)\n"
   ]
  },
  {
   "cell_type": "markdown",
   "id": "1ff0768a",
   "metadata": {},
   "source": [
    "# Save individual pages "
   ]
  },
  {
   "cell_type": "code",
   "execution_count": 124,
   "id": "9583fd28",
   "metadata": {},
   "outputs": [
    {
     "name": "stderr",
     "output_type": "stream",
     "text": [
      "2024-07-08 13:52:10,566 - AInewsbot - INFO - Queuing URLs for scraping\n"
     ]
    }
   ],
   "source": [
    "# fetch pages\n",
    "# Create a queue for multiprocessing and populate it \n",
    "log(\"Queuing URLs for scraping\")\n",
    "\n",
    "queue = multiprocessing.Queue()\n",
    "for row in AIdf.itertuples():\n",
    "    queue.put((row.id, row.url, row.title))\n",
    "    "
   ]
  },
  {
   "cell_type": "code",
   "execution_count": 125,
   "id": "fe930e25",
   "metadata": {},
   "outputs": [
    {
     "name": "stderr",
     "output_type": "stream",
     "text": [
      "2024-07-08 13:52:11,426 - AInewsbot - INFO - fetching 141 pages using 4 browsers\n",
      "2024-07-08 13:52:11,429 - AInewsbot - INFO - get_driver - 49319 Initializing webdriver\n",
      "2024-07-08 13:52:11,431 - AInewsbot - INFO - get_driver - 49319 Initializing webdriver\n",
      "2024-07-08 13:52:11,431 - AInewsbot - INFO - get_driver - 49319 Initializing webdriver\n",
      "2024-07-08 13:52:11,432 - AInewsbot - INFO - get_driver - 49319 Initializing webdriver\n",
      "2024-07-08 13:52:31,947 - AInewsbot - INFO - get_driver - Initialized webdriver profile\n",
      "2024-07-08 13:52:31,947 - AInewsbot - INFO - get_driver - Initialized webdriver profile\n",
      "2024-07-08 13:52:31,947 - AInewsbot - INFO - get_driver - Initialized webdriver profile\n",
      "2024-07-08 13:52:31,947 - AInewsbot - INFO - get_driver - Initialized webdriver profile\n",
      "2024-07-08 13:52:31,948 - AInewsbot - INFO - get_driver - Initialized webdriver service\n",
      "2024-07-08 13:52:31,948 - AInewsbot - INFO - get_driver - Initialized webdriver service\n",
      "2024-07-08 13:52:31,948 - AInewsbot - INFO - get_driver - Initialized webdriver service\n",
      "2024-07-08 13:52:31,949 - AInewsbot - INFO - get_driver - Initialized webdriver service\n",
      "2024-07-08 13:53:39,166 - AInewsbot - INFO - get_driver - Initialized webdriver\n",
      "2024-07-08 13:53:39,214 - AInewsbot - INFO - get_driver - Initialized webdriver\n",
      "2024-07-08 13:53:39,216 - AInewsbot - INFO - get_driver - Initialized webdriver\n",
      "2024-07-08 13:53:39,255 - AInewsbot - INFO - Processing https://www.digitaltrends.com/computing/claude-sonnet-vs-gpt-4o-comparison/\n",
      "2024-07-08 13:53:39,267 - AInewsbot - INFO - Processing https://www.techopedia.com/news/why-claude-3-5-sonnet-is-the-ai-to-watch-not-chatgpt-4o\n",
      "2024-07-08 13:53:39,269 - AInewsbot - INFO - get_driver - Initialized webdriver\n",
      "2024-07-08 13:53:39,278 - AInewsbot - INFO - Processing https://www.marktechpost.com/2024/07/05/claude-ai-a-comprehensive-overview-exploring-the-advanced-capabilities-and-ethical-design-of-anthropics-leading-language-model/\n",
      "2024-07-08 13:53:39,279 - AInewsbot - INFO - get_url(https://www.digitaltrends.com/computing/claude-sonnet-vs-gpt-4o-comparison/) - starting get_files https://www.digitaltrends.com/computing/claude-sonnet-vs-gpt-4o-comparison/\n",
      "2024-07-08 13:53:39,281 - AInewsbot - INFO - get_url(https://www.techopedia.com/news/why-claude-3-5-sonnet-is-the-ai-to-watch-not-chatgpt-4o) - starting get_files https://www.techopedia.com/news/why-claude-3-5-sonnet-is-the-ai-to-watch-not-chatgpt-4o\n",
      "2024-07-08 13:53:39,287 - AInewsbot - INFO - Processing https://www.geeky-gadgets.com/claude-projects/\n",
      "2024-07-08 13:53:39,287 - AInewsbot - INFO - get_url(https://www.marktechpost.com/2024/07/05/claude-ai-a-comprehensive-overview-exploring-the-advanced-capabilities-and-ethical-design-of-anthropics-leading-language-model/) - starting get_files https://www.marktechpost.com/2024/07/05/claude-ai-a-comprehensive-overview-exploring-the-advanced-capabilities-and-ethical-design-of-anthropics-leading-language-model/\n",
      "2024-07-08 13:53:39,297 - AInewsbot - INFO - get_url(https://www.geeky-gadgets.com/claude-projects/) - starting get_files https://www.geeky-gadgets.com/claude-projects/\n",
      "2024-07-08 13:53:51,207 - AInewsbot - INFO - get_url(Exciting Claude 3 Projects with internal knowledge, 200k context window) - Saving Exciting_Claude_3_Projects_with_internal_knowledge__200k_context_window_20240708_135351.html as utf-8\n",
      "2024-07-08 13:53:51,209 - AInewsbot - INFO - Processing https://www.reddit.com/r/technology/comments/1dxw16s/university_examiners_fail_to_spot_chatgpt_answers/\n",
      "2024-07-08 13:53:51,210 - AInewsbot - INFO - get_url(https://www.reddit.com/r/technology/comments/1dxw16s/university_examiners_fail_to_spot_chatgpt_answers/) - starting get_files https://www.reddit.com/r/technology/comments/1dxw16s/university_examiners_fail_to_spot_chatgpt_answers/\n",
      "2024-07-08 13:53:51,531 - AInewsbot - INFO - get_url(Why Claude 3.5 Sonnet is the AI to Watch, Not ChatGPT-4o) - Saving Why_Claude_3_5_Sonnet_is_the_AI_to_Watch__Not_ChatGPT-4o_20240708_135351.html as utf-8\n",
      "2024-07-08 13:53:51,534 - AInewsbot - INFO - Processing https://newatlas.com/technology/chatgpt-is-funnier/\n",
      "2024-07-08 13:53:51,535 - AInewsbot - INFO - get_url(https://newatlas.com/technology/chatgpt-is-funnier/) - starting get_files https://newatlas.com/technology/chatgpt-is-funnier/\n",
      "2024-07-08 13:53:51,796 - AInewsbot - INFO - get_url(Heres how Claude 3.5 Sonnet and GPT-4o stack up in a direct comparison) - Saving Heres_how_Claude_3_5_Sonnet_and_GPT-4o_stack_up_in_a_direct_comparison_20240708_135351.html as utf-8\n",
      "2024-07-08 13:53:51,798 - AInewsbot - INFO - Processing https://www.reddit.com/r/technology/comments/1dxwcyv/how_good_is_chatgpt_at_coding_really_study_finds/\n",
      "2024-07-08 13:53:51,798 - AInewsbot - INFO - get_url(https://www.reddit.com/r/technology/comments/1dxwcyv/how_good_is_chatgpt_at_coding_really_study_finds/) - starting get_files https://www.reddit.com/r/technology/comments/1dxwcyv/how_good_is_chatgpt_at_coding_really_study_finds/\n",
      "2024-07-08 13:53:52,721 - AInewsbot - INFO - get_url(Claude AI: A Comprehensive Overview Exploring the Advanced Capabilities and Ethical Design of Anthropics Leading Language Model) - Saving Claude_AI__A_Comprehensive_Overview_Exploring_the_Advanced_Capabilities_and_Ethical_Design_of_Anthropics_Leading_Language_Model_20240708_135352.html as utf-8\n",
      "2024-07-08 13:53:52,725 - AInewsbot - INFO - Processing https://www.bloomberg.com/opinion/articles/2024-07-08/how-to-use-chatgpt-to-write-a-cover-letter-and-apply-for-a-job\n",
      "2024-07-08 13:53:52,732 - AInewsbot - INFO - get_url(https://www.bloomberg.com/opinion/articles/2024-07-08/how-to-use-chatgpt-to-write-a-cover-letter-and-apply-for-a-job) - starting get_files https://www.bloomberg.com/opinion/articles/2024-07-08/how-to-use-chatgpt-to-write-a-cover-letter-and-apply-for-a-job\n",
      "2024-07-08 13:54:03,474 - AInewsbot - INFO - get_url(How Good Is ChatGPT at Coding, Really? Study finds that while AI can be great, it also struggles due to training limitations) - Saving How_Good_Is_ChatGPT_at_Coding__Really__Study_finds_that_while_AI_can_be_great__it_also_struggles_due_to_training_limitations_20240708_135403.html as utf-8\n",
      "2024-07-08 13:54:03,478 - AInewsbot - INFO - Processing https://www.fastcompany.com/91147661/can-chatgpt-handle-hr-heres-what-happened-when-we-put-it-to-the-test\n",
      "2024-07-08 13:54:03,478 - AInewsbot - INFO - get_url(https://www.fastcompany.com/91147661/can-chatgpt-handle-hr-heres-what-happened-when-we-put-it-to-the-test) - starting get_files https://www.fastcompany.com/91147661/can-chatgpt-handle-hr-heres-what-happened-when-we-put-it-to-the-test\n",
      "2024-07-08 13:54:03,897 - AInewsbot - INFO - get_url(University examiners fail to spot ChatGPT answers in real-world test) - Saving University_examiners_fail_to_spot_ChatGPT_answers_in_real-world_test_20240708_135403.html as utf-8\n",
      "2024-07-08 13:54:03,899 - AInewsbot - INFO - Processing https://www.fastcompany.com/91147661/can-chatgpt-handle-hr-heres-what-happened-when-we-put-it-to-the-test\n",
      "2024-07-08 13:54:03,899 - AInewsbot - INFO - get_url(https://www.fastcompany.com/91147661/can-chatgpt-handle-hr-heres-what-happened-when-we-put-it-to-the-test) - starting get_files https://www.fastcompany.com/91147661/can-chatgpt-handle-hr-heres-what-happened-when-we-put-it-to-the-test\n",
      "2024-07-08 13:54:04,206 - AInewsbot - INFO - get_url(ChatGPT is funnier than humans (and its no joke for professional writers)) - Saving ChatGPT_is_funnier_than_humans__and_its_no_joke_for_professional_writers__20240708_135404.html as utf-8\n",
      "2024-07-08 13:54:04,208 - AInewsbot - INFO - Processing https://www.reddit.com/r/ChatGPT/comments/1dxw1jn/chatgpt_accurately_guesses_my_weight_based_on_a/\n",
      "2024-07-08 13:54:04,209 - AInewsbot - INFO - get_url(https://www.reddit.com/r/ChatGPT/comments/1dxw1jn/chatgpt_accurately_guesses_my_weight_based_on_a/) - starting get_files https://www.reddit.com/r/ChatGPT/comments/1dxw1jn/chatgpt_accurately_guesses_my_weight_based_on_a/\n",
      "2024-07-08 13:54:04,623 - AInewsbot - INFO - get_url(Go Ahead, Write Your Cover Letter With ChatGPT) - Saving Go_Ahead__Write_Your_Cover_Letter_With_ChatGPT_20240708_135404.html as utf-8\n",
      "2024-07-08 13:54:04,626 - AInewsbot - INFO - Processing https://www.reddit.com/r/ChatGPT/comments/1dxmwx1/i_asked_chat_gpt_to_depict_bhutans_flag_in_ascii/\n"
     ]
    },
    {
     "name": "stderr",
     "output_type": "stream",
     "text": [
      "2024-07-08 13:54:04,627 - AInewsbot - INFO - get_url(https://www.reddit.com/r/ChatGPT/comments/1dxmwx1/i_asked_chat_gpt_to_depict_bhutans_flag_in_ascii/) - starting get_files https://www.reddit.com/r/ChatGPT/comments/1dxmwx1/i_asked_chat_gpt_to_depict_bhutans_flag_in_ascii/\n",
      "2024-07-08 13:54:14,103 - AInewsbot - INFO - get_url(Can ChatGPT handle HR? Here's what happened when we put it to the test) - Saving Can_ChatGPT_handle_HR__Here_s_what_happened_when_we_put_it_to_the_test_20240708_135414.html as utf-8\n",
      "2024-07-08 13:54:14,105 - AInewsbot - INFO - Processing https://news.bloomberglaw.com/litigation/openai-github-beat-digital-copyright-claims-from-programmers\n",
      "2024-07-08 13:54:14,106 - AInewsbot - INFO - get_url(https://news.bloomberglaw.com/litigation/openai-github-beat-digital-copyright-claims-from-programmers) - starting get_files https://news.bloomberglaw.com/litigation/openai-github-beat-digital-copyright-claims-from-programmers\n",
      "2024-07-08 13:54:14,304 - AInewsbot - INFO - get_url(Can ChatGPT handle HR? Heres what happened when we put it to the test) - Saving Can_ChatGPT_handle_HR__Heres_what_happened_when_we_put_it_to_the_test_20240708_135414.html as utf-8\n",
      "2024-07-08 13:54:14,306 - AInewsbot - INFO - Processing http://tokenpost.com/Judge-Partially-Dismisses-1B-Lawsuit-Against-Microsoft-OpenAI-and-GitHub-Over-AI-Code-Use-12253\n",
      "2024-07-08 13:54:14,306 - AInewsbot - INFO - get_url(http://tokenpost.com/Judge-Partially-Dismisses-1B-Lawsuit-Against-Microsoft-OpenAI-and-GitHub-Over-AI-Code-Use-12253) - starting get_files http://tokenpost.com/Judge-Partially-Dismisses-1B-Lawsuit-Against-Microsoft-OpenAI-and-GitHub-Over-AI-Code-Use-12253\n",
      "2024-07-08 13:54:16,149 - AInewsbot - INFO - get_url(I asked chat gpt to depict Bhutans flag in ascii.) - Saving I_asked_chat_gpt_to_depict_Bhutans_flag_in_ascii__20240708_135416.html as utf-8\n",
      "2024-07-08 13:54:16,151 - AInewsbot - INFO - Processing https://cointelegraph.com/news/judge-dismisses-coders-dmca-claims-microsoft-open-ai-artificial-intelligence-git-hub\n",
      "2024-07-08 13:54:16,151 - AInewsbot - INFO - get_url(https://cointelegraph.com/news/judge-dismisses-coders-dmca-claims-microsoft-open-ai-artificial-intelligence-git-hub) - starting get_files https://cointelegraph.com/news/judge-dismisses-coders-dmca-claims-microsoft-open-ai-artificial-intelligence-git-hub\n",
      "2024-07-08 13:54:16,517 - AInewsbot - INFO - get_url(ChatGPT accurately guesses my weight based on a photo. I weigh 167) - Saving ChatGPT_accurately_guesses_my_weight_based_on_a_photo__I_weigh_167_20240708_135416.html as utf-8\n",
      "2024-07-08 13:54:16,520 - AInewsbot - INFO - Processing https://github.com/BuilderIO/micro-agent\n",
      "2024-07-08 13:54:16,520 - AInewsbot - INFO - get_url(https://github.com/BuilderIO/micro-agent) - starting get_files https://github.com/BuilderIO/micro-agent\n",
      "2024-07-08 13:54:25,763 - AInewsbot - INFO - get_url(OpenAI, GitHub Beat Digital Copyright Claims From Programmers) - Saving OpenAI__GitHub_Beat_Digital_Copyright_Claims_From_Programmers_20240708_135425.html as utf-8\n",
      "2024-07-08 13:54:25,765 - AInewsbot - INFO - Processing https://hackernoon.com/converting-epicsstories-into-pseudocode-using-transformers\n",
      "2024-07-08 13:54:25,766 - AInewsbot - INFO - get_url(https://hackernoon.com/converting-epicsstories-into-pseudocode-using-transformers) - starting get_files https://hackernoon.com/converting-epicsstories-into-pseudocode-using-transformers\n",
      "2024-07-08 13:54:26,040 - AInewsbot - INFO - get_url(Judge Partially Dismisses $1B Lawsuit Against Microsoft, OpenAI, and GitHub Over AI Code Use) - Saving Judge_Partially_Dismisses__1B_Lawsuit_Against_Microsoft__OpenAI__and_GitHub_Over_AI_Code_Use_20240708_135426.html as utf-8\n",
      "2024-07-08 13:54:26,043 - AInewsbot - INFO - Processing https://hackernoon.com/the-evolution-of-text-to-code-and-pseudocode-automation\n",
      "2024-07-08 13:54:26,044 - AInewsbot - INFO - get_url(https://hackernoon.com/the-evolution-of-text-to-code-and-pseudocode-automation) - starting get_files https://hackernoon.com/the-evolution-of-text-to-code-and-pseudocode-automation\n",
      "2024-07-08 13:54:29,799 - AInewsbot - INFO - get_url(Judge dismisses coders' DMCA claims against Microsoft, OpenAI and GitHub) - Saving Judge_dismisses_coders__DMCA_claims_against_Microsoft__OpenAI_and_GitHub_20240708_135429.html as utf-8\n",
      "2024-07-08 13:54:29,801 - AInewsbot - INFO - Processing https://hackernoon.com/transforming-text-to-code-an-approach-to-efficient-agile-development\n",
      "2024-07-08 13:54:29,802 - AInewsbot - INFO - get_url(https://hackernoon.com/transforming-text-to-code-an-approach-to-efficient-agile-development) - starting get_files https://hackernoon.com/transforming-text-to-code-an-approach-to-efficient-agile-development\n",
      "2024-07-08 13:54:31,590 - AInewsbot - INFO - get_url(Micro-agent: make an AI write code until it passes an unit test) - Saving Micro-agent__make_an_AI_write_code_until_it_passes_an_unit_test_20240708_135431.html as utf-8\n",
      "2024-07-08 13:54:31,592 - AInewsbot - INFO - Processing https://www.ictworks.org/apply-now-gbp-150000-artificial-intelligence-research-grants/\n",
      "2024-07-08 13:54:31,592 - AInewsbot - INFO - get_url(https://www.ictworks.org/apply-now-gbp-150000-artificial-intelligence-research-grants/) - starting get_files https://www.ictworks.org/apply-now-gbp-150000-artificial-intelligence-research-grants/\n",
      "2024-07-08 13:54:36,581 - AInewsbot - INFO - get_url(Converting Epics/Stories into Pseudocode using Transformers) - Saving Converting_Epics_Stories_into_Pseudocode_using_Transformers_20240708_135436.html as utf-8\n",
      "2024-07-08 13:54:36,583 - AInewsbot - INFO - Processing https://www.morningstar.com/news/pr-newswire/20240708ny51994/exiger-leads-market-in-ai-driven-multi-tier-visibility-with-versed-ai-acquisition\n",
      "2024-07-08 13:54:36,583 - AInewsbot - INFO - get_url(https://www.morningstar.com/news/pr-newswire/20240708ny51994/exiger-leads-market-in-ai-driven-multi-tier-visibility-with-versed-ai-acquisition) - starting get_files https://www.morningstar.com/news/pr-newswire/20240708ny51994/exiger-leads-market-in-ai-driven-multi-tier-visibility-with-versed-ai-acquisition\n",
      "2024-07-08 13:54:36,937 - AInewsbot - INFO - get_url(The Evolution of Text-to-Code and Pseudocode Automation) - Saving The_Evolution_of_Text-to-Code_and_Pseudocode_Automation_20240708_135436.html as utf-8\n",
      "2024-07-08 13:54:36,938 - AInewsbot - INFO - Processing https://time.com/6993603/ai-bitcoin-mining-artificial-intelligence-energy-use/\n",
      "2024-07-08 13:54:36,938 - AInewsbot - INFO - get_url(https://time.com/6993603/ai-bitcoin-mining-artificial-intelligence-energy-use/) - starting get_files https://time.com/6993603/ai-bitcoin-mining-artificial-intelligence-energy-use/\n",
      "2024-07-08 13:54:40,999 - AInewsbot - INFO - get_url(Transforming Text to Code: An Approach to Efficient Agile Development) - Saving Transforming_Text_to_Code__An_Approach_to_Efficient_Agile_Development_20240708_135440.html as utf-8\n",
      "2024-07-08 13:54:41,001 - AInewsbot - INFO - Processing https://www.axios.com/2024/07/08/ai-stock-market\n",
      "2024-07-08 13:54:41,001 - AInewsbot - INFO - get_url(https://www.axios.com/2024/07/08/ai-stock-market) - starting get_files https://www.axios.com/2024/07/08/ai-stock-market\n",
      "2024-07-08 13:54:44,355 - AInewsbot - INFO - get_url(Apply Now: GBP 150,000 Artificial Intelligence Research Grants) - Saving Apply_Now__GBP_150_000_Artificial_Intelligence_Research_Grants_20240708_135444.html as utf-8\n",
      "2024-07-08 13:54:44,358 - AInewsbot - INFO - Processing https://thecyberexpress.com/next-gen-ai-platforms-for-enterprise-success/\n",
      "2024-07-08 13:54:44,358 - AInewsbot - INFO - get_url(https://thecyberexpress.com/next-gen-ai-platforms-for-enterprise-success/) - starting get_files https://thecyberexpress.com/next-gen-ai-platforms-for-enterprise-success/\n",
      "2024-07-08 13:54:47,581 - AInewsbot - INFO - get_url(Why So Many Bitcoin Mining Companies Are Pivoting to AI) - Saving Why_So_Many_Bitcoin_Mining_Companies_Are_Pivoting_to_AI_20240708_135447.html as utf-8\n",
      "2024-07-08 13:54:47,583 - AInewsbot - INFO - Processing https://www.bloomberg.com/news/articles/2024-07-08/abu-dhabi-investment-firm-lunate-takes-on-ai-firm-g42-s-china-fund\n",
      "2024-07-08 13:54:47,584 - AInewsbot - INFO - get_url(https://www.bloomberg.com/news/articles/2024-07-08/abu-dhabi-investment-firm-lunate-takes-on-ai-firm-g42-s-china-fund) - starting get_files https://www.bloomberg.com/news/articles/2024-07-08/abu-dhabi-investment-firm-lunate-takes-on-ai-firm-g42-s-china-fund\n"
     ]
    },
    {
     "name": "stderr",
     "output_type": "stream",
     "text": [
      "2024-07-08 13:54:49,007 - AInewsbot - INFO - get_url(Exiger Leads Market in AI-Driven Multi-Tier Visibility with Versed AI Acquisition) - Saving Exiger_Leads_Market_in_AI-Driven_Multi-Tier_Visibility_with_Versed_AI_Acquisition_20240708_135449.html as utf-8\n",
      "2024-07-08 13:54:49,009 - AInewsbot - INFO - Processing https://aithority.com/machine-learning/openai-startup-fund-and-thrive-global-launch-thrive-ai-health-offering-a-hyper-personalized-ai-health-coach/\n",
      "2024-07-08 13:54:49,010 - AInewsbot - INFO - get_url(https://aithority.com/machine-learning/openai-startup-fund-and-thrive-global-launch-thrive-ai-health-offering-a-hyper-personalized-ai-health-coach/) - starting get_files https://aithority.com/machine-learning/openai-startup-fund-and-thrive-global-launch-thrive-ai-health-offering-a-hyper-personalized-ai-health-coach/\n",
      "2024-07-08 13:54:52,037 - AInewsbot - INFO - get_url(How AI is driving the venture capital market) - Saving How_AI_is_driving_the_venture_capital_market_20240708_135452.html as utf-8\n",
      "2024-07-08 13:54:52,040 - AInewsbot - INFO - Processing https://n24.com.tr/en/aidan-gomezs-cohere-reaches-5-billion-valuation-with-nvidias-backing\n",
      "2024-07-08 13:54:52,044 - AInewsbot - INFO - get_url(https://n24.com.tr/en/aidan-gomezs-cohere-reaches-5-billion-valuation-with-nvidias-backing) - starting get_files https://n24.com.tr/en/aidan-gomezs-cohere-reaches-5-billion-valuation-with-nvidias-backing\n",
      "2024-07-08 13:54:56,768 - AInewsbot - INFO - get_url(Revolutionizing Finance: Harnessing Next-Gen AI Platforms for Enterprise Success) - Saving Revolutionizing_Finance__Harnessing_Next-Gen_AI_Platforms_for_Enterprise_Success_20240708_135456.html as utf-8\n",
      "2024-07-08 13:54:56,771 - AInewsbot - INFO - Processing https://www.cnbc.com/video/2024/07/06/cohere-ceo-and-ex-google-researcher-aidan-gomez-on-how-ai-makes-money.html\n",
      "2024-07-08 13:54:56,771 - AInewsbot - INFO - get_url(https://www.cnbc.com/video/2024/07/06/cohere-ceo-and-ex-google-researcher-aidan-gomez-on-how-ai-makes-money.html) - starting get_files https://www.cnbc.com/video/2024/07/06/cohere-ceo-and-ex-google-researcher-aidan-gomez-on-how-ai-makes-money.html\n",
      "2024-07-08 13:55:02,052 - AInewsbot - INFO - get_url(Abu Dhabi Investment Firm Lunate Takes On AI Firm G42s China Fund) - Saving Abu_Dhabi_Investment_Firm_Lunate_Takes_On_AI_Firm_G42s_China_Fund_20240708_135502.html as utf-8\n",
      "2024-07-08 13:55:02,054 - AInewsbot - INFO - Processing https://www.cnbcafrica.com/2024/how-cohere-ceo-aidan-gomez-says-ai-will-directly-profit-companies/\n",
      "2024-07-08 13:55:02,054 - AInewsbot - INFO - get_url(https://www.cnbcafrica.com/2024/how-cohere-ceo-aidan-gomez-says-ai-will-directly-profit-companies/) - starting get_files https://www.cnbcafrica.com/2024/how-cohere-ceo-aidan-gomez-says-ai-will-directly-profit-companies/\n",
      "2024-07-08 13:55:02,361 - AInewsbot - INFO - get_url(OpenAI Startup Fund and Thrive Global Launch Thrive AI Health, Offering a Hyper-Personalized AI Health Coach) - Saving OpenAI_Startup_Fund_and_Thrive_Global_Launch_Thrive_AI_Health__Offering_a_Hyper-Personalized_AI_Health_Coach_20240708_135502.html as utf-8\n",
      "2024-07-08 13:55:02,363 - AInewsbot - INFO - Processing https://www.pymnts.com/artificial-intelligence-2/2024/synerise-raises-8-5-million-to-expand-ai-driven-behavioral-modeling-solutions/\n",
      "2024-07-08 13:55:02,363 - AInewsbot - INFO - get_url(https://www.pymnts.com/artificial-intelligence-2/2024/synerise-raises-8-5-million-to-expand-ai-driven-behavioral-modeling-solutions/) - starting get_files https://www.pymnts.com/artificial-intelligence-2/2024/synerise-raises-8-5-million-to-expand-ai-driven-behavioral-modeling-solutions/\n",
      "2024-07-08 13:55:04,561 - AInewsbot - INFO - get_url(Aidan Gomez's Cohere Reaches $5 Billion Valuation with Nvidia's Backing) - Saving Aidan_Gomez_s_Cohere_Reaches__5_Billion_Valuation_with_Nvidia_s_Backing_20240708_135504.html as utf-8\n",
      "2024-07-08 13:55:04,563 - AInewsbot - INFO - Processing https://www.bloomberg.com/news/articles/2024-07-08/hebbia-raises-130-million-for-ai-that-helps-firms-answer-complex-questions\n",
      "2024-07-08 13:55:04,563 - AInewsbot - INFO - get_url(https://www.bloomberg.com/news/articles/2024-07-08/hebbia-raises-130-million-for-ai-that-helps-firms-answer-complex-questions) - starting get_files https://www.bloomberg.com/news/articles/2024-07-08/hebbia-raises-130-million-for-ai-that-helps-firms-answer-complex-questions\n",
      "2024-07-08 13:55:07,483 - AInewsbot - INFO - get_url(Cohere CEO and ex-Google researcher Aidan Gomez on how his AI models make money for companies) - Saving Cohere_CEO_and_ex-Google_researcher_Aidan_Gomez_on_how_his_AI_models_make_money_for_companies_20240708_135507.html as utf-8\n",
      "2024-07-08 13:55:07,487 - AInewsbot - INFO - Processing https://www.bloomberg.com/news/articles/2024-07-08/hebbia-raises-130-million-for-ai-that-helps-firms-answer-complex-questions\n",
      "2024-07-08 13:55:07,487 - AInewsbot - INFO - get_url(https://www.bloomberg.com/news/articles/2024-07-08/hebbia-raises-130-million-for-ai-that-helps-firms-answer-complex-questions) - starting get_files https://www.bloomberg.com/news/articles/2024-07-08/hebbia-raises-130-million-for-ai-that-helps-firms-answer-complex-questions\n",
      "2024-07-08 13:55:16,741 - AInewsbot - INFO - get_url(Hebbia Raises $130 Million for AI That Helps Firms Answer Complex Questions) - Saving Hebbia_Raises__130_Million_for_AI_That_Helps_Firms_Answer_Complex_Questions_20240708_135516.html as utf-8\n",
      "2024-07-08 13:55:16,744 - AInewsbot - INFO - Processing https://finbold.com/2-stocks-to-turn-100-into-1000-for-end-of-2024/\n",
      "2024-07-08 13:55:16,744 - AInewsbot - INFO - get_url(https://finbold.com/2-stocks-to-turn-100-into-1000-for-end-of-2024/) - starting get_files https://finbold.com/2-stocks-to-turn-100-into-1000-for-end-of-2024/\n",
      "2024-07-08 13:55:16,996 - AInewsbot - INFO - get_url(How Cohere CEO Aidan Gomez Says AI Will Directly Profit Companies) - Saving How_Cohere_CEO_Aidan_Gomez_Says_AI_Will_Directly_Profit_Companies_20240708_135516.html as utf-8\n",
      "2024-07-08 13:55:16,998 - AInewsbot - INFO - Processing https://finbold.com/ethereum-or-solana-we-asked-chatgpt-4o-which-stock-is-a-better-buy-for-2024/\n",
      "2024-07-08 13:55:16,999 - AInewsbot - INFO - get_url(https://finbold.com/ethereum-or-solana-we-asked-chatgpt-4o-which-stock-is-a-better-buy-for-2024/) - starting get_files https://finbold.com/ethereum-or-solana-we-asked-chatgpt-4o-which-stock-is-a-better-buy-for-2024/\n",
      "2024-07-08 13:55:17,087 - AInewsbot - INFO - get_url(Synerise Raises $8.5 Million to Expand AI-Driven Behavioral Modeling Solutions) - Saving Synerise_Raises__8_5_Million_to_Expand_AI-Driven_Behavioral_Modeling_Solutions_20240708_135517.html as utf-8\n",
      "2024-07-08 13:55:17,090 - AInewsbot - INFO - Processing https://www.benzinga.com/analyst-ratings/analyst-color/24/07/39660003/tesla-bull-says-ev-giants-fsd-revenue-nearing-1b-annual-run-rate-urges-breaking-out\n",
      "2024-07-08 13:55:17,090 - AInewsbot - INFO - get_url(https://www.benzinga.com/analyst-ratings/analyst-color/24/07/39660003/tesla-bull-says-ev-giants-fsd-revenue-nearing-1b-annual-run-rate-urges-breaking-out) - starting get_files https://www.benzinga.com/analyst-ratings/analyst-color/24/07/39660003/tesla-bull-says-ev-giants-fsd-revenue-nearing-1b-annual-run-rate-urges-breaking-out\n",
      "2024-07-08 13:55:19,264 - AInewsbot - INFO - get_url(New York-based Hebbia, which uses AI to help companies sift through documents, raised $130M led by a16z, a source says at a ~$700M post-money valuation (Rachel Metz/Bloomberg)) - Saving New_York-based_Hebbia__which_uses_AI_to_help_companies_sift_through_documents__raised__130M_led_by_a16z__a_source_says_at_a___700M_post-money_valuation__Rachel_Metz_Bloomberg__20240708_135519.html as utf-8\n",
      "2024-07-08 13:55:19,266 - AInewsbot - INFO - Processing https://www.marketwatch.com/story/teslas-upcoming-earnings-report-needs-to-divulge-its-ai-plans-and-nvidias-role-16cde94e\n",
      "2024-07-08 13:55:19,266 - AInewsbot - INFO - get_url(https://www.marketwatch.com/story/teslas-upcoming-earnings-report-needs-to-divulge-its-ai-plans-and-nvidias-role-16cde94e) - starting get_files https://www.marketwatch.com/story/teslas-upcoming-earnings-report-needs-to-divulge-its-ai-plans-and-nvidias-role-16cde94e\n",
      "2024-07-08 13:55:27,574 - AInewsbot - INFO - get_url(2 stocks to turn $100 into $1,000 for end of 2024) - Saving 2_stocks_to_turn__100_into__1_000_for_end_of_2024_20240708_135527.html as utf-8\n"
     ]
    },
    {
     "name": "stderr",
     "output_type": "stream",
     "text": [
      "2024-07-08 13:55:27,579 - AInewsbot - INFO - Processing https://readwrite.com/ai-must-find-annual-revenue-more-than-the-gdp-of-singapore-to-justify-expenditure/\n",
      "2024-07-08 13:55:27,580 - AInewsbot - INFO - get_url(https://readwrite.com/ai-must-find-annual-revenue-more-than-the-gdp-of-singapore-to-justify-expenditure/) - starting get_files https://readwrite.com/ai-must-find-annual-revenue-more-than-the-gdp-of-singapore-to-justify-expenditure/\n",
      "2024-07-08 13:55:27,801 - AInewsbot - INFO - get_url(Ethereum or Solana? We asked ChatGPT-4o which stock is a better buy for 2024) - Saving Ethereum_or_Solana__We_asked_ChatGPT-4o_which_stock_is_a_better_buy_for_2024_20240708_135527.html as utf-8\n",
      "2024-07-08 13:55:27,802 - AInewsbot - INFO - Processing https://www.reddit.com/r/technews/comments/1dxtt72/big_tech_needs_to_generate_600_billion_in_annual/\n",
      "2024-07-08 13:55:27,802 - AInewsbot - INFO - get_url(https://www.reddit.com/r/technews/comments/1dxtt72/big_tech_needs_to_generate_600_billion_in_annual/) - starting get_files https://www.reddit.com/r/technews/comments/1dxtt72/big_tech_needs_to_generate_600_billion_in_annual/\n",
      "2024-07-08 13:55:27,956 - AInewsbot - INFO - get_url(Tesla Bull Says EV Giant's FSD Revenue Nearing $1B Annual Run-Rate, Urges Breaking Out AI And Robotics Numbers) - Saving Tesla_Bull_Says_EV_Giant_s_FSD_Revenue_Nearing__1B_Annual_Run-Rate__Urges_Breaking_Out_AI_And_Robotics_Numbers_20240708_135527.html as utf-8\n",
      "2024-07-08 13:55:27,960 - AInewsbot - INFO - Processing https://seekingalpha.com/article/4702847-arista-networks-nvidia-isnt-the-only-ai-gold-rush-beneficiary\n",
      "2024-07-08 13:55:27,963 - AInewsbot - INFO - get_url(https://seekingalpha.com/article/4702847-arista-networks-nvidia-isnt-the-only-ai-gold-rush-beneficiary) - starting get_files https://seekingalpha.com/article/4702847-arista-networks-nvidia-isnt-the-only-ai-gold-rush-beneficiary\n",
      "2024-07-08 13:55:32,363 - AInewsbot - INFO - get_url(Teslas upcoming earnings report has to divulge its AI plans and Nvidias role) - Saving Teslas_upcoming_earnings_report_has_to_divulge_its_AI_plans_and_Nvidias_role_20240708_135532.html as utf-8\n",
      "2024-07-08 13:55:32,365 - AInewsbot - INFO - Processing https://finance.yahoo.com/news/billionaires-selling-nvidia-stock-buying-091200525.html\n",
      "2024-07-08 13:55:32,366 - AInewsbot - INFO - get_url(https://finance.yahoo.com/news/billionaires-selling-nvidia-stock-buying-091200525.html) - starting get_files https://finance.yahoo.com/news/billionaires-selling-nvidia-stock-buying-091200525.html\n",
      "2024-07-08 13:55:38,206 - AInewsbot - INFO - get_url(AI industry needs annual revenues of more than the UAEs GDP to offset costs) - Saving AI_industry_needs_annual_revenues_of_more_than_the_UAEs_GDP_to_offset_costs_20240708_135538.html as utf-8\n",
      "2024-07-08 13:55:38,209 - AInewsbot - INFO - Processing https://www.barrons.com/articles/nvidia-stock-price-antitrust-8d2d3b57\n",
      "2024-07-08 13:55:38,209 - AInewsbot - INFO - get_url(https://www.barrons.com/articles/nvidia-stock-price-antitrust-8d2d3b57) - starting get_files https://www.barrons.com/articles/nvidia-stock-price-antitrust-8d2d3b57\n",
      "2024-07-08 13:55:38,592 - AInewsbot - INFO - get_url(Arista Networks: Nvidia Isn't The Only AI Gold Rush Beneficiary (NYSE:ANET)) - Saving Arista_Networks__Nvidia_Isn_t_The_Only_AI_Gold_Rush_Beneficiary__NYSE_ANET__20240708_135538.html as utf-8\n",
      "2024-07-08 13:55:38,595 - AInewsbot - INFO - Processing https://investorplace.com/2024/07/3-ai-stocks-that-also-pay-dividends/\n",
      "2024-07-08 13:55:38,595 - AInewsbot - INFO - get_url(https://investorplace.com/2024/07/3-ai-stocks-that-also-pay-dividends/) - starting get_files https://investorplace.com/2024/07/3-ai-stocks-that-also-pay-dividends/\n",
      "2024-07-08 13:55:38,980 - AInewsbot - INFO - get_url(Big Tech needs to generate $600 billion in annual revenue to justify AI hardware expenditure) - Saving Big_Tech_needs_to_generate__600_billion_in_annual_revenue_to_justify_AI_hardware_expenditure_20240708_135538.html as utf-8\n",
      "2024-07-08 13:55:38,981 - AInewsbot - INFO - Processing https://www.barrons.com/articles/3-stocks-to-benefit-from-the-ai-datacenter-power-boom-7c07b498\n",
      "2024-07-08 13:55:38,982 - AInewsbot - INFO - get_url(https://www.barrons.com/articles/3-stocks-to-benefit-from-the-ai-datacenter-power-boom-7c07b498) - starting get_files https://www.barrons.com/articles/3-stocks-to-benefit-from-the-ai-datacenter-power-boom-7c07b498\n",
      "2024-07-08 13:55:43,402 - AInewsbot - INFO - get_url(Billionaires Are Selling Nvidia Stock and Buying 2 Supercharged Artificial Intelligence (AI) Stocks Instead) - Saving Billionaires_Are_Selling_Nvidia_Stock_and_Buying_2_Supercharged_Artificial_Intelligence__AI__Stocks_Instead_20240708_135543.html as utf-8\n",
      "2024-07-08 13:55:43,404 - AInewsbot - INFO - Processing https://www.theglobeandmail.com/investing/markets/inside-the-market/article-two-canadian-stocks-set-to-benefit-from-ai-driven-datacenter-expansion/\n",
      "2024-07-08 13:55:43,405 - AInewsbot - INFO - get_url(https://www.theglobeandmail.com/investing/markets/inside-the-market/article-two-canadian-stocks-set-to-benefit-from-ai-driven-datacenter-expansion/) - starting get_files https://www.theglobeandmail.com/investing/markets/inside-the-market/article-two-canadian-stocks-set-to-benefit-from-ai-driven-datacenter-expansion/\n",
      "2024-07-08 13:55:48,935 - AInewsbot - INFO - get_url(Nvidia Stock Gains Amid AI Chip Antitrust Scrutiny) - Saving Nvidia_Stock_Gains_Amid_AI_Chip_Antitrust_Scrutiny_20240708_135548.html as utf-8\n",
      "2024-07-08 13:55:48,937 - AInewsbot - INFO - Processing https://www.marketwatch.com/story/cornings-stock-soars-7-after-company-raises-q2-guidance-to-reflect-ai-bump-165f51b6\n",
      "2024-07-08 13:55:48,937 - AInewsbot - INFO - get_url(https://www.marketwatch.com/story/cornings-stock-soars-7-after-company-raises-q2-guidance-to-reflect-ai-bump-165f51b6) - starting get_files https://www.marketwatch.com/story/cornings-stock-soars-7-after-company-raises-q2-guidance-to-reflect-ai-bump-165f51b6\n",
      "2024-07-08 13:55:49,616 - AInewsbot - INFO - get_url(3 AI Stocks That Also Pay Dividends) - Saving 3_AI_Stocks_That_Also_Pay_Dividends_20240708_135549.html as utf-8\n",
      "2024-07-08 13:55:49,618 - AInewsbot - INFO - Processing https://www.reuters.com/technology/samsung-flags-15-fold-rise-second-quarter-profit-chip-prices-climb-2024-07-04/\n",
      "2024-07-08 13:55:49,618 - AInewsbot - INFO - get_url(https://www.reuters.com/technology/samsung-flags-15-fold-rise-second-quarter-profit-chip-prices-climb-2024-07-04/) - starting get_files https://www.reuters.com/technology/samsung-flags-15-fold-rise-second-quarter-profit-chip-prices-climb-2024-07-04/\n",
      "2024-07-08 13:55:49,792 - AInewsbot - INFO - get_url(3 Stocks to Benefit From the AI Datacenter Power Boom) - Saving 3_Stocks_to_Benefit_From_the_AI_Datacenter_Power_Boom_20240708_135549.html as utf-8\n",
      "2024-07-08 13:55:49,793 - AInewsbot - INFO - Processing https://asia.nikkei.com/Business/China-tech/China-AI-leader-iFlytek-dips-into-red-under-ultimate-U.S.-pressure\n",
      "2024-07-08 13:55:49,793 - AInewsbot - INFO - get_url(https://asia.nikkei.com/Business/China-tech/China-AI-leader-iFlytek-dips-into-red-under-ultimate-U.S.-pressure) - starting get_files https://asia.nikkei.com/Business/China-tech/China-AI-leader-iFlytek-dips-into-red-under-ultimate-U.S.-pressure\n",
      "2024-07-08 13:55:54,305 - AInewsbot - INFO - get_url(Two Canadian stocks set to benefit from AI-driven datacenter expansion: RBC) - Saving Two_Canadian_stocks_set_to_benefit_from_AI-driven_datacenter_expansion__RBC_20240708_135554.html as utf-8\n",
      "2024-07-08 13:55:54,307 - AInewsbot - INFO - Processing https://www.cnbc.com/2024/07/08/southeast-asia-ipo-market-fell-significantly-in-h2-2024-deloitte.html\n",
      "2024-07-08 13:55:54,307 - AInewsbot - INFO - get_url(https://www.cnbc.com/2024/07/08/southeast-asia-ipo-market-fell-significantly-in-h2-2024-deloitte.html) - starting get_files https://www.cnbc.com/2024/07/08/southeast-asia-ipo-market-fell-significantly-in-h2-2024-deloitte.html\n",
      "2024-07-08 13:56:00,822 - AInewsbot - INFO - get_url(Cornings stock soars 7% after company raises Q2 guidance to reflect AI bump) - Saving Cornings_stock_soars_7__after_company_raises_Q2_guidance_to_reflect_AI_bump_20240708_135600.html as utf-8\n",
      "2024-07-08 13:56:00,824 - AInewsbot - INFO - Processing https://www.androidpolice.com/galaxy-ai-live-translate-whatsapp-calls/\n"
     ]
    },
    {
     "name": "stderr",
     "output_type": "stream",
     "text": [
      "2024-07-08 13:56:00,824 - AInewsbot - INFO - get_url(https://www.androidpolice.com/galaxy-ai-live-translate-whatsapp-calls/) - starting get_files https://www.androidpolice.com/galaxy-ai-live-translate-whatsapp-calls/\n",
      "2024-07-08 13:56:03,416 - AInewsbot - INFO - get_url(Samsung flags better-than-expected profit rise as AI boom lifts chip prices) - Saving Samsung_flags_better-than-expected_profit_rise_as_AI_boom_lifts_chip_prices_20240708_135603.html as utf-8\n",
      "2024-07-08 13:56:03,418 - AInewsbot - INFO - Processing https://www.tomsguide.com/phones/samsung-phones/whatsapp-could-soon-get-a-galaxy-ai-powered-live-translate-feature\n",
      "2024-07-08 13:56:03,418 - AInewsbot - INFO - get_url(https://www.tomsguide.com/phones/samsung-phones/whatsapp-could-soon-get-a-galaxy-ai-powered-live-translate-feature) - starting get_files https://www.tomsguide.com/phones/samsung-phones/whatsapp-could-soon-get-a-galaxy-ai-powered-live-translate-feature\n",
      "2024-07-08 13:56:04,607 - AInewsbot - INFO - get_url(Southeast Asia's IPO market fell drastically in the first half, but AI listings could revive it) - Saving Southeast_Asia_s_IPO_market_fell_drastically_in_the_first_half__but_AI_listings_could_revive_it_20240708_135604.html as utf-8\n",
      "2024-07-08 13:56:04,610 - AInewsbot - INFO - Processing https://www.theverge.com/2024/7/7/24193680/meta-ai-may-get-more-collaborative-in-whatsapp-for-android\n",
      "2024-07-08 13:56:04,611 - AInewsbot - INFO - get_url(https://www.theverge.com/2024/7/7/24193680/meta-ai-may-get-more-collaborative-in-whatsapp-for-android) - starting get_files https://www.theverge.com/2024/7/7/24193680/meta-ai-may-get-more-collaborative-in-whatsapp-for-android\n",
      "2024-07-08 13:56:04,615 - AInewsbot - INFO - get_url(China AI leader iFlytek dips into red under 'ultimate' U.S. pressure) - Saving China_AI_leader_iFlytek_dips_into_red_under__ultimate__U_S__pressure_20240708_135604.html as utf-8\n",
      "2024-07-08 13:56:04,617 - AInewsbot - INFO - Processing https://indianexpress.com/article/technology/artificial-intelligence/meta-ai-on-whatsapp-edit-analyse-images-9439429/\n",
      "2024-07-08 13:56:04,617 - AInewsbot - INFO - get_url(https://indianexpress.com/article/technology/artificial-intelligence/meta-ai-on-whatsapp-edit-analyse-images-9439429/) - starting get_files https://indianexpress.com/article/technology/artificial-intelligence/meta-ai-on-whatsapp-edit-analyse-images-9439429/\n",
      "2024-07-08 13:56:11,713 - AInewsbot - INFO - get_url(Galaxy AI Live Translate feature might soon bridge the language gap in WhatsApp calls) - Saving Galaxy_AI_Live_Translate_feature_might_soon_bridge_the_language_gap_in_WhatsApp_calls_20240708_135611.html as utf-8\n",
      "2024-07-08 13:56:11,714 - AInewsbot - INFO - Processing https://www.androidauthority.com/whatsapp-meta-ai-update-3457975/\n",
      "2024-07-08 13:56:11,714 - AInewsbot - INFO - get_url(https://www.androidauthority.com/whatsapp-meta-ai-update-3457975/) - starting get_files https://www.androidauthority.com/whatsapp-meta-ai-update-3457975/\n",
      "2024-07-08 13:56:13,809 - AInewsbot - INFO - get_url(WhatsApp could soon get a Galaxy AI-powered Live Translate feature) - Saving WhatsApp_could_soon_get_a_Galaxy_AI-powered_Live_Translate_feature_20240708_135613.html as utf-8\n",
      "2024-07-08 13:56:13,811 - AInewsbot - INFO - Processing https://bgr.com/tech/apples-massive-ai-powered-siri-upgrade-isnt-coming-until-spring-2025/\n",
      "2024-07-08 13:56:13,812 - AInewsbot - INFO - get_url(https://bgr.com/tech/apples-massive-ai-powered-siri-upgrade-isnt-coming-until-spring-2025/) - starting get_files https://bgr.com/tech/apples-massive-ai-powered-siri-upgrade-isnt-coming-until-spring-2025/\n",
      "2024-07-08 13:56:16,892 - AInewsbot - INFO - get_url(Meta AI on WhatsApp is getting smarter: You will soon be able to edit and analyse images) - Saving Meta_AI_on_WhatsApp_is_getting_smarter__You_will_soon_be_able_to_edit_and_analyse_images_20240708_135616.html as utf-8\n",
      "2024-07-08 13:56:16,895 - AInewsbot - INFO - Processing https://www.macrumors.com/2024/07/07/new-siri-experience-to-debut-spring-2025/\n",
      "2024-07-08 13:56:16,895 - AInewsbot - INFO - get_url(https://www.macrumors.com/2024/07/07/new-siri-experience-to-debut-spring-2025/) - starting get_files https://www.macrumors.com/2024/07/07/new-siri-experience-to-debut-spring-2025/\n",
      "2024-07-08 13:56:17,893 - AInewsbot - INFO - get_url(Meta AI may get more collaborative in WhatsApp for Android.) - Saving Meta_AI_may_get_more_collaborative_in_WhatsApp_for_Android__20240708_135617.html as utf-8\n",
      "2024-07-08 13:56:17,896 - AInewsbot - INFO - Processing https://www.tomsguide.com/gaming/steams-summer-sale-is-in-full-swing-heres-9-gaming-deals-id-get-now\n",
      "2024-07-08 13:56:17,896 - AInewsbot - INFO - get_url(https://www.tomsguide.com/gaming/steams-summer-sale-is-in-full-swing-heres-9-gaming-deals-id-get-now) - starting get_files https://www.tomsguide.com/gaming/steams-summer-sale-is-in-full-swing-heres-9-gaming-deals-id-get-now\n",
      "2024-07-08 13:56:22,063 - AInewsbot - INFO - get_url(WhatsApp's new feature will let Meta AI edit your photos for you) - Saving WhatsApp_s_new_feature_will_let_Meta_AI_edit_your_photos_for_you_20240708_135622.html as utf-8\n",
      "2024-07-08 13:56:22,066 - AInewsbot - INFO - Processing https://www.theregister.com/2024/07/08/copilot_plus_pc_software_compatibility/\n",
      "2024-07-08 13:56:22,068 - AInewsbot - INFO - get_url(https://www.theregister.com/2024/07/08/copilot_plus_pc_software_compatibility/) - starting get_files https://www.theregister.com/2024/07/08/copilot_plus_pc_software_compatibility/\n",
      "2024-07-08 13:56:24,160 - AInewsbot - INFO - get_url(Apples massive AI-powered Siri upgrade isnt coming until spring 2025) - Saving Apples_massive_AI-powered_Siri_upgrade_isnt_coming_until_spring_2025_20240708_135624.html as utf-8\n",
      "2024-07-08 13:56:24,162 - AInewsbot - INFO - Processing https://www.carmagazine.co.uk/car-news/motoring-issues/jenoptik-safety-cameras/\n",
      "2024-07-08 13:56:24,163 - AInewsbot - INFO - get_url(https://www.carmagazine.co.uk/car-news/motoring-issues/jenoptik-safety-cameras/) - starting get_files https://www.carmagazine.co.uk/car-news/motoring-issues/jenoptik-safety-cameras/\n",
      "2024-07-08 13:56:27,294 - AInewsbot - INFO - get_url(New Siri Experience With Apple Intelligence Likely to Debut in Spring 2025) - Saving New_Siri_Experience_With_Apple_Intelligence_Likely_to_Debut_in_Spring_2025_20240708_135627.html as utf-8\n",
      "2024-07-08 13:56:27,296 - AInewsbot - INFO - Processing https://www.androidauthority.com/microfuchsia-on-android-3457788/\n",
      "2024-07-08 13:56:27,296 - AInewsbot - INFO - get_url(https://www.androidauthority.com/microfuchsia-on-android-3457788/) - starting get_files https://www.androidauthority.com/microfuchsia-on-android-3457788/\n",
      "2024-07-08 13:56:28,262 - AInewsbot - INFO - get_url(Steam's Summer Sale is in full swing  here's 11 gaming deals I'd buy right now) - Saving Steam_s_Summer_Sale_is_in_full_swing__here_s_11_gaming_deals_I_d_buy_right_now_20240708_135628.html as utf-8\n",
      "2024-07-08 13:56:28,264 - AInewsbot - INFO - Processing https://www.digitaltrends.com/mobile/two-big-upgrades-confirmed-for-google-pixel-watch-3-uwb-5ghz-wi-fi/\n",
      "2024-07-08 13:56:28,264 - AInewsbot - INFO - get_url(https://www.digitaltrends.com/mobile/two-big-upgrades-confirmed-for-google-pixel-watch-3-uwb-5ghz-wi-fi/) - starting get_files https://www.digitaltrends.com/mobile/two-big-upgrades-confirmed-for-google-pixel-watch-3-uwb-5ghz-wi-fi/\n",
      "2024-07-08 13:56:33,204 - AInewsbot - INFO - get_url(Copilot+ PCs software compatibility issues left to you to sort out, with help from crowdsourcersSamsung warned users, but the PC industrys big players hardly mention the possibility of problems) - Saving Copilot__PCs_software_compatibility_issues_left_to_you_to_sort_out__with_help_from_crowdsourcersSamsung_warned_users__but_the_PC_industrys_big_players_hardly_mention_the_possibility_of_problems_20240708_135633.html as utf-8\n",
      "2024-07-08 13:56:33,205 - AInewsbot - INFO - Processing https://www.houstonchronicle.com/opinion/editorials/article/ai-predictive-policing-facial-scans-19551360.php\n",
      "2024-07-08 13:56:33,205 - AInewsbot - INFO - get_url(https://www.houstonchronicle.com/opinion/editorials/article/ai-predictive-policing-facial-scans-19551360.php) - starting get_files https://www.houstonchronicle.com/opinion/editorials/article/ai-predictive-policing-facial-scans-19551360.php\n"
     ]
    },
    {
     "name": "stderr",
     "output_type": "stream",
     "text": [
      "2024-07-08 13:56:36,147 - AInewsbot - INFO - get_url(Stealthy Jenoptik smart cameras that can spot drivers on their phone roll out across UK) - Saving Stealthy_Jenoptik_smart_cameras_that_can_spot_drivers_on_their_phone_roll_out_across_UK_20240708_135636.html as utf-8\n",
      "2024-07-08 13:56:36,149 - AInewsbot - INFO - Processing https://www.jpost.com/brandblend/article-809398\n",
      "2024-07-08 13:56:36,149 - AInewsbot - INFO - get_url(https://www.jpost.com/brandblend/article-809398) - starting get_files https://www.jpost.com/brandblend/article-809398\n",
      "2024-07-08 13:56:37,619 - AInewsbot - INFO - get_url(Google is bringing Fuchsia OS to Android devices, but not in the way you'd think) - Saving Google_is_bringing_Fuchsia_OS_to_Android_devices__but_not_in_the_way_you_d_think_20240708_135637.html as utf-8\n",
      "2024-07-08 13:56:37,620 - AInewsbot - INFO - Processing https://flipboard.com/video/dw/999755771b\n",
      "2024-07-08 13:56:37,621 - AInewsbot - INFO - get_url(https://flipboard.com/video/dw/999755771b) - starting get_files https://flipboard.com/video/dw/999755771b\n",
      "2024-07-08 13:56:39,179 - AInewsbot - INFO - get_url(Two big upgrades were just confirmed for the Google Pixel Watch 3) - Saving Two_big_upgrades_were_just_confirmed_for_the_Google_Pixel_Watch_3_20240708_135639.html as utf-8\n",
      "2024-07-08 13:56:39,180 - AInewsbot - INFO - Processing https://www.uniladtech.com/news/ai-what-hell-looks-like-terrifying-results-237896-20240708\n",
      "2024-07-08 13:56:39,180 - AInewsbot - INFO - get_url(https://www.uniladtech.com/news/ai-what-hell-looks-like-terrifying-results-237896-20240708) - starting get_files https://www.uniladtech.com/news/ai-what-hell-looks-like-terrifying-results-237896-20240708\n",
      "2024-07-08 13:56:44,124 - AInewsbot - INFO - get_url(AI put an innocent Texan in jail. Why is HPD working with Airship AI?) - Saving AI_put_an_innocent_Texan_in_jail__Why_is_HPD_working_with_Airship_AI__20240708_135644.html as utf-8\n",
      "2024-07-08 13:56:44,125 - AInewsbot - INFO - Processing https://www.foxbusiness.com/technology/hacker-accessed-openais-internal-ai-details-2023-breach-report\n",
      "2024-07-08 13:56:44,126 - AInewsbot - INFO - get_url(https://www.foxbusiness.com/technology/hacker-accessed-openais-internal-ai-details-2023-breach-report) - starting get_files https://www.foxbusiness.com/technology/hacker-accessed-openais-internal-ai-details-2023-breach-report\n",
      "2024-07-08 13:56:49,502 - AInewsbot - INFO - get_url(Is AI's entry into music a sign of humanity's last tune?) - Saving Is_AI_s_entry_into_music_a_sign_of_humanity_s_last_tune__20240708_135649.html as utf-8\n",
      "2024-07-08 13:56:49,506 - AInewsbot - INFO - Processing https://interestingengineering.com/innovation/ai-speed-detector-spy-inside-cars\n",
      "2024-07-08 13:56:49,508 - AInewsbot - INFO - get_url(https://interestingengineering.com/innovation/ai-speed-detector-spy-inside-cars) - starting get_files https://interestingengineering.com/innovation/ai-speed-detector-spy-inside-cars\n",
      "2024-07-08 13:56:51,200 - AInewsbot - INFO - get_url(AI Doppelganger  Cool or Creepy?) - Saving AI_Doppelganger__Cool_or_Creepy__20240708_135651.html as utf-8\n",
      "2024-07-08 13:56:51,210 - AInewsbot - INFO - Processing https://www.cio.com/article/2150142/10-ways-to-prevent-shadow-ai-disaster.html\n",
      "2024-07-08 13:56:51,211 - AInewsbot - INFO - get_url(https://www.cio.com/article/2150142/10-ways-to-prevent-shadow-ai-disaster.html) - starting get_files https://www.cio.com/article/2150142/10-ways-to-prevent-shadow-ai-disaster.html\n",
      "2024-07-08 13:56:51,514 - AInewsbot - INFO - get_url(AI creates video of 'what hell looks like' and the result is terrifying) - Saving AI_creates_video_of__what_hell_looks_like__and_the_result_is_terrifying_20240708_135651.html as utf-8\n",
      "2024-07-08 13:56:51,515 - AInewsbot - INFO - Processing https://foreignpolicy.com/2024/07/08/artificial-intelligence-ai-election-misinformation-technology-risks/\n",
      "2024-07-08 13:56:51,516 - AInewsbot - INFO - get_url(https://foreignpolicy.com/2024/07/08/artificial-intelligence-ai-election-misinformation-technology-risks/) - starting get_files https://foreignpolicy.com/2024/07/08/artificial-intelligence-ai-election-misinformation-technology-risks/\n",
      "2024-07-08 13:56:56,326 - AInewsbot - INFO - get_url(Hacker accessed OpenAI's internal AI details in 2023 breach: report) - Saving Hacker_accessed_OpenAI_s_internal_AI_details_in_2023_breach__report_20240708_135656.html as utf-8\n",
      "2024-07-08 13:56:56,328 - AInewsbot - INFO - Processing https://9to5mac.com/2024/07/08/scambaiting-ai-systems/\n",
      "2024-07-08 13:56:56,329 - AInewsbot - INFO - get_url(https://9to5mac.com/2024/07/08/scambaiting-ai-systems/) - starting get_files https://9to5mac.com/2024/07/08/scambaiting-ai-systems/\n",
      "2024-07-08 13:57:00,382 - AInewsbot - INFO - get_url(AI eyes of roads that can spy inside cars pose threat to privacy) - Saving AI_eyes_of_roads_that_can_spy_inside_cars_pose_threat_to_privacy_20240708_135700.html as utf-8\n",
      "2024-07-08 13:57:00,384 - AInewsbot - INFO - Processing https://9to5mac.com/2024/07/08/scambaiting-ai-systems/\n",
      "2024-07-08 13:57:00,384 - AInewsbot - INFO - get_url(https://9to5mac.com/2024/07/08/scambaiting-ai-systems/) - starting get_files https://9to5mac.com/2024/07/08/scambaiting-ai-systems/\n",
      "2024-07-08 13:57:02,085 - AInewsbot - INFO - get_url(10 ways to prevent shadow AI disaster) - Saving 10_ways_to_prevent_shadow_AI_disaster_20240708_135702.html as utf-8\n",
      "2024-07-08 13:57:02,087 - AInewsbot - INFO - Processing https://www.inc.com/associated-press/your-social-media-posts-are-training-next-gen-ai-heres-how.html\n",
      "2024-07-08 13:57:02,087 - AInewsbot - INFO - get_url(https://www.inc.com/associated-press/your-social-media-posts-are-training-next-gen-ai-heres-how.html) - starting get_files https://www.inc.com/associated-press/your-social-media-posts-are-training-next-gen-ai-heres-how.html\n",
      "2024-07-08 13:57:03,065 - AInewsbot - INFO - get_url(Artificial Intelligence Researchers Need More Information to Understand Risks) - Saving Artificial_Intelligence_Researchers_Need_More_Information_to_Understand_Risks_20240708_135703.html as utf-8\n",
      "2024-07-08 13:57:03,066 - AInewsbot - INFO - Processing https://hackernoon.com/googles-ai-aftershock-expert-explains-how-to-thrive-in-the-new-search-landscape\n",
      "2024-07-08 13:57:03,066 - AInewsbot - INFO - get_url(https://hackernoon.com/googles-ai-aftershock-expert-explains-how-to-thrive-in-the-new-search-landscape) - starting get_files https://hackernoon.com/googles-ai-aftershock-expert-explains-how-to-thrive-in-the-new-search-landscape\n",
      "2024-07-08 13:57:07,819 - AInewsbot - INFO - get_url(Telecoms companies now using scambaiting AI systems; Lenny+) - Saving Telecoms_companies_now_using_scambaiting_AI_systems__Lenny__20240708_135707.html as utf-8\n",
      "2024-07-08 13:57:07,822 - AInewsbot - INFO - Processing https://www.cnet.com/tech/computing/google-experts-warn-that-ai-may-distort-reality-while-ai-overviews-repel-mobile-users/\n",
      "2024-07-08 13:57:07,823 - AInewsbot - INFO - get_url(https://www.cnet.com/tech/computing/google-experts-warn-that-ai-may-distort-reality-while-ai-overviews-repel-mobile-users/) - starting get_files https://www.cnet.com/tech/computing/google-experts-warn-that-ai-may-distort-reality-while-ai-overviews-repel-mobile-users/\n",
      "2024-07-08 13:57:11,227 - AInewsbot - INFO - get_url(Telecoms companies now using scambaiting AI systems modelled on Lenny) - Saving Telecoms_companies_now_using_scambaiting_AI_systems_modelled_on_Lenny_20240708_135711.html as utf-8\n",
      "2024-07-08 13:57:11,228 - AInewsbot - INFO - Processing https://www.reddit.com/r/technology/comments/1dxwfzs/chinas_ai_model_glut_is_a_significant_waste_of/\n",
      "2024-07-08 13:57:11,229 - AInewsbot - INFO - get_url(https://www.reddit.com/r/technology/comments/1dxwfzs/chinas_ai_model_glut_is_a_significant_waste_of/) - starting get_files https://www.reddit.com/r/technology/comments/1dxwfzs/chinas_ai_model_glut_is_a_significant_waste_of/\n",
      "2024-07-08 13:57:12,976 - AInewsbot - INFO - get_url(Here's How Your Online Activity Is Training Next-Gen AI) - Saving Here_s_How_Your_Online_Activity_Is_Training_Next-Gen_AI_20240708_135712.html as utf-8\n",
      "2024-07-08 13:57:12,977 - AInewsbot - INFO - Processing https://www.reddit.com/r/technology/comments/1dxrnlk/googles_ai_search_summaries_use_10x_more_energy/\n"
     ]
    },
    {
     "name": "stderr",
     "output_type": "stream",
     "text": [
      "2024-07-08 13:57:12,977 - AInewsbot - INFO - get_url(https://www.reddit.com/r/technology/comments/1dxrnlk/googles_ai_search_summaries_use_10x_more_energy/) - starting get_files https://www.reddit.com/r/technology/comments/1dxrnlk/googles_ai_search_summaries_use_10x_more_energy/\n",
      "2024-07-08 13:57:13,935 - AInewsbot - INFO - get_url(Google's AI Aftershock: Expert Explains How to Thrive in the New Search Landscape) - Saving Google_s_AI_Aftershock__Expert_Explains_How_to_Thrive_in_the_New_Search_Landscape_20240708_135713.html as utf-8\n",
      "2024-07-08 13:57:13,936 - AInewsbot - INFO - Processing https://theconversation.com/power-hungry-ai-is-driving-a-surge-in-tech-giant-carbon-emissions-nobody-knows-what-to-do-about-it-233452\n",
      "2024-07-08 13:57:13,936 - AInewsbot - INFO - get_url(https://theconversation.com/power-hungry-ai-is-driving-a-surge-in-tech-giant-carbon-emissions-nobody-knows-what-to-do-about-it-233452) - starting get_files https://theconversation.com/power-hungry-ai-is-driving-a-surge-in-tech-giant-carbon-emissions-nobody-knows-what-to-do-about-it-233452\n",
      "2024-07-08 13:57:22,078 - AInewsbot - INFO - get_url(Google Experts Warn That AI May Distort Reality, While AI Overviews Repel Mobile Users) - Saving Google_Experts_Warn_That_AI_May_Distort_Reality__While_AI_Overviews_Repel_Mobile_Users_20240708_135722.html as utf-8\n",
      "2024-07-08 13:57:22,080 - AInewsbot - INFO - Processing https://www.reddit.com/r/ChatGPT/comments/1dy1da9/coauthor_of_the_original_transformers_paper_says/\n",
      "2024-07-08 13:57:22,081 - AInewsbot - INFO - get_url(https://www.reddit.com/r/ChatGPT/comments/1dy1da9/coauthor_of_the_original_transformers_paper_says/) - starting get_files https://www.reddit.com/r/ChatGPT/comments/1dy1da9/coauthor_of_the_original_transformers_paper_says/\n",
      "2024-07-08 13:57:23,841 - AInewsbot - INFO - get_url(China's AI model glut is a 'significant waste of resources' due to scarce real-world applications for 100+ LLMs says Baidu CEO) - Saving China_s_AI_model_glut_is_a__significant_waste_of_resources__due_to_scarce_real-world_applications_for_100__LLMs_says_Baidu_CEO_20240708_135723.html as utf-8\n",
      "2024-07-08 13:57:23,843 - AInewsbot - INFO - Processing https://blog.kore.ai/why-could-small-language-models-be-the-game-changer-for-your-organization\n",
      "2024-07-08 13:57:23,844 - AInewsbot - INFO - get_url(https://blog.kore.ai/why-could-small-language-models-be-the-game-changer-for-your-organization) - starting get_files https://blog.kore.ai/why-could-small-language-models-be-the-game-changer-for-your-organization\n",
      "2024-07-08 13:57:24,255 - AInewsbot - INFO - get_url(Power-hungry AI is driving a surge in tech giant carbon emissions. Nobody knows what to do about it) - Saving Power-hungry_AI_is_driving_a_surge_in_tech_giant_carbon_emissions__Nobody_knows_what_to_do_about_it_20240708_135724.html as utf-8\n",
      "2024-07-08 13:57:24,256 - AInewsbot - INFO - Processing https://www.theregister.com/2024/07/08/opinion_column_ai_ip/\n",
      "2024-07-08 13:57:24,257 - AInewsbot - INFO - get_url(https://www.theregister.com/2024/07/08/opinion_column_ai_ip/) - starting get_files https://www.theregister.com/2024/07/08/opinion_column_ai_ip/\n",
      "2024-07-08 13:57:24,459 - AInewsbot - INFO - get_url(Google's AI search summaries use 10x more energy than just doing a normal Google search) - Saving Google_s_AI_search_summaries_use_10x_more_energy_than_just_doing_a_normal_Google_search_20240708_135724.html as utf-8\n",
      "2024-07-08 13:57:24,461 - AInewsbot - INFO - Processing https://cointelegraph.com/news/tether-ceo-promotes-local-ai-privacy\n",
      "2024-07-08 13:57:24,463 - AInewsbot - INFO - get_url(https://cointelegraph.com/news/tether-ceo-promotes-local-ai-privacy) - starting get_files https://cointelegraph.com/news/tether-ceo-promotes-local-ai-privacy\n",
      "2024-07-08 13:57:33,116 - AInewsbot - INFO - get_url(Co-author of the original Transformers paper says models are doing things he thought were 40 years away and scaling laws will continue to hold) - Saving Co-author_of_the_original_Transformers_paper_says_models_are_doing_things_he_thought_were_40_years_away_and_scaling_laws_will_continue_to_hold_20240708_135733.html as utf-8\n",
      "2024-07-08 13:57:33,119 - AInewsbot - INFO - Processing https://www.chosun.com/english/people-en/2024/07/07/4WZRIFLZFFFM5JCLJB446HOAJA/\n",
      "2024-07-08 13:57:33,120 - AInewsbot - INFO - get_url(https://www.chosun.com/english/people-en/2024/07/07/4WZRIFLZFFFM5JCLJB446HOAJA/) - starting get_files https://www.chosun.com/english/people-en/2024/07/07/4WZRIFLZFFFM5JCLJB446HOAJA/\n",
      "2024-07-08 13:57:36,649 - AInewsbot - INFO - get_url(Breaking the rules is in big tech's blood  now it's time to break the habitOpinionMicrosoft: All your data are belong to us? World: That's so last centuryAI + ML4 hrs|9) - Saving Breaking_the_rules_is_in_big_tech_s_blood__now_it_s_time_to_break_the_habitOpinionMicrosoft__All_your_data_are_belong_to_us__World__That_s_so_last_centuryAI___ML4_hrs_9_20240708_135736.html as utf-8\n",
      "2024-07-08 13:57:36,651 - AInewsbot - INFO - Processing https://www.indiatoday.in/visualstories/technology/microsoft-ai-chief-on-ai-companies-using-online-content-149134-04-07-2024\n",
      "2024-07-08 13:57:36,651 - AInewsbot - INFO - get_url(https://www.indiatoday.in/visualstories/technology/microsoft-ai-chief-on-ai-companies-using-online-content-149134-04-07-2024) - starting get_files https://www.indiatoday.in/visualstories/technology/microsoft-ai-chief-on-ai-companies-using-online-content-149134-04-07-2024\n",
      "2024-07-08 13:57:39,323 - AInewsbot - INFO - get_url(Tether CEO advocates for localized AI models to prevent hacks) - Saving Tether_CEO_advocates_for_localized_AI_models_to_prevent_hacks_20240708_135739.html as utf-8\n",
      "2024-07-08 13:57:39,326 - AInewsbot - INFO - Processing https://www.onrec.com/news/statistics/uk-future-workforce-index-2024-83-of-uk-businesses-willing-to-pay-a-higher-wage-to\n",
      "2024-07-08 13:57:39,326 - AInewsbot - INFO - get_url(https://www.onrec.com/news/statistics/uk-future-workforce-index-2024-83-of-uk-businesses-willing-to-pay-a-higher-wage-to) - starting get_files https://www.onrec.com/news/statistics/uk-future-workforce-index-2024-83-of-uk-businesses-willing-to-pay-a-higher-wage-to\n",
      "2024-07-08 13:57:40,472 - AInewsbot - INFO - get_url(Small Language Models: The Future Catalyst for Organizational Success) - Saving Small_Language_Models__The_Future_Catalyst_for_Organizational_Success_20240708_135740.html as utf-8\n",
      "2024-07-08 13:57:40,475 - AInewsbot - INFO - Processing https://www.wsj.com/articles/artificial-intelligence-boom-lifts-paychecks-for-cios-e1527eab\n",
      "2024-07-08 13:57:40,476 - AInewsbot - INFO - get_url(https://www.wsj.com/articles/artificial-intelligence-boom-lifts-paychecks-for-cios-e1527eab) - starting get_files https://www.wsj.com/articles/artificial-intelligence-boom-lifts-paychecks-for-cios-e1527eab\n",
      "2024-07-08 13:57:44,123 - AInewsbot - INFO - get_url(Interview: Microsoft AI chief Mustafa Suleyman on balancing AI innovation and containment) - Saving Interview__Microsoft_AI_chief_Mustafa_Suleyman_on_balancing_AI_innovation_and_containment_20240708_135744.html as utf-8\n",
      "2024-07-08 13:57:44,124 - AInewsbot - INFO - Processing https://www.scmp.com/economy/china-economy/article/3269334/chinas-tech-boom-powering-ai-career-coup-finance-muscled-out-top-salary-pyramid\n",
      "2024-07-08 13:57:44,124 - AInewsbot - INFO - get_url(https://www.scmp.com/economy/china-economy/article/3269334/chinas-tech-boom-powering-ai-career-coup-finance-muscled-out-top-salary-pyramid) - starting get_files https://www.scmp.com/economy/china-economy/article/3269334/chinas-tech-boom-powering-ai-career-coup-finance-muscled-out-top-salary-pyramid\n",
      "2024-07-08 13:57:46,987 - AInewsbot - INFO - get_url(Microsoft AI chief on AI companies using online content) - Saving Microsoft_AI_chief_on_AI_companies_using_online_content_20240708_135746.html as utf-8\n",
      "2024-07-08 13:57:46,988 - AInewsbot - INFO - Processing https://www.reddit.com/r/technology/comments/1dxltnf/chinas_tech_boom_powering_ai_career_coup_with/\n",
      "2024-07-08 13:57:46,989 - AInewsbot - INFO - get_url(https://www.reddit.com/r/technology/comments/1dxltnf/chinas_tech_boom_powering_ai_career_coup_with/) - starting get_files https://www.reddit.com/r/technology/comments/1dxltnf/chinas_tech_boom_powering_ai_career_coup_with/\n"
     ]
    },
    {
     "name": "stderr",
     "output_type": "stream",
     "text": [
      "2024-07-08 13:57:52,758 - AInewsbot - INFO - get_url(Artificial Intelligence Boom Lifts Paychecks for CIOs) - Saving Artificial_Intelligence_Boom_Lifts_Paychecks_for_CIOs_20240708_135752.html as utf-8\n",
      "2024-07-08 13:57:52,761 - AInewsbot - INFO - Processing https://fortune.com/2024/07/08/majority-cfos-admit-dont-fully-understand-ai/\n",
      "2024-07-08 13:57:52,762 - AInewsbot - INFO - get_url(https://fortune.com/2024/07/08/majority-cfos-admit-dont-fully-understand-ai/) - starting get_files https://fortune.com/2024/07/08/majority-cfos-admit-dont-fully-understand-ai/\n",
      "2024-07-08 13:57:55,152 - AInewsbot - INFO - get_url(UK Future Workforce Index 2024: 83% of UK businesses willing to pay a higher wage to those with AI skills amid hiring challenges) - Saving UK_Future_Workforce_Index_2024__83__of_UK_businesses_willing_to_pay_a_higher_wage_to_those_with_AI_skills_amid_hiring_challenges_20240708_135755.html as utf-8\n",
      "2024-07-08 13:57:55,154 - AInewsbot - INFO - Processing https://techcrunch.com/2024/07/07/cios-concerns-over-generative-ai-echo-those-of-the-early-days-of-cloud-computing/\n",
      "2024-07-08 13:57:55,154 - AInewsbot - INFO - get_url(https://techcrunch.com/2024/07/07/cios-concerns-over-generative-ai-echo-those-of-the-early-days-of-cloud-computing/) - starting get_files https://techcrunch.com/2024/07/07/cios-concerns-over-generative-ai-echo-those-of-the-early-days-of-cloud-computing/\n",
      "2024-07-08 13:57:55,499 - AInewsbot - INFO - get_url(China sees changing of career guard as AI beats out finance in pay pyramid) - Saving China_sees_changing_of_career_guard_as_AI_beats_out_finance_in_pay_pyramid_20240708_135755.html as utf-8\n",
      "2024-07-08 13:57:55,501 - AInewsbot - INFO - Processing https://au.investing.com/news/economy-news/this-ai-model-says-us-recession-chances-are-up-to-68-3330415\n",
      "2024-07-08 13:57:55,501 - AInewsbot - INFO - get_url(https://au.investing.com/news/economy-news/this-ai-model-says-us-recession-chances-are-up-to-68-3330415) - starting get_files https://au.investing.com/news/economy-news/this-ai-model-says-us-recession-chances-are-up-to-68-3330415\n",
      "2024-07-08 13:57:57,733 - AInewsbot - INFO - get_url(Chinas tech boom powering AI career coup, with finance muscled out at top of salary pyramid) - Saving Chinas_tech_boom_powering_AI_career_coup__with_finance_muscled_out_at_top_of_salary_pyramid_20240708_135757.html as utf-8\n",
      "2024-07-08 13:57:57,734 - AInewsbot - INFO - Processing https://adage.com/article/agency-news/37-ad-execs-predict-2024-second-half-trends-ai-olympics-gen-z/2568341\n",
      "2024-07-08 13:57:57,734 - AInewsbot - INFO - get_url(https://adage.com/article/agency-news/37-ad-execs-predict-2024-second-half-trends-ai-olympics-gen-z/2568341) - starting get_files https://adage.com/article/agency-news/37-ad-execs-predict-2024-second-half-trends-ai-olympics-gen-z/2568341\n",
      "2024-07-08 13:58:03,158 - AInewsbot - INFO - get_url(A majority of CFOs admit they don't fully understand AI) - Saving A_majority_of_CFOs_admit_they_don_t_fully_understand_AI_20240708_135803.html as utf-8\n",
      "2024-07-08 13:58:03,160 - AInewsbot - INFO - Processing https://www.forbes.com/sites/nikkibaird/2024/07/08/retail-this-week-soft-landings-ai-hype-and-department-store-deaths/\n",
      "2024-07-08 13:58:03,160 - AInewsbot - INFO - get_url(https://www.forbes.com/sites/nikkibaird/2024/07/08/retail-this-week-soft-landings-ai-hype-and-department-store-deaths/) - starting get_files https://www.forbes.com/sites/nikkibaird/2024/07/08/retail-this-week-soft-landings-ai-hype-and-department-store-deaths/\n",
      "2024-07-08 13:58:07,429 - AInewsbot - INFO - get_url(CIOs' concerns over generative AI echo those of the early days of cloud computing) - Saving CIOs__concerns_over_generative_AI_echo_those_of_the_early_days_of_cloud_computing_20240708_135807.html as utf-8\n",
      "2024-07-08 13:58:07,430 - AInewsbot - INFO - Processing https://www.newsbytesapp.com/news/science/google-deepmind-s-new-ai-training-technique-promises-significant-gains/story\n",
      "2024-07-08 13:58:07,431 - AInewsbot - INFO - get_url(https://www.newsbytesapp.com/news/science/google-deepmind-s-new-ai-training-technique-promises-significant-gains/story) - starting get_files https://www.newsbytesapp.com/news/science/google-deepmind-s-new-ai-training-technique-promises-significant-gains/story\n",
      "2024-07-08 13:58:07,751 - AInewsbot - INFO - get_url(This AI model says US recession chances are up to 68%) - Saving This_AI_model_says_US_recession_chances_are_up_to_68__20240708_135807.html as utf-8\n",
      "2024-07-08 13:58:07,752 - AInewsbot - INFO - Processing https://www.tomshardware.com/tech-industry/artificial-intelligence/google-claims-new-ai-training-tech-is-13-times-faster-and-10-times-more-power-efficient-deepminds-new-jest-optimizes-training-data-for-massive-gains\n",
      "2024-07-08 13:58:07,752 - AInewsbot - INFO - get_url(https://www.tomshardware.com/tech-industry/artificial-intelligence/google-claims-new-ai-training-tech-is-13-times-faster-and-10-times-more-power-efficient-deepminds-new-jest-optimizes-training-data-for-massive-gains) - starting get_files https://www.tomshardware.com/tech-industry/artificial-intelligence/google-claims-new-ai-training-tech-is-13-times-faster-and-10-times-more-power-efficient-deepminds-new-jest-optimizes-training-data-for-massive-gains\n",
      "2024-07-08 13:58:09,969 - AInewsbot - INFO - get_url(37 ad execs predict 2024 second half trends: AI, Olympics, Gen Z) - Saving 37_ad_execs_predict_2024_second_half_trends__AI__Olympics__Gen_Z_20240708_135809.html as utf-8\n",
      "2024-07-08 13:58:09,970 - AInewsbot - INFO - Processing https://www.tomshardware.com/tech-industry/artificial-intelligence/google-claims-new-ai-training-tech-is-13-times-faster-and-10-times-more-power-efficient-deepminds-new-jest-optimizes-training-data-for-massive-gains\n",
      "2024-07-08 13:58:09,971 - AInewsbot - INFO - get_url(https://www.tomshardware.com/tech-industry/artificial-intelligence/google-claims-new-ai-training-tech-is-13-times-faster-and-10-times-more-power-efficient-deepminds-new-jest-optimizes-training-data-for-massive-gains) - starting get_files https://www.tomshardware.com/tech-industry/artificial-intelligence/google-claims-new-ai-training-tech-is-13-times-faster-and-10-times-more-power-efficient-deepminds-new-jest-optimizes-training-data-for-massive-gains\n",
      "2024-07-08 13:58:13,606 - AInewsbot - INFO - get_url(Retail This Week: Soft Landings, AI Hype, And Department Store Deaths) - Saving Retail_This_Week__Soft_Landings__AI_Hype__And_Department_Store_Deaths_20240708_135813.html as utf-8\n",
      "2024-07-08 13:58:13,607 - AInewsbot - INFO - Processing https://learningenglish.voanews.com/a/un-agency-china-leading-ai-patents-race/7686347.html\n",
      "2024-07-08 13:58:13,607 - AInewsbot - INFO - get_url(https://learningenglish.voanews.com/a/un-agency-china-leading-ai-patents-race/7686347.html) - starting get_files https://learningenglish.voanews.com/a/un-agency-china-leading-ai-patents-race/7686347.html\n",
      "2024-07-08 13:58:18,761 - AInewsbot - INFO - get_url(Google claims new AI training tech is 13 times faster and 10 times more power efficient  DeepMind's new JEST optimizes training data for impressive gains) - Saving Google_claims_new_AI_training_tech_is_13_times_faster_and_10_times_more_power_efficient__DeepMind_s_new_JEST_optimizes_training_data_for_impressive_gains_20240708_135818.html as utf-8\n",
      "2024-07-08 13:58:18,762 - AInewsbot - INFO - get_url(AI breakthrough? Google's new training method uses 10x less power) - Saving AI_breakthrough__Google_s_new_training_method_uses_10x_less_power_20240708_135818.html as utf-8\n",
      "2024-07-08 13:58:18,764 - AInewsbot - INFO - Processing https://www.sixthtone.com/news/1015460\n",
      "2024-07-08 13:58:18,764 - AInewsbot - INFO - get_url(https://www.sixthtone.com/news/1015460) - starting get_files https://www.sixthtone.com/news/1015460\n",
      "2024-07-08 13:58:18,764 - AInewsbot - INFO - Processing https://www.benzinga.com/news/24/07/39663974/chinas-ai-leaders-alibaba-and-sensetime-showcase-breakthroughs-at-shanghai-conference\n",
      "2024-07-08 13:58:18,765 - AInewsbot - INFO - get_url(https://www.benzinga.com/news/24/07/39663974/chinas-ai-leaders-alibaba-and-sensetime-showcase-breakthroughs-at-shanghai-conference) - starting get_files https://www.benzinga.com/news/24/07/39663974/chinas-ai-leaders-alibaba-and-sensetime-showcase-breakthroughs-at-shanghai-conference\n"
     ]
    },
    {
     "name": "stderr",
     "output_type": "stream",
     "text": [
      "2024-07-08 13:58:21,141 - AInewsbot - INFO - get_url(Google claims new AI training tech is 13x faster, 10x more power efficient) - Saving Google_claims_new_AI_training_tech_is_13x_faster__10x_more_power_efficient_20240708_135821.html as utf-8\n",
      "2024-07-08 13:58:21,142 - AInewsbot - INFO - Processing https://asiatimes.com/2024/07/china-flexes-ai-muscle-at-shanghai-expo/\n",
      "2024-07-08 13:58:21,142 - AInewsbot - INFO - get_url(https://asiatimes.com/2024/07/china-flexes-ai-muscle-at-shanghai-expo/) - starting get_files https://asiatimes.com/2024/07/china-flexes-ai-muscle-at-shanghai-expo/\n",
      "2024-07-08 13:58:24,872 - AInewsbot - INFO - get_url(UN Agency: China Leading AI Patents Race) - Saving UN_Agency__China_Leading_AI_Patents_Race_20240708_135824.html as utf-8\n",
      "2024-07-08 13:58:24,873 - AInewsbot - INFO - Processing https://www.tomshardware.com/pc-components/gpus/chinese-gpu-maker-moore-threads-can-now-scale-to-10000-processors-for-ai-clusters-mtlink-fabric-tech-competes-with-nvidias-nvlink\n",
      "2024-07-08 13:58:24,873 - AInewsbot - INFO - get_url(https://www.tomshardware.com/pc-components/gpus/chinese-gpu-maker-moore-threads-can-now-scale-to-10000-processors-for-ai-clusters-mtlink-fabric-tech-competes-with-nvidias-nvlink) - starting get_files https://www.tomshardware.com/pc-components/gpus/chinese-gpu-maker-moore-threads-can-now-scale-to-10000-processors-for-ai-clusters-mtlink-fabric-tech-competes-with-nvidias-nvlink\n",
      "2024-07-08 13:58:29,502 - AInewsbot - INFO - get_url(China's AI Leaders Alibaba and SenseTime Showcase Breakthroughs at Shanghai Conference) - Saving China_s_AI_Leaders_Alibaba_and_SenseTime_Showcase_Breakthroughs_at_Shanghai_Conference_20240708_135829.html as utf-8\n",
      "2024-07-08 13:58:29,503 - AInewsbot - INFO - Processing https://www.wired.com/story/us-military-hyper-enabled-operator/\n",
      "2024-07-08 13:58:29,503 - AInewsbot - INFO - get_url(https://www.wired.com/story/us-military-hyper-enabled-operator/) - starting get_files https://www.wired.com/story/us-military-hyper-enabled-operator/\n",
      "2024-07-08 13:58:31,644 - AInewsbot - INFO - get_url(China flexes AI muscle at Shanghai expo) - Saving China_flexes_AI_muscle_at_Shanghai_expo_20240708_135831.html as utf-8\n",
      "2024-07-08 13:58:31,645 - AInewsbot - INFO - Processing https://techxplore.com/news/2024-07-physical-nonlinear-tasks-traditional-processor.html\n",
      "2024-07-08 13:58:31,646 - AInewsbot - INFO - get_url(https://techxplore.com/news/2024-07-physical-nonlinear-tasks-traditional-processor.html) - starting get_files https://techxplore.com/news/2024-07-physical-nonlinear-tasks-traditional-processor.html\n",
      "2024-07-08 13:58:35,761 - AInewsbot - INFO - get_url(Chinese GPU maker Moore Threads' MTLink fabric tech challenges Nvidia's NVLink, can now scale to 10,000 GPUs for AI clusters) - Saving Chinese_GPU_maker_Moore_Threads__MTLink_fabric_tech_challenges_Nvidia_s_NVLink__can_now_scale_to_10_000_GPUs_for_AI_clusters_20240708_135835.html as utf-8\n",
      "2024-07-08 13:58:35,763 - AInewsbot - INFO - Processing https://spectrum.ieee.org/detect-migrating-birds-with-sound\n",
      "2024-07-08 13:58:35,763 - AInewsbot - INFO - get_url(https://spectrum.ieee.org/detect-migrating-birds-with-sound) - starting get_files https://spectrum.ieee.org/detect-migrating-birds-with-sound\n",
      "2024-07-08 13:58:40,044 - AInewsbot - INFO - get_url(AI-Powered Super Soldiers Are More Than Just a Pipe Dream) - Saving AI-Powered_Super_Soldiers_Are_More_Than_Just_a_Pipe_Dream_20240708_135840.html as utf-8\n",
      "2024-07-08 13:58:40,046 - AInewsbot - INFO - Processing https://www.businessinsider.com/spacex-boca-chica-texas-starbase-bird-habitat-2024-7\n",
      "2024-07-08 13:58:40,046 - AInewsbot - INFO - get_url(https://www.businessinsider.com/spacex-boca-chica-texas-starbase-bird-habitat-2024-7) - starting get_files https://www.businessinsider.com/spacex-boca-chica-texas-starbase-bird-habitat-2024-7\n",
      "2024-07-08 13:58:43,317 - AInewsbot - INFO - get_url(At Shanghai AI Expo, Humanoid Robots Turn Heads, Bake Bread) - Saving At_Shanghai_AI_Expo__Humanoid_Robots_Turn_Heads__Bake_Bread_20240708_135843.html as utf-8\n",
      "2024-07-08 13:58:43,320 - AInewsbot - INFO - Processing https://www.marktechpost.com/2024/07/08/drlq-a-novel-deep-reinforcement-learning-drl-based-technique-for-task-placement-in-quantum-cloud-computing-environments/\n",
      "2024-07-08 13:58:43,321 - AInewsbot - INFO - get_url(https://www.marktechpost.com/2024/07/08/drlq-a-novel-deep-reinforcement-learning-drl-based-technique-for-task-placement-in-quantum-cloud-computing-environments/) - starting get_files https://www.marktechpost.com/2024/07/08/drlq-a-novel-deep-reinforcement-learning-drl-based-technique-for-task-placement-in-quantum-cloud-computing-environments/\n",
      "2024-07-08 13:58:46,299 - AInewsbot - INFO - get_url(A first physical system to learn nonlinear tasks without a traditional computer processor) - Saving A_first_physical_system_to_learn_nonlinear_tasks_without_a_traditional_computer_processor_20240708_135846.html as utf-8\n",
      "2024-07-08 13:58:46,300 - AInewsbot - INFO - Processing https://www.stltoday.com/news/local/metro/mobot-uses-ai-to-learn-how-trees-move-and-to-save-millions-of-plant-specimens/article_fb9f9660-3885-11ef-8f5a-57b61f2acc14.html\n",
      "2024-07-08 13:58:46,301 - AInewsbot - INFO - get_url(https://www.stltoday.com/news/local/metro/mobot-uses-ai-to-learn-how-trees-move-and-to-save-millions-of-plant-specimens/article_fb9f9660-3885-11ef-8f5a-57b61f2acc14.html) - starting get_files https://www.stltoday.com/news/local/metro/mobot-uses-ai-to-learn-how-trees-move-and-to-save-millions-of-plant-specimens/article_fb9f9660-3885-11ef-8f5a-57b61f2acc14.html\n",
      "2024-07-08 13:58:46,414 - AInewsbot - INFO - get_url(Detect Migrating Birds with a Plastic Dish and a Cheap Microphone) - Saving Detect_Migrating_Birds_with_a_Plastic_Dish_and_a_Cheap_Microphone_20240708_135846.html as utf-8\n",
      "2024-07-08 13:58:46,415 - AInewsbot - INFO - Processing https://www.stltoday.com/news/local/metro/mobot-uses-ai-to-learn-how-trees-move-and-to-save-millions-of-plant-specimens/article_fb9f9660-3885-11ef-8f5a-57b61f2acc14.html\n",
      "2024-07-08 13:58:46,416 - AInewsbot - INFO - get_url(https://www.stltoday.com/news/local/metro/mobot-uses-ai-to-learn-how-trees-move-and-to-save-millions-of-plant-specimens/article_fb9f9660-3885-11ef-8f5a-57b61f2acc14.html) - starting get_files https://www.stltoday.com/news/local/metro/mobot-uses-ai-to-learn-how-trees-move-and-to-save-millions-of-plant-specimens/article_fb9f9660-3885-11ef-8f5a-57b61f2acc14.html\n",
      "2024-07-08 13:58:50,302 - AInewsbot - INFO - get_url(SpaceX rockets blew away local bird habitats after Elon Musk 'misled' NPS officials about expansion, NYT reports) - Saving SpaceX_rockets_blew_away_local_bird_habitats_after_Elon_Musk__misled__NPS_officials_about_expansion__NYT_reports_20240708_135850.html as utf-8\n",
      "2024-07-08 13:58:50,302 - AInewsbot - INFO - Processing https://www.news-medical.net/news/20240707/Machine-learning-identifies-cancer-driving-mutations-at-CTCF-binding-sites.aspx\n",
      "2024-07-08 13:58:50,303 - AInewsbot - INFO - get_url(https://www.news-medical.net/news/20240707/Machine-learning-identifies-cancer-driving-mutations-at-CTCF-binding-sites.aspx) - starting get_files https://www.news-medical.net/news/20240707/Machine-learning-identifies-cancer-driving-mutations-at-CTCF-binding-sites.aspx\n",
      "2024-07-08 13:58:56,148 - AInewsbot - INFO - get_url(DRLQ: A Novel Deep Reinforcement Learning (DRL)-based Technique for Task Placement in Quantum Cloud Computing Environments) - Saving DRLQ__A_Novel_Deep_Reinforcement_Learning__DRL_-based_Technique_for_Task_Placement_in_Quantum_Cloud_Computing_Environments_20240708_135856.html as utf-8\n",
      "2024-07-08 13:58:56,149 - AInewsbot - INFO - Processing https://www.advancedsciencenews.com/tiny-robots-with-a-big-impact-scientists-develop-microrobots-for-single-cell-handling/\n",
      "2024-07-08 13:58:56,149 - AInewsbot - INFO - get_url(https://www.advancedsciencenews.com/tiny-robots-with-a-big-impact-scientists-develop-microrobots-for-single-cell-handling/) - starting get_files https://www.advancedsciencenews.com/tiny-robots-with-a-big-impact-scientists-develop-microrobots-for-single-cell-handling/\n",
      "2024-07-08 13:58:57,897 - AInewsbot - INFO - get_url(MoBot uses AI to learn how trees move. And to save millions of plant specimens.) - Saving MoBot_uses_AI_to_learn_how_trees_move__And_to_save_millions_of_plant_specimens__20240708_135857.html as utf-8\n"
     ]
    },
    {
     "name": "stderr",
     "output_type": "stream",
     "text": [
      "2024-07-08 13:58:57,898 - AInewsbot - INFO - Processing https://timesofindia.indiatimes.com/world/us/meet-hijab-clad-kenza-layli-from-morcco-worlds-first-ever-miss-ai/articleshow/111581841.cms\n",
      "2024-07-08 13:58:57,898 - AInewsbot - INFO - get_url(https://timesofindia.indiatimes.com/world/us/meet-hijab-clad-kenza-layli-from-morcco-worlds-first-ever-miss-ai/articleshow/111581841.cms) - starting get_files https://timesofindia.indiatimes.com/world/us/meet-hijab-clad-kenza-layli-from-morcco-worlds-first-ever-miss-ai/articleshow/111581841.cms\n",
      "2024-07-08 13:58:58,547 - AInewsbot - INFO - get_url(MoBot uses AI to save millions of plant specimens) - Saving MoBot_uses_AI_to_save_millions_of_plant_specimens_20240708_135858.html as utf-8\n",
      "2024-07-08 13:58:58,550 - AInewsbot - INFO - Processing https://nypost.com/2024/07/08/lifestyle/worlds-first-miss-ai-crowned-kenza-layli-from-morocco-genuinely-excited/\n",
      "2024-07-08 13:58:58,550 - AInewsbot - INFO - get_url(https://nypost.com/2024/07/08/lifestyle/worlds-first-miss-ai-crowned-kenza-layli-from-morocco-genuinely-excited/) - starting get_files https://nypost.com/2024/07/08/lifestyle/worlds-first-miss-ai-crowned-kenza-layli-from-morocco-genuinely-excited/\n",
      "2024-07-08 13:59:00,918 - AInewsbot - INFO - get_url(Machine learning identifies cancer-driving mutations at CTCF binding sites) - Saving Machine_learning_identifies_cancer-driving_mutations_at_CTCF_binding_sites_20240708_135900.html as utf-8\n",
      "2024-07-08 13:59:00,919 - AInewsbot - INFO - Processing https://news.mit.edu/2024/mit-researchers-introduce-generative-ai-databases-0708\n",
      "2024-07-08 13:59:00,919 - AInewsbot - INFO - get_url(https://news.mit.edu/2024/mit-researchers-introduce-generative-ai-databases-0708) - starting get_files https://news.mit.edu/2024/mit-researchers-introduce-generative-ai-databases-0708\n",
      "2024-07-08 13:59:09,008 - AInewsbot - INFO - get_url(Tiny robots with a big impact: microrobots for single-cell handling) - Saving Tiny_robots_with_a_big_impact__microrobots_for_single-cell_handling_20240708_135909.html as utf-8\n",
      "2024-07-08 13:59:09,010 - AInewsbot - INFO - Processing https://news.mit.edu/2024/mit-researchers-introduce-generative-ai-databases-0708\n",
      "2024-07-08 13:59:09,010 - AInewsbot - INFO - get_url(https://news.mit.edu/2024/mit-researchers-introduce-generative-ai-databases-0708) - starting get_files https://news.mit.edu/2024/mit-researchers-introduce-generative-ai-databases-0708\n",
      "2024-07-08 13:59:10,093 - AInewsbot - INFO - get_url(Meet hijab-clad Kenza Layli from Morcco, world's first-ever Miss AI who beat 1500 contestants) - Saving Meet_hijab-clad_Kenza_Layli_from_Morcco__world_s_first-ever_Miss_AI_who_beat_1500_contestants_20240708_135910.html as utf-8\n",
      "2024-07-08 13:59:10,096 - AInewsbot - INFO - Processing https://digiday.com/marketing/inside-aldos-in-house-generative-ai-and-machine-learning-strategy/\n",
      "2024-07-08 13:59:10,097 - AInewsbot - INFO - get_url(https://digiday.com/marketing/inside-aldos-in-house-generative-ai-and-machine-learning-strategy/) - starting get_files https://digiday.com/marketing/inside-aldos-in-house-generative-ai-and-machine-learning-strategy/\n",
      "2024-07-08 13:59:11,046 - AInewsbot - INFO - get_url(Worlds first Miss AI crowned  and shes a hijab-wearing activist from Morocco genuinely excited for the win) - Saving Worlds_first_Miss_AI_crowned__and_shes_a_hijab-wearing_activist_from_Morocco_genuinely_excited_for_the_win_20240708_135911.html as utf-8\n",
      "2024-07-08 13:59:11,049 - AInewsbot - INFO - Processing https://www.reddit.com/r/ProgrammerHumor/comments/1dxyx1j/mygenerativeeiaialgorithm/\n",
      "2024-07-08 13:59:11,050 - AInewsbot - INFO - get_url(https://www.reddit.com/r/ProgrammerHumor/comments/1dxyx1j/mygenerativeeiaialgorithm/) - starting get_files https://www.reddit.com/r/ProgrammerHumor/comments/1dxyx1j/mygenerativeeiaialgorithm/\n",
      "2024-07-08 13:59:11,106 - AInewsbot - INFO - get_url(MIT researchers introduce generative AI for databases) - Saving MIT_researchers_introduce_generative_AI_for_databases_20240708_135911.html as utf-8\n",
      "2024-07-08 13:59:11,108 - AInewsbot - INFO - Processing https://english.jagran.com/technology/youtube-music-may-soon-let-you-generate-custom-radio-via-natural-language-prompts-using-ai-details-inside-10172115\n",
      "2024-07-08 13:59:11,108 - AInewsbot - INFO - get_url(https://english.jagran.com/technology/youtube-music-may-soon-let-you-generate-custom-radio-via-natural-language-prompts-using-ai-details-inside-10172115) - starting get_files https://english.jagran.com/technology/youtube-music-may-soon-let-you-generate-custom-radio-via-natural-language-prompts-using-ai-details-inside-10172115\n",
      "2024-07-08 13:59:19,234 - AInewsbot - INFO - get_url(MIT researchers introduce generative AI for databases | MIT News | Massachusetts Institute of Technology) - Saving MIT_researchers_introduce_generative_AI_for_databases___MIT_News___Massachusetts_Institute_of_Technology_20240708_135919.html as utf-8\n",
      "2024-07-08 13:59:19,237 - AInewsbot - INFO - Processing https://www.techradar.com/streaming/youtube-music-is-piloting-music-any-way-you-like-prompt-generated-radio-using-ai\n",
      "2024-07-08 13:59:19,238 - AInewsbot - INFO - get_url(https://www.techradar.com/streaming/youtube-music-is-piloting-music-any-way-you-like-prompt-generated-radio-using-ai) - starting get_files https://www.techradar.com/streaming/youtube-music-is-piloting-music-any-way-you-like-prompt-generated-radio-using-ai\n",
      "2024-07-08 13:59:20,524 - AInewsbot - INFO - get_url(Inside ALDO's in-house generative AI and machine learning strategy) - Saving Inside_ALDO_s_in-house_generative_AI_and_machine_learning_strategy_20240708_135920.html as utf-8\n",
      "2024-07-08 13:59:20,525 - AInewsbot - INFO - Processing https://www.popsci.com/diy/how-to-use-gemini-ai-tools-chromebooks/\n",
      "2024-07-08 13:59:20,525 - AInewsbot - INFO - get_url(https://www.popsci.com/diy/how-to-use-gemini-ai-tools-chromebooks/) - starting get_files https://www.popsci.com/diy/how-to-use-gemini-ai-tools-chromebooks/\n",
      "2024-07-08 13:59:23,118 - AInewsbot - INFO - get_url(myGenerativeEiAiAlgorithm) - Saving myGenerativeEiAiAlgorithm_20240708_135923.html as utf-8\n",
      "2024-07-08 13:59:23,121 - AInewsbot - INFO - Processing https://mindmatters.ai/2024/07/will-ai-soon-help-animals-talk-to-us/\n",
      "2024-07-08 13:59:23,122 - AInewsbot - INFO - get_url(https://mindmatters.ai/2024/07/will-ai-soon-help-animals-talk-to-us/) - starting get_files https://mindmatters.ai/2024/07/will-ai-soon-help-animals-talk-to-us/\n",
      "2024-07-08 13:59:23,680 - AInewsbot - INFO - get_url(YouTube Music May Soon Let You Generate Custom Radio Via Natural Language Prompts Using AI; Details Inside) - Saving YouTube_Music_May_Soon_Let_You_Generate_Custom_Radio_Via_Natural_Language_Prompts_Using_AI__Details_Inside_20240708_135923.html as utf-8\n",
      "2024-07-08 13:59:23,683 - AInewsbot - INFO - Processing https://www.marketingdive.com/spons/how-prompting-and-integration-ai-assistants-have-sped-up-viral-video-conten/720652/\n",
      "2024-07-08 13:59:23,684 - AInewsbot - INFO - get_url(https://www.marketingdive.com/spons/how-prompting-and-integration-ai-assistants-have-sped-up-viral-video-conten/720652/) - starting get_files https://www.marketingdive.com/spons/how-prompting-and-integration-ai-assistants-have-sped-up-viral-video-conten/720652/\n",
      "2024-07-08 13:59:29,653 - AInewsbot - INFO - get_url(YouTube Music is piloting 'music any way you like' prompt-generated radio using AI) - Saving YouTube_Music_is_piloting__music_any_way_you_like__prompt-generated_radio_using_AI_20240708_135929.html as utf-8\n",
      "2024-07-08 13:59:29,654 - AInewsbot - INFO - Processing https://www.fingerlakes1.com/2024/07/08/nyseg-and-rge-use-ai-assistant-on-website-to-improve-customer-service/\n",
      "2024-07-08 13:59:29,654 - AInewsbot - INFO - get_url(https://www.fingerlakes1.com/2024/07/08/nyseg-and-rge-use-ai-assistant-on-website-to-improve-customer-service/) - starting get_files https://www.fingerlakes1.com/2024/07/08/nyseg-and-rge-use-ai-assistant-on-website-to-improve-customer-service/\n",
      "2024-07-08 13:59:31,042 - AInewsbot - INFO - get_url(How to use the new Gemini AI tools built into Chromebooks) - Saving How_to_use_the_new_Gemini_AI_tools_built_into_Chromebooks_20240708_135931.html as utf-8\n",
      "2024-07-08 13:59:31,045 - AInewsbot - INFO - Processing https://www.technologyreview.com/2024/07/08/1094742/the-download-vacation-planning-with-ai-and-smaller-models/\n"
     ]
    },
    {
     "name": "stderr",
     "output_type": "stream",
     "text": [
      "2024-07-08 13:59:31,045 - AInewsbot - INFO - get_url(https://www.technologyreview.com/2024/07/08/1094742/the-download-vacation-planning-with-ai-and-smaller-models/) - starting get_files https://www.technologyreview.com/2024/07/08/1094742/the-download-vacation-planning-with-ai-and-smaller-models/\n",
      "2024-07-08 13:59:34,379 - AInewsbot - INFO - get_url(How prompting and integration AI assistants have sped up viral video content production 100 fold) - Saving How_prompting_and_integration_AI_assistants_have_sped_up_viral_video_content_production_100_fold_20240708_135934.html as utf-8\n",
      "2024-07-08 13:59:34,382 - AInewsbot - INFO - Processing https://www.travelawaits.com/2993617/ai-trip-planning-how-to-use-ai-to-plan-your-next-vacation/\n",
      "2024-07-08 13:59:34,382 - AInewsbot - INFO - get_url(https://www.travelawaits.com/2993617/ai-trip-planning-how-to-use-ai-to-plan-your-next-vacation/) - starting get_files https://www.travelawaits.com/2993617/ai-trip-planning-how-to-use-ai-to-plan-your-next-vacation/\n",
      "2024-07-08 13:59:35,317 - AInewsbot - INFO - get_url(Will AI Soon Help Animals Talk To Us?) - Saving Will_AI_Soon_Help_Animals_Talk_To_Us__20240708_135935.html as utf-8\n",
      "2024-07-08 13:59:35,319 - AInewsbot - INFO - Processing https://www.technologyreview.com/2024/07/08/1094733/how-to-use-ai-to-plan-your-next-vacation/\n",
      "2024-07-08 13:59:35,320 - AInewsbot - INFO - get_url(https://www.technologyreview.com/2024/07/08/1094733/how-to-use-ai-to-plan-your-next-vacation/) - starting get_files https://www.technologyreview.com/2024/07/08/1094733/how-to-use-ai-to-plan-your-next-vacation/\n",
      "2024-07-08 13:59:40,460 - AInewsbot - INFO - get_url(NYSEG and RG&E use AI assistant on website to improve customer service) - Saving NYSEG_and_RG_E_use_AI_assistant_on_website_to_improve_customer_service_20240708_135940.html as utf-8\n",
      "2024-07-08 13:59:40,461 - AInewsbot - INFO - Processing https://www.travelandtourworld.com/news/article/everything-you-need-to-know-about-how-artificial-intelligence-transforming-travel-and-tourism-industry/\n",
      "2024-07-08 13:59:40,461 - AInewsbot - INFO - get_url(https://www.travelandtourworld.com/news/article/everything-you-need-to-know-about-how-artificial-intelligence-transforming-travel-and-tourism-industry/) - starting get_files https://www.travelandtourworld.com/news/article/everything-you-need-to-know-about-how-artificial-intelligence-transforming-travel-and-tourism-industry/\n",
      "2024-07-08 13:59:41,492 - AInewsbot - INFO - get_url(The Download: vacation planning with AI, and smaller models) - Saving The_Download__vacation_planning_with_AI__and_smaller_models_20240708_135941.html as utf-8\n",
      "2024-07-08 13:59:41,494 - AInewsbot - INFO - Processing https://elblog.pl/2024/07/07/the-role-of-artificial-intelligence-in-shaping-a-sustainable-future/\n",
      "2024-07-08 13:59:41,495 - AInewsbot - INFO - get_url(https://elblog.pl/2024/07/07/the-role-of-artificial-intelligence-in-shaping-a-sustainable-future/) - starting get_files https://elblog.pl/2024/07/07/the-role-of-artificial-intelligence-in-shaping-a-sustainable-future/\n",
      "2024-07-08 13:59:45,809 - AInewsbot - INFO - get_url(How to use AI to plan your next vacation) - Saving How_to_use_AI_to_plan_your_next_vacation_20240708_135945.html as utf-8\n",
      "2024-07-08 13:59:45,811 - AInewsbot - INFO - Processing https://www.reddit.com/r/ChatGPT/comments/1dxxh19/algenerated_movie_trailer_final_justice_the_first/\n",
      "2024-07-08 13:59:45,811 - AInewsbot - INFO - get_url(https://www.reddit.com/r/ChatGPT/comments/1dxxh19/algenerated_movie_trailer_final_justice_the_first/) - starting get_files https://www.reddit.com/r/ChatGPT/comments/1dxxh19/algenerated_movie_trailer_final_justice_the_first/\n",
      "2024-07-08 13:59:49,763 - AInewsbot - INFO - get_url(AI Trip Planning: How to Use AI to Plan Your Next Vacation) - Saving AI_Trip_Planning__How_to_Use_AI_to_Plan_Your_Next_Vacation_20240708_135949.html as utf-8\n",
      "2024-07-08 13:59:49,765 - AInewsbot - INFO - Processing https://petapixel.com/2024/07/08/the-worlds-first-ai-powered-movie-camera-transforms-filmed-footage-cmr-m1/\n",
      "2024-07-08 13:59:49,766 - AInewsbot - INFO - get_url(https://petapixel.com/2024/07/08/the-worlds-first-ai-powered-movie-camera-transforms-filmed-footage-cmr-m1/) - starting get_files https://petapixel.com/2024/07/08/the-worlds-first-ai-powered-movie-camera-transforms-filmed-footage-cmr-m1/\n",
      "2024-07-08 13:59:50,932 - AInewsbot - INFO - get_url(Everything You Need to Know About How Artificial Intelligence Transforming Travel and Tourism Industry) - Saving Everything_You_Need_to_Know_About_How_Artificial_Intelligence_Transforming_Travel_and_Tourism_Industry_20240708_135950.html as utf-8\n",
      "2024-07-08 13:59:50,934 - AInewsbot - INFO - Processing https://www.reddit.com/r/ChatGPT/comments/1dxqvjp/ai_is_fun_lol/\n",
      "2024-07-08 13:59:50,935 - AInewsbot - INFO - get_url(https://www.reddit.com/r/ChatGPT/comments/1dxqvjp/ai_is_fun_lol/) - starting get_files https://www.reddit.com/r/ChatGPT/comments/1dxqvjp/ai_is_fun_lol/\n",
      "2024-07-08 13:59:52,369 - AInewsbot - INFO - get_url(The Role of Artificial Intelligence in Shaping a Sustainable Future) - Saving The_Role_of_Artificial_Intelligence_in_Shaping_a_Sustainable_Future_20240708_135952.html as utf-8\n",
      "2024-07-08 13:59:52,370 - AInewsbot - INFO - Processing https://www.fudzilla.com/news/ai/59307-vole-claims-all-web-content-is-freeware-to-be-scraped-for-ai\n",
      "2024-07-08 13:59:52,370 - AInewsbot - INFO - get_url(https://www.fudzilla.com/news/ai/59307-vole-claims-all-web-content-is-freeware-to-be-scraped-for-ai) - starting get_files https://www.fudzilla.com/news/ai/59307-vole-claims-all-web-content-is-freeware-to-be-scraped-for-ai\n",
      "2024-07-08 13:59:58,201 - AInewsbot - INFO - get_url(Al-Generated Movie Trailer - Final Justice: The First Justice) - Saving Al-Generated_Movie_Trailer_-_Final_Justice__The_First_Justice_20240708_135958.html as utf-8\n",
      "2024-07-08 13:59:58,202 - AInewsbot - INFO - Processing https://www.cbsnews.com/miami/news/south-florida-hospital-using-ai-in-labor-and-delivery-ward/\n",
      "2024-07-08 13:59:58,202 - AInewsbot - INFO - get_url(https://www.cbsnews.com/miami/news/south-florida-hospital-using-ai-in-labor-and-delivery-ward/) - starting get_files https://www.cbsnews.com/miami/news/south-florida-hospital-using-ai-in-labor-and-delivery-ward/\n",
      "2024-07-08 14:00:00,241 - AInewsbot - INFO - get_url(The World's First AI-Powered Movie Camera Transforms Filmed Footage) - Saving The_World_s_First_AI-Powered_Movie_Camera_Transforms_Filmed_Footage_20240708_140000.html as utf-8\n",
      "2024-07-08 14:00:00,242 - AInewsbot - INFO - Processing https://www.nextgov.com/artificial-intelligence/2024/07/ai-can-enhance-health-care-and-enable-cost-savings-lawmaker-says/397829/\n",
      "2024-07-08 14:00:00,242 - AInewsbot - INFO - get_url(https://www.nextgov.com/artificial-intelligence/2024/07/ai-can-enhance-health-care-and-enable-cost-savings-lawmaker-says/397829/) - starting get_files https://www.nextgov.com/artificial-intelligence/2024/07/ai-can-enhance-health-care-and-enable-cost-savings-lawmaker-says/397829/\n",
      "2024-07-08 14:00:01,773 - AInewsbot - INFO - get_url(Ai is fun lol) - Saving Ai_is_fun_lol_20240708_140001.html as utf-8\n",
      "2024-07-08 14:00:01,774 - AInewsbot - INFO - Processing https://time.com/6994739/ai-behavior-change-health-care/\n",
      "2024-07-08 14:00:01,775 - AInewsbot - INFO - get_url(https://time.com/6994739/ai-behavior-change-health-care/) - starting get_files https://time.com/6994739/ai-behavior-change-health-care/\n",
      "2024-07-08 14:00:04,463 - AInewsbot - INFO - get_url(Vole claims all web content is freeware to be scraped for AI) - Saving Vole_claims_all_web_content_is_freeware_to_be_scraped_for_AI_20240708_140004.html as utf-8\n",
      "2024-07-08 14:00:04,464 - AInewsbot - INFO - Processing https://www.forbes.com/sites/stephenwunker/2024/07/08/how-ai-and-new-care-models-make-healthcare-easier-cheaper-and-better/\n",
      "2024-07-08 14:00:04,464 - AInewsbot - INFO - get_url(https://www.forbes.com/sites/stephenwunker/2024/07/08/how-ai-and-new-care-models-make-healthcare-easier-cheaper-and-better/) - starting get_files https://www.forbes.com/sites/stephenwunker/2024/07/08/how-ai-and-new-care-models-make-healthcare-easier-cheaper-and-better/\n",
      "2024-07-08 14:00:10,971 - AInewsbot - INFO - get_url(South Florida hospital using AI in labor and delivery ward) - Saving South_Florida_hospital_using_AI_in_labor_and_delivery_ward_20240708_140010.html as utf-8\n"
     ]
    },
    {
     "name": "stderr",
     "output_type": "stream",
     "text": [
      "2024-07-08 14:00:10,972 - AInewsbot - INFO - Processing https://cdt.org/event/u-s-access-board-information-session-foundation-on-artificial-intelligence-and-disability/\n",
      "2024-07-08 14:00:10,972 - AInewsbot - INFO - get_url(https://cdt.org/event/u-s-access-board-information-session-foundation-on-artificial-intelligence-and-disability/) - starting get_files https://cdt.org/event/u-s-access-board-information-session-foundation-on-artificial-intelligence-and-disability/\n",
      "2024-07-08 14:00:11,673 - AInewsbot - INFO - get_url(AI can enhance health care and enable cost savings, lawmaker says) - Saving AI_can_enhance_health_care_and_enable_cost_savings__lawmaker_says_20240708_140011.html as utf-8\n",
      "2024-07-08 14:00:11,673 - AInewsbot - INFO - Processing https://www.govtech.com/artificial-intelligence/government-partners-plan-together-for-accessible-ai\n",
      "2024-07-08 14:00:11,674 - AInewsbot - INFO - get_url(https://www.govtech.com/artificial-intelligence/government-partners-plan-together-for-accessible-ai) - starting get_files https://www.govtech.com/artificial-intelligence/government-partners-plan-together-for-accessible-ai\n",
      "2024-07-08 14:00:12,314 - AInewsbot - INFO - get_url(AI-Driven Behavior Change Could Transform Health Care) - Saving AI-Driven_Behavior_Change_Could_Transform_Health_Care_20240708_140012.html as utf-8\n",
      "2024-07-08 14:00:12,314 - AInewsbot - INFO - Processing https://www.cnn.com/2024/07/08/tech/ai-assistive-technology-disabilities\n",
      "2024-07-08 14:00:12,315 - AInewsbot - INFO - get_url(https://www.cnn.com/2024/07/08/tech/ai-assistive-technology-disabilities) - starting get_files https://www.cnn.com/2024/07/08/tech/ai-assistive-technology-disabilities\n",
      "2024-07-08 14:00:15,199 - AInewsbot - INFO - get_url(How AI And New Care Models Make Healthcare Easier, Cheaper, And Better) - Saving How_AI_And_New_Care_Models_Make_Healthcare_Easier__Cheaper__And_Better_20240708_140015.html as utf-8\n",
      "2024-07-08 14:00:15,200 - AInewsbot - INFO - Processing https://www.edweek.org/teaching-learning/can-ai-help-with-special-ed-theres-promise-and-reason-to-be-cautious/2024/07\n",
      "2024-07-08 14:00:15,201 - AInewsbot - INFO - get_url(https://www.edweek.org/teaching-learning/can-ai-help-with-special-ed-theres-promise-and-reason-to-be-cautious/2024/07) - starting get_files https://www.edweek.org/teaching-learning/can-ai-help-with-special-ed-theres-promise-and-reason-to-be-cautious/2024/07\n",
      "2024-07-08 14:00:21,422 - AInewsbot - INFO - get_url(U.S. Access Board Information Session: Foundation on Artificial Intelligence and Disability) - Saving U_S__Access_Board_Information_Session__Foundation_on_Artificial_Intelligence_and_Disability_20240708_140021.html as utf-8\n",
      "2024-07-08 14:00:21,425 - AInewsbot - INFO - Processing https://www.kqed.org/mindshift/64139/researchers-warn-of-potential-for-racial-bias-in-ai-apps-in-the-classroom\n",
      "2024-07-08 14:00:21,425 - AInewsbot - INFO - get_url(https://www.kqed.org/mindshift/64139/researchers-warn-of-potential-for-racial-bias-in-ai-apps-in-the-classroom) - starting get_files https://www.kqed.org/mindshift/64139/researchers-warn-of-potential-for-racial-bias-in-ai-apps-in-the-classroom\n",
      "2024-07-08 14:00:24,362 - AInewsbot - INFO - get_url(Government, Partners Plan Together for Accessible AI) - Saving Government__Partners_Plan_Together_for_Accessible_AI_20240708_140024.html as utf-8\n",
      "2024-07-08 14:00:24,364 - AInewsbot - INFO - Processing https://www.al.com/educationlab/2024/07/uab-adds-programs-for-students-interested-in-artificial-intelligence.html\n",
      "2024-07-08 14:00:24,364 - AInewsbot - INFO - get_url(https://www.al.com/educationlab/2024/07/uab-adds-programs-for-students-interested-in-artificial-intelligence.html) - starting get_files https://www.al.com/educationlab/2024/07/uab-adds-programs-for-students-interested-in-artificial-intelligence.html\n",
      "2024-07-08 14:00:25,927 - AInewsbot - INFO - get_url(We dont want to leave people behind: AI is helping disabled people in surprising new ways) - Saving We_dont_want_to_leave_people_behind__AI_is_helping_disabled_people_in_surprising_new_ways_20240708_140025.html as utf-8\n",
      "2024-07-08 14:00:25,933 - AInewsbot - INFO - Processing https://www.highereddive.com/news/artificial-intelligence-liberal-arts-education/720640/\n",
      "2024-07-08 14:00:25,933 - AInewsbot - INFO - get_url(https://www.highereddive.com/news/artificial-intelligence-liberal-arts-education/720640/) - starting get_files https://www.highereddive.com/news/artificial-intelligence-liberal-arts-education/720640/\n",
      "2024-07-08 14:00:26,609 - AInewsbot - INFO - get_url(Can AI Help With Special Ed.? There's Promiseand Reason to Be Cautious) - Saving Can_AI_Help_With_Special_Ed___There_s_Promiseand_Reason_to_Be_Cautious_20240708_140026.html as utf-8\n",
      "2024-07-08 14:00:26,609 - AInewsbot - INFO - Processing https://www.insidehighered.com/news/tech-innovation/artificial-intelligence/2024/07/08/mary-meeker-urges-higher-ed-lead-ai\n",
      "2024-07-08 14:00:26,610 - AInewsbot - INFO - get_url(https://www.insidehighered.com/news/tech-innovation/artificial-intelligence/2024/07/08/mary-meeker-urges-higher-ed-lead-ai) - starting get_files https://www.insidehighered.com/news/tech-innovation/artificial-intelligence/2024/07/08/mary-meeker-urges-higher-ed-lead-ai\n",
      "2024-07-08 14:00:33,049 - AInewsbot - INFO - get_url(Researchers Warn of Potential for Racial Bias in AI Apps in the Classroom) - Saving Researchers_Warn_of_Potential_for_Racial_Bias_in_AI_Apps_in_the_Classroom_20240708_140033.html as utf-8\n",
      "2024-07-08 14:00:33,051 - AInewsbot - INFO - Quit webdriver\n",
      "2024-07-08 14:00:34,816 - AInewsbot - INFO - get_url(UAB adds programs for students interested inartificial intelligence) - Saving UAB_adds_programs_for_students_interested_inartificial_intelligence_20240708_140034.html as utf-8\n",
      "2024-07-08 14:00:34,817 - AInewsbot - INFO - Quit webdriver\n",
      "2024-07-08 14:00:36,932 - AInewsbot - INFO - get_url(Mary Meeker urges higher ed to lead in AI) - Saving Mary_Meeker_urges_higher_ed_to_lead_in_AI_20240708_140036.html as utf-8\n",
      "2024-07-08 14:00:36,935 - AInewsbot - INFO - Quit webdriver\n",
      "2024-07-08 14:00:37,040 - AInewsbot - INFO - get_url(How will the rise of AI in the workplace impact liberal arts education?) - Saving How_will_the_rise_of_AI_in_the_workplace_impact_liberal_arts_education__20240708_140037.html as utf-8\n",
      "2024-07-08 14:00:37,046 - AInewsbot - INFO - Quit webdriver\n"
     ]
    }
   ],
   "source": [
    "# scrape urls in queue asynchronously\n",
    "num_browsers = 4\n",
    "\n",
    "callable = process_url_queue_factory(queue)\n",
    "\n",
    "log(f\"fetching {len(AIdf)} pages using {num_browsers} browsers\")\n",
    "saved_pages = launch_drivers(num_browsers, callable)\n"
   ]
  },
  {
   "cell_type": "code",
   "execution_count": 126,
   "id": "0f75589b",
   "metadata": {},
   "outputs": [
    {
     "data": {
      "text/html": [
       "<div>\n",
       "<style scoped>\n",
       "    .dataframe tbody tr th:only-of-type {\n",
       "        vertical-align: middle;\n",
       "    }\n",
       "\n",
       "    .dataframe tbody tr th {\n",
       "        vertical-align: top;\n",
       "    }\n",
       "\n",
       "    .dataframe thead th {\n",
       "        text-align: right;\n",
       "    }\n",
       "</style>\n",
       "<table border=\"1\" class=\"dataframe\">\n",
       "  <thead>\n",
       "    <tr style=\"text-align: right;\">\n",
       "      <th></th>\n",
       "      <th>id</th>\n",
       "      <th>url</th>\n",
       "      <th>title</th>\n",
       "      <th>path</th>\n",
       "    </tr>\n",
       "  </thead>\n",
       "  <tbody>\n",
       "    <tr>\n",
       "      <th>0</th>\n",
       "      <td>0</td>\n",
       "      <td>https://www.digitaltrends.com/computing/claude...</td>\n",
       "      <td>Heres how Claude 3.5 Sonnet and GPT-4o stack u...</td>\n",
       "      <td>htmldata/Heres_how_Claude_3_5_Sonnet_and_GPT-4...</td>\n",
       "    </tr>\n",
       "    <tr>\n",
       "      <th>1</th>\n",
       "      <td>6</td>\n",
       "      <td>https://www.reddit.com/r/technology/comments/1...</td>\n",
       "      <td>How Good Is ChatGPT at Coding, Really? Study f...</td>\n",
       "      <td>htmldata/How_Good_Is_ChatGPT_at_Coding__Really...</td>\n",
       "    </tr>\n",
       "    <tr>\n",
       "      <th>2</th>\n",
       "      <td>8</td>\n",
       "      <td>https://www.fastcompany.com/91147661/can-chatg...</td>\n",
       "      <td>Can ChatGPT handle HR? Here's what happened wh...</td>\n",
       "      <td>htmldata/Can_ChatGPT_handle_HR__Here_s_what_ha...</td>\n",
       "    </tr>\n",
       "    <tr>\n",
       "      <th>3</th>\n",
       "      <td>12</td>\n",
       "      <td>https://news.bloomberglaw.com/litigation/opena...</td>\n",
       "      <td>OpenAI, GitHub Beat Digital Copyright Claims F...</td>\n",
       "      <td>htmldata/OpenAI__GitHub_Beat_Digital_Copyright...</td>\n",
       "    </tr>\n",
       "    <tr>\n",
       "      <th>4</th>\n",
       "      <td>16</td>\n",
       "      <td>https://hackernoon.com/converting-epicsstories...</td>\n",
       "      <td>Converting Epics/Stories into Pseudocode using...</td>\n",
       "      <td>htmldata/Converting_Epics_Stories_into_Pseudoc...</td>\n",
       "    </tr>\n",
       "    <tr>\n",
       "      <th>...</th>\n",
       "      <td>...</td>\n",
       "      <td>...</td>\n",
       "      <td>...</td>\n",
       "      <td>...</td>\n",
       "    </tr>\n",
       "    <tr>\n",
       "      <th>136</th>\n",
       "      <td>123</td>\n",
       "      <td>https://www.travelandtourworld.com/news/articl...</td>\n",
       "      <td>Everything You Need to Know About How Artifici...</td>\n",
       "      <td>htmldata/Everything_You_Need_to_Know_About_How...</td>\n",
       "    </tr>\n",
       "    <tr>\n",
       "      <th>137</th>\n",
       "      <td>127</td>\n",
       "      <td>https://www.reddit.com/r/ChatGPT/comments/1dxq...</td>\n",
       "      <td>Ai is fun lol</td>\n",
       "      <td>htmldata/Ai_is_fun_lol_20240708_140001.html</td>\n",
       "    </tr>\n",
       "    <tr>\n",
       "      <th>138</th>\n",
       "      <td>131</td>\n",
       "      <td>https://time.com/6994739/ai-behavior-change-he...</td>\n",
       "      <td>AI-Driven Behavior Change Could Transform Heal...</td>\n",
       "      <td>htmldata/AI-Driven_Behavior_Change_Could_Trans...</td>\n",
       "    </tr>\n",
       "    <tr>\n",
       "      <th>139</th>\n",
       "      <td>135</td>\n",
       "      <td>https://www.cnn.com/2024/07/08/tech/ai-assisti...</td>\n",
       "      <td>We dont want to leave people behind: AI is hel...</td>\n",
       "      <td>htmldata/We_dont_want_to_leave_people_behind__...</td>\n",
       "    </tr>\n",
       "    <tr>\n",
       "      <th>140</th>\n",
       "      <td>139</td>\n",
       "      <td>https://www.highereddive.com/news/artificial-i...</td>\n",
       "      <td>How will the rise of AI in the workplace impac...</td>\n",
       "      <td>htmldata/How_will_the_rise_of_AI_in_the_workpl...</td>\n",
       "    </tr>\n",
       "  </tbody>\n",
       "</table>\n",
       "<p>141 rows × 4 columns</p>\n",
       "</div>"
      ],
      "text/plain": [
       "      id                                                url  \\\n",
       "0      0  https://www.digitaltrends.com/computing/claude...   \n",
       "1      6  https://www.reddit.com/r/technology/comments/1...   \n",
       "2      8  https://www.fastcompany.com/91147661/can-chatg...   \n",
       "3     12  https://news.bloomberglaw.com/litigation/opena...   \n",
       "4     16  https://hackernoon.com/converting-epicsstories...   \n",
       "..   ...                                                ...   \n",
       "136  123  https://www.travelandtourworld.com/news/articl...   \n",
       "137  127  https://www.reddit.com/r/ChatGPT/comments/1dxq...   \n",
       "138  131  https://time.com/6994739/ai-behavior-change-he...   \n",
       "139  135  https://www.cnn.com/2024/07/08/tech/ai-assisti...   \n",
       "140  139  https://www.highereddive.com/news/artificial-i...   \n",
       "\n",
       "                                                 title  \\\n",
       "0    Heres how Claude 3.5 Sonnet and GPT-4o stack u...   \n",
       "1    How Good Is ChatGPT at Coding, Really? Study f...   \n",
       "2    Can ChatGPT handle HR? Here's what happened wh...   \n",
       "3    OpenAI, GitHub Beat Digital Copyright Claims F...   \n",
       "4    Converting Epics/Stories into Pseudocode using...   \n",
       "..                                                 ...   \n",
       "136  Everything You Need to Know About How Artifici...   \n",
       "137                                      Ai is fun lol   \n",
       "138  AI-Driven Behavior Change Could Transform Heal...   \n",
       "139  We dont want to leave people behind: AI is hel...   \n",
       "140  How will the rise of AI in the workplace impac...   \n",
       "\n",
       "                                                  path  \n",
       "0    htmldata/Heres_how_Claude_3_5_Sonnet_and_GPT-4...  \n",
       "1    htmldata/How_Good_Is_ChatGPT_at_Coding__Really...  \n",
       "2    htmldata/Can_ChatGPT_handle_HR__Here_s_what_ha...  \n",
       "3    htmldata/OpenAI__GitHub_Beat_Digital_Copyright...  \n",
       "4    htmldata/Converting_Epics_Stories_into_Pseudoc...  \n",
       "..                                                 ...  \n",
       "136  htmldata/Everything_You_Need_to_Know_About_How...  \n",
       "137        htmldata/Ai_is_fun_lol_20240708_140001.html  \n",
       "138  htmldata/AI-Driven_Behavior_Change_Could_Trans...  \n",
       "139  htmldata/We_dont_want_to_leave_people_behind__...  \n",
       "140  htmldata/How_will_the_rise_of_AI_in_the_workpl...  \n",
       "\n",
       "[141 rows x 4 columns]"
      ]
     },
     "execution_count": 126,
     "metadata": {},
     "output_type": "execute_result"
    }
   ],
   "source": [
    "pages_df = pd.DataFrame(saved_pages)\n",
    "pages_df.columns = ['id', 'url', 'title', 'path']\n",
    "pages_df"
   ]
  },
  {
   "cell_type": "code",
   "execution_count": 127,
   "id": "56202217",
   "metadata": {},
   "outputs": [],
   "source": [
    "AIdf = pd.merge(AIdf, pages_df[[\"id\", \"path\"]], on='id', how=\"inner\")\n"
   ]
  },
  {
   "cell_type": "code",
   "execution_count": 128,
   "id": "a6ada9c1",
   "metadata": {},
   "outputs": [
    {
     "data": {
      "text/html": [
       "<div>\n",
       "<style scoped>\n",
       "    .dataframe tbody tr th:only-of-type {\n",
       "        vertical-align: middle;\n",
       "    }\n",
       "\n",
       "    .dataframe tbody tr th {\n",
       "        vertical-align: top;\n",
       "    }\n",
       "\n",
       "    .dataframe thead th {\n",
       "        text-align: right;\n",
       "    }\n",
       "</style>\n",
       "<table border=\"1\" class=\"dataframe\">\n",
       "  <thead>\n",
       "    <tr style=\"text-align: right;\">\n",
       "      <th></th>\n",
       "      <th>id</th>\n",
       "      <th>src</th>\n",
       "      <th>title</th>\n",
       "      <th>url</th>\n",
       "      <th>isAI</th>\n",
       "      <th>date</th>\n",
       "      <th>topic_str</th>\n",
       "      <th>cluster</th>\n",
       "      <th>path</th>\n",
       "    </tr>\n",
       "  </thead>\n",
       "  <tbody>\n",
       "    <tr>\n",
       "      <th>0</th>\n",
       "      <td>0</td>\n",
       "      <td>Google News</td>\n",
       "      <td>Heres how Claude 3.5 Sonnet and GPT-4o stack u...</td>\n",
       "      <td>https://www.digitaltrends.com/computing/claude...</td>\n",
       "      <td>True</td>\n",
       "      <td>2024-07-08</td>\n",
       "      <td>Heres how Claude 3.5 Sonnet and GPT-4o stack u...</td>\n",
       "      <td>0</td>\n",
       "      <td>htmldata/Heres_how_Claude_3_5_Sonnet_and_GPT-4...</td>\n",
       "    </tr>\n",
       "    <tr>\n",
       "      <th>1</th>\n",
       "      <td>1</td>\n",
       "      <td>Google News</td>\n",
       "      <td>Why Claude 3.5 Sonnet is the AI to Watch, Not ...</td>\n",
       "      <td>https://www.techopedia.com/news/why-claude-3-5...</td>\n",
       "      <td>True</td>\n",
       "      <td>2024-07-08</td>\n",
       "      <td>Why Claude 3.5 Sonnet is the AI to Watch, Not ...</td>\n",
       "      <td>0</td>\n",
       "      <td>htmldata/Why_Claude_3_5_Sonnet_is_the_AI_to_Wa...</td>\n",
       "    </tr>\n",
       "    <tr>\n",
       "      <th>2</th>\n",
       "      <td>2</td>\n",
       "      <td>Google News</td>\n",
       "      <td>Claude AI: A Comprehensive Overview Exploring ...</td>\n",
       "      <td>https://www.marktechpost.com/2024/07/05/claude...</td>\n",
       "      <td>True</td>\n",
       "      <td>2024-07-08</td>\n",
       "      <td>Claude AI: A Comprehensive Overview Exploring ...</td>\n",
       "      <td>0</td>\n",
       "      <td>htmldata/Claude_AI__A_Comprehensive_Overview_E...</td>\n",
       "    </tr>\n",
       "    <tr>\n",
       "      <th>3</th>\n",
       "      <td>3</td>\n",
       "      <td>Feedly AI</td>\n",
       "      <td>Exciting Claude 3 Projects with internal knowl...</td>\n",
       "      <td>https://www.geeky-gadgets.com/claude-projects/</td>\n",
       "      <td>True</td>\n",
       "      <td>2024-07-08</td>\n",
       "      <td>Exciting Claude 3 Projects with internal knowl...</td>\n",
       "      <td>0</td>\n",
       "      <td>htmldata/Exciting_Claude_3_Projects_with_inter...</td>\n",
       "    </tr>\n",
       "    <tr>\n",
       "      <th>4</th>\n",
       "      <td>4</td>\n",
       "      <td>Reddit</td>\n",
       "      <td>University examiners fail to spot ChatGPT answ...</td>\n",
       "      <td>https://www.reddit.com/r/technology/comments/1...</td>\n",
       "      <td>True</td>\n",
       "      <td>2024-07-08</td>\n",
       "      <td>University examiners fail to spot ChatGPT answ...</td>\n",
       "      <td>-1</td>\n",
       "      <td>htmldata/University_examiners_fail_to_spot_Cha...</td>\n",
       "    </tr>\n",
       "    <tr>\n",
       "      <th>...</th>\n",
       "      <td>...</td>\n",
       "      <td>...</td>\n",
       "      <td>...</td>\n",
       "      <td>...</td>\n",
       "      <td>...</td>\n",
       "      <td>...</td>\n",
       "      <td>...</td>\n",
       "      <td>...</td>\n",
       "      <td>...</td>\n",
       "    </tr>\n",
       "    <tr>\n",
       "      <th>136</th>\n",
       "      <td>136</td>\n",
       "      <td>Google News</td>\n",
       "      <td>Can AI Help With Special Ed.? There's Promisea...</td>\n",
       "      <td>https://www.edweek.org/teaching-learning/can-a...</td>\n",
       "      <td>True</td>\n",
       "      <td>2024-07-08</td>\n",
       "      <td>Can AI Help With Special Ed.? There's Promisea...</td>\n",
       "      <td>-1</td>\n",
       "      <td>htmldata/Can_AI_Help_With_Special_Ed___There_s...</td>\n",
       "    </tr>\n",
       "    <tr>\n",
       "      <th>137</th>\n",
       "      <td>137</td>\n",
       "      <td>Feedly AI</td>\n",
       "      <td>Researchers Warn of Potential for Racial Bias ...</td>\n",
       "      <td>https://www.kqed.org/mindshift/64139/researche...</td>\n",
       "      <td>True</td>\n",
       "      <td>2024-07-08</td>\n",
       "      <td>Researchers Warn of Potential for Racial Bias ...</td>\n",
       "      <td>-1</td>\n",
       "      <td>htmldata/Researchers_Warn_of_Potential_for_Rac...</td>\n",
       "    </tr>\n",
       "    <tr>\n",
       "      <th>138</th>\n",
       "      <td>138</td>\n",
       "      <td>Feedly AI</td>\n",
       "      <td>UAB adds programs for students interested inar...</td>\n",
       "      <td>https://www.al.com/educationlab/2024/07/uab-ad...</td>\n",
       "      <td>True</td>\n",
       "      <td>2024-07-08</td>\n",
       "      <td>UAB adds programs for students interested inar...</td>\n",
       "      <td>-1</td>\n",
       "      <td>htmldata/UAB_adds_programs_for_students_intere...</td>\n",
       "    </tr>\n",
       "    <tr>\n",
       "      <th>139</th>\n",
       "      <td>139</td>\n",
       "      <td>Feedly AI</td>\n",
       "      <td>How will the rise of AI in the workplace impac...</td>\n",
       "      <td>https://www.highereddive.com/news/artificial-i...</td>\n",
       "      <td>True</td>\n",
       "      <td>2024-07-08</td>\n",
       "      <td>How will the rise of AI in the workplace impac...</td>\n",
       "      <td>-1</td>\n",
       "      <td>htmldata/How_will_the_rise_of_AI_in_the_workpl...</td>\n",
       "    </tr>\n",
       "    <tr>\n",
       "      <th>140</th>\n",
       "      <td>140</td>\n",
       "      <td>Google News</td>\n",
       "      <td>Mary Meeker urges higher ed to lead in AI</td>\n",
       "      <td>https://www.insidehighered.com/news/tech-innov...</td>\n",
       "      <td>True</td>\n",
       "      <td>2024-07-08</td>\n",
       "      <td>Mary Meeker urges higher ed to lead in AI (Top...</td>\n",
       "      <td>-1</td>\n",
       "      <td>htmldata/Mary_Meeker_urges_higher_ed_to_lead_i...</td>\n",
       "    </tr>\n",
       "  </tbody>\n",
       "</table>\n",
       "<p>141 rows × 9 columns</p>\n",
       "</div>"
      ],
      "text/plain": [
       "      id          src                                              title  \\\n",
       "0      0  Google News  Heres how Claude 3.5 Sonnet and GPT-4o stack u...   \n",
       "1      1  Google News  Why Claude 3.5 Sonnet is the AI to Watch, Not ...   \n",
       "2      2  Google News  Claude AI: A Comprehensive Overview Exploring ...   \n",
       "3      3    Feedly AI  Exciting Claude 3 Projects with internal knowl...   \n",
       "4      4       Reddit  University examiners fail to spot ChatGPT answ...   \n",
       "..   ...          ...                                                ...   \n",
       "136  136  Google News  Can AI Help With Special Ed.? There's Promisea...   \n",
       "137  137    Feedly AI  Researchers Warn of Potential for Racial Bias ...   \n",
       "138  138    Feedly AI  UAB adds programs for students interested inar...   \n",
       "139  139    Feedly AI  How will the rise of AI in the workplace impac...   \n",
       "140  140  Google News          Mary Meeker urges higher ed to lead in AI   \n",
       "\n",
       "                                                   url  isAI        date  \\\n",
       "0    https://www.digitaltrends.com/computing/claude...  True  2024-07-08   \n",
       "1    https://www.techopedia.com/news/why-claude-3-5...  True  2024-07-08   \n",
       "2    https://www.marktechpost.com/2024/07/05/claude...  True  2024-07-08   \n",
       "3       https://www.geeky-gadgets.com/claude-projects/  True  2024-07-08   \n",
       "4    https://www.reddit.com/r/technology/comments/1...  True  2024-07-08   \n",
       "..                                                 ...   ...         ...   \n",
       "136  https://www.edweek.org/teaching-learning/can-a...  True  2024-07-08   \n",
       "137  https://www.kqed.org/mindshift/64139/researche...  True  2024-07-08   \n",
       "138  https://www.al.com/educationlab/2024/07/uab-ad...  True  2024-07-08   \n",
       "139  https://www.highereddive.com/news/artificial-i...  True  2024-07-08   \n",
       "140  https://www.insidehighered.com/news/tech-innov...  True  2024-07-08   \n",
       "\n",
       "                                             topic_str  cluster  \\\n",
       "0    Heres how Claude 3.5 Sonnet and GPT-4o stack u...        0   \n",
       "1    Why Claude 3.5 Sonnet is the AI to Watch, Not ...        0   \n",
       "2    Claude AI: A Comprehensive Overview Exploring ...        0   \n",
       "3    Exciting Claude 3 Projects with internal knowl...        0   \n",
       "4    University examiners fail to spot ChatGPT answ...       -1   \n",
       "..                                                 ...      ...   \n",
       "136  Can AI Help With Special Ed.? There's Promisea...       -1   \n",
       "137  Researchers Warn of Potential for Racial Bias ...       -1   \n",
       "138  UAB adds programs for students interested inar...       -1   \n",
       "139  How will the rise of AI in the workplace impac...       -1   \n",
       "140  Mary Meeker urges higher ed to lead in AI (Top...       -1   \n",
       "\n",
       "                                                  path  \n",
       "0    htmldata/Heres_how_Claude_3_5_Sonnet_and_GPT-4...  \n",
       "1    htmldata/Why_Claude_3_5_Sonnet_is_the_AI_to_Wa...  \n",
       "2    htmldata/Claude_AI__A_Comprehensive_Overview_E...  \n",
       "3    htmldata/Exciting_Claude_3_Projects_with_inter...  \n",
       "4    htmldata/University_examiners_fail_to_spot_Cha...  \n",
       "..                                                 ...  \n",
       "136  htmldata/Can_AI_Help_With_Special_Ed___There_s...  \n",
       "137  htmldata/Researchers_Warn_of_Potential_for_Rac...  \n",
       "138  htmldata/UAB_adds_programs_for_students_intere...  \n",
       "139  htmldata/How_will_the_rise_of_AI_in_the_workpl...  \n",
       "140  htmldata/Mary_Meeker_urges_higher_ed_to_lead_i...  \n",
       "\n",
       "[141 rows x 9 columns]"
      ]
     },
     "execution_count": 128,
     "metadata": {},
     "output_type": "execute_result"
    }
   ],
   "source": [
    "AIdf"
   ]
  },
  {
   "cell_type": "markdown",
   "id": "a5793763",
   "metadata": {},
   "source": [
    "# Summarize individual pages"
   ]
  },
  {
   "cell_type": "code",
   "execution_count": 130,
   "id": "5ab2a6a8",
   "metadata": {},
   "outputs": [
    {
     "name": "stdout",
     "output_type": "stream",
     "text": [
      "You are a summarization assistant.\n",
      "You will summarize the main content of provided text from HTML files in 3 bullet points or less.\n",
      "You will output Markdown format.\n",
      "You will ignore any content that appears to be navigation menus, footers, sidebars, or other boilerplate content.\n",
      "You will provide the bullet points only, without any introduction such as 'here are' or any conclusion, or comment.\n",
      "\n"
     ]
    }
   ],
   "source": [
    "print(SUMMARIZE_SYSTEM_PROMPT)\n"
   ]
  },
  {
   "cell_type": "code",
   "execution_count": 131,
   "id": "08ccf2c6",
   "metadata": {},
   "outputs": [
    {
     "name": "stdout",
     "output_type": "stream",
     "text": [
      "Summarize the main points of the following text concisely in at most 3 bullet points:\n",
      "\n"
     ]
    }
   ],
   "source": [
    "print(SUMMARIZE_USER_PROMPT)\n"
   ]
  },
  {
   "cell_type": "code",
   "execution_count": 132,
   "id": "107d7778",
   "metadata": {},
   "outputs": [
    {
     "name": "stderr",
     "output_type": "stream",
     "text": [
      "2024-07-08 14:02:40,590 - AInewsbot - INFO - Starting summarize\n",
      "2024-07-08 14:02:49,483 - AInewsbot - INFO - Received 141 summaries\n"
     ]
    },
    {
     "name": "stdout",
     "output_type": "stream",
     "text": [
      "(0, {'id': 'chatcmpl-9imzGOkoHL1jPPZTNBgDt8DFmU33B', 'object': 'chat.completion', 'created': 1720461766, 'model': 'gpt-3.5-turbo-0125', 'choices': [{'index': 0, 'message': {'role': 'assistant', 'content': '- Claude 3.5 Sonnet and GPT-4o are AI assistants with impressive capabilities\\n- Claude offers advantages like a larger context window, emphasis on accuracy, and ethical judgments\\n- GPT-4o provides a wider range of functions, image generation, flexible log-in options, and more creative content capabilities'}, 'logprobs': None, 'finish_reason': 'stop'}], 'usage': {'prompt_tokens': 4227, 'completion_tokens': 65, 'total_tokens': 4292}, 'system_fingerprint': None})\n"
     ]
    }
   ],
   "source": [
    "# Here we are fetching all at once, could be 200 summaries, so we are firing off 200 REST requests at once\n",
    "# This seems like a bad idea, could loop through and fire off e.g. 10 at a time, or use queues and workers (seems pointless)\n",
    "# But it works and runs fast on 3.5 and if ChatGPT doesn't like it they could throttle it\n",
    "\n",
    "log(\"Starting summarize\")\n",
    "responses = await fetch_all_summaries(AIdf)\n",
    "log(f\"Received {len(responses)} summaries\")\n",
    "print(responses[0])\n"
   ]
  },
  {
   "cell_type": "code",
   "execution_count": 133,
   "id": "f942c30f",
   "metadata": {},
   "outputs": [
    {
     "data": {
      "text/plain": [
       "141"
      ]
     },
     "execution_count": 133,
     "metadata": {},
     "output_type": "execute_result"
    }
   ],
   "source": [
    "# bring summaries into dict\n",
    "response_dict = {}\n",
    "for i, response in responses:\n",
    "    try:\n",
    "        response_str = response[\"choices\"][0][\"message\"][\"content\"]\n",
    "        response_dict[i] = response_str\n",
    "    except Exception as exc:\n",
    "        print(exc)\n",
    "        \n",
    "len(response_dict)"
   ]
  },
  {
   "cell_type": "code",
   "execution_count": 142,
   "id": "91263777",
   "metadata": {},
   "outputs": [
    {
     "data": {
      "text/markdown": [
       "[1. Heres how Claude 3.5 Sonnet and GPT-4o stack up in a direct comparison (Topics: ['Chatgpt', 'Claude 3.5', 'Comparison', 'Gen AI', 'Gpt-4O', 'Language Models', 'Openai', 'Sonnet']) - Google News](https://www.digitaltrends.com/computing/claude-sonnet-vs-gpt-4o-comparison/)  \n",
       "\n",
       "- Claude 3.5 Sonnet and GPT-4o are AI assistants with impressive capabilities\n",
       "- Claude offers advantages like a larger context window, emphasis on accuracy, and ethical judgments\n",
       "- GPT-4o provides a wider range of functions, image generation, flexible log-in options, and more creative content capabilities \n",
       "\n"
      ],
      "text/plain": [
       "<IPython.core.display.Markdown object>"
      ]
     },
     "metadata": {},
     "output_type": "display_data"
    },
    {
     "data": {
      "text/markdown": [
       "[2. Why Claude 3.5 Sonnet is the AI to Watch, Not ChatGPT-4o (Topics: ['Claude', 'Claude 3.5 Sonnet', 'Gen AI', 'Technology Trends']) - Google News](https://www.techopedia.com/news/why-claude-3-5-sonnet-is-the-ai-to-watch-not-chatgpt-4o)  \n",
       "\n",
       "- Claude 3.5 Sonnet is gaining popularity in the AI space, surpassing ChatGPT-4o in coding, reasoning, and visual processing.\n",
       "- Claude 3.5 Sonnet offers features like the Artifacts tool for generating diverse content and plans for memory features and expanded models.\n",
       "- Anthropic has emphasized security and privacy for Claude 3.5 Sonnet, undergoing testing by external experts and implementing rigorous policy feedback mechanisms. \n",
       "\n"
      ],
      "text/plain": [
       "<IPython.core.display.Markdown object>"
      ]
     },
     "metadata": {},
     "output_type": "display_data"
    },
    {
     "data": {
      "text/markdown": [
       "[3. Claude AI: A Comprehensive Overview Exploring the Advanced Capabilities and Ethical Design of Anthropics Leading Language Model (Topics: ['Anthropic', 'Claude', 'Claude AI', 'Cohere', 'Ethical Design', 'Ethical Issues', 'Language Models', 'Llms']) - Google News](https://www.marktechpost.com/2024/07/05/claude-ai-a-comprehensive-overview-exploring-the-advanced-capabilities-and-ethical-design-of-anthropics-leading-language-model/)  \n",
       "\n",
       "- Claude AI is a large language model developed by Anthropic, known for its stringent AI ethics and safe AI systems\n",
       "- Key features of Claude AI include natural conversations, content creation, language translation, visual processing, and code generation\n",
       "- Claude AI demonstrates superior performance and safety compared to ChatGPT, with larger context window and ethical guidelines \n",
       "\n"
      ],
      "text/plain": [
       "<IPython.core.display.Markdown object>"
      ]
     },
     "metadata": {},
     "output_type": "display_data"
    },
    {
     "data": {
      "text/markdown": [
       "[4. Exciting Claude 3 Projects with internal knowledge, 200k context window (Topics: ['Chatgpt', 'Claude', 'Claude 3', 'Code Assistants', 'Cohere', 'Context Window', 'Knowledge', 'Language Models', 'Llms', 'Openai', 'Projects']) - Feedly AI](https://www.geeky-gadgets.com/claude-projects/)  \n",
       "\n",
       "- Centralized knowledge repository for easy access and reference, custom instructions to guide AI outputs, and 200,000 context window for extensive data integration\n",
       "- Seamless collaboration and communication through inviting team members to collaborate seamlessly, sharing conversation snapshots, and streamlining communication to keep everyone aligned on project goals\n",
       "- Versatile use cases for creating style guides, managing code bases, and analyzing interview transcripts, enhanced efficiency and organization with multiple chat threads and ample storage for project knowledge \n",
       "\n"
      ],
      "text/plain": [
       "<IPython.core.display.Markdown object>"
      ]
     },
     "metadata": {},
     "output_type": "display_data"
    },
    {
     "data": {
      "text/markdown": [
       "[5. University examiners fail to spot ChatGPT answers in real-world test (Topics: ['AI Doom', 'Chatgpt', 'Code Assistants', 'Cohere', 'Education', 'Ethical Issues', 'Examiners', 'Gen AI', 'Language Models', 'Openai', 'Privacy', 'Real-World Test', 'Technology Assessment', 'Testing']) - Reddit](https://www.reddit.com/r/technology/comments/1dxw16s/university_examiners_fail_to_spot_chatgpt_answers/)  \n",
       "\n",
       "- University examiners failed to detect ChatGPT-generated answers, which accounted for 5% of scripts marked\n",
       "- Methods like in-person exams without computer access are suggested to prevent AI cheating\n",
       "- Discussion around the use of AI in exams and the importance of teaching critical thinking and practical skills in education \n",
       "\n"
      ],
      "text/plain": [
       "<IPython.core.display.Markdown object>"
      ]
     },
     "metadata": {},
     "output_type": "display_data"
    },
    {
     "data": {
      "text/markdown": [
       "[6. ChatGPT is funnier than humans (and its no joke for professional writers) (Topics: ['Chatgpt', 'Code Assistants', 'Creativity', 'Gen AI', 'Language Models', 'Openai', 'Robots', 'Writing']) - Feedly AI](https://newatlas.com/technology/chatgpt-is-funnier/)  \n",
       "\n",
       "- ChatGPT-generated comedy is found to be funnier or as funny as comedy written by humans, including professional writers, suggesting AI's impact on the entertainment industry.\n",
       "- A study comparing ChatGPT with humans in comedy tasks revealed that ChatGPT's responses were rated funnier by participants, with particularly strong performance in roast jokes.\n",
       "- In another study, ChatGPT's ability to generate satirical news headlines was compared to The Onion's headlines, with participants rating both sources similarly funny, posing a threat to professional comedy writers. \n",
       "\n"
      ],
      "text/plain": [
       "<IPython.core.display.Markdown object>"
      ]
     },
     "metadata": {},
     "output_type": "display_data"
    },
    {
     "data": {
      "text/markdown": [
       "[7. How Good Is ChatGPT at Coding, Really? Study finds that while AI can be great, it also struggles due to training limitations (Topics: ['AI Limitations', 'Chatgpt', 'Code Assistants', 'Coding', 'Language Models', 'Openai', 'Study Findings']) - Reddit](https://www.reddit.com/r/technology/comments/1dxwcyv/how_good_is_chatgpt_at_coding_really_study_finds/)  \n",
       "\n",
       "- Study finds that ChatGPT struggles with coding due to training limitations\n",
       "- Users find ChatGPT helpful for basic coding tasks but error-prone for more complex problems\n",
       "- ChatGPT's effectiveness in generating functional code has seen a decline for both easy and hard coding problems after 2021 \n",
       "\n"
      ],
      "text/plain": [
       "<IPython.core.display.Markdown object>"
      ]
     },
     "metadata": {},
     "output_type": "display_data"
    },
    {
     "data": {
      "text/markdown": [
       "[8. Go Ahead, Write Your Cover Letter With ChatGPT (Topics: ['AI Job Market', 'Chatgpt', 'Cover Letter', 'Gen AI', 'Language Models', 'Meta', 'Openai', 'Writing Assistance']) - Feedly AI](https://www.bloomberg.com/opinion/articles/2024-07-08/how-to-use-chatgpt-to-write-a-cover-letter-and-apply-for-a-job)  \n",
       "\n",
       "- AI can be utilized to enhance job applications, but applicants should ensure honesty and careful consideration while using it for writing cover letters or resumes.\n",
       "- While AI can assist in generating interview questions and advice, it may lead to generic content if not personalized adequately. \n",
       "- Recruiters may focus more on interviews and completed projects of candidates as written applications start to sound similar due to AI usage. \n",
       "\n"
      ],
      "text/plain": [
       "<IPython.core.display.Markdown object>"
      ]
     },
     "metadata": {},
     "output_type": "display_data"
    },
    {
     "data": {
      "text/markdown": [
       "[9. Can ChatGPT handle HR? Here's what happened when we put it to the test (Topics: ['Chatgpt', 'Gen AI', 'Hr', 'Language Models', 'Openai', 'Technology Testing', 'Testing']) - Google News](https://www.fastcompany.com/91147661/can-chatgpt-handle-hr-heres-what-happened-when-we-put-it-to-the-test)  \n",
       "\n",
       "- A team of HR experts tested several iterations of ChatGPT to evaluate if AI could handle complex HR issues such as legal compliance and employee relations.\n",
       "- In the experiment, ChatGPT versions 3.0, 3.5, and 4.0 were tested on HR compliance areas such as FLSA, FMLA, ADA, and immigration topics, showing limitations compared to human HR professionals in nuanced understanding.\n",
       "- The initial findings highlighted AI's struggle with the depth, nuance, and context required in sensitive HR scenarios, indicating a key limitation in its application in HR functions. \n",
       "\n"
      ],
      "text/plain": [
       "<IPython.core.display.Markdown object>"
      ]
     },
     "metadata": {},
     "output_type": "display_data"
    },
    {
     "data": {
      "text/markdown": [
       "[10. Can ChatGPT handle HR? Heres what happened when we put it to the test (Topics: ['AI Job Market', 'Chatgpt', 'Gen AI', 'Hr', 'Language Models', 'Openai', 'Robots', 'Technology Testing', 'Testing']) - Feedly AI](https://www.fastcompany.com/91147661/can-chatgpt-handle-hr-heres-what-happened-when-we-put-it-to-the-test)  \n",
       "\n",
       "- A team of HR experts tested ChatGPT to determine if AI could enhance HR work or potentially replace human roles.\n",
       "- The experiment involved testing different versions of ChatGPT on various HR compliance areas and scenarios to evaluate accuracy and applicability.\n",
       "- Initial findings showed that earlier versions of ChatGPT struggled with the nuanced understanding and contextual awareness needed for HR tasks. \n",
       "\n"
      ],
      "text/plain": [
       "<IPython.core.display.Markdown object>"
      ]
     },
     "metadata": {},
     "output_type": "display_data"
    },
    {
     "data": {
      "text/markdown": [
       "[11. ChatGPT accurately guesses my weight based on a photo. I weigh 167 (Topics: ['Chatgpt', 'Humor', 'Image Analysis']) - Reddit](https://www.reddit.com/r/ChatGPT/comments/1dxw1jn/chatgpt_accurately_guesses_my_weight_based_on_a/)  \n",
       "\n",
       "- ChatGPT accurately guesses weight based on a photo, being within 15 lbs accuracy range\n",
       "- Users discuss ChatGPT's abilities to guess weight accurately and speculations on its potential capabilities\n",
       "- ChatGPT can make accurate estimations beyond weight, such as age and potentially body fat percentage \n",
       "\n"
      ],
      "text/plain": [
       "<IPython.core.display.Markdown object>"
      ]
     },
     "metadata": {},
     "output_type": "display_data"
    },
    {
     "data": {
      "text/markdown": [
       "[12. I asked chat gpt to depict Bhutans flag in ascii. (Topics: ['Ascii Art', 'Chatgpt', 'Code Assistants', 'Flag Depiction', 'Gen AI', 'Language Models', 'Llms', 'Openai', 'Robots', 'Testing']) - Reddit](https://www.reddit.com/r/ChatGPT/comments/1dxmwx1/i_asked_chat_gpt_to_depict_bhutans_flag_in_ascii/)  \n",
       "\n",
       "- ChatGPT was asked to depict Bhutan's flag in ASCII art, which required some convincing efforts before achieving success.\n",
       "- ChatGPT's ability to generate ASCII art is limited by its training data and lack of specific training on shapes of characters.\n",
       "- By providing custom instructions on character selection, it is possible to influence ChatGPT to attempt drawing ASCII art instead of reproducing existing artworks. \n",
       "\n"
      ],
      "text/plain": [
       "<IPython.core.display.Markdown object>"
      ]
     },
     "metadata": {},
     "output_type": "display_data"
    },
    {
     "data": {
      "text/markdown": [
       "[13. OpenAI, GitHub Beat Digital Copyright Claims From Programmers (Topics: ['Code Assistants', 'Copyright Claims', 'Ethical Issues', 'Github', 'Intellectual Property', 'Language Models', 'Legal Issues', 'Open Source', 'Openai', 'Programmers']) - Google News](https://news.bloomberglaw.com/litigation/openai-github-beat-digital-copyright-claims-from-programmers)  \n",
       "\n",
       "- OpenAI and GitHub successfully defended against digital copyright claims from open-source software programmers related to their Copilot AI tool.\n",
       "- The claims alleging reproduction of code without proper copyright notices under the DMCA were dismissed by the judge.\n",
       "- While the copyright claims were dismissed, the judge allowed accusations of violating open-source license agreements to proceed. \n",
       "\n"
      ],
      "text/plain": [
       "<IPython.core.display.Markdown object>"
      ]
     },
     "metadata": {},
     "output_type": "display_data"
    },
    {
     "data": {
      "text/markdown": [
       "[14. Judge Partially Dismisses $1B Lawsuit Against Microsoft, OpenAI, and GitHub Over AI Code Use (Topics: ['AI Code Use', 'Big Tech', 'Code Assistants', 'Ethical Issues', 'Gen AI', 'Github', 'Intellectual Property', 'Language Models', 'Lawsuit', 'Legal Issues', 'Microsoft', 'Open Source', 'Openai']) - Google News](http://tokenpost.com/Judge-Partially-Dismisses-1B-Lawsuit-Against-Microsoft-OpenAI-and-GitHub-Over-AI-Code-Use-12253)  \n",
       "\n",
       "- A judge has partially dismissed a billion-dollar class action lawsuit against Microsoft, OpenAI, and GitHub over the alleged unauthorized use of intellectual property to train the AI coding tool GitHub Copilot.\n",
       "- The lawsuit's plaintiffs claimed that OpenAI \"scraped\" GitHub to train GitHub Copilot without authorization, compensation, or acknowledgment, seeking $1 billion in compensation.\n",
       "- The dismissal of key claims in the lawsuit signifies a significant win for the generative AI industry and could potentially allow the companies to continue unrestricted endeavors in AI-generated coding. \n",
       "\n"
      ],
      "text/plain": [
       "<IPython.core.display.Markdown object>"
      ]
     },
     "metadata": {},
     "output_type": "display_data"
    },
    {
     "data": {
      "text/markdown": [
       "[15. Judge dismisses coders' DMCA claims against Microsoft, OpenAI and GitHub (Topics: ['Big Tech', 'Coders', 'Dmca Claims', 'Gen AI', 'Github', 'Intellectual Property', 'Legal Issues', 'Microsoft', 'Open Source', 'Openai', 'Policy And Regulation']) - Google News](https://cointelegraph.com/news/judge-dismisses-coders-dmca-claims-microsoft-open-ai-artificial-intelligence-git-hub)  \n",
       "\n",
       "- California judge dismisses DMCA claims against Microsoft, OpenAI, and GitHub in a class action suit\n",
       "- Complainants alleged OpenAI trained GitHub Copilot with human-created code without permission, seeking $1 billion compensation\n",
       "- Judge dismissed claims as complainants failed to demonstrate identical reproduction of code \n",
       "\n"
      ],
      "text/plain": [
       "<IPython.core.display.Markdown object>"
      ]
     },
     "metadata": {},
     "output_type": "display_data"
    },
    {
     "data": {
      "text/markdown": [
       "[16. Micro-agent: make an AI write code until it passes an unit test (Topics: ['Code Assistants', 'Code Writing', 'Gen AI', 'Language Models', 'Meta', 'Micro-Agent', 'Openai', 'Reinforcement Learning', 'Testing', 'Unit Testing']) - Hacker News](https://github.com/BuilderIO/micro-agent)  \n",
       "\n",
       "- Micro Agent is an AI tool designed to write and fix code iteratively, focusing on generating code that passes specific test cases.\n",
       "- The project aims to provide a small, focused solution for writing tests and producing code that passes those tests, rather than being an end-to-end developer.\n",
       "- Micro Agent requires Node.js v14 or later for installation, and it can be used in interactive mode or with specific configurations for unit test matching and visual matching. \n",
       "\n"
      ],
      "text/plain": [
       "<IPython.core.display.Markdown object>"
      ]
     },
     "metadata": {},
     "output_type": "display_data"
    },
    {
     "data": {
      "text/markdown": [
       "[17. Converting Epics/Stories into Pseudocode using Transformers (Topics: ['Code Assistants', 'Coding', 'Gen AI', 'Language Models', 'Llms', 'Openai', 'Technology Applications', 'Transformers']) - HackerNoon](https://hackernoon.com/converting-epicsstories-into-pseudocode-using-transformers)  \n",
       "\n",
       "- Research presents a methodology using Natural Language Processing to convert Agile user stories into pseudocode, reducing project time.\n",
       "- The methodology involves a two-stage process: Text to Code Conversion and Code to Pseudocode Conversion, utilizing the CodeT5 model for optimal results.\n",
       "- Aim is to streamline developers' tasks, optimize the software development lifecycle, and enhance efficiency in industrial projects through automated pseudocode generation from user stories. \n",
       "\n"
      ],
      "text/plain": [
       "<IPython.core.display.Markdown object>"
      ]
     },
     "metadata": {},
     "output_type": "display_data"
    },
    {
     "data": {
      "text/markdown": [
       "[18. The Evolution of Text-to-Code and Pseudocode Automation (Topics: ['Automation', 'Code Assistants', 'Language Models', 'Technology Evolution', 'Text-To-Code']) - HackerNoon](https://hackernoon.com/the-evolution-of-text-to-code-and-pseudocode-automation)  \n",
       "\n",
       "- Evolution of automating code from user stories to advanced models like BERT and GraphCodeBERT\n",
       "- Significance of user stories in Agile development and the shift towards automated code generation tools\n",
       "- Importance of standardized datasets for benchmarking text-to-code and code-to-pseudocode conversion methods \n",
       "\n"
      ],
      "text/plain": [
       "<IPython.core.display.Markdown object>"
      ]
     },
     "metadata": {},
     "output_type": "display_data"
    },
    {
     "data": {
      "text/markdown": [
       "[19. Transforming Text to Code: An Approach to Efficient Agile Development (Topics: ['Agile Development', 'Code Assistants', 'Technology Transformation', 'Text To Code']) - HackerNoon](https://hackernoon.com/transforming-text-to-code-an-approach-to-efficient-agile-development)  \n",
       "\n",
       "- Methodology uses NLP and transformers to convert English text into code and pseudocode for Agile development\n",
       "- Divides workflow into Text to Code Conversion and Code to Pseudocode Conversion stages\n",
       "- Utilizes the CodeT5 model and transformers for efficient conversion, outperforming rule-based approaches \n",
       "\n"
      ],
      "text/plain": [
       "<IPython.core.display.Markdown object>"
      ]
     },
     "metadata": {},
     "output_type": "display_data"
    },
    {
     "data": {
      "text/markdown": [
       "[20. Apply Now: GBP 150,000 Artificial Intelligence Research Grants (Topics: ['Funding Opportunities', 'Research Grants']) - Google News](https://www.ictworks.org/apply-now-gbp-150000-artificial-intelligence-research-grants/)  \n",
       "\n",
       "- Cooperative AI Foundation offering GBP 150,000 grants for research enhancing intelligence of AI systems\n",
       "- Focus on improving cooperative intelligence of advanced AI for societal benefit\n",
       "- Research proposals should address multi-agent/cooperation problems involving AI systems \n",
       "\n"
      ],
      "text/plain": [
       "<IPython.core.display.Markdown object>"
      ]
     },
     "metadata": {},
     "output_type": "display_data"
    },
    {
     "data": {
      "text/markdown": [
       "[21. Exiger Leads Market in AI-Driven Multi-Tier Visibility with Versed AI Acquisition (Topics: ['Acquisition', 'AI-Driven', 'Exiger', 'Versed AI', 'Visibility']) - Google News](https://www.morningstar.com/news/pr-newswire/20240708ny51994/exiger-leads-market-in-ai-driven-multi-tier-visibility-with-versed-ai-acquisition)  \n",
       "\n",
       "- Exiger, a supply chain and third-party risk AI company, acquired Versed AI to enhance multi-tier visibility and supply chain tracing capabilities.\n",
       "- Versed AI's technology accelerates the extraction and aggregation of multi-tier supplier networks, allowing for quick insights and informed decisions in the supply chain.\n",
       "- The integration of Versed AI into Exiger's platform provides customers with a revolutionary multi-tier visibility solution that streamlines supplier mapping and risk analysis processes. \n",
       "\n"
      ],
      "text/plain": [
       "<IPython.core.display.Markdown object>"
      ]
     },
     "metadata": {},
     "output_type": "display_data"
    },
    {
     "data": {
      "text/markdown": [
       "[22. Why So Many Bitcoin Mining Companies Are Pivoting to AI (Topics: ['AI Economic Impacts', 'AI Pivot', 'Bitcoin Mining Companies', 'Business Strategy']) - Hacker News 2](https://time.com/6993603/ai-bitcoin-mining-artificial-intelligence-energy-use/)  \n",
       "\n",
       "- Bitcoin mining companies are pivoting to AI to take advantage of the energy demand created by AI companies for data centers, leading to a more stable revenue stream compared to the volatile crypto industry.\n",
       "- The partnership between the AI and bitcoin mining industries is beneficial for both sides, as AI companies require space, cheap energy, and infrastructure offered by bitcoin miners, while bitcoin miners seek the stable revenue from AI operations.\n",
       "- The increase in demand for energy from both bitcoin mining and AI operations is raising concerns among climate activists, as data centers are predicted to use a significant amount of electricity and may rely on fossil fuels for power. \n",
       "\n"
      ],
      "text/plain": [
       "<IPython.core.display.Markdown object>"
      ]
     },
     "metadata": {},
     "output_type": "display_data"
    },
    {
     "data": {
      "text/markdown": [
       "[23. How AI is driving the venture capital market (Topics: ['AI Economic Impacts', 'Gen AI', 'Investment', 'Meta', 'Startup Funding', 'Venture Capital Market']) - Google News](https://www.axios.com/2024/07/08/ai-stock-market)  \n",
       "\n",
       "- AI is significantly influencing the venture capital market by driving private market gains and the increase in total venture-backed valuation.\n",
       "- The interest in AI from VCs is growing, with AI being responsible for a significant percentage of new private U.S. unicorns and venture dollars invested in North America and Europe.\n",
       "- Despite the growth, some AI companies funded during the bull market have not achieved their goals, leading to challenges in sustaining their valuations. \n",
       "\n"
      ],
      "text/plain": [
       "<IPython.core.display.Markdown object>"
      ]
     },
     "metadata": {},
     "output_type": "display_data"
    },
    {
     "data": {
      "text/markdown": [
       "[24. Revolutionizing Finance: Harnessing Next-Gen AI Platforms for Enterprise Success (Topics: ['AI Economic Impacts', 'AI Platforms', 'Enterprise Success', 'Finance', 'Fintech', 'Gen AI', 'Nvidia']) - Feedly AI](https://thecyberexpress.com/next-gen-ai-platforms-for-enterprise-success/)  \n",
       "\n",
       "- Next-gen enterprise AI platforms are revolutionizing financial institutions by enhancing operational efficiency, decision-making, risk mitigation, and personalized customer experiences.\n",
       "- These advanced AI platforms enable institutions to navigate complexities, seize opportunities, and drive innovation in a digital environment tailored for the financial sector.\n",
       "- While offering significant opportunities, challenges such as privacy concerns, ethical issues, integration with legacy systems, and talent development must be addressed by investing in cybersecurity and promoting ethical AI practices. \n",
       "\n"
      ],
      "text/plain": [
       "<IPython.core.display.Markdown object>"
      ]
     },
     "metadata": {},
     "output_type": "display_data"
    },
    {
     "data": {
      "text/markdown": [
       "[25. Abu Dhabi Investment Firm Lunate Takes On AI Firm G42s China Fund (Topics: ['AI Firms', 'Business Partnerships', 'Gen AI', 'Investment', 'Startup Funding']) - Feedly AI](https://www.bloomberg.com/news/articles/2024-07-08/abu-dhabi-investment-firm-lunate-takes-on-ai-firm-g42-s-china-fund)  \n",
       "\n",
       "- A new investment vehicle in Abu Dhabi, Lunate, has taken over the management of G42's China-focused fund, keeping the assets within the Abu Dhabi royal family.\n",
       "- Lunate, part of the sprawling empire overseen by Sheikh Tahnoon bin Zayed Al Nahyan, plans to manage what was previously G42's 42XFund with stakes in Chinese technology companies.\n",
       "- G42 agreed to divest from China following talks with the US Commerce Department, aiming to align with US strategic goals and counter Beijing's tech investment. \n",
       "\n"
      ],
      "text/plain": [
       "<IPython.core.display.Markdown object>"
      ]
     },
     "metadata": {},
     "output_type": "display_data"
    },
    {
     "data": {
      "text/markdown": [
       "[26. OpenAI Startup Fund and Thrive Global Launch Thrive AI Health, Offering a Hyper-Personalized AI Health Coach (Topics: ['AI Health Coach', 'Healthcare', 'Openai', 'Startup Fund', 'Startup Funding', 'Thrive AI Health', 'Thrive Global']) - Google News](https://aithority.com/machine-learning/openai-startup-fund-and-thrive-global-launch-thrive-ai-health-offering-a-hyper-personalized-ai-health-coach/)  \n",
       "\n",
       "- The OpenAI Startup Fund and Thrive Global launched Thrive AI Health, which aims to democratize access to expert-level health coaching using AI to improve health outcomes.\n",
       "- Thrive AI Health will focus on behavior change across daily behaviors such as sleep, food, fitness, stress management, and connection, leveraging generative AI for hyper-personalization.\n",
       "- The AI Health Coach will provide personalized, proactive coaching and data-driven insights, funded by the OpenAI Startup Fund, Thrive Global, and the Alice L. Walton Foundation, with a focus on health equity and addressing chronic diseases. \n",
       "\n"
      ],
      "text/plain": [
       "<IPython.core.display.Markdown object>"
      ]
     },
     "metadata": {},
     "output_type": "display_data"
    },
    {
     "data": {
      "text/markdown": [
       "[27. Aidan Gomez's Cohere Reaches $5 Billion Valuation with Nvidia's Backing (Topics: ['AI Economic Impacts', 'Cohere', 'Investment', 'Nvidia', 'Startup Funding', 'Valuation']) - Google News](https://n24.com.tr/en/aidan-gomezs-cohere-reaches-5-billion-valuation-with-nvidias-backing)  \n",
       "\n",
       "- Aidan Gomez, co-founder of Cohere, started as an intern at Google Brain and contributed to the transformer breakthrough in AI while a student at the University of Toronto.\n",
       "- Cohere, backed by Nvidia, achieved a $5 billion valuation, focusing on developing generative AI models for business applications.\n",
       "- The startup's innovative approach in AI technology has led to significant growth, with notable applications in the insurance sector, showcasing the transformative power of AI in enhancing business productivity and efficiency. \n",
       "\n"
      ],
      "text/plain": [
       "<IPython.core.display.Markdown object>"
      ]
     },
     "metadata": {},
     "output_type": "display_data"
    },
    {
     "data": {
      "text/markdown": [
       "[28. Cohere CEO and ex-Google researcher Aidan Gomez on how his AI models make money for companies (Topics: ['AI Economic Impacts', 'AI Job Market', 'AIdan Gomez', 'Big Tech', 'Business Models', 'Cohere', 'Gen AI', 'Language Models']) - Google News](https://www.cnbc.com/video/2024/07/06/cohere-ceo-and-ex-google-researcher-aidan-gomez-on-how-ai-makes-money.html)  \n",
       "\n",
       "- Aidan Gomez, CEO of Cohere and ex-Google researcher, focuses on building generative AI models for companies to boost profits\n",
       "- Gomez played a key role in the development of transformer technology that underpins generative AI\n",
       "- CNBC interview with Gomez explores how AI models will bring more profit to companies \n",
       "\n"
      ],
      "text/plain": [
       "<IPython.core.display.Markdown object>"
      ]
     },
     "metadata": {},
     "output_type": "display_data"
    },
    {
     "data": {
      "text/markdown": [
       "[29. How Cohere CEO Aidan Gomez Says AI Will Directly Profit Companies (Topics: ['AI Economic Impacts', 'AIdan Gomez', 'Ceo', 'Cohere', 'Company Profits', 'Gen AI', 'Language Models', 'Reinforcement Learning']) - Google News](https://www.cnbcafrica.com/2024/how-cohere-ceo-aidan-gomez-says-ai-will-directly-profit-companies/)  \n",
       "\n",
       "- Aidan Gomez, CEO of Cohere, specializes in building generative AI models for companies to boost profits\n",
       "- He was part of the team that conceptualized the transformer technology at Google in 2017\n",
       "- CNBC interviewed Gomez about the ways AI models can directly benefit companies \n",
       "\n"
      ],
      "text/plain": [
       "<IPython.core.display.Markdown object>"
      ]
     },
     "metadata": {},
     "output_type": "display_data"
    },
    {
     "data": {
      "text/markdown": [
       "[30. Synerise Raises $8.5 Million to Expand AI-Driven Behavioral Modeling Solutions (Topics: ['AI Economic Impacts', 'AI-Driven Solutions', 'Behavioral Modeling', 'Investment', 'Startup Funding', 'Synerise']) - Google News](https://www.pymnts.com/artificial-intelligence-2/2024/synerise-raises-8-5-million-to-expand-ai-driven-behavioral-modeling-solutions/)  \n",
       "\n",
       "- Synerise raised $8.5M in Series B+ funding to expand AI-driven behavioral modeling solutions\n",
       "- Partnership with VTEX to accelerate expansion into new markets and empower businesses with AI\n",
       "- Synerise provides big data solutions to clients in retail, banking, eCommerce, and other industries \n",
       "\n"
      ],
      "text/plain": [
       "<IPython.core.display.Markdown object>"
      ]
     },
     "metadata": {},
     "output_type": "display_data"
    },
    {
     "data": {
      "text/markdown": [
       "[31. Hebbia Raises $130 Million for AI That Helps Firms Answer Complex Questions (Topics: ['AI Economic Impacts', 'AI Job Market', 'Complex Questions', 'Funding', 'Hebbia', 'Language Models', 'Startup Funding']) - Google News](https://www.bloomberg.com/news/articles/2024-07-08/hebbia-raises-130-million-for-ai-that-helps-firms-answer-complex-questions)  \n",
       "\n",
       "- Hebbia, an AI startup, raised $130 million to help businesses analyze documents and data sources to answer complex questions.\n",
       "- The company's technology allows for analysis of regulatory filings, PDFs, and other sources to generate detailed responses for customers.\n",
       "- Hebbia's approach attracts notable clients like the US Air Force, and the funding will be used for research and hiring software engineers. \n",
       "\n"
      ],
      "text/plain": [
       "<IPython.core.display.Markdown object>"
      ]
     },
     "metadata": {},
     "output_type": "display_data"
    },
    {
     "data": {
      "text/markdown": [
       "[32. New York-based Hebbia, which uses AI to help companies sift through documents, raised $130M led by a16z, a source says at a ~$700M post-money valuation (Rachel Metz/Bloomberg) (Topics: ['AI Economic Impacts', 'AI Job Market', 'Document Analysis', 'Funding', 'Hebbia', 'Startup Funding', 'Valuation']) - Feedly AI](https://www.bloomberg.com/news/articles/2024-07-08/hebbia-raises-130-million-for-ai-that-helps-firms-answer-complex-questions)  \n",
       "\n",
       "- Hebbia, an AI startup, raised $130 million to help businesses analyze regulatory filings, PDFs, and other documents to answer complex questions.\n",
       "- The funding round was led by Andreessen Horowitz and included participation from Index Ventures, Google Ventures, and Peter Thiel.\n",
       "- Hebbia's software allows customers to ask complex questions and receive detailed responses by analyzing data sources and displaying results in a granular way, catering to customers like the US Air Force and legal services companies. \n",
       "\n"
      ],
      "text/plain": [
       "<IPython.core.display.Markdown object>"
      ]
     },
     "metadata": {},
     "output_type": "display_data"
    },
    {
     "data": {
      "text/markdown": [
       "[33. 2 stocks to turn $100 into $1,000 for end of 2024 (Topics: ['Financial Planning', 'Investment', 'Stocks']) - Feedly AI](https://finbold.com/2-stocks-to-turn-100-into-1000-for-end-of-2024/)  \n",
       "\n",
       "- Interest rate cuts expected in the stock market may lead to winning investments in penny stocks like Grab and Bitfarms by the end of 2024\n",
       "- Grab (NASDAQ: GRAB) is making strategic investments in AI for sustainable profitability and has shown positive growth in stock value\n",
       "- Bitfarms (NASDAQ: BITF) aims to increase its mining power significantly, following a recent fundraising, despite a temporary setback in Bitcoin volatility \n",
       "\n"
      ],
      "text/plain": [
       "<IPython.core.display.Markdown object>"
      ]
     },
     "metadata": {},
     "output_type": "display_data"
    },
    {
     "data": {
      "text/markdown": [
       "[34. Ethereum or Solana? We asked ChatGPT-4o which stock is a better buy for 2024 (Topics: ['Chatgpt', 'Chatgpt-4O', 'Ethereum', 'Gen AI', 'Investment', 'Language Models', 'Openai', 'Solana', 'Stock Market']) - Feedly AI](https://finbold.com/ethereum-or-solana-we-asked-chatgpt-4o-which-stock-is-a-better-buy-for-2024/)  \n",
       "\n",
       "- ChatGPT-4o offers insights on investing in Ethereum or Solana for 2024, highlighting their strengths and challenges.\n",
       "- Ethereum is recommended for stability, maturity, and strong developer support in DeFi and NFT spaces, while Solana is favored for high transaction speeds and low fees.\n",
       "- Diversifying investments between Ethereum and Solana is suggested based on investor goals and risk tolerance. \n",
       "\n"
      ],
      "text/plain": [
       "<IPython.core.display.Markdown object>"
      ]
     },
     "metadata": {},
     "output_type": "display_data"
    },
    {
     "data": {
      "text/markdown": [
       "[35. Tesla Bull Says EV Giant's FSD Revenue Nearing $1B Annual Run-Rate, Urges Breaking Out AI And Robotics Numbers (Topics: ['AI Economic Impacts', 'Analyst', 'Autonomous Vehicles', 'Elon Musk', 'Ev', 'Fsd Revenue', 'Robotics', 'Robots', 'Stocks', 'Tesla']) - Feedly AI](https://www.benzinga.com/analyst-ratings/analyst-color/24/07/39660003/tesla-bull-says-ev-giants-fsd-revenue-nearing-1b-annual-run-rate-urges-breaking-out)  \n",
       "\n",
       "- Tesla's ancillary businesses like AI and Robotics are gaining importance as the core auto business faces slowing demand.\n",
       "- Future Fund Managing Partner suggests that Tesla should break out AI metrics in financial statements to attract institutional investors.\n",
       "- Tesla's Full Self-Driving (FSD) revenue is approaching $1 billion annually, highlighting the potential for monetization and institutional valuation. \n",
       "\n"
      ],
      "text/plain": [
       "<IPython.core.display.Markdown object>"
      ]
     },
     "metadata": {},
     "output_type": "display_data"
    },
    {
     "data": {
      "text/markdown": [
       "[36. Teslas upcoming earnings report has to divulge its AI plans and Nvidias role (Topics: ['AI Economic Impacts', 'AI Plans', 'Autonomous Vehicles', 'Big Tech', 'Earnings Report', 'Elon Musk', 'Gen AI', 'Nvidia', 'Stocks', 'Tesla']) - Feedly AI](https://www.marketwatch.com/story/teslas-upcoming-earnings-report-needs-to-divulge-its-ai-plans-and-nvidias-role-16cde94e)  \n",
       "\n",
       "- Tesla's upcoming earnings report needs to reveal its AI plans and Nvidia's role\n",
       "- Tesla's AI initiatives, especially in autonomous driving, position the company as a leader in automotive innovation\n",
       "- Tesla's AI strategy involves a significant investment in Nvidia GPUs and the development of its custom-built Dojo supercomputer \n",
       "\n"
      ],
      "text/plain": [
       "<IPython.core.display.Markdown object>"
      ]
     },
     "metadata": {},
     "output_type": "display_data"
    },
    {
     "data": {
      "text/markdown": [
       "[37. AI industry needs annual revenues of more than the UAEs GDP to offset costs (Topics: ['AI Economic Impacts', 'Economy', 'Industry', 'Revenues']) - Feedly AI](https://readwrite.com/ai-must-find-annual-revenue-more-than-the-gdp-of-singapore-to-justify-expenditure/)  \n",
       "\n",
       "- AI companies need to generate $600 billion annually to justify infrastructure costs, surpassing the GDPs of the UAE, Singapore, Norway, and Austria.\n",
       "- Nvidia's revenue forecasts reveal that GPU costs account for 50% of total infrastructure costs, doubling when considering other expenses and margins.\n",
       "- Major tech firms like Meta and Amazon are heavily investing in AI, with substantial future spending plans, and Nvidia's chip advancements are driving competition in the industry. \n",
       "\n"
      ],
      "text/plain": [
       "<IPython.core.display.Markdown object>"
      ]
     },
     "metadata": {},
     "output_type": "display_data"
    },
    {
     "data": {
      "text/markdown": [
       "[38. Big Tech needs to generate $600 billion in annual revenue to justify AI hardware expenditure (Topics: ['AI Economic Impacts', 'Analyst', 'Big Tech', 'Gen AI', 'Investment', 'Nvidia', 'Revenue Targets']) - Reddit](https://www.reddit.com/r/technews/comments/1dxtt72/big_tech_needs_to_generate_600_billion_in_annual/)  \n",
       "\n",
       "- Big Tech needs to generate $600 billion in annual revenue to justify AI hardware expenditure\n",
       "- There are concerns about the lack of real investment returns on AI spendings\n",
       "- AI is seen as the next big productivity aid for companies and they cannot afford to fall behind \n",
       "\n"
      ],
      "text/plain": [
       "<IPython.core.display.Markdown object>"
      ]
     },
     "metadata": {},
     "output_type": "display_data"
    },
    {
     "data": {
      "text/markdown": [
       "[39. Arista Networks: Nvidia Isn't The Only AI Gold Rush Beneficiary (NYSE:ANET) (Topics: ['Business Growth', 'Networking', 'Stocks']) - Google News](https://seekingalpha.com/article/4702847-arista-networks-nvidia-isnt-the-only-ai-gold-rush-beneficiary)  \n",
       "\n",
       "- Arista Networks has seen significant growth, with a 130% total return outperforming the S&P 500.\n",
       "- The company's focus on scalability and reliability in AI networking infrastructure positions it as a strong competitor against Nvidia's InfiniBand.\n",
       "- Arista Networks' AI center aims to address network silos, expanding opportunities in back-end AI infrastructure for potential investors seeking diversification from Nvidia. \n",
       "\n"
      ],
      "text/plain": [
       "<IPython.core.display.Markdown object>"
      ]
     },
     "metadata": {},
     "output_type": "display_data"
    },
    {
     "data": {
      "text/markdown": [
       "[40. Billionaires Are Selling Nvidia Stock and Buying 2 Supercharged Artificial Intelligence (AI) Stocks Instead (Topics: ['AI Economic Impacts', 'Investment Strategies', 'Nvidia', 'Stock Market Trends', 'Stocks']) - Google News](https://finance.yahoo.com/news/billionaires-selling-nvidia-stock-buying-091200525.html)  \n",
       "\n",
       "- Hedge fund managers trimmed positions in Nvidia during the first quarter and reallocated capital to other AI stocks like Palantir Technologies and Super Micro Computer.\n",
       "- Billionaires Louis Bacon, Israel Englander, and Philippe Laffont sold Nvidia shares while increasing their stakes in Palantir and Super Micro Computer.\n",
       "- Palantir specializes in data analytics and AI platforms, while Super Micro Computer designs high-performance computing platforms for AI and cloud data centers, showing promising growth potential. \n",
       "\n"
      ],
      "text/plain": [
       "<IPython.core.display.Markdown object>"
      ]
     },
     "metadata": {},
     "output_type": "display_data"
    },
    {
     "data": {
      "text/markdown": [
       "[41. Nvidia Stock Gains Amid AI Chip Antitrust Scrutiny (Topics: ['AI Chip', 'Antitrust Scrutiny', 'Legal Issues', 'Nvidia', 'Policy And Regulation', 'Semiconductor Chips', 'Stock Gains', 'Stocks']) - Google News](https://www.barrons.com/articles/nvidia-stock-price-antitrust-8d2d3b57)  \n",
       "\n",
       "- The website is barrons.com.\n",
       "- The main focus of the page is Barron's for the financial markets.\n",
       "- Further information or details are not provided in the text. \n",
       "\n"
      ],
      "text/plain": [
       "<IPython.core.display.Markdown object>"
      ]
     },
     "metadata": {},
     "output_type": "display_data"
    },
    {
     "data": {
      "text/markdown": [
       "[42. 3 AI Stocks That Also Pay Dividends (Topics: ['Dividends', 'Stocks']) - Google News](https://investorplace.com/2024/07/3-ai-stocks-that-also-pay-dividends/)  \n",
       "\n",
       "- Oracle (ORCL) stock has shown significant growth potential with strong partnerships and positive financial results, offering a dividend yield of 1.11%.\n",
       "- Microsoft (MSFT) is a leader in the AI space with consistent revenue growth, particularly in its cloud computing platform Azure, and a dividend yield of 0.70%.\n",
       "- Nvidia (NVDA) is positioned as a top AI player with exceptional financial performance, a modest dividend yield of 0.031%, and potential for further capital growth and dividend improvement. \n",
       "\n"
      ],
      "text/plain": [
       "<IPython.core.display.Markdown object>"
      ]
     },
     "metadata": {},
     "output_type": "display_data"
    },
    {
     "data": {
      "text/markdown": [
       "[43. 3 Stocks to Benefit From the AI Datacenter Power Boom (Topics: ['AI Economic Impacts', 'Big Tech', 'Datacenter', 'Nvidia', 'Stocks', 'Technology Stocks']) - Google News](https://www.barrons.com/articles/3-stocks-to-benefit-from-the-ai-datacenter-power-boom-7c07b498)  \n",
       "\n",
       "- Barrons.com is a financial news website.\n",
       "- It provides insights and analysis on the stock market, investing, and other financial topics.\n",
       "- The website offers articles, reports, and expert opinions to help users make informed decisions. \n",
       "\n"
      ],
      "text/plain": [
       "<IPython.core.display.Markdown object>"
      ]
     },
     "metadata": {},
     "output_type": "display_data"
    },
    {
     "data": {
      "text/markdown": [
       "[44. Two Canadian stocks set to benefit from AI-driven datacenter expansion: RBC (Topics: ['AI Economic Impacts', 'AI-Driven Datacenter Expansion', 'Analyst', 'Canadian Stocks', 'Gen AI', 'Investment', 'Stocks']) - Feedly AI](https://www.theglobeandmail.com/investing/markets/inside-the-market/article-two-canadian-stocks-set-to-benefit-from-ai-driven-datacenter-expansion/)  \n",
       "\n",
       "- RBC identifies two Canadian stocks poised to benefit from AI-driven datacenter expansion\n",
       "- The stocks mentioned are Brookfield Renewable Partners LP and Transalta Corp\n",
       "- The article discusses AI investing opportunities and big dividend stock winners in 2024 \n",
       "\n"
      ],
      "text/plain": [
       "<IPython.core.display.Markdown object>"
      ]
     },
     "metadata": {},
     "output_type": "display_data"
    },
    {
     "data": {
      "text/markdown": [
       "[45. Cornings stock soars 7% after company raises Q2 guidance to reflect AI bump (Topics: ['AI Economic Impacts', 'Corning', 'Financial Guidance', 'Gen AI', 'Robots', 'Stock Market', 'Stocks']) - Google News](https://www.marketwatch.com/story/cornings-stock-soars-7-after-company-raises-q2-guidance-to-reflect-ai-bump-165f51b6)  \n",
       "\n",
       "- Website: marketwatch.com\n",
       "- Financial news and information\n",
       "- Stock market data \n",
       "\n"
      ],
      "text/plain": [
       "<IPython.core.display.Markdown object>"
      ]
     },
     "metadata": {},
     "output_type": "display_data"
    },
    {
     "data": {
      "text/markdown": [
       "[46. Samsung flags better-than-expected profit rise as AI boom lifts chip prices (Topics: ['AI Boom', 'AI Economic Impacts', 'Big Tech', 'Chip Prices', 'Profit Rise', 'Samsung', 'Semiconductor Chips']) - Google News](https://www.reuters.com/technology/samsung-flags-15-fold-rise-second-quarter-profit-chip-prices-climb-2024-07-04/)  \n",
       "\n",
       "- Samsung Electronics estimated a more than 15-fold rise in operating profit in the second quarter, driven by rebounding semiconductor prices due to the AI boom.\n",
       "- The company's profit beat expectations, likely reflecting reversing previous inventory writedowns and rising chip prices, with revenue increasing by 23% from the same period last year.\n",
       "- Demand for high-end DRAM chips for AI chipsets and data center servers boosted chip prices, but the climb may slow in the third quarter as demand for legacy chips remains weak. \n",
       "\n"
      ],
      "text/plain": [
       "<IPython.core.display.Markdown object>"
      ]
     },
     "metadata": {},
     "output_type": "display_data"
    },
    {
     "data": {
      "text/markdown": [
       "[47. China AI leader iFlytek dips into red under 'ultimate' U.S. pressure (Topics: ['AI Economic Impacts', 'China', 'Iflytek', 'Market Challenges', 'Policy And Regulation']) - Google News](https://asia.nikkei.com/Business/China-tech/China-AI-leader-iFlytek-dips-into-red-under-ultimate-U.S.-pressure)  \n",
       "\n",
       "- China's leading AI technology developer iFlytek expects to swing to a loss of up to $65 million in the first half of the year\n",
       "- The company faced increased investments under pressure from Washington and sanctions for alleged human rights violations\n",
       "- iFlytek aims to cement its position as part of the 'national team' in the AI industry and continues to invest in research and development despite financial challenges \n",
       "\n"
      ],
      "text/plain": [
       "<IPython.core.display.Markdown object>"
      ]
     },
     "metadata": {},
     "output_type": "display_data"
    },
    {
     "data": {
      "text/markdown": [
       "[48. Southeast Asia's IPO market fell drastically in the first half, but AI listings could revive it (Topics: ['AI Economic Impacts', 'AI Listings', 'Business Trends', 'Gen AI', 'Ipo Market', 'Ipos', 'Southeast Asia', 'Stocks']) - Google News](https://www.cnbc.com/2024/07/08/southeast-asia-ipo-market-fell-significantly-in-h2-2024-deloitte.html)  \n",
       "\n",
       "- IPO market capitalization in Southeast Asia dropped by 71% year on year to $5.8 billion in the first six months of 2024\n",
       "- The number of listings in the region decreased by 21.2% to 67, with the amount raised from these IPOs falling by 53.3% to $1.4 billion\n",
       "- Indonesia experienced the most significant decline in the IPO market, with market capitalization and IPO proceeds dropping by more than 89% in the first half of 2024 \n",
       "\n"
      ],
      "text/plain": [
       "<IPython.core.display.Markdown object>"
      ]
     },
     "metadata": {},
     "output_type": "display_data"
    },
    {
     "data": {
      "text/markdown": [
       "[49. Galaxy AI Live Translate feature might soon bridge the language gap in WhatsApp calls (Topics: ['Big Tech', 'Feature', 'Galaxy AI', 'Language Models', 'Language Translation', 'Live Translate', 'Samsung', 'Whatsapp']) - Google News](https://www.androidpolice.com/galaxy-ai-live-translate-whatsapp-calls/)  \n",
       "\n",
       "- Galaxy AI's Live Translate feature is expanding to third-party apps starting with WhatsApp, allowing for real-time translation in voice calls to bridge language barriers and enhance privacy and security.\n",
       "- The Live Translate feature was exclusive to certain Galaxy devices and stock apps, but Samsung plans to expand it to popular communication apps like Google Meet, Telegram, Facebook Messenger, and Signal.\n",
       "- Expectations are high for the feature to evolve with upcoming updates and expand to more devices, with WhatsApp being the first third-party app to receive AI-powered real-time translations. \n",
       "\n"
      ],
      "text/plain": [
       "<IPython.core.display.Markdown object>"
      ]
     },
     "metadata": {},
     "output_type": "display_data"
    },
    {
     "data": {
      "text/markdown": [
       "[50. WhatsApp could soon get a Galaxy AI-powered Live Translate feature (Topics: ['Big Tech', 'Communication', 'Galaxy AI', 'Language Models', 'Live Translate', 'Samsung', 'Whatsapp']) - Google News](https://www.tomsguide.com/phones/samsung-phones/whatsapp-could-soon-get-a-galaxy-ai-powered-live-translate-feature)  \n",
       "\n",
       "- WhatsApp is expected to integrate a Galaxy AI-powered Live Translate feature for real-time translation between languages\n",
       "- Samsung has hinted at expanding Live Translate capabilities to popular VoIP calling apps like WhatsApp, Facebook Messenger, Google Meet, Telegram, and Viber\n",
       "- The Live Translate feature may extend to WhatsApp's audio calls and text messages, similar to its integration with Samsung's calls and texts \n",
       "\n"
      ],
      "text/plain": [
       "<IPython.core.display.Markdown object>"
      ]
     },
     "metadata": {},
     "output_type": "display_data"
    },
    {
     "data": {
      "text/markdown": [
       "[51. Meta AI may get more collaborative in WhatsApp for Android. (Topics: ['Big Tech', 'Collaboration', 'Features', 'Language Models', 'Meta', 'Meta AI', 'Whatsapp']) - Google News](https://www.theverge.com/2024/7/7/24193680/meta-ai-may-get-more-collaborative-in-whatsapp-for-android)  \n",
       "\n",
       "- WhatsApp beta version for Android allows sending photos to Meta AI for questions or image editing prompts\n",
       "- Meta AI in WhatsApp has been updated with image-generation features, including creating avatars based on user photos\n",
       "- The collaboration between Meta AI and WhatsApp for Android may increase in the future \n",
       "\n"
      ],
      "text/plain": [
       "<IPython.core.display.Markdown object>"
      ]
     },
     "metadata": {},
     "output_type": "display_data"
    },
    {
     "data": {
      "text/markdown": [
       "[52. Meta AI on WhatsApp is getting smarter: You will soon be able to edit and analyse images (Topics: ['AI Economic Impacts', 'Big Tech', 'Image Analysis', 'Image Editing', 'Meta', 'Meta AI', 'Whatsapp']) - Google News](https://indianexpress.com/article/technology/artificial-intelligence/meta-ai-on-whatsapp-edit-analyse-images-9439429/)  \n",
       "\n",
       "- Meta AI on WhatsApp is introducing new capabilities for editing and analyzing images, powered by the Llama 3 large language generative AI model.\n",
       "- Users can upload photos for analysis, ask questions about them, and receive AI-generated edits using text prompts directly within WhatsApp.\n",
       "- While the extent of image editing capabilities is not confirmed, Meta AI is expected to offer features like object removal, background replacement, and overall image enhancement. \n",
       "\n"
      ],
      "text/plain": [
       "<IPython.core.display.Markdown object>"
      ]
     },
     "metadata": {},
     "output_type": "display_data"
    },
    {
     "data": {
      "text/markdown": [
       "[53. WhatsApp's new feature will let Meta AI edit your photos for you (Topics: ['AI Economic Impacts', 'AI Job Market', 'Big Tech', 'Gen AI', 'Mark Zuckerberg', 'Meta', 'Meta AI', 'Photo Editing', 'Social Media', 'Whatsapp']) - Google News](https://www.androidauthority.com/whatsapp-meta-ai-update-3457975/)  \n",
       "\n",
       "- WhatsApp's beta version will introduce a feature allowing users to share photos with Meta AI for direct editing in the chat.\n",
       "- Meta AI in WhatsApp will be able to analyze photos, provide context, answer questions, and potentially allow users to request specific edits to their images.\n",
       "- The new functionality includes the feature for users to ask questions about their photos, receive responses, and the option to edit photos through Meta AI within the chat. \n",
       "\n"
      ],
      "text/plain": [
       "<IPython.core.display.Markdown object>"
      ]
     },
     "metadata": {},
     "output_type": "display_data"
    },
    {
     "data": {
      "text/markdown": [
       "[54. Apples massive AI-powered Siri upgrade isnt coming until spring 2025 (Topics: ['Apple', 'Big Tech', 'Siri', 'Technology Upgrades']) - Feedly AI](https://bgr.com/tech/apples-massive-ai-powered-siri-upgrade-isnt-coming-until-spring-2025/)  \n",
       "\n",
       "- Apple users will have to wait until spring 2025 for the AI-powered Siri upgrade as part of Apple Intelligence.\n",
       "- Siri's new features will include enhanced language understanding, context awareness, and the ability to edit photos and help users in various tasks.\n",
       "- Other upcoming Siri features this year include a redesign and ChatGPT integration to make the personal assistant smarter. \n",
       "\n"
      ],
      "text/plain": [
       "<IPython.core.display.Markdown object>"
      ]
     },
     "metadata": {},
     "output_type": "display_data"
    },
    {
     "data": {
      "text/markdown": [
       "[55. New Siri Experience With Apple Intelligence Likely to Debut in Spring 2025 (Topics: ['Apple', 'Apple Intelligence', 'Big Tech', 'New Experience', 'Siri', 'Spring 2025 Debut']) - Google News](https://www.macrumors.com/2024/07/07/new-siri-experience-to-debut-spring-2025/)  \n",
       "\n",
       "- Apple's revamped version of Siri is expected to debut with iOS 18.4 in Spring 2025, featuring the ability to control actions within apps and understand on-screen context.\n",
       "- The initial rollout of Apple Intelligence in Fall won't include the full new version of Siri, but will introduce new design and ChatGPT integration.\n",
       "- The Apple Watch Series 10 and Apple Watch Ultra 3 will have a new processor, potentially setting the stage for AI enhancements, but there are no plans to run Apple Intelligence on them. \n",
       "\n"
      ],
      "text/plain": [
       "<IPython.core.display.Markdown object>"
      ]
     },
     "metadata": {},
     "output_type": "display_data"
    },
    {
     "data": {
      "text/markdown": [
       "[56. Steam's Summer Sale is in full swing  here's 11 gaming deals I'd buy right now (Topics: ['Entertainment', 'Gaming Deals', 'Steam', 'Summer Sale']) - Google News](https://www.tomsguide.com/gaming/steams-summer-sale-is-in-full-swing-heres-9-gaming-deals-id-get-now)  \n",
       "\n",
       "- Steam's Summer Sale is offering significant discounts on popular games like Disco Elysium, Fallout 76, Elden Ring, The Witcher 3, and Borderlands 2.\n",
       "- The sale runs until July 11 and includes various game genres like RPGs, strategy, and open-world action.\n",
       "- Gamers can also find deals on indie, triple-A, and classic games, making it a great opportunity to expand their gaming library without spending too much. \n",
       "\n"
      ],
      "text/plain": [
       "<IPython.core.display.Markdown object>"
      ]
     },
     "metadata": {},
     "output_type": "display_data"
    },
    {
     "data": {
      "text/markdown": [
       "[57. Copilot+ PCs software compatibility issues left to you to sort out, with help from crowdsourcersSamsung warned users, but the PC industrys big players hardly mention the possibility of problems (Topics: ['Pcs', 'Software Compatibility', 'Troubleshooting']) - The Register](https://www.theregister.com/2024/07/08/copilot_plus_pc_software_compatibility/)  \n",
       "\n",
       "- Samsung warned users about Copilot+ PCs not being able to run some common software like antivirus apps and games\n",
       "- Microsoft created an emulator named \"Prism\" to run x86 software on Arm architecture in Copilot+ PCs\n",
       "- The PC industry's big players like Lenovo, HP Inc., Dell, and ASUS did not provide much insight into the software compatibility issues with Qualcomm-powered Copilot+ PCs \n",
       "\n"
      ],
      "text/plain": [
       "<IPython.core.display.Markdown object>"
      ]
     },
     "metadata": {},
     "output_type": "display_data"
    },
    {
     "data": {
      "text/markdown": [
       "[58. Stealthy Jenoptik smart cameras that can spot drivers on their phone roll out across UK (Topics: ['Jenoptik', 'Smart Cameras', 'Technology Rollout', 'Uk']) - Google News](https://www.carmagazine.co.uk/car-news/motoring-issues/jenoptik-safety-cameras/)  \n",
       "\n",
       "- Jenoptik's latest smart cameras in the UK can detect distracted drivers using their phones or not wearing seatbelts, with successful trials leading to a national rollout on 25 routes.\n",
       "- The advanced cameras are smaller, less noticeable, and can catch motorists breaking the law without needing road markings or flash, capturing digital photos of offenders for police action.\n",
       "- Drivers caught holding a handheld device while driving could face penalty points, fines starting from £200, and potentially a driving ban if taken to court. \n",
       "\n"
      ],
      "text/plain": [
       "<IPython.core.display.Markdown object>"
      ]
     },
     "metadata": {},
     "output_type": "display_data"
    },
    {
     "data": {
      "text/markdown": [
       "[59. Google is bringing Fuchsia OS to Android devices, but not in the way you'd think (Topics: ['Android Devices', 'Big Tech', 'Fuchsia Os', 'Google', 'Open Source']) - Google News](https://www.androidauthority.com/microfuchsia-on-android-3457788/)  \n",
       "\n",
       "- Google is experimenting with a stripped-down version of Fuchsia OS called \"microfuchsia\" to run on Android devices in a virtual machine for potentially improved performance and security.\n",
       "- Fuchsia OS, built on Zircon rather than the Linux kernel, is being tested on devices like Google Nest Hub, with the possibility of future deployment on smartphones and PCs.\n",
       "- The development of microfuchsia involves creating an APEX file that will contain the necessary binaries for running on supported Android devices, aiming to execute workloads securely and efficiently. \n",
       "\n"
      ],
      "text/plain": [
       "<IPython.core.display.Markdown object>"
      ]
     },
     "metadata": {},
     "output_type": "display_data"
    },
    {
     "data": {
      "text/markdown": [
       "[60. Two big upgrades were just confirmed for the Google Pixel Watch 3 (Topics: ['Big Tech', 'Google', 'Google Pixel Watch', 'Technology News', 'Upgrades']) - Google News](https://www.digitaltrends.com/mobile/two-big-upgrades-confirmed-for-google-pixel-watch-3-uwb-5ghz-wi-fi/)  \n",
       "\n",
       "- Google Pixel Watch 3 will come in two sizes: regular and XL, with design similar to the previous models\n",
       "- FCC listing confirms two new features for Pixel Watch 3: Ultra-Wideband (UWB) and 5GHz Wi-Fi connectivity\n",
       "- UWB could be used for phone unlocking and tracking, while 5GHz Wi-Fi will enhance data performance on the smartwatch \n",
       "\n"
      ],
      "text/plain": [
       "<IPython.core.display.Markdown object>"
      ]
     },
     "metadata": {},
     "output_type": "display_data"
    },
    {
     "data": {
      "text/markdown": [
       "[61. AI put an innocent Texan in jail. Why is HPD working with Airship AI? (Topics: ['Ethical Issues', 'Law Enforcement', 'Wrongful Conviction']) - Google News](https://www.houstonchronicle.com/opinion/editorials/article/ai-predictive-policing-facial-scans-19551360.php)  \n",
       "\n",
       "- Facial recognition technology can often identify the wrong suspects, leading to innocent individuals being arrested and jailed erroneously.\n",
       "- The use of AI tools by police departments, such as predictive policing, raises concerns about the potential for reinforcing biases and unjust practices.\n",
       "- There is a lack of transparency regarding the Houston Police Department's partnership with Airship AI, especially in light of the potential risks and consequences associated with AI-powered tools. \n",
       "\n"
      ],
      "text/plain": [
       "<IPython.core.display.Markdown object>"
      ]
     },
     "metadata": {},
     "output_type": "display_data"
    },
    {
     "data": {
      "text/markdown": [
       "[62. Is AI's entry into music a sign of humanity's last tune? (Topics: ['AI Doom', 'Entertainment', 'Ethical Issues', 'Gen AI', 'Humanity', 'Music Industry', 'Robots', 'Trends']) - Google News](https://www.jpost.com/brandblend/article-809398)  \n",
       "\n",
       "- AI is revolutionizing the music industry with apps simplifying song creation and enabling voice manipulation across different languages, leading to legal and creative challenges.\n",
       "- Music giants are suing AI startup companies for copyright infringement, while some collaborations between industry leaders and AI developers are focusing on creating AI tools while respecting artists' rights.\n",
       "- The challenge is to strike a balance between utilizing AI in music creation ethically, maintaining human creativity, and ensuring copyrights, with initiatives like Principles for Making Music with AI aiming for transparency and fairness. \n",
       "\n"
      ],
      "text/plain": [
       "<IPython.core.display.Markdown object>"
      ]
     },
     "metadata": {},
     "output_type": "display_data"
    },
    {
     "data": {
      "text/markdown": [
       "[63. AI Doppelganger  Cool or Creepy? (Topics: ['Ethical Issues', 'Ethics', 'Gen AI', 'Technology']) - Feedly AI](https://flipboard.com/video/dw/999755771b)  \n",
       "\n",
       "- Meta is testing AI versions of influencers on their social media platforms\n",
       "- The concept of digital doppelgangers created through AI raises questions of whether it is cool or creepy\n",
       "- The surge in artificial intelligence development post the release of ChatGPT is leading to an increase in carbon emissions from tech giants \n",
       "\n"
      ],
      "text/plain": [
       "<IPython.core.display.Markdown object>"
      ]
     },
     "metadata": {},
     "output_type": "display_data"
    },
    {
     "data": {
      "text/markdown": [
       "[64. AI creates video of 'what hell looks like' and the result is terrifying (Topics: ['AI Doom', 'Ethical Issues', 'Gen AI', 'Horror Content', 'Openai', 'Video Creation']) - Feedly AI](https://www.uniladtech.com/news/ai-what-hell-looks-like-terrifying-results-237896-20240708)  \n",
       "\n",
       "- AI created a video depicting 'what hell looks like' with disturbing imagery of hands reaching out and distorted faces, generating significant attention and chatter.\n",
       "- Academic Eliezer Yudkowsky warned about the AI apocalypse potentially occurring sooner than anticipated, estimating a timeline of 5 years or less.\n",
       "- Scientists developed an AI system called 'life2vec' that can predict an individual's time of death with remarkable accuracy based on the data of over one million people from Denmark. \n",
       "\n"
      ],
      "text/plain": [
       "<IPython.core.display.Markdown object>"
      ]
     },
     "metadata": {},
     "output_type": "display_data"
    },
    {
     "data": {
      "text/markdown": [
       "[65. Hacker accessed OpenAI's internal AI details in 2023 breach: report (Topics: ['AI Doom', 'Big Tech', 'Breach', 'Cybersecurity', 'Ethical Issues', 'Hacker', 'Internal Details', 'Language Models', 'Openai', 'Privacy', 'Report']) - Google News](https://www.foxbusiness.com/technology/hacker-accessed-openais-internal-ai-details-2023-breach-report)  \n",
       "\n",
       "- A hacker breached OpenAI in 2023, accessing the company's internal forum discussing AI technologies, but did not access AI systems like ChatGPT.\n",
       "- OpenAI executives informed employees and the board about the breach, but did not notify law enforcement due to limited impact on customers or partners.\n",
       "- The security breach raised concerns about potential misuse of AI technology, leading OpenAI to form a safety and security committee to address these issues. \n",
       "\n"
      ],
      "text/plain": [
       "<IPython.core.display.Markdown object>"
      ]
     },
     "metadata": {},
     "output_type": "display_data"
    },
    {
     "data": {
      "text/markdown": [
       "[66. AI eyes of roads that can spy inside cars pose threat to privacy (Topics: ['AI Doom', 'Big Tech', 'Ethical Issues', 'Legal Issues', 'Policy And Regulation', 'Privacy', 'Privacy Concerns', 'Surveillance']) - Google News](https://interestingengineering.com/innovation/ai-speed-detector-spy-inside-cars)  \n",
       "\n",
       "- UK plans to deploy AI-powered speed cameras nationwide to improve road safety by detecting mobile phone use and seatbelt violations, but this initiative has sparked a privacy concern.\n",
       "- Privacy advocates criticize the intrusive nature of AI-powered surveillance, while acknowledging the potential benefits for road safety.\n",
       "- Despite ongoing trials and optimism from National Highways about the potential of AI cameras to enhance road safety, concerns persist regarding the balance between safety and privacy implications. \n",
       "\n"
      ],
      "text/plain": [
       "<IPython.core.display.Markdown object>"
      ]
     },
     "metadata": {},
     "output_type": "display_data"
    },
    {
     "data": {
      "text/markdown": [
       "[67. 10 ways to prevent shadow AI disaster (Topics: ['AI Doom', 'Disaster Prevention', 'Ethical Issues']) - Google News](https://www.cio.com/article/2150142/10-ways-to-prevent-shadow-ai-disaster.html)  \n",
       "\n",
       "- Unsanctioned AI in the workplace is posing risks to company data, systems, and relationships, with employees using unauthorized AI tools and feeding sensitive corporate information into these tools.\n",
       "- Shadow AI can lead to data exposure, proprietary data misuse, biased results, legal issues, and disruptions among the workforce, causing liabilities for the organization.\n",
       "- Strategies to prevent shadow AI disasters include setting acceptable use policies for AI, building awareness about risks, managing expectations, reviewing access controls, blocking access to AI tools, enlisting allies, creating IT AI roadmaps, empowering workers to use AI effectively, and being open to innovative AI uses. \n",
       "\n"
      ],
      "text/plain": [
       "<IPython.core.display.Markdown object>"
      ]
     },
     "metadata": {},
     "output_type": "display_data"
    },
    {
     "data": {
      "text/markdown": [
       "[68. Artificial Intelligence Researchers Need More Information to Understand Risks (Topics: ['AI Doom', 'Ethical Issues', 'Openai', 'Research', 'Risk Assessment']) - Google News](https://foreignpolicy.com/2024/07/08/artificial-intelligence-ai-election-misinformation-technology-risks/)  \n",
       "\n",
       "- Researchers need more information to understand AI's true risks\n",
       "- Red teaming is insufficient to address AI risks as it focuses on worst-case scenarios\n",
       "- Lack of access to real-world AI usage data hinders policymakers' ability to address potential harms \n",
       "\n"
      ],
      "text/plain": [
       "<IPython.core.display.Markdown object>"
      ]
     },
     "metadata": {},
     "output_type": "display_data"
    },
    {
     "data": {
      "text/markdown": [
       "[69. Telecoms companies now using scambaiting AI systems; Lenny+ (Topics: ['AI Economic Impacts', 'Cybersecurity', 'Gen AI', 'Lenny+', 'Scambaiting AI Systems', 'Scams', 'Telecoms Companies']) - Google News](https://9to5mac.com/2024/07/08/scambaiting-ai-systems/)  \n",
       "\n",
       "- Scam calls cost Americans over $25 billion per year, with victims experiencing financial losses through various types of scams like romance scams and fake purchases\n",
       "- Scambaiters use tools like Lenny to keep scammers on the line, and now telecom companies are using AI chatbots like Ibrahim to waste scammers' time, gather intelligence on scam techniques, and help law enforcement\n",
       "- Telecoms companies use AI chatbots to keep scammers occupied, test different strategies, learn about their tactics, and collect information to detect new scams. \n",
       "\n"
      ],
      "text/plain": [
       "<IPython.core.display.Markdown object>"
      ]
     },
     "metadata": {},
     "output_type": "display_data"
    },
    {
     "data": {
      "text/markdown": [
       "[70. Telecoms companies now using scambaiting AI systems modelled on Lenny (Topics: ['Cybersecurity', 'Language Models', 'Lenny', 'Scambaiting AI Systems', 'Scams', 'Telecoms Companies']) - Feedly AI](https://9to5mac.com/2024/07/08/scambaiting-ai-systems/)  \n",
       "\n",
       "- A new breed of scambaiting AI systems are officially used by telecoms companies to protect customers from fraud, with some models like Lenny being very effective in keeping scammers engaged in conversation.\n",
       "- Scam calls are a major issue, costing Americans billions yearly, with victims losing money through various tactics like romance scams, fake IRS calls, and fake purchases seeking bank details.\n",
       "- Telecoms companies are implementing AI chatbots like Ibrahim, more advanced versions of Lenny, to engage scammers, gather intelligence on their tactics, warn people, and assist law enforcement in combating scams. \n",
       "\n"
      ],
      "text/plain": [
       "<IPython.core.display.Markdown object>"
      ]
     },
     "metadata": {},
     "output_type": "display_data"
    },
    {
     "data": {
      "text/markdown": [
       "[71. Here's How Your Online Activity Is Training Next-Gen AI (Topics: ['AI Doom', 'AI Economic Impacts', 'AI Job Market', 'Big Tech', 'Gen AI', 'Language Models', 'Llms', 'Online Activity', 'Openai', 'Reinforcement Learning', 'Training Data']) - Feedly AI](https://www.inc.com/associated-press/your-social-media-posts-are-training-next-gen-ai-heres-how.html)  \n",
       "\n",
       "- Posting on social media platforms contributes to training next-gen AI models\n",
       "- Some users are hesitant or resistant to their online activities being used in this way\n",
       "- Social media platforms are grappling with user wariness and responses to adapt to generative AI changes \n",
       "\n"
      ],
      "text/plain": [
       "<IPython.core.display.Markdown object>"
      ]
     },
     "metadata": {},
     "output_type": "display_data"
    },
    {
     "data": {
      "text/markdown": [
       "[72. Google's AI Aftershock: Expert Explains How to Thrive in the New Search Landscape (Topics: ['AI Economic Impacts', 'Big Tech', 'Expert Advice', 'Google', 'Search Landscape']) - HackerNoon](https://hackernoon.com/googles-ai-aftershock-expert-explains-how-to-thrive-in-the-new-search-landscape)  \n",
       "\n",
       "- Google recently introduced AI-generated summaries to its search results, impacting content creators and website owners.\n",
       "- Strategies for thriving in the AI search landscape include focusing on high-quality content, local SEO, and leveraging long-tail keywords.\n",
       "- Maintaining brand uniqueness, community building, and adapting to new technologies will be crucial for surviving and excelling in the AI-driven era of SEO. \n",
       "\n"
      ],
      "text/plain": [
       "<IPython.core.display.Markdown object>"
      ]
     },
     "metadata": {},
     "output_type": "display_data"
    },
    {
     "data": {
      "text/markdown": [
       "[73. Google Experts Warn That AI May Distort Reality, While AI Overviews Repel Mobile Users (Topics: ['AI Doom', 'AI Economic Impacts', 'Big Tech', 'Ethical Issues', 'Gen AI', 'Google', 'Language Models', 'Mobile Users', 'Reality Distortion', 'Warnings']) - Google News](https://www.cnet.com/tech/computing/google-experts-warn-that-ai-may-distort-reality-while-ai-overviews-repel-mobile-users/)  \n",
       "\n",
       "- A research report by Google experts warns about the potential negative impacts of generative AI, such as the production of low-quality and nefarious synthetic content leading to distrust and distortion of reality.\n",
       "- Google's AI Overviews feature, which autogenerates answers for Google Search questions, faced criticism for inaccurate information, leading to a decline in mobile searches, although users who engaged with AI summaries still clicked on results at a similar or higher rate.\n",
       "- Concerns around the misuse of AI tools, including unauthorized AI-generated voice imitations and deepfakes, have led to changes in policies by platforms like YouTube and Meta, with the aim to address privacy violations and protect intellectual property rights. \n",
       "\n"
      ],
      "text/plain": [
       "<IPython.core.display.Markdown object>"
      ]
     },
     "metadata": {},
     "output_type": "display_data"
    },
    {
     "data": {
      "text/markdown": [
       "[74. China's AI model glut is a 'significant waste of resources' due to scarce real-world applications for 100+ LLMs says Baidu CEO (Topics: ['AI Doom', 'AI Economic Impacts', 'Baidu', 'Big Tech', 'China', 'Gen AI', 'Language Models', 'Llms', 'Resource Allocation']) - Reddit](https://www.reddit.com/r/technology/comments/1dxwfzs/chinas_ai_model_glut_is_a_significant_waste_of/)  \n",
       "\n",
       "- Baidu CEO states that China's AI model glut is a significant waste of resources due to a lack of real-world applications for over 100 LLMs\n",
       "- The CEO suggests that the focus should be on a few companies creating foundation LLMs rather than numerous companies investing in expensive models that are not competitive\n",
       "- Discussion on the limitations of LLM growth potential and the perception that it may not lead to AGI, with mentions of companies focusing on large AI builds and concerns about resource allocation and censorship in China's AI industry \n",
       "\n"
      ],
      "text/plain": [
       "<IPython.core.display.Markdown object>"
      ]
     },
     "metadata": {},
     "output_type": "display_data"
    },
    {
     "data": {
      "text/markdown": [
       "[75. Google's AI search summaries use 10x more energy than just doing a normal Google search (Topics: ['AI Doom', 'AI Economic Impacts', 'Big Tech', 'Climate', 'Energy Consumption', 'Ethical Issues', 'Google', 'Search Summaries', 'Sustainability']) - Reddit](https://www.reddit.com/r/technology/comments/1dxrnlk/googles_ai_search_summaries_use_10x_more_energy/)  \n",
       "\n",
       "- Google's AI search summaries use 10x more energy than regular Google searches.\n",
       "- Users express concerns about AI summaries being less accurate and requiring more energy.\n",
       "- Discussions mention the need for nuclear energy to meet increasing power demands. \n",
       "\n"
      ],
      "text/plain": [
       "<IPython.core.display.Markdown object>"
      ]
     },
     "metadata": {},
     "output_type": "display_data"
    },
    {
     "data": {
      "text/markdown": [
       "[76. Power-hungry AI is driving a surge in tech giant carbon emissions. Nobody knows what to do about it (Topics: ['AI Doom', 'AI Economic Impacts', 'Big Tech', 'Carbon Emissions', 'Climate', 'Environmental Impact', 'Ethical Issues', 'Gen AI', 'Sustainability', 'Tech Giants']) - Feedly AI](https://theconversation.com/power-hungry-ai-is-driving-a-surge-in-tech-giant-carbon-emissions-nobody-knows-what-to-do-about-it-233452)  \n",
       "\n",
       "- Google, Microsoft, and Meta have reported significant increases in carbon emissions due to power-hungry AI applications.\n",
       "- The surge in AI use is leading to substantial energy consumption in data centers, contributing to higher emissions and water usage.\n",
       "- Tech companies are facing challenges in addressing the environmental impacts of AI growth, with concerns about energy consumption and the need for sustainability education and training. \n",
       "\n"
      ],
      "text/plain": [
       "<IPython.core.display.Markdown object>"
      ]
     },
     "metadata": {},
     "output_type": "display_data"
    },
    {
     "data": {
      "text/markdown": [
       "[77. Co-author of the original Transformers paper says models are doing things he thought were 40 years away and scaling laws will continue to hold (Topics: ['Geoffrey Hinton', 'Meta', 'Openai', 'Research', 'Robots', 'Scaling Laws', 'Transformers', 'Yann Lecun']) - Reddit](https://www.reddit.com/r/ChatGPT/comments/1dy1da9/coauthor_of_the_original_transformers_paper_says/)  \n",
       "\n",
       "- Co-author of the original Transformers paper acknowledges models are advancing faster than anticipated\n",
       "- Scaling laws are expected to remain applicable in the future\n",
       "- Discussion in the thread touches on the exponential growth of computing power and the development of Artificial General Intelligence \n",
       "\n"
      ],
      "text/plain": [
       "<IPython.core.display.Markdown object>"
      ]
     },
     "metadata": {},
     "output_type": "display_data"
    },
    {
     "data": {
      "text/markdown": [
       "[78. Small Language Models: The Future Catalyst for Organizational Success (Topics: ['Chatgpt', 'Language Models', 'Llms', 'Openai', 'Organizational Success', 'Technology']) - Feedly AI](https://blog.kore.ai/why-could-small-language-models-be-the-game-changer-for-your-organization)  \n",
       "\n",
       "- Small Language Models (SLMs) are revolutionizing businesses by offering precise, efficient, and cost-effective AI solutions\n",
       "- SLMs enhance operational efficiency, data security, and tailored communication capabilities for organizations seeking to innovate and maintain a competitive edge\n",
       "- SLMs are strategic investments for businesses, providing customized solutions for specific industry needs, while also ensuring accuracy, cost-effectiveness, and real-time responsiveness \n",
       "\n"
      ],
      "text/plain": [
       "<IPython.core.display.Markdown object>"
      ]
     },
     "metadata": {},
     "output_type": "display_data"
    },
    {
     "data": {
      "text/markdown": [
       "[79. Breaking the rules is in big tech's blood  now it's time to break the habitOpinionMicrosoft: All your data are belong to us? World: That's so last centuryAI + ML4 hrs|9 (Topics: ['Big Tech', 'Data Privacy', 'Ethical Issues', 'Microsoft', 'Opinion Pieces', 'Privacy']) - The Register](https://www.theregister.com/2024/07/08/opinion_column_ai_ip/)  \n",
       "\n",
       "- Microsoft has a history of controversial intellectual property practices, with its current CEO claiming rights to open web content.\n",
       "- An ongoing debate surrounds the intersection of copyright, AI technology, and the need for new regulations to balance creator rights and technological advancements.\n",
       "- Companies involved in AI face a battle between maximizing access and minimizing oversight, potentially leading to negative consequences for all parties involved. \n",
       "\n"
      ],
      "text/plain": [
       "<IPython.core.display.Markdown object>"
      ]
     },
     "metadata": {},
     "output_type": "display_data"
    },
    {
     "data": {
      "text/markdown": [
       "[80. Tether CEO advocates for localized AI models to prevent hacks (Topics: ['AI Economic Impacts', 'AI Models', 'Ceo', 'Cybersecurity', 'Fintech', 'Tether']) - Google News](https://cointelegraph.com/news/tether-ceo-promotes-local-ai-privacy)  \n",
       "\n",
       "- Tether CEO Paolo Ardoino advocates for localized AI models to protect privacy and prevent hacks in response to recent security breaches, emphasizing the importance of independence and user control.\n",
       "- Ardoino highlights the benefits of locally executable AI models running on devices like smartphones and laptops to enhance security, privacy, and data control for users.\n",
       "- Tether is exploring the integration of locally executable models into its AI solutions following a hack experienced by OpenAI, prompting concerns about Big Tech monopolies over AI models and the need for decentralization in the industry. \n",
       "\n"
      ],
      "text/plain": [
       "<IPython.core.display.Markdown object>"
      ]
     },
     "metadata": {},
     "output_type": "display_data"
    },
    {
     "data": {
      "text/markdown": [
       "[81. Interview: Microsoft AI chief Mustafa Suleyman on balancing AI innovation and containment (Topics: ['AI Chief', 'Big Tech', 'Containment', 'Ethical Issues', 'Innovation', 'Microsoft', 'Mustafa Suleyman']) - Google News](https://www.chosun.com/english/people-en/2024/07/07/4WZRIFLZFFFM5JCLJB446HOAJA/)  \n",
       "\n",
       "- Mustafa Suleyman emphasizes the importance of AI containment to ensure the safe delivery of world-changing technology.\n",
       "- He believes that AI technology offers immense benefits but also poses risks, requiring a balance to empower good uses while preventing abuse by bad actors.\n",
       "- Suleyman suggests that managing AI's impact on the labor market and society will require governments to provide retraining, maintain living standards, and carefully guide technological advancements. \n",
       "\n"
      ],
      "text/plain": [
       "<IPython.core.display.Markdown object>"
      ]
     },
     "metadata": {},
     "output_type": "display_data"
    },
    {
     "data": {
      "text/markdown": [
       "[82. Microsoft AI chief on AI companies using online content (Topics: ['AI Companies', 'AI Economic Impacts', 'AI Job Market', 'Big Tech', 'Ethical Issues', 'Language Models', 'Microsoft', 'Online Content', 'Privacy']) - Google News](https://www.indiatoday.in/visualstories/technology/microsoft-ai-chief-on-ai-companies-using-online-content-149134-04-07-2024)  \n",
       "\n",
       "- Mustafa Suleyman, Microsoft's AI chief, discussed the use of internet content for training AI models in a CNBC interview.\n",
       "- Suleyman highlighted the social contract since the 1990s that content on the open web is considered fair use, making it accessible for copying and reproducing.\n",
       "- Unless explicitly prohibited, AI companies can scrape or crawl online content for training AI models according to Suleyman. \n",
       "\n"
      ],
      "text/plain": [
       "<IPython.core.display.Markdown object>"
      ]
     },
     "metadata": {},
     "output_type": "display_data"
    },
    {
     "data": {
      "text/markdown": [
       "[83. UK Future Workforce Index 2024: 83% of UK businesses willing to pay a higher wage to those with AI skills amid hiring challenges (Topics: ['AI Economic Impacts', 'AI Job Market', 'AI Skills', 'Business Trends', 'Gen AI', 'Hiring Challenges', 'Robots', 'Uk Future Workforce Index']) - Google News](https://www.onrec.com/news/statistics/uk-future-workforce-index-2024-83-of-uk-businesses-willing-to-pay-a-higher-wage-to)  \n",
       "\n",
       "- 83% of UK businesses are willing to pay a higher wage to those with AI skills amid hiring challenges, with a shift towards hiring freelancers and self-employed workers for AI tasks.\n",
       "- Freelancers and self-employed workers in the UK face challenges with late payments and integration into companies, with 60% feeling unsupported by the current Conservative government.\n",
       "- UK businesses are seeking AI skills and willing to offer a 45% increase on advertised salary for such skills, as the workforce shifts towards more flexible arrangements and part-time employees. \n",
       "\n"
      ],
      "text/plain": [
       "<IPython.core.display.Markdown object>"
      ]
     },
     "metadata": {},
     "output_type": "display_data"
    },
    {
     "data": {
      "text/markdown": [
       "[84. Artificial Intelligence Boom Lifts Paychecks for CIOs (Topics: ['AI Economic Impacts', 'AI Job Market', 'Big Tech', 'Gen AI', 'Job Market', 'Salary Trends']) - Google News](https://www.wsj.com/articles/artificial-intelligence-boom-lifts-paychecks-for-cios-e1527eab)  \n",
       "\n",
       "- Main content of the page not found.\n",
       "- Unable to summarize information. \n",
       "\n"
      ],
      "text/plain": [
       "<IPython.core.display.Markdown object>"
      ]
     },
     "metadata": {},
     "output_type": "display_data"
    },
    {
     "data": {
      "text/markdown": [
       "[85. China sees changing of career guard as AI beats out finance in pay pyramid (Topics: ['AI Economic Impacts', 'AI Job Market', 'Career Paths', 'China', 'Gen AI', 'Robots', 'Salary Trends']) - Google News](https://www.scmp.com/economy/china-economy/article/3269334/chinas-tech-boom-powering-ai-career-coup-finance-muscled-out-top-salary-pyramid)  \n",
       "\n",
       "- China's tech industry is surpassing finance in salary rankings due to the demand for AI applications and Beijing's investment in tech self-sufficiency.\n",
       "- AI jobs in China reported the highest monthly salaries, with AI engineers earning more than those in finance, signaling a shift in job market priorities.\n",
       "- Chinese financial sector is experiencing pay cuts and reduced bonuses, while tech sector, especially AI, is becoming appealing to job seekers with higher salaries offered. \n",
       "\n"
      ],
      "text/plain": [
       "<IPython.core.display.Markdown object>"
      ]
     },
     "metadata": {},
     "output_type": "display_data"
    },
    {
     "data": {
      "text/markdown": [
       "[86. Chinas tech boom powering AI career coup, with finance muscled out at top of salary pyramid (Topics: ['AI Economic Impacts', 'AI Job Market', 'Career Development', 'China', 'Tech Industry']) - Reddit](https://www.reddit.com/r/technology/comments/1dxltnf/chinas_tech_boom_powering_ai_career_coup_with/)  \n",
       "\n",
       "- China's tech industry is driving a surge in AI careers, surpassing finance in top salary positions.\n",
       "- The AI industry in China is growing rapidly, with implications for the future of financial software regulation.\n",
       "- The US and China differ in their approaches to integrating AI into industries like banking, with potential impacts on the stability of their respective economies. \n",
       "\n"
      ],
      "text/plain": [
       "<IPython.core.display.Markdown object>"
      ]
     },
     "metadata": {},
     "output_type": "display_data"
    },
    {
     "data": {
      "text/markdown": [
       "[87. A majority of CFOs admit they don't fully understand AI (Topics: ['AI Economic Impacts', 'Cfos', 'Gen AI', 'Knowledge Gap']) - Google News](https://fortune.com/2024/07/08/majority-cfos-admit-dont-fully-understand-ai/)  \n",
       "\n",
       "- 54% of CFOs plan to use AI to automate tasks previously done by employees\n",
       "- 58% of CFOs admitted they understand very little about AI in finance\n",
       "- Many CFOs are actively deploying AI but admit their knowledge is highly limited \n",
       "\n"
      ],
      "text/plain": [
       "<IPython.core.display.Markdown object>"
      ]
     },
     "metadata": {},
     "output_type": "display_data"
    },
    {
     "data": {
      "text/markdown": [
       "[88. CIOs' concerns over generative AI echo those of the early days of cloud computing (Topics: ['Cios', 'Cloud Computing', 'Gen AI', 'Generative AI']) - Google News](https://techcrunch.com/2024/07/07/cios-concerns-over-generative-ai-echo-those-of-the-early-days-of-cloud-computing/)  \n",
       "\n",
       "- CIOs' concerns over generative AI are similar to those of the early days of cloud computing, involving governance, security, and responsible use of the technology.\n",
       "- IT executives have learned lessons and now focus on enabling safe and effective use of generative AI tools rather than blocking access, emphasizing responsible use, enhancing customer experience, and ensuring security.\n",
       "- Companies are investing in educating their workforce about AI, anticipating employees' increasing demand for AI tools and the necessity of creating an AI-literate workforce. \n",
       "\n"
      ],
      "text/plain": [
       "<IPython.core.display.Markdown object>"
      ]
     },
     "metadata": {},
     "output_type": "display_data"
    },
    {
     "data": {
      "text/markdown": [
       "[89. This AI model says US recession chances are up to 68% (Topics: ['AI Doom', 'AI Economic Impacts', 'AI Model', 'Economic Prediction', 'Gen AI', 'Stocks', 'Us Recession']) - Feedly AI](https://au.investing.com/news/economy-news/this-ai-model-says-us-recession-chances-are-up-to-68-3330415)  \n",
       "\n",
       "- A machine learning model developed by Piper Sandler suggests a surge in the probability of a U.S. recession to 68%, based on sluggish economic indicators in the first half of 2024.\n",
       "- Key economic indicators including low real GDP growth and consumer spending, rising bankruptcy rates, and a stagnating manufacturing sector point towards a broad economic slowdown.\n",
       "- Concerns are raised about slowing employment growth, deteriorating incomes, declining capital expenditures, and potential price declines in the housing sector contributing to the recession likelihood. \n",
       "\n"
      ],
      "text/plain": [
       "<IPython.core.display.Markdown object>"
      ]
     },
     "metadata": {},
     "output_type": "display_data"
    },
    {
     "data": {
      "text/markdown": [
       "[90. 37 ad execs predict 2024 second half trends: AI, Olympics, Gen Z (Topics: ['Advertising', 'Gen Z', 'Gen AI', 'Olympics', 'Trends']) - Google News](https://adage.com/article/agency-news/37-ad-execs-predict-2024-second-half-trends-ai-olympics-gen-z/2568341)  \n",
       "\n",
       "- Advertising leaders predict trends for the second half of 2024 including immersive tech, Pinterest, and women's sports around the Olympics\n",
       "- Some ad execs do not want to see more headlines about Taylor Swift, AI threatening creativity, and advertiser fallout\n",
       "- Brands will continue to navigate politics leading up to the U.S. presidential election \n",
       "\n"
      ],
      "text/plain": [
       "<IPython.core.display.Markdown object>"
      ]
     },
     "metadata": {},
     "output_type": "display_data"
    },
    {
     "data": {
      "text/markdown": [
       "[91. Retail This Week: Soft Landings, AI Hype, And Department Store Deaths (Topics: ['Business Trends', 'Department Stores', 'Retail']) - Google News](https://www.forbes.com/sites/nikkibaird/2024/07/08/retail-this-week-soft-landings-ai-hype-and-department-store-deaths/)  \n",
       "\n",
       "- The concept of 'soft landings' reemerged in retail discussions due to signs of cooling labor markets and inflation, while retail tech data highlighted the importance of product information but also the risk of overwhelming consumers with information leading to abandoned purchases.\n",
       "- The AI hype in retail was discussed, with examples ranging from personalized recommendations in skincare to a Meta ad promoting AI as a life enhancer, raising questions about the true impact and practicality of AI innovations.\n",
       "- Department stores were analyzed, attributing their decline to factors such as outdated strategies, failure to adapt to consumer preferences, and the inability to compete with online alternatives, leading to a need for brands to focus on rebuilding customer trust and loyalty in a changing retail landscape. \n",
       "\n"
      ],
      "text/plain": [
       "<IPython.core.display.Markdown object>"
      ]
     },
     "metadata": {},
     "output_type": "display_data"
    },
    {
     "data": {
      "text/markdown": [
       "[92. AI breakthrough? Google's new training method uses 10x less power (Topics: ['Big Tech', 'Energy Efficiency', 'Google', 'Reinforcement Learning', 'Sustainability', 'Training Methods']) - Google News](https://www.newsbytesapp.com/news/science/google-deepmind-s-new-ai-training-technique-promises-significant-gains/story)  \n",
       "\n",
       "- Google's AI training method, JEST, is claimed to be 13 times faster and 10 times more energy-efficient than existing techniques, relying on selecting the most \"learnable\" data subsets.\n",
       "- JEST's success is heavily dependent on high-quality, human-curated training data, posing a challenge for amateur AI developers.\n",
       "- The future adoption of JEST in the AI industry is uncertain, with hopes that it could reduce costs while maintaining productivity rates amid rising power demands in artificial intelligence. \n",
       "\n"
      ],
      "text/plain": [
       "<IPython.core.display.Markdown object>"
      ]
     },
     "metadata": {},
     "output_type": "display_data"
    },
    {
     "data": {
      "text/markdown": [
       "[93. Google claims new AI training tech is 13 times faster and 10 times more power efficient  DeepMind's new JEST optimizes training data for impressive gains (Topics: ['Big Tech', 'Deepmind', 'Gen AI', 'Google', 'Jest', 'Optimization', 'Training Tech']) - Google News](https://www.tomshardware.com/tech-industry/artificial-intelligence/google-claims-new-ai-training-tech-is-13-times-faster-and-10-times-more-power-efficient-deepminds-new-jest-optimizes-training-data-for-massive-gains)  \n",
       "\n",
       "- Google claims new AI training tech is 13 times faster and 10 times more power efficient with DeepMind's JEST method\n",
       "- JEST methodology focuses on training with entire batches rather than individual data points, grading data quality and selecting batches for training\n",
       "- Environmental concerns over AI's power demands prompt exploration of more energy-efficient training methods like JEST \n",
       "\n"
      ],
      "text/plain": [
       "<IPython.core.display.Markdown object>"
      ]
     },
     "metadata": {},
     "output_type": "display_data"
    },
    {
     "data": {
      "text/markdown": [
       "[94. Google claims new AI training tech is 13x faster, 10x more power efficient (Topics: ['Big Tech', 'Efficiency', 'Gen AI', 'Google', 'Speed', 'Training Tech']) - Feedly AI](https://www.tomshardware.com/tech-industry/artificial-intelligence/google-claims-new-ai-training-tech-is-13-times-faster-and-10-times-more-power-efficient-deepminds-new-jest-optimizes-training-data-for-massive-gains)  \n",
       "\n",
       "- Google's AI research lab, DeepMind, introduces new JEST training method for AI models claiming 13 times faster training speed and 10 times higher power efficiency compared to other methods.\n",
       "- JEST method involves grading data quality from high-quality sources to optimize training data selection and improve training process.\n",
       "- The traditional training methods focusing on individual data points for training are surpassed by JEST's batch training approach, potentially impacting power consumption and AI's environmental footprint. \n",
       "\n"
      ],
      "text/plain": [
       "<IPython.core.display.Markdown object>"
      ]
     },
     "metadata": {},
     "output_type": "display_data"
    },
    {
     "data": {
      "text/markdown": [
       "[95. UN Agency: China Leading AI Patents Race (Topics: ['AI Economic Impacts', 'AI Patents', 'China', 'Intellectual Property', 'Technology Race', 'Un Agency']) - Google News](https://learningenglish.voanews.com/a/un-agency-china-leading-ai-patents-race/7686347.html)  \n",
       "\n",
       "- China is leading in filing patents for generative artificial intelligence (GenAI) inventions, with six times more patents filed than the United States.\n",
       "- Generative AI is growing rapidly, with over 50,000 patent applications in the last decade, covering various areas such as autonomous driving, publishing, and document management.\n",
       "- Top applicants include Chinese companies like ByteDance and Alibaba Group, as well as Microsoft, with potential for GenAI to impact industries like science, publishing, transportation, and security. \n",
       "\n"
      ],
      "text/plain": [
       "<IPython.core.display.Markdown object>"
      ]
     },
     "metadata": {},
     "output_type": "display_data"
    },
    {
     "data": {
      "text/markdown": [
       "[96. At Shanghai AI Expo, Humanoid Robots Turn Heads, Bake Bread (Topics: ['Baking', 'China', 'Exhibitions', 'Robotics', 'Robots']) - Google News](https://www.sixthtone.com/news/1015460)  \n",
       "\n",
       "- At Shanghai AI Expo, humanoid robots like XR4, GR-1, and Kuavo showcased significant advancements in AI technology, with the potential for large-scale commercial applications in the near future.\n",
       "- China is investing heavily in developing humanoid robotics technology, with initiatives such as creating innovation centers and setting up guidelines for safe and effective supply of key components to bolster industrial growth.\n",
       "- Despite recent breakthroughs in the field, challenges such as high production costs, complex manufacturing processes, and demand for innovation in key technologies like language models still remain unresolved in the humanoid robotics industry. \n",
       "\n"
      ],
      "text/plain": [
       "<IPython.core.display.Markdown object>"
      ]
     },
     "metadata": {},
     "output_type": "display_data"
    },
    {
     "data": {
      "text/markdown": [
       "[97. China's AI Leaders Alibaba and SenseTime Showcase Breakthroughs at Shanghai Conference (Topics: ['AI Economic Impacts', 'Big Tech', 'China', 'Innovation', 'Leadership']) - Feedly AI](https://www.benzinga.com/news/24/07/39663974/chinas-ai-leaders-alibaba-and-sensetime-showcase-breakthroughs-at-shanghai-conference)  \n",
       "\n",
       "- Alibaba and SenseTime showcased advancements in AI at the World Artificial Intelligence Conference in Shanghai, with SenseTime's SenseNova 5.5 outperforming GPT-4.\n",
       "- SenseTime's SenseNova 5.5 demonstrated a 30% performance improvement over its predecessor and outperformed GPT-4 in five key metrics.\n",
       "- Alibaba Cloud reported growth in user numbers for its Tongyi Qianwen large language models, with downloads doubling to over 20 million in the past two months. \n",
       "\n"
      ],
      "text/plain": [
       "<IPython.core.display.Markdown object>"
      ]
     },
     "metadata": {},
     "output_type": "display_data"
    },
    {
     "data": {
      "text/markdown": [
       "[98. China flexes AI muscle at Shanghai expo (Topics: ['AI Economic Impacts', 'Big Tech', 'China', 'Gen AI', 'Industry Trends', 'Robots', 'Technology Expo']) - Google News](https://asiatimes.com/2024/07/china-flexes-ai-muscle-at-shanghai-expo/)  \n",
       "\n",
       "- China demonstrated its position in the AI industry at the World Artificial Intelligence Conference in Shanghai, showcasing a diverse range of products and services related to AI technology.\n",
       "- The event featured over 500 companies specializing in various AI applications, with a mix of Chinese and international participants like Amazon, Dell, Google, Microsoft, and Tesla.\n",
       "- The conference highlighted China's progress in narrowing the gap with American rivals in AI development, focusing on advancements in large language models, machine learning, healthcare services, industrial AI, robots, and autonomous vehicles. \n",
       "\n"
      ],
      "text/plain": [
       "<IPython.core.display.Markdown object>"
      ]
     },
     "metadata": {},
     "output_type": "display_data"
    },
    {
     "data": {
      "text/markdown": [
       "[99. Chinese GPU maker Moore Threads' MTLink fabric tech challenges Nvidia's NVLink, can now scale to 10,000 GPUs for AI clusters (Topics: ['China', 'Competition', 'Gen AI', 'Gpu Technology', 'Nvidia', 'Semiconductor Chips']) - Feedly AI](https://www.tomshardware.com/pc-components/gpus/chinese-gpu-maker-moore-threads-can-now-scale-to-10000-processors-for-ai-clusters-mtlink-fabric-tech-competes-with-nvidias-nvlink)  \n",
       "\n",
       "- Moore Threads' MTLink fabric technology challenges Nvidia's NVLink by enabling the scaling of up to 10,000 GPUs in a single cluster, focusing on boosting datacenter AI capabilities.\n",
       "- Despite facing obstacles due to U.S. export rules, Moore Threads is forging strategic partnerships and raising funds to advance its technology and expand its offerings in the gaming and AI sectors.\n",
       "- The company's MTT S4000 GPUs, while lagging behind Nvidia's performance, are claimed to be competitive and are being utilized in collaboration projects to improve China's AI capabilities. \n",
       "\n"
      ],
      "text/plain": [
       "<IPython.core.display.Markdown object>"
      ]
     },
     "metadata": {},
     "output_type": "display_data"
    },
    {
     "data": {
      "text/markdown": [
       "[100. AI-Powered Super Soldiers Are More Than Just a Pipe Dream (Topics: ['Gen AI', 'Military', 'Military Technology', 'Super Soldiers']) - Feedly AI](https://www.wired.com/story/us-military-hyper-enabled-operator/)  \n",
       "\n",
       "- US military shifted focus to a \"hyper enabled operator,\" a tactical AI assistant for special operations forces, abandoning the powered armor dream.\n",
       "- The hyper-enabled operator concept aims to provide cognitive overmatch on the battlefield by enhancing situational awareness and decision-making.\n",
       "- Technology areas of the hyper-enabled operator effort include sensing and edge computing, architecture and analysis, language translation, with products like VITA translation tool and BLoS communications system being developed. \n",
       "\n"
      ],
      "text/plain": [
       "<IPython.core.display.Markdown object>"
      ]
     },
     "metadata": {},
     "output_type": "display_data"
    },
    {
     "data": {
      "text/markdown": [
       "[101. A first physical system to learn nonlinear tasks without a traditional computer processor (Topics: ['Gen AI', 'Innovation', 'Meta', 'Openai', 'Reinforcement Learning', 'Robots', 'Semiconductor Chips', 'Technology']) - Google News](https://techxplore.com/news/2024-07-physical-nonlinear-tasks-traditional-processor.html)  \n",
       "\n",
       "- Scientists face tradeoffs building brain-like systems for machine learning, such as slow training and high power requirements of artificial neural networks.\n",
       "- A physical system named contrastive local learning network has been developed to learn nonlinear tasks without a traditional computer processor, offering speed, low power consumption, scalability, and the ability to learn complex tasks.\n",
       "- The system is based on the Coupled Learning framework, where a physical system adapts to applied inputs using local learning rules, without a centralized processor, presenting opportunities for studying emergent learning and scaling up learning systems. \n",
       "\n"
      ],
      "text/plain": [
       "<IPython.core.display.Markdown object>"
      ]
     },
     "metadata": {},
     "output_type": "display_data"
    },
    {
     "data": {
      "text/markdown": [
       "[102. Detect Migrating Birds with a Plastic Dish and a Cheap Microphone (Topics: ['Birds', 'Microphone', 'Migration', 'Plastic Dish', 'Sustainability']) - Hacker News](https://spectrum.ieee.org/detect-migrating-birds-with-sound)  \n",
       "\n",
       "- Birds migrate at night for various reasons, such as avoiding predators, using stars for navigation, and minimizing heat stress, with less turbulent air aiding flight.\n",
       "- Recording bird calls during nocturnal travels allows for species identification, using a setup including a plastic dish, microphone, preamplifier, sound card, and host computer.\n",
       "- By using inexpensive electronics and software like Raven Lite, individuals can detect migrating birds at night, such as the killdeer, dark-eyed junco, and Kentucky warbler, by analyzing spectrograms of recorded sounds. \n",
       "\n"
      ],
      "text/plain": [
       "<IPython.core.display.Markdown object>"
      ]
     },
     "metadata": {},
     "output_type": "display_data"
    },
    {
     "data": {
      "text/markdown": [
       "[103. SpaceX rockets blew away local bird habitats after Elon Musk 'misled' NPS officials about expansion, NYT reports (Topics: ['Elon Musk', 'Environmental Impact', 'Ethical Issues', 'Rocket Expansion', 'Spacex']) - Business Insider](https://www.businessinsider.com/spacex-boca-chica-texas-starbase-bird-habitat-2024-7)  \n",
       "\n",
       "- The New York Times reported that operations at SpaceX's Starbase in Texas are damaging the environment, including a local migratory bird habitat\n",
       "- SpaceX's operations have caused explosions, fires, leaks, and other issues at least 19 times since 2019, and a recent launch resulted in leaving trails of smeared egg yolk on the ground\n",
       "- SpaceX CEO Elon Musk has been accused of misleading officials, exploiting agency limitations, and expanding operations beyond what was initially promised, leading to environmental concerns and friction with government agencies \n",
       "\n"
      ],
      "text/plain": [
       "<IPython.core.display.Markdown object>"
      ]
     },
     "metadata": {},
     "output_type": "display_data"
    },
    {
     "data": {
      "text/markdown": [
       "[104. DRLQ: A Novel Deep Reinforcement Learning (DRL)-based Technique for Task Placement in Quantum Cloud Computing Environments (Topics: ['Drlq', 'Quantum Computing', 'Reinforcement Learning', 'Task Optimization']) - Feedly AI](https://www.marktechpost.com/2024/07/08/drlq-a-novel-deep-reinforcement-learning-drl-based-technique-for-task-placement-in-quantum-cloud-computing-environments/)  \n",
       "\n",
       "- Traditional heuristic approaches struggle with task management in evolving quantum computing environments\n",
       "- DRLQ is a novel Deep Reinforcement Learning-based technique that optimizes task placement in quantum cloud computing\n",
       "- DRLQ leverages advanced reinforcement learning techniques to reduce task completion time significantly and minimize rescheduling efforts \n",
       "\n"
      ],
      "text/plain": [
       "<IPython.core.display.Markdown object>"
      ]
     },
     "metadata": {},
     "output_type": "display_data"
    },
    {
     "data": {
      "text/markdown": [
       "[105. MoBot uses AI to learn how trees move. And to save millions of plant specimens. (Topics: ['Gen AI', 'Mobot', 'Plant Specimens', 'Robots', 'Sustainability', 'Tree Movement']) - Feedly AI](https://www.stltoday.com/news/local/metro/mobot-uses-ai-to-learn-how-trees-move-and-to-save-millions-of-plant-specimens/article_fb9f9660-3885-11ef-8f5a-57b61f2acc14.html)  \n",
       "\n",
       "- MoBot uses AI to learn how trees move and save millions of plant specimens\n",
       "- AI in the future is predicted to be human-health centric in its applications and problem-solving capabilities\n",
       "- Through AI technology, tasks that would take humans a long time can be done efficiently with the parallel working capacity of AI models \n",
       "\n"
      ],
      "text/plain": [
       "<IPython.core.display.Markdown object>"
      ]
     },
     "metadata": {},
     "output_type": "display_data"
    },
    {
     "data": {
      "text/markdown": [
       "[106. MoBot uses AI to save millions of plant specimens (Topics: ['Conservation', 'Gen AI', 'Mobot', 'Plant Specimens', 'Robots', 'Sustainability']) - Google News](https://www.stltoday.com/news/local/metro/mobot-uses-ai-to-learn-how-trees-move-and-to-save-millions-of-plant-specimens/article_fb9f9660-3885-11ef-8f5a-57b61f2acc14.html)  \n",
       "\n",
       "- MoBot utilizes AI to save millions of plant specimens\n",
       "- AI helps MoBot learn how trees move efficiently\n",
       "- AI is predicted to focus more on human-health related tasks in the future \n",
       "\n"
      ],
      "text/plain": [
       "<IPython.core.display.Markdown object>"
      ]
     },
     "metadata": {},
     "output_type": "display_data"
    },
    {
     "data": {
      "text/markdown": [
       "[107. Machine learning identifies cancer-driving mutations at CTCF binding sites (Topics: ['Cancer Mutations', 'Ctcf Binding Sites', 'Gen AI', 'Healthcare', 'Machine Learning', 'Meta']) - Google News](https://www.news-medical.net/news/20240707/Machine-learning-identifies-cancer-driving-mutations-at-CTCF-binding-sites.aspx)  \n",
       "\n",
       "- Researchers developed a machine learning tool, CTCF-INSITE, to identify mutational hotspots at persistent CTCF binding sites across various cancers.\n",
       "- The study findings suggest that mutations in persistent CTCF binding sites contribute to genomic structure disruption and cancer progression.\n",
       "- The machine learning tool, CTCF-INSITE, showed significant enrichment for mutations across different cancer types, providing valuable insights into cancer-specific CTCF-BS DNA mutations and their functional effects. \n",
       "\n"
      ],
      "text/plain": [
       "<IPython.core.display.Markdown object>"
      ]
     },
     "metadata": {},
     "output_type": "display_data"
    },
    {
     "data": {
      "text/markdown": [
       "[108. Tiny robots with a big impact: microrobots for single-cell handling (Topics: ['Microrobots', 'Robots', 'Technology Impact']) - Hacker News](https://www.advancedsciencenews.com/tiny-robots-with-a-big-impact-scientists-develop-microrobots-for-single-cell-handling/)  \n",
       "\n",
       "- Scientists have developed microrobots fitted with nanoscale grippers for imaging and manipulating single cells.\n",
       "- These microrobots work in combination with optical tweezers, allowing for precise handling of single cells without damaging them.\n",
       "- The microrobots can transfer single cells, rotate cells for microscopy, and manipulate cell interactions, providing a non-destructive way to study single cells in a natural environment. \n",
       "\n"
      ],
      "text/plain": [
       "<IPython.core.display.Markdown object>"
      ]
     },
     "metadata": {},
     "output_type": "display_data"
    },
    {
     "data": {
      "text/markdown": [
       "[109. Meet hijab-clad Kenza Layli from Morcco, world's first-ever Miss AI who beat 1500 contestants (Topics: ['Beauty Pageant', 'Contest Winner', 'Entertainment', 'Gen AI', 'Kenza Layli', 'Miss AI', 'Morocco']) - Google News](https://timesofindia.indiatimes.com/world/us/meet-hijab-clad-kenza-layli-from-morcco-worlds-first-ever-miss-ai/articleshow/111581841.cms)  \n",
       "\n",
       "- Kenza Layli from Morocco has been crowned as the world's first Miss AI, beating over 1,500 computerized challengers in a groundbreaking pageant.\n",
       "- The pageant was commissioned by the Fanvue World AI Creator Awards, inviting AI visionaries worldwide to showcase their programming prowess.\n",
       "- Layli aims to use her fame to empower women, protect the environment, and promote positive awareness about AI's role in society. \n",
       "\n"
      ],
      "text/plain": [
       "<IPython.core.display.Markdown object>"
      ]
     },
     "metadata": {},
     "output_type": "display_data"
    },
    {
     "data": {
      "text/markdown": [
       "[110. Worlds first Miss AI crowned  and shes a hijab-wearing activist from Morocco genuinely excited for the win (Topics: ['Activist', 'Beauty Pageant', 'Gen AI', 'Miss AI', 'Morocco']) - Feedly AI](https://nypost.com/2024/07/08/lifestyle/worlds-first-miss-ai-crowned-kenza-layli-from-morocco-genuinely-excited/)  \n",
       "\n",
       "- Kenza Layli from Morocco has been crowned as the world's first Miss AI, showcasing a combination of AI modeling and women's empowerment advocacy.\n",
       "- Layli's digital presence and dedication to promoting Moroccan culture and uplifting women made her a standout contestant in the competition.\n",
       "- The AI beauty pageant, organized by Fanvue World AI Creator Awards, aimed to celebrate creator achievements and promote a positive future for the AI Creator economy. \n",
       "\n"
      ],
      "text/plain": [
       "<IPython.core.display.Markdown object>"
      ]
     },
     "metadata": {},
     "output_type": "display_data"
    },
    {
     "data": {
      "text/markdown": [
       "[111. MIT researchers introduce generative AI for databases (Topics: ['AI Job Market', 'Databases', 'Gen AI', 'Generative AI', 'Mit', 'Researchers']) - Feedly AI](https://news.mit.edu/2024/mit-researchers-introduce-generative-ai-databases-0708)  \n",
       "\n",
       "- MIT researchers developed GenSQL, a generative AI system that allows users to analyze tabular data through simple queries with the integration of probabilistic AI models and SQL programming language, enabling faster and more accurate results.\n",
       "- GenSQL can be used to predict outcomes, detect anomalies, guess missing values, fix errors, and generate synthetic data, catering to various data analysis needs.\n",
       "- Compared to popular AI-based approaches, GenSQL was found to be faster and more accurate, providing explainable probabilistic models that allow users to read and edit them for better insights and decision-making. \n",
       "\n"
      ],
      "text/plain": [
       "<IPython.core.display.Markdown object>"
      ]
     },
     "metadata": {},
     "output_type": "display_data"
    },
    {
     "data": {
      "text/markdown": [
       "[112. MIT researchers introduce generative AI for databases | MIT News | Massachusetts Institute of Technology (Topics: ['AI Economic Impacts', 'AI Job Market', 'Databases', 'Gen AI', 'Generative AI', 'Meta', 'Mit', 'Researchers']) - Google News](https://news.mit.edu/2024/mit-researchers-introduce-generative-ai-databases-0708)  \n",
       "\n",
       "- MIT researchers developed GenSQL, a generative AI system for databases, allowing users to perform complex statistical analyses on tabular data with a few keystrokes.\n",
       "- GenSQL combines probabilistic AI models with SQL programming language, offering faster and more accurate results compared to other methods.\n",
       "- The system enables users to make predictions, detect anomalies, guess missing values, fix errors, or generate synthetic data easily, while providing explainable and auditable probabilistic models. \n",
       "\n"
      ],
      "text/plain": [
       "<IPython.core.display.Markdown object>"
      ]
     },
     "metadata": {},
     "output_type": "display_data"
    },
    {
     "data": {
      "text/markdown": [
       "[113. Inside ALDO's in-house generative AI and machine learning strategy (Topics: ['AI Job Market', 'Aldo', 'Gen AI', 'Generative AI', 'Machine Learning', 'Meta', 'Strategy']) - Google News](https://digiday.com/marketing/inside-aldos-in-house-generative-ai-and-machine-learning-strategy/)  \n",
       "\n",
       "- ALDO is focusing on building internal AI foundations to implement generative AI and machine learning strategies for improving search functions, enhancing product recommendations, and optimizing demand forecasting.\n",
       "- The company is leveraging its own first-party data to future-proof its data sets, aiming to rely less on third-party cookies and tracking for insights based on aggregated customer patterns.\n",
       "- Companies are under pressure to incorporate generative AI and machine learning into their processes, with a mix of building internal systems and working with external partners like OpenAI or Microsoft AI being essential for future success. \n",
       "\n"
      ],
      "text/plain": [
       "<IPython.core.display.Markdown object>"
      ]
     },
     "metadata": {},
     "output_type": "display_data"
    },
    {
     "data": {
      "text/markdown": [
       "[114. myGenerativeEiAiAlgorithm (Topics: ['AI Model', 'Code Assistants', 'Cohere', 'Gen AI', 'Generative AI Algorithm', 'Openai', 'Technology Innovation']) - Reddit](https://www.reddit.com/r/ProgrammerHumor/comments/1dxyx1j/mygenerativeeiaialgorithm/)  \n",
       "\n",
       "- Posted in r/ProgrammerHumor by u/avenge_lee_sedol with 356 points and 7 comments\n",
       "- The post is titled \"myGenerativeEiAiAlgorithm\" in the ProgrammerHumor subreddit\n",
       "- Comments in the section include humor related to yogurt companies and the creation of new things such as Pacific geoduck and onlyfans AI. \n",
       "\n"
      ],
      "text/plain": [
       "<IPython.core.display.Markdown object>"
      ]
     },
     "metadata": {},
     "output_type": "display_data"
    },
    {
     "data": {
      "text/markdown": [
       "[115. YouTube Music May Soon Let You Generate Custom Radio Via Natural Language Prompts Using AI; Details Inside (Topics: ['AI Technology', 'Big Tech', 'Gen AI', 'Google', 'Language Models', 'Natural Language Prompts', 'Radio Generation', 'Youtube Music']) - Google News](https://english.jagran.com/technology/youtube-music-may-soon-let-you-generate-custom-radio-via-natural-language-prompts-using-ai-details-inside-10172115)  \n",
       "\n",
       "- Google is testing a generative AI feature in YouTube Music for custom radio generation via natural language prompts.\n",
       "- The feature may be accessed through an 'Ask for music any way you like' card and a chat interface, functioning similar to Spotify's AI DJ.\n",
       "- Users can input prompts and receive a personalized radio station with suggested prompts like 'Catchy pop choruses' and 'Epic soundtracks'. \n",
       "\n"
      ],
      "text/plain": [
       "<IPython.core.display.Markdown object>"
      ]
     },
     "metadata": {},
     "output_type": "display_data"
    },
    {
     "data": {
      "text/markdown": [
       "[116. YouTube Music is piloting 'music any way you like' prompt-generated radio using AI (Topics: ['AI-Generated', 'Big Tech', 'Entertainment', 'Gen AI', 'Google', 'Language Models', 'Music Radio', 'Testing', 'Youtube Music']) - Google News](https://www.techradar.com/streaming/youtube-music-is-piloting-music-any-way-you-like-prompt-generated-radio-using-ai)  \n",
       "\n",
       "- YouTube Music is piloting prompt-generated radio using AI, allowing users to create custom radio stations through prompts like \"catchy pop choruses\" or \"epic soundtracks\".\n",
       "- The AI-generated playlists aim to enhance music discovery and personalization on YouTube Music, competing with features from streaming heavy hitters like Spotify.\n",
       "- The feature is currently in the testing phase and not widely available, but it showcases YouTube Music's focus on AI to offer unique user experiences in the music streaming space. \n",
       "\n"
      ],
      "text/plain": [
       "<IPython.core.display.Markdown object>"
      ]
     },
     "metadata": {},
     "output_type": "display_data"
    },
    {
     "data": {
      "text/markdown": [
       "[117. How to use the new Gemini AI tools built into Chromebooks (Topics: ['Chromebooks', 'Code Assistants', 'Gemini', 'Gemini AI', 'Gen AI', 'Google', 'Tools']) - Feedly AI](https://www.popsci.com/diy/how-to-use-gemini-ai-tools-chromebooks/)  \n",
       "\n",
       "- ChromeOS now has extra artificial intelligence through Gemini AI tools available on Chromebook Plus models\n",
       "- Features include 'Help me write' for generating text, AI wallpaper and backgrounds, and Magic Editor in Google Photos for editing images\n",
       "- Users can access the Gemini AI app through a new button on the Chromebook shelf to generate text and answers on various topics \n",
       "\n"
      ],
      "text/plain": [
       "<IPython.core.display.Markdown object>"
      ]
     },
     "metadata": {},
     "output_type": "display_data"
    },
    {
     "data": {
      "text/markdown": [
       "[118. Will AI Soon Help Animals Talk To Us? (Topics: ['Animal Communication', 'Technology Impact']) - Google News](https://mindmatters.ai/2024/07/will-ai-soon-help-animals-talk-to-us/)  \n",
       "\n",
       "- AI may soon be trained to understand animal communication better than humans by analyzing vast amounts of data and footage of animal interactions\n",
       "- AI could help in identifying health problems in animals that they cannot communicate directly, such as hidden pain or medical issues\n",
       "- While AI advancements may revolutionize veterinarian care, it will not give animals rational faculties that they do not possess \n",
       "\n"
      ],
      "text/plain": [
       "<IPython.core.display.Markdown object>"
      ]
     },
     "metadata": {},
     "output_type": "display_data"
    },
    {
     "data": {
      "text/markdown": [
       "[119. How prompting and integration AI assistants have sped up viral video content production 100 fold (Topics: ['AI Assistants', 'AI Economic Impacts', 'Gen AI', 'Integration', 'Prompting', 'Viral Video Content Production']) - Feedly AI](https://www.marketingdive.com/spons/how-prompting-and-integration-ai-assistants-have-sped-up-viral-video-conten/720652/)  \n",
       "\n",
       "- Page displays a 404 Error, indicating the page is not found on Marketing Dive's website\n",
       "- Offers popular articles on Motorola, McDonald's, Dove, and E.l.f. Beauty for browsing\n",
       "- Focus on changing data landscape in marketing and the importance of mastering data and analytics for personalization and loyalty. \n",
       "\n"
      ],
      "text/plain": [
       "<IPython.core.display.Markdown object>"
      ]
     },
     "metadata": {},
     "output_type": "display_data"
    },
    {
     "data": {
      "text/markdown": [
       "[120. NYSEG and RG&E use AI assistant on website to improve customer service (Topics: ['AI Assistant', 'AI Economic Impacts', 'Customer Service', 'Gen AI', 'Nyseg', 'Rg&E', 'Robots', 'Website Improvement']) - Feedly AI](https://www.fingerlakes1.com/2024/07/08/nyseg-and-rge-use-ai-assistant-on-website-to-improve-customer-service/)  \n",
       "\n",
       "- NYSEG and RG&E are utilizing an AI energy assistant named Ava on their websites to provide quick assistance to customers with common inquiries regarding billing, meter reading, power outages, and account management.\n",
       "- The companies have improved their online tools, with a faster application for service installations, an online job status tool for contractors, and an online payment portal that now accepts Google and Apple Pay.\n",
       "- Since the launch of these enhancements, there have been over 3,200 customer interactions with Ava, 24,000 uses of the job status tool, 1,100 transactions on the payment portal, and more than 15,000 transactions via Google and Apple Pay in 2024. \n",
       "\n"
      ],
      "text/plain": [
       "<IPython.core.display.Markdown object>"
      ]
     },
     "metadata": {},
     "output_type": "display_data"
    },
    {
     "data": {
      "text/markdown": [
       "[121. The Download: vacation planning with AI, and smaller models (Topics: ['Gen AI', 'Technology Models', 'Vacation Planning']) - Feedly AI](https://www.technologyreview.com/2024/07/08/1094742/the-download-vacation-planning-with-ai-and-smaller-models/)  \n",
       "\n",
       "- Tech companies are developing AI tools to help with vacation planning, from creating itineraries to booking flights, making the process easier and less time-consuming for users.\n",
       "- AI models are becoming smaller and faster, with a focus on efficiency over sheer power, impacting various industries such as weaponry and scam detection.\n",
       "- Various technological advancements are highlighted, including Ferrari working on an electric vehicle, the use of AI bots in combatting scammers, and the potential impact of generative AI on the economy and workforce. \n",
       "\n"
      ],
      "text/plain": [
       "<IPython.core.display.Markdown object>"
      ]
     },
     "metadata": {},
     "output_type": "display_data"
    },
    {
     "data": {
      "text/markdown": [
       "[122. AI Trip Planning: How to Use AI to Plan Your Next Vacation (Topics: ['Gen AI', 'Technology', 'Trip Planning', 'Vacation']) - Google News](https://www.travelawaits.com/2993617/ai-trip-planning-how-to-use-ai-to-plan-your-next-vacation/)  \n",
       "\n",
       "- AI trip planning tools are becoming more popular in the travel industry, with both travel agencies and established brands implementing AI features to simplify trip planning for users.\n",
       "- Tips for using AI trip planning tools include generating tailored ideas personalized to travel interests, trawling reviews for detailed information, finding and monitoring deals on flights, uncovering hidden gems through multilingual features, going green with sustainable travel options, and sticking to a tight budget by utilizing AI for identifying savings and budgeting needs.\n",
       "- AI can assist travelers in various aspects of trip planning, from uncovering unique experiences to finding greener forms of travel, and can be particularly helpful in budgeting and identifying cost-saving opportunities. \n",
       "\n"
      ],
      "text/plain": [
       "<IPython.core.display.Markdown object>"
      ]
     },
     "metadata": {},
     "output_type": "display_data"
    },
    {
     "data": {
      "text/markdown": [
       "[123. How to use AI to plan your next vacation (Topics: ['Gen AI', 'Vacation Planning']) - Feedly AI](https://www.technologyreview.com/2024/07/08/1094733/how-to-use-ai-to-plan-your-next-vacation/)  \n",
       "\n",
       "- AI tools are helpful for various vacation planning tasks like choosing destinations, creating itineraries, and booking flights and accommodations.\n",
       "- Large language models like ChatGPT can assist in narrowing down travel locations, planning day trips, and practicing language skills.\n",
       "- Google's translation technology integrated into camera software can be used for on-the-go translation, while AI chatbots can aid in writing reviews and social media captions related to travel experiences. \n",
       "\n"
      ],
      "text/plain": [
       "<IPython.core.display.Markdown object>"
      ]
     },
     "metadata": {},
     "output_type": "display_data"
    },
    {
     "data": {
      "text/markdown": [
       "[124. Everything You Need to Know About How Artificial Intelligence Transforming Travel and Tourism Industry (Topics: ['AI Economic Impacts', 'Tourism Industry', 'Transformation', 'Travel Industry']) - Google News](https://www.travelandtourworld.com/news/article/everything-you-need-to-know-about-how-artificial-intelligence-transforming-travel-and-tourism-industry/)  \n",
       "\n",
       "- AI is transforming the travel and tourism industry by enhancing personalization for travelers and improving industry-wide efficiency.\n",
       "- AI is streamlining booking processes through chatbots and virtual assistants, automating tasks like searching for options, form-filling, and providing efficient customer service.\n",
       "- AI is being used in the hotel industry to automate check-in and check-out processes, improve customer service with AI-powered chatbots, and optimize operations through predictive maintenance and energy usage analysis. \n",
       "\n"
      ],
      "text/plain": [
       "<IPython.core.display.Markdown object>"
      ]
     },
     "metadata": {},
     "output_type": "display_data"
    },
    {
     "data": {
      "text/markdown": [
       "[125. The Role of Artificial Intelligence in Shaping a Sustainable Future (Topics: ['Environment', 'Gen AI', 'Sustainability', 'Sustainable Future']) - Google News](https://elblog.pl/2024/07/07/the-role-of-artificial-intelligence-in-shaping-a-sustainable-future/)  \n",
       "\n",
       "- Artificial Intelligence has the potential to revolutionize various sectors such as healthcare and education, enhancing efficiency and driving innovation.\n",
       "- AI can contribute significantly to sustainability goals by monitoring air and water quality, optimizing energy consumption, and managing waste effectively.\n",
       "- Challenges in integrating AI into sustainability efforts include ensuring ethical use to balance economic growth with environmental preservation and addressing concerns about data privacy and algorithm bias. \n",
       "\n"
      ],
      "text/plain": [
       "<IPython.core.display.Markdown object>"
      ]
     },
     "metadata": {},
     "output_type": "display_data"
    },
    {
     "data": {
      "text/markdown": [
       "[126. Al-Generated Movie Trailer - Final Justice: The First Justice (Topics: ['Creative Content', 'Entertainment', 'Gen AI', 'Language Models', 'Movie Industry', 'Reinforcement Learning', 'Robots']) - Reddit](https://www.reddit.com/r/ChatGPT/comments/1dxxh19/algenerated_movie_trailer_final_justice_the_first/)  \n",
       "\n",
       "- \"Final Justice: The First Justice\" is an AI-generated movie trailer discussed in a Reddit thread, with viewers praising its humor and creativity.\n",
       "- The trailer features a character named Max Joe, with viewers appreciating elements like consistent face animations and generated music.\n",
       "- There is anticipation and excitement for a potential full-length movie featuring Max Joe and interest in the possibility of a franchise. \n",
       "\n"
      ],
      "text/plain": [
       "<IPython.core.display.Markdown object>"
      ]
     },
     "metadata": {},
     "output_type": "display_data"
    },
    {
     "data": {
      "text/markdown": [
       "[127. The World's First AI-Powered Movie Camera Transforms Filmed Footage (Topics: ['AI-Powered', 'Big Tech', 'Entertainment', 'Filmed Footage', 'Gen AI', 'Movie Camera', 'Robots']) - Feedly AI](https://petapixel.com/2024/07/08/the-worlds-first-ai-powered-movie-camera-transforms-filmed-footage-cmr-m1/)  \n",
       "\n",
       "- The CMR M-1 is the world's first AI-powered movie camera that transforms footage into AI imagery while filming.\n",
       "- The camera has a box-like appearance inspired by the Ciné Kodak and uses AI image generator Stable Diffusion for creative filters.\n",
       "- The CMR M-1 records video at a resolution of 1368x768 at 12 frames per second and is still a prototype with plans to process in real-time as newer AI video models are developed. \n",
       "\n"
      ],
      "text/plain": [
       "<IPython.core.display.Markdown object>"
      ]
     },
     "metadata": {},
     "output_type": "display_data"
    },
    {
     "data": {
      "text/markdown": [
       "[128. Ai is fun lol (Topics: ['Entertainment', 'Fun']) - Reddit](https://www.reddit.com/r/ChatGPT/comments/1dxqvjp/ai_is_fun_lol/)  \n",
       "\n",
       "- The post titled \"Ai is fun lol\" on r/ChatGPT by u/Popoutandshoww has garnered 823 points and 37 comments.\n",
       "- The post features a humorous AI-generated image that has sparked amusement and discussion among users.\n",
       "- Users are engaging in a light-hearted conversation about the AI-generated image, expressing amusement and discussing various aspects of the content. \n",
       "\n"
      ],
      "text/plain": [
       "<IPython.core.display.Markdown object>"
      ]
     },
     "metadata": {},
     "output_type": "display_data"
    },
    {
     "data": {
      "text/markdown": [
       "[129. Vole claims all web content is freeware to be scraped for AI (Topics: ['AI Doom', 'AI Economic Impacts', 'AI Scraping', 'Ethical Issues', 'Freeware', 'Language Models', 'Legal Issues', 'Openai', 'Vole', 'Web Content']) - Google News](https://www.fudzilla.com/news/ai/59307-vole-claims-all-web-content-is-freeware-to-be-scraped-for-ai)  \n",
       "\n",
       "- Microsoft's AI CEO Mustafa Suleyman claims that all web content is freeware to be scraped for AI training, unless explicitly prohibited by the content producer.\n",
       "- Suleyman justifies the stance by stating that content on the open web has historically been considered fair use since the 90s.\n",
       "- He predicts a radical change in the economics of information, where new scientific and cultural knowledge will be produced at almost zero marginal cost and widely available. \n",
       "\n"
      ],
      "text/plain": [
       "<IPython.core.display.Markdown object>"
      ]
     },
     "metadata": {},
     "output_type": "display_data"
    },
    {
     "data": {
      "text/markdown": [
       "[130. South Florida hospital using AI in labor and delivery ward (Topics: ['Gen AI', 'Healthcare', 'Hospital', 'Labor And Delivery']) - Feedly AI](https://www.cbsnews.com/miami/news/south-florida-hospital-using-ai-in-labor-and-delivery-ward/)  \n",
       "\n",
       "- Mount Sinai Medical Center in Miami Beach utilizes AI technology called Vigilance by PeriGen to monitor a mother's progress during labor and delivery.\n",
       "- The use of AI has been found to reduce pregnancy-related deaths and improve outcomes by quickly alerting healthcare providers to potential issues.\n",
       "- Patients report feeling more confident and comfortable with AI in maternal care, as it enhances monitoring and intervention capabilities for the medical staff. \n",
       "\n"
      ],
      "text/plain": [
       "<IPython.core.display.Markdown object>"
      ]
     },
     "metadata": {},
     "output_type": "display_data"
    },
    {
     "data": {
      "text/markdown": [
       "[131. AI can enhance health care and enable cost savings, lawmaker says (Topics: ['AI Economic Impacts', 'Cost Savings', 'Healthcare', 'Legislation', 'Policy And Regulation']) - Google News](https://www.nextgov.com/artificial-intelligence/2024/07/ai-can-enhance-health-care-and-enable-cost-savings-lawmaker-says/397829/)  \n",
       "\n",
       "- Rep. David Schweikert highlights the importance of building infrastructure around the use of AI in wearable medical devices\n",
       "- AI technologies can enhance various aspects of the health sector, including diagnostics, medical operations automation, and cost savings\n",
       "- Legislative efforts are being made to facilitate reimbursement for AI technology in healthcare, aiming to improve government efficiency and lower drug pricing \n",
       "\n"
      ],
      "text/plain": [
       "<IPython.core.display.Markdown object>"
      ]
     },
     "metadata": {},
     "output_type": "display_data"
    },
    {
     "data": {
      "text/markdown": [
       "[132. AI-Driven Behavior Change Could Transform Health Care (Topics: ['Behavior Change', 'Gen AI', 'Healthcare']) - Google News](https://time.com/6994739/ai-behavior-change-health-care/)  \n",
       "\n",
       "- AI has the potential to transform healthcare by enabling hyper-personalized behavior change through AI health coaches.\n",
       "- These AI coaches can provide tailored recommendations for improving daily habits like sleep, nutrition, exercise, stress management, and social connection.\n",
       "- By leveraging AI for personalized nudges and recommendations, individuals can make healthier choices and improve their overall well-being, potentially reversing the trend of chronic diseases. \n",
       "\n"
      ],
      "text/plain": [
       "<IPython.core.display.Markdown object>"
      ]
     },
     "metadata": {},
     "output_type": "display_data"
    },
    {
     "data": {
      "text/markdown": [
       "[133. How AI And New Care Models Make Healthcare Easier, Cheaper, And Better (Topics: ['Care Models', 'Healthcare', 'Innovation']) - Google News](https://www.forbes.com/sites/stephenwunker/2024/07/08/how-ai-and-new-care-models-make-healthcare-easier-cheaper-and-better/)  \n",
       "\n",
       "- AI and new care models are changing the healthcare landscape by de-centralizing and virtualizing medical care, providing broader options for patients.\n",
       "- Companies like Vori Health are focusing on evidence-based care, utilizing technology like AI to offer tailor-made interventions that are more convenient, faster, and cost-effective.\n",
       "- AI plays a crucial role in synthesizing medical records, translating medical recommendations, providing exercises, and flagging inappropriate referrals, leading to reduced costs, improved access to clinicians, and better medical outcomes. \n",
       "\n"
      ],
      "text/plain": [
       "<IPython.core.display.Markdown object>"
      ]
     },
     "metadata": {},
     "output_type": "display_data"
    },
    {
     "data": {
      "text/markdown": [
       "[134. U.S. Access Board Information Session: Foundation on Artificial Intelligence and Disability (Topics: ['Disability', 'Information Session', 'U.S. Access Board']) - Google News](https://cdt.org/event/u-s-access-board-information-session-foundation-on-artificial-intelligence-and-disability/)  \n",
       "\n",
       "- AI can enhance accessibility but may also create barriers for individuals with disabilities if not addressed properly\n",
       "- The U.S. Access Board took actions outlined in President Biden's Executive Order on AI to ensure equity and accessibility\n",
       "- A Memorandum of Understanding was signed with AAPD and CDT to engage and support the disability community through educational AI initiatives, including an AI series kickoff info session on July 9, 2024. \n",
       "\n"
      ],
      "text/plain": [
       "<IPython.core.display.Markdown object>"
      ]
     },
     "metadata": {},
     "output_type": "display_data"
    },
    {
     "data": {
      "text/markdown": [
       "[135. Government, Partners Plan Together for Accessible AI (Topics: ['Accessibility', 'Gen AI', 'Government', 'Meta', 'Partnership', 'Policy And Regulation']) - Google News](https://www.govtech.com/artificial-intelligence/government-partners-plan-together-for-accessible-ai)  \n",
       "\n",
       "- The federal government is progressing with artificial intelligence technologies with a focus on engaging people with disabilities throughout the process.\n",
       "- A memorandum of understanding (MOU) has been signed between the U.S. Access Board, the American Association of People with Disabilities (AAPD), and the Center for Democracy and Technology (CDT) to address AI's risks and benefits for people with disabilities.\n",
       "- The MOU aims to establish opportunities for relationship-building, identify solutions to civil rights concerns and accessibility barriers, and provide resources for safe and equitable creation and use of AI for everyone. \n",
       "\n"
      ],
      "text/plain": [
       "<IPython.core.display.Markdown object>"
      ]
     },
     "metadata": {},
     "output_type": "display_data"
    },
    {
     "data": {
      "text/markdown": [
       "[136. We dont want to leave people behind: AI is helping disabled people in surprising new ways (Topics: ['Assistive Technology', 'Big Tech', 'Disabled People', 'Gen AI', 'Inclusion']) - Feedly AI](https://www.cnn.com/2024/07/08/tech/ai-assistive-technology-disabilities)  \n",
       "\n",
       "- AI technology, such as Be My Eyes and Google's Lookout app, is being used to assist visually impaired individuals in performing daily tasks like shopping and hailing taxis.\n",
       "- Tech companies are developing AI-powered tools, like eye-tracking features and voice guidance, to enhance accessibility for disabled and elderly individuals.\n",
       "- Ongoing efforts are being made to train AI models on diverse datasets and address biases, ensuring that AI technologies continue to serve all users, including those with disabilities. \n",
       "\n"
      ],
      "text/plain": [
       "<IPython.core.display.Markdown object>"
      ]
     },
     "metadata": {},
     "output_type": "display_data"
    },
    {
     "data": {
      "text/markdown": [
       "[137. Can AI Help With Special Ed.? There's Promiseand Reason to Be Cautious (Topics: ['Education', 'Meta', 'Special Education', 'Technology Applications']) - Google News](https://www.edweek.org/teaching-learning/can-ai-help-with-special-ed-theres-promise-and-reason-to-be-cautious/2024/07)  \n",
       "\n",
       "- Special education practitioners are experimenting with generative artificial intelligence to streamline paperwork and improve instruction for students with disabilities.\n",
       "- Educators should approach using AI for students with disabilities cautiously due to limited data available and challenges in integrating evidence-based practices into AI tools.\n",
       "- AI shows promise in personalized learning for students with disabilities, with tools making personalization easier and offering new ways to support student engagement and learning. \n",
       "\n"
      ],
      "text/plain": [
       "<IPython.core.display.Markdown object>"
      ]
     },
     "metadata": {},
     "output_type": "display_data"
    },
    {
     "data": {
      "text/markdown": [
       "[138. Researchers Warn of Potential for Racial Bias in AI Apps in the Classroom (Topics: ['AI Doom', 'Classroom Apps', 'Education', 'Ethical Issues', 'Gen AI', 'Racial Bias']) - Feedly AI](https://www.kqed.org/mindshift/64139/researchers-warn-of-potential-for-racial-bias-in-ai-apps-in-the-classroom)  \n",
       "\n",
       "- In a study involving AI grading of essays, researchers found that the AI model penalized Asian American students more than other students, raising concerns about potential racial bias.\n",
       "- The researchers discovered differences in how AI and humans scored essays based on race and ethnicity, with Asian American students receiving additional penalties in their scores.\n",
       "- The study highlights the importance of evaluating AI scoring systems and prompts caution in offloading grading work to robots in educational settings. \n",
       "\n"
      ],
      "text/plain": [
       "<IPython.core.display.Markdown object>"
      ]
     },
     "metadata": {},
     "output_type": "display_data"
    },
    {
     "data": {
      "text/markdown": [
       "[139. UAB adds programs for students interested inartificial intelligence (Topics: ['AI Job Market', 'Education', 'Education Programs', 'Gen AI', 'Meta', 'Students', 'Uab']) - Feedly AI](https://www.al.com/educationlab/2024/07/uab-adds-programs-for-students-interested-in-artificial-intelligence.html)  \n",
       "\n",
       "- UAB is launching a Master of Science in Artificial Intelligence in Medicine program in spring 2025 as part of efforts to integrate AI in healthcare.\n",
       "- The program aims to impact healthcare by improving workforce retention, reducing costs, enhancing service quality, and assisting in diagnoses through AI applications.\n",
       "- The university plans to expand its AI programs to include a graduate certificate for nurses, a doctoral program, and training for healthcare executives and professionals outside the industry. \n",
       "\n"
      ],
      "text/plain": [
       "<IPython.core.display.Markdown object>"
      ]
     },
     "metadata": {},
     "output_type": "display_data"
    },
    {
     "data": {
      "text/markdown": [
       "[140. How will the rise of AI in the workplace impact liberal arts education? (Topics: ['AI Economic Impacts', 'Education', 'Gen AI', 'Liberal Arts Education', 'Workplace Impact']) - Feedly AI](https://www.highereddive.com/news/artificial-intelligence-liberal-arts-education/720640/)  \n",
       "\n",
       "- As AI replaces technical jobs, skills like critical thinking and creativity from liberal arts education will become more valuable in the workforce.\n",
       "- Liberal arts majors are predicted to be in demand as businesses require individuals to handle ethical considerations and challenges that AI technology cannot address.\n",
       "- Liberal arts students may have an advantage in the job market over STEM-based students due to their ability to provide a humanistic perspective on technology and address ethical concerns related to AI. \n",
       "\n"
      ],
      "text/plain": [
       "<IPython.core.display.Markdown object>"
      ]
     },
     "metadata": {},
     "output_type": "display_data"
    },
    {
     "data": {
      "text/markdown": [
       "[141. Mary Meeker urges higher ed to lead in AI (Topics: ['AI Economic Impacts', 'AI Job Market', 'Education', 'Gen AI', 'Higher Education', 'Mary Meeker']) - Google News](https://www.insidehighered.com/news/tech-innovation/artificial-intelligence/2024/07/08/mary-meeker-urges-higher-ed-lead-ai)  \n",
       "\n",
       "- Mary Meeker urges universities to partner with businesses and adopt AI quickly\n",
       "- Universities need to adapt to the AI era by finding differentiators and attracting students\n",
       "- Meeker recommends leveraging AI for personalized learning, administrative tasks, and staying current with AI trends \n",
       "\n"
      ],
      "text/plain": [
       "<IPython.core.display.Markdown object>"
      ]
     },
     "metadata": {},
     "output_type": "display_data"
    }
   ],
   "source": [
    "markdown_str = ''\n",
    "\n",
    "for i, row in enumerate(AIdf.itertuples()):\n",
    "    mdstr = f\"[{i+1}. {row.title} - {row.src}]({row.url})  \\n\\n {row.topic_str} \\n\\n{response_dict[row.id]} \\n\\n\"\n",
    "    display(Markdown(mdstr))\n",
    "    markdown_str += mdstr\n",
    "    "
   ]
  },
  {
   "cell_type": "code",
   "execution_count": 135,
   "id": "cfe07a63",
   "metadata": {},
   "outputs": [],
   "source": [
    "# Convert Markdown to HTML\n",
    "html_str = markdown.markdown(markdown_str, extensions=['extra'])\n",
    "# display(HTML(html_str))\n"
   ]
  },
  {
   "cell_type": "code",
   "execution_count": 136,
   "id": "165758da",
   "metadata": {},
   "outputs": [],
   "source": [
    "# save bullets\n",
    "with open('bullets.md', 'w') as f:\n",
    "    f.write(markdown_str)\n"
   ]
  },
  {
   "cell_type": "code",
   "execution_count": 137,
   "id": "0d5bbb2b",
   "metadata": {},
   "outputs": [
    {
     "name": "stderr",
     "output_type": "stream",
     "text": [
      "2024-07-08 14:02:59,659 - AInewsbot - INFO - Sending bullet points email\n"
     ]
    }
   ],
   "source": [
    "log(\"Sending bullet points email\")\n",
    "subject = f'AI news bullets {datetime.now().strftime(\"%H:%M:%S\")}'\n",
    "send_gmail(subject, html_str)\n"
   ]
  },
  {
   "cell_type": "markdown",
   "id": "13dffcde",
   "metadata": {},
   "source": [
    "# Ask ChatGPT for top categories"
   ]
  },
  {
   "cell_type": "code",
   "execution_count": 143,
   "id": "ca1cb014",
   "metadata": {},
   "outputs": [
    {
     "name": "stdout",
     "output_type": "stream",
     "text": [
      "You will act as a research assistant identifying the top stories and topics\n",
      "of today's news. I will provide a list of today's news stories about AI and summary bullet points in markdown\n",
      "format. You are tasked with identifying the top 10-20 stories and topics of today's news. For each top story\n",
      "or topic, you will create a short title and respond with a list of titles formatted as a JSON object.\n",
      "\n",
      "\n",
      "Example Input Bullet Points:\n",
      "\n",
      "[2. Sentient closes $85M seed round for open-source AI](https://cointelegraph.com/news/sentient-85-million-round-open-source-ai)\n",
      "\n",
      "- Sentient secured $85 million in a seed funding round led by Peter Thiel's Founders Fund, Pantera Capital, and Framework Ventures for their open-source AI platform.\n",
      "- The startup aims to incentivize AI developers with its blockchain protocol and incentive mechanism, allowing for the evolution of open artificial general intelligence.\n",
      "- The tech industry is witnessing a rise in decentralized AI startups combining blockchain\n",
      "\n",
      "Categories of top stories and topics:\n",
      "Major investments and funding rounds\n",
      "Major technological advancements or breakthroughs\n",
      "Frequently mentioned entities such as companies, organizations, or figures\n",
      "Any other frequently discussed events, statements, entities or notable patterns\n",
      "\n",
      "Instructions:\n",
      "Read the summary bullet points closely and use only information provided in them.\n",
      "Focus on the most common elements across all bullet points.\n",
      "Titles of top stories and topics must be as short and simple as possible.\n",
      "You must include at least 10 and no more than 20 topics in the summary.\n",
      "Respond with only the names of the top stories and topics in JSON format, without any comment, summary or discussion.\n",
      "\n",
      "Example Output Format:\n",
      "{'stories' : [\n",
      "  \"Sentient funding\",\n",
      "  \"ChatGPT cybersecurity incident\",\n",
      "  \"ElevenLabs product release\",\n",
      "  \"Microsoft text-to-speech model\"\n",
      "  \"Nvidia reguatory issues\",\n",
      "  \"AI healthcare successes\"\n",
      "  ]\n",
      "}\n",
      "\n",
      "Bullet Points to Analyze:\n",
      "\n",
      "\n"
     ]
    }
   ],
   "source": [
    "print(TOP_CATEGORIES_PROMPT)"
   ]
  },
  {
   "cell_type": "code",
   "execution_count": 144,
   "id": "47cd838e",
   "metadata": {},
   "outputs": [
    {
     "name": "stderr",
     "output_type": "stream",
     "text": [
      "2024-07-08 14:06:47,190 - httpx - INFO - HTTP Request: POST https://api.openai.com/v1/chat/completions \"HTTP/1.1 200 OK\"\n"
     ]
    }
   ],
   "source": [
    "response = client.chat.completions.create(\n",
    "    model=MODEL,\n",
    "    messages=[\n",
    "              {\"role\": \"user\", \"content\": TOP_CATEGORIES_PROMPT + markdown_str\n",
    "              }],\n",
    "    n=1,\n",
    "    response_format={\"type\": \"json_object\"},\n",
    "    temperature=0.5\n",
    ")\n"
   ]
  },
  {
   "cell_type": "code",
   "execution_count": 145,
   "id": "22965c12",
   "metadata": {},
   "outputs": [
    {
     "data": {
      "text/plain": [
       "['Claude 3.5 Sonnet vs GPT-4o',\n",
       " \"Claude 3.5 Sonnet's rise\",\n",
       " 'Claude AI ethical design',\n",
       " 'ChatGPT in education',\n",
       " \"ChatGPT's humor\",\n",
       " \"ChatGPT's coding capabilities\",\n",
       " 'ChatGPT in HR',\n",
       " 'OpenAI and GitHub lawsuit',\n",
       " 'Micro-Agent for coding',\n",
       " 'AI-driven behavioral modeling',\n",
       " \"Hebbia's $130M funding\",\n",
       " 'AI in venture capital',\n",
       " 'AI in finance',\n",
       " 'AI in healthcare',\n",
       " 'AI in HR',\n",
       " 'AI in education',\n",
       " 'AI in law enforcement',\n",
       " 'AI in music',\n",
       " 'AI in travel',\n",
       " 'AI and sustainability']"
      ]
     },
     "execution_count": 145,
     "metadata": {},
     "output_type": "execute_result"
    }
   ],
   "source": [
    "list(json.loads(response.choices[0].message.content).values())[0]"
   ]
  },
  {
   "cell_type": "markdown",
   "id": "7e426c2c",
   "metadata": {},
   "source": [
    "# Final Summary"
   ]
  },
  {
   "cell_type": "code",
   "execution_count": null,
   "id": "210e76a3",
   "metadata": {},
   "outputs": [],
   "source": [
    "markdown_str = ''\n",
    "for i, row in enumerate(AIdf.itertuples()):\n",
    "    mdstr = f\"[{i+1}. {row.title} - {row.src}]({row.url})  \\n\\n\"\n",
    "    if 0 < len(catdict[row.id]) < 11 :\n",
    "        topicstr = \", \".join(catdict[row.id])\n",
    "        mdstr += f\"Topics: {topicstr}\\n\\n\"\n",
    "    mdstr += f\"{response_dict[row.id]} \\n\\n\"\n",
    "    display(Markdown(mdstr))\n",
    "    markdown_str += mdstr\n",
    "    "
   ]
  },
  {
   "cell_type": "code",
   "execution_count": null,
   "id": "14d5b4bd",
   "metadata": {},
   "outputs": [],
   "source": [
    "FINAL_SUMMARY_PROMPT = f\"\"\"You are a summarization assistant. I will provide a list of today's news stories about AI\n",
    "and summary bullet points in markdown format. You are tasked with identifying and summarizing the key themes,\n",
    "common facts, and recurring elements. Your goal is to create a concise summary containing about 20 of the most \n",
    "frequently mentioned topics and developments.\n",
    "\n",
    "Example Input Bullet Points:\n",
    "\n",
    "[2. Sentient closes $85M seed round for open-source AI](https://cointelegraph.com/news/sentient-85-million-round-open-source-ai)\n",
    "\n",
    "Topics: AI startup funding, New AI products\n",
    "\n",
    "- Sentient secured $85 million in a seed funding round led by Peter Thiel's Founders Fund, Pantera Capital, and Framework Ventures for their open-source AI platform.\n",
    "- The startup aims to incentivize AI developers with its blockchain protocol and incentive mechanism, allowing for the evolution of open artificial general intelligence.\n",
    "- The tech industry is witnessing a rise in decentralized AI startups combining blockchain\n",
    "\n",
    "Examples of important stories:\n",
    "\n",
    "Major investments and funding rounds\n",
    "Key technological advancements or breakthroughs\n",
    "Frequently mentioned companies, organizations, or figures\n",
    "Notable statements by AI leaders\n",
    "Any other recurring themes or notable patterns\n",
    "\n",
    "Instructions:\n",
    "\n",
    "Read the summary bullet points closely.\n",
    "Use only information provided in them and provide the most common facts without commentary or elaboration.\n",
    "Write in the professional but engaging, narrative style of a tech reporter for a national publication.\n",
    "Be balanced, professional, informative, providing accurate, clear, concise summaries in a respectful neutral tone.\n",
    "Focus on the most common elements across the bullet points and group similar items together.\n",
    "Headers must be as short and simple as possible: use \"Health Care\" and not \"AI developments in Health Care\" or \"AI in Health Care\"\n",
    "Ensure that you provide at least one link from the provided text for each item in the summary.\n",
    "You must include at least 10 and no more than 25 items in the summary.\n",
    "\n",
    "Example Output Format:\n",
    "\n",
    "# Today's AI News\n",
    "\n",
    "### Security and Privacy:\n",
    "- ChatGPT Mac app had a security flaw exposing user conversations in plain text. ([Macworld](https://www.macworld.com/article/2386267/chatgpt-mac-sandboxing-security-flaw-apple-intelligence.html))\n",
    "- Brazil suspended Meta from using Instagram and Facebook posts for AI training over privacy concerns. ([BBC](https://www.bbc.com/news/articles/c7291l3nvwv))\n",
    "\n",
    "### Health Care:\n",
    "- AI can predict Alzheimer's disease with 70% accuracy up to seven years in advance. ([Decrypt](https://decrypt.co/238449/ai-alzheimers-detection-70-percent-accurate-study))\n",
    "- New AI system detects 13 cancers with 98% accuracy, revolutionizing cancer diagnosis. ([India Express](https://news.google.com/articles/CBMiiAFodHRwczovL2luZGlhbmV4cHJl))\n",
    "\n",
    "Bullet Points to Summarize:\n",
    "\n",
    "\"\"\""
   ]
  },
  {
   "cell_type": "code",
   "execution_count": null,
   "id": "0726c08e",
   "metadata": {},
   "outputs": [],
   "source": [
    "response = client.chat.completions.create(\n",
    "    model=MODEL,\n",
    "    messages=[\n",
    "              {\"role\": \"user\", \"content\": FINAL_SUMMARY_PROMPT + markdown_str\n",
    "              }],\n",
    "    n=1,   \n",
    "    temperature=0.5\n",
    ")\n"
   ]
  },
  {
   "cell_type": "code",
   "execution_count": null,
   "id": "35dacf6e",
   "metadata": {},
   "outputs": [],
   "source": [
    "response_str = response.choices[0].message.content\n",
    "response_str = response_str.replace(\"$\", \"\\\\$\")\n",
    "display(Markdown(response_str))\n"
   ]
  },
  {
   "cell_type": "code",
   "execution_count": null,
   "id": "044beddc",
   "metadata": {},
   "outputs": [],
   "source": [
    "log(\"Sending full summary email \")\n",
    "subject = f'AI news summary {datetime.now().strftime(\"%H:%M:%S\")}'\n",
    "final_html_str = markdown.markdown(response_str, extensions=['extra'])\n",
    "display(HTML(final_html_str))\n",
    "send_gmail(subject, final_html_str)\n"
   ]
  },
  {
   "cell_type": "code",
   "execution_count": null,
   "id": "0d05a1d2",
   "metadata": {},
   "outputs": [],
   "source": [
    "log(\"Finished\")\n"
   ]
  },
  {
   "cell_type": "code",
   "execution_count": null,
   "id": "19a637f3",
   "metadata": {},
   "outputs": [],
   "source": [
    "redirect_dict"
   ]
  },
  {
   "cell_type": "code",
   "execution_count": null,
   "id": "a742b179",
   "metadata": {},
   "outputs": [],
   "source": []
  }
 ],
 "metadata": {
  "kernelspec": {
   "display_name": "ainewsbot",
   "language": "python",
   "name": "ainewsbot"
  },
  "language_info": {
   "codemirror_mode": {
    "name": "ipython",
    "version": 3
   },
   "file_extension": ".py",
   "mimetype": "text/x-python",
   "name": "python",
   "nbconvert_exporter": "python",
   "pygments_lexer": "ipython3",
   "version": "3.9.19"
  }
 },
 "nbformat": 4,
 "nbformat_minor": 5
}
