{
 "cells": [
  {
   "cell_type": "markdown",
   "id": "2f4d6d88-0f37-4edb-a226-244a287823a6",
   "metadata": {},
   "source": [
    "AInewsbot.ipynb\n",
    "\n",
    "- Open URLs of news sites specififed in `sources` dict using Selenium and Firefox\n",
    "- Save HTML of each URL in htmldata directory\n",
    "- Extract URLs from all files, create a pandas dataframe with url, title, src\n",
    "- Use ChatGPT to filter only AI-related headlines by sending a prompt and formatted table of headlines\n",
    "- Use SQLite to filter headlines previously seen \n",
    "- OPENAI_API_KEY should be in the environment or in a .env file\n",
    "  \n",
    "Alternative manual workflow to get HTML files if necessary\n",
    "- Use Chrome, open e.g. Tech News bookmark folder, right-click and open all bookmarks in new window\n",
    "- on Google News, make sure switch to AI tab\n",
    "- on Google News, Feedly, Reddit, scroll to additional pages as desired\n",
    "- Use SingleFile extension, 'save all tabs'\n",
    "- Move files to htmldata directory\n",
    "- Run lower part of notebook to process the data\n"
   ]
  },
  {
   "cell_type": "code",
   "execution_count": 1,
   "id": "0c757ee9-8f4e-4f95-a491-bfac533755bd",
   "metadata": {
    "tags": []
   },
   "outputs": [
    {
     "name": "stdout",
     "output_type": "stream",
     "text": [
      "openai          1.14.2\n",
      "requests        2.31.0\n",
      "BeautifulSoup   4.12.3\n"
     ]
    }
   ],
   "source": [
    "import json\n",
    "import os\n",
    "import re\n",
    "from datetime import datetime, timedelta\n",
    "from urllib.parse import urlparse\n",
    "import time\n",
    "\n",
    "import numpy as np\n",
    "import pandas as pd\n",
    "from scipy.spatial.distance import cdist\n",
    "\n",
    "from selenium import webdriver\n",
    "from selenium.webdriver.common.by import By\n",
    "from selenium.webdriver.common.keys import Keys\n",
    "from selenium.webdriver.support.ui import WebDriverWait\n",
    "from selenium.webdriver.support import expected_conditions as EC\n",
    "# use firefox because it updates less often, can disable updates\n",
    "# recommend importing profile from Chrome for cookies, passwords\n",
    "# looks less like a bot with more user cruft in the profile\n",
    "from selenium.webdriver.firefox.options import Options\n",
    "from selenium.webdriver.firefox.service import Service\n",
    "\n",
    "\n",
    "import bs4\n",
    "from bs4 import BeautifulSoup\n",
    "import requests\n",
    "from urllib.parse import urljoin\n",
    "\n",
    "import openai\n",
    "from openai import OpenAI\n",
    "import tiktoken\n",
    "\n",
    "import dotenv\n",
    "\n",
    "import sqlite3\n",
    "\n",
    "import IPython\n",
    "from IPython.display import HTML, Markdown, display\n",
    "\n",
    "from atproto import Client\n",
    "\n",
    "import PIL\n",
    "from PIL import Image\n",
    "\n",
    "print(f\"openai          {openai.__version__}\")\n",
    "print(f\"requests        {requests.__version__}\")\n",
    "print(f\"BeautifulSoup   {bs4.__version__}\")"
   ]
  },
  {
   "cell_type": "code",
   "execution_count": 2,
   "id": "04ae6f86-e878-4f3d-9e1f-0bb9fad3ea81",
   "metadata": {},
   "outputs": [
    {
     "name": "stdout",
     "output_type": "stream",
     "text": [
      "2024-03-25 16:32:43.889869\n"
     ]
    }
   ],
   "source": [
    "print(datetime.now())"
   ]
  },
  {
   "cell_type": "code",
   "execution_count": 3,
   "id": "55023e78-e796-4e69-9cad-b5f039c75a85",
   "metadata": {},
   "outputs": [],
   "source": [
    "# load credentials if necessary\n",
    "dotenv.load_dotenv()\n",
    "client = OpenAI()"
   ]
  },
  {
   "cell_type": "code",
   "execution_count": 4,
   "id": "a85ffe86",
   "metadata": {},
   "outputs": [],
   "source": [
    "# delete files in output directory\n",
    "download_dir = \"htmldata\"\n",
    "\n",
    "def delete_files(outputdir):\n",
    "\n",
    "    # Iterate over all files in the directory\n",
    "    for filename in os.listdir(outputdir):\n",
    "        if filename.startswith('.'):\n",
    "            continue\n",
    "        file_path = os.path.join(outputdir, filename)\n",
    "        try:\n",
    "            if os.path.isfile(file_path) or os.path.islink(file_path):\n",
    "                os.remove(file_path)  # Remove the file\n",
    "            elif os.path.isdir(file_path):\n",
    "                # If you want to remove subdirectories as well, use os.rmdir() here\n",
    "                pass\n",
    "        except Exception as e:\n",
    "            print(f'Failed to delete {file_path}. Reason: {e}')\n",
    "\n",
    "\n",
    "delete_files(download_dir)"
   ]
  },
  {
   "cell_type": "markdown",
   "id": "3e57c1b2-b4bb-4a24-94ec-b0f17cd70d5d",
   "metadata": {},
   "source": [
    "# Specify sources"
   ]
  },
  {
   "cell_type": "code",
   "execution_count": 5,
   "id": "74d1c10f",
   "metadata": {},
   "outputs": [],
   "source": [
    "sources = {\n",
    "    # \"Twitter\": {\n",
    "    #     \"title\": \"@TheLinkfest_AI _ X\",\n",
    "    #     \"include\": [\"^https://twitter.com/(\\w+)/status/(\\d+)$\"],\n",
    "    # },\n",
    "    \"Reddit\": {\n",
    "        \"title\": \"top scoring links _ multi\",\n",
    "        \"url\": \"https://www.reddit.com/r/ChatGPT+ChatGPTCoding+MacOS+MachineLearning+OpenAI+ProgrammerHumor+Windows10+battlestations+buildapc+cordcutters+dataisbeautiful+gadgets+hardware+linux+msp+programming+realtech+software+talesfromtechsupport+tech+technews+technology+techsupportgore+windows/top/?sort=top&t=day\",\n",
    "        \"scroll\": 2,\n",
    "        \"exclude\": [\n",
    "            \"^https://www.reddit.com/\",\n",
    "            \"^https://chat.reddit.com/\",\n",
    "            \"^https://i.redd.it/\",\n",
    "            \"^https://redditblog.com/\",\n",
    "            \"^https://www.redditinc.com/\",\n",
    "            \"^https://www.reddithelp.com/\",\n",
    "            \"^https://itunes.apple.com/\",\n",
    "            \"^https://play.google.com/\",\n",
    "        ],\n",
    "    },\n",
    "    \"Hacker News\": {\n",
    "        \"title\": \"Hacker News Page 1\",\n",
    "        \"url\": \"https://news.ycombinator.com/\",\n",
    "        \"exclude\": [\n",
    "            \"https://news.ycombinator.com/\",\n",
    "            \"https://www.ycombinator.com/\",\n",
    "        ],\n",
    "    },\n",
    "    \"Hacker News 2\": {\n",
    "        \"title\": \"Hacker News Page 2\",\n",
    "        \"url\": \"https://news.ycombinator.com/?p=2\",\n",
    "        \"exclude\": [\n",
    "            \"https://news.ycombinator.com/\",\n",
    "            \"https://www.ycombinator.com/\",\n",
    "        ],\n",
    "    },\n",
    "    \"Techmeme\": {\n",
    "        \"title\": \"Techmeme\",\n",
    "        \"url\": \"https://www.techmeme.com/river\",\n",
    "        \"exclude\": [\n",
    "            \"^https://www.techmeme.com\",\n",
    "            \"^https://twitter.com/\",\n",
    "            \"^https://www.threads.net\",\n",
    "            \"^https://www.linkedin.com\",\n",
    "            \"^https://mastodon.social\",\n",
    "            \"^https://bsky.app\",\n",
    "        ],\n",
    "    },\n",
    "    \"Feedly AI\": {\n",
    "        \"title\": \"Discover and Add New Feedly AI Feeds\",\n",
    "        \"url\": \"https://feedly.com/i/aiFeeds?options=eyJsYXllcnMiOlt7InBhcnRzIjpbeyJpZCI6Im5scC9mL3RvcGljLzMwMDAifV0sInNlYXJjaEhpbnQiOiJ0ZWNobm9sb2d5IiwidHlwZSI6Im1hdGNoZXMiLCJzYWxpZW5jZSI6ImFib3V0In1dLCJidW5kbGVzIjpbeyJ0eXBlIjoic3RyZWFtIiwiaWQiOiJ1c2VyLzYyZWViYjlmLTcxNTEtNGY5YS1hOGM3LTlhNTdiODIwNTMwOC9jYXRlZ29yeS9HYWRnZXRzIn1dfQ\",\n",
    "        \"scroll\": 2,\n",
    "    },\n",
    "    \"NYT Tech\": {\n",
    "        \"title\": \"Technology - The New York Times\",\n",
    "        \"url\": \"https://www.nytimes.com/section/technology\",\n",
    "        \"include\": [\"^https://www.nytimes.com/(\\d+)/(\\d+)/(\\d+)(.*).html$\"],\n",
    "    },\n",
    "    \"WSJ Tech\": {\n",
    "        \"title\": \"Technology - WSJ.com\",\n",
    "        \"url\": \"https://www.wsj.com/tech\",\n",
    "        \"include\": [\"^https://www.wsj.com/articles/\"],\n",
    "    },\n",
    "    \"Bloomberg Tech\": {\n",
    "        \"title\": \"Bloomberg Technology - Bloomberg\",\n",
    "        \"url\": \"https://www.bloomberg.com/technology\",\n",
    "        \"include\": [\"^https://www.bloomberg.com/news/(\\w+)/(\\d+)-(\\d+)-(\\d+)\"],\n",
    "    },\n",
    "    \"FT Tech\": {\n",
    "        \"title\": \"Technology\",\n",
    "        \"url\": \"https://www.ft.com/technology\",\n",
    "        \"include\": [\"https://www.ft.com/content/\"]\n",
    "    },\n",
    "    \"WaPo Tech\": {\n",
    "        \"title\": \"Technology - The Washington Post\",\n",
    "        \"url\": \"https://www.washingtonpost.com/business/technology/\",\n",
    "        \"include\": [\"https://www.washingtonpost.com/(\\w+)/(\\d+)/(\\d+)/(\\d+)/\"],\n",
    "    },\n",
    "    \"Google News\": {\n",
    "        \"title\": \"Google News - Technology - Artificial intelligence\",\n",
    "        \"url\": \"https://news.google.com/topics/CAAqJggKIiBDQkFTRWdvSUwyMHZNRGRqTVhZU0FtVnVHZ0pWVXlnQVAB?hl=en-US&gl=US&ceid=US%3Aen\",\n",
    "        \"scroll\": 2,\n",
    "        \"click\" : '//*[@aria-label=\"Artificial intelligence\"]',\n",
    "        \"include\": [\"^https://news.google.com/articles/\"],\n",
    "    },\n",
    "    \"HackerNoon\": {\n",
    "        \"title\": \"HackerNoon - read, write and learn about any technology\",\n",
    "        \"url\": \"https://hackernoon.com/\",\n",
    "        \"include\": [\"^https://hackernoon.com/([^/])*$\"],\n",
    "        \"exclude\": [\n",
    "            \"^https://hackernoon.com/$\",\n",
    "            \"^https://hackernoon.com/c$\",\n",
    "            \"^https://hackernoon.com/coins$\",\n",
    "            \"^https://hackernoon.com/companies$\",\n",
    "            \"^https://hackernoon.com/gallery$\",\n",
    "            \"^https://hackernoon.com/how-to-gain-followers-and-newsletter-subs-directly-on-hackernoon$\",\n",
    "            \"^https://hackernoon.com/login$\",\n",
    "            \"^https://hackernoon.com/reader-boot$\",\n",
    "            \"^https://hackernoon.com/sitemap.xml$\",\n",
    "            \"^https://hackernoon.com/startups$\",\n",
    "            \"^https://hackernoon.com/techbeat$\",\n",
    "            \"^https://hackernoon.com/why-i-write-on-hacker-noon-nl28335q$\",\n",
    "            \"^https://hackernoon.com/writer-signup$\",\n",
    "        ],\n",
    "    },\n",
    "    \"Ars Technica\": {\n",
    "        \"title\": \"Ars Technica\",\n",
    "        \"url\": \"https://arstechnica.com/\",\n",
    "        \"include\": [\"^https://arstechnica.com/gadgets/(\\d+)/(\\d+)/\"],\n",
    "    },\n",
    "    \"The Register\": {\n",
    "        \"title\": \"The Register_ Enterprise Technology News and Analysis\",\n",
    "        \"url\": \"https://www.theregister.com/\",\n",
    "        \"include\": [\"^https://www.theregister.com/(\\d+)/(\\d+)/(\\d+)/\"],\n",
    "    },\n",
    "    \"Business Insider\": {\n",
    "        \"title\": \"Tech - Business Insider\",\n",
    "        \"url\": \"https://www.businessinsider.com/tech\",\n",
    "        \"exclude\": [\"^https://www.insider.com\", \"^https://www.passionfroot.me\"],\n",
    "    },\n",
    "}\n",
    "\n",
    "sources_reverse = {v[\"title\"]: k for k, v in sources.items()}\n"
   ]
  },
  {
   "cell_type": "markdown",
   "id": "79825fdb-7f01-4a35-bd6d-7a00f5d7d752",
   "metadata": {},
   "source": [
    "# Download HTML files from sources"
   ]
  },
  {
   "cell_type": "code",
   "execution_count": 6,
   "id": "5c9a3f1a",
   "metadata": {},
   "outputs": [
    {
     "name": "stdout",
     "output_type": "stream",
     "text": [
      "16:32:43 Starting\n",
      "16:33:19 Initialized profile\n",
      "16:33:19 Initialized service\n",
      "16:34:36 Initialized webdriver\n",
      "16:34:36 Processing Reddit\n",
      "16:34:51 Loading additional infinite scroll items\n",
      "16:35:01 Loading additional infinite scroll items\n",
      "16:35:11 Saving top scoring links _ multi (03_25_2024 04_35_11 PM).html as utf-8\n",
      "16:35:12 Processing Hacker News\n",
      "16:35:22 Saving Hacker News Page 1 (03_25_2024 04_35_22 PM).html as utf-8\n",
      "16:35:22 Processing Hacker News 2\n",
      "16:35:33 Saving Hacker News Page 2 (03_25_2024 04_35_33 PM).html as utf-8\n",
      "16:35:33 Processing Techmeme\n",
      "16:35:44 Saving Techmeme (03_25_2024 04_35_44 PM).html as utf-8\n",
      "16:35:44 Processing Feedly AI\n",
      "16:35:55 Loading additional infinite scroll items\n",
      "16:36:05 Loading additional infinite scroll items\n",
      "16:36:15 Saving Discover and Add New Feedly AI Feeds (03_25_2024 04_36_15 PM).html as utf-8\n",
      "16:36:15 Processing NYT Tech\n",
      "16:36:27 Saving Technology - The New York Times (03_25_2024 04_36_27 PM).html as utf-8\n",
      "16:36:27 Processing WSJ Tech\n",
      "16:36:38 Saving Technology - WSJ.com (03_25_2024 04_36_38 PM).html as utf-8\n",
      "16:36:38 Processing Bloomberg Tech\n",
      "16:36:50 Saving Bloomberg Technology - Bloomberg (03_25_2024 04_36_50 PM).html as utf-8\n",
      "16:36:50 Processing FT Tech\n",
      "16:37:01 Saving Technology (03_25_2024 04_37_01 PM).html as utf-8\n",
      "16:37:01 Processing WaPo Tech\n",
      "16:37:12 Saving Technology - The Washington Post (03_25_2024 04_37_12 PM).html as utf-8\n",
      "16:37:12 Processing Google News\n",
      "16:37:25 Clicking on //*[@aria-label=\"Artificial intelligence\"]\n",
      "16:37:25 Clicked\n",
      "16:37:25 Loading additional infinite scroll items\n",
      "16:37:35 Loading additional infinite scroll items\n",
      "16:37:45 Saving Google News - Technology - Artificial intelligence (03_25_2024 04_37_45 PM).html as utf-8\n",
      "16:37:45 Processing HackerNoon\n",
      "16:37:57 Saving HackerNoon - read, write and learn about any technology (03_25_2024 04_37_57 PM).html as utf-8\n",
      "16:37:57 Processing Ars Technica\n",
      "16:38:08 Saving Ars Technica (03_25_2024 04_38_08 PM).html as utf-8\n",
      "16:38:08 Processing The Register\n",
      "16:38:19 Saving The Register_ Enterprise Technology News and Analysis (03_25_2024 04_38_19 PM).html as utf-8\n",
      "16:38:19 Processing Business Insider\n",
      "16:38:29 Saving Tech - Business Insider (03_25_2024 04_38_29 PM).html as utf-8\n",
      "16:38:35 Quit webdriver\n"
     ]
    }
   ],
   "source": [
    "# download files via selenium and firefox\n",
    "outputdir = \"htmldata\"\n",
    "delete_files(outputdir)\n",
    "\n",
    "# Print the formatted time\n",
    "print(datetime.now().strftime('%H:%M:%S'), \"Starting\", flush=True)\n",
    "\n",
    "firefox_app_path = '/Applications/Firefox.app'\n",
    "# Path to your geckodriver\n",
    "geckodriver_path = '/Users/drucev/webdrivers/geckodriver'\n",
    "\n",
    "# Set up Firefox options to use your existing profile\n",
    "# important for some sites that need a login, also a generic profile fingerprint that looks like a bot might get blocked\n",
    "firefox_profile_path = '/Users/drucev/Library/Application Support/Firefox/Profiles/k8k0lcjj.default-release'\n",
    "options = Options()\n",
    "options.profile = firefox_profile_path\n",
    "\n",
    "print(datetime.now().strftime('%H:%M:%S'), \"Initialized profile\", flush=True)\n",
    "\n",
    "# Create a Service object with the path\n",
    "service = Service(geckodriver_path)\n",
    "\n",
    "print(datetime.now().strftime('%H:%M:%S'), \"Initialized service\", flush=True)\n",
    "# Set up the Firefox driver\n",
    "driver = webdriver.Firefox(service=service, options=options)\n",
    "\n",
    "print(datetime.now().strftime('%H:%M:%S'), \"Initialized webdriver\", flush=True)\n",
    "sleeptime = 10\n",
    "\n",
    "for sourcename, sourcedict in sources.items():\n",
    "    print(datetime.now().strftime('%H:%M:%S'), f'Processing {sourcename}', flush=True)\n",
    "    title = sourcedict[\"title\"]\n",
    "    url = sourcedict[\"url\"]\n",
    "    scroll = sourcedict.get(\"scroll\", 0)\n",
    "    click = sourcedict.get(\"click\")\n",
    "\n",
    "    # Open the page\n",
    "    driver.get(url)\n",
    "\n",
    "    # Wait for the page to load\n",
    "    time.sleep(sleeptime)  # Adjust the sleep time as necessary\n",
    "\n",
    "    if click:\n",
    "        print(datetime.now().strftime('%H:%M:%S'), f\"Clicking on {click}\", flush=True)\n",
    "        button = driver.find_element(By.XPATH, click)\n",
    "        if button:\n",
    "            button.click()\n",
    "            print(datetime.now().strftime('%H:%M:%S'), f\"Clicked\", flush=True)\n",
    "\n",
    "    for _ in range(scroll):\n",
    "        # scroll to bottom of infinite scrolling window\n",
    "        driver.execute_script(\"window.scrollTo(0, document.body.scrollHeight);\")\n",
    "        print(datetime.now().strftime('%H:%M:%S'), \"Loading additional infinite scroll items\", flush=True)\n",
    "        time.sleep(sleeptime) # wait for it to load additional items\n",
    "\n",
    "    # Get the HTML source of the page\n",
    "    html_source = driver.page_source\n",
    "\n",
    "    # check encoding, default utf-8\n",
    "    encoding = \"utf-8\"  # Default to UTF-8 if not specified\n",
    "    # Retrieve the content-type meta tag from the HTML\n",
    "    try:\n",
    "        meta_tag = driver.find_element(By.XPATH, \"//meta[@http-equiv='Content-Type']\")\n",
    "        content_type = meta_tag.get_attribute(\"content\")\n",
    "        # Typical format is \"text/html; charset=UTF-8\"\n",
    "        charset_start = content_type.find(\"charset=\")\n",
    "        if charset_start != -1:\n",
    "            encoding = content_type[charset_start + 8:]\n",
    "    except Exception as err:\n",
    "        pass\n",
    "\n",
    "    # Save the HTML to a local file\n",
    "    datestr = datetime.now().strftime(\"%m_%d_%Y %I_%M_%S %p\")\n",
    "    outfile = f'{title} ({datestr}).html'\n",
    "    print(datetime.now().strftime('%H:%M:%S'), f\"Saving {outfile} as {encoding}\", flush=True)\n",
    "    with open(outputdir + \"/\" + outfile, 'w', encoding=encoding) as file:\n",
    "        file.write(html_source)\n",
    "\n",
    "# Close the browser\n",
    "driver.quit()\n",
    "print(datetime.now().strftime('%H:%M:%S'), \"Quit webdriver\", flush=True)\n"
   ]
  },
  {
   "cell_type": "code",
   "execution_count": 7,
   "id": "592b5714",
   "metadata": {},
   "outputs": [
    {
     "data": {
      "text/plain": [
       "['htmldata/Hacker News Page 1 (03_25_2024 04_35_22 PM).html',\n",
       " 'htmldata/Technology (03_25_2024 04_37_01 PM).html',\n",
       " 'htmldata/The Register_ Enterprise Technology News and Analysis (03_25_2024 04_38_19 PM).html',\n",
       " 'htmldata/top scoring links _ multi (03_25_2024 04_35_11 PM).html',\n",
       " 'htmldata/.gitkeep',\n",
       " 'htmldata/HackerNoon - read, write and learn about any technology (03_25_2024 04_37_57 PM).html',\n",
       " 'htmldata/Bloomberg Technology - Bloomberg (03_25_2024 04_36_50 PM).html',\n",
       " 'htmldata/Techmeme (03_25_2024 04_35_44 PM).html',\n",
       " 'htmldata/Hacker News Page 2 (03_25_2024 04_35_33 PM).html',\n",
       " 'htmldata/Ars Technica (03_25_2024 04_38_08 PM).html',\n",
       " 'htmldata/Technology - WSJ.com (03_25_2024 04_36_38 PM).html',\n",
       " 'htmldata/Google News - Technology - Artificial intelligence (03_25_2024 04_37_45 PM).html',\n",
       " 'htmldata/Technology - The Washington Post (03_25_2024 04_37_12 PM).html',\n",
       " 'htmldata/Discover and Add New Feedly AI Feeds (03_25_2024 04_36_15 PM).html',\n",
       " 'htmldata/Technology - The New York Times (03_25_2024 04_36_27 PM).html',\n",
       " 'htmldata/Tech - Business Insider (03_25_2024 04_38_29 PM).html']"
      ]
     },
     "execution_count": 7,
     "metadata": {},
     "output_type": "execute_result"
    }
   ],
   "source": [
    "[os.path.join(download_dir, file) for file in os.listdir(download_dir)]"
   ]
  },
  {
   "cell_type": "code",
   "execution_count": 8,
   "id": "94633373-b719-48bc-9c4e-eb4ccbe6ad91",
   "metadata": {
    "tags": []
   },
   "outputs": [
    {
     "name": "stdout",
     "output_type": "stream",
     "text": [
      "15\n",
      "htmldata/Tech - Business Insider (03_25_2024 04_38_29 PM).html\n",
      "htmldata/The Register_ Enterprise Technology News and Analysis (03_25_2024 04_38_19 PM).html\n",
      "htmldata/Ars Technica (03_25_2024 04_38_08 PM).html\n",
      "htmldata/HackerNoon - read, write and learn about any technology (03_25_2024 04_37_57 PM).html\n",
      "htmldata/Google News - Technology - Artificial intelligence (03_25_2024 04_37_45 PM).html\n",
      "htmldata/Technology - The Washington Post (03_25_2024 04_37_12 PM).html\n",
      "htmldata/Technology (03_25_2024 04_37_01 PM).html\n",
      "htmldata/Bloomberg Technology - Bloomberg (03_25_2024 04_36_50 PM).html\n",
      "htmldata/Technology - WSJ.com (03_25_2024 04_36_38 PM).html\n",
      "htmldata/Technology - The New York Times (03_25_2024 04_36_27 PM).html\n",
      "htmldata/Discover and Add New Feedly AI Feeds (03_25_2024 04_36_15 PM).html\n",
      "htmldata/Techmeme (03_25_2024 04_35_44 PM).html\n",
      "htmldata/Hacker News Page 2 (03_25_2024 04_35_33 PM).html\n",
      "htmldata/Hacker News Page 1 (03_25_2024 04_35_22 PM).html\n",
      "htmldata/top scoring links _ multi (03_25_2024 04_35_11 PM).html\n"
     ]
    }
   ],
   "source": [
    "# List all paths in the directory matching today's date\n",
    "nfiles = 50\n",
    "\n",
    "# Get the current date\n",
    "today = datetime.now()\n",
    "year, month, day = today.year, today.month, today.day\n",
    "\n",
    "datestr = datetime.now().strftime(\"%m_%d_%Y\")\n",
    "\n",
    "# print(f\"Year: {year}, Month: {month}, Day: {day}\")\n",
    "\n",
    "files = [os.path.join(download_dir, file) for file in os.listdir(download_dir)]\n",
    "# filter files only\n",
    "files = [file for file in files if os.path.isfile(file)]\n",
    "\n",
    "# Sort files by modification time and take top 50\n",
    "files.sort(key=lambda x: os.path.getmtime(x), reverse=True)\n",
    "file = files[:nfiles]\n",
    "\n",
    "# filter files by with today's date ending in .html\n",
    "files = [file for file in files if datestr in file and file.endswith(\".html\")]\n",
    "print(len(files))\n",
    "for file in files:\n",
    "    print(file)"
   ]
  },
  {
   "cell_type": "code",
   "execution_count": 9,
   "id": "878be7b4-b7d6-4c0d-93a5-063e5a9afa52",
   "metadata": {},
   "outputs": [
    {
     "data": {
      "text/plain": [
       "{'og:locale': 'en-GB',\n",
       " 'og:url': 'https://www.euronews.com/next/2024/01/15/almost-40-of-jobs-around-the-world-will-be-impacted-by-ai-imf-chief-says',\n",
       " 'og:site_name': 'euronews',\n",
       " 'og:type': 'article',\n",
       " 'og:title': 'AI to impact 40% of jobs around the world, IMF chief says',\n",
       " 'og:description': 'Kristalina Georgieva said now is the time to act to create a set of policies ensuring the impact of AI is beneficial not detrimental to humanity.',\n",
       " 'og:image': 'https://static.euronews.com/articles/stories/08/17/12/08/1200x675_cmsv2_1bac2582-b418-5da9-80f9-6c4b6254606d-8171208.jpg',\n",
       " 'og:image:width': '1200',\n",
       " 'og:image:height': '675',\n",
       " 'og:image:type': 'image/jpeg',\n",
       " 'og:image:alt': 'Almost 40% of jobs around the world will be impacted by AI, IMF chief says',\n",
       " 'og:locale:alternate': 'el-GR',\n",
       " 'og:locale:alternate:url': 'https://www.euronews.com/next/2024/01/15/almost-40-of-jobs-around-the-world-will-be-impacted-by-ai-imf-chief-says',\n",
       " 'title': 'Almost 40% of jobs around the world will be impacted by AI, IMF chief says | Euronews'}"
      ]
     },
     "execution_count": 9,
     "metadata": {},
     "output_type": "execute_result"
    }
   ],
   "source": [
    "# you need this if you have not-descriptive link titles like 'link', can get a page title from html or tags\n",
    "def get_og_tags(url):\n",
    "    \"\"\"get a dict of Open Graph og: tags such as title in the HEAD of a URL\"\"\"\n",
    "    retdict = {}\n",
    "    try:\n",
    "        response = requests.get(url)\n",
    "        if response.status_code == 200:\n",
    "            soup = BeautifulSoup(response.content, \"html.parser\")\n",
    "            head = soup.head\n",
    "            if head:\n",
    "                og_tags = head.find_all(\n",
    "                    property=lambda prop: prop and prop.startswith(\"og:\")\n",
    "                )\n",
    "                for tag in og_tags:\n",
    "                    if \"content\" in tag.attrs:\n",
    "                        retdict[tag[\"property\"]] = tag[\"content\"]\n",
    "\n",
    "                page_title = \"\"\n",
    "                title_tag = soup.find(\"title\")\n",
    "                if title_tag:\n",
    "                    page_title = title_tag.text\n",
    "                    if page_title:\n",
    "                        retdict[\"title\"] = page_title\n",
    "        return retdict\n",
    "    except requests.RequestException as e:\n",
    "        print(f\"Error fetching {url}: {e}\")\n",
    "    return retdict\n",
    "\n",
    "\n",
    "url = \"https://www.euronews.com/next/2024/01/15/almost-40-of-jobs-around-the-world-will-be-impacted-by-ai-imf-chief-says\"\n",
    "get_og_tags(url)"
   ]
  },
  {
   "cell_type": "code",
   "execution_count": 10,
   "id": "55a281af-6a4d-4904-9f22-98704ad4c768",
   "metadata": {},
   "outputs": [
    {
     "name": "stdout",
     "output_type": "stream",
     "text": [
      "/some/path\n"
     ]
    }
   ],
   "source": [
    "def get_path_from_url(url):\n",
    "    \"\"\"\n",
    "    Extracts the path following the top-level domain name from a URL.\n",
    "\n",
    "    :param url: The URL string.\n",
    "    :return: The path component of the URL.\n",
    "    \"\"\"\n",
    "    parsed_url = urlparse(url)\n",
    "    return parsed_url.path\n",
    "\n",
    "\n",
    "# Example usage\n",
    "example_url = \"http://www.example.com/some/path?query=string\"\n",
    "path = get_path_from_url(example_url)\n",
    "print(path)"
   ]
  },
  {
   "cell_type": "code",
   "execution_count": 11,
   "id": "b76ba2f8-1ff4-418c-9c74-5712255ddae8",
   "metadata": {},
   "outputs": [],
   "source": [
    "MODEL = \"gpt-4-turbo-preview\"\n",
    "\n",
    "MAX_INPUT_TOKENS = 3072\n",
    "MAX_OUTPUT_TOKENS = 4096\n",
    "MAX_RETRIES = 3\n",
    "TEMPERATURE = 0"
   ]
  },
  {
   "cell_type": "code",
   "execution_count": 12,
   "id": "d39bd1b9-9a7e-4cd0-93d7-aa17b37bc024",
   "metadata": {},
   "outputs": [
    {
     "data": {
      "text/plain": [
       "13"
      ]
     },
     "execution_count": 12,
     "metadata": {},
     "output_type": "execute_result"
    }
   ],
   "source": [
    "enc = tiktoken.encoding_for_model(MODEL)\n",
    "assert enc.decode(enc.encode(\"hello world\")) == \"hello world\"\n",
    "\n",
    "\n",
    "def count_tokens(s):\n",
    "    return len(enc.encode(s))\n",
    "\n",
    "\n",
    "count_tokens(\"four score and 7 years go our forefathers brought forth\")"
   ]
  },
  {
   "cell_type": "code",
   "execution_count": 13,
   "id": "0e03a76d-be7c-40f3-80c6-db44c13e3e13",
   "metadata": {},
   "outputs": [],
   "source": [
    "def trimmed_href(l):\n",
    "    \"\"\"\n",
    "    Trims everything in the string after a question mark such as a session ID.\n",
    "\n",
    "    :param s: The input string.\n",
    "    :return: The trimmed string.\n",
    "    \"\"\"\n",
    "    # Find the position of the question mark\n",
    "    s = l.get(\"href\")\n",
    "    if s:\n",
    "        question_mark_index = s.find(\"?\")\n",
    "\n",
    "        # If a question mark is found, trim the string up to that point\n",
    "        if question_mark_index != -1:\n",
    "            return s[:question_mark_index]\n",
    "        else:\n",
    "            # Return the original string if no question mark is found\n",
    "            return s\n",
    "    else:\n",
    "        return s"
   ]
  },
  {
   "cell_type": "markdown",
   "id": "0b7abc8c-5d9d-4ea1-9a2a-82d5f92f250b",
   "metadata": {},
   "source": [
    "# Parse news URLs and titles from downloaded HTML files"
   ]
  },
  {
   "cell_type": "code",
   "execution_count": 14,
   "id": "e81e7ea3-ac61-42ed-b972-1f9e81128732",
   "metadata": {
    "tags": []
   },
   "outputs": [
    {
     "data": {
      "text/markdown": [
       "# Business Insider"
      ],
      "text/plain": [
       "<IPython.core.display.Markdown object>"
      ]
     },
     "metadata": {},
     "output_type": "display_data"
    },
    {
     "name": "stdout",
     "output_type": "stream",
     "text": [
      "334\n",
      "250\n",
      "\n"
     ]
    },
    {
     "data": {
      "text/markdown": [
       "# The Register"
      ],
      "text/plain": [
       "<IPython.core.display.Markdown object>"
      ]
     },
     "metadata": {},
     "output_type": "display_data"
    },
    {
     "name": "stdout",
     "output_type": "stream",
     "text": [
      "199\n",
      "87\n",
      "\n"
     ]
    },
    {
     "data": {
      "text/markdown": [
       "# Ars Technica"
      ],
      "text/plain": [
       "<IPython.core.display.Markdown object>"
      ]
     },
     "metadata": {},
     "output_type": "display_data"
    },
    {
     "name": "stdout",
     "output_type": "stream",
     "text": [
      "252\n",
      "7\n",
      "\n"
     ]
    },
    {
     "data": {
      "text/markdown": [
       "# HackerNoon"
      ],
      "text/plain": [
       "<IPython.core.display.Markdown object>"
      ]
     },
     "metadata": {},
     "output_type": "display_data"
    },
    {
     "name": "stdout",
     "output_type": "stream",
     "text": [
      "563\n",
      "85\n",
      "\n"
     ]
    },
    {
     "data": {
      "text/markdown": [
       "# Google News"
      ],
      "text/plain": [
       "<IPython.core.display.Markdown object>"
      ]
     },
     "metadata": {},
     "output_type": "display_data"
    },
    {
     "name": "stdout",
     "output_type": "stream",
     "text": [
      "974\n",
      "426\n",
      "\n"
     ]
    },
    {
     "data": {
      "text/markdown": [
       "# WaPo Tech"
      ],
      "text/plain": [
       "<IPython.core.display.Markdown object>"
      ]
     },
     "metadata": {},
     "output_type": "display_data"
    },
    {
     "name": "stdout",
     "output_type": "stream",
     "text": [
      "157\n",
      "36\n",
      "\n"
     ]
    },
    {
     "data": {
      "text/markdown": [
       "# FT Tech"
      ],
      "text/plain": [
       "<IPython.core.display.Markdown object>"
      ]
     },
     "metadata": {},
     "output_type": "display_data"
    },
    {
     "name": "stdout",
     "output_type": "stream",
     "text": [
      "459\n",
      "112\n",
      "\n"
     ]
    },
    {
     "data": {
      "text/markdown": [
       "# Bloomberg Tech"
      ],
      "text/plain": [
       "<IPython.core.display.Markdown object>"
      ]
     },
     "metadata": {},
     "output_type": "display_data"
    },
    {
     "name": "stdout",
     "output_type": "stream",
     "text": [
      "290\n",
      "51\n",
      "\n"
     ]
    },
    {
     "data": {
      "text/markdown": [
       "# WSJ Tech"
      ],
      "text/plain": [
       "<IPython.core.display.Markdown object>"
      ]
     },
     "metadata": {},
     "output_type": "display_data"
    },
    {
     "name": "stdout",
     "output_type": "stream",
     "text": [
      "485\n",
      "9\n",
      "\n"
     ]
    },
    {
     "data": {
      "text/markdown": [
       "# NYT Tech"
      ],
      "text/plain": [
       "<IPython.core.display.Markdown object>"
      ]
     },
     "metadata": {},
     "output_type": "display_data"
    },
    {
     "name": "stdout",
     "output_type": "stream",
     "text": [
      "75\n",
      "18\n",
      "\n"
     ]
    },
    {
     "data": {
      "text/markdown": [
       "# Feedly AI"
      ],
      "text/plain": [
       "<IPython.core.display.Markdown object>"
      ]
     },
     "metadata": {},
     "output_type": "display_data"
    },
    {
     "name": "stdout",
     "output_type": "stream",
     "text": [
      "256\n",
      "241\n",
      "\n"
     ]
    },
    {
     "data": {
      "text/markdown": [
       "# Techmeme"
      ],
      "text/plain": [
       "<IPython.core.display.Markdown object>"
      ]
     },
     "metadata": {},
     "output_type": "display_data"
    },
    {
     "name": "stdout",
     "output_type": "stream",
     "text": [
      "332\n",
      "139\n",
      "\n"
     ]
    },
    {
     "data": {
      "text/markdown": [
       "# Hacker News 2"
      ],
      "text/plain": [
       "<IPython.core.display.Markdown object>"
      ]
     },
     "metadata": {},
     "output_type": "display_data"
    },
    {
     "name": "stdout",
     "output_type": "stream",
     "text": [
      "261\n",
      "29\n",
      "\n"
     ]
    },
    {
     "data": {
      "text/markdown": [
       "# Hacker News"
      ],
      "text/plain": [
       "<IPython.core.display.Markdown object>"
      ]
     },
     "metadata": {},
     "output_type": "display_data"
    },
    {
     "name": "stdout",
     "output_type": "stream",
     "text": [
      "257\n",
      "30\n",
      "\n"
     ]
    },
    {
     "data": {
      "text/markdown": [
       "# Reddit"
      ],
      "text/plain": [
       "<IPython.core.display.Markdown object>"
      ]
     },
     "metadata": {},
     "output_type": "display_data"
    },
    {
     "name": "stdout",
     "output_type": "stream",
     "text": [
      "573\n",
      "46\n",
      "\n"
     ]
    }
   ],
   "source": [
    "# parse all the URL that look like news articles\n",
    "# into all_urls list of dicts with url, title, src\n",
    "all_urls = []\n",
    "\n",
    "for file in files:\n",
    "    # Extract filename from path\n",
    "    filename = os.path.basename(file)\n",
    "\n",
    "    # Find the position of '1_14_2024' in the filename\n",
    "    position = filename.find(\" (\" + datestr)\n",
    "    basename = filename[:position]\n",
    "#     print(basename)\n",
    "#     if basename.startswith('Google News'):\n",
    "#         pass\n",
    "#     else:\n",
    "#         continue\n",
    "\n",
    "    sourcename = sources_reverse.get(basename)\n",
    "    if sourcename is None:\n",
    "        print(f\"Skipping {basename}, no sourcename metadata\")\n",
    "        continue\n",
    "\n",
    "    display(Markdown(f\"# {sourcename}\"))\n",
    "    sources[sourcename][\"latest\"] = file\n",
    "\n",
    "    # get contents\n",
    "    with open(file, \"r\") as file:\n",
    "        html_content = file.read()\n",
    "\n",
    "    # Parse the HTML content\n",
    "    soup = BeautifulSoup(html_content, \"html.parser\")\n",
    "\n",
    "    # Find all <a> tags\n",
    "    if soup:\n",
    "        links = soup.find_all(\"a\")\n",
    "    else:\n",
    "        print(f\"Skipping {sourcename}, unable to parse\")\n",
    "\n",
    "    # convert relative links to absolute links using base URL if present\n",
    "    base_tag = soup.find('base')\n",
    "    base_url = base_tag.get('href') if base_tag else sources[sourcename][\"url\"]\n",
    "    for link in links:\n",
    "#         print(link.get(\"href\"))\n",
    "        link[\"href\"]= urljoin(base_url, link.get('href', \"\"))\n",
    "#         print(link[\"href\"])\n",
    "\n",
    "#     print(len(links))\n",
    "#     links = [l for l in links if l]\n",
    "#     links = [l.strip() for l in links]\n",
    "\n",
    "    print(len(links))\n",
    "\n",
    "    for pattern in sources[sourcename].get(\"exclude\", []):\n",
    "        # filter links by exclusion pattern\n",
    "#         print(pattern)\n",
    "#         print([ l.get(\"href\") for l in links])\n",
    "        links = [\n",
    "            l\n",
    "            for l in links\n",
    "            if l.get(\"href\") is not None and not re.match(pattern, l.get(\"href\"))\n",
    "        ]\n",
    "        # print(len(links))\n",
    "\n",
    "    for pattern in sources[sourcename].get(\"include\", []):\n",
    "        # print(pattern, len(links))\n",
    "        # filter links by inclusion pattern\n",
    "        # print(pattern)\n",
    "        # print(type(pattern))\n",
    "        newlinks = []\n",
    "        for l in links:\n",
    "            href = l.get(\"href\")\n",
    "#             print(href)\n",
    "            if href and re.match(pattern, href):\n",
    "                newlinks.append(l)\n",
    "        links = newlinks\n",
    "        # links = [l for l in links if re.match(pattern, l.get(\"href\"))]\n",
    "        # print(len(links))\n",
    "\n",
    "    # drop empty text\n",
    "    links = [l for l in links if l.get_text(strip=True)]\n",
    "\n",
    "    # drop empty url path, i.e. url = toplevel domain\n",
    "    links = [l for l in links if len(get_path_from_url(trimmed_href(l))) > 1]\n",
    "    # drop anything that is not http, like javascript: or mailto:\n",
    "    links = [l for l in links if l.get(\"href\") and l.get(\"href\").startswith(\"http\")]\n",
    "    # drop some ArsTechnica links that are just the number of comments and dupe the primary link\n",
    "    links = [l for l in links if not re.match(\"^(\\d+)$\", l.get_text(strip=True))]\n",
    "\n",
    "    for l in links:\n",
    "        url = trimmed_href(l)\n",
    "        title = l.get_text(strip=True)\n",
    "        if title == \"LINK\":\n",
    "            # try to update title\n",
    "            og_dict = get_og_tags(url)\n",
    "            if og_dict.get(\"og:title\"):\n",
    "                title = og_dict.get(\"og:title\")\n",
    "\n",
    "        # skip some low quality links that don't have full headline, like link to a Twitter or Threads account\n",
    "        if len(title) <= 28 and title != \"LINK\":\n",
    "            continue\n",
    "\n",
    "        all_urls.append({\"title\": title, \"url\": url, \"src\": sourcename})\n",
    "#         display(Markdown(f\"[{title}]({url})\"))\n",
    "\n",
    "    print(len(links))\n",
    "    print()\n",
    "\n",
    "    # for p in pages:\n",
    "    #     print(p)"
   ]
  },
  {
   "cell_type": "code",
   "execution_count": 15,
   "id": "c0eb7a52-ee94-4478-af89-11f059ab2d6e",
   "metadata": {},
   "outputs": [
    {
     "data": {
      "text/html": [
       "<div>\n",
       "<style scoped>\n",
       "    .dataframe tbody tr th:only-of-type {\n",
       "        vertical-align: middle;\n",
       "    }\n",
       "\n",
       "    .dataframe tbody tr th {\n",
       "        vertical-align: top;\n",
       "    }\n",
       "\n",
       "    .dataframe thead th {\n",
       "        text-align: right;\n",
       "    }\n",
       "</style>\n",
       "<table border=\"1\" class=\"dataframe\">\n",
       "  <thead>\n",
       "    <tr style=\"text-align: right;\">\n",
       "      <th></th>\n",
       "      <th>id</th>\n",
       "      <th>src</th>\n",
       "      <th>title</th>\n",
       "      <th>url</th>\n",
       "    </tr>\n",
       "  </thead>\n",
       "  <tbody>\n",
       "    <tr>\n",
       "      <th>0</th>\n",
       "      <td>0</td>\n",
       "      <td>Ars Technica</td>\n",
       "      <td>macOS Sonoma 14.4.1 released to fix the stuff ...</td>\n",
       "      <td>https://arstechnica.com/gadgets/2024/03/macos-...</td>\n",
       "    </tr>\n",
       "    <tr>\n",
       "      <th>1</th>\n",
       "      <td>1</td>\n",
       "      <td>Ars Technica</td>\n",
       "      <td>Windows Notepad’s midlife renaissance continue...</td>\n",
       "      <td>https://arstechnica.com/gadgets/2024/03/window...</td>\n",
       "    </tr>\n",
       "    <tr>\n",
       "      <th>2</th>\n",
       "      <td>2</td>\n",
       "      <td>Ars Technica</td>\n",
       "      <td>“Temporary” disk formatting UI from 1994 still...</td>\n",
       "      <td>https://arstechnica.com/gadgets/2024/03/window...</td>\n",
       "    </tr>\n",
       "    <tr>\n",
       "      <th>3</th>\n",
       "      <td>3</td>\n",
       "      <td>Ars Technica</td>\n",
       "      <td>Samsung users ask, “Why does the S-Pen smell s...</td>\n",
       "      <td>https://arstechnica.com/gadgets/2024/03/users-...</td>\n",
       "    </tr>\n",
       "    <tr>\n",
       "      <th>4</th>\n",
       "      <td>4</td>\n",
       "      <td>Ars Technica</td>\n",
       "      <td>Android 15 gets satellite messaging, starts fo...</td>\n",
       "      <td>https://arstechnica.com/gadgets/2024/03/androi...</td>\n",
       "    </tr>\n",
       "    <tr>\n",
       "      <th>...</th>\n",
       "      <td>...</td>\n",
       "      <td>...</td>\n",
       "      <td>...</td>\n",
       "      <td>...</td>\n",
       "    </tr>\n",
       "    <tr>\n",
       "      <th>1012</th>\n",
       "      <td>1012</td>\n",
       "      <td>WaPo Tech</td>\n",
       "      <td>Trump Media merger wins investor approval, net...</td>\n",
       "      <td>https://www.washingtonpost.com/technology/2024...</td>\n",
       "    </tr>\n",
       "    <tr>\n",
       "      <th>1013</th>\n",
       "      <td>1013</td>\n",
       "      <td>WaPo Tech</td>\n",
       "      <td>Landlines are dying out. But to some, they’re ...</td>\n",
       "      <td>https://www.washingtonpost.com/technology/2024...</td>\n",
       "    </tr>\n",
       "    <tr>\n",
       "      <th>1014</th>\n",
       "      <td>1014</td>\n",
       "      <td>WaPo Tech</td>\n",
       "      <td>How to use your smartphone to photograph the s...</td>\n",
       "      <td>https://www.washingtonpost.com/technology/2024...</td>\n",
       "    </tr>\n",
       "    <tr>\n",
       "      <th>1015</th>\n",
       "      <td>1015</td>\n",
       "      <td>WaPo Tech</td>\n",
       "      <td>Lawmakers see rise in threatening messages as ...</td>\n",
       "      <td>https://www.washingtonpost.com/technology/2024...</td>\n",
       "    </tr>\n",
       "    <tr>\n",
       "      <th>1016</th>\n",
       "      <td>1016</td>\n",
       "      <td>WaPo Tech</td>\n",
       "      <td>Would you pay $40 a month to watch your favori...</td>\n",
       "      <td>https://www.washingtonpost.com/technology/2024...</td>\n",
       "    </tr>\n",
       "  </tbody>\n",
       "</table>\n",
       "<p>1017 rows × 4 columns</p>\n",
       "</div>"
      ],
      "text/plain": [
       "        id           src                                              title  \\\n",
       "0        0  Ars Technica  macOS Sonoma 14.4.1 released to fix the stuff ...   \n",
       "1        1  Ars Technica  Windows Notepad’s midlife renaissance continue...   \n",
       "2        2  Ars Technica  “Temporary” disk formatting UI from 1994 still...   \n",
       "3        3  Ars Technica  Samsung users ask, “Why does the S-Pen smell s...   \n",
       "4        4  Ars Technica  Android 15 gets satellite messaging, starts fo...   \n",
       "...    ...           ...                                                ...   \n",
       "1012  1012     WaPo Tech  Trump Media merger wins investor approval, net...   \n",
       "1013  1013     WaPo Tech  Landlines are dying out. But to some, they’re ...   \n",
       "1014  1014     WaPo Tech  How to use your smartphone to photograph the s...   \n",
       "1015  1015     WaPo Tech  Lawmakers see rise in threatening messages as ...   \n",
       "1016  1016     WaPo Tech  Would you pay $40 a month to watch your favori...   \n",
       "\n",
       "                                                    url  \n",
       "0     https://arstechnica.com/gadgets/2024/03/macos-...  \n",
       "1     https://arstechnica.com/gadgets/2024/03/window...  \n",
       "2     https://arstechnica.com/gadgets/2024/03/window...  \n",
       "3     https://arstechnica.com/gadgets/2024/03/users-...  \n",
       "4     https://arstechnica.com/gadgets/2024/03/androi...  \n",
       "...                                                 ...  \n",
       "1012  https://www.washingtonpost.com/technology/2024...  \n",
       "1013  https://www.washingtonpost.com/technology/2024...  \n",
       "1014  https://www.washingtonpost.com/technology/2024...  \n",
       "1015  https://www.washingtonpost.com/technology/2024...  \n",
       "1016  https://www.washingtonpost.com/technology/2024...  \n",
       "\n",
       "[1017 rows x 4 columns]"
      ]
     },
     "execution_count": 15,
     "metadata": {},
     "output_type": "execute_result"
    }
   ],
   "source": [
    "# make a pandas dataframe\n",
    "orig_df = (\n",
    "    pd.DataFrame(all_urls)\n",
    "    .groupby(\"url\")\n",
    "    .first()\n",
    "    .reset_index()\n",
    "    .sort_values(\"src\")[[\"src\", \"title\", \"url\"]]\n",
    "    .reset_index(drop=True)\n",
    "    .reset_index(drop=False)\n",
    "    .rename(columns={\"index\": \"id\"})\n",
    ")\n",
    "orig_df"
   ]
  },
  {
   "cell_type": "code",
   "execution_count": 16,
   "id": "36a1f7dd-2763-46ac-944c-eec7361f40d7",
   "metadata": {},
   "outputs": [],
   "source": [
    "# filter ones not seen before\n",
    "conn = sqlite3.connect('articles.db')\n",
    "\n",
    "# Retrieve all URLs from the SQLite table\n",
    "existing_urls = pd.read_sql_query(\"SELECT url FROM news_articles\", conn)\n",
    "\n",
    "# Close the SQLite connection\n",
    "conn.close()\n",
    "\n",
    "# Convert the URLs to a list for easier comparison\n",
    "existing_urls_list = existing_urls['url'].tolist()\n",
    "\n",
    "# Filter the original DataFrame\n",
    "# Keep rows where the URL is not in the existing_urls_list\n",
    "filtered_df = orig_df[~orig_df['url'].isin(existing_urls_list)]\n"
   ]
  },
  {
   "cell_type": "code",
   "execution_count": 17,
   "id": "14bea6c0-a79f-41ef-853e-7b076b902dca",
   "metadata": {},
   "outputs": [
    {
     "data": {
      "text/plain": [
       "27689"
      ]
     },
     "execution_count": 17,
     "metadata": {},
     "output_type": "execute_result"
    }
   ],
   "source": [
    "len(existing_urls_list)"
   ]
  },
  {
   "cell_type": "code",
   "execution_count": 18,
   "id": "21f431d4-4512-44a3-831c-44e078a22d17",
   "metadata": {},
   "outputs": [
    {
     "data": {
      "text/plain": [
       "123"
      ]
     },
     "execution_count": 18,
     "metadata": {},
     "output_type": "execute_result"
    }
   ],
   "source": [
    "len(filtered_df)"
   ]
  },
  {
   "cell_type": "markdown",
   "id": "f05b4e7e-c039-458c-a02f-4931356115e0",
   "metadata": {},
   "source": [
    "# Filter AI-related headlines using a prompt to OpenAI"
   ]
  },
  {
   "cell_type": "code",
   "execution_count": 19,
   "id": "994796a1-fea7-4800-87a4-913e3fb7a821",
   "metadata": {},
   "outputs": [
    {
     "data": {
      "text/plain": [
       "3"
      ]
     },
     "execution_count": 19,
     "metadata": {},
     "output_type": "execute_result"
    }
   ],
   "source": [
    "# make pages that fit in a reasonably sized prompt\n",
    "MAXPAGELEN = 50\n",
    "pages = []\n",
    "current_page = []\n",
    "pagelength = 0\n",
    "\n",
    "for row in filtered_df.itertuples():\n",
    "    curlink = {\"id\": row.Index, \"title\": row.title}\n",
    "    curlength = count_tokens(json.dumps(curlink))\n",
    "    # Check if adding the current string would exceed the limit\n",
    "    if len(current_page) >= MAXPAGELEN or pagelength + curlength > MAX_INPUT_TOKENS:\n",
    "        # If so, start a new page\n",
    "        pages.append(current_page)\n",
    "        current_page = [curlink]\n",
    "        pagelength = curlength\n",
    "    else:\n",
    "        # Otherwise, add the string to the current page\n",
    "        current_page.append(curlink)\n",
    "        pagelength += curlength\n",
    "\n",
    "# add the last page if it's not empty\n",
    "if current_page:\n",
    "    pages.append(current_page)\n",
    "\n",
    "len(pages)"
   ]
  },
  {
   "cell_type": "code",
   "execution_count": 20,
   "id": "18bc60f8-8b90-4637-b884-b57aee1efb6f",
   "metadata": {},
   "outputs": [],
   "source": [
    "def get_response_json(\n",
    "    client,\n",
    "    messages,\n",
    "    verbose=False,\n",
    "    model=MODEL,\n",
    "    # max_input_tokens=MAX_INPUT_TOKENS,\n",
    "    max_output_tokens=MAX_OUTPUT_TOKENS,\n",
    "    max_retries=MAX_RETRIES,\n",
    "    temperature=TEMPERATURE,\n",
    "):\n",
    "    if type(messages) != list:  # allow passing one string for convenience\n",
    "        messages = [{\"role\": \"user\", \"content\": messages}]\n",
    "\n",
    "    if verbose:\n",
    "        print(\"\\n\".join([str(msg) for msg in messages]))\n",
    "\n",
    "    # truncate number of tokens\n",
    "    # retry loop, have received untrapped 500 errors like too busy\n",
    "    for i in range(max_retries):\n",
    "        if i > 0:\n",
    "            print(f\"Attempt {i+1}...\")\n",
    "        try:\n",
    "            response = client.chat.completions.create(\n",
    "                model=MODEL,\n",
    "                messages=messages,\n",
    "                temperature=0,\n",
    "                max_tokens=max_output_tokens,\n",
    "                response_format={\"type\": \"json_object\"},\n",
    "            )\n",
    "            # no exception thrown\n",
    "            return response\n",
    "        except Exception as error:\n",
    "            print(f\"An exception occurred on attempt {i+1}:\", error)\n",
    "            time.sleep(5)\n",
    "            continue  # try again\n",
    "        # retries exceeded if you got this far\n",
    "    print(\"Retries exceeded.\")\n",
    "    return None\n",
    "\n",
    "\n",
    "# messages = [\n",
    "#     {\n",
    "#         \"role\": \"system\",\n",
    "#         \"content\": \"You are a poetic assistant, skilled in explaining complex programming concepts with creative flair.\",\n",
    "#     },\n",
    "#     {\n",
    "#         \"role\": \"user\",\n",
    "#         \"content\": \"Compose a poem that explains the concept of recursion in programming, returning each verse as a json object.\",\n",
    "#     },\n",
    "# ]\n",
    "\n",
    "# response = get_response_json(client, messages)\n",
    "# response"
   ]
  },
  {
   "cell_type": "code",
   "execution_count": 21,
   "id": "46b54a3d-c29c-45e5-b984-d0580878337c",
   "metadata": {},
   "outputs": [
    {
     "data": {
      "text/plain": [
       "[Model(id='text-embedding-ada-002', created=1671217299, object='model', owned_by='openai-internal'),\n",
       " Model(id='whisper-1', created=1677532384, object='model', owned_by='openai-internal'),\n",
       " Model(id='gpt-3.5-turbo', created=1677610602, object='model', owned_by='openai'),\n",
       " Model(id='gpt-3.5-turbo-0301', created=1677649963, object='model', owned_by='openai'),\n",
       " Model(id='tts-1', created=1681940951, object='model', owned_by='openai-internal'),\n",
       " Model(id='gpt-3.5-turbo-16k', created=1683758102, object='model', owned_by='openai-internal'),\n",
       " Model(id='gpt-3.5-turbo-16k-0613', created=1685474247, object='model', owned_by='openai'),\n",
       " Model(id='gpt-3.5-turbo-0613', created=1686587434, object='model', owned_by='openai'),\n",
       " Model(id='gpt-4-0613', created=1686588896, object='model', owned_by='openai'),\n",
       " Model(id='gpt-4', created=1687882411, object='model', owned_by='openai'),\n",
       " Model(id='davinci-002', created=1692634301, object='model', owned_by='system'),\n",
       " Model(id='babbage-002', created=1692634615, object='model', owned_by='system'),\n",
       " Model(id='gpt-3.5-turbo-instruct', created=1692901427, object='model', owned_by='system'),\n",
       " Model(id='gpt-3.5-turbo-instruct-0914', created=1694122472, object='model', owned_by='system'),\n",
       " Model(id='dall-e-3', created=1698785189, object='model', owned_by='system'),\n",
       " Model(id='dall-e-2', created=1698798177, object='model', owned_by='system'),\n",
       " Model(id='gpt-4-vision-preview', created=1698894917, object='model', owned_by='system'),\n",
       " Model(id='gpt-4-1106-preview', created=1698957206, object='model', owned_by='system'),\n",
       " Model(id='gpt-3.5-turbo-1106', created=1698959748, object='model', owned_by='system'),\n",
       " Model(id='tts-1-hd', created=1699046015, object='model', owned_by='system'),\n",
       " Model(id='tts-1-1106', created=1699053241, object='model', owned_by='system'),\n",
       " Model(id='tts-1-hd-1106', created=1699053533, object='model', owned_by='system'),\n",
       " Model(id='text-embedding-3-small', created=1705948997, object='model', owned_by='system'),\n",
       " Model(id='text-embedding-3-large', created=1705953180, object='model', owned_by='system'),\n",
       " Model(id='gpt-4-0125-preview', created=1706037612, object='model', owned_by='system'),\n",
       " Model(id='gpt-4-turbo-preview', created=1706037777, object='model', owned_by='system'),\n",
       " Model(id='gpt-3.5-turbo-0125', created=1706048358, object='model', owned_by='system')]"
      ]
     },
     "execution_count": 21,
     "metadata": {},
     "output_type": "execute_result"
    }
   ],
   "source": [
    "models = sorted(openai.models.list(), key=lambda m: m.created)\n",
    "models"
   ]
  },
  {
   "cell_type": "code",
   "execution_count": 22,
   "id": "00f01351-4067-4bd7-9bfc-c975e56f6970",
   "metadata": {},
   "outputs": [],
   "source": [
    "prompt = \"\"\"\n",
    "You will act as a research assistant classifying news stories as related to artificial intelligence (AI) or unrelated to AI.\n",
    "\n",
    "Your task is to read JSON format objects from an input list of news stories using the schema below delimited by |, and output JSON format objects for each using the schema below delimited by ~.\n",
    "\n",
    "Define a list of objects representing news stories in JSON format as in the following example:\n",
    "|\n",
    "{'stories':\n",
    "[{'id': 97, 'title': 'AI to predict dementia, detect cancer'},\n",
    " {'id': 103,'title': 'Figure robot learns to make coffee by watching humans for 10 hours'},\n",
    " {'id': 103,'title': 'Baby trapped in refrigerator eats own foot'},\n",
    " {'id': 210,'title': 'ChatGPT removes, then reinstates a summarization assistant without explanation.'},\n",
    " {'id': 298,'title': 'The 5 most interesting PC monitors from CES 2024'},\n",
    " ]\n",
    "}\n",
    "|\n",
    "\n",
    "Based on the title, you will classify each story as being about AI or not.\n",
    "\n",
    "For each object, you will output the input id field, and a field named isAI which is true if the input title is about AI and false if the input title is not about AI.\n",
    "\n",
    "When extracting information please make sure it matches the JSON format below exactly. Do not output any attributes that do not appear in the schema below.\n",
    "~\n",
    "{'stories':\n",
    "[{'id': 97, 'isAI': true},\n",
    " {'id': 103, 'isAI': true},\n",
    " {'id': 103, 'isAI': false},\n",
    " {'id': 210, 'isAI': true},\n",
    " {'id': 298, 'isAI': false}]\n",
    "}\n",
    "~\n",
    "\n",
    "You may interpret the term AI broadly as pertaining to\n",
    "- machine learning models\n",
    "- large language models\n",
    "- robotics\n",
    "- reinforcement learning\n",
    "- computer vision\n",
    "- OpenAI\n",
    "- ChatGPT\n",
    "- other closely related topics.\n",
    "\n",
    "You will return an array of valid JSON objects.\n",
    "\n",
    "The field 'id' in the output must match the field 'id' in the input EXACTLY.\n",
    "\n",
    "The field 'isAI' must be either true or false.\n",
    "\n",
    "The list of news stories to classify and enrich is:\n",
    "\n",
    "\n",
    "\"\"\""
   ]
  },
  {
   "cell_type": "code",
   "execution_count": 23,
   "id": "ead5697a-db5c-4f49-ada2-fd5367c8203f",
   "metadata": {},
   "outputs": [
    {
     "data": {
      "text/plain": [
       "{'id': 0,\n",
       " 'title': 'macOS Sonoma 14.4.1 released to fix the stuff that the 14.4 update broke'}"
      ]
     },
     "execution_count": 23,
     "metadata": {},
     "output_type": "execute_result"
    }
   ],
   "source": [
    "pages[0][0]"
   ]
  },
  {
   "cell_type": "code",
   "execution_count": 24,
   "id": "a8119733-610b-45c7-a95c-25edf7bc7757",
   "metadata": {},
   "outputs": [
    {
     "name": "stdout",
     "output_type": "stream",
     "text": [
      "16:38:40 send page 1 of 3, 50 items \n",
      "16:39:17 got dict with 50 items \n",
      "16:39:17 send page 2 of 3, 50 items \n",
      "16:39:52 got dict with 50 items \n",
      "16:39:52 send page 3 of 3, 23 items \n",
      "16:40:07 got dict with 23 items \n"
     ]
    }
   ],
   "source": [
    "responses = []\n",
    "enriched_urls = []\n",
    "for i, p in enumerate(pages):\n",
    "    print(\n",
    "        f\"{datetime.now().strftime('%H:%M:%S')} send page {i+1} of {len(pages)}, {len(p)} items \"\n",
    "    )\n",
    "    # print(prompt + json.dumps(p))\n",
    "    response = get_response_json(client, prompt + json.dumps(p))\n",
    "    responses.append(response.choices[0].message.content)\n",
    "    retval = json.loads(responses[-1])\n",
    "    retlist = []\n",
    "    # usually comes back as a dict with a single arbitrary key like \"stories\" with a list value\n",
    "    if type(retval) == dict:\n",
    "        for k, v in retval.items():\n",
    "            if type(v) == list:\n",
    "                retlist.extend(v)\n",
    "            else:\n",
    "                retlist.append(v)\n",
    "        print(\n",
    "            f\"{datetime.now().strftime('%H:%M:%S')} got dict with {len(retlist)} items \"\n",
    "        )\n",
    "    elif type(retval) == list:  # in case it comes back as a list\n",
    "        retlist = retval\n",
    "        print(\n",
    "            f\"{datetime.now().strftime('%H:%M:%S')} got list with {len(retlist)} items \"\n",
    "        )\n",
    "    else:\n",
    "        print(str(type(retval)))\n",
    "    enriched_urls.extend(retlist)"
   ]
  },
  {
   "cell_type": "code",
   "execution_count": 25,
   "id": "97c87832-7661-46a7-824b-b7790fb00c39",
   "metadata": {},
   "outputs": [
    {
     "data": {
      "text/html": [
       "<div>\n",
       "<style scoped>\n",
       "    .dataframe tbody tr th:only-of-type {\n",
       "        vertical-align: middle;\n",
       "    }\n",
       "\n",
       "    .dataframe tbody tr th {\n",
       "        vertical-align: top;\n",
       "    }\n",
       "\n",
       "    .dataframe thead th {\n",
       "        text-align: right;\n",
       "    }\n",
       "</style>\n",
       "<table border=\"1\" class=\"dataframe\">\n",
       "  <thead>\n",
       "    <tr style=\"text-align: right;\">\n",
       "      <th></th>\n",
       "      <th>id</th>\n",
       "      <th>isAI</th>\n",
       "    </tr>\n",
       "  </thead>\n",
       "  <tbody>\n",
       "    <tr>\n",
       "      <th>0</th>\n",
       "      <td>0</td>\n",
       "      <td>False</td>\n",
       "    </tr>\n",
       "    <tr>\n",
       "      <th>1</th>\n",
       "      <td>5</td>\n",
       "      <td>True</td>\n",
       "    </tr>\n",
       "    <tr>\n",
       "      <th>2</th>\n",
       "      <td>6</td>\n",
       "      <td>False</td>\n",
       "    </tr>\n",
       "    <tr>\n",
       "      <th>3</th>\n",
       "      <td>33</td>\n",
       "      <td>False</td>\n",
       "    </tr>\n",
       "    <tr>\n",
       "      <th>4</th>\n",
       "      <td>55</td>\n",
       "      <td>True</td>\n",
       "    </tr>\n",
       "  </tbody>\n",
       "</table>\n",
       "</div>"
      ],
      "text/plain": [
       "   id   isAI\n",
       "0   0  False\n",
       "1   5   True\n",
       "2   6  False\n",
       "3  33  False\n",
       "4  55   True"
      ]
     },
     "execution_count": 25,
     "metadata": {},
     "output_type": "execute_result"
    }
   ],
   "source": [
    "enriched_df = pd.DataFrame(enriched_urls)\n",
    "enriched_df.head()"
   ]
  },
  {
   "cell_type": "code",
   "execution_count": 26,
   "id": "a073401c-8366-498e-a251-44b2341965e8",
   "metadata": {},
   "outputs": [
    {
     "name": "stdout",
     "output_type": "stream",
     "text": [
      "isAI 49\n",
      "not isAI 74\n"
     ]
    }
   ],
   "source": [
    "print(\"isAI\", len(enriched_df.loc[enriched_df[\"isAI\"]]))\n",
    "print(\"not isAI\", len(enriched_df.loc[~enriched_df[\"isAI\"]]))"
   ]
  },
  {
   "cell_type": "code",
   "execution_count": 27,
   "id": "9cce23b3-03b0-4751-8a5f-301f7dc86464",
   "metadata": {},
   "outputs": [
    {
     "data": {
      "text/html": [
       "<div>\n",
       "<style scoped>\n",
       "    .dataframe tbody tr th:only-of-type {\n",
       "        vertical-align: middle;\n",
       "    }\n",
       "\n",
       "    .dataframe tbody tr th {\n",
       "        vertical-align: top;\n",
       "    }\n",
       "\n",
       "    .dataframe thead th {\n",
       "        text-align: right;\n",
       "    }\n",
       "</style>\n",
       "<table border=\"1\" class=\"dataframe\">\n",
       "  <thead>\n",
       "    <tr style=\"text-align: right;\">\n",
       "      <th></th>\n",
       "      <th>id</th>\n",
       "      <th>src</th>\n",
       "      <th>title</th>\n",
       "      <th>url</th>\n",
       "      <th>isAI</th>\n",
       "      <th>date</th>\n",
       "    </tr>\n",
       "  </thead>\n",
       "  <tbody>\n",
       "    <tr>\n",
       "      <th>0</th>\n",
       "      <td>0</td>\n",
       "      <td>Ars Technica</td>\n",
       "      <td>macOS Sonoma 14.4.1 released to fix the stuff ...</td>\n",
       "      <td>https://arstechnica.com/gadgets/2024/03/macos-...</td>\n",
       "      <td>False</td>\n",
       "      <td>2024-03-25</td>\n",
       "    </tr>\n",
       "    <tr>\n",
       "      <th>1</th>\n",
       "      <td>5</td>\n",
       "      <td>Ars Technica</td>\n",
       "      <td>Where’d my results go? Google Search’s chatbot...</td>\n",
       "      <td>https://arstechnica.com/gadgets/2024/03/google...</td>\n",
       "      <td>True</td>\n",
       "      <td>2024-03-25</td>\n",
       "    </tr>\n",
       "    <tr>\n",
       "      <th>2</th>\n",
       "      <td>6</td>\n",
       "      <td>Ars Technica</td>\n",
       "      <td>Mozilla’s privacy service drops a provider wit...</td>\n",
       "      <td>https://arstechnica.com/gadgets/2024/03/mozill...</td>\n",
       "      <td>False</td>\n",
       "      <td>2024-03-25</td>\n",
       "    </tr>\n",
       "    <tr>\n",
       "      <th>3</th>\n",
       "      <td>33</td>\n",
       "      <td>Bloomberg Tech</td>\n",
       "      <td>Florida Bans Social Media for Kids Under 14</td>\n",
       "      <td>https://www.bloomberg.com/news/articles/2024-0...</td>\n",
       "      <td>False</td>\n",
       "      <td>2024-03-25</td>\n",
       "    </tr>\n",
       "    <tr>\n",
       "      <th>4</th>\n",
       "      <td>55</td>\n",
       "      <td>Business Insider</td>\n",
       "      <td>Watch Neuralink's first human patient play 'Ma...</td>\n",
       "      <td>https://www.businessinsider.com/neuralink-mari...</td>\n",
       "      <td>True</td>\n",
       "      <td>2024-03-25</td>\n",
       "    </tr>\n",
       "  </tbody>\n",
       "</table>\n",
       "</div>"
      ],
      "text/plain": [
       "   id               src                                              title  \\\n",
       "0   0      Ars Technica  macOS Sonoma 14.4.1 released to fix the stuff ...   \n",
       "1   5      Ars Technica  Where’d my results go? Google Search’s chatbot...   \n",
       "2   6      Ars Technica  Mozilla’s privacy service drops a provider wit...   \n",
       "3  33    Bloomberg Tech        Florida Bans Social Media for Kids Under 14   \n",
       "4  55  Business Insider  Watch Neuralink's first human patient play 'Ma...   \n",
       "\n",
       "                                                 url   isAI        date  \n",
       "0  https://arstechnica.com/gadgets/2024/03/macos-...  False  2024-03-25  \n",
       "1  https://arstechnica.com/gadgets/2024/03/google...   True  2024-03-25  \n",
       "2  https://arstechnica.com/gadgets/2024/03/mozill...  False  2024-03-25  \n",
       "3  https://www.bloomberg.com/news/articles/2024-0...  False  2024-03-25  \n",
       "4  https://www.businessinsider.com/neuralink-mari...   True  2024-03-25  "
      ]
     },
     "execution_count": 27,
     "metadata": {},
     "output_type": "execute_result"
    }
   ],
   "source": [
    "merged_df = pd.merge(filtered_df, enriched_df, on=\"id\", how=\"outer\")\n",
    "merged_df['date']=datetime.now().date()\n",
    "merged_df.head()"
   ]
  },
  {
   "cell_type": "code",
   "execution_count": 28,
   "id": "03906d38-001a-4b20-83f7-caa468256098",
   "metadata": {},
   "outputs": [
    {
     "data": {
      "text/html": [
       "<div>\n",
       "<style scoped>\n",
       "    .dataframe tbody tr th:only-of-type {\n",
       "        vertical-align: middle;\n",
       "    }\n",
       "\n",
       "    .dataframe tbody tr th {\n",
       "        vertical-align: top;\n",
       "    }\n",
       "\n",
       "    .dataframe thead th {\n",
       "        text-align: right;\n",
       "    }\n",
       "</style>\n",
       "<table border=\"1\" class=\"dataframe\">\n",
       "  <thead>\n",
       "    <tr style=\"text-align: right;\">\n",
       "      <th></th>\n",
       "      <th>id</th>\n",
       "      <th>src</th>\n",
       "      <th>title</th>\n",
       "      <th>url</th>\n",
       "      <th>isAI</th>\n",
       "      <th>date</th>\n",
       "    </tr>\n",
       "  </thead>\n",
       "  <tbody>\n",
       "  </tbody>\n",
       "</table>\n",
       "</div>"
      ],
      "text/plain": [
       "Empty DataFrame\n",
       "Columns: [id, src, title, url, isAI, date]\n",
       "Index: []"
      ]
     },
     "execution_count": 28,
     "metadata": {},
     "output_type": "execute_result"
    }
   ],
   "source": [
    "# ideally should be empty, shouldn't get back rows that don't match to existing\n",
    "merged_df.loc[merged_df[\"src\"].isna()]"
   ]
  },
  {
   "cell_type": "code",
   "execution_count": 29,
   "id": "47d8da7e-6553-4731-81b8-4e5cddeb0d38",
   "metadata": {},
   "outputs": [
    {
     "data": {
      "text/html": [
       "<div>\n",
       "<style scoped>\n",
       "    .dataframe tbody tr th:only-of-type {\n",
       "        vertical-align: middle;\n",
       "    }\n",
       "\n",
       "    .dataframe tbody tr th {\n",
       "        vertical-align: top;\n",
       "    }\n",
       "\n",
       "    .dataframe thead th {\n",
       "        text-align: right;\n",
       "    }\n",
       "</style>\n",
       "<table border=\"1\" class=\"dataframe\">\n",
       "  <thead>\n",
       "    <tr style=\"text-align: right;\">\n",
       "      <th></th>\n",
       "      <th>id</th>\n",
       "      <th>src</th>\n",
       "      <th>title</th>\n",
       "      <th>url</th>\n",
       "      <th>isAI</th>\n",
       "      <th>date</th>\n",
       "    </tr>\n",
       "  </thead>\n",
       "  <tbody>\n",
       "  </tbody>\n",
       "</table>\n",
       "</div>"
      ],
      "text/plain": [
       "Empty DataFrame\n",
       "Columns: [id, src, title, url, isAI, date]\n",
       "Index: []"
      ]
     },
     "execution_count": 29,
     "metadata": {},
     "output_type": "execute_result"
    }
   ],
   "source": [
    "# ideally should be empty, should get back all rows from orig\n",
    "merged_df.loc[merged_df[\"isAI\"].isna()]"
   ]
  },
  {
   "cell_type": "code",
   "execution_count": 30,
   "id": "b84f216b-39e2-48f2-a87a-513bebaacb06",
   "metadata": {},
   "outputs": [],
   "source": [
    "# # Connect to SQLite database\n",
    "conn = sqlite3.connect('articles.db')\n",
    "cursor = conn.cursor()\n",
    "\n",
    "# # Create table with a date column\n",
    "# cursor.execute('''\n",
    "# CREATE TABLE IF NOT EXISTS news_articles (\n",
    "#     id INTEGER PRIMARY KEY,\n",
    "#     src TEXT,\n",
    "#     title TEXT,\n",
    "#     url TEXT UNIQUE,\n",
    "#     isAI BOOLEAN,\n",
    "#     article_date DATE\n",
    "# )\n",
    "# ''')\n",
    "# conn.commit()\n",
    "# conn.close()"
   ]
  },
  {
   "cell_type": "code",
   "execution_count": 31,
   "id": "b0539856-30df-4420-a192-4f70104f68ff",
   "metadata": {},
   "outputs": [],
   "source": [
    "# Function to insert a new article\n",
    "def insert_article(cursor, src, title, url, isAI, article_date):\n",
    "    try:\n",
    "        cursor.execute(\"INSERT OR IGNORE INTO news_articles (src, title, url, isAI, article_date) VALUES (?, ?, ?, ?, ?)\",\n",
    "                       (src, title, url, isAI, article_date))\n",
    "        conn.commit()\n",
    "    except sqlite3.IntegrityError:\n",
    "        print(f\"Duplicate entry for URL: {url}\")\n",
    "    except Exception as err:\n",
    "        print(err)"
   ]
  },
  {
   "cell_type": "code",
   "execution_count": 32,
   "id": "64926d99-f0ce-475b-8f4e-7e9e69d494e1",
   "metadata": {},
   "outputs": [
    {
     "data": {
      "text/html": [
       "<div>\n",
       "<style scoped>\n",
       "    .dataframe tbody tr th:only-of-type {\n",
       "        vertical-align: middle;\n",
       "    }\n",
       "\n",
       "    .dataframe tbody tr th {\n",
       "        vertical-align: top;\n",
       "    }\n",
       "\n",
       "    .dataframe thead th {\n",
       "        text-align: right;\n",
       "    }\n",
       "</style>\n",
       "<table border=\"1\" class=\"dataframe\">\n",
       "  <thead>\n",
       "    <tr style=\"text-align: right;\">\n",
       "      <th></th>\n",
       "      <th>count(*)</th>\n",
       "    </tr>\n",
       "  </thead>\n",
       "  <tbody>\n",
       "    <tr>\n",
       "      <th>0</th>\n",
       "      <td>27689</td>\n",
       "    </tr>\n",
       "  </tbody>\n",
       "</table>\n",
       "</div>"
      ],
      "text/plain": [
       "   count(*)\n",
       "0     27689"
      ]
     },
     "execution_count": 32,
     "metadata": {},
     "output_type": "execute_result"
    }
   ],
   "source": [
    "pd.read_sql_query(\"select count(*) from news_articles\", conn)\n"
   ]
  },
  {
   "cell_type": "code",
   "execution_count": 33,
   "id": "34579779-7fee-4b3c-b9c6-07d9a43420b6",
   "metadata": {},
   "outputs": [],
   "source": [
    "for row in merged_df.itertuples():\n",
    "    # print(row)\n",
    "    insert_article(cursor, row.src, row.title, row.url, row.isAI, row.date)\n"
   ]
  },
  {
   "cell_type": "code",
   "execution_count": 34,
   "id": "d3ef5f42-5d1f-4e24-85e3-17f6c8b7f4ca",
   "metadata": {},
   "outputs": [
    {
     "data": {
      "text/html": [
       "<div>\n",
       "<style scoped>\n",
       "    .dataframe tbody tr th:only-of-type {\n",
       "        vertical-align: middle;\n",
       "    }\n",
       "\n",
       "    .dataframe tbody tr th {\n",
       "        vertical-align: top;\n",
       "    }\n",
       "\n",
       "    .dataframe thead th {\n",
       "        text-align: right;\n",
       "    }\n",
       "</style>\n",
       "<table border=\"1\" class=\"dataframe\">\n",
       "  <thead>\n",
       "    <tr style=\"text-align: right;\">\n",
       "      <th></th>\n",
       "      <th>count(*)</th>\n",
       "    </tr>\n",
       "  </thead>\n",
       "  <tbody>\n",
       "    <tr>\n",
       "      <th>0</th>\n",
       "      <td>27812</td>\n",
       "    </tr>\n",
       "  </tbody>\n",
       "</table>\n",
       "</div>"
      ],
      "text/plain": [
       "   count(*)\n",
       "0     27812"
      ]
     },
     "execution_count": 34,
     "metadata": {},
     "output_type": "execute_result"
    }
   ],
   "source": [
    "pd.read_sql_query(\"select count(*) from news_articles\", conn)\n"
   ]
  },
  {
   "cell_type": "code",
   "execution_count": 35,
   "id": "335e9b0f-52b2-4da1-9628-d17da20514bd",
   "metadata": {},
   "outputs": [
    {
     "data": {
      "text/html": [
       "<div>\n",
       "<style scoped>\n",
       "    .dataframe tbody tr th:only-of-type {\n",
       "        vertical-align: middle;\n",
       "    }\n",
       "\n",
       "    .dataframe tbody tr th {\n",
       "        vertical-align: top;\n",
       "    }\n",
       "\n",
       "    .dataframe thead th {\n",
       "        text-align: right;\n",
       "    }\n",
       "</style>\n",
       "<table border=\"1\" class=\"dataframe\">\n",
       "  <thead>\n",
       "    <tr style=\"text-align: right;\">\n",
       "      <th></th>\n",
       "      <th>id</th>\n",
       "      <th>src</th>\n",
       "      <th>title</th>\n",
       "      <th>url</th>\n",
       "      <th>isAI</th>\n",
       "      <th>article_date</th>\n",
       "    </tr>\n",
       "  </thead>\n",
       "  <tbody>\n",
       "    <tr>\n",
       "      <th>0</th>\n",
       "      <td>1</td>\n",
       "      <td>Ars Technica</td>\n",
       "      <td>OnePlus 12 gets $800 US release along with the...</td>\n",
       "      <td>https://arstechnica.com/gadgets/2024/01/oneplu...</td>\n",
       "      <td>0</td>\n",
       "      <td>2024-01-24</td>\n",
       "    </tr>\n",
       "    <tr>\n",
       "      <th>1</th>\n",
       "      <td>2</td>\n",
       "      <td>Ars Technica</td>\n",
       "      <td>Chrome can now organize your tab bar for you</td>\n",
       "      <td>https://arstechnica.com/gadgets/2024/01/chrome...</td>\n",
       "      <td>0</td>\n",
       "      <td>2024-01-24</td>\n",
       "    </tr>\n",
       "    <tr>\n",
       "      <th>2</th>\n",
       "      <td>3</td>\n",
       "      <td>Ars Technica</td>\n",
       "      <td>HP CEO evokes James Bond-style hack via ink ca...</td>\n",
       "      <td>https://arstechnica.com/gadgets/2024/01/hp-ceo...</td>\n",
       "      <td>0</td>\n",
       "      <td>2024-01-24</td>\n",
       "    </tr>\n",
       "    <tr>\n",
       "      <th>3</th>\n",
       "      <td>4</td>\n",
       "      <td>Ars Technica</td>\n",
       "      <td>iOS 17.3 adds multiple features originally pla...</td>\n",
       "      <td>https://arstechnica.com/gadgets/2024/01/ios-17...</td>\n",
       "      <td>0</td>\n",
       "      <td>2024-01-24</td>\n",
       "    </tr>\n",
       "    <tr>\n",
       "      <th>4</th>\n",
       "      <td>5</td>\n",
       "      <td>Ars Technica</td>\n",
       "      <td>Wild Apples: The 12 weirdest and rarest Macs e...</td>\n",
       "      <td>https://arstechnica.com/gadgets/2024/01/macint...</td>\n",
       "      <td>0</td>\n",
       "      <td>2024-01-24</td>\n",
       "    </tr>\n",
       "    <tr>\n",
       "      <th>...</th>\n",
       "      <td>...</td>\n",
       "      <td>...</td>\n",
       "      <td>...</td>\n",
       "      <td>...</td>\n",
       "      <td>...</td>\n",
       "      <td>...</td>\n",
       "    </tr>\n",
       "    <tr>\n",
       "      <th>27807</th>\n",
       "      <td>27808</td>\n",
       "      <td>Techmeme</td>\n",
       "      <td>Global Screening Services, which is developing...</td>\n",
       "      <td>https://techcrunch.com/2024/03/25/london-regte...</td>\n",
       "      <td>0</td>\n",
       "      <td>2024-03-25</td>\n",
       "    </tr>\n",
       "    <tr>\n",
       "      <th>27808</th>\n",
       "      <td>27809</td>\n",
       "      <td>The Register</td>\n",
       "      <td>Twitter's lawsuit against anti-hate-speech cru...</td>\n",
       "      <td>https://www.theregister.com/2024/03/25/musk_la...</td>\n",
       "      <td>0</td>\n",
       "      <td>2024-03-25</td>\n",
       "    </tr>\n",
       "    <tr>\n",
       "      <th>27809</th>\n",
       "      <td>27810</td>\n",
       "      <td>The Register</td>\n",
       "      <td>As AI booms, land near nuclear power plants be...</td>\n",
       "      <td>https://www.theregister.com/2024/03/25/ai_boom...</td>\n",
       "      <td>1</td>\n",
       "      <td>2024-03-25</td>\n",
       "    </tr>\n",
       "    <tr>\n",
       "      <th>27810</th>\n",
       "      <td>27811</td>\n",
       "      <td>WSJ Tech</td>\n",
       "      <td>Biden Wants to Put AI on a Leash</td>\n",
       "      <td>https://www.wsj.com/articles/biden-wants-to-pu...</td>\n",
       "      <td>1</td>\n",
       "      <td>2024-03-25</td>\n",
       "    </tr>\n",
       "    <tr>\n",
       "      <th>27811</th>\n",
       "      <td>27812</td>\n",
       "      <td>WaPo Tech</td>\n",
       "      <td>Florida latest to restrict social media for ki...</td>\n",
       "      <td>https://www.washingtonpost.com/politics/2024/0...</td>\n",
       "      <td>0</td>\n",
       "      <td>2024-03-25</td>\n",
       "    </tr>\n",
       "  </tbody>\n",
       "</table>\n",
       "<p>27812 rows × 6 columns</p>\n",
       "</div>"
      ],
      "text/plain": [
       "          id           src                                              title  \\\n",
       "0          1  Ars Technica  OnePlus 12 gets $800 US release along with the...   \n",
       "1          2  Ars Technica       Chrome can now organize your tab bar for you   \n",
       "2          3  Ars Technica  HP CEO evokes James Bond-style hack via ink ca...   \n",
       "3          4  Ars Technica  iOS 17.3 adds multiple features originally pla...   \n",
       "4          5  Ars Technica  Wild Apples: The 12 weirdest and rarest Macs e...   \n",
       "...      ...           ...                                                ...   \n",
       "27807  27808      Techmeme  Global Screening Services, which is developing...   \n",
       "27808  27809  The Register  Twitter's lawsuit against anti-hate-speech cru...   \n",
       "27809  27810  The Register  As AI booms, land near nuclear power plants be...   \n",
       "27810  27811      WSJ Tech                   Biden Wants to Put AI on a Leash   \n",
       "27811  27812     WaPo Tech  Florida latest to restrict social media for ki...   \n",
       "\n",
       "                                                     url  isAI article_date  \n",
       "0      https://arstechnica.com/gadgets/2024/01/oneplu...     0   2024-01-24  \n",
       "1      https://arstechnica.com/gadgets/2024/01/chrome...     0   2024-01-24  \n",
       "2      https://arstechnica.com/gadgets/2024/01/hp-ceo...     0   2024-01-24  \n",
       "3      https://arstechnica.com/gadgets/2024/01/ios-17...     0   2024-01-24  \n",
       "4      https://arstechnica.com/gadgets/2024/01/macint...     0   2024-01-24  \n",
       "...                                                  ...   ...          ...  \n",
       "27807  https://techcrunch.com/2024/03/25/london-regte...     0   2024-03-25  \n",
       "27808  https://www.theregister.com/2024/03/25/musk_la...     0   2024-03-25  \n",
       "27809  https://www.theregister.com/2024/03/25/ai_boom...     1   2024-03-25  \n",
       "27810  https://www.wsj.com/articles/biden-wants-to-pu...     1   2024-03-25  \n",
       "27811  https://www.washingtonpost.com/politics/2024/0...     0   2024-03-25  \n",
       "\n",
       "[27812 rows x 6 columns]"
      ]
     },
     "execution_count": 35,
     "metadata": {},
     "output_type": "execute_result"
    }
   ],
   "source": [
    "df = pd.read_sql_query(\"select * from news_articles\", conn)\n",
    "df\n"
   ]
  },
  {
   "cell_type": "code",
   "execution_count": 36,
   "id": "4916dac6",
   "metadata": {},
   "outputs": [
    {
     "data": {
      "text/plain": [
       "49"
      ]
     },
     "execution_count": 36,
     "metadata": {},
     "output_type": "execute_result"
    }
   ],
   "source": [
    "len(merged_df.loc[merged_df[\"isAI\"]])"
   ]
  },
  {
   "cell_type": "code",
   "execution_count": 38,
   "id": "9d4c9c78-9c58-482b-b7d9-427ed82d9746",
   "metadata": {
    "scrolled": true
   },
   "outputs": [],
   "source": [
    "AIdf = merged_df.loc[merged_df[\"isAI\"]].reset_index()\n"
   ]
  },
  {
   "cell_type": "code",
   "execution_count": 39,
   "id": "c3d649c1-3776-436d-86fe-712fe3fb3a82",
   "metadata": {},
   "outputs": [],
   "source": [
    "# Attempt to order by topic by getting embeddings and solving a traveling salesman problem\n",
    "embedding_model = 'text-embedding-3-small'\n",
    "response = client.embeddings.create(input=AIdf['title'].tolist(),\n",
    "                                    model=embedding_model)\n",
    "embedding_list = response.data"
   ]
  },
  {
   "cell_type": "code",
   "execution_count": 41,
   "id": "3f1074ce-5b31-470b-b962-3782dd8d2815",
   "metadata": {},
   "outputs": [
    {
     "data": {
      "text/html": [
       "<div>\n",
       "<style scoped>\n",
       "    .dataframe tbody tr th:only-of-type {\n",
       "        vertical-align: middle;\n",
       "    }\n",
       "\n",
       "    .dataframe tbody tr th {\n",
       "        vertical-align: top;\n",
       "    }\n",
       "\n",
       "    .dataframe thead th {\n",
       "        text-align: right;\n",
       "    }\n",
       "</style>\n",
       "<table border=\"1\" class=\"dataframe\">\n",
       "  <thead>\n",
       "    <tr style=\"text-align: right;\">\n",
       "      <th></th>\n",
       "      <th>0</th>\n",
       "      <th>1</th>\n",
       "      <th>2</th>\n",
       "      <th>3</th>\n",
       "      <th>4</th>\n",
       "      <th>5</th>\n",
       "      <th>6</th>\n",
       "      <th>7</th>\n",
       "      <th>8</th>\n",
       "      <th>9</th>\n",
       "      <th>...</th>\n",
       "      <th>1526</th>\n",
       "      <th>1527</th>\n",
       "      <th>1528</th>\n",
       "      <th>1529</th>\n",
       "      <th>1530</th>\n",
       "      <th>1531</th>\n",
       "      <th>1532</th>\n",
       "      <th>1533</th>\n",
       "      <th>1534</th>\n",
       "      <th>1535</th>\n",
       "    </tr>\n",
       "  </thead>\n",
       "  <tbody>\n",
       "    <tr>\n",
       "      <th>0</th>\n",
       "      <td>0.015461</td>\n",
       "      <td>0.012258</td>\n",
       "      <td>-0.007253</td>\n",
       "      <td>0.027221</td>\n",
       "      <td>-0.006102</td>\n",
       "      <td>-0.029872</td>\n",
       "      <td>-0.043354</td>\n",
       "      <td>0.028042</td>\n",
       "      <td>-0.040905</td>\n",
       "      <td>-0.028499</td>\n",
       "      <td>...</td>\n",
       "      <td>-0.043542</td>\n",
       "      <td>0.045830</td>\n",
       "      <td>-0.012056</td>\n",
       "      <td>0.021529</td>\n",
       "      <td>-0.013456</td>\n",
       "      <td>0.025606</td>\n",
       "      <td>0.016227</td>\n",
       "      <td>-0.020345</td>\n",
       "      <td>0.027059</td>\n",
       "      <td>-0.035335</td>\n",
       "    </tr>\n",
       "    <tr>\n",
       "      <th>1</th>\n",
       "      <td>-0.005895</td>\n",
       "      <td>-0.015760</td>\n",
       "      <td>-0.050894</td>\n",
       "      <td>0.024071</td>\n",
       "      <td>-0.012657</td>\n",
       "      <td>-0.050576</td>\n",
       "      <td>0.024097</td>\n",
       "      <td>0.054519</td>\n",
       "      <td>0.018844</td>\n",
       "      <td>-0.003364</td>\n",
       "      <td>...</td>\n",
       "      <td>-0.017639</td>\n",
       "      <td>-0.004999</td>\n",
       "      <td>-0.031150</td>\n",
       "      <td>-0.027710</td>\n",
       "      <td>0.028345</td>\n",
       "      <td>-0.009356</td>\n",
       "      <td>0.021477</td>\n",
       "      <td>0.015602</td>\n",
       "      <td>-0.021398</td>\n",
       "      <td>0.007477</td>\n",
       "    </tr>\n",
       "    <tr>\n",
       "      <th>2</th>\n",
       "      <td>0.003589</td>\n",
       "      <td>-0.030053</td>\n",
       "      <td>0.000990</td>\n",
       "      <td>0.026293</td>\n",
       "      <td>0.035650</td>\n",
       "      <td>-0.014030</td>\n",
       "      <td>-0.000468</td>\n",
       "      <td>0.047213</td>\n",
       "      <td>0.017203</td>\n",
       "      <td>0.002332</td>\n",
       "      <td>...</td>\n",
       "      <td>-0.027565</td>\n",
       "      <td>0.037940</td>\n",
       "      <td>0.020101</td>\n",
       "      <td>0.004591</td>\n",
       "      <td>0.019734</td>\n",
       "      <td>0.042436</td>\n",
       "      <td>0.029035</td>\n",
       "      <td>-0.015111</td>\n",
       "      <td>0.004280</td>\n",
       "      <td>0.041276</td>\n",
       "    </tr>\n",
       "    <tr>\n",
       "      <th>3</th>\n",
       "      <td>-0.049665</td>\n",
       "      <td>-0.011553</td>\n",
       "      <td>-0.032403</td>\n",
       "      <td>0.027836</td>\n",
       "      <td>-0.033681</td>\n",
       "      <td>-0.044011</td>\n",
       "      <td>-0.042625</td>\n",
       "      <td>0.023446</td>\n",
       "      <td>0.011696</td>\n",
       "      <td>0.006528</td>\n",
       "      <td>...</td>\n",
       "      <td>-0.031262</td>\n",
       "      <td>0.028435</td>\n",
       "      <td>-0.022862</td>\n",
       "      <td>0.050318</td>\n",
       "      <td>0.022835</td>\n",
       "      <td>0.002538</td>\n",
       "      <td>0.043032</td>\n",
       "      <td>0.009569</td>\n",
       "      <td>-0.028407</td>\n",
       "      <td>0.016324</td>\n",
       "    </tr>\n",
       "    <tr>\n",
       "      <th>4</th>\n",
       "      <td>-0.014670</td>\n",
       "      <td>-0.002271</td>\n",
       "      <td>-0.010692</td>\n",
       "      <td>0.021591</td>\n",
       "      <td>0.021329</td>\n",
       "      <td>-0.048696</td>\n",
       "      <td>0.027050</td>\n",
       "      <td>0.002745</td>\n",
       "      <td>0.027064</td>\n",
       "      <td>-0.035185</td>\n",
       "      <td>...</td>\n",
       "      <td>-0.015331</td>\n",
       "      <td>-0.010106</td>\n",
       "      <td>-0.033227</td>\n",
       "      <td>0.007990</td>\n",
       "      <td>0.035736</td>\n",
       "      <td>0.027754</td>\n",
       "      <td>-0.035709</td>\n",
       "      <td>-0.009168</td>\n",
       "      <td>0.002756</td>\n",
       "      <td>0.019440</td>\n",
       "    </tr>\n",
       "    <tr>\n",
       "      <th>5</th>\n",
       "      <td>0.043282</td>\n",
       "      <td>0.005489</td>\n",
       "      <td>0.018624</td>\n",
       "      <td>0.006045</td>\n",
       "      <td>-0.002691</td>\n",
       "      <td>-0.034264</td>\n",
       "      <td>0.022436</td>\n",
       "      <td>0.023111</td>\n",
       "      <td>0.012939</td>\n",
       "      <td>-0.044610</td>\n",
       "      <td>...</td>\n",
       "      <td>-0.012928</td>\n",
       "      <td>0.029929</td>\n",
       "      <td>0.004770</td>\n",
       "      <td>0.031977</td>\n",
       "      <td>0.001162</td>\n",
       "      <td>0.044022</td>\n",
       "      <td>0.008217</td>\n",
       "      <td>-0.015466</td>\n",
       "      <td>-0.015781</td>\n",
       "      <td>0.006644</td>\n",
       "    </tr>\n",
       "    <tr>\n",
       "      <th>6</th>\n",
       "      <td>0.005771</td>\n",
       "      <td>0.002485</td>\n",
       "      <td>0.014066</td>\n",
       "      <td>-0.019889</td>\n",
       "      <td>0.003481</td>\n",
       "      <td>0.015826</td>\n",
       "      <td>-0.004927</td>\n",
       "      <td>0.026489</td>\n",
       "      <td>-0.105387</td>\n",
       "      <td>0.048475</td>\n",
       "      <td>...</td>\n",
       "      <td>-0.015166</td>\n",
       "      <td>0.027848</td>\n",
       "      <td>-0.056161</td>\n",
       "      <td>-0.034473</td>\n",
       "      <td>-0.059319</td>\n",
       "      <td>-0.003400</td>\n",
       "      <td>0.015140</td>\n",
       "      <td>-0.019009</td>\n",
       "      <td>0.010993</td>\n",
       "      <td>0.013089</td>\n",
       "    </tr>\n",
       "    <tr>\n",
       "      <th>7</th>\n",
       "      <td>-0.019223</td>\n",
       "      <td>-0.031310</td>\n",
       "      <td>0.027770</td>\n",
       "      <td>0.037578</td>\n",
       "      <td>0.000839</td>\n",
       "      <td>-0.047345</td>\n",
       "      <td>-0.008268</td>\n",
       "      <td>0.033589</td>\n",
       "      <td>-0.002976</td>\n",
       "      <td>-0.009564</td>\n",
       "      <td>...</td>\n",
       "      <td>-0.057357</td>\n",
       "      <td>0.024758</td>\n",
       "      <td>-0.015465</td>\n",
       "      <td>0.039531</td>\n",
       "      <td>0.034295</td>\n",
       "      <td>0.035461</td>\n",
       "      <td>0.029655</td>\n",
       "      <td>0.009700</td>\n",
       "      <td>-0.008947</td>\n",
       "      <td>0.003632</td>\n",
       "    </tr>\n",
       "    <tr>\n",
       "      <th>8</th>\n",
       "      <td>0.032998</td>\n",
       "      <td>0.010429</td>\n",
       "      <td>-0.000487</td>\n",
       "      <td>0.008406</td>\n",
       "      <td>-0.022425</td>\n",
       "      <td>-0.032815</td>\n",
       "      <td>-0.018339</td>\n",
       "      <td>0.022921</td>\n",
       "      <td>-0.010788</td>\n",
       "      <td>0.015624</td>\n",
       "      <td>...</td>\n",
       "      <td>-0.013229</td>\n",
       "      <td>0.078736</td>\n",
       "      <td>-0.020141</td>\n",
       "      <td>0.006788</td>\n",
       "      <td>-0.002888</td>\n",
       "      <td>0.030648</td>\n",
       "      <td>-0.005410</td>\n",
       "      <td>-0.001450</td>\n",
       "      <td>0.008302</td>\n",
       "      <td>0.001384</td>\n",
       "    </tr>\n",
       "    <tr>\n",
       "      <th>9</th>\n",
       "      <td>-0.011970</td>\n",
       "      <td>-0.021761</td>\n",
       "      <td>0.018384</td>\n",
       "      <td>0.050300</td>\n",
       "      <td>0.025029</td>\n",
       "      <td>-0.045749</td>\n",
       "      <td>-0.018009</td>\n",
       "      <td>0.035413</td>\n",
       "      <td>0.022681</td>\n",
       "      <td>0.053350</td>\n",
       "      <td>...</td>\n",
       "      <td>-0.043038</td>\n",
       "      <td>0.036261</td>\n",
       "      <td>-0.023795</td>\n",
       "      <td>0.044491</td>\n",
       "      <td>0.001530</td>\n",
       "      <td>0.004787</td>\n",
       "      <td>0.050542</td>\n",
       "      <td>-0.014027</td>\n",
       "      <td>-0.026385</td>\n",
       "      <td>0.047105</td>\n",
       "    </tr>\n",
       "    <tr>\n",
       "      <th>10</th>\n",
       "      <td>-0.012567</td>\n",
       "      <td>-0.004998</td>\n",
       "      <td>0.012618</td>\n",
       "      <td>-0.007111</td>\n",
       "      <td>-0.028393</td>\n",
       "      <td>-0.068484</td>\n",
       "      <td>0.008103</td>\n",
       "      <td>0.050371</td>\n",
       "      <td>-0.036071</td>\n",
       "      <td>0.022029</td>\n",
       "      <td>...</td>\n",
       "      <td>0.017018</td>\n",
       "      <td>0.002406</td>\n",
       "      <td>-0.045450</td>\n",
       "      <td>0.031743</td>\n",
       "      <td>0.002915</td>\n",
       "      <td>0.037669</td>\n",
       "      <td>-0.017572</td>\n",
       "      <td>-0.042719</td>\n",
       "      <td>-0.005636</td>\n",
       "      <td>0.009391</td>\n",
       "    </tr>\n",
       "    <tr>\n",
       "      <th>11</th>\n",
       "      <td>-0.015340</td>\n",
       "      <td>-0.054657</td>\n",
       "      <td>0.014595</td>\n",
       "      <td>0.017990</td>\n",
       "      <td>0.031052</td>\n",
       "      <td>-0.051620</td>\n",
       "      <td>-0.024650</td>\n",
       "      <td>0.049701</td>\n",
       "      <td>0.055774</td>\n",
       "      <td>-0.033115</td>\n",
       "      <td>...</td>\n",
       "      <td>-0.024664</td>\n",
       "      <td>0.035034</td>\n",
       "      <td>0.040792</td>\n",
       "      <td>0.009331</td>\n",
       "      <td>0.020095</td>\n",
       "      <td>0.040792</td>\n",
       "      <td>-0.004476</td>\n",
       "      <td>-0.016386</td>\n",
       "      <td>0.009833</td>\n",
       "      <td>0.028804</td>\n",
       "    </tr>\n",
       "    <tr>\n",
       "      <th>12</th>\n",
       "      <td>0.001586</td>\n",
       "      <td>-0.058190</td>\n",
       "      <td>0.034900</td>\n",
       "      <td>0.009220</td>\n",
       "      <td>0.055669</td>\n",
       "      <td>-0.045319</td>\n",
       "      <td>-0.013681</td>\n",
       "      <td>0.052474</td>\n",
       "      <td>-0.000415</td>\n",
       "      <td>-0.050719</td>\n",
       "      <td>...</td>\n",
       "      <td>0.006751</td>\n",
       "      <td>0.026215</td>\n",
       "      <td>-0.018598</td>\n",
       "      <td>0.035035</td>\n",
       "      <td>0.036093</td>\n",
       "      <td>0.026057</td>\n",
       "      <td>0.014322</td>\n",
       "      <td>0.001930</td>\n",
       "      <td>-0.044261</td>\n",
       "      <td>0.024009</td>\n",
       "    </tr>\n",
       "    <tr>\n",
       "      <th>13</th>\n",
       "      <td>0.013422</td>\n",
       "      <td>-0.043632</td>\n",
       "      <td>0.008117</td>\n",
       "      <td>0.038479</td>\n",
       "      <td>0.010631</td>\n",
       "      <td>-0.005066</td>\n",
       "      <td>-0.040363</td>\n",
       "      <td>0.023755</td>\n",
       "      <td>0.021677</td>\n",
       "      <td>-0.050087</td>\n",
       "      <td>...</td>\n",
       "      <td>-0.016691</td>\n",
       "      <td>0.031747</td>\n",
       "      <td>0.041721</td>\n",
       "      <td>0.009897</td>\n",
       "      <td>0.022661</td>\n",
       "      <td>0.049145</td>\n",
       "      <td>0.002606</td>\n",
       "      <td>-0.024088</td>\n",
       "      <td>-0.018976</td>\n",
       "      <td>0.031249</td>\n",
       "    </tr>\n",
       "    <tr>\n",
       "      <th>14</th>\n",
       "      <td>-0.013692</td>\n",
       "      <td>-0.035081</td>\n",
       "      <td>0.052028</td>\n",
       "      <td>0.017461</td>\n",
       "      <td>0.025737</td>\n",
       "      <td>-0.036899</td>\n",
       "      <td>-0.033789</td>\n",
       "      <td>0.055454</td>\n",
       "      <td>0.016183</td>\n",
       "      <td>0.004761</td>\n",
       "      <td>...</td>\n",
       "      <td>-0.021323</td>\n",
       "      <td>0.010477</td>\n",
       "      <td>0.021955</td>\n",
       "      <td>0.019952</td>\n",
       "      <td>0.000773</td>\n",
       "      <td>0.074220</td>\n",
       "      <td>-0.007189</td>\n",
       "      <td>0.015906</td>\n",
       "      <td>0.003779</td>\n",
       "      <td>0.040299</td>\n",
       "    </tr>\n",
       "    <tr>\n",
       "      <th>15</th>\n",
       "      <td>0.050646</td>\n",
       "      <td>-0.029281</td>\n",
       "      <td>-0.023852</td>\n",
       "      <td>0.048453</td>\n",
       "      <td>0.046635</td>\n",
       "      <td>-0.064444</td>\n",
       "      <td>0.000378</td>\n",
       "      <td>0.027863</td>\n",
       "      <td>-0.025176</td>\n",
       "      <td>-0.020189</td>\n",
       "      <td>...</td>\n",
       "      <td>-0.031233</td>\n",
       "      <td>0.009393</td>\n",
       "      <td>0.003132</td>\n",
       "      <td>0.021472</td>\n",
       "      <td>0.044523</td>\n",
       "      <td>0.014400</td>\n",
       "      <td>0.032864</td>\n",
       "      <td>0.019467</td>\n",
       "      <td>-0.027128</td>\n",
       "      <td>0.009359</td>\n",
       "    </tr>\n",
       "    <tr>\n",
       "      <th>16</th>\n",
       "      <td>-0.020047</td>\n",
       "      <td>-0.072868</td>\n",
       "      <td>-0.001985</td>\n",
       "      <td>0.056302</td>\n",
       "      <td>-0.018809</td>\n",
       "      <td>-0.021216</td>\n",
       "      <td>-0.019827</td>\n",
       "      <td>0.036792</td>\n",
       "      <td>-0.041057</td>\n",
       "      <td>0.057182</td>\n",
       "      <td>...</td>\n",
       "      <td>-0.024711</td>\n",
       "      <td>0.017350</td>\n",
       "      <td>-0.018946</td>\n",
       "      <td>0.003684</td>\n",
       "      <td>0.017295</td>\n",
       "      <td>0.049615</td>\n",
       "      <td>0.029279</td>\n",
       "      <td>0.025688</td>\n",
       "      <td>-0.013725</td>\n",
       "      <td>0.043754</td>\n",
       "    </tr>\n",
       "    <tr>\n",
       "      <th>17</th>\n",
       "      <td>0.006748</td>\n",
       "      <td>0.015552</td>\n",
       "      <td>0.030214</td>\n",
       "      <td>-0.006071</td>\n",
       "      <td>-0.021338</td>\n",
       "      <td>-0.032937</td>\n",
       "      <td>0.027543</td>\n",
       "      <td>0.036707</td>\n",
       "      <td>-0.023367</td>\n",
       "      <td>0.017895</td>\n",
       "      <td>...</td>\n",
       "      <td>0.005338</td>\n",
       "      <td>0.014060</td>\n",
       "      <td>-0.019833</td>\n",
       "      <td>0.008372</td>\n",
       "      <td>-0.004503</td>\n",
       "      <td>0.038697</td>\n",
       "      <td>-0.011553</td>\n",
       "      <td>-0.010918</td>\n",
       "      <td>0.016848</td>\n",
       "      <td>0.018903</td>\n",
       "    </tr>\n",
       "    <tr>\n",
       "      <th>18</th>\n",
       "      <td>0.042622</td>\n",
       "      <td>0.006109</td>\n",
       "      <td>0.011917</td>\n",
       "      <td>0.000927</td>\n",
       "      <td>-0.051656</td>\n",
       "      <td>-0.002758</td>\n",
       "      <td>0.040499</td>\n",
       "      <td>0.049674</td>\n",
       "      <td>-0.004178</td>\n",
       "      <td>-0.013551</td>\n",
       "      <td>...</td>\n",
       "      <td>0.020603</td>\n",
       "      <td>0.024672</td>\n",
       "      <td>0.003936</td>\n",
       "      <td>-0.021016</td>\n",
       "      <td>0.030357</td>\n",
       "      <td>-0.003444</td>\n",
       "      <td>-0.030616</td>\n",
       "      <td>0.026748</td>\n",
       "      <td>-0.009570</td>\n",
       "      <td>0.003786</td>\n",
       "    </tr>\n",
       "    <tr>\n",
       "      <th>19</th>\n",
       "      <td>0.011731</td>\n",
       "      <td>-0.003329</td>\n",
       "      <td>-0.001655</td>\n",
       "      <td>-0.019979</td>\n",
       "      <td>-0.082442</td>\n",
       "      <td>-0.039667</td>\n",
       "      <td>0.036244</td>\n",
       "      <td>0.038502</td>\n",
       "      <td>-0.002865</td>\n",
       "      <td>-0.022225</td>\n",
       "      <td>...</td>\n",
       "      <td>-0.013328</td>\n",
       "      <td>0.034375</td>\n",
       "      <td>0.021169</td>\n",
       "      <td>-0.025101</td>\n",
       "      <td>0.018863</td>\n",
       "      <td>0.022929</td>\n",
       "      <td>0.003611</td>\n",
       "      <td>0.031850</td>\n",
       "      <td>-0.013704</td>\n",
       "      <td>-0.008958</td>\n",
       "    </tr>\n",
       "    <tr>\n",
       "      <th>20</th>\n",
       "      <td>-0.006849</td>\n",
       "      <td>-0.034402</td>\n",
       "      <td>-0.004753</td>\n",
       "      <td>0.037832</td>\n",
       "      <td>-0.024755</td>\n",
       "      <td>-0.067880</td>\n",
       "      <td>-0.011374</td>\n",
       "      <td>0.014403</td>\n",
       "      <td>-0.004778</td>\n",
       "      <td>0.008594</td>\n",
       "      <td>...</td>\n",
       "      <td>-0.029220</td>\n",
       "      <td>0.013418</td>\n",
       "      <td>-0.008315</td>\n",
       "      <td>0.048756</td>\n",
       "      <td>0.018722</td>\n",
       "      <td>-0.018357</td>\n",
       "      <td>0.005763</td>\n",
       "      <td>-0.001021</td>\n",
       "      <td>-0.029171</td>\n",
       "      <td>-0.010468</td>\n",
       "    </tr>\n",
       "    <tr>\n",
       "      <th>21</th>\n",
       "      <td>-0.041633</td>\n",
       "      <td>-0.010110</td>\n",
       "      <td>0.027649</td>\n",
       "      <td>0.033449</td>\n",
       "      <td>0.084007</td>\n",
       "      <td>-0.011507</td>\n",
       "      <td>0.025848</td>\n",
       "      <td>0.088191</td>\n",
       "      <td>-0.014804</td>\n",
       "      <td>0.040229</td>\n",
       "      <td>...</td>\n",
       "      <td>-0.008640</td>\n",
       "      <td>0.005280</td>\n",
       "      <td>-0.027172</td>\n",
       "      <td>0.034403</td>\n",
       "      <td>0.019956</td>\n",
       "      <td>0.010991</td>\n",
       "      <td>0.000574</td>\n",
       "      <td>-0.017373</td>\n",
       "      <td>-0.027053</td>\n",
       "      <td>0.000089</td>\n",
       "    </tr>\n",
       "    <tr>\n",
       "      <th>22</th>\n",
       "      <td>0.011730</td>\n",
       "      <td>0.008308</td>\n",
       "      <td>0.010614</td>\n",
       "      <td>0.036761</td>\n",
       "      <td>0.027671</td>\n",
       "      <td>0.012579</td>\n",
       "      <td>-0.011155</td>\n",
       "      <td>0.028687</td>\n",
       "      <td>-0.006356</td>\n",
       "      <td>0.007412</td>\n",
       "      <td>...</td>\n",
       "      <td>0.004010</td>\n",
       "      <td>0.024088</td>\n",
       "      <td>-0.040263</td>\n",
       "      <td>0.037723</td>\n",
       "      <td>-0.010514</td>\n",
       "      <td>0.038846</td>\n",
       "      <td>-0.008395</td>\n",
       "      <td>-0.026682</td>\n",
       "      <td>-0.002476</td>\n",
       "      <td>0.009598</td>\n",
       "    </tr>\n",
       "    <tr>\n",
       "      <th>23</th>\n",
       "      <td>-0.018414</td>\n",
       "      <td>0.021078</td>\n",
       "      <td>0.041509</td>\n",
       "      <td>0.000642</td>\n",
       "      <td>0.015027</td>\n",
       "      <td>-0.022908</td>\n",
       "      <td>0.028013</td>\n",
       "      <td>0.015899</td>\n",
       "      <td>0.001788</td>\n",
       "      <td>0.007265</td>\n",
       "      <td>...</td>\n",
       "      <td>-0.029407</td>\n",
       "      <td>-0.002622</td>\n",
       "      <td>-0.016808</td>\n",
       "      <td>-0.008709</td>\n",
       "      <td>0.023643</td>\n",
       "      <td>0.044547</td>\n",
       "      <td>0.019908</td>\n",
       "      <td>0.013807</td>\n",
       "      <td>0.021091</td>\n",
       "      <td>0.011691</td>\n",
       "    </tr>\n",
       "    <tr>\n",
       "      <th>24</th>\n",
       "      <td>0.006088</td>\n",
       "      <td>-0.038614</td>\n",
       "      <td>0.074418</td>\n",
       "      <td>-0.002928</td>\n",
       "      <td>-0.022155</td>\n",
       "      <td>-0.052288</td>\n",
       "      <td>-0.018115</td>\n",
       "      <td>0.036506</td>\n",
       "      <td>0.007778</td>\n",
       "      <td>-0.015970</td>\n",
       "      <td>...</td>\n",
       "      <td>0.004159</td>\n",
       "      <td>0.043833</td>\n",
       "      <td>-0.030936</td>\n",
       "      <td>0.003237</td>\n",
       "      <td>0.024325</td>\n",
       "      <td>0.031062</td>\n",
       "      <td>0.004115</td>\n",
       "      <td>0.011661</td>\n",
       "      <td>-0.021327</td>\n",
       "      <td>0.017852</td>\n",
       "    </tr>\n",
       "    <tr>\n",
       "      <th>25</th>\n",
       "      <td>0.004577</td>\n",
       "      <td>-0.032053</td>\n",
       "      <td>0.006081</td>\n",
       "      <td>0.031645</td>\n",
       "      <td>0.007517</td>\n",
       "      <td>-0.006916</td>\n",
       "      <td>-0.032976</td>\n",
       "      <td>0.049491</td>\n",
       "      <td>0.030939</td>\n",
       "      <td>-0.031537</td>\n",
       "      <td>...</td>\n",
       "      <td>-0.018104</td>\n",
       "      <td>0.027720</td>\n",
       "      <td>0.029608</td>\n",
       "      <td>0.007504</td>\n",
       "      <td>0.040039</td>\n",
       "      <td>0.037920</td>\n",
       "      <td>0.010960</td>\n",
       "      <td>-0.014736</td>\n",
       "      <td>-0.016121</td>\n",
       "      <td>0.037648</td>\n",
       "    </tr>\n",
       "    <tr>\n",
       "      <th>26</th>\n",
       "      <td>0.016262</td>\n",
       "      <td>0.002623</td>\n",
       "      <td>0.027989</td>\n",
       "      <td>0.031350</td>\n",
       "      <td>-0.006314</td>\n",
       "      <td>-0.036299</td>\n",
       "      <td>0.015818</td>\n",
       "      <td>0.011163</td>\n",
       "      <td>0.019108</td>\n",
       "      <td>-0.001450</td>\n",
       "      <td>...</td>\n",
       "      <td>-0.047054</td>\n",
       "      <td>0.017134</td>\n",
       "      <td>-0.007616</td>\n",
       "      <td>-0.000199</td>\n",
       "      <td>0.033267</td>\n",
       "      <td>0.013816</td>\n",
       "      <td>0.019222</td>\n",
       "      <td>0.008481</td>\n",
       "      <td>-0.026845</td>\n",
       "      <td>0.009282</td>\n",
       "    </tr>\n",
       "    <tr>\n",
       "      <th>27</th>\n",
       "      <td>-0.004719</td>\n",
       "      <td>-0.023731</td>\n",
       "      <td>0.006714</td>\n",
       "      <td>-0.005308</td>\n",
       "      <td>-0.055178</td>\n",
       "      <td>0.016304</td>\n",
       "      <td>0.020566</td>\n",
       "      <td>0.040223</td>\n",
       "      <td>0.004637</td>\n",
       "      <td>0.009325</td>\n",
       "      <td>...</td>\n",
       "      <td>-0.013265</td>\n",
       "      <td>-0.009394</td>\n",
       "      <td>-0.021410</td>\n",
       "      <td>0.021499</td>\n",
       "      <td>-0.011487</td>\n",
       "      <td>-0.015560</td>\n",
       "      <td>0.010075</td>\n",
       "      <td>0.018422</td>\n",
       "      <td>-0.036668</td>\n",
       "      <td>-0.004319</td>\n",
       "    </tr>\n",
       "    <tr>\n",
       "      <th>28</th>\n",
       "      <td>-0.012294</td>\n",
       "      <td>0.052473</td>\n",
       "      <td>-0.009540</td>\n",
       "      <td>-0.006690</td>\n",
       "      <td>0.026049</td>\n",
       "      <td>-0.032320</td>\n",
       "      <td>0.003323</td>\n",
       "      <td>0.004499</td>\n",
       "      <td>0.001298</td>\n",
       "      <td>-0.011410</td>\n",
       "      <td>...</td>\n",
       "      <td>0.014043</td>\n",
       "      <td>-0.015115</td>\n",
       "      <td>0.004382</td>\n",
       "      <td>0.000274</td>\n",
       "      <td>-0.002281</td>\n",
       "      <td>0.005772</td>\n",
       "      <td>0.050918</td>\n",
       "      <td>-0.020689</td>\n",
       "      <td>0.036232</td>\n",
       "      <td>-0.005976</td>\n",
       "    </tr>\n",
       "    <tr>\n",
       "      <th>29</th>\n",
       "      <td>-0.031350</td>\n",
       "      <td>-0.023832</td>\n",
       "      <td>0.000159</td>\n",
       "      <td>0.014652</td>\n",
       "      <td>-0.017797</td>\n",
       "      <td>-0.049403</td>\n",
       "      <td>0.008560</td>\n",
       "      <td>0.048585</td>\n",
       "      <td>-0.018424</td>\n",
       "      <td>0.032654</td>\n",
       "      <td>...</td>\n",
       "      <td>0.004382</td>\n",
       "      <td>-0.005571</td>\n",
       "      <td>-0.026108</td>\n",
       "      <td>0.040862</td>\n",
       "      <td>0.008969</td>\n",
       "      <td>0.037257</td>\n",
       "      <td>-0.014972</td>\n",
       "      <td>-0.048713</td>\n",
       "      <td>0.008247</td>\n",
       "      <td>-0.002327</td>\n",
       "    </tr>\n",
       "    <tr>\n",
       "      <th>30</th>\n",
       "      <td>0.002783</td>\n",
       "      <td>0.024616</td>\n",
       "      <td>-0.017063</td>\n",
       "      <td>-0.000504</td>\n",
       "      <td>0.030995</td>\n",
       "      <td>-0.055397</td>\n",
       "      <td>0.020311</td>\n",
       "      <td>0.059666</td>\n",
       "      <td>0.017999</td>\n",
       "      <td>0.031943</td>\n",
       "      <td>...</td>\n",
       "      <td>0.045366</td>\n",
       "      <td>-0.005027</td>\n",
       "      <td>0.001430</td>\n",
       "      <td>0.016565</td>\n",
       "      <td>0.006717</td>\n",
       "      <td>-0.004775</td>\n",
       "      <td>0.035595</td>\n",
       "      <td>0.003047</td>\n",
       "      <td>0.050275</td>\n",
       "      <td>-0.008656</td>\n",
       "    </tr>\n",
       "    <tr>\n",
       "      <th>31</th>\n",
       "      <td>-0.017734</td>\n",
       "      <td>-0.014975</td>\n",
       "      <td>-0.028488</td>\n",
       "      <td>0.043065</td>\n",
       "      <td>-0.058875</td>\n",
       "      <td>0.005014</td>\n",
       "      <td>0.003077</td>\n",
       "      <td>0.051098</td>\n",
       "      <td>-0.012037</td>\n",
       "      <td>-0.003317</td>\n",
       "      <td>...</td>\n",
       "      <td>-0.021931</td>\n",
       "      <td>-0.008944</td>\n",
       "      <td>-0.009611</td>\n",
       "      <td>0.018979</td>\n",
       "      <td>-0.002011</td>\n",
       "      <td>0.009015</td>\n",
       "      <td>0.002265</td>\n",
       "      <td>0.007578</td>\n",
       "      <td>-0.020955</td>\n",
       "      <td>-0.002934</td>\n",
       "    </tr>\n",
       "    <tr>\n",
       "      <th>32</th>\n",
       "      <td>-0.013661</td>\n",
       "      <td>0.000270</td>\n",
       "      <td>0.033918</td>\n",
       "      <td>-0.011200</td>\n",
       "      <td>0.066654</td>\n",
       "      <td>-0.030093</td>\n",
       "      <td>0.011904</td>\n",
       "      <td>0.055601</td>\n",
       "      <td>-0.005867</td>\n",
       "      <td>-0.012206</td>\n",
       "      <td>...</td>\n",
       "      <td>-0.038024</td>\n",
       "      <td>0.026929</td>\n",
       "      <td>-0.032652</td>\n",
       "      <td>-0.018379</td>\n",
       "      <td>-0.010350</td>\n",
       "      <td>0.037349</td>\n",
       "      <td>0.036730</td>\n",
       "      <td>-0.012811</td>\n",
       "      <td>0.018126</td>\n",
       "      <td>0.037349</td>\n",
       "    </tr>\n",
       "    <tr>\n",
       "      <th>33</th>\n",
       "      <td>0.049804</td>\n",
       "      <td>0.004561</td>\n",
       "      <td>0.048920</td>\n",
       "      <td>0.042115</td>\n",
       "      <td>0.034506</td>\n",
       "      <td>-0.016262</td>\n",
       "      <td>-0.027045</td>\n",
       "      <td>0.064190</td>\n",
       "      <td>-0.001177</td>\n",
       "      <td>0.022705</td>\n",
       "      <td>...</td>\n",
       "      <td>-0.001922</td>\n",
       "      <td>0.038311</td>\n",
       "      <td>-0.022893</td>\n",
       "      <td>0.014735</td>\n",
       "      <td>0.024339</td>\n",
       "      <td>0.012880</td>\n",
       "      <td>0.013154</td>\n",
       "      <td>-0.027367</td>\n",
       "      <td>0.016637</td>\n",
       "      <td>-0.000190</td>\n",
       "    </tr>\n",
       "    <tr>\n",
       "      <th>34</th>\n",
       "      <td>0.021601</td>\n",
       "      <td>0.017848</td>\n",
       "      <td>0.022380</td>\n",
       "      <td>-0.025285</td>\n",
       "      <td>-0.046247</td>\n",
       "      <td>-0.008604</td>\n",
       "      <td>0.031931</td>\n",
       "      <td>0.058470</td>\n",
       "      <td>-0.011172</td>\n",
       "      <td>-0.028306</td>\n",
       "      <td>...</td>\n",
       "      <td>0.044829</td>\n",
       "      <td>0.016500</td>\n",
       "      <td>0.003245</td>\n",
       "      <td>-0.028910</td>\n",
       "      <td>0.030699</td>\n",
       "      <td>0.034185</td>\n",
       "      <td>-0.022891</td>\n",
       "      <td>0.018057</td>\n",
       "      <td>-0.014106</td>\n",
       "      <td>0.017813</td>\n",
       "    </tr>\n",
       "    <tr>\n",
       "      <th>35</th>\n",
       "      <td>0.032103</td>\n",
       "      <td>-0.033583</td>\n",
       "      <td>-0.012116</td>\n",
       "      <td>0.017705</td>\n",
       "      <td>0.001931</td>\n",
       "      <td>-0.034422</td>\n",
       "      <td>0.003291</td>\n",
       "      <td>0.051128</td>\n",
       "      <td>-0.040344</td>\n",
       "      <td>-0.038691</td>\n",
       "      <td>...</td>\n",
       "      <td>-0.023355</td>\n",
       "      <td>0.022566</td>\n",
       "      <td>-0.007427</td>\n",
       "      <td>0.004830</td>\n",
       "      <td>-0.005916</td>\n",
       "      <td>0.013658</td>\n",
       "      <td>-0.006804</td>\n",
       "      <td>-0.005870</td>\n",
       "      <td>-0.015521</td>\n",
       "      <td>0.013399</td>\n",
       "    </tr>\n",
       "    <tr>\n",
       "      <th>36</th>\n",
       "      <td>0.014420</td>\n",
       "      <td>-0.054404</td>\n",
       "      <td>0.030506</td>\n",
       "      <td>0.020822</td>\n",
       "      <td>-0.008702</td>\n",
       "      <td>-0.043010</td>\n",
       "      <td>-0.005027</td>\n",
       "      <td>-0.009784</td>\n",
       "      <td>-0.005722</td>\n",
       "      <td>-0.008196</td>\n",
       "      <td>...</td>\n",
       "      <td>0.014356</td>\n",
       "      <td>0.000251</td>\n",
       "      <td>0.001033</td>\n",
       "      <td>0.005736</td>\n",
       "      <td>0.016136</td>\n",
       "      <td>0.019668</td>\n",
       "      <td>0.005501</td>\n",
       "      <td>-0.033212</td>\n",
       "      <td>-0.005725</td>\n",
       "      <td>0.013964</td>\n",
       "    </tr>\n",
       "    <tr>\n",
       "      <th>37</th>\n",
       "      <td>-0.007335</td>\n",
       "      <td>0.012018</td>\n",
       "      <td>0.048543</td>\n",
       "      <td>0.016763</td>\n",
       "      <td>-0.004637</td>\n",
       "      <td>-0.027693</td>\n",
       "      <td>-0.005060</td>\n",
       "      <td>0.018314</td>\n",
       "      <td>0.013396</td>\n",
       "      <td>0.012697</td>\n",
       "      <td>...</td>\n",
       "      <td>-0.018148</td>\n",
       "      <td>-0.006691</td>\n",
       "      <td>-0.012531</td>\n",
       "      <td>0.051452</td>\n",
       "      <td>0.005313</td>\n",
       "      <td>0.007010</td>\n",
       "      <td>-0.033803</td>\n",
       "      <td>0.017940</td>\n",
       "      <td>0.012156</td>\n",
       "      <td>0.012281</td>\n",
       "    </tr>\n",
       "    <tr>\n",
       "      <th>38</th>\n",
       "      <td>0.023892</td>\n",
       "      <td>0.008669</td>\n",
       "      <td>-0.007944</td>\n",
       "      <td>0.015596</td>\n",
       "      <td>-0.006342</td>\n",
       "      <td>-0.025554</td>\n",
       "      <td>-0.038424</td>\n",
       "      <td>0.030154</td>\n",
       "      <td>-0.041163</td>\n",
       "      <td>-0.025527</td>\n",
       "      <td>...</td>\n",
       "      <td>-0.041508</td>\n",
       "      <td>0.050576</td>\n",
       "      <td>-0.002859</td>\n",
       "      <td>0.020435</td>\n",
       "      <td>-0.016274</td>\n",
       "      <td>0.026804</td>\n",
       "      <td>0.015423</td>\n",
       "      <td>-0.016486</td>\n",
       "      <td>0.027628</td>\n",
       "      <td>-0.035472</td>\n",
       "    </tr>\n",
       "    <tr>\n",
       "      <th>39</th>\n",
       "      <td>-0.017233</td>\n",
       "      <td>-0.032220</td>\n",
       "      <td>-0.018153</td>\n",
       "      <td>0.009062</td>\n",
       "      <td>-0.030439</td>\n",
       "      <td>-0.018926</td>\n",
       "      <td>-0.024646</td>\n",
       "      <td>-0.005877</td>\n",
       "      <td>-0.017613</td>\n",
       "      <td>0.002152</td>\n",
       "      <td>...</td>\n",
       "      <td>-0.047221</td>\n",
       "      <td>0.012338</td>\n",
       "      <td>-0.012732</td>\n",
       "      <td>-0.000923</td>\n",
       "      <td>0.012805</td>\n",
       "      <td>0.053612</td>\n",
       "      <td>0.020998</td>\n",
       "      <td>-0.028251</td>\n",
       "      <td>0.006402</td>\n",
       "      <td>-0.017963</td>\n",
       "    </tr>\n",
       "    <tr>\n",
       "      <th>40</th>\n",
       "      <td>-0.024644</td>\n",
       "      <td>-0.006098</td>\n",
       "      <td>0.034823</td>\n",
       "      <td>0.019399</td>\n",
       "      <td>0.045960</td>\n",
       "      <td>-0.037614</td>\n",
       "      <td>0.006580</td>\n",
       "      <td>0.051318</td>\n",
       "      <td>0.014930</td>\n",
       "      <td>0.003940</td>\n",
       "      <td>...</td>\n",
       "      <td>0.004043</td>\n",
       "      <td>0.039221</td>\n",
       "      <td>-0.028225</td>\n",
       "      <td>0.005720</td>\n",
       "      <td>0.016988</td>\n",
       "      <td>0.050021</td>\n",
       "      <td>0.027858</td>\n",
       "      <td>-0.009763</td>\n",
       "      <td>0.004723</td>\n",
       "      <td>0.045566</td>\n",
       "    </tr>\n",
       "    <tr>\n",
       "      <th>41</th>\n",
       "      <td>-0.071605</td>\n",
       "      <td>0.002986</td>\n",
       "      <td>-0.001405</td>\n",
       "      <td>0.009981</td>\n",
       "      <td>0.029755</td>\n",
       "      <td>-0.008156</td>\n",
       "      <td>-0.002790</td>\n",
       "      <td>0.048885</td>\n",
       "      <td>0.018190</td>\n",
       "      <td>0.003503</td>\n",
       "      <td>...</td>\n",
       "      <td>-0.014601</td>\n",
       "      <td>0.028888</td>\n",
       "      <td>-0.009541</td>\n",
       "      <td>0.060474</td>\n",
       "      <td>0.035345</td>\n",
       "      <td>0.043537</td>\n",
       "      <td>-0.014661</td>\n",
       "      <td>-0.036357</td>\n",
       "      <td>-0.001275</td>\n",
       "      <td>0.001132</td>\n",
       "    </tr>\n",
       "    <tr>\n",
       "      <th>42</th>\n",
       "      <td>-0.029450</td>\n",
       "      <td>0.001409</td>\n",
       "      <td>-0.026245</td>\n",
       "      <td>0.035643</td>\n",
       "      <td>-0.046298</td>\n",
       "      <td>-0.034074</td>\n",
       "      <td>-0.009891</td>\n",
       "      <td>0.027827</td>\n",
       "      <td>-0.024028</td>\n",
       "      <td>-0.041646</td>\n",
       "      <td>...</td>\n",
       "      <td>-0.017064</td>\n",
       "      <td>-0.010912</td>\n",
       "      <td>-0.004621</td>\n",
       "      <td>0.018187</td>\n",
       "      <td>0.000809</td>\n",
       "      <td>0.019106</td>\n",
       "      <td>0.019038</td>\n",
       "      <td>-0.011527</td>\n",
       "      <td>-0.018984</td>\n",
       "      <td>0.008917</td>\n",
       "    </tr>\n",
       "    <tr>\n",
       "      <th>43</th>\n",
       "      <td>-0.012553</td>\n",
       "      <td>-0.005014</td>\n",
       "      <td>0.012572</td>\n",
       "      <td>-0.007117</td>\n",
       "      <td>-0.028417</td>\n",
       "      <td>-0.068530</td>\n",
       "      <td>0.008096</td>\n",
       "      <td>0.050444</td>\n",
       "      <td>-0.036068</td>\n",
       "      <td>0.022066</td>\n",
       "      <td>...</td>\n",
       "      <td>0.016991</td>\n",
       "      <td>0.002415</td>\n",
       "      <td>-0.045446</td>\n",
       "      <td>0.031714</td>\n",
       "      <td>0.002918</td>\n",
       "      <td>0.037666</td>\n",
       "      <td>-0.017545</td>\n",
       "      <td>-0.042715</td>\n",
       "      <td>-0.005632</td>\n",
       "      <td>0.009384</td>\n",
       "    </tr>\n",
       "    <tr>\n",
       "      <th>44</th>\n",
       "      <td>-0.014873</td>\n",
       "      <td>-0.017574</td>\n",
       "      <td>0.021431</td>\n",
       "      <td>0.033239</td>\n",
       "      <td>0.061000</td>\n",
       "      <td>-0.043791</td>\n",
       "      <td>-0.010552</td>\n",
       "      <td>0.055322</td>\n",
       "      <td>-0.026882</td>\n",
       "      <td>-0.036354</td>\n",
       "      <td>...</td>\n",
       "      <td>0.008190</td>\n",
       "      <td>0.050398</td>\n",
       "      <td>0.022461</td>\n",
       "      <td>0.015388</td>\n",
       "      <td>0.019735</td>\n",
       "      <td>0.033842</td>\n",
       "      <td>-0.014798</td>\n",
       "      <td>-0.018428</td>\n",
       "      <td>0.044971</td>\n",
       "      <td>0.029169</td>\n",
       "    </tr>\n",
       "    <tr>\n",
       "      <th>45</th>\n",
       "      <td>0.003589</td>\n",
       "      <td>-0.030053</td>\n",
       "      <td>0.000990</td>\n",
       "      <td>0.026293</td>\n",
       "      <td>0.035650</td>\n",
       "      <td>-0.014030</td>\n",
       "      <td>-0.000468</td>\n",
       "      <td>0.047213</td>\n",
       "      <td>0.017203</td>\n",
       "      <td>0.002332</td>\n",
       "      <td>...</td>\n",
       "      <td>-0.027565</td>\n",
       "      <td>0.037940</td>\n",
       "      <td>0.020101</td>\n",
       "      <td>0.004591</td>\n",
       "      <td>0.019734</td>\n",
       "      <td>0.042436</td>\n",
       "      <td>0.029035</td>\n",
       "      <td>-0.015111</td>\n",
       "      <td>0.004280</td>\n",
       "      <td>0.041276</td>\n",
       "    </tr>\n",
       "    <tr>\n",
       "      <th>46</th>\n",
       "      <td>0.010825</td>\n",
       "      <td>0.027873</td>\n",
       "      <td>0.000846</td>\n",
       "      <td>0.006185</td>\n",
       "      <td>0.031213</td>\n",
       "      <td>-0.095530</td>\n",
       "      <td>-0.016744</td>\n",
       "      <td>0.011409</td>\n",
       "      <td>-0.040080</td>\n",
       "      <td>0.005834</td>\n",
       "      <td>...</td>\n",
       "      <td>-0.016951</td>\n",
       "      <td>0.014483</td>\n",
       "      <td>0.008210</td>\n",
       "      <td>-0.009207</td>\n",
       "      <td>-0.014298</td>\n",
       "      <td>0.038218</td>\n",
       "      <td>-0.007190</td>\n",
       "      <td>-0.017764</td>\n",
       "      <td>-0.018400</td>\n",
       "      <td>-0.010522</td>\n",
       "    </tr>\n",
       "    <tr>\n",
       "      <th>47</th>\n",
       "      <td>-0.017776</td>\n",
       "      <td>0.020002</td>\n",
       "      <td>0.044056</td>\n",
       "      <td>0.027078</td>\n",
       "      <td>0.044255</td>\n",
       "      <td>-0.007433</td>\n",
       "      <td>-0.012148</td>\n",
       "      <td>0.000020</td>\n",
       "      <td>0.010108</td>\n",
       "      <td>-0.006869</td>\n",
       "      <td>...</td>\n",
       "      <td>-0.010572</td>\n",
       "      <td>0.038149</td>\n",
       "      <td>0.002663</td>\n",
       "      <td>0.028020</td>\n",
       "      <td>0.018390</td>\n",
       "      <td>0.014837</td>\n",
       "      <td>0.002012</td>\n",
       "      <td>-0.019645</td>\n",
       "      <td>0.007476</td>\n",
       "      <td>0.026536</td>\n",
       "    </tr>\n",
       "    <tr>\n",
       "      <th>48</th>\n",
       "      <td>0.022303</td>\n",
       "      <td>0.002329</td>\n",
       "      <td>0.021873</td>\n",
       "      <td>0.037806</td>\n",
       "      <td>0.007823</td>\n",
       "      <td>-0.010598</td>\n",
       "      <td>-0.022850</td>\n",
       "      <td>0.075559</td>\n",
       "      <td>-0.015177</td>\n",
       "      <td>0.016753</td>\n",
       "      <td>...</td>\n",
       "      <td>0.006322</td>\n",
       "      <td>0.024479</td>\n",
       "      <td>-0.014578</td>\n",
       "      <td>0.020440</td>\n",
       "      <td>0.021951</td>\n",
       "      <td>0.052006</td>\n",
       "      <td>0.017483</td>\n",
       "      <td>0.014070</td>\n",
       "      <td>-0.027462</td>\n",
       "      <td>-0.020701</td>\n",
       "    </tr>\n",
       "  </tbody>\n",
       "</table>\n",
       "<p>49 rows × 1536 columns</p>\n",
       "</div>"
      ],
      "text/plain": [
       "        0         1         2         3         4         5         6     \\\n",
       "0   0.015461  0.012258 -0.007253  0.027221 -0.006102 -0.029872 -0.043354   \n",
       "1  -0.005895 -0.015760 -0.050894  0.024071 -0.012657 -0.050576  0.024097   \n",
       "2   0.003589 -0.030053  0.000990  0.026293  0.035650 -0.014030 -0.000468   \n",
       "3  -0.049665 -0.011553 -0.032403  0.027836 -0.033681 -0.044011 -0.042625   \n",
       "4  -0.014670 -0.002271 -0.010692  0.021591  0.021329 -0.048696  0.027050   \n",
       "5   0.043282  0.005489  0.018624  0.006045 -0.002691 -0.034264  0.022436   \n",
       "6   0.005771  0.002485  0.014066 -0.019889  0.003481  0.015826 -0.004927   \n",
       "7  -0.019223 -0.031310  0.027770  0.037578  0.000839 -0.047345 -0.008268   \n",
       "8   0.032998  0.010429 -0.000487  0.008406 -0.022425 -0.032815 -0.018339   \n",
       "9  -0.011970 -0.021761  0.018384  0.050300  0.025029 -0.045749 -0.018009   \n",
       "10 -0.012567 -0.004998  0.012618 -0.007111 -0.028393 -0.068484  0.008103   \n",
       "11 -0.015340 -0.054657  0.014595  0.017990  0.031052 -0.051620 -0.024650   \n",
       "12  0.001586 -0.058190  0.034900  0.009220  0.055669 -0.045319 -0.013681   \n",
       "13  0.013422 -0.043632  0.008117  0.038479  0.010631 -0.005066 -0.040363   \n",
       "14 -0.013692 -0.035081  0.052028  0.017461  0.025737 -0.036899 -0.033789   \n",
       "15  0.050646 -0.029281 -0.023852  0.048453  0.046635 -0.064444  0.000378   \n",
       "16 -0.020047 -0.072868 -0.001985  0.056302 -0.018809 -0.021216 -0.019827   \n",
       "17  0.006748  0.015552  0.030214 -0.006071 -0.021338 -0.032937  0.027543   \n",
       "18  0.042622  0.006109  0.011917  0.000927 -0.051656 -0.002758  0.040499   \n",
       "19  0.011731 -0.003329 -0.001655 -0.019979 -0.082442 -0.039667  0.036244   \n",
       "20 -0.006849 -0.034402 -0.004753  0.037832 -0.024755 -0.067880 -0.011374   \n",
       "21 -0.041633 -0.010110  0.027649  0.033449  0.084007 -0.011507  0.025848   \n",
       "22  0.011730  0.008308  0.010614  0.036761  0.027671  0.012579 -0.011155   \n",
       "23 -0.018414  0.021078  0.041509  0.000642  0.015027 -0.022908  0.028013   \n",
       "24  0.006088 -0.038614  0.074418 -0.002928 -0.022155 -0.052288 -0.018115   \n",
       "25  0.004577 -0.032053  0.006081  0.031645  0.007517 -0.006916 -0.032976   \n",
       "26  0.016262  0.002623  0.027989  0.031350 -0.006314 -0.036299  0.015818   \n",
       "27 -0.004719 -0.023731  0.006714 -0.005308 -0.055178  0.016304  0.020566   \n",
       "28 -0.012294  0.052473 -0.009540 -0.006690  0.026049 -0.032320  0.003323   \n",
       "29 -0.031350 -0.023832  0.000159  0.014652 -0.017797 -0.049403  0.008560   \n",
       "30  0.002783  0.024616 -0.017063 -0.000504  0.030995 -0.055397  0.020311   \n",
       "31 -0.017734 -0.014975 -0.028488  0.043065 -0.058875  0.005014  0.003077   \n",
       "32 -0.013661  0.000270  0.033918 -0.011200  0.066654 -0.030093  0.011904   \n",
       "33  0.049804  0.004561  0.048920  0.042115  0.034506 -0.016262 -0.027045   \n",
       "34  0.021601  0.017848  0.022380 -0.025285 -0.046247 -0.008604  0.031931   \n",
       "35  0.032103 -0.033583 -0.012116  0.017705  0.001931 -0.034422  0.003291   \n",
       "36  0.014420 -0.054404  0.030506  0.020822 -0.008702 -0.043010 -0.005027   \n",
       "37 -0.007335  0.012018  0.048543  0.016763 -0.004637 -0.027693 -0.005060   \n",
       "38  0.023892  0.008669 -0.007944  0.015596 -0.006342 -0.025554 -0.038424   \n",
       "39 -0.017233 -0.032220 -0.018153  0.009062 -0.030439 -0.018926 -0.024646   \n",
       "40 -0.024644 -0.006098  0.034823  0.019399  0.045960 -0.037614  0.006580   \n",
       "41 -0.071605  0.002986 -0.001405  0.009981  0.029755 -0.008156 -0.002790   \n",
       "42 -0.029450  0.001409 -0.026245  0.035643 -0.046298 -0.034074 -0.009891   \n",
       "43 -0.012553 -0.005014  0.012572 -0.007117 -0.028417 -0.068530  0.008096   \n",
       "44 -0.014873 -0.017574  0.021431  0.033239  0.061000 -0.043791 -0.010552   \n",
       "45  0.003589 -0.030053  0.000990  0.026293  0.035650 -0.014030 -0.000468   \n",
       "46  0.010825  0.027873  0.000846  0.006185  0.031213 -0.095530 -0.016744   \n",
       "47 -0.017776  0.020002  0.044056  0.027078  0.044255 -0.007433 -0.012148   \n",
       "48  0.022303  0.002329  0.021873  0.037806  0.007823 -0.010598 -0.022850   \n",
       "\n",
       "        7         8         9     ...      1526      1527      1528      1529  \\\n",
       "0   0.028042 -0.040905 -0.028499  ... -0.043542  0.045830 -0.012056  0.021529   \n",
       "1   0.054519  0.018844 -0.003364  ... -0.017639 -0.004999 -0.031150 -0.027710   \n",
       "2   0.047213  0.017203  0.002332  ... -0.027565  0.037940  0.020101  0.004591   \n",
       "3   0.023446  0.011696  0.006528  ... -0.031262  0.028435 -0.022862  0.050318   \n",
       "4   0.002745  0.027064 -0.035185  ... -0.015331 -0.010106 -0.033227  0.007990   \n",
       "5   0.023111  0.012939 -0.044610  ... -0.012928  0.029929  0.004770  0.031977   \n",
       "6   0.026489 -0.105387  0.048475  ... -0.015166  0.027848 -0.056161 -0.034473   \n",
       "7   0.033589 -0.002976 -0.009564  ... -0.057357  0.024758 -0.015465  0.039531   \n",
       "8   0.022921 -0.010788  0.015624  ... -0.013229  0.078736 -0.020141  0.006788   \n",
       "9   0.035413  0.022681  0.053350  ... -0.043038  0.036261 -0.023795  0.044491   \n",
       "10  0.050371 -0.036071  0.022029  ...  0.017018  0.002406 -0.045450  0.031743   \n",
       "11  0.049701  0.055774 -0.033115  ... -0.024664  0.035034  0.040792  0.009331   \n",
       "12  0.052474 -0.000415 -0.050719  ...  0.006751  0.026215 -0.018598  0.035035   \n",
       "13  0.023755  0.021677 -0.050087  ... -0.016691  0.031747  0.041721  0.009897   \n",
       "14  0.055454  0.016183  0.004761  ... -0.021323  0.010477  0.021955  0.019952   \n",
       "15  0.027863 -0.025176 -0.020189  ... -0.031233  0.009393  0.003132  0.021472   \n",
       "16  0.036792 -0.041057  0.057182  ... -0.024711  0.017350 -0.018946  0.003684   \n",
       "17  0.036707 -0.023367  0.017895  ...  0.005338  0.014060 -0.019833  0.008372   \n",
       "18  0.049674 -0.004178 -0.013551  ...  0.020603  0.024672  0.003936 -0.021016   \n",
       "19  0.038502 -0.002865 -0.022225  ... -0.013328  0.034375  0.021169 -0.025101   \n",
       "20  0.014403 -0.004778  0.008594  ... -0.029220  0.013418 -0.008315  0.048756   \n",
       "21  0.088191 -0.014804  0.040229  ... -0.008640  0.005280 -0.027172  0.034403   \n",
       "22  0.028687 -0.006356  0.007412  ...  0.004010  0.024088 -0.040263  0.037723   \n",
       "23  0.015899  0.001788  0.007265  ... -0.029407 -0.002622 -0.016808 -0.008709   \n",
       "24  0.036506  0.007778 -0.015970  ...  0.004159  0.043833 -0.030936  0.003237   \n",
       "25  0.049491  0.030939 -0.031537  ... -0.018104  0.027720  0.029608  0.007504   \n",
       "26  0.011163  0.019108 -0.001450  ... -0.047054  0.017134 -0.007616 -0.000199   \n",
       "27  0.040223  0.004637  0.009325  ... -0.013265 -0.009394 -0.021410  0.021499   \n",
       "28  0.004499  0.001298 -0.011410  ...  0.014043 -0.015115  0.004382  0.000274   \n",
       "29  0.048585 -0.018424  0.032654  ...  0.004382 -0.005571 -0.026108  0.040862   \n",
       "30  0.059666  0.017999  0.031943  ...  0.045366 -0.005027  0.001430  0.016565   \n",
       "31  0.051098 -0.012037 -0.003317  ... -0.021931 -0.008944 -0.009611  0.018979   \n",
       "32  0.055601 -0.005867 -0.012206  ... -0.038024  0.026929 -0.032652 -0.018379   \n",
       "33  0.064190 -0.001177  0.022705  ... -0.001922  0.038311 -0.022893  0.014735   \n",
       "34  0.058470 -0.011172 -0.028306  ...  0.044829  0.016500  0.003245 -0.028910   \n",
       "35  0.051128 -0.040344 -0.038691  ... -0.023355  0.022566 -0.007427  0.004830   \n",
       "36 -0.009784 -0.005722 -0.008196  ...  0.014356  0.000251  0.001033  0.005736   \n",
       "37  0.018314  0.013396  0.012697  ... -0.018148 -0.006691 -0.012531  0.051452   \n",
       "38  0.030154 -0.041163 -0.025527  ... -0.041508  0.050576 -0.002859  0.020435   \n",
       "39 -0.005877 -0.017613  0.002152  ... -0.047221  0.012338 -0.012732 -0.000923   \n",
       "40  0.051318  0.014930  0.003940  ...  0.004043  0.039221 -0.028225  0.005720   \n",
       "41  0.048885  0.018190  0.003503  ... -0.014601  0.028888 -0.009541  0.060474   \n",
       "42  0.027827 -0.024028 -0.041646  ... -0.017064 -0.010912 -0.004621  0.018187   \n",
       "43  0.050444 -0.036068  0.022066  ...  0.016991  0.002415 -0.045446  0.031714   \n",
       "44  0.055322 -0.026882 -0.036354  ...  0.008190  0.050398  0.022461  0.015388   \n",
       "45  0.047213  0.017203  0.002332  ... -0.027565  0.037940  0.020101  0.004591   \n",
       "46  0.011409 -0.040080  0.005834  ... -0.016951  0.014483  0.008210 -0.009207   \n",
       "47  0.000020  0.010108 -0.006869  ... -0.010572  0.038149  0.002663  0.028020   \n",
       "48  0.075559 -0.015177  0.016753  ...  0.006322  0.024479 -0.014578  0.020440   \n",
       "\n",
       "        1530      1531      1532      1533      1534      1535  \n",
       "0  -0.013456  0.025606  0.016227 -0.020345  0.027059 -0.035335  \n",
       "1   0.028345 -0.009356  0.021477  0.015602 -0.021398  0.007477  \n",
       "2   0.019734  0.042436  0.029035 -0.015111  0.004280  0.041276  \n",
       "3   0.022835  0.002538  0.043032  0.009569 -0.028407  0.016324  \n",
       "4   0.035736  0.027754 -0.035709 -0.009168  0.002756  0.019440  \n",
       "5   0.001162  0.044022  0.008217 -0.015466 -0.015781  0.006644  \n",
       "6  -0.059319 -0.003400  0.015140 -0.019009  0.010993  0.013089  \n",
       "7   0.034295  0.035461  0.029655  0.009700 -0.008947  0.003632  \n",
       "8  -0.002888  0.030648 -0.005410 -0.001450  0.008302  0.001384  \n",
       "9   0.001530  0.004787  0.050542 -0.014027 -0.026385  0.047105  \n",
       "10  0.002915  0.037669 -0.017572 -0.042719 -0.005636  0.009391  \n",
       "11  0.020095  0.040792 -0.004476 -0.016386  0.009833  0.028804  \n",
       "12  0.036093  0.026057  0.014322  0.001930 -0.044261  0.024009  \n",
       "13  0.022661  0.049145  0.002606 -0.024088 -0.018976  0.031249  \n",
       "14  0.000773  0.074220 -0.007189  0.015906  0.003779  0.040299  \n",
       "15  0.044523  0.014400  0.032864  0.019467 -0.027128  0.009359  \n",
       "16  0.017295  0.049615  0.029279  0.025688 -0.013725  0.043754  \n",
       "17 -0.004503  0.038697 -0.011553 -0.010918  0.016848  0.018903  \n",
       "18  0.030357 -0.003444 -0.030616  0.026748 -0.009570  0.003786  \n",
       "19  0.018863  0.022929  0.003611  0.031850 -0.013704 -0.008958  \n",
       "20  0.018722 -0.018357  0.005763 -0.001021 -0.029171 -0.010468  \n",
       "21  0.019956  0.010991  0.000574 -0.017373 -0.027053  0.000089  \n",
       "22 -0.010514  0.038846 -0.008395 -0.026682 -0.002476  0.009598  \n",
       "23  0.023643  0.044547  0.019908  0.013807  0.021091  0.011691  \n",
       "24  0.024325  0.031062  0.004115  0.011661 -0.021327  0.017852  \n",
       "25  0.040039  0.037920  0.010960 -0.014736 -0.016121  0.037648  \n",
       "26  0.033267  0.013816  0.019222  0.008481 -0.026845  0.009282  \n",
       "27 -0.011487 -0.015560  0.010075  0.018422 -0.036668 -0.004319  \n",
       "28 -0.002281  0.005772  0.050918 -0.020689  0.036232 -0.005976  \n",
       "29  0.008969  0.037257 -0.014972 -0.048713  0.008247 -0.002327  \n",
       "30  0.006717 -0.004775  0.035595  0.003047  0.050275 -0.008656  \n",
       "31 -0.002011  0.009015  0.002265  0.007578 -0.020955 -0.002934  \n",
       "32 -0.010350  0.037349  0.036730 -0.012811  0.018126  0.037349  \n",
       "33  0.024339  0.012880  0.013154 -0.027367  0.016637 -0.000190  \n",
       "34  0.030699  0.034185 -0.022891  0.018057 -0.014106  0.017813  \n",
       "35 -0.005916  0.013658 -0.006804 -0.005870 -0.015521  0.013399  \n",
       "36  0.016136  0.019668  0.005501 -0.033212 -0.005725  0.013964  \n",
       "37  0.005313  0.007010 -0.033803  0.017940  0.012156  0.012281  \n",
       "38 -0.016274  0.026804  0.015423 -0.016486  0.027628 -0.035472  \n",
       "39  0.012805  0.053612  0.020998 -0.028251  0.006402 -0.017963  \n",
       "40  0.016988  0.050021  0.027858 -0.009763  0.004723  0.045566  \n",
       "41  0.035345  0.043537 -0.014661 -0.036357 -0.001275  0.001132  \n",
       "42  0.000809  0.019106  0.019038 -0.011527 -0.018984  0.008917  \n",
       "43  0.002918  0.037666 -0.017545 -0.042715 -0.005632  0.009384  \n",
       "44  0.019735  0.033842 -0.014798 -0.018428  0.044971  0.029169  \n",
       "45  0.019734  0.042436  0.029035 -0.015111  0.004280  0.041276  \n",
       "46 -0.014298  0.038218 -0.007190 -0.017764 -0.018400 -0.010522  \n",
       "47  0.018390  0.014837  0.002012 -0.019645  0.007476  0.026536  \n",
       "48  0.021951  0.052006  0.017483  0.014070 -0.027462 -0.020701  \n",
       "\n",
       "[49 rows x 1536 columns]"
      ]
     },
     "execution_count": 41,
     "metadata": {},
     "output_type": "execute_result"
    }
   ],
   "source": [
    "embedding_df = pd.DataFrame([e.dict()['embedding'] for e in embedding_list])\n",
    "embedding_df\n"
   ]
  },
  {
   "cell_type": "code",
   "execution_count": 42,
   "id": "a09087d0-a63c-4a50-b9ac-ab2fe03be69e",
   "metadata": {},
   "outputs": [
    {
     "data": {
      "text/plain": [
       "array([ 0, 38, 20, 14, 16, 37,  3, 39,  4, 32, 40, 24, 12,  5, 35, 22, 33,\n",
       "       26, 23, 47, 36, 41, 44,  7, 11, 25, 13,  2, 45, 46,  8, 48, 15, 21,\n",
       "       43, 10, 29, 17,  1, 27, 31, 42, 18, 34, 19,  6,  9, 30, 28])"
      ]
     },
     "execution_count": 42,
     "metadata": {},
     "output_type": "execute_result"
    }
   ],
   "source": [
    "# naive greedy solution to traveling salesman problem\n",
    "\n",
    "import numpy as np\n",
    "from scipy.spatial.distance import cdist\n",
    "\n",
    "embedding_array = embedding_df.values\n",
    "\n",
    "def nearest_neighbor_sort(embedding_array):\n",
    "    # Compute the pairwise Euclidean distances between all embeddings\n",
    "    distances = cdist(embedding_array, embedding_array, metric='euclidean')\n",
    "\n",
    "    # Start from the first headline as the initial point\n",
    "    path = [0]\n",
    "    visited = set(path)\n",
    "\n",
    "    while len(path) < len(embedding_array):\n",
    "        last = path[-1]\n",
    "        # Set the distances to already visited nodes to infinity to avoid revisiting\n",
    "        distances[:, last][list(visited)] = np.inf\n",
    "        # Find the nearest neighbor\n",
    "        nearest = np.argmin(distances[:, last])\n",
    "        path.append(nearest)\n",
    "        visited.add(nearest)\n",
    "\n",
    "    return np.array(path)\n",
    "\n",
    "# Get the sorted indices\n",
    "sorted_indices = nearest_neighbor_sort(embedding_array)\n",
    "\n",
    "# The sorted embedding array can be obtained using these indices\n",
    "sorted_embedding_array = embedding_array[sorted_indices]\n",
    "\n",
    "sorted_indices  # Show the first few indices of the sorted path\n"
   ]
  },
  {
   "cell_type": "code",
   "execution_count": 45,
   "id": "40df3a68-9998-46b1-8275-862724be8bcd",
   "metadata": {},
   "outputs": [
    {
     "data": {
      "text/markdown": [
       "[0. Where’d my results go? Google Search’s chatbot is no longer opt-in - Ars Technica](https://arstechnica.com/gadgets/2024/03/google-search-will-start-automatically-showing-a-chatbot-to-some-users/)"
      ],
      "text/plain": [
       "<IPython.core.display.Markdown object>"
      ]
     },
     "metadata": {},
     "output_type": "display_data"
    },
    {
     "data": {
      "text/markdown": [
       "[1. Where'd my results go? Google Search's chatbot is no longer opt-in - Google News](https://news.google.com/articles/CBMib2h0dHBzOi8vYXJzdGVjaG5pY2EuY29tL2dhZGdldHMvMjAyNC8wMy9nb29nbGUtc2VhcmNoLXdpbGwtc3RhcnQtYXV0b21hdGljYWxseS1zaG93aW5nLWEtY2hhdGJvdC10by1zb21lLXVzZXJzL9IBAA)"
      ],
      "text/plain": [
       "<IPython.core.display.Markdown object>"
      ]
     },
     "metadata": {},
     "output_type": "display_data"
    },
    {
     "data": {
      "text/markdown": [
       "[2. WhatsApp is testing an all-knowing AI chatbot that will live in your search bar - Google News](https://news.google.com/articles/CBMifGh0dHBzOi8vd3d3LnRlY2hyYWRhci5jb20vY29tcHV0aW5nL3NvZnR3YXJlL3doYXRzYXBwLWlzLXRlc3RpbmctYW4tYWxsLWtub3dpbmctYWktY2hhdGJvdC10aGF0LXdpbGwtbGl2ZS1pbi15b3VyLXNlYXJjaC1iYXLSAQA)"
      ],
      "text/plain": [
       "<IPython.core.display.Markdown object>"
      ]
     },
     "metadata": {},
     "output_type": "display_data"
    },
    {
     "data": {
      "text/markdown": [
       "[3. The Financial Times is ready for its AI to answer your questions (well, some of them) - Google News](https://news.google.com/articles/CBMidWh0dHBzOi8vd3d3Lm5pZW1hbmxhYi5vcmcvMjAyNC8wMy90aGUtZmluYW5jaWFsLXRpbWVzLWlzLXJlYWR5LWZvci1pdHMtYWktdG8tYW5zd2VyLXlvdXItcXVlc3Rpb25zLXdlbGwtc29tZS1vZi10aGVtL9IBAA)"
      ],
      "text/plain": [
       "<IPython.core.display.Markdown object>"
      ]
     },
     "metadata": {},
     "output_type": "display_data"
    },
    {
     "data": {
      "text/markdown": [
       "[4. Are you willing to get the COVID-19 vaccine? AI says it knows the answer - Google News](https://news.google.com/articles/CBMic2h0dHBzOi8vd3d3LmNsZXZlbGFuZC5jb20vbmV3cy8yMDI0LzAzL2FyZS15b3Utd2lsbGluZy10by1nZXQtdGhlLWNvdmlkLTE5LXZhY2NpbmUtYWktc2F5cy1pdC1rbm93cy10aGUtYW5zd2VyLmh0bWzSAYIBaHR0cHM6Ly93d3cuY2xldmVsYW5kLmNvbS9uZXdzLzIwMjQvMDMvYXJlLXlvdS13aWxsaW5nLXRvLWdldC10aGUtY292aWQtMTktdmFjY2luZS1haS1zYXlzLWl0LWtub3dzLXRoZS1hbnN3ZXIuaHRtbD9vdXRwdXRUeXBlPWFtcA)"
      ],
      "text/plain": [
       "<IPython.core.display.Markdown object>"
      ]
     },
     "metadata": {},
     "output_type": "display_data"
    },
    {
     "data": {
      "text/markdown": [
       "[5. Your personal doomsday calculator: Can AI predict when you'll die? - Google News](https://news.google.com/articles/CBMiZWh0dHBzOi8vd3d3Lndpb25ld3MuY29tL3ZpZGVvcy95b3VyLXBlcnNvbmFsLWRvb21zZGF5LWNhbGN1bGF0b3ItY2FuLWFpLXByZWRpY3Qtd2hlbi15b3VsbC1kaWUtNzA0MTgw0gFpaHR0cHM6Ly93d3cud2lvbmV3cy5jb20vdmlkZW9zL3lvdXItcGVyc29uYWwtZG9vbXNkYXktY2FsY3VsYXRvci1jYW4tYWktcHJlZGljdC13aGVuLXlvdWxsLWRpZS03MDQxODAvYW1w)"
      ],
      "text/plain": [
       "<IPython.core.display.Markdown object>"
      ]
     },
     "metadata": {},
     "output_type": "display_data"
    },
    {
     "data": {
      "text/markdown": [
       "[6. Google AI tool could potentially be used to diagnose a person's cough - Feedly AI](https://scrippsnews.com/stories/google-ai-tool-could-potentially-be-used-to-diagnose-a-person-s-cough/)"
      ],
      "text/plain": [
       "<IPython.core.display.Markdown object>"
      ]
     },
     "metadata": {},
     "output_type": "display_data"
    },
    {
     "data": {
      "text/markdown": [
       "[7. Can you hear me now? AI-coustics to fight noisy audio with generative AI - Google News](https://news.google.com/articles/CBMiamh0dHBzOi8vdGVjaGNydW5jaC5jb20vMjAyNC8wMy8yNS9jYW4teW91LWhlYXItbWUtbm93LWFpLWNvdXN0aWNzLXRvLWZpZ2h0LW5vaXN5LWF1ZGlvLXdpdGgtZ2VuZXJhdGl2ZS1haS_SAW5odHRwczovL3RlY2hjcnVuY2guY29tLzIwMjQvMDMvMjUvY2FuLXlvdS1oZWFyLW1lLW5vdy1haS1jb3VzdGljcy10by1maWdodC1ub2lzeS1hdWRpby13aXRoLWdlbmVyYXRpdmUtYWkvYW1wLw)"
      ],
      "text/plain": [
       "<IPython.core.display.Markdown object>"
      ]
     },
     "metadata": {},
     "output_type": "display_data"
    },
    {
     "data": {
      "text/markdown": [
       "[8. Sora AI: What is it? How to access video generator - Feedly AI](https://readwrite.com/sora-ai-what-is-it-how-to-access-video-generator/)"
      ],
      "text/plain": [
       "<IPython.core.display.Markdown object>"
      ]
     },
     "metadata": {},
     "output_type": "display_data"
    },
    {
     "data": {
      "text/markdown": [
       "[9. Tiny Corp launching Nvidia-powered AI computer because 'it just works' - Google News](https://news.google.com/articles/CBMiPGh0dHBzOi8vd3d3LnRoZXJlZ2lzdGVyLmNvbS8yMDI0LzAzLzI1L3RpbnlfY29ycF9hbWRfbnZpZGlhL9IBQGh0dHBzOi8vd3d3LnRoZXJlZ2lzdGVyLmNvbS9BTVAvMjAyNC8wMy8yNS90aW55X2NvcnBfYW1kX252aWRpYS8)"
      ],
      "text/plain": [
       "<IPython.core.display.Markdown object>"
      ]
     },
     "metadata": {},
     "output_type": "display_data"
    },
    {
     "data": {
      "text/markdown": [
       "[10. Tiny Corp Offers AMD & NVIDIA Powered AI Systems Starting At $15K, Says If You Want “It Just Works”, Buy Green - Google News](https://news.google.com/articles/CBMiamh0dHBzOi8vd2NjZnRlY2guY29tL3RpbnktY29ycC1hbWQtbnZpZGlhLWFpLXN5c3RlbXMtc3RhcnRpbmctMTVrLXVzZC1pZi15b3Utd2FudC1pdC1qdXN0LXdvcmtzLWJ1eS1ncmVlbi_SAW5odHRwczovL3djY2Z0ZWNoLmNvbS90aW55LWNvcnAtYW1kLW52aWRpYS1haS1zeXN0ZW1zLXN0YXJ0aW5nLTE1ay11c2QtaWYteW91LXdhbnQtaXQtanVzdC13b3Jrcy1idXktZ3JlZW4vYW1wLw)"
      ],
      "text/plain": [
       "<IPython.core.display.Markdown object>"
      ]
     },
     "metadata": {},
     "output_type": "display_data"
    },
    {
     "data": {
      "text/markdown": [
       "[11. 11 Big Nvidia Announcements At GTC 2024: Blackwell GPUs, AI Microservices And More - Google News](https://news.google.com/articles/CBMiiAFodHRwczovL3d3dy5jcm4uY29tL25ld3MvY29tcG9uZW50cy1wZXJpcGhlcmFscy8yMDI0L252aWRpYS1zLWJpZ2dlc3QtYW5ub3VuY2VtZW50cy1hdC1ndGMtMjAyNC1ibGFja3dlbGwtZ3B1cy1haS1taWNyb3NlcnZpY2VzLWFuZC1tb3Jl0gEA)"
      ],
      "text/plain": [
       "<IPython.core.display.Markdown object>"
      ]
     },
     "metadata": {},
     "output_type": "display_data"
    },
    {
     "data": {
      "text/markdown": [
       "[12. Pure Storage, Nvidia partner to democratize AI with new infrastructure solutions - Feedly AI](https://venturebeat.com/ai/pure-storage-nvidia-partner-to-democratize-ai-with-new-infrastructure-solutions/)"
      ],
      "text/plain": [
       "<IPython.core.display.Markdown object>"
      ]
     },
     "metadata": {},
     "output_type": "display_data"
    },
    {
     "data": {
      "text/markdown": [
       "[13. Samsung is going after Nvidia's billions with new AI chip — Mach-1 accelerator will combine CPU, GPU and memory to tackle inference tasks but not training - Feedly AI](https://www.techradar.com/pro/samsungs-going-after-nvidias-billions-with-new-ai-chip-mach-1-accelerator-will-combine-cpu-gpu-and-memory-to-tackle-inference-tasks-but-not-training)"
      ],
      "text/plain": [
       "<IPython.core.display.Markdown object>"
      ]
     },
     "metadata": {},
     "output_type": "display_data"
    },
    {
     "data": {
      "text/markdown": [
       "[14. The iPhone 16 Pro's chipset could be designed with AI in mind - Google News](https://news.google.com/articles/CBMiZGh0dHBzOi8vd3d3LnRlY2hyYWRhci5jb20vcGhvbmVzL2lwaG9uZS90aGUtaXBob25lLTE2LXByb3MtY2hpcHNldC1jb3VsZC1iZS1kZXNpZ25lZC13aXRoLWFpLWluLW1pbmTSAQA)"
      ],
      "text/plain": [
       "<IPython.core.display.Markdown object>"
      ]
     },
     "metadata": {},
     "output_type": "display_data"
    },
    {
     "data": {
      "text/markdown": [
       "[15. 5-ish Things About AI: Apple Serious About AI, Pitting AI Against the Experts, the ELVIS Act Passes - Google News](https://news.google.com/articles/CBMihQFodHRwczovL3d3dy5jbmV0LmNvbS90ZWNoL2NvbXB1dGluZy81LWlzaC10aGluZ3MtYWJvdXQtYWktYXBwbGUtc2VyaW91cy1hYm91dC1haS1waXR0aW5nLWFpLWFnYWluc3QtdGhlLWV4cGVydHMtdGhlLWVsdmlzLWFjdC1wYXNzZXMv0gEA)"
      ],
      "text/plain": [
       "<IPython.core.display.Markdown object>"
      ]
     },
     "metadata": {},
     "output_type": "display_data"
    },
    {
     "data": {
      "text/markdown": [
       "[16. What CEOs talked about in Q1 2024: AI, sustainability, and upcoming elections - Google News](https://news.google.com/articles/CBMiPGh0dHBzOi8vaW90LWFuYWx5dGljcy5jb20vd2hhdC1jZW9zLXRhbGtlZC1hYm91dC1pbi1xMS0yMDI0L9IBAA)"
      ],
      "text/plain": [
       "<IPython.core.display.Markdown object>"
      ]
     },
     "metadata": {},
     "output_type": "display_data"
    },
    {
     "data": {
      "text/markdown": [
       "[17. GDC 2024, PS5 Pro, and Ubisoft's AI NPCs | GI Microcast - Google News](https://news.google.com/articles/CBMiUGh0dHBzOi8vd3d3LmdhbWVzaW5kdXN0cnkuYml6L2dkYy0yMDI0LXBzNS1wcm8tYW5kLXViaXNvZnRzLWFpLW5wY3MtZ2ktbWljcm9jYXN00gEA)"
      ],
      "text/plain": [
       "<IPython.core.display.Markdown object>"
      ]
     },
     "metadata": {},
     "output_type": "display_data"
    },
    {
     "data": {
      "text/markdown": [
       "[18. Nvidia head reckons we'll have games where AI generates 'every pixel in real-time' in under a decade - Google News](https://news.google.com/articles/CBMiggFodHRwczovL3d3dy5yb2NrcGFwZXJzaG90Z3VuLmNvbS9udmlkaWEtaGVhZC1yZWNrb25zLXdlbGwtaGF2ZS1nYW1lcy13aGVyZS1haS1nZW5lcmF0ZXMtZXZlcnktcGl4ZWwtaW4tcmVhbC10aW1lLWluLXVuZGVyLWEtZGVjYWRl0gEA)"
      ],
      "text/plain": [
       "<IPython.core.display.Markdown object>"
      ]
     },
     "metadata": {},
     "output_type": "display_data"
    },
    {
     "data": {
      "text/markdown": [
       "[19. As AI booms, land near nuclear power plants becomes hot real estateCheap low-carbon energy? What's not to love...Systems1 hr|7 - The Register](https://www.theregister.com/2024/03/25/ai_boom_nuclear/)"
      ],
      "text/plain": [
       "<IPython.core.display.Markdown object>"
      ]
     },
     "metadata": {},
     "output_type": "display_data"
    },
    {
     "data": {
      "text/markdown": [
       "[20. This AI architect will design your climate-friendly dream home - Google News](https://news.google.com/articles/CBMiYmh0dHBzOi8vd3d3Lm1vbmV5d2ViLmNvLnphL25ld3MvYWkvdGhpcy1haS1hcmNoaXRlY3Qtd2lsbC1kZXNpZ24teW91ci1jbGltYXRlLWZyaWVuZGx5LWRyZWFtLWhvbWUv0gEA)"
      ],
      "text/plain": [
       "<IPython.core.display.Markdown object>"
      ]
     },
     "metadata": {},
     "output_type": "display_data"
    },
    {
     "data": {
      "text/markdown": [
       "[21. ASU business school launches AI degree program | ASU News - Google News](https://news.google.com/articles/CBMiamh0dHBzOi8vbmV3cy5hc3UuZWR1LzIwMjQwMzI1LWJ1c2luZXNzLWFuZC1lbnRyZXByZW5ldXJzaGlwLWFzdS1idXNpbmVzcy1zY2hvb2wtbGF1bmNoZXMtYWktZGVncmVlLXByb2dyYW3SAQA)"
      ],
      "text/plain": [
       "<IPython.core.display.Markdown object>"
      ]
     },
     "metadata": {},
     "output_type": "display_data"
    },
    {
     "data": {
      "text/markdown": [
       "[22. Georgia Tech produces most talent in AI across country, per JLL report - Atlanta Business Chronicle - Google News](https://news.google.com/articles/CBMiUmh0dHBzOi8vd3d3LmJpempvdXJuYWxzLmNvbS9hdGxhbnRhL25ld3MvMjAyNC8wMy8yNS9nZW9yZ2lhLXRlY2gtYWktZ3JhZHVhdGVzLmh0bWzSAQA)"
      ],
      "text/plain": [
       "<IPython.core.display.Markdown object>"
      ]
     },
     "metadata": {},
     "output_type": "display_data"
    },
    {
     "data": {
      "text/markdown": [
       "[23. OpenAI Sets Meetings With Hollywood In Bid To Break Into The Movie Business | GIANT FREAKIN ROBOT - Feedly AI](https://www.giantfreakinrobot.com/ent/openai-hollywood.html)"
      ],
      "text/plain": [
       "<IPython.core.display.Markdown object>"
      ]
     },
     "metadata": {},
     "output_type": "display_data"
    },
    {
     "data": {
      "text/markdown": [
       "[24. Bankrupt FTX Sells Stake In Hot AI Startup Anthropic - Feedly AI](https://www.barrons.com/news/bankrupt-ftx-sells-stake-in-hot-ai-startup-anthropic-9a42e039)"
      ],
      "text/plain": [
       "<IPython.core.display.Markdown object>"
      ]
     },
     "metadata": {},
     "output_type": "display_data"
    },
    {
     "data": {
      "text/markdown": [
       "[25. FTX to sell majority of stake in Anthropic for $884M - Google News](https://news.google.com/articles/CBMiT2h0dHBzOi8vZmluYW5jZS55YWhvby5jb20vbmV3cy9mdHgtc2VsbC1tYWpvcml0eS1zdGFrZS1hbnRocm9waWMtMTcwMjAwNzYzLmh0bWzSAQA)"
      ],
      "text/plain": [
       "<IPython.core.display.Markdown object>"
      ]
     },
     "metadata": {},
     "output_type": "display_data"
    },
    {
     "data": {
      "text/markdown": [
       "[26. FTX to Sell $884M of Anthropic Shares to Two Dozen Institutional Investors - Google News](https://news.google.com/articles/CBMidWh0dHBzOi8vd3d3LmNvaW5kZXNrLmNvbS9wb2xpY3kvMjAyNC8wMy8yNS9mdHgtdG8tc2VsbC04ODRtLW9mLWFudGhyb3BpYy1zaGFyZXMtdG8tdHdvLWRvemVuLWluc3RpdHV0aW9uYWwtaW52ZXN0b3JzL9IBeWh0dHBzOi8vd3d3LmNvaW5kZXNrLmNvbS9wb2xpY3kvMjAyNC8wMy8yNS9mdHgtdG8tc2VsbC04ODRtLW9mLWFudGhyb3BpYy1zaGFyZXMtdG8tdHdvLWRvemVuLWluc3RpdHV0aW9uYWwtaW52ZXN0b3JzL2FtcC8)"
      ],
      "text/plain": [
       "<IPython.core.display.Markdown object>"
      ]
     },
     "metadata": {},
     "output_type": "display_data"
    },
    {
     "data": {
      "text/markdown": [
       "[27. FTX to Sell Shares in Claude AI Developer Anthropic for $884 Million - Feedly AI](https://decrypt.co/223288/ftx-to-sell-shares-in-claude-ai-developer-anthropic-for-884-millionposted)"
      ],
      "text/plain": [
       "<IPython.core.display.Markdown object>"
      ]
     },
     "metadata": {},
     "output_type": "display_data"
    },
    {
     "data": {
      "text/markdown": [
       "[28. FTX to Sell Shares in Claude AI Developer Anthropic for $884 Million - Google News](https://news.google.com/articles/CBMiXWh0dHBzOi8vZGVjcnlwdC5jby8yMjMyODgvZnR4LXRvLXNlbGwtc2hhcmVzLWluLWNsYXVkZS1haS1kZXZlbG9wZXItYW50aHJvcGljLWZvci04ODQtbWlsbGlvbtIBY2h0dHBzOi8vZGVjcnlwdC5jby8yMjMyODgvZnR4LXRvLXNlbGwtc2hhcmVzLWluLWNsYXVkZS1haS1kZXZlbG9wZXItYW50aHJvcGljLWZvci04ODQtbWlsbGlvbj9hbXA9MQ)"
      ],
      "text/plain": [
       "<IPython.core.display.Markdown object>"
      ]
     },
     "metadata": {},
     "output_type": "display_data"
    },
    {
     "data": {
      "text/markdown": [
       "[29. Fake AI-Generated Books Swarm Amazon - Hacker News 2](https://goodereader.com/blog/amazon-news/fake-ai-generated-books-swarm-amazon)"
      ],
      "text/plain": [
       "<IPython.core.display.Markdown object>"
      ]
     },
     "metadata": {},
     "output_type": "display_data"
    },
    {
     "data": {
      "text/markdown": [
       "[30. Doctor Who Promos Spark Massive Backlash for Using AI, BBC Responds - Feedly AI](https://www.cbr.com/doctor-who-ai-backlash/)"
      ],
      "text/plain": [
       "<IPython.core.display.Markdown object>"
      ]
     },
     "metadata": {},
     "output_type": "display_data"
    },
    {
     "data": {
      "text/markdown": [
       "[31. Biden Wants to Put AI on a Leash - WSJ Tech](https://www.wsj.com/articles/biden-wants-to-put-artificial-intelligence-on-a-leash-progressive-regulation-45275102)"
      ],
      "text/plain": [
       "<IPython.core.display.Markdown object>"
      ]
     },
     "metadata": {},
     "output_type": "display_data"
    },
    {
     "data": {
      "text/markdown": [
       "[32. Akina Is The New AI Platform That Wants To Be A “Google For Black Women\" - Google News](https://news.google.com/articles/CBMicGh0dHBzOi8vcGVvcGxlb2Zjb2xvcmludGVjaC5jb20vYXJ0aWNsZXMvYWtpbmEtaXMtdGhlLW5ldy1haS1wbGF0Zm9ybS10aGF0LXdhbnRzLXRvLWJlLWEtZ29vZ2xlLWZvci1ibGFjay13b21lbi_SAQA)"
      ],
      "text/plain": [
       "<IPython.core.display.Markdown object>"
      ]
     },
     "metadata": {},
     "output_type": "display_data"
    },
    {
     "data": {
      "text/markdown": [
       "[33. One year in, Khan Academy's AI has 65000 students, and is still learning new skills - Google News](https://news.google.com/articles/CBMifGh0dHBzOi8vd3d3LmZhc3Rjb21wYW55LmNvbS85MTA2NjczMS9vbmUteWVhci1pbi1raGFuLWFjYWRlbXlzLWFpLWhhcy02NTAwMC1zdHVkZW50cy1hbmQtaXMtc3RpbGwtbGVhcm5pbmctbmV3LXNraWxscy1pdHNlbGbSAQA)"
      ],
      "text/plain": [
       "<IPython.core.display.Markdown object>"
      ]
     },
     "metadata": {},
     "output_type": "display_data"
    },
    {
     "data": {
      "text/markdown": [
       "[34. Distillery in Scotland using AI to create limited edition whisky - Google News](https://news.google.com/articles/CBMiV2h0dHBzOi8vd3d3LmZveG5ld3MuY29tL3RlY2gvZGlzdGlsbGVyeS1zY290bGFuZC11c2luZy1haS1jcmVhdGUtbGltaXRlZC1lZGl0aW9uLXdoaXNredIBW2h0dHBzOi8vd3d3LmZveG5ld3MuY29tL3RlY2gvZGlzdGlsbGVyeS1zY290bGFuZC11c2luZy1haS1jcmVhdGUtbGltaXRlZC1lZGl0aW9uLXdoaXNreS5hbXA)"
      ],
      "text/plain": [
       "<IPython.core.display.Markdown object>"
      ]
     },
     "metadata": {},
     "output_type": "display_data"
    },
    {
     "data": {
      "text/markdown": [
       "[35. Distillery in Scotland using AI to create limited edition whisky - Feedly AI](https://www.foxnews.com/tech/distillery-scotland-using-ai-create-limited-edition-whisky)"
      ],
      "text/plain": [
       "<IPython.core.display.Markdown object>"
      ]
     },
     "metadata": {},
     "output_type": "display_data"
    },
    {
     "data": {
      "text/markdown": [
       "[36. Distillery in Scotland using AI and algorithms to explore whisky flavors and mouthfeel - Google News](https://news.google.com/articles/CBMiK2h0dHBzOi8vd3d3LmZveG5ld3MuY29tL3ZpZGVvLzYzNDk2ODM2MzAxMTLSAQA)"
      ],
      "text/plain": [
       "<IPython.core.display.Markdown object>"
      ]
     },
     "metadata": {},
     "output_type": "display_data"
    },
    {
     "data": {
      "text/markdown": [
       "[37. This AI Paper from Max Planck, Adobe, and UCSD Proposes Explorative Inbetweening of Time and Space Using Time Reversal Fusion (TRF) - Google News](https://news.google.com/articles/CBMiqAFodHRwczovL3d3dy5tYXJrdGVjaHBvc3QuY29tLzIwMjQvMDMvMjUvdGhpcy1haS1wYXBlci1mcm9tLW1heC1wbGFuY2stYWRvYmUtYW5kLXVjc2QtcHJvcG9zZXMtZXhwbG9yYXRpdmUtaW5iZXR3ZWVuaW5nLW9mLXRpbWUtYW5kLXNwYWNlLXVzaW5nLXRpbWUtcmV2ZXJzYWwtZnVzaW9uLXRyZi_SAawBaHR0cHM6Ly93d3cubWFya3RlY2hwb3N0LmNvbS8yMDI0LzAzLzI1L3RoaXMtYWktcGFwZXItZnJvbS1tYXgtcGxhbmNrLWFkb2JlLWFuZC11Y3NkLXByb3Bvc2VzLWV4cGxvcmF0aXZlLWluYmV0d2VlbmluZy1vZi10aW1lLWFuZC1zcGFjZS11c2luZy10aW1lLXJldmVyc2FsLWZ1c2lvbi10cmYvP2FtcA)"
      ],
      "text/plain": [
       "<IPython.core.display.Markdown object>"
      ]
     },
     "metadata": {},
     "output_type": "display_data"
    },
    {
     "data": {
      "text/markdown": [
       "[38. Watch Neuralink's first human patient play 'Mario Kart' with his mind - Business Insider](https://www.businessinsider.com/neuralink-mario-kart-brain-video-human-patient-2024-3)"
      ],
      "text/plain": [
       "<IPython.core.display.Markdown object>"
      ]
     },
     "metadata": {},
     "output_type": "display_data"
    },
    {
     "data": {
      "text/markdown": [
       "[39. New Apple Pencil With Vision Pro Support in Testing Ahead of visionOS 2 - Google News](https://news.google.com/articles/CBMiTmh0dHBzOi8vd3d3Lm1hY3J1bW9ycy5jb20vMjAyNC8wMy8yNS9hcHBsZS1wZW5jaWwtdmlzaW9ub24tc3VwcG9ydC1pbi10ZXN0aW5nL9IBAA)"
      ],
      "text/plain": [
       "<IPython.core.display.Markdown object>"
      ]
     },
     "metadata": {},
     "output_type": "display_data"
    },
    {
     "data": {
      "text/markdown": [
       "[40. Rumor: New Apple Pencil could come with Vision Pro support - Google News](https://news.google.com/articles/CBMiPWh0dHBzOi8vOXRvNW1hYy5jb20vMjAyNC8wMy8yNS9hcHBsZS12aXNpb24tcHJvLWFwcGxlLXBlbmNpbC_SAQA)"
      ],
      "text/plain": [
       "<IPython.core.display.Markdown object>"
      ]
     },
     "metadata": {},
     "output_type": "display_data"
    },
    {
     "data": {
      "text/markdown": [
       "[41. New Apple Pencil might work with Vision Pro, which sounds weird but is actually genius - Google News](https://news.google.com/articles/CBMia2h0dHBzOi8vYmdyLmNvbS90ZWNoL25ldy1hcHBsZS1wZW5jaWwtbWlnaHQtd29yay13aXRoLXZpc2lvbi1wcm8td2hpY2gtc291bmRzLXdlaXJkLWJ1dC1pcy1hY3R1YWxseS1nZW5pdXMv0gEA)"
      ],
      "text/plain": [
       "<IPython.core.display.Markdown object>"
      ]
     },
     "metadata": {},
     "output_type": "display_data"
    },
    {
     "data": {
      "text/markdown": [
       "[42. Camera flagship Nubia Z60 Ultra coming soon as a special Photographer Edition with more AI features - Google News](https://news.google.com/articles/CBMijwFodHRwczovL3d3dy5ub3RlYm9va2NoZWNrLm5ldC9DYW1lcmEtZmxhZ3NoaXAtTnViaWEtWjYwLVVsdHJhLWNvbWluZy1zb29uLWFzLWEtc3BlY2lhbC1QaG90b2dyYXBoZXItRWRpdGlvbi13aXRoLW1vcmUtQUktZmVhdHVyZXMuODE3NTY1LjAuaHRtbNIBAA)"
      ],
      "text/plain": [
       "<IPython.core.display.Markdown object>"
      ]
     },
     "metadata": {},
     "output_type": "display_data"
    },
    {
     "data": {
      "text/markdown": [
       "[43. nubia Z60 Ultra is getting a Photography Edition with more AI - GSMArena.com news - Google News](https://news.google.com/articles/CBMiZWh0dHBzOi8vd3d3LmdzbWFyZW5hLmNvbS9udWJpYV96NjBfdWx0cmFfaXNfZ2V0dGluZ19hX3Bob3RvZ3JhcGh5X2VkaXRpb25fd2l0aF9tb3JlX2FpLW5ld3MtNjIxMzYucGhw0gFiaHR0cHM6Ly9tLmdzbWFyZW5hLmNvbS9udWJpYV96NjBfdWx0cmFfaXNfZ2V0dGluZ19hX3Bob3RvZ3JhcGh5X2VkaXRpb25fd2l0aF9tb3JlX2FpLWFtcC02MjEzNi5waHA)"
      ],
      "text/plain": [
       "<IPython.core.display.Markdown object>"
      ]
     },
     "metadata": {},
     "output_type": "display_data"
    },
    {
     "data": {
      "text/markdown": [
       "[44. Nubia Z60 Ultra 'Photographer's Edition' will do real-time language translation similar to the Galaxy S24 series - Google News](https://news.google.com/articles/CBMikwFodHRwczovL3d3dy5naXptb2NoaW5hLmNvbS8yMDI0LzAzLzI1L251YmlhLXo2MC11bHRyYS1waG90b2dyYXBoZXJzLWVkaXRpb20tcmVhbC10aW1lLWFpLWNhbGwtY29udmVyc2F0aW9uLXRyYW5zbGF0aW9uLXNpbWlsYXItdG8tZ2FsYXh5LXMyNC11bHRyYS_SAQA)"
      ],
      "text/plain": [
       "<IPython.core.display.Markdown object>"
      ]
     },
     "metadata": {},
     "output_type": "display_data"
    },
    {
     "data": {
      "text/markdown": [
       "[45. Large language models use a surprisingly simple mechanism to retrieve some stored knowledge - Feedly AI](https://news.mit.edu/2024/large-language-models-use-surprisingly-simple-mechanism-retrieve-stored-knowledge-0325)"
      ],
      "text/plain": [
       "<IPython.core.display.Markdown object>"
      ]
     },
     "metadata": {},
     "output_type": "display_data"
    },
    {
     "data": {
      "text/markdown": [
       "[46. AI chatbots can help with your mental health. Just don’t think of them as therapy - Feedly AI](https://www.fastcompany.com/91068813/ai-chatbots-mental-health-therapy)"
      ],
      "text/plain": [
       "<IPython.core.display.Markdown object>"
      ]
     },
     "metadata": {},
     "output_type": "display_data"
    },
    {
     "data": {
      "text/markdown": [
       "[47. Vernor Vinge, first author to describe cyberspace and 'The Singularity,' dies at 79 - Google News](https://news.google.com/articles/CBMiPWh0dHBzOi8vd3d3LnRoZXJlZ2lzdGVyLmNvbS8yMDI0LzAzLzIyL3Zlcm5vcl92aW5nZV9vYml0dWFyeS_SAUFodHRwczovL3d3dy50aGVyZWdpc3Rlci5jb20vQU1QLzIwMjQvMDMvMjIvdmVybm9yX3ZpbmdlX29iaXR1YXJ5Lw)"
      ],
      "text/plain": [
       "<IPython.core.display.Markdown object>"
      ]
     },
     "metadata": {},
     "output_type": "display_data"
    },
    {
     "data": {
      "text/markdown": [
       "[48. Vernor Vinge (1944-2024) – Locus Online - Google News](https://news.google.com/articles/CBMiNGh0dHBzOi8vbG9jdXNtYWcuY29tLzIwMjQvMDMvdmVybm9yLXZpbmdlLTE5NDQtMjAyNC_SAQA)"
      ],
      "text/plain": [
       "<IPython.core.display.Markdown object>"
      ]
     },
     "metadata": {},
     "output_type": "display_data"
    }
   ],
   "source": [
    "for i, j in enumerate(sorted_indices):\n",
    "    row = AIdf.iloc[j]\n",
    "    display(Markdown(f\"[{i}. {row.title} - {row.src}]({row.url})\"))\n",
    "    "
   ]
  },
  {
   "cell_type": "markdown",
   "id": "2d70bd0b-d69e-4306-9fc3-5bb83e633806",
   "metadata": {},
   "source": [
    "# Load posts from BlueSky and format for Substack or a blog post\n",
    "for now I share the interesting stuff on bluesky and then use this code to grab latest BlueSky 'tweets' and format a [Substack post](https://skynetandchill.com)"
   ]
  },
  {
   "cell_type": "code",
   "execution_count": null,
   "id": "a64411df-424d-4fe1-a1ef-2484346fa856",
   "metadata": {},
   "outputs": [],
   "source": [
    "client = Client(base_url='https://bsky.social')\n",
    "client.login(os.environ['BSKY_USERNAME'], os.environ['BSKY_SECRET'])\n",
    "\n",
    "mydid = {\"did\":\"did:plc:qomkdnxrqw3gkbytdxea5z65\"}\n",
    "\n",
    "data = client.get_author_feed(\n",
    "    actor=mydid['did'],\n",
    "    filter='posts_and_author_threads',\n",
    "    limit=50,\n",
    ")\n"
   ]
  },
  {
   "cell_type": "code",
   "execution_count": null,
   "id": "d2f0a047",
   "metadata": {},
   "outputs": [],
   "source": [
    "def remove_urls(text):\n",
    "    # Regular expression to match URLs\n",
    "    url_pattern = r'https?://\\S+|www\\.\\S+'\n",
    "    # Substitute found URLs with an empty string\n",
    "    clean_text = re.sub(url_pattern, '', text)\n",
    "    return clean_text\n",
    "\n"
   ]
  },
  {
   "cell_type": "code",
   "execution_count": null,
   "id": "3d723127",
   "metadata": {},
   "outputs": [],
   "source": [
    "def rawfetchurl(url, timeout=60):\n",
    "    \"\"\"get url using requests with specified timeout. return response object, status, content-type\"\"\"\n",
    "    try:\n",
    "        response = requests.get(url, timeout=timeout)\n",
    "    except httplib.BadStatusLine:\n",
    "        print(\"Bad response (?) fetching url %s \" % url)\n",
    "        response = None\n",
    "    except requests.Timeout:\n",
    "        print(\"Timeout fetching url %s \" % url)\n",
    "        response = None\n",
    "    except requests.ConnectionError as e:\n",
    "        print(\"Connection error (%s) fetching url %s \" % (str(e), url))\n",
    "        response = None\n",
    "    except requests.TooManyRedirects:\n",
    "        print(\"Too many redirects fetching url %s \" % url)\n",
    "        response = None\n",
    "    except requests.exceptions.MissingSchema:\n",
    "        print(\"Missing schema url %s \" % url)\n",
    "        response = None\n",
    "    except requests.exceptions.InvalidSchema:\n",
    "        print(\"Invalid schema url %s \" % url)\n",
    "        response = None\n",
    "    except requests.exceptions.InvalidURL as e:\n",
    "        print(\"Invalid url %s, %s\" % (url, str(e)))\n",
    "        response = None\n",
    "    except ValueError as e:\n",
    "        # don't log url because possibly malformed url\n",
    "        print(\"ValueError, url ?: ? \")\n",
    "        response = None\n",
    "    except httplib.IncompleteRead as e:\n",
    "        print(\"IncompleteRead, url %s: %s \" % (url, str(e)))\n",
    "        response = None\n",
    "    except urllib3.exceptions.SSLError as e:\n",
    "        print(\"SSLError, url %s: %s \" % (url, str(e)))\n",
    "        response = None\n",
    "    except requests.exceptions.ContentDecodingError as e:\n",
    "        print(\"SSLError, url %s: %s \" % (url, str(e)))\n",
    "        response = None\n",
    "    except requests.exceptions.ChunkedEncodingError as e:\n",
    "        print(\"ChunkedEncodingError, url %s: %s \" % (url, str(e)))\n",
    "        response = None\n",
    "    except UnicodeEncodeError as e:\n",
    "        print(\"UnicodeEncodeError, url %s: %s \" % (url, str(e)))\n",
    "        response = None\n",
    "    except OpenSSL.SSL.SysCallError as e:\n",
    "        print(\"OpenSSL.SSL.SysCallError, url %s: %s \" % (url, str(e)))\n",
    "        response = -1\n",
    "    except OpenSSL.SSL.ZeroReturnError as e:\n",
    "        print(\"OpenSSL.SSL.ZeroReturnError, url %s: %s \" % (url, str(e)))\n",
    "        response = -1\n",
    "\n",
    "    # except requests.packages.urllib3.exceptions.DecodeError as e:\n",
    "    #     utilLog(\"DecodeError, url %s: %s \" % (url, str(e)))\n",
    "    #     response = None\n",
    "\n",
    "    return response\n",
    "\n",
    "\n",
    "imgurl = 'https://nypost.com/wp-content/uploads/sites/2/2024/02/nate-silver-calls-shut-gemini-77192719.jpg?quality=75&strip=all&w=1024'\n",
    "r = rawfetchurl(imgurl)"
   ]
  },
  {
   "cell_type": "code",
   "execution_count": null,
   "id": "ac3c09d9",
   "metadata": {},
   "outputs": [],
   "source": [
    "\n",
    "# #         impath = \"%s/%d.%s\" % (today_orig_dir, actualurl.id, file_ext)\n",
    "# impath = 'x.jpg'\n",
    "# with open(impath, 'wb') as file:\n",
    "#     file.write(r.content)\n",
    "\n",
    "# display(IPython.display.Image(filename=impath))\n"
   ]
  },
  {
   "cell_type": "code",
   "execution_count": null,
   "id": "da3e11a1",
   "metadata": {},
   "outputs": [],
   "source": [
    "\n",
    "# def resize_and_crop(image_path, output_path, size=(360, 360)):\n",
    "#     # Open the image\n",
    "#     image = PIL.Image.open(image_path)\n",
    "\n",
    "#     # Calculate the aspect ratio\n",
    "#     aspect_ratio = image.width / image.height\n",
    "#     target_aspect_ratio = size[0] / size[1]\n",
    "\n",
    "#     # Determine the scaling factor and new size\n",
    "#     if aspect_ratio > target_aspect_ratio:\n",
    "#         # Image is wider than desired aspect ratio\n",
    "#         new_height = size[1]\n",
    "#         new_width = int(new_height * aspect_ratio)\n",
    "#     else:\n",
    "#         # Image is taller than desired aspect ratio\n",
    "#         new_width = size[0]\n",
    "#         new_height = int(new_width / aspect_ratio)\n",
    "\n",
    "#     # Resize the image\n",
    "#     image = image.resize((new_width, new_height))\n",
    "\n",
    "#     # Calculate coordinates to crop the image to the target size\n",
    "#     left = (new_width - size[0]) / 2\n",
    "#     top = (new_height - size[1]) / 2\n",
    "#     right = (new_width + size[0]) / 2\n",
    "#     bottom = (new_height + size[1]) / 2\n",
    "\n",
    "#     # Crop the image\n",
    "#     image = image.crop((left, top, right, bottom))\n",
    "\n",
    "#     # Save the cropped image\n",
    "#     image.save(output_path)\n",
    "\n",
    "def resize_and_crop(input_image_path, output_image_path, desired_height=240):\n",
    "    # Load the image\n",
    "    with Image.open(input_image_path) as img:\n",
    "        img = img.convert('RGB')\n",
    "\n",
    "        # Calculate the new width maintaining the aspect ratio\n",
    "        aspect_ratio = img.width / img.height\n",
    "        new_width = int(desired_height * aspect_ratio)\n",
    "\n",
    "        # Resize the image\n",
    "        resized_img = img.resize((new_width, desired_height))\n",
    "\n",
    "        # Save the resized image\n",
    "        resized_img.save(output_image_path)\n",
    "\n",
    "# output_path = 'square.jpg'\n",
    "# resize_and_crop(impath, output_path)\n",
    "# display(IPython.display.Image(filename=output_path))\n"
   ]
  },
  {
   "cell_type": "code",
   "execution_count": null,
   "id": "20ff6485",
   "metadata": {},
   "outputs": [],
   "source": [
    "# attempt to remove traiing inline URLs\n",
    "\n",
    "def truncate_last_occurrence(text: str) -> str:\n",
    "    # Find the last occurrence of a space followed by any sequence of characters followed by 3 periods\n",
    "    pattern = r'\\s+\\S+\\.{3}$'\n",
    "    return re.sub(pattern, '', text)\n",
    "\n",
    "# Example text for testing\n",
    "\n",
    "example_text = \"\"\"Elon Musk says we'll run out of power capacity to run all the AI chips in 2025\n",
    "newatlas.com/technology/e...\"\"\"\n",
    "\n",
    "# Truncate the last occurrence\n",
    "print(truncate_last_occurrence(example_text))\n",
    "\n"
   ]
  },
  {
   "cell_type": "code",
   "execution_count": null,
   "id": "03fe49dc",
   "metadata": {},
   "outputs": [],
   "source": [
    "\n",
    "# for post in data.feed:\n",
    "#     post_str = post.post.record.text.rstrip()\n",
    "#     post_str = truncate_last_occurrence(post_str)\n",
    "#     post_url = \"\"\n",
    "#     try:\n",
    "#         post_url = post.post.record.embed.external.uri.rstrip()\n",
    "#     except:\n",
    "#         pass\n",
    "\n",
    "#     print(remove_urls(post_str))\n",
    "#     print(post_url)\n",
    "#     print()\n"
   ]
  },
  {
   "cell_type": "code",
   "execution_count": null,
   "id": "f78d8382",
   "metadata": {},
   "outputs": [],
   "source": [
    "# for i, post in enumerate(data.feed):\n",
    "#     post_str = post.post.record.text.rstrip()\n",
    "#     post_str = truncate_last_occurrence(post_str)\n",
    "#     post_url = \"\"\n",
    "#     tag_dict = {}\n",
    "#     try:\n",
    "#         post_url = post.post.record.embed.external.uri.rstrip()\n",
    "#     except:\n",
    "#         pass\n",
    "#     if post_url:\n",
    "#         tag_dict = get_og_tags(post_url)\n",
    "#         display_str = f\"[{post_str}]({post_url})\"\n",
    "#         site_name = tag_dict.get('og:site_name')\n",
    "#         img_url = tag_dict.get('og:image')\n",
    "#         if site_name:\n",
    "#             display_str += f\" - {site_name}\"\n",
    "#         if img_url:\n",
    "#             try:\n",
    "#                 r = rawfetchurl(img_url)\n",
    "#                 content_type = r.headers['Content-Type']\n",
    "#                 content_type = content_type[content_type.find('/')+1:]\n",
    "#                 impath = f\"source{i}.{content_type}\"\n",
    "#                 with open(impath, 'wb') as file:\n",
    "#                     file.write(r.content)\n",
    "#                 output_path = f'Image{i}.jpg'\n",
    "#                 resize_and_crop(impath, output_path)\n",
    "#                 display(IPython.display.Image(filename=output_path))\n",
    "#             except Exception as e:\n",
    "#                 print(e)\n",
    "#         display(Markdown(display_str))\n",
    "#     else:\n",
    "#         display(Markdown(f\"{post_str}\"))\n"
   ]
  },
  {
   "cell_type": "code",
   "execution_count": null,
   "id": "026679ea",
   "metadata": {},
   "outputs": [],
   "source": [
    "imgdir = 'tmp'  # for images\n",
    "delete_files(imgdir)\n",
    "\n",
    "display(Markdown(f\"Follow latest AI headlines via [SkynetAndChill.com on Bluesky](https://bsky.app/profile/skynetandchill.com)\"))\n",
    "\n",
    "\n",
    "for i, post in enumerate(data.feed):\n",
    "    post_str = post.post.record.text.rstrip()\n",
    "    post_str = truncate_last_occurrence(post_str)\n",
    "    post_url = \"\"\n",
    "    tag_dict = {}\n",
    "    try:\n",
    "        post_url = post.post.record.embed.external.uri.rstrip()\n",
    "    except:\n",
    "        pass\n",
    "    if post_url:\n",
    "        tag_dict = get_og_tags(post_url)\n",
    "        display_str = f\"[{post_str}]({post_url})\"\n",
    "        site_name = tag_dict.get('og:site_name')\n",
    "        img_url = tag_dict.get('og:image')\n",
    "        if site_name:\n",
    "            display_str += f\" - {site_name}\"\n",
    "        if img_url:\n",
    "            try:\n",
    "                r = rawfetchurl(img_url)\n",
    "                content_type = r.headers['Content-Type']\n",
    "                content_type = content_type[content_type.find('/')+1:]\n",
    "                impath = f\"{imgdir}/source{i}.{content_type}\"\n",
    "                with open(impath, 'wb') as file:\n",
    "                    file.write(r.content)\n",
    "                output_path = f'{imgdir}/Image{i}.jpg'\n",
    "                resize_and_crop(impath, output_path)\n",
    "                display(IPython.display.Image(filename=output_path))\n",
    "            except Exception as e:\n",
    "                print(e)\n",
    "        display(Markdown(display_str))\n",
    "        display(Markdown(\"___\"))\n",
    "\n",
    "    else:\n",
    "        display(Markdown(f\"{post_str}\"))"
   ]
  },
  {
   "cell_type": "code",
   "execution_count": null,
   "id": "b2206e03",
   "metadata": {},
   "outputs": [],
   "source": [
    "data.feed[0].post.record.embed.external.thumb.dict()"
   ]
  },
  {
   "cell_type": "code",
   "execution_count": null,
   "id": "e22a81b1",
   "metadata": {},
   "outputs": [],
   "source": [
    "data.feed[0].post.record.embed.dict()"
   ]
  },
  {
   "cell_type": "code",
   "execution_count": null,
   "id": "cd45e02f",
   "metadata": {},
   "outputs": [],
   "source": [
    "print(datetime.now())"
   ]
  },
  {
   "cell_type": "code",
   "execution_count": null,
   "id": "7c6f2b8e",
   "metadata": {},
   "outputs": [],
   "source": [
    "pd.read_sql_query(\"select * from news_articles where article_date > '2024-03-23'\", conn)\n"
   ]
  },
  {
   "cell_type": "code",
   "execution_count": null,
   "id": "c140ba45-e82b-4c4d-98b5-76169587e58f",
   "metadata": {},
   "outputs": [],
   "source": []
  }
 ],
 "metadata": {
  "kernelspec": {
   "display_name": "ainewsbot",
   "language": "python",
   "name": "ainewsbot"
  },
  "language_info": {
   "codemirror_mode": {
    "name": "ipython",
    "version": 3
   },
   "file_extension": ".py",
   "mimetype": "text/x-python",
   "name": "python",
   "nbconvert_exporter": "python",
   "pygments_lexer": "ipython3",
   "version": "3.9.19"
  }
 },
 "nbformat": 4,
 "nbformat_minor": 5
}
