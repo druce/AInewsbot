{
 "cells": [
  {
   "cell_type": "markdown",
   "id": "2f4d6d88-0f37-4edb-a226-244a287823a6",
   "metadata": {},
   "source": [
    "AInewsbot.ipynb\n",
    "\n",
    "- Open URLs of news sites specififed in `sources` dict using Selenium and Firefox\n",
    "- Save HTML of each URL in htmldata directory\n",
    "- Extract URLs from all files, create a pandas dataframe with url, title, src\n",
    "- Use ChatGPT to filter only AI-related headlines by sending a prompt and formatted table of headlines\n",
    "- Use SQLite to filter headlines previously seen \n",
    "- OPENAI_API_KEY should be in the environment or in a .env file\n",
    "  \n",
    "Alternative manual workflow to get HTML files if necessary\n",
    "- Use Chrome, open e.g. Tech News bookmark folder, right-click and open all bookmarks in new window\n",
    "- on Google News, make sure switch to AI tab\n",
    "- on Google News, Feedly, Reddit, scroll to additional pages as desired\n",
    "- Use SingleFile extension, 'save all tabs'\n",
    "- Move files to htmldata directory\n",
    "- Run lower part of notebook to process the data\n"
   ]
  },
  {
   "cell_type": "code",
   "execution_count": 1,
   "id": "0c757ee9-8f4e-4f95-a491-bfac533755bd",
   "metadata": {
    "tags": []
   },
   "outputs": [
    {
     "name": "stdout",
     "output_type": "stream",
     "text": [
      "openai          1.14.2\n",
      "requests        2.31.0\n",
      "BeautifulSoup   4.12.3\n"
     ]
    }
   ],
   "source": [
    "import json\n",
    "import os\n",
    "import re\n",
    "from datetime import datetime, timedelta\n",
    "from urllib.parse import urlparse\n",
    "import time\n",
    "\n",
    "from selenium import webdriver\n",
    "from selenium.webdriver.common.by import By\n",
    "from selenium.webdriver.common.keys import Keys\n",
    "from selenium.webdriver.support.ui import WebDriverWait\n",
    "from selenium.webdriver.support import expected_conditions as EC\n",
    "# use firefox because it updates less often, can disable updates\n",
    "# recommend importing profile from Chrome for cookies, passwords\n",
    "# looks less like a bot with more user cruft in the profile\n",
    "from selenium.webdriver.firefox.options import Options\n",
    "from selenium.webdriver.firefox.service import Service\n",
    "\n",
    "import bs4\n",
    "from bs4 import BeautifulSoup\n",
    "import requests\n",
    "from urllib.parse import urljoin\n",
    "\n",
    "import openai\n",
    "from openai import OpenAI\n",
    "import tiktoken\n",
    "\n",
    "import dotenv\n",
    "import pandas as pd\n",
    "import sqlite3\n",
    "\n",
    "import IPython\n",
    "from IPython.display import HTML, Markdown, display\n",
    "\n",
    "from atproto import Client\n",
    "\n",
    "import PIL\n",
    "from PIL import Image\n",
    "\n",
    "print(f\"openai          {openai.__version__}\")\n",
    "print(f\"requests        {requests.__version__}\")\n",
    "print(f\"BeautifulSoup   {bs4.__version__}\")"
   ]
  },
  {
   "cell_type": "code",
   "execution_count": 2,
   "id": "55023e78-e796-4e69-9cad-b5f039c75a85",
   "metadata": {},
   "outputs": [],
   "source": [
    "# load credentials if necessary\n",
    "dotenv.load_dotenv()\n",
    "client = OpenAI()"
   ]
  },
  {
   "cell_type": "code",
   "execution_count": 3,
   "id": "a85ffe86",
   "metadata": {},
   "outputs": [],
   "source": [
    "# delete files in output directory\n",
    "download_dir = \"htmldata\"\n",
    "\n",
    "def delete_files(outputdir):\n",
    "\n",
    "    # Iterate over all files in the directory\n",
    "    for filename in os.listdir(outputdir):\n",
    "        file_path = os.path.join(outputdir, filename)\n",
    "        try:\n",
    "            if os.path.isfile(file_path) or os.path.islink(file_path):\n",
    "                os.remove(file_path)  # Remove the file\n",
    "            elif os.path.isdir(file_path):\n",
    "                # If you want to remove subdirectories as well, use os.rmdir() here\n",
    "                pass\n",
    "        except Exception as e:\n",
    "            print(f'Failed to delete {file_path}. Reason: {e}')\n",
    "\n",
    "\n",
    "delete_files(download_dir)"
   ]
  },
  {
   "cell_type": "markdown",
   "id": "3e57c1b2-b4bb-4a24-94ec-b0f17cd70d5d",
   "metadata": {},
   "source": [
    "# Specify sources"
   ]
  },
  {
   "cell_type": "code",
   "execution_count": 4,
   "id": "74d1c10f",
   "metadata": {},
   "outputs": [],
   "source": [
    "sources = {\n",
    "    # \"Twitter\": {\n",
    "    #     \"title\": \"@TheLinkfest_AI _ X\",\n",
    "    #     \"include\": [\"^https://twitter.com/(\\w+)/status/(\\d+)$\"],\n",
    "    # },\n",
    "    \"Reddit\": {\n",
    "        \"title\": \"top scoring links _ multi\",\n",
    "        \"url\": \"https://www.reddit.com/r/ChatGPT+ChatGPTCoding+MacOS+MachineLearning+OpenAI+ProgrammerHumor+Windows10+battlestations+buildapc+cordcutters+dataisbeautiful+gadgets+hardware+linux+msp+programming+realtech+software+talesfromtechsupport+tech+technews+technology+techsupportgore+windows/top/?sort=top&t=day\",\n",
    "        \"scroll\": 2,\n",
    "        \"exclude\": [\n",
    "            \"^https://www.reddit.com/\",\n",
    "            \"^https://chat.reddit.com/\",\n",
    "            \"^https://i.redd.it/\",\n",
    "            \"^https://redditblog.com/\",\n",
    "            \"^https://www.redditinc.com/\",\n",
    "            \"^https://www.reddithelp.com/\",\n",
    "            \"^https://itunes.apple.com/\",\n",
    "            \"^https://play.google.com/\",\n",
    "        ],\n",
    "    },\n",
    "    \"Hacker News\": {\n",
    "        \"title\": \"Hacker News Page 1\",\n",
    "        \"url\": \"https://news.ycombinator.com/\",\n",
    "        \"exclude\": [\n",
    "            \"https://news.ycombinator.com/\",\n",
    "            \"https://www.ycombinator.com/\",\n",
    "        ],\n",
    "    },\n",
    "    \"Hacker News 2\": {\n",
    "        \"title\": \"Hacker News Page 2\",\n",
    "        \"url\": \"https://news.ycombinator.com/?p=2\",\n",
    "        \"exclude\": [\n",
    "            \"https://news.ycombinator.com/\",\n",
    "            \"https://www.ycombinator.com/\",\n",
    "        ],\n",
    "    },\n",
    "    \"Techmeme\": {\n",
    "        \"title\": \"Techmeme\",\n",
    "        \"url\": \"https://www.techmeme.com/river\",\n",
    "        \"exclude\": [\n",
    "            \"^https://www.techmeme.com\",\n",
    "            \"^https://twitter.com/\",\n",
    "            \"^https://www.threads.net\",\n",
    "            \"^https://www.linkedin.com\",\n",
    "            \"^https://mastodon.social\",\n",
    "            \"^https://bsky.app\",\n",
    "        ],\n",
    "    },\n",
    "    \"Feedly AI\": {\n",
    "        \"title\": \"Discover and Add New Feedly AI Feeds\",\n",
    "        \"url\": \"https://feedly.com/i/aiFeeds?options=eyJsYXllcnMiOlt7InBhcnRzIjpbeyJpZCI6Im5scC9mL3RvcGljLzMwMDAifV0sInNlYXJjaEhpbnQiOiJ0ZWNobm9sb2d5IiwidHlwZSI6Im1hdGNoZXMiLCJzYWxpZW5jZSI6ImFib3V0In1dLCJidW5kbGVzIjpbeyJ0eXBlIjoic3RyZWFtIiwiaWQiOiJ1c2VyLzYyZWViYjlmLTcxNTEtNGY5YS1hOGM3LTlhNTdiODIwNTMwOC9jYXRlZ29yeS9HYWRnZXRzIn1dfQ\",\n",
    "        \"scroll\": 2,\n",
    "    },\n",
    "    \"NYT Tech\": {\n",
    "        \"title\": \"Technology - The New York Times\",\n",
    "        \"url\": \"https://www.nytimes.com/section/technology\",\n",
    "        \"include\": [\"^https://www.nytimes.com/(\\d+)/(\\d+)/(\\d+)(.*).html$\"],\n",
    "    },\n",
    "    \"WSJ Tech\": {\n",
    "        \"title\": \"Technology - WSJ.com\",\n",
    "        \"url\": \"https://www.wsj.com/tech\",\n",
    "        \"include\": [\"^https://www.wsj.com/articles/\"],\n",
    "    },\n",
    "    \"Bloomberg Tech\": {\n",
    "        \"title\": \"Bloomberg Technology - Bloomberg\",\n",
    "        \"url\": \"https://www.bloomberg.com/technology\",\n",
    "        \"include\": [\"^https://www.bloomberg.com/news/(\\w+)/(\\d+)-(\\d+)-(\\d+)\"],\n",
    "    },\n",
    "    \"FT Tech\": {\n",
    "        \"title\": \"Technology\",\n",
    "        \"url\": \"https://www.ft.com/technology\",\n",
    "        \"include\": [\"https://www.ft.com/content/\"]\n",
    "    },\n",
    "    \"WaPo Tech\": {\n",
    "        \"title\": \"Technology - The Washington Post\",\n",
    "        \"url\": \"https://www.washingtonpost.com/business/technology/\",\n",
    "        \"include\": [\"https://www.washingtonpost.com/(\\w+)/(\\d+)/(\\d+)/(\\d+)/\"],\n",
    "    },\n",
    "    \"Google News\": {\n",
    "        \"title\": \"Google News - Technology - Artificial intelligence\",\n",
    "        \"url\": \"https://news.google.com/topics/CAAqJggKIiBDQkFTRWdvSUwyMHZNRGRqTVhZU0FtVnVHZ0pWVXlnQVAB?hl=en-US&gl=US&ceid=US%3Aen\",\n",
    "        \"scroll\": 2,\n",
    "        \"click\" : '//*[@aria-label=\"Artificial intelligence\"]',\n",
    "        \"include\": [\"^https://news.google.com/articles/\"],\n",
    "    },\n",
    "    \"HackerNoon\": {\n",
    "        \"title\": \"HackerNoon - read, write and learn about any technology\",\n",
    "        \"url\": \"https://hackernoon.com/\",\n",
    "        \"include\": [\"^https://hackernoon.com/([^/])*$\"],\n",
    "        \"exclude\": [\n",
    "            \"^https://hackernoon.com/$\",\n",
    "            \"^https://hackernoon.com/c$\",\n",
    "            \"^https://hackernoon.com/coins$\",\n",
    "            \"^https://hackernoon.com/companies$\",\n",
    "            \"^https://hackernoon.com/gallery$\",\n",
    "            \"^https://hackernoon.com/how-to-gain-followers-and-newsletter-subs-directly-on-hackernoon$\",\n",
    "            \"^https://hackernoon.com/login$\",\n",
    "            \"^https://hackernoon.com/reader-boot$\",\n",
    "            \"^https://hackernoon.com/sitemap.xml$\",\n",
    "            \"^https://hackernoon.com/startups$\",\n",
    "            \"^https://hackernoon.com/techbeat$\",\n",
    "            \"^https://hackernoon.com/why-i-write-on-hacker-noon-nl28335q$\",\n",
    "            \"^https://hackernoon.com/writer-signup$\",\n",
    "        ],\n",
    "    },\n",
    "    \"Ars Technica\": {\n",
    "        \"title\": \"Ars Technica\",\n",
    "        \"url\": \"https://arstechnica.com/\",\n",
    "        \"include\": [\"^https://arstechnica.com/gadgets/(\\d+)/(\\d+)/\"],\n",
    "    },\n",
    "    \"The Register\": {\n",
    "        \"title\": \"The Register_ Enterprise Technology News and Analysis\",\n",
    "        \"url\": \"https://www.theregister.com/\",\n",
    "        \"include\": [\"^https://www.theregister.com/(\\d+)/(\\d+)/(\\d+)/\"],\n",
    "    },\n",
    "    \"Business Insider\": {\n",
    "        \"title\": \"Tech - Business Insider\",\n",
    "        \"url\": \"https://www.businessinsider.com/tech\",\n",
    "        \"exclude\": [\"^https://www.insider.com\", \"^https://www.passionfroot.me\"],\n",
    "    },\n",
    "}\n",
    "\n",
    "sources_reverse = {v[\"title\"]: k for k, v in sources.items()}\n"
   ]
  },
  {
   "cell_type": "markdown",
   "id": "79825fdb-7f01-4a35-bd6d-7a00f5d7d752",
   "metadata": {},
   "source": [
    "# Download HTML files from sources"
   ]
  },
  {
   "cell_type": "code",
   "execution_count": 5,
   "id": "5c9a3f1a",
   "metadata": {},
   "outputs": [
    {
     "name": "stdout",
     "output_type": "stream",
     "text": [
      "23:13:47 Starting\n",
      "23:14:18 Initialized profile\n",
      "23:14:18 Initialized service\n",
      "23:15:22 Initialized webdriver\n",
      "23:15:22 Processing Reddit\n",
      "23:15:38 Loading additional infinite scroll items\n",
      "23:15:48 Loading additional infinite scroll items\n",
      "23:15:59 Saving top scoring links _ multi (03_24_2024 11_15_59 PM).html as utf-8\n",
      "23:15:59 Processing Hacker News\n",
      "23:16:09 Saving Hacker News Page 1 (03_24_2024 11_16_09 PM).html as utf-8\n",
      "23:16:09 Processing Hacker News 2\n",
      "23:16:19 Saving Hacker News Page 2 (03_24_2024 11_16_19 PM).html as utf-8\n",
      "23:16:19 Processing Techmeme\n",
      "23:16:31 Saving Techmeme (03_24_2024 11_16_31 PM).html as utf-8\n",
      "23:16:31 Processing Feedly AI\n",
      "23:16:42 Loading additional infinite scroll items\n",
      "23:16:52 Loading additional infinite scroll items\n",
      "23:17:02 Saving Discover and Add New Feedly AI Feeds (03_24_2024 11_17_02 PM).html as utf-8\n",
      "23:17:02 Processing NYT Tech\n",
      "23:17:14 Saving Technology - The New York Times (03_24_2024 11_17_14 PM).html as utf-8\n",
      "23:17:14 Processing WSJ Tech\n",
      "23:17:25 Saving Technology - WSJ.com (03_24_2024 11_17_25 PM).html as utf-8\n",
      "23:17:25 Processing Bloomberg Tech\n",
      "23:17:37 Saving Bloomberg Technology - Bloomberg (03_24_2024 11_17_37 PM).html as utf-8\n",
      "23:17:37 Processing FT Tech\n",
      "23:17:48 Saving Technology (03_24_2024 11_17_48 PM).html as utf-8\n",
      "23:17:48 Processing WaPo Tech\n",
      "23:18:00 Saving Technology - The Washington Post (03_24_2024 11_18_00 PM).html as utf-8\n",
      "23:18:00 Processing Google News\n",
      "23:18:13 Clicking on //*[@aria-label=\"Artificial intelligence\"]\n",
      "23:18:13 Clicked\n",
      "23:18:13 Loading additional infinite scroll items\n",
      "23:18:23 Loading additional infinite scroll items\n",
      "23:18:33 Saving Google News - Technology - Artificial intelligence (03_24_2024 11_18_33 PM).html as utf-8\n",
      "23:18:33 Processing HackerNoon\n",
      "23:18:44 Saving HackerNoon - read, write and learn about any technology (03_24_2024 11_18_44 PM).html as utf-8\n",
      "23:18:44 Processing Ars Technica\n",
      "23:18:58 Saving Ars Technica (03_24_2024 11_18_58 PM).html as utf-8\n",
      "23:18:58 Processing The Register\n",
      "23:19:08 Saving The Register_ Enterprise Technology News and Analysis (03_24_2024 11_19_08 PM).html as utf-8\n",
      "23:19:08 Processing Business Insider\n",
      "23:19:19 Saving Tech - Business Insider (03_24_2024 11_19_19 PM).html as utf-8\n",
      "23:19:24 Quit webdriver\n"
     ]
    }
   ],
   "source": [
    "# download files via selenium and firefox\n",
    "outputdir = \"htmldata\"\n",
    "delete_files(outputdir)\n",
    "\n",
    "# Print the formatted time\n",
    "print(datetime.now().strftime('%H:%M:%S'), \"Starting\", flush=True)\n",
    "\n",
    "firefox_app_path = '/Applications/Firefox.app'\n",
    "# Path to your geckodriver\n",
    "geckodriver_path = '/Users/drucev/webdrivers/geckodriver'\n",
    "\n",
    "# Set up Firefox options to use your existing profile\n",
    "firefox_profile_path = '/Users/drucev/Library/Application Support/Firefox/Profiles/k8k0lcjj.default-release'\n",
    "options = Options()\n",
    "options.profile = firefox_profile_path\n",
    "\n",
    "print(datetime.now().strftime('%H:%M:%S'), \"Initialized profile\", flush=True)\n",
    "\n",
    "# Create a Service object with the path\n",
    "service = Service(geckodriver_path)\n",
    "\n",
    "print(datetime.now().strftime('%H:%M:%S'), \"Initialized service\", flush=True)\n",
    "# Set up the Firefox driver\n",
    "driver = webdriver.Firefox(service=service, options=options)\n",
    "\n",
    "print(datetime.now().strftime('%H:%M:%S'), \"Initialized webdriver\", flush=True)\n",
    "sleeptime = 10\n",
    "\n",
    "for sourcename, sourcedict in sources.items():\n",
    "    print(datetime.now().strftime('%H:%M:%S'), f'Processing {sourcename}', flush=True)\n",
    "    title = sourcedict[\"title\"]\n",
    "    url = sourcedict[\"url\"]\n",
    "    scroll = sourcedict.get(\"scroll\", 0)\n",
    "    click = sourcedict.get(\"click\")\n",
    "\n",
    "    # Open the page\n",
    "    driver.get(url)\n",
    "\n",
    "    # Wait for the page to load\n",
    "    time.sleep(sleeptime)  # Adjust the sleep time as necessary\n",
    "\n",
    "    if click:\n",
    "        print(datetime.now().strftime('%H:%M:%S'), f\"Clicking on {click}\", flush=True)\n",
    "        button = driver.find_element(By.XPATH, click)\n",
    "        if button:\n",
    "            button.click()\n",
    "            print(datetime.now().strftime('%H:%M:%S'), f\"Clicked\", flush=True)\n",
    "\n",
    "    for _ in range(scroll):\n",
    "        # scroll to bottom of infinite scrolling window\n",
    "        driver.execute_script(\"window.scrollTo(0, document.body.scrollHeight);\")\n",
    "        print(datetime.now().strftime('%H:%M:%S'), \"Loading additional infinite scroll items\", flush=True)\n",
    "        time.sleep(sleeptime) # wait for it to load additional items\n",
    "\n",
    "    # Get the HTML source of the page\n",
    "    html_source = driver.page_source\n",
    "\n",
    "    # check encoding, default utf-8\n",
    "    encoding = \"utf-8\"  # Default to UTF-8 if not specified\n",
    "    # Retrieve the content-type meta tag from the HTML\n",
    "    try:\n",
    "        meta_tag = driver.find_element(By.XPATH, \"//meta[@http-equiv='Content-Type']\")\n",
    "        content_type = meta_tag.get_attribute(\"content\")\n",
    "        # Typical format is \"text/html; charset=UTF-8\"\n",
    "        charset_start = content_type.find(\"charset=\")\n",
    "        if charset_start != -1:\n",
    "            encoding = content_type[charset_start + 8:]\n",
    "    except Exception as err:\n",
    "        pass\n",
    "\n",
    "    # Save the HTML to a local file\n",
    "    datestr = datetime.now().strftime(\"%m_%d_%Y %I_%M_%S %p\")\n",
    "    outfile = f'{title} ({datestr}).html'\n",
    "    print(datetime.now().strftime('%H:%M:%S'), f\"Saving {outfile} as {encoding}\", flush=True)\n",
    "    with open(outputdir + \"/\" + outfile, 'w', encoding=encoding) as file:\n",
    "        file.write(html_source)\n",
    "\n",
    "# Close the browser\n",
    "driver.quit()\n",
    "print(datetime.now().strftime('%H:%M:%S'), \"Quit webdriver\", flush=True)\n"
   ]
  },
  {
   "cell_type": "code",
   "execution_count": 6,
   "id": "592b5714",
   "metadata": {},
   "outputs": [
    {
     "data": {
      "text/plain": [
       "['htmldata/Tech - Business Insider (03_24_2024 11_19_19 PM).html',\n",
       " 'htmldata/Google News - Technology - Artificial intelligence (03_24_2024 11_18_33 PM).html',\n",
       " 'htmldata/Bloomberg Technology - Bloomberg (03_24_2024 11_17_37 PM).html',\n",
       " 'htmldata/The Register_ Enterprise Technology News and Analysis (03_24_2024 11_19_08 PM).html',\n",
       " 'htmldata/Hacker News Page 1 (03_24_2024 11_16_09 PM).html',\n",
       " 'htmldata/HackerNoon - read, write and learn about any technology (03_24_2024 11_18_44 PM).html',\n",
       " 'htmldata/Technology (03_24_2024 11_17_48 PM).html',\n",
       " 'htmldata/top scoring links _ multi (03_24_2024 11_15_59 PM).html',\n",
       " 'htmldata/Ars Technica (03_24_2024 11_18_58 PM).html',\n",
       " 'htmldata/Technology - The New York Times (03_24_2024 11_17_14 PM).html',\n",
       " 'htmldata/Hacker News Page 2 (03_24_2024 11_16_19 PM).html',\n",
       " 'htmldata/Discover and Add New Feedly AI Feeds (03_24_2024 11_17_02 PM).html',\n",
       " 'htmldata/Techmeme (03_24_2024 11_16_31 PM).html',\n",
       " 'htmldata/Technology - WSJ.com (03_24_2024 11_17_25 PM).html',\n",
       " 'htmldata/Technology - The Washington Post (03_24_2024 11_18_00 PM).html']"
      ]
     },
     "execution_count": 6,
     "metadata": {},
     "output_type": "execute_result"
    }
   ],
   "source": [
    "[os.path.join(download_dir, file) for file in os.listdir(download_dir)]"
   ]
  },
  {
   "cell_type": "code",
   "execution_count": 7,
   "id": "94633373-b719-48bc-9c4e-eb4ccbe6ad91",
   "metadata": {
    "tags": []
   },
   "outputs": [
    {
     "name": "stdout",
     "output_type": "stream",
     "text": [
      "15\n",
      "htmldata/Tech - Business Insider (03_24_2024 11_19_19 PM).html\n",
      "htmldata/The Register_ Enterprise Technology News and Analysis (03_24_2024 11_19_08 PM).html\n",
      "htmldata/Ars Technica (03_24_2024 11_18_58 PM).html\n",
      "htmldata/HackerNoon - read, write and learn about any technology (03_24_2024 11_18_44 PM).html\n",
      "htmldata/Google News - Technology - Artificial intelligence (03_24_2024 11_18_33 PM).html\n",
      "htmldata/Technology - The Washington Post (03_24_2024 11_18_00 PM).html\n",
      "htmldata/Technology (03_24_2024 11_17_48 PM).html\n",
      "htmldata/Bloomberg Technology - Bloomberg (03_24_2024 11_17_37 PM).html\n",
      "htmldata/Technology - WSJ.com (03_24_2024 11_17_25 PM).html\n",
      "htmldata/Technology - The New York Times (03_24_2024 11_17_14 PM).html\n",
      "htmldata/Discover and Add New Feedly AI Feeds (03_24_2024 11_17_02 PM).html\n",
      "htmldata/Techmeme (03_24_2024 11_16_31 PM).html\n",
      "htmldata/Hacker News Page 2 (03_24_2024 11_16_19 PM).html\n",
      "htmldata/Hacker News Page 1 (03_24_2024 11_16_09 PM).html\n",
      "htmldata/top scoring links _ multi (03_24_2024 11_15_59 PM).html\n"
     ]
    }
   ],
   "source": [
    "# List all paths in the directory matching today's date\n",
    "nfiles = 50\n",
    "\n",
    "# Get the current date\n",
    "today = datetime.now()\n",
    "year, month, day = today.year, today.month, today.day\n",
    "\n",
    "datestr = datetime.now().strftime(\"%m_%d_%Y\")\n",
    "\n",
    "# print(f\"Year: {year}, Month: {month}, Day: {day}\")\n",
    "\n",
    "files = [os.path.join(download_dir, file) for file in os.listdir(download_dir)]\n",
    "# filter files only\n",
    "files = [file for file in files if os.path.isfile(file)]\n",
    "\n",
    "# Sort files by modification time and take top 50\n",
    "files.sort(key=lambda x: os.path.getmtime(x), reverse=True)\n",
    "file = files[:nfiles]\n",
    "\n",
    "# filter files by with today's date ending in .html\n",
    "files = [file for file in files if datestr in file and file.endswith(\".html\")]\n",
    "print(len(files))\n",
    "for file in files:\n",
    "    print(file)"
   ]
  },
  {
   "cell_type": "code",
   "execution_count": 8,
   "id": "878be7b4-b7d6-4c0d-93a5-063e5a9afa52",
   "metadata": {},
   "outputs": [
    {
     "data": {
      "text/plain": [
       "{'og:locale': 'en-GB',\n",
       " 'og:url': 'https://www.euronews.com/next/2024/01/15/almost-40-of-jobs-around-the-world-will-be-impacted-by-ai-imf-chief-says',\n",
       " 'og:site_name': 'euronews',\n",
       " 'og:type': 'article',\n",
       " 'og:title': 'AI to impact 40% of jobs around the world, IMF chief says',\n",
       " 'og:description': 'Kristalina Georgieva said now is the time to act to create a set of policies ensuring the impact of AI is beneficial not detrimental to humanity.',\n",
       " 'og:image': 'https://static.euronews.com/articles/stories/08/17/12/08/1200x675_cmsv2_1bac2582-b418-5da9-80f9-6c4b6254606d-8171208.jpg',\n",
       " 'og:image:width': '1200',\n",
       " 'og:image:height': '675',\n",
       " 'og:image:type': 'image/jpeg',\n",
       " 'og:image:alt': 'Almost 40% of jobs around the world will be impacted by AI, IMF chief says',\n",
       " 'og:locale:alternate': 'el-GR',\n",
       " 'og:locale:alternate:url': 'https://www.euronews.com/next/2024/01/15/almost-40-of-jobs-around-the-world-will-be-impacted-by-ai-imf-chief-says',\n",
       " 'title': 'Almost 40% of jobs around the world will be impacted by AI, IMF chief says | Euronews'}"
      ]
     },
     "execution_count": 8,
     "metadata": {},
     "output_type": "execute_result"
    }
   ],
   "source": [
    "# you need this if you have not-descriptive link titles like 'link', can get a page title from html or tags\n",
    "def get_og_tags(url):\n",
    "    \"\"\"get a dict of Open Graph og: tags such as title in the HEAD of a URL\"\"\"\n",
    "    retdict = {}\n",
    "    try:\n",
    "        response = requests.get(url)\n",
    "        if response.status_code == 200:\n",
    "            soup = BeautifulSoup(response.content, \"html.parser\")\n",
    "            head = soup.head\n",
    "            if head:\n",
    "                og_tags = head.find_all(\n",
    "                    property=lambda prop: prop and prop.startswith(\"og:\")\n",
    "                )\n",
    "                for tag in og_tags:\n",
    "                    if \"content\" in tag.attrs:\n",
    "                        retdict[tag[\"property\"]] = tag[\"content\"]\n",
    "\n",
    "                page_title = \"\"\n",
    "                title_tag = soup.find(\"title\")\n",
    "                if title_tag:\n",
    "                    page_title = title_tag.text\n",
    "                    if page_title:\n",
    "                        retdict[\"title\"] = page_title\n",
    "        return retdict\n",
    "    except requests.RequestException as e:\n",
    "        print(f\"Error fetching {url}: {e}\")\n",
    "    return retdict\n",
    "\n",
    "\n",
    "url = \"https://www.euronews.com/next/2024/01/15/almost-40-of-jobs-around-the-world-will-be-impacted-by-ai-imf-chief-says\"\n",
    "get_og_tags(url)"
   ]
  },
  {
   "cell_type": "code",
   "execution_count": 9,
   "id": "55a281af-6a4d-4904-9f22-98704ad4c768",
   "metadata": {},
   "outputs": [
    {
     "name": "stdout",
     "output_type": "stream",
     "text": [
      "/some/path\n"
     ]
    }
   ],
   "source": [
    "def get_path_from_url(url):\n",
    "    \"\"\"\n",
    "    Extracts the path following the top-level domain name from a URL.\n",
    "\n",
    "    :param url: The URL string.\n",
    "    :return: The path component of the URL.\n",
    "    \"\"\"\n",
    "    parsed_url = urlparse(url)\n",
    "    return parsed_url.path\n",
    "\n",
    "\n",
    "# Example usage\n",
    "example_url = \"http://www.example.com/some/path?query=string\"\n",
    "path = get_path_from_url(example_url)\n",
    "print(path)"
   ]
  },
  {
   "cell_type": "code",
   "execution_count": 10,
   "id": "b76ba2f8-1ff4-418c-9c74-5712255ddae8",
   "metadata": {},
   "outputs": [],
   "source": [
    "MODEL = \"gpt-4-0125-preview\"\n",
    "\n",
    "MAX_INPUT_TOKENS = 3072\n",
    "MAX_OUTPUT_TOKENS = 4096\n",
    "MAX_RETRIES = 3\n",
    "TEMPERATURE = 0"
   ]
  },
  {
   "cell_type": "code",
   "execution_count": 11,
   "id": "d39bd1b9-9a7e-4cd0-93d7-aa17b37bc024",
   "metadata": {},
   "outputs": [
    {
     "data": {
      "text/plain": [
       "13"
      ]
     },
     "execution_count": 11,
     "metadata": {},
     "output_type": "execute_result"
    }
   ],
   "source": [
    "enc = tiktoken.encoding_for_model(MODEL)\n",
    "assert enc.decode(enc.encode(\"hello world\")) == \"hello world\"\n",
    "\n",
    "\n",
    "def count_tokens(s):\n",
    "    return len(enc.encode(s))\n",
    "\n",
    "\n",
    "count_tokens(\"four score and 7 years go our forefathers brought forth\")"
   ]
  },
  {
   "cell_type": "code",
   "execution_count": 12,
   "id": "0e03a76d-be7c-40f3-80c6-db44c13e3e13",
   "metadata": {},
   "outputs": [],
   "source": [
    "def trimmed_href(l):\n",
    "    \"\"\"\n",
    "    Trims everything in the string after a question mark such as a session ID.\n",
    "\n",
    "    :param s: The input string.\n",
    "    :return: The trimmed string.\n",
    "    \"\"\"\n",
    "    # Find the position of the question mark\n",
    "    s = l.get(\"href\")\n",
    "    if s:\n",
    "        question_mark_index = s.find(\"?\")\n",
    "\n",
    "        # If a question mark is found, trim the string up to that point\n",
    "        if question_mark_index != -1:\n",
    "            return s[:question_mark_index]\n",
    "        else:\n",
    "            # Return the original string if no question mark is found\n",
    "            return s\n",
    "    else:\n",
    "        return s"
   ]
  },
  {
   "cell_type": "markdown",
   "id": "0b7abc8c-5d9d-4ea1-9a2a-82d5f92f250b",
   "metadata": {},
   "source": [
    "# Parse news URLs and titles from downloaded HTML"
   ]
  },
  {
   "cell_type": "code",
   "execution_count": 13,
   "id": "e81e7ea3-ac61-42ed-b972-1f9e81128732",
   "metadata": {
    "tags": []
   },
   "outputs": [
    {
     "data": {
      "text/markdown": [
       "# Business Insider"
      ],
      "text/plain": [
       "<IPython.core.display.Markdown object>"
      ]
     },
     "metadata": {},
     "output_type": "display_data"
    },
    {
     "name": "stdout",
     "output_type": "stream",
     "text": [
      "334\n",
      "250\n",
      "\n"
     ]
    },
    {
     "data": {
      "text/markdown": [
       "# The Register"
      ],
      "text/plain": [
       "<IPython.core.display.Markdown object>"
      ]
     },
     "metadata": {},
     "output_type": "display_data"
    },
    {
     "name": "stdout",
     "output_type": "stream",
     "text": [
      "199\n",
      "87\n",
      "\n"
     ]
    },
    {
     "data": {
      "text/markdown": [
       "# Ars Technica"
      ],
      "text/plain": [
       "<IPython.core.display.Markdown object>"
      ]
     },
     "metadata": {},
     "output_type": "display_data"
    },
    {
     "name": "stdout",
     "output_type": "stream",
     "text": [
      "252\n",
      "5\n",
      "\n"
     ]
    },
    {
     "data": {
      "text/markdown": [
       "# HackerNoon"
      ],
      "text/plain": [
       "<IPython.core.display.Markdown object>"
      ]
     },
     "metadata": {},
     "output_type": "display_data"
    },
    {
     "name": "stdout",
     "output_type": "stream",
     "text": [
      "532\n",
      "77\n",
      "\n"
     ]
    },
    {
     "data": {
      "text/markdown": [
       "# Google News"
      ],
      "text/plain": [
       "<IPython.core.display.Markdown object>"
      ]
     },
     "metadata": {},
     "output_type": "display_data"
    },
    {
     "name": "stdout",
     "output_type": "stream",
     "text": [
      "891\n",
      "390\n",
      "\n"
     ]
    },
    {
     "data": {
      "text/markdown": [
       "# WaPo Tech"
      ],
      "text/plain": [
       "<IPython.core.display.Markdown object>"
      ]
     },
     "metadata": {},
     "output_type": "display_data"
    },
    {
     "name": "stdout",
     "output_type": "stream",
     "text": [
      "163\n",
      "38\n",
      "\n"
     ]
    },
    {
     "data": {
      "text/markdown": [
       "# FT Tech"
      ],
      "text/plain": [
       "<IPython.core.display.Markdown object>"
      ]
     },
     "metadata": {},
     "output_type": "display_data"
    },
    {
     "name": "stdout",
     "output_type": "stream",
     "text": [
      "458\n",
      "110\n",
      "\n"
     ]
    },
    {
     "data": {
      "text/markdown": [
       "# Bloomberg Tech"
      ],
      "text/plain": [
       "<IPython.core.display.Markdown object>"
      ]
     },
     "metadata": {},
     "output_type": "display_data"
    },
    {
     "name": "stdout",
     "output_type": "stream",
     "text": [
      "302\n",
      "51\n",
      "\n"
     ]
    },
    {
     "data": {
      "text/markdown": [
       "# WSJ Tech"
      ],
      "text/plain": [
       "<IPython.core.display.Markdown object>"
      ]
     },
     "metadata": {},
     "output_type": "display_data"
    },
    {
     "name": "stdout",
     "output_type": "stream",
     "text": [
      "520\n",
      "12\n",
      "\n"
     ]
    },
    {
     "data": {
      "text/markdown": [
       "# NYT Tech"
      ],
      "text/plain": [
       "<IPython.core.display.Markdown object>"
      ]
     },
     "metadata": {},
     "output_type": "display_data"
    },
    {
     "name": "stdout",
     "output_type": "stream",
     "text": [
      "75\n",
      "17\n",
      "\n"
     ]
    },
    {
     "data": {
      "text/markdown": [
       "# Feedly AI"
      ],
      "text/plain": [
       "<IPython.core.display.Markdown object>"
      ]
     },
     "metadata": {},
     "output_type": "display_data"
    },
    {
     "name": "stdout",
     "output_type": "stream",
     "text": [
      "263\n",
      "241\n",
      "\n"
     ]
    },
    {
     "data": {
      "text/markdown": [
       "# Techmeme"
      ],
      "text/plain": [
       "<IPython.core.display.Markdown object>"
      ]
     },
     "metadata": {},
     "output_type": "display_data"
    },
    {
     "name": "stdout",
     "output_type": "stream",
     "text": [
      "350\n",
      "148\n",
      "\n"
     ]
    },
    {
     "data": {
      "text/markdown": [
       "# Hacker News 2"
      ],
      "text/plain": [
       "<IPython.core.display.Markdown object>"
      ]
     },
     "metadata": {},
     "output_type": "display_data"
    },
    {
     "name": "stdout",
     "output_type": "stream",
     "text": [
      "261\n",
      "27\n",
      "\n"
     ]
    },
    {
     "data": {
      "text/markdown": [
       "# Hacker News"
      ],
      "text/plain": [
       "<IPython.core.display.Markdown object>"
      ]
     },
     "metadata": {},
     "output_type": "display_data"
    },
    {
     "name": "stdout",
     "output_type": "stream",
     "text": [
      "256\n",
      "27\n",
      "\n"
     ]
    },
    {
     "data": {
      "text/markdown": [
       "# Reddit"
      ],
      "text/plain": [
       "<IPython.core.display.Markdown object>"
      ]
     },
     "metadata": {},
     "output_type": "display_data"
    },
    {
     "name": "stdout",
     "output_type": "stream",
     "text": [
      "642\n",
      "43\n",
      "\n"
     ]
    }
   ],
   "source": [
    "# parse all the URL that look like news articles\n",
    "# into all_urls list of dicts with url, title, src\n",
    "all_urls = []\n",
    "\n",
    "for file in files:\n",
    "    # Extract filename from path\n",
    "    filename = os.path.basename(file)\n",
    "\n",
    "    # Find the position of '1_14_2024' in the filename\n",
    "    position = filename.find(\" (\" + datestr)\n",
    "    basename = filename[:position]\n",
    "#     print(basename)\n",
    "#     if basename.startswith('Google News'):\n",
    "#         pass\n",
    "#     else:\n",
    "#         continue\n",
    "\n",
    "    sourcename = sources_reverse.get(basename)\n",
    "    if sourcename is None:\n",
    "        print(f\"Skipping {basename}, no sourcename metadata\")\n",
    "        continue\n",
    "\n",
    "    display(Markdown(f\"# {sourcename}\"))\n",
    "    sources[sourcename][\"latest\"] = file\n",
    "\n",
    "    # get contents\n",
    "    with open(file, \"r\") as file:\n",
    "        html_content = file.read()\n",
    "\n",
    "    # Parse the HTML content\n",
    "    soup = BeautifulSoup(html_content, \"html.parser\")\n",
    "\n",
    "    # Find all <a> tags\n",
    "    if soup:\n",
    "        links = soup.find_all(\"a\")\n",
    "    else:\n",
    "        print(f\"Skipping {sourcename}, unable to parse\")\n",
    "\n",
    "    # convert relative links to absolute links using base URL if present\n",
    "    base_tag = soup.find('base')\n",
    "    base_url = base_tag.get('href') if base_tag else sources[sourcename][\"url\"]\n",
    "    for link in links:\n",
    "#         print(link.get(\"href\"))\n",
    "        link[\"href\"]= urljoin(base_url, link.get('href', \"\"))\n",
    "#         print(link[\"href\"])\n",
    "\n",
    "#     print(len(links))\n",
    "#     links = [l for l in links if l]\n",
    "#     links = [l.strip() for l in links]\n",
    "\n",
    "    print(len(links))\n",
    "\n",
    "    for pattern in sources[sourcename].get(\"exclude\", []):\n",
    "        # filter links by exclusion pattern\n",
    "#         print(pattern)\n",
    "#         print([ l.get(\"href\") for l in links])\n",
    "        links = [\n",
    "            l\n",
    "            for l in links\n",
    "            if l.get(\"href\") is not None and not re.match(pattern, l.get(\"href\"))\n",
    "        ]\n",
    "        # print(len(links))\n",
    "\n",
    "    for pattern in sources[sourcename].get(\"include\", []):\n",
    "        # print(pattern, len(links))\n",
    "        # filter links by inclusion pattern\n",
    "        # print(pattern)\n",
    "        # print(type(pattern))\n",
    "        newlinks = []\n",
    "        for l in links:\n",
    "            href = l.get(\"href\")\n",
    "#             print(href)\n",
    "            if href and re.match(pattern, href):\n",
    "                newlinks.append(l)\n",
    "        links = newlinks\n",
    "        # links = [l for l in links if re.match(pattern, l.get(\"href\"))]\n",
    "        # print(len(links))\n",
    "\n",
    "    # drop empty text\n",
    "    links = [l for l in links if l.get_text(strip=True)]\n",
    "\n",
    "    # drop empty url path, i.e. url = toplevel domain\n",
    "    links = [l for l in links if len(get_path_from_url(trimmed_href(l))) > 1]\n",
    "    # drop anything that is not http, like javascript: or mailto:\n",
    "    links = [l for l in links if l.get(\"href\") and l.get(\"href\").startswith(\"http\")]\n",
    "    # drop some ArsTechnica links that are just the number of comments and dupe the primary link\n",
    "    links = [l for l in links if not re.match(\"^(\\d+)$\", l.get_text(strip=True))]\n",
    "\n",
    "    for l in links:\n",
    "        url = trimmed_href(l)\n",
    "        title = l.get_text(strip=True)\n",
    "        if title == \"LINK\":\n",
    "            # try to update title\n",
    "            og_dict = get_og_tags(url)\n",
    "            if og_dict.get(\"og:title\"):\n",
    "                title = og_dict.get(\"og:title\")\n",
    "\n",
    "        # skip some low quality links that don't have full headline, like link to a Twitter or Threads account\n",
    "        if len(title) <= 28 and title != \"LINK\":\n",
    "            continue\n",
    "\n",
    "        all_urls.append({\"title\": title, \"url\": url, \"src\": sourcename})\n",
    "#         display(Markdown(f\"[{title}]({url})\"))\n",
    "\n",
    "    print(len(links))\n",
    "    print()\n",
    "\n",
    "    # for p in pages:\n",
    "    #     print(p)"
   ]
  },
  {
   "cell_type": "code",
   "execution_count": 14,
   "id": "c0eb7a52-ee94-4478-af89-11f059ab2d6e",
   "metadata": {},
   "outputs": [
    {
     "data": {
      "text/html": [
       "<div>\n",
       "<style scoped>\n",
       "    .dataframe tbody tr th:only-of-type {\n",
       "        vertical-align: middle;\n",
       "    }\n",
       "\n",
       "    .dataframe tbody tr th {\n",
       "        vertical-align: top;\n",
       "    }\n",
       "\n",
       "    .dataframe thead th {\n",
       "        text-align: right;\n",
       "    }\n",
       "</style>\n",
       "<table border=\"1\" class=\"dataframe\">\n",
       "  <thead>\n",
       "    <tr style=\"text-align: right;\">\n",
       "      <th></th>\n",
       "      <th>id</th>\n",
       "      <th>src</th>\n",
       "      <th>title</th>\n",
       "      <th>url</th>\n",
       "    </tr>\n",
       "  </thead>\n",
       "  <tbody>\n",
       "    <tr>\n",
       "      <th>0</th>\n",
       "      <td>0</td>\n",
       "      <td>Ars Technica</td>\n",
       "      <td>Android 15 gets satellite messaging, starts fo...</td>\n",
       "      <td>https://arstechnica.com/gadgets/2024/03/androi...</td>\n",
       "    </tr>\n",
       "    <tr>\n",
       "      <th>1</th>\n",
       "      <td>1</td>\n",
       "      <td>Ars Technica</td>\n",
       "      <td>Windows Notepad’s midlife renaissance continue...</td>\n",
       "      <td>https://arstechnica.com/gadgets/2024/03/window...</td>\n",
       "    </tr>\n",
       "    <tr>\n",
       "      <th>2</th>\n",
       "      <td>2</td>\n",
       "      <td>Ars Technica</td>\n",
       "      <td>Samsung users ask, “Why does the S-Pen smell s...</td>\n",
       "      <td>https://arstechnica.com/gadgets/2024/03/users-...</td>\n",
       "    </tr>\n",
       "    <tr>\n",
       "      <th>3</th>\n",
       "      <td>3</td>\n",
       "      <td>Ars Technica</td>\n",
       "      <td>Microsoft debuts major Surface overhauls that ...</td>\n",
       "      <td>https://arstechnica.com/gadgets/2024/03/micros...</td>\n",
       "    </tr>\n",
       "    <tr>\n",
       "      <th>4</th>\n",
       "      <td>4</td>\n",
       "      <td>Ars Technica</td>\n",
       "      <td>AMD promises big upscaling improvements and a ...</td>\n",
       "      <td>https://arstechnica.com/gadgets/2024/03/amd-pr...</td>\n",
       "    </tr>\n",
       "    <tr>\n",
       "      <th>...</th>\n",
       "      <td>...</td>\n",
       "      <td>...</td>\n",
       "      <td>...</td>\n",
       "      <td>...</td>\n",
       "    </tr>\n",
       "    <tr>\n",
       "      <th>992</th>\n",
       "      <td>992</td>\n",
       "      <td>WaPo Tech</td>\n",
       "      <td>How to use your smartphone to photograph the s...</td>\n",
       "      <td>https://www.washingtonpost.com/technology/2024...</td>\n",
       "    </tr>\n",
       "    <tr>\n",
       "      <th>993</th>\n",
       "      <td>993</td>\n",
       "      <td>WaPo Tech</td>\n",
       "      <td>Landlines are dying out. But to some, they’re ...</td>\n",
       "      <td>https://www.washingtonpost.com/technology/2024...</td>\n",
       "    </tr>\n",
       "    <tr>\n",
       "      <th>994</th>\n",
       "      <td>994</td>\n",
       "      <td>WaPo Tech</td>\n",
       "      <td>Trump Media merger wins investor approval, net...</td>\n",
       "      <td>https://www.washingtonpost.com/technology/2024...</td>\n",
       "    </tr>\n",
       "    <tr>\n",
       "      <th>995</th>\n",
       "      <td>995</td>\n",
       "      <td>WaPo Tech</td>\n",
       "      <td>Trump Media, launched after an insurrection, f...</td>\n",
       "      <td>https://www.washingtonpost.com/technology/2024...</td>\n",
       "    </tr>\n",
       "    <tr>\n",
       "      <th>996</th>\n",
       "      <td>996</td>\n",
       "      <td>WaPo Tech</td>\n",
       "      <td>5 key moments from Elon Musk’s interview with ...</td>\n",
       "      <td>https://www.washingtonpost.com/technology/2024...</td>\n",
       "    </tr>\n",
       "  </tbody>\n",
       "</table>\n",
       "<p>997 rows × 4 columns</p>\n",
       "</div>"
      ],
      "text/plain": [
       "      id           src                                              title  \\\n",
       "0      0  Ars Technica  Android 15 gets satellite messaging, starts fo...   \n",
       "1      1  Ars Technica  Windows Notepad’s midlife renaissance continue...   \n",
       "2      2  Ars Technica  Samsung users ask, “Why does the S-Pen smell s...   \n",
       "3      3  Ars Technica  Microsoft debuts major Surface overhauls that ...   \n",
       "4      4  Ars Technica  AMD promises big upscaling improvements and a ...   \n",
       "..   ...           ...                                                ...   \n",
       "992  992     WaPo Tech  How to use your smartphone to photograph the s...   \n",
       "993  993     WaPo Tech  Landlines are dying out. But to some, they’re ...   \n",
       "994  994     WaPo Tech  Trump Media merger wins investor approval, net...   \n",
       "995  995     WaPo Tech  Trump Media, launched after an insurrection, f...   \n",
       "996  996     WaPo Tech  5 key moments from Elon Musk’s interview with ...   \n",
       "\n",
       "                                                   url  \n",
       "0    https://arstechnica.com/gadgets/2024/03/androi...  \n",
       "1    https://arstechnica.com/gadgets/2024/03/window...  \n",
       "2    https://arstechnica.com/gadgets/2024/03/users-...  \n",
       "3    https://arstechnica.com/gadgets/2024/03/micros...  \n",
       "4    https://arstechnica.com/gadgets/2024/03/amd-pr...  \n",
       "..                                                 ...  \n",
       "992  https://www.washingtonpost.com/technology/2024...  \n",
       "993  https://www.washingtonpost.com/technology/2024...  \n",
       "994  https://www.washingtonpost.com/technology/2024...  \n",
       "995  https://www.washingtonpost.com/technology/2024...  \n",
       "996  https://www.washingtonpost.com/technology/2024...  \n",
       "\n",
       "[997 rows x 4 columns]"
      ]
     },
     "execution_count": 14,
     "metadata": {},
     "output_type": "execute_result"
    }
   ],
   "source": [
    "# make a pandas dataframe\n",
    "orig_df = (\n",
    "    pd.DataFrame(all_urls)\n",
    "    .groupby(\"url\")\n",
    "    .first()\n",
    "    .reset_index()\n",
    "    .sort_values(\"src\")[[\"src\", \"title\", \"url\"]]\n",
    "    .reset_index(drop=True)\n",
    "    .reset_index(drop=False)\n",
    "    .rename(columns={\"index\": \"id\"})\n",
    ")\n",
    "orig_df"
   ]
  },
  {
   "cell_type": "code",
   "execution_count": 15,
   "id": "36a1f7dd-2763-46ac-944c-eec7361f40d7",
   "metadata": {},
   "outputs": [],
   "source": [
    "# filter ones not seen before\n",
    "conn = sqlite3.connect('articles.db')\n",
    "\n",
    "# Retrieve all URLs from the SQLite table\n",
    "existing_urls = pd.read_sql_query(\"SELECT url FROM news_articles\", conn)\n",
    "\n",
    "# Close the SQLite connection\n",
    "conn.close()\n",
    "\n",
    "# Convert the URLs to a list for easier comparison\n",
    "existing_urls_list = existing_urls['url'].tolist()\n",
    "\n",
    "# Filter the original DataFrame\n",
    "# Keep rows where the URL is not in the existing_urls_list\n",
    "filtered_df = orig_df[~orig_df['url'].isin(existing_urls_list)]\n"
   ]
  },
  {
   "cell_type": "code",
   "execution_count": 16,
   "id": "14bea6c0-a79f-41ef-853e-7b076b902dca",
   "metadata": {},
   "outputs": [
    {
     "data": {
      "text/plain": [
       "26617"
      ]
     },
     "execution_count": 16,
     "metadata": {},
     "output_type": "execute_result"
    }
   ],
   "source": [
    "len(existing_urls_list)"
   ]
  },
  {
   "cell_type": "code",
   "execution_count": 17,
   "id": "21f431d4-4512-44a3-831c-44e078a22d17",
   "metadata": {},
   "outputs": [
    {
     "data": {
      "text/plain": [
       "226"
      ]
     },
     "execution_count": 17,
     "metadata": {},
     "output_type": "execute_result"
    }
   ],
   "source": [
    "len(filtered_df)"
   ]
  },
  {
   "cell_type": "markdown",
   "id": "f05b4e7e-c039-458c-a02f-4931356115e0",
   "metadata": {},
   "source": [
    "# Filter AI-related headlines using a prompt to OpenAI"
   ]
  },
  {
   "cell_type": "code",
   "execution_count": 18,
   "id": "994796a1-fea7-4800-87a4-913e3fb7a821",
   "metadata": {},
   "outputs": [
    {
     "data": {
      "text/plain": [
       "5"
      ]
     },
     "execution_count": 18,
     "metadata": {},
     "output_type": "execute_result"
    }
   ],
   "source": [
    "# make pages that fit in a reasonably sized prompt\n",
    "MAXPAGELEN = 50\n",
    "pages = []\n",
    "current_page = []\n",
    "pagelength = 0\n",
    "\n",
    "for row in filtered_df.itertuples():\n",
    "    curlink = {\"id\": row.Index, \"title\": row.title}\n",
    "    curlength = count_tokens(json.dumps(curlink))\n",
    "    # Check if adding the current string would exceed the limit\n",
    "    if len(current_page) >= MAXPAGELEN or pagelength + curlength > MAX_INPUT_TOKENS:\n",
    "        # If so, start a new page\n",
    "        pages.append(current_page)\n",
    "        current_page = [curlink]\n",
    "        pagelength = curlength\n",
    "    else:\n",
    "        # Otherwise, add the string to the current page\n",
    "        current_page.append(curlink)\n",
    "        pagelength += curlength\n",
    "\n",
    "# add the last page if it's not empty\n",
    "if current_page:\n",
    "    pages.append(current_page)\n",
    "\n",
    "len(pages)"
   ]
  },
  {
   "cell_type": "code",
   "execution_count": 19,
   "id": "18bc60f8-8b90-4637-b884-b57aee1efb6f",
   "metadata": {},
   "outputs": [],
   "source": [
    "def get_response_json(\n",
    "    client,\n",
    "    messages,\n",
    "    verbose=False,\n",
    "    model=MODEL,\n",
    "    # max_input_tokens=MAX_INPUT_TOKENS,\n",
    "    max_output_tokens=MAX_OUTPUT_TOKENS,\n",
    "    max_retries=MAX_RETRIES,\n",
    "    temperature=TEMPERATURE,\n",
    "):\n",
    "    if type(messages) != list:  # allow passing one string for convenience\n",
    "        messages = [{\"role\": \"user\", \"content\": messages}]\n",
    "\n",
    "    if verbose:\n",
    "        print(\"\\n\".join([str(msg) for msg in messages]))\n",
    "\n",
    "    # truncate number of tokens\n",
    "    # retry loop, have received untrapped 500 errors like too busy\n",
    "    for i in range(max_retries):\n",
    "        if i > 0:\n",
    "            print(f\"Attempt {i+1}...\")\n",
    "        try:\n",
    "            response = client.chat.completions.create(\n",
    "                model=MODEL,\n",
    "                messages=messages,\n",
    "                temperature=0,\n",
    "                max_tokens=max_output_tokens,\n",
    "                response_format={\"type\": \"json_object\"},\n",
    "            )\n",
    "            # no exception thrown\n",
    "            return response\n",
    "        except Exception as error:\n",
    "            print(f\"An exception occurred on attempt {i+1}:\", error)\n",
    "            time.sleep(5)\n",
    "            continue  # try again\n",
    "        # retries exceeded if you got this far\n",
    "    print(\"Retries exceeded.\")\n",
    "    return None\n",
    "\n",
    "\n",
    "# messages = [\n",
    "#     {\n",
    "#         \"role\": \"system\",\n",
    "#         \"content\": \"You are a poetic assistant, skilled in explaining complex programming concepts with creative flair.\",\n",
    "#     },\n",
    "#     {\n",
    "#         \"role\": \"user\",\n",
    "#         \"content\": \"Compose a poem that explains the concept of recursion in programming, returning each verse as a json object.\",\n",
    "#     },\n",
    "# ]\n",
    "\n",
    "# response = get_response_json(client, messages)\n",
    "# response"
   ]
  },
  {
   "cell_type": "code",
   "execution_count": 20,
   "id": "46b54a3d-c29c-45e5-b984-d0580878337c",
   "metadata": {},
   "outputs": [
    {
     "data": {
      "text/plain": [
       "[Model(id='text-embedding-ada-002', created=1671217299, object='model', owned_by='openai-internal'),\n",
       " Model(id='whisper-1', created=1677532384, object='model', owned_by='openai-internal'),\n",
       " Model(id='gpt-3.5-turbo', created=1677610602, object='model', owned_by='openai'),\n",
       " Model(id='gpt-3.5-turbo-0301', created=1677649963, object='model', owned_by='openai'),\n",
       " Model(id='tts-1', created=1681940951, object='model', owned_by='openai-internal'),\n",
       " Model(id='gpt-3.5-turbo-16k', created=1683758102, object='model', owned_by='openai-internal'),\n",
       " Model(id='gpt-3.5-turbo-16k-0613', created=1685474247, object='model', owned_by='openai'),\n",
       " Model(id='gpt-3.5-turbo-0613', created=1686587434, object='model', owned_by='openai'),\n",
       " Model(id='gpt-4-0613', created=1686588896, object='model', owned_by='openai'),\n",
       " Model(id='gpt-4', created=1687882411, object='model', owned_by='openai'),\n",
       " Model(id='davinci-002', created=1692634301, object='model', owned_by='system'),\n",
       " Model(id='babbage-002', created=1692634615, object='model', owned_by='system'),\n",
       " Model(id='gpt-3.5-turbo-instruct', created=1692901427, object='model', owned_by='system'),\n",
       " Model(id='gpt-3.5-turbo-instruct-0914', created=1694122472, object='model', owned_by='system'),\n",
       " Model(id='dall-e-3', created=1698785189, object='model', owned_by='system'),\n",
       " Model(id='dall-e-2', created=1698798177, object='model', owned_by='system'),\n",
       " Model(id='gpt-4-vision-preview', created=1698894917, object='model', owned_by='system'),\n",
       " Model(id='gpt-4-1106-preview', created=1698957206, object='model', owned_by='system'),\n",
       " Model(id='gpt-3.5-turbo-1106', created=1698959748, object='model', owned_by='system'),\n",
       " Model(id='tts-1-hd', created=1699046015, object='model', owned_by='system'),\n",
       " Model(id='tts-1-1106', created=1699053241, object='model', owned_by='system'),\n",
       " Model(id='tts-1-hd-1106', created=1699053533, object='model', owned_by='system'),\n",
       " Model(id='text-embedding-3-small', created=1705948997, object='model', owned_by='system'),\n",
       " Model(id='text-embedding-3-large', created=1705953180, object='model', owned_by='system'),\n",
       " Model(id='gpt-4-0125-preview', created=1706037612, object='model', owned_by='system'),\n",
       " Model(id='gpt-4-turbo-preview', created=1706037777, object='model', owned_by='system'),\n",
       " Model(id='gpt-3.5-turbo-0125', created=1706048358, object='model', owned_by='system')]"
      ]
     },
     "execution_count": 20,
     "metadata": {},
     "output_type": "execute_result"
    }
   ],
   "source": [
    "models = sorted(openai.models.list(), key=lambda m: m.created)\n",
    "models"
   ]
  },
  {
   "cell_type": "code",
   "execution_count": 21,
   "id": "00f01351-4067-4bd7-9bfc-c975e56f6970",
   "metadata": {},
   "outputs": [],
   "source": [
    "prompt = \"\"\"\n",
    "You will act as a research assistant classifying news stories as related to artificial intelligence (AI) or unrelated to AI.\n",
    "\n",
    "Your task is to read JSON format objects from an input list of news stories using the schema below delimited by |, and output JSON format objects for each using the schema below delimited by ~.\n",
    "\n",
    "Define a list of objects representing news stories in JSON format as in the following example:\n",
    "|\n",
    "{'stories':\n",
    "[{'id': 97, 'title': 'AI to predict dementia, detect cancer'},\n",
    " {'id': 103,'title': 'Figure robot learns to make coffee by watching humans for 10 hours'},\n",
    " {'id': 103,'title': 'Baby trapped in refrigerator eats own foot'},\n",
    " {'id': 210,'title': 'ChatGPT removes, then reinstates a summarization assistant without explanation.'},\n",
    " {'id': 298,'title': 'The 5 most interesting PC monitors from CES 2024'},\n",
    " ]\n",
    "}\n",
    "|\n",
    "\n",
    "Based on the title, you will classify each story as being about AI or not.\n",
    "\n",
    "For each object, you will output the input id field, and a field named isAI which is true if the input title is about AI and false if the input title is not about AI.\n",
    "\n",
    "When extracting information please make sure it matches the JSON format below exactly. Do not output any attributes that do not appear in the schema below.\n",
    "~\n",
    "{'stories':\n",
    "[{'id': 97, 'isAI': true},\n",
    " {'id': 103, 'isAI': true},\n",
    " {'id': 103, 'isAI': false},\n",
    " {'id': 210, 'isAI': true},\n",
    " {'id': 298, 'isAI': false}]\n",
    "}\n",
    "~\n",
    "\n",
    "You may interpret the term AI broadly as pertaining to\n",
    "- machine learning models\n",
    "- large language models\n",
    "- robotics\n",
    "- reinforcement learning\n",
    "- computer vision\n",
    "- OpenAI\n",
    "- ChatGPT\n",
    "- other closely related topics.\n",
    "\n",
    "You will return an array of valid JSON objects.\n",
    "\n",
    "The field 'id' in the output must match the field 'id' in the input EXACTLY.\n",
    "\n",
    "The field 'isAI' must be either true or false.\n",
    "\n",
    "The list of news stories to classify and enrich is:\n",
    "\n",
    "\n",
    "\"\"\""
   ]
  },
  {
   "cell_type": "code",
   "execution_count": 22,
   "id": "ead5697a-db5c-4f49-ada2-fd5367c8203f",
   "metadata": {},
   "outputs": [
    {
     "data": {
      "text/plain": [
       "{'id': 20,\n",
       " 'title': 'Popular YouTube Channel Ryan’s World Pulls a Taylor Swift With New Movie'}"
      ]
     },
     "execution_count": 22,
     "metadata": {},
     "output_type": "execute_result"
    }
   ],
   "source": [
    "pages[0][0]"
   ]
  },
  {
   "cell_type": "code",
   "execution_count": 23,
   "id": "a8119733-610b-45c7-a95c-25edf7bc7757",
   "metadata": {},
   "outputs": [
    {
     "name": "stdout",
     "output_type": "stream",
     "text": [
      "23:19:28 send page 1 of 5, 50 items \n",
      "23:20:10 got dict with 50 items \n",
      "23:20:10 send page 2 of 5, 50 items \n",
      "23:20:40 got dict with 50 items \n",
      "23:20:40 send page 3 of 5, 50 items \n",
      "23:21:05 got dict with 50 items \n",
      "23:21:05 send page 4 of 5, 50 items \n",
      "23:21:42 got dict with 50 items \n",
      "23:21:42 send page 5 of 5, 26 items \n",
      "23:21:59 got dict with 26 items \n"
     ]
    }
   ],
   "source": [
    "responses = []\n",
    "enriched_urls = []\n",
    "for i, p in enumerate(pages):\n",
    "    print(\n",
    "        f\"{datetime.now().strftime('%H:%M:%S')} send page {i+1} of {len(pages)}, {len(p)} items \"\n",
    "    )\n",
    "    # print(prompt + json.dumps(p))\n",
    "    response = get_response_json(client, prompt + json.dumps(p))\n",
    "    responses.append(response.choices[0].message.content)\n",
    "    retval = json.loads(responses[-1])\n",
    "    retlist = []\n",
    "    # usually comes back as a dict with a single arbitrary key like \"stories\" with a list value\n",
    "    if type(retval) == dict:\n",
    "        for k, v in retval.items():\n",
    "            if type(v) == list:\n",
    "                retlist.extend(v)\n",
    "            else:\n",
    "                retlist.append(v)\n",
    "        print(\n",
    "            f\"{datetime.now().strftime('%H:%M:%S')} got dict with {len(retlist)} items \"\n",
    "        )\n",
    "    elif type(retval) == list:  # in case it comes back as a list\n",
    "        retlist = retval\n",
    "        print(\n",
    "            f\"{datetime.now().strftime('%H:%M:%S')} got list with {len(retlist)} items \"\n",
    "        )\n",
    "    else:\n",
    "        print(str(type(retval)))\n",
    "    enriched_urls.extend(retlist)"
   ]
  },
  {
   "cell_type": "code",
   "execution_count": 24,
   "id": "97c87832-7661-46a7-824b-b7790fb00c39",
   "metadata": {},
   "outputs": [
    {
     "data": {
      "text/html": [
       "<div>\n",
       "<style scoped>\n",
       "    .dataframe tbody tr th:only-of-type {\n",
       "        vertical-align: middle;\n",
       "    }\n",
       "\n",
       "    .dataframe tbody tr th {\n",
       "        vertical-align: top;\n",
       "    }\n",
       "\n",
       "    .dataframe thead th {\n",
       "        text-align: right;\n",
       "    }\n",
       "</style>\n",
       "<table border=\"1\" class=\"dataframe\">\n",
       "  <thead>\n",
       "    <tr style=\"text-align: right;\">\n",
       "      <th></th>\n",
       "      <th>id</th>\n",
       "      <th>isAI</th>\n",
       "    </tr>\n",
       "  </thead>\n",
       "  <tbody>\n",
       "    <tr>\n",
       "      <th>0</th>\n",
       "      <td>20</td>\n",
       "      <td>False</td>\n",
       "    </tr>\n",
       "    <tr>\n",
       "      <th>1</th>\n",
       "      <td>22</td>\n",
       "      <td>False</td>\n",
       "    </tr>\n",
       "    <tr>\n",
       "      <th>2</th>\n",
       "      <td>48</td>\n",
       "      <td>False</td>\n",
       "    </tr>\n",
       "    <tr>\n",
       "      <th>3</th>\n",
       "      <td>59</td>\n",
       "      <td>False</td>\n",
       "    </tr>\n",
       "    <tr>\n",
       "      <th>4</th>\n",
       "      <td>68</td>\n",
       "      <td>False</td>\n",
       "    </tr>\n",
       "  </tbody>\n",
       "</table>\n",
       "</div>"
      ],
      "text/plain": [
       "   id   isAI\n",
       "0  20  False\n",
       "1  22  False\n",
       "2  48  False\n",
       "3  59  False\n",
       "4  68  False"
      ]
     },
     "execution_count": 24,
     "metadata": {},
     "output_type": "execute_result"
    }
   ],
   "source": [
    "enriched_df = pd.DataFrame(enriched_urls)\n",
    "enriched_df.head()"
   ]
  },
  {
   "cell_type": "code",
   "execution_count": 25,
   "id": "a073401c-8366-498e-a251-44b2341965e8",
   "metadata": {},
   "outputs": [
    {
     "name": "stdout",
     "output_type": "stream",
     "text": [
      "isAI 72\n",
      "not isAI 154\n"
     ]
    }
   ],
   "source": [
    "print(\"isAI\", len(enriched_df.loc[enriched_df[\"isAI\"]]))\n",
    "print(\"not isAI\", len(enriched_df.loc[~enriched_df[\"isAI\"]]))"
   ]
  },
  {
   "cell_type": "code",
   "execution_count": 26,
   "id": "9cce23b3-03b0-4751-8a5f-301f7dc86464",
   "metadata": {},
   "outputs": [
    {
     "data": {
      "text/html": [
       "<div>\n",
       "<style scoped>\n",
       "    .dataframe tbody tr th:only-of-type {\n",
       "        vertical-align: middle;\n",
       "    }\n",
       "\n",
       "    .dataframe tbody tr th {\n",
       "        vertical-align: top;\n",
       "    }\n",
       "\n",
       "    .dataframe thead th {\n",
       "        text-align: right;\n",
       "    }\n",
       "</style>\n",
       "<table border=\"1\" class=\"dataframe\">\n",
       "  <thead>\n",
       "    <tr style=\"text-align: right;\">\n",
       "      <th></th>\n",
       "      <th>id</th>\n",
       "      <th>src</th>\n",
       "      <th>title</th>\n",
       "      <th>url</th>\n",
       "      <th>isAI</th>\n",
       "      <th>date</th>\n",
       "    </tr>\n",
       "  </thead>\n",
       "  <tbody>\n",
       "    <tr>\n",
       "      <th>0</th>\n",
       "      <td>20</td>\n",
       "      <td>Bloomberg Tech</td>\n",
       "      <td>Popular YouTube Channel Ryan’s World Pulls a T...</td>\n",
       "      <td>https://www.bloomberg.com/news/newsletters/202...</td>\n",
       "      <td>False</td>\n",
       "      <td>2024-03-24</td>\n",
       "    </tr>\n",
       "    <tr>\n",
       "      <th>1</th>\n",
       "      <td>22</td>\n",
       "      <td>Bloomberg Tech</td>\n",
       "      <td>BYD Takes On EV Laggards Toyota, VW With Steep...</td>\n",
       "      <td>https://www.bloomberg.com/news/articles/2024-0...</td>\n",
       "      <td>False</td>\n",
       "      <td>2024-03-24</td>\n",
       "    </tr>\n",
       "    <tr>\n",
       "      <th>2</th>\n",
       "      <td>48</td>\n",
       "      <td>Business Insider</td>\n",
       "      <td>The US government is running out of funding fo...</td>\n",
       "      <td>https://www.businessinsider.com/digital-divide...</td>\n",
       "      <td>False</td>\n",
       "      <td>2024-03-24</td>\n",
       "    </tr>\n",
       "    <tr>\n",
       "      <th>3</th>\n",
       "      <td>59</td>\n",
       "      <td>Business Insider</td>\n",
       "      <td>Grimes linked to new love interest DJ Anyma as...</td>\n",
       "      <td>https://www.businessinsider.com/meet-grimes-ne...</td>\n",
       "      <td>False</td>\n",
       "      <td>2024-03-24</td>\n",
       "    </tr>\n",
       "    <tr>\n",
       "      <th>4</th>\n",
       "      <td>68</td>\n",
       "      <td>Business Insider</td>\n",
       "      <td>Trump's Truth Social has only 5 million member...</td>\n",
       "      <td>https://www.businessinsider.com/trumps-social-...</td>\n",
       "      <td>False</td>\n",
       "      <td>2024-03-24</td>\n",
       "    </tr>\n",
       "  </tbody>\n",
       "</table>\n",
       "</div>"
      ],
      "text/plain": [
       "   id               src                                              title  \\\n",
       "0  20    Bloomberg Tech  Popular YouTube Channel Ryan’s World Pulls a T...   \n",
       "1  22    Bloomberg Tech  BYD Takes On EV Laggards Toyota, VW With Steep...   \n",
       "2  48  Business Insider  The US government is running out of funding fo...   \n",
       "3  59  Business Insider  Grimes linked to new love interest DJ Anyma as...   \n",
       "4  68  Business Insider  Trump's Truth Social has only 5 million member...   \n",
       "\n",
       "                                                 url   isAI        date  \n",
       "0  https://www.bloomberg.com/news/newsletters/202...  False  2024-03-24  \n",
       "1  https://www.bloomberg.com/news/articles/2024-0...  False  2024-03-24  \n",
       "2  https://www.businessinsider.com/digital-divide...  False  2024-03-24  \n",
       "3  https://www.businessinsider.com/meet-grimes-ne...  False  2024-03-24  \n",
       "4  https://www.businessinsider.com/trumps-social-...  False  2024-03-24  "
      ]
     },
     "execution_count": 26,
     "metadata": {},
     "output_type": "execute_result"
    }
   ],
   "source": [
    "merged_df = pd.merge(filtered_df, enriched_df, on=\"id\", how=\"outer\")\n",
    "merged_df['date']=datetime.now().date()\n",
    "merged_df.head()"
   ]
  },
  {
   "cell_type": "code",
   "execution_count": 27,
   "id": "03906d38-001a-4b20-83f7-caa468256098",
   "metadata": {},
   "outputs": [
    {
     "data": {
      "text/html": [
       "<div>\n",
       "<style scoped>\n",
       "    .dataframe tbody tr th:only-of-type {\n",
       "        vertical-align: middle;\n",
       "    }\n",
       "\n",
       "    .dataframe tbody tr th {\n",
       "        vertical-align: top;\n",
       "    }\n",
       "\n",
       "    .dataframe thead th {\n",
       "        text-align: right;\n",
       "    }\n",
       "</style>\n",
       "<table border=\"1\" class=\"dataframe\">\n",
       "  <thead>\n",
       "    <tr style=\"text-align: right;\">\n",
       "      <th></th>\n",
       "      <th>id</th>\n",
       "      <th>src</th>\n",
       "      <th>title</th>\n",
       "      <th>url</th>\n",
       "      <th>isAI</th>\n",
       "      <th>date</th>\n",
       "    </tr>\n",
       "  </thead>\n",
       "  <tbody>\n",
       "  </tbody>\n",
       "</table>\n",
       "</div>"
      ],
      "text/plain": [
       "Empty DataFrame\n",
       "Columns: [id, src, title, url, isAI, date]\n",
       "Index: []"
      ]
     },
     "execution_count": 27,
     "metadata": {},
     "output_type": "execute_result"
    }
   ],
   "source": [
    "# ideally should be empty, shouldn't get back rows that don't match to existing\n",
    "merged_df.loc[merged_df[\"src\"].isna()]"
   ]
  },
  {
   "cell_type": "code",
   "execution_count": 28,
   "id": "47d8da7e-6553-4731-81b8-4e5cddeb0d38",
   "metadata": {},
   "outputs": [
    {
     "data": {
      "text/html": [
       "<div>\n",
       "<style scoped>\n",
       "    .dataframe tbody tr th:only-of-type {\n",
       "        vertical-align: middle;\n",
       "    }\n",
       "\n",
       "    .dataframe tbody tr th {\n",
       "        vertical-align: top;\n",
       "    }\n",
       "\n",
       "    .dataframe thead th {\n",
       "        text-align: right;\n",
       "    }\n",
       "</style>\n",
       "<table border=\"1\" class=\"dataframe\">\n",
       "  <thead>\n",
       "    <tr style=\"text-align: right;\">\n",
       "      <th></th>\n",
       "      <th>id</th>\n",
       "      <th>src</th>\n",
       "      <th>title</th>\n",
       "      <th>url</th>\n",
       "      <th>isAI</th>\n",
       "      <th>date</th>\n",
       "    </tr>\n",
       "  </thead>\n",
       "  <tbody>\n",
       "  </tbody>\n",
       "</table>\n",
       "</div>"
      ],
      "text/plain": [
       "Empty DataFrame\n",
       "Columns: [id, src, title, url, isAI, date]\n",
       "Index: []"
      ]
     },
     "execution_count": 28,
     "metadata": {},
     "output_type": "execute_result"
    }
   ],
   "source": [
    "# ideally should be empty, should get back all rows from orig\n",
    "merged_df.loc[merged_df[\"isAI\"].isna()]"
   ]
  },
  {
   "cell_type": "code",
   "execution_count": 29,
   "id": "b84f216b-39e2-48f2-a87a-513bebaacb06",
   "metadata": {},
   "outputs": [],
   "source": [
    "# # Connect to SQLite database\n",
    "conn = sqlite3.connect('articles.db')\n",
    "cursor = conn.cursor()\n",
    "\n",
    "# # Create table with a date column\n",
    "# cursor.execute('''\n",
    "# CREATE TABLE IF NOT EXISTS news_articles (\n",
    "#     id INTEGER PRIMARY KEY,\n",
    "#     src TEXT,\n",
    "#     title TEXT,\n",
    "#     url TEXT UNIQUE,\n",
    "#     isAI BOOLEAN,\n",
    "#     article_date DATE\n",
    "# )\n",
    "# ''')\n",
    "# conn.commit()\n",
    "# conn.close()"
   ]
  },
  {
   "cell_type": "code",
   "execution_count": 30,
   "id": "b0539856-30df-4420-a192-4f70104f68ff",
   "metadata": {},
   "outputs": [],
   "source": [
    "# Function to insert a new article\n",
    "def insert_article(cursor, src, title, url, isAI, article_date):\n",
    "    try:\n",
    "        cursor.execute(\"INSERT OR IGNORE INTO news_articles (src, title, url, isAI, article_date) VALUES (?, ?, ?, ?, ?)\",\n",
    "                       (src, title, url, isAI, article_date))\n",
    "        conn.commit()\n",
    "    except sqlite3.IntegrityError:\n",
    "        print(f\"Duplicate entry for URL: {url}\")\n",
    "    except Exception as err:\n",
    "        print(err)"
   ]
  },
  {
   "cell_type": "code",
   "execution_count": 31,
   "id": "64926d99-f0ce-475b-8f4e-7e9e69d494e1",
   "metadata": {},
   "outputs": [
    {
     "data": {
      "text/html": [
       "<div>\n",
       "<style scoped>\n",
       "    .dataframe tbody tr th:only-of-type {\n",
       "        vertical-align: middle;\n",
       "    }\n",
       "\n",
       "    .dataframe tbody tr th {\n",
       "        vertical-align: top;\n",
       "    }\n",
       "\n",
       "    .dataframe thead th {\n",
       "        text-align: right;\n",
       "    }\n",
       "</style>\n",
       "<table border=\"1\" class=\"dataframe\">\n",
       "  <thead>\n",
       "    <tr style=\"text-align: right;\">\n",
       "      <th></th>\n",
       "      <th>count(*)</th>\n",
       "    </tr>\n",
       "  </thead>\n",
       "  <tbody>\n",
       "    <tr>\n",
       "      <th>0</th>\n",
       "      <td>26617</td>\n",
       "    </tr>\n",
       "  </tbody>\n",
       "</table>\n",
       "</div>"
      ],
      "text/plain": [
       "   count(*)\n",
       "0     26617"
      ]
     },
     "execution_count": 31,
     "metadata": {},
     "output_type": "execute_result"
    }
   ],
   "source": [
    "pd.read_sql_query(\"select count(*) from news_articles\", conn)\n"
   ]
  },
  {
   "cell_type": "code",
   "execution_count": 32,
   "id": "34579779-7fee-4b3c-b9c6-07d9a43420b6",
   "metadata": {},
   "outputs": [],
   "source": [
    "for row in merged_df.itertuples():\n",
    "    # print(row)\n",
    "    insert_article(cursor, row.src, row.title, row.url, row.isAI, row.date)\n",
    "\n"
   ]
  },
  {
   "cell_type": "code",
   "execution_count": 33,
   "id": "d3ef5f42-5d1f-4e24-85e3-17f6c8b7f4ca",
   "metadata": {},
   "outputs": [
    {
     "data": {
      "text/html": [
       "<div>\n",
       "<style scoped>\n",
       "    .dataframe tbody tr th:only-of-type {\n",
       "        vertical-align: middle;\n",
       "    }\n",
       "\n",
       "    .dataframe tbody tr th {\n",
       "        vertical-align: top;\n",
       "    }\n",
       "\n",
       "    .dataframe thead th {\n",
       "        text-align: right;\n",
       "    }\n",
       "</style>\n",
       "<table border=\"1\" class=\"dataframe\">\n",
       "  <thead>\n",
       "    <tr style=\"text-align: right;\">\n",
       "      <th></th>\n",
       "      <th>count(*)</th>\n",
       "    </tr>\n",
       "  </thead>\n",
       "  <tbody>\n",
       "    <tr>\n",
       "      <th>0</th>\n",
       "      <td>26843</td>\n",
       "    </tr>\n",
       "  </tbody>\n",
       "</table>\n",
       "</div>"
      ],
      "text/plain": [
       "   count(*)\n",
       "0     26843"
      ]
     },
     "execution_count": 33,
     "metadata": {},
     "output_type": "execute_result"
    }
   ],
   "source": [
    "pd.read_sql_query(\"select count(*) from news_articles\", conn)\n"
   ]
  },
  {
   "cell_type": "code",
   "execution_count": 34,
   "id": "335e9b0f-52b2-4da1-9628-d17da20514bd",
   "metadata": {},
   "outputs": [
    {
     "data": {
      "text/html": [
       "<div>\n",
       "<style scoped>\n",
       "    .dataframe tbody tr th:only-of-type {\n",
       "        vertical-align: middle;\n",
       "    }\n",
       "\n",
       "    .dataframe tbody tr th {\n",
       "        vertical-align: top;\n",
       "    }\n",
       "\n",
       "    .dataframe thead th {\n",
       "        text-align: right;\n",
       "    }\n",
       "</style>\n",
       "<table border=\"1\" class=\"dataframe\">\n",
       "  <thead>\n",
       "    <tr style=\"text-align: right;\">\n",
       "      <th></th>\n",
       "      <th>id</th>\n",
       "      <th>src</th>\n",
       "      <th>title</th>\n",
       "      <th>url</th>\n",
       "      <th>isAI</th>\n",
       "      <th>article_date</th>\n",
       "    </tr>\n",
       "  </thead>\n",
       "  <tbody>\n",
       "    <tr>\n",
       "      <th>0</th>\n",
       "      <td>1</td>\n",
       "      <td>Ars Technica</td>\n",
       "      <td>OnePlus 12 gets $800 US release along with the...</td>\n",
       "      <td>https://arstechnica.com/gadgets/2024/01/oneplu...</td>\n",
       "      <td>0</td>\n",
       "      <td>2024-01-24</td>\n",
       "    </tr>\n",
       "    <tr>\n",
       "      <th>1</th>\n",
       "      <td>2</td>\n",
       "      <td>Ars Technica</td>\n",
       "      <td>Chrome can now organize your tab bar for you</td>\n",
       "      <td>https://arstechnica.com/gadgets/2024/01/chrome...</td>\n",
       "      <td>0</td>\n",
       "      <td>2024-01-24</td>\n",
       "    </tr>\n",
       "    <tr>\n",
       "      <th>2</th>\n",
       "      <td>3</td>\n",
       "      <td>Ars Technica</td>\n",
       "      <td>HP CEO evokes James Bond-style hack via ink ca...</td>\n",
       "      <td>https://arstechnica.com/gadgets/2024/01/hp-ceo...</td>\n",
       "      <td>0</td>\n",
       "      <td>2024-01-24</td>\n",
       "    </tr>\n",
       "    <tr>\n",
       "      <th>3</th>\n",
       "      <td>4</td>\n",
       "      <td>Ars Technica</td>\n",
       "      <td>iOS 17.3 adds multiple features originally pla...</td>\n",
       "      <td>https://arstechnica.com/gadgets/2024/01/ios-17...</td>\n",
       "      <td>0</td>\n",
       "      <td>2024-01-24</td>\n",
       "    </tr>\n",
       "    <tr>\n",
       "      <th>4</th>\n",
       "      <td>5</td>\n",
       "      <td>Ars Technica</td>\n",
       "      <td>Wild Apples: The 12 weirdest and rarest Macs e...</td>\n",
       "      <td>https://arstechnica.com/gadgets/2024/01/macint...</td>\n",
       "      <td>0</td>\n",
       "      <td>2024-01-24</td>\n",
       "    </tr>\n",
       "    <tr>\n",
       "      <th>...</th>\n",
       "      <td>...</td>\n",
       "      <td>...</td>\n",
       "      <td>...</td>\n",
       "      <td>...</td>\n",
       "      <td>...</td>\n",
       "      <td>...</td>\n",
       "    </tr>\n",
       "    <tr>\n",
       "      <th>26838</th>\n",
       "      <td>26839</td>\n",
       "      <td>Techmeme</td>\n",
       "      <td>Analysis: Jeff Bezos, Peter Thiel, and Mark Zu...</td>\n",
       "      <td>https://t.co/Ej0ZiQZel3</td>\n",
       "      <td>0</td>\n",
       "      <td>2024-03-24</td>\n",
       "    </tr>\n",
       "    <tr>\n",
       "      <th>26839</th>\n",
       "      <td>26840</td>\n",
       "      <td>The Register</td>\n",
       "      <td>Samsung preps inferencing accelerator to take ...</td>\n",
       "      <td>https://www.theregister.com/2024/03/24/asia_te...</td>\n",
       "      <td>1</td>\n",
       "      <td>2024-03-24</td>\n",
       "    </tr>\n",
       "    <tr>\n",
       "      <th>26840</th>\n",
       "      <td>26841</td>\n",
       "      <td>The Register</td>\n",
       "      <td>Some 300,000 IPs vulnerable to this Loop DoS a...</td>\n",
       "      <td>https://www.theregister.com/2024/03/24/loop_ip...</td>\n",
       "      <td>0</td>\n",
       "      <td>2024-03-24</td>\n",
       "    </tr>\n",
       "    <tr>\n",
       "      <th>26841</th>\n",
       "      <td>26842</td>\n",
       "      <td>The Register</td>\n",
       "      <td>Microsoft confirms memory leak in March Window...</td>\n",
       "      <td>https://www.theregister.com/2024/03/25/microso...</td>\n",
       "      <td>0</td>\n",
       "      <td>2024-03-24</td>\n",
       "    </tr>\n",
       "    <tr>\n",
       "      <th>26842</th>\n",
       "      <td>26843</td>\n",
       "      <td>WSJ Tech</td>\n",
       "      <td>Bernie Sanders Tries to Legislate Leisure</td>\n",
       "      <td>https://www.wsj.com/articles/bernie-sanders-tr...</td>\n",
       "      <td>0</td>\n",
       "      <td>2024-03-24</td>\n",
       "    </tr>\n",
       "  </tbody>\n",
       "</table>\n",
       "<p>26843 rows × 6 columns</p>\n",
       "</div>"
      ],
      "text/plain": [
       "          id           src                                              title  \\\n",
       "0          1  Ars Technica  OnePlus 12 gets $800 US release along with the...   \n",
       "1          2  Ars Technica       Chrome can now organize your tab bar for you   \n",
       "2          3  Ars Technica  HP CEO evokes James Bond-style hack via ink ca...   \n",
       "3          4  Ars Technica  iOS 17.3 adds multiple features originally pla...   \n",
       "4          5  Ars Technica  Wild Apples: The 12 weirdest and rarest Macs e...   \n",
       "...      ...           ...                                                ...   \n",
       "26838  26839      Techmeme  Analysis: Jeff Bezos, Peter Thiel, and Mark Zu...   \n",
       "26839  26840  The Register  Samsung preps inferencing accelerator to take ...   \n",
       "26840  26841  The Register  Some 300,000 IPs vulnerable to this Loop DoS a...   \n",
       "26841  26842  The Register  Microsoft confirms memory leak in March Window...   \n",
       "26842  26843      WSJ Tech          Bernie Sanders Tries to Legislate Leisure   \n",
       "\n",
       "                                                     url  isAI article_date  \n",
       "0      https://arstechnica.com/gadgets/2024/01/oneplu...     0   2024-01-24  \n",
       "1      https://arstechnica.com/gadgets/2024/01/chrome...     0   2024-01-24  \n",
       "2      https://arstechnica.com/gadgets/2024/01/hp-ceo...     0   2024-01-24  \n",
       "3      https://arstechnica.com/gadgets/2024/01/ios-17...     0   2024-01-24  \n",
       "4      https://arstechnica.com/gadgets/2024/01/macint...     0   2024-01-24  \n",
       "...                                                  ...   ...          ...  \n",
       "26838                            https://t.co/Ej0ZiQZel3     0   2024-03-24  \n",
       "26839  https://www.theregister.com/2024/03/24/asia_te...     1   2024-03-24  \n",
       "26840  https://www.theregister.com/2024/03/24/loop_ip...     0   2024-03-24  \n",
       "26841  https://www.theregister.com/2024/03/25/microso...     0   2024-03-24  \n",
       "26842  https://www.wsj.com/articles/bernie-sanders-tr...     0   2024-03-24  \n",
       "\n",
       "[26843 rows x 6 columns]"
      ]
     },
     "execution_count": 34,
     "metadata": {},
     "output_type": "execute_result"
    }
   ],
   "source": [
    "df = pd.read_sql_query(\"select * from news_articles\", conn)\n",
    "df\n"
   ]
  },
  {
   "cell_type": "code",
   "execution_count": 35,
   "id": "4916dac6",
   "metadata": {},
   "outputs": [
    {
     "data": {
      "text/plain": [
       "72"
      ]
     },
     "execution_count": 35,
     "metadata": {},
     "output_type": "execute_result"
    }
   ],
   "source": [
    "len(merged_df.loc[merged_df[\"isAI\"]])"
   ]
  },
  {
   "cell_type": "code",
   "execution_count": 36,
   "id": "9d4c9c78-9c58-482b-b7d9-427ed82d9746",
   "metadata": {
    "scrolled": true
   },
   "outputs": [
    {
     "data": {
      "text/markdown": [
       "[7. AI execs who urgently need more energy to power their tech revolution are turning to fossil fuels - Business Insider](https://www.businessinsider.com/ai-energy-electricity-data-centers-fossil-fuels-tech-revolution-2024-3)"
      ],
      "text/plain": [
       "<IPython.core.display.Markdown object>"
      ]
     },
     "metadata": {},
     "output_type": "display_data"
    },
    {
     "data": {
      "text/markdown": [
       "[16. Filipino journalist upends industry’s AI doomsday fears with custom chatbot to aid in-depth reporting - Feedly AI](https://www.scmp.com/week-asia/people/article/3256522/filipino-journalist-upends-industrys-ai-doomsday-fears-custom-chatbot-aid-depth-reporting)"
      ],
      "text/plain": [
       "<IPython.core.display.Markdown object>"
      ]
     },
     "metadata": {},
     "output_type": "display_data"
    },
    {
     "data": {
      "text/markdown": [
       "[18. 3 HotArtificial Intelligence(AI) Stocks to Buy With $1,000 and Hold Forever - Feedly AI](https://finance.yahoo.com/news/3-hot-artificial-intelligence-ai-110000760.html)"
      ],
      "text/plain": [
       "<IPython.core.display.Markdown object>"
      ]
     },
     "metadata": {},
     "output_type": "display_data"
    },
    {
     "data": {
      "text/markdown": [
       "[19. How human-like are some robots? - Feedly AI](https://flipboard.com/video/dw/bd7f6277aa)"
      ],
      "text/plain": [
       "<IPython.core.display.Markdown object>"
      ]
     },
     "metadata": {},
     "output_type": "display_data"
    },
    {
     "data": {
      "text/markdown": [
       "[20. Tiny-autodiff: A tiny autograd library in D - Feedly AI](https://code.dlang.org/packages/tiny-autodiff)"
      ],
      "text/plain": [
       "<IPython.core.display.Markdown object>"
      ]
     },
     "metadata": {},
     "output_type": "display_data"
    },
    {
     "data": {
      "text/markdown": [
       "[21. Google bringing Gemini AI to iPhone is so infuriating, but not surprising - Feedly AI](https://bgr.com/business/google-bringing-gemini-ai-to-iphone-is-so-infuriating-but-not-surprising/)"
      ],
      "text/plain": [
       "<IPython.core.display.Markdown object>"
      ]
     },
     "metadata": {},
     "output_type": "display_data"
    },
    {
     "data": {
      "text/markdown": [
       "[22. Four generative AI cyber risks that keep CISOs up at night — and how to combat them - SiliconANGLE - Feedly AI](https://siliconangle.com/2024/03/24/four-generative-ai-cyber-risks-keep-cisos-night-combat/)"
      ],
      "text/plain": [
       "<IPython.core.display.Markdown object>"
      ]
     },
     "metadata": {},
     "output_type": "display_data"
    },
    {
     "data": {
      "text/markdown": [
       "[23. Explorer: Exploration-Guided Reasoning for Textual Reinforcement Learning - Feedly AI](https://arxiv.org/abs/2403.10692)"
      ],
      "text/plain": [
       "<IPython.core.display.Markdown object>"
      ]
     },
     "metadata": {},
     "output_type": "display_data"
    },
    {
     "data": {
      "text/markdown": [
       "[24. What Is Claude 3? Is it better than ChatGPT? - Feedly AI](https://readwrite.com/what-is-claude-3-is-it-better-than-chatgpt/)"
      ],
      "text/plain": [
       "<IPython.core.display.Markdown object>"
      ]
     },
     "metadata": {},
     "output_type": "display_data"
    },
    {
     "data": {
      "text/markdown": [
       "[26. iPhone 16 Pro: New A18 Pro chip to offer powerful on-device AI performance - Feedly AI](https://9to5mac.com/2024/03/24/iphone-16-pro-a18-pro-chip-artificial-intelligence/)"
      ],
      "text/plain": [
       "<IPython.core.display.Markdown object>"
      ]
     },
     "metadata": {},
     "output_type": "display_data"
    },
    {
     "data": {
      "text/markdown": [
       "[27. OpenAI Showing Off Video-Generating System to Hollywood Directors - Feedly AI](https://futurism.com/the-byte/openai-video-sora-hollywood)"
      ],
      "text/plain": [
       "<IPython.core.display.Markdown object>"
      ]
     },
     "metadata": {},
     "output_type": "display_data"
    },
    {
     "data": {
      "text/markdown": [
       "[28. Scientists Gave AI an \"Inner Monologue\" and Something Fascinating Happened - Feedly AI](https://futurism.com/the-byte/ai-inner-monologue)"
      ],
      "text/plain": [
       "<IPython.core.display.Markdown object>"
      ]
     },
     "metadata": {},
     "output_type": "display_data"
    },
    {
     "data": {
      "text/markdown": [
       "[30. Nvidia has a parade of partners, but these two stocks are my favorite beneficiaries - Feedly AI](https://www.cnbc.com/2024/03/24/jim-cramer-amazon-and-dell-are-benefiting-the-most-from-nvidia-partnership.html)"
      ],
      "text/plain": [
       "<IPython.core.display.Markdown object>"
      ]
     },
     "metadata": {},
     "output_type": "display_data"
    },
    {
     "data": {
      "text/markdown": [
       "[31. LWiAI Podcast #160 - Nvidia's new GPU, Microsoft pays for Inflection AI, Grok-1 open sourced, Jeremie's Action Plan - Feedly AI](https://lastweekin.ai/p/lwiai-podcast-160-nvidias-new-gpu)"
      ],
      "text/plain": [
       "<IPython.core.display.Markdown object>"
      ]
     },
     "metadata": {},
     "output_type": "display_data"
    },
    {
     "data": {
      "text/markdown": [
       "[32. Gemini on the iPhone would be AI's mainstream moment - Feedly AI](https://www.cnet.com/tech/mobile/google-gemini-on-the-iphone-would-be-ais-mainstream-moment/)"
      ],
      "text/plain": [
       "<IPython.core.display.Markdown object>"
      ]
     },
     "metadata": {},
     "output_type": "display_data"
    },
    {
     "data": {
      "text/markdown": [
       "[33. How ML Model Data Poisoning Works in 5 Minutes - Feedly AI](https://journal.hexmos.com/training-data-poisoning/)"
      ],
      "text/plain": [
       "<IPython.core.display.Markdown object>"
      ]
     },
     "metadata": {},
     "output_type": "display_data"
    },
    {
     "data": {
      "text/markdown": [
       "[34. How ChatGPT Can Help Coders Earn Big in 2024; Check out - Feedly AI](https://www.dnpindia.in/technology/how-chatgpt-can-help-coders-earn-big-in-2024-check-out/378111/)"
      ],
      "text/plain": [
       "<IPython.core.display.Markdown object>"
      ]
     },
     "metadata": {},
     "output_type": "display_data"
    },
    {
     "data": {
      "text/markdown": [
       "[36. Sam Altman's Under-The-Radar SPAC Fuses AI Expertise With Nuclear Energy: Here Are The Others Involved - Feedly AI](https://www.benzinga.com/trading-ideas/long-ideas/24/03/37906984/sam-altmans-under-the-radar-spac-fuses-ai-expertise-with-nuclear-energy-here-are-the-oth)"
      ],
      "text/plain": [
       "<IPython.core.display.Markdown object>"
      ]
     },
     "metadata": {},
     "output_type": "display_data"
    },
    {
     "data": {
      "text/markdown": [
       "[39. Samsung preps inferencing accelerator to take on Nvidia, scores huge sale - Feedly AI](https://go.theregister.com/feed/www.theregister.com/2024/03/24/asia_tech_news_roundup/)"
      ],
      "text/plain": [
       "<IPython.core.display.Markdown object>"
      ]
     },
     "metadata": {},
     "output_type": "display_data"
    },
    {
     "data": {
      "text/markdown": [
       "[40. How to build an OpenAI-compatible API - Feedly AI](https://towardsdatascience.com/how-to-build-an-openai-compatible-api-87c8edea2f06)"
      ],
      "text/plain": [
       "<IPython.core.display.Markdown object>"
      ]
     },
     "metadata": {},
     "output_type": "display_data"
    },
    {
     "data": {
      "text/markdown": [
       "[41. Companies are about to waste billions on AI — here’s how not to become one of them - Feedly AI](https://venturebeat.com/ai/companies-are-about-to-waste-billions-on-ai-heres-how-not-to-become-one-of-them/)"
      ],
      "text/plain": [
       "<IPython.core.display.Markdown object>"
      ]
     },
     "metadata": {},
     "output_type": "display_data"
    },
    {
     "data": {
      "text/markdown": [
       "[42. Deepfake Kari Lake video shows coming chaos of AI in elections - Feedly AI](https://www.adn.com/nation-world/2024/03/24/deepfake-kari-lake-video-shows-coming-chaos-of-ai-in-elections/)"
      ],
      "text/plain": [
       "<IPython.core.display.Markdown object>"
      ]
     },
     "metadata": {},
     "output_type": "display_data"
    },
    {
     "data": {
      "text/markdown": [
       "[43. Voice-Controlled AI Gadgets Could Fix the Worst Part of Using a Computer - Feedly AI](https://www.inverse.com/tech/open-interpreter-01-light-ai-control-your-computer-for-you)"
      ],
      "text/plain": [
       "<IPython.core.display.Markdown object>"
      ]
     },
     "metadata": {},
     "output_type": "display_data"
    },
    {
     "data": {
      "text/markdown": [
       "[44. I was there for the dot-com bust. Here's why the AI boom isn't the same. - Google News](https://news.google.com/articles/CBMicmh0dHBzOi8vZmluYW5jZS55YWhvby5jb20vbmV3cy9pLXdhcy10aGVyZS1mb3ItdGhlLWRvdC1jb20tYnVzdC1oZXJlcy13aHktdGhlLWFpLWJvb20taXNudC10aGUtc2FtZS0xNzU5NDQ2ODAuaHRtbNIBAA)"
      ],
      "text/plain": [
       "<IPython.core.display.Markdown object>"
      ]
     },
     "metadata": {},
     "output_type": "display_data"
    },
    {
     "data": {
      "text/markdown": [
       "[47. Apple's Tim Cook Believes AI is an Essential Tool for Climate Action - Google News](https://news.google.com/articles/CBMicGh0dHBzOi8vd3d3LnRlY2h0aW1lcy5jb20vYXJ0aWNsZXMvMzAyODg2LzIwMjQwMzI0L2FwcGxlcy10aW0tY29vay1iZWxpZXZlcy1haS1lc3NlbnRpYWwtdG9vbC1jbGltYXRlLWFjdGlvbi5odG3SAQA)"
      ],
      "text/plain": [
       "<IPython.core.display.Markdown object>"
      ]
     },
     "metadata": {},
     "output_type": "display_data"
    },
    {
     "data": {
      "text/markdown": [
       "[50. AI shows Deadpool & Wolverine celebrating Holi in India! See pics - Google News](https://news.google.com/articles/CBMicGh0dHBzOi8vd3d3LmJvbGx5d29vZGh1bmdhbWEuY29tL25ld3MvaW50ZXJuYXRpb25hbC9haS1zaG93cy1kZWFkcG9vbC13b2x2ZXJpbmUtY2VsZWJyYXRpbmctaG9saS1pbmRpYS1zZWUtcGljcy_SAXRodHRwczovL3d3dy5ib2xseXdvb2RodW5nYW1hLmNvbS9hbXAvbmV3cy9pbnRlcm5hdGlvbmFsL2FpLXNob3dzLWRlYWRwb29sLXdvbHZlcmluZS1jZWxlYnJhdGluZy1ob2xpLWluZGlhLXNlZS1waWNzLw)"
      ],
      "text/plain": [
       "<IPython.core.display.Markdown object>"
      ]
     },
     "metadata": {},
     "output_type": "display_data"
    },
    {
     "data": {
      "text/markdown": [
       "[53. A Psychologist Explains Why It’s Possible To Fall In Love With AI - Google News](https://news.google.com/articles/CBMidWh0dHBzOi8vd3d3LmZvcmJlcy5jb20vc2l0ZXMvdHJhdmVyc21hcmsvMjAyNC8wMy8yNC9hLXBzeWNob2xvZ2lzdC1leHBsYWlucy13aHktaXRzLXBvc3NpYmxlLXRvLWZhbGwtaW4tbG92ZS13aXRoLWFpL9IBeWh0dHBzOi8vd3d3LmZvcmJlcy5jb20vc2l0ZXMvdHJhdmVyc21hcmsvMjAyNC8wMy8yNC9hLXBzeWNob2xvZ2lzdC1leHBsYWlucy13aHktaXRzLXBvc3NpYmxlLXRvLWZhbGwtaW4tbG92ZS13aXRoLWFpL2FtcC8)"
      ],
      "text/plain": [
       "<IPython.core.display.Markdown object>"
      ]
     },
     "metadata": {},
     "output_type": "display_data"
    },
    {
     "data": {
      "text/markdown": [
       "[55. Stability AI CEO Resigns and Calls for 'Transparent' AI Governance - Google News](https://news.google.com/articles/CBMid2h0dHBzOi8vd3d3LnB5bW50cy5jb20vYXJ0aWZpY2lhbC1pbnRlbGxpZ2VuY2UtMi8yMDI0L3N0YWJpbGl0eS1haS1jZW8tcmVzaWducy1hbmQtY2FsbHMtZm9yLXRyYW5zcGFyZW50LWFpLWdvdmVybmFuY2Uv0gEA)"
      ],
      "text/plain": [
       "<IPython.core.display.Markdown object>"
      ]
     },
     "metadata": {},
     "output_type": "display_data"
    },
    {
     "data": {
      "text/markdown": [
       "[62. CDOs, data science heads to fill Chief AI Officer positions in India - Google News](https://news.google.com/articles/CBMibGh0dHBzOi8vd3d3LmNpby5jb20vYXJ0aWNsZS8yMDY5ODQ5L2Nkb3MtZGF0YS1zY2llbmNlLWhlYWRzLXRvLWZpbGwtY2hpZWYtYWktb2ZmaWNlci1wb3NpdGlvbnMtaW4taW5kaWEuaHRtbNIBbGh0dHBzOi8vd3d3LmNpby5jb20vYXJ0aWNsZS8yMDY5ODQ5L2Nkb3MtZGF0YS1zY2llbmNlLWhlYWRzLXRvLWZpbGwtY2hpZWYtYWktb2ZmaWNlci1wb3NpdGlvbnMtaW4taW5kaWEuaHRtbA)"
      ],
      "text/plain": [
       "<IPython.core.display.Markdown object>"
      ]
     },
     "metadata": {},
     "output_type": "display_data"
    },
    {
     "data": {
      "text/markdown": [
       "[66. NVIDIA unveils LATTE3D text-to-3D generative AI model dubbed “virtual 3D printer” - Google News](https://news.google.com/articles/CBMie2h0dHBzOi8vd3d3Lm5vdGVib29rY2hlY2submV0L05WSURJQS11bnZlaWxzLUxBVFRFM0QtdGV4dC10by0zRC1nZW5lcmF0aXZlLUFJLW1vZGVsLWR1YmJlZC12aXJ0dWFsLTNELXByaW50ZXIuODE2MjQ4LjAuaHRtbNIBAA)"
      ],
      "text/plain": [
       "<IPython.core.display.Markdown object>"
      ]
     },
     "metadata": {},
     "output_type": "display_data"
    },
    {
     "data": {
      "text/markdown": [
       "[73. 3 Billionaires Are Selling Artificial Intelligence (AI) Stock Nvidia and Buying These 10 AI Stocks Instead - Google News](https://news.google.com/articles/CBMivgFodHRwczovL3d3dy50aGVnbG9iZWFuZG1haWwuY29tL2ludmVzdGluZy9tYXJrZXRzL3N0b2Nrcy9HT09HL3ByZXNzcmVsZWFzZXMvMjQ5NDc3MDIvMy1iaWxsaW9uYWlyZXMtYXJlLXNlbGxpbmctYXJ0aWZpY2lhbC1pbnRlbGxpZ2VuY2UtYWktc3RvY2stbnZpZGlhLWFuZC1idXlpbmctdGhlc2UtMTAtYWktc3RvY2tzLWluc3RlYWQv0gEA)"
      ],
      "text/plain": [
       "<IPython.core.display.Markdown object>"
      ]
     },
     "metadata": {},
     "output_type": "display_data"
    },
    {
     "data": {
      "text/markdown": [
       "[74. Health equity is 'the greatest challenge with AI' - Google News](https://news.google.com/articles/CBMieGh0dHBzOi8vd3d3LmNoaWVmaGVhbHRoY2FyZWV4ZWN1dGl2ZS5jb20vdmlldy9haS1jb3VsZC1jaGFuZ2UtaGVhbHRoY2FyZS1idXQtdXNlZC1pbmNvcnJlY3RseS1pdC1jb3VsZC13aWRlbi1kaXNwYXJpdGllc9IBAA)"
      ],
      "text/plain": [
       "<IPython.core.display.Markdown object>"
      ]
     },
     "metadata": {},
     "output_type": "display_data"
    },
    {
     "data": {
      "text/markdown": [
       "[76. Chinese scientists say AI model can mark the best spots for solar panels - Google News](https://news.google.com/articles/CBMiiwFodHRwczovL3d3dy5zY21wLmNvbS9uZXdzL2NoaW5hL3NjaWVuY2UvYXJ0aWNsZS8zMjU2NTE1L2NoaW5lc2Utc2NpZW50aXN0cy1zYXktdGhlaXItYWktbW9kZWwtY2FuLW1hcmstYmVzdC1zcG90cy1kb3VibGUtZmFjZWQtc29sYXItcGFuZWxz0gGLAWh0dHBzOi8vYW1wLnNjbXAuY29tL25ld3MvY2hpbmEvc2NpZW5jZS9hcnRpY2xlLzMyNTY1MTUvY2hpbmVzZS1zY2llbnRpc3RzLXNheS10aGVpci1haS1tb2RlbC1jYW4tbWFyay1iZXN0LXNwb3RzLWRvdWJsZS1mYWNlZC1zb2xhci1wYW5lbHM)"
      ],
      "text/plain": [
       "<IPython.core.display.Markdown object>"
      ]
     },
     "metadata": {},
     "output_type": "display_data"
    },
    {
     "data": {
      "text/markdown": [
       "[84. Meet Pretzel: An AI Dev Startup with an Open-Source, Offline Browser-based Tool and AI-Native Alternative to Jupyter Notebooks - Google News](https://news.google.com/articles/CBMipQFodHRwczovL3d3dy5tYXJrdGVjaHBvc3QuY29tLzIwMjQvMDMvMjQvbWVldC1wcmV0emVsLWFuLWFpLWRldi1zdGFydHVwLXdpdGgtYW4tb3Blbi1zb3VyY2Utb2ZmbGluZS1icm93c2VyLWJhc2VkLXRvb2wtYW5kLWFpLW5hdGl2ZS1hbHRlcm5hdGl2ZS10by1qdXB5dGVyLW5vdGVib29rcy_SAakBaHR0cHM6Ly93d3cubWFya3RlY2hwb3N0LmNvbS8yMDI0LzAzLzI0L21lZXQtcHJldHplbC1hbi1haS1kZXYtc3RhcnR1cC13aXRoLWFuLW9wZW4tc291cmNlLW9mZmxpbmUtYnJvd3Nlci1iYXNlZC10b29sLWFuZC1haS1uYXRpdmUtYWx0ZXJuYXRpdmUtdG8tanVweXRlci1ub3RlYm9va3MvP2FtcA)"
      ],
      "text/plain": [
       "<IPython.core.display.Markdown object>"
      ]
     },
     "metadata": {},
     "output_type": "display_data"
    },
    {
     "data": {
      "text/markdown": [
       "[91. Bankers Are Lining Up Buyers for FTX’s 8% Stake in AI Startup Anthropic: Report - Google News](https://news.google.com/articles/CBMieGh0dHBzOi8vd3d3LmNvaW5kZXNrLmNvbS9wb2xpY3kvMjAyNC8wMy8yMi9iYW5rZXJzLWFyZS1saW5pbmctdXAtYnV5ZXJzLWZvci1mdHhzLTgtc3Rha2UtaW4tYWktc3RhcnR1cC1hbnRocm9waWMtcmVwb3J0L9IBfGh0dHBzOi8vd3d3LmNvaW5kZXNrLmNvbS9wb2xpY3kvMjAyNC8wMy8yMi9iYW5rZXJzLWFyZS1saW5pbmctdXAtYnV5ZXJzLWZvci1mdHhzLTgtc3Rha2UtaW4tYWktc3RhcnR1cC1hbnRocm9waWMtcmVwb3J0L2FtcC8)"
      ],
      "text/plain": [
       "<IPython.core.display.Markdown object>"
      ]
     },
     "metadata": {},
     "output_type": "display_data"
    },
    {
     "data": {
      "text/markdown": [
       "[92. Anthropic weighs slate of sovereign wealth funds to acquire FTX's $1 bln stake, CNBC reports - Google News](https://news.google.com/articles/CBMiemh0dHBzOi8vd3d3LnJldXRlcnMuY29tL3RlY2hub2xvZ3kvYW50aHJvcGljLXdlaWdocy1zbGF0ZS1zb3ZlcmVpZ24td2VhbHRoLWZ1bmRzLWFjcXVpcmUtZnR4cy0xLWJsbi1zdGFrZS1jbmJjLTIwMjQtMDMtMjIv0gEA)"
      ],
      "text/plain": [
       "<IPython.core.display.Markdown object>"
      ]
     },
     "metadata": {},
     "output_type": "display_data"
    },
    {
     "data": {
      "text/markdown": [
       "[96. FTX to offload $1B Anthropic stake to pay off bankruptcy debts within weeks — report - Google News](https://news.google.com/articles/CBMihQFodHRwczovL2NvaW50ZWxlZ3JhcGguY29tL25ld3MvZnR4LXRvLW9mZmxvYWQtMS1iaWxsaW9uLWFpLWFydGlmaWNpYWwtaW50ZWxsaWdlbmNlLXNhbS1iYW5rbWFuLWZyaWVkLWFudGhyb3BpYy1zdGFrZS1iYW5rcnVwdGN5LWRlYnRz0gEA)"
      ],
      "text/plain": [
       "<IPython.core.display.Markdown object>"
      ]
     },
     "metadata": {},
     "output_type": "display_data"
    },
    {
     "data": {
      "text/markdown": [
       "[97. The AI boom makes millions for an unlikely industry player: Anguilla - Google News](https://news.google.com/articles/CBMihAFodHRwczovL3d3dy5idXNpbmVzcy1zdGFuZGFyZC5jb20vd29ybGQtbmV3cy90aGUtYWktYm9vbS1tYWtlcy1taWxsaW9ucy1mb3ItYW4tdW5saWtlbHktaW5kdXN0cnktcGxheWVyLWFuZ3VpbGxhLTEyNDAzMjQwMDcxOV8xLmh0bWzSAQA)"
      ],
      "text/plain": [
       "<IPython.core.display.Markdown object>"
      ]
     },
     "metadata": {},
     "output_type": "display_data"
    },
    {
     "data": {
      "text/markdown": [
       "[100. The small Caribbean island making a fortune from artificial intelligence - Google News](https://news.google.com/articles/CBMifmh0dHBzOi8vZW5nbGlzaC5lbHBhaXMuY29tL3RlY2hub2xvZ3kvMjAyNC0wMy0xNi90aGUtc21hbGwtY2FyaWJiZWFuLWlzbGFuZC1tYWtpbmctYS1mb3J0dW5lLWZyb20tYXJ0aWZpY2lhbC1pbnRlbGxpZ2VuY2UuaHRtbNIBAA)"
      ],
      "text/plain": [
       "<IPython.core.display.Markdown object>"
      ]
     },
     "metadata": {},
     "output_type": "display_data"
    },
    {
     "data": {
      "text/markdown": [
       "[101. United Nations Artificial Intelligence | Nation/World | bdtonline.com - Google News](https://news.google.com/articles/CBMiggFodHRwczovL3d3dy5iZHRvbmxpbmUuY29tL25ld3MvbmF0aW9uX3dvcmxkL3VuaXRlZC1uYXRpb25zLWFydGlmaWNpYWwtaW50ZWxsaWdlbmNlL2ltYWdlXzk5Mjc0ZWE4LTExMmEtNTg2OC1hMmY5LTk4MTJiYmQ3MDY1OS5odG1s0gEA)"
      ],
      "text/plain": [
       "<IPython.core.display.Markdown object>"
      ]
     },
     "metadata": {},
     "output_type": "display_data"
    },
    {
     "data": {
      "text/markdown": [
       "[102. Sam Altman's Under-The-Radar SPAC Fuses AI Expertise With Nuclear Energy: Here Are The Others Involved - - Google News](https://news.google.com/articles/CBMimQFodHRwczovL3d3dy5iZW56aW5nYS5jb20vdHJhZGluZy1pZGVhcy9sb25nLWlkZWFzLzI0LzAzLzM3OTA2OTg0L3NhbS1hbHRtYW5zLXVuZGVyLXRoZS1yYWRhci1zcGFjLWZ1c2VzLWFpLWV4cGVydGlzZS13aXRoLW51Y2xlYXItZW5lcmd5LWhlcmUtYXJlLXRoZS1vdGjSAS1odHRwczovL3d3dy5iZW56aW5nYS5jb20vYW1wL2NvbnRlbnQvMzc5MDY5ODQ)"
      ],
      "text/plain": [
       "<IPython.core.display.Markdown object>"
      ]
     },
     "metadata": {},
     "output_type": "display_data"
    },
    {
     "data": {
      "text/markdown": [
       "[103. The first patient with Elon Musk's chip in his brain and his incredible reaction: It's crazy - Google News](https://news.google.com/articles/CBMiTGh0dHBzOi8vd3d3Lm1hcmNhLmNvbS9lbi90ZWNobm9sb2d5LzIwMjQvMDMvMjQvNjYwMDUzMTBlMjcwNGVkMzQ3OGI0NTliLmh0bWzSAUxodHRwczovL2FtcC5tYXJjYS5jb20vZW4vdGVjaG5vbG9neS8yMDI0LzAzLzI0LzY2MDA1MzEwZTI3MDRlZDM0NzhiNDU5Yi5odG1s)"
      ],
      "text/plain": [
       "<IPython.core.display.Markdown object>"
      ]
     },
     "metadata": {},
     "output_type": "display_data"
    },
    {
     "data": {
      "text/markdown": [
       "[106. Is Nvidia AI Foundry a Threat to Palantir Stock? - Google News](https://news.google.com/articles/CBMiT2h0dHBzOi8vd3d3Lm5hc2RhcS5jb20vYXJ0aWNsZXMvaXMtbnZpZGlhLWFpLWZvdW5kcnktYS10aHJlYXQtdG8tcGFsYW50aXItc3RvY2vSAQA)"
      ],
      "text/plain": [
       "<IPython.core.display.Markdown object>"
      ]
     },
     "metadata": {},
     "output_type": "display_data"
    },
    {
     "data": {
      "text/markdown": [
       "[112. This Artificial Intelligence Giant Could Be the Next to Join the \"Magnificent Seven\" - Google News](https://news.google.com/articles/CBMiV2h0dHBzOi8vd3d3LmZvb2wuY29tL2ludmVzdGluZy8yMDI0LzAzLzIwL3RoaXMtYWktZ2lhbnQtbWF5LWpvaW4tdGhlLW1hZ25pZmljZW50LXNldmVuL9IBAA)"
      ],
      "text/plain": [
       "<IPython.core.display.Markdown object>"
      ]
     },
     "metadata": {},
     "output_type": "display_data"
    },
    {
     "data": {
      "text/markdown": [
       "[114. iPhone 16 Pro: New A18 Pro chip to offer powerful on-device AI performance - Google News](https://news.google.com/articles/CBMiUmh0dHBzOi8vOXRvNW1hYy5jb20vMjAyNC8wMy8yNC9pcGhvbmUtMTYtcHJvLWExOC1wcm8tY2hpcC1hcnRpZmljaWFsLWludGVsbGlnZW5jZS_SAQA)"
      ],
      "text/plain": [
       "<IPython.core.display.Markdown object>"
      ]
     },
     "metadata": {},
     "output_type": "display_data"
    },
    {
     "data": {
      "text/markdown": [
       "[115. Unveiling New Physics With AI-Powered Particle Tracking - Google News](https://news.google.com/articles/CBMiUWh0dHBzOi8vc2NpdGVjaGRhaWx5LmNvbS91bnZlaWxpbmctbmV3LXBoeXNpY3Mtd2l0aC1haS1wb3dlcmVkLXBhcnRpY2xlLXRyYWNraW5nL9IBAA)"
      ],
      "text/plain": [
       "<IPython.core.display.Markdown object>"
      ]
     },
     "metadata": {},
     "output_type": "display_data"
    },
    {
     "data": {
      "text/markdown": [
       "[123. New Neural Model Enables AI-to-AI Linguistic Communication - Google News](https://news.google.com/articles/CBMiUGh0dHBzOi8vd3d3LnVuaXRlLmFpL25ldy1uZXVyYWwtbW9kZWwtZW5hYmxlcy1haS10by1haS1saW5ndWlzdGljLWNvbW11bmljYXRpb24v0gEA)"
      ],
      "text/plain": [
       "<IPython.core.display.Markdown object>"
      ]
     },
     "metadata": {},
     "output_type": "display_data"
    },
    {
     "data": {
      "text/markdown": [
       "[125. Video Shows First Neuralink Patient Playing Mario Kart With His Mind - Google News](https://news.google.com/articles/CBMiOmh0dHBzOi8vZnV0dXJpc20uY29tL25lb3Njb3BlL25ldXJhbGluay1wYXRpZW50LW1hcmlvLWthcnTSAQA)"
      ],
      "text/plain": [
       "<IPython.core.display.Markdown object>"
      ]
     },
     "metadata": {},
     "output_type": "display_data"
    },
    {
     "data": {
      "text/markdown": [
       "[126. Revolutionizing healthcare, Israel hosts first-ever AI in medicine conference - Google News](https://news.google.com/articles/CBMiOWh0dHBzOi8vd3d3LnluZXRuZXdzLmNvbS9oZWFsdGhfc2NpZW5jZS9hcnRpY2xlL2JqejV3MmEwdNIBAA)"
      ],
      "text/plain": [
       "<IPython.core.display.Markdown object>"
      ]
     },
     "metadata": {},
     "output_type": "display_data"
    },
    {
     "data": {
      "text/markdown": [
       "[128. Stable Diffusion CEO Resigns as Company Crumbles - Google News](https://news.google.com/articles/CBMiNmh0dHBzOi8vZnV0dXJpc20uY29tL3RoZS1ieXRlL3N0YWJpbGl0eS1haS1jZW8tcmVzaWduc9IBAA)"
      ],
      "text/plain": [
       "<IPython.core.display.Markdown object>"
      ]
     },
     "metadata": {},
     "output_type": "display_data"
    },
    {
     "data": {
      "text/markdown": [
       "[130. Doctors Using AI to Automatically Generate Clinical Notes on Patients - Google News](https://news.google.com/articles/CBMiN2h0dHBzOi8vZnV0dXJpc20uY29tL25lb3Njb3BlL2RvY3RvcnMtYWktY2xpbmljYWwtbm90ZXPSAQA)"
      ],
      "text/plain": [
       "<IPython.core.display.Markdown object>"
      ]
     },
     "metadata": {},
     "output_type": "display_data"
    },
    {
     "data": {
      "text/markdown": [
       "[132. Grokking X.ai’s Grok—Real Advance or Just Real Troll? - Google News](https://news.google.com/articles/CBMiMWh0dHBzOi8vc3BlY3RydW0uaWVlZS5vcmcvb3Blbi1zb3VyY2UtYWktZ3Jvay1sbG3SAUBodHRwczovL3NwZWN0cnVtLmllZWUub3JnL2FtcC9vcGVuLXNvdXJjZS1haS1ncm9rLWxsbS0yNjY3NTYxNjEz)"
      ],
      "text/plain": [
       "<IPython.core.display.Markdown object>"
      ]
     },
     "metadata": {},
     "output_type": "display_data"
    },
    {
     "data": {
      "text/markdown": [
       "[142. What Does a Chief AI Officer Look Like in Marketing? - Google News](https://news.google.com/articles/CBMiQmh0dHBzOi8vd3d3LmFkd2Vlay5jb20vYnJhbmQtbWFya2V0aW5nL2NoaWVmLWFpLW9mZmljZXItbWFya2V0aW5nL9IBAA)"
      ],
      "text/plain": [
       "<IPython.core.display.Markdown object>"
      ]
     },
     "metadata": {},
     "output_type": "display_data"
    },
    {
     "data": {
      "text/markdown": [
       "[151. Fujitsu taps generative AI to help speed drug development - Google News](https://news.google.com/articles/CBMiZWh0dHBzOi8vYXNpYS5uaWtrZWkuY29tL0J1c2luZXNzL1RlY2hub2xvZ3kvRnVqaXRzdS10YXBzLWdlbmVyYXRpdmUtQUktdG8taGVscC1zcGVlZC1kcnVnLWRldmVsb3BtZW500gEA)"
      ],
      "text/plain": [
       "<IPython.core.display.Markdown object>"
      ]
     },
     "metadata": {},
     "output_type": "display_data"
    },
    {
     "data": {
      "text/markdown": [
       "[154. AI scribe saves doctors an hour at the keyboard every day - Google News](https://news.google.com/articles/CBMiZGh0dHBzOi8vd3d3LmFtYS1hc3NuLm9yZy9wcmFjdGljZS1tYW5hZ2VtZW50L2RpZ2l0YWwvYWktc2NyaWJlLXNhdmVzLWRvY3RvcnMtaG91ci1rZXlib2FyZC1ldmVyeS1kYXnSAQA)"
      ],
      "text/plain": [
       "<IPython.core.display.Markdown object>"
      ]
     },
     "metadata": {},
     "output_type": "display_data"
    },
    {
     "data": {
      "text/markdown": [
       "[155. SMCI Stock: Why Chasing the 'Obvious' AI Play Could Leave You Burned - Google News](https://news.google.com/articles/CBMiZGh0dHBzOi8vaW52ZXN0b3JwbGFjZS5jb20vMjAyNC8wMy9zbWNpLXN0b2NrLXdoeS1jaGFzaW5nLXRoZS1vYnZpb3VzLWFpLXBsYXktY291bGQtbGVhdmUteW91LWJ1cm5lZC_SAQA)"
      ],
      "text/plain": [
       "<IPython.core.display.Markdown object>"
      ]
     },
     "metadata": {},
     "output_type": "display_data"
    },
    {
     "data": {
      "text/markdown": [
       "[156. The iPhone 16 could come with extra RAM and storage – just for AI - Google News](https://news.google.com/articles/CBMiZ2h0dHBzOi8vd3d3LnRlY2hyYWRhci5jb20vcGhvbmVzL2lwaG9uZS90aGUtaXBob25lLTE2LWNvdWxkLWNvbWUtd2l0aC1leHRyYS1yYW0tYW5kLXN0b3JhZ2UtanVzdC1mb3ItYWnSAQA)"
      ],
      "text/plain": [
       "<IPython.core.display.Markdown object>"
      ]
     },
     "metadata": {},
     "output_type": "display_data"
    },
    {
     "data": {
      "text/markdown": [
       "[157. The most powerful AI job in the market may end up being no more than a figurehead - Google News](https://news.google.com/articles/CBMiamh0dHBzOi8vd3d3LmNuYmMuY29tLzIwMjQvMDMvMjIvdGhlLW1vc3QtcG93ZXJmdWwtYWktam9iLWluLXRoZS1tYXJrZXQtbWF5LWJlLW5vLW1vcmUtdGhhbi1maWd1cmVoZWFkLmh0bWzSAW5odHRwczovL3d3dy5jbmJjLmNvbS9hbXAvMjAyNC8wMy8yMi90aGUtbW9zdC1wb3dlcmZ1bC1haS1qb2ItaW4tdGhlLW1hcmtldC1tYXktYmUtbm8tbW9yZS10aGFuLWZpZ3VyZWhlYWQuaHRtbA)"
      ],
      "text/plain": [
       "<IPython.core.display.Markdown object>"
      ]
     },
     "metadata": {},
     "output_type": "display_data"
    },
    {
     "data": {
      "text/markdown": [
       "[160. Nvidia's AI ambitions in medicine and health care are becoming clear - Google News](https://news.google.com/articles/CBMiaGh0dHBzOi8vd3d3LmNuYmMuY29tLzIwMjQvMDMvMjQvbnZpZGlhcy1haS1hbWJpdGlvbnMtaW4tbWVkaWNpbmUtYW5kLWhlYWx0aC1jYXJlLWFyZS1iZWNvbWluZy1jbGVhci5odG1s0gEA)"
      ],
      "text/plain": [
       "<IPython.core.display.Markdown object>"
      ]
     },
     "metadata": {},
     "output_type": "display_data"
    },
    {
     "data": {
      "text/markdown": [
       "[162. Could This Artificial Intelligence (AI) Fintech Be 1 of 2024's Largest IPOs? - Google News](https://news.google.com/articles/CBMiaGh0dHBzOi8vd3d3Lm5hc2RhcS5jb20vYXJ0aWNsZXMvY291bGQtdGhpcy1hcnRpZmljaWFsLWludGVsbGlnZW5jZS1haS1maW50ZWNoLWJlLTEtb2YtMjAyNHMtbGFyZ2VzdC1pcG9z0gEA)"
      ],
      "text/plain": [
       "<IPython.core.display.Markdown object>"
      ]
     },
     "metadata": {},
     "output_type": "display_data"
    },
    {
     "data": {
      "text/markdown": [
       "[163. Companies are about to waste billions on AI — here's how not to become one of them - Google News](https://news.google.com/articles/CBMia2h0dHBzOi8vdmVudHVyZWJlYXQuY29tL2FpL2NvbXBhbmllcy1hcmUtYWJvdXQtdG8td2FzdGUtYmlsbGlvbnMtb24tYWktaGVyZXMtaG93LW5vdC10by1iZWNvbWUtb25lLW9mLXRoZW0v0gEA)"
      ],
      "text/plain": [
       "<IPython.core.display.Markdown object>"
      ]
     },
     "metadata": {},
     "output_type": "display_data"
    },
    {
     "data": {
      "text/markdown": [
       "[167. AI boom makes millions for unlikely industry player, Anguilla - Google News](https://news.google.com/articles/CBMiYmh0dHBzOi8vd3d3LnN0cmFpdHN0aW1lcy5jb20vYnVzaW5lc3MvYWktYm9vbS1tYWtlcy1taWxsaW9ucy1mb3ItdW5saWtlbHktaW5kdXN0cnktcGxheWVyLWFuZ3VpbGxh0gEA)"
      ],
      "text/plain": [
       "<IPython.core.display.Markdown object>"
      ]
     },
     "metadata": {},
     "output_type": "display_data"
    },
    {
     "data": {
      "text/markdown": [
       "[168. Gemini AI: Google is the last company Apple should partner with - Google News](https://news.google.com/articles/CBMiYmh0dHBzOi8vYmdyLmNvbS9idXNpbmVzcy9nb29nbGUtYnJpbmdpbmctZ2VtaW5pLWFpLXRvLWlwaG9uZS1pcy1zby1pbmZ1cmlhdGluZy1idXQtbm90LXN1cnByaXNpbmcv0gEA)"
      ],
      "text/plain": [
       "<IPython.core.display.Markdown object>"
      ]
     },
     "metadata": {},
     "output_type": "display_data"
    },
    {
     "data": {
      "text/markdown": [
       "[171. Here's why Apple is negotiating with Google on AI partnership - Google News](https://news.google.com/articles/CBMiWWh0dHBzOi8vd3d3Lmltb3JlLmNvbS9pcGhvbmUvaGVyZXMtd2h5LWFwcGxlLWlzLW5lZ290aWF0aW5nLXdpdGgtZ29vZ2xlLWFuLWFpLXBhcnRuZXJzaGlw0gEA)"
      ],
      "text/plain": [
       "<IPython.core.display.Markdown object>"
      ]
     },
     "metadata": {},
     "output_type": "display_data"
    },
    {
     "data": {
      "text/markdown": [
       "[172. This chief AI officer says the job is more of a temporary gig - Google News](https://news.google.com/articles/CBMiWWh0dHBzOi8vd3d3LmVtZXJnaW5ndGVjaGJyZXcuY29tL3N0b3JpZXMvMjAyNC8wMy8yMC9jaGllZi1haS1vZmZpY2VyLWRpYWxwYWQtZGFuLW9jb25uZWxs0gEA)"
      ],
      "text/plain": [
       "<IPython.core.display.Markdown object>"
      ]
     },
     "metadata": {},
     "output_type": "display_data"
    },
    {
     "data": {
      "text/markdown": [
       "[180. Apple CEO Tim Cook praises Tesla-beating BYD on China visit, pushes AI-infused environmental theme as geopolitical tensions loom - Google News](https://news.google.com/articles/CBMiX2h0dHBzOi8vZm9ydHVuZS5jb20vMjAyNC8wMy8yNC9hcHBsZS1jZW8tdGltLWNvb2stdGVzbGEtYmVhdGluZy1ieWQtY2hpbmEtdmlzaXQtYWktZW52aXJvbm1lbnQv0gFjaHR0cHM6Ly9mb3J0dW5lLmNvbS8yMDI0LzAzLzI0L2FwcGxlLWNlby10aW0tY29vay10ZXNsYS1iZWF0aW5nLWJ5ZC1jaGluYS12aXNpdC1haS1lbnZpcm9ubWVudC9hbXAv)"
      ],
      "text/plain": [
       "<IPython.core.display.Markdown object>"
      ]
     },
     "metadata": {},
     "output_type": "display_data"
    },
    {
     "data": {
      "text/markdown": [
       "[193. Large Language Models' Emergent Abilities Are a Mirage - Hacker News](https://www.wired.com/story/how-quickly-do-large-language-models-learn-unexpected-skills/)"
      ],
      "text/plain": [
       "<IPython.core.display.Markdown object>"
      ]
     },
     "metadata": {},
     "output_type": "display_data"
    },
    {
     "data": {
      "text/markdown": [
       "[201. Supervision: Reusable Computer Vision - Hacker News](https://github.com/roboflow/supervision)"
      ],
      "text/plain": [
       "<IPython.core.display.Markdown object>"
      ]
     },
     "metadata": {},
     "output_type": "display_data"
    },
    {
     "data": {
      "text/markdown": [
       "[206. The Expressive Power of Transformers with Chain of Thought (Revised) - Hacker News 2](https://arxiv.org/abs/2310.07923)"
      ],
      "text/plain": [
       "<IPython.core.display.Markdown object>"
      ]
     },
     "metadata": {},
     "output_type": "display_data"
    },
    {
     "data": {
      "text/markdown": [
       "[212. How to Test Multiple Variations of Generative AI Prompts - HackerNoon](https://hackernoon.com/how-to-test-multiple-variations-of-generative-ai-prompts)"
      ],
      "text/plain": [
       "<IPython.core.display.Markdown object>"
      ]
     },
     "metadata": {},
     "output_type": "display_data"
    },
    {
     "data": {
      "text/markdown": [
       "[213. AI and Crowdsourcing: Using Human-in-the-Loop Labeling - HackerNoon](https://hackernoon.com/ai-and-crowdsourcing-using-human-in-the-loop-labeling)"
      ],
      "text/plain": [
       "<IPython.core.display.Markdown object>"
      ]
     },
     "metadata": {},
     "output_type": "display_data"
    },
    {
     "data": {
      "text/markdown": [
       "[222. Samsung preps inferencing accelerator to take on Nvidia, scores huge saleAsia In BriefPLUS: Tencent's profit plunge; Singtel to build three AI datacenters; McDonald's China gobbles Microsoft AIAI + ML4 hrs| - The Register](https://www.theregister.com/2024/03/24/asia_tech_news_roundup/)"
      ],
      "text/plain": [
       "<IPython.core.display.Markdown object>"
      ]
     },
     "metadata": {},
     "output_type": "display_data"
    }
   ],
   "source": [
    "for row in merged_df.loc[merged_df[\"isAI\"]].reset_index().itertuples():\n",
    "    display(Markdown(f\"[{row.index}. {row.title} - {row.src}]({row.url})\"))"
   ]
  },
  {
   "cell_type": "code",
   "execution_count": 37,
   "id": "a64411df-424d-4fe1-a1ef-2484346fa856",
   "metadata": {},
   "outputs": [],
   "source": [
    "client = Client(base_url='https://bsky.social')\n",
    "client.login(os.environ['BSKY_USERNAME'], os.environ['BSKY_SECRET'])\n",
    "\n",
    "mydid = {\"did\":\"did:plc:qomkdnxrqw3gkbytdxea5z65\"}\n",
    "\n",
    "data = client.get_author_feed(\n",
    "    actor=mydid['did'],\n",
    "    filter='posts_and_author_threads',\n",
    "    limit=50,\n",
    ")\n"
   ]
  },
  {
   "cell_type": "code",
   "execution_count": 38,
   "id": "d2f0a047",
   "metadata": {},
   "outputs": [],
   "source": [
    "def remove_urls(text):\n",
    "    # Regular expression to match URLs\n",
    "    url_pattern = r'https?://\\S+|www\\.\\S+'\n",
    "    # Substitute found URLs with an empty string\n",
    "    clean_text = re.sub(url_pattern, '', text)\n",
    "    return clean_text\n",
    "\n"
   ]
  },
  {
   "cell_type": "code",
   "execution_count": 39,
   "id": "3d723127",
   "metadata": {},
   "outputs": [],
   "source": [
    "def rawfetchurl(url, timeout=60):\n",
    "    \"\"\"get url using requests with specified timeout. return response object, status, content-type\"\"\"\n",
    "    try:\n",
    "        response = requests.get(url, timeout=timeout)\n",
    "    except httplib.BadStatusLine:\n",
    "        print(\"Bad response (?) fetching url %s \" % url)\n",
    "        response = None\n",
    "    except requests.Timeout:\n",
    "        print(\"Timeout fetching url %s \" % url)\n",
    "        response = None\n",
    "    except requests.ConnectionError as e:\n",
    "        print(\"Connection error (%s) fetching url %s \" % (str(e), url))\n",
    "        response = None\n",
    "    except requests.TooManyRedirects:\n",
    "        print(\"Too many redirects fetching url %s \" % url)\n",
    "        response = None\n",
    "    except requests.exceptions.MissingSchema:\n",
    "        print(\"Missing schema url %s \" % url)\n",
    "        response = None\n",
    "    except requests.exceptions.InvalidSchema:\n",
    "        print(\"Invalid schema url %s \" % url)\n",
    "        response = None\n",
    "    except requests.exceptions.InvalidURL as e:\n",
    "        print(\"Invalid url %s, %s\" % (url, str(e)))\n",
    "        response = None\n",
    "    except ValueError as e:\n",
    "        # don't log url because possibly malformed url\n",
    "        print(\"ValueError, url ?: ? \")\n",
    "        response = None\n",
    "    except httplib.IncompleteRead as e:\n",
    "        print(\"IncompleteRead, url %s: %s \" % (url, str(e)))\n",
    "        response = None\n",
    "    except urllib3.exceptions.SSLError as e:\n",
    "        print(\"SSLError, url %s: %s \" % (url, str(e)))\n",
    "        response = None\n",
    "    except requests.exceptions.ContentDecodingError as e:\n",
    "        print(\"SSLError, url %s: %s \" % (url, str(e)))\n",
    "        response = None\n",
    "    except requests.exceptions.ChunkedEncodingError as e:\n",
    "        print(\"ChunkedEncodingError, url %s: %s \" % (url, str(e)))\n",
    "        response = None\n",
    "    except UnicodeEncodeError as e:\n",
    "        print(\"UnicodeEncodeError, url %s: %s \" % (url, str(e)))\n",
    "        response = None\n",
    "    except OpenSSL.SSL.SysCallError as e:\n",
    "        print(\"OpenSSL.SSL.SysCallError, url %s: %s \" % (url, str(e)))\n",
    "        response = -1\n",
    "    except OpenSSL.SSL.ZeroReturnError as e:\n",
    "        print(\"OpenSSL.SSL.ZeroReturnError, url %s: %s \" % (url, str(e)))\n",
    "        response = -1\n",
    "\n",
    "    # except requests.packages.urllib3.exceptions.DecodeError as e:\n",
    "    #     utilLog(\"DecodeError, url %s: %s \" % (url, str(e)))\n",
    "    #     response = None\n",
    "\n",
    "    return response\n",
    "\n",
    "\n",
    "imgurl = 'https://nypost.com/wp-content/uploads/sites/2/2024/02/nate-silver-calls-shut-gemini-77192719.jpg?quality=75&strip=all&w=1024'\n",
    "r = rawfetchurl(imgurl)"
   ]
  },
  {
   "cell_type": "code",
   "execution_count": 40,
   "id": "ac3c09d9",
   "metadata": {},
   "outputs": [],
   "source": [
    "\n",
    "# #         impath = \"%s/%d.%s\" % (today_orig_dir, actualurl.id, file_ext)\n",
    "# impath = 'x.jpg'\n",
    "# with open(impath, 'wb') as file:\n",
    "#     file.write(r.content)\n",
    "\n",
    "# display(IPython.display.Image(filename=impath))\n"
   ]
  },
  {
   "cell_type": "code",
   "execution_count": 41,
   "id": "da3e11a1",
   "metadata": {},
   "outputs": [
    {
     "ename": "NameError",
     "evalue": "name 'impath' is not defined",
     "output_type": "error",
     "traceback": [
      "\u001b[0;31m---------------------------------------------------------------------------\u001b[0m",
      "\u001b[0;31mNameError\u001b[0m                                 Traceback (most recent call last)",
      "Cell \u001b[0;32mIn[41], line 50\u001b[0m\n\u001b[1;32m     47\u001b[0m         resized_img\u001b[38;5;241m.\u001b[39msave(output_image_path)\n\u001b[1;32m     49\u001b[0m output_path \u001b[38;5;241m=\u001b[39m \u001b[38;5;124m'\u001b[39m\u001b[38;5;124msquare.jpg\u001b[39m\u001b[38;5;124m'\u001b[39m\n\u001b[0;32m---> 50\u001b[0m resize_and_crop(\u001b[43mimpath\u001b[49m, output_path)\n\u001b[1;32m     51\u001b[0m display(IPython\u001b[38;5;241m.\u001b[39mdisplay\u001b[38;5;241m.\u001b[39mImage(filename\u001b[38;5;241m=\u001b[39moutput_path))\n",
      "\u001b[0;31mNameError\u001b[0m: name 'impath' is not defined"
     ]
    }
   ],
   "source": [
    "\n",
    "# def resize_and_crop(image_path, output_path, size=(360, 360)):\n",
    "#     # Open the image\n",
    "#     image = PIL.Image.open(image_path)\n",
    "\n",
    "#     # Calculate the aspect ratio\n",
    "#     aspect_ratio = image.width / image.height\n",
    "#     target_aspect_ratio = size[0] / size[1]\n",
    "\n",
    "#     # Determine the scaling factor and new size\n",
    "#     if aspect_ratio > target_aspect_ratio:\n",
    "#         # Image is wider than desired aspect ratio\n",
    "#         new_height = size[1]\n",
    "#         new_width = int(new_height * aspect_ratio)\n",
    "#     else:\n",
    "#         # Image is taller than desired aspect ratio\n",
    "#         new_width = size[0]\n",
    "#         new_height = int(new_width / aspect_ratio)\n",
    "\n",
    "#     # Resize the image\n",
    "#     image = image.resize((new_width, new_height))\n",
    "\n",
    "#     # Calculate coordinates to crop the image to the target size\n",
    "#     left = (new_width - size[0]) / 2\n",
    "#     top = (new_height - size[1]) / 2\n",
    "#     right = (new_width + size[0]) / 2\n",
    "#     bottom = (new_height + size[1]) / 2\n",
    "\n",
    "#     # Crop the image\n",
    "#     image = image.crop((left, top, right, bottom))\n",
    "\n",
    "#     # Save the cropped image\n",
    "#     image.save(output_path)\n",
    "\n",
    "def resize_and_crop(input_image_path, output_image_path, desired_height=240):\n",
    "    # Load the image\n",
    "    with Image.open(input_image_path) as img:\n",
    "        img = img.convert('RGB')\n",
    "\n",
    "        # Calculate the new width maintaining the aspect ratio\n",
    "        aspect_ratio = img.width / img.height\n",
    "        new_width = int(desired_height * aspect_ratio)\n",
    "\n",
    "        # Resize the image\n",
    "        resized_img = img.resize((new_width, desired_height))\n",
    "\n",
    "        # Save the resized image\n",
    "        resized_img.save(output_image_path)\n",
    "\n",
    "output_path = 'square.jpg'\n",
    "resize_and_crop(impath, output_path)\n",
    "display(IPython.display.Image(filename=output_path))\n"
   ]
  },
  {
   "cell_type": "code",
   "execution_count": null,
   "id": "20ff6485",
   "metadata": {},
   "outputs": [],
   "source": [
    "def truncate_last_occurrence(text: str) -> str:\n",
    "    # Find the last occurrence of a space followed by any sequence of characters followed by 3 periods\n",
    "    pattern = r'\\s+\\S+\\.{3}$'\n",
    "    return re.sub(pattern, '', text)\n",
    "\n",
    "# Example text for testing\n",
    "\n",
    "example_text = \"\"\"Elon Musk says we'll run out of power capacity to run all the AI chips in 2025\n",
    "newatlas.com/technology/e...\"\"\"\n",
    "\n",
    "# Truncate the last occurrence\n",
    "print(truncate_last_occurrence(example_text))\n",
    "\n"
   ]
  },
  {
   "cell_type": "code",
   "execution_count": null,
   "id": "03fe49dc",
   "metadata": {},
   "outputs": [],
   "source": [
    "\n",
    "# for post in data.feed:\n",
    "#     post_str = post.post.record.text.rstrip()\n",
    "#     post_str = truncate_last_occurrence(post_str)\n",
    "#     post_url = \"\"\n",
    "#     try:\n",
    "#         post_url = post.post.record.embed.external.uri.rstrip()\n",
    "#     except:\n",
    "#         pass\n",
    "\n",
    "#     print(remove_urls(post_str))\n",
    "#     print(post_url)\n",
    "#     print()\n"
   ]
  },
  {
   "cell_type": "code",
   "execution_count": null,
   "id": "f78d8382",
   "metadata": {},
   "outputs": [],
   "source": [
    "# for i, post in enumerate(data.feed):\n",
    "#     post_str = post.post.record.text.rstrip()\n",
    "#     post_str = truncate_last_occurrence(post_str)\n",
    "#     post_url = \"\"\n",
    "#     tag_dict = {}\n",
    "#     try:\n",
    "#         post_url = post.post.record.embed.external.uri.rstrip()\n",
    "#     except:\n",
    "#         pass\n",
    "#     if post_url:\n",
    "#         tag_dict = get_og_tags(post_url)\n",
    "#         display_str = f\"[{post_str}]({post_url})\"\n",
    "#         site_name = tag_dict.get('og:site_name')\n",
    "#         img_url = tag_dict.get('og:image')\n",
    "#         if site_name:\n",
    "#             display_str += f\" - {site_name}\"\n",
    "#         if img_url:\n",
    "#             try:\n",
    "#                 r = rawfetchurl(img_url)\n",
    "#                 content_type = r.headers['Content-Type']\n",
    "#                 content_type = content_type[content_type.find('/')+1:]\n",
    "#                 impath = f\"source{i}.{content_type}\"\n",
    "#                 with open(impath, 'wb') as file:\n",
    "#                     file.write(r.content)\n",
    "#                 output_path = f'Image{i}.jpg'\n",
    "#                 resize_and_crop(impath, output_path)\n",
    "#                 display(IPython.display.Image(filename=output_path))\n",
    "#             except Exception as e:\n",
    "#                 print(e)\n",
    "#         display(Markdown(display_str))\n",
    "#     else:\n",
    "#         display(Markdown(f\"{post_str}\"))\n"
   ]
  },
  {
   "cell_type": "code",
   "execution_count": null,
   "id": "026679ea",
   "metadata": {},
   "outputs": [],
   "source": [
    "display(Markdown(f\"Follow latest AI headlines via [SkynetAndChill.com on Bluesky](https://bsky.app/profile/skynetandchill.com)\"))\n",
    "\n",
    "\n",
    "for i, post in enumerate(data.feed):\n",
    "    post_str = post.post.record.text.rstrip()\n",
    "    post_str = truncate_last_occurrence(post_str)\n",
    "    post_url = \"\"\n",
    "    tag_dict = {}\n",
    "    try:\n",
    "        post_url = post.post.record.embed.external.uri.rstrip()\n",
    "    except:\n",
    "        pass\n",
    "    if post_url:\n",
    "        tag_dict = get_og_tags(post_url)\n",
    "        display_str = f\"[{post_str}]({post_url})\"\n",
    "        site_name = tag_dict.get('og:site_name')\n",
    "        img_url = tag_dict.get('og:image')\n",
    "        if site_name:\n",
    "            display_str += f\" - {site_name}\"\n",
    "        if img_url:\n",
    "            try:\n",
    "                r = rawfetchurl(img_url)\n",
    "                content_type = r.headers['Content-Type']\n",
    "                content_type = content_type[content_type.find('/')+1:]\n",
    "                impath = f\"source{i}.{content_type}\"\n",
    "                with open(impath, 'wb') as file:\n",
    "                    file.write(r.content)\n",
    "                output_path = f'Image{i}.jpg'\n",
    "                resize_and_crop(impath, output_path)\n",
    "                display(IPython.display.Image(filename=output_path))\n",
    "            except Exception as e:\n",
    "                print(e)\n",
    "        display(Markdown(display_str))\n",
    "        display(Markdown(\"___\"))\n",
    "\n",
    "    else:\n",
    "        display(Markdown(f\"{post_str}\"))"
   ]
  },
  {
   "cell_type": "code",
   "execution_count": null,
   "id": "d9b250ce",
   "metadata": {},
   "outputs": [],
   "source": [
    "data.feed[0].post.record.embed.external.thumb.ref.dict()"
   ]
  },
  {
   "cell_type": "code",
   "execution_count": null,
   "id": "b2206e03",
   "metadata": {},
   "outputs": [],
   "source": [
    "data.feed[0].post.record.embed.external.thumb.dict()"
   ]
  },
  {
   "cell_type": "code",
   "execution_count": null,
   "id": "eaef276e",
   "metadata": {},
   "outputs": [],
   "source": [
    "data.feed[0].post.record.embed.external.dict()"
   ]
  },
  {
   "cell_type": "code",
   "execution_count": null,
   "id": "e22a81b1",
   "metadata": {},
   "outputs": [],
   "source": [
    "data.feed[0].post.record.embed.dict()"
   ]
  },
  {
   "cell_type": "code",
   "execution_count": null,
   "id": "507cc59e",
   "metadata": {},
   "outputs": [],
   "source": [
    "data.feed[0].post.record.embed.external.uri"
   ]
  },
  {
   "cell_type": "code",
   "execution_count": null,
   "id": "cd45e02f",
   "metadata": {},
   "outputs": [],
   "source": [
    "print(datetime.now())"
   ]
  },
  {
   "cell_type": "code",
   "execution_count": null,
   "id": "7c6f2b8e",
   "metadata": {},
   "outputs": [],
   "source": []
  }
 ],
 "metadata": {
  "kernelspec": {
   "display_name": "ainewsbot",
   "language": "python",
   "name": "ainewsbot"
  },
  "language_info": {
   "codemirror_mode": {
    "name": "ipython",
    "version": 3
   },
   "file_extension": ".py",
   "mimetype": "text/x-python",
   "name": "python",
   "nbconvert_exporter": "python",
   "pygments_lexer": "ipython3",
   "version": "3.9.19"
  }
 },
 "nbformat": 4,
 "nbformat_minor": 5
}
