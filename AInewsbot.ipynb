{
 "cells": [
  {
   "cell_type": "markdown",
   "id": "cd15f6b8-26b9-468c-8427-9de836b240fd",
   "metadata": {},
   "source": [
    "AInewsbot.ipynb\n",
    "\n",
    "- Automate collecting daily AI news\n",
    "- Open URLs of news sites specififed in `sources` dict (sources.yaml) using Selenium and Firefox\n",
    "- Save HTML of each URL in htmldata directory\n",
    "- Extract URLs from all files, create a pandas dataframe with url, title, src\n",
    "- Use ChatGPT to filter only AI-related headlines by sending a prompt and formatted table of headlines\n",
    "- Use SQLite to filter headlines previously seen \n",
    "- OPENAI_API_KEY should be in the environment or in a .env file\n",
    "  \n",
    "Alternative manual workflow to get HTML files if necessary\n",
    "- Use Chrome, open e.g. Tech News bookmark folder, right-click and open all bookmarks in new window\n",
    "- on Google News, make sure switch to AI tab\n",
    "- on Google News, Feedly, Reddit, scroll to additional pages as desired\n",
    "- Use SingleFile extension, 'save all tabs'\n",
    "- Move files to htmldata directory\n",
    "- Run lower part of notebook to process the data\n"
   ]
  },
  {
   "cell_type": "code",
   "execution_count": 1,
   "id": "d7195880-36be-4987-b71f-86590c934d72",
   "metadata": {},
   "outputs": [],
   "source": [
    "from datetime import datetime\n",
    "import os\n",
    "import yaml\n",
    "import dotenv\n",
    "import sqlite3\n",
    "import unicodedata\n",
    "import json\n",
    "\n",
    "import numpy as np\n",
    "import pandas as pd\n",
    "\n",
    "# import bs4\n",
    "from bs4 import BeautifulSoup\n",
    "import requests\n",
    "from urllib.parse import urljoin, urlparse\n",
    "\n",
    "import multiprocessing\n",
    "from concurrent.futures import ThreadPoolExecutor, as_completed\n",
    "import asyncio\n",
    "import aiohttp\n",
    "\n",
    "import smtplib\n",
    "from email.mime.multipart import MIMEMultipart\n",
    "from email.mime.text import MIMEText\n",
    "\n",
    "from openai import OpenAI\n",
    "\n",
    "from ainb_const import (DOWNLOAD_DIR, LOWCOST_MODEL, MODEL,\n",
    "                        SOURCECONFIG, PROMPT, MAX_INPUT_TOKENS)\n",
    "from ainb_utilities import log, delete_files, filter_unseen_urls_db, insert_article, nearest_neighbor_sort, agglomerative_cluster_sort, traveling_salesman_sort_scipy\n",
    "from ainb_webscrape import get_driver, quit_drivers, get_file, get_url, parse_file, get_og_tags, get_path_from_url, trimmed_href, DRIVERS\n",
    "from ainb_llm import paginate_df, process_pages\n",
    "\n",
    "# needed because jupyter is already running an async event loop\n",
    "import nest_asyncio\n",
    "import asyncio"
   ]
  },
  {
   "cell_type": "code",
   "execution_count": 2,
   "id": "7d1abe98-7bdc-48d2-8011-1b4b676ed27b",
   "metadata": {},
   "outputs": [],
   "source": [
    "# PROMPT = \"\"\"\n",
    "# You will act as a research assistant to categorize news articles based on their relevance\n",
    "# to the topic of artificial intelligence (AI). You will process and classify news headlines\n",
    "# formatted as JSON objects.\n",
    "\n",
    "# Input Specification:\n",
    "# You will receive a list of news stories formatted as JSON objects.\n",
    "# Each object will include an 'id' and a 'title'. For instance:\n",
    "# [{'id': 97, 'title': 'AI to predict dementia, detect cancer'},\n",
    "#  {'id': 103,'title': 'Figure robot learns to make coffee by watching humans for 10 hours'},\n",
    "#  {'id': 103,'title': 'Baby trapped in refrigerator eats own foot'},\n",
    "#  {'id': 210,'title': 'ChatGPT removes, then reinstates a summarization assistant without explanation.'},\n",
    "#  {'id': 298,'title': 'The 5 most interesting PC monitors from CES 2024'},\n",
    "#  ]\n",
    "\n",
    "# Classification Criteria:\n",
    "# Classify each story based on its title to determine whether it primarily pertains to AI.\n",
    "# Broadly define AI-related content to include topics such as machine learning, robotics,\n",
    "# computer vision, reinforcement learning, large language models, and related topics. Also\n",
    "# include specific references to AI-related entities and individuals and products such as\n",
    "# OpenAI, ChatGPT, Elon Musk, Sam Altman, Anthropic Claude, Google Gemini, Copilot,\n",
    "# Perplexity.ai, Midjourney, etc.\n",
    "\n",
    "# Output Specification:\n",
    "# You will return a JSON object with the field 'stories' containing the list of classification results.\n",
    "# For each story, your output will be a JSON object containing the original 'id' and a new field 'isAI',\n",
    "# a boolean indicating if the story is about AI. The output schema must be strictly adhered to, without\n",
    "# any additional fields. Example output:\n",
    "# {'stories':\n",
    "# [{'id': 97, 'isAI': true},\n",
    "#  {'id': 103, 'isAI': true},\n",
    "#  {'id': 103, 'isAI': false},\n",
    "#  {'id': 210, 'isAI': true},\n",
    "#  {'id': 298, 'isAI': false}]\n",
    "# }\n",
    "\n",
    "# Ensure that each output object accurately reflects the corresponding input object in terms of the 'id' field\n",
    "# and that the 'isAI' field accurately represents the AI relevance of the story as determined by the title.\n",
    "\n",
    "# The list of news stories to classify and enrich is:\n",
    "\n",
    "# \"\"\""
   ]
  },
  {
   "cell_type": "code",
   "execution_count": 3,
   "id": "9bb220c0",
   "metadata": {},
   "outputs": [
    {
     "name": "stdout",
     "output_type": "stream",
     "text": [
      "\n",
      "You will act as a research assistant to categorize news articles based on their relevance\n",
      "to the topic of artificial intelligence (AI). You will process and classify news headlines\n",
      "formatted as JSON objects.\n",
      "\n",
      "Input Specification:\n",
      "You will receive a list of news stories formatted as JSON objects.\n",
      "Each object will include an 'id' and a 'title'. For instance:\n",
      "[{'id': 97, 'title': 'AI to predict dementia, detect cancer'},\n",
      " {'id': 103,'title': 'Figure robot learns to make coffee by watching humans for 10 hours'},\n",
      " {'id': 103,'title': 'Baby trapped in refrigerator eats own foot'},\n",
      " {'id': 210,'title': 'ChatGPT removes, then reinstates a summarization assistant without explanation.'},\n",
      " {'id': 298,'title': 'The 5 most interesting PC monitors from CES 2024'},\n",
      " ]\n",
      "\n",
      "Classification Criteria:\n",
      "Classify each story based on its title to determine whether it primarily pertains to AI.\n",
      "Broadly define AI-related content to include topics such as machine learning, robotics,\n",
      "computer vision, reinforcement learning, large language models, and related topics. Also\n",
      "include specific references to AI-related entities and individuals and products such as\n",
      "OpenAI, ChatGPT, Elon Musk, Sam Altman, Anthropic Claude, Google Gemini, Copilot,\n",
      "Perplexity.ai, Midjourney, etc.\n",
      "\n",
      "Output Specification:\n",
      "You will return a JSON object with the field 'stories' containing the list of classification results.\n",
      "For each story, your output will be a JSON object containing the original 'id' and a new field 'isAI',\n",
      "a boolean indicating if the story is about AI. The output schema must be strictly adhered to, without\n",
      "any additional fields. Example output:\n",
      "{'stories':\n",
      "[{'id': 97, 'isAI': true},\n",
      " {'id': 103, 'isAI': true},\n",
      " {'id': 103, 'isAI': false},\n",
      " {'id': 210, 'isAI': true},\n",
      " {'id': 298, 'isAI': false}]\n",
      "}\n",
      "\n",
      "Ensure that each output object accurately reflects the corresponding input object in terms of the 'id' field\n",
      "and that the 'isAI' field accurately represents the AI relevance of the story as determined by the title.\n",
      "\n",
      "The list of news stories to classify and enrich is:\n",
      "\n",
      "\n"
     ]
    }
   ],
   "source": [
    "print(PROMPT)"
   ]
  },
  {
   "cell_type": "code",
   "execution_count": 4,
   "id": "faebd0b1-7f16-4d82-aed2-78db931b93e3",
   "metadata": {},
   "outputs": [
    {
     "data": {
      "text/plain": [
       "{'og:site_name': 'Druce.ai',\n",
       " 'og:title': 'Druce.ai',\n",
       " 'og:type': 'website',\n",
       " 'og:description': \"Druce's Blog on Machine Learning, Tech, Markets and Economics\",\n",
       " 'og:url': 'https://druce.ai/',\n",
       " 'title': 'Druce.ai'}"
      ]
     },
     "execution_count": 4,
     "metadata": {},
     "output_type": "execute_result"
    }
   ],
   "source": [
    "get_og_tags('https://druce.ai')\n"
   ]
  },
  {
   "cell_type": "code",
   "execution_count": 5,
   "id": "6b5b2492-09c4-4d27-88fb-c240370b3de4",
   "metadata": {},
   "outputs": [
    {
     "data": {
      "text/plain": [
       "'/2024/03/gemini-summarize-book'"
      ]
     },
     "execution_count": 5,
     "metadata": {},
     "output_type": "execute_result"
    }
   ],
   "source": [
    "get_path_from_url('https://druce.ai/2024/03/gemini-summarize-book')\n"
   ]
  },
  {
   "cell_type": "code",
   "execution_count": 6,
   "id": "6def50db-fe4e-494c-8ecf-f5334bdc2db2",
   "metadata": {},
   "outputs": [
    {
     "data": {
      "text/plain": [
       "'https://druce.ai/2024/03/gemini-summarize-book'"
      ]
     },
     "execution_count": 6,
     "metadata": {},
     "output_type": "execute_result"
    }
   ],
   "source": [
    "trimmed_href('https://druce.ai/2024/03/gemini-summarize-book?xyz')\n"
   ]
  },
  {
   "cell_type": "code",
   "execution_count": 7,
   "id": "c2324ab9-f769-4a6f-aa16-a30a001ede78",
   "metadata": {},
   "outputs": [
    {
     "name": "stderr",
     "output_type": "stream",
     "text": [
      "2024-07-02 12:28:19,910 - AInewsbot - INFO - Load 17 sources\n"
     ]
    },
    {
     "data": {
      "text/plain": [
       "20"
      ]
     },
     "execution_count": 7,
     "metadata": {},
     "output_type": "execute_result"
    }
   ],
   "source": [
    "#  load sources to scrape from sources.yaml\n",
    "with open(SOURCECONFIG, \"r\") as stream:\n",
    "    try:\n",
    "        sources = yaml.safe_load(stream)\n",
    "    except yaml.YAMLError as exc:\n",
    "        print(exc)\n",
    "\n",
    "log(f\"Load {len(sources)} sources\")\n",
    "\n"
   ]
  },
  {
   "cell_type": "code",
   "execution_count": 8,
   "id": "85998de4",
   "metadata": {},
   "outputs": [
    {
     "data": {
      "text/plain": [
       "{'Ars Technica': {'include': ['^https://arstechnica.com/(\\\\w+)/(\\\\d+)/(\\\\d+)/'],\n",
       "  'title': 'Ars Technica',\n",
       "  'url': 'https://arstechnica.com/'},\n",
       " 'Bloomberg Tech': {'include': ['^https://www.bloomberg.com/news/'],\n",
       "  'title': 'Bloomberg Technology - Bloomberg',\n",
       "  'url': 'https://www.bloomberg.com/technology'},\n",
       " 'Business Insider': {'exclude': ['^https://www.insider.com',\n",
       "   '^https://www.passionfroot.me'],\n",
       "  'title': 'Tech - Business Insider',\n",
       "  'url': 'https://www.businessinsider.com/tech'},\n",
       " 'FT Tech': {'include': ['https://www.ft.com/content/'],\n",
       "  'title': 'Technology',\n",
       "  'url': 'https://www.ft.com/technology'},\n",
       " 'Feedly AI': {'exclude': ['^https://feedly.com',\n",
       "   '^https://s1.feedly.com',\n",
       "   '^https://blog.feedly.com'],\n",
       "  'scroll': 5,\n",
       "  'initial_sleep': 30,\n",
       "  'title': 'Discover and Add New Feedly AI Feeds',\n",
       "  'url': 'https://feedly.com/i/aiFeeds?options=eyJsYXllcnMiOlt7InBhcnRzIjpbeyJpZCI6Im5scC9mL3RvcGljLzMwMDAifV0sInNlYXJjaEhpbnQiOiJ0ZWNobm9sb2d5IiwidHlwZSI6Im1hdGNoZXMiLCJzYWxpZW5jZSI6ImFib3V0In1dLCJidW5kbGVzIjpbeyJ0eXBlIjoic3RyZWFtIiwiaWQiOiJ1c2VyLzYyZWViYjlmLTcxNTEtNGY5YS1hOGM3LTlhNTdiODIwNTMwOC9jYXRlZ29yeS9HYWRnZXRzIn1dfQ'},\n",
       " 'Google News': {'click': '//*[@aria-label=\"Artificial intelligence\"]',\n",
       "  'include': ['^https://news.google.com/articles/'],\n",
       "  'scroll': 2,\n",
       "  'title': 'Google News - Technology - Artificial intelligence',\n",
       "  'url': 'https://news.google.com/topics/CAAqJggKIiBDQkFTRWdvSUwyMHZNRGRqTVhZU0FtVnVHZ0pWVXlnQVAB?hl=en-US&gl=US&ceid=US%3Aen'},\n",
       " 'Hacker News': {'exclude': ['https://news.ycombinator.com/',\n",
       "   'https://www.ycombinator.com/'],\n",
       "  'title': 'Hacker News Page 1',\n",
       "  'url': 'https://news.ycombinator.com/',\n",
       "  'minlength': 5},\n",
       " 'Hacker News 2': {'exclude': ['https://news.ycombinator.com',\n",
       "   'https://www.ycombinator.com'],\n",
       "  'title': 'Hacker News Page 2',\n",
       "  'url': 'https://news.ycombinator.com/?p=2'},\n",
       " 'HackerNoon': {'exclude': ['^https://hackernoon.com/$',\n",
       "   '^https://hackernoon.com/c$',\n",
       "   '^https://hackernoon.com/coins$',\n",
       "   '^https://hackernoon.com/companies$',\n",
       "   '^https://hackernoon.com/gallery$',\n",
       "   '^https://hackernoon.com/how-to-gain-followers-and-newsletter-subs-directly-on-hackernoon$',\n",
       "   '^https://hackernoon.com/login$',\n",
       "   '^https://hackernoon.com/reader-boot$',\n",
       "   '^https://hackernoon.com/sitemap.xml$',\n",
       "   '^https://hackernoon.com/startups$',\n",
       "   '^https://hackernoon.com/techbeat$',\n",
       "   '^https://hackernoon.com/why-i-write-on-hacker-noon-nl28335q$',\n",
       "   '^https://hackernoon.com/writer-signup$'],\n",
       "  'title': 'HackerNoon - read, write and learn about any technology',\n",
       "  'url': 'https://hackernoon.com/'},\n",
       " 'NYT Tech': {'include': ['^https://www.nytimes.com/(\\\\d+)/(\\\\d+)/(\\\\d+)/'],\n",
       "  'title': 'Technology - The New York Times',\n",
       "  'url': 'https://www.nytimes.com/section/technology'},\n",
       " 'Reddit': {'exclude': ['^https://chat.reddit.com/',\n",
       "   '^https://i.redd.it/',\n",
       "   '^https://redditblog.com/',\n",
       "   '^https://www.redditinc.com/',\n",
       "   '^https://www.reddithelp.com/',\n",
       "   '^https://itunes.apple.com/',\n",
       "   '^https://play.google.com/'],\n",
       "  'scroll': 2,\n",
       "  'minlength': 8,\n",
       "  'title': 'top scoring links _ multi',\n",
       "  'url': 'https://www.reddit.com/r/ChatGPT+ChatGPTCoding+MacOS+MachineLearning+OpenAI+ProgrammerHumor+Windows10+battlestations+buildapc+cordcutters+dataisbeautiful+gadgets+hardware+linux+msp+programming+realtech+software+talesfromtechsupport+tech+technews+technology+techsupportgore+windows/top/?sort=top&t=day'},\n",
       " 'Techmeme': {'exclude': ['^https://www.techmeme.com',\n",
       "   '^https://twitter.com/',\n",
       "   '^https://www.threads.net',\n",
       "   '^https://www.linkedin.com',\n",
       "   '^https://mastodon.social',\n",
       "   '^https://bsky.app'],\n",
       "  'title': 'Techmeme',\n",
       "  'url': 'https://www.techmeme.com/river'},\n",
       " 'The Register': {'include': ['^https://www.theregister.com/(\\\\d+)/(\\\\d+)/(\\\\d+)/'],\n",
       "  'title': 'The Register_ Enterprise Technology News and Analysis',\n",
       "  'url': 'https://www.theregister.com/'},\n",
       " 'The Verge': {'include': ['^https://www.theverge.com/(\\\\d+)/(\\\\d+)/(\\\\d+)/(\\\\d+)/'],\n",
       "  'title': 'Artificial Intelligence - The Verge',\n",
       "  'url': 'https://www.theverge.com/ai-artificial-intelligence'},\n",
       " 'VentureBeat': {'title': 'AI News _ VentureBeat',\n",
       "  'url': 'https://venturebeat.com/category/ai/'},\n",
       " 'WSJ Tech': {'include': ['^https://www.wsj.com/articles/'],\n",
       "  'title': 'Technology - WSJ.com',\n",
       "  'url': 'https://www.wsj.com/tech'},\n",
       " 'WaPo Tech': {'include': ['https://www.washingtonpost.com/(\\\\w+)/(\\\\d+)/(\\\\d+)/(\\\\d+)/'],\n",
       "  'title': 'Technology - The Washington Post',\n",
       "  'url': 'https://www.washingtonpost.com/business/technology/'}}"
      ]
     },
     "execution_count": 8,
     "metadata": {},
     "output_type": "execute_result"
    }
   ],
   "source": [
    "sources"
   ]
  },
  {
   "cell_type": "code",
   "execution_count": 9,
   "id": "562f83b1-b4b8-4355-8b8b-4fe028ea2af8",
   "metadata": {},
   "outputs": [
    {
     "name": "stderr",
     "output_type": "stream",
     "text": [
      "2024-07-02 12:28:19,917 - AInewsbot - INFO - Ars Technica -> https://arstechnica.com/ -> Ars Technica.html\n",
      "2024-07-02 12:28:19,917 - AInewsbot - INFO - Bloomberg Tech -> https://www.bloomberg.com/technology -> Bloomberg Technology - Bloomberg.html\n",
      "2024-07-02 12:28:19,917 - AInewsbot - INFO - Business Insider -> https://www.businessinsider.com/tech -> Tech - Business Insider.html\n",
      "2024-07-02 12:28:19,918 - AInewsbot - INFO - FT Tech -> https://www.ft.com/technology -> Technology.html\n",
      "2024-07-02 12:28:19,918 - AInewsbot - INFO - Feedly AI -> https://feedly.com/i/aiFeeds?options=eyJsYXllcnMiOlt7InBhcnRzIjpbeyJpZCI6Im5scC9mL3RvcGljLzMwMDAifV0sInNlYXJjaEhpbnQiOiJ0ZWNobm9sb2d5IiwidHlwZSI6Im1hdGNoZXMiLCJzYWxpZW5jZSI6ImFib3V0In1dLCJidW5kbGVzIjpbeyJ0eXBlIjoic3RyZWFtIiwiaWQiOiJ1c2VyLzYyZWViYjlmLTcxNTEtNGY5YS1hOGM3LTlhNTdiODIwNTMwOC9jYXRlZ29yeS9HYWRnZXRzIn1dfQ -> Discover and Add New Feedly AI Feeds.html\n",
      "2024-07-02 12:28:19,918 - AInewsbot - INFO - Google News -> https://news.google.com/topics/CAAqJggKIiBDQkFTRWdvSUwyMHZNRGRqTVhZU0FtVnVHZ0pWVXlnQVAB?hl=en-US&gl=US&ceid=US%3Aen -> Google News - Technology - Artificial intelligence.html\n",
      "2024-07-02 12:28:19,918 - AInewsbot - INFO - Hacker News -> https://news.ycombinator.com/ -> Hacker News Page 1.html\n",
      "2024-07-02 12:28:19,918 - AInewsbot - INFO - Hacker News 2 -> https://news.ycombinator.com/?p=2 -> Hacker News Page 2.html\n",
      "2024-07-02 12:28:19,918 - AInewsbot - INFO - HackerNoon -> https://hackernoon.com/ -> HackerNoon - read, write and learn about any technology.html\n",
      "2024-07-02 12:28:19,918 - AInewsbot - INFO - NYT Tech -> https://www.nytimes.com/section/technology -> Technology - The New York Times.html\n",
      "2024-07-02 12:28:19,919 - AInewsbot - INFO - Reddit -> https://www.reddit.com/r/ChatGPT+ChatGPTCoding+MacOS+MachineLearning+OpenAI+ProgrammerHumor+Windows10+battlestations+buildapc+cordcutters+dataisbeautiful+gadgets+hardware+linux+msp+programming+realtech+software+talesfromtechsupport+tech+technews+technology+techsupportgore+windows/top/?sort=top&t=day -> top scoring links _ multi.html\n",
      "2024-07-02 12:28:19,919 - AInewsbot - INFO - Techmeme -> https://www.techmeme.com/river -> Techmeme.html\n",
      "2024-07-02 12:28:19,919 - AInewsbot - INFO - The Register -> https://www.theregister.com/ -> The Register_ Enterprise Technology News and Analysis.html\n",
      "2024-07-02 12:28:19,919 - AInewsbot - INFO - The Verge -> https://www.theverge.com/ai-artificial-intelligence -> Artificial Intelligence - The Verge.html\n",
      "2024-07-02 12:28:19,919 - AInewsbot - INFO - VentureBeat -> https://venturebeat.com/category/ai/ -> AI News _ VentureBeat.html\n",
      "2024-07-02 12:28:19,919 - AInewsbot - INFO - WSJ Tech -> https://www.wsj.com/tech -> Technology - WSJ.com.html\n",
      "2024-07-02 12:28:19,919 - AInewsbot - INFO - WaPo Tech -> https://www.washingtonpost.com/business/technology/ -> Technology - The Washington Post.html\n"
     ]
    },
    {
     "data": {
      "text/plain": [
       "{'Ars Technica': 'Ars Technica',\n",
       " 'Bloomberg Technology - Bloomberg': 'Bloomberg Tech',\n",
       " 'Tech - Business Insider': 'Business Insider',\n",
       " 'Technology': 'FT Tech',\n",
       " 'Discover and Add New Feedly AI Feeds': 'Feedly AI',\n",
       " 'Google News - Technology - Artificial intelligence': 'Google News',\n",
       " 'Hacker News Page 1': 'Hacker News',\n",
       " 'Hacker News Page 2': 'Hacker News 2',\n",
       " 'HackerNoon - read, write and learn about any technology': 'HackerNoon',\n",
       " 'Technology - The New York Times': 'NYT Tech',\n",
       " 'top scoring links _ multi': 'Reddit',\n",
       " 'Techmeme': 'Techmeme',\n",
       " 'The Register_ Enterprise Technology News and Analysis': 'The Register',\n",
       " 'Artificial Intelligence - The Verge': 'The Verge',\n",
       " 'AI News _ VentureBeat': 'VentureBeat',\n",
       " 'Technology - WSJ.com': 'WSJ Tech',\n",
       " 'Technology - The Washington Post': 'WaPo Tech'}"
      ]
     },
     "execution_count": 9,
     "metadata": {},
     "output_type": "execute_result"
    }
   ],
   "source": [
    "# make a reverse dict to map output file titles to source names\n",
    "sources_reverse = {}\n",
    "for k, v in sources.items():\n",
    "    log(f\"{k} -> {v['url']} -> {v['title']}.html\")\n",
    "    v['sourcename'] = k\n",
    "    # map filename (title) to source name\n",
    "    sources_reverse[v['title']] = k\n",
    "\n",
    "sources_reverse"
   ]
  },
  {
   "cell_type": "code",
   "execution_count": 10,
   "id": "2549cf13-0de6-47d2-b7a9-544b5099ff11",
   "metadata": {},
   "outputs": [
    {
     "name": "stderr",
     "output_type": "stream",
     "text": [
      "2024-07-02 12:28:19,931 - AInewsbot - INFO - 17\n",
      "2024-07-02 12:28:19,931 - AInewsbot - INFO - htmldata/Technology - The Washington Post (07_02_2024 10_01_29 AM).html\n",
      "2024-07-02 12:28:19,935 - AInewsbot - INFO - htmldata/Technology - WSJ.com (07_02_2024 10_01_25 AM).html\n",
      "2024-07-02 12:28:19,940 - AInewsbot - INFO - htmldata/Discover and Add New Feedly AI Feeds (07_02_2024 10_01_20 AM).html\n",
      "2024-07-02 12:28:19,941 - AInewsbot - INFO - htmldata/AI News _ VentureBeat (07_02_2024 10_01_19 AM).html\n",
      "2024-07-02 12:28:19,941 - AInewsbot - INFO - htmldata/Artificial Intelligence - The Verge (07_02_2024 10_01_14 AM).html\n",
      "2024-07-02 12:28:19,941 - AInewsbot - INFO - htmldata/top scoring links _ multi (07_02_2024 10_01_08 AM).html\n",
      "2024-07-02 12:28:19,942 - AInewsbot - INFO - htmldata/The Register_ Enterprise Technology News and Analysis (07_02_2024 10_01_04 AM).html\n",
      "2024-07-02 12:28:19,942 - AInewsbot - INFO - htmldata/Techmeme (07_02_2024 10_00_53 AM).html\n",
      "2024-07-02 12:28:19,942 - AInewsbot - INFO - htmldata/Technology - The New York Times (07_02_2024 10_00_42 AM).html\n",
      "2024-07-02 12:28:19,942 - AInewsbot - INFO - htmldata/HackerNoon - read, write and learn about any technology (07_02_2024 10_00_36 AM).html\n",
      "2024-07-02 12:28:19,942 - AInewsbot - INFO - htmldata/Google News - Technology - Artificial intelligence (07_02_2024 10_00_32 AM).html\n",
      "2024-07-02 12:28:19,942 - AInewsbot - INFO - htmldata/Hacker News Page 2 (07_02_2024 10_00_25 AM).html\n",
      "2024-07-02 12:28:19,942 - AInewsbot - INFO - htmldata/Hacker News Page 1 (07_02_2024 10_00_15 AM).html\n",
      "2024-07-02 12:28:19,943 - AInewsbot - INFO - htmldata/Technology (07_02_2024 10_00_04 AM).html\n",
      "2024-07-02 12:28:19,943 - AInewsbot - INFO - htmldata/Bloomberg Technology - Bloomberg (07_02_2024 10_00_00 AM).html\n",
      "2024-07-02 12:28:19,943 - AInewsbot - INFO - htmldata/Tech - Business Insider (07_02_2024 09_59_59 AM).html\n",
      "2024-07-02 12:28:19,943 - AInewsbot - INFO - htmldata/Ars Technica (07_02_2024 09_59_53 AM).html\n"
     ]
    }
   ],
   "source": [
    "# determine files in htmldata directory\n",
    "# List all paths in the directory matching today's date\n",
    "nfiles = 50\n",
    "files = [os.path.join(DOWNLOAD_DIR, file)\n",
    "         for file in os.listdir(DOWNLOAD_DIR)]\n",
    "\n",
    "# Get the current date\n",
    "today = datetime.now()\n",
    "year, month, day = today.year, today.month, today.day\n",
    "datestr = datetime.now().strftime(\"%m_%d_%Y\")\n",
    "\n",
    "# filter files only\n",
    "files = [file for file in files if os.path.isfile(file)]\n",
    "\n",
    "# Sort files by modification time and take top 50\n",
    "files.sort(key=lambda x: os.path.getmtime(x), reverse=True)\n",
    "file = files[:nfiles]\n",
    "\n",
    "# filter files by with today's date ending in .html\n",
    "files = [\n",
    "    file for file in files if datestr in file and file.endswith(\".html\")]\n",
    "log(len(files))\n",
    "for file in files:\n",
    "    log(file)\n",
    "\n",
    "saved_pages = []\n",
    "for file in files:\n",
    "    filename = os.path.basename(file)\n",
    "    # locate date like '01_14_2024' in filename\n",
    "    position = filename.find(\" (\" + datestr)\n",
    "    basename = filename[:position]\n",
    "    # match to source name\n",
    "    sourcename = sources_reverse.get(basename)\n",
    "    if sourcename is None:\n",
    "        log(f\"Skipping {basename}, no sourcename metadata\")\n",
    "        continue\n",
    "    sources[sourcename]['latest'] = file\n",
    "    saved_pages.append((sourcename, file))"
   ]
  },
  {
   "cell_type": "code",
   "execution_count": 12,
   "id": "40fb94c3-464b-43d7-a156-f965c4e6e409",
   "metadata": {},
   "outputs": [
    {
     "name": "stderr",
     "output_type": "stream",
     "text": [
      "2024-07-02 12:37:23,613 - AInewsbot - INFO - Saving HTML files\n",
      "2024-07-02 12:37:23,640 - AInewsbot - INFO - get_driver - 22257 Initializing webdriver\n",
      "2024-07-02 12:37:23,640 - AInewsbot - INFO - get_driver - 22257 Initializing webdriver\n",
      "2024-07-02 12:37:23,640 - AInewsbot - INFO - get_driver - 22257 Initializing webdriver\n",
      "2024-07-02 12:37:41,008 - AInewsbot - INFO - get_driver - Initialized webdriver profile\n",
      "2024-07-02 12:37:41,008 - AInewsbot - INFO - get_driver - Initialized webdriver profile\n",
      "2024-07-02 12:37:41,009 - AInewsbot - INFO - get_driver - Initialized webdriver profile\n",
      "2024-07-02 12:37:41,009 - AInewsbot - INFO - get_driver - Initialized webdriver service\n",
      "2024-07-02 12:37:41,009 - AInewsbot - INFO - get_driver - Initialized webdriver service\n",
      "2024-07-02 12:37:41,009 - AInewsbot - INFO - get_driver - Initialized webdriver service\n",
      "2024-07-02 12:38:29,377 - AInewsbot - INFO - get_driver - Initialized webdriver\n",
      "2024-07-02 12:38:29,374 - AInewsbot - INFO - get_driver - Initialized webdriver\n",
      "2024-07-02 12:38:29,410 - AInewsbot - INFO - Processing Ars Technica\n",
      "2024-07-02 12:38:29,417 - AInewsbot - INFO - Processing Bloomberg Tech\n",
      "2024-07-02 12:38:29,422 - AInewsbot - INFO - get_files(Ars Technica) - starting get_files https://arstechnica.com/\n",
      "2024-07-02 12:38:29,423 - AInewsbot - INFO - get_files(Bloomberg Technology - Bloomberg) - starting get_files https://www.bloomberg.com/technology\n",
      "2024-07-02 12:38:32,330 - AInewsbot - INFO - get_driver - Initialized webdriver\n",
      "2024-07-02 12:38:32,365 - AInewsbot - INFO - Processing Business Insider\n",
      "2024-07-02 12:38:32,366 - AInewsbot - INFO - get_files(Tech - Business Insider) - starting get_files https://www.businessinsider.com/tech\n",
      "2024-07-02 12:38:41,064 - AInewsbot - INFO - get_files(Ars Technica) - Saving Ars Technica (07_02_2024 12_38_41 PM).html as utf-8\n",
      "2024-07-02 12:38:41,069 - AInewsbot - INFO - Processing FT Tech\n",
      "2024-07-02 12:38:41,070 - AInewsbot - INFO - get_files(Technology) - starting get_files https://www.ft.com/technology\n",
      "2024-07-02 12:38:41,203 - AInewsbot - INFO - Message: Unable to locate element: //meta[@http-equiv='Content-Type']; For documentation on this error, please visit: https://www.selenium.dev/documentation/webdriver/troubleshooting/errors#no-such-element-exception\n",
      "Stacktrace:\n",
      "RemoteError@chrome://remote/content/shared/RemoteError.sys.mjs:8:8\n",
      "WebDriverError@chrome://remote/content/shared/webdriver/Errors.sys.mjs:192:5\n",
      "NoSuchElementError@chrome://remote/content/shared/webdriver/Errors.sys.mjs:510:5\n",
      "dom.find/</<@chrome://remote/content/shared/DOM.sys.mjs:136:16\n",
      "\n",
      "2024-07-02 12:38:41,203 - AInewsbot - INFO - get_files(Bloomberg Technology - Bloomberg) - Saving Bloomberg Technology - Bloomberg (07_02_2024 12_38_41 PM).html as utf-8\n",
      "2024-07-02 12:38:41,205 - AInewsbot - INFO - Processing Feedly AI\n",
      "2024-07-02 12:38:41,205 - AInewsbot - INFO - get_files(Discover and Add New Feedly AI Feeds) - starting get_files https://feedly.com/i/aiFeeds?options=eyJsYXllcnMiOlt7InBhcnRzIjpbeyJpZCI6Im5scC9mL3RvcGljLzMwMDAifV0sInNlYXJjaEhpbnQiOiJ0ZWNobm9sb2d5IiwidHlwZSI6Im1hdGNoZXMiLCJzYWxpZW5jZSI6ImFib3V0In1dLCJidW5kbGVzIjpbeyJ0eXBlIjoic3RyZWFtIiwiaWQiOiJ1c2VyLzYyZWViYjlmLTcxNTEtNGY5YS1hOGM3LTlhNTdiODIwNTMwOC9jYXRlZ29yeS9HYWRnZXRzIn1dfQ\n",
      "2024-07-02 12:38:43,222 - AInewsbot - INFO - Message: Unable to locate element: //meta[@http-equiv='Content-Type']; For documentation on this error, please visit: https://www.selenium.dev/documentation/webdriver/troubleshooting/errors#no-such-element-exception\n",
      "Stacktrace:\n",
      "RemoteError@chrome://remote/content/shared/RemoteError.sys.mjs:8:8\n",
      "WebDriverError@chrome://remote/content/shared/webdriver/Errors.sys.mjs:192:5\n",
      "NoSuchElementError@chrome://remote/content/shared/webdriver/Errors.sys.mjs:510:5\n",
      "dom.find/</<@chrome://remote/content/shared/DOM.sys.mjs:136:16\n",
      "\n",
      "2024-07-02 12:38:43,224 - AInewsbot - INFO - get_files(Tech - Business Insider) - Saving Tech - Business Insider (07_02_2024 12_38_43 PM).html as utf-8\n",
      "2024-07-02 12:38:43,225 - AInewsbot - INFO - Processing Google News\n",
      "2024-07-02 12:38:43,225 - AInewsbot - INFO - get_files(Google News - Technology - Artificial intelligence) - starting get_files https://news.google.com/topics/CAAqJggKIiBDQkFTRWdvSUwyMHZNRGRqTVhZU0FtVnVHZ0pWVXlnQVAB?hl=en-US&gl=US&ceid=US%3Aen\n",
      "2024-07-02 12:38:51,868 - AInewsbot - INFO - Message: Unable to locate element: //meta[@http-equiv='Content-Type']; For documentation on this error, please visit: https://www.selenium.dev/documentation/webdriver/troubleshooting/errors#no-such-element-exception\n",
      "Stacktrace:\n",
      "RemoteError@chrome://remote/content/shared/RemoteError.sys.mjs:8:8\n",
      "WebDriverError@chrome://remote/content/shared/webdriver/Errors.sys.mjs:192:5\n",
      "NoSuchElementError@chrome://remote/content/shared/webdriver/Errors.sys.mjs:510:5\n",
      "dom.find/</<@chrome://remote/content/shared/DOM.sys.mjs:136:16\n",
      "\n",
      "2024-07-02 12:38:51,869 - AInewsbot - INFO - get_files(Technology) - Saving Technology (07_02_2024 12_38_51 PM).html as utf-8\n",
      "2024-07-02 12:38:51,870 - AInewsbot - INFO - Processing Hacker News\n",
      "2024-07-02 12:38:51,870 - AInewsbot - INFO - get_files(Hacker News Page 1) - starting get_files https://news.ycombinator.com/\n",
      "2024-07-02 12:38:54,716 - AInewsbot - INFO - get_files(Google News - Technology - Artificial intelligence) - Attempting to click on //*[@aria-label=\"Artificial intelligence\"]\n",
      "2024-07-02 12:38:54,996 - AInewsbot - INFO - get_files - Clicked\n",
      "2024-07-02 12:38:54,999 - AInewsbot - INFO - get_files(Google News - Technology - Artificial intelligence) - Loading additional infinite scroll items\n",
      "2024-07-02 12:39:02,420 - AInewsbot - INFO - Message: Unable to locate element: //meta[@http-equiv='Content-Type']; For documentation on this error, please visit: https://www.selenium.dev/documentation/webdriver/troubleshooting/errors#no-such-element-exception\n",
      "Stacktrace:\n",
      "RemoteError@chrome://remote/content/shared/RemoteError.sys.mjs:8:8\n",
      "WebDriverError@chrome://remote/content/shared/webdriver/Errors.sys.mjs:192:5\n",
      "NoSuchElementError@chrome://remote/content/shared/webdriver/Errors.sys.mjs:510:5\n",
      "dom.find/</<@chrome://remote/content/shared/DOM.sys.mjs:136:16\n",
      "\n",
      "2024-07-02 12:39:02,421 - AInewsbot - INFO - get_files(Hacker News Page 1) - Saving Hacker News Page 1 (07_02_2024 12_39_02 PM).html as utf-8\n",
      "2024-07-02 12:39:02,422 - AInewsbot - INFO - Processing Hacker News 2\n",
      "2024-07-02 12:39:02,422 - AInewsbot - INFO - get_files(Hacker News Page 2) - starting get_files https://news.ycombinator.com/?p=2\n",
      "2024-07-02 12:39:05,034 - AInewsbot - INFO - get_files(Google News - Technology - Artificial intelligence) - Loading additional infinite scroll items\n",
      "2024-07-02 12:39:11,896 - AInewsbot - INFO - get_files(Discover and Add New Feedly AI Feeds) - Loading additional infinite scroll items\n",
      "2024-07-02 12:39:12,607 - AInewsbot - INFO - Message: Unable to locate element: //meta[@http-equiv='Content-Type']; For documentation on this error, please visit: https://www.selenium.dev/documentation/webdriver/troubleshooting/errors#no-such-element-exception\n",
      "Stacktrace:\n",
      "RemoteError@chrome://remote/content/shared/RemoteError.sys.mjs:8:8\n",
      "WebDriverError@chrome://remote/content/shared/webdriver/Errors.sys.mjs:192:5\n",
      "NoSuchElementError@chrome://remote/content/shared/webdriver/Errors.sys.mjs:510:5\n",
      "dom.find/</<@chrome://remote/content/shared/DOM.sys.mjs:136:16\n",
      "\n",
      "2024-07-02 12:39:12,608 - AInewsbot - INFO - get_files(Hacker News Page 2) - Saving Hacker News Page 2 (07_02_2024 12_39_12 PM).html as utf-8\n",
      "2024-07-02 12:39:12,610 - AInewsbot - INFO - Processing HackerNoon\n",
      "2024-07-02 12:39:12,610 - AInewsbot - INFO - get_files(HackerNoon - read, write and learn about any technology) - starting get_files https://hackernoon.com/\n",
      "2024-07-02 12:39:15,155 - AInewsbot - INFO - Message: Unable to locate element: //meta[@http-equiv='Content-Type']; For documentation on this error, please visit: https://www.selenium.dev/documentation/webdriver/troubleshooting/errors#no-such-element-exception\n",
      "Stacktrace:\n",
      "RemoteError@chrome://remote/content/shared/RemoteError.sys.mjs:8:8\n",
      "WebDriverError@chrome://remote/content/shared/webdriver/Errors.sys.mjs:192:5\n",
      "NoSuchElementError@chrome://remote/content/shared/webdriver/Errors.sys.mjs:510:5\n",
      "dom.find/</<@chrome://remote/content/shared/DOM.sys.mjs:136:16\n",
      "\n"
     ]
    },
    {
     "name": "stderr",
     "output_type": "stream",
     "text": [
      "2024-07-02 12:39:15,156 - AInewsbot - INFO - get_files(Google News - Technology - Artificial intelligence) - Saving Google News - Technology - Artificial intelligence (07_02_2024 12_39_15 PM).html as utf-8\n",
      "2024-07-02 12:39:15,174 - AInewsbot - INFO - Processing NYT Tech\n",
      "2024-07-02 12:39:15,174 - AInewsbot - INFO - get_files(Technology - The New York Times) - starting get_files https://www.nytimes.com/section/technology\n",
      "2024-07-02 12:39:21,900 - AInewsbot - INFO - get_files(Discover and Add New Feedly AI Feeds) - Loading additional infinite scroll items\n",
      "2024-07-02 12:39:23,322 - AInewsbot - INFO - Message: Unable to locate element: //meta[@http-equiv='Content-Type']; For documentation on this error, please visit: https://www.selenium.dev/documentation/webdriver/troubleshooting/errors#no-such-element-exception\n",
      "Stacktrace:\n",
      "RemoteError@chrome://remote/content/shared/RemoteError.sys.mjs:8:8\n",
      "WebDriverError@chrome://remote/content/shared/webdriver/Errors.sys.mjs:192:5\n",
      "NoSuchElementError@chrome://remote/content/shared/webdriver/Errors.sys.mjs:510:5\n",
      "dom.find/</<@chrome://remote/content/shared/DOM.sys.mjs:136:16\n",
      "\n",
      "2024-07-02 12:39:23,322 - AInewsbot - INFO - get_files(HackerNoon - read, write and learn about any technology) - Saving HackerNoon - read, write and learn about any technology (07_02_2024 12_39_23 PM).html as utf-8\n",
      "2024-07-02 12:39:23,324 - AInewsbot - INFO - Processing Reddit\n",
      "2024-07-02 12:39:23,324 - AInewsbot - INFO - get_files(top scoring links _ multi) - starting get_files https://www.reddit.com/r/ChatGPT+ChatGPTCoding+MacOS+MachineLearning+OpenAI+ProgrammerHumor+Windows10+battlestations+buildapc+cordcutters+dataisbeautiful+gadgets+hardware+linux+msp+programming+realtech+software+talesfromtechsupport+tech+technews+technology+techsupportgore+windows/top/?sort=top&t=day\n",
      "2024-07-02 12:39:25,746 - AInewsbot - INFO - Message: Unable to locate element: //meta[@http-equiv='Content-Type']; For documentation on this error, please visit: https://www.selenium.dev/documentation/webdriver/troubleshooting/errors#no-such-element-exception\n",
      "Stacktrace:\n",
      "RemoteError@chrome://remote/content/shared/RemoteError.sys.mjs:8:8\n",
      "WebDriverError@chrome://remote/content/shared/webdriver/Errors.sys.mjs:192:5\n",
      "NoSuchElementError@chrome://remote/content/shared/webdriver/Errors.sys.mjs:510:5\n",
      "dom.find/</<@chrome://remote/content/shared/DOM.sys.mjs:136:16\n",
      "\n",
      "2024-07-02 12:39:25,747 - AInewsbot - INFO - get_files(Technology - The New York Times) - Saving Technology - The New York Times (07_02_2024 12_39_25 PM).html as utf-8\n",
      "2024-07-02 12:39:25,750 - AInewsbot - INFO - Processing Techmeme\n",
      "2024-07-02 12:39:25,750 - AInewsbot - INFO - get_files(Techmeme) - starting get_files https://www.techmeme.com/river\n",
      "2024-07-02 12:39:31,904 - AInewsbot - INFO - get_files(Discover and Add New Feedly AI Feeds) - Loading additional infinite scroll items\n",
      "2024-07-02 12:39:36,012 - AInewsbot - INFO - get_files(top scoring links _ multi) - Loading additional infinite scroll items\n",
      "2024-07-02 12:39:36,817 - AInewsbot - INFO - Message: Unable to locate element: //meta[@http-equiv='Content-Type']; For documentation on this error, please visit: https://www.selenium.dev/documentation/webdriver/troubleshooting/errors#no-such-element-exception\n",
      "Stacktrace:\n",
      "RemoteError@chrome://remote/content/shared/RemoteError.sys.mjs:8:8\n",
      "WebDriverError@chrome://remote/content/shared/webdriver/Errors.sys.mjs:192:5\n",
      "NoSuchElementError@chrome://remote/content/shared/webdriver/Errors.sys.mjs:510:5\n",
      "dom.find/</<@chrome://remote/content/shared/DOM.sys.mjs:136:16\n",
      "\n",
      "2024-07-02 12:39:36,817 - AInewsbot - INFO - get_files(Techmeme) - Saving Techmeme (07_02_2024 12_39_36 PM).html as utf-8\n",
      "2024-07-02 12:39:36,819 - AInewsbot - INFO - Processing The Register\n",
      "2024-07-02 12:39:36,819 - AInewsbot - INFO - get_files(The Register_ Enterprise Technology News and Analysis) - starting get_files https://www.theregister.com/\n",
      "2024-07-02 12:39:41,912 - AInewsbot - INFO - get_files(Discover and Add New Feedly AI Feeds) - Loading additional infinite scroll items\n",
      "2024-07-02 12:39:46,036 - AInewsbot - INFO - get_files(top scoring links _ multi) - Loading additional infinite scroll items\n",
      "2024-07-02 12:39:47,155 - AInewsbot - INFO - get_files(The Register_ Enterprise Technology News and Analysis) - Saving The Register_ Enterprise Technology News and Analysis (07_02_2024 12_39_47 PM).html as utf-8\n",
      "2024-07-02 12:39:47,158 - AInewsbot - INFO - Processing The Verge\n",
      "2024-07-02 12:39:47,158 - AInewsbot - INFO - get_files(Artificial Intelligence - The Verge) - starting get_files https://www.theverge.com/ai-artificial-intelligence\n",
      "2024-07-02 12:39:51,924 - AInewsbot - INFO - get_files(Discover and Add New Feedly AI Feeds) - Loading additional infinite scroll items\n",
      "2024-07-02 12:39:56,090 - AInewsbot - INFO - Message: Unable to locate element: //meta[@http-equiv='Content-Type']; For documentation on this error, please visit: https://www.selenium.dev/documentation/webdriver/troubleshooting/errors#no-such-element-exception\n",
      "Stacktrace:\n",
      "RemoteError@chrome://remote/content/shared/RemoteError.sys.mjs:8:8\n",
      "WebDriverError@chrome://remote/content/shared/webdriver/Errors.sys.mjs:192:5\n",
      "NoSuchElementError@chrome://remote/content/shared/webdriver/Errors.sys.mjs:510:5\n",
      "dom.find/</<@chrome://remote/content/shared/DOM.sys.mjs:136:16\n",
      "\n",
      "2024-07-02 12:39:56,090 - AInewsbot - INFO - get_files(top scoring links _ multi) - Saving top scoring links _ multi (07_02_2024 12_39_56 PM).html as utf-8\n",
      "2024-07-02 12:39:56,093 - AInewsbot - INFO - Processing VentureBeat\n",
      "2024-07-02 12:39:56,094 - AInewsbot - INFO - get_files(AI News _ VentureBeat) - starting get_files https://venturebeat.com/category/ai/\n",
      "2024-07-02 12:39:57,526 - AInewsbot - INFO - Message: Unable to locate element: //meta[@http-equiv='Content-Type']; For documentation on this error, please visit: https://www.selenium.dev/documentation/webdriver/troubleshooting/errors#no-such-element-exception\n",
      "Stacktrace:\n",
      "RemoteError@chrome://remote/content/shared/RemoteError.sys.mjs:8:8\n",
      "WebDriverError@chrome://remote/content/shared/webdriver/Errors.sys.mjs:192:5\n",
      "NoSuchElementError@chrome://remote/content/shared/webdriver/Errors.sys.mjs:510:5\n",
      "dom.find/</<@chrome://remote/content/shared/DOM.sys.mjs:136:16\n",
      "\n",
      "2024-07-02 12:39:57,527 - AInewsbot - INFO - get_files(Artificial Intelligence - The Verge) - Saving Artificial Intelligence - The Verge (07_02_2024 12_39_57 PM).html as utf-8\n",
      "2024-07-02 12:39:57,528 - AInewsbot - INFO - Processing WSJ Tech\n",
      "2024-07-02 12:39:57,528 - AInewsbot - INFO - get_files(Technology - WSJ.com) - starting get_files https://www.wsj.com/tech\n",
      "2024-07-02 12:40:01,939 - AInewsbot - INFO - Message: Unable to locate element: //meta[@http-equiv='Content-Type']; For documentation on this error, please visit: https://www.selenium.dev/documentation/webdriver/troubleshooting/errors#no-such-element-exception\n",
      "Stacktrace:\n",
      "RemoteError@chrome://remote/content/shared/RemoteError.sys.mjs:8:8\n",
      "WebDriverError@chrome://remote/content/shared/webdriver/Errors.sys.mjs:192:5\n",
      "NoSuchElementError@chrome://remote/content/shared/webdriver/Errors.sys.mjs:510:5\n",
      "dom.find/</<@chrome://remote/content/shared/DOM.sys.mjs:136:16\n",
      "\n",
      "2024-07-02 12:40:01,940 - AInewsbot - INFO - get_files(Discover and Add New Feedly AI Feeds) - Saving Discover and Add New Feedly AI Feeds (07_02_2024 12_40_01 PM).html as utf-8\n",
      "2024-07-02 12:40:01,940 - AInewsbot - INFO - Processing WaPo Tech\n",
      "2024-07-02 12:40:01,941 - AInewsbot - INFO - get_files(Technology - The Washington Post) - starting get_files https://www.washingtonpost.com/business/technology/\n",
      "2024-07-02 12:40:06,710 - AInewsbot - INFO - get_files(AI News _ VentureBeat) - Saving AI News _ VentureBeat (07_02_2024 12_40_06 PM).html as UTF-8\n",
      "2024-07-02 12:40:06,711 - AInewsbot - INFO - Quit webdriver\n",
      "2024-07-02 12:40:08,506 - AInewsbot - INFO - Message: Unable to locate element: //meta[@http-equiv='Content-Type']; For documentation on this error, please visit: https://www.selenium.dev/documentation/webdriver/troubleshooting/errors#no-such-element-exception\n",
      "Stacktrace:\n",
      "RemoteError@chrome://remote/content/shared/RemoteError.sys.mjs:8:8\n",
      "WebDriverError@chrome://remote/content/shared/webdriver/Errors.sys.mjs:192:5\n",
      "NoSuchElementError@chrome://remote/content/shared/webdriver/Errors.sys.mjs:510:5\n",
      "dom.find/</<@chrome://remote/content/shared/DOM.sys.mjs:136:16\n",
      "\n"
     ]
    },
    {
     "name": "stderr",
     "output_type": "stream",
     "text": [
      "2024-07-02 12:40:08,506 - AInewsbot - INFO - get_files(Technology - WSJ.com) - Saving Technology - WSJ.com (07_02_2024 12_40_08 PM).html as utf-8\n",
      "2024-07-02 12:40:08,507 - AInewsbot - INFO - Quit webdriver\n",
      "2024-07-02 12:40:13,386 - AInewsbot - INFO - Message: Unable to locate element: //meta[@http-equiv='Content-Type']; For documentation on this error, please visit: https://www.selenium.dev/documentation/webdriver/troubleshooting/errors#no-such-element-exception\n",
      "Stacktrace:\n",
      "RemoteError@chrome://remote/content/shared/RemoteError.sys.mjs:8:8\n",
      "WebDriverError@chrome://remote/content/shared/webdriver/Errors.sys.mjs:192:5\n",
      "NoSuchElementError@chrome://remote/content/shared/webdriver/Errors.sys.mjs:510:5\n",
      "dom.find/</<@chrome://remote/content/shared/DOM.sys.mjs:136:16\n",
      "\n",
      "2024-07-02 12:40:13,386 - AInewsbot - INFO - get_files(Technology - The Washington Post) - Saving Technology - The Washington Post (07_02_2024 12_40_13 PM).html as utf-8\n",
      "2024-07-02 12:40:13,388 - AInewsbot - INFO - Quit webdriver\n"
     ]
    }
   ],
   "source": [
    "# Fetch HTML files from sources\n",
    "\n",
    "# takes 5 minutes without multiprocessing\n",
    "# get driver takes 50 seconds, so call it 1 + 4\n",
    "# 2 drivers should take 2 + 2, 3: 3 + 4/3\n",
    "# could save a minute by using 2 webdrivers\n",
    "\n",
    "# empty download directory\n",
    "delete_files(DOWNLOAD_DIR)\n",
    "\n",
    "# save each file specified from sources\n",
    "log(\"Saving HTML files\")\n",
    "\n",
    "# Create a queue for multiprocessing and populate it \n",
    "queue = multiprocessing.Queue()\n",
    "for item in sources.values():\n",
    "    queue.put(item)\n",
    "    \n",
    "# Function to take the queue and pop entries off and fetchuntil none are left\n",
    "# could probably just access queue as a global or just define 1 function\n",
    "# this pattern lets you create an array of functions with different args\n",
    "\n",
    "num_browsers = 4\n",
    "# Function to take the queue and pop entries off and process until none are left\n",
    "# lets you create an array of functions with different args\n",
    "\n",
    "# what you need to fix here - queue should be id, url, title\n",
    "# # map id back to sourcedict\n",
    "# def process_queue_factory(q):\n",
    "#     def process_queue():\n",
    "#         # launch browser via selenium driver\n",
    "#         driver = webscrape.get_driver()    \n",
    "#         saved_pages = []\n",
    "#         while not q.empty():\n",
    "#             i, url, title = q.get()\n",
    "#             webscrape.log(f'Processing {url}')\n",
    "#             savefile = webscrape.get_url(url, driver)\n",
    "#             saved_pages.append((i, url, title, savefile))\n",
    "#         # Close the browser\n",
    "#         webscrape.log(\"Quit webdriver\")\n",
    "#         driver.quit()\n",
    "#         return saved_pages\n",
    "#     return process_queue\n",
    "\n",
    "# callable = process_queue_factory(queue)\n",
    "# # saved_pages = callable()\n",
    "\n",
    "# def launch_drivers(num_drivers):\n",
    "#     with ThreadPoolExecutor(max_workers=num_drivers) as executor:\n",
    "#         # Create a list of future objects\n",
    "#         futures = [executor.submit(callable) for _ in range(num_drivers)]\n",
    "        \n",
    "#         # Collect the results (web drivers) as they complete\n",
    "#         retarray = [future.result() for future in as_completed(futures)]\n",
    "        \n",
    "#     return retarray\n",
    "\n",
    "# print(f\"fetching {len(df)} pages using {num_browsers} browsers\")\n",
    "# results = launch_drivers(num_browsers)\n",
    "# ---\n",
    "def process_queue_factory(q):\n",
    "    def process_queue():\n",
    "        # launch browser via selenium driver\n",
    "        driver = get_driver()    \n",
    "        saved_pages = []\n",
    "        while not q.empty():\n",
    "            sourcedict = q.get()\n",
    "            sourcename = sourcedict['sourcename']\n",
    "            log(f'Processing {sourcename}')\n",
    "            sourcefile = get_file(sourcedict, driver)\n",
    "            saved_pages.append((sourcename, sourcefile))  \n",
    "        # Close the browser\n",
    "        log(\"Quit webdriver\")\n",
    "        driver.quit()\n",
    "        return saved_pages\n",
    "    return process_queue\n",
    "\n",
    "callable = process_queue_factory(queue)\n",
    "# saved_pages = callable()\n",
    "\n",
    "def launch_drivers(num_drivers):\n",
    "    with ThreadPoolExecutor(max_workers=num_drivers) as executor:\n",
    "        # Create a list of future objects\n",
    "        futures = [executor.submit(callable) for _ in range(num_drivers)]\n",
    "        \n",
    "        # Collect the results (web drivers) as they complete\n",
    "        retarray = [future.result() for future in as_completed(futures)]\n",
    "        \n",
    "    return retarray\n",
    "\n",
    "results = launch_drivers(3)"
   ]
  },
  {
   "cell_type": "code",
   "execution_count": 13,
   "id": "7ea40e84",
   "metadata": {},
   "outputs": [
    {
     "data": {
      "text/plain": [
       "[('Ars Technica', 'htmldata/Ars Technica (07_02_2024 12_38_41 PM).html'),\n",
       " ('FT Tech', 'htmldata/Technology (07_02_2024 12_38_51 PM).html'),\n",
       " ('Hacker News', 'htmldata/Hacker News Page 1 (07_02_2024 12_39_02 PM).html'),\n",
       " ('Hacker News 2',\n",
       "  'htmldata/Hacker News Page 2 (07_02_2024 12_39_12 PM).html'),\n",
       " ('HackerNoon',\n",
       "  'htmldata/HackerNoon - read, write and learn about any technology (07_02_2024 12_39_23 PM).html'),\n",
       " ('Reddit',\n",
       "  'htmldata/top scoring links _ multi (07_02_2024 12_39_56 PM).html'),\n",
       " ('VentureBeat',\n",
       "  'htmldata/AI News _ VentureBeat (07_02_2024 12_40_06 PM).html'),\n",
       " ('Business Insider',\n",
       "  'htmldata/Tech - Business Insider (07_02_2024 12_38_43 PM).html'),\n",
       " ('Google News',\n",
       "  'htmldata/Google News - Technology - Artificial intelligence (07_02_2024 12_39_15 PM).html'),\n",
       " ('NYT Tech',\n",
       "  'htmldata/Technology - The New York Times (07_02_2024 12_39_25 PM).html'),\n",
       " ('Techmeme', 'htmldata/Techmeme (07_02_2024 12_39_36 PM).html'),\n",
       " ('The Register',\n",
       "  'htmldata/The Register_ Enterprise Technology News and Analysis (07_02_2024 12_39_47 PM).html'),\n",
       " ('The Verge',\n",
       "  'htmldata/Artificial Intelligence - The Verge (07_02_2024 12_39_57 PM).html'),\n",
       " ('WSJ Tech', 'htmldata/Technology - WSJ.com (07_02_2024 12_40_08 PM).html'),\n",
       " ('Bloomberg Tech',\n",
       "  'htmldata/Bloomberg Technology - Bloomberg (07_02_2024 12_38_41 PM).html'),\n",
       " ('Feedly AI',\n",
       "  'htmldata/Discover and Add New Feedly AI Feeds (07_02_2024 12_40_01 PM).html'),\n",
       " ('WaPo Tech',\n",
       "  'htmldata/Technology - The Washington Post (07_02_2024 12_40_13 PM).html')]"
      ]
     },
     "execution_count": 13,
     "metadata": {},
     "output_type": "execute_result"
    }
   ],
   "source": [
    "# flatten results\n",
    "saved_pages = []\n",
    "for r in results:\n",
    "    saved_pages.extend(r)\n",
    "saved_pages"
   ]
  },
  {
   "cell_type": "code",
   "execution_count": 14,
   "id": "2225a9d3",
   "metadata": {},
   "outputs": [],
   "source": [
    "# gives error, TypeError: cannot pickle '_thread.lock' object\n",
    "# not sure why, should be straightforward\n",
    "# overkill to save a minute but 2 ways to do it:\n",
    "#  function that takes the queue as an arg, gets driver, keeps popping items until queue is empty, quits driver \n",
    "#  use a pool.map() on a function that takes a single url as an arg, after all complete, call quit_drivers()\n",
    "\n",
    "# import multiprocessing\n",
    "# from queue import Queue\n",
    "\n",
    "# # Function to download and save the web page\n",
    "# def download_page(url_queue, download_dir):\n",
    "#     driver = get_driver()\n",
    "\n",
    "#     while not url_queue.empty():\n",
    "#         url = url_queue.get()\n",
    "#         log(url)\n",
    "#         try:\n",
    "#             driver.get(url)\n",
    "#             # Save page source\n",
    "#             file_name = os.path.join(download_dir, f\"{url_queue.qsize()}.html\")\n",
    "#             with open(file_name, 'w', encoding='utf-8') as file:\n",
    "#                 file.write(driver.page_source)\n",
    "#             print(f\"Saved {url} to {file_name}\")\n",
    "#         except Exception as e:\n",
    "#             print(f\"Failed to download {url}: {e}\")\n",
    "#         finally:\n",
    "#             url_queue.task_done()\n",
    "\n",
    "#     driver.quit()\n",
    "\n",
    "# # Create a queue and add URLs\n",
    "# url_queue = Queue()\n",
    "# urls = [v['url'] for v in sources.values()]\n",
    "# for url in urls:\n",
    "#     url_queue.put(url)\n",
    "\n",
    "# # Create and start threads\n",
    "# processes = []\n",
    "\n",
    "# for i in range(3):  # 3 Selenium WebDriver instances\n",
    "#     process = multiprocessing.Process(target=download_page, args=(url_queue, DOWNLOAD_DIR))\n",
    "#     process.start()\n",
    "#     processes.append(thread)\n",
    "\n",
    "# # Wait for all threads to finish\n",
    "# for process in processes:\n",
    "#     process.join()\n",
    "\n",
    "# print(\"All pages have been downloaded.\")"
   ]
  },
  {
   "cell_type": "code",
   "execution_count": 15,
   "id": "3b5aa21a-7387-4e76-a17e-6b22544dd13a",
   "metadata": {},
   "outputs": [
    {
     "name": "stdout",
     "output_type": "stream",
     "text": [
      "17\n",
      "Ars Technica -> htmldata/Ars Technica (07_02_2024 12_38_41 PM).html\n",
      "FT Tech -> htmldata/Technology (07_02_2024 12_38_51 PM).html\n",
      "Hacker News -> htmldata/Hacker News Page 1 (07_02_2024 12_39_02 PM).html\n",
      "Hacker News 2 -> htmldata/Hacker News Page 2 (07_02_2024 12_39_12 PM).html\n",
      "HackerNoon -> htmldata/HackerNoon - read, write and learn about any technology (07_02_2024 12_39_23 PM).html\n",
      "Reddit -> htmldata/top scoring links _ multi (07_02_2024 12_39_56 PM).html\n",
      "VentureBeat -> htmldata/AI News _ VentureBeat (07_02_2024 12_40_06 PM).html\n",
      "Business Insider -> htmldata/Tech - Business Insider (07_02_2024 12_38_43 PM).html\n",
      "Google News -> htmldata/Google News - Technology - Artificial intelligence (07_02_2024 12_39_15 PM).html\n",
      "NYT Tech -> htmldata/Technology - The New York Times (07_02_2024 12_39_25 PM).html\n",
      "Techmeme -> htmldata/Techmeme (07_02_2024 12_39_36 PM).html\n",
      "The Register -> htmldata/The Register_ Enterprise Technology News and Analysis (07_02_2024 12_39_47 PM).html\n",
      "The Verge -> htmldata/Artificial Intelligence - The Verge (07_02_2024 12_39_57 PM).html\n",
      "WSJ Tech -> htmldata/Technology - WSJ.com (07_02_2024 12_40_08 PM).html\n",
      "Bloomberg Tech -> htmldata/Bloomberg Technology - Bloomberg (07_02_2024 12_38_41 PM).html\n",
      "Feedly AI -> htmldata/Discover and Add New Feedly AI Feeds (07_02_2024 12_40_01 PM).html\n",
      "WaPo Tech -> htmldata/Technology - The Washington Post (07_02_2024 12_40_13 PM).html\n"
     ]
    }
   ],
   "source": [
    "print(len(saved_pages))\n",
    "for sourcename, page in saved_pages:\n",
    "    sources[sourcename]['latest'] = page\n",
    "    print(sourcename, '->', page)\n",
    "    "
   ]
  },
  {
   "cell_type": "code",
   "execution_count": 16,
   "id": "66826165",
   "metadata": {},
   "outputs": [],
   "source": [
    "# for sourcename, filename in saved_pages:\n",
    "#     sources[sourcename][\"latest\"]=filename\n",
    "#     sources[sourcename][\"sourcename\"]=sourcename\n",
    "    \n",
    "    "
   ]
  },
  {
   "cell_type": "code",
   "execution_count": 17,
   "id": "0e6e05b3-14c8-43a7-9fd7-44f61d436076",
   "metadata": {},
   "outputs": [
    {
     "name": "stderr",
     "output_type": "stream",
     "text": [
      "2024-07-02 12:40:15,771 - AInewsbot - INFO - parsing html files\n"
     ]
    },
    {
     "name": "stdout",
     "output_type": "stream",
     "text": [
      "Ars Technica -> htmldata/Ars Technica (07_02_2024 12_38_41 PM).html\n"
     ]
    },
    {
     "name": "stderr",
     "output_type": "stream",
     "text": [
      "2024-07-02 12:40:15,773 - AInewsbot - INFO - parse loop - Ars Technica\n",
      "2024-07-02 12:40:15,814 - AInewsbot - INFO - parse_file - found 252 raw links\n",
      "2024-07-02 12:40:15,819 - AInewsbot - INFO - parse_file - found 31 filtered links\n",
      "2024-07-02 12:40:15,820 - AInewsbot - INFO - parse loop - 31 links found\n"
     ]
    },
    {
     "name": "stdout",
     "output_type": "stream",
     "text": [
      "FT Tech -> htmldata/Technology (07_02_2024 12_38_51 PM).html\n"
     ]
    },
    {
     "name": "stderr",
     "output_type": "stream",
     "text": [
      "2024-07-02 12:40:15,820 - AInewsbot - INFO - parse loop - FT Tech\n",
      "2024-07-02 12:40:15,850 - AInewsbot - INFO - parse_file - found 460 raw links\n",
      "2024-07-02 12:40:15,855 - AInewsbot - INFO - parse_file - found 105 filtered links\n",
      "2024-07-02 12:40:15,855 - AInewsbot - INFO - parse loop - 105 links found\n"
     ]
    },
    {
     "name": "stdout",
     "output_type": "stream",
     "text": [
      "Hacker News -> htmldata/Hacker News Page 1 (07_02_2024 12_39_02 PM).html\n"
     ]
    },
    {
     "name": "stderr",
     "output_type": "stream",
     "text": [
      "2024-07-02 12:40:15,856 - AInewsbot - INFO - parse loop - Hacker News\n",
      "2024-07-02 12:40:15,869 - AInewsbot - INFO - parse_file - found 255 raw links\n",
      "2024-07-02 12:40:15,872 - AInewsbot - INFO - parse_file - found 25 filtered links\n",
      "2024-07-02 12:40:15,873 - AInewsbot - INFO - parse loop - 25 links found\n"
     ]
    },
    {
     "name": "stdout",
     "output_type": "stream",
     "text": [
      "Hacker News 2 -> htmldata/Hacker News Page 2 (07_02_2024 12_39_12 PM).html\n"
     ]
    },
    {
     "name": "stderr",
     "output_type": "stream",
     "text": [
      "2024-07-02 12:40:15,873 - AInewsbot - INFO - parse loop - Hacker News 2\n",
      "2024-07-02 12:40:15,884 - AInewsbot - INFO - parse_file - found 261 raw links\n",
      "2024-07-02 12:40:15,887 - AInewsbot - INFO - parse_file - found 24 filtered links\n",
      "2024-07-02 12:40:15,888 - AInewsbot - INFO - parse loop - 24 links found\n"
     ]
    },
    {
     "name": "stdout",
     "output_type": "stream",
     "text": [
      "HackerNoon -> htmldata/HackerNoon - read, write and learn about any technology (07_02_2024 12_39_23 PM).html\n"
     ]
    },
    {
     "name": "stderr",
     "output_type": "stream",
     "text": [
      "2024-07-02 12:40:15,888 - AInewsbot - INFO - parse loop - HackerNoon\n",
      "2024-07-02 12:40:15,944 - AInewsbot - INFO - parse_file - found 569 raw links\n",
      "2024-07-02 12:40:15,953 - AInewsbot - INFO - parse_file - found 91 filtered links\n",
      "2024-07-02 12:40:15,953 - AInewsbot - INFO - parse loop - 91 links found\n"
     ]
    },
    {
     "name": "stdout",
     "output_type": "stream",
     "text": [
      "Reddit -> htmldata/top scoring links _ multi (07_02_2024 12_39_56 PM).html\n"
     ]
    },
    {
     "name": "stderr",
     "output_type": "stream",
     "text": [
      "2024-07-02 12:40:15,954 - AInewsbot - INFO - parse loop - Reddit\n",
      "2024-07-02 12:40:16,138 - AInewsbot - INFO - parse_file - found 569 raw links\n",
      "2024-07-02 12:40:16,147 - AInewsbot - INFO - parse_file - found 372 filtered links\n",
      "2024-07-02 12:40:16,147 - AInewsbot - INFO - parse loop - 372 links found\n"
     ]
    },
    {
     "name": "stdout",
     "output_type": "stream",
     "text": [
      "VentureBeat -> htmldata/AI News _ VentureBeat (07_02_2024 12_40_06 PM).html\n"
     ]
    },
    {
     "name": "stderr",
     "output_type": "stream",
     "text": [
      "2024-07-02 12:40:16,148 - AInewsbot - INFO - parse loop - VentureBeat\n",
      "2024-07-02 12:40:16,163 - AInewsbot - INFO - parse_file - found 326 raw links\n",
      "2024-07-02 12:40:16,167 - AInewsbot - INFO - parse_file - found 44 filtered links\n",
      "2024-07-02 12:40:16,167 - AInewsbot - INFO - parse loop - 44 links found\n"
     ]
    },
    {
     "name": "stdout",
     "output_type": "stream",
     "text": [
      "Business Insider -> htmldata/Tech - Business Insider (07_02_2024 12_38_43 PM).html\n"
     ]
    },
    {
     "name": "stderr",
     "output_type": "stream",
     "text": [
      "2024-07-02 12:40:16,167 - AInewsbot - INFO - parse loop - Business Insider\n",
      "2024-07-02 12:40:16,188 - AInewsbot - INFO - parse_file - found 310 raw links\n",
      "2024-07-02 12:40:16,192 - AInewsbot - INFO - parse_file - found 49 filtered links\n",
      "2024-07-02 12:40:16,192 - AInewsbot - INFO - parse loop - 49 links found\n"
     ]
    },
    {
     "name": "stdout",
     "output_type": "stream",
     "text": [
      "Google News -> htmldata/Google News - Technology - Artificial intelligence (07_02_2024 12_39_15 PM).html\n"
     ]
    },
    {
     "name": "stderr",
     "output_type": "stream",
     "text": [
      "2024-07-02 12:40:16,193 - AInewsbot - INFO - parse loop - Google News\n",
      "2024-07-02 12:40:16,480 - AInewsbot - INFO - parse_file - found 1053 raw links\n",
      "2024-07-02 12:40:16,487 - AInewsbot - INFO - parse_file - found 454 filtered links\n",
      "2024-07-02 12:40:16,487 - AInewsbot - INFO - parse loop - 454 links found\n"
     ]
    },
    {
     "name": "stdout",
     "output_type": "stream",
     "text": [
      "NYT Tech -> htmldata/Technology - The New York Times (07_02_2024 12_39_25 PM).html\n"
     ]
    },
    {
     "name": "stderr",
     "output_type": "stream",
     "text": [
      "2024-07-02 12:40:16,488 - AInewsbot - INFO - parse loop - NYT Tech\n",
      "2024-07-02 12:40:16,497 - AInewsbot - INFO - parse_file - found 75 raw links\n",
      "2024-07-02 12:40:16,498 - AInewsbot - INFO - parse_file - found 19 filtered links\n",
      "2024-07-02 12:40:16,498 - AInewsbot - INFO - parse loop - 19 links found\n"
     ]
    },
    {
     "name": "stdout",
     "output_type": "stream",
     "text": [
      "Techmeme -> htmldata/Techmeme (07_02_2024 12_39_36 PM).html\n"
     ]
    },
    {
     "name": "stderr",
     "output_type": "stream",
     "text": [
      "2024-07-02 12:40:16,499 - AInewsbot - INFO - parse loop - Techmeme\n",
      "2024-07-02 12:40:16,511 - AInewsbot - INFO - parse_file - found 264 raw links\n",
      "2024-07-02 12:40:16,514 - AInewsbot - INFO - parse_file - found 102 filtered links\n",
      "2024-07-02 12:40:16,515 - AInewsbot - INFO - parse loop - 102 links found\n"
     ]
    },
    {
     "name": "stdout",
     "output_type": "stream",
     "text": [
      "The Register -> htmldata/The Register_ Enterprise Technology News and Analysis (07_02_2024 12_39_47 PM).html\n"
     ]
    },
    {
     "name": "stderr",
     "output_type": "stream",
     "text": [
      "2024-07-02 12:40:16,515 - AInewsbot - INFO - parse loop - The Register\n",
      "2024-07-02 12:40:16,531 - AInewsbot - INFO - parse_file - found 202 raw links\n",
      "2024-07-02 12:40:16,535 - AInewsbot - INFO - parse_file - found 90 filtered links\n",
      "2024-07-02 12:40:16,536 - AInewsbot - INFO - parse loop - 90 links found\n"
     ]
    },
    {
     "name": "stdout",
     "output_type": "stream",
     "text": [
      "The Verge -> htmldata/Artificial Intelligence - The Verge (07_02_2024 12_39_57 PM).html\n"
     ]
    },
    {
     "name": "stderr",
     "output_type": "stream",
     "text": [
      "2024-07-02 12:40:16,536 - AInewsbot - INFO - parse loop - The Verge\n",
      "2024-07-02 12:40:16,607 - AInewsbot - INFO - parse_file - found 314 raw links\n",
      "2024-07-02 12:40:16,610 - AInewsbot - INFO - parse_file - found 37 filtered links\n",
      "2024-07-02 12:40:16,611 - AInewsbot - INFO - parse loop - 37 links found\n"
     ]
    },
    {
     "name": "stdout",
     "output_type": "stream",
     "text": [
      "WSJ Tech -> htmldata/Technology - WSJ.com (07_02_2024 12_40_08 PM).html\n"
     ]
    },
    {
     "name": "stderr",
     "output_type": "stream",
     "text": [
      "2024-07-02 12:40:16,611 - AInewsbot - INFO - parse loop - WSJ Tech\n",
      "2024-07-02 12:40:16,649 - AInewsbot - INFO - parse_file - found 554 raw links\n",
      "2024-07-02 12:40:16,655 - AInewsbot - INFO - parse_file - found 15 filtered links\n",
      "2024-07-02 12:40:16,655 - AInewsbot - INFO - parse loop - 15 links found\n"
     ]
    },
    {
     "name": "stdout",
     "output_type": "stream",
     "text": [
      "Bloomberg Tech -> htmldata/Bloomberg Technology - Bloomberg (07_02_2024 12_38_41 PM).html\n"
     ]
    },
    {
     "name": "stderr",
     "output_type": "stream",
     "text": [
      "2024-07-02 12:40:16,656 - AInewsbot - INFO - parse loop - Bloomberg Tech\n",
      "2024-07-02 12:40:16,680 - AInewsbot - INFO - parse_file - found 302 raw links\n",
      "2024-07-02 12:40:16,683 - AInewsbot - INFO - parse_file - found 51 filtered links\n",
      "2024-07-02 12:40:16,683 - AInewsbot - INFO - parse loop - 51 links found\n"
     ]
    },
    {
     "name": "stdout",
     "output_type": "stream",
     "text": [
      "Feedly AI -> htmldata/Discover and Add New Feedly AI Feeds (07_02_2024 12_40_01 PM).html\n"
     ]
    },
    {
     "name": "stderr",
     "output_type": "stream",
     "text": [
      "2024-07-02 12:40:16,684 - AInewsbot - INFO - parse loop - Feedly AI\n",
      "2024-07-02 12:40:16,711 - AInewsbot - INFO - parse_file - found 249 raw links\n",
      "2024-07-02 12:40:16,714 - AInewsbot - INFO - parse_file - found 65 filtered links\n",
      "2024-07-02 12:40:16,715 - AInewsbot - INFO - parse loop - 65 links found\n"
     ]
    },
    {
     "name": "stdout",
     "output_type": "stream",
     "text": [
      "WaPo Tech -> htmldata/Technology - The Washington Post (07_02_2024 12_40_13 PM).html\n"
     ]
    },
    {
     "name": "stderr",
     "output_type": "stream",
     "text": [
      "2024-07-02 12:40:16,715 - AInewsbot - INFO - parse loop - WaPo Tech\n",
      "2024-07-02 12:40:16,728 - AInewsbot - INFO - parse_file - found 156 raw links\n",
      "2024-07-02 12:40:16,730 - AInewsbot - INFO - parse_file - found 25 filtered links\n",
      "2024-07-02 12:40:16,731 - AInewsbot - INFO - parse loop - 25 links found\n",
      "2024-07-02 12:40:16,732 - AInewsbot - INFO - parse loop - found 1599 links\n"
     ]
    },
    {
     "data": {
      "text/plain": [
       "20"
      ]
     },
     "execution_count": 17,
     "metadata": {},
     "output_type": "execute_result"
    }
   ],
   "source": [
    "# Parse news URLs and titles from downloaded HTML files\n",
    "log(\"parsing html files\")\n",
    "all_urls = []\n",
    "for sourcename, filename in saved_pages:\n",
    "    print(sourcename, '->', filename, flush=True)\n",
    "    log(f\"{sourcename}\", \"parse loop\")\n",
    "    links = parse_file(sources[sourcename])\n",
    "    log(f\"{len(links)} links found\", \"parse loop\")\n",
    "    all_urls.extend(links)\n",
    "\n",
    "log(f\"found {len(all_urls)} links\", \"parse loop\")"
   ]
  },
  {
   "cell_type": "code",
   "execution_count": 18,
   "id": "3d4d797e-1d72-46a5-9242-1877c5754bda",
   "metadata": {},
   "outputs": [
    {
     "name": "stdout",
     "output_type": "stream",
     "text": [
      "1300\n"
     ]
    },
    {
     "data": {
      "text/html": [
       "<div>\n",
       "<style scoped>\n",
       "    .dataframe tbody tr th:only-of-type {\n",
       "        vertical-align: middle;\n",
       "    }\n",
       "\n",
       "    .dataframe tbody tr th {\n",
       "        vertical-align: top;\n",
       "    }\n",
       "\n",
       "    .dataframe thead th {\n",
       "        text-align: right;\n",
       "    }\n",
       "</style>\n",
       "<table border=\"1\" class=\"dataframe\">\n",
       "  <thead>\n",
       "    <tr style=\"text-align: right;\">\n",
       "      <th></th>\n",
       "      <th>id</th>\n",
       "      <th>src</th>\n",
       "      <th>title</th>\n",
       "      <th>url</th>\n",
       "    </tr>\n",
       "  </thead>\n",
       "  <tbody>\n",
       "    <tr>\n",
       "      <th>0</th>\n",
       "      <td>0</td>\n",
       "      <td>Ars Technica</td>\n",
       "      <td>Alzheimer’s scientist indicted for allegedly f...</td>\n",
       "      <td>https://arstechnica.com/science/2024/07/alzhei...</td>\n",
       "    </tr>\n",
       "    <tr>\n",
       "      <th>1</th>\n",
       "      <td>1</td>\n",
       "      <td>Ars Technica</td>\n",
       "      <td>Surface Pro 11 and Laptop 7 review: An Apple S...</td>\n",
       "      <td>https://arstechnica.com/gadgets/2024/07/surfac...</td>\n",
       "    </tr>\n",
       "    <tr>\n",
       "      <th>2</th>\n",
       "      <td>2</td>\n",
       "      <td>Ars Technica</td>\n",
       "      <td>The newRivenremake is even better thanMyst</td>\n",
       "      <td>https://arstechnica.com/gaming/2024/06/the-new...</td>\n",
       "    </tr>\n",
       "    <tr>\n",
       "      <th>3</th>\n",
       "      <td>3</td>\n",
       "      <td>Ars Technica</td>\n",
       "      <td>Paul Sutter walks us through the future of cli...</td>\n",
       "      <td>https://arstechnica.com/science/2022/04/paul-s...</td>\n",
       "    </tr>\n",
       "    <tr>\n",
       "      <th>4</th>\n",
       "      <td>4</td>\n",
       "      <td>Ars Technica</td>\n",
       "      <td>An ultra-athlete goes head-to-head with the wo...</td>\n",
       "      <td>https://arstechnica.com/science/2024/06/an-ult...</td>\n",
       "    </tr>\n",
       "  </tbody>\n",
       "</table>\n",
       "</div>"
      ],
      "text/plain": [
       "   id           src                                              title  \\\n",
       "0   0  Ars Technica  Alzheimer’s scientist indicted for allegedly f...   \n",
       "1   1  Ars Technica  Surface Pro 11 and Laptop 7 review: An Apple S...   \n",
       "2   2  Ars Technica         The newRivenremake is even better thanMyst   \n",
       "3   3  Ars Technica  Paul Sutter walks us through the future of cli...   \n",
       "4   4  Ars Technica  An ultra-athlete goes head-to-head with the wo...   \n",
       "\n",
       "                                                 url  \n",
       "0  https://arstechnica.com/science/2024/07/alzhei...  \n",
       "1  https://arstechnica.com/gadgets/2024/07/surfac...  \n",
       "2  https://arstechnica.com/gaming/2024/06/the-new...  \n",
       "3  https://arstechnica.com/science/2022/04/paul-s...  \n",
       "4  https://arstechnica.com/science/2024/06/an-ult...  "
      ]
     },
     "execution_count": 18,
     "metadata": {},
     "output_type": "execute_result"
    }
   ],
   "source": [
    "# make a pandas dataframe of all the links found\n",
    "orig_df = (\n",
    "    pd.DataFrame(all_urls)\n",
    "    .groupby(\"url\")\n",
    "    .first()\n",
    "    .reset_index()\n",
    "    .sort_values(\"src\")[[\"src\", \"title\", \"url\"]]\n",
    "    .reset_index(drop=True)\n",
    "    .reset_index(drop=False)\n",
    "    .rename(columns={\"index\": \"id\"})\n",
    ")\n",
    "print(len(orig_df))\n",
    "orig_df.head()"
   ]
  },
  {
   "cell_type": "code",
   "execution_count": 19,
   "id": "55cbe391-0c3b-4258-bc49-6b442c0a53c1",
   "metadata": {},
   "outputs": [],
   "source": [
    "# datestr = '2024-06-20'\n",
    "\n",
    "# conn = sqlite3.connect('articles.db')\n",
    "\n",
    "# c = conn.cursor()\n",
    "# query = f\"select * from news_articles where article_date > '{datestr}' order by id desc limit 244\"\n",
    "# df = pd.read_sql_query(query, conn)\n",
    "# filtered_df=df.reset_index(). \\\n",
    "#   drop(columns='id'). \\\n",
    "#   rename(columns={'index': 'id'})\n",
    "\n",
    "# filtered_df\n",
    "\n"
   ]
  },
  {
   "cell_type": "code",
   "execution_count": 20,
   "id": "8df42fdb-fed6-4e10-a130-17f22f9a97f3",
   "metadata": {},
   "outputs": [],
   "source": [
    "# conn.execute(f\"delete from news_articles where article_date > '{datestr}'\")\n",
    "\n",
    "# # Committing the changes\n",
    "# conn.commit()\n",
    "\n",
    "# # Closing the connection\n",
    "# conn.close()\n"
   ]
  },
  {
   "cell_type": "code",
   "execution_count": 21,
   "id": "3f760895-915f-499e-814d-dea389c9a3db",
   "metadata": {},
   "outputs": [
    {
     "name": "stderr",
     "output_type": "stream",
     "text": [
      "2024-07-02 12:40:17,085 - AInewsbot - INFO - Existing URLs: 119065\n",
      "2024-07-02 12:40:17,106 - AInewsbot - INFO - New URLs: 291\n"
     ]
    }
   ],
   "source": [
    "filtered_df = filter_unseen_urls_db(orig_df)\n"
   ]
  },
  {
   "cell_type": "code",
   "execution_count": 22,
   "id": "76cd3c8a",
   "metadata": {},
   "outputs": [],
   "source": [
    "# use chatgpt to filter AI-related headlines using a prompt to OpenAI\n",
    "\n",
    "client = OpenAI()\n",
    "\n",
    "# make pages that fit in a reasonably sized prompt\n",
    "pages = paginate_df(filtered_df)"
   ]
  },
  {
   "cell_type": "code",
   "execution_count": 23,
   "id": "f2adb1b1",
   "metadata": {},
   "outputs": [
    {
     "data": {
      "text/plain": [
       "[[{'id': 1,\n",
       "   'title': 'Surface Pro 11 and Laptop 7 review: An Apple Silicon moment for Windows'},\n",
       "  {'id': 19,\n",
       "   'title': 'Call the ant doctor: Amputation gives injured ants a leg up on infections'},\n",
       "  {'id': 28,\n",
       "   'title': 'Tesla posts disappointing production and sales numbers for Q2 2024'},\n",
       "  {'id': 30,\n",
       "   'title': '“People, planet, profit”—how Michelin approaches sustainability'},\n",
       "  {'id': 66,\n",
       "   'title': 'Northern Data May Be Testing Limits of AI Frenzy With Unit IPO'},\n",
       "  {'id': 95,\n",
       "   'title': 'YouTube is really good at getting kids to buy stuff and way ahead of its competition, new data shows'},\n",
       "  {'id': 96,\n",
       "   'title': 'Forget TikTok, influencers say Instagram reels and YouTube shorts are better for creators getting started to grow an audience'},\n",
       "  {'id': 110,\n",
       "   'title': \"This company sends rejection feedback emails to every job applicant. It's made a big difference.\"},\n",
       "  {'id': 127,\n",
       "   'title': 'Marine Le Pen says she will seek to form government even if short of outright majority'},\n",
       "  {'id': 132,\n",
       "   'title': 'Viktor Orbán meets Volodymyr Zelenskyy on first wartime trip to Ukraine'},\n",
       "  {'id': 136, 'title': 'The new Lotus Emeya “Hyper-GT” is fast and fun but…'},\n",
       "  {'id': 148, 'title': 'It’s squeaky.bum.time for what3words'},\n",
       "  {'id': 149,\n",
       "   'title': 'Hedge fund giants Citadel and Millennium post strong first-half gains'},\n",
       "  {'id': 159, 'title': 'EY’s new boss leaves strategic questions unresolved'},\n",
       "  {'id': 163, 'title': 'Joe Biden and the tragedy of liberal denialism'},\n",
       "  {'id': 174,\n",
       "   'title': 'Google emissions jump nearly 50% over five years as AI use surges'},\n",
       "  {'id': 187,\n",
       "   'title': 'Elon Musk Reveals The Staggering Amount Of Nvidia H100 GPUs That Will Be Used To Train xAI Chatbot Grok'},\n",
       "  {'id': 188,\n",
       "   'title': 'Add High-Quality AI Voice-Overs to Your Videos with Artlist'},\n",
       "  {'id': 189,\n",
       "   'title': 'New satellite aims to show how AI advances Earth observation'},\n",
       "  {'id': 190, 'title': 'Your Next Audio Book Might Be Read by Judy Garland'},\n",
       "  {'id': 191,\n",
       "   'title': 'Anthropic launches new program to fund creation of more reliable AI benchmarks - SiliconANGLE'},\n",
       "  {'id': 192,\n",
       "   'title': 'Google falling short of important climate target, cites electricity needs of AI'},\n",
       "  {'id': 193,\n",
       "   'title': 'NVIDIA’s CEO envisions a future where “multi-shot” agentic AIs — armed with reasoning superpowers outperform humans in the job market'},\n",
       "  {'id': 195, 'title': 'Meta plans to bring generative AI to metaverse games'},\n",
       "  {'id': 196,\n",
       "   'title': 'News outlets are accusing Perplexity of plagiarism and unethical web scraping'},\n",
       "  {'id': 199, 'title': 'Why AI needs a little Hoosier hospitality'},\n",
       "  {'id': 200,\n",
       "   'title': 'Fiverr Freelancers Offer to Dox Anyone With Powerful U.S. Data Tool'},\n",
       "  {'id': 201,\n",
       "   'title': 'JOIN THE CLUB Sam’s Club shopper rejoices at new checkout tech that means ‘end’ of hated receipt checks – they just ‘waved him out’'},\n",
       "  {'id': 202,\n",
       "   'title': 'Ajax Engineering Launches Concrete GPT, Game-Changing AI Platform for Concrete Industry'},\n",
       "  {'id': 203,\n",
       "   'title': 'These new AI smart glasses are like getting a second pair of ChatGPT-powered eyes'},\n",
       "  {'id': 204,\n",
       "   'title': 'Man uses AI to undress teen girl and is now facing child porn charges, Texas cops say'},\n",
       "  {'id': 205,\n",
       "   'title': \"Is Gemini's expanded context window as useful as we thought?\"},\n",
       "  {'id': 206,\n",
       "   'title': 'China eyes at least 50 sets of AI standards by 2026, from chips to applications and safety'},\n",
       "  {'id': 207,\n",
       "   'title': 'UN adopts Chinese resolution with US support on closing the gap in access toartificial intelligence'},\n",
       "  {'id': 208,\n",
       "   'title': 'TWISTED PIC Texas man, 30, arrested after ‘using deep fakeartificial intelligenceprogram to undress underage girl’'},\n",
       "  {'id': 209,\n",
       "   'title': 'Google prepping an exclusive Pixel 9 AI with Windows Recall-like functionality'},\n",
       "  {'id': 210,\n",
       "   'title': 'The Gee Code: Will AI Teachers Assistants Become Normalized at HBCUs?'},\n",
       "  {'id': 212,\n",
       "   'title': 'Announcing AI First Accelerator for startups in the Middle East and Turkey'},\n",
       "  {'id': 214,\n",
       "   'title': 'Humans Will Soon Live 1,000 Years Using Biotech, AI And Nanobots, Claims Renowned Futurist'},\n",
       "  {'id': 215, 'title': 'Our 2024 Environmental Report'},\n",
       "  {'id': 216, 'title': 'Managing the history of the NFL'},\n",
       "  {'id': 217,\n",
       "   'title': 'How isArtificial Intelligence(AI) is going to effect the World Economy'},\n",
       "  {'id': 218,\n",
       "   'title': \"How to use Mesop Google's new AI user interface (UI) Builder\"},\n",
       "  {'id': 219,\n",
       "   'title': \"Here's the biggest risk to Nvidia being a $10 trillion juggernaut\"},\n",
       "  {'id': 220,\n",
       "   'title': \"Top Economist Warns Of AI Bubble As 'Rock Stars' Drink Kool Aid\"},\n",
       "  {'id': 221, 'title': 'Rebuilding Labor and Worker Power to Respond to AI'},\n",
       "  {'id': 222,\n",
       "   'title': 'Fact check: Hundreds of misleading claims repeated on social media'},\n",
       "  {'id': 223,\n",
       "   'title': 'Empirical Health for Apple Watch now leverages AI with your data and real physicians'},\n",
       "  {'id': 224,\n",
       "   'title': \"I tested HP's OmniBook X Copilot+ PC, and it almost made me a Windows on ARM believer\"},\n",
       "  {'id': 225,\n",
       "   'title': 'AI is learning from what you said on Reddit, Stack Overflow or Facebook. Are you OK with that?'}],\n",
       " [{'id': 226,\n",
       "   'title': \"America's startup boom is still going strong. Here's what it means for the economy\"},\n",
       "  {'id': 227,\n",
       "   'title': 'LWiAI Podcast #172 - Claude and Gemini updates, Gemma 2, GPT-4 Critic'},\n",
       "  {'id': 229,\n",
       "   'title': 'OpenLedger raises $8 million from Polychain Capital and Borderless Capital'},\n",
       "  {'id': 230, 'title': 'How to Use Runway Gen 3 to Create AI Video'},\n",
       "  {'id': 231,\n",
       "   'title': 'Microsoft Surface Pro Review: A Laptop With an Identity Crisis'},\n",
       "  {'id': 232,\n",
       "   'title': 'AI Researcher Elon Musk Poached From OpenAI Returns to OpenAI'},\n",
       "  {'id': 233,\n",
       "   'title': \"CUDA is Nvidia's secret sauce — and now it's in the sights of European regulators\"},\n",
       "  {'id': 234,\n",
       "   'title': 'How to Use Midjourney to Make a Logo for Your Business -- or Not'},\n",
       "  {'id': 235,\n",
       "   'title': 'Meta Is ChangingArtificial IntelligenceLabels After Real Photos Were Marked As AI'},\n",
       "  {'id': 236,\n",
       "   'title': 'Microsoft’s Surface Pro 2024 is one of my favorite tablets ever — no thanks to AI'},\n",
       "  {'id': 237,\n",
       "   'title': 'Apple chip orders suggest big demand for AI-boosted iPhone 16'},\n",
       "  {'id': 238, 'title': 'This might be the reason you upgrade your GPU'},\n",
       "  {'id': 240,\n",
       "   'title': \"Wacom Yuify - the new 'anti-AI' platform - is in open beta\"},\n",
       "  {'id': 241,\n",
       "   'title': 'Member states falling short of Digital Decade goals, shows latest European Commission report'},\n",
       "  {'id': 244, 'title': 'Meta is against California’s AI bill. Here’s why'},\n",
       "  {'id': 245,\n",
       "   'title': 'Human Influencers Still Earn 46x More Than AI Influencers'},\n",
       "  {'id': 246, 'title': '8 Free Online Software Development Courses In 2024'},\n",
       "  {'id': 247,\n",
       "   'title': 'You Can Ask YouTube to Take Down AI-Generated Content That Looks or Sounds Like You'},\n",
       "  {'id': 249,\n",
       "   'title': \"Citadel’s Ken Griffin says he's not convinced that AI will replace human jobs in the near future\"},\n",
       "  {'id': 250,\n",
       "   'title': 'UN adopts Chinese resolution with US support on closing the gap in access to artificial intelligence'},\n",
       "  {'id': 251,\n",
       "   'title': 'Apple iPad Air 13 (2024) tested - The XXL tablet has grown to iPad Pro size'},\n",
       "  {'id': 252,\n",
       "   'title': 'News outlets are accusing Perplexity of plagiarism and unethical web scraping'},\n",
       "  {'id': 254,\n",
       "   'title': 'AI goes to Hollywood: James Dean, Judy Garland and other stars will read to you now - for free'},\n",
       "  {'id': 266,\n",
       "   'title': 'When Will iOS 18 Public Beta Come to Your iPhone? Our Best Guess'},\n",
       "  {'id': 270,\n",
       "   'title': \"Get up to $1500 off new Samsung Galaxy Z Fold 6 and Z Flip 6 phones - here's how to qualify\"},\n",
       "  {'id': 275,\n",
       "   'title': 'New Transformers Game Mixes Arcade Racing And Roguelite Combat This October'},\n",
       "  {'id': 280,\n",
       "   'title': 'The Sonos 4th of July Sale Starts Now: Save 25% Off Certified Refurb Soundbars and Speakers'},\n",
       "  {'id': 281,\n",
       "   'title': 'SAP Charts A Course For The AI-Driven Enterprise At Sapphire 2024'},\n",
       "  {'id': 284,\n",
       "   'title': \"Accelerating Business Transformation: SAP's Strategy Unveiled | Cloud Wars Live\"},\n",
       "  {'id': 289,\n",
       "   'title': \"Ken griffin's take on AI: threat to jobs or gateway to new opportunities?\"},\n",
       "  {'id': 293,\n",
       "   'title': 'AI-generated exam papers go undetected in 94% of cases - study'},\n",
       "  {'id': 298,\n",
       "   'title': \"Apple just launched a public demo of its '4M' AI model: Here's why it's a big deal\"},\n",
       "  {'id': 300,\n",
       "   'title': 'Surface Pro 11 and Laptop 7 review: An Apple Silicon moment for Windows'},\n",
       "  {'id': 302,\n",
       "   'title': 'Intel Arrow Lake & Lunar Lake I/O Configurations Revealed Along With LGA 1851 Socket Pinout Plan'},\n",
       "  {'id': 303,\n",
       "   'title': 'Drag queen AI chatbot offers advice, education on HIV and STIs'},\n",
       "  {'id': 306, 'title': 'Will GenAI accelerate autonomous supply chains?'},\n",
       "  {'id': 307,\n",
       "   'title': \"Apple Vision Pro finally arrives in the UK - here's how to buy it\"},\n",
       "  {'id': 308,\n",
       "   'title': 'Morgan Stanley flags $30 trillion market AI can address, names stocks'},\n",
       "  {'id': 309,\n",
       "   'title': 'Researchers improve crops using laser beams and 3D printing'},\n",
       "  {'id': 311,\n",
       "   'title': \"Sega is preparing a new, open-world 'Crazy Taxi' game with a multiplayer mode\"},\n",
       "  {'id': 319,\n",
       "   'title': 'FL Studio 2024 introduces plugins to FL Cloud, adds powerful new AI features, effects, and workflow improvements'},\n",
       "  {'id': 321,\n",
       "   'title': 'New Google Settings For Disclosing Digitally Altered Political Ads 07/03/2024'},\n",
       "  {'id': 322,\n",
       "   'title': \"Here's the biggest risk to Nvidia being a $10 trillion juggernaut\"},\n",
       "  {'id': 324,\n",
       "   'title': 'AI Firm ElevenLabs Sets Audio Reader Pact With Judy Garland, James Dean, Burt Reynolds and Laurence Olivier Estates'},\n",
       "  {'id': 327,\n",
       "   'title': 'Report: Tales of Kenzera: Zau developer Surgent Studios is cutting jobs'},\n",
       "  {'id': 329,\n",
       "   'title': \"Calif. bill would take steps to ensure AI models won't cause catastrophic events\"},\n",
       "  {'id': 330,\n",
       "   'title': 'Exclusive: Nvidia set to face French antitrust charges, sources say'},\n",
       "  {'id': 332,\n",
       "   'title': 'Geoffrey Rush on AI, Why Animation Is His Game Show Specialty and His New Film With John Lithgow'},\n",
       "  {'id': 338,\n",
       "   'title': 'Apple Intelligence tipped to feature Google Gemini integration at launch, as well as ChatGPT'},\n",
       "  {'id': 342,\n",
       "   'title': \"Don't sweat it—Zenless Zone Zero's system requirements demand nothing more than a ten-year old GPU and 8 GB of RAM\"}],\n",
       " [{'id': 343,\n",
       "   'title': \"Noctua's next-gen flagship CPU cooler finally arrives — Noctua NH-D15 G2 released at $150\"},\n",
       "  {'id': 345,\n",
       "   'title': 'Photographers’ complaints lead Meta to revise AI-generated image labels on Facebook, Instagram'},\n",
       "  {'id': 348,\n",
       "   'title': 'United Nations China US Artificial Intelligence | National News | postregister.com'},\n",
       "  {'id': 352,\n",
       "   'title': 'Snapdragon 8 Gen 4: Adreno 830 GPU rumoured to launch with DLSS Frame Generation-like feature'},\n",
       "  {'id': 353,\n",
       "   'title': \"Peter Thiel's Founders Fund Leads $85M Seed Investment Into Open-Source AI Platform Sentient\"},\n",
       "  {'id': 357,\n",
       "   'title': 'Meta updates “Made by AI” label across Facebook, Instagram: Here’s what is changing'},\n",
       "  {'id': 358,\n",
       "   'title': \"Google powers ahead with green focus, invests in Taiwan's New Green Power to run on carbon-free energy\"},\n",
       "  {'id': 359,\n",
       "   'title': 'Noctua NH-D15 G2 CPU Cooler Official: Next-Gen Flagship With New Design & New Fans For $150'},\n",
       "  {'id': 360,\n",
       "   'title': 'Transformers: Galactic Trials - Official Announcement Trailer'},\n",
       "  {'id': 361,\n",
       "   'title': \"Co-op looter shooter The First Descendant dethrones Elden Ring as Steam's top seller, but 43% positive early user reviews frame a rough start overall\"},\n",
       "  {'id': 368,\n",
       "   'title': 'Japanese Players Petition Ubisoft To Cancel \\'Assassin\\'s Creed Shadows\\', Accuse Game Of Being \"A Serious Insult To Japanese Culture And History\"'},\n",
       "  {'id': 370,\n",
       "   'title': 'OmniParse: An AI Platform that Ingests/Parses Any Unstructured Data into Structured, Actionable Data Optimized for GenAI (LLM) Applications'},\n",
       "  {'id': 372,\n",
       "   'title': 'Call of Duty’s New ‘Extra Crispy’ Gun Lets You Cook, Eat, and Turn Your Enemies Into Fried Chicken and People Are Blaming It All on Fortnite Once Again'},\n",
       "  {'id': 376,\n",
       "   'title': 'Google invests in a Taiwanese solar power company owned by this investment major'},\n",
       "  {'id': 382,\n",
       "   'title': \"Figma disables its AI design feature that appeared to be ripping off Apple's Weather app\"},\n",
       "  {'id': 383,\n",
       "   'title': 'This early Prime Day deal on the 13-inch iPad Air M2 is down to a record-low price'},\n",
       "  {'id': 384,\n",
       "   'title': 'Nvidia may be appealing, but one fund manager has a warning about some AI stocks'},\n",
       "  {'id': 387,\n",
       "   'title': 'AI to use dead actress’ voice for audiobook of CNY native’s novel: Buzz'},\n",
       "  {'id': 388,\n",
       "   'title': \"Capcom's somehow come up with the *deep breath* Dead Rising Deluxe Remaster Digital Deluxe edition\"},\n",
       "  {'id': 389,\n",
       "   'title': 'Transformers: Galactic Trials Mixes Racing With Roguelite Combat This October'},\n",
       "  {'id': 392,\n",
       "   'title': 'Northern Data considers AI unit US IPO at up to $16 billion, Bloomberg News reports'},\n",
       "  {'id': 395,\n",
       "   'title': 'AI companies are finally being forced to cough up for training data'},\n",
       "  {'id': 396,\n",
       "   'title': 'Robinhood Purchases Pluto to Provide AI-Powered Investment Advice'},\n",
       "  {'id': 403,\n",
       "   'title': \"Save up to $90 on Samsung's excellent Galaxy Watch 6 at Best Buy's 4th of July sale\"},\n",
       "  {'id': 404,\n",
       "   'title': 'AI ecosystems, cloud transformation, and sustainable AI lead our key learnings from SAP Sapphire 2024'},\n",
       "  {'id': 406,\n",
       "   'title': \"Tesla's humanoid opportunity is 'bigger' than autonomous cars - Morgan Stanley By Investing.com\"},\n",
       "  {'id': 407,\n",
       "   'title': 'Generate AI stickers of yourself on WhatsApp using \"Image Me\" feature powered by Meta AI'},\n",
       "  {'id': 408,\n",
       "   'title': \"End of an era: the iPhone X, original HomePod, and first-gen AirPods are all now officially 'vintage'\"},\n",
       "  {'id': 413,\n",
       "   'title': \"Opinion: Record labels are suing artificial-intelligence companies. Here's why that's important\"},\n",
       "  {'id': 415,\n",
       "   'title': 'Meta swaps “Made with AI” label with “AI Info” on photos, know reason why'},\n",
       "  {'id': 424,\n",
       "   'title': 'Japan aims to boost Self-Defense Force cyber personnel to 4000'},\n",
       "  {'id': 427,\n",
       "   'title': 'Motorola Razr Plus (2024) hands-on review: bigger and better in every way'},\n",
       "  {'id': 431, 'title': 'Your Next Audio Book Might Be Read by Judy Garland'},\n",
       "  {'id': 435, 'title': 'Tales of Kenzera: Zau studio impacted by layoffs'},\n",
       "  {'id': 437,\n",
       "   'title': 'Nintendo Sues Redditor Accused Of Running Switch Piracy Shops'},\n",
       "  {'id': 438,\n",
       "   'title': \"AI-Crypto Startup Raises $85 Million in Deal Led by Thiel's Fund\"},\n",
       "  {'id': 444,\n",
       "   'title': 'SRAM S-1000 Transmission is a cheaper 1x12 wireless drivetrain'},\n",
       "  {'id': 445,\n",
       "   'title': \"Xinhua News | UNGA adopts China-proposed resolution to enhance int'l cooperation on AI capacity-building\"},\n",
       "  {'id': 446,\n",
       "   'title': 'Galaxy Watch Ultra and Watch 7 specs leak alongside price tags'},\n",
       "  {'id': 447, 'title': 'AI is both liberating and enslaving us'},\n",
       "  {'id': 459,\n",
       "   'title': 'Apple’s Vision Pro: the first five months and where we go next'},\n",
       "  {'id': 470,\n",
       "   'title': \"China advocates for AI cooperation to advance women's rights\"},\n",
       "  {'id': 471, 'title': 'AI Outperforms Students in Real-World “Turing Test”'},\n",
       "  {'id': 473,\n",
       "   'title': 'Controversial AI prison tech sees inmates serving out sentences in just minutes'},\n",
       "  {'id': 475, 'title': '24 Games Worth Checking Out In July, 2024'},\n",
       "  {'id': 481,\n",
       "   'title': 'PlayStation 5 has one key advantage over Xbox Series X, says expert'},\n",
       "  {'id': 483, 'title': 'Nintendo Is Going After More People With Lawsuits'},\n",
       "  {'id': 486, 'title': 'Game Pass Adds These 8 Games In July'},\n",
       "  {'id': 489,\n",
       "   'title': 'AI can beat real university students in exams, study suggests'},\n",
       "  {'id': 490,\n",
       "   'title': \"Apple's 13-inch 1TB M2 iPad Air hits all-time low today at $1,209 ($90 off), more from $749\"}],\n",
       " [{'id': 495,\n",
       "   'title': 'Nvidia Faces First AI Antitrust Charge, According to Report'},\n",
       "  {'id': 501, 'title': 'K Health Raises $50M in Funding'},\n",
       "  {'id': 503, 'title': 'The rise of the robots: charted - Morgan Stanley'},\n",
       "  {'id': 505, 'title': \"France poised to bring 'charges against Nvidia'\"},\n",
       "  {'id': 506,\n",
       "   'title': 'Exclusive: New Google AI suite to debut with the Pixel 9 series'},\n",
       "  {'id': 508, 'title': 'Sentient closes $85M seed round for open-source AI'},\n",
       "  {'id': 510, 'title': 'Xbox Game Pass lineup for July 2024 announced'},\n",
       "  {'id': 520,\n",
       "   'title': 'SRAM S-1000 Eagle brings Transmission to a lower pricepoint but...'},\n",
       "  {'id': 523,\n",
       "   'title': 'Xbox Game Pass July 2024 Lineup Revealed, Featuring Neon White, Tchia, and More | XboxAchievements.com'},\n",
       "  {'id': 530,\n",
       "   'title': 'Resident Evil 9 is in development, RE7 game director says'},\n",
       "  {'id': 531, 'title': \"Figma AI just copies Apple's Weather app every time\"},\n",
       "  {'id': 532,\n",
       "   'title': \"Pixel 9 to ship with 'Google AI' powering 'Studio' and Recall-like screenshot analysis\"},\n",
       "  {'id': 539,\n",
       "   'title': 'You Can Ask YouTube to Take Down AI-Generated Content That Looks or Sounds Like You'},\n",
       "  {'id': 540, 'title': 'Running AI in the Field Could Boost Farming: Study'},\n",
       "  {'id': 542,\n",
       "   'title': 'Japanese Petition to Cancel AC Shadows Gets 30000 Signatures'},\n",
       "  {'id': 543, 'title': 'SAP Business AI: Q2 2024 Release Highlights'},\n",
       "  {'id': 551,\n",
       "   'title': 'Snapdragon 8 Gen 4 Rumored To Support ‘GPU Interpolation Technology,’ Hinting At Frame Generation Arriving To The SoC, Boosting Gaming Performance'},\n",
       "  {'id': 552,\n",
       "   'title': '2 Artificial Intelligence (AI) Stocks to Buy Now That Could Make You a Millionaire'},\n",
       "  {'id': 557,\n",
       "   'title': 'Frontier technologies are reshaping industrial operations | World Economic Forum'},\n",
       "  {'id': 558,\n",
       "   'title': 'Luigi’s Mansion 2 HD review – the scariest surprise is the price'},\n",
       "  {'id': 559,\n",
       "   'title': 'Galaxy S25 could be gaming powerhouse, thanks to Snapdragon'},\n",
       "  {'id': 561,\n",
       "   'title': 'Noctua Introduces $150 NH-D15 G2 CPU Coolers and NF-A14x25r G2 140mm Fans'},\n",
       "  {'id': 564,\n",
       "   'title': 'This Tip Could Save You Money on Your iPhone App Subscriptions'},\n",
       "  {'id': 566,\n",
       "   'title': 'Google mandates disclosure for digitally altered election ads'},\n",
       "  {'id': 569,\n",
       "   'title': 'YouTube Now Supports Removal Requests for AI Videos That Look, Sound Like You'},\n",
       "  {'id': 572,\n",
       "   'title': \"Assassin's Creed 'fans' are attempting to get Shadows cancelled\"},\n",
       "  {'id': 577,\n",
       "   'title': 'Tales Of Kenzera: Zau Studio Is Reportedly Facing Layoffs'},\n",
       "  {'id': 587,\n",
       "   'title': 'The First Descendant - Official Battle Pass and Cosmetic Overview Trailer'},\n",
       "  {'id': 590,\n",
       "   'title': 'Transformers Is Getting a Racing Adventure Game With Rogue-Lite Elements'},\n",
       "  {'id': 592,\n",
       "   'title': \"Why 2023 Ford Broncos Came With Non-Functional 'Dummy' Subwoofers And Amps\"},\n",
       "  {'id': 594,\n",
       "   'title': 'Elon Musk’s xAI Using 100,000 NVIDIA H100 GPUs To Train Grok 3 AI Model, Grok 2 To Launch By August'},\n",
       "  {'id': 596,\n",
       "   'title': 'Morgan Stanley sees 8 million humanoids by 2040, Tesla powering the transformation'},\n",
       "  {'id': 597,\n",
       "   'title': '14 million OpenSSH servers exposed to the internet via regression flaw'},\n",
       "  {'id': 606,\n",
       "   'title': \"Ken Griffin is hitting pause on the AI hype, saying he's unconvinced the tech will start replacing jobs in the next three years\"},\n",
       "  {'id': 607,\n",
       "   'title': 'SRAM Adds a More Affordable Eagle Transmission Group – for OE only, Plus new Brakes!'},\n",
       "  {'id': 608,\n",
       "   'title': \"SEGA's Upcoming Crazy Taxi Reboot Is Reportedly An Open-World MMO\"},\n",
       "  {'id': 611, 'title': 'Crusoe pivots to building AI data centers'},\n",
       "  {'id': 615,\n",
       "   'title': 'Kunitsu-Gami: Path of the Goddess Official Demo Trailer'},\n",
       "  {'id': 620,\n",
       "   'title': 'This hidden Windows 11 feature can prevent your PC from slowing down'},\n",
       "  {'id': 624,\n",
       "   'title': \"Peter Thiel's Founders Fund co-leads $85 million seed round for open-source AI platform Sentient\"},\n",
       "  {'id': 625,\n",
       "   'title': 'How to use Meta AI in WhatsApp, Facebook and Instagram to Get Answers Quickly'},\n",
       "  {'id': 626, 'title': 'Microsoft Surface Laptop 7 review: Success at last'},\n",
       "  {'id': 628, 'title': '3D Printed Beets: A New Tool for Plant Phenotyping'},\n",
       "  {'id': 633,\n",
       "   'title': 'Galaxy S25 to offer AI upscaling for games thanks to its SoC'},\n",
       "  {'id': 635,\n",
       "   'title': 'Eye on the future - AI in supply chains and logistics'},\n",
       "  {'id': 636,\n",
       "   'title': \"Meta Switches AI Labels From 'Made With AI' to 'AI Info' Tag\"},\n",
       "  {'id': 637,\n",
       "   'title': 'Microsoft Confirms Xbox Game Pass July 2024 Wave 1 Lineup'},\n",
       "  {'id': 639,\n",
       "   'title': 'Elon Musk says Grok 2 due in August, Grok 3 by end of year'},\n",
       "  {'id': 641,\n",
       "   'title': \"PowerWash Simulator adds ten Xbox achievements with Alice's Adventures DLC\"},\n",
       "  {'id': 644, 'title': 'Tales of Kenzera: Zau studio is facing layoffs'}],\n",
       " [{'id': 645,\n",
       "   'title': 'No Strike This Summer? IATSE And Studios Reach Tentative Deal On Area Standards Agreement'},\n",
       "  {'id': 646,\n",
       "   'title': 'A Quiet Place: The Road Ahead – Official First Story Trailer'},\n",
       "  {'id': 651, 'title': \"Luigi's Mansion 2 HD: A-4 Visual Tricks Walkthrough\"},\n",
       "  {'id': 654, 'title': 'SRAM Releases S-1000 Budget Transmission Drivetrain'},\n",
       "  {'id': 656, 'title': 'Overwatch 2 Fans Are Sick And Tired Of Pharah'},\n",
       "  {'id': 657,\n",
       "   'title': 'Europe’s Bitcoin Mining Giant Northern Data Eyes A US IPO With AI Move'},\n",
       "  {'id': 658, 'title': 'Nintendo Switch Online Offering New Free Trial'},\n",
       "  {'id': 660, 'title': 'Helldivers 2 Player Count Has Plummeted'},\n",
       "  {'id': 665,\n",
       "   'title': 'Elden Ring creators keep hinting at an Elden Ring movie'},\n",
       "  {'id': 667,\n",
       "   'title': \"Nvidia's secret sauce is starting to worry regulators\"},\n",
       "  {'id': 668, 'title': 'Bird & Bird To Run Major POC With AI Startup Leya'},\n",
       "  {'id': 670,\n",
       "   'title': 'Elon Musk Announces JARVIS-Inspired xAI Grok 2 AI Chatbot Release Date'},\n",
       "  {'id': 671,\n",
       "   'title': 'Noctua launches $150 NH-D15 G2 flagship next-gen CPU cooler'},\n",
       "  {'id': 672,\n",
       "   'title': 'PS5 and PS4 Releases: Every Game Release Date for Week Beginning July 1, 2024'},\n",
       "  {'id': 677,\n",
       "   'title': 'Zenless Zone Zero — Release Date, Time, and Preload Explained'},\n",
       "  {'id': 678,\n",
       "   'title': 'While some white collar workers may be worried, logistics and transport sectors are optimistic on AI'},\n",
       "  {'id': 680, 'title': '8cc.vim: Pure Vim script C Compiler'},\n",
       "  {'id': 681,\n",
       "   'title': 'The Mysterious, Deep-Dwelling Microbes That Sculpt Our Planet'},\n",
       "  {'id': 686,\n",
       "   'title': 'Ant Design – the second most popular React UI framework'},\n",
       "  {'id': 689, 'title': 'The history of Alt+number sequences'},\n",
       "  {'id': 692,\n",
       "   'title': \"With fifth busy beaver, researchers approach computation's limits\"},\n",
       "  {'id': 695,\n",
       "   'title': 'Show HN: Adding Mistral Codestral and GPT-4o to Jupyter Notebooks'},\n",
       "  {'id': 697, 'title': 'Meta 3D Gen'},\n",
       "  {'id': 702, 'title': \"50 Years of Rubik's Cube\"},\n",
       "  {'id': 703, 'title': \"The Soviet Union's Monster Mi-6 Helicopter Airliner\"},\n",
       "  {'id': 704, 'title': 'A look at overnight stays at US National Parks'},\n",
       "  {'id': 710, 'title': 'Python packaging scenarios by the creators of ruff'},\n",
       "  {'id': 729,\n",
       "   'title': 'Tokenized NVIDIA Shares Hit Digital Market Through INX-Backed Partnership'},\n",
       "  {'id': 731, 'title': 'Tips for Setting Healthy Boundaries At Work'},\n",
       "  {'id': 734,\n",
       "   'title': 'Want To Earn 100k and Above? Then Look to Data Science Jobs'},\n",
       "  {'id': 739, 'title': 'How to Debug Serverless Apps on AWS Lambda'},\n",
       "  {'id': 754,\n",
       "   'title': 'Manners Matter? - The Impact of Politeness on Human-LLM Interaction'},\n",
       "  {'id': 767, 'title': 'Pride and Prejudice: Chapter 28'},\n",
       "  {'id': 768,\n",
       "   'title': 'Robots, AI, EW: How War in Ukraine Re-Shapes Military Tech'},\n",
       "  {'id': 770,\n",
       "   'title': 'Solving Crimes with Data: The BTK Killer and the Power of Metadata Analysis'},\n",
       "  {'id': 779,\n",
       "   'title': \"Balancing Usability and Security in the Wake of a Breach: An Interview With Magpie Protocol's CIO\"},\n",
       "  {'id': 786,\n",
       "   'title': 'The Noonification: The Odin Project: My 111-Day Experience With It (7/2/2024)'},\n",
       "  {'id': 802,\n",
       "   'title': 'Enhanced Story Data Now Available on HackerNoon Stats Pages'},\n",
       "  {'id': 813, 'title': 'Claude 3.5 Sonnet vs GPT-4o — An honest review'},\n",
       "  {'id': 816,\n",
       "   'title': 'Chromia Bridges the Gap Between Blockchain and Database Technology, Announces MVP Mainnet Launch'},\n",
       "  {'id': 836, 'title': \"HDMI port doesn't work.\"},\n",
       "  {'id': 841,\n",
       "   'title': 'X labeled AccuWeather’s Hurricane Beryl map as misinformation. Meteorologists worry it could cost lives'},\n",
       "  {'id': 842, 'title': 'abcnews.go.com/US/wir...'},\n",
       "  {'id': 843,\n",
       "   'title': 'People in San Francisco Are Mad That a New App Lets You Spy on Bars to See How Busy They Are | Not everybody is thrilled that app users will be able to see their drunkest moments.'},\n",
       "  {'id': 845,\n",
       "   'title': 'Biden administration provides $504 million to support 12 technology hubs nationwide'},\n",
       "  {'id': 848, 'title': 'humerious'},\n",
       "  {'id': 850,\n",
       "   'title': '[OC] How reliable is the weather forecast across the US? (to within 3°F)'},\n",
       "  {'id': 855,\n",
       "   'title': 'The Best Bionic Leg Yet | A surgical procedure and muscle-sensing electrodes allow neural control of a prosthetic limb'},\n",
       "  {'id': 858,\n",
       "   'title': 'A prosthesis driven by the nervous system helps people with amputation walk naturally'},\n",
       "  {'id': 859,\n",
       "   'title': '72-year-old Florida man arrested after admitting he shot a Walmart delivery drone | He thought he was under surveillance'}],\n",
       " [{'id': 871, 'title': 'andITookThatPersonally'},\n",
       "  {'id': 877, 'title': 'wellHaveYouChecked'},\n",
       "  {'id': 878, 'title': 'classOfProgrammers'},\n",
       "  {'id': 879, 'title': 'whenAntiDepressantsFinallyHit'},\n",
       "  {'id': 885, 'title': 'Atunning AI spaghetti art...'},\n",
       "  {'id': 898,\n",
       "   'title': 'Supreme Court punts social media moderation cases back to lower courts'},\n",
       "  {'id': 899, 'title': 'How tech went from free love to pay-per-click'},\n",
       "  {'id': 900,\n",
       "   'title': 'Supreme Court sends Texas and Florida social media regulation laws back to lower courts'},\n",
       "  {'id': 902,\n",
       "   'title': \"Angela Zhang, professor: 'In China, the addiction of apps like TikTok, Temu or Shein has been driven to perfection'\"},\n",
       "  {'id': 914,\n",
       "   'title': 'Why Fisker’s bankruptcy is likely to leave its EV owners without warranty'},\n",
       "  {'id': 925, 'title': '[OC] How Airplanes Make Money Proforma'},\n",
       "  {'id': 930, 'title': 'u/robywar'},\n",
       "  {'id': 935, 'title': 'u/nk_wapo'},\n",
       "  {'id': 951, 'title': '0 comments'},\n",
       "  {'id': 957, 'title': 'spectrum.ieee.org/prosth...'},\n",
       "  {'id': 959, 'title': 'techcrunch.com/2024/0...'},\n",
       "  {'id': 961, 'title': 'u/usaa_auto'},\n",
       "  {'id': 969, 'title': 'techspot.com/news/1...'},\n",
       "  {'id': 974, 'title': '0 comments'},\n",
       "  {'id': 979, 'title': 'u/Global_Ad_8096'},\n",
       "  {'id': 983, 'title': 'u/Eudaimonics'},\n",
       "  {'id': 985, 'title': 'gizmodo.com/2nite-...'},\n",
       "  {'id': 986, 'title': 'english.elpais.com/techno...'},\n",
       "  {'id': 988, 'title': 'u/Edain1234'},\n",
       "  {'id': 993, 'title': 'independent.co.uk/news/w...'},\n",
       "  {'id': 995, 'title': 'u/KingdomPro'},\n",
       "  {'id': 998, 'title': 'cnbc.com/2024/0...'},\n",
       "  {'id': 1002, 'title': '0 comments'},\n",
       "  {'id': 1003, 'title': 'u/ThreatLocker'},\n",
       "  {'id': 1007, 'title': 'u/SimilarFarmer2407'},\n",
       "  {'id': 1009, 'title': '0 comments'},\n",
       "  {'id': 1028,\n",
       "   'title': \"SCOTUS agrees to consider whether a Texas law requiring porn sites to verify users' ages violates the First Amendment, in its next term, which starts in October\"},\n",
       "  {'id': 1057,\n",
       "   'title': 'Source: Google plans AI features for the Pixel 9 under the Google AI brand, like Pixel Screenshots, which lets users search their screenshots using on-device AI'},\n",
       "  {'id': 1059,\n",
       "   'title': \"Figma disables its recently launched generative AI app design tool Make Design, after a user showed it copied Apple's Weather when asked to design a weather app\"},\n",
       "  {'id': 1140,\n",
       "   'title': 'Despite OS shields up, half of America still clings to third-party antivirus – just in caseWisdom of the oldies or just a traditional fear of malware?Malware Month1 hr|13'},\n",
       "  {'id': 1148,\n",
       "   'title': 'FreeDOS and FreeBSD prove old code never dies, just gets nifty updatesAnniversary time and both are going strong into their 30sOSes2 hrs|11'},\n",
       "  {'id': 1149,\n",
       "   'title': 'No rest for the wiry as Cisco Nexus switches flip out over latest zero-dayCommand injection bug being abused by suspected Chinese spies – patch upMalware Month2 mins|'},\n",
       "  {'id': 1212,\n",
       "   'title': 'The Pixel 9’s ‘Google AI’ is like Microsoft Recall but a little less creepy'},\n",
       "  {'id': 1232,\n",
       "   'title': 'Vector database company Qdrant wants RAG to be more cost-effective'},\n",
       "  {'id': 1253,\n",
       "   'title': 'SPONSOREDHow next-gen AI technology is transforming daily work for employees'},\n",
       "  {'id': 1294,\n",
       "   'title': '3He blew the whistle on Trump’s Truth Social. Now he works at Starbucks.'}]]"
      ]
     },
     "execution_count": 23,
     "metadata": {},
     "output_type": "execute_result"
    }
   ],
   "source": [
    "pages"
   ]
  },
  {
   "cell_type": "code",
   "execution_count": 24,
   "id": "03dac991",
   "metadata": {},
   "outputs": [],
   "source": [
    "# updated ainb_llm.py to use async wait\n",
    "# the lowest level  client.chat.completions.create call does not support await\n",
    "# gives object ChatCompletion can't be used in 'await' expression\n",
    "# this still takes 2 minutes for 456 URLs\n",
    "# the OpenAI python API still blocks / throttles\n",
    "\n",
    "# print(datetime.now())\n",
    "# enriched_urls = await process_pages(client, PROMPT, pages)\n",
    "# print(datetime.now())\n"
   ]
  },
  {
   "cell_type": "code",
   "execution_count": 25,
   "id": "91be6768",
   "metadata": {},
   "outputs": [],
   "source": [
    "API_URL = 'https://api.openai.com/v1/chat/completions'\n",
    "\n",
    "headers = {\n",
    "    'Content-Type': 'application/json',\n",
    "    'Authorization': f'Bearer {os.getenv(\"OPENAI_API_KEY\")}',\n",
    "}\n",
    "\n"
   ]
  },
  {
   "cell_type": "code",
   "execution_count": 26,
   "id": "eedd5e8e",
   "metadata": {},
   "outputs": [
    {
     "name": "stderr",
     "output_type": "stream",
     "text": [
      "2024-07-02 12:40:17,440 - AInewsbot - INFO - 12:40:17 Sending 6 pages to OpenAI.\n",
      "2024-07-02 12:40:17,441 - AInewsbot - INFO - 12:40:17 Sending page 0.\n",
      "2024-07-02 12:40:17,441 - AInewsbot - INFO - 12:40:17 Sending page 1.\n",
      "2024-07-02 12:40:17,441 - AInewsbot - INFO - 12:40:17 Sending page 2.\n",
      "2024-07-02 12:40:17,441 - AInewsbot - INFO - 12:40:17 Sending page 3.\n",
      "2024-07-02 12:40:17,441 - AInewsbot - INFO - 12:40:17 Sending page 4.\n",
      "2024-07-02 12:40:17,441 - AInewsbot - INFO - 12:40:17 Sending page 5.\n"
     ]
    },
    {
     "name": "stdout",
     "output_type": "stream",
     "text": [
      "2024-07-02 12:40:17.439324\n"
     ]
    },
    {
     "name": "stderr",
     "output_type": "stream",
     "text": [
      "2024-07-02 12:40:30,256 - AInewsbot - INFO - 12:40:30 Processing responses... \n",
      "2024-07-02 12:40:30,257 - AInewsbot - INFO - 12:40:30 got list with 50 items \n",
      "2024-07-02 12:40:30,258 - AInewsbot - INFO - 12:40:30 got list with 50 items \n",
      "2024-07-02 12:40:30,259 - AInewsbot - INFO - 12:40:30 got list with 50 items \n",
      "2024-07-02 12:40:30,261 - AInewsbot - INFO - 12:40:30 got list with 50 items \n",
      "2024-07-02 12:40:30,261 - AInewsbot - INFO - 12:40:30 got list with 50 items \n",
      "2024-07-02 12:40:30,262 - AInewsbot - INFO - 12:40:30 got list with 41 items \n",
      "2024-07-02 12:40:30,263 - AInewsbot - INFO - 12:40:30 Processed 291 responses.\n"
     ]
    },
    {
     "name": "stdout",
     "output_type": "stream",
     "text": [
      "2024-07-02 12:40:30.265365\n"
     ]
    }
   ],
   "source": [
    "# this runs fast with async aiohttp (15 seconds vs 2 minutes)\n",
    "# the old API supported submitting multiple payloads in a single completion request\n",
    "# current API supports a slow 'batch' submission https://platform.openai.com/docs/guides/rate-limits/usage-tiers\n",
    "# there is a more complex example here - https://github.com/openai/openai-cookbook/blob/main/examples/api_request_parallel_processor.py\n",
    "\n",
    "# need this to run async in jupyter since it already has an asyncio event loop running\n",
    "import nest_asyncio\n",
    "nest_asyncio.apply()\n",
    "\n",
    "async def fetch_openai(session, payload):\n",
    "    async with session.post(API_URL, headers=headers, json=payload) as response:\n",
    "        return await response.json()\n",
    "\n",
    "\n",
    "async def fetch_pages(prompt, pages):\n",
    "    log(f\"{datetime.now().strftime('%H:%M:%S')} Sending {len(pages)} pages to OpenAI.\")\n",
    "\n",
    "    # make a prompt and payload for each page\n",
    "    payloads = [{\"model\":  LOWCOST_MODEL,\n",
    "                 \"response_format\": {\"type\": \"json_object\"},\n",
    "                 \"messages\": [{\"role\": \"user\",\n",
    "                               \"content\": prompt + json.dumps(p)\n",
    "                               }]\n",
    "                 } for p in pages]\n",
    "\n",
    "    async with aiohttp.ClientSession() as session:\n",
    "        tasks = []\n",
    "        for i, payload in enumerate(payloads):\n",
    "            log(f\"{datetime.now().strftime('%H:%M:%S')} Sending page {i}.\")\n",
    "            task = asyncio.create_task(fetch_openai(session, payload))\n",
    "            tasks.append(task)\n",
    "\n",
    "        responses = await asyncio.gather(*tasks)\n",
    "\n",
    "    # validate and process the responses\n",
    "    log(f\"{datetime.now().strftime('%H:%M:%S')} Processing responses... \")\n",
    "\n",
    "    retlist = []\n",
    "    for i, response in enumerate(responses):\n",
    "        try:\n",
    "            response_dict = json.loads(\n",
    "                response[\"choices\"][0][\"message\"][\"content\"])\n",
    "        except Exception as e:\n",
    "            raise TypeError(\"Error: Invalid response \" + str(e))\n",
    "\n",
    "        if type(response_dict) is dict:\n",
    "            response_list = response_dict.get(\"stories\")\n",
    "        else:\n",
    "            raise TypeError(\"Error: Invalid response type\")\n",
    "\n",
    "        if type(response_list) is not list:\n",
    "            raise TypeError(\"Error: Invalid response type\")\n",
    "\n",
    "        log(f\"{datetime.now().strftime('%H:%M:%S')} got list with {len(response_list)} items \")\n",
    "\n",
    "        # check all sent present in response\n",
    "        # seems to match, i.e. responses received correctly and in order\n",
    "        # could add this to fetch_openai and implement retry\n",
    "        sent_ids = [s['id'] for s in pages[i]]\n",
    "        received_ids = [r['id'] for r in response_list]\n",
    "        difference = set(sent_ids) - set(received_ids)\n",
    "\n",
    "        if difference:\n",
    "            log(f\"missing items, {str(difference)}\")\n",
    "\n",
    "        retlist.extend(response_list)\n",
    "\n",
    "    log(f\"{datetime.now().strftime('%H:%M:%S')} Processed {len(retlist)} responses.\")\n",
    "\n",
    "    return retlist\n",
    "\n",
    "\n",
    "# Run the main function\n",
    "print(datetime.now())\n",
    "enriched_urls = asyncio.run(fetch_pages(PROMPT, pages))\n",
    "print(datetime.now())\n"
   ]
  },
  {
   "cell_type": "code",
   "execution_count": 27,
   "id": "39235332-cb60-4c13-8e8a-0e63c91bd263",
   "metadata": {},
   "outputs": [
    {
     "name": "stdout",
     "output_type": "stream",
     "text": [
      "291\n"
     ]
    },
    {
     "data": {
      "text/html": [
       "<div>\n",
       "<style scoped>\n",
       "    .dataframe tbody tr th:only-of-type {\n",
       "        vertical-align: middle;\n",
       "    }\n",
       "\n",
       "    .dataframe tbody tr th {\n",
       "        vertical-align: top;\n",
       "    }\n",
       "\n",
       "    .dataframe thead th {\n",
       "        text-align: right;\n",
       "    }\n",
       "</style>\n",
       "<table border=\"1\" class=\"dataframe\">\n",
       "  <thead>\n",
       "    <tr style=\"text-align: right;\">\n",
       "      <th></th>\n",
       "      <th>id</th>\n",
       "      <th>isAI</th>\n",
       "    </tr>\n",
       "  </thead>\n",
       "  <tbody>\n",
       "    <tr>\n",
       "      <th>0</th>\n",
       "      <td>1</td>\n",
       "      <td>False</td>\n",
       "    </tr>\n",
       "    <tr>\n",
       "      <th>1</th>\n",
       "      <td>19</td>\n",
       "      <td>False</td>\n",
       "    </tr>\n",
       "    <tr>\n",
       "      <th>2</th>\n",
       "      <td>28</td>\n",
       "      <td>False</td>\n",
       "    </tr>\n",
       "    <tr>\n",
       "      <th>3</th>\n",
       "      <td>30</td>\n",
       "      <td>False</td>\n",
       "    </tr>\n",
       "    <tr>\n",
       "      <th>4</th>\n",
       "      <td>66</td>\n",
       "      <td>True</td>\n",
       "    </tr>\n",
       "  </tbody>\n",
       "</table>\n",
       "</div>"
      ],
      "text/plain": [
       "   id   isAI\n",
       "0   1  False\n",
       "1  19  False\n",
       "2  28  False\n",
       "3  30  False\n",
       "4  66   True"
      ]
     },
     "execution_count": 27,
     "metadata": {},
     "output_type": "execute_result"
    }
   ],
   "source": [
    "enriched_df = pd.DataFrame(enriched_urls)\n",
    "print(len(enriched_df))\n",
    "enriched_df.head()\n"
   ]
  },
  {
   "cell_type": "code",
   "execution_count": 28,
   "id": "a8f0b627-6d83-4e2a-b8fa-13d949f80272",
   "metadata": {},
   "outputs": [
    {
     "name": "stderr",
     "output_type": "stream",
     "text": [
      "2024-07-02 12:40:30,281 - AInewsbot - INFO - 113 - isAI\n",
      "2024-07-02 12:40:30,282 - AInewsbot - INFO - 178 - not isAI\n"
     ]
    },
    {
     "data": {
      "text/plain": [
       "20"
      ]
     },
     "execution_count": 28,
     "metadata": {},
     "output_type": "execute_result"
    }
   ],
   "source": [
    "log(\"isAI\", len(enriched_df.loc[enriched_df[\"isAI\"]]))\n",
    "log(\"not isAI\", len(enriched_df.loc[~enriched_df[\"isAI\"]]))\n"
   ]
  },
  {
   "cell_type": "code",
   "execution_count": 29,
   "id": "3d36ce69-2da0-4c85-a98f-760c7b7c6a16",
   "metadata": {},
   "outputs": [
    {
     "data": {
      "text/html": [
       "<div>\n",
       "<style scoped>\n",
       "    .dataframe tbody tr th:only-of-type {\n",
       "        vertical-align: middle;\n",
       "    }\n",
       "\n",
       "    .dataframe tbody tr th {\n",
       "        vertical-align: top;\n",
       "    }\n",
       "\n",
       "    .dataframe thead th {\n",
       "        text-align: right;\n",
       "    }\n",
       "</style>\n",
       "<table border=\"1\" class=\"dataframe\">\n",
       "  <thead>\n",
       "    <tr style=\"text-align: right;\">\n",
       "      <th></th>\n",
       "      <th>id</th>\n",
       "      <th>src</th>\n",
       "      <th>title</th>\n",
       "      <th>url</th>\n",
       "      <th>isAI</th>\n",
       "      <th>date</th>\n",
       "    </tr>\n",
       "  </thead>\n",
       "  <tbody>\n",
       "    <tr>\n",
       "      <th>0</th>\n",
       "      <td>1</td>\n",
       "      <td>Ars Technica</td>\n",
       "      <td>Surface Pro 11 and Laptop 7 review: An Apple S...</td>\n",
       "      <td>https://arstechnica.com/gadgets/2024/07/surfac...</td>\n",
       "      <td>False</td>\n",
       "      <td>2024-07-02</td>\n",
       "    </tr>\n",
       "    <tr>\n",
       "      <th>1</th>\n",
       "      <td>19</td>\n",
       "      <td>Ars Technica</td>\n",
       "      <td>Call the ant doctor: Amputation gives injured ...</td>\n",
       "      <td>https://arstechnica.com/science/2024/07/call-t...</td>\n",
       "      <td>False</td>\n",
       "      <td>2024-07-02</td>\n",
       "    </tr>\n",
       "    <tr>\n",
       "      <th>2</th>\n",
       "      <td>28</td>\n",
       "      <td>Ars Technica</td>\n",
       "      <td>Tesla posts disappointing production and sales...</td>\n",
       "      <td>https://arstechnica.com/cars/2024/07/tesla-pro...</td>\n",
       "      <td>False</td>\n",
       "      <td>2024-07-02</td>\n",
       "    </tr>\n",
       "    <tr>\n",
       "      <th>3</th>\n",
       "      <td>30</td>\n",
       "      <td>Ars Technica</td>\n",
       "      <td>“People, planet, profit”—how Michelin approach...</td>\n",
       "      <td>https://arstechnica.com/cars/2024/07/heres-how...</td>\n",
       "      <td>False</td>\n",
       "      <td>2024-07-02</td>\n",
       "    </tr>\n",
       "    <tr>\n",
       "      <th>4</th>\n",
       "      <td>66</td>\n",
       "      <td>Bloomberg Tech</td>\n",
       "      <td>Northern Data May Be Testing Limits of AI Fren...</td>\n",
       "      <td>https://www.bloomberg.com/news/articles/2024-0...</td>\n",
       "      <td>True</td>\n",
       "      <td>2024-07-02</td>\n",
       "    </tr>\n",
       "  </tbody>\n",
       "</table>\n",
       "</div>"
      ],
      "text/plain": [
       "   id             src                                              title  \\\n",
       "0   1    Ars Technica  Surface Pro 11 and Laptop 7 review: An Apple S...   \n",
       "1  19    Ars Technica  Call the ant doctor: Amputation gives injured ...   \n",
       "2  28    Ars Technica  Tesla posts disappointing production and sales...   \n",
       "3  30    Ars Technica  “People, planet, profit”—how Michelin approach...   \n",
       "4  66  Bloomberg Tech  Northern Data May Be Testing Limits of AI Fren...   \n",
       "\n",
       "                                                 url   isAI        date  \n",
       "0  https://arstechnica.com/gadgets/2024/07/surfac...  False  2024-07-02  \n",
       "1  https://arstechnica.com/science/2024/07/call-t...  False  2024-07-02  \n",
       "2  https://arstechnica.com/cars/2024/07/tesla-pro...  False  2024-07-02  \n",
       "3  https://arstechnica.com/cars/2024/07/heres-how...  False  2024-07-02  \n",
       "4  https://www.bloomberg.com/news/articles/2024-0...   True  2024-07-02  "
      ]
     },
     "execution_count": 29,
     "metadata": {},
     "output_type": "execute_result"
    }
   ],
   "source": [
    "# merge returned df into original df\n",
    "merged_df = pd.merge(filtered_df, enriched_df, on=\"id\", how=\"outer\")\n",
    "merged_df['date'] = datetime.now().date()\n",
    "merged_df.head()\n"
   ]
  },
  {
   "cell_type": "code",
   "execution_count": 30,
   "id": "f286de30-81e7-4bab-a7fa-9477f27b6a75",
   "metadata": {},
   "outputs": [
    {
     "name": "stderr",
     "output_type": "stream",
     "text": [
      "2024-07-02 12:40:30,296 - AInewsbot - INFO - Unmatched response rows: 0\n",
      "2024-07-02 12:40:30,297 - AInewsbot - INFO - Unmatched source rows: 0\n"
     ]
    },
    {
     "data": {
      "text/plain": [
       "20"
      ]
     },
     "execution_count": 30,
     "metadata": {},
     "output_type": "execute_result"
    }
   ],
   "source": [
    "# should be empty, shouldn't get back rows that don't match to existing\n",
    "log(f\"Unmatched response rows: {len(merged_df.loc[merged_df['src'].isna()])}\")\n",
    "# should be empty, should get back all rows from orig\n",
    "log(f\"Unmatched source rows: {len(merged_df.loc[merged_df['isAI'].isna()])}\")\n"
   ]
  },
  {
   "cell_type": "code",
   "execution_count": 31,
   "id": "193ead65-a4f6-4b25-97a1-e14aec1d2c30",
   "metadata": {},
   "outputs": [],
   "source": [
    "# update SQLite database with all seen articles\n",
    "conn = sqlite3.connect('articles.db')\n",
    "cursor = conn.cursor()\n",
    "for row in merged_df.itertuples():\n",
    "    insert_article(conn, cursor, row.src, row.title,\n",
    "                   row.url, row.isAI, row.date)\n"
   ]
  },
  {
   "cell_type": "code",
   "execution_count": 32,
   "id": "a5548bb2",
   "metadata": {},
   "outputs": [
    {
     "name": "stderr",
     "output_type": "stream",
     "text": [
      "2024-07-02 12:40:30,374 - AInewsbot - INFO - Found 113 AI headlines\n"
     ]
    },
    {
     "data": {
      "text/plain": [
       "20"
      ]
     },
     "execution_count": 32,
     "metadata": {},
     "output_type": "execute_result"
    }
   ],
   "source": [
    "AIdf = merged_df.loc[merged_df[\"isAI\"]==1].reset_index(drop=True)\n",
    "log(f\"Found {len(AIdf)} AI headlines\")\n"
   ]
  },
  {
   "cell_type": "code",
   "execution_count": 33,
   "id": "7f345b05-6f77-4132-a1f4-00e798196bfd",
   "metadata": {},
   "outputs": [
    {
     "name": "stderr",
     "output_type": "stream",
     "text": [
      "2024-07-02 12:40:30,378 - AInewsbot - INFO - Found 113 AI headlines\n"
     ]
    },
    {
     "data": {
      "text/plain": [
       "20"
      ]
     },
     "execution_count": 33,
     "metadata": {},
     "output_type": "execute_result"
    }
   ],
   "source": [
    "AIdf = merged_df.loc[merged_df[\"isAI\"]].reset_index(drop=True)\n",
    "log(f\"Found {len(AIdf)} AI headlines\")\n"
   ]
  },
  {
   "cell_type": "code",
   "execution_count": 34,
   "id": "5323512b-727a-4bcb-b74e-0577044e757c",
   "metadata": {},
   "outputs": [],
   "source": [
    "# map title to ascii characters to avoid some dupes with e.g. different quote symbols\n",
    "\n",
    "def unicode_to_ascii(input_string):\n",
    "    # Normalize the Unicode string to NFKD form\n",
    "    normalized_string = unicodedata.normalize('NFKD', input_string)\n",
    "    \n",
    "    # Encode to ASCII bytes, ignoring characters that cannot be converted\n",
    "    ascii_bytes = normalized_string.encode('ascii', 'ignore')\n",
    "    \n",
    "    # Convert bytes back to a string\n",
    "    ascii_string = ascii_bytes.decode('ascii')\n",
    "    \n",
    "    return ascii_string\n",
    "\n",
    "AIdf['title'] = AIdf['title'].apply(unicode_to_ascii)\n"
   ]
  },
  {
   "cell_type": "code",
   "execution_count": 35,
   "id": "ba28a38b-d93d-43d8-9e24-c6a107538f3d",
   "metadata": {},
   "outputs": [
    {
     "name": "stderr",
     "output_type": "stream",
     "text": [
      "2024-07-02 12:40:30,405 - AInewsbot - INFO - Found 111 unique AI headlines\n"
     ]
    },
    {
     "data": {
      "text/plain": [
       "20"
      ]
     },
     "execution_count": 35,
     "metadata": {},
     "output_type": "execute_result"
    }
   ],
   "source": [
    "# dedupe identical headlines\n",
    "AIdf['title_clean'] = AIdf['title'].map(lambda s: \"\".join(s.split()))\n",
    "AIdf = AIdf.sort_values(\"src\") \\\n",
    "    .groupby(\"title_clean\") \\\n",
    "    .first() \\\n",
    "    .reset_index()\n",
    "log(f\"Found {len(AIdf)} unique AI headlines\")\n"
   ]
  },
  {
   "cell_type": "code",
   "execution_count": 36,
   "id": "c493929e-a779-406b-83dc-3e770f739e6a",
   "metadata": {},
   "outputs": [
    {
     "name": "stderr",
     "output_type": "stream",
     "text": [
      "2024-07-02 12:40:30,408 - AInewsbot - INFO - Fetching embeddings for 111 headlines\n",
      "2024-07-02 12:40:30,945 - httpx - INFO - HTTP Request: POST https://api.openai.com/v1/embeddings \"HTTP/1.1 200 OK\"\n"
     ]
    },
    {
     "data": {
      "text/html": [
       "<div>\n",
       "<style scoped>\n",
       "    .dataframe tbody tr th:only-of-type {\n",
       "        vertical-align: middle;\n",
       "    }\n",
       "\n",
       "    .dataframe tbody tr th {\n",
       "        vertical-align: top;\n",
       "    }\n",
       "\n",
       "    .dataframe thead th {\n",
       "        text-align: right;\n",
       "    }\n",
       "</style>\n",
       "<table border=\"1\" class=\"dataframe\">\n",
       "  <thead>\n",
       "    <tr style=\"text-align: right;\">\n",
       "      <th></th>\n",
       "      <th>title_clean</th>\n",
       "      <th>id</th>\n",
       "      <th>src</th>\n",
       "      <th>title</th>\n",
       "      <th>url</th>\n",
       "      <th>isAI</th>\n",
       "      <th>date</th>\n",
       "    </tr>\n",
       "  </thead>\n",
       "  <tbody>\n",
       "    <tr>\n",
       "      <th>0</th>\n",
       "      <td>AI-CryptoStartupRaises$85MillioninDealLedbyThi...</td>\n",
       "      <td>438</td>\n",
       "      <td>Google News</td>\n",
       "      <td>AI-Crypto Startup Raises $85 Million in Deal L...</td>\n",
       "      <td>https://news.google.com/articles/CBMiSWh0dHBzO...</td>\n",
       "      <td>True</td>\n",
       "      <td>2024-07-02</td>\n",
       "    </tr>\n",
       "    <tr>\n",
       "      <th>1</th>\n",
       "      <td>Sentientcloses$85Mseedroundforopen-sourceAI</td>\n",
       "      <td>508</td>\n",
       "      <td>Google News</td>\n",
       "      <td>Sentient closes $85M seed round for open-sourc...</td>\n",
       "      <td>https://news.google.com/articles/CBMiR2h0dHBzO...</td>\n",
       "      <td>True</td>\n",
       "      <td>2024-07-02</td>\n",
       "    </tr>\n",
       "    <tr>\n",
       "      <th>2</th>\n",
       "      <td>PeterThiel'sFoundersFundLeads$85MSeedInvestmen...</td>\n",
       "      <td>353</td>\n",
       "      <td>Google News</td>\n",
       "      <td>Peter Thiel's Founders Fund Leads $85M Seed In...</td>\n",
       "      <td>https://news.google.com/articles/CBMiiAFodHRwc...</td>\n",
       "      <td>True</td>\n",
       "      <td>2024-07-02</td>\n",
       "    </tr>\n",
       "    <tr>\n",
       "      <th>3</th>\n",
       "      <td>PeterThiel'sFoundersFundco-leads$85millionseed...</td>\n",
       "      <td>624</td>\n",
       "      <td>Google News</td>\n",
       "      <td>Peter Thiel's Founders Fund co-leads $85 milli...</td>\n",
       "      <td>https://news.google.com/articles/CBMiWWh0dHBzO...</td>\n",
       "      <td>True</td>\n",
       "      <td>2024-07-02</td>\n",
       "    </tr>\n",
       "    <tr>\n",
       "      <th>4</th>\n",
       "      <td>ElonMusksaysGrok2dueinAugust,Grok3byendofyear</td>\n",
       "      <td>639</td>\n",
       "      <td>Google News</td>\n",
       "      <td>Elon Musk says Grok 2 due in August, Grok 3 by...</td>\n",
       "      <td>https://news.google.com/articles/CBMiVmh0dHBzO...</td>\n",
       "      <td>True</td>\n",
       "      <td>2024-07-02</td>\n",
       "    </tr>\n",
       "    <tr>\n",
       "      <th>...</th>\n",
       "      <td>...</td>\n",
       "      <td>...</td>\n",
       "      <td>...</td>\n",
       "      <td>...</td>\n",
       "      <td>...</td>\n",
       "      <td>...</td>\n",
       "      <td>...</td>\n",
       "    </tr>\n",
       "    <tr>\n",
       "      <th>106</th>\n",
       "      <td>TWISTEDPICTexasman,30,arrestedafterusingdeepfa...</td>\n",
       "      <td>208</td>\n",
       "      <td>Feedly AI</td>\n",
       "      <td>TWISTED PIC Texas man, 30, arrested after usin...</td>\n",
       "      <td>https://www.the-sun.com/news/11788500/roman-sh...</td>\n",
       "      <td>True</td>\n",
       "      <td>2024-07-02</td>\n",
       "    </tr>\n",
       "    <tr>\n",
       "      <th>107</th>\n",
       "      <td>PowerWashSimulatoraddstenXboxachievementswithA...</td>\n",
       "      <td>641</td>\n",
       "      <td>Google News</td>\n",
       "      <td>PowerWash Simulator adds ten Xbox achievements...</td>\n",
       "      <td>https://news.google.com/articles/CBMiVWh0dHBzO...</td>\n",
       "      <td>True</td>\n",
       "      <td>2024-07-02</td>\n",
       "    </tr>\n",
       "    <tr>\n",
       "      <th>108</th>\n",
       "      <td>NewsoutletsareaccusingPerplexityofplagiarisman...</td>\n",
       "      <td>196</td>\n",
       "      <td>Feedly AI</td>\n",
       "      <td>News outlets are accusing Perplexity of plagia...</td>\n",
       "      <td>https://techcrunch.com/2024/07/02/news-outlets...</td>\n",
       "      <td>True</td>\n",
       "      <td>2024-07-02</td>\n",
       "    </tr>\n",
       "    <tr>\n",
       "      <th>109</th>\n",
       "      <td>Assassin'sCreed'fans'areattemptingtogetShadows...</td>\n",
       "      <td>572</td>\n",
       "      <td>Google News</td>\n",
       "      <td>Assassin's Creed 'fans' are attempting to get ...</td>\n",
       "      <td>https://news.google.com/articles/CBMiXWh0dHBzO...</td>\n",
       "      <td>True</td>\n",
       "      <td>2024-07-02</td>\n",
       "    </tr>\n",
       "    <tr>\n",
       "      <th>110</th>\n",
       "      <td>CallofDutysNewExtraCrispyGunLetsYouCook,Eat,an...</td>\n",
       "      <td>372</td>\n",
       "      <td>Google News</td>\n",
       "      <td>Call of Dutys New Extra Crispy Gun Lets You Co...</td>\n",
       "      <td>https://news.google.com/articles/CBMirwFodHRwc...</td>\n",
       "      <td>True</td>\n",
       "      <td>2024-07-02</td>\n",
       "    </tr>\n",
       "  </tbody>\n",
       "</table>\n",
       "<p>111 rows × 7 columns</p>\n",
       "</div>"
      ],
      "text/plain": [
       "                                           title_clean   id          src  \\\n",
       "0    AI-CryptoStartupRaises$85MillioninDealLedbyThi...  438  Google News   \n",
       "1          Sentientcloses$85Mseedroundforopen-sourceAI  508  Google News   \n",
       "2    PeterThiel'sFoundersFundLeads$85MSeedInvestmen...  353  Google News   \n",
       "3    PeterThiel'sFoundersFundco-leads$85millionseed...  624  Google News   \n",
       "4        ElonMusksaysGrok2dueinAugust,Grok3byendofyear  639  Google News   \n",
       "..                                                 ...  ...          ...   \n",
       "106  TWISTEDPICTexasman,30,arrestedafterusingdeepfa...  208    Feedly AI   \n",
       "107  PowerWashSimulatoraddstenXboxachievementswithA...  641  Google News   \n",
       "108  NewsoutletsareaccusingPerplexityofplagiarisman...  196    Feedly AI   \n",
       "109  Assassin'sCreed'fans'areattemptingtogetShadows...  572  Google News   \n",
       "110  CallofDutysNewExtraCrispyGunLetsYouCook,Eat,an...  372  Google News   \n",
       "\n",
       "                                                 title  \\\n",
       "0    AI-Crypto Startup Raises $85 Million in Deal L...   \n",
       "1    Sentient closes $85M seed round for open-sourc...   \n",
       "2    Peter Thiel's Founders Fund Leads $85M Seed In...   \n",
       "3    Peter Thiel's Founders Fund co-leads $85 milli...   \n",
       "4    Elon Musk says Grok 2 due in August, Grok 3 by...   \n",
       "..                                                 ...   \n",
       "106  TWISTED PIC Texas man, 30, arrested after usin...   \n",
       "107  PowerWash Simulator adds ten Xbox achievements...   \n",
       "108  News outlets are accusing Perplexity of plagia...   \n",
       "109  Assassin's Creed 'fans' are attempting to get ...   \n",
       "110  Call of Dutys New Extra Crispy Gun Lets You Co...   \n",
       "\n",
       "                                                   url  isAI        date  \n",
       "0    https://news.google.com/articles/CBMiSWh0dHBzO...  True  2024-07-02  \n",
       "1    https://news.google.com/articles/CBMiR2h0dHBzO...  True  2024-07-02  \n",
       "2    https://news.google.com/articles/CBMiiAFodHRwc...  True  2024-07-02  \n",
       "3    https://news.google.com/articles/CBMiWWh0dHBzO...  True  2024-07-02  \n",
       "4    https://news.google.com/articles/CBMiVmh0dHBzO...  True  2024-07-02  \n",
       "..                                                 ...   ...         ...  \n",
       "106  https://www.the-sun.com/news/11788500/roman-sh...  True  2024-07-02  \n",
       "107  https://news.google.com/articles/CBMiVWh0dHBzO...  True  2024-07-02  \n",
       "108  https://techcrunch.com/2024/07/02/news-outlets...  True  2024-07-02  \n",
       "109  https://news.google.com/articles/CBMiXWh0dHBzO...  True  2024-07-02  \n",
       "110  https://news.google.com/articles/CBMirwFodHRwc...  True  2024-07-02  \n",
       "\n",
       "[111 rows x 7 columns]"
      ]
     },
     "execution_count": 36,
     "metadata": {},
     "output_type": "execute_result"
    }
   ],
   "source": [
    "log(f\"Fetching embeddings for {len(AIdf)} headlines\")\n",
    "embedding_model = 'text-embedding-3-large'\n",
    "response = client.embeddings.create(input=AIdf['title'].tolist(),\n",
    "                                    model=embedding_model)\n",
    "embedding_df = pd.DataFrame([e.model_dump()['embedding'] for e in response.data])\n",
    "\n",
    "sorted_indices = agglomerative_cluster_sort(embedding_df)\n",
    "AIdf = AIdf.iloc[sorted_indices].reset_index(drop=True)\n",
    "AIdf\n"
   ]
  },
  {
   "cell_type": "code",
   "execution_count": null,
   "id": "24c1eb09",
   "metadata": {},
   "outputs": [],
   "source": []
  },
  {
   "cell_type": "code",
   "execution_count": 37,
   "id": "a7a568f7-bfba-4759-9d2c-fbd9a7331384",
   "metadata": {},
   "outputs": [],
   "source": [
    "# leaf_order = agglomerative_cluster_sort(embedding_df)\n",
    "# AIdf = AIdf.iloc[leaf_order]\n"
   ]
  },
  {
   "cell_type": "code",
   "execution_count": 38,
   "id": "bad6702f-c6fc-4a3c-a6b6-fd4b34e16b3a",
   "metadata": {},
   "outputs": [
    {
     "data": {
      "text/html": [
       "<div>\n",
       "<style scoped>\n",
       "    .dataframe tbody tr th:only-of-type {\n",
       "        vertical-align: middle;\n",
       "    }\n",
       "\n",
       "    .dataframe tbody tr th {\n",
       "        vertical-align: top;\n",
       "    }\n",
       "\n",
       "    .dataframe thead th {\n",
       "        text-align: right;\n",
       "    }\n",
       "</style>\n",
       "<table border=\"1\" class=\"dataframe\">\n",
       "  <thead>\n",
       "    <tr style=\"text-align: right;\">\n",
       "      <th></th>\n",
       "      <th>title</th>\n",
       "    </tr>\n",
       "  </thead>\n",
       "  <tbody>\n",
       "    <tr>\n",
       "      <th>0</th>\n",
       "      <td>AI-Crypto Startup Raises $85 Million in Deal L...</td>\n",
       "    </tr>\n",
       "    <tr>\n",
       "      <th>1</th>\n",
       "      <td>Sentient closes $85M seed round for open-sourc...</td>\n",
       "    </tr>\n",
       "    <tr>\n",
       "      <th>2</th>\n",
       "      <td>Peter Thiel's Founders Fund Leads $85M Seed In...</td>\n",
       "    </tr>\n",
       "    <tr>\n",
       "      <th>3</th>\n",
       "      <td>Peter Thiel's Founders Fund co-leads $85 milli...</td>\n",
       "    </tr>\n",
       "    <tr>\n",
       "      <th>4</th>\n",
       "      <td>Elon Musk says Grok 2 due in August, Grok 3 by...</td>\n",
       "    </tr>\n",
       "    <tr>\n",
       "      <th>5</th>\n",
       "      <td>Elon Musk Announces JARVIS-Inspired xAI Grok 2...</td>\n",
       "    </tr>\n",
       "    <tr>\n",
       "      <th>6</th>\n",
       "      <td>Elon Musk Reveals The Staggering Amount Of Nvi...</td>\n",
       "    </tr>\n",
       "    <tr>\n",
       "      <th>7</th>\n",
       "      <td>Elon Musks xAI Using 100,000 NVIDIA H100 GPUs ...</td>\n",
       "    </tr>\n",
       "    <tr>\n",
       "      <th>8</th>\n",
       "      <td>Europes Bitcoin Mining Giant Northern Data Eye...</td>\n",
       "    </tr>\n",
       "    <tr>\n",
       "      <th>9</th>\n",
       "      <td>Northern Data May Be Testing Limits of AI Fren...</td>\n",
       "    </tr>\n",
       "    <tr>\n",
       "      <th>10</th>\n",
       "      <td>Northern Data considers AI unit US IPO at up t...</td>\n",
       "    </tr>\n",
       "    <tr>\n",
       "      <th>11</th>\n",
       "      <td>Ken Griffin is hitting pause on the AI hype, s...</td>\n",
       "    </tr>\n",
       "    <tr>\n",
       "      <th>12</th>\n",
       "      <td>NVIDIAs CEO envisions a future where multi-sho...</td>\n",
       "    </tr>\n",
       "    <tr>\n",
       "      <th>13</th>\n",
       "      <td>Here's the biggest risk to Nvidia being a $10 ...</td>\n",
       "    </tr>\n",
       "    <tr>\n",
       "      <th>14</th>\n",
       "      <td>Nvidia may be appealing, but one fund manager ...</td>\n",
       "    </tr>\n",
       "    <tr>\n",
       "      <th>15</th>\n",
       "      <td>The rise of the robots: charted - Morgan Stanley</td>\n",
       "    </tr>\n",
       "    <tr>\n",
       "      <th>16</th>\n",
       "      <td>Morgan Stanley sees 8 million humanoids by 204...</td>\n",
       "    </tr>\n",
       "    <tr>\n",
       "      <th>17</th>\n",
       "      <td>Tesla's humanoid opportunity is 'bigger' than ...</td>\n",
       "    </tr>\n",
       "    <tr>\n",
       "      <th>18</th>\n",
       "      <td>Robinhood Purchases Pluto to Provide AI-Powere...</td>\n",
       "    </tr>\n",
       "    <tr>\n",
       "      <th>19</th>\n",
       "      <td>2 Artificial Intelligence (AI) Stocks to Buy N...</td>\n",
       "    </tr>\n",
       "    <tr>\n",
       "      <th>20</th>\n",
       "      <td>Morgan Stanley flags $30 trillion market AI ca...</td>\n",
       "    </tr>\n",
       "    <tr>\n",
       "      <th>21</th>\n",
       "      <td>A prosthesis driven by the nervous system help...</td>\n",
       "    </tr>\n",
       "    <tr>\n",
       "      <th>22</th>\n",
       "      <td>The Best Bionic Leg Yet | A surgical procedure...</td>\n",
       "    </tr>\n",
       "    <tr>\n",
       "      <th>23</th>\n",
       "      <td>AI to use dead actress voice for audiobook of ...</td>\n",
       "    </tr>\n",
       "    <tr>\n",
       "      <th>24</th>\n",
       "      <td>AI Firm ElevenLabs Sets Audio Reader Pact With...</td>\n",
       "    </tr>\n",
       "    <tr>\n",
       "      <th>25</th>\n",
       "      <td>AI goes to Hollywood: James Dean, Judy Garland...</td>\n",
       "    </tr>\n",
       "    <tr>\n",
       "      <th>26</th>\n",
       "      <td>Geoffrey Rush on AI, Why Animation Is His Game...</td>\n",
       "    </tr>\n",
       "    <tr>\n",
       "      <th>27</th>\n",
       "      <td>Humans Will Soon Live 1,000 Years Using Biotec...</td>\n",
       "    </tr>\n",
       "    <tr>\n",
       "      <th>28</th>\n",
       "      <td>Accelerating Business Transformation: SAP's St...</td>\n",
       "    </tr>\n",
       "    <tr>\n",
       "      <th>29</th>\n",
       "      <td>SAP Business AI: Q2 2024 Release Highlights</td>\n",
       "    </tr>\n",
       "    <tr>\n",
       "      <th>30</th>\n",
       "      <td>AI ecosystems, cloud transformation, and susta...</td>\n",
       "    </tr>\n",
       "    <tr>\n",
       "      <th>31</th>\n",
       "      <td>SAP Charts A Course For The AI-Driven Enterpri...</td>\n",
       "    </tr>\n",
       "    <tr>\n",
       "      <th>32</th>\n",
       "      <td>China eyes at least 50 sets of AI standards by...</td>\n",
       "    </tr>\n",
       "    <tr>\n",
       "      <th>33</th>\n",
       "      <td>United Nations China US Artificial Intelligenc...</td>\n",
       "    </tr>\n",
       "    <tr>\n",
       "      <th>34</th>\n",
       "      <td>China advocates for AI cooperation to advance ...</td>\n",
       "    </tr>\n",
       "    <tr>\n",
       "      <th>35</th>\n",
       "      <td>UN adopts Chinese resolution with US support o...</td>\n",
       "    </tr>\n",
       "    <tr>\n",
       "      <th>36</th>\n",
       "      <td>Xinhua News | UNGA adopts China-proposed resol...</td>\n",
       "    </tr>\n",
       "    <tr>\n",
       "      <th>37</th>\n",
       "      <td>AI-generated exam papers go undetected in 94% ...</td>\n",
       "    </tr>\n",
       "    <tr>\n",
       "      <th>38</th>\n",
       "      <td>AI Outperforms Students in Real-World Turing Test</td>\n",
       "    </tr>\n",
       "    <tr>\n",
       "      <th>39</th>\n",
       "      <td>AI can beat real university students in exams,...</td>\n",
       "    </tr>\n",
       "    <tr>\n",
       "      <th>40</th>\n",
       "      <td>Calif. bill would take steps to ensure AI mode...</td>\n",
       "    </tr>\n",
       "    <tr>\n",
       "      <th>41</th>\n",
       "      <td>Meta is against Californias AI bill. Heres why</td>\n",
       "    </tr>\n",
       "    <tr>\n",
       "      <th>42</th>\n",
       "      <td>AI companies are finally being forced to cough...</td>\n",
       "    </tr>\n",
       "    <tr>\n",
       "      <th>43</th>\n",
       "      <td>Opinion: Record labels are suing artificial-in...</td>\n",
       "    </tr>\n",
       "    <tr>\n",
       "      <th>44</th>\n",
       "      <td>AI is both liberating and enslaving us</td>\n",
       "    </tr>\n",
       "    <tr>\n",
       "      <th>45</th>\n",
       "      <td>AI is learning from what you said on Reddit, S...</td>\n",
       "    </tr>\n",
       "    <tr>\n",
       "      <th>46</th>\n",
       "      <td>Eye on the future - AI in supply chains and lo...</td>\n",
       "    </tr>\n",
       "    <tr>\n",
       "      <th>47</th>\n",
       "      <td>Will GenAI accelerate autonomous supply chains?</td>\n",
       "    </tr>\n",
       "    <tr>\n",
       "      <th>48</th>\n",
       "      <td>SPONSOREDHow next-gen AI technology is transfo...</td>\n",
       "    </tr>\n",
       "    <tr>\n",
       "      <th>49</th>\n",
       "      <td>How isArtificial Intelligence(AI) is going to ...</td>\n",
       "    </tr>\n",
       "    <tr>\n",
       "      <th>50</th>\n",
       "      <td>While some white collar workers may be worried...</td>\n",
       "    </tr>\n",
       "    <tr>\n",
       "      <th>51</th>\n",
       "      <td>Robots, AI, EW: How War in Ukraine Re-Shapes M...</td>\n",
       "    </tr>\n",
       "    <tr>\n",
       "      <th>52</th>\n",
       "      <td>New satellite aims to show how AI advances Ear...</td>\n",
       "    </tr>\n",
       "    <tr>\n",
       "      <th>53</th>\n",
       "      <td>Running AI in the Field Could Boost Farming: S...</td>\n",
       "    </tr>\n",
       "    <tr>\n",
       "      <th>54</th>\n",
       "      <td>Google emissions jump nearly 50% over five yea...</td>\n",
       "    </tr>\n",
       "    <tr>\n",
       "      <th>55</th>\n",
       "      <td>Google falling short of important climate targ...</td>\n",
       "    </tr>\n",
       "    <tr>\n",
       "      <th>56</th>\n",
       "      <td>AI Researcher Elon Musk Poached From OpenAI Re...</td>\n",
       "    </tr>\n",
       "    <tr>\n",
       "      <th>57</th>\n",
       "      <td>Crusoe pivots to building AI data centers</td>\n",
       "    </tr>\n",
       "    <tr>\n",
       "      <th>58</th>\n",
       "      <td>Announcing AI First Accelerator for startups i...</td>\n",
       "    </tr>\n",
       "    <tr>\n",
       "      <th>59</th>\n",
       "      <td>Bird &amp; Bird To Run Major POC With AI Startup Leya</td>\n",
       "    </tr>\n",
       "    <tr>\n",
       "      <th>60</th>\n",
       "      <td>Empirical Health for Apple Watch now leverages...</td>\n",
       "    </tr>\n",
       "    <tr>\n",
       "      <th>61</th>\n",
       "      <td>Apple chip orders suggest big demand for AI-bo...</td>\n",
       "    </tr>\n",
       "    <tr>\n",
       "      <th>62</th>\n",
       "      <td>Apple just launched a public demo of its '4M' ...</td>\n",
       "    </tr>\n",
       "    <tr>\n",
       "      <th>63</th>\n",
       "      <td>Atunning AI spaghetti art...</td>\n",
       "    </tr>\n",
       "    <tr>\n",
       "      <th>64</th>\n",
       "      <td>FL Studio 2024 introduces plugins to FL Cloud,...</td>\n",
       "    </tr>\n",
       "    <tr>\n",
       "      <th>65</th>\n",
       "      <td>OmniParse: An AI Platform that Ingests/Parses ...</td>\n",
       "    </tr>\n",
       "    <tr>\n",
       "      <th>66</th>\n",
       "      <td>Meta plans to bring generative AI to metaverse...</td>\n",
       "    </tr>\n",
       "    <tr>\n",
       "      <th>67</th>\n",
       "      <td>Ajax Engineering Launches Concrete GPT, Game-C...</td>\n",
       "    </tr>\n",
       "    <tr>\n",
       "      <th>68</th>\n",
       "      <td>Anthropic launches new program to fund creatio...</td>\n",
       "    </tr>\n",
       "    <tr>\n",
       "      <th>69</th>\n",
       "      <td>The Gee Code: Will AI Teachers Assistants Beco...</td>\n",
       "    </tr>\n",
       "    <tr>\n",
       "      <th>70</th>\n",
       "      <td>Apple Intelligence tipped to feature Google Ge...</td>\n",
       "    </tr>\n",
       "    <tr>\n",
       "      <th>71</th>\n",
       "      <td>These new AI smart glasses are like getting a ...</td>\n",
       "    </tr>\n",
       "    <tr>\n",
       "      <th>72</th>\n",
       "      <td>Google prepping an exclusive Pixel 9 AI with W...</td>\n",
       "    </tr>\n",
       "    <tr>\n",
       "      <th>73</th>\n",
       "      <td>The Pixel 9s Google AI is like Microsoft Recal...</td>\n",
       "    </tr>\n",
       "    <tr>\n",
       "      <th>74</th>\n",
       "      <td>Exclusive: New Google AI suite to debut with t...</td>\n",
       "    </tr>\n",
       "    <tr>\n",
       "      <th>75</th>\n",
       "      <td>Pixel 9 to ship with 'Google AI' powering 'Stu...</td>\n",
       "    </tr>\n",
       "    <tr>\n",
       "      <th>76</th>\n",
       "      <td>Source: Google plans AI features for the Pixel...</td>\n",
       "    </tr>\n",
       "    <tr>\n",
       "      <th>77</th>\n",
       "      <td>France poised to bring 'charges against Nvidia'</td>\n",
       "    </tr>\n",
       "    <tr>\n",
       "      <th>78</th>\n",
       "      <td>Nvidia's secret sauce is starting to worry reg...</td>\n",
       "    </tr>\n",
       "    <tr>\n",
       "      <th>79</th>\n",
       "      <td>Nvidia Faces First AI Antitrust Charge, Accord...</td>\n",
       "    </tr>\n",
       "    <tr>\n",
       "      <th>80</th>\n",
       "      <td>Galaxy S25 to offer AI upscaling for games tha...</td>\n",
       "    </tr>\n",
       "    <tr>\n",
       "      <th>81</th>\n",
       "      <td>Snapdragon 8 Gen 4: Adreno 830 GPU rumoured to...</td>\n",
       "    </tr>\n",
       "    <tr>\n",
       "      <th>82</th>\n",
       "      <td>Snapdragon 8 Gen 4 Rumored To Support GPU Inte...</td>\n",
       "    </tr>\n",
       "    <tr>\n",
       "      <th>83</th>\n",
       "      <td>Meta Is ChangingArtificial IntelligenceLabels ...</td>\n",
       "    </tr>\n",
       "    <tr>\n",
       "      <th>84</th>\n",
       "      <td>Photographers complaints lead Meta to revise A...</td>\n",
       "    </tr>\n",
       "    <tr>\n",
       "      <th>85</th>\n",
       "      <td>Meta updates Made by AI label across Facebook,...</td>\n",
       "    </tr>\n",
       "    <tr>\n",
       "      <th>86</th>\n",
       "      <td>Meta Switches AI Labels From 'Made With AI' to...</td>\n",
       "    </tr>\n",
       "    <tr>\n",
       "      <th>87</th>\n",
       "      <td>Meta swaps Made with AI label with AI Info on ...</td>\n",
       "    </tr>\n",
       "    <tr>\n",
       "      <th>88</th>\n",
       "      <td>Figma AI just copies Apple's Weather app every...</td>\n",
       "    </tr>\n",
       "    <tr>\n",
       "      <th>89</th>\n",
       "      <td>Figma disables its recently launched generativ...</td>\n",
       "    </tr>\n",
       "    <tr>\n",
       "      <th>90</th>\n",
       "      <td>How to Use Midjourney to Make a Logo for Your ...</td>\n",
       "    </tr>\n",
       "    <tr>\n",
       "      <th>91</th>\n",
       "      <td>How to Use Runway Gen 3 to Create AI Video</td>\n",
       "    </tr>\n",
       "    <tr>\n",
       "      <th>92</th>\n",
       "      <td>How to use Mesop Google's new AI user interfac...</td>\n",
       "    </tr>\n",
       "    <tr>\n",
       "      <th>93</th>\n",
       "      <td>Add High-Quality AI Voice-Overs to Your Videos...</td>\n",
       "    </tr>\n",
       "    <tr>\n",
       "      <th>94</th>\n",
       "      <td>You Can Ask YouTube to Take Down AI-Generated ...</td>\n",
       "    </tr>\n",
       "    <tr>\n",
       "      <th>95</th>\n",
       "      <td>YouTube Now Supports Removal Requests for AI V...</td>\n",
       "    </tr>\n",
       "    <tr>\n",
       "      <th>96</th>\n",
       "      <td>Drag queen AI chatbot offers advice, education...</td>\n",
       "    </tr>\n",
       "    <tr>\n",
       "      <th>97</th>\n",
       "      <td>Generate AI stickers of yourself on WhatsApp u...</td>\n",
       "    </tr>\n",
       "    <tr>\n",
       "      <th>98</th>\n",
       "      <td>How to use Meta AI in WhatsApp, Facebook and I...</td>\n",
       "    </tr>\n",
       "    <tr>\n",
       "      <th>99</th>\n",
       "      <td>I tested HP's OmniBook X Copilot+ PC, and it a...</td>\n",
       "    </tr>\n",
       "    <tr>\n",
       "      <th>100</th>\n",
       "      <td>Manners Matter? - The Impact of Politeness on ...</td>\n",
       "    </tr>\n",
       "    <tr>\n",
       "      <th>101</th>\n",
       "      <td>Is Gemini's expanded context window as useful ...</td>\n",
       "    </tr>\n",
       "    <tr>\n",
       "      <th>102</th>\n",
       "      <td>Show HN: Adding Mistral Codestral and GPT-4o t...</td>\n",
       "    </tr>\n",
       "    <tr>\n",
       "      <th>103</th>\n",
       "      <td>Claude 3.5 Sonnet vs GPT-4o  An honest review</td>\n",
       "    </tr>\n",
       "    <tr>\n",
       "      <th>104</th>\n",
       "      <td>LWiAI Podcast #172 - Claude and Gemini updates...</td>\n",
       "    </tr>\n",
       "    <tr>\n",
       "      <th>105</th>\n",
       "      <td>Man uses AI to undress teen girl and is now fa...</td>\n",
       "    </tr>\n",
       "    <tr>\n",
       "      <th>106</th>\n",
       "      <td>TWISTED PIC Texas man, 30, arrested after usin...</td>\n",
       "    </tr>\n",
       "    <tr>\n",
       "      <th>107</th>\n",
       "      <td>PowerWash Simulator adds ten Xbox achievements...</td>\n",
       "    </tr>\n",
       "    <tr>\n",
       "      <th>108</th>\n",
       "      <td>News outlets are accusing Perplexity of plagia...</td>\n",
       "    </tr>\n",
       "    <tr>\n",
       "      <th>109</th>\n",
       "      <td>Assassin's Creed 'fans' are attempting to get ...</td>\n",
       "    </tr>\n",
       "    <tr>\n",
       "      <th>110</th>\n",
       "      <td>Call of Dutys New Extra Crispy Gun Lets You Co...</td>\n",
       "    </tr>\n",
       "  </tbody>\n",
       "</table>\n",
       "</div>"
      ],
      "text/plain": [
       "                                                 title\n",
       "0    AI-Crypto Startup Raises $85 Million in Deal L...\n",
       "1    Sentient closes $85M seed round for open-sourc...\n",
       "2    Peter Thiel's Founders Fund Leads $85M Seed In...\n",
       "3    Peter Thiel's Founders Fund co-leads $85 milli...\n",
       "4    Elon Musk says Grok 2 due in August, Grok 3 by...\n",
       "5    Elon Musk Announces JARVIS-Inspired xAI Grok 2...\n",
       "6    Elon Musk Reveals The Staggering Amount Of Nvi...\n",
       "7    Elon Musks xAI Using 100,000 NVIDIA H100 GPUs ...\n",
       "8    Europes Bitcoin Mining Giant Northern Data Eye...\n",
       "9    Northern Data May Be Testing Limits of AI Fren...\n",
       "10   Northern Data considers AI unit US IPO at up t...\n",
       "11   Ken Griffin is hitting pause on the AI hype, s...\n",
       "12   NVIDIAs CEO envisions a future where multi-sho...\n",
       "13   Here's the biggest risk to Nvidia being a $10 ...\n",
       "14   Nvidia may be appealing, but one fund manager ...\n",
       "15    The rise of the robots: charted - Morgan Stanley\n",
       "16   Morgan Stanley sees 8 million humanoids by 204...\n",
       "17   Tesla's humanoid opportunity is 'bigger' than ...\n",
       "18   Robinhood Purchases Pluto to Provide AI-Powere...\n",
       "19   2 Artificial Intelligence (AI) Stocks to Buy N...\n",
       "20   Morgan Stanley flags $30 trillion market AI ca...\n",
       "21   A prosthesis driven by the nervous system help...\n",
       "22   The Best Bionic Leg Yet | A surgical procedure...\n",
       "23   AI to use dead actress voice for audiobook of ...\n",
       "24   AI Firm ElevenLabs Sets Audio Reader Pact With...\n",
       "25   AI goes to Hollywood: James Dean, Judy Garland...\n",
       "26   Geoffrey Rush on AI, Why Animation Is His Game...\n",
       "27   Humans Will Soon Live 1,000 Years Using Biotec...\n",
       "28   Accelerating Business Transformation: SAP's St...\n",
       "29         SAP Business AI: Q2 2024 Release Highlights\n",
       "30   AI ecosystems, cloud transformation, and susta...\n",
       "31   SAP Charts A Course For The AI-Driven Enterpri...\n",
       "32   China eyes at least 50 sets of AI standards by...\n",
       "33   United Nations China US Artificial Intelligenc...\n",
       "34   China advocates for AI cooperation to advance ...\n",
       "35   UN adopts Chinese resolution with US support o...\n",
       "36   Xinhua News | UNGA adopts China-proposed resol...\n",
       "37   AI-generated exam papers go undetected in 94% ...\n",
       "38   AI Outperforms Students in Real-World Turing Test\n",
       "39   AI can beat real university students in exams,...\n",
       "40   Calif. bill would take steps to ensure AI mode...\n",
       "41      Meta is against Californias AI bill. Heres why\n",
       "42   AI companies are finally being forced to cough...\n",
       "43   Opinion: Record labels are suing artificial-in...\n",
       "44              AI is both liberating and enslaving us\n",
       "45   AI is learning from what you said on Reddit, S...\n",
       "46   Eye on the future - AI in supply chains and lo...\n",
       "47     Will GenAI accelerate autonomous supply chains?\n",
       "48   SPONSOREDHow next-gen AI technology is transfo...\n",
       "49   How isArtificial Intelligence(AI) is going to ...\n",
       "50   While some white collar workers may be worried...\n",
       "51   Robots, AI, EW: How War in Ukraine Re-Shapes M...\n",
       "52   New satellite aims to show how AI advances Ear...\n",
       "53   Running AI in the Field Could Boost Farming: S...\n",
       "54   Google emissions jump nearly 50% over five yea...\n",
       "55   Google falling short of important climate targ...\n",
       "56   AI Researcher Elon Musk Poached From OpenAI Re...\n",
       "57           Crusoe pivots to building AI data centers\n",
       "58   Announcing AI First Accelerator for startups i...\n",
       "59   Bird & Bird To Run Major POC With AI Startup Leya\n",
       "60   Empirical Health for Apple Watch now leverages...\n",
       "61   Apple chip orders suggest big demand for AI-bo...\n",
       "62   Apple just launched a public demo of its '4M' ...\n",
       "63                        Atunning AI spaghetti art...\n",
       "64   FL Studio 2024 introduces plugins to FL Cloud,...\n",
       "65   OmniParse: An AI Platform that Ingests/Parses ...\n",
       "66   Meta plans to bring generative AI to metaverse...\n",
       "67   Ajax Engineering Launches Concrete GPT, Game-C...\n",
       "68   Anthropic launches new program to fund creatio...\n",
       "69   The Gee Code: Will AI Teachers Assistants Beco...\n",
       "70   Apple Intelligence tipped to feature Google Ge...\n",
       "71   These new AI smart glasses are like getting a ...\n",
       "72   Google prepping an exclusive Pixel 9 AI with W...\n",
       "73   The Pixel 9s Google AI is like Microsoft Recal...\n",
       "74   Exclusive: New Google AI suite to debut with t...\n",
       "75   Pixel 9 to ship with 'Google AI' powering 'Stu...\n",
       "76   Source: Google plans AI features for the Pixel...\n",
       "77     France poised to bring 'charges against Nvidia'\n",
       "78   Nvidia's secret sauce is starting to worry reg...\n",
       "79   Nvidia Faces First AI Antitrust Charge, Accord...\n",
       "80   Galaxy S25 to offer AI upscaling for games tha...\n",
       "81   Snapdragon 8 Gen 4: Adreno 830 GPU rumoured to...\n",
       "82   Snapdragon 8 Gen 4 Rumored To Support GPU Inte...\n",
       "83   Meta Is ChangingArtificial IntelligenceLabels ...\n",
       "84   Photographers complaints lead Meta to revise A...\n",
       "85   Meta updates Made by AI label across Facebook,...\n",
       "86   Meta Switches AI Labels From 'Made With AI' to...\n",
       "87   Meta swaps Made with AI label with AI Info on ...\n",
       "88   Figma AI just copies Apple's Weather app every...\n",
       "89   Figma disables its recently launched generativ...\n",
       "90   How to Use Midjourney to Make a Logo for Your ...\n",
       "91          How to Use Runway Gen 3 to Create AI Video\n",
       "92   How to use Mesop Google's new AI user interfac...\n",
       "93   Add High-Quality AI Voice-Overs to Your Videos...\n",
       "94   You Can Ask YouTube to Take Down AI-Generated ...\n",
       "95   YouTube Now Supports Removal Requests for AI V...\n",
       "96   Drag queen AI chatbot offers advice, education...\n",
       "97   Generate AI stickers of yourself on WhatsApp u...\n",
       "98   How to use Meta AI in WhatsApp, Facebook and I...\n",
       "99   I tested HP's OmniBook X Copilot+ PC, and it a...\n",
       "100  Manners Matter? - The Impact of Politeness on ...\n",
       "101  Is Gemini's expanded context window as useful ...\n",
       "102  Show HN: Adding Mistral Codestral and GPT-4o t...\n",
       "103      Claude 3.5 Sonnet vs GPT-4o  An honest review\n",
       "104  LWiAI Podcast #172 - Claude and Gemini updates...\n",
       "105  Man uses AI to undress teen girl and is now fa...\n",
       "106  TWISTED PIC Texas man, 30, arrested after usin...\n",
       "107  PowerWash Simulator adds ten Xbox achievements...\n",
       "108  News outlets are accusing Perplexity of plagia...\n",
       "109  Assassin's Creed 'fans' are attempting to get ...\n",
       "110  Call of Dutys New Extra Crispy Gun Lets You Co..."
      ]
     },
     "metadata": {},
     "output_type": "display_data"
    }
   ],
   "source": [
    "AIdf=AIdf.reset_index(drop=True)\n",
    "with pd.option_context('display.max_rows', None):\n",
    "    display(AIdf[[\"title\"]])"
   ]
  },
  {
   "cell_type": "code",
   "execution_count": 39,
   "id": "12047601-67d0-4e60-b1e7-79d38349b58e",
   "metadata": {},
   "outputs": [
    {
     "name": "stderr",
     "output_type": "stream",
     "text": [
      "2024-07-02 12:40:31,395 - AInewsbot - INFO - [0. AI-Crypto Startup Raises $85 Million in Deal Led by Thiel's Fund - Google News](https://news.google.com/articles/CBMiSWh0dHBzOi8vZmluYW5jZS55YWhvby5jb20vbmV3cy9haS1jcnlwdG8tc3RhcnR1cC1yYWlzZXMtODUtMTMwMDAwNTUzLmh0bWzSAQA)\n",
      "2024-07-02 12:40:31,395 - AInewsbot - INFO - [1. Sentient closes $85M seed round for open-source AI - Google News](https://news.google.com/articles/CBMiR2h0dHBzOi8vY29pbnRlbGVncmFwaC5jb20vbmV3cy9zZW50aWVudC04NS1taWxsaW9uLXJvdW5kLW9wZW4tc291cmNlLWFp0gEA)\n",
      "2024-07-02 12:40:31,395 - AInewsbot - INFO - [2. Peter Thiel's Founders Fund Leads $85M Seed Investment Into Open-Source AI Platform Sentient - Google News](https://news.google.com/articles/CBMiiAFodHRwczovL3d3dy5jb2luZGVzay5jb20vYnVzaW5lc3MvMjAyNC8wNy8wMi9wZXRlci10aGllbHMtZm91bmRlcnMtZnVuZC1sZWFkcy04NW0tc2VlZC1pbnZlc3RtZW50LWludG8tb3Blbi1zb3VyY2UtYWktcGxhdGZvcm0tc2VudGllbnQv0gGMAWh0dHBzOi8vd3d3LmNvaW5kZXNrLmNvbS9idXNpbmVzcy8yMDI0LzA3LzAyL3BldGVyLXRoaWVscy1mb3VuZGVycy1mdW5kLWxlYWRzLTg1bS1zZWVkLWludmVzdG1lbnQtaW50by1vcGVuLXNvdXJjZS1haS1wbGF0Zm9ybS1zZW50aWVudC9hbXAv)\n",
      "2024-07-02 12:40:31,396 - AInewsbot - INFO - [3. Peter Thiel's Founders Fund co-leads $85 million seed round for open-source AI platform Sentient - Google News](https://news.google.com/articles/CBMiWWh0dHBzOi8vd3d3LnRoZWJsb2NrLmNvL3Bvc3QvMzAyOTgzL3BldGVyLXRoaWVsLWZvdW5kZXJzLWZ1bmQtc2VudGllbnQtZnVuZGluZy1haS1wb2x5Z29u0gFdaHR0cHM6Ly93d3cudGhlYmxvY2suY28vYW1wL3Bvc3QvMzAyOTgzL3BldGVyLXRoaWVsLWZvdW5kZXJzLWZ1bmQtc2VudGllbnQtZnVuZGluZy1haS1wb2x5Z29u)\n",
      "2024-07-02 12:40:31,396 - AInewsbot - INFO - [4. Elon Musk says Grok 2 due in August, Grok 3 by end of year - Google News](https://news.google.com/articles/CBMiVmh0dHBzOi8vd3d3Lm5lb3dpbi5uZXQvbmV3cy9lbG9uLW11c2stc2F5cy1ncm9rLTItZHVlLWluLWF1Z3VzdC1ncm9rLTMtYnktZW5kLW9mLXllYXIv0gEA)\n",
      "2024-07-02 12:40:31,396 - AInewsbot - INFO - [5. Elon Musk Announces JARVIS-Inspired xAI Grok 2 AI Chatbot Release Date - Google News](https://news.google.com/articles/CBMiXGh0dHBzOi8vY29pbmdhcGUuY29tL2Vsb24tbXVzay1hbm5vdW5jZXMtamFydmlzLWluc3BpcmVkLXhhaS1ncm9rLTItYWktY2hhdGJvdC1yZWxlYXNlLWRhdGUv0gFgaHR0cHM6Ly9jb2luZ2FwZS5jb20vZWxvbi1tdXNrLWFubm91bmNlcy1qYXJ2aXMtaW5zcGlyZWQteGFpLWdyb2stMi1haS1jaGF0Ym90LXJlbGVhc2UtZGF0ZS9hbXAv)\n",
      "2024-07-02 12:40:31,396 - AInewsbot - INFO - [6. Elon Musk Reveals The Staggering Amount Of Nvidia H100 GPUs That Will Be Used To Train xAI Chatbot Grok - Feedly AI](https://www.benzinga.com/news/24/07/39594885/elon-musk-reveals-the-staggering-amount-of-nvidia-h100-gpus-that-will-be-used-to-train-xai-chatbot-g)\n",
      "2024-07-02 12:40:31,396 - AInewsbot - INFO - [7. Elon Musks xAI Using 100,000 NVIDIA H100 GPUs To Train Grok 3 AI Model, Grok 2 To Launch By August - Google News](https://news.google.com/articles/CBMiZmh0dHBzOi8vd2NjZnRlY2guY29tL2Vsb24tbXVzay14YWktMTAwMDAwLW52aWRpYS1oMTAwLWdwdXMtdHJhaW4tZ3Jvay0zLWFpLW1vZGVsLWdyb2stMi1sYXVuY2gtYXVndXN0L9IBamh0dHBzOi8vd2NjZnRlY2guY29tL2Vsb24tbXVzay14YWktMTAwMDAwLW52aWRpYS1oMTAwLWdwdXMtdHJhaW4tZ3Jvay0zLWFpLW1vZGVsLWdyb2stMi1sYXVuY2gtYXVndXN0L2FtcC8)\n",
      "2024-07-02 12:40:31,396 - AInewsbot - INFO - [8. Europes Bitcoin Mining Giant Northern Data Eyes A US IPO With AI Move - Google News](https://news.google.com/articles/CBMiWmh0dHBzOi8vY29pbmdhcGUuY29tL2V1cm9wZS1iaXRjb2luLW1pbmluZy1naWFudC1ub3J0aGVybi1kYXRhLWV5ZXMtYS11cy1pcG8td2l0aC1haS1tb3ZlL9IBXmh0dHBzOi8vY29pbmdhcGUuY29tL2V1cm9wZS1iaXRjb2luLW1pbmluZy1naWFudC1ub3J0aGVybi1kYXRhLWV5ZXMtYS11cy1pcG8td2l0aC1haS1tb3ZlL2FtcC8)\n",
      "2024-07-02 12:40:31,396 - AInewsbot - INFO - [9. Northern Data May Be Testing Limits of AI Frenzy With Unit IPO - Bloomberg Tech](https://www.bloomberg.com/news/articles/2024-07-02/northern-data-may-be-testing-limits-of-ai-frenzy-with-unit-ipo)\n",
      "2024-07-02 12:40:31,396 - AInewsbot - INFO - [10. Northern Data considers AI unit US IPO at up to $16 billion, Bloomberg News reports - Google News](https://news.google.com/articles/CBMieWh0dHBzOi8vd3d3LmNoYW5uZWxuZXdzYXNpYS5jb20vYnVzaW5lc3Mvbm9ydGhlcm4tZGF0YS1jb25zaWRlcnMtYWktdW5pdC11cy1pcG8tMTYtYmlsbGlvbi1ibG9vbWJlcmctbmV3cy1yZXBvcnRzLTQ0NTAwNjbSAQA)\n",
      "2024-07-02 12:40:31,397 - AInewsbot - INFO - [11. Ken Griffin is hitting pause on the AI hype, saying he's unconvinced the tech will start replacing jobs in the next three years - Google News](https://news.google.com/articles/CBMiZWh0dHBzOi8vZm9ydHVuZS5jb20vMjAyNC8wNy8wMi9rZW4tZ3JpZmZpbi1jaXRhZGVsLWdlbmVyYXRpdmUtYWktaHlwZS1vcGVuYWktbWlyYS1tdXJhdGktbnZpZGlhLWpvYnMv0gEA)\n",
      "2024-07-02 12:40:31,397 - AInewsbot - INFO - [12. NVIDIAs CEO envisions a future where multi-shot agentic AIs  armed with reasoning superpowers outperform humans in the job market - Feedly AI](https://www.windowscentral.com/software-apps/nvidias-ceo-envisions-a-future-where-multi-shot-agentic-ais-armed-with-reasoning-superpowers-outperform-humans-in-the-job-market)\n",
      "2024-07-02 12:40:31,397 - AInewsbot - INFO - [13. Here's the biggest risk to Nvidia being a $10 trillion juggernaut - Google News](https://news.google.com/articles/CBMibWh0dHBzOi8vZmluYW5jZS55YWhvby5jb20vbmV3cy9oZXJlcy10aGUtYmlnZ2VzdC1yaXNrLXRvLW52aWRpYS1iZWluZy1hLTEwLXRyaWxsaW9uLWp1Z2dlcm5hdXQtMTU1NTA5NzcyLmh0bWzSAQA)\n",
      "2024-07-02 12:40:31,397 - AInewsbot - INFO - [14. Nvidia may be appealing, but one fund manager has a warning about some AI stocks - Google News](https://news.google.com/articles/CBMiemh0dHBzOi8vd3d3Lm1hcmtldHdhdGNoLmNvbS9zdG9yeS9udmlkaWEtbWF5LWJlLWFwcGVhbGluZy1idXQtb25lLWZ1bmQtbWFuYWdlci1oYXMtYS13YXJuaW5nLWFib3V0LXNvbWUtYWktc3RvY2tzLTZiZTgxNzY40gEA)\n",
      "2024-07-02 12:40:31,397 - AInewsbot - INFO - [15. The rise of the robots: charted - Morgan Stanley - Google News](https://news.google.com/articles/CBMiP2h0dHBzOi8vd3d3LmZ0LmNvbS9jb250ZW50L2ZjYzkxN2FiLTViMTItNDIyMi05MDFhLTY5MjJmMWQ2ODk0YdIBAA)\n",
      "2024-07-02 12:40:31,397 - AInewsbot - INFO - [16. Morgan Stanley sees 8 million humanoids by 2040, Tesla powering the transformation - Google News](https://news.google.com/articles/CBMiZmh0dHBzOi8vd3d3Lm1vbmV5Y29udHJvbC5jb20vdGVjaG5vbG9neS9tb3JnYW4tc3RhbmxleS1ub3RlLWh1bWFub2lkcy10ZXNsYS0yMDQwLWFydGljbGUtMTI3NjA1ODkuaHRtbNIBAA)\n",
      "2024-07-02 12:40:31,397 - AInewsbot - INFO - [17. Tesla's humanoid opportunity is 'bigger' than autonomous cars - Morgan Stanley By Investing.com - Google News](https://news.google.com/articles/CBMigwFodHRwczovL3d3dy5pbnZlc3RpbmcuY29tL25ld3Mvc3RvY2stbWFya2V0LW5ld3MvdGVzbGFzLWh1bWFub2lkLW9wcG9ydHVuaXR5LWlzLWJpZ2dlci10aGFuLWF1dG9ub21vdXMtY2Fycy0tbW9yZ2FuLXN0YW5sZXktMzUwMTg4MtIBAA)\n",
      "2024-07-02 12:40:31,397 - AInewsbot - INFO - [18. Robinhood Purchases Pluto to Provide AI-Powered Investment Advice - Google News](https://news.google.com/articles/CBMieGh0dHBzOi8vd3d3LnB5bW50cy5jb20vYXJ0aWZpY2lhbC1pbnRlbGxpZ2VuY2UtMi8yMDI0L3JvYmluaG9vZC1wdXJjaGFzZXMtcGx1dG8tdG8tcHJvdmlkZS1haS1wb3dlcmVkLWludmVzdG1lbnQtYWR2aWNlL9IBAA)\n",
      "2024-07-02 12:40:31,397 - AInewsbot - INFO - [19. 2 Artificial Intelligence (AI) Stocks to Buy Now That Could Make You a Millionaire - Google News](https://news.google.com/articles/CBMiUWh0dHBzOi8vd3d3LmZvb2wuY2EvMjAyNC8wNy8wMS9hcnRpZmljaWFsLWludGVsbGlnZW5jZS1haS1zdG9ja3MtYnV5LW1pbGxpb25haXJlL9IBAA)\n",
      "2024-07-02 12:40:31,398 - AInewsbot - INFO - [20. Morgan Stanley flags $30 trillion market AI can address, names stocks - Google News](https://news.google.com/articles/CBMiaGh0dHBzOi8vd3d3LmNuYmMuY29tLzIwMjQvMDcvMDIvbW9yZ2FuLXN0YW5sZXktZmxhZ3MtMzAtdHJpbGxpb24tbWFya2V0LWFpLWNhbi1hZGRyZXNzLW5hbWVzLXN0b2Nrcy5odG1s0gEA)\n",
      "2024-07-02 12:40:31,398 - AInewsbot - INFO - [21. A prosthesis driven by the nervous system helps people with amputation walk naturally - Reddit](https://www.reddit.com/r/gadgets/comments/1dtkvuc/a_prosthesis_driven_by_the_nervous_system_helps/)\n",
      "2024-07-02 12:40:31,398 - AInewsbot - INFO - [22. The Best Bionic Leg Yet | A surgical procedure and muscle-sensing electrodes allow neural control of a prosthetic limb - Reddit](https://www.reddit.com/r/gadgets/comments/1dtjbbi/the_best_bionic_leg_yet_a_surgical_procedure_and/)\n",
      "2024-07-02 12:40:31,398 - AInewsbot - INFO - [23. AI to use dead actress voice for audiobook of CNY natives novel: Buzz - Google News](https://news.google.com/articles/CBMieWh0dHBzOi8vd3d3LnN5cmFjdXNlLmNvbS9jZWxlYnJpdHktbmV3cy8yMDI0LzA3L2FpLXRvLXVzZS1kZWFkLWFjdHJlc3Mtdm9pY2UtZm9yLWF1ZGlvYm9vay1vZi1jbnktbmF0aXZlcy1ub3ZlbC1idXp6Lmh0bWzSAYgBaHR0cHM6Ly93d3cuc3lyYWN1c2UuY29tL2NlbGVicml0eS1uZXdzLzIwMjQvMDcvYWktdG8tdXNlLWRlYWQtYWN0cmVzcy12b2ljZS1mb3ItYXVkaW9ib29rLW9mLWNueS1uYXRpdmVzLW5vdmVsLWJ1enouaHRtbD9vdXRwdXRUeXBlPWFtcA)\n"
     ]
    },
    {
     "name": "stderr",
     "output_type": "stream",
     "text": [
      "2024-07-02 12:40:31,398 - AInewsbot - INFO - [24. AI Firm ElevenLabs Sets Audio Reader Pact With Judy Garland, James Dean, Burt Reynolds and Laurence Olivier Estates - Google News](https://news.google.com/articles/CBMibGh0dHBzOi8vdmFyaWV0eS5jb20vMjAyNC9iaXovbmV3cy9haS1qdWR5LWdhcmxhbmQtamFtZXMtZGVhbi1idXJ0LXJleW5vbGRzLWVsZXZlbmxhYnMtcmVhZGVyLWFwcC0xMjM2MDU4ODI5L9IBcGh0dHBzOi8vdmFyaWV0eS5jb20vMjAyNC9iaXovbmV3cy9haS1qdWR5LWdhcmxhbmQtamFtZXMtZGVhbi1idXJ0LXJleW5vbGRzLWVsZXZlbmxhYnMtcmVhZGVyLWFwcC0xMjM2MDU4ODI5L2FtcC8)\n",
      "2024-07-02 12:40:31,398 - AInewsbot - INFO - [25. AI goes to Hollywood: James Dean, Judy Garland and other stars will read to you now - for free - Google News](https://news.google.com/articles/CBMicGh0dHBzOi8vd3d3LnpkbmV0LmNvbS9hcnRpY2xlL2FpLWdvZXMtdG8taG9sbHl3b29kLWphbWVzLWRlYW4tanVkeS1nYXJsYW5kLWFuZC1vdGhlci1zdGFycy13aWxsLXJlYWQtdG8teW91LW5vdy_SAQA)\n",
      "2024-07-02 12:40:31,398 - AInewsbot - INFO - [26. Geoffrey Rush on AI, Why Animation Is His Game Show Specialty and His New Film With John Lithgow - Google News](https://news.google.com/articles/CBMib2h0dHBzOi8vd3d3LmhvbGx5d29vZHJlcG9ydGVyLmNvbS9tb3ZpZXMvbW92aWUtbmV3cy9nZW9mZnJleS1ydXNoLWFpLWpvaG4tbGl0aGdvdy1ncm91Y2hvLW1hcngtZmlsbS0xMjM1OTM3MjAxL9IBc2h0dHBzOi8vd3d3LmhvbGx5d29vZHJlcG9ydGVyLmNvbS9tb3ZpZXMvbW92aWUtbmV3cy9nZW9mZnJleS1ydXNoLWFpLWpvaG4tbGl0aGdvdy1ncm91Y2hvLW1hcngtZmlsbS0xMjM1OTM3MjAxL2FtcC8)\n",
      "2024-07-02 12:40:31,398 - AInewsbot - INFO - [27. Humans Will Soon Live 1,000 Years Using Biotech, AI And Nanobots, Claims Renowned Futurist - Feedly AI](https://brobible.com/culture/article/humans-live-1000-years-biotech-ai-nanobots/)\n",
      "2024-07-02 12:40:31,398 - AInewsbot - INFO - [28. Accelerating Business Transformation: SAP's Strategy Unveiled | Cloud Wars Live - Google News](https://news.google.com/articles/CBMid2h0dHBzOi8vYWNjZWxlcmF0aW9uZWNvbm9teS5jb20vY2xvdWQtd2Fycy9hY2NlbGVyYXRpbmctYnVzaW5lc3MtdHJhbnNmb3JtYXRpb24tc2Fwcy1zdHJhdGVneS11bnZlaWxlZC1jbG91ZC13YXJzLWxpdmUv0gEA)\n",
      "2024-07-02 12:40:31,399 - AInewsbot - INFO - [29. SAP Business AI: Q2 2024 Release Highlights - Google News](https://news.google.com/articles/CBMiOGh0dHBzOi8vbmV3cy5zYXAuY29tLzIwMjQvMDcvc2FwLWJ1c2luZXNzLWFpLXEyLXJlbGVhc2Uv0gE-aHR0cHM6Ly9uZXdzLnNhcC5jb20vMjAyNC8wNy9zYXAtYnVzaW5lc3MtYWktcTItcmVsZWFzZS8_YW1wPTE)\n",
      "2024-07-02 12:40:31,399 - AInewsbot - INFO - [30. AI ecosystems, cloud transformation, and sustainable AI lead our key learnings from SAP Sapphire 2024 - Google News](https://news.google.com/articles/CBMihQFodHRwczovL25ld3Muc2FwLmNvbS9zZWEvMjAyNC8wNi9haS1lY29zeXN0ZW1zLWNsb3VkLXRyYW5zZm9ybWF0aW9uLWFuZC1zdXN0YWluYWJsZS1haS1sZWFkLW91ci1rZXktbGVhcm5pbmdzLWZyb20tc2FwLXNhcHBoaXJlLTIwMjQv0gEA)\n",
      "2024-07-02 12:40:31,399 - AInewsbot - INFO - [31. SAP Charts A Course For The AI-Driven Enterprise At Sapphire 2024 - Google News](https://news.google.com/articles/CBMid2h0dHBzOi8vd3d3LmZvcmJlcy5jb20vc2l0ZXMvbW9vcmluc2lnaHRzLzIwMjQvMDYvMjcvc2FwLWNoYXJ0cy1hLWNvdXJzZS1mb3ItdGhlLWFpLWRyaXZlbi1lbnRlcnByaXNlLWF0LXNhcHBoaXJlLTIwMjQv0gEA)\n",
      "2024-07-02 12:40:31,399 - AInewsbot - INFO - [32. China eyes at least 50 sets of AI standards by 2026, from chips to applications and safety - Feedly AI](https://www.scmp.com/tech/tech-trends/article/3268907/china-eyes-least-50-sets-ai-standards-2026-chips-applications-and-safety)\n",
      "2024-07-02 12:40:31,399 - AInewsbot - INFO - [33. United Nations China US Artificial Intelligence | National News | postregister.com - Google News](https://news.google.com/articles/CBMiigFodHRwczovL3d3dy5wb3N0cmVnaXN0ZXIuY29tL25ld3MvbmF0aW9uYWwvdW5pdGVkLW5hdGlvbnMtY2hpbmEtdXMtYXJ0aWZpY2lhbC1pbnRlbGxpZ2VuY2UvaW1hZ2VfMGUwOGM2ZTQtNmZlNC01YTEyLWE0NWMtN2JmODRmZTA2ZjNiLmh0bWzSAQA)\n",
      "2024-07-02 12:40:31,399 - AInewsbot - INFO - [34. China advocates for AI cooperation to advance women's rights - Google News](https://news.google.com/articles/CBMiUWh0dHBzOi8vZW5nbGlzaC53d3cuZ292LmNuL25ld3MvMjAyNDA3LzAyL2NvbnRlbnRfV1M2NjgzNTQzNGM2ZDA4NjhmNGU4ZThjMjYuaHRtbNIBAA)\n",
      "2024-07-02 12:40:31,399 - AInewsbot - INFO - [35. UN adopts Chinese resolution with US support on closing the gap in access toartificial intelligence - Feedly AI](https://www.actionnewsjax.com/news/un-adopts-chinese/PFICKEUIWRBSVNZPEONWYP6DB4/)\n",
      "2024-07-02 12:40:31,400 - AInewsbot - INFO - [36. Xinhua News | UNGA adopts China-proposed resolution to enhance int'l cooperation on AI capacity-building - Google News](https://news.google.com/articles/CBMiSGh0dHBzOi8vZW5nbGlzaC5uZXdzLmNuLzIwMjQwNzAyL2IzMWFhMGRlYTgwNDRkY2JhNThmZDBhMzJkNDM0ZDEyL2MuaHRtbNIBAA)\n",
      "2024-07-02 12:40:31,400 - AInewsbot - INFO - [37. AI-generated exam papers go undetected in 94% of cases - study - Google News](https://news.google.com/articles/CBMiamh0dHBzOi8vd3d3LmV1cm9uZXdzLmNvbS9uZXh0LzIwMjQvMDcvMDIvYWktZ2VuZXJhdGVkLWV4YW0tcGFwZXJzLWdvLXVuZGV0ZWN0ZWQtaW4tOTQtb2YtY2FzZXMtc3R1ZHktZmluZHPSAQA)\n",
      "2024-07-02 12:40:31,400 - AInewsbot - INFO - [38. AI Outperforms Students in Real-World Turing Test - Google News](https://news.google.com/articles/CBMiS2h0dHBzOi8vc2NpdGVjaGRhaWx5LmNvbS9haS1vdXRwZXJmb3Jtcy1zdHVkZW50cy1pbi1yZWFsLXdvcmxkLXR1cmluZy10ZXN0L9IBAA)\n",
      "2024-07-02 12:40:31,400 - AInewsbot - INFO - [39. AI can beat real university students in exams, study suggests - Google News](https://news.google.com/articles/CBMiMGh0dHBzOi8vd3d3LmJiYy5jby51ay9uZXdzL2FydGljbGVzL2NxcXFsbjBlZzY1b9IBAA)\n",
      "2024-07-02 12:40:31,400 - AInewsbot - INFO - [40. Calif. bill would take steps to ensure AI models won't cause catastrophic events - Google News](https://news.google.com/articles/CBMie2h0dHBzOi8vd3d3Lm5wci5vcmcvMjAyNC8wNy8wMi9ueC1zMS01MDIwMzE3L2NhbGlmLWJpbGwtd291bGQtdGFrZS1zdGVwcy10by1lbnN1cmUtYWktbW9kZWxzLXdvbnQtY2F1c2UtY2F0YXN0cm9waGljLWV2ZW50c9IBAA)\n",
      "2024-07-02 12:40:31,400 - AInewsbot - INFO - [41. Meta is against Californias AI bill. Heres why - Feedly AI](https://www.fastcompany.com/91150396/meta-is-against-californias-ai-bill-heres-why)\n",
      "2024-07-02 12:40:31,400 - AInewsbot - INFO - [42. AI companies are finally being forced to cough up for training data - Google News](https://news.google.com/articles/CBMieGh0dHBzOi8vd3d3LnRlY2hub2xvZ3lyZXZpZXcuY29tLzIwMjQvMDcvMDIvMTA5NDUwOC9haS1jb21wYW5pZXMtYXJlLWZpbmFsbHktYmVpbmctZm9yY2VkLXRvLWNvdWdoLXVwLWZvci10cmFpbmluZy1kYXRhL9IBfGh0dHBzOi8vd3d3LnRlY2hub2xvZ3lyZXZpZXcuY29tLzIwMjQvMDcvMDIvMTA5NDUwOC9haS1jb21wYW5pZXMtYXJlLWZpbmFsbHktYmVpbmctZm9yY2VkLXRvLWNvdWdoLXVwLWZvci10cmFpbmluZy1kYXRhL2FtcC8)\n",
      "2024-07-02 12:40:31,400 - AInewsbot - INFO - [43. Opinion: Record labels are suing artificial-intelligence companies. Here's why that's important - Google News](https://news.google.com/articles/CBMigAFodHRwczovL3d3dy50aGVnbG9iZWFuZG1haWwuY29tL2J1c2luZXNzL2NvbW1lbnRhcnkvYXJ0aWNsZS1yZWNvcmQtbGFiZWxzLWFyZS1zdWluZy1hcnRpZmljaWFsLWludGVsbGlnZW5jZS1jb21wYW5pZXMtaGVyZXMtd2h5L9IBAA)\n",
      "2024-07-02 12:40:31,400 - AInewsbot - INFO - [44. AI is both liberating and enslaving us - Google News](https://news.google.com/articles/CBMiS2h0dHBzOi8vd3d3LnNwZWN0YXRvci5jby51ay9hcnRpY2xlL2FpLWlzLWJvdGgtbGliZXJhdGluZy1hbmQtZW5zbGF2aW5nLXVzL9IBAA)\n",
      "2024-07-02 12:40:31,401 - AInewsbot - INFO - [45. AI is learning from what you said on Reddit, Stack Overflow or Facebook. Are you OK with that? - Feedly AI](https://www.newsday.com/business/genai-training-data-stack-overflow-reddit-q91223)\n",
      "2024-07-02 12:40:31,401 - AInewsbot - INFO - [46. Eye on the future - AI in supply chains and logistics - Google News](https://news.google.com/articles/CBMiW2h0dHBzOi8vd3d3Lm1hZXJzay5jb20vaW5zaWdodHMvZGlnaXRhbGlzYXRpb24vMjAyNC8wNy8wMi9haS1pbi1sb2dpc3RpY3MtYW5kLXN1cHBseS1jaGFpbnPSAQA)\n",
      "2024-07-02 12:40:31,401 - AInewsbot - INFO - [47. Will GenAI accelerate autonomous supply chains? - Google News](https://news.google.com/articles/CBMiaGh0dHBzOi8vd3d3LmV5LmNvbS9lbl9zZS9jb25zdWx0aW5nL2hvdy13aWxsLWdlbi1haS1wcm9tcHQtYS1zdGVwLWNoYW5nZS10b3dhcmQtYXV0b25vbW91cy1zdXBwbHktY2hhaW5z0gEA)\n",
      "2024-07-02 12:40:31,401 - AInewsbot - INFO - [48. SPONSOREDHow next-gen AI technology is transforming daily work for employees - VentureBeat](https://venturebeat.com/ai/how-next-gen-ai-technology-is-transforming-daily-work-for-employees/)\n",
      "2024-07-02 12:40:31,401 - AInewsbot - INFO - [49. How isArtificial Intelligence(AI) is going to effect the World Economy - Feedly AI](https://www.geeky-gadgets.com/ai-and-the-world-economy/)\n"
     ]
    },
    {
     "name": "stderr",
     "output_type": "stream",
     "text": [
      "2024-07-02 12:40:31,401 - AInewsbot - INFO - [50. While some white collar workers may be worried, logistics and transport sectors are optimistic on AI - Google News](https://news.google.com/articles/CBMiXWh0dHBzOi8vZGlnaW5vbWljYS5jb20vd2hpdGUtY29sbGFyLXdvcmtlcnMtd29ycmllZC1sb2dpc3RpY3MtdHJhbnNwb3J0LXNlY3RvcnMtb3B0aW1pc3RpYy1hadIBYWh0dHBzOi8vZGlnaW5vbWljYS5jb20vd2hpdGUtY29sbGFyLXdvcmtlcnMtd29ycmllZC1sb2dpc3RpY3MtdHJhbnNwb3J0LXNlY3RvcnMtb3B0aW1pc3RpYy1haT9hbXA)\n",
      "2024-07-02 12:40:31,401 - AInewsbot - INFO - [51. Robots, AI, EW: How War in Ukraine Re-Shapes Military Tech - HackerNoon](https://hackernoon.com/robots-ai-ew-how-war-in-ukraine-re-shapes-military-tech)\n",
      "2024-07-02 12:40:31,401 - AInewsbot - INFO - [52. New satellite aims to show how AI advances Earth observation - Feedly AI](https://phys.org/news/2024-07-satellite-aims-ai-advances-earth.html)\n",
      "2024-07-02 12:40:31,401 - AInewsbot - INFO - [53. Running AI in the Field Could Boost Farming: Study - Google News](https://news.google.com/articles/CBMiO2h0dHBzOi8vZGVjcnlwdC5jby8yMzc5NzgvZWRnZS1haS1mYXJtaW5nLWFncmljdWx0dXJlLXN0dWR50gFBaHR0cHM6Ly9kZWNyeXB0LmNvLzIzNzk3OC9lZGdlLWFpLWZhcm1pbmctYWdyaWN1bHR1cmUtc3R1ZHk_YW1wPTE)\n",
      "2024-07-02 12:40:31,402 - AInewsbot - INFO - [54. Google emissions jump nearly 50% over five years as AI use surges - FT Tech](https://www.ft.com/content/383719aa-df38-4ae3-ab0e-6279a897915e)\n",
      "2024-07-02 12:40:31,402 - AInewsbot - INFO - [55. Google falling short of important climate target, cites electricity needs of AI - Feedly AI](https://www.wsbtv.com/news/google-falling-short/BSRKU3BGJJGNPOHMBWGXQVBYJM/)\n",
      "2024-07-02 12:40:31,402 - AInewsbot - INFO - [56. AI Researcher Elon Musk Poached From OpenAI Returns to OpenAI - Feedly AI](https://futurism.com/the-byte/xai-researcher-returns-openai)\n",
      "2024-07-02 12:40:31,402 - AInewsbot - INFO - [57. Crusoe pivots to building AI data centers - Google News](https://news.google.com/articles/CBMiZ2h0dHBzOi8vd3d3LmRhdGFjZW50ZXJkeW5hbWljcy5jb20vZW4vbmV3cy9jcnVzb2UtcGl2b3RzLXRvLWJ1aWxkaW5nLWRhdGEtY2VudGVycy1wbGFucy0xMDBtdy1mYWNpbGl0eS_SAQA)\n",
      "2024-07-02 12:40:31,402 - AInewsbot - INFO - [58. Announcing AI First Accelerator for startups in the Middle East and Turkey - Feedly AI](https://cloud.google.com/blog/topics/startups/google-for-startups-accelerator-ai-first-mena-t/)\n",
      "2024-07-02 12:40:31,402 - AInewsbot - INFO - [59. Bird & Bird To Run Major POC With AI Startup Leya - Google News](https://news.google.com/articles/CBMiXGh0dHBzOi8vd3d3LmFydGlmaWNpYWxsYXd5ZXIuY29tLzIwMjQvMDcvMDIvYmlyZC1iaXJkLXRvLXJ1bi1tYWpvci1wb2Mtd2l0aC1haS1zdGFydHVwLWxleWEv0gEA)\n",
      "2024-07-02 12:40:31,402 - AInewsbot - INFO - [60. Empirical Health for Apple Watch now leverages AI with your data and real physicians - Feedly AI](https://9to5mac.com/2024/07/02/empirical-health-for-apple-watch-now-leverages-ai-with-your-data-and-real-physicians/)\n",
      "2024-07-02 12:40:31,403 - AInewsbot - INFO - [61. Apple chip orders suggest big demand for AI-boosted iPhone 16 - Feedly AI](https://www.cultofmac.com/861543/high-demand-for-iphone-16/)\n",
      "2024-07-02 12:40:31,403 - AInewsbot - INFO - [62. Apple just launched a public demo of its '4M' AI model: Here's why it's a big deal - Google News](https://news.google.com/articles/CBMiaWh0dHBzOi8vdmVudHVyZWJlYXQuY29tL2FpL2FwcGxlLWp1c3QtbGF1bmNoZWQtYS1wdWJsaWMtZGVtby1vZi1pdHMtNG0tYWktbW9kZWwtaGVyZXMtd2h5LWl0cy1hLWJpZy1kZWFsL9IBAA)\n",
      "2024-07-02 12:40:31,403 - AInewsbot - INFO - [63. Atunning AI spaghetti art... - Reddit](https://www.reddit.com/r/ChatGPT/comments/1dtnn0y/atunning_ai_spaghetti_art/)\n",
      "2024-07-02 12:40:31,403 - AInewsbot - INFO - [64. FL Studio 2024 introduces plugins to FL Cloud, adds powerful new AI features, effects, and workflow improvements - Google News](https://news.google.com/articles/CBMibWh0dHBzOi8vd3d3LnJhZGlvYW5kbXVzaWMuY29tL2Jpei9tdXNpYy9tdXNpYy1zZXJ2aWNlcy8yNDA3MDItZmwtc3R1ZGlvLTIwMjQtaW50cm9kdWNlcy1wbHVnaW5zLWZsLWNsb3VkLWFkZHPSAXFodHRwczovL3d3dy5yYWRpb2FuZG11c2ljLmNvbS9iaXovbXVzaWMvbXVzaWMtc2VydmljZXMvMjQwNzAyLWZsLXN0dWRpby0yMDI0LWludHJvZHVjZXMtcGx1Z2lucy1mbC1jbG91ZC1hZGRzP2FtcA)\n",
      "2024-07-02 12:40:31,403 - AInewsbot - INFO - [65. OmniParse: An AI Platform that Ingests/Parses Any Unstructured Data into Structured, Actionable Data Optimized for GenAI (LLM) Applications - Google News](https://news.google.com/articles/CBMisAFodHRwczovL3d3dy5tYXJrdGVjaHBvc3QuY29tLzIwMjQvMDcvMDIvb21uaXBhcnNlLWFuLWFpLXBsYXRmb3JtLXRoYXQtaW5nZXN0cy1wYXJzZXMtYW55LXVuc3RydWN0dXJlZC1kYXRhLWludG8tc3RydWN0dXJlZC1hY3Rpb25hYmxlLWRhdGEtb3B0aW1pemVkLWZvci1nZW5haS1sbG0tYXBwbGljYXRpb25zL9IBtAFodHRwczovL3d3dy5tYXJrdGVjaHBvc3QuY29tLzIwMjQvMDcvMDIvb21uaXBhcnNlLWFuLWFpLXBsYXRmb3JtLXRoYXQtaW5nZXN0cy1wYXJzZXMtYW55LXVuc3RydWN0dXJlZC1kYXRhLWludG8tc3RydWN0dXJlZC1hY3Rpb25hYmxlLWRhdGEtb3B0aW1pemVkLWZvci1nZW5haS1sbG0tYXBwbGljYXRpb25zLz9hbXA)\n",
      "2024-07-02 12:40:31,403 - AInewsbot - INFO - [66. Meta plans to bring generative AI to metaverse games - Feedly AI](https://techcrunch.com/2024/07/02/meta-plans-to-bring-generative-ai-to-metaverse-games/)\n",
      "2024-07-02 12:40:31,403 - AInewsbot - INFO - [67. Ajax Engineering Launches Concrete GPT, Game-Changing AI Platform for Concrete Industry - Feedly AI](https://www.techtimes.com/articles/306271/20240702/ajax-engineering-launches-concrete-gpt-game-changing-ai-platform-industry.htm)\n",
      "2024-07-02 12:40:31,403 - AInewsbot - INFO - [68. Anthropic launches new program to fund creation of more reliable AI benchmarks - SiliconANGLE - Feedly AI](https://siliconangle.com/2024/07/01/anthropic-launches-new-program-fund-creation-reliable-ai-benchmarks/)\n",
      "2024-07-02 12:40:31,404 - AInewsbot - INFO - [69. The Gee Code: Will AI Teachers Assistants Become Normalized at HBCUs? - Feedly AI](https://yr.media/tech/gee-code-ai-teachers-assistants-hbcu-morehouse-miranda-perez/)\n",
      "2024-07-02 12:40:31,404 - AInewsbot - INFO - [70. Apple Intelligence tipped to feature Google Gemini integration at launch, as well as ChatGPT - Google News](https://news.google.com/articles/CBMilwFodHRwczovL3d3dy50ZWNocmFkYXIuY29tL2NvbXB1dGluZy9hcnRpZmljaWFsLWludGVsbGlnZW5jZS9hcHBsZS1pbnRlbGxpZ2VuY2UtdGlwcGVkLXRvLWZlYXR1cmUtZ29vZ2xlLWdlbWluaS1pbnRlZ3JhdGlvbi1hdC1sYXVuY2gtYXMtd2VsbC1hcy1jaGF0Z3B00gEA)\n",
      "2024-07-02 12:40:31,404 - AInewsbot - INFO - [71. These new AI smart glasses are like getting a second pair of ChatGPT-powered eyes - Feedly AI](https://www.techradar.com/computing/artificial-intelligence/these-new-ai-smart-glasses-are-like-getting-a-second-pair-of-chatgpt-powered-eyes)\n",
      "2024-07-02 12:40:31,404 - AInewsbot - INFO - [72. Google prepping an exclusive Pixel 9 AI with Windows Recall-like functionality - Feedly AI](https://www.androidpolice.com/google-ai-prepping-pixel-9-windows-recall-like-functionality/)\n",
      "2024-07-02 12:40:31,404 - AInewsbot - INFO - [73. The Pixel 9s Google AI is like Microsoft Recall but a little less creepy - The Verge](https://www.theverge.com/2024/7/2/24190730/google-ai-pixel-phones-recall-like-feature)\n",
      "2024-07-02 12:40:31,404 - AInewsbot - INFO - [74. Exclusive: New Google AI suite to debut with the Pixel 9 series - Google News](https://news.google.com/articles/CBMiQmh0dHBzOi8vd3d3LmFuZHJvaWRhdXRob3JpdHkuY29tL2dvb2dsZS1haS1yZWNhbGwtcGl4ZWwtOS0zNDU2Mzk5L9IBAA)\n",
      "2024-07-02 12:40:31,404 - AInewsbot - INFO - [75. Pixel 9 to ship with 'Google AI' powering 'Studio' and Recall-like screenshot analysis - Google News](https://news.google.com/articles/CBMiNGh0dHBzOi8vOXRvNWdvb2dsZS5jb20vMjAyNC8wNy8wMi9waXhlbC05LWdvb2dsZS1haS_SAQA)\n",
      "2024-07-02 12:40:31,404 - AInewsbot - INFO - [76. Source: Google plans AI features for the Pixel 9 under the Google AI brand, like Pixel Screenshots, which lets users search their screenshots using on-device AI - Techmeme](https://www.androidauthority.com/google-ai-recall-pixel-9-3456399/)\n",
      "2024-07-02 12:40:31,404 - AInewsbot - INFO - [77. France poised to bring 'charges against Nvidia' - Google News](https://news.google.com/articles/CBMiQWh0dHBzOi8vd3d3LnRoZXJlZ2lzdGVyLmNvbS8yMDI0LzA3LzAxL2ZyZW5jaF9udmlkaWFfY29tcGV0aXRpb24v0gFFaHR0cHM6Ly93d3cudGhlcmVnaXN0ZXIuY29tL0FNUC8yMDI0LzA3LzAxL2ZyZW5jaF9udmlkaWFfY29tcGV0aXRpb24v)\n",
      "2024-07-02 12:40:31,405 - AInewsbot - INFO - [78. Nvidia's secret sauce is starting to worry regulators - Google News](https://news.google.com/articles/CBMiXGh0dHBzOi8vd3d3LmJ1c2luZXNzaW5zaWRlci5jb20vbnZpZGlhLXNlY3JldC1zYXVjZS1yZWd1bGF0b3JzLWdwdS1jaGlwcy1qZW5zZW4taHVhbmctMjAyNC030gFgaHR0cHM6Ly93d3cuYnVzaW5lc3NpbnNpZGVyLmNvbS9udmlkaWEtc2VjcmV0LXNhdWNlLXJlZ3VsYXRvcnMtZ3B1LWNoaXBzLWplbnNlbi1odWFuZy0yMDI0LTc_YW1w)\n"
     ]
    },
    {
     "name": "stderr",
     "output_type": "stream",
     "text": [
      "2024-07-02 12:40:31,405 - AInewsbot - INFO - [79. Nvidia Faces First AI Antitrust Charge, According to Report - Google News](https://news.google.com/articles/CBMiPWh0dHBzOi8vd3d3LmJhcnJvbnMuY29tL2FydGljbGVzL252aWRpYS1hbnRpdHJ1c3QtYWktNzhjMWM1NDjSAUFodHRwczovL3d3dy5iYXJyb25zLmNvbS9hbXAvYXJ0aWNsZXMvbnZpZGlhLWFudGl0cnVzdC1haS03OGMxYzU0OA)\n",
      "2024-07-02 12:40:31,405 - AInewsbot - INFO - [80. Galaxy S25 to offer AI upscaling for games thanks to its SoC - Google News](https://news.google.com/articles/CBMiWGh0dHBzOi8vd3d3LmFuZHJvaWRoZWFkbGluZXMuY29tLzIwMjQvMDcvZ2FsYXh5LXMyNS10by1vZmZlci1haS11cHNjYWxpbmctZm9yLWdhbWVzLmh0bWzSAQA)\n",
      "2024-07-02 12:40:31,405 - AInewsbot - INFO - [81. Snapdragon 8 Gen 4: Adreno 830 GPU rumoured to launch with DLSS Frame Generation-like feature - Google News](https://news.google.com/articles/CBMiiAFodHRwczovL3d3dy5ub3RlYm9va2NoZWNrLm5ldC9TbmFwZHJhZ29uLTgtR2VuLTQtQWRyZW5vLTgzMC1HUFUtcnVtb3VyZWQtdG8tbGF1bmNoLXdpdGgtRExTUy1GcmFtZS1HZW5lcmF0aW9uLWxpa2UtZmVhdHVyZS44NTQwMDAuMC5odG1s0gEA)\n",
      "2024-07-02 12:40:31,405 - AInewsbot - INFO - [82. Snapdragon 8 Gen 4 Rumored To Support GPU Interpolation Technology, Hinting At Frame Generation Arriving To The SoC, Boosting Gaming Performance - Google News](https://news.google.com/articles/CBMiV2h0dHBzOi8vd2NjZnRlY2guY29tL3NuYXBkcmFnb24tOC1nZW4tNC1zdXBwb3J0cy1ncHUtaW50ZXJwb2xhdGlvbi1vci1mcmFtZS1nZW5lcmF0aW9uL9IBW2h0dHBzOi8vd2NjZnRlY2guY29tL3NuYXBkcmFnb24tOC1nZW4tNC1zdXBwb3J0cy1ncHUtaW50ZXJwb2xhdGlvbi1vci1mcmFtZS1nZW5lcmF0aW9uL2FtcC8)\n",
      "2024-07-02 12:40:31,405 - AInewsbot - INFO - [83. Meta Is ChangingArtificial IntelligenceLabels After Real Photos Were Marked As AI - Feedly AI](https://www.cnet.com/tech/services-and-software/meta-is-changing-artificial-intelligence-labels-after-real-photos-were-marked-as-ai/)\n",
      "2024-07-02 12:40:31,405 - AInewsbot - INFO - [84. Photographers complaints lead Meta to revise AI-generated image labels on Facebook, Instagram - Google News](https://news.google.com/articles/CBMimgFodHRwczovL3d3dy5tb25leWNvbnRyb2wuY29tL3RlY2hub2xvZ3kvcGhvdG9ncmFwaGVycy1jb21wbGFpbnRzLWxlYWQtbWV0YS10by1yZXZpc2UtYWktZ2VuZXJhdGVkLWltYWdlLWxhYmVscy1vbi1mYWNlYm9vay1pbnN0YWdyYW0tYXJ0aWNsZS0xMjc2MDE2OS5odG1s0gGeAWh0dHBzOi8vd3d3Lm1vbmV5Y29udHJvbC5jb20vdGVjaG5vbG9neS9waG90b2dyYXBoZXJzLWNvbXBsYWludHMtbGVhZC1tZXRhLXRvLXJldmlzZS1haS1nZW5lcmF0ZWQtaW1hZ2UtbGFiZWxzLW9uLWZhY2Vib29rLWluc3RhZ3JhbS1hcnRpY2xlLTEyNzYwMTY5Lmh0bWwvYW1w)\n",
      "2024-07-02 12:40:31,406 - AInewsbot - INFO - [85. Meta updates Made by AI label across Facebook, Instagram: Heres what is changing - Google News](https://news.google.com/articles/CBMingFodHRwczovL3RpbWVzb2ZpbmRpYS5pbmRpYXRpbWVzLmNvbS90ZWNobm9sb2d5L3NvY2lhbC9tZXRhLXVwZGF0ZXMtbWFkZS1ieS1haS1sYWJlbC1hY3Jvc3MtZmFjZWJvb2staW5zdGFncmFtLWhlcmVzLXdoYXQtaXMtY2hhbmdpbmcvYXJ0aWNsZXNob3cvMTExNDEzMjYyLmNtc9IBogFodHRwczovL3RpbWVzb2ZpbmRpYS5pbmRpYXRpbWVzLmNvbS90ZWNobm9sb2d5L3NvY2lhbC9tZXRhLXVwZGF0ZXMtbWFkZS1ieS1haS1sYWJlbC1hY3Jvc3MtZmFjZWJvb2staW5zdGFncmFtLWhlcmVzLXdoYXQtaXMtY2hhbmdpbmcvYW1wX2FydGljbGVzaG93LzExMTQxMzI2Mi5jbXM)\n",
      "2024-07-02 12:40:31,406 - AInewsbot - INFO - [86. Meta Switches AI Labels From 'Made With AI' to 'AI Info' Tag - Google News](https://news.google.com/articles/CBMiVmh0dHBzOi8vd3d3LnNvY2lhbG1lZGlhdG9kYXkuY29tL25ld3MvbWV0YS1zd2l0Y2hlcy1haS1sYWJlbHMtbWFkZS1haS1pbmZvLXRhZy83MjAzODQv0gEA)\n",
      "2024-07-02 12:40:31,406 - AInewsbot - INFO - [87. Meta swaps Made with AI label with AI Info on photos, know reason why - Google News](https://news.google.com/articles/CBMifmh0dHBzOi8vd3d3LmZpbmFuY2lhbGV4cHJlc3MuY29tL2xpZmUvdGVjaG5vbG9neS1tZXRhLXN3YXBzLW1hZGUtd2l0aC1haS1sYWJlbC13aXRoLWFpLWluZm8tb24tcGhvdG9zLWtub3ctcmVhc29uLXdoeS0zNTQxNDQyL9IBAA)\n",
      "2024-07-02 12:40:31,406 - AInewsbot - INFO - [88. Figma AI just copies Apple's Weather app every time - Google News](https://news.google.com/articles/CBMiNGh0dHBzOi8vOXRvNW1hYy5jb20vMjAyNC8wNy8wMi9maWdtYS1haS13ZWF0aGVyLWFwcC_SAQA)\n",
      "2024-07-02 12:40:31,406 - AInewsbot - INFO - [89. Figma disables its recently launched generative AI app design tool Make Design, after a user showed it copied Apple's Weather when asked to design a weather app - Techmeme](https://www.404media.co/figma-disables-ai-app-design-tool-after-it-copied-apples-weather-app/)\n",
      "2024-07-02 12:40:31,406 - AInewsbot - INFO - [90. How to Use Midjourney to Make a Logo for Your Business -- or Not - Feedly AI](https://www.cnet.com/tech/services-and-software/how-to-use-midjourney-to-make-a-logo-for-your-business-or-not/)\n",
      "2024-07-02 12:40:31,406 - AInewsbot - INFO - [91. How to Use Runway Gen 3 to Create AI Video - Feedly AI](https://www.geeky-gadgets.com/how-to-use-runway-gen-3-to-create-ai-video/)\n",
      "2024-07-02 12:40:31,406 - AInewsbot - INFO - [92. How to use Mesop Google's new AI user interface (UI) Builder - Feedly AI](https://www.geeky-gadgets.com/how-to-use-mesop-googles-new-ai-user-interface-ui-builder/)\n",
      "2024-07-02 12:40:31,407 - AInewsbot - INFO - [93. Add High-Quality AI Voice-Overs to Your Videos with Artlist - Feedly AI](https://nofilmschool.com/artlist-ai-voice-over)\n",
      "2024-07-02 12:40:31,407 - AInewsbot - INFO - [94. You Can Ask YouTube to Take Down AI-Generated Content That Looks or Sounds Like You - Feedly AI](https://gizmodo.com/youtube-ai-content-deepfakes-1851572121)\n",
      "2024-07-02 12:40:31,407 - AInewsbot - INFO - [95. YouTube Now Supports Removal Requests for AI Videos That Look, Sound Like You - Google News](https://news.google.com/articles/CBMiY2h0dHBzOi8vd3d3LnBjbWFnLmNvbS9uZXdzL3lvdXR1YmUtbm93LXN1cHBvcnRzLXJlbW92YWwtcmVxdWVzdHMtZm9yLWFpLXZpZGVvcy10aGF0LWxvb2stc291bmQtbGlrZdIBAA)\n",
      "2024-07-02 12:40:31,407 - AInewsbot - INFO - [96. Drag queen AI chatbot offers advice, education on HIV and STIs - Google News](https://news.google.com/articles/CBMiaGh0dHBzOi8vd3d3LnN0YXRuZXdzLmNvbS8yMDI0LzA3LzAyL2RyYWctcXVlZW4tYWktY2hhdGJvdC1haWRzLWhlYWx0aGNhcmUtZm91bmRhdGlvbi1lZHVjYXRpb24tb3V0cmVhY2gv0gEA)\n",
      "2024-07-02 12:40:31,407 - AInewsbot - INFO - [97. Generate AI stickers of yourself on WhatsApp using \"Image Me\" feature powered by Meta AI - Google News](https://news.google.com/articles/CBMiggFodHRwczovL3d3dy5ub3RlYm9va2NoZWNrLm5ldC9HZW5lcmF0ZS1BSS1zdGlja2Vycy1vZi15b3Vyc2VsZi1vbi1XaGF0c0FwcC11c2luZy1JbWFnZS1NZS1mZWF0dXJlLXBvd2VyZWQtYnktTWV0YS1BSS44NTU5NTkuMC5odG1s0gEA)\n",
      "2024-07-02 12:40:31,407 - AInewsbot - INFO - [98. How to use Meta AI in WhatsApp, Facebook and Instagram to Get Answers Quickly - Google News](https://news.google.com/articles/CBMiWWh0dHBzOi8vd3d3LmphZ3Jhbmpvc2guY29tL2dlbmVyYWwta25vd2xlZGdlL2hvdy10by11c2UtbWV0YS1haS1pbi1tZXRhLWFwcHMtMTcxOTgzODAzOC0x0gFdaHR0cHM6Ly93d3cuamFncmFuam9zaC5jb20vZ2VuZXJhbC1rbm93bGVkZ2UvYW1wL2hvdy10by11c2UtbWV0YS1haS1pbi1tZXRhLWFwcHMtMTcxOTgzODAzOC0x)\n",
      "2024-07-02 12:40:31,407 - AInewsbot - INFO - [99. I tested HP's OmniBook X Copilot+ PC, and it almost made me a Windows on ARM believer - Feedly AI](https://www.zdnet.com/article/i-tested-the-hp-omnibook-x-copilot-pc-and-it-nearly-made-me-a-windows-on-arm-believer/)\n",
      "2024-07-02 12:40:31,407 - AInewsbot - INFO - [100. Manners Matter? - The Impact of Politeness on Human-LLM Interaction - HackerNoon](https://hackernoon.com/manners-matter-the-impact-of-politeness-on-human-llm-interaction)\n",
      "2024-07-02 12:40:31,407 - AInewsbot - INFO - [101. Is Gemini's expanded context window as useful as we thought? - Feedly AI](https://www.androidcentral.com/apps-software/is-geminis-expanded-context-window-as-useful-as-we-thought)\n",
      "2024-07-02 12:40:31,408 - AInewsbot - INFO - [102. Show HN: Adding Mistral Codestral and GPT-4o to Jupyter Notebooks - Hacker News](https://github.com/pretzelai/pretzelai/blob/main/README.md)\n",
      "2024-07-02 12:40:31,408 - AInewsbot - INFO - [103. Claude 3.5 Sonnet vs GPT-4o  An honest review - HackerNoon](https://hackernoon.com/claude-35-sonnet-vs-gpt-4o-an-honest-review)\n",
      "2024-07-02 12:40:31,408 - AInewsbot - INFO - [104. LWiAI Podcast #172 - Claude and Gemini updates, Gemma 2, GPT-4 Critic - Feedly AI](https://lastweekin.ai/p/lwiai-podcast-172-claude-and-gemini)\n",
      "2024-07-02 12:40:31,408 - AInewsbot - INFO - [105. Man uses AI to undress teen girl and is now facing child porn charges, Texas cops say - Feedly AI](https://www.star-telegram.com/news/state/texas/article289691769.html)\n",
      "2024-07-02 12:40:31,408 - AInewsbot - INFO - [106. TWISTED PIC Texas man, 30, arrested after using deep fakeartificial intelligenceprogram to undress underage girl - Feedly AI](https://www.the-sun.com/news/11788500/roman-shoffner-texas-ai-artificial-intelligence-teen-clothing-removed/)\n"
     ]
    },
    {
     "name": "stderr",
     "output_type": "stream",
     "text": [
      "2024-07-02 12:40:31,408 - AInewsbot - INFO - [107. PowerWash Simulator adds ten Xbox achievements with Alice's Adventures DLC - Google News](https://news.google.com/articles/CBMiVWh0dHBzOi8vd3d3LnRydWVhY2hpZXZlbWVudHMuY29tL25ld3MvYWxpY2VzLWFkdmVudHVyZXMtc3BlY2lhbC1wYWNrLWRsYy1hY2hpZXZlbWVudHPSAQA)\n",
      "2024-07-02 12:40:31,409 - AInewsbot - INFO - [108. News outlets are accusing Perplexity of plagiarism and unethical web scraping - Feedly AI](https://techcrunch.com/2024/07/02/news-outlets-are-accusing-perplexity-of-plagiarism-and-unethical-web-scraping/)\n",
      "2024-07-02 12:40:31,409 - AInewsbot - INFO - [109. Assassin's Creed 'fans' are attempting to get Shadows cancelled - Google News](https://news.google.com/articles/CBMiXWh0dHBzOi8vd3d3LmdhbWluZ2JpYmxlLmNvbS9uZXdzL2Fzc2Fzc2lucy1jcmVlZC1zaGFkb3dzLWF0dGVtcHRpbmctY2FuY2VsbGVkLTE0NTU5Ny0yMDI0MDcwMtIBAA)\n",
      "2024-07-02 12:40:31,409 - AInewsbot - INFO - [110. Call of Dutys New Extra Crispy Gun Lets You Cook, Eat, and Turn Your Enemies Into Fried Chicken and People Are Blaming It All on Fortnite Once Again - Google News](https://news.google.com/articles/CBMirwFodHRwczovL3d3dy5pZ24uY29tL2FydGljbGVzL2NhbGwtb2YtZHV0eXMtbmV3LWV4dHJhLWNyaXNweS1ndW4tbGV0cy15b3UtY29vay1lYXQtYW5kLXR1cm4teW91ci1lbmVtaWVzLWludG8tZnJpZWQtY2hpY2tlbi1hbmQtcGVvcGxlLWFyZS1ibGFtaW5nLWl0LWFsbC1vbi1mb3J0bml0ZS1vbmNlLWFnYWlu0gEA)\n"
     ]
    }
   ],
   "source": [
    "html_str = \"\"\n",
    "for row in AIdf.itertuples():\n",
    "    log(f\"[{row.Index}. {row.title} - {row.src}]({row.url})\")\n",
    "    html_str += f'{row.Index}.<a href=\"{row.url}\">{row.title} - {row.src}</a><br />\\n'\n"
   ]
  },
  {
   "cell_type": "code",
   "execution_count": 40,
   "id": "c65cf9ed-62c1-46b2-b105-8495cbc83d23",
   "metadata": {},
   "outputs": [
    {
     "name": "stderr",
     "output_type": "stream",
     "text": [
      "2024-07-02 12:40:31,412 - AInewsbot - INFO - Sending mail\n",
      "2024-07-02 12:40:32,698 - AInewsbot - INFO - Finished\n"
     ]
    },
    {
     "data": {
      "text/plain": [
       "20"
      ]
     },
     "execution_count": 40,
     "metadata": {},
     "output_type": "execute_result"
    }
   ],
   "source": [
    "log(\"Sending mail\")\n",
    "from_addr = os.getenv(\"GMAIL_USER\")\n",
    "to_addr = os.getenv(\"GMAIL_USER\")\n",
    "subject = 'AI news ' + datetime.now().strftime('%H:%M:%S')\n",
    "body = f\"\"\"\n",
    "<html>\n",
    "    <head></head>\n",
    "    <body>\n",
    "    <div>\n",
    "    {html_str}\n",
    "    </div>\n",
    "    </body>\n",
    "</html>\n",
    "\"\"\"\n",
    "\n",
    "# Setup the MIME\n",
    "message = MIMEMultipart()\n",
    "message['From'] = os.getenv(\"GMAIL_USER\")\n",
    "message['To'] = os.getenv(\"GMAIL_USER\")\n",
    "message['Subject'] = subject\n",
    "message.attach(MIMEText(body, 'html'))\n",
    "\n",
    "# Create SMTP session\n",
    "with smtplib.SMTP('smtp.gmail.com', 587) as server:\n",
    "    server.starttls()  # Secure the connection\n",
    "    server.login(os.getenv(\"GMAIL_USER\"), os.getenv(\"GMAIL_PASSWORD\"))\n",
    "    text = message.as_string()\n",
    "    server.sendmail(from_addr, to_addr, text)\n",
    "\n",
    "log(\"Finished\")\n"
   ]
  },
  {
   "cell_type": "code",
   "execution_count": 41,
   "id": "0a235b47-a89e-4a94-a4c7-bf36eadaad9b",
   "metadata": {},
   "outputs": [
    {
     "data": {
      "text/html": [
       "<div>\n",
       "<style scoped>\n",
       "    .dataframe tbody tr th:only-of-type {\n",
       "        vertical-align: middle;\n",
       "    }\n",
       "\n",
       "    .dataframe tbody tr th {\n",
       "        vertical-align: top;\n",
       "    }\n",
       "\n",
       "    .dataframe thead th {\n",
       "        text-align: right;\n",
       "    }\n",
       "</style>\n",
       "<table border=\"1\" class=\"dataframe\">\n",
       "  <thead>\n",
       "    <tr style=\"text-align: right;\">\n",
       "      <th></th>\n",
       "      <th>title_clean</th>\n",
       "      <th>id</th>\n",
       "      <th>src</th>\n",
       "      <th>title</th>\n",
       "      <th>url</th>\n",
       "      <th>isAI</th>\n",
       "      <th>date</th>\n",
       "    </tr>\n",
       "  </thead>\n",
       "  <tbody>\n",
       "    <tr>\n",
       "      <th>0</th>\n",
       "      <td>AI-CryptoStartupRaises$85MillioninDealLedbyThi...</td>\n",
       "      <td>438</td>\n",
       "      <td>Google News</td>\n",
       "      <td>AI-Crypto Startup Raises $85 Million in Deal L...</td>\n",
       "      <td>https://news.google.com/articles/CBMiSWh0dHBzO...</td>\n",
       "      <td>True</td>\n",
       "      <td>2024-07-02</td>\n",
       "    </tr>\n",
       "    <tr>\n",
       "      <th>1</th>\n",
       "      <td>Sentientcloses$85Mseedroundforopen-sourceAI</td>\n",
       "      <td>508</td>\n",
       "      <td>Google News</td>\n",
       "      <td>Sentient closes $85M seed round for open-sourc...</td>\n",
       "      <td>https://news.google.com/articles/CBMiR2h0dHBzO...</td>\n",
       "      <td>True</td>\n",
       "      <td>2024-07-02</td>\n",
       "    </tr>\n",
       "    <tr>\n",
       "      <th>2</th>\n",
       "      <td>PeterThiel'sFoundersFundLeads$85MSeedInvestmen...</td>\n",
       "      <td>353</td>\n",
       "      <td>Google News</td>\n",
       "      <td>Peter Thiel's Founders Fund Leads $85M Seed In...</td>\n",
       "      <td>https://news.google.com/articles/CBMiiAFodHRwc...</td>\n",
       "      <td>True</td>\n",
       "      <td>2024-07-02</td>\n",
       "    </tr>\n",
       "    <tr>\n",
       "      <th>3</th>\n",
       "      <td>PeterThiel'sFoundersFundco-leads$85millionseed...</td>\n",
       "      <td>624</td>\n",
       "      <td>Google News</td>\n",
       "      <td>Peter Thiel's Founders Fund co-leads $85 milli...</td>\n",
       "      <td>https://news.google.com/articles/CBMiWWh0dHBzO...</td>\n",
       "      <td>True</td>\n",
       "      <td>2024-07-02</td>\n",
       "    </tr>\n",
       "    <tr>\n",
       "      <th>4</th>\n",
       "      <td>ElonMusksaysGrok2dueinAugust,Grok3byendofyear</td>\n",
       "      <td>639</td>\n",
       "      <td>Google News</td>\n",
       "      <td>Elon Musk says Grok 2 due in August, Grok 3 by...</td>\n",
       "      <td>https://news.google.com/articles/CBMiVmh0dHBzO...</td>\n",
       "      <td>True</td>\n",
       "      <td>2024-07-02</td>\n",
       "    </tr>\n",
       "    <tr>\n",
       "      <th>...</th>\n",
       "      <td>...</td>\n",
       "      <td>...</td>\n",
       "      <td>...</td>\n",
       "      <td>...</td>\n",
       "      <td>...</td>\n",
       "      <td>...</td>\n",
       "      <td>...</td>\n",
       "    </tr>\n",
       "    <tr>\n",
       "      <th>106</th>\n",
       "      <td>TWISTEDPICTexasman,30,arrestedafterusingdeepfa...</td>\n",
       "      <td>208</td>\n",
       "      <td>Feedly AI</td>\n",
       "      <td>TWISTED PIC Texas man, 30, arrested after usin...</td>\n",
       "      <td>https://www.the-sun.com/news/11788500/roman-sh...</td>\n",
       "      <td>True</td>\n",
       "      <td>2024-07-02</td>\n",
       "    </tr>\n",
       "    <tr>\n",
       "      <th>107</th>\n",
       "      <td>PowerWashSimulatoraddstenXboxachievementswithA...</td>\n",
       "      <td>641</td>\n",
       "      <td>Google News</td>\n",
       "      <td>PowerWash Simulator adds ten Xbox achievements...</td>\n",
       "      <td>https://news.google.com/articles/CBMiVWh0dHBzO...</td>\n",
       "      <td>True</td>\n",
       "      <td>2024-07-02</td>\n",
       "    </tr>\n",
       "    <tr>\n",
       "      <th>108</th>\n",
       "      <td>NewsoutletsareaccusingPerplexityofplagiarisman...</td>\n",
       "      <td>196</td>\n",
       "      <td>Feedly AI</td>\n",
       "      <td>News outlets are accusing Perplexity of plagia...</td>\n",
       "      <td>https://techcrunch.com/2024/07/02/news-outlets...</td>\n",
       "      <td>True</td>\n",
       "      <td>2024-07-02</td>\n",
       "    </tr>\n",
       "    <tr>\n",
       "      <th>109</th>\n",
       "      <td>Assassin'sCreed'fans'areattemptingtogetShadows...</td>\n",
       "      <td>572</td>\n",
       "      <td>Google News</td>\n",
       "      <td>Assassin's Creed 'fans' are attempting to get ...</td>\n",
       "      <td>https://news.google.com/articles/CBMiXWh0dHBzO...</td>\n",
       "      <td>True</td>\n",
       "      <td>2024-07-02</td>\n",
       "    </tr>\n",
       "    <tr>\n",
       "      <th>110</th>\n",
       "      <td>CallofDutysNewExtraCrispyGunLetsYouCook,Eat,an...</td>\n",
       "      <td>372</td>\n",
       "      <td>Google News</td>\n",
       "      <td>Call of Dutys New Extra Crispy Gun Lets You Co...</td>\n",
       "      <td>https://news.google.com/articles/CBMirwFodHRwc...</td>\n",
       "      <td>True</td>\n",
       "      <td>2024-07-02</td>\n",
       "    </tr>\n",
       "  </tbody>\n",
       "</table>\n",
       "<p>111 rows × 7 columns</p>\n",
       "</div>"
      ],
      "text/plain": [
       "                                           title_clean   id          src  \\\n",
       "0    AI-CryptoStartupRaises$85MillioninDealLedbyThi...  438  Google News   \n",
       "1          Sentientcloses$85Mseedroundforopen-sourceAI  508  Google News   \n",
       "2    PeterThiel'sFoundersFundLeads$85MSeedInvestmen...  353  Google News   \n",
       "3    PeterThiel'sFoundersFundco-leads$85millionseed...  624  Google News   \n",
       "4        ElonMusksaysGrok2dueinAugust,Grok3byendofyear  639  Google News   \n",
       "..                                                 ...  ...          ...   \n",
       "106  TWISTEDPICTexasman,30,arrestedafterusingdeepfa...  208    Feedly AI   \n",
       "107  PowerWashSimulatoraddstenXboxachievementswithA...  641  Google News   \n",
       "108  NewsoutletsareaccusingPerplexityofplagiarisman...  196    Feedly AI   \n",
       "109  Assassin'sCreed'fans'areattemptingtogetShadows...  572  Google News   \n",
       "110  CallofDutysNewExtraCrispyGunLetsYouCook,Eat,an...  372  Google News   \n",
       "\n",
       "                                                 title  \\\n",
       "0    AI-Crypto Startup Raises $85 Million in Deal L...   \n",
       "1    Sentient closes $85M seed round for open-sourc...   \n",
       "2    Peter Thiel's Founders Fund Leads $85M Seed In...   \n",
       "3    Peter Thiel's Founders Fund co-leads $85 milli...   \n",
       "4    Elon Musk says Grok 2 due in August, Grok 3 by...   \n",
       "..                                                 ...   \n",
       "106  TWISTED PIC Texas man, 30, arrested after usin...   \n",
       "107  PowerWash Simulator adds ten Xbox achievements...   \n",
       "108  News outlets are accusing Perplexity of plagia...   \n",
       "109  Assassin's Creed 'fans' are attempting to get ...   \n",
       "110  Call of Dutys New Extra Crispy Gun Lets You Co...   \n",
       "\n",
       "                                                   url  isAI        date  \n",
       "0    https://news.google.com/articles/CBMiSWh0dHBzO...  True  2024-07-02  \n",
       "1    https://news.google.com/articles/CBMiR2h0dHBzO...  True  2024-07-02  \n",
       "2    https://news.google.com/articles/CBMiiAFodHRwc...  True  2024-07-02  \n",
       "3    https://news.google.com/articles/CBMiWWh0dHBzO...  True  2024-07-02  \n",
       "4    https://news.google.com/articles/CBMiVmh0dHBzO...  True  2024-07-02  \n",
       "..                                                 ...   ...         ...  \n",
       "106  https://www.the-sun.com/news/11788500/roman-sh...  True  2024-07-02  \n",
       "107  https://news.google.com/articles/CBMiVWh0dHBzO...  True  2024-07-02  \n",
       "108  https://techcrunch.com/2024/07/02/news-outlets...  True  2024-07-02  \n",
       "109  https://news.google.com/articles/CBMiXWh0dHBzO...  True  2024-07-02  \n",
       "110  https://news.google.com/articles/CBMirwFodHRwc...  True  2024-07-02  \n",
       "\n",
       "[111 rows x 7 columns]"
      ]
     },
     "execution_count": 41,
     "metadata": {},
     "output_type": "execute_result"
    }
   ],
   "source": [
    "AIdf\n"
   ]
  },
  {
   "cell_type": "code",
   "execution_count": 42,
   "id": "9583fd28",
   "metadata": {},
   "outputs": [
    {
     "name": "stdout",
     "output_type": "stream",
     "text": [
      "Enqueuing URLs\n"
     ]
    }
   ],
   "source": [
    "# fetch pages\n",
    "# Create a queue for multiprocessing and populate it \n",
    "print(\"Enqueuing URLs\")\n",
    "\n",
    "queue = multiprocessing.Queue()\n",
    "for row in AIdf.itertuples():\n",
    "    queue.put((row.id, row.url, row.title))\n",
    "    "
   ]
  },
  {
   "cell_type": "code",
   "execution_count": 43,
   "id": "d9206123",
   "metadata": {},
   "outputs": [
    {
     "data": {
      "text/plain": [
       "<function ainb_webscrape.get_url(url, driver=None)>"
      ]
     },
     "execution_count": 43,
     "metadata": {},
     "output_type": "execute_result"
    }
   ],
   "source": [
    "get_url\n"
   ]
  },
  {
   "cell_type": "code",
   "execution_count": 44,
   "id": "fe930e25",
   "metadata": {},
   "outputs": [
    {
     "name": "stderr",
     "output_type": "stream",
     "text": [
      "2024-07-02 12:40:32,732 - AInewsbot - INFO - get_driver - 22257 Initializing webdriver\n",
      "2024-07-02 12:40:32,733 - AInewsbot - INFO - get_driver - 22257 Initializing webdriver\n",
      "2024-07-02 12:40:32,733 - AInewsbot - INFO - get_driver - 22257 Initializing webdriver\n",
      "2024-07-02 12:40:32,733 - AInewsbot - INFO - get_driver - 22257 Initializing webdriver\n"
     ]
    },
    {
     "name": "stdout",
     "output_type": "stream",
     "text": [
      "fetching 111 pages using 4 browsers\n"
     ]
    },
    {
     "name": "stderr",
     "output_type": "stream",
     "text": [
      "2024-07-02 12:40:52,134 - AInewsbot - INFO - get_driver - Initialized webdriver profile\n",
      "2024-07-02 12:40:52,135 - AInewsbot - INFO - get_driver - Initialized webdriver profile\n",
      "2024-07-02 12:40:52,135 - AInewsbot - INFO - get_driver - Initialized webdriver profile\n",
      "2024-07-02 12:40:52,135 - AInewsbot - INFO - get_driver - Initialized webdriver profile\n",
      "2024-07-02 12:40:52,135 - AInewsbot - INFO - get_driver - Initialized webdriver service\n",
      "2024-07-02 12:40:52,136 - AInewsbot - INFO - get_driver - Initialized webdriver service\n",
      "2024-07-02 12:40:52,136 - AInewsbot - INFO - get_driver - Initialized webdriver service\n",
      "2024-07-02 12:40:52,137 - AInewsbot - INFO - get_driver - Initialized webdriver service\n",
      "2024-07-02 12:41:51,276 - AInewsbot - INFO - get_driver - Initialized webdriver\n",
      "2024-07-02 12:41:51,363 - AInewsbot - INFO - Processing https://news.google.com/articles/CBMiSWh0dHBzOi8vZmluYW5jZS55YWhvby5jb20vbmV3cy9haS1jcnlwdG8tc3RhcnR1cC1yYWlzZXMtODUtMTMwMDAwNTUzLmh0bWzSAQA\n",
      "2024-07-02 12:41:51,365 - AInewsbot - INFO - get_url(https://news.google.com/articles/CBMiSWh0dHBzOi8vZmluYW5jZS55YWhvby5jb20vbmV3cy9haS1jcnlwdG8tc3RhcnR1cC1yYWlzZXMtODUtMTMwMDAwNTUzLmh0bWzSAQA) - starting get_files https://news.google.com/articles/CBMiSWh0dHBzOi8vZmluYW5jZS55YWhvby5jb20vbmV3cy9haS1jcnlwdG8tc3RhcnR1cC1yYWlzZXMtODUtMTMwMDAwNTUzLmh0bWzSAQA\n",
      "2024-07-02 12:41:53,809 - AInewsbot - INFO - get_driver - Initialized webdriver\n",
      "2024-07-02 12:41:53,816 - AInewsbot - INFO - Processing https://news.google.com/articles/CBMiR2h0dHBzOi8vY29pbnRlbGVncmFwaC5jb20vbmV3cy9zZW50aWVudC04NS1taWxsaW9uLXJvdW5kLW9wZW4tc291cmNlLWFp0gEA\n",
      "2024-07-02 12:41:53,817 - AInewsbot - INFO - get_url(https://news.google.com/articles/CBMiR2h0dHBzOi8vY29pbnRlbGVncmFwaC5jb20vbmV3cy9zZW50aWVudC04NS1taWxsaW9uLXJvdW5kLW9wZW4tc291cmNlLWFp0gEA) - starting get_files https://news.google.com/articles/CBMiR2h0dHBzOi8vY29pbnRlbGVncmFwaC5jb20vbmV3cy9zZW50aWVudC04NS1taWxsaW9uLXJvdW5kLW9wZW4tc291cmNlLWFp0gEA\n",
      "2024-07-02 12:41:53,875 - AInewsbot - INFO - get_driver - Initialized webdriver\n",
      "2024-07-02 12:41:53,902 - AInewsbot - INFO - Processing https://news.google.com/articles/CBMiiAFodHRwczovL3d3dy5jb2luZGVzay5jb20vYnVzaW5lc3MvMjAyNC8wNy8wMi9wZXRlci10aGllbHMtZm91bmRlcnMtZnVuZC1sZWFkcy04NW0tc2VlZC1pbnZlc3RtZW50LWludG8tb3Blbi1zb3VyY2UtYWktcGxhdGZvcm0tc2VudGllbnQv0gGMAWh0dHBzOi8vd3d3LmNvaW5kZXNrLmNvbS9idXNpbmVzcy8yMDI0LzA3LzAyL3BldGVyLXRoaWVscy1mb3VuZGVycy1mdW5kLWxlYWRzLTg1bS1zZWVkLWludmVzdG1lbnQtaW50by1vcGVuLXNvdXJjZS1haS1wbGF0Zm9ybS1zZW50aWVudC9hbXAv\n",
      "2024-07-02 12:41:53,904 - AInewsbot - INFO - get_url(https://news.google.com/articles/CBMiiAFodHRwczovL3d3dy5jb2luZGVzay5jb20vYnVzaW5lc3MvMjAyNC8wNy8wMi9wZXRlci10aGllbHMtZm91bmRlcnMtZnVuZC1sZWFkcy04NW0tc2VlZC1pbnZlc3RtZW50LWludG8tb3Blbi1zb3VyY2UtYWktcGxhdGZvcm0tc2VudGllbnQv0gGMAWh0dHBzOi8vd3d3LmNvaW5kZXNrLmNvbS9idXNpbmVzcy8yMDI0LzA3LzAyL3BldGVyLXRoaWVscy1mb3VuZGVycy1mdW5kLWxlYWRzLTg1bS1zZWVkLWludmVzdG1lbnQtaW50by1vcGVuLXNvdXJjZS1haS1wbGF0Zm9ybS1zZW50aWVudC9hbXAv) - starting get_files https://news.google.com/articles/CBMiiAFodHRwczovL3d3dy5jb2luZGVzay5jb20vYnVzaW5lc3MvMjAyNC8wNy8wMi9wZXRlci10aGllbHMtZm91bmRlcnMtZnVuZC1sZWFkcy04NW0tc2VlZC1pbnZlc3RtZW50LWludG8tb3Blbi1zb3VyY2UtYWktcGxhdGZvcm0tc2VudGllbnQv0gGMAWh0dHBzOi8vd3d3LmNvaW5kZXNrLmNvbS9idXNpbmVzcy8yMDI0LzA3LzAyL3BldGVyLXRoaWVscy1mb3VuZGVycy1mdW5kLWxlYWRzLTg1bS1zZWVkLWludmVzdG1lbnQtaW50by1vcGVuLXNvdXJjZS1haS1wbGF0Zm9ybS1zZW50aWVudC9hbXAv\n",
      "2024-07-02 12:41:55,555 - AInewsbot - INFO - get_driver - Initialized webdriver\n",
      "2024-07-02 12:41:55,561 - AInewsbot - INFO - Processing https://news.google.com/articles/CBMiWWh0dHBzOi8vd3d3LnRoZWJsb2NrLmNvL3Bvc3QvMzAyOTgzL3BldGVyLXRoaWVsLWZvdW5kZXJzLWZ1bmQtc2VudGllbnQtZnVuZGluZy1haS1wb2x5Z29u0gFdaHR0cHM6Ly93d3cudGhlYmxvY2suY28vYW1wL3Bvc3QvMzAyOTgzL3BldGVyLXRoaWVsLWZvdW5kZXJzLWZ1bmQtc2VudGllbnQtZnVuZGluZy1haS1wb2x5Z29u\n",
      "2024-07-02 12:41:55,562 - AInewsbot - INFO - get_url(https://news.google.com/articles/CBMiWWh0dHBzOi8vd3d3LnRoZWJsb2NrLmNvL3Bvc3QvMzAyOTgzL3BldGVyLXRoaWVsLWZvdW5kZXJzLWZ1bmQtc2VudGllbnQtZnVuZGluZy1haS1wb2x5Z29u0gFdaHR0cHM6Ly93d3cudGhlYmxvY2suY28vYW1wL3Bvc3QvMzAyOTgzL3BldGVyLXRoaWVsLWZvdW5kZXJzLWZ1bmQtc2VudGllbnQtZnVuZGluZy1haS1wb2x5Z29u) - starting get_files https://news.google.com/articles/CBMiWWh0dHBzOi8vd3d3LnRoZWJsb2NrLmNvL3Bvc3QvMzAyOTgzL3BldGVyLXRoaWVsLWZvdW5kZXJzLWZ1bmQtc2VudGllbnQtZnVuZGluZy1haS1wb2x5Z29u0gFdaHR0cHM6Ly93d3cudGhlYmxvY2suY28vYW1wL3Bvc3QvMzAyOTgzL3BldGVyLXRoaWVsLWZvdW5kZXJzLWZ1bmQtc2VudGllbnQtZnVuZGluZy1haS1wb2x5Z29u\n",
      "2024-07-02 12:42:05,494 - AInewsbot - INFO - Message: Unable to locate element: //meta[@http-equiv='Content-Type']; For documentation on this error, please visit: https://www.selenium.dev/documentation/webdriver/troubleshooting/errors#no-such-element-exception\n",
      "Stacktrace:\n",
      "RemoteError@chrome://remote/content/shared/RemoteError.sys.mjs:8:8\n",
      "WebDriverError@chrome://remote/content/shared/webdriver/Errors.sys.mjs:192:5\n",
      "NoSuchElementError@chrome://remote/content/shared/webdriver/Errors.sys.mjs:510:5\n",
      "dom.find/</<@chrome://remote/content/shared/DOM.sys.mjs:136:16\n",
      "\n",
      "2024-07-02 12:42:05,495 - AInewsbot - INFO - get_url(AI-Crypto_Startup_Raises__85_Million_in_Deal_Led_by_Thiel_s_Fund) - Saving AI-Crypto_Startup_Raises__85_Million_in_Deal_Led_by_Thiel_s_Fund_20240702_124205.html as utf-8\n",
      "2024-07-02 12:42:05,498 - AInewsbot - INFO - Processing https://news.google.com/articles/CBMiVmh0dHBzOi8vd3d3Lm5lb3dpbi5uZXQvbmV3cy9lbG9uLW11c2stc2F5cy1ncm9rLTItZHVlLWluLWF1Z3VzdC1ncm9rLTMtYnktZW5kLW9mLXllYXIv0gEA\n",
      "2024-07-02 12:42:05,498 - AInewsbot - INFO - get_url(https://news.google.com/articles/CBMiVmh0dHBzOi8vd3d3Lm5lb3dpbi5uZXQvbmV3cy9lbG9uLW11c2stc2F5cy1ncm9rLTItZHVlLWluLWF1Z3VzdC1ncm9rLTMtYnktZW5kLW9mLXllYXIv0gEA) - starting get_files https://news.google.com/articles/CBMiVmh0dHBzOi8vd3d3Lm5lb3dpbi5uZXQvbmV3cy9lbG9uLW11c2stc2F5cy1ncm9rLTItZHVlLWluLWF1Z3VzdC1ncm9rLTMtYnktZW5kLW9mLXllYXIv0gEA\n",
      "2024-07-02 12:42:06,789 - AInewsbot - INFO - Message: Unable to locate element: //meta[@http-equiv='Content-Type']; For documentation on this error, please visit: https://www.selenium.dev/documentation/webdriver/troubleshooting/errors#no-such-element-exception\n",
      "Stacktrace:\n",
      "RemoteError@chrome://remote/content/shared/RemoteError.sys.mjs:8:8\n",
      "WebDriverError@chrome://remote/content/shared/webdriver/Errors.sys.mjs:192:5\n",
      "NoSuchElementError@chrome://remote/content/shared/webdriver/Errors.sys.mjs:510:5\n",
      "dom.find/</<@chrome://remote/content/shared/DOM.sys.mjs:136:16\n",
      "\n",
      "2024-07-02 12:42:06,789 - AInewsbot - INFO - get_url(AI_Platform_Sentient__Which_is_Being_Built_on_Polygon__Raises__85M_Seed_Round) - Saving AI_Platform_Sentient__Which_is_Being_Built_on_Polygon__Raises__85M_Seed_Round_20240702_124206.html as utf-8\n",
      "2024-07-02 12:42:06,798 - AInewsbot - INFO - Processing https://news.google.com/articles/CBMiXGh0dHBzOi8vY29pbmdhcGUuY29tL2Vsb24tbXVzay1hbm5vdW5jZXMtamFydmlzLWluc3BpcmVkLXhhaS1ncm9rLTItYWktY2hhdGJvdC1yZWxlYXNlLWRhdGUv0gFgaHR0cHM6Ly9jb2luZ2FwZS5jb20vZWxvbi1tdXNrLWFubm91bmNlcy1qYXJ2aXMtaW5zcGlyZWQteGFpLWdyb2stMi1haS1jaGF0Ym90LXJlbGVhc2UtZGF0ZS9hbXAv\n",
      "2024-07-02 12:42:06,798 - AInewsbot - INFO - get_url(https://news.google.com/articles/CBMiXGh0dHBzOi8vY29pbmdhcGUuY29tL2Vsb24tbXVzay1hbm5vdW5jZXMtamFydmlzLWluc3BpcmVkLXhhaS1ncm9rLTItYWktY2hhdGJvdC1yZWxlYXNlLWRhdGUv0gFgaHR0cHM6Ly9jb2luZ2FwZS5jb20vZWxvbi1tdXNrLWFubm91bmNlcy1qYXJ2aXMtaW5zcGlyZWQteGFpLWdyb2stMi1haS1jaGF0Ym90LXJlbGVhc2UtZGF0ZS9hbXAv) - starting get_files https://news.google.com/articles/CBMiXGh0dHBzOi8vY29pbmdhcGUuY29tL2Vsb24tbXVzay1hbm5vdW5jZXMtamFydmlzLWluc3BpcmVkLXhhaS1ncm9rLTItYWktY2hhdGJvdC1yZWxlYXNlLWRhdGUv0gFgaHR0cHM6Ly9jb2luZ2FwZS5jb20vZWxvbi1tdXNrLWFubm91bmNlcy1qYXJ2aXMtaW5zcGlyZWQteGFpLWdyb2stMi1haS1jaGF0Ym90LXJlbGVhc2UtZGF0ZS9hbXAv\n",
      "2024-07-02 12:42:07,782 - AInewsbot - INFO - Message: Unable to locate element: //meta[@http-equiv='Content-Type']; For documentation on this error, please visit: https://www.selenium.dev/documentation/webdriver/troubleshooting/errors#no-such-element-exception\n",
      "Stacktrace:\n",
      "RemoteError@chrome://remote/content/shared/RemoteError.sys.mjs:8:8\n",
      "WebDriverError@chrome://remote/content/shared/webdriver/Errors.sys.mjs:192:5\n",
      "NoSuchElementError@chrome://remote/content/shared/webdriver/Errors.sys.mjs:510:5\n",
      "dom.find/</<@chrome://remote/content/shared/DOM.sys.mjs:136:16\n",
      "\n"
     ]
    },
    {
     "name": "stderr",
     "output_type": "stream",
     "text": [
      "2024-07-02 12:42:07,783 - AInewsbot - INFO - get_url(Sentient_closes__85M_seed_round_for_open-source_AI) - Saving Sentient_closes__85M_seed_round_for_open-source_AI_20240702_124207.html as utf-8\n",
      "2024-07-02 12:42:07,786 - AInewsbot - INFO - Processing https://www.benzinga.com/news/24/07/39594885/elon-musk-reveals-the-staggering-amount-of-nvidia-h100-gpus-that-will-be-used-to-train-xai-chatbot-g\n",
      "2024-07-02 12:42:07,796 - AInewsbot - INFO - get_url(https://www.benzinga.com/news/24/07/39594885/elon-musk-reveals-the-staggering-amount-of-nvidia-h100-gpus-that-will-be-used-to-train-xai-chatbot-g) - starting get_files https://www.benzinga.com/news/24/07/39594885/elon-musk-reveals-the-staggering-amount-of-nvidia-h100-gpus-that-will-be-used-to-train-xai-chatbot-g\n",
      "2024-07-02 12:42:08,564 - AInewsbot - INFO - Message: Unable to locate element: //meta[@http-equiv='Content-Type']; For documentation on this error, please visit: https://www.selenium.dev/documentation/webdriver/troubleshooting/errors#no-such-element-exception\n",
      "Stacktrace:\n",
      "RemoteError@chrome://remote/content/shared/RemoteError.sys.mjs:8:8\n",
      "WebDriverError@chrome://remote/content/shared/webdriver/Errors.sys.mjs:192:5\n",
      "NoSuchElementError@chrome://remote/content/shared/webdriver/Errors.sys.mjs:510:5\n",
      "dom.find/</<@chrome://remote/content/shared/DOM.sys.mjs:136:16\n",
      "\n",
      "2024-07-02 12:42:08,566 - AInewsbot - INFO - get_url(Peter_Thiel_s_Founders_Fund_co-leads__85_million_seed_round_for_open-source_AI_platform_Sentient___The_Block) - Saving Peter_Thiel_s_Founders_Fund_co-leads__85_million_seed_round_for_open-source_AI_platform_Sentient___The_Block_20240702_124208.html as utf-8\n",
      "2024-07-02 12:42:08,572 - AInewsbot - INFO - Processing https://news.google.com/articles/CBMiZmh0dHBzOi8vd2NjZnRlY2guY29tL2Vsb24tbXVzay14YWktMTAwMDAwLW52aWRpYS1oMTAwLWdwdXMtdHJhaW4tZ3Jvay0zLWFpLW1vZGVsLWdyb2stMi1sYXVuY2gtYXVndXN0L9IBamh0dHBzOi8vd2NjZnRlY2guY29tL2Vsb24tbXVzay14YWktMTAwMDAwLW52aWRpYS1oMTAwLWdwdXMtdHJhaW4tZ3Jvay0zLWFpLW1vZGVsLWdyb2stMi1sYXVuY2gtYXVndXN0L2FtcC8\n",
      "2024-07-02 12:42:08,577 - AInewsbot - INFO - get_url(https://news.google.com/articles/CBMiZmh0dHBzOi8vd2NjZnRlY2guY29tL2Vsb24tbXVzay14YWktMTAwMDAwLW52aWRpYS1oMTAwLWdwdXMtdHJhaW4tZ3Jvay0zLWFpLW1vZGVsLWdyb2stMi1sYXVuY2gtYXVndXN0L9IBamh0dHBzOi8vd2NjZnRlY2guY29tL2Vsb24tbXVzay14YWktMTAwMDAwLW52aWRpYS1oMTAwLWdwdXMtdHJhaW4tZ3Jvay0zLWFpLW1vZGVsLWdyb2stMi1sYXVuY2gtYXVndXN0L2FtcC8) - starting get_files https://news.google.com/articles/CBMiZmh0dHBzOi8vd2NjZnRlY2guY29tL2Vsb24tbXVzay14YWktMTAwMDAwLW52aWRpYS1oMTAwLWdwdXMtdHJhaW4tZ3Jvay0zLWFpLW1vZGVsLWdyb2stMi1sYXVuY2gtYXVndXN0L9IBamh0dHBzOi8vd2NjZnRlY2guY29tL2Vsb24tbXVzay14YWktMTAwMDAwLW52aWRpYS1oMTAwLWdwdXMtdHJhaW4tZ3Jvay0zLWFpLW1vZGVsLWdyb2stMi1sYXVuY2gtYXVndXN0L2FtcC8\n",
      "2024-07-02 12:42:15,862 - AInewsbot - INFO - Message: Unable to locate element: //meta[@http-equiv='Content-Type']; For documentation on this error, please visit: https://www.selenium.dev/documentation/webdriver/troubleshooting/errors#no-such-element-exception\n",
      "Stacktrace:\n",
      "RemoteError@chrome://remote/content/shared/RemoteError.sys.mjs:8:8\n",
      "WebDriverError@chrome://remote/content/shared/webdriver/Errors.sys.mjs:192:5\n",
      "NoSuchElementError@chrome://remote/content/shared/webdriver/Errors.sys.mjs:510:5\n",
      "dom.find/</<@chrome://remote/content/shared/DOM.sys.mjs:136:16\n",
      "\n",
      "2024-07-02 12:42:15,862 - AInewsbot - INFO - get_url(Elon_Musk_says_Grok_2_due_in_August__Grok_3_by_end_of_year_-_Neowin) - Saving Elon_Musk_says_Grok_2_due_in_August__Grok_3_by_end_of_year_-_Neowin_20240702_124215.html as utf-8\n",
      "2024-07-02 12:42:15,864 - AInewsbot - INFO - Processing https://news.google.com/articles/CBMiWmh0dHBzOi8vY29pbmdhcGUuY29tL2V1cm9wZS1iaXRjb2luLW1pbmluZy1naWFudC1ub3J0aGVybi1kYXRhLWV5ZXMtYS11cy1pcG8td2l0aC1haS1tb3ZlL9IBXmh0dHBzOi8vY29pbmdhcGUuY29tL2V1cm9wZS1iaXRjb2luLW1pbmluZy1naWFudC1ub3J0aGVybi1kYXRhLWV5ZXMtYS11cy1pcG8td2l0aC1haS1tb3ZlL2FtcC8\n",
      "2024-07-02 12:42:15,864 - AInewsbot - INFO - get_url(https://news.google.com/articles/CBMiWmh0dHBzOi8vY29pbmdhcGUuY29tL2V1cm9wZS1iaXRjb2luLW1pbmluZy1naWFudC1ub3J0aGVybi1kYXRhLWV5ZXMtYS11cy1pcG8td2l0aC1haS1tb3ZlL9IBXmh0dHBzOi8vY29pbmdhcGUuY29tL2V1cm9wZS1iaXRjb2luLW1pbmluZy1naWFudC1ub3J0aGVybi1kYXRhLWV5ZXMtYS11cy1pcG8td2l0aC1haS1tb3ZlL2FtcC8) - starting get_files https://news.google.com/articles/CBMiWmh0dHBzOi8vY29pbmdhcGUuY29tL2V1cm9wZS1iaXRjb2luLW1pbmluZy1naWFudC1ub3J0aGVybi1kYXRhLWV5ZXMtYS11cy1pcG8td2l0aC1haS1tb3ZlL9IBXmh0dHBzOi8vY29pbmdhcGUuY29tL2V1cm9wZS1iaXRjb2luLW1pbmluZy1naWFudC1ub3J0aGVybi1kYXRhLWV5ZXMtYS11cy1pcG8td2l0aC1haS1tb3ZlL2FtcC8\n",
      "2024-07-02 12:42:17,221 - AInewsbot - INFO - Message: Unable to locate element: //meta[@http-equiv='Content-Type']; For documentation on this error, please visit: https://www.selenium.dev/documentation/webdriver/troubleshooting/errors#no-such-element-exception\n",
      "Stacktrace:\n",
      "RemoteError@chrome://remote/content/shared/RemoteError.sys.mjs:8:8\n",
      "WebDriverError@chrome://remote/content/shared/webdriver/Errors.sys.mjs:192:5\n",
      "NoSuchElementError@chrome://remote/content/shared/webdriver/Errors.sys.mjs:510:5\n",
      "dom.find/</<@chrome://remote/content/shared/DOM.sys.mjs:136:16\n",
      "\n",
      "2024-07-02 12:42:17,221 - AInewsbot - INFO - get_url(Elon_Musk_Announces_JARVIS-Inspired_xAI_Grok_2_AI_Chatbot_Release_Date) - Saving Elon_Musk_Announces_JARVIS-Inspired_xAI_Grok_2_AI_Chatbot_Release_Date_20240702_124217.html as utf-8\n",
      "2024-07-02 12:42:17,222 - AInewsbot - INFO - Processing https://www.bloomberg.com/news/articles/2024-07-02/northern-data-may-be-testing-limits-of-ai-frenzy-with-unit-ipo\n",
      "2024-07-02 12:42:17,223 - AInewsbot - INFO - get_url(https://www.bloomberg.com/news/articles/2024-07-02/northern-data-may-be-testing-limits-of-ai-frenzy-with-unit-ipo) - starting get_files https://www.bloomberg.com/news/articles/2024-07-02/northern-data-may-be-testing-limits-of-ai-frenzy-with-unit-ipo\n",
      "2024-07-02 12:42:18,574 - AInewsbot - INFO - Message: Unable to locate element: //meta[@http-equiv='Content-Type']; For documentation on this error, please visit: https://www.selenium.dev/documentation/webdriver/troubleshooting/errors#no-such-element-exception\n",
      "Stacktrace:\n",
      "RemoteError@chrome://remote/content/shared/RemoteError.sys.mjs:8:8\n",
      "WebDriverError@chrome://remote/content/shared/webdriver/Errors.sys.mjs:192:5\n",
      "NoSuchElementError@chrome://remote/content/shared/webdriver/Errors.sys.mjs:510:5\n",
      "dom.find/</<@chrome://remote/content/shared/DOM.sys.mjs:136:16\n",
      "\n",
      "2024-07-02 12:42:18,574 - AInewsbot - INFO - get_url(Elon_Musk_Reveals_The_Staggering_Amount_Of_Nvidia_H100_GPUs_That_Will_Be_Used_To_Train_xAI_Chatbot_Grok_-_Benzinga) - Saving Elon_Musk_Reveals_The_Staggering_Amount_Of_Nvidia_H100_GPUs_That_Will_Be_Used_To_Train_xAI_Chatbot_Grok_-_Benzinga_20240702_124218.html as utf-8\n",
      "2024-07-02 12:42:18,576 - AInewsbot - INFO - Processing https://news.google.com/articles/CBMieWh0dHBzOi8vd3d3LmNoYW5uZWxuZXdzYXNpYS5jb20vYnVzaW5lc3Mvbm9ydGhlcm4tZGF0YS1jb25zaWRlcnMtYWktdW5pdC11cy1pcG8tMTYtYmlsbGlvbi1ibG9vbWJlcmctbmV3cy1yZXBvcnRzLTQ0NTAwNjbSAQA\n",
      "2024-07-02 12:42:18,577 - AInewsbot - INFO - get_url(https://news.google.com/articles/CBMieWh0dHBzOi8vd3d3LmNoYW5uZWxuZXdzYXNpYS5jb20vYnVzaW5lc3Mvbm9ydGhlcm4tZGF0YS1jb25zaWRlcnMtYWktdW5pdC11cy1pcG8tMTYtYmlsbGlvbi1ibG9vbWJlcmctbmV3cy1yZXBvcnRzLTQ0NTAwNjbSAQA) - starting get_files https://news.google.com/articles/CBMieWh0dHBzOi8vd3d3LmNoYW5uZWxuZXdzYXNpYS5jb20vYnVzaW5lc3Mvbm9ydGhlcm4tZGF0YS1jb25zaWRlcnMtYWktdW5pdC11cy1pcG8tMTYtYmlsbGlvbi1ibG9vbWJlcmctbmV3cy1yZXBvcnRzLTQ0NTAwNjbSAQA\n",
      "2024-07-02 12:42:18,981 - AInewsbot - INFO - Message: Unable to locate element: //meta[@http-equiv='Content-Type']; For documentation on this error, please visit: https://www.selenium.dev/documentation/webdriver/troubleshooting/errors#no-such-element-exception\n",
      "Stacktrace:\n",
      "RemoteError@chrome://remote/content/shared/RemoteError.sys.mjs:8:8\n",
      "WebDriverError@chrome://remote/content/shared/webdriver/Errors.sys.mjs:192:5\n",
      "NoSuchElementError@chrome://remote/content/shared/webdriver/Errors.sys.mjs:510:5\n",
      "dom.find/</<@chrome://remote/content/shared/DOM.sys.mjs:136:16\n",
      "\n",
      "2024-07-02 12:42:18,986 - AInewsbot - INFO - get_url(Elon_Musk_s_xAI_Using_100_000_NVIDIA_H100_GPUs_To_Train_Grok_3_AI_Model__Grok_2_To_Launch_By_August) - Saving Elon_Musk_s_xAI_Using_100_000_NVIDIA_H100_GPUs_To_Train_Grok_3_AI_Model__Grok_2_To_Launch_By_August_20240702_124218.html as utf-8\n"
     ]
    },
    {
     "name": "stderr",
     "output_type": "stream",
     "text": [
      "2024-07-02 12:42:18,990 - AInewsbot - INFO - Processing https://news.google.com/articles/CBMiZWh0dHBzOi8vZm9ydHVuZS5jb20vMjAyNC8wNy8wMi9rZW4tZ3JpZmZpbi1jaXRhZGVsLWdlbmVyYXRpdmUtYWktaHlwZS1vcGVuYWktbWlyYS1tdXJhdGktbnZpZGlhLWpvYnMv0gEA\n",
      "2024-07-02 12:42:18,992 - AInewsbot - INFO - get_url(https://news.google.com/articles/CBMiZWh0dHBzOi8vZm9ydHVuZS5jb20vMjAyNC8wNy8wMi9rZW4tZ3JpZmZpbi1jaXRhZGVsLWdlbmVyYXRpdmUtYWktaHlwZS1vcGVuYWktbWlyYS1tdXJhdGktbnZpZGlhLWpvYnMv0gEA) - starting get_files https://news.google.com/articles/CBMiZWh0dHBzOi8vZm9ydHVuZS5jb20vMjAyNC8wNy8wMi9rZW4tZ3JpZmZpbi1jaXRhZGVsLWdlbmVyYXRpdmUtYWktaHlwZS1vcGVuYWktbWlyYS1tdXJhdGktbnZpZGlhLWpvYnMv0gEA\n",
      "2024-07-02 12:42:26,302 - AInewsbot - INFO - Message: Unable to locate element: //meta[@http-equiv='Content-Type']; For documentation on this error, please visit: https://www.selenium.dev/documentation/webdriver/troubleshooting/errors#no-such-element-exception\n",
      "Stacktrace:\n",
      "RemoteError@chrome://remote/content/shared/RemoteError.sys.mjs:8:8\n",
      "WebDriverError@chrome://remote/content/shared/webdriver/Errors.sys.mjs:192:5\n",
      "NoSuchElementError@chrome://remote/content/shared/webdriver/Errors.sys.mjs:510:5\n",
      "dom.find/</<@chrome://remote/content/shared/DOM.sys.mjs:136:16\n",
      "\n",
      "2024-07-02 12:42:26,303 - AInewsbot - INFO - get_url(Europe_s_Bitcoin_Mining_Giant_Northern_Data_Eyes_A_US_IPO_With_AI_Move) - Saving Europe_s_Bitcoin_Mining_Giant_Northern_Data_Eyes_A_US_IPO_With_AI_Move_20240702_124226.html as utf-8\n",
      "2024-07-02 12:42:26,304 - AInewsbot - INFO - Processing https://www.windowscentral.com/software-apps/nvidias-ceo-envisions-a-future-where-multi-shot-agentic-ais-armed-with-reasoning-superpowers-outperform-humans-in-the-job-market\n",
      "2024-07-02 12:42:26,304 - AInewsbot - INFO - get_url(https://www.windowscentral.com/software-apps/nvidias-ceo-envisions-a-future-where-multi-shot-agentic-ais-armed-with-reasoning-superpowers-outperform-humans-in-the-job-market) - starting get_files https://www.windowscentral.com/software-apps/nvidias-ceo-envisions-a-future-where-multi-shot-agentic-ais-armed-with-reasoning-superpowers-outperform-humans-in-the-job-market\n",
      "2024-07-02 12:42:27,892 - AInewsbot - INFO - Message: Unable to locate element: //meta[@http-equiv='Content-Type']; For documentation on this error, please visit: https://www.selenium.dev/documentation/webdriver/troubleshooting/errors#no-such-element-exception\n",
      "Stacktrace:\n",
      "RemoteError@chrome://remote/content/shared/RemoteError.sys.mjs:8:8\n",
      "WebDriverError@chrome://remote/content/shared/webdriver/Errors.sys.mjs:192:5\n",
      "NoSuchElementError@chrome://remote/content/shared/webdriver/Errors.sys.mjs:510:5\n",
      "dom.find/</<@chrome://remote/content/shared/DOM.sys.mjs:136:16\n",
      "\n",
      "2024-07-02 12:42:27,893 - AInewsbot - INFO - get_url(Northern_Data_May_Be_Testing_Limits_of_AI_Frenzy_With_Unit_IPO_-_Bloomberg) - Saving Northern_Data_May_Be_Testing_Limits_of_AI_Frenzy_With_Unit_IPO_-_Bloomberg_20240702_124227.html as utf-8\n",
      "2024-07-02 12:42:27,894 - AInewsbot - INFO - Processing https://news.google.com/articles/CBMibWh0dHBzOi8vZmluYW5jZS55YWhvby5jb20vbmV3cy9oZXJlcy10aGUtYmlnZ2VzdC1yaXNrLXRvLW52aWRpYS1iZWluZy1hLTEwLXRyaWxsaW9uLWp1Z2dlcm5hdXQtMTU1NTA5NzcyLmh0bWzSAQA\n",
      "2024-07-02 12:42:27,894 - AInewsbot - INFO - get_url(https://news.google.com/articles/CBMibWh0dHBzOi8vZmluYW5jZS55YWhvby5jb20vbmV3cy9oZXJlcy10aGUtYmlnZ2VzdC1yaXNrLXRvLW52aWRpYS1iZWluZy1hLTEwLXRyaWxsaW9uLWp1Z2dlcm5hdXQtMTU1NTA5NzcyLmh0bWzSAQA) - starting get_files https://news.google.com/articles/CBMibWh0dHBzOi8vZmluYW5jZS55YWhvby5jb20vbmV3cy9oZXJlcy10aGUtYmlnZ2VzdC1yaXNrLXRvLW52aWRpYS1iZWluZy1hLTEwLXRyaWxsaW9uLWp1Z2dlcm5hdXQtMTU1NTA5NzcyLmh0bWzSAQA\n",
      "2024-07-02 12:42:29,002 - AInewsbot - INFO - Message: Unable to locate element: //meta[@http-equiv='Content-Type']; For documentation on this error, please visit: https://www.selenium.dev/documentation/webdriver/troubleshooting/errors#no-such-element-exception\n",
      "Stacktrace:\n",
      "RemoteError@chrome://remote/content/shared/RemoteError.sys.mjs:8:8\n",
      "WebDriverError@chrome://remote/content/shared/webdriver/Errors.sys.mjs:192:5\n",
      "NoSuchElementError@chrome://remote/content/shared/webdriver/Errors.sys.mjs:510:5\n",
      "dom.find/</<@chrome://remote/content/shared/DOM.sys.mjs:136:16\n",
      "\n",
      "2024-07-02 12:42:29,002 - AInewsbot - INFO - get_url(Northern_Data_considers_AI_unit_US_IPO_at_up_to__16_billion__Bloomberg_News_reports_-_CNA) - Saving Northern_Data_considers_AI_unit_US_IPO_at_up_to__16_billion__Bloomberg_News_reports_-_CNA_20240702_124229.html as utf-8\n",
      "2024-07-02 12:42:29,003 - AInewsbot - INFO - Processing https://news.google.com/articles/CBMiemh0dHBzOi8vd3d3Lm1hcmtldHdhdGNoLmNvbS9zdG9yeS9udmlkaWEtbWF5LWJlLWFwcGVhbGluZy1idXQtb25lLWZ1bmQtbWFuYWdlci1oYXMtYS13YXJuaW5nLWFib3V0LXNvbWUtYWktc3RvY2tzLTZiZTgxNzY40gEA\n",
      "2024-07-02 12:42:29,004 - AInewsbot - INFO - get_url(https://news.google.com/articles/CBMiemh0dHBzOi8vd3d3Lm1hcmtldHdhdGNoLmNvbS9zdG9yeS9udmlkaWEtbWF5LWJlLWFwcGVhbGluZy1idXQtb25lLWZ1bmQtbWFuYWdlci1oYXMtYS13YXJuaW5nLWFib3V0LXNvbWUtYWktc3RvY2tzLTZiZTgxNzY40gEA) - starting get_files https://news.google.com/articles/CBMiemh0dHBzOi8vd3d3Lm1hcmtldHdhdGNoLmNvbS9zdG9yeS9udmlkaWEtbWF5LWJlLWFwcGVhbGluZy1idXQtb25lLWZ1bmQtbWFuYWdlci1oYXMtYS13YXJuaW5nLWFib3V0LXNvbWUtYWktc3RvY2tzLTZiZTgxNzY40gEA\n",
      "2024-07-02 12:42:29,411 - AInewsbot - INFO - Message: Unable to locate element: //meta[@http-equiv='Content-Type']; For documentation on this error, please visit: https://www.selenium.dev/documentation/webdriver/troubleshooting/errors#no-such-element-exception\n",
      "Stacktrace:\n",
      "RemoteError@chrome://remote/content/shared/RemoteError.sys.mjs:8:8\n",
      "WebDriverError@chrome://remote/content/shared/webdriver/Errors.sys.mjs:192:5\n",
      "NoSuchElementError@chrome://remote/content/shared/webdriver/Errors.sys.mjs:510:5\n",
      "dom.find/</<@chrome://remote/content/shared/DOM.sys.mjs:136:16\n",
      "\n",
      "2024-07-02 12:42:29,412 - AInewsbot - INFO - get_url(Citadel_s_Ken_Griffin_is_hitting_pause_on_the_AI_hype___Fortune) - Saving Citadel_s_Ken_Griffin_is_hitting_pause_on_the_AI_hype___Fortune_20240702_124229.html as utf-8\n",
      "2024-07-02 12:42:29,414 - AInewsbot - INFO - Processing https://news.google.com/articles/CBMiP2h0dHBzOi8vd3d3LmZ0LmNvbS9jb250ZW50L2ZjYzkxN2FiLTViMTItNDIyMi05MDFhLTY5MjJmMWQ2ODk0YdIBAA\n",
      "2024-07-02 12:42:29,414 - AInewsbot - INFO - get_url(https://news.google.com/articles/CBMiP2h0dHBzOi8vd3d3LmZ0LmNvbS9jb250ZW50L2ZjYzkxN2FiLTViMTItNDIyMi05MDFhLTY5MjJmMWQ2ODk0YdIBAA) - starting get_files https://news.google.com/articles/CBMiP2h0dHBzOi8vd3d3LmZ0LmNvbS9jb250ZW50L2ZjYzkxN2FiLTViMTItNDIyMi05MDFhLTY5MjJmMWQ2ODk0YdIBAA\n",
      "2024-07-02 12:42:37,106 - AInewsbot - INFO - Message: Unable to locate element: //meta[@http-equiv='Content-Type']; For documentation on this error, please visit: https://www.selenium.dev/documentation/webdriver/troubleshooting/errors#no-such-element-exception\n",
      "Stacktrace:\n",
      "RemoteError@chrome://remote/content/shared/RemoteError.sys.mjs:8:8\n",
      "WebDriverError@chrome://remote/content/shared/webdriver/Errors.sys.mjs:192:5\n",
      "NoSuchElementError@chrome://remote/content/shared/webdriver/Errors.sys.mjs:510:5\n",
      "dom.find/</<@chrome://remote/content/shared/DOM.sys.mjs:136:16\n",
      "\n",
      "2024-07-02 12:42:37,107 - AInewsbot - INFO - get_url(NVIDIA_CEO_predicts_a_future_with_agentic_AI_systems_with_reasoning_capabilities___Windows_Central) - Saving NVIDIA_CEO_predicts_a_future_with_agentic_AI_systems_with_reasoning_capabilities___Windows_Central_20240702_124237.html as utf-8\n",
      "2024-07-02 12:42:37,108 - AInewsbot - INFO - Processing https://news.google.com/articles/CBMiZmh0dHBzOi8vd3d3Lm1vbmV5Y29udHJvbC5jb20vdGVjaG5vbG9neS9tb3JnYW4tc3RhbmxleS1ub3RlLWh1bWFub2lkcy10ZXNsYS0yMDQwLWFydGljbGUtMTI3NjA1ODkuaHRtbNIBAA\n",
      "2024-07-02 12:42:37,108 - AInewsbot - INFO - get_url(https://news.google.com/articles/CBMiZmh0dHBzOi8vd3d3Lm1vbmV5Y29udHJvbC5jb20vdGVjaG5vbG9neS9tb3JnYW4tc3RhbmxleS1ub3RlLWh1bWFub2lkcy10ZXNsYS0yMDQwLWFydGljbGUtMTI3NjA1ODkuaHRtbNIBAA) - starting get_files https://news.google.com/articles/CBMiZmh0dHBzOi8vd3d3Lm1vbmV5Y29udHJvbC5jb20vdGVjaG5vbG9neS9tb3JnYW4tc3RhbmxleS1ub3RlLWh1bWFub2lkcy10ZXNsYS0yMDQwLWFydGljbGUtMTI3NjA1ODkuaHRtbNIBAA\n",
      "2024-07-02 12:42:38,364 - AInewsbot - INFO - Message: Unable to locate element: //meta[@http-equiv='Content-Type']; For documentation on this error, please visit: https://www.selenium.dev/documentation/webdriver/troubleshooting/errors#no-such-element-exception\n",
      "Stacktrace:\n",
      "RemoteError@chrome://remote/content/shared/RemoteError.sys.mjs:8:8\n",
      "WebDriverError@chrome://remote/content/shared/webdriver/Errors.sys.mjs:192:5\n",
      "NoSuchElementError@chrome://remote/content/shared/webdriver/Errors.sys.mjs:510:5\n",
      "dom.find/</<@chrome://remote/content/shared/DOM.sys.mjs:136:16\n",
      "\n"
     ]
    },
    {
     "name": "stderr",
     "output_type": "stream",
     "text": [
      "2024-07-02 12:42:38,364 - AInewsbot - INFO - get_url(Here_s_the_biggest_risk_to_Nvidia_being_a__10_trillion_juggernaut) - Saving Here_s_the_biggest_risk_to_Nvidia_being_a__10_trillion_juggernaut_20240702_124238.html as utf-8\n",
      "2024-07-02 12:42:38,366 - AInewsbot - INFO - Processing https://news.google.com/articles/CBMigwFodHRwczovL3d3dy5pbnZlc3RpbmcuY29tL25ld3Mvc3RvY2stbWFya2V0LW5ld3MvdGVzbGFzLWh1bWFub2lkLW9wcG9ydHVuaXR5LWlzLWJpZ2dlci10aGFuLWF1dG9ub21vdXMtY2Fycy0tbW9yZ2FuLXN0YW5sZXktMzUwMTg4MtIBAA\n",
      "2024-07-02 12:42:38,366 - AInewsbot - INFO - get_url(https://news.google.com/articles/CBMigwFodHRwczovL3d3dy5pbnZlc3RpbmcuY29tL25ld3Mvc3RvY2stbWFya2V0LW5ld3MvdGVzbGFzLWh1bWFub2lkLW9wcG9ydHVuaXR5LWlzLWJpZ2dlci10aGFuLWF1dG9ub21vdXMtY2Fycy0tbW9yZ2FuLXN0YW5sZXktMzUwMTg4MtIBAA) - starting get_files https://news.google.com/articles/CBMigwFodHRwczovL3d3dy5pbnZlc3RpbmcuY29tL25ld3Mvc3RvY2stbWFya2V0LW5ld3MvdGVzbGFzLWh1bWFub2lkLW9wcG9ydHVuaXR5LWlzLWJpZ2dlci10aGFuLWF1dG9ub21vdXMtY2Fycy0tbW9yZ2FuLXN0YW5sZXktMzUwMTg4MtIBAA\n",
      "2024-07-02 12:42:39,344 - AInewsbot - INFO - Message: Unable to locate element: //meta[@http-equiv='Content-Type']; For documentation on this error, please visit: https://www.selenium.dev/documentation/webdriver/troubleshooting/errors#no-such-element-exception\n",
      "Stacktrace:\n",
      "RemoteError@chrome://remote/content/shared/RemoteError.sys.mjs:8:8\n",
      "WebDriverError@chrome://remote/content/shared/webdriver/Errors.sys.mjs:192:5\n",
      "NoSuchElementError@chrome://remote/content/shared/webdriver/Errors.sys.mjs:510:5\n",
      "dom.find/</<@chrome://remote/content/shared/DOM.sys.mjs:136:16\n",
      "\n",
      "2024-07-02 12:42:39,344 - AInewsbot - INFO - get_url(Nvidia_may_be_appealing__but_one_fund_manager_has_a_warning_about_some_AI_stocks_-_MarketWatch) - Saving Nvidia_may_be_appealing__but_one_fund_manager_has_a_warning_about_some_AI_stocks_-_MarketWatch_20240702_124239.html as utf-8\n",
      "2024-07-02 12:42:39,346 - AInewsbot - INFO - Processing https://news.google.com/articles/CBMieGh0dHBzOi8vd3d3LnB5bW50cy5jb20vYXJ0aWZpY2lhbC1pbnRlbGxpZ2VuY2UtMi8yMDI0L3JvYmluaG9vZC1wdXJjaGFzZXMtcGx1dG8tdG8tcHJvdmlkZS1haS1wb3dlcmVkLWludmVzdG1lbnQtYWR2aWNlL9IBAA\n",
      "2024-07-02 12:42:39,346 - AInewsbot - INFO - get_url(https://news.google.com/articles/CBMieGh0dHBzOi8vd3d3LnB5bW50cy5jb20vYXJ0aWZpY2lhbC1pbnRlbGxpZ2VuY2UtMi8yMDI0L3JvYmluaG9vZC1wdXJjaGFzZXMtcGx1dG8tdG8tcHJvdmlkZS1haS1wb3dlcmVkLWludmVzdG1lbnQtYWR2aWNlL9IBAA) - starting get_files https://news.google.com/articles/CBMieGh0dHBzOi8vd3d3LnB5bW50cy5jb20vYXJ0aWZpY2lhbC1pbnRlbGxpZ2VuY2UtMi8yMDI0L3JvYmluaG9vZC1wdXJjaGFzZXMtcGx1dG8tdG8tcHJvdmlkZS1haS1wb3dlcmVkLWludmVzdG1lbnQtYWR2aWNlL9IBAA\n",
      "2024-07-02 12:42:39,826 - AInewsbot - INFO - Message: Unable to locate element: //meta[@http-equiv='Content-Type']; For documentation on this error, please visit: https://www.selenium.dev/documentation/webdriver/troubleshooting/errors#no-such-element-exception\n",
      "Stacktrace:\n",
      "RemoteError@chrome://remote/content/shared/RemoteError.sys.mjs:8:8\n",
      "WebDriverError@chrome://remote/content/shared/webdriver/Errors.sys.mjs:192:5\n",
      "NoSuchElementError@chrome://remote/content/shared/webdriver/Errors.sys.mjs:510:5\n",
      "dom.find/</<@chrome://remote/content/shared/DOM.sys.mjs:136:16\n",
      "\n",
      "2024-07-02 12:42:39,826 - AInewsbot - INFO - get_url(The_rise_of_the_robots__charted) - Saving The_rise_of_the_robots__charted_20240702_124239.html as utf-8\n",
      "2024-07-02 12:42:39,827 - AInewsbot - INFO - Processing https://news.google.com/articles/CBMiUWh0dHBzOi8vd3d3LmZvb2wuY2EvMjAyNC8wNy8wMS9hcnRpZmljaWFsLWludGVsbGlnZW5jZS1haS1zdG9ja3MtYnV5LW1pbGxpb25haXJlL9IBAA\n",
      "2024-07-02 12:42:39,827 - AInewsbot - INFO - get_url(https://news.google.com/articles/CBMiUWh0dHBzOi8vd3d3LmZvb2wuY2EvMjAyNC8wNy8wMS9hcnRpZmljaWFsLWludGVsbGlnZW5jZS1haS1zdG9ja3MtYnV5LW1pbGxpb25haXJlL9IBAA) - starting get_files https://news.google.com/articles/CBMiUWh0dHBzOi8vd3d3LmZvb2wuY2EvMjAyNC8wNy8wMS9hcnRpZmljaWFsLWludGVsbGlnZW5jZS1haS1zdG9ja3MtYnV5LW1pbGxpb25haXJlL9IBAA\n",
      "2024-07-02 12:42:47,658 - AInewsbot - INFO - get_url(Morgan_Stanley_sees_8_million_humanoids_by_2040__Tesla_powering_the_transformation) - Saving Morgan_Stanley_sees_8_million_humanoids_by_2040__Tesla_powering_the_transformation_20240702_124247.html as utf-8\n",
      "2024-07-02 12:42:47,660 - AInewsbot - INFO - Processing https://news.google.com/articles/CBMiaGh0dHBzOi8vd3d3LmNuYmMuY29tLzIwMjQvMDcvMDIvbW9yZ2FuLXN0YW5sZXktZmxhZ3MtMzAtdHJpbGxpb24tbWFya2V0LWFpLWNhbi1hZGRyZXNzLW5hbWVzLXN0b2Nrcy5odG1s0gEA\n",
      "2024-07-02 12:42:47,660 - AInewsbot - INFO - get_url(https://news.google.com/articles/CBMiaGh0dHBzOi8vd3d3LmNuYmMuY29tLzIwMjQvMDcvMDIvbW9yZ2FuLXN0YW5sZXktZmxhZ3MtMzAtdHJpbGxpb24tbWFya2V0LWFpLWNhbi1hZGRyZXNzLW5hbWVzLXN0b2Nrcy5odG1s0gEA) - starting get_files https://news.google.com/articles/CBMiaGh0dHBzOi8vd3d3LmNuYmMuY29tLzIwMjQvMDcvMDIvbW9yZ2FuLXN0YW5sZXktZmxhZ3MtMzAtdHJpbGxpb24tbWFya2V0LWFpLWNhbi1hZGRyZXNzLW5hbWVzLXN0b2Nrcy5odG1s0gEA\n",
      "2024-07-02 12:42:49,439 - AInewsbot - INFO - Message: Unable to locate element: //meta[@http-equiv='Content-Type']; For documentation on this error, please visit: https://www.selenium.dev/documentation/webdriver/troubleshooting/errors#no-such-element-exception\n",
      "Stacktrace:\n",
      "RemoteError@chrome://remote/content/shared/RemoteError.sys.mjs:8:8\n",
      "WebDriverError@chrome://remote/content/shared/webdriver/Errors.sys.mjs:192:5\n",
      "NoSuchElementError@chrome://remote/content/shared/webdriver/Errors.sys.mjs:510:5\n",
      "dom.find/</<@chrome://remote/content/shared/DOM.sys.mjs:136:16\n",
      "\n",
      "2024-07-02 12:42:49,439 - AInewsbot - INFO - get_url(Tesla_s_humanoid_opportunity_is__bigger__than_autonomous_cars_-_Morgan_Stanley_By_Investing_com) - Saving Tesla_s_humanoid_opportunity_is__bigger__than_autonomous_cars_-_Morgan_Stanley_By_Investing_com_20240702_124249.html as utf-8\n",
      "2024-07-02 12:42:49,442 - AInewsbot - INFO - Processing https://www.reddit.com/r/gadgets/comments/1dtkvuc/a_prosthesis_driven_by_the_nervous_system_helps/\n",
      "2024-07-02 12:42:49,442 - AInewsbot - INFO - get_url(https://www.reddit.com/r/gadgets/comments/1dtkvuc/a_prosthesis_driven_by_the_nervous_system_helps/) - starting get_files https://www.reddit.com/r/gadgets/comments/1dtkvuc/a_prosthesis_driven_by_the_nervous_system_helps/\n",
      "2024-07-02 12:42:49,686 - AInewsbot - INFO - Message: Unable to locate element: //meta[@http-equiv='Content-Type']; For documentation on this error, please visit: https://www.selenium.dev/documentation/webdriver/troubleshooting/errors#no-such-element-exception\n",
      "Stacktrace:\n",
      "RemoteError@chrome://remote/content/shared/RemoteError.sys.mjs:8:8\n",
      "WebDriverError@chrome://remote/content/shared/webdriver/Errors.sys.mjs:192:5\n",
      "NoSuchElementError@chrome://remote/content/shared/webdriver/Errors.sys.mjs:510:5\n",
      "dom.find/</<@chrome://remote/content/shared/DOM.sys.mjs:136:16\n",
      "\n",
      "2024-07-02 12:42:49,687 - AInewsbot - INFO - get_url(Robinhood_Buys_Pluto_to_Provide_AI-Powered_Investment_Advice) - Saving Robinhood_Buys_Pluto_to_Provide_AI-Powered_Investment_Advice_20240702_124249.html as utf-8\n",
      "2024-07-02 12:42:49,688 - AInewsbot - INFO - Processing https://www.reddit.com/r/gadgets/comments/1dtjbbi/the_best_bionic_leg_yet_a_surgical_procedure_and/\n",
      "2024-07-02 12:42:49,689 - AInewsbot - INFO - get_url(https://www.reddit.com/r/gadgets/comments/1dtjbbi/the_best_bionic_leg_yet_a_surgical_procedure_and/) - starting get_files https://www.reddit.com/r/gadgets/comments/1dtjbbi/the_best_bionic_leg_yet_a_surgical_procedure_and/\n",
      "2024-07-02 12:42:50,206 - AInewsbot - INFO - Message: Unable to locate element: //meta[@http-equiv='Content-Type']; For documentation on this error, please visit: https://www.selenium.dev/documentation/webdriver/troubleshooting/errors#no-such-element-exception\n",
      "Stacktrace:\n",
      "RemoteError@chrome://remote/content/shared/RemoteError.sys.mjs:8:8\n",
      "WebDriverError@chrome://remote/content/shared/webdriver/Errors.sys.mjs:192:5\n",
      "NoSuchElementError@chrome://remote/content/shared/webdriver/Errors.sys.mjs:510:5\n",
      "dom.find/</<@chrome://remote/content/shared/DOM.sys.mjs:136:16\n",
      "\n",
      "2024-07-02 12:42:50,206 - AInewsbot - INFO - get_url(2_Artificial_Intelligence__AI__Stocks_to_Buy_Now_That_Could_Make_You_a_Millionaire___The_Motley_Fool_Canada) - Saving 2_Artificial_Intelligence__AI__Stocks_to_Buy_Now_That_Could_Make_You_a_Millionaire___The_Motley_Fool_Canada_20240702_124250.html as utf-8\n"
     ]
    },
    {
     "name": "stderr",
     "output_type": "stream",
     "text": [
      "2024-07-02 12:42:50,207 - AInewsbot - INFO - Processing https://news.google.com/articles/CBMieWh0dHBzOi8vd3d3LnN5cmFjdXNlLmNvbS9jZWxlYnJpdHktbmV3cy8yMDI0LzA3L2FpLXRvLXVzZS1kZWFkLWFjdHJlc3Mtdm9pY2UtZm9yLWF1ZGlvYm9vay1vZi1jbnktbmF0aXZlcy1ub3ZlbC1idXp6Lmh0bWzSAYgBaHR0cHM6Ly93d3cuc3lyYWN1c2UuY29tL2NlbGVicml0eS1uZXdzLzIwMjQvMDcvYWktdG8tdXNlLWRlYWQtYWN0cmVzcy12b2ljZS1mb3ItYXVkaW9ib29rLW9mLWNueS1uYXRpdmVzLW5vdmVsLWJ1enouaHRtbD9vdXRwdXRUeXBlPWFtcA\n",
      "2024-07-02 12:42:50,207 - AInewsbot - INFO - get_url(https://news.google.com/articles/CBMieWh0dHBzOi8vd3d3LnN5cmFjdXNlLmNvbS9jZWxlYnJpdHktbmV3cy8yMDI0LzA3L2FpLXRvLXVzZS1kZWFkLWFjdHJlc3Mtdm9pY2UtZm9yLWF1ZGlvYm9vay1vZi1jbnktbmF0aXZlcy1ub3ZlbC1idXp6Lmh0bWzSAYgBaHR0cHM6Ly93d3cuc3lyYWN1c2UuY29tL2NlbGVicml0eS1uZXdzLzIwMjQvMDcvYWktdG8tdXNlLWRlYWQtYWN0cmVzcy12b2ljZS1mb3ItYXVkaW9ib29rLW9mLWNueS1uYXRpdmVzLW5vdmVsLWJ1enouaHRtbD9vdXRwdXRUeXBlPWFtcA) - starting get_files https://news.google.com/articles/CBMieWh0dHBzOi8vd3d3LnN5cmFjdXNlLmNvbS9jZWxlYnJpdHktbmV3cy8yMDI0LzA3L2FpLXRvLXVzZS1kZWFkLWFjdHJlc3Mtdm9pY2UtZm9yLWF1ZGlvYm9vay1vZi1jbnktbmF0aXZlcy1ub3ZlbC1idXp6Lmh0bWzSAYgBaHR0cHM6Ly93d3cuc3lyYWN1c2UuY29tL2NlbGVicml0eS1uZXdzLzIwMjQvMDcvYWktdG8tdXNlLWRlYWQtYWN0cmVzcy12b2ljZS1mb3ItYXVkaW9ib29rLW9mLWNueS1uYXRpdmVzLW5vdmVsLWJ1enouaHRtbD9vdXRwdXRUeXBlPWFtcA\n",
      "2024-07-02 12:42:58,165 - AInewsbot - INFO - Message: Unable to locate element: //meta[@http-equiv='Content-Type']; For documentation on this error, please visit: https://www.selenium.dev/documentation/webdriver/troubleshooting/errors#no-such-element-exception\n",
      "Stacktrace:\n",
      "RemoteError@chrome://remote/content/shared/RemoteError.sys.mjs:8:8\n",
      "WebDriverError@chrome://remote/content/shared/webdriver/Errors.sys.mjs:192:5\n",
      "NoSuchElementError@chrome://remote/content/shared/webdriver/Errors.sys.mjs:510:5\n",
      "dom.find/</<@chrome://remote/content/shared/DOM.sys.mjs:136:16\n",
      "\n",
      "2024-07-02 12:42:58,166 - AInewsbot - INFO - get_url(Morgan_Stanley_flags__30_trillion_market_AI_can_address__names_stocks) - Saving Morgan_Stanley_flags__30_trillion_market_AI_can_address__names_stocks_20240702_124258.html as utf-8\n",
      "2024-07-02 12:42:58,168 - AInewsbot - INFO - Processing https://news.google.com/articles/CBMibGh0dHBzOi8vdmFyaWV0eS5jb20vMjAyNC9iaXovbmV3cy9haS1qdWR5LWdhcmxhbmQtamFtZXMtZGVhbi1idXJ0LXJleW5vbGRzLWVsZXZlbmxhYnMtcmVhZGVyLWFwcC0xMjM2MDU4ODI5L9IBcGh0dHBzOi8vdmFyaWV0eS5jb20vMjAyNC9iaXovbmV3cy9haS1qdWR5LWdhcmxhbmQtamFtZXMtZGVhbi1idXJ0LXJleW5vbGRzLWVsZXZlbmxhYnMtcmVhZGVyLWFwcC0xMjM2MDU4ODI5L2FtcC8\n",
      "2024-07-02 12:42:58,169 - AInewsbot - INFO - get_url(https://news.google.com/articles/CBMibGh0dHBzOi8vdmFyaWV0eS5jb20vMjAyNC9iaXovbmV3cy9haS1qdWR5LWdhcmxhbmQtamFtZXMtZGVhbi1idXJ0LXJleW5vbGRzLWVsZXZlbmxhYnMtcmVhZGVyLWFwcC0xMjM2MDU4ODI5L9IBcGh0dHBzOi8vdmFyaWV0eS5jb20vMjAyNC9iaXovbmV3cy9haS1qdWR5LWdhcmxhbmQtamFtZXMtZGVhbi1idXJ0LXJleW5vbGRzLWVsZXZlbmxhYnMtcmVhZGVyLWFwcC0xMjM2MDU4ODI5L2FtcC8) - starting get_files https://news.google.com/articles/CBMibGh0dHBzOi8vdmFyaWV0eS5jb20vMjAyNC9iaXovbmV3cy9haS1qdWR5LWdhcmxhbmQtamFtZXMtZGVhbi1idXJ0LXJleW5vbGRzLWVsZXZlbmxhYnMtcmVhZGVyLWFwcC0xMjM2MDU4ODI5L9IBcGh0dHBzOi8vdmFyaWV0eS5jb20vMjAyNC9iaXovbmV3cy9haS1qdWR5LWdhcmxhbmQtamFtZXMtZGVhbi1idXJ0LXJleW5vbGRzLWVsZXZlbmxhYnMtcmVhZGVyLWFwcC0xMjM2MDU4ODI5L2FtcC8\n",
      "2024-07-02 12:43:00,602 - AInewsbot - INFO - Message: Unable to locate element: //meta[@http-equiv='Content-Type']; For documentation on this error, please visit: https://www.selenium.dev/documentation/webdriver/troubleshooting/errors#no-such-element-exception\n",
      "Stacktrace:\n",
      "RemoteError@chrome://remote/content/shared/RemoteError.sys.mjs:8:8\n",
      "WebDriverError@chrome://remote/content/shared/webdriver/Errors.sys.mjs:192:5\n",
      "NoSuchElementError@chrome://remote/content/shared/webdriver/Errors.sys.mjs:510:5\n",
      "dom.find/</<@chrome://remote/content/shared/DOM.sys.mjs:136:16\n",
      "\n",
      "2024-07-02 12:43:00,603 - AInewsbot - INFO - get_url(AI_to_use_dead_actress__voice_for_audiobook_of_CNY_native_s_novel__Buzz_-_syracuse_com) - Saving AI_to_use_dead_actress__voice_for_audiobook_of_CNY_native_s_novel__Buzz_-_syracuse_com_20240702_124300.html as utf-8\n",
      "2024-07-02 12:43:00,604 - AInewsbot - INFO - Processing https://news.google.com/articles/CBMicGh0dHBzOi8vd3d3LnpkbmV0LmNvbS9hcnRpY2xlL2FpLWdvZXMtdG8taG9sbHl3b29kLWphbWVzLWRlYW4tanVkeS1nYXJsYW5kLWFuZC1vdGhlci1zdGFycy13aWxsLXJlYWQtdG8teW91LW5vdy_SAQA\n",
      "2024-07-02 12:43:00,604 - AInewsbot - INFO - get_url(https://news.google.com/articles/CBMicGh0dHBzOi8vd3d3LnpkbmV0LmNvbS9hcnRpY2xlL2FpLWdvZXMtdG8taG9sbHl3b29kLWphbWVzLWRlYW4tanVkeS1nYXJsYW5kLWFuZC1vdGhlci1zdGFycy13aWxsLXJlYWQtdG8teW91LW5vdy_SAQA) - starting get_files https://news.google.com/articles/CBMicGh0dHBzOi8vd3d3LnpkbmV0LmNvbS9hcnRpY2xlL2FpLWdvZXMtdG8taG9sbHl3b29kLWphbWVzLWRlYW4tanVkeS1nYXJsYW5kLWFuZC1vdGhlci1zdGFycy13aWxsLXJlYWQtdG8teW91LW5vdy_SAQA\n",
      "2024-07-02 12:43:01,004 - AInewsbot - INFO - Message: Unable to locate element: //meta[@http-equiv='Content-Type']; For documentation on this error, please visit: https://www.selenium.dev/documentation/webdriver/troubleshooting/errors#no-such-element-exception\n",
      "Stacktrace:\n",
      "RemoteError@chrome://remote/content/shared/RemoteError.sys.mjs:8:8\n",
      "WebDriverError@chrome://remote/content/shared/webdriver/Errors.sys.mjs:192:5\n",
      "NoSuchElementError@chrome://remote/content/shared/webdriver/Errors.sys.mjs:510:5\n",
      "dom.find/</<@chrome://remote/content/shared/DOM.sys.mjs:136:16\n",
      "\n",
      "2024-07-02 12:43:01,004 - AInewsbot - INFO - get_url(A_prosthesis_driven_by_the_nervous_system_helps_people_with_amputation_walk_naturally___r_gadgets) - Saving A_prosthesis_driven_by_the_nervous_system_helps_people_with_amputation_walk_naturally___r_gadgets_20240702_124301.html as utf-8\n",
      "2024-07-02 12:43:01,006 - AInewsbot - INFO - Processing https://news.google.com/articles/CBMib2h0dHBzOi8vd3d3LmhvbGx5d29vZHJlcG9ydGVyLmNvbS9tb3ZpZXMvbW92aWUtbmV3cy9nZW9mZnJleS1ydXNoLWFpLWpvaG4tbGl0aGdvdy1ncm91Y2hvLW1hcngtZmlsbS0xMjM1OTM3MjAxL9IBc2h0dHBzOi8vd3d3LmhvbGx5d29vZHJlcG9ydGVyLmNvbS9tb3ZpZXMvbW92aWUtbmV3cy9nZW9mZnJleS1ydXNoLWFpLWpvaG4tbGl0aGdvdy1ncm91Y2hvLW1hcngtZmlsbS0xMjM1OTM3MjAxL2FtcC8\n",
      "2024-07-02 12:43:01,006 - AInewsbot - INFO - get_url(https://news.google.com/articles/CBMib2h0dHBzOi8vd3d3LmhvbGx5d29vZHJlcG9ydGVyLmNvbS9tb3ZpZXMvbW92aWUtbmV3cy9nZW9mZnJleS1ydXNoLWFpLWpvaG4tbGl0aGdvdy1ncm91Y2hvLW1hcngtZmlsbS0xMjM1OTM3MjAxL9IBc2h0dHBzOi8vd3d3LmhvbGx5d29vZHJlcG9ydGVyLmNvbS9tb3ZpZXMvbW92aWUtbmV3cy9nZW9mZnJleS1ydXNoLWFpLWpvaG4tbGl0aGdvdy1ncm91Y2hvLW1hcngtZmlsbS0xMjM1OTM3MjAxL2FtcC8) - starting get_files https://news.google.com/articles/CBMib2h0dHBzOi8vd3d3LmhvbGx5d29vZHJlcG9ydGVyLmNvbS9tb3ZpZXMvbW92aWUtbmV3cy9nZW9mZnJleS1ydXNoLWFpLWpvaG4tbGl0aGdvdy1ncm91Y2hvLW1hcngtZmlsbS0xMjM1OTM3MjAxL9IBc2h0dHBzOi8vd3d3LmhvbGx5d29vZHJlcG9ydGVyLmNvbS9tb3ZpZXMvbW92aWUtbmV3cy9nZW9mZnJleS1ydXNoLWFpLWpvaG4tbGl0aGdvdy1ncm91Y2hvLW1hcngtZmlsbS0xMjM1OTM3MjAxL2FtcC8\n",
      "2024-07-02 12:43:01,570 - AInewsbot - INFO - Message: Unable to locate element: //meta[@http-equiv='Content-Type']; For documentation on this error, please visit: https://www.selenium.dev/documentation/webdriver/troubleshooting/errors#no-such-element-exception\n",
      "Stacktrace:\n",
      "RemoteError@chrome://remote/content/shared/RemoteError.sys.mjs:8:8\n",
      "WebDriverError@chrome://remote/content/shared/webdriver/Errors.sys.mjs:192:5\n",
      "NoSuchElementError@chrome://remote/content/shared/webdriver/Errors.sys.mjs:510:5\n",
      "dom.find/</<@chrome://remote/content/shared/DOM.sys.mjs:136:16\n",
      "\n",
      "2024-07-02 12:43:01,570 - AInewsbot - INFO - get_url(The_Best_Bionic_Leg_Yet___A_surgical_procedure_and_muscle-sensing_electrodes_allow_neural_control_of_a_prosthetic_limb___r_gadgets) - Saving The_Best_Bionic_Leg_Yet___A_surgical_procedure_and_muscle-sensing_electrodes_allow_neural_control_of_a_prosthetic_limb___r_gadgets_20240702_124301.html as utf-8\n",
      "2024-07-02 12:43:01,571 - AInewsbot - INFO - Processing https://brobible.com/culture/article/humans-live-1000-years-biotech-ai-nanobots/\n",
      "2024-07-02 12:43:01,572 - AInewsbot - INFO - get_url(https://brobible.com/culture/article/humans-live-1000-years-biotech-ai-nanobots/) - starting get_files https://brobible.com/culture/article/humans-live-1000-years-biotech-ai-nanobots/\n",
      "2024-07-02 12:43:08,549 - AInewsbot - INFO - Message: Unable to locate element: //meta[@http-equiv='Content-Type']; For documentation on this error, please visit: https://www.selenium.dev/documentation/webdriver/troubleshooting/errors#no-such-element-exception\n",
      "Stacktrace:\n",
      "RemoteError@chrome://remote/content/shared/RemoteError.sys.mjs:8:8\n",
      "WebDriverError@chrome://remote/content/shared/webdriver/Errors.sys.mjs:192:5\n",
      "NoSuchElementError@chrome://remote/content/shared/webdriver/Errors.sys.mjs:510:5\n",
      "dom.find/</<@chrome://remote/content/shared/DOM.sys.mjs:136:16\n",
      "\n"
     ]
    },
    {
     "name": "stderr",
     "output_type": "stream",
     "text": [
      "2024-07-02 12:43:08,549 - AInewsbot - INFO - get_url(Judy_Garland__James_Dean__Burt_Reynolds_Estates_Set_AI_Audio_Deal) - Saving Judy_Garland__James_Dean__Burt_Reynolds_Estates_Set_AI_Audio_Deal_20240702_124308.html as utf-8\n",
      "2024-07-02 12:43:08,551 - AInewsbot - INFO - Processing https://news.google.com/articles/CBMid2h0dHBzOi8vYWNjZWxlcmF0aW9uZWNvbm9teS5jb20vY2xvdWQtd2Fycy9hY2NlbGVyYXRpbmctYnVzaW5lc3MtdHJhbnNmb3JtYXRpb24tc2Fwcy1zdHJhdGVneS11bnZlaWxlZC1jbG91ZC13YXJzLWxpdmUv0gEA\n",
      "2024-07-02 12:43:08,551 - AInewsbot - INFO - get_url(https://news.google.com/articles/CBMid2h0dHBzOi8vYWNjZWxlcmF0aW9uZWNvbm9teS5jb20vY2xvdWQtd2Fycy9hY2NlbGVyYXRpbmctYnVzaW5lc3MtdHJhbnNmb3JtYXRpb24tc2Fwcy1zdHJhdGVneS11bnZlaWxlZC1jbG91ZC13YXJzLWxpdmUv0gEA) - starting get_files https://news.google.com/articles/CBMid2h0dHBzOi8vYWNjZWxlcmF0aW9uZWNvbm9teS5jb20vY2xvdWQtd2Fycy9hY2NlbGVyYXRpbmctYnVzaW5lc3MtdHJhbnNmb3JtYXRpb24tc2Fwcy1zdHJhdGVneS11bnZlaWxlZC1jbG91ZC13YXJzLWxpdmUv0gEA\n",
      "2024-07-02 12:43:11,019 - AInewsbot - INFO - Message: Unable to locate element: //meta[@http-equiv='Content-Type']; For documentation on this error, please visit: https://www.selenium.dev/documentation/webdriver/troubleshooting/errors#no-such-element-exception\n",
      "Stacktrace:\n",
      "RemoteError@chrome://remote/content/shared/RemoteError.sys.mjs:8:8\n",
      "WebDriverError@chrome://remote/content/shared/webdriver/Errors.sys.mjs:192:5\n",
      "NoSuchElementError@chrome://remote/content/shared/webdriver/Errors.sys.mjs:510:5\n",
      "dom.find/</<@chrome://remote/content/shared/DOM.sys.mjs:136:16\n",
      "\n",
      "2024-07-02 12:43:11,020 - AInewsbot - INFO - get_url(AI_goes_to_Hollywood__James_Dean__Judy_Garland__and_other_stars_will_read_to_you_now_-_for_free___ZDNET) - Saving AI_goes_to_Hollywood__James_Dean__Judy_Garland__and_other_stars_will_read_to_you_now_-_for_free___ZDNET_20240702_124311.html as utf-8\n",
      "2024-07-02 12:43:11,023 - AInewsbot - INFO - Processing https://news.google.com/articles/CBMiOGh0dHBzOi8vbmV3cy5zYXAuY29tLzIwMjQvMDcvc2FwLWJ1c2luZXNzLWFpLXEyLXJlbGVhc2Uv0gE-aHR0cHM6Ly9uZXdzLnNhcC5jb20vMjAyNC8wNy9zYXAtYnVzaW5lc3MtYWktcTItcmVsZWFzZS8_YW1wPTE\n",
      "2024-07-02 12:43:11,024 - AInewsbot - INFO - get_url(https://news.google.com/articles/CBMiOGh0dHBzOi8vbmV3cy5zYXAuY29tLzIwMjQvMDcvc2FwLWJ1c2luZXNzLWFpLXEyLXJlbGVhc2Uv0gE-aHR0cHM6Ly9uZXdzLnNhcC5jb20vMjAyNC8wNy9zYXAtYnVzaW5lc3MtYWktcTItcmVsZWFzZS8_YW1wPTE) - starting get_files https://news.google.com/articles/CBMiOGh0dHBzOi8vbmV3cy5zYXAuY29tLzIwMjQvMDcvc2FwLWJ1c2luZXNzLWFpLXEyLXJlbGVhc2Uv0gE-aHR0cHM6Ly9uZXdzLnNhcC5jb20vMjAyNC8wNy9zYXAtYnVzaW5lc3MtYWktcTItcmVsZWFzZS8_YW1wPTE\n",
      "2024-07-02 12:43:11,426 - AInewsbot - INFO - Message: Unable to locate element: //meta[@http-equiv='Content-Type']; For documentation on this error, please visit: https://www.selenium.dev/documentation/webdriver/troubleshooting/errors#no-such-element-exception\n",
      "Stacktrace:\n",
      "RemoteError@chrome://remote/content/shared/RemoteError.sys.mjs:8:8\n",
      "WebDriverError@chrome://remote/content/shared/webdriver/Errors.sys.mjs:192:5\n",
      "NoSuchElementError@chrome://remote/content/shared/webdriver/Errors.sys.mjs:510:5\n",
      "dom.find/</<@chrome://remote/content/shared/DOM.sys.mjs:136:16\n",
      "\n",
      "2024-07-02 12:43:11,426 - AInewsbot - INFO - get_url(Geoffrey_Rush_Interview_on_AI__John_Lithgow__Groucho_Marx_Film__KVIFF) - Saving Geoffrey_Rush_Interview_on_AI__John_Lithgow__Groucho_Marx_Film__KVIFF_20240702_124311.html as utf-8\n",
      "2024-07-02 12:43:11,427 - AInewsbot - INFO - Processing https://news.google.com/articles/CBMihQFodHRwczovL25ld3Muc2FwLmNvbS9zZWEvMjAyNC8wNi9haS1lY29zeXN0ZW1zLWNsb3VkLXRyYW5zZm9ybWF0aW9uLWFuZC1zdXN0YWluYWJsZS1haS1sZWFkLW91ci1rZXktbGVhcm5pbmdzLWZyb20tc2FwLXNhcHBoaXJlLTIwMjQv0gEA\n",
      "2024-07-02 12:43:11,428 - AInewsbot - INFO - get_url(https://news.google.com/articles/CBMihQFodHRwczovL25ld3Muc2FwLmNvbS9zZWEvMjAyNC8wNi9haS1lY29zeXN0ZW1zLWNsb3VkLXRyYW5zZm9ybWF0aW9uLWFuZC1zdXN0YWluYWJsZS1haS1sZWFkLW91ci1rZXktbGVhcm5pbmdzLWZyb20tc2FwLXNhcHBoaXJlLTIwMjQv0gEA) - starting get_files https://news.google.com/articles/CBMihQFodHRwczovL25ld3Muc2FwLmNvbS9zZWEvMjAyNC8wNi9haS1lY29zeXN0ZW1zLWNsb3VkLXRyYW5zZm9ybWF0aW9uLWFuZC1zdXN0YWluYWJsZS1haS1sZWFkLW91ci1rZXktbGVhcm5pbmdzLWZyb20tc2FwLXNhcHBoaXJlLTIwMjQv0gEA\n",
      "2024-07-02 12:43:12,797 - AInewsbot - INFO - Message: Unable to locate element: //meta[@http-equiv='Content-Type']; For documentation on this error, please visit: https://www.selenium.dev/documentation/webdriver/troubleshooting/errors#no-such-element-exception\n",
      "Stacktrace:\n",
      "RemoteError@chrome://remote/content/shared/RemoteError.sys.mjs:8:8\n",
      "WebDriverError@chrome://remote/content/shared/webdriver/Errors.sys.mjs:192:5\n",
      "NoSuchElementError@chrome://remote/content/shared/webdriver/Errors.sys.mjs:510:5\n",
      "dom.find/</<@chrome://remote/content/shared/DOM.sys.mjs:136:16\n",
      "\n",
      "2024-07-02 12:43:12,797 - AInewsbot - INFO - get_url(Humans_Will_Live_1_000_Years_Thanks_To_Biotech__Claims_Futurist) - Saving Humans_Will_Live_1_000_Years_Thanks_To_Biotech__Claims_Futurist_20240702_124312.html as utf-8\n",
      "2024-07-02 12:43:12,798 - AInewsbot - INFO - Processing https://news.google.com/articles/CBMid2h0dHBzOi8vd3d3LmZvcmJlcy5jb20vc2l0ZXMvbW9vcmluc2lnaHRzLzIwMjQvMDYvMjcvc2FwLWNoYXJ0cy1hLWNvdXJzZS1mb3ItdGhlLWFpLWRyaXZlbi1lbnRlcnByaXNlLWF0LXNhcHBoaXJlLTIwMjQv0gEA\n",
      "2024-07-02 12:43:12,798 - AInewsbot - INFO - get_url(https://news.google.com/articles/CBMid2h0dHBzOi8vd3d3LmZvcmJlcy5jb20vc2l0ZXMvbW9vcmluc2lnaHRzLzIwMjQvMDYvMjcvc2FwLWNoYXJ0cy1hLWNvdXJzZS1mb3ItdGhlLWFpLWRyaXZlbi1lbnRlcnByaXNlLWF0LXNhcHBoaXJlLTIwMjQv0gEA) - starting get_files https://news.google.com/articles/CBMid2h0dHBzOi8vd3d3LmZvcmJlcy5jb20vc2l0ZXMvbW9vcmluc2lnaHRzLzIwMjQvMDYvMjcvc2FwLWNoYXJ0cy1hLWNvdXJzZS1mb3ItdGhlLWFpLWRyaXZlbi1lbnRlcnByaXNlLWF0LXNhcHBoaXJlLTIwMjQv0gEA\n",
      "2024-07-02 12:43:18,872 - AInewsbot - INFO - Message: Unable to locate element: //meta[@http-equiv='Content-Type']; For documentation on this error, please visit: https://www.selenium.dev/documentation/webdriver/troubleshooting/errors#no-such-element-exception\n",
      "Stacktrace:\n",
      "RemoteError@chrome://remote/content/shared/RemoteError.sys.mjs:8:8\n",
      "WebDriverError@chrome://remote/content/shared/webdriver/Errors.sys.mjs:192:5\n",
      "NoSuchElementError@chrome://remote/content/shared/webdriver/Errors.sys.mjs:510:5\n",
      "dom.find/</<@chrome://remote/content/shared/DOM.sys.mjs:136:16\n",
      "\n",
      "2024-07-02 12:43:18,873 - AInewsbot - INFO - get_url(Accelerating_Business_Transformation__SAP_s_Strategy_Unveiled___Cloud_Wars_Live_-_Acceleration_Economy) - Saving Accelerating_Business_Transformation__SAP_s_Strategy_Unveiled___Cloud_Wars_Live_-_Acceleration_Economy_20240702_124318.html as utf-8\n",
      "2024-07-02 12:43:18,875 - AInewsbot - INFO - Processing https://www.scmp.com/tech/tech-trends/article/3268907/china-eyes-least-50-sets-ai-standards-2026-chips-applications-and-safety\n",
      "2024-07-02 12:43:18,875 - AInewsbot - INFO - get_url(https://www.scmp.com/tech/tech-trends/article/3268907/china-eyes-least-50-sets-ai-standards-2026-chips-applications-and-safety) - starting get_files https://www.scmp.com/tech/tech-trends/article/3268907/china-eyes-least-50-sets-ai-standards-2026-chips-applications-and-safety\n",
      "2024-07-02 12:43:21,333 - AInewsbot - INFO - Message: Unable to locate element: //meta[@http-equiv='Content-Type']; For documentation on this error, please visit: https://www.selenium.dev/documentation/webdriver/troubleshooting/errors#no-such-element-exception\n",
      "Stacktrace:\n",
      "RemoteError@chrome://remote/content/shared/RemoteError.sys.mjs:8:8\n",
      "WebDriverError@chrome://remote/content/shared/webdriver/Errors.sys.mjs:192:5\n",
      "NoSuchElementError@chrome://remote/content/shared/webdriver/Errors.sys.mjs:510:5\n",
      "dom.find/</<@chrome://remote/content/shared/DOM.sys.mjs:136:16\n",
      "\n",
      "2024-07-02 12:43:21,333 - AInewsbot - INFO - get_url(SAP_Business_AI__Q2_2024_Release___SAP_News_Center) - Saving SAP_Business_AI__Q2_2024_Release___SAP_News_Center_20240702_124321.html as utf-8\n",
      "2024-07-02 12:43:21,334 - AInewsbot - INFO - Processing https://news.google.com/articles/CBMiigFodHRwczovL3d3dy5wb3N0cmVnaXN0ZXIuY29tL25ld3MvbmF0aW9uYWwvdW5pdGVkLW5hdGlvbnMtY2hpbmEtdXMtYXJ0aWZpY2lhbC1pbnRlbGxpZ2VuY2UvaW1hZ2VfMGUwOGM2ZTQtNmZlNC01YTEyLWE0NWMtN2JmODRmZTA2ZjNiLmh0bWzSAQA\n",
      "2024-07-02 12:43:21,334 - AInewsbot - INFO - get_url(https://news.google.com/articles/CBMiigFodHRwczovL3d3dy5wb3N0cmVnaXN0ZXIuY29tL25ld3MvbmF0aW9uYWwvdW5pdGVkLW5hdGlvbnMtY2hpbmEtdXMtYXJ0aWZpY2lhbC1pbnRlbGxpZ2VuY2UvaW1hZ2VfMGUwOGM2ZTQtNmZlNC01YTEyLWE0NWMtN2JmODRmZTA2ZjNiLmh0bWzSAQA) - starting get_files https://news.google.com/articles/CBMiigFodHRwczovL3d3dy5wb3N0cmVnaXN0ZXIuY29tL25ld3MvbmF0aW9uYWwvdW5pdGVkLW5hdGlvbnMtY2hpbmEtdXMtYXJ0aWZpY2lhbC1pbnRlbGxpZ2VuY2UvaW1hZ2VfMGUwOGM2ZTQtNmZlNC01YTEyLWE0NWMtN2JmODRmZTA2ZjNiLmh0bWzSAQA\n"
     ]
    },
    {
     "name": "stderr",
     "output_type": "stream",
     "text": [
      "2024-07-02 12:43:21,846 - AInewsbot - INFO - Message: Unable to locate element: //meta[@http-equiv='Content-Type']; For documentation on this error, please visit: https://www.selenium.dev/documentation/webdriver/troubleshooting/errors#no-such-element-exception\n",
      "Stacktrace:\n",
      "RemoteError@chrome://remote/content/shared/RemoteError.sys.mjs:8:8\n",
      "WebDriverError@chrome://remote/content/shared/webdriver/Errors.sys.mjs:192:5\n",
      "NoSuchElementError@chrome://remote/content/shared/webdriver/Errors.sys.mjs:510:5\n",
      "dom.find/</<@chrome://remote/content/shared/DOM.sys.mjs:136:16\n",
      "\n",
      "2024-07-02 12:43:21,846 - AInewsbot - INFO - get_url(AI_ecosystems__cloud_transformation__and_sustainable_AI_lead_our_key_learnings_from_SAP_Sapphire_2024_-_SAP_Southeast_Asia_News_Center) - Saving AI_ecosystems__cloud_transformation__and_sustainable_AI_lead_our_key_learnings_from_SAP_Sapphire_2024_-_SAP_Southeast_Asia_News_Center_20240702_124321.html as utf-8\n",
      "2024-07-02 12:43:21,847 - AInewsbot - INFO - Processing https://news.google.com/articles/CBMiUWh0dHBzOi8vZW5nbGlzaC53d3cuZ292LmNuL25ld3MvMjAyNDA3LzAyL2NvbnRlbnRfV1M2NjgzNTQzNGM2ZDA4NjhmNGU4ZThjMjYuaHRtbNIBAA\n",
      "2024-07-02 12:43:21,847 - AInewsbot - INFO - get_url(https://news.google.com/articles/CBMiUWh0dHBzOi8vZW5nbGlzaC53d3cuZ292LmNuL25ld3MvMjAyNDA3LzAyL2NvbnRlbnRfV1M2NjgzNTQzNGM2ZDA4NjhmNGU4ZThjMjYuaHRtbNIBAA) - starting get_files https://news.google.com/articles/CBMiUWh0dHBzOi8vZW5nbGlzaC53d3cuZ292LmNuL25ld3MvMjAyNDA3LzAyL2NvbnRlbnRfV1M2NjgzNTQzNGM2ZDA4NjhmNGU4ZThjMjYuaHRtbNIBAA\n",
      "2024-07-02 12:43:23,206 - AInewsbot - INFO - Message: Unable to locate element: //meta[@http-equiv='Content-Type']; For documentation on this error, please visit: https://www.selenium.dev/documentation/webdriver/troubleshooting/errors#no-such-element-exception\n",
      "Stacktrace:\n",
      "RemoteError@chrome://remote/content/shared/RemoteError.sys.mjs:8:8\n",
      "WebDriverError@chrome://remote/content/shared/webdriver/Errors.sys.mjs:192:5\n",
      "NoSuchElementError@chrome://remote/content/shared/webdriver/Errors.sys.mjs:510:5\n",
      "dom.find/</<@chrome://remote/content/shared/DOM.sys.mjs:136:16\n",
      "\n",
      "2024-07-02 12:43:23,207 - AInewsbot - INFO - get_url(SAP_Charts_A_Course_For_The_AI-Driven_Enterprise_At_Sapphire_2024) - Saving SAP_Charts_A_Course_For_The_AI-Driven_Enterprise_At_Sapphire_2024_20240702_124323.html as utf-8\n",
      "2024-07-02 12:43:23,209 - AInewsbot - INFO - Processing https://www.actionnewsjax.com/news/un-adopts-chinese/PFICKEUIWRBSVNZPEONWYP6DB4/\n",
      "2024-07-02 12:43:23,209 - AInewsbot - INFO - get_url(https://www.actionnewsjax.com/news/un-adopts-chinese/PFICKEUIWRBSVNZPEONWYP6DB4/) - starting get_files https://www.actionnewsjax.com/news/un-adopts-chinese/PFICKEUIWRBSVNZPEONWYP6DB4/\n",
      "2024-07-02 12:43:29,894 - AInewsbot - INFO - Message: Unable to locate element: //meta[@http-equiv='Content-Type']; For documentation on this error, please visit: https://www.selenium.dev/documentation/webdriver/troubleshooting/errors#no-such-element-exception\n",
      "Stacktrace:\n",
      "RemoteError@chrome://remote/content/shared/RemoteError.sys.mjs:8:8\n",
      "WebDriverError@chrome://remote/content/shared/webdriver/Errors.sys.mjs:192:5\n",
      "NoSuchElementError@chrome://remote/content/shared/webdriver/Errors.sys.mjs:510:5\n",
      "dom.find/</<@chrome://remote/content/shared/DOM.sys.mjs:136:16\n",
      "\n",
      "2024-07-02 12:43:29,895 - AInewsbot - INFO - get_url(China_eyes_at_least_50_sets_of_AI_standards_by_2026__from_chips_to_applications_and_safety___South_China_Morning_Post) - Saving China_eyes_at_least_50_sets_of_AI_standards_by_2026__from_chips_to_applications_and_safety___South_China_Morning_Post_20240702_124329.html as utf-8\n",
      "2024-07-02 12:43:29,897 - AInewsbot - INFO - Processing https://news.google.com/articles/CBMiSGh0dHBzOi8vZW5nbGlzaC5uZXdzLmNuLzIwMjQwNzAyL2IzMWFhMGRlYTgwNDRkY2JhNThmZDBhMzJkNDM0ZDEyL2MuaHRtbNIBAA\n",
      "2024-07-02 12:43:29,898 - AInewsbot - INFO - get_url(https://news.google.com/articles/CBMiSGh0dHBzOi8vZW5nbGlzaC5uZXdzLmNuLzIwMjQwNzAyL2IzMWFhMGRlYTgwNDRkY2JhNThmZDBhMzJkNDM0ZDEyL2MuaHRtbNIBAA) - starting get_files https://news.google.com/articles/CBMiSGh0dHBzOi8vZW5nbGlzaC5uZXdzLmNuLzIwMjQwNzAyL2IzMWFhMGRlYTgwNDRkY2JhNThmZDBhMzJkNDM0ZDEyL2MuaHRtbNIBAA\n",
      "2024-07-02 12:43:31,747 - AInewsbot - INFO - Message: Unable to locate element: //meta[@http-equiv='Content-Type']; For documentation on this error, please visit: https://www.selenium.dev/documentation/webdriver/troubleshooting/errors#no-such-element-exception\n",
      "Stacktrace:\n",
      "RemoteError@chrome://remote/content/shared/RemoteError.sys.mjs:8:8\n",
      "WebDriverError@chrome://remote/content/shared/webdriver/Errors.sys.mjs:192:5\n",
      "NoSuchElementError@chrome://remote/content/shared/webdriver/Errors.sys.mjs:510:5\n",
      "dom.find/</<@chrome://remote/content/shared/DOM.sys.mjs:136:16\n",
      "\n",
      "2024-07-02 12:43:31,748 - AInewsbot - INFO - get_url(United_Nations_China_US_Artificial_Intelligence___National_News___postregister_com) - Saving United_Nations_China_US_Artificial_Intelligence___National_News___postregister_com_20240702_124331.html as utf-8\n",
      "2024-07-02 12:43:31,749 - AInewsbot - INFO - Processing https://news.google.com/articles/CBMiamh0dHBzOi8vd3d3LmV1cm9uZXdzLmNvbS9uZXh0LzIwMjQvMDcvMDIvYWktZ2VuZXJhdGVkLWV4YW0tcGFwZXJzLWdvLXVuZGV0ZWN0ZWQtaW4tOTQtb2YtY2FzZXMtc3R1ZHktZmluZHPSAQA\n",
      "2024-07-02 12:43:31,750 - AInewsbot - INFO - get_url(https://news.google.com/articles/CBMiamh0dHBzOi8vd3d3LmV1cm9uZXdzLmNvbS9uZXh0LzIwMjQvMDcvMDIvYWktZ2VuZXJhdGVkLWV4YW0tcGFwZXJzLWdvLXVuZGV0ZWN0ZWQtaW4tOTQtb2YtY2FzZXMtc3R1ZHktZmluZHPSAQA) - starting get_files https://news.google.com/articles/CBMiamh0dHBzOi8vd3d3LmV1cm9uZXdzLmNvbS9uZXh0LzIwMjQvMDcvMDIvYWktZ2VuZXJhdGVkLWV4YW0tcGFwZXJzLWdvLXVuZGV0ZWN0ZWQtaW4tOTQtb2YtY2FzZXMtc3R1ZHktZmluZHPSAQA\n",
      "2024-07-02 12:43:32,196 - AInewsbot - INFO - Message: Unable to locate element: //meta[@http-equiv='Content-Type']; For documentation on this error, please visit: https://www.selenium.dev/documentation/webdriver/troubleshooting/errors#no-such-element-exception\n",
      "Stacktrace:\n",
      "RemoteError@chrome://remote/content/shared/RemoteError.sys.mjs:8:8\n",
      "WebDriverError@chrome://remote/content/shared/webdriver/Errors.sys.mjs:192:5\n",
      "NoSuchElementError@chrome://remote/content/shared/webdriver/Errors.sys.mjs:510:5\n",
      "dom.find/</<@chrome://remote/content/shared/DOM.sys.mjs:136:16\n",
      "\n",
      "2024-07-02 12:43:32,197 - AInewsbot - INFO - get_url(China_advocates_for_AI_cooperation_to_advance_women_s_rights) - Saving China_advocates_for_AI_cooperation_to_advance_women_s_rights_20240702_124332.html as utf-8\n",
      "2024-07-02 12:43:32,198 - AInewsbot - INFO - Processing https://news.google.com/articles/CBMiS2h0dHBzOi8vc2NpdGVjaGRhaWx5LmNvbS9haS1vdXRwZXJmb3Jtcy1zdHVkZW50cy1pbi1yZWFsLXdvcmxkLXR1cmluZy10ZXN0L9IBAA\n",
      "2024-07-02 12:43:32,198 - AInewsbot - INFO - get_url(https://news.google.com/articles/CBMiS2h0dHBzOi8vc2NpdGVjaGRhaWx5LmNvbS9haS1vdXRwZXJmb3Jtcy1zdHVkZW50cy1pbi1yZWFsLXdvcmxkLXR1cmluZy10ZXN0L9IBAA) - starting get_files https://news.google.com/articles/CBMiS2h0dHBzOi8vc2NpdGVjaGRhaWx5LmNvbS9haS1vdXRwZXJmb3Jtcy1zdHVkZW50cy1pbi1yZWFsLXdvcmxkLXR1cmluZy10ZXN0L9IBAA\n",
      "2024-07-02 12:43:36,429 - AInewsbot - INFO - Message: Unable to locate element: //meta[@http-equiv='Content-Type']; For documentation on this error, please visit: https://www.selenium.dev/documentation/webdriver/troubleshooting/errors#no-such-element-exception\n",
      "Stacktrace:\n",
      "RemoteError@chrome://remote/content/shared/RemoteError.sys.mjs:8:8\n",
      "WebDriverError@chrome://remote/content/shared/webdriver/Errors.sys.mjs:192:5\n",
      "NoSuchElementError@chrome://remote/content/shared/webdriver/Errors.sys.mjs:510:5\n",
      "dom.find/</<@chrome://remote/content/shared/DOM.sys.mjs:136:16\n",
      "\n",
      "2024-07-02 12:43:36,429 - AInewsbot - INFO - get_url(UN_adopts_Chinese_resolution_with_US_support_on_closing_the_gap_in_access_to_artificial_intelligence___Action_News_Jax) - Saving UN_adopts_Chinese_resolution_with_US_support_on_closing_the_gap_in_access_to_artificial_intelligence___Action_News_Jax_20240702_124336.html as utf-8\n",
      "2024-07-02 12:43:36,431 - AInewsbot - INFO - Processing https://news.google.com/articles/CBMiMGh0dHBzOi8vd3d3LmJiYy5jby51ay9uZXdzL2FydGljbGVzL2NxcXFsbjBlZzY1b9IBAA\n",
      "2024-07-02 12:43:36,431 - AInewsbot - INFO - get_url(https://news.google.com/articles/CBMiMGh0dHBzOi8vd3d3LmJiYy5jby51ay9uZXdzL2FydGljbGVzL2NxcXFsbjBlZzY1b9IBAA) - starting get_files https://news.google.com/articles/CBMiMGh0dHBzOi8vd3d3LmJiYy5jby51ay9uZXdzL2FydGljbGVzL2NxcXFsbjBlZzY1b9IBAA\n"
     ]
    },
    {
     "name": "stderr",
     "output_type": "stream",
     "text": [
      "2024-07-02 12:43:40,221 - AInewsbot - INFO - Message: Unable to locate element: //meta[@http-equiv='Content-Type']; For documentation on this error, please visit: https://www.selenium.dev/documentation/webdriver/troubleshooting/errors#no-such-element-exception\n",
      "Stacktrace:\n",
      "RemoteError@chrome://remote/content/shared/RemoteError.sys.mjs:8:8\n",
      "WebDriverError@chrome://remote/content/shared/webdriver/Errors.sys.mjs:192:5\n",
      "NoSuchElementError@chrome://remote/content/shared/webdriver/Errors.sys.mjs:510:5\n",
      "dom.find/</<@chrome://remote/content/shared/DOM.sys.mjs:136:16\n",
      "\n",
      "2024-07-02 12:43:40,222 - AInewsbot - INFO - get_url(Xinhua_News___UNGA_adopts_China-proposed_resolution_to_enhance_int_l_cooperation_on_AI_capacity-building-Xinhua) - Saving Xinhua_News___UNGA_adopts_China-proposed_resolution_to_enhance_int_l_cooperation_on_AI_capacity-building-Xinhua_20240702_124340.html as utf-8\n",
      "2024-07-02 12:43:40,222 - AInewsbot - INFO - Processing https://news.google.com/articles/CBMie2h0dHBzOi8vd3d3Lm5wci5vcmcvMjAyNC8wNy8wMi9ueC1zMS01MDIwMzE3L2NhbGlmLWJpbGwtd291bGQtdGFrZS1zdGVwcy10by1lbnN1cmUtYWktbW9kZWxzLXdvbnQtY2F1c2UtY2F0YXN0cm9waGljLWV2ZW50c9IBAA\n",
      "2024-07-02 12:43:40,222 - AInewsbot - INFO - get_url(https://news.google.com/articles/CBMie2h0dHBzOi8vd3d3Lm5wci5vcmcvMjAyNC8wNy8wMi9ueC1zMS01MDIwMzE3L2NhbGlmLWJpbGwtd291bGQtdGFrZS1zdGVwcy10by1lbnN1cmUtYWktbW9kZWxzLXdvbnQtY2F1c2UtY2F0YXN0cm9waGljLWV2ZW50c9IBAA) - starting get_files https://news.google.com/articles/CBMie2h0dHBzOi8vd3d3Lm5wci5vcmcvMjAyNC8wNy8wMi9ueC1zMS01MDIwMzE3L2NhbGlmLWJpbGwtd291bGQtdGFrZS1zdGVwcy10by1lbnN1cmUtYWktbW9kZWxzLXdvbnQtY2F1c2UtY2F0YXN0cm9waGljLWV2ZW50c9IBAA\n",
      "2024-07-02 12:43:42,132 - AInewsbot - INFO - Message: Unable to locate element: //meta[@http-equiv='Content-Type']; For documentation on this error, please visit: https://www.selenium.dev/documentation/webdriver/troubleshooting/errors#no-such-element-exception\n",
      "Stacktrace:\n",
      "RemoteError@chrome://remote/content/shared/RemoteError.sys.mjs:8:8\n",
      "WebDriverError@chrome://remote/content/shared/webdriver/Errors.sys.mjs:192:5\n",
      "NoSuchElementError@chrome://remote/content/shared/webdriver/Errors.sys.mjs:510:5\n",
      "dom.find/</<@chrome://remote/content/shared/DOM.sys.mjs:136:16\n",
      "\n",
      "2024-07-02 12:43:42,133 - AInewsbot - INFO - get_url(AI-generated_exam_papers_go_undetected_in_94__of_cases__study_finds___Euronews) - Saving AI-generated_exam_papers_go_undetected_in_94__of_cases__study_finds___Euronews_20240702_124342.html as utf-8\n",
      "2024-07-02 12:43:42,134 - AInewsbot - INFO - Processing https://www.fastcompany.com/91150396/meta-is-against-californias-ai-bill-heres-why\n",
      "2024-07-02 12:43:42,134 - AInewsbot - INFO - get_url(https://www.fastcompany.com/91150396/meta-is-against-californias-ai-bill-heres-why) - starting get_files https://www.fastcompany.com/91150396/meta-is-against-californias-ai-bill-heres-why\n",
      "2024-07-02 12:43:42,512 - AInewsbot - INFO - Message: Unable to locate element: //meta[@http-equiv='Content-Type']; For documentation on this error, please visit: https://www.selenium.dev/documentation/webdriver/troubleshooting/errors#no-such-element-exception\n",
      "Stacktrace:\n",
      "RemoteError@chrome://remote/content/shared/RemoteError.sys.mjs:8:8\n",
      "WebDriverError@chrome://remote/content/shared/webdriver/Errors.sys.mjs:192:5\n",
      "NoSuchElementError@chrome://remote/content/shared/webdriver/Errors.sys.mjs:510:5\n",
      "dom.find/</<@chrome://remote/content/shared/DOM.sys.mjs:136:16\n",
      "\n",
      "2024-07-02 12:43:42,513 - AInewsbot - INFO - get_url(AI_Outperforms_Students_in_Real-World__Turing_Test_) - Saving AI_Outperforms_Students_in_Real-World__Turing_Test__20240702_124342.html as utf-8\n",
      "2024-07-02 12:43:42,514 - AInewsbot - INFO - Processing https://news.google.com/articles/CBMieGh0dHBzOi8vd3d3LnRlY2hub2xvZ3lyZXZpZXcuY29tLzIwMjQvMDcvMDIvMTA5NDUwOC9haS1jb21wYW5pZXMtYXJlLWZpbmFsbHktYmVpbmctZm9yY2VkLXRvLWNvdWdoLXVwLWZvci10cmFpbmluZy1kYXRhL9IBfGh0dHBzOi8vd3d3LnRlY2hub2xvZ3lyZXZpZXcuY29tLzIwMjQvMDcvMDIvMTA5NDUwOC9haS1jb21wYW5pZXMtYXJlLWZpbmFsbHktYmVpbmctZm9yY2VkLXRvLWNvdWdoLXVwLWZvci10cmFpbmluZy1kYXRhL2FtcC8\n",
      "2024-07-02 12:43:42,515 - AInewsbot - INFO - get_url(https://news.google.com/articles/CBMieGh0dHBzOi8vd3d3LnRlY2hub2xvZ3lyZXZpZXcuY29tLzIwMjQvMDcvMDIvMTA5NDUwOC9haS1jb21wYW5pZXMtYXJlLWZpbmFsbHktYmVpbmctZm9yY2VkLXRvLWNvdWdoLXVwLWZvci10cmFpbmluZy1kYXRhL9IBfGh0dHBzOi8vd3d3LnRlY2hub2xvZ3lyZXZpZXcuY29tLzIwMjQvMDcvMDIvMTA5NDUwOC9haS1jb21wYW5pZXMtYXJlLWZpbmFsbHktYmVpbmctZm9yY2VkLXRvLWNvdWdoLXVwLWZvci10cmFpbmluZy1kYXRhL2FtcC8) - starting get_files https://news.google.com/articles/CBMieGh0dHBzOi8vd3d3LnRlY2hub2xvZ3lyZXZpZXcuY29tLzIwMjQvMDcvMDIvMTA5NDUwOC9haS1jb21wYW5pZXMtYXJlLWZpbmFsbHktYmVpbmctZm9yY2VkLXRvLWNvdWdoLXVwLWZvci10cmFpbmluZy1kYXRhL9IBfGh0dHBzOi8vd3d3LnRlY2hub2xvZ3lyZXZpZXcuY29tLzIwMjQvMDcvMDIvMTA5NDUwOC9haS1jb21wYW5pZXMtYXJlLWZpbmFsbHktYmVpbmctZm9yY2VkLXRvLWNvdWdoLXVwLWZvci10cmFpbmluZy1kYXRhL2FtcC8\n",
      "2024-07-02 12:43:46,781 - AInewsbot - INFO - Message: Unable to locate element: //meta[@http-equiv='Content-Type']; For documentation on this error, please visit: https://www.selenium.dev/documentation/webdriver/troubleshooting/errors#no-such-element-exception\n",
      "Stacktrace:\n",
      "RemoteError@chrome://remote/content/shared/RemoteError.sys.mjs:8:8\n",
      "WebDriverError@chrome://remote/content/shared/webdriver/Errors.sys.mjs:192:5\n",
      "NoSuchElementError@chrome://remote/content/shared/webdriver/Errors.sys.mjs:510:5\n",
      "dom.find/</<@chrome://remote/content/shared/DOM.sys.mjs:136:16\n",
      "\n",
      "2024-07-02 12:43:46,782 - AInewsbot - INFO - get_url(AI_can_beat_real_university_students_in_exams__study_suggests) - Saving AI_can_beat_real_university_students_in_exams__study_suggests_20240702_124346.html as utf-8\n",
      "2024-07-02 12:43:46,784 - AInewsbot - INFO - Processing https://news.google.com/articles/CBMigAFodHRwczovL3d3dy50aGVnbG9iZWFuZG1haWwuY29tL2J1c2luZXNzL2NvbW1lbnRhcnkvYXJ0aWNsZS1yZWNvcmQtbGFiZWxzLWFyZS1zdWluZy1hcnRpZmljaWFsLWludGVsbGlnZW5jZS1jb21wYW5pZXMtaGVyZXMtd2h5L9IBAA\n",
      "2024-07-02 12:43:46,784 - AInewsbot - INFO - get_url(https://news.google.com/articles/CBMigAFodHRwczovL3d3dy50aGVnbG9iZWFuZG1haWwuY29tL2J1c2luZXNzL2NvbW1lbnRhcnkvYXJ0aWNsZS1yZWNvcmQtbGFiZWxzLWFyZS1zdWluZy1hcnRpZmljaWFsLWludGVsbGlnZW5jZS1jb21wYW5pZXMtaGVyZXMtd2h5L9IBAA) - starting get_files https://news.google.com/articles/CBMigAFodHRwczovL3d3dy50aGVnbG9iZWFuZG1haWwuY29tL2J1c2luZXNzL2NvbW1lbnRhcnkvYXJ0aWNsZS1yZWNvcmQtbGFiZWxzLWFyZS1zdWluZy1hcnRpZmljaWFsLWludGVsbGlnZW5jZS1jb21wYW5pZXMtaGVyZXMtd2h5L9IBAA\n",
      "2024-07-02 12:43:50,523 - AInewsbot - INFO - Message: Unable to locate element: //meta[@http-equiv='Content-Type']; For documentation on this error, please visit: https://www.selenium.dev/documentation/webdriver/troubleshooting/errors#no-such-element-exception\n",
      "Stacktrace:\n",
      "RemoteError@chrome://remote/content/shared/RemoteError.sys.mjs:8:8\n",
      "WebDriverError@chrome://remote/content/shared/webdriver/Errors.sys.mjs:192:5\n",
      "NoSuchElementError@chrome://remote/content/shared/webdriver/Errors.sys.mjs:510:5\n",
      "dom.find/</<@chrome://remote/content/shared/DOM.sys.mjs:136:16\n",
      "\n",
      "2024-07-02 12:43:50,523 - AInewsbot - INFO - get_url(Calif__bill_would_take_steps_to_ensure_AI_models_won_t_cause_catastrophic_events___NPR) - Saving Calif__bill_would_take_steps_to_ensure_AI_models_won_t_cause_catastrophic_events___NPR_20240702_124350.html as utf-8\n",
      "2024-07-02 12:43:50,524 - AInewsbot - INFO - Processing https://news.google.com/articles/CBMiS2h0dHBzOi8vd3d3LnNwZWN0YXRvci5jby51ay9hcnRpY2xlL2FpLWlzLWJvdGgtbGliZXJhdGluZy1hbmQtZW5zbGF2aW5nLXVzL9IBAA\n",
      "2024-07-02 12:43:50,525 - AInewsbot - INFO - get_url(https://news.google.com/articles/CBMiS2h0dHBzOi8vd3d3LnNwZWN0YXRvci5jby51ay9hcnRpY2xlL2FpLWlzLWJvdGgtbGliZXJhdGluZy1hbmQtZW5zbGF2aW5nLXVzL9IBAA) - starting get_files https://news.google.com/articles/CBMiS2h0dHBzOi8vd3d3LnNwZWN0YXRvci5jby51ay9hcnRpY2xlL2FpLWlzLWJvdGgtbGliZXJhdGluZy1hbmQtZW5zbGF2aW5nLXVzL9IBAA\n",
      "2024-07-02 12:43:52,541 - AInewsbot - INFO - Message: Unable to locate element: //meta[@http-equiv='Content-Type']; For documentation on this error, please visit: https://www.selenium.dev/documentation/webdriver/troubleshooting/errors#no-such-element-exception\n",
      "Stacktrace:\n",
      "RemoteError@chrome://remote/content/shared/RemoteError.sys.mjs:8:8\n",
      "WebDriverError@chrome://remote/content/shared/webdriver/Errors.sys.mjs:192:5\n",
      "NoSuchElementError@chrome://remote/content/shared/webdriver/Errors.sys.mjs:510:5\n",
      "dom.find/</<@chrome://remote/content/shared/DOM.sys.mjs:136:16\n",
      "\n"
     ]
    },
    {
     "name": "stderr",
     "output_type": "stream",
     "text": [
      "2024-07-02 12:43:52,542 - AInewsbot - INFO - get_url(California_AI_proposal_faces_opposition_by_Meta_-_Fast_Company) - Saving California_AI_proposal_faces_opposition_by_Meta_-_Fast_Company_20240702_124352.html as utf-8\n",
      "2024-07-02 12:43:52,543 - AInewsbot - INFO - Processing https://www.newsday.com/business/genai-training-data-stack-overflow-reddit-q91223\n",
      "2024-07-02 12:43:52,543 - AInewsbot - INFO - get_url(https://www.newsday.com/business/genai-training-data-stack-overflow-reddit-q91223) - starting get_files https://www.newsday.com/business/genai-training-data-stack-overflow-reddit-q91223\n",
      "2024-07-02 12:43:52,828 - AInewsbot - INFO - Message: Unable to locate element: //meta[@http-equiv='Content-Type']; For documentation on this error, please visit: https://www.selenium.dev/documentation/webdriver/troubleshooting/errors#no-such-element-exception\n",
      "Stacktrace:\n",
      "RemoteError@chrome://remote/content/shared/RemoteError.sys.mjs:8:8\n",
      "WebDriverError@chrome://remote/content/shared/webdriver/Errors.sys.mjs:192:5\n",
      "NoSuchElementError@chrome://remote/content/shared/webdriver/Errors.sys.mjs:510:5\n",
      "dom.find/</<@chrome://remote/content/shared/DOM.sys.mjs:136:16\n",
      "\n",
      "2024-07-02 12:43:52,828 - AInewsbot - INFO - get_url(AI_companies_are_finally_being_forced_to_cough_up_for_training_data___MIT_Technology_Review) - Saving AI_companies_are_finally_being_forced_to_cough_up_for_training_data___MIT_Technology_Review_20240702_124352.html as utf-8\n",
      "2024-07-02 12:43:52,830 - AInewsbot - INFO - Processing https://news.google.com/articles/CBMiW2h0dHBzOi8vd3d3Lm1hZXJzay5jb20vaW5zaWdodHMvZGlnaXRhbGlzYXRpb24vMjAyNC8wNy8wMi9haS1pbi1sb2dpc3RpY3MtYW5kLXN1cHBseS1jaGFpbnPSAQA\n",
      "2024-07-02 12:43:52,830 - AInewsbot - INFO - get_url(https://news.google.com/articles/CBMiW2h0dHBzOi8vd3d3Lm1hZXJzay5jb20vaW5zaWdodHMvZGlnaXRhbGlzYXRpb24vMjAyNC8wNy8wMi9haS1pbi1sb2dpc3RpY3MtYW5kLXN1cHBseS1jaGFpbnPSAQA) - starting get_files https://news.google.com/articles/CBMiW2h0dHBzOi8vd3d3Lm1hZXJzay5jb20vaW5zaWdodHMvZGlnaXRhbGlzYXRpb24vMjAyNC8wNy8wMi9haS1pbi1sb2dpc3RpY3MtYW5kLXN1cHBseS1jaGFpbnPSAQA\n",
      "2024-07-02 12:43:57,129 - AInewsbot - INFO - Message: Unable to locate element: //meta[@http-equiv='Content-Type']; For documentation on this error, please visit: https://www.selenium.dev/documentation/webdriver/troubleshooting/errors#no-such-element-exception\n",
      "Stacktrace:\n",
      "RemoteError@chrome://remote/content/shared/RemoteError.sys.mjs:8:8\n",
      "WebDriverError@chrome://remote/content/shared/webdriver/Errors.sys.mjs:192:5\n",
      "NoSuchElementError@chrome://remote/content/shared/webdriver/Errors.sys.mjs:510:5\n",
      "dom.find/</<@chrome://remote/content/shared/DOM.sys.mjs:136:16\n",
      "\n",
      "2024-07-02 12:43:57,130 - AInewsbot - INFO - get_url(Opinion__Record_labels_are_suing_artificial-intelligence_companies__Here_s_why_that_s_important_-_The_Globe_and_Mail) - Saving Opinion__Record_labels_are_suing_artificial-intelligence_companies__Here_s_why_that_s_important_-_The_Globe_and_Mail_20240702_124357.html as utf-8\n",
      "2024-07-02 12:43:57,131 - AInewsbot - INFO - Processing https://news.google.com/articles/CBMiaGh0dHBzOi8vd3d3LmV5LmNvbS9lbl9zZS9jb25zdWx0aW5nL2hvdy13aWxsLWdlbi1haS1wcm9tcHQtYS1zdGVwLWNoYW5nZS10b3dhcmQtYXV0b25vbW91cy1zdXBwbHktY2hhaW5z0gEA\n",
      "2024-07-02 12:43:57,131 - AInewsbot - INFO - get_url(https://news.google.com/articles/CBMiaGh0dHBzOi8vd3d3LmV5LmNvbS9lbl9zZS9jb25zdWx0aW5nL2hvdy13aWxsLWdlbi1haS1wcm9tcHQtYS1zdGVwLWNoYW5nZS10b3dhcmQtYXV0b25vbW91cy1zdXBwbHktY2hhaW5z0gEA) - starting get_files https://news.google.com/articles/CBMiaGh0dHBzOi8vd3d3LmV5LmNvbS9lbl9zZS9jb25zdWx0aW5nL2hvdy13aWxsLWdlbi1haS1wcm9tcHQtYS1zdGVwLWNoYW5nZS10b3dhcmQtYXV0b25vbW91cy1zdXBwbHktY2hhaW5z0gEA\n",
      "2024-07-02 12:44:00,815 - AInewsbot - INFO - Message: Unable to locate element: //meta[@http-equiv='Content-Type']; For documentation on this error, please visit: https://www.selenium.dev/documentation/webdriver/troubleshooting/errors#no-such-element-exception\n",
      "Stacktrace:\n",
      "RemoteError@chrome://remote/content/shared/RemoteError.sys.mjs:8:8\n",
      "WebDriverError@chrome://remote/content/shared/webdriver/Errors.sys.mjs:192:5\n",
      "NoSuchElementError@chrome://remote/content/shared/webdriver/Errors.sys.mjs:510:5\n",
      "dom.find/</<@chrome://remote/content/shared/DOM.sys.mjs:136:16\n",
      "\n",
      "2024-07-02 12:44:00,816 - AInewsbot - INFO - get_url(AI_is_both_liberating_and_enslaving_us___The_Spectator) - Saving AI_is_both_liberating_and_enslaving_us___The_Spectator_20240702_124400.html as utf-8\n",
      "2024-07-02 12:44:00,818 - AInewsbot - INFO - Processing https://venturebeat.com/ai/how-next-gen-ai-technology-is-transforming-daily-work-for-employees/\n",
      "2024-07-02 12:44:00,818 - AInewsbot - INFO - get_url(https://venturebeat.com/ai/how-next-gen-ai-technology-is-transforming-daily-work-for-employees/) - starting get_files https://venturebeat.com/ai/how-next-gen-ai-technology-is-transforming-daily-work-for-employees/\n",
      "2024-07-02 12:44:03,128 - AInewsbot - INFO - Message: Unable to locate element: //meta[@http-equiv='Content-Type']; For documentation on this error, please visit: https://www.selenium.dev/documentation/webdriver/troubleshooting/errors#no-such-element-exception\n",
      "Stacktrace:\n",
      "RemoteError@chrome://remote/content/shared/RemoteError.sys.mjs:8:8\n",
      "WebDriverError@chrome://remote/content/shared/webdriver/Errors.sys.mjs:192:5\n",
      "NoSuchElementError@chrome://remote/content/shared/webdriver/Errors.sys.mjs:510:5\n",
      "dom.find/</<@chrome://remote/content/shared/DOM.sys.mjs:136:16\n",
      "\n",
      "2024-07-02 12:44:03,129 - AInewsbot - INFO - get_url(Eye_on_the_future_-_AI_in_supply_chains_and_logistics___Maersk) - Saving Eye_on_the_future_-_AI_in_supply_chains_and_logistics___Maersk_20240702_124403.html as utf-8\n",
      "2024-07-02 12:44:03,130 - AInewsbot - INFO - Processing https://www.geeky-gadgets.com/ai-and-the-world-economy/\n",
      "2024-07-02 12:44:03,130 - AInewsbot - INFO - get_url(https://www.geeky-gadgets.com/ai-and-the-world-economy/) - starting get_files https://www.geeky-gadgets.com/ai-and-the-world-economy/\n",
      "2024-07-02 12:44:03,957 - AInewsbot - INFO - Message: Unable to locate element: //meta[@http-equiv='Content-Type']; For documentation on this error, please visit: https://www.selenium.dev/documentation/webdriver/troubleshooting/errors#no-such-element-exception\n",
      "Stacktrace:\n",
      "RemoteError@chrome://remote/content/shared/RemoteError.sys.mjs:8:8\n",
      "WebDriverError@chrome://remote/content/shared/webdriver/Errors.sys.mjs:192:5\n",
      "NoSuchElementError@chrome://remote/content/shared/webdriver/Errors.sys.mjs:510:5\n",
      "dom.find/</<@chrome://remote/content/shared/DOM.sys.mjs:136:16\n",
      "\n",
      "2024-07-02 12:44:03,958 - AInewsbot - INFO - get_url(AI_is_learning_from_what_you_said_on_Reddit__Stack_Overflow_or_Facebook__Are_you_OK_with_that__-_Newsday) - Saving AI_is_learning_from_what_you_said_on_Reddit__Stack_Overflow_or_Facebook__Are_you_OK_with_that__-_Newsday_20240702_124403.html as utf-8\n",
      "2024-07-02 12:44:03,959 - AInewsbot - INFO - Processing https://news.google.com/articles/CBMiXWh0dHBzOi8vZGlnaW5vbWljYS5jb20vd2hpdGUtY29sbGFyLXdvcmtlcnMtd29ycmllZC1sb2dpc3RpY3MtdHJhbnNwb3J0LXNlY3RvcnMtb3B0aW1pc3RpYy1hadIBYWh0dHBzOi8vZGlnaW5vbWljYS5jb20vd2hpdGUtY29sbGFyLXdvcmtlcnMtd29ycmllZC1sb2dpc3RpY3MtdHJhbnNwb3J0LXNlY3RvcnMtb3B0aW1pc3RpYy1haT9hbXA\n",
      "2024-07-02 12:44:03,959 - AInewsbot - INFO - get_url(https://news.google.com/articles/CBMiXWh0dHBzOi8vZGlnaW5vbWljYS5jb20vd2hpdGUtY29sbGFyLXdvcmtlcnMtd29ycmllZC1sb2dpc3RpY3MtdHJhbnNwb3J0LXNlY3RvcnMtb3B0aW1pc3RpYy1hadIBYWh0dHBzOi8vZGlnaW5vbWljYS5jb20vd2hpdGUtY29sbGFyLXdvcmtlcnMtd29ycmllZC1sb2dpc3RpY3MtdHJhbnNwb3J0LXNlY3RvcnMtb3B0aW1pc3RpYy1haT9hbXA) - starting get_files https://news.google.com/articles/CBMiXWh0dHBzOi8vZGlnaW5vbWljYS5jb20vd2hpdGUtY29sbGFyLXdvcmtlcnMtd29ycmllZC1sb2dpc3RpY3MtdHJhbnNwb3J0LXNlY3RvcnMtb3B0aW1pc3RpYy1hadIBYWh0dHBzOi8vZGlnaW5vbWljYS5jb20vd2hpdGUtY29sbGFyLXdvcmtlcnMtd29ycmllZC1sb2dpc3RpY3MtdHJhbnNwb3J0LXNlY3RvcnMtb3B0aW1pc3RpYy1haT9hbXA\n",
      "2024-07-02 12:44:07,472 - AInewsbot - INFO - Message: Unable to locate element: //meta[@http-equiv='Content-Type']; For documentation on this error, please visit: https://www.selenium.dev/documentation/webdriver/troubleshooting/errors#no-such-element-exception\n",
      "Stacktrace:\n",
      "RemoteError@chrome://remote/content/shared/RemoteError.sys.mjs:8:8\n",
      "WebDriverError@chrome://remote/content/shared/webdriver/Errors.sys.mjs:192:5\n",
      "NoSuchElementError@chrome://remote/content/shared/webdriver/Errors.sys.mjs:510:5\n",
      "dom.find/</<@chrome://remote/content/shared/DOM.sys.mjs:136:16\n",
      "\n"
     ]
    },
    {
     "name": "stderr",
     "output_type": "stream",
     "text": [
      "2024-07-02 12:44:07,473 - AInewsbot - INFO - get_url(Will_GenAI_accelerate_autonomous_supply_chains____EY_Sweden) - Saving Will_GenAI_accelerate_autonomous_supply_chains____EY_Sweden_20240702_124407.html as utf-8\n",
      "2024-07-02 12:44:07,474 - AInewsbot - INFO - Processing https://hackernoon.com/robots-ai-ew-how-war-in-ukraine-re-shapes-military-tech\n",
      "2024-07-02 12:44:07,474 - AInewsbot - INFO - get_url(https://hackernoon.com/robots-ai-ew-how-war-in-ukraine-re-shapes-military-tech) - starting get_files https://hackernoon.com/robots-ai-ew-how-war-in-ukraine-re-shapes-military-tech\n",
      "2024-07-02 12:44:11,277 - AInewsbot - INFO - get_url(How_next-gen_AI_technology_is_transforming_daily_work_for_employees___VentureBeat) - Saving How_next-gen_AI_technology_is_transforming_daily_work_for_employees___VentureBeat_20240702_124411.html as UTF-8\n",
      "2024-07-02 12:44:11,278 - AInewsbot - INFO - Processing https://phys.org/news/2024-07-satellite-aims-ai-advances-earth.html\n",
      "2024-07-02 12:44:11,278 - AInewsbot - INFO - get_url(https://phys.org/news/2024-07-satellite-aims-ai-advances-earth.html) - starting get_files https://phys.org/news/2024-07-satellite-aims-ai-advances-earth.html\n",
      "2024-07-02 12:44:13,476 - AInewsbot - INFO - Message: Unable to locate element: //meta[@http-equiv='Content-Type']; For documentation on this error, please visit: https://www.selenium.dev/documentation/webdriver/troubleshooting/errors#no-such-element-exception\n",
      "Stacktrace:\n",
      "RemoteError@chrome://remote/content/shared/RemoteError.sys.mjs:8:8\n",
      "WebDriverError@chrome://remote/content/shared/webdriver/Errors.sys.mjs:192:5\n",
      "NoSuchElementError@chrome://remote/content/shared/webdriver/Errors.sys.mjs:510:5\n",
      "dom.find/</<@chrome://remote/content/shared/DOM.sys.mjs:136:16\n",
      "\n",
      "2024-07-02 12:44:13,476 - AInewsbot - INFO - get_url(How_is_AI_is_going_to_effect_the_World_Economy_-_Geeky_Gadgets) - Saving How_is_AI_is_going_to_effect_the_World_Economy_-_Geeky_Gadgets_20240702_124413.html as utf-8\n",
      "2024-07-02 12:44:13,477 - AInewsbot - INFO - Processing https://news.google.com/articles/CBMiO2h0dHBzOi8vZGVjcnlwdC5jby8yMzc5NzgvZWRnZS1haS1mYXJtaW5nLWFncmljdWx0dXJlLXN0dWR50gFBaHR0cHM6Ly9kZWNyeXB0LmNvLzIzNzk3OC9lZGdlLWFpLWZhcm1pbmctYWdyaWN1bHR1cmUtc3R1ZHk_YW1wPTE\n",
      "2024-07-02 12:44:13,478 - AInewsbot - INFO - get_url(https://news.google.com/articles/CBMiO2h0dHBzOi8vZGVjcnlwdC5jby8yMzc5NzgvZWRnZS1haS1mYXJtaW5nLWFncmljdWx0dXJlLXN0dWR50gFBaHR0cHM6Ly9kZWNyeXB0LmNvLzIzNzk3OC9lZGdlLWFpLWZhcm1pbmctYWdyaWN1bHR1cmUtc3R1ZHk_YW1wPTE) - starting get_files https://news.google.com/articles/CBMiO2h0dHBzOi8vZGVjcnlwdC5jby8yMzc5NzgvZWRnZS1haS1mYXJtaW5nLWFncmljdWx0dXJlLXN0dWR50gFBaHR0cHM6Ly9kZWNyeXB0LmNvLzIzNzk3OC9lZGdlLWFpLWZhcm1pbmctYWdyaWN1bHR1cmUtc3R1ZHk_YW1wPTE\n",
      "2024-07-02 12:44:14,454 - AInewsbot - INFO - Message: Unable to locate element: //meta[@http-equiv='Content-Type']; For documentation on this error, please visit: https://www.selenium.dev/documentation/webdriver/troubleshooting/errors#no-such-element-exception\n",
      "Stacktrace:\n",
      "RemoteError@chrome://remote/content/shared/RemoteError.sys.mjs:8:8\n",
      "WebDriverError@chrome://remote/content/shared/webdriver/Errors.sys.mjs:192:5\n",
      "NoSuchElementError@chrome://remote/content/shared/webdriver/Errors.sys.mjs:510:5\n",
      "dom.find/</<@chrome://remote/content/shared/DOM.sys.mjs:136:16\n",
      "\n",
      "2024-07-02 12:44:14,455 - AInewsbot - INFO - get_url(While_some_white_collar_workers_may_be_worried__logistics_and_transport_sectors_are_optimistic_on_AI) - Saving While_some_white_collar_workers_may_be_worried__logistics_and_transport_sectors_are_optimistic_on_AI_20240702_124414.html as utf-8\n",
      "2024-07-02 12:44:14,455 - AInewsbot - INFO - Processing https://www.ft.com/content/383719aa-df38-4ae3-ab0e-6279a897915e\n",
      "2024-07-02 12:44:14,456 - AInewsbot - INFO - get_url(https://www.ft.com/content/383719aa-df38-4ae3-ab0e-6279a897915e) - starting get_files https://www.ft.com/content/383719aa-df38-4ae3-ab0e-6279a897915e\n",
      "2024-07-02 12:44:18,224 - AInewsbot - INFO - Message: Unable to locate element: //meta[@http-equiv='Content-Type']; For documentation on this error, please visit: https://www.selenium.dev/documentation/webdriver/troubleshooting/errors#no-such-element-exception\n",
      "Stacktrace:\n",
      "RemoteError@chrome://remote/content/shared/RemoteError.sys.mjs:8:8\n",
      "WebDriverError@chrome://remote/content/shared/webdriver/Errors.sys.mjs:192:5\n",
      "NoSuchElementError@chrome://remote/content/shared/webdriver/Errors.sys.mjs:510:5\n",
      "dom.find/</<@chrome://remote/content/shared/DOM.sys.mjs:136:16\n",
      "\n",
      "2024-07-02 12:44:18,225 - AInewsbot - INFO - get_url(Robots__AI__EW__How_War_in_Ukraine_Re-Shapes_Military_Tech___HackerNoon) - Saving Robots__AI__EW__How_War_in_Ukraine_Re-Shapes_Military_Tech___HackerNoon_20240702_124418.html as utf-8\n",
      "2024-07-02 12:44:18,226 - AInewsbot - INFO - Processing https://www.wsbtv.com/news/google-falling-short/BSRKU3BGJJGNPOHMBWGXQVBYJM/\n",
      "2024-07-02 12:44:18,226 - AInewsbot - INFO - get_url(https://www.wsbtv.com/news/google-falling-short/BSRKU3BGJJGNPOHMBWGXQVBYJM/) - starting get_files https://www.wsbtv.com/news/google-falling-short/BSRKU3BGJJGNPOHMBWGXQVBYJM/\n",
      "2024-07-02 12:44:21,870 - AInewsbot - INFO - Message: Unable to locate element: //meta[@http-equiv='Content-Type']; For documentation on this error, please visit: https://www.selenium.dev/documentation/webdriver/troubleshooting/errors#no-such-element-exception\n",
      "Stacktrace:\n",
      "RemoteError@chrome://remote/content/shared/RemoteError.sys.mjs:8:8\n",
      "WebDriverError@chrome://remote/content/shared/webdriver/Errors.sys.mjs:192:5\n",
      "NoSuchElementError@chrome://remote/content/shared/webdriver/Errors.sys.mjs:510:5\n",
      "dom.find/</<@chrome://remote/content/shared/DOM.sys.mjs:136:16\n",
      "\n",
      "2024-07-02 12:44:21,871 - AInewsbot - INFO - get_url(New_satellite_aims_to_show_how_AI_advances_Earth_observation) - Saving New_satellite_aims_to_show_how_AI_advances_Earth_observation_20240702_124421.html as utf-8\n",
      "2024-07-02 12:44:21,873 - AInewsbot - INFO - Processing https://futurism.com/the-byte/xai-researcher-returns-openai\n",
      "2024-07-02 12:44:21,873 - AInewsbot - INFO - get_url(https://futurism.com/the-byte/xai-researcher-returns-openai) - starting get_files https://futurism.com/the-byte/xai-researcher-returns-openai\n",
      "2024-07-02 12:44:23,878 - AInewsbot - INFO - Message: Unable to locate element: //meta[@http-equiv='Content-Type']; For documentation on this error, please visit: https://www.selenium.dev/documentation/webdriver/troubleshooting/errors#no-such-element-exception\n",
      "Stacktrace:\n",
      "RemoteError@chrome://remote/content/shared/RemoteError.sys.mjs:8:8\n",
      "WebDriverError@chrome://remote/content/shared/webdriver/Errors.sys.mjs:192:5\n",
      "NoSuchElementError@chrome://remote/content/shared/webdriver/Errors.sys.mjs:510:5\n",
      "dom.find/</<@chrome://remote/content/shared/DOM.sys.mjs:136:16\n",
      "\n",
      "2024-07-02 12:44:23,879 - AInewsbot - INFO - get_url(Running_AI_in_the_Field_Could_Boost_Farming__Study_-_Decrypt) - Saving Running_AI_in_the_Field_Could_Boost_Farming__Study_-_Decrypt_20240702_124423.html as utf-8\n",
      "2024-07-02 12:44:23,881 - AInewsbot - INFO - Processing https://news.google.com/articles/CBMiZ2h0dHBzOi8vd3d3LmRhdGFjZW50ZXJkeW5hbWljcy5jb20vZW4vbmV3cy9jcnVzb2UtcGl2b3RzLXRvLWJ1aWxkaW5nLWRhdGEtY2VudGVycy1wbGFucy0xMDBtdy1mYWNpbGl0eS_SAQA\n",
      "2024-07-02 12:44:23,881 - AInewsbot - INFO - get_url(https://news.google.com/articles/CBMiZ2h0dHBzOi8vd3d3LmRhdGFjZW50ZXJkeW5hbWljcy5jb20vZW4vbmV3cy9jcnVzb2UtcGl2b3RzLXRvLWJ1aWxkaW5nLWRhdGEtY2VudGVycy1wbGFucy0xMDBtdy1mYWNpbGl0eS_SAQA) - starting get_files https://news.google.com/articles/CBMiZ2h0dHBzOi8vd3d3LmRhdGFjZW50ZXJkeW5hbWljcy5jb20vZW4vbmV3cy9jcnVzb2UtcGl2b3RzLXRvLWJ1aWxkaW5nLWRhdGEtY2VudGVycy1wbGFucy0xMDBtdy1mYWNpbGl0eS_SAQA\n",
      "2024-07-02 12:44:25,073 - AInewsbot - INFO - Message: Unable to locate element: //meta[@http-equiv='Content-Type']; For documentation on this error, please visit: https://www.selenium.dev/documentation/webdriver/troubleshooting/errors#no-such-element-exception\n",
      "Stacktrace:\n",
      "RemoteError@chrome://remote/content/shared/RemoteError.sys.mjs:8:8\n",
      "WebDriverError@chrome://remote/content/shared/webdriver/Errors.sys.mjs:192:5\n",
      "NoSuchElementError@chrome://remote/content/shared/webdriver/Errors.sys.mjs:510:5\n",
      "dom.find/</<@chrome://remote/content/shared/DOM.sys.mjs:136:16\n",
      "\n",
      "2024-07-02 12:44:25,075 - AInewsbot - INFO - get_url(Google_emissions_jump_nearly_50__over_five_years_as_AI_use_surges) - Saving Google_emissions_jump_nearly_50__over_five_years_as_AI_use_surges_20240702_124425.html as utf-8\n"
     ]
    },
    {
     "name": "stderr",
     "output_type": "stream",
     "text": [
      "2024-07-02 12:44:25,080 - AInewsbot - INFO - Processing https://cloud.google.com/blog/topics/startups/google-for-startups-accelerator-ai-first-mena-t/\n",
      "2024-07-02 12:44:25,083 - AInewsbot - INFO - get_url(https://cloud.google.com/blog/topics/startups/google-for-startups-accelerator-ai-first-mena-t/) - starting get_files https://cloud.google.com/blog/topics/startups/google-for-startups-accelerator-ai-first-mena-t/\n",
      "2024-07-02 12:44:29,848 - AInewsbot - INFO - Message: Unable to locate element: //meta[@http-equiv='Content-Type']; For documentation on this error, please visit: https://www.selenium.dev/documentation/webdriver/troubleshooting/errors#no-such-element-exception\n",
      "Stacktrace:\n",
      "RemoteError@chrome://remote/content/shared/RemoteError.sys.mjs:8:8\n",
      "WebDriverError@chrome://remote/content/shared/webdriver/Errors.sys.mjs:192:5\n",
      "NoSuchElementError@chrome://remote/content/shared/webdriver/Errors.sys.mjs:510:5\n",
      "dom.find/</<@chrome://remote/content/shared/DOM.sys.mjs:136:16\n",
      "\n",
      "2024-07-02 12:44:29,848 - AInewsbot - INFO - get_url(Google_falling_short_of_important_climate_target__cites_electricity_needs_of_AI___WSB-TV_Channel_2_-_Atlanta) - Saving Google_falling_short_of_important_climate_target__cites_electricity_needs_of_AI___WSB-TV_Channel_2_-_Atlanta_20240702_124429.html as utf-8\n",
      "2024-07-02 12:44:29,850 - AInewsbot - INFO - Processing https://news.google.com/articles/CBMiXGh0dHBzOi8vd3d3LmFydGlmaWNpYWxsYXd5ZXIuY29tLzIwMjQvMDcvMDIvYmlyZC1iaXJkLXRvLXJ1bi1tYWpvci1wb2Mtd2l0aC1haS1zdGFydHVwLWxleWEv0gEA\n",
      "2024-07-02 12:44:29,850 - AInewsbot - INFO - get_url(https://news.google.com/articles/CBMiXGh0dHBzOi8vd3d3LmFydGlmaWNpYWxsYXd5ZXIuY29tLzIwMjQvMDcvMDIvYmlyZC1iaXJkLXRvLXJ1bi1tYWpvci1wb2Mtd2l0aC1haS1zdGFydHVwLWxleWEv0gEA) - starting get_files https://news.google.com/articles/CBMiXGh0dHBzOi8vd3d3LmFydGlmaWNpYWxsYXd5ZXIuY29tLzIwMjQvMDcvMDIvYmlyZC1iaXJkLXRvLXJ1bi1tYWpvci1wb2Mtd2l0aC1haS1zdGFydHVwLWxleWEv0gEA\n",
      "2024-07-02 12:44:32,873 - AInewsbot - INFO - Message: Unable to locate element: //meta[@http-equiv='Content-Type']; For documentation on this error, please visit: https://www.selenium.dev/documentation/webdriver/troubleshooting/errors#no-such-element-exception\n",
      "Stacktrace:\n",
      "RemoteError@chrome://remote/content/shared/RemoteError.sys.mjs:8:8\n",
      "WebDriverError@chrome://remote/content/shared/webdriver/Errors.sys.mjs:192:5\n",
      "NoSuchElementError@chrome://remote/content/shared/webdriver/Errors.sys.mjs:510:5\n",
      "dom.find/</<@chrome://remote/content/shared/DOM.sys.mjs:136:16\n",
      "\n",
      "2024-07-02 12:44:32,873 - AInewsbot - INFO - get_url(AI_Researcher_Elon_Musk_Poached_From_OpenAI_Returns_to_OpenAI) - Saving AI_Researcher_Elon_Musk_Poached_From_OpenAI_Returns_to_OpenAI_20240702_124432.html as utf-8\n",
      "2024-07-02 12:44:32,875 - AInewsbot - INFO - Processing https://9to5mac.com/2024/07/02/empirical-health-for-apple-watch-now-leverages-ai-with-your-data-and-real-physicians/\n",
      "2024-07-02 12:44:32,875 - AInewsbot - INFO - get_url(https://9to5mac.com/2024/07/02/empirical-health-for-apple-watch-now-leverages-ai-with-your-data-and-real-physicians/) - starting get_files https://9to5mac.com/2024/07/02/empirical-health-for-apple-watch-now-leverages-ai-with-your-data-and-real-physicians/\n",
      "2024-07-02 12:44:34,160 - AInewsbot - INFO - Message: Unable to locate element: //meta[@http-equiv='Content-Type']; For documentation on this error, please visit: https://www.selenium.dev/documentation/webdriver/troubleshooting/errors#no-such-element-exception\n",
      "Stacktrace:\n",
      "RemoteError@chrome://remote/content/shared/RemoteError.sys.mjs:8:8\n",
      "WebDriverError@chrome://remote/content/shared/webdriver/Errors.sys.mjs:192:5\n",
      "NoSuchElementError@chrome://remote/content/shared/webdriver/Errors.sys.mjs:510:5\n",
      "dom.find/</<@chrome://remote/content/shared/DOM.sys.mjs:136:16\n",
      "\n",
      "2024-07-02 12:44:34,160 - AInewsbot - INFO - get_url(Crusoe_pivots_to_building_AI_data_centers_-_DCD) - Saving Crusoe_pivots_to_building_AI_data_centers_-_DCD_20240702_124434.html as utf-8\n",
      "2024-07-02 12:44:34,161 - AInewsbot - INFO - Processing https://www.cultofmac.com/861543/high-demand-for-iphone-16/\n",
      "2024-07-02 12:44:34,162 - AInewsbot - INFO - get_url(https://www.cultofmac.com/861543/high-demand-for-iphone-16/) - starting get_files https://www.cultofmac.com/861543/high-demand-for-iphone-16/\n",
      "2024-07-02 12:44:35,956 - AInewsbot - INFO - Message: Unable to locate element: //meta[@http-equiv='Content-Type']; For documentation on this error, please visit: https://www.selenium.dev/documentation/webdriver/troubleshooting/errors#no-such-element-exception\n",
      "Stacktrace:\n",
      "RemoteError@chrome://remote/content/shared/RemoteError.sys.mjs:8:8\n",
      "WebDriverError@chrome://remote/content/shared/webdriver/Errors.sys.mjs:192:5\n",
      "NoSuchElementError@chrome://remote/content/shared/webdriver/Errors.sys.mjs:510:5\n",
      "dom.find/</<@chrome://remote/content/shared/DOM.sys.mjs:136:16\n",
      "\n",
      "2024-07-02 12:44:35,957 - AInewsbot - INFO - get_url(Google_for_Startups_Accelerator__AI_First_MENA-T___Google_Cloud_Blog) - Saving Google_for_Startups_Accelerator__AI_First_MENA-T___Google_Cloud_Blog_20240702_124435.html as utf-8\n",
      "2024-07-02 12:44:35,958 - AInewsbot - INFO - Processing https://news.google.com/articles/CBMiaWh0dHBzOi8vdmVudHVyZWJlYXQuY29tL2FpL2FwcGxlLWp1c3QtbGF1bmNoZWQtYS1wdWJsaWMtZGVtby1vZi1pdHMtNG0tYWktbW9kZWwtaGVyZXMtd2h5LWl0cy1hLWJpZy1kZWFsL9IBAA\n",
      "2024-07-02 12:44:35,958 - AInewsbot - INFO - get_url(https://news.google.com/articles/CBMiaWh0dHBzOi8vdmVudHVyZWJlYXQuY29tL2FpL2FwcGxlLWp1c3QtbGF1bmNoZWQtYS1wdWJsaWMtZGVtby1vZi1pdHMtNG0tYWktbW9kZWwtaGVyZXMtd2h5LWl0cy1hLWJpZy1kZWFsL9IBAA) - starting get_files https://news.google.com/articles/CBMiaWh0dHBzOi8vdmVudHVyZWJlYXQuY29tL2FpL2FwcGxlLWp1c3QtbGF1bmNoZWQtYS1wdWJsaWMtZGVtby1vZi1pdHMtNG0tYWktbW9kZWwtaGVyZXMtd2h5LWl0cy1hLWJpZy1kZWFsL9IBAA\n",
      "2024-07-02 12:44:40,194 - AInewsbot - INFO - Message: Unable to locate element: //meta[@http-equiv='Content-Type']; For documentation on this error, please visit: https://www.selenium.dev/documentation/webdriver/troubleshooting/errors#no-such-element-exception\n",
      "Stacktrace:\n",
      "RemoteError@chrome://remote/content/shared/RemoteError.sys.mjs:8:8\n",
      "WebDriverError@chrome://remote/content/shared/webdriver/Errors.sys.mjs:192:5\n",
      "NoSuchElementError@chrome://remote/content/shared/webdriver/Errors.sys.mjs:510:5\n",
      "dom.find/</<@chrome://remote/content/shared/DOM.sys.mjs:136:16\n",
      "\n",
      "2024-07-02 12:44:40,195 - AInewsbot - INFO - get_url(Bird___Bird_To_Run_Major_POC_With_AI_Startup_Leya___Artificial_Lawyer) - Saving Bird___Bird_To_Run_Major_POC_With_AI_Startup_Leya___Artificial_Lawyer_20240702_124440.html as utf-8\n",
      "2024-07-02 12:44:40,196 - AInewsbot - INFO - Processing https://www.reddit.com/r/ChatGPT/comments/1dtnn0y/atunning_ai_spaghetti_art/\n",
      "2024-07-02 12:44:40,197 - AInewsbot - INFO - get_url(https://www.reddit.com/r/ChatGPT/comments/1dtnn0y/atunning_ai_spaghetti_art/) - starting get_files https://www.reddit.com/r/ChatGPT/comments/1dtnn0y/atunning_ai_spaghetti_art/\n",
      "2024-07-02 12:44:43,760 - AInewsbot - INFO - Message: Unable to locate element: //meta[@http-equiv='Content-Type']; For documentation on this error, please visit: https://www.selenium.dev/documentation/webdriver/troubleshooting/errors#no-such-element-exception\n",
      "Stacktrace:\n",
      "RemoteError@chrome://remote/content/shared/RemoteError.sys.mjs:8:8\n",
      "WebDriverError@chrome://remote/content/shared/webdriver/Errors.sys.mjs:192:5\n",
      "NoSuchElementError@chrome://remote/content/shared/webdriver/Errors.sys.mjs:510:5\n",
      "dom.find/</<@chrome://remote/content/shared/DOM.sys.mjs:136:16\n",
      "\n",
      "2024-07-02 12:44:43,760 - AInewsbot - INFO - get_url(Empirical_Health_for_Apple_Watch_now_leverages_AI_with_your_data_and_real_physicians_-_9to5Mac) - Saving Empirical_Health_for_Apple_Watch_now_leverages_AI_with_your_data_and_real_physicians_-_9to5Mac_20240702_124443.html as utf-8\n",
      "2024-07-02 12:44:43,761 - AInewsbot - INFO - Processing https://news.google.com/articles/CBMibWh0dHBzOi8vd3d3LnJhZGlvYW5kbXVzaWMuY29tL2Jpei9tdXNpYy9tdXNpYy1zZXJ2aWNlcy8yNDA3MDItZmwtc3R1ZGlvLTIwMjQtaW50cm9kdWNlcy1wbHVnaW5zLWZsLWNsb3VkLWFkZHPSAXFodHRwczovL3d3dy5yYWRpb2FuZG11c2ljLmNvbS9iaXovbXVzaWMvbXVzaWMtc2VydmljZXMvMjQwNzAyLWZsLXN0dWRpby0yMDI0LWludHJvZHVjZXMtcGx1Z2lucy1mbC1jbG91ZC1hZGRzP2FtcA\n",
      "2024-07-02 12:44:43,762 - AInewsbot - INFO - get_url(https://news.google.com/articles/CBMibWh0dHBzOi8vd3d3LnJhZGlvYW5kbXVzaWMuY29tL2Jpei9tdXNpYy9tdXNpYy1zZXJ2aWNlcy8yNDA3MDItZmwtc3R1ZGlvLTIwMjQtaW50cm9kdWNlcy1wbHVnaW5zLWZsLWNsb3VkLWFkZHPSAXFodHRwczovL3d3dy5yYWRpb2FuZG11c2ljLmNvbS9iaXovbXVzaWMvbXVzaWMtc2VydmljZXMvMjQwNzAyLWZsLXN0dWRpby0yMDI0LWludHJvZHVjZXMtcGx1Z2lucy1mbC1jbG91ZC1hZGRzP2FtcA) - starting get_files https://news.google.com/articles/CBMibWh0dHBzOi8vd3d3LnJhZGlvYW5kbXVzaWMuY29tL2Jpei9tdXNpYy9tdXNpYy1zZXJ2aWNlcy8yNDA3MDItZmwtc3R1ZGlvLTIwMjQtaW50cm9kdWNlcy1wbHVnaW5zLWZsLWNsb3VkLWFkZHPSAXFodHRwczovL3d3dy5yYWRpb2FuZG11c2ljLmNvbS9iaXovbXVzaWMvbXVzaWMtc2VydmljZXMvMjQwNzAyLWZsLXN0dWRpby0yMDI0LWludHJvZHVjZXMtcGx1Z2lucy1mbC1jbG91ZC1hZGRzP2FtcA\n"
     ]
    },
    {
     "name": "stderr",
     "output_type": "stream",
     "text": [
      "2024-07-02 12:44:44,672 - AInewsbot - INFO - Message: Unable to locate element: //meta[@http-equiv='Content-Type']; For documentation on this error, please visit: https://www.selenium.dev/documentation/webdriver/troubleshooting/errors#no-such-element-exception\n",
      "Stacktrace:\n",
      "RemoteError@chrome://remote/content/shared/RemoteError.sys.mjs:8:8\n",
      "WebDriverError@chrome://remote/content/shared/webdriver/Errors.sys.mjs:192:5\n",
      "NoSuchElementError@chrome://remote/content/shared/webdriver/Errors.sys.mjs:510:5\n",
      "dom.find/</<@chrome://remote/content/shared/DOM.sys.mjs:136:16\n",
      "\n",
      "2024-07-02 12:44:44,673 - AInewsbot - INFO - get_url(Apple_chip_orders_suggest_high_demand_for_AI-boosted_iPhone_16___Cult_of_Mac) - Saving Apple_chip_orders_suggest_high_demand_for_AI-boosted_iPhone_16___Cult_of_Mac_20240702_124444.html as utf-8\n",
      "2024-07-02 12:44:44,674 - AInewsbot - INFO - Processing https://news.google.com/articles/CBMisAFodHRwczovL3d3dy5tYXJrdGVjaHBvc3QuY29tLzIwMjQvMDcvMDIvb21uaXBhcnNlLWFuLWFpLXBsYXRmb3JtLXRoYXQtaW5nZXN0cy1wYXJzZXMtYW55LXVuc3RydWN0dXJlZC1kYXRhLWludG8tc3RydWN0dXJlZC1hY3Rpb25hYmxlLWRhdGEtb3B0aW1pemVkLWZvci1nZW5haS1sbG0tYXBwbGljYXRpb25zL9IBtAFodHRwczovL3d3dy5tYXJrdGVjaHBvc3QuY29tLzIwMjQvMDcvMDIvb21uaXBhcnNlLWFuLWFpLXBsYXRmb3JtLXRoYXQtaW5nZXN0cy1wYXJzZXMtYW55LXVuc3RydWN0dXJlZC1kYXRhLWludG8tc3RydWN0dXJlZC1hY3Rpb25hYmxlLWRhdGEtb3B0aW1pemVkLWZvci1nZW5haS1sbG0tYXBwbGljYXRpb25zLz9hbXA\n",
      "2024-07-02 12:44:44,674 - AInewsbot - INFO - get_url(https://news.google.com/articles/CBMisAFodHRwczovL3d3dy5tYXJrdGVjaHBvc3QuY29tLzIwMjQvMDcvMDIvb21uaXBhcnNlLWFuLWFpLXBsYXRmb3JtLXRoYXQtaW5nZXN0cy1wYXJzZXMtYW55LXVuc3RydWN0dXJlZC1kYXRhLWludG8tc3RydWN0dXJlZC1hY3Rpb25hYmxlLWRhdGEtb3B0aW1pemVkLWZvci1nZW5haS1sbG0tYXBwbGljYXRpb25zL9IBtAFodHRwczovL3d3dy5tYXJrdGVjaHBvc3QuY29tLzIwMjQvMDcvMDIvb21uaXBhcnNlLWFuLWFpLXBsYXRmb3JtLXRoYXQtaW5nZXN0cy1wYXJzZXMtYW55LXVuc3RydWN0dXJlZC1kYXRhLWludG8tc3RydWN0dXJlZC1hY3Rpb25hYmxlLWRhdGEtb3B0aW1pemVkLWZvci1nZW5haS1sbG0tYXBwbGljYXRpb25zLz9hbXA) - starting get_files https://news.google.com/articles/CBMisAFodHRwczovL3d3dy5tYXJrdGVjaHBvc3QuY29tLzIwMjQvMDcvMDIvb21uaXBhcnNlLWFuLWFpLXBsYXRmb3JtLXRoYXQtaW5nZXN0cy1wYXJzZXMtYW55LXVuc3RydWN0dXJlZC1kYXRhLWludG8tc3RydWN0dXJlZC1hY3Rpb25hYmxlLWRhdGEtb3B0aW1pemVkLWZvci1nZW5haS1sbG0tYXBwbGljYXRpb25zL9IBtAFodHRwczovL3d3dy5tYXJrdGVjaHBvc3QuY29tLzIwMjQvMDcvMDIvb21uaXBhcnNlLWFuLWFpLXBsYXRmb3JtLXRoYXQtaW5nZXN0cy1wYXJzZXMtYW55LXVuc3RydWN0dXJlZC1kYXRhLWludG8tc3RydWN0dXJlZC1hY3Rpb25hYmxlLWRhdGEtb3B0aW1pemVkLWZvci1nZW5haS1sbG0tYXBwbGljYXRpb25zLz9hbXA\n",
      "2024-07-02 12:44:47,025 - AInewsbot - INFO - get_url(Apple_just_launched_a_public_demo_of_its__4M__AI_model__Here_s_why_it_s_a_big_deal___VentureBeat) - Saving Apple_just_launched_a_public_demo_of_its__4M__AI_model__Here_s_why_it_s_a_big_deal___VentureBeat_20240702_124447.html as UTF-8\n",
      "2024-07-02 12:44:47,026 - AInewsbot - INFO - Processing https://techcrunch.com/2024/07/02/meta-plans-to-bring-generative-ai-to-metaverse-games/\n",
      "2024-07-02 12:44:47,027 - AInewsbot - INFO - get_url(https://techcrunch.com/2024/07/02/meta-plans-to-bring-generative-ai-to-metaverse-games/) - starting get_files https://techcrunch.com/2024/07/02/meta-plans-to-bring-generative-ai-to-metaverse-games/\n",
      "2024-07-02 12:44:51,188 - AInewsbot - INFO - get_url(Atunning_AI_spaghetti_art______ChatGPT) - Saving Atunning_AI_spaghetti_art______ChatGPT_20240702_124451.html as UTF-8\n",
      "2024-07-02 12:44:51,189 - AInewsbot - INFO - Processing https://www.techtimes.com/articles/306271/20240702/ajax-engineering-launches-concrete-gpt-game-changing-ai-platform-industry.htm\n",
      "2024-07-02 12:44:51,189 - AInewsbot - INFO - get_url(https://www.techtimes.com/articles/306271/20240702/ajax-engineering-launches-concrete-gpt-game-changing-ai-platform-industry.htm) - starting get_files https://www.techtimes.com/articles/306271/20240702/ajax-engineering-launches-concrete-gpt-game-changing-ai-platform-industry.htm\n",
      "2024-07-02 12:44:54,195 - AInewsbot - INFO - get_url(FL_Studio_2024_introduces_plugins_to_FL_Cloud__adds_powerful_new_AI_features__effects__and_workflow_improvements___Radioandmusic_com) - Saving FL_Studio_2024_introduces_plugins_to_FL_Cloud__adds_powerful_new_AI_features__effects__and_workflow_improvements___Radioandmusic_com_20240702_124454.html as utf-8\n",
      "2024-07-02 12:44:54,196 - AInewsbot - INFO - Processing https://siliconangle.com/2024/07/01/anthropic-launches-new-program-fund-creation-reliable-ai-benchmarks/\n",
      "2024-07-02 12:44:54,196 - AInewsbot - INFO - get_url(https://siliconangle.com/2024/07/01/anthropic-launches-new-program-fund-creation-reliable-ai-benchmarks/) - starting get_files https://siliconangle.com/2024/07/01/anthropic-launches-new-program-fund-creation-reliable-ai-benchmarks/\n",
      "2024-07-02 12:44:55,075 - AInewsbot - INFO - Message: Unable to locate element: //meta[@http-equiv='Content-Type']; For documentation on this error, please visit: https://www.selenium.dev/documentation/webdriver/troubleshooting/errors#no-such-element-exception\n",
      "Stacktrace:\n",
      "RemoteError@chrome://remote/content/shared/RemoteError.sys.mjs:8:8\n",
      "WebDriverError@chrome://remote/content/shared/webdriver/Errors.sys.mjs:192:5\n",
      "NoSuchElementError@chrome://remote/content/shared/webdriver/Errors.sys.mjs:510:5\n",
      "dom.find/</<@chrome://remote/content/shared/DOM.sys.mjs:136:16\n",
      "\n",
      "2024-07-02 12:44:55,075 - AInewsbot - INFO - get_url(OmniParse__An_AI_Platform_that_Ingests_Parses_Any_Unstructured_Data_into_Structured__Actionable_Data_Optimized_for_GenAI__LLM__Applications_-_MarkTechPost) - Saving OmniParse__An_AI_Platform_that_Ingests_Parses_Any_Unstructured_Data_into_Structured__Actionable_Data_Optimized_for_GenAI__LLM__Applications_-_MarkTechPost_20240702_124455.html as utf-8\n",
      "2024-07-02 12:44:55,077 - AInewsbot - INFO - Processing https://yr.media/tech/gee-code-ai-teachers-assistants-hbcu-morehouse-miranda-perez/\n",
      "2024-07-02 12:44:55,077 - AInewsbot - INFO - get_url(https://yr.media/tech/gee-code-ai-teachers-assistants-hbcu-morehouse-miranda-perez/) - starting get_files https://yr.media/tech/gee-code-ai-teachers-assistants-hbcu-morehouse-miranda-perez/\n",
      "2024-07-02 12:45:00,639 - AInewsbot - INFO - Message: Unable to locate element: //meta[@http-equiv='Content-Type']; For documentation on this error, please visit: https://www.selenium.dev/documentation/webdriver/troubleshooting/errors#no-such-element-exception\n",
      "Stacktrace:\n",
      "RemoteError@chrome://remote/content/shared/RemoteError.sys.mjs:8:8\n",
      "WebDriverError@chrome://remote/content/shared/webdriver/Errors.sys.mjs:192:5\n",
      "NoSuchElementError@chrome://remote/content/shared/webdriver/Errors.sys.mjs:510:5\n",
      "dom.find/</<@chrome://remote/content/shared/DOM.sys.mjs:136:16\n",
      "\n",
      "2024-07-02 12:45:00,640 - AInewsbot - INFO - get_url(Meta_plans_to_bring_generative_AI_to_metaverse_games___TechCrunch) - Saving Meta_plans_to_bring_generative_AI_to_metaverse_games___TechCrunch_20240702_124500.html as utf-8\n",
      "2024-07-02 12:45:00,642 - AInewsbot - INFO - Processing https://news.google.com/articles/CBMilwFodHRwczovL3d3dy50ZWNocmFkYXIuY29tL2NvbXB1dGluZy9hcnRpZmljaWFsLWludGVsbGlnZW5jZS9hcHBsZS1pbnRlbGxpZ2VuY2UtdGlwcGVkLXRvLWZlYXR1cmUtZ29vZ2xlLWdlbWluaS1pbnRlZ3JhdGlvbi1hdC1sYXVuY2gtYXMtd2VsbC1hcy1jaGF0Z3B00gEA\n",
      "2024-07-02 12:45:00,642 - AInewsbot - INFO - get_url(https://news.google.com/articles/CBMilwFodHRwczovL3d3dy50ZWNocmFkYXIuY29tL2NvbXB1dGluZy9hcnRpZmljaWFsLWludGVsbGlnZW5jZS9hcHBsZS1pbnRlbGxpZ2VuY2UtdGlwcGVkLXRvLWZlYXR1cmUtZ29vZ2xlLWdlbWluaS1pbnRlZ3JhdGlvbi1hdC1sYXVuY2gtYXMtd2VsbC1hcy1jaGF0Z3B00gEA) - starting get_files https://news.google.com/articles/CBMilwFodHRwczovL3d3dy50ZWNocmFkYXIuY29tL2NvbXB1dGluZy9hcnRpZmljaWFsLWludGVsbGlnZW5jZS9hcHBsZS1pbnRlbGxpZ2VuY2UtdGlwcGVkLXRvLWZlYXR1cmUtZ29vZ2xlLWdlbWluaS1pbnRlZ3JhdGlvbi1hdC1sYXVuY2gtYXMtd2VsbC1hcy1jaGF0Z3B00gEA\n",
      "2024-07-02 12:45:02,107 - AInewsbot - INFO - Message: Unable to locate element: //meta[@http-equiv='Content-Type']; For documentation on this error, please visit: https://www.selenium.dev/documentation/webdriver/troubleshooting/errors#no-such-element-exception\n",
      "Stacktrace:\n",
      "RemoteError@chrome://remote/content/shared/RemoteError.sys.mjs:8:8\n",
      "WebDriverError@chrome://remote/content/shared/webdriver/Errors.sys.mjs:192:5\n",
      "NoSuchElementError@chrome://remote/content/shared/webdriver/Errors.sys.mjs:510:5\n",
      "dom.find/</<@chrome://remote/content/shared/DOM.sys.mjs:136:16\n",
      "\n"
     ]
    },
    {
     "name": "stderr",
     "output_type": "stream",
     "text": [
      "2024-07-02 12:45:02,107 - AInewsbot - INFO - get_url(Ajax_Engineering_Launches_Concrete_GPT__Game-Changing_AI_Platform_for_Concrete_Industry___Tech_Times) - Saving Ajax_Engineering_Launches_Concrete_GPT__Game-Changing_AI_Platform_for_Concrete_Industry___Tech_Times_20240702_124502.html as utf-8\n",
      "2024-07-02 12:45:02,108 - AInewsbot - INFO - Processing https://www.techradar.com/computing/artificial-intelligence/these-new-ai-smart-glasses-are-like-getting-a-second-pair-of-chatgpt-powered-eyes\n",
      "2024-07-02 12:45:02,108 - AInewsbot - INFO - get_url(https://www.techradar.com/computing/artificial-intelligence/these-new-ai-smart-glasses-are-like-getting-a-second-pair-of-chatgpt-powered-eyes) - starting get_files https://www.techradar.com/computing/artificial-intelligence/these-new-ai-smart-glasses-are-like-getting-a-second-pair-of-chatgpt-powered-eyes\n",
      "2024-07-02 12:45:06,061 - AInewsbot - INFO - Message: Unable to locate element: //meta[@http-equiv='Content-Type']; For documentation on this error, please visit: https://www.selenium.dev/documentation/webdriver/troubleshooting/errors#no-such-element-exception\n",
      "Stacktrace:\n",
      "RemoteError@chrome://remote/content/shared/RemoteError.sys.mjs:8:8\n",
      "WebDriverError@chrome://remote/content/shared/webdriver/Errors.sys.mjs:192:5\n",
      "NoSuchElementError@chrome://remote/content/shared/webdriver/Errors.sys.mjs:510:5\n",
      "dom.find/</<@chrome://remote/content/shared/DOM.sys.mjs:136:16\n",
      "\n",
      "2024-07-02 12:45:06,061 - AInewsbot - INFO - get_url(Anthropic_launches_new_program_to_fund_creation_of_more_reliable_AI_benchmarks_-_SiliconANGLE) - Saving Anthropic_launches_new_program_to_fund_creation_of_more_reliable_AI_benchmarks_-_SiliconANGLE_20240702_124506.html as utf-8\n",
      "2024-07-02 12:45:06,062 - AInewsbot - INFO - Processing https://www.androidpolice.com/google-ai-prepping-pixel-9-windows-recall-like-functionality/\n",
      "2024-07-02 12:45:06,062 - AInewsbot - INFO - get_url(https://www.androidpolice.com/google-ai-prepping-pixel-9-windows-recall-like-functionality/) - starting get_files https://www.androidpolice.com/google-ai-prepping-pixel-9-windows-recall-like-functionality/\n",
      "2024-07-02 12:45:06,710 - AInewsbot - INFO - Message: Unable to locate element: //meta[@http-equiv='Content-Type']; For documentation on this error, please visit: https://www.selenium.dev/documentation/webdriver/troubleshooting/errors#no-such-element-exception\n",
      "Stacktrace:\n",
      "RemoteError@chrome://remote/content/shared/RemoteError.sys.mjs:8:8\n",
      "WebDriverError@chrome://remote/content/shared/webdriver/Errors.sys.mjs:192:5\n",
      "NoSuchElementError@chrome://remote/content/shared/webdriver/Errors.sys.mjs:510:5\n",
      "dom.find/</<@chrome://remote/content/shared/DOM.sys.mjs:136:16\n",
      "\n",
      "2024-07-02 12:45:06,710 - AInewsbot - INFO - get_url(The_Gee_Code__Will_AI_Teachers_Assistants_Become_Normalized_at_HBCUs__-_YR_Media) - Saving The_Gee_Code__Will_AI_Teachers_Assistants_Become_Normalized_at_HBCUs__-_YR_Media_20240702_124506.html as utf-8\n",
      "2024-07-02 12:45:06,711 - AInewsbot - INFO - Processing https://www.theverge.com/2024/7/2/24190730/google-ai-pixel-phones-recall-like-feature\n",
      "2024-07-02 12:45:06,711 - AInewsbot - INFO - get_url(https://www.theverge.com/2024/7/2/24190730/google-ai-pixel-phones-recall-like-feature) - starting get_files https://www.theverge.com/2024/7/2/24190730/google-ai-pixel-phones-recall-like-feature\n",
      "2024-07-02 12:45:10,990 - AInewsbot - INFO - Message: Unable to locate element: //meta[@http-equiv='Content-Type']; For documentation on this error, please visit: https://www.selenium.dev/documentation/webdriver/troubleshooting/errors#no-such-element-exception\n",
      "Stacktrace:\n",
      "RemoteError@chrome://remote/content/shared/RemoteError.sys.mjs:8:8\n",
      "WebDriverError@chrome://remote/content/shared/webdriver/Errors.sys.mjs:192:5\n",
      "NoSuchElementError@chrome://remote/content/shared/webdriver/Errors.sys.mjs:510:5\n",
      "dom.find/</<@chrome://remote/content/shared/DOM.sys.mjs:136:16\n",
      "\n",
      "2024-07-02 12:45:10,990 - AInewsbot - INFO - get_url(Apple_Intelligence_tipped_to_feature_Google_Gemini_integration_at_launch__as_well_as_ChatGPT___TechRadar) - Saving Apple_Intelligence_tipped_to_feature_Google_Gemini_integration_at_launch__as_well_as_ChatGPT___TechRadar_20240702_124510.html as utf-8\n",
      "2024-07-02 12:45:10,992 - AInewsbot - INFO - Processing https://news.google.com/articles/CBMiQmh0dHBzOi8vd3d3LmFuZHJvaWRhdXRob3JpdHkuY29tL2dvb2dsZS1haS1yZWNhbGwtcGl4ZWwtOS0zNDU2Mzk5L9IBAA\n",
      "2024-07-02 12:45:10,992 - AInewsbot - INFO - get_url(https://news.google.com/articles/CBMiQmh0dHBzOi8vd3d3LmFuZHJvaWRhdXRob3JpdHkuY29tL2dvb2dsZS1haS1yZWNhbGwtcGl4ZWwtOS0zNDU2Mzk5L9IBAA) - starting get_files https://news.google.com/articles/CBMiQmh0dHBzOi8vd3d3LmFuZHJvaWRhdXRob3JpdHkuY29tL2dvb2dsZS1haS1yZWNhbGwtcGl4ZWwtOS0zNDU2Mzk5L9IBAA\n",
      "2024-07-02 12:45:12,430 - AInewsbot - INFO - Message: Unable to locate element: //meta[@http-equiv='Content-Type']; For documentation on this error, please visit: https://www.selenium.dev/documentation/webdriver/troubleshooting/errors#no-such-element-exception\n",
      "Stacktrace:\n",
      "RemoteError@chrome://remote/content/shared/RemoteError.sys.mjs:8:8\n",
      "WebDriverError@chrome://remote/content/shared/webdriver/Errors.sys.mjs:192:5\n",
      "NoSuchElementError@chrome://remote/content/shared/webdriver/Errors.sys.mjs:510:5\n",
      "dom.find/</<@chrome://remote/content/shared/DOM.sys.mjs:136:16\n",
      "\n",
      "2024-07-02 12:45:12,430 - AInewsbot - INFO - get_url(These_new_AI_smart_glasses_are_like_getting_a_second_pair_of_ChatGPT-powered_eyes___TechRadar) - Saving These_new_AI_smart_glasses_are_like_getting_a_second_pair_of_ChatGPT-powered_eyes___TechRadar_20240702_124512.html as utf-8\n",
      "2024-07-02 12:45:12,431 - AInewsbot - INFO - Processing https://news.google.com/articles/CBMiNGh0dHBzOi8vOXRvNWdvb2dsZS5jb20vMjAyNC8wNy8wMi9waXhlbC05LWdvb2dsZS1haS_SAQA\n",
      "2024-07-02 12:45:12,432 - AInewsbot - INFO - get_url(https://news.google.com/articles/CBMiNGh0dHBzOi8vOXRvNWdvb2dsZS5jb20vMjAyNC8wNy8wMi9waXhlbC05LWdvb2dsZS1haS_SAQA) - starting get_files https://news.google.com/articles/CBMiNGh0dHBzOi8vOXRvNWdvb2dsZS5jb20vMjAyNC8wNy8wMi9waXhlbC05LWdvb2dsZS1haS_SAQA\n",
      "2024-07-02 12:45:16,788 - AInewsbot - INFO - get_url(Google_prepping_an_exclusive_Pixel_9_AI_with_Windows_Recall-like_functionality) - Saving Google_prepping_an_exclusive_Pixel_9_AI_with_Windows_Recall-like_functionality_20240702_124516.html as UTF-8\n",
      "2024-07-02 12:45:16,789 - AInewsbot - INFO - Processing https://www.androidauthority.com/google-ai-recall-pixel-9-3456399/\n",
      "2024-07-02 12:45:16,789 - AInewsbot - INFO - get_url(https://www.androidauthority.com/google-ai-recall-pixel-9-3456399/) - starting get_files https://www.androidauthority.com/google-ai-recall-pixel-9-3456399/\n",
      "2024-07-02 12:45:17,262 - AInewsbot - INFO - Message: Unable to locate element: //meta[@http-equiv='Content-Type']; For documentation on this error, please visit: https://www.selenium.dev/documentation/webdriver/troubleshooting/errors#no-such-element-exception\n",
      "Stacktrace:\n",
      "RemoteError@chrome://remote/content/shared/RemoteError.sys.mjs:8:8\n",
      "WebDriverError@chrome://remote/content/shared/webdriver/Errors.sys.mjs:192:5\n",
      "NoSuchElementError@chrome://remote/content/shared/webdriver/Errors.sys.mjs:510:5\n",
      "dom.find/</<@chrome://remote/content/shared/DOM.sys.mjs:136:16\n",
      "\n",
      "2024-07-02 12:45:17,262 - AInewsbot - INFO - get_url(The_Pixel_9_s__Google_AI__is_like_Microsoft_Recall_but_a_little_less_creepy_-_The_Verge) - Saving The_Pixel_9_s__Google_AI__is_like_Microsoft_Recall_but_a_little_less_creepy_-_The_Verge_20240702_124517.html as utf-8\n",
      "2024-07-02 12:45:17,263 - AInewsbot - INFO - Processing https://news.google.com/articles/CBMiQWh0dHBzOi8vd3d3LnRoZXJlZ2lzdGVyLmNvbS8yMDI0LzA3LzAxL2ZyZW5jaF9udmlkaWFfY29tcGV0aXRpb24v0gFFaHR0cHM6Ly93d3cudGhlcmVnaXN0ZXIuY29tL0FNUC8yMDI0LzA3LzAxL2ZyZW5jaF9udmlkaWFfY29tcGV0aXRpb24v\n",
      "2024-07-02 12:45:17,263 - AInewsbot - INFO - get_url(https://news.google.com/articles/CBMiQWh0dHBzOi8vd3d3LnRoZXJlZ2lzdGVyLmNvbS8yMDI0LzA3LzAxL2ZyZW5jaF9udmlkaWFfY29tcGV0aXRpb24v0gFFaHR0cHM6Ly93d3cudGhlcmVnaXN0ZXIuY29tL0FNUC8yMDI0LzA3LzAxL2ZyZW5jaF9udmlkaWFfY29tcGV0aXRpb24v) - starting get_files https://news.google.com/articles/CBMiQWh0dHBzOi8vd3d3LnRoZXJlZ2lzdGVyLmNvbS8yMDI0LzA3LzAxL2ZyZW5jaF9udmlkaWFfY29tcGV0aXRpb24v0gFFaHR0cHM6Ly93d3cudGhlcmVnaXN0ZXIuY29tL0FNUC8yMDI0LzA3LzAxL2ZyZW5jaF9udmlkaWFfY29tcGV0aXRpb24v\n"
     ]
    },
    {
     "name": "stderr",
     "output_type": "stream",
     "text": [
      "2024-07-02 12:45:21,350 - AInewsbot - INFO - Message: Unable to locate element: //meta[@http-equiv='Content-Type']; For documentation on this error, please visit: https://www.selenium.dev/documentation/webdriver/troubleshooting/errors#no-such-element-exception\n",
      "Stacktrace:\n",
      "RemoteError@chrome://remote/content/shared/RemoteError.sys.mjs:8:8\n",
      "WebDriverError@chrome://remote/content/shared/webdriver/Errors.sys.mjs:192:5\n",
      "NoSuchElementError@chrome://remote/content/shared/webdriver/Errors.sys.mjs:510:5\n",
      "dom.find/</<@chrome://remote/content/shared/DOM.sys.mjs:136:16\n",
      "\n",
      "2024-07-02 12:45:21,350 - AInewsbot - INFO - get_url(Exclusive__New_Google_AI_suite_to_debut_with_the_Pixel_9_series) - Saving Exclusive__New_Google_AI_suite_to_debut_with_the_Pixel_9_series_20240702_124521.html as utf-8\n",
      "2024-07-02 12:45:21,351 - AInewsbot - INFO - Processing https://news.google.com/articles/CBMiXGh0dHBzOi8vd3d3LmJ1c2luZXNzaW5zaWRlci5jb20vbnZpZGlhLXNlY3JldC1zYXVjZS1yZWd1bGF0b3JzLWdwdS1jaGlwcy1qZW5zZW4taHVhbmctMjAyNC030gFgaHR0cHM6Ly93d3cuYnVzaW5lc3NpbnNpZGVyLmNvbS9udmlkaWEtc2VjcmV0LXNhdWNlLXJlZ3VsYXRvcnMtZ3B1LWNoaXBzLWplbnNlbi1odWFuZy0yMDI0LTc_YW1w\n",
      "2024-07-02 12:45:21,351 - AInewsbot - INFO - get_url(https://news.google.com/articles/CBMiXGh0dHBzOi8vd3d3LmJ1c2luZXNzaW5zaWRlci5jb20vbnZpZGlhLXNlY3JldC1zYXVjZS1yZWd1bGF0b3JzLWdwdS1jaGlwcy1qZW5zZW4taHVhbmctMjAyNC030gFgaHR0cHM6Ly93d3cuYnVzaW5lc3NpbnNpZGVyLmNvbS9udmlkaWEtc2VjcmV0LXNhdWNlLXJlZ3VsYXRvcnMtZ3B1LWNoaXBzLWplbnNlbi1odWFuZy0yMDI0LTc_YW1w) - starting get_files https://news.google.com/articles/CBMiXGh0dHBzOi8vd3d3LmJ1c2luZXNzaW5zaWRlci5jb20vbnZpZGlhLXNlY3JldC1zYXVjZS1yZWd1bGF0b3JzLWdwdS1jaGlwcy1qZW5zZW4taHVhbmctMjAyNC030gFgaHR0cHM6Ly93d3cuYnVzaW5lc3NpbnNpZGVyLmNvbS9udmlkaWEtc2VjcmV0LXNhdWNlLXJlZ3VsYXRvcnMtZ3B1LWNoaXBzLWplbnNlbi1odWFuZy0yMDI0LTc_YW1w\n",
      "2024-07-02 12:45:22,718 - AInewsbot - INFO - Message: Unable to locate element: //meta[@http-equiv='Content-Type']; For documentation on this error, please visit: https://www.selenium.dev/documentation/webdriver/troubleshooting/errors#no-such-element-exception\n",
      "Stacktrace:\n",
      "RemoteError@chrome://remote/content/shared/RemoteError.sys.mjs:8:8\n",
      "WebDriverError@chrome://remote/content/shared/webdriver/Errors.sys.mjs:192:5\n",
      "NoSuchElementError@chrome://remote/content/shared/webdriver/Errors.sys.mjs:510:5\n",
      "dom.find/</<@chrome://remote/content/shared/DOM.sys.mjs:136:16\n",
      "\n",
      "2024-07-02 12:45:22,719 - AInewsbot - INFO - get_url(Pixel_9_to_ship_with__Google_AI__powering_enhanced_functions) - Saving Pixel_9_to_ship_with__Google_AI__powering_enhanced_functions_20240702_124522.html as utf-8\n",
      "2024-07-02 12:45:22,720 - AInewsbot - INFO - Processing https://news.google.com/articles/CBMiPWh0dHBzOi8vd3d3LmJhcnJvbnMuY29tL2FydGljbGVzL252aWRpYS1hbnRpdHJ1c3QtYWktNzhjMWM1NDjSAUFodHRwczovL3d3dy5iYXJyb25zLmNvbS9hbXAvYXJ0aWNsZXMvbnZpZGlhLWFudGl0cnVzdC1haS03OGMxYzU0OA\n",
      "2024-07-02 12:45:22,720 - AInewsbot - INFO - get_url(https://news.google.com/articles/CBMiPWh0dHBzOi8vd3d3LmJhcnJvbnMuY29tL2FydGljbGVzL252aWRpYS1hbnRpdHJ1c3QtYWktNzhjMWM1NDjSAUFodHRwczovL3d3dy5iYXJyb25zLmNvbS9hbXAvYXJ0aWNsZXMvbnZpZGlhLWFudGl0cnVzdC1haS03OGMxYzU0OA) - starting get_files https://news.google.com/articles/CBMiPWh0dHBzOi8vd3d3LmJhcnJvbnMuY29tL2FydGljbGVzL252aWRpYS1hbnRpdHJ1c3QtYWktNzhjMWM1NDjSAUFodHRwczovL3d3dy5iYXJyb25zLmNvbS9hbXAvYXJ0aWNsZXMvbnZpZGlhLWFudGl0cnVzdC1haS03OGMxYzU0OA\n",
      "2024-07-02 12:45:27,065 - AInewsbot - INFO - Message: Unable to locate element: //meta[@http-equiv='Content-Type']; For documentation on this error, please visit: https://www.selenium.dev/documentation/webdriver/troubleshooting/errors#no-such-element-exception\n",
      "Stacktrace:\n",
      "RemoteError@chrome://remote/content/shared/RemoteError.sys.mjs:8:8\n",
      "WebDriverError@chrome://remote/content/shared/webdriver/Errors.sys.mjs:192:5\n",
      "NoSuchElementError@chrome://remote/content/shared/webdriver/Errors.sys.mjs:510:5\n",
      "dom.find/</<@chrome://remote/content/shared/DOM.sys.mjs:136:16\n",
      "\n",
      "2024-07-02 12:45:27,066 - AInewsbot - INFO - get_url(Exclusive__New_Google_AI_suite_to_debut_with_the_Pixel_9_series) - Saving Exclusive__New_Google_AI_suite_to_debut_with_the_Pixel_9_series_20240702_124527.html as utf-8\n",
      "2024-07-02 12:45:27,067 - AInewsbot - INFO - Processing https://news.google.com/articles/CBMiWGh0dHBzOi8vd3d3LmFuZHJvaWRoZWFkbGluZXMuY29tLzIwMjQvMDcvZ2FsYXh5LXMyNS10by1vZmZlci1haS11cHNjYWxpbmctZm9yLWdhbWVzLmh0bWzSAQA\n",
      "2024-07-02 12:45:27,067 - AInewsbot - INFO - get_url(https://news.google.com/articles/CBMiWGh0dHBzOi8vd3d3LmFuZHJvaWRoZWFkbGluZXMuY29tLzIwMjQvMDcvZ2FsYXh5LXMyNS10by1vZmZlci1haS11cHNjYWxpbmctZm9yLWdhbWVzLmh0bWzSAQA) - starting get_files https://news.google.com/articles/CBMiWGh0dHBzOi8vd3d3LmFuZHJvaWRoZWFkbGluZXMuY29tLzIwMjQvMDcvZ2FsYXh5LXMyNS10by1vZmZlci1haS11cHNjYWxpbmctZm9yLWdhbWVzLmh0bWzSAQA\n",
      "2024-07-02 12:45:27,646 - AInewsbot - INFO - get_url(France_poised_to_bring__charges_against_Nvidia____The_Register) - Saving France_poised_to_bring__charges_against_Nvidia____The_Register_20240702_124527.html as utf-8\n",
      "2024-07-02 12:45:27,647 - AInewsbot - INFO - Processing https://news.google.com/articles/CBMiiAFodHRwczovL3d3dy5ub3RlYm9va2NoZWNrLm5ldC9TbmFwZHJhZ29uLTgtR2VuLTQtQWRyZW5vLTgzMC1HUFUtcnVtb3VyZWQtdG8tbGF1bmNoLXdpdGgtRExTUy1GcmFtZS1HZW5lcmF0aW9uLWxpa2UtZmVhdHVyZS44NTQwMDAuMC5odG1s0gEA\n",
      "2024-07-02 12:45:27,647 - AInewsbot - INFO - get_url(https://news.google.com/articles/CBMiiAFodHRwczovL3d3dy5ub3RlYm9va2NoZWNrLm5ldC9TbmFwZHJhZ29uLTgtR2VuLTQtQWRyZW5vLTgzMC1HUFUtcnVtb3VyZWQtdG8tbGF1bmNoLXdpdGgtRExTUy1GcmFtZS1HZW5lcmF0aW9uLWxpa2UtZmVhdHVyZS44NTQwMDAuMC5odG1s0gEA) - starting get_files https://news.google.com/articles/CBMiiAFodHRwczovL3d3dy5ub3RlYm9va2NoZWNrLm5ldC9TbmFwZHJhZ29uLTgtR2VuLTQtQWRyZW5vLTgzMC1HUFUtcnVtb3VyZWQtdG8tbGF1bmNoLXdpdGgtRExTUy1GcmFtZS1HZW5lcmF0aW9uLWxpa2UtZmVhdHVyZS44NTQwMDAuMC5odG1s0gEA\n",
      "2024-07-02 12:45:31,642 - AInewsbot - INFO - Message: Unable to locate element: //meta[@http-equiv='Content-Type']; For documentation on this error, please visit: https://www.selenium.dev/documentation/webdriver/troubleshooting/errors#no-such-element-exception\n",
      "Stacktrace:\n",
      "RemoteError@chrome://remote/content/shared/RemoteError.sys.mjs:8:8\n",
      "WebDriverError@chrome://remote/content/shared/webdriver/Errors.sys.mjs:192:5\n",
      "NoSuchElementError@chrome://remote/content/shared/webdriver/Errors.sys.mjs:510:5\n",
      "dom.find/</<@chrome://remote/content/shared/DOM.sys.mjs:136:16\n",
      "\n",
      "2024-07-02 12:45:31,643 - AInewsbot - INFO - get_url(Nvidia_s_Secret_Sauce_Is_Starting_to_Worry_Regulators_-_Business_Insider) - Saving Nvidia_s_Secret_Sauce_Is_Starting_to_Worry_Regulators_-_Business_Insider_20240702_124531.html as utf-8\n",
      "2024-07-02 12:45:31,645 - AInewsbot - INFO - Processing https://news.google.com/articles/CBMiV2h0dHBzOi8vd2NjZnRlY2guY29tL3NuYXBkcmFnb24tOC1nZW4tNC1zdXBwb3J0cy1ncHUtaW50ZXJwb2xhdGlvbi1vci1mcmFtZS1nZW5lcmF0aW9uL9IBW2h0dHBzOi8vd2NjZnRlY2guY29tL3NuYXBkcmFnb24tOC1nZW4tNC1zdXBwb3J0cy1ncHUtaW50ZXJwb2xhdGlvbi1vci1mcmFtZS1nZW5lcmF0aW9uL2FtcC8\n",
      "2024-07-02 12:45:31,645 - AInewsbot - INFO - get_url(https://news.google.com/articles/CBMiV2h0dHBzOi8vd2NjZnRlY2guY29tL3NuYXBkcmFnb24tOC1nZW4tNC1zdXBwb3J0cy1ncHUtaW50ZXJwb2xhdGlvbi1vci1mcmFtZS1nZW5lcmF0aW9uL9IBW2h0dHBzOi8vd2NjZnRlY2guY29tL3NuYXBkcmFnb24tOC1nZW4tNC1zdXBwb3J0cy1ncHUtaW50ZXJwb2xhdGlvbi1vci1mcmFtZS1nZW5lcmF0aW9uL2FtcC8) - starting get_files https://news.google.com/articles/CBMiV2h0dHBzOi8vd2NjZnRlY2guY29tL3NuYXBkcmFnb24tOC1nZW4tNC1zdXBwb3J0cy1ncHUtaW50ZXJwb2xhdGlvbi1vci1mcmFtZS1nZW5lcmF0aW9uL9IBW2h0dHBzOi8vd2NjZnRlY2guY29tL3NuYXBkcmFnb24tOC1nZW4tNC1zdXBwb3J0cy1ncHUtaW50ZXJwb2xhdGlvbi1vci1mcmFtZS1nZW5lcmF0aW9uL2FtcC8\n",
      "2024-07-02 12:45:33,175 - AInewsbot - INFO - Message: Unable to locate element: //meta[@http-equiv='Content-Type']; For documentation on this error, please visit: https://www.selenium.dev/documentation/webdriver/troubleshooting/errors#no-such-element-exception\n",
      "Stacktrace:\n",
      "RemoteError@chrome://remote/content/shared/RemoteError.sys.mjs:8:8\n",
      "WebDriverError@chrome://remote/content/shared/webdriver/Errors.sys.mjs:192:5\n",
      "NoSuchElementError@chrome://remote/content/shared/webdriver/Errors.sys.mjs:510:5\n",
      "dom.find/</<@chrome://remote/content/shared/DOM.sys.mjs:136:16\n",
      "\n",
      "2024-07-02 12:45:33,175 - AInewsbot - INFO - get_url(Nvidia_Faces_First_AI_Antitrust_Charge__According_to_Report_-_Barron_s) - Saving Nvidia_Faces_First_AI_Antitrust_Charge__According_to_Report_-_Barron_s_20240702_124533.html as utf-8\n"
     ]
    },
    {
     "name": "stderr",
     "output_type": "stream",
     "text": [
      "2024-07-02 12:45:33,176 - AInewsbot - INFO - Processing https://www.cnet.com/tech/services-and-software/meta-is-changing-artificial-intelligence-labels-after-real-photos-were-marked-as-ai/\n",
      "2024-07-02 12:45:33,177 - AInewsbot - INFO - get_url(https://www.cnet.com/tech/services-and-software/meta-is-changing-artificial-intelligence-labels-after-real-photos-were-marked-as-ai/) - starting get_files https://www.cnet.com/tech/services-and-software/meta-is-changing-artificial-intelligence-labels-after-real-photos-were-marked-as-ai/\n",
      "2024-07-02 12:45:37,444 - AInewsbot - INFO - Message: Unable to locate element: //meta[@http-equiv='Content-Type']; For documentation on this error, please visit: https://www.selenium.dev/documentation/webdriver/troubleshooting/errors#no-such-element-exception\n",
      "Stacktrace:\n",
      "RemoteError@chrome://remote/content/shared/RemoteError.sys.mjs:8:8\n",
      "WebDriverError@chrome://remote/content/shared/webdriver/Errors.sys.mjs:192:5\n",
      "NoSuchElementError@chrome://remote/content/shared/webdriver/Errors.sys.mjs:510:5\n",
      "dom.find/</<@chrome://remote/content/shared/DOM.sys.mjs:136:16\n",
      "\n",
      "2024-07-02 12:45:37,445 - AInewsbot - INFO - get_url(Galaxy_S25_to_offer_AI_upscaling_for_games_thanks_to_its_SoC) - Saving Galaxy_S25_to_offer_AI_upscaling_for_games_thanks_to_its_SoC_20240702_124537.html as utf-8\n",
      "2024-07-02 12:45:37,447 - AInewsbot - INFO - Processing https://news.google.com/articles/CBMimgFodHRwczovL3d3dy5tb25leWNvbnRyb2wuY29tL3RlY2hub2xvZ3kvcGhvdG9ncmFwaGVycy1jb21wbGFpbnRzLWxlYWQtbWV0YS10by1yZXZpc2UtYWktZ2VuZXJhdGVkLWltYWdlLWxhYmVscy1vbi1mYWNlYm9vay1pbnN0YWdyYW0tYXJ0aWNsZS0xMjc2MDE2OS5odG1s0gGeAWh0dHBzOi8vd3d3Lm1vbmV5Y29udHJvbC5jb20vdGVjaG5vbG9neS9waG90b2dyYXBoZXJzLWNvbXBsYWludHMtbGVhZC1tZXRhLXRvLXJldmlzZS1haS1nZW5lcmF0ZWQtaW1hZ2UtbGFiZWxzLW9uLWZhY2Vib29rLWluc3RhZ3JhbS1hcnRpY2xlLTEyNzYwMTY5Lmh0bWwvYW1w\n",
      "2024-07-02 12:45:37,447 - AInewsbot - INFO - get_url(https://news.google.com/articles/CBMimgFodHRwczovL3d3dy5tb25leWNvbnRyb2wuY29tL3RlY2hub2xvZ3kvcGhvdG9ncmFwaGVycy1jb21wbGFpbnRzLWxlYWQtbWV0YS10by1yZXZpc2UtYWktZ2VuZXJhdGVkLWltYWdlLWxhYmVscy1vbi1mYWNlYm9vay1pbnN0YWdyYW0tYXJ0aWNsZS0xMjc2MDE2OS5odG1s0gGeAWh0dHBzOi8vd3d3Lm1vbmV5Y29udHJvbC5jb20vdGVjaG5vbG9neS9waG90b2dyYXBoZXJzLWNvbXBsYWludHMtbGVhZC1tZXRhLXRvLXJldmlzZS1haS1nZW5lcmF0ZWQtaW1hZ2UtbGFiZWxzLW9uLWZhY2Vib29rLWluc3RhZ3JhbS1hcnRpY2xlLTEyNzYwMTY5Lmh0bWwvYW1w) - starting get_files https://news.google.com/articles/CBMimgFodHRwczovL3d3dy5tb25leWNvbnRyb2wuY29tL3RlY2hub2xvZ3kvcGhvdG9ncmFwaGVycy1jb21wbGFpbnRzLWxlYWQtbWV0YS10by1yZXZpc2UtYWktZ2VuZXJhdGVkLWltYWdlLWxhYmVscy1vbi1mYWNlYm9vay1pbnN0YWdyYW0tYXJ0aWNsZS0xMjc2MDE2OS5odG1s0gGeAWh0dHBzOi8vd3d3Lm1vbmV5Y29udHJvbC5jb20vdGVjaG5vbG9neS9waG90b2dyYXBoZXJzLWNvbXBsYWludHMtbGVhZC1tZXRhLXRvLXJldmlzZS1haS1nZW5lcmF0ZWQtaW1hZ2UtbGFiZWxzLW9uLWZhY2Vib29rLWluc3RhZ3JhbS1hcnRpY2xlLTEyNzYwMTY5Lmh0bWwvYW1w\n",
      "2024-07-02 12:45:37,951 - AInewsbot - INFO - Message: Unable to locate element: //meta[@http-equiv='Content-Type']; For documentation on this error, please visit: https://www.selenium.dev/documentation/webdriver/troubleshooting/errors#no-such-element-exception\n",
      "Stacktrace:\n",
      "RemoteError@chrome://remote/content/shared/RemoteError.sys.mjs:8:8\n",
      "WebDriverError@chrome://remote/content/shared/webdriver/Errors.sys.mjs:192:5\n",
      "NoSuchElementError@chrome://remote/content/shared/webdriver/Errors.sys.mjs:510:5\n",
      "dom.find/</<@chrome://remote/content/shared/DOM.sys.mjs:136:16\n",
      "\n",
      "2024-07-02 12:45:37,952 - AInewsbot - INFO - get_url(Snapdragon_8_Gen_4__Adreno_830_GPU_rumoured_to_launch_with_DLSS_Frame_Generation-like_feature_-_NotebookCheck_net_News) - Saving Snapdragon_8_Gen_4__Adreno_830_GPU_rumoured_to_launch_with_DLSS_Frame_Generation-like_feature_-_NotebookCheck_net_News_20240702_124537.html as utf-8\n",
      "2024-07-02 12:45:37,953 - AInewsbot - INFO - Processing https://news.google.com/articles/CBMingFodHRwczovL3RpbWVzb2ZpbmRpYS5pbmRpYXRpbWVzLmNvbS90ZWNobm9sb2d5L3NvY2lhbC9tZXRhLXVwZGF0ZXMtbWFkZS1ieS1haS1sYWJlbC1hY3Jvc3MtZmFjZWJvb2staW5zdGFncmFtLWhlcmVzLXdoYXQtaXMtY2hhbmdpbmcvYXJ0aWNsZXNob3cvMTExNDEzMjYyLmNtc9IBogFodHRwczovL3RpbWVzb2ZpbmRpYS5pbmRpYXRpbWVzLmNvbS90ZWNobm9sb2d5L3NvY2lhbC9tZXRhLXVwZGF0ZXMtbWFkZS1ieS1haS1sYWJlbC1hY3Jvc3MtZmFjZWJvb2staW5zdGFncmFtLWhlcmVzLXdoYXQtaXMtY2hhbmdpbmcvYW1wX2FydGljbGVzaG93LzExMTQxMzI2Mi5jbXM\n",
      "2024-07-02 12:45:37,954 - AInewsbot - INFO - get_url(https://news.google.com/articles/CBMingFodHRwczovL3RpbWVzb2ZpbmRpYS5pbmRpYXRpbWVzLmNvbS90ZWNobm9sb2d5L3NvY2lhbC9tZXRhLXVwZGF0ZXMtbWFkZS1ieS1haS1sYWJlbC1hY3Jvc3MtZmFjZWJvb2staW5zdGFncmFtLWhlcmVzLXdoYXQtaXMtY2hhbmdpbmcvYXJ0aWNsZXNob3cvMTExNDEzMjYyLmNtc9IBogFodHRwczovL3RpbWVzb2ZpbmRpYS5pbmRpYXRpbWVzLmNvbS90ZWNobm9sb2d5L3NvY2lhbC9tZXRhLXVwZGF0ZXMtbWFkZS1ieS1haS1sYWJlbC1hY3Jvc3MtZmFjZWJvb2staW5zdGFncmFtLWhlcmVzLXdoYXQtaXMtY2hhbmdpbmcvYW1wX2FydGljbGVzaG93LzExMTQxMzI2Mi5jbXM) - starting get_files https://news.google.com/articles/CBMingFodHRwczovL3RpbWVzb2ZpbmRpYS5pbmRpYXRpbWVzLmNvbS90ZWNobm9sb2d5L3NvY2lhbC9tZXRhLXVwZGF0ZXMtbWFkZS1ieS1haS1sYWJlbC1hY3Jvc3MtZmFjZWJvb2staW5zdGFncmFtLWhlcmVzLXdoYXQtaXMtY2hhbmdpbmcvYXJ0aWNsZXNob3cvMTExNDEzMjYyLmNtc9IBogFodHRwczovL3RpbWVzb2ZpbmRpYS5pbmRpYXRpbWVzLmNvbS90ZWNobm9sb2d5L3NvY2lhbC9tZXRhLXVwZGF0ZXMtbWFkZS1ieS1haS1sYWJlbC1hY3Jvc3MtZmFjZWJvb2staW5zdGFncmFtLWhlcmVzLXdoYXQtaXMtY2hhbmdpbmcvYW1wX2FydGljbGVzaG93LzExMTQxMzI2Mi5jbXM\n",
      "2024-07-02 12:45:41,972 - AInewsbot - INFO - Message: Unable to locate element: //meta[@http-equiv='Content-Type']; For documentation on this error, please visit: https://www.selenium.dev/documentation/webdriver/troubleshooting/errors#no-such-element-exception\n",
      "Stacktrace:\n",
      "RemoteError@chrome://remote/content/shared/RemoteError.sys.mjs:8:8\n",
      "WebDriverError@chrome://remote/content/shared/webdriver/Errors.sys.mjs:192:5\n",
      "NoSuchElementError@chrome://remote/content/shared/webdriver/Errors.sys.mjs:510:5\n",
      "dom.find/</<@chrome://remote/content/shared/DOM.sys.mjs:136:16\n",
      "\n",
      "2024-07-02 12:45:41,973 - AInewsbot - INFO - get_url(Snapdragon_8_Gen_4_Rumored_To_Support__GPU_Interpolation_Technology___Hinting_At_Frame_Generation_Arriving_To_The_SoC__Boosting_Gaming_Performance) - Saving Snapdragon_8_Gen_4_Rumored_To_Support__GPU_Interpolation_Technology___Hinting_At_Frame_Generation_Arriving_To_The_SoC__Boosting_Gaming_Performance_20240702_124541.html as utf-8\n",
      "2024-07-02 12:45:41,974 - AInewsbot - INFO - Processing https://news.google.com/articles/CBMiVmh0dHBzOi8vd3d3LnNvY2lhbG1lZGlhdG9kYXkuY29tL25ld3MvbWV0YS1zd2l0Y2hlcy1haS1sYWJlbHMtbWFkZS1haS1pbmZvLXRhZy83MjAzODQv0gEA\n",
      "2024-07-02 12:45:41,974 - AInewsbot - INFO - get_url(https://news.google.com/articles/CBMiVmh0dHBzOi8vd3d3LnNvY2lhbG1lZGlhdG9kYXkuY29tL25ld3MvbWV0YS1zd2l0Y2hlcy1haS1sYWJlbHMtbWFkZS1haS1pbmZvLXRhZy83MjAzODQv0gEA) - starting get_files https://news.google.com/articles/CBMiVmh0dHBzOi8vd3d3LnNvY2lhbG1lZGlhdG9kYXkuY29tL25ld3MvbWV0YS1zd2l0Y2hlcy1haS1sYWJlbHMtbWFkZS1haS1pbmZvLXRhZy83MjAzODQv0gEA\n",
      "2024-07-02 12:45:44,538 - AInewsbot - INFO - Message: Unable to locate element: //meta[@http-equiv='Content-Type']; For documentation on this error, please visit: https://www.selenium.dev/documentation/webdriver/troubleshooting/errors#no-such-element-exception\n",
      "Stacktrace:\n",
      "RemoteError@chrome://remote/content/shared/RemoteError.sys.mjs:8:8\n",
      "WebDriverError@chrome://remote/content/shared/webdriver/Errors.sys.mjs:192:5\n",
      "NoSuchElementError@chrome://remote/content/shared/webdriver/Errors.sys.mjs:510:5\n",
      "dom.find/</<@chrome://remote/content/shared/DOM.sys.mjs:136:16\n",
      "\n",
      "2024-07-02 12:45:44,538 - AInewsbot - INFO - get_url(Meta_Is_Changing_Artificial_Intelligence_Labels_After_Real_Photos_Were_Marked_As_AI_-_CNET) - Saving Meta_Is_Changing_Artificial_Intelligence_Labels_After_Real_Photos_Were_Marked_As_AI_-_CNET_20240702_124544.html as utf-8\n",
      "2024-07-02 12:45:44,540 - AInewsbot - INFO - Processing https://news.google.com/articles/CBMifmh0dHBzOi8vd3d3LmZpbmFuY2lhbGV4cHJlc3MuY29tL2xpZmUvdGVjaG5vbG9neS1tZXRhLXN3YXBzLW1hZGUtd2l0aC1haS1sYWJlbC13aXRoLWFpLWluZm8tb24tcGhvdG9zLWtub3ctcmVhc29uLXdoeS0zNTQxNDQyL9IBAA\n",
      "2024-07-02 12:45:44,540 - AInewsbot - INFO - get_url(https://news.google.com/articles/CBMifmh0dHBzOi8vd3d3LmZpbmFuY2lhbGV4cHJlc3MuY29tL2xpZmUvdGVjaG5vbG9neS1tZXRhLXN3YXBzLW1hZGUtd2l0aC1haS1sYWJlbC13aXRoLWFpLWluZm8tb24tcGhvdG9zLWtub3ctcmVhc29uLXdoeS0zNTQxNDQyL9IBAA) - starting get_files https://news.google.com/articles/CBMifmh0dHBzOi8vd3d3LmZpbmFuY2lhbGV4cHJlc3MuY29tL2xpZmUvdGVjaG5vbG9neS1tZXRhLXN3YXBzLW1hZGUtd2l0aC1haS1sYWJlbC13aXRoLWFpLWluZm8tb24tcGhvdG9zLWtub3ctcmVhc29uLXdoeS0zNTQxNDQyL9IBAA\n"
     ]
    },
    {
     "name": "stderr",
     "output_type": "stream",
     "text": [
      "2024-07-02 12:45:48,058 - AInewsbot - INFO - get_url(Photographers__complaints_lead_Meta_to_revise_AI-generated_image_labels_on_Facebook__Instagram) - Saving Photographers__complaints_lead_Meta_to_revise_AI-generated_image_labels_on_Facebook__Instagram_20240702_124548.html as utf-8\n",
      "2024-07-02 12:45:48,059 - AInewsbot - INFO - Processing https://news.google.com/articles/CBMiNGh0dHBzOi8vOXRvNW1hYy5jb20vMjAyNC8wNy8wMi9maWdtYS1haS13ZWF0aGVyLWFwcC_SAQA\n",
      "2024-07-02 12:45:48,059 - AInewsbot - INFO - get_url(https://news.google.com/articles/CBMiNGh0dHBzOi8vOXRvNW1hYy5jb20vMjAyNC8wNy8wMi9maWdtYS1haS13ZWF0aGVyLWFwcC_SAQA) - starting get_files https://news.google.com/articles/CBMiNGh0dHBzOi8vOXRvNW1hYy5jb20vMjAyNC8wNy8wMi9maWdtYS1haS13ZWF0aGVyLWFwcC_SAQA\n",
      "2024-07-02 12:45:48,260 - AInewsbot - INFO - get_url(Meta_updates__Made_by_AI__label_across_Facebook__Instagram__Here_s_what_is_changing_-_Times_of_India) - Saving Meta_updates__Made_by_AI__label_across_Facebook__Instagram__Here_s_what_is_changing_-_Times_of_India_20240702_124548.html as UTF-8\n",
      "2024-07-02 12:45:48,262 - AInewsbot - INFO - Processing https://www.404media.co/figma-disables-ai-app-design-tool-after-it-copied-apples-weather-app/\n",
      "2024-07-02 12:45:48,262 - AInewsbot - INFO - get_url(https://www.404media.co/figma-disables-ai-app-design-tool-after-it-copied-apples-weather-app/) - starting get_files https://www.404media.co/figma-disables-ai-app-design-tool-after-it-copied-apples-weather-app/\n",
      "2024-07-02 12:45:52,284 - AInewsbot - INFO - Message: Unable to locate element: //meta[@http-equiv='Content-Type']; For documentation on this error, please visit: https://www.selenium.dev/documentation/webdriver/troubleshooting/errors#no-such-element-exception\n",
      "Stacktrace:\n",
      "RemoteError@chrome://remote/content/shared/RemoteError.sys.mjs:8:8\n",
      "WebDriverError@chrome://remote/content/shared/webdriver/Errors.sys.mjs:192:5\n",
      "NoSuchElementError@chrome://remote/content/shared/webdriver/Errors.sys.mjs:510:5\n",
      "dom.find/</<@chrome://remote/content/shared/DOM.sys.mjs:136:16\n",
      "\n",
      "2024-07-02 12:45:52,285 - AInewsbot - INFO - get_url(Meta_Switches_AI_Labels_From__Made_With_AI__to__AI_Info__Tag___Social_Media_Today) - Saving Meta_Switches_AI_Labels_From__Made_With_AI__to__AI_Info__Tag___Social_Media_Today_20240702_124552.html as utf-8\n",
      "2024-07-02 12:45:52,285 - AInewsbot - INFO - Processing https://www.cnet.com/tech/services-and-software/how-to-use-midjourney-to-make-a-logo-for-your-business-or-not/\n",
      "2024-07-02 12:45:52,286 - AInewsbot - INFO - get_url(https://www.cnet.com/tech/services-and-software/how-to-use-midjourney-to-make-a-logo-for-your-business-or-not/) - starting get_files https://www.cnet.com/tech/services-and-software/how-to-use-midjourney-to-make-a-logo-for-your-business-or-not/\n",
      "2024-07-02 12:45:54,879 - AInewsbot - INFO - Message: Unable to locate element: //meta[@http-equiv='Content-Type']; For documentation on this error, please visit: https://www.selenium.dev/documentation/webdriver/troubleshooting/errors#no-such-element-exception\n",
      "Stacktrace:\n",
      "RemoteError@chrome://remote/content/shared/RemoteError.sys.mjs:8:8\n",
      "WebDriverError@chrome://remote/content/shared/webdriver/Errors.sys.mjs:192:5\n",
      "NoSuchElementError@chrome://remote/content/shared/webdriver/Errors.sys.mjs:510:5\n",
      "dom.find/</<@chrome://remote/content/shared/DOM.sys.mjs:136:16\n",
      "\n",
      "2024-07-02 12:45:54,880 - AInewsbot - INFO - get_url(Meta_swaps__Made_with_AI__label_with__AI_Info__on_photos__know_reason_why_-_Technology_News___The_Financial_Express) - Saving Meta_swaps__Made_with_AI__label_with__AI_Info__on_photos__know_reason_why_-_Technology_News___The_Financial_Express_20240702_124554.html as utf-8\n",
      "2024-07-02 12:45:54,881 - AInewsbot - INFO - Processing https://www.geeky-gadgets.com/how-to-use-runway-gen-3-to-create-ai-video/\n",
      "2024-07-02 12:45:54,882 - AInewsbot - INFO - get_url(https://www.geeky-gadgets.com/how-to-use-runway-gen-3-to-create-ai-video/) - starting get_files https://www.geeky-gadgets.com/how-to-use-runway-gen-3-to-create-ai-video/\n",
      "2024-07-02 12:45:58,463 - AInewsbot - INFO - Message: Unable to locate element: //meta[@http-equiv='Content-Type']; For documentation on this error, please visit: https://www.selenium.dev/documentation/webdriver/troubleshooting/errors#no-such-element-exception\n",
      "Stacktrace:\n",
      "RemoteError@chrome://remote/content/shared/RemoteError.sys.mjs:8:8\n",
      "WebDriverError@chrome://remote/content/shared/webdriver/Errors.sys.mjs:192:5\n",
      "NoSuchElementError@chrome://remote/content/shared/webdriver/Errors.sys.mjs:510:5\n",
      "dom.find/</<@chrome://remote/content/shared/DOM.sys.mjs:136:16\n",
      "\n",
      "2024-07-02 12:45:58,463 - AInewsbot - INFO - get_url(Figma_AI_just_copies_Apple_s_Weather_app_every_time__U__Figma_responds__-_9to5Mac) - Saving Figma_AI_just_copies_Apple_s_Weather_app_every_time__U__Figma_responds__-_9to5Mac_20240702_124558.html as utf-8\n",
      "2024-07-02 12:45:58,465 - AInewsbot - INFO - Processing https://www.geeky-gadgets.com/how-to-use-mesop-googles-new-ai-user-interface-ui-builder/\n",
      "2024-07-02 12:45:58,466 - AInewsbot - INFO - get_url(https://www.geeky-gadgets.com/how-to-use-mesop-googles-new-ai-user-interface-ui-builder/) - starting get_files https://www.geeky-gadgets.com/how-to-use-mesop-googles-new-ai-user-interface-ui-builder/\n",
      "2024-07-02 12:45:59,132 - AInewsbot - INFO - Message: Unable to locate element: //meta[@http-equiv='Content-Type']; For documentation on this error, please visit: https://www.selenium.dev/documentation/webdriver/troubleshooting/errors#no-such-element-exception\n",
      "Stacktrace:\n",
      "RemoteError@chrome://remote/content/shared/RemoteError.sys.mjs:8:8\n",
      "WebDriverError@chrome://remote/content/shared/webdriver/Errors.sys.mjs:192:5\n",
      "NoSuchElementError@chrome://remote/content/shared/webdriver/Errors.sys.mjs:510:5\n",
      "dom.find/</<@chrome://remote/content/shared/DOM.sys.mjs:136:16\n",
      "\n",
      "2024-07-02 12:45:59,132 - AInewsbot - INFO - get_url(Figma_Disables_AI_App_Design_Tool_After_It_Copied_Apple_s_Weather_App) - Saving Figma_Disables_AI_App_Design_Tool_After_It_Copied_Apple_s_Weather_App_20240702_124559.html as utf-8\n",
      "2024-07-02 12:45:59,133 - AInewsbot - INFO - Processing https://nofilmschool.com/artlist-ai-voice-over\n",
      "2024-07-02 12:45:59,134 - AInewsbot - INFO - get_url(https://nofilmschool.com/artlist-ai-voice-over) - starting get_files https://nofilmschool.com/artlist-ai-voice-over\n",
      "2024-07-02 12:46:03,780 - AInewsbot - INFO - Message: Unable to locate element: //meta[@http-equiv='Content-Type']; For documentation on this error, please visit: https://www.selenium.dev/documentation/webdriver/troubleshooting/errors#no-such-element-exception\n",
      "Stacktrace:\n",
      "RemoteError@chrome://remote/content/shared/RemoteError.sys.mjs:8:8\n",
      "WebDriverError@chrome://remote/content/shared/webdriver/Errors.sys.mjs:192:5\n",
      "NoSuchElementError@chrome://remote/content/shared/webdriver/Errors.sys.mjs:510:5\n",
      "dom.find/</<@chrome://remote/content/shared/DOM.sys.mjs:136:16\n",
      "\n",
      "2024-07-02 12:46:03,780 - AInewsbot - INFO - get_url(How_to_Use_Midjourney_to_Make_a_Logo_for_Your_Business_--_or_Not_-_CNET) - Saving How_to_Use_Midjourney_to_Make_a_Logo_for_Your_Business_--_or_Not_-_CNET_20240702_124603.html as utf-8\n",
      "2024-07-02 12:46:03,782 - AInewsbot - INFO - Processing https://gizmodo.com/youtube-ai-content-deepfakes-1851572121\n",
      "2024-07-02 12:46:03,783 - AInewsbot - INFO - get_url(https://gizmodo.com/youtube-ai-content-deepfakes-1851572121) - starting get_files https://gizmodo.com/youtube-ai-content-deepfakes-1851572121\n",
      "2024-07-02 12:46:05,229 - AInewsbot - INFO - Message: Unable to locate element: //meta[@http-equiv='Content-Type']; For documentation on this error, please visit: https://www.selenium.dev/documentation/webdriver/troubleshooting/errors#no-such-element-exception\n",
      "Stacktrace:\n",
      "RemoteError@chrome://remote/content/shared/RemoteError.sys.mjs:8:8\n",
      "WebDriverError@chrome://remote/content/shared/webdriver/Errors.sys.mjs:192:5\n",
      "NoSuchElementError@chrome://remote/content/shared/webdriver/Errors.sys.mjs:510:5\n",
      "dom.find/</<@chrome://remote/content/shared/DOM.sys.mjs:136:16\n",
      "\n",
      "2024-07-02 12:46:05,229 - AInewsbot - INFO - get_url(How_to_Use_Runway_Gen_3_to_Create_AI_Video_-_Geeky_Gadgets) - Saving How_to_Use_Runway_Gen_3_to_Create_AI_Video_-_Geeky_Gadgets_20240702_124605.html as utf-8\n",
      "2024-07-02 12:46:05,230 - AInewsbot - INFO - Processing https://news.google.com/articles/CBMiY2h0dHBzOi8vd3d3LnBjbWFnLmNvbS9uZXdzL3lvdXR1YmUtbm93LXN1cHBvcnRzLXJlbW92YWwtcmVxdWVzdHMtZm9yLWFpLXZpZGVvcy10aGF0LWxvb2stc291bmQtbGlrZdIBAA\n"
     ]
    },
    {
     "name": "stderr",
     "output_type": "stream",
     "text": [
      "2024-07-02 12:46:05,231 - AInewsbot - INFO - get_url(https://news.google.com/articles/CBMiY2h0dHBzOi8vd3d3LnBjbWFnLmNvbS9uZXdzL3lvdXR1YmUtbm93LXN1cHBvcnRzLXJlbW92YWwtcmVxdWVzdHMtZm9yLWFpLXZpZGVvcy10aGF0LWxvb2stc291bmQtbGlrZdIBAA) - starting get_files https://news.google.com/articles/CBMiY2h0dHBzOi8vd3d3LnBjbWFnLmNvbS9uZXdzL3lvdXR1YmUtbm93LXN1cHBvcnRzLXJlbW92YWwtcmVxdWVzdHMtZm9yLWFpLXZpZGVvcy10aGF0LWxvb2stc291bmQtbGlrZdIBAA\n",
      "2024-07-02 12:46:08,758 - AInewsbot - INFO - Message: Unable to locate element: //meta[@http-equiv='Content-Type']; For documentation on this error, please visit: https://www.selenium.dev/documentation/webdriver/troubleshooting/errors#no-such-element-exception\n",
      "Stacktrace:\n",
      "RemoteError@chrome://remote/content/shared/RemoteError.sys.mjs:8:8\n",
      "WebDriverError@chrome://remote/content/shared/webdriver/Errors.sys.mjs:192:5\n",
      "NoSuchElementError@chrome://remote/content/shared/webdriver/Errors.sys.mjs:510:5\n",
      "dom.find/</<@chrome://remote/content/shared/DOM.sys.mjs:136:16\n",
      "\n",
      "2024-07-02 12:46:08,758 - AInewsbot - INFO - get_url(How_to_use_Mesop_Google_s_new_AI_user_interface__UI__Builder_-_Geeky_Gadgets) - Saving How_to_use_Mesop_Google_s_new_AI_user_interface__UI__Builder_-_Geeky_Gadgets_20240702_124608.html as utf-8\n",
      "2024-07-02 12:46:08,759 - AInewsbot - INFO - Processing https://news.google.com/articles/CBMiaGh0dHBzOi8vd3d3LnN0YXRuZXdzLmNvbS8yMDI0LzA3LzAyL2RyYWctcXVlZW4tYWktY2hhdGJvdC1haWRzLWhlYWx0aGNhcmUtZm91bmRhdGlvbi1lZHVjYXRpb24tb3V0cmVhY2gv0gEA\n",
      "2024-07-02 12:46:08,760 - AInewsbot - INFO - get_url(https://news.google.com/articles/CBMiaGh0dHBzOi8vd3d3LnN0YXRuZXdzLmNvbS8yMDI0LzA3LzAyL2RyYWctcXVlZW4tYWktY2hhdGJvdC1haWRzLWhlYWx0aGNhcmUtZm91bmRhdGlvbi1lZHVjYXRpb24tb3V0cmVhY2gv0gEA) - starting get_files https://news.google.com/articles/CBMiaGh0dHBzOi8vd3d3LnN0YXRuZXdzLmNvbS8yMDI0LzA3LzAyL2RyYWctcXVlZW4tYWktY2hhdGJvdC1haWRzLWhlYWx0aGNhcmUtZm91bmRhdGlvbi1lZHVjYXRpb24tb3V0cmVhY2gv0gEA\n",
      "2024-07-02 12:46:09,545 - AInewsbot - INFO - Message: Unable to locate element: //meta[@http-equiv='Content-Type']; For documentation on this error, please visit: https://www.selenium.dev/documentation/webdriver/troubleshooting/errors#no-such-element-exception\n",
      "Stacktrace:\n",
      "RemoteError@chrome://remote/content/shared/RemoteError.sys.mjs:8:8\n",
      "WebDriverError@chrome://remote/content/shared/webdriver/Errors.sys.mjs:192:5\n",
      "NoSuchElementError@chrome://remote/content/shared/webdriver/Errors.sys.mjs:510:5\n",
      "dom.find/</<@chrome://remote/content/shared/DOM.sys.mjs:136:16\n",
      "\n",
      "2024-07-02 12:46:09,546 - AInewsbot - INFO - get_url(Add_High-Quality_AI_Voice-Overs_to_Your_Videos_with_Artlist___No_Film_School) - Saving Add_High-Quality_AI_Voice-Overs_to_Your_Videos_with_Artlist___No_Film_School_20240702_124609.html as utf-8\n",
      "2024-07-02 12:46:09,547 - AInewsbot - INFO - Processing https://news.google.com/articles/CBMiggFodHRwczovL3d3dy5ub3RlYm9va2NoZWNrLm5ldC9HZW5lcmF0ZS1BSS1zdGlja2Vycy1vZi15b3Vyc2VsZi1vbi1XaGF0c0FwcC11c2luZy1JbWFnZS1NZS1mZWF0dXJlLXBvd2VyZWQtYnktTWV0YS1BSS44NTU5NTkuMC5odG1s0gEA\n",
      "2024-07-02 12:46:09,547 - AInewsbot - INFO - get_url(https://news.google.com/articles/CBMiggFodHRwczovL3d3dy5ub3RlYm9va2NoZWNrLm5ldC9HZW5lcmF0ZS1BSS1zdGlja2Vycy1vZi15b3Vyc2VsZi1vbi1XaGF0c0FwcC11c2luZy1JbWFnZS1NZS1mZWF0dXJlLXBvd2VyZWQtYnktTWV0YS1BSS44NTU5NTkuMC5odG1s0gEA) - starting get_files https://news.google.com/articles/CBMiggFodHRwczovL3d3dy5ub3RlYm9va2NoZWNrLm5ldC9HZW5lcmF0ZS1BSS1zdGlja2Vycy1vZi15b3Vyc2VsZi1vbi1XaGF0c0FwcC11c2luZy1JbWFnZS1NZS1mZWF0dXJlLXBvd2VyZWQtYnktTWV0YS1BSS44NTU5NTkuMC5odG1s0gEA\n",
      "2024-07-02 12:46:14,088 - AInewsbot - INFO - Message: Unable to locate element: //meta[@http-equiv='Content-Type']; For documentation on this error, please visit: https://www.selenium.dev/documentation/webdriver/troubleshooting/errors#no-such-element-exception\n",
      "Stacktrace:\n",
      "RemoteError@chrome://remote/content/shared/RemoteError.sys.mjs:8:8\n",
      "WebDriverError@chrome://remote/content/shared/webdriver/Errors.sys.mjs:192:5\n",
      "NoSuchElementError@chrome://remote/content/shared/webdriver/Errors.sys.mjs:510:5\n",
      "dom.find/</<@chrome://remote/content/shared/DOM.sys.mjs:136:16\n",
      "\n",
      "2024-07-02 12:46:14,089 - AInewsbot - INFO - get_url(You_Can_Ask_YouTube_to_Take_Down_AI_Content_Using_Your_Likeness) - Saving You_Can_Ask_YouTube_to_Take_Down_AI_Content_Using_Your_Likeness_20240702_124614.html as utf-8\n",
      "2024-07-02 12:46:14,091 - AInewsbot - INFO - Processing https://news.google.com/articles/CBMiWWh0dHBzOi8vd3d3LmphZ3Jhbmpvc2guY29tL2dlbmVyYWwta25vd2xlZGdlL2hvdy10by11c2UtbWV0YS1haS1pbi1tZXRhLWFwcHMtMTcxOTgzODAzOC0x0gFdaHR0cHM6Ly93d3cuamFncmFuam9zaC5jb20vZ2VuZXJhbC1rbm93bGVkZ2UvYW1wL2hvdy10by11c2UtbWV0YS1haS1pbi1tZXRhLWFwcHMtMTcxOTgzODAzOC0x\n",
      "2024-07-02 12:46:14,091 - AInewsbot - INFO - get_url(https://news.google.com/articles/CBMiWWh0dHBzOi8vd3d3LmphZ3Jhbmpvc2guY29tL2dlbmVyYWwta25vd2xlZGdlL2hvdy10by11c2UtbWV0YS1haS1pbi1tZXRhLWFwcHMtMTcxOTgzODAzOC0x0gFdaHR0cHM6Ly93d3cuamFncmFuam9zaC5jb20vZ2VuZXJhbC1rbm93bGVkZ2UvYW1wL2hvdy10by11c2UtbWV0YS1haS1pbi1tZXRhLWFwcHMtMTcxOTgzODAzOC0x) - starting get_files https://news.google.com/articles/CBMiWWh0dHBzOi8vd3d3LmphZ3Jhbmpvc2guY29tL2dlbmVyYWwta25vd2xlZGdlL2hvdy10by11c2UtbWV0YS1haS1pbi1tZXRhLWFwcHMtMTcxOTgzODAzOC0x0gFdaHR0cHM6Ly93d3cuamFncmFuam9zaC5jb20vZ2VuZXJhbC1rbm93bGVkZ2UvYW1wL2hvdy10by11c2UtbWV0YS1haS1pbi1tZXRhLWFwcHMtMTcxOTgzODAzOC0x\n",
      "2024-07-02 12:46:15,595 - AInewsbot - INFO - Message: Unable to locate element: //meta[@http-equiv='Content-Type']; For documentation on this error, please visit: https://www.selenium.dev/documentation/webdriver/troubleshooting/errors#no-such-element-exception\n",
      "Stacktrace:\n",
      "RemoteError@chrome://remote/content/shared/RemoteError.sys.mjs:8:8\n",
      "WebDriverError@chrome://remote/content/shared/webdriver/Errors.sys.mjs:192:5\n",
      "NoSuchElementError@chrome://remote/content/shared/webdriver/Errors.sys.mjs:510:5\n",
      "dom.find/</<@chrome://remote/content/shared/DOM.sys.mjs:136:16\n",
      "\n",
      "2024-07-02 12:46:15,596 - AInewsbot - INFO - get_url(YouTube_Now_Supports_Removal_Requests_for_AI_Videos_That_Look__Sound_Like_You___PCMag) - Saving YouTube_Now_Supports_Removal_Requests_for_AI_Videos_That_Look__Sound_Like_You___PCMag_20240702_124615.html as utf-8\n",
      "2024-07-02 12:46:15,597 - AInewsbot - INFO - Processing https://www.zdnet.com/article/i-tested-the-hp-omnibook-x-copilot-pc-and-it-nearly-made-me-a-windows-on-arm-believer/\n",
      "2024-07-02 12:46:15,598 - AInewsbot - INFO - get_url(https://www.zdnet.com/article/i-tested-the-hp-omnibook-x-copilot-pc-and-it-nearly-made-me-a-windows-on-arm-believer/) - starting get_files https://www.zdnet.com/article/i-tested-the-hp-omnibook-x-copilot-pc-and-it-nearly-made-me-a-windows-on-arm-believer/\n",
      "2024-07-02 12:46:19,064 - AInewsbot - INFO - Message: Unable to locate element: //meta[@http-equiv='Content-Type']; For documentation on this error, please visit: https://www.selenium.dev/documentation/webdriver/troubleshooting/errors#no-such-element-exception\n",
      "Stacktrace:\n",
      "RemoteError@chrome://remote/content/shared/RemoteError.sys.mjs:8:8\n",
      "WebDriverError@chrome://remote/content/shared/webdriver/Errors.sys.mjs:192:5\n",
      "NoSuchElementError@chrome://remote/content/shared/webdriver/Errors.sys.mjs:510:5\n",
      "dom.find/</<@chrome://remote/content/shared/DOM.sys.mjs:136:16\n",
      "\n",
      "2024-07-02 12:46:19,065 - AInewsbot - INFO - get_url(Drag_queen_AI_chatbot_offers_advice__education_on_HIV_and_STIs) - Saving Drag_queen_AI_chatbot_offers_advice__education_on_HIV_and_STIs_20240702_124619.html as utf-8\n",
      "2024-07-02 12:46:19,066 - AInewsbot - INFO - Processing https://hackernoon.com/manners-matter-the-impact-of-politeness-on-human-llm-interaction\n",
      "2024-07-02 12:46:19,066 - AInewsbot - INFO - get_url(https://hackernoon.com/manners-matter-the-impact-of-politeness-on-human-llm-interaction) - starting get_files https://hackernoon.com/manners-matter-the-impact-of-politeness-on-human-llm-interaction\n",
      "2024-07-02 12:46:20,017 - AInewsbot - INFO - Message: Unable to locate element: //meta[@http-equiv='Content-Type']; For documentation on this error, please visit: https://www.selenium.dev/documentation/webdriver/troubleshooting/errors#no-such-element-exception\n",
      "Stacktrace:\n",
      "RemoteError@chrome://remote/content/shared/RemoteError.sys.mjs:8:8\n",
      "WebDriverError@chrome://remote/content/shared/webdriver/Errors.sys.mjs:192:5\n",
      "NoSuchElementError@chrome://remote/content/shared/webdriver/Errors.sys.mjs:510:5\n",
      "dom.find/</<@chrome://remote/content/shared/DOM.sys.mjs:136:16\n",
      "\n"
     ]
    },
    {
     "name": "stderr",
     "output_type": "stream",
     "text": [
      "2024-07-02 12:46:20,018 - AInewsbot - INFO - get_url(Generate_AI_stickers_of_yourself_on_WhatsApp_using__Image_Me__feature_powered_by_Meta_AI_-_NotebookCheck_net_News) - Saving Generate_AI_stickers_of_yourself_on_WhatsApp_using__Image_Me__feature_powered_by_Meta_AI_-_NotebookCheck_net_News_20240702_124620.html as utf-8\n",
      "2024-07-02 12:46:20,020 - AInewsbot - INFO - Processing https://www.androidcentral.com/apps-software/is-geminis-expanded-context-window-as-useful-as-we-thought\n",
      "2024-07-02 12:46:20,020 - AInewsbot - INFO - get_url(https://www.androidcentral.com/apps-software/is-geminis-expanded-context-window-as-useful-as-we-thought) - starting get_files https://www.androidcentral.com/apps-software/is-geminis-expanded-context-window-as-useful-as-we-thought\n",
      "2024-07-02 12:46:24,419 - AInewsbot - INFO - Message: Unable to locate element: //meta[@http-equiv='Content-Type']; For documentation on this error, please visit: https://www.selenium.dev/documentation/webdriver/troubleshooting/errors#no-such-element-exception\n",
      "Stacktrace:\n",
      "RemoteError@chrome://remote/content/shared/RemoteError.sys.mjs:8:8\n",
      "WebDriverError@chrome://remote/content/shared/webdriver/Errors.sys.mjs:192:5\n",
      "NoSuchElementError@chrome://remote/content/shared/webdriver/Errors.sys.mjs:510:5\n",
      "dom.find/</<@chrome://remote/content/shared/DOM.sys.mjs:136:16\n",
      "\n",
      "2024-07-02 12:46:24,419 - AInewsbot - INFO - get_url(How_to_use_Meta_AI_in_WhatsApp__Facebook_and_Instagram_to_Get_Answers_Quickly) - Saving How_to_use_Meta_AI_in_WhatsApp__Facebook_and_Instagram_to_Get_Answers_Quickly_20240702_124624.html as utf-8\n",
      "2024-07-02 12:46:24,422 - AInewsbot - INFO - Processing https://github.com/pretzelai/pretzelai/blob/main/README.md\n",
      "2024-07-02 12:46:24,425 - AInewsbot - INFO - get_url(https://github.com/pretzelai/pretzelai/blob/main/README.md) - starting get_files https://github.com/pretzelai/pretzelai/blob/main/README.md\n",
      "2024-07-02 12:46:26,376 - AInewsbot - INFO - Message: Unable to locate element: //meta[@http-equiv='Content-Type']; For documentation on this error, please visit: https://www.selenium.dev/documentation/webdriver/troubleshooting/errors#no-such-element-exception\n",
      "Stacktrace:\n",
      "RemoteError@chrome://remote/content/shared/RemoteError.sys.mjs:8:8\n",
      "WebDriverError@chrome://remote/content/shared/webdriver/Errors.sys.mjs:192:5\n",
      "NoSuchElementError@chrome://remote/content/shared/webdriver/Errors.sys.mjs:510:5\n",
      "dom.find/</<@chrome://remote/content/shared/DOM.sys.mjs:136:16\n",
      "\n",
      "2024-07-02 12:46:26,377 - AInewsbot - INFO - get_url(I_tested_HP_s_OmniBook_X_Copilot__PC__and_it_almost_made_me_a_Windows_on_ARM_believer___ZDNET) - Saving I_tested_HP_s_OmniBook_X_Copilot__PC__and_it_almost_made_me_a_Windows_on_ARM_believer___ZDNET_20240702_124626.html as utf-8\n",
      "2024-07-02 12:46:26,381 - AInewsbot - INFO - Processing https://hackernoon.com/claude-35-sonnet-vs-gpt-4o-an-honest-review\n",
      "2024-07-02 12:46:26,381 - AInewsbot - INFO - get_url(https://hackernoon.com/claude-35-sonnet-vs-gpt-4o-an-honest-review) - starting get_files https://hackernoon.com/claude-35-sonnet-vs-gpt-4o-an-honest-review\n",
      "2024-07-02 12:46:29,875 - AInewsbot - INFO - Message: Unable to locate element: //meta[@http-equiv='Content-Type']; For documentation on this error, please visit: https://www.selenium.dev/documentation/webdriver/troubleshooting/errors#no-such-element-exception\n",
      "Stacktrace:\n",
      "RemoteError@chrome://remote/content/shared/RemoteError.sys.mjs:8:8\n",
      "WebDriverError@chrome://remote/content/shared/webdriver/Errors.sys.mjs:192:5\n",
      "NoSuchElementError@chrome://remote/content/shared/webdriver/Errors.sys.mjs:510:5\n",
      "dom.find/</<@chrome://remote/content/shared/DOM.sys.mjs:136:16\n",
      "\n",
      "2024-07-02 12:46:29,876 - AInewsbot - INFO - get_url(Manners_Matter__-_The_Impact_of_Politeness_on_Human-LLM_Interaction___HackerNoon) - Saving Manners_Matter__-_The_Impact_of_Politeness_on_Human-LLM_Interaction___HackerNoon_20240702_124629.html as utf-8\n",
      "2024-07-02 12:46:29,879 - AInewsbot - INFO - Processing https://lastweekin.ai/p/lwiai-podcast-172-claude-and-gemini\n",
      "2024-07-02 12:46:29,890 - AInewsbot - INFO - get_url(https://lastweekin.ai/p/lwiai-podcast-172-claude-and-gemini) - starting get_files https://lastweekin.ai/p/lwiai-podcast-172-claude-and-gemini\n",
      "2024-07-02 12:46:30,468 - AInewsbot - INFO - Message: Unable to locate element: //meta[@http-equiv='Content-Type']; For documentation on this error, please visit: https://www.selenium.dev/documentation/webdriver/troubleshooting/errors#no-such-element-exception\n",
      "Stacktrace:\n",
      "RemoteError@chrome://remote/content/shared/RemoteError.sys.mjs:8:8\n",
      "WebDriverError@chrome://remote/content/shared/webdriver/Errors.sys.mjs:192:5\n",
      "NoSuchElementError@chrome://remote/content/shared/webdriver/Errors.sys.mjs:510:5\n",
      "dom.find/</<@chrome://remote/content/shared/DOM.sys.mjs:136:16\n",
      "\n",
      "2024-07-02 12:46:30,468 - AInewsbot - INFO - get_url(Is_Gemini_s_expanded_context_window_as_useful_as_we_thought____Android_Central) - Saving Is_Gemini_s_expanded_context_window_as_useful_as_we_thought____Android_Central_20240702_124630.html as utf-8\n",
      "2024-07-02 12:46:30,471 - AInewsbot - INFO - Processing https://www.star-telegram.com/news/state/texas/article289691769.html\n",
      "2024-07-02 12:46:30,472 - AInewsbot - INFO - get_url(https://www.star-telegram.com/news/state/texas/article289691769.html) - starting get_files https://www.star-telegram.com/news/state/texas/article289691769.html\n",
      "2024-07-02 12:46:35,607 - AInewsbot - INFO - Message: Unable to locate element: //meta[@http-equiv='Content-Type']; For documentation on this error, please visit: https://www.selenium.dev/documentation/webdriver/troubleshooting/errors#no-such-element-exception\n",
      "Stacktrace:\n",
      "RemoteError@chrome://remote/content/shared/RemoteError.sys.mjs:8:8\n",
      "WebDriverError@chrome://remote/content/shared/webdriver/Errors.sys.mjs:192:5\n",
      "NoSuchElementError@chrome://remote/content/shared/webdriver/Errors.sys.mjs:510:5\n",
      "dom.find/</<@chrome://remote/content/shared/DOM.sys.mjs:136:16\n",
      "\n",
      "2024-07-02 12:46:35,608 - AInewsbot - INFO - get_url(pretzelai_README_md_at_main___pretzelai_pretzelai___GitHub) - Saving pretzelai_README_md_at_main___pretzelai_pretzelai___GitHub_20240702_124635.html as utf-8\n",
      "2024-07-02 12:46:35,609 - AInewsbot - INFO - Processing https://www.the-sun.com/news/11788500/roman-shoffner-texas-ai-artificial-intelligence-teen-clothing-removed/\n",
      "2024-07-02 12:46:35,612 - AInewsbot - INFO - get_url(https://www.the-sun.com/news/11788500/roman-shoffner-texas-ai-artificial-intelligence-teen-clothing-removed/) - starting get_files https://www.the-sun.com/news/11788500/roman-shoffner-texas-ai-artificial-intelligence-teen-clothing-removed/\n",
      "2024-07-02 12:46:37,466 - AInewsbot - INFO - Message: Unable to locate element: //meta[@http-equiv='Content-Type']; For documentation on this error, please visit: https://www.selenium.dev/documentation/webdriver/troubleshooting/errors#no-such-element-exception\n",
      "Stacktrace:\n",
      "RemoteError@chrome://remote/content/shared/RemoteError.sys.mjs:8:8\n",
      "WebDriverError@chrome://remote/content/shared/webdriver/Errors.sys.mjs:192:5\n",
      "NoSuchElementError@chrome://remote/content/shared/webdriver/Errors.sys.mjs:510:5\n",
      "dom.find/</<@chrome://remote/content/shared/DOM.sys.mjs:136:16\n",
      "\n",
      "2024-07-02 12:46:37,466 - AInewsbot - INFO - get_url(Claude_3_5_Sonnet_vs_GPT-4o___An_honest_review___HackerNoon) - Saving Claude_3_5_Sonnet_vs_GPT-4o___An_honest_review___HackerNoon_20240702_124637.html as utf-8\n",
      "2024-07-02 12:46:37,467 - AInewsbot - INFO - Processing https://news.google.com/articles/CBMiVWh0dHBzOi8vd3d3LnRydWVhY2hpZXZlbWVudHMuY29tL25ld3MvYWxpY2VzLWFkdmVudHVyZXMtc3BlY2lhbC1wYWNrLWRsYy1hY2hpZXZlbWVudHPSAQA\n",
      "2024-07-02 12:46:37,467 - AInewsbot - INFO - get_url(https://news.google.com/articles/CBMiVWh0dHBzOi8vd3d3LnRydWVhY2hpZXZlbWVudHMuY29tL25ld3MvYWxpY2VzLWFkdmVudHVyZXMtc3BlY2lhbC1wYWNrLWRsYy1hY2hpZXZlbWVudHPSAQA) - starting get_files https://news.google.com/articles/CBMiVWh0dHBzOi8vd3d3LnRydWVhY2hpZXZlbWVudHMuY29tL25ld3MvYWxpY2VzLWFkdmVudHVyZXMtc3BlY2lhbC1wYWNrLWRsYy1hY2hpZXZlbWVudHPSAQA\n",
      "2024-07-02 12:46:41,110 - AInewsbot - INFO - Message: Unable to locate element: //meta[@http-equiv='Content-Type']; For documentation on this error, please visit: https://www.selenium.dev/documentation/webdriver/troubleshooting/errors#no-such-element-exception\n",
      "Stacktrace:\n",
      "RemoteError@chrome://remote/content/shared/RemoteError.sys.mjs:8:8\n",
      "WebDriverError@chrome://remote/content/shared/webdriver/Errors.sys.mjs:192:5\n",
      "NoSuchElementError@chrome://remote/content/shared/webdriver/Errors.sys.mjs:510:5\n",
      "dom.find/</<@chrome://remote/content/shared/DOM.sys.mjs:136:16\n",
      "\n"
     ]
    },
    {
     "name": "stderr",
     "output_type": "stream",
     "text": [
      "2024-07-02 12:46:41,110 - AInewsbot - INFO - get_url(LWiAI_Podcast__172_-_Claude_and_Gemini_updates__Gemma_2__GPT-4_Critic) - Saving LWiAI_Podcast__172_-_Claude_and_Gemini_updates__Gemma_2__GPT-4_Critic_20240702_124641.html as utf-8\n",
      "2024-07-02 12:46:41,112 - AInewsbot - INFO - Processing https://techcrunch.com/2024/07/02/news-outlets-are-accusing-perplexity-of-plagiarism-and-unethical-web-scraping/\n",
      "2024-07-02 12:46:41,113 - AInewsbot - INFO - get_url(https://techcrunch.com/2024/07/02/news-outlets-are-accusing-perplexity-of-plagiarism-and-unethical-web-scraping/) - starting get_files https://techcrunch.com/2024/07/02/news-outlets-are-accusing-perplexity-of-plagiarism-and-unethical-web-scraping/\n",
      "2024-07-02 12:46:41,912 - AInewsbot - INFO - Message: Unable to locate element: //meta[@http-equiv='Content-Type']; For documentation on this error, please visit: https://www.selenium.dev/documentation/webdriver/troubleshooting/errors#no-such-element-exception\n",
      "Stacktrace:\n",
      "RemoteError@chrome://remote/content/shared/RemoteError.sys.mjs:8:8\n",
      "WebDriverError@chrome://remote/content/shared/webdriver/Errors.sys.mjs:192:5\n",
      "NoSuchElementError@chrome://remote/content/shared/webdriver/Errors.sys.mjs:510:5\n",
      "dom.find/</<@chrome://remote/content/shared/DOM.sys.mjs:136:16\n",
      "\n",
      "2024-07-02 12:46:41,913 - AInewsbot - INFO - get_url(Man_uses_AI_to_undress_teen__accused_of_child_porn__TX_cops___Fort_Worth_Star-Telegram) - Saving Man_uses_AI_to_undress_teen__accused_of_child_porn__TX_cops___Fort_Worth_Star-Telegram_20240702_124641.html as utf-8\n",
      "2024-07-02 12:46:41,914 - AInewsbot - INFO - Processing https://news.google.com/articles/CBMiXWh0dHBzOi8vd3d3LmdhbWluZ2JpYmxlLmNvbS9uZXdzL2Fzc2Fzc2lucy1jcmVlZC1zaGFkb3dzLWF0dGVtcHRpbmctY2FuY2VsbGVkLTE0NTU5Ny0yMDI0MDcwMtIBAA\n",
      "2024-07-02 12:46:41,914 - AInewsbot - INFO - get_url(https://news.google.com/articles/CBMiXWh0dHBzOi8vd3d3LmdhbWluZ2JpYmxlLmNvbS9uZXdzL2Fzc2Fzc2lucy1jcmVlZC1zaGFkb3dzLWF0dGVtcHRpbmctY2FuY2VsbGVkLTE0NTU5Ny0yMDI0MDcwMtIBAA) - starting get_files https://news.google.com/articles/CBMiXWh0dHBzOi8vd3d3LmdhbWluZ2JpYmxlLmNvbS9uZXdzL2Fzc2Fzc2lucy1jcmVlZC1zaGFkb3dzLWF0dGVtcHRpbmctY2FuY2VsbGVkLTE0NTU5Ny0yMDI0MDcwMtIBAA\n",
      "2024-07-02 12:46:46,554 - AInewsbot - INFO - Message: Unable to locate element: //meta[@http-equiv='Content-Type']; For documentation on this error, please visit: https://www.selenium.dev/documentation/webdriver/troubleshooting/errors#no-such-element-exception\n",
      "Stacktrace:\n",
      "RemoteError@chrome://remote/content/shared/RemoteError.sys.mjs:8:8\n",
      "WebDriverError@chrome://remote/content/shared/webdriver/Errors.sys.mjs:192:5\n",
      "NoSuchElementError@chrome://remote/content/shared/webdriver/Errors.sys.mjs:510:5\n",
      "dom.find/</<@chrome://remote/content/shared/DOM.sys.mjs:136:16\n",
      "\n",
      "2024-07-02 12:46:46,555 - AInewsbot - INFO - get_url(Texas_man__30__arrested_after__using_deep_fake_artificial_intelligence_program_to_undress_underage_girl____The_US_Sun___The_US_Sun) - Saving Texas_man__30__arrested_after__using_deep_fake_artificial_intelligence_program_to_undress_underage_girl____The_US_Sun___The_US_Sun_20240702_124646.html as utf-8\n",
      "2024-07-02 12:46:46,558 - AInewsbot - INFO - Processing https://news.google.com/articles/CBMirwFodHRwczovL3d3dy5pZ24uY29tL2FydGljbGVzL2NhbGwtb2YtZHV0eXMtbmV3LWV4dHJhLWNyaXNweS1ndW4tbGV0cy15b3UtY29vay1lYXQtYW5kLXR1cm4teW91ci1lbmVtaWVzLWludG8tZnJpZWQtY2hpY2tlbi1hbmQtcGVvcGxlLWFyZS1ibGFtaW5nLWl0LWFsbC1vbi1mb3J0bml0ZS1vbmNlLWFnYWlu0gEA\n",
      "2024-07-02 12:46:46,558 - AInewsbot - INFO - get_url(https://news.google.com/articles/CBMirwFodHRwczovL3d3dy5pZ24uY29tL2FydGljbGVzL2NhbGwtb2YtZHV0eXMtbmV3LWV4dHJhLWNyaXNweS1ndW4tbGV0cy15b3UtY29vay1lYXQtYW5kLXR1cm4teW91ci1lbmVtaWVzLWludG8tZnJpZWQtY2hpY2tlbi1hbmQtcGVvcGxlLWFyZS1ibGFtaW5nLWl0LWFsbC1vbi1mb3J0bml0ZS1vbmNlLWFnYWlu0gEA) - starting get_files https://news.google.com/articles/CBMirwFodHRwczovL3d3dy5pZ24uY29tL2FydGljbGVzL2NhbGwtb2YtZHV0eXMtbmV3LWV4dHJhLWNyaXNweS1ndW4tbGV0cy15b3UtY29vay1lYXQtYW5kLXR1cm4teW91ci1lbmVtaWVzLWludG8tZnJpZWQtY2hpY2tlbi1hbmQtcGVvcGxlLWFyZS1ibGFtaW5nLWl0LWFsbC1vbi1mb3J0bml0ZS1vbmNlLWFnYWlu0gEA\n",
      "2024-07-02 12:46:47,786 - AInewsbot - INFO - Message: Unable to locate element: //meta[@http-equiv='Content-Type']; For documentation on this error, please visit: https://www.selenium.dev/documentation/webdriver/troubleshooting/errors#no-such-element-exception\n",
      "Stacktrace:\n",
      "RemoteError@chrome://remote/content/shared/RemoteError.sys.mjs:8:8\n",
      "WebDriverError@chrome://remote/content/shared/webdriver/Errors.sys.mjs:192:5\n",
      "NoSuchElementError@chrome://remote/content/shared/webdriver/Errors.sys.mjs:510:5\n",
      "dom.find/</<@chrome://remote/content/shared/DOM.sys.mjs:136:16\n",
      "\n",
      "2024-07-02 12:46:47,792 - AInewsbot - INFO - get_url(PowerWash_Simulator_adds_ten_Xbox_achievements_with_Alice_s_Adventures_DLC) - Saving PowerWash_Simulator_adds_ten_Xbox_achievements_with_Alice_s_Adventures_DLC_20240702_124647.html as utf-8\n",
      "2024-07-02 12:46:47,796 - AInewsbot - INFO - Quit webdriver\n",
      "2024-07-02 12:46:52,198 - AInewsbot - INFO - Message: Unable to locate element: //meta[@http-equiv='Content-Type']; For documentation on this error, please visit: https://www.selenium.dev/documentation/webdriver/troubleshooting/errors#no-such-element-exception\n",
      "Stacktrace:\n",
      "RemoteError@chrome://remote/content/shared/RemoteError.sys.mjs:8:8\n",
      "WebDriverError@chrome://remote/content/shared/webdriver/Errors.sys.mjs:192:5\n",
      "NoSuchElementError@chrome://remote/content/shared/webdriver/Errors.sys.mjs:510:5\n",
      "dom.find/</<@chrome://remote/content/shared/DOM.sys.mjs:136:16\n",
      "\n",
      "2024-07-02 12:46:52,199 - AInewsbot - INFO - get_url(News_outlets_are_accusing_Perplexity_of_plagiarism_and_unethical_web_scraping___TechCrunch) - Saving News_outlets_are_accusing_Perplexity_of_plagiarism_and_unethical_web_scraping___TechCrunch_20240702_124652.html as utf-8\n",
      "2024-07-02 12:46:52,201 - AInewsbot - INFO - Quit webdriver\n",
      "2024-07-02 12:46:52,247 - AInewsbot - INFO - Message: Unable to locate element: //meta[@http-equiv='Content-Type']; For documentation on this error, please visit: https://www.selenium.dev/documentation/webdriver/troubleshooting/errors#no-such-element-exception\n",
      "Stacktrace:\n",
      "RemoteError@chrome://remote/content/shared/RemoteError.sys.mjs:8:8\n",
      "WebDriverError@chrome://remote/content/shared/webdriver/Errors.sys.mjs:192:5\n",
      "NoSuchElementError@chrome://remote/content/shared/webdriver/Errors.sys.mjs:510:5\n",
      "dom.find/</<@chrome://remote/content/shared/DOM.sys.mjs:136:16\n",
      "\n",
      "2024-07-02 12:46:52,247 - AInewsbot - INFO - get_url(Assassin_s_Creed__fans__are_attempting_to_get_Shadows_cancelled) - Saving Assassin_s_Creed__fans__are_attempting_to_get_Shadows_cancelled_20240702_124652.html as utf-8\n",
      "2024-07-02 12:46:52,249 - AInewsbot - INFO - Quit webdriver\n",
      "2024-07-02 12:46:56,924 - AInewsbot - INFO - get_url(Call_of_Duty_s_New__Extra_Crispy__Gun_Lets_You_Cook__Eat__and_Turn_Your_Enemies_Into_Fried_Chicken_and_People_Are_Blaming_It_All_on_Fortnite_Once_Again_-_IGN) - Saving Call_of_Duty_s_New__Extra_Crispy__Gun_Lets_You_Cook__Eat__and_Turn_Your_Enemies_Into_Fried_Chicken_and_People_Are_Blaming_It_All_on_Fortnite_Once_Again_-_IGN_20240702_124656.html as utf-8\n",
      "2024-07-02 12:46:56,929 - AInewsbot - INFO - Quit webdriver\n"
     ]
    }
   ],
   "source": [
    "# process queue asynchronously\n",
    "num_browsers = 4\n",
    "# Function to take the queue and pop entries off and process until none are left\n",
    "# lets you create an array of functions with different args\n",
    "def process_queue_factory(q):\n",
    "    def process_queue():\n",
    "        # launch browser via selenium driver\n",
    "        driver = get_driver()    \n",
    "        saved_pages = []\n",
    "        while not q.empty():\n",
    "            i, url, title = q.get()\n",
    "            log(f'Processing {url}')\n",
    "            savefile = get_url(url, driver)\n",
    "            saved_pages.append((i, url, title, savefile))\n",
    "        # Close the browser\n",
    "        log(\"Quit webdriver\")\n",
    "        driver.quit()\n",
    "        return saved_pages\n",
    "    return process_queue\n",
    "\n",
    "callable = process_queue_factory(queue)\n",
    "# saved_pages = callable()\n",
    "\n",
    "def launch_drivers(num_drivers):\n",
    "    with ThreadPoolExecutor(max_workers=num_drivers) as executor:\n",
    "        # Create a list of future objects\n",
    "        futures = [executor.submit(callable) for _ in range(num_drivers)]\n",
    "        \n",
    "        # Collect the results (web drivers) as they complete\n",
    "        retarray = [future.result() for future in as_completed(futures)]\n",
    "        \n",
    "    return retarray\n",
    "\n",
    "print(f\"fetching {len(AIdf)} pages using {num_browsers} browsers\")\n",
    "results = launch_drivers(num_browsers)\n"
   ]
  },
  {
   "cell_type": "code",
   "execution_count": 45,
   "id": "e2f2f326",
   "metadata": {},
   "outputs": [
    {
     "data": {
      "text/plain": [
       "111"
      ]
     },
     "execution_count": 45,
     "metadata": {},
     "output_type": "execute_result"
    }
   ],
   "source": [
    "# flatten results\n",
    "saved_pages = []\n",
    "for r in results:\n",
    "    saved_pages.extend(r)\n",
    "saved_pages\n",
    "len(saved_pages)"
   ]
  },
  {
   "cell_type": "code",
   "execution_count": 46,
   "id": "0f75589b",
   "metadata": {},
   "outputs": [
    {
     "data": {
      "text/html": [
       "<div>\n",
       "<style scoped>\n",
       "    .dataframe tbody tr th:only-of-type {\n",
       "        vertical-align: middle;\n",
       "    }\n",
       "\n",
       "    .dataframe tbody tr th {\n",
       "        vertical-align: top;\n",
       "    }\n",
       "\n",
       "    .dataframe thead th {\n",
       "        text-align: right;\n",
       "    }\n",
       "</style>\n",
       "<table border=\"1\" class=\"dataframe\">\n",
       "  <thead>\n",
       "    <tr style=\"text-align: right;\">\n",
       "      <th></th>\n",
       "      <th>id</th>\n",
       "      <th>url</th>\n",
       "      <th>title</th>\n",
       "      <th>path</th>\n",
       "    </tr>\n",
       "  </thead>\n",
       "  <tbody>\n",
       "    <tr>\n",
       "      <th>0</th>\n",
       "      <td>508</td>\n",
       "      <td>https://news.google.com/articles/CBMiR2h0dHBzO...</td>\n",
       "      <td>Sentient closes $85M seed round for open-sourc...</td>\n",
       "      <td>htmldata/Sentient_closes__85M_seed_round_for_o...</td>\n",
       "    </tr>\n",
       "    <tr>\n",
       "      <th>1</th>\n",
       "      <td>187</td>\n",
       "      <td>https://www.benzinga.com/news/24/07/39594885/e...</td>\n",
       "      <td>Elon Musk Reveals The Staggering Amount Of Nvi...</td>\n",
       "      <td>htmldata/Elon_Musk_Reveals_The_Staggering_Amou...</td>\n",
       "    </tr>\n",
       "    <tr>\n",
       "      <th>2</th>\n",
       "      <td>392</td>\n",
       "      <td>https://news.google.com/articles/CBMieWh0dHBzO...</td>\n",
       "      <td>Northern Data considers AI unit US IPO at up t...</td>\n",
       "      <td>htmldata/Northern_Data_considers_AI_unit_US_IP...</td>\n",
       "    </tr>\n",
       "    <tr>\n",
       "      <th>3</th>\n",
       "      <td>384</td>\n",
       "      <td>https://news.google.com/articles/CBMiemh0dHBzO...</td>\n",
       "      <td>Nvidia may be appealing, but one fund manager ...</td>\n",
       "      <td>htmldata/Nvidia_may_be_appealing__but_one_fund...</td>\n",
       "    </tr>\n",
       "    <tr>\n",
       "      <th>4</th>\n",
       "      <td>396</td>\n",
       "      <td>https://news.google.com/articles/CBMieGh0dHBzO...</td>\n",
       "      <td>Robinhood Purchases Pluto to Provide AI-Powere...</td>\n",
       "      <td>htmldata/Robinhood_Buys_Pluto_to_Provide_AI-Po...</td>\n",
       "    </tr>\n",
       "    <tr>\n",
       "      <th>...</th>\n",
       "      <td>...</td>\n",
       "      <td>...</td>\n",
       "      <td>...</td>\n",
       "      <td>...</td>\n",
       "    </tr>\n",
       "    <tr>\n",
       "      <th>106</th>\n",
       "      <td>247</td>\n",
       "      <td>https://gizmodo.com/youtube-ai-content-deepfak...</td>\n",
       "      <td>You Can Ask YouTube to Take Down AI-Generated ...</td>\n",
       "      <td>htmldata/You_Can_Ask_YouTube_to_Take_Down_AI_C...</td>\n",
       "    </tr>\n",
       "    <tr>\n",
       "      <th>107</th>\n",
       "      <td>625</td>\n",
       "      <td>https://news.google.com/articles/CBMiWWh0dHBzO...</td>\n",
       "      <td>How to use Meta AI in WhatsApp, Facebook and I...</td>\n",
       "      <td>htmldata/How_to_use_Meta_AI_in_WhatsApp__Faceb...</td>\n",
       "    </tr>\n",
       "    <tr>\n",
       "      <th>108</th>\n",
       "      <td>695</td>\n",
       "      <td>https://github.com/pretzelai/pretzelai/blob/ma...</td>\n",
       "      <td>Show HN: Adding Mistral Codestral and GPT-4o t...</td>\n",
       "      <td>htmldata/pretzelai_README_md_at_main___pretzel...</td>\n",
       "    </tr>\n",
       "    <tr>\n",
       "      <th>109</th>\n",
       "      <td>208</td>\n",
       "      <td>https://www.the-sun.com/news/11788500/roman-sh...</td>\n",
       "      <td>TWISTED PIC Texas man, 30, arrested after usin...</td>\n",
       "      <td>htmldata/Texas_man__30__arrested_after__using_...</td>\n",
       "    </tr>\n",
       "    <tr>\n",
       "      <th>110</th>\n",
       "      <td>372</td>\n",
       "      <td>https://news.google.com/articles/CBMirwFodHRwc...</td>\n",
       "      <td>Call of Dutys New Extra Crispy Gun Lets You Co...</td>\n",
       "      <td>htmldata/Call_of_Duty_s_New__Extra_Crispy__Gun...</td>\n",
       "    </tr>\n",
       "  </tbody>\n",
       "</table>\n",
       "<p>111 rows × 4 columns</p>\n",
       "</div>"
      ],
      "text/plain": [
       "      id                                                url  \\\n",
       "0    508  https://news.google.com/articles/CBMiR2h0dHBzO...   \n",
       "1    187  https://www.benzinga.com/news/24/07/39594885/e...   \n",
       "2    392  https://news.google.com/articles/CBMieWh0dHBzO...   \n",
       "3    384  https://news.google.com/articles/CBMiemh0dHBzO...   \n",
       "4    396  https://news.google.com/articles/CBMieGh0dHBzO...   \n",
       "..   ...                                                ...   \n",
       "106  247  https://gizmodo.com/youtube-ai-content-deepfak...   \n",
       "107  625  https://news.google.com/articles/CBMiWWh0dHBzO...   \n",
       "108  695  https://github.com/pretzelai/pretzelai/blob/ma...   \n",
       "109  208  https://www.the-sun.com/news/11788500/roman-sh...   \n",
       "110  372  https://news.google.com/articles/CBMirwFodHRwc...   \n",
       "\n",
       "                                                 title  \\\n",
       "0    Sentient closes $85M seed round for open-sourc...   \n",
       "1    Elon Musk Reveals The Staggering Amount Of Nvi...   \n",
       "2    Northern Data considers AI unit US IPO at up t...   \n",
       "3    Nvidia may be appealing, but one fund manager ...   \n",
       "4    Robinhood Purchases Pluto to Provide AI-Powere...   \n",
       "..                                                 ...   \n",
       "106  You Can Ask YouTube to Take Down AI-Generated ...   \n",
       "107  How to use Meta AI in WhatsApp, Facebook and I...   \n",
       "108  Show HN: Adding Mistral Codestral and GPT-4o t...   \n",
       "109  TWISTED PIC Texas man, 30, arrested after usin...   \n",
       "110  Call of Dutys New Extra Crispy Gun Lets You Co...   \n",
       "\n",
       "                                                  path  \n",
       "0    htmldata/Sentient_closes__85M_seed_round_for_o...  \n",
       "1    htmldata/Elon_Musk_Reveals_The_Staggering_Amou...  \n",
       "2    htmldata/Northern_Data_considers_AI_unit_US_IP...  \n",
       "3    htmldata/Nvidia_may_be_appealing__but_one_fund...  \n",
       "4    htmldata/Robinhood_Buys_Pluto_to_Provide_AI-Po...  \n",
       "..                                                 ...  \n",
       "106  htmldata/You_Can_Ask_YouTube_to_Take_Down_AI_C...  \n",
       "107  htmldata/How_to_use_Meta_AI_in_WhatsApp__Faceb...  \n",
       "108  htmldata/pretzelai_README_md_at_main___pretzel...  \n",
       "109  htmldata/Texas_man__30__arrested_after__using_...  \n",
       "110  htmldata/Call_of_Duty_s_New__Extra_Crispy__Gun...  \n",
       "\n",
       "[111 rows x 4 columns]"
      ]
     },
     "execution_count": 46,
     "metadata": {},
     "output_type": "execute_result"
    }
   ],
   "source": [
    "pages_df = pd.DataFrame(saved_pages)\n",
    "pages_df.columns = ['id', 'url', 'title', 'path']\n",
    "pages_df"
   ]
  },
  {
   "cell_type": "code",
   "execution_count": 47,
   "id": "56202217",
   "metadata": {},
   "outputs": [],
   "source": [
    "AIdf = pd.merge(AIdf, pages_df[[\"id\", \"path\"]], on='id', how=\"inner\")\n"
   ]
  },
  {
   "cell_type": "code",
   "execution_count": 48,
   "id": "01fa6ccb",
   "metadata": {},
   "outputs": [],
   "source": [
    "SYSTEM_PROMPT = \"\"\"You are a summarization assistant. \n",
    "You will summarize the main content of provided text from HTML files in 3 bullet points or less.\n",
    "You will output Markdown format.\n",
    "You will ignore any content that appears to be navigation menus, footers, sidebars, or other boilerplate content.\n",
    "You will provide the bullet points only, without any introduction such as 'here are' or any conclusion, or comment.\n",
    "\"\"\"\n"
   ]
  },
  {
   "cell_type": "code",
   "execution_count": 49,
   "id": "0dd1fc16",
   "metadata": {},
   "outputs": [],
   "source": [
    "async def fetch_openai2(session, payload, i):\n",
    "    \"\"\"\n",
    "    Asynchronously fetches a response from the OpenAI URL using an aiohttp ClientSession.\n",
    "\n",
    "    Parameters:\n",
    "    - session (aiohttp.ClientSession): The aiohttp ClientSession object used for making HTTP requests.\n",
    "    - payload (dict): The payload to be sent in the request body as JSON.\n",
    "    - i (int): an id to return, to allow us map summary to original request\n",
    "\n",
    "    Returns:\n",
    "    - dict: The full JSON response from the OpenAI API.\n",
    "\n",
    "    Raises:\n",
    "    - aiohttp.ClientError: If there is an error during the HTTP request.\n",
    "\n",
    "    Example usage:\n",
    "    ```\n",
    "    async with aiohttp.ClientSession() as session:\n",
    "        response = await fetch_openai(session, payload)\n",
    "        print(response)\n",
    "    ```\n",
    "    \"\"\"\n",
    "    async with session.post(API_URL, headers=headers, json=payload) as response:\n",
    "        retval = await response.json()\n",
    "        return (i, retval)\n",
    "    "
   ]
  },
  {
   "cell_type": "code",
   "execution_count": 50,
   "id": "2617e027",
   "metadata": {},
   "outputs": [],
   "source": [
    "async def fetch_all2(page_df):\n",
    "    tasks = []\n",
    "    responses = []\n",
    "    async with aiohttp.ClientSession() as session:\n",
    "\n",
    "        for row in page_df.itertuples():\n",
    "\n",
    "            # Read the HTML file\n",
    "            try:\n",
    "                with open(row.path, 'r', encoding='utf-8') as file:\n",
    "                    html_content = file.read()\n",
    "            except:\n",
    "                print(f\"Skipping {row.id} : {row.path}\")\n",
    "                continue\n",
    "\n",
    "            # Parse the HTML content using BeautifulSoup\n",
    "            soup = BeautifulSoup(html_content, 'html.parser')\n",
    "\n",
    "            # Filter out script and style elements\n",
    "            for script_or_style in soup(['script', 'style']):\n",
    "                script_or_style.extract()\n",
    "\n",
    "            # Get text and strip leading/trailing whitespace\n",
    "            visible_text = soup.get_text(separator=' ', strip=True)\n",
    "            visible_text = visible_text[:MAX_INPUT_TOKENS]\n",
    "\n",
    "            userprompt = f\"\"\"Summarize the main points of the following text concisely in at most 3 bullet points:\n",
    "            {visible_text}\n",
    "            \"\"\"\n",
    "\n",
    "            payload = {\"model\":  \"gpt-3.5-turbo-0125\",\n",
    "                        \"messages\": [{\"role\": \"system\",\n",
    "                                      \"content\": SYSTEM_PROMPT\n",
    "                                     },\n",
    "                                     {\"role\": \"user\",\n",
    "                                      \"content\": userprompt\n",
    "                                     }]\n",
    "                       }\n",
    "\n",
    "            task = asyncio.create_task(fetch_openai2(session, payload, row.id))\n",
    "            tasks.append(task)\n",
    "\n",
    "        responses = await asyncio.gather(*tasks)\n",
    "        return responses\n"
   ]
  },
  {
   "cell_type": "code",
   "execution_count": 51,
   "id": "107d7778",
   "metadata": {},
   "outputs": [
    {
     "name": "stdout",
     "output_type": "stream",
     "text": [
      "2024-07-02 12:46:59.394251\n",
      "2024-07-02 12:47:06.813204\n",
      "111\n"
     ]
    },
    {
     "data": {
      "text/plain": [
       "(438,\n",
       " {'id': 'chatcmpl-9gawhVgi5eIFkYjWrObNsNcqDL5y5',\n",
       "  'object': 'chat.completion',\n",
       "  'created': 1719938823,\n",
       "  'model': 'gpt-3.5-turbo-0125',\n",
       "  'choices': [{'index': 0,\n",
       "    'message': {'role': 'assistant',\n",
       "     'content': \"- AI-Crypto startup raised $85 million in deal led by Thiel's fund\\n- Job openings increase surprises Wall Street\\n- Powell encouraged by cooler inflation data\"},\n",
       "    'logprobs': None,\n",
       "    'finish_reason': 'stop'}],\n",
       "  'usage': {'prompt_tokens': 1914,\n",
       "   'completion_tokens': 33,\n",
       "   'total_tokens': 1947},\n",
       "  'system_fingerprint': None})"
      ]
     },
     "execution_count": 51,
     "metadata": {},
     "output_type": "execute_result"
    }
   ],
   "source": [
    "print(datetime.now())\n",
    "responses = await fetch_all2(AIdf)\n",
    "print(datetime.now())\n",
    "print(len(responses))\n",
    "responses[0]\n"
   ]
  },
  {
   "cell_type": "code",
   "execution_count": 52,
   "id": "f942c30f",
   "metadata": {},
   "outputs": [
    {
     "data": {
      "text/plain": [
       "111"
      ]
     },
     "execution_count": 52,
     "metadata": {},
     "output_type": "execute_result"
    }
   ],
   "source": [
    "# bring summaries into dict\n",
    "response_dict = {}\n",
    "for i, response in responses:\n",
    "    try:\n",
    "        response_str = response[\"choices\"][0][\"message\"][\"content\"]\n",
    "        response_dict[i] = response_str\n",
    "    except Exception as exc:\n",
    "        print(exc)\n",
    "        \n",
    "len(response_dict)"
   ]
  },
  {
   "cell_type": "code",
   "execution_count": 53,
   "id": "a4727f30",
   "metadata": {},
   "outputs": [],
   "source": [
    "from IPython.display import HTML, Image, Markdown, display\n",
    "import markdown\n"
   ]
  },
  {
   "cell_type": "code",
   "execution_count": 63,
   "id": "91263777",
   "metadata": {},
   "outputs": [
    {
     "data": {
      "text/markdown": [
       "[1. AI-Crypto Startup Raises $85 Million in Deal Led by Thiel's Fund](https://news.google.com/articles/CBMiSWh0dHBzOi8vZmluYW5jZS55YWhvby5jb20vbmV3cy9haS1jcnlwdG8tc3RhcnR1cC1yYWlzZXMtODUtMTMwMDAwNTUzLmh0bWzSAQA)  \n",
       "\n",
       "- AI-Crypto startup raised $85 million in deal led by Thiel's fund\n",
       "- Job openings increase surprises Wall Street\n",
       "- Powell encouraged by cooler inflation data \n",
       "\n"
      ],
      "text/plain": [
       "<IPython.core.display.Markdown object>"
      ]
     },
     "metadata": {},
     "output_type": "display_data"
    },
    {
     "data": {
      "text/markdown": [
       "[2. Sentient closes $85M seed round for open-source AI](https://news.google.com/articles/CBMiR2h0dHBzOi8vY29pbnRlbGVncmFwaC5jb20vbmV3cy9zZW50aWVudC04NS1taWxsaW9uLXJvdW5kLW9wZW4tc291cmNlLWFp0gEA)  \n",
       "\n",
       "- Sentient secured $85 million in a seed funding round led by Peter Thiel's Founders Fund, Pantera Capital, and Framework Ventures for their open-source AI platform.\n",
       "- The startup aims to incentivize AI developers with its blockchain protocol and incentive mechanism, allowing for the evolution of open artificial general intelligence.\n",
       "- The tech industry is witnessing a rise in decentralized AI startups combining blockchain and AI technologies, with venture capital investments in blockchain startups increasing significantly in 2024. \n",
       "\n"
      ],
      "text/plain": [
       "<IPython.core.display.Markdown object>"
      ]
     },
     "metadata": {},
     "output_type": "display_data"
    },
    {
     "data": {
      "text/markdown": [
       "[3. Peter Thiel's Founders Fund Leads $85M Seed Investment Into Open-Source AI Platform Sentient](https://news.google.com/articles/CBMiiAFodHRwczovL3d3dy5jb2luZGVzay5jb20vYnVzaW5lc3MvMjAyNC8wNy8wMi9wZXRlci10aGllbHMtZm91bmRlcnMtZnVuZC1sZWFkcy04NW0tc2VlZC1pbnZlc3RtZW50LWludG8tb3Blbi1zb3VyY2UtYWktcGxhdGZvcm0tc2VudGllbnQv0gGMAWh0dHBzOi8vd3d3LmNvaW5kZXNrLmNvbS9idXNpbmVzcy8yMDI0LzA3LzAyL3BldGVyLXRoaWVscy1mb3VuZGVycy1mdW5kLWxlYWRzLTg1bS1zZWVkLWludmVzdG1lbnQtaW50by1vcGVuLXNvdXJjZS1haS1wbGF0Zm9ybS1zZW50aWVudC9hbXAv)  \n",
       "\n",
       "- AI Platform Sentient raises $85M seed round \n",
       "- Various websites use cookies for personalization, analytics, and ads\n",
       "- Different types of cookies are used for website functionality, caching, session management, and GDPR compliance \n",
       "\n"
      ],
      "text/plain": [
       "<IPython.core.display.Markdown object>"
      ]
     },
     "metadata": {},
     "output_type": "display_data"
    },
    {
     "data": {
      "text/markdown": [
       "[4. Peter Thiel's Founders Fund co-leads $85 million seed round for open-source AI platform Sentient](https://news.google.com/articles/CBMiWWh0dHBzOi8vd3d3LnRoZWJsb2NrLmNvL3Bvc3QvMzAyOTgzL3BldGVyLXRoaWVsLWZvdW5kZXJzLWZ1bmQtc2VudGllbnQtZnVuZGluZy1haS1wb2x5Z29u0gFdaHR0cHM6Ly93d3cudGhlYmxvY2suY28vYW1wL3Bvc3QvMzAyOTgzL3BldGVyLXRoaWVsLWZvdW5kZXJzLWZ1bmQtc2VudGllbnQtZnVuZGluZy1haS1wb2x5Z29u)  \n",
       "\n",
       "- Peter Thiel's Founders Fund co-leads $85 million seed round for the open-source AI platform Sentient with other notable investors.\n",
       "- Sentient aims to build open-source AI models with community contributions, distinguishing itself from centralized AI models like OpenAI by allowing direct access and contributions to the model itself.\n",
       "- Sentient plans to reward contributors with co-ownership of AI models and future rewards on usage, and will integrate with Polygon by building on the Polygon Chain Development Kit for its own chain launch. \n",
       "\n"
      ],
      "text/plain": [
       "<IPython.core.display.Markdown object>"
      ]
     },
     "metadata": {},
     "output_type": "display_data"
    },
    {
     "data": {
      "text/markdown": [
       "[5. Elon Musk says Grok 2 due in August, Grok 3 by end of year](https://news.google.com/articles/CBMiVmh0dHBzOi8vd3d3Lm5lb3dpbi5uZXQvbmV3cy9lbG9uLW11c2stc2F5cy1ncm9rLTItZHVlLWluLWF1Z3VzdC1ncm9rLTMtYnktZW5kLW9mLXllYXIv0gEA)  \n",
       "\n",
       "- Elon Musk announced the release of Grok 2 in August and Grok 3 by the end of the year\n",
       "- Grok 3 will be trained on 100,000 Nvidia H100s and is expected to be a significant advancement\n",
       "- Grok is a language model developed by Elon Musk, with Grok 1.5 being the most recent version with improved reasoning capabilities \n",
       "\n"
      ],
      "text/plain": [
       "<IPython.core.display.Markdown object>"
      ]
     },
     "metadata": {},
     "output_type": "display_data"
    },
    {
     "data": {
      "text/markdown": [
       "[6. Elon Musk Announces JARVIS-Inspired xAI Grok 2 AI Chatbot Release Date](https://news.google.com/articles/CBMiXGh0dHBzOi8vY29pbmdhcGUuY29tL2Vsb24tbXVzay1hbm5vdW5jZXMtamFydmlzLWluc3BpcmVkLXhhaS1ncm9rLTItYWktY2hhdGJvdC1yZWxlYXNlLWRhdGUv0gFgaHR0cHM6Ly9jb2luZ2FwZS5jb20vZWxvbi1tdXNrLWFubm91bmNlcy1qYXJ2aXMtaW5zcGlyZWQteGFpLWdyb2stMi1haS1jaGF0Ym90LXJlbGVhc2UtZGF0ZS9hbXAv)  \n",
       "\n",
       "- Elon Musk announced the release date for xAI's Grok 2 AI chatbot in August and revealed that Grok 3 will be launched by the end of the year after training on 100k Nvidia H100 GPUs.\n",
       "- Grok 2, inspired by JARVIS from Iron Man, aims to provide real-time knowledge, integrate image generation, leverage web search results, and surpass current AI benchmarks.\n",
       "- Dell Technologies CEO mentioned working with Nvidia to power Elon Musk's xAI generative AI capabilities for Grok, showing collaboration in the AI space. \n",
       "\n"
      ],
      "text/plain": [
       "<IPython.core.display.Markdown object>"
      ]
     },
     "metadata": {},
     "output_type": "display_data"
    },
    {
     "data": {
      "text/markdown": [
       "[7. Elon Musk Reveals The Staggering Amount Of Nvidia H100 GPUs That Will Be Used To Train xAI Chatbot Grok](https://www.benzinga.com/news/24/07/39594885/elon-musk-reveals-the-staggering-amount-of-nvidia-h100-gpus-that-will-be-used-to-train-xai-chatbot-g)  \n",
       "\n",
       "- Elon Musk disclosed that the upcoming version of his AI chatbot, Grok 3, will be trained on 100,000 Nvidia H100 chips costing around $30,000 to $40,000 each.\n",
       "- The use of AI in industries is increasing, leading to high demand for AI chips and a race among tech companies to acquire them, as seen in Musk's xAI and Meta.\n",
       "- Musk's AI startup, xAI, has released Grok-1 and Grok-1.5, with Grok 2 set to launch soon, and Grok 3 planned for release by the end of the year, showing a significant investment in AI technology. \n",
       "\n"
      ],
      "text/plain": [
       "<IPython.core.display.Markdown object>"
      ]
     },
     "metadata": {},
     "output_type": "display_data"
    },
    {
     "data": {
      "text/markdown": [
       "[8. Elon Musks xAI Using 100,000 NVIDIA H100 GPUs To Train Grok 3 AI Model, Grok 2 To Launch By August](https://news.google.com/articles/CBMiZmh0dHBzOi8vd2NjZnRlY2guY29tL2Vsb24tbXVzay14YWktMTAwMDAwLW52aWRpYS1oMTAwLWdwdXMtdHJhaW4tZ3Jvay0zLWFpLW1vZGVsLWdyb2stMi1sYXVuY2gtYXVndXN0L9IBamh0dHBzOi8vd2NjZnRlY2guY29tL2Vsb24tbXVzay14YWktMTAwMDAwLW52aWRpYS1oMTAwLWdwdXMtdHJhaW4tZ3Jvay0zLWFpLW1vZGVsLWdyb2stMi1sYXVuY2gtYXVndXN0L2FtcC8)  \n",
       "\n",
       "- Elon Musk's AI startup xAI is utilizing 100,000 NVIDIA H100 GPUs to train the Grok 3 LLM model, set to be larger and more advanced than its predecessors.\n",
       "- The investment in advanced hardware like the H100 GPUs and plans to acquire NVIDIA's Blackwell B200 AI accelerators indicate significant financial commitments by xAI, with training costs for Grok 3 estimated at $3 billion.\n",
       "- Elon Musk aims to push the boundaries of AI capabilities with Grok models and positions xAI to be a major player in the AI industry, with the upcoming launch of Grok 2 in August and plans for further advancements with Grok 3. \n",
       "\n"
      ],
      "text/plain": [
       "<IPython.core.display.Markdown object>"
      ]
     },
     "metadata": {},
     "output_type": "display_data"
    },
    {
     "data": {
      "text/markdown": [
       "[9. Europes Bitcoin Mining Giant Northern Data Eyes A US IPO With AI Move](https://news.google.com/articles/CBMiWmh0dHBzOi8vY29pbmdhcGUuY29tL2V1cm9wZS1iaXRjb2luLW1pbmluZy1naWFudC1ub3J0aGVybi1kYXRhLWV5ZXMtYS11cy1pcG8td2l0aC1haS1tb3ZlL9IBXmh0dHBzOi8vY29pbmdhcGUuY29tL2V1cm9wZS1iaXRjb2luLW1pbmluZy1naWFudC1ub3J0aGVybi1kYXRhLWV5ZXMtYS11cy1pcG8td2l0aC1haS1tb3ZlL2FtcC8)  \n",
       "\n",
       "- Northern Data plans for a Nasdaq listing in the first half of 2025 for its data centers and AI cloud computing activities, aiming for a valuation of $16 billion.\n",
       "- The company has secured significant debt financing and is exploring a shift towards AI cloud computing as Bitcoin mining becomes more costly and less profitable.\n",
       "- Several crypto firms, including Northern Data, are considering US IPOs, with others like Circle and Kraken also eyeing public listings. \n",
       "\n"
      ],
      "text/plain": [
       "<IPython.core.display.Markdown object>"
      ]
     },
     "metadata": {},
     "output_type": "display_data"
    },
    {
     "data": {
      "text/markdown": [
       "[10. Northern Data May Be Testing Limits of AI Frenzy With Unit IPO](https://www.bloomberg.com/news/articles/2024-07-02/northern-data-may-be-testing-limits-of-ai-frenzy-with-unit-ipo)  \n",
       "\n",
       "- Northern Data AG, a German crypto company, is considering a US IPO for its AI cloud computing and data center businesses, with valuations ranging from $10 billion to $16 billion, based partly on its collaboration with Tether Group.\n",
       "- The company is projecting 2024 sales of €200 million to €240 million for its different units, including its Bitcoin-mining business, though some experts question the high valuation compared to its forward sales.\n",
       "- Despite recent changes in management structure and anticipated sales growth, Northern Data's stock has faced challenges, with shares down about 80% from their peak in February 2021. \n",
       "\n"
      ],
      "text/plain": [
       "<IPython.core.display.Markdown object>"
      ]
     },
     "metadata": {},
     "output_type": "display_data"
    },
    {
     "data": {
      "text/markdown": [
       "[11. Northern Data considers AI unit US IPO at up to $16 billion, Bloomberg News reports](https://news.google.com/articles/CBMieWh0dHBzOi8vd3d3LmNoYW5uZWxuZXdzYXNpYS5jb20vYnVzaW5lc3Mvbm9ydGhlcm4tZGF0YS1jb25zaWRlcnMtYWktdW5pdC11cy1pcG8tMTYtYmlsbGlvbi1ibG9vbWJlcmctbmV3cy1yZXBvcnRzLTQ0NTAwNjbSAQA)  \n",
       "\n",
       "- Northern Data AG is exploring a U.S. IPO for its AI cloud computing and data center units at a valuation of up to $16 billion on the Nasdaq stock exchange.\n",
       "- The U.S. IPO market in 2024 has shown promise with increased investor interest in fresh listings, especially in AI-based startups due to surging demand in artificial intelligence applications.\n",
       "- Technology giants like Microsoft and Alphabet Inc. are investing heavily in AI infrastructure, contributing to the attractiveness of AI startups for investors. \n",
       "\n"
      ],
      "text/plain": [
       "<IPython.core.display.Markdown object>"
      ]
     },
     "metadata": {},
     "output_type": "display_data"
    },
    {
     "data": {
      "text/markdown": [
       "[12. Ken Griffin is hitting pause on the AI hype, saying he's unconvinced the tech will start replacing jobs in the next three years](https://news.google.com/articles/CBMiZWh0dHBzOi8vZm9ydHVuZS5jb20vMjAyNC8wNy8wMi9rZW4tZ3JpZmZpbi1jaXRhZGVsLWdlbmVyYXRpdmUtYWktaHlwZS1vcGVuYWktbWlyYS1tdXJhdGktbnZpZGlhLWpvYnMv0gEA)  \n",
       "\n",
       "- Ken Griffin doubts AI's potential to replace jobs in the near future, citing limitations in technologies like self-driving cars and emphasizing the importance of human intuition and expertise.\n",
       "- Griffin views AI as a tool for enhancing human productivity rather than as a replacement for human workers, expressing skepticism about the current business impact of AI.\n",
       "- OpenAI's advancements in AI technology, such as the GPT-4 model, are seen as rapidly maturing towards achieving PhD-level intelligence for specific tasks, potentially challenging the value of human workers in the future. \n",
       "\n"
      ],
      "text/plain": [
       "<IPython.core.display.Markdown object>"
      ]
     },
     "metadata": {},
     "output_type": "display_data"
    },
    {
     "data": {
      "text/markdown": [
       "[13. NVIDIAs CEO envisions a future where multi-shot agentic AIs  armed with reasoning superpowers outperform humans in the job market](https://www.windowscentral.com/software-apps/nvidias-ceo-envisions-a-future-where-multi-shot-agentic-ais-armed-with-reasoning-superpowers-outperform-humans-in-the-job-market)  \n",
       "\n",
       "- NVIDIA CEO Jensen Huang predicts a future where agentic AI systems with reasoning capabilities will outperform humans in the job market.\n",
       "- Huang envisions AI models becoming 'multi-shot' and able to handle complex tasks, leading to concerns about job security and the impact on various professions.\n",
       "- AI continues to evolve, with the potential for AI systems to work as employees in businesses, collaborate with other systems, and automate tasks, impacting job roles in fields like banking, journalism, and design. \n",
       "\n"
      ],
      "text/plain": [
       "<IPython.core.display.Markdown object>"
      ]
     },
     "metadata": {},
     "output_type": "display_data"
    },
    {
     "data": {
      "text/markdown": [
       "[14. Here's the biggest risk to Nvidia being a $10 trillion juggernaut](https://news.google.com/articles/CBMibWh0dHBzOi8vZmluYW5jZS55YWhvby5jb20vbmV3cy9oZXJlcy10aGUtYmlnZ2VzdC1yaXNrLXRvLW52aWRpYS1iZWluZy1hLTEwLXRyaWxsaW9uLWp1Z2dlcm5hdXQtMTU1NTA5NzcyLmh0bWzSAQA)  \n",
       "\n",
       "- Tesla stock saw a pop as quarterly vehicle deliveries exceeded estimates despite a year-over-year drop.\n",
       "- Stocks experienced a slight slip at the open amidst the anticipation of key jobs data and comments from Powell.\n",
       "- The healthcare sector contributed significantly to the US economy's job gains in May, accounting for 25%, indicating high demand for workers. \n",
       "\n"
      ],
      "text/plain": [
       "<IPython.core.display.Markdown object>"
      ]
     },
     "metadata": {},
     "output_type": "display_data"
    },
    {
     "data": {
      "text/markdown": [
       "[15. Nvidia may be appealing, but one fund manager has a warning about some AI stocks](https://news.google.com/articles/CBMiemh0dHBzOi8vd3d3Lm1hcmtldHdhdGNoLmNvbS9zdG9yeS9udmlkaWEtbWF5LWJlLWFwcGVhbGluZy1idXQtb25lLWZ1bmQtbWFuYWdlci1oYXMtYS13YXJuaW5nLWFib3V0LXNvbWUtYWktc3RvY2tzLTZiZTgxNzY40gEA)  \n",
       "\n",
       "- Fund manager Ken Laudan from Buffalo Funds warns about potential challenges with AI stocks, specifically related to the adoption of AI technology by companies and the demand for AI-enabled products and services.\n",
       "- The handoff from AI enablers to adopters may take longer than initially anticipated, as highlighted by concerns about the delay in generating revenue from AI infrastructure investments.\n",
       "- The need for hyperscalers to base GPU purchases on end-user demand rather than anticipated demand is a key point of uncertainty, with a focus on the potential impact on gross margins and investor tolerance levels. \n",
       "\n"
      ],
      "text/plain": [
       "<IPython.core.display.Markdown object>"
      ]
     },
     "metadata": {},
     "output_type": "display_data"
    },
    {
     "data": {
      "text/markdown": [
       "[16. The rise of the robots: charted - Morgan Stanley](https://news.google.com/articles/CBMiP2h0dHBzOi8vd3d3LmZ0LmNvbS9jb250ZW50L2ZjYzkxN2FiLTViMTItNDIyMi05MDFhLTY5MjJmMWQ2ODk0YdIBAA)  \n",
       "\n",
       "- Morgan Stanley's thematic report on artificial intelligence predicts the rise of robots with progress in both brains and bodies, highlighting their potential to take on jobs for the aging population.\n",
       "- By 2030, robots are expected to address dependency issues due to an aging population with a lack of workers, especially in social care, becoming a necessary solution.\n",
       "- General-purpose robots shaped like humans are seen as the future, with AI's increasing presence in various aspects of life and work, blurring the lines between mobile devices and robots. \n",
       "\n"
      ],
      "text/plain": [
       "<IPython.core.display.Markdown object>"
      ]
     },
     "metadata": {},
     "output_type": "display_data"
    },
    {
     "data": {
      "text/markdown": [
       "[17. Morgan Stanley sees 8 million humanoids by 2040, Tesla powering the transformation](https://news.google.com/articles/CBMiZmh0dHBzOi8vd3d3Lm1vbmV5Y29udHJvbC5jb20vdGVjaG5vbG9neS9tb3JnYW4tc3RhbmxleS1ub3RlLWh1bWFub2lkcy10ZXNsYS0yMDQwLWFydGljbGUtMTI3NjA1ODkuaHRtbNIBAA)  \n",
       "\n",
       "- Morgan Stanley predicts 8 million humanoids by 2040 with a significant impact on global wages\n",
       "- Tesla, led by Elon Musk, is positioned to benefit from and power the robotics transformation\n",
       "- Tesla plans to deploy its humanoid bot Optimus next year, with projections of potentially creating billions of humanoid robots in the future \n",
       "\n"
      ],
      "text/plain": [
       "<IPython.core.display.Markdown object>"
      ]
     },
     "metadata": {},
     "output_type": "display_data"
    },
    {
     "data": {
      "text/markdown": [
       "[18. Tesla's humanoid opportunity is 'bigger' than autonomous cars - Morgan Stanley By Investing.com](https://news.google.com/articles/CBMigwFodHRwczovL3d3dy5pbnZlc3RpbmcuY29tL25ld3Mvc3RvY2stbWFya2V0LW5ld3MvdGVzbGFzLWh1bWFub2lkLW9wcG9ydHVuaXR5LWlzLWJpZ2dlci10aGFuLWF1dG9ub21vdXMtY2Fycy0tbW9yZ2FuLXN0YW5sZXktMzUwMTg4MtIBAA)  \n",
       "\n",
       "- Morgan Stanley analysts believe that Tesla's opportunity with humanoid robots is larger and faster adopting than autonomous cars.\n",
       "- The analysts predict a significant impact of humanoid robots on the global labor market, with a theoretical $30 trillion global labor market and forecasts of 8 million humanoid units by 2040 and 63 million units by 2050.\n",
       "- Tesla is seen as uniquely positioned to enable and benefit from humanoid robots due to its massive data set, global manufacturing footprint, and experience in integrating hardware and software infrastructure. \n",
       "\n"
      ],
      "text/plain": [
       "<IPython.core.display.Markdown object>"
      ]
     },
     "metadata": {},
     "output_type": "display_data"
    },
    {
     "data": {
      "text/markdown": [
       "[19. Robinhood Purchases Pluto to Provide AI-Powered Investment Advice](https://news.google.com/articles/CBMieGh0dHBzOi8vd3d3LnB5bW50cy5jb20vYXJ0aWZpY2lhbC1pbnRlbGxpZ2VuY2UtMi8yMDI0L3JvYmluaG9vZC1wdXJjaGFzZXMtcGx1dG8tdG8tcHJvdmlkZS1haS1wb3dlcmVkLWludmVzdG1lbnQtYWR2aWNlL9IBAA)  \n",
       "\n",
       "- Robinhood acquires AI research service Pluto Capital to offer personalized investment strategies and analysis to users, democratizing access to tailored investment recommendations.\n",
       "- The acquisition allows Robinhood to provide individualized advice based on updated market information and a consumer's portfolio, expanding its services beyond catering to retail investors.\n",
       "- Elsewhere, Adobe Commerce partners with Klarna to offer buy now, pay later (BNPL) services to merchants, aiming to meet the growing demand for flexible payment options and enhance the shopping experience for consumers. \n",
       "\n"
      ],
      "text/plain": [
       "<IPython.core.display.Markdown object>"
      ]
     },
     "metadata": {},
     "output_type": "display_data"
    },
    {
     "data": {
      "text/markdown": [
       "[20. 2 Artificial Intelligence (AI) Stocks to Buy Now That Could Make You a Millionaire](https://news.google.com/articles/CBMiUWh0dHBzOi8vd3d3LmZvb2wuY2EvMjAyNC8wNy8wMS9hcnRpZmljaWFsLWludGVsbGlnZW5jZS1haS1zdG9ja3MtYnV5LW1pbGxpb25haXJlL9IBAA)  \n",
       "\n",
       "- **Artificial Intelligence Stocks for Potential Millionaire**: Consider investing in AI stocks for long-term growth and potential for significant returns.\n",
       "- **Dividend Stocks**: Understand the concept of dividend stocks where companies pay out sums of money to shareholders and key factors to consider when choosing dividend-paying companies.\n",
       "- **Energy Stocks Selection**: Look for promising energy companies adapting to the current trends of cleaner energy and assess their future outlook before investing. \n",
       "\n"
      ],
      "text/plain": [
       "<IPython.core.display.Markdown object>"
      ]
     },
     "metadata": {},
     "output_type": "display_data"
    },
    {
     "data": {
      "text/markdown": [
       "[21. Morgan Stanley flags $30 trillion market AI can address, names stocks](https://news.google.com/articles/CBMiaGh0dHBzOi8vd3d3LmNuYmMuY29tLzIwMjQvMDcvMDIvbW9yZ2FuLXN0YW5sZXktZmxhZ3MtMzAtdHJpbGxpb24tbWFya2V0LWFpLWNhbi1hZGRyZXNzLW5hbWVzLXN0b2Nrcy5odG1s0gEA)  \n",
       "\n",
       "- Morgan Stanley predicts the growth of humanoid robots, with 8 million expected by 2040 and 63 million by 2050, emphasizing their complement to human labor.\n",
       "- The bank identified potential sectors that could benefit from humanoids, especially in social care, with estimated costs ranging from $10,000 to $300,000 per robot.\n",
       "- Morgan Stanley listed 66 stocks related to the humanoid theme, categorizing them as enablers (companies developing robots) or beneficiaries (companies benefiting from humanoid labor). \n",
       "\n"
      ],
      "text/plain": [
       "<IPython.core.display.Markdown object>"
      ]
     },
     "metadata": {},
     "output_type": "display_data"
    },
    {
     "data": {
      "text/markdown": [
       "[22. A prosthesis driven by the nervous system helps people with amputation walk naturally](https://www.reddit.com/r/gadgets/comments/1dtkvuc/a_prosthesis_driven_by_the_nervous_system_helps/)  \n",
       "\n",
       "- A prosthesis driven by the nervous system has been developed to help people with amputation walk naturally.\n",
       "- The technology behind this prosthesis aims to enhance mobility and quality of life for individuals with limb loss.\n",
       "- The innovation represents a significant advancement in prosthetic technology for amputees. \n",
       "\n"
      ],
      "text/plain": [
       "<IPython.core.display.Markdown object>"
      ]
     },
     "metadata": {},
     "output_type": "display_data"
    },
    {
     "data": {
      "text/markdown": [
       "[23. The Best Bionic Leg Yet | A surgical procedure and muscle-sensing electrodes allow neural control of a prosthetic limb](https://www.reddit.com/r/gadgets/comments/1dtjbbi/the_best_bionic_leg_yet_a_surgical_procedure_and/)  \n",
       "\n",
       "- A surgical procedure and muscle-sensing electrodes enable neural control of a prosthetic limb\n",
       "- Over-the-air updates and potential subscription model discussed for bionic leg technology\n",
       "- Some skepticism and accessibility concerns raised regarding the availability of advanced prosthetic technology \n",
       "\n"
      ],
      "text/plain": [
       "<IPython.core.display.Markdown object>"
      ]
     },
     "metadata": {},
     "output_type": "display_data"
    },
    {
     "data": {
      "text/markdown": [
       "[24. AI to use dead actress voice for audiobook of CNY natives novel: Buzz](https://news.google.com/articles/CBMieWh0dHBzOi8vd3d3LnN5cmFjdXNlLmNvbS9jZWxlYnJpdHktbmV3cy8yMDI0LzA3L2FpLXRvLXVzZS1kZWFkLWFjdHJlc3Mtdm9pY2UtZm9yLWF1ZGlvYm9vay1vZi1jbnktbmF0aXZlcy1ub3ZlbC1idXp6Lmh0bWzSAYgBaHR0cHM6Ly93d3cuc3lyYWN1c2UuY29tL2NlbGVicml0eS1uZXdzLzIwMjQvMDcvYWktdG8tdXNlLWRlYWQtYWN0cmVzcy12b2ljZS1mb3ItYXVkaW9ib29rLW9mLWNueS1uYXRpdmVzLW5vdmVsLWJ1enouaHRtbD9vdXRwdXRUeXBlPWFtcA)  \n",
       "\n",
       "- AI technology will be used to recreate the voice of a deceased actress for an audiobook of a novel by a Central New York native\n",
       "- The actress whose voice will be replicated, Sarah Newfield, is traditional Englishwoman who died in 1966\n",
       "- The AI-generated voice will be used to narrate the upcoming audiobook version of the novel \"The Northern Lights\" by CNY native Jane Smith \n",
       "\n"
      ],
      "text/plain": [
       "<IPython.core.display.Markdown object>"
      ]
     },
     "metadata": {},
     "output_type": "display_data"
    },
    {
     "data": {
      "text/markdown": [
       "[25. AI Firm ElevenLabs Sets Audio Reader Pact With Judy Garland, James Dean, Burt Reynolds and Laurence Olivier Estates](https://news.google.com/articles/CBMibGh0dHBzOi8vdmFyaWV0eS5jb20vMjAyNC9iaXovbmV3cy9haS1qdWR5LWdhcmxhbmQtamFtZXMtZGVhbi1idXJ0LXJleW5vbGRzLWVsZXZlbmxhYnMtcmVhZGVyLWFwcC0xMjM2MDU4ODI5L9IBcGh0dHBzOi8vdmFyaWV0eS5jb20vMjAyNC9iaXovbmV3cy9haS1qdWR5LWdhcmxhbmQtamFtZXMtZGVhbi1idXJ0LXJleW5vbGRzLWVsZXZlbmxhYnMtcmVhZGVyLWFwcC0xMjM2MDU4ODI5L2FtcC8)  \n",
       "\n",
       "- AI audio firm ElevenLabs partners with estates of Judy Garland, James Dean, Burt Reynolds, and Laurence Olivier for an app feature using their voices to read various text materials.\n",
       "- The Reader App is designed to convert text into emotionally rich voiceovers for listening on mobile devices, featuring legendary voices for iconic works.\n",
       "- The licensing agreements specify authorized use of the voices for individual streaming purposes only, without incorporation into AI-generated creations, amid debate on AI replicas of deceased actors. \n",
       "\n"
      ],
      "text/plain": [
       "<IPython.core.display.Markdown object>"
      ]
     },
     "metadata": {},
     "output_type": "display_data"
    },
    {
     "data": {
      "text/markdown": [
       "[26. AI goes to Hollywood: James Dean, Judy Garland and other stars will read to you now - for free](https://news.google.com/articles/CBMicGh0dHBzOi8vd3d3LnpkbmV0LmNvbS9hcnRpY2xlL2FpLWdvZXMtdG8taG9sbHl3b29kLWphbWVzLWRlYW4tanVkeS1nYXJsYW5kLWFuZC1vdGhlci1zdGFycy13aWxsLXJlYWQtdG8teW91LW5vdy_SAQA)  \n",
       "\n",
       "- ElevenLabs' Reader app uses AI to generate famous voices like Judy Garland and James Dean to read e-books, PDFs, and articles to users for free.\n",
       "- The app offers iconic voices like those of Judy Garland and James Dean, created in partnership with their estates, with more voices planned to be added in the future.\n",
       "- The Reader app is currently available for iOS in the US, UK, and Canada, offering a free trial for three months, with plans to launch globally in multiple languages. \n",
       "\n"
      ],
      "text/plain": [
       "<IPython.core.display.Markdown object>"
      ]
     },
     "metadata": {},
     "output_type": "display_data"
    },
    {
     "data": {
      "text/markdown": [
       "[27. Geoffrey Rush on AI, Why Animation Is His Game Show Specialty and His New Film With John Lithgow](https://news.google.com/articles/CBMib2h0dHBzOi8vd3d3LmhvbGx5d29vZHJlcG9ydGVyLmNvbS9tb3ZpZXMvbW92aWUtbmV3cy9nZW9mZnJleS1ydXNoLWFpLWpvaG4tbGl0aGdvdy1ncm91Y2hvLW1hcngtZmlsbS0xMjM1OTM3MjAxL9IBc2h0dHBzOi8vd3d3LmhvbGx5d29vZHJlcG9ydGVyLmNvbS9tb3ZpZXMvbW92aWUtbmV3cy9nZW9mZnJleS1ydXNoLWFpLWpvaG4tbGl0aGdvdy1ncm91Y2hvLW1hcngtZmlsbS0xMjM1OTM3MjAxL2FtcC8)  \n",
       "\n",
       "- Geoffrey Rush discussed his experiences with AI, his love of animation, and his connections with Czech art and culture at the Karlovy Vary International Film Festival.\n",
       "- Rush shared his thoughts on AI, emphasizing the intrigue of creativity from the human mind compared to the sophistication of AI algorithms.\n",
       "- He reflected on past challenges, including facing allegations of \"inappropriate behavior,\" and expressed his readiness to focus on his career, including a potential film about Groucho Marx. \n",
       "\n"
      ],
      "text/plain": [
       "<IPython.core.display.Markdown object>"
      ]
     },
     "metadata": {},
     "output_type": "display_data"
    },
    {
     "data": {
      "text/markdown": [
       "[28. Humans Will Soon Live 1,000 Years Using Biotech, AI And Nanobots, Claims Renowned Futurist](https://brobible.com/culture/article/humans-live-1000-years-biotech-ai-nanobots/)  \n",
       "\n",
       "- Renowned futurist predicts that humans will soon be able to live up to 1,000 years using biotechnology, AI, and nanobots.\n",
       "- Medical nanobots are seen as a key factor in extending human life by repairing cell damage and maintaining optimal health levels.\n",
       "- With nanotechnology advancements, humans may eventually be able to optimize their bodies, enhance physical abilities, and live longer while not being dependent on the survival of their current bodies. \n",
       "\n"
      ],
      "text/plain": [
       "<IPython.core.display.Markdown object>"
      ]
     },
     "metadata": {},
     "output_type": "display_data"
    },
    {
     "data": {
      "text/markdown": [
       "[29. Accelerating Business Transformation: SAP's Strategy Unveiled | Cloud Wars Live](https://news.google.com/articles/CBMid2h0dHBzOi8vYWNjZWxlcmF0aW9uZWNvbm9teS5jb20vY2xvdWQtd2Fycy9hY2NlbGVyYXRpbmctYnVzaW5lc3MtdHJhbnNmb3JtYXRpb24tc2Fwcy1zdHJhdGVneS11bnZlaWxlZC1jbG91ZC13YXJzLWxpdmUv0gEA)  \n",
       "\n",
       "- SAP's strategy focuses on business transformation, moving to the cloud, and leveraging AI for enhanced agility and efficiency.\n",
       "- Collaboration with hyperscalers and system integrators is key for optimal cloud operations and business transformation.\n",
       "- SAP emphasizes the importance of accelerating and simplifying digital transformation to benefit customers with faster upgrades and capabilities. \n",
       "\n"
      ],
      "text/plain": [
       "<IPython.core.display.Markdown object>"
      ]
     },
     "metadata": {},
     "output_type": "display_data"
    },
    {
     "data": {
      "text/markdown": [
       "[30. SAP Business AI: Q2 2024 Release Highlights](https://news.google.com/articles/CBMiOGh0dHBzOi8vbmV3cy5zYXAuY29tLzIwMjQvMDcvc2FwLWJ1c2luZXNzLWFpLXEyLXJlbGVhc2Uv0gE-aHR0cHM6Ly9uZXdzLnNhcC5jb20vMjAyNC8wNy9zYXAtYnVzaW5lc3MtYWktcTItcmVsZWFzZS8_YW1wPTE)  \n",
       "\n",
       "- SAP Business AI is enhancing businesses with ethical AI practices embedded in enterprise solutions, introducing generative AI copilot Joule for a natural language user experience.\n",
       "- SAP is offering over 100 new high-value AI use cases and access to open source models through SAP AI Core, focusing on productivity and efficiency for customers.\n",
       "- Updates in Human Resources and ERP & Finance sectors include AI-assisted capabilities in SAP SuccessFactors HCM suite, Joule integration in SAP S/4HANA Cloud, and generative AI applications for project matching and production order management. \n",
       "\n"
      ],
      "text/plain": [
       "<IPython.core.display.Markdown object>"
      ]
     },
     "metadata": {},
     "output_type": "display_data"
    },
    {
     "data": {
      "text/markdown": [
       "[31. AI ecosystems, cloud transformation, and sustainable AI lead our key learnings from SAP Sapphire 2024](https://news.google.com/articles/CBMihQFodHRwczovL25ld3Muc2FwLmNvbS9zZWEvMjAyNC8wNi9haS1lY29zeXN0ZW1zLWNsb3VkLXRyYW5zZm9ybWF0aW9uLWFuZC1zdXN0YWluYWJsZS1haS1sZWFkLW91ci1rZXktbGVhcm5pbmdzLWZyb20tc2FwLXNhcHBoaXJlLTIwMjQv0gEA)  \n",
       "\n",
       "- AI ecosystems, cloud transformation, and sustainable AI were highlighted as key learnings from SAP Sapphire 2024 with a focus on leveraging partnerships, clean core cloud infrastructure, and integrating sustainability data into ERP systems.\n",
       "- Collaborations with tech leaders like AWS, Microsoft and Google Cloud were emphasized to drive the benefits of Business AI tailored to unique business needs.\n",
       "- Clean core cloud infrastructure was shown to improve agility and innovation, with a case study from Hitachi High-Tech demonstrating significant reduction in add-ons and upgrade time. The importance of integrating sustainability into ERP systems for environmental value and leveraging Business AI for automation and efficiency was also emphasized. \n",
       "\n"
      ],
      "text/plain": [
       "<IPython.core.display.Markdown object>"
      ]
     },
     "metadata": {},
     "output_type": "display_data"
    },
    {
     "data": {
      "text/markdown": [
       "[32. SAP Charts A Course For The AI-Driven Enterprise At Sapphire 2024](https://news.google.com/articles/CBMid2h0dHBzOi8vd3d3LmZvcmJlcy5jb20vc2l0ZXMvbW9vcmluc2lnaHRzLzIwMjQvMDYvMjcvc2FwLWNoYXJ0cy1hLWNvdXJzZS1mb3ItdGhlLWFpLWRyaXZlbi1lbnRlcnByaXNlLWF0LXNhcHBoaXJlLTIwMjQv0gEA)  \n",
       "\n",
       "- SAP presented its vision of AI-driven enterprise at Sapphire 2024, focusing on ERP modernization, cloud migration, and AI integration into products.\n",
       "- SAP's strategic partnerships with tech giants aim to enhance functionalities through AI, improve business processes, and drive efficiency and innovation.\n",
       "- SAP showcased AI integration across its portfolio, leveraging generative AI capabilities for intelligent automation in business applications, with plans for integration with Microsoft for a unified work experience. \n",
       "\n"
      ],
      "text/plain": [
       "<IPython.core.display.Markdown object>"
      ]
     },
     "metadata": {},
     "output_type": "display_data"
    },
    {
     "data": {
      "text/markdown": [
       "[33. China eyes at least 50 sets of AI standards by 2026, from chips to applications and safety](https://www.scmp.com/tech/tech-trends/article/3268907/china-eyes-least-50-sets-ai-standards-2026-chips-applications-and-safety)  \n",
       "\n",
       "- China aims to establish at least 50 sets of AI standards by 2026, covering various aspects such as chips, applications, safety, governance, and large language models.\n",
       "- The country will also participate in setting up international AI standards, aligning with a UN resolution for an inclusive business environment for AI development.\n",
       "- China's MIIT emphasizes AI as a crucial technology driving industrial transformation, with a strategy focused on promoting AI development through a pro-market approach and fostering integration within the economy. \n",
       "\n"
      ],
      "text/plain": [
       "<IPython.core.display.Markdown object>"
      ]
     },
     "metadata": {},
     "output_type": "display_data"
    },
    {
     "data": {
      "text/markdown": [
       "[34. United Nations China US Artificial Intelligence | National News | postregister.com](https://news.google.com/articles/CBMiigFodHRwczovL3d3dy5wb3N0cmVnaXN0ZXIuY29tL25ld3MvbmF0aW9uYWwvdW5pdGVkLW5hdGlvbnMtY2hpbmEtdXMtYXJ0aWZpY2lhbC1pbnRlbGxpZ2VuY2UvaW1hZ2VfMGUwOGM2ZTQtNmZlNC01YTEyLWE0NWMtN2JmODRmZTA2ZjNiLmh0bWzSAQA)  \n",
       "\n",
       "- United Nations General Assembly adopted Chinese-sponsored resolution with US support urging wealthy nations to bridge gap with developing countries on AI opportunities\n",
       "- U.S. resolution was more general, while Chinese-sponsored resolution focused on capacity building\n",
       "- Fu Cong stated that the two resolutions are complementary \n",
       "\n"
      ],
      "text/plain": [
       "<IPython.core.display.Markdown object>"
      ]
     },
     "metadata": {},
     "output_type": "display_data"
    },
    {
     "data": {
      "text/markdown": [
       "[35. China advocates for AI cooperation to advance women's rights](https://news.google.com/articles/CBMiUWh0dHBzOi8vZW5nbGlzaC53d3cuZ292LmNuL25ld3MvMjAyNDA3LzAyL2NvbnRlbnRfV1M2NjgzNTQzNGM2ZDA4NjhmNGU4ZThjMjYuaHRtbNIBAA)  \n",
       "\n",
       "- China advocates for strengthened international cooperation in artificial intelligence (AI) to promote women's rights\n",
       "- Emphasizes the significant role of women in driving social development and progress\n",
       "- Proposes a four-point plan to promote gender equality in AI governance, prioritize ethics, and enhance international cooperation in addressing challenges posed by AI to women \n",
       "\n"
      ],
      "text/plain": [
       "<IPython.core.display.Markdown object>"
      ]
     },
     "metadata": {},
     "output_type": "display_data"
    },
    {
     "data": {
      "text/markdown": [
       "[36. UN adopts Chinese resolution with US support on closing the gap in access toartificial intelligence](https://www.actionnewsjax.com/news/un-adopts-chinese/PFICKEUIWRBSVNZPEONWYP6DB4/)  \n",
       "\n",
       "- UN General Assembly adopted a Chinese-sponsored resolution with US support urging developed nations to close the gap with developing countries in access to artificial intelligence\n",
       "- Both resolutions show US and China's cooperation in shaping the future of AI, aimed at ensuring safety, security, and trustworthiness of AI technology while promoting inclusive business environments\n",
       "- Chinese resolution focuses on capacity building and promoting international cooperation to bridge the AI divide between developed and developing countries \n",
       "\n"
      ],
      "text/plain": [
       "<IPython.core.display.Markdown object>"
      ]
     },
     "metadata": {},
     "output_type": "display_data"
    },
    {
     "data": {
      "text/markdown": [
       "[37. Xinhua News | UNGA adopts China-proposed resolution to enhance int'l cooperation on AI capacity-building](https://news.google.com/articles/CBMiSGh0dHBzOi8vZW5nbGlzaC5uZXdzLmNuLzIwMjQwNzAyL2IzMWFhMGRlYTgwNDRkY2JhNThmZDBhMzJkNDM0ZDEyL2MuaHRtbNIBAA)  \n",
       "\n",
       "- UNGA adopts China-proposed resolution to enhance international cooperation in AI capacity-building\n",
       "- Resolution was proposed by China and co-sponsored by over 140 countries\n",
       "- Highlight of the 78th session of the UN General Assembly \n",
       "\n"
      ],
      "text/plain": [
       "<IPython.core.display.Markdown object>"
      ]
     },
     "metadata": {},
     "output_type": "display_data"
    },
    {
     "data": {
      "text/markdown": [
       "[38. AI-generated exam papers go undetected in 94% of cases - study](https://news.google.com/articles/CBMiamh0dHBzOi8vd3d3LmV1cm9uZXdzLmNvbS9uZXh0LzIwMjQvMDcvMDIvYWktZ2VuZXJhdGVkLWV4YW0tcGFwZXJzLWdvLXVuZGV0ZWN0ZWQtaW4tOTQtb2YtY2FzZXMtc3R1ZHktZmluZHPSAQA)  \n",
       "\n",
       "- AI-generated exam papers are detected only in 6% of cases, according to a study.\n",
       "- The European Commission's 2024 report on the Digital Decade shows disparities in AI investment and skilled workforce training across EU countries.\n",
       "- Strong development in 5G is contrasted by existing gaps in AI investment and workforce training in Europe. \n",
       "\n"
      ],
      "text/plain": [
       "<IPython.core.display.Markdown object>"
      ]
     },
     "metadata": {},
     "output_type": "display_data"
    },
    {
     "data": {
      "text/markdown": [
       "[39. AI Outperforms Students in Real-World Turing Test](https://news.google.com/articles/CBMiS2h0dHBzOi8vc2NpdGVjaGRhaWx5LmNvbS9haS1vdXRwZXJmb3Jtcy1zdHVkZW50cy1pbi1yZWFsLXdvcmxkLXR1cmluZy10ZXN0L9IBAA)  \n",
       "\n",
       "- AI-generated exam answers often go undetected by experienced exam markers, achieving higher grades than student submissions in a study at the University of Reading.\n",
       "- The study calls for global education sector to update policies on the use of AI in education and emphasizes the responsibility of educators to maintain academic integrity.\n",
       "- The University of Reading is already incorporating AI in teaching and assessment to better prepare students for the future, highlighting the need for a sector-wide agreement on AI use in education. \n",
       "\n"
      ],
      "text/plain": [
       "<IPython.core.display.Markdown object>"
      ]
     },
     "metadata": {},
     "output_type": "display_data"
    },
    {
     "data": {
      "text/markdown": [
       "[40. AI can beat real university students in exams, study suggests](https://news.google.com/articles/CBMiMGh0dHBzOi8vd3d3LmJiYy5jby51ay9uZXdzL2FydGljbGVzL2NxcXFsbjBlZzY1b9IBAA)  \n",
       "\n",
       "- University exams taken by AI-generated fake students outperformed real students and often went undetected by markers, with AI essays achieving higher grades.\n",
       "- The study's findings serve as a warning for educators worldwide to address the impact of AI on educational assessments and the need for the evolution of the global education sector.\n",
       "- The research highlighted concerns about AI's influence in education, with implications for assessments, exam integrity, and the necessity for educational adaptation in response to AI advancements. \n",
       "\n"
      ],
      "text/plain": [
       "<IPython.core.display.Markdown object>"
      ]
     },
     "metadata": {},
     "output_type": "display_data"
    },
    {
     "data": {
      "text/markdown": [
       "[41. Calif. bill would take steps to ensure AI models won't cause catastrophic events](https://news.google.com/articles/CBMie2h0dHBzOi8vd3d3Lm5wci5vcmcvMjAyNC8wNy8wMi9ueC1zMS01MDIwMzE3L2NhbGlmLWJpbGwtd291bGQtdGFrZS1zdGVwcy10by1lbnN1cmUtYWktbW9kZWxzLXdvbnQtY2F1c2UtY2F0YXN0cm9waGljLWV2ZW50c9IBAA)  \n",
       "\n",
       "- California bill on artificial intelligence aims to prevent catastrophic events caused by AI models\n",
       "- The bill is receiving attention and criticism from the state's tech industry\n",
       "- State Senator Scott Wiener is the sponsor of the bill \n",
       "\n"
      ],
      "text/plain": [
       "<IPython.core.display.Markdown object>"
      ]
     },
     "metadata": {},
     "output_type": "display_data"
    },
    {
     "data": {
      "text/markdown": [
       "[42. Meta is against Californias AI bill. Heres why](https://www.fastcompany.com/91150396/meta-is-against-californias-ai-bill-heres-why)  \n",
       "\n",
       "- Meta and other tech giants oppose California's AI bill, arguing that it would stifle innovation and should focus on those exploiting AI for harm\n",
       "- The bill aims to regulate large AI systems to prevent catastrophic harms, requiring safety measures and testing for AI companies\n",
       "- Proponents of the bill believe it is necessary to prevent future risks and ensure safety standards for powerful AI models, with support from renowned AI researchers and plans for a new state agency oversight \n",
       "\n"
      ],
      "text/plain": [
       "<IPython.core.display.Markdown object>"
      ]
     },
     "metadata": {},
     "output_type": "display_data"
    },
    {
     "data": {
      "text/markdown": [
       "[43. AI companies are finally being forced to cough up for training data](https://news.google.com/articles/CBMieGh0dHBzOi8vd3d3LnRlY2hub2xvZ3lyZXZpZXcuY29tLzIwMjQvMDcvMDIvMTA5NDUwOC9haS1jb21wYW5pZXMtYXJlLWZpbmFsbHktYmVpbmctZm9yY2VkLXRvLWNvdWdoLXVwLWZvci10cmFpbmluZy1kYXRhL9IBfGh0dHBzOi8vd3d3LnRlY2hub2xvZ3lyZXZpZXcuY29tLzIwMjQvMDcvMDIvMTA5NDUwOC9haS1jb21wYW5pZXMtYXJlLWZpbmFsbHktYmVpbmctZm9yY2VkLXRvLWNvdWdoLXVwLWZvci10cmFpbmluZy1kYXRhL2FtcC8)  \n",
       "\n",
       "- AI companies are facing pressure to pay for high-quality training data due to restrictions on scraping websites and lawsuits regarding copyright infringement.\n",
       "- This shift in the AI industry could lead to companies building smaller, more efficient models or having to invest heavily to access the necessary data.\n",
       "- The introduction of consent in the data usage process is seen as a positive step for rights holders and a fairer data economy that benefits everyone. \n",
       "\n"
      ],
      "text/plain": [
       "<IPython.core.display.Markdown object>"
      ]
     },
     "metadata": {},
     "output_type": "display_data"
    },
    {
     "data": {
      "text/markdown": [
       "[44. Opinion: Record labels are suing artificial-intelligence companies. Here's why that's important](https://news.google.com/articles/CBMigAFodHRwczovL3d3dy50aGVnbG9iZWFuZG1haWwuY29tL2J1c2luZXNzL2NvbW1lbnRhcnkvYXJ0aWNsZS1yZWNvcmQtbGFiZWxzLWFyZS1zdWluZy1hcnRpZmljaWFsLWludGVsbGlnZW5jZS1jb21wYW5pZXMtaGVyZXMtd2h5L9IBAA)  \n",
       "\n",
       "- Record labels are suing artificial-intelligence companies\n",
       "- Legal battle has implications for intellectual property and music industry\n",
       "- Artificial-intelligence technologies are being used in music creation and copyright issues are arising \n",
       "\n"
      ],
      "text/plain": [
       "<IPython.core.display.Markdown object>"
      ]
     },
     "metadata": {},
     "output_type": "display_data"
    },
    {
     "data": {
      "text/markdown": [
       "[45. AI is both liberating and enslaving us](https://news.google.com/articles/CBMiS2h0dHBzOi8vd3d3LnNwZWN0YXRvci5jby51ay9hcnRpY2xlL2FpLWlzLWJvdGgtbGliZXJhdGluZy1hbmQtZW5zbGF2aW5nLXVzL9IBAA)  \n",
       "\n",
       "- AI is both liberating and enslaving humans, as it takes over most of our work, making us less efficient at what remains.\n",
       "- Autonomous systems like AI, modeled on human intelligence, are designed to think better than us but have limitations in identifying uncertainties or acting with human-like judgment, leading to potential dangers.\n",
       "- AI's impact can lead to cognitive dependency, diminishing human agency and efficiency, potentially causing disastrous consequences as seen in cases like the wrongful prosecution of individuals and raising concerns of loss of power among ordinary people. \n",
       "\n"
      ],
      "text/plain": [
       "<IPython.core.display.Markdown object>"
      ]
     },
     "metadata": {},
     "output_type": "display_data"
    },
    {
     "data": {
      "text/markdown": [
       "[46. AI is learning from what you said on Reddit, Stack Overflow or Facebook. Are you OK with that?](https://www.newsday.com/business/genai-training-data-stack-overflow-reddit-q91223)  \n",
       "\n",
       "- AI is being trained using contributions made on platforms like Reddit, Stack Overflow, and Facebook, which is leading to concerns among users about the authenticity of content and user privacy.\n",
       "- Platforms like Stack Overflow are facing challenges in balancing user-generated content with AI-generated responses, impacting the community of contributors and incentivizing participation.\n",
       "- Social media platforms are implementing strategies to address user concerns, such as banning AI training on public posts in some regions and forming partnerships with AI developers while striving to maintain user rights and privacy. \n",
       "\n"
      ],
      "text/plain": [
       "<IPython.core.display.Markdown object>"
      ]
     },
     "metadata": {},
     "output_type": "display_data"
    },
    {
     "data": {
      "text/markdown": [
       "[47. Eye on the future - AI in supply chains and logistics](https://news.google.com/articles/CBMiW2h0dHBzOi8vd3d3Lm1hZXJzay5jb20vaW5zaWdodHMvZGlnaXRhbGlzYXRpb24vMjAyNC8wNy8wMi9haS1pbi1sb2dpc3RpY3MtYW5kLXN1cHBseS1jaGFpbnPSAQA)  \n",
       "\n",
       "- AI is being incorporated into supply chains and logistics for enhanced efficiency and decision-making processes.\n",
       "- Cookies are used on the website to improve navigation, save information, analyze visitor interactions, personalize content, and provide relevant service information.\n",
       "- Users can manage their cookie preferences and withdraw consent at any time through the website's cookie preferences in the footer. \n",
       "\n"
      ],
      "text/plain": [
       "<IPython.core.display.Markdown object>"
      ]
     },
     "metadata": {},
     "output_type": "display_data"
    },
    {
     "data": {
      "text/markdown": [
       "[48. Will GenAI accelerate autonomous supply chains?](https://news.google.com/articles/CBMiaGh0dHBzOi8vd3d3LmV5LmNvbS9lbl9zZS9jb25zdWx0aW5nL2hvdy13aWxsLWdlbi1haS1wcm9tcHQtYS1zdGVwLWNoYW5nZS10b3dhcmQtYXV0b25vbW91cy1zdXBwbHktY2hhaW5z0gEA)  \n",
       "\n",
       "- EY Sweden explores the potential for GenAI to accelerate autonomous supply chains\n",
       "- EY offers services and solutions to help clients create long-term value and transform their operations\n",
       "- The text provides insights, services, and industry-focused information on various sectors like consumer, energy, financial services, technology, and more \n",
       "\n"
      ],
      "text/plain": [
       "<IPython.core.display.Markdown object>"
      ]
     },
     "metadata": {},
     "output_type": "display_data"
    },
    {
     "data": {
      "text/markdown": [
       "[49. SPONSOREDHow next-gen AI technology is transforming daily work for employees](https://venturebeat.com/ai/how-next-gen-ai-technology-is-transforming-daily-work-for-employees/)  \n",
       "\n",
       "- Generative AI technology improves workforce productivity by enabling tasks to be completed 25% more quickly and with higher quality outputs\n",
       "- Startups like 4149.AI, Arc53, and Lavender are leveraging cutting-edge AI solutions to enhance employee productivity and collaboration\n",
       "- MongoDB's database solutions, such as Atlas Vector Search, are essential for optimizing gen AI's potential in automating tasks and improving work outcomes \n",
       "\n"
      ],
      "text/plain": [
       "<IPython.core.display.Markdown object>"
      ]
     },
     "metadata": {},
     "output_type": "display_data"
    },
    {
     "data": {
      "text/markdown": [
       "[50. How isArtificial Intelligence(AI) is going to effect the World Economy](https://www.geeky-gadgets.com/ai-and-the-world-economy/)  \n",
       "\n",
       "- Generative AI can drive economic growth but may increase wealth inequality and job displacement.\n",
       "- Governments need to adopt agile fiscal policies to manage AI’s disruptive impact and ensure equitable distribution of its benefits across society.\n",
       "- Policies supporting upskilling, transitioning displaced workers, and access to affordable education are crucial to address the social implications of AI. \n",
       "\n"
      ],
      "text/plain": [
       "<IPython.core.display.Markdown object>"
      ]
     },
     "metadata": {},
     "output_type": "display_data"
    },
    {
     "data": {
      "text/markdown": [
       "[51. While some white collar workers may be worried, logistics and transport sectors are optimistic on AI](https://news.google.com/articles/CBMiXWh0dHBzOi8vZGlnaW5vbWljYS5jb20vd2hpdGUtY29sbGFyLXdvcmtlcnMtd29ycmllZC1sb2dpc3RpY3MtdHJhbnNwb3J0LXNlY3RvcnMtb3B0aW1pc3RpYy1hadIBYWh0dHBzOi8vZGlnaW5vbWljYS5jb20vd2hpdGUtY29sbGFyLXdvcmtlcnMtd29ycmllZC1sb2dpc3RpY3MtdHJhbnNwb3J0LXNlY3RvcnMtb3B0aW1pc3RpYy1haT9hbXA)  \n",
       "\n",
       "- Employees in physical operations industries, such as transport and logistics, are optimistic about the integration of artificial intelligence (AI) into their workflows.\n",
       "- AI technology in physical operations has shown benefits in terms of improved safety and productivity, with the majority of business leaders reporting positive employee sentiment towards AI.\n",
       "- Concerns around data quality, security, and privacy are being addressed by business leaders as they prioritize responsible deployment of AI technology and recognize the need for investment in AI solutions to stay competitive. \n",
       "\n"
      ],
      "text/plain": [
       "<IPython.core.display.Markdown object>"
      ]
     },
     "metadata": {},
     "output_type": "display_data"
    },
    {
     "data": {
      "text/markdown": [
       "[52. Robots, AI, EW: How War in Ukraine Re-Shapes Military Tech](https://hackernoon.com/robots-ai-ew-how-war-in-ukraine-re-shapes-military-tech)  \n",
       "\n",
       "- Ukraine's defense tech industry leverages innovative technologies such as real-time battlefield apps, cyber defenses, and adapted civilian drones to resist Russian aggression.\n",
       "- The government-established BRAVE1 platform fosters collaboration among defense tech companies, startups, the military, and investors to accelerate technological solutions for security and defense, with notable achievements in unmanned ground vehicles (UGVs) and advancements in electronic warfare (EW) and AI-driven projects.\n",
       "- BRAVE1 received over 1,000 innovative defense tech project submissions, with 481 deemed priority by Ukrainian military experts, focusing on areas like financial support, solution sourcing, collaboration, development and feedback, as well as project acceleration. \n",
       "\n"
      ],
      "text/plain": [
       "<IPython.core.display.Markdown object>"
      ]
     },
     "metadata": {},
     "output_type": "display_data"
    },
    {
     "data": {
      "text/markdown": [
       "[53. New satellite aims to show how AI advances Earth observation](https://phys.org/news/2024-07-satellite-aims-ai-advances-earth.html)  \n",
       "\n",
       "- ESA's new satellite Φsat-2 aims to showcase the advancements of AI in Earth observation, leveraging onboard processing for real-time data analysis.\n",
       "- The satellite, equipped with a multispectral camera and AI capabilities, offers applications for cloud detection, street map generation, maritime vessel detection, and more.\n",
       "- Collaborative efforts between ESA and Open Cosmos have facilitated the development of Φsat-2, scheduled for launch in July 2024, aiming to revolutionize space technology and provide valuable insights for various applications. \n",
       "\n"
      ],
      "text/plain": [
       "<IPython.core.display.Markdown object>"
      ]
     },
     "metadata": {},
     "output_type": "display_data"
    },
    {
     "data": {
      "text/markdown": [
       "[54. Running AI in the Field Could Boost Farming: Study](https://news.google.com/articles/CBMiO2h0dHBzOi8vZGVjcnlwdC5jby8yMzc5NzgvZWRnZS1haS1mYXJtaW5nLWFncmljdWx0dXJlLXN0dWR50gFBaHR0cHM6Ly9kZWNyeXB0LmNvLzIzNzk3OC9lZGdlLWFpLWZhcm1pbmctYWdyaWN1bHR1cmUtc3R1ZHk_YW1wPTE)  \n",
       "\n",
       "- Running AI in the field may have a positive impact on farming practices, as suggested by a study.\n",
       "- Various cookies are used on websites to enhance user experience and website functionality through features like personalization, security, and analytics.\n",
       "- Different providers offer cookies for tasks such as detecting and preventing attacks, improving security, making secure online transactions, and providing user insights. \n",
       "\n"
      ],
      "text/plain": [
       "<IPython.core.display.Markdown object>"
      ]
     },
     "metadata": {},
     "output_type": "display_data"
    },
    {
     "data": {
      "text/markdown": [
       "[55. Google emissions jump nearly 50% over five years as AI use surges](https://www.ft.com/content/383719aa-df38-4ae3-ab0e-6279a897915e)  \n",
       "\n",
       "- Google's emissions have increased nearly 50% over the past five years\n",
       "- The surge in AI usage is linked to the rise in Google's emissions\n",
       "- This increase in emissions highlights the environmental impact of technological advancements \n",
       "\n"
      ],
      "text/plain": [
       "<IPython.core.display.Markdown object>"
      ]
     },
     "metadata": {},
     "output_type": "display_data"
    },
    {
     "data": {
      "text/markdown": [
       "[56. Google falling short of important climate target, cites electricity needs of AI](https://www.wsbtv.com/news/google-falling-short/BSRKU3BGJJGNPOHMBWGXQVBYJM/)  \n",
       "\n",
       "- Google fell short of its climate change goals, with emissions increasing 13% in 2023 and soaring 48% compared to 2019, partly due to the electricity demand of AI and data centers.\n",
       "- The growth of data centers supporting AI is a challenge for achieving clean electricity goals, as they consume high amounts of energy, require water consumption, and can delay the transition to renewables.\n",
       "- Google aims to use 100% clean energy globally by 2030 and has made progress in using carbon-free energy for its data centers and offices, showing energy efficiency above industry average. \n",
       "\n"
      ],
      "text/plain": [
       "<IPython.core.display.Markdown object>"
      ]
     },
     "metadata": {},
     "output_type": "display_data"
    },
    {
     "data": {
      "text/markdown": [
       "[57. AI Researcher Elon Musk Poached From OpenAI Returns to OpenAI](https://futurism.com/the-byte/xai-researcher-returns-openai)  \n",
       "\n",
       "- Researcher Kyle Kosic returned to OpenAI after a brief stint at xAI, an AI venture founded by Elon Musk.\n",
       "- Kosic's return happened before xAI announced raising $6 billion in seed capital to challenge OpenAI.\n",
       "- The reasons for Kosic's departure from xAI remain unclear, but it might indicate challenges within the company despite substantial funding. \n",
       "\n"
      ],
      "text/plain": [
       "<IPython.core.display.Markdown object>"
      ]
     },
     "metadata": {},
     "output_type": "display_data"
    },
    {
     "data": {
      "text/markdown": [
       "[58. Crusoe pivots to building AI data centers](https://news.google.com/articles/CBMiZ2h0dHBzOi8vd3d3LmRhdGFjZW50ZXJkeW5hbWljcy5jb20vZW4vbmV3cy9jcnVzb2UtcGl2b3RzLXRvLWJ1aWxkaW5nLWRhdGEtY2VudGVycy1wbGFucy0xMDBtdy1mYWNpbGl0eS_SAQA)  \n",
       "\n",
       "- Crusoe Energy, known for mining cryptocurrencies via flared gas, is shifting to building permanent data centers for AI customers\n",
       "- The company designed a high-density data center form factor to host a large number of GPUs and is planning to deliver gigawatts of new data center capacity\n",
       "- Crusoe has raised over $600 million in funding, acquired various firms, and is expanding its services beyond crypto mining and into AI infrastructure hosting. \n",
       "\n"
      ],
      "text/plain": [
       "<IPython.core.display.Markdown object>"
      ]
     },
     "metadata": {},
     "output_type": "display_data"
    },
    {
     "data": {
      "text/markdown": [
       "[59. Announcing AI First Accelerator for startups in the Middle East and Turkey](https://cloud.google.com/blog/topics/startups/google-for-startups-accelerator-ai-first-mena-t/)  \n",
       "\n",
       "- Google for Startups Accelerator: AI First MENA-T program offers a 10-week, equity-free program for Seed and Series A startups in MENA and Turkey\n",
       "- Participating startups receive mentoring, access to Google Cloud and Google DeepMind experts, as well as workshops on AI, ML, product design, business growth, and leadership development\n",
       "- Applications are open until August 18, 2024, and the accelerator program will start in October 2024. \n",
       "\n"
      ],
      "text/plain": [
       "<IPython.core.display.Markdown object>"
      ]
     },
     "metadata": {},
     "output_type": "display_data"
    },
    {
     "data": {
      "text/markdown": [
       "[60. Bird & Bird To Run Major POC With AI Startup Leya](https://news.google.com/articles/CBMiXGh0dHBzOi8vd3d3LmFydGlmaWNpYWxsYXd5ZXIuY29tLzIwMjQvMDcvMDIvYmlyZC1iaXJkLXRvLXJ1bi1tYWpvci1wb2Mtd2l0aC1haS1zdGFydHVwLWxleWEv0gEA)  \n",
       "\n",
       "- Bird & Bird is conducting a large-scale proof of concept (POC) trial with AI startup Leya to automate legal tasks and utilize AI for analyzing laws, court cases, contracts, and documents.\n",
       "- The POC trial will involve multiple offices in various countries, optimizing processes, upskilling employees, and ensuring responsible technology use.\n",
       "- Leya, a legal tech startup, raised $10.5m in a Seed round and aims to enhance legal professionals' productivity by leveraging AI capabilities. \n",
       "\n"
      ],
      "text/plain": [
       "<IPython.core.display.Markdown object>"
      ]
     },
     "metadata": {},
     "output_type": "display_data"
    },
    {
     "data": {
      "text/markdown": [
       "[61. Empirical Health for Apple Watch now leverages AI with your data and real physicians](https://9to5mac.com/2024/07/02/empirical-health-for-apple-watch-now-leverages-ai-with-your-data-and-real-physicians/)  \n",
       "\n",
       "- Empirical Health for Apple Watch releases a major 2.0 update with AI-generated custom health care plans and guidance from real physicians.\n",
       "- The update includes a new UI, support for blood pressure cuffs, in-app benchmarks for various health metrics, and expanded medical care coverage in 27 US states.\n",
       "- The app aims to integrate AI with Apple Health data to create personalized care plans and improve proactive health management for users. \n",
       "\n"
      ],
      "text/plain": [
       "<IPython.core.display.Markdown object>"
      ]
     },
     "metadata": {},
     "output_type": "display_data"
    },
    {
     "data": {
      "text/markdown": [
       "[62. Apple chip orders suggest big demand for AI-boosted iPhone 16](https://www.cultofmac.com/861543/high-demand-for-iphone-16/)  \n",
       "\n",
       "- Apple has increased its order of next-generation A18 chips from TSMC to between 90 million and 100 million units, anticipating high demand for the upcoming Apple Intelligence-boosted iPhone 16 series.\n",
       "- The iPhone 16 models are expected to use A18-branded chips manufactured using TSMC’s N3E process, with the Pro models featuring an enhanced \"A18 Pro\" chip with more graphics and AI capabilities.\n",
       "- All iPhone 16 models are rumored to offer 8GB of RAM, up from 6GB in the standard iPhone 15 models, aligning with Apple's requirements for running large-language models on-device. \n",
       "\n"
      ],
      "text/plain": [
       "<IPython.core.display.Markdown object>"
      ]
     },
     "metadata": {},
     "output_type": "display_data"
    },
    {
     "data": {
      "text/markdown": [
       "[63. Apple just launched a public demo of its '4M' AI model: Here's why it's a big deal](https://news.google.com/articles/CBMiaWh0dHBzOi8vdmVudHVyZWJlYXQuY29tL2FpL2FwcGxlLWp1c3QtbGF1bmNoZWQtYS1wdWJsaWMtZGVtby1vZi1pdHMtNG0tYWktbW9kZWwtaGVyZXMtd2h5LWl0cy1hLWJpZy1kZWFsL9IBAA)  \n",
       "\n",
       "- Apple collaborates with EPFL to release a public demo of the 4M AI model on the Hugging Face Spaces platform, showcasing its versatility in processing and generating content across multiple modalities.\n",
       "- The release of the 4M model signifies Apple's shift towards a more open approach to AI research, aiming to attract developer interest and showcase its AI capabilities amid a growing competitive landscape.\n",
       "- The 4M AI model demonstrates Apple's commitment to integrating advanced AI technologies across its ecosystem, providing a glimpse into both consumer-ready AI features and cutting-edge research efforts in the industry. \n",
       "\n"
      ],
      "text/plain": [
       "<IPython.core.display.Markdown object>"
      ]
     },
     "metadata": {},
     "output_type": "display_data"
    },
    {
     "data": {
      "text/markdown": [
       "[64. Atunning AI spaghetti art...](https://www.reddit.com/r/ChatGPT/comments/1dtnn0y/atunning_ai_spaghetti_art/)  \n",
       "\n",
       "- AI-generated art on ChatGPT subreddit impresses users, prompting comparisons to Disney animation and Will Smith's past video.\n",
       "- Users discuss the potential for integrating AI-generated spaghetti art into different contexts, like restaurant promotions or movie scenes.\n",
       "- Some users point out technical details and suggest tools like Runway 3 for similar AI art generation. \n",
       "\n"
      ],
      "text/plain": [
       "<IPython.core.display.Markdown object>"
      ]
     },
     "metadata": {},
     "output_type": "display_data"
    },
    {
     "data": {
      "text/markdown": [
       "[65. FL Studio 2024 introduces plugins to FL Cloud, adds powerful new AI features, effects, and workflow improvements](https://news.google.com/articles/CBMibWh0dHBzOi8vd3d3LnJhZGlvYW5kbXVzaWMuY29tL2Jpei9tdXNpYy9tdXNpYy1zZXJ2aWNlcy8yNDA3MDItZmwtc3R1ZGlvLTIwMjQtaW50cm9kdWNlcy1wbHVnaW5zLWZsLWNsb3VkLWFkZHPSAXFodHRwczovL3d3dy5yYWRpb2FuZG11c2ljLmNvbS9iaXovbXVzaWMvbXVzaWMtc2VydmljZXMvMjQwNzAyLWZsLXN0dWRpby0yMDI0LWludHJvZHVjZXMtcGx1Z2lucy1mbC1jbG91ZC1hZGRzP2FtcA)  \n",
       "\n",
       "- FL Studio 2024 introduces plugins to FL Cloud, featuring 69 instruments and effects from various brands, enhancing music production capabilities.\n",
       "- The update includes new AI-powered music composition tools and in-demand effects, aiming to improve creativity and workflow for all producers.\n",
       "- FL Studio remains a popular Digital Audio Workstation known for its user-friendly interface, powerful features, affordable pricing, and commitment to offering Lifetime Free Updates. \n",
       "\n"
      ],
      "text/plain": [
       "<IPython.core.display.Markdown object>"
      ]
     },
     "metadata": {},
     "output_type": "display_data"
    },
    {
     "data": {
      "text/markdown": [
       "[66. OmniParse: An AI Platform that Ingests/Parses Any Unstructured Data into Structured, Actionable Data Optimized for GenAI (LLM) Applications](https://news.google.com/articles/CBMisAFodHRwczovL3d3dy5tYXJrdGVjaHBvc3QuY29tLzIwMjQvMDcvMDIvb21uaXBhcnNlLWFuLWFpLXBsYXRmb3JtLXRoYXQtaW5nZXN0cy1wYXJzZXMtYW55LXVuc3RydWN0dXJlZC1kYXRhLWludG8tc3RydWN0dXJlZC1hY3Rpb25hYmxlLWRhdGEtb3B0aW1pemVkLWZvci1nZW5haS1sbG0tYXBwbGljYXRpb25zL9IBtAFodHRwczovL3d3dy5tYXJrdGVjaHBvc3QuY29tLzIwMjQvMDcvMDIvb21uaXBhcnNlLWFuLWFpLXBsYXRmb3JtLXRoYXQtaW5nZXN0cy1wYXJzZXMtYW55LXVuc3RydWN0dXJlZC1kYXRhLWludG8tc3RydWN0dXJlZC1hY3Rpb25hYmxlLWRhdGEtb3B0aW1pemVkLWZvci1nZW5haS1sbG0tYXBwbGljYXRpb25zLz9hbXA)  \n",
       "\n",
       "- OmniParse is an AI platform that converts various unstructured data types into structured, actionable data optimized for GenAI applications\n",
       "- It supports around 20 different file types and offers capabilities like table extraction, image captioning, and web page crawling\n",
       "- OmniParse is a versatile and efficient solution that eliminates the need for multiple independent tools, ensuring data privacy and security \n",
       "\n"
      ],
      "text/plain": [
       "<IPython.core.display.Markdown object>"
      ]
     },
     "metadata": {},
     "output_type": "display_data"
    },
    {
     "data": {
      "text/markdown": [
       "[67. Meta plans to bring generative AI to metaverse games](https://techcrunch.com/2024/07/02/meta-plans-to-bring-generative-ai-to-metaverse-games/)  \n",
       "\n",
       "- Meta plans to integrate more generative AI technology into VR, AR, and mixed reality games to enhance the metaverse experience by creating games with non-deterministic paths that change every time you play.\n",
       "- The company aims to research and prototype new consumer experiences driven by generative AI, with a focus on games within Meta's Horizon metaverse platform while also considering expansion to non-Meta platforms like smartphones and PCs.\n",
       "- Meta's efforts in generative AI for metaverse experiences align with its focus on product innovation, with initiatives like Builder Bot showcased in the past and a recent decision to invest billions in generative AI products despite the anticipated delay in financial returns. \n",
       "\n"
      ],
      "text/plain": [
       "<IPython.core.display.Markdown object>"
      ]
     },
     "metadata": {},
     "output_type": "display_data"
    },
    {
     "data": {
      "text/markdown": [
       "[68. Ajax Engineering Launches Concrete GPT, Game-Changing AI Platform for Concrete Industry](https://www.techtimes.com/articles/306271/20240702/ajax-engineering-launches-concrete-gpt-game-changing-ai-platform-industry.htm)  \n",
       "\n",
       "- Ajax Engineering has launched Concrete GPT, an AI platform for the concrete industry in India, benefiting over a million specialists.\n",
       "- The platform is powered by OpenAI's GPT-4 and Perplexity AI's engine, offering features like text, voice, and WhatsApp chat interaction with support for multiple languages.\n",
       "- Concrete GPT provides industry insights, technical support, maintenance tips, and safety compliance guidance, aiming to enhance industry knowledge sharing and competitiveness while being user-friendly with a simple interface and WhatsApp integration. \n",
       "\n"
      ],
      "text/plain": [
       "<IPython.core.display.Markdown object>"
      ]
     },
     "metadata": {},
     "output_type": "display_data"
    },
    {
     "data": {
      "text/markdown": [
       "[69. Anthropic launches new program to fund creation of more reliable AI benchmarks - SiliconANGLE](https://siliconangle.com/2024/07/01/anthropic-launches-new-program-fund-creation-reliable-ai-benchmarks/)  \n",
       "\n",
       "- Anthropic PBC launches a program to fund the creation of more reliable AI benchmarks\n",
       "- The initiative aims to incentivize researchers to develop new benchmarks that can more accurately evaluate AI performance and societal impacts\n",
       "- Anthropic seeks challenges in benchmarking AI models, including assessing dangers like cyberattacks and enhancing capabilities like aiding scientific studies \n",
       "\n"
      ],
      "text/plain": [
       "<IPython.core.display.Markdown object>"
      ]
     },
     "metadata": {},
     "output_type": "display_data"
    },
    {
     "data": {
      "text/markdown": [
       "[70. The Gee Code: Will AI Teachers Assistants Become Normalized at HBCUs?](https://yr.media/tech/gee-code-ai-teachers-assistants-hbcu-morehouse-miranda-perez/)  \n",
       "\n",
       "- Morehouse College is introducing AI teacher assistants to personalize student education journeys, offering support to professors in assessments, office hours, and demonstrations.\n",
       "- Challenges such as lack of internet access and underfunding have created a digital divide between HBCUs and PWIs, impacting the potential adoption of AI technology.\n",
       "- Collaboration and investment in digital infrastructure by policymakers, tech companies, and educational institutions are crucial to ensure equitable access to AI in education at HBCUs, paving the way for a technologically advanced educational landscape. \n",
       "\n"
      ],
      "text/plain": [
       "<IPython.core.display.Markdown object>"
      ]
     },
     "metadata": {},
     "output_type": "display_data"
    },
    {
     "data": {
      "text/markdown": [
       "[71. Apple Intelligence tipped to feature Google Gemini integration at launch, as well as ChatGPT](https://news.google.com/articles/CBMilwFodHRwczovL3d3dy50ZWNocmFkYXIuY29tL2NvbXB1dGluZy9hcnRpZmljaWFsLWludGVsbGlnZW5jZS9hcHBsZS1pbnRlbGxpZ2VuY2UtdGlwcGVkLXRvLWZlYXR1cmUtZ29vZ2xlLWdlbWluaS1pbnRlZ3JhdGlvbi1hdC1sYXVuY2gtYXMtd2VsbC1hcy1jaGF0Z3B00gEA)  \n",
       "\n",
       "- Apple Intelligence toolset to feature integration with ChatGPT and potentially Google Gemini\n",
       "- Apple aiming to differentiate its products with unique partnership with ChatGPT and revenue potential from AI partners\n",
       "- Possibility of a paid version of Apple Intelligence incorporating premium features of ChatGPT and Google Gemini \n",
       "\n"
      ],
      "text/plain": [
       "<IPython.core.display.Markdown object>"
      ]
     },
     "metadata": {},
     "output_type": "display_data"
    },
    {
     "data": {
      "text/markdown": [
       "[72. These new AI smart glasses are like getting a second pair of ChatGPT-powered eyes](https://www.techradar.com/computing/artificial-intelligence/these-new-ai-smart-glasses-are-like-getting-a-second-pair-of-chatgpt-powered-eyes)  \n",
       "\n",
       "- Solos AirGo Visions are new AI smart glasses rivaling Meta Ray-Ban, featuring a built-in camera, support for GPT-4o model, and modular frame design.\n",
       "- The glasses can identify objects, respond to voice prompts, take photos, and have built-in speakers for voice assistance or music playback.\n",
       "- While AI-powered smart glasses like Solos AirGo Visions show potential for travelers and visually impaired users, their accuracy and usefulness are still evolving. \n",
       "\n"
      ],
      "text/plain": [
       "<IPython.core.display.Markdown object>"
      ]
     },
     "metadata": {},
     "output_type": "display_data"
    },
    {
     "data": {
      "text/markdown": [
       "[73. Google prepping an exclusive Pixel 9 AI with Windows Recall-like functionality](https://www.androidpolice.com/google-ai-prepping-pixel-9-windows-recall-like-functionality/)  \n",
       "\n",
       "- Google is developing an exclusive Pixel 9 AI with features like Pixel Screenshots, Add Me, and Studio, expected to launch in August with at least three device variants.\n",
       "- The Pixel 9 AI will offer unique AI features such as on-device AI for searchable screenshots and chatbot-like conversations, aiming to set Pixel phones apart with innovative software capabilities.\n",
       "- Other features of the Pixel 9 AI include \"Add Me\" for group photos and \"Studio\" for image generation, possibly based on Google's Imagen 2 model, enhancing the device's image editing capabilities. \n",
       "\n"
      ],
      "text/plain": [
       "<IPython.core.display.Markdown object>"
      ]
     },
     "metadata": {},
     "output_type": "display_data"
    },
    {
     "data": {
      "text/markdown": [
       "[74. The Pixel 9s Google AI is like Microsoft Recall but a little less creepy](https://www.theverge.com/2024/7/2/24190730/google-ai-pixel-phones-recall-like-feature)  \n",
       "\n",
       "- Google's upcoming Pixel 9 will feature new AI capabilities similar to Microsoft Recall, allowing for easier searching through screenshots, with a less intrusive approach compared to Microsoft's tool.\n",
       "- Users can toggle AI processing for screenshots on and off, with the feature able to summarize screenshots and help with information retrieval by saving metadata like links and app names.\n",
       "- Google is also working on other AI features for Pixel 9, like the \"Add Me\" photo editing tool and a Studio tool for generating stickers and images, with hints at more AI features to be unveiled at an upcoming hardware event. \n",
       "\n"
      ],
      "text/plain": [
       "<IPython.core.display.Markdown object>"
      ]
     },
     "metadata": {},
     "output_type": "display_data"
    },
    {
     "data": {
      "text/markdown": [
       "[75. Exclusive: New Google AI suite to debut with the Pixel 9 series](https://news.google.com/articles/CBMiQmh0dHBzOi8vd3d3LmFuZHJvaWRhdXRob3JpdHkuY29tL2dvb2dsZS1haS1yZWNhbGwtcGl4ZWwtOS0zNDU2Mzk5L9IBAA)  \n",
       "\n",
       "- Google is set to introduce a new suite of AI features called \"Google AI\" with the upcoming Pixel 9 series, including new ML features and existing ones like Circle to Search and Gemini.\n",
       "\n",
       "- The new AI features for Pixel 9 include \"Add Me\" for group photos, \"Studio\" for creative assistance similar to Apple's Image Playground, and \"Pixel Screenshots\" resembling Microsoft's Recall but focusing only on manually captured screenshots for privacy.\n",
       "\n",
       "- Google's implementation of the Recall-like feature for screenshots is considered more secure and privacy-focused compared to Microsoft's version, with other companies like Motorola also working on similar features. \n",
       "\n"
      ],
      "text/plain": [
       "<IPython.core.display.Markdown object>"
      ]
     },
     "metadata": {},
     "output_type": "display_data"
    },
    {
     "data": {
      "text/markdown": [
       "[76. Pixel 9 to ship with 'Google AI' powering 'Studio' and Recall-like screenshot analysis](https://news.google.com/articles/CBMiNGh0dHBzOi8vOXRvNWdvb2dsZS5jb20vMjAyNC8wNy8wMi9waXhlbC05LWdvb2dsZS1haS_SAQA)  \n",
       "\n",
       "- Pixel 9 series to feature enhanced functions powered by \"Google AI\"\n",
       "- New features include \"Add me\" camera function, \"Studio\" for creative assistance, and \"Pixel Screenshots\" for contextual information\n",
       "- Google AI on Pixel 9 will offer Recall-like screenshot analysis and on-device processing for privacy \n",
       "\n"
      ],
      "text/plain": [
       "<IPython.core.display.Markdown object>"
      ]
     },
     "metadata": {},
     "output_type": "display_data"
    },
    {
     "data": {
      "text/markdown": [
       "[77. Source: Google plans AI features for the Pixel 9 under the Google AI brand, like Pixel Screenshots, which lets users search their screenshots using on-device AI](https://www.androidauthority.com/google-ai-recall-pixel-9-3456399/)  \n",
       "\n",
       "- Google is planning to introduce new ML features under the branding of \"Google AI\" in the upcoming Pixel 9 series, including features like Add Me, Studio, and Pixel Screenshots.\n",
       "- The new Pixel Screenshots feature in the Pixel 9 series is a privacy-focused implementation similar to Microsoft's Recall, but it only works on screenshots manually taken by the user.\n",
       "- Google's implementation of the Recall-like feature on the Pixel 9 series is seen as a better execution with enhanced privacy features compared to Microsoft's version. \n",
       "\n"
      ],
      "text/plain": [
       "<IPython.core.display.Markdown object>"
      ]
     },
     "metadata": {},
     "output_type": "display_data"
    },
    {
     "data": {
      "text/markdown": [
       "[78. France poised to bring 'charges against Nvidia'](https://news.google.com/articles/CBMiQWh0dHBzOi8vd3d3LnRoZXJlZ2lzdGVyLmNvbS8yMDI0LzA3LzAxL2ZyZW5jaF9udmlkaWFfY29tcGV0aXRpb24v0gFFaHR0cHM6Ly93d3cudGhlcmVnaXN0ZXIuY29tL0FNUC8yMDI0LzA3LzAxL2ZyZW5jaF9udmlkaWFfY29tcGV0aXRpb24v)  \n",
       "\n",
       "- French regulators are considering bringing charges against Nvidia over alleged anti-competitive practices due to its dominance in the AI infrastructure market.\n",
       "- The Autorité expressed concerns about Nvidia's potential risks like price fixing, production restrictions, and discriminatory behavior in the market.\n",
       "- Investigations into Nvidia's market dominance are not only happening in France but also in the European Union and the US Department of Justice. \n",
       "\n"
      ],
      "text/plain": [
       "<IPython.core.display.Markdown object>"
      ]
     },
     "metadata": {},
     "output_type": "display_data"
    },
    {
     "data": {
      "text/markdown": [
       "[79. Nvidia's secret sauce is starting to worry regulators](https://news.google.com/articles/CBMiXGh0dHBzOi8vd3d3LmJ1c2luZXNzaW5zaWRlci5jb20vbnZpZGlhLXNlY3JldC1zYXVjZS1yZWd1bGF0b3JzLWdwdS1jaGlwcy1qZW5zZW4taHVhbmctMjAyNC030gFgaHR0cHM6Ly93d3cuYnVzaW5lc3NpbnNpZGVyLmNvbS9udmlkaWEtc2VjcmV0LXNhdWNlLXJlZ3VsYXRvcnMtZ3B1LWNoaXBzLWplbnNlbi1odWFuZy0yMDI0LTc_YW1w)  \n",
       "\n",
       "- Nvidia's CUDA software is under scrutiny by European regulators for potentially anti-competitive behavior related to the chipmaker's dominance in the AI industry.\n",
       "- Nvidia has become a $3 trillion heavyweight in the AI sector and is facing charges in France, with concerns raised over the dependence on CUDA software.\n",
       "- CUDA, introduced in 2006, has played a significant role in Nvidia's success by making its GPUs adaptable and compatible with various computing tasks, giving the company a competitive edge. \n",
       "\n"
      ],
      "text/plain": [
       "<IPython.core.display.Markdown object>"
      ]
     },
     "metadata": {},
     "output_type": "display_data"
    },
    {
     "data": {
      "text/markdown": [
       "[80. Nvidia Faces First AI Antitrust Charge, According to Report](https://news.google.com/articles/CBMiPWh0dHBzOi8vd3d3LmJhcnJvbnMuY29tL2FydGljbGVzL252aWRpYS1hbnRpdHJ1c3QtYWktNzhjMWM1NDjSAUFodHRwczovL3d3dy5iYXJyb25zLmNvbS9hbXAvYXJ0aWNsZXMvbnZpZGlhLWFudGl0cnVzdC1haS03OGMxYzU0OA)  \n",
       "\n",
       "- Nvidia is facing its first AI antitrust charge due to its dominant position in providing chips for artificial-intelligence technology.\n",
       "- Regulators are focusing on Nvidia's market dominance in AI technology, signaling a potential antitrust challenge for the company.\n",
       "- The attention from regulators suggests that Nvidia may be confronted with antitrust issues related to its role in the AI era. \n",
       "\n"
      ],
      "text/plain": [
       "<IPython.core.display.Markdown object>"
      ]
     },
     "metadata": {},
     "output_type": "display_data"
    },
    {
     "data": {
      "text/markdown": [
       "[81. Galaxy S25 to offer AI upscaling for games thanks to its SoC](https://news.google.com/articles/CBMiWGh0dHBzOi8vd3d3LmFuZHJvaWRoZWFkbGluZXMuY29tLzIwMjQvMDcvZ2FsYXh5LXMyNS10by1vZmZlci1haS11cHNjYWxpbmctZm9yLWdhbWVzLmh0bWzSAQA)  \n",
       "\n",
       "- Galaxy S25 to include AI upscaling for games with its SoC\n",
       "- Rumors suggest different chip strategies for Samsung Galaxy S25\n",
       "- Speculation includes Snapdragon exclusivity, Snapdragon-Exynos dual-chip, or MediaTek options \n",
       "\n"
      ],
      "text/plain": [
       "<IPython.core.display.Markdown object>"
      ]
     },
     "metadata": {},
     "output_type": "display_data"
    },
    {
     "data": {
      "text/markdown": [
       "[82. Snapdragon 8 Gen 4: Adreno 830 GPU rumoured to launch with DLSS Frame Generation-like feature](https://news.google.com/articles/CBMiiAFodHRwczovL3d3dy5ub3RlYm9va2NoZWNrLm5ldC9TbmFwZHJhZ29uLTgtR2VuLTQtQWRyZW5vLTgzMC1HUFUtcnVtb3VyZWQtdG8tbGF1bmNoLXdpdGgtRExTUy1GcmFtZS1HZW5lcmF0aW9uLWxpa2UtZmVhdHVyZS44NTQwMDAuMC5odG1s0gEA)  \n",
       "\n",
       "- Qualcomm Snapdragon 8 Gen 4 rumored to launch with Adreno 830 GPU featuring frame interpolation for increased FPS\n",
       "- Potential for frame interpolation feature to expand to Snapdragon 8s Gen 3 and Snapdragon 8 Gen 3 through a future update, enabling higher FPS in games\n",
       "- Frame interpolation can enhance game performance but may come with drawbacks like input lag and visual artifacts \n",
       "\n"
      ],
      "text/plain": [
       "<IPython.core.display.Markdown object>"
      ]
     },
     "metadata": {},
     "output_type": "display_data"
    },
    {
     "data": {
      "text/markdown": [
       "[83. Snapdragon 8 Gen 4 Rumored To Support GPU Interpolation Technology, Hinting At Frame Generation Arriving To The SoC, Boosting Gaming Performance](https://news.google.com/articles/CBMiV2h0dHBzOi8vd2NjZnRlY2guY29tL3NuYXBkcmFnb24tOC1nZW4tNC1zdXBwb3J0cy1ncHUtaW50ZXJwb2xhdGlvbi1vci1mcmFtZS1nZW5lcmF0aW9uL9IBW2h0dHBzOi8vd2NjZnRlY2guY29tL3NuYXBkcmFnb24tOC1nZW4tNC1zdXBwb3J0cy1ncHUtaW50ZXJwb2xhdGlvbi1vci1mcmFtZS1nZW5lcmF0aW9uL2FtcC8)  \n",
       "\n",
       "- Snapdragon 8 Gen 4 rumored to support GPU Interpolation Technology, enhancing gaming performance by adding artificial frames.\n",
       "- Top-end flagships with Snapdragon 8 Gen 4 expected to be expensive but may offer improved gaming experience with Frame Generation.\n",
       "- Frame Generation technology rumored to be integrated into Snapdragon 8 Gen 3 and Snapdragon 8s Gen 3, potentially boosting gaming performance on current-generation flagships. \n",
       "\n"
      ],
      "text/plain": [
       "<IPython.core.display.Markdown object>"
      ]
     },
     "metadata": {},
     "output_type": "display_data"
    },
    {
     "data": {
      "text/markdown": [
       "[84. Meta Is ChangingArtificial IntelligenceLabels After Real Photos Were Marked As AI](https://www.cnet.com/tech/services-and-software/meta-is-changing-artificial-intelligence-labels-after-real-photos-were-marked-as-ai/)  \n",
       "\n",
       "- Meta is changing labels on social media posts suspected to have been generated with AI tools from \"Made with AI\" to \"AI Info\" due to confusion caused by their previous labeling approach.\n",
       "- The rapid spread of AI technologies across the web is making it challenging for people to differentiate between what is real and AI-generated content, especially with the upcoming 2024 US presidential election.\n",
       "- Tech companies are grappling with the increasing use of AI in creating disinformation campaigns, with terms like \"slop\" emerging to describe the influx of AI-generated posts, and efforts being made to add metadata to label images. \n",
       "\n"
      ],
      "text/plain": [
       "<IPython.core.display.Markdown object>"
      ]
     },
     "metadata": {},
     "output_type": "display_data"
    },
    {
     "data": {
      "text/markdown": [
       "[85. Photographers complaints lead Meta to revise AI-generated image labels on Facebook, Instagram](https://news.google.com/articles/CBMimgFodHRwczovL3d3dy5tb25leWNvbnRyb2wuY29tL3RlY2hub2xvZ3kvcGhvdG9ncmFwaGVycy1jb21wbGFpbnRzLWxlYWQtbWV0YS10by1yZXZpc2UtYWktZ2VuZXJhdGVkLWltYWdlLWxhYmVscy1vbi1mYWNlYm9vay1pbnN0YWdyYW0tYXJ0aWNsZS0xMjc2MDE2OS5odG1s0gGeAWh0dHBzOi8vd3d3Lm1vbmV5Y29udHJvbC5jb20vdGVjaG5vbG9neS9waG90b2dyYXBoZXJzLWNvbXBsYWludHMtbGVhZC1tZXRhLXRvLXJldmlzZS1haS1nZW5lcmF0ZWQtaW1hZ2UtbGFiZWxzLW9uLWZhY2Vib29rLWluc3RhZ3JhbS1hcnRpY2xlLTEyNzYwMTY5Lmh0bWwvYW1w)  \n",
       "\n",
       "- Photographers' complaints led Meta to revise AI-generated image labels on Facebook and Instagram.\n",
       "- Meta introduced a \"made with AI\" label for images generated by AI but faced criticism for incorrectly labeling images edited with tools like Adobe Photoshop's generative AI.\n",
       "- Meta is changing the labels to \"AI info\" but clicking on the badge does not provide additional information beyond flagging content generated using AI. \n",
       "\n"
      ],
      "text/plain": [
       "<IPython.core.display.Markdown object>"
      ]
     },
     "metadata": {},
     "output_type": "display_data"
    },
    {
     "data": {
      "text/markdown": [
       "[86. Meta updates Made by AI label across Facebook, Instagram: Heres what is changing](https://news.google.com/articles/CBMingFodHRwczovL3RpbWVzb2ZpbmRpYS5pbmRpYXRpbWVzLmNvbS90ZWNobm9sb2d5L3NvY2lhbC9tZXRhLXVwZGF0ZXMtbWFkZS1ieS1haS1sYWJlbC1hY3Jvc3MtZmFjZWJvb2staW5zdGFncmFtLWhlcmVzLXdoYXQtaXMtY2hhbmdpbmcvYXJ0aWNsZXNob3cvMTExNDEzMjYyLmNtc9IBogFodHRwczovL3RpbWVzb2ZpbmRpYS5pbmRpYXRpbWVzLmNvbS90ZWNobm9sb2d5L3NvY2lhbC9tZXRhLXVwZGF0ZXMtbWFkZS1ieS1haS1sYWJlbC1hY3Jvc3MtZmFjZWJvb2staW5zdGFncmFtLWhlcmVzLXdoYXQtaXMtY2hhbmdpbmcvYW1wX2FydGljbGVzaG93LzExMTQxMzI2Mi5jbXM)  \n",
       "\n",
       "- Meta changes from 'Made by AI' to 'AI info' labels on Facebook and Instagram content after the Oversight Board's recommendation.\n",
       "- The update aims to enhance transparency and prevent unnecessary speech restrictions on AI-generated content.\n",
       "- Users can now access more context and information about AI-generated content on the platforms. \n",
       "\n"
      ],
      "text/plain": [
       "<IPython.core.display.Markdown object>"
      ]
     },
     "metadata": {},
     "output_type": "display_data"
    },
    {
     "data": {
      "text/markdown": [
       "[87. Meta Switches AI Labels From 'Made With AI' to 'AI Info' Tag](https://news.google.com/articles/CBMiVmh0dHBzOi8vd3d3LnNvY2lhbG1lZGlhdG9kYXkuY29tL25ld3MvbWV0YS1zd2l0Y2hlcy1haS1sYWJlbHMtbWFkZS1haS1pbmZvLXRhZy83MjAzODQv0gEA)  \n",
       "\n",
       "- Meta switches \"Made With AI\" labels to \"AI Info\" tag to clarify the use of AI tools in image creation.\n",
       "- The change aims to provide more context and ensure that users who have used AI for minor modifications are not mislabeled.\n",
       "- This adjustment reflects the need to define the role of AI in visual creation amidst evolving challenges of distinguishing between human and machine-generated content. \n",
       "\n"
      ],
      "text/plain": [
       "<IPython.core.display.Markdown object>"
      ]
     },
     "metadata": {},
     "output_type": "display_data"
    },
    {
     "data": {
      "text/markdown": [
       "[88. Meta swaps Made with AI label with AI Info on photos, know reason why](https://news.google.com/articles/CBMifmh0dHBzOi8vd3d3LmZpbmFuY2lhbGV4cHJlc3MuY29tL2xpZmUvdGVjaG5vbG9neS1tZXRhLXN3YXBzLW1hZGUtd2l0aC1haS1sYWJlbC13aXRoLWFpLWluZm8tb24tcGhvdG9zLWtub3ctcmVhc29uLXdoeS0zNTQxNDQyL9IBAA)  \n",
       "\n",
       "- Meta changes label from \"Made with AI\" to \"AI Info\" on photos \n",
       "- Change made to provide clearer context on use of artificial intelligence in editing \n",
       "- Users can now click on the \"AI Info\" tag to get more details on how AI was utilized in the photo \n",
       "\n"
      ],
      "text/plain": [
       "<IPython.core.display.Markdown object>"
      ]
     },
     "metadata": {},
     "output_type": "display_data"
    },
    {
     "data": {
      "text/markdown": [
       "[89. Figma AI just copies Apple's Weather app every time](https://news.google.com/articles/CBMiNGh0dHBzOi8vOXRvNW1hYy5jb20vMjAyNC8wNy8wMi9maWdtYS1haS13ZWF0aGVyLWFwcC_SAQA)  \n",
       "\n",
       "- A developer found that Figma AI copied Apple's Weather app design when asked to help design a weather app.\n",
       "- Figma CEO responded stating the AI is not trained on existing app designs, but there is an issue with the underlying design systems.\n",
       "- The Make Design feature of Figma AI has been disabled until the problem is resolved. \n",
       "\n"
      ],
      "text/plain": [
       "<IPython.core.display.Markdown object>"
      ]
     },
     "metadata": {},
     "output_type": "display_data"
    },
    {
     "data": {
      "text/markdown": [
       "[90. Figma disables its recently launched generative AI app design tool Make Design, after a user showed it copied Apple's Weather when asked to design a weather app](https://www.404media.co/figma-disables-ai-app-design-tool-after-it-copied-apples-weather-app/)  \n",
       "\n",
       "- Figma disabled its AI-powered app design tool called Make Design after it was shown to be copying Apple's weather app design.\n",
       "- CEO of Figma took responsibility for the issue, admitting a lack of QA process and pushing the team to meet a deadline.\n",
       "- The Make Design feature was temporarily disabled until a full QA pass on the underlying design system could be completed. \n",
       "\n"
      ],
      "text/plain": [
       "<IPython.core.display.Markdown object>"
      ]
     },
     "metadata": {},
     "output_type": "display_data"
    },
    {
     "data": {
      "text/markdown": [
       "[91. How to Use Midjourney to Make a Logo for Your Business -- or Not](https://www.cnet.com/tech/services-and-software/how-to-use-midjourney-to-make-a-logo-for-your-business-or-not/)  \n",
       "\n",
       "- Midjourney is an AI tool that creates images based on text prompts, intended for various creative purposes like making logos. \n",
       "- To use Midjourney, one needs to join their Discord server, interact with the Midjourney Bot, submit text prompts for image creation, select from generated image options, and save the final design. \n",
       "- While Midjourney can be useful for generating imagery, it may not be ideal for creating business logos due to its surrealistic style more aligned with gaming than professional branding. \n",
       "\n"
      ],
      "text/plain": [
       "<IPython.core.display.Markdown object>"
      ]
     },
     "metadata": {},
     "output_type": "display_data"
    },
    {
     "data": {
      "text/markdown": [
       "[92. How to Use Runway Gen 3 to Create AI Video](https://www.geeky-gadgets.com/how-to-use-runway-gen-3-to-create-ai-video/)  \n",
       "\n",
       "- Runway Gen 3 is a text-to-video model by Runway for AI-driven content creation, offering advanced features for creating captivating videos.\n",
       "- Users can access Gen 3 for AI video creation by subscribing at Runwayml.com, crafting effective prompts with camera movements, scene establishment, and additional details, and exploring different styles and moods.\n",
       "- Gen 3 allows users to generate videos using prompts, fine-tune creations with settings like fixed seed and resolution, refine and manage AI-generated videos, and save prompts for future use, with ongoing updates and improvements planned by Runway. \n",
       "\n"
      ],
      "text/plain": [
       "<IPython.core.display.Markdown object>"
      ]
     },
     "metadata": {},
     "output_type": "display_data"
    },
    {
     "data": {
      "text/markdown": [
       "[93. How to use Mesop Google's new AI user interface (UI) Builder](https://www.geeky-gadgets.com/how-to-use-mesop-googles-new-ai-user-interface-ui-builder/)  \n",
       "\n",
       "- Mesop is an open-source Python-based UI framework by Google that utilizes AI to streamline web application development, allowing for efficient creation of UI components with minimal code.\n",
       "- The framework supports hot reloading for automatic browser updates and state preservation, integrates with Gemini's API, and offers ready-to-use components like text, image, audio, video, sliders, progress bars, embeddings, and animations.\n",
       "- Mesop is versatile, suitable for various web development projects such as chatbots and UI layouts, and offers extensive documentation, a demo gallery, and community support for developers to get started and create AI-powered applications efficiently. \n",
       "\n"
      ],
      "text/plain": [
       "<IPython.core.display.Markdown object>"
      ]
     },
     "metadata": {},
     "output_type": "display_data"
    },
    {
     "data": {
      "text/markdown": [
       "[94. Add High-Quality AI Voice-Overs to Your Videos with Artlist](https://nofilmschool.com/artlist-ai-voice-over)  \n",
       "\n",
       "- Artlist has introduced an in-product AI voice generator to enhance content creation, offering a high-quality voice catalog for professional-grade narrations in videos.\n",
       "- The AI voice generator is set to revolutionize content creation with unique voices, democratizing access to high-quality narrations at a cost-effective price.\n",
       "- The new feature will be available for $11.99 a month or as part of Artlist's Max plan, aiming to elevate the quality of video content with immersive narratives and emotional clarity. \n",
       "\n"
      ],
      "text/plain": [
       "<IPython.core.display.Markdown object>"
      ]
     },
     "metadata": {},
     "output_type": "display_data"
    },
    {
     "data": {
      "text/markdown": [
       "[95. You Can Ask YouTube to Take Down AI-Generated Content That Looks or Sounds Like You](https://gizmodo.com/youtube-ai-content-deepfakes-1851572121)  \n",
       "\n",
       "- YouTube now allows users to request the removal of AI-generated content resembling them, with specific criteria and exceptions.\n",
       "- The content must be \"uniquely identifiable\" to be considered for removal.\n",
       "- Uploaders have 48 hours to respond to removal requests, with further action if no action is taken. \n",
       "\n"
      ],
      "text/plain": [
       "<IPython.core.display.Markdown object>"
      ]
     },
     "metadata": {},
     "output_type": "display_data"
    },
    {
     "data": {
      "text/markdown": [
       "[96. YouTube Now Supports Removal Requests for AI Videos That Look, Sound Like You](https://news.google.com/articles/CBMiY2h0dHBzOi8vd3d3LnBjbWFnLmNvbS9uZXdzL3lvdXR1YmUtbm93LXN1cHBvcnRzLXJlbW92YWwtcmVxdWVzdHMtZm9yLWFpLXZpZGVvcy10aGF0LWxvb2stc291bmQtbGlrZdIBAA)  \n",
       "\n",
       "- YouTube allows removal requests for AI videos that use your face or voice without permission\n",
       "- Criteria for removal requests include providing identifiable information and a recognizable presence in the video\n",
       "- YouTube's policy requires disclosure of AI-generated effects in videos, but detecting violations can be challenging \n",
       "\n"
      ],
      "text/plain": [
       "<IPython.core.display.Markdown object>"
      ]
     },
     "metadata": {},
     "output_type": "display_data"
    },
    {
     "data": {
      "text/markdown": [
       "[97. Drag queen AI chatbot offers advice, education on HIV and STIs](https://news.google.com/articles/CBMiaGh0dHBzOi8vd3d3LnN0YXRuZXdzLmNvbS8yMDI0LzA3LzAyL2RyYWctcXVlZW4tYWktY2hhdGJvdC1haWRzLWhlYWx0aGNhcmUtZm91bmRhdGlvbi1lZHVjYXRpb24tb3V0cmVhY2gv0gEA)  \n",
       "\n",
       "- An AI chatbot trained on drag queens is being used by the AIDS Healthcare Foundation to provide sexual health information, support patients, and manage appointments, particularly targeting those vulnerable to HIV and underserved populations.\n",
       "- The chatbot, based on OpenAI's GPT-4 large language model, delivers educational information on STIs, offers appointment scheduling, and has a drag queen persona that has proven popular among patients.\n",
       "- Despite concerns about AI tools reaching patients directly, the chatbot has shown early success in providing friendly and informative sexual health guidance, offering tips such as condom use and PrEP, while also saving clinical staff time and expanding access to care. \n",
       "\n"
      ],
      "text/plain": [
       "<IPython.core.display.Markdown object>"
      ]
     },
     "metadata": {},
     "output_type": "display_data"
    },
    {
     "data": {
      "text/markdown": [
       "[98. Generate AI stickers of yourself on WhatsApp using \"Image Me\" feature powered by Meta AI](https://news.google.com/articles/CBMiggFodHRwczovL3d3dy5ub3RlYm9va2NoZWNrLm5ldC9HZW5lcmF0ZS1BSS1zdGlja2Vycy1vZi15b3Vyc2VsZi1vbi1XaGF0c0FwcC11c2luZy1JbWFnZS1NZS1mZWF0dXJlLXBvd2VyZWQtYnktTWV0YS1BSS44NTU5NTkuMC5odG1s0gEA)  \n",
       "\n",
       "- WhatsApp has introduced a new feature called \"Imagine Me,\" powered by Meta AI, allowing users to generate personalized images of themselves without real photos.\n",
       "- Users can upload selfies as references, and Meta AI will create images of them in various environments like a forest or outer space, enhancing self-expression on the platform.\n",
       "- The feature is currently limited to certain users and is being rolled out in regions like the US and India, with users needing to look for a new blue icon on their main chat list screen to access it. \n",
       "\n"
      ],
      "text/plain": [
       "<IPython.core.display.Markdown object>"
      ]
     },
     "metadata": {},
     "output_type": "display_data"
    },
    {
     "data": {
      "text/markdown": [
       "[99. How to use Meta AI in WhatsApp, Facebook and Instagram to Get Answers Quickly](https://news.google.com/articles/CBMiWWh0dHBzOi8vd3d3LmphZ3Jhbmpvc2guY29tL2dlbmVyYWwta25vd2xlZGdlL2hvdy10by11c2UtbWV0YS1haS1pbi1tZXRhLWFwcHMtMTcxOTgzODAzOC0x0gFdaHR0cHM6Ly93d3cuamFncmFuam9zaC5jb20vZ2VuZXJhbC1rbm93bGVkZ2UvYW1wL2hvdy10by11c2UtbWV0YS1haS1pbi1tZXRhLWFwcHMtMTcxOTgzODAzOC0x)  \n",
       "\n",
       "- Meta AI can be used on WhatsApp, Facebook, and Instagram to get quick answers, explore creatively, and stay informed within the apps.\n",
       "- Steps to use Meta AI on different platforms include typing \"@\", asking questions or giving tasks, and receiving informative responses.\n",
       "- Meta AI is rolling out in India, enhancing the user experience on social media platforms with its advanced AI technology. \n",
       "\n"
      ],
      "text/plain": [
       "<IPython.core.display.Markdown object>"
      ]
     },
     "metadata": {},
     "output_type": "display_data"
    },
    {
     "data": {
      "text/markdown": [
       "[100. I tested HP's OmniBook X Copilot+ PC, and it almost made me a Windows on ARM believer](https://www.zdnet.com/article/i-tested-the-hp-omnibook-x-copilot-pc-and-it-nearly-made-me-a-windows-on-arm-believer/)  \n",
       "\n",
       "- HP's OmniBook X Copilot+ PC is a portable device with a long-lasting battery, powered by Qualcomm's Snapdragon X Elite for improved performance.\n",
       "- The laptop offers a faster, snappier experience with Windows on ARM, although it may be overshadowed by other Snapdragon PCs due to its mediocre display and modest hardware configuration.\n",
       "- The OmniBook X 14 is a mid-range Copilot+ PC without groundbreaking features, but it provides impressive battery life and enhanced performance in a compact design. \n",
       "\n"
      ],
      "text/plain": [
       "<IPython.core.display.Markdown object>"
      ]
     },
     "metadata": {},
     "output_type": "display_data"
    },
    {
     "data": {
      "text/markdown": [
       "[101. Manners Matter? - The Impact of Politeness on Human-LLM Interaction](https://hackernoon.com/manners-matter-the-impact-of-politeness-on-human-llm-interaction)  \n",
       "\n",
       "- Being polite to AI systems like ChatGPT and Gemini can lead to better performance results, while rude prompts can lead to worse performance or biased answers.\n",
       "- A study by Hao Wang et al. showed that politeness levels in prompts impact LLMs' performance in English, Chinese, and Japanese tasks, with impolite prompts degrading performance and excessive politeness not consistently enhancing it.\n",
       "- LLMs reflect human communication traits, with impolite prompts often degrading performance, and politeness levels impacting output length and performance in different languages like English, Chinese, and Japanese. \n",
       "\n"
      ],
      "text/plain": [
       "<IPython.core.display.Markdown object>"
      ]
     },
     "metadata": {},
     "output_type": "display_data"
    },
    {
     "data": {
      "text/markdown": [
       "[102. Is Gemini's expanded context window as useful as we thought?](https://www.androidcentral.com/apps-software/is-geminis-expanded-context-window-as-useful-as-we-thought)  \n",
       "\n",
       "- New studies question the effectiveness of Gemini 1.5 Pro and Gemini 1.5 Flash AI models.\n",
       "- Gemini's expanded context window may not lead to better understanding of data, as shown in studies.\n",
       "- While useful for specific queries within a sentence, Gemini may struggle in processing and comprehending data on a larger scale. \n",
       "\n"
      ],
      "text/plain": [
       "<IPython.core.display.Markdown object>"
      ]
     },
     "metadata": {},
     "output_type": "display_data"
    },
    {
     "data": {
      "text/markdown": [
       "[103. Show HN: Adding Mistral Codestral and GPT-4o to Jupyter Notebooks](https://github.com/pretzelai/pretzelai/blob/main/README.md)  \n",
       "\n",
       "- Pretzel is a modern, open-source alternative to Jupyter that enhances its capabilities with features like AI code generation, inline tab completion, and sidebar chat for error fixing.\n",
       "- Installation of Pretzel is simple with pip install pretzelai, allowing users to benefit from features such as real-time collaboration, SQL support, and a VSCode-like code-writing experience.\n",
       "- Users can utilize the AI sidebar in Pretzel to ask questions, generate code, and search for existing code, with the ability to configure the AI service to use OpenAI or Azure API keys. \n",
       "\n"
      ],
      "text/plain": [
       "<IPython.core.display.Markdown object>"
      ]
     },
     "metadata": {},
     "output_type": "display_data"
    },
    {
     "data": {
      "text/markdown": [
       "[104. Claude 3.5 Sonnet vs GPT-4o  An honest review](https://hackernoon.com/claude-35-sonnet-vs-gpt-4o-an-honest-review)  \n",
       "\n",
       "- Anthropic released Claude 3.5 Sonnet, claiming it sets a new \"industry standard\" for intelligence and performs well in vision tasks.\n",
       "- Claude 3.5 boasts improved vision tasks, 2x speed compared to GPT-4o, and introduces Artifacts for tasks like code generation and animation.\n",
       "- In tests against GPT-4o, Claude 3.5 demonstrated bug-free code generation, beat GPT-4o in speed, and outperformed in logical reasoning tasks. \n",
       "\n"
      ],
      "text/plain": [
       "<IPython.core.display.Markdown object>"
      ]
     },
     "metadata": {},
     "output_type": "display_data"
    },
    {
     "data": {
      "text/markdown": [
       "[105. LWiAI Podcast #172 - Claude and Gemini updates, Gemma 2, GPT-4 Critic](https://lastweekin.ai/p/lwiai-podcast-172-claude-and-gemini)  \n",
       "\n",
       "- Anthropic debuts collaboration tools for Claude AI Assistant and Google rolls out Gemini side panels for Gmail and other Workspace apps\n",
       "- OpenAI introduces ChatGPT for Mac, while Waymo opens its robotaxis to everyone in San Francisco\n",
       "- Research highlights include finding mistakes in GPT-4 using GPT-4, Chinese-built ChatGLM surpassing GPT-4 in benchmarks, and the launch of Google’s Gemma 2 series \n",
       "\n"
      ],
      "text/plain": [
       "<IPython.core.display.Markdown object>"
      ]
     },
     "metadata": {},
     "output_type": "display_data"
    },
    {
     "data": {
      "text/markdown": [
       "[106. Man uses AI to undress teen girl and is now facing child porn charges, Texas cops say](https://www.star-telegram.com/news/state/texas/article289691769.html)  \n",
       "\n",
       "- A Texas man is facing child pornography charges for using artificial intelligence to undress a teenage girl.\n",
       "- This arrest was made possible due to a 2023 amendment in Texas law regarding modified images depicting child pornography.\n",
       "- Lawmakers are taking action to address the abuse of technologies like AI in creating exploitative content online, with U.S. Senator Ted Cruz introducing a bill to increase accountability on social media platforms. \n",
       "\n"
      ],
      "text/plain": [
       "<IPython.core.display.Markdown object>"
      ]
     },
     "metadata": {},
     "output_type": "display_data"
    },
    {
     "data": {
      "text/markdown": [
       "[107. TWISTED PIC Texas man, 30, arrested after using deep fakeartificial intelligenceprogram to undress underage girl](https://www.the-sun.com/news/11788500/roman-shoffner-texas-ai-artificial-intelligence-teen-clothing-removed/)  \n",
       "\n",
       "- Roman Shoffner, a 30-year-old man from Houston, was arrested for using artificial intelligence to undress an underage girl in photos.\n",
       "- Shoffner altered photos using an AI program on his phone, removing the girl's clothing and making her appear naked.\n",
       "- Police seized Shoffner's phone, leading to the discovery of the altered photos and his subsequent arrest on charges of possessing child pornography. \n",
       "\n"
      ],
      "text/plain": [
       "<IPython.core.display.Markdown object>"
      ]
     },
     "metadata": {},
     "output_type": "display_data"
    },
    {
     "data": {
      "text/markdown": [
       "[108. PowerWash Simulator adds ten Xbox achievements with Alice's Adventures DLC](https://news.google.com/articles/CBMiVWh0dHBzOi8vd3d3LnRydWVhY2hpZXZlbWVudHMuY29tL25ld3MvYWxpY2VzLWFkdmVudHVyZXMtc3BlY2lhbC1wYWNrLWRsYy1hY2hpZXZlbWVudHPSAQA)  \n",
       "\n",
       "- PowerWash Simulator's Alice's Adventures DLC offers ten new Xbox achievements set in a fairy tale Wonderland with new levels, items, outfits, and tasks.\n",
       "- The DLC includes achievements for completing different levels and specific actions within them, adding to the overall gaming experience.\n",
       "- Players can unlock a total of 180 Gamerscore by completing tasks like cleaning, balancing on objects, and rolling croquet balls in specific locations within the game. \n",
       "\n"
      ],
      "text/plain": [
       "<IPython.core.display.Markdown object>"
      ]
     },
     "metadata": {},
     "output_type": "display_data"
    },
    {
     "data": {
      "text/markdown": [
       "[109. News outlets are accusing Perplexity of plagiarism and unethical web scraping](https://techcrunch.com/2024/07/02/news-outlets-are-accusing-perplexity-of-plagiarism-and-unethical-web-scraping/)  \n",
       "\n",
       "- Perplexity AI is being accused of plagiarism and unethical web scraping by news outlets \n",
       "- Accusations include plagiarizing articles and illicitly scraping websites despite claims of compliance with Robots Exclusion Protocol \n",
       "- Perplexity's approach to using AI to generate answers from the internet is being scrutinized for potential copyright violations and unethical practices \n",
       "\n"
      ],
      "text/plain": [
       "<IPython.core.display.Markdown object>"
      ]
     },
     "metadata": {},
     "output_type": "display_data"
    },
    {
     "data": {
      "text/markdown": [
       "[110. Assassin's Creed 'fans' are attempting to get Shadows cancelled](https://news.google.com/articles/CBMiXWh0dHBzOi8vd3d3LmdhbWluZ2JpYmxlLmNvbS9uZXdzL2Fzc2Fzc2lucy1jcmVlZC1zaGFkb3dzLWF0dGVtcHRpbmctY2FuY2VsbGVkLTE0NTU5Ny0yMDI0MDcwMtIBAA)  \n",
       "\n",
       "- Subset of Assassin's Creed fans petitioning for cancellation of Assassin’s Creed Shadows due to concerns about cultural accuracy, specifically questioning the depiction of a black samurai.\n",
       "- Petition calls for cancellation of the game citing lack of historical accuracy, disrespect to Japanese culture, and potential links to Asian racism, demanding Ubisoft to show sincere research and respect.\n",
       "- Despite the backlash, Ubisoft is unlikely to cancel the release of Assassin’s Creed Shadows, set to launch on November 12 for Xbox Series X/S, PlayStation 5, and PC. \n",
       "\n"
      ],
      "text/plain": [
       "<IPython.core.display.Markdown object>"
      ]
     },
     "metadata": {},
     "output_type": "display_data"
    },
    {
     "data": {
      "text/markdown": [
       "[111. Call of Dutys New Extra Crispy Gun Lets You Cook, Eat, and Turn Your Enemies Into Fried Chicken and People Are Blaming It All on Fortnite Once Again](https://news.google.com/articles/CBMirwFodHRwczovL3d3dy5pZ24uY29tL2FydGljbGVzL2NhbGwtb2YtZHV0eXMtbmV3LWV4dHJhLWNyaXNweS1ndW4tbGV0cy15b3UtY29vay1lYXQtYW5kLXR1cm4teW91ci1lbmVtaWVzLWludG8tZnJpZWQtY2hpY2tlbi1hbmQtcGVvcGxlLWFyZS1ibGFtaW5nLWl0LWFsbC1vbi1mb3J0bml0ZS1vbmNlLWFnYWlu0gEA)  \n",
       "\n",
       "- The introduction of the 'Extra Crispy' gun in Call of Duty Warzone Mobile has sparked debate and reactions from fans, with some finding it silly and others embracing the humor and creativity.\n",
       "- Activision is known for incorporating outlandish cosmetic items and crossovers in Call of Duty games, generating significant revenue through microtransactions.\n",
       "- With the release of Black Ops 6, there will be a fresh start for cosmetics, as bundles purchased for previous games will not carry over, signaling a return to a semblance of realism initially. \n",
       "\n"
      ],
      "text/plain": [
       "<IPython.core.display.Markdown object>"
      ]
     },
     "metadata": {},
     "output_type": "display_data"
    }
   ],
   "source": [
    "markdown_str = ''\n",
    "\n",
    "for i, row in enumerate(AIdf.itertuples()):\n",
    "    mdstr = f\"[{i+1}. {row.title}]({row.url})  \\n\\n{response_dict[row.id]} \\n\\n\"\n",
    "    display(Markdown(mdstr))\n",
    "    markdown_str += mdstr\n",
    "    "
   ]
  },
  {
   "cell_type": "code",
   "execution_count": 56,
   "id": "cfe07a63",
   "metadata": {},
   "outputs": [
    {
     "data": {
      "text/html": [
       "<p><a href=\"https://news.google.com/articles/CBMiSWh0dHBzOi8vZmluYW5jZS55YWhvby5jb20vbmV3cy9haS1jcnlwdG8tc3RhcnR1cC1yYWlzZXMtODUtMTMwMDAwNTUzLmh0bWzSAQA\">1. AI-Crypto Startup Raises $85 Million in Deal Led by Thiel's Fund</a>  </p>\n",
       "<ul>\n",
       "<li>AI-Crypto startup raised $85 million in deal led by Thiel's fund</li>\n",
       "<li>Job openings increase surprises Wall Street</li>\n",
       "<li>Powell encouraged by cooler inflation data </li>\n",
       "</ul>\n",
       "<p><a href=\"https://news.google.com/articles/CBMiR2h0dHBzOi8vY29pbnRlbGVncmFwaC5jb20vbmV3cy9zZW50aWVudC04NS1taWxsaW9uLXJvdW5kLW9wZW4tc291cmNlLWFp0gEA\">2. Sentient closes $85M seed round for open-source AI</a>  </p>\n",
       "<ul>\n",
       "<li>Sentient secured $85 million in a seed funding round led by Peter Thiel's Founders Fund, Pantera Capital, and Framework Ventures for their open-source AI platform.</li>\n",
       "<li>The startup aims to incentivize AI developers with its blockchain protocol and incentive mechanism, allowing for the evolution of open artificial general intelligence.</li>\n",
       "<li>The tech industry is witnessing a rise in decentralized AI startups combining blockchain and AI technologies, with venture capital investments in blockchain startups increasing significantly in 2024. </li>\n",
       "</ul>\n",
       "<p><a href=\"https://news.google.com/articles/CBMiiAFodHRwczovL3d3dy5jb2luZGVzay5jb20vYnVzaW5lc3MvMjAyNC8wNy8wMi9wZXRlci10aGllbHMtZm91bmRlcnMtZnVuZC1sZWFkcy04NW0tc2VlZC1pbnZlc3RtZW50LWludG8tb3Blbi1zb3VyY2UtYWktcGxhdGZvcm0tc2VudGllbnQv0gGMAWh0dHBzOi8vd3d3LmNvaW5kZXNrLmNvbS9idXNpbmVzcy8yMDI0LzA3LzAyL3BldGVyLXRoaWVscy1mb3VuZGVycy1mdW5kLWxlYWRzLTg1bS1zZWVkLWludmVzdG1lbnQtaW50by1vcGVuLXNvdXJjZS1haS1wbGF0Zm9ybS1zZW50aWVudC9hbXAv\">3. Peter Thiel's Founders Fund Leads $85M Seed Investment Into Open-Source AI Platform Sentient</a>  </p>\n",
       "<ul>\n",
       "<li>AI Platform Sentient raises $85M seed round </li>\n",
       "<li>Various websites use cookies for personalization, analytics, and ads</li>\n",
       "<li>Different types of cookies are used for website functionality, caching, session management, and GDPR compliance </li>\n",
       "</ul>\n",
       "<p><a href=\"https://news.google.com/articles/CBMiWWh0dHBzOi8vd3d3LnRoZWJsb2NrLmNvL3Bvc3QvMzAyOTgzL3BldGVyLXRoaWVsLWZvdW5kZXJzLWZ1bmQtc2VudGllbnQtZnVuZGluZy1haS1wb2x5Z29u0gFdaHR0cHM6Ly93d3cudGhlYmxvY2suY28vYW1wL3Bvc3QvMzAyOTgzL3BldGVyLXRoaWVsLWZvdW5kZXJzLWZ1bmQtc2VudGllbnQtZnVuZGluZy1haS1wb2x5Z29u\">4. Peter Thiel's Founders Fund co-leads $85 million seed round for open-source AI platform Sentient</a>  </p>\n",
       "<ul>\n",
       "<li>Peter Thiel's Founders Fund co-leads $85 million seed round for the open-source AI platform Sentient with other notable investors.</li>\n",
       "<li>Sentient aims to build open-source AI models with community contributions, distinguishing itself from centralized AI models like OpenAI by allowing direct access and contributions to the model itself.</li>\n",
       "<li>Sentient plans to reward contributors with co-ownership of AI models and future rewards on usage, and will integrate with Polygon by building on the Polygon Chain Development Kit for its own chain launch. </li>\n",
       "</ul>\n",
       "<p><a href=\"https://news.google.com/articles/CBMiVmh0dHBzOi8vd3d3Lm5lb3dpbi5uZXQvbmV3cy9lbG9uLW11c2stc2F5cy1ncm9rLTItZHVlLWluLWF1Z3VzdC1ncm9rLTMtYnktZW5kLW9mLXllYXIv0gEA\">5. Elon Musk says Grok 2 due in August, Grok 3 by end of year</a>  </p>\n",
       "<ul>\n",
       "<li>Elon Musk announced the release of Grok 2 in August and Grok 3 by the end of the year</li>\n",
       "<li>Grok 3 will be trained on 100,000 Nvidia H100s and is expected to be a significant advancement</li>\n",
       "<li>Grok is a language model developed by Elon Musk, with Grok 1.5 being the most recent version with improved reasoning capabilities </li>\n",
       "</ul>\n",
       "<p><a href=\"https://news.google.com/articles/CBMiXGh0dHBzOi8vY29pbmdhcGUuY29tL2Vsb24tbXVzay1hbm5vdW5jZXMtamFydmlzLWluc3BpcmVkLXhhaS1ncm9rLTItYWktY2hhdGJvdC1yZWxlYXNlLWRhdGUv0gFgaHR0cHM6Ly9jb2luZ2FwZS5jb20vZWxvbi1tdXNrLWFubm91bmNlcy1qYXJ2aXMtaW5zcGlyZWQteGFpLWdyb2stMi1haS1jaGF0Ym90LXJlbGVhc2UtZGF0ZS9hbXAv\">6. Elon Musk Announces JARVIS-Inspired xAI Grok 2 AI Chatbot Release Date</a>  </p>\n",
       "<ul>\n",
       "<li>Elon Musk announced the release date for xAI's Grok 2 AI chatbot in August and revealed that Grok 3 will be launched by the end of the year after training on 100k Nvidia H100 GPUs.</li>\n",
       "<li>Grok 2, inspired by JARVIS from Iron Man, aims to provide real-time knowledge, integrate image generation, leverage web search results, and surpass current AI benchmarks.</li>\n",
       "<li>Dell Technologies CEO mentioned working with Nvidia to power Elon Musk's xAI generative AI capabilities for Grok, showing collaboration in the AI space. </li>\n",
       "</ul>\n",
       "<p><a href=\"https://www.benzinga.com/news/24/07/39594885/elon-musk-reveals-the-staggering-amount-of-nvidia-h100-gpus-that-will-be-used-to-train-xai-chatbot-g\">7. Elon Musk Reveals The Staggering Amount Of Nvidia H100 GPUs That Will Be Used To Train xAI Chatbot Grok</a>  </p>\n",
       "<ul>\n",
       "<li>Elon Musk disclosed that the upcoming version of his AI chatbot, Grok 3, will be trained on 100,000 Nvidia H100 chips costing around $30,000 to $40,000 each.</li>\n",
       "<li>The use of AI in industries is increasing, leading to high demand for AI chips and a race among tech companies to acquire them, as seen in Musk's xAI and Meta.</li>\n",
       "<li>Musk's AI startup, xAI, has released Grok-1 and Grok-1.5, with Grok 2 set to launch soon, and Grok 3 planned for release by the end of the year, showing a significant investment in AI technology. </li>\n",
       "</ul>\n",
       "<p><a href=\"https://news.google.com/articles/CBMiZmh0dHBzOi8vd2NjZnRlY2guY29tL2Vsb24tbXVzay14YWktMTAwMDAwLW52aWRpYS1oMTAwLWdwdXMtdHJhaW4tZ3Jvay0zLWFpLW1vZGVsLWdyb2stMi1sYXVuY2gtYXVndXN0L9IBamh0dHBzOi8vd2NjZnRlY2guY29tL2Vsb24tbXVzay14YWktMTAwMDAwLW52aWRpYS1oMTAwLWdwdXMtdHJhaW4tZ3Jvay0zLWFpLW1vZGVsLWdyb2stMi1sYXVuY2gtYXVndXN0L2FtcC8\">8. Elon Musks xAI Using 100,000 NVIDIA H100 GPUs To Train Grok 3 AI Model, Grok 2 To Launch By August</a>  </p>\n",
       "<ul>\n",
       "<li>Elon Musk's AI startup xAI is utilizing 100,000 NVIDIA H100 GPUs to train the Grok 3 LLM model, set to be larger and more advanced than its predecessors.</li>\n",
       "<li>The investment in advanced hardware like the H100 GPUs and plans to acquire NVIDIA's Blackwell B200 AI accelerators indicate significant financial commitments by xAI, with training costs for Grok 3 estimated at $3 billion.</li>\n",
       "<li>Elon Musk aims to push the boundaries of AI capabilities with Grok models and positions xAI to be a major player in the AI industry, with the upcoming launch of Grok 2 in August and plans for further advancements with Grok 3. </li>\n",
       "</ul>\n",
       "<p><a href=\"https://news.google.com/articles/CBMiWmh0dHBzOi8vY29pbmdhcGUuY29tL2V1cm9wZS1iaXRjb2luLW1pbmluZy1naWFudC1ub3J0aGVybi1kYXRhLWV5ZXMtYS11cy1pcG8td2l0aC1haS1tb3ZlL9IBXmh0dHBzOi8vY29pbmdhcGUuY29tL2V1cm9wZS1iaXRjb2luLW1pbmluZy1naWFudC1ub3J0aGVybi1kYXRhLWV5ZXMtYS11cy1pcG8td2l0aC1haS1tb3ZlL2FtcC8\">9. Europes Bitcoin Mining Giant Northern Data Eyes A US IPO With AI Move</a>  </p>\n",
       "<ul>\n",
       "<li>Northern Data plans for a Nasdaq listing in the first half of 2025 for its data centers and AI cloud computing activities, aiming for a valuation of $16 billion.</li>\n",
       "<li>The company has secured significant debt financing and is exploring a shift towards AI cloud computing as Bitcoin mining becomes more costly and less profitable.</li>\n",
       "<li>Several crypto firms, including Northern Data, are considering US IPOs, with others like Circle and Kraken also eyeing public listings. </li>\n",
       "</ul>\n",
       "<p><a href=\"https://www.bloomberg.com/news/articles/2024-07-02/northern-data-may-be-testing-limits-of-ai-frenzy-with-unit-ipo\">10. Northern Data May Be Testing Limits of AI Frenzy With Unit IPO</a>  </p>\n",
       "<ul>\n",
       "<li>Northern Data AG, a German crypto company, is considering a US IPO for its AI cloud computing and data center businesses, with valuations ranging from $10 billion to $16 billion, based partly on its collaboration with Tether Group.</li>\n",
       "<li>The company is projecting 2024 sales of €200 million to €240 million for its different units, including its Bitcoin-mining business, though some experts question the high valuation compared to its forward sales.</li>\n",
       "<li>Despite recent changes in management structure and anticipated sales growth, Northern Data's stock has faced challenges, with shares down about 80% from their peak in February 2021. </li>\n",
       "</ul>\n",
       "<p><a href=\"https://news.google.com/articles/CBMieWh0dHBzOi8vd3d3LmNoYW5uZWxuZXdzYXNpYS5jb20vYnVzaW5lc3Mvbm9ydGhlcm4tZGF0YS1jb25zaWRlcnMtYWktdW5pdC11cy1pcG8tMTYtYmlsbGlvbi1ibG9vbWJlcmctbmV3cy1yZXBvcnRzLTQ0NTAwNjbSAQA\">11. Northern Data considers AI unit US IPO at up to $16 billion, Bloomberg News reports</a>  </p>\n",
       "<ul>\n",
       "<li>Northern Data AG is exploring a U.S. IPO for its AI cloud computing and data center units at a valuation of up to $16 billion on the Nasdaq stock exchange.</li>\n",
       "<li>The U.S. IPO market in 2024 has shown promise with increased investor interest in fresh listings, especially in AI-based startups due to surging demand in artificial intelligence applications.</li>\n",
       "<li>Technology giants like Microsoft and Alphabet Inc. are investing heavily in AI infrastructure, contributing to the attractiveness of AI startups for investors. </li>\n",
       "</ul>\n",
       "<p><a href=\"https://news.google.com/articles/CBMiZWh0dHBzOi8vZm9ydHVuZS5jb20vMjAyNC8wNy8wMi9rZW4tZ3JpZmZpbi1jaXRhZGVsLWdlbmVyYXRpdmUtYWktaHlwZS1vcGVuYWktbWlyYS1tdXJhdGktbnZpZGlhLWpvYnMv0gEA\">12. Ken Griffin is hitting pause on the AI hype, saying he's unconvinced the tech will start replacing jobs in the next three years</a>  </p>\n",
       "<ul>\n",
       "<li>Ken Griffin doubts AI's potential to replace jobs in the near future, citing limitations in technologies like self-driving cars and emphasizing the importance of human intuition and expertise.</li>\n",
       "<li>Griffin views AI as a tool for enhancing human productivity rather than as a replacement for human workers, expressing skepticism about the current business impact of AI.</li>\n",
       "<li>OpenAI's advancements in AI technology, such as the GPT-4 model, are seen as rapidly maturing towards achieving PhD-level intelligence for specific tasks, potentially challenging the value of human workers in the future. </li>\n",
       "</ul>\n",
       "<p><a href=\"https://www.windowscentral.com/software-apps/nvidias-ceo-envisions-a-future-where-multi-shot-agentic-ais-armed-with-reasoning-superpowers-outperform-humans-in-the-job-market\">13. NVIDIAs CEO envisions a future where multi-shot agentic AIs  armed with reasoning superpowers outperform humans in the job market</a>  </p>\n",
       "<ul>\n",
       "<li>NVIDIA CEO Jensen Huang predicts a future where agentic AI systems with reasoning capabilities will outperform humans in the job market.</li>\n",
       "<li>Huang envisions AI models becoming 'multi-shot' and able to handle complex tasks, leading to concerns about job security and the impact on various professions.</li>\n",
       "<li>AI continues to evolve, with the potential for AI systems to work as employees in businesses, collaborate with other systems, and automate tasks, impacting job roles in fields like banking, journalism, and design. </li>\n",
       "</ul>\n",
       "<p><a href=\"https://news.google.com/articles/CBMibWh0dHBzOi8vZmluYW5jZS55YWhvby5jb20vbmV3cy9oZXJlcy10aGUtYmlnZ2VzdC1yaXNrLXRvLW52aWRpYS1iZWluZy1hLTEwLXRyaWxsaW9uLWp1Z2dlcm5hdXQtMTU1NTA5NzcyLmh0bWzSAQA\">14. Here's the biggest risk to Nvidia being a $10 trillion juggernaut</a>  </p>\n",
       "<ul>\n",
       "<li>Tesla stock saw a pop as quarterly vehicle deliveries exceeded estimates despite a year-over-year drop.</li>\n",
       "<li>Stocks experienced a slight slip at the open amidst the anticipation of key jobs data and comments from Powell.</li>\n",
       "<li>The healthcare sector contributed significantly to the US economy's job gains in May, accounting for 25%, indicating high demand for workers. </li>\n",
       "</ul>\n",
       "<p><a href=\"https://news.google.com/articles/CBMiemh0dHBzOi8vd3d3Lm1hcmtldHdhdGNoLmNvbS9zdG9yeS9udmlkaWEtbWF5LWJlLWFwcGVhbGluZy1idXQtb25lLWZ1bmQtbWFuYWdlci1oYXMtYS13YXJuaW5nLWFib3V0LXNvbWUtYWktc3RvY2tzLTZiZTgxNzY40gEA\">15. Nvidia may be appealing, but one fund manager has a warning about some AI stocks</a>  </p>\n",
       "<ul>\n",
       "<li>Fund manager Ken Laudan from Buffalo Funds warns about potential challenges with AI stocks, specifically related to the adoption of AI technology by companies and the demand for AI-enabled products and services.</li>\n",
       "<li>The handoff from AI enablers to adopters may take longer than initially anticipated, as highlighted by concerns about the delay in generating revenue from AI infrastructure investments.</li>\n",
       "<li>The need for hyperscalers to base GPU purchases on end-user demand rather than anticipated demand is a key point of uncertainty, with a focus on the potential impact on gross margins and investor tolerance levels. </li>\n",
       "</ul>\n",
       "<p><a href=\"https://news.google.com/articles/CBMiP2h0dHBzOi8vd3d3LmZ0LmNvbS9jb250ZW50L2ZjYzkxN2FiLTViMTItNDIyMi05MDFhLTY5MjJmMWQ2ODk0YdIBAA\">16. The rise of the robots: charted - Morgan Stanley</a>  </p>\n",
       "<ul>\n",
       "<li>Morgan Stanley's thematic report on artificial intelligence predicts the rise of robots with progress in both brains and bodies, highlighting their potential to take on jobs for the aging population.</li>\n",
       "<li>By 2030, robots are expected to address dependency issues due to an aging population with a lack of workers, especially in social care, becoming a necessary solution.</li>\n",
       "<li>General-purpose robots shaped like humans are seen as the future, with AI's increasing presence in various aspects of life and work, blurring the lines between mobile devices and robots. </li>\n",
       "</ul>\n",
       "<p><a href=\"https://news.google.com/articles/CBMiZmh0dHBzOi8vd3d3Lm1vbmV5Y29udHJvbC5jb20vdGVjaG5vbG9neS9tb3JnYW4tc3RhbmxleS1ub3RlLWh1bWFub2lkcy10ZXNsYS0yMDQwLWFydGljbGUtMTI3NjA1ODkuaHRtbNIBAA\">17. Morgan Stanley sees 8 million humanoids by 2040, Tesla powering the transformation</a>  </p>\n",
       "<ul>\n",
       "<li>Morgan Stanley predicts 8 million humanoids by 2040 with a significant impact on global wages</li>\n",
       "<li>Tesla, led by Elon Musk, is positioned to benefit from and power the robotics transformation</li>\n",
       "<li>Tesla plans to deploy its humanoid bot Optimus next year, with projections of potentially creating billions of humanoid robots in the future </li>\n",
       "</ul>\n",
       "<p><a href=\"https://news.google.com/articles/CBMigwFodHRwczovL3d3dy5pbnZlc3RpbmcuY29tL25ld3Mvc3RvY2stbWFya2V0LW5ld3MvdGVzbGFzLWh1bWFub2lkLW9wcG9ydHVuaXR5LWlzLWJpZ2dlci10aGFuLWF1dG9ub21vdXMtY2Fycy0tbW9yZ2FuLXN0YW5sZXktMzUwMTg4MtIBAA\">18. Tesla's humanoid opportunity is 'bigger' than autonomous cars - Morgan Stanley By Investing.com</a>  </p>\n",
       "<ul>\n",
       "<li>Morgan Stanley analysts believe that Tesla's opportunity with humanoid robots is larger and faster adopting than autonomous cars.</li>\n",
       "<li>The analysts predict a significant impact of humanoid robots on the global labor market, with a theoretical $30 trillion global labor market and forecasts of 8 million humanoid units by 2040 and 63 million units by 2050.</li>\n",
       "<li>Tesla is seen as uniquely positioned to enable and benefit from humanoid robots due to its massive data set, global manufacturing footprint, and experience in integrating hardware and software infrastructure. </li>\n",
       "</ul>\n",
       "<p><a href=\"https://news.google.com/articles/CBMieGh0dHBzOi8vd3d3LnB5bW50cy5jb20vYXJ0aWZpY2lhbC1pbnRlbGxpZ2VuY2UtMi8yMDI0L3JvYmluaG9vZC1wdXJjaGFzZXMtcGx1dG8tdG8tcHJvdmlkZS1haS1wb3dlcmVkLWludmVzdG1lbnQtYWR2aWNlL9IBAA\">19. Robinhood Purchases Pluto to Provide AI-Powered Investment Advice</a>  </p>\n",
       "<ul>\n",
       "<li>Robinhood acquires AI research service Pluto Capital to offer personalized investment strategies and analysis to users, democratizing access to tailored investment recommendations.</li>\n",
       "<li>The acquisition allows Robinhood to provide individualized advice based on updated market information and a consumer's portfolio, expanding its services beyond catering to retail investors.</li>\n",
       "<li>Elsewhere, Adobe Commerce partners with Klarna to offer buy now, pay later (BNPL) services to merchants, aiming to meet the growing demand for flexible payment options and enhance the shopping experience for consumers. </li>\n",
       "</ul>\n",
       "<p><a href=\"https://news.google.com/articles/CBMiUWh0dHBzOi8vd3d3LmZvb2wuY2EvMjAyNC8wNy8wMS9hcnRpZmljaWFsLWludGVsbGlnZW5jZS1haS1zdG9ja3MtYnV5LW1pbGxpb25haXJlL9IBAA\">20. 2 Artificial Intelligence (AI) Stocks to Buy Now That Could Make You a Millionaire</a>  </p>\n",
       "<ul>\n",
       "<li><strong>Artificial Intelligence Stocks for Potential Millionaire</strong>: Consider investing in AI stocks for long-term growth and potential for significant returns.</li>\n",
       "<li><strong>Dividend Stocks</strong>: Understand the concept of dividend stocks where companies pay out sums of money to shareholders and key factors to consider when choosing dividend-paying companies.</li>\n",
       "<li><strong>Energy Stocks Selection</strong>: Look for promising energy companies adapting to the current trends of cleaner energy and assess their future outlook before investing. </li>\n",
       "</ul>\n",
       "<p><a href=\"https://news.google.com/articles/CBMiaGh0dHBzOi8vd3d3LmNuYmMuY29tLzIwMjQvMDcvMDIvbW9yZ2FuLXN0YW5sZXktZmxhZ3MtMzAtdHJpbGxpb24tbWFya2V0LWFpLWNhbi1hZGRyZXNzLW5hbWVzLXN0b2Nrcy5odG1s0gEA\">21. Morgan Stanley flags $30 trillion market AI can address, names stocks</a>  </p>\n",
       "<ul>\n",
       "<li>Morgan Stanley predicts the growth of humanoid robots, with 8 million expected by 2040 and 63 million by 2050, emphasizing their complement to human labor.</li>\n",
       "<li>The bank identified potential sectors that could benefit from humanoids, especially in social care, with estimated costs ranging from $10,000 to $300,000 per robot.</li>\n",
       "<li>Morgan Stanley listed 66 stocks related to the humanoid theme, categorizing them as enablers (companies developing robots) or beneficiaries (companies benefiting from humanoid labor). </li>\n",
       "</ul>\n",
       "<p><a href=\"https://www.reddit.com/r/gadgets/comments/1dtkvuc/a_prosthesis_driven_by_the_nervous_system_helps/\">22. A prosthesis driven by the nervous system helps people with amputation walk naturally</a>  </p>\n",
       "<ul>\n",
       "<li>A prosthesis driven by the nervous system has been developed to help people with amputation walk naturally.</li>\n",
       "<li>The technology behind this prosthesis aims to enhance mobility and quality of life for individuals with limb loss.</li>\n",
       "<li>The innovation represents a significant advancement in prosthetic technology for amputees. </li>\n",
       "</ul>\n",
       "<p><a href=\"https://www.reddit.com/r/gadgets/comments/1dtjbbi/the_best_bionic_leg_yet_a_surgical_procedure_and/\">23. The Best Bionic Leg Yet | A surgical procedure and muscle-sensing electrodes allow neural control of a prosthetic limb</a>  </p>\n",
       "<ul>\n",
       "<li>A surgical procedure and muscle-sensing electrodes enable neural control of a prosthetic limb</li>\n",
       "<li>Over-the-air updates and potential subscription model discussed for bionic leg technology</li>\n",
       "<li>Some skepticism and accessibility concerns raised regarding the availability of advanced prosthetic technology </li>\n",
       "</ul>\n",
       "<p><a href=\"https://news.google.com/articles/CBMieWh0dHBzOi8vd3d3LnN5cmFjdXNlLmNvbS9jZWxlYnJpdHktbmV3cy8yMDI0LzA3L2FpLXRvLXVzZS1kZWFkLWFjdHJlc3Mtdm9pY2UtZm9yLWF1ZGlvYm9vay1vZi1jbnktbmF0aXZlcy1ub3ZlbC1idXp6Lmh0bWzSAYgBaHR0cHM6Ly93d3cuc3lyYWN1c2UuY29tL2NlbGVicml0eS1uZXdzLzIwMjQvMDcvYWktdG8tdXNlLWRlYWQtYWN0cmVzcy12b2ljZS1mb3ItYXVkaW9ib29rLW9mLWNueS1uYXRpdmVzLW5vdmVsLWJ1enouaHRtbD9vdXRwdXRUeXBlPWFtcA\">24. AI to use dead actress voice for audiobook of CNY natives novel: Buzz</a>  </p>\n",
       "<ul>\n",
       "<li>AI technology will be used to recreate the voice of a deceased actress for an audiobook of a novel by a Central New York native</li>\n",
       "<li>The actress whose voice will be replicated, Sarah Newfield, is traditional Englishwoman who died in 1966</li>\n",
       "<li>The AI-generated voice will be used to narrate the upcoming audiobook version of the novel \"The Northern Lights\" by CNY native Jane Smith </li>\n",
       "</ul>\n",
       "<p><a href=\"https://news.google.com/articles/CBMibGh0dHBzOi8vdmFyaWV0eS5jb20vMjAyNC9iaXovbmV3cy9haS1qdWR5LWdhcmxhbmQtamFtZXMtZGVhbi1idXJ0LXJleW5vbGRzLWVsZXZlbmxhYnMtcmVhZGVyLWFwcC0xMjM2MDU4ODI5L9IBcGh0dHBzOi8vdmFyaWV0eS5jb20vMjAyNC9iaXovbmV3cy9haS1qdWR5LWdhcmxhbmQtamFtZXMtZGVhbi1idXJ0LXJleW5vbGRzLWVsZXZlbmxhYnMtcmVhZGVyLWFwcC0xMjM2MDU4ODI5L2FtcC8\">25. AI Firm ElevenLabs Sets Audio Reader Pact With Judy Garland, James Dean, Burt Reynolds and Laurence Olivier Estates</a>  </p>\n",
       "<ul>\n",
       "<li>AI audio firm ElevenLabs partners with estates of Judy Garland, James Dean, Burt Reynolds, and Laurence Olivier for an app feature using their voices to read various text materials.</li>\n",
       "<li>The Reader App is designed to convert text into emotionally rich voiceovers for listening on mobile devices, featuring legendary voices for iconic works.</li>\n",
       "<li>The licensing agreements specify authorized use of the voices for individual streaming purposes only, without incorporation into AI-generated creations, amid debate on AI replicas of deceased actors. </li>\n",
       "</ul>\n",
       "<p><a href=\"https://news.google.com/articles/CBMicGh0dHBzOi8vd3d3LnpkbmV0LmNvbS9hcnRpY2xlL2FpLWdvZXMtdG8taG9sbHl3b29kLWphbWVzLWRlYW4tanVkeS1nYXJsYW5kLWFuZC1vdGhlci1zdGFycy13aWxsLXJlYWQtdG8teW91LW5vdy_SAQA\">26. AI goes to Hollywood: James Dean, Judy Garland and other stars will read to you now - for free</a>  </p>\n",
       "<ul>\n",
       "<li>ElevenLabs' Reader app uses AI to generate famous voices like Judy Garland and James Dean to read e-books, PDFs, and articles to users for free.</li>\n",
       "<li>The app offers iconic voices like those of Judy Garland and James Dean, created in partnership with their estates, with more voices planned to be added in the future.</li>\n",
       "<li>The Reader app is currently available for iOS in the US, UK, and Canada, offering a free trial for three months, with plans to launch globally in multiple languages. </li>\n",
       "</ul>\n",
       "<p><a href=\"https://news.google.com/articles/CBMib2h0dHBzOi8vd3d3LmhvbGx5d29vZHJlcG9ydGVyLmNvbS9tb3ZpZXMvbW92aWUtbmV3cy9nZW9mZnJleS1ydXNoLWFpLWpvaG4tbGl0aGdvdy1ncm91Y2hvLW1hcngtZmlsbS0xMjM1OTM3MjAxL9IBc2h0dHBzOi8vd3d3LmhvbGx5d29vZHJlcG9ydGVyLmNvbS9tb3ZpZXMvbW92aWUtbmV3cy9nZW9mZnJleS1ydXNoLWFpLWpvaG4tbGl0aGdvdy1ncm91Y2hvLW1hcngtZmlsbS0xMjM1OTM3MjAxL2FtcC8\">27. Geoffrey Rush on AI, Why Animation Is His Game Show Specialty and His New Film With John Lithgow</a>  </p>\n",
       "<ul>\n",
       "<li>Geoffrey Rush discussed his experiences with AI, his love of animation, and his connections with Czech art and culture at the Karlovy Vary International Film Festival.</li>\n",
       "<li>Rush shared his thoughts on AI, emphasizing the intrigue of creativity from the human mind compared to the sophistication of AI algorithms.</li>\n",
       "<li>He reflected on past challenges, including facing allegations of \"inappropriate behavior,\" and expressed his readiness to focus on his career, including a potential film about Groucho Marx. </li>\n",
       "</ul>\n",
       "<p><a href=\"https://brobible.com/culture/article/humans-live-1000-years-biotech-ai-nanobots/\">28. Humans Will Soon Live 1,000 Years Using Biotech, AI And Nanobots, Claims Renowned Futurist</a>  </p>\n",
       "<ul>\n",
       "<li>Renowned futurist predicts that humans will soon be able to live up to 1,000 years using biotechnology, AI, and nanobots.</li>\n",
       "<li>Medical nanobots are seen as a key factor in extending human life by repairing cell damage and maintaining optimal health levels.</li>\n",
       "<li>With nanotechnology advancements, humans may eventually be able to optimize their bodies, enhance physical abilities, and live longer while not being dependent on the survival of their current bodies. </li>\n",
       "</ul>\n",
       "<p><a href=\"https://news.google.com/articles/CBMid2h0dHBzOi8vYWNjZWxlcmF0aW9uZWNvbm9teS5jb20vY2xvdWQtd2Fycy9hY2NlbGVyYXRpbmctYnVzaW5lc3MtdHJhbnNmb3JtYXRpb24tc2Fwcy1zdHJhdGVneS11bnZlaWxlZC1jbG91ZC13YXJzLWxpdmUv0gEA\">29. Accelerating Business Transformation: SAP's Strategy Unveiled | Cloud Wars Live</a>  </p>\n",
       "<ul>\n",
       "<li>SAP's strategy focuses on business transformation, moving to the cloud, and leveraging AI for enhanced agility and efficiency.</li>\n",
       "<li>Collaboration with hyperscalers and system integrators is key for optimal cloud operations and business transformation.</li>\n",
       "<li>SAP emphasizes the importance of accelerating and simplifying digital transformation to benefit customers with faster upgrades and capabilities. </li>\n",
       "</ul>\n",
       "<p><a href=\"https://news.google.com/articles/CBMiOGh0dHBzOi8vbmV3cy5zYXAuY29tLzIwMjQvMDcvc2FwLWJ1c2luZXNzLWFpLXEyLXJlbGVhc2Uv0gE-aHR0cHM6Ly9uZXdzLnNhcC5jb20vMjAyNC8wNy9zYXAtYnVzaW5lc3MtYWktcTItcmVsZWFzZS8_YW1wPTE\">30. SAP Business AI: Q2 2024 Release Highlights</a>  </p>\n",
       "<ul>\n",
       "<li>SAP Business AI is enhancing businesses with ethical AI practices embedded in enterprise solutions, introducing generative AI copilot Joule for a natural language user experience.</li>\n",
       "<li>SAP is offering over 100 new high-value AI use cases and access to open source models through SAP AI Core, focusing on productivity and efficiency for customers.</li>\n",
       "<li>Updates in Human Resources and ERP &amp; Finance sectors include AI-assisted capabilities in SAP SuccessFactors HCM suite, Joule integration in SAP S/4HANA Cloud, and generative AI applications for project matching and production order management. </li>\n",
       "</ul>\n",
       "<p><a href=\"https://news.google.com/articles/CBMihQFodHRwczovL25ld3Muc2FwLmNvbS9zZWEvMjAyNC8wNi9haS1lY29zeXN0ZW1zLWNsb3VkLXRyYW5zZm9ybWF0aW9uLWFuZC1zdXN0YWluYWJsZS1haS1sZWFkLW91ci1rZXktbGVhcm5pbmdzLWZyb20tc2FwLXNhcHBoaXJlLTIwMjQv0gEA\">31. AI ecosystems, cloud transformation, and sustainable AI lead our key learnings from SAP Sapphire 2024</a>  </p>\n",
       "<ul>\n",
       "<li>AI ecosystems, cloud transformation, and sustainable AI were highlighted as key learnings from SAP Sapphire 2024 with a focus on leveraging partnerships, clean core cloud infrastructure, and integrating sustainability data into ERP systems.</li>\n",
       "<li>Collaborations with tech leaders like AWS, Microsoft and Google Cloud were emphasized to drive the benefits of Business AI tailored to unique business needs.</li>\n",
       "<li>Clean core cloud infrastructure was shown to improve agility and innovation, with a case study from Hitachi High-Tech demonstrating significant reduction in add-ons and upgrade time. The importance of integrating sustainability into ERP systems for environmental value and leveraging Business AI for automation and efficiency was also emphasized. </li>\n",
       "</ul>\n",
       "<p><a href=\"https://news.google.com/articles/CBMid2h0dHBzOi8vd3d3LmZvcmJlcy5jb20vc2l0ZXMvbW9vcmluc2lnaHRzLzIwMjQvMDYvMjcvc2FwLWNoYXJ0cy1hLWNvdXJzZS1mb3ItdGhlLWFpLWRyaXZlbi1lbnRlcnByaXNlLWF0LXNhcHBoaXJlLTIwMjQv0gEA\">32. SAP Charts A Course For The AI-Driven Enterprise At Sapphire 2024</a>  </p>\n",
       "<ul>\n",
       "<li>SAP presented its vision of AI-driven enterprise at Sapphire 2024, focusing on ERP modernization, cloud migration, and AI integration into products.</li>\n",
       "<li>SAP's strategic partnerships with tech giants aim to enhance functionalities through AI, improve business processes, and drive efficiency and innovation.</li>\n",
       "<li>SAP showcased AI integration across its portfolio, leveraging generative AI capabilities for intelligent automation in business applications, with plans for integration with Microsoft for a unified work experience. </li>\n",
       "</ul>\n",
       "<p><a href=\"https://www.scmp.com/tech/tech-trends/article/3268907/china-eyes-least-50-sets-ai-standards-2026-chips-applications-and-safety\">33. China eyes at least 50 sets of AI standards by 2026, from chips to applications and safety</a>  </p>\n",
       "<ul>\n",
       "<li>China aims to establish at least 50 sets of AI standards by 2026, covering various aspects such as chips, applications, safety, governance, and large language models.</li>\n",
       "<li>The country will also participate in setting up international AI standards, aligning with a UN resolution for an inclusive business environment for AI development.</li>\n",
       "<li>China's MIIT emphasizes AI as a crucial technology driving industrial transformation, with a strategy focused on promoting AI development through a pro-market approach and fostering integration within the economy. </li>\n",
       "</ul>\n",
       "<p><a href=\"https://news.google.com/articles/CBMiigFodHRwczovL3d3dy5wb3N0cmVnaXN0ZXIuY29tL25ld3MvbmF0aW9uYWwvdW5pdGVkLW5hdGlvbnMtY2hpbmEtdXMtYXJ0aWZpY2lhbC1pbnRlbGxpZ2VuY2UvaW1hZ2VfMGUwOGM2ZTQtNmZlNC01YTEyLWE0NWMtN2JmODRmZTA2ZjNiLmh0bWzSAQA\">34. United Nations China US Artificial Intelligence | National News | postregister.com</a>  </p>\n",
       "<ul>\n",
       "<li>United Nations General Assembly adopted Chinese-sponsored resolution with US support urging wealthy nations to bridge gap with developing countries on AI opportunities</li>\n",
       "<li>U.S. resolution was more general, while Chinese-sponsored resolution focused on capacity building</li>\n",
       "<li>Fu Cong stated that the two resolutions are complementary </li>\n",
       "</ul>\n",
       "<p><a href=\"https://news.google.com/articles/CBMiUWh0dHBzOi8vZW5nbGlzaC53d3cuZ292LmNuL25ld3MvMjAyNDA3LzAyL2NvbnRlbnRfV1M2NjgzNTQzNGM2ZDA4NjhmNGU4ZThjMjYuaHRtbNIBAA\">35. China advocates for AI cooperation to advance women's rights</a>  </p>\n",
       "<ul>\n",
       "<li>China advocates for strengthened international cooperation in artificial intelligence (AI) to promote women's rights</li>\n",
       "<li>Emphasizes the significant role of women in driving social development and progress</li>\n",
       "<li>Proposes a four-point plan to promote gender equality in AI governance, prioritize ethics, and enhance international cooperation in addressing challenges posed by AI to women </li>\n",
       "</ul>\n",
       "<p><a href=\"https://www.actionnewsjax.com/news/un-adopts-chinese/PFICKEUIWRBSVNZPEONWYP6DB4/\">36. UN adopts Chinese resolution with US support on closing the gap in access toartificial intelligence</a>  </p>\n",
       "<ul>\n",
       "<li>UN General Assembly adopted a Chinese-sponsored resolution with US support urging developed nations to close the gap with developing countries in access to artificial intelligence</li>\n",
       "<li>Both resolutions show US and China's cooperation in shaping the future of AI, aimed at ensuring safety, security, and trustworthiness of AI technology while promoting inclusive business environments</li>\n",
       "<li>Chinese resolution focuses on capacity building and promoting international cooperation to bridge the AI divide between developed and developing countries </li>\n",
       "</ul>\n",
       "<p><a href=\"https://news.google.com/articles/CBMiSGh0dHBzOi8vZW5nbGlzaC5uZXdzLmNuLzIwMjQwNzAyL2IzMWFhMGRlYTgwNDRkY2JhNThmZDBhMzJkNDM0ZDEyL2MuaHRtbNIBAA\">37. Xinhua News | UNGA adopts China-proposed resolution to enhance int'l cooperation on AI capacity-building</a>  </p>\n",
       "<ul>\n",
       "<li>UNGA adopts China-proposed resolution to enhance international cooperation in AI capacity-building</li>\n",
       "<li>Resolution was proposed by China and co-sponsored by over 140 countries</li>\n",
       "<li>Highlight of the 78th session of the UN General Assembly </li>\n",
       "</ul>\n",
       "<p><a href=\"https://news.google.com/articles/CBMiamh0dHBzOi8vd3d3LmV1cm9uZXdzLmNvbS9uZXh0LzIwMjQvMDcvMDIvYWktZ2VuZXJhdGVkLWV4YW0tcGFwZXJzLWdvLXVuZGV0ZWN0ZWQtaW4tOTQtb2YtY2FzZXMtc3R1ZHktZmluZHPSAQA\">38. AI-generated exam papers go undetected in 94% of cases - study</a>  </p>\n",
       "<ul>\n",
       "<li>AI-generated exam papers are detected only in 6% of cases, according to a study.</li>\n",
       "<li>The European Commission's 2024 report on the Digital Decade shows disparities in AI investment and skilled workforce training across EU countries.</li>\n",
       "<li>Strong development in 5G is contrasted by existing gaps in AI investment and workforce training in Europe. </li>\n",
       "</ul>\n",
       "<p><a href=\"https://news.google.com/articles/CBMiS2h0dHBzOi8vc2NpdGVjaGRhaWx5LmNvbS9haS1vdXRwZXJmb3Jtcy1zdHVkZW50cy1pbi1yZWFsLXdvcmxkLXR1cmluZy10ZXN0L9IBAA\">39. AI Outperforms Students in Real-World Turing Test</a>  </p>\n",
       "<ul>\n",
       "<li>AI-generated exam answers often go undetected by experienced exam markers, achieving higher grades than student submissions in a study at the University of Reading.</li>\n",
       "<li>The study calls for global education sector to update policies on the use of AI in education and emphasizes the responsibility of educators to maintain academic integrity.</li>\n",
       "<li>The University of Reading is already incorporating AI in teaching and assessment to better prepare students for the future, highlighting the need for a sector-wide agreement on AI use in education. </li>\n",
       "</ul>\n",
       "<p><a href=\"https://news.google.com/articles/CBMiMGh0dHBzOi8vd3d3LmJiYy5jby51ay9uZXdzL2FydGljbGVzL2NxcXFsbjBlZzY1b9IBAA\">40. AI can beat real university students in exams, study suggests</a>  </p>\n",
       "<ul>\n",
       "<li>University exams taken by AI-generated fake students outperformed real students and often went undetected by markers, with AI essays achieving higher grades.</li>\n",
       "<li>The study's findings serve as a warning for educators worldwide to address the impact of AI on educational assessments and the need for the evolution of the global education sector.</li>\n",
       "<li>The research highlighted concerns about AI's influence in education, with implications for assessments, exam integrity, and the necessity for educational adaptation in response to AI advancements. </li>\n",
       "</ul>\n",
       "<p><a href=\"https://news.google.com/articles/CBMie2h0dHBzOi8vd3d3Lm5wci5vcmcvMjAyNC8wNy8wMi9ueC1zMS01MDIwMzE3L2NhbGlmLWJpbGwtd291bGQtdGFrZS1zdGVwcy10by1lbnN1cmUtYWktbW9kZWxzLXdvbnQtY2F1c2UtY2F0YXN0cm9waGljLWV2ZW50c9IBAA\">41. Calif. bill would take steps to ensure AI models won't cause catastrophic events</a>  </p>\n",
       "<ul>\n",
       "<li>California bill on artificial intelligence aims to prevent catastrophic events caused by AI models</li>\n",
       "<li>The bill is receiving attention and criticism from the state's tech industry</li>\n",
       "<li>State Senator Scott Wiener is the sponsor of the bill </li>\n",
       "</ul>\n",
       "<p><a href=\"https://www.fastcompany.com/91150396/meta-is-against-californias-ai-bill-heres-why\">42. Meta is against Californias AI bill. Heres why</a>  </p>\n",
       "<ul>\n",
       "<li>Meta and other tech giants oppose California's AI bill, arguing that it would stifle innovation and should focus on those exploiting AI for harm</li>\n",
       "<li>The bill aims to regulate large AI systems to prevent catastrophic harms, requiring safety measures and testing for AI companies</li>\n",
       "<li>Proponents of the bill believe it is necessary to prevent future risks and ensure safety standards for powerful AI models, with support from renowned AI researchers and plans for a new state agency oversight </li>\n",
       "</ul>\n",
       "<p><a href=\"https://news.google.com/articles/CBMieGh0dHBzOi8vd3d3LnRlY2hub2xvZ3lyZXZpZXcuY29tLzIwMjQvMDcvMDIvMTA5NDUwOC9haS1jb21wYW5pZXMtYXJlLWZpbmFsbHktYmVpbmctZm9yY2VkLXRvLWNvdWdoLXVwLWZvci10cmFpbmluZy1kYXRhL9IBfGh0dHBzOi8vd3d3LnRlY2hub2xvZ3lyZXZpZXcuY29tLzIwMjQvMDcvMDIvMTA5NDUwOC9haS1jb21wYW5pZXMtYXJlLWZpbmFsbHktYmVpbmctZm9yY2VkLXRvLWNvdWdoLXVwLWZvci10cmFpbmluZy1kYXRhL2FtcC8\">43. AI companies are finally being forced to cough up for training data</a>  </p>\n",
       "<ul>\n",
       "<li>AI companies are facing pressure to pay for high-quality training data due to restrictions on scraping websites and lawsuits regarding copyright infringement.</li>\n",
       "<li>This shift in the AI industry could lead to companies building smaller, more efficient models or having to invest heavily to access the necessary data.</li>\n",
       "<li>The introduction of consent in the data usage process is seen as a positive step for rights holders and a fairer data economy that benefits everyone. </li>\n",
       "</ul>\n",
       "<p><a href=\"https://news.google.com/articles/CBMigAFodHRwczovL3d3dy50aGVnbG9iZWFuZG1haWwuY29tL2J1c2luZXNzL2NvbW1lbnRhcnkvYXJ0aWNsZS1yZWNvcmQtbGFiZWxzLWFyZS1zdWluZy1hcnRpZmljaWFsLWludGVsbGlnZW5jZS1jb21wYW5pZXMtaGVyZXMtd2h5L9IBAA\">44. Opinion: Record labels are suing artificial-intelligence companies. Here's why that's important</a>  </p>\n",
       "<ul>\n",
       "<li>Record labels are suing artificial-intelligence companies</li>\n",
       "<li>Legal battle has implications for intellectual property and music industry</li>\n",
       "<li>Artificial-intelligence technologies are being used in music creation and copyright issues are arising </li>\n",
       "</ul>\n",
       "<p><a href=\"https://news.google.com/articles/CBMiS2h0dHBzOi8vd3d3LnNwZWN0YXRvci5jby51ay9hcnRpY2xlL2FpLWlzLWJvdGgtbGliZXJhdGluZy1hbmQtZW5zbGF2aW5nLXVzL9IBAA\">45. AI is both liberating and enslaving us</a>  </p>\n",
       "<ul>\n",
       "<li>AI is both liberating and enslaving humans, as it takes over most of our work, making us less efficient at what remains.</li>\n",
       "<li>Autonomous systems like AI, modeled on human intelligence, are designed to think better than us but have limitations in identifying uncertainties or acting with human-like judgment, leading to potential dangers.</li>\n",
       "<li>AI's impact can lead to cognitive dependency, diminishing human agency and efficiency, potentially causing disastrous consequences as seen in cases like the wrongful prosecution of individuals and raising concerns of loss of power among ordinary people. </li>\n",
       "</ul>\n",
       "<p><a href=\"https://www.newsday.com/business/genai-training-data-stack-overflow-reddit-q91223\">46. AI is learning from what you said on Reddit, Stack Overflow or Facebook. Are you OK with that?</a>  </p>\n",
       "<ul>\n",
       "<li>AI is being trained using contributions made on platforms like Reddit, Stack Overflow, and Facebook, which is leading to concerns among users about the authenticity of content and user privacy.</li>\n",
       "<li>Platforms like Stack Overflow are facing challenges in balancing user-generated content with AI-generated responses, impacting the community of contributors and incentivizing participation.</li>\n",
       "<li>Social media platforms are implementing strategies to address user concerns, such as banning AI training on public posts in some regions and forming partnerships with AI developers while striving to maintain user rights and privacy. </li>\n",
       "</ul>\n",
       "<p><a href=\"https://news.google.com/articles/CBMiW2h0dHBzOi8vd3d3Lm1hZXJzay5jb20vaW5zaWdodHMvZGlnaXRhbGlzYXRpb24vMjAyNC8wNy8wMi9haS1pbi1sb2dpc3RpY3MtYW5kLXN1cHBseS1jaGFpbnPSAQA\">47. Eye on the future - AI in supply chains and logistics</a>  </p>\n",
       "<ul>\n",
       "<li>AI is being incorporated into supply chains and logistics for enhanced efficiency and decision-making processes.</li>\n",
       "<li>Cookies are used on the website to improve navigation, save information, analyze visitor interactions, personalize content, and provide relevant service information.</li>\n",
       "<li>Users can manage their cookie preferences and withdraw consent at any time through the website's cookie preferences in the footer. </li>\n",
       "</ul>\n",
       "<p><a href=\"https://news.google.com/articles/CBMiaGh0dHBzOi8vd3d3LmV5LmNvbS9lbl9zZS9jb25zdWx0aW5nL2hvdy13aWxsLWdlbi1haS1wcm9tcHQtYS1zdGVwLWNoYW5nZS10b3dhcmQtYXV0b25vbW91cy1zdXBwbHktY2hhaW5z0gEA\">48. Will GenAI accelerate autonomous supply chains?</a>  </p>\n",
       "<ul>\n",
       "<li>EY Sweden explores the potential for GenAI to accelerate autonomous supply chains</li>\n",
       "<li>EY offers services and solutions to help clients create long-term value and transform their operations</li>\n",
       "<li>The text provides insights, services, and industry-focused information on various sectors like consumer, energy, financial services, technology, and more </li>\n",
       "</ul>\n",
       "<p><a href=\"https://venturebeat.com/ai/how-next-gen-ai-technology-is-transforming-daily-work-for-employees/\">49. SPONSOREDHow next-gen AI technology is transforming daily work for employees</a>  </p>\n",
       "<ul>\n",
       "<li>Generative AI technology improves workforce productivity by enabling tasks to be completed 25% more quickly and with higher quality outputs</li>\n",
       "<li>Startups like 4149.AI, Arc53, and Lavender are leveraging cutting-edge AI solutions to enhance employee productivity and collaboration</li>\n",
       "<li>MongoDB's database solutions, such as Atlas Vector Search, are essential for optimizing gen AI's potential in automating tasks and improving work outcomes </li>\n",
       "</ul>\n",
       "<p><a href=\"https://www.geeky-gadgets.com/ai-and-the-world-economy/\">50. How isArtificial Intelligence(AI) is going to effect the World Economy</a>  </p>\n",
       "<ul>\n",
       "<li>Generative AI can drive economic growth but may increase wealth inequality and job displacement.</li>\n",
       "<li>Governments need to adopt agile fiscal policies to manage AI’s disruptive impact and ensure equitable distribution of its benefits across society.</li>\n",
       "<li>Policies supporting upskilling, transitioning displaced workers, and access to affordable education are crucial to address the social implications of AI. </li>\n",
       "</ul>\n",
       "<p><a href=\"https://news.google.com/articles/CBMiXWh0dHBzOi8vZGlnaW5vbWljYS5jb20vd2hpdGUtY29sbGFyLXdvcmtlcnMtd29ycmllZC1sb2dpc3RpY3MtdHJhbnNwb3J0LXNlY3RvcnMtb3B0aW1pc3RpYy1hadIBYWh0dHBzOi8vZGlnaW5vbWljYS5jb20vd2hpdGUtY29sbGFyLXdvcmtlcnMtd29ycmllZC1sb2dpc3RpY3MtdHJhbnNwb3J0LXNlY3RvcnMtb3B0aW1pc3RpYy1haT9hbXA\">51. While some white collar workers may be worried, logistics and transport sectors are optimistic on AI</a>  </p>\n",
       "<ul>\n",
       "<li>Employees in physical operations industries, such as transport and logistics, are optimistic about the integration of artificial intelligence (AI) into their workflows.</li>\n",
       "<li>AI technology in physical operations has shown benefits in terms of improved safety and productivity, with the majority of business leaders reporting positive employee sentiment towards AI.</li>\n",
       "<li>Concerns around data quality, security, and privacy are being addressed by business leaders as they prioritize responsible deployment of AI technology and recognize the need for investment in AI solutions to stay competitive. </li>\n",
       "</ul>\n",
       "<p><a href=\"https://hackernoon.com/robots-ai-ew-how-war-in-ukraine-re-shapes-military-tech\">52. Robots, AI, EW: How War in Ukraine Re-Shapes Military Tech</a>  </p>\n",
       "<ul>\n",
       "<li>Ukraine's defense tech industry leverages innovative technologies such as real-time battlefield apps, cyber defenses, and adapted civilian drones to resist Russian aggression.</li>\n",
       "<li>The government-established BRAVE1 platform fosters collaboration among defense tech companies, startups, the military, and investors to accelerate technological solutions for security and defense, with notable achievements in unmanned ground vehicles (UGVs) and advancements in electronic warfare (EW) and AI-driven projects.</li>\n",
       "<li>BRAVE1 received over 1,000 innovative defense tech project submissions, with 481 deemed priority by Ukrainian military experts, focusing on areas like financial support, solution sourcing, collaboration, development and feedback, as well as project acceleration. </li>\n",
       "</ul>\n",
       "<p><a href=\"https://phys.org/news/2024-07-satellite-aims-ai-advances-earth.html\">53. New satellite aims to show how AI advances Earth observation</a>  </p>\n",
       "<ul>\n",
       "<li>ESA's new satellite Φsat-2 aims to showcase the advancements of AI in Earth observation, leveraging onboard processing for real-time data analysis.</li>\n",
       "<li>The satellite, equipped with a multispectral camera and AI capabilities, offers applications for cloud detection, street map generation, maritime vessel detection, and more.</li>\n",
       "<li>Collaborative efforts between ESA and Open Cosmos have facilitated the development of Φsat-2, scheduled for launch in July 2024, aiming to revolutionize space technology and provide valuable insights for various applications. </li>\n",
       "</ul>\n",
       "<p><a href=\"https://news.google.com/articles/CBMiO2h0dHBzOi8vZGVjcnlwdC5jby8yMzc5NzgvZWRnZS1haS1mYXJtaW5nLWFncmljdWx0dXJlLXN0dWR50gFBaHR0cHM6Ly9kZWNyeXB0LmNvLzIzNzk3OC9lZGdlLWFpLWZhcm1pbmctYWdyaWN1bHR1cmUtc3R1ZHk_YW1wPTE\">54. Running AI in the Field Could Boost Farming: Study</a>  </p>\n",
       "<ul>\n",
       "<li>Running AI in the field may have a positive impact on farming practices, as suggested by a study.</li>\n",
       "<li>Various cookies are used on websites to enhance user experience and website functionality through features like personalization, security, and analytics.</li>\n",
       "<li>Different providers offer cookies for tasks such as detecting and preventing attacks, improving security, making secure online transactions, and providing user insights. </li>\n",
       "</ul>\n",
       "<p><a href=\"https://www.ft.com/content/383719aa-df38-4ae3-ab0e-6279a897915e\">55. Google emissions jump nearly 50% over five years as AI use surges</a>  </p>\n",
       "<ul>\n",
       "<li>Google's emissions have increased nearly 50% over the past five years</li>\n",
       "<li>The surge in AI usage is linked to the rise in Google's emissions</li>\n",
       "<li>This increase in emissions highlights the environmental impact of technological advancements </li>\n",
       "</ul>\n",
       "<p><a href=\"https://www.wsbtv.com/news/google-falling-short/BSRKU3BGJJGNPOHMBWGXQVBYJM/\">56. Google falling short of important climate target, cites electricity needs of AI</a>  </p>\n",
       "<ul>\n",
       "<li>Google fell short of its climate change goals, with emissions increasing 13% in 2023 and soaring 48% compared to 2019, partly due to the electricity demand of AI and data centers.</li>\n",
       "<li>The growth of data centers supporting AI is a challenge for achieving clean electricity goals, as they consume high amounts of energy, require water consumption, and can delay the transition to renewables.</li>\n",
       "<li>Google aims to use 100% clean energy globally by 2030 and has made progress in using carbon-free energy for its data centers and offices, showing energy efficiency above industry average. </li>\n",
       "</ul>\n",
       "<p><a href=\"https://futurism.com/the-byte/xai-researcher-returns-openai\">57. AI Researcher Elon Musk Poached From OpenAI Returns to OpenAI</a>  </p>\n",
       "<ul>\n",
       "<li>Researcher Kyle Kosic returned to OpenAI after a brief stint at xAI, an AI venture founded by Elon Musk.</li>\n",
       "<li>Kosic's return happened before xAI announced raising $6 billion in seed capital to challenge OpenAI.</li>\n",
       "<li>The reasons for Kosic's departure from xAI remain unclear, but it might indicate challenges within the company despite substantial funding. </li>\n",
       "</ul>\n",
       "<p><a href=\"https://news.google.com/articles/CBMiZ2h0dHBzOi8vd3d3LmRhdGFjZW50ZXJkeW5hbWljcy5jb20vZW4vbmV3cy9jcnVzb2UtcGl2b3RzLXRvLWJ1aWxkaW5nLWRhdGEtY2VudGVycy1wbGFucy0xMDBtdy1mYWNpbGl0eS_SAQA\">58. Crusoe pivots to building AI data centers</a>  </p>\n",
       "<ul>\n",
       "<li>Crusoe Energy, known for mining cryptocurrencies via flared gas, is shifting to building permanent data centers for AI customers</li>\n",
       "<li>The company designed a high-density data center form factor to host a large number of GPUs and is planning to deliver gigawatts of new data center capacity</li>\n",
       "<li>Crusoe has raised over $600 million in funding, acquired various firms, and is expanding its services beyond crypto mining and into AI infrastructure hosting. </li>\n",
       "</ul>\n",
       "<p><a href=\"https://cloud.google.com/blog/topics/startups/google-for-startups-accelerator-ai-first-mena-t/\">59. Announcing AI First Accelerator for startups in the Middle East and Turkey</a>  </p>\n",
       "<ul>\n",
       "<li>Google for Startups Accelerator: AI First MENA-T program offers a 10-week, equity-free program for Seed and Series A startups in MENA and Turkey</li>\n",
       "<li>Participating startups receive mentoring, access to Google Cloud and Google DeepMind experts, as well as workshops on AI, ML, product design, business growth, and leadership development</li>\n",
       "<li>Applications are open until August 18, 2024, and the accelerator program will start in October 2024. </li>\n",
       "</ul>\n",
       "<p><a href=\"https://news.google.com/articles/CBMiXGh0dHBzOi8vd3d3LmFydGlmaWNpYWxsYXd5ZXIuY29tLzIwMjQvMDcvMDIvYmlyZC1iaXJkLXRvLXJ1bi1tYWpvci1wb2Mtd2l0aC1haS1zdGFydHVwLWxleWEv0gEA\">60. Bird &amp; Bird To Run Major POC With AI Startup Leya</a>  </p>\n",
       "<ul>\n",
       "<li>Bird &amp; Bird is conducting a large-scale proof of concept (POC) trial with AI startup Leya to automate legal tasks and utilize AI for analyzing laws, court cases, contracts, and documents.</li>\n",
       "<li>The POC trial will involve multiple offices in various countries, optimizing processes, upskilling employees, and ensuring responsible technology use.</li>\n",
       "<li>Leya, a legal tech startup, raised $10.5m in a Seed round and aims to enhance legal professionals' productivity by leveraging AI capabilities. </li>\n",
       "</ul>\n",
       "<p><a href=\"https://9to5mac.com/2024/07/02/empirical-health-for-apple-watch-now-leverages-ai-with-your-data-and-real-physicians/\">61. Empirical Health for Apple Watch now leverages AI with your data and real physicians</a>  </p>\n",
       "<ul>\n",
       "<li>Empirical Health for Apple Watch releases a major 2.0 update with AI-generated custom health care plans and guidance from real physicians.</li>\n",
       "<li>The update includes a new UI, support for blood pressure cuffs, in-app benchmarks for various health metrics, and expanded medical care coverage in 27 US states.</li>\n",
       "<li>The app aims to integrate AI with Apple Health data to create personalized care plans and improve proactive health management for users. </li>\n",
       "</ul>\n",
       "<p><a href=\"https://www.cultofmac.com/861543/high-demand-for-iphone-16/\">62. Apple chip orders suggest big demand for AI-boosted iPhone 16</a>  </p>\n",
       "<ul>\n",
       "<li>Apple has increased its order of next-generation A18 chips from TSMC to between 90 million and 100 million units, anticipating high demand for the upcoming Apple Intelligence-boosted iPhone 16 series.</li>\n",
       "<li>The iPhone 16 models are expected to use A18-branded chips manufactured using TSMC’s N3E process, with the Pro models featuring an enhanced \"A18 Pro\" chip with more graphics and AI capabilities.</li>\n",
       "<li>All iPhone 16 models are rumored to offer 8GB of RAM, up from 6GB in the standard iPhone 15 models, aligning with Apple's requirements for running large-language models on-device. </li>\n",
       "</ul>\n",
       "<p><a href=\"https://news.google.com/articles/CBMiaWh0dHBzOi8vdmVudHVyZWJlYXQuY29tL2FpL2FwcGxlLWp1c3QtbGF1bmNoZWQtYS1wdWJsaWMtZGVtby1vZi1pdHMtNG0tYWktbW9kZWwtaGVyZXMtd2h5LWl0cy1hLWJpZy1kZWFsL9IBAA\">63. Apple just launched a public demo of its '4M' AI model: Here's why it's a big deal</a>  </p>\n",
       "<ul>\n",
       "<li>Apple collaborates with EPFL to release a public demo of the 4M AI model on the Hugging Face Spaces platform, showcasing its versatility in processing and generating content across multiple modalities.</li>\n",
       "<li>The release of the 4M model signifies Apple's shift towards a more open approach to AI research, aiming to attract developer interest and showcase its AI capabilities amid a growing competitive landscape.</li>\n",
       "<li>The 4M AI model demonstrates Apple's commitment to integrating advanced AI technologies across its ecosystem, providing a glimpse into both consumer-ready AI features and cutting-edge research efforts in the industry. </li>\n",
       "</ul>\n",
       "<p><a href=\"https://www.reddit.com/r/ChatGPT/comments/1dtnn0y/atunning_ai_spaghetti_art/\">64. Atunning AI spaghetti art...</a>  </p>\n",
       "<ul>\n",
       "<li>AI-generated art on ChatGPT subreddit impresses users, prompting comparisons to Disney animation and Will Smith's past video.</li>\n",
       "<li>Users discuss the potential for integrating AI-generated spaghetti art into different contexts, like restaurant promotions or movie scenes.</li>\n",
       "<li>Some users point out technical details and suggest tools like Runway 3 for similar AI art generation. </li>\n",
       "</ul>\n",
       "<p><a href=\"https://news.google.com/articles/CBMibWh0dHBzOi8vd3d3LnJhZGlvYW5kbXVzaWMuY29tL2Jpei9tdXNpYy9tdXNpYy1zZXJ2aWNlcy8yNDA3MDItZmwtc3R1ZGlvLTIwMjQtaW50cm9kdWNlcy1wbHVnaW5zLWZsLWNsb3VkLWFkZHPSAXFodHRwczovL3d3dy5yYWRpb2FuZG11c2ljLmNvbS9iaXovbXVzaWMvbXVzaWMtc2VydmljZXMvMjQwNzAyLWZsLXN0dWRpby0yMDI0LWludHJvZHVjZXMtcGx1Z2lucy1mbC1jbG91ZC1hZGRzP2FtcA\">65. FL Studio 2024 introduces plugins to FL Cloud, adds powerful new AI features, effects, and workflow improvements</a>  </p>\n",
       "<ul>\n",
       "<li>FL Studio 2024 introduces plugins to FL Cloud, featuring 69 instruments and effects from various brands, enhancing music production capabilities.</li>\n",
       "<li>The update includes new AI-powered music composition tools and in-demand effects, aiming to improve creativity and workflow for all producers.</li>\n",
       "<li>FL Studio remains a popular Digital Audio Workstation known for its user-friendly interface, powerful features, affordable pricing, and commitment to offering Lifetime Free Updates. </li>\n",
       "</ul>\n",
       "<p><a href=\"https://news.google.com/articles/CBMisAFodHRwczovL3d3dy5tYXJrdGVjaHBvc3QuY29tLzIwMjQvMDcvMDIvb21uaXBhcnNlLWFuLWFpLXBsYXRmb3JtLXRoYXQtaW5nZXN0cy1wYXJzZXMtYW55LXVuc3RydWN0dXJlZC1kYXRhLWludG8tc3RydWN0dXJlZC1hY3Rpb25hYmxlLWRhdGEtb3B0aW1pemVkLWZvci1nZW5haS1sbG0tYXBwbGljYXRpb25zL9IBtAFodHRwczovL3d3dy5tYXJrdGVjaHBvc3QuY29tLzIwMjQvMDcvMDIvb21uaXBhcnNlLWFuLWFpLXBsYXRmb3JtLXRoYXQtaW5nZXN0cy1wYXJzZXMtYW55LXVuc3RydWN0dXJlZC1kYXRhLWludG8tc3RydWN0dXJlZC1hY3Rpb25hYmxlLWRhdGEtb3B0aW1pemVkLWZvci1nZW5haS1sbG0tYXBwbGljYXRpb25zLz9hbXA\">66. OmniParse: An AI Platform that Ingests/Parses Any Unstructured Data into Structured, Actionable Data Optimized for GenAI (LLM) Applications</a>  </p>\n",
       "<ul>\n",
       "<li>OmniParse is an AI platform that converts various unstructured data types into structured, actionable data optimized for GenAI applications</li>\n",
       "<li>It supports around 20 different file types and offers capabilities like table extraction, image captioning, and web page crawling</li>\n",
       "<li>OmniParse is a versatile and efficient solution that eliminates the need for multiple independent tools, ensuring data privacy and security </li>\n",
       "</ul>\n",
       "<p><a href=\"https://techcrunch.com/2024/07/02/meta-plans-to-bring-generative-ai-to-metaverse-games/\">67. Meta plans to bring generative AI to metaverse games</a>  </p>\n",
       "<ul>\n",
       "<li>Meta plans to integrate more generative AI technology into VR, AR, and mixed reality games to enhance the metaverse experience by creating games with non-deterministic paths that change every time you play.</li>\n",
       "<li>The company aims to research and prototype new consumer experiences driven by generative AI, with a focus on games within Meta's Horizon metaverse platform while also considering expansion to non-Meta platforms like smartphones and PCs.</li>\n",
       "<li>Meta's efforts in generative AI for metaverse experiences align with its focus on product innovation, with initiatives like Builder Bot showcased in the past and a recent decision to invest billions in generative AI products despite the anticipated delay in financial returns. </li>\n",
       "</ul>\n",
       "<p><a href=\"https://www.techtimes.com/articles/306271/20240702/ajax-engineering-launches-concrete-gpt-game-changing-ai-platform-industry.htm\">68. Ajax Engineering Launches Concrete GPT, Game-Changing AI Platform for Concrete Industry</a>  </p>\n",
       "<ul>\n",
       "<li>Ajax Engineering has launched Concrete GPT, an AI platform for the concrete industry in India, benefiting over a million specialists.</li>\n",
       "<li>The platform is powered by OpenAI's GPT-4 and Perplexity AI's engine, offering features like text, voice, and WhatsApp chat interaction with support for multiple languages.</li>\n",
       "<li>Concrete GPT provides industry insights, technical support, maintenance tips, and safety compliance guidance, aiming to enhance industry knowledge sharing and competitiveness while being user-friendly with a simple interface and WhatsApp integration. </li>\n",
       "</ul>\n",
       "<p><a href=\"https://siliconangle.com/2024/07/01/anthropic-launches-new-program-fund-creation-reliable-ai-benchmarks/\">69. Anthropic launches new program to fund creation of more reliable AI benchmarks - SiliconANGLE</a>  </p>\n",
       "<ul>\n",
       "<li>Anthropic PBC launches a program to fund the creation of more reliable AI benchmarks</li>\n",
       "<li>The initiative aims to incentivize researchers to develop new benchmarks that can more accurately evaluate AI performance and societal impacts</li>\n",
       "<li>Anthropic seeks challenges in benchmarking AI models, including assessing dangers like cyberattacks and enhancing capabilities like aiding scientific studies </li>\n",
       "</ul>\n",
       "<p><a href=\"https://yr.media/tech/gee-code-ai-teachers-assistants-hbcu-morehouse-miranda-perez/\">70. The Gee Code: Will AI Teachers Assistants Become Normalized at HBCUs?</a>  </p>\n",
       "<ul>\n",
       "<li>Morehouse College is introducing AI teacher assistants to personalize student education journeys, offering support to professors in assessments, office hours, and demonstrations.</li>\n",
       "<li>Challenges such as lack of internet access and underfunding have created a digital divide between HBCUs and PWIs, impacting the potential adoption of AI technology.</li>\n",
       "<li>Collaboration and investment in digital infrastructure by policymakers, tech companies, and educational institutions are crucial to ensure equitable access to AI in education at HBCUs, paving the way for a technologically advanced educational landscape. </li>\n",
       "</ul>\n",
       "<p><a href=\"https://news.google.com/articles/CBMilwFodHRwczovL3d3dy50ZWNocmFkYXIuY29tL2NvbXB1dGluZy9hcnRpZmljaWFsLWludGVsbGlnZW5jZS9hcHBsZS1pbnRlbGxpZ2VuY2UtdGlwcGVkLXRvLWZlYXR1cmUtZ29vZ2xlLWdlbWluaS1pbnRlZ3JhdGlvbi1hdC1sYXVuY2gtYXMtd2VsbC1hcy1jaGF0Z3B00gEA\">71. Apple Intelligence tipped to feature Google Gemini integration at launch, as well as ChatGPT</a>  </p>\n",
       "<ul>\n",
       "<li>Apple Intelligence toolset to feature integration with ChatGPT and potentially Google Gemini</li>\n",
       "<li>Apple aiming to differentiate its products with unique partnership with ChatGPT and revenue potential from AI partners</li>\n",
       "<li>Possibility of a paid version of Apple Intelligence incorporating premium features of ChatGPT and Google Gemini </li>\n",
       "</ul>\n",
       "<p><a href=\"https://www.techradar.com/computing/artificial-intelligence/these-new-ai-smart-glasses-are-like-getting-a-second-pair-of-chatgpt-powered-eyes\">72. These new AI smart glasses are like getting a second pair of ChatGPT-powered eyes</a>  </p>\n",
       "<ul>\n",
       "<li>Solos AirGo Visions are new AI smart glasses rivaling Meta Ray-Ban, featuring a built-in camera, support for GPT-4o model, and modular frame design.</li>\n",
       "<li>The glasses can identify objects, respond to voice prompts, take photos, and have built-in speakers for voice assistance or music playback.</li>\n",
       "<li>While AI-powered smart glasses like Solos AirGo Visions show potential for travelers and visually impaired users, their accuracy and usefulness are still evolving. </li>\n",
       "</ul>\n",
       "<p><a href=\"https://www.androidpolice.com/google-ai-prepping-pixel-9-windows-recall-like-functionality/\">73. Google prepping an exclusive Pixel 9 AI with Windows Recall-like functionality</a>  </p>\n",
       "<ul>\n",
       "<li>Google is developing an exclusive Pixel 9 AI with features like Pixel Screenshots, Add Me, and Studio, expected to launch in August with at least three device variants.</li>\n",
       "<li>The Pixel 9 AI will offer unique AI features such as on-device AI for searchable screenshots and chatbot-like conversations, aiming to set Pixel phones apart with innovative software capabilities.</li>\n",
       "<li>Other features of the Pixel 9 AI include \"Add Me\" for group photos and \"Studio\" for image generation, possibly based on Google's Imagen 2 model, enhancing the device's image editing capabilities. </li>\n",
       "</ul>\n",
       "<p><a href=\"https://www.theverge.com/2024/7/2/24190730/google-ai-pixel-phones-recall-like-feature\">74. The Pixel 9s Google AI is like Microsoft Recall but a little less creepy</a>  </p>\n",
       "<ul>\n",
       "<li>Google's upcoming Pixel 9 will feature new AI capabilities similar to Microsoft Recall, allowing for easier searching through screenshots, with a less intrusive approach compared to Microsoft's tool.</li>\n",
       "<li>Users can toggle AI processing for screenshots on and off, with the feature able to summarize screenshots and help with information retrieval by saving metadata like links and app names.</li>\n",
       "<li>Google is also working on other AI features for Pixel 9, like the \"Add Me\" photo editing tool and a Studio tool for generating stickers and images, with hints at more AI features to be unveiled at an upcoming hardware event. </li>\n",
       "</ul>\n",
       "<p><a href=\"https://news.google.com/articles/CBMiQmh0dHBzOi8vd3d3LmFuZHJvaWRhdXRob3JpdHkuY29tL2dvb2dsZS1haS1yZWNhbGwtcGl4ZWwtOS0zNDU2Mzk5L9IBAA\">75. Exclusive: New Google AI suite to debut with the Pixel 9 series</a>  </p>\n",
       "<ul>\n",
       "<li>\n",
       "<p>Google is set to introduce a new suite of AI features called \"Google AI\" with the upcoming Pixel 9 series, including new ML features and existing ones like Circle to Search and Gemini.</p>\n",
       "</li>\n",
       "<li>\n",
       "<p>The new AI features for Pixel 9 include \"Add Me\" for group photos, \"Studio\" for creative assistance similar to Apple's Image Playground, and \"Pixel Screenshots\" resembling Microsoft's Recall but focusing only on manually captured screenshots for privacy.</p>\n",
       "</li>\n",
       "<li>\n",
       "<p>Google's implementation of the Recall-like feature for screenshots is considered more secure and privacy-focused compared to Microsoft's version, with other companies like Motorola also working on similar features. </p>\n",
       "</li>\n",
       "</ul>\n",
       "<p><a href=\"https://news.google.com/articles/CBMiNGh0dHBzOi8vOXRvNWdvb2dsZS5jb20vMjAyNC8wNy8wMi9waXhlbC05LWdvb2dsZS1haS_SAQA\">76. Pixel 9 to ship with 'Google AI' powering 'Studio' and Recall-like screenshot analysis</a>  </p>\n",
       "<ul>\n",
       "<li>Pixel 9 series to feature enhanced functions powered by \"Google AI\"</li>\n",
       "<li>New features include \"Add me\" camera function, \"Studio\" for creative assistance, and \"Pixel Screenshots\" for contextual information</li>\n",
       "<li>Google AI on Pixel 9 will offer Recall-like screenshot analysis and on-device processing for privacy </li>\n",
       "</ul>\n",
       "<p><a href=\"https://www.androidauthority.com/google-ai-recall-pixel-9-3456399/\">77. Source: Google plans AI features for the Pixel 9 under the Google AI brand, like Pixel Screenshots, which lets users search their screenshots using on-device AI</a>  </p>\n",
       "<ul>\n",
       "<li>Google is planning to introduce new ML features under the branding of \"Google AI\" in the upcoming Pixel 9 series, including features like Add Me, Studio, and Pixel Screenshots.</li>\n",
       "<li>The new Pixel Screenshots feature in the Pixel 9 series is a privacy-focused implementation similar to Microsoft's Recall, but it only works on screenshots manually taken by the user.</li>\n",
       "<li>Google's implementation of the Recall-like feature on the Pixel 9 series is seen as a better execution with enhanced privacy features compared to Microsoft's version. </li>\n",
       "</ul>\n",
       "<p><a href=\"https://news.google.com/articles/CBMiQWh0dHBzOi8vd3d3LnRoZXJlZ2lzdGVyLmNvbS8yMDI0LzA3LzAxL2ZyZW5jaF9udmlkaWFfY29tcGV0aXRpb24v0gFFaHR0cHM6Ly93d3cudGhlcmVnaXN0ZXIuY29tL0FNUC8yMDI0LzA3LzAxL2ZyZW5jaF9udmlkaWFfY29tcGV0aXRpb24v\">78. France poised to bring 'charges against Nvidia'</a>  </p>\n",
       "<ul>\n",
       "<li>French regulators are considering bringing charges against Nvidia over alleged anti-competitive practices due to its dominance in the AI infrastructure market.</li>\n",
       "<li>The Autorité expressed concerns about Nvidia's potential risks like price fixing, production restrictions, and discriminatory behavior in the market.</li>\n",
       "<li>Investigations into Nvidia's market dominance are not only happening in France but also in the European Union and the US Department of Justice. </li>\n",
       "</ul>\n",
       "<p><a href=\"https://news.google.com/articles/CBMiXGh0dHBzOi8vd3d3LmJ1c2luZXNzaW5zaWRlci5jb20vbnZpZGlhLXNlY3JldC1zYXVjZS1yZWd1bGF0b3JzLWdwdS1jaGlwcy1qZW5zZW4taHVhbmctMjAyNC030gFgaHR0cHM6Ly93d3cuYnVzaW5lc3NpbnNpZGVyLmNvbS9udmlkaWEtc2VjcmV0LXNhdWNlLXJlZ3VsYXRvcnMtZ3B1LWNoaXBzLWplbnNlbi1odWFuZy0yMDI0LTc_YW1w\">79. Nvidia's secret sauce is starting to worry regulators</a>  </p>\n",
       "<ul>\n",
       "<li>Nvidia's CUDA software is under scrutiny by European regulators for potentially anti-competitive behavior related to the chipmaker's dominance in the AI industry.</li>\n",
       "<li>Nvidia has become a $3 trillion heavyweight in the AI sector and is facing charges in France, with concerns raised over the dependence on CUDA software.</li>\n",
       "<li>CUDA, introduced in 2006, has played a significant role in Nvidia's success by making its GPUs adaptable and compatible with various computing tasks, giving the company a competitive edge. </li>\n",
       "</ul>\n",
       "<p><a href=\"https://news.google.com/articles/CBMiPWh0dHBzOi8vd3d3LmJhcnJvbnMuY29tL2FydGljbGVzL252aWRpYS1hbnRpdHJ1c3QtYWktNzhjMWM1NDjSAUFodHRwczovL3d3dy5iYXJyb25zLmNvbS9hbXAvYXJ0aWNsZXMvbnZpZGlhLWFudGl0cnVzdC1haS03OGMxYzU0OA\">80. Nvidia Faces First AI Antitrust Charge, According to Report</a>  </p>\n",
       "<ul>\n",
       "<li>Nvidia is facing its first AI antitrust charge due to its dominant position in providing chips for artificial-intelligence technology.</li>\n",
       "<li>Regulators are focusing on Nvidia's market dominance in AI technology, signaling a potential antitrust challenge for the company.</li>\n",
       "<li>The attention from regulators suggests that Nvidia may be confronted with antitrust issues related to its role in the AI era. </li>\n",
       "</ul>\n",
       "<p><a href=\"https://news.google.com/articles/CBMiWGh0dHBzOi8vd3d3LmFuZHJvaWRoZWFkbGluZXMuY29tLzIwMjQvMDcvZ2FsYXh5LXMyNS10by1vZmZlci1haS11cHNjYWxpbmctZm9yLWdhbWVzLmh0bWzSAQA\">81. Galaxy S25 to offer AI upscaling for games thanks to its SoC</a>  </p>\n",
       "<ul>\n",
       "<li>Galaxy S25 to include AI upscaling for games with its SoC</li>\n",
       "<li>Rumors suggest different chip strategies for Samsung Galaxy S25</li>\n",
       "<li>Speculation includes Snapdragon exclusivity, Snapdragon-Exynos dual-chip, or MediaTek options </li>\n",
       "</ul>\n",
       "<p><a href=\"https://news.google.com/articles/CBMiiAFodHRwczovL3d3dy5ub3RlYm9va2NoZWNrLm5ldC9TbmFwZHJhZ29uLTgtR2VuLTQtQWRyZW5vLTgzMC1HUFUtcnVtb3VyZWQtdG8tbGF1bmNoLXdpdGgtRExTUy1GcmFtZS1HZW5lcmF0aW9uLWxpa2UtZmVhdHVyZS44NTQwMDAuMC5odG1s0gEA\">82. Snapdragon 8 Gen 4: Adreno 830 GPU rumoured to launch with DLSS Frame Generation-like feature</a>  </p>\n",
       "<ul>\n",
       "<li>Qualcomm Snapdragon 8 Gen 4 rumored to launch with Adreno 830 GPU featuring frame interpolation for increased FPS</li>\n",
       "<li>Potential for frame interpolation feature to expand to Snapdragon 8s Gen 3 and Snapdragon 8 Gen 3 through a future update, enabling higher FPS in games</li>\n",
       "<li>Frame interpolation can enhance game performance but may come with drawbacks like input lag and visual artifacts </li>\n",
       "</ul>\n",
       "<p><a href=\"https://news.google.com/articles/CBMiV2h0dHBzOi8vd2NjZnRlY2guY29tL3NuYXBkcmFnb24tOC1nZW4tNC1zdXBwb3J0cy1ncHUtaW50ZXJwb2xhdGlvbi1vci1mcmFtZS1nZW5lcmF0aW9uL9IBW2h0dHBzOi8vd2NjZnRlY2guY29tL3NuYXBkcmFnb24tOC1nZW4tNC1zdXBwb3J0cy1ncHUtaW50ZXJwb2xhdGlvbi1vci1mcmFtZS1nZW5lcmF0aW9uL2FtcC8\">83. Snapdragon 8 Gen 4 Rumored To Support GPU Interpolation Technology, Hinting At Frame Generation Arriving To The SoC, Boosting Gaming Performance</a>  </p>\n",
       "<ul>\n",
       "<li>Snapdragon 8 Gen 4 rumored to support GPU Interpolation Technology, enhancing gaming performance by adding artificial frames.</li>\n",
       "<li>Top-end flagships with Snapdragon 8 Gen 4 expected to be expensive but may offer improved gaming experience with Frame Generation.</li>\n",
       "<li>Frame Generation technology rumored to be integrated into Snapdragon 8 Gen 3 and Snapdragon 8s Gen 3, potentially boosting gaming performance on current-generation flagships. </li>\n",
       "</ul>\n",
       "<p><a href=\"https://www.cnet.com/tech/services-and-software/meta-is-changing-artificial-intelligence-labels-after-real-photos-were-marked-as-ai/\">84. Meta Is ChangingArtificial IntelligenceLabels After Real Photos Were Marked As AI</a>  </p>\n",
       "<ul>\n",
       "<li>Meta is changing labels on social media posts suspected to have been generated with AI tools from \"Made with AI\" to \"AI Info\" due to confusion caused by their previous labeling approach.</li>\n",
       "<li>The rapid spread of AI technologies across the web is making it challenging for people to differentiate between what is real and AI-generated content, especially with the upcoming 2024 US presidential election.</li>\n",
       "<li>Tech companies are grappling with the increasing use of AI in creating disinformation campaigns, with terms like \"slop\" emerging to describe the influx of AI-generated posts, and efforts being made to add metadata to label images. </li>\n",
       "</ul>\n",
       "<p><a href=\"https://news.google.com/articles/CBMimgFodHRwczovL3d3dy5tb25leWNvbnRyb2wuY29tL3RlY2hub2xvZ3kvcGhvdG9ncmFwaGVycy1jb21wbGFpbnRzLWxlYWQtbWV0YS10by1yZXZpc2UtYWktZ2VuZXJhdGVkLWltYWdlLWxhYmVscy1vbi1mYWNlYm9vay1pbnN0YWdyYW0tYXJ0aWNsZS0xMjc2MDE2OS5odG1s0gGeAWh0dHBzOi8vd3d3Lm1vbmV5Y29udHJvbC5jb20vdGVjaG5vbG9neS9waG90b2dyYXBoZXJzLWNvbXBsYWludHMtbGVhZC1tZXRhLXRvLXJldmlzZS1haS1nZW5lcmF0ZWQtaW1hZ2UtbGFiZWxzLW9uLWZhY2Vib29rLWluc3RhZ3JhbS1hcnRpY2xlLTEyNzYwMTY5Lmh0bWwvYW1w\">85. Photographers complaints lead Meta to revise AI-generated image labels on Facebook, Instagram</a>  </p>\n",
       "<ul>\n",
       "<li>Photographers' complaints led Meta to revise AI-generated image labels on Facebook and Instagram.</li>\n",
       "<li>Meta introduced a \"made with AI\" label for images generated by AI but faced criticism for incorrectly labeling images edited with tools like Adobe Photoshop's generative AI.</li>\n",
       "<li>Meta is changing the labels to \"AI info\" but clicking on the badge does not provide additional information beyond flagging content generated using AI. </li>\n",
       "</ul>\n",
       "<p><a href=\"https://news.google.com/articles/CBMingFodHRwczovL3RpbWVzb2ZpbmRpYS5pbmRpYXRpbWVzLmNvbS90ZWNobm9sb2d5L3NvY2lhbC9tZXRhLXVwZGF0ZXMtbWFkZS1ieS1haS1sYWJlbC1hY3Jvc3MtZmFjZWJvb2staW5zdGFncmFtLWhlcmVzLXdoYXQtaXMtY2hhbmdpbmcvYXJ0aWNsZXNob3cvMTExNDEzMjYyLmNtc9IBogFodHRwczovL3RpbWVzb2ZpbmRpYS5pbmRpYXRpbWVzLmNvbS90ZWNobm9sb2d5L3NvY2lhbC9tZXRhLXVwZGF0ZXMtbWFkZS1ieS1haS1sYWJlbC1hY3Jvc3MtZmFjZWJvb2staW5zdGFncmFtLWhlcmVzLXdoYXQtaXMtY2hhbmdpbmcvYW1wX2FydGljbGVzaG93LzExMTQxMzI2Mi5jbXM\">86. Meta updates Made by AI label across Facebook, Instagram: Heres what is changing</a>  </p>\n",
       "<ul>\n",
       "<li>Meta changes from 'Made by AI' to 'AI info' labels on Facebook and Instagram content after the Oversight Board's recommendation.</li>\n",
       "<li>The update aims to enhance transparency and prevent unnecessary speech restrictions on AI-generated content.</li>\n",
       "<li>Users can now access more context and information about AI-generated content on the platforms. </li>\n",
       "</ul>\n",
       "<p><a href=\"https://news.google.com/articles/CBMiVmh0dHBzOi8vd3d3LnNvY2lhbG1lZGlhdG9kYXkuY29tL25ld3MvbWV0YS1zd2l0Y2hlcy1haS1sYWJlbHMtbWFkZS1haS1pbmZvLXRhZy83MjAzODQv0gEA\">87. Meta Switches AI Labels From 'Made With AI' to 'AI Info' Tag</a>  </p>\n",
       "<ul>\n",
       "<li>Meta switches \"Made With AI\" labels to \"AI Info\" tag to clarify the use of AI tools in image creation.</li>\n",
       "<li>The change aims to provide more context and ensure that users who have used AI for minor modifications are not mislabeled.</li>\n",
       "<li>This adjustment reflects the need to define the role of AI in visual creation amidst evolving challenges of distinguishing between human and machine-generated content. </li>\n",
       "</ul>\n",
       "<p><a href=\"https://news.google.com/articles/CBMifmh0dHBzOi8vd3d3LmZpbmFuY2lhbGV4cHJlc3MuY29tL2xpZmUvdGVjaG5vbG9neS1tZXRhLXN3YXBzLW1hZGUtd2l0aC1haS1sYWJlbC13aXRoLWFpLWluZm8tb24tcGhvdG9zLWtub3ctcmVhc29uLXdoeS0zNTQxNDQyL9IBAA\">88. Meta swaps Made with AI label with AI Info on photos, know reason why</a>  </p>\n",
       "<ul>\n",
       "<li>Meta changes label from \"Made with AI\" to \"AI Info\" on photos </li>\n",
       "<li>Change made to provide clearer context on use of artificial intelligence in editing </li>\n",
       "<li>Users can now click on the \"AI Info\" tag to get more details on how AI was utilized in the photo </li>\n",
       "</ul>\n",
       "<p><a href=\"https://news.google.com/articles/CBMiNGh0dHBzOi8vOXRvNW1hYy5jb20vMjAyNC8wNy8wMi9maWdtYS1haS13ZWF0aGVyLWFwcC_SAQA\">89. Figma AI just copies Apple's Weather app every time</a>  </p>\n",
       "<ul>\n",
       "<li>A developer found that Figma AI copied Apple's Weather app design when asked to help design a weather app.</li>\n",
       "<li>Figma CEO responded stating the AI is not trained on existing app designs, but there is an issue with the underlying design systems.</li>\n",
       "<li>The Make Design feature of Figma AI has been disabled until the problem is resolved. </li>\n",
       "</ul>\n",
       "<p><a href=\"https://www.404media.co/figma-disables-ai-app-design-tool-after-it-copied-apples-weather-app/\">90. Figma disables its recently launched generative AI app design tool Make Design, after a user showed it copied Apple's Weather when asked to design a weather app</a>  </p>\n",
       "<ul>\n",
       "<li>Figma disabled its AI-powered app design tool called Make Design after it was shown to be copying Apple's weather app design.</li>\n",
       "<li>CEO of Figma took responsibility for the issue, admitting a lack of QA process and pushing the team to meet a deadline.</li>\n",
       "<li>The Make Design feature was temporarily disabled until a full QA pass on the underlying design system could be completed. </li>\n",
       "</ul>\n",
       "<p><a href=\"https://www.cnet.com/tech/services-and-software/how-to-use-midjourney-to-make-a-logo-for-your-business-or-not/\">91. How to Use Midjourney to Make a Logo for Your Business -- or Not</a>  </p>\n",
       "<ul>\n",
       "<li>Midjourney is an AI tool that creates images based on text prompts, intended for various creative purposes like making logos. </li>\n",
       "<li>To use Midjourney, one needs to join their Discord server, interact with the Midjourney Bot, submit text prompts for image creation, select from generated image options, and save the final design. </li>\n",
       "<li>While Midjourney can be useful for generating imagery, it may not be ideal for creating business logos due to its surrealistic style more aligned with gaming than professional branding. </li>\n",
       "</ul>\n",
       "<p><a href=\"https://www.geeky-gadgets.com/how-to-use-runway-gen-3-to-create-ai-video/\">92. How to Use Runway Gen 3 to Create AI Video</a>  </p>\n",
       "<ul>\n",
       "<li>Runway Gen 3 is a text-to-video model by Runway for AI-driven content creation, offering advanced features for creating captivating videos.</li>\n",
       "<li>Users can access Gen 3 for AI video creation by subscribing at Runwayml.com, crafting effective prompts with camera movements, scene establishment, and additional details, and exploring different styles and moods.</li>\n",
       "<li>Gen 3 allows users to generate videos using prompts, fine-tune creations with settings like fixed seed and resolution, refine and manage AI-generated videos, and save prompts for future use, with ongoing updates and improvements planned by Runway. </li>\n",
       "</ul>\n",
       "<p><a href=\"https://www.geeky-gadgets.com/how-to-use-mesop-googles-new-ai-user-interface-ui-builder/\">93. How to use Mesop Google's new AI user interface (UI) Builder</a>  </p>\n",
       "<ul>\n",
       "<li>Mesop is an open-source Python-based UI framework by Google that utilizes AI to streamline web application development, allowing for efficient creation of UI components with minimal code.</li>\n",
       "<li>The framework supports hot reloading for automatic browser updates and state preservation, integrates with Gemini's API, and offers ready-to-use components like text, image, audio, video, sliders, progress bars, embeddings, and animations.</li>\n",
       "<li>Mesop is versatile, suitable for various web development projects such as chatbots and UI layouts, and offers extensive documentation, a demo gallery, and community support for developers to get started and create AI-powered applications efficiently. </li>\n",
       "</ul>\n",
       "<p><a href=\"https://nofilmschool.com/artlist-ai-voice-over\">94. Add High-Quality AI Voice-Overs to Your Videos with Artlist</a>  </p>\n",
       "<ul>\n",
       "<li>Artlist has introduced an in-product AI voice generator to enhance content creation, offering a high-quality voice catalog for professional-grade narrations in videos.</li>\n",
       "<li>The AI voice generator is set to revolutionize content creation with unique voices, democratizing access to high-quality narrations at a cost-effective price.</li>\n",
       "<li>The new feature will be available for $11.99 a month or as part of Artlist's Max plan, aiming to elevate the quality of video content with immersive narratives and emotional clarity. </li>\n",
       "</ul>\n",
       "<p><a href=\"https://gizmodo.com/youtube-ai-content-deepfakes-1851572121\">95. You Can Ask YouTube to Take Down AI-Generated Content That Looks or Sounds Like You</a>  </p>\n",
       "<ul>\n",
       "<li>YouTube now allows users to request the removal of AI-generated content resembling them, with specific criteria and exceptions.</li>\n",
       "<li>The content must be \"uniquely identifiable\" to be considered for removal.</li>\n",
       "<li>Uploaders have 48 hours to respond to removal requests, with further action if no action is taken. </li>\n",
       "</ul>\n",
       "<p><a href=\"https://news.google.com/articles/CBMiY2h0dHBzOi8vd3d3LnBjbWFnLmNvbS9uZXdzL3lvdXR1YmUtbm93LXN1cHBvcnRzLXJlbW92YWwtcmVxdWVzdHMtZm9yLWFpLXZpZGVvcy10aGF0LWxvb2stc291bmQtbGlrZdIBAA\">96. YouTube Now Supports Removal Requests for AI Videos That Look, Sound Like You</a>  </p>\n",
       "<ul>\n",
       "<li>YouTube allows removal requests for AI videos that use your face or voice without permission</li>\n",
       "<li>Criteria for removal requests include providing identifiable information and a recognizable presence in the video</li>\n",
       "<li>YouTube's policy requires disclosure of AI-generated effects in videos, but detecting violations can be challenging </li>\n",
       "</ul>\n",
       "<p><a href=\"https://news.google.com/articles/CBMiaGh0dHBzOi8vd3d3LnN0YXRuZXdzLmNvbS8yMDI0LzA3LzAyL2RyYWctcXVlZW4tYWktY2hhdGJvdC1haWRzLWhlYWx0aGNhcmUtZm91bmRhdGlvbi1lZHVjYXRpb24tb3V0cmVhY2gv0gEA\">97. Drag queen AI chatbot offers advice, education on HIV and STIs</a>  </p>\n",
       "<ul>\n",
       "<li>An AI chatbot trained on drag queens is being used by the AIDS Healthcare Foundation to provide sexual health information, support patients, and manage appointments, particularly targeting those vulnerable to HIV and underserved populations.</li>\n",
       "<li>The chatbot, based on OpenAI's GPT-4 large language model, delivers educational information on STIs, offers appointment scheduling, and has a drag queen persona that has proven popular among patients.</li>\n",
       "<li>Despite concerns about AI tools reaching patients directly, the chatbot has shown early success in providing friendly and informative sexual health guidance, offering tips such as condom use and PrEP, while also saving clinical staff time and expanding access to care. </li>\n",
       "</ul>\n",
       "<p><a href=\"https://news.google.com/articles/CBMiggFodHRwczovL3d3dy5ub3RlYm9va2NoZWNrLm5ldC9HZW5lcmF0ZS1BSS1zdGlja2Vycy1vZi15b3Vyc2VsZi1vbi1XaGF0c0FwcC11c2luZy1JbWFnZS1NZS1mZWF0dXJlLXBvd2VyZWQtYnktTWV0YS1BSS44NTU5NTkuMC5odG1s0gEA\">98. Generate AI stickers of yourself on WhatsApp using \"Image Me\" feature powered by Meta AI</a>  </p>\n",
       "<ul>\n",
       "<li>WhatsApp has introduced a new feature called \"Imagine Me,\" powered by Meta AI, allowing users to generate personalized images of themselves without real photos.</li>\n",
       "<li>Users can upload selfies as references, and Meta AI will create images of them in various environments like a forest or outer space, enhancing self-expression on the platform.</li>\n",
       "<li>The feature is currently limited to certain users and is being rolled out in regions like the US and India, with users needing to look for a new blue icon on their main chat list screen to access it. </li>\n",
       "</ul>\n",
       "<p><a href=\"https://news.google.com/articles/CBMiWWh0dHBzOi8vd3d3LmphZ3Jhbmpvc2guY29tL2dlbmVyYWwta25vd2xlZGdlL2hvdy10by11c2UtbWV0YS1haS1pbi1tZXRhLWFwcHMtMTcxOTgzODAzOC0x0gFdaHR0cHM6Ly93d3cuamFncmFuam9zaC5jb20vZ2VuZXJhbC1rbm93bGVkZ2UvYW1wL2hvdy10by11c2UtbWV0YS1haS1pbi1tZXRhLWFwcHMtMTcxOTgzODAzOC0x\">99. How to use Meta AI in WhatsApp, Facebook and Instagram to Get Answers Quickly</a>  </p>\n",
       "<ul>\n",
       "<li>Meta AI can be used on WhatsApp, Facebook, and Instagram to get quick answers, explore creatively, and stay informed within the apps.</li>\n",
       "<li>Steps to use Meta AI on different platforms include typing \"@\", asking questions or giving tasks, and receiving informative responses.</li>\n",
       "<li>Meta AI is rolling out in India, enhancing the user experience on social media platforms with its advanced AI technology. </li>\n",
       "</ul>\n",
       "<p><a href=\"https://www.zdnet.com/article/i-tested-the-hp-omnibook-x-copilot-pc-and-it-nearly-made-me-a-windows-on-arm-believer/\">100. I tested HP's OmniBook X Copilot+ PC, and it almost made me a Windows on ARM believer</a>  </p>\n",
       "<ul>\n",
       "<li>HP's OmniBook X Copilot+ PC is a portable device with a long-lasting battery, powered by Qualcomm's Snapdragon X Elite for improved performance.</li>\n",
       "<li>The laptop offers a faster, snappier experience with Windows on ARM, although it may be overshadowed by other Snapdragon PCs due to its mediocre display and modest hardware configuration.</li>\n",
       "<li>The OmniBook X 14 is a mid-range Copilot+ PC without groundbreaking features, but it provides impressive battery life and enhanced performance in a compact design. </li>\n",
       "</ul>\n",
       "<p><a href=\"https://hackernoon.com/manners-matter-the-impact-of-politeness-on-human-llm-interaction\">101. Manners Matter? - The Impact of Politeness on Human-LLM Interaction</a>  </p>\n",
       "<ul>\n",
       "<li>Being polite to AI systems like ChatGPT and Gemini can lead to better performance results, while rude prompts can lead to worse performance or biased answers.</li>\n",
       "<li>A study by Hao Wang et al. showed that politeness levels in prompts impact LLMs' performance in English, Chinese, and Japanese tasks, with impolite prompts degrading performance and excessive politeness not consistently enhancing it.</li>\n",
       "<li>LLMs reflect human communication traits, with impolite prompts often degrading performance, and politeness levels impacting output length and performance in different languages like English, Chinese, and Japanese. </li>\n",
       "</ul>\n",
       "<p><a href=\"https://www.androidcentral.com/apps-software/is-geminis-expanded-context-window-as-useful-as-we-thought\">102. Is Gemini's expanded context window as useful as we thought?</a>  </p>\n",
       "<ul>\n",
       "<li>New studies question the effectiveness of Gemini 1.5 Pro and Gemini 1.5 Flash AI models.</li>\n",
       "<li>Gemini's expanded context window may not lead to better understanding of data, as shown in studies.</li>\n",
       "<li>While useful for specific queries within a sentence, Gemini may struggle in processing and comprehending data on a larger scale. </li>\n",
       "</ul>\n",
       "<p><a href=\"https://github.com/pretzelai/pretzelai/blob/main/README.md\">103. Show HN: Adding Mistral Codestral and GPT-4o to Jupyter Notebooks</a>  </p>\n",
       "<ul>\n",
       "<li>Pretzel is a modern, open-source alternative to Jupyter that enhances its capabilities with features like AI code generation, inline tab completion, and sidebar chat for error fixing.</li>\n",
       "<li>Installation of Pretzel is simple with pip install pretzelai, allowing users to benefit from features such as real-time collaboration, SQL support, and a VSCode-like code-writing experience.</li>\n",
       "<li>Users can utilize the AI sidebar in Pretzel to ask questions, generate code, and search for existing code, with the ability to configure the AI service to use OpenAI or Azure API keys. </li>\n",
       "</ul>\n",
       "<p><a href=\"https://hackernoon.com/claude-35-sonnet-vs-gpt-4o-an-honest-review\">104. Claude 3.5 Sonnet vs GPT-4o  An honest review</a>  </p>\n",
       "<ul>\n",
       "<li>Anthropic released Claude 3.5 Sonnet, claiming it sets a new \"industry standard\" for intelligence and performs well in vision tasks.</li>\n",
       "<li>Claude 3.5 boasts improved vision tasks, 2x speed compared to GPT-4o, and introduces Artifacts for tasks like code generation and animation.</li>\n",
       "<li>In tests against GPT-4o, Claude 3.5 demonstrated bug-free code generation, beat GPT-4o in speed, and outperformed in logical reasoning tasks. </li>\n",
       "</ul>\n",
       "<p><a href=\"https://lastweekin.ai/p/lwiai-podcast-172-claude-and-gemini\">105. LWiAI Podcast #172 - Claude and Gemini updates, Gemma 2, GPT-4 Critic</a>  </p>\n",
       "<ul>\n",
       "<li>Anthropic debuts collaboration tools for Claude AI Assistant and Google rolls out Gemini side panels for Gmail and other Workspace apps</li>\n",
       "<li>OpenAI introduces ChatGPT for Mac, while Waymo opens its robotaxis to everyone in San Francisco</li>\n",
       "<li>Research highlights include finding mistakes in GPT-4 using GPT-4, Chinese-built ChatGLM surpassing GPT-4 in benchmarks, and the launch of Google’s Gemma 2 series </li>\n",
       "</ul>\n",
       "<p><a href=\"https://www.star-telegram.com/news/state/texas/article289691769.html\">106. Man uses AI to undress teen girl and is now facing child porn charges, Texas cops say</a>  </p>\n",
       "<ul>\n",
       "<li>A Texas man is facing child pornography charges for using artificial intelligence to undress a teenage girl.</li>\n",
       "<li>This arrest was made possible due to a 2023 amendment in Texas law regarding modified images depicting child pornography.</li>\n",
       "<li>Lawmakers are taking action to address the abuse of technologies like AI in creating exploitative content online, with U.S. Senator Ted Cruz introducing a bill to increase accountability on social media platforms. </li>\n",
       "</ul>\n",
       "<p><a href=\"https://www.the-sun.com/news/11788500/roman-shoffner-texas-ai-artificial-intelligence-teen-clothing-removed/\">107. TWISTED PIC Texas man, 30, arrested after using deep fakeartificial intelligenceprogram to undress underage girl</a>  </p>\n",
       "<ul>\n",
       "<li>Roman Shoffner, a 30-year-old man from Houston, was arrested for using artificial intelligence to undress an underage girl in photos.</li>\n",
       "<li>Shoffner altered photos using an AI program on his phone, removing the girl's clothing and making her appear naked.</li>\n",
       "<li>Police seized Shoffner's phone, leading to the discovery of the altered photos and his subsequent arrest on charges of possessing child pornography. </li>\n",
       "</ul>\n",
       "<p><a href=\"https://news.google.com/articles/CBMiVWh0dHBzOi8vd3d3LnRydWVhY2hpZXZlbWVudHMuY29tL25ld3MvYWxpY2VzLWFkdmVudHVyZXMtc3BlY2lhbC1wYWNrLWRsYy1hY2hpZXZlbWVudHPSAQA\">108. PowerWash Simulator adds ten Xbox achievements with Alice's Adventures DLC</a>  </p>\n",
       "<ul>\n",
       "<li>PowerWash Simulator's Alice's Adventures DLC offers ten new Xbox achievements set in a fairy tale Wonderland with new levels, items, outfits, and tasks.</li>\n",
       "<li>The DLC includes achievements for completing different levels and specific actions within them, adding to the overall gaming experience.</li>\n",
       "<li>Players can unlock a total of 180 Gamerscore by completing tasks like cleaning, balancing on objects, and rolling croquet balls in specific locations within the game. </li>\n",
       "</ul>\n",
       "<p><a href=\"https://techcrunch.com/2024/07/02/news-outlets-are-accusing-perplexity-of-plagiarism-and-unethical-web-scraping/\">109. News outlets are accusing Perplexity of plagiarism and unethical web scraping</a>  </p>\n",
       "<ul>\n",
       "<li>Perplexity AI is being accused of plagiarism and unethical web scraping by news outlets </li>\n",
       "<li>Accusations include plagiarizing articles and illicitly scraping websites despite claims of compliance with Robots Exclusion Protocol </li>\n",
       "<li>Perplexity's approach to using AI to generate answers from the internet is being scrutinized for potential copyright violations and unethical practices </li>\n",
       "</ul>\n",
       "<p><a href=\"https://news.google.com/articles/CBMiXWh0dHBzOi8vd3d3LmdhbWluZ2JpYmxlLmNvbS9uZXdzL2Fzc2Fzc2lucy1jcmVlZC1zaGFkb3dzLWF0dGVtcHRpbmctY2FuY2VsbGVkLTE0NTU5Ny0yMDI0MDcwMtIBAA\">110. Assassin's Creed 'fans' are attempting to get Shadows cancelled</a>  </p>\n",
       "<ul>\n",
       "<li>Subset of Assassin's Creed fans petitioning for cancellation of Assassin’s Creed Shadows due to concerns about cultural accuracy, specifically questioning the depiction of a black samurai.</li>\n",
       "<li>Petition calls for cancellation of the game citing lack of historical accuracy, disrespect to Japanese culture, and potential links to Asian racism, demanding Ubisoft to show sincere research and respect.</li>\n",
       "<li>Despite the backlash, Ubisoft is unlikely to cancel the release of Assassin’s Creed Shadows, set to launch on November 12 for Xbox Series X/S, PlayStation 5, and PC. </li>\n",
       "</ul>\n",
       "<p><a href=\"https://news.google.com/articles/CBMirwFodHRwczovL3d3dy5pZ24uY29tL2FydGljbGVzL2NhbGwtb2YtZHV0eXMtbmV3LWV4dHJhLWNyaXNweS1ndW4tbGV0cy15b3UtY29vay1lYXQtYW5kLXR1cm4teW91ci1lbmVtaWVzLWludG8tZnJpZWQtY2hpY2tlbi1hbmQtcGVvcGxlLWFyZS1ibGFtaW5nLWl0LWFsbC1vbi1mb3J0bml0ZS1vbmNlLWFnYWlu0gEA\">111. Call of Dutys New Extra Crispy Gun Lets You Cook, Eat, and Turn Your Enemies Into Fried Chicken and People Are Blaming It All on Fortnite Once Again</a>  </p>\n",
       "<ul>\n",
       "<li>The introduction of the 'Extra Crispy' gun in Call of Duty Warzone Mobile has sparked debate and reactions from fans, with some finding it silly and others embracing the humor and creativity.</li>\n",
       "<li>Activision is known for incorporating outlandish cosmetic items and crossovers in Call of Duty games, generating significant revenue through microtransactions.</li>\n",
       "<li>With the release of Black Ops 6, there will be a fresh start for cosmetics, as bundles purchased for previous games will not carry over, signaling a return to a semblance of realism initially. </li>\n",
       "</ul>"
      ],
      "text/plain": [
       "<IPython.core.display.HTML object>"
      ]
     },
     "metadata": {},
     "output_type": "display_data"
    }
   ],
   "source": [
    "# Convert Markdown to HTML\n",
    "html_str = markdown.markdown(markdown_str, extensions=['extra'])\n",
    "display(HTML(html_str))\n"
   ]
  },
  {
   "cell_type": "code",
   "execution_count": 57,
   "id": "0d5bbb2b",
   "metadata": {},
   "outputs": [
    {
     "name": "stderr",
     "output_type": "stream",
     "text": [
      "2024-07-02 12:47:31,441 - AInewsbot - INFO - Sending mail\n",
      "2024-07-02 12:47:34,623 - AInewsbot - INFO - Finished\n"
     ]
    },
    {
     "data": {
      "text/plain": [
       "20"
      ]
     },
     "execution_count": 57,
     "metadata": {},
     "output_type": "execute_result"
    }
   ],
   "source": [
    "log(\"Sending mail\")\n",
    "from_addr = os.getenv(\"GMAIL_USER\")\n",
    "to_addr = os.getenv(\"GMAIL_USER\")\n",
    "subject = 'AI news summaries ' + datetime.now().strftime('%H:%M:%S')\n",
    "body = f\"\"\"\n",
    "<html>\n",
    "    <head></head>\n",
    "    <body>\n",
    "    <div>\n",
    "    {html_str}\n",
    "    </div>\n",
    "    </body>\n",
    "</html>\n",
    "\"\"\"\n",
    "\n",
    "# Setup the MIME\n",
    "message = MIMEMultipart()\n",
    "message['From'] = os.getenv(\"GMAIL_USER\")\n",
    "message['To'] = os.getenv(\"GMAIL_USER\")\n",
    "message['Subject'] = subject\n",
    "message.attach(MIMEText(body, 'html'))\n",
    "\n",
    "# Create SMTP session\n",
    "with smtplib.SMTP('smtp.gmail.com', 587) as server:\n",
    "    server.starttls()  # Secure the connection\n",
    "    server.login(os.getenv(\"GMAIL_USER\"), os.getenv(\"GMAIL_PASSWORD\"))\n",
    "    text = message.as_string()\n",
    "    server.sendmail(from_addr, to_addr, text)\n",
    "\n",
    "log(\"Finished\")\n"
   ]
  },
  {
   "cell_type": "code",
   "execution_count": 64,
   "id": "0c844546",
   "metadata": {},
   "outputs": [
    {
     "name": "stdout",
     "output_type": "stream",
     "text": [
      "[1. AI-Crypto Startup Raises $85 Million in Deal Led by Thiel's Fund](https://news.google.com/articles/CBMiSWh0dHBzOi8vZmluYW5jZS55YWhvby5jb20vbmV3cy9haS1jcnlwdG8tc3RhcnR1cC1yYWlzZXMtODUtMTMwMDAwNTUzLmh0bWzSAQA)  \n",
      "\n",
      "- AI-Crypto startup raised $85 million in deal led by Thiel's fund\n",
      "- Job openings increase surprises Wall Street\n",
      "- Powell encouraged by cooler inflation data \n",
      "\n",
      "[2. Sentient closes $85M seed round for open-source AI](https://news.google.com/articles/CBMiR2h0dHBzOi8vY29pbnRlbGVncmFwaC5jb20vbmV3cy9zZW50aWVudC04NS1taWxsaW9uLXJvdW5kLW9wZW4tc291cmNlLWFp0gEA)  \n",
      "\n",
      "- Sentient secured $85 million in a seed funding round led by Peter Thiel's Founders Fund, Pantera Capital, and Framework Ventures for their open-source AI platform.\n",
      "- The startup aims to incentivize AI developers with its blockchain protocol and incentive mechanism, allowing for the evolution of open artificial general intelligence.\n",
      "- The tech industry is witnessing a rise in decentralized AI startups combining blockchain \n"
     ]
    }
   ],
   "source": [
    "print(markdown_str[:1000])\n"
   ]
  },
  {
   "cell_type": "code",
   "execution_count": 94,
   "id": "80df6223",
   "metadata": {},
   "outputs": [],
   "source": [
    "BIGPROMPT = f\"\"\"You are a summarization assistant. I will provide a list of today's news stories about AI\n",
    "and summary bullet points in markdown format. You are tasked with identifying and summaerizing the key themes, \n",
    "common facts, and recurring elements. Your goal is to create a concise summary containing about 20 of the most frequently \n",
    "mentioned topics and developments.\n",
    "\n",
    "Example Bullet Points:\n",
    "\n",
    "[2. Sentient closes $85M seed round for open-source AI](https://cointelegraph.com/news/sentient-85-million-round-open-source-ai)  \n",
    "\n",
    "- Sentient secured $85 million in a seed funding round led by Peter Thiel's Founders Fund, Pantera Capital, and Framework Ventures for their open-source AI platform.\n",
    "- The startup aims to incentivize AI developers with its blockchain protocol and incentive mechanism, allowing for the evolution of open artificial general intelligence.\n",
    "- The tech industry is witnessing a rise in decentralized AI startups combining blockchain \n",
    "\n",
    "Examples of important stories:\n",
    "\n",
    "Major investments and funding rounds\n",
    "Key technological advancements or breakthroughs\n",
    "Frequently mentioned companies, organizations, or figures\n",
    "Notable statements by AI leaders\n",
    "Any other recurring themes or notable patterns\n",
    "\n",
    "Instructions:\n",
    "Read the summaries closely. \n",
    "Use only information provided in them.\n",
    "Write in the professional but engaging, narrative style of a tech reporter for a national publication.\n",
    "Provide the most common facts without commentary \n",
    "Be concise and focus on the most common elements across the bullet points.\n",
    "Group similar items together.\n",
    "Ensure that you provide at least one link from the provided text for each item in the summary.\n",
    "You must include at least 10 and no more than 25 items in the summary.\n",
    "\n",
    "Bullet Points to Summarize:\n",
    "\n",
    "{markdown_str}\n",
    "\n",
    "\"\"\""
   ]
  },
  {
   "cell_type": "code",
   "execution_count": 95,
   "id": "0726c08e",
   "metadata": {},
   "outputs": [
    {
     "name": "stderr",
     "output_type": "stream",
     "text": [
      "2024-07-02 13:45:52,351 - httpx - INFO - HTTP Request: POST https://api.openai.com/v1/chat/completions \"HTTP/1.1 200 OK\"\n"
     ]
    }
   ],
   "source": [
    "response = client.chat.completions.create(\n",
    "    model=\"gpt-4o\",\n",
    "    messages=[{\"role\": \"system\", \"content\": SYSTEM_PROMPT},\n",
    "              {\"role\": \"user\", \"content\": BIGPROMPT\n",
    "              }],\n",
    "    n=5,   \n",
    "    temperature=0.5\n",
    ")\n"
   ]
  },
  {
   "cell_type": "code",
   "execution_count": 96,
   "id": "35dacf6e",
   "metadata": {},
   "outputs": [
    {
     "data": {
      "text/markdown": [
       "- Sentient raised \\$85 million in seed funding led by Peter Thiel's Founders Fund, Pantera Capital, and Framework Ventures for their open-source AI platform, focusing on incentivizing AI development through blockchain. [source](https://news.google.com/articles/CBMiR2h0dHBzOi8vY29pbnRlbGVncmFwaC5jb20vbmV3cy9zZW50aWVudC04NS1taWxsaW9uLXJvdW5kLW9wZW4tc291cmNlLWFp0gEA)\n",
       "- Elon Musk announced the upcoming releases of Grok 2 in August and Grok 3 by the end of the year, planning to train Grok 3 on 100,000 Nvidia H100 GPUs. His AI startup, xAI, aims to push boundaries in AI technology. [source](https://news.google.com/articles/CBMiXGh0dHBzOi8vY29pbmdhcGUuY29tL2Vsb24tbXVzay1hbm5vdW5jZXMtamFydmlzLWluc3BpcmVkLXhhaS1ncm9rLTItYWktY2hhdGJvdC1yZWxlYXNlLWRhdGUv0gFgaHR0cHM6Ly9jb2luZ2FwZS5jb20vZWxvbi1tdXNrLWFubm91bmNlcy1qYXJ2aXMtaW5zcGlyZWQteGFpLWdyb2stMi1haS1jaGF0Ym90LXJlbGVhc2UtZGF0ZS9hbXAv)\n",
       "- Northern Data AG is considering a U.S. IPO for its AI cloud computing and data center businesses at a valuation up to \\$16 billion, reflecting a shift from Bitcoin mining to AI-focused operations. [source](https://news.google.com/articles/CBMieWh0dHBzOi8vd3d3LmNoYW5uZWxuZXdzYXNpYS5jb20vYnVzaW5lc3Mvbm9ydGhlcm4tZGF0YS1jb25zaWRlcnMtYWktdW5pdC11cy1pcG8tMTYtYmlsbGlvbi1ibG9vbWJlcmctbmV3cy1yZXBvcnRzLTQ0NTAwNjbSAQA)\n",
       "- Ken Griffin expressed skepticism about AI's potential to replace jobs soon, emphasizing its role in enhancing human productivity rather than replacing workers entirely. [source](https://news.google.com/articles/CBMiZWh0dHBzOi8vZm9ydHVuZS5jb20vMjAyNC8wNy8wMi9rZW4tZ3JpZmZpbi1jaXRhZGVsLWdlbmVyYXRpdmUtYWktaHlwZS1vcGVuYWktbWlyYS1tdXJhdGktbnZpZGlhLWpvYnMv0gEA)\n",
       "- Nvidia CEO Jensen Huang envisions a future where advanced AI systems outperform humans in the job market, driving transformative changes across various industries. [source](https://www.windowscentral.com/software-apps/nvidias-ceo-envisions-a-future-where-multi-shot-agentic-ais-armed-with-reasoning-superpowers-outperform-humans-in-the-job-market)\n",
       "- SAP's strategy emphasizes leveraging AI for business transformation, cloud migration, and sustainability, with partnerships with tech giants for improved functionalities and processes. [source](https://news.google.com/articles/CBMid2h0dHBzOi8vd3d3LmZvcmJlcy5jb20vc2l0ZXMvbW9vcmluc2lnaHRzLzIwMjQvMDYvMjcvc2FwLWNoYXJ0cy1hLWNvdXJzZS1mb3ItdGhlLWFpLWRyaXZlbi1lbnRlcnByaXNlLWF0LXNhcHBoaXJlLTIwMjQv0gEA)\n",
       "- China aims to set at least 50 AI standards by 2026, covering aspects such as chips, applications, and safety, aligning with international AI standards for inclusive business environments. [source](https://www.scmp.com/tech/tech-trends/article/3268907/china-eyes-least-50-sets-ai-standards-2026-chips-applications-and-safety)\n",
       "- AI-generated exam papers are detected in only 6% of cases, raising concerns about academic integrity and the need for updated policies in the educational sector. [source](https://news.google.com/articles/CBMiamh0dHBzOi8vd3d3LmV1cm9uZXdzLmNvbS9uZXh0LzIwMjQvMDcvMDIvYWktZ2VuZXJhdGVkLWV4YW0tcGFwZXJzLWdvLXVuZGV0ZWN0ZWQtaW4tOTQtb2YtY2FzZXMtc3R1ZHktZmluZHPSAQA)\n",
       "- California's proposed AI regulation bill, opposed by tech giants like Meta, seeks to prevent catastrophic events caused by AI models by implementing safety measures and oversight. [source](https://www.fastcompany.com/91150396/meta-is-against-californias-ai-bill-heres-why)\n",
       "- AI companies face growing pressure to pay for training data, impacting the AI industry by potentially leading to the development of smaller, more efficient models. [source](https://news.google.com/articles/CBMieGh0dHBzOi8vd3d3LnRlY2hub2xvZ3lyZXZpZXcuY29tLzIwMjQvMDcvMDIvMTA5NDUwOC9haS1jb21wYW5pZXMtYXJlLWZpbmFsbHktYmVpbmctZm9yY2VkLXRvLWNvdWdoLXVwLWZvci10cmFpbmluZy1kYXRhL9IBfGh0dHBzOi8vd3d3LnRlY2hub2xvZ3lyZXZpZXcuY29tLzIwMjQvMDcvMDIvMTA5NDUwOC9haS1jb21wYW5pZXMtYXJlLWZpbmFsbHktYmVpbmctZm9yY2VkLXRvLWNvdWdoLXVwLWZvci10cmFpbmluZy1kYXRhL2FtcC8)\n",
       "- ElevenLabs partners with the estates of famous Hollywood actors to use AI-generated voices to read text on a new app, showcasing the merging of AI and entertainment. [source](https://news.google.com/articles/CBMibGh0dHBzOi8vdmFyaWV0eS5jb20vMjAyNC9iaXovbmV3cy9haS1qdWR5LWdhcmxhbmQtamFtZXMtZGVhbi1idXJ0LXJleW5vbGRzLWVsZXZlbmxhYnMtcmVhZGVyLWFwcC0xMjM2MDU4ODI5L9IBcGh0dHBzOi8vdmFyaWV0eS5jb20vMjAyNC9iaXovbmV3cy9haS1qdWR5LWdhcmxhbmQtamFtZXMtZGVhbi1idXJ0LXJleW5vbGRzLWVsZXZlbmxhYnMtcmVhZGVyLWFwcC0xMjM2MDU4ODI5L2FtcC8)\n",
       "- Geoffrey Rush discussed the intrigue of human creativity versus AI sophistication, reflecting on his experiences and future projects at the Karlovy Vary International Film Festival. [source](https://news.google.com/articles/CBMib2h0dHBzOi8vd3d3LmhvbGx5d29vZHJlcG9ydGVyLmNvbS9tb3ZpZXMvbW92aWUtbmV3cy9nZW9mZnJleS1ydXNoLWFpLWpvaG4tbGl0aGdvdy1ncm91Y2hvLW1hcngtZmlsbS0xMjM1OTM3MjAxL9IBc2h0dHBzOi8vd3d3LmhvbGx5d29vZHJlcG9ydGVyLmNvbS9tb3ZpZXMvbW92aWUtbmV3cy9nZW9mZnJleS1ydXNoLWFpLWpvaG4tbGl0aGdvdy1ncm91Y2hvLW1hcngtZmlsbS0xMjM1OTM3MjAxL2FtcC8)\n",
       "- Google faces rising emissions due to increased AI usage, impacting its climate change goals as data centers consume significant energy. [source](https://www.ft.com/content/383719aa-df38-4ae3-ab0e-6279a897915e)\n",
       "- Crusoe Energy shifts focus from crypto mining to building AI data centers, leveraging its expertise in high-density GPU hosting and expanding data center capacity. [source](https://news.google.com/articles/CBMiZ2h0dHBzOi8vd3d3LmRhdGFjZW50ZXJkeW5hbWljcy5jb20vZW4vbmV3cy9jcnVzb2UtcGl2b3RzLXRvLWJ1aWxkaW5nLWRhdGEtY2VudGVycy1wbGFucy0xMDBtdy1mYWNpbGl0eS_SAQA)\n",
       "- Anthropic launches a program to fund reliable AI benchmarks, incentivizing researchers to develop new evaluation methods to enhance AI's societal impact assessment. [source](https://siliconangle.com/2024/07/01/anthropic-launches-new-program-fund-creation-reliable-ai-benchmarks/)\n",
       "- Nvidia is facing its first AI antitrust charge due to its dominant market position, prompting regulatory scrutiny from France, the EU, and the US. [source](https://news.google.com/articles/CBMiPWh0dHBzOi8vd3d3LmJhcnJvbnMuY29tL2FydGljbGVzL252aWRpYS1hbnRpdHJ1c3QtYWktNzhjMWM1NDjSAUFodHRwczovL3d3dy5iYXJyb25zLmNvbS9hbXAvYXJ0aWNsZXMvbnZpZGlhLWFudGl0cnVzdC1haS03OGMxYzU0OA)\n",
       "- Meta revises \"Made with AI\" labels to \"AI Info\" on Facebook and Instagram posts for added transparency and to prevent confusion about AI-generated content. [source](https://news.google.com/articles/CBMiVmh0dHBzOi8vd3d3LnNvY2lhbG1lZGlhdG9kYXkuY29tL25ld3MvbWV0YS1zd2l0Y2hlcy1haS1sYWJlbHMtbWFkZS1haS1pbmZvLXRhZy83MjAzODQv0gEA)\n",
       "- AI tools used in creating exploitative content are drawing legal and regulatory responses as lawmakers seek to address abuse and hold platforms accountable. [source](https://www.star-telegram.com/news/state/texas/article289691769.html)\n",
       "- WhatsApp introduces \"Imagine Me\" feature powered by Meta AI, allowing users to generate personalized images enhancing the user experience on the platform. [source](https://news.google.com/articles/CBMiggFodHRwczovL3d3dy5ub3RlYm9va2NoZWNrLm5ldC9HZW5lcmF0ZS1BSS1zdGlja2Vycy1vZi15b3Vyc2VsZi1vbi1XaGF0c0FwcC11c2luZy1JbWFnZS1NZS1mZWF0dXJlLXBvd2VyZWQtYnktTWV0YS1BSS44NTU5NTkuMC5odG1s0gEA)\n",
       "- AI use in supply chains and logistics is set to enhance efficiency and decision-making, transforming industry processes and operations. [source](https://news.google.com/articles/CBMiW2h0dHBzOi8vd3d3Lm1hZXJzay5jb20vaW5zaWdodHMvZGlnaXRhbGlzYXRpb24vMjAyNC8wNy8wMi9haS1pbi1sb2dpc3RpY3MtYW5kLXN1cHBseS1jaGFpbnPSAQA)"
      ],
      "text/plain": [
       "<IPython.core.display.Markdown object>"
      ]
     },
     "metadata": {},
     "output_type": "display_data"
    }
   ],
   "source": [
    "response_str = response.choices[0].message.content\n",
    "response_str = response_str.replace(\"$\", \"\\\\$\")\n",
    "display(Markdown(response_str))\n"
   ]
  },
  {
   "cell_type": "code",
   "execution_count": 89,
   "id": "c30001c9",
   "metadata": {},
   "outputs": [
    {
     "data": {
      "text/markdown": [
       "\n",
       "- **Major Investments and Funding Rounds**: AI-Crypto startup Sentient raised \\$85M in seed funding led by Peter Thiel's Founders Fund, consistently reported across multiple sources ([Sentient closes \\$85M seed round for open-source AI](https://news.google.com/articles/CBMiSWh0dHBzOi8vZmluYW5jZS55YWhvby5jb20vbmV3cy9haS1jcnlwdG8tc3RhcnR1cC1yYWlzZXMtODUtMTMwMDAwNTUzLmh0bWzSAQA), [Sentient closes \\$85M seed round for open-source AI](https://news.google.com/articles/CBMiR2h0dHBzOi8vY29pbnRlbGVncmFwaC5jb20vbmV3cy9zZW50aWVudC04NS1taWxsaW9uLXJvdW5kLW9wZW4tc291cmNlLWFp0gEA) and [Peter Thiel’s Founders Fund co-leads \\$85 million seed round for open-source AI platform Sentient](https://news.google.com/articles/CBMiWWh0dHBzOi8vd3d3LnRoZWJsb2NrLmNvL3Bvc3QvMzAyOTgzL3BldGVyLXRoaWVsLWZvdW5kZXJzLWZ1bmQtc2VudGllbnQtZnVuZGluZy1haS1wb2x5Z29u0gFdaHR0cHM6Ly93d3cudGhlYmxvY2suY28vYW1wL3Bvc3QvMzAyOTgzL3BldGVyLXRoaWVsLWZvdW5kZXJzLWZ1bmQtc2VudGllbnQtZnVuZGluZy1haS1wb2x5Z29u)).\n",
       "\n",
       "- **Elon Musk’s Grok Chatbots**: Elon Musk's xAI announced the launch schedule for Grok 2 and Grok 3, along with plans to train them on 100,000 Nvidia H100 GPUs, highlighting a significant investment in advanced AI hardware ([Elon Musk says Grok 2 due in August, Grok 3 by end of year](https://news.google.com/articles/CBMiVmh0dHBzOi8vd3d3Lm5lb3dpbi5uZXQvbmV3cy9lbG9uLW11c2stc2F5cy1ncm9rLTItZHVlLWluLWF1Z3VzdC1ncm9rLTMtYnktZW5kLW9mLXllYXIv0gEA), [Elon Musk Announces JARVIS-Inspired xAI Grok 2 AI Chatbot Release Date](https://news.google.com/articles/CBMiXGh0dHBzOi8vY29pbmdhcGUuY29tL2Vsb24tbXVzay1hbm5vdW5jZXMtamFydmlzLWluc3BpcmVkLXhhaS1ncm9rLTItYWktY2hhdGJvdC1yZWxlYXNlLWRhdGUv0gFgaHR0cHM6Ly9jb2luZ2FwZS5jb20vZWxvbi1tdXNrLWFubm91bmNlcy1qYXJ2aXMtaW5zcGlyZWQteGFpLWdyb2stMi1haS1jaGF0Ym90LXJlbGVhc2UtZGF0ZS9hbXAv) and [Elon Musk Reveals The Staggering Amount Of Nvidia H100 GPUs That Will Be Used To Train xAI Chatbot Grok](https://www.benzinga.com/news/24/07/39594885/elon-musk-reveals-the-staggering-amount-of-nvidia-h100-gpus-that-will-be-used-to-train-xai-chatbot-g)).\n",
       "\n",
       "- **Regulatory and Ethical Concerns**: Regulatory bodies like French and European authorities, as well as the US Department of Justice, are investigating Nvidia for potential antitrust issues due to its dominance in the AI industry, reflecting growing scrutiny of AI monopolies ([French regulators consider AI antitrust charges against Nvidia](https://news.google.com/articles/CBMiQWh0dHBzOi8vd3d3LnRoZXJlZ2lzdGVyLmNvbS8yMDI0LzA3LzAxL2ZyZW5jaF9udmlkaWFfY29tcGV0aXRpb24v0gFFaHR0cHM6Ly93d3cudGhlcmVnaXN0ZXIuY29tL0FNUC8yMDI0LzA3LzAxL2ZyZW5jaF9udmlkaWFfY29tcGV0aXRpb24v), [Nvidia's dominance in AI market under scrutiny](https://news.google.com/articles/CBMiXGh0dHBzOi8vd3d3LmJ1c2luZXNzaW5zaWRlci5jb20vbnZpZGlhLXNlY3JldC1zYXVjZS1yZWd1bGF0b3JzLWdwdS1jaGlwcy1qZW5zZW4taHVhbmctMjAyNC030gFgaHR0cHM6Ly93d3cuYnVzaW5lc3NpbnNpZGVyLmNvbS9udmlkaWEtc2VjcmV0LXNhdWNlLXJlZ3VsYXRvcnMtZ3B1LWNoaXBzLWplbnNlbi1odWFuZy0yMDI0LTc_YW1w) and [Nvidia faces first AI antitrust charge](https://news.google.com/articles/CBMiPWh0dHBzOi8vd3d3LmJhcnJvbnMuY29tL2FydGljbGVzL252aWRpYS1hbnRpdHJ1c3QtYWktNzhjMWM1NDjSAUFodHRwczovL3d3dy5iYXJyb25zLmNvbS9hbXAvYXJ0aWNsZXMvbnZpZGlhLWFudGl0cnVzdC1haS03OGMxYzU0OA)). \n"
      ],
      "text/plain": [
       "<IPython.core.display.Markdown object>"
      ]
     },
     "metadata": {},
     "output_type": "display_data"
    }
   ],
   "source": [
    "display(Markdown(response_str[11:]))\n"
   ]
  },
  {
   "cell_type": "code",
   "execution_count": null,
   "id": "c54b01f8",
   "metadata": {},
   "outputs": [],
   "source": []
  }
 ],
 "metadata": {
  "kernelspec": {
   "display_name": "ainewsbot",
   "language": "python",
   "name": "ainewsbot"
  },
  "language_info": {
   "codemirror_mode": {
    "name": "ipython",
    "version": 3
   },
   "file_extension": ".py",
   "mimetype": "text/x-python",
   "name": "python",
   "nbconvert_exporter": "python",
   "pygments_lexer": "ipython3",
   "version": "3.9.19"
  }
 },
 "nbformat": 4,
 "nbformat_minor": 5
}
