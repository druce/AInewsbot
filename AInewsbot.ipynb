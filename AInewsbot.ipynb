{
 "cells": [
  {
   "cell_type": "markdown",
   "id": "cd15f6b8-26b9-468c-8427-9de836b240fd",
   "metadata": {},
   "source": [
    "AInewsbot.ipynb\n",
    "\n",
    "- Automate collecting daily AI news\n",
    "- Open URLs of news sites specififed in `sources` dict (sources.yaml) using Selenium and Firefox\n",
    "- Save HTML of each URL in htmldata directory\n",
    "- Extract URLs from all files, create a pandas dataframe with url, title, src\n",
    "- Use ChatGPT to filter only AI-related headlines by sending a prompt and formatted table of headlines\n",
    "- Use SQLite to filter headlines previously seen \n",
    "- OPENAI_API_KEY should be in the environment or in a .env file\n",
    "  \n",
    "Alternative manual workflow to get HTML files if necessary\n",
    "- Use Chrome, open e.g. Tech News bookmark folder, right-click and open all bookmarks in new window\n",
    "- on Google News, make sure switch to AI tab\n",
    "- on Google News, Feedly, Reddit, scroll to additional pages as desired\n",
    "- Use SingleFile extension, 'save all tabs'\n",
    "- Move files to htmldata directory\n",
    "- Run lower part of notebook to process the data\n"
   ]
  },
  {
   "cell_type": "code",
   "execution_count": 1,
   "id": "d7195880-36be-4987-b71f-86590c934d72",
   "metadata": {},
   "outputs": [],
   "source": [
    "from datetime import datetime\n",
    "import time\n",
    "import re\n",
    "import os\n",
    "import yaml\n",
    "import dotenv\n",
    "import sqlite3\n",
    "import unicodedata\n",
    "\n",
    "import numpy as np\n",
    "import pandas as pd\n",
    "from scipy.spatial.distance import cdist\n",
    "\n",
    "# import bs4\n",
    "from bs4 import BeautifulSoup\n",
    "import requests\n",
    "from urllib.parse import urljoin, urlparse\n",
    "\n",
    "from selenium import webdriver\n",
    "from selenium.webdriver.common.by import By\n",
    "# use firefox v. chrome b/c it updates less often, can disable updates\n",
    "# recommend importing profile from Chrome for cookies, passwords\n",
    "# looks less like a bot with more user cruft in the profile\n",
    "from selenium.webdriver.firefox.options import Options\n",
    "from selenium.webdriver.firefox.service import Service\n",
    "\n",
    "import smtplib\n",
    "from email.mime.multipart import MIMEMultipart\n",
    "from email.mime.text import MIMEText\n",
    "\n",
    "from openai import OpenAI\n",
    "\n",
    "from ainb_const import (DOWNLOAD_DIR,\n",
    "                        SOURCECONFIG, PROMPT)\n",
    "from ainb_utilities import log, delete_files, filter_unseen_urls_db, insert_article, nearest_neighbor_sort, agglomerative_cluster_sort\n",
    "from ainb_webscrape import init_browser, get_file, parse_file, get_og_tags, get_path_from_url, trimmed_href\n",
    "from ainb_llm import paginate_df, process_pages"
   ]
  },
  {
   "cell_type": "code",
   "execution_count": 2,
   "id": "4697b2ea-364e-4aa9-bb98-99f452ac70a7",
   "metadata": {},
   "outputs": [
    {
     "data": {
      "text/plain": [
       "True"
      ]
     },
     "execution_count": 2,
     "metadata": {},
     "output_type": "execute_result"
    }
   ],
   "source": [
    "SOURCECONFIG = \"sources.yaml\"\n",
    "DOWNLOAD_DIR = \"htmldata\"\n",
    "\n",
    "# load secrets, credentials from .env\n",
    "dotenv.load_dotenv()\n"
   ]
  },
  {
   "cell_type": "code",
   "execution_count": 3,
   "id": "7d1abe98-7bdc-48d2-8011-1b4b676ed27b",
   "metadata": {},
   "outputs": [],
   "source": [
    "PROMPT = \"\"\"\n",
    "Please serve as a research assistant for the purpose of categorizing news articles based on their relevance to artificial intelligence (AI). \n",
    "Your main responsibility will involve processing and classifying news articles formatted as JSON objects.\n",
    "\n",
    "Classification Criteria: Based on the title of each story, you are to classify whether the story primarily pertains to AI or not. \n",
    "Consider AI-related content to broadly include topics such as machine learning, robotics, computer vision, reinforcement learning, \n",
    "large language models, related topics, and specific references to AI entities like OpenAI or ChatGPT.\n",
    "\n",
    "Input Specification: You will receive a list of news stories formatted as JSON objects separated by the delimiter \"|\". \n",
    "Each object includes an 'id' and a 'title'. For instance:\n",
    "|\n",
    "{'stories':\n",
    "[{'id': 97, 'title': 'AI to predict dementia, detect cancer'},\n",
    " {'id': 103,'title': 'Figure robot learns to make coffee by watching humans for 10 hours'},\n",
    " {'id': 103,'title': 'Baby trapped in refrigerator eats own foot'},\n",
    " {'id': 210,'title': 'ChatGPT removes, then reinstates a summarization assistant without explanation.'},\n",
    " {'id': 298,'title': 'The 5 most interesting PC monitors from CES 2024'},\n",
    " ]\n",
    "}\n",
    "|\n",
    "\n",
    "Output Specification: For each story, your output should be a JSON object containing the original 'id' and a new field 'isAI', \n",
    "which is a boolean indicating if the story is about AI. This output should be enclosed in the delimiter \"~\". \n",
    "The output schema must be strictly adhered to, without any additional fields. Example output:\n",
    "~\n",
    "{'stories':\n",
    "[{'id': 97, 'isAI': true},\n",
    " {'id': 103, 'isAI': true},\n",
    " {'id': 103, 'isAI': false},\n",
    " {'id': 210, 'isAI': true},\n",
    " {'id': 298, 'isAI': false}]\n",
    "}\n",
    "~\n",
    "\n",
    "Strictly ensure that each output object accurately reflects the corresponding input object in terms of the 'id' field \n",
    "and that the 'isAI' field accurately represents the AI relevance of the story as determined by the title.\n",
    "\n",
    "The list of news stories to classify and enrich is:\n",
    "\n",
    "\"\"\""
   ]
  },
  {
   "cell_type": "code",
   "execution_count": 4,
   "id": "faebd0b1-7f16-4d82-aed2-78db931b93e3",
   "metadata": {},
   "outputs": [
    {
     "data": {
      "text/plain": [
       "{'og:site_name': 'Druce.ai',\n",
       " 'og:title': 'Druce.ai',\n",
       " 'og:type': 'website',\n",
       " 'og:description': \"Druce's Blog on Machine Learning, Tech, Markets and Economics\",\n",
       " 'og:url': 'https://druce.ai/',\n",
       " 'title': 'Druce.ai'}"
      ]
     },
     "execution_count": 4,
     "metadata": {},
     "output_type": "execute_result"
    }
   ],
   "source": [
    "get_og_tags('https://druce.ai')\n"
   ]
  },
  {
   "cell_type": "code",
   "execution_count": 5,
   "id": "6b5b2492-09c4-4d27-88fb-c240370b3de4",
   "metadata": {},
   "outputs": [
    {
     "data": {
      "text/plain": [
       "'/2024/03/gemini-summarize-book'"
      ]
     },
     "execution_count": 5,
     "metadata": {},
     "output_type": "execute_result"
    }
   ],
   "source": [
    "get_path_from_url('https://druce.ai/2024/03/gemini-summarize-book')\n"
   ]
  },
  {
   "cell_type": "code",
   "execution_count": 6,
   "id": "6def50db-fe4e-494c-8ecf-f5334bdc2db2",
   "metadata": {},
   "outputs": [
    {
     "data": {
      "text/plain": [
       "'https://druce.ai/2024/03/gemini-summarize-book'"
      ]
     },
     "execution_count": 6,
     "metadata": {},
     "output_type": "execute_result"
    }
   ],
   "source": [
    "trimmed_href('https://druce.ai/2024/03/gemini-summarize-book?xyz')\n"
   ]
  },
  {
   "cell_type": "code",
   "execution_count": 7,
   "id": "c2324ab9-f769-4a6f-aa16-a30a001ede78",
   "metadata": {},
   "outputs": [
    {
     "name": "stderr",
     "output_type": "stream",
     "text": [
      "2024-05-01 13:06:43,941 - AInewsbot - INFO - Load 17 sources\n"
     ]
    },
    {
     "data": {
      "text/plain": [
       "20"
      ]
     },
     "execution_count": 7,
     "metadata": {},
     "output_type": "execute_result"
    }
   ],
   "source": [
    "#  load sources to scrape from sources.yaml\n",
    "with open(SOURCECONFIG, \"r\") as stream:\n",
    "    try:\n",
    "        sources = yaml.safe_load(stream)\n",
    "    except yaml.YAMLError as exc:\n",
    "        print(exc)\n",
    "\n",
    "log(f\"Load {len(sources)} sources\")\n",
    "\n"
   ]
  },
  {
   "cell_type": "code",
   "execution_count": 8,
   "id": "562f83b1-b4b8-4355-8b8b-4fe028ea2af8",
   "metadata": {},
   "outputs": [
    {
     "name": "stderr",
     "output_type": "stream",
     "text": [
      "2024-05-01 13:06:43,945 - AInewsbot - INFO - Ars Technica -> https://arstechnica.com/ -> Ars Technica.html\n",
      "2024-05-01 13:06:43,945 - AInewsbot - INFO - Bloomberg Tech -> https://www.bloomberg.com/technology -> Bloomberg Technology - Bloomberg.html\n",
      "2024-05-01 13:06:43,945 - AInewsbot - INFO - Business Insider -> https://www.businessinsider.com/tech -> Tech - Business Insider.html\n",
      "2024-05-01 13:06:43,945 - AInewsbot - INFO - FT Tech -> https://www.ft.com/technology -> Technology.html\n",
      "2024-05-01 13:06:43,946 - AInewsbot - INFO - Feedly AI -> https://feedly.com/i/aiFeeds?options=eyJsYXllcnMiOlt7InBhcnRzIjpbeyJpZCI6Im5scC9mL3RvcGljLzMwMDAifV0sInNlYXJjaEhpbnQiOiJ0ZWNobm9sb2d5IiwidHlwZSI6Im1hdGNoZXMiLCJzYWxpZW5jZSI6ImFib3V0In1dLCJidW5kbGVzIjpbeyJ0eXBlIjoic3RyZWFtIiwiaWQiOiJ1c2VyLzYyZWViYjlmLTcxNTEtNGY5YS1hOGM3LTlhNTdiODIwNTMwOC9jYXRlZ29yeS9HYWRnZXRzIn1dfQ -> Discover and Add New Feedly AI Feeds.html\n",
      "2024-05-01 13:06:43,946 - AInewsbot - INFO - Google News -> https://news.google.com/topics/CAAqJggKIiBDQkFTRWdvSUwyMHZNRGRqTVhZU0FtVnVHZ0pWVXlnQVAB?hl=en-US&gl=US&ceid=US%3Aen -> Google News - Technology - Artificial intelligence.html\n",
      "2024-05-01 13:06:43,946 - AInewsbot - INFO - Hacker News -> https://news.ycombinator.com/ -> Hacker News Page 1.html\n",
      "2024-05-01 13:06:43,946 - AInewsbot - INFO - Hacker News 2 -> https://news.ycombinator.com/?p=2 -> Hacker News Page 2.html\n",
      "2024-05-01 13:06:43,946 - AInewsbot - INFO - HackerNoon -> https://hackernoon.com/ -> HackerNoon - read, write and learn about any technology.html\n",
      "2024-05-01 13:06:43,946 - AInewsbot - INFO - NYT Tech -> https://www.nytimes.com/section/technology -> Technology - The New York Times.html\n",
      "2024-05-01 13:06:43,947 - AInewsbot - INFO - Reddit -> https://www.reddit.com/r/ChatGPT+ChatGPTCoding+MacOS+MachineLearning+OpenAI+ProgrammerHumor+Windows10+battlestations+buildapc+cordcutters+dataisbeautiful+gadgets+hardware+linux+msp+programming+realtech+software+talesfromtechsupport+tech+technews+technology+techsupportgore+windows/top/?sort=top&t=day -> top scoring links _ multi.html\n",
      "2024-05-01 13:06:43,947 - AInewsbot - INFO - Techmeme -> https://www.techmeme.com/river -> Techmeme.html\n",
      "2024-05-01 13:06:43,947 - AInewsbot - INFO - The Register -> https://www.theregister.com/ -> The Register_ Enterprise Technology News and Analysis.html\n",
      "2024-05-01 13:06:43,947 - AInewsbot - INFO - The Verge -> https://www.theverge.com/ai-artificial-intelligence -> Artificial Intelligence - The Verge.html\n",
      "2024-05-01 13:06:43,947 - AInewsbot - INFO - VentureBeat -> https://venturebeat.com/category/ai/ -> AI News _ VentureBeat.html\n",
      "2024-05-01 13:06:43,947 - AInewsbot - INFO - WSJ Tech -> https://www.wsj.com/tech -> Technology - WSJ.com.html\n",
      "2024-05-01 13:06:43,947 - AInewsbot - INFO - WaPo Tech -> https://www.washingtonpost.com/business/technology/ -> Technology - The Washington Post.html\n"
     ]
    },
    {
     "data": {
      "text/plain": [
       "{'Ars Technica': 'Ars Technica',\n",
       " 'Bloomberg Technology - Bloomberg': 'Bloomberg Tech',\n",
       " 'Tech - Business Insider': 'Business Insider',\n",
       " 'Technology': 'FT Tech',\n",
       " 'Discover and Add New Feedly AI Feeds': 'Feedly AI',\n",
       " 'Google News - Technology - Artificial intelligence': 'Google News',\n",
       " 'Hacker News Page 1': 'Hacker News',\n",
       " 'Hacker News Page 2': 'Hacker News 2',\n",
       " 'HackerNoon - read, write and learn about any technology': 'HackerNoon',\n",
       " 'Technology - The New York Times': 'NYT Tech',\n",
       " 'top scoring links _ multi': 'Reddit',\n",
       " 'Techmeme': 'Techmeme',\n",
       " 'The Register_ Enterprise Technology News and Analysis': 'The Register',\n",
       " 'Artificial Intelligence - The Verge': 'The Verge',\n",
       " 'AI News _ VentureBeat': 'VentureBeat',\n",
       " 'Technology - WSJ.com': 'WSJ Tech',\n",
       " 'Technology - The Washington Post': 'WaPo Tech'}"
      ]
     },
     "execution_count": 8,
     "metadata": {},
     "output_type": "execute_result"
    }
   ],
   "source": [
    "sources_reverse = {}\n",
    "for k, v in sources.items():\n",
    "    log(f\"{k} -> {v['url']} -> {v['title']}.html\")\n",
    "    v['sourcename'] = k\n",
    "    # map filename (title) to source name\n",
    "    sources_reverse[v['title']] = k\n",
    "\n",
    "sources_reverse"
   ]
  },
  {
   "cell_type": "code",
   "execution_count": 9,
   "id": "2549cf13-0de6-47d2-b7a9-544b5099ff11",
   "metadata": {},
   "outputs": [
    {
     "name": "stderr",
     "output_type": "stream",
     "text": [
      "2024-05-01 13:06:43,954 - AInewsbot - INFO - 17\n",
      "2024-05-01 13:06:43,954 - AInewsbot - INFO - htmldata/Technology - The Washington Post (05_01_2024 10_45_05 AM).html\n",
      "2024-05-01 13:06:43,955 - AInewsbot - INFO - htmldata/Technology - WSJ.com (05_01_2024 10_44_55 AM).html\n",
      "2024-05-01 13:06:43,955 - AInewsbot - INFO - htmldata/AI News _ VentureBeat (05_01_2024 10_44_44 AM).html\n",
      "2024-05-01 13:06:43,955 - AInewsbot - INFO - htmldata/Artificial Intelligence - The Verge (05_01_2024 10_44_33 AM).html\n",
      "2024-05-01 13:06:43,955 - AInewsbot - INFO - htmldata/The Register_ Enterprise Technology News and Analysis (05_01_2024 10_44_23 AM).html\n",
      "2024-05-01 13:06:43,955 - AInewsbot - INFO - htmldata/Techmeme (05_01_2024 10_44_12 AM).html\n",
      "2024-05-01 13:06:43,955 - AInewsbot - INFO - htmldata/top scoring links _ multi (05_01_2024 10_44_01 AM).html\n",
      "2024-05-01 13:06:43,955 - AInewsbot - INFO - htmldata/Technology - The New York Times (05_01_2024 10_43_28 AM).html\n",
      "2024-05-01 13:06:43,956 - AInewsbot - INFO - htmldata/HackerNoon - read, write and learn about any technology (05_01_2024 10_43_18 AM).html\n",
      "2024-05-01 13:06:43,956 - AInewsbot - INFO - htmldata/Hacker News Page 2 (05_01_2024 10_43_07 AM).html\n",
      "2024-05-01 13:06:43,956 - AInewsbot - INFO - htmldata/Hacker News Page 1 (05_01_2024 10_42_57 AM).html\n",
      "2024-05-01 13:06:43,956 - AInewsbot - INFO - htmldata/Google News - Technology - Artificial intelligence (05_01_2024 10_42_46 AM).html\n",
      "2024-05-01 13:06:43,956 - AInewsbot - INFO - htmldata/Discover and Add New Feedly AI Feeds (05_01_2024 10_42_14 AM).html\n",
      "2024-05-01 13:06:43,956 - AInewsbot - INFO - htmldata/Technology (05_01_2024 10_41_13 AM).html\n",
      "2024-05-01 13:06:43,956 - AInewsbot - INFO - htmldata/Tech - Business Insider (05_01_2024 10_41_02 AM).html\n",
      "2024-05-01 13:06:43,956 - AInewsbot - INFO - htmldata/Bloomberg Technology - Bloomberg (05_01_2024 10_40_52 AM).html\n",
      "2024-05-01 13:06:43,957 - AInewsbot - INFO - htmldata/Ars Technica (05_01_2024 10_40_39 AM).html\n"
     ]
    }
   ],
   "source": [
    "# get list of files in htmldata directory\n",
    "# List all paths in the directory matching today's date\n",
    "nfiles = 50\n",
    "files = [os.path.join(DOWNLOAD_DIR, file)\n",
    "         for file in os.listdir(DOWNLOAD_DIR)]\n",
    "\n",
    "# Get the current date\n",
    "today = datetime.now()\n",
    "year, month, day = today.year, today.month, today.day\n",
    "datestr = datetime.now().strftime(\"%m_%d_%Y\")\n",
    "\n",
    "# filter files only\n",
    "files = [file for file in files if os.path.isfile(file)]\n",
    "\n",
    "# Sort files by modification time and take top 50\n",
    "files.sort(key=lambda x: os.path.getmtime(x), reverse=True)\n",
    "file = files[:nfiles]\n",
    "\n",
    "# filter files by with today's date ending in .html\n",
    "files = [\n",
    "    file for file in files if datestr in file and file.endswith(\".html\")]\n",
    "log(len(files))\n",
    "for file in files:\n",
    "    log(file)\n",
    "\n",
    "saved_pages = []\n",
    "for file in files:\n",
    "    filename = os.path.basename(file)\n",
    "    # locate date like '01_14_2024' in filename\n",
    "    position = filename.find(\" (\" + datestr)\n",
    "    basename = filename[:position]\n",
    "    # match to source name\n",
    "    sourcename = sources_reverse.get(basename)\n",
    "    if sourcename is None:\n",
    "        log(f\"Skipping {basename}, no sourcename metadata\")\n",
    "        continue\n",
    "    sources[sourcename]['latest'] = file\n",
    "    saved_pages.append((sourcename, file))"
   ]
  },
  {
   "cell_type": "code",
   "execution_count": 10,
   "id": "40fb94c3-464b-43d7-a156-f965c4e6e409",
   "metadata": {},
   "outputs": [
    {
     "name": "stderr",
     "output_type": "stream",
     "text": [
      "2024-05-01 13:06:43,962 - AInewsbot - INFO - init_browser - Initializing webdriver\n",
      "2024-05-01 13:06:55,910 - AInewsbot - INFO - init_browser - Initialized webdriver profile\n",
      "2024-05-01 13:06:55,910 - AInewsbot - INFO - init_browser - Initialized webdriver service\n",
      "2024-05-01 13:07:34,022 - AInewsbot - INFO - init_browser - Initialized webdriver\n",
      "2024-05-01 13:07:34,055 - AInewsbot - INFO - Saving HTML files\n",
      "2024-05-01 13:07:34,056 - AInewsbot - INFO - Processing Ars Technica\n",
      "2024-05-01 13:07:34,056 - AInewsbot - INFO - get_files(Ars Technica) - starting get_files https://arstechnica.com/\n",
      "2024-05-01 13:07:44,924 - AInewsbot - INFO - get_files(Ars Technica) - Saving Ars Technica (05_01_2024 01_07_44 PM).html as utf-8\n",
      "2024-05-01 13:07:44,926 - AInewsbot - INFO - Processing Bloomberg Tech\n",
      "2024-05-01 13:07:44,926 - AInewsbot - INFO - get_files(Bloomberg Technology - Bloomberg) - starting get_files https://www.bloomberg.com/technology\n",
      "2024-05-01 13:07:56,088 - AInewsbot - INFO - Message: Unable to locate element: //meta[@http-equiv='Content-Type']; For documentation on this error, please visit: https://www.selenium.dev/documentation/webdriver/troubleshooting/errors#no-such-element-exception\n",
      "Stacktrace:\n",
      "RemoteError@chrome://remote/content/shared/RemoteError.sys.mjs:8:8\n",
      "WebDriverError@chrome://remote/content/shared/webdriver/Errors.sys.mjs:192:5\n",
      "NoSuchElementError@chrome://remote/content/shared/webdriver/Errors.sys.mjs:510:5\n",
      "dom.find/</<@chrome://remote/content/shared/DOM.sys.mjs:136:16\n",
      "\n",
      "2024-05-01 13:07:56,089 - AInewsbot - INFO - get_files(Bloomberg Technology - Bloomberg) - Saving Bloomberg Technology - Bloomberg (05_01_2024 01_07_56 PM).html as utf-8\n",
      "2024-05-01 13:07:56,090 - AInewsbot - INFO - Processing Business Insider\n",
      "2024-05-01 13:07:56,090 - AInewsbot - INFO - get_files(Tech - Business Insider) - starting get_files https://www.businessinsider.com/tech\n",
      "2024-05-01 13:08:06,290 - AInewsbot - INFO - Message: Unable to locate element: //meta[@http-equiv='Content-Type']; For documentation on this error, please visit: https://www.selenium.dev/documentation/webdriver/troubleshooting/errors#no-such-element-exception\n",
      "Stacktrace:\n",
      "RemoteError@chrome://remote/content/shared/RemoteError.sys.mjs:8:8\n",
      "WebDriverError@chrome://remote/content/shared/webdriver/Errors.sys.mjs:192:5\n",
      "NoSuchElementError@chrome://remote/content/shared/webdriver/Errors.sys.mjs:510:5\n",
      "dom.find/</<@chrome://remote/content/shared/DOM.sys.mjs:136:16\n",
      "\n",
      "2024-05-01 13:08:06,291 - AInewsbot - INFO - get_files(Tech - Business Insider) - Saving Tech - Business Insider (05_01_2024 01_08_06 PM).html as utf-8\n",
      "2024-05-01 13:08:06,292 - AInewsbot - INFO - Processing FT Tech\n",
      "2024-05-01 13:08:06,292 - AInewsbot - INFO - get_files(Technology) - starting get_files https://www.ft.com/technology\n",
      "2024-05-01 13:08:17,031 - AInewsbot - INFO - Message: Unable to locate element: //meta[@http-equiv='Content-Type']; For documentation on this error, please visit: https://www.selenium.dev/documentation/webdriver/troubleshooting/errors#no-such-element-exception\n",
      "Stacktrace:\n",
      "RemoteError@chrome://remote/content/shared/RemoteError.sys.mjs:8:8\n",
      "WebDriverError@chrome://remote/content/shared/webdriver/Errors.sys.mjs:192:5\n",
      "NoSuchElementError@chrome://remote/content/shared/webdriver/Errors.sys.mjs:510:5\n",
      "dom.find/</<@chrome://remote/content/shared/DOM.sys.mjs:136:16\n",
      "\n",
      "2024-05-01 13:08:17,031 - AInewsbot - INFO - get_files(Technology) - Saving Technology (05_01_2024 01_08_17 PM).html as utf-8\n",
      "2024-05-01 13:08:17,032 - AInewsbot - INFO - Processing Feedly AI\n",
      "2024-05-01 13:08:17,032 - AInewsbot - INFO - get_files(Discover and Add New Feedly AI Feeds) - starting get_files https://feedly.com/i/aiFeeds?options=eyJsYXllcnMiOlt7InBhcnRzIjpbeyJpZCI6Im5scC9mL3RvcGljLzMwMDAifV0sInNlYXJjaEhpbnQiOiJ0ZWNobm9sb2d5IiwidHlwZSI6Im1hdGNoZXMiLCJzYWxpZW5jZSI6ImFib3V0In1dLCJidW5kbGVzIjpbeyJ0eXBlIjoic3RyZWFtIiwiaWQiOiJ1c2VyLzYyZWViYjlmLTcxNTEtNGY5YS1hOGM3LTlhNTdiODIwNTMwOC9jYXRlZ29yeS9HYWRnZXRzIn1dfQ\n",
      "2024-05-01 13:08:27,718 - AInewsbot - INFO - get_files(Discover and Add New Feedly AI Feeds) - Loading additional infinite scroll items\n",
      "2024-05-01 13:08:37,732 - AInewsbot - INFO - get_files(Discover and Add New Feedly AI Feeds) - Loading additional infinite scroll items\n",
      "2024-05-01 13:08:47,745 - AInewsbot - INFO - get_files(Discover and Add New Feedly AI Feeds) - Loading additional infinite scroll items\n",
      "2024-05-01 13:08:57,757 - AInewsbot - INFO - get_files(Discover and Add New Feedly AI Feeds) - Loading additional infinite scroll items\n",
      "2024-05-01 13:09:07,767 - AInewsbot - INFO - get_files(Discover and Add New Feedly AI Feeds) - Loading additional infinite scroll items\n",
      "2024-05-01 13:09:17,795 - AInewsbot - INFO - Message: Unable to locate element: //meta[@http-equiv='Content-Type']; For documentation on this error, please visit: https://www.selenium.dev/documentation/webdriver/troubleshooting/errors#no-such-element-exception\n",
      "Stacktrace:\n",
      "RemoteError@chrome://remote/content/shared/RemoteError.sys.mjs:8:8\n",
      "WebDriverError@chrome://remote/content/shared/webdriver/Errors.sys.mjs:192:5\n",
      "NoSuchElementError@chrome://remote/content/shared/webdriver/Errors.sys.mjs:510:5\n",
      "dom.find/</<@chrome://remote/content/shared/DOM.sys.mjs:136:16\n",
      "\n",
      "2024-05-01 13:09:17,795 - AInewsbot - INFO - get_files(Discover and Add New Feedly AI Feeds) - Saving Discover and Add New Feedly AI Feeds (05_01_2024 01_09_17 PM).html as utf-8\n",
      "2024-05-01 13:09:17,796 - AInewsbot - INFO - Processing Google News\n",
      "2024-05-01 13:09:17,797 - AInewsbot - INFO - get_files(Google News - Technology - Artificial intelligence) - starting get_files https://news.google.com/topics/CAAqJggKIiBDQkFTRWdvSUwyMHZNRGRqTVhZU0FtVnVHZ0pWVXlnQVAB?hl=en-US&gl=US&ceid=US%3Aen\n",
      "2024-05-01 13:09:29,410 - AInewsbot - INFO - get_files(Google News - Technology - Artificial intelligence) - Attempting to click on //*[@aria-label=\"Artificial intelligence\"]\n",
      "2024-05-01 13:09:29,678 - AInewsbot - INFO - get_files - Clicked\n",
      "2024-05-01 13:09:29,680 - AInewsbot - INFO - get_files(Google News - Technology - Artificial intelligence) - Loading additional infinite scroll items\n",
      "2024-05-01 13:09:39,717 - AInewsbot - INFO - get_files(Google News - Technology - Artificial intelligence) - Loading additional infinite scroll items\n",
      "2024-05-01 13:09:49,794 - AInewsbot - INFO - Message: Unable to locate element: //meta[@http-equiv='Content-Type']; For documentation on this error, please visit: https://www.selenium.dev/documentation/webdriver/troubleshooting/errors#no-such-element-exception\n",
      "Stacktrace:\n",
      "RemoteError@chrome://remote/content/shared/RemoteError.sys.mjs:8:8\n",
      "WebDriverError@chrome://remote/content/shared/webdriver/Errors.sys.mjs:192:5\n",
      "NoSuchElementError@chrome://remote/content/shared/webdriver/Errors.sys.mjs:510:5\n",
      "dom.find/</<@chrome://remote/content/shared/DOM.sys.mjs:136:16\n",
      "\n",
      "2024-05-01 13:09:49,795 - AInewsbot - INFO - get_files(Google News - Technology - Artificial intelligence) - Saving Google News - Technology - Artificial intelligence (05_01_2024 01_09_49 PM).html as utf-8\n",
      "2024-05-01 13:09:49,799 - AInewsbot - INFO - Processing Hacker News\n",
      "2024-05-01 13:09:49,799 - AInewsbot - INFO - get_files(Hacker News Page 1) - starting get_files https://news.ycombinator.com/\n",
      "2024-05-01 13:10:00,369 - AInewsbot - INFO - Message: Unable to locate element: //meta[@http-equiv='Content-Type']; For documentation on this error, please visit: https://www.selenium.dev/documentation/webdriver/troubleshooting/errors#no-such-element-exception\n",
      "Stacktrace:\n",
      "RemoteError@chrome://remote/content/shared/RemoteError.sys.mjs:8:8\n",
      "WebDriverError@chrome://remote/content/shared/webdriver/Errors.sys.mjs:192:5\n",
      "NoSuchElementError@chrome://remote/content/shared/webdriver/Errors.sys.mjs:510:5\n",
      "dom.find/</<@chrome://remote/content/shared/DOM.sys.mjs:136:16\n",
      "\n",
      "2024-05-01 13:10:00,370 - AInewsbot - INFO - get_files(Hacker News Page 1) - Saving Hacker News Page 1 (05_01_2024 01_10_00 PM).html as utf-8\n",
      "2024-05-01 13:10:00,371 - AInewsbot - INFO - Processing Hacker News 2\n",
      "2024-05-01 13:10:00,372 - AInewsbot - INFO - get_files(Hacker News Page 2) - starting get_files https://news.ycombinator.com/?p=2\n",
      "2024-05-01 13:10:10,562 - AInewsbot - INFO - Message: Unable to locate element: //meta[@http-equiv='Content-Type']; For documentation on this error, please visit: https://www.selenium.dev/documentation/webdriver/troubleshooting/errors#no-such-element-exception\n",
      "Stacktrace:\n",
      "RemoteError@chrome://remote/content/shared/RemoteError.sys.mjs:8:8\n",
      "WebDriverError@chrome://remote/content/shared/webdriver/Errors.sys.mjs:192:5\n",
      "NoSuchElementError@chrome://remote/content/shared/webdriver/Errors.sys.mjs:510:5\n",
      "dom.find/</<@chrome://remote/content/shared/DOM.sys.mjs:136:16\n",
      "\n",
      "2024-05-01 13:10:10,563 - AInewsbot - INFO - get_files(Hacker News Page 2) - Saving Hacker News Page 2 (05_01_2024 01_10_10 PM).html as utf-8\n",
      "2024-05-01 13:10:10,564 - AInewsbot - INFO - Processing HackerNoon\n",
      "2024-05-01 13:10:10,565 - AInewsbot - INFO - get_files(HackerNoon - read, write and learn about any technology) - starting get_files https://hackernoon.com/\n",
      "2024-05-01 13:10:21,410 - AInewsbot - INFO - Message: Unable to locate element: //meta[@http-equiv='Content-Type']; For documentation on this error, please visit: https://www.selenium.dev/documentation/webdriver/troubleshooting/errors#no-such-element-exception\n",
      "Stacktrace:\n",
      "RemoteError@chrome://remote/content/shared/RemoteError.sys.mjs:8:8\n",
      "WebDriverError@chrome://remote/content/shared/webdriver/Errors.sys.mjs:192:5\n",
      "NoSuchElementError@chrome://remote/content/shared/webdriver/Errors.sys.mjs:510:5\n",
      "dom.find/</<@chrome://remote/content/shared/DOM.sys.mjs:136:16\n",
      "\n",
      "2024-05-01 13:10:21,411 - AInewsbot - INFO - get_files(HackerNoon - read, write and learn about any technology) - Saving HackerNoon - read, write and learn about any technology (05_01_2024 01_10_21 PM).html as utf-8\n",
      "2024-05-01 13:10:21,412 - AInewsbot - INFO - Processing NYT Tech\n",
      "2024-05-01 13:10:21,412 - AInewsbot - INFO - get_files(Technology - The New York Times) - starting get_files https://www.nytimes.com/section/technology\n",
      "2024-05-01 13:10:32,035 - AInewsbot - INFO - Message: Unable to locate element: //meta[@http-equiv='Content-Type']; For documentation on this error, please visit: https://www.selenium.dev/documentation/webdriver/troubleshooting/errors#no-such-element-exception\n",
      "Stacktrace:\n",
      "RemoteError@chrome://remote/content/shared/RemoteError.sys.mjs:8:8\n",
      "WebDriverError@chrome://remote/content/shared/webdriver/Errors.sys.mjs:192:5\n",
      "NoSuchElementError@chrome://remote/content/shared/webdriver/Errors.sys.mjs:510:5\n",
      "dom.find/</<@chrome://remote/content/shared/DOM.sys.mjs:136:16\n",
      "\n",
      "2024-05-01 13:10:32,035 - AInewsbot - INFO - get_files(Technology - The New York Times) - Saving Technology - The New York Times (05_01_2024 01_10_32 PM).html as utf-8\n",
      "2024-05-01 13:10:32,036 - AInewsbot - INFO - Processing Reddit\n",
      "2024-05-01 13:10:32,036 - AInewsbot - INFO - get_files(top scoring links _ multi) - starting get_files https://www.reddit.com/r/ChatGPT+ChatGPTCoding+MacOS+MachineLearning+OpenAI+ProgrammerHumor+Windows10+battlestations+buildapc+cordcutters+dataisbeautiful+gadgets+hardware+linux+msp+programming+realtech+software+talesfromtechsupport+tech+technews+technology+techsupportgore+windows/top/?sort=top&t=day\n",
      "2024-05-01 13:10:44,591 - AInewsbot - INFO - get_files(top scoring links _ multi) - Loading additional infinite scroll items\n",
      "2024-05-01 13:10:54,596 - AInewsbot - INFO - get_files(top scoring links _ multi) - Loading additional infinite scroll items\n",
      "2024-05-01 13:11:04,640 - AInewsbot - INFO - Message: Unable to locate element: //meta[@http-equiv='Content-Type']; For documentation on this error, please visit: https://www.selenium.dev/documentation/webdriver/troubleshooting/errors#no-such-element-exception\n",
      "Stacktrace:\n",
      "RemoteError@chrome://remote/content/shared/RemoteError.sys.mjs:8:8\n",
      "WebDriverError@chrome://remote/content/shared/webdriver/Errors.sys.mjs:192:5\n",
      "NoSuchElementError@chrome://remote/content/shared/webdriver/Errors.sys.mjs:510:5\n",
      "dom.find/</<@chrome://remote/content/shared/DOM.sys.mjs:136:16\n",
      "\n",
      "2024-05-01 13:11:04,640 - AInewsbot - INFO - get_files(top scoring links _ multi) - Saving top scoring links _ multi (05_01_2024 01_11_04 PM).html as utf-8\n",
      "2024-05-01 13:11:04,642 - AInewsbot - INFO - Processing Techmeme\n",
      "2024-05-01 13:11:04,642 - AInewsbot - INFO - get_files(Techmeme) - starting get_files https://www.techmeme.com/river\n",
      "2024-05-01 13:11:15,696 - AInewsbot - INFO - Message: Unable to locate element: //meta[@http-equiv='Content-Type']; For documentation on this error, please visit: https://www.selenium.dev/documentation/webdriver/troubleshooting/errors#no-such-element-exception\n",
      "Stacktrace:\n",
      "RemoteError@chrome://remote/content/shared/RemoteError.sys.mjs:8:8\n",
      "WebDriverError@chrome://remote/content/shared/webdriver/Errors.sys.mjs:192:5\n",
      "NoSuchElementError@chrome://remote/content/shared/webdriver/Errors.sys.mjs:510:5\n",
      "dom.find/</<@chrome://remote/content/shared/DOM.sys.mjs:136:16\n",
      "\n",
      "2024-05-01 13:11:15,696 - AInewsbot - INFO - get_files(Techmeme) - Saving Techmeme (05_01_2024 01_11_15 PM).html as utf-8\n",
      "2024-05-01 13:11:15,697 - AInewsbot - INFO - Processing The Register\n",
      "2024-05-01 13:11:15,698 - AInewsbot - INFO - get_files(The Register_ Enterprise Technology News and Analysis) - starting get_files https://www.theregister.com/\n",
      "2024-05-01 13:11:26,095 - AInewsbot - INFO - get_files(The Register_ Enterprise Technology News and Analysis) - Saving The Register_ Enterprise Technology News and Analysis (05_01_2024 01_11_26 PM).html as utf-8\n",
      "2024-05-01 13:11:26,096 - AInewsbot - INFO - Processing The Verge\n",
      "2024-05-01 13:11:26,097 - AInewsbot - INFO - get_files(Artificial Intelligence - The Verge) - starting get_files https://www.theverge.com/ai-artificial-intelligence\n",
      "2024-05-01 13:11:36,669 - AInewsbot - INFO - Message: Unable to locate element: //meta[@http-equiv='Content-Type']; For documentation on this error, please visit: https://www.selenium.dev/documentation/webdriver/troubleshooting/errors#no-such-element-exception\n",
      "Stacktrace:\n",
      "RemoteError@chrome://remote/content/shared/RemoteError.sys.mjs:8:8\n",
      "WebDriverError@chrome://remote/content/shared/webdriver/Errors.sys.mjs:192:5\n",
      "NoSuchElementError@chrome://remote/content/shared/webdriver/Errors.sys.mjs:510:5\n",
      "dom.find/</<@chrome://remote/content/shared/DOM.sys.mjs:136:16\n",
      "\n",
      "2024-05-01 13:11:36,669 - AInewsbot - INFO - get_files(Artificial Intelligence - The Verge) - Saving Artificial Intelligence - The Verge (05_01_2024 01_11_36 PM).html as utf-8\n",
      "2024-05-01 13:11:36,670 - AInewsbot - INFO - Processing VentureBeat\n",
      "2024-05-01 13:11:36,670 - AInewsbot - INFO - get_files(AI News _ VentureBeat) - starting get_files https://venturebeat.com/category/ai/\n",
      "2024-05-01 13:11:47,116 - AInewsbot - INFO - get_files(AI News _ VentureBeat) - Saving AI News _ VentureBeat (05_01_2024 01_11_47 PM).html as UTF-8\n",
      "2024-05-01 13:11:47,117 - AInewsbot - INFO - Processing WSJ Tech\n",
      "2024-05-01 13:11:47,117 - AInewsbot - INFO - get_files(Technology - WSJ.com) - starting get_files https://www.wsj.com/tech\n",
      "2024-05-01 13:11:58,094 - AInewsbot - INFO - Message: Unable to locate element: //meta[@http-equiv='Content-Type']; For documentation on this error, please visit: https://www.selenium.dev/documentation/webdriver/troubleshooting/errors#no-such-element-exception\n",
      "Stacktrace:\n",
      "RemoteError@chrome://remote/content/shared/RemoteError.sys.mjs:8:8\n",
      "WebDriverError@chrome://remote/content/shared/webdriver/Errors.sys.mjs:192:5\n",
      "NoSuchElementError@chrome://remote/content/shared/webdriver/Errors.sys.mjs:510:5\n",
      "dom.find/</<@chrome://remote/content/shared/DOM.sys.mjs:136:16\n",
      "\n",
      "2024-05-01 13:11:58,094 - AInewsbot - INFO - get_files(Technology - WSJ.com) - Saving Technology - WSJ.com (05_01_2024 01_11_58 PM).html as utf-8\n",
      "2024-05-01 13:11:58,095 - AInewsbot - INFO - Processing WaPo Tech\n",
      "2024-05-01 13:11:58,095 - AInewsbot - INFO - get_files(Technology - The Washington Post) - starting get_files https://www.washingtonpost.com/business/technology/\n",
      "2024-05-01 13:12:08,657 - AInewsbot - INFO - Message: Unable to locate element: //meta[@http-equiv='Content-Type']; For documentation on this error, please visit: https://www.selenium.dev/documentation/webdriver/troubleshooting/errors#no-such-element-exception\n",
      "Stacktrace:\n",
      "RemoteError@chrome://remote/content/shared/RemoteError.sys.mjs:8:8\n",
      "WebDriverError@chrome://remote/content/shared/webdriver/Errors.sys.mjs:192:5\n",
      "NoSuchElementError@chrome://remote/content/shared/webdriver/Errors.sys.mjs:510:5\n",
      "dom.find/</<@chrome://remote/content/shared/DOM.sys.mjs:136:16\n",
      "\n",
      "2024-05-01 13:12:08,657 - AInewsbot - INFO - get_files(Technology - The Washington Post) - Saving Technology - The Washington Post (05_01_2024 01_12_08 PM).html as utf-8\n",
      "2024-05-01 13:12:08,659 - AInewsbot - INFO - Quit webdriver\n"
     ]
    }
   ],
   "source": [
    "# Get HTML files from sources\n",
    "\n",
    "# empty download directory\n",
    "delete_files(DOWNLOAD_DIR)\n",
    "\n",
    "# launch browser via selenium driver\n",
    "driver = init_browser()\n",
    "\n",
    "# save each file specified from sources\n",
    "log(\"Saving HTML files\")\n",
    "saved_pages = []\n",
    "for sourcename, sourcedict in sources.items():\n",
    "    log(f'Processing {sourcename}')\n",
    "    sourcefile = get_file(sourcedict, driver=driver)\n",
    "    saved_pages.append((sourcename, sourcefile))\n",
    "\n",
    "# Close the browser\n",
    "log(\"Quit webdriver\")\n",
    "driver.quit()\n",
    "# finished downloading files\n"
   ]
  },
  {
   "cell_type": "code",
   "execution_count": 11,
   "id": "3b5aa21a-7387-4e76-a17e-6b22544dd13a",
   "metadata": {},
   "outputs": [
    {
     "name": "stdout",
     "output_type": "stream",
     "text": [
      "17\n",
      "Ars Technica -> htmldata/Ars Technica (05_01_2024 01_07_44 PM).html\n",
      "Bloomberg Tech -> htmldata/Bloomberg Technology - Bloomberg (05_01_2024 01_07_56 PM).html\n",
      "Business Insider -> htmldata/Tech - Business Insider (05_01_2024 01_08_06 PM).html\n",
      "FT Tech -> htmldata/Technology (05_01_2024 01_08_17 PM).html\n",
      "Feedly AI -> htmldata/Discover and Add New Feedly AI Feeds (05_01_2024 01_09_17 PM).html\n",
      "Google News -> htmldata/Google News - Technology - Artificial intelligence (05_01_2024 01_09_49 PM).html\n",
      "Hacker News -> htmldata/Hacker News Page 1 (05_01_2024 01_10_00 PM).html\n",
      "Hacker News 2 -> htmldata/Hacker News Page 2 (05_01_2024 01_10_10 PM).html\n",
      "HackerNoon -> htmldata/HackerNoon - read, write and learn about any technology (05_01_2024 01_10_21 PM).html\n",
      "NYT Tech -> htmldata/Technology - The New York Times (05_01_2024 01_10_32 PM).html\n",
      "Reddit -> htmldata/top scoring links _ multi (05_01_2024 01_11_04 PM).html\n",
      "Techmeme -> htmldata/Techmeme (05_01_2024 01_11_15 PM).html\n",
      "The Register -> htmldata/The Register_ Enterprise Technology News and Analysis (05_01_2024 01_11_26 PM).html\n",
      "The Verge -> htmldata/Artificial Intelligence - The Verge (05_01_2024 01_11_36 PM).html\n",
      "VentureBeat -> htmldata/AI News _ VentureBeat (05_01_2024 01_11_47 PM).html\n",
      "WSJ Tech -> htmldata/Technology - WSJ.com (05_01_2024 01_11_58 PM).html\n",
      "WaPo Tech -> htmldata/Technology - The Washington Post (05_01_2024 01_12_08 PM).html\n"
     ]
    }
   ],
   "source": [
    "print(len(saved_pages))\n",
    "for sourcename, page in saved_pages:\n",
    "    # sources[sourcename]['latest'] = page\n",
    "    print(sourcename, '->', page)\n",
    "    "
   ]
  },
  {
   "cell_type": "code",
   "execution_count": 12,
   "id": "0e6e05b3-14c8-43a7-9fd7-44f61d436076",
   "metadata": {},
   "outputs": [
    {
     "name": "stderr",
     "output_type": "stream",
     "text": [
      "2024-05-01 13:12:10,750 - AInewsbot - INFO - parsing html files\n"
     ]
    },
    {
     "name": "stdout",
     "output_type": "stream",
     "text": [
      "Ars Technica -> htmldata/Ars Technica (05_01_2024 01_07_44 PM).html\n"
     ]
    },
    {
     "name": "stderr",
     "output_type": "stream",
     "text": [
      "2024-05-01 13:12:10,751 - AInewsbot - INFO - parse loop - Ars Technica\n",
      "2024-05-01 13:12:10,768 - AInewsbot - INFO - parse_file - found 252 raw links\n",
      "2024-05-01 13:12:10,771 - AInewsbot - INFO - parse_file - found 27 filtered links\n",
      "2024-05-01 13:12:10,771 - AInewsbot - INFO - parse loop - 27 links found\n"
     ]
    },
    {
     "name": "stdout",
     "output_type": "stream",
     "text": [
      "Bloomberg Tech -> htmldata/Bloomberg Technology - Bloomberg (05_01_2024 01_07_56 PM).html\n"
     ]
    },
    {
     "name": "stderr",
     "output_type": "stream",
     "text": [
      "2024-05-01 13:12:10,772 - AInewsbot - INFO - parse loop - Bloomberg Tech\n",
      "2024-05-01 13:12:10,791 - AInewsbot - INFO - parse_file - found 298 raw links\n",
      "2024-05-01 13:12:10,794 - AInewsbot - INFO - parse_file - found 52 filtered links\n",
      "2024-05-01 13:12:10,794 - AInewsbot - INFO - parse loop - 52 links found\n"
     ]
    },
    {
     "name": "stdout",
     "output_type": "stream",
     "text": [
      "Business Insider -> htmldata/Tech - Business Insider (05_01_2024 01_08_06 PM).html\n"
     ]
    },
    {
     "name": "stderr",
     "output_type": "stream",
     "text": [
      "2024-05-01 13:12:10,795 - AInewsbot - INFO - parse loop - Business Insider\n",
      "2024-05-01 13:12:10,820 - AInewsbot - INFO - parse_file - found 339 raw links\n",
      "2024-05-01 13:12:10,825 - AInewsbot - INFO - parse_file - found 65 filtered links\n",
      "2024-05-01 13:12:10,825 - AInewsbot - INFO - parse loop - 65 links found\n"
     ]
    },
    {
     "name": "stdout",
     "output_type": "stream",
     "text": [
      "FT Tech -> htmldata/Technology (05_01_2024 01_08_17 PM).html\n"
     ]
    },
    {
     "name": "stderr",
     "output_type": "stream",
     "text": [
      "2024-05-01 13:12:10,825 - AInewsbot - INFO - parse loop - FT Tech\n",
      "2024-05-01 13:12:10,889 - AInewsbot - INFO - parse_file - found 457 raw links\n",
      "2024-05-01 13:12:10,894 - AInewsbot - INFO - parse_file - found 104 filtered links\n",
      "2024-05-01 13:12:10,894 - AInewsbot - INFO - parse loop - 104 links found\n"
     ]
    },
    {
     "name": "stdout",
     "output_type": "stream",
     "text": [
      "Feedly AI -> htmldata/Discover and Add New Feedly AI Feeds (05_01_2024 01_09_17 PM).html\n"
     ]
    },
    {
     "name": "stderr",
     "output_type": "stream",
     "text": [
      "2024-05-01 13:12:10,895 - AInewsbot - INFO - parse loop - Feedly AI\n",
      "2024-05-01 13:12:10,922 - AInewsbot - INFO - parse_file - found 229 raw links\n",
      "2024-05-01 13:12:10,925 - AInewsbot - INFO - parse_file - found 61 filtered links\n",
      "2024-05-01 13:12:10,925 - AInewsbot - INFO - parse loop - 61 links found\n"
     ]
    },
    {
     "name": "stdout",
     "output_type": "stream",
     "text": [
      "Google News -> htmldata/Google News - Technology - Artificial intelligence (05_01_2024 01_09_49 PM).html\n"
     ]
    },
    {
     "name": "stderr",
     "output_type": "stream",
     "text": [
      "2024-05-01 13:12:10,925 - AInewsbot - INFO - parse loop - Google News\n",
      "2024-05-01 13:12:11,220 - AInewsbot - INFO - parse_file - found 1123 raw links\n",
      "2024-05-01 13:12:11,228 - AInewsbot - INFO - parse_file - found 491 filtered links\n",
      "2024-05-01 13:12:11,229 - AInewsbot - INFO - parse loop - 491 links found\n"
     ]
    },
    {
     "name": "stdout",
     "output_type": "stream",
     "text": [
      "Hacker News -> htmldata/Hacker News Page 1 (05_01_2024 01_10_00 PM).html\n"
     ]
    },
    {
     "name": "stderr",
     "output_type": "stream",
     "text": [
      "2024-05-01 13:12:11,229 - AInewsbot - INFO - parse loop - Hacker News\n",
      "2024-05-01 13:12:11,240 - AInewsbot - INFO - parse_file - found 255 raw links\n",
      "2024-05-01 13:12:11,242 - AInewsbot - INFO - parse_file - found 21 filtered links\n",
      "2024-05-01 13:12:11,242 - AInewsbot - INFO - parse loop - 21 links found\n"
     ]
    },
    {
     "name": "stdout",
     "output_type": "stream",
     "text": [
      "Hacker News 2 -> htmldata/Hacker News Page 2 (05_01_2024 01_10_10 PM).html\n"
     ]
    },
    {
     "name": "stderr",
     "output_type": "stream",
     "text": [
      "2024-05-01 13:12:11,243 - AInewsbot - INFO - parse loop - Hacker News 2\n",
      "2024-05-01 13:12:11,253 - AInewsbot - INFO - parse_file - found 259 raw links\n",
      "2024-05-01 13:12:11,256 - AInewsbot - INFO - parse_file - found 24 filtered links\n",
      "2024-05-01 13:12:11,256 - AInewsbot - INFO - parse loop - 24 links found\n"
     ]
    },
    {
     "name": "stdout",
     "output_type": "stream",
     "text": [
      "HackerNoon -> htmldata/HackerNoon - read, write and learn about any technology (05_01_2024 01_10_21 PM).html\n"
     ]
    },
    {
     "name": "stderr",
     "output_type": "stream",
     "text": [
      "2024-05-01 13:12:11,256 - AInewsbot - INFO - parse loop - HackerNoon\n",
      "2024-05-01 13:12:11,310 - AInewsbot - INFO - parse_file - found 567 raw links\n",
      "2024-05-01 13:12:11,318 - AInewsbot - INFO - parse_file - found 92 filtered links\n",
      "2024-05-01 13:12:11,318 - AInewsbot - INFO - parse loop - 92 links found\n"
     ]
    },
    {
     "name": "stdout",
     "output_type": "stream",
     "text": [
      "NYT Tech -> htmldata/Technology - The New York Times (05_01_2024 01_10_32 PM).html\n"
     ]
    },
    {
     "name": "stderr",
     "output_type": "stream",
     "text": [
      "2024-05-01 13:12:11,318 - AInewsbot - INFO - parse loop - NYT Tech\n",
      "2024-05-01 13:12:11,328 - AInewsbot - INFO - parse_file - found 72 raw links\n",
      "2024-05-01 13:12:11,330 - AInewsbot - INFO - parse_file - found 17 filtered links\n",
      "2024-05-01 13:12:11,330 - AInewsbot - INFO - parse loop - 17 links found\n"
     ]
    },
    {
     "name": "stdout",
     "output_type": "stream",
     "text": [
      "Reddit -> htmldata/top scoring links _ multi (05_01_2024 01_11_04 PM).html\n"
     ]
    },
    {
     "name": "stderr",
     "output_type": "stream",
     "text": [
      "2024-05-01 13:12:11,330 - AInewsbot - INFO - parse loop - Reddit\n",
      "2024-05-01 13:12:11,458 - AInewsbot - INFO - parse_file - found 563 raw links\n",
      "2024-05-01 13:12:11,468 - AInewsbot - INFO - parse_file - found 366 filtered links\n",
      "2024-05-01 13:12:11,469 - AInewsbot - INFO - parse loop - 366 links found\n"
     ]
    },
    {
     "name": "stdout",
     "output_type": "stream",
     "text": [
      "Techmeme -> htmldata/Techmeme (05_01_2024 01_11_15 PM).html\n"
     ]
    },
    {
     "name": "stderr",
     "output_type": "stream",
     "text": [
      "2024-05-01 13:12:11,469 - AInewsbot - INFO - parse loop - Techmeme\n",
      "2024-05-01 13:12:11,485 - AInewsbot - INFO - parse_file - found 351 raw links\n",
      "2024-05-01 13:12:11,489 - AInewsbot - INFO - parse_file - found 148 filtered links\n",
      "2024-05-01 13:12:11,490 - AInewsbot - INFO - parse loop - 148 links found\n"
     ]
    },
    {
     "name": "stdout",
     "output_type": "stream",
     "text": [
      "The Register -> htmldata/The Register_ Enterprise Technology News and Analysis (05_01_2024 01_11_26 PM).html\n"
     ]
    },
    {
     "name": "stderr",
     "output_type": "stream",
     "text": [
      "2024-05-01 13:12:11,490 - AInewsbot - INFO - parse loop - The Register\n",
      "2024-05-01 13:12:11,506 - AInewsbot - INFO - parse_file - found 201 raw links\n",
      "2024-05-01 13:12:11,509 - AInewsbot - INFO - parse_file - found 89 filtered links\n",
      "2024-05-01 13:12:11,509 - AInewsbot - INFO - parse loop - 89 links found\n"
     ]
    },
    {
     "name": "stdout",
     "output_type": "stream",
     "text": [
      "The Verge -> htmldata/Artificial Intelligence - The Verge (05_01_2024 01_11_36 PM).html\n"
     ]
    },
    {
     "name": "stderr",
     "output_type": "stream",
     "text": [
      "2024-05-01 13:12:11,510 - AInewsbot - INFO - parse loop - The Verge\n",
      "2024-05-01 13:12:11,535 - AInewsbot - INFO - parse_file - found 302 raw links\n",
      "2024-05-01 13:12:11,538 - AInewsbot - INFO - parse_file - found 33 filtered links\n",
      "2024-05-01 13:12:11,538 - AInewsbot - INFO - parse loop - 33 links found\n"
     ]
    },
    {
     "name": "stdout",
     "output_type": "stream",
     "text": [
      "VentureBeat -> htmldata/AI News _ VentureBeat (05_01_2024 01_11_47 PM).html\n"
     ]
    },
    {
     "name": "stderr",
     "output_type": "stream",
     "text": [
      "2024-05-01 13:12:11,539 - AInewsbot - INFO - parse loop - VentureBeat\n",
      "2024-05-01 13:12:11,554 - AInewsbot - INFO - parse_file - found 324 raw links\n",
      "2024-05-01 13:12:11,558 - AInewsbot - INFO - parse_file - found 46 filtered links\n",
      "2024-05-01 13:12:11,558 - AInewsbot - INFO - parse loop - 46 links found\n"
     ]
    },
    {
     "name": "stdout",
     "output_type": "stream",
     "text": [
      "WSJ Tech -> htmldata/Technology - WSJ.com (05_01_2024 01_11_58 PM).html\n"
     ]
    },
    {
     "name": "stderr",
     "output_type": "stream",
     "text": [
      "2024-05-01 13:12:11,558 - AInewsbot - INFO - parse loop - WSJ Tech\n",
      "2024-05-01 13:12:11,589 - AInewsbot - INFO - parse_file - found 500 raw links\n",
      "2024-05-01 13:12:11,595 - AInewsbot - INFO - parse_file - found 4 filtered links\n",
      "2024-05-01 13:12:11,595 - AInewsbot - INFO - parse loop - 4 links found\n"
     ]
    },
    {
     "name": "stdout",
     "output_type": "stream",
     "text": [
      "WaPo Tech -> htmldata/Technology - The Washington Post (05_01_2024 01_12_08 PM).html\n"
     ]
    },
    {
     "name": "stderr",
     "output_type": "stream",
     "text": [
      "2024-05-01 13:12:11,595 - AInewsbot - INFO - parse loop - WaPo Tech\n",
      "2024-05-01 13:12:11,646 - AInewsbot - INFO - parse_file - found 160 raw links\n",
      "2024-05-01 13:12:11,648 - AInewsbot - INFO - parse_file - found 27 filtered links\n",
      "2024-05-01 13:12:11,649 - AInewsbot - INFO - parse loop - 27 links found\n",
      "2024-05-01 13:12:11,649 - AInewsbot - INFO - parse loop - found 1667 links\n"
     ]
    },
    {
     "data": {
      "text/plain": [
       "20"
      ]
     },
     "execution_count": 12,
     "metadata": {},
     "output_type": "execute_result"
    }
   ],
   "source": [
    "# Parse news URLs and titles from downloaded HTML files\n",
    "log(\"parsing html files\")\n",
    "all_urls = []\n",
    "for sourcename, filename in saved_pages:\n",
    "    print(sourcename, '->', filename, flush=True)\n",
    "    log(f\"{sourcename}\", \"parse loop\")\n",
    "    links = parse_file(sources[sourcename])\n",
    "    log(f\"{len(links)} links found\", \"parse loop\")\n",
    "    all_urls.extend(links)\n",
    "\n",
    "log(f\"found {len(all_urls)} links\", \"parse loop\")"
   ]
  },
  {
   "cell_type": "code",
   "execution_count": 13,
   "id": "3d4d797e-1d72-46a5-9242-1877c5754bda",
   "metadata": {},
   "outputs": [
    {
     "name": "stdout",
     "output_type": "stream",
     "text": [
      "1357\n"
     ]
    },
    {
     "data": {
      "text/html": [
       "<div>\n",
       "<style scoped>\n",
       "    .dataframe tbody tr th:only-of-type {\n",
       "        vertical-align: middle;\n",
       "    }\n",
       "\n",
       "    .dataframe tbody tr th {\n",
       "        vertical-align: top;\n",
       "    }\n",
       "\n",
       "    .dataframe thead th {\n",
       "        text-align: right;\n",
       "    }\n",
       "</style>\n",
       "<table border=\"1\" class=\"dataframe\">\n",
       "  <thead>\n",
       "    <tr style=\"text-align: right;\">\n",
       "      <th></th>\n",
       "      <th>id</th>\n",
       "      <th>src</th>\n",
       "      <th>title</th>\n",
       "      <th>url</th>\n",
       "    </tr>\n",
       "  </thead>\n",
       "  <tbody>\n",
       "    <tr>\n",
       "      <th>0</th>\n",
       "      <td>0</td>\n",
       "      <td>Ars Technica</td>\n",
       "      <td>The BASIC programming language turns 60</td>\n",
       "      <td>https://arstechnica.com/gadgets/2024/05/the-ba...</td>\n",
       "    </tr>\n",
       "    <tr>\n",
       "      <th>1</th>\n",
       "      <td>1</td>\n",
       "      <td>Ars Technica</td>\n",
       "      <td>New space company seeks to solve orbital mobil...</td>\n",
       "      <td>https://arstechnica.com/space/2024/04/new-spac...</td>\n",
       "    </tr>\n",
       "    <tr>\n",
       "      <th>2</th>\n",
       "      <td>2</td>\n",
       "      <td>Ars Technica</td>\n",
       "      <td>NASA lays out how SpaceX will refuel Starships...</td>\n",
       "      <td>https://arstechnica.com/space/2024/04/nasa-exp...</td>\n",
       "    </tr>\n",
       "    <tr>\n",
       "      <th>3</th>\n",
       "      <td>3</td>\n",
       "      <td>Ars Technica</td>\n",
       "      <td>Account compromise of “unprecedented scale” us...</td>\n",
       "      <td>https://arstechnica.com/security/2024/04/every...</td>\n",
       "    </tr>\n",
       "    <tr>\n",
       "      <th>4</th>\n",
       "      <td>4</td>\n",
       "      <td>Ars Technica</td>\n",
       "      <td>Health care giant comes clean about recent hac...</td>\n",
       "      <td>https://arstechnica.com/security/2024/04/chang...</td>\n",
       "    </tr>\n",
       "  </tbody>\n",
       "</table>\n",
       "</div>"
      ],
      "text/plain": [
       "   id           src                                              title  \\\n",
       "0   0  Ars Technica            The BASIC programming language turns 60   \n",
       "1   1  Ars Technica  New space company seeks to solve orbital mobil...   \n",
       "2   2  Ars Technica  NASA lays out how SpaceX will refuel Starships...   \n",
       "3   3  Ars Technica  Account compromise of “unprecedented scale” us...   \n",
       "4   4  Ars Technica  Health care giant comes clean about recent hac...   \n",
       "\n",
       "                                                 url  \n",
       "0  https://arstechnica.com/gadgets/2024/05/the-ba...  \n",
       "1  https://arstechnica.com/space/2024/04/new-spac...  \n",
       "2  https://arstechnica.com/space/2024/04/nasa-exp...  \n",
       "3  https://arstechnica.com/security/2024/04/every...  \n",
       "4  https://arstechnica.com/security/2024/04/chang...  "
      ]
     },
     "execution_count": 13,
     "metadata": {},
     "output_type": "execute_result"
    }
   ],
   "source": [
    "# make a pandas dataframe of all the links found\n",
    "orig_df = (\n",
    "    pd.DataFrame(all_urls)\n",
    "    .groupby(\"url\")\n",
    "    .first()\n",
    "    .reset_index()\n",
    "    .sort_values(\"src\")[[\"src\", \"title\", \"url\"]]\n",
    "    .reset_index(drop=True)\n",
    "    .reset_index(drop=False)\n",
    "    .rename(columns={\"index\": \"id\"})\n",
    ")\n",
    "print(len(orig_df))\n",
    "orig_df.head()"
   ]
  },
  {
   "cell_type": "code",
   "execution_count": 14,
   "id": "55cbe391-0c3b-4258-bc49-6b442c0a53c1",
   "metadata": {},
   "outputs": [],
   "source": [
    "# datestr = '2024-04-29'\n",
    "\n",
    "# conn = sqlite3.connect('articles.db')\n",
    "\n",
    "# c = conn.cursor()\n",
    "# query = f\"select * from news_articles where article_date > '{datestr}' order by article_date desc\"\n",
    "# df = pd.read_sql_query(query, conn)\n",
    "# df\n",
    "\n"
   ]
  },
  {
   "cell_type": "code",
   "execution_count": 15,
   "id": "8df42fdb-fed6-4e10-a130-17f22f9a97f3",
   "metadata": {},
   "outputs": [],
   "source": [
    "\n",
    "# conn.execute(f\"delete from news_articles where article_date > '{datestr}'\")\n",
    "\n",
    "# # Committing the changes\n",
    "# conn.commit()\n",
    "\n",
    "# # Closing the connection\n",
    "# conn.close()\n"
   ]
  },
  {
   "cell_type": "code",
   "execution_count": 16,
   "id": "3f760895-915f-499e-814d-dea389c9a3db",
   "metadata": {},
   "outputs": [
    {
     "name": "stderr",
     "output_type": "stream",
     "text": [
      "2024-05-01 13:12:11,829 - AInewsbot - INFO - Existing URLs: 58252\n",
      "2024-05-01 13:12:11,840 - AInewsbot - INFO - New URLs: 295\n"
     ]
    }
   ],
   "source": [
    "filtered_df = filter_unseen_urls_db(orig_df)\n"
   ]
  },
  {
   "cell_type": "code",
   "execution_count": 17,
   "id": "39235332-cb60-4c13-8e8a-0e63c91bd263",
   "metadata": {},
   "outputs": [
    {
     "name": "stderr",
     "output_type": "stream",
     "text": [
      "2024-05-01 13:12:11,971 - AInewsbot - INFO - send page 1 of 6, 50 items \n",
      "2024-05-01 13:12:39,212 - httpx - INFO - HTTP Request: POST https://api.openai.com/v1/chat/completions \"HTTP/1.1 200 OK\"\n",
      "2024-05-01 13:12:39,227 - AInewsbot - INFO - 13:12:39 got dict with 50 items \n",
      "2024-05-01 13:12:39,228 - AInewsbot - INFO - send page 2 of 6, 50 items \n",
      "2024-05-01 13:13:08,718 - httpx - INFO - HTTP Request: POST https://api.openai.com/v1/chat/completions \"HTTP/1.1 200 OK\"\n",
      "2024-05-01 13:13:08,720 - AInewsbot - INFO - 13:13:08 got dict with 50 items \n",
      "2024-05-01 13:13:08,721 - AInewsbot - INFO - send page 3 of 6, 50 items \n",
      "2024-05-01 13:13:31,707 - httpx - INFO - HTTP Request: POST https://api.openai.com/v1/chat/completions \"HTTP/1.1 200 OK\"\n",
      "2024-05-01 13:13:31,710 - AInewsbot - INFO - 13:13:31 got dict with 50 items \n",
      "2024-05-01 13:13:31,711 - AInewsbot - INFO - send page 4 of 6, 50 items \n",
      "2024-05-01 13:14:11,419 - httpx - INFO - HTTP Request: POST https://api.openai.com/v1/chat/completions \"HTTP/1.1 200 OK\"\n",
      "2024-05-01 13:14:11,422 - AInewsbot - INFO - 13:14:11 got dict with 50 items \n",
      "2024-05-01 13:14:11,424 - AInewsbot - INFO - send page 5 of 6, 50 items \n",
      "2024-05-01 13:14:40,232 - httpx - INFO - HTTP Request: POST https://api.openai.com/v1/chat/completions \"HTTP/1.1 200 OK\"\n",
      "2024-05-01 13:14:40,235 - AInewsbot - INFO - 13:14:40 got dict with 50 items \n",
      "2024-05-01 13:14:40,236 - AInewsbot - INFO - send page 6 of 6, 45 items \n",
      "2024-05-01 13:15:19,289 - httpx - INFO - HTTP Request: POST https://api.openai.com/v1/chat/completions \"HTTP/1.1 200 OK\"\n",
      "2024-05-01 13:15:19,292 - AInewsbot - INFO - 13:15:19 got dict with 45 items \n"
     ]
    },
    {
     "data": {
      "text/html": [
       "<div>\n",
       "<style scoped>\n",
       "    .dataframe tbody tr th:only-of-type {\n",
       "        vertical-align: middle;\n",
       "    }\n",
       "\n",
       "    .dataframe tbody tr th {\n",
       "        vertical-align: top;\n",
       "    }\n",
       "\n",
       "    .dataframe thead th {\n",
       "        text-align: right;\n",
       "    }\n",
       "</style>\n",
       "<table border=\"1\" class=\"dataframe\">\n",
       "  <thead>\n",
       "    <tr style=\"text-align: right;\">\n",
       "      <th></th>\n",
       "      <th>id</th>\n",
       "      <th>isAI</th>\n",
       "    </tr>\n",
       "  </thead>\n",
       "  <tbody>\n",
       "    <tr>\n",
       "      <th>0</th>\n",
       "      <td>0</td>\n",
       "      <td>False</td>\n",
       "    </tr>\n",
       "    <tr>\n",
       "      <th>1</th>\n",
       "      <td>9</td>\n",
       "      <td>False</td>\n",
       "    </tr>\n",
       "    <tr>\n",
       "      <th>2</th>\n",
       "      <td>10</td>\n",
       "      <td>False</td>\n",
       "    </tr>\n",
       "    <tr>\n",
       "      <th>3</th>\n",
       "      <td>11</td>\n",
       "      <td>True</td>\n",
       "    </tr>\n",
       "    <tr>\n",
       "      <th>4</th>\n",
       "      <td>20</td>\n",
       "      <td>True</td>\n",
       "    </tr>\n",
       "  </tbody>\n",
       "</table>\n",
       "</div>"
      ],
      "text/plain": [
       "   id   isAI\n",
       "0   0  False\n",
       "1   9  False\n",
       "2  10  False\n",
       "3  11   True\n",
       "4  20   True"
      ]
     },
     "execution_count": 17,
     "metadata": {},
     "output_type": "execute_result"
    }
   ],
   "source": [
    "# use chatgpt to filter AI-related headlines using a prompt to OpenAI\n",
    "\n",
    "client = OpenAI()\n",
    "\n",
    "# make pages that fit in fa reasonably sized prompt\n",
    "pages = paginate_df(filtered_df)\n",
    "\n",
    "enriched_urls = process_pages(client, PROMPT, pages)\n",
    "\n",
    "enriched_df = pd.DataFrame(enriched_urls)\n",
    "enriched_df.head()"
   ]
  },
  {
   "cell_type": "code",
   "execution_count": 18,
   "id": "a8f0b627-6d83-4e2a-b8fa-13d949f80272",
   "metadata": {},
   "outputs": [
    {
     "name": "stderr",
     "output_type": "stream",
     "text": [
      "2024-05-01 13:15:19,309 - AInewsbot - INFO - 115 - isAI\n",
      "2024-05-01 13:15:19,311 - AInewsbot - INFO - 180 - not isAI\n"
     ]
    },
    {
     "data": {
      "text/plain": [
       "20"
      ]
     },
     "execution_count": 18,
     "metadata": {},
     "output_type": "execute_result"
    }
   ],
   "source": [
    "log(\"isAI\", len(enriched_df.loc[enriched_df[\"isAI\"]]))\n",
    "log(\"not isAI\", len(enriched_df.loc[~enriched_df[\"isAI\"]]))\n"
   ]
  },
  {
   "cell_type": "code",
   "execution_count": 19,
   "id": "3d36ce69-2da0-4c85-a98f-760c7b7c6a16",
   "metadata": {},
   "outputs": [
    {
     "data": {
      "text/html": [
       "<div>\n",
       "<style scoped>\n",
       "    .dataframe tbody tr th:only-of-type {\n",
       "        vertical-align: middle;\n",
       "    }\n",
       "\n",
       "    .dataframe tbody tr th {\n",
       "        vertical-align: top;\n",
       "    }\n",
       "\n",
       "    .dataframe thead th {\n",
       "        text-align: right;\n",
       "    }\n",
       "</style>\n",
       "<table border=\"1\" class=\"dataframe\">\n",
       "  <thead>\n",
       "    <tr style=\"text-align: right;\">\n",
       "      <th></th>\n",
       "      <th>id</th>\n",
       "      <th>src</th>\n",
       "      <th>title</th>\n",
       "      <th>url</th>\n",
       "      <th>isAI</th>\n",
       "      <th>date</th>\n",
       "    </tr>\n",
       "  </thead>\n",
       "  <tbody>\n",
       "    <tr>\n",
       "      <th>0</th>\n",
       "      <td>0</td>\n",
       "      <td>Ars Technica</td>\n",
       "      <td>The BASIC programming language turns 60</td>\n",
       "      <td>https://arstechnica.com/gadgets/2024/05/the-ba...</td>\n",
       "      <td>False</td>\n",
       "      <td>2024-05-01</td>\n",
       "    </tr>\n",
       "    <tr>\n",
       "      <th>1</th>\n",
       "      <td>9</td>\n",
       "      <td>Ars Technica</td>\n",
       "      <td>Europe’s ambitious satellite Internet project ...</td>\n",
       "      <td>https://arstechnica.com/space/2024/05/europes-...</td>\n",
       "      <td>False</td>\n",
       "      <td>2024-05-01</td>\n",
       "    </tr>\n",
       "    <tr>\n",
       "      <th>2</th>\n",
       "      <td>10</td>\n",
       "      <td>Ars Technica</td>\n",
       "      <td>iOS 17.5 makes it less of a hassle to send you...</td>\n",
       "      <td>https://arstechnica.com/gadgets/2024/05/repair...</td>\n",
       "      <td>False</td>\n",
       "      <td>2024-05-01</td>\n",
       "    </tr>\n",
       "    <tr>\n",
       "      <th>3</th>\n",
       "      <td>11</td>\n",
       "      <td>Ars Technica</td>\n",
       "      <td>Rabbit R1 AI box revealed to just be an Androi...</td>\n",
       "      <td>https://arstechnica.com/gadgets/2024/05/rabbit...</td>\n",
       "      <td>True</td>\n",
       "      <td>2024-05-01</td>\n",
       "    </tr>\n",
       "    <tr>\n",
       "      <th>4</th>\n",
       "      <td>20</td>\n",
       "      <td>Ars Technica</td>\n",
       "      <td>ChatGPT shows better moral judgement than a co...</td>\n",
       "      <td>https://arstechnica.com/ai/2024/05/chatgpt-sho...</td>\n",
       "      <td>True</td>\n",
       "      <td>2024-05-01</td>\n",
       "    </tr>\n",
       "  </tbody>\n",
       "</table>\n",
       "</div>"
      ],
      "text/plain": [
       "   id           src                                              title  \\\n",
       "0   0  Ars Technica            The BASIC programming language turns 60   \n",
       "1   9  Ars Technica  Europe’s ambitious satellite Internet project ...   \n",
       "2  10  Ars Technica  iOS 17.5 makes it less of a hassle to send you...   \n",
       "3  11  Ars Technica  Rabbit R1 AI box revealed to just be an Androi...   \n",
       "4  20  Ars Technica  ChatGPT shows better moral judgement than a co...   \n",
       "\n",
       "                                                 url   isAI        date  \n",
       "0  https://arstechnica.com/gadgets/2024/05/the-ba...  False  2024-05-01  \n",
       "1  https://arstechnica.com/space/2024/05/europes-...  False  2024-05-01  \n",
       "2  https://arstechnica.com/gadgets/2024/05/repair...  False  2024-05-01  \n",
       "3  https://arstechnica.com/gadgets/2024/05/rabbit...   True  2024-05-01  \n",
       "4  https://arstechnica.com/ai/2024/05/chatgpt-sho...   True  2024-05-01  "
      ]
     },
     "execution_count": 19,
     "metadata": {},
     "output_type": "execute_result"
    }
   ],
   "source": [
    "# merge returned df into original df\n",
    "merged_df = pd.merge(filtered_df, enriched_df, on=\"id\", how=\"outer\")\n",
    "merged_df['date'] = datetime.now().date()\n",
    "merged_df.head()\n"
   ]
  },
  {
   "cell_type": "code",
   "execution_count": 20,
   "id": "f286de30-81e7-4bab-a7fa-9477f27b6a75",
   "metadata": {},
   "outputs": [
    {
     "name": "stderr",
     "output_type": "stream",
     "text": [
      "2024-05-01 13:15:19,325 - AInewsbot - INFO - Unmatched response rows: 0\n",
      "2024-05-01 13:15:19,326 - AInewsbot - INFO - Unmatched source rows: 0\n"
     ]
    },
    {
     "data": {
      "text/plain": [
       "20"
      ]
     },
     "execution_count": 20,
     "metadata": {},
     "output_type": "execute_result"
    }
   ],
   "source": [
    "# should be empty, shouldn't get back rows that don't match to existing\n",
    "log(f\"Unmatched response rows: {len(merged_df.loc[merged_df['src'].isna()])}\")\n",
    "# should be empty, should get back all rows from orig\n",
    "log(f\"Unmatched source rows: {len(merged_df.loc[merged_df['isAI'].isna()])}\")\n"
   ]
  },
  {
   "cell_type": "code",
   "execution_count": 21,
   "id": "193ead65-a4f6-4b25-97a1-e14aec1d2c30",
   "metadata": {},
   "outputs": [],
   "source": [
    "# update SQLite database with all seen articles\n",
    "conn = sqlite3.connect('articles.db')\n",
    "cursor = conn.cursor()\n",
    "for row in merged_df.itertuples():\n",
    "    insert_article(conn, cursor, row.src, row.title,\n",
    "                   row.url, row.isAI, row.date)\n",
    "    "
   ]
  },
  {
   "cell_type": "code",
   "execution_count": 22,
   "id": "7f345b05-6f77-4132-a1f4-00e798196bfd",
   "metadata": {},
   "outputs": [
    {
     "name": "stderr",
     "output_type": "stream",
     "text": [
      "2024-05-01 13:15:19,515 - AInewsbot - INFO - Found 115 AI headlines\n"
     ]
    },
    {
     "data": {
      "text/plain": [
       "20"
      ]
     },
     "execution_count": 22,
     "metadata": {},
     "output_type": "execute_result"
    }
   ],
   "source": [
    "AIdf = merged_df.loc[merged_df[\"isAI\"]].reset_index(drop=True)\n",
    "log(f\"Found {len(AIdf)} AI headlines\")\n"
   ]
  },
  {
   "cell_type": "code",
   "execution_count": 23,
   "id": "5323512b-727a-4bcb-b74e-0577044e757c",
   "metadata": {},
   "outputs": [],
   "source": [
    "# map title to ascii characters to avoid some dupes with e.g. different quote symbols\n",
    "\n",
    "def unicode_to_ascii(input_string):\n",
    "    # Normalize the Unicode string to NFKD form\n",
    "    normalized_string = unicodedata.normalize('NFKD', input_string)\n",
    "    \n",
    "    # Encode to ASCII bytes, ignoring characters that cannot be converted\n",
    "    ascii_bytes = normalized_string.encode('ascii', 'ignore')\n",
    "    \n",
    "    # Convert bytes back to a string\n",
    "    ascii_string = ascii_bytes.decode('ascii')\n",
    "    \n",
    "    return ascii_string\n",
    "\n",
    "AIdf['title'] = AIdf['title'].apply(unicode_to_ascii)\n"
   ]
  },
  {
   "cell_type": "code",
   "execution_count": 24,
   "id": "ba28a38b-d93d-43d8-9e24-c6a107538f3d",
   "metadata": {},
   "outputs": [
    {
     "name": "stderr",
     "output_type": "stream",
     "text": [
      "2024-05-01 13:15:19,523 - AInewsbot - INFO - Found 112 unique AI headlines\n"
     ]
    },
    {
     "data": {
      "text/plain": [
       "20"
      ]
     },
     "execution_count": 24,
     "metadata": {},
     "output_type": "execute_result"
    }
   ],
   "source": [
    "# dedupe identical headlines\n",
    "AIdf['title_clean'] = AIdf['title'].map(lambda s: \"\".join(s.split()))\n",
    "AIdf = AIdf.sort_values(\"src\") \\\n",
    "    .groupby(\"title_clean\") \\\n",
    "    .first() \\\n",
    "    .reset_index()\n",
    "log(f\"Found {len(AIdf)} unique AI headlines\")\n"
   ]
  },
  {
   "cell_type": "code",
   "execution_count": 28,
   "id": "c493929e-a779-406b-83dc-3e770f739e6a",
   "metadata": {},
   "outputs": [
    {
     "name": "stderr",
     "output_type": "stream",
     "text": [
      "2024-05-01 13:29:20,773 - AInewsbot - INFO - Fetching embeddings for 112 headlines\n",
      "2024-05-01 13:29:21,181 - httpx - INFO - HTTP Request: POST https://api.openai.com/v1/embeddings \"HTTP/1.1 200 OK\"\n"
     ]
    }
   ],
   "source": [
    "log(f\"Fetching embeddings for {len(AIdf)} headlines\")\n",
    "embedding_model = 'text-embedding-3-large'\n",
    "response = client.embeddings.create(input=AIdf['title'].tolist(),\n",
    "                                    model=embedding_model)\n",
    "embedding_df = pd.DataFrame([e.model_dump()['embedding'] for e in response.data])\n",
    "# embedding_array = embedding_df.values\n",
    "\n",
    "# # find index of most central headline\n",
    "# centroid = embedding_array.mean(axis=0)\n",
    "# distances = np.linalg.norm(embedding_array - centroid, axis=1)\n",
    "# start_index = np.argmin(distances)\n",
    "\n",
    "# # Get the sorted indices and use them to sort the df\n",
    "# sorted_indices = nearest_neighbor_sort(embedding_array, start_index)\n",
    "# AIdf = AIdf.iloc[sorted_indices]\n"
   ]
  },
  {
   "cell_type": "code",
   "execution_count": 29,
   "id": "a7a568f7-bfba-4759-9d2c-fbd9a7331384",
   "metadata": {},
   "outputs": [],
   "source": [
    "leaf_order = agglomerative_cluster_sort(embedding_df)\n",
    "AIdf = AIdf.iloc[leaf_order]\n"
   ]
  },
  {
   "cell_type": "code",
   "execution_count": 30,
   "id": "bad6702f-c6fc-4a3c-a6b6-fd4b34e16b3a",
   "metadata": {},
   "outputs": [
    {
     "data": {
      "text/html": [
       "<div>\n",
       "<style scoped>\n",
       "    .dataframe tbody tr th:only-of-type {\n",
       "        vertical-align: middle;\n",
       "    }\n",
       "\n",
       "    .dataframe tbody tr th {\n",
       "        vertical-align: top;\n",
       "    }\n",
       "\n",
       "    .dataframe thead th {\n",
       "        text-align: right;\n",
       "    }\n",
       "</style>\n",
       "<table border=\"1\" class=\"dataframe\">\n",
       "  <thead>\n",
       "    <tr style=\"text-align: right;\">\n",
       "      <th></th>\n",
       "      <th>title_clean</th>\n",
       "      <th>id</th>\n",
       "      <th>src</th>\n",
       "      <th>title</th>\n",
       "      <th>url</th>\n",
       "      <th>isAI</th>\n",
       "      <th>date</th>\n",
       "    </tr>\n",
       "  </thead>\n",
       "  <tbody>\n",
       "    <tr>\n",
       "      <th>0</th>\n",
       "      <td>ChatGPTshowsbettermoraljudgementthanacollegeun...</td>\n",
       "      <td>20</td>\n",
       "      <td>Ars Technica</td>\n",
       "      <td>ChatGPT shows better moral judgement than a co...</td>\n",
       "      <td>https://arstechnica.com/ai/2024/05/chatgpt-sho...</td>\n",
       "      <td>True</td>\n",
       "      <td>2024-05-01</td>\n",
       "    </tr>\n",
       "    <tr>\n",
       "      <th>1</th>\n",
       "      <td>Excessiveuseofwordslike'commendable'and'meticu...</td>\n",
       "      <td>388</td>\n",
       "      <td>Google News</td>\n",
       "      <td>Excessive use of words like 'commendable' and ...</td>\n",
       "      <td>https://news.google.com/articles/CBMirwFodHRwc...</td>\n",
       "      <td>True</td>\n",
       "      <td>2024-05-01</td>\n",
       "    </tr>\n",
       "    <tr>\n",
       "      <th>2</th>\n",
       "      <td>AwaytomakeChatGPTlesschattywhenaskingforcode</td>\n",
       "      <td>967</td>\n",
       "      <td>Reddit</td>\n",
       "      <td>A way to make ChatGPT less chatty when asking ...</td>\n",
       "      <td>https://www.reddit.com/r/ChatGPT/comments/1chi...</td>\n",
       "      <td>True</td>\n",
       "      <td>2024-05-01</td>\n",
       "    </tr>\n",
       "    <tr>\n",
       "      <th>3</th>\n",
       "      <td>NationalArchivesBansEmployeeUseofChatGPT</td>\n",
       "      <td>203</td>\n",
       "      <td>Feedly AI</td>\n",
       "      <td>National Archives Bans Employee Use of ChatGPT</td>\n",
       "      <td>https://www.404media.co/national-archives-bans...</td>\n",
       "      <td>True</td>\n",
       "      <td>2024-05-01</td>\n",
       "    </tr>\n",
       "    <tr>\n",
       "      <th>4</th>\n",
       "      <td>ChatGPTjustgottwoupdatesthataddressmajorpainpo...</td>\n",
       "      <td>225</td>\n",
       "      <td>Feedly AI</td>\n",
       "      <td>ChatGPT just got two updates that address majo...</td>\n",
       "      <td>https://www.zdnet.com/article/chatgpt-just-got...</td>\n",
       "      <td>True</td>\n",
       "      <td>2024-05-01</td>\n",
       "    </tr>\n",
       "    <tr>\n",
       "      <th>...</th>\n",
       "      <td>...</td>\n",
       "      <td>...</td>\n",
       "      <td>...</td>\n",
       "      <td>...</td>\n",
       "      <td>...</td>\n",
       "      <td>...</td>\n",
       "      <td>...</td>\n",
       "    </tr>\n",
       "    <tr>\n",
       "      <th>107</th>\n",
       "      <td>Exclusive:NewAI-poweredIterablefeatureshelpbra...</td>\n",
       "      <td>226</td>\n",
       "      <td>Feedly AI</td>\n",
       "      <td>Exclusive: New AI-powered Iterable features he...</td>\n",
       "      <td>https://venturebeat.com/ai/exclusive-new-ai-po...</td>\n",
       "      <td>True</td>\n",
       "      <td>2024-05-01</td>\n",
       "    </tr>\n",
       "    <tr>\n",
       "      <th>108</th>\n",
       "      <td>LatticelaunchesnewAIfeaturesforperformancemana...</td>\n",
       "      <td>246</td>\n",
       "      <td>Feedly AI</td>\n",
       "      <td>Lattice launches new AI features for performan...</td>\n",
       "      <td>https://www.hr-brew.com/stories/2024/05/01/lat...</td>\n",
       "      <td>True</td>\n",
       "      <td>2024-05-01</td>\n",
       "    </tr>\n",
       "    <tr>\n",
       "      <th>109</th>\n",
       "      <td>AIvoiceanalysisgivessuicidehotlineworkersanemo...</td>\n",
       "      <td>232</td>\n",
       "      <td>Feedly AI</td>\n",
       "      <td>AI voice analysis gives suicide hotline worker...</td>\n",
       "      <td>https://newatlas.com/technology/ai-emotion-spe...</td>\n",
       "      <td>True</td>\n",
       "      <td>2024-05-01</td>\n",
       "    </tr>\n",
       "    <tr>\n",
       "      <th>110</th>\n",
       "      <td>ShowHN:IbuiltthisAIsupportedcareerproduct,soyo...</td>\n",
       "      <td>236</td>\n",
       "      <td>Feedly AI</td>\n",
       "      <td>Show HN: I built this AI supported career prod...</td>\n",
       "      <td>https://interviewtraininggermany.com/course/tr...</td>\n",
       "      <td>True</td>\n",
       "      <td>2024-05-01</td>\n",
       "    </tr>\n",
       "    <tr>\n",
       "      <th>111</th>\n",
       "      <td>YelplaunchesnewAIassistantforfindingtherightpr...</td>\n",
       "      <td>590</td>\n",
       "      <td>Google News</td>\n",
       "      <td>Yelp launches new AI assistant for finding the...</td>\n",
       "      <td>https://news.google.com/articles/CBMiPGh0dHBzO...</td>\n",
       "      <td>True</td>\n",
       "      <td>2024-05-01</td>\n",
       "    </tr>\n",
       "  </tbody>\n",
       "</table>\n",
       "<p>112 rows × 7 columns</p>\n",
       "</div>"
      ],
      "text/plain": [
       "                                           title_clean   id           src  \\\n",
       "0    ChatGPTshowsbettermoraljudgementthanacollegeun...   20  Ars Technica   \n",
       "1    Excessiveuseofwordslike'commendable'and'meticu...  388   Google News   \n",
       "2         AwaytomakeChatGPTlesschattywhenaskingforcode  967        Reddit   \n",
       "3             NationalArchivesBansEmployeeUseofChatGPT  203     Feedly AI   \n",
       "4    ChatGPTjustgottwoupdatesthataddressmajorpainpo...  225     Feedly AI   \n",
       "..                                                 ...  ...           ...   \n",
       "107  Exclusive:NewAI-poweredIterablefeatureshelpbra...  226     Feedly AI   \n",
       "108  LatticelaunchesnewAIfeaturesforperformancemana...  246     Feedly AI   \n",
       "109  AIvoiceanalysisgivessuicidehotlineworkersanemo...  232     Feedly AI   \n",
       "110  ShowHN:IbuiltthisAIsupportedcareerproduct,soyo...  236     Feedly AI   \n",
       "111  YelplaunchesnewAIassistantforfindingtherightpr...  590   Google News   \n",
       "\n",
       "                                                 title  \\\n",
       "0    ChatGPT shows better moral judgement than a co...   \n",
       "1    Excessive use of words like 'commendable' and ...   \n",
       "2    A way to make ChatGPT less chatty when asking ...   \n",
       "3       National Archives Bans Employee Use of ChatGPT   \n",
       "4    ChatGPT just got two updates that address majo...   \n",
       "..                                                 ...   \n",
       "107  Exclusive: New AI-powered Iterable features he...   \n",
       "108  Lattice launches new AI features for performan...   \n",
       "109  AI voice analysis gives suicide hotline worker...   \n",
       "110  Show HN: I built this AI supported career prod...   \n",
       "111  Yelp launches new AI assistant for finding the...   \n",
       "\n",
       "                                                   url  isAI        date  \n",
       "0    https://arstechnica.com/ai/2024/05/chatgpt-sho...  True  2024-05-01  \n",
       "1    https://news.google.com/articles/CBMirwFodHRwc...  True  2024-05-01  \n",
       "2    https://www.reddit.com/r/ChatGPT/comments/1chi...  True  2024-05-01  \n",
       "3    https://www.404media.co/national-archives-bans...  True  2024-05-01  \n",
       "4    https://www.zdnet.com/article/chatgpt-just-got...  True  2024-05-01  \n",
       "..                                                 ...   ...         ...  \n",
       "107  https://venturebeat.com/ai/exclusive-new-ai-po...  True  2024-05-01  \n",
       "108  https://www.hr-brew.com/stories/2024/05/01/lat...  True  2024-05-01  \n",
       "109  https://newatlas.com/technology/ai-emotion-spe...  True  2024-05-01  \n",
       "110  https://interviewtraininggermany.com/course/tr...  True  2024-05-01  \n",
       "111  https://news.google.com/articles/CBMiPGh0dHBzO...  True  2024-05-01  \n",
       "\n",
       "[112 rows x 7 columns]"
      ]
     },
     "execution_count": 30,
     "metadata": {},
     "output_type": "execute_result"
    }
   ],
   "source": [
    "AIdf=AIdf.reset_index(drop=True)\n",
    "AIdf"
   ]
  },
  {
   "cell_type": "code",
   "execution_count": 31,
   "id": "12047601-67d0-4e60-b1e7-79d38349b58e",
   "metadata": {},
   "outputs": [
    {
     "name": "stderr",
     "output_type": "stream",
     "text": [
      "2024-05-01 13:29:31,684 - AInewsbot - INFO - [0. ChatGPT shows better moral judgement than a college undergrad - Ars Technica](https://arstechnica.com/ai/2024/05/chatgpt-shows-better-moral-judgement-than-a-college-undergrad/)\n",
      "2024-05-01 13:29:31,687 - AInewsbot - INFO - [1. Excessive use of words like 'commendable' and 'meticulous' suggests ChatGPT has been used in thousands of scientific studies - Google News](https://news.google.com/articles/CBMirwFodHRwczovL2VuZ2xpc2guZWxwYWlzLmNvbS9zY2llbmNlLXRlY2gvMjAyNC0wNC0yNS9leGNlc3NpdmUtdXNlLW9mLXdvcmRzLWxpa2UtY29tbWVuZGFibGUtYW5kLW1ldGljdWxvdXMtc3VnZ2VzdC1jaGF0Z3B0LWhhcy1iZWVuLXVzZWQtaW4tdGhvdXNhbmRzLW9mLXNjaWVudGlmaWMtc3R1ZGllcy5odG1s0gEA)\n",
      "2024-05-01 13:29:31,688 - AInewsbot - INFO - [2. A way to make ChatGPT less chatty when asking for code - Reddit](https://www.reddit.com/r/ChatGPT/comments/1chi1os/a_way_to_make_chatgpt_less_chatty_when_asking_for/)\n",
      "2024-05-01 13:29:31,689 - AInewsbot - INFO - [3. National Archives Bans Employee Use of ChatGPT - Feedly AI](https://www.404media.co/national-archives-bans-employee-use-of-chatgpt/)\n",
      "2024-05-01 13:29:31,690 - AInewsbot - INFO - [4. ChatGPT just got two updates that address major pain points for users - Feedly AI](https://www.zdnet.com/article/chatgpt-just-got-two-data-control-updates-that-address-major-pain-points-for-users/#ftag=RSSbaffb68)\n",
      "2024-05-01 13:29:31,690 - AInewsbot - INFO - [5. ChatGPT now saves chat history even if you've opted out of sharing training data - Feedly AI](https://mashable.com/article/openai-chatgpt-saves-chat-history-opted-out-sharing-training-data)\n",
      "2024-05-01 13:29:31,691 - AInewsbot - INFO - [6. ChatGPTs chatbot rival Claude to be introduced on iPhone - Google News](https://news.google.com/articles/CBMiamh0dHBzOi8vd3d3LnRoZWd1YXJkaWFuLmNvbS90ZWNobm9sb2d5LzIwMjQvbWF5LzAxL2NoYXRncHQtY2hhdGJvdC1yaXZhbC1jbGF1ZGUtdG8tYmUtaW50cm9kdWNlZC1vbi1pcGhvbmXSAWpodHRwczovL2FtcC50aGVndWFyZGlhbi5jb20vdGVjaG5vbG9neS8yMDI0L21heS8wMS9jaGF0Z3B0LWNoYXRib3Qtcml2YWwtY2xhdWRlLXRvLWJlLWludHJvZHVjZWQtb24taXBob25l)\n",
      "2024-05-01 13:29:31,691 - AInewsbot - INFO - [7. Anthropic's Claude Teams and iOS App: The secure, scalable solution for enterprise AI adoption - VentureBeat](https://venturebeat.com/ai/anthropic-claude-teams-and-ios-app-the-secure-scalable-solution-for-enterprise-ai-adoption/)\n",
      "2024-05-01 13:29:31,692 - AInewsbot - INFO - [8. Anthropic finally releases a Claude mobile app - The Verge](https://www.theverge.com/2024/5/1/24145983/anthropic-claude3-model-mobile-app-team-plan)\n",
      "2024-05-01 13:29:31,692 - AInewsbot - INFO - [9. AI Startup Anthropic Debuts Claude Chatbot as an iPhone App - Bloomberg Tech](https://www.bloomberg.com/news/articles/2024-05-01/ai-startup-anthropic-debuts-claude-chatbot-as-an-iphone-app)\n",
      "2024-05-01 13:29:31,693 - AInewsbot - INFO - [10. Anthropic brings Claude AI to the iPhone and iPad - Google News](https://news.google.com/articles/CBMiMGh0dHBzOi8vOXRvNW1hYy5jb20vMjAyNC8wNS8wMS9pcGhvbmUtYWktY2xhdWRlL9IBAA)\n",
      "2024-05-01 13:29:31,693 - AInewsbot - INFO - [11. Anthropic Dethroned By Gemini 1.5 Pro's 1-Million-Token Context Window - Google News](https://news.google.com/articles/CBMiemh0dHBzOi8vd3d3LmZvcmJlcy5jb20vc2l0ZXMvbW9vcmluc2lnaHRzLzIwMjQvMDUvMDEvYW50aHJvcGljLWRldGhyb25lZC1ieS1nZW1pbmktMTUtcHJvcy0xLW1pbGxpb24tdG9rZW4tY29udGV4dC13aW5kb3cv0gEA)\n",
      "2024-05-01 13:29:31,694 - AInewsbot - INFO - [12. Amazon-backed Anthropic launches iPhone app and business tier to compete with OpenAI's ChatGPT - Google News](https://news.google.com/articles/CBMia2h0dHBzOi8vd3d3LmNuYmMuY29tLzIwMjQvMDUvMDEvYW50aHJvcGljLWlwaG9uZS1haS1hcHAtYnVzaW5lc3MtcGxhbi10by1jb21wZXRlLXdpdGgtb3BlbmFpLWFubm91bmNlZC5odG1s0gFvaHR0cHM6Ly93d3cuY25iYy5jb20vYW1wLzIwMjQvMDUvMDEvYW50aHJvcGljLWlwaG9uZS1haS1hcHAtYnVzaW5lc3MtcGxhbi10by1jb21wZXRlLXdpdGgtb3BlbmFpLWFubm91bmNlZC5odG1s)\n",
      "2024-05-01 13:29:31,694 - AInewsbot - INFO - [13. Amazon-funded Anthropic's launches AI app to compete with ChatGPT - Feedly AI](https://appleinsider.com/articles/24/05/01/anthropics-claude-ai-has-arrived-on-the-iphone-and-ipad)\n",
      "2024-05-01 13:29:31,695 - AInewsbot - INFO - [14. Anthropic launches a free iOS app and Team, its first enterprise plan, which offers access to its Claude 3 Opus, Sonnet, and Haiku models for $30/user/month - Techmeme](https://www.cnbc.com/2024/05/01/anthropic-iphone-ai-app-business-plan-to-compete-with-openai-announced.html)\n",
      "2024-05-01 13:29:31,695 - AInewsbot - INFO - [15. Anthropic launches a new premium plan aimed at businesses - Feedly AI](https://techcrunch.com/2024/05/01/anthropic-launches-a-new-premium-plan-aimed-at-businesses/)\n",
      "2024-05-01 13:29:31,696 - AInewsbot - INFO - [16. Microsoft's motivation to invest in OpenAI came amid fears of lagging behind Google - Google News](https://news.google.com/articles/CBMieGh0dHBzOi8vc2Vla2luZ2FscGhhLmNvbS9uZXdzLzQwOTcwMzItbWljcm9zb2Z0cy1tb3RpdmF0aW9uLXRvLWludmVzdC1pbi1vcGVuYWktY2FtZS1hbWlkLWZlYXJzLW9mLWxhZ2dpbmctYmVoaW5kLWdvb2dsZdIBAA)\n",
      "2024-05-01 13:29:31,696 - AInewsbot - INFO - [17. Microsoft Concern About Google's Lead Drove Investment in OpenAI - Google News](https://news.google.com/articles/CBMic2h0dHBzOi8vd3d3LmJsb29tYmVyZy5jb20vbmV3cy9hcnRpY2xlcy8yMDI0LTA1LTAxL21pY3Jvc29mdC1jb25jZXJuLWFib3V0LWdvb2dsZS1zLWxlYWQtZHJvdmUtaW52ZXN0bWVudC1pbi1vcGVuYWnSAQA)\n",
      "2024-05-01 13:29:31,696 - AInewsbot - INFO - [18. Emails reveal Microsoft fears over Google's AI progress in 2019 - Google News](https://news.google.com/articles/CBMiaWh0dHBzOi8vd3d3LmJ1c2luZXNzaW5zaWRlci5jb20vc2F0eWEtbmFkZWxsYS1iaWxsLWdhdGVzLW1pY3Jvc29mdC1jb25jZXJuLWdvb2dsZS1yaXZhbHMtYWktZW1haWxzLTIwMjQtNdIBbWh0dHBzOi8vd3d3LmJ1c2luZXNzaW5zaWRlci5jb20vc2F0eWEtbmFkZWxsYS1iaWxsLWdhdGVzLW1pY3Jvc29mdC1jb25jZXJuLWdvb2dsZS1yaXZhbHMtYWktZW1haWxzLTIwMjQtNT9hbXA)\n",
      "2024-05-01 13:29:31,697 - AInewsbot - INFO - [19. Microsoft's FOMO after seeing Google AI drove investment in OpenAIHistorical email in antitrust case shows execs 'very, very worried' about capability gapsAI + ML1 hr| - The Register](https://www.theregister.com/2024/05/01/openai_microsoft_email/)\n",
      "2024-05-01 13:29:31,697 - AInewsbot - INFO - [20. Microsoft's billion-dollar OpenAI investment was trigged by Google fears, emails reveal - Google News](https://news.google.com/articles/CBMiZWh0dHBzOi8vd3d3LnRoZXZlcmdlLmNvbS8yMDI0LzUvMS8yNDE0NjMwMi9taWNyb3NvZnQtb3BlbmFpLWludmVzdG1lbnQtZ29vZ2xlLXdvcnJpZXMtaW50ZXJuYWwtZW1haWxz0gEA)\n",
      "2024-05-01 13:29:31,698 - AInewsbot - INFO - [21. Microsofts billion-dollar OpenAI investment was trigged by Google fears, emails reveal - Feedly AI](https://www.theverge.com/2024/5/1/24146302/microsoft-openai-investment-google-worries-internal-emails)\n",
      "2024-05-01 13:29:31,698 - AInewsbot - INFO - [22. Stock Market Crash Warning: Don't Get Caught Holding These 3 AI Stocks. - Google News](https://news.google.com/articles/CBMiZ2h0dHBzOi8vaW52ZXN0b3JwbGFjZS5jb20vMjAyNC8wNC9zdG9jay1tYXJrZXQtY3Jhc2gtd2FybmluZy1kb250LWdldC1jYXVnaHQtaG9sZGluZy10aGVzZS0zLWFpLXN0b2Nrcy_SAQA)\n",
      "2024-05-01 13:29:31,698 - AInewsbot - INFO - [23. A Once-in-a-Generation Investment Opportunity: 1 Bill Ackman Artificial Intelligence (AI) Stock to Buy Hand Over Fist Before It Surges 17%, According to 1 Wall Street Analyst - Google News](https://news.google.com/articles/CBMiVmh0dHBzOi8vZmluYW5jZS55YWhvby5jb20vbmV3cy9vbmNlLWdlbmVyYXRpb24taW52ZXN0bWVudC1vcHBvcnR1bml0eS0xLTE1MjYwMDExNi5odG1s0gEA)\n",
      "2024-05-01 13:29:31,699 - AInewsbot - INFO - [24. The 1 Artificial Intelligence (AI) Stock Billionaires Bill Ackman, Chase Coleman, and David Tepper All Own - Google News](https://news.google.com/articles/CBMinAFodHRwczovL3d3dy5tc24uY29tL2VuLXVzL21vbmV5L2NvbXBhbmllcy90aGUtMS1hcnRpZmljaWFsLWludGVsbGlnZW5jZS1haS1zdG9jay1iaWxsaW9uYWlyZXMtYmlsbC1hY2ttYW4tY2hhc2UtY29sZW1hbi1hbmQtZGF2aWQtdGVwcGVyLWFsbC1vd24vYXItQUExbnFRdVTSAQA)\n",
      "2024-05-01 13:29:31,699 - AInewsbot - INFO - [25. AI Beneficiary Flex Stock Declines After Q4 Print, What's Going On? - Feedly AI](https://www.benzinga.com/news/earnings/24/05/38555204/ai-beneficiary-flex-stock-declines-after-q4-print-whats-going-on)\n",
      "2024-05-01 13:29:31,699 - AInewsbot - INFO - [26. AI chip darling AMD struggles to impress Wall Street this earnings season - Google News](https://news.google.com/articles/CBMid2h0dHBzOi8vZmluYW5jZS55YWhvby5jb20vbmV3cy9haS1jaGlwLWRhcmxpbmctYW1kLXN0cnVnZ2xlcy10by1pbXByZXNzLXdhbGwtc3RyZWV0LXRoaXMtZWFybmluZ3Mtc2Vhc29uLTE1MTkyMTY0NC5odG1s0gEA)\n",
      "2024-05-01 13:29:31,699 - AInewsbot - INFO - [27. AI Hardware Stocks Get Pummeled Even as Big Tech Keeps Spending - Google News](https://news.google.com/articles/CBMiTmh0dHBzOi8vZmluYW5jZS55YWhvby5jb20vbmV3cy9haS1oYXJkd2FyZS1zdG9ja3MtcHVtbWVsZWQtZXZlbi0xMjA3NTEyNTQuaHRtbNIBAA)\n",
      "2024-05-01 13:29:31,700 - AInewsbot - INFO - [28. Super Micro Computer stock plunges 13% on earnings miss despite AI demand - Google News](https://news.google.com/articles/CBMiTmh0dHBzOi8vcXouY29tL3N1cGVyLW1pY3JvLWNvbXB1dGVyLXN0b2NrLWVhcm5pbmdzLWFpLXNlcnZlcnMtY2hpcHMtMTg1MTQ0ODMwONIBAA)\n",
      "2024-05-01 13:29:31,700 - AInewsbot - INFO - [29. AI cloud provider CoreWeave secures another $1.1B in funding - Google News](https://news.google.com/articles/CBMiswFodHRwczovL3NlZWtpbmdhbHBoYS5jb20vbmV3cy80MDk3NTgyLWFpLWNsb3VkLXByb3ZpZGVyLWNvcmV3ZWF2ZS1zZWN1cmVzLWFub3RoZXItMTFiLWluLWZ1bmRpbmc_c291cmNlPWNvbnRlbnRfdHlwZSUzQXJlYWN0JTdDZmlyc3RfbGV2ZWxfdXJsJTNBbWFya2V0LW5ld3MlN0NzZWN0aW9uX2Fzc2V0JTNBbWFpbtIBAA)\n",
      "2024-05-01 13:29:31,700 - AInewsbot - INFO - [30. Exclusive | AI Cloud Computing Startup CoreWeave Valued at $19 Billion in New Funding Round - Google News](https://news.google.com/articles/CBMic2h0dHBzOi8vd3d3Lndzai5jb20vdGVjaC9haS9haS1jbG91ZC1jb21wdXRpbmctc3RhcnR1cC1jb3Jld2VhdmUtdmFsdWVkLWF0LTE5LWJpbGxpb24taW4tbmV3LWZ1bmRpbmctcm91bmQtZGZkYjQ3Y2TSAQA)\n",
      "2024-05-01 13:29:31,701 - AInewsbot - INFO - [31. Nvidia-backed GPU cloud provider CoreWeave surges to $19 billion valuation - Google News](https://news.google.com/articles/CBMiY2h0dHBzOi8vd3d3LmNuYmMuY29tLzIwMjQvMDUvMDEvbnZpZGlhLWJhY2tlZC1ncHUtY2xvdWQtcHJvdmlkZXItY29yZXdlYXZlLWlzLXdvcnRoLTE5LWJpbGxpb24uaHRtbNIBAA)\n",
      "2024-05-01 13:29:31,701 - AInewsbot - INFO - [32. NVIDIA DLSS 3.5 Ray Reconstruction Support Is Now Available in the RTX Remix Open Beta - Google News](https://news.google.com/articles/CBMiQmh0dHBzOi8vd2NjZnRlY2guY29tL252aWRpYS1kbHNzLTMtNS1yYXktcmVjb25zdHJ1Y3Rpb24tcnR4LXJlbWl4L9IBRmh0dHBzOi8vd2NjZnRlY2guY29tL252aWRpYS1kbHNzLTMtNS1yYXktcmVjb25zdHJ1Y3Rpb24tcnR4LXJlbWl4L2FtcC8)\n",
      "2024-05-01 13:29:31,701 - AInewsbot - INFO - [33. Nvidia launches tech update for ChatRTX AI chat - Google News](https://news.google.com/articles/CBMiS2h0dHBzOi8vdmVudHVyZWJlYXQuY29tL2FpL252aWRpYS1sYXVuY2hlcy10ZWNoLXVwZGF0ZS1mb3ItY2hhdHJ0eC1haS1jaGF0L9IBAA)\n",
      "2024-05-01 13:29:31,702 - AInewsbot - INFO - [34. Nvidia forges ahead with AI - with some unexpected consequences - Feedly AI](https://flipboard.com/@techradar/nvidia-forges-ahead-with-ai-with-some-unexpected-consequences-q47fgajhomqh5ku0)\n",
      "2024-05-01 13:29:31,702 - AInewsbot - INFO - [35. NVIDIA Calls RTX The Premium AI PC Platform, NPUs Only Good For Basic AI PCs - Google News](https://news.google.com/articles/CBMiYWh0dHBzOi8vd2NjZnRlY2guY29tL252aWRpYS1jYWxscy1ydHgtdGhlLXByZW1pdW0tYWktcGMtcGxhdGZvcm0tbnB1cy1vbmx5LWdvb2QtZm9yLWJhc2ljLWFpLXBjcy_SAWVodHRwczovL3djY2Z0ZWNoLmNvbS9udmlkaWEtY2FsbHMtcnR4LXRoZS1wcmVtaXVtLWFpLXBjLXBsYXRmb3JtLW5wdXMtb25seS1nb29kLWZvci1iYXNpYy1haS1wY3MvYW1wLw)\n",
      "2024-05-01 13:29:31,702 - AInewsbot - INFO - [36. Nvidia's 'Premium AI' push for PCs claims GPUs rule, NPUs drool - Feedly AI](https://www.pcworld.com/article/2320345/leaked-nvidia-ai-presentation-says-gpus-rule-npus-drool.html)\n",
      "2024-05-01 13:29:31,703 - AInewsbot - INFO - [37. Rabbit CEO Defends $200 AI Doohickey, Says 'It's Not an App' - Google News](https://news.google.com/articles/CBMiU2h0dHBzOi8vZ2l6bW9kby5jb20vcmFiYml0LWNlby1kZWZlbmRzLTIwMC1haS1kb29oaWNrZXktc2F5cy1pdC1zLW5vdC1hbi0xODUxNDQ4NTE10gEA)\n",
      "2024-05-01 13:29:31,703 - AInewsbot - INFO - [38. Rabbit R1 AI Gadget Is Actually Just an Android App - Feedly AI](https://www.extremetech.com/computing/rabbit-r1-ai-gadget-is-actually-just-an-android-app)\n",
      "2024-05-01 13:29:31,704 - AInewsbot - INFO - [39. Rabbit R1 AI box revealed to just be an Android app - Ars Technica](https://arstechnica.com/gadgets/2024/05/rabbit-r1-ai-box-is-just-an-android-app-and-the-software-can-run-on-a-phone/)\n",
      "2024-05-01 13:29:31,704 - AInewsbot - INFO - [40. AI Priest Demoted After Saying It's OK to Baptize Babies in Gatorade - Google News](https://news.google.com/articles/CBMiZ2h0dHBzOi8vODAubHYvYXJ0aWNsZXMvYWktY2F0aG9saWMtcHJpZXN0LWRlbW90ZWQtYWZ0ZXItc2F5aW5nLWl0LXMtb2stdG8tYmFwdGl6ZS1iYWJpZXMtd2l0aC1nYXRvcmFkZS_SAQA)\n",
      "2024-05-01 13:29:31,704 - AInewsbot - INFO - [41. Cristiano Ronaldo inspires an AI Robot - Feedly AI](https://clutchpoints.com/cristiano-ronaldo-inspires-an-ai-robot)\n",
      "2024-05-01 13:29:31,705 - AInewsbot - INFO - [42. AI's had a tough week, judging by the Rabbit R1 and Humane AI pin - Feedly AI](https://flipboard.com/@techradar/ai-s-had-a-tough-week-judging-by-the-rabbit-r1-and-humane-ai-pin-jpo4c5cd1o039h3v)\n",
      "2024-05-01 13:29:31,706 - AInewsbot - INFO - [43. AI Takes a Bow: Interactive GLaDOS Robot Among 9 Winners in Hackster.io Challenge - Feedly AI](https://blogs.nvidia.com/blog/glados-robot-hackster/)\n",
      "2024-05-01 13:29:31,706 - AInewsbot - INFO - [44. FAMILY FORTUNES Creator of AI bot that can predict your DEATH with 78% accuracy issues warning over new threat to curious users - Feedly AI](https://www.the-sun.com/tech/11227763/ai-bot-predict-death-life2vec-copycat-warning/)\n",
      "2024-05-01 13:29:31,707 - AInewsbot - INFO - [45. Mysterious \"gpt2-chatbot\" AI model appears suddenly, confuses experts - Reddit](https://www.reddit.com/r/ChatGPT/comments/1chhnsk/mysterious_gpt2chatbot_ai_model_appears_suddenly/)\n",
      "2024-05-01 13:29:31,707 - AInewsbot - INFO - [46. Mystery Deepens as Super Powerful AI Appears, Then Disappears - Feedly AI](https://futurism.com/the-byte/mystery-powerful-ai-appears-then-disappears)\n",
      "2024-05-01 13:29:31,708 - AInewsbot - INFO - [47. FKA twigs creates deepfake of herself, calls for AI regulation - Feedly AI](https://me.mashable.com/life-1/41218/fka-twigs-creates-deepfake-of-herself-calls-for-ai-regulation)\n",
      "2024-05-01 13:29:31,708 - AInewsbot - INFO - [48. Why FKA twigs Has Created a Deepfake AI Version of Herself - Google News](https://news.google.com/articles/CBMiV2h0dHBzOi8vdGltZS5jb20vNjk3MzE4OC9ma2EtdHdpZ3MtZGVlcGZha2UtYWktaW1pdGF0aW9uLWludGVsbGVjdHVhbC1wcm9wZXJ0eS1oZWFyaW5nL9IBAA)\n",
      "2024-05-01 13:29:31,709 - AInewsbot - INFO - [49. Meet the Woman Who Showed President Biden ChatGPTand Helped Set the Course for AI - Google News](https://news.google.com/articles/CBMiTGh0dHBzOi8vd3d3LndpcmVkLmNvbS9zdG9yeS9hcmF0aS1wcmFiaGFrYXItb3N0cC1iaWRlbi1zY2llbmNlLXRlY2gtYWR2aXNlci_SAQA)\n",
      "2024-05-01 13:29:31,709 - AInewsbot - INFO - [50. Ukraine Unveils AI-generated Foreign Ministry Spokeswoman - Feedly AI](https://www.barrons.com/news/ukraine-unveils-ai-generated-foreign-ministry-spokeswoman-a3cdfdb6)\n",
      "2024-05-01 13:29:31,709 - AInewsbot - INFO - [51. SAG-AFTRA Members Ratify Sound Recordings Contract, Providing Key AI Guardrails - Feedly AI](https://www.billboard.com/business/business-news/sag-aftra-ratifies-sound-recordings-contract-ai-guardrails-1235670588/)\n",
      "2024-05-01 13:29:31,710 - AInewsbot - INFO - [52. Chicago Tribune, other major newspapers accuse artificial intelligence companies of stealing content - Google News](https://news.google.com/articles/CBMiggFodHRwczovL3d3dy5jYnNuZXdzLmNvbS9jaGljYWdvL25ld3MvY2hpY2Fnby10cmlidW5lLW90aGVyLW1ham9yLW5ld3NwYXBlcnMtYWNjdXNlZC1hcnRpZmljaWFsLWludGVsbGlnZW5jZS1jb21wYW5pZXMtb2Ytc3RlYWxpbmcv0gGGAWh0dHBzOi8vd3d3LmNic25ld3MuY29tL2FtcC9jaGljYWdvL25ld3MvY2hpY2Fnby10cmlidW5lLW90aGVyLW1ham9yLW5ld3NwYXBlcnMtYWNjdXNlZC1hcnRpZmljaWFsLWludGVsbGlnZW5jZS1jb21wYW5pZXMtb2Ytc3RlYWxpbmcv)\n",
      "2024-05-01 13:29:31,710 - AInewsbot - INFO - [53. Developers seethe as Google surfaces buggy AI-written code - Google News](https://news.google.com/articles/CBMiRWh0dHBzOi8vd3d3LnRoZXJlZ2lzdGVyLmNvbS8yMDI0LzA1LzAxL3B1bHVtaV9haV9wb2xsdXRpb25fb2Zfc2VhcmNoL9IBAA)\n",
      "2024-05-01 13:29:31,711 - AInewsbot - INFO - [54. Google says immigration rules are making it hard to hire top AI talent - Business Insider](https://www.businessinsider.com/google-requests-update-immigration-rules-hire-top-ai-talent-2024-5)\n",
      "2024-05-01 13:29:31,711 - AInewsbot - INFO - [55. Urgent Action Needed to Stop AI Developers From Destroying Artists Careers, Say British Lawmakers - Feedly AI](https://www.billboard.com/business/tech/uk-parliament-committee-ai-laws-protect-artists-artificial-intelligence-1235670687/)\n",
      "2024-05-01 13:29:31,711 - AInewsbot - INFO - [56. Can AI Create Better VFX? Check Out This AI-Assisted VFX Breakdown - Feedly AI](https://nofilmschool.com/ai-assisted-vfx-breakdown)\n",
      "2024-05-01 13:29:31,712 - AInewsbot - INFO - [57. Expectations vs. reality: A real-world check on generative AI - Google News](https://news.google.com/articles/CBMiZGh0dHBzOi8vd3d3LmNpby5jb20vYXJ0aWNsZS8yMDk2ODU3L2V4cGVjdGF0aW9ucy12cy1yZWFsaXR5LWEtcmVhbC13b3JsZC1jaGVjay1vbi1nZW5lcmF0aXZlLWFpLmh0bWzSAWRodHRwczovL3d3dy5jaW8uY29tL2FydGljbGUvMjA5Njg1Ny9leHBlY3RhdGlvbnMtdnMtcmVhbGl0eS1hLXJlYWwtd29ybGQtY2hlY2stb24tZ2VuZXJhdGl2ZS1haS5odG1s)\n",
      "2024-05-01 13:29:31,712 - AInewsbot - INFO - [58. Five Myths About Generative AI That Leaders Should Know - Google News](https://news.google.com/articles/CBMiZGh0dHBzOi8va25vd2xlZGdlLndoYXJ0b24udXBlbm4uZWR1L2FydGljbGUvZml2ZS1teXRocy1hYm91dC1nZW5lcmF0aXZlLWFpLXRoYXQtbGVhZGVycy1zaG91bGQta25vdy_SAQA)\n",
      "2024-05-01 13:29:31,712 - AInewsbot - INFO - [59. How generative AI unlocks creativity in all professions - Feedly AI](https://www.fastcompany.com/91111492/how-generative-ai-unlocks-creativity-in-all-professions)\n",
      "2024-05-01 13:29:31,712 - AInewsbot - INFO - [60. AI Chatbots Have Thoroughly Infiltrated Scientific Publishing - Google News](https://news.google.com/articles/CBMiZmh0dHBzOi8vd3d3LnNjaWVudGlmaWNhbWVyaWNhbi5jb20vYXJ0aWNsZS9jaGF0Ym90cy1oYXZlLXRob3JvdWdobHktaW5maWx0cmF0ZWQtc2NpZW50aWZpYy1wdWJsaXNoaW5nL9IBAA)\n",
      "2024-05-01 13:29:31,713 - AInewsbot - INFO - [61. New AI guidelines aim to help research librarians - Google News](https://news.google.com/articles/CBMid2h0dHBzOi8vd3d3Lmluc2lkZWhpZ2hlcmVkLmNvbS9uZXdzL3RlY2gtaW5ub3ZhdGlvbi9saWJyYXJpZXMvMjAyNC8wNS8wMS9uZXctYWktZ3VpZGVsaW5lcy1haW0taGVscC1yZXNlYXJjaC1saWJyYXJpYW5z0gEA)\n",
      "2024-05-01 13:29:31,713 - AInewsbot - INFO - [62. AI Use in Court Is Ethical When Used Correctly - Google News](https://news.google.com/articles/CBMiUWh0dHBzOi8vd3d3Lm5ld3N3ZWVrLmNvbS9haS11c2UtY291cnQtZXRoaWNhbC13aGVuLXVzZWQtY29ycmVjdGx5LW9waW5pb24tMTg5NDQyMdIBAA)\n",
      "2024-05-01 13:29:31,713 - AInewsbot - INFO - [63. Wake Up Call: GenAI Tools Becoming 'Key' for Big Law Litigators - Google News](https://news.google.com/articles/CBMicGh0dHBzOi8vbmV3cy5ibG9vbWJlcmdsYXcuY29tL2J1c2luZXNzLWFuZC1wcmFjdGljZS93YWtlLXVwLWNhbGwtZ2VuYWktdG9vbHMtYmVjb21pbmcta2V5LWZvci1iaWctbGF3LWxpdGlnYXRvcnPSAQA)\n",
      "2024-05-01 13:29:31,713 - AInewsbot - INFO - [64. 100% AI detection on assignment - Reddit](https://www.reddit.com/r/ChatGPT/comments/1chibau/100_ai_detection_on_assignment/)\n",
      "2024-05-01 13:29:31,713 - AInewsbot - INFO - [65. The Worst AI Nightmares Have Nothing To Do With Hallucinations - Google News](https://news.google.com/articles/CBMiX2h0dHBzOi8vYWJvdmV0aGVsYXcuY29tLzIwMjQvMDQvdGhlLXdvcnN0LWFpLW5pZ2h0bWFyZXMtaGF2ZS1ub3RoaW5nLXRvLWRvLXdpdGgtaGFsbHVjaW5hdGlvbnMv0gEA)\n",
      "2024-05-01 13:29:31,714 - AInewsbot - INFO - [66. AI and Home Security: What To Know - Feedly AI](https://money.com/ai-and-home-security-what-to-know/)\n",
      "2024-05-01 13:29:31,714 - AInewsbot - INFO - [67. Navigating Data Security Risks in the Age of Artificial Intelligence - HackerNoon](https://hackernoon.com/navigating-data-security-risks-in-the-age-of-artificial-intelligence)\n",
      "2024-05-01 13:29:31,714 - AInewsbot - INFO - [68. Atlassian debuts Rovo, an AI product giving businesses contextual search, insights, and the ability to add custom agents to handle tasks and complete projects - Techmeme](https://techcrunch.com/2024/05/01/atlassian-launches-rovo-its-new-ai-teammate/)\n",
      "2024-05-01 13:29:31,714 - AInewsbot - INFO - [69. Atlassian Rovo brings AI smarts to enterprise search - Google News](https://news.google.com/articles/CBMiZ2h0dHBzOi8vd3d3LmNvbXB1dGVyd29ybGQuY29tL2FydGljbGUvMjA5Njc5OS9hdGxhc3NpYW4tcm92by1icmluZ3MtYWktc21hcnRzLXRvLWVudGVycHJpc2Utc2VhcmNoLmh0bWzSAWxodHRwczovL3d3dy5jb21wdXRlcndvcmxkLmNvbS9hcnRpY2xlLzIwOTY3OTkvYXRsYXNzaWFuLXJvdm8tYnJpbmdzLWFpLXNtYXJ0cy10by1lbnRlcnByaXNlLXNlYXJjaC5odG1sL2FtcC8)\n",
      "2024-05-01 13:29:31,715 - AInewsbot - INFO - [70. Atlassian introduces Rovo, an AI-powered knowledge discovery tool for the enterprise - VentureBeat](https://venturebeat.com/ai/atlassian-introduces-rovo-an-ai-powered-knowledge-discovery-tool-for-the-enterprise/)\n",
      "2024-05-01 13:29:31,715 - AInewsbot - INFO - [71. Atlassian leans into AI with Rovo, a tool to turn data into actionand make chatbots with character - Feedly AI](https://www.fastcompany.com/91116628/atlassian-products-ai-rovo-software-tool)\n",
      "2024-05-01 13:29:31,715 - AInewsbot - INFO - [72. Atlassian launches Rovo, its new AI teammate - Google News](https://news.google.com/articles/CBMiTmh0dHBzOi8vdGVjaGNydW5jaC5jb20vMjAyNC8wNS8wMS9hdGxhc3NpYW4tbGF1bmNoZXMtcm92by1pdHMtbmV3LWFpLXRlYW1tYXRlL9IBUmh0dHBzOi8vdGVjaGNydW5jaC5jb20vMjAyNC8wNS8wMS9hdGxhc3NpYW4tbGF1bmNoZXMtcm92by1pdHMtbmV3LWFpLXRlYW1tYXRlL2FtcC8)\n",
      "2024-05-01 13:29:31,715 - AInewsbot - INFO - [73. Atlassian software launches AI tool Rovo for better collaboration - Google News](https://news.google.com/articles/CBMiTWh0dHBzOi8vd3d3LmZhc3Rjb21wYW55LmNvbS85MTExNjYyOC9hdGxhc3NpYW4tcHJvZHVjdHMtYWktcm92by1zb2Z0d2FyZS10b29s0gEA)\n",
      "2024-05-01 13:29:31,715 - AInewsbot - INFO - [74. Atlassian ups AI ante with Rovo collaborative tool - Google News](https://news.google.com/articles/CBMiXWh0dHBzOi8vd3d3Lm1hcmtldHdhdGNoLmNvbS9zdG9yeS9hdGxhc3NpYW4tdXBzLWFpLWFudGUtd2l0aC1yb3ZvLWNvbGxhYm9yYXRpdmUtdG9vbC0yMzUzODI3NNIBYWh0dHBzOi8vd3d3Lm1hcmtldHdhdGNoLmNvbS9hbXAvc3RvcnkvYXRsYXNzaWFuLXVwcy1haS1hbnRlLXdpdGgtcm92by1jb2xsYWJvcmF0aXZlLXRvb2wtMjM1MzgyNzQ)\n",
      "2024-05-01 13:29:31,716 - AInewsbot - INFO - [75. Dutch startup to bring robotic blood drawing to hospitals - Feedly AI](https://thenextweb.com/news/dutch-startup-robotic-blood-drawing-hospitals)\n",
      "2024-05-01 13:29:31,716 - AInewsbot - INFO - [76. Quest Diagnostics to add digital pathology lab, AI pathology center in Tennessee - Google News](https://news.google.com/articles/CBMiogFodHRwczovL3d3dy5sYWJwdWxzZS5jb20vZGlhZ25vc3RpYy10ZWNobm9sb2dpZXMvcGF0aG9sb2d5LWFuZC1haS9hcnRpY2xlLzE1NjY5ODczL3F1ZXN0LWRpYWdub3N0aWNzLXRvLWFkZC1kaWdpdGFsLXBhdGhvbG9neS1sYWItYWktcGF0aG9sb2d5LWNlbnRlci1pbi10ZW5uZXNzZWXSAQA)\n",
      "2024-05-01 13:29:31,716 - AInewsbot - INFO - [77. Quest Diagnostics carves out PathAI's digital pathology lab, plots AI ramp up - Google News](https://news.google.com/articles/CBMibmh0dHBzOi8vd3d3LmZpZXJjZWJpb3RlY2guY29tL21lZHRlY2gvcXVlc3QtZGlhZ25vc3RpY3MtY2FydmVzLW91dC1wYXRoYWlzLWRpZ2l0YWwtcGF0aG9sb2d5LWxhYi1wbG90cy1haS1yYW1w0gEA)\n",
      "2024-05-01 13:29:31,716 - AInewsbot - INFO - [78. Quest to acquire PathAI Diagnostics, accelerating AI and digital pathology adoption in cancer diagnosis - Google News](https://news.google.com/articles/CBMilAFodHRwczovL3d3dy5yb2ktbmouY29tLzIwMjQvMDUvMDEvaGVhbHRoY2FyZS9xdWVzdC10by1hY3F1aXJlLXBhdGhhaS1kaWFnbm9zdGljcy1hY2NlbGVyYXRpbmctYWktYW5kLWRpZ2l0YWwtcGF0aG9sb2d5LWFkb3B0aW9uLWluLWNhbmNlci1kaWFnbm9zaXMv0gEA)\n",
      "2024-05-01 13:29:31,717 - AInewsbot - INFO - [79. Ford platform will use artificial intelligence to train dealership employees - Google News](https://news.google.com/articles/CBMihQFodHRwczovL3d3dy5kZXRyb2l0bmV3cy5jb20vc3RvcnkvYnVzaW5lc3MvYXV0b3MvZm9yZC8yMDI0LzA1LzAxL2ZvcmQtcGxhdGZvcm0td2lsbC11c2UtYWktdG8tdHJhaW4tZGVhbGVyc2hpcC1lbXBsb3llZXMvNzM1MDU1MzcwMDcv0gEA)\n",
      "2024-05-01 13:29:31,717 - AInewsbot - INFO - [80. Ford Is Using Artificial Intelligence To Train Its Dealership Staff - Google News](https://news.google.com/articles/CBMiSWh0dHBzOi8vaW5zaWRlZXZzLmNvbS9uZXdzLzcxODA1Ny9mb3JkLXVuaXZlcnNpdHktYWktZGVhbGVyc2hpcC10cmFpbmluZy_SAU1odHRwczovL2luc2lkZWV2cy5jb20vbmV3cy83MTgwNTcvZm9yZC11bml2ZXJzaXR5LWFpLWRlYWxlcnNoaXAtdHJhaW5pbmcvYW1wLw)\n",
      "2024-05-01 13:29:31,717 - AInewsbot - INFO - [81. Ford to use AI for dealership employee training - Google News](https://news.google.com/articles/CBMiVmh0dHBzOi8vd3d3LmF1dG9uZXdzLmNvbS9hdXRvbWFrZXJzLXN1cHBsaWVycy9mb3JkLXVzZS1haS1kZWFsZXJzaGlwLWVtcGxveWVlLXRyYWluaW5n0gEA)\n",
      "2024-05-01 13:29:31,717 - AInewsbot - INFO - [82. AI tech that gets Sam's Club customers out the door faster will be in all locations soon - Feedly AI](https://www.usatoday.com/story/money/business/2024/05/01/sams-club-stores-ai-checks-receipts/73524210007/)\n",
      "2024-05-01 13:29:31,717 - AInewsbot - INFO - [83. Sam's Club rolls out AI tech at 120 stores to check member's receipts - Google News](https://news.google.com/articles/CBMiaWh0dHBzOi8vd3d3LnVzYXRvZGF5LmNvbS9zdG9yeS9tb25leS9idXNpbmVzcy8yMDI0LzA1LzAxL3NhbXMtY2x1Yi1zdG9yZXMtYWktY2hlY2tzLXJlY2VpcHRzLzczNTI0MjEwMDA3L9IBAA)\n",
      "2024-05-01 13:29:31,718 - AInewsbot - INFO - [84. Sams Club now using AI to check receipts at more than 120 stores. Heres how it works - Google News](https://news.google.com/articles/CBMimQFodHRwczovL3RoZWhpbGwuY29tL2NoYW5naW5nLWFtZXJpY2EvZW5yaWNobWVudC9hcnRzLWN1bHR1cmUvNDYzNDQ1OS1zYW1zLWNsdWItbm93LXVzaW5nLWFpLXRvLWNoZWNrLXJlY2VpcHRzLWF0LW1vcmUtdGhhbi0xMjAtc3RvcmVzLWhlcmVzLWhvdy1pdC13b3Jrcy_SAZ0BaHR0cHM6Ly90aGVoaWxsLmNvbS9jaGFuZ2luZy1hbWVyaWNhL2VucmljaG1lbnQvYXJ0cy1jdWx0dXJlLzQ2MzQ0NTktc2Ftcy1jbHViLW5vdy11c2luZy1haS10by1jaGVjay1yZWNlaXB0cy1hdC1tb3JlLXRoYW4tMTIwLXN0b3Jlcy1oZXJlcy1ob3ctaXQtd29ya3MvYW1wLw)\n",
      "2024-05-01 13:29:31,718 - AInewsbot - INFO - [85. Amazon Offers Its Q AI Assistant to Business Users - Google News](https://news.google.com/articles/CBMiVWh0dHBzOi8vd3d3LmluYy5jb20va2l0LWVhdG9uL2FtYXpvbi1vZmZlcnMtaXRzLXEtYWktYXNzaXN0YW50LXRvLWJ1c2luZXNzLXVzZXJzLmh0bWzSAQA)\n",
      "2024-05-01 13:29:31,718 - AInewsbot - INFO - [86. Amazon Q is now open to any workers looking to build an AI chatbot for work - Feedly AI](https://www.techradar.com/pro/amazon-q-is-now-open-to-any-workers-looking-to-build-an-ai-chatbot-for-work)\n",
      "2024-05-01 13:29:31,718 - AInewsbot - INFO - [87. Samsung on cloud nine after 933% Q1 profit jump, thanks to AI wave - Feedly AI](https://www.techspot.com/news/102815-samsung-electronics-cloud-nine-after-933-q1-profit.html)\n",
      "2024-05-01 13:29:31,718 - AInewsbot - INFO - [88. AI fuels cloud computing boom for tech giants - Google News](https://news.google.com/articles/CBMiZGh0dHBzOi8vd3d3Lm1zbi5jb20vZW4teGwvbW9uZXkvdG9wc3Rvcmllcy9haS1mdWVscy1jbG91ZC1jb21wdXRpbmctYm9vbS1mb3ItdGVjaC1naWFudHMvYXItQUExblg3YnXSAQA)\n",
      "2024-05-01 13:29:31,718 - AInewsbot - INFO - [89. Amazon's AI Focus Fuels Profit Surge, AWS Growth Reaccelerates - Feedly AI](https://www.techtimes.com/articles/304178/20240501/amazons-ai-focus-fuels-profit-surge-aws-growth-reaccelerates.htm)\n",
      "2024-05-01 13:29:31,719 - AInewsbot - INFO - [90. Amazon's AI growth story: Big Tech's race for AI dominance - Google News](https://news.google.com/articles/CBMiSmh0dHBzOi8vZmluYW5jZS55YWhvby5jb20vdmlkZW8vYW1hem9ucy1haS1ncm93dGgtc3RvcnktYmlnLTE1MzY0NTc5NC5odG1s0gEA)\n",
      "2024-05-01 13:29:31,719 - AInewsbot - INFO - [91. An Ivy League school just announced its first AI master's degree - Feedly AI](https://qz.com/ivy-league-university-of-pennsylvania-graduate-program-1851448496)\n",
      "2024-05-01 13:29:31,719 - AInewsbot - INFO - [92. Artificial intelligence starts a new chapter for geodata usage - Google News](https://news.google.com/articles/CBMicGh0dHBzOi8vd3d3LmdpbS1pbnRlcm5hdGlvbmFsLmNvbS9jb250ZW50L2FydGljbGUvYXJ0aWZpY2lhbC1pbnRlbGxpZ2VuY2Utc3RhcnRzLWEtbmV3LWNoYXB0ZXItZm9yLWdlb2RhdGEtdXNhZ2XSAQA)\n",
      "2024-05-01 13:29:31,719 - AInewsbot - INFO - [93. MongoDB launches 'one-stop shop' program for enterprises to build generative AI solutions - SiliconANGLE - Feedly AI](https://siliconangle.com/2024/05/01/mongodb-launches-one-stop-shop-program-enterprises-build-generative-ai-solutions/)\n",
      "2024-05-01 13:29:31,719 - AInewsbot - INFO - [94. Microsoft strikes AI-fuelled record-breaking green power deal with Brookfield - Google News](https://news.google.com/articles/CBMiiAFodHRwczovL3d3dy5yZWNoYXJnZW5ld3MuY29tL2VuZXJneS10cmFuc2l0aW9uL21pY3Jvc29mdC1zdHJpa2VzLWFpLWZ1ZWxsZWQtcmVjb3JkLWJyZWFraW5nLWdyZWVuLXBvd2VyLWRlYWwtd2l0aC1icm9va2ZpZWxkLzItMS0xNjM2NTMx0gEA)\n",
      "2024-05-01 13:29:31,719 - AInewsbot - INFO - [95. Franklin Templeton partners Microsoft to build advanced financial AI platform - Feedly AI](https://www.fintechfutures.com/2024/05/franklin-templeton-partners-microsoft-to-build-advanced-financial-ai-platform/)\n",
      "2024-05-01 13:29:31,720 - AInewsbot - INFO - [96. Microsoft taps Sanctuary AI for general-purpose robot research - Feedly AI](https://techcrunch.com/2024/05/01/microsoft-taps-sanctuary-ai-for-general-purpose-robot-research/)\n",
      "2024-05-01 13:29:31,720 - AInewsbot - INFO - [97. Microsoft's CEO Adds AI for Thailand on Southeast Asia Tour - Google News](https://news.google.com/articles/CBMicmh0dHBzOi8vd3d3LmJsb29tYmVyZy5jb20vbmV3cy9hcnRpY2xlcy8yMDI0LTA1LTAxL21pY3Jvc29mdC1zLW5hZGVsbGEtYWRkcy1haS1mb3ItdGhhaWxhbmQtb24tc291dGhlYXN0LWFzaWEtdG91ctIBAA)\n",
      "2024-05-01 13:29:31,720 - AInewsbot - INFO - [98. Next-gen AI PCs are within reach, as ASUS joins Microsoft and Qualcomm to unveil a new Snapdragon X laptop on May 20 - Feedly AI](https://www.windowscentral.com/hardware/laptops/next-gen-ai-pcs-are-within-reach-as-asus-joins-microsoft-and-qualcomm-to-unveil-a-new-snapdragon-x-laptop-on-may-20)\n",
      "2024-05-01 13:29:31,720 - AInewsbot - INFO - [99. AI predicts SHIB price for May 31, 2024 - Feedly AI](https://finbold.com/ai-predicts-shib-price-for-may-31-2024/)\n",
      "2024-05-01 13:29:31,720 - AInewsbot - INFO - [100. Bank of England sets 'resiliency' deadline, Ant adds AI to Alipay - Feedly AI](https://www.americanbanker.com/payments/list/bank-of-england-sets-resiliency-deadline-ant-adds-ai-to-alipay)\n",
      "2024-05-01 13:29:31,721 - AInewsbot - INFO - [101. Blockchain Sleuth Elliptic Explores AI and Anti-Money Laundering Using 200M Bitcoin Transactions - Google News](https://news.google.com/articles/CBMiigFodHRwczovL3d3dy5jb2luZGVzay5jb20vdGVjaC8yMDI0LzA1LzAxL2Jsb2NrY2hhaW4tc2xldXRoLWVsbGlwdGljLWV4cGxvcmVzLWFpLWFuZC1hbnRpLW1vbmV5LWxhdW5kZXJpbmctdXNpbmctMjAwbS1iaXRjb2luLXRyYW5zYWN0aW9ucy_SAY4BaHR0cHM6Ly93d3cuY29pbmRlc2suY29tL3RlY2gvMjAyNC8wNS8wMS9ibG9ja2NoYWluLXNsZXV0aC1lbGxpcHRpYy1leHBsb3Jlcy1haS1hbmQtYW50aS1tb25leS1sYXVuZGVyaW5nLXVzaW5nLTIwMG0tYml0Y29pbi10cmFuc2FjdGlvbnMvYW1wLw)\n",
      "2024-05-01 13:29:31,721 - AInewsbot - INFO - [102. New AI technique detects money laundering via cryptocurrencies - Feedly AI](https://thenextweb.com/news/ai-detects-money-laundering-through-cryptocurrencies-on-bitcoin-blockchain)\n",
      "2024-05-01 13:29:31,721 - AInewsbot - INFO - [103. Google supercharges Chrome's omnibox address bar with machine learning - Feedly AI](https://www.techspot.com/news/102810-google-supercharges-chrome-omnibox-address-bar-machine-learning.html)\n",
      "2024-05-01 13:29:31,721 - AInewsbot - INFO - [104. Apple's Safari browser will get an AI makeover this year - Google News](https://news.google.com/articles/CBMiX2h0dHBzOi8vd3d3LmdzbWFyZW5hLmNvbS9hcHBsZXNfc2FmYXJpX2Jyb3dzZXJfd2lsbF9nZXRfYW5fYWlfbWFrZW92ZXJfdGhpc195ZWFyLW5ld3MtNjI2NjgucGhw0gEA)\n",
      "2024-05-01 13:29:31,721 - AInewsbot - INFO - [105. Apple's iOS 18 could copy some AI features from One UI 6.1 - Google News](https://news.google.com/articles/CBMiSGh0dHBzOi8vd3d3LnNhbW1vYmlsZS5jb20vbmV3cy9hcHBsZS1pb3MtMTgtY29weS1haS1mZWF0dXJlcy1vbmUtdWktNi0xL9IBAA)\n",
      "2024-05-01 13:29:31,722 - AInewsbot - INFO - [106. 6 ways to use AI for paid search account restructuring - Google News](https://news.google.com/articles/CBMiSGh0dHBzOi8vc2VhcmNoZW5naW5lbGFuZC5jb20vYWktcGFpZC1zZWFyY2gtYWNjb3VudC1yZXN0cnVjdHVyaW5nLTQ0MDA1MNIBAA)\n",
      "2024-05-01 13:29:31,722 - AInewsbot - INFO - [107. Exclusive: New AI-powered Iterable features help brands cut through the noise - Feedly AI](https://venturebeat.com/ai/exclusive-new-ai-powered-iterable-features-help-brands-cut-through-the-noise/)\n",
      "2024-05-01 13:29:31,722 - AInewsbot - INFO - [108. Lattice launches new AI features for performance management and employee surveying - Feedly AI](https://www.hr-brew.com/stories/2024/05/01/lattice-launches-new-ai-features-for-performance-management-and-employee-surveying)\n",
      "2024-05-01 13:29:31,722 - AInewsbot - INFO - [109. AI voice analysis gives suicide hotline workers an emotional dashboard - Feedly AI](https://newatlas.com/technology/ai-emotion-speech-suicide-prevention/)\n",
      "2024-05-01 13:29:31,722 - AInewsbot - INFO - [110. Show HN: I built this AI supported career product, so you don t get rejected - Feedly AI](https://interviewtraininggermany.com/course/transformative-action-process)\n",
      "2024-05-01 13:29:31,722 - AInewsbot - INFO - [111. Yelp launches new AI assistant for finding the right pros. Here's how to access it. - Google News](https://news.google.com/articles/CBMiPGh0dHBzOi8vbWFzaGFibGUuY29tL2FydGljbGUveWVscC1haS1hc3Npc3RhbnQtcHJvZmVzc2lvbmFsc9IBAA)\n"
     ]
    }
   ],
   "source": [
    "html_str = \"\"\n",
    "for row in AIdf.itertuples():\n",
    "    log(f\"[{row.Index}. {row.title} - {row.src}]({row.url})\")\n",
    "    html_str += f'{row.Index}.<a href=\"{row.url}\">{row.title} - {row.src}</a><br />\\n'\n"
   ]
  },
  {
   "cell_type": "code",
   "execution_count": 32,
   "id": "c65cf9ed-62c1-46b2-b105-8495cbc83d23",
   "metadata": {},
   "outputs": [
    {
     "name": "stderr",
     "output_type": "stream",
     "text": [
      "2024-05-01 13:29:32,688 - AInewsbot - INFO - Sending mail\n",
      "2024-05-01 13:29:34,000 - AInewsbot - INFO - Finished\n"
     ]
    },
    {
     "data": {
      "text/plain": [
       "20"
      ]
     },
     "execution_count": 32,
     "metadata": {},
     "output_type": "execute_result"
    }
   ],
   "source": [
    "log(\"Sending mail\")\n",
    "from_addr = os.getenv(\"GMAIL_USER\")\n",
    "to_addr = os.getenv(\"GMAIL_USER\")\n",
    "subject = 'AI news ' + datetime.now().strftime('%H:%M:%S')\n",
    "body = f\"\"\"\n",
    "<html>\n",
    "    <head></head>\n",
    "    <body>\n",
    "    <div>\n",
    "    {html_str}\n",
    "    </div>\n",
    "    </body>\n",
    "</html>\n",
    "\"\"\"\n",
    "\n",
    "# Setup the MIME\n",
    "message = MIMEMultipart()\n",
    "message['From'] = os.getenv(\"GMAIL_USER\")\n",
    "message['To'] = os.getenv(\"GMAIL_USER\")\n",
    "message['Subject'] = subject\n",
    "message.attach(MIMEText(body, 'html'))\n",
    "\n",
    "# Create SMTP session\n",
    "with smtplib.SMTP('smtp.gmail.com', 587) as server:\n",
    "    server.starttls()  # Secure the connection\n",
    "    server.login(os.getenv(\"GMAIL_USER\"), os.getenv(\"GMAIL_PASSWORD\"))\n",
    "    text = message.as_string()\n",
    "    server.sendmail(from_addr, to_addr, text)\n",
    "\n",
    "log(\"Finished\")\n"
   ]
  },
  {
   "cell_type": "code",
   "execution_count": null,
   "id": "0a235b47-a89e-4a94-a4c7-bf36eadaad9b",
   "metadata": {},
   "outputs": [],
   "source": []
  }
 ],
 "metadata": {
  "kernelspec": {
   "display_name": "ainewsbot",
   "language": "python",
   "name": "ainewsbot"
  },
  "language_info": {
   "codemirror_mode": {
    "name": "ipython",
    "version": 3
   },
   "file_extension": ".py",
   "mimetype": "text/x-python",
   "name": "python",
   "nbconvert_exporter": "python",
   "pygments_lexer": "ipython3",
   "version": "3.9.19"
  }
 },
 "nbformat": 4,
 "nbformat_minor": 5
}
