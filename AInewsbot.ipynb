{
 "cells": [
  {
   "cell_type": "markdown",
   "id": "2f4d6d88-0f37-4edb-a226-244a287823a6",
   "metadata": {},
   "source": [
    "AInewsbot.ipynb\n",
    "\n",
    "- Open URLs of news sites specififed in `sources` dict using Selenium and Firefox\n",
    "- Save HTML of each URL in htmldata directory\n",
    "- Extract URLs from all files, create a pandas dataframe with url, title, src\n",
    "- Use ChatGPT to filter only AI-related headlines by sending a prompt and formatted table of headlines\n",
    "- Use SQLite to filter headlines previously seen \n",
    "- OPENAI_API_KEY should be in the environment or in a .env file\n",
    "  \n",
    "Alternative manual workflow to get HTML files if necessary\n",
    "- Use Chrome, open e.g. Tech News bookmark folder, right-click and open all bookmarks in new window\n",
    "- on Google News, make sure switch to AI tab\n",
    "- on Google News, Feedly, Reddit, scroll to additional pages as desired\n",
    "- Use SingleFile extension, 'save all tabs'\n",
    "- Move files to htmldata directory\n",
    "- Run lower part of notebook to process the data\n"
   ]
  },
  {
   "cell_type": "code",
   "execution_count": 1,
   "id": "0c757ee9-8f4e-4f95-a491-bfac533755bd",
   "metadata": {
    "tags": []
   },
   "outputs": [
    {
     "name": "stdout",
     "output_type": "stream",
     "text": [
      "openai          1.14.2\n",
      "requests        2.31.0\n",
      "BeautifulSoup   4.12.3\n"
     ]
    }
   ],
   "source": [
    "import json\n",
    "import os\n",
    "import re\n",
    "from datetime import datetime, timedelta\n",
    "from urllib.parse import urlparse\n",
    "import time\n",
    "\n",
    "from selenium import webdriver\n",
    "from selenium.webdriver.common.by import By\n",
    "from selenium.webdriver.common.keys import Keys\n",
    "from selenium.webdriver.support.ui import WebDriverWait\n",
    "from selenium.webdriver.support import expected_conditions as EC\n",
    "# use firefox because it updates less often, can disable updates\n",
    "# recommend importing profile from Chrome for cookies, passwords\n",
    "# looks less like a bot with more user cruft in the profile\n",
    "from selenium.webdriver.firefox.options import Options\n",
    "from selenium.webdriver.firefox.service import Service\n",
    "\n",
    "import bs4\n",
    "from bs4 import BeautifulSoup\n",
    "import requests\n",
    "from urllib.parse import urljoin\n",
    "\n",
    "import openai\n",
    "from openai import OpenAI\n",
    "import tiktoken\n",
    "\n",
    "import dotenv\n",
    "import pandas as pd\n",
    "import sqlite3\n",
    "\n",
    "import IPython\n",
    "from IPython.display import HTML, Markdown, display\n",
    "\n",
    "from atproto import Client\n",
    "\n",
    "import PIL\n",
    "from PIL import Image\n",
    "\n",
    "print(f\"openai          {openai.__version__}\")\n",
    "print(f\"requests        {requests.__version__}\")\n",
    "print(f\"BeautifulSoup   {bs4.__version__}\")"
   ]
  },
  {
   "cell_type": "code",
   "execution_count": null,
   "id": "04ae6f86-e878-4f3d-9e1f-0bb9fad3ea81",
   "metadata": {},
   "outputs": [],
   "source": [
    "print(datetime.now())"
   ]
  },
  {
   "cell_type": "code",
   "execution_count": 2,
   "id": "55023e78-e796-4e69-9cad-b5f039c75a85",
   "metadata": {},
   "outputs": [],
   "source": [
    "# load credentials if necessary\n",
    "dotenv.load_dotenv()\n",
    "client = OpenAI()"
   ]
  },
  {
   "cell_type": "code",
   "execution_count": 3,
   "id": "a85ffe86",
   "metadata": {},
   "outputs": [],
   "source": [
    "# delete files in output directory\n",
    "download_dir = \"htmldata\"\n",
    "\n",
    "def delete_files(outputdir):\n",
    "\n",
    "    # Iterate over all files in the directory\n",
    "    for filename in os.listdir(outputdir):\n",
    "        if filename.startswith('.'):\n",
    "            continue\n",
    "        file_path = os.path.join(outputdir, filename)\n",
    "        try:\n",
    "            if os.path.isfile(file_path) or os.path.islink(file_path):\n",
    "                os.remove(file_path)  # Remove the file\n",
    "            elif os.path.isdir(file_path):\n",
    "                # If you want to remove subdirectories as well, use os.rmdir() here\n",
    "                pass\n",
    "        except Exception as e:\n",
    "            print(f'Failed to delete {file_path}. Reason: {e}')\n",
    "\n",
    "\n",
    "delete_files(download_dir)"
   ]
  },
  {
   "cell_type": "markdown",
   "id": "3e57c1b2-b4bb-4a24-94ec-b0f17cd70d5d",
   "metadata": {},
   "source": [
    "# Specify sources"
   ]
  },
  {
   "cell_type": "code",
   "execution_count": 4,
   "id": "74d1c10f",
   "metadata": {},
   "outputs": [],
   "source": [
    "sources = {\n",
    "    # \"Twitter\": {\n",
    "    #     \"title\": \"@TheLinkfest_AI _ X\",\n",
    "    #     \"include\": [\"^https://twitter.com/(\\w+)/status/(\\d+)$\"],\n",
    "    # },\n",
    "    \"Reddit\": {\n",
    "        \"title\": \"top scoring links _ multi\",\n",
    "        \"url\": \"https://www.reddit.com/r/ChatGPT+ChatGPTCoding+MacOS+MachineLearning+OpenAI+ProgrammerHumor+Windows10+battlestations+buildapc+cordcutters+dataisbeautiful+gadgets+hardware+linux+msp+programming+realtech+software+talesfromtechsupport+tech+technews+technology+techsupportgore+windows/top/?sort=top&t=day\",\n",
    "        \"scroll\": 2,\n",
    "        \"exclude\": [\n",
    "            \"^https://www.reddit.com/\",\n",
    "            \"^https://chat.reddit.com/\",\n",
    "            \"^https://i.redd.it/\",\n",
    "            \"^https://redditblog.com/\",\n",
    "            \"^https://www.redditinc.com/\",\n",
    "            \"^https://www.reddithelp.com/\",\n",
    "            \"^https://itunes.apple.com/\",\n",
    "            \"^https://play.google.com/\",\n",
    "        ],\n",
    "    },\n",
    "    \"Hacker News\": {\n",
    "        \"title\": \"Hacker News Page 1\",\n",
    "        \"url\": \"https://news.ycombinator.com/\",\n",
    "        \"exclude\": [\n",
    "            \"https://news.ycombinator.com/\",\n",
    "            \"https://www.ycombinator.com/\",\n",
    "        ],\n",
    "    },\n",
    "    \"Hacker News 2\": {\n",
    "        \"title\": \"Hacker News Page 2\",\n",
    "        \"url\": \"https://news.ycombinator.com/?p=2\",\n",
    "        \"exclude\": [\n",
    "            \"https://news.ycombinator.com/\",\n",
    "            \"https://www.ycombinator.com/\",\n",
    "        ],\n",
    "    },\n",
    "    \"Techmeme\": {\n",
    "        \"title\": \"Techmeme\",\n",
    "        \"url\": \"https://www.techmeme.com/river\",\n",
    "        \"exclude\": [\n",
    "            \"^https://www.techmeme.com\",\n",
    "            \"^https://twitter.com/\",\n",
    "            \"^https://www.threads.net\",\n",
    "            \"^https://www.linkedin.com\",\n",
    "            \"^https://mastodon.social\",\n",
    "            \"^https://bsky.app\",\n",
    "        ],\n",
    "    },\n",
    "    \"Feedly AI\": {\n",
    "        \"title\": \"Discover and Add New Feedly AI Feeds\",\n",
    "        \"url\": \"https://feedly.com/i/aiFeeds?options=eyJsYXllcnMiOlt7InBhcnRzIjpbeyJpZCI6Im5scC9mL3RvcGljLzMwMDAifV0sInNlYXJjaEhpbnQiOiJ0ZWNobm9sb2d5IiwidHlwZSI6Im1hdGNoZXMiLCJzYWxpZW5jZSI6ImFib3V0In1dLCJidW5kbGVzIjpbeyJ0eXBlIjoic3RyZWFtIiwiaWQiOiJ1c2VyLzYyZWViYjlmLTcxNTEtNGY5YS1hOGM3LTlhNTdiODIwNTMwOC9jYXRlZ29yeS9HYWRnZXRzIn1dfQ\",\n",
    "        \"scroll\": 2,\n",
    "    },\n",
    "    \"NYT Tech\": {\n",
    "        \"title\": \"Technology - The New York Times\",\n",
    "        \"url\": \"https://www.nytimes.com/section/technology\",\n",
    "        \"include\": [\"^https://www.nytimes.com/(\\d+)/(\\d+)/(\\d+)(.*).html$\"],\n",
    "    },\n",
    "    \"WSJ Tech\": {\n",
    "        \"title\": \"Technology - WSJ.com\",\n",
    "        \"url\": \"https://www.wsj.com/tech\",\n",
    "        \"include\": [\"^https://www.wsj.com/articles/\"],\n",
    "    },\n",
    "    \"Bloomberg Tech\": {\n",
    "        \"title\": \"Bloomberg Technology - Bloomberg\",\n",
    "        \"url\": \"https://www.bloomberg.com/technology\",\n",
    "        \"include\": [\"^https://www.bloomberg.com/news/(\\w+)/(\\d+)-(\\d+)-(\\d+)\"],\n",
    "    },\n",
    "    \"FT Tech\": {\n",
    "        \"title\": \"Technology\",\n",
    "        \"url\": \"https://www.ft.com/technology\",\n",
    "        \"include\": [\"https://www.ft.com/content/\"]\n",
    "    },\n",
    "    \"WaPo Tech\": {\n",
    "        \"title\": \"Technology - The Washington Post\",\n",
    "        \"url\": \"https://www.washingtonpost.com/business/technology/\",\n",
    "        \"include\": [\"https://www.washingtonpost.com/(\\w+)/(\\d+)/(\\d+)/(\\d+)/\"],\n",
    "    },\n",
    "    \"Google News\": {\n",
    "        \"title\": \"Google News - Technology - Artificial intelligence\",\n",
    "        \"url\": \"https://news.google.com/topics/CAAqJggKIiBDQkFTRWdvSUwyMHZNRGRqTVhZU0FtVnVHZ0pWVXlnQVAB?hl=en-US&gl=US&ceid=US%3Aen\",\n",
    "        \"scroll\": 2,\n",
    "        \"click\" : '//*[@aria-label=\"Artificial intelligence\"]',\n",
    "        \"include\": [\"^https://news.google.com/articles/\"],\n",
    "    },\n",
    "    \"HackerNoon\": {\n",
    "        \"title\": \"HackerNoon - read, write and learn about any technology\",\n",
    "        \"url\": \"https://hackernoon.com/\",\n",
    "        \"include\": [\"^https://hackernoon.com/([^/])*$\"],\n",
    "        \"exclude\": [\n",
    "            \"^https://hackernoon.com/$\",\n",
    "            \"^https://hackernoon.com/c$\",\n",
    "            \"^https://hackernoon.com/coins$\",\n",
    "            \"^https://hackernoon.com/companies$\",\n",
    "            \"^https://hackernoon.com/gallery$\",\n",
    "            \"^https://hackernoon.com/how-to-gain-followers-and-newsletter-subs-directly-on-hackernoon$\",\n",
    "            \"^https://hackernoon.com/login$\",\n",
    "            \"^https://hackernoon.com/reader-boot$\",\n",
    "            \"^https://hackernoon.com/sitemap.xml$\",\n",
    "            \"^https://hackernoon.com/startups$\",\n",
    "            \"^https://hackernoon.com/techbeat$\",\n",
    "            \"^https://hackernoon.com/why-i-write-on-hacker-noon-nl28335q$\",\n",
    "            \"^https://hackernoon.com/writer-signup$\",\n",
    "        ],\n",
    "    },\n",
    "    \"Ars Technica\": {\n",
    "        \"title\": \"Ars Technica\",\n",
    "        \"url\": \"https://arstechnica.com/\",\n",
    "        \"include\": [\"^https://arstechnica.com/gadgets/(\\d+)/(\\d+)/\"],\n",
    "    },\n",
    "    \"The Register\": {\n",
    "        \"title\": \"The Register_ Enterprise Technology News and Analysis\",\n",
    "        \"url\": \"https://www.theregister.com/\",\n",
    "        \"include\": [\"^https://www.theregister.com/(\\d+)/(\\d+)/(\\d+)/\"],\n",
    "    },\n",
    "    \"Business Insider\": {\n",
    "        \"title\": \"Tech - Business Insider\",\n",
    "        \"url\": \"https://www.businessinsider.com/tech\",\n",
    "        \"exclude\": [\"^https://www.insider.com\", \"^https://www.passionfroot.me\"],\n",
    "    },\n",
    "}\n",
    "\n",
    "sources_reverse = {v[\"title\"]: k for k, v in sources.items()}\n"
   ]
  },
  {
   "cell_type": "markdown",
   "id": "79825fdb-7f01-4a35-bd6d-7a00f5d7d752",
   "metadata": {},
   "source": [
    "# Download HTML files from sources"
   ]
  },
  {
   "cell_type": "code",
   "execution_count": 5,
   "id": "5c9a3f1a",
   "metadata": {},
   "outputs": [
    {
     "name": "stdout",
     "output_type": "stream",
     "text": [
      "07:43:43 Starting\n",
      "07:44:15 Initialized profile\n",
      "07:44:15 Initialized service\n",
      "07:45:33 Initialized webdriver\n",
      "07:45:33 Processing Reddit\n",
      "07:45:48 Loading additional infinite scroll items\n",
      "07:45:58 Loading additional infinite scroll items\n",
      "07:46:08 Saving top scoring links _ multi (03_25_2024 07_46_08 AM).html as utf-8\n",
      "07:46:08 Processing Hacker News\n",
      "07:46:20 Saving Hacker News Page 1 (03_25_2024 07_46_20 AM).html as utf-8\n",
      "07:46:20 Processing Hacker News 2\n",
      "07:46:30 Saving Hacker News Page 2 (03_25_2024 07_46_30 AM).html as utf-8\n",
      "07:46:30 Processing Techmeme\n",
      "07:46:42 Saving Techmeme (03_25_2024 07_46_42 AM).html as utf-8\n",
      "07:46:42 Processing Feedly AI\n",
      "07:46:53 Loading additional infinite scroll items\n",
      "07:47:03 Loading additional infinite scroll items\n",
      "07:47:13 Saving Discover and Add New Feedly AI Feeds (03_25_2024 07_47_13 AM).html as utf-8\n",
      "07:47:13 Processing NYT Tech\n",
      "07:47:25 Saving Technology - The New York Times (03_25_2024 07_47_25 AM).html as utf-8\n",
      "07:47:25 Processing WSJ Tech\n",
      "07:47:36 Saving Technology - WSJ.com (03_25_2024 07_47_36 AM).html as utf-8\n",
      "07:47:36 Processing Bloomberg Tech\n",
      "07:47:48 Saving Bloomberg Technology - Bloomberg (03_25_2024 07_47_48 AM).html as utf-8\n",
      "07:47:48 Processing FT Tech\n",
      "07:47:59 Saving Technology (03_25_2024 07_47_59 AM).html as utf-8\n",
      "07:47:59 Processing WaPo Tech\n",
      "07:48:11 Saving Technology - The Washington Post (03_25_2024 07_48_11 AM).html as utf-8\n",
      "07:48:11 Processing Google News\n",
      "07:48:23 Clicking on //*[@aria-label=\"Artificial intelligence\"]\n",
      "07:48:23 Clicked\n",
      "07:48:23 Loading additional infinite scroll items\n",
      "07:48:33 Loading additional infinite scroll items\n",
      "07:48:43 Saving Google News - Technology - Artificial intelligence (03_25_2024 07_48_43 AM).html as utf-8\n",
      "07:48:43 Processing HackerNoon\n",
      "07:48:55 Saving HackerNoon - read, write and learn about any technology (03_25_2024 07_48_55 AM).html as utf-8\n",
      "07:48:55 Processing Ars Technica\n",
      "07:49:09 Saving Ars Technica (03_25_2024 07_49_09 AM).html as utf-8\n",
      "07:49:09 Processing The Register\n",
      "07:49:19 Saving The Register_ Enterprise Technology News and Analysis (03_25_2024 07_49_19 AM).html as utf-8\n",
      "07:49:19 Processing Business Insider\n",
      "07:49:30 Saving Tech - Business Insider (03_25_2024 07_49_30 AM).html as utf-8\n",
      "07:49:36 Quit webdriver\n"
     ]
    }
   ],
   "source": [
    "# download files via selenium and firefox\n",
    "outputdir = \"htmldata\"\n",
    "delete_files(outputdir)\n",
    "\n",
    "# Print the formatted time\n",
    "print(datetime.now().strftime('%H:%M:%S'), \"Starting\", flush=True)\n",
    "\n",
    "firefox_app_path = '/Applications/Firefox.app'\n",
    "# Path to your geckodriver\n",
    "geckodriver_path = '/Users/drucev/webdrivers/geckodriver'\n",
    "\n",
    "# Set up Firefox options to use your existing profile\n",
    "# important for some sites that need a login, also a generic profile fingerprint that looks like a bot might get blocked\n",
    "firefox_profile_path = '/Users/drucev/Library/Application Support/Firefox/Profiles/k8k0lcjj.default-release'\n",
    "options = Options()\n",
    "options.profile = firefox_profile_path\n",
    "\n",
    "print(datetime.now().strftime('%H:%M:%S'), \"Initialized profile\", flush=True)\n",
    "\n",
    "# Create a Service object with the path\n",
    "service = Service(geckodriver_path)\n",
    "\n",
    "print(datetime.now().strftime('%H:%M:%S'), \"Initialized service\", flush=True)\n",
    "# Set up the Firefox driver\n",
    "driver = webdriver.Firefox(service=service, options=options)\n",
    "\n",
    "print(datetime.now().strftime('%H:%M:%S'), \"Initialized webdriver\", flush=True)\n",
    "sleeptime = 10\n",
    "\n",
    "for sourcename, sourcedict in sources.items():\n",
    "    print(datetime.now().strftime('%H:%M:%S'), f'Processing {sourcename}', flush=True)\n",
    "    title = sourcedict[\"title\"]\n",
    "    url = sourcedict[\"url\"]\n",
    "    scroll = sourcedict.get(\"scroll\", 0)\n",
    "    click = sourcedict.get(\"click\")\n",
    "\n",
    "    # Open the page\n",
    "    driver.get(url)\n",
    "\n",
    "    # Wait for the page to load\n",
    "    time.sleep(sleeptime)  # Adjust the sleep time as necessary\n",
    "\n",
    "    if click:\n",
    "        print(datetime.now().strftime('%H:%M:%S'), f\"Clicking on {click}\", flush=True)\n",
    "        button = driver.find_element(By.XPATH, click)\n",
    "        if button:\n",
    "            button.click()\n",
    "            print(datetime.now().strftime('%H:%M:%S'), f\"Clicked\", flush=True)\n",
    "\n",
    "    for _ in range(scroll):\n",
    "        # scroll to bottom of infinite scrolling window\n",
    "        driver.execute_script(\"window.scrollTo(0, document.body.scrollHeight);\")\n",
    "        print(datetime.now().strftime('%H:%M:%S'), \"Loading additional infinite scroll items\", flush=True)\n",
    "        time.sleep(sleeptime) # wait for it to load additional items\n",
    "\n",
    "    # Get the HTML source of the page\n",
    "    html_source = driver.page_source\n",
    "\n",
    "    # check encoding, default utf-8\n",
    "    encoding = \"utf-8\"  # Default to UTF-8 if not specified\n",
    "    # Retrieve the content-type meta tag from the HTML\n",
    "    try:\n",
    "        meta_tag = driver.find_element(By.XPATH, \"//meta[@http-equiv='Content-Type']\")\n",
    "        content_type = meta_tag.get_attribute(\"content\")\n",
    "        # Typical format is \"text/html; charset=UTF-8\"\n",
    "        charset_start = content_type.find(\"charset=\")\n",
    "        if charset_start != -1:\n",
    "            encoding = content_type[charset_start + 8:]\n",
    "    except Exception as err:\n",
    "        pass\n",
    "\n",
    "    # Save the HTML to a local file\n",
    "    datestr = datetime.now().strftime(\"%m_%d_%Y %I_%M_%S %p\")\n",
    "    outfile = f'{title} ({datestr}).html'\n",
    "    print(datetime.now().strftime('%H:%M:%S'), f\"Saving {outfile} as {encoding}\", flush=True)\n",
    "    with open(outputdir + \"/\" + outfile, 'w', encoding=encoding) as file:\n",
    "        file.write(html_source)\n",
    "\n",
    "# Close the browser\n",
    "driver.quit()\n",
    "print(datetime.now().strftime('%H:%M:%S'), \"Quit webdriver\", flush=True)\n"
   ]
  },
  {
   "cell_type": "code",
   "execution_count": 6,
   "id": "592b5714",
   "metadata": {},
   "outputs": [
    {
     "data": {
      "text/plain": [
       "['htmldata/HackerNoon - read, write and learn about any technology (03_25_2024 07_48_55 AM).html',\n",
       " 'htmldata/Technology - WSJ.com (03_25_2024 07_47_36 AM).html',\n",
       " 'htmldata/Tech - Business Insider (03_25_2024 07_49_30 AM).html',\n",
       " 'htmldata/top scoring links _ multi (03_25_2024 07_46_08 AM).html',\n",
       " 'htmldata/Techmeme (03_25_2024 07_46_42 AM).html',\n",
       " 'htmldata/The Register_ Enterprise Technology News and Analysis (03_25_2024 07_49_19 AM).html',\n",
       " 'htmldata/Technology - The New York Times (03_25_2024 07_47_25 AM).html',\n",
       " 'htmldata/.gitkeep',\n",
       " 'htmldata/Google News - Technology - Artificial intelligence (03_25_2024 07_48_43 AM).html',\n",
       " 'htmldata/Hacker News Page 1 (03_25_2024 07_46_20 AM).html',\n",
       " 'htmldata/Technology - The Washington Post (03_25_2024 07_48_11 AM).html',\n",
       " 'htmldata/Bloomberg Technology - Bloomberg (03_25_2024 07_47_48 AM).html',\n",
       " 'htmldata/Discover and Add New Feedly AI Feeds (03_25_2024 07_47_13 AM).html',\n",
       " 'htmldata/Ars Technica (03_25_2024 07_49_09 AM).html',\n",
       " 'htmldata/Hacker News Page 2 (03_25_2024 07_46_30 AM).html',\n",
       " 'htmldata/Technology (03_25_2024 07_47_59 AM).html']"
      ]
     },
     "execution_count": 6,
     "metadata": {},
     "output_type": "execute_result"
    }
   ],
   "source": [
    "[os.path.join(download_dir, file) for file in os.listdir(download_dir)]"
   ]
  },
  {
   "cell_type": "code",
   "execution_count": 7,
   "id": "94633373-b719-48bc-9c4e-eb4ccbe6ad91",
   "metadata": {
    "tags": []
   },
   "outputs": [
    {
     "name": "stdout",
     "output_type": "stream",
     "text": [
      "15\n",
      "htmldata/Tech - Business Insider (03_25_2024 07_49_30 AM).html\n",
      "htmldata/The Register_ Enterprise Technology News and Analysis (03_25_2024 07_49_19 AM).html\n",
      "htmldata/Ars Technica (03_25_2024 07_49_09 AM).html\n",
      "htmldata/HackerNoon - read, write and learn about any technology (03_25_2024 07_48_55 AM).html\n",
      "htmldata/Google News - Technology - Artificial intelligence (03_25_2024 07_48_43 AM).html\n",
      "htmldata/Technology - The Washington Post (03_25_2024 07_48_11 AM).html\n",
      "htmldata/Technology (03_25_2024 07_47_59 AM).html\n",
      "htmldata/Bloomberg Technology - Bloomberg (03_25_2024 07_47_48 AM).html\n",
      "htmldata/Technology - WSJ.com (03_25_2024 07_47_36 AM).html\n",
      "htmldata/Technology - The New York Times (03_25_2024 07_47_25 AM).html\n",
      "htmldata/Discover and Add New Feedly AI Feeds (03_25_2024 07_47_13 AM).html\n",
      "htmldata/Techmeme (03_25_2024 07_46_42 AM).html\n",
      "htmldata/Hacker News Page 2 (03_25_2024 07_46_30 AM).html\n",
      "htmldata/Hacker News Page 1 (03_25_2024 07_46_20 AM).html\n",
      "htmldata/top scoring links _ multi (03_25_2024 07_46_08 AM).html\n"
     ]
    }
   ],
   "source": [
    "# List all paths in the directory matching today's date\n",
    "nfiles = 50\n",
    "\n",
    "# Get the current date\n",
    "today = datetime.now()\n",
    "year, month, day = today.year, today.month, today.day\n",
    "\n",
    "datestr = datetime.now().strftime(\"%m_%d_%Y\")\n",
    "\n",
    "# print(f\"Year: {year}, Month: {month}, Day: {day}\")\n",
    "\n",
    "files = [os.path.join(download_dir, file) for file in os.listdir(download_dir)]\n",
    "# filter files only\n",
    "files = [file for file in files if os.path.isfile(file)]\n",
    "\n",
    "# Sort files by modification time and take top 50\n",
    "files.sort(key=lambda x: os.path.getmtime(x), reverse=True)\n",
    "file = files[:nfiles]\n",
    "\n",
    "# filter files by with today's date ending in .html\n",
    "files = [file for file in files if datestr in file and file.endswith(\".html\")]\n",
    "print(len(files))\n",
    "for file in files:\n",
    "    print(file)"
   ]
  },
  {
   "cell_type": "code",
   "execution_count": 8,
   "id": "878be7b4-b7d6-4c0d-93a5-063e5a9afa52",
   "metadata": {},
   "outputs": [
    {
     "data": {
      "text/plain": [
       "{'og:locale': 'en-GB',\n",
       " 'og:url': 'https://www.euronews.com/next/2024/01/15/almost-40-of-jobs-around-the-world-will-be-impacted-by-ai-imf-chief-says',\n",
       " 'og:site_name': 'euronews',\n",
       " 'og:type': 'article',\n",
       " 'og:title': 'AI to impact 40% of jobs around the world, IMF chief says',\n",
       " 'og:description': 'Kristalina Georgieva said now is the time to act to create a set of policies ensuring the impact of AI is beneficial not detrimental to humanity.',\n",
       " 'og:image': 'https://static.euronews.com/articles/stories/08/17/12/08/1200x675_cmsv2_1bac2582-b418-5da9-80f9-6c4b6254606d-8171208.jpg',\n",
       " 'og:image:width': '1200',\n",
       " 'og:image:height': '675',\n",
       " 'og:image:type': 'image/jpeg',\n",
       " 'og:image:alt': 'Almost 40% of jobs around the world will be impacted by AI, IMF chief says',\n",
       " 'og:locale:alternate': 'el-GR',\n",
       " 'og:locale:alternate:url': 'https://www.euronews.com/next/2024/01/15/almost-40-of-jobs-around-the-world-will-be-impacted-by-ai-imf-chief-says',\n",
       " 'title': 'Almost 40% of jobs around the world will be impacted by AI, IMF chief says | Euronews'}"
      ]
     },
     "execution_count": 8,
     "metadata": {},
     "output_type": "execute_result"
    }
   ],
   "source": [
    "# you need this if you have not-descriptive link titles like 'link', can get a page title from html or tags\n",
    "def get_og_tags(url):\n",
    "    \"\"\"get a dict of Open Graph og: tags such as title in the HEAD of a URL\"\"\"\n",
    "    retdict = {}\n",
    "    try:\n",
    "        response = requests.get(url)\n",
    "        if response.status_code == 200:\n",
    "            soup = BeautifulSoup(response.content, \"html.parser\")\n",
    "            head = soup.head\n",
    "            if head:\n",
    "                og_tags = head.find_all(\n",
    "                    property=lambda prop: prop and prop.startswith(\"og:\")\n",
    "                )\n",
    "                for tag in og_tags:\n",
    "                    if \"content\" in tag.attrs:\n",
    "                        retdict[tag[\"property\"]] = tag[\"content\"]\n",
    "\n",
    "                page_title = \"\"\n",
    "                title_tag = soup.find(\"title\")\n",
    "                if title_tag:\n",
    "                    page_title = title_tag.text\n",
    "                    if page_title:\n",
    "                        retdict[\"title\"] = page_title\n",
    "        return retdict\n",
    "    except requests.RequestException as e:\n",
    "        print(f\"Error fetching {url}: {e}\")\n",
    "    return retdict\n",
    "\n",
    "\n",
    "url = \"https://www.euronews.com/next/2024/01/15/almost-40-of-jobs-around-the-world-will-be-impacted-by-ai-imf-chief-says\"\n",
    "get_og_tags(url)"
   ]
  },
  {
   "cell_type": "code",
   "execution_count": 9,
   "id": "55a281af-6a4d-4904-9f22-98704ad4c768",
   "metadata": {},
   "outputs": [
    {
     "name": "stdout",
     "output_type": "stream",
     "text": [
      "/some/path\n"
     ]
    }
   ],
   "source": [
    "def get_path_from_url(url):\n",
    "    \"\"\"\n",
    "    Extracts the path following the top-level domain name from a URL.\n",
    "\n",
    "    :param url: The URL string.\n",
    "    :return: The path component of the URL.\n",
    "    \"\"\"\n",
    "    parsed_url = urlparse(url)\n",
    "    return parsed_url.path\n",
    "\n",
    "\n",
    "# Example usage\n",
    "example_url = \"http://www.example.com/some/path?query=string\"\n",
    "path = get_path_from_url(example_url)\n",
    "print(path)"
   ]
  },
  {
   "cell_type": "code",
   "execution_count": 10,
   "id": "b76ba2f8-1ff4-418c-9c74-5712255ddae8",
   "metadata": {},
   "outputs": [],
   "source": [
    "MODEL = \"gpt-4-turbo-preview\"\n",
    "\n",
    "MAX_INPUT_TOKENS = 3072\n",
    "MAX_OUTPUT_TOKENS = 4096\n",
    "MAX_RETRIES = 3\n",
    "TEMPERATURE = 0"
   ]
  },
  {
   "cell_type": "code",
   "execution_count": 11,
   "id": "d39bd1b9-9a7e-4cd0-93d7-aa17b37bc024",
   "metadata": {},
   "outputs": [
    {
     "data": {
      "text/plain": [
       "13"
      ]
     },
     "execution_count": 11,
     "metadata": {},
     "output_type": "execute_result"
    }
   ],
   "source": [
    "enc = tiktoken.encoding_for_model(MODEL)\n",
    "assert enc.decode(enc.encode(\"hello world\")) == \"hello world\"\n",
    "\n",
    "\n",
    "def count_tokens(s):\n",
    "    return len(enc.encode(s))\n",
    "\n",
    "\n",
    "count_tokens(\"four score and 7 years go our forefathers brought forth\")"
   ]
  },
  {
   "cell_type": "code",
   "execution_count": 12,
   "id": "0e03a76d-be7c-40f3-80c6-db44c13e3e13",
   "metadata": {},
   "outputs": [],
   "source": [
    "def trimmed_href(l):\n",
    "    \"\"\"\n",
    "    Trims everything in the string after a question mark such as a session ID.\n",
    "\n",
    "    :param s: The input string.\n",
    "    :return: The trimmed string.\n",
    "    \"\"\"\n",
    "    # Find the position of the question mark\n",
    "    s = l.get(\"href\")\n",
    "    if s:\n",
    "        question_mark_index = s.find(\"?\")\n",
    "\n",
    "        # If a question mark is found, trim the string up to that point\n",
    "        if question_mark_index != -1:\n",
    "            return s[:question_mark_index]\n",
    "        else:\n",
    "            # Return the original string if no question mark is found\n",
    "            return s\n",
    "    else:\n",
    "        return s"
   ]
  },
  {
   "cell_type": "markdown",
   "id": "0b7abc8c-5d9d-4ea1-9a2a-82d5f92f250b",
   "metadata": {},
   "source": [
    "# Parse news URLs and titles from downloaded HTML files"
   ]
  },
  {
   "cell_type": "code",
   "execution_count": 13,
   "id": "e81e7ea3-ac61-42ed-b972-1f9e81128732",
   "metadata": {
    "tags": []
   },
   "outputs": [
    {
     "data": {
      "text/markdown": [
       "# Business Insider"
      ],
      "text/plain": [
       "<IPython.core.display.Markdown object>"
      ]
     },
     "metadata": {},
     "output_type": "display_data"
    },
    {
     "name": "stdout",
     "output_type": "stream",
     "text": [
      "334\n",
      "250\n",
      "\n"
     ]
    },
    {
     "data": {
      "text/markdown": [
       "# The Register"
      ],
      "text/plain": [
       "<IPython.core.display.Markdown object>"
      ]
     },
     "metadata": {},
     "output_type": "display_data"
    },
    {
     "name": "stdout",
     "output_type": "stream",
     "text": [
      "199\n",
      "87\n",
      "\n"
     ]
    },
    {
     "data": {
      "text/markdown": [
       "# Ars Technica"
      ],
      "text/plain": [
       "<IPython.core.display.Markdown object>"
      ]
     },
     "metadata": {},
     "output_type": "display_data"
    },
    {
     "name": "stdout",
     "output_type": "stream",
     "text": [
      "252\n",
      "5\n",
      "\n"
     ]
    },
    {
     "data": {
      "text/markdown": [
       "# HackerNoon"
      ],
      "text/plain": [
       "<IPython.core.display.Markdown object>"
      ]
     },
     "metadata": {},
     "output_type": "display_data"
    },
    {
     "name": "stdout",
     "output_type": "stream",
     "text": [
      "554\n",
      "82\n",
      "\n"
     ]
    },
    {
     "data": {
      "text/markdown": [
       "# Google News"
      ],
      "text/plain": [
       "<IPython.core.display.Markdown object>"
      ]
     },
     "metadata": {},
     "output_type": "display_data"
    },
    {
     "name": "stdout",
     "output_type": "stream",
     "text": [
      "931\n",
      "409\n",
      "\n"
     ]
    },
    {
     "data": {
      "text/markdown": [
       "# WaPo Tech"
      ],
      "text/plain": [
       "<IPython.core.display.Markdown object>"
      ]
     },
     "metadata": {},
     "output_type": "display_data"
    },
    {
     "name": "stdout",
     "output_type": "stream",
     "text": [
      "158\n",
      "36\n",
      "\n"
     ]
    },
    {
     "data": {
      "text/markdown": [
       "# FT Tech"
      ],
      "text/plain": [
       "<IPython.core.display.Markdown object>"
      ]
     },
     "metadata": {},
     "output_type": "display_data"
    },
    {
     "name": "stdout",
     "output_type": "stream",
     "text": [
      "458\n",
      "113\n",
      "\n"
     ]
    },
    {
     "data": {
      "text/markdown": [
       "# Bloomberg Tech"
      ],
      "text/plain": [
       "<IPython.core.display.Markdown object>"
      ]
     },
     "metadata": {},
     "output_type": "display_data"
    },
    {
     "name": "stdout",
     "output_type": "stream",
     "text": [
      "301\n",
      "51\n",
      "\n"
     ]
    },
    {
     "data": {
      "text/markdown": [
       "# WSJ Tech"
      ],
      "text/plain": [
       "<IPython.core.display.Markdown object>"
      ]
     },
     "metadata": {},
     "output_type": "display_data"
    },
    {
     "name": "stdout",
     "output_type": "stream",
     "text": [
      "522\n",
      "12\n",
      "\n"
     ]
    },
    {
     "data": {
      "text/markdown": [
       "# NYT Tech"
      ],
      "text/plain": [
       "<IPython.core.display.Markdown object>"
      ]
     },
     "metadata": {},
     "output_type": "display_data"
    },
    {
     "name": "stdout",
     "output_type": "stream",
     "text": [
      "75\n",
      "17\n",
      "\n"
     ]
    },
    {
     "data": {
      "text/markdown": [
       "# Feedly AI"
      ],
      "text/plain": [
       "<IPython.core.display.Markdown object>"
      ]
     },
     "metadata": {},
     "output_type": "display_data"
    },
    {
     "name": "stdout",
     "output_type": "stream",
     "text": [
      "256\n",
      "246\n",
      "\n"
     ]
    },
    {
     "data": {
      "text/markdown": [
       "# Techmeme"
      ],
      "text/plain": [
       "<IPython.core.display.Markdown object>"
      ]
     },
     "metadata": {},
     "output_type": "display_data"
    },
    {
     "name": "stdout",
     "output_type": "stream",
     "text": [
      "330\n",
      "138\n",
      "\n"
     ]
    },
    {
     "data": {
      "text/markdown": [
       "# Hacker News 2"
      ],
      "text/plain": [
       "<IPython.core.display.Markdown object>"
      ]
     },
     "metadata": {},
     "output_type": "display_data"
    },
    {
     "name": "stdout",
     "output_type": "stream",
     "text": [
      "261\n",
      "26\n",
      "\n"
     ]
    },
    {
     "data": {
      "text/markdown": [
       "# Hacker News"
      ],
      "text/plain": [
       "<IPython.core.display.Markdown object>"
      ]
     },
     "metadata": {},
     "output_type": "display_data"
    },
    {
     "name": "stdout",
     "output_type": "stream",
     "text": [
      "257\n",
      "28\n",
      "\n"
     ]
    },
    {
     "data": {
      "text/markdown": [
       "# Reddit"
      ],
      "text/plain": [
       "<IPython.core.display.Markdown object>"
      ]
     },
     "metadata": {},
     "output_type": "display_data"
    },
    {
     "name": "stdout",
     "output_type": "stream",
     "text": [
      "566\n",
      "35\n",
      "\n"
     ]
    }
   ],
   "source": [
    "# parse all the URL that look like news articles\n",
    "# into all_urls list of dicts with url, title, src\n",
    "all_urls = []\n",
    "\n",
    "for file in files:\n",
    "    # Extract filename from path\n",
    "    filename = os.path.basename(file)\n",
    "\n",
    "    # Find the position of '1_14_2024' in the filename\n",
    "    position = filename.find(\" (\" + datestr)\n",
    "    basename = filename[:position]\n",
    "#     print(basename)\n",
    "#     if basename.startswith('Google News'):\n",
    "#         pass\n",
    "#     else:\n",
    "#         continue\n",
    "\n",
    "    sourcename = sources_reverse.get(basename)\n",
    "    if sourcename is None:\n",
    "        print(f\"Skipping {basename}, no sourcename metadata\")\n",
    "        continue\n",
    "\n",
    "    display(Markdown(f\"# {sourcename}\"))\n",
    "    sources[sourcename][\"latest\"] = file\n",
    "\n",
    "    # get contents\n",
    "    with open(file, \"r\") as file:\n",
    "        html_content = file.read()\n",
    "\n",
    "    # Parse the HTML content\n",
    "    soup = BeautifulSoup(html_content, \"html.parser\")\n",
    "\n",
    "    # Find all <a> tags\n",
    "    if soup:\n",
    "        links = soup.find_all(\"a\")\n",
    "    else:\n",
    "        print(f\"Skipping {sourcename}, unable to parse\")\n",
    "\n",
    "    # convert relative links to absolute links using base URL if present\n",
    "    base_tag = soup.find('base')\n",
    "    base_url = base_tag.get('href') if base_tag else sources[sourcename][\"url\"]\n",
    "    for link in links:\n",
    "#         print(link.get(\"href\"))\n",
    "        link[\"href\"]= urljoin(base_url, link.get('href', \"\"))\n",
    "#         print(link[\"href\"])\n",
    "\n",
    "#     print(len(links))\n",
    "#     links = [l for l in links if l]\n",
    "#     links = [l.strip() for l in links]\n",
    "\n",
    "    print(len(links))\n",
    "\n",
    "    for pattern in sources[sourcename].get(\"exclude\", []):\n",
    "        # filter links by exclusion pattern\n",
    "#         print(pattern)\n",
    "#         print([ l.get(\"href\") for l in links])\n",
    "        links = [\n",
    "            l\n",
    "            for l in links\n",
    "            if l.get(\"href\") is not None and not re.match(pattern, l.get(\"href\"))\n",
    "        ]\n",
    "        # print(len(links))\n",
    "\n",
    "    for pattern in sources[sourcename].get(\"include\", []):\n",
    "        # print(pattern, len(links))\n",
    "        # filter links by inclusion pattern\n",
    "        # print(pattern)\n",
    "        # print(type(pattern))\n",
    "        newlinks = []\n",
    "        for l in links:\n",
    "            href = l.get(\"href\")\n",
    "#             print(href)\n",
    "            if href and re.match(pattern, href):\n",
    "                newlinks.append(l)\n",
    "        links = newlinks\n",
    "        # links = [l for l in links if re.match(pattern, l.get(\"href\"))]\n",
    "        # print(len(links))\n",
    "\n",
    "    # drop empty text\n",
    "    links = [l for l in links if l.get_text(strip=True)]\n",
    "\n",
    "    # drop empty url path, i.e. url = toplevel domain\n",
    "    links = [l for l in links if len(get_path_from_url(trimmed_href(l))) > 1]\n",
    "    # drop anything that is not http, like javascript: or mailto:\n",
    "    links = [l for l in links if l.get(\"href\") and l.get(\"href\").startswith(\"http\")]\n",
    "    # drop some ArsTechnica links that are just the number of comments and dupe the primary link\n",
    "    links = [l for l in links if not re.match(\"^(\\d+)$\", l.get_text(strip=True))]\n",
    "\n",
    "    for l in links:\n",
    "        url = trimmed_href(l)\n",
    "        title = l.get_text(strip=True)\n",
    "        if title == \"LINK\":\n",
    "            # try to update title\n",
    "            og_dict = get_og_tags(url)\n",
    "            if og_dict.get(\"og:title\"):\n",
    "                title = og_dict.get(\"og:title\")\n",
    "\n",
    "        # skip some low quality links that don't have full headline, like link to a Twitter or Threads account\n",
    "        if len(title) <= 28 and title != \"LINK\":\n",
    "            continue\n",
    "\n",
    "        all_urls.append({\"title\": title, \"url\": url, \"src\": sourcename})\n",
    "#         display(Markdown(f\"[{title}]({url})\"))\n",
    "\n",
    "    print(len(links))\n",
    "    print()\n",
    "\n",
    "    # for p in pages:\n",
    "    #     print(p)"
   ]
  },
  {
   "cell_type": "code",
   "execution_count": 14,
   "id": "c0eb7a52-ee94-4478-af89-11f059ab2d6e",
   "metadata": {},
   "outputs": [
    {
     "data": {
      "text/html": [
       "<div>\n",
       "<style scoped>\n",
       "    .dataframe tbody tr th:only-of-type {\n",
       "        vertical-align: middle;\n",
       "    }\n",
       "\n",
       "    .dataframe tbody tr th {\n",
       "        vertical-align: top;\n",
       "    }\n",
       "\n",
       "    .dataframe thead th {\n",
       "        text-align: right;\n",
       "    }\n",
       "</style>\n",
       "<table border=\"1\" class=\"dataframe\">\n",
       "  <thead>\n",
       "    <tr style=\"text-align: right;\">\n",
       "      <th></th>\n",
       "      <th>id</th>\n",
       "      <th>src</th>\n",
       "      <th>title</th>\n",
       "      <th>url</th>\n",
       "    </tr>\n",
       "  </thead>\n",
       "  <tbody>\n",
       "    <tr>\n",
       "      <th>0</th>\n",
       "      <td>0</td>\n",
       "      <td>Ars Technica</td>\n",
       "      <td>Windows Notepad’s midlife renaissance continue...</td>\n",
       "      <td>https://arstechnica.com/gadgets/2024/03/window...</td>\n",
       "    </tr>\n",
       "    <tr>\n",
       "      <th>1</th>\n",
       "      <td>1</td>\n",
       "      <td>Ars Technica</td>\n",
       "      <td>Samsung users ask, “Why does the S-Pen smell s...</td>\n",
       "      <td>https://arstechnica.com/gadgets/2024/03/users-...</td>\n",
       "    </tr>\n",
       "    <tr>\n",
       "      <th>2</th>\n",
       "      <td>2</td>\n",
       "      <td>Ars Technica</td>\n",
       "      <td>Microsoft debuts major Surface overhauls that ...</td>\n",
       "      <td>https://arstechnica.com/gadgets/2024/03/micros...</td>\n",
       "    </tr>\n",
       "    <tr>\n",
       "      <th>3</th>\n",
       "      <td>3</td>\n",
       "      <td>Ars Technica</td>\n",
       "      <td>Android 15 gets satellite messaging, starts fo...</td>\n",
       "      <td>https://arstechnica.com/gadgets/2024/03/androi...</td>\n",
       "    </tr>\n",
       "    <tr>\n",
       "      <th>4</th>\n",
       "      <td>4</td>\n",
       "      <td>Ars Technica</td>\n",
       "      <td>AMD promises big upscaling improvements and a ...</td>\n",
       "      <td>https://arstechnica.com/gadgets/2024/03/amd-pr...</td>\n",
       "    </tr>\n",
       "    <tr>\n",
       "      <th>...</th>\n",
       "      <td>...</td>\n",
       "      <td>...</td>\n",
       "      <td>...</td>\n",
       "      <td>...</td>\n",
       "    </tr>\n",
       "    <tr>\n",
       "      <th>989</th>\n",
       "      <td>989</td>\n",
       "      <td>WaPo Tech</td>\n",
       "      <td>Landlines are dying out. But to some, they’re ...</td>\n",
       "      <td>https://www.washingtonpost.com/technology/2024...</td>\n",
       "    </tr>\n",
       "    <tr>\n",
       "      <th>990</th>\n",
       "      <td>990</td>\n",
       "      <td>WaPo Tech</td>\n",
       "      <td>Trump Media merger wins investor approval, net...</td>\n",
       "      <td>https://www.washingtonpost.com/technology/2024...</td>\n",
       "    </tr>\n",
       "    <tr>\n",
       "      <th>991</th>\n",
       "      <td>991</td>\n",
       "      <td>WaPo Tech</td>\n",
       "      <td>United Nations adopts U.S.-led resolution to s...</td>\n",
       "      <td>https://www.washingtonpost.com/technology/2024...</td>\n",
       "    </tr>\n",
       "    <tr>\n",
       "      <th>992</th>\n",
       "      <td>992</td>\n",
       "      <td>WaPo Tech</td>\n",
       "      <td>Reddit’s shares soar in stock market debut</td>\n",
       "      <td>https://www.washingtonpost.com/technology/2024...</td>\n",
       "    </tr>\n",
       "    <tr>\n",
       "      <th>993</th>\n",
       "      <td>993</td>\n",
       "      <td>WaPo Tech</td>\n",
       "      <td>Nvidia fever is here. Why the chipmaker is the...</td>\n",
       "      <td>https://www.washingtonpost.com/technology/2024...</td>\n",
       "    </tr>\n",
       "  </tbody>\n",
       "</table>\n",
       "<p>994 rows × 4 columns</p>\n",
       "</div>"
      ],
      "text/plain": [
       "      id           src                                              title  \\\n",
       "0      0  Ars Technica  Windows Notepad’s midlife renaissance continue...   \n",
       "1      1  Ars Technica  Samsung users ask, “Why does the S-Pen smell s...   \n",
       "2      2  Ars Technica  Microsoft debuts major Surface overhauls that ...   \n",
       "3      3  Ars Technica  Android 15 gets satellite messaging, starts fo...   \n",
       "4      4  Ars Technica  AMD promises big upscaling improvements and a ...   \n",
       "..   ...           ...                                                ...   \n",
       "989  989     WaPo Tech  Landlines are dying out. But to some, they’re ...   \n",
       "990  990     WaPo Tech  Trump Media merger wins investor approval, net...   \n",
       "991  991     WaPo Tech  United Nations adopts U.S.-led resolution to s...   \n",
       "992  992     WaPo Tech         Reddit’s shares soar in stock market debut   \n",
       "993  993     WaPo Tech  Nvidia fever is here. Why the chipmaker is the...   \n",
       "\n",
       "                                                   url  \n",
       "0    https://arstechnica.com/gadgets/2024/03/window...  \n",
       "1    https://arstechnica.com/gadgets/2024/03/users-...  \n",
       "2    https://arstechnica.com/gadgets/2024/03/micros...  \n",
       "3    https://arstechnica.com/gadgets/2024/03/androi...  \n",
       "4    https://arstechnica.com/gadgets/2024/03/amd-pr...  \n",
       "..                                                 ...  \n",
       "989  https://www.washingtonpost.com/technology/2024...  \n",
       "990  https://www.washingtonpost.com/technology/2024...  \n",
       "991  https://www.washingtonpost.com/technology/2024...  \n",
       "992  https://www.washingtonpost.com/technology/2024...  \n",
       "993  https://www.washingtonpost.com/technology/2024...  \n",
       "\n",
       "[994 rows x 4 columns]"
      ]
     },
     "execution_count": 14,
     "metadata": {},
     "output_type": "execute_result"
    }
   ],
   "source": [
    "# make a pandas dataframe\n",
    "orig_df = (\n",
    "    pd.DataFrame(all_urls)\n",
    "    .groupby(\"url\")\n",
    "    .first()\n",
    "    .reset_index()\n",
    "    .sort_values(\"src\")[[\"src\", \"title\", \"url\"]]\n",
    "    .reset_index(drop=True)\n",
    "    .reset_index(drop=False)\n",
    "    .rename(columns={\"index\": \"id\"})\n",
    ")\n",
    "orig_df"
   ]
  },
  {
   "cell_type": "code",
   "execution_count": 15,
   "id": "36a1f7dd-2763-46ac-944c-eec7361f40d7",
   "metadata": {},
   "outputs": [],
   "source": [
    "# filter ones not seen before\n",
    "conn = sqlite3.connect('articles.db')\n",
    "\n",
    "# Retrieve all URLs from the SQLite table\n",
    "existing_urls = pd.read_sql_query(\"SELECT url FROM news_articles\", conn)\n",
    "\n",
    "# Close the SQLite connection\n",
    "conn.close()\n",
    "\n",
    "# Convert the URLs to a list for easier comparison\n",
    "existing_urls_list = existing_urls['url'].tolist()\n",
    "\n",
    "# Filter the original DataFrame\n",
    "# Keep rows where the URL is not in the existing_urls_list\n",
    "filtered_df = orig_df[~orig_df['url'].isin(existing_urls_list)]\n"
   ]
  },
  {
   "cell_type": "code",
   "execution_count": 16,
   "id": "14bea6c0-a79f-41ef-853e-7b076b902dca",
   "metadata": {},
   "outputs": [
    {
     "data": {
      "text/plain": [
       "26843"
      ]
     },
     "execution_count": 16,
     "metadata": {},
     "output_type": "execute_result"
    }
   ],
   "source": [
    "len(existing_urls_list)"
   ]
  },
  {
   "cell_type": "code",
   "execution_count": 17,
   "id": "21f431d4-4512-44a3-831c-44e078a22d17",
   "metadata": {},
   "outputs": [
    {
     "data": {
      "text/plain": [
       "263"
      ]
     },
     "execution_count": 17,
     "metadata": {},
     "output_type": "execute_result"
    }
   ],
   "source": [
    "len(filtered_df)"
   ]
  },
  {
   "cell_type": "markdown",
   "id": "f05b4e7e-c039-458c-a02f-4931356115e0",
   "metadata": {},
   "source": [
    "# Filter AI-related headlines using a prompt to OpenAI"
   ]
  },
  {
   "cell_type": "code",
   "execution_count": 18,
   "id": "994796a1-fea7-4800-87a4-913e3fb7a821",
   "metadata": {},
   "outputs": [
    {
     "data": {
      "text/plain": [
       "6"
      ]
     },
     "execution_count": 18,
     "metadata": {},
     "output_type": "execute_result"
    }
   ],
   "source": [
    "# make pages that fit in a reasonably sized prompt\n",
    "MAXPAGELEN = 50\n",
    "pages = []\n",
    "current_page = []\n",
    "pagelength = 0\n",
    "\n",
    "for row in filtered_df.itertuples():\n",
    "    curlink = {\"id\": row.Index, \"title\": row.title}\n",
    "    curlength = count_tokens(json.dumps(curlink))\n",
    "    # Check if adding the current string would exceed the limit\n",
    "    if len(current_page) >= MAXPAGELEN or pagelength + curlength > MAX_INPUT_TOKENS:\n",
    "        # If so, start a new page\n",
    "        pages.append(current_page)\n",
    "        current_page = [curlink]\n",
    "        pagelength = curlength\n",
    "    else:\n",
    "        # Otherwise, add the string to the current page\n",
    "        current_page.append(curlink)\n",
    "        pagelength += curlength\n",
    "\n",
    "# add the last page if it's not empty\n",
    "if current_page:\n",
    "    pages.append(current_page)\n",
    "\n",
    "len(pages)"
   ]
  },
  {
   "cell_type": "code",
   "execution_count": 19,
   "id": "18bc60f8-8b90-4637-b884-b57aee1efb6f",
   "metadata": {},
   "outputs": [],
   "source": [
    "def get_response_json(\n",
    "    client,\n",
    "    messages,\n",
    "    verbose=False,\n",
    "    model=MODEL,\n",
    "    # max_input_tokens=MAX_INPUT_TOKENS,\n",
    "    max_output_tokens=MAX_OUTPUT_TOKENS,\n",
    "    max_retries=MAX_RETRIES,\n",
    "    temperature=TEMPERATURE,\n",
    "):\n",
    "    if type(messages) != list:  # allow passing one string for convenience\n",
    "        messages = [{\"role\": \"user\", \"content\": messages}]\n",
    "\n",
    "    if verbose:\n",
    "        print(\"\\n\".join([str(msg) for msg in messages]))\n",
    "\n",
    "    # truncate number of tokens\n",
    "    # retry loop, have received untrapped 500 errors like too busy\n",
    "    for i in range(max_retries):\n",
    "        if i > 0:\n",
    "            print(f\"Attempt {i+1}...\")\n",
    "        try:\n",
    "            response = client.chat.completions.create(\n",
    "                model=MODEL,\n",
    "                messages=messages,\n",
    "                temperature=0,\n",
    "                max_tokens=max_output_tokens,\n",
    "                response_format={\"type\": \"json_object\"},\n",
    "            )\n",
    "            # no exception thrown\n",
    "            return response\n",
    "        except Exception as error:\n",
    "            print(f\"An exception occurred on attempt {i+1}:\", error)\n",
    "            time.sleep(5)\n",
    "            continue  # try again\n",
    "        # retries exceeded if you got this far\n",
    "    print(\"Retries exceeded.\")\n",
    "    return None\n",
    "\n",
    "\n",
    "# messages = [\n",
    "#     {\n",
    "#         \"role\": \"system\",\n",
    "#         \"content\": \"You are a poetic assistant, skilled in explaining complex programming concepts with creative flair.\",\n",
    "#     },\n",
    "#     {\n",
    "#         \"role\": \"user\",\n",
    "#         \"content\": \"Compose a poem that explains the concept of recursion in programming, returning each verse as a json object.\",\n",
    "#     },\n",
    "# ]\n",
    "\n",
    "# response = get_response_json(client, messages)\n",
    "# response"
   ]
  },
  {
   "cell_type": "code",
   "execution_count": 20,
   "id": "46b54a3d-c29c-45e5-b984-d0580878337c",
   "metadata": {},
   "outputs": [
    {
     "data": {
      "text/plain": [
       "[Model(id='text-embedding-ada-002', created=1671217299, object='model', owned_by='openai-internal'),\n",
       " Model(id='whisper-1', created=1677532384, object='model', owned_by='openai-internal'),\n",
       " Model(id='gpt-3.5-turbo', created=1677610602, object='model', owned_by='openai'),\n",
       " Model(id='gpt-3.5-turbo-0301', created=1677649963, object='model', owned_by='openai'),\n",
       " Model(id='tts-1', created=1681940951, object='model', owned_by='openai-internal'),\n",
       " Model(id='gpt-3.5-turbo-16k', created=1683758102, object='model', owned_by='openai-internal'),\n",
       " Model(id='gpt-3.5-turbo-16k-0613', created=1685474247, object='model', owned_by='openai'),\n",
       " Model(id='gpt-3.5-turbo-0613', created=1686587434, object='model', owned_by='openai'),\n",
       " Model(id='gpt-4-0613', created=1686588896, object='model', owned_by='openai'),\n",
       " Model(id='gpt-4', created=1687882411, object='model', owned_by='openai'),\n",
       " Model(id='davinci-002', created=1692634301, object='model', owned_by='system'),\n",
       " Model(id='babbage-002', created=1692634615, object='model', owned_by='system'),\n",
       " Model(id='gpt-3.5-turbo-instruct', created=1692901427, object='model', owned_by='system'),\n",
       " Model(id='gpt-3.5-turbo-instruct-0914', created=1694122472, object='model', owned_by='system'),\n",
       " Model(id='dall-e-3', created=1698785189, object='model', owned_by='system'),\n",
       " Model(id='dall-e-2', created=1698798177, object='model', owned_by='system'),\n",
       " Model(id='gpt-4-vision-preview', created=1698894917, object='model', owned_by='system'),\n",
       " Model(id='gpt-4-1106-preview', created=1698957206, object='model', owned_by='system'),\n",
       " Model(id='gpt-3.5-turbo-1106', created=1698959748, object='model', owned_by='system'),\n",
       " Model(id='tts-1-hd', created=1699046015, object='model', owned_by='system'),\n",
       " Model(id='tts-1-1106', created=1699053241, object='model', owned_by='system'),\n",
       " Model(id='tts-1-hd-1106', created=1699053533, object='model', owned_by='system'),\n",
       " Model(id='text-embedding-3-small', created=1705948997, object='model', owned_by='system'),\n",
       " Model(id='text-embedding-3-large', created=1705953180, object='model', owned_by='system'),\n",
       " Model(id='gpt-4-0125-preview', created=1706037612, object='model', owned_by='system'),\n",
       " Model(id='gpt-4-turbo-preview', created=1706037777, object='model', owned_by='system'),\n",
       " Model(id='gpt-3.5-turbo-0125', created=1706048358, object='model', owned_by='system')]"
      ]
     },
     "execution_count": 20,
     "metadata": {},
     "output_type": "execute_result"
    }
   ],
   "source": [
    "models = sorted(openai.models.list(), key=lambda m: m.created)\n",
    "models"
   ]
  },
  {
   "cell_type": "code",
   "execution_count": 21,
   "id": "00f01351-4067-4bd7-9bfc-c975e56f6970",
   "metadata": {},
   "outputs": [],
   "source": [
    "prompt = \"\"\"\n",
    "You will act as a research assistant classifying news stories as related to artificial intelligence (AI) or unrelated to AI.\n",
    "\n",
    "Your task is to read JSON format objects from an input list of news stories using the schema below delimited by |, and output JSON format objects for each using the schema below delimited by ~.\n",
    "\n",
    "Define a list of objects representing news stories in JSON format as in the following example:\n",
    "|\n",
    "{'stories':\n",
    "[{'id': 97, 'title': 'AI to predict dementia, detect cancer'},\n",
    " {'id': 103,'title': 'Figure robot learns to make coffee by watching humans for 10 hours'},\n",
    " {'id': 103,'title': 'Baby trapped in refrigerator eats own foot'},\n",
    " {'id': 210,'title': 'ChatGPT removes, then reinstates a summarization assistant without explanation.'},\n",
    " {'id': 298,'title': 'The 5 most interesting PC monitors from CES 2024'},\n",
    " ]\n",
    "}\n",
    "|\n",
    "\n",
    "Based on the title, you will classify each story as being about AI or not.\n",
    "\n",
    "For each object, you will output the input id field, and a field named isAI which is true if the input title is about AI and false if the input title is not about AI.\n",
    "\n",
    "When extracting information please make sure it matches the JSON format below exactly. Do not output any attributes that do not appear in the schema below.\n",
    "~\n",
    "{'stories':\n",
    "[{'id': 97, 'isAI': true},\n",
    " {'id': 103, 'isAI': true},\n",
    " {'id': 103, 'isAI': false},\n",
    " {'id': 210, 'isAI': true},\n",
    " {'id': 298, 'isAI': false}]\n",
    "}\n",
    "~\n",
    "\n",
    "You may interpret the term AI broadly as pertaining to\n",
    "- machine learning models\n",
    "- large language models\n",
    "- robotics\n",
    "- reinforcement learning\n",
    "- computer vision\n",
    "- OpenAI\n",
    "- ChatGPT\n",
    "- other closely related topics.\n",
    "\n",
    "You will return an array of valid JSON objects.\n",
    "\n",
    "The field 'id' in the output must match the field 'id' in the input EXACTLY.\n",
    "\n",
    "The field 'isAI' must be either true or false.\n",
    "\n",
    "The list of news stories to classify and enrich is:\n",
    "\n",
    "\n",
    "\"\"\""
   ]
  },
  {
   "cell_type": "code",
   "execution_count": 22,
   "id": "ead5697a-db5c-4f49-ada2-fd5367c8203f",
   "metadata": {},
   "outputs": [
    {
     "data": {
      "text/plain": [
       "{'id': 5,\n",
       " 'title': 'China’s Tech Sector May Rival Property as Growth Driver, BE Says'}"
      ]
     },
     "execution_count": 22,
     "metadata": {},
     "output_type": "execute_result"
    }
   ],
   "source": [
    "pages[0][0]"
   ]
  },
  {
   "cell_type": "code",
   "execution_count": 23,
   "id": "a8119733-610b-45c7-a95c-25edf7bc7757",
   "metadata": {},
   "outputs": [
    {
     "name": "stdout",
     "output_type": "stream",
     "text": [
      "07:49:40 send page 1 of 6, 50 items \n",
      "07:50:09 got dict with 50 items \n",
      "07:50:09 send page 2 of 6, 50 items \n",
      "07:50:39 got dict with 50 items \n",
      "07:50:39 send page 3 of 6, 50 items \n",
      "07:51:06 got dict with 50 items \n",
      "07:51:06 send page 4 of 6, 50 items \n",
      "07:51:48 got dict with 50 items \n",
      "07:51:48 send page 5 of 6, 50 items \n",
      "07:52:22 got dict with 50 items \n",
      "07:52:22 send page 6 of 6, 13 items \n",
      "07:52:31 got dict with 13 items \n"
     ]
    }
   ],
   "source": [
    "responses = []\n",
    "enriched_urls = []\n",
    "for i, p in enumerate(pages):\n",
    "    print(\n",
    "        f\"{datetime.now().strftime('%H:%M:%S')} send page {i+1} of {len(pages)}, {len(p)} items \"\n",
    "    )\n",
    "    # print(prompt + json.dumps(p))\n",
    "    response = get_response_json(client, prompt + json.dumps(p))\n",
    "    responses.append(response.choices[0].message.content)\n",
    "    retval = json.loads(responses[-1])\n",
    "    retlist = []\n",
    "    # usually comes back as a dict with a single arbitrary key like \"stories\" with a list value\n",
    "    if type(retval) == dict:\n",
    "        for k, v in retval.items():\n",
    "            if type(v) == list:\n",
    "                retlist.extend(v)\n",
    "            else:\n",
    "                retlist.append(v)\n",
    "        print(\n",
    "            f\"{datetime.now().strftime('%H:%M:%S')} got dict with {len(retlist)} items \"\n",
    "        )\n",
    "    elif type(retval) == list:  # in case it comes back as a list\n",
    "        retlist = retval\n",
    "        print(\n",
    "            f\"{datetime.now().strftime('%H:%M:%S')} got list with {len(retlist)} items \"\n",
    "        )\n",
    "    else:\n",
    "        print(str(type(retval)))\n",
    "    enriched_urls.extend(retlist)"
   ]
  },
  {
   "cell_type": "code",
   "execution_count": 24,
   "id": "97c87832-7661-46a7-824b-b7790fb00c39",
   "metadata": {},
   "outputs": [
    {
     "data": {
      "text/html": [
       "<div>\n",
       "<style scoped>\n",
       "    .dataframe tbody tr th:only-of-type {\n",
       "        vertical-align: middle;\n",
       "    }\n",
       "\n",
       "    .dataframe tbody tr th {\n",
       "        vertical-align: top;\n",
       "    }\n",
       "\n",
       "    .dataframe thead th {\n",
       "        text-align: right;\n",
       "    }\n",
       "</style>\n",
       "<table border=\"1\" class=\"dataframe\">\n",
       "  <thead>\n",
       "    <tr style=\"text-align: right;\">\n",
       "      <th></th>\n",
       "      <th>id</th>\n",
       "      <th>isAI</th>\n",
       "    </tr>\n",
       "  </thead>\n",
       "  <tbody>\n",
       "    <tr>\n",
       "      <th>0</th>\n",
       "      <td>5</td>\n",
       "      <td>False</td>\n",
       "    </tr>\n",
       "    <tr>\n",
       "      <th>1</th>\n",
       "      <td>22</td>\n",
       "      <td>False</td>\n",
       "    </tr>\n",
       "    <tr>\n",
       "      <th>2</th>\n",
       "      <td>23</td>\n",
       "      <td>False</td>\n",
       "    </tr>\n",
       "    <tr>\n",
       "      <th>3</th>\n",
       "      <td>33</td>\n",
       "      <td>False</td>\n",
       "    </tr>\n",
       "    <tr>\n",
       "      <th>4</th>\n",
       "      <td>36</td>\n",
       "      <td>False</td>\n",
       "    </tr>\n",
       "  </tbody>\n",
       "</table>\n",
       "</div>"
      ],
      "text/plain": [
       "   id   isAI\n",
       "0   5  False\n",
       "1  22  False\n",
       "2  23  False\n",
       "3  33  False\n",
       "4  36  False"
      ]
     },
     "execution_count": 24,
     "metadata": {},
     "output_type": "execute_result"
    }
   ],
   "source": [
    "enriched_df = pd.DataFrame(enriched_urls)\n",
    "enriched_df.head()"
   ]
  },
  {
   "cell_type": "code",
   "execution_count": 25,
   "id": "a073401c-8366-498e-a251-44b2341965e8",
   "metadata": {},
   "outputs": [
    {
     "name": "stdout",
     "output_type": "stream",
     "text": [
      "isAI 107\n",
      "not isAI 156\n"
     ]
    }
   ],
   "source": [
    "print(\"isAI\", len(enriched_df.loc[enriched_df[\"isAI\"]]))\n",
    "print(\"not isAI\", len(enriched_df.loc[~enriched_df[\"isAI\"]]))"
   ]
  },
  {
   "cell_type": "code",
   "execution_count": 26,
   "id": "9cce23b3-03b0-4751-8a5f-301f7dc86464",
   "metadata": {},
   "outputs": [
    {
     "data": {
      "text/html": [
       "<div>\n",
       "<style scoped>\n",
       "    .dataframe tbody tr th:only-of-type {\n",
       "        vertical-align: middle;\n",
       "    }\n",
       "\n",
       "    .dataframe tbody tr th {\n",
       "        vertical-align: top;\n",
       "    }\n",
       "\n",
       "    .dataframe thead th {\n",
       "        text-align: right;\n",
       "    }\n",
       "</style>\n",
       "<table border=\"1\" class=\"dataframe\">\n",
       "  <thead>\n",
       "    <tr style=\"text-align: right;\">\n",
       "      <th></th>\n",
       "      <th>id</th>\n",
       "      <th>src</th>\n",
       "      <th>title</th>\n",
       "      <th>url</th>\n",
       "      <th>isAI</th>\n",
       "      <th>date</th>\n",
       "    </tr>\n",
       "  </thead>\n",
       "  <tbody>\n",
       "    <tr>\n",
       "      <th>0</th>\n",
       "      <td>5</td>\n",
       "      <td>Bloomberg Tech</td>\n",
       "      <td>China’s Tech Sector May Rival Property as Grow...</td>\n",
       "      <td>https://www.bloomberg.com/news/articles/2024-0...</td>\n",
       "      <td>False</td>\n",
       "      <td>2024-03-25</td>\n",
       "    </tr>\n",
       "    <tr>\n",
       "      <th>1</th>\n",
       "      <td>22</td>\n",
       "      <td>Bloomberg Tech</td>\n",
       "      <td>Court Suspends Its Previous Order to Block Tel...</td>\n",
       "      <td>https://www.bloomberg.com/news/articles/2024-0...</td>\n",
       "      <td>False</td>\n",
       "      <td>2024-03-25</td>\n",
       "    </tr>\n",
       "    <tr>\n",
       "      <th>2</th>\n",
       "      <td>23</td>\n",
       "      <td>Bloomberg Tech</td>\n",
       "      <td>Nissan Plans to Boost Sales by 1 Million Cars ...</td>\n",
       "      <td>https://www.bloomberg.com/news/articles/2024-0...</td>\n",
       "      <td>False</td>\n",
       "      <td>2024-03-25</td>\n",
       "    </tr>\n",
       "    <tr>\n",
       "      <th>3</th>\n",
       "      <td>33</td>\n",
       "      <td>Bloomberg Tech</td>\n",
       "      <td>Nigeria Announces Charges Against Binance Afte...</td>\n",
       "      <td>https://www.bloomberg.com/news/articles/2024-0...</td>\n",
       "      <td>False</td>\n",
       "      <td>2024-03-25</td>\n",
       "    </tr>\n",
       "    <tr>\n",
       "      <th>4</th>\n",
       "      <td>36</td>\n",
       "      <td>Bloomberg Tech</td>\n",
       "      <td>HSBC’s Top Tech Banker Winston Cheng Exits to ...</td>\n",
       "      <td>https://www.bloomberg.com/news/articles/2024-0...</td>\n",
       "      <td>False</td>\n",
       "      <td>2024-03-25</td>\n",
       "    </tr>\n",
       "  </tbody>\n",
       "</table>\n",
       "</div>"
      ],
      "text/plain": [
       "   id             src                                              title  \\\n",
       "0   5  Bloomberg Tech  China’s Tech Sector May Rival Property as Grow...   \n",
       "1  22  Bloomberg Tech  Court Suspends Its Previous Order to Block Tel...   \n",
       "2  23  Bloomberg Tech  Nissan Plans to Boost Sales by 1 Million Cars ...   \n",
       "3  33  Bloomberg Tech  Nigeria Announces Charges Against Binance Afte...   \n",
       "4  36  Bloomberg Tech  HSBC’s Top Tech Banker Winston Cheng Exits to ...   \n",
       "\n",
       "                                                 url   isAI        date  \n",
       "0  https://www.bloomberg.com/news/articles/2024-0...  False  2024-03-25  \n",
       "1  https://www.bloomberg.com/news/articles/2024-0...  False  2024-03-25  \n",
       "2  https://www.bloomberg.com/news/articles/2024-0...  False  2024-03-25  \n",
       "3  https://www.bloomberg.com/news/articles/2024-0...  False  2024-03-25  \n",
       "4  https://www.bloomberg.com/news/articles/2024-0...  False  2024-03-25  "
      ]
     },
     "execution_count": 26,
     "metadata": {},
     "output_type": "execute_result"
    }
   ],
   "source": [
    "merged_df = pd.merge(filtered_df, enriched_df, on=\"id\", how=\"outer\")\n",
    "merged_df['date']=datetime.now().date()\n",
    "merged_df.head()"
   ]
  },
  {
   "cell_type": "code",
   "execution_count": 27,
   "id": "03906d38-001a-4b20-83f7-caa468256098",
   "metadata": {},
   "outputs": [
    {
     "data": {
      "text/html": [
       "<div>\n",
       "<style scoped>\n",
       "    .dataframe tbody tr th:only-of-type {\n",
       "        vertical-align: middle;\n",
       "    }\n",
       "\n",
       "    .dataframe tbody tr th {\n",
       "        vertical-align: top;\n",
       "    }\n",
       "\n",
       "    .dataframe thead th {\n",
       "        text-align: right;\n",
       "    }\n",
       "</style>\n",
       "<table border=\"1\" class=\"dataframe\">\n",
       "  <thead>\n",
       "    <tr style=\"text-align: right;\">\n",
       "      <th></th>\n",
       "      <th>id</th>\n",
       "      <th>src</th>\n",
       "      <th>title</th>\n",
       "      <th>url</th>\n",
       "      <th>isAI</th>\n",
       "      <th>date</th>\n",
       "    </tr>\n",
       "  </thead>\n",
       "  <tbody>\n",
       "  </tbody>\n",
       "</table>\n",
       "</div>"
      ],
      "text/plain": [
       "Empty DataFrame\n",
       "Columns: [id, src, title, url, isAI, date]\n",
       "Index: []"
      ]
     },
     "execution_count": 27,
     "metadata": {},
     "output_type": "execute_result"
    }
   ],
   "source": [
    "# ideally should be empty, shouldn't get back rows that don't match to existing\n",
    "merged_df.loc[merged_df[\"src\"].isna()]"
   ]
  },
  {
   "cell_type": "code",
   "execution_count": 28,
   "id": "47d8da7e-6553-4731-81b8-4e5cddeb0d38",
   "metadata": {},
   "outputs": [
    {
     "data": {
      "text/html": [
       "<div>\n",
       "<style scoped>\n",
       "    .dataframe tbody tr th:only-of-type {\n",
       "        vertical-align: middle;\n",
       "    }\n",
       "\n",
       "    .dataframe tbody tr th {\n",
       "        vertical-align: top;\n",
       "    }\n",
       "\n",
       "    .dataframe thead th {\n",
       "        text-align: right;\n",
       "    }\n",
       "</style>\n",
       "<table border=\"1\" class=\"dataframe\">\n",
       "  <thead>\n",
       "    <tr style=\"text-align: right;\">\n",
       "      <th></th>\n",
       "      <th>id</th>\n",
       "      <th>src</th>\n",
       "      <th>title</th>\n",
       "      <th>url</th>\n",
       "      <th>isAI</th>\n",
       "      <th>date</th>\n",
       "    </tr>\n",
       "  </thead>\n",
       "  <tbody>\n",
       "  </tbody>\n",
       "</table>\n",
       "</div>"
      ],
      "text/plain": [
       "Empty DataFrame\n",
       "Columns: [id, src, title, url, isAI, date]\n",
       "Index: []"
      ]
     },
     "execution_count": 28,
     "metadata": {},
     "output_type": "execute_result"
    }
   ],
   "source": [
    "# ideally should be empty, should get back all rows from orig\n",
    "merged_df.loc[merged_df[\"isAI\"].isna()]"
   ]
  },
  {
   "cell_type": "code",
   "execution_count": 29,
   "id": "b84f216b-39e2-48f2-a87a-513bebaacb06",
   "metadata": {},
   "outputs": [],
   "source": [
    "# # Connect to SQLite database\n",
    "conn = sqlite3.connect('articles.db')\n",
    "cursor = conn.cursor()\n",
    "\n",
    "# # Create table with a date column\n",
    "# cursor.execute('''\n",
    "# CREATE TABLE IF NOT EXISTS news_articles (\n",
    "#     id INTEGER PRIMARY KEY,\n",
    "#     src TEXT,\n",
    "#     title TEXT,\n",
    "#     url TEXT UNIQUE,\n",
    "#     isAI BOOLEAN,\n",
    "#     article_date DATE\n",
    "# )\n",
    "# ''')\n",
    "# conn.commit()\n",
    "# conn.close()"
   ]
  },
  {
   "cell_type": "code",
   "execution_count": 30,
   "id": "b0539856-30df-4420-a192-4f70104f68ff",
   "metadata": {},
   "outputs": [],
   "source": [
    "# Function to insert a new article\n",
    "def insert_article(cursor, src, title, url, isAI, article_date):\n",
    "    try:\n",
    "        cursor.execute(\"INSERT OR IGNORE INTO news_articles (src, title, url, isAI, article_date) VALUES (?, ?, ?, ?, ?)\",\n",
    "                       (src, title, url, isAI, article_date))\n",
    "        conn.commit()\n",
    "    except sqlite3.IntegrityError:\n",
    "        print(f\"Duplicate entry for URL: {url}\")\n",
    "    except Exception as err:\n",
    "        print(err)"
   ]
  },
  {
   "cell_type": "code",
   "execution_count": 31,
   "id": "64926d99-f0ce-475b-8f4e-7e9e69d494e1",
   "metadata": {},
   "outputs": [
    {
     "data": {
      "text/html": [
       "<div>\n",
       "<style scoped>\n",
       "    .dataframe tbody tr th:only-of-type {\n",
       "        vertical-align: middle;\n",
       "    }\n",
       "\n",
       "    .dataframe tbody tr th {\n",
       "        vertical-align: top;\n",
       "    }\n",
       "\n",
       "    .dataframe thead th {\n",
       "        text-align: right;\n",
       "    }\n",
       "</style>\n",
       "<table border=\"1\" class=\"dataframe\">\n",
       "  <thead>\n",
       "    <tr style=\"text-align: right;\">\n",
       "      <th></th>\n",
       "      <th>count(*)</th>\n",
       "    </tr>\n",
       "  </thead>\n",
       "  <tbody>\n",
       "    <tr>\n",
       "      <th>0</th>\n",
       "      <td>26843</td>\n",
       "    </tr>\n",
       "  </tbody>\n",
       "</table>\n",
       "</div>"
      ],
      "text/plain": [
       "   count(*)\n",
       "0     26843"
      ]
     },
     "execution_count": 31,
     "metadata": {},
     "output_type": "execute_result"
    }
   ],
   "source": [
    "pd.read_sql_query(\"select count(*) from news_articles\", conn)\n"
   ]
  },
  {
   "cell_type": "code",
   "execution_count": 32,
   "id": "34579779-7fee-4b3c-b9c6-07d9a43420b6",
   "metadata": {},
   "outputs": [],
   "source": [
    "for row in merged_df.itertuples():\n",
    "    # print(row)\n",
    "    insert_article(cursor, row.src, row.title, row.url, row.isAI, row.date)\n",
    "\n"
   ]
  },
  {
   "cell_type": "code",
   "execution_count": 33,
   "id": "d3ef5f42-5d1f-4e24-85e3-17f6c8b7f4ca",
   "metadata": {},
   "outputs": [
    {
     "data": {
      "text/html": [
       "<div>\n",
       "<style scoped>\n",
       "    .dataframe tbody tr th:only-of-type {\n",
       "        vertical-align: middle;\n",
       "    }\n",
       "\n",
       "    .dataframe tbody tr th {\n",
       "        vertical-align: top;\n",
       "    }\n",
       "\n",
       "    .dataframe thead th {\n",
       "        text-align: right;\n",
       "    }\n",
       "</style>\n",
       "<table border=\"1\" class=\"dataframe\">\n",
       "  <thead>\n",
       "    <tr style=\"text-align: right;\">\n",
       "      <th></th>\n",
       "      <th>count(*)</th>\n",
       "    </tr>\n",
       "  </thead>\n",
       "  <tbody>\n",
       "    <tr>\n",
       "      <th>0</th>\n",
       "      <td>27106</td>\n",
       "    </tr>\n",
       "  </tbody>\n",
       "</table>\n",
       "</div>"
      ],
      "text/plain": [
       "   count(*)\n",
       "0     27106"
      ]
     },
     "execution_count": 33,
     "metadata": {},
     "output_type": "execute_result"
    }
   ],
   "source": [
    "pd.read_sql_query(\"select count(*) from news_articles\", conn)\n"
   ]
  },
  {
   "cell_type": "code",
   "execution_count": 34,
   "id": "335e9b0f-52b2-4da1-9628-d17da20514bd",
   "metadata": {},
   "outputs": [
    {
     "data": {
      "text/html": [
       "<div>\n",
       "<style scoped>\n",
       "    .dataframe tbody tr th:only-of-type {\n",
       "        vertical-align: middle;\n",
       "    }\n",
       "\n",
       "    .dataframe tbody tr th {\n",
       "        vertical-align: top;\n",
       "    }\n",
       "\n",
       "    .dataframe thead th {\n",
       "        text-align: right;\n",
       "    }\n",
       "</style>\n",
       "<table border=\"1\" class=\"dataframe\">\n",
       "  <thead>\n",
       "    <tr style=\"text-align: right;\">\n",
       "      <th></th>\n",
       "      <th>id</th>\n",
       "      <th>src</th>\n",
       "      <th>title</th>\n",
       "      <th>url</th>\n",
       "      <th>isAI</th>\n",
       "      <th>article_date</th>\n",
       "    </tr>\n",
       "  </thead>\n",
       "  <tbody>\n",
       "    <tr>\n",
       "      <th>0</th>\n",
       "      <td>1</td>\n",
       "      <td>Ars Technica</td>\n",
       "      <td>OnePlus 12 gets $800 US release along with the...</td>\n",
       "      <td>https://arstechnica.com/gadgets/2024/01/oneplu...</td>\n",
       "      <td>0</td>\n",
       "      <td>2024-01-24</td>\n",
       "    </tr>\n",
       "    <tr>\n",
       "      <th>1</th>\n",
       "      <td>2</td>\n",
       "      <td>Ars Technica</td>\n",
       "      <td>Chrome can now organize your tab bar for you</td>\n",
       "      <td>https://arstechnica.com/gadgets/2024/01/chrome...</td>\n",
       "      <td>0</td>\n",
       "      <td>2024-01-24</td>\n",
       "    </tr>\n",
       "    <tr>\n",
       "      <th>2</th>\n",
       "      <td>3</td>\n",
       "      <td>Ars Technica</td>\n",
       "      <td>HP CEO evokes James Bond-style hack via ink ca...</td>\n",
       "      <td>https://arstechnica.com/gadgets/2024/01/hp-ceo...</td>\n",
       "      <td>0</td>\n",
       "      <td>2024-01-24</td>\n",
       "    </tr>\n",
       "    <tr>\n",
       "      <th>3</th>\n",
       "      <td>4</td>\n",
       "      <td>Ars Technica</td>\n",
       "      <td>iOS 17.3 adds multiple features originally pla...</td>\n",
       "      <td>https://arstechnica.com/gadgets/2024/01/ios-17...</td>\n",
       "      <td>0</td>\n",
       "      <td>2024-01-24</td>\n",
       "    </tr>\n",
       "    <tr>\n",
       "      <th>4</th>\n",
       "      <td>5</td>\n",
       "      <td>Ars Technica</td>\n",
       "      <td>Wild Apples: The 12 weirdest and rarest Macs e...</td>\n",
       "      <td>https://arstechnica.com/gadgets/2024/01/macint...</td>\n",
       "      <td>0</td>\n",
       "      <td>2024-01-24</td>\n",
       "    </tr>\n",
       "    <tr>\n",
       "      <th>...</th>\n",
       "      <td>...</td>\n",
       "      <td>...</td>\n",
       "      <td>...</td>\n",
       "      <td>...</td>\n",
       "      <td>...</td>\n",
       "      <td>...</td>\n",
       "    </tr>\n",
       "    <tr>\n",
       "      <th>27101</th>\n",
       "      <td>27102</td>\n",
       "      <td>The Register</td>\n",
       "      <td>Time to examine the anatomy of the British Lib...</td>\n",
       "      <td>https://www.theregister.com/2024/03/25/opinion...</td>\n",
       "      <td>0</td>\n",
       "      <td>2024-03-25</td>\n",
       "    </tr>\n",
       "    <tr>\n",
       "      <th>27102</th>\n",
       "      <td>27103</td>\n",
       "      <td>The Register</td>\n",
       "      <td>SoftIron rolls its own server virt stack to jo...</td>\n",
       "      <td>https://www.theregister.com/2024/03/25/softiro...</td>\n",
       "      <td>0</td>\n",
       "      <td>2024-03-25</td>\n",
       "    </tr>\n",
       "    <tr>\n",
       "      <th>27103</th>\n",
       "      <td>27104</td>\n",
       "      <td>The Register</td>\n",
       "      <td>That Asian meal you eat on holidays could laun...</td>\n",
       "      <td>https://www.theregister.com/2024/03/25/un_nort...</td>\n",
       "      <td>0</td>\n",
       "      <td>2024-03-25</td>\n",
       "    </tr>\n",
       "    <tr>\n",
       "      <th>27104</th>\n",
       "      <td>27105</td>\n",
       "      <td>The Register</td>\n",
       "      <td>DBA made ten years of data disappear with one ...</td>\n",
       "      <td>https://www.theregister.com/2024/03/25/who_me/</td>\n",
       "      <td>0</td>\n",
       "      <td>2024-03-25</td>\n",
       "    </tr>\n",
       "    <tr>\n",
       "      <th>27105</th>\n",
       "      <td>27106</td>\n",
       "      <td>The Register</td>\n",
       "      <td>How would you sum up a decade of Kubernetes?Lo...</td>\n",
       "      <td>https://www.theregister.com/2024/03/25/cncf_lo...</td>\n",
       "      <td>0</td>\n",
       "      <td>2024-03-25</td>\n",
       "    </tr>\n",
       "  </tbody>\n",
       "</table>\n",
       "<p>27106 rows × 6 columns</p>\n",
       "</div>"
      ],
      "text/plain": [
       "          id           src                                              title  \\\n",
       "0          1  Ars Technica  OnePlus 12 gets $800 US release along with the...   \n",
       "1          2  Ars Technica       Chrome can now organize your tab bar for you   \n",
       "2          3  Ars Technica  HP CEO evokes James Bond-style hack via ink ca...   \n",
       "3          4  Ars Technica  iOS 17.3 adds multiple features originally pla...   \n",
       "4          5  Ars Technica  Wild Apples: The 12 weirdest and rarest Macs e...   \n",
       "...      ...           ...                                                ...   \n",
       "27101  27102  The Register  Time to examine the anatomy of the British Lib...   \n",
       "27102  27103  The Register  SoftIron rolls its own server virt stack to jo...   \n",
       "27103  27104  The Register  That Asian meal you eat on holidays could laun...   \n",
       "27104  27105  The Register  DBA made ten years of data disappear with one ...   \n",
       "27105  27106  The Register  How would you sum up a decade of Kubernetes?Lo...   \n",
       "\n",
       "                                                     url  isAI article_date  \n",
       "0      https://arstechnica.com/gadgets/2024/01/oneplu...     0   2024-01-24  \n",
       "1      https://arstechnica.com/gadgets/2024/01/chrome...     0   2024-01-24  \n",
       "2      https://arstechnica.com/gadgets/2024/01/hp-ceo...     0   2024-01-24  \n",
       "3      https://arstechnica.com/gadgets/2024/01/ios-17...     0   2024-01-24  \n",
       "4      https://arstechnica.com/gadgets/2024/01/macint...     0   2024-01-24  \n",
       "...                                                  ...   ...          ...  \n",
       "27101  https://www.theregister.com/2024/03/25/opinion...     0   2024-03-25  \n",
       "27102  https://www.theregister.com/2024/03/25/softiro...     0   2024-03-25  \n",
       "27103  https://www.theregister.com/2024/03/25/un_nort...     0   2024-03-25  \n",
       "27104     https://www.theregister.com/2024/03/25/who_me/     0   2024-03-25  \n",
       "27105  https://www.theregister.com/2024/03/25/cncf_lo...     0   2024-03-25  \n",
       "\n",
       "[27106 rows x 6 columns]"
      ]
     },
     "execution_count": 34,
     "metadata": {},
     "output_type": "execute_result"
    }
   ],
   "source": [
    "df = pd.read_sql_query(\"select * from news_articles\", conn)\n",
    "df\n"
   ]
  },
  {
   "cell_type": "code",
   "execution_count": 35,
   "id": "4916dac6",
   "metadata": {},
   "outputs": [
    {
     "data": {
      "text/plain": [
       "107"
      ]
     },
     "execution_count": 35,
     "metadata": {},
     "output_type": "execute_result"
    }
   ],
   "source": [
    "len(merged_df.loc[merged_df[\"isAI\"]])"
   ]
  },
  {
   "cell_type": "code",
   "execution_count": 36,
   "id": "9d4c9c78-9c58-482b-b7d9-427ed82d9746",
   "metadata": {
    "scrolled": true
   },
   "outputs": [
    {
     "data": {
      "text/markdown": [
       "[9. Google's AI can ingest multiple books. What will it do with all that data? - Business Insider](https://www.businessinsider.com/google-ai-can-ingest-books-data-2024-3)"
      ],
      "text/plain": [
       "<IPython.core.display.Markdown object>"
      ]
     },
     "metadata": {},
     "output_type": "display_data"
    },
    {
     "data": {
      "text/markdown": [
       "[10. AI-powered Cherish Health has raised $26 million and is set to raise a $30 million Series B — and hasn't grabbed a single dollar from VCs. Here's why. - Business Insider](https://www.businessinsider.com/how-cherish-health-raised-26-million-without-venture-capital-2024-3)"
      ],
      "text/plain": [
       "<IPython.core.display.Markdown object>"
      ]
     },
     "metadata": {},
     "output_type": "display_data"
    },
    {
     "data": {
      "text/markdown": [
       "[17. Tech sector’s ambitions and AI cheer investors - FT Tech](https://www.ft.com/content/a7b92096-5147-4f13-8242-2df967bfc5b1)"
      ],
      "text/plain": [
       "<IPython.core.display.Markdown object>"
      ]
     },
     "metadata": {},
     "output_type": "display_data"
    },
    {
     "data": {
      "text/markdown": [
       "[27. Global Impact: cut off from high-end chips, how much is the US tech war hurting China’s AI ambitions as Sora highlights worrying gulf? - Feedly AI](https://www.scmp.com/economy/global-economy/article/3256557/global-impact-cut-high-end-chips-how-much-us-tech-war-hurting-chinas-ai-ambitions-sora-highlights)"
      ],
      "text/plain": [
       "<IPython.core.display.Markdown object>"
      ]
     },
     "metadata": {},
     "output_type": "display_data"
    },
    {
     "data": {
      "text/markdown": [
       "[28. Apple to install Baidu AI on its iPhone 16 and other products in China, report says - Feedly AI](https://www.scmp.com/tech/big-tech/article/3256652/apple-install-baidu-ai-its-iphone-16-and-other-products-china-report-says)"
      ],
      "text/plain": [
       "<IPython.core.display.Markdown object>"
      ]
     },
     "metadata": {},
     "output_type": "display_data"
    },
    {
     "data": {
      "text/markdown": [
       "[29. Tech Bytes: Researchers identify “enormous potential” for generative AI to be used in cyber security - Feedly AI](https://au.investing.com/news/stock-market-news/tech-bytes-researchers-identify-enormous-potential-for-generative-ai-to-be-used-in-cyber-security-3170456)"
      ],
      "text/plain": [
       "<IPython.core.display.Markdown object>"
      ]
     },
     "metadata": {},
     "output_type": "display_data"
    },
    {
     "data": {
      "text/markdown": [
       "[30. The tech industry can’t agree on what open source AI means. That’s a problem. - Feedly AI](https://www.technologyreview.com/2024/03/25/1090111/tech-industry-open-source-ai-definition-problem/)"
      ],
      "text/plain": [
       "<IPython.core.display.Markdown object>"
      ]
     },
     "metadata": {},
     "output_type": "display_data"
    },
    {
     "data": {
      "text/markdown": [
       "[32. Governor Lee Signs ELVIS Act into Law to Address AI Impact on Music Industry - Feedly AI](https://dicksoncountysource.com/governor-lee-signs-elvis-act-into-law-to-address-ai-impact-on-music-industry/)"
      ],
      "text/plain": [
       "<IPython.core.display.Markdown object>"
      ]
     },
     "metadata": {},
     "output_type": "display_data"
    },
    {
     "data": {
      "text/markdown": [
       "[33. JPMorgan sees further SMCI stock upside amid AI compute market leadership position - Feedly AI](https://ca.investing.com/news/stock-market-news/jpmorgan-sees-further-smci-stock-upside-amid-ai-compute-market-leadership-position-3319343)"
      ],
      "text/plain": [
       "<IPython.core.display.Markdown object>"
      ]
     },
     "metadata": {},
     "output_type": "display_data"
    },
    {
     "data": {
      "text/markdown": [
       "[35. Startup claims to boost LLM performance using standard memory instead of GPU HBM — but experts remain unconvinced by the numbers despite promising CXL technology - Feedly AI](https://www.techradar.com/pro/startup-claims-to-boost-llm-performance-using-standard-memory-instead-of-gpu-hbm-but-experts-remain-unconvinced-by-the-numbers-despite-promising-cxl-technology)"
      ],
      "text/plain": [
       "<IPython.core.display.Markdown object>"
      ]
     },
     "metadata": {},
     "output_type": "display_data"
    },
    {
     "data": {
      "text/markdown": [
       "[36. This New AI Predicts Your Life. Then It Predicts Your Death. - Feedly AI](https://www.sciencealert.com/this-new-ai-predicts-your-life-then-it-predicts-your-death)"
      ],
      "text/plain": [
       "<IPython.core.display.Markdown object>"
      ]
     },
     "metadata": {},
     "output_type": "display_data"
    },
    {
     "data": {
      "text/markdown": [
       "[37. Healthcare Professionals Convene on Who to Blame for AI-Assisted Doctor Malpractices - Feedly AI](https://www.techtimes.com/articles/302902/20240325/healthcare-professionals-convene-who-blame-ai-assisted-doctor-malpractices.htm)"
      ],
      "text/plain": [
       "<IPython.core.display.Markdown object>"
      ]
     },
     "metadata": {},
     "output_type": "display_data"
    },
    {
     "data": {
      "text/markdown": [
       "[39. Tim Cook says Apple recycling already depends on AI - Feedly AI](https://appleinsider.com/articles/24/03/25/tim-cook-says-apple-recycling-already-depends-on-ai)"
      ],
      "text/plain": [
       "<IPython.core.display.Markdown object>"
      ]
     },
     "metadata": {},
     "output_type": "display_data"
    },
    {
     "data": {
      "text/markdown": [
       "[40. Saudi Arabia's First Humanoid Robot 'Sara' Embodies Nation's Values in Design - Feedly AI](https://www.techtimes.com/articles/302898/20240324/saudi-arabias-first-humanoid-robot-sara-embodies-nations-values-design.htm)"
      ],
      "text/plain": [
       "<IPython.core.display.Markdown object>"
      ]
     },
     "metadata": {},
     "output_type": "display_data"
    },
    {
     "data": {
      "text/markdown": [
       "[41. A look at the rise of free-to-use AI chatbots claiming to help with teens' mental health struggles, as experts disagree about whether the chatbots are effective (Matthew Perrone/Associated Press) - Feedly AI](https://apnews.com/article/chatbots-mental-health-therapy-counseling-ai-73feb819ff52a51d53fee117c3207219)"
      ],
      "text/plain": [
       "<IPython.core.display.Markdown object>"
      ]
     },
     "metadata": {},
     "output_type": "display_data"
    },
    {
     "data": {
      "text/markdown": [
       "[43. Key takeaways from Nvidia GTC 2024 - SiliconANGLE - Feedly AI](https://siliconangle.com/2024/03/25/key-takeaways-nvidia-gtc-2024/)"
      ],
      "text/plain": [
       "<IPython.core.display.Markdown object>"
      ]
     },
     "metadata": {},
     "output_type": "display_data"
    },
    {
     "data": {
      "text/markdown": [
       "[44. eGain unveils AssistGPT for customer service automation - Feedly AI](https://au.investing.com/news/stock-market-news/egain-unveils-assistgpt-for-customer-service-automation-93CH-3170816)"
      ],
      "text/plain": [
       "<IPython.core.display.Markdown object>"
      ]
     },
     "metadata": {},
     "output_type": "display_data"
    },
    {
     "data": {
      "text/markdown": [
       "[46. Introducing PARAMANU-AYN, India’s first Indigenously Developed Legal AI - Feedly AI](https://analyticsindiamag.com/introducing-paramanu-ayn-indias-first-indigenously-developed-legal-ai/)"
      ],
      "text/plain": [
       "<IPython.core.display.Markdown object>"
      ]
     },
     "metadata": {},
     "output_type": "display_data"
    },
    {
     "data": {
      "text/markdown": [
       "[48. The biggest AI companies right now - Feedly AI](https://qz.com/top-us-based-ai-companies-market-cap-microsoft-nvidia-1851359228)"
      ],
      "text/plain": [
       "<IPython.core.display.Markdown object>"
      ]
     },
     "metadata": {},
     "output_type": "display_data"
    },
    {
     "data": {
      "text/markdown": [
       "[49. Can SoundHound AI (NASDAQ:SOUN) Live Up to its High Valuation? - Feedly AI](https://www.tipranks.com/news/can-soundhound-ai-nasdaqsoun-live-up-to-its-high-valuation)"
      ],
      "text/plain": [
       "<IPython.core.display.Markdown object>"
      ]
     },
     "metadata": {},
     "output_type": "display_data"
    },
    {
     "data": {
      "text/markdown": [
       "[51. Ask the Expert: How today’s founders must use AI to build their startups - Feedly AI](https://www.unionleader.com/news/business/ask_the_expert/ask-the-expert-how-today-s-founders-must-use-ai-to-build-their-startups/article_40e156f0-e21e-11ee-883d-4f1fcc5230db.html)"
      ],
      "text/plain": [
       "<IPython.core.display.Markdown object>"
      ]
     },
     "metadata": {},
     "output_type": "display_data"
    },
    {
     "data": {
      "text/markdown": [
       "[52. A Deepfake Nude Generator Reveals a Chilling Look at Its Victims - Feedly AI](https://www.wired.com/story/deepfake-nude-generator-chilling-look-at-its-victims/)"
      ],
      "text/plain": [
       "<IPython.core.display.Markdown object>"
      ]
     },
     "metadata": {},
     "output_type": "display_data"
    },
    {
     "data": {
      "text/markdown": [
       "[53. The Future of AI in India is Not That Bleak! - Feedly AI](https://analyticsindiamag.com/the-future-of-ai-in-india-is-not-that-bleak/)"
      ],
      "text/plain": [
       "<IPython.core.display.Markdown object>"
      ]
     },
     "metadata": {},
     "output_type": "display_data"
    },
    {
     "data": {
      "text/markdown": [
       "[54. “Emergent” abilities in LLMs actually develop gradually and predictably – study - Feedly AI](https://www.quantamagazine.org/how-quickly-do-large-language-models-learn-unexpected-skills-20240213/)"
      ],
      "text/plain": [
       "<IPython.core.display.Markdown object>"
      ]
     },
     "metadata": {},
     "output_type": "display_data"
    },
    {
     "data": {
      "text/markdown": [
       "[56. G7 consensus reached on advancing AI for sustainable development - Feedly AI](https://www.eco-business.com/press-releases/g7-consensus-reached-on-advancing-ai-for-sustainable-development/)"
      ],
      "text/plain": [
       "<IPython.core.display.Markdown object>"
      ]
     },
     "metadata": {},
     "output_type": "display_data"
    },
    {
     "data": {
      "text/markdown": [
       "[57. Wizpr smart ring provides discreet way to talk to AI - Feedly AI](https://www.dezeen.com/2024/03/25/wizpr-smart-ring-vtouch-ai-design-technology/)"
      ],
      "text/plain": [
       "<IPython.core.display.Markdown object>"
      ]
     },
     "metadata": {},
     "output_type": "display_data"
    },
    {
     "data": {
      "text/markdown": [
       "[58. OpenAI boss takes Sora tech to Hollywood, report claims - Feedly AI](https://www.digitaltrends.com/computing/openai-boss-takes-sora-to-hollywood/)"
      ],
      "text/plain": [
       "<IPython.core.display.Markdown object>"
      ]
     },
     "metadata": {},
     "output_type": "display_data"
    },
    {
     "data": {
      "text/markdown": [
       "[59. Report: Sora AI video generator goes to Hollywood - Feedly AI](https://www.diyphotography.net/report-sora-ai-video-generator-goes-to-hollywood/)"
      ],
      "text/plain": [
       "<IPython.core.display.Markdown object>"
      ]
     },
     "metadata": {},
     "output_type": "display_data"
    },
    {
     "data": {
      "text/markdown": [
       "[60. ChatGPT linked to declining academic performance and memory loss in new study - Feedly AI](https://www.psypost.org/chatgpt-linked-to-declining-academic-performance-and-memory-loss-in-new-study/)"
      ],
      "text/plain": [
       "<IPython.core.display.Markdown object>"
      ]
     },
     "metadata": {},
     "output_type": "display_data"
    },
    {
     "data": {
      "text/markdown": [
       "[61. 'It Terrifies Me': Clinical Psychologist on Tech Overuse in the Age of AI - Feedly AI](https://www.edweek.org/leadership/it-terrifies-me-clinical-psychologist-on-tech-overuse-in-the-age-of-ai/2024/03)"
      ],
      "text/plain": [
       "<IPython.core.display.Markdown object>"
      ]
     },
     "metadata": {},
     "output_type": "display_data"
    },
    {
     "data": {
      "text/markdown": [
       "[63. How generative AI can create business processes on-the-fly - Feedly AI](https://www.ciodive.com/spons/how-generative-ai-can-create-business-processes-on-the-fly/711010/)"
      ],
      "text/plain": [
       "<IPython.core.display.Markdown object>"
      ]
     },
     "metadata": {},
     "output_type": "display_data"
    },
    {
     "data": {
      "text/markdown": [
       "[64. Samsung to Battle Nvidia in 2025 With Its New Mach-1 AI Chip - Feedly AI](https://www.extremetech.com/computing/samsung-to-battle-nvidia-in-2025-with-its-new-mach-1-ai-chip)"
      ],
      "text/plain": [
       "<IPython.core.display.Markdown object>"
      ]
     },
     "metadata": {},
     "output_type": "display_data"
    },
    {
     "data": {
      "text/markdown": [
       "[65. Why we’re fighting to make sure labor unions have a voice in how AI is implemented - Feedly AI](https://www.fastcompany.com/91067625/why-were-fighting-to-make-sure-labor-unions-have-a-voice-in-how-ai-is-implemented)"
      ],
      "text/plain": [
       "<IPython.core.display.Markdown object>"
      ]
     },
     "metadata": {},
     "output_type": "display_data"
    },
    {
     "data": {
      "text/markdown": [
       "[66. Meet a $496 BillionArtificial Intelligence(AI) Stock That's Not in the \"Magnificent Seven\" - Feedly AI](https://www.fool.com/investing/2024/03/25/artificial-intelligence-ai-stock-magnificent-seven/)"
      ],
      "text/plain": [
       "<IPython.core.display.Markdown object>"
      ]
     },
     "metadata": {},
     "output_type": "display_data"
    },
    {
     "data": {
      "text/markdown": [
       "[67. Forget Super Micro Computer: Billionaires Are Selling It and Buying These 6Artificial Intelligence(AI) Stocks Instead - Feedly AI](https://www.fool.com/investing/2024/03/25/forget-super-micro-computer-billionaire-sell-it-ai/)"
      ],
      "text/plain": [
       "<IPython.core.display.Markdown object>"
      ]
     },
     "metadata": {},
     "output_type": "display_data"
    },
    {
     "data": {
      "text/markdown": [
       "[68. Micron Is Sold Out of High-Bandwidth Memory Chips -- What Does That Mean for Nvidia's AI Dominance? - Feedly AI](https://www.fool.com/investing/2024/03/25/micron-sold-high-bandwidth-memory-nvidia/)"
      ],
      "text/plain": [
       "<IPython.core.display.Markdown object>"
      ]
     },
     "metadata": {},
     "output_type": "display_data"
    },
    {
     "data": {
      "text/markdown": [
       "[69. Prompt Engineering Embraces New Essay-Compression Technique That Expands On Getting Very Constructive Generative AI Results - Feedly AI](https://www.forbes.com/sites/lanceeliot/2024/03/25/prompt-engineering-embraces-new-essay-compression-technique-that-expands-on-getting-very-constructive-generative-ai-results/)"
      ],
      "text/plain": [
       "<IPython.core.display.Markdown object>"
      ]
     },
     "metadata": {},
     "output_type": "display_data"
    },
    {
     "data": {
      "text/markdown": [
       "[70. What Every CEO Needs To Know About The New AI Act - Feedly AI](https://www.forbes.com/sites/bernardmarr/2024/03/25/what-every-ceo-needs-to-know-about-the-new-ai-act/)"
      ],
      "text/plain": [
       "<IPython.core.display.Markdown object>"
      ]
     },
     "metadata": {},
     "output_type": "display_data"
    },
    {
     "data": {
      "text/markdown": [
       "[71. One year in, Khan Academy’s AI has 65,000 students, and is still learning new skills - Feedly AI](https://www.fastcompany.com/91066731/one-year-in-khan-academys-ai-has-65000-students-and-is-still-learning-new-skills-itself)"
      ],
      "text/plain": [
       "<IPython.core.display.Markdown object>"
      ]
     },
     "metadata": {},
     "output_type": "display_data"
    },
    {
     "data": {
      "text/markdown": [
       "[72. NVIDIA to create AI ‘agents’ that outperform human nurses - Feedly AI](https://newatlas.com/technology/nvidia-hippocratic-ai-nurses/)"
      ],
      "text/plain": [
       "<IPython.core.display.Markdown object>"
      ]
     },
     "metadata": {},
     "output_type": "display_data"
    },
    {
     "data": {
      "text/markdown": [
       "[73. Tesla CEO Elon Musk thought that OpenAI would fail, claims Sam Altman - Feedly AI](https://me.mashable.com/tech/39822/tesla-ceo-elon-musk-thought-that-openai-would-fail-claims-sam-altman)"
      ],
      "text/plain": [
       "<IPython.core.display.Markdown object>"
      ]
     },
     "metadata": {},
     "output_type": "display_data"
    },
    {
     "data": {
      "text/markdown": [
       "[77. Meta AI Proposes Reverse Training: A Simple and EffectiveArtificial IntelligenceTraining Method to Help Remedy the Reversal Curse in LLMs - Feedly AI](https://www.marktechpost.com/2024/03/24/meta-ai-proposes-reverse-training-a-simple-and-effective-artificial-intelligence-training-method-to-help-remedy-the-reversal-curse-in-llms/)"
      ],
      "text/plain": [
       "<IPython.core.display.Markdown object>"
      ]
     },
     "metadata": {},
     "output_type": "display_data"
    },
    {
     "data": {
      "text/markdown": [
       "[78. Learn how to create brilliant AI text, images, and video with this $30 AI educational bundle - Feedly AI](https://www.macworld.com/article/2277994/learn-how-to-create-brilliant-ai-text-images-and-video-with-this-30-ai-educational-bundle.html)"
      ],
      "text/plain": [
       "<IPython.core.display.Markdown object>"
      ]
     },
     "metadata": {},
     "output_type": "display_data"
    },
    {
     "data": {
      "text/markdown": [
       "[80. The Economist Who Believes AI Will Be Great for the Middle Class - Feedly AI](https://www.bloomberg.com/news/articles/2024-03-25/the-economist-who-believes-ai-will-be-great-for-the-middle-class)"
      ],
      "text/plain": [
       "<IPython.core.display.Markdown object>"
      ]
     },
     "metadata": {},
     "output_type": "display_data"
    },
    {
     "data": {
      "text/markdown": [
       "[83. This AI model spots workplace accidents before they happen - Feedly AI](https://thenextweb.com/news/buddywise-ai-startup-spots-workplace-accidents)"
      ],
      "text/plain": [
       "<IPython.core.display.Markdown object>"
      ]
     },
     "metadata": {},
     "output_type": "display_data"
    },
    {
     "data": {
      "text/markdown": [
       "[84. Drug-Resistant Bacteria Stymied by AI-Designed Antibiotics - Feedly AI](https://www.genengnews.com/topics/infectious-diseases/drug-resistant-bacteria-stymied-by-ai-designed-antibiotics/)"
      ],
      "text/plain": [
       "<IPython.core.display.Markdown object>"
      ]
     },
     "metadata": {},
     "output_type": "display_data"
    },
    {
     "data": {
      "text/markdown": [
       "[85. Copilot Pro GPTs vs ChatGPT Plus GPTs in-depth comparison guide - Feedly AI](https://www.geeky-gadgets.com/copilot-pro-gpts-vs-chatgpt-plus-gpts/)"
      ],
      "text/plain": [
       "<IPython.core.display.Markdown object>"
      ]
     },
     "metadata": {},
     "output_type": "display_data"
    },
    {
     "data": {
      "text/markdown": [
       "[86. Amazon wants to personalize advanced AI for you - Feedly AI](https://www.axios.com/2024/03/25/amazon-agi-alexa-personal-ai)"
      ],
      "text/plain": [
       "<IPython.core.display.Markdown object>"
      ]
     },
     "metadata": {},
     "output_type": "display_data"
    },
    {
     "data": {
      "text/markdown": [
       "[87. iOS 18 won't have a big focus on 'ChatGPT-like generative AI features' — New leak says we should expect ' a slew of AI tools that help manage your daily life' - Feedly AI](https://www.imore.com/ios/ios-18/ios-18-wont-have-a-big-focus-on-chatgpt-like-generative-ai-features-new-leak-says-we-should-expect-a-slew-of-ai-tools-that-help-manage-your-daily-life)"
      ],
      "text/plain": [
       "<IPython.core.display.Markdown object>"
      ]
     },
     "metadata": {},
     "output_type": "display_data"
    },
    {
     "data": {
      "text/markdown": [
       "[89. WhatsApp testing AI-powered image editing feature for messenger app - Google News](https://news.google.com/articles/CBMic2h0dHBzOi8vd3d3LmRlY2NhbmhlcmFsZC5jb20vdGVjaG5vbG9neS93aGF0c2FwcC10ZXN0aW5nLWFpLXBvd2VyZWQtaW1hZ2UtZWRpdGluZy1mZWF0dXJlLWZvci1tZXNzZW5nZXItYXBwLTI5NTEyNjPSAQA)"
      ],
      "text/plain": [
       "<IPython.core.display.Markdown object>"
      ]
     },
     "metadata": {},
     "output_type": "display_data"
    },
    {
     "data": {
      "text/markdown": [
       "[91. Exclusive | Inside the Operating Room: Doctors Test a Revolutionary Brain-Computer Implant - Google News](https://news.google.com/articles/CBMicmh0dHBzOi8vd3d3Lndzai5jb20vc2NpZW5jZS9pbnNpZGUtdGhlLW9wZXJhdGluZy1yb29tLWRvY3RvcnMtdGVzdC1hLXJldm9sdXRpb25hcnktYnJhaW4tY29tcHV0ZXItaW1wbGFudC1mNjllYjBjMtIBAA)"
      ],
      "text/plain": [
       "<IPython.core.display.Markdown object>"
      ]
     },
     "metadata": {},
     "output_type": "display_data"
    },
    {
     "data": {
      "text/markdown": [
       "[92. Swimming in the deep end of artificial intelligence - Google News](https://news.google.com/articles/CBMicmh0dHBzOi8vd3d3LnNhbmRpZWdvdW5pb250cmlidW5lLmNvbS9idXNpbmVzcy9zdG9yeS8yMDI0LTAzLTI1L3N3aW1taW5nLWluLXRoZS1kZWVwLWVuZC1vZi1hcnRpZmljaWFsLWludGVsbGlnZW5jZdIBAA)"
      ],
      "text/plain": [
       "<IPython.core.display.Markdown object>"
      ]
     },
     "metadata": {},
     "output_type": "display_data"
    },
    {
     "data": {
      "text/markdown": [
       "[93. WhatsApp will reportedly let you use Meta AI straight from its search bar - Google News](https://news.google.com/articles/CBMicmh0dHBzOi8vd3d3LnBob25lYXJlbmEuY29tL25ld3Mvd2hhdHNhcHAtd2lsbC1yZXBvcnRlZGx5LWxldC15b3UtdXNlLW1ldGEtYWktc3RyYWlnaHQtZnJvbS1pdHMtc2VhcmNoLWJhcl9pZDE1NjYwM9IBAA)"
      ],
      "text/plain": [
       "<IPython.core.display.Markdown object>"
      ]
     },
     "metadata": {},
     "output_type": "display_data"
    },
    {
     "data": {
      "text/markdown": [
       "[96. University of South Florida to launch artificial intelligence college - Google News](https://news.google.com/articles/CBMib2h0dHBzOi8vd3d3LmF4aW9zLmNvbS9sb2NhbC90YW1wYS1iYXkvMjAyNC8wMy8yMS91bml2ZXJzaXR5LW9mLXNvdXRoLWZsb3JpZGEtYWktY29sbGVnZS1hcnRpZmljaWFsLWludGVsbGlnZW5jZdIBAA)"
      ],
      "text/plain": [
       "<IPython.core.display.Markdown object>"
      ]
     },
     "metadata": {},
     "output_type": "display_data"
    },
    {
     "data": {
      "text/markdown": [
       "[97. AI Will Mean Cheaper Food - WSJ - Google News](https://news.google.com/articles/CBMib2h0dHBzOi8vd3d3Lndzai5jb20vYXJ0aWNsZXMvYWktd2lsbC1tZWFuLWNoZWFwZXItZm9vZC1tb3JlLWVmZmljaWVudC1mYXJtcy1sb2dpc3RpY3MtZmVydGlsaXplci13YXRlci05Mjk1NTZhM9IBAA)"
      ],
      "text/plain": [
       "<IPython.core.display.Markdown object>"
      ]
     },
     "metadata": {},
     "output_type": "display_data"
    },
    {
     "data": {
      "text/markdown": [
       "[98. AI learned how to sway humans by watching a cooperative cooking game - Google News](https://news.google.com/articles/CBMiamh0dHBzOi8vd3d3LnNjaWVuY2VuZXdzLm9yZy9hcnRpY2xlL2FpLWxlYXJuaW5nLWNvb3BlcmF0aXZlLWNvb2tpbmctZ2FtZS1hcnRpZmljYWwtaW50ZWxsaWdlbmNlLW92ZXJjb29rZWTSAQA)"
      ],
      "text/plain": [
       "<IPython.core.display.Markdown object>"
      ]
     },
     "metadata": {},
     "output_type": "display_data"
    },
    {
     "data": {
      "text/markdown": [
       "[100. How Generative AI Will Change The Jobs Of Journalists - Google News](https://news.google.com/articles/CBMiamh0dHBzOi8vd3d3LmZvcmJlcy5jb20vc2l0ZXMvYmVybmFyZG1hcnIvMjAyNC8wMy8yMi9ob3ctZ2VuZXJhdGl2ZS1haS13aWxsLWNoYW5nZS10aGUtam9icy1vZi1qb3VybmFsaXN0cy_SAQA)"
      ],
      "text/plain": [
       "<IPython.core.display.Markdown object>"
      ]
     },
     "metadata": {},
     "output_type": "display_data"
    },
    {
     "data": {
      "text/markdown": [
       "[102. FAQ: Ethical dilemmas around the use of generative AI in reporting - Google News](https://news.google.com/articles/CBMibmh0dHBzOi8vb25saW5lam91cm5hbGlzbWJsb2cuY29tLzIwMjQvMDMvMjMvZmFxLWV0aGljYWwtZGlsZW1tYXMtYXJvdW5kLXRoZS11c2Utb2YtZ2VuZXJhdGl2ZS1haS1pbi1yZXBvcnRpbmcv0gEA)"
      ],
      "text/plain": [
       "<IPython.core.display.Markdown object>"
      ]
     },
     "metadata": {},
     "output_type": "display_data"
    },
    {
     "data": {
      "text/markdown": [
       "[104. Romanian state agency turns to AI to help farmers tap EU funds - Google News](https://news.google.com/articles/CBMibWh0dHBzOi8vd3d3LnJldXRlcnMuY29tL2J1c2luZXNzL2ZpbmFuY2Uvcm9tYW5pYW4tc3RhdGUtYWdlbmN5LXR1cm5zLWFpLWhlbHAtZmFybWVycy10YXAtZXUtZnVuZHMtMjAyNC0wMy0yNS_SAQA)"
      ],
      "text/plain": [
       "<IPython.core.display.Markdown object>"
      ]
     },
     "metadata": {},
     "output_type": "display_data"
    },
    {
     "data": {
      "text/markdown": [
       "[106. AgentLite by Salesforce AI Research: Transforming LLM Agent Development with an Open-Source, Lightweight, Task-Oriented Library for Enhanced Innovation - Google News](https://news.google.com/articles/CBMivQFodHRwczovL3d3dy5tYXJrdGVjaHBvc3QuY29tLzIwMjQvMDMvMjQvYWdlbnRsaXRlLWJ5LXNhbGVzZm9yY2UtYWktcmVzZWFyY2gtdHJhbnNmb3JtaW5nLWxsbS1hZ2VudC1kZXZlbG9wbWVudC13aXRoLWFuLW9wZW4tc291cmNlLWxpZ2h0d2VpZ2h0LXRhc2stb3JpZW50ZWQtbGlicmFyeS1mb3ItZW5oYW5jZWQtaW5ub3ZhdGlvbi_SAcEBaHR0cHM6Ly93d3cubWFya3RlY2hwb3N0LmNvbS8yMDI0LzAzLzI0L2FnZW50bGl0ZS1ieS1zYWxlc2ZvcmNlLWFpLXJlc2VhcmNoLXRyYW5zZm9ybWluZy1sbG0tYWdlbnQtZGV2ZWxvcG1lbnQtd2l0aC1hbi1vcGVuLXNvdXJjZS1saWdodHdlaWdodC10YXNrLW9yaWVudGVkLWxpYnJhcnktZm9yLWVuaGFuY2VkLWlubm92YXRpb24vP2FtcA)"
      ],
      "text/plain": [
       "<IPython.core.display.Markdown object>"
      ]
     },
     "metadata": {},
     "output_type": "display_data"
    },
    {
     "data": {
      "text/markdown": [
       "[109. ICON Showcases Construction Robotics, Materials and Software From: ICON - Google News](https://news.google.com/articles/CBMijQFodHRwczovL3d3dy5mb3Jjb25zdHJ1Y3Rpb25wcm9zLmNvbS9jb25zdHJ1Y3Rpb24tdGVjaG5vbG9neS9wcm9kdWN0LzIyODkwMzgxL2ljb24taWNvbi1zaG93Y2FzZXMtY29uc3RydWN0aW9uLXJvYm90aWNzLW1hdGVyaWFscy1hbmQtc29mdHdhcmXSAQA)"
      ],
      "text/plain": [
       "<IPython.core.display.Markdown object>"
      ]
     },
     "metadata": {},
     "output_type": "display_data"
    },
    {
     "data": {
      "text/markdown": [
       "[113. Apple’s Tim Cook tells China forum AI is key for climate battle - Google News](https://news.google.com/articles/CBMihAFodHRwczovL20uZWNvbm9taWN0aW1lcy5jb20vdGVjaC90ZWNobm9sb2d5L2FwcGxlcy10aW0tY29vay10ZWxscy1jaGluYS1mb3J1bS1haS1pcy1rZXktZm9yLWNsaW1hdGUtYmF0dGxlL2FydGljbGVzaG93LzEwODc1MzU5NS5jbXPSAYgBaHR0cHM6Ly9tLmVjb25vbWljdGltZXMuY29tL3RlY2gvdGVjaG5vbG9neS9hcHBsZXMtdGltLWNvb2stdGVsbHMtY2hpbmEtZm9ydW0tYWktaXMta2V5LWZvci1jbGltYXRlLWJhdHRsZS9hbXBfYXJ0aWNsZXNob3cvMTA4NzUzNTk1LmNtcw)"
      ],
      "text/plain": [
       "<IPython.core.display.Markdown object>"
      ]
     },
     "metadata": {},
     "output_type": "display_data"
    },
    {
     "data": {
      "text/markdown": [
       "[114. Samsung to launch AI chips to challenge Nvidia, others — 'Mach 1' chips to launch in early 2025 - Google News](https://news.google.com/articles/CBMinQFodHRwczovL3d3dy50b21zaGFyZHdhcmUuY29tL3RlY2gtaW5kdXN0cnkvYXJ0aWZpY2lhbC1pbnRlbGxpZ2VuY2Uvc2Ftc3VuZy10by1sYXVuY2gtYWktY2hpcHMtdG8tY2hhbGxlbmdlLW52aWRpYS1vdGhlcnMtbWFjaC0xLWNoaXBzLXRvLWxhdW5jaC1pbi1lYXJseS0yMDI10gEA)"
      ],
      "text/plain": [
       "<IPython.core.display.Markdown object>"
      ]
     },
     "metadata": {},
     "output_type": "display_data"
    },
    {
     "data": {
      "text/markdown": [
       "[119. Humans and machines team up in new robotics lab - Google News](https://news.google.com/articles/CBMipwFodHRwczovL3Vybm93LnJpY2htb25kLmVkdS9mZWF0dXJlcy9hcnRpY2xlLy0vMjQyMzkvaHVtYW5zLWFuZC1tYWNoaW5lcy10ZWFtLXVwLWluLW5ldy1yb2JvdGljcy1sYWIuaHRtbD91dG1fc291cmNlPXd3dyZ1dG1fbWVkaXVtPXJlZmVycmFsJnV0bV9jYW1wYWlnbj1mZWF0dXJlcy1zdG9yedIBAA)"
      ],
      "text/plain": [
       "<IPython.core.display.Markdown object>"
      ]
     },
     "metadata": {},
     "output_type": "display_data"
    },
    {
     "data": {
      "text/markdown": [
       "[121. Does Sora matter in the ever-moving AI race? Could it break down barriers? - Google News](https://news.google.com/articles/CBMinQFodHRwczovL3d3dy5zY21wLmNvbS9lY29ub215L2dsb2JhbC1lY29ub215L2FydGljbGUvMzI1NjU1Ny9nbG9iYWwtaW1wYWN0LWN1dC1oaWdoLWVuZC1jaGlwcy1ob3ctbXVjaC11cy10ZWNoLXdhci1odXJ0aW5nLWNoaW5hcy1haS1hbWJpdGlvbnMtc29yYS1oaWdobGlnaHRz0gGdAWh0dHBzOi8vYW1wLnNjbXAuY29tL2Vjb25vbXkvZ2xvYmFsLWVjb25vbXkvYXJ0aWNsZS8zMjU2NTU3L2dsb2JhbC1pbXBhY3QtY3V0LWhpZ2gtZW5kLWNoaXBzLWhvdy1tdWNoLXVzLXRlY2gtd2FyLWh1cnRpbmctY2hpbmFzLWFpLWFtYml0aW9ucy1zb3JhLWhpZ2hsaWdodHM)"
      ],
      "text/plain": [
       "<IPython.core.display.Markdown object>"
      ]
     },
     "metadata": {},
     "output_type": "display_data"
    },
    {
     "data": {
      "text/markdown": [
       "[122. Teaching Machines To Be Human, And Humans To Live With Machines - Google News](https://news.google.com/articles/CBMidWh0dHBzOi8vd3d3LmZvcmJlcy5jb20vc2l0ZXMvYmVuamFtaW53b2xmZi8yMDI0LzAzLzI0L3RlYWNoaW5nLW1hY2hpbmVzLXRvLWJlLWh1bWFuLWFuZC1odW1hbnMtdG8tbGl2ZS13aXRoLW1hY2hpbmVzL9IBAA)"
      ],
      "text/plain": [
       "<IPython.core.display.Markdown object>"
      ]
     },
     "metadata": {},
     "output_type": "display_data"
    },
    {
     "data": {
      "text/markdown": [
       "[123. Apple considering alliances with Chinese tech giant and rivals amid AI war - Google News](https://news.google.com/articles/CBMieWh0dHBzOi8vd3d3LnNjbXAuY29tL3RlY2gvYmlnLXRlY2gvYXJ0aWNsZS8zMjU2NDU1L2FwcGxlLWNvbnNpZGVyaW5nLWFsbGlhbmNlcy1jaGluZXNlLXRlY2gtZ2lhbnQtYW5kLXJpdmFscy1haS13YXItaGVhdHPSAQA)"
      ],
      "text/plain": [
       "<IPython.core.display.Markdown object>"
      ]
     },
     "metadata": {},
     "output_type": "display_data"
    },
    {
     "data": {
      "text/markdown": [
       "[124. Resistance is futile, but maybe not with artificial intelligence - Google News](https://news.google.com/articles/CBMie2h0dHBzOi8vdGVjaC5oaW5kdXN0YW50aW1lcy5jb20vb3Bpbmlvbi9yZXNpc3RhbmNlLWlzLWZ1dGlsZS1idXQtbWF5YmUtbm90LXdpdGgtYXJ0aWZpY2lhbC1pbnRlbGxpZ2VuY2UtNzE3MTEzMDUyMzIwNzEuaHRtbNIBf2h0dHBzOi8vdGVjaC5oaW5kdXN0YW50aW1lcy5jb20vYW1wL29waW5pb24vcmVzaXN0YW5jZS1pcy1mdXRpbGUtYnV0LW1heWJlLW5vdC13aXRoLWFydGlmaWNpYWwtaW50ZWxsaWdlbmNlLTcxNzExMzA1MjMyMDcxLmh0bWw)"
      ],
      "text/plain": [
       "<IPython.core.display.Markdown object>"
      ]
     },
     "metadata": {},
     "output_type": "display_data"
    },
    {
     "data": {
      "text/markdown": [
       "[134. Saudis To Bet Forty Billion On AI, Nvidia's Nerd Woodstock, State Of Unreal - Google News](https://news.google.com/articles/CBMifWh0dHBzOi8vd3d3LmZvcmJlcy5jb20vc2l0ZXMvY2hhcmxpZWZpbmsvMjAyNC8wMy8yMS9zYXVkaXMtdG8tYmV0LWZvcnR5LWJpbGxpb24tb24tYWktbnZpZGlhcy1uZXJkLXdvb2RzdG9jay1zdGF0ZS1vZi11bnJlYWwv0gEA)"
      ],
      "text/plain": [
       "<IPython.core.display.Markdown object>"
      ]
     },
     "metadata": {},
     "output_type": "display_data"
    },
    {
     "data": {
      "text/markdown": [
       "[135. iOS 18 could be getting generative AI features in biggest OS update yet - Google News](https://news.google.com/articles/CBMiaGh0dHBzOi8vd3d3LnRvbXNndWlkZS5jb20vcGhvbmVzL2lvcy0xOC1jb3VsZC1iZS1nZXR0aW5nLWdlbmVyYXRpdmUtYWktZmVhdHVyZXMtaW4tYmlnZ2VzdC1vcy11cGRhdGUteWV00gEA)"
      ],
      "text/plain": [
       "<IPython.core.display.Markdown object>"
      ]
     },
     "metadata": {},
     "output_type": "display_data"
    },
    {
     "data": {
      "text/markdown": [
       "[136. Snapdragon 7+ Gen 3 chip brings on-device AI for affordable high-end phones - Google News](https://news.google.com/articles/CBMiT2h0dHBzOi8vd3d3LnNhbW1vYmlsZS5jb20vbmV3cy9zbmFwZHJhZ29uLTctcGx1cy1nZW4tMy1jaGlwLWFpLWZsYWdzaGlwLWtpbGxlci_SAQA)"
      ],
      "text/plain": [
       "<IPython.core.display.Markdown object>"
      ]
     },
     "metadata": {},
     "output_type": "display_data"
    },
    {
     "data": {
      "text/markdown": [
       "[141. Redefining Movement: The Dance of Humans and Robots - Google News](https://news.google.com/articles/CBMiSWh0dHBzOi8veXRlY2gubmV3cy9lbi9yZWRlZmluaW5nLW1vdmVtZW50LXRoZS1kYW5jZS1vZi1odW1hbnMtYW5kLXJvYm90cy_SAQA)"
      ],
      "text/plain": [
       "<IPython.core.display.Markdown object>"
      ]
     },
     "metadata": {},
     "output_type": "display_data"
    },
    {
     "data": {
      "text/markdown": [
       "[147. Exclusive: Behind the plot to break Nvidia's grip on AI by targeting software - Google News](https://news.google.com/articles/CBMiUGh0dHBzOi8vZmluYW5jZS55YWhvby5jb20vbmV3cy9leGNsdXNpdmUtYmVoaW5kLXBsb3QtYnJlYWstbnZpZGlhLTExMDM1OTg2OC5odG1s0gEA)"
      ],
      "text/plain": [
       "<IPython.core.display.Markdown object>"
      ]
     },
     "metadata": {},
     "output_type": "display_data"
    },
    {
     "data": {
      "text/markdown": [
       "[148. 2 Top \"Magnificent Seven\" Artificial Intelligence (AI) Stocks to Buy With $500 and Hold for the Long Term - Google News](https://news.google.com/articles/CBMiUGh0dHBzOi8vZmluYW5jZS55YWhvby5jb20vbmV3cy8yLXRvcC1tYWduaWZpY2VudC1zZXZlbi1hcnRpZmljaWFsLTEwMzUwMDc0Mi5odG1s0gEA)"
      ],
      "text/plain": [
       "<IPython.core.display.Markdown object>"
      ]
     },
     "metadata": {},
     "output_type": "display_data"
    },
    {
     "data": {
      "text/markdown": [
       "[152. Samsung to launch its own AI accelerator chip called Mach-1 in 2025 - Google News](https://news.google.com/articles/CBMiTmh0dHBzOi8vd3d3LnNhbW1vYmlsZS5jb20vbmV3cy9zYW1zdW5nLWFpLWFjY2VsZXJhdG9yLWNoaXAtbWFjaC0xLWxhdW5jaC0yMDI1L9IBAA)"
      ],
      "text/plain": [
       "<IPython.core.display.Markdown object>"
      ]
     },
     "metadata": {},
     "output_type": "display_data"
    },
    {
     "data": {
      "text/markdown": [
       "[154. Artificial intelligence helped design a new type of battery - Google News](https://news.google.com/articles/CBMiTWh0dHBzOi8vd3d3LnNuZXhwbG9yZXMub3JnL2FydGljbGUvYmF0dGVyeS1hcnRpZmljaWFsLWludGVsbGlnZW5jZS1uZXctZGVzaWdu0gEA)"
      ],
      "text/plain": [
       "<IPython.core.display.Markdown object>"
      ]
     },
     "metadata": {},
     "output_type": "display_data"
    },
    {
     "data": {
      "text/markdown": [
       "[156. Dance Meets Machine: The Future of Human-Robot Harmony - Google News](https://news.google.com/articles/CBMiTGh0dHBzOi8veXRlY2gubmV3cy9lbi9kYW5jZS1tZWV0cy1tYWNoaW5lLXRoZS1mdXR1cmUtb2YtaHVtYW4tcm9ib3QtaGFybW9ueS_SAQA)"
      ],
      "text/plain": [
       "<IPython.core.display.Markdown object>"
      ]
     },
     "metadata": {},
     "output_type": "display_data"
    },
    {
     "data": {
      "text/markdown": [
       "[160. NVIDIA to create AI 'agents' that outperform human nurses - Google News](https://news.google.com/articles/CBMiPWh0dHBzOi8vbmV3YXRsYXMuY29tL3RlY2hub2xvZ3kvbnZpZGlhLWhpcHBvY3JhdGljLWFpLW51cnNlcy_SAQA)"
      ],
      "text/plain": [
       "<IPython.core.display.Markdown object>"
      ]
     },
     "metadata": {},
     "output_type": "display_data"
    },
    {
     "data": {
      "text/markdown": [
       "[164. Beware AI euphoria - Artificial intelligence - Google News](https://news.google.com/articles/CBMiP2h0dHBzOi8vd3d3LmZ0LmNvbS9jb250ZW50LzU5OWE1YzViLWRjNTktNDcyNC04MjQ4LTJkNDEzMmZmZGI3ZtIBAA)"
      ],
      "text/plain": [
       "<IPython.core.display.Markdown object>"
      ]
     },
     "metadata": {},
     "output_type": "display_data"
    },
    {
     "data": {
      "text/markdown": [
       "[167. SDAIA empowers 600k young Saudis with global AI training initiatives - Google News](https://news.google.com/articles/CBMiNmh0dHBzOi8vd3d3LmFyYWJuZXdzLmNvbS9ub2RlLzI0ODE5NzEvYnVzaW5lc3MtZWNvbm9tedIBAA)"
      ],
      "text/plain": [
       "<IPython.core.display.Markdown object>"
      ]
     },
     "metadata": {},
     "output_type": "display_data"
    },
    {
     "data": {
      "text/markdown": [
       "[171. Baidu Stock Jumps on Report It's in Talks With Apple About AI - Google News](https://news.google.com/articles/CBMiPmh0dHBzOi8vd3d3LmJhcnJvbnMuY29tL2FydGljbGVzL2JhaWR1LXN0b2NrLWFwcGxlLWFpLTQzYmNiYzhi0gEA)"
      ],
      "text/plain": [
       "<IPython.core.display.Markdown object>"
      ]
     },
     "metadata": {},
     "output_type": "display_data"
    },
    {
     "data": {
      "text/markdown": [
       "[172. Samsung preps inferencing accelerator to take on Nvidia, scores huge sale - Google News](https://news.google.com/articles/CBMiPmh0dHBzOi8vd3d3LnRoZXJlZ2lzdGVyLmNvbS8yMDI0LzAzLzI0L2FzaWFfdGVjaF9uZXdzX3JvdW5kdXAv0gFCaHR0cHM6Ly93d3cudGhlcmVnaXN0ZXIuY29tL0FNUC8yMDI0LzAzLzI0L2FzaWFfdGVjaF9uZXdzX3JvdW5kdXAv)"
      ],
      "text/plain": [
       "<IPython.core.display.Markdown object>"
      ]
     },
     "metadata": {},
     "output_type": "display_data"
    },
    {
     "data": {
      "text/markdown": [
       "[173. Has the AI stock rally hit its peak? - Google News](https://news.google.com/articles/CBMiRmh0dHBzOi8vZmluYW5jZS55YWhvby5jb20vdmlkZW8vYWktc3RvY2stcmFsbHktaGl0LXBlYWstMTk1NjU0Nzk3Lmh0bWzSAQA)"
      ],
      "text/plain": [
       "<IPython.core.display.Markdown object>"
      ]
     },
     "metadata": {},
     "output_type": "display_data"
    },
    {
     "data": {
      "text/markdown": [
       "[177. Apply Now: $350,000 for AI Solutions Increasing Economic Growth - Google News](https://news.google.com/articles/CBMiQWh0dHBzOi8vd3d3LmljdHdvcmtzLm9yZy9hcnRpZmljaWFsLWludGVsbGlnZW5jZS1lY29ub21pYy1ncm93dGgv0gEA)"
      ],
      "text/plain": [
       "<IPython.core.display.Markdown object>"
      ]
     },
     "metadata": {},
     "output_type": "display_data"
    },
    {
     "data": {
      "text/markdown": [
       "[178. Generative AI's reliance on GPUs brings new cybersecurity threats - Google News](https://news.google.com/articles/CBMiQWh0dHBzOi8vd3d3LmF4aW9zLmNvbS8yMDI0LzAzLzIyL2dlbmVyYXRpdmUtYWktY2hpcHMtZ3B1LXNlY3VyaXR50gEA)"
      ],
      "text/plain": [
       "<IPython.core.display.Markdown object>"
      ]
     },
     "metadata": {},
     "output_type": "display_data"
    },
    {
     "data": {
      "text/markdown": [
       "[179. What to watch in the markets this week: AI stocks keep rallying, but don't ignore GameStop - Google News](https://news.google.com/articles/CBMiQWh0dHBzOi8vcXouY29tL2FpLXN0b2NrLWJ1enotZ2FtZXN0b3AtZWFybmluZ3MtbWFya2V0cy0xODUxMzYwMDEw0gEA)"
      ],
      "text/plain": [
       "<IPython.core.display.Markdown object>"
      ]
     },
     "metadata": {},
     "output_type": "display_data"
    },
    {
     "data": {
      "text/markdown": [
       "[184. Your newsroom needs an AI ethics policy. Start here. - Google News](https://news.google.com/articles/CBMiZ2h0dHBzOi8vd3d3LnBveW50ZXIub3JnL2V0aGljcy10cnVzdC8yMDI0L2hvdy10by1jcmVhdGUtbmV3c3Jvb20tYXJ0aWZpY2lhbC1pbnRlbGxpZ2VuY2UtZXRoaWNzLXBvbGljeS_SAQA)"
      ],
      "text/plain": [
       "<IPython.core.display.Markdown object>"
      ]
     },
     "metadata": {},
     "output_type": "display_data"
    },
    {
     "data": {
      "text/markdown": [
       "[187. CPO Crunch: Think intelligently about artificial intelligence - Google News](https://news.google.com/articles/CBMiYWh0dHBzOi8vcHJvY3VyZW1lbnRsZWFkZXJzLmNvbS9jb250ZW50L2Nwby1jcnVuY2gtdGhpbmstaW50ZWxsaWdlbnRseS1hcnRpZmljaWFsLWludGVsbGlnZW5jZS1haS_SAQA)"
      ],
      "text/plain": [
       "<IPython.core.display.Markdown object>"
      ]
     },
     "metadata": {},
     "output_type": "display_data"
    },
    {
     "data": {
      "text/markdown": [
       "[192. This AI can predict your life events, and even when you will die accurately: here is how - Google News](https://news.google.com/articles/CBMiaGh0dHBzOi8vd3d3Lm5ld3M5bGl2ZS5jb20vdGVjaG5vbG9neS90ZWNoLW5ld3MvbGlmZTJ2ZWMtYWktcHJlZGljdHMtbGlmZS1ldmVudHMtZGVhdGgtYWNjdXJhdGVseS0yNDczMjE00gFsaHR0cHM6Ly93d3cubmV3czlsaXZlLmNvbS90ZWNobm9sb2d5L3RlY2gtbmV3cy9saWZlMnZlYy1haS1wcmVkaWN0cy1saWZlLWV2ZW50cy1kZWF0aC1hY2N1cmF0ZWx5LTI0NzMyMTQvYW1w)"
      ],
      "text/plain": [
       "<IPython.core.display.Markdown object>"
      ]
     },
     "metadata": {},
     "output_type": "display_data"
    },
    {
     "data": {
      "text/markdown": [
       "[193. What Every CEO Needs To Know About The New AI Act - Google News](https://news.google.com/articles/CBMiZmh0dHBzOi8vd3d3LmZvcmJlcy5jb20vc2l0ZXMvYmVybmFyZG1hcnIvMjAyNC8wMy8yNS93aGF0LWV2ZXJ5LWNlby1uZWVkcy10by1rbm93LWFib3V0LXRoZS1uZXctYWktYWN0L9IBamh0dHBzOi8vd3d3LmZvcmJlcy5jb20vc2l0ZXMvYmVybmFyZG1hcnIvMjAyNC8wMy8yNS93aGF0LWV2ZXJ5LWNlby1uZWVkcy10by1rbm93LWFib3V0LXRoZS1uZXctYWktYWN0L2FtcC8)"
      ],
      "text/plain": [
       "<IPython.core.display.Markdown object>"
      ]
     },
     "metadata": {},
     "output_type": "display_data"
    },
    {
     "data": {
      "text/markdown": [
       "[196. AI to track hedgehog populations in pioneering UK project - Google News](https://news.google.com/articles/CBMiW2h0dHBzOi8vd3d3LnRoZWd1YXJkaWFuLmNvbS93b3JsZC8yMDI0L21hci8yNS9haS1oZWRnZWhvZy1wb3B1bGF0aW9ucy1waW9uZWVyaW5nLXVrLXByb2plY3TSAVtodHRwczovL2FtcC50aGVndWFyZGlhbi5jb20vd29ybGQvMjAyNC9tYXIvMjUvYWktaGVkZ2Vob2ctcG9wdWxhdGlvbnMtcGlvbmVlcmluZy11ay1wcm9qZWN0)"
      ],
      "text/plain": [
       "<IPython.core.display.Markdown object>"
      ]
     },
     "metadata": {},
     "output_type": "display_data"
    },
    {
     "data": {
      "text/markdown": [
       "[199. Four generative AI cyber risks that keep CISOs up at night — and how to combat them - Google News](https://news.google.com/articles/CBMiW2h0dHBzOi8vc2lsaWNvbmFuZ2xlLmNvbS8yMDI0LzAzLzI0L2ZvdXItZ2VuZXJhdGl2ZS1haS1jeWJlci1yaXNrcy1rZWVwLWNpc29zLW5pZ2h0LWNvbWJhdC_SAQA)"
      ],
      "text/plain": [
       "<IPython.core.display.Markdown object>"
      ]
     },
     "metadata": {},
     "output_type": "display_data"
    },
    {
     "data": {
      "text/markdown": [
       "[202. Scientists are using AI to save hedgehogs. And they need your help - Google News](https://news.google.com/articles/CBMiVmh0dHBzOi8vd3d3LmNvdW50cnlmaWxlLmNvbS93aWxkbGlmZS9tYW1tYWxzL3NjaWVudGlzdHMtYXJlLXVzaW5nLWFpLXRvLXNhdmUtaGVkZ2Vob2dz0gEA)"
      ],
      "text/plain": [
       "<IPython.core.display.Markdown object>"
      ]
     },
     "metadata": {},
     "output_type": "display_data"
    },
    {
     "data": {
      "text/markdown": [
       "[206. Groundbreaking AI Research Aiming for Insight into Life's Journey - Google News](https://news.google.com/articles/CBMiV2h0dHBzOi8veXRlY2gubmV3cy9lbi9ncm91bmRicmVha2luZy1haS1yZXNlYXJjaC1haW1pbmctZm9yLWluc2lnaHQtaW50by1saWZlcy1qb3VybmV5L9IBAA)"
      ],
      "text/plain": [
       "<IPython.core.display.Markdown object>"
      ]
     },
     "metadata": {},
     "output_type": "display_data"
    },
    {
     "data": {
      "text/markdown": [
       "[207. This New AI Predicts Your Life. Then It Predicts Your Death. - Google News](https://news.google.com/articles/CBMiV2h0dHBzOi8vd3d3LnNjaWVuY2VhbGVydC5jb20vdGhpcy1uZXctYWktcHJlZGljdHMteW91ci1saWZlLXRoZW4taXQtcHJlZGljdHMteW91ci1kZWF0aNIBAA)"
      ],
      "text/plain": [
       "<IPython.core.display.Markdown object>"
      ]
     },
     "metadata": {},
     "output_type": "display_data"
    },
    {
     "data": {
      "text/markdown": [
       "[209. Voice-Controlled AI Gadgets Could Fix the Worst Part of Using a Computer - Google News](https://news.google.com/articles/CBMiV2h0dHBzOi8vd3d3LmludmVyc2UuY29tL3RlY2gvb3Blbi1pbnRlcnByZXRlci0wMS1saWdodC1haS1jb250cm9sLXlvdXItY29tcHV0ZXItZm9yLXlvddIBAA)"
      ],
      "text/plain": [
       "<IPython.core.display.Markdown object>"
      ]
     },
     "metadata": {},
     "output_type": "display_data"
    },
    {
     "data": {
      "text/markdown": [
       "[212. Can SoundHound AI (NASDAQ:SOUN) Live Up to its High Valuation? - TipRanks.com - Google News](https://news.google.com/articles/CBMiWGh0dHBzOi8vd3d3LnRpcHJhbmtzLmNvbS9uZXdzL2Nhbi1zb3VuZGhvdW5kLWFpLW5hc2RhcXNvdW4tbGl2ZS11cC10by1pdHMtaGlnaC12YWx1YXRpb27SAQA)"
      ],
      "text/plain": [
       "<IPython.core.display.Markdown object>"
      ]
     },
     "metadata": {},
     "output_type": "display_data"
    },
    {
     "data": {
      "text/markdown": [
       "[213. Samsung's AI accelerator reportedly cost one-tenth the price of Nvidia GPU - Google News](https://news.google.com/articles/CBMiWWh0dHBzOi8vd3d3LmRpZ2l0aW1lcy5jb20vbmV3cy9hMjAyNDAzMjJQRDIwOS9zYW1zdW5nLWFpLWFjY2VsZXJhdG9yLWNvc3QtbnZpZGlhLWdwdS5odG1s0gEA)"
      ],
      "text/plain": [
       "<IPython.core.display.Markdown object>"
      ]
     },
     "metadata": {},
     "output_type": "display_data"
    },
    {
     "data": {
      "text/markdown": [
       "[216. 5 Spectacular Artificial Intelligence (AI) Stocks to Buy Now and Hold for the Long Term - Google News](https://news.google.com/articles/CBMiXWh0dHBzOi8vd3d3LmZvb2wuY29tL2ludmVzdGluZy8yMDI0LzAzLzI1LzUtc3BlY3RhY3VsYXItYXJ0aWZpY2lhbC1pbnRlbGxpZ2VuY2UtYWktc3RvY2tzLXRvL9IBAA)"
      ],
      "text/plain": [
       "<IPython.core.display.Markdown object>"
      ]
     },
     "metadata": {},
     "output_type": "display_data"
    },
    {
     "data": {
      "text/markdown": [
       "[217. Forget Super Micro Computer: Billionaires Are Selling It and Buying These 6 Artificial Intelligence (AI) Stocks Instead - Google News](https://news.google.com/articles/CBMiXWh0dHBzOi8vd3d3LmZvb2wuY29tL2ludmVzdGluZy8yMDI0LzAzLzI1L2ZvcmdldC1zdXBlci1taWNyby1jb21wdXRlci1iaWxsaW9uYWlyZS1zZWxsLWl0LWFpL9IBAA)"
      ],
      "text/plain": [
       "<IPython.core.display.Markdown object>"
      ]
     },
     "metadata": {},
     "output_type": "display_data"
    },
    {
     "data": {
      "text/markdown": [
       "[218. Meet a $496 Billion Artificial Intelligence (AI) Stock That's Not in the \"Magnificent Seven\" - Google News](https://news.google.com/articles/CBMiXWh0dHBzOi8vd3d3LmZvb2wuY29tL2ludmVzdGluZy8yMDI0LzAzLzI1L2FydGlmaWNpYWwtaW50ZWxsaWdlbmNlLWFpLXN0b2NrLW1hZ25pZmljZW50LXNldmVuL9IBAA)"
      ],
      "text/plain": [
       "<IPython.core.display.Markdown object>"
      ]
     },
     "metadata": {},
     "output_type": "display_data"
    },
    {
     "data": {
      "text/markdown": [
       "[223. Opinion: Integrating AI into newsrooms isn't all bad news - Google News](https://news.google.com/articles/CBMiWWh0dHBzOi8vdGhldmFyc2l0eS5jYS8yMDI0LzAzLzI0L29waW5pb24taW50ZWdyYXRpbmctYWktaW50by1uZXdzcm9vbXMtaXNudC1hbGwtYmFkLW5ld3Mv0gEA)"
      ],
      "text/plain": [
       "<IPython.core.display.Markdown object>"
      ]
     },
     "metadata": {},
     "output_type": "display_data"
    },
    {
     "data": {
      "text/markdown": [
       "[224. AWS CISO: Pay Attention to How AI Uses Your Data - Google News](https://news.google.com/articles/CBMiXGh0dHBzOi8vd3d3LmRhcmtyZWFkaW5nLmNvbS9jbG91ZC1zZWN1cml0eS9hd3MtY2lzby1jbG91ZC1jdXN0b21lcnMtbmVlZC1zZWN1cmUtYWktd29ya2xvYWRz0gEA)"
      ],
      "text/plain": [
       "<IPython.core.display.Markdown object>"
      ]
     },
     "metadata": {},
     "output_type": "display_data"
    },
    {
     "data": {
      "text/markdown": [
       "[225. Nvidia partners with Hippocratic on AI nurses - Google News](https://news.google.com/articles/CBMiWmh0dHBzOi8vd3d3Lm1vcm5pbmdicmV3LmNvbS9kYWlseS9zdG9yaWVzLzIwMjQvMDMvMjIvbnZpZGlhLXBvd2VyZWQtYWktbnVyc2VzLXNjcnViYmluZy1pbtIBAA)"
      ],
      "text/plain": [
       "<IPython.core.display.Markdown object>"
      ]
     },
     "metadata": {},
     "output_type": "display_data"
    },
    {
     "data": {
      "text/markdown": [
       "[229. A Once-in-a-Generation Investment Opportunity: 1 Warren Buffett Artificial Intelligence (AI) Stock to Keep an Eye On - Google News](https://news.google.com/articles/CBMiXWh0dHBzOi8vd3d3LmZvb2wuY29tL2ludmVzdGluZy8yMDI0LzAzLzI0L2Etb25jZS1pbi1hLWdlbmVyYXRpb24taW52ZXN0bWVudC1vcHBvcnR1bml0eS0xLXdhL9IBAA)"
      ],
      "text/plain": [
       "<IPython.core.display.Markdown object>"
      ]
     },
     "metadata": {},
     "output_type": "display_data"
    },
    {
     "data": {
      "text/markdown": [
       "[242. Microsoft reuses its OpenAI playbook with Inflection takeover - Hacker News 2](https://www.theverge.com/2024/3/22/24109260/microsoft-openai-playbook-inflection-ai)"
      ],
      "text/plain": [
       "<IPython.core.display.Markdown object>"
      ]
     },
     "metadata": {},
     "output_type": "display_data"
    },
    {
     "data": {
      "text/markdown": [
       "[244. Finetuning Mistral-7B to play DOOM - Hacker News 2](https://twitter.com/SammieAtman/status/1772075249560952870)"
      ],
      "text/plain": [
       "<IPython.core.display.Markdown object>"
      ]
     },
     "metadata": {},
     "output_type": "display_data"
    }
   ],
   "source": [
    "for row in merged_df.loc[merged_df[\"isAI\"]].reset_index().itertuples():\n",
    "    display(Markdown(f\"[{row.index}. {row.title} - {row.src}]({row.url})\"))"
   ]
  },
  {
   "cell_type": "code",
   "execution_count": 37,
   "id": "a64411df-424d-4fe1-a1ef-2484346fa856",
   "metadata": {},
   "outputs": [],
   "source": [
    "client = Client(base_url='https://bsky.social')\n",
    "client.login(os.environ['BSKY_USERNAME'], os.environ['BSKY_SECRET'])\n",
    "\n",
    "mydid = {\"did\":\"did:plc:qomkdnxrqw3gkbytdxea5z65\"}\n",
    "\n",
    "data = client.get_author_feed(\n",
    "    actor=mydid['did'],\n",
    "    filter='posts_and_author_threads',\n",
    "    limit=50,\n",
    ")\n"
   ]
  },
  {
   "cell_type": "code",
   "execution_count": 38,
   "id": "d2f0a047",
   "metadata": {},
   "outputs": [],
   "source": [
    "def remove_urls(text):\n",
    "    # Regular expression to match URLs\n",
    "    url_pattern = r'https?://\\S+|www\\.\\S+'\n",
    "    # Substitute found URLs with an empty string\n",
    "    clean_text = re.sub(url_pattern, '', text)\n",
    "    return clean_text\n",
    "\n"
   ]
  },
  {
   "cell_type": "code",
   "execution_count": 39,
   "id": "3d723127",
   "metadata": {},
   "outputs": [],
   "source": [
    "def rawfetchurl(url, timeout=60):\n",
    "    \"\"\"get url using requests with specified timeout. return response object, status, content-type\"\"\"\n",
    "    try:\n",
    "        response = requests.get(url, timeout=timeout)\n",
    "    except httplib.BadStatusLine:\n",
    "        print(\"Bad response (?) fetching url %s \" % url)\n",
    "        response = None\n",
    "    except requests.Timeout:\n",
    "        print(\"Timeout fetching url %s \" % url)\n",
    "        response = None\n",
    "    except requests.ConnectionError as e:\n",
    "        print(\"Connection error (%s) fetching url %s \" % (str(e), url))\n",
    "        response = None\n",
    "    except requests.TooManyRedirects:\n",
    "        print(\"Too many redirects fetching url %s \" % url)\n",
    "        response = None\n",
    "    except requests.exceptions.MissingSchema:\n",
    "        print(\"Missing schema url %s \" % url)\n",
    "        response = None\n",
    "    except requests.exceptions.InvalidSchema:\n",
    "        print(\"Invalid schema url %s \" % url)\n",
    "        response = None\n",
    "    except requests.exceptions.InvalidURL as e:\n",
    "        print(\"Invalid url %s, %s\" % (url, str(e)))\n",
    "        response = None\n",
    "    except ValueError as e:\n",
    "        # don't log url because possibly malformed url\n",
    "        print(\"ValueError, url ?: ? \")\n",
    "        response = None\n",
    "    except httplib.IncompleteRead as e:\n",
    "        print(\"IncompleteRead, url %s: %s \" % (url, str(e)))\n",
    "        response = None\n",
    "    except urllib3.exceptions.SSLError as e:\n",
    "        print(\"SSLError, url %s: %s \" % (url, str(e)))\n",
    "        response = None\n",
    "    except requests.exceptions.ContentDecodingError as e:\n",
    "        print(\"SSLError, url %s: %s \" % (url, str(e)))\n",
    "        response = None\n",
    "    except requests.exceptions.ChunkedEncodingError as e:\n",
    "        print(\"ChunkedEncodingError, url %s: %s \" % (url, str(e)))\n",
    "        response = None\n",
    "    except UnicodeEncodeError as e:\n",
    "        print(\"UnicodeEncodeError, url %s: %s \" % (url, str(e)))\n",
    "        response = None\n",
    "    except OpenSSL.SSL.SysCallError as e:\n",
    "        print(\"OpenSSL.SSL.SysCallError, url %s: %s \" % (url, str(e)))\n",
    "        response = -1\n",
    "    except OpenSSL.SSL.ZeroReturnError as e:\n",
    "        print(\"OpenSSL.SSL.ZeroReturnError, url %s: %s \" % (url, str(e)))\n",
    "        response = -1\n",
    "\n",
    "    # except requests.packages.urllib3.exceptions.DecodeError as e:\n",
    "    #     utilLog(\"DecodeError, url %s: %s \" % (url, str(e)))\n",
    "    #     response = None\n",
    "\n",
    "    return response\n",
    "\n",
    "\n",
    "imgurl = 'https://nypost.com/wp-content/uploads/sites/2/2024/02/nate-silver-calls-shut-gemini-77192719.jpg?quality=75&strip=all&w=1024'\n",
    "r = rawfetchurl(imgurl)"
   ]
  },
  {
   "cell_type": "code",
   "execution_count": 40,
   "id": "ac3c09d9",
   "metadata": {},
   "outputs": [],
   "source": [
    "\n",
    "# #         impath = \"%s/%d.%s\" % (today_orig_dir, actualurl.id, file_ext)\n",
    "# impath = 'x.jpg'\n",
    "# with open(impath, 'wb') as file:\n",
    "#     file.write(r.content)\n",
    "\n",
    "# display(IPython.display.Image(filename=impath))\n"
   ]
  },
  {
   "cell_type": "code",
   "execution_count": 41,
   "id": "da3e11a1",
   "metadata": {},
   "outputs": [],
   "source": [
    "\n",
    "# def resize_and_crop(image_path, output_path, size=(360, 360)):\n",
    "#     # Open the image\n",
    "#     image = PIL.Image.open(image_path)\n",
    "\n",
    "#     # Calculate the aspect ratio\n",
    "#     aspect_ratio = image.width / image.height\n",
    "#     target_aspect_ratio = size[0] / size[1]\n",
    "\n",
    "#     # Determine the scaling factor and new size\n",
    "#     if aspect_ratio > target_aspect_ratio:\n",
    "#         # Image is wider than desired aspect ratio\n",
    "#         new_height = size[1]\n",
    "#         new_width = int(new_height * aspect_ratio)\n",
    "#     else:\n",
    "#         # Image is taller than desired aspect ratio\n",
    "#         new_width = size[0]\n",
    "#         new_height = int(new_width / aspect_ratio)\n",
    "\n",
    "#     # Resize the image\n",
    "#     image = image.resize((new_width, new_height))\n",
    "\n",
    "#     # Calculate coordinates to crop the image to the target size\n",
    "#     left = (new_width - size[0]) / 2\n",
    "#     top = (new_height - size[1]) / 2\n",
    "#     right = (new_width + size[0]) / 2\n",
    "#     bottom = (new_height + size[1]) / 2\n",
    "\n",
    "#     # Crop the image\n",
    "#     image = image.crop((left, top, right, bottom))\n",
    "\n",
    "#     # Save the cropped image\n",
    "#     image.save(output_path)\n",
    "\n",
    "def resize_and_crop(input_image_path, output_image_path, desired_height=240):\n",
    "    # Load the image\n",
    "    with Image.open(input_image_path) as img:\n",
    "        img = img.convert('RGB')\n",
    "\n",
    "        # Calculate the new width maintaining the aspect ratio\n",
    "        aspect_ratio = img.width / img.height\n",
    "        new_width = int(desired_height * aspect_ratio)\n",
    "\n",
    "        # Resize the image\n",
    "        resized_img = img.resize((new_width, desired_height))\n",
    "\n",
    "        # Save the resized image\n",
    "        resized_img.save(output_image_path)\n",
    "\n",
    "# output_path = 'square.jpg'\n",
    "# resize_and_crop(impath, output_path)\n",
    "# display(IPython.display.Image(filename=output_path))\n"
   ]
  },
  {
   "cell_type": "code",
   "execution_count": 42,
   "id": "20ff6485",
   "metadata": {},
   "outputs": [
    {
     "name": "stdout",
     "output_type": "stream",
     "text": [
      "Elon Musk says we'll run out of power capacity to run all the AI chips in 2025\n"
     ]
    }
   ],
   "source": [
    "def truncate_last_occurrence(text: str) -> str:\n",
    "    # Find the last occurrence of a space followed by any sequence of characters followed by 3 periods\n",
    "    pattern = r'\\s+\\S+\\.{3}$'\n",
    "    return re.sub(pattern, '', text)\n",
    "\n",
    "# Example text for testing\n",
    "\n",
    "example_text = \"\"\"Elon Musk says we'll run out of power capacity to run all the AI chips in 2025\n",
    "newatlas.com/technology/e...\"\"\"\n",
    "\n",
    "# Truncate the last occurrence\n",
    "print(truncate_last_occurrence(example_text))\n",
    "\n"
   ]
  },
  {
   "cell_type": "code",
   "execution_count": 43,
   "id": "03fe49dc",
   "metadata": {},
   "outputs": [],
   "source": [
    "\n",
    "# for post in data.feed:\n",
    "#     post_str = post.post.record.text.rstrip()\n",
    "#     post_str = truncate_last_occurrence(post_str)\n",
    "#     post_url = \"\"\n",
    "#     try:\n",
    "#         post_url = post.post.record.embed.external.uri.rstrip()\n",
    "#     except:\n",
    "#         pass\n",
    "\n",
    "#     print(remove_urls(post_str))\n",
    "#     print(post_url)\n",
    "#     print()\n"
   ]
  },
  {
   "cell_type": "code",
   "execution_count": 44,
   "id": "f78d8382",
   "metadata": {},
   "outputs": [],
   "source": [
    "# for i, post in enumerate(data.feed):\n",
    "#     post_str = post.post.record.text.rstrip()\n",
    "#     post_str = truncate_last_occurrence(post_str)\n",
    "#     post_url = \"\"\n",
    "#     tag_dict = {}\n",
    "#     try:\n",
    "#         post_url = post.post.record.embed.external.uri.rstrip()\n",
    "#     except:\n",
    "#         pass\n",
    "#     if post_url:\n",
    "#         tag_dict = get_og_tags(post_url)\n",
    "#         display_str = f\"[{post_str}]({post_url})\"\n",
    "#         site_name = tag_dict.get('og:site_name')\n",
    "#         img_url = tag_dict.get('og:image')\n",
    "#         if site_name:\n",
    "#             display_str += f\" - {site_name}\"\n",
    "#         if img_url:\n",
    "#             try:\n",
    "#                 r = rawfetchurl(img_url)\n",
    "#                 content_type = r.headers['Content-Type']\n",
    "#                 content_type = content_type[content_type.find('/')+1:]\n",
    "#                 impath = f\"source{i}.{content_type}\"\n",
    "#                 with open(impath, 'wb') as file:\n",
    "#                     file.write(r.content)\n",
    "#                 output_path = f'Image{i}.jpg'\n",
    "#                 resize_and_crop(impath, output_path)\n",
    "#                 display(IPython.display.Image(filename=output_path))\n",
    "#             except Exception as e:\n",
    "#                 print(e)\n",
    "#         display(Markdown(display_str))\n",
    "#     else:\n",
    "#         display(Markdown(f\"{post_str}\"))\n"
   ]
  },
  {
   "cell_type": "code",
   "execution_count": 45,
   "id": "026679ea",
   "metadata": {},
   "outputs": [
    {
     "data": {
      "text/markdown": [
       "Follow latest AI headlines via [SkynetAndChill.com on Bluesky](https://bsky.app/profile/skynetandchill.com)"
      ],
      "text/plain": [
       "<IPython.core.display.Markdown object>"
      ]
     },
     "metadata": {},
     "output_type": "display_data"
    },
    {
     "data": {
      "image/jpeg": "[encoded data removed]",
      "text/plain": [
       "<IPython.core.display.Image object>"
      ]
     },
     "metadata": {},
     "output_type": "display_data"
    },
    {
     "data": {
      "text/markdown": [
       "[Filipino journalist counters industry’s AI doomsday fears with custom chatbot assistant to aid in-depth reporting](https://www.scmp.com/week-asia/people/article/3256522/filipino-journalist-upends-industrys-ai-doomsday-fears-custom-chatbot-aid-depth-reporting) - South China Morning Post"
      ],
      "text/plain": [
       "<IPython.core.display.Markdown object>"
      ]
     },
     "metadata": {},
     "output_type": "display_data"
    },
    {
     "data": {
      "text/markdown": [
       "___"
      ],
      "text/plain": [
       "<IPython.core.display.Markdown object>"
      ]
     },
     "metadata": {},
     "output_type": "display_data"
    },
    {
     "data": {
      "image/jpeg": "[encoded data removed]",
      "text/plain": [
       "<IPython.core.display.Image object>"
      ]
     },
     "metadata": {},
     "output_type": "display_data"
    },
    {
     "data": {
      "text/markdown": [
       "[Four generative AI cyber risks that keep CISOs up at night — and how to combat them](https://siliconangle.com/2024/03/24/four-generative-ai-cyber-risks-keep-cisos-night-combat/) - SiliconANGLE"
      ],
      "text/plain": [
       "<IPython.core.display.Markdown object>"
      ]
     },
     "metadata": {},
     "output_type": "display_data"
    },
    {
     "data": {
      "text/markdown": [
       "___"
      ],
      "text/plain": [
       "<IPython.core.display.Markdown object>"
      ]
     },
     "metadata": {},
     "output_type": "display_data"
    },
    {
     "data": {
      "image/jpeg": "[encoded data removed]",
      "text/plain": [
       "<IPython.core.display.Image object>"
      ]
     },
     "metadata": {},
     "output_type": "display_data"
    },
    {
     "data": {
      "text/markdown": [
       "[Annie Leibovitz on AI: photography is not really real either](https://www.digitalcameraworld.com/tutorials/photography-itself-is-not-really-real-i-use-all-the-tools-available-says-annie-leibovitz-in-her-lacademie-des-beaux-arts-induction) - digitalcameraworld"
      ],
      "text/plain": [
       "<IPython.core.display.Markdown object>"
      ]
     },
     "metadata": {},
     "output_type": "display_data"
    },
    {
     "data": {
      "text/markdown": [
       "___"
      ],
      "text/plain": [
       "<IPython.core.display.Markdown object>"
      ]
     },
     "metadata": {},
     "output_type": "display_data"
    },
    {
     "name": "stdout",
     "output_type": "stream",
     "text": [
      "Error fetching https://www.makeuseof.com/codeiums-free-ai-anyone-write-code/: ('Connection aborted.', RemoteDisconnected('Remote end closed connection without response'))\n"
     ]
    },
    {
     "data": {
      "text/markdown": [
       "[Codeium as a free alternative to GitHub Copilot](https://www.makeuseof.com/codeiums-free-ai-anyone-write-code/)"
      ],
      "text/plain": [
       "<IPython.core.display.Markdown object>"
      ]
     },
     "metadata": {},
     "output_type": "display_data"
    },
    {
     "data": {
      "text/markdown": [
       "___"
      ],
      "text/plain": [
       "<IPython.core.display.Markdown object>"
      ]
     },
     "metadata": {},
     "output_type": "display_data"
    },
    {
     "data": {
      "image/jpeg": "[encoded data removed]",
      "text/plain": [
       "<IPython.core.display.Image object>"
      ]
     },
     "metadata": {},
     "output_type": "display_data"
    },
    {
     "data": {
      "text/markdown": [
       "[AI to detect guns in subways. Maybe use AI to detect gross smells, gropers, creeps whipping it out, fights breaking out while we're at it.](https://nypost.com/2024/03/23/us-news/nypd-looks-at-possible-ai-to-see-guns-underground/) - New York Post"
      ],
      "text/plain": [
       "<IPython.core.display.Markdown object>"
      ]
     },
     "metadata": {},
     "output_type": "display_data"
    },
    {
     "data": {
      "text/markdown": [
       "___"
      ],
      "text/plain": [
       "<IPython.core.display.Markdown object>"
      ]
     },
     "metadata": {},
     "output_type": "display_data"
    },
    {
     "data": {
      "image/jpeg": "[encoded data removed]",
      "text/plain": [
       "<IPython.core.display.Image object>"
      ]
     },
     "metadata": {},
     "output_type": "display_data"
    },
    {
     "data": {
      "text/markdown": [
       "[Huang says fully generated AI games by 2030](https://www.techradar.com/computing/gpu/fully-ai-generated-games-by-2030-thats-what-nvidias-ceo-believes-but-what-exactly-will-that-mean-for-pc-gamers) - TechRadar"
      ],
      "text/plain": [
       "<IPython.core.display.Markdown object>"
      ]
     },
     "metadata": {},
     "output_type": "display_data"
    },
    {
     "data": {
      "text/markdown": [
       "___"
      ],
      "text/plain": [
       "<IPython.core.display.Markdown object>"
      ]
     },
     "metadata": {},
     "output_type": "display_data"
    },
    {
     "data": {
      "image/jpeg": "[encoded data removed]",
      "text/plain": [
       "<IPython.core.display.Image object>"
      ]
     },
     "metadata": {},
     "output_type": "display_data"
    },
    {
     "data": {
      "text/markdown": [
       "[Nividia makes games 3D models from text prompts](https://www.digitaltrends.com/computing/nvidia-unveils-latte3d-generative-ai/) - Digital Trends"
      ],
      "text/plain": [
       "<IPython.core.display.Markdown object>"
      ]
     },
     "metadata": {},
     "output_type": "display_data"
    },
    {
     "data": {
      "text/markdown": [
       "___"
      ],
      "text/plain": [
       "<IPython.core.display.Markdown object>"
      ]
     },
     "metadata": {},
     "output_type": "display_data"
    },
    {
     "data": {
      "image/jpeg": "[encoded data removed]",
      "text/plain": [
       "<IPython.core.display.Image object>"
      ]
     },
     "metadata": {},
     "output_type": "display_data"
    },
    {
     "data": {
      "text/markdown": [
       "[Unusually large, ugly custom chip born](https://www.tomshardware.com/tech-industry/artificial-intelligence/broadcom-shows-gargantuan-ai-chip-xpu-could-the-worlds-largest-chip-built-for-a-consumer-ai-company) - Tom's Hardware"
      ],
      "text/plain": [
       "<IPython.core.display.Markdown object>"
      ]
     },
     "metadata": {},
     "output_type": "display_data"
    },
    {
     "data": {
      "text/markdown": [
       "___"
      ],
      "text/plain": [
       "<IPython.core.display.Markdown object>"
      ]
     },
     "metadata": {},
     "output_type": "display_data"
    },
    {
     "data": {
      "image/jpeg": "[encoded data removed]",
      "text/plain": [
       "<IPython.core.display.Image object>"
      ]
     },
     "metadata": {},
     "output_type": "display_data"
    },
    {
     "data": {
      "text/markdown": [
       "[Google researchers create Vlogger, a novel way of turning a single photo of a human and a few seconds of voice into AI-generated video good enough to make you think 'this might go badly'](https://www.pcgamer.com/software/ai/google-researchers-find-novel-way-of-turning-a-single-photo-of-a-human-into-ai-generated-video-good-enough-to-make-you-think-this-might-go-badly/) - pcgamer"
      ],
      "text/plain": [
       "<IPython.core.display.Markdown object>"
      ]
     },
     "metadata": {},
     "output_type": "display_data"
    },
    {
     "data": {
      "text/markdown": [
       "___"
      ],
      "text/plain": [
       "<IPython.core.display.Markdown object>"
      ]
     },
     "metadata": {},
     "output_type": "display_data"
    },
    {
     "data": {
      "text/markdown": [
       "[6 big questions about AI - Niall Ferguson](https://www.bloomberg.com/opinion/articles/2024-03-24/can-sam-altman-make-ai-smart-enough-to-answer-these-6-questions)"
      ],
      "text/plain": [
       "<IPython.core.display.Markdown object>"
      ]
     },
     "metadata": {},
     "output_type": "display_data"
    },
    {
     "data": {
      "text/markdown": [
       "___"
      ],
      "text/plain": [
       "<IPython.core.display.Markdown object>"
      ]
     },
     "metadata": {},
     "output_type": "display_data"
    },
    {
     "data": {
      "image/jpeg": "[encoded data removed]",
      "text/plain": [
       "<IPython.core.display.Image object>"
      ]
     },
     "metadata": {},
     "output_type": "display_data"
    },
    {
     "data": {
      "text/markdown": [
       "[Local man tweets using brain-computer interface](https://www.ndtv.com/world-news/man-with-elon-musks-neuralink-brain-chip-posts-tweet-on-x-just-by-thinking-5300011) - NDTV.com"
      ],
      "text/plain": [
       "<IPython.core.display.Markdown object>"
      ]
     },
     "metadata": {},
     "output_type": "display_data"
    },
    {
     "data": {
      "text/markdown": [
       "___"
      ],
      "text/plain": [
       "<IPython.core.display.Markdown object>"
      ]
     },
     "metadata": {},
     "output_type": "display_data"
    },
    {
     "data": {
      "image/jpeg": "[encoded data removed]",
      "text/plain": [
       "<IPython.core.display.Image object>"
      ]
     },
     "metadata": {},
     "output_type": "display_data"
    },
    {
     "data": {
      "text/markdown": [
       "[Arizona blog posts deepfake endorsement from Kari Lake, she is mad and some readers may be unsubscribing because they think it's real](https://www.washingtonpost.com/politics/2024/03/24/kari-lake-deepfake/) - Washington Post"
      ],
      "text/plain": [
       "<IPython.core.display.Markdown object>"
      ]
     },
     "metadata": {},
     "output_type": "display_data"
    },
    {
     "data": {
      "text/markdown": [
       "___"
      ],
      "text/plain": [
       "<IPython.core.display.Markdown object>"
      ]
     },
     "metadata": {},
     "output_type": "display_data"
    },
    {
     "data": {
      "image/jpeg": "[encoded data removed]",
      "text/plain": [
       "<IPython.core.display.Image object>"
      ]
     },
     "metadata": {},
     "output_type": "display_data"
    },
    {
     "data": {
      "text/markdown": [
       "[How hard is it to spam data into LLMs for propaganda or marketing purposes?](https://www.businessinsider.com/data-poisoning-ai-chatbot-chatgpt-large-language-models-florain-tramer-2024-3) - Business Insider"
      ],
      "text/plain": [
       "<IPython.core.display.Markdown object>"
      ]
     },
     "metadata": {},
     "output_type": "display_data"
    },
    {
     "data": {
      "text/markdown": [
       "___"
      ],
      "text/plain": [
       "<IPython.core.display.Markdown object>"
      ]
     },
     "metadata": {},
     "output_type": "display_data"
    },
    {
     "data": {
      "text/markdown": [
       "[AI could make MTA safer but sometimes I think subways are just run as a rat habitat and a Milgram experiment by the NYPD and dumping ground for psychiatric homeless. The mayor is a cop but all the NYPD does is complain about politicians and can't be arsed to fight crime.](https://twitter.com/macc_nyc/status/1771242879840575886)"
      ],
      "text/plain": [
       "<IPython.core.display.Markdown object>"
      ]
     },
     "metadata": {},
     "output_type": "display_data"
    },
    {
     "data": {
      "text/markdown": [
       "___"
      ],
      "text/plain": [
       "<IPython.core.display.Markdown object>"
      ]
     },
     "metadata": {},
     "output_type": "display_data"
    },
    {
     "data": {
      "image/jpeg": "[encoded data removed]",
      "text/plain": [
       "<IPython.core.display.Image object>"
      ]
     },
     "metadata": {},
     "output_type": "display_data"
    },
    {
     "data": {
      "text/markdown": [
       "[The Future of Border Patrol: AI Is Always Watching](https://themarkup.org/news/2024/03/22/the-future-of-border-patrol-ai-is-always-watching)"
      ],
      "text/plain": [
       "<IPython.core.display.Markdown object>"
      ]
     },
     "metadata": {},
     "output_type": "display_data"
    },
    {
     "data": {
      "text/markdown": [
       "___"
      ],
      "text/plain": [
       "<IPython.core.display.Markdown object>"
      ]
     },
     "metadata": {},
     "output_type": "display_data"
    },
    {
     "data": {
      "text/markdown": [
       "this brings me joy"
      ],
      "text/plain": [
       "<IPython.core.display.Markdown object>"
      ]
     },
     "metadata": {},
     "output_type": "display_data"
    },
    {
     "data": {
      "image/jpeg": "[encoded data removed]",
      "text/plain": [
       "<IPython.core.display.Image object>"
      ]
     },
     "metadata": {},
     "output_type": "display_data"
    },
    {
     "data": {
      "text/markdown": [
       "[Can't remember if I shared, spy drone scare triggered a military scramble, including calling in NASA](https://www.twz.com/air/mysterious-drones-swarmed-langley-afb-for-weeks) - The War Zone"
      ],
      "text/plain": [
       "<IPython.core.display.Markdown object>"
      ]
     },
     "metadata": {},
     "output_type": "display_data"
    },
    {
     "data": {
      "text/markdown": [
       "___"
      ],
      "text/plain": [
       "<IPython.core.display.Markdown object>"
      ]
     },
     "metadata": {},
     "output_type": "display_data"
    },
    {
     "data": {
      "image/jpeg": "[encoded data removed]",
      "text/plain": [
       "<IPython.core.display.Image object>"
      ]
     },
     "metadata": {},
     "output_type": "display_data"
    },
    {
     "data": {
      "text/markdown": [
       "[Autonomous drone swarms are an emerging threat and something US military wants to field](https://www.businessinsider.com/swarms-drones-rising-threat-to-us-law-enforcement-isnt-ready-2024-3) - Business Insider"
      ],
      "text/plain": [
       "<IPython.core.display.Markdown object>"
      ]
     },
     "metadata": {},
     "output_type": "display_data"
    },
    {
     "data": {
      "text/markdown": [
       "___"
      ],
      "text/plain": [
       "<IPython.core.display.Markdown object>"
      ]
     },
     "metadata": {},
     "output_type": "display_data"
    },
    {
     "data": {
      "text/markdown": [
       "[Will all the LLMs and edge devices unite to create The Borg?](https://techxplore.com/news/2024-03-scientists-future-artificial-intelligence-similar.html)"
      ],
      "text/plain": [
       "<IPython.core.display.Markdown object>"
      ]
     },
     "metadata": {},
     "output_type": "display_data"
    },
    {
     "data": {
      "text/markdown": [
       "___"
      ],
      "text/plain": [
       "<IPython.core.display.Markdown object>"
      ]
     },
     "metadata": {},
     "output_type": "display_data"
    },
    {
     "data": {
      "image/jpeg": "[encoded data removed]",
      "text/plain": [
       "<IPython.core.display.Image object>"
      ]
     },
     "metadata": {},
     "output_type": "display_data"
    },
    {
     "data": {
      "text/markdown": [
       "[Accenture sells $1.1b worth of AI projects](https://analyticsindiamag.com/accentures-generative-ai-revenue-surpasses-all-vc-backed-startups-combined/) - Analytics India Magazine"
      ],
      "text/plain": [
       "<IPython.core.display.Markdown object>"
      ]
     },
     "metadata": {},
     "output_type": "display_data"
    },
    {
     "data": {
      "text/markdown": [
       "___"
      ],
      "text/plain": [
       "<IPython.core.display.Markdown object>"
      ]
     },
     "metadata": {},
     "output_type": "display_data"
    },
    {
     "data": {
      "image/jpeg": "[encoded data removed]",
      "text/plain": [
       "<IPython.core.display.Image object>"
      ]
     },
     "metadata": {},
     "output_type": "display_data"
    },
    {
     "data": {
      "text/markdown": [
       "[Using GoPro videos and AI to monitor ocean health](https://newatlas.com/science/deepreefmap-video-footage-3d-coral-reef-maps/) - New Atlas"
      ],
      "text/plain": [
       "<IPython.core.display.Markdown object>"
      ]
     },
     "metadata": {},
     "output_type": "display_data"
    },
    {
     "data": {
      "text/markdown": [
       "___"
      ],
      "text/plain": [
       "<IPython.core.display.Markdown object>"
      ]
     },
     "metadata": {},
     "output_type": "display_data"
    },
    {
     "data": {
      "image/jpeg": "[encoded data removed]",
      "text/plain": [
       "<IPython.core.display.Image object>"
      ]
     },
     "metadata": {},
     "output_type": "display_data"
    },
    {
     "data": {
      "text/markdown": [
       "[Famous investors who are calling the b-word](https://www.businessinsider.com/stock-market-bubble-crash-gundlach-ai-fed-economy-gross-hussman-2024-3) - Business Insider"
      ],
      "text/plain": [
       "<IPython.core.display.Markdown object>"
      ]
     },
     "metadata": {},
     "output_type": "display_data"
    },
    {
     "data": {
      "text/markdown": [
       "___"
      ],
      "text/plain": [
       "<IPython.core.display.Markdown object>"
      ]
     },
     "metadata": {},
     "output_type": "display_data"
    },
    {
     "data": {
      "image/jpeg": "[encoded data removed]",
      "text/plain": [
       "<IPython.core.display.Image object>"
      ]
     },
     "metadata": {},
     "output_type": "display_data"
    },
    {
     "data": {
      "text/markdown": [
       "[Financial Times launches a sepia-colored AI chatbot](https://www.theverge.com/2024/3/23/24106296/ask-ft-generative-ai-chatbot-answers-tool) - The Verge"
      ],
      "text/plain": [
       "<IPython.core.display.Markdown object>"
      ]
     },
     "metadata": {},
     "output_type": "display_data"
    },
    {
     "data": {
      "text/markdown": [
       "___"
      ],
      "text/plain": [
       "<IPython.core.display.Markdown object>"
      ]
     },
     "metadata": {},
     "output_type": "display_data"
    },
    {
     "data": {
      "image/jpeg": "[encoded data removed]",
      "text/plain": [
       "<IPython.core.display.Image object>"
      ]
     },
     "metadata": {},
     "output_type": "display_data"
    },
    {
     "data": {
      "text/markdown": [
       "[Ultra-low-power AI chips for always-on listening](https://www.scmp.com/news/china/science/article/3256211/chinese-scientists-create-worlds-most-energy-efficient-ai-chips-mobile-devices) - South China Morning Post"
      ],
      "text/plain": [
       "<IPython.core.display.Markdown object>"
      ]
     },
     "metadata": {},
     "output_type": "display_data"
    },
    {
     "data": {
      "text/markdown": [
       "___"
      ],
      "text/plain": [
       "<IPython.core.display.Markdown object>"
      ]
     },
     "metadata": {},
     "output_type": "display_data"
    },
    {
     "data": {
      "image/jpeg": "[encoded data removed]",
      "text/plain": [
       "<IPython.core.display.Image object>"
      ]
     },
     "metadata": {},
     "output_type": "display_data"
    },
    {
     "data": {
      "text/markdown": [
       "[Apple considering dropping 'hey Siri' in favor of LLM approach](https://www.technologyreview.com/2024/03/22/1090090/apple-researchers-explore-dropping-siri-phrase-amp-listening-with-ai-instead/) - MIT Technology Review"
      ],
      "text/plain": [
       "<IPython.core.display.Markdown object>"
      ]
     },
     "metadata": {},
     "output_type": "display_data"
    },
    {
     "data": {
      "text/markdown": [
       "___"
      ],
      "text/plain": [
       "<IPython.core.display.Markdown object>"
      ]
     },
     "metadata": {},
     "output_type": "display_data"
    },
    {
     "data": {
      "text/markdown": [
       "[How to make a self-driving car hit you for fun and profit](https://www.sfgate.com/tech/article/self-driving-cars-asian-art-museum-19364136.php)"
      ],
      "text/plain": [
       "<IPython.core.display.Markdown object>"
      ]
     },
     "metadata": {},
     "output_type": "display_data"
    },
    {
     "data": {
      "text/markdown": [
       "___"
      ],
      "text/plain": [
       "<IPython.core.display.Markdown object>"
      ]
     },
     "metadata": {},
     "output_type": "display_data"
    },
    {
     "data": {
      "text/markdown": [
       "[Coreweave looking to raise equity to build AI cloud data centers at $16b valuation](https://www.bloomberg.com/news/articles/2024-03-22/coreweave-is-in-talks-for-funding-at-16-billion-valuation)"
      ],
      "text/plain": [
       "<IPython.core.display.Markdown object>"
      ]
     },
     "metadata": {},
     "output_type": "display_data"
    },
    {
     "data": {
      "text/markdown": [
       "___"
      ],
      "text/plain": [
       "<IPython.core.display.Markdown object>"
      ]
     },
     "metadata": {},
     "output_type": "display_data"
    },
    {
     "data": {
      "text/markdown": [
       "I have to say, Gmail is crazy slow for some operations since opting into AI features, use caution."
      ],
      "text/plain": [
       "<IPython.core.display.Markdown object>"
      ]
     },
     "metadata": {},
     "output_type": "display_data"
    },
    {
     "data": {
      "image/jpeg": "[encoded data removed]",
      "text/plain": [
       "<IPython.core.display.Image object>"
      ]
     },
     "metadata": {},
     "output_type": "display_data"
    },
    {
     "data": {
      "text/markdown": [
       "[Google will start showing AI answers to users who didn't opt in. They are presumably excluding high-stakes queries like money, health.](https://www.engadget.com/google-will-start-showing-ai-powered-search-results-to-users-who-didnt-opt-in-093036257.html) - Engadget"
      ],
      "text/plain": [
       "<IPython.core.display.Markdown object>"
      ]
     },
     "metadata": {},
     "output_type": "display_data"
    },
    {
     "data": {
      "text/markdown": [
       "___"
      ],
      "text/plain": [
       "<IPython.core.display.Markdown object>"
      ]
     },
     "metadata": {},
     "output_type": "display_data"
    },
    {
     "data": {
      "image/jpeg": "[encoded data removed]",
      "text/plain": [
       "<IPython.core.display.Image object>"
      ]
     },
     "metadata": {},
     "output_type": "display_data"
    },
    {
     "data": {
      "text/markdown": [
       "[Google redesigns how it deals with health questions](https://www.zdnet.com/article/google-just-gave-search-results-for-health-conditions-an-ai-facelift-heres-whats-new/) - ZDNET"
      ],
      "text/plain": [
       "<IPython.core.display.Markdown object>"
      ]
     },
     "metadata": {},
     "output_type": "display_data"
    },
    {
     "data": {
      "text/markdown": [
       "___"
      ],
      "text/plain": [
       "<IPython.core.display.Markdown object>"
      ]
     },
     "metadata": {},
     "output_type": "display_data"
    },
    {
     "data": {
      "image/jpeg": "[encoded data removed]",
      "text/plain": [
       "<IPython.core.display.Image object>"
      ]
     },
     "metadata": {},
     "output_type": "display_data"
    },
    {
     "data": {
      "text/markdown": [
       "[AI is too complex for static benchmarks, there is memorization, training to the test, safety, bias, and above all it's super subjective](https://techcrunch.com/2024/03/23/why-its-impossible-to-review-ais-and-why-techcrunch-is-doing-it-anyway/) - TechCrunch"
      ],
      "text/plain": [
       "<IPython.core.display.Markdown object>"
      ]
     },
     "metadata": {},
     "output_type": "display_data"
    },
    {
     "data": {
      "text/markdown": [
       "___"
      ],
      "text/plain": [
       "<IPython.core.display.Markdown object>"
      ]
     },
     "metadata": {},
     "output_type": "display_data"
    },
    {
     "data": {
      "image/jpeg": "[encoded data removed]",
      "text/plain": [
       "<IPython.core.display.Image object>"
      ]
     },
     "metadata": {},
     "output_type": "display_data"
    },
    {
     "data": {
      "text/markdown": [
       "[It ain't $6 trillion but Intel is building AI chips with about $40b in industrial policy assistance](https://qz.com/intel-ai-chip-factory-world-chips-act-funds-1851358125) - Quartz"
      ],
      "text/plain": [
       "<IPython.core.display.Markdown object>"
      ]
     },
     "metadata": {},
     "output_type": "display_data"
    },
    {
     "data": {
      "text/markdown": [
       "___"
      ],
      "text/plain": [
       "<IPython.core.display.Markdown object>"
      ]
     },
     "metadata": {},
     "output_type": "display_data"
    },
    {
     "data": {
      "image/jpeg": "[encoded data removed]",
      "text/plain": [
       "<IPython.core.display.Image object>"
      ]
     },
     "metadata": {},
     "output_type": "display_data"
    },
    {
     "data": {
      "text/markdown": [
       "[Stability AI CEO resigns, totally his own decision, just wants to do something different](https://www.theverge.com/2024/3/23/24109511/stability-ai-ceo-emad-mostaque-resignation-decentralized-ai) - The Verge"
      ],
      "text/plain": [
       "<IPython.core.display.Markdown object>"
      ]
     },
     "metadata": {},
     "output_type": "display_data"
    },
    {
     "data": {
      "text/markdown": [
       "___"
      ],
      "text/plain": [
       "<IPython.core.display.Markdown object>"
      ]
     },
     "metadata": {},
     "output_type": "display_data"
    },
    {
     "data": {
      "image/jpeg": "[encoded data removed]",
      "text/plain": [
       "<IPython.core.display.Image object>"
      ]
     },
     "metadata": {},
     "output_type": "display_data"
    },
    {
     "data": {
      "text/markdown": [
       "[The unsuccessful search for the first victim of the Eliza effect, Weizenbaum's assistant, who turned the anti-Pygmalion against his creation](https://theconversation.com/my-search-for-the-mysterious-missing-secretary-who-shaped-chatbot-history-225602) - The Conversation"
      ],
      "text/plain": [
       "<IPython.core.display.Markdown object>"
      ]
     },
     "metadata": {},
     "output_type": "display_data"
    },
    {
     "data": {
      "text/markdown": [
       "___"
      ],
      "text/plain": [
       "<IPython.core.display.Markdown object>"
      ]
     },
     "metadata": {},
     "output_type": "display_data"
    },
    {
     "data": {
      "image/jpeg": "[encoded data removed]",
      "text/plain": [
       "<IPython.core.display.Image object>"
      ]
     },
     "metadata": {},
     "output_type": "display_data"
    },
    {
     "data": {
      "text/markdown": [
       "[Like it or not, AI mental health, coaching, self-help chatbots are here](https://thegrio.com/2024/03/23/ai-chatbots-used-to-help-with-mental-health-struggles/) - TheGrio"
      ],
      "text/plain": [
       "<IPython.core.display.Markdown object>"
      ]
     },
     "metadata": {},
     "output_type": "display_data"
    },
    {
     "data": {
      "text/markdown": [
       "___"
      ],
      "text/plain": [
       "<IPython.core.display.Markdown object>"
      ]
     },
     "metadata": {},
     "output_type": "display_data"
    },
    {
     "data": {
      "image/jpeg": "[encoded data removed]",
      "text/plain": [
       "<IPython.core.display.Image object>"
      ]
     },
     "metadata": {},
     "output_type": "display_data"
    },
    {
     "data": {
      "text/markdown": [
       "[César Hidalgo TED talk about replacing political decisionmaking with popular preferences, systems and AI](https://www.ted.com/talks/cesar_hidalgo_a_bold_idea_to_replace_politicians?rss=172BB350-0207)"
      ],
      "text/plain": [
       "<IPython.core.display.Markdown object>"
      ]
     },
     "metadata": {},
     "output_type": "display_data"
    },
    {
     "data": {
      "text/markdown": [
       "___"
      ],
      "text/plain": [
       "<IPython.core.display.Markdown object>"
      ]
     },
     "metadata": {},
     "output_type": "display_data"
    },
    {
     "data": {
      "text/markdown": [
       "[Want to Know if AI Will Take Your Job? I Tried Using It to Replace Myself](https://www.wsj.com/tech/ai/jobs-chatgpt-artificial-intelligence-openai-cea961d5)"
      ],
      "text/plain": [
       "<IPython.core.display.Markdown object>"
      ]
     },
     "metadata": {},
     "output_type": "display_data"
    },
    {
     "data": {
      "text/markdown": [
       "___"
      ],
      "text/plain": [
       "<IPython.core.display.Markdown object>"
      ]
     },
     "metadata": {},
     "output_type": "display_data"
    },
    {
     "data": {
      "image/jpeg": "[encoded data removed]",
      "text/plain": [
       "<IPython.core.display.Image object>"
      ]
     },
     "metadata": {},
     "output_type": "display_data"
    },
    {
     "data": {
      "text/markdown": [
       "[Stability AI CEO Mostaque reportedly told industry sources he will be stepping down](https://www.forbes.com/sites/kenrickcai/2024/03/22/stability-ai-founder-emad-mostaque-plans-to-resign-as-ceo-sources-say/?sh=eaa95f452392) - Forbes"
      ],
      "text/plain": [
       "<IPython.core.display.Markdown object>"
      ]
     },
     "metadata": {},
     "output_type": "display_data"
    },
    {
     "data": {
      "text/markdown": [
       "___"
      ],
      "text/plain": [
       "<IPython.core.display.Markdown object>"
      ]
     },
     "metadata": {},
     "output_type": "display_data"
    },
    {
     "data": {
      "text/markdown": [
       "US-based big tech is winning the global talent war"
      ],
      "text/plain": [
       "<IPython.core.display.Markdown object>"
      ]
     },
     "metadata": {},
     "output_type": "display_data"
    },
    {
     "data": {
      "image/jpeg": "[encoded data removed]",
      "text/plain": [
       "<IPython.core.display.Image object>"
      ]
     },
     "metadata": {},
     "output_type": "display_data"
    },
    {
     "data": {
      "text/markdown": [
       "[Maybe we need an AI to distinguish artificial intellegence problems from natural stupidity problems.](https://www.mediaite.com/news/jordan-peterson-proposes-using-ai-to-determine-whether-hitler-was-right-wing-because-he-cant-figure-it-out-himself/) - Mediaite"
      ],
      "text/plain": [
       "<IPython.core.display.Markdown object>"
      ]
     },
     "metadata": {},
     "output_type": "display_data"
    },
    {
     "data": {
      "text/markdown": [
       "___"
      ],
      "text/plain": [
       "<IPython.core.display.Markdown object>"
      ]
     },
     "metadata": {},
     "output_type": "display_data"
    },
    {
     "data": {
      "text/markdown": [
       "[China has more ML researcherrs than US](https://www.nytimes.com/2024/03/22/technology/china-ai-talent.html)"
      ],
      "text/plain": [
       "<IPython.core.display.Markdown object>"
      ]
     },
     "metadata": {},
     "output_type": "display_data"
    },
    {
     "data": {
      "text/markdown": [
       "___"
      ],
      "text/plain": [
       "<IPython.core.display.Markdown object>"
      ]
     },
     "metadata": {},
     "output_type": "display_data"
    },
    {
     "data": {
      "text/markdown": [
       "[Apple talked to Baidu about using their AI, WSJ reported](https://www.reuters.com/technology/apple-held-talks-with-chinas-baidu-over-ai-use-its-devices-wsj-reports-2024-03-22/)"
      ],
      "text/plain": [
       "<IPython.core.display.Markdown object>"
      ]
     },
     "metadata": {},
     "output_type": "display_data"
    },
    {
     "data": {
      "text/markdown": [
       "___"
      ],
      "text/plain": [
       "<IPython.core.display.Markdown object>"
      ]
     },
     "metadata": {},
     "output_type": "display_data"
    },
    {
     "name": "stdout",
     "output_type": "stream",
     "text": [
      "name 'httplib' is not defined\n"
     ]
    },
    {
     "data": {
      "text/markdown": [
       "[An LLM for data science, probably better than my ChatGPT assistant for data science LOL](https://arxiv.org/abs/2402.18679v3) - arXiv.org"
      ],
      "text/plain": [
       "<IPython.core.display.Markdown object>"
      ]
     },
     "metadata": {},
     "output_type": "display_data"
    },
    {
     "data": {
      "text/markdown": [
       "___"
      ],
      "text/plain": [
       "<IPython.core.display.Markdown object>"
      ]
     },
     "metadata": {},
     "output_type": "display_data"
    },
    {
     "data": {
      "text/markdown": [
       "[There is a 'leak' going around about Q-Star being an energy-based model, but it might just be AI-generated](https://twitter.com/jeremyphoward/status/1770635047722438733)"
      ],
      "text/plain": [
       "<IPython.core.display.Markdown object>"
      ]
     },
     "metadata": {},
     "output_type": "display_data"
    },
    {
     "data": {
      "text/markdown": [
       "___"
      ],
      "text/plain": [
       "<IPython.core.display.Markdown object>"
      ]
     },
     "metadata": {},
     "output_type": "display_data"
    },
    {
     "data": {
      "text/markdown": [
       "[But if you want to sell, there is a target-rich environment of bigcos that need LLM plays](https://www.bloomberg.com/news/articles/2024-03-22/tech-giants-seek-partnerships-talent-to-speed-up-ai-deployment)"
      ],
      "text/plain": [
       "<IPython.core.display.Markdown object>"
      ]
     },
     "metadata": {},
     "output_type": "display_data"
    },
    {
     "data": {
      "text/markdown": [
       "___"
      ],
      "text/plain": [
       "<IPython.core.display.Markdown object>"
      ]
     },
     "metadata": {},
     "output_type": "display_data"
    },
    {
     "data": {
      "text/markdown": [
       "[The chatbot market got crowded fast and there is already a shakeout underway](https://www.bloomberg.com/news/newsletters/2024-03-21/inflection-ai-upheaval-a-wake-up-call-for-crowded-chatbot-market)"
      ],
      "text/plain": [
       "<IPython.core.display.Markdown object>"
      ]
     },
     "metadata": {},
     "output_type": "display_data"
    },
    {
     "data": {
      "text/markdown": [
       "___"
      ],
      "text/plain": [
       "<IPython.core.display.Markdown object>"
      ]
     },
     "metadata": {},
     "output_type": "display_data"
    },
    {
     "data": {
      "image/jpeg": "[encoded data removed]",
      "text/plain": [
       "<IPython.core.display.Image object>"
      ]
     },
     "metadata": {},
     "output_type": "display_data"
    },
    {
     "data": {
      "text/markdown": [
       "[Some leaks on how Microsoft is paying off investors in Inflection. Sounds like they are 'buying' it at 1/2 the last valuation, the founders took the hit to make VCs whole](https://techcrunch.com/2024/03/21/microsoft-inflection-ai-investors-reid-hoffman-bill-gates/) - TechCrunch"
      ],
      "text/plain": [
       "<IPython.core.display.Markdown object>"
      ]
     },
     "metadata": {},
     "output_type": "display_data"
    },
    {
     "data": {
      "text/markdown": [
       "___"
      ],
      "text/plain": [
       "<IPython.core.display.Markdown object>"
      ]
     },
     "metadata": {},
     "output_type": "display_data"
    },
    {
     "data": {
      "image/jpeg": "[encoded data removed]",
      "text/plain": [
       "<IPython.core.display.Image object>"
      ]
     },
     "metadata": {},
     "output_type": "display_data"
    },
    {
     "data": {
      "text/markdown": [
       "[Pentagon wants thousands of autonomous drones, like yesterday](https://www.vox.com/world-politics/24107959/replicator-drones-china-taiwan-ukraine-pentagon) - Vox"
      ],
      "text/plain": [
       "<IPython.core.display.Markdown object>"
      ]
     },
     "metadata": {},
     "output_type": "display_data"
    },
    {
     "data": {
      "text/markdown": [
       "___"
      ],
      "text/plain": [
       "<IPython.core.display.Markdown object>"
      ]
     },
     "metadata": {},
     "output_type": "display_data"
    },
    {
     "data": {
      "text/markdown": [
       "Between some new prompt-fu in the GPT Store, and latest OpenAI updates, you can now generate ludicrously realistic images from the integrated Dall-E"
      ],
      "text/plain": [
       "<IPython.core.display.Markdown object>"
      ]
     },
     "metadata": {},
     "output_type": "display_data"
    },
    {
     "data": {
      "image/jpeg": "[encoded data removed]",
      "text/plain": [
       "<IPython.core.display.Image object>"
      ]
     },
     "metadata": {},
     "output_type": "display_data"
    },
    {
     "data": {
      "text/markdown": [
       "[We need the good actors to label when they use AI but we also need crypto-assured chains of provenance. If you get a photo of Kate Middleton, there should be a 'git blame' trail showing when it was digitally signed by the camera and every change thereafter.](https://www.whio.com/news/new-bipartisan-bill/7U5ZZVC2MP6KPDHAUUSMXU7KYU/) - WHIO TV 7 and WHIO Radio"
      ],
      "text/plain": [
       "<IPython.core.display.Markdown object>"
      ]
     },
     "metadata": {},
     "output_type": "display_data"
    },
    {
     "data": {
      "text/markdown": [
       "___"
      ],
      "text/plain": [
       "<IPython.core.display.Markdown object>"
      ]
     },
     "metadata": {},
     "output_type": "display_data"
    }
   ],
   "source": [
    "imgdir = 'tmp'\n",
    "delete_files(imgdir)\n",
    "\n",
    "display(Markdown(f\"Follow latest AI headlines via [SkynetAndChill.com on Bluesky](https://bsky.app/profile/skynetandchill.com)\"))\n",
    "\n",
    "\n",
    "for i, post in enumerate(data.feed):\n",
    "    post_str = post.post.record.text.rstrip()\n",
    "    post_str = truncate_last_occurrence(post_str)\n",
    "    post_url = \"\"\n",
    "    tag_dict = {}\n",
    "    try:\n",
    "        post_url = post.post.record.embed.external.uri.rstrip()\n",
    "    except:\n",
    "        pass\n",
    "    if post_url:\n",
    "        tag_dict = get_og_tags(post_url)\n",
    "        display_str = f\"[{post_str}]({post_url})\"\n",
    "        site_name = tag_dict.get('og:site_name')\n",
    "        img_url = tag_dict.get('og:image')\n",
    "        if site_name:\n",
    "            display_str += f\" - {site_name}\"\n",
    "        if img_url:\n",
    "            try:\n",
    "                r = rawfetchurl(img_url)\n",
    "                content_type = r.headers['Content-Type']\n",
    "                content_type = content_type[content_type.find('/')+1:]\n",
    "                impath = f\"{imgdir}/source{i}.{content_type}\"\n",
    "                with open(impath, 'wb') as file:\n",
    "                    file.write(r.content)\n",
    "                output_path = f'{imgdir}/Image{i}.jpg'\n",
    "                resize_and_crop(impath, output_path)\n",
    "                display(IPython.display.Image(filename=output_path))\n",
    "            except Exception as e:\n",
    "                print(e)\n",
    "        display(Markdown(display_str))\n",
    "        display(Markdown(\"___\"))\n",
    "\n",
    "    else:\n",
    "        display(Markdown(f\"{post_str}\"))"
   ]
  },
  {
   "cell_type": "code",
   "execution_count": 46,
   "id": "b2206e03",
   "metadata": {},
   "outputs": [
    {
     "data": {
      "text/plain": [
       "{'mime_type': 'image/jpeg',\n",
       " 'size': 235094,\n",
       " 'ref': {'link': 'bafkreiexoxs5zwlgftfbmtmvf7q3nwvxmjcd2txwep7d6bmlca5ezlpu2a'},\n",
       " 'py_type': 'blob'}"
      ]
     },
     "execution_count": 46,
     "metadata": {},
     "output_type": "execute_result"
    }
   ],
   "source": [
    "data.feed[0].post.record.embed.external.thumb.dict()"
   ]
  },
  {
   "cell_type": "code",
   "execution_count": 47,
   "id": "e22a81b1",
   "metadata": {},
   "outputs": [
    {
     "data": {
      "text/plain": [
       "{'external': {'description': 'Jaemark Tordecilla has created an AI tool to help investigative reporters uncover wrongdoing in Philippine government audit reports, in what could mark a sea change for journalism in the Global South.',\n",
       "  'title': 'Filipino journalist’s AI tool for in-depth reporting challenges industry fears',\n",
       "  'uri': 'https://www.scmp.com/week-asia/people/article/3256522/filipino-journalist-upends-industrys-ai-doomsday-fears-custom-chatbot-aid-depth-reporting',\n",
       "  'thumb': {'mime_type': 'image/jpeg',\n",
       "   'size': 235094,\n",
       "   'ref': {'link': 'bafkreiexoxs5zwlgftfbmtmvf7q3nwvxmjcd2txwep7d6bmlca5ezlpu2a'},\n",
       "   'py_type': 'blob'},\n",
       "  'py_type': 'app.bsky.embed.external#external'},\n",
       " 'py_type': 'app.bsky.embed.external'}"
      ]
     },
     "execution_count": 47,
     "metadata": {},
     "output_type": "execute_result"
    }
   ],
   "source": [
    "data.feed[0].post.record.embed.dict()"
   ]
  },
  {
   "cell_type": "code",
   "execution_count": 48,
   "id": "cd45e02f",
   "metadata": {},
   "outputs": [
    {
     "name": "stdout",
     "output_type": "stream",
     "text": [
      "2024-03-25 07:53:23.164087\n"
     ]
    }
   ],
   "source": [
    "print(datetime.now())"
   ]
  },
  {
   "cell_type": "code",
   "execution_count": null,
   "id": "7c6f2b8e",
   "metadata": {},
   "outputs": [],
   "source": []
  }
 ],
 "metadata": {
  "kernelspec": {
   "display_name": "ainewsbot",
   "language": "python",
   "name": "ainewsbot"
  },
  "language_info": {
   "codemirror_mode": {
    "name": "ipython",
    "version": 3
   },
   "file_extension": ".py",
   "mimetype": "text/x-python",
   "name": "python",
   "nbconvert_exporter": "python",
   "pygments_lexer": "ipython3",
   "version": "3.9.19"
  }
 },
 "nbformat": 4,
 "nbformat_minor": 5
}
