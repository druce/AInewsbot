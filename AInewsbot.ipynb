{
 "cells": [
  {
   "cell_type": "markdown",
   "id": "cd15f6b8-26b9-468c-8427-9de836b240fd",
   "metadata": {},
   "source": [
    "AInewsbot.ipynb\n",
    "\n",
    "- Automate collecting daily AI news\n",
    "- Open URLs of news sites specififed in `sources` dict (sources.yaml) using Selenium and Firefox\n",
    "- Save HTML of each URL in htmldata directory\n",
    "- Extract URLs from all files, create a pandas dataframe with url, title, src\n",
    "- Use ChatGPT to filter only AI-related headlines by sending a prompt and formatted table of headlines\n",
    "- Use SQLite to filter headlines previously seen \n",
    "- OPENAI_API_KEY should be in the environment or in a .env file\n",
    "  \n",
    "Alternative manual workflow to get HTML files if necessary\n",
    "- Use Chrome, open e.g. Tech News bookmark folder, right-click and open all bookmarks in new window\n",
    "- on Google News, make sure switch to AI tab\n",
    "- on Google News, Feedly, Reddit, scroll to additional pages as desired\n",
    "- Use SingleFile extension, 'save all tabs'\n",
    "- Move files to htmldata directory\n",
    "- Run lower part of notebook to process the data\n"
   ]
  },
  {
   "cell_type": "markdown",
   "id": "b986568e",
   "metadata": {},
   "source": [
    "1. initialize\n",
    "2. fetch web pages\n",
    "3. parse news story urls from web pages\n",
    "4. filter headlines by relevance, not previously seen\n",
    "5. perform topic analysis on headlines, and ordering by topic\n",
    "6. summarize individual pages as bullet points\n",
    "7. from bullet points, extract top 10 most common themes and stories of the day in order of importance\n",
    "8. topic analysis of bullet points, categorize bullet points as belonging to particular themes\n",
    "9. for each theme, make a summary and links. Here we want to iterate to improve summaries per specific criteria.\n",
    "10. combine themes and send."
   ]
  },
  {
   "cell_type": "code",
   "execution_count": null,
   "id": "9663d0b2",
   "metadata": {},
   "outputs": [],
   "source": [
    "import sys\n",
    "del sys.modules['ainb_const']\n"
   ]
  },
  {
   "cell_type": "code",
   "execution_count": 1,
   "id": "d7195880-36be-4987-b71f-86590c934d72",
   "metadata": {},
   "outputs": [],
   "source": [
    "from datetime import datetime\n",
    "import os\n",
    "import yaml\n",
    "import dotenv\n",
    "import sqlite3\n",
    "import unicodedata\n",
    "import json\n",
    "from collections import Counter\n",
    "\n",
    "import numpy as np\n",
    "import pandas as pd\n",
    "\n",
    "# import bs4\n",
    "from bs4 import BeautifulSoup\n",
    "import requests\n",
    "from urllib.parse import urljoin, urlparse\n",
    "\n",
    "import multiprocessing\n",
    "from concurrent.futures import ThreadPoolExecutor, as_completed\n",
    "import asyncio\n",
    "import aiohttp\n",
    "\n",
    "from IPython.display import HTML, Image, Markdown, display\n",
    "import markdown\n",
    "\n",
    "import smtplib\n",
    "from email.mime.multipart import MIMEMultipart\n",
    "from email.mime.text import MIMEText\n",
    "\n",
    "from openai import OpenAI\n",
    "\n",
    "from ainb_const import (DOWNLOAD_DIR, LOWCOST_MODEL, MODEL,\n",
    "                        SOURCECONFIG, FILTER_PROMPT, TOPIC_PROMPT,\n",
    "                        SUMMARIZE_SYSTEM_PROMPT, SUMMARIZE_USER_PROMPT, FINAL_SUMMARY_PROMPT, TOP_CATEGORIES_PROMPT,\n",
    "                        MAX_INPUT_TOKENS, MAX_OUTPUT_TOKENS, MAX_RETRIES, TEMPERATURE)\n",
    "from ainb_utilities import (log, delete_files, filter_unseen_urls_db, insert_article, \n",
    "                            nearest_neighbor_sort, agglomerative_cluster_sort, traveling_salesman_sort_scipy,\n",
    "                            send_gmail)\n",
    "from ainb_webscrape import (get_driver, quit_drivers, launch_drivers, get_file, get_url, parse_file, \n",
    "                            get_og_tags, get_path_from_url, trimmed_href, process_source_queue_factory, \n",
    "                            process_url_queue_factory, DRIVERS)\n",
    "from ainb_llm import paginate_df, process_pages, fetch_pages, fetch_openai, fetch_all_summaries, fetch_openai_summary, trunc_tokens\n",
    "\n",
    "\n",
    "import asyncio\n",
    "# need this to run async in jupyter since it already has an asyncio event loop running\n",
    "import nest_asyncio\n",
    "nest_asyncio.apply()\n"
   ]
  },
  {
   "cell_type": "markdown",
   "id": "3427af54",
   "metadata": {},
   "source": [
    "# Initialize"
   ]
  },
  {
   "cell_type": "code",
   "execution_count": 2,
   "id": "d2950cda",
   "metadata": {},
   "outputs": [],
   "source": [
    "# OpenAI API module\n",
    "client = OpenAI()\n",
    "\n",
    "# Or can use REST API directly\n",
    "API_URL = 'https://api.openai.com/v1/chat/completions'\n",
    "\n",
    "headers = {\n",
    "    'Content-Type': 'application/json',\n",
    "    'Authorization': f'Bearer {os.getenv(\"OPENAI_API_KEY\")}',\n",
    "}\n"
   ]
  },
  {
   "cell_type": "code",
   "execution_count": 3,
   "id": "c2324ab9-f769-4a6f-aa16-a30a001ede78",
   "metadata": {},
   "outputs": [
    {
     "name": "stderr",
     "output_type": "stream",
     "text": [
      "2024-07-07 18:05:46,031 - AInewsbot - INFO - Load 17 sources from sources.yaml\n",
      "2024-07-07 18:05:46,033 - AInewsbot - INFO - Ars Technica -> https://arstechnica.com/ -> Ars Technica.html\n",
      "2024-07-07 18:05:46,033 - AInewsbot - INFO - Bloomberg Tech -> https://www.bloomberg.com/technology -> Bloomberg Technology - Bloomberg.html\n",
      "2024-07-07 18:05:46,034 - AInewsbot - INFO - Business Insider -> https://www.businessinsider.com/tech -> Tech - Business Insider.html\n",
      "2024-07-07 18:05:46,034 - AInewsbot - INFO - FT Tech -> https://www.ft.com/technology -> Technology.html\n",
      "2024-07-07 18:05:46,034 - AInewsbot - INFO - Feedly AI -> https://feedly.com/i/aiFeeds?options=eyJsYXllcnMiOlt7InBhcnRzIjpbeyJpZCI6Im5scC9mL3RvcGljLzMwMDAifV0sInNlYXJjaEhpbnQiOiJ0ZWNobm9sb2d5IiwidHlwZSI6Im1hdGNoZXMiLCJzYWxpZW5jZSI6ImFib3V0In1dLCJidW5kbGVzIjpbeyJ0eXBlIjoic3RyZWFtIiwiaWQiOiJ1c2VyLzYyZWViYjlmLTcxNTEtNGY5YS1hOGM3LTlhNTdiODIwNTMwOC9jYXRlZ29yeS9HYWRnZXRzIn1dfQ -> Discover and Add New Feedly AI Feeds.html\n",
      "2024-07-07 18:05:46,035 - AInewsbot - INFO - Google News -> https://news.google.com/topics/CAAqJggKIiBDQkFTRWdvSUwyMHZNRGRqTVhZU0FtVnVHZ0pWVXlnQVAB?hl=en-US&gl=US&ceid=US%3Aen -> Google News - Technology - Artificial intelligence.html\n",
      "2024-07-07 18:05:46,035 - AInewsbot - INFO - Hacker News -> https://news.ycombinator.com/ -> Hacker News Page 1.html\n",
      "2024-07-07 18:05:46,035 - AInewsbot - INFO - Hacker News 2 -> https://news.ycombinator.com/?p=2 -> Hacker News Page 2.html\n",
      "2024-07-07 18:05:46,036 - AInewsbot - INFO - HackerNoon -> https://hackernoon.com/ -> HackerNoon - read, write and learn about any technology.html\n",
      "2024-07-07 18:05:46,036 - AInewsbot - INFO - NYT Tech -> https://www.nytimes.com/section/technology -> Technology - The New York Times.html\n",
      "2024-07-07 18:05:46,036 - AInewsbot - INFO - Reddit -> https://www.reddit.com/r/ChatGPT+ChatGPTCoding+MacOS+MachineLearning+OpenAI+ProgrammerHumor+Windows10+battlestations+buildapc+cordcutters+dataisbeautiful+gadgets+hardware+linux+msp+programming+realtech+software+talesfromtechsupport+tech+technews+technology+techsupportgore+windows/top/?sort=top&t=day -> top scoring links _ multi.html\n",
      "2024-07-07 18:05:46,037 - AInewsbot - INFO - Techmeme -> https://www.techmeme.com/river -> Techmeme.html\n",
      "2024-07-07 18:05:46,037 - AInewsbot - INFO - The Register -> https://www.theregister.com/ -> The Register_ Enterprise Technology News and Analysis.html\n",
      "2024-07-07 18:05:46,037 - AInewsbot - INFO - The Verge -> https://www.theverge.com/ai-artificial-intelligence -> Artificial Intelligence - The Verge.html\n",
      "2024-07-07 18:05:46,038 - AInewsbot - INFO - VentureBeat -> https://venturebeat.com/category/ai/ -> AI News _ VentureBeat.html\n",
      "2024-07-07 18:05:46,038 - AInewsbot - INFO - WSJ Tech -> https://www.wsj.com/tech -> Technology - WSJ.com.html\n",
      "2024-07-07 18:05:46,038 - AInewsbot - INFO - WaPo Tech -> https://www.washingtonpost.com/business/technology/ -> Technology - The Washington Post.html\n",
      "2024-07-07 18:05:46,038 - AInewsbot - INFO - Mapped 17 source page titles to sources\n"
     ]
    },
    {
     "data": {
      "text/plain": [
       "20"
      ]
     },
     "execution_count": 3,
     "metadata": {},
     "output_type": "execute_result"
    }
   ],
   "source": [
    "#  load sources to scrape from sources.yaml\n",
    "with open(SOURCECONFIG, \"r\") as stream:\n",
    "    try:\n",
    "        sources = yaml.safe_load(stream)\n",
    "    except yaml.YAMLError as exc:\n",
    "        print(exc)\n",
    "\n",
    "log(f\"Load {len(sources)} sources from {SOURCECONFIG}\")\n",
    "\n",
    "# make a reverse dict to map output file titles to source names\n",
    "sources_reverse = {}\n",
    "for k, v in sources.items():\n",
    "    log(f\"{k} -> {v['url']} -> {v['title']}.html\")\n",
    "    v['sourcename'] = k\n",
    "    # map filename (title) to source name\n",
    "    sources_reverse[v['title']] = k\n",
    "\n",
    "log(f\"Mapped {len(sources_reverse)} source page titles to sources\")\n"
   ]
  },
  {
   "cell_type": "code",
   "execution_count": 4,
   "id": "85998de4",
   "metadata": {},
   "outputs": [
    {
     "data": {
      "text/plain": [
       "{'Ars Technica': {'include': ['^https://arstechnica.com/(\\\\w+)/(\\\\d+)/(\\\\d+)/'],\n",
       "  'title': 'Ars Technica',\n",
       "  'url': 'https://arstechnica.com/',\n",
       "  'sourcename': 'Ars Technica'},\n",
       " 'Bloomberg Tech': {'include': ['^https://www.bloomberg.com/news/'],\n",
       "  'title': 'Bloomberg Technology - Bloomberg',\n",
       "  'url': 'https://www.bloomberg.com/technology',\n",
       "  'sourcename': 'Bloomberg Tech'},\n",
       " 'Business Insider': {'exclude': ['^https://www.insider.com',\n",
       "   '^https://www.passionfroot.me'],\n",
       "  'title': 'Tech - Business Insider',\n",
       "  'url': 'https://www.businessinsider.com/tech',\n",
       "  'sourcename': 'Business Insider'},\n",
       " 'FT Tech': {'include': ['https://www.ft.com/content/'],\n",
       "  'title': 'Technology',\n",
       "  'url': 'https://www.ft.com/technology',\n",
       "  'sourcename': 'FT Tech'},\n",
       " 'Feedly AI': {'exclude': ['^https://feedly.com',\n",
       "   '^https://s1.feedly.com',\n",
       "   '^https://blog.feedly.com'],\n",
       "  'scroll': 5,\n",
       "  'initial_sleep': 30,\n",
       "  'title': 'Discover and Add New Feedly AI Feeds',\n",
       "  'url': 'https://feedly.com/i/aiFeeds?options=eyJsYXllcnMiOlt7InBhcnRzIjpbeyJpZCI6Im5scC9mL3RvcGljLzMwMDAifV0sInNlYXJjaEhpbnQiOiJ0ZWNobm9sb2d5IiwidHlwZSI6Im1hdGNoZXMiLCJzYWxpZW5jZSI6ImFib3V0In1dLCJidW5kbGVzIjpbeyJ0eXBlIjoic3RyZWFtIiwiaWQiOiJ1c2VyLzYyZWViYjlmLTcxNTEtNGY5YS1hOGM3LTlhNTdiODIwNTMwOC9jYXRlZ29yeS9HYWRnZXRzIn1dfQ',\n",
       "  'sourcename': 'Feedly AI'},\n",
       " 'Google News': {'click': '//*[@aria-label=\"Artificial intelligence\"]',\n",
       "  'include': ['^https://news.google.com/articles/'],\n",
       "  'scroll': 2,\n",
       "  'title': 'Google News - Technology - Artificial intelligence',\n",
       "  'url': 'https://news.google.com/topics/CAAqJggKIiBDQkFTRWdvSUwyMHZNRGRqTVhZU0FtVnVHZ0pWVXlnQVAB?hl=en-US&gl=US&ceid=US%3Aen',\n",
       "  'sourcename': 'Google News'},\n",
       " 'Hacker News': {'exclude': ['https://news.ycombinator.com/',\n",
       "   'https://www.ycombinator.com/'],\n",
       "  'title': 'Hacker News Page 1',\n",
       "  'url': 'https://news.ycombinator.com/',\n",
       "  'minlength': 5,\n",
       "  'sourcename': 'Hacker News'},\n",
       " 'Hacker News 2': {'exclude': ['https://news.ycombinator.com',\n",
       "   'https://www.ycombinator.com'],\n",
       "  'title': 'Hacker News Page 2',\n",
       "  'url': 'https://news.ycombinator.com/?p=2',\n",
       "  'sourcename': 'Hacker News 2'},\n",
       " 'HackerNoon': {'exclude': ['^https://hackernoon.com/$',\n",
       "   '^https://hackernoon.com/c$',\n",
       "   '^https://hackernoon.com/coins$',\n",
       "   '^https://hackernoon.com/companies$',\n",
       "   '^https://hackernoon.com/gallery$',\n",
       "   '^https://hackernoon.com/how-to-gain-followers-and-newsletter-subs-directly-on-hackernoon$',\n",
       "   '^https://hackernoon.com/login$',\n",
       "   '^https://hackernoon.com/reader-boot$',\n",
       "   '^https://hackernoon.com/sitemap.xml$',\n",
       "   '^https://hackernoon.com/startups$',\n",
       "   '^https://hackernoon.com/techbeat$',\n",
       "   '^https://hackernoon.com/why-i-write-on-hacker-noon-nl28335q$',\n",
       "   '^https://hackernoon.com/writer-signup$'],\n",
       "  'title': 'HackerNoon - read, write and learn about any technology',\n",
       "  'url': 'https://hackernoon.com/',\n",
       "  'sourcename': 'HackerNoon'},\n",
       " 'NYT Tech': {'include': ['^https://www.nytimes.com/(\\\\d+)/(\\\\d+)/(\\\\d+)/'],\n",
       "  'title': 'Technology - The New York Times',\n",
       "  'url': 'https://www.nytimes.com/section/technology',\n",
       "  'sourcename': 'NYT Tech'},\n",
       " 'Reddit': {'exclude': ['^https://chat.reddit.com/',\n",
       "   '^https://i.redd.it/',\n",
       "   '^https://redditblog.com/',\n",
       "   '^https://www.redditinc.com/',\n",
       "   '^https://www.reddithelp.com/',\n",
       "   '^https://itunes.apple.com/',\n",
       "   '^https://play.google.com/'],\n",
       "  'scroll': 2,\n",
       "  'minlength': 8,\n",
       "  'title': 'top scoring links _ multi',\n",
       "  'url': 'https://www.reddit.com/r/ChatGPT+ChatGPTCoding+MacOS+MachineLearning+OpenAI+ProgrammerHumor+Windows10+battlestations+buildapc+cordcutters+dataisbeautiful+gadgets+hardware+linux+msp+programming+realtech+software+talesfromtechsupport+tech+technews+technology+techsupportgore+windows/top/?sort=top&t=day',\n",
       "  'sourcename': 'Reddit'},\n",
       " 'Techmeme': {'exclude': ['^https://www.techmeme.com',\n",
       "   '^https://twitter.com/',\n",
       "   '^https://www.threads.net',\n",
       "   '^https://www.linkedin.com',\n",
       "   '^https://mastodon.social',\n",
       "   '^https://bsky.app'],\n",
       "  'title': 'Techmeme',\n",
       "  'url': 'https://www.techmeme.com/river',\n",
       "  'sourcename': 'Techmeme'},\n",
       " 'The Register': {'include': ['^https://www.theregister.com/(\\\\d+)/(\\\\d+)/(\\\\d+)/'],\n",
       "  'title': 'The Register_ Enterprise Technology News and Analysis',\n",
       "  'url': 'https://www.theregister.com/',\n",
       "  'sourcename': 'The Register'},\n",
       " 'The Verge': {'include': ['^https://www.theverge.com/(\\\\d+)/(\\\\d+)/(\\\\d+)/(\\\\d+)/'],\n",
       "  'title': 'Artificial Intelligence - The Verge',\n",
       "  'url': 'https://www.theverge.com/ai-artificial-intelligence',\n",
       "  'sourcename': 'The Verge'},\n",
       " 'VentureBeat': {'title': 'AI News _ VentureBeat',\n",
       "  'url': 'https://venturebeat.com/category/ai/',\n",
       "  'sourcename': 'VentureBeat'},\n",
       " 'WSJ Tech': {'include': ['^https://www.wsj.com/articles/'],\n",
       "  'title': 'Technology - WSJ.com',\n",
       "  'url': 'https://www.wsj.com/tech',\n",
       "  'sourcename': 'WSJ Tech'},\n",
       " 'WaPo Tech': {'include': ['https://www.washingtonpost.com/(\\\\w+)/(\\\\d+)/(\\\\d+)/(\\\\d+)/'],\n",
       "  'title': 'Technology - The Washington Post',\n",
       "  'url': 'https://www.washingtonpost.com/business/technology/',\n",
       "  'sourcename': 'WaPo Tech'}}"
      ]
     },
     "execution_count": 4,
     "metadata": {},
     "output_type": "execute_result"
    }
   ],
   "source": [
    "sources"
   ]
  },
  {
   "cell_type": "code",
   "execution_count": 5,
   "id": "562f83b1-b4b8-4355-8b8b-4fe028ea2af8",
   "metadata": {},
   "outputs": [
    {
     "data": {
      "text/plain": [
       "{'Ars Technica': 'Ars Technica',\n",
       " 'Bloomberg Technology - Bloomberg': 'Bloomberg Tech',\n",
       " 'Tech - Business Insider': 'Business Insider',\n",
       " 'Technology': 'FT Tech',\n",
       " 'Discover and Add New Feedly AI Feeds': 'Feedly AI',\n",
       " 'Google News - Technology - Artificial intelligence': 'Google News',\n",
       " 'Hacker News Page 1': 'Hacker News',\n",
       " 'Hacker News Page 2': 'Hacker News 2',\n",
       " 'HackerNoon - read, write and learn about any technology': 'HackerNoon',\n",
       " 'Technology - The New York Times': 'NYT Tech',\n",
       " 'top scoring links _ multi': 'Reddit',\n",
       " 'Techmeme': 'Techmeme',\n",
       " 'The Register_ Enterprise Technology News and Analysis': 'The Register',\n",
       " 'Artificial Intelligence - The Verge': 'The Verge',\n",
       " 'AI News _ VentureBeat': 'VentureBeat',\n",
       " 'Technology - WSJ.com': 'WSJ Tech',\n",
       " 'Technology - The Washington Post': 'WaPo Tech'}"
      ]
     },
     "execution_count": 5,
     "metadata": {},
     "output_type": "execute_result"
    }
   ],
   "source": [
    "sources_reverse\n"
   ]
  },
  {
   "cell_type": "code",
   "execution_count": 6,
   "id": "2549cf13-0de6-47d2-b7a9-544b5099ff11",
   "metadata": {},
   "outputs": [
    {
     "name": "stderr",
     "output_type": "stream",
     "text": [
      "2024-07-07 18:05:55,176 - AInewsbot - INFO - 17\n",
      "2024-07-07 18:05:55,177 - AInewsbot - INFO - htmldata/Technology - The Washington Post (07_07_2024 06_03_04 PM).html\n",
      "2024-07-07 18:05:55,177 - AInewsbot - INFO - htmldata/Technology - WSJ.com (07_07_2024 06_03_02 PM).html\n",
      "2024-07-07 18:05:55,178 - AInewsbot - INFO - htmldata/AI News _ VentureBeat (07_07_2024 06_03_00 PM).html\n",
      "2024-07-07 18:05:55,178 - AInewsbot - INFO - htmldata/Discover and Add New Feedly AI Feeds (07_07_2024 06_02_53 PM).html\n",
      "2024-07-07 18:05:55,179 - AInewsbot - INFO - htmldata/Artificial Intelligence - The Verge (07_07_2024 06_02_51 PM).html\n",
      "2024-07-07 18:05:55,179 - AInewsbot - INFO - htmldata/top scoring links _ multi (07_07_2024 06_02_49 PM).html\n",
      "2024-07-07 18:05:55,179 - AInewsbot - INFO - htmldata/The Register_ Enterprise Technology News and Analysis (07_07_2024 06_02_40 PM).html\n",
      "2024-07-07 18:05:55,180 - AInewsbot - INFO - htmldata/Techmeme (07_07_2024 06_02_30 PM).html\n",
      "2024-07-07 18:05:55,180 - AInewsbot - INFO - htmldata/Technology - The New York Times (07_07_2024 06_02_15 PM).html\n",
      "2024-07-07 18:05:55,181 - AInewsbot - INFO - htmldata/HackerNoon - read, write and learn about any technology (07_07_2024 06_02_14 PM).html\n",
      "2024-07-07 18:05:55,182 - AInewsbot - INFO - htmldata/Google News - Technology - Artificial intelligence (07_07_2024 06_02_04 PM).html\n",
      "2024-07-07 18:05:55,182 - AInewsbot - INFO - htmldata/Hacker News Page 2 (07_07_2024 06_02_02 PM).html\n",
      "2024-07-07 18:05:55,183 - AInewsbot - INFO - htmldata/Hacker News Page 1 (07_07_2024 06_01_52 PM).html\n",
      "2024-07-07 18:05:55,183 - AInewsbot - INFO - htmldata/Technology (07_07_2024 06_01_42 PM).html\n",
      "2024-07-07 18:05:55,184 - AInewsbot - INFO - htmldata/Bloomberg Technology - Bloomberg (07_07_2024 06_01_32 PM).html\n",
      "2024-07-07 18:05:55,184 - AInewsbot - INFO - htmldata/Tech - Business Insider (07_07_2024 06_01_32 PM).html\n",
      "2024-07-07 18:05:55,184 - AInewsbot - INFO - htmldata/Ars Technica (07_07_2024 06_01_30 PM).html\n"
     ]
    }
   ],
   "source": [
    "# determine files already in htmldata directory\n",
    "# List all paths in the directory matching today's date\n",
    "nfiles = 50\n",
    "files = [os.path.join(DOWNLOAD_DIR, file)\n",
    "         for file in os.listdir(DOWNLOAD_DIR)]\n",
    "\n",
    "# Get the current date\n",
    "today = datetime.now()\n",
    "year, month, day = today.year, today.month, today.day\n",
    "datestr = datetime.now().strftime(\"%m_%d_%Y\")\n",
    "\n",
    "# filter files only\n",
    "files = [file for file in files if os.path.isfile(file)]\n",
    "\n",
    "# Sort files by modification time and take top 50\n",
    "files.sort(key=lambda x: os.path.getmtime(x), reverse=True)\n",
    "file = files[:nfiles]\n",
    "\n",
    "# filter files by with today's date ending in .html\n",
    "files = [\n",
    "    file for file in files if datestr in file and file.endswith(\".html\")]\n",
    "log(len(files))\n",
    "for file in files:\n",
    "    log(file)\n",
    "\n",
    "saved_pages = []\n",
    "for file in files:\n",
    "    filename = os.path.basename(file)\n",
    "    # locate date like '01_14_2024' in filename\n",
    "    position = filename.find(\" (\" + datestr)\n",
    "    basename = filename[:position]\n",
    "    # match to source name\n",
    "    sourcename = sources_reverse.get(basename)\n",
    "    if sourcename is None:\n",
    "        log(f\"Skipping {basename}, no sourcename metadata\")\n",
    "        continue\n",
    "    sources[sourcename]['latest'] = file\n",
    "    saved_pages.append((sourcename, file))"
   ]
  },
  {
   "cell_type": "markdown",
   "id": "a28e703b",
   "metadata": {},
   "source": [
    "# Save source pages"
   ]
  },
  {
   "cell_type": "code",
   "execution_count": null,
   "id": "40fb94c3-464b-43d7-a156-f965c4e6e409",
   "metadata": {},
   "outputs": [],
   "source": [
    "# Fetch HTML files from sources\n",
    "\n",
    "# empty download directory\n",
    "delete_files(DOWNLOAD_DIR)\n",
    "\n",
    "# save each file specified from sources\n",
    "num_browsers = 3\n",
    "log(f\"Saving HTML files using {num_browsers} browsers\")\n",
    "\n",
    "# Create a queue for multiprocessing and populate it \n",
    "queue = multiprocessing.Queue()\n",
    "for item in sources.values():\n",
    "    queue.put(item)\n",
    "    \n",
    "# Function to take the queue and pop entries off and process until none are left\n",
    "# lets you create an array of functions with different args\n",
    "callable = process_source_queue_factory(queue)\n",
    "\n",
    "saved_pages = launch_drivers(num_browsers, callable)\n"
   ]
  },
  {
   "cell_type": "code",
   "execution_count": null,
   "id": "3b5aa21a-7387-4e76-a17e-6b22544dd13a",
   "metadata": {},
   "outputs": [],
   "source": [
    "log(f\"Saved {len(saved_pages)} pages\")\n",
    "\n",
    "print(len(saved_pages))\n",
    "for sourcename, page in saved_pages:\n",
    "    sources[sourcename]['latest'] = page\n",
    "    log(\"{sourcename} -> {page}\")\n",
    "    "
   ]
  },
  {
   "cell_type": "markdown",
   "id": "07ec5ab0",
   "metadata": {},
   "source": [
    "# Extract news URLs from saved pages"
   ]
  },
  {
   "cell_type": "code",
   "execution_count": 13,
   "id": "3d4d797e-1d72-46a5-9242-1877c5754bda",
   "metadata": {},
   "outputs": [
    {
     "name": "stderr",
     "output_type": "stream",
     "text": [
      "2024-07-07 18:12:54,691 - AInewsbot - INFO - Parsing html files\n",
      "2024-07-07 18:12:54,694 - AInewsbot - INFO - WaPo Tech -> htmldata/Technology - The Washington Post (07_07_2024 06_03_04 PM).html\n",
      "2024-07-07 18:12:54,695 - AInewsbot - INFO - parse loop - WaPo Tech\n",
      "2024-07-07 18:12:54,719 - AInewsbot - INFO - parse_file - found 159 raw links\n",
      "2024-07-07 18:12:54,721 - AInewsbot - INFO - parse_file - found 21 filtered links\n",
      "2024-07-07 18:12:54,722 - AInewsbot - INFO - parse loop - 21 links found\n",
      "2024-07-07 18:12:54,722 - AInewsbot - INFO - WSJ Tech -> htmldata/Technology - WSJ.com (07_07_2024 06_03_02 PM).html\n",
      "2024-07-07 18:12:54,723 - AInewsbot - INFO - parse loop - WSJ Tech\n",
      "2024-07-07 18:12:54,758 - AInewsbot - INFO - parse_file - found 495 raw links\n",
      "2024-07-07 18:12:54,765 - AInewsbot - INFO - parse_file - found 8 filtered links\n",
      "2024-07-07 18:12:54,765 - AInewsbot - INFO - parse loop - 8 links found\n",
      "2024-07-07 18:12:54,765 - AInewsbot - INFO - VentureBeat -> htmldata/AI News _ VentureBeat (07_07_2024 06_03_00 PM).html\n",
      "2024-07-07 18:12:54,766 - AInewsbot - INFO - parse loop - VentureBeat\n",
      "2024-07-07 18:12:54,835 - AInewsbot - INFO - parse_file - found 326 raw links\n",
      "2024-07-07 18:12:54,839 - AInewsbot - INFO - parse_file - found 44 filtered links\n",
      "2024-07-07 18:12:54,839 - AInewsbot - INFO - parse loop - 44 links found\n",
      "2024-07-07 18:12:54,840 - AInewsbot - INFO - Feedly AI -> htmldata/Discover and Add New Feedly AI Feeds (07_07_2024 06_02_53 PM).html\n",
      "2024-07-07 18:12:54,840 - AInewsbot - INFO - parse loop - Feedly AI\n",
      "2024-07-07 18:12:54,872 - AInewsbot - INFO - parse_file - found 291 raw links\n",
      "2024-07-07 18:12:54,876 - AInewsbot - INFO - parse_file - found 76 filtered links\n",
      "2024-07-07 18:12:54,877 - AInewsbot - INFO - parse loop - 76 links found\n",
      "2024-07-07 18:12:54,877 - AInewsbot - INFO - The Verge -> htmldata/Artificial Intelligence - The Verge (07_07_2024 06_02_51 PM).html\n",
      "2024-07-07 18:12:54,877 - AInewsbot - INFO - parse loop - The Verge\n",
      "2024-07-07 18:12:54,904 - AInewsbot - INFO - parse_file - found 319 raw links\n",
      "2024-07-07 18:12:54,908 - AInewsbot - INFO - parse_file - found 33 filtered links\n",
      "2024-07-07 18:12:54,909 - AInewsbot - INFO - parse loop - 33 links found\n",
      "2024-07-07 18:12:54,909 - AInewsbot - INFO - Reddit -> htmldata/top scoring links _ multi (07_07_2024 06_02_49 PM).html\n",
      "2024-07-07 18:12:54,909 - AInewsbot - INFO - parse loop - Reddit\n",
      "2024-07-07 18:12:54,995 - AInewsbot - INFO - parse_file - found 559 raw links\n",
      "2024-07-07 18:12:55,005 - AInewsbot - INFO - parse_file - found 366 filtered links\n",
      "2024-07-07 18:12:55,006 - AInewsbot - INFO - parse loop - 366 links found\n",
      "2024-07-07 18:12:55,006 - AInewsbot - INFO - The Register -> htmldata/The Register_ Enterprise Technology News and Analysis (07_07_2024 06_02_40 PM).html\n",
      "2024-07-07 18:12:55,006 - AInewsbot - INFO - parse loop - The Register\n",
      "2024-07-07 18:12:55,022 - AInewsbot - INFO - parse_file - found 202 raw links\n",
      "2024-07-07 18:12:55,026 - AInewsbot - INFO - parse_file - found 90 filtered links\n",
      "2024-07-07 18:12:55,026 - AInewsbot - INFO - parse loop - 90 links found\n",
      "2024-07-07 18:12:55,027 - AInewsbot - INFO - Techmeme -> htmldata/Techmeme (07_07_2024 06_02_30 PM).html\n",
      "2024-07-07 18:12:55,027 - AInewsbot - INFO - parse loop - Techmeme\n",
      "2024-07-07 18:12:55,086 - AInewsbot - INFO - parse_file - found 220 raw links\n",
      "2024-07-07 18:12:55,089 - AInewsbot - INFO - parse_file - found 80 filtered links\n",
      "2024-07-07 18:12:55,089 - AInewsbot - INFO - parse loop - 80 links found\n",
      "2024-07-07 18:12:55,089 - AInewsbot - INFO - NYT Tech -> htmldata/Technology - The New York Times (07_07_2024 06_02_15 PM).html\n",
      "2024-07-07 18:12:55,089 - AInewsbot - INFO - parse loop - NYT Tech\n",
      "2024-07-07 18:12:55,099 - AInewsbot - INFO - parse_file - found 72 raw links\n",
      "2024-07-07 18:12:55,101 - AInewsbot - INFO - parse_file - found 19 filtered links\n",
      "2024-07-07 18:12:55,101 - AInewsbot - INFO - parse loop - 19 links found\n",
      "2024-07-07 18:12:55,101 - AInewsbot - INFO - HackerNoon -> htmldata/HackerNoon - read, write and learn about any technology (07_07_2024 06_02_14 PM).html\n",
      "2024-07-07 18:12:55,101 - AInewsbot - INFO - parse loop - HackerNoon\n",
      "2024-07-07 18:12:55,156 - AInewsbot - INFO - parse_file - found 580 raw links\n",
      "2024-07-07 18:12:55,165 - AInewsbot - INFO - parse_file - found 96 filtered links\n",
      "2024-07-07 18:12:55,165 - AInewsbot - INFO - parse loop - 96 links found\n",
      "2024-07-07 18:12:55,165 - AInewsbot - INFO - Google News -> htmldata/Google News - Technology - Artificial intelligence (07_07_2024 06_02_04 PM).html\n",
      "2024-07-07 18:12:55,166 - AInewsbot - INFO - parse loop - Google News\n",
      "2024-07-07 18:12:55,408 - AInewsbot - INFO - parse_file - found 841 raw links\n",
      "2024-07-07 18:12:55,413 - AInewsbot - INFO - parse_file - found 360 filtered links\n",
      "2024-07-07 18:12:55,413 - AInewsbot - INFO - parse loop - 360 links found\n",
      "2024-07-07 18:12:55,414 - AInewsbot - INFO - Hacker News 2 -> htmldata/Hacker News Page 2 (07_07_2024 06_02_02 PM).html\n",
      "2024-07-07 18:12:55,414 - AInewsbot - INFO - parse loop - Hacker News 2\n",
      "2024-07-07 18:12:55,424 - AInewsbot - INFO - parse_file - found 261 raw links\n",
      "2024-07-07 18:12:55,426 - AInewsbot - INFO - parse_file - found 24 filtered links\n",
      "2024-07-07 18:12:55,427 - AInewsbot - INFO - parse loop - 24 links found\n",
      "2024-07-07 18:12:55,427 - AInewsbot - INFO - Hacker News -> htmldata/Hacker News Page 1 (07_07_2024 06_01_52 PM).html\n",
      "2024-07-07 18:12:55,427 - AInewsbot - INFO - parse loop - Hacker News\n",
      "2024-07-07 18:12:55,438 - AInewsbot - INFO - parse_file - found 257 raw links\n",
      "2024-07-07 18:12:55,441 - AInewsbot - INFO - parse_file - found 26 filtered links\n",
      "2024-07-07 18:12:55,441 - AInewsbot - INFO - parse loop - 26 links found\n",
      "2024-07-07 18:12:55,441 - AInewsbot - INFO - FT Tech -> htmldata/Technology (07_07_2024 06_01_42 PM).html\n",
      "2024-07-07 18:12:55,441 - AInewsbot - INFO - parse loop - FT Tech\n",
      "2024-07-07 18:12:55,468 - AInewsbot - INFO - parse_file - found 457 raw links\n",
      "2024-07-07 18:12:55,473 - AInewsbot - INFO - parse_file - found 101 filtered links\n",
      "2024-07-07 18:12:55,473 - AInewsbot - INFO - parse loop - 101 links found\n",
      "2024-07-07 18:12:55,473 - AInewsbot - INFO - Bloomberg Tech -> htmldata/Bloomberg Technology - Bloomberg (07_07_2024 06_01_32 PM).html\n",
      "2024-07-07 18:12:55,474 - AInewsbot - INFO - parse loop - Bloomberg Tech\n",
      "2024-07-07 18:12:55,496 - AInewsbot - INFO - parse_file - found 279 raw links\n",
      "2024-07-07 18:12:55,499 - AInewsbot - INFO - parse_file - found 47 filtered links\n",
      "2024-07-07 18:12:55,499 - AInewsbot - INFO - parse loop - 47 links found\n",
      "2024-07-07 18:12:55,500 - AInewsbot - INFO - Business Insider -> htmldata/Tech - Business Insider (07_07_2024 06_01_32 PM).html\n",
      "2024-07-07 18:12:55,501 - AInewsbot - INFO - parse loop - Business Insider\n",
      "2024-07-07 18:12:55,521 - AInewsbot - INFO - parse_file - found 310 raw links\n",
      "2024-07-07 18:12:55,525 - AInewsbot - INFO - parse_file - found 50 filtered links\n",
      "2024-07-07 18:12:55,526 - AInewsbot - INFO - parse loop - 50 links found\n",
      "2024-07-07 18:12:55,526 - AInewsbot - INFO - Ars Technica -> htmldata/Ars Technica (07_07_2024 06_01_30 PM).html\n",
      "2024-07-07 18:12:55,526 - AInewsbot - INFO - parse loop - Ars Technica\n",
      "2024-07-07 18:12:55,541 - AInewsbot - INFO - parse_file - found 252 raw links\n",
      "2024-07-07 18:12:55,543 - AInewsbot - INFO - parse_file - found 30 filtered links\n",
      "2024-07-07 18:12:55,543 - AInewsbot - INFO - parse loop - 30 links found\n",
      "2024-07-07 18:12:55,543 - AInewsbot - INFO - parse loop - found 1471 links\n"
     ]
    },
    {
     "data": {
      "text/html": [
       "<div>\n",
       "<style scoped>\n",
       "    .dataframe tbody tr th:only-of-type {\n",
       "        vertical-align: middle;\n",
       "    }\n",
       "\n",
       "    .dataframe tbody tr th {\n",
       "        vertical-align: top;\n",
       "    }\n",
       "\n",
       "    .dataframe thead th {\n",
       "        text-align: right;\n",
       "    }\n",
       "</style>\n",
       "<table border=\"1\" class=\"dataframe\">\n",
       "  <thead>\n",
       "    <tr style=\"text-align: right;\">\n",
       "      <th></th>\n",
       "      <th>id</th>\n",
       "      <th>src</th>\n",
       "      <th>title</th>\n",
       "      <th>url</th>\n",
       "    </tr>\n",
       "  </thead>\n",
       "  <tbody>\n",
       "    <tr>\n",
       "      <th>0</th>\n",
       "      <td>0</td>\n",
       "      <td>Ars Technica</td>\n",
       "      <td>ITER fusion reactor to see further delays, wit...</td>\n",
       "      <td>https://arstechnica.com/science/2024/07/iters-...</td>\n",
       "    </tr>\n",
       "    <tr>\n",
       "      <th>1</th>\n",
       "      <td>1</td>\n",
       "      <td>Ars Technica</td>\n",
       "      <td>Alaska’s top-heavy glaciers are approaching an...</td>\n",
       "      <td>https://arstechnica.com/science/2024/07/alaska...</td>\n",
       "    </tr>\n",
       "    <tr>\n",
       "      <th>2</th>\n",
       "      <td>2</td>\n",
       "      <td>Ars Technica</td>\n",
       "      <td>What we know about microdosing candy illnesses...</td>\n",
       "      <td>https://arstechnica.com/science/2024/07/author...</td>\n",
       "    </tr>\n",
       "    <tr>\n",
       "      <th>3</th>\n",
       "      <td>3</td>\n",
       "      <td>Ars Technica</td>\n",
       "      <td>Can’t stop your cat from scratching the furnit...</td>\n",
       "      <td>https://arstechnica.com/science/2024/07/cant-s...</td>\n",
       "    </tr>\n",
       "    <tr>\n",
       "      <th>4</th>\n",
       "      <td>4</td>\n",
       "      <td>Ars Technica</td>\n",
       "      <td>Egalitarian oddity found in the Neolithic</td>\n",
       "      <td>https://arstechnica.com/science/2024/07/egalit...</td>\n",
       "    </tr>\n",
       "  </tbody>\n",
       "</table>\n",
       "</div>"
      ],
      "text/plain": [
       "   id           src                                              title  \\\n",
       "0   0  Ars Technica  ITER fusion reactor to see further delays, wit...   \n",
       "1   1  Ars Technica  Alaska’s top-heavy glaciers are approaching an...   \n",
       "2   2  Ars Technica  What we know about microdosing candy illnesses...   \n",
       "3   3  Ars Technica  Can’t stop your cat from scratching the furnit...   \n",
       "4   4  Ars Technica          Egalitarian oddity found in the Neolithic   \n",
       "\n",
       "                                                 url  \n",
       "0  https://arstechnica.com/science/2024/07/iters-...  \n",
       "1  https://arstechnica.com/science/2024/07/alaska...  \n",
       "2  https://arstechnica.com/science/2024/07/author...  \n",
       "3  https://arstechnica.com/science/2024/07/cant-s...  \n",
       "4  https://arstechnica.com/science/2024/07/egalit...  "
      ]
     },
     "execution_count": 13,
     "metadata": {},
     "output_type": "execute_result"
    }
   ],
   "source": [
    "# Parse news URLs and titles from downloaded HTML files\n",
    "log(\"Parsing html files\")\n",
    "all_urls = []\n",
    "for sourcename, filename in saved_pages:\n",
    "    log(sourcename +' -> ' + filename)\n",
    "    log(f\"{sourcename}\", \"parse loop\")\n",
    "    links = parse_file(sources[sourcename])\n",
    "    log(f\"{len(links)} links found\", \"parse loop\")\n",
    "    all_urls.extend(links)\n",
    "\n",
    "log(f\"found {len(all_urls)} links\", \"parse loop\")\n",
    "\n",
    "# make a pandas dataframe of all the links found\n",
    "orig_df = (\n",
    "    pd.DataFrame(all_urls)\n",
    "    .groupby(\"url\")\n",
    "    .first()\n",
    "    .reset_index()\n",
    "    .sort_values(\"src\")[[\"src\", \"title\", \"url\"]]\n",
    "    .reset_index(drop=True)\n",
    "    .reset_index(drop=False)\n",
    "    .rename(columns={\"index\": \"id\"})\n",
    ")\n",
    "orig_df.head()\n"
   ]
  },
  {
   "cell_type": "code",
   "execution_count": 14,
   "id": "27972b6b",
   "metadata": {},
   "outputs": [
    {
     "data": {
      "text/html": [
       "<div>\n",
       "<style scoped>\n",
       "    .dataframe tbody tr th:only-of-type {\n",
       "        vertical-align: middle;\n",
       "    }\n",
       "\n",
       "    .dataframe tbody tr th {\n",
       "        vertical-align: top;\n",
       "    }\n",
       "\n",
       "    .dataframe thead th {\n",
       "        text-align: right;\n",
       "    }\n",
       "</style>\n",
       "<table border=\"1\" class=\"dataframe\">\n",
       "  <thead>\n",
       "    <tr style=\"text-align: right;\">\n",
       "      <th></th>\n",
       "      <th>id</th>\n",
       "      <th>src</th>\n",
       "      <th>title</th>\n",
       "      <th>url</th>\n",
       "      <th>isAI</th>\n",
       "      <th>article_date</th>\n",
       "      <th>timestamp</th>\n",
       "    </tr>\n",
       "  </thead>\n",
       "  <tbody>\n",
       "    <tr>\n",
       "      <th>0</th>\n",
       "      <td>12</td>\n",
       "      <td>Bloomberg Tech</td>\n",
       "      <td>Xperi Holder Rubric Pushes for Cost Cuts, AI U...</td>\n",
       "      <td>https://www.bloomberg.com/news/articles/2024-0...</td>\n",
       "      <td>1</td>\n",
       "      <td>2024-01-24</td>\n",
       "      <td>None</td>\n",
       "    </tr>\n",
       "    <tr>\n",
       "      <th>1</th>\n",
       "      <td>43</td>\n",
       "      <td>Bloomberg Tech</td>\n",
       "      <td>Apple Dials Back Car’s Self-Driving Features a...</td>\n",
       "      <td>https://www.bloomberg.com/news/articles/2024-0...</td>\n",
       "      <td>1</td>\n",
       "      <td>2024-01-24</td>\n",
       "      <td>None</td>\n",
       "    </tr>\n",
       "    <tr>\n",
       "      <th>2</th>\n",
       "      <td>46</td>\n",
       "      <td>Bloomberg Tech</td>\n",
       "      <td>AIAI Startup Strikes $200 Million SPAC Deal to...</td>\n",
       "      <td>https://www.bloomberg.com/news/articles/2024-0...</td>\n",
       "      <td>1</td>\n",
       "      <td>2024-01-24</td>\n",
       "      <td>None</td>\n",
       "    </tr>\n",
       "    <tr>\n",
       "      <th>3</th>\n",
       "      <td>61</td>\n",
       "      <td>Bloomberg Tech</td>\n",
       "      <td>TechnologySAP Plans 8,000-Job Restructuring to...</td>\n",
       "      <td>https://www.bloomberg.com/news/articles/2024-0...</td>\n",
       "      <td>1</td>\n",
       "      <td>2024-01-24</td>\n",
       "      <td>None</td>\n",
       "    </tr>\n",
       "    <tr>\n",
       "      <th>4</th>\n",
       "      <td>64</td>\n",
       "      <td>Bloomberg Tech</td>\n",
       "      <td>TechnologyNvidia Alum Snags Funding for Startu...</td>\n",
       "      <td>https://www.bloomberg.com/news/articles/2024-0...</td>\n",
       "      <td>1</td>\n",
       "      <td>2024-01-24</td>\n",
       "      <td>None</td>\n",
       "    </tr>\n",
       "    <tr>\n",
       "      <th>...</th>\n",
       "      <td>...</td>\n",
       "      <td>...</td>\n",
       "      <td>...</td>\n",
       "      <td>...</td>\n",
       "      <td>...</td>\n",
       "      <td>...</td>\n",
       "      <td>...</td>\n",
       "    </tr>\n",
       "    <tr>\n",
       "      <th>50320</th>\n",
       "      <td>123988</td>\n",
       "      <td>Reddit</td>\n",
       "      <td>GPT-4o vs Gemini 1.5 Pro vs Claude 3.5 Sonnet....</td>\n",
       "      <td>https://www.reddit.com/r/ChatGPT/comments/1dxm...</td>\n",
       "      <td>1</td>\n",
       "      <td>2024-07-07</td>\n",
       "      <td>2024-07-07 17:02:11</td>\n",
       "    </tr>\n",
       "    <tr>\n",
       "      <th>50321</th>\n",
       "      <td>124002</td>\n",
       "      <td>The Register</td>\n",
       "      <td>A friendly guide to containerization for AI wo...</td>\n",
       "      <td>https://www.theregister.com/2024/07/07/contain...</td>\n",
       "      <td>1</td>\n",
       "      <td>2024-07-07</td>\n",
       "      <td>2024-07-07 17:02:11</td>\n",
       "    </tr>\n",
       "    <tr>\n",
       "      <th>50322</th>\n",
       "      <td>124006</td>\n",
       "      <td>The Verge</td>\n",
       "      <td>Apple Intelligence and a better Siri may be co...</td>\n",
       "      <td>https://www.theverge.com/2024/7/7/24193619/app...</td>\n",
       "      <td>1</td>\n",
       "      <td>2024-07-07</td>\n",
       "      <td>2024-07-07 17:02:11</td>\n",
       "    </tr>\n",
       "    <tr>\n",
       "      <th>50323</th>\n",
       "      <td>124007</td>\n",
       "      <td>The Verge</td>\n",
       "      <td>Meta AI may get more collaborative in WhatsApp...</td>\n",
       "      <td>https://www.theverge.com/2024/7/7/24193680/met...</td>\n",
       "      <td>1</td>\n",
       "      <td>2024-07-07</td>\n",
       "      <td>2024-07-07 17:02:11</td>\n",
       "    </tr>\n",
       "    <tr>\n",
       "      <th>50324</th>\n",
       "      <td>124008</td>\n",
       "      <td>VentureBeat</td>\n",
       "      <td>In the age of AI, the role of the CAIO will be...</td>\n",
       "      <td>https://venturebeat.com/ai/in-the-age-of-ai-th...</td>\n",
       "      <td>1</td>\n",
       "      <td>2024-07-07</td>\n",
       "      <td>2024-07-07 17:02:11</td>\n",
       "    </tr>\n",
       "  </tbody>\n",
       "</table>\n",
       "<p>50325 rows × 7 columns</p>\n",
       "</div>"
      ],
      "text/plain": [
       "           id             src  \\\n",
       "0          12  Bloomberg Tech   \n",
       "1          43  Bloomberg Tech   \n",
       "2          46  Bloomberg Tech   \n",
       "3          61  Bloomberg Tech   \n",
       "4          64  Bloomberg Tech   \n",
       "...       ...             ...   \n",
       "50320  123988          Reddit   \n",
       "50321  124002    The Register   \n",
       "50322  124006       The Verge   \n",
       "50323  124007       The Verge   \n",
       "50324  124008     VentureBeat   \n",
       "\n",
       "                                                   title  \\\n",
       "0      Xperi Holder Rubric Pushes for Cost Cuts, AI U...   \n",
       "1      Apple Dials Back Car’s Self-Driving Features a...   \n",
       "2      AIAI Startup Strikes $200 Million SPAC Deal to...   \n",
       "3      TechnologySAP Plans 8,000-Job Restructuring to...   \n",
       "4      TechnologyNvidia Alum Snags Funding for Startu...   \n",
       "...                                                  ...   \n",
       "50320  GPT-4o vs Gemini 1.5 Pro vs Claude 3.5 Sonnet....   \n",
       "50321  A friendly guide to containerization for AI wo...   \n",
       "50322  Apple Intelligence and a better Siri may be co...   \n",
       "50323  Meta AI may get more collaborative in WhatsApp...   \n",
       "50324  In the age of AI, the role of the CAIO will be...   \n",
       "\n",
       "                                                     url  isAI article_date  \\\n",
       "0      https://www.bloomberg.com/news/articles/2024-0...     1   2024-01-24   \n",
       "1      https://www.bloomberg.com/news/articles/2024-0...     1   2024-01-24   \n",
       "2      https://www.bloomberg.com/news/articles/2024-0...     1   2024-01-24   \n",
       "3      https://www.bloomberg.com/news/articles/2024-0...     1   2024-01-24   \n",
       "4      https://www.bloomberg.com/news/articles/2024-0...     1   2024-01-24   \n",
       "...                                                  ...   ...          ...   \n",
       "50320  https://www.reddit.com/r/ChatGPT/comments/1dxm...     1   2024-07-07   \n",
       "50321  https://www.theregister.com/2024/07/07/contain...     1   2024-07-07   \n",
       "50322  https://www.theverge.com/2024/7/7/24193619/app...     1   2024-07-07   \n",
       "50323  https://www.theverge.com/2024/7/7/24193680/met...     1   2024-07-07   \n",
       "50324  https://venturebeat.com/ai/in-the-age-of-ai-th...     1   2024-07-07   \n",
       "\n",
       "                 timestamp  \n",
       "0                     None  \n",
       "1                     None  \n",
       "2                     None  \n",
       "3                     None  \n",
       "4                     None  \n",
       "...                    ...  \n",
       "50320  2024-07-07 17:02:11  \n",
       "50321  2024-07-07 17:02:11  \n",
       "50322  2024-07-07 17:02:11  \n",
       "50323  2024-07-07 17:02:11  \n",
       "50324  2024-07-07 17:02:11  \n",
       "\n",
       "[50325 rows x 7 columns]"
      ]
     },
     "execution_count": 14,
     "metadata": {},
     "output_type": "execute_result"
    }
   ],
   "source": [
    "# # extracts all links from history where isAI=1\n",
    "# # useful for training dimensionality reduction\n",
    "# conn = sqlite3.connect('articles.db')\n",
    "# c = conn.cursor()\n",
    "\n",
    "# query = \"select * from news_articles where isAI=1 order by id\"\n",
    "# ai_history_df = pd.read_sql_query(query, conn)\n",
    "# ai_history_df"
   ]
  },
  {
   "cell_type": "code",
   "execution_count": 15,
   "id": "8df42fdb-fed6-4e10-a130-17f22f9a97f3",
   "metadata": {},
   "outputs": [],
   "source": [
    "# # clean up sqlite database if you want to rerun the job from a given point\n",
    "# conn.execute(f\"delete from news_articles where timestamp > '2024-07-07 12:00'\")\n",
    "# # conn.execute(f\"delete from news_articles where id > 220230\")\n",
    "# # Committing the changes\n",
    "# conn.commit()\n",
    "\n",
    "# # Close the connection\n",
    "# conn.close()\n"
   ]
  },
  {
   "cell_type": "markdown",
   "id": "92bbfb65",
   "metadata": {},
   "source": [
    "# Filter URLs to new AI headlines only"
   ]
  },
  {
   "cell_type": "code",
   "execution_count": 16,
   "id": "3f760895-915f-499e-814d-dea389c9a3db",
   "metadata": {},
   "outputs": [
    {
     "name": "stderr",
     "output_type": "stream",
     "text": [
      "2024-07-07 18:13:47,091 - AInewsbot - INFO - Existing URLs: 123673\n",
      "2024-07-07 18:13:47,134 - AInewsbot - INFO - New URLs: 373\n"
     ]
    }
   ],
   "source": [
    "# filter urls we've already seen in previous runs and saved in SQLite\n",
    "filtered_df = filter_unseen_urls_db(orig_df)\n"
   ]
  },
  {
   "cell_type": "code",
   "execution_count": 17,
   "id": "1a988ffc",
   "metadata": {},
   "outputs": [
    {
     "name": "stdout",
     "output_type": "stream",
     "text": [
      "\n",
      "You will act as a research assistant to categorize news articles based on their relevance\n",
      "to the topic of artificial intelligence (AI). You will closely read the title of each story\n",
      "to determine if it is primarily about AI based on the semanting meaning of the title and\n",
      "the keywords and entities mentioned. The input headlines and outptu classifications will\n",
      "be formatted as JSON objects.\n",
      "\n",
      "Input Specification:\n",
      "You will receive a list of news headlines formatted as JSON objects.\n",
      "Each object will include an 'id' and a 'title'. For instance:\n",
      "[{'id': 97, 'title': 'AI to predict dementia, detect cancer'},\n",
      " {'id': 103,'title': 'Figure robot learns to make coffee by watching humans for 10 hours'},\n",
      " {'id': 103,'title': 'Baby trapped in refrigerator eats own foot'},\n",
      " {'id': 210,'title': 'ChatGPT removes, then reinstates a summarization assistant without explanation.'},\n",
      " {'id': 298,'title': 'The 5 most interesting PC monitors from CES 2024'},\n",
      " ]\n",
      "\n",
      "Classification Criteria:\n",
      "Classify each story based on its title to determine whether it primarily pertains to AI.\n",
      "Broadly define AI-related content to include topics such as machine learning, robotics,\n",
      "computer vision, reinforcement learning, large language models, and related topics. Also\n",
      "include specific references to AI-related entities and individuals and products such as\n",
      "OpenAI, ChatGPT, Elon Musk, Sam Altman, Anthropic Claude, Google Gemini, Copilot,\n",
      "Perplexity.ai, Midjourney, etc.\n",
      "\n",
      "Output Specification:\n",
      "You will return a JSON object with the field 'stories' containing the list of classification results.\n",
      "For each story, your output will be a JSON object containing the original 'id' and a new field 'isAI',\n",
      "a boolean indicating if the story is about AI. You must strictly adhere to this output schema, without\n",
      "modification. Example output:\n",
      "{'stories':\n",
      "[{'id': 97, 'isAI': true},\n",
      " {'id': 103, 'isAI': true},\n",
      " {'id': 103, 'isAI': false},\n",
      " {'id': 210, 'isAI': true},\n",
      " {'id': 298, 'isAI': false}]\n",
      "}\n",
      "\n",
      "Instructions:\n",
      "Ensure that each output object accurately reflects the 'id' field of the corresponding input object\n",
      "and that the 'isAI' field accurately represents the title's relevance to AI.\n",
      "\n",
      "The list of news stories to classify is:\n",
      "\n",
      "\n"
     ]
    }
   ],
   "source": [
    "# use chatgpt to filter AI-related headlines using a prompt to OpenAI\n",
    "print(FILTER_PROMPT)\n"
   ]
  },
  {
   "cell_type": "code",
   "execution_count": 18,
   "id": "76cd3c8a",
   "metadata": {},
   "outputs": [
    {
     "name": "stderr",
     "output_type": "stream",
     "text": [
      "2024-07-07 18:14:04,194 - AInewsbot - INFO - Paginated 8 pages\n"
     ]
    },
    {
     "data": {
      "text/plain": [
       "20"
      ]
     },
     "execution_count": 18,
     "metadata": {},
     "output_type": "execute_result"
    }
   ],
   "source": [
    "# make pages that fit in a reasonably sized (MAXPAGELEN or MAX_INPUT_TOKENS) prompt\n",
    "pages = paginate_df(filtered_df)\n",
    "log(f\"Paginated {len(pages)} pages\")\n"
   ]
  },
  {
   "cell_type": "code",
   "execution_count": 19,
   "id": "39235332-cb60-4c13-8e8a-0e63c91bd263",
   "metadata": {},
   "outputs": [
    {
     "name": "stderr",
     "output_type": "stream",
     "text": [
      "2024-07-07 18:14:06,895 - AInewsbot - INFO - start classify\n",
      "2024-07-07 18:14:06,897 - AInewsbot - INFO - sent 50 items \n",
      "2024-07-07 18:14:06,921 - AInewsbot - INFO - sent 50 items \n",
      "2024-07-07 18:14:06,922 - AInewsbot - INFO - sent 50 items \n",
      "2024-07-07 18:14:06,922 - AInewsbot - INFO - sent 50 items \n",
      "2024-07-07 18:14:06,923 - AInewsbot - INFO - sent 50 items \n",
      "2024-07-07 18:14:06,923 - AInewsbot - INFO - sent 50 items \n",
      "2024-07-07 18:14:06,924 - AInewsbot - INFO - sent 50 items \n",
      "2024-07-07 18:14:06,924 - AInewsbot - INFO - sent 23 items \n",
      "2024-07-07 18:14:10,280 - AInewsbot - INFO - got dict with 23 items \n",
      "2024-07-07 18:14:12,556 - AInewsbot - INFO - got dict with 50 items \n",
      "2024-07-07 18:14:13,377 - AInewsbot - INFO - got dict with 50 items \n",
      "2024-07-07 18:14:13,529 - AInewsbot - INFO - got dict with 50 items \n",
      "2024-07-07 18:14:13,884 - AInewsbot - INFO - got dict with 50 items \n",
      "2024-07-07 18:14:13,886 - AInewsbot - INFO - got dict with 50 items \n",
      "2024-07-07 18:14:14,475 - AInewsbot - INFO - got dict with 50 items \n",
      "2024-07-07 18:14:14,916 - AInewsbot - INFO - got dict with 50 items \n",
      "2024-07-07 18:14:14,921 - AInewsbot - INFO - Processed 373 responses.\n",
      "2024-07-07 18:14:14,922 - AInewsbot - INFO - end classify\n",
      "2024-07-07 18:14:14,926 - AInewsbot - INFO - 123 - isAI\n",
      "2024-07-07 18:14:14,928 - AInewsbot - INFO - 250 - not isAI\n"
     ]
    },
    {
     "name": "stdout",
     "output_type": "stream",
     "text": [
      "373\n"
     ]
    },
    {
     "data": {
      "text/html": [
       "<div>\n",
       "<style scoped>\n",
       "    .dataframe tbody tr th:only-of-type {\n",
       "        vertical-align: middle;\n",
       "    }\n",
       "\n",
       "    .dataframe tbody tr th {\n",
       "        vertical-align: top;\n",
       "    }\n",
       "\n",
       "    .dataframe thead th {\n",
       "        text-align: right;\n",
       "    }\n",
       "</style>\n",
       "<table border=\"1\" class=\"dataframe\">\n",
       "  <thead>\n",
       "    <tr style=\"text-align: right;\">\n",
       "      <th></th>\n",
       "      <th>id</th>\n",
       "      <th>isAI</th>\n",
       "    </tr>\n",
       "  </thead>\n",
       "  <tbody>\n",
       "    <tr>\n",
       "      <th>0</th>\n",
       "      <td>26</td>\n",
       "      <td>False</td>\n",
       "    </tr>\n",
       "    <tr>\n",
       "      <th>1</th>\n",
       "      <td>97</td>\n",
       "      <td>False</td>\n",
       "    </tr>\n",
       "    <tr>\n",
       "      <th>2</th>\n",
       "      <td>136</td>\n",
       "      <td>False</td>\n",
       "    </tr>\n",
       "    <tr>\n",
       "      <th>3</th>\n",
       "      <td>146</td>\n",
       "      <td>False</td>\n",
       "    </tr>\n",
       "    <tr>\n",
       "      <th>4</th>\n",
       "      <td>149</td>\n",
       "      <td>False</td>\n",
       "    </tr>\n",
       "  </tbody>\n",
       "</table>\n",
       "</div>"
      ],
      "text/plain": [
       "    id   isAI\n",
       "0   26  False\n",
       "1   97  False\n",
       "2  136  False\n",
       "3  146  False\n",
       "4  149  False"
      ]
     },
     "execution_count": 19,
     "metadata": {},
     "output_type": "execute_result"
    }
   ],
   "source": [
    "# use REST API directly. OpenAI python API doesn't support concurrent requests from a single client\n",
    "# this runs fast with async aiohttp and on gpt-3.5 (15 seconds vs 2 minutes synchronously with gpt-4o)\n",
    "# the old API supported submitting multiple payloads in a single completion request\n",
    "# current API supports a slow 'batch' submission https://platform.openai.com/docs/guides/rate-limits/usage-tiers\n",
    "# there is a more complex example here - https://github.com/openai/openai-cookbook/blob/main/examples/api_request_parallel_processor.py\n",
    "\n",
    "log(\"start classify\")\n",
    "enriched_urls = asyncio.run(fetch_pages(pages, prompt=FILTER_PROMPT))\n",
    "log(\"end classify\")\n",
    "\n",
    "enriched_df = pd.DataFrame(enriched_urls)\n",
    "print(len(enriched_df))\n",
    "log(\"isAI\", len(enriched_df.loc[enriched_df[\"isAI\"]]))\n",
    "log(\"not isAI\", len(enriched_df.loc[~enriched_df[\"isAI\"]]))\n",
    "enriched_df.head()\n"
   ]
  },
  {
   "cell_type": "code",
   "execution_count": 20,
   "id": "3d36ce69-2da0-4c85-a98f-760c7b7c6a16",
   "metadata": {},
   "outputs": [
    {
     "data": {
      "text/html": [
       "<div>\n",
       "<style scoped>\n",
       "    .dataframe tbody tr th:only-of-type {\n",
       "        vertical-align: middle;\n",
       "    }\n",
       "\n",
       "    .dataframe tbody tr th {\n",
       "        vertical-align: top;\n",
       "    }\n",
       "\n",
       "    .dataframe thead th {\n",
       "        text-align: right;\n",
       "    }\n",
       "</style>\n",
       "<table border=\"1\" class=\"dataframe\">\n",
       "  <thead>\n",
       "    <tr style=\"text-align: right;\">\n",
       "      <th></th>\n",
       "      <th>id</th>\n",
       "      <th>src</th>\n",
       "      <th>title</th>\n",
       "      <th>url</th>\n",
       "      <th>isAI</th>\n",
       "      <th>date</th>\n",
       "    </tr>\n",
       "  </thead>\n",
       "  <tbody>\n",
       "    <tr>\n",
       "      <th>0</th>\n",
       "      <td>26</td>\n",
       "      <td>Ars Technica</td>\n",
       "      <td>Review: Catching up withDoctor Whoand Ncuti Ga...</td>\n",
       "      <td>https://arstechnica.com/culture/2024/07/review...</td>\n",
       "      <td>False</td>\n",
       "      <td>2024-07-07</td>\n",
       "    </tr>\n",
       "    <tr>\n",
       "      <th>1</th>\n",
       "      <td>97</td>\n",
       "      <td>Business Insider</td>\n",
       "      <td>Card skimmers are hard to spot and on the rise...</td>\n",
       "      <td>https://www.businessinsider.com/how-to-spot-ca...</td>\n",
       "      <td>False</td>\n",
       "      <td>2024-07-07</td>\n",
       "    </tr>\n",
       "    <tr>\n",
       "      <th>2</th>\n",
       "      <td>136</td>\n",
       "      <td>FT Tech</td>\n",
       "      <td>‘People are addicted to escape’: psychoactive ...</td>\n",
       "      <td>https://www.ft.com/content/f1bcbef0-a02d-446c-...</td>\n",
       "      <td>False</td>\n",
       "      <td>2024-07-07</td>\n",
       "    </tr>\n",
       "    <tr>\n",
       "      <th>3</th>\n",
       "      <td>146</td>\n",
       "      <td>FT Tech</td>\n",
       "      <td>Ask Shrimsley: is wild hair the sign of a bad ...</td>\n",
       "      <td>https://www.ft.com/content/b3996347-1284-4198-...</td>\n",
       "      <td>False</td>\n",
       "      <td>2024-07-07</td>\n",
       "    </tr>\n",
       "    <tr>\n",
       "      <th>4</th>\n",
       "      <td>149</td>\n",
       "      <td>FT Tech</td>\n",
       "      <td>Turkey divided over mass cull of 4mn street dogs</td>\n",
       "      <td>https://www.ft.com/content/ad27bda3-a533-4621-...</td>\n",
       "      <td>False</td>\n",
       "      <td>2024-07-07</td>\n",
       "    </tr>\n",
       "  </tbody>\n",
       "</table>\n",
       "</div>"
      ],
      "text/plain": [
       "    id               src                                              title  \\\n",
       "0   26      Ars Technica  Review: Catching up withDoctor Whoand Ncuti Ga...   \n",
       "1   97  Business Insider  Card skimmers are hard to spot and on the rise...   \n",
       "2  136           FT Tech  ‘People are addicted to escape’: psychoactive ...   \n",
       "3  146           FT Tech  Ask Shrimsley: is wild hair the sign of a bad ...   \n",
       "4  149           FT Tech   Turkey divided over mass cull of 4mn street dogs   \n",
       "\n",
       "                                                 url   isAI        date  \n",
       "0  https://arstechnica.com/culture/2024/07/review...  False  2024-07-07  \n",
       "1  https://www.businessinsider.com/how-to-spot-ca...  False  2024-07-07  \n",
       "2  https://www.ft.com/content/f1bcbef0-a02d-446c-...  False  2024-07-07  \n",
       "3  https://www.ft.com/content/b3996347-1284-4198-...  False  2024-07-07  \n",
       "4  https://www.ft.com/content/ad27bda3-a533-4621-...  False  2024-07-07  "
      ]
     },
     "execution_count": 20,
     "metadata": {},
     "output_type": "execute_result"
    }
   ],
   "source": [
    "# merge returned df with isAI column into original df on id column\n",
    "merged_df = pd.merge(filtered_df, enriched_df, on=\"id\", how=\"outer\")\n",
    "merged_df['date'] = datetime.now().date()\n",
    "merged_df.head()\n"
   ]
  },
  {
   "cell_type": "code",
   "execution_count": 21,
   "id": "f286de30-81e7-4bab-a7fa-9477f27b6a75",
   "metadata": {},
   "outputs": [
    {
     "name": "stderr",
     "output_type": "stream",
     "text": [
      "2024-07-07 18:14:20,279 - AInewsbot - INFO - Unmatched response rows: 0\n",
      "2024-07-07 18:14:20,282 - AInewsbot - INFO - Unmatched source rows: 0\n"
     ]
    },
    {
     "data": {
      "text/plain": [
       "20"
      ]
     },
     "execution_count": 21,
     "metadata": {},
     "output_type": "execute_result"
    }
   ],
   "source": [
    "# should be empty, shouldn't get back rows that don't match to existing\n",
    "log(f\"Unmatched response rows: {len(merged_df.loc[merged_df['src'].isna()])}\")\n",
    "# should be empty, should get back all rows from orig\n",
    "log(f\"Unmatched source rows: {len(merged_df.loc[merged_df['isAI'].isna()])}\")\n"
   ]
  },
  {
   "cell_type": "code",
   "execution_count": 22,
   "id": "193ead65-a4f6-4b25-97a1-e14aec1d2c30",
   "metadata": {},
   "outputs": [],
   "source": [
    "# update SQLite database with all seen URLs\n",
    "conn = sqlite3.connect('articles.db')\n",
    "cursor = conn.cursor()\n",
    "\n",
    "for row in merged_df.itertuples():\n",
    "    insert_article(conn, cursor, row.src, row.title,\n",
    "                   row.url, row.isAI, row.date)\n"
   ]
  },
  {
   "cell_type": "code",
   "execution_count": 23,
   "id": "a5548bb2",
   "metadata": {},
   "outputs": [
    {
     "name": "stderr",
     "output_type": "stream",
     "text": [
      "2024-07-07 18:14:26,913 - AInewsbot - INFO - Found 123 AI headlines\n"
     ]
    },
    {
     "data": {
      "text/html": [
       "<div>\n",
       "<style scoped>\n",
       "    .dataframe tbody tr th:only-of-type {\n",
       "        vertical-align: middle;\n",
       "    }\n",
       "\n",
       "    .dataframe tbody tr th {\n",
       "        vertical-align: top;\n",
       "    }\n",
       "\n",
       "    .dataframe thead th {\n",
       "        text-align: right;\n",
       "    }\n",
       "</style>\n",
       "<table border=\"1\" class=\"dataframe\">\n",
       "  <thead>\n",
       "    <tr style=\"text-align: right;\">\n",
       "      <th></th>\n",
       "      <th>id</th>\n",
       "      <th>src</th>\n",
       "      <th>title</th>\n",
       "      <th>url</th>\n",
       "      <th>isAI</th>\n",
       "      <th>date</th>\n",
       "    </tr>\n",
       "  </thead>\n",
       "  <tbody>\n",
       "    <tr>\n",
       "      <th>0</th>\n",
       "      <td>0</td>\n",
       "      <td>Feedly AI</td>\n",
       "      <td>Figma disables AI-powered 'Make Design' featur...</td>\n",
       "      <td>https://appleinsider.com/articles/24/07/07/fig...</td>\n",
       "      <td>True</td>\n",
       "      <td>2024-07-07</td>\n",
       "    </tr>\n",
       "    <tr>\n",
       "      <th>1</th>\n",
       "      <td>1</td>\n",
       "      <td>Feedly AI</td>\n",
       "      <td>Meta AI may get more collaborative in WhatsApp...</td>\n",
       "      <td>https://www.theverge.com/2024/7/7/24193680/met...</td>\n",
       "      <td>True</td>\n",
       "      <td>2024-07-07</td>\n",
       "    </tr>\n",
       "    <tr>\n",
       "      <th>2</th>\n",
       "      <td>2</td>\n",
       "      <td>Feedly AI</td>\n",
       "      <td>Apple Intelligence and a better Siri may be co...</td>\n",
       "      <td>https://www.theverge.com/2024/7/7/24193619/app...</td>\n",
       "      <td>True</td>\n",
       "      <td>2024-07-07</td>\n",
       "    </tr>\n",
       "    <tr>\n",
       "      <th>3</th>\n",
       "      <td>3</td>\n",
       "      <td>Feedly AI</td>\n",
       "      <td>CIOs’ concerns over generative AI echo those o...</td>\n",
       "      <td>https://techcrunch.com/2024/07/07/cios-concern...</td>\n",
       "      <td>True</td>\n",
       "      <td>2024-07-07</td>\n",
       "    </tr>\n",
       "    <tr>\n",
       "      <th>4</th>\n",
       "      <td>4</td>\n",
       "      <td>Feedly AI</td>\n",
       "      <td>Netflix vs. Disney? We asked ChatGPT-4o which ...</td>\n",
       "      <td>https://finbold.com/netflix-vs-disney-we-asked...</td>\n",
       "      <td>True</td>\n",
       "      <td>2024-07-07</td>\n",
       "    </tr>\n",
       "    <tr>\n",
       "      <th>...</th>\n",
       "      <td>...</td>\n",
       "      <td>...</td>\n",
       "      <td>...</td>\n",
       "      <td>...</td>\n",
       "      <td>...</td>\n",
       "      <td>...</td>\n",
       "    </tr>\n",
       "    <tr>\n",
       "      <th>118</th>\n",
       "      <td>118</td>\n",
       "      <td>The Register</td>\n",
       "      <td>A friendly guide to containerization for AI wo...</td>\n",
       "      <td>https://www.theregister.com/2024/07/07/contain...</td>\n",
       "      <td>True</td>\n",
       "      <td>2024-07-07</td>\n",
       "    </tr>\n",
       "    <tr>\n",
       "      <th>119</th>\n",
       "      <td>119</td>\n",
       "      <td>The Verge</td>\n",
       "      <td>Police pulled over a Waymo car for driving in ...</td>\n",
       "      <td>https://www.theverge.com/2024/7/6/24193094/pho...</td>\n",
       "      <td>True</td>\n",
       "      <td>2024-07-07</td>\n",
       "    </tr>\n",
       "    <tr>\n",
       "      <th>120</th>\n",
       "      <td>120</td>\n",
       "      <td>The Verge</td>\n",
       "      <td>When AI models are past their prime.</td>\n",
       "      <td>https://www.theverge.com/2024/7/7/24193768/usi...</td>\n",
       "      <td>True</td>\n",
       "      <td>2024-07-07</td>\n",
       "    </tr>\n",
       "    <tr>\n",
       "      <th>121</th>\n",
       "      <td>121</td>\n",
       "      <td>VentureBeat</td>\n",
       "      <td>In the age of AI, the role of the CAIO will be...</td>\n",
       "      <td>https://venturebeat.com/ai/in-the-age-of-ai-th...</td>\n",
       "      <td>True</td>\n",
       "      <td>2024-07-07</td>\n",
       "    </tr>\n",
       "    <tr>\n",
       "      <th>122</th>\n",
       "      <td>122</td>\n",
       "      <td>VentureBeat</td>\n",
       "      <td>Mitigating AI bias with prompt engineering — p...</td>\n",
       "      <td>https://venturebeat.com/ai/mitigating-ai-bias-...</td>\n",
       "      <td>True</td>\n",
       "      <td>2024-07-07</td>\n",
       "    </tr>\n",
       "  </tbody>\n",
       "</table>\n",
       "<p>123 rows × 6 columns</p>\n",
       "</div>"
      ],
      "text/plain": [
       "      id           src                                              title  \\\n",
       "0      0     Feedly AI  Figma disables AI-powered 'Make Design' featur...   \n",
       "1      1     Feedly AI  Meta AI may get more collaborative in WhatsApp...   \n",
       "2      2     Feedly AI  Apple Intelligence and a better Siri may be co...   \n",
       "3      3     Feedly AI  CIOs’ concerns over generative AI echo those o...   \n",
       "4      4     Feedly AI  Netflix vs. Disney? We asked ChatGPT-4o which ...   \n",
       "..   ...           ...                                                ...   \n",
       "118  118  The Register  A friendly guide to containerization for AI wo...   \n",
       "119  119     The Verge  Police pulled over a Waymo car for driving in ...   \n",
       "120  120     The Verge               When AI models are past their prime.   \n",
       "121  121   VentureBeat  In the age of AI, the role of the CAIO will be...   \n",
       "122  122   VentureBeat  Mitigating AI bias with prompt engineering — p...   \n",
       "\n",
       "                                                   url  isAI        date  \n",
       "0    https://appleinsider.com/articles/24/07/07/fig...  True  2024-07-07  \n",
       "1    https://www.theverge.com/2024/7/7/24193680/met...  True  2024-07-07  \n",
       "2    https://www.theverge.com/2024/7/7/24193619/app...  True  2024-07-07  \n",
       "3    https://techcrunch.com/2024/07/07/cios-concern...  True  2024-07-07  \n",
       "4    https://finbold.com/netflix-vs-disney-we-asked...  True  2024-07-07  \n",
       "..                                                 ...   ...         ...  \n",
       "118  https://www.theregister.com/2024/07/07/contain...  True  2024-07-07  \n",
       "119  https://www.theverge.com/2024/7/6/24193094/pho...  True  2024-07-07  \n",
       "120  https://www.theverge.com/2024/7/7/24193768/usi...  True  2024-07-07  \n",
       "121  https://venturebeat.com/ai/in-the-age-of-ai-th...  True  2024-07-07  \n",
       "122  https://venturebeat.com/ai/mitigating-ai-bias-...  True  2024-07-07  \n",
       "\n",
       "[123 rows x 6 columns]"
      ]
     },
     "execution_count": 23,
     "metadata": {},
     "output_type": "execute_result"
    }
   ],
   "source": [
    "# keep headlines that are related to AI\n",
    "AIdf = merged_df.loc[merged_df[\"isAI\"]==1] \\\n",
    "    .reset_index(drop=True)  \\\n",
    "    .reset_index()  \\\n",
    "    .drop(columns=[\"id\"])  \\\n",
    "    .rename(columns={'index': 'id'})\n",
    "\n",
    "log(f\"Found {len(AIdf)} AI headlines\")\n",
    "AIdf"
   ]
  },
  {
   "cell_type": "code",
   "execution_count": 24,
   "id": "5323512b-727a-4bcb-b74e-0577044e757c",
   "metadata": {},
   "outputs": [],
   "source": [
    "# map title to ascii characters to avoid some dupes with e.g. different quote symbols\n",
    "\n",
    "def unicode_to_ascii(input_string):\n",
    "    # Normalize the Unicode string to NFKD form\n",
    "    normalized_string = unicodedata.normalize('NFKD', input_string)\n",
    "    \n",
    "    # Encode to ASCII bytes, ignoring characters that cannot be converted\n",
    "    ascii_bytes = normalized_string.encode('ascii', 'ignore')\n",
    "    \n",
    "    # Convert bytes back to a string\n",
    "    ascii_string = ascii_bytes.decode('ascii')\n",
    "    \n",
    "    return ascii_string\n",
    "\n",
    "AIdf['title'] = AIdf['title'].apply(unicode_to_ascii)\n"
   ]
  },
  {
   "cell_type": "code",
   "execution_count": 25,
   "id": "ba28a38b-d93d-43d8-9e24-c6a107538f3d",
   "metadata": {},
   "outputs": [
    {
     "name": "stderr",
     "output_type": "stream",
     "text": [
      "2024-07-07 18:14:33,006 - AInewsbot - INFO - Found 112 unique AI headlines\n"
     ]
    },
    {
     "data": {
      "text/plain": [
       "20"
      ]
     },
     "execution_count": 25,
     "metadata": {},
     "output_type": "execute_result"
    }
   ],
   "source": [
    "# dedupe identical headlines\n",
    "AIdf['title_clean'] = AIdf['title'].map(lambda s: \"\".join(s.split()))\n",
    "AIdf = AIdf.sort_values(\"src\") \\\n",
    "    .groupby(\"title_clean\") \\\n",
    "    .first() \\\n",
    "    .reset_index(drop=True) \\\n",
    "    .drop(columns=['id']) \\\n",
    "    .reset_index() \\\n",
    "    .rename(columns={'index': 'id'})\n",
    "\n",
    "log(f\"Found {len(AIdf)} unique AI headlines\")\n"
   ]
  },
  {
   "cell_type": "markdown",
   "id": "f6748df0",
   "metadata": {},
   "source": [
    "# Semantic sort"
   ]
  },
  {
   "cell_type": "code",
   "execution_count": 26,
   "id": "468fa9e6",
   "metadata": {},
   "outputs": [
    {
     "name": "stderr",
     "output_type": "stream",
     "text": [
      "2024-07-07 18:14:37,813 - AInewsbot - INFO - Fetching embeddings for 112 headlines\n",
      "2024-07-07 18:14:38,272 - httpx - INFO - HTTP Request: POST https://api.openai.com/v1/embeddings \"HTTP/1.1 200 OK\"\n"
     ]
    },
    {
     "data": {
      "text/html": [
       "<div>\n",
       "<style scoped>\n",
       "    .dataframe tbody tr th:only-of-type {\n",
       "        vertical-align: middle;\n",
       "    }\n",
       "\n",
       "    .dataframe tbody tr th {\n",
       "        vertical-align: top;\n",
       "    }\n",
       "\n",
       "    .dataframe thead th {\n",
       "        text-align: right;\n",
       "    }\n",
       "</style>\n",
       "<table border=\"1\" class=\"dataframe\">\n",
       "  <thead>\n",
       "    <tr style=\"text-align: right;\">\n",
       "      <th></th>\n",
       "      <th>id</th>\n",
       "      <th>src</th>\n",
       "      <th>title</th>\n",
       "      <th>url</th>\n",
       "      <th>isAI</th>\n",
       "      <th>date</th>\n",
       "    </tr>\n",
       "  </thead>\n",
       "  <tbody>\n",
       "    <tr>\n",
       "      <th>0</th>\n",
       "      <td>0</td>\n",
       "      <td>Feedly AI</td>\n",
       "      <td>5 big analyst AI moves: Nvidia downgraded on l...</td>\n",
       "      <td>https://www.investing.com/news/stock-market-ne...</td>\n",
       "      <td>True</td>\n",
       "      <td>2024-07-07</td>\n",
       "    </tr>\n",
       "    <tr>\n",
       "      <th>1</th>\n",
       "      <td>1</td>\n",
       "      <td>Feedly AI</td>\n",
       "      <td>Two risks to the AI tech rally</td>\n",
       "      <td>https://au.investing.com/news/stock-market-new...</td>\n",
       "      <td>True</td>\n",
       "      <td>2024-07-07</td>\n",
       "    </tr>\n",
       "    <tr>\n",
       "      <th>2</th>\n",
       "      <td>2</td>\n",
       "      <td>Google News</td>\n",
       "      <td>45% of Warren Buffett's $398 Billion Portfolio...</td>\n",
       "      <td>https://news.google.com/articles/CBMiW2h0dHBzO...</td>\n",
       "      <td>True</td>\n",
       "      <td>2024-07-07</td>\n",
       "    </tr>\n",
       "    <tr>\n",
       "      <th>3</th>\n",
       "      <td>3</td>\n",
       "      <td>Google News</td>\n",
       "      <td>Broadcom: An Essential Company For AI Investor...</td>\n",
       "      <td>https://news.google.com/articles/CBMiV2h0dHBzO...</td>\n",
       "      <td>True</td>\n",
       "      <td>2024-07-07</td>\n",
       "    </tr>\n",
       "    <tr>\n",
       "      <th>4</th>\n",
       "      <td>4</td>\n",
       "      <td>Google News</td>\n",
       "      <td>Advanced Micro Devices, Inc. (AMD): Hedge Fund...</td>\n",
       "      <td>https://news.google.com/articles/CBMiTGh0dHBzO...</td>\n",
       "      <td>True</td>\n",
       "      <td>2024-07-07</td>\n",
       "    </tr>\n",
       "    <tr>\n",
       "      <th>...</th>\n",
       "      <td>...</td>\n",
       "      <td>...</td>\n",
       "      <td>...</td>\n",
       "      <td>...</td>\n",
       "      <td>...</td>\n",
       "      <td>...</td>\n",
       "    </tr>\n",
       "    <tr>\n",
       "      <th>107</th>\n",
       "      <td>107</td>\n",
       "      <td>Reddit</td>\n",
       "      <td>James Muldoon, Mark Graham and Callum Cant: AI...</td>\n",
       "      <td>https://www.reddit.com/r/technology/comments/1...</td>\n",
       "      <td>True</td>\n",
       "      <td>2024-07-07</td>\n",
       "    </tr>\n",
       "    <tr>\n",
       "      <th>108</th>\n",
       "      <td>108</td>\n",
       "      <td>Reddit</td>\n",
       "      <td>Meet Mercy and Anita  the African workers driv...</td>\n",
       "      <td>https://www.reddit.com/r/technology/comments/1...</td>\n",
       "      <td>True</td>\n",
       "      <td>2024-07-07</td>\n",
       "    </tr>\n",
       "    <tr>\n",
       "      <th>109</th>\n",
       "      <td>109</td>\n",
       "      <td>Feedly AI</td>\n",
       "      <td>Figma disables AI-powered 'Make Design' featur...</td>\n",
       "      <td>https://appleinsider.com/articles/24/07/07/fig...</td>\n",
       "      <td>True</td>\n",
       "      <td>2024-07-07</td>\n",
       "    </tr>\n",
       "    <tr>\n",
       "      <th>110</th>\n",
       "      <td>110</td>\n",
       "      <td>Google News</td>\n",
       "      <td>Microsoft's AI CEO: Web Content (Without a Rob...</td>\n",
       "      <td>https://news.google.com/articles/CBMifmh0dHBzO...</td>\n",
       "      <td>True</td>\n",
       "      <td>2024-07-07</td>\n",
       "    </tr>\n",
       "    <tr>\n",
       "      <th>111</th>\n",
       "      <td>111</td>\n",
       "      <td>Reddit</td>\n",
       "      <td>Microsofts climbdown over its creepy Recall fe...</td>\n",
       "      <td>https://www.reddit.com/r/technology/comments/1...</td>\n",
       "      <td>True</td>\n",
       "      <td>2024-07-07</td>\n",
       "    </tr>\n",
       "  </tbody>\n",
       "</table>\n",
       "<p>112 rows × 6 columns</p>\n",
       "</div>"
      ],
      "text/plain": [
       "      id          src                                              title  \\\n",
       "0      0    Feedly AI  5 big analyst AI moves: Nvidia downgraded on l...   \n",
       "1      1    Feedly AI                     Two risks to the AI tech rally   \n",
       "2      2  Google News  45% of Warren Buffett's $398 Billion Portfolio...   \n",
       "3      3  Google News  Broadcom: An Essential Company For AI Investor...   \n",
       "4      4  Google News  Advanced Micro Devices, Inc. (AMD): Hedge Fund...   \n",
       "..   ...          ...                                                ...   \n",
       "107  107       Reddit  James Muldoon, Mark Graham and Callum Cant: AI...   \n",
       "108  108       Reddit  Meet Mercy and Anita  the African workers driv...   \n",
       "109  109    Feedly AI  Figma disables AI-powered 'Make Design' featur...   \n",
       "110  110  Google News  Microsoft's AI CEO: Web Content (Without a Rob...   \n",
       "111  111       Reddit  Microsofts climbdown over its creepy Recall fe...   \n",
       "\n",
       "                                                   url  isAI        date  \n",
       "0    https://www.investing.com/news/stock-market-ne...  True  2024-07-07  \n",
       "1    https://au.investing.com/news/stock-market-new...  True  2024-07-07  \n",
       "2    https://news.google.com/articles/CBMiW2h0dHBzO...  True  2024-07-07  \n",
       "3    https://news.google.com/articles/CBMiV2h0dHBzO...  True  2024-07-07  \n",
       "4    https://news.google.com/articles/CBMiTGh0dHBzO...  True  2024-07-07  \n",
       "..                                                 ...   ...         ...  \n",
       "107  https://www.reddit.com/r/technology/comments/1...  True  2024-07-07  \n",
       "108  https://www.reddit.com/r/technology/comments/1...  True  2024-07-07  \n",
       "109  https://appleinsider.com/articles/24/07/07/fig...  True  2024-07-07  \n",
       "110  https://news.google.com/articles/CBMifmh0dHBzO...  True  2024-07-07  \n",
       "111  https://www.reddit.com/r/technology/comments/1...  True  2024-07-07  \n",
       "\n",
       "[112 rows x 6 columns]"
      ]
     },
     "execution_count": 26,
     "metadata": {},
     "output_type": "execute_result"
    }
   ],
   "source": [
    "# use embeddings to sort headlines by semantical similarity\n",
    "log(f\"Fetching embeddings for {len(AIdf)} headlines\")\n",
    "embedding_model = 'text-embedding-3-large'\n",
    "response = client.embeddings.create(input=AIdf['title'].tolist(),\n",
    "                                    model=embedding_model)\n",
    "embedding_df = pd.DataFrame([e.model_dump()['embedding'] for e in response.data])\n",
    "\n",
    "sorted_indices = agglomerative_cluster_sort(embedding_df)\n",
    "AIdf = AIdf.iloc[sorted_indices] \\\n",
    "    .reset_index(drop=True) \\\n",
    "    .reset_index() \\\n",
    "    .drop(columns=[\"id\"]) \\\n",
    "    .rename(columns={'index': 'id'})\n",
    "\n",
    "# sort embedding_df to match\n",
    "embedding_df = embedding_df[sorted_indices]\n",
    "\n",
    "AIdf\n"
   ]
  },
  {
   "cell_type": "markdown",
   "id": "e79cc4ee",
   "metadata": {},
   "source": [
    "# Save and email headlines\n"
   ]
  },
  {
   "cell_type": "code",
   "execution_count": 27,
   "id": "12047601-67d0-4e60-b1e7-79d38349b58e",
   "metadata": {},
   "outputs": [
    {
     "name": "stderr",
     "output_type": "stream",
     "text": [
      "2024-07-07 18:14:48,260 - AInewsbot - INFO - [0. 5 big analyst AI moves: Nvidia downgraded on limited further upside - Feedly AI](https://www.investing.com/news/stock-market-news/5-big-analyst-ai-moves-nvidia-downgraded-on-limited-further-upside-3509545)\n",
      "2024-07-07 18:14:48,262 - AInewsbot - INFO - [1. Two risks to the AI tech rally - Feedly AI](https://au.investing.com/news/stock-market-news/two-risks-to-the-ai-tech-rally-432SI-3330078)\n",
      "2024-07-07 18:14:48,262 - AInewsbot - INFO - [2. 45% of Warren Buffett's $398 Billion Portfolio Is Invested in 3 Artificial Intelligence (AI) Stocks - Google News](https://news.google.com/articles/CBMiW2h0dHBzOi8vd3d3LmZvb2wuY29tL2ludmVzdGluZy8yMDI0LzA3LzA3LzQ1LXdhcnJlbi1idWZmZXR0cy0zOTgtYmlsbGlvbi1pcy1pbi0zLWFpLXN0b2Nrcy_SAQA)\n",
      "2024-07-07 18:14:48,263 - AInewsbot - INFO - [3. Broadcom: An Essential Company For AI Investors (NASDAQ:AVGO) - Google News](https://news.google.com/articles/CBMiV2h0dHBzOi8vc2Vla2luZ2FscGhhLmNvbS9hcnRpY2xlLzQ3MDE4MDEtYnJvYWRjb20tYW4tZXNzZW50aWFsLWNvbXBhbnktZm9yLWFpLWludmVzdG9yc9IBAA)\n",
      "2024-07-07 18:14:48,263 - AInewsbot - INFO - [4. Advanced Micro Devices, Inc. (AMD): Hedge Funds Are Bullish On This AI Stock Right Now - Google News](https://news.google.com/articles/CBMiTGh0dHBzOi8vZmluYW5jZS55YWhvby5jb20vbmV3cy9hZHZhbmNlZC1taWNyby1kZXZpY2VzLWluYy1hbWQtMDI1NjM1ODE4Lmh0bWzSAQA)\n",
      "2024-07-07 18:14:48,264 - AInewsbot - INFO - [5. Better Artificial Intelligence (AI) Stock: Nvidia vs. AMD - Google News](https://news.google.com/articles/CBMiXWh0dHBzOi8vd3d3LmZvb2wuY29tL2ludmVzdGluZy8yMDI0LzA3LzAyL2JldHRlci1hcnRpZmljaWFsLWludGVsbGlnZW5jZS1zdG9jay1udmlkaWEtdnMtYW1kL9IBAA)\n",
      "2024-07-07 18:14:48,265 - AInewsbot - INFO - [6. Apple's New Artificial Intelligence (AI) Features Could Push This Semiconductor Company to a $1 Trillion Valuation - Google News](https://news.google.com/articles/CBMiXWh0dHBzOi8vd3d3LmZvb2wuY29tL2ludmVzdGluZy8yMDI0LzA3LzA0L2FwcGxlcy1uZXctYXJ0aWZpY2lhbC1pbnRlbGxpZ2VuY2UtYWktZmVhdHVyZXMtY291L9IBAA)\n",
      "2024-07-07 18:14:48,266 - AInewsbot - INFO - [7. Could ASML Be The Next Major AI Stock to Split Its Shares? - Feedly AI](https://247wallst.com/technology-3/2024/07/07/could-asml-be-the-next-major-ai-stock-to-split-its-shares/)\n",
      "2024-07-07 18:14:48,267 - AInewsbot - INFO - [8. AI Stocks Keep Surging. Buy 2 That Havent. - Feedly AI](https://www.barrons.com/articles/ai-stocks-salesforce-uber-buy-8aea0217)\n",
      "2024-07-07 18:14:48,267 - AInewsbot - INFO - [9. Forget Nvidia: This Stock-Split AI Stock Could Be a Better Buy - Google News](https://news.google.com/articles/CBMiXWh0dHBzOi8vd3d3LmZvb2wuY29tL2ludmVzdGluZy8yMDI0LzA3LzA0L2ZvcmdldC1udmlkaWEtdGhpcy1zdG9jay1zcGxpdC1haS1zdG9jay1jb3VsZC1iZS1hL9IBAA)\n",
      "2024-07-07 18:14:48,268 - AInewsbot - INFO - [10. Generative AI Sales Could Soar 2,040%: My Pick for the Best AI Stock to Buy Now (Hint: Not Nvidia) - Feedly AI](https://www.fool.com/investing/2024/07/07/generative-ai-soar-2040-best-ai-stock-buy-now-nvda/)\n",
      "2024-07-07 18:14:48,269 - AInewsbot - INFO - [11. Netflix vs. Disney? We asked ChatGPT-4o which stock is a better buy for 2024 - Feedly AI](https://finbold.com/netflix-vs-disney-we-asked-chatgpt-4o-which-stock-is-a-better-buy-for-2024/)\n",
      "2024-07-07 18:14:48,269 - AInewsbot - INFO - [12. 1 Phenomenal Stock That Could Join Microsoft, Apple, Nvidia, Alphabet, Amazon, and Meta in the $1 Trillion Club - Google News](https://news.google.com/articles/CBMiXWh0dHBzOi8vd3d3LmZvb2wuY29tL2ludmVzdGluZy8yMDI0LzA3LzA3LzEtcGhlbm9tZW5hbC1zdG9jay10aGF0LWNvdWxkLWpvaW4tbWljcm9zb2Z0LWFwcGxlL9IBAA)\n",
      "2024-07-07 18:14:48,270 - AInewsbot - INFO - [13. 3 Rapidly Rising Companies Set to Join the $1 Trillion Club - Google News](https://news.google.com/articles/CBMiXWh0dHBzOi8vaW52ZXN0b3JwbGFjZS5jb20vMjAyNC8wNy8zLXJhcGlkbHktcmlzaW5nLWNvbXBhbmllcy1zZXQtdG8tam9pbi10aGUtMS10cmlsbGlvbi1jbHViL9IBAA)\n",
      "2024-07-07 18:14:48,270 - AInewsbot - INFO - [14. Google Says AI Could Break Reality - Feedly AI](https://www.404media.co/email/dd4acda7-3cf5-48a1-a940-8bdf0aede2b4/)\n",
      "2024-07-07 18:14:48,270 - AInewsbot - INFO - [15. Top Artificial Intelligence AI Search Engines to Know in 2024 - Google News](https://news.google.com/articles/CBMiZmh0dHBzOi8vd3d3Lm1hcmt0ZWNocG9zdC5jb20vMjAyNC8wNy8wNy90b3AtYXJ0aWZpY2lhbC1pbnRlbGxpZ2VuY2UtYWktc2VhcmNoLWVuZ2luZXMtdG8ta25vdy1pbi0yMDI0L9IBamh0dHBzOi8vd3d3Lm1hcmt0ZWNocG9zdC5jb20vMjAyNC8wNy8wNy90b3AtYXJ0aWZpY2lhbC1pbnRlbGxpZ2VuY2UtYWktc2VhcmNoLWVuZ2luZXMtdG8ta25vdy1pbi0yMDI0Lz9hbXA)\n",
      "2024-07-07 18:14:48,271 - AInewsbot - INFO - [16. Wild new way to search for anything, anywhere with Google's Circle to Search AI feature - Feedly AI](https://www.foxnews.com/tech/wild-new-way-search-anything-anywhere-googles-circle-search-ai-feature)\n",
      "2024-07-07 18:14:48,271 - AInewsbot - INFO - [17. AI's 'positive role' during Indian polls amidst deepfakes disinformation - Google News](https://news.google.com/articles/CBMiTmh0dHBzOi8vd3d3LmNvdW50ZXJ2aWV3Lm5ldC8yMDI0LzA3L2Fpcy1wb3NpdGl2ZS1yb2xlLWR1cmluZy1pbmRpYW4tcG9sbHMuaHRtbNIBAA)\n",
      "2024-07-07 18:14:48,272 - AInewsbot - INFO - [18. Our Chicago: Could artificial intelligence impact 2024 election as voters choose between Joe Biden, Donald Trump? - Google News](https://news.google.com/articles/CBMiaGh0dHBzOi8vYWJjN2NoaWNhZ28uY29tL3Bvc3QvY2hpY2Fnby1jb3VsZC1hcnRpZmljaWFsLWludGVsbGlnZW5jZS1pbXBhY3QtMjAyNC1lbGVjdGlvbi12b3RlcnMvMTUwMzY5NTEv0gEA)\n",
      "2024-07-07 18:14:48,272 - AInewsbot - INFO - [19. Program looks at AI's impact on politics in La Crosse - Google News](https://news.google.com/articles/CBMiigFodHRwczovL3d3dy53cW93LmNvbS9uZXdzL3dpc2NvbnNpbi9wcm9ncmFtLWxvb2tzLWF0LWFpcy1pbXBhY3Qtb24tcG9saXRpY3MtaW4tbGEtY3Jvc3NlL2FydGljbGVfMWI4OGMxZTgtZjIxYy01ODMwLWI4ODYtNDI5NDA4MjY1NjQ4Lmh0bWzSAQA)\n",
      "2024-07-07 18:14:48,272 - AInewsbot - INFO - [20. Georgia artificial intelligence program teaches kids about bias in policing - Google News](https://news.google.com/articles/CBMiaWh0dHBzOi8vd3d3LndyZHcuY29tLzIwMjQvMDcvMDcvZ2VvcmdpYS1hcnRpZmljaWFsLWludGVsbGlnZW5jZS1wcm9ncmFtLXRlYWNoZXMta2lkcy1hYm91dC1iaWFzLXBvbGljaW5nL9IBeGh0dHBzOi8vd3d3LndyZHcuY29tLzIwMjQvMDcvMDcvZ2VvcmdpYS1hcnRpZmljaWFsLWludGVsbGlnZW5jZS1wcm9ncmFtLXRlYWNoZXMta2lkcy1hYm91dC1iaWFzLXBvbGljaW5nLz9vdXRwdXRUeXBlPWFtcA)\n",
      "2024-07-07 18:14:48,273 - AInewsbot - INFO - [21. California Teachers are Using AI to Grade Papers. Whos Grading the AI? - Feedly AI](https://www.the74million.org/article/california-teachers-are-using-ai-to-grade-papers-whos-grading-the-ai/)\n",
      "2024-07-07 18:14:48,273 - AInewsbot - INFO - [22. Will artificial intelligence transform school? - Google News](https://news.google.com/articles/CBMiYWh0dHBzOi8vd3d3LmVjb25vbWlzdC5jb20vc3BlY2lhbC1yZXBvcnQvMjAyNC8wNy8wNy93aWxsLWFydGlmaWNpYWwtaW50ZWxsaWdlbmNlLXRyYW5zZm9ybS1zY2hvb2zSAQA)\n",
      "2024-07-07 18:14:48,273 - AInewsbot - INFO - [23. So how are we doing with AI in architectural design? - Google News](https://news.google.com/articles/CBMiXmh0dHBzOi8vd3d3LmRvbXVzd2ViLml0L2VuL25ld3MvMjAyNC8wNi8yNi9hcmUtd2UtcmVhZHktdG8tdXNlLWFpLWluLWFyY2hpdGVjdHVyYWwtZGVzaWduLmh0bWzSAWJodHRwczovL3d3dy5kb211c3dlYi5pdC9lbi9uZXdzLzIwMjQvMDYvMjYvYXJlLXdlLXJlYWR5LXRvLXVzZS1haS1pbi1hcmNoaXRlY3R1cmFsLWRlc2lnbi5hbXAuaHRtbA)\n",
      "2024-07-07 18:14:48,274 - AInewsbot - INFO - [24. Harnessing AI and technological advancements in the AEC industry for enhanced efficiency and productivity - Google News](https://news.google.com/articles/CBMinAFodHRwczovL3d3dy5leHByZXNzY29tcHV0ZXIuaW4vZ3Vlc3QtYmxvZ3MvaGFybmVzc2luZy1haS1hbmQtdGVjaG5vbG9naWNhbC1hZHZhbmNlbWVudHMtaW4tdGhlLWFlYy1pbmR1c3RyeS1mb3ItZW5oYW5jZWQtZWZmaWNpZW5jeS1hbmQtcHJvZHVjdGl2aXR5LzExMzc1Mi_SAaABaHR0cHM6Ly93d3cuZXhwcmVzc2NvbXB1dGVyLmluL2FtcC9ndWVzdC1ibG9ncy9oYXJuZXNzaW5nLWFpLWFuZC10ZWNobm9sb2dpY2FsLWFkdmFuY2VtZW50cy1pbi10aGUtYWVjLWluZHVzdHJ5LWZvci1lbmhhbmNlZC1lZmZpY2llbmN5LWFuZC1wcm9kdWN0aXZpdHkvMTEzNzUyLw)\n",
      "2024-07-07 18:14:48,274 - AInewsbot - INFO - [25. 5 Best AI Tools for the Construction Industry (July 2024) - Google News](https://news.google.com/articles/CBMiQWh0dHBzOi8vd3d3LnVuaXRlLmFpL2Jlc3QtYWktdG9vbHMtZm9yLXRoZS1jb25zdHJ1Y3Rpb24taW5kdXN0cnkv0gEA)\n",
      "2024-07-07 18:14:48,274 - AInewsbot - INFO - [26. What generative AI can do for construction right now - Google News](https://news.google.com/articles/CBMiWmh0dHBzOi8vd3d3LmNvbnN0cnVjdGlvbmRpdmUuY29tL25ld3MvZ2VuZXJhdGl2ZS1haS1zd2luZXJ0b24tZnV0dXJldGVjaC1NaWNyb3NvZnQvNzIwNTEzL9IBAA)\n"
     ]
    },
    {
     "name": "stderr",
     "output_type": "stream",
     "text": [
      "2024-07-07 18:14:48,275 - AInewsbot - INFO - [27. HowArtificial IntelligenceCan Make Our Smart Homes, Smarter - Feedly AI](https://hackernoon.com/how-artificial-intelligence-can-make-our-smart-homes-smarter)\n",
      "2024-07-07 18:14:48,275 - AInewsbot - INFO - [28. Personalized AI Farming Assistants - Google News](https://news.google.com/articles/CBMiLWh0dHBzOi8vd3d3LnRyZW5kaHVudGVyLmNvbS90cmVuZHMvYWktZmFybWluZ9IBMWh0dHBzOi8vd3d3LnRyZW5kaHVudGVyLmNvbS9hbXAvdHJlbmRzL2FpLWZhcm1pbmc)\n",
      "2024-07-07 18:14:48,276 - AInewsbot - INFO - [29. AI Can Learn Uses for Modern-Day Agriculture - Google News](https://news.google.com/articles/CBMieWh0dHBzOi8vd3d3LmttYWxhbmQuY29tL2FnL2FpLWNhbi1sZWFybi11c2VzLWZvci1tb2Rlcm4tZGF5LWFncmljdWx0dXJlL2FydGljbGVfYWY2Zjc1MzYtM2FlNi0xMWVmLWE2OTYtNGY5ZGJlYWZiZDBmLmh0bWzSAQA)\n",
      "2024-07-07 18:14:48,276 - AInewsbot - INFO - [30. Artificial Intelligence is being trained to help all areas of agriculture - Google News](https://news.google.com/articles/CBMiX2h0dHBzOi8vd3d3LnJmZHR2LmNvbS9hcnRpZmljaWFsLWludGVsbGlnZW5jZS1pcy1iZWluZy10cmFpbmVkLXRvLWhlbHAtYWxsLWFyZWFzLW9mLWFncmljdWx0dXJl0gEA)\n",
      "2024-07-07 18:14:48,277 - AInewsbot - INFO - [31. On AI's impact on sustainability - Google News](https://news.google.com/articles/CBMiamh0dHBzOi8vd3d3Lm1hbmlsYXRpbWVzLm5ldC8yMDI0LzA3LzA3L2J1c2luZXNzL3N1bmRheS1idXNpbmVzcy1pdC9vbi1haXMtaW1wYWN0LW9uLXN1c3RhaW5hYmlsaXR5LzE5NTU1MDbSAW5odHRwczovL3d3dy5tYW5pbGF0aW1lcy5uZXQvMjAyNC8wNy8wNy9idXNpbmVzcy9zdW5kYXktYnVzaW5lc3MtaXQvb24tYWlzLWltcGFjdC1vbi1zdXN0YWluYWJpbGl0eS8xOTU1NTA2L2FtcA)\n",
      "2024-07-07 18:14:48,278 - AInewsbot - INFO - [32. How AI is helping us tackle the climate crisis - Google News](https://news.google.com/articles/CBMiaWh0dHBzOi8vd3d3LnRoZWd1YXJkaWFuLmNvbS90ZWNobm9sb2d5L2FydGljbGUvMjAyNC9qdWwvMDcvaG93LWFpLWlzLWhlbHBpbmctdXMtdGFja2xlLXRoZS1jbGltYXRlLWNyaXNpc9IBaWh0dHBzOi8vYW1wLnRoZWd1YXJkaWFuLmNvbS90ZWNobm9sb2d5L2FydGljbGUvMjAyNC9qdWwvMDcvaG93LWFpLWlzLWhlbHBpbmctdXMtdGFja2xlLXRoZS1jbGltYXRlLWNyaXNpcw)\n",
      "2024-07-07 18:14:48,278 - AInewsbot - INFO - [33. We ask AI to explain why we struggle with solving the climate crisis - Google News](https://news.google.com/articles/CBMibmh0dHBzOi8vZ2VvZ3JhcGhpY2FsLmNvLnVrL2NsaW1hdGUtY2hhbmdlL3dlLWFzay1haS10by1leHBsYWluLXdoeS13ZS1zdHJ1Z2dsZS13aXRoLXNvbHZpbmctdGhlLWNsaW1hdGUtY3Jpc2lz0gEA)\n",
      "2024-07-07 18:14:48,278 - AInewsbot - INFO - [34. Predicting Toxic Algae Blooms with AI Modeling - Feedly AI](https://www.planetizen.com/news/2024/07/130117-predicting-toxic-algae-blooms-ai-modeling)\n",
      "2024-07-07 18:14:48,279 - AInewsbot - INFO - [35. UAH Doctoral Candidate Leads Study On Leveraging AI And Social Media For Disaster Relief Communication - Google News](https://news.google.com/articles/CBMinQFodHRwczovL2h1bnRzdmlsbGVidXNpbmVzc2pvdXJuYWwuY29tL25ld3MvMjAyNC8wNy8wNy91YWgtZG9jdG9yYWwtY2FuZGlkYXRlLWxlYWRzLXN0dWR5LW9uLWxldmVyYWdpbmctYWktYW5kLXNvY2lhbC1tZWRpYS1mb3ItZGlzYXN0ZXItcmVsaWVmLWNvbW11bmljYXRpb24v0gEA)\n",
      "2024-07-07 18:14:48,279 - AInewsbot - INFO - [36. US-China Conflict: USAF Plans 1000 6th-Gen Robo Warplanes To Counter Beijing & Its Ever Growing PLAAF - Google News](https://news.google.com/articles/CBMiRGh0dHBzOi8vd3d3LmV1cmFzaWFudGltZXMuY29tL3VzLWNoaW5hLWNvbmZsaWN0LXVzYWYtcGxhbnMtMTAwMC02dGgv0gFEaHR0cHM6Ly93d3cuZXVyYXNpYW50aW1lcy5jb20vdXMtY2hpbmEtY29uZmxpY3QtdXNhZi1wbGFucy0xMDAwLTZ0aC8)\n",
      "2024-07-07 18:14:48,279 - AInewsbot - INFO - [37. Elon Musk expected to make speech at opening of Shanghai's World AI Conference - Google News](https://news.google.com/articles/CBMiiwFodHRwczovL3d3dy5yZXV0ZXJzLmNvbS90ZWNobm9sb2d5L2FydGlmaWNpYWwtaW50ZWxsaWdlbmNlL2Vsb24tbXVzay1leHBlY3RlZC1tYWtlLXNwZWVjaC1vcGVuaW5nLXNoYW5naGFpcy13b3JsZC1haS1jb25mZXJlbmNlLTIwMjQtMDctMDMv0gEA)\n",
      "2024-07-07 18:14:48,280 - AInewsbot - INFO - [38. Big Tech needs to generate $600 billion in annual revenue to justify AI hardware expenditure - Feedly AI](https://www.techspot.com/news/103699-big-tech-needs-generate-600-billion-annual-revenue.html)\n",
      "2024-07-07 18:14:48,280 - AInewsbot - INFO - [39. Samsung expects profits to surge on demand for AI chips - Google News](https://news.google.com/articles/CBMiP2h0dHBzOi8vd3d3LmZ0LmNvbS9jb250ZW50LzhhN2M4NmZlLWYyNzEtNDRlYS05NmUxLTczMGY1NjQ5M2YzOdIBAA)\n",
      "2024-07-07 18:14:48,280 - AInewsbot - INFO - [40. Chinas tech boom powering AI career coup, with finance muscled out at top of salary pyramid - Feedly AI](https://www.scmp.com/economy/china-economy/article/3269334/chinas-tech-boom-powering-ai-career-coup-finance-muscled-out-top-salary-pyramid)\n",
      "2024-07-07 18:14:48,280 - AInewsbot - INFO - [41. China's AI model glut is a 'significant waste of resources' due to scarce real-world applications says Baidu CEO - Feedly AI](https://www.tomshardware.com/tech-industry/artificial-intelligence/chinas-ai-model-glut-is-a-significant-waste-of-resources-due-to-scarce-real-world-applications-says-baidu-ceo)\n",
      "2024-07-07 18:14:48,281 - AInewsbot - INFO - [42. China's homegrown AI models are expanding - Google News](https://news.google.com/articles/CBMiO2h0dHBzOi8vcXouY29tL2VtYWlscy9kYWlseS1icmllZi8xODUxNTgwMDc2L2NoaW5hcy1haS1wdXNo0gEA)\n",
      "2024-07-07 18:14:48,281 - AInewsbot - INFO - [43. Banks Must Guard against Scammers Using AI - Google News](https://news.google.com/articles/CBMiJWh0dHBzOi8vd3d3LmRhaWx5LXN1bi5jb20vcG9zdC83NTYzNjnSAQA)\n",
      "2024-07-07 18:14:48,282 - AInewsbot - INFO - [44. Fintech needs to adopt advanced AI/ML-powered models - Google News](https://news.google.com/articles/CBMiZ2h0dHBzOi8vd3d3Lm5ld2luZGlhbmV4cHJlc3MuY29tL3hwbG9yZS8yMDI0L0p1bC8wNS9maW50ZWNoLW5lZWRzLXRvLWFkb3B0LWFkdmFuY2VkLWFpbWwtcG93ZXJlZC1tb2RlbHPSAXFodHRwczovL3d3dy5uZXdpbmRpYW5leHByZXNzLmNvbS9hbXAvc3RvcnkveHBsb3JlLzIwMjQvSnVsLzA1L2ZpbnRlY2gtbmVlZHMtdG8tYWRvcHQtYWR2YW5jZWQtYWltbC1wb3dlcmVkLW1vZGVscw)\n",
      "2024-07-07 18:14:48,282 - AInewsbot - INFO - [45. What strategies can business and technology leaders adopt to effectively balance immediate AI investments with long-term sustainability objectives?  Intelligent CIO Europe - Google News](https://news.google.com/articles/CBMiwAFodHRwczovL3d3dy5pbnRlbGxpZ2VudGNpby5jb20vZXUvMjAyNC8wNy8wNS93aGF0LXN0cmF0ZWdpZXMtY2FuLWJ1c2luZXNzLWFuZC10ZWNobm9sb2d5LWxlYWRlcnMtYWRvcHQtdG8tZWZmZWN0aXZlbHktYmFsYW5jZS1pbW1lZGlhdGUtYWktaW52ZXN0bWVudHMtd2l0aC1sb25nLXRlcm0tc3VzdGFpbmFiaWxpdHktb2JqZWN0aXZlcy_SAQA)\n",
      "2024-07-07 18:14:48,282 - AInewsbot - INFO - [46. How Cohere CEO Aidan Gomez Says AI Will Directly Profit Companies - Google News](https://news.google.com/articles/CCAiC1pGbWFweFlCYWZZmAEB)\n",
      "2024-07-07 18:14:48,283 - AInewsbot - INFO - [47. In the age of AI, the role of the CAIO will be indispensable (and here's why) - VentureBeat](https://venturebeat.com/ai/in-the-age-of-ai-the-role-of-the-caio-will-be-indispensable-and-heres-why/)\n",
      "2024-07-07 18:14:48,283 - AInewsbot - INFO - [48. CIOs concerns over generative AI echo those of the early days of cloud computing - Feedly AI](https://techcrunch.com/2024/07/07/cios-concerns-over-generative-ai-echo-those-of-the-early-days-of-cloud-computing/)\n",
      "2024-07-07 18:14:48,283 - AInewsbot - INFO - [49. US intelligence community is embracing generative AI - Feedly AI](https://www.nextgov.com/artificial-intelligence/2024/07/us-intelligence-community-embracing-generative-ai/397849/)\n",
      "2024-07-07 18:14:48,283 - AInewsbot - INFO - [50. Passwords are passe: GenAI demands new methods of digital security - Google News](https://news.google.com/articles/CBMiX2h0dHBzOi8vd3d3LnRlY2hyYWRhci5jb20vcHJvL3Bhc3N3b3Jkcy1hcmUtcGFzc2UtZ2VuYWktZGVtYW5kcy1uZXctbWV0aG9kcy1vZi1kaWdpdGFsLXNlY3VyaXR50gEA)\n",
      "2024-07-07 18:14:48,283 - AInewsbot - INFO - [51. Tokens are a big reason todays generative AI falls short - Reddit](https://www.reddit.com/r/technology/comments/1dx38gy/tokens_are_a_big_reason_todays_generative_ai/)\n",
      "2024-07-07 18:14:48,284 - AInewsbot - INFO - [52. What happened to the artificial-intelligence revolution? - Feedly AI](https://www.economist.com/finance-and-economics/2024/07/02/what-happened-to-the-artificial-intelligence-revolution)\n",
      "2024-07-07 18:14:48,284 - AInewsbot - INFO - [53. When AI models are past their prime. - The Verge](https://www.theverge.com/2024/7/7/24193768/using-chatgpt-for-coding-help-is-a-fraught-endeavor)\n",
      "2024-07-07 18:14:48,284 - AInewsbot - INFO - [54. A former OpenAI researcher sees a clear path to AGI this decade. Bill Gates disagrees - Google News](https://news.google.com/articles/CBMiX2h0dHBzOi8vZm9ydHVuZS5jb20vMjAyNC8wNy8wMi9iaWxsLWdhdGVzLWxlb3BvbGQtYXNjaGVuYnJlbm5lci10cmVhdGlzZS1hZ2ktc3VwZXJpbnRlbGxpZ2VuY2Uv0gEA)\n"
     ]
    },
    {
     "name": "stderr",
     "output_type": "stream",
     "text": [
      "2024-07-07 18:14:48,284 - AInewsbot - INFO - [55. AI models that cost $1 billion to train are underway, $100 billion models coming  largest current models take 'only' $100 million to train: Anthropic CEO - Feedly AI](https://www.tomshardware.com/tech-industry/artificial-intelligence/ai-models-that-cost-dollar1-billion-to-train-are-in-development-dollar100-billion-models-coming-soon-largest-current-models-take-only-dollar100-million-to-train-anthropic-ceo)\n",
      "2024-07-07 18:14:48,284 - AInewsbot - INFO - [56. Anthropic aims to fix one of the biggest problems in AI right now - Feedly AI](https://www.digitaltrends.com/computing/anthropic-ai-benchmark-funding-program/)\n",
      "2024-07-07 18:14:48,284 - AInewsbot - INFO - [57. How Congress is fighting the rise of nonconsensual AI porn - Feedly AI](https://thehill.com/policy/technology/4752365-regulation-nonconsensual-explicit-deepfakes/)\n",
      "2024-07-07 18:14:48,285 - AInewsbot - INFO - [58. Texas teen works to protect victims of non-consensual real and AI porn | Y'all-itics: June 27, 2024 - Google News](https://news.google.com/articles/CBMiuwFodHRwczovL3d3dy53ZmFhLmNvbS92aWRlby9uZXdzL3BvbGl0aWNzL3lhbGwtaXRpY3MvdGV4YXMtdGVlbi13b3Jrcy10by1wcm90ZWN0LXZpY3RpbXMtb2Ytbm9uLWNvbnNlbnN1YWwtcmVhbC1hbmQtYWktcG9ybi15YWxsLWl0aWNzLWp1bmUtMjctMjAyNC8yODctOGVlZjAyN2QtYmIxOS00Y2UwLWJjNjQtZDNmNjI5MDMxNmJi0gEA)\n",
      "2024-07-07 18:14:48,285 - AInewsbot - INFO - [59. GenAI Helps Drive 118% Increase in Job Scams, ITRC Says - Google News](https://news.google.com/articles/CBMic2h0dHBzOi8vd3d3LnB5bW50cy5jb20vYXJ0aWZpY2lhbC1pbnRlbGxpZ2VuY2UtMi8yMDI0L2dlbmFpLWhlbHBzLWRyaXZlLTExOHBlcmNlbnQtaW5jcmVhc2UtaW4tam9iLXNjYW1zLWl0cmMtc2F5cy_SAQA)\n",
      "2024-07-07 18:14:48,285 - AInewsbot - INFO - [60. Job scams surged 118% in 2023, aided by AI. Here's how to stop them - Google News](https://news.google.com/articles/CBMia2h0dHBzOi8vd3d3LmNuYmMuY29tLzIwMjQvMDcvMDcvam9iLXNjYW1zLXN1cmdlZC0xMThwZXJjZW50LWluLTIwMjMtYWlkZWQtYnktYWktaGVyZXMtaG93LXRvLXN0b3AtdGhlbS5odG1s0gFvaHR0cHM6Ly93d3cuY25iYy5jb20vYW1wLzIwMjQvMDcvMDcvam9iLXNjYW1zLXN1cmdlZC0xMThwZXJjZW50LWluLTIwMjMtYWlkZWQtYnktYWktaGVyZXMtaG93LXRvLXN0b3AtdGhlbS5odG1s)\n",
      "2024-07-07 18:14:48,285 - AInewsbot - INFO - [61. Cloudflare launches a tool to combat AI bots - Feedly AI](https://techcrunch.com/2024/07/03/cloudflare-launches-a-tool-to-combat-ai-bots)\n",
      "2024-07-07 18:14:48,285 - AInewsbot - INFO - [62. Computer love: AI-powered chatbots are changing how we understand romantic and sexual well-being - Feedly AI](https://theconversation.com/computer-love-ai-powered-chatbots-are-changing-how-we-understand-romantic-and-sexual-well-being-234054)\n",
      "2024-07-07 18:14:48,285 - AInewsbot - INFO - [63. Real criminals, fake victims: how chatbots are being deployed in the global fight against phone scammers - Reddit](https://www.reddit.com/r/technology/comments/1dxhln5/real_criminals_fake_victims_how_chatbots_are/)\n",
      "2024-07-07 18:14:48,286 - AInewsbot - INFO - [64. AI Creates A 1950s The Fifth Element Movie Trailer & It's Freaky - Feedly AI](https://www.looper.com/1613987/ai-1950s-the-fifth-element-movie-trailer-freaky/)\n",
      "2024-07-07 18:14:48,286 - AInewsbot - INFO - [65. AI turns Family Guy into a 1980s live action sitcom and the results are freaky - Feedly AI](https://www.unilad.com/film-and-tv/news/family-guy-live-action-ai-831421-20240705)\n",
      "2024-07-07 18:14:48,286 - AInewsbot - INFO - [66. next level image gen, i can see why artists are going out of business - Reddit](https://www.reddit.com/r/ChatGPT/comments/1dxf72r/next_level_image_gen_i_can_see_why_artists_are/)\n",
      "2024-07-07 18:14:48,286 - AInewsbot - INFO - [67. Trend Of Hurkle-Durkling In Bed Gets Boosted To High Form Via Modern Generative AI - Feedly AI](https://www.forbes.com/sites/lanceeliot/2024/07/07/trend-of-hurkle-durkling-in-bed-gets-boosted-to-high-form-via-modern-generative-ai/)\n",
      "2024-07-07 18:14:48,286 - AInewsbot - INFO - [68. Fashion Gets a Generative AI Makeover - Feedly AI](https://analyticsindiamag.com/fashion-gets-a-generative-ai-makeover/)\n",
      "2024-07-07 18:14:48,286 - AInewsbot - INFO - [69. Metas new AI model can turn text into 3D images in under a minute - Feedly AI](https://www.digitaltrends.com/computing/meta-3d-gen-ai-retexture/)\n",
      "2024-07-07 18:14:48,286 - AInewsbot - INFO - [70. German court allows patents for AI-generated inventions - Feedly AI](https://www.surrey.ac.uk/news/german-court-allows-patents-ai-generated-inventions)\n",
      "2024-07-07 18:14:48,287 - AInewsbot - INFO - [71. Does Generative AI Violate the Rights of Authors and Artists? - HackerNoon](https://hackernoon.com/does-generative-ai-violate-the-rights-of-authors-and-artists)\n",
      "2024-07-07 18:14:48,287 - AInewsbot - INFO - [72. Is the First Generative AI Camera on the Horizon? - Google News](https://news.google.com/articles/CBMiR2h0dHBzOi8vd3d3LmNpbmVkLmNvbS9pcy10aGUtZmlyc3QtZ2VuZXJhdGl2ZS1haS1jYW1lcmEtb24tdGhlLWhvcml6b24v0gEA)\n",
      "2024-07-07 18:14:48,287 - AInewsbot - INFO - [73. OpenAI-Powered Humanoid Robot Fills Spot At BMW Assembly Plant - Feedly AI](https://www.forbes.com/sites/chriswestfall/2024/07/07/openai-powered-humanoid-robot-fills-spot-at-bmw-assembly-plant/)\n",
      "2024-07-07 18:14:48,287 - AInewsbot - INFO - [74. Figure 01: Coffee-making humanoid robot now shows car assembly skill at BMW - Google News](https://news.google.com/articles/CBMicGh0dHBzOi8vYmxvZy5hZGFmcnVpdC5jb20vMjAyNC8wNy8wNi9maWd1cmUtMDEtY29mZmVlLW1ha2luZy1odW1hbm9pZC1yb2JvdC1ub3ctc2hvd3MtY2FyLWFzc2VtYmx5LXNraWxsLWF0LWJtdy_SAQA)\n",
      "2024-07-07 18:14:48,287 - AInewsbot - INFO - [75. Video: Figure 01 humanoid trains for its first job assembling BMWs - Google News](https://news.google.com/articles/CBMiMmh0dHBzOi8vbmV3YXRsYXMuY29tL3JvYm90aWNzL2ZpZ3VyZS1odW1hbm9pZC1ibXcv0gEA)\n",
      "2024-07-07 18:14:48,287 - AInewsbot - INFO - [76. Watch: Figure's 01 humanoids now working at BMW's car plant in US - Google News](https://news.google.com/articles/CBMiXmh0dHBzOi8vaW50ZXJlc3RpbmdlbmdpbmVlcmluZy5jb20vaW5ub3ZhdGlvbi91cy1maWd1cmUtaHVtYW5vaWQtc3RhcnQtb3BlcmF0aW9ucy1hdC1ibXctcGxhbnTSAQA)\n",
      "2024-07-07 18:14:48,288 - AInewsbot - INFO - [77. Official PyTorch Documentary Revisits Its Past, and Its Future - Hacker News 2](https://thenewstack.io/official-pytorch-documentary-revisits-its-past-and-its-future/)\n",
      "2024-07-07 18:14:48,288 - AInewsbot - INFO - [78. Perseverance Triumphs: How SHERLOC Was Brought Back to Life on Mars - Reddit](https://www.reddit.com/r/technology/comments/1dx7p3r/perseverance_triumphs_how_sherloc_was_brought/)\n",
      "2024-07-07 18:14:48,288 - AInewsbot - INFO - [79. 400 robotic surgeries, 98% survival rate: Saudi hospital achieves milestone - Reddit](https://www.reddit.com/r/tech/comments/1dxeodw/400_robotic_surgeries_98_survival_rate_saudi/)\n",
      "2024-07-07 18:14:48,288 - AInewsbot - INFO - [80. Press Release: A 2D device for quantum cooling:EPFL engineers have created a device that can efficiently convert heat into electrical voltage at temperatures lower than that of outer space. The innovation could help overcome a significant obstacle to the adva - Google News](https://news.google.com/articles/CBMiNGh0dHBzOi8vd3d3Lm5hbm90ZWNoLW5vdy5jb20vbmV3cy5jZ2k_c3RvcnlfaWQ9NTc0OTfSAQA)\n",
      "2024-07-07 18:14:48,288 - AInewsbot - INFO - [81. Step aside Futurama, scientist build robot that's controlled by a brain in a jar - Reddit](https://www.reddit.com/r/tech/comments/1dxf0nq/step_aside_futurama_scientist_build_robot_thats/)\n",
      "2024-07-07 18:14:48,288 - AInewsbot - INFO - [82. Policy Learning with Large World Models: Advancing Multi-Task Reinforcement Learning Efficiency and Performance - Feedly AI](https://www.marktechpost.com/2024/07/07/policy-learning-with-large-world-models-advancing-multi-task-reinforcement-learning-efficiency-and-performance/)\n",
      "2024-07-07 18:14:48,288 - AInewsbot - INFO - [83. InternLM2.5-7B-Chat: Open Sourcing Large Language Models with Unmatched Reasoning, Long-Context Handling, and Enhanced Tool Use - Feedly AI](https://www.marktechpost.com/2024/07/07/internlm2-5-7b-chat-open-sourcing-large-language-models-with-unmatched-reasoning-long-context-handling-and-enhanced-tool-use/)\n",
      "2024-07-07 18:14:48,289 - AInewsbot - INFO - [84. Reasoning in Large Language Models: A Geometric Perspective - Hacker News](https://arxiv.org/abs/2407.02678)\n",
      "2024-07-07 18:14:48,289 - AInewsbot - INFO - [85. Workplace harrasment diagram by chatGPT - Reddit](https://www.reddit.com/r/ChatGPT/comments/1dxd1yg/workplace_harrasment_diagram_by_chatgpt/)\n"
     ]
    },
    {
     "name": "stderr",
     "output_type": "stream",
     "text": [
      "2024-07-07 18:14:48,289 - AInewsbot - INFO - [86. OpenAI's ChatGPT Mac App Was Saving Chats as Plain Text - Feedly AI](https://www.pcmag.com/news/openais-chatgpt-mac-app-was-saving-chats-as-plain-text)\n",
      "2024-07-07 18:14:48,289 - AInewsbot - INFO - [87. How ChatGPT is Revolutionizing Customer Service in 2024 - Feedly AI](https://www.marktechpost.com/2024/07/07/how-chatgpt-is-revolutionizing-customer-service-in-2024/)\n",
      "2024-07-07 18:14:48,289 - AInewsbot - INFO - [88. What are some creative or unexpected uses of ChatGPT youve discovered? - Reddit](https://www.reddit.com/r/ChatGPT/comments/1dxexjh/what_are_some_creative_or_unexpected_uses_of/)\n",
      "2024-07-07 18:14:48,289 - AInewsbot - INFO - [89. GPT-4o vs Gemini 1.5 Pro vs Claude 3.5 Sonnet. Only Claude calls astrology bullshit right away - Reddit](https://www.reddit.com/r/ChatGPT/comments/1dxmm0u/gpt4o_vs_gemini_15_pro_vs_claude_35_sonnet_only/)\n",
      "2024-07-07 18:14:48,290 - AInewsbot - INFO - [90. I learned how to use AI generative prompts with this one app - Feedly AI](https://www.techradar.com/computing/websites-apps/i-learned-how-to-use-ai-generative-prompts-with-this-one-app)\n",
      "2024-07-07 18:14:48,290 - AInewsbot - INFO - [91. Mitigating AI bias with prompt engineering  putting GPT to the test - Google News](https://news.google.com/articles/CBMiXmh0dHBzOi8vdmVudHVyZWJlYXQuY29tL2FpL21pdGlnYXRpbmctYWktYmlhcy13aXRoLXByb21wdC1lbmdpbmVlcmluZy1wdXR0aW5nLWdwdC10by10aGUtdGVzdC_SAQA)\n",
      "2024-07-07 18:14:48,290 - AInewsbot - INFO - [92. Samsung Galaxy AI could soon offer real-time translations in WhatsApp - Feedly AI](https://www.techradar.com/phones/samsung-galaxy-phones/samsung-galaxy-ai-could-soon-offer-real-time-translations-in-whatsapp)\n",
      "2024-07-07 18:14:48,290 - AInewsbot - INFO - [93. Meta AI may get more collaborative in WhatsApp for Android. - Feedly AI](https://www.theverge.com/2024/7/7/24193680/meta-ai-may-get-more-collaborative-in-whatsapp-for-android)\n",
      "2024-07-07 18:14:48,290 - AInewsbot - INFO - [94. WhatsApp's new feature will let Meta AI edit your photos for you - Feedly AI](https://www.androidauthority.com/whatsapp-meta-ai-update-3457975/)\n",
      "2024-07-07 18:14:48,290 - AInewsbot - INFO - [95. New cyberattack targets iPhone and Apple IDs  Heres how to stay safe - Google News](https://news.google.com/articles/CBMiX2h0dHBzOi8vY3liZXJndXkuY29tL3NjYW1zL25ldy1jeWJlcmF0dGFjay10YXJnZXRzLWlwaG9uZS1hbmQtYXBwbGUtaWRzLWhlcmVzLWhvdy10by1zdGF5LXNhZmUv0gFjaHR0cHM6Ly9jeWJlcmd1eS5jb20vc2NhbXMvbmV3LWN5YmVyYXR0YWNrLXRhcmdldHMtaXBob25lLWFuZC1hcHBsZS1pZHMtaGVyZXMtaG93LXRvLXN0YXktc2FmZS9hbXAv)\n",
      "2024-07-07 18:14:48,290 - AInewsbot - INFO - [96. Apple's AI Shift, Board Observer Role At OpenAI, Extended iPhone Settlement Deadline, And AI Partnership With Google: This Week In Appleverse - Alphabet (NASDAQ:GOOG), Apple (NASDAQ:AAPL) - Google News](https://news.google.com/articles/CBMikQFodHRwczovL3d3dy5iZW56aW5nYS5jb20vbmV3cy8yNC8wNy8zOTY1NjI2OS9hcHBsZXMtYWktc2hpZnQtYm9hcmQtb2JzZXJ2ZXItcm9sZS1hdC1vcGVuYWktZXh0ZW5kZWQtaXBob25lLXNldHRsZW1lbnQtZGVhZGxpbmUtYW5kLWFpLXBhcnRuZXJzaGlw0gEA)\n",
      "2024-07-07 18:14:48,291 - AInewsbot - INFO - [97. Android Circuit: Galaxy Z Fold6 Details, Google AI Secrets, Pixel 9 Pro Specs - Google News](https://news.google.com/articles/CBMigAFodHRwczovL3d3dy5mb3JiZXMuY29tL3NpdGVzL2V3YW5zcGVuY2UvMjAyNC8wNy8wNS9hbmRyb2lkLW5ld3MtaGVhZGxpbmVzLXBpeGVsLTktcHJvLWdhbGF4eS16LWZvbGQ2LWh1YXdlaS1taXgtZm9sZDQtZ29vZ2xlLWFpL9IBAA)\n",
      "2024-07-07 18:14:48,291 - AInewsbot - INFO - [98. Apple Loop: iPhone 16 Pro Specs, Apple Watch 10 Design Leaks, Paying For Apple's AI - Google News](https://news.google.com/articles/CBMiiAFodHRwczovL3d3dy5mb3JiZXMuY29tL3NpdGVzL2V3YW5zcGVuY2UvMjAyNC8wNy8wNy9hcHBsZS1uZXdzLWhlYWRsaW5lcy1pcGhvbmUtMTYtcHJvLWExNy1hcHBsZS13YXRjaC1pcGhvbmUtYmF0dGVyeS1yZXBsYWNlbWVudC1haS1yY3Mv0gEA)\n",
      "2024-07-07 18:14:48,291 - AInewsbot - INFO - [99. Apple Intelligence and a better Siri may be coming to iPhones this spring - Feedly AI](https://www.theverge.com/2024/7/7/24193619/apple-intelligence-better-siri-ios-18-4-spring-public-launch)\n",
      "2024-07-07 18:14:48,292 - AInewsbot - INFO - [100. I thought small phones were dead, but I want AI to bring them back - Google News](https://news.google.com/articles/CBMiQGh0dHBzOi8vd3d3LmFuZHJvaWRhdXRob3JpdHkuY29tL3NtYWxsLXBob25lcy1haS1yZXR1cm4tMzQ1NjcyNS_SAQA)\n",
      "2024-07-07 18:14:48,292 - AInewsbot - INFO - [101. Police pulled over a Waymo car for driving in the oncoming lane - The Verge](https://www.theverge.com/2024/7/6/24193094/phoenix-waymo-car-pulled-over-traffic-stop-oncoming-lane-police)\n",
      "2024-07-07 18:14:48,293 - AInewsbot - INFO - [102. Don't Worry: Copilot+ PCs Don't Make Your Windows 11 System Obsolete - Feedly AI](https://www.makeuseof.com/worry-copilot-pc-old-windows-11-system-obsolete/)\n",
      "2024-07-07 18:14:48,293 - AInewsbot - INFO - [103. I spent a day using Copilot+ on the HP EliteBook Ultra, and it drove me crazy - Feedly AI](https://www.laptopmag.com/laptops/i-spent-a-day-using-copilot-on-the-hp-elitebook-ultra-and-it-drove-me-crazy)\n",
      "2024-07-07 18:14:48,294 - AInewsbot - INFO - [104. A friendly guide to containerization for AI work - Feedly AI](https://go.theregister.com/feed/www.theregister.com/2024/07/07/containerize_ai_apps/)\n",
      "2024-07-07 18:14:48,294 - AInewsbot - INFO - [105. A friendly guide to containerization for AI workHands onSave the headaches, ship your dependenciesAI + ML6 hrs|1 - The Register](https://www.theregister.com/2024/07/07/containerize_ai_apps/)\n",
      "2024-07-07 18:14:48,294 - AInewsbot - INFO - [106. Show HN: Workspaice:  Human+AI, Creating Together - Hacker News 2](https://www.nunodonato.com/workspaice-humanai-creating-together/)\n",
      "2024-07-07 18:14:48,295 - AInewsbot - INFO - [107. James Muldoon, Mark Graham and Callum Cant: AI feeds off the work of human beings - Reddit](https://www.reddit.com/r/technology/comments/1dxij9l/james_muldoon_mark_graham_and_callum_cant_ai/)\n",
      "2024-07-07 18:14:48,295 - AInewsbot - INFO - [108. Meet Mercy and Anita  the African workers driving the AI revolution, for just over a dollar an hour - Reddit](https://www.reddit.com/r/technology/comments/1dx9xkt/meet_mercy_and_anita_the_african_workers_driving/)\n",
      "2024-07-07 18:14:48,295 - AInewsbot - INFO - [109. Figma disables AI-powered 'Make Design' feature after Weather app rip-off - Feedly AI](https://appleinsider.com/articles/24/07/07/figma-disables-ai-powered-make-design-feature-after-weather-app-rip-off)\n",
      "2024-07-07 18:14:48,296 - AInewsbot - INFO - [110. Microsoft's AI CEO: Web Content (Without a Robots.txt File) is 'Freeware' for AI Training - Google News](https://news.google.com/articles/CBMifmh0dHBzOi8vc2xhc2hkb3Qub3JnL3N0b3J5LzI0LzA3LzA3LzAwNTQyMjAvbWljcm9zb2Z0cy1haS1jZW8td2ViLWNvbnRlbnQtd2l0aG91dC1hLXJvYm90c3R4dC1maWxlLWlzLWZyZWV3YXJlLWZvci1haS10cmFpbmluZ9IBAA)\n",
      "2024-07-07 18:14:48,297 - AInewsbot - INFO - [111. Microsofts climbdown over its creepy Recall feature shows its AI strategy is far from intelligent | The tech companys new Windows machines can take constant screenshots of users every action  quelle surprise, its a privacy minefield - Reddit](https://www.reddit.com/r/technology/comments/1dxilwo/microsofts_climbdown_over_its_creepy_recall/)\n"
     ]
    }
   ],
   "source": [
    "html_str = \"\"\n",
    "for row in AIdf.itertuples():\n",
    "    log(f\"[{row.Index}. {row.title} - {row.src}]({row.url})\")\n",
    "    html_str += f'{row.Index}.<a href=\"{row.url}\">{row.title} - {row.src}</a><br />\\n'\n"
   ]
  },
  {
   "cell_type": "code",
   "execution_count": 28,
   "id": "4c6d4e9f",
   "metadata": {},
   "outputs": [],
   "source": [
    "# save headlines\n",
    "with open('headlines.html', 'w') as f:\n",
    "    f.write(html_str)\n"
   ]
  },
  {
   "cell_type": "code",
   "execution_count": 29,
   "id": "25c7617b",
   "metadata": {},
   "outputs": [
    {
     "name": "stderr",
     "output_type": "stream",
     "text": [
      "2024-07-07 18:14:53,062 - AInewsbot - INFO - Sending headlines email\n"
     ]
    }
   ],
   "source": [
    "# send mail\n",
    "log(\"Sending headlines email\")\n",
    "subject = f'AI headlines {datetime.now().strftime(\"%H:%M:%S\")}'\n",
    "send_gmail(subject, html_str)\n"
   ]
  },
  {
   "cell_type": "markdown",
   "id": "1ff0768a",
   "metadata": {},
   "source": [
    "# Save individual pages "
   ]
  },
  {
   "cell_type": "code",
   "execution_count": 30,
   "id": "9583fd28",
   "metadata": {},
   "outputs": [
    {
     "name": "stderr",
     "output_type": "stream",
     "text": [
      "2024-07-07 18:14:56,822 - AInewsbot - INFO - Queuing URLs for scraping\n"
     ]
    }
   ],
   "source": [
    "# fetch pages\n",
    "# Create a queue for multiprocessing and populate it \n",
    "log(\"Queuing URLs for scraping\")\n",
    "\n",
    "queue = multiprocessing.Queue()\n",
    "for row in AIdf.itertuples():\n",
    "    queue.put((row.id, row.url, row.title))\n",
    "    "
   ]
  },
  {
   "cell_type": "code",
   "execution_count": 31,
   "id": "fe930e25",
   "metadata": {},
   "outputs": [
    {
     "name": "stderr",
     "output_type": "stream",
     "text": [
      "2024-07-07 18:15:01,961 - AInewsbot - INFO - fetching 112 pages using 4 browsers\n",
      "2024-07-07 18:15:01,964 - AInewsbot - INFO - get_driver - 78414 Initializing webdriver\n",
      "2024-07-07 18:15:01,965 - AInewsbot - INFO - get_driver - 78414 Initializing webdriver\n",
      "2024-07-07 18:15:01,965 - AInewsbot - INFO - get_driver - 78414 Initializing webdriver\n",
      "2024-07-07 18:15:01,965 - AInewsbot - INFO - get_driver - 78414 Initializing webdriver\n",
      "2024-07-07 18:15:22,159 - AInewsbot - INFO - get_driver - Initialized webdriver profile\n",
      "2024-07-07 18:15:22,159 - AInewsbot - INFO - get_driver - Initialized webdriver profile\n",
      "2024-07-07 18:15:22,159 - AInewsbot - INFO - get_driver - Initialized webdriver profile\n",
      "2024-07-07 18:15:22,160 - AInewsbot - INFO - get_driver - Initialized webdriver profile\n",
      "2024-07-07 18:15:22,160 - AInewsbot - INFO - get_driver - Initialized webdriver service\n",
      "2024-07-07 18:15:22,160 - AInewsbot - INFO - get_driver - Initialized webdriver service\n",
      "2024-07-07 18:15:22,161 - AInewsbot - INFO - get_driver - Initialized webdriver service\n",
      "2024-07-07 18:15:22,161 - AInewsbot - INFO - get_driver - Initialized webdriver service\n",
      "2024-07-07 18:16:29,657 - AInewsbot - INFO - get_driver - Initialized webdriver\n",
      "2024-07-07 18:16:29,717 - AInewsbot - INFO - Processing https://www.investing.com/news/stock-market-news/5-big-analyst-ai-moves-nvidia-downgraded-on-limited-further-upside-3509545\n",
      "2024-07-07 18:16:29,719 - AInewsbot - INFO - get_url(https://www.investing.com/news/stock-market-news/5-big-analyst-ai-moves-nvidia-downgraded-on-limited-further-upside-3509545) - starting get_files https://www.investing.com/news/stock-market-news/5-big-analyst-ai-moves-nvidia-downgraded-on-limited-further-upside-3509545\n",
      "2024-07-07 18:16:29,741 - AInewsbot - INFO - get_driver - Initialized webdriver\n",
      "2024-07-07 18:16:29,765 - AInewsbot - INFO - Processing https://au.investing.com/news/stock-market-news/two-risks-to-the-ai-tech-rally-432SI-3330078\n",
      "2024-07-07 18:16:29,767 - AInewsbot - INFO - get_url(https://au.investing.com/news/stock-market-news/two-risks-to-the-ai-tech-rally-432SI-3330078) - starting get_files https://au.investing.com/news/stock-market-news/two-risks-to-the-ai-tech-rally-432SI-3330078\n",
      "2024-07-07 18:16:31,069 - AInewsbot - INFO - get_driver - Initialized webdriver\n",
      "2024-07-07 18:16:31,077 - AInewsbot - INFO - Processing https://news.google.com/articles/CBMiW2h0dHBzOi8vd3d3LmZvb2wuY29tL2ludmVzdGluZy8yMDI0LzA3LzA3LzQ1LXdhcnJlbi1idWZmZXR0cy0zOTgtYmlsbGlvbi1pcy1pbi0zLWFpLXN0b2Nrcy_SAQA\n",
      "2024-07-07 18:16:31,078 - AInewsbot - INFO - get_url(https://news.google.com/articles/CBMiW2h0dHBzOi8vd3d3LmZvb2wuY29tL2ludmVzdGluZy8yMDI0LzA3LzA3LzQ1LXdhcnJlbi1idWZmZXR0cy0zOTgtYmlsbGlvbi1pcy1pbi0zLWFpLXN0b2Nrcy_SAQA) - starting get_files https://news.google.com/articles/CBMiW2h0dHBzOi8vd3d3LmZvb2wuY29tL2ludmVzdGluZy8yMDI0LzA3LzA3LzQ1LXdhcnJlbi1idWZmZXR0cy0zOTgtYmlsbGlvbi1pcy1pbi0zLWFpLXN0b2Nrcy_SAQA\n",
      "2024-07-07 18:16:32,072 - AInewsbot - INFO - get_driver - Initialized webdriver\n",
      "2024-07-07 18:16:32,081 - AInewsbot - INFO - Processing https://news.google.com/articles/CBMiV2h0dHBzOi8vc2Vla2luZ2FscGhhLmNvbS9hcnRpY2xlLzQ3MDE4MDEtYnJvYWRjb20tYW4tZXNzZW50aWFsLWNvbXBhbnktZm9yLWFpLWludmVzdG9yc9IBAA\n",
      "2024-07-07 18:16:32,082 - AInewsbot - INFO - get_url(https://news.google.com/articles/CBMiV2h0dHBzOi8vc2Vla2luZ2FscGhhLmNvbS9hcnRpY2xlLzQ3MDE4MDEtYnJvYWRjb20tYW4tZXNzZW50aWFsLWNvbXBhbnktZm9yLWFpLWludmVzdG9yc9IBAA) - starting get_files https://news.google.com/articles/CBMiV2h0dHBzOi8vc2Vla2luZ2FscGhhLmNvbS9hcnRpY2xlLzQ3MDE4MDEtYnJvYWRjb20tYW4tZXNzZW50aWFsLWNvbXBhbnktZm9yLWFpLWludmVzdG9yc9IBAA\n",
      "2024-07-07 18:16:44,124 - AInewsbot - INFO - get_url(5 big analyst AI moves: Nvidia downgraded on limited further upside) - Saving 5_big_analyst_AI_moves__Nvidia_downgraded_on_limited_further_upside_20240707_181644.html as utf-8\n",
      "2024-07-07 18:16:44,128 - AInewsbot - INFO - Processing https://news.google.com/articles/CBMiTGh0dHBzOi8vZmluYW5jZS55YWhvby5jb20vbmV3cy9hZHZhbmNlZC1taWNyby1kZXZpY2VzLWluYy1hbWQtMDI1NjM1ODE4Lmh0bWzSAQA\n",
      "2024-07-07 18:16:44,129 - AInewsbot - INFO - get_url(https://news.google.com/articles/CBMiTGh0dHBzOi8vZmluYW5jZS55YWhvby5jb20vbmV3cy9hZHZhbmNlZC1taWNyby1kZXZpY2VzLWluYy1hbWQtMDI1NjM1ODE4Lmh0bWzSAQA) - starting get_files https://news.google.com/articles/CBMiTGh0dHBzOi8vZmluYW5jZS55YWhvby5jb20vbmV3cy9hZHZhbmNlZC1taWNyby1kZXZpY2VzLWluYy1hbWQtMDI1NjM1ODE4Lmh0bWzSAQA\n",
      "2024-07-07 18:16:45,044 - AInewsbot - INFO - get_url(Two risks to the AI tech rally) - Saving Two_risks_to_the_AI_tech_rally_20240707_181645.html as utf-8\n",
      "2024-07-07 18:16:45,047 - AInewsbot - INFO - Processing https://news.google.com/articles/CBMiXWh0dHBzOi8vd3d3LmZvb2wuY29tL2ludmVzdGluZy8yMDI0LzA3LzAyL2JldHRlci1hcnRpZmljaWFsLWludGVsbGlnZW5jZS1zdG9jay1udmlkaWEtdnMtYW1kL9IBAA\n",
      "2024-07-07 18:16:45,047 - AInewsbot - INFO - get_url(https://news.google.com/articles/CBMiXWh0dHBzOi8vd3d3LmZvb2wuY29tL2ludmVzdGluZy8yMDI0LzA3LzAyL2JldHRlci1hcnRpZmljaWFsLWludGVsbGlnZW5jZS1zdG9jay1udmlkaWEtdnMtYW1kL9IBAA) - starting get_files https://news.google.com/articles/CBMiXWh0dHBzOi8vd3d3LmZvb2wuY29tL2ludmVzdGluZy8yMDI0LzA3LzAyL2JldHRlci1hcnRpZmljaWFsLWludGVsbGlnZW5jZS1zdG9jay1udmlkaWEtdnMtYW1kL9IBAA\n",
      "2024-07-07 18:16:45,453 - AInewsbot - INFO - get_url(45% of Warren Buffett's $398 Billion Portfolio Is Invested in 3 Artificial Intelligence (AI) Stocks) - Saving 45__of_Warren_Buffett_s__398_Billion_Portfolio_Is_Invested_in_3_Artificial_Intelligence__AI__Stocks_20240707_181645.html as utf-8\n",
      "2024-07-07 18:16:45,456 - AInewsbot - INFO - Processing https://news.google.com/articles/CBMiXWh0dHBzOi8vd3d3LmZvb2wuY29tL2ludmVzdGluZy8yMDI0LzA3LzA0L2FwcGxlcy1uZXctYXJ0aWZpY2lhbC1pbnRlbGxpZ2VuY2UtYWktZmVhdHVyZXMtY291L9IBAA\n",
      "2024-07-07 18:16:45,464 - AInewsbot - INFO - get_url(https://news.google.com/articles/CBMiXWh0dHBzOi8vd3d3LmZvb2wuY29tL2ludmVzdGluZy8yMDI0LzA3LzA0L2FwcGxlcy1uZXctYXJ0aWZpY2lhbC1pbnRlbGxpZ2VuY2UtYWktZmVhdHVyZXMtY291L9IBAA) - starting get_files https://news.google.com/articles/CBMiXWh0dHBzOi8vd3d3LmZvb2wuY29tL2ludmVzdGluZy8yMDI0LzA3LzA0L2FwcGxlcy1uZXctYXJ0aWZpY2lhbC1pbnRlbGxpZ2VuY2UtYWktZmVhdHVyZXMtY291L9IBAA\n",
      "2024-07-07 18:16:46,276 - AInewsbot - INFO - get_url(Broadcom: An Essential Company For AI Investors (NASDAQ:AVGO)) - Saving Broadcom__An_Essential_Company_For_AI_Investors__NASDAQ_AVGO__20240707_181646.html as utf-8\n",
      "2024-07-07 18:16:46,283 - AInewsbot - INFO - Processing https://247wallst.com/technology-3/2024/07/07/could-asml-be-the-next-major-ai-stock-to-split-its-shares/\n",
      "2024-07-07 18:16:46,286 - AInewsbot - INFO - get_url(https://247wallst.com/technology-3/2024/07/07/could-asml-be-the-next-major-ai-stock-to-split-its-shares/) - starting get_files https://247wallst.com/technology-3/2024/07/07/could-asml-be-the-next-major-ai-stock-to-split-its-shares/\n",
      "2024-07-07 18:16:56,582 - AInewsbot - INFO - get_url(Advanced Micro Devices, Inc. (AMD): Hedge Funds Are Bullish On This AI Stock Right Now) - Saving Advanced_Micro_Devices__Inc___AMD___Hedge_Funds_Are_Bullish_On_This_AI_Stock_Right_Now_20240707_181656.html as utf-8\n",
      "2024-07-07 18:16:56,585 - AInewsbot - INFO - Processing https://www.barrons.com/articles/ai-stocks-salesforce-uber-buy-8aea0217\n",
      "2024-07-07 18:16:56,585 - AInewsbot - INFO - get_url(https://www.barrons.com/articles/ai-stocks-salesforce-uber-buy-8aea0217) - starting get_files https://www.barrons.com/articles/ai-stocks-salesforce-uber-buy-8aea0217\n",
      "2024-07-07 18:16:56,595 - AInewsbot - INFO - get_url(Apple's New Artificial Intelligence (AI) Features Could Push This Semiconductor Company to a $1 Trillion Valuation) - Saving Apple_s_New_Artificial_Intelligence__AI__Features_Could_Push_This_Semiconductor_Company_to_a__1_Trillion_Valuation_20240707_181656.html as utf-8\n",
      "2024-07-07 18:16:56,599 - AInewsbot - INFO - Processing https://news.google.com/articles/CBMiXWh0dHBzOi8vd3d3LmZvb2wuY29tL2ludmVzdGluZy8yMDI0LzA3LzA0L2ZvcmdldC1udmlkaWEtdGhpcy1zdG9jay1zcGxpdC1haS1zdG9jay1jb3VsZC1iZS1hL9IBAA\n",
      "2024-07-07 18:16:56,600 - AInewsbot - INFO - get_url(https://news.google.com/articles/CBMiXWh0dHBzOi8vd3d3LmZvb2wuY29tL2ludmVzdGluZy8yMDI0LzA3LzA0L2ZvcmdldC1udmlkaWEtdGhpcy1zdG9jay1zcGxpdC1haS1zdG9jay1jb3VsZC1iZS1hL9IBAA) - starting get_files https://news.google.com/articles/CBMiXWh0dHBzOi8vd3d3LmZvb2wuY29tL2ludmVzdGluZy8yMDI0LzA3LzA0L2ZvcmdldC1udmlkaWEtdGhpcy1zdG9jay1zcGxpdC1haS1zdG9jay1jb3VsZC1iZS1hL9IBAA\n"
     ]
    },
    {
     "name": "stderr",
     "output_type": "stream",
     "text": [
      "2024-07-07 18:16:58,551 - AInewsbot - INFO - get_url(Could ASML Be The Next Major AI Stock to Split Its Shares?) - Saving Could_ASML_Be_The_Next_Major_AI_Stock_to_Split_Its_Shares__20240707_181658.html as utf-8\n",
      "2024-07-07 18:16:58,552 - AInewsbot - INFO - Processing https://www.fool.com/investing/2024/07/07/generative-ai-soar-2040-best-ai-stock-buy-now-nvda/\n",
      "2024-07-07 18:16:58,552 - AInewsbot - INFO - get_url(https://www.fool.com/investing/2024/07/07/generative-ai-soar-2040-best-ai-stock-buy-now-nvda/) - starting get_files https://www.fool.com/investing/2024/07/07/generative-ai-soar-2040-best-ai-stock-buy-now-nvda/\n",
      "2024-07-07 18:16:59,556 - AInewsbot - INFO - get_url(Better Artificial Intelligence (AI) Stock: Nvidia vs. AMD) - Saving Better_Artificial_Intelligence__AI__Stock__Nvidia_vs__AMD_20240707_181659.html as utf-8\n",
      "2024-07-07 18:16:59,558 - AInewsbot - INFO - Processing https://finbold.com/netflix-vs-disney-we-asked-chatgpt-4o-which-stock-is-a-better-buy-for-2024/\n",
      "2024-07-07 18:16:59,558 - AInewsbot - INFO - get_url(https://finbold.com/netflix-vs-disney-we-asked-chatgpt-4o-which-stock-is-a-better-buy-for-2024/) - starting get_files https://finbold.com/netflix-vs-disney-we-asked-chatgpt-4o-which-stock-is-a-better-buy-for-2024/\n",
      "2024-07-07 18:17:06,999 - AInewsbot - INFO - get_url(Forget Nvidia: This Stock-Split AI Stock Could Be a Better Buy) - Saving Forget_Nvidia__This_Stock-Split_AI_Stock_Could_Be_a_Better_Buy_20240707_181706.html as utf-8\n",
      "2024-07-07 18:17:07,002 - AInewsbot - INFO - Processing https://news.google.com/articles/CBMiXWh0dHBzOi8vd3d3LmZvb2wuY29tL2ludmVzdGluZy8yMDI0LzA3LzA3LzEtcGhlbm9tZW5hbC1zdG9jay10aGF0LWNvdWxkLWpvaW4tbWljcm9zb2Z0LWFwcGxlL9IBAA\n",
      "2024-07-07 18:17:07,003 - AInewsbot - INFO - get_url(https://news.google.com/articles/CBMiXWh0dHBzOi8vd3d3LmZvb2wuY29tL2ludmVzdGluZy8yMDI0LzA3LzA3LzEtcGhlbm9tZW5hbC1zdG9jay10aGF0LWNvdWxkLWpvaW4tbWljcm9zb2Z0LWFwcGxlL9IBAA) - starting get_files https://news.google.com/articles/CBMiXWh0dHBzOi8vd3d3LmZvb2wuY29tL2ludmVzdGluZy8yMDI0LzA3LzA3LzEtcGhlbm9tZW5hbC1zdG9jay10aGF0LWNvdWxkLWpvaW4tbWljcm9zb2Z0LWFwcGxlL9IBAA\n",
      "2024-07-07 18:17:07,743 - AInewsbot - INFO - get_url(AI Stocks Keep Surging. Buy 2 That Havent.) - Saving AI_Stocks_Keep_Surging__Buy_2_That_Havent__20240707_181707.html as utf-8\n",
      "2024-07-07 18:17:07,744 - AInewsbot - INFO - Processing https://news.google.com/articles/CBMiXWh0dHBzOi8vaW52ZXN0b3JwbGFjZS5jb20vMjAyNC8wNy8zLXJhcGlkbHktcmlzaW5nLWNvbXBhbmllcy1zZXQtdG8tam9pbi10aGUtMS10cmlsbGlvbi1jbHViL9IBAA\n",
      "2024-07-07 18:17:07,745 - AInewsbot - INFO - get_url(https://news.google.com/articles/CBMiXWh0dHBzOi8vaW52ZXN0b3JwbGFjZS5jb20vMjAyNC8wNy8zLXJhcGlkbHktcmlzaW5nLWNvbXBhbmllcy1zZXQtdG8tam9pbi10aGUtMS10cmlsbGlvbi1jbHViL9IBAA) - starting get_files https://news.google.com/articles/CBMiXWh0dHBzOi8vaW52ZXN0b3JwbGFjZS5jb20vMjAyNC8wNy8zLXJhcGlkbHktcmlzaW5nLWNvbXBhbmllcy1zZXQtdG8tam9pbi10aGUtMS10cmlsbGlvbi1jbHViL9IBAA\n",
      "2024-07-07 18:17:09,185 - AInewsbot - INFO - get_url(Generative AI Sales Could Soar 2,040%: My Pick for the Best AI Stock to Buy Now (Hint: Not Nvidia)) - Saving Generative_AI_Sales_Could_Soar_2_040___My_Pick_for_the_Best_AI_Stock_to_Buy_Now__Hint__Not_Nvidia__20240707_181709.html as utf-8\n",
      "2024-07-07 18:17:09,188 - AInewsbot - INFO - Processing https://www.404media.co/email/dd4acda7-3cf5-48a1-a940-8bdf0aede2b4/\n",
      "2024-07-07 18:17:09,189 - AInewsbot - INFO - get_url(https://www.404media.co/email/dd4acda7-3cf5-48a1-a940-8bdf0aede2b4/) - starting get_files https://www.404media.co/email/dd4acda7-3cf5-48a1-a940-8bdf0aede2b4/\n",
      "2024-07-07 18:17:10,279 - AInewsbot - INFO - get_url(Netflix vs. Disney? We asked ChatGPT-4o which stock is a better buy for 2024) - Saving Netflix_vs__Disney__We_asked_ChatGPT-4o_which_stock_is_a_better_buy_for_2024_20240707_181710.html as utf-8\n",
      "2024-07-07 18:17:10,281 - AInewsbot - INFO - Processing https://news.google.com/articles/CBMiZmh0dHBzOi8vd3d3Lm1hcmt0ZWNocG9zdC5jb20vMjAyNC8wNy8wNy90b3AtYXJ0aWZpY2lhbC1pbnRlbGxpZ2VuY2UtYWktc2VhcmNoLWVuZ2luZXMtdG8ta25vdy1pbi0yMDI0L9IBamh0dHBzOi8vd3d3Lm1hcmt0ZWNocG9zdC5jb20vMjAyNC8wNy8wNy90b3AtYXJ0aWZpY2lhbC1pbnRlbGxpZ2VuY2UtYWktc2VhcmNoLWVuZ2luZXMtdG8ta25vdy1pbi0yMDI0Lz9hbXA\n",
      "2024-07-07 18:17:10,282 - AInewsbot - INFO - get_url(https://news.google.com/articles/CBMiZmh0dHBzOi8vd3d3Lm1hcmt0ZWNocG9zdC5jb20vMjAyNC8wNy8wNy90b3AtYXJ0aWZpY2lhbC1pbnRlbGxpZ2VuY2UtYWktc2VhcmNoLWVuZ2luZXMtdG8ta25vdy1pbi0yMDI0L9IBamh0dHBzOi8vd3d3Lm1hcmt0ZWNocG9zdC5jb20vMjAyNC8wNy8wNy90b3AtYXJ0aWZpY2lhbC1pbnRlbGxpZ2VuY2UtYWktc2VhcmNoLWVuZ2luZXMtdG8ta25vdy1pbi0yMDI0Lz9hbXA) - starting get_files https://news.google.com/articles/CBMiZmh0dHBzOi8vd3d3Lm1hcmt0ZWNocG9zdC5jb20vMjAyNC8wNy8wNy90b3AtYXJ0aWZpY2lhbC1pbnRlbGxpZ2VuY2UtYWktc2VhcmNoLWVuZ2luZXMtdG8ta25vdy1pbi0yMDI0L9IBamh0dHBzOi8vd3d3Lm1hcmt0ZWNocG9zdC5jb20vMjAyNC8wNy8wNy90b3AtYXJ0aWZpY2lhbC1pbnRlbGxpZ2VuY2UtYWktc2VhcmNoLWVuZ2luZXMtdG8ta25vdy1pbi0yMDI0Lz9hbXA\n",
      "2024-07-07 18:17:17,323 - AInewsbot - INFO - get_url(1 Phenomenal Stock That Could Join Microsoft, Apple, Nvidia, Alphabet, Amazon, and Meta in the $1 Trillion Club) - Saving 1_Phenomenal_Stock_That_Could_Join_Microsoft__Apple__Nvidia__Alphabet__Amazon__and_Meta_in_the__1_Trillion_Club_20240707_181717.html as utf-8\n",
      "2024-07-07 18:17:17,324 - AInewsbot - INFO - Processing https://www.foxnews.com/tech/wild-new-way-search-anything-anywhere-googles-circle-search-ai-feature\n",
      "2024-07-07 18:17:17,324 - AInewsbot - INFO - get_url(https://www.foxnews.com/tech/wild-new-way-search-anything-anywhere-googles-circle-search-ai-feature) - starting get_files https://www.foxnews.com/tech/wild-new-way-search-anything-anywhere-googles-circle-search-ai-feature\n",
      "2024-07-07 18:17:18,083 - AInewsbot - INFO - get_url(3 Rapidly Rising Companies Set to Join the $1 Trillion Club) - Saving 3_Rapidly_Rising_Companies_Set_to_Join_the__1_Trillion_Club_20240707_181718.html as utf-8\n",
      "2024-07-07 18:17:18,085 - AInewsbot - INFO - Processing https://news.google.com/articles/CBMiTmh0dHBzOi8vd3d3LmNvdW50ZXJ2aWV3Lm5ldC8yMDI0LzA3L2Fpcy1wb3NpdGl2ZS1yb2xlLWR1cmluZy1pbmRpYW4tcG9sbHMuaHRtbNIBAA\n",
      "2024-07-07 18:17:18,085 - AInewsbot - INFO - get_url(https://news.google.com/articles/CBMiTmh0dHBzOi8vd3d3LmNvdW50ZXJ2aWV3Lm5ldC8yMDI0LzA3L2Fpcy1wb3NpdGl2ZS1yb2xlLWR1cmluZy1pbmRpYW4tcG9sbHMuaHRtbNIBAA) - starting get_files https://news.google.com/articles/CBMiTmh0dHBzOi8vd3d3LmNvdW50ZXJ2aWV3Lm5ldC8yMDI0LzA3L2Fpcy1wb3NpdGl2ZS1yb2xlLWR1cmluZy1pbmRpYW4tcG9sbHMuaHRtbNIBAA\n",
      "2024-07-07 18:17:19,918 - AInewsbot - INFO - get_url(Google Says AI Could Break Reality) - Saving Google_Says_AI_Could_Break_Reality_20240707_181719.html as utf-8\n",
      "2024-07-07 18:17:19,921 - AInewsbot - INFO - Processing https://news.google.com/articles/CBMiaGh0dHBzOi8vYWJjN2NoaWNhZ28uY29tL3Bvc3QvY2hpY2Fnby1jb3VsZC1hcnRpZmljaWFsLWludGVsbGlnZW5jZS1pbXBhY3QtMjAyNC1lbGVjdGlvbi12b3RlcnMvMTUwMzY5NTEv0gEA\n",
      "2024-07-07 18:17:19,927 - AInewsbot - INFO - get_url(https://news.google.com/articles/CBMiaGh0dHBzOi8vYWJjN2NoaWNhZ28uY29tL3Bvc3QvY2hpY2Fnby1jb3VsZC1hcnRpZmljaWFsLWludGVsbGlnZW5jZS1pbXBhY3QtMjAyNC1lbGVjdGlvbi12b3RlcnMvMTUwMzY5NTEv0gEA) - starting get_files https://news.google.com/articles/CBMiaGh0dHBzOi8vYWJjN2NoaWNhZ28uY29tL3Bvc3QvY2hpY2Fnby1jb3VsZC1hcnRpZmljaWFsLWludGVsbGlnZW5jZS1pbXBhY3QtMjAyNC1lbGVjdGlvbi12b3RlcnMvMTUwMzY5NTEv0gEA\n",
      "2024-07-07 18:17:20,689 - AInewsbot - INFO - get_url(Top Artificial Intelligence AI Search Engines to Know in 2024) - Saving Top_Artificial_Intelligence_AI_Search_Engines_to_Know_in_2024_20240707_181720.html as utf-8\n",
      "2024-07-07 18:17:20,690 - AInewsbot - INFO - Processing https://news.google.com/articles/CBMiigFodHRwczovL3d3dy53cW93LmNvbS9uZXdzL3dpc2NvbnNpbi9wcm9ncmFtLWxvb2tzLWF0LWFpcy1pbXBhY3Qtb24tcG9saXRpY3MtaW4tbGEtY3Jvc3NlL2FydGljbGVfMWI4OGMxZTgtZjIxYy01ODMwLWI4ODYtNDI5NDA4MjY1NjQ4Lmh0bWzSAQA\n",
      "2024-07-07 18:17:20,690 - AInewsbot - INFO - get_url(https://news.google.com/articles/CBMiigFodHRwczovL3d3dy53cW93LmNvbS9uZXdzL3dpc2NvbnNpbi9wcm9ncmFtLWxvb2tzLWF0LWFpcy1pbXBhY3Qtb24tcG9saXRpY3MtaW4tbGEtY3Jvc3NlL2FydGljbGVfMWI4OGMxZTgtZjIxYy01ODMwLWI4ODYtNDI5NDA4MjY1NjQ4Lmh0bWzSAQA) - starting get_files https://news.google.com/articles/CBMiigFodHRwczovL3d3dy53cW93LmNvbS9uZXdzL3dpc2NvbnNpbi9wcm9ncmFtLWxvb2tzLWF0LWFpcy1pbXBhY3Qtb24tcG9saXRpY3MtaW4tbGEtY3Jvc3NlL2FydGljbGVfMWI4OGMxZTgtZjIxYy01ODMwLWI4ODYtNDI5NDA4MjY1NjQ4Lmh0bWzSAQA\n"
     ]
    },
    {
     "name": "stderr",
     "output_type": "stream",
     "text": [
      "2024-07-07 18:17:28,684 - AInewsbot - INFO - get_url(AI's 'positive role' during Indian polls amidst deepfakes disinformation) - Saving AI_s__positive_role__during_Indian_polls_amidst_deepfakes_disinformation_20240707_181728.html as utf-8\n",
      "2024-07-07 18:17:28,685 - AInewsbot - INFO - Processing https://news.google.com/articles/CBMiaWh0dHBzOi8vd3d3LndyZHcuY29tLzIwMjQvMDcvMDcvZ2VvcmdpYS1hcnRpZmljaWFsLWludGVsbGlnZW5jZS1wcm9ncmFtLXRlYWNoZXMta2lkcy1hYm91dC1iaWFzLXBvbGljaW5nL9IBeGh0dHBzOi8vd3d3LndyZHcuY29tLzIwMjQvMDcvMDcvZ2VvcmdpYS1hcnRpZmljaWFsLWludGVsbGlnZW5jZS1wcm9ncmFtLXRlYWNoZXMta2lkcy1hYm91dC1iaWFzLXBvbGljaW5nLz9vdXRwdXRUeXBlPWFtcA\n",
      "2024-07-07 18:17:28,685 - AInewsbot - INFO - get_url(https://news.google.com/articles/CBMiaWh0dHBzOi8vd3d3LndyZHcuY29tLzIwMjQvMDcvMDcvZ2VvcmdpYS1hcnRpZmljaWFsLWludGVsbGlnZW5jZS1wcm9ncmFtLXRlYWNoZXMta2lkcy1hYm91dC1iaWFzLXBvbGljaW5nL9IBeGh0dHBzOi8vd3d3LndyZHcuY29tLzIwMjQvMDcvMDcvZ2VvcmdpYS1hcnRpZmljaWFsLWludGVsbGlnZW5jZS1wcm9ncmFtLXRlYWNoZXMta2lkcy1hYm91dC1iaWFzLXBvbGljaW5nLz9vdXRwdXRUeXBlPWFtcA) - starting get_files https://news.google.com/articles/CBMiaWh0dHBzOi8vd3d3LndyZHcuY29tLzIwMjQvMDcvMDcvZ2VvcmdpYS1hcnRpZmljaWFsLWludGVsbGlnZW5jZS1wcm9ncmFtLXRlYWNoZXMta2lkcy1hYm91dC1iaWFzLXBvbGljaW5nL9IBeGh0dHBzOi8vd3d3LndyZHcuY29tLzIwMjQvMDcvMDcvZ2VvcmdpYS1hcnRpZmljaWFsLWludGVsbGlnZW5jZS1wcm9ncmFtLXRlYWNoZXMta2lkcy1hYm91dC1iaWFzLXBvbGljaW5nLz9vdXRwdXRUeXBlPWFtcA\n",
      "2024-07-07 18:17:30,667 - AInewsbot - INFO - get_url(Wild new way to search for anything, anywhere with Google's Circle to Search AI feature) - Saving Wild_new_way_to_search_for_anything__anywhere_with_Google_s_Circle_to_Search_AI_feature_20240707_181730.html as utf-8\n",
      "2024-07-07 18:17:30,669 - AInewsbot - INFO - Processing https://www.the74million.org/article/california-teachers-are-using-ai-to-grade-papers-whos-grading-the-ai/\n",
      "2024-07-07 18:17:30,669 - AInewsbot - INFO - get_url(https://www.the74million.org/article/california-teachers-are-using-ai-to-grade-papers-whos-grading-the-ai/) - starting get_files https://www.the74million.org/article/california-teachers-are-using-ai-to-grade-papers-whos-grading-the-ai/\n",
      "2024-07-07 18:17:31,149 - AInewsbot - INFO - get_url(Program looks at AI's impact on politics in La Crosse) - Saving Program_looks_at_AI_s_impact_on_politics_in_La_Crosse_20240707_181731.html as utf-8\n",
      "2024-07-07 18:17:31,150 - AInewsbot - INFO - Processing https://news.google.com/articles/CBMiYWh0dHBzOi8vd3d3LmVjb25vbWlzdC5jb20vc3BlY2lhbC1yZXBvcnQvMjAyNC8wNy8wNy93aWxsLWFydGlmaWNpYWwtaW50ZWxsaWdlbmNlLXRyYW5zZm9ybS1zY2hvb2zSAQA\n",
      "2024-07-07 18:17:31,151 - AInewsbot - INFO - get_url(https://news.google.com/articles/CBMiYWh0dHBzOi8vd3d3LmVjb25vbWlzdC5jb20vc3BlY2lhbC1yZXBvcnQvMjAyNC8wNy8wNy93aWxsLWFydGlmaWNpYWwtaW50ZWxsaWdlbmNlLXRyYW5zZm9ybS1zY2hvb2zSAQA) - starting get_files https://news.google.com/articles/CBMiYWh0dHBzOi8vd3d3LmVjb25vbWlzdC5jb20vc3BlY2lhbC1yZXBvcnQvMjAyNC8wNy8wNy93aWxsLWFydGlmaWNpYWwtaW50ZWxsaWdlbmNlLXRyYW5zZm9ybS1zY2hvb2zSAQA\n",
      "2024-07-07 18:17:32,719 - AInewsbot - INFO - get_url(Our Chicago: Could artificial intelligence impact 2024 election as voters choose between Joe Biden, Donald Trump?) - Saving Our_Chicago__Could_artificial_intelligence_impact_2024_election_as_voters_choose_between_Joe_Biden__Donald_Trump__20240707_181732.html as utf-8\n",
      "2024-07-07 18:17:32,720 - AInewsbot - INFO - Processing https://news.google.com/articles/CBMiXmh0dHBzOi8vd3d3LmRvbXVzd2ViLml0L2VuL25ld3MvMjAyNC8wNi8yNi9hcmUtd2UtcmVhZHktdG8tdXNlLWFpLWluLWFyY2hpdGVjdHVyYWwtZGVzaWduLmh0bWzSAWJodHRwczovL3d3dy5kb211c3dlYi5pdC9lbi9uZXdzLzIwMjQvMDYvMjYvYXJlLXdlLXJlYWR5LXRvLXVzZS1haS1pbi1hcmNoaXRlY3R1cmFsLWRlc2lnbi5hbXAuaHRtbA\n",
      "2024-07-07 18:17:32,721 - AInewsbot - INFO - get_url(https://news.google.com/articles/CBMiXmh0dHBzOi8vd3d3LmRvbXVzd2ViLml0L2VuL25ld3MvMjAyNC8wNi8yNi9hcmUtd2UtcmVhZHktdG8tdXNlLWFpLWluLWFyY2hpdGVjdHVyYWwtZGVzaWduLmh0bWzSAWJodHRwczovL3d3dy5kb211c3dlYi5pdC9lbi9uZXdzLzIwMjQvMDYvMjYvYXJlLXdlLXJlYWR5LXRvLXVzZS1haS1pbi1hcmNoaXRlY3R1cmFsLWRlc2lnbi5hbXAuaHRtbA) - starting get_files https://news.google.com/articles/CBMiXmh0dHBzOi8vd3d3LmRvbXVzd2ViLml0L2VuL25ld3MvMjAyNC8wNi8yNi9hcmUtd2UtcmVhZHktdG8tdXNlLWFpLWluLWFyY2hpdGVjdHVyYWwtZGVzaWduLmh0bWzSAWJodHRwczovL3d3dy5kb211c3dlYi5pdC9lbi9uZXdzLzIwMjQvMDYvMjYvYXJlLXdlLXJlYWR5LXRvLXVzZS1haS1pbi1hcmNoaXRlY3R1cmFsLWRlc2lnbi5hbXAuaHRtbA\n",
      "2024-07-07 18:17:39,872 - AInewsbot - INFO - get_url(Georgia artificial intelligence program teaches kids about bias in policing) - Saving Georgia_artificial_intelligence_program_teaches_kids_about_bias_in_policing_20240707_181739.html as utf-8\n",
      "2024-07-07 18:17:39,873 - AInewsbot - INFO - Processing https://news.google.com/articles/CBMinAFodHRwczovL3d3dy5leHByZXNzY29tcHV0ZXIuaW4vZ3Vlc3QtYmxvZ3MvaGFybmVzc2luZy1haS1hbmQtdGVjaG5vbG9naWNhbC1hZHZhbmNlbWVudHMtaW4tdGhlLWFlYy1pbmR1c3RyeS1mb3ItZW5oYW5jZWQtZWZmaWNpZW5jeS1hbmQtcHJvZHVjdGl2aXR5LzExMzc1Mi_SAaABaHR0cHM6Ly93d3cuZXhwcmVzc2NvbXB1dGVyLmluL2FtcC9ndWVzdC1ibG9ncy9oYXJuZXNzaW5nLWFpLWFuZC10ZWNobm9sb2dpY2FsLWFkdmFuY2VtZW50cy1pbi10aGUtYWVjLWluZHVzdHJ5LWZvci1lbmhhbmNlZC1lZmZpY2llbmN5LWFuZC1wcm9kdWN0aXZpdHkvMTEzNzUyLw\n",
      "2024-07-07 18:17:39,873 - AInewsbot - INFO - get_url(https://news.google.com/articles/CBMinAFodHRwczovL3d3dy5leHByZXNzY29tcHV0ZXIuaW4vZ3Vlc3QtYmxvZ3MvaGFybmVzc2luZy1haS1hbmQtdGVjaG5vbG9naWNhbC1hZHZhbmNlbWVudHMtaW4tdGhlLWFlYy1pbmR1c3RyeS1mb3ItZW5oYW5jZWQtZWZmaWNpZW5jeS1hbmQtcHJvZHVjdGl2aXR5LzExMzc1Mi_SAaABaHR0cHM6Ly93d3cuZXhwcmVzc2NvbXB1dGVyLmluL2FtcC9ndWVzdC1ibG9ncy9oYXJuZXNzaW5nLWFpLWFuZC10ZWNobm9sb2dpY2FsLWFkdmFuY2VtZW50cy1pbi10aGUtYWVjLWluZHVzdHJ5LWZvci1lbmhhbmNlZC1lZmZpY2llbmN5LWFuZC1wcm9kdWN0aXZpdHkvMTEzNzUyLw) - starting get_files https://news.google.com/articles/CBMinAFodHRwczovL3d3dy5leHByZXNzY29tcHV0ZXIuaW4vZ3Vlc3QtYmxvZ3MvaGFybmVzc2luZy1haS1hbmQtdGVjaG5vbG9naWNhbC1hZHZhbmNlbWVudHMtaW4tdGhlLWFlYy1pbmR1c3RyeS1mb3ItZW5oYW5jZWQtZWZmaWNpZW5jeS1hbmQtcHJvZHVjdGl2aXR5LzExMzc1Mi_SAaABaHR0cHM6Ly93d3cuZXhwcmVzc2NvbXB1dGVyLmluL2FtcC9ndWVzdC1ibG9ncy9oYXJuZXNzaW5nLWFpLWFuZC10ZWNobm9sb2dpY2FsLWFkdmFuY2VtZW50cy1pbi10aGUtYWVjLWluZHVzdHJ5LWZvci1lbmhhbmNlZC1lZmZpY2llbmN5LWFuZC1wcm9kdWN0aXZpdHkvMTEzNzUyLw\n",
      "2024-07-07 18:17:41,533 - AInewsbot - INFO - get_url(California Teachers are Using AI to Grade Papers. Whos Grading the AI?) - Saving California_Teachers_are_Using_AI_to_Grade_Papers__Whos_Grading_the_AI__20240707_181741.html as utf-8\n",
      "2024-07-07 18:17:41,534 - AInewsbot - INFO - Processing https://news.google.com/articles/CBMiQWh0dHBzOi8vd3d3LnVuaXRlLmFpL2Jlc3QtYWktdG9vbHMtZm9yLXRoZS1jb25zdHJ1Y3Rpb24taW5kdXN0cnkv0gEA\n",
      "2024-07-07 18:17:41,535 - AInewsbot - INFO - get_url(https://news.google.com/articles/CBMiQWh0dHBzOi8vd3d3LnVuaXRlLmFpL2Jlc3QtYWktdG9vbHMtZm9yLXRoZS1jb25zdHJ1Y3Rpb24taW5kdXN0cnkv0gEA) - starting get_files https://news.google.com/articles/CBMiQWh0dHBzOi8vd3d3LnVuaXRlLmFpL2Jlc3QtYWktdG9vbHMtZm9yLXRoZS1jb25zdHJ1Y3Rpb24taW5kdXN0cnkv0gEA\n",
      "2024-07-07 18:17:41,869 - AInewsbot - INFO - get_url(Will artificial intelligence transform school?) - Saving Will_artificial_intelligence_transform_school__20240707_181741.html as utf-8\n",
      "2024-07-07 18:17:41,870 - AInewsbot - INFO - Processing https://news.google.com/articles/CBMiWmh0dHBzOi8vd3d3LmNvbnN0cnVjdGlvbmRpdmUuY29tL25ld3MvZ2VuZXJhdGl2ZS1haS1zd2luZXJ0b24tZnV0dXJldGVjaC1NaWNyb3NvZnQvNzIwNTEzL9IBAA\n",
      "2024-07-07 18:17:41,870 - AInewsbot - INFO - get_url(https://news.google.com/articles/CBMiWmh0dHBzOi8vd3d3LmNvbnN0cnVjdGlvbmRpdmUuY29tL25ld3MvZ2VuZXJhdGl2ZS1haS1zd2luZXJ0b24tZnV0dXJldGVjaC1NaWNyb3NvZnQvNzIwNTEzL9IBAA) - starting get_files https://news.google.com/articles/CBMiWmh0dHBzOi8vd3d3LmNvbnN0cnVjdGlvbmRpdmUuY29tL25ld3MvZ2VuZXJhdGl2ZS1haS1zd2luZXJ0b24tZnV0dXJldGVjaC1NaWNyb3NvZnQvNzIwNTEzL9IBAA\n",
      "2024-07-07 18:17:43,146 - AInewsbot - INFO - get_url(So how are we doing with AI in architectural design?) - Saving So_how_are_we_doing_with_AI_in_architectural_design__20240707_181743.html as utf-8\n",
      "2024-07-07 18:17:43,154 - AInewsbot - INFO - Processing https://hackernoon.com/how-artificial-intelligence-can-make-our-smart-homes-smarter\n",
      "2024-07-07 18:17:43,165 - AInewsbot - INFO - get_url(https://hackernoon.com/how-artificial-intelligence-can-make-our-smart-homes-smarter) - starting get_files https://hackernoon.com/how-artificial-intelligence-can-make-our-smart-homes-smarter\n"
     ]
    },
    {
     "name": "stderr",
     "output_type": "stream",
     "text": [
      "2024-07-07 18:17:50,190 - AInewsbot - INFO - get_url(Harnessing AI and technological advancements in the AEC industry for enhanced efficiency and productivity) - Saving Harnessing_AI_and_technological_advancements_in_the_AEC_industry_for_enhanced_efficiency_and_productivity_20240707_181750.html as utf-8\n",
      "2024-07-07 18:17:50,191 - AInewsbot - INFO - Processing https://news.google.com/articles/CBMiLWh0dHBzOi8vd3d3LnRyZW5kaHVudGVyLmNvbS90cmVuZHMvYWktZmFybWluZ9IBMWh0dHBzOi8vd3d3LnRyZW5kaHVudGVyLmNvbS9hbXAvdHJlbmRzL2FpLWZhcm1pbmc\n",
      "2024-07-07 18:17:50,192 - AInewsbot - INFO - get_url(https://news.google.com/articles/CBMiLWh0dHBzOi8vd3d3LnRyZW5kaHVudGVyLmNvbS90cmVuZHMvYWktZmFybWluZ9IBMWh0dHBzOi8vd3d3LnRyZW5kaHVudGVyLmNvbS9hbXAvdHJlbmRzL2FpLWZhcm1pbmc) - starting get_files https://news.google.com/articles/CBMiLWh0dHBzOi8vd3d3LnRyZW5kaHVudGVyLmNvbS90cmVuZHMvYWktZmFybWluZ9IBMWh0dHBzOi8vd3d3LnRyZW5kaHVudGVyLmNvbS9hbXAvdHJlbmRzL2FpLWZhcm1pbmc\n",
      "2024-07-07 18:17:52,332 - AInewsbot - INFO - get_url(5 Best AI Tools for the Construction Industry (July 2024)) - Saving 5_Best_AI_Tools_for_the_Construction_Industry__July_2024__20240707_181752.html as utf-8\n",
      "2024-07-07 18:17:52,333 - AInewsbot - INFO - Processing https://news.google.com/articles/CBMieWh0dHBzOi8vd3d3LmttYWxhbmQuY29tL2FnL2FpLWNhbi1sZWFybi11c2VzLWZvci1tb2Rlcm4tZGF5LWFncmljdWx0dXJlL2FydGljbGVfYWY2Zjc1MzYtM2FlNi0xMWVmLWE2OTYtNGY5ZGJlYWZiZDBmLmh0bWzSAQA\n",
      "2024-07-07 18:17:52,333 - AInewsbot - INFO - get_url(https://news.google.com/articles/CBMieWh0dHBzOi8vd3d3LmttYWxhbmQuY29tL2FnL2FpLWNhbi1sZWFybi11c2VzLWZvci1tb2Rlcm4tZGF5LWFncmljdWx0dXJlL2FydGljbGVfYWY2Zjc1MzYtM2FlNi0xMWVmLWE2OTYtNGY5ZGJlYWZiZDBmLmh0bWzSAQA) - starting get_files https://news.google.com/articles/CBMieWh0dHBzOi8vd3d3LmttYWxhbmQuY29tL2FnL2FpLWNhbi1sZWFybi11c2VzLWZvci1tb2Rlcm4tZGF5LWFncmljdWx0dXJlL2FydGljbGVfYWY2Zjc1MzYtM2FlNi0xMWVmLWE2OTYtNGY5ZGJlYWZiZDBmLmh0bWzSAQA\n",
      "2024-07-07 18:17:52,416 - AInewsbot - INFO - get_url(What generative AI can do for construction right now) - Saving What_generative_AI_can_do_for_construction_right_now_20240707_181752.html as utf-8\n",
      "2024-07-07 18:17:52,417 - AInewsbot - INFO - Processing https://news.google.com/articles/CBMiX2h0dHBzOi8vd3d3LnJmZHR2LmNvbS9hcnRpZmljaWFsLWludGVsbGlnZW5jZS1pcy1iZWluZy10cmFpbmVkLXRvLWhlbHAtYWxsLWFyZWFzLW9mLWFncmljdWx0dXJl0gEA\n",
      "2024-07-07 18:17:52,417 - AInewsbot - INFO - get_url(https://news.google.com/articles/CBMiX2h0dHBzOi8vd3d3LnJmZHR2LmNvbS9hcnRpZmljaWFsLWludGVsbGlnZW5jZS1pcy1iZWluZy10cmFpbmVkLXRvLWhlbHAtYWxsLWFyZWFzLW9mLWFncmljdWx0dXJl0gEA) - starting get_files https://news.google.com/articles/CBMiX2h0dHBzOi8vd3d3LnJmZHR2LmNvbS9hcnRpZmljaWFsLWludGVsbGlnZW5jZS1pcy1iZWluZy10cmFpbmVkLXRvLWhlbHAtYWxsLWFyZWFzLW9mLWFncmljdWx0dXJl0gEA\n",
      "2024-07-07 18:17:53,968 - AInewsbot - INFO - get_url(HowArtificial IntelligenceCan Make Our Smart Homes, Smarter) - Saving HowArtificial_IntelligenceCan_Make_Our_Smart_Homes__Smarter_20240707_181753.html as utf-8\n",
      "2024-07-07 18:17:53,969 - AInewsbot - INFO - Processing https://news.google.com/articles/CBMiamh0dHBzOi8vd3d3Lm1hbmlsYXRpbWVzLm5ldC8yMDI0LzA3LzA3L2J1c2luZXNzL3N1bmRheS1idXNpbmVzcy1pdC9vbi1haXMtaW1wYWN0LW9uLXN1c3RhaW5hYmlsaXR5LzE5NTU1MDbSAW5odHRwczovL3d3dy5tYW5pbGF0aW1lcy5uZXQvMjAyNC8wNy8wNy9idXNpbmVzcy9zdW5kYXktYnVzaW5lc3MtaXQvb24tYWlzLWltcGFjdC1vbi1zdXN0YWluYWJpbGl0eS8xOTU1NTA2L2FtcA\n",
      "2024-07-07 18:17:53,969 - AInewsbot - INFO - get_url(https://news.google.com/articles/CBMiamh0dHBzOi8vd3d3Lm1hbmlsYXRpbWVzLm5ldC8yMDI0LzA3LzA3L2J1c2luZXNzL3N1bmRheS1idXNpbmVzcy1pdC9vbi1haXMtaW1wYWN0LW9uLXN1c3RhaW5hYmlsaXR5LzE5NTU1MDbSAW5odHRwczovL3d3dy5tYW5pbGF0aW1lcy5uZXQvMjAyNC8wNy8wNy9idXNpbmVzcy9zdW5kYXktYnVzaW5lc3MtaXQvb24tYWlzLWltcGFjdC1vbi1zdXN0YWluYWJpbGl0eS8xOTU1NTA2L2FtcA) - starting get_files https://news.google.com/articles/CBMiamh0dHBzOi8vd3d3Lm1hbmlsYXRpbWVzLm5ldC8yMDI0LzA3LzA3L2J1c2luZXNzL3N1bmRheS1idXNpbmVzcy1pdC9vbi1haXMtaW1wYWN0LW9uLXN1c3RhaW5hYmlsaXR5LzE5NTU1MDbSAW5odHRwczovL3d3dy5tYW5pbGF0aW1lcy5uZXQvMjAyNC8wNy8wNy9idXNpbmVzcy9zdW5kYXktYnVzaW5lc3MtaXQvb24tYWlzLWltcGFjdC1vbi1zdXN0YWluYWJpbGl0eS8xOTU1NTA2L2FtcA\n",
      "2024-07-07 18:18:00,625 - AInewsbot - INFO - get_url(Personalized AI Farming Assistants) - Saving Personalized_AI_Farming_Assistants_20240707_181800.html as utf-8\n",
      "2024-07-07 18:18:00,627 - AInewsbot - INFO - Processing https://news.google.com/articles/CBMiaWh0dHBzOi8vd3d3LnRoZWd1YXJkaWFuLmNvbS90ZWNobm9sb2d5L2FydGljbGUvMjAyNC9qdWwvMDcvaG93LWFpLWlzLWhlbHBpbmctdXMtdGFja2xlLXRoZS1jbGltYXRlLWNyaXNpc9IBaWh0dHBzOi8vYW1wLnRoZWd1YXJkaWFuLmNvbS90ZWNobm9sb2d5L2FydGljbGUvMjAyNC9qdWwvMDcvaG93LWFpLWlzLWhlbHBpbmctdXMtdGFja2xlLXRoZS1jbGltYXRlLWNyaXNpcw\n",
      "2024-07-07 18:18:00,628 - AInewsbot - INFO - get_url(https://news.google.com/articles/CBMiaWh0dHBzOi8vd3d3LnRoZWd1YXJkaWFuLmNvbS90ZWNobm9sb2d5L2FydGljbGUvMjAyNC9qdWwvMDcvaG93LWFpLWlzLWhlbHBpbmctdXMtdGFja2xlLXRoZS1jbGltYXRlLWNyaXNpc9IBaWh0dHBzOi8vYW1wLnRoZWd1YXJkaWFuLmNvbS90ZWNobm9sb2d5L2FydGljbGUvMjAyNC9qdWwvMDcvaG93LWFpLWlzLWhlbHBpbmctdXMtdGFja2xlLXRoZS1jbGltYXRlLWNyaXNpcw) - starting get_files https://news.google.com/articles/CBMiaWh0dHBzOi8vd3d3LnRoZWd1YXJkaWFuLmNvbS90ZWNobm9sb2d5L2FydGljbGUvMjAyNC9qdWwvMDcvaG93LWFpLWlzLWhlbHBpbmctdXMtdGFja2xlLXRoZS1jbGltYXRlLWNyaXNpc9IBaWh0dHBzOi8vYW1wLnRoZWd1YXJkaWFuLmNvbS90ZWNobm9sb2d5L2FydGljbGUvMjAyNC9qdWwvMDcvaG93LWFpLWlzLWhlbHBpbmctdXMtdGFja2xlLXRoZS1jbGltYXRlLWNyaXNpcw\n",
      "2024-07-07 18:18:02,798 - AInewsbot - INFO - get_url(AI Can Learn Uses for Modern-Day Agriculture) - Saving AI_Can_Learn_Uses_for_Modern-Day_Agriculture_20240707_181802.html as utf-8\n",
      "2024-07-07 18:18:02,800 - AInewsbot - INFO - Processing https://news.google.com/articles/CBMibmh0dHBzOi8vZ2VvZ3JhcGhpY2FsLmNvLnVrL2NsaW1hdGUtY2hhbmdlL3dlLWFzay1haS10by1leHBsYWluLXdoeS13ZS1zdHJ1Z2dsZS13aXRoLXNvbHZpbmctdGhlLWNsaW1hdGUtY3Jpc2lz0gEA\n",
      "2024-07-07 18:18:02,800 - AInewsbot - INFO - get_url(https://news.google.com/articles/CBMibmh0dHBzOi8vZ2VvZ3JhcGhpY2FsLmNvLnVrL2NsaW1hdGUtY2hhbmdlL3dlLWFzay1haS10by1leHBsYWluLXdoeS13ZS1zdHJ1Z2dsZS13aXRoLXNvbHZpbmctdGhlLWNsaW1hdGUtY3Jpc2lz0gEA) - starting get_files https://news.google.com/articles/CBMibmh0dHBzOi8vZ2VvZ3JhcGhpY2FsLmNvLnVrL2NsaW1hdGUtY2hhbmdlL3dlLWFzay1haS10by1leHBsYWluLXdoeS13ZS1zdHJ1Z2dsZS13aXRoLXNvbHZpbmctdGhlLWNsaW1hdGUtY3Jpc2lz0gEA\n",
      "2024-07-07 18:18:02,824 - AInewsbot - INFO - get_url(Artificial Intelligence is being trained to help all areas of agriculture) - Saving Artificial_Intelligence_is_being_trained_to_help_all_areas_of_agriculture_20240707_181802.html as utf-8\n",
      "2024-07-07 18:18:02,825 - AInewsbot - INFO - Processing https://www.planetizen.com/news/2024/07/130117-predicting-toxic-algae-blooms-ai-modeling\n",
      "2024-07-07 18:18:02,826 - AInewsbot - INFO - get_url(https://www.planetizen.com/news/2024/07/130117-predicting-toxic-algae-blooms-ai-modeling) - starting get_files https://www.planetizen.com/news/2024/07/130117-predicting-toxic-algae-blooms-ai-modeling\n",
      "2024-07-07 18:18:04,404 - AInewsbot - INFO - get_url(On AI's impact on sustainability) - Saving On_AI_s_impact_on_sustainability_20240707_181804.html as utf-8\n",
      "2024-07-07 18:18:04,405 - AInewsbot - INFO - Processing https://news.google.com/articles/CBMinQFodHRwczovL2h1bnRzdmlsbGVidXNpbmVzc2pvdXJuYWwuY29tL25ld3MvMjAyNC8wNy8wNy91YWgtZG9jdG9yYWwtY2FuZGlkYXRlLWxlYWRzLXN0dWR5LW9uLWxldmVyYWdpbmctYWktYW5kLXNvY2lhbC1tZWRpYS1mb3ItZGlzYXN0ZXItcmVsaWVmLWNvbW11bmljYXRpb24v0gEA\n",
      "2024-07-07 18:18:04,405 - AInewsbot - INFO - get_url(https://news.google.com/articles/CBMinQFodHRwczovL2h1bnRzdmlsbGVidXNpbmVzc2pvdXJuYWwuY29tL25ld3MvMjAyNC8wNy8wNy91YWgtZG9jdG9yYWwtY2FuZGlkYXRlLWxlYWRzLXN0dWR5LW9uLWxldmVyYWdpbmctYWktYW5kLXNvY2lhbC1tZWRpYS1mb3ItZGlzYXN0ZXItcmVsaWVmLWNvbW11bmljYXRpb24v0gEA) - starting get_files https://news.google.com/articles/CBMinQFodHRwczovL2h1bnRzdmlsbGVidXNpbmVzc2pvdXJuYWwuY29tL25ld3MvMjAyNC8wNy8wNy91YWgtZG9jdG9yYWwtY2FuZGlkYXRlLWxlYWRzLXN0dWR5LW9uLWxldmVyYWdpbmctYWktYW5kLXNvY2lhbC1tZWRpYS1mb3ItZGlzYXN0ZXItcmVsaWVmLWNvbW11bmljYXRpb24v0gEA\n",
      "2024-07-07 18:18:10,946 - AInewsbot - INFO - get_url(How AI is helping us tackle the climate crisis) - Saving How_AI_is_helping_us_tackle_the_climate_crisis_20240707_181810.html as utf-8\n",
      "2024-07-07 18:18:10,949 - AInewsbot - INFO - Processing https://news.google.com/articles/CBMiRGh0dHBzOi8vd3d3LmV1cmFzaWFudGltZXMuY29tL3VzLWNoaW5hLWNvbmZsaWN0LXVzYWYtcGxhbnMtMTAwMC02dGgv0gFEaHR0cHM6Ly93d3cuZXVyYXNpYW50aW1lcy5jb20vdXMtY2hpbmEtY29uZmxpY3QtdXNhZi1wbGFucy0xMDAwLTZ0aC8\n"
     ]
    },
    {
     "name": "stderr",
     "output_type": "stream",
     "text": [
      "2024-07-07 18:18:10,949 - AInewsbot - INFO - get_url(https://news.google.com/articles/CBMiRGh0dHBzOi8vd3d3LmV1cmFzaWFudGltZXMuY29tL3VzLWNoaW5hLWNvbmZsaWN0LXVzYWYtcGxhbnMtMTAwMC02dGgv0gFEaHR0cHM6Ly93d3cuZXVyYXNpYW50aW1lcy5jb20vdXMtY2hpbmEtY29uZmxpY3QtdXNhZi1wbGFucy0xMDAwLTZ0aC8) - starting get_files https://news.google.com/articles/CBMiRGh0dHBzOi8vd3d3LmV1cmFzaWFudGltZXMuY29tL3VzLWNoaW5hLWNvbmZsaWN0LXVzYWYtcGxhbnMtMTAwMC02dGgv0gFEaHR0cHM6Ly93d3cuZXVyYXNpYW50aW1lcy5jb20vdXMtY2hpbmEtY29uZmxpY3QtdXNhZi1wbGFucy0xMDAwLTZ0aC8\n",
      "2024-07-07 18:18:13,490 - AInewsbot - INFO - get_url(We ask AI to explain why we struggle with solving the climate crisis) - Saving We_ask_AI_to_explain_why_we_struggle_with_solving_the_climate_crisis_20240707_181813.html as utf-8\n",
      "2024-07-07 18:18:13,493 - AInewsbot - INFO - Processing https://news.google.com/articles/CBMiiwFodHRwczovL3d3dy5yZXV0ZXJzLmNvbS90ZWNobm9sb2d5L2FydGlmaWNpYWwtaW50ZWxsaWdlbmNlL2Vsb24tbXVzay1leHBlY3RlZC1tYWtlLXNwZWVjaC1vcGVuaW5nLXNoYW5naGFpcy13b3JsZC1haS1jb25mZXJlbmNlLTIwMjQtMDctMDMv0gEA\n",
      "2024-07-07 18:18:13,493 - AInewsbot - INFO - get_url(https://news.google.com/articles/CBMiiwFodHRwczovL3d3dy5yZXV0ZXJzLmNvbS90ZWNobm9sb2d5L2FydGlmaWNpYWwtaW50ZWxsaWdlbmNlL2Vsb24tbXVzay1leHBlY3RlZC1tYWtlLXNwZWVjaC1vcGVuaW5nLXNoYW5naGFpcy13b3JsZC1haS1jb25mZXJlbmNlLTIwMjQtMDctMDMv0gEA) - starting get_files https://news.google.com/articles/CBMiiwFodHRwczovL3d3dy5yZXV0ZXJzLmNvbS90ZWNobm9sb2d5L2FydGlmaWNpYWwtaW50ZWxsaWdlbmNlL2Vsb24tbXVzay1leHBlY3RlZC1tYWtlLXNwZWVjaC1vcGVuaW5nLXNoYW5naGFpcy13b3JsZC1haS1jb25mZXJlbmNlLTIwMjQtMDctMDMv0gEA\n",
      "2024-07-07 18:18:15,220 - AInewsbot - INFO - get_url(UAH Doctoral Candidate Leads Study On Leveraging AI And Social Media For Disaster Relief Communication) - Saving UAH_Doctoral_Candidate_Leads_Study_On_Leveraging_AI_And_Social_Media_For_Disaster_Relief_Communication_20240707_181815.html as utf-8\n",
      "2024-07-07 18:18:15,222 - AInewsbot - INFO - Processing https://www.techspot.com/news/103699-big-tech-needs-generate-600-billion-annual-revenue.html\n",
      "2024-07-07 18:18:15,222 - AInewsbot - INFO - get_url(https://www.techspot.com/news/103699-big-tech-needs-generate-600-billion-annual-revenue.html) - starting get_files https://www.techspot.com/news/103699-big-tech-needs-generate-600-billion-annual-revenue.html\n",
      "2024-07-07 18:18:15,300 - AInewsbot - INFO - get_url(Predicting Toxic Algae Blooms with AI Modeling) - Saving Predicting_Toxic_Algae_Blooms_with_AI_Modeling_20240707_181815.html as utf-8\n",
      "2024-07-07 18:18:15,302 - AInewsbot - INFO - Processing https://news.google.com/articles/CBMiP2h0dHBzOi8vd3d3LmZ0LmNvbS9jb250ZW50LzhhN2M4NmZlLWYyNzEtNDRlYS05NmUxLTczMGY1NjQ5M2YzOdIBAA\n",
      "2024-07-07 18:18:15,302 - AInewsbot - INFO - get_url(https://news.google.com/articles/CBMiP2h0dHBzOi8vd3d3LmZ0LmNvbS9jb250ZW50LzhhN2M4NmZlLWYyNzEtNDRlYS05NmUxLTczMGY1NjQ5M2YzOdIBAA) - starting get_files https://news.google.com/articles/CBMiP2h0dHBzOi8vd3d3LmZ0LmNvbS9jb250ZW50LzhhN2M4NmZlLWYyNzEtNDRlYS05NmUxLTczMGY1NjQ5M2YzOdIBAA\n",
      "2024-07-07 18:18:21,305 - AInewsbot - INFO - get_url(US-China Conflict: USAF Plans 1000 6th-Gen Robo Warplanes To Counter Beijing & Its Ever Growing PLAAF) - Saving US-China_Conflict__USAF_Plans_1000_6th-Gen_Robo_Warplanes_To_Counter_Beijing___Its_Ever_Growing_PLAAF_20240707_181821.html as utf-8\n",
      "2024-07-07 18:18:21,307 - AInewsbot - INFO - Processing https://www.scmp.com/economy/china-economy/article/3269334/chinas-tech-boom-powering-ai-career-coup-finance-muscled-out-top-salary-pyramid\n",
      "2024-07-07 18:18:21,308 - AInewsbot - INFO - get_url(https://www.scmp.com/economy/china-economy/article/3269334/chinas-tech-boom-powering-ai-career-coup-finance-muscled-out-top-salary-pyramid) - starting get_files https://www.scmp.com/economy/china-economy/article/3269334/chinas-tech-boom-powering-ai-career-coup-finance-muscled-out-top-salary-pyramid\n",
      "2024-07-07 18:18:23,936 - AInewsbot - INFO - get_url(Elon Musk expected to make speech at opening of Shanghai's World AI Conference) - Saving Elon_Musk_expected_to_make_speech_at_opening_of_Shanghai_s_World_AI_Conference_20240707_181823.html as utf-8\n",
      "2024-07-07 18:18:23,937 - AInewsbot - INFO - Processing https://www.tomshardware.com/tech-industry/artificial-intelligence/chinas-ai-model-glut-is-a-significant-waste-of-resources-due-to-scarce-real-world-applications-says-baidu-ceo\n",
      "2024-07-07 18:18:23,937 - AInewsbot - INFO - get_url(https://www.tomshardware.com/tech-industry/artificial-intelligence/chinas-ai-model-glut-is-a-significant-waste-of-resources-due-to-scarce-real-world-applications-says-baidu-ceo) - starting get_files https://www.tomshardware.com/tech-industry/artificial-intelligence/chinas-ai-model-glut-is-a-significant-waste-of-resources-due-to-scarce-real-world-applications-says-baidu-ceo\n",
      "2024-07-07 18:18:25,807 - AInewsbot - INFO - get_url(Samsung expects profits to surge on demand for AI chips) - Saving Samsung_expects_profits_to_surge_on_demand_for_AI_chips_20240707_181825.html as utf-8\n",
      "2024-07-07 18:18:25,809 - AInewsbot - INFO - Processing https://news.google.com/articles/CBMiO2h0dHBzOi8vcXouY29tL2VtYWlscy9kYWlseS1icmllZi8xODUxNTgwMDc2L2NoaW5hcy1haS1wdXNo0gEA\n",
      "2024-07-07 18:18:25,809 - AInewsbot - INFO - get_url(https://news.google.com/articles/CBMiO2h0dHBzOi8vcXouY29tL2VtYWlscy9kYWlseS1icmllZi8xODUxNTgwMDc2L2NoaW5hcy1haS1wdXNo0gEA) - starting get_files https://news.google.com/articles/CBMiO2h0dHBzOi8vcXouY29tL2VtYWlscy9kYWlseS1icmllZi8xODUxNTgwMDc2L2NoaW5hcy1haS1wdXNo0gEA\n",
      "2024-07-07 18:18:25,942 - AInewsbot - INFO - get_url(Big Tech needs to generate $600 billion in annual revenue to justify AI hardware expenditure) - Saving Big_Tech_needs_to_generate__600_billion_in_annual_revenue_to_justify_AI_hardware_expenditure_20240707_181825.html as utf-8\n",
      "2024-07-07 18:18:25,946 - AInewsbot - INFO - Processing https://news.google.com/articles/CBMiJWh0dHBzOi8vd3d3LmRhaWx5LXN1bi5jb20vcG9zdC83NTYzNjnSAQA\n",
      "2024-07-07 18:18:25,957 - AInewsbot - INFO - get_url(https://news.google.com/articles/CBMiJWh0dHBzOi8vd3d3LmRhaWx5LXN1bi5jb20vcG9zdC83NTYzNjnSAQA) - starting get_files https://news.google.com/articles/CBMiJWh0dHBzOi8vd3d3LmRhaWx5LXN1bi5jb20vcG9zdC83NTYzNjnSAQA\n",
      "2024-07-07 18:18:32,573 - AInewsbot - INFO - get_url(Chinas tech boom powering AI career coup, with finance muscled out at top of salary pyramid) - Saving Chinas_tech_boom_powering_AI_career_coup__with_finance_muscled_out_at_top_of_salary_pyramid_20240707_181832.html as utf-8\n",
      "2024-07-07 18:18:32,575 - AInewsbot - INFO - Processing https://news.google.com/articles/CBMiZ2h0dHBzOi8vd3d3Lm5ld2luZGlhbmV4cHJlc3MuY29tL3hwbG9yZS8yMDI0L0p1bC8wNS9maW50ZWNoLW5lZWRzLXRvLWFkb3B0LWFkdmFuY2VkLWFpbWwtcG93ZXJlZC1tb2RlbHPSAXFodHRwczovL3d3dy5uZXdpbmRpYW5leHByZXNzLmNvbS9hbXAvc3RvcnkveHBsb3JlLzIwMjQvSnVsLzA1L2ZpbnRlY2gtbmVlZHMtdG8tYWRvcHQtYWR2YW5jZWQtYWltbC1wb3dlcmVkLW1vZGVscw\n",
      "2024-07-07 18:18:32,576 - AInewsbot - INFO - get_url(https://news.google.com/articles/CBMiZ2h0dHBzOi8vd3d3Lm5ld2luZGlhbmV4cHJlc3MuY29tL3hwbG9yZS8yMDI0L0p1bC8wNS9maW50ZWNoLW5lZWRzLXRvLWFkb3B0LWFkdmFuY2VkLWFpbWwtcG93ZXJlZC1tb2RlbHPSAXFodHRwczovL3d3dy5uZXdpbmRpYW5leHByZXNzLmNvbS9hbXAvc3RvcnkveHBsb3JlLzIwMjQvSnVsLzA1L2ZpbnRlY2gtbmVlZHMtdG8tYWRvcHQtYWR2YW5jZWQtYWltbC1wb3dlcmVkLW1vZGVscw) - starting get_files https://news.google.com/articles/CBMiZ2h0dHBzOi8vd3d3Lm5ld2luZGlhbmV4cHJlc3MuY29tL3hwbG9yZS8yMDI0L0p1bC8wNS9maW50ZWNoLW5lZWRzLXRvLWFkb3B0LWFkdmFuY2VkLWFpbWwtcG93ZXJlZC1tb2RlbHPSAXFodHRwczovL3d3dy5uZXdpbmRpYW5leHByZXNzLmNvbS9hbXAvc3RvcnkveHBsb3JlLzIwMjQvSnVsLzA1L2ZpbnRlY2gtbmVlZHMtdG8tYWRvcHQtYWR2YW5jZWQtYWltbC1wb3dlcmVkLW1vZGVscw\n",
      "2024-07-07 18:18:34,920 - AInewsbot - INFO - get_url(China's AI model glut is a 'significant waste of resources' due to scarce real-world applications says Baidu CEO) - Saving China_s_AI_model_glut_is_a__significant_waste_of_resources__due_to_scarce_real-world_applications_says_Baidu_CEO_20240707_181834.html as utf-8\n",
      "2024-07-07 18:18:34,922 - AInewsbot - INFO - Processing https://news.google.com/articles/CBMiwAFodHRwczovL3d3dy5pbnRlbGxpZ2VudGNpby5jb20vZXUvMjAyNC8wNy8wNS93aGF0LXN0cmF0ZWdpZXMtY2FuLWJ1c2luZXNzLWFuZC10ZWNobm9sb2d5LWxlYWRlcnMtYWRvcHQtdG8tZWZmZWN0aXZlbHktYmFsYW5jZS1pbW1lZGlhdGUtYWktaW52ZXN0bWVudHMtd2l0aC1sb25nLXRlcm0tc3VzdGFpbmFiaWxpdHktb2JqZWN0aXZlcy_SAQA\n"
     ]
    },
    {
     "name": "stderr",
     "output_type": "stream",
     "text": [
      "2024-07-07 18:18:34,922 - AInewsbot - INFO - get_url(https://news.google.com/articles/CBMiwAFodHRwczovL3d3dy5pbnRlbGxpZ2VudGNpby5jb20vZXUvMjAyNC8wNy8wNS93aGF0LXN0cmF0ZWdpZXMtY2FuLWJ1c2luZXNzLWFuZC10ZWNobm9sb2d5LWxlYWRlcnMtYWRvcHQtdG8tZWZmZWN0aXZlbHktYmFsYW5jZS1pbW1lZGlhdGUtYWktaW52ZXN0bWVudHMtd2l0aC1sb25nLXRlcm0tc3VzdGFpbmFiaWxpdHktb2JqZWN0aXZlcy_SAQA) - starting get_files https://news.google.com/articles/CBMiwAFodHRwczovL3d3dy5pbnRlbGxpZ2VudGNpby5jb20vZXUvMjAyNC8wNy8wNS93aGF0LXN0cmF0ZWdpZXMtY2FuLWJ1c2luZXNzLWFuZC10ZWNobm9sb2d5LWxlYWRlcnMtYWRvcHQtdG8tZWZmZWN0aXZlbHktYmFsYW5jZS1pbW1lZGlhdGUtYWktaW52ZXN0bWVudHMtd2l0aC1sb25nLXRlcm0tc3VzdGFpbmFiaWxpdHktb2JqZWN0aXZlcy_SAQA\n",
      "2024-07-07 18:18:36,195 - AInewsbot - INFO - get_url(China's homegrown AI models are expanding) - Saving China_s_homegrown_AI_models_are_expanding_20240707_181836.html as utf-8\n",
      "2024-07-07 18:18:36,198 - AInewsbot - INFO - Processing https://news.google.com/articles/CCAiC1pGbWFweFlCYWZZmAEB\n",
      "2024-07-07 18:18:36,198 - AInewsbot - INFO - get_url(https://news.google.com/articles/CCAiC1pGbWFweFlCYWZZmAEB) - starting get_files https://news.google.com/articles/CCAiC1pGbWFweFlCYWZZmAEB\n",
      "2024-07-07 18:18:36,412 - AInewsbot - INFO - get_url(Banks Must Guard against Scammers Using AI) - Saving Banks_Must_Guard_against_Scammers_Using_AI_20240707_181836.html as utf-8\n",
      "2024-07-07 18:18:36,416 - AInewsbot - INFO - Processing https://venturebeat.com/ai/in-the-age-of-ai-the-role-of-the-caio-will-be-indispensable-and-heres-why/\n",
      "2024-07-07 18:18:36,418 - AInewsbot - INFO - get_url(https://venturebeat.com/ai/in-the-age-of-ai-the-role-of-the-caio-will-be-indispensable-and-heres-why/) - starting get_files https://venturebeat.com/ai/in-the-age-of-ai-the-role-of-the-caio-will-be-indispensable-and-heres-why/\n",
      "2024-07-07 18:18:43,398 - AInewsbot - INFO - get_url(Fintech needs to adopt advanced AI/ML-powered models) - Saving Fintech_needs_to_adopt_advanced_AI_ML-powered_models_20240707_181843.html as utf-8\n",
      "2024-07-07 18:18:43,402 - AInewsbot - INFO - Processing https://techcrunch.com/2024/07/07/cios-concerns-over-generative-ai-echo-those-of-the-early-days-of-cloud-computing/\n",
      "2024-07-07 18:18:43,402 - AInewsbot - INFO - get_url(https://techcrunch.com/2024/07/07/cios-concerns-over-generative-ai-echo-those-of-the-early-days-of-cloud-computing/) - starting get_files https://techcrunch.com/2024/07/07/cios-concerns-over-generative-ai-echo-those-of-the-early-days-of-cloud-computing/\n",
      "2024-07-07 18:18:45,527 - AInewsbot - INFO - get_url(What strategies can business and technology leaders adopt to effectively balance immediate AI investments with long-term sustainability objectives?  Intelligent CIO Europe) - Saving What_strategies_can_business_and_technology_leaders_adopt_to_effectively_balance_immediate_AI_investments_with_long-term_sustainability_objectives___Intelligent_CIO_Europe_20240707_181845.html as utf-8\n",
      "2024-07-07 18:18:45,529 - AInewsbot - INFO - Processing https://www.nextgov.com/artificial-intelligence/2024/07/us-intelligence-community-embracing-generative-ai/397849/\n",
      "2024-07-07 18:18:45,529 - AInewsbot - INFO - get_url(https://www.nextgov.com/artificial-intelligence/2024/07/us-intelligence-community-embracing-generative-ai/397849/) - starting get_files https://www.nextgov.com/artificial-intelligence/2024/07/us-intelligence-community-embracing-generative-ai/397849/\n",
      "2024-07-07 18:18:46,819 - AInewsbot - INFO - get_url(How Cohere CEO Aidan Gomez Says AI Will Directly Profit Companies) - Saving How_Cohere_CEO_Aidan_Gomez_Says_AI_Will_Directly_Profit_Companies_20240707_181846.html as utf-8\n",
      "2024-07-07 18:18:46,822 - AInewsbot - INFO - Processing https://news.google.com/articles/CBMiX2h0dHBzOi8vd3d3LnRlY2hyYWRhci5jb20vcHJvL3Bhc3N3b3Jkcy1hcmUtcGFzc2UtZ2VuYWktZGVtYW5kcy1uZXctbWV0aG9kcy1vZi1kaWdpdGFsLXNlY3VyaXR50gEA\n",
      "2024-07-07 18:18:46,823 - AInewsbot - INFO - get_url(https://news.google.com/articles/CBMiX2h0dHBzOi8vd3d3LnRlY2hyYWRhci5jb20vcHJvL3Bhc3N3b3Jkcy1hcmUtcGFzc2UtZ2VuYWktZGVtYW5kcy1uZXctbWV0aG9kcy1vZi1kaWdpdGFsLXNlY3VyaXR50gEA) - starting get_files https://news.google.com/articles/CBMiX2h0dHBzOi8vd3d3LnRlY2hyYWRhci5jb20vcHJvL3Bhc3N3b3Jkcy1hcmUtcGFzc2UtZ2VuYWktZGVtYW5kcy1uZXctbWV0aG9kcy1vZi1kaWdpdGFsLXNlY3VyaXR50gEA\n",
      "2024-07-07 18:18:47,113 - AInewsbot - INFO - get_url(In the age of AI, the role of the CAIO will be indispensable (and here's why)) - Saving In_the_age_of_AI__the_role_of_the_CAIO_will_be_indispensable__and_here_s_why__20240707_181847.html as utf-8\n",
      "2024-07-07 18:18:47,114 - AInewsbot - INFO - Processing https://www.reddit.com/r/technology/comments/1dx38gy/tokens_are_a_big_reason_todays_generative_ai/\n",
      "2024-07-07 18:18:47,114 - AInewsbot - INFO - get_url(https://www.reddit.com/r/technology/comments/1dx38gy/tokens_are_a_big_reason_todays_generative_ai/) - starting get_files https://www.reddit.com/r/technology/comments/1dx38gy/tokens_are_a_big_reason_todays_generative_ai/\n",
      "2024-07-07 18:18:55,174 - AInewsbot - INFO - get_url(CIOs concerns over generative AI echo those of the early days of cloud computing) - Saving CIOs_concerns_over_generative_AI_echo_those_of_the_early_days_of_cloud_computing_20240707_181855.html as utf-8\n",
      "2024-07-07 18:18:55,176 - AInewsbot - INFO - Processing https://www.economist.com/finance-and-economics/2024/07/02/what-happened-to-the-artificial-intelligence-revolution\n",
      "2024-07-07 18:18:55,176 - AInewsbot - INFO - get_url(https://www.economist.com/finance-and-economics/2024/07/02/what-happened-to-the-artificial-intelligence-revolution) - starting get_files https://www.economist.com/finance-and-economics/2024/07/02/what-happened-to-the-artificial-intelligence-revolution\n",
      "2024-07-07 18:18:56,725 - AInewsbot - INFO - get_url(US intelligence community is embracing generative AI) - Saving US_intelligence_community_is_embracing_generative_AI_20240707_181856.html as utf-8\n",
      "2024-07-07 18:18:56,728 - AInewsbot - INFO - Processing https://www.theverge.com/2024/7/7/24193768/using-chatgpt-for-coding-help-is-a-fraught-endeavor\n",
      "2024-07-07 18:18:56,729 - AInewsbot - INFO - get_url(https://www.theverge.com/2024/7/7/24193768/using-chatgpt-for-coding-help-is-a-fraught-endeavor) - starting get_files https://www.theverge.com/2024/7/7/24193768/using-chatgpt-for-coding-help-is-a-fraught-endeavor\n",
      "2024-07-07 18:18:57,451 - AInewsbot - INFO - get_url(Passwords are passe: GenAI demands new methods of digital security) - Saving Passwords_are_passe__GenAI_demands_new_methods_of_digital_security_20240707_181857.html as utf-8\n",
      "2024-07-07 18:18:57,452 - AInewsbot - INFO - Processing https://news.google.com/articles/CBMiX2h0dHBzOi8vZm9ydHVuZS5jb20vMjAyNC8wNy8wMi9iaWxsLWdhdGVzLWxlb3BvbGQtYXNjaGVuYnJlbm5lci10cmVhdGlzZS1hZ2ktc3VwZXJpbnRlbGxpZ2VuY2Uv0gEA\n",
      "2024-07-07 18:18:57,452 - AInewsbot - INFO - get_url(https://news.google.com/articles/CBMiX2h0dHBzOi8vZm9ydHVuZS5jb20vMjAyNC8wNy8wMi9iaWxsLWdhdGVzLWxlb3BvbGQtYXNjaGVuYnJlbm5lci10cmVhdGlzZS1hZ2ktc3VwZXJpbnRlbGxpZ2VuY2Uv0gEA) - starting get_files https://news.google.com/articles/CBMiX2h0dHBzOi8vZm9ydHVuZS5jb20vMjAyNC8wNy8wMi9iaWxsLWdhdGVzLWxlb3BvbGQtYXNjaGVuYnJlbm5lci10cmVhdGlzZS1hZ2ktc3VwZXJpbnRlbGxpZ2VuY2Uv0gEA\n",
      "2024-07-07 18:19:01,120 - AInewsbot - INFO - get_url(Tokens are a big reason todays generative AI falls short) - Saving Tokens_are_a_big_reason_todays_generative_AI_falls_short_20240707_181901.html as utf-8\n",
      "2024-07-07 18:19:01,122 - AInewsbot - INFO - Processing https://www.tomshardware.com/tech-industry/artificial-intelligence/ai-models-that-cost-dollar1-billion-to-train-are-in-development-dollar100-billion-models-coming-soon-largest-current-models-take-only-dollar100-million-to-train-anthropic-ceo\n",
      "2024-07-07 18:19:01,123 - AInewsbot - INFO - get_url(https://www.tomshardware.com/tech-industry/artificial-intelligence/ai-models-that-cost-dollar1-billion-to-train-are-in-development-dollar100-billion-models-coming-soon-largest-current-models-take-only-dollar100-million-to-train-anthropic-ceo) - starting get_files https://www.tomshardware.com/tech-industry/artificial-intelligence/ai-models-that-cost-dollar1-billion-to-train-are-in-development-dollar100-billion-models-coming-soon-largest-current-models-take-only-dollar100-million-to-train-anthropic-ceo\n",
      "2024-07-07 18:19:06,048 - AInewsbot - INFO - get_url(What happened to the artificial-intelligence revolution?) - Saving What_happened_to_the_artificial-intelligence_revolution__20240707_181906.html as utf-8\n"
     ]
    },
    {
     "name": "stderr",
     "output_type": "stream",
     "text": [
      "2024-07-07 18:19:06,049 - AInewsbot - INFO - Processing https://www.digitaltrends.com/computing/anthropic-ai-benchmark-funding-program/\n",
      "2024-07-07 18:19:06,050 - AInewsbot - INFO - get_url(https://www.digitaltrends.com/computing/anthropic-ai-benchmark-funding-program/) - starting get_files https://www.digitaltrends.com/computing/anthropic-ai-benchmark-funding-program/\n",
      "2024-07-07 18:19:07,130 - AInewsbot - INFO - get_url(When AI models are past their prime.) - Saving When_AI_models_are_past_their_prime__20240707_181907.html as utf-8\n",
      "2024-07-07 18:19:07,131 - AInewsbot - INFO - Processing https://thehill.com/policy/technology/4752365-regulation-nonconsensual-explicit-deepfakes/\n",
      "2024-07-07 18:19:07,131 - AInewsbot - INFO - get_url(https://thehill.com/policy/technology/4752365-regulation-nonconsensual-explicit-deepfakes/) - starting get_files https://thehill.com/policy/technology/4752365-regulation-nonconsensual-explicit-deepfakes/\n",
      "2024-07-07 18:19:08,665 - AInewsbot - INFO - get_url(A former OpenAI researcher sees a clear path to AGI this decade. Bill Gates disagrees) - Saving A_former_OpenAI_researcher_sees_a_clear_path_to_AGI_this_decade__Bill_Gates_disagrees_20240707_181908.html as utf-8\n",
      "2024-07-07 18:19:08,667 - AInewsbot - INFO - Processing https://news.google.com/articles/CBMiuwFodHRwczovL3d3dy53ZmFhLmNvbS92aWRlby9uZXdzL3BvbGl0aWNzL3lhbGwtaXRpY3MvdGV4YXMtdGVlbi13b3Jrcy10by1wcm90ZWN0LXZpY3RpbXMtb2Ytbm9uLWNvbnNlbnN1YWwtcmVhbC1hbmQtYWktcG9ybi15YWxsLWl0aWNzLWp1bmUtMjctMjAyNC8yODctOGVlZjAyN2QtYmIxOS00Y2UwLWJjNjQtZDNmNjI5MDMxNmJi0gEA\n",
      "2024-07-07 18:19:08,668 - AInewsbot - INFO - get_url(https://news.google.com/articles/CBMiuwFodHRwczovL3d3dy53ZmFhLmNvbS92aWRlby9uZXdzL3BvbGl0aWNzL3lhbGwtaXRpY3MvdGV4YXMtdGVlbi13b3Jrcy10by1wcm90ZWN0LXZpY3RpbXMtb2Ytbm9uLWNvbnNlbnN1YWwtcmVhbC1hbmQtYWktcG9ybi15YWxsLWl0aWNzLWp1bmUtMjctMjAyNC8yODctOGVlZjAyN2QtYmIxOS00Y2UwLWJjNjQtZDNmNjI5MDMxNmJi0gEA) - starting get_files https://news.google.com/articles/CBMiuwFodHRwczovL3d3dy53ZmFhLmNvbS92aWRlby9uZXdzL3BvbGl0aWNzL3lhbGwtaXRpY3MvdGV4YXMtdGVlbi13b3Jrcy10by1wcm90ZWN0LXZpY3RpbXMtb2Ytbm9uLWNvbnNlbnN1YWwtcmVhbC1hbmQtYWktcG9ybi15YWxsLWl0aWNzLWp1bmUtMjctMjAyNC8yODctOGVlZjAyN2QtYmIxOS00Y2UwLWJjNjQtZDNmNjI5MDMxNmJi0gEA\n",
      "2024-07-07 18:19:12,041 - AInewsbot - INFO - get_url(AI models that cost $1 billion to train are underway, $100 billion models coming  largest current models take 'only' $100 million to train: Anthropic CEO) - Saving AI_models_that_cost__1_billion_to_train_are_underway___100_billion_models_coming__largest_current_models_take__only___100_million_to_train__Anthropic_CEO_20240707_181912.html as utf-8\n",
      "2024-07-07 18:19:12,044 - AInewsbot - INFO - Processing https://news.google.com/articles/CBMic2h0dHBzOi8vd3d3LnB5bW50cy5jb20vYXJ0aWZpY2lhbC1pbnRlbGxpZ2VuY2UtMi8yMDI0L2dlbmFpLWhlbHBzLWRyaXZlLTExOHBlcmNlbnQtaW5jcmVhc2UtaW4tam9iLXNjYW1zLWl0cmMtc2F5cy_SAQA\n",
      "2024-07-07 18:19:12,045 - AInewsbot - INFO - get_url(https://news.google.com/articles/CBMic2h0dHBzOi8vd3d3LnB5bW50cy5jb20vYXJ0aWZpY2lhbC1pbnRlbGxpZ2VuY2UtMi8yMDI0L2dlbmFpLWhlbHBzLWRyaXZlLTExOHBlcmNlbnQtaW5jcmVhc2UtaW4tam9iLXNjYW1zLWl0cmMtc2F5cy_SAQA) - starting get_files https://news.google.com/articles/CBMic2h0dHBzOi8vd3d3LnB5bW50cy5jb20vYXJ0aWZpY2lhbC1pbnRlbGxpZ2VuY2UtMi8yMDI0L2dlbmFpLWhlbHBzLWRyaXZlLTExOHBlcmNlbnQtaW5jcmVhc2UtaW4tam9iLXNjYW1zLWl0cmMtc2F5cy_SAQA\n",
      "2024-07-07 18:19:17,069 - AInewsbot - INFO - get_url(Anthropic aims to fix one of the biggest problems in AI right now) - Saving Anthropic_aims_to_fix_one_of_the_biggest_problems_in_AI_right_now_20240707_181917.html as utf-8\n",
      "2024-07-07 18:19:17,070 - AInewsbot - INFO - Processing https://news.google.com/articles/CBMia2h0dHBzOi8vd3d3LmNuYmMuY29tLzIwMjQvMDcvMDcvam9iLXNjYW1zLXN1cmdlZC0xMThwZXJjZW50LWluLTIwMjMtYWlkZWQtYnktYWktaGVyZXMtaG93LXRvLXN0b3AtdGhlbS5odG1s0gFvaHR0cHM6Ly93d3cuY25iYy5jb20vYW1wLzIwMjQvMDcvMDcvam9iLXNjYW1zLXN1cmdlZC0xMThwZXJjZW50LWluLTIwMjMtYWlkZWQtYnktYWktaGVyZXMtaG93LXRvLXN0b3AtdGhlbS5odG1s\n",
      "2024-07-07 18:19:17,070 - AInewsbot - INFO - get_url(https://news.google.com/articles/CBMia2h0dHBzOi8vd3d3LmNuYmMuY29tLzIwMjQvMDcvMDcvam9iLXNjYW1zLXN1cmdlZC0xMThwZXJjZW50LWluLTIwMjMtYWlkZWQtYnktYWktaGVyZXMtaG93LXRvLXN0b3AtdGhlbS5odG1s0gFvaHR0cHM6Ly93d3cuY25iYy5jb20vYW1wLzIwMjQvMDcvMDcvam9iLXNjYW1zLXN1cmdlZC0xMThwZXJjZW50LWluLTIwMjMtYWlkZWQtYnktYWktaGVyZXMtaG93LXRvLXN0b3AtdGhlbS5odG1s) - starting get_files https://news.google.com/articles/CBMia2h0dHBzOi8vd3d3LmNuYmMuY29tLzIwMjQvMDcvMDcvam9iLXNjYW1zLXN1cmdlZC0xMThwZXJjZW50LWluLTIwMjMtYWlkZWQtYnktYWktaGVyZXMtaG93LXRvLXN0b3AtdGhlbS5odG1s0gFvaHR0cHM6Ly93d3cuY25iYy5jb20vYW1wLzIwMjQvMDcvMDcvam9iLXNjYW1zLXN1cmdlZC0xMThwZXJjZW50LWluLTIwMjMtYWlkZWQtYnktYWktaGVyZXMtaG93LXRvLXN0b3AtdGhlbS5odG1s\n",
      "2024-07-07 18:19:17,725 - AInewsbot - INFO - get_url(How Congress is fighting the rise of nonconsensual AI porn) - Saving How_Congress_is_fighting_the_rise_of_nonconsensual_AI_porn_20240707_181917.html as utf-8\n",
      "2024-07-07 18:19:17,728 - AInewsbot - INFO - Processing https://techcrunch.com/2024/07/03/cloudflare-launches-a-tool-to-combat-ai-bots\n",
      "2024-07-07 18:19:17,729 - AInewsbot - INFO - get_url(https://techcrunch.com/2024/07/03/cloudflare-launches-a-tool-to-combat-ai-bots) - starting get_files https://techcrunch.com/2024/07/03/cloudflare-launches-a-tool-to-combat-ai-bots\n",
      "2024-07-07 18:19:18,975 - AInewsbot - INFO - get_url(Texas teen works to protect victims of non-consensual real and AI porn | Y'all-itics: June 27, 2024) - Saving Texas_teen_works_to_protect_victims_of_non-consensual_real_and_AI_porn___Y_all-itics__June_27__2024_20240707_181918.html as utf-8\n",
      "2024-07-07 18:19:18,977 - AInewsbot - INFO - Processing https://theconversation.com/computer-love-ai-powered-chatbots-are-changing-how-we-understand-romantic-and-sexual-well-being-234054\n",
      "2024-07-07 18:19:18,978 - AInewsbot - INFO - get_url(https://theconversation.com/computer-love-ai-powered-chatbots-are-changing-how-we-understand-romantic-and-sexual-well-being-234054) - starting get_files https://theconversation.com/computer-love-ai-powered-chatbots-are-changing-how-we-understand-romantic-and-sexual-well-being-234054\n",
      "2024-07-07 18:19:22,441 - AInewsbot - INFO - get_url(GenAI Helps Drive 118% Increase in Job Scams, ITRC Says) - Saving GenAI_Helps_Drive_118__Increase_in_Job_Scams__ITRC_Says_20240707_181922.html as utf-8\n",
      "2024-07-07 18:19:22,443 - AInewsbot - INFO - Processing https://www.reddit.com/r/technology/comments/1dxhln5/real_criminals_fake_victims_how_chatbots_are/\n",
      "2024-07-07 18:19:22,445 - AInewsbot - INFO - get_url(https://www.reddit.com/r/technology/comments/1dxhln5/real_criminals_fake_victims_how_chatbots_are/) - starting get_files https://www.reddit.com/r/technology/comments/1dxhln5/real_criminals_fake_victims_how_chatbots_are/\n",
      "2024-07-07 18:19:27,445 - AInewsbot - INFO - get_url(Job scams surged 118% in 2023, aided by AI. Here's how to stop them) - Saving Job_scams_surged_118__in_2023__aided_by_AI__Here_s_how_to_stop_them_20240707_181927.html as utf-8\n",
      "2024-07-07 18:19:27,449 - AInewsbot - INFO - Processing https://www.looper.com/1613987/ai-1950s-the-fifth-element-movie-trailer-freaky/\n",
      "2024-07-07 18:19:27,449 - AInewsbot - INFO - get_url(https://www.looper.com/1613987/ai-1950s-the-fifth-element-movie-trailer-freaky/) - starting get_files https://www.looper.com/1613987/ai-1950s-the-fifth-element-movie-trailer-freaky/\n",
      "2024-07-07 18:19:30,445 - AInewsbot - INFO - get_url(Computer love: AI-powered chatbots are changing how we understand romantic and sexual well-being) - Saving Computer_love__AI-powered_chatbots_are_changing_how_we_understand_romantic_and_sexual_well-being_20240707_181930.html as utf-8\n",
      "2024-07-07 18:19:30,447 - AInewsbot - INFO - Processing https://www.unilad.com/film-and-tv/news/family-guy-live-action-ai-831421-20240705\n",
      "2024-07-07 18:19:30,448 - AInewsbot - INFO - get_url(https://www.unilad.com/film-and-tv/news/family-guy-live-action-ai-831421-20240705) - starting get_files https://www.unilad.com/film-and-tv/news/family-guy-live-action-ai-831421-20240705\n",
      "2024-07-07 18:19:31,629 - AInewsbot - INFO - get_url(Cloudflare launches a tool to combat AI bots) - Saving Cloudflare_launches_a_tool_to_combat_AI_bots_20240707_181931.html as utf-8\n",
      "2024-07-07 18:19:31,631 - AInewsbot - INFO - Processing https://www.reddit.com/r/ChatGPT/comments/1dxf72r/next_level_image_gen_i_can_see_why_artists_are/\n"
     ]
    },
    {
     "name": "stderr",
     "output_type": "stream",
     "text": [
      "2024-07-07 18:19:31,631 - AInewsbot - INFO - get_url(https://www.reddit.com/r/ChatGPT/comments/1dxf72r/next_level_image_gen_i_can_see_why_artists_are/) - starting get_files https://www.reddit.com/r/ChatGPT/comments/1dxf72r/next_level_image_gen_i_can_see_why_artists_are/\n",
      "2024-07-07 18:19:33,313 - AInewsbot - INFO - get_url(Real criminals, fake victims: how chatbots are being deployed in the global fight against phone scammers) - Saving Real_criminals__fake_victims__how_chatbots_are_being_deployed_in_the_global_fight_against_phone_scammers_20240707_181933.html as utf-8\n",
      "2024-07-07 18:19:33,314 - AInewsbot - INFO - Processing https://www.forbes.com/sites/lanceeliot/2024/07/07/trend-of-hurkle-durkling-in-bed-gets-boosted-to-high-form-via-modern-generative-ai/\n",
      "2024-07-07 18:19:33,314 - AInewsbot - INFO - get_url(https://www.forbes.com/sites/lanceeliot/2024/07/07/trend-of-hurkle-durkling-in-bed-gets-boosted-to-high-form-via-modern-generative-ai/) - starting get_files https://www.forbes.com/sites/lanceeliot/2024/07/07/trend-of-hurkle-durkling-in-bed-gets-boosted-to-high-form-via-modern-generative-ai/\n",
      "2024-07-07 18:19:38,173 - AInewsbot - INFO - get_url(AI Creates A 1950s The Fifth Element Movie Trailer & It's Freaky) - Saving AI_Creates_A_1950s_The_Fifth_Element_Movie_Trailer___It_s_Freaky_20240707_181938.html as utf-8\n",
      "2024-07-07 18:19:38,174 - AInewsbot - INFO - Processing https://analyticsindiamag.com/fashion-gets-a-generative-ai-makeover/\n",
      "2024-07-07 18:19:38,175 - AInewsbot - INFO - get_url(https://analyticsindiamag.com/fashion-gets-a-generative-ai-makeover/) - starting get_files https://analyticsindiamag.com/fashion-gets-a-generative-ai-makeover/\n",
      "2024-07-07 18:19:40,898 - AInewsbot - INFO - get_url(AI turns Family Guy into a 1980s live action sitcom and the results are freaky) - Saving AI_turns_Family_Guy_into_a_1980s_live_action_sitcom_and_the_results_are_freaky_20240707_181940.html as utf-8\n",
      "2024-07-07 18:19:40,900 - AInewsbot - INFO - Processing https://www.digitaltrends.com/computing/meta-3d-gen-ai-retexture/\n",
      "2024-07-07 18:19:40,900 - AInewsbot - INFO - get_url(https://www.digitaltrends.com/computing/meta-3d-gen-ai-retexture/) - starting get_files https://www.digitaltrends.com/computing/meta-3d-gen-ai-retexture/\n",
      "2024-07-07 18:19:43,767 - AInewsbot - INFO - get_url(next level image gen, i can see why artists are going out of business) - Saving next_level_image_gen__i_can_see_why_artists_are_going_out_of_business_20240707_181943.html as utf-8\n",
      "2024-07-07 18:19:43,770 - AInewsbot - INFO - Processing https://www.surrey.ac.uk/news/german-court-allows-patents-ai-generated-inventions\n",
      "2024-07-07 18:19:43,771 - AInewsbot - INFO - get_url(https://www.surrey.ac.uk/news/german-court-allows-patents-ai-generated-inventions) - starting get_files https://www.surrey.ac.uk/news/german-court-allows-patents-ai-generated-inventions\n",
      "2024-07-07 18:19:46,231 - AInewsbot - INFO - get_url(Trend Of Hurkle-Durkling In Bed Gets Boosted To High Form Via Modern Generative AI) - Saving Trend_Of_Hurkle-Durkling_In_Bed_Gets_Boosted_To_High_Form_Via_Modern_Generative_AI_20240707_181946.html as utf-8\n",
      "2024-07-07 18:19:46,233 - AInewsbot - INFO - Processing https://hackernoon.com/does-generative-ai-violate-the-rights-of-authors-and-artists\n",
      "2024-07-07 18:19:46,234 - AInewsbot - INFO - get_url(https://hackernoon.com/does-generative-ai-violate-the-rights-of-authors-and-artists) - starting get_files https://hackernoon.com/does-generative-ai-violate-the-rights-of-authors-and-artists\n",
      "2024-07-07 18:19:49,428 - AInewsbot - INFO - get_url(Fashion Gets a Generative AI Makeover) - Saving Fashion_Gets_a_Generative_AI_Makeover_20240707_181949.html as utf-8\n",
      "2024-07-07 18:19:49,430 - AInewsbot - INFO - Processing https://news.google.com/articles/CBMiR2h0dHBzOi8vd3d3LmNpbmVkLmNvbS9pcy10aGUtZmlyc3QtZ2VuZXJhdGl2ZS1haS1jYW1lcmEtb24tdGhlLWhvcml6b24v0gEA\n",
      "2024-07-07 18:19:49,430 - AInewsbot - INFO - get_url(https://news.google.com/articles/CBMiR2h0dHBzOi8vd3d3LmNpbmVkLmNvbS9pcy10aGUtZmlyc3QtZ2VuZXJhdGl2ZS1haS1jYW1lcmEtb24tdGhlLWhvcml6b24v0gEA) - starting get_files https://news.google.com/articles/CBMiR2h0dHBzOi8vd3d3LmNpbmVkLmNvbS9pcy10aGUtZmlyc3QtZ2VuZXJhdGl2ZS1haS1jYW1lcmEtb24tdGhlLWhvcml6b24v0gEA\n",
      "2024-07-07 18:19:51,955 - AInewsbot - INFO - get_url(Metas new AI model can turn text into 3D images in under a minute) - Saving Metas_new_AI_model_can_turn_text_into_3D_images_in_under_a_minute_20240707_181951.html as utf-8\n",
      "2024-07-07 18:19:51,957 - AInewsbot - INFO - Processing https://www.forbes.com/sites/chriswestfall/2024/07/07/openai-powered-humanoid-robot-fills-spot-at-bmw-assembly-plant/\n",
      "2024-07-07 18:19:51,957 - AInewsbot - INFO - get_url(https://www.forbes.com/sites/chriswestfall/2024/07/07/openai-powered-humanoid-robot-fills-spot-at-bmw-assembly-plant/) - starting get_files https://www.forbes.com/sites/chriswestfall/2024/07/07/openai-powered-humanoid-robot-fills-spot-at-bmw-assembly-plant/\n",
      "2024-07-07 18:19:55,038 - AInewsbot - INFO - get_url(German court allows patents for AI-generated inventions) - Saving German_court_allows_patents_for_AI-generated_inventions_20240707_181955.html as utf-8\n",
      "2024-07-07 18:19:55,041 - AInewsbot - INFO - Processing https://news.google.com/articles/CBMicGh0dHBzOi8vYmxvZy5hZGFmcnVpdC5jb20vMjAyNC8wNy8wNi9maWd1cmUtMDEtY29mZmVlLW1ha2luZy1odW1hbm9pZC1yb2JvdC1ub3ctc2hvd3MtY2FyLWFzc2VtYmx5LXNraWxsLWF0LWJtdy_SAQA\n",
      "2024-07-07 18:19:55,044 - AInewsbot - INFO - get_url(https://news.google.com/articles/CBMicGh0dHBzOi8vYmxvZy5hZGFmcnVpdC5jb20vMjAyNC8wNy8wNi9maWd1cmUtMDEtY29mZmVlLW1ha2luZy1odW1hbm9pZC1yb2JvdC1ub3ctc2hvd3MtY2FyLWFzc2VtYmx5LXNraWxsLWF0LWJtdy_SAQA) - starting get_files https://news.google.com/articles/CBMicGh0dHBzOi8vYmxvZy5hZGFmcnVpdC5jb20vMjAyNC8wNy8wNi9maWd1cmUtMDEtY29mZmVlLW1ha2luZy1odW1hbm9pZC1yb2JvdC1ub3ctc2hvd3MtY2FyLWFzc2VtYmx5LXNraWxsLWF0LWJtdy_SAQA\n",
      "2024-07-07 18:19:56,835 - AInewsbot - INFO - get_url(Does Generative AI Violate the Rights of Authors and Artists?) - Saving Does_Generative_AI_Violate_the_Rights_of_Authors_and_Artists__20240707_181956.html as utf-8\n",
      "2024-07-07 18:19:56,836 - AInewsbot - INFO - Processing https://news.google.com/articles/CBMiMmh0dHBzOi8vbmV3YXRsYXMuY29tL3JvYm90aWNzL2ZpZ3VyZS1odW1hbm9pZC1ibXcv0gEA\n",
      "2024-07-07 18:19:56,836 - AInewsbot - INFO - get_url(https://news.google.com/articles/CBMiMmh0dHBzOi8vbmV3YXRsYXMuY29tL3JvYm90aWNzL2ZpZ3VyZS1odW1hbm9pZC1ibXcv0gEA) - starting get_files https://news.google.com/articles/CBMiMmh0dHBzOi8vbmV3YXRsYXMuY29tL3JvYm90aWNzL2ZpZ3VyZS1odW1hbm9pZC1ibXcv0gEA\n",
      "2024-07-07 18:20:00,234 - AInewsbot - INFO - get_url(Is the First Generative AI Camera on the Horizon?) - Saving Is_the_First_Generative_AI_Camera_on_the_Horizon__20240707_182000.html as utf-8\n",
      "2024-07-07 18:20:00,235 - AInewsbot - INFO - Processing https://news.google.com/articles/CBMiXmh0dHBzOi8vaW50ZXJlc3RpbmdlbmdpbmVlcmluZy5jb20vaW5ub3ZhdGlvbi91cy1maWd1cmUtaHVtYW5vaWQtc3RhcnQtb3BlcmF0aW9ucy1hdC1ibXctcGxhbnTSAQA\n",
      "2024-07-07 18:20:00,236 - AInewsbot - INFO - get_url(https://news.google.com/articles/CBMiXmh0dHBzOi8vaW50ZXJlc3RpbmdlbmdpbmVlcmluZy5jb20vaW5ub3ZhdGlvbi91cy1maWd1cmUtaHVtYW5vaWQtc3RhcnQtb3BlcmF0aW9ucy1hdC1ibXctcGxhbnTSAQA) - starting get_files https://news.google.com/articles/CBMiXmh0dHBzOi8vaW50ZXJlc3RpbmdlbmdpbmVlcmluZy5jb20vaW5ub3ZhdGlvbi91cy1maWd1cmUtaHVtYW5vaWQtc3RhcnQtb3BlcmF0aW9ucy1hdC1ibXctcGxhbnTSAQA\n",
      "2024-07-07 18:20:03,424 - AInewsbot - INFO - get_url(OpenAI-Powered Humanoid Robot Fills Spot At BMW Assembly Plant) - Saving OpenAI-Powered_Humanoid_Robot_Fills_Spot_At_BMW_Assembly_Plant_20240707_182003.html as utf-8\n",
      "2024-07-07 18:20:03,427 - AInewsbot - INFO - Processing https://thenewstack.io/official-pytorch-documentary-revisits-its-past-and-its-future/\n",
      "2024-07-07 18:20:03,428 - AInewsbot - INFO - get_url(https://thenewstack.io/official-pytorch-documentary-revisits-its-past-and-its-future/) - starting get_files https://thenewstack.io/official-pytorch-documentary-revisits-its-past-and-its-future/\n",
      "2024-07-07 18:20:05,427 - AInewsbot - INFO - get_url(Figure 01: Coffee-making humanoid robot now shows car assembly skill at BMW) - Saving Figure_01__Coffee-making_humanoid_robot_now_shows_car_assembly_skill_at_BMW_20240707_182005.html as utf-8\n"
     ]
    },
    {
     "name": "stderr",
     "output_type": "stream",
     "text": [
      "2024-07-07 18:20:05,428 - AInewsbot - INFO - Processing https://www.reddit.com/r/technology/comments/1dx7p3r/perseverance_triumphs_how_sherloc_was_brought/\n",
      "2024-07-07 18:20:05,429 - AInewsbot - INFO - get_url(https://www.reddit.com/r/technology/comments/1dx7p3r/perseverance_triumphs_how_sherloc_was_brought/) - starting get_files https://www.reddit.com/r/technology/comments/1dx7p3r/perseverance_triumphs_how_sherloc_was_brought/\n",
      "2024-07-07 18:20:09,689 - AInewsbot - INFO - get_url(Video: Figure 01 humanoid trains for its first job assembling BMWs) - Saving Video__Figure_01_humanoid_trains_for_its_first_job_assembling_BMWs_20240707_182009.html as utf-8\n",
      "2024-07-07 18:20:09,691 - AInewsbot - INFO - Processing https://www.reddit.com/r/tech/comments/1dxeodw/400_robotic_surgeries_98_survival_rate_saudi/\n",
      "2024-07-07 18:20:09,691 - AInewsbot - INFO - get_url(https://www.reddit.com/r/tech/comments/1dxeodw/400_robotic_surgeries_98_survival_rate_saudi/) - starting get_files https://www.reddit.com/r/tech/comments/1dxeodw/400_robotic_surgeries_98_survival_rate_saudi/\n",
      "2024-07-07 18:20:10,702 - AInewsbot - INFO - get_url(Watch: Figure's 01 humanoids now working at BMW's car plant in US) - Saving Watch__Figure_s_01_humanoids_now_working_at_BMW_s_car_plant_in_US_20240707_182010.html as utf-8\n",
      "2024-07-07 18:20:10,704 - AInewsbot - INFO - Processing https://news.google.com/articles/CBMiNGh0dHBzOi8vd3d3Lm5hbm90ZWNoLW5vdy5jb20vbmV3cy5jZ2k_c3RvcnlfaWQ9NTc0OTfSAQA\n",
      "2024-07-07 18:20:10,705 - AInewsbot - INFO - get_url(https://news.google.com/articles/CBMiNGh0dHBzOi8vd3d3Lm5hbm90ZWNoLW5vdy5jb20vbmV3cy5jZ2k_c3RvcnlfaWQ9NTc0OTfSAQA) - starting get_files https://news.google.com/articles/CBMiNGh0dHBzOi8vd3d3Lm5hbm90ZWNoLW5vdy5jb20vbmV3cy5jZ2k_c3RvcnlfaWQ9NTc0OTfSAQA\n",
      "2024-07-07 18:20:14,917 - AInewsbot - INFO - get_url(Official PyTorch Documentary Revisits Its Past, and Its Future) - Saving Official_PyTorch_Documentary_Revisits_Its_Past__and_Its_Future_20240707_182014.html as utf-8\n",
      "2024-07-07 18:20:14,918 - AInewsbot - INFO - Processing https://www.reddit.com/r/tech/comments/1dxf0nq/step_aside_futurama_scientist_build_robot_thats/\n",
      "2024-07-07 18:20:14,918 - AInewsbot - INFO - get_url(https://www.reddit.com/r/tech/comments/1dxf0nq/step_aside_futurama_scientist_build_robot_thats/) - starting get_files https://www.reddit.com/r/tech/comments/1dxf0nq/step_aside_futurama_scientist_build_robot_thats/\n",
      "2024-07-07 18:20:16,564 - AInewsbot - INFO - get_url(Perseverance Triumphs: How SHERLOC Was Brought Back to Life on Mars) - Saving Perseverance_Triumphs__How_SHERLOC_Was_Brought_Back_to_Life_on_Mars_20240707_182016.html as utf-8\n",
      "2024-07-07 18:20:16,565 - AInewsbot - INFO - Processing https://www.marktechpost.com/2024/07/07/policy-learning-with-large-world-models-advancing-multi-task-reinforcement-learning-efficiency-and-performance/\n",
      "2024-07-07 18:20:16,565 - AInewsbot - INFO - get_url(https://www.marktechpost.com/2024/07/07/policy-learning-with-large-world-models-advancing-multi-task-reinforcement-learning-efficiency-and-performance/) - starting get_files https://www.marktechpost.com/2024/07/07/policy-learning-with-large-world-models-advancing-multi-task-reinforcement-learning-efficiency-and-performance/\n",
      "2024-07-07 18:20:20,851 - AInewsbot - INFO - get_url(400 robotic surgeries, 98% survival rate: Saudi hospital achieves milestone) - Saving 400_robotic_surgeries__98__survival_rate__Saudi_hospital_achieves_milestone_20240707_182020.html as utf-8\n",
      "2024-07-07 18:20:20,852 - AInewsbot - INFO - Processing https://www.marktechpost.com/2024/07/07/internlm2-5-7b-chat-open-sourcing-large-language-models-with-unmatched-reasoning-long-context-handling-and-enhanced-tool-use/\n",
      "2024-07-07 18:20:20,853 - AInewsbot - INFO - get_url(https://www.marktechpost.com/2024/07/07/internlm2-5-7b-chat-open-sourcing-large-language-models-with-unmatched-reasoning-long-context-handling-and-enhanced-tool-use/) - starting get_files https://www.marktechpost.com/2024/07/07/internlm2-5-7b-chat-open-sourcing-large-language-models-with-unmatched-reasoning-long-context-handling-and-enhanced-tool-use/\n",
      "2024-07-07 18:20:21,041 - AInewsbot - INFO - get_url(Press Release: A 2D device for quantum cooling:EPFL engineers have created a device that can efficiently convert heat into electrical voltage at temperatures lower than that of outer space. The innovation could help overcome a significant obstacle to the adva) - Saving Press_Release__A_2D_device_for_quantum_cooling_EPFL_engineers_have_created_a_device_that_can_efficiently_convert_heat_into_electrical_voltage_at_temperatures_lower_than_that_of_outer_space__The_innovation_could_help_overcome_a_signifi_20240707_182021.html as utf-8\n",
      "2024-07-07 18:20:21,042 - AInewsbot - INFO - Processing https://arxiv.org/abs/2407.02678\n",
      "2024-07-07 18:20:21,043 - AInewsbot - INFO - get_url(https://arxiv.org/abs/2407.02678) - starting get_files https://arxiv.org/abs/2407.02678\n",
      "2024-07-07 18:20:26,344 - AInewsbot - INFO - get_url(Step aside Futurama, scientist build robot that's controlled by a brain in a jar) - Saving Step_aside_Futurama__scientist_build_robot_that_s_controlled_by_a_brain_in_a_jar_20240707_182026.html as utf-8\n",
      "2024-07-07 18:20:26,346 - AInewsbot - INFO - Processing https://www.reddit.com/r/ChatGPT/comments/1dxd1yg/workplace_harrasment_diagram_by_chatgpt/\n",
      "2024-07-07 18:20:26,346 - AInewsbot - INFO - get_url(https://www.reddit.com/r/ChatGPT/comments/1dxd1yg/workplace_harrasment_diagram_by_chatgpt/) - starting get_files https://www.reddit.com/r/ChatGPT/comments/1dxd1yg/workplace_harrasment_diagram_by_chatgpt/\n",
      "2024-07-07 18:20:27,798 - AInewsbot - INFO - get_url(Policy Learning with Large World Models: Advancing Multi-Task Reinforcement Learning Efficiency and Performance) - Saving Policy_Learning_with_Large_World_Models__Advancing_Multi-Task_Reinforcement_Learning_Efficiency_and_Performance_20240707_182027.html as utf-8\n",
      "2024-07-07 18:20:27,799 - AInewsbot - INFO - Processing https://www.pcmag.com/news/openais-chatgpt-mac-app-was-saving-chats-as-plain-text\n",
      "2024-07-07 18:20:27,799 - AInewsbot - INFO - get_url(https://www.pcmag.com/news/openais-chatgpt-mac-app-was-saving-chats-as-plain-text) - starting get_files https://www.pcmag.com/news/openais-chatgpt-mac-app-was-saving-chats-as-plain-text\n",
      "2024-07-07 18:20:31,759 - AInewsbot - INFO - get_url(Reasoning in Large Language Models: A Geometric Perspective) - Saving Reasoning_in_Large_Language_Models__A_Geometric_Perspective_20240707_182031.html as utf-8\n",
      "2024-07-07 18:20:31,760 - AInewsbot - INFO - Processing https://www.marktechpost.com/2024/07/07/how-chatgpt-is-revolutionizing-customer-service-in-2024/\n",
      "2024-07-07 18:20:31,760 - AInewsbot - INFO - get_url(https://www.marktechpost.com/2024/07/07/how-chatgpt-is-revolutionizing-customer-service-in-2024/) - starting get_files https://www.marktechpost.com/2024/07/07/how-chatgpt-is-revolutionizing-customer-service-in-2024/\n",
      "2024-07-07 18:20:32,471 - AInewsbot - INFO - get_url(InternLM2.5-7B-Chat: Open Sourcing Large Language Models with Unmatched Reasoning, Long-Context Handling, and Enhanced Tool Use) - Saving InternLM2_5-7B-Chat__Open_Sourcing_Large_Language_Models_with_Unmatched_Reasoning__Long-Context_Handling__and_Enhanced_Tool_Use_20240707_182032.html as utf-8\n",
      "2024-07-07 18:20:32,474 - AInewsbot - INFO - Processing https://www.reddit.com/r/ChatGPT/comments/1dxexjh/what_are_some_creative_or_unexpected_uses_of/\n",
      "2024-07-07 18:20:32,475 - AInewsbot - INFO - get_url(https://www.reddit.com/r/ChatGPT/comments/1dxexjh/what_are_some_creative_or_unexpected_uses_of/) - starting get_files https://www.reddit.com/r/ChatGPT/comments/1dxexjh/what_are_some_creative_or_unexpected_uses_of/\n",
      "2024-07-07 18:20:37,061 - AInewsbot - INFO - get_url(Workplace harrasment diagram by chatGPT) - Saving Workplace_harrasment_diagram_by_chatGPT_20240707_182037.html as utf-8\n",
      "2024-07-07 18:20:37,062 - AInewsbot - INFO - Processing https://www.reddit.com/r/ChatGPT/comments/1dxmm0u/gpt4o_vs_gemini_15_pro_vs_claude_35_sonnet_only/\n",
      "2024-07-07 18:20:37,062 - AInewsbot - INFO - get_url(https://www.reddit.com/r/ChatGPT/comments/1dxmm0u/gpt4o_vs_gemini_15_pro_vs_claude_35_sonnet_only/) - starting get_files https://www.reddit.com/r/ChatGPT/comments/1dxmm0u/gpt4o_vs_gemini_15_pro_vs_claude_35_sonnet_only/\n"
     ]
    },
    {
     "name": "stderr",
     "output_type": "stream",
     "text": [
      "2024-07-07 18:20:38,159 - AInewsbot - INFO - get_url(OpenAI's ChatGPT Mac App Was Saving Chats as Plain Text) - Saving OpenAI_s_ChatGPT_Mac_App_Was_Saving_Chats_as_Plain_Text_20240707_182038.html as utf-8\n",
      "2024-07-07 18:20:38,161 - AInewsbot - INFO - Processing https://www.techradar.com/computing/websites-apps/i-learned-how-to-use-ai-generative-prompts-with-this-one-app\n",
      "2024-07-07 18:20:38,162 - AInewsbot - INFO - get_url(https://www.techradar.com/computing/websites-apps/i-learned-how-to-use-ai-generative-prompts-with-this-one-app) - starting get_files https://www.techradar.com/computing/websites-apps/i-learned-how-to-use-ai-generative-prompts-with-this-one-app\n",
      "2024-07-07 18:20:42,941 - AInewsbot - INFO - get_url(How ChatGPT is Revolutionizing Customer Service in 2024) - Saving How_ChatGPT_is_Revolutionizing_Customer_Service_in_2024_20240707_182042.html as utf-8\n",
      "2024-07-07 18:20:42,943 - AInewsbot - INFO - Processing https://news.google.com/articles/CBMiXmh0dHBzOi8vdmVudHVyZWJlYXQuY29tL2FpL21pdGlnYXRpbmctYWktYmlhcy13aXRoLXByb21wdC1lbmdpbmVlcmluZy1wdXR0aW5nLWdwdC10by10aGUtdGVzdC_SAQA\n",
      "2024-07-07 18:20:42,944 - AInewsbot - INFO - get_url(https://news.google.com/articles/CBMiXmh0dHBzOi8vdmVudHVyZWJlYXQuY29tL2FpL21pdGlnYXRpbmctYWktYmlhcy13aXRoLXByb21wdC1lbmdpbmVlcmluZy1wdXR0aW5nLWdwdC10by10aGUtdGVzdC_SAQA) - starting get_files https://news.google.com/articles/CBMiXmh0dHBzOi8vdmVudHVyZWJlYXQuY29tL2FpL21pdGlnYXRpbmctYWktYmlhcy13aXRoLXByb21wdC1lbmdpbmVlcmluZy1wdXR0aW5nLWdwdC10by10aGUtdGVzdC_SAQA\n",
      "2024-07-07 18:20:44,539 - AInewsbot - INFO - get_url(What are some creative or unexpected uses of ChatGPT youve discovered?) - Saving What_are_some_creative_or_unexpected_uses_of_ChatGPT_youve_discovered__20240707_182044.html as utf-8\n",
      "2024-07-07 18:20:44,541 - AInewsbot - INFO - Processing https://www.techradar.com/phones/samsung-galaxy-phones/samsung-galaxy-ai-could-soon-offer-real-time-translations-in-whatsapp\n",
      "2024-07-07 18:20:44,541 - AInewsbot - INFO - get_url(https://www.techradar.com/phones/samsung-galaxy-phones/samsung-galaxy-ai-could-soon-offer-real-time-translations-in-whatsapp) - starting get_files https://www.techradar.com/phones/samsung-galaxy-phones/samsung-galaxy-ai-could-soon-offer-real-time-translations-in-whatsapp\n",
      "2024-07-07 18:20:48,247 - AInewsbot - INFO - get_url(GPT-4o vs Gemini 1.5 Pro vs Claude 3.5 Sonnet. Only Claude calls astrology bullshit right away) - Saving GPT-4o_vs_Gemini_1_5_Pro_vs_Claude_3_5_Sonnet__Only_Claude_calls_astrology_bullshit_right_away_20240707_182048.html as utf-8\n",
      "2024-07-07 18:20:48,248 - AInewsbot - INFO - Processing https://www.theverge.com/2024/7/7/24193680/meta-ai-may-get-more-collaborative-in-whatsapp-for-android\n",
      "2024-07-07 18:20:48,248 - AInewsbot - INFO - get_url(https://www.theverge.com/2024/7/7/24193680/meta-ai-may-get-more-collaborative-in-whatsapp-for-android) - starting get_files https://www.theverge.com/2024/7/7/24193680/meta-ai-may-get-more-collaborative-in-whatsapp-for-android\n",
      "2024-07-07 18:20:48,538 - AInewsbot - INFO - get_url(I learned how to use AI generative prompts with this one app) - Saving I_learned_how_to_use_AI_generative_prompts_with_this_one_app_20240707_182048.html as utf-8\n",
      "2024-07-07 18:20:48,539 - AInewsbot - INFO - Processing https://www.androidauthority.com/whatsapp-meta-ai-update-3457975/\n",
      "2024-07-07 18:20:48,540 - AInewsbot - INFO - get_url(https://www.androidauthority.com/whatsapp-meta-ai-update-3457975/) - starting get_files https://www.androidauthority.com/whatsapp-meta-ai-update-3457975/\n",
      "2024-07-07 18:20:53,251 - AInewsbot - INFO - get_url(Mitigating AI bias with prompt engineering  putting GPT to the test) - Saving Mitigating_AI_bias_with_prompt_engineering__putting_GPT_to_the_test_20240707_182053.html as utf-8\n",
      "2024-07-07 18:20:53,254 - AInewsbot - INFO - Processing https://news.google.com/articles/CBMiX2h0dHBzOi8vY3liZXJndXkuY29tL3NjYW1zL25ldy1jeWJlcmF0dGFjay10YXJnZXRzLWlwaG9uZS1hbmQtYXBwbGUtaWRzLWhlcmVzLWhvdy10by1zdGF5LXNhZmUv0gFjaHR0cHM6Ly9jeWJlcmd1eS5jb20vc2NhbXMvbmV3LWN5YmVyYXR0YWNrLXRhcmdldHMtaXBob25lLWFuZC1hcHBsZS1pZHMtaGVyZXMtaG93LXRvLXN0YXktc2FmZS9hbXAv\n",
      "2024-07-07 18:20:53,255 - AInewsbot - INFO - get_url(https://news.google.com/articles/CBMiX2h0dHBzOi8vY3liZXJndXkuY29tL3NjYW1zL25ldy1jeWJlcmF0dGFjay10YXJnZXRzLWlwaG9uZS1hbmQtYXBwbGUtaWRzLWhlcmVzLWhvdy10by1zdGF5LXNhZmUv0gFjaHR0cHM6Ly9jeWJlcmd1eS5jb20vc2NhbXMvbmV3LWN5YmVyYXR0YWNrLXRhcmdldHMtaXBob25lLWFuZC1hcHBsZS1pZHMtaGVyZXMtaG93LXRvLXN0YXktc2FmZS9hbXAv) - starting get_files https://news.google.com/articles/CBMiX2h0dHBzOi8vY3liZXJndXkuY29tL3NjYW1zL25ldy1jeWJlcmF0dGFjay10YXJnZXRzLWlwaG9uZS1hbmQtYXBwbGUtaWRzLWhlcmVzLWhvdy10by1zdGF5LXNhZmUv0gFjaHR0cHM6Ly9jeWJlcmd1eS5jb20vc2NhbXMvbmV3LWN5YmVyYXR0YWNrLXRhcmdldHMtaXBob25lLWFuZC1hcHBsZS1pZHMtaGVyZXMtaG93LXRvLXN0YXktc2FmZS9hbXAv\n",
      "2024-07-07 18:20:54,875 - AInewsbot - INFO - get_url(Samsung Galaxy AI could soon offer real-time translations in WhatsApp) - Saving Samsung_Galaxy_AI_could_soon_offer_real-time_translations_in_WhatsApp_20240707_182054.html as utf-8\n",
      "2024-07-07 18:20:54,877 - AInewsbot - INFO - Processing https://news.google.com/articles/CBMikQFodHRwczovL3d3dy5iZW56aW5nYS5jb20vbmV3cy8yNC8wNy8zOTY1NjI2OS9hcHBsZXMtYWktc2hpZnQtYm9hcmQtb2JzZXJ2ZXItcm9sZS1hdC1vcGVuYWktZXh0ZW5kZWQtaXBob25lLXNldHRsZW1lbnQtZGVhZGxpbmUtYW5kLWFpLXBhcnRuZXJzaGlw0gEA\n",
      "2024-07-07 18:20:54,877 - AInewsbot - INFO - get_url(https://news.google.com/articles/CBMikQFodHRwczovL3d3dy5iZW56aW5nYS5jb20vbmV3cy8yNC8wNy8zOTY1NjI2OS9hcHBsZXMtYWktc2hpZnQtYm9hcmQtb2JzZXJ2ZXItcm9sZS1hdC1vcGVuYWktZXh0ZW5kZWQtaXBob25lLXNldHRsZW1lbnQtZGVhZGxpbmUtYW5kLWFpLXBhcnRuZXJzaGlw0gEA) - starting get_files https://news.google.com/articles/CBMikQFodHRwczovL3d3dy5iZW56aW5nYS5jb20vbmV3cy8yNC8wNy8zOTY1NjI2OS9hcHBsZXMtYWktc2hpZnQtYm9hcmQtb2JzZXJ2ZXItcm9sZS1hdC1vcGVuYWktZXh0ZW5kZWQtaXBob25lLXNldHRsZW1lbnQtZGVhZGxpbmUtYW5kLWFpLXBhcnRuZXJzaGlw0gEA\n",
      "2024-07-07 18:21:00,399 - AInewsbot - INFO - get_url(WhatsApp's new feature will let Meta AI edit your photos for you) - Saving WhatsApp_s_new_feature_will_let_Meta_AI_edit_your_photos_for_you_20240707_182100.html as utf-8\n",
      "2024-07-07 18:21:00,402 - AInewsbot - INFO - Processing https://news.google.com/articles/CBMigAFodHRwczovL3d3dy5mb3JiZXMuY29tL3NpdGVzL2V3YW5zcGVuY2UvMjAyNC8wNy8wNS9hbmRyb2lkLW5ld3MtaGVhZGxpbmVzLXBpeGVsLTktcHJvLWdhbGF4eS16LWZvbGQ2LWh1YXdlaS1taXgtZm9sZDQtZ29vZ2xlLWFpL9IBAA\n",
      "2024-07-07 18:21:00,403 - AInewsbot - INFO - get_url(https://news.google.com/articles/CBMigAFodHRwczovL3d3dy5mb3JiZXMuY29tL3NpdGVzL2V3YW5zcGVuY2UvMjAyNC8wNy8wNS9hbmRyb2lkLW5ld3MtaGVhZGxpbmVzLXBpeGVsLTktcHJvLWdhbGF4eS16LWZvbGQ2LWh1YXdlaS1taXgtZm9sZDQtZ29vZ2xlLWFpL9IBAA) - starting get_files https://news.google.com/articles/CBMigAFodHRwczovL3d3dy5mb3JiZXMuY29tL3NpdGVzL2V3YW5zcGVuY2UvMjAyNC8wNy8wNS9hbmRyb2lkLW5ld3MtaGVhZGxpbmVzLXBpeGVsLTktcHJvLWdhbGF4eS16LWZvbGQ2LWh1YXdlaS1taXgtZm9sZDQtZ29vZ2xlLWFpL9IBAA\n",
      "2024-07-07 18:21:00,749 - AInewsbot - INFO - get_url(Meta AI may get more collaborative in WhatsApp for Android.) - Saving Meta_AI_may_get_more_collaborative_in_WhatsApp_for_Android__20240707_182100.html as utf-8\n",
      "2024-07-07 18:21:00,750 - AInewsbot - INFO - Processing https://news.google.com/articles/CBMiiAFodHRwczovL3d3dy5mb3JiZXMuY29tL3NpdGVzL2V3YW5zcGVuY2UvMjAyNC8wNy8wNy9hcHBsZS1uZXdzLWhlYWRsaW5lcy1pcGhvbmUtMTYtcHJvLWExNy1hcHBsZS13YXRjaC1pcGhvbmUtYmF0dGVyeS1yZXBsYWNlbWVudC1haS1yY3Mv0gEA\n",
      "2024-07-07 18:21:00,750 - AInewsbot - INFO - get_url(https://news.google.com/articles/CBMiiAFodHRwczovL3d3dy5mb3JiZXMuY29tL3NpdGVzL2V3YW5zcGVuY2UvMjAyNC8wNy8wNy9hcHBsZS1uZXdzLWhlYWRsaW5lcy1pcGhvbmUtMTYtcHJvLWExNy1hcHBsZS13YXRjaC1pcGhvbmUtYmF0dGVyeS1yZXBsYWNlbWVudC1haS1yY3Mv0gEA) - starting get_files https://news.google.com/articles/CBMiiAFodHRwczovL3d3dy5mb3JiZXMuY29tL3NpdGVzL2V3YW5zcGVuY2UvMjAyNC8wNy8wNy9hcHBsZS1uZXdzLWhlYWRsaW5lcy1pcGhvbmUtMTYtcHJvLWExNy1hcHBsZS13YXRjaC1pcGhvbmUtYmF0dGVyeS1yZXBsYWNlbWVudC1haS1yY3Mv0gEA\n",
      "2024-07-07 18:21:03,595 - AInewsbot - INFO - get_url(New cyberattack targets iPhone and Apple IDs  Heres how to stay safe) - Saving New_cyberattack_targets_iPhone_and_Apple_IDs__Heres_how_to_stay_safe_20240707_182103.html as utf-8\n",
      "2024-07-07 18:21:03,601 - AInewsbot - INFO - Processing https://www.theverge.com/2024/7/7/24193619/apple-intelligence-better-siri-ios-18-4-spring-public-launch\n"
     ]
    },
    {
     "name": "stderr",
     "output_type": "stream",
     "text": [
      "2024-07-07 18:21:03,603 - AInewsbot - INFO - get_url(https://www.theverge.com/2024/7/7/24193619/apple-intelligence-better-siri-ios-18-4-spring-public-launch) - starting get_files https://www.theverge.com/2024/7/7/24193619/apple-intelligence-better-siri-ios-18-4-spring-public-launch\n",
      "2024-07-07 18:21:05,176 - AInewsbot - INFO - get_url(Apple's AI Shift, Board Observer Role At OpenAI, Extended iPhone Settlement Deadline, And AI Partnership With Google: This Week In Appleverse - Alphabet (NASDAQ:GOOG), Apple (NASDAQ:AAPL)) - Saving Apple_s_AI_Shift__Board_Observer_Role_At_OpenAI__Extended_iPhone_Settlement_Deadline__And_AI_Partnership_With_Google__This_Week_In_Appleverse_-_Alphabet__NASDAQ_GOOG___Apple__NASDAQ_AAPL__20240707_182105.html as utf-8\n",
      "2024-07-07 18:21:05,178 - AInewsbot - INFO - Processing https://news.google.com/articles/CBMiQGh0dHBzOi8vd3d3LmFuZHJvaWRhdXRob3JpdHkuY29tL3NtYWxsLXBob25lcy1haS1yZXR1cm4tMzQ1NjcyNS_SAQA\n",
      "2024-07-07 18:21:05,178 - AInewsbot - INFO - get_url(https://news.google.com/articles/CBMiQGh0dHBzOi8vd3d3LmFuZHJvaWRhdXRob3JpdHkuY29tL3NtYWxsLXBob25lcy1haS1yZXR1cm4tMzQ1NjcyNS_SAQA) - starting get_files https://news.google.com/articles/CBMiQGh0dHBzOi8vd3d3LmFuZHJvaWRhdXRob3JpdHkuY29tL3NtYWxsLXBob25lcy1haS1yZXR1cm4tMzQ1NjcyNS_SAQA\n",
      "2024-07-07 18:21:10,872 - AInewsbot - INFO - get_url(Android Circuit: Galaxy Z Fold6 Details, Google AI Secrets, Pixel 9 Pro Specs) - Saving Android_Circuit__Galaxy_Z_Fold6_Details__Google_AI_Secrets__Pixel_9_Pro_Specs_20240707_182110.html as utf-8\n",
      "2024-07-07 18:21:10,875 - AInewsbot - INFO - Processing https://www.theverge.com/2024/7/6/24193094/phoenix-waymo-car-pulled-over-traffic-stop-oncoming-lane-police\n",
      "2024-07-07 18:21:10,875 - AInewsbot - INFO - get_url(https://www.theverge.com/2024/7/6/24193094/phoenix-waymo-car-pulled-over-traffic-stop-oncoming-lane-police) - starting get_files https://www.theverge.com/2024/7/6/24193094/phoenix-waymo-car-pulled-over-traffic-stop-oncoming-lane-police\n",
      "2024-07-07 18:21:11,191 - AInewsbot - INFO - get_url(Apple Loop: iPhone 16 Pro Specs, Apple Watch 10 Design Leaks, Paying For Apple's AI) - Saving Apple_Loop__iPhone_16_Pro_Specs__Apple_Watch_10_Design_Leaks__Paying_For_Apple_s_AI_20240707_182111.html as utf-8\n",
      "2024-07-07 18:21:11,193 - AInewsbot - INFO - Processing https://www.makeuseof.com/worry-copilot-pc-old-windows-11-system-obsolete/\n",
      "2024-07-07 18:21:11,194 - AInewsbot - INFO - get_url(https://www.makeuseof.com/worry-copilot-pc-old-windows-11-system-obsolete/) - starting get_files https://www.makeuseof.com/worry-copilot-pc-old-windows-11-system-obsolete/\n",
      "2024-07-07 18:21:15,789 - AInewsbot - INFO - get_url(I thought small phones were dead, but I want AI to bring them back) - Saving I_thought_small_phones_were_dead__but_I_want_AI_to_bring_them_back_20240707_182115.html as utf-8\n",
      "2024-07-07 18:21:15,791 - AInewsbot - INFO - Processing https://www.laptopmag.com/laptops/i-spent-a-day-using-copilot-on-the-hp-elitebook-ultra-and-it-drove-me-crazy\n",
      "2024-07-07 18:21:15,791 - AInewsbot - INFO - get_url(https://www.laptopmag.com/laptops/i-spent-a-day-using-copilot-on-the-hp-elitebook-ultra-and-it-drove-me-crazy) - starting get_files https://www.laptopmag.com/laptops/i-spent-a-day-using-copilot-on-the-hp-elitebook-ultra-and-it-drove-me-crazy\n",
      "2024-07-07 18:21:16,158 - AInewsbot - INFO - get_url(Apple Intelligence and a better Siri may be coming to iPhones this spring) - Saving Apple_Intelligence_and_a_better_Siri_may_be_coming_to_iPhones_this_spring_20240707_182116.html as utf-8\n",
      "2024-07-07 18:21:16,159 - AInewsbot - INFO - Processing https://go.theregister.com/feed/www.theregister.com/2024/07/07/containerize_ai_apps/\n",
      "2024-07-07 18:21:16,160 - AInewsbot - INFO - get_url(https://go.theregister.com/feed/www.theregister.com/2024/07/07/containerize_ai_apps/) - starting get_files https://go.theregister.com/feed/www.theregister.com/2024/07/07/containerize_ai_apps/\n",
      "2024-07-07 18:21:21,847 - AInewsbot - INFO - get_url(Police pulled over a Waymo car for driving in the oncoming lane) - Saving Police_pulled_over_a_Waymo_car_for_driving_in_the_oncoming_lane_20240707_182121.html as utf-8\n",
      "2024-07-07 18:21:21,850 - AInewsbot - INFO - Processing https://www.theregister.com/2024/07/07/containerize_ai_apps/\n",
      "2024-07-07 18:21:21,851 - AInewsbot - INFO - get_url(https://www.theregister.com/2024/07/07/containerize_ai_apps/) - starting get_files https://www.theregister.com/2024/07/07/containerize_ai_apps/\n",
      "2024-07-07 18:21:21,972 - AInewsbot - INFO - get_url(Don't Worry: Copilot+ PCs Don't Make Your Windows 11 System Obsolete) - Saving Don_t_Worry__Copilot__PCs_Don_t_Make_Your_Windows_11_System_Obsolete_20240707_182121.html as utf-8\n",
      "2024-07-07 18:21:21,974 - AInewsbot - INFO - Processing https://www.nunodonato.com/workspaice-humanai-creating-together/\n",
      "2024-07-07 18:21:21,974 - AInewsbot - INFO - get_url(https://www.nunodonato.com/workspaice-humanai-creating-together/) - starting get_files https://www.nunodonato.com/workspaice-humanai-creating-together/\n",
      "2024-07-07 18:21:26,169 - AInewsbot - INFO - get_url(I spent a day using Copilot+ on the HP EliteBook Ultra, and it drove me crazy) - Saving I_spent_a_day_using_Copilot__on_the_HP_EliteBook_Ultra__and_it_drove_me_crazy_20240707_182126.html as utf-8\n",
      "2024-07-07 18:21:26,171 - AInewsbot - INFO - Processing https://www.reddit.com/r/technology/comments/1dxij9l/james_muldoon_mark_graham_and_callum_cant_ai/\n",
      "2024-07-07 18:21:26,172 - AInewsbot - INFO - get_url(https://www.reddit.com/r/technology/comments/1dxij9l/james_muldoon_mark_graham_and_callum_cant_ai/) - starting get_files https://www.reddit.com/r/technology/comments/1dxij9l/james_muldoon_mark_graham_and_callum_cant_ai/\n",
      "2024-07-07 18:21:26,557 - AInewsbot - INFO - get_url(A friendly guide to containerization for AI work) - Saving A_friendly_guide_to_containerization_for_AI_work_20240707_182126.html as utf-8\n",
      "2024-07-07 18:21:26,562 - AInewsbot - INFO - Processing https://www.reddit.com/r/technology/comments/1dx9xkt/meet_mercy_and_anita_the_african_workers_driving/\n",
      "2024-07-07 18:21:26,563 - AInewsbot - INFO - get_url(https://www.reddit.com/r/technology/comments/1dx9xkt/meet_mercy_and_anita_the_african_workers_driving/) - starting get_files https://www.reddit.com/r/technology/comments/1dx9xkt/meet_mercy_and_anita_the_african_workers_driving/\n",
      "2024-07-07 18:21:32,430 - AInewsbot - INFO - get_url(A friendly guide to containerization for AI workHands onSave the headaches, ship your dependenciesAI + ML6 hrs|1) - Saving A_friendly_guide_to_containerization_for_AI_workHands_onSave_the_headaches__ship_your_dependenciesAI___ML6_hrs_1_20240707_182132.html as utf-8\n",
      "2024-07-07 18:21:32,432 - AInewsbot - INFO - Processing https://appleinsider.com/articles/24/07/07/figma-disables-ai-powered-make-design-feature-after-weather-app-rip-off\n",
      "2024-07-07 18:21:32,432 - AInewsbot - INFO - get_url(https://appleinsider.com/articles/24/07/07/figma-disables-ai-powered-make-design-feature-after-weather-app-rip-off) - starting get_files https://appleinsider.com/articles/24/07/07/figma-disables-ai-powered-make-design-feature-after-weather-app-rip-off\n",
      "2024-07-07 18:21:33,431 - AInewsbot - INFO - get_url(Show HN: Workspaice:  Human+AI, Creating Together) - Saving Show_HN__Workspaice___Human_AI__Creating_Together_20240707_182133.html as utf-8\n",
      "2024-07-07 18:21:33,433 - AInewsbot - INFO - Processing https://news.google.com/articles/CBMifmh0dHBzOi8vc2xhc2hkb3Qub3JnL3N0b3J5LzI0LzA3LzA3LzAwNTQyMjAvbWljcm9zb2Z0cy1haS1jZW8td2ViLWNvbnRlbnQtd2l0aG91dC1hLXJvYm90c3R4dC1maWxlLWlzLWZyZWV3YXJlLWZvci1haS10cmFpbmluZ9IBAA\n",
      "2024-07-07 18:21:33,434 - AInewsbot - INFO - get_url(https://news.google.com/articles/CBMifmh0dHBzOi8vc2xhc2hkb3Qub3JnL3N0b3J5LzI0LzA3LzA3LzAwNTQyMjAvbWljcm9zb2Z0cy1haS1jZW8td2ViLWNvbnRlbnQtd2l0aG91dC1hLXJvYm90c3R4dC1maWxlLWlzLWZyZWV3YXJlLWZvci1haS10cmFpbmluZ9IBAA) - starting get_files https://news.google.com/articles/CBMifmh0dHBzOi8vc2xhc2hkb3Qub3JnL3N0b3J5LzI0LzA3LzA3LzAwNTQyMjAvbWljcm9zb2Z0cy1haS1jZW8td2ViLWNvbnRlbnQtd2l0aG91dC1hLXJvYm90c3R4dC1maWxlLWlzLWZyZWV3YXJlLWZvci1haS10cmFpbmluZ9IBAA\n",
      "2024-07-07 18:21:37,158 - AInewsbot - INFO - get_url(James Muldoon, Mark Graham and Callum Cant: AI feeds off the work of human beings) - Saving James_Muldoon__Mark_Graham_and_Callum_Cant__AI_feeds_off_the_work_of_human_beings_20240707_182137.html as utf-8\n"
     ]
    },
    {
     "name": "stderr",
     "output_type": "stream",
     "text": [
      "2024-07-07 18:21:37,160 - AInewsbot - INFO - Processing https://www.reddit.com/r/technology/comments/1dxilwo/microsofts_climbdown_over_its_creepy_recall/\n",
      "2024-07-07 18:21:37,160 - AInewsbot - INFO - get_url(https://www.reddit.com/r/technology/comments/1dxilwo/microsofts_climbdown_over_its_creepy_recall/) - starting get_files https://www.reddit.com/r/technology/comments/1dxilwo/microsofts_climbdown_over_its_creepy_recall/\n",
      "2024-07-07 18:21:38,167 - AInewsbot - INFO - get_url(Meet Mercy and Anita  the African workers driving the AI revolution, for just over a dollar an hour) - Saving Meet_Mercy_and_Anita__the_African_workers_driving_the_AI_revolution__for_just_over_a_dollar_an_hour_20240707_182138.html as utf-8\n",
      "2024-07-07 18:21:38,169 - AInewsbot - INFO - Quit webdriver\n",
      "2024-07-07 18:21:43,104 - AInewsbot - INFO - get_url(Figma disables AI-powered 'Make Design' feature after Weather app rip-off) - Saving Figma_disables_AI-powered__Make_Design__feature_after_Weather_app_rip-off_20240707_182143.html as utf-8\n",
      "2024-07-07 18:21:43,106 - AInewsbot - INFO - Quit webdriver\n",
      "2024-07-07 18:21:43,734 - AInewsbot - INFO - get_url(Microsoft's AI CEO: Web Content (Without a Robots.txt File) is 'Freeware' for AI Training) - Saving Microsoft_s_AI_CEO__Web_Content__Without_a_Robots_txt_File__is__Freeware__for_AI_Training_20240707_182143.html as utf-8\n",
      "2024-07-07 18:21:43,734 - AInewsbot - INFO - Quit webdriver\n",
      "2024-07-07 18:21:47,805 - AInewsbot - INFO - get_url(Microsofts climbdown over its creepy Recall feature shows its AI strategy is far from intelligent | The tech companys new Windows machines can take constant screenshots of users every action  quelle surprise, its a privacy minefield) - Saving Microsofts_climbdown_over_its_creepy_Recall_feature_shows_its_AI_strategy_is_far_from_intelligent___The_tech_companys_new_Windows_machines_can_take_constant_screenshots_of_users_every_action__quelle_surprise__its_a_privacy_minefield_20240707_182147.html as utf-8\n",
      "2024-07-07 18:21:47,811 - AInewsbot - INFO - Quit webdriver\n"
     ]
    }
   ],
   "source": [
    "# scrape urls in queue asynchronously\n",
    "num_browsers = 4\n",
    "\n",
    "callable = process_url_queue_factory(queue)\n",
    "\n",
    "log(f\"fetching {len(AIdf)} pages using {num_browsers} browsers\")\n",
    "saved_pages = launch_drivers(num_browsers, callable)\n"
   ]
  },
  {
   "cell_type": "code",
   "execution_count": 32,
   "id": "0f75589b",
   "metadata": {},
   "outputs": [
    {
     "data": {
      "text/html": [
       "<div>\n",
       "<style scoped>\n",
       "    .dataframe tbody tr th:only-of-type {\n",
       "        vertical-align: middle;\n",
       "    }\n",
       "\n",
       "    .dataframe tbody tr th {\n",
       "        vertical-align: top;\n",
       "    }\n",
       "\n",
       "    .dataframe thead th {\n",
       "        text-align: right;\n",
       "    }\n",
       "</style>\n",
       "<table border=\"1\" class=\"dataframe\">\n",
       "  <thead>\n",
       "    <tr style=\"text-align: right;\">\n",
       "      <th></th>\n",
       "      <th>id</th>\n",
       "      <th>url</th>\n",
       "      <th>title</th>\n",
       "      <th>path</th>\n",
       "    </tr>\n",
       "  </thead>\n",
       "  <tbody>\n",
       "    <tr>\n",
       "      <th>0</th>\n",
       "      <td>0</td>\n",
       "      <td>https://www.investing.com/news/stock-market-ne...</td>\n",
       "      <td>5 big analyst AI moves: Nvidia downgraded on l...</td>\n",
       "      <td>htmldata/5_big_analyst_AI_moves__Nvidia_downgr...</td>\n",
       "    </tr>\n",
       "    <tr>\n",
       "      <th>1</th>\n",
       "      <td>4</td>\n",
       "      <td>https://news.google.com/articles/CBMiTGh0dHBzO...</td>\n",
       "      <td>Advanced Micro Devices, Inc. (AMD): Hedge Fund...</td>\n",
       "      <td>htmldata/Advanced_Micro_Devices__Inc___AMD___H...</td>\n",
       "    </tr>\n",
       "    <tr>\n",
       "      <th>2</th>\n",
       "      <td>8</td>\n",
       "      <td>https://www.barrons.com/articles/ai-stocks-sal...</td>\n",
       "      <td>AI Stocks Keep Surging. Buy 2 That Havent.</td>\n",
       "      <td>htmldata/AI_Stocks_Keep_Surging__Buy_2_That_Ha...</td>\n",
       "    </tr>\n",
       "    <tr>\n",
       "      <th>3</th>\n",
       "      <td>13</td>\n",
       "      <td>https://news.google.com/articles/CBMiXWh0dHBzO...</td>\n",
       "      <td>3 Rapidly Rising Companies Set to Join the $1 ...</td>\n",
       "      <td>htmldata/3_Rapidly_Rising_Companies_Set_to_Joi...</td>\n",
       "    </tr>\n",
       "    <tr>\n",
       "      <th>4</th>\n",
       "      <td>17</td>\n",
       "      <td>https://news.google.com/articles/CBMiTmh0dHBzO...</td>\n",
       "      <td>AI's 'positive role' during Indian polls amids...</td>\n",
       "      <td>htmldata/AI_s__positive_role__during_Indian_po...</td>\n",
       "    </tr>\n",
       "    <tr>\n",
       "      <th>...</th>\n",
       "      <td>...</td>\n",
       "      <td>...</td>\n",
       "      <td>...</td>\n",
       "      <td>...</td>\n",
       "    </tr>\n",
       "    <tr>\n",
       "      <th>107</th>\n",
       "      <td>96</td>\n",
       "      <td>https://news.google.com/articles/CBMikQFodHRwc...</td>\n",
       "      <td>Apple's AI Shift, Board Observer Role At OpenA...</td>\n",
       "      <td>htmldata/Apple_s_AI_Shift__Board_Observer_Role...</td>\n",
       "    </tr>\n",
       "    <tr>\n",
       "      <th>108</th>\n",
       "      <td>100</td>\n",
       "      <td>https://news.google.com/articles/CBMiQGh0dHBzO...</td>\n",
       "      <td>I thought small phones were dead, but I want A...</td>\n",
       "      <td>htmldata/I_thought_small_phones_were_dead__but...</td>\n",
       "    </tr>\n",
       "    <tr>\n",
       "      <th>109</th>\n",
       "      <td>103</td>\n",
       "      <td>https://www.laptopmag.com/laptops/i-spent-a-da...</td>\n",
       "      <td>I spent a day using Copilot+ on the HP EliteBo...</td>\n",
       "      <td>htmldata/I_spent_a_day_using_Copilot__on_the_H...</td>\n",
       "    </tr>\n",
       "    <tr>\n",
       "      <th>110</th>\n",
       "      <td>107</td>\n",
       "      <td>https://www.reddit.com/r/technology/comments/1...</td>\n",
       "      <td>James Muldoon, Mark Graham and Callum Cant: AI...</td>\n",
       "      <td>htmldata/James_Muldoon__Mark_Graham_and_Callum...</td>\n",
       "    </tr>\n",
       "    <tr>\n",
       "      <th>111</th>\n",
       "      <td>111</td>\n",
       "      <td>https://www.reddit.com/r/technology/comments/1...</td>\n",
       "      <td>Microsofts climbdown over its creepy Recall fe...</td>\n",
       "      <td>htmldata/Microsofts_climbdown_over_its_creepy_...</td>\n",
       "    </tr>\n",
       "  </tbody>\n",
       "</table>\n",
       "<p>112 rows × 4 columns</p>\n",
       "</div>"
      ],
      "text/plain": [
       "      id                                                url  \\\n",
       "0      0  https://www.investing.com/news/stock-market-ne...   \n",
       "1      4  https://news.google.com/articles/CBMiTGh0dHBzO...   \n",
       "2      8  https://www.barrons.com/articles/ai-stocks-sal...   \n",
       "3     13  https://news.google.com/articles/CBMiXWh0dHBzO...   \n",
       "4     17  https://news.google.com/articles/CBMiTmh0dHBzO...   \n",
       "..   ...                                                ...   \n",
       "107   96  https://news.google.com/articles/CBMikQFodHRwc...   \n",
       "108  100  https://news.google.com/articles/CBMiQGh0dHBzO...   \n",
       "109  103  https://www.laptopmag.com/laptops/i-spent-a-da...   \n",
       "110  107  https://www.reddit.com/r/technology/comments/1...   \n",
       "111  111  https://www.reddit.com/r/technology/comments/1...   \n",
       "\n",
       "                                                 title  \\\n",
       "0    5 big analyst AI moves: Nvidia downgraded on l...   \n",
       "1    Advanced Micro Devices, Inc. (AMD): Hedge Fund...   \n",
       "2           AI Stocks Keep Surging. Buy 2 That Havent.   \n",
       "3    3 Rapidly Rising Companies Set to Join the $1 ...   \n",
       "4    AI's 'positive role' during Indian polls amids...   \n",
       "..                                                 ...   \n",
       "107  Apple's AI Shift, Board Observer Role At OpenA...   \n",
       "108  I thought small phones were dead, but I want A...   \n",
       "109  I spent a day using Copilot+ on the HP EliteBo...   \n",
       "110  James Muldoon, Mark Graham and Callum Cant: AI...   \n",
       "111  Microsofts climbdown over its creepy Recall fe...   \n",
       "\n",
       "                                                  path  \n",
       "0    htmldata/5_big_analyst_AI_moves__Nvidia_downgr...  \n",
       "1    htmldata/Advanced_Micro_Devices__Inc___AMD___H...  \n",
       "2    htmldata/AI_Stocks_Keep_Surging__Buy_2_That_Ha...  \n",
       "3    htmldata/3_Rapidly_Rising_Companies_Set_to_Joi...  \n",
       "4    htmldata/AI_s__positive_role__during_Indian_po...  \n",
       "..                                                 ...  \n",
       "107  htmldata/Apple_s_AI_Shift__Board_Observer_Role...  \n",
       "108  htmldata/I_thought_small_phones_were_dead__but...  \n",
       "109  htmldata/I_spent_a_day_using_Copilot__on_the_H...  \n",
       "110  htmldata/James_Muldoon__Mark_Graham_and_Callum...  \n",
       "111  htmldata/Microsofts_climbdown_over_its_creepy_...  \n",
       "\n",
       "[112 rows x 4 columns]"
      ]
     },
     "execution_count": 32,
     "metadata": {},
     "output_type": "execute_result"
    }
   ],
   "source": [
    "pages_df = pd.DataFrame(saved_pages)\n",
    "pages_df.columns = ['id', 'url', 'title', 'path']\n",
    "pages_df"
   ]
  },
  {
   "cell_type": "code",
   "execution_count": 33,
   "id": "56202217",
   "metadata": {},
   "outputs": [],
   "source": [
    "AIdf = pd.merge(AIdf, pages_df[[\"id\", \"path\"]], on='id', how=\"inner\")\n"
   ]
  },
  {
   "cell_type": "code",
   "execution_count": 34,
   "id": "a6ada9c1",
   "metadata": {},
   "outputs": [
    {
     "data": {
      "text/html": [
       "<div>\n",
       "<style scoped>\n",
       "    .dataframe tbody tr th:only-of-type {\n",
       "        vertical-align: middle;\n",
       "    }\n",
       "\n",
       "    .dataframe tbody tr th {\n",
       "        vertical-align: top;\n",
       "    }\n",
       "\n",
       "    .dataframe thead th {\n",
       "        text-align: right;\n",
       "    }\n",
       "</style>\n",
       "<table border=\"1\" class=\"dataframe\">\n",
       "  <thead>\n",
       "    <tr style=\"text-align: right;\">\n",
       "      <th></th>\n",
       "      <th>id</th>\n",
       "      <th>src</th>\n",
       "      <th>title</th>\n",
       "      <th>url</th>\n",
       "      <th>isAI</th>\n",
       "      <th>date</th>\n",
       "      <th>path</th>\n",
       "    </tr>\n",
       "  </thead>\n",
       "  <tbody>\n",
       "    <tr>\n",
       "      <th>0</th>\n",
       "      <td>0</td>\n",
       "      <td>Feedly AI</td>\n",
       "      <td>5 big analyst AI moves: Nvidia downgraded on l...</td>\n",
       "      <td>https://www.investing.com/news/stock-market-ne...</td>\n",
       "      <td>True</td>\n",
       "      <td>2024-07-07</td>\n",
       "      <td>htmldata/5_big_analyst_AI_moves__Nvidia_downgr...</td>\n",
       "    </tr>\n",
       "    <tr>\n",
       "      <th>1</th>\n",
       "      <td>1</td>\n",
       "      <td>Feedly AI</td>\n",
       "      <td>Two risks to the AI tech rally</td>\n",
       "      <td>https://au.investing.com/news/stock-market-new...</td>\n",
       "      <td>True</td>\n",
       "      <td>2024-07-07</td>\n",
       "      <td>htmldata/Two_risks_to_the_AI_tech_rally_202407...</td>\n",
       "    </tr>\n",
       "    <tr>\n",
       "      <th>2</th>\n",
       "      <td>2</td>\n",
       "      <td>Google News</td>\n",
       "      <td>45% of Warren Buffett's $398 Billion Portfolio...</td>\n",
       "      <td>https://news.google.com/articles/CBMiW2h0dHBzO...</td>\n",
       "      <td>True</td>\n",
       "      <td>2024-07-07</td>\n",
       "      <td>htmldata/45__of_Warren_Buffett_s__398_Billion_...</td>\n",
       "    </tr>\n",
       "    <tr>\n",
       "      <th>3</th>\n",
       "      <td>3</td>\n",
       "      <td>Google News</td>\n",
       "      <td>Broadcom: An Essential Company For AI Investor...</td>\n",
       "      <td>https://news.google.com/articles/CBMiV2h0dHBzO...</td>\n",
       "      <td>True</td>\n",
       "      <td>2024-07-07</td>\n",
       "      <td>htmldata/Broadcom__An_Essential_Company_For_AI...</td>\n",
       "    </tr>\n",
       "    <tr>\n",
       "      <th>4</th>\n",
       "      <td>4</td>\n",
       "      <td>Google News</td>\n",
       "      <td>Advanced Micro Devices, Inc. (AMD): Hedge Fund...</td>\n",
       "      <td>https://news.google.com/articles/CBMiTGh0dHBzO...</td>\n",
       "      <td>True</td>\n",
       "      <td>2024-07-07</td>\n",
       "      <td>htmldata/Advanced_Micro_Devices__Inc___AMD___H...</td>\n",
       "    </tr>\n",
       "    <tr>\n",
       "      <th>...</th>\n",
       "      <td>...</td>\n",
       "      <td>...</td>\n",
       "      <td>...</td>\n",
       "      <td>...</td>\n",
       "      <td>...</td>\n",
       "      <td>...</td>\n",
       "      <td>...</td>\n",
       "    </tr>\n",
       "    <tr>\n",
       "      <th>107</th>\n",
       "      <td>107</td>\n",
       "      <td>Reddit</td>\n",
       "      <td>James Muldoon, Mark Graham and Callum Cant: AI...</td>\n",
       "      <td>https://www.reddit.com/r/technology/comments/1...</td>\n",
       "      <td>True</td>\n",
       "      <td>2024-07-07</td>\n",
       "      <td>htmldata/James_Muldoon__Mark_Graham_and_Callum...</td>\n",
       "    </tr>\n",
       "    <tr>\n",
       "      <th>108</th>\n",
       "      <td>108</td>\n",
       "      <td>Reddit</td>\n",
       "      <td>Meet Mercy and Anita  the African workers driv...</td>\n",
       "      <td>https://www.reddit.com/r/technology/comments/1...</td>\n",
       "      <td>True</td>\n",
       "      <td>2024-07-07</td>\n",
       "      <td>htmldata/Meet_Mercy_and_Anita__the_African_wor...</td>\n",
       "    </tr>\n",
       "    <tr>\n",
       "      <th>109</th>\n",
       "      <td>109</td>\n",
       "      <td>Feedly AI</td>\n",
       "      <td>Figma disables AI-powered 'Make Design' featur...</td>\n",
       "      <td>https://appleinsider.com/articles/24/07/07/fig...</td>\n",
       "      <td>True</td>\n",
       "      <td>2024-07-07</td>\n",
       "      <td>htmldata/Figma_disables_AI-powered__Make_Desig...</td>\n",
       "    </tr>\n",
       "    <tr>\n",
       "      <th>110</th>\n",
       "      <td>110</td>\n",
       "      <td>Google News</td>\n",
       "      <td>Microsoft's AI CEO: Web Content (Without a Rob...</td>\n",
       "      <td>https://news.google.com/articles/CBMifmh0dHBzO...</td>\n",
       "      <td>True</td>\n",
       "      <td>2024-07-07</td>\n",
       "      <td>htmldata/Microsoft_s_AI_CEO__Web_Content__With...</td>\n",
       "    </tr>\n",
       "    <tr>\n",
       "      <th>111</th>\n",
       "      <td>111</td>\n",
       "      <td>Reddit</td>\n",
       "      <td>Microsofts climbdown over its creepy Recall fe...</td>\n",
       "      <td>https://www.reddit.com/r/technology/comments/1...</td>\n",
       "      <td>True</td>\n",
       "      <td>2024-07-07</td>\n",
       "      <td>htmldata/Microsofts_climbdown_over_its_creepy_...</td>\n",
       "    </tr>\n",
       "  </tbody>\n",
       "</table>\n",
       "<p>112 rows × 7 columns</p>\n",
       "</div>"
      ],
      "text/plain": [
       "      id          src                                              title  \\\n",
       "0      0    Feedly AI  5 big analyst AI moves: Nvidia downgraded on l...   \n",
       "1      1    Feedly AI                     Two risks to the AI tech rally   \n",
       "2      2  Google News  45% of Warren Buffett's $398 Billion Portfolio...   \n",
       "3      3  Google News  Broadcom: An Essential Company For AI Investor...   \n",
       "4      4  Google News  Advanced Micro Devices, Inc. (AMD): Hedge Fund...   \n",
       "..   ...          ...                                                ...   \n",
       "107  107       Reddit  James Muldoon, Mark Graham and Callum Cant: AI...   \n",
       "108  108       Reddit  Meet Mercy and Anita  the African workers driv...   \n",
       "109  109    Feedly AI  Figma disables AI-powered 'Make Design' featur...   \n",
       "110  110  Google News  Microsoft's AI CEO: Web Content (Without a Rob...   \n",
       "111  111       Reddit  Microsofts climbdown over its creepy Recall fe...   \n",
       "\n",
       "                                                   url  isAI        date  \\\n",
       "0    https://www.investing.com/news/stock-market-ne...  True  2024-07-07   \n",
       "1    https://au.investing.com/news/stock-market-new...  True  2024-07-07   \n",
       "2    https://news.google.com/articles/CBMiW2h0dHBzO...  True  2024-07-07   \n",
       "3    https://news.google.com/articles/CBMiV2h0dHBzO...  True  2024-07-07   \n",
       "4    https://news.google.com/articles/CBMiTGh0dHBzO...  True  2024-07-07   \n",
       "..                                                 ...   ...         ...   \n",
       "107  https://www.reddit.com/r/technology/comments/1...  True  2024-07-07   \n",
       "108  https://www.reddit.com/r/technology/comments/1...  True  2024-07-07   \n",
       "109  https://appleinsider.com/articles/24/07/07/fig...  True  2024-07-07   \n",
       "110  https://news.google.com/articles/CBMifmh0dHBzO...  True  2024-07-07   \n",
       "111  https://www.reddit.com/r/technology/comments/1...  True  2024-07-07   \n",
       "\n",
       "                                                  path  \n",
       "0    htmldata/5_big_analyst_AI_moves__Nvidia_downgr...  \n",
       "1    htmldata/Two_risks_to_the_AI_tech_rally_202407...  \n",
       "2    htmldata/45__of_Warren_Buffett_s__398_Billion_...  \n",
       "3    htmldata/Broadcom__An_Essential_Company_For_AI...  \n",
       "4    htmldata/Advanced_Micro_Devices__Inc___AMD___H...  \n",
       "..                                                 ...  \n",
       "107  htmldata/James_Muldoon__Mark_Graham_and_Callum...  \n",
       "108  htmldata/Meet_Mercy_and_Anita__the_African_wor...  \n",
       "109  htmldata/Figma_disables_AI-powered__Make_Desig...  \n",
       "110  htmldata/Microsoft_s_AI_CEO__Web_Content__With...  \n",
       "111  htmldata/Microsofts_climbdown_over_its_creepy_...  \n",
       "\n",
       "[112 rows x 7 columns]"
      ]
     },
     "execution_count": 34,
     "metadata": {},
     "output_type": "execute_result"
    }
   ],
   "source": [
    "AIdf"
   ]
  },
  {
   "cell_type": "markdown",
   "id": "a5793763",
   "metadata": {},
   "source": [
    "# Summarize individual pages"
   ]
  },
  {
   "cell_type": "code",
   "execution_count": 35,
   "id": "5ab2a6a8",
   "metadata": {},
   "outputs": [
    {
     "name": "stdout",
     "output_type": "stream",
     "text": [
      "You are a summarization assistant.\n",
      "You will summarize the main content of provided text from HTML files in 3 bullet points or less.\n",
      "You will output Markdown format.\n",
      "You will ignore any content that appears to be navigation menus, footers, sidebars, or other boilerplate content.\n",
      "You will provide the bullet points only, without any introduction such as 'here are' or any conclusion, or comment.\n",
      "\n"
     ]
    }
   ],
   "source": [
    "print(SUMMARIZE_SYSTEM_PROMPT)\n"
   ]
  },
  {
   "cell_type": "code",
   "execution_count": 36,
   "id": "08ccf2c6",
   "metadata": {},
   "outputs": [
    {
     "name": "stdout",
     "output_type": "stream",
     "text": [
      "Summarize the main points of the following text concisely in at most 3 bullet points:\n",
      "\n"
     ]
    }
   ],
   "source": [
    "print(SUMMARIZE_USER_PROMPT)\n"
   ]
  },
  {
   "cell_type": "code",
   "execution_count": 37,
   "id": "107d7778",
   "metadata": {},
   "outputs": [
    {
     "name": "stderr",
     "output_type": "stream",
     "text": [
      "2024-07-07 18:22:22,825 - AInewsbot - INFO - Starting summarize\n",
      "2024-07-07 18:22:29,803 - AInewsbot - INFO - Received 112 summaries\n"
     ]
    },
    {
     "name": "stdout",
     "output_type": "stream",
     "text": [
      "(0, {'id': 'chatcmpl-9iUZ1VXgtG60rZnmNYGP8UqEJnuem', 'object': 'chat.completion', 'created': 1720390947, 'model': 'gpt-3.5-turbo-0125', 'choices': [{'index': 0, 'message': {'role': 'assistant', 'content': '- New Street Research downgraded Nvidia stock to Neutral from Buy due to limited further upside based on GPU revenue projections and potential competition.\\n- UBS downgraded Pure Storage to Sell, expressing concerns about slowing growth, declining market share, high valuation, and exaggerated emphasis on AI.\\n- Bank of America elevated Dell to its US 1 List, highlighting positive prospects for the company linked to AI server demand, storage needs, and an anticipated PC refresh.'}, 'logprobs': None, 'finish_reason': 'stop'}], 'usage': {'prompt_tokens': 4701, 'completion_tokens': 89, 'total_tokens': 4790}, 'system_fingerprint': None})\n"
     ]
    }
   ],
   "source": [
    "# Here we are fetching all at once, could be 200 summaries, so we are firing off 200 REST requests at once\n",
    "# This seems like a bad idea, could loop through and fire off e.g. 10 at a time, or use queues and workers (seems pointless)\n",
    "# But it works and runs fast on 3.5 and if ChatGPT doesn't like it they could throttle it\n",
    "\n",
    "log(\"Starting summarize\")\n",
    "responses = await fetch_all_summaries(AIdf)\n",
    "log(f\"Received {len(responses)} summaries\")\n",
    "print(responses[0])\n"
   ]
  },
  {
   "cell_type": "code",
   "execution_count": 38,
   "id": "f942c30f",
   "metadata": {},
   "outputs": [
    {
     "data": {
      "text/plain": [
       "112"
      ]
     },
     "execution_count": 38,
     "metadata": {},
     "output_type": "execute_result"
    }
   ],
   "source": [
    "# bring summaries into dict\n",
    "response_dict = {}\n",
    "for i, response in responses:\n",
    "    try:\n",
    "        response_str = response[\"choices\"][0][\"message\"][\"content\"]\n",
    "        response_dict[i] = response_str\n",
    "    except Exception as exc:\n",
    "        print(exc)\n",
    "        \n",
    "len(response_dict)"
   ]
  },
  {
   "cell_type": "code",
   "execution_count": 39,
   "id": "91263777",
   "metadata": {},
   "outputs": [
    {
     "data": {
      "text/markdown": [
       "[1. 5 big analyst AI moves: Nvidia downgraded on limited further upside - Feedly AI](https://www.investing.com/news/stock-market-news/5-big-analyst-ai-moves-nvidia-downgraded-on-limited-further-upside-3509545)  \n",
       "\n",
       "- New Street Research downgraded Nvidia stock to Neutral from Buy due to limited further upside based on GPU revenue projections and potential competition.\n",
       "- UBS downgraded Pure Storage to Sell, expressing concerns about slowing growth, declining market share, high valuation, and exaggerated emphasis on AI.\n",
       "- Bank of America elevated Dell to its US 1 List, highlighting positive prospects for the company linked to AI server demand, storage needs, and an anticipated PC refresh. \n",
       "\n"
      ],
      "text/plain": [
       "<IPython.core.display.Markdown object>"
      ]
     },
     "metadata": {},
     "output_type": "display_data"
    },
    {
     "data": {
      "text/markdown": [
       "[2. Two risks to the AI tech rally - Feedly AI](https://au.investing.com/news/stock-market-news/two-risks-to-the-ai-tech-rally-432SI-3330078)  \n",
       "\n",
       "- Yardeni Research identifies two risks to the AI tech rally: excessive capital influx into AI startups and overhyped expectations in the industry.\n",
       "- Concerns include the significant amount of funding ($330 billion into 26,000 AI startups in 3 years), leading to a crowded market with profitability challenges and potential financial difficulties for startups.\n",
       "- Analysts caution about inflated claims by industry leaders like Nvidia's CEO, highlighting the need for caution due to possible AI bubble and uncertainties surrounding AI's efficiency gains and industry volatility. \n",
       "\n"
      ],
      "text/plain": [
       "<IPython.core.display.Markdown object>"
      ]
     },
     "metadata": {},
     "output_type": "display_data"
    },
    {
     "data": {
      "text/markdown": [
       "[3. 45% of Warren Buffett's $398 Billion Portfolio Is Invested in 3 Artificial Intelligence (AI) Stocks - Google News](https://news.google.com/articles/CBMiW2h0dHBzOi8vd3d3LmZvb2wuY29tL2ludmVzdGluZy8yMDI0LzA3LzA3LzQ1LXdhcnJlbi1idWZmZXR0cy0zOTgtYmlsbGlvbi1pcy1pbi0zLWFpLXN0b2Nrcy_SAQA)  \n",
       "\n",
       "- Warren Buffett's investment strategy at Berkshire Hathaway focuses on companies with steady growth, reliable profitability, and shareholder-friendly initiatives.\n",
       "- Three AI stocks in Berkshire Hathaway's portfolio, Snowflake, Amazon, and Apple, are positioned to benefit substantially from the AI revolution.\n",
       "- Apple is Berkshire Hathaway's largest position at 44.5%, having steadily grown since 2016 and introducing Apple Intelligence software to enhance user experience with AI capabilities. \n",
       "\n"
      ],
      "text/plain": [
       "<IPython.core.display.Markdown object>"
      ]
     },
     "metadata": {},
     "output_type": "display_data"
    },
    {
     "data": {
      "text/markdown": [
       "[4. Broadcom: An Essential Company For AI Investors (NASDAQ:AVGO) - Google News](https://news.google.com/articles/CBMiV2h0dHBzOi8vc2Vla2luZ2FscGhhLmNvbS9hcnRpY2xlLzQ3MDE4MDEtYnJvYWRjb20tYW4tZXNzZW50aWFsLWNvbXBhbnktZm9yLWFpLWludmVzdG9yc9IBAA)  \n",
       "\n",
       "- Broadcom is viewed as an essential company for AI investors due to its strong AI-related revenue growth, diversified offerings, high profitability, and potential for growth in semiconductor products.\n",
       "- Intrinsic value calculations suggest that Broadcom (AVGO) is currently trading at a discount, with a 9% potential upside, making it an attractive opportunity for investors.\n",
       "- Broadcom's focus on AI servers, data centers, and semiconductor products for the Internet-of-Things industry positions the company for future growth, with a strong emphasis on innovation and technological excellence. \n",
       "\n"
      ],
      "text/plain": [
       "<IPython.core.display.Markdown object>"
      ]
     },
     "metadata": {},
     "output_type": "display_data"
    },
    {
     "data": {
      "text/markdown": [
       "[5. Advanced Micro Devices, Inc. (AMD): Hedge Funds Are Bullish On This AI Stock Right Now - Google News](https://news.google.com/articles/CBMiTGh0dHBzOi8vZmluYW5jZS55YWhvby5jb20vbmV3cy9hZHZhbmNlZC1taWNyby1kZXZpY2VzLWluYy1hbWQtMDI1NjM1ODE4Lmh0bWzSAQA)  \n",
       "\n",
       "- Advanced Micro Devices, Inc. (AMD) ranks seventh on the list of biggest AI stories, with hedge funds showing bullish sentiment towards the stock\n",
       "- China is developing new AI patents faster than the US, potentially posing a threat\n",
       "- AMD is disrupting various industries with AI, achieving significant revenue growth and attracting hedge fund investments worth $15.63 billion \n",
       "\n"
      ],
      "text/plain": [
       "<IPython.core.display.Markdown object>"
      ]
     },
     "metadata": {},
     "output_type": "display_data"
    },
    {
     "data": {
      "text/markdown": [
       "[6. Better Artificial Intelligence (AI) Stock: Nvidia vs. AMD - Google News](https://news.google.com/articles/CBMiXWh0dHBzOi8vd3d3LmZvb2wuY29tL2ludmVzdGluZy8yMDI0LzA3LzAyL2JldHRlci1hcnRpZmljaWFsLWludGVsbGlnZW5jZS1zdG9jay1udmlkaWEtdnMtYW1kL9IBAA)  \n",
       "\n",
       "- Nvidia and AMD are leading players in the AI chip market, with Nvidia holding an estimated 90% market share in AI chips due to its dominance in GPUs.\n",
       "- While both companies are compelling investments as the AI market grows, Nvidia has shown stronger financial growth and free cash flow compared to AMD, making it a better long-term investment.\n",
       "- Despite both stocks being considered overvalued currently, Nvidia offers better value for investors due to its financial performance and dominance in AI chip segments. \n",
       "\n"
      ],
      "text/plain": [
       "<IPython.core.display.Markdown object>"
      ]
     },
     "metadata": {},
     "output_type": "display_data"
    },
    {
     "data": {
      "text/markdown": [
       "[7. Apple's New Artificial Intelligence (AI) Features Could Push This Semiconductor Company to a $1 Trillion Valuation - Google News](https://news.google.com/articles/CBMiXWh0dHBzOi8vd3d3LmZvb2wuY29tL2ludmVzdGluZy8yMDI0LzA3LzA0L2FwcGxlcy1uZXctYXJ0aWZpY2lhbC1pbnRlbGxpZ2VuY2UtYWktZmVhdHVyZXMtY291L9IBAA)  \n",
       "\n",
       "- Apple's new AI features rely on its own silicon chip designs, benefiting semiconductor company Taiwan Semiconductor Manufacturing (TSM) with potential for increased orders.\n",
       "- Apple's on-device AI processing with Apple Intelligence could boost TSM's sales as Apple leads the way in this technology.\n",
       "- TSM, already a significant player in chip manufacturing, stands to benefit from Apple's strong iPhone upgrade cycle, demand from Apple's data centers, and the growing trend towards edge computing. \n",
       "\n"
      ],
      "text/plain": [
       "<IPython.core.display.Markdown object>"
      ]
     },
     "metadata": {},
     "output_type": "display_data"
    },
    {
     "data": {
      "text/markdown": [
       "[8. Could ASML Be The Next Major AI Stock to Split Its Shares? - Feedly AI](https://247wallst.com/technology-3/2024/07/07/could-asml-be-the-next-major-ai-stock-to-split-its-shares/)  \n",
       "\n",
       "- ASML is a key player in semiconductor manufacturing, known for its EUV lithography process for cutting-edge semiconductors.\n",
       "- The company's shares are trading above $1,000 and have a history of stock splits during significant technological trends.\n",
       "- ASML is considered a strong investment with a monopoly in advanced semiconductor manufacturing, making it a potential candidate for another stock split in the future. \n",
       "\n"
      ],
      "text/plain": [
       "<IPython.core.display.Markdown object>"
      ]
     },
     "metadata": {},
     "output_type": "display_data"
    },
    {
     "data": {
      "text/markdown": [
       "[9. AI Stocks Keep Surging. Buy 2 That Havent. - Feedly AI](https://www.barrons.com/articles/ai-stocks-salesforce-uber-buy-8aea0217)  \n",
       "\n",
       "- Website: barrons.com is a financial news website.\n",
       "- Provides information on stocks, investing, and personal finance.\n",
       "- Offers insights, analyses, and recommendations for investors. \n",
       "\n"
      ],
      "text/plain": [
       "<IPython.core.display.Markdown object>"
      ]
     },
     "metadata": {},
     "output_type": "display_data"
    },
    {
     "data": {
      "text/markdown": [
       "[10. Forget Nvidia: This Stock-Split AI Stock Could Be a Better Buy - Google News](https://news.google.com/articles/CBMiXWh0dHBzOi8vd3d3LmZvb2wuY29tL2ludmVzdGluZy8yMDI0LzA3LzA0L2ZvcmdldC1udmlkaWEtdGhpcy1zdG9jay1zcGxpdC1haS1zdG9jay1jb3VsZC1iZS1hL9IBAA)  \n",
       "\n",
       "- Broadcom announced a 10-for-1 stock split to make shares more accessible for retail investors, with a lower valuation and more diversification than Nvidia.\n",
       "- Broadcom is positioned as a potential alternative AI stock due to its custom chip offerings tailored to specific use cases, big-name clients like Alphabet and Bytedance, and a diversified business beyond AI.\n",
       "- Despite a significant stock price increase in the past five years, Broadcom offers a relatively cheaper valuation with a forward P/E of 28 compared to competitors like Nvidia and AMD. \n",
       "\n"
      ],
      "text/plain": [
       "<IPython.core.display.Markdown object>"
      ]
     },
     "metadata": {},
     "output_type": "display_data"
    },
    {
     "data": {
      "text/markdown": [
       "[11. Generative AI Sales Could Soar 2,040%: My Pick for the Best AI Stock to Buy Now (Hint: Not Nvidia) - Feedly AI](https://www.fool.com/investing/2024/07/07/generative-ai-soar-2040-best-ai-stock-buy-now-nvda/)  \n",
       "\n",
       "- Nvidia is a dominant force in the AI processor market, with GPUs being industry standard for AI workloads, supported by the CUDA software ecosystem.\n",
       "- Super Micro Computer is gaining market share in AI servers by leveraging in-house design capabilities and a modular approach to product development.\n",
       "- Super Micro Computer is positioned as a strong AI stock investment due to its reasonable valuation, potential for growth in generative AI hardware, and market leadership in AI server sales. \n",
       "\n"
      ],
      "text/plain": [
       "<IPython.core.display.Markdown object>"
      ]
     },
     "metadata": {},
     "output_type": "display_data"
    },
    {
     "data": {
      "text/markdown": [
       "[12. Netflix vs. Disney? We asked ChatGPT-4o which stock is a better buy for 2024 - Feedly AI](https://finbold.com/netflix-vs-disney-we-asked-chatgpt-4o-which-stock-is-a-better-buy-for-2024/)  \n",
       "\n",
       "- Netflix and Disney, as dominant companies in the entertainment and streaming industry, are attracting investor attention for 2024 due to their unique positions.\n",
       "- ChatGPT-4o highlighted that Netflix shows substantial revenue and subscriber growth along with strong content library, while Disney offers diverse revenue streams and improving financial metrics.\n",
       "- The decision between investing in Netflix or Disney depends on individual investment goals and risk tolerance, with Netflix presenting high growth potential but also higher risks, while Disney may offer a more stable investment opportunity. \n",
       "\n"
      ],
      "text/plain": [
       "<IPython.core.display.Markdown object>"
      ]
     },
     "metadata": {},
     "output_type": "display_data"
    },
    {
     "data": {
      "text/markdown": [
       "[13. 1 Phenomenal Stock That Could Join Microsoft, Apple, Nvidia, Alphabet, Amazon, and Meta in the $1 Trillion Club - Google News](https://news.google.com/articles/CBMiXWh0dHBzOi8vd3d3LmZvb2wuY29tL2ludmVzdGluZy8yMDI0LzA3LzA3LzEtcGhlbm9tZW5hbC1zdG9jay10aGF0LWNvdWxkLWpvaW4tbWljcm9zb2Z0LWFwcGxlL9IBAA)  \n",
       "\n",
       "- Super Micro Computer is gaining market share rapidly in the AI hardware industry, with a distinguished track record in customized servers and fueled by the demand driven by AI.\n",
       "- The company's flexible server options, long track record, and partnerships with leading chipmakers position it well for potential growth towards a $1 trillion market cap.\n",
       "- Analysts suggest that Super Micro Computer could reach the $1 trillion market cap by 2029 or 2032 if it maintains its growth rate in the AI server market, supported by the rapid adoption of AI technology. \n",
       "\n"
      ],
      "text/plain": [
       "<IPython.core.display.Markdown object>"
      ]
     },
     "metadata": {},
     "output_type": "display_data"
    },
    {
     "data": {
      "text/markdown": [
       "[14. 3 Rapidly Rising Companies Set to Join the $1 Trillion Club - Google News](https://news.google.com/articles/CBMiXWh0dHBzOi8vaW52ZXN0b3JwbGFjZS5jb20vMjAyNC8wNy8zLXJhcGlkbHktcmlzaW5nLWNvbXBhbmllcy1zZXQtdG8tam9pbi10aGUtMS10cmlsbGlvbi1jbHViL9IBAA)  \n",
       "\n",
       "- Advanced Micro Devices (AMD) saw a boost in revenue due to success in data center segment with Instinct MI300X GPUs and server CPU sales.\n",
       "- Taiwan Semiconductor Manufacturing (TSM) maintained strong gross margin and lead in semiconductor production despite seasonal fluctuations in smartphone market.\n",
       "- Tesla (TSLA) achieved record energy storage deployments, doubled AI training compute capacity, and is set to increase car production to over 3 million annually, solidifying its position on the future trillion-dollar companies list. \n",
       "\n"
      ],
      "text/plain": [
       "<IPython.core.display.Markdown object>"
      ]
     },
     "metadata": {},
     "output_type": "display_data"
    },
    {
     "data": {
      "text/markdown": [
       "[15. Google Says AI Could Break Reality - Feedly AI](https://www.404media.co/email/dd4acda7-3cf5-48a1-a940-8bdf0aede2b4/)  \n",
       "\n",
       "- Generative AI could distort collective understanding of socio-political reality or scientific consensus, causing significant harm.\n",
       "- Misuse of generative AI tools is often not overtly malicious and does not violate content policies or terms of services.\n",
       "- The ease of flooding the internet with AI-generated content poses risks of undermining public trust and distorting information retrieval. \n",
       "\n"
      ],
      "text/plain": [
       "<IPython.core.display.Markdown object>"
      ]
     },
     "metadata": {},
     "output_type": "display_data"
    },
    {
     "data": {
      "text/markdown": [
       "[16. Top Artificial Intelligence AI Search Engines to Know in 2024 - Google News](https://news.google.com/articles/CBMiZmh0dHBzOi8vd3d3Lm1hcmt0ZWNocG9zdC5jb20vMjAyNC8wNy8wNy90b3AtYXJ0aWZpY2lhbC1pbnRlbGxpZ2VuY2UtYWktc2VhcmNoLWVuZ2luZXMtdG8ta25vdy1pbi0yMDI0L9IBamh0dHBzOi8vd3d3Lm1hcmt0ZWNocG9zdC5jb20vMjAyNC8wNy8wNy90b3AtYXJ0aWZpY2lhbC1pbnRlbGxpZ2VuY2UtYWktc2VhcmNoLWVuZ2luZXMtdG8ta25vdy1pbi0yMDI0Lz9hbXA)  \n",
       "\n",
       "- AI search engines use machine learning, natural language processing, and deep learning to provide more thorough and personalized responses to user queries.\n",
       "- Gemini, Bing AI, Komo, Yep, You.com, Phind, Neeva, Perplexity AI, and Andi are AI search engines known for their specific features like image creation, code generation, and privacy prioritization.\n",
       "- AI search engines are transforming information retrieval by offering individualized, context-aware results, catering to diverse needs such as privacy-focused queries, specialized tools for developers, and in-depth research capabilities. \n",
       "\n"
      ],
      "text/plain": [
       "<IPython.core.display.Markdown object>"
      ]
     },
     "metadata": {},
     "output_type": "display_data"
    },
    {
     "data": {
      "text/markdown": [
       "[17. Wild new way to search for anything, anywhere with Google's Circle to Search AI feature - Feedly AI](https://www.foxnews.com/tech/wild-new-way-search-anything-anywhere-googles-circle-search-ai-feature)  \n",
       "\n",
       "- Google's Circle to Search tool allows Android users to search anything on a screen without switching apps, activated by long-pressing the home button or navigation bar.\n",
       "- The Circle to Search feature offers versatile search capabilities including visual searches, text-based searches, and multisearch options for various types of content.\n",
       "- Supported on select premium Android devices, Circle to Search leverages AI to provide comprehensive information without interrupting the user's current activity. \n",
       "\n"
      ],
      "text/plain": [
       "<IPython.core.display.Markdown object>"
      ]
     },
     "metadata": {},
     "output_type": "display_data"
    },
    {
     "data": {
      "text/markdown": [
       "[18. AI's 'positive role' during Indian polls amidst deepfakes disinformation - Google News](https://news.google.com/articles/CBMiTmh0dHBzOi8vd3d3LmNvdW50ZXJ2aWV3Lm5ldC8yMDI0LzA3L2Fpcy1wb3NpdGl2ZS1yb2xlLWR1cmluZy1pbmRpYW4tcG9sbHMuaHRtbNIBAA)  \n",
       "\n",
       "- Indian political parties used AI in the form of deepfakes and targeted communication during the world's largest election\n",
       "- AI was utilized for personalized voter engagement, multilingual communication, and online trolling\n",
       "- The Indian experience showcases the potential of AI in participatory democracy and representative governance, with lessons for democracies worldwide \n",
       "\n"
      ],
      "text/plain": [
       "<IPython.core.display.Markdown object>"
      ]
     },
     "metadata": {},
     "output_type": "display_data"
    },
    {
     "data": {
      "text/markdown": [
       "[19. Our Chicago: Could artificial intelligence impact 2024 election as voters choose between Joe Biden, Donald Trump? - Google News](https://news.google.com/articles/CBMiaGh0dHBzOi8vYWJjN2NoaWNhZ28uY29tL3Bvc3QvY2hpY2Fnby1jb3VsZC1hcnRpZmljaWFsLWludGVsbGlnZW5jZS1pbXBhY3QtMjAyNC1lbGVjdGlvbi12b3RlcnMvMTUwMzY5NTEv0gEA)  \n",
       "\n",
       "- In the 2024 presidential election, there is a concern about how artificial intelligence can impact voter behavior, as evidenced by an AI-generated robocall in the New Hampshire primary sounding like Joe Biden.\n",
       "- The use of AI in political campaigns can worsen divisions in a polarized society, fuel misinformation, and pose challenges in holding bad actors accountable due to the lack of federal regulations specifically addressing AI in elections.\n",
       "- Various states, including Illinois, have different regulations regarding the use of AI in elections, creating a patchwork of laws at the national level, leading to a somewhat unregulated environment where AI's role in elections remains relatively unchecked. \n",
       "\n"
      ],
      "text/plain": [
       "<IPython.core.display.Markdown object>"
      ]
     },
     "metadata": {},
     "output_type": "display_data"
    },
    {
     "data": {
      "text/markdown": [
       "[20. Program looks at AI's impact on politics in La Crosse - Google News](https://news.google.com/articles/CBMiigFodHRwczovL3d3dy53cW93LmNvbS9uZXdzL3dpc2NvbnNpbi9wcm9ncmFtLWxvb2tzLWF0LWFpcy1pbXBhY3Qtb24tcG9saXRpY3MtaW4tbGEtY3Jvc3NlL2FydGljbGVfMWI4OGMxZTgtZjIxYy01ODMwLWI4ODYtNDI5NDA4MjY1NjQ4Lmh0bWzSAQA)  \n",
       "\n",
       "- Discussion about the use of artificial intelligence in politics in La Crosse\n",
       "- Program features nationally recognized leader Miles Taylor discussing AI's impact on elections\n",
       "- Presentation is on Zoom and sponsored by Leader Ethics and League of Women Voters of the La Crosse Area \n",
       "\n"
      ],
      "text/plain": [
       "<IPython.core.display.Markdown object>"
      ]
     },
     "metadata": {},
     "output_type": "display_data"
    },
    {
     "data": {
      "text/markdown": [
       "[21. Georgia artificial intelligence program teaches kids about bias in policing - Google News](https://news.google.com/articles/CBMiaWh0dHBzOi8vd3d3LndyZHcuY29tLzIwMjQvMDcvMDcvZ2VvcmdpYS1hcnRpZmljaWFsLWludGVsbGlnZW5jZS1wcm9ncmFtLXRlYWNoZXMta2lkcy1hYm91dC1iaWFzLXBvbGljaW5nL9IBeGh0dHBzOi8vd3d3LndyZHcuY29tLzIwMjQvMDcvMDcvZ2VvcmdpYS1hcnRpZmljaWFsLWludGVsbGlnZW5jZS1wcm9ncmFtLXRlYWNoZXMta2lkcy1hYm91dC1iaWFzLXBvbGljaW5nLz9vdXRwdXRUeXBlPWFtcA)  \n",
       "\n",
       "- Georgia AI program teaches kids about bias in policing, focusing on facial recognition and predictive policing data analysis\n",
       "- Program aims to educate kids on biases present in AI systems and how to avoid them \n",
       "- The initiative by AI for Black Kids introduces children to AI concepts to contribute to well-rounded and less biased policing techniques \n",
       "\n"
      ],
      "text/plain": [
       "<IPython.core.display.Markdown object>"
      ]
     },
     "metadata": {},
     "output_type": "display_data"
    },
    {
     "data": {
      "text/markdown": [
       "[22. California Teachers are Using AI to Grade Papers. Whos Grading the AI? - Feedly AI](https://www.the74million.org/article/california-teachers-are-using-ai-to-grade-papers-whos-grading-the-ai/)  \n",
       "\n",
       "- California schools are incorporating AI tools, such as chatbots, to automate tasks like grading papers, providing feedback, and personalizing learning material for students, which can help teachers save time and reduce burnout.\n",
       "- While AI tools offer benefits like faster grading and more feedback, guidelines on their ethical and appropriate use in classrooms are vague, and there are concerns about accuracy, bias, privacy, and potential negative impacts on students and educators.\n",
       "- Teachers like Jen Roberts and Alex Rainey have reported positive experiences using AI tools like Writable and GPT-4 to grade papers, but there are challenges such as varying grading standards, costs of AI tools, and the need for teachers to oversee AI-generated feedback to ensure better student outcomes. \n",
       "\n"
      ],
      "text/plain": [
       "<IPython.core.display.Markdown object>"
      ]
     },
     "metadata": {},
     "output_type": "display_data"
    },
    {
     "data": {
      "text/markdown": [
       "[23. Will artificial intelligence transform school? - Google News](https://news.google.com/articles/CBMiYWh0dHBzOi8vd3d3LmVjb25vbWlzdC5jb20vc3BlY2lhbC1yZXBvcnQvMjAyNC8wNy8wNy93aWxsLWFydGlmaWNpYWwtaW50ZWxsaWdlbmNlLXRyYW5zZm9ybS1zY2hvb2zSAQA)  \n",
       "\n",
       "- The boldest visions for AI in classrooms misunderstand much about education.\n",
       "- AI tools like Khanmigo are being developed for students and teachers to interact with historical figures and characters.\n",
       "- Thomas Edison's prediction from 1913 about the obsolescence of books in schools is revisited in the context of AI development in education. \n",
       "\n"
      ],
      "text/plain": [
       "<IPython.core.display.Markdown object>"
      ]
     },
     "metadata": {},
     "output_type": "display_data"
    },
    {
     "data": {
      "text/markdown": [
       "[24. So how are we doing with AI in architectural design? - Google News](https://news.google.com/articles/CBMiXmh0dHBzOi8vd3d3LmRvbXVzd2ViLml0L2VuL25ld3MvMjAyNC8wNi8yNi9hcmUtd2UtcmVhZHktdG8tdXNlLWFpLWluLWFyY2hpdGVjdHVyYWwtZGVzaWduLmh0bWzSAWJodHRwczovL3d3dy5kb211c3dlYi5pdC9lbi9uZXdzLzIwMjQvMDYvMjYvYXJlLXdlLXJlYWR5LXRvLXVzZS1haS1pbi1hcmNoaXRlY3R1cmFsLWRlc2lnbi5hbXAuaHRtbA)  \n",
       "\n",
       "- The fast evolution of AI is impacting the architectural design field, with a study commissioned by Chaos analyzing the significant use of AI in architecture and the desire for improved precision and reliability in AI tools.\n",
       "- AI is predominantly utilized in the early stages of conceptual design, enhancing efficiency and creativity, but there is a lack of defined ethical guidelines for AI use in architectural design.\n",
       "- The Royal Institute of British Academy is addressing the ethical dilemmas surrounding AI adoption in architecture, aiming to promote responsible stewardship amidst rapid technological advancements. \n",
       "\n"
      ],
      "text/plain": [
       "<IPython.core.display.Markdown object>"
      ]
     },
     "metadata": {},
     "output_type": "display_data"
    },
    {
     "data": {
      "text/markdown": [
       "[25. Harnessing AI and technological advancements in the AEC industry for enhanced efficiency and productivity - Google News](https://news.google.com/articles/CBMinAFodHRwczovL3d3dy5leHByZXNzY29tcHV0ZXIuaW4vZ3Vlc3QtYmxvZ3MvaGFybmVzc2luZy1haS1hbmQtdGVjaG5vbG9naWNhbC1hZHZhbmNlbWVudHMtaW4tdGhlLWFlYy1pbmR1c3RyeS1mb3ItZW5oYW5jZWQtZWZmaWNpZW5jeS1hbmQtcHJvZHVjdGl2aXR5LzExMzc1Mi_SAaABaHR0cHM6Ly93d3cuZXhwcmVzc2NvbXB1dGVyLmluL2FtcC9ndWVzdC1ibG9ncy9oYXJuZXNzaW5nLWFpLWFuZC10ZWNobm9sb2dpY2FsLWFkdmFuY2VtZW50cy1pbi10aGUtYWVjLWluZHVzdHJ5LWZvci1lbmhhbmNlZC1lZmZpY2llbmN5LWFuZC1wcm9kdWN0aXZpdHkvMTEzNzUyLw)  \n",
       "\n",
       "- AI in AEC industry enables problem-solving, data-driven learning, and decision support, transforming various operations.\n",
       "- AI advancements impact AEC sector with improved design capabilities, optimizing project outcomes, cost analysis, and risk management.\n",
       "- Machine learning algorithms enhance project management by automating tasks, providing real-time data analysis, and improving decision-making for project managers. \n",
       "\n"
      ],
      "text/plain": [
       "<IPython.core.display.Markdown object>"
      ]
     },
     "metadata": {},
     "output_type": "display_data"
    },
    {
     "data": {
      "text/markdown": [
       "[26. 5 Best AI Tools for the Construction Industry (July 2024) - Google News](https://news.google.com/articles/CBMiQWh0dHBzOi8vd3d3LnVuaXRlLmFpL2Jlc3QtYWktdG9vbHMtZm9yLXRoZS1jb25zdHJ1Y3Rpb24taW5kdXN0cnkv0gEA)  \n",
       "\n",
       "- AI tools are disrupting the construction industry by enhancing project management, efficiency, and data-driven decision-making.\n",
       "- AI tools like OpenSpace, Procore, ALICE Technologies, Doxel, and Buildots are transforming construction processes through real-time progress tracking, generative scheduling, and predictive analytics.\n",
       "- These AI-powered solutions improve project outcomes, optimize resource allocation, enhance safety on construction sites, and revolutionize the entire construction process from planning to completion. \n",
       "\n"
      ],
      "text/plain": [
       "<IPython.core.display.Markdown object>"
      ]
     },
     "metadata": {},
     "output_type": "display_data"
    },
    {
     "data": {
      "text/markdown": [
       "[27. What generative AI can do for construction right now - Google News](https://news.google.com/articles/CBMiWmh0dHBzOi8vd3d3LmNvbnN0cnVjdGlvbmRpdmUuY29tL25ld3MvZ2VuZXJhdGl2ZS1haS1zd2luZXJ0b24tZnV0dXJldGVjaC1NaWNyb3NvZnQvNzIwNTEzL9IBAA)  \n",
       "\n",
       "- Aaron Anderson from Swinerton discusses the current capabilities of generative AI in construction \n",
       "- Swinerton is utilizing OpenSpace AI for accurate models in a mass timber multifamily development \n",
       "- Anderson highlights the importance of AI tools, robotics integration, and evolving business models in the construction industry \n",
       "\n"
      ],
      "text/plain": [
       "<IPython.core.display.Markdown object>"
      ]
     },
     "metadata": {},
     "output_type": "display_data"
    },
    {
     "data": {
      "text/markdown": [
       "[28. HowArtificial IntelligenceCan Make Our Smart Homes, Smarter - Feedly AI](https://hackernoon.com/how-artificial-intelligence-can-make-our-smart-homes-smarter)  \n",
       "\n",
       "- AI is revolutionizing smart homes, enhancing automation, security, and convenience, and transforming our everyday living experience.\n",
       "- Smart home technology allows for intelligent automation, enhanced activity analyses, upgraded hands-free digital security, and improved home accessibility.\n",
       "- Incorporating AI into homes can lead to a more advanced ecosystem, real-time insights, comprehensive pattern identification, and immersive experiences, ultimately reshaping the real estate market towards smarter homes. \n",
       "\n"
      ],
      "text/plain": [
       "<IPython.core.display.Markdown object>"
      ]
     },
     "metadata": {},
     "output_type": "display_data"
    },
    {
     "data": {
      "text/markdown": [
       "[29. Personalized AI Farming Assistants - Google News](https://news.google.com/articles/CBMiLWh0dHBzOi8vd3d3LnRyZW5kaHVudGVyLmNvbS90cmVuZHMvYWktZmFybWluZ9IBMWh0dHBzOi8vd3d3LnRyZW5kaHVudGVyLmNvbS9hbXAvdHJlbmRzL2FpLWZhcm1pbmc)  \n",
       "\n",
       "- Netagrow is advancing AI farming by providing farmers with AI-driven tools and insights for optimized yields and sustainability.\n",
       "- The platform offers personalized recommendations on crop management, soil health, and pest control, enabling data-driven decisions to reduce waste and enhance productivity.\n",
       "- The integration of AI and agriculture signifies a new era where technology intersects with nature to ensure food security and environmental sustainability. \n",
       "\n"
      ],
      "text/plain": [
       "<IPython.core.display.Markdown object>"
      ]
     },
     "metadata": {},
     "output_type": "display_data"
    },
    {
     "data": {
      "text/markdown": [
       "[30. AI Can Learn Uses for Modern-Day Agriculture - Google News](https://news.google.com/articles/CBMieWh0dHBzOi8vd3d3LmttYWxhbmQuY29tL2FnL2FpLWNhbi1sZWFybi11c2VzLWZvci1tb2Rlcm4tZGF5LWFncmljdWx0dXJlL2FydGljbGVfYWY2Zjc1MzYtM2FlNi0xMWVmLWE2OTYtNGY5ZGJlYWZiZDBmLmh0bWzSAQA)  \n",
       "\n",
       "- Artificial intelligence can learn and utilize historical data to enhance modern-day agriculture practices, such as monitoring crop damage, disease, and pests using drones and sensors.\n",
       "- AI is being explored for its potential in identifying diseases in animals early on, ensuring prompt intervention and preventing herd-wide spread.\n",
       "- Ensuring data security is crucial in the implementation of AI in agriculture, with a focus on safeguarding information and machinery from potential cyber threats. \n",
       "\n"
      ],
      "text/plain": [
       "<IPython.core.display.Markdown object>"
      ]
     },
     "metadata": {},
     "output_type": "display_data"
    },
    {
     "data": {
      "text/markdown": [
       "[31. Artificial Intelligence is being trained to help all areas of agriculture - Google News](https://news.google.com/articles/CBMiX2h0dHBzOi8vd3d3LnJmZHR2LmNvbS9hcnRpZmljaWFsLWludGVsbGlnZW5jZS1pcy1iZWluZy10cmFpbmVkLXRvLWhlbHAtYWxsLWFyZWFzLW9mLWFncmljdWx0dXJl0gEA)  \n",
       "\n",
       "- Artificial intelligence is increasingly used in agriculture to identify plant diseases, pests, and soil conditions, with the goal of improving accuracy in various areas such as nutrition for livestock and crop protection products.\n",
       "- AI technology requires vast amounts of data to be effective, including crop data, image data, and soil samples, and ongoing input from farmers and ranchers is essential for its development.\n",
       "- The use of AI in agriculture has grown significantly, with computer science professors at Dakota State University highlighting its potential to revolutionize various aspects of the field through advanced data analysis and image recognition capabilities. \n",
       "\n"
      ],
      "text/plain": [
       "<IPython.core.display.Markdown object>"
      ]
     },
     "metadata": {},
     "output_type": "display_data"
    },
    {
     "data": {
      "text/markdown": [
       "[32. On AI's impact on sustainability - Google News](https://news.google.com/articles/CBMiamh0dHBzOi8vd3d3Lm1hbmlsYXRpbWVzLm5ldC8yMDI0LzA3LzA3L2J1c2luZXNzL3N1bmRheS1idXNpbmVzcy1pdC9vbi1haXMtaW1wYWN0LW9uLXN1c3RhaW5hYmlsaXR5LzE5NTU1MDbSAW5odHRwczovL3d3dy5tYW5pbGF0aW1lcy5uZXQvMjAyNC8wNy8wNy9idXNpbmVzcy9zdW5kYXktYnVzaW5lc3MtaXQvb24tYWlzLWltcGFjdC1vbi1zdXN0YWluYWJpbGl0eS8xOTU1NTA2L2FtcA)  \n",
       "\n",
       "- Artificial intelligence (AI) has evolved from a digital assistant to a key component in modern technology, utilized in various fields such as education, science, medical research, space exploration, and financial management.\n",
       "- Generative AI (GenAI) is a significant advancement in AI technology, becoming deeply integrated into daily activities and applications.\n",
       "- The widespread adoption of AI has implications for customer interactions, with banks and other industries increasingly relying on AI interfaces for client communication. \n",
       "\n"
      ],
      "text/plain": [
       "<IPython.core.display.Markdown object>"
      ]
     },
     "metadata": {},
     "output_type": "display_data"
    },
    {
     "data": {
      "text/markdown": [
       "[33. How AI is helping us tackle the climate crisis - Google News](https://news.google.com/articles/CBMiaWh0dHBzOi8vd3d3LnRoZWd1YXJkaWFuLmNvbS90ZWNobm9sb2d5L2FydGljbGUvMjAyNC9qdWwvMDcvaG93LWFpLWlzLWhlbHBpbmctdXMtdGFja2xlLXRoZS1jbGltYXRlLWNyaXNpc9IBaWh0dHBzOi8vYW1wLnRoZWd1YXJkaWFuLmNvbS90ZWNobm9sb2d5L2FydGljbGUvMjAyNC9qdWwvMDcvaG93LWFpLWlzLWhlbHBpbmctdXMtdGFja2xlLXRoZS1jbGltYXRlLWNyaXNpcw)  \n",
       "\n",
       "- AI can help accelerate the green transition and address climate and nature crises by enabling decarbonisation opportunities and supporting shifts towards sustainability in sectors like the built environment.\n",
       "- The power use for AI is often lower than traditional computing methods, such as in energy-intensive climate models, and discussions around its energy consumption should consider its benefits in combating larger sources of emissions like construction and transport.\n",
       "- There is a need to focus on improving the efficiency and responsible development of AI, while also harnessing its capabilities to drive the green transition further. \n",
       "\n"
      ],
      "text/plain": [
       "<IPython.core.display.Markdown object>"
      ]
     },
     "metadata": {},
     "output_type": "display_data"
    },
    {
     "data": {
      "text/markdown": [
       "[34. We ask AI to explain why we struggle with solving the climate crisis - Google News](https://news.google.com/articles/CBMibmh0dHBzOi8vZ2VvZ3JhcGhpY2FsLmNvLnVrL2NsaW1hdGUtY2hhbmdlL3dlLWFzay1haS10by1leHBsYWluLXdoeS13ZS1zdHJ1Z2dsZS13aXRoLXNvbHZpbmctdGhlLWNsaW1hdGUtY3Jpc2lz0gEA)  \n",
       "\n",
       "- Climate change is a complex issue with interconnected effects and potential cascading consequences, highlighting the importance of understanding its interactions and amplifications.\n",
       "- Reasons for lack of public awareness about climate change interconnectedness include complexity, communication challenges, information overload, psychological barriers, and political polarization.\n",
       "- Despite irreversible changes, catastrophic consequences can still be avoided through swift and decisive action by self-described intelligent human beings. \n",
       "\n"
      ],
      "text/plain": [
       "<IPython.core.display.Markdown object>"
      ]
     },
     "metadata": {},
     "output_type": "display_data"
    },
    {
     "data": {
      "text/markdown": [
       "[35. Predicting Toxic Algae Blooms with AI Modeling - Feedly AI](https://www.planetizen.com/news/2024/07/130117-predicting-toxic-algae-blooms-ai-modeling)  \n",
       "\n",
       "- Scientists are using AI and machine learning models to predict water quality issues caused by toxic blue-green algae blooms, fueled by climate change and rising water temperatures.\n",
       "- Artificial intelligence modeling will be employed to forecast toxic algal blooms by analyzing data collected since 1954 and predicting how climate change may affect the intensity and frequency of these blooms in the future.\n",
       "- These harmful algal blooms have been reported in all 50 U.S. states and can have significant consequences such as dangerous toxin levels in water sources, impacting communities and activities like summer tourism. \n",
       "\n"
      ],
      "text/plain": [
       "<IPython.core.display.Markdown object>"
      ]
     },
     "metadata": {},
     "output_type": "display_data"
    },
    {
     "data": {
      "text/markdown": [
       "[36. UAH Doctoral Candidate Leads Study On Leveraging AI And Social Media For Disaster Relief Communication - Google News](https://news.google.com/articles/CBMinQFodHRwczovL2h1bnRzdmlsbGVidXNpbmVzc2pvdXJuYWwuY29tL25ld3MvMjAyNC8wNy8wNy91YWgtZG9jdG9yYWwtY2FuZGlkYXRlLWxlYWRzLXN0dWR5LW9uLWxldmVyYWdpbmctYWktYW5kLXNvY2lhbC1tZWRpYS1mb3ItZGlzYXN0ZXItcmVsaWVmLWNvbW11bmljYXRpb24v0gEA)  \n",
       "\n",
       "- The page could not be found on the Huntsville Business Journal website.\n",
       "- Suggestions for users include checking spelling, using similar keywords, and using more than one keyword for better search results.\n",
       "- Contact information for the Huntsville Business Journal is provided on the site for inquiries and submissions. \n",
       "\n"
      ],
      "text/plain": [
       "<IPython.core.display.Markdown object>"
      ]
     },
     "metadata": {},
     "output_type": "display_data"
    },
    {
     "data": {
      "text/markdown": [
       "[37. US-China Conflict: USAF Plans 1000 6th-Gen Robo Warplanes To Counter Beijing & Its Ever Growing PLAAF - Google News](https://news.google.com/articles/CBMiRGh0dHBzOi8vd3d3LmV1cmFzaWFudGltZXMuY29tL3VzLWNoaW5hLWNvbmZsaWN0LXVzYWYtcGxhbnMtMTAwMC02dGgv0gFEaHR0cHM6Ly93d3cuZXVyYXNpYW50aW1lcy5jb20vdXMtY2hpbmEtY29uZmxpY3QtdXNhZi1wbGFucy0xMDAwLTZ0aC8)  \n",
       "\n",
       "- CCA (Collaborative Combat Aircraft) Drone is part of the US Air Force's Next Generation Air Dominance (NGAD) Family of Systems to fight China\n",
       "- The CCA program aims to develop unmanned combat air vehicles (UCAVs) that work collaboratively with manned combat aircraft, incorporating AI for increased survivability and reduced costs\n",
       "- The USAF plans to spend over $6 billion on the CCA program from 2023 to 2028, with the goal of operationalizing the systems by 2030 and deploying over 1,000 CCAs to counter the growing threats from China \n",
       "\n"
      ],
      "text/plain": [
       "<IPython.core.display.Markdown object>"
      ]
     },
     "metadata": {},
     "output_type": "display_data"
    },
    {
     "data": {
      "text/markdown": [
       "[38. Elon Musk expected to make speech at opening of Shanghai's World AI Conference - Google News](https://news.google.com/articles/CBMiiwFodHRwczovL3d3dy5yZXV0ZXJzLmNvbS90ZWNobm9sb2d5L2FydGlmaWNpYWwtaW50ZWxsaWdlbmNlL2Vsb24tbXVzay1leHBlY3RlZC1tYWtlLXNwZWVjaC1vcGVuaW5nLXNoYW5naGFpcy13b3JsZC1haS1jb25mZXJlbmNlLTIwMjQtMDctMDMv0gEA)  \n",
       "\n",
       "- Elon Musk will be a keynote speaker at the opening ceremony of the World AI Conference in Shanghai.\n",
       "- There is uncertainty whether Musk will appear in person or via video at the event.\n",
       "- Musk's speech coincides with the EU potentially imposing tariffs on Chinese electric vehicle imports. \n",
       "\n"
      ],
      "text/plain": [
       "<IPython.core.display.Markdown object>"
      ]
     },
     "metadata": {},
     "output_type": "display_data"
    },
    {
     "data": {
      "text/markdown": [
       "[39. Big Tech needs to generate $600 billion in annual revenue to justify AI hardware expenditure - Feedly AI](https://www.techspot.com/news/103699-big-tech-needs-generate-600-billion-annual-revenue.html)  \n",
       "\n",
       "- Big Tech needs to generate $600 billion in annual revenue to justify AI hardware expenditure according to the analysis by Sequoia Capital analyst, David Cahn.\n",
       "- There is a significant gap between revenue expectations from AI infrastructure build-out and actual revenue growth in the AI ecosystem, with a requirement for $600 billion in annual AI revenue.\n",
       "- Despite potential revenue growth from AI, there are concerns about the industry's ability to fill the financial gap and sustainability of investments in AI infrastructure. \n",
       "\n"
      ],
      "text/plain": [
       "<IPython.core.display.Markdown object>"
      ]
     },
     "metadata": {},
     "output_type": "display_data"
    },
    {
     "data": {
      "text/markdown": [
       "[40. Samsung expects profits to surge on demand for AI chips - Google News](https://news.google.com/articles/CBMiP2h0dHBzOi8vd3d3LmZ0LmNvbS9jb250ZW50LzhhN2M4NmZlLWYyNzEtNDRlYS05NmUxLTczMGY1NjQ5M2YzOdIBAA)  \n",
       "\n",
       "- Samsung Electronics expects a more than 15-fold increase in second-quarter operating profit due to strong demand for AI products, particularly memory chips.\n",
       "- Samsung's chip division's estimated strong operating profit in the second quarter is offsetting declining margins in the smartphone business.\n",
       "- Despite positive financial results, Samsung is facing challenges in catching up with competitors in producing advanced HBM chips and is dealing with labor strikes and management changes. \n",
       "\n"
      ],
      "text/plain": [
       "<IPython.core.display.Markdown object>"
      ]
     },
     "metadata": {},
     "output_type": "display_data"
    },
    {
     "data": {
      "text/markdown": [
       "[41. Chinas tech boom powering AI career coup, with finance muscled out at top of salary pyramid - Feedly AI](https://www.scmp.com/economy/china-economy/article/3269334/chinas-tech-boom-powering-ai-career-coup-finance-muscled-out-top-salary-pyramid)  \n",
       "\n",
       "- China's tech industry is surpassing finance in terms of salary rankings, with AI jobs offering the highest monthly salaries in a new survey\n",
       "- As China focuses on self-sufficiency in technology and global demand for AI applications increases, the job market is shifting to meet the demand\n",
       "- AI engineers are now among the top 20 best-paid jobs, with salaries exceeding those in the financial sector \n",
       "\n"
      ],
      "text/plain": [
       "<IPython.core.display.Markdown object>"
      ]
     },
     "metadata": {},
     "output_type": "display_data"
    },
    {
     "data": {
      "text/markdown": [
       "[42. China's AI model glut is a 'significant waste of resources' due to scarce real-world applications says Baidu CEO - Feedly AI](https://www.tomshardware.com/tech-industry/artificial-intelligence/chinas-ai-model-glut-is-a-significant-waste-of-resources-due-to-scarce-real-world-applications-says-baidu-ceo)  \n",
       "\n",
       "- Baidu CEO stated that China's AI model glut is unsustainable with over 100 LLMs lacking practical applications  \n",
       "- China has surpassed the U.S. in AI patents but is falling behind in citations  \n",
       "- Competition between LLMs in China leads to business consolidation with larger companies gaining advantages and smaller companies struggling to sustain their products \n",
       "\n"
      ],
      "text/plain": [
       "<IPython.core.display.Markdown object>"
      ]
     },
     "metadata": {},
     "output_type": "display_data"
    },
    {
     "data": {
      "text/markdown": [
       "[43. China's homegrown AI models are expanding - Google News](https://news.google.com/articles/CBMiO2h0dHBzOi8vcXouY29tL2VtYWlscy9kYWlseS1icmllZi8xODUxNTgwMDc2L2NoaW5hcy1haS1wdXNo0gEA)  \n",
       "\n",
       "- China's homegrown AI models are expanding, with Quartz compiling a list of the country's top artificial intelligence competitors and firms.\n",
       "- The South Korea tech giant is experiencing solid profits due to AI and chip demand, leading to a three-year high in Samsung stock.\n",
       "- Tesla's stock has seen a significant turnaround, with better-than-expected second quarter deliveries boosting the company and CEO Elon Musk's value by $10 billion. \n",
       "\n"
      ],
      "text/plain": [
       "<IPython.core.display.Markdown object>"
      ]
     },
     "metadata": {},
     "output_type": "display_data"
    },
    {
     "data": {
      "text/markdown": [
       "[44. Banks Must Guard against Scammers Using AI - Google News](https://news.google.com/articles/CBMiJWh0dHBzOi8vd3d3LmRhaWx5LXN1bi5jb20vcG9zdC83NTYzNjnSAQA)  \n",
       "\n",
       "- Criminals are using Artificial Intelligence (AI) to impersonate bank senior executives and generate AI-based scams, leading to a significant increase in fraud-related losses.\n",
       "- Banks and fraud prevention officials are concerned about the rise in fraud losses and are implementing measures such as AI tools for payment validation and customer education to prevent scams.\n",
       "- Journalists play a vital role in exposing corruption, with news reports revealing corruption among government officials, police, and army personnel, contributing to public scrutiny and combating impunity. \n",
       "\n"
      ],
      "text/plain": [
       "<IPython.core.display.Markdown object>"
      ]
     },
     "metadata": {},
     "output_type": "display_data"
    },
    {
     "data": {
      "text/markdown": [
       "[45. Fintech needs to adopt advanced AI/ML-powered models - Google News](https://news.google.com/articles/CBMiZ2h0dHBzOi8vd3d3Lm5ld2luZGlhbmV4cHJlc3MuY29tL3hwbG9yZS8yMDI0L0p1bC8wNS9maW50ZWNoLW5lZWRzLXRvLWFkb3B0LWFkdmFuY2VkLWFpbWwtcG93ZXJlZC1tb2RlbHPSAXFodHRwczovL3d3dy5uZXdpbmRpYW5leHByZXNzLmNvbS9hbXAvc3RvcnkveHBsb3JlLzIwMjQvSnVsLzA1L2ZpbnRlY2gtbmVlZHMtdG8tYWRvcHQtYWR2YW5jZWQtYWltbC1wb3dlcmVkLW1vZGVscw)  \n",
       "\n",
       "- Fintech sector adopting cloud services, IT modernization, and AI/ML integration\n",
       "- Significant threats include GenAI threats, deepfakes, phishing, and multi-cloud threats\n",
       "- Recommendations for fintechs include adopting cloud-native security, integrating security in DevOps, implementing AI/ML solutions, conducting risk analysis, and ensuring regulatory compliance \n",
       "\n"
      ],
      "text/plain": [
       "<IPython.core.display.Markdown object>"
      ]
     },
     "metadata": {},
     "output_type": "display_data"
    },
    {
     "data": {
      "text/markdown": [
       "[46. What strategies can business and technology leaders adopt to effectively balance immediate AI investments with long-term sustainability objectives?  Intelligent CIO Europe - Google News](https://news.google.com/articles/CBMiwAFodHRwczovL3d3dy5pbnRlbGxpZ2VudGNpby5jb20vZXUvMjAyNC8wNy8wNS93aGF0LXN0cmF0ZWdpZXMtY2FuLWJ1c2luZXNzLWFuZC10ZWNobm9sb2d5LWxlYWRlcnMtYWRvcHQtdG8tZWZmZWN0aXZlbHktYmFsYW5jZS1pbW1lZGlhdGUtYWktaW52ZXN0bWVudHMtd2l0aC1sb25nLXRlcm0tc3VzdGFpbmFiaWxpdHktb2JqZWN0aXZlcy_SAQA)  \n",
       "\n",
       "- UK CEOs prioritizing AI investments for competitive advantage\n",
       "- Challenge in balancing immediate AI investments with long-term sustainability goals\n",
       "- Importance of strategic transactions and industrial AI approach for sustainability goals \n",
       "\n"
      ],
      "text/plain": [
       "<IPython.core.display.Markdown object>"
      ]
     },
     "metadata": {},
     "output_type": "display_data"
    },
    {
     "data": {
      "text/markdown": [
       "[47. How Cohere CEO Aidan Gomez Says AI Will Directly Profit Companies - Google News](https://news.google.com/articles/CCAiC1pGbWFweFlCYWZZmAEB)  \n",
       "\n",
       "- Aidan Gomez, CEO of Cohere, is a key figure in generative AI development.\n",
       "- He is focused on building generative AI models for companies to boost profits.\n",
       "- Gomez was involved in writing the foundational paper on transformer tech for generative AI during his time as a Google intern in 2017. \n",
       "\n"
      ],
      "text/plain": [
       "<IPython.core.display.Markdown object>"
      ]
     },
     "metadata": {},
     "output_type": "display_data"
    },
    {
     "data": {
      "text/markdown": [
       "[48. In the age of AI, the role of the CAIO will be indispensable (and here's why) - VentureBeat](https://venturebeat.com/ai/in-the-age-of-ai-the-role-of-the-caio-will-be-indispensable-and-heres-why/)  \n",
       "\n",
       "- Chief AI officers are essential for leading organizations into the future in the AI age \n",
       "- Establishing governance for responsible AI use is crucial for companies to innovate boldly and rapidly\n",
       "- Getting AI into the hands of employees and acting decisively in adopting AI technology can provide significant advantages \n",
       "\n"
      ],
      "text/plain": [
       "<IPython.core.display.Markdown object>"
      ]
     },
     "metadata": {},
     "output_type": "display_data"
    },
    {
     "data": {
      "text/markdown": [
       "[49. CIOs concerns over generative AI echo those of the early days of cloud computing - Feedly AI](https://techcrunch.com/2024/07/07/cios-concerns-over-generative-ai-echo-those-of-the-early-days-of-cloud-computing/)  \n",
       "\n",
       "- CIOs' concerns over generative AI echo those of the early days of cloud computing, with similarities in governance, security, and responsible use.\n",
       "- CIOs have learned to focus on guiding responsible use of generative AI and enhancing customer experience, instead of just saying no to the technology.\n",
       "- IT executives understand that locking down generative AI tools is not practical, and they need to find ways to help employees use them safely and effectively to prevent unauthorized usage. \n",
       "\n"
      ],
      "text/plain": [
       "<IPython.core.display.Markdown object>"
      ]
     },
     "metadata": {},
     "output_type": "display_data"
    },
    {
     "data": {
      "text/markdown": [
       "[50. US intelligence community is embracing generative AI - Feedly AI](https://www.nextgov.com/artificial-intelligence/2024/07/us-intelligence-community-embracing-generative-ai/397849/)  \n",
       "\n",
       "- US intelligence agencies are utilizing generative AI for content triage, assisting analysts, search and discovery assistance, ideation, and brainstorming.\n",
       "- Agencies like the CIA are employing generative AI to sift through vast amounts of data, extract insights, and inform policymakers, enhancing intelligence operations.\n",
       "- Senior intelligence officials are recognizing the potential of generative AI while also emphasizing the importance of responsibly managing risks and ensuring safety, security, and compliance with privacy standards. \n",
       "\n"
      ],
      "text/plain": [
       "<IPython.core.display.Markdown object>"
      ]
     },
     "metadata": {},
     "output_type": "display_data"
    },
    {
     "data": {
      "text/markdown": [
       "[51. Passwords are passe: GenAI demands new methods of digital security - Google News](https://news.google.com/articles/CBMiX2h0dHBzOi8vd3d3LnRlY2hyYWRhci5jb20vcHJvL3Bhc3N3b3Jkcy1hcmUtcGFzc2UtZ2VuYWktZGVtYW5kcy1uZXctbWV0aG9kcy1vZi1kaWdpdGFsLXNlY3VyaXR50gEA)  \n",
       "\n",
       "- Passwords have become outdated in the age of AI, leading to increased vulnerability to cybercriminals.\n",
       "- Financial institutions face growing threats from AI-powered cybercrimes, requiring new strategies for fraud prevention.\n",
       "- Behavioral biometric intelligence offers a non-intrusive method to enhance security and combat fraudulent activities in online banking. \n",
       "\n"
      ],
      "text/plain": [
       "<IPython.core.display.Markdown object>"
      ]
     },
     "metadata": {},
     "output_type": "display_data"
    },
    {
     "data": {
      "text/markdown": [
       "[52. Tokens are a big reason todays generative AI falls short - Reddit](https://www.reddit.com/r/technology/comments/1dx38gy/tokens_are_a_big_reason_todays_generative_ai/)  \n",
       "\n",
       "- Tokens are highlighted as a significant factor contributing to the limitations of today's generative AI\n",
       "- Discussion on the definition of AI, AGI, and the perception of intelligence in the AI industry\n",
       "- Debate on the relevance and scope of artificial intelligence, including applications such as LLMs, NPC pathfinding, recommendation systems, and fraud detection \n",
       "\n"
      ],
      "text/plain": [
       "<IPython.core.display.Markdown object>"
      ]
     },
     "metadata": {},
     "output_type": "display_data"
    },
    {
     "data": {
      "text/markdown": [
       "[53. What happened to the artificial-intelligence revolution? - Feedly AI](https://www.economist.com/finance-and-economics/2024/07/02/what-happened-to-the-artificial-intelligence-revolution)  \n",
       "\n",
       "- The artificial intelligence revolution has not had a significant economic impact so far, despite high expectations and investments from major tech firms.\n",
       "- In San Francisco, there is a prevalent enthusiasm and belief in AI revolutionizing the global economy, with large investments being made in AI-related hardware and research.\n",
       "- Outside of America's west coast, there is little evidence that AI is having a significant impact in other regions. \n",
       "\n"
      ],
      "text/plain": [
       "<IPython.core.display.Markdown object>"
      ]
     },
     "metadata": {},
     "output_type": "display_data"
    },
    {
     "data": {
      "text/markdown": [
       "[54. When AI models are past their prime. - The Verge](https://www.theverge.com/2024/7/7/24193768/using-chatgpt-for-coding-help-is-a-fraught-endeavor)  \n",
       "\n",
       "- A recent study highlighted the limitations of AI models like ChatGPT when faced with coding problems that were added after their training data cutoff in 2021.\n",
       "- ChatGPT (using GPT-3.5) performed well on coding problems existing before 2021 but struggled with new problems, sometimes failing to understand the questions.\n",
       "- The study underscores the importance of having sufficient and up-to-date data for AI models to function effectively, showing a significant drop in success rate when lacking adequate data. \n",
       "\n"
      ],
      "text/plain": [
       "<IPython.core.display.Markdown object>"
      ]
     },
     "metadata": {},
     "output_type": "display_data"
    },
    {
     "data": {
      "text/markdown": [
       "[55. A former OpenAI researcher sees a clear path to AGI this decade. Bill Gates disagrees - Google News](https://news.google.com/articles/CBMiX2h0dHBzOi8vZm9ydHVuZS5jb20vMjAyNC8wNy8wMi9iaWxsLWdhdGVzLWxlb3BvbGQtYXNjaGVuYnJlbm5lci10cmVhdGlzZS1hZ2ktc3VwZXJpbnRlbGxpZ2VuY2Uv0gEA)  \n",
       "\n",
       "- Former OpenAI researcher sees AGI achievable within the next two to five years, with potential for rapid progression to artificial superintelligence.\n",
       "- Bill Gates and others doubt the feasibility of achieving AGI through scaling LLMs, emphasizing the need for better AI solutions than current models.\n",
       "- Debate surrounding the effectiveness of LLMs, with critics highlighting inherent issues and the need for metacognition in AI systems, while considering the practical business applications of current AI technologies. \n",
       "\n"
      ],
      "text/plain": [
       "<IPython.core.display.Markdown object>"
      ]
     },
     "metadata": {},
     "output_type": "display_data"
    },
    {
     "data": {
      "text/markdown": [
       "[56. AI models that cost $1 billion to train are underway, $100 billion models coming  largest current models take 'only' $100 million to train: Anthropic CEO - Feedly AI](https://www.tomshardware.com/tech-industry/artificial-intelligence/ai-models-that-cost-dollar1-billion-to-train-are-in-development-dollar100-billion-models-coming-soon-largest-current-models-take-only-dollar100-million-to-train-anthropic-ceo)  \n",
       "\n",
       "- AI training costs are growing exponentially, with models costing up to $1 billion to train and expectations for $100 billion models in the future.\n",
       "- Hardware advancements must keep up with the rapid growth in AI models, with significant power consumption and infrastructure requirements for training these advanced models.\n",
       "- The development of AI from generative artificial intelligence to artificial general intelligence is expected to be gradual, building upon past models' advancements, and hardware innovations seem to be keeping pace. \n",
       "\n"
      ],
      "text/plain": [
       "<IPython.core.display.Markdown object>"
      ]
     },
     "metadata": {},
     "output_type": "display_data"
    },
    {
     "data": {
      "text/markdown": [
       "[57. Anthropic aims to fix one of the biggest problems in AI right now - Feedly AI](https://www.digitaltrends.com/computing/anthropic-ai-benchmark-funding-program/)  \n",
       "\n",
       "- Anthropic announced a program funding the development of third-party benchmark tests to evaluate its AI models, aiming to elevate the field of AI safety.\n",
       "- The company is looking for benchmarks to measure AI safety levels, advanced capabilities, and is willing to fund the development of high-volume tasks for testing.\n",
       "- Interested developers can submit proposals to Anthropic for evaluation on a rolling basis. \n",
       "\n"
      ],
      "text/plain": [
       "<IPython.core.display.Markdown object>"
      ]
     },
     "metadata": {},
     "output_type": "display_data"
    },
    {
     "data": {
      "text/markdown": [
       "[58. How Congress is fighting the rise of nonconsensual AI porn - Feedly AI](https://thehill.com/policy/technology/4752365-regulation-nonconsensual-explicit-deepfakes/)  \n",
       "\n",
       "- Bipartisan bills introduced in Congress aim to regulate the spread of nonconsensual explicit deepfakes created using artificial intelligence.\n",
       "- The bills target the issue of nonconsensual explicit deepfakes, which have impacted public figures, celebrities, everyday people, and even school students.\n",
       "- The legislative efforts include the Defiance Act and the Take It Down Act, seeking to provide civil remedies and criminal violations for producing and sharing nonconsensual digitally altered images online. \n",
       "\n"
      ],
      "text/plain": [
       "<IPython.core.display.Markdown object>"
      ]
     },
     "metadata": {},
     "output_type": "display_data"
    },
    {
     "data": {
      "text/markdown": [
       "[59. Texas teen works to protect victims of non-consensual real and AI porn | Y'all-itics: June 27, 2024 - Google News](https://news.google.com/articles/CBMiuwFodHRwczovL3d3dy53ZmFhLmNvbS92aWRlby9uZXdzL3BvbGl0aWNzL3lhbGwtaXRpY3MvdGV4YXMtdGVlbi13b3Jrcy10by1wcm90ZWN0LXZpY3RpbXMtb2Ytbm9uLWNvbnNlbnN1YWwtcmVhbC1hbmQtYWktcG9ybi15YWxsLWl0aWNzLWp1bmUtMjctMjAyNC8yODctOGVlZjAyN2QtYmIxOS00Y2UwLWJjNjQtZDNmNjI5MDMxNmJi0gEA)  \n",
       "\n",
       "- Elliston Berry experienced the creation and spread of fake porn images of her by a classmate at the age of 14\n",
       "- Berry and her mother share their journey and challenges in dealing with the aftermath of non-consensual real and AI porn\n",
       "- The article discusses the efforts of the Texas teen in advocating for victims and raising awareness about the issue \n",
       "\n"
      ],
      "text/plain": [
       "<IPython.core.display.Markdown object>"
      ]
     },
     "metadata": {},
     "output_type": "display_data"
    },
    {
     "data": {
      "text/markdown": [
       "[60. GenAI Helps Drive 118% Increase in Job Scams, ITRC Says - Google News](https://news.google.com/articles/CBMic2h0dHBzOi8vd3d3LnB5bW50cy5jb20vYXJ0aWZpY2lhbC1pbnRlbGxpZ2VuY2UtMi8yMDI0L2dlbmFpLWhlbHBzLWRyaXZlLTExOHBlcmNlbnQtaW5jcmVhc2UtaW4tam9iLXNjYW1zLWl0cmMtc2F5cy_SAQA)  \n",
       "\n",
       "- Generative artificial intelligence (AI) led to a 118% increase in job scams in 2023, with cybercriminals using AI to make scams appear more legitimate.\n",
       "- Scammers targeted individuals on job posting platforms and social media, asking for sensitive personal information under the guise of fake job opportunities.\n",
       "- Despite an overall 18% decrease in reported scams, job scams increased, highlighting the impact of AI advancements in aiding cybercriminals. \n",
       "\n"
      ],
      "text/plain": [
       "<IPython.core.display.Markdown object>"
      ]
     },
     "metadata": {},
     "output_type": "display_data"
    },
    {
     "data": {
      "text/markdown": [
       "[61. Job scams surged 118% in 2023, aided by AI. Here's how to stop them - Google News](https://news.google.com/articles/CBMia2h0dHBzOi8vd3d3LmNuYmMuY29tLzIwMjQvMDcvMDcvam9iLXNjYW1zLXN1cmdlZC0xMThwZXJjZW50LWluLTIwMjMtYWlkZWQtYnktYWktaGVyZXMtaG93LXRvLXN0b3AtdGhlbS5odG1s0gFvaHR0cHM6Ly93d3cuY25iYy5jb20vYW1wLzIwMjQvMDcvMDcvam9iLXNjYW1zLXN1cmdlZC0xMThwZXJjZW50LWluLTIwMjMtYWlkZWQtYnktYWktaGVyZXMtaG93LXRvLXN0b3AtdGhlbS5odG1s)  \n",
       "\n",
       "- Job scams surged 118% in 2023, driven by AI and remote work, leading to an increase in fraudulent job and recruitment ads aimed at stealing personal and financial information from job seekers.\n",
       "- Scammers pose as recruiters or post fake job listings on reputable platforms, tricking victims into divulging sensitive information that can be used for identity theft, with the typical victim losing around $2,000.\n",
       "- Employment scams, though accounting for only 9% of identity scams, are an emerging threat, leveraging AI advancements to make fraudulent job offers appear more legitimate, highlighting the importance of independently verifying job opportunities and avoiding upfront requests for personal information. \n",
       "\n"
      ],
      "text/plain": [
       "<IPython.core.display.Markdown object>"
      ]
     },
     "metadata": {},
     "output_type": "display_data"
    },
    {
     "data": {
      "text/markdown": [
       "[62. Cloudflare launches a tool to combat AI bots - Feedly AI](https://techcrunch.com/2024/07/03/cloudflare-launches-a-tool-to-combat-ai-bots)  \n",
       "\n",
       "- Cloudflare has launched a tool to automatically detect and block AI bots, crawlers, and scrapers.\n",
       "- The tool analyzes AI bot and crawler traffic to fine-tune automatic bot detection models and flag traffic from evasive AI bots.\n",
       "- The problem of AI bots has escalated with the demand for model training data, leading many sites to block AI scrapers and crawlers, although some vendors still appear to be circumventing standard bot exclusion rules. \n",
       "\n"
      ],
      "text/plain": [
       "<IPython.core.display.Markdown object>"
      ]
     },
     "metadata": {},
     "output_type": "display_data"
    },
    {
     "data": {
      "text/markdown": [
       "[63. Computer love: AI-powered chatbots are changing how we understand romantic and sexual well-being - Feedly AI](https://theconversation.com/computer-love-ai-powered-chatbots-are-changing-how-we-understand-romantic-and-sexual-well-being-234054)  \n",
       "\n",
       "- AI-powered chatbots offer companionship, intimacy, and emotional support, leading users to form genuine emotional bonds with them, even resembling human relationships.\n",
       "- There are concerns that reliance on AI romantic companions may hinder the development of social skills, emotional growth, and the ability to navigate real-world relationships.\n",
       "- Privacy issues have been raised regarding AI chatbots, as they may share personal data and potentially lead to social isolation and emotional dependency for users. \n",
       "\n"
      ],
      "text/plain": [
       "<IPython.core.display.Markdown object>"
      ]
     },
     "metadata": {},
     "output_type": "display_data"
    },
    {
     "data": {
      "text/markdown": [
       "[64. Real criminals, fake victims: how chatbots are being deployed in the global fight against phone scammers - Reddit](https://www.reddit.com/r/technology/comments/1dxhln5/real_criminals_fake_victims_how_chatbots_are/)  \n",
       "\n",
       "- Chatbots are being utilized in the global fight against phone scammers to engage and waste scammers' time.\n",
       "- The use of chatbots aims to reduce the success rate of scam calls and protect potential victims.\n",
       "- Certain companies are deploying strategies involving AI to combat phone scammers and enhance security measures. \n",
       "\n"
      ],
      "text/plain": [
       "<IPython.core.display.Markdown object>"
      ]
     },
     "metadata": {},
     "output_type": "display_data"
    },
    {
     "data": {
      "text/markdown": [
       "[65. AI Creates A 1950s The Fifth Element Movie Trailer & It's Freaky - Feedly AI](https://www.looper.com/1613987/ai-1950s-the-fifth-element-movie-trailer-freaky/)  \n",
       "\n",
       "- AI technology reimagined \"The Fifth Element\" movie in a 1950s retro style, giving it a unique visual aesthetic with a throwback vibe.\n",
       "- The fan-made concept trailer features elements like flying cars, buildings, and spacecrafts inspired by 1950s designs, creating a new perspective on the futuristic world of the film.\n",
       "- Despite positive reception and hopes from fans, there are no current plans for a 1950s-set \"The Fifth Element\" remake or sequel, as the original remains a cult classic in the sci-fi genre. \n",
       "\n"
      ],
      "text/plain": [
       "<IPython.core.display.Markdown object>"
      ]
     },
     "metadata": {},
     "output_type": "display_data"
    },
    {
     "data": {
      "text/markdown": [
       "[66. AI turns Family Guy into a 1980s live action sitcom and the results are freaky - Feedly AI](https://www.unilad.com/film-and-tv/news/family-guy-live-action-ai-831421-20240705)  \n",
       "\n",
       "- AI technology has been used to transform popular cartoons like Family Guy into live-action sitcoms from the 1980s, resulting in both hilarious and terrifying outcomes\n",
       "- The AI-generated mockup of Family Guy features characters like Peter, Lois, Meg, and Chris, as well as unique interpretations of iconic characters like the Giant Chicken and Stewie\n",
       "- Viewers reacted with a mix of fascination and unease, with some expressing interest in watching a full sitcom version of the AI-transformed Family Guy \n",
       "\n"
      ],
      "text/plain": [
       "<IPython.core.display.Markdown object>"
      ]
     },
     "metadata": {},
     "output_type": "display_data"
    },
    {
     "data": {
      "text/markdown": [
       "[67. next level image gen, i can see why artists are going out of business - Reddit](https://www.reddit.com/r/ChatGPT/comments/1dxf72r/next_level_image_gen_i_can_see_why_artists_are/)  \n",
       "\n",
       "- Users on r/ChatGPT discuss the capabilities of an image generation model, comparing it to human coding skills and discussing its potential applications in creative projects.\n",
       "- Some users express surprise at the model's ability to visualize unique images, highlighting its potential in assisting with coding tasks and generating creative solutions.\n",
       "- There are mixed reactions within the community regarding the ease of generating images using the model, with debates on coding complexity, AI capabilities, and the efficiency of using AI tools. \n",
       "\n"
      ],
      "text/plain": [
       "<IPython.core.display.Markdown object>"
      ]
     },
     "metadata": {},
     "output_type": "display_data"
    },
    {
     "data": {
      "text/markdown": [
       "[68. Trend Of Hurkle-Durkling In Bed Gets Boosted To High Form Via Modern Generative AI - Feedly AI](https://www.forbes.com/sites/lanceeliot/2024/07/07/trend-of-hurkle-durkling-in-bed-gets-boosted-to-high-form-via-modern-generative-ai/)  \n",
       "\n",
       "- Hurkle-durkling is the act of lounging in bed longer than necessary after waking up.\n",
       "- Generative AI can help detect hurkle-durkling, provide mental health advisement, and analyze behavior patterns associated with it.\n",
       "- Hurkle-durkling can have both positive aspects like rest and relaxation, and negative aspects like procrastination and routine disruption. \n",
       "\n"
      ],
      "text/plain": [
       "<IPython.core.display.Markdown object>"
      ]
     },
     "metadata": {},
     "output_type": "display_data"
    },
    {
     "data": {
      "text/markdown": [
       "[69. Fashion Gets a Generative AI Makeover - Feedly AI](https://analyticsindiamag.com/fashion-gets-a-generative-ai-makeover/)  \n",
       "\n",
       "- Generative AI has the potential to boost the fashion industry's profits by $150 billion to $275 billion by 2030.\n",
       "- AI algorithms are used to create innovative styles, inspiring designers and making high fashion accessible and diverse.\n",
       "- Fashion brands like The Fabricant and Rebeca Minkoff use AI for digital clothing designs, GANs generate new fashion designs from existing styles, and various companies integrate AI for trend forecasting and personalized shopping experiences. \n",
       "\n"
      ],
      "text/plain": [
       "<IPython.core.display.Markdown object>"
      ]
     },
     "metadata": {},
     "output_type": "display_data"
    },
    {
     "data": {
      "text/markdown": [
       "[70. Metas new AI model can turn text into 3D images in under a minute - Feedly AI](https://www.digitaltrends.com/computing/meta-3d-gen-ai-retexture/)  \n",
       "\n",
       "- Meta's new \"3D Gen\" AI model can transform text into high-fidelity 3D images in under a minute.\n",
       "- The model can generate 3D models quickly and apply new textures using text prompts.\n",
       "- The model demonstrates high-resolution textures, material maps, physically-based rendering, and generative re-texturing capabilities. \n",
       "\n"
      ],
      "text/plain": [
       "<IPython.core.display.Markdown object>"
      ]
     },
     "metadata": {},
     "output_type": "display_data"
    },
    {
     "data": {
      "text/markdown": [
       "[71. German court allows patents for AI-generated inventions - Feedly AI](https://www.surrey.ac.uk/news/german-court-allows-patents-ai-generated-inventions)  \n",
       "\n",
       "- German court rules that inventions generated by artificial intelligence can be patented, resolving a split between German federal appellate courts\n",
       "- The decision allows for a natural person to be named as an inventor even if AI was used in generating the invention\n",
       "- This decision is part of the Artificial Inventor Project led by Professor Ryan Abbott from the University of Surrey \n",
       "\n"
      ],
      "text/plain": [
       "<IPython.core.display.Markdown object>"
      ]
     },
     "metadata": {},
     "output_type": "display_data"
    },
    {
     "data": {
      "text/markdown": [
       "[72. Does Generative AI Violate the Rights of Authors and Artists? - HackerNoon](https://hackernoon.com/does-generative-ai-violate-the-rights-of-authors-and-artists)  \n",
       "\n",
       "- Authors, artists, and employers are upset over generative AI, leading to pending lawsuits and concerns about the impact on their livelihoods.\n",
       "- Legal questions surrounding copyright and fair use in relation to generative AI are complex and remain unresolved.\n",
       "- While generative AI can enhance creativity and knowledge, there are debates on whether AI should be treated differently under copyright law and how it may impact various industries in the future. \n",
       "\n"
      ],
      "text/plain": [
       "<IPython.core.display.Markdown object>"
      ]
     },
     "metadata": {},
     "output_type": "display_data"
    },
    {
     "data": {
      "text/markdown": [
       "[73. Is the First Generative AI Camera on the Horizon? - Google News](https://news.google.com/articles/CBMiR2h0dHBzOi8vd3d3LmNpbmVkLmNvbS9pcy10aGUtZmlyc3QtZ2VuZXJhdGl2ZS1haS1jYW1lcmEtb24tdGhlLWhvcml6b24v0gEA)  \n",
       "\n",
       "- The CMR M-1 camera is a new concept camera co-developed by SpecialGuestX and 1stAveMachine, featuring generative AI technology.\n",
       "- The camera challenges the traditional concept of a camera by incorporating generative AI algorithms alongside basic light-capturing elements.\n",
       "- The CMR M-1 offers a unique workflow that combines vintage design elements with modern generative AI technology, providing a glimpse into potential future camera features. \n",
       "\n"
      ],
      "text/plain": [
       "<IPython.core.display.Markdown object>"
      ]
     },
     "metadata": {},
     "output_type": "display_data"
    },
    {
     "data": {
      "text/markdown": [
       "[74. OpenAI-Powered Humanoid Robot Fills Spot At BMW Assembly Plant - Feedly AI](https://www.forbes.com/sites/chriswestfall/2024/07/07/openai-powered-humanoid-robot-fills-spot-at-bmw-assembly-plant/)  \n",
       "\n",
       "- BMW's Spartanburg plant is testing a new fully autonomous humanoid robot in its assembly process, with machine learning capabilities powered by OpenAI and built by Figure.\n",
       "- Humanoid robots are becoming increasingly important in manufacturing due to factors like labor shortages, hazardous tasks, and repetitive work, leading car makers to explore automation options.\n",
       "- Agility Robotics has established a humanoid robot factory, where production costs have significantly decreased, making humanoid robots more accessible for tasks requiring manual dexterity, navigation, and decision-making. \n",
       "\n"
      ],
      "text/plain": [
       "<IPython.core.display.Markdown object>"
      ]
     },
     "metadata": {},
     "output_type": "display_data"
    },
    {
     "data": {
      "text/markdown": [
       "[75. Figure 01: Coffee-making humanoid robot now shows car assembly skill at BMW - Google News](https://news.google.com/articles/CBMicGh0dHBzOi8vYmxvZy5hZGFmcnVpdC5jb20vMjAyNC8wNy8wNi9maWd1cmUtMDEtY29mZmVlLW1ha2luZy1odW1hbm9pZC1yb2JvdC1ub3ctc2hvd3MtY2FyLWFzc2VtYmx5LXNraWxsLWF0LWJtdy_SAQA)  \n",
       "\n",
       "- Figure signed a commercial agreement with BMW to deploy its humanoid robot in the carmaker's production facility\n",
       "- The California-based robotics firm released a video showcasing its 01 humanoid robot participating in the vehicle assembly process at BMW\n",
       "- Adafruit Industries publishes various content including interviews and reporting on the maker market and technology industry \n",
       "\n"
      ],
      "text/plain": [
       "<IPython.core.display.Markdown object>"
      ]
     },
     "metadata": {},
     "output_type": "display_data"
    },
    {
     "data": {
      "text/markdown": [
       "[76. Video: Figure 01 humanoid trains for its first job assembling BMWs - Google News](https://news.google.com/articles/CBMiMmh0dHBzOi8vbmV3YXRsYXMuY29tL3JvYm90aWNzL2ZpZ3VyZS1odW1hbm9pZC1ibXcv0gEA)  \n",
       "\n",
       "- Figure's humanoid robot has been training to work at a BMW manufacturing plant\n",
       "- Various companies are developing AI-powered humanoids to undertake physical tasks more efficiently than humans\n",
       "- These robots are in training for real-world customer operations, particularly in car manufacturing industries \n",
       "\n"
      ],
      "text/plain": [
       "<IPython.core.display.Markdown object>"
      ]
     },
     "metadata": {},
     "output_type": "display_data"
    },
    {
     "data": {
      "text/markdown": [
       "[77. Watch: Figure's 01 humanoids now working at BMW's car plant in US - Google News](https://news.google.com/articles/CBMiXmh0dHBzOi8vaW50ZXJlc3RpbmdlbmdpbmVlcmluZy5jb20vaW5ub3ZhdGlvbi91cy1maWd1cmUtaHVtYW5vaWQtc3RhcnQtb3BlcmF0aW9ucy1hdC1ibXctcGxhbnTSAQA)  \n",
       "\n",
       "- Figure's humanoid robot is deployed at BMW's facility in Spartanburg, SC, demonstrating full autonomy in vehicle assembly with actions guided by neural networks.\n",
       "- The versatile humanoid robots from Figure can handle various manufacturing tasks, such as sheet metal handling, operating in the body shop, and overseeing the warehouse, with precise placement capabilities enabled by neural networks.\n",
       "- Several car manufacturers, including BMW and Mercedes, are exploring the use of humanoid robots for automating repetitive and hazardous tasks on assembly lines to improve productivity and address workforce scaling challenges. \n",
       "\n"
      ],
      "text/plain": [
       "<IPython.core.display.Markdown object>"
      ]
     },
     "metadata": {},
     "output_type": "display_data"
    },
    {
     "data": {
      "text/markdown": [
       "[78. Official PyTorch Documentary Revisits Its Past, and Its Future - Hacker News 2](https://thenewstack.io/official-pytorch-documentary-revisits-its-past-and-its-future/)  \n",
       "\n",
       "- PyTorch is utilized by over 60% of AI jobs today and has a significant impact on AI research implementations.\n",
       "- The official PyTorch documentary titled \"Powering the AI Revolution\" recounts the creation and development of the deep learning framework, highlighting its exponential growth.\n",
       "- The documentary reflects on the evolution of AI tools, the origin and rise of PyTorch, its contributions to various industries, and its future potential in enabling diverse platforms and applications. \n",
       "\n"
      ],
      "text/plain": [
       "<IPython.core.display.Markdown object>"
      ]
     },
     "metadata": {},
     "output_type": "display_data"
    },
    {
     "data": {
      "text/markdown": [
       "[79. Perseverance Triumphs: How SHERLOC Was Brought Back to Life on Mars - Reddit](https://www.reddit.com/r/technology/comments/1dx7p3r/perseverance_triumphs_how_sherloc_was_brought/)  \n",
       "\n",
       "- A post in r/technology discusses the successful revival of SHERLOC on Mars\n",
       "- The post includes 40 points and 2 comments from users\n",
       "- Users express excitement and amazement at the feat of bringing the science-built machine back to life on Mars \n",
       "\n"
      ],
      "text/plain": [
       "<IPython.core.display.Markdown object>"
      ]
     },
     "metadata": {},
     "output_type": "display_data"
    },
    {
     "data": {
      "text/markdown": [
       "[80. 400 robotic surgeries, 98% survival rate: Saudi hospital achieves milestone - Reddit](https://www.reddit.com/r/tech/comments/1dxeodw/400_robotic_surgeries_98_survival_rate_saudi/)  \n",
       "\n",
       "- Saudi hospital achieves a milestone of 400 successful robotic cardiac surgeries with a 98% survival rate\n",
       "- Discussions in the Reddit post include questions about the specifics of robotic surgery, the role of human control in robotic surgeries, and comparisons with traditional surgery survival rates\n",
       "- Some skepticism and questions are raised regarding the reported statistics and the performance of robotic surgery, particularly in cardiac surgeries. \n",
       "\n"
      ],
      "text/plain": [
       "<IPython.core.display.Markdown object>"
      ]
     },
     "metadata": {},
     "output_type": "display_data"
    },
    {
     "data": {
      "text/markdown": [
       "[81. Press Release: A 2D device for quantum cooling:EPFL engineers have created a device that can efficiently convert heat into electrical voltage at temperatures lower than that of outer space. The innovation could help overcome a significant obstacle to the adva - Google News](https://news.google.com/articles/CBMiNGh0dHBzOi8vd3d3Lm5hbm90ZWNoLW5vdy5jb20vbmV3cy5jZ2k_c3RvcnlfaWQ9NTc0OTfSAQA)  \n",
       "\n",
       "- EPFL engineers created a 2D device that efficiently converts heat into electrical voltage at temperatures lower than outer space.\n",
       "- The device helps in overcoming obstacles in quantum computing technology by cooling quantum bits to millikelvin temperatures.\n",
       "- The device combines graphene and indium selenide to exploit the Nernst effect, allowing for efficient heat to voltage conversion at ultra-low temperatures. \n",
       "\n"
      ],
      "text/plain": [
       "<IPython.core.display.Markdown object>"
      ]
     },
     "metadata": {},
     "output_type": "display_data"
    },
    {
     "data": {
      "text/markdown": [
       "[82. Step aside Futurama, scientist build robot that's controlled by a brain in a jar - Reddit](https://www.reddit.com/r/tech/comments/1dxf0nq/step_aside_futurama_scientist_build_robot_thats/)  \n",
       "\n",
       "- Scientists have developed a robot controlled by a brain in a jar, reminiscent of science fiction concepts like Krang and Robobrains.\n",
       "- The robot is a mockup and the actual brain is kept separate for testing, raising questions about the ethical and practical implications of using human or animal brains for such technology.\n",
       "- There is discussion on the potential use of proto-brains and the ethical considerations of creating consciousness in non-born entities for tasks like servitude. \n",
       "\n"
      ],
      "text/plain": [
       "<IPython.core.display.Markdown object>"
      ]
     },
     "metadata": {},
     "output_type": "display_data"
    },
    {
     "data": {
      "text/markdown": [
       "[83. Policy Learning with Large World Models: Advancing Multi-Task Reinforcement Learning Efficiency and Performance - Feedly AI](https://www.marktechpost.com/2024/07/07/policy-learning-with-large-world-models-advancing-multi-task-reinforcement-learning-efficiency-and-performance/)  \n",
       "\n",
       "- Reinforcement Learning (RL) is effective for individual tasks but struggles with multitasking, especially with different robotic forms\n",
       "- Policy Learning with Large World Models (PWM) introduced as an innovative model-based reinforcement learning algorithm \n",
       "- PWM utilizes large multi-task world models for efficient policy training, outperforming existing methods with higher rewards and smoother optimization landscapes \n",
       "\n"
      ],
      "text/plain": [
       "<IPython.core.display.Markdown object>"
      ]
     },
     "metadata": {},
     "output_type": "display_data"
    },
    {
     "data": {
      "text/markdown": [
       "[84. InternLM2.5-7B-Chat: Open Sourcing Large Language Models with Unmatched Reasoning, Long-Context Handling, and Enhanced Tool Use - Feedly AI](https://www.marktechpost.com/2024/07/07/internlm2-5-7b-chat-open-sourcing-large-language-models-with-unmatched-reasoning-long-context-handling-and-enhanced-tool-use/)  \n",
       "\n",
       "- InternLM has introduced InternLM2.5-7B-Chat, a large language model in GGUF format compatible with llama.cpp, highlighting state-of-the-art reasoning in mathematical tasks and a 1M context window.\n",
       "- The model's capability in handling long contexts is enhanced with LMDeploy toolkit for compressing, deploying, and serving LLMs, particularly effective in retrieving information from extensive documents.\n",
       "- InternLM2.5-7B-Chat demonstrates superior performance in various benchmarks, excelling in tool use, and offers a guide for installation, model download, and deployment examples with faster inference capabilities on NVIDIA GPUs. \n",
       "\n"
      ],
      "text/plain": [
       "<IPython.core.display.Markdown object>"
      ]
     },
     "metadata": {},
     "output_type": "display_data"
    },
    {
     "data": {
      "text/markdown": [
       "[85. Reasoning in Large Language Models: A Geometric Perspective - Hacker News](https://arxiv.org/abs/2407.02678)  \n",
       "\n",
       "- The study explores reasoning abilities of large language models (LLMs) through a geometric understanding.\n",
       "- A connection is established between the expressive power of LLMs and the density of their self-attention graphs.\n",
       "- The density of these graphs defines the intrinsic dimension of the inputs to the MLP blocks, with higher intrinsic dimensions implying greater expressive capacity. \n",
       "\n"
      ],
      "text/plain": [
       "<IPython.core.display.Markdown object>"
      ]
     },
     "metadata": {},
     "output_type": "display_data"
    },
    {
     "data": {
      "text/markdown": [
       "[86. Workplace harrasment diagram by chatGPT - Reddit](https://www.reddit.com/r/ChatGPT/comments/1dxd1yg/workplace_harrasment_diagram_by_chatgpt/)  \n",
       "\n",
       "- Workplace harassment diagram by ChatGPT shared on r/ChatGPT\n",
       "- Rules on post behavior within the ChatGPT subreddit\n",
       "- Comments by users on the diagram and its interpretation \n",
       "\n"
      ],
      "text/plain": [
       "<IPython.core.display.Markdown object>"
      ]
     },
     "metadata": {},
     "output_type": "display_data"
    },
    {
     "data": {
      "text/markdown": [
       "[87. OpenAI's ChatGPT Mac App Was Saving Chats as Plain Text - Feedly AI](https://www.pcmag.com/news/openais-chatgpt-mac-app-was-saving-chats-as-plain-text)  \n",
       "\n",
       "- OpenAI's ChatGPT Mac app was saving chats as plain text.\n",
       "- The issue was corrected through an update this week.\n",
       "- The app now encrypts local chats but messages are still not sandboxed. \n",
       "\n"
      ],
      "text/plain": [
       "<IPython.core.display.Markdown object>"
      ]
     },
     "metadata": {},
     "output_type": "display_data"
    },
    {
     "data": {
      "text/markdown": [
       "[88. How ChatGPT is Revolutionizing Customer Service in 2024 - Feedly AI](https://www.marktechpost.com/2024/07/07/how-chatgpt-is-revolutionizing-customer-service-in-2024/)  \n",
       "\n",
       "- OpenAI's ChatGPT is transforming customer service in 2024 using advanced AI technology\n",
       "- ChatGPT enhances customer interactions through natural language processing and offers 24/7 availability for inquiries\n",
       "- Implementing ChatGPT in customer service operations reduces costs, provides personalization, multilingual support, scalability, and continuous improvement through machine learning \n",
       "\n"
      ],
      "text/plain": [
       "<IPython.core.display.Markdown object>"
      ]
     },
     "metadata": {},
     "output_type": "display_data"
    },
    {
     "data": {
      "text/markdown": [
       "[89. What are some creative or unexpected uses of ChatGPT youve discovered? - Reddit](https://www.reddit.com/r/ChatGPT/comments/1dxexjh/what_are_some_creative_or_unexpected_uses_of/)  \n",
       "\n",
       "- Users have discovered creative uses of ChatGPT such as generating beer recommendations based on a menu photo, translating foreign restaurant menus, creating bedtime stories, and generating music for D&D campaign recaps.\n",
       "- ChatGPT has been utilized for tasks like resume tailoring for job applications, preparing for interviews, writing emails, optimizing grocery shopping lists, and learning about topics through daily discussions.\n",
       "- It has also been employed in generating workout plans, meal recipes, legal contract analysis, and assisting lawyers in tasks like summarization, syntax review, and document templating. \n",
       "\n"
      ],
      "text/plain": [
       "<IPython.core.display.Markdown object>"
      ]
     },
     "metadata": {},
     "output_type": "display_data"
    },
    {
     "data": {
      "text/markdown": [
       "[90. GPT-4o vs Gemini 1.5 Pro vs Claude 3.5 Sonnet. Only Claude calls astrology bullshit right away - Reddit](https://www.reddit.com/r/ChatGPT/comments/1dxmm0u/gpt4o_vs_gemini_15_pro_vs_claude_35_sonnet_only/)  \n",
       "\n",
       "- Claude 3.5 Sonnet stands out by calling astrology bullshit immediately.\n",
       "- Users express satisfaction with Claude's responses and effectiveness.\n",
       "- Discussion includes comparisons between GPT-4o, Gemini 1.5 Pro, and Claude 3.5 Sonnet, with Claude receiving positive feedback for its performance. \n",
       "\n"
      ],
      "text/plain": [
       "<IPython.core.display.Markdown object>"
      ]
     },
     "metadata": {},
     "output_type": "display_data"
    },
    {
     "data": {
      "text/markdown": [
       "[91. I learned how to use AI generative prompts with this one app - Feedly AI](https://www.techradar.com/computing/websites-apps/i-learned-how-to-use-ai-generative-prompts-with-this-one-app)  \n",
       "\n",
       "- Sololearn provides a range of courses from AI to Python, offering an engaging and hands-on learning experience with real-time feedback.\n",
       "- The app offers games like 'Bug Hunter' and challenges against opponents, fostering motivation and competition within the Sololearn community.\n",
       "- Users can also create code in the Code Playground for community feedback, making it a valuable tool for error debugging and improvement in programming skills. \n",
       "\n"
      ],
      "text/plain": [
       "<IPython.core.display.Markdown object>"
      ]
     },
     "metadata": {},
     "output_type": "display_data"
    },
    {
     "data": {
      "text/markdown": [
       "[92. Mitigating AI bias with prompt engineering  putting GPT to the test - Google News](https://news.google.com/articles/CBMiXmh0dHBzOi8vdmVudHVyZWJlYXQuY29tL2FpL21pdGlnYXRpbmctYWktYmlhcy13aXRoLXByb21wdC1lbmdpbmVlcmluZy1wdXR0aW5nLWdwdC10by10aGUtdGVzdC_SAQA)  \n",
       "\n",
       "- The experimental methodology analyzed the influence of different AI prompt designs on generating unbiased and fair content from LLMs.\n",
       "- Ethically-informed prompts demonstrated a reduction in biased output and increased equitable representation of diverse groups compared to neutral prompts.\n",
       "- Developing tailored approaches with emphasis on inclusive language and social context can enhance fairness in AI applications and mitigate biases. \n",
       "\n"
      ],
      "text/plain": [
       "<IPython.core.display.Markdown object>"
      ]
     },
     "metadata": {},
     "output_type": "display_data"
    },
    {
     "data": {
      "text/markdown": [
       "[93. Samsung Galaxy AI could soon offer real-time translations in WhatsApp - Feedly AI](https://www.techradar.com/phones/samsung-galaxy-phones/samsung-galaxy-ai-could-soon-offer-real-time-translations-in-whatsapp)  \n",
       "\n",
       "- Samsung Galaxy AI is expected to offer real-time translations in WhatsApp through third-party integrations, expanding its Live Translate feature to other apps.\n",
       "- The integration could extend to audio calls in WhatsApp, allowing translations between languages during conversations, in addition to text messages.\n",
       "- Samsung is focusing on incorporating AI features in their phones to stay competitive with other manufacturers like Apple and Google, showcasing the importance of AI in smartphone technology advancements. \n",
       "\n"
      ],
      "text/plain": [
       "<IPython.core.display.Markdown object>"
      ]
     },
     "metadata": {},
     "output_type": "display_data"
    },
    {
     "data": {
      "text/markdown": [
       "[94. Meta AI may get more collaborative in WhatsApp for Android. - Feedly AI](https://www.theverge.com/2024/7/7/24193680/meta-ai-may-get-more-collaborative-in-whatsapp-for-android)  \n",
       "\n",
       "- A new WhatsApp beta version for Android allows users to send photos to Meta AI and ask it questions or edit the image using prompts.\n",
       "- Meta has been introducing more image-generation features on WhatsApp, including a beta feature that enables Meta AI to create avatars for users based on their photos.\n",
       "- The collaboration between Meta AI and WhatsApp on Android may increase, providing users with more interactive and AI-driven experiences within the app. \n",
       "\n"
      ],
      "text/plain": [
       "<IPython.core.display.Markdown object>"
      ]
     },
     "metadata": {},
     "output_type": "display_data"
    },
    {
     "data": {
      "text/markdown": [
       "[95. WhatsApp's new feature will let Meta AI edit your photos for you - Feedly AI](https://www.androidauthority.com/whatsapp-meta-ai-update-3457975/)  \n",
       "\n",
       "- WhatsApp's beta version introduced a new feature that allows users to share photos with Meta AI, which can analyze, provide information, and even edit the uploaded images directly in the chat.\n",
       "- Meta AI will offer users the capability to ask questions about their photos, identify objects or locations, and request edits to their images.\n",
       "- The extent of the image editing feature within Meta AI in WhatsApp, currently in development, remains unclear but has the potential to revolutionize photo editing capabilities through AI technology. \n",
       "\n"
      ],
      "text/plain": [
       "<IPython.core.display.Markdown object>"
      ]
     },
     "metadata": {},
     "output_type": "display_data"
    },
    {
     "data": {
      "text/markdown": [
       "[96. New cyberattack targets iPhone and Apple IDs  Heres how to stay safe - Google News](https://news.google.com/articles/CBMiX2h0dHBzOi8vY3liZXJndXkuY29tL3NjYW1zL25ldy1jeWJlcmF0dGFjay10YXJnZXRzLWlwaG9uZS1hbmQtYXBwbGUtaWRzLWhlcmVzLWhvdy10by1zdGF5LXNhZmUv0gFjaHR0cHM6Ly9jeWJlcmd1eS5jb20vc2NhbXMvbmV3LWN5YmVyYXR0YWNrLXRhcmdldHMtaXBob25lLWFuZC1hcHBsZS1pZHMtaGVyZXMtaG93LXRvLXN0YXktc2FmZS9hbXAv)  \n",
       "\n",
       "- A cyberattack targeting Apple iPhone users through text phishing scam has been identified, urging users to be cautious of fake messages requesting Apple ID credentials.\n",
       "- The attackers create fake websites resembling Apple's login page to steal personal and financial data.\n",
       "- Apple advises enabling two-factor authentication, being wary of suspicious messages, and staying updated with software to protect against such scams. \n",
       "\n"
      ],
      "text/plain": [
       "<IPython.core.display.Markdown object>"
      ]
     },
     "metadata": {},
     "output_type": "display_data"
    },
    {
     "data": {
      "text/markdown": [
       "[97. Apple's AI Shift, Board Observer Role At OpenAI, Extended iPhone Settlement Deadline, And AI Partnership With Google: This Week In Appleverse - Alphabet (NASDAQ:GOOG), Apple (NASDAQ:AAPL) - Google News](https://news.google.com/articles/CBMikQFodHRwczovL3d3dy5iZW56aW5nYS5jb20vbmV3cy8yNC8wNy8zOTY1NjI2OS9hcHBsZXMtYWktc2hpZnQtYm9hcmQtb2JzZXJ2ZXItcm9sZS1hdC1vcGVuYWktZXh0ZW5kZWQtaXBob25lLXNldHRsZW1lbnQtZGVhZGxpbmUtYW5kLWFpLXBhcnRuZXJzaGlw0gEA)  \n",
       "\n",
       "- Apple is shifting focus towards artificial intelligence and software due to slower hardware innovation\n",
       "- Apple secures an observer role at OpenAI, extends iPhone settlement deadline, and works on major changes for the next-gen Vision Pro headset\n",
       "- Apple is rumored to be partnering with Google in the fall for AI integration into Apple devices \n",
       "\n"
      ],
      "text/plain": [
       "<IPython.core.display.Markdown object>"
      ]
     },
     "metadata": {},
     "output_type": "display_data"
    },
    {
     "data": {
      "text/markdown": [
       "[98. Android Circuit: Galaxy Z Fold6 Details, Google AI Secrets, Pixel 9 Pro Specs - Google News](https://news.google.com/articles/CBMigAFodHRwczovL3d3dy5mb3JiZXMuY29tL3NpdGVzL2V3YW5zcGVuY2UvMjAyNC8wNy8wNS9hbmRyb2lkLW5ld3MtaGVhZGxpbmVzLXBpeGVsLTktcHJvLWdhbGF4eS16LWZvbGQ2LWh1YXdlaS1taXgtZm9sZDQtZ29vZ2xlLWFpL9IBAA)  \n",
       "\n",
       "- Final details on Samsung's Galaxy Z Fold6 reveal advancements in the hinge assembly for better design and durability.\n",
       "- Samsung might discontinue the \"Plus\" model for the S25 series, focusing on the regular and Ultra models.\n",
       "- The Pixel 9 Pro is expected to feature a new long-life display and debut Google AI with photo enhancement and creative tools. \n",
       "\n"
      ],
      "text/plain": [
       "<IPython.core.display.Markdown object>"
      ]
     },
     "metadata": {},
     "output_type": "display_data"
    },
    {
     "data": {
      "text/markdown": [
       "[99. Apple Loop: iPhone 16 Pro Specs, Apple Watch 10 Design Leaks, Paying For Apple's AI - Google News](https://news.google.com/articles/CBMiiAFodHRwczovL3d3dy5mb3JiZXMuY29tL3NpdGVzL2V3YW5zcGVuY2UvMjAyNC8wNy8wNy9hcHBsZS1uZXdzLWhlYWRsaW5lcy1pcGhvbmUtMTYtcHJvLWExNy1hcHBsZS13YXRjaC1pcGhvbmUtYmF0dGVyeS1yZXBsYWNlbWVudC1haS1yY3Mv0gEA)  \n",
       "\n",
       "- iPhone 16 lineup will have AI-capable processors and share the same processor, improving battery life efficiency\n",
       "- Apple plans to introduce a new technology for easier battery replacements in iPhone models\n",
       "- Apple is incorporating RCS messaging protocol in its Messages app in iOS 18 to allow for advanced communication features \n",
       "\n"
      ],
      "text/plain": [
       "<IPython.core.display.Markdown object>"
      ]
     },
     "metadata": {},
     "output_type": "display_data"
    },
    {
     "data": {
      "text/markdown": [
       "[100. Apple Intelligence and a better Siri may be coming to iPhones this spring - Feedly AI](https://www.theverge.com/2024/7/7/24193619/apple-intelligence-better-siri-ios-18-4-spring-public-launch)  \n",
       "\n",
       "- Siri is expected to improve with the introduction of Apple Intelligence AI system in the iOS 18.4 update in spring 2025, allowing for enhanced features like better organization of photos and easier form-filling.\n",
       "- Beta versions of iOS 18 will offer a preview of upcoming AI features like ChatGPT integration and a new Siri interface, with further enhancements like AirPods with embedded cameras in the works for future generations.\n",
       "- Apple's AI advancements plan also includes potential features like using AI to describe surroundings with imagery from AirPods and help with navigation, similar to Meta's Ray-Ban glasses. \n",
       "\n"
      ],
      "text/plain": [
       "<IPython.core.display.Markdown object>"
      ]
     },
     "metadata": {},
     "output_type": "display_data"
    },
    {
     "data": {
      "text/markdown": [
       "[101. I thought small phones were dead, but I want AI to bring them back - Google News](https://news.google.com/articles/CBMiQGh0dHBzOi8vd3d3LmFuZHJvaWRhdXRob3JpdHkuY29tL3NtYWxsLXBob25lcy1haS1yZXR1cm4tMzQ1NjcyNS_SAQA)  \n",
       "\n",
       "- The desire for the return of small phones is driven by the potential for AI to enhance user experience and functionality on compact devices. \n",
       "- The integration of highly capable smart assistants and offloading tasks to the cloud are seen as essential factors in making small phones a feasible reality. \n",
       "- The Rabbit R1, despite its shortcomings, represents a forward-thinking approach towards reimagining smartphone design by prioritizing voice commands and minimizing on-device work. \n",
       "\n"
      ],
      "text/plain": [
       "<IPython.core.display.Markdown object>"
      ]
     },
     "metadata": {},
     "output_type": "display_data"
    },
    {
     "data": {
      "text/markdown": [
       "[102. Police pulled over a Waymo car for driving in the oncoming lane - The Verge](https://www.theverge.com/2024/7/6/24193094/phoenix-waymo-car-pulled-over-traffic-stop-oncoming-lane-police)  \n",
       "\n",
       "- A Waymo car was pulled over by police for driving in the oncoming lane due to confusion with construction signs\n",
       "- The vehicle had no passengers and was unable to issue a citation as stated in dispatch records\n",
       "- Despite instances of endangering road users, Waymo claims its cars are 3.5 times more likely to avoid a crash than humans \n",
       "\n"
      ],
      "text/plain": [
       "<IPython.core.display.Markdown object>"
      ]
     },
     "metadata": {},
     "output_type": "display_data"
    },
    {
     "data": {
      "text/markdown": [
       "[103. Don't Worry: Copilot+ PCs Don't Make Your Windows 11 System Obsolete - Feedly AI](https://www.makeuseof.com/worry-copilot-pc-old-windows-11-system-obsolete/)  \n",
       "\n",
       "- CoPilot+ PCs enhance Windows 11 with AI tools via NPUs, offering features like automatic captions, Cocreator support, Auto Super Resolution, and AI assistant capabilities.\n",
       "- CoPilot+ does not make Windows 11 redundant; it builds on the existing system by adding AI capabilities and features, making it an upgrade rather than a replacement.\n",
       "- Deciding to buy a CoPilot+ PC depends on the user's interest in AI tools; it is not necessary for all users and primarily benefits those who want to leverage AI capabilities on their devices. \n",
       "\n"
      ],
      "text/plain": [
       "<IPython.core.display.Markdown object>"
      ]
     },
     "metadata": {},
     "output_type": "display_data"
    },
    {
     "data": {
      "text/markdown": [
       "[104. I spent a day using Copilot+ on the HP EliteBook Ultra, and it drove me crazy - Feedly AI](https://www.laptopmag.com/laptops/i-spent-a-day-using-copilot-on-the-hp-elitebook-ultra-and-it-drove-me-crazy)  \n",
       "\n",
       "- Copilot+ AI on the HP EliteBook Ultra doesn't offer any new features\n",
       "- Not all Copilot+ AI features are practical or necessary for daily use\n",
       "- The performance and battery life of Copilot+ PCs, like the HP EliteBook Ultra, are impressive, but the AI features may not warrant an upgrade at this point. \n",
       "\n"
      ],
      "text/plain": [
       "<IPython.core.display.Markdown object>"
      ]
     },
     "metadata": {},
     "output_type": "display_data"
    },
    {
     "data": {
      "text/markdown": [
       "[105. A friendly guide to containerization for AI work - Feedly AI](https://go.theregister.com/feed/www.theregister.com/2024/07/07/containerize_ai_apps/)  \n",
       "\n",
       "- Containerization helps in avoiding dependencies issues by building images configured specifically for tasks and ensures consistent and repeatable deployment.\n",
       "- Docker allows for easy access to GPUs from Intel, AMD, and Nvidia by passing appropriate flags when spinning up containers.\n",
       "- Prebuilt images like nvidia/cuda and ROCm images can be used to quickly set up CUDA, ROCm, or OpenVINO environments without building from scratch. \n",
       "\n"
      ],
      "text/plain": [
       "<IPython.core.display.Markdown object>"
      ]
     },
     "metadata": {},
     "output_type": "display_data"
    },
    {
     "data": {
      "text/markdown": [
       "[106. A friendly guide to containerization for AI workHands onSave the headaches, ship your dependenciesAI + ML6 hrs|1 - The Register](https://www.theregister.com/2024/07/07/containerize_ai_apps/)  \n",
       "\n",
       "- Containerizing AI workloads can help in managing dependencies, enabling consistent deployment, and running apps with conflicting software stacks.\n",
       "- Docker can be used to expose Intel, AMD, and Nvidia GPUs to containers, simplifying the process of making GPUs available for tasks.\n",
       "- Prebuilt images for CUDA, ROCm, and OpenVINO can expedite setting up environment, while converting containers into images and building custom images can enhance reproducibility and testing in AI development. \n",
       "\n"
      ],
      "text/plain": [
       "<IPython.core.display.Markdown object>"
      ]
     },
     "metadata": {},
     "output_type": "display_data"
    },
    {
     "data": {
      "text/markdown": [
       "[107. Show HN: Workspaice:  Human+AI, Creating Together - Hacker News 2](https://www.nunodonato.com/workspaice-humanai-creating-together/)  \n",
       "\n",
       "- Workspaice is a locally-run application that combines human creativity and AI assistance in a flexible workspace for creating various projects.\n",
       "- The application prioritizes privacy and speed by running locally on the user's computer and utilizes AI collaboratively with users in the creation process.\n",
       "- Workspaice is showcased in a demo video featuring projects like desktop app development, web app creation, and educational content, catering to developers, educators, writers, and anyone with innovative ideas. \n",
       "\n"
      ],
      "text/plain": [
       "<IPython.core.display.Markdown object>"
      ]
     },
     "metadata": {},
     "output_type": "display_data"
    },
    {
     "data": {
      "text/markdown": [
       "[108. James Muldoon, Mark Graham and Callum Cant: AI feeds off the work of human beings - Reddit](https://www.reddit.com/r/technology/comments/1dxij9l/james_muldoon_mark_graham_and_callum_cant_ai/)  \n",
       "\n",
       "- Data annotation industry workers, mostly in the global south, face poor working conditions with low wages.\n",
       "- 80% of the work behind AI products is data annotation, which can be intensive and outsourced.\n",
       "- AI's exploitation of human labor is a significant issue that needs more attention and discussion. \n",
       "\n"
      ],
      "text/plain": [
       "<IPython.core.display.Markdown object>"
      ]
     },
     "metadata": {},
     "output_type": "display_data"
    },
    {
     "data": {
      "text/markdown": [
       "[109. Meet Mercy and Anita  the African workers driving the AI revolution, for just over a dollar an hour - Reddit](https://www.reddit.com/r/technology/comments/1dx9xkt/meet_mercy_and_anita_the_african_workers_driving/)  \n",
       "\n",
       "- Mercy and Anita, African workers, are playing a significant role in driving the AI revolution while earning just over a dollar an hour.\n",
       "- The article sheds light on the role of these workers in advancing Artificial Intelligence.\n",
       "- The workers' contributions are crucial to the development and progression of AI technology. \n",
       "\n"
      ],
      "text/plain": [
       "<IPython.core.display.Markdown object>"
      ]
     },
     "metadata": {},
     "output_type": "display_data"
    },
    {
     "data": {
      "text/markdown": [
       "[110. Figma disables AI-powered 'Make Design' feature after Weather app rip-off - Feedly AI](https://appleinsider.com/articles/24/07/07/figma-disables-ai-powered-make-design-feature-after-weather-app-rip-off)  \n",
       "\n",
       "- Figma is temporarily disabling its primary AI App UI design tool due to accusations of training the model on Apple's Weather app\n",
       "- Developer Andy Allen demonstrated that Figma's \"Make Design\" feature was repeatedly copying Apple's app when asked to create a weather app\n",
       "- Figma CEO Dylan Field defended the company by stating that the fault lies in the company's design systems, with no clear indication of when the tool will return \n",
       "\n"
      ],
      "text/plain": [
       "<IPython.core.display.Markdown object>"
      ]
     },
     "metadata": {},
     "output_type": "display_data"
    },
    {
     "data": {
      "text/markdown": [
       "[111. Microsoft's AI CEO: Web Content (Without a Robots.txt File) is 'Freeware' for AI Training - Google News](https://news.google.com/articles/CBMifmh0dHBzOi8vc2xhc2hkb3Qub3JnL3N0b3J5LzI0LzA3LzA3LzAwNTQyMjAvbWljcm9zb2Z0cy1haS1jZW8td2ViLWNvbnRlbnQtd2l0aG91dC1hLXJvYm90c3R4dC1maWxlLWlzLWZyZWV3YXJlLWZvci1haS10cmFpbmluZ9IBAA)  \n",
       "\n",
       "- Microsoft's CEO of AI, Mustafa Suleyman, stated that web content shared online has been considered fair use since the 90s, unless explicitly prohibited by the content producer.\n",
       "- Suleyman suggested that the economics of information will drastically change, leading to new scientific and cultural knowledge being produced at almost zero marginal cost.\n",
       "- There is a debate surrounding the use of web content for AI training, with concerns raised about ownership of intellectual property and potential copyright infringement issues. \n",
       "\n"
      ],
      "text/plain": [
       "<IPython.core.display.Markdown object>"
      ]
     },
     "metadata": {},
     "output_type": "display_data"
    },
    {
     "data": {
      "text/markdown": [
       "[112. Microsofts climbdown over its creepy Recall feature shows its AI strategy is far from intelligent | The tech companys new Windows machines can take constant screenshots of users every action  quelle surprise, its a privacy minefield - Reddit](https://www.reddit.com/r/technology/comments/1dxilwo/microsofts_climbdown_over_its_creepy_recall/)  \n",
       "\n",
       "- Microsoft faced criticism over the Recall feature in its new Windows machines for taking constant screenshots of users, highlighting privacy concerns.\n",
       "- The AI strategy of Microsoft was questioned as the Recall feature was considered intrusive and raised privacy issues among users.\n",
       "- Users expressed dissatisfaction with the privacy implications and performance impact of the Recall feature, with concerns about the extent of monitoring and lack of user control. \n",
       "\n"
      ],
      "text/plain": [
       "<IPython.core.display.Markdown object>"
      ]
     },
     "metadata": {},
     "output_type": "display_data"
    }
   ],
   "source": [
    "markdown_str = ''\n",
    "\n",
    "for i, row in enumerate(AIdf.itertuples()):\n",
    "    mdstr = f\"[{i+1}. {row.title} - {row.src}]({row.url})  \\n\\n{response_dict[row.id]} \\n\\n\"\n",
    "    display(Markdown(mdstr))\n",
    "    markdown_str += mdstr\n",
    "    "
   ]
  },
  {
   "cell_type": "code",
   "execution_count": 40,
   "id": "cfe07a63",
   "metadata": {},
   "outputs": [
    {
     "data": {
      "text/html": [
       "<p><a href=\"https://www.investing.com/news/stock-market-news/5-big-analyst-ai-moves-nvidia-downgraded-on-limited-further-upside-3509545\">1. 5 big analyst AI moves: Nvidia downgraded on limited further upside - Feedly AI</a>  </p>\n",
       "<ul>\n",
       "<li>New Street Research downgraded Nvidia stock to Neutral from Buy due to limited further upside based on GPU revenue projections and potential competition.</li>\n",
       "<li>UBS downgraded Pure Storage to Sell, expressing concerns about slowing growth, declining market share, high valuation, and exaggerated emphasis on AI.</li>\n",
       "<li>Bank of America elevated Dell to its US 1 List, highlighting positive prospects for the company linked to AI server demand, storage needs, and an anticipated PC refresh. </li>\n",
       "</ul>\n",
       "<p><a href=\"https://au.investing.com/news/stock-market-news/two-risks-to-the-ai-tech-rally-432SI-3330078\">2. Two risks to the AI tech rally - Feedly AI</a>  </p>\n",
       "<ul>\n",
       "<li>Yardeni Research identifies two risks to the AI tech rally: excessive capital influx into AI startups and overhyped expectations in the industry.</li>\n",
       "<li>Concerns include the significant amount of funding ($330 billion into 26,000 AI startups in 3 years), leading to a crowded market with profitability challenges and potential financial difficulties for startups.</li>\n",
       "<li>Analysts caution about inflated claims by industry leaders like Nvidia's CEO, highlighting the need for caution due to possible AI bubble and uncertainties surrounding AI's efficiency gains and industry volatility. </li>\n",
       "</ul>\n",
       "<p><a href=\"https://news.google.com/articles/CBMiW2h0dHBzOi8vd3d3LmZvb2wuY29tL2ludmVzdGluZy8yMDI0LzA3LzA3LzQ1LXdhcnJlbi1idWZmZXR0cy0zOTgtYmlsbGlvbi1pcy1pbi0zLWFpLXN0b2Nrcy_SAQA\">3. 45% of Warren Buffett's $398 Billion Portfolio Is Invested in 3 Artificial Intelligence (AI) Stocks - Google News</a>  </p>\n",
       "<ul>\n",
       "<li>Warren Buffett's investment strategy at Berkshire Hathaway focuses on companies with steady growth, reliable profitability, and shareholder-friendly initiatives.</li>\n",
       "<li>Three AI stocks in Berkshire Hathaway's portfolio, Snowflake, Amazon, and Apple, are positioned to benefit substantially from the AI revolution.</li>\n",
       "<li>Apple is Berkshire Hathaway's largest position at 44.5%, having steadily grown since 2016 and introducing Apple Intelligence software to enhance user experience with AI capabilities. </li>\n",
       "</ul>\n",
       "<p><a href=\"https://news.google.com/articles/CBMiV2h0dHBzOi8vc2Vla2luZ2FscGhhLmNvbS9hcnRpY2xlLzQ3MDE4MDEtYnJvYWRjb20tYW4tZXNzZW50aWFsLWNvbXBhbnktZm9yLWFpLWludmVzdG9yc9IBAA\">4. Broadcom: An Essential Company For AI Investors (NASDAQ:AVGO) - Google News</a>  </p>\n",
       "<ul>\n",
       "<li>Broadcom is viewed as an essential company for AI investors due to its strong AI-related revenue growth, diversified offerings, high profitability, and potential for growth in semiconductor products.</li>\n",
       "<li>Intrinsic value calculations suggest that Broadcom (AVGO) is currently trading at a discount, with a 9% potential upside, making it an attractive opportunity for investors.</li>\n",
       "<li>Broadcom's focus on AI servers, data centers, and semiconductor products for the Internet-of-Things industry positions the company for future growth, with a strong emphasis on innovation and technological excellence. </li>\n",
       "</ul>\n",
       "<p><a href=\"https://news.google.com/articles/CBMiTGh0dHBzOi8vZmluYW5jZS55YWhvby5jb20vbmV3cy9hZHZhbmNlZC1taWNyby1kZXZpY2VzLWluYy1hbWQtMDI1NjM1ODE4Lmh0bWzSAQA\">5. Advanced Micro Devices, Inc. (AMD): Hedge Funds Are Bullish On This AI Stock Right Now - Google News</a>  </p>\n",
       "<ul>\n",
       "<li>Advanced Micro Devices, Inc. (AMD) ranks seventh on the list of biggest AI stories, with hedge funds showing bullish sentiment towards the stock</li>\n",
       "<li>China is developing new AI patents faster than the US, potentially posing a threat</li>\n",
       "<li>AMD is disrupting various industries with AI, achieving significant revenue growth and attracting hedge fund investments worth $15.63 billion </li>\n",
       "</ul>\n",
       "<p><a href=\"https://news.google.com/articles/CBMiXWh0dHBzOi8vd3d3LmZvb2wuY29tL2ludmVzdGluZy8yMDI0LzA3LzAyL2JldHRlci1hcnRpZmljaWFsLWludGVsbGlnZW5jZS1zdG9jay1udmlkaWEtdnMtYW1kL9IBAA\">6. Better Artificial Intelligence (AI) Stock: Nvidia vs. AMD - Google News</a>  </p>\n",
       "<ul>\n",
       "<li>Nvidia and AMD are leading players in the AI chip market, with Nvidia holding an estimated 90% market share in AI chips due to its dominance in GPUs.</li>\n",
       "<li>While both companies are compelling investments as the AI market grows, Nvidia has shown stronger financial growth and free cash flow compared to AMD, making it a better long-term investment.</li>\n",
       "<li>Despite both stocks being considered overvalued currently, Nvidia offers better value for investors due to its financial performance and dominance in AI chip segments. </li>\n",
       "</ul>\n",
       "<p><a href=\"https://news.google.com/articles/CBMiXWh0dHBzOi8vd3d3LmZvb2wuY29tL2ludmVzdGluZy8yMDI0LzA3LzA0L2FwcGxlcy1uZXctYXJ0aWZpY2lhbC1pbnRlbGxpZ2VuY2UtYWktZmVhdHVyZXMtY291L9IBAA\">7. Apple's New Artificial Intelligence (AI) Features Could Push This Semiconductor Company to a $1 Trillion Valuation - Google News</a>  </p>\n",
       "<ul>\n",
       "<li>Apple's new AI features rely on its own silicon chip designs, benefiting semiconductor company Taiwan Semiconductor Manufacturing (TSM) with potential for increased orders.</li>\n",
       "<li>Apple's on-device AI processing with Apple Intelligence could boost TSM's sales as Apple leads the way in this technology.</li>\n",
       "<li>TSM, already a significant player in chip manufacturing, stands to benefit from Apple's strong iPhone upgrade cycle, demand from Apple's data centers, and the growing trend towards edge computing. </li>\n",
       "</ul>\n",
       "<p><a href=\"https://247wallst.com/technology-3/2024/07/07/could-asml-be-the-next-major-ai-stock-to-split-its-shares/\">8. Could ASML Be The Next Major AI Stock to Split Its Shares? - Feedly AI</a>  </p>\n",
       "<ul>\n",
       "<li>ASML is a key player in semiconductor manufacturing, known for its EUV lithography process for cutting-edge semiconductors.</li>\n",
       "<li>The company's shares are trading above $1,000 and have a history of stock splits during significant technological trends.</li>\n",
       "<li>ASML is considered a strong investment with a monopoly in advanced semiconductor manufacturing, making it a potential candidate for another stock split in the future. </li>\n",
       "</ul>\n",
       "<p><a href=\"https://www.barrons.com/articles/ai-stocks-salesforce-uber-buy-8aea0217\">9. AI Stocks Keep Surging. Buy 2 That Havent. - Feedly AI</a>  </p>\n",
       "<ul>\n",
       "<li>Website: barrons.com is a financial news website.</li>\n",
       "<li>Provides information on stocks, investing, and personal finance.</li>\n",
       "<li>Offers insights, analyses, and recommendations for investors. </li>\n",
       "</ul>\n",
       "<p><a href=\"https://news.google.com/articles/CBMiXWh0dHBzOi8vd3d3LmZvb2wuY29tL2ludmVzdGluZy8yMDI0LzA3LzA0L2ZvcmdldC1udmlkaWEtdGhpcy1zdG9jay1zcGxpdC1haS1zdG9jay1jb3VsZC1iZS1hL9IBAA\">10. Forget Nvidia: This Stock-Split AI Stock Could Be a Better Buy - Google News</a>  </p>\n",
       "<ul>\n",
       "<li>Broadcom announced a 10-for-1 stock split to make shares more accessible for retail investors, with a lower valuation and more diversification than Nvidia.</li>\n",
       "<li>Broadcom is positioned as a potential alternative AI stock due to its custom chip offerings tailored to specific use cases, big-name clients like Alphabet and Bytedance, and a diversified business beyond AI.</li>\n",
       "<li>Despite a significant stock price increase in the past five years, Broadcom offers a relatively cheaper valuation with a forward P/E of 28 compared to competitors like Nvidia and AMD. </li>\n",
       "</ul>\n",
       "<p><a href=\"https://www.fool.com/investing/2024/07/07/generative-ai-soar-2040-best-ai-stock-buy-now-nvda/\">11. Generative AI Sales Could Soar 2,040%: My Pick for the Best AI Stock to Buy Now (Hint: Not Nvidia) - Feedly AI</a>  </p>\n",
       "<ul>\n",
       "<li>Nvidia is a dominant force in the AI processor market, with GPUs being industry standard for AI workloads, supported by the CUDA software ecosystem.</li>\n",
       "<li>Super Micro Computer is gaining market share in AI servers by leveraging in-house design capabilities and a modular approach to product development.</li>\n",
       "<li>Super Micro Computer is positioned as a strong AI stock investment due to its reasonable valuation, potential for growth in generative AI hardware, and market leadership in AI server sales. </li>\n",
       "</ul>\n",
       "<p><a href=\"https://finbold.com/netflix-vs-disney-we-asked-chatgpt-4o-which-stock-is-a-better-buy-for-2024/\">12. Netflix vs. Disney? We asked ChatGPT-4o which stock is a better buy for 2024 - Feedly AI</a>  </p>\n",
       "<ul>\n",
       "<li>Netflix and Disney, as dominant companies in the entertainment and streaming industry, are attracting investor attention for 2024 due to their unique positions.</li>\n",
       "<li>ChatGPT-4o highlighted that Netflix shows substantial revenue and subscriber growth along with strong content library, while Disney offers diverse revenue streams and improving financial metrics.</li>\n",
       "<li>The decision between investing in Netflix or Disney depends on individual investment goals and risk tolerance, with Netflix presenting high growth potential but also higher risks, while Disney may offer a more stable investment opportunity. </li>\n",
       "</ul>\n",
       "<p><a href=\"https://news.google.com/articles/CBMiXWh0dHBzOi8vd3d3LmZvb2wuY29tL2ludmVzdGluZy8yMDI0LzA3LzA3LzEtcGhlbm9tZW5hbC1zdG9jay10aGF0LWNvdWxkLWpvaW4tbWljcm9zb2Z0LWFwcGxlL9IBAA\">13. 1 Phenomenal Stock That Could Join Microsoft, Apple, Nvidia, Alphabet, Amazon, and Meta in the $1 Trillion Club - Google News</a>  </p>\n",
       "<ul>\n",
       "<li>Super Micro Computer is gaining market share rapidly in the AI hardware industry, with a distinguished track record in customized servers and fueled by the demand driven by AI.</li>\n",
       "<li>The company's flexible server options, long track record, and partnerships with leading chipmakers position it well for potential growth towards a $1 trillion market cap.</li>\n",
       "<li>Analysts suggest that Super Micro Computer could reach the $1 trillion market cap by 2029 or 2032 if it maintains its growth rate in the AI server market, supported by the rapid adoption of AI technology. </li>\n",
       "</ul>\n",
       "<p><a href=\"https://news.google.com/articles/CBMiXWh0dHBzOi8vaW52ZXN0b3JwbGFjZS5jb20vMjAyNC8wNy8zLXJhcGlkbHktcmlzaW5nLWNvbXBhbmllcy1zZXQtdG8tam9pbi10aGUtMS10cmlsbGlvbi1jbHViL9IBAA\">14. 3 Rapidly Rising Companies Set to Join the $1 Trillion Club - Google News</a>  </p>\n",
       "<ul>\n",
       "<li>Advanced Micro Devices (AMD) saw a boost in revenue due to success in data center segment with Instinct MI300X GPUs and server CPU sales.</li>\n",
       "<li>Taiwan Semiconductor Manufacturing (TSM) maintained strong gross margin and lead in semiconductor production despite seasonal fluctuations in smartphone market.</li>\n",
       "<li>Tesla (TSLA) achieved record energy storage deployments, doubled AI training compute capacity, and is set to increase car production to over 3 million annually, solidifying its position on the future trillion-dollar companies list. </li>\n",
       "</ul>\n",
       "<p><a href=\"https://www.404media.co/email/dd4acda7-3cf5-48a1-a940-8bdf0aede2b4/\">15. Google Says AI Could Break Reality - Feedly AI</a>  </p>\n",
       "<ul>\n",
       "<li>Generative AI could distort collective understanding of socio-political reality or scientific consensus, causing significant harm.</li>\n",
       "<li>Misuse of generative AI tools is often not overtly malicious and does not violate content policies or terms of services.</li>\n",
       "<li>The ease of flooding the internet with AI-generated content poses risks of undermining public trust and distorting information retrieval. </li>\n",
       "</ul>\n",
       "<p><a href=\"https://news.google.com/articles/CBMiZmh0dHBzOi8vd3d3Lm1hcmt0ZWNocG9zdC5jb20vMjAyNC8wNy8wNy90b3AtYXJ0aWZpY2lhbC1pbnRlbGxpZ2VuY2UtYWktc2VhcmNoLWVuZ2luZXMtdG8ta25vdy1pbi0yMDI0L9IBamh0dHBzOi8vd3d3Lm1hcmt0ZWNocG9zdC5jb20vMjAyNC8wNy8wNy90b3AtYXJ0aWZpY2lhbC1pbnRlbGxpZ2VuY2UtYWktc2VhcmNoLWVuZ2luZXMtdG8ta25vdy1pbi0yMDI0Lz9hbXA\">16. Top Artificial Intelligence AI Search Engines to Know in 2024 - Google News</a>  </p>\n",
       "<ul>\n",
       "<li>AI search engines use machine learning, natural language processing, and deep learning to provide more thorough and personalized responses to user queries.</li>\n",
       "<li>Gemini, Bing AI, Komo, Yep, You.com, Phind, Neeva, Perplexity AI, and Andi are AI search engines known for their specific features like image creation, code generation, and privacy prioritization.</li>\n",
       "<li>AI search engines are transforming information retrieval by offering individualized, context-aware results, catering to diverse needs such as privacy-focused queries, specialized tools for developers, and in-depth research capabilities. </li>\n",
       "</ul>\n",
       "<p><a href=\"https://www.foxnews.com/tech/wild-new-way-search-anything-anywhere-googles-circle-search-ai-feature\">17. Wild new way to search for anything, anywhere with Google's Circle to Search AI feature - Feedly AI</a>  </p>\n",
       "<ul>\n",
       "<li>Google's Circle to Search tool allows Android users to search anything on a screen without switching apps, activated by long-pressing the home button or navigation bar.</li>\n",
       "<li>The Circle to Search feature offers versatile search capabilities including visual searches, text-based searches, and multisearch options for various types of content.</li>\n",
       "<li>Supported on select premium Android devices, Circle to Search leverages AI to provide comprehensive information without interrupting the user's current activity. </li>\n",
       "</ul>\n",
       "<p><a href=\"https://news.google.com/articles/CBMiTmh0dHBzOi8vd3d3LmNvdW50ZXJ2aWV3Lm5ldC8yMDI0LzA3L2Fpcy1wb3NpdGl2ZS1yb2xlLWR1cmluZy1pbmRpYW4tcG9sbHMuaHRtbNIBAA\">18. AI's 'positive role' during Indian polls amidst deepfakes disinformation - Google News</a>  </p>\n",
       "<ul>\n",
       "<li>Indian political parties used AI in the form of deepfakes and targeted communication during the world's largest election</li>\n",
       "<li>AI was utilized for personalized voter engagement, multilingual communication, and online trolling</li>\n",
       "<li>The Indian experience showcases the potential of AI in participatory democracy and representative governance, with lessons for democracies worldwide </li>\n",
       "</ul>\n",
       "<p><a href=\"https://news.google.com/articles/CBMiaGh0dHBzOi8vYWJjN2NoaWNhZ28uY29tL3Bvc3QvY2hpY2Fnby1jb3VsZC1hcnRpZmljaWFsLWludGVsbGlnZW5jZS1pbXBhY3QtMjAyNC1lbGVjdGlvbi12b3RlcnMvMTUwMzY5NTEv0gEA\">19. Our Chicago: Could artificial intelligence impact 2024 election as voters choose between Joe Biden, Donald Trump? - Google News</a>  </p>\n",
       "<ul>\n",
       "<li>In the 2024 presidential election, there is a concern about how artificial intelligence can impact voter behavior, as evidenced by an AI-generated robocall in the New Hampshire primary sounding like Joe Biden.</li>\n",
       "<li>The use of AI in political campaigns can worsen divisions in a polarized society, fuel misinformation, and pose challenges in holding bad actors accountable due to the lack of federal regulations specifically addressing AI in elections.</li>\n",
       "<li>Various states, including Illinois, have different regulations regarding the use of AI in elections, creating a patchwork of laws at the national level, leading to a somewhat unregulated environment where AI's role in elections remains relatively unchecked. </li>\n",
       "</ul>\n",
       "<p><a href=\"https://news.google.com/articles/CBMiigFodHRwczovL3d3dy53cW93LmNvbS9uZXdzL3dpc2NvbnNpbi9wcm9ncmFtLWxvb2tzLWF0LWFpcy1pbXBhY3Qtb24tcG9saXRpY3MtaW4tbGEtY3Jvc3NlL2FydGljbGVfMWI4OGMxZTgtZjIxYy01ODMwLWI4ODYtNDI5NDA4MjY1NjQ4Lmh0bWzSAQA\">20. Program looks at AI's impact on politics in La Crosse - Google News</a>  </p>\n",
       "<ul>\n",
       "<li>Discussion about the use of artificial intelligence in politics in La Crosse</li>\n",
       "<li>Program features nationally recognized leader Miles Taylor discussing AI's impact on elections</li>\n",
       "<li>Presentation is on Zoom and sponsored by Leader Ethics and League of Women Voters of the La Crosse Area </li>\n",
       "</ul>\n",
       "<p><a href=\"https://news.google.com/articles/CBMiaWh0dHBzOi8vd3d3LndyZHcuY29tLzIwMjQvMDcvMDcvZ2VvcmdpYS1hcnRpZmljaWFsLWludGVsbGlnZW5jZS1wcm9ncmFtLXRlYWNoZXMta2lkcy1hYm91dC1iaWFzLXBvbGljaW5nL9IBeGh0dHBzOi8vd3d3LndyZHcuY29tLzIwMjQvMDcvMDcvZ2VvcmdpYS1hcnRpZmljaWFsLWludGVsbGlnZW5jZS1wcm9ncmFtLXRlYWNoZXMta2lkcy1hYm91dC1iaWFzLXBvbGljaW5nLz9vdXRwdXRUeXBlPWFtcA\">21. Georgia artificial intelligence program teaches kids about bias in policing - Google News</a>  </p>\n",
       "<ul>\n",
       "<li>Georgia AI program teaches kids about bias in policing, focusing on facial recognition and predictive policing data analysis</li>\n",
       "<li>Program aims to educate kids on biases present in AI systems and how to avoid them </li>\n",
       "<li>The initiative by AI for Black Kids introduces children to AI concepts to contribute to well-rounded and less biased policing techniques </li>\n",
       "</ul>\n",
       "<p><a href=\"https://www.the74million.org/article/california-teachers-are-using-ai-to-grade-papers-whos-grading-the-ai/\">22. California Teachers are Using AI to Grade Papers. Whos Grading the AI? - Feedly AI</a>  </p>\n",
       "<ul>\n",
       "<li>California schools are incorporating AI tools, such as chatbots, to automate tasks like grading papers, providing feedback, and personalizing learning material for students, which can help teachers save time and reduce burnout.</li>\n",
       "<li>While AI tools offer benefits like faster grading and more feedback, guidelines on their ethical and appropriate use in classrooms are vague, and there are concerns about accuracy, bias, privacy, and potential negative impacts on students and educators.</li>\n",
       "<li>Teachers like Jen Roberts and Alex Rainey have reported positive experiences using AI tools like Writable and GPT-4 to grade papers, but there are challenges such as varying grading standards, costs of AI tools, and the need for teachers to oversee AI-generated feedback to ensure better student outcomes. </li>\n",
       "</ul>\n",
       "<p><a href=\"https://news.google.com/articles/CBMiYWh0dHBzOi8vd3d3LmVjb25vbWlzdC5jb20vc3BlY2lhbC1yZXBvcnQvMjAyNC8wNy8wNy93aWxsLWFydGlmaWNpYWwtaW50ZWxsaWdlbmNlLXRyYW5zZm9ybS1zY2hvb2zSAQA\">23. Will artificial intelligence transform school? - Google News</a>  </p>\n",
       "<ul>\n",
       "<li>The boldest visions for AI in classrooms misunderstand much about education.</li>\n",
       "<li>AI tools like Khanmigo are being developed for students and teachers to interact with historical figures and characters.</li>\n",
       "<li>Thomas Edison's prediction from 1913 about the obsolescence of books in schools is revisited in the context of AI development in education. </li>\n",
       "</ul>\n",
       "<p><a href=\"https://news.google.com/articles/CBMiXmh0dHBzOi8vd3d3LmRvbXVzd2ViLml0L2VuL25ld3MvMjAyNC8wNi8yNi9hcmUtd2UtcmVhZHktdG8tdXNlLWFpLWluLWFyY2hpdGVjdHVyYWwtZGVzaWduLmh0bWzSAWJodHRwczovL3d3dy5kb211c3dlYi5pdC9lbi9uZXdzLzIwMjQvMDYvMjYvYXJlLXdlLXJlYWR5LXRvLXVzZS1haS1pbi1hcmNoaXRlY3R1cmFsLWRlc2lnbi5hbXAuaHRtbA\">24. So how are we doing with AI in architectural design? - Google News</a>  </p>\n",
       "<ul>\n",
       "<li>The fast evolution of AI is impacting the architectural design field, with a study commissioned by Chaos analyzing the significant use of AI in architecture and the desire for improved precision and reliability in AI tools.</li>\n",
       "<li>AI is predominantly utilized in the early stages of conceptual design, enhancing efficiency and creativity, but there is a lack of defined ethical guidelines for AI use in architectural design.</li>\n",
       "<li>The Royal Institute of British Academy is addressing the ethical dilemmas surrounding AI adoption in architecture, aiming to promote responsible stewardship amidst rapid technological advancements. </li>\n",
       "</ul>\n",
       "<p><a href=\"https://news.google.com/articles/CBMinAFodHRwczovL3d3dy5leHByZXNzY29tcHV0ZXIuaW4vZ3Vlc3QtYmxvZ3MvaGFybmVzc2luZy1haS1hbmQtdGVjaG5vbG9naWNhbC1hZHZhbmNlbWVudHMtaW4tdGhlLWFlYy1pbmR1c3RyeS1mb3ItZW5oYW5jZWQtZWZmaWNpZW5jeS1hbmQtcHJvZHVjdGl2aXR5LzExMzc1Mi_SAaABaHR0cHM6Ly93d3cuZXhwcmVzc2NvbXB1dGVyLmluL2FtcC9ndWVzdC1ibG9ncy9oYXJuZXNzaW5nLWFpLWFuZC10ZWNobm9sb2dpY2FsLWFkdmFuY2VtZW50cy1pbi10aGUtYWVjLWluZHVzdHJ5LWZvci1lbmhhbmNlZC1lZmZpY2llbmN5LWFuZC1wcm9kdWN0aXZpdHkvMTEzNzUyLw\">25. Harnessing AI and technological advancements in the AEC industry for enhanced efficiency and productivity - Google News</a>  </p>\n",
       "<ul>\n",
       "<li>AI in AEC industry enables problem-solving, data-driven learning, and decision support, transforming various operations.</li>\n",
       "<li>AI advancements impact AEC sector with improved design capabilities, optimizing project outcomes, cost analysis, and risk management.</li>\n",
       "<li>Machine learning algorithms enhance project management by automating tasks, providing real-time data analysis, and improving decision-making for project managers. </li>\n",
       "</ul>\n",
       "<p><a href=\"https://news.google.com/articles/CBMiQWh0dHBzOi8vd3d3LnVuaXRlLmFpL2Jlc3QtYWktdG9vbHMtZm9yLXRoZS1jb25zdHJ1Y3Rpb24taW5kdXN0cnkv0gEA\">26. 5 Best AI Tools for the Construction Industry (July 2024) - Google News</a>  </p>\n",
       "<ul>\n",
       "<li>AI tools are disrupting the construction industry by enhancing project management, efficiency, and data-driven decision-making.</li>\n",
       "<li>AI tools like OpenSpace, Procore, ALICE Technologies, Doxel, and Buildots are transforming construction processes through real-time progress tracking, generative scheduling, and predictive analytics.</li>\n",
       "<li>These AI-powered solutions improve project outcomes, optimize resource allocation, enhance safety on construction sites, and revolutionize the entire construction process from planning to completion. </li>\n",
       "</ul>\n",
       "<p><a href=\"https://news.google.com/articles/CBMiWmh0dHBzOi8vd3d3LmNvbnN0cnVjdGlvbmRpdmUuY29tL25ld3MvZ2VuZXJhdGl2ZS1haS1zd2luZXJ0b24tZnV0dXJldGVjaC1NaWNyb3NvZnQvNzIwNTEzL9IBAA\">27. What generative AI can do for construction right now - Google News</a>  </p>\n",
       "<ul>\n",
       "<li>Aaron Anderson from Swinerton discusses the current capabilities of generative AI in construction </li>\n",
       "<li>Swinerton is utilizing OpenSpace AI for accurate models in a mass timber multifamily development </li>\n",
       "<li>Anderson highlights the importance of AI tools, robotics integration, and evolving business models in the construction industry </li>\n",
       "</ul>\n",
       "<p><a href=\"https://hackernoon.com/how-artificial-intelligence-can-make-our-smart-homes-smarter\">28. HowArtificial IntelligenceCan Make Our Smart Homes, Smarter - Feedly AI</a>  </p>\n",
       "<ul>\n",
       "<li>AI is revolutionizing smart homes, enhancing automation, security, and convenience, and transforming our everyday living experience.</li>\n",
       "<li>Smart home technology allows for intelligent automation, enhanced activity analyses, upgraded hands-free digital security, and improved home accessibility.</li>\n",
       "<li>Incorporating AI into homes can lead to a more advanced ecosystem, real-time insights, comprehensive pattern identification, and immersive experiences, ultimately reshaping the real estate market towards smarter homes. </li>\n",
       "</ul>\n",
       "<p><a href=\"https://news.google.com/articles/CBMiLWh0dHBzOi8vd3d3LnRyZW5kaHVudGVyLmNvbS90cmVuZHMvYWktZmFybWluZ9IBMWh0dHBzOi8vd3d3LnRyZW5kaHVudGVyLmNvbS9hbXAvdHJlbmRzL2FpLWZhcm1pbmc\">29. Personalized AI Farming Assistants - Google News</a>  </p>\n",
       "<ul>\n",
       "<li>Netagrow is advancing AI farming by providing farmers with AI-driven tools and insights for optimized yields and sustainability.</li>\n",
       "<li>The platform offers personalized recommendations on crop management, soil health, and pest control, enabling data-driven decisions to reduce waste and enhance productivity.</li>\n",
       "<li>The integration of AI and agriculture signifies a new era where technology intersects with nature to ensure food security and environmental sustainability. </li>\n",
       "</ul>\n",
       "<p><a href=\"https://news.google.com/articles/CBMieWh0dHBzOi8vd3d3LmttYWxhbmQuY29tL2FnL2FpLWNhbi1sZWFybi11c2VzLWZvci1tb2Rlcm4tZGF5LWFncmljdWx0dXJlL2FydGljbGVfYWY2Zjc1MzYtM2FlNi0xMWVmLWE2OTYtNGY5ZGJlYWZiZDBmLmh0bWzSAQA\">30. AI Can Learn Uses for Modern-Day Agriculture - Google News</a>  </p>\n",
       "<ul>\n",
       "<li>Artificial intelligence can learn and utilize historical data to enhance modern-day agriculture practices, such as monitoring crop damage, disease, and pests using drones and sensors.</li>\n",
       "<li>AI is being explored for its potential in identifying diseases in animals early on, ensuring prompt intervention and preventing herd-wide spread.</li>\n",
       "<li>Ensuring data security is crucial in the implementation of AI in agriculture, with a focus on safeguarding information and machinery from potential cyber threats. </li>\n",
       "</ul>\n",
       "<p><a href=\"https://news.google.com/articles/CBMiX2h0dHBzOi8vd3d3LnJmZHR2LmNvbS9hcnRpZmljaWFsLWludGVsbGlnZW5jZS1pcy1iZWluZy10cmFpbmVkLXRvLWhlbHAtYWxsLWFyZWFzLW9mLWFncmljdWx0dXJl0gEA\">31. Artificial Intelligence is being trained to help all areas of agriculture - Google News</a>  </p>\n",
       "<ul>\n",
       "<li>Artificial intelligence is increasingly used in agriculture to identify plant diseases, pests, and soil conditions, with the goal of improving accuracy in various areas such as nutrition for livestock and crop protection products.</li>\n",
       "<li>AI technology requires vast amounts of data to be effective, including crop data, image data, and soil samples, and ongoing input from farmers and ranchers is essential for its development.</li>\n",
       "<li>The use of AI in agriculture has grown significantly, with computer science professors at Dakota State University highlighting its potential to revolutionize various aspects of the field through advanced data analysis and image recognition capabilities. </li>\n",
       "</ul>\n",
       "<p><a href=\"https://news.google.com/articles/CBMiamh0dHBzOi8vd3d3Lm1hbmlsYXRpbWVzLm5ldC8yMDI0LzA3LzA3L2J1c2luZXNzL3N1bmRheS1idXNpbmVzcy1pdC9vbi1haXMtaW1wYWN0LW9uLXN1c3RhaW5hYmlsaXR5LzE5NTU1MDbSAW5odHRwczovL3d3dy5tYW5pbGF0aW1lcy5uZXQvMjAyNC8wNy8wNy9idXNpbmVzcy9zdW5kYXktYnVzaW5lc3MtaXQvb24tYWlzLWltcGFjdC1vbi1zdXN0YWluYWJpbGl0eS8xOTU1NTA2L2FtcA\">32. On AI's impact on sustainability - Google News</a>  </p>\n",
       "<ul>\n",
       "<li>Artificial intelligence (AI) has evolved from a digital assistant to a key component in modern technology, utilized in various fields such as education, science, medical research, space exploration, and financial management.</li>\n",
       "<li>Generative AI (GenAI) is a significant advancement in AI technology, becoming deeply integrated into daily activities and applications.</li>\n",
       "<li>The widespread adoption of AI has implications for customer interactions, with banks and other industries increasingly relying on AI interfaces for client communication. </li>\n",
       "</ul>\n",
       "<p><a href=\"https://news.google.com/articles/CBMiaWh0dHBzOi8vd3d3LnRoZWd1YXJkaWFuLmNvbS90ZWNobm9sb2d5L2FydGljbGUvMjAyNC9qdWwvMDcvaG93LWFpLWlzLWhlbHBpbmctdXMtdGFja2xlLXRoZS1jbGltYXRlLWNyaXNpc9IBaWh0dHBzOi8vYW1wLnRoZWd1YXJkaWFuLmNvbS90ZWNobm9sb2d5L2FydGljbGUvMjAyNC9qdWwvMDcvaG93LWFpLWlzLWhlbHBpbmctdXMtdGFja2xlLXRoZS1jbGltYXRlLWNyaXNpcw\">33. How AI is helping us tackle the climate crisis - Google News</a>  </p>\n",
       "<ul>\n",
       "<li>AI can help accelerate the green transition and address climate and nature crises by enabling decarbonisation opportunities and supporting shifts towards sustainability in sectors like the built environment.</li>\n",
       "<li>The power use for AI is often lower than traditional computing methods, such as in energy-intensive climate models, and discussions around its energy consumption should consider its benefits in combating larger sources of emissions like construction and transport.</li>\n",
       "<li>There is a need to focus on improving the efficiency and responsible development of AI, while also harnessing its capabilities to drive the green transition further. </li>\n",
       "</ul>\n",
       "<p><a href=\"https://news.google.com/articles/CBMibmh0dHBzOi8vZ2VvZ3JhcGhpY2FsLmNvLnVrL2NsaW1hdGUtY2hhbmdlL3dlLWFzay1haS10by1leHBsYWluLXdoeS13ZS1zdHJ1Z2dsZS13aXRoLXNvbHZpbmctdGhlLWNsaW1hdGUtY3Jpc2lz0gEA\">34. We ask AI to explain why we struggle with solving the climate crisis - Google News</a>  </p>\n",
       "<ul>\n",
       "<li>Climate change is a complex issue with interconnected effects and potential cascading consequences, highlighting the importance of understanding its interactions and amplifications.</li>\n",
       "<li>Reasons for lack of public awareness about climate change interconnectedness include complexity, communication challenges, information overload, psychological barriers, and political polarization.</li>\n",
       "<li>Despite irreversible changes, catastrophic consequences can still be avoided through swift and decisive action by self-described intelligent human beings. </li>\n",
       "</ul>\n",
       "<p><a href=\"https://www.planetizen.com/news/2024/07/130117-predicting-toxic-algae-blooms-ai-modeling\">35. Predicting Toxic Algae Blooms with AI Modeling - Feedly AI</a>  </p>\n",
       "<ul>\n",
       "<li>Scientists are using AI and machine learning models to predict water quality issues caused by toxic blue-green algae blooms, fueled by climate change and rising water temperatures.</li>\n",
       "<li>Artificial intelligence modeling will be employed to forecast toxic algal blooms by analyzing data collected since 1954 and predicting how climate change may affect the intensity and frequency of these blooms in the future.</li>\n",
       "<li>These harmful algal blooms have been reported in all 50 U.S. states and can have significant consequences such as dangerous toxin levels in water sources, impacting communities and activities like summer tourism. </li>\n",
       "</ul>\n",
       "<p><a href=\"https://news.google.com/articles/CBMinQFodHRwczovL2h1bnRzdmlsbGVidXNpbmVzc2pvdXJuYWwuY29tL25ld3MvMjAyNC8wNy8wNy91YWgtZG9jdG9yYWwtY2FuZGlkYXRlLWxlYWRzLXN0dWR5LW9uLWxldmVyYWdpbmctYWktYW5kLXNvY2lhbC1tZWRpYS1mb3ItZGlzYXN0ZXItcmVsaWVmLWNvbW11bmljYXRpb24v0gEA\">36. UAH Doctoral Candidate Leads Study On Leveraging AI And Social Media For Disaster Relief Communication - Google News</a>  </p>\n",
       "<ul>\n",
       "<li>The page could not be found on the Huntsville Business Journal website.</li>\n",
       "<li>Suggestions for users include checking spelling, using similar keywords, and using more than one keyword for better search results.</li>\n",
       "<li>Contact information for the Huntsville Business Journal is provided on the site for inquiries and submissions. </li>\n",
       "</ul>\n",
       "<p><a href=\"https://news.google.com/articles/CBMiRGh0dHBzOi8vd3d3LmV1cmFzaWFudGltZXMuY29tL3VzLWNoaW5hLWNvbmZsaWN0LXVzYWYtcGxhbnMtMTAwMC02dGgv0gFEaHR0cHM6Ly93d3cuZXVyYXNpYW50aW1lcy5jb20vdXMtY2hpbmEtY29uZmxpY3QtdXNhZi1wbGFucy0xMDAwLTZ0aC8\">37. US-China Conflict: USAF Plans 1000 6th-Gen Robo Warplanes To Counter Beijing &amp; Its Ever Growing PLAAF - Google News</a>  </p>\n",
       "<ul>\n",
       "<li>CCA (Collaborative Combat Aircraft) Drone is part of the US Air Force's Next Generation Air Dominance (NGAD) Family of Systems to fight China</li>\n",
       "<li>The CCA program aims to develop unmanned combat air vehicles (UCAVs) that work collaboratively with manned combat aircraft, incorporating AI for increased survivability and reduced costs</li>\n",
       "<li>The USAF plans to spend over $6 billion on the CCA program from 2023 to 2028, with the goal of operationalizing the systems by 2030 and deploying over 1,000 CCAs to counter the growing threats from China </li>\n",
       "</ul>\n",
       "<p><a href=\"https://news.google.com/articles/CBMiiwFodHRwczovL3d3dy5yZXV0ZXJzLmNvbS90ZWNobm9sb2d5L2FydGlmaWNpYWwtaW50ZWxsaWdlbmNlL2Vsb24tbXVzay1leHBlY3RlZC1tYWtlLXNwZWVjaC1vcGVuaW5nLXNoYW5naGFpcy13b3JsZC1haS1jb25mZXJlbmNlLTIwMjQtMDctMDMv0gEA\">38. Elon Musk expected to make speech at opening of Shanghai's World AI Conference - Google News</a>  </p>\n",
       "<ul>\n",
       "<li>Elon Musk will be a keynote speaker at the opening ceremony of the World AI Conference in Shanghai.</li>\n",
       "<li>There is uncertainty whether Musk will appear in person or via video at the event.</li>\n",
       "<li>Musk's speech coincides with the EU potentially imposing tariffs on Chinese electric vehicle imports. </li>\n",
       "</ul>\n",
       "<p><a href=\"https://www.techspot.com/news/103699-big-tech-needs-generate-600-billion-annual-revenue.html\">39. Big Tech needs to generate $600 billion in annual revenue to justify AI hardware expenditure - Feedly AI</a>  </p>\n",
       "<ul>\n",
       "<li>Big Tech needs to generate $600 billion in annual revenue to justify AI hardware expenditure according to the analysis by Sequoia Capital analyst, David Cahn.</li>\n",
       "<li>There is a significant gap between revenue expectations from AI infrastructure build-out and actual revenue growth in the AI ecosystem, with a requirement for $600 billion in annual AI revenue.</li>\n",
       "<li>Despite potential revenue growth from AI, there are concerns about the industry's ability to fill the financial gap and sustainability of investments in AI infrastructure. </li>\n",
       "</ul>\n",
       "<p><a href=\"https://news.google.com/articles/CBMiP2h0dHBzOi8vd3d3LmZ0LmNvbS9jb250ZW50LzhhN2M4NmZlLWYyNzEtNDRlYS05NmUxLTczMGY1NjQ5M2YzOdIBAA\">40. Samsung expects profits to surge on demand for AI chips - Google News</a>  </p>\n",
       "<ul>\n",
       "<li>Samsung Electronics expects a more than 15-fold increase in second-quarter operating profit due to strong demand for AI products, particularly memory chips.</li>\n",
       "<li>Samsung's chip division's estimated strong operating profit in the second quarter is offsetting declining margins in the smartphone business.</li>\n",
       "<li>Despite positive financial results, Samsung is facing challenges in catching up with competitors in producing advanced HBM chips and is dealing with labor strikes and management changes. </li>\n",
       "</ul>\n",
       "<p><a href=\"https://www.scmp.com/economy/china-economy/article/3269334/chinas-tech-boom-powering-ai-career-coup-finance-muscled-out-top-salary-pyramid\">41. Chinas tech boom powering AI career coup, with finance muscled out at top of salary pyramid - Feedly AI</a>  </p>\n",
       "<ul>\n",
       "<li>China's tech industry is surpassing finance in terms of salary rankings, with AI jobs offering the highest monthly salaries in a new survey</li>\n",
       "<li>As China focuses on self-sufficiency in technology and global demand for AI applications increases, the job market is shifting to meet the demand</li>\n",
       "<li>AI engineers are now among the top 20 best-paid jobs, with salaries exceeding those in the financial sector </li>\n",
       "</ul>\n",
       "<p><a href=\"https://www.tomshardware.com/tech-industry/artificial-intelligence/chinas-ai-model-glut-is-a-significant-waste-of-resources-due-to-scarce-real-world-applications-says-baidu-ceo\">42. China's AI model glut is a 'significant waste of resources' due to scarce real-world applications says Baidu CEO - Feedly AI</a>  </p>\n",
       "<ul>\n",
       "<li>Baidu CEO stated that China's AI model glut is unsustainable with over 100 LLMs lacking practical applications  </li>\n",
       "<li>China has surpassed the U.S. in AI patents but is falling behind in citations  </li>\n",
       "<li>Competition between LLMs in China leads to business consolidation with larger companies gaining advantages and smaller companies struggling to sustain their products </li>\n",
       "</ul>\n",
       "<p><a href=\"https://news.google.com/articles/CBMiO2h0dHBzOi8vcXouY29tL2VtYWlscy9kYWlseS1icmllZi8xODUxNTgwMDc2L2NoaW5hcy1haS1wdXNo0gEA\">43. China's homegrown AI models are expanding - Google News</a>  </p>\n",
       "<ul>\n",
       "<li>China's homegrown AI models are expanding, with Quartz compiling a list of the country's top artificial intelligence competitors and firms.</li>\n",
       "<li>The South Korea tech giant is experiencing solid profits due to AI and chip demand, leading to a three-year high in Samsung stock.</li>\n",
       "<li>Tesla's stock has seen a significant turnaround, with better-than-expected second quarter deliveries boosting the company and CEO Elon Musk's value by $10 billion. </li>\n",
       "</ul>\n",
       "<p><a href=\"https://news.google.com/articles/CBMiJWh0dHBzOi8vd3d3LmRhaWx5LXN1bi5jb20vcG9zdC83NTYzNjnSAQA\">44. Banks Must Guard against Scammers Using AI - Google News</a>  </p>\n",
       "<ul>\n",
       "<li>Criminals are using Artificial Intelligence (AI) to impersonate bank senior executives and generate AI-based scams, leading to a significant increase in fraud-related losses.</li>\n",
       "<li>Banks and fraud prevention officials are concerned about the rise in fraud losses and are implementing measures such as AI tools for payment validation and customer education to prevent scams.</li>\n",
       "<li>Journalists play a vital role in exposing corruption, with news reports revealing corruption among government officials, police, and army personnel, contributing to public scrutiny and combating impunity. </li>\n",
       "</ul>\n",
       "<p><a href=\"https://news.google.com/articles/CBMiZ2h0dHBzOi8vd3d3Lm5ld2luZGlhbmV4cHJlc3MuY29tL3hwbG9yZS8yMDI0L0p1bC8wNS9maW50ZWNoLW5lZWRzLXRvLWFkb3B0LWFkdmFuY2VkLWFpbWwtcG93ZXJlZC1tb2RlbHPSAXFodHRwczovL3d3dy5uZXdpbmRpYW5leHByZXNzLmNvbS9hbXAvc3RvcnkveHBsb3JlLzIwMjQvSnVsLzA1L2ZpbnRlY2gtbmVlZHMtdG8tYWRvcHQtYWR2YW5jZWQtYWltbC1wb3dlcmVkLW1vZGVscw\">45. Fintech needs to adopt advanced AI/ML-powered models - Google News</a>  </p>\n",
       "<ul>\n",
       "<li>Fintech sector adopting cloud services, IT modernization, and AI/ML integration</li>\n",
       "<li>Significant threats include GenAI threats, deepfakes, phishing, and multi-cloud threats</li>\n",
       "<li>Recommendations for fintechs include adopting cloud-native security, integrating security in DevOps, implementing AI/ML solutions, conducting risk analysis, and ensuring regulatory compliance </li>\n",
       "</ul>\n",
       "<p><a href=\"https://news.google.com/articles/CBMiwAFodHRwczovL3d3dy5pbnRlbGxpZ2VudGNpby5jb20vZXUvMjAyNC8wNy8wNS93aGF0LXN0cmF0ZWdpZXMtY2FuLWJ1c2luZXNzLWFuZC10ZWNobm9sb2d5LWxlYWRlcnMtYWRvcHQtdG8tZWZmZWN0aXZlbHktYmFsYW5jZS1pbW1lZGlhdGUtYWktaW52ZXN0bWVudHMtd2l0aC1sb25nLXRlcm0tc3VzdGFpbmFiaWxpdHktb2JqZWN0aXZlcy_SAQA\">46. What strategies can business and technology leaders adopt to effectively balance immediate AI investments with long-term sustainability objectives?  Intelligent CIO Europe - Google News</a>  </p>\n",
       "<ul>\n",
       "<li>UK CEOs prioritizing AI investments for competitive advantage</li>\n",
       "<li>Challenge in balancing immediate AI investments with long-term sustainability goals</li>\n",
       "<li>Importance of strategic transactions and industrial AI approach for sustainability goals </li>\n",
       "</ul>\n",
       "<p><a href=\"https://news.google.com/articles/CCAiC1pGbWFweFlCYWZZmAEB\">47. How Cohere CEO Aidan Gomez Says AI Will Directly Profit Companies - Google News</a>  </p>\n",
       "<ul>\n",
       "<li>Aidan Gomez, CEO of Cohere, is a key figure in generative AI development.</li>\n",
       "<li>He is focused on building generative AI models for companies to boost profits.</li>\n",
       "<li>Gomez was involved in writing the foundational paper on transformer tech for generative AI during his time as a Google intern in 2017. </li>\n",
       "</ul>\n",
       "<p><a href=\"https://venturebeat.com/ai/in-the-age-of-ai-the-role-of-the-caio-will-be-indispensable-and-heres-why/\">48. In the age of AI, the role of the CAIO will be indispensable (and here's why) - VentureBeat</a>  </p>\n",
       "<ul>\n",
       "<li>Chief AI officers are essential for leading organizations into the future in the AI age </li>\n",
       "<li>Establishing governance for responsible AI use is crucial for companies to innovate boldly and rapidly</li>\n",
       "<li>Getting AI into the hands of employees and acting decisively in adopting AI technology can provide significant advantages </li>\n",
       "</ul>\n",
       "<p><a href=\"https://techcrunch.com/2024/07/07/cios-concerns-over-generative-ai-echo-those-of-the-early-days-of-cloud-computing/\">49. CIOs concerns over generative AI echo those of the early days of cloud computing - Feedly AI</a>  </p>\n",
       "<ul>\n",
       "<li>CIOs' concerns over generative AI echo those of the early days of cloud computing, with similarities in governance, security, and responsible use.</li>\n",
       "<li>CIOs have learned to focus on guiding responsible use of generative AI and enhancing customer experience, instead of just saying no to the technology.</li>\n",
       "<li>IT executives understand that locking down generative AI tools is not practical, and they need to find ways to help employees use them safely and effectively to prevent unauthorized usage. </li>\n",
       "</ul>\n",
       "<p><a href=\"https://www.nextgov.com/artificial-intelligence/2024/07/us-intelligence-community-embracing-generative-ai/397849/\">50. US intelligence community is embracing generative AI - Feedly AI</a>  </p>\n",
       "<ul>\n",
       "<li>US intelligence agencies are utilizing generative AI for content triage, assisting analysts, search and discovery assistance, ideation, and brainstorming.</li>\n",
       "<li>Agencies like the CIA are employing generative AI to sift through vast amounts of data, extract insights, and inform policymakers, enhancing intelligence operations.</li>\n",
       "<li>Senior intelligence officials are recognizing the potential of generative AI while also emphasizing the importance of responsibly managing risks and ensuring safety, security, and compliance with privacy standards. </li>\n",
       "</ul>\n",
       "<p><a href=\"https://news.google.com/articles/CBMiX2h0dHBzOi8vd3d3LnRlY2hyYWRhci5jb20vcHJvL3Bhc3N3b3Jkcy1hcmUtcGFzc2UtZ2VuYWktZGVtYW5kcy1uZXctbWV0aG9kcy1vZi1kaWdpdGFsLXNlY3VyaXR50gEA\">51. Passwords are passe: GenAI demands new methods of digital security - Google News</a>  </p>\n",
       "<ul>\n",
       "<li>Passwords have become outdated in the age of AI, leading to increased vulnerability to cybercriminals.</li>\n",
       "<li>Financial institutions face growing threats from AI-powered cybercrimes, requiring new strategies for fraud prevention.</li>\n",
       "<li>Behavioral biometric intelligence offers a non-intrusive method to enhance security and combat fraudulent activities in online banking. </li>\n",
       "</ul>\n",
       "<p><a href=\"https://www.reddit.com/r/technology/comments/1dx38gy/tokens_are_a_big_reason_todays_generative_ai/\">52. Tokens are a big reason todays generative AI falls short - Reddit</a>  </p>\n",
       "<ul>\n",
       "<li>Tokens are highlighted as a significant factor contributing to the limitations of today's generative AI</li>\n",
       "<li>Discussion on the definition of AI, AGI, and the perception of intelligence in the AI industry</li>\n",
       "<li>Debate on the relevance and scope of artificial intelligence, including applications such as LLMs, NPC pathfinding, recommendation systems, and fraud detection </li>\n",
       "</ul>\n",
       "<p><a href=\"https://www.economist.com/finance-and-economics/2024/07/02/what-happened-to-the-artificial-intelligence-revolution\">53. What happened to the artificial-intelligence revolution? - Feedly AI</a>  </p>\n",
       "<ul>\n",
       "<li>The artificial intelligence revolution has not had a significant economic impact so far, despite high expectations and investments from major tech firms.</li>\n",
       "<li>In San Francisco, there is a prevalent enthusiasm and belief in AI revolutionizing the global economy, with large investments being made in AI-related hardware and research.</li>\n",
       "<li>Outside of America's west coast, there is little evidence that AI is having a significant impact in other regions. </li>\n",
       "</ul>\n",
       "<p><a href=\"https://www.theverge.com/2024/7/7/24193768/using-chatgpt-for-coding-help-is-a-fraught-endeavor\">54. When AI models are past their prime. - The Verge</a>  </p>\n",
       "<ul>\n",
       "<li>A recent study highlighted the limitations of AI models like ChatGPT when faced with coding problems that were added after their training data cutoff in 2021.</li>\n",
       "<li>ChatGPT (using GPT-3.5) performed well on coding problems existing before 2021 but struggled with new problems, sometimes failing to understand the questions.</li>\n",
       "<li>The study underscores the importance of having sufficient and up-to-date data for AI models to function effectively, showing a significant drop in success rate when lacking adequate data. </li>\n",
       "</ul>\n",
       "<p><a href=\"https://news.google.com/articles/CBMiX2h0dHBzOi8vZm9ydHVuZS5jb20vMjAyNC8wNy8wMi9iaWxsLWdhdGVzLWxlb3BvbGQtYXNjaGVuYnJlbm5lci10cmVhdGlzZS1hZ2ktc3VwZXJpbnRlbGxpZ2VuY2Uv0gEA\">55. A former OpenAI researcher sees a clear path to AGI this decade. Bill Gates disagrees - Google News</a>  </p>\n",
       "<ul>\n",
       "<li>Former OpenAI researcher sees AGI achievable within the next two to five years, with potential for rapid progression to artificial superintelligence.</li>\n",
       "<li>Bill Gates and others doubt the feasibility of achieving AGI through scaling LLMs, emphasizing the need for better AI solutions than current models.</li>\n",
       "<li>Debate surrounding the effectiveness of LLMs, with critics highlighting inherent issues and the need for metacognition in AI systems, while considering the practical business applications of current AI technologies. </li>\n",
       "</ul>\n",
       "<p><a href=\"https://www.tomshardware.com/tech-industry/artificial-intelligence/ai-models-that-cost-dollar1-billion-to-train-are-in-development-dollar100-billion-models-coming-soon-largest-current-models-take-only-dollar100-million-to-train-anthropic-ceo\">56. AI models that cost $1 billion to train are underway, $100 billion models coming  largest current models take 'only' $100 million to train: Anthropic CEO - Feedly AI</a>  </p>\n",
       "<ul>\n",
       "<li>AI training costs are growing exponentially, with models costing up to $1 billion to train and expectations for $100 billion models in the future.</li>\n",
       "<li>Hardware advancements must keep up with the rapid growth in AI models, with significant power consumption and infrastructure requirements for training these advanced models.</li>\n",
       "<li>The development of AI from generative artificial intelligence to artificial general intelligence is expected to be gradual, building upon past models' advancements, and hardware innovations seem to be keeping pace. </li>\n",
       "</ul>\n",
       "<p><a href=\"https://www.digitaltrends.com/computing/anthropic-ai-benchmark-funding-program/\">57. Anthropic aims to fix one of the biggest problems in AI right now - Feedly AI</a>  </p>\n",
       "<ul>\n",
       "<li>Anthropic announced a program funding the development of third-party benchmark tests to evaluate its AI models, aiming to elevate the field of AI safety.</li>\n",
       "<li>The company is looking for benchmarks to measure AI safety levels, advanced capabilities, and is willing to fund the development of high-volume tasks for testing.</li>\n",
       "<li>Interested developers can submit proposals to Anthropic for evaluation on a rolling basis. </li>\n",
       "</ul>\n",
       "<p><a href=\"https://thehill.com/policy/technology/4752365-regulation-nonconsensual-explicit-deepfakes/\">58. How Congress is fighting the rise of nonconsensual AI porn - Feedly AI</a>  </p>\n",
       "<ul>\n",
       "<li>Bipartisan bills introduced in Congress aim to regulate the spread of nonconsensual explicit deepfakes created using artificial intelligence.</li>\n",
       "<li>The bills target the issue of nonconsensual explicit deepfakes, which have impacted public figures, celebrities, everyday people, and even school students.</li>\n",
       "<li>The legislative efforts include the Defiance Act and the Take It Down Act, seeking to provide civil remedies and criminal violations for producing and sharing nonconsensual digitally altered images online. </li>\n",
       "</ul>\n",
       "<p><a href=\"https://news.google.com/articles/CBMiuwFodHRwczovL3d3dy53ZmFhLmNvbS92aWRlby9uZXdzL3BvbGl0aWNzL3lhbGwtaXRpY3MvdGV4YXMtdGVlbi13b3Jrcy10by1wcm90ZWN0LXZpY3RpbXMtb2Ytbm9uLWNvbnNlbnN1YWwtcmVhbC1hbmQtYWktcG9ybi15YWxsLWl0aWNzLWp1bmUtMjctMjAyNC8yODctOGVlZjAyN2QtYmIxOS00Y2UwLWJjNjQtZDNmNjI5MDMxNmJi0gEA\">59. Texas teen works to protect victims of non-consensual real and AI porn | Y'all-itics: June 27, 2024 - Google News</a>  </p>\n",
       "<ul>\n",
       "<li>Elliston Berry experienced the creation and spread of fake porn images of her by a classmate at the age of 14</li>\n",
       "<li>Berry and her mother share their journey and challenges in dealing with the aftermath of non-consensual real and AI porn</li>\n",
       "<li>The article discusses the efforts of the Texas teen in advocating for victims and raising awareness about the issue </li>\n",
       "</ul>\n",
       "<p><a href=\"https://news.google.com/articles/CBMic2h0dHBzOi8vd3d3LnB5bW50cy5jb20vYXJ0aWZpY2lhbC1pbnRlbGxpZ2VuY2UtMi8yMDI0L2dlbmFpLWhlbHBzLWRyaXZlLTExOHBlcmNlbnQtaW5jcmVhc2UtaW4tam9iLXNjYW1zLWl0cmMtc2F5cy_SAQA\">60. GenAI Helps Drive 118% Increase in Job Scams, ITRC Says - Google News</a>  </p>\n",
       "<ul>\n",
       "<li>Generative artificial intelligence (AI) led to a 118% increase in job scams in 2023, with cybercriminals using AI to make scams appear more legitimate.</li>\n",
       "<li>Scammers targeted individuals on job posting platforms and social media, asking for sensitive personal information under the guise of fake job opportunities.</li>\n",
       "<li>Despite an overall 18% decrease in reported scams, job scams increased, highlighting the impact of AI advancements in aiding cybercriminals. </li>\n",
       "</ul>\n",
       "<p><a href=\"https://news.google.com/articles/CBMia2h0dHBzOi8vd3d3LmNuYmMuY29tLzIwMjQvMDcvMDcvam9iLXNjYW1zLXN1cmdlZC0xMThwZXJjZW50LWluLTIwMjMtYWlkZWQtYnktYWktaGVyZXMtaG93LXRvLXN0b3AtdGhlbS5odG1s0gFvaHR0cHM6Ly93d3cuY25iYy5jb20vYW1wLzIwMjQvMDcvMDcvam9iLXNjYW1zLXN1cmdlZC0xMThwZXJjZW50LWluLTIwMjMtYWlkZWQtYnktYWktaGVyZXMtaG93LXRvLXN0b3AtdGhlbS5odG1s\">61. Job scams surged 118% in 2023, aided by AI. Here's how to stop them - Google News</a>  </p>\n",
       "<ul>\n",
       "<li>Job scams surged 118% in 2023, driven by AI and remote work, leading to an increase in fraudulent job and recruitment ads aimed at stealing personal and financial information from job seekers.</li>\n",
       "<li>Scammers pose as recruiters or post fake job listings on reputable platforms, tricking victims into divulging sensitive information that can be used for identity theft, with the typical victim losing around $2,000.</li>\n",
       "<li>Employment scams, though accounting for only 9% of identity scams, are an emerging threat, leveraging AI advancements to make fraudulent job offers appear more legitimate, highlighting the importance of independently verifying job opportunities and avoiding upfront requests for personal information. </li>\n",
       "</ul>\n",
       "<p><a href=\"https://techcrunch.com/2024/07/03/cloudflare-launches-a-tool-to-combat-ai-bots\">62. Cloudflare launches a tool to combat AI bots - Feedly AI</a>  </p>\n",
       "<ul>\n",
       "<li>Cloudflare has launched a tool to automatically detect and block AI bots, crawlers, and scrapers.</li>\n",
       "<li>The tool analyzes AI bot and crawler traffic to fine-tune automatic bot detection models and flag traffic from evasive AI bots.</li>\n",
       "<li>The problem of AI bots has escalated with the demand for model training data, leading many sites to block AI scrapers and crawlers, although some vendors still appear to be circumventing standard bot exclusion rules. </li>\n",
       "</ul>\n",
       "<p><a href=\"https://theconversation.com/computer-love-ai-powered-chatbots-are-changing-how-we-understand-romantic-and-sexual-well-being-234054\">63. Computer love: AI-powered chatbots are changing how we understand romantic and sexual well-being - Feedly AI</a>  </p>\n",
       "<ul>\n",
       "<li>AI-powered chatbots offer companionship, intimacy, and emotional support, leading users to form genuine emotional bonds with them, even resembling human relationships.</li>\n",
       "<li>There are concerns that reliance on AI romantic companions may hinder the development of social skills, emotional growth, and the ability to navigate real-world relationships.</li>\n",
       "<li>Privacy issues have been raised regarding AI chatbots, as they may share personal data and potentially lead to social isolation and emotional dependency for users. </li>\n",
       "</ul>\n",
       "<p><a href=\"https://www.reddit.com/r/technology/comments/1dxhln5/real_criminals_fake_victims_how_chatbots_are/\">64. Real criminals, fake victims: how chatbots are being deployed in the global fight against phone scammers - Reddit</a>  </p>\n",
       "<ul>\n",
       "<li>Chatbots are being utilized in the global fight against phone scammers to engage and waste scammers' time.</li>\n",
       "<li>The use of chatbots aims to reduce the success rate of scam calls and protect potential victims.</li>\n",
       "<li>Certain companies are deploying strategies involving AI to combat phone scammers and enhance security measures. </li>\n",
       "</ul>\n",
       "<p><a href=\"https://www.looper.com/1613987/ai-1950s-the-fifth-element-movie-trailer-freaky/\">65. AI Creates A 1950s The Fifth Element Movie Trailer &amp; It's Freaky - Feedly AI</a>  </p>\n",
       "<ul>\n",
       "<li>AI technology reimagined \"The Fifth Element\" movie in a 1950s retro style, giving it a unique visual aesthetic with a throwback vibe.</li>\n",
       "<li>The fan-made concept trailer features elements like flying cars, buildings, and spacecrafts inspired by 1950s designs, creating a new perspective on the futuristic world of the film.</li>\n",
       "<li>Despite positive reception and hopes from fans, there are no current plans for a 1950s-set \"The Fifth Element\" remake or sequel, as the original remains a cult classic in the sci-fi genre. </li>\n",
       "</ul>\n",
       "<p><a href=\"https://www.unilad.com/film-and-tv/news/family-guy-live-action-ai-831421-20240705\">66. AI turns Family Guy into a 1980s live action sitcom and the results are freaky - Feedly AI</a>  </p>\n",
       "<ul>\n",
       "<li>AI technology has been used to transform popular cartoons like Family Guy into live-action sitcoms from the 1980s, resulting in both hilarious and terrifying outcomes</li>\n",
       "<li>The AI-generated mockup of Family Guy features characters like Peter, Lois, Meg, and Chris, as well as unique interpretations of iconic characters like the Giant Chicken and Stewie</li>\n",
       "<li>Viewers reacted with a mix of fascination and unease, with some expressing interest in watching a full sitcom version of the AI-transformed Family Guy </li>\n",
       "</ul>\n",
       "<p><a href=\"https://www.reddit.com/r/ChatGPT/comments/1dxf72r/next_level_image_gen_i_can_see_why_artists_are/\">67. next level image gen, i can see why artists are going out of business - Reddit</a>  </p>\n",
       "<ul>\n",
       "<li>Users on r/ChatGPT discuss the capabilities of an image generation model, comparing it to human coding skills and discussing its potential applications in creative projects.</li>\n",
       "<li>Some users express surprise at the model's ability to visualize unique images, highlighting its potential in assisting with coding tasks and generating creative solutions.</li>\n",
       "<li>There are mixed reactions within the community regarding the ease of generating images using the model, with debates on coding complexity, AI capabilities, and the efficiency of using AI tools. </li>\n",
       "</ul>\n",
       "<p><a href=\"https://www.forbes.com/sites/lanceeliot/2024/07/07/trend-of-hurkle-durkling-in-bed-gets-boosted-to-high-form-via-modern-generative-ai/\">68. Trend Of Hurkle-Durkling In Bed Gets Boosted To High Form Via Modern Generative AI - Feedly AI</a>  </p>\n",
       "<ul>\n",
       "<li>Hurkle-durkling is the act of lounging in bed longer than necessary after waking up.</li>\n",
       "<li>Generative AI can help detect hurkle-durkling, provide mental health advisement, and analyze behavior patterns associated with it.</li>\n",
       "<li>Hurkle-durkling can have both positive aspects like rest and relaxation, and negative aspects like procrastination and routine disruption. </li>\n",
       "</ul>\n",
       "<p><a href=\"https://analyticsindiamag.com/fashion-gets-a-generative-ai-makeover/\">69. Fashion Gets a Generative AI Makeover - Feedly AI</a>  </p>\n",
       "<ul>\n",
       "<li>Generative AI has the potential to boost the fashion industry's profits by $150 billion to $275 billion by 2030.</li>\n",
       "<li>AI algorithms are used to create innovative styles, inspiring designers and making high fashion accessible and diverse.</li>\n",
       "<li>Fashion brands like The Fabricant and Rebeca Minkoff use AI for digital clothing designs, GANs generate new fashion designs from existing styles, and various companies integrate AI for trend forecasting and personalized shopping experiences. </li>\n",
       "</ul>\n",
       "<p><a href=\"https://www.digitaltrends.com/computing/meta-3d-gen-ai-retexture/\">70. Metas new AI model can turn text into 3D images in under a minute - Feedly AI</a>  </p>\n",
       "<ul>\n",
       "<li>Meta's new \"3D Gen\" AI model can transform text into high-fidelity 3D images in under a minute.</li>\n",
       "<li>The model can generate 3D models quickly and apply new textures using text prompts.</li>\n",
       "<li>The model demonstrates high-resolution textures, material maps, physically-based rendering, and generative re-texturing capabilities. </li>\n",
       "</ul>\n",
       "<p><a href=\"https://www.surrey.ac.uk/news/german-court-allows-patents-ai-generated-inventions\">71. German court allows patents for AI-generated inventions - Feedly AI</a>  </p>\n",
       "<ul>\n",
       "<li>German court rules that inventions generated by artificial intelligence can be patented, resolving a split between German federal appellate courts</li>\n",
       "<li>The decision allows for a natural person to be named as an inventor even if AI was used in generating the invention</li>\n",
       "<li>This decision is part of the Artificial Inventor Project led by Professor Ryan Abbott from the University of Surrey </li>\n",
       "</ul>\n",
       "<p><a href=\"https://hackernoon.com/does-generative-ai-violate-the-rights-of-authors-and-artists\">72. Does Generative AI Violate the Rights of Authors and Artists? - HackerNoon</a>  </p>\n",
       "<ul>\n",
       "<li>Authors, artists, and employers are upset over generative AI, leading to pending lawsuits and concerns about the impact on their livelihoods.</li>\n",
       "<li>Legal questions surrounding copyright and fair use in relation to generative AI are complex and remain unresolved.</li>\n",
       "<li>While generative AI can enhance creativity and knowledge, there are debates on whether AI should be treated differently under copyright law and how it may impact various industries in the future. </li>\n",
       "</ul>\n",
       "<p><a href=\"https://news.google.com/articles/CBMiR2h0dHBzOi8vd3d3LmNpbmVkLmNvbS9pcy10aGUtZmlyc3QtZ2VuZXJhdGl2ZS1haS1jYW1lcmEtb24tdGhlLWhvcml6b24v0gEA\">73. Is the First Generative AI Camera on the Horizon? - Google News</a>  </p>\n",
       "<ul>\n",
       "<li>The CMR M-1 camera is a new concept camera co-developed by SpecialGuestX and 1stAveMachine, featuring generative AI technology.</li>\n",
       "<li>The camera challenges the traditional concept of a camera by incorporating generative AI algorithms alongside basic light-capturing elements.</li>\n",
       "<li>The CMR M-1 offers a unique workflow that combines vintage design elements with modern generative AI technology, providing a glimpse into potential future camera features. </li>\n",
       "</ul>\n",
       "<p><a href=\"https://www.forbes.com/sites/chriswestfall/2024/07/07/openai-powered-humanoid-robot-fills-spot-at-bmw-assembly-plant/\">74. OpenAI-Powered Humanoid Robot Fills Spot At BMW Assembly Plant - Feedly AI</a>  </p>\n",
       "<ul>\n",
       "<li>BMW's Spartanburg plant is testing a new fully autonomous humanoid robot in its assembly process, with machine learning capabilities powered by OpenAI and built by Figure.</li>\n",
       "<li>Humanoid robots are becoming increasingly important in manufacturing due to factors like labor shortages, hazardous tasks, and repetitive work, leading car makers to explore automation options.</li>\n",
       "<li>Agility Robotics has established a humanoid robot factory, where production costs have significantly decreased, making humanoid robots more accessible for tasks requiring manual dexterity, navigation, and decision-making. </li>\n",
       "</ul>\n",
       "<p><a href=\"https://news.google.com/articles/CBMicGh0dHBzOi8vYmxvZy5hZGFmcnVpdC5jb20vMjAyNC8wNy8wNi9maWd1cmUtMDEtY29mZmVlLW1ha2luZy1odW1hbm9pZC1yb2JvdC1ub3ctc2hvd3MtY2FyLWFzc2VtYmx5LXNraWxsLWF0LWJtdy_SAQA\">75. Figure 01: Coffee-making humanoid robot now shows car assembly skill at BMW - Google News</a>  </p>\n",
       "<ul>\n",
       "<li>Figure signed a commercial agreement with BMW to deploy its humanoid robot in the carmaker's production facility</li>\n",
       "<li>The California-based robotics firm released a video showcasing its 01 humanoid robot participating in the vehicle assembly process at BMW</li>\n",
       "<li>Adafruit Industries publishes various content including interviews and reporting on the maker market and technology industry </li>\n",
       "</ul>\n",
       "<p><a href=\"https://news.google.com/articles/CBMiMmh0dHBzOi8vbmV3YXRsYXMuY29tL3JvYm90aWNzL2ZpZ3VyZS1odW1hbm9pZC1ibXcv0gEA\">76. Video: Figure 01 humanoid trains for its first job assembling BMWs - Google News</a>  </p>\n",
       "<ul>\n",
       "<li>Figure's humanoid robot has been training to work at a BMW manufacturing plant</li>\n",
       "<li>Various companies are developing AI-powered humanoids to undertake physical tasks more efficiently than humans</li>\n",
       "<li>These robots are in training for real-world customer operations, particularly in car manufacturing industries </li>\n",
       "</ul>\n",
       "<p><a href=\"https://news.google.com/articles/CBMiXmh0dHBzOi8vaW50ZXJlc3RpbmdlbmdpbmVlcmluZy5jb20vaW5ub3ZhdGlvbi91cy1maWd1cmUtaHVtYW5vaWQtc3RhcnQtb3BlcmF0aW9ucy1hdC1ibXctcGxhbnTSAQA\">77. Watch: Figure's 01 humanoids now working at BMW's car plant in US - Google News</a>  </p>\n",
       "<ul>\n",
       "<li>Figure's humanoid robot is deployed at BMW's facility in Spartanburg, SC, demonstrating full autonomy in vehicle assembly with actions guided by neural networks.</li>\n",
       "<li>The versatile humanoid robots from Figure can handle various manufacturing tasks, such as sheet metal handling, operating in the body shop, and overseeing the warehouse, with precise placement capabilities enabled by neural networks.</li>\n",
       "<li>Several car manufacturers, including BMW and Mercedes, are exploring the use of humanoid robots for automating repetitive and hazardous tasks on assembly lines to improve productivity and address workforce scaling challenges. </li>\n",
       "</ul>\n",
       "<p><a href=\"https://thenewstack.io/official-pytorch-documentary-revisits-its-past-and-its-future/\">78. Official PyTorch Documentary Revisits Its Past, and Its Future - Hacker News 2</a>  </p>\n",
       "<ul>\n",
       "<li>PyTorch is utilized by over 60% of AI jobs today and has a significant impact on AI research implementations.</li>\n",
       "<li>The official PyTorch documentary titled \"Powering the AI Revolution\" recounts the creation and development of the deep learning framework, highlighting its exponential growth.</li>\n",
       "<li>The documentary reflects on the evolution of AI tools, the origin and rise of PyTorch, its contributions to various industries, and its future potential in enabling diverse platforms and applications. </li>\n",
       "</ul>\n",
       "<p><a href=\"https://www.reddit.com/r/technology/comments/1dx7p3r/perseverance_triumphs_how_sherloc_was_brought/\">79. Perseverance Triumphs: How SHERLOC Was Brought Back to Life on Mars - Reddit</a>  </p>\n",
       "<ul>\n",
       "<li>A post in r/technology discusses the successful revival of SHERLOC on Mars</li>\n",
       "<li>The post includes 40 points and 2 comments from users</li>\n",
       "<li>Users express excitement and amazement at the feat of bringing the science-built machine back to life on Mars </li>\n",
       "</ul>\n",
       "<p><a href=\"https://www.reddit.com/r/tech/comments/1dxeodw/400_robotic_surgeries_98_survival_rate_saudi/\">80. 400 robotic surgeries, 98% survival rate: Saudi hospital achieves milestone - Reddit</a>  </p>\n",
       "<ul>\n",
       "<li>Saudi hospital achieves a milestone of 400 successful robotic cardiac surgeries with a 98% survival rate</li>\n",
       "<li>Discussions in the Reddit post include questions about the specifics of robotic surgery, the role of human control in robotic surgeries, and comparisons with traditional surgery survival rates</li>\n",
       "<li>Some skepticism and questions are raised regarding the reported statistics and the performance of robotic surgery, particularly in cardiac surgeries. </li>\n",
       "</ul>\n",
       "<p><a href=\"https://news.google.com/articles/CBMiNGh0dHBzOi8vd3d3Lm5hbm90ZWNoLW5vdy5jb20vbmV3cy5jZ2k_c3RvcnlfaWQ9NTc0OTfSAQA\">81. Press Release: A 2D device for quantum cooling:EPFL engineers have created a device that can efficiently convert heat into electrical voltage at temperatures lower than that of outer space. The innovation could help overcome a significant obstacle to the adva - Google News</a>  </p>\n",
       "<ul>\n",
       "<li>EPFL engineers created a 2D device that efficiently converts heat into electrical voltage at temperatures lower than outer space.</li>\n",
       "<li>The device helps in overcoming obstacles in quantum computing technology by cooling quantum bits to millikelvin temperatures.</li>\n",
       "<li>The device combines graphene and indium selenide to exploit the Nernst effect, allowing for efficient heat to voltage conversion at ultra-low temperatures. </li>\n",
       "</ul>\n",
       "<p><a href=\"https://www.reddit.com/r/tech/comments/1dxf0nq/step_aside_futurama_scientist_build_robot_thats/\">82. Step aside Futurama, scientist build robot that's controlled by a brain in a jar - Reddit</a>  </p>\n",
       "<ul>\n",
       "<li>Scientists have developed a robot controlled by a brain in a jar, reminiscent of science fiction concepts like Krang and Robobrains.</li>\n",
       "<li>The robot is a mockup and the actual brain is kept separate for testing, raising questions about the ethical and practical implications of using human or animal brains for such technology.</li>\n",
       "<li>There is discussion on the potential use of proto-brains and the ethical considerations of creating consciousness in non-born entities for tasks like servitude. </li>\n",
       "</ul>\n",
       "<p><a href=\"https://www.marktechpost.com/2024/07/07/policy-learning-with-large-world-models-advancing-multi-task-reinforcement-learning-efficiency-and-performance/\">83. Policy Learning with Large World Models: Advancing Multi-Task Reinforcement Learning Efficiency and Performance - Feedly AI</a>  </p>\n",
       "<ul>\n",
       "<li>Reinforcement Learning (RL) is effective for individual tasks but struggles with multitasking, especially with different robotic forms</li>\n",
       "<li>Policy Learning with Large World Models (PWM) introduced as an innovative model-based reinforcement learning algorithm </li>\n",
       "<li>PWM utilizes large multi-task world models for efficient policy training, outperforming existing methods with higher rewards and smoother optimization landscapes </li>\n",
       "</ul>\n",
       "<p><a href=\"https://www.marktechpost.com/2024/07/07/internlm2-5-7b-chat-open-sourcing-large-language-models-with-unmatched-reasoning-long-context-handling-and-enhanced-tool-use/\">84. InternLM2.5-7B-Chat: Open Sourcing Large Language Models with Unmatched Reasoning, Long-Context Handling, and Enhanced Tool Use - Feedly AI</a>  </p>\n",
       "<ul>\n",
       "<li>InternLM has introduced InternLM2.5-7B-Chat, a large language model in GGUF format compatible with llama.cpp, highlighting state-of-the-art reasoning in mathematical tasks and a 1M context window.</li>\n",
       "<li>The model's capability in handling long contexts is enhanced with LMDeploy toolkit for compressing, deploying, and serving LLMs, particularly effective in retrieving information from extensive documents.</li>\n",
       "<li>InternLM2.5-7B-Chat demonstrates superior performance in various benchmarks, excelling in tool use, and offers a guide for installation, model download, and deployment examples with faster inference capabilities on NVIDIA GPUs. </li>\n",
       "</ul>\n",
       "<p><a href=\"https://arxiv.org/abs/2407.02678\">85. Reasoning in Large Language Models: A Geometric Perspective - Hacker News</a>  </p>\n",
       "<ul>\n",
       "<li>The study explores reasoning abilities of large language models (LLMs) through a geometric understanding.</li>\n",
       "<li>A connection is established between the expressive power of LLMs and the density of their self-attention graphs.</li>\n",
       "<li>The density of these graphs defines the intrinsic dimension of the inputs to the MLP blocks, with higher intrinsic dimensions implying greater expressive capacity. </li>\n",
       "</ul>\n",
       "<p><a href=\"https://www.reddit.com/r/ChatGPT/comments/1dxd1yg/workplace_harrasment_diagram_by_chatgpt/\">86. Workplace harrasment diagram by chatGPT - Reddit</a>  </p>\n",
       "<ul>\n",
       "<li>Workplace harassment diagram by ChatGPT shared on r/ChatGPT</li>\n",
       "<li>Rules on post behavior within the ChatGPT subreddit</li>\n",
       "<li>Comments by users on the diagram and its interpretation </li>\n",
       "</ul>\n",
       "<p><a href=\"https://www.pcmag.com/news/openais-chatgpt-mac-app-was-saving-chats-as-plain-text\">87. OpenAI's ChatGPT Mac App Was Saving Chats as Plain Text - Feedly AI</a>  </p>\n",
       "<ul>\n",
       "<li>OpenAI's ChatGPT Mac app was saving chats as plain text.</li>\n",
       "<li>The issue was corrected through an update this week.</li>\n",
       "<li>The app now encrypts local chats but messages are still not sandboxed. </li>\n",
       "</ul>\n",
       "<p><a href=\"https://www.marktechpost.com/2024/07/07/how-chatgpt-is-revolutionizing-customer-service-in-2024/\">88. How ChatGPT is Revolutionizing Customer Service in 2024 - Feedly AI</a>  </p>\n",
       "<ul>\n",
       "<li>OpenAI's ChatGPT is transforming customer service in 2024 using advanced AI technology</li>\n",
       "<li>ChatGPT enhances customer interactions through natural language processing and offers 24/7 availability for inquiries</li>\n",
       "<li>Implementing ChatGPT in customer service operations reduces costs, provides personalization, multilingual support, scalability, and continuous improvement through machine learning </li>\n",
       "</ul>\n",
       "<p><a href=\"https://www.reddit.com/r/ChatGPT/comments/1dxexjh/what_are_some_creative_or_unexpected_uses_of/\">89. What are some creative or unexpected uses of ChatGPT youve discovered? - Reddit</a>  </p>\n",
       "<ul>\n",
       "<li>Users have discovered creative uses of ChatGPT such as generating beer recommendations based on a menu photo, translating foreign restaurant menus, creating bedtime stories, and generating music for D&amp;D campaign recaps.</li>\n",
       "<li>ChatGPT has been utilized for tasks like resume tailoring for job applications, preparing for interviews, writing emails, optimizing grocery shopping lists, and learning about topics through daily discussions.</li>\n",
       "<li>It has also been employed in generating workout plans, meal recipes, legal contract analysis, and assisting lawyers in tasks like summarization, syntax review, and document templating. </li>\n",
       "</ul>\n",
       "<p><a href=\"https://www.reddit.com/r/ChatGPT/comments/1dxmm0u/gpt4o_vs_gemini_15_pro_vs_claude_35_sonnet_only/\">90. GPT-4o vs Gemini 1.5 Pro vs Claude 3.5 Sonnet. Only Claude calls astrology bullshit right away - Reddit</a>  </p>\n",
       "<ul>\n",
       "<li>Claude 3.5 Sonnet stands out by calling astrology bullshit immediately.</li>\n",
       "<li>Users express satisfaction with Claude's responses and effectiveness.</li>\n",
       "<li>Discussion includes comparisons between GPT-4o, Gemini 1.5 Pro, and Claude 3.5 Sonnet, with Claude receiving positive feedback for its performance. </li>\n",
       "</ul>\n",
       "<p><a href=\"https://www.techradar.com/computing/websites-apps/i-learned-how-to-use-ai-generative-prompts-with-this-one-app\">91. I learned how to use AI generative prompts with this one app - Feedly AI</a>  </p>\n",
       "<ul>\n",
       "<li>Sololearn provides a range of courses from AI to Python, offering an engaging and hands-on learning experience with real-time feedback.</li>\n",
       "<li>The app offers games like 'Bug Hunter' and challenges against opponents, fostering motivation and competition within the Sololearn community.</li>\n",
       "<li>Users can also create code in the Code Playground for community feedback, making it a valuable tool for error debugging and improvement in programming skills. </li>\n",
       "</ul>\n",
       "<p><a href=\"https://news.google.com/articles/CBMiXmh0dHBzOi8vdmVudHVyZWJlYXQuY29tL2FpL21pdGlnYXRpbmctYWktYmlhcy13aXRoLXByb21wdC1lbmdpbmVlcmluZy1wdXR0aW5nLWdwdC10by10aGUtdGVzdC_SAQA\">92. Mitigating AI bias with prompt engineering  putting GPT to the test - Google News</a>  </p>\n",
       "<ul>\n",
       "<li>The experimental methodology analyzed the influence of different AI prompt designs on generating unbiased and fair content from LLMs.</li>\n",
       "<li>Ethically-informed prompts demonstrated a reduction in biased output and increased equitable representation of diverse groups compared to neutral prompts.</li>\n",
       "<li>Developing tailored approaches with emphasis on inclusive language and social context can enhance fairness in AI applications and mitigate biases. </li>\n",
       "</ul>\n",
       "<p><a href=\"https://www.techradar.com/phones/samsung-galaxy-phones/samsung-galaxy-ai-could-soon-offer-real-time-translations-in-whatsapp\">93. Samsung Galaxy AI could soon offer real-time translations in WhatsApp - Feedly AI</a>  </p>\n",
       "<ul>\n",
       "<li>Samsung Galaxy AI is expected to offer real-time translations in WhatsApp through third-party integrations, expanding its Live Translate feature to other apps.</li>\n",
       "<li>The integration could extend to audio calls in WhatsApp, allowing translations between languages during conversations, in addition to text messages.</li>\n",
       "<li>Samsung is focusing on incorporating AI features in their phones to stay competitive with other manufacturers like Apple and Google, showcasing the importance of AI in smartphone technology advancements. </li>\n",
       "</ul>\n",
       "<p><a href=\"https://www.theverge.com/2024/7/7/24193680/meta-ai-may-get-more-collaborative-in-whatsapp-for-android\">94. Meta AI may get more collaborative in WhatsApp for Android. - Feedly AI</a>  </p>\n",
       "<ul>\n",
       "<li>A new WhatsApp beta version for Android allows users to send photos to Meta AI and ask it questions or edit the image using prompts.</li>\n",
       "<li>Meta has been introducing more image-generation features on WhatsApp, including a beta feature that enables Meta AI to create avatars for users based on their photos.</li>\n",
       "<li>The collaboration between Meta AI and WhatsApp on Android may increase, providing users with more interactive and AI-driven experiences within the app. </li>\n",
       "</ul>\n",
       "<p><a href=\"https://www.androidauthority.com/whatsapp-meta-ai-update-3457975/\">95. WhatsApp's new feature will let Meta AI edit your photos for you - Feedly AI</a>  </p>\n",
       "<ul>\n",
       "<li>WhatsApp's beta version introduced a new feature that allows users to share photos with Meta AI, which can analyze, provide information, and even edit the uploaded images directly in the chat.</li>\n",
       "<li>Meta AI will offer users the capability to ask questions about their photos, identify objects or locations, and request edits to their images.</li>\n",
       "<li>The extent of the image editing feature within Meta AI in WhatsApp, currently in development, remains unclear but has the potential to revolutionize photo editing capabilities through AI technology. </li>\n",
       "</ul>\n",
       "<p><a href=\"https://news.google.com/articles/CBMiX2h0dHBzOi8vY3liZXJndXkuY29tL3NjYW1zL25ldy1jeWJlcmF0dGFjay10YXJnZXRzLWlwaG9uZS1hbmQtYXBwbGUtaWRzLWhlcmVzLWhvdy10by1zdGF5LXNhZmUv0gFjaHR0cHM6Ly9jeWJlcmd1eS5jb20vc2NhbXMvbmV3LWN5YmVyYXR0YWNrLXRhcmdldHMtaXBob25lLWFuZC1hcHBsZS1pZHMtaGVyZXMtaG93LXRvLXN0YXktc2FmZS9hbXAv\">96. New cyberattack targets iPhone and Apple IDs  Heres how to stay safe - Google News</a>  </p>\n",
       "<ul>\n",
       "<li>A cyberattack targeting Apple iPhone users through text phishing scam has been identified, urging users to be cautious of fake messages requesting Apple ID credentials.</li>\n",
       "<li>The attackers create fake websites resembling Apple's login page to steal personal and financial data.</li>\n",
       "<li>Apple advises enabling two-factor authentication, being wary of suspicious messages, and staying updated with software to protect against such scams. </li>\n",
       "</ul>\n",
       "<p><a href=\"https://news.google.com/articles/CBMikQFodHRwczovL3d3dy5iZW56aW5nYS5jb20vbmV3cy8yNC8wNy8zOTY1NjI2OS9hcHBsZXMtYWktc2hpZnQtYm9hcmQtb2JzZXJ2ZXItcm9sZS1hdC1vcGVuYWktZXh0ZW5kZWQtaXBob25lLXNldHRsZW1lbnQtZGVhZGxpbmUtYW5kLWFpLXBhcnRuZXJzaGlw0gEA\">97. Apple's AI Shift, Board Observer Role At OpenAI, Extended iPhone Settlement Deadline, And AI Partnership With Google: This Week In Appleverse - Alphabet (NASDAQ:GOOG), Apple (NASDAQ:AAPL) - Google News</a>  </p>\n",
       "<ul>\n",
       "<li>Apple is shifting focus towards artificial intelligence and software due to slower hardware innovation</li>\n",
       "<li>Apple secures an observer role at OpenAI, extends iPhone settlement deadline, and works on major changes for the next-gen Vision Pro headset</li>\n",
       "<li>Apple is rumored to be partnering with Google in the fall for AI integration into Apple devices </li>\n",
       "</ul>\n",
       "<p><a href=\"https://news.google.com/articles/CBMigAFodHRwczovL3d3dy5mb3JiZXMuY29tL3NpdGVzL2V3YW5zcGVuY2UvMjAyNC8wNy8wNS9hbmRyb2lkLW5ld3MtaGVhZGxpbmVzLXBpeGVsLTktcHJvLWdhbGF4eS16LWZvbGQ2LWh1YXdlaS1taXgtZm9sZDQtZ29vZ2xlLWFpL9IBAA\">98. Android Circuit: Galaxy Z Fold6 Details, Google AI Secrets, Pixel 9 Pro Specs - Google News</a>  </p>\n",
       "<ul>\n",
       "<li>Final details on Samsung's Galaxy Z Fold6 reveal advancements in the hinge assembly for better design and durability.</li>\n",
       "<li>Samsung might discontinue the \"Plus\" model for the S25 series, focusing on the regular and Ultra models.</li>\n",
       "<li>The Pixel 9 Pro is expected to feature a new long-life display and debut Google AI with photo enhancement and creative tools. </li>\n",
       "</ul>\n",
       "<p><a href=\"https://news.google.com/articles/CBMiiAFodHRwczovL3d3dy5mb3JiZXMuY29tL3NpdGVzL2V3YW5zcGVuY2UvMjAyNC8wNy8wNy9hcHBsZS1uZXdzLWhlYWRsaW5lcy1pcGhvbmUtMTYtcHJvLWExNy1hcHBsZS13YXRjaC1pcGhvbmUtYmF0dGVyeS1yZXBsYWNlbWVudC1haS1yY3Mv0gEA\">99. Apple Loop: iPhone 16 Pro Specs, Apple Watch 10 Design Leaks, Paying For Apple's AI - Google News</a>  </p>\n",
       "<ul>\n",
       "<li>iPhone 16 lineup will have AI-capable processors and share the same processor, improving battery life efficiency</li>\n",
       "<li>Apple plans to introduce a new technology for easier battery replacements in iPhone models</li>\n",
       "<li>Apple is incorporating RCS messaging protocol in its Messages app in iOS 18 to allow for advanced communication features </li>\n",
       "</ul>\n",
       "<p><a href=\"https://www.theverge.com/2024/7/7/24193619/apple-intelligence-better-siri-ios-18-4-spring-public-launch\">100. Apple Intelligence and a better Siri may be coming to iPhones this spring - Feedly AI</a>  </p>\n",
       "<ul>\n",
       "<li>Siri is expected to improve with the introduction of Apple Intelligence AI system in the iOS 18.4 update in spring 2025, allowing for enhanced features like better organization of photos and easier form-filling.</li>\n",
       "<li>Beta versions of iOS 18 will offer a preview of upcoming AI features like ChatGPT integration and a new Siri interface, with further enhancements like AirPods with embedded cameras in the works for future generations.</li>\n",
       "<li>Apple's AI advancements plan also includes potential features like using AI to describe surroundings with imagery from AirPods and help with navigation, similar to Meta's Ray-Ban glasses. </li>\n",
       "</ul>\n",
       "<p><a href=\"https://news.google.com/articles/CBMiQGh0dHBzOi8vd3d3LmFuZHJvaWRhdXRob3JpdHkuY29tL3NtYWxsLXBob25lcy1haS1yZXR1cm4tMzQ1NjcyNS_SAQA\">101. I thought small phones were dead, but I want AI to bring them back - Google News</a>  </p>\n",
       "<ul>\n",
       "<li>The desire for the return of small phones is driven by the potential for AI to enhance user experience and functionality on compact devices. </li>\n",
       "<li>The integration of highly capable smart assistants and offloading tasks to the cloud are seen as essential factors in making small phones a feasible reality. </li>\n",
       "<li>The Rabbit R1, despite its shortcomings, represents a forward-thinking approach towards reimagining smartphone design by prioritizing voice commands and minimizing on-device work. </li>\n",
       "</ul>\n",
       "<p><a href=\"https://www.theverge.com/2024/7/6/24193094/phoenix-waymo-car-pulled-over-traffic-stop-oncoming-lane-police\">102. Police pulled over a Waymo car for driving in the oncoming lane - The Verge</a>  </p>\n",
       "<ul>\n",
       "<li>A Waymo car was pulled over by police for driving in the oncoming lane due to confusion with construction signs</li>\n",
       "<li>The vehicle had no passengers and was unable to issue a citation as stated in dispatch records</li>\n",
       "<li>Despite instances of endangering road users, Waymo claims its cars are 3.5 times more likely to avoid a crash than humans </li>\n",
       "</ul>\n",
       "<p><a href=\"https://www.makeuseof.com/worry-copilot-pc-old-windows-11-system-obsolete/\">103. Don't Worry: Copilot+ PCs Don't Make Your Windows 11 System Obsolete - Feedly AI</a>  </p>\n",
       "<ul>\n",
       "<li>CoPilot+ PCs enhance Windows 11 with AI tools via NPUs, offering features like automatic captions, Cocreator support, Auto Super Resolution, and AI assistant capabilities.</li>\n",
       "<li>CoPilot+ does not make Windows 11 redundant; it builds on the existing system by adding AI capabilities and features, making it an upgrade rather than a replacement.</li>\n",
       "<li>Deciding to buy a CoPilot+ PC depends on the user's interest in AI tools; it is not necessary for all users and primarily benefits those who want to leverage AI capabilities on their devices. </li>\n",
       "</ul>\n",
       "<p><a href=\"https://www.laptopmag.com/laptops/i-spent-a-day-using-copilot-on-the-hp-elitebook-ultra-and-it-drove-me-crazy\">104. I spent a day using Copilot+ on the HP EliteBook Ultra, and it drove me crazy - Feedly AI</a>  </p>\n",
       "<ul>\n",
       "<li>Copilot+ AI on the HP EliteBook Ultra doesn't offer any new features</li>\n",
       "<li>Not all Copilot+ AI features are practical or necessary for daily use</li>\n",
       "<li>The performance and battery life of Copilot+ PCs, like the HP EliteBook Ultra, are impressive, but the AI features may not warrant an upgrade at this point. </li>\n",
       "</ul>\n",
       "<p><a href=\"https://go.theregister.com/feed/www.theregister.com/2024/07/07/containerize_ai_apps/\">105. A friendly guide to containerization for AI work - Feedly AI</a>  </p>\n",
       "<ul>\n",
       "<li>Containerization helps in avoiding dependencies issues by building images configured specifically for tasks and ensures consistent and repeatable deployment.</li>\n",
       "<li>Docker allows for easy access to GPUs from Intel, AMD, and Nvidia by passing appropriate flags when spinning up containers.</li>\n",
       "<li>Prebuilt images like nvidia/cuda and ROCm images can be used to quickly set up CUDA, ROCm, or OpenVINO environments without building from scratch. </li>\n",
       "</ul>\n",
       "<p><a href=\"https://www.theregister.com/2024/07/07/containerize_ai_apps/\">106. A friendly guide to containerization for AI workHands onSave the headaches, ship your dependenciesAI + ML6 hrs|1 - The Register</a>  </p>\n",
       "<ul>\n",
       "<li>Containerizing AI workloads can help in managing dependencies, enabling consistent deployment, and running apps with conflicting software stacks.</li>\n",
       "<li>Docker can be used to expose Intel, AMD, and Nvidia GPUs to containers, simplifying the process of making GPUs available for tasks.</li>\n",
       "<li>Prebuilt images for CUDA, ROCm, and OpenVINO can expedite setting up environment, while converting containers into images and building custom images can enhance reproducibility and testing in AI development. </li>\n",
       "</ul>\n",
       "<p><a href=\"https://www.nunodonato.com/workspaice-humanai-creating-together/\">107. Show HN: Workspaice:  Human+AI, Creating Together - Hacker News 2</a>  </p>\n",
       "<ul>\n",
       "<li>Workspaice is a locally-run application that combines human creativity and AI assistance in a flexible workspace for creating various projects.</li>\n",
       "<li>The application prioritizes privacy and speed by running locally on the user's computer and utilizes AI collaboratively with users in the creation process.</li>\n",
       "<li>Workspaice is showcased in a demo video featuring projects like desktop app development, web app creation, and educational content, catering to developers, educators, writers, and anyone with innovative ideas. </li>\n",
       "</ul>\n",
       "<p><a href=\"https://www.reddit.com/r/technology/comments/1dxij9l/james_muldoon_mark_graham_and_callum_cant_ai/\">108. James Muldoon, Mark Graham and Callum Cant: AI feeds off the work of human beings - Reddit</a>  </p>\n",
       "<ul>\n",
       "<li>Data annotation industry workers, mostly in the global south, face poor working conditions with low wages.</li>\n",
       "<li>80% of the work behind AI products is data annotation, which can be intensive and outsourced.</li>\n",
       "<li>AI's exploitation of human labor is a significant issue that needs more attention and discussion. </li>\n",
       "</ul>\n",
       "<p><a href=\"https://www.reddit.com/r/technology/comments/1dx9xkt/meet_mercy_and_anita_the_african_workers_driving/\">109. Meet Mercy and Anita  the African workers driving the AI revolution, for just over a dollar an hour - Reddit</a>  </p>\n",
       "<ul>\n",
       "<li>Mercy and Anita, African workers, are playing a significant role in driving the AI revolution while earning just over a dollar an hour.</li>\n",
       "<li>The article sheds light on the role of these workers in advancing Artificial Intelligence.</li>\n",
       "<li>The workers' contributions are crucial to the development and progression of AI technology. </li>\n",
       "</ul>\n",
       "<p><a href=\"https://appleinsider.com/articles/24/07/07/figma-disables-ai-powered-make-design-feature-after-weather-app-rip-off\">110. Figma disables AI-powered 'Make Design' feature after Weather app rip-off - Feedly AI</a>  </p>\n",
       "<ul>\n",
       "<li>Figma is temporarily disabling its primary AI App UI design tool due to accusations of training the model on Apple's Weather app</li>\n",
       "<li>Developer Andy Allen demonstrated that Figma's \"Make Design\" feature was repeatedly copying Apple's app when asked to create a weather app</li>\n",
       "<li>Figma CEO Dylan Field defended the company by stating that the fault lies in the company's design systems, with no clear indication of when the tool will return </li>\n",
       "</ul>\n",
       "<p><a href=\"https://news.google.com/articles/CBMifmh0dHBzOi8vc2xhc2hkb3Qub3JnL3N0b3J5LzI0LzA3LzA3LzAwNTQyMjAvbWljcm9zb2Z0cy1haS1jZW8td2ViLWNvbnRlbnQtd2l0aG91dC1hLXJvYm90c3R4dC1maWxlLWlzLWZyZWV3YXJlLWZvci1haS10cmFpbmluZ9IBAA\">111. Microsoft's AI CEO: Web Content (Without a Robots.txt File) is 'Freeware' for AI Training - Google News</a>  </p>\n",
       "<ul>\n",
       "<li>Microsoft's CEO of AI, Mustafa Suleyman, stated that web content shared online has been considered fair use since the 90s, unless explicitly prohibited by the content producer.</li>\n",
       "<li>Suleyman suggested that the economics of information will drastically change, leading to new scientific and cultural knowledge being produced at almost zero marginal cost.</li>\n",
       "<li>There is a debate surrounding the use of web content for AI training, with concerns raised about ownership of intellectual property and potential copyright infringement issues. </li>\n",
       "</ul>\n",
       "<p><a href=\"https://www.reddit.com/r/technology/comments/1dxilwo/microsofts_climbdown_over_its_creepy_recall/\">112. Microsofts climbdown over its creepy Recall feature shows its AI strategy is far from intelligent | The tech companys new Windows machines can take constant screenshots of users every action  quelle surprise, its a privacy minefield - Reddit</a>  </p>\n",
       "<ul>\n",
       "<li>Microsoft faced criticism over the Recall feature in its new Windows machines for taking constant screenshots of users, highlighting privacy concerns.</li>\n",
       "<li>The AI strategy of Microsoft was questioned as the Recall feature was considered intrusive and raised privacy issues among users.</li>\n",
       "<li>Users expressed dissatisfaction with the privacy implications and performance impact of the Recall feature, with concerns about the extent of monitoring and lack of user control. </li>\n",
       "</ul>"
      ],
      "text/plain": [
       "<IPython.core.display.HTML object>"
      ]
     },
     "metadata": {},
     "output_type": "display_data"
    }
   ],
   "source": [
    "# Convert Markdown to HTML\n",
    "html_str = markdown.markdown(markdown_str, extensions=['extra'])\n",
    "display(HTML(html_str))\n"
   ]
  },
  {
   "cell_type": "code",
   "execution_count": 41,
   "id": "165758da",
   "metadata": {},
   "outputs": [],
   "source": [
    "# save bullets\n",
    "with open('bullets.md', 'w') as f:\n",
    "    f.write(markdown_str)\n"
   ]
  },
  {
   "cell_type": "code",
   "execution_count": 42,
   "id": "0d5bbb2b",
   "metadata": {},
   "outputs": [
    {
     "name": "stderr",
     "output_type": "stream",
     "text": [
      "2024-07-07 18:22:30,029 - AInewsbot - INFO - Sending bullet points email\n"
     ]
    }
   ],
   "source": [
    "log(\"Sending bullet points email\")\n",
    "subject = f'AI news bullets {datetime.now().strftime(\"%H:%M:%S\")}'\n",
    "send_gmail(subject, html_str)\n"
   ]
  },
  {
   "cell_type": "markdown",
   "id": "efadf54d",
   "metadata": {},
   "source": [
    "# Topic analysis\n",
    "Here we are trying to identify the top topics of the day, to help make a nice summary. \n",
    "\n",
    "1st approach - do dimensionality reduction on the headline embeddings with UMAP and cluster with DBSCAN.\n",
    "\n",
    "2nd approach\n",
    " - extract topics from headline using a prompt\n",
    " - human canonicalizes topics\n",
    " - assign headlines to topics using a prompt\n",
    " \n",
    " The final summary is pretty inconsistent, would be nice to give chatgpt a prompt that would say, summarize these bullet points using this categorization.\n",
    " "
   ]
  },
  {
   "cell_type": "code",
   "execution_count": 43,
   "id": "d8cd8f4c",
   "metadata": {},
   "outputs": [
    {
     "name": "stdout",
     "output_type": "stream",
     "text": [
      "\n",
      "You will act as a research assistant to extract topics from news headlines. You will extract topics, entities,\n",
      "and keywords from news headlines formatted as JSON objects.\n",
      "\n",
      "Input Specification:\n",
      "You will receive a list of news headlines formatted as JSON objects.\n",
      "Each object will include an 'id' and a 'title'. For instance:\n",
      "[{'id': 97, 'title': 'AI to predict dementia, detect cancer'},\n",
      " {'id': 103,'title': 'Figure robot learns to make coffee by watching humans for 10 hours'},\n",
      " {'id': 105,'title': \"Former Microsoft CEO Steve Ballmer is now just as rich as his former boss Bill Gates. Here's how he spends his billions.\"},\n",
      " {'id': 210,'title': 'ChatGPT removes, then reinstates a summarization assistant without explanation.'},\n",
      " {'id': 298,'title': 'The 5 most interesting PC monitors from CES 2024'},\n",
      "]\n",
      "\n",
      "Output Specification:\n",
      "You will return a JSON object with the field 'topics' containing a flat list of classification results.\n",
      "For each headline input, your output will be a JSON object containing the original 'id' and a new field 'topics',\n",
      "with a list of strings representing topics. The output schema must be strictly adhered to, without\n",
      "any additional fields. Example output:\n",
      "\n",
      "{'topics':\n",
      " [{\"id\": 97, \"topics\": [\"AI\", \"dementia\", \"cancer\", \"healthcare\", \"prediction\", \"diagnostics\"]},\n",
      "  {\"id\": 103, \"topics\": [\"AI\", \"robotics\", \"machine learning\", \"automation\", \"coffee making\", \"Figure\"]},\n",
      "  {\"id\": 105, \"topics\": [\"Microsoft\", \"Steve Ballmer\", \"Bill Gates\", \"wealth\", \"billionaires\"]},\n",
      "  {\"id\": 210, \"topics\": [\"AI\", ChatGPT\", \"product updates\", \"summarization\"]},\n",
      "  {\"id\": 298, \"topics\": [\"PCs\", \"monitors\", \"CES 2024\", \"consumer electronics\"]},\n",
      " ]\n",
      "}\n",
      "\n",
      "Instructions:\n",
      "Ensure that each output object accurately reflects this schema exactly without modification, and that\n",
      "it matches the corresponding input object in terms of the 'id' field and relevant topics.\n",
      "\n",
      "The list of headlines to extract topics from:\n",
      "\n",
      "\n"
     ]
    }
   ],
   "source": [
    "# attempt to extract top topics \n",
    "print(TOPIC_PROMPT)\n"
   ]
  },
  {
   "cell_type": "code",
   "execution_count": 45,
   "id": "f69b592c",
   "metadata": {},
   "outputs": [
    {
     "name": "stderr",
     "output_type": "stream",
     "text": [
      "2024-07-07 18:23:12,433 - AInewsbot - INFO - start topic extraction\n",
      "2024-07-07 18:23:12,435 - AInewsbot - INFO - sent 50 items \n",
      "2024-07-07 18:23:12,436 - AInewsbot - INFO - sent 50 items \n",
      "2024-07-07 18:23:12,437 - AInewsbot - INFO - sent 12 items \n",
      "2024-07-07 18:23:15,992 - AInewsbot - INFO - got dict with 12 items \n",
      "2024-07-07 18:23:23,731 - AInewsbot - INFO - got dict with 50 items \n",
      "2024-07-07 18:23:24,377 - AInewsbot - INFO - got dict with 50 items \n",
      "2024-07-07 18:23:24,379 - AInewsbot - INFO - Processed 112 responses.\n",
      "2024-07-07 18:23:24,379 - AInewsbot - INFO - end topic extraction\n"
     ]
    },
    {
     "name": "stdout",
     "output_type": "stream",
     "text": [
      "112\n"
     ]
    },
    {
     "data": {
      "text/html": [
       "<div>\n",
       "<style scoped>\n",
       "    .dataframe tbody tr th:only-of-type {\n",
       "        vertical-align: middle;\n",
       "    }\n",
       "\n",
       "    .dataframe tbody tr th {\n",
       "        vertical-align: top;\n",
       "    }\n",
       "\n",
       "    .dataframe thead th {\n",
       "        text-align: right;\n",
       "    }\n",
       "</style>\n",
       "<table border=\"1\" class=\"dataframe\">\n",
       "  <thead>\n",
       "    <tr style=\"text-align: right;\">\n",
       "      <th></th>\n",
       "      <th>id</th>\n",
       "      <th>topics</th>\n",
       "    </tr>\n",
       "  </thead>\n",
       "  <tbody>\n",
       "    <tr>\n",
       "      <th>0</th>\n",
       "      <td>0</td>\n",
       "      <td>[AI, Nvidia, analyst moves, stock market]</td>\n",
       "    </tr>\n",
       "    <tr>\n",
       "      <th>1</th>\n",
       "      <td>1</td>\n",
       "      <td>[AI, risks, technology rally]</td>\n",
       "    </tr>\n",
       "    <tr>\n",
       "      <th>2</th>\n",
       "      <td>2</td>\n",
       "      <td>[Warren Buffett, portfolio, investment, AI sto...</td>\n",
       "    </tr>\n",
       "    <tr>\n",
       "      <th>3</th>\n",
       "      <td>3</td>\n",
       "      <td>[Broadcom, NASDAQ, AVGO, essential company, in...</td>\n",
       "    </tr>\n",
       "    <tr>\n",
       "      <th>4</th>\n",
       "      <td>4</td>\n",
       "      <td>[Advanced Micro Devices, AMD, hedge funds, bul...</td>\n",
       "    </tr>\n",
       "  </tbody>\n",
       "</table>\n",
       "</div>"
      ],
      "text/plain": [
       "   id                                             topics\n",
       "0   0          [AI, Nvidia, analyst moves, stock market]\n",
       "1   1                      [AI, risks, technology rally]\n",
       "2   2  [Warren Buffett, portfolio, investment, AI sto...\n",
       "3   3  [Broadcom, NASDAQ, AVGO, essential company, in...\n",
       "4   4  [Advanced Micro Devices, AMD, hedge funds, bul..."
      ]
     },
     "execution_count": 45,
     "metadata": {},
     "output_type": "execute_result"
    }
   ],
   "source": [
    "# get topics\n",
    "pages = paginate_df(AIdf)\n",
    "\n",
    "# apply this prompt to AI headlines\n",
    "log(\"start topic extraction\")\n",
    "response = asyncio.run(fetch_pages(pages, prompt=TOPIC_PROMPT))\n",
    "log(\"end topic extraction\")\n",
    "\n",
    "topic_df = pd.DataFrame(response)\n",
    "print(len(topic_df))\n",
    "topic_df.head()\n"
   ]
  },
  {
   "cell_type": "code",
   "execution_count": 46,
   "id": "206b8e93",
   "metadata": {},
   "outputs": [
    {
     "data": {
      "text/html": [
       "<div>\n",
       "<style scoped>\n",
       "    .dataframe tbody tr th:only-of-type {\n",
       "        vertical-align: middle;\n",
       "    }\n",
       "\n",
       "    .dataframe tbody tr th {\n",
       "        vertical-align: top;\n",
       "    }\n",
       "\n",
       "    .dataframe thead th {\n",
       "        text-align: right;\n",
       "    }\n",
       "</style>\n",
       "<table border=\"1\" class=\"dataframe\">\n",
       "  <thead>\n",
       "    <tr style=\"text-align: right;\">\n",
       "      <th></th>\n",
       "      <th>id</th>\n",
       "      <th>topics</th>\n",
       "      <th>topic_str</th>\n",
       "    </tr>\n",
       "  </thead>\n",
       "  <tbody>\n",
       "    <tr>\n",
       "      <th>0</th>\n",
       "      <td>0</td>\n",
       "      <td>[AI, Nvidia, analyst moves, stock market]</td>\n",
       "      <td>['Nvidia', 'analyst moves', 'stock market']</td>\n",
       "    </tr>\n",
       "    <tr>\n",
       "      <th>1</th>\n",
       "      <td>1</td>\n",
       "      <td>[AI, risks, technology rally]</td>\n",
       "      <td>['risks', 'technology rally']</td>\n",
       "    </tr>\n",
       "    <tr>\n",
       "      <th>2</th>\n",
       "      <td>2</td>\n",
       "      <td>[Warren Buffett, portfolio, investment, AI sto...</td>\n",
       "      <td>['Warren Buffett', 'portfolio', 'investment', ...</td>\n",
       "    </tr>\n",
       "    <tr>\n",
       "      <th>3</th>\n",
       "      <td>3</td>\n",
       "      <td>[Broadcom, NASDAQ, AVGO, essential company, in...</td>\n",
       "      <td>['Broadcom', 'NASDAQ', 'AVGO', 'essential comp...</td>\n",
       "    </tr>\n",
       "    <tr>\n",
       "      <th>4</th>\n",
       "      <td>4</td>\n",
       "      <td>[Advanced Micro Devices, AMD, hedge funds, bul...</td>\n",
       "      <td>['Advanced Micro Devices', 'AMD', 'hedge funds...</td>\n",
       "    </tr>\n",
       "    <tr>\n",
       "      <th>...</th>\n",
       "      <td>...</td>\n",
       "      <td>...</td>\n",
       "      <td>...</td>\n",
       "    </tr>\n",
       "    <tr>\n",
       "      <th>107</th>\n",
       "      <td>107</td>\n",
       "      <td>[James Muldoon, Mark Graham, Callum Cant, AI, ...</td>\n",
       "      <td>['James Muldoon', 'Mark Graham', 'Callum Cant'...</td>\n",
       "    </tr>\n",
       "    <tr>\n",
       "      <th>108</th>\n",
       "      <td>108</td>\n",
       "      <td>[Mercy, Anita, African workers, AI revolution,...</td>\n",
       "      <td>['Mercy', 'Anita', 'African workers', 'AI revo...</td>\n",
       "    </tr>\n",
       "    <tr>\n",
       "      <th>109</th>\n",
       "      <td>109</td>\n",
       "      <td>[Figma, AI-powered feature, design, rip-off]</td>\n",
       "      <td>['Figma', 'AI-powered feature', 'design', 'rip...</td>\n",
       "    </tr>\n",
       "    <tr>\n",
       "      <th>110</th>\n",
       "      <td>110</td>\n",
       "      <td>[Microsoft, AI CEO, web content, robots.txt, f...</td>\n",
       "      <td>['Microsoft', 'AI CEO', 'web content', 'robots...</td>\n",
       "    </tr>\n",
       "    <tr>\n",
       "      <th>111</th>\n",
       "      <td>111</td>\n",
       "      <td>[Microsoft, Recall feature, AI strategy, priva...</td>\n",
       "      <td>['Microsoft', 'Recall feature', 'AI strategy',...</td>\n",
       "    </tr>\n",
       "  </tbody>\n",
       "</table>\n",
       "<p>112 rows × 3 columns</p>\n",
       "</div>"
      ],
      "text/plain": [
       "      id                                             topics  \\\n",
       "0      0          [AI, Nvidia, analyst moves, stock market]   \n",
       "1      1                      [AI, risks, technology rally]   \n",
       "2      2  [Warren Buffett, portfolio, investment, AI sto...   \n",
       "3      3  [Broadcom, NASDAQ, AVGO, essential company, in...   \n",
       "4      4  [Advanced Micro Devices, AMD, hedge funds, bul...   \n",
       "..   ...                                                ...   \n",
       "107  107  [James Muldoon, Mark Graham, Callum Cant, AI, ...   \n",
       "108  108  [Mercy, Anita, African workers, AI revolution,...   \n",
       "109  109       [Figma, AI-powered feature, design, rip-off]   \n",
       "110  110  [Microsoft, AI CEO, web content, robots.txt, f...   \n",
       "111  111  [Microsoft, Recall feature, AI strategy, priva...   \n",
       "\n",
       "                                             topic_str  \n",
       "0          ['Nvidia', 'analyst moves', 'stock market']  \n",
       "1                        ['risks', 'technology rally']  \n",
       "2    ['Warren Buffett', 'portfolio', 'investment', ...  \n",
       "3    ['Broadcom', 'NASDAQ', 'AVGO', 'essential comp...  \n",
       "4    ['Advanced Micro Devices', 'AMD', 'hedge funds...  \n",
       "..                                                 ...  \n",
       "107  ['James Muldoon', 'Mark Graham', 'Callum Cant'...  \n",
       "108  ['Mercy', 'Anita', 'African workers', 'AI revo...  \n",
       "109  ['Figma', 'AI-powered feature', 'design', 'rip...  \n",
       "110  ['Microsoft', 'AI CEO', 'web content', 'robots...  \n",
       "111  ['Microsoft', 'Recall feature', 'AI strategy',...  \n",
       "\n",
       "[112 rows x 3 columns]"
      ]
     },
     "execution_count": 46,
     "metadata": {},
     "output_type": "execute_result"
    }
   ],
   "source": [
    "# add a topic string to each headline\n",
    "topic_df['topic_str'] = topic_df['topics'].apply(lambda x: str([y for y in x if y.lower() not in {'ai', 'artificial intelligence'}]))\n",
    "topic_df\n"
   ]
  },
  {
   "cell_type": "code",
   "execution_count": 47,
   "id": "44750b2b",
   "metadata": {},
   "outputs": [
    {
     "data": {
      "text/html": [
       "<div>\n",
       "<style scoped>\n",
       "    .dataframe tbody tr th:only-of-type {\n",
       "        vertical-align: middle;\n",
       "    }\n",
       "\n",
       "    .dataframe tbody tr th {\n",
       "        vertical-align: top;\n",
       "    }\n",
       "\n",
       "    .dataframe thead th {\n",
       "        text-align: right;\n",
       "    }\n",
       "</style>\n",
       "<table border=\"1\" class=\"dataframe\">\n",
       "  <thead>\n",
       "    <tr style=\"text-align: right;\">\n",
       "      <th></th>\n",
       "      <th>id</th>\n",
       "      <th>src</th>\n",
       "      <th>title</th>\n",
       "      <th>url</th>\n",
       "      <th>isAI</th>\n",
       "      <th>date</th>\n",
       "      <th>path</th>\n",
       "      <th>topics</th>\n",
       "      <th>topic_str</th>\n",
       "    </tr>\n",
       "  </thead>\n",
       "  <tbody>\n",
       "    <tr>\n",
       "      <th>0</th>\n",
       "      <td>0</td>\n",
       "      <td>Feedly AI</td>\n",
       "      <td>5 big analyst AI moves: Nvidia downgraded on l...</td>\n",
       "      <td>https://www.investing.com/news/stock-market-ne...</td>\n",
       "      <td>True</td>\n",
       "      <td>2024-07-07</td>\n",
       "      <td>htmldata/5_big_analyst_AI_moves__Nvidia_downgr...</td>\n",
       "      <td>[AI, Nvidia, analyst moves, stock market]</td>\n",
       "      <td>5 big analyst AI moves: Nvidia downgraded on l...</td>\n",
       "    </tr>\n",
       "    <tr>\n",
       "      <th>1</th>\n",
       "      <td>1</td>\n",
       "      <td>Feedly AI</td>\n",
       "      <td>Two risks to the AI tech rally</td>\n",
       "      <td>https://au.investing.com/news/stock-market-new...</td>\n",
       "      <td>True</td>\n",
       "      <td>2024-07-07</td>\n",
       "      <td>htmldata/Two_risks_to_the_AI_tech_rally_202407...</td>\n",
       "      <td>[AI, risks, technology rally]</td>\n",
       "      <td>Two risks to the AI tech rally (Topics: ['risk...</td>\n",
       "    </tr>\n",
       "    <tr>\n",
       "      <th>2</th>\n",
       "      <td>2</td>\n",
       "      <td>Google News</td>\n",
       "      <td>45% of Warren Buffett's $398 Billion Portfolio...</td>\n",
       "      <td>https://news.google.com/articles/CBMiW2h0dHBzO...</td>\n",
       "      <td>True</td>\n",
       "      <td>2024-07-07</td>\n",
       "      <td>htmldata/45__of_Warren_Buffett_s__398_Billion_...</td>\n",
       "      <td>[Warren Buffett, portfolio, investment, AI sto...</td>\n",
       "      <td>45% of Warren Buffett's $398 Billion Portfolio...</td>\n",
       "    </tr>\n",
       "    <tr>\n",
       "      <th>3</th>\n",
       "      <td>3</td>\n",
       "      <td>Google News</td>\n",
       "      <td>Broadcom: An Essential Company For AI Investor...</td>\n",
       "      <td>https://news.google.com/articles/CBMiV2h0dHBzO...</td>\n",
       "      <td>True</td>\n",
       "      <td>2024-07-07</td>\n",
       "      <td>htmldata/Broadcom__An_Essential_Company_For_AI...</td>\n",
       "      <td>[Broadcom, NASDAQ, AVGO, essential company, in...</td>\n",
       "      <td>Broadcom: An Essential Company For AI Investor...</td>\n",
       "    </tr>\n",
       "    <tr>\n",
       "      <th>4</th>\n",
       "      <td>4</td>\n",
       "      <td>Google News</td>\n",
       "      <td>Advanced Micro Devices, Inc. (AMD): Hedge Fund...</td>\n",
       "      <td>https://news.google.com/articles/CBMiTGh0dHBzO...</td>\n",
       "      <td>True</td>\n",
       "      <td>2024-07-07</td>\n",
       "      <td>htmldata/Advanced_Micro_Devices__Inc___AMD___H...</td>\n",
       "      <td>[Advanced Micro Devices, AMD, hedge funds, bul...</td>\n",
       "      <td>Advanced Micro Devices, Inc. (AMD): Hedge Fund...</td>\n",
       "    </tr>\n",
       "    <tr>\n",
       "      <th>...</th>\n",
       "      <td>...</td>\n",
       "      <td>...</td>\n",
       "      <td>...</td>\n",
       "      <td>...</td>\n",
       "      <td>...</td>\n",
       "      <td>...</td>\n",
       "      <td>...</td>\n",
       "      <td>...</td>\n",
       "      <td>...</td>\n",
       "    </tr>\n",
       "    <tr>\n",
       "      <th>107</th>\n",
       "      <td>107</td>\n",
       "      <td>Reddit</td>\n",
       "      <td>James Muldoon, Mark Graham and Callum Cant: AI...</td>\n",
       "      <td>https://www.reddit.com/r/technology/comments/1...</td>\n",
       "      <td>True</td>\n",
       "      <td>2024-07-07</td>\n",
       "      <td>htmldata/James_Muldoon__Mark_Graham_and_Callum...</td>\n",
       "      <td>[James Muldoon, Mark Graham, Callum Cant, AI, ...</td>\n",
       "      <td>James Muldoon, Mark Graham and Callum Cant: AI...</td>\n",
       "    </tr>\n",
       "    <tr>\n",
       "      <th>108</th>\n",
       "      <td>108</td>\n",
       "      <td>Reddit</td>\n",
       "      <td>Meet Mercy and Anita  the African workers driv...</td>\n",
       "      <td>https://www.reddit.com/r/technology/comments/1...</td>\n",
       "      <td>True</td>\n",
       "      <td>2024-07-07</td>\n",
       "      <td>htmldata/Meet_Mercy_and_Anita__the_African_wor...</td>\n",
       "      <td>[Mercy, Anita, African workers, AI revolution,...</td>\n",
       "      <td>Meet Mercy and Anita  the African workers driv...</td>\n",
       "    </tr>\n",
       "    <tr>\n",
       "      <th>109</th>\n",
       "      <td>109</td>\n",
       "      <td>Feedly AI</td>\n",
       "      <td>Figma disables AI-powered 'Make Design' featur...</td>\n",
       "      <td>https://appleinsider.com/articles/24/07/07/fig...</td>\n",
       "      <td>True</td>\n",
       "      <td>2024-07-07</td>\n",
       "      <td>htmldata/Figma_disables_AI-powered__Make_Desig...</td>\n",
       "      <td>[Figma, AI-powered feature, design, rip-off]</td>\n",
       "      <td>Figma disables AI-powered 'Make Design' featur...</td>\n",
       "    </tr>\n",
       "    <tr>\n",
       "      <th>110</th>\n",
       "      <td>110</td>\n",
       "      <td>Google News</td>\n",
       "      <td>Microsoft's AI CEO: Web Content (Without a Rob...</td>\n",
       "      <td>https://news.google.com/articles/CBMifmh0dHBzO...</td>\n",
       "      <td>True</td>\n",
       "      <td>2024-07-07</td>\n",
       "      <td>htmldata/Microsoft_s_AI_CEO__Web_Content__With...</td>\n",
       "      <td>[Microsoft, AI CEO, web content, robots.txt, f...</td>\n",
       "      <td>Microsoft's AI CEO: Web Content (Without a Rob...</td>\n",
       "    </tr>\n",
       "    <tr>\n",
       "      <th>111</th>\n",
       "      <td>111</td>\n",
       "      <td>Reddit</td>\n",
       "      <td>Microsofts climbdown over its creepy Recall fe...</td>\n",
       "      <td>https://www.reddit.com/r/technology/comments/1...</td>\n",
       "      <td>True</td>\n",
       "      <td>2024-07-07</td>\n",
       "      <td>htmldata/Microsofts_climbdown_over_its_creepy_...</td>\n",
       "      <td>[Microsoft, Recall feature, AI strategy, priva...</td>\n",
       "      <td>Microsofts climbdown over its creepy Recall fe...</td>\n",
       "    </tr>\n",
       "  </tbody>\n",
       "</table>\n",
       "<p>112 rows × 9 columns</p>\n",
       "</div>"
      ],
      "text/plain": [
       "      id          src                                              title  \\\n",
       "0      0    Feedly AI  5 big analyst AI moves: Nvidia downgraded on l...   \n",
       "1      1    Feedly AI                     Two risks to the AI tech rally   \n",
       "2      2  Google News  45% of Warren Buffett's $398 Billion Portfolio...   \n",
       "3      3  Google News  Broadcom: An Essential Company For AI Investor...   \n",
       "4      4  Google News  Advanced Micro Devices, Inc. (AMD): Hedge Fund...   \n",
       "..   ...          ...                                                ...   \n",
       "107  107       Reddit  James Muldoon, Mark Graham and Callum Cant: AI...   \n",
       "108  108       Reddit  Meet Mercy and Anita  the African workers driv...   \n",
       "109  109    Feedly AI  Figma disables AI-powered 'Make Design' featur...   \n",
       "110  110  Google News  Microsoft's AI CEO: Web Content (Without a Rob...   \n",
       "111  111       Reddit  Microsofts climbdown over its creepy Recall fe...   \n",
       "\n",
       "                                                   url  isAI        date  \\\n",
       "0    https://www.investing.com/news/stock-market-ne...  True  2024-07-07   \n",
       "1    https://au.investing.com/news/stock-market-new...  True  2024-07-07   \n",
       "2    https://news.google.com/articles/CBMiW2h0dHBzO...  True  2024-07-07   \n",
       "3    https://news.google.com/articles/CBMiV2h0dHBzO...  True  2024-07-07   \n",
       "4    https://news.google.com/articles/CBMiTGh0dHBzO...  True  2024-07-07   \n",
       "..                                                 ...   ...         ...   \n",
       "107  https://www.reddit.com/r/technology/comments/1...  True  2024-07-07   \n",
       "108  https://www.reddit.com/r/technology/comments/1...  True  2024-07-07   \n",
       "109  https://appleinsider.com/articles/24/07/07/fig...  True  2024-07-07   \n",
       "110  https://news.google.com/articles/CBMifmh0dHBzO...  True  2024-07-07   \n",
       "111  https://www.reddit.com/r/technology/comments/1...  True  2024-07-07   \n",
       "\n",
       "                                                  path  \\\n",
       "0    htmldata/5_big_analyst_AI_moves__Nvidia_downgr...   \n",
       "1    htmldata/Two_risks_to_the_AI_tech_rally_202407...   \n",
       "2    htmldata/45__of_Warren_Buffett_s__398_Billion_...   \n",
       "3    htmldata/Broadcom__An_Essential_Company_For_AI...   \n",
       "4    htmldata/Advanced_Micro_Devices__Inc___AMD___H...   \n",
       "..                                                 ...   \n",
       "107  htmldata/James_Muldoon__Mark_Graham_and_Callum...   \n",
       "108  htmldata/Meet_Mercy_and_Anita__the_African_wor...   \n",
       "109  htmldata/Figma_disables_AI-powered__Make_Desig...   \n",
       "110  htmldata/Microsoft_s_AI_CEO__Web_Content__With...   \n",
       "111  htmldata/Microsofts_climbdown_over_its_creepy_...   \n",
       "\n",
       "                                                topics  \\\n",
       "0            [AI, Nvidia, analyst moves, stock market]   \n",
       "1                        [AI, risks, technology rally]   \n",
       "2    [Warren Buffett, portfolio, investment, AI sto...   \n",
       "3    [Broadcom, NASDAQ, AVGO, essential company, in...   \n",
       "4    [Advanced Micro Devices, AMD, hedge funds, bul...   \n",
       "..                                                 ...   \n",
       "107  [James Muldoon, Mark Graham, Callum Cant, AI, ...   \n",
       "108  [Mercy, Anita, African workers, AI revolution,...   \n",
       "109       [Figma, AI-powered feature, design, rip-off]   \n",
       "110  [Microsoft, AI CEO, web content, robots.txt, f...   \n",
       "111  [Microsoft, Recall feature, AI strategy, priva...   \n",
       "\n",
       "                                             topic_str  \n",
       "0    5 big analyst AI moves: Nvidia downgraded on l...  \n",
       "1    Two risks to the AI tech rally (Topics: ['risk...  \n",
       "2    45% of Warren Buffett's $398 Billion Portfolio...  \n",
       "3    Broadcom: An Essential Company For AI Investor...  \n",
       "4    Advanced Micro Devices, Inc. (AMD): Hedge Fund...  \n",
       "..                                                 ...  \n",
       "107  James Muldoon, Mark Graham and Callum Cant: AI...  \n",
       "108  Meet Mercy and Anita  the African workers driv...  \n",
       "109  Figma disables AI-powered 'Make Design' featur...  \n",
       "110  Microsoft's AI CEO: Web Content (Without a Rob...  \n",
       "111  Microsofts climbdown over its creepy Recall fe...  \n",
       "\n",
       "[112 rows x 9 columns]"
      ]
     },
     "execution_count": 47,
     "metadata": {},
     "output_type": "execute_result"
    }
   ],
   "source": [
    "# merge returned df into original df\n",
    "merged_df = pd.merge(AIdf, topic_df, on=\"id\", how=\"outer\")\n",
    "merged_df['topic_str'] = merged_df['topics'].apply(lambda x: str([y for y in x if y.lower() not in {'ai', 'artificial intelligence'}]))\n",
    "merged_df['topic_str'] = merged_df.apply(lambda row: f'{row.title} (Topics: {row.topic_str})', axis=1)\n",
    "merged_df\n"
   ]
  },
  {
   "cell_type": "code",
   "execution_count": 48,
   "id": "710bc256",
   "metadata": {},
   "outputs": [],
   "source": [
    "AIdf = merged_df"
   ]
  },
  {
   "cell_type": "code",
   "execution_count": 49,
   "id": "64508678",
   "metadata": {},
   "outputs": [
    {
     "data": {
      "text/html": [
       "<div>\n",
       "<style scoped>\n",
       "    .dataframe tbody tr th:only-of-type {\n",
       "        vertical-align: middle;\n",
       "    }\n",
       "\n",
       "    .dataframe tbody tr th {\n",
       "        vertical-align: top;\n",
       "    }\n",
       "\n",
       "    .dataframe thead th {\n",
       "        text-align: right;\n",
       "    }\n",
       "</style>\n",
       "<table border=\"1\" class=\"dataframe\">\n",
       "  <thead>\n",
       "    <tr style=\"text-align: right;\">\n",
       "      <th></th>\n",
       "      <th>topic_str</th>\n",
       "    </tr>\n",
       "  </thead>\n",
       "  <tbody>\n",
       "    <tr>\n",
       "      <th>0</th>\n",
       "      <td>5 big analyst AI moves: Nvidia downgraded on limited further upside (Topics: ['Nvidia', 'analyst moves', 'stock market'])</td>\n",
       "    </tr>\n",
       "    <tr>\n",
       "      <th>1</th>\n",
       "      <td>Two risks to the AI tech rally (Topics: ['risks', 'technology rally'])</td>\n",
       "    </tr>\n",
       "    <tr>\n",
       "      <th>2</th>\n",
       "      <td>45% of Warren Buffett's $398 Billion Portfolio Is Invested in 3 Artificial Intelligence (AI) Stocks (Topics: ['Warren Buffett', 'portfolio', 'investment', 'AI stocks'])</td>\n",
       "    </tr>\n",
       "    <tr>\n",
       "      <th>3</th>\n",
       "      <td>Broadcom: An Essential Company For AI Investors (NASDAQ:AVGO) (Topics: ['Broadcom', 'NASDAQ', 'AVGO', 'essential company', 'investors'])</td>\n",
       "    </tr>\n",
       "    <tr>\n",
       "      <th>4</th>\n",
       "      <td>Advanced Micro Devices, Inc. (AMD): Hedge Funds Are Bullish On This AI Stock Right Now (Topics: ['Advanced Micro Devices', 'AMD', 'hedge funds', 'bullish', 'AI stock'])</td>\n",
       "    </tr>\n",
       "    <tr>\n",
       "      <th>5</th>\n",
       "      <td>Better Artificial Intelligence (AI) Stock: Nvidia vs. AMD (Topics: ['Nvidia', 'AMD', 'stock comparison'])</td>\n",
       "    </tr>\n",
       "    <tr>\n",
       "      <th>6</th>\n",
       "      <td>Apple's New Artificial Intelligence (AI) Features Could Push This Semiconductor Company to a $1 Trillion Valuation (Topics: ['Apple', 'semiconductor company', 'AI features', 'valuation'])</td>\n",
       "    </tr>\n",
       "    <tr>\n",
       "      <th>7</th>\n",
       "      <td>Could ASML Be The Next Major AI Stock to Split Its Shares? (Topics: ['ASML', 'AI stock', 'stock split'])</td>\n",
       "    </tr>\n",
       "    <tr>\n",
       "      <th>8</th>\n",
       "      <td>AI Stocks Keep Surging. Buy 2 That Havent. (Topics: ['AI stocks', 'surge', 'investment'])</td>\n",
       "    </tr>\n",
       "    <tr>\n",
       "      <th>9</th>\n",
       "      <td>Forget Nvidia: This Stock-Split AI Stock Could Be a Better Buy (Topics: ['Nvidia', 'stock-split', 'investment'])</td>\n",
       "    </tr>\n",
       "    <tr>\n",
       "      <th>10</th>\n",
       "      <td>Generative AI Sales Could Soar 2,040%: My Pick for the Best AI Stock to Buy Now (Hint: Not Nvidia) (Topics: ['generative AI', 'sales', 'best AI stock', 'investment'])</td>\n",
       "    </tr>\n",
       "    <tr>\n",
       "      <th>11</th>\n",
       "      <td>Netflix vs. Disney? We asked ChatGPT-4o which stock is a better buy for 2024 (Topics: ['Netflix', 'Disney', 'stock comparison', 'ChatGPT-4o'])</td>\n",
       "    </tr>\n",
       "    <tr>\n",
       "      <th>12</th>\n",
       "      <td>1 Phenomenal Stock That Could Join Microsoft, Apple, Nvidia, Alphabet, Amazon, and Meta in the $1 Trillion Club (Topics: ['Microsoft', 'Apple', 'Nvidia', 'Alphabet', 'Amazon', 'Meta', '$1 trillion club'])</td>\n",
       "    </tr>\n",
       "    <tr>\n",
       "      <th>13</th>\n",
       "      <td>3 Rapidly Rising Companies Set to Join the $1 Trillion Club (Topics: ['companies', '$1 trillion club'])</td>\n",
       "    </tr>\n",
       "    <tr>\n",
       "      <th>14</th>\n",
       "      <td>Google Says AI Could Break Reality (Topics: ['Google', 'reality', 'breakthrough'])</td>\n",
       "    </tr>\n",
       "    <tr>\n",
       "      <th>15</th>\n",
       "      <td>Top Artificial Intelligence AI Search Engines to Know in 2024 (Topics: ['search engines', '2024'])</td>\n",
       "    </tr>\n",
       "    <tr>\n",
       "      <th>16</th>\n",
       "      <td>Wild new way to search for anything, anywhere with Google's Circle to Search AI feature (Topics: ['Google', 'search feature', 'Circle to Search'])</td>\n",
       "    </tr>\n",
       "    <tr>\n",
       "      <th>17</th>\n",
       "      <td>AI's 'positive role' during Indian polls amidst deepfakes disinformation (Topics: ['Indian polls', 'deepfakes', 'disinformation'])</td>\n",
       "    </tr>\n",
       "    <tr>\n",
       "      <th>18</th>\n",
       "      <td>Our Chicago: Could artificial intelligence impact 2024 election as voters choose between Joe Biden, Donald Trump? (Topics: ['2024 election', 'Joe Biden', 'Donald Trump', 'politics'])</td>\n",
       "    </tr>\n",
       "    <tr>\n",
       "      <th>19</th>\n",
       "      <td>Program looks at AI's impact on politics in La Crosse (Topics: ['politics', 'La Crosse', 'program impact'])</td>\n",
       "    </tr>\n",
       "    <tr>\n",
       "      <th>20</th>\n",
       "      <td>Georgia artificial intelligence program teaches kids about bias in policing (Topics: ['Georgia', 'AI program', 'bias in policing', 'education'])</td>\n",
       "    </tr>\n",
       "    <tr>\n",
       "      <th>21</th>\n",
       "      <td>California Teachers are Using AI to Grade Papers. Whos Grading the AI? (Topics: ['California Teachers', 'grading papers'])</td>\n",
       "    </tr>\n",
       "    <tr>\n",
       "      <th>22</th>\n",
       "      <td>Will artificial intelligence transform school? (Topics: ['school transformation'])</td>\n",
       "    </tr>\n",
       "    <tr>\n",
       "      <th>23</th>\n",
       "      <td>So how are we doing with AI in architectural design? (Topics: ['architectural design'])</td>\n",
       "    </tr>\n",
       "    <tr>\n",
       "      <th>24</th>\n",
       "      <td>Harnessing AI and technological advancements in the AEC industry for enhanced efficiency and productivity (Topics: ['technological advancements', 'AEC industry', 'efficiency', 'productivity'])</td>\n",
       "    </tr>\n",
       "    <tr>\n",
       "      <th>25</th>\n",
       "      <td>5 Best AI Tools for the Construction Industry (July 2024) (Topics: ['AI tools', 'construction industry', 'July 2024'])</td>\n",
       "    </tr>\n",
       "    <tr>\n",
       "      <th>26</th>\n",
       "      <td>What generative AI can do for construction right now (Topics: ['generative AI', 'construction industry'])</td>\n",
       "    </tr>\n",
       "    <tr>\n",
       "      <th>27</th>\n",
       "      <td>HowArtificial IntelligenceCan Make Our Smart Homes, Smarter (Topics: ['smart homes'])</td>\n",
       "    </tr>\n",
       "    <tr>\n",
       "      <th>28</th>\n",
       "      <td>Personalized AI Farming Assistants (Topics: ['farming assistants', 'agriculture'])</td>\n",
       "    </tr>\n",
       "    <tr>\n",
       "      <th>29</th>\n",
       "      <td>AI Can Learn Uses for Modern-Day Agriculture (Topics: ['agriculture', 'modern uses'])</td>\n",
       "    </tr>\n",
       "    <tr>\n",
       "      <th>30</th>\n",
       "      <td>Artificial Intelligence is being trained to help all areas of agriculture (Topics: ['agriculture', 'training'])</td>\n",
       "    </tr>\n",
       "    <tr>\n",
       "      <th>31</th>\n",
       "      <td>On AI's impact on sustainability (Topics: ['sustainability', 'impact'])</td>\n",
       "    </tr>\n",
       "    <tr>\n",
       "      <th>32</th>\n",
       "      <td>How AI is helping us tackle the climate crisis (Topics: ['climate crisis', 'solutions'])</td>\n",
       "    </tr>\n",
       "    <tr>\n",
       "      <th>33</th>\n",
       "      <td>We ask AI to explain why we struggle with solving the climate crisis (Topics: ['climate crisis', 'explanations'])</td>\n",
       "    </tr>\n",
       "    <tr>\n",
       "      <th>34</th>\n",
       "      <td>Predicting Toxic Algae Blooms with AI Modeling (Topics: ['toxic algae blooms', 'modeling'])</td>\n",
       "    </tr>\n",
       "    <tr>\n",
       "      <th>35</th>\n",
       "      <td>UAH Doctoral Candidate Leads Study On Leveraging AI And Social Media For Disaster Relief Communication (Topics: ['UAH', 'social media', 'disaster relief'])</td>\n",
       "    </tr>\n",
       "    <tr>\n",
       "      <th>36</th>\n",
       "      <td>US-China Conflict: USAF Plans 1000 6th-Gen Robo Warplanes To Counter Beijing &amp; Its Ever Growing PLAAF (Topics: ['US-China Conflict', 'USAF', '6th-Gen Robo Warplanes', 'PLAAF'])</td>\n",
       "    </tr>\n",
       "    <tr>\n",
       "      <th>37</th>\n",
       "      <td>Elon Musk expected to make speech at opening of Shanghai's World AI Conference (Topics: ['Elon Musk', 'Shanghai', 'World AI Conference'])</td>\n",
       "    </tr>\n",
       "    <tr>\n",
       "      <th>38</th>\n",
       "      <td>Big Tech needs to generate $600 billion in annual revenue to justify AI hardware expenditure (Topics: ['Big Tech', 'AI hardware', 'revenue generation'])</td>\n",
       "    </tr>\n",
       "    <tr>\n",
       "      <th>39</th>\n",
       "      <td>Samsung expects profits to surge on demand for AI chips (Topics: ['Samsung', 'profits', 'AI chips'])</td>\n",
       "    </tr>\n",
       "    <tr>\n",
       "      <th>40</th>\n",
       "      <td>Chinas tech boom powering AI career coup, with finance muscled out at top of salary pyramid (Topics: ['China', 'tech boom', 'AI career', 'finance'])</td>\n",
       "    </tr>\n",
       "    <tr>\n",
       "      <th>41</th>\n",
       "      <td>China's AI model glut is a 'significant waste of resources' due to scarce real-world applications says Baidu CEO (Topics: ['China', 'AI models', 'real-world applications', 'Baidu CEO'])</td>\n",
       "    </tr>\n",
       "    <tr>\n",
       "      <th>42</th>\n",
       "      <td>China's homegrown AI models are expanding (Topics: ['China', 'AI models', 'expansion'])</td>\n",
       "    </tr>\n",
       "    <tr>\n",
       "      <th>43</th>\n",
       "      <td>Banks Must Guard against Scammers Using AI (Topics: ['Banks', 'scammers'])</td>\n",
       "    </tr>\n",
       "    <tr>\n",
       "      <th>44</th>\n",
       "      <td>Fintech needs to adopt advanced AI/ML-powered models (Topics: ['Fintech', 'AI/ML-powered models'])</td>\n",
       "    </tr>\n",
       "    <tr>\n",
       "      <th>45</th>\n",
       "      <td>What strategies can business and technology leaders adopt to effectively balance immediate AI investments with long-term sustainability objectives?  Intelligent CIO Europe (Topics: ['business leaders', 'technology leaders', 'AI investments', 'sustainability objectives'])</td>\n",
       "    </tr>\n",
       "    <tr>\n",
       "      <th>46</th>\n",
       "      <td>How Cohere CEO Aidan Gomez Says AI Will Directly Profit Companies (Topics: ['Cohere CEO', 'Aidan Gomez', 'AI profits'])</td>\n",
       "    </tr>\n",
       "    <tr>\n",
       "      <th>47</th>\n",
       "      <td>In the age of AI, the role of the CAIO will be indispensable (and here's why) (Topics: ['CAIO role'])</td>\n",
       "    </tr>\n",
       "    <tr>\n",
       "      <th>48</th>\n",
       "      <td>CIOs concerns over generative AI echo those of the early days of cloud computing (Topics: ['CIOs', 'generative AI', 'cloud computing'])</td>\n",
       "    </tr>\n",
       "    <tr>\n",
       "      <th>49</th>\n",
       "      <td>US intelligence community is embracing generative AI (Topics: ['US intelligence community', 'generative AI'])</td>\n",
       "    </tr>\n",
       "    <tr>\n",
       "      <th>50</th>\n",
       "      <td>Passwords are passe: GenAI demands new methods of digital security (Topics: ['passwords', 'digital security', 'GenAI'])</td>\n",
       "    </tr>\n",
       "    <tr>\n",
       "      <th>51</th>\n",
       "      <td>Tokens are a big reason todays generative AI falls short (Topics: ['tokens', 'generative AI', 'shortcomings'])</td>\n",
       "    </tr>\n",
       "    <tr>\n",
       "      <th>52</th>\n",
       "      <td>What happened to the artificial-intelligence revolution? (Topics: ['revolution'])</td>\n",
       "    </tr>\n",
       "    <tr>\n",
       "      <th>53</th>\n",
       "      <td>When AI models are past their prime. (Topics: ['AI models', 'aging', 'relevance'])</td>\n",
       "    </tr>\n",
       "    <tr>\n",
       "      <th>54</th>\n",
       "      <td>A former OpenAI researcher sees a clear path to AGI this decade. Bill Gates disagrees (Topics: ['OpenAI', 'researcher', 'AGI', 'Bill Gates'])</td>\n",
       "    </tr>\n",
       "    <tr>\n",
       "      <th>55</th>\n",
       "      <td>AI models that cost $1 billion to train are underway, $100 billion models coming  largest current models take 'only' $100 million to train: Anthropic CEO (Topics: ['AI models', 'training cost', 'Anthropic CEO'])</td>\n",
       "    </tr>\n",
       "    <tr>\n",
       "      <th>56</th>\n",
       "      <td>Anthropic aims to fix one of the biggest problems in AI right now (Topics: ['Anthropic', 'AI problems', 'solutions'])</td>\n",
       "    </tr>\n",
       "    <tr>\n",
       "      <th>57</th>\n",
       "      <td>How Congress is fighting the rise of nonconsensual AI porn (Topics: ['Congress', 'nonconsensual AI porn', 'legislation'])</td>\n",
       "    </tr>\n",
       "    <tr>\n",
       "      <th>58</th>\n",
       "      <td>Texas teen works to protect victims of non-consensual real and AI porn | Y'all-itics: June 27, 2024 (Topics: ['Texas teen', 'non-consensual porn', 'victims protection'])</td>\n",
       "    </tr>\n",
       "    <tr>\n",
       "      <th>59</th>\n",
       "      <td>GenAI Helps Drive 118% Increase in Job Scams, ITRC Says (Topics: ['GenAI', 'job scams', 'ITRC'])</td>\n",
       "    </tr>\n",
       "    <tr>\n",
       "      <th>60</th>\n",
       "      <td>Job scams surged 118% in 2023, aided by AI. Here's how to stop them (Topics: ['job scams', 'AI impact', 'prevention strategies'])</td>\n",
       "    </tr>\n",
       "    <tr>\n",
       "      <th>61</th>\n",
       "      <td>Cloudflare launches a tool to combat AI bots (Topics: ['Cloudflare', 'AI bots', 'security tool'])</td>\n",
       "    </tr>\n",
       "    <tr>\n",
       "      <th>62</th>\n",
       "      <td>Computer love: AI-powered chatbots are changing how we understand romantic and sexual well-being (Topics: ['AI-powered chatbots', 'romantic well-being', 'sexual well-being'])</td>\n",
       "    </tr>\n",
       "    <tr>\n",
       "      <th>63</th>\n",
       "      <td>Real criminals, fake victims: how chatbots are being deployed in the global fight against phone scammers (Topics: ['chatbots', 'phone scammers', 'global fight'])</td>\n",
       "    </tr>\n",
       "    <tr>\n",
       "      <th>64</th>\n",
       "      <td>AI Creates A 1950s The Fifth Element Movie Trailer &amp; It's Freaky (Topics: ['movie trailer', 'The Fifth Element'])</td>\n",
       "    </tr>\n",
       "    <tr>\n",
       "      <th>65</th>\n",
       "      <td>AI turns Family Guy into a 1980s live action sitcom and the results are freaky (Topics: ['Family Guy', 'live action sitcom'])</td>\n",
       "    </tr>\n",
       "    <tr>\n",
       "      <th>66</th>\n",
       "      <td>next level image gen, i can see why artists are going out of business (Topics: ['image generation', 'artists', 'business impact'])</td>\n",
       "    </tr>\n",
       "    <tr>\n",
       "      <th>67</th>\n",
       "      <td>Trend Of Hurkle-Durkling In Bed Gets Boosted To High Form Via Modern Generative AI (Topics: ['Hurkle-Durkling', 'generative AI', 'trends'])</td>\n",
       "    </tr>\n",
       "    <tr>\n",
       "      <th>68</th>\n",
       "      <td>Fashion Gets a Generative AI Makeover (Topics: ['Fashion', 'generative AI', 'makeover'])</td>\n",
       "    </tr>\n",
       "    <tr>\n",
       "      <th>69</th>\n",
       "      <td>Metas new AI model can turn text into 3D images in under a minute (Topics: ['Meta', 'AI model', '3D images'])</td>\n",
       "    </tr>\n",
       "    <tr>\n",
       "      <th>70</th>\n",
       "      <td>German court allows patents for AI-generated inventions (Topics: ['German court', 'patents', 'AI inventions'])</td>\n",
       "    </tr>\n",
       "    <tr>\n",
       "      <th>71</th>\n",
       "      <td>Does Generative AI Violate the Rights of Authors and Artists? (Topics: ['Generative AI', 'authors rights', 'artists rights'])</td>\n",
       "    </tr>\n",
       "    <tr>\n",
       "      <th>72</th>\n",
       "      <td>Is the First Generative AI Camera on the Horizon? (Topics: ['Generative AI', 'camera technology', 'future outlook'])</td>\n",
       "    </tr>\n",
       "    <tr>\n",
       "      <th>73</th>\n",
       "      <td>OpenAI-Powered Humanoid Robot Fills Spot At BMW Assembly Plant (Topics: ['OpenAI', 'humanoid robot', 'BMW assembly plant'])</td>\n",
       "    </tr>\n",
       "    <tr>\n",
       "      <th>74</th>\n",
       "      <td>Figure 01: Coffee-making humanoid robot now shows car assembly skill at BMW (Topics: ['Figure 01', 'coffee-making robot', 'BMW assembly skill'])</td>\n",
       "    </tr>\n",
       "    <tr>\n",
       "      <th>75</th>\n",
       "      <td>Video: Figure 01 humanoid trains for its first job assembling BMWs (Topics: ['Figure 01', 'humanoid robot', 'BMW job training'])</td>\n",
       "    </tr>\n",
       "    <tr>\n",
       "      <th>76</th>\n",
       "      <td>Watch: Figure's 01 humanoids now working at BMW's car plant in US (Topics: ['Figure 01', 'humanoids', 'BMW car plant'])</td>\n",
       "    </tr>\n",
       "    <tr>\n",
       "      <th>77</th>\n",
       "      <td>Official PyTorch Documentary Revisits Its Past, and Its Future (Topics: ['PyTorch', 'documentary', 'future outlook'])</td>\n",
       "    </tr>\n",
       "    <tr>\n",
       "      <th>78</th>\n",
       "      <td>Perseverance Triumphs: How SHERLOC Was Brought Back to Life on Mars (Topics: ['Perseverance', 'SHERLOC', 'Mars mission'])</td>\n",
       "    </tr>\n",
       "    <tr>\n",
       "      <th>79</th>\n",
       "      <td>400 robotic surgeries, 98% survival rate: Saudi hospital achieves milestone (Topics: ['robotic surgeries', 'Saudi hospital', 'milestone'])</td>\n",
       "    </tr>\n",
       "    <tr>\n",
       "      <th>80</th>\n",
       "      <td>Press Release: A 2D device for quantum cooling:EPFL engineers have created a device that can efficiently convert heat into electrical voltage at temperatures lower than that of outer space. The innovation could help overcome a significant obstacle to the adva (Topics: ['quantum cooling', 'EPFL engineers', 'innovation'])</td>\n",
       "    </tr>\n",
       "    <tr>\n",
       "      <th>81</th>\n",
       "      <td>Step aside Futurama, scientist build robot that's controlled by a brain in a jar (Topics: ['Futurama', 'brain-controlled robot', 'scientific advancement'])</td>\n",
       "    </tr>\n",
       "    <tr>\n",
       "      <th>82</th>\n",
       "      <td>Policy Learning with Large World Models: Advancing Multi-Task Reinforcement Learning Efficiency and Performance (Topics: ['Policy Learning', 'world models', 'reinforcement learning'])</td>\n",
       "    </tr>\n",
       "    <tr>\n",
       "      <th>83</th>\n",
       "      <td>InternLM2.5-7B-Chat: Open Sourcing Large Language Models with Unmatched Reasoning, Long-Context Handling, and Enhanced Tool Use (Topics: ['InternLM2.5-7B-Chat', 'language models', 'open source'])</td>\n",
       "    </tr>\n",
       "    <tr>\n",
       "      <th>84</th>\n",
       "      <td>Reasoning in Large Language Models: A Geometric Perspective (Topics: ['Large Language Models', 'reasoning', 'geometric perspective'])</td>\n",
       "    </tr>\n",
       "    <tr>\n",
       "      <th>85</th>\n",
       "      <td>Workplace harrasment diagram by chatGPT (Topics: ['Workplace harassment', 'chatGPT', 'diagram'])</td>\n",
       "    </tr>\n",
       "    <tr>\n",
       "      <th>86</th>\n",
       "      <td>OpenAI's ChatGPT Mac App Was Saving Chats as Plain Text (Topics: ['ChatGPT', 'Mac App', 'data privacy'])</td>\n",
       "    </tr>\n",
       "    <tr>\n",
       "      <th>87</th>\n",
       "      <td>How ChatGPT is Revolutionizing Customer Service in 2024 (Topics: ['ChatGPT', 'customer service', 'revolution'])</td>\n",
       "    </tr>\n",
       "    <tr>\n",
       "      <th>88</th>\n",
       "      <td>What are some creative or unexpected uses of ChatGPT youve discovered? (Topics: ['ChatGPT', 'creative uses', 'discovery'])</td>\n",
       "    </tr>\n",
       "    <tr>\n",
       "      <th>89</th>\n",
       "      <td>GPT-4o vs Gemini 1.5 Pro vs Claude 3.5 Sonnet. Only Claude calls astrology bullshit right away (Topics: ['GPT-4o', 'Gemini 1.5 Pro', 'Claude 3.5 Sonnet', 'astrology'])</td>\n",
       "    </tr>\n",
       "    <tr>\n",
       "      <th>90</th>\n",
       "      <td>I learned how to use AI generative prompts with this one app (Topics: ['AI generative prompts', 'app learning', 'creative skills'])</td>\n",
       "    </tr>\n",
       "    <tr>\n",
       "      <th>91</th>\n",
       "      <td>Mitigating AI bias with prompt engineering  putting GPT to the test (Topics: ['AI bias', 'prompt engineering', 'GPT testing'])</td>\n",
       "    </tr>\n",
       "    <tr>\n",
       "      <th>92</th>\n",
       "      <td>Samsung Galaxy AI could soon offer real-time translations in WhatsApp (Topics: ['Samsung Galaxy AI', 'real-time translations', 'WhatsApp'])</td>\n",
       "    </tr>\n",
       "    <tr>\n",
       "      <th>93</th>\n",
       "      <td>Meta AI may get more collaborative in WhatsApp for Android. (Topics: ['Meta AI', 'collaboration', 'WhatsApp for Android'])</td>\n",
       "    </tr>\n",
       "    <tr>\n",
       "      <th>94</th>\n",
       "      <td>WhatsApp's new feature will let Meta AI edit your photos for you (Topics: ['WhatsApp', 'Meta AI', 'photo editing feature'])</td>\n",
       "    </tr>\n",
       "    <tr>\n",
       "      <th>95</th>\n",
       "      <td>New cyberattack targets iPhone and Apple IDs  Heres how to stay safe (Topics: ['cyberattack', 'iPhone', 'Apple IDs', 'security measures'])</td>\n",
       "    </tr>\n",
       "    <tr>\n",
       "      <th>96</th>\n",
       "      <td>Apple's AI Shift, Board Observer Role At OpenAI, Extended iPhone Settlement Deadline, And AI Partnership With Google: This Week In Appleverse - Alphabet (NASDAQ:GOOG), Apple (NASDAQ:AAPL) (Topics: ['Apple', 'AI shift', 'OpenAI partnership', 'Google partnership'])</td>\n",
       "    </tr>\n",
       "    <tr>\n",
       "      <th>97</th>\n",
       "      <td>Android Circuit: Galaxy Z Fold6 Details, Google AI Secrets, Pixel 9 Pro Specs (Topics: ['Android Circuit', 'Galaxy Z Fold6', 'Google AI', 'Pixel 9 Pro'])</td>\n",
       "    </tr>\n",
       "    <tr>\n",
       "      <th>98</th>\n",
       "      <td>Apple Loop: iPhone 16 Pro Specs, Apple Watch 10 Design Leaks, Paying For Apple's AI (Topics: ['Apple Loop', 'iPhone 16 Pro', 'Apple Watch 10', 'AI payments'])</td>\n",
       "    </tr>\n",
       "    <tr>\n",
       "      <th>99</th>\n",
       "      <td>Apple Intelligence and a better Siri may be coming to iPhones this spring (Topics: ['Apple Intelligence', 'Siri improvement', 'iPhone updates'])</td>\n",
       "    </tr>\n",
       "    <tr>\n",
       "      <th>100</th>\n",
       "      <td>I thought small phones were dead, but I want AI to bring them back (Topics: ['small phones', 'technology', 'revival'])</td>\n",
       "    </tr>\n",
       "    <tr>\n",
       "      <th>101</th>\n",
       "      <td>Police pulled over a Waymo car for driving in the oncoming lane (Topics: ['police', 'Waymo', 'autonomous vehicles', 'traffic violation'])</td>\n",
       "    </tr>\n",
       "    <tr>\n",
       "      <th>102</th>\n",
       "      <td>Don't Worry: Copilot+ PCs Don't Make Your Windows 11 System Obsolete (Topics: ['Copilot+', 'PCs', 'Windows 11', 'technology obsolescence'])</td>\n",
       "    </tr>\n",
       "    <tr>\n",
       "      <th>103</th>\n",
       "      <td>I spent a day using Copilot+ on the HP EliteBook Ultra, and it drove me crazy (Topics: ['Copilot+', 'HP EliteBook Ultra', 'user experience', 'technology frustration'])</td>\n",
       "    </tr>\n",
       "    <tr>\n",
       "      <th>104</th>\n",
       "      <td>A friendly guide to containerization for AI work (Topics: ['containerization', 'AI work', 'guide'])</td>\n",
       "    </tr>\n",
       "    <tr>\n",
       "      <th>105</th>\n",
       "      <td>A friendly guide to containerization for AI workHands onSave the headaches, ship your dependenciesAI + ML6 hrs|1 (Topics: ['containerization', 'AI work', 'dependencies', 'productivity', 'AI + ML'])</td>\n",
       "    </tr>\n",
       "    <tr>\n",
       "      <th>106</th>\n",
       "      <td>Show HN: Workspaice:  Human+AI, Creating Together (Topics: ['Workspaice', 'Human+AI', 'collaboration'])</td>\n",
       "    </tr>\n",
       "    <tr>\n",
       "      <th>107</th>\n",
       "      <td>James Muldoon, Mark Graham and Callum Cant: AI feeds off the work of human beings (Topics: ['James Muldoon', 'Mark Graham', 'Callum Cant', 'human work interaction'])</td>\n",
       "    </tr>\n",
       "    <tr>\n",
       "      <th>108</th>\n",
       "      <td>Meet Mercy and Anita  the African workers driving the AI revolution, for just over a dollar an hour (Topics: ['Mercy', 'Anita', 'African workers', 'AI revolution', 'wages'])</td>\n",
       "    </tr>\n",
       "    <tr>\n",
       "      <th>109</th>\n",
       "      <td>Figma disables AI-powered 'Make Design' feature after Weather app rip-off (Topics: ['Figma', 'AI-powered feature', 'design', 'rip-off'])</td>\n",
       "    </tr>\n",
       "    <tr>\n",
       "      <th>110</th>\n",
       "      <td>Microsoft's AI CEO: Web Content (Without a Robots.txt File) is 'Freeware' for AI Training (Topics: ['Microsoft', 'AI CEO', 'web content', 'robots.txt', 'freeware', 'AI training'])</td>\n",
       "    </tr>\n",
       "    <tr>\n",
       "      <th>111</th>\n",
       "      <td>Microsofts climbdown over its creepy Recall feature shows its AI strategy is far from intelligent | The tech companys new Windows machines can take constant screenshots of users every action  quelle surprise, its a privacy minefield (Topics: ['Microsoft', 'Recall feature', 'AI strategy', 'privacy concerns', 'Windows machines', 'screenshots'])</td>\n",
       "    </tr>\n",
       "  </tbody>\n",
       "</table>\n",
       "</div>"
      ],
      "text/plain": [
       "                                                                                                                                                                                                                                                                                                                                                    topic_str\n",
       "0                                                                                                                                                                                                                                   5 big analyst AI moves: Nvidia downgraded on limited further upside (Topics: ['Nvidia', 'analyst moves', 'stock market'])\n",
       "1                                                                                                                                                                                                                                                                                      Two risks to the AI tech rally (Topics: ['risks', 'technology rally'])\n",
       "2                                                                                                                                                                                    45% of Warren Buffett's $398 Billion Portfolio Is Invested in 3 Artificial Intelligence (AI) Stocks (Topics: ['Warren Buffett', 'portfolio', 'investment', 'AI stocks'])\n",
       "3                                                                                                                                                                                                                    Broadcom: An Essential Company For AI Investors (NASDAQ:AVGO) (Topics: ['Broadcom', 'NASDAQ', 'AVGO', 'essential company', 'investors'])\n",
       "4                                                                                                                                                                                    Advanced Micro Devices, Inc. (AMD): Hedge Funds Are Bullish On This AI Stock Right Now (Topics: ['Advanced Micro Devices', 'AMD', 'hedge funds', 'bullish', 'AI stock'])\n",
       "5                                                                                                                                                                                                                                                   Better Artificial Intelligence (AI) Stock: Nvidia vs. AMD (Topics: ['Nvidia', 'AMD', 'stock comparison'])\n",
       "6                                                                                                                                                                 Apple's New Artificial Intelligence (AI) Features Could Push This Semiconductor Company to a $1 Trillion Valuation (Topics: ['Apple', 'semiconductor company', 'AI features', 'valuation'])\n",
       "7                                                                                                                                                                                                                                                    Could ASML Be The Next Major AI Stock to Split Its Shares? (Topics: ['ASML', 'AI stock', 'stock split'])\n",
       "8                                                                                                                                                                                                                                                                   AI Stocks Keep Surging. Buy 2 That Havent. (Topics: ['AI stocks', 'surge', 'investment'])\n",
       "9                                                                                                                                                                                                                                            Forget Nvidia: This Stock-Split AI Stock Could Be a Better Buy (Topics: ['Nvidia', 'stock-split', 'investment'])\n",
       "10                                                                                                                                                                                     Generative AI Sales Could Soar 2,040%: My Pick for the Best AI Stock to Buy Now (Hint: Not Nvidia) (Topics: ['generative AI', 'sales', 'best AI stock', 'investment'])\n",
       "11                                                                                                                                                                                                             Netflix vs. Disney? We asked ChatGPT-4o which stock is a better buy for 2024 (Topics: ['Netflix', 'Disney', 'stock comparison', 'ChatGPT-4o'])\n",
       "12                                                                                                                                               1 Phenomenal Stock That Could Join Microsoft, Apple, Nvidia, Alphabet, Amazon, and Meta in the $1 Trillion Club (Topics: ['Microsoft', 'Apple', 'Nvidia', 'Alphabet', 'Amazon', 'Meta', '$1 trillion club'])\n",
       "13                                                                                                                                                                                                                                                    3 Rapidly Rising Companies Set to Join the $1 Trillion Club (Topics: ['companies', '$1 trillion club'])\n",
       "14                                                                                                                                                                                                                                                                         Google Says AI Could Break Reality (Topics: ['Google', 'reality', 'breakthrough'])\n",
       "15                                                                                                                                                                                                                                                         Top Artificial Intelligence AI Search Engines to Know in 2024 (Topics: ['search engines', '2024'])\n",
       "16                                                                                                                                                                                                         Wild new way to search for anything, anywhere with Google's Circle to Search AI feature (Topics: ['Google', 'search feature', 'Circle to Search'])\n",
       "17                                                                                                                                                                                                                         AI's 'positive role' during Indian polls amidst deepfakes disinformation (Topics: ['Indian polls', 'deepfakes', 'disinformation'])\n",
       "18                                                                                                                                                                     Our Chicago: Could artificial intelligence impact 2024 election as voters choose between Joe Biden, Donald Trump? (Topics: ['2024 election', 'Joe Biden', 'Donald Trump', 'politics'])\n",
       "19                                                                                                                                                                                                                                                Program looks at AI's impact on politics in La Crosse (Topics: ['politics', 'La Crosse', 'program impact'])\n",
       "20                                                                                                                                                                                                           Georgia artificial intelligence program teaches kids about bias in policing (Topics: ['Georgia', 'AI program', 'bias in policing', 'education'])\n",
       "21                                                                                                                                                                                                                                 California Teachers are Using AI to Grade Papers. Whos Grading the AI? (Topics: ['California Teachers', 'grading papers'])\n",
       "22                                                                                                                                                                                                                                                                         Will artificial intelligence transform school? (Topics: ['school transformation'])\n",
       "23                                                                                                                                                                                                                                                                    So how are we doing with AI in architectural design? (Topics: ['architectural design'])\n",
       "24                                                                                                                                                           Harnessing AI and technological advancements in the AEC industry for enhanced efficiency and productivity (Topics: ['technological advancements', 'AEC industry', 'efficiency', 'productivity'])\n",
       "25                                                                                                                                                                                                                                     5 Best AI Tools for the Construction Industry (July 2024) (Topics: ['AI tools', 'construction industry', 'July 2024'])\n",
       "26                                                                                                                                                                                                                                                  What generative AI can do for construction right now (Topics: ['generative AI', 'construction industry'])\n",
       "27                                                                                                                                                                                                                                                                      HowArtificial IntelligenceCan Make Our Smart Homes, Smarter (Topics: ['smart homes'])\n",
       "28                                                                                                                                                                                                                                                                         Personalized AI Farming Assistants (Topics: ['farming assistants', 'agriculture'])\n",
       "29                                                                                                                                                                                                                                                                      AI Can Learn Uses for Modern-Day Agriculture (Topics: ['agriculture', 'modern uses'])\n",
       "30                                                                                                                                                                                                                                            Artificial Intelligence is being trained to help all areas of agriculture (Topics: ['agriculture', 'training'])\n",
       "31                                                                                                                                                                                                                                                                                    On AI's impact on sustainability (Topics: ['sustainability', 'impact'])\n",
       "32                                                                                                                                                                                                                                                                   How AI is helping us tackle the climate crisis (Topics: ['climate crisis', 'solutions'])\n",
       "33                                                                                                                                                                                                                                          We ask AI to explain why we struggle with solving the climate crisis (Topics: ['climate crisis', 'explanations'])\n",
       "34                                                                                                                                                                                                                                                                Predicting Toxic Algae Blooms with AI Modeling (Topics: ['toxic algae blooms', 'modeling'])\n",
       "35                                                                                                                                                                                                UAH Doctoral Candidate Leads Study On Leveraging AI And Social Media For Disaster Relief Communication (Topics: ['UAH', 'social media', 'disaster relief'])\n",
       "36                                                                                                                                                                           US-China Conflict: USAF Plans 1000 6th-Gen Robo Warplanes To Counter Beijing & Its Ever Growing PLAAF (Topics: ['US-China Conflict', 'USAF', '6th-Gen Robo Warplanes', 'PLAAF'])\n",
       "37                                                                                                                                                                                                                  Elon Musk expected to make speech at opening of Shanghai's World AI Conference (Topics: ['Elon Musk', 'Shanghai', 'World AI Conference'])\n",
       "38                                                                                                                                                                                                   Big Tech needs to generate $600 billion in annual revenue to justify AI hardware expenditure (Topics: ['Big Tech', 'AI hardware', 'revenue generation'])\n",
       "39                                                                                                                                                                                                                                                       Samsung expects profits to surge on demand for AI chips (Topics: ['Samsung', 'profits', 'AI chips'])\n",
       "40                                                                                                                                                                                                       Chinas tech boom powering AI career coup, with finance muscled out at top of salary pyramid (Topics: ['China', 'tech boom', 'AI career', 'finance'])\n",
       "41                                                                                                                                                                  China's AI model glut is a 'significant waste of resources' due to scarce real-world applications says Baidu CEO (Topics: ['China', 'AI models', 'real-world applications', 'Baidu CEO'])\n",
       "42                                                                                                                                                                                                                                                                    China's homegrown AI models are expanding (Topics: ['China', 'AI models', 'expansion'])\n",
       "43                                                                                                                                                                                                                                                                                 Banks Must Guard against Scammers Using AI (Topics: ['Banks', 'scammers'])\n",
       "44                                                                                                                                                                                                                                                         Fintech needs to adopt advanced AI/ML-powered models (Topics: ['Fintech', 'AI/ML-powered models'])\n",
       "45                                                                            What strategies can business and technology leaders adopt to effectively balance immediate AI investments with long-term sustainability objectives?  Intelligent CIO Europe (Topics: ['business leaders', 'technology leaders', 'AI investments', 'sustainability objectives'])\n",
       "46                                                                                                                                                                                                                                    How Cohere CEO Aidan Gomez Says AI Will Directly Profit Companies (Topics: ['Cohere CEO', 'Aidan Gomez', 'AI profits'])\n",
       "47                                                                                                                                                                                                                                                      In the age of AI, the role of the CAIO will be indispensable (and here's why) (Topics: ['CAIO role'])\n",
       "48                                                                                                                                                                                                                    CIOs concerns over generative AI echo those of the early days of cloud computing (Topics: ['CIOs', 'generative AI', 'cloud computing'])\n",
       "49                                                                                                                                                                                                                                              US intelligence community is embracing generative AI (Topics: ['US intelligence community', 'generative AI'])\n",
       "50                                                                                                                                                                                                                                    Passwords are passe: GenAI demands new methods of digital security (Topics: ['passwords', 'digital security', 'GenAI'])\n",
       "51                                                                                                                                                                                                                                             Tokens are a big reason todays generative AI falls short (Topics: ['tokens', 'generative AI', 'shortcomings'])\n",
       "52                                                                                                                                                                                                                                                                          What happened to the artificial-intelligence revolution? (Topics: ['revolution'])\n",
       "53                                                                                                                                                                                                                                                                         When AI models are past their prime. (Topics: ['AI models', 'aging', 'relevance'])\n",
       "54                                                                                                                                                                                                              A former OpenAI researcher sees a clear path to AGI this decade. Bill Gates disagrees (Topics: ['OpenAI', 'researcher', 'AGI', 'Bill Gates'])\n",
       "55                                                                                                                                        AI models that cost $1 billion to train are underway, $100 billion models coming  largest current models take 'only' $100 million to train: Anthropic CEO (Topics: ['AI models', 'training cost', 'Anthropic CEO'])\n",
       "56                                                                                                                                                                                                                                      Anthropic aims to fix one of the biggest problems in AI right now (Topics: ['Anthropic', 'AI problems', 'solutions'])\n",
       "57                                                                                                                                                                                                                                  How Congress is fighting the rise of nonconsensual AI porn (Topics: ['Congress', 'nonconsensual AI porn', 'legislation'])\n",
       "58                                                                                                                                                                                  Texas teen works to protect victims of non-consensual real and AI porn | Y'all-itics: June 27, 2024 (Topics: ['Texas teen', 'non-consensual porn', 'victims protection'])\n",
       "59                                                                                                                                                                                                                                                           GenAI Helps Drive 118% Increase in Job Scams, ITRC Says (Topics: ['GenAI', 'job scams', 'ITRC'])\n",
       "60                                                                                                                                                                                                                          Job scams surged 118% in 2023, aided by AI. Here's how to stop them (Topics: ['job scams', 'AI impact', 'prevention strategies'])\n",
       "61                                                                                                                                                                                                                                                          Cloudflare launches a tool to combat AI bots (Topics: ['Cloudflare', 'AI bots', 'security tool'])\n",
       "62                                                                                                                                                                             Computer love: AI-powered chatbots are changing how we understand romantic and sexual well-being (Topics: ['AI-powered chatbots', 'romantic well-being', 'sexual well-being'])\n",
       "63                                                                                                                                                                                          Real criminals, fake victims: how chatbots are being deployed in the global fight against phone scammers (Topics: ['chatbots', 'phone scammers', 'global fight'])\n",
       "64                                                                                                                                                                                                                                          AI Creates A 1950s The Fifth Element Movie Trailer & It's Freaky (Topics: ['movie trailer', 'The Fifth Element'])\n",
       "65                                                                                                                                                                                                                              AI turns Family Guy into a 1980s live action sitcom and the results are freaky (Topics: ['Family Guy', 'live action sitcom'])\n",
       "66                                                                                                                                                                                                                         next level image gen, i can see why artists are going out of business (Topics: ['image generation', 'artists', 'business impact'])\n",
       "67                                                                                                                                                                                                                Trend Of Hurkle-Durkling In Bed Gets Boosted To High Form Via Modern Generative AI (Topics: ['Hurkle-Durkling', 'generative AI', 'trends'])\n",
       "68                                                                                                                                                                                                                                                                   Fashion Gets a Generative AI Makeover (Topics: ['Fashion', 'generative AI', 'makeover'])\n",
       "69                                                                                                                                                                                                                                              Metas new AI model can turn text into 3D images in under a minute (Topics: ['Meta', 'AI model', '3D images'])\n",
       "70                                                                                                                                                                                                                                             German court allows patents for AI-generated inventions (Topics: ['German court', 'patents', 'AI inventions'])\n",
       "71                                                                                                                                                                                                                              Does Generative AI Violate the Rights of Authors and Artists? (Topics: ['Generative AI', 'authors rights', 'artists rights'])\n",
       "72                                                                                                                                                                                                                                       Is the First Generative AI Camera on the Horizon? (Topics: ['Generative AI', 'camera technology', 'future outlook'])\n",
       "73                                                                                                                                                                                                                                OpenAI-Powered Humanoid Robot Fills Spot At BMW Assembly Plant (Topics: ['OpenAI', 'humanoid robot', 'BMW assembly plant'])\n",
       "74                                                                                                                                                                                                           Figure 01: Coffee-making humanoid robot now shows car assembly skill at BMW (Topics: ['Figure 01', 'coffee-making robot', 'BMW assembly skill'])\n",
       "75                                                                                                                                                                                                                           Video: Figure 01 humanoid trains for its first job assembling BMWs (Topics: ['Figure 01', 'humanoid robot', 'BMW job training'])\n",
       "76                                                                                                                                                                                                                                    Watch: Figure's 01 humanoids now working at BMW's car plant in US (Topics: ['Figure 01', 'humanoids', 'BMW car plant'])\n",
       "77                                                                                                                                                                                                                                      Official PyTorch Documentary Revisits Its Past, and Its Future (Topics: ['PyTorch', 'documentary', 'future outlook'])\n",
       "78                                                                                                                                                                                                                                  Perseverance Triumphs: How SHERLOC Was Brought Back to Life on Mars (Topics: ['Perseverance', 'SHERLOC', 'Mars mission'])\n",
       "79                                                                                                                                                                                                                 400 robotic surgeries, 98% survival rate: Saudi hospital achieves milestone (Topics: ['robotic surgeries', 'Saudi hospital', 'milestone'])\n",
       "80                          Press Release: A 2D device for quantum cooling:EPFL engineers have created a device that can efficiently convert heat into electrical voltage at temperatures lower than that of outer space. The innovation could help overcome a significant obstacle to the adva (Topics: ['quantum cooling', 'EPFL engineers', 'innovation'])\n",
       "81                                                                                                                                                                                                Step aside Futurama, scientist build robot that's controlled by a brain in a jar (Topics: ['Futurama', 'brain-controlled robot', 'scientific advancement'])\n",
       "82                                                                                                                                                                    Policy Learning with Large World Models: Advancing Multi-Task Reinforcement Learning Efficiency and Performance (Topics: ['Policy Learning', 'world models', 'reinforcement learning'])\n",
       "83                                                                                                                                                        InternLM2.5-7B-Chat: Open Sourcing Large Language Models with Unmatched Reasoning, Long-Context Handling, and Enhanced Tool Use (Topics: ['InternLM2.5-7B-Chat', 'language models', 'open source'])\n",
       "84                                                                                                                                                                                                                      Reasoning in Large Language Models: A Geometric Perspective (Topics: ['Large Language Models', 'reasoning', 'geometric perspective'])\n",
       "85                                                                                                                                                                                                                                                           Workplace harrasment diagram by chatGPT (Topics: ['Workplace harassment', 'chatGPT', 'diagram'])\n",
       "86                                                                                                                                                                                                                                                   OpenAI's ChatGPT Mac App Was Saving Chats as Plain Text (Topics: ['ChatGPT', 'Mac App', 'data privacy'])\n",
       "87                                                                                                                                                                                                                                            How ChatGPT is Revolutionizing Customer Service in 2024 (Topics: ['ChatGPT', 'customer service', 'revolution'])\n",
       "88                                                                                                                                                                                                                                 What are some creative or unexpected uses of ChatGPT youve discovered? (Topics: ['ChatGPT', 'creative uses', 'discovery'])\n",
       "89                                                                                                                                                                                    GPT-4o vs Gemini 1.5 Pro vs Claude 3.5 Sonnet. Only Claude calls astrology bullshit right away (Topics: ['GPT-4o', 'Gemini 1.5 Pro', 'Claude 3.5 Sonnet', 'astrology'])\n",
       "90                                                                                                                                                                                                                        I learned how to use AI generative prompts with this one app (Topics: ['AI generative prompts', 'app learning', 'creative skills'])\n",
       "91                                                                                                                                                                                                                             Mitigating AI bias with prompt engineering  putting GPT to the test (Topics: ['AI bias', 'prompt engineering', 'GPT testing'])\n",
       "92                                                                                                                                                                                                                Samsung Galaxy AI could soon offer real-time translations in WhatsApp (Topics: ['Samsung Galaxy AI', 'real-time translations', 'WhatsApp'])\n",
       "93                                                                                                                                                                                                                                 Meta AI may get more collaborative in WhatsApp for Android. (Topics: ['Meta AI', 'collaboration', 'WhatsApp for Android'])\n",
       "94                                                                                                                                                                                                                                WhatsApp's new feature will let Meta AI edit your photos for you (Topics: ['WhatsApp', 'Meta AI', 'photo editing feature'])\n",
       "95                                                                                                                                                                                                                 New cyberattack targets iPhone and Apple IDs  Heres how to stay safe (Topics: ['cyberattack', 'iPhone', 'Apple IDs', 'security measures'])\n",
       "96                                                                                    Apple's AI Shift, Board Observer Role At OpenAI, Extended iPhone Settlement Deadline, And AI Partnership With Google: This Week In Appleverse - Alphabet (NASDAQ:GOOG), Apple (NASDAQ:AAPL) (Topics: ['Apple', 'AI shift', 'OpenAI partnership', 'Google partnership'])\n",
       "97                                                                                                                                                                                                  Android Circuit: Galaxy Z Fold6 Details, Google AI Secrets, Pixel 9 Pro Specs (Topics: ['Android Circuit', 'Galaxy Z Fold6', 'Google AI', 'Pixel 9 Pro'])\n",
       "98                                                                                                                                                                                             Apple Loop: iPhone 16 Pro Specs, Apple Watch 10 Design Leaks, Paying For Apple's AI (Topics: ['Apple Loop', 'iPhone 16 Pro', 'Apple Watch 10', 'AI payments'])\n",
       "99                                                                                                                                                                                                           Apple Intelligence and a better Siri may be coming to iPhones this spring (Topics: ['Apple Intelligence', 'Siri improvement', 'iPhone updates'])\n",
       "100                                                                                                                                                                                                                                    I thought small phones were dead, but I want AI to bring them back (Topics: ['small phones', 'technology', 'revival'])\n",
       "101                                                                                                                                                                                                                 Police pulled over a Waymo car for driving in the oncoming lane (Topics: ['police', 'Waymo', 'autonomous vehicles', 'traffic violation'])\n",
       "102                                                                                                                                                                                                               Don't Worry: Copilot+ PCs Don't Make Your Windows 11 System Obsolete (Topics: ['Copilot+', 'PCs', 'Windows 11', 'technology obsolescence'])\n",
       "103                                                                                                                                                                                   I spent a day using Copilot+ on the HP EliteBook Ultra, and it drove me crazy (Topics: ['Copilot+', 'HP EliteBook Ultra', 'user experience', 'technology frustration'])\n",
       "104                                                                                                                                                                                                                                                       A friendly guide to containerization for AI work (Topics: ['containerization', 'AI work', 'guide'])\n",
       "105                                                                                                                                                     A friendly guide to containerization for AI workHands onSave the headaches, ship your dependenciesAI + ML6 hrs|1 (Topics: ['containerization', 'AI work', 'dependencies', 'productivity', 'AI + ML'])\n",
       "106                                                                                                                                                                                                                                                   Show HN: Workspaice:  Human+AI, Creating Together (Topics: ['Workspaice', 'Human+AI', 'collaboration'])\n",
       "107                                                                                                                                                                                     James Muldoon, Mark Graham and Callum Cant: AI feeds off the work of human beings (Topics: ['James Muldoon', 'Mark Graham', 'Callum Cant', 'human work interaction'])\n",
       "108                                                                                                                                                                             Meet Mercy and Anita  the African workers driving the AI revolution, for just over a dollar an hour (Topics: ['Mercy', 'Anita', 'African workers', 'AI revolution', 'wages'])\n",
       "109                                                                                                                                                                                                                  Figma disables AI-powered 'Make Design' feature after Weather app rip-off (Topics: ['Figma', 'AI-powered feature', 'design', 'rip-off'])\n",
       "110                                                                                                                                                                       Microsoft's AI CEO: Web Content (Without a Robots.txt File) is 'Freeware' for AI Training (Topics: ['Microsoft', 'AI CEO', 'web content', 'robots.txt', 'freeware', 'AI training'])\n",
       "111  Microsofts climbdown over its creepy Recall feature shows its AI strategy is far from intelligent | The tech companys new Windows machines can take constant screenshots of users every action  quelle surprise, its a privacy minefield (Topics: ['Microsoft', 'Recall feature', 'AI strategy', 'privacy concerns', 'Windows machines', 'screenshots'])"
      ]
     },
     "metadata": {},
     "output_type": "display_data"
    }
   ],
   "source": [
    "with pd.option_context('display.max_rows', None, 'display.max_colwidth', None):\n",
    "    display(AIdf[[\"topic_str\"]])\n",
    "    "
   ]
  },
  {
   "cell_type": "code",
   "execution_count": 50,
   "id": "2afc08d0",
   "metadata": {},
   "outputs": [
    {
     "data": {
      "text/plain": [
       "378"
      ]
     },
     "execution_count": 50,
     "metadata": {},
     "output_type": "execute_result"
    }
   ],
   "source": [
    "all_topics = []\n",
    "for obj in response:\n",
    "    top = obj['topics']\n",
    "    all_topics.extend(top)\n",
    "\n",
    "len(all_topics)"
   ]
  },
  {
   "cell_type": "code",
   "execution_count": 51,
   "id": "c866d696",
   "metadata": {},
   "outputs": [
    {
     "name": "stdout",
     "output_type": "stream",
     "text": [
      "('AI', 28)\n",
      "('generative AI', 7)\n",
      "('Nvidia', 4)\n",
      "('investment', 4)\n",
      "('AI models', 4)\n",
      "('Apple', 3)\n",
      "('Microsoft', 3)\n",
      "('agriculture', 3)\n",
      "('China', 3)\n",
      "('Figure 01', 3)\n",
      "('ChatGPT', 3)\n",
      "('AI stocks', 2)\n",
      "('AMD', 2)\n",
      "('AI stock', 2)\n",
      "('stock comparison', 2)\n",
      "('Meta', 2)\n",
      "('$1 trillion club', 2)\n",
      "('Google', 2)\n",
      "('politics', 2)\n",
      "('productivity', 2)\n",
      "('construction industry', 2)\n",
      "('climate crisis', 2)\n",
      "('solutions', 2)\n",
      "('GenAI', 2)\n",
      "('revolution', 2)\n",
      "('OpenAI', 2)\n",
      "('job scams', 2)\n",
      "('Generative AI', 2)\n",
      "('future outlook', 2)\n",
      "('humanoid robot', 2)\n",
      "('WhatsApp', 2)\n",
      "('Meta AI', 2)\n",
      "('collaboration', 2)\n",
      "('Copilot+', 2)\n",
      "('containerization', 2)\n",
      "('AI work', 2)\n",
      "('analyst moves', 1)\n",
      "('stock market', 1)\n",
      "('risks', 1)\n",
      "('technology rally', 1)\n",
      "('Warren Buffett', 1)\n",
      "('portfolio', 1)\n",
      "('Broadcom', 1)\n",
      "('NASDAQ', 1)\n",
      "('AVGO', 1)\n",
      "('essential company', 1)\n",
      "('investors', 1)\n",
      "('Advanced Micro Devices', 1)\n",
      "('hedge funds', 1)\n",
      "('bullish', 1)\n",
      "('semiconductor company', 1)\n",
      "('AI features', 1)\n",
      "('valuation', 1)\n",
      "('ASML', 1)\n",
      "('stock split', 1)\n",
      "('surge', 1)\n",
      "('stock-split', 1)\n",
      "('sales', 1)\n",
      "('best AI stock', 1)\n",
      "('Netflix', 1)\n",
      "('Disney', 1)\n",
      "('ChatGPT-4o', 1)\n",
      "('Alphabet', 1)\n",
      "('Amazon', 1)\n",
      "('companies', 1)\n",
      "('reality', 1)\n",
      "('breakthrough', 1)\n",
      "('search engines', 1)\n",
      "('2024', 1)\n",
      "('search feature', 1)\n",
      "('Circle to Search', 1)\n",
      "('Indian polls', 1)\n",
      "('deepfakes', 1)\n",
      "('disinformation', 1)\n",
      "('2024 election', 1)\n",
      "('Joe Biden', 1)\n",
      "('Donald Trump', 1)\n",
      "('La Crosse', 1)\n",
      "('program impact', 1)\n",
      "('Georgia', 1)\n",
      "('AI program', 1)\n",
      "('bias in policing', 1)\n",
      "('education', 1)\n",
      "('California Teachers', 1)\n",
      "('grading papers', 1)\n",
      "('school transformation', 1)\n",
      "('architectural design', 1)\n",
      "('technological advancements', 1)\n",
      "('AEC industry', 1)\n",
      "('efficiency', 1)\n",
      "('AI tools', 1)\n",
      "('July 2024', 1)\n",
      "('smart homes', 1)\n",
      "('farming assistants', 1)\n",
      "('modern uses', 1)\n",
      "('training', 1)\n",
      "('sustainability', 1)\n",
      "('impact', 1)\n",
      "('explanations', 1)\n",
      "('toxic algae blooms', 1)\n",
      "('modeling', 1)\n",
      "('UAH', 1)\n",
      "('social media', 1)\n",
      "('disaster relief', 1)\n",
      "('US-China Conflict', 1)\n",
      "('USAF', 1)\n",
      "('6th-Gen Robo Warplanes', 1)\n",
      "('PLAAF', 1)\n",
      "('Elon Musk', 1)\n",
      "('Shanghai', 1)\n",
      "('World AI Conference', 1)\n",
      "('Big Tech', 1)\n",
      "('AI hardware', 1)\n",
      "('revenue generation', 1)\n",
      "('Samsung', 1)\n",
      "('profits', 1)\n",
      "('AI chips', 1)\n",
      "('tech boom', 1)\n",
      "('AI career', 1)\n",
      "('finance', 1)\n",
      "('real-world applications', 1)\n",
      "('Baidu CEO', 1)\n",
      "('expansion', 1)\n",
      "('Banks', 1)\n",
      "('scammers', 1)\n",
      "('Fintech', 1)\n",
      "('AI/ML-powered models', 1)\n",
      "('business leaders', 1)\n",
      "('technology leaders', 1)\n",
      "('AI investments', 1)\n",
      "('sustainability objectives', 1)\n",
      "('Cohere CEO', 1)\n",
      "('Aidan Gomez', 1)\n",
      "('AI profits', 1)\n",
      "('CAIO role', 1)\n",
      "('CIOs', 1)\n",
      "('cloud computing', 1)\n",
      "('US intelligence community', 1)\n",
      "('passwords', 1)\n",
      "('digital security', 1)\n",
      "('tokens', 1)\n",
      "('shortcomings', 1)\n",
      "('artificial intelligence', 1)\n",
      "('aging', 1)\n",
      "('relevance', 1)\n",
      "('researcher', 1)\n",
      "('AGI', 1)\n",
      "('Bill Gates', 1)\n",
      "('training cost', 1)\n",
      "('Anthropic CEO', 1)\n",
      "('Anthropic', 1)\n",
      "('AI problems', 1)\n",
      "('Congress', 1)\n",
      "('nonconsensual AI porn', 1)\n",
      "('legislation', 1)\n",
      "('Texas teen', 1)\n",
      "('non-consensual porn', 1)\n",
      "('victims protection', 1)\n",
      "('ITRC', 1)\n",
      "('AI impact', 1)\n",
      "('prevention strategies', 1)\n",
      "('Cloudflare', 1)\n",
      "('AI bots', 1)\n",
      "('security tool', 1)\n",
      "('AI-powered chatbots', 1)\n",
      "('romantic well-being', 1)\n",
      "('sexual well-being', 1)\n",
      "('chatbots', 1)\n",
      "('phone scammers', 1)\n",
      "('global fight', 1)\n",
      "('movie trailer', 1)\n",
      "('The Fifth Element', 1)\n",
      "('Family Guy', 1)\n",
      "('live action sitcom', 1)\n",
      "('image generation', 1)\n",
      "('artists', 1)\n",
      "('business impact', 1)\n",
      "('Hurkle-Durkling', 1)\n",
      "('trends', 1)\n",
      "('Fashion', 1)\n",
      "('makeover', 1)\n",
      "('AI model', 1)\n",
      "('3D images', 1)\n",
      "('German court', 1)\n",
      "('patents', 1)\n",
      "('AI inventions', 1)\n",
      "('authors rights', 1)\n",
      "('artists rights', 1)\n",
      "('camera technology', 1)\n",
      "('BMW assembly plant', 1)\n",
      "('coffee-making robot', 1)\n",
      "('BMW assembly skill', 1)\n",
      "('BMW job training', 1)\n",
      "('humanoids', 1)\n",
      "('BMW car plant', 1)\n",
      "('PyTorch', 1)\n",
      "('documentary', 1)\n",
      "('Perseverance', 1)\n",
      "('SHERLOC', 1)\n",
      "('Mars mission', 1)\n",
      "('robotic surgeries', 1)\n",
      "('Saudi hospital', 1)\n",
      "('milestone', 1)\n",
      "('quantum cooling', 1)\n",
      "('EPFL engineers', 1)\n",
      "('innovation', 1)\n",
      "('Futurama', 1)\n",
      "('brain-controlled robot', 1)\n",
      "('scientific advancement', 1)\n",
      "('Policy Learning', 1)\n",
      "('world models', 1)\n",
      "('reinforcement learning', 1)\n",
      "('InternLM2.5-7B-Chat', 1)\n",
      "('language models', 1)\n",
      "('open source', 1)\n",
      "('Large Language Models', 1)\n",
      "('reasoning', 1)\n",
      "('geometric perspective', 1)\n",
      "('Workplace harassment', 1)\n",
      "('chatGPT', 1)\n",
      "('diagram', 1)\n",
      "('Mac App', 1)\n",
      "('data privacy', 1)\n",
      "('customer service', 1)\n",
      "('creative uses', 1)\n",
      "('discovery', 1)\n",
      "('GPT-4o', 1)\n",
      "('Gemini 1.5 Pro', 1)\n",
      "('Claude 3.5 Sonnet', 1)\n",
      "('astrology', 1)\n",
      "('AI generative prompts', 1)\n",
      "('app learning', 1)\n",
      "('creative skills', 1)\n",
      "('AI bias', 1)\n",
      "('prompt engineering', 1)\n",
      "('GPT testing', 1)\n",
      "('Samsung Galaxy AI', 1)\n",
      "('real-time translations', 1)\n",
      "('WhatsApp for Android', 1)\n",
      "('photo editing feature', 1)\n",
      "('cyberattack', 1)\n",
      "('iPhone', 1)\n",
      "('Apple IDs', 1)\n",
      "('security measures', 1)\n",
      "('AI shift', 1)\n",
      "('OpenAI partnership', 1)\n",
      "('Google partnership', 1)\n",
      "('Android Circuit', 1)\n",
      "('Galaxy Z Fold6', 1)\n",
      "('Google AI', 1)\n",
      "('Pixel 9 Pro', 1)\n",
      "('Apple Loop', 1)\n",
      "('iPhone 16 Pro', 1)\n",
      "('Apple Watch 10', 1)\n",
      "('AI payments', 1)\n",
      "('Apple Intelligence', 1)\n",
      "('Siri improvement', 1)\n",
      "('iPhone updates', 1)\n",
      "('small phones', 1)\n",
      "('technology', 1)\n",
      "('revival', 1)\n",
      "('police', 1)\n",
      "('Waymo', 1)\n",
      "('autonomous vehicles', 1)\n",
      "('traffic violation', 1)\n",
      "('PCs', 1)\n",
      "('Windows 11', 1)\n",
      "('technology obsolescence', 1)\n",
      "('HP EliteBook Ultra', 1)\n",
      "('user experience', 1)\n",
      "('technology frustration', 1)\n",
      "('guide', 1)\n",
      "('dependencies', 1)\n",
      "('AI + ML', 1)\n",
      "('Workspaice', 1)\n",
      "('Human+AI', 1)\n",
      "('James Muldoon', 1)\n",
      "('Mark Graham', 1)\n",
      "('Callum Cant', 1)\n",
      "('human work interaction', 1)\n",
      "('Mercy', 1)\n",
      "('Anita', 1)\n",
      "('African workers', 1)\n",
      "('AI revolution', 1)\n",
      "('wages', 1)\n",
      "('Figma', 1)\n",
      "('AI-powered feature', 1)\n",
      "('design', 1)\n",
      "('rip-off', 1)\n",
      "('AI CEO', 1)\n",
      "('web content', 1)\n",
      "('robots.txt', 1)\n",
      "('freeware', 1)\n",
      "('AI training', 1)\n",
      "('Recall feature', 1)\n",
      "('AI strategy', 1)\n",
      "('privacy concerns', 1)\n",
      "('Windows machines', 1)\n",
      "('screenshots', 1)\n"
     ]
    }
   ],
   "source": [
    "item_counts = Counter(all_topics)\n",
    "for x in item_counts.most_common():\n",
    "    print(x)"
   ]
  },
  {
   "cell_type": "code",
   "execution_count": null,
   "id": "aefa1a4a",
   "metadata": {},
   "outputs": [],
   "source": []
  },
  {
   "cell_type": "code",
   "execution_count": null,
   "id": "bb960552",
   "metadata": {},
   "outputs": [],
   "source": [
    "TOP_CATEGORIES_PROMPT = \"\"\"You are will act as a research assistant identifying the top stories and topics\n",
    "of today's news. I will provide a list of today's news stories about AI and summary bullet points in markdown \n",
    "format. You are tasked with identifying the top 10-15 stories and topics of today's news. For each top story\n",
    "or topic, you will create a short title and respond with a list of titles formatted as a JSON object.\n",
    "\n",
    "\n",
    "Example Input Bullet Points:\n",
    "\n",
    "[2. Sentient closes $85M seed round for open-source AI](https://cointelegraph.com/news/sentient-85-million-round-open-source-ai)\n",
    "\n",
    "- Sentient secured $85 million in a seed funding round led by Peter Thiel's Founders Fund, Pantera Capital, and Framework Ventures for their open-source AI platform.\n",
    "- The startup aims to incentivize AI developers with its blockchain protocol and incentive mechanism, allowing for the evolution of open artificial general intelligence.\n",
    "- The tech industry is witnessing a rise in decentralized AI startups combining blockchain\n",
    "\n",
    "Categories of top stories and topics:\n",
    "Major investments and funding rounds\n",
    "Major technological advancements or breakthroughs\n",
    "Frequently mentioned entities such as companies, organizations, or figures\n",
    "Any other frequently discussed events, statements, entities or notable patterns\n",
    "\n",
    "Instructions:\n",
    "Read the summary bullet points closely and use only information provided in them.\n",
    "Focus on the most common elements across all bullet points.\n",
    "Titles of top stories and topics must be as short and simple as possible.\n",
    "You must include at least 10 and no more than 15 topics in the summary.\n",
    "Respond with only the names of the top stories and topics in JSON format, without any comment, summary or discussion.\n",
    "\n",
    "Example Output Format:\n",
    "{'stories' : [\n",
    "  \"Sentient funding\",\n",
    "  \"ChatGPT cybersecurity incident\",\n",
    "  \"ElevenLabs product release\",\n",
    "  \"Microsoft text-to-speech model\"\n",
    "  \"Nvidia reguatory issues\",\n",
    "  \"AI healthcare successes\"\n",
    "  ]\n",
    "}\n",
    "\n",
    "Bullet Points to Analyze:\n",
    "\n",
    "\"\"\""
   ]
  },
  {
   "cell_type": "code",
   "execution_count": 56,
   "id": "92ae185c",
   "metadata": {},
   "outputs": [
    {
     "name": "stderr",
     "output_type": "stream",
     "text": [
      "2024-07-07 18:27:28,952 - httpx - INFO - HTTP Request: POST https://api.openai.com/v1/chat/completions \"HTTP/1.1 200 OK\"\n"
     ]
    }
   ],
   "source": [
    "response = client.chat.completions.create(\n",
    "    model=MODEL,\n",
    "    messages=[\n",
    "              {\"role\": \"user\", \"content\": TOP_CATEGORIES_PROMPT + markdown_str\n",
    "              }],\n",
    "    n=1,\n",
    "    response_format={\"type\": \"json_object\"},\n",
    "    temperature=0.5\n",
    ")\n"
   ]
  },
  {
   "cell_type": "code",
   "execution_count": 57,
   "id": "abce58ea",
   "metadata": {},
   "outputs": [],
   "source": [
    "evergreen = [\n",
    "    \"AI energy\",\n",
    "    \"AI policy and regulation\",\n",
    "    \"AI economic impacts\",\n",
    "    \"Robots\",\n",
    "    \"Autonomous vehicles\",\n",
    "    \"AI jobs\",\n",
    "    \"LLMs\",\n",
    "    \"Healthcare\",\n",
    "    \"Fintech\",\n",
    "    \"Education\"\n",
    "    \"AI startup funding\",\n",
    "    \"AI IPOs\",\n",
    "    \"AI ethical and legal issues\",\n",
    "    \"Cybersecurity\",\n",
    "    \"AI doom\",\n",
    "    'Stocks',\n",
    "    'Climate',\n",
    "    'Scams',\n",
    "    'Privacy',\n",
    "    'Intellectual Property',\n",
    "    'Code generation',\n",
    "    'customer service',\n",
    "    'Reinforcement Learning',\n",
    "    'Open Source',\n",
    "    'Language Models',\n",
    "    'China',\n",
    "    'Military',\n",
    "    'Semiconductor chips',\n",
    "    'Sustainability',\n",
    "    'Agriculture',\n",
    "    'GenAI',\n",
    "    \n",
    "    'Nvidia',\n",
    "    'Google',\n",
    "    'OpenAI',\n",
    "    'Meta',\n",
    "    'Apple',\n",
    "    'Microsoft',\n",
    "    'Salesforce',\n",
    "    'Uber',\n",
    "    'AMD',\n",
    "    'Netflix',\n",
    "    'Disney',\n",
    "    'Amazon',\n",
    "    'Cloudflare',\n",
    "    'Anthropic',\n",
    "    'Cohere',\n",
    "    'Baidu',\n",
    "    'Big Tech',\n",
    "    'Samsung',\n",
    "    \n",
    "    'ChatGPT',\n",
    "    'WhatsApp',\n",
    "    'Gemini',\n",
    "    'Claude',\n",
    "    'Analyst',\n",
    "    \n",
    "    'Elon Musk',\n",
    "    'Bill Gates',\n",
    "    'Sam Altman',\n",
    "    'Mustafa Suleyman',\n",
    "    'Sundar Pichai',\n",
    "    'Yann LeCun',\n",
    "    'Mark Zuckerberg',\n",
    "]"
   ]
  },
  {
   "cell_type": "code",
   "execution_count": 59,
   "id": "8ee1c593",
   "metadata": {},
   "outputs": [
    {
     "data": {
      "text/plain": [
       "['Nvidia downgraded',\n",
       " 'AI tech rally risks',\n",
       " 'Warren Buffett AI stocks',\n",
       " 'Broadcom AI growth',\n",
       " 'AMD bullish sentiment',\n",
       " 'Nvidia vs. AMD',\n",
       " 'Apple AI features',\n",
       " 'ASML stock split potential',\n",
       " 'AI stock surge',\n",
       " 'Super Micro Computer AI',\n",
       " 'Generative AI impact',\n",
       " 'AI search engines',\n",
       " 'Google Circle to Search',\n",
       " 'AI in Indian elections',\n",
       " 'AI in 2024 elections',\n",
       " 'AI in education',\n",
       " 'AI in architecture',\n",
       " 'AI in AEC industry',\n",
       " 'AI in smart homes',\n",
       " 'AI in agriculture',\n",
       " 'AI and sustainability',\n",
       " 'AI and climate crisis',\n",
       " 'Predicting toxic algae blooms',\n",
       " 'AI in disaster relief',\n",
       " 'US-China AI conflict',\n",
       " 'Elon Musk at World AI Conference',\n",
       " 'Big Tech AI revenue',\n",
       " 'Samsung AI profits',\n",
       " 'China AI salaries',\n",
       " 'China AI model glut',\n",
       " 'AI-generated scams',\n",
       " 'Cloudflare AI bot tool',\n",
       " 'AI chatbots in relationships',\n",
       " 'AI in creative projects',\n",
       " 'Generative AI in fashion',\n",
       " 'Meta 3D Gen AI',\n",
       " 'AI patents in Germany',\n",
       " 'AI and copyright',\n",
       " 'AI humanoid robots',\n",
       " 'PyTorch documentary',\n",
       " 'AI in quantum cooling',\n",
       " 'AI in policy learning',\n",
       " 'InternLM2.5-7B-Chat',\n",
       " 'AI in customer service',\n",
       " 'AI in elections',\n",
       " 'AI in fintech',\n",
       " 'Cohere CEO on AI',\n",
       " 'Chief AI officers',\n",
       " 'Generative AI in intelligence',\n",
       " 'AI and digital security',\n",
       " 'AI in job scams',\n",
       " 'AI in photo editing',\n",
       " 'AI in cyberattacks',\n",
       " 'Apple AI focus',\n",
       " 'AI in smartphones',\n",
       " 'Waymo car incident',\n",
       " 'Copilot+ PCs',\n",
       " 'AI containerization',\n",
       " 'Workspaice AI',\n",
       " 'AI data annotation',\n",
       " 'Figma AI design tool',\n",
       " 'Microsoft AI strategy']"
      ]
     },
     "execution_count": 59,
     "metadata": {},
     "output_type": "execute_result"
    }
   ],
   "source": [
    "list(json.loads(response.choices[0].message.content).values())[0]"
   ]
  },
  {
   "cell_type": "code",
   "execution_count": 74,
   "id": "7d6b217b",
   "metadata": {},
   "outputs": [
    {
     "data": {
      "text/plain": [
       "['AI energy',\n",
       " 'AI policy and regulation',\n",
       " 'AI economic impacts',\n",
       " 'Robots',\n",
       " 'Autonomous vehicles',\n",
       " 'AI jobs',\n",
       " 'LLMs',\n",
       " 'Healthcare',\n",
       " 'Fintech',\n",
       " 'EducationAI startup funding',\n",
       " 'AI IPOs',\n",
       " 'AI ethical and legal issues',\n",
       " 'Cybersecurity',\n",
       " 'AI doom',\n",
       " 'Stocks',\n",
       " 'Climate',\n",
       " 'Scams',\n",
       " 'Privacy',\n",
       " 'Intellectual Property',\n",
       " 'Code generation',\n",
       " 'customer service',\n",
       " 'Reinforcement Learning',\n",
       " 'Open Source',\n",
       " 'Language Models',\n",
       " 'China',\n",
       " 'Military',\n",
       " 'Semiconductor chips',\n",
       " 'Sustainability',\n",
       " 'Agriculture',\n",
       " 'GenAI',\n",
       " 'Nvidia',\n",
       " 'Google',\n",
       " 'OpenAI',\n",
       " 'Meta',\n",
       " 'Apple',\n",
       " 'Microsoft',\n",
       " 'Salesforce',\n",
       " 'Uber',\n",
       " 'AMD',\n",
       " 'Netflix',\n",
       " 'Disney',\n",
       " 'Amazon',\n",
       " 'Cloudflare',\n",
       " 'Anthropic',\n",
       " 'Cohere',\n",
       " 'Baidu',\n",
       " 'Big Tech',\n",
       " 'Samsung',\n",
       " 'ChatGPT',\n",
       " 'WhatsApp',\n",
       " 'Gemini',\n",
       " 'Claude',\n",
       " 'Analyst',\n",
       " 'Elon Musk',\n",
       " 'Bill Gates',\n",
       " 'Sam Altman',\n",
       " 'Mustafa Suleyman',\n",
       " 'Sundar Pichai',\n",
       " 'Yann LeCun',\n",
       " 'Mark Zuckerberg']"
      ]
     },
     "execution_count": 74,
     "metadata": {},
     "output_type": "execute_result"
    }
   ],
   "source": [
    "# you could try it with new cats or new cats + evergreen\n",
    "# but probably look at new cats and human in the loop should add good new cats today to evergreen list\n",
    "# new_cats = list(json.loads(response.choices[0].message.content).values())[0]\n",
    "# categories = sorted(list(set(new_cats + evergreen)))\n",
    "categories = evergreen\n",
    "categories\n"
   ]
  },
  {
   "cell_type": "code",
   "execution_count": 75,
   "id": "b7bf376a",
   "metadata": {},
   "outputs": [
    {
     "data": {
      "text/plain": [
       "60"
      ]
     },
     "execution_count": 75,
     "metadata": {},
     "output_type": "execute_result"
    }
   ],
   "source": [
    "len(categories)"
   ]
  },
  {
   "cell_type": "code",
   "execution_count": 76,
   "id": "09c83412",
   "metadata": {},
   "outputs": [
    {
     "name": "stdout",
     "output_type": "stream",
     "text": [
      "Categorizing 112 headlines\n",
      "Categorizing headline 1\n",
      "Categorizing headline 2\n",
      "Categorizing headline 3\n",
      "Categorizing headline 4\n",
      "Categorizing headline 5\n",
      "Categorizing headline 6\n",
      "Categorizing headline 7\n",
      "Categorizing headline 8\n",
      "Categorizing headline 9\n",
      "Categorizing headline 10\n",
      "Categorizing headline 11\n",
      "Categorizing headline 12\n",
      "Categorizing headline 13\n",
      "Categorizing headline 14\n",
      "Categorizing headline 15\n",
      "Categorizing headline 16\n",
      "Categorizing headline 17\n",
      "Categorizing headline 18\n",
      "Categorizing headline 19\n",
      "Categorizing headline 20\n",
      "Categorizing headline 21\n",
      "Categorizing headline 22\n",
      "Categorizing headline 23\n",
      "Categorizing headline 24\n",
      "Categorizing headline 25\n",
      "Categorizing headline 26\n",
      "Categorizing headline 27\n",
      "Categorizing headline 28\n",
      "Categorizing headline 29\n",
      "Categorizing headline 30\n",
      "Categorizing headline 31\n",
      "Categorizing headline 32\n",
      "Categorizing headline 33\n",
      "Categorizing headline 34\n",
      "Categorizing headline 35\n",
      "Categorizing headline 36\n",
      "Categorizing headline 37\n",
      "Categorizing headline 38\n",
      "Categorizing headline 39\n",
      "Categorizing headline 40\n",
      "Categorizing headline 41\n",
      "Categorizing headline 42\n",
      "Categorizing headline 43\n",
      "Categorizing headline 44\n",
      "Categorizing headline 45\n",
      "Categorizing headline 46\n",
      "Categorizing headline 47\n",
      "Categorizing headline 48\n",
      "Categorizing headline 49\n",
      "Categorizing headline 50\n",
      "Categorizing headline 51\n",
      "Categorizing headline 52\n",
      "Categorizing headline 53\n",
      "Categorizing headline 54\n",
      "Categorizing headline 55\n",
      "Categorizing headline 56\n",
      "Categorizing headline 57\n",
      "Categorizing headline 58\n",
      "Categorizing headline 59\n",
      "Categorizing headline 60\n",
      "Categorizing headline 61\n",
      "Categorizing headline 62\n",
      "Categorizing headline 63\n",
      "Categorizing headline 64\n",
      "Categorizing headline 65\n",
      "Categorizing headline 66\n",
      "Categorizing headline 67\n",
      "Categorizing headline 68\n",
      "Categorizing headline 69\n",
      "Categorizing headline 70\n",
      "Categorizing headline 71\n",
      "Categorizing headline 72\n",
      "Categorizing headline 73\n",
      "Categorizing headline 74\n",
      "Categorizing headline 75\n",
      "Categorizing headline 76\n",
      "Categorizing headline 77\n",
      "Categorizing headline 78\n",
      "Categorizing headline 79\n",
      "Categorizing headline 80\n",
      "Categorizing headline 81\n",
      "Categorizing headline 82\n",
      "Categorizing headline 83\n",
      "Categorizing headline 84\n",
      "Categorizing headline 85\n",
      "Categorizing headline 86\n",
      "Categorizing headline 87\n",
      "Categorizing headline 88\n",
      "Categorizing headline 89\n",
      "Categorizing headline 90\n",
      "Categorizing headline 91\n",
      "Categorizing headline 92\n",
      "Categorizing headline 93\n",
      "Categorizing headline 94\n",
      "Categorizing headline 95\n",
      "Categorizing headline 96\n",
      "Categorizing headline 97\n",
      "Categorizing headline 98\n",
      "Categorizing headline 99\n",
      "Categorizing headline 100\n",
      "Categorizing headline 101\n",
      "Categorizing headline 102\n",
      "Categorizing headline 103\n",
      "Categorizing headline 104\n",
      "Categorizing headline 105\n",
      "Categorizing headline 106\n",
      "Categorizing headline 107\n",
      "Categorizing headline 108\n",
      "Categorizing headline 109\n",
      "Categorizing headline 110\n",
      "Categorizing headline 111\n",
      "Categorizing headline 112\n"
     ]
    }
   ],
   "source": [
    "async def categorize_story(headline, categories, session, \n",
    "                           model=LOWCOST_MODEL,\n",
    "                           temperature=0.5,\n",
    "                           max_retries=MAX_RETRIES):\n",
    "    \n",
    "    retlist = []\n",
    "    if type(categories) is not list:\n",
    "        categories = [categories]\n",
    "    for topic in categories:\n",
    "        cat_prompt = f\"\"\"You are a news topic categorizaton assistant. I will provide a headline \n",
    "and a topic. You will respond with a JSON object {{'response': 1}} if the news headline matches \n",
    "the news topic and {{'response': 0}} if it does not. Check carefully and only return {{'response': 1}}\n",
    "if the headline closely matches the topic. If the headline is not a close match or if unsure, \n",
    "return {{'response': 0}}\n",
    "Headline:\n",
    "{headline}\n",
    "Topic:\n",
    "{topic}\n",
    "\"\"\"\n",
    "        for i in range(max_retries):\n",
    "            try:\n",
    "                messages=[\n",
    "                          {\"role\": \"user\", \"content\": cat_prompt\n",
    "                          }]\n",
    "\n",
    "                payload = {\"model\":  model,\n",
    "                           \"response_format\": {\"type\": \"json_object\"},\n",
    "                           \"messages\": messages,\n",
    "                           \"temperature\": temperature\n",
    "                           }\n",
    "                response = await fetch_openai(session, payload)\n",
    "                response_dict = json.loads(response[\"choices\"][0][\"message\"][\"content\"])\n",
    "                response_val = response_dict['response']\n",
    "                if response_val == 1:\n",
    "                    retlist.append(topic)\n",
    "                break\n",
    "            except Exception as exc:\n",
    "                log(f\"Error: {exc}\")\n",
    "\n",
    "            \n",
    "    return retlist\n",
    "        \n",
    "\n",
    "h = \"Utility stocks are Wall Streets secret backdoor to AI\"\n",
    "catdict = dict()\n",
    "\n",
    "async with aiohttp.ClientSession() as session:\n",
    "    for i, row in enumerate(AIdf.itertuples()):\n",
    "        tasks = []\n",
    "        log(f\"Categorizing headline {row.id+1} of {len(AIdf)}\")\n",
    "        h = row.title\n",
    "        log(h)\n",
    "        for c in categories:\n",
    "            task = asyncio.create_task(categorize_story(h, c, session))\n",
    "            tasks.append(task)\n",
    "        responses = await asyncio.gather(*tasks)\n",
    "        catdict[row.id] = [item for sublist in responses for item in sublist]\n",
    "        log(str(catdict[row.id]))\n",
    "        \n"
   ]
  },
  {
   "cell_type": "markdown",
   "id": "22e779de",
   "metadata": {},
   "source": [
    "### Cluster with DBSCAN"
   ]
  },
  {
   "cell_type": "code",
   "execution_count": null,
   "id": "0fabcac6",
   "metadata": {},
   "outputs": [],
   "source": [
    "# embedding_model = 'text-embedding-3-large'\n",
    "# chunksize = 1000\n",
    "# e_results = []\n",
    "# for start in range(0, len(ai_history_df), chunksize):\n",
    "#     tempdf = ai_history_df.iloc[start:start+chunksize]\n",
    "#     templist = tempdf['title'].tolist()\n",
    "#     log(f\"Fetching embeddings for {len(templist)} headlines starting at row {start}\")\n",
    "#     response = client.embeddings.create(input=templist,\n",
    "#                                         model=embedding_model)\n",
    "#     e_results.append(pd.DataFrame([e.model_dump()['embedding'] for e in response.data]))\n"
   ]
  },
  {
   "cell_type": "code",
   "execution_count": null,
   "id": "071726e5",
   "metadata": {},
   "outputs": [],
   "source": [
    "# historical_embedding_df = pd.concat(e_results)\n",
    "# historical_embedding_df.shape\n"
   ]
  },
  {
   "cell_type": "code",
   "execution_count": null,
   "id": "dd547425",
   "metadata": {},
   "outputs": [],
   "source": [
    "# historical_embedding_df.to_pickle('historical_embedding_df.pkl')\n"
   ]
  },
  {
   "cell_type": "code",
   "execution_count": 86,
   "id": "cffef1ba",
   "metadata": {},
   "outputs": [],
   "source": [
    "import numpy as np\n",
    "import umap\n",
    "import matplotlib.pyplot as plt\n",
    "from sklearn.cluster import KMeans\n",
    "from sklearn.metrics import silhouette_score\n",
    "import pickle\n",
    "from sklearn.cluster import DBSCAN\n"
   ]
  },
  {
   "cell_type": "code",
   "execution_count": 100,
   "id": "8ba45a26",
   "metadata": {},
   "outputs": [
    {
     "name": "stderr",
     "output_type": "stream",
     "text": [
      "2024-07-07 19:27:02,280 - AInewsbot - INFO - Fetching embeddings for 112 headlines\n",
      "2024-07-07 19:27:02,856 - httpx - INFO - HTTP Request: POST https://api.openai.com/v1/embeddings \"HTTP/1.1 200 OK\"\n"
     ]
    }
   ],
   "source": [
    "log(f\"Fetching embeddings for {len(AIdf)} headlines\")\n",
    "embedding_model = 'text-embedding-3-large'\n",
    "response = client.embeddings.create(input=AIdf['title'].tolist(),\n",
    "                                    model=embedding_model)\n",
    "embedding_df = pd.DataFrame([e.model_dump()['embedding'] for e in response.data])\n"
   ]
  },
  {
   "cell_type": "code",
   "execution_count": null,
   "id": "09bb27dc",
   "metadata": {},
   "outputs": [],
   "source": [
    "# reducer = umap.UMAP(n_components=30)  # Reducing to 30 dimensions\n",
    "# reduced_data = reducer.fit_transform(historical_embedding_df)\n",
    "# with open('umap_model.pkl', 'wb') as file:\n",
    "#     pickle.dump(reducer, file)"
   ]
  },
  {
   "cell_type": "code",
   "execution_count": 87,
   "id": "35f7cd94",
   "metadata": {},
   "outputs": [],
   "source": [
    "with open(\"umap_model.pkl\", 'rb') as file:\n",
    "    # Load the model from the file\n",
    "    reducer = pickle.load(file)\n",
    "    "
   ]
  },
  {
   "cell_type": "code",
   "execution_count": 101,
   "id": "8effba5c",
   "metadata": {},
   "outputs": [],
   "source": [
    "reduced_data = reducer.transform(embedding_df)\n"
   ]
  },
  {
   "cell_type": "code",
   "execution_count": 116,
   "id": "62bc45e1",
   "metadata": {},
   "outputs": [
    {
     "name": "stdout",
     "output_type": "stream",
     "text": [
      "Silhouette Score: 0.42370685935020447\n"
     ]
    },
    {
     "data": {
      "image/png": "[encoded data removed]",
      "text/plain": [
       "<Figure size 640x480 with 2 Axes>"
      ]
     },
     "metadata": {},
     "output_type": "display_data"
    }
   ],
   "source": [
    "# Apply a Clustering Algorithm (e.g., K-Means)\n",
    "kmeans = KMeans(n_clusters=30)  # Example with 10 clusters\n",
    "clusters = kmeans.fit_predict(reduced_data)\n",
    "\n",
    "# Evaluate the Clustering\n",
    "silhouette_avg = silhouette_score(reduced_data, clusters)\n",
    "print(f'Silhouette Score: {silhouette_avg}')\n",
    "\n",
    "# Visualization with UMAP (optional)\n",
    "reducer_2d = umap.UMAP(n_components=2)  # Reducing to 2 dimensions for visualization\n",
    "reduced_data_2d = reducer_2d.fit_transform(embedding_df)\n",
    "\n",
    "plt.scatter(reduced_data_2d[:, 0], reduced_data_2d[:, 1], c=clusters, cmap='viridis', s=5)\n",
    "plt.colorbar(boundaries=np.arange(11)-0.5).set_ticks(np.arange(10))\n",
    "plt.title('UMAP Projection of the News Headlines Clusters')\n",
    "plt.show()"
   ]
  },
  {
   "cell_type": "code",
   "execution_count": 102,
   "id": "ba460796",
   "metadata": {},
   "outputs": [],
   "source": [
    "dbscan = DBSCAN(eps=0.5, min_samples=3)  # Adjust eps and min_samples as needed\n",
    "clusters = dbscan.fit_predict(reduced_data)\n",
    "\n",
    "AIdf['cluster'] = clusters"
   ]
  },
  {
   "cell_type": "code",
   "execution_count": 115,
   "id": "06de386f",
   "metadata": {},
   "outputs": [
    {
     "data": {
      "text/html": [
       "<div>\n",
       "<style scoped>\n",
       "    .dataframe tbody tr th:only-of-type {\n",
       "        vertical-align: middle;\n",
       "    }\n",
       "\n",
       "    .dataframe tbody tr th {\n",
       "        vertical-align: top;\n",
       "    }\n",
       "\n",
       "    .dataframe thead th {\n",
       "        text-align: right;\n",
       "    }\n",
       "</style>\n",
       "<table border=\"1\" class=\"dataframe\">\n",
       "  <thead>\n",
       "    <tr style=\"text-align: right;\">\n",
       "      <th></th>\n",
       "      <th>title</th>\n",
       "    </tr>\n",
       "  </thead>\n",
       "  <tbody>\n",
       "    <tr>\n",
       "      <th>8</th>\n",
       "      <td>AI Stocks Keep Surging. Buy 2 That Havent.</td>\n",
       "    </tr>\n",
       "    <tr>\n",
       "      <th>12</th>\n",
       "      <td>1 Phenomenal Stock That Could Join Microsoft, Apple, Nvidia, Alphabet, Amazon, and Meta in the $1 Trillion Club</td>\n",
       "    </tr>\n",
       "    <tr>\n",
       "      <th>13</th>\n",
       "      <td>3 Rapidly Rising Companies Set to Join the $1 Trillion Club</td>\n",
       "    </tr>\n",
       "  </tbody>\n",
       "</table>\n",
       "</div>"
      ],
      "text/plain": [
       "                                                                                                              title\n",
       "8                                                                        AI Stocks Keep Surging. Buy 2 That Havent.\n",
       "12  1 Phenomenal Stock That Could Join Microsoft, Apple, Nvidia, Alphabet, Amazon, and Meta in the $1 Trillion Club\n",
       "13                                                      3 Rapidly Rising Companies Set to Join the $1 Trillion Club"
      ]
     },
     "metadata": {},
     "output_type": "display_data"
    },
    {
     "data": {
      "text/html": [
       "<div>\n",
       "<style scoped>\n",
       "    .dataframe tbody tr th:only-of-type {\n",
       "        vertical-align: middle;\n",
       "    }\n",
       "\n",
       "    .dataframe tbody tr th {\n",
       "        vertical-align: top;\n",
       "    }\n",
       "\n",
       "    .dataframe thead th {\n",
       "        text-align: right;\n",
       "    }\n",
       "</style>\n",
       "<table border=\"1\" class=\"dataframe\">\n",
       "  <thead>\n",
       "    <tr style=\"text-align: right;\">\n",
       "      <th></th>\n",
       "      <th>title</th>\n",
       "    </tr>\n",
       "  </thead>\n",
       "  <tbody>\n",
       "    <tr>\n",
       "      <th>17</th>\n",
       "      <td>AI's 'positive role' during Indian polls amidst deepfakes disinformation</td>\n",
       "    </tr>\n",
       "    <tr>\n",
       "      <th>18</th>\n",
       "      <td>Our Chicago: Could artificial intelligence impact 2024 election as voters choose between Joe Biden, Donald Trump?</td>\n",
       "    </tr>\n",
       "    <tr>\n",
       "      <th>19</th>\n",
       "      <td>Program looks at AI's impact on politics in La Crosse</td>\n",
       "    </tr>\n",
       "  </tbody>\n",
       "</table>\n",
       "</div>"
      ],
      "text/plain": [
       "                                                                                                                title\n",
       "17                                           AI's 'positive role' during Indian polls amidst deepfakes disinformation\n",
       "18  Our Chicago: Could artificial intelligence impact 2024 election as voters choose between Joe Biden, Donald Trump?\n",
       "19                                                              Program looks at AI's impact on politics in La Crosse"
      ]
     },
     "metadata": {},
     "output_type": "display_data"
    },
    {
     "data": {
      "text/html": [
       "<div>\n",
       "<style scoped>\n",
       "    .dataframe tbody tr th:only-of-type {\n",
       "        vertical-align: middle;\n",
       "    }\n",
       "\n",
       "    .dataframe tbody tr th {\n",
       "        vertical-align: top;\n",
       "    }\n",
       "\n",
       "    .dataframe thead th {\n",
       "        text-align: right;\n",
       "    }\n",
       "</style>\n",
       "<table border=\"1\" class=\"dataframe\">\n",
       "  <thead>\n",
       "    <tr style=\"text-align: right;\">\n",
       "      <th></th>\n",
       "      <th>title</th>\n",
       "    </tr>\n",
       "  </thead>\n",
       "  <tbody>\n",
       "    <tr>\n",
       "      <th>20</th>\n",
       "      <td>Georgia artificial intelligence program teaches kids about bias in policing</td>\n",
       "    </tr>\n",
       "    <tr>\n",
       "      <th>21</th>\n",
       "      <td>California Teachers are Using AI to Grade Papers. Whos Grading the AI?</td>\n",
       "    </tr>\n",
       "    <tr>\n",
       "      <th>22</th>\n",
       "      <td>Will artificial intelligence transform school?</td>\n",
       "    </tr>\n",
       "  </tbody>\n",
       "</table>\n",
       "</div>"
      ],
      "text/plain": [
       "                                                                          title\n",
       "20  Georgia artificial intelligence program teaches kids about bias in policing\n",
       "21       California Teachers are Using AI to Grade Papers. Whos Grading the AI?\n",
       "22                               Will artificial intelligence transform school?"
      ]
     },
     "metadata": {},
     "output_type": "display_data"
    },
    {
     "data": {
      "text/html": [
       "<div>\n",
       "<style scoped>\n",
       "    .dataframe tbody tr th:only-of-type {\n",
       "        vertical-align: middle;\n",
       "    }\n",
       "\n",
       "    .dataframe tbody tr th {\n",
       "        vertical-align: top;\n",
       "    }\n",
       "\n",
       "    .dataframe thead th {\n",
       "        text-align: right;\n",
       "    }\n",
       "</style>\n",
       "<table border=\"1\" class=\"dataframe\">\n",
       "  <thead>\n",
       "    <tr style=\"text-align: right;\">\n",
       "      <th></th>\n",
       "      <th>title</th>\n",
       "    </tr>\n",
       "  </thead>\n",
       "  <tbody>\n",
       "    <tr>\n",
       "      <th>23</th>\n",
       "      <td>So how are we doing with AI in architectural design?</td>\n",
       "    </tr>\n",
       "    <tr>\n",
       "      <th>24</th>\n",
       "      <td>Harnessing AI and technological advancements in the AEC industry for enhanced efficiency and productivity</td>\n",
       "    </tr>\n",
       "    <tr>\n",
       "      <th>27</th>\n",
       "      <td>HowArtificial IntelligenceCan Make Our Smart Homes, Smarter</td>\n",
       "    </tr>\n",
       "  </tbody>\n",
       "</table>\n",
       "</div>"
      ],
      "text/plain": [
       "                                                                                                        title\n",
       "23                                                       So how are we doing with AI in architectural design?\n",
       "24  Harnessing AI and technological advancements in the AEC industry for enhanced efficiency and productivity\n",
       "27                                                HowArtificial IntelligenceCan Make Our Smart Homes, Smarter"
      ]
     },
     "metadata": {},
     "output_type": "display_data"
    },
    {
     "data": {
      "text/html": [
       "<div>\n",
       "<style scoped>\n",
       "    .dataframe tbody tr th:only-of-type {\n",
       "        vertical-align: middle;\n",
       "    }\n",
       "\n",
       "    .dataframe tbody tr th {\n",
       "        vertical-align: top;\n",
       "    }\n",
       "\n",
       "    .dataframe thead th {\n",
       "        text-align: right;\n",
       "    }\n",
       "</style>\n",
       "<table border=\"1\" class=\"dataframe\">\n",
       "  <thead>\n",
       "    <tr style=\"text-align: right;\">\n",
       "      <th></th>\n",
       "      <th>title</th>\n",
       "    </tr>\n",
       "  </thead>\n",
       "  <tbody>\n",
       "    <tr>\n",
       "      <th>28</th>\n",
       "      <td>Personalized AI Farming Assistants</td>\n",
       "    </tr>\n",
       "    <tr>\n",
       "      <th>29</th>\n",
       "      <td>AI Can Learn Uses for Modern-Day Agriculture</td>\n",
       "    </tr>\n",
       "    <tr>\n",
       "      <th>30</th>\n",
       "      <td>Artificial Intelligence is being trained to help all areas of agriculture</td>\n",
       "    </tr>\n",
       "  </tbody>\n",
       "</table>\n",
       "</div>"
      ],
      "text/plain": [
       "                                                                        title\n",
       "28                                         Personalized AI Farming Assistants\n",
       "29                               AI Can Learn Uses for Modern-Day Agriculture\n",
       "30  Artificial Intelligence is being trained to help all areas of agriculture"
      ]
     },
     "metadata": {},
     "output_type": "display_data"
    },
    {
     "data": {
      "text/html": [
       "<div>\n",
       "<style scoped>\n",
       "    .dataframe tbody tr th:only-of-type {\n",
       "        vertical-align: middle;\n",
       "    }\n",
       "\n",
       "    .dataframe tbody tr th {\n",
       "        vertical-align: top;\n",
       "    }\n",
       "\n",
       "    .dataframe thead th {\n",
       "        text-align: right;\n",
       "    }\n",
       "</style>\n",
       "<table border=\"1\" class=\"dataframe\">\n",
       "  <thead>\n",
       "    <tr style=\"text-align: right;\">\n",
       "      <th></th>\n",
       "      <th>title</th>\n",
       "    </tr>\n",
       "  </thead>\n",
       "  <tbody>\n",
       "    <tr>\n",
       "      <th>43</th>\n",
       "      <td>Banks Must Guard against Scammers Using AI</td>\n",
       "    </tr>\n",
       "    <tr>\n",
       "      <th>59</th>\n",
       "      <td>GenAI Helps Drive 118% Increase in Job Scams, ITRC Says</td>\n",
       "    </tr>\n",
       "    <tr>\n",
       "      <th>60</th>\n",
       "      <td>Job scams surged 118% in 2023, aided by AI. Here's how to stop them</td>\n",
       "    </tr>\n",
       "    <tr>\n",
       "      <th>63</th>\n",
       "      <td>Real criminals, fake victims: how chatbots are being deployed in the global fight against phone scammers</td>\n",
       "    </tr>\n",
       "  </tbody>\n",
       "</table>\n",
       "</div>"
      ],
      "text/plain": [
       "                                                                                                       title\n",
       "43                                                                Banks Must Guard against Scammers Using AI\n",
       "59                                                   GenAI Helps Drive 118% Increase in Job Scams, ITRC Says\n",
       "60                                       Job scams surged 118% in 2023, aided by AI. Here's how to stop them\n",
       "63  Real criminals, fake victims: how chatbots are being deployed in the global fight against phone scammers"
      ]
     },
     "metadata": {},
     "output_type": "display_data"
    },
    {
     "data": {
      "text/html": [
       "<div>\n",
       "<style scoped>\n",
       "    .dataframe tbody tr th:only-of-type {\n",
       "        vertical-align: middle;\n",
       "    }\n",
       "\n",
       "    .dataframe tbody tr th {\n",
       "        vertical-align: top;\n",
       "    }\n",
       "\n",
       "    .dataframe thead th {\n",
       "        text-align: right;\n",
       "    }\n",
       "</style>\n",
       "<table border=\"1\" class=\"dataframe\">\n",
       "  <thead>\n",
       "    <tr style=\"text-align: right;\">\n",
       "      <th></th>\n",
       "      <th>title</th>\n",
       "    </tr>\n",
       "  </thead>\n",
       "  <tbody>\n",
       "    <tr>\n",
       "      <th>73</th>\n",
       "      <td>OpenAI-Powered Humanoid Robot Fills Spot At BMW Assembly Plant</td>\n",
       "    </tr>\n",
       "    <tr>\n",
       "      <th>74</th>\n",
       "      <td>Figure 01: Coffee-making humanoid robot now shows car assembly skill at BMW</td>\n",
       "    </tr>\n",
       "    <tr>\n",
       "      <th>75</th>\n",
       "      <td>Video: Figure 01 humanoid trains for its first job assembling BMWs</td>\n",
       "    </tr>\n",
       "    <tr>\n",
       "      <th>76</th>\n",
       "      <td>Watch: Figure's 01 humanoids now working at BMW's car plant in US</td>\n",
       "    </tr>\n",
       "  </tbody>\n",
       "</table>\n",
       "</div>"
      ],
      "text/plain": [
       "                                                                          title\n",
       "73               OpenAI-Powered Humanoid Robot Fills Spot At BMW Assembly Plant\n",
       "74  Figure 01: Coffee-making humanoid robot now shows car assembly skill at BMW\n",
       "75           Video: Figure 01 humanoid trains for its first job assembling BMWs\n",
       "76            Watch: Figure's 01 humanoids now working at BMW's car plant in US"
      ]
     },
     "metadata": {},
     "output_type": "display_data"
    },
    {
     "data": {
      "text/html": [
       "<div>\n",
       "<style scoped>\n",
       "    .dataframe tbody tr th:only-of-type {\n",
       "        vertical-align: middle;\n",
       "    }\n",
       "\n",
       "    .dataframe tbody tr th {\n",
       "        vertical-align: top;\n",
       "    }\n",
       "\n",
       "    .dataframe thead th {\n",
       "        text-align: right;\n",
       "    }\n",
       "</style>\n",
       "<table border=\"1\" class=\"dataframe\">\n",
       "  <thead>\n",
       "    <tr style=\"text-align: right;\">\n",
       "      <th></th>\n",
       "      <th>title</th>\n",
       "    </tr>\n",
       "  </thead>\n",
       "  <tbody>\n",
       "    <tr>\n",
       "      <th>82</th>\n",
       "      <td>Policy Learning with Large World Models: Advancing Multi-Task Reinforcement Learning Efficiency and Performance</td>\n",
       "    </tr>\n",
       "    <tr>\n",
       "      <th>83</th>\n",
       "      <td>InternLM2.5-7B-Chat: Open Sourcing Large Language Models with Unmatched Reasoning, Long-Context Handling, and Enhanced Tool Use</td>\n",
       "    </tr>\n",
       "    <tr>\n",
       "      <th>84</th>\n",
       "      <td>Reasoning in Large Language Models: A Geometric Perspective</td>\n",
       "    </tr>\n",
       "  </tbody>\n",
       "</table>\n",
       "</div>"
      ],
      "text/plain": [
       "                                                                                                                              title\n",
       "82                  Policy Learning with Large World Models: Advancing Multi-Task Reinforcement Learning Efficiency and Performance\n",
       "83  InternLM2.5-7B-Chat: Open Sourcing Large Language Models with Unmatched Reasoning, Long-Context Handling, and Enhanced Tool Use\n",
       "84                                                                      Reasoning in Large Language Models: A Geometric Perspective"
      ]
     },
     "metadata": {},
     "output_type": "display_data"
    },
    {
     "data": {
      "text/html": [
       "<div>\n",
       "<style scoped>\n",
       "    .dataframe tbody tr th:only-of-type {\n",
       "        vertical-align: middle;\n",
       "    }\n",
       "\n",
       "    .dataframe tbody tr th {\n",
       "        vertical-align: top;\n",
       "    }\n",
       "\n",
       "    .dataframe thead th {\n",
       "        text-align: right;\n",
       "    }\n",
       "</style>\n",
       "<table border=\"1\" class=\"dataframe\">\n",
       "  <thead>\n",
       "    <tr style=\"text-align: right;\">\n",
       "      <th></th>\n",
       "      <th>title</th>\n",
       "    </tr>\n",
       "  </thead>\n",
       "  <tbody>\n",
       "    <tr>\n",
       "      <th>85</th>\n",
       "      <td>Workplace harrasment diagram by chatGPT</td>\n",
       "    </tr>\n",
       "    <tr>\n",
       "      <th>87</th>\n",
       "      <td>How ChatGPT is Revolutionizing Customer Service in 2024</td>\n",
       "    </tr>\n",
       "    <tr>\n",
       "      <th>88</th>\n",
       "      <td>What are some creative or unexpected uses of ChatGPT youve discovered?</td>\n",
       "    </tr>\n",
       "  </tbody>\n",
       "</table>\n",
       "</div>"
      ],
      "text/plain": [
       "                                                                     title\n",
       "85                                 Workplace harrasment diagram by chatGPT\n",
       "87                 How ChatGPT is Revolutionizing Customer Service in 2024\n",
       "88  What are some creative or unexpected uses of ChatGPT youve discovered?"
      ]
     },
     "metadata": {},
     "output_type": "display_data"
    }
   ],
   "source": [
    "with pd.option_context('display.max_rows', None, 'display.max_colwidth', None):\n",
    "    for i in range(30):\n",
    "        tmpdf = AIdf.loc[AIdf['cluster']==i][[\"title\"]]\n",
    "        if len(tmpdf) ==0:\n",
    "            break\n",
    "        display(tmpdf)\n",
    "    \n"
   ]
  },
  {
   "cell_type": "markdown",
   "id": "7e426c2c",
   "metadata": {},
   "source": [
    "# Final Summary"
   ]
  },
  {
   "cell_type": "code",
   "execution_count": 77,
   "id": "210e76a3",
   "metadata": {},
   "outputs": [
    {
     "data": {
      "text/markdown": [
       "[1. 5 big analyst AI moves: Nvidia downgraded on limited further upside - Feedly AI](https://www.investing.com/news/stock-market-news/5-big-analyst-ai-moves-nvidia-downgraded-on-limited-further-upside-3509545)  \n",
       "\n",
       "Topics: Stocks, Semiconductor chips, Nvidia, Analyst\n",
       "\n",
       "- New Street Research downgraded Nvidia stock to Neutral from Buy due to limited further upside based on GPU revenue projections and potential competition.\n",
       "- UBS downgraded Pure Storage to Sell, expressing concerns about slowing growth, declining market share, high valuation, and exaggerated emphasis on AI.\n",
       "- Bank of America elevated Dell to its US 1 List, highlighting positive prospects for the company linked to AI server demand, storage needs, and an anticipated PC refresh. \n",
       "\n"
      ],
      "text/plain": [
       "<IPython.core.display.Markdown object>"
      ]
     },
     "metadata": {},
     "output_type": "display_data"
    },
    {
     "data": {
      "text/markdown": [
       "[2. Two risks to the AI tech rally - Feedly AI](https://au.investing.com/news/stock-market-news/two-risks-to-the-ai-tech-rally-432SI-3330078)  \n",
       "\n",
       "Topics: AI economic impacts, AI doom, Nvidia\n",
       "\n",
       "- Yardeni Research identifies two risks to the AI tech rally: excessive capital influx into AI startups and overhyped expectations in the industry.\n",
       "- Concerns include the significant amount of funding ($330 billion into 26,000 AI startups in 3 years), leading to a crowded market with profitability challenges and potential financial difficulties for startups.\n",
       "- Analysts caution about inflated claims by industry leaders like Nvidia's CEO, highlighting the need for caution due to possible AI bubble and uncertainties surrounding AI's efficiency gains and industry volatility. \n",
       "\n"
      ],
      "text/plain": [
       "<IPython.core.display.Markdown object>"
      ]
     },
     "metadata": {},
     "output_type": "display_data"
    },
    {
     "data": {
      "text/markdown": [
       "[3. 45% of Warren Buffett's $398 Billion Portfolio Is Invested in 3 Artificial Intelligence (AI) Stocks - Google News](https://news.google.com/articles/CBMiW2h0dHBzOi8vd3d3LmZvb2wuY29tL2ludmVzdGluZy8yMDI0LzA3LzA3LzQ1LXdhcnJlbi1idWZmZXR0cy0zOTgtYmlsbGlvbi1pcy1pbi0zLWFpLXN0b2Nrcy_SAQA)  \n",
       "\n",
       "Topics: AI economic impacts, Stocks, GenAI\n",
       "\n",
       "- Warren Buffett's investment strategy at Berkshire Hathaway focuses on companies with steady growth, reliable profitability, and shareholder-friendly initiatives.\n",
       "- Three AI stocks in Berkshire Hathaway's portfolio, Snowflake, Amazon, and Apple, are positioned to benefit substantially from the AI revolution.\n",
       "- Apple is Berkshire Hathaway's largest position at 44.5%, having steadily grown since 2016 and introducing Apple Intelligence software to enhance user experience with AI capabilities. \n",
       "\n"
      ],
      "text/plain": [
       "<IPython.core.display.Markdown object>"
      ]
     },
     "metadata": {},
     "output_type": "display_data"
    },
    {
     "data": {
      "text/markdown": [
       "[4. Broadcom: An Essential Company For AI Investors (NASDAQ:AVGO) - Google News](https://news.google.com/articles/CBMiV2h0dHBzOi8vc2Vla2luZ2FscGhhLmNvbS9hcnRpY2xlLzQ3MDE4MDEtYnJvYWRjb20tYW4tZXNzZW50aWFsLWNvbXBhbnktZm9yLWFpLWludmVzdG9yc9IBAA)  \n",
       "\n",
       "Topics: AI economic impacts, Stocks, Semiconductor chips, Big Tech\n",
       "\n",
       "- Broadcom is viewed as an essential company for AI investors due to its strong AI-related revenue growth, diversified offerings, high profitability, and potential for growth in semiconductor products.\n",
       "- Intrinsic value calculations suggest that Broadcom (AVGO) is currently trading at a discount, with a 9% potential upside, making it an attractive opportunity for investors.\n",
       "- Broadcom's focus on AI servers, data centers, and semiconductor products for the Internet-of-Things industry positions the company for future growth, with a strong emphasis on innovation and technological excellence. \n",
       "\n"
      ],
      "text/plain": [
       "<IPython.core.display.Markdown object>"
      ]
     },
     "metadata": {},
     "output_type": "display_data"
    },
    {
     "data": {
      "text/markdown": [
       "[5. Advanced Micro Devices, Inc. (AMD): Hedge Funds Are Bullish On This AI Stock Right Now - Google News](https://news.google.com/articles/CBMiTGh0dHBzOi8vZmluYW5jZS55YWhvby5jb20vbmV3cy9hZHZhbmNlZC1taWNyby1kZXZpY2VzLWluYy1hbWQtMDI1NjM1ODE4Lmh0bWzSAQA)  \n",
       "\n",
       "Topics: AI economic impacts, Stocks, Semiconductor chips, AMD\n",
       "\n",
       "- Advanced Micro Devices, Inc. (AMD) ranks seventh on the list of biggest AI stories, with hedge funds showing bullish sentiment towards the stock\n",
       "- China is developing new AI patents faster than the US, potentially posing a threat\n",
       "- AMD is disrupting various industries with AI, achieving significant revenue growth and attracting hedge fund investments worth $15.63 billion \n",
       "\n"
      ],
      "text/plain": [
       "<IPython.core.display.Markdown object>"
      ]
     },
     "metadata": {},
     "output_type": "display_data"
    },
    {
     "data": {
      "text/markdown": [
       "[6. Better Artificial Intelligence (AI) Stock: Nvidia vs. AMD - Google News](https://news.google.com/articles/CBMiXWh0dHBzOi8vd3d3LmZvb2wuY29tL2ludmVzdGluZy8yMDI0LzA3LzAyL2JldHRlci1hcnRpZmljaWFsLWludGVsbGlnZW5jZS1zdG9jay1udmlkaWEtdnMtYW1kL9IBAA)  \n",
       "\n",
       "Topics: Stocks, Semiconductor chips, Nvidia, AMD\n",
       "\n",
       "- Nvidia and AMD are leading players in the AI chip market, with Nvidia holding an estimated 90% market share in AI chips due to its dominance in GPUs.\n",
       "- While both companies are compelling investments as the AI market grows, Nvidia has shown stronger financial growth and free cash flow compared to AMD, making it a better long-term investment.\n",
       "- Despite both stocks being considered overvalued currently, Nvidia offers better value for investors due to its financial performance and dominance in AI chip segments. \n",
       "\n"
      ],
      "text/plain": [
       "<IPython.core.display.Markdown object>"
      ]
     },
     "metadata": {},
     "output_type": "display_data"
    },
    {
     "data": {
      "text/markdown": [
       "[7. Apple's New Artificial Intelligence (AI) Features Could Push This Semiconductor Company to a $1 Trillion Valuation - Google News](https://news.google.com/articles/CBMiXWh0dHBzOi8vd3d3LmZvb2wuY29tL2ludmVzdGluZy8yMDI0LzA3LzA0L2FwcGxlcy1uZXctYXJ0aWZpY2lhbC1pbnRlbGxpZ2VuY2UtYWktZmVhdHVyZXMtY291L9IBAA)  \n",
       "\n",
       "Topics: AI economic impacts, Stocks, Semiconductor chips, Nvidia, Apple, Big Tech\n",
       "\n",
       "- Apple's new AI features rely on its own silicon chip designs, benefiting semiconductor company Taiwan Semiconductor Manufacturing (TSM) with potential for increased orders.\n",
       "- Apple's on-device AI processing with Apple Intelligence could boost TSM's sales as Apple leads the way in this technology.\n",
       "- TSM, already a significant player in chip manufacturing, stands to benefit from Apple's strong iPhone upgrade cycle, demand from Apple's data centers, and the growing trend towards edge computing. \n",
       "\n"
      ],
      "text/plain": [
       "<IPython.core.display.Markdown object>"
      ]
     },
     "metadata": {},
     "output_type": "display_data"
    },
    {
     "data": {
      "text/markdown": [
       "[8. Could ASML Be The Next Major AI Stock to Split Its Shares? - Feedly AI](https://247wallst.com/technology-3/2024/07/07/could-asml-be-the-next-major-ai-stock-to-split-its-shares/)  \n",
       "\n",
       "Topics: Stocks\n",
       "\n",
       "- ASML is a key player in semiconductor manufacturing, known for its EUV lithography process for cutting-edge semiconductors.\n",
       "- The company's shares are trading above $1,000 and have a history of stock splits during significant technological trends.\n",
       "- ASML is considered a strong investment with a monopoly in advanced semiconductor manufacturing, making it a potential candidate for another stock split in the future. \n",
       "\n"
      ],
      "text/plain": [
       "<IPython.core.display.Markdown object>"
      ]
     },
     "metadata": {},
     "output_type": "display_data"
    },
    {
     "data": {
      "text/markdown": [
       "[9. AI Stocks Keep Surging. Buy 2 That Havent. - Feedly AI](https://www.barrons.com/articles/ai-stocks-salesforce-uber-buy-8aea0217)  \n",
       "\n",
       "Topics: AI economic impacts, Stocks\n",
       "\n",
       "- Website: barrons.com is a financial news website.\n",
       "- Provides information on stocks, investing, and personal finance.\n",
       "- Offers insights, analyses, and recommendations for investors. \n",
       "\n"
      ],
      "text/plain": [
       "<IPython.core.display.Markdown object>"
      ]
     },
     "metadata": {},
     "output_type": "display_data"
    },
    {
     "data": {
      "text/markdown": [
       "[10. Forget Nvidia: This Stock-Split AI Stock Could Be a Better Buy - Google News](https://news.google.com/articles/CBMiXWh0dHBzOi8vd3d3LmZvb2wuY29tL2ludmVzdGluZy8yMDI0LzA3LzA0L2ZvcmdldC1udmlkaWEtdGhpcy1zdG9jay1zcGxpdC1haS1zdG9jay1jb3VsZC1iZS1hL9IBAA)  \n",
       "\n",
       "Topics: Stocks\n",
       "\n",
       "- Broadcom announced a 10-for-1 stock split to make shares more accessible for retail investors, with a lower valuation and more diversification than Nvidia.\n",
       "- Broadcom is positioned as a potential alternative AI stock due to its custom chip offerings tailored to specific use cases, big-name clients like Alphabet and Bytedance, and a diversified business beyond AI.\n",
       "- Despite a significant stock price increase in the past five years, Broadcom offers a relatively cheaper valuation with a forward P/E of 28 compared to competitors like Nvidia and AMD. \n",
       "\n"
      ],
      "text/plain": [
       "<IPython.core.display.Markdown object>"
      ]
     },
     "metadata": {},
     "output_type": "display_data"
    },
    {
     "data": {
      "text/markdown": [
       "[11. Generative AI Sales Could Soar 2,040%: My Pick for the Best AI Stock to Buy Now (Hint: Not Nvidia) - Feedly AI](https://www.fool.com/investing/2024/07/07/generative-ai-soar-2040-best-ai-stock-buy-now-nvda/)  \n",
       "\n",
       "Topics: AI economic impacts, Stocks, GenAI\n",
       "\n",
       "- Nvidia is a dominant force in the AI processor market, with GPUs being industry standard for AI workloads, supported by the CUDA software ecosystem.\n",
       "- Super Micro Computer is gaining market share in AI servers by leveraging in-house design capabilities and a modular approach to product development.\n",
       "- Super Micro Computer is positioned as a strong AI stock investment due to its reasonable valuation, potential for growth in generative AI hardware, and market leadership in AI server sales. \n",
       "\n"
      ],
      "text/plain": [
       "<IPython.core.display.Markdown object>"
      ]
     },
     "metadata": {},
     "output_type": "display_data"
    },
    {
     "data": {
      "text/markdown": [
       "[12. Netflix vs. Disney? We asked ChatGPT-4o which stock is a better buy for 2024 - Feedly AI](https://finbold.com/netflix-vs-disney-we-asked-chatgpt-4o-which-stock-is-a-better-buy-for-2024/)  \n",
       "\n",
       "Topics: Stocks, Language Models, Netflix, ChatGPT\n",
       "\n",
       "- Netflix and Disney, as dominant companies in the entertainment and streaming industry, are attracting investor attention for 2024 due to their unique positions.\n",
       "- ChatGPT-4o highlighted that Netflix shows substantial revenue and subscriber growth along with strong content library, while Disney offers diverse revenue streams and improving financial metrics.\n",
       "- The decision between investing in Netflix or Disney depends on individual investment goals and risk tolerance, with Netflix presenting high growth potential but also higher risks, while Disney may offer a more stable investment opportunity. \n",
       "\n"
      ],
      "text/plain": [
       "<IPython.core.display.Markdown object>"
      ]
     },
     "metadata": {},
     "output_type": "display_data"
    },
    {
     "data": {
      "text/markdown": [
       "[13. 1 Phenomenal Stock That Could Join Microsoft, Apple, Nvidia, Alphabet, Amazon, and Meta in the $1 Trillion Club - Google News](https://news.google.com/articles/CBMiXWh0dHBzOi8vd3d3LmZvb2wuY29tL2ludmVzdGluZy8yMDI0LzA3LzA3LzEtcGhlbm9tZW5hbC1zdG9jay10aGF0LWNvdWxkLWpvaW4tbWljcm9zb2Z0LWFwcGxlL9IBAA)  \n",
       "\n",
       "Topics: Stocks, Meta, Amazon, Big Tech\n",
       "\n",
       "- Super Micro Computer is gaining market share rapidly in the AI hardware industry, with a distinguished track record in customized servers and fueled by the demand driven by AI.\n",
       "- The company's flexible server options, long track record, and partnerships with leading chipmakers position it well for potential growth towards a $1 trillion market cap.\n",
       "- Analysts suggest that Super Micro Computer could reach the $1 trillion market cap by 2029 or 2032 if it maintains its growth rate in the AI server market, supported by the rapid adoption of AI technology. \n",
       "\n"
      ],
      "text/plain": [
       "<IPython.core.display.Markdown object>"
      ]
     },
     "metadata": {},
     "output_type": "display_data"
    },
    {
     "data": {
      "text/markdown": [
       "[14. 3 Rapidly Rising Companies Set to Join the $1 Trillion Club - Google News](https://news.google.com/articles/CBMiXWh0dHBzOi8vaW52ZXN0b3JwbGFjZS5jb20vMjAyNC8wNy8zLXJhcGlkbHktcmlzaW5nLWNvbXBhbmllcy1zZXQtdG8tam9pbi10aGUtMS10cmlsbGlvbi1jbHViL9IBAA)  \n",
       "\n",
       "Topics: Stocks, Apple\n",
       "\n",
       "- Advanced Micro Devices (AMD) saw a boost in revenue due to success in data center segment with Instinct MI300X GPUs and server CPU sales.\n",
       "- Taiwan Semiconductor Manufacturing (TSM) maintained strong gross margin and lead in semiconductor production despite seasonal fluctuations in smartphone market.\n",
       "- Tesla (TSLA) achieved record energy storage deployments, doubled AI training compute capacity, and is set to increase car production to over 3 million annually, solidifying its position on the future trillion-dollar companies list. \n",
       "\n"
      ],
      "text/plain": [
       "<IPython.core.display.Markdown object>"
      ]
     },
     "metadata": {},
     "output_type": "display_data"
    },
    {
     "data": {
      "text/markdown": [
       "[15. Google Says AI Could Break Reality - Feedly AI](https://www.404media.co/email/dd4acda7-3cf5-48a1-a940-8bdf0aede2b4/)  \n",
       "\n",
       "Topics: AI policy and regulation, AI ethical and legal issues, AI doom, GenAI, Google, Big Tech\n",
       "\n",
       "- Generative AI could distort collective understanding of socio-political reality or scientific consensus, causing significant harm.\n",
       "- Misuse of generative AI tools is often not overtly malicious and does not violate content policies or terms of services.\n",
       "- The ease of flooding the internet with AI-generated content poses risks of undermining public trust and distorting information retrieval. \n",
       "\n"
      ],
      "text/plain": [
       "<IPython.core.display.Markdown object>"
      ]
     },
     "metadata": {},
     "output_type": "display_data"
    },
    {
     "data": {
      "text/markdown": [
       "[16. Top Artificial Intelligence AI Search Engines to Know in 2024 - Google News](https://news.google.com/articles/CBMiZmh0dHBzOi8vd3d3Lm1hcmt0ZWNocG9zdC5jb20vMjAyNC8wNy8wNy90b3AtYXJ0aWZpY2lhbC1pbnRlbGxpZ2VuY2UtYWktc2VhcmNoLWVuZ2luZXMtdG8ta25vdy1pbi0yMDI0L9IBamh0dHBzOi8vd3d3Lm1hcmt0ZWNocG9zdC5jb20vMjAyNC8wNy8wNy90b3AtYXJ0aWZpY2lhbC1pbnRlbGxpZ2VuY2UtYWktc2VhcmNoLWVuZ2luZXMtdG8ta25vdy1pbi0yMDI0Lz9hbXA)  \n",
       "\n",
       "- AI search engines use machine learning, natural language processing, and deep learning to provide more thorough and personalized responses to user queries.\n",
       "- Gemini, Bing AI, Komo, Yep, You.com, Phind, Neeva, Perplexity AI, and Andi are AI search engines known for their specific features like image creation, code generation, and privacy prioritization.\n",
       "- AI search engines are transforming information retrieval by offering individualized, context-aware results, catering to diverse needs such as privacy-focused queries, specialized tools for developers, and in-depth research capabilities. \n",
       "\n"
      ],
      "text/plain": [
       "<IPython.core.display.Markdown object>"
      ]
     },
     "metadata": {},
     "output_type": "display_data"
    },
    {
     "data": {
      "text/markdown": [
       "[17. Wild new way to search for anything, anywhere with Google's Circle to Search AI feature - Feedly AI](https://www.foxnews.com/tech/wild-new-way-search-anything-anywhere-googles-circle-search-ai-feature)  \n",
       "\n",
       "Topics: Google, Big Tech\n",
       "\n",
       "- Google's Circle to Search tool allows Android users to search anything on a screen without switching apps, activated by long-pressing the home button or navigation bar.\n",
       "- The Circle to Search feature offers versatile search capabilities including visual searches, text-based searches, and multisearch options for various types of content.\n",
       "- Supported on select premium Android devices, Circle to Search leverages AI to provide comprehensive information without interrupting the user's current activity. \n",
       "\n"
      ],
      "text/plain": [
       "<IPython.core.display.Markdown object>"
      ]
     },
     "metadata": {},
     "output_type": "display_data"
    },
    {
     "data": {
      "text/markdown": [
       "[18. AI's 'positive role' during Indian polls amidst deepfakes disinformation - Google News](https://news.google.com/articles/CBMiTmh0dHBzOi8vd3d3LmNvdW50ZXJ2aWV3Lm5ldC8yMDI0LzA3L2Fpcy1wb3NpdGl2ZS1yb2xlLWR1cmluZy1pbmRpYW4tcG9sbHMuaHRtbNIBAA)  \n",
       "\n",
       "Topics: AI ethical and legal issues, Cybersecurity, GenAI\n",
       "\n",
       "- Indian political parties used AI in the form of deepfakes and targeted communication during the world's largest election\n",
       "- AI was utilized for personalized voter engagement, multilingual communication, and online trolling\n",
       "- The Indian experience showcases the potential of AI in participatory democracy and representative governance, with lessons for democracies worldwide \n",
       "\n"
      ],
      "text/plain": [
       "<IPython.core.display.Markdown object>"
      ]
     },
     "metadata": {},
     "output_type": "display_data"
    },
    {
     "data": {
      "text/markdown": [
       "[19. Our Chicago: Could artificial intelligence impact 2024 election as voters choose between Joe Biden, Donald Trump? - Google News](https://news.google.com/articles/CBMiaGh0dHBzOi8vYWJjN2NoaWNhZ28uY29tL3Bvc3QvY2hpY2Fnby1jb3VsZC1hcnRpZmljaWFsLWludGVsbGlnZW5jZS1pbXBhY3QtMjAyNC1lbGVjdGlvbi12b3RlcnMvMTUwMzY5NTEv0gEA)  \n",
       "\n",
       "Topics: GenAI\n",
       "\n",
       "- In the 2024 presidential election, there is a concern about how artificial intelligence can impact voter behavior, as evidenced by an AI-generated robocall in the New Hampshire primary sounding like Joe Biden.\n",
       "- The use of AI in political campaigns can worsen divisions in a polarized society, fuel misinformation, and pose challenges in holding bad actors accountable due to the lack of federal regulations specifically addressing AI in elections.\n",
       "- Various states, including Illinois, have different regulations regarding the use of AI in elections, creating a patchwork of laws at the national level, leading to a somewhat unregulated environment where AI's role in elections remains relatively unchecked. \n",
       "\n"
      ],
      "text/plain": [
       "<IPython.core.display.Markdown object>"
      ]
     },
     "metadata": {},
     "output_type": "display_data"
    },
    {
     "data": {
      "text/markdown": [
       "[20. Program looks at AI's impact on politics in La Crosse - Google News](https://news.google.com/articles/CBMiigFodHRwczovL3d3dy53cW93LmNvbS9uZXdzL3dpc2NvbnNpbi9wcm9ncmFtLWxvb2tzLWF0LWFpcy1pbXBhY3Qtb24tcG9saXRpY3MtaW4tbGEtY3Jvc3NlL2FydGljbGVfMWI4OGMxZTgtZjIxYy01ODMwLWI4ODYtNDI5NDA4MjY1NjQ4Lmh0bWzSAQA)  \n",
       "\n",
       "- Discussion about the use of artificial intelligence in politics in La Crosse\n",
       "- Program features nationally recognized leader Miles Taylor discussing AI's impact on elections\n",
       "- Presentation is on Zoom and sponsored by Leader Ethics and League of Women Voters of the La Crosse Area \n",
       "\n"
      ],
      "text/plain": [
       "<IPython.core.display.Markdown object>"
      ]
     },
     "metadata": {},
     "output_type": "display_data"
    },
    {
     "data": {
      "text/markdown": [
       "[21. Georgia artificial intelligence program teaches kids about bias in policing - Google News](https://news.google.com/articles/CBMiaWh0dHBzOi8vd3d3LndyZHcuY29tLzIwMjQvMDcvMDcvZ2VvcmdpYS1hcnRpZmljaWFsLWludGVsbGlnZW5jZS1wcm9ncmFtLXRlYWNoZXMta2lkcy1hYm91dC1iaWFzLXBvbGljaW5nL9IBeGh0dHBzOi8vd3d3LndyZHcuY29tLzIwMjQvMDcvMDcvZ2VvcmdpYS1hcnRpZmljaWFsLWludGVsbGlnZW5jZS1wcm9ncmFtLXRlYWNoZXMta2lkcy1hYm91dC1iaWFzLXBvbGljaW5nLz9vdXRwdXRUeXBlPWFtcA)  \n",
       "\n",
       "Topics: AI ethical and legal issues, GenAI\n",
       "\n",
       "- Georgia AI program teaches kids about bias in policing, focusing on facial recognition and predictive policing data analysis\n",
       "- Program aims to educate kids on biases present in AI systems and how to avoid them \n",
       "- The initiative by AI for Black Kids introduces children to AI concepts to contribute to well-rounded and less biased policing techniques \n",
       "\n"
      ],
      "text/plain": [
       "<IPython.core.display.Markdown object>"
      ]
     },
     "metadata": {},
     "output_type": "display_data"
    },
    {
     "data": {
      "text/markdown": [
       "[22. California Teachers are Using AI to Grade Papers. Whos Grading the AI? - Feedly AI](https://www.the74million.org/article/california-teachers-are-using-ai-to-grade-papers-whos-grading-the-ai/)  \n",
       "\n",
       "Topics: AI ethical and legal issues, GenAI\n",
       "\n",
       "- California schools are incorporating AI tools, such as chatbots, to automate tasks like grading papers, providing feedback, and personalizing learning material for students, which can help teachers save time and reduce burnout.\n",
       "- While AI tools offer benefits like faster grading and more feedback, guidelines on their ethical and appropriate use in classrooms are vague, and there are concerns about accuracy, bias, privacy, and potential negative impacts on students and educators.\n",
       "- Teachers like Jen Roberts and Alex Rainey have reported positive experiences using AI tools like Writable and GPT-4 to grade papers, but there are challenges such as varying grading standards, costs of AI tools, and the need for teachers to oversee AI-generated feedback to ensure better student outcomes. \n",
       "\n"
      ],
      "text/plain": [
       "<IPython.core.display.Markdown object>"
      ]
     },
     "metadata": {},
     "output_type": "display_data"
    },
    {
     "data": {
      "text/markdown": [
       "[23. Will artificial intelligence transform school? - Google News](https://news.google.com/articles/CBMiYWh0dHBzOi8vd3d3LmVjb25vbWlzdC5jb20vc3BlY2lhbC1yZXBvcnQvMjAyNC8wNy8wNy93aWxsLWFydGlmaWNpYWwtaW50ZWxsaWdlbmNlLXRyYW5zZm9ybS1zY2hvb2zSAQA)  \n",
       "\n",
       "Topics: EducationAI startup funding, GenAI, Meta, Big Tech\n",
       "\n",
       "- The boldest visions for AI in classrooms misunderstand much about education.\n",
       "- AI tools like Khanmigo are being developed for students and teachers to interact with historical figures and characters.\n",
       "- Thomas Edison's prediction from 1913 about the obsolescence of books in schools is revisited in the context of AI development in education. \n",
       "\n"
      ],
      "text/plain": [
       "<IPython.core.display.Markdown object>"
      ]
     },
     "metadata": {},
     "output_type": "display_data"
    },
    {
     "data": {
      "text/markdown": [
       "[24. So how are we doing with AI in architectural design? - Google News](https://news.google.com/articles/CBMiXmh0dHBzOi8vd3d3LmRvbXVzd2ViLml0L2VuL25ld3MvMjAyNC8wNi8yNi9hcmUtd2UtcmVhZHktdG8tdXNlLWFpLWluLWFyY2hpdGVjdHVyYWwtZGVzaWduLmh0bWzSAWJodHRwczovL3d3dy5kb211c3dlYi5pdC9lbi9uZXdzLzIwMjQvMDYvMjYvYXJlLXdlLXJlYWR5LXRvLXVzZS1haS1pbi1hcmNoaXRlY3R1cmFsLWRlc2lnbi5hbXAuaHRtbA)  \n",
       "\n",
       "Topics: GenAI\n",
       "\n",
       "- The fast evolution of AI is impacting the architectural design field, with a study commissioned by Chaos analyzing the significant use of AI in architecture and the desire for improved precision and reliability in AI tools.\n",
       "- AI is predominantly utilized in the early stages of conceptual design, enhancing efficiency and creativity, but there is a lack of defined ethical guidelines for AI use in architectural design.\n",
       "- The Royal Institute of British Academy is addressing the ethical dilemmas surrounding AI adoption in architecture, aiming to promote responsible stewardship amidst rapid technological advancements. \n",
       "\n"
      ],
      "text/plain": [
       "<IPython.core.display.Markdown object>"
      ]
     },
     "metadata": {},
     "output_type": "display_data"
    },
    {
     "data": {
      "text/markdown": [
       "[25. Harnessing AI and technological advancements in the AEC industry for enhanced efficiency and productivity - Google News](https://news.google.com/articles/CBMinAFodHRwczovL3d3dy5leHByZXNzY29tcHV0ZXIuaW4vZ3Vlc3QtYmxvZ3MvaGFybmVzc2luZy1haS1hbmQtdGVjaG5vbG9naWNhbC1hZHZhbmNlbWVudHMtaW4tdGhlLWFlYy1pbmR1c3RyeS1mb3ItZW5oYW5jZWQtZWZmaWNpZW5jeS1hbmQtcHJvZHVjdGl2aXR5LzExMzc1Mi_SAaABaHR0cHM6Ly93d3cuZXhwcmVzc2NvbXB1dGVyLmluL2FtcC9ndWVzdC1ibG9ncy9oYXJuZXNzaW5nLWFpLWFuZC10ZWNobm9sb2dpY2FsLWFkdmFuY2VtZW50cy1pbi10aGUtYWVjLWluZHVzdHJ5LWZvci1lbmhhbmNlZC1lZmZpY2llbmN5LWFuZC1wcm9kdWN0aXZpdHkvMTEzNzUyLw)  \n",
       "\n",
       "- AI in AEC industry enables problem-solving, data-driven learning, and decision support, transforming various operations.\n",
       "- AI advancements impact AEC sector with improved design capabilities, optimizing project outcomes, cost analysis, and risk management.\n",
       "- Machine learning algorithms enhance project management by automating tasks, providing real-time data analysis, and improving decision-making for project managers. \n",
       "\n"
      ],
      "text/plain": [
       "<IPython.core.display.Markdown object>"
      ]
     },
     "metadata": {},
     "output_type": "display_data"
    },
    {
     "data": {
      "text/markdown": [
       "[26. 5 Best AI Tools for the Construction Industry (July 2024) - Google News](https://news.google.com/articles/CBMiQWh0dHBzOi8vd3d3LnVuaXRlLmFpL2Jlc3QtYWktdG9vbHMtZm9yLXRoZS1jb25zdHJ1Y3Rpb24taW5kdXN0cnkv0gEA)  \n",
       "\n",
       "- AI tools are disrupting the construction industry by enhancing project management, efficiency, and data-driven decision-making.\n",
       "- AI tools like OpenSpace, Procore, ALICE Technologies, Doxel, and Buildots are transforming construction processes through real-time progress tracking, generative scheduling, and predictive analytics.\n",
       "- These AI-powered solutions improve project outcomes, optimize resource allocation, enhance safety on construction sites, and revolutionize the entire construction process from planning to completion. \n",
       "\n"
      ],
      "text/plain": [
       "<IPython.core.display.Markdown object>"
      ]
     },
     "metadata": {},
     "output_type": "display_data"
    },
    {
     "data": {
      "text/markdown": [
       "[27. What generative AI can do for construction right now - Google News](https://news.google.com/articles/CBMiWmh0dHBzOi8vd3d3LmNvbnN0cnVjdGlvbmRpdmUuY29tL25ld3MvZ2VuZXJhdGl2ZS1haS1zd2luZXJ0b24tZnV0dXJldGVjaC1NaWNyb3NvZnQvNzIwNTEzL9IBAA)  \n",
       "\n",
       "Topics: GenAI\n",
       "\n",
       "- Aaron Anderson from Swinerton discusses the current capabilities of generative AI in construction \n",
       "- Swinerton is utilizing OpenSpace AI for accurate models in a mass timber multifamily development \n",
       "- Anderson highlights the importance of AI tools, robotics integration, and evolving business models in the construction industry \n",
       "\n"
      ],
      "text/plain": [
       "<IPython.core.display.Markdown object>"
      ]
     },
     "metadata": {},
     "output_type": "display_data"
    },
    {
     "data": {
      "text/markdown": [
       "[28. HowArtificial IntelligenceCan Make Our Smart Homes, Smarter - Feedly AI](https://hackernoon.com/how-artificial-intelligence-can-make-our-smart-homes-smarter)  \n",
       "\n",
       "Topics: AI energy, GenAI\n",
       "\n",
       "- AI is revolutionizing smart homes, enhancing automation, security, and convenience, and transforming our everyday living experience.\n",
       "- Smart home technology allows for intelligent automation, enhanced activity analyses, upgraded hands-free digital security, and improved home accessibility.\n",
       "- Incorporating AI into homes can lead to a more advanced ecosystem, real-time insights, comprehensive pattern identification, and immersive experiences, ultimately reshaping the real estate market towards smarter homes. \n",
       "\n"
      ],
      "text/plain": [
       "<IPython.core.display.Markdown object>"
      ]
     },
     "metadata": {},
     "output_type": "display_data"
    },
    {
     "data": {
      "text/markdown": [
       "[29. Personalized AI Farming Assistants - Google News](https://news.google.com/articles/CBMiLWh0dHBzOi8vd3d3LnRyZW5kaHVudGVyLmNvbS90cmVuZHMvYWktZmFybWluZ9IBMWh0dHBzOi8vd3d3LnRyZW5kaHVudGVyLmNvbS9hbXAvdHJlbmRzL2FpLWZhcm1pbmc)  \n",
       "\n",
       "Topics: Robots, AI jobs, Reinforcement Learning, Agriculture, GenAI\n",
       "\n",
       "- Netagrow is advancing AI farming by providing farmers with AI-driven tools and insights for optimized yields and sustainability.\n",
       "- The platform offers personalized recommendations on crop management, soil health, and pest control, enabling data-driven decisions to reduce waste and enhance productivity.\n",
       "- The integration of AI and agriculture signifies a new era where technology intersects with nature to ensure food security and environmental sustainability. \n",
       "\n"
      ],
      "text/plain": [
       "<IPython.core.display.Markdown object>"
      ]
     },
     "metadata": {},
     "output_type": "display_data"
    },
    {
     "data": {
      "text/markdown": [
       "[30. AI Can Learn Uses for Modern-Day Agriculture - Google News](https://news.google.com/articles/CBMieWh0dHBzOi8vd3d3LmttYWxhbmQuY29tL2FnL2FpLWNhbi1sZWFybi11c2VzLWZvci1tb2Rlcm4tZGF5LWFncmljdWx0dXJlL2FydGljbGVfYWY2Zjc1MzYtM2FlNi0xMWVmLWE2OTYtNGY5ZGJlYWZiZDBmLmh0bWzSAQA)  \n",
       "\n",
       "Topics: AI economic impacts, Reinforcement Learning, Sustainability, Agriculture, GenAI, OpenAI\n",
       "\n",
       "- Artificial intelligence can learn and utilize historical data to enhance modern-day agriculture practices, such as monitoring crop damage, disease, and pests using drones and sensors.\n",
       "- AI is being explored for its potential in identifying diseases in animals early on, ensuring prompt intervention and preventing herd-wide spread.\n",
       "- Ensuring data security is crucial in the implementation of AI in agriculture, with a focus on safeguarding information and machinery from potential cyber threats. \n",
       "\n"
      ],
      "text/plain": [
       "<IPython.core.display.Markdown object>"
      ]
     },
     "metadata": {},
     "output_type": "display_data"
    },
    {
     "data": {
      "text/markdown": [
       "[31. Artificial Intelligence is being trained to help all areas of agriculture - Google News](https://news.google.com/articles/CBMiX2h0dHBzOi8vd3d3LnJmZHR2LmNvbS9hcnRpZmljaWFsLWludGVsbGlnZW5jZS1pcy1iZWluZy10cmFpbmVkLXRvLWhlbHAtYWxsLWFyZWFzLW9mLWFncmljdWx0dXJl0gEA)  \n",
       "\n",
       "Topics: AI economic impacts, AI jobs, Reinforcement Learning, Sustainability, Agriculture, GenAI, Meta\n",
       "\n",
       "- Artificial intelligence is increasingly used in agriculture to identify plant diseases, pests, and soil conditions, with the goal of improving accuracy in various areas such as nutrition for livestock and crop protection products.\n",
       "- AI technology requires vast amounts of data to be effective, including crop data, image data, and soil samples, and ongoing input from farmers and ranchers is essential for its development.\n",
       "- The use of AI in agriculture has grown significantly, with computer science professors at Dakota State University highlighting its potential to revolutionize various aspects of the field through advanced data analysis and image recognition capabilities. \n",
       "\n"
      ],
      "text/plain": [
       "<IPython.core.display.Markdown object>"
      ]
     },
     "metadata": {},
     "output_type": "display_data"
    },
    {
     "data": {
      "text/markdown": [
       "[32. On AI's impact on sustainability - Google News](https://news.google.com/articles/CBMiamh0dHBzOi8vd3d3Lm1hbmlsYXRpbWVzLm5ldC8yMDI0LzA3LzA3L2J1c2luZXNzL3N1bmRheS1idXNpbmVzcy1pdC9vbi1haXMtaW1wYWN0LW9uLXN1c3RhaW5hYmlsaXR5LzE5NTU1MDbSAW5odHRwczovL3d3dy5tYW5pbGF0aW1lcy5uZXQvMjAyNC8wNy8wNy9idXNpbmVzcy9zdW5kYXktYnVzaW5lc3MtaXQvb24tYWlzLWltcGFjdC1vbi1zdXN0YWluYWJpbGl0eS8xOTU1NTA2L2FtcA)  \n",
       "\n",
       "Topics: AI energy, AI policy and regulation, Sustainability, Anthropic, Big Tech\n",
       "\n",
       "- Artificial intelligence (AI) has evolved from a digital assistant to a key component in modern technology, utilized in various fields such as education, science, medical research, space exploration, and financial management.\n",
       "- Generative AI (GenAI) is a significant advancement in AI technology, becoming deeply integrated into daily activities and applications.\n",
       "- The widespread adoption of AI has implications for customer interactions, with banks and other industries increasingly relying on AI interfaces for client communication. \n",
       "\n"
      ],
      "text/plain": [
       "<IPython.core.display.Markdown object>"
      ]
     },
     "metadata": {},
     "output_type": "display_data"
    },
    {
     "data": {
      "text/markdown": [
       "[33. How AI is helping us tackle the climate crisis - Google News](https://news.google.com/articles/CBMiaWh0dHBzOi8vd3d3LnRoZWd1YXJkaWFuLmNvbS90ZWNobm9sb2d5L2FydGljbGUvMjAyNC9qdWwvMDcvaG93LWFpLWlzLWhlbHBpbmctdXMtdGFja2xlLXRoZS1jbGltYXRlLWNyaXNpc9IBaWh0dHBzOi8vYW1wLnRoZWd1YXJkaWFuLmNvbS90ZWNobm9sb2d5L2FydGljbGUvMjAyNC9qdWwvMDcvaG93LWFpLWlzLWhlbHBpbmctdXMtdGFja2xlLXRoZS1jbGltYXRlLWNyaXNpcw)  \n",
       "\n",
       "Topics: AI energy, Climate, Sustainability\n",
       "\n",
       "- AI can help accelerate the green transition and address climate and nature crises by enabling decarbonisation opportunities and supporting shifts towards sustainability in sectors like the built environment.\n",
       "- The power use for AI is often lower than traditional computing methods, such as in energy-intensive climate models, and discussions around its energy consumption should consider its benefits in combating larger sources of emissions like construction and transport.\n",
       "- There is a need to focus on improving the efficiency and responsible development of AI, while also harnessing its capabilities to drive the green transition further. \n",
       "\n"
      ],
      "text/plain": [
       "<IPython.core.display.Markdown object>"
      ]
     },
     "metadata": {},
     "output_type": "display_data"
    },
    {
     "data": {
      "text/markdown": [
       "[34. We ask AI to explain why we struggle with solving the climate crisis - Google News](https://news.google.com/articles/CBMibmh0dHBzOi8vZ2VvZ3JhcGhpY2FsLmNvLnVrL2NsaW1hdGUtY2hhbmdlL3dlLWFzay1haS10by1leHBsYWluLXdoeS13ZS1zdHJ1Z2dsZS13aXRoLXNvbHZpbmctdGhlLWNsaW1hdGUtY3Jpc2lz0gEA)  \n",
       "\n",
       "Topics: AI doom, Climate, Language Models, Cohere\n",
       "\n",
       "- Climate change is a complex issue with interconnected effects and potential cascading consequences, highlighting the importance of understanding its interactions and amplifications.\n",
       "- Reasons for lack of public awareness about climate change interconnectedness include complexity, communication challenges, information overload, psychological barriers, and political polarization.\n",
       "- Despite irreversible changes, catastrophic consequences can still be avoided through swift and decisive action by self-described intelligent human beings. \n",
       "\n"
      ],
      "text/plain": [
       "<IPython.core.display.Markdown object>"
      ]
     },
     "metadata": {},
     "output_type": "display_data"
    },
    {
     "data": {
      "text/markdown": [
       "[35. Predicting Toxic Algae Blooms with AI Modeling - Feedly AI](https://www.planetizen.com/news/2024/07/130117-predicting-toxic-algae-blooms-ai-modeling)  \n",
       "\n",
       "Topics: GenAI\n",
       "\n",
       "- Scientists are using AI and machine learning models to predict water quality issues caused by toxic blue-green algae blooms, fueled by climate change and rising water temperatures.\n",
       "- Artificial intelligence modeling will be employed to forecast toxic algal blooms by analyzing data collected since 1954 and predicting how climate change may affect the intensity and frequency of these blooms in the future.\n",
       "- These harmful algal blooms have been reported in all 50 U.S. states and can have significant consequences such as dangerous toxin levels in water sources, impacting communities and activities like summer tourism. \n",
       "\n"
      ],
      "text/plain": [
       "<IPython.core.display.Markdown object>"
      ]
     },
     "metadata": {},
     "output_type": "display_data"
    },
    {
     "data": {
      "text/markdown": [
       "[36. UAH Doctoral Candidate Leads Study On Leveraging AI And Social Media For Disaster Relief Communication - Google News](https://news.google.com/articles/CBMinQFodHRwczovL2h1bnRzdmlsbGVidXNpbmVzc2pvdXJuYWwuY29tL25ld3MvMjAyNC8wNy8wNy91YWgtZG9jdG9yYWwtY2FuZGlkYXRlLWxlYWRzLXN0dWR5LW9uLWxldmVyYWdpbmctYWktYW5kLXNvY2lhbC1tZWRpYS1mb3ItZGlzYXN0ZXItcmVsaWVmLWNvbW11bmljYXRpb24v0gEA)  \n",
       "\n",
       "Topics: GenAI\n",
       "\n",
       "- The page could not be found on the Huntsville Business Journal website.\n",
       "- Suggestions for users include checking spelling, using similar keywords, and using more than one keyword for better search results.\n",
       "- Contact information for the Huntsville Business Journal is provided on the site for inquiries and submissions. \n",
       "\n"
      ],
      "text/plain": [
       "<IPython.core.display.Markdown object>"
      ]
     },
     "metadata": {},
     "output_type": "display_data"
    },
    {
     "data": {
      "text/markdown": [
       "[37. US-China Conflict: USAF Plans 1000 6th-Gen Robo Warplanes To Counter Beijing & Its Ever Growing PLAAF - Google News](https://news.google.com/articles/CBMiRGh0dHBzOi8vd3d3LmV1cmFzaWFudGltZXMuY29tL3VzLWNoaW5hLWNvbmZsaWN0LXVzYWYtcGxhbnMtMTAwMC02dGgv0gFEaHR0cHM6Ly93d3cuZXVyYXNpYW50aW1lcy5jb20vdXMtY2hpbmEtY29uZmxpY3QtdXNhZi1wbGFucy0xMDAwLTZ0aC8)  \n",
       "\n",
       "Topics: Robots, China, Military\n",
       "\n",
       "- CCA (Collaborative Combat Aircraft) Drone is part of the US Air Force's Next Generation Air Dominance (NGAD) Family of Systems to fight China\n",
       "- The CCA program aims to develop unmanned combat air vehicles (UCAVs) that work collaboratively with manned combat aircraft, incorporating AI for increased survivability and reduced costs\n",
       "- The USAF plans to spend over $6 billion on the CCA program from 2023 to 2028, with the goal of operationalizing the systems by 2030 and deploying over 1,000 CCAs to counter the growing threats from China \n",
       "\n"
      ],
      "text/plain": [
       "<IPython.core.display.Markdown object>"
      ]
     },
     "metadata": {},
     "output_type": "display_data"
    },
    {
     "data": {
      "text/markdown": [
       "[38. Elon Musk expected to make speech at opening of Shanghai's World AI Conference - Google News](https://news.google.com/articles/CBMiiwFodHRwczovL3d3dy5yZXV0ZXJzLmNvbS90ZWNobm9sb2d5L2FydGlmaWNpYWwtaW50ZWxsaWdlbmNlL2Vsb24tbXVzay1leHBlY3RlZC1tYWtlLXNwZWVjaC1vcGVuaW5nLXNoYW5naGFpcy13b3JsZC1haS1jb25mZXJlbmNlLTIwMjQtMDctMDMv0gEA)  \n",
       "\n",
       "Topics: AI economic impacts, China, Big Tech, Elon Musk\n",
       "\n",
       "- Elon Musk will be a keynote speaker at the opening ceremony of the World AI Conference in Shanghai.\n",
       "- There is uncertainty whether Musk will appear in person or via video at the event.\n",
       "- Musk's speech coincides with the EU potentially imposing tariffs on Chinese electric vehicle imports. \n",
       "\n"
      ],
      "text/plain": [
       "<IPython.core.display.Markdown object>"
      ]
     },
     "metadata": {},
     "output_type": "display_data"
    },
    {
     "data": {
      "text/markdown": [
       "[39. Big Tech needs to generate $600 billion in annual revenue to justify AI hardware expenditure - Feedly AI](https://www.techspot.com/news/103699-big-tech-needs-generate-600-billion-annual-revenue.html)  \n",
       "\n",
       "Topics: AI economic impacts, GenAI, Nvidia, Big Tech, Analyst\n",
       "\n",
       "- Big Tech needs to generate $600 billion in annual revenue to justify AI hardware expenditure according to the analysis by Sequoia Capital analyst, David Cahn.\n",
       "- There is a significant gap between revenue expectations from AI infrastructure build-out and actual revenue growth in the AI ecosystem, with a requirement for $600 billion in annual AI revenue.\n",
       "- Despite potential revenue growth from AI, there are concerns about the industry's ability to fill the financial gap and sustainability of investments in AI infrastructure. \n",
       "\n"
      ],
      "text/plain": [
       "<IPython.core.display.Markdown object>"
      ]
     },
     "metadata": {},
     "output_type": "display_data"
    },
    {
     "data": {
      "text/markdown": [
       "[40. Samsung expects profits to surge on demand for AI chips - Google News](https://news.google.com/articles/CBMiP2h0dHBzOi8vd3d3LmZ0LmNvbS9jb250ZW50LzhhN2M4NmZlLWYyNzEtNDRlYS05NmUxLTczMGY1NjQ5M2YzOdIBAA)  \n",
       "\n",
       "Topics: AI economic impacts, Semiconductor chips, GenAI, Big Tech, Samsung\n",
       "\n",
       "- Samsung Electronics expects a more than 15-fold increase in second-quarter operating profit due to strong demand for AI products, particularly memory chips.\n",
       "- Samsung's chip division's estimated strong operating profit in the second quarter is offsetting declining margins in the smartphone business.\n",
       "- Despite positive financial results, Samsung is facing challenges in catching up with competitors in producing advanced HBM chips and is dealing with labor strikes and management changes. \n",
       "\n"
      ],
      "text/plain": [
       "<IPython.core.display.Markdown object>"
      ]
     },
     "metadata": {},
     "output_type": "display_data"
    },
    {
     "data": {
      "text/markdown": [
       "[41. Chinas tech boom powering AI career coup, with finance muscled out at top of salary pyramid - Feedly AI](https://www.scmp.com/economy/china-economy/article/3269334/chinas-tech-boom-powering-ai-career-coup-finance-muscled-out-top-salary-pyramid)  \n",
       "\n",
       "Topics: AI economic impacts, AI jobs, China\n",
       "\n",
       "- China's tech industry is surpassing finance in terms of salary rankings, with AI jobs offering the highest monthly salaries in a new survey\n",
       "- As China focuses on self-sufficiency in technology and global demand for AI applications increases, the job market is shifting to meet the demand\n",
       "- AI engineers are now among the top 20 best-paid jobs, with salaries exceeding those in the financial sector \n",
       "\n"
      ],
      "text/plain": [
       "<IPython.core.display.Markdown object>"
      ]
     },
     "metadata": {},
     "output_type": "display_data"
    },
    {
     "data": {
      "text/markdown": [
       "[42. China's AI model glut is a 'significant waste of resources' due to scarce real-world applications says Baidu CEO - Feedly AI](https://www.tomshardware.com/tech-industry/artificial-intelligence/chinas-ai-model-glut-is-a-significant-waste-of-resources-due-to-scarce-real-world-applications-says-baidu-ceo)  \n",
       "\n",
       "Topics: AI economic impacts, China, Baidu, Big Tech\n",
       "\n",
       "- Baidu CEO stated that China's AI model glut is unsustainable with over 100 LLMs lacking practical applications  \n",
       "- China has surpassed the U.S. in AI patents but is falling behind in citations  \n",
       "- Competition between LLMs in China leads to business consolidation with larger companies gaining advantages and smaller companies struggling to sustain their products \n",
       "\n"
      ],
      "text/plain": [
       "<IPython.core.display.Markdown object>"
      ]
     },
     "metadata": {},
     "output_type": "display_data"
    },
    {
     "data": {
      "text/markdown": [
       "[43. China's homegrown AI models are expanding - Google News](https://news.google.com/articles/CBMiO2h0dHBzOi8vcXouY29tL2VtYWlscy9kYWlseS1icmllZi8xODUxNTgwMDc2L2NoaW5hcy1haS1wdXNo0gEA)  \n",
       "\n",
       "Topics: AI energy, AI policy and regulation, AI economic impacts, AI jobs, China, GenAI, Baidu\n",
       "\n",
       "- China's homegrown AI models are expanding, with Quartz compiling a list of the country's top artificial intelligence competitors and firms.\n",
       "- The South Korea tech giant is experiencing solid profits due to AI and chip demand, leading to a three-year high in Samsung stock.\n",
       "- Tesla's stock has seen a significant turnaround, with better-than-expected second quarter deliveries boosting the company and CEO Elon Musk's value by $10 billion. \n",
       "\n"
      ],
      "text/plain": [
       "<IPython.core.display.Markdown object>"
      ]
     },
     "metadata": {},
     "output_type": "display_data"
    },
    {
     "data": {
      "text/markdown": [
       "[44. Banks Must Guard against Scammers Using AI - Google News](https://news.google.com/articles/CBMiJWh0dHBzOi8vd3d3LmRhaWx5LXN1bi5jb20vcG9zdC83NTYzNjnSAQA)  \n",
       "\n",
       "Topics: AI policy and regulation, AI economic impacts, Fintech, AI ethical and legal issues, Cybersecurity, AI doom, Scams, Privacy, GenAI\n",
       "\n",
       "- Criminals are using Artificial Intelligence (AI) to impersonate bank senior executives and generate AI-based scams, leading to a significant increase in fraud-related losses.\n",
       "- Banks and fraud prevention officials are concerned about the rise in fraud losses and are implementing measures such as AI tools for payment validation and customer education to prevent scams.\n",
       "- Journalists play a vital role in exposing corruption, with news reports revealing corruption among government officials, police, and army personnel, contributing to public scrutiny and combating impunity. \n",
       "\n"
      ],
      "text/plain": [
       "<IPython.core.display.Markdown object>"
      ]
     },
     "metadata": {},
     "output_type": "display_data"
    },
    {
     "data": {
      "text/markdown": [
       "[45. Fintech needs to adopt advanced AI/ML-powered models - Google News](https://news.google.com/articles/CBMiZ2h0dHBzOi8vd3d3Lm5ld2luZGlhbmV4cHJlc3MuY29tL3hwbG9yZS8yMDI0L0p1bC8wNS9maW50ZWNoLW5lZWRzLXRvLWFkb3B0LWFkdmFuY2VkLWFpbWwtcG93ZXJlZC1tb2RlbHPSAXFodHRwczovL3d3dy5uZXdpbmRpYW5leHByZXNzLmNvbS9hbXAvc3RvcnkveHBsb3JlLzIwMjQvSnVsLzA1L2ZpbnRlY2gtbmVlZHMtdG8tYWRvcHQtYWR2YW5jZWQtYWltbC1wb3dlcmVkLW1vZGVscw)  \n",
       "\n",
       "Topics: AI economic impacts, AI jobs, Fintech, GenAI\n",
       "\n",
       "- Fintech sector adopting cloud services, IT modernization, and AI/ML integration\n",
       "- Significant threats include GenAI threats, deepfakes, phishing, and multi-cloud threats\n",
       "- Recommendations for fintechs include adopting cloud-native security, integrating security in DevOps, implementing AI/ML solutions, conducting risk analysis, and ensuring regulatory compliance \n",
       "\n"
      ],
      "text/plain": [
       "<IPython.core.display.Markdown object>"
      ]
     },
     "metadata": {},
     "output_type": "display_data"
    },
    {
     "data": {
      "text/markdown": [
       "[46. What strategies can business and technology leaders adopt to effectively balance immediate AI investments with long-term sustainability objectives?  Intelligent CIO Europe - Google News](https://news.google.com/articles/CBMiwAFodHRwczovL3d3dy5pbnRlbGxpZ2VudGNpby5jb20vZXUvMjAyNC8wNy8wNS93aGF0LXN0cmF0ZWdpZXMtY2FuLWJ1c2luZXNzLWFuZC10ZWNobm9sb2d5LWxlYWRlcnMtYWRvcHQtdG8tZWZmZWN0aXZlbHktYmFsYW5jZS1pbW1lZGlhdGUtYWktaW52ZXN0bWVudHMtd2l0aC1sb25nLXRlcm0tc3VzdGFpbmFiaWxpdHktb2JqZWN0aXZlcy_SAQA)  \n",
       "\n",
       "Topics: AI economic impacts, Sustainability\n",
       "\n",
       "- UK CEOs prioritizing AI investments for competitive advantage\n",
       "- Challenge in balancing immediate AI investments with long-term sustainability goals\n",
       "- Importance of strategic transactions and industrial AI approach for sustainability goals \n",
       "\n"
      ],
      "text/plain": [
       "<IPython.core.display.Markdown object>"
      ]
     },
     "metadata": {},
     "output_type": "display_data"
    },
    {
     "data": {
      "text/markdown": [
       "[47. How Cohere CEO Aidan Gomez Says AI Will Directly Profit Companies - Google News](https://news.google.com/articles/CCAiC1pGbWFweFlCYWZZmAEB)  \n",
       "\n",
       "Topics: AI economic impacts, Reinforcement Learning, Language Models, GenAI, Cohere\n",
       "\n",
       "- Aidan Gomez, CEO of Cohere, is a key figure in generative AI development.\n",
       "- He is focused on building generative AI models for companies to boost profits.\n",
       "- Gomez was involved in writing the foundational paper on transformer tech for generative AI during his time as a Google intern in 2017. \n",
       "\n"
      ],
      "text/plain": [
       "<IPython.core.display.Markdown object>"
      ]
     },
     "metadata": {},
     "output_type": "display_data"
    },
    {
     "data": {
      "text/markdown": [
       "[48. In the age of AI, the role of the CAIO will be indispensable (and here's why) - VentureBeat](https://venturebeat.com/ai/in-the-age-of-ai-the-role-of-the-caio-will-be-indispensable-and-heres-why/)  \n",
       "\n",
       "Topics: AI jobs\n",
       "\n",
       "- Chief AI officers are essential for leading organizations into the future in the AI age \n",
       "- Establishing governance for responsible AI use is crucial for companies to innovate boldly and rapidly\n",
       "- Getting AI into the hands of employees and acting decisively in adopting AI technology can provide significant advantages \n",
       "\n"
      ],
      "text/plain": [
       "<IPython.core.display.Markdown object>"
      ]
     },
     "metadata": {},
     "output_type": "display_data"
    },
    {
     "data": {
      "text/markdown": [
       "[49. CIOs concerns over generative AI echo those of the early days of cloud computing - Feedly AI](https://techcrunch.com/2024/07/07/cios-concerns-over-generative-ai-echo-those-of-the-early-days-of-cloud-computing/)  \n",
       "\n",
       "Topics: AI ethical and legal issues, GenAI\n",
       "\n",
       "- CIOs' concerns over generative AI echo those of the early days of cloud computing, with similarities in governance, security, and responsible use.\n",
       "- CIOs have learned to focus on guiding responsible use of generative AI and enhancing customer experience, instead of just saying no to the technology.\n",
       "- IT executives understand that locking down generative AI tools is not practical, and they need to find ways to help employees use them safely and effectively to prevent unauthorized usage. \n",
       "\n"
      ],
      "text/plain": [
       "<IPython.core.display.Markdown object>"
      ]
     },
     "metadata": {},
     "output_type": "display_data"
    },
    {
     "data": {
      "text/markdown": [
       "[50. US intelligence community is embracing generative AI - Feedly AI](https://www.nextgov.com/artificial-intelligence/2024/07/us-intelligence-community-embracing-generative-ai/397849/)  \n",
       "\n",
       "Topics: AI policy and regulation, AI economic impacts, AI jobs, AI ethical and legal issues, Language Models, GenAI, OpenAI\n",
       "\n",
       "- US intelligence agencies are utilizing generative AI for content triage, assisting analysts, search and discovery assistance, ideation, and brainstorming.\n",
       "- Agencies like the CIA are employing generative AI to sift through vast amounts of data, extract insights, and inform policymakers, enhancing intelligence operations.\n",
       "- Senior intelligence officials are recognizing the potential of generative AI while also emphasizing the importance of responsibly managing risks and ensuring safety, security, and compliance with privacy standards. \n",
       "\n"
      ],
      "text/plain": [
       "<IPython.core.display.Markdown object>"
      ]
     },
     "metadata": {},
     "output_type": "display_data"
    },
    {
     "data": {
      "text/markdown": [
       "[51. Passwords are passe: GenAI demands new methods of digital security - Google News](https://news.google.com/articles/CBMiX2h0dHBzOi8vd3d3LnRlY2hyYWRhci5jb20vcHJvL3Bhc3N3b3Jkcy1hcmUtcGFzc2UtZ2VuYWktZGVtYW5kcy1uZXctbWV0aG9kcy1vZi1kaWdpdGFsLXNlY3VyaXR50gEA)  \n",
       "\n",
       "Topics: Cybersecurity, Privacy, GenAI\n",
       "\n",
       "- Passwords have become outdated in the age of AI, leading to increased vulnerability to cybercriminals.\n",
       "- Financial institutions face growing threats from AI-powered cybercrimes, requiring new strategies for fraud prevention.\n",
       "- Behavioral biometric intelligence offers a non-intrusive method to enhance security and combat fraudulent activities in online banking. \n",
       "\n"
      ],
      "text/plain": [
       "<IPython.core.display.Markdown object>"
      ]
     },
     "metadata": {},
     "output_type": "display_data"
    },
    {
     "data": {
      "text/markdown": [
       "[52. Tokens are a big reason todays generative AI falls short - Reddit](https://www.reddit.com/r/technology/comments/1dx38gy/tokens_are_a_big_reason_todays_generative_ai/)  \n",
       "\n",
       "Topics: AI economic impacts, LLMs, AI ethical and legal issues, AI doom, Code generation, Language Models, GenAI, OpenAI, Meta, Cohere\n",
       "\n",
       "- Tokens are highlighted as a significant factor contributing to the limitations of today's generative AI\n",
       "- Discussion on the definition of AI, AGI, and the perception of intelligence in the AI industry\n",
       "- Debate on the relevance and scope of artificial intelligence, including applications such as LLMs, NPC pathfinding, recommendation systems, and fraud detection \n",
       "\n"
      ],
      "text/plain": [
       "<IPython.core.display.Markdown object>"
      ]
     },
     "metadata": {},
     "output_type": "display_data"
    },
    {
     "data": {
      "text/markdown": [
       "[53. What happened to the artificial-intelligence revolution? - Feedly AI](https://www.economist.com/finance-and-economics/2024/07/02/what-happened-to-the-artificial-intelligence-revolution)  \n",
       "\n",
       "Topics: GenAI, OpenAI\n",
       "\n",
       "- The artificial intelligence revolution has not had a significant economic impact so far, despite high expectations and investments from major tech firms.\n",
       "- In San Francisco, there is a prevalent enthusiasm and belief in AI revolutionizing the global economy, with large investments being made in AI-related hardware and research.\n",
       "- Outside of America's west coast, there is little evidence that AI is having a significant impact in other regions. \n",
       "\n"
      ],
      "text/plain": [
       "<IPython.core.display.Markdown object>"
      ]
     },
     "metadata": {},
     "output_type": "display_data"
    },
    {
     "data": {
      "text/markdown": [
       "[54. When AI models are past their prime. - The Verge](https://www.theverge.com/2024/7/7/24193768/using-chatgpt-for-coding-help-is-a-fraught-endeavor)  \n",
       "\n",
       "Topics: AI ethical and legal issues, Language Models, GenAI, OpenAI\n",
       "\n",
       "- A recent study highlighted the limitations of AI models like ChatGPT when faced with coding problems that were added after their training data cutoff in 2021.\n",
       "- ChatGPT (using GPT-3.5) performed well on coding problems existing before 2021 but struggled with new problems, sometimes failing to understand the questions.\n",
       "- The study underscores the importance of having sufficient and up-to-date data for AI models to function effectively, showing a significant drop in success rate when lacking adequate data. \n",
       "\n"
      ],
      "text/plain": [
       "<IPython.core.display.Markdown object>"
      ]
     },
     "metadata": {},
     "output_type": "display_data"
    },
    {
     "data": {
      "text/markdown": [
       "[55. A former OpenAI researcher sees a clear path to AGI this decade. Bill Gates disagrees - Google News](https://news.google.com/articles/CBMiX2h0dHBzOi8vZm9ydHVuZS5jb20vMjAyNC8wNy8wMi9iaWxsLWdhdGVzLWxlb3BvbGQtYXNjaGVuYnJlbm5lci10cmVhdGlzZS1hZ2ktc3VwZXJpbnRlbGxpZ2VuY2Uv0gEA)  \n",
       "\n",
       "Topics: OpenAI, Big Tech, Bill Gates\n",
       "\n",
       "- Former OpenAI researcher sees AGI achievable within the next two to five years, with potential for rapid progression to artificial superintelligence.\n",
       "- Bill Gates and others doubt the feasibility of achieving AGI through scaling LLMs, emphasizing the need for better AI solutions than current models.\n",
       "- Debate surrounding the effectiveness of LLMs, with critics highlighting inherent issues and the need for metacognition in AI systems, while considering the practical business applications of current AI technologies. \n",
       "\n"
      ],
      "text/plain": [
       "<IPython.core.display.Markdown object>"
      ]
     },
     "metadata": {},
     "output_type": "display_data"
    },
    {
     "data": {
      "text/markdown": [
       "[56. AI models that cost $1 billion to train are underway, $100 billion models coming  largest current models take 'only' $100 million to train: Anthropic CEO - Feedly AI](https://www.tomshardware.com/tech-industry/artificial-intelligence/ai-models-that-cost-dollar1-billion-to-train-are-in-development-dollar100-billion-models-coming-soon-largest-current-models-take-only-dollar100-million-to-train-anthropic-ceo)  \n",
       "\n",
       "Topics: AI economic impacts, LLMs, Language Models, Anthropic\n",
       "\n",
       "- AI training costs are growing exponentially, with models costing up to $1 billion to train and expectations for $100 billion models in the future.\n",
       "- Hardware advancements must keep up with the rapid growth in AI models, with significant power consumption and infrastructure requirements for training these advanced models.\n",
       "- The development of AI from generative artificial intelligence to artificial general intelligence is expected to be gradual, building upon past models' advancements, and hardware innovations seem to be keeping pace. \n",
       "\n"
      ],
      "text/plain": [
       "<IPython.core.display.Markdown object>"
      ]
     },
     "metadata": {},
     "output_type": "display_data"
    },
    {
     "data": {
      "text/markdown": [
       "[57. Anthropic aims to fix one of the biggest problems in AI right now - Feedly AI](https://www.digitaltrends.com/computing/anthropic-ai-benchmark-funding-program/)  \n",
       "\n",
       "Topics: AI ethical and legal issues, GenAI, OpenAI, Anthropic\n",
       "\n",
       "- Anthropic announced a program funding the development of third-party benchmark tests to evaluate its AI models, aiming to elevate the field of AI safety.\n",
       "- The company is looking for benchmarks to measure AI safety levels, advanced capabilities, and is willing to fund the development of high-volume tasks for testing.\n",
       "- Interested developers can submit proposals to Anthropic for evaluation on a rolling basis. \n",
       "\n"
      ],
      "text/plain": [
       "<IPython.core.display.Markdown object>"
      ]
     },
     "metadata": {},
     "output_type": "display_data"
    },
    {
     "data": {
      "text/markdown": [
       "[58. How Congress is fighting the rise of nonconsensual AI porn - Feedly AI](https://thehill.com/policy/technology/4752365-regulation-nonconsensual-explicit-deepfakes/)  \n",
       "\n",
       "Topics: AI policy and regulation, AI ethical and legal issues, Privacy, GenAI\n",
       "\n",
       "- Bipartisan bills introduced in Congress aim to regulate the spread of nonconsensual explicit deepfakes created using artificial intelligence.\n",
       "- The bills target the issue of nonconsensual explicit deepfakes, which have impacted public figures, celebrities, everyday people, and even school students.\n",
       "- The legislative efforts include the Defiance Act and the Take It Down Act, seeking to provide civil remedies and criminal violations for producing and sharing nonconsensual digitally altered images online. \n",
       "\n"
      ],
      "text/plain": [
       "<IPython.core.display.Markdown object>"
      ]
     },
     "metadata": {},
     "output_type": "display_data"
    },
    {
     "data": {
      "text/markdown": [
       "[59. Texas teen works to protect victims of non-consensual real and AI porn | Y'all-itics: June 27, 2024 - Google News](https://news.google.com/articles/CBMiuwFodHRwczovL3d3dy53ZmFhLmNvbS92aWRlby9uZXdzL3BvbGl0aWNzL3lhbGwtaXRpY3MvdGV4YXMtdGVlbi13b3Jrcy10by1wcm90ZWN0LXZpY3RpbXMtb2Ytbm9uLWNvbnNlbnN1YWwtcmVhbC1hbmQtYWktcG9ybi15YWxsLWl0aWNzLWp1bmUtMjctMjAyNC8yODctOGVlZjAyN2QtYmIxOS00Y2UwLWJjNjQtZDNmNjI5MDMxNmJi0gEA)  \n",
       "\n",
       "Topics: AI ethical and legal issues, Privacy, Language Models, GenAI\n",
       "\n",
       "- Elliston Berry experienced the creation and spread of fake porn images of her by a classmate at the age of 14\n",
       "- Berry and her mother share their journey and challenges in dealing with the aftermath of non-consensual real and AI porn\n",
       "- The article discusses the efforts of the Texas teen in advocating for victims and raising awareness about the issue \n",
       "\n"
      ],
      "text/plain": [
       "<IPython.core.display.Markdown object>"
      ]
     },
     "metadata": {},
     "output_type": "display_data"
    },
    {
     "data": {
      "text/markdown": [
       "[60. GenAI Helps Drive 118% Increase in Job Scams, ITRC Says - Google News](https://news.google.com/articles/CBMic2h0dHBzOi8vd3d3LnB5bW50cy5jb20vYXJ0aWZpY2lhbC1pbnRlbGxpZ2VuY2UtMi8yMDI0L2dlbmFpLWhlbHBzLWRyaXZlLTExOHBlcmNlbnQtaW5jcmVhc2UtaW4tam9iLXNjYW1zLWl0cmMtc2F5cy_SAQA)  \n",
       "\n",
       "Topics: Scams, Language Models, GenAI\n",
       "\n",
       "- Generative artificial intelligence (AI) led to a 118% increase in job scams in 2023, with cybercriminals using AI to make scams appear more legitimate.\n",
       "- Scammers targeted individuals on job posting platforms and social media, asking for sensitive personal information under the guise of fake job opportunities.\n",
       "- Despite an overall 18% decrease in reported scams, job scams increased, highlighting the impact of AI advancements in aiding cybercriminals. \n",
       "\n"
      ],
      "text/plain": [
       "<IPython.core.display.Markdown object>"
      ]
     },
     "metadata": {},
     "output_type": "display_data"
    },
    {
     "data": {
      "text/markdown": [
       "[61. Job scams surged 118% in 2023, aided by AI. Here's how to stop them - Google News](https://news.google.com/articles/CBMia2h0dHBzOi8vd3d3LmNuYmMuY29tLzIwMjQvMDcvMDcvam9iLXNjYW1zLXN1cmdlZC0xMThwZXJjZW50LWluLTIwMjMtYWlkZWQtYnktYWktaGVyZXMtaG93LXRvLXN0b3AtdGhlbS5odG1s0gFvaHR0cHM6Ly93d3cuY25iYy5jb20vYW1wLzIwMjQvMDcvMDcvam9iLXNjYW1zLXN1cmdlZC0xMThwZXJjZW50LWluLTIwMjMtYWlkZWQtYnktYWktaGVyZXMtaG93LXRvLXN0b3AtdGhlbS5odG1s)  \n",
       "\n",
       "Topics: AI economic impacts, Scams, GenAI\n",
       "\n",
       "- Job scams surged 118% in 2023, driven by AI and remote work, leading to an increase in fraudulent job and recruitment ads aimed at stealing personal and financial information from job seekers.\n",
       "- Scammers pose as recruiters or post fake job listings on reputable platforms, tricking victims into divulging sensitive information that can be used for identity theft, with the typical victim losing around $2,000.\n",
       "- Employment scams, though accounting for only 9% of identity scams, are an emerging threat, leveraging AI advancements to make fraudulent job offers appear more legitimate, highlighting the importance of independently verifying job opportunities and avoiding upfront requests for personal information. \n",
       "\n"
      ],
      "text/plain": [
       "<IPython.core.display.Markdown object>"
      ]
     },
     "metadata": {},
     "output_type": "display_data"
    },
    {
     "data": {
      "text/markdown": [
       "[62. Cloudflare launches a tool to combat AI bots - Feedly AI](https://techcrunch.com/2024/07/03/cloudflare-launches-a-tool-to-combat-ai-bots)  \n",
       "\n",
       "Topics: AI energy, AI economic impacts, AI ethical and legal issues, Cybersecurity, AI doom, GenAI, Cloudflare, Big Tech\n",
       "\n",
       "- Cloudflare has launched a tool to automatically detect and block AI bots, crawlers, and scrapers.\n",
       "- The tool analyzes AI bot and crawler traffic to fine-tune automatic bot detection models and flag traffic from evasive AI bots.\n",
       "- The problem of AI bots has escalated with the demand for model training data, leading many sites to block AI scrapers and crawlers, although some vendors still appear to be circumventing standard bot exclusion rules. \n",
       "\n"
      ],
      "text/plain": [
       "<IPython.core.display.Markdown object>"
      ]
     },
     "metadata": {},
     "output_type": "display_data"
    },
    {
     "data": {
      "text/markdown": [
       "[63. Computer love: AI-powered chatbots are changing how we understand romantic and sexual well-being - Feedly AI](https://theconversation.com/computer-love-ai-powered-chatbots-are-changing-how-we-understand-romantic-and-sexual-well-being-234054)  \n",
       "\n",
       "Topics: GenAI, ChatGPT\n",
       "\n",
       "- AI-powered chatbots offer companionship, intimacy, and emotional support, leading users to form genuine emotional bonds with them, even resembling human relationships.\n",
       "- There are concerns that reliance on AI romantic companions may hinder the development of social skills, emotional growth, and the ability to navigate real-world relationships.\n",
       "- Privacy issues have been raised regarding AI chatbots, as they may share personal data and potentially lead to social isolation and emotional dependency for users. \n",
       "\n"
      ],
      "text/plain": [
       "<IPython.core.display.Markdown object>"
      ]
     },
     "metadata": {},
     "output_type": "display_data"
    },
    {
     "data": {
      "text/markdown": [
       "[64. Real criminals, fake victims: how chatbots are being deployed in the global fight against phone scammers - Reddit](https://www.reddit.com/r/technology/comments/1dxhln5/real_criminals_fake_victims_how_chatbots_are/)  \n",
       "\n",
       "Topics: Robots, AI ethical and legal issues, Cybersecurity, Scams, GenAI\n",
       "\n",
       "- Chatbots are being utilized in the global fight against phone scammers to engage and waste scammers' time.\n",
       "- The use of chatbots aims to reduce the success rate of scam calls and protect potential victims.\n",
       "- Certain companies are deploying strategies involving AI to combat phone scammers and enhance security measures. \n",
       "\n"
      ],
      "text/plain": [
       "<IPython.core.display.Markdown object>"
      ]
     },
     "metadata": {},
     "output_type": "display_data"
    },
    {
     "data": {
      "text/markdown": [
       "[65. AI Creates A 1950s The Fifth Element Movie Trailer & It's Freaky - Feedly AI](https://www.looper.com/1613987/ai-1950s-the-fifth-element-movie-trailer-freaky/)  \n",
       "\n",
       "Topics: Robots, Language Models, GenAI, OpenAI\n",
       "\n",
       "- AI technology reimagined \"The Fifth Element\" movie in a 1950s retro style, giving it a unique visual aesthetic with a throwback vibe.\n",
       "- The fan-made concept trailer features elements like flying cars, buildings, and spacecrafts inspired by 1950s designs, creating a new perspective on the futuristic world of the film.\n",
       "- Despite positive reception and hopes from fans, there are no current plans for a 1950s-set \"The Fifth Element\" remake or sequel, as the original remains a cult classic in the sci-fi genre. \n",
       "\n"
      ],
      "text/plain": [
       "<IPython.core.display.Markdown object>"
      ]
     },
     "metadata": {},
     "output_type": "display_data"
    },
    {
     "data": {
      "text/markdown": [
       "[66. AI turns Family Guy into a 1980s live action sitcom and the results are freaky - Feedly AI](https://www.unilad.com/film-and-tv/news/family-guy-live-action-ai-831421-20240705)  \n",
       "\n",
       "Topics: GenAI\n",
       "\n",
       "- AI technology has been used to transform popular cartoons like Family Guy into live-action sitcoms from the 1980s, resulting in both hilarious and terrifying outcomes\n",
       "- The AI-generated mockup of Family Guy features characters like Peter, Lois, Meg, and Chris, as well as unique interpretations of iconic characters like the Giant Chicken and Stewie\n",
       "- Viewers reacted with a mix of fascination and unease, with some expressing interest in watching a full sitcom version of the AI-transformed Family Guy \n",
       "\n"
      ],
      "text/plain": [
       "<IPython.core.display.Markdown object>"
      ]
     },
     "metadata": {},
     "output_type": "display_data"
    },
    {
     "data": {
      "text/markdown": [
       "[67. next level image gen, i can see why artists are going out of business - Reddit](https://www.reddit.com/r/ChatGPT/comments/1dxf72r/next_level_image_gen_i_can_see_why_artists_are/)  \n",
       "\n",
       "Topics: AI economic impacts, AI doom, GenAI, Nvidia, OpenAI, Cohere, Big Tech\n",
       "\n",
       "- Users on r/ChatGPT discuss the capabilities of an image generation model, comparing it to human coding skills and discussing its potential applications in creative projects.\n",
       "- Some users express surprise at the model's ability to visualize unique images, highlighting its potential in assisting with coding tasks and generating creative solutions.\n",
       "- There are mixed reactions within the community regarding the ease of generating images using the model, with debates on coding complexity, AI capabilities, and the efficiency of using AI tools. \n",
       "\n"
      ],
      "text/plain": [
       "<IPython.core.display.Markdown object>"
      ]
     },
     "metadata": {},
     "output_type": "display_data"
    },
    {
     "data": {
      "text/markdown": [
       "[68. Trend Of Hurkle-Durkling In Bed Gets Boosted To High Form Via Modern Generative AI - Feedly AI](https://www.forbes.com/sites/lanceeliot/2024/07/07/trend-of-hurkle-durkling-in-bed-gets-boosted-to-high-form-via-modern-generative-ai/)  \n",
       "\n",
       "Topics: AI economic impacts, AI ethical and legal issues, AI doom, Code generation, Language Models, GenAI, OpenAI, Meta, Cohere, ChatGPT\n",
       "\n",
       "- Hurkle-durkling is the act of lounging in bed longer than necessary after waking up.\n",
       "- Generative AI can help detect hurkle-durkling, provide mental health advisement, and analyze behavior patterns associated with it.\n",
       "- Hurkle-durkling can have both positive aspects like rest and relaxation, and negative aspects like procrastination and routine disruption. \n",
       "\n"
      ],
      "text/plain": [
       "<IPython.core.display.Markdown object>"
      ]
     },
     "metadata": {},
     "output_type": "display_data"
    },
    {
     "data": {
      "text/markdown": [
       "[69. Fashion Gets a Generative AI Makeover - Feedly AI](https://analyticsindiamag.com/fashion-gets-a-generative-ai-makeover/)  \n",
       "\n",
       "Topics: GenAI, OpenAI\n",
       "\n",
       "- Generative AI has the potential to boost the fashion industry's profits by $150 billion to $275 billion by 2030.\n",
       "- AI algorithms are used to create innovative styles, inspiring designers and making high fashion accessible and diverse.\n",
       "- Fashion brands like The Fabricant and Rebeca Minkoff use AI for digital clothing designs, GANs generate new fashion designs from existing styles, and various companies integrate AI for trend forecasting and personalized shopping experiences. \n",
       "\n"
      ],
      "text/plain": [
       "<IPython.core.display.Markdown object>"
      ]
     },
     "metadata": {},
     "output_type": "display_data"
    },
    {
     "data": {
      "text/markdown": [
       "[70. Metas new AI model can turn text into 3D images in under a minute - Feedly AI](https://www.digitaltrends.com/computing/meta-3d-gen-ai-retexture/)  \n",
       "\n",
       "Topics: AI economic impacts, AI jobs, Language Models, GenAI, Meta, Cohere, Big Tech\n",
       "\n",
       "- Meta's new \"3D Gen\" AI model can transform text into high-fidelity 3D images in under a minute.\n",
       "- The model can generate 3D models quickly and apply new textures using text prompts.\n",
       "- The model demonstrates high-resolution textures, material maps, physically-based rendering, and generative re-texturing capabilities. \n",
       "\n"
      ],
      "text/plain": [
       "<IPython.core.display.Markdown object>"
      ]
     },
     "metadata": {},
     "output_type": "display_data"
    },
    {
     "data": {
      "text/markdown": [
       "[71. German court allows patents for AI-generated inventions - Feedly AI](https://www.surrey.ac.uk/news/german-court-allows-patents-ai-generated-inventions)  \n",
       "\n",
       "Topics: AI policy and regulation, AI economic impacts, AI ethical and legal issues, Intellectual Property, GenAI\n",
       "\n",
       "- German court rules that inventions generated by artificial intelligence can be patented, resolving a split between German federal appellate courts\n",
       "- The decision allows for a natural person to be named as an inventor even if AI was used in generating the invention\n",
       "- This decision is part of the Artificial Inventor Project led by Professor Ryan Abbott from the University of Surrey \n",
       "\n"
      ],
      "text/plain": [
       "<IPython.core.display.Markdown object>"
      ]
     },
     "metadata": {},
     "output_type": "display_data"
    },
    {
     "data": {
      "text/markdown": [
       "[72. Does Generative AI Violate the Rights of Authors and Artists? - HackerNoon](https://hackernoon.com/does-generative-ai-violate-the-rights-of-authors-and-artists)  \n",
       "\n",
       "Topics: AI policy and regulation, AI ethical and legal issues, Intellectual Property, GenAI, Meta\n",
       "\n",
       "- Authors, artists, and employers are upset over generative AI, leading to pending lawsuits and concerns about the impact on their livelihoods.\n",
       "- Legal questions surrounding copyright and fair use in relation to generative AI are complex and remain unresolved.\n",
       "- While generative AI can enhance creativity and knowledge, there are debates on whether AI should be treated differently under copyright law and how it may impact various industries in the future. \n",
       "\n"
      ],
      "text/plain": [
       "<IPython.core.display.Markdown object>"
      ]
     },
     "metadata": {},
     "output_type": "display_data"
    },
    {
     "data": {
      "text/markdown": [
       "[73. Is the First Generative AI Camera on the Horizon? - Google News](https://news.google.com/articles/CBMiR2h0dHBzOi8vd3d3LmNpbmVkLmNvbS9pcy10aGUtZmlyc3QtZ2VuZXJhdGl2ZS1haS1jYW1lcmEtb24tdGhlLWhvcml6b24v0gEA)  \n",
       "\n",
       "Topics: GenAI, OpenAI\n",
       "\n",
       "- The CMR M-1 camera is a new concept camera co-developed by SpecialGuestX and 1stAveMachine, featuring generative AI technology.\n",
       "- The camera challenges the traditional concept of a camera by incorporating generative AI algorithms alongside basic light-capturing elements.\n",
       "- The CMR M-1 offers a unique workflow that combines vintage design elements with modern generative AI technology, providing a glimpse into potential future camera features. \n",
       "\n"
      ],
      "text/plain": [
       "<IPython.core.display.Markdown object>"
      ]
     },
     "metadata": {},
     "output_type": "display_data"
    },
    {
     "data": {
      "text/markdown": [
       "[74. OpenAI-Powered Humanoid Robot Fills Spot At BMW Assembly Plant - Feedly AI](https://www.forbes.com/sites/chriswestfall/2024/07/07/openai-powered-humanoid-robot-fills-spot-at-bmw-assembly-plant/)  \n",
       "\n",
       "Topics: AI economic impacts, Robots, AI jobs, Reinforcement Learning, OpenAI\n",
       "\n",
       "- BMW's Spartanburg plant is testing a new fully autonomous humanoid robot in its assembly process, with machine learning capabilities powered by OpenAI and built by Figure.\n",
       "- Humanoid robots are becoming increasingly important in manufacturing due to factors like labor shortages, hazardous tasks, and repetitive work, leading car makers to explore automation options.\n",
       "- Agility Robotics has established a humanoid robot factory, where production costs have significantly decreased, making humanoid robots more accessible for tasks requiring manual dexterity, navigation, and decision-making. \n",
       "\n"
      ],
      "text/plain": [
       "<IPython.core.display.Markdown object>"
      ]
     },
     "metadata": {},
     "output_type": "display_data"
    },
    {
     "data": {
      "text/markdown": [
       "[75. Figure 01: Coffee-making humanoid robot now shows car assembly skill at BMW - Google News](https://news.google.com/articles/CBMicGh0dHBzOi8vYmxvZy5hZGFmcnVpdC5jb20vMjAyNC8wNy8wNi9maWd1cmUtMDEtY29mZmVlLW1ha2luZy1odW1hbm9pZC1yb2JvdC1ub3ctc2hvd3MtY2FyLWFzc2VtYmx5LXNraWxsLWF0LWJtdy_SAQA)  \n",
       "\n",
       "Topics: AI economic impacts, Robots, Anthropic\n",
       "\n",
       "- Figure signed a commercial agreement with BMW to deploy its humanoid robot in the carmaker's production facility\n",
       "- The California-based robotics firm released a video showcasing its 01 humanoid robot participating in the vehicle assembly process at BMW\n",
       "- Adafruit Industries publishes various content including interviews and reporting on the maker market and technology industry \n",
       "\n"
      ],
      "text/plain": [
       "<IPython.core.display.Markdown object>"
      ]
     },
     "metadata": {},
     "output_type": "display_data"
    },
    {
     "data": {
      "text/markdown": [
       "[76. Video: Figure 01 humanoid trains for its first job assembling BMWs - Google News](https://news.google.com/articles/CBMiMmh0dHBzOi8vbmV3YXRsYXMuY29tL3JvYm90aWNzL2ZpZ3VyZS1odW1hbm9pZC1ibXcv0gEA)  \n",
       "\n",
       "Topics: AI economic impacts, Robots, AI jobs, Reinforcement Learning, Anthropic\n",
       "\n",
       "- Figure's humanoid robot has been training to work at a BMW manufacturing plant\n",
       "- Various companies are developing AI-powered humanoids to undertake physical tasks more efficiently than humans\n",
       "- These robots are in training for real-world customer operations, particularly in car manufacturing industries \n",
       "\n"
      ],
      "text/plain": [
       "<IPython.core.display.Markdown object>"
      ]
     },
     "metadata": {},
     "output_type": "display_data"
    },
    {
     "data": {
      "text/markdown": [
       "[77. Watch: Figure's 01 humanoids now working at BMW's car plant in US - Google News](https://news.google.com/articles/CBMiXmh0dHBzOi8vaW50ZXJlc3RpbmdlbmdpbmVlcmluZy5jb20vaW5ub3ZhdGlvbi91cy1maWd1cmUtaHVtYW5vaWQtc3RhcnQtb3BlcmF0aW9ucy1hdC1ibXctcGxhbnTSAQA)  \n",
       "\n",
       "Topics: AI economic impacts, Robots, AI jobs\n",
       "\n",
       "- Figure's humanoid robot is deployed at BMW's facility in Spartanburg, SC, demonstrating full autonomy in vehicle assembly with actions guided by neural networks.\n",
       "- The versatile humanoid robots from Figure can handle various manufacturing tasks, such as sheet metal handling, operating in the body shop, and overseeing the warehouse, with precise placement capabilities enabled by neural networks.\n",
       "- Several car manufacturers, including BMW and Mercedes, are exploring the use of humanoid robots for automating repetitive and hazardous tasks on assembly lines to improve productivity and address workforce scaling challenges. \n",
       "\n"
      ],
      "text/plain": [
       "<IPython.core.display.Markdown object>"
      ]
     },
     "metadata": {},
     "output_type": "display_data"
    },
    {
     "data": {
      "text/markdown": [
       "[78. Official PyTorch Documentary Revisits Its Past, and Its Future - Hacker News 2](https://thenewstack.io/official-pytorch-documentary-revisits-its-past-and-its-future/)  \n",
       "\n",
       "Topics: Open Source\n",
       "\n",
       "- PyTorch is utilized by over 60% of AI jobs today and has a significant impact on AI research implementations.\n",
       "- The official PyTorch documentary titled \"Powering the AI Revolution\" recounts the creation and development of the deep learning framework, highlighting its exponential growth.\n",
       "- The documentary reflects on the evolution of AI tools, the origin and rise of PyTorch, its contributions to various industries, and its future potential in enabling diverse platforms and applications. \n",
       "\n"
      ],
      "text/plain": [
       "<IPython.core.display.Markdown object>"
      ]
     },
     "metadata": {},
     "output_type": "display_data"
    },
    {
     "data": {
      "text/markdown": [
       "[79. Perseverance Triumphs: How SHERLOC Was Brought Back to Life on Mars - Reddit](https://www.reddit.com/r/technology/comments/1dx7p3r/perseverance_triumphs_how_sherloc_was_brought/)  \n",
       "\n",
       "Topics: Robots\n",
       "\n",
       "- A post in r/technology discusses the successful revival of SHERLOC on Mars\n",
       "- The post includes 40 points and 2 comments from users\n",
       "- Users express excitement and amazement at the feat of bringing the science-built machine back to life on Mars \n",
       "\n"
      ],
      "text/plain": [
       "<IPython.core.display.Markdown object>"
      ]
     },
     "metadata": {},
     "output_type": "display_data"
    },
    {
     "data": {
      "text/markdown": [
       "[80. 400 robotic surgeries, 98% survival rate: Saudi hospital achieves milestone - Reddit](https://www.reddit.com/r/tech/comments/1dxeodw/400_robotic_surgeries_98_survival_rate_saudi/)  \n",
       "\n",
       "Topics: Robots, Healthcare\n",
       "\n",
       "- Saudi hospital achieves a milestone of 400 successful robotic cardiac surgeries with a 98% survival rate\n",
       "- Discussions in the Reddit post include questions about the specifics of robotic surgery, the role of human control in robotic surgeries, and comparisons with traditional surgery survival rates\n",
       "- Some skepticism and questions are raised regarding the reported statistics and the performance of robotic surgery, particularly in cardiac surgeries. \n",
       "\n"
      ],
      "text/plain": [
       "<IPython.core.display.Markdown object>"
      ]
     },
     "metadata": {},
     "output_type": "display_data"
    },
    {
     "data": {
      "text/markdown": [
       "[81. Press Release: A 2D device for quantum cooling:EPFL engineers have created a device that can efficiently convert heat into electrical voltage at temperatures lower than that of outer space. The innovation could help overcome a significant obstacle to the adva - Google News](https://news.google.com/articles/CBMiNGh0dHBzOi8vd3d3Lm5hbm90ZWNoLW5vdy5jb20vbmV3cy5jZ2k_c3RvcnlfaWQ9NTc0OTfSAQA)  \n",
       "\n",
       "- EPFL engineers created a 2D device that efficiently converts heat into electrical voltage at temperatures lower than outer space.\n",
       "- The device helps in overcoming obstacles in quantum computing technology by cooling quantum bits to millikelvin temperatures.\n",
       "- The device combines graphene and indium selenide to exploit the Nernst effect, allowing for efficient heat to voltage conversion at ultra-low temperatures. \n",
       "\n"
      ],
      "text/plain": [
       "<IPython.core.display.Markdown object>"
      ]
     },
     "metadata": {},
     "output_type": "display_data"
    },
    {
     "data": {
      "text/markdown": [
       "[82. Step aside Futurama, scientist build robot that's controlled by a brain in a jar - Reddit](https://www.reddit.com/r/tech/comments/1dxf0nq/step_aside_futurama_scientist_build_robot_thats/)  \n",
       "\n",
       "Topics: Robots\n",
       "\n",
       "- Scientists have developed a robot controlled by a brain in a jar, reminiscent of science fiction concepts like Krang and Robobrains.\n",
       "- The robot is a mockup and the actual brain is kept separate for testing, raising questions about the ethical and practical implications of using human or animal brains for such technology.\n",
       "- There is discussion on the potential use of proto-brains and the ethical considerations of creating consciousness in non-born entities for tasks like servitude. \n",
       "\n"
      ],
      "text/plain": [
       "<IPython.core.display.Markdown object>"
      ]
     },
     "metadata": {},
     "output_type": "display_data"
    },
    {
     "data": {
      "text/markdown": [
       "[83. Policy Learning with Large World Models: Advancing Multi-Task Reinforcement Learning Efficiency and Performance - Feedly AI](https://www.marktechpost.com/2024/07/07/policy-learning-with-large-world-models-advancing-multi-task-reinforcement-learning-efficiency-and-performance/)  \n",
       "\n",
       "Topics: LLMs, Reinforcement Learning, OpenAI\n",
       "\n",
       "- Reinforcement Learning (RL) is effective for individual tasks but struggles with multitasking, especially with different robotic forms\n",
       "- Policy Learning with Large World Models (PWM) introduced as an innovative model-based reinforcement learning algorithm \n",
       "- PWM utilizes large multi-task world models for efficient policy training, outperforming existing methods with higher rewards and smoother optimization landscapes \n",
       "\n"
      ],
      "text/plain": [
       "<IPython.core.display.Markdown object>"
      ]
     },
     "metadata": {},
     "output_type": "display_data"
    },
    {
     "data": {
      "text/markdown": [
       "[84. InternLM2.5-7B-Chat: Open Sourcing Large Language Models with Unmatched Reasoning, Long-Context Handling, and Enhanced Tool Use - Feedly AI](https://www.marktechpost.com/2024/07/07/internlm2-5-7b-chat-open-sourcing-large-language-models-with-unmatched-reasoning-long-context-handling-and-enhanced-tool-use/)  \n",
       "\n",
       "Topics: LLMs, Open Source, Language Models, GenAI, Google, OpenAI, Meta, Cohere, ChatGPT\n",
       "\n",
       "- InternLM has introduced InternLM2.5-7B-Chat, a large language model in GGUF format compatible with llama.cpp, highlighting state-of-the-art reasoning in mathematical tasks and a 1M context window.\n",
       "- The model's capability in handling long contexts is enhanced with LMDeploy toolkit for compressing, deploying, and serving LLMs, particularly effective in retrieving information from extensive documents.\n",
       "- InternLM2.5-7B-Chat demonstrates superior performance in various benchmarks, excelling in tool use, and offers a guide for installation, model download, and deployment examples with faster inference capabilities on NVIDIA GPUs. \n",
       "\n"
      ],
      "text/plain": [
       "<IPython.core.display.Markdown object>"
      ]
     },
     "metadata": {},
     "output_type": "display_data"
    },
    {
     "data": {
      "text/markdown": [
       "[85. Reasoning in Large Language Models: A Geometric Perspective - Hacker News](https://arxiv.org/abs/2407.02678)  \n",
       "\n",
       "Topics: LLMs, Language Models, OpenAI, Cohere\n",
       "\n",
       "- The study explores reasoning abilities of large language models (LLMs) through a geometric understanding.\n",
       "- A connection is established between the expressive power of LLMs and the density of their self-attention graphs.\n",
       "- The density of these graphs defines the intrinsic dimension of the inputs to the MLP blocks, with higher intrinsic dimensions implying greater expressive capacity. \n",
       "\n"
      ],
      "text/plain": [
       "<IPython.core.display.Markdown object>"
      ]
     },
     "metadata": {},
     "output_type": "display_data"
    },
    {
     "data": {
      "text/markdown": [
       "[86. Workplace harrasment diagram by chatGPT - Reddit](https://www.reddit.com/r/ChatGPT/comments/1dxd1yg/workplace_harrasment_diagram_by_chatgpt/)  \n",
       "\n",
       "Topics: Language Models, GenAI, ChatGPT\n",
       "\n",
       "- Workplace harassment diagram by ChatGPT shared on r/ChatGPT\n",
       "- Rules on post behavior within the ChatGPT subreddit\n",
       "- Comments by users on the diagram and its interpretation \n",
       "\n"
      ],
      "text/plain": [
       "<IPython.core.display.Markdown object>"
      ]
     },
     "metadata": {},
     "output_type": "display_data"
    },
    {
     "data": {
      "text/markdown": [
       "[87. OpenAI's ChatGPT Mac App Was Saving Chats as Plain Text - Feedly AI](https://www.pcmag.com/news/openais-chatgpt-mac-app-was-saving-chats-as-plain-text)  \n",
       "\n",
       "Topics: AI ethical and legal issues, Cybersecurity, Privacy, Language Models, OpenAI, Big Tech, ChatGPT\n",
       "\n",
       "- OpenAI's ChatGPT Mac app was saving chats as plain text.\n",
       "- The issue was corrected through an update this week.\n",
       "- The app now encrypts local chats but messages are still not sandboxed. \n",
       "\n"
      ],
      "text/plain": [
       "<IPython.core.display.Markdown object>"
      ]
     },
     "metadata": {},
     "output_type": "display_data"
    },
    {
     "data": {
      "text/markdown": [
       "[88. How ChatGPT is Revolutionizing Customer Service in 2024 - Feedly AI](https://www.marktechpost.com/2024/07/07/how-chatgpt-is-revolutionizing-customer-service-in-2024/)  \n",
       "\n",
       "Topics: customer service, Language Models, GenAI, OpenAI, ChatGPT\n",
       "\n",
       "- OpenAI's ChatGPT is transforming customer service in 2024 using advanced AI technology\n",
       "- ChatGPT enhances customer interactions through natural language processing and offers 24/7 availability for inquiries\n",
       "- Implementing ChatGPT in customer service operations reduces costs, provides personalization, multilingual support, scalability, and continuous improvement through machine learning \n",
       "\n"
      ],
      "text/plain": [
       "<IPython.core.display.Markdown object>"
      ]
     },
     "metadata": {},
     "output_type": "display_data"
    },
    {
     "data": {
      "text/markdown": [
       "[89. What are some creative or unexpected uses of ChatGPT youve discovered? - Reddit](https://www.reddit.com/r/ChatGPT/comments/1dxexjh/what_are_some_creative_or_unexpected_uses_of/)  \n",
       "\n",
       "Topics: Language Models, GenAI, OpenAI, ChatGPT\n",
       "\n",
       "- Users have discovered creative uses of ChatGPT such as generating beer recommendations based on a menu photo, translating foreign restaurant menus, creating bedtime stories, and generating music for D&D campaign recaps.\n",
       "- ChatGPT has been utilized for tasks like resume tailoring for job applications, preparing for interviews, writing emails, optimizing grocery shopping lists, and learning about topics through daily discussions.\n",
       "- It has also been employed in generating workout plans, meal recipes, legal contract analysis, and assisting lawyers in tasks like summarization, syntax review, and document templating. \n",
       "\n"
      ],
      "text/plain": [
       "<IPython.core.display.Markdown object>"
      ]
     },
     "metadata": {},
     "output_type": "display_data"
    },
    {
     "data": {
      "text/markdown": [
       "[90. GPT-4o vs Gemini 1.5 Pro vs Claude 3.5 Sonnet. Only Claude calls astrology bullshit right away - Reddit](https://www.reddit.com/r/ChatGPT/comments/1dxmm0u/gpt4o_vs_gemini_15_pro_vs_claude_35_sonnet_only/)  \n",
       "\n",
       "Topics: Language Models, GenAI, Claude\n",
       "\n",
       "- Claude 3.5 Sonnet stands out by calling astrology bullshit immediately.\n",
       "- Users express satisfaction with Claude's responses and effectiveness.\n",
       "- Discussion includes comparisons between GPT-4o, Gemini 1.5 Pro, and Claude 3.5 Sonnet, with Claude receiving positive feedback for its performance. \n",
       "\n"
      ],
      "text/plain": [
       "<IPython.core.display.Markdown object>"
      ]
     },
     "metadata": {},
     "output_type": "display_data"
    },
    {
     "data": {
      "text/markdown": [
       "[91. I learned how to use AI generative prompts with this one app - Feedly AI](https://www.techradar.com/computing/websites-apps/i-learned-how-to-use-ai-generative-prompts-with-this-one-app)  \n",
       "\n",
       "Topics: Language Models, GenAI\n",
       "\n",
       "- Sololearn provides a range of courses from AI to Python, offering an engaging and hands-on learning experience with real-time feedback.\n",
       "- The app offers games like 'Bug Hunter' and challenges against opponents, fostering motivation and competition within the Sololearn community.\n",
       "- Users can also create code in the Code Playground for community feedback, making it a valuable tool for error debugging and improvement in programming skills. \n",
       "\n"
      ],
      "text/plain": [
       "<IPython.core.display.Markdown object>"
      ]
     },
     "metadata": {},
     "output_type": "display_data"
    },
    {
     "data": {
      "text/markdown": [
       "[92. Mitigating AI bias with prompt engineering  putting GPT to the test - Google News](https://news.google.com/articles/CBMiXmh0dHBzOi8vdmVudHVyZWJlYXQuY29tL2FpL21pdGlnYXRpbmctYWktYmlhcy13aXRoLXByb21wdC1lbmdpbmVlcmluZy1wdXR0aW5nLWdwdC10by10aGUtdGVzdC_SAQA)  \n",
       "\n",
       "Topics: LLMs, AI ethical and legal issues, Language Models, GenAI, OpenAI, Cohere, Big Tech, ChatGPT\n",
       "\n",
       "- The experimental methodology analyzed the influence of different AI prompt designs on generating unbiased and fair content from LLMs.\n",
       "- Ethically-informed prompts demonstrated a reduction in biased output and increased equitable representation of diverse groups compared to neutral prompts.\n",
       "- Developing tailored approaches with emphasis on inclusive language and social context can enhance fairness in AI applications and mitigate biases. \n",
       "\n"
      ],
      "text/plain": [
       "<IPython.core.display.Markdown object>"
      ]
     },
     "metadata": {},
     "output_type": "display_data"
    },
    {
     "data": {
      "text/markdown": [
       "[93. Samsung Galaxy AI could soon offer real-time translations in WhatsApp - Feedly AI](https://www.techradar.com/phones/samsung-galaxy-phones/samsung-galaxy-ai-could-soon-offer-real-time-translations-in-whatsapp)  \n",
       "\n",
       "Topics: Language Models, GenAI, Big Tech, Samsung, WhatsApp\n",
       "\n",
       "- Samsung Galaxy AI is expected to offer real-time translations in WhatsApp through third-party integrations, expanding its Live Translate feature to other apps.\n",
       "- The integration could extend to audio calls in WhatsApp, allowing translations between languages during conversations, in addition to text messages.\n",
       "- Samsung is focusing on incorporating AI features in their phones to stay competitive with other manufacturers like Apple and Google, showcasing the importance of AI in smartphone technology advancements. \n",
       "\n"
      ],
      "text/plain": [
       "<IPython.core.display.Markdown object>"
      ]
     },
     "metadata": {},
     "output_type": "display_data"
    },
    {
     "data": {
      "text/markdown": [
       "[94. Meta AI may get more collaborative in WhatsApp for Android. - Feedly AI](https://www.theverge.com/2024/7/7/24193680/meta-ai-may-get-more-collaborative-in-whatsapp-for-android)  \n",
       "\n",
       "Topics: Meta, Big Tech, WhatsApp\n",
       "\n",
       "- A new WhatsApp beta version for Android allows users to send photos to Meta AI and ask it questions or edit the image using prompts.\n",
       "- Meta has been introducing more image-generation features on WhatsApp, including a beta feature that enables Meta AI to create avatars for users based on their photos.\n",
       "- The collaboration between Meta AI and WhatsApp on Android may increase, providing users with more interactive and AI-driven experiences within the app. \n",
       "\n"
      ],
      "text/plain": [
       "<IPython.core.display.Markdown object>"
      ]
     },
     "metadata": {},
     "output_type": "display_data"
    },
    {
     "data": {
      "text/markdown": [
       "[95. WhatsApp's new feature will let Meta AI edit your photos for you - Feedly AI](https://www.androidauthority.com/whatsapp-meta-ai-update-3457975/)  \n",
       "\n",
       "Topics: AI policy and regulation, AI economic impacts, AI jobs, AI ethical and legal issues, GenAI, Meta, Big Tech, WhatsApp\n",
       "\n",
       "- WhatsApp's beta version introduced a new feature that allows users to share photos with Meta AI, which can analyze, provide information, and even edit the uploaded images directly in the chat.\n",
       "- Meta AI will offer users the capability to ask questions about their photos, identify objects or locations, and request edits to their images.\n",
       "- The extent of the image editing feature within Meta AI in WhatsApp, currently in development, remains unclear but has the potential to revolutionize photo editing capabilities through AI technology. \n",
       "\n"
      ],
      "text/plain": [
       "<IPython.core.display.Markdown object>"
      ]
     },
     "metadata": {},
     "output_type": "display_data"
    },
    {
     "data": {
      "text/markdown": [
       "[96. New cyberattack targets iPhone and Apple IDs  Heres how to stay safe - Google News](https://news.google.com/articles/CBMiX2h0dHBzOi8vY3liZXJndXkuY29tL3NjYW1zL25ldy1jeWJlcmF0dGFjay10YXJnZXRzLWlwaG9uZS1hbmQtYXBwbGUtaWRzLWhlcmVzLWhvdy10by1zdGF5LXNhZmUv0gFjaHR0cHM6Ly9jeWJlcmd1eS5jb20vc2NhbXMvbmV3LWN5YmVyYXR0YWNrLXRhcmdldHMtaXBob25lLWFuZC1hcHBsZS1pZHMtaGVyZXMtaG93LXRvLXN0YXktc2FmZS9hbXAv)  \n",
       "\n",
       "Topics: Cybersecurity, Scams, Privacy, Apple, Big Tech\n",
       "\n",
       "- A cyberattack targeting Apple iPhone users through text phishing scam has been identified, urging users to be cautious of fake messages requesting Apple ID credentials.\n",
       "- The attackers create fake websites resembling Apple's login page to steal personal and financial data.\n",
       "- Apple advises enabling two-factor authentication, being wary of suspicious messages, and staying updated with software to protect against such scams. \n",
       "\n"
      ],
      "text/plain": [
       "<IPython.core.display.Markdown object>"
      ]
     },
     "metadata": {},
     "output_type": "display_data"
    },
    {
     "data": {
      "text/markdown": [
       "[97. Apple's AI Shift, Board Observer Role At OpenAI, Extended iPhone Settlement Deadline, And AI Partnership With Google: This Week In Appleverse - Alphabet (NASDAQ:GOOG), Apple (NASDAQ:AAPL) - Google News](https://news.google.com/articles/CBMikQFodHRwczovL3d3dy5iZW56aW5nYS5jb20vbmV3cy8yNC8wNy8zOTY1NjI2OS9hcHBsZXMtYWktc2hpZnQtYm9hcmQtb2JzZXJ2ZXItcm9sZS1hdC1vcGVuYWktZXh0ZW5kZWQtaXBob25lLXNldHRsZW1lbnQtZGVhZGxpbmUtYW5kLWFpLXBhcnRuZXJzaGlw0gEA)  \n",
       "\n",
       "Topics: AI economic impacts, AI jobs, Language Models, GenAI, Google, OpenAI, Apple, Big Tech\n",
       "\n",
       "- Apple is shifting focus towards artificial intelligence and software due to slower hardware innovation\n",
       "- Apple secures an observer role at OpenAI, extends iPhone settlement deadline, and works on major changes for the next-gen Vision Pro headset\n",
       "- Apple is rumored to be partnering with Google in the fall for AI integration into Apple devices \n",
       "\n"
      ],
      "text/plain": [
       "<IPython.core.display.Markdown object>"
      ]
     },
     "metadata": {},
     "output_type": "display_data"
    },
    {
     "data": {
      "text/markdown": [
       "[98. Android Circuit: Galaxy Z Fold6 Details, Google AI Secrets, Pixel 9 Pro Specs - Google News](https://news.google.com/articles/CBMigAFodHRwczovL3d3dy5mb3JiZXMuY29tL3NpdGVzL2V3YW5zcGVuY2UvMjAyNC8wNy8wNS9hbmRyb2lkLW5ld3MtaGVhZGxpbmVzLXBpeGVsLTktcHJvLWdhbGF4eS16LWZvbGQ2LWh1YXdlaS1taXgtZm9sZDQtZ29vZ2xlLWFpL9IBAA)  \n",
       "\n",
       "Topics: Big Tech, Samsung\n",
       "\n",
       "- Final details on Samsung's Galaxy Z Fold6 reveal advancements in the hinge assembly for better design and durability.\n",
       "- Samsung might discontinue the \"Plus\" model for the S25 series, focusing on the regular and Ultra models.\n",
       "- The Pixel 9 Pro is expected to feature a new long-life display and debut Google AI with photo enhancement and creative tools. \n",
       "\n"
      ],
      "text/plain": [
       "<IPython.core.display.Markdown object>"
      ]
     },
     "metadata": {},
     "output_type": "display_data"
    },
    {
     "data": {
      "text/markdown": [
       "[99. Apple Loop: iPhone 16 Pro Specs, Apple Watch 10 Design Leaks, Paying For Apple's AI - Google News](https://news.google.com/articles/CBMiiAFodHRwczovL3d3dy5mb3JiZXMuY29tL3NpdGVzL2V3YW5zcGVuY2UvMjAyNC8wNy8wNy9hcHBsZS1uZXdzLWhlYWRsaW5lcy1pcGhvbmUtMTYtcHJvLWExNy1hcHBsZS13YXRjaC1pcGhvbmUtYmF0dGVyeS1yZXBsYWNlbWVudC1haS1yY3Mv0gEA)  \n",
       "\n",
       "Topics: Apple, Big Tech\n",
       "\n",
       "- iPhone 16 lineup will have AI-capable processors and share the same processor, improving battery life efficiency\n",
       "- Apple plans to introduce a new technology for easier battery replacements in iPhone models\n",
       "- Apple is incorporating RCS messaging protocol in its Messages app in iOS 18 to allow for advanced communication features \n",
       "\n"
      ],
      "text/plain": [
       "<IPython.core.display.Markdown object>"
      ]
     },
     "metadata": {},
     "output_type": "display_data"
    },
    {
     "data": {
      "text/markdown": [
       "[100. Apple Intelligence and a better Siri may be coming to iPhones this spring - Feedly AI](https://www.theverge.com/2024/7/7/24193619/apple-intelligence-better-siri-ios-18-4-spring-public-launch)  \n",
       "\n",
       "Topics: Apple, Big Tech\n",
       "\n",
       "- Siri is expected to improve with the introduction of Apple Intelligence AI system in the iOS 18.4 update in spring 2025, allowing for enhanced features like better organization of photos and easier form-filling.\n",
       "- Beta versions of iOS 18 will offer a preview of upcoming AI features like ChatGPT integration and a new Siri interface, with further enhancements like AirPods with embedded cameras in the works for future generations.\n",
       "- Apple's AI advancements plan also includes potential features like using AI to describe surroundings with imagery from AirPods and help with navigation, similar to Meta's Ray-Ban glasses. \n",
       "\n"
      ],
      "text/plain": [
       "<IPython.core.display.Markdown object>"
      ]
     },
     "metadata": {},
     "output_type": "display_data"
    },
    {
     "data": {
      "text/markdown": [
       "[101. I thought small phones were dead, but I want AI to bring them back - Google News](https://news.google.com/articles/CBMiQGh0dHBzOi8vd3d3LmFuZHJvaWRhdXRob3JpdHkuY29tL3NtYWxsLXBob25lcy1haS1yZXR1cm4tMzQ1NjcyNS_SAQA)  \n",
       "\n",
       "- The desire for the return of small phones is driven by the potential for AI to enhance user experience and functionality on compact devices. \n",
       "- The integration of highly capable smart assistants and offloading tasks to the cloud are seen as essential factors in making small phones a feasible reality. \n",
       "- The Rabbit R1, despite its shortcomings, represents a forward-thinking approach towards reimagining smartphone design by prioritizing voice commands and minimizing on-device work. \n",
       "\n"
      ],
      "text/plain": [
       "<IPython.core.display.Markdown object>"
      ]
     },
     "metadata": {},
     "output_type": "display_data"
    },
    {
     "data": {
      "text/markdown": [
       "[102. Police pulled over a Waymo car for driving in the oncoming lane - The Verge](https://www.theverge.com/2024/7/6/24193094/phoenix-waymo-car-pulled-over-traffic-stop-oncoming-lane-police)  \n",
       "\n",
       "Topics: Autonomous vehicles\n",
       "\n",
       "- A Waymo car was pulled over by police for driving in the oncoming lane due to confusion with construction signs\n",
       "- The vehicle had no passengers and was unable to issue a citation as stated in dispatch records\n",
       "- Despite instances of endangering road users, Waymo claims its cars are 3.5 times more likely to avoid a crash than humans \n",
       "\n"
      ],
      "text/plain": [
       "<IPython.core.display.Markdown object>"
      ]
     },
     "metadata": {},
     "output_type": "display_data"
    },
    {
     "data": {
      "text/markdown": [
       "[103. Don't Worry: Copilot+ PCs Don't Make Your Windows 11 System Obsolete - Feedly AI](https://www.makeuseof.com/worry-copilot-pc-old-windows-11-system-obsolete/)  \n",
       "\n",
       "Topics: Microsoft, Big Tech\n",
       "\n",
       "- CoPilot+ PCs enhance Windows 11 with AI tools via NPUs, offering features like automatic captions, Cocreator support, Auto Super Resolution, and AI assistant capabilities.\n",
       "- CoPilot+ does not make Windows 11 redundant; it builds on the existing system by adding AI capabilities and features, making it an upgrade rather than a replacement.\n",
       "- Deciding to buy a CoPilot+ PC depends on the user's interest in AI tools; it is not necessary for all users and primarily benefits those who want to leverage AI capabilities on their devices. \n",
       "\n"
      ],
      "text/plain": [
       "<IPython.core.display.Markdown object>"
      ]
     },
     "metadata": {},
     "output_type": "display_data"
    },
    {
     "data": {
      "text/markdown": [
       "[104. I spent a day using Copilot+ on the HP EliteBook Ultra, and it drove me crazy - Feedly AI](https://www.laptopmag.com/laptops/i-spent-a-day-using-copilot-on-the-hp-elitebook-ultra-and-it-drove-me-crazy)  \n",
       "\n",
       "Topics: Language Models\n",
       "\n",
       "- Copilot+ AI on the HP EliteBook Ultra doesn't offer any new features\n",
       "- Not all Copilot+ AI features are practical or necessary for daily use\n",
       "- The performance and battery life of Copilot+ PCs, like the HP EliteBook Ultra, are impressive, but the AI features may not warrant an upgrade at this point. \n",
       "\n"
      ],
      "text/plain": [
       "<IPython.core.display.Markdown object>"
      ]
     },
     "metadata": {},
     "output_type": "display_data"
    },
    {
     "data": {
      "text/markdown": [
       "[105. A friendly guide to containerization for AI work - Feedly AI](https://go.theregister.com/feed/www.theregister.com/2024/07/07/containerize_ai_apps/)  \n",
       "\n",
       "- Containerization helps in avoiding dependencies issues by building images configured specifically for tasks and ensures consistent and repeatable deployment.\n",
       "- Docker allows for easy access to GPUs from Intel, AMD, and Nvidia by passing appropriate flags when spinning up containers.\n",
       "- Prebuilt images like nvidia/cuda and ROCm images can be used to quickly set up CUDA, ROCm, or OpenVINO environments without building from scratch. \n",
       "\n"
      ],
      "text/plain": [
       "<IPython.core.display.Markdown object>"
      ]
     },
     "metadata": {},
     "output_type": "display_data"
    },
    {
     "data": {
      "text/markdown": [
       "[106. A friendly guide to containerization for AI workHands onSave the headaches, ship your dependenciesAI + ML6 hrs|1 - The Register](https://www.theregister.com/2024/07/07/containerize_ai_apps/)  \n",
       "\n",
       "- Containerizing AI workloads can help in managing dependencies, enabling consistent deployment, and running apps with conflicting software stacks.\n",
       "- Docker can be used to expose Intel, AMD, and Nvidia GPUs to containers, simplifying the process of making GPUs available for tasks.\n",
       "- Prebuilt images for CUDA, ROCm, and OpenVINO can expedite setting up environment, while converting containers into images and building custom images can enhance reproducibility and testing in AI development. \n",
       "\n"
      ],
      "text/plain": [
       "<IPython.core.display.Markdown object>"
      ]
     },
     "metadata": {},
     "output_type": "display_data"
    },
    {
     "data": {
      "text/markdown": [
       "[107. Show HN: Workspaice:  Human+AI, Creating Together - Hacker News 2](https://www.nunodonato.com/workspaice-humanai-creating-together/)  \n",
       "\n",
       "Topics: GenAI\n",
       "\n",
       "- Workspaice is a locally-run application that combines human creativity and AI assistance in a flexible workspace for creating various projects.\n",
       "- The application prioritizes privacy and speed by running locally on the user's computer and utilizes AI collaboratively with users in the creation process.\n",
       "- Workspaice is showcased in a demo video featuring projects like desktop app development, web app creation, and educational content, catering to developers, educators, writers, and anyone with innovative ideas. \n",
       "\n"
      ],
      "text/plain": [
       "<IPython.core.display.Markdown object>"
      ]
     },
     "metadata": {},
     "output_type": "display_data"
    },
    {
     "data": {
      "text/markdown": [
       "[108. James Muldoon, Mark Graham and Callum Cant: AI feeds off the work of human beings - Reddit](https://www.reddit.com/r/technology/comments/1dxij9l/james_muldoon_mark_graham_and_callum_cant_ai/)  \n",
       "\n",
       "Topics: AI economic impacts, AI jobs, AI ethical and legal issues, AI doom, Language Models\n",
       "\n",
       "- Data annotation industry workers, mostly in the global south, face poor working conditions with low wages.\n",
       "- 80% of the work behind AI products is data annotation, which can be intensive and outsourced.\n",
       "- AI's exploitation of human labor is a significant issue that needs more attention and discussion. \n",
       "\n"
      ],
      "text/plain": [
       "<IPython.core.display.Markdown object>"
      ]
     },
     "metadata": {},
     "output_type": "display_data"
    },
    {
     "data": {
      "text/markdown": [
       "[109. Meet Mercy and Anita  the African workers driving the AI revolution, for just over a dollar an hour - Reddit](https://www.reddit.com/r/technology/comments/1dx9xkt/meet_mercy_and_anita_the_african_workers_driving/)  \n",
       "\n",
       "Topics: AI economic impacts, AI jobs\n",
       "\n",
       "- Mercy and Anita, African workers, are playing a significant role in driving the AI revolution while earning just over a dollar an hour.\n",
       "- The article sheds light on the role of these workers in advancing Artificial Intelligence.\n",
       "- The workers' contributions are crucial to the development and progression of AI technology. \n",
       "\n"
      ],
      "text/plain": [
       "<IPython.core.display.Markdown object>"
      ]
     },
     "metadata": {},
     "output_type": "display_data"
    },
    {
     "data": {
      "text/markdown": [
       "[110. Figma disables AI-powered 'Make Design' feature after Weather app rip-off - Feedly AI](https://appleinsider.com/articles/24/07/07/figma-disables-ai-powered-make-design-feature-after-weather-app-rip-off)  \n",
       "\n",
       "Topics: AI ethical and legal issues, Intellectual Property, Big Tech\n",
       "\n",
       "- Figma is temporarily disabling its primary AI App UI design tool due to accusations of training the model on Apple's Weather app\n",
       "- Developer Andy Allen demonstrated that Figma's \"Make Design\" feature was repeatedly copying Apple's app when asked to create a weather app\n",
       "- Figma CEO Dylan Field defended the company by stating that the fault lies in the company's design systems, with no clear indication of when the tool will return \n",
       "\n"
      ],
      "text/plain": [
       "<IPython.core.display.Markdown object>"
      ]
     },
     "metadata": {},
     "output_type": "display_data"
    },
    {
     "data": {
      "text/markdown": [
       "[111. Microsoft's AI CEO: Web Content (Without a Robots.txt File) is 'Freeware' for AI Training - Google News](https://news.google.com/articles/CBMifmh0dHBzOi8vc2xhc2hkb3Qub3JnL3N0b3J5LzI0LzA3LzA3LzAwNTQyMjAvbWljcm9zb2Z0cy1haS1jZW8td2ViLWNvbnRlbnQtd2l0aG91dC1hLXJvYm90c3R4dC1maWxlLWlzLWZyZWV3YXJlLWZvci1haS10cmFpbmluZ9IBAA)  \n",
       "\n",
       "Topics: Robots, AI ethical and legal issues, GenAI, Microsoft, Big Tech\n",
       "\n",
       "- Microsoft's CEO of AI, Mustafa Suleyman, stated that web content shared online has been considered fair use since the 90s, unless explicitly prohibited by the content producer.\n",
       "- Suleyman suggested that the economics of information will drastically change, leading to new scientific and cultural knowledge being produced at almost zero marginal cost.\n",
       "- There is a debate surrounding the use of web content for AI training, with concerns raised about ownership of intellectual property and potential copyright infringement issues. \n",
       "\n"
      ],
      "text/plain": [
       "<IPython.core.display.Markdown object>"
      ]
     },
     "metadata": {},
     "output_type": "display_data"
    },
    {
     "data": {
      "text/markdown": [
       "[112. Microsofts climbdown over its creepy Recall feature shows its AI strategy is far from intelligent | The tech companys new Windows machines can take constant screenshots of users every action  quelle surprise, its a privacy minefield - Reddit](https://www.reddit.com/r/technology/comments/1dxilwo/microsofts_climbdown_over_its_creepy_recall/)  \n",
       "\n",
       "Topics: AI ethical and legal issues, Cybersecurity, AI doom, Privacy, Microsoft, Big Tech\n",
       "\n",
       "- Microsoft faced criticism over the Recall feature in its new Windows machines for taking constant screenshots of users, highlighting privacy concerns.\n",
       "- The AI strategy of Microsoft was questioned as the Recall feature was considered intrusive and raised privacy issues among users.\n",
       "- Users expressed dissatisfaction with the privacy implications and performance impact of the Recall feature, with concerns about the extent of monitoring and lack of user control. \n",
       "\n"
      ],
      "text/plain": [
       "<IPython.core.display.Markdown object>"
      ]
     },
     "metadata": {},
     "output_type": "display_data"
    }
   ],
   "source": [
    "markdown_str = ''\n",
    "for i, row in enumerate(AIdf.itertuples()):\n",
    "    mdstr = f\"[{i+1}. {row.title} - {row.src}]({row.url})  \\n\\n\"\n",
    "    if 0 < len(catdict[row.id]) < 11 :\n",
    "        topicstr = \", \".join(catdict[row.id])\n",
    "        mdstr += f\"Topics: {topicstr}\\n\\n\"\n",
    "    mdstr += f\"{response_dict[row.id]} \\n\\n\"\n",
    "    display(Markdown(mdstr))\n",
    "    markdown_str += mdstr\n",
    "    "
   ]
  },
  {
   "cell_type": "code",
   "execution_count": 78,
   "id": "14d5b4bd",
   "metadata": {},
   "outputs": [],
   "source": [
    "FINAL_SUMMARY_PROMPT = f\"\"\"You are a summarization assistant. I will provide a list of today's news stories about AI\n",
    "and summary bullet points in markdown format. You are tasked with identifying and summarizing the key themes,\n",
    "common facts, and recurring elements. Your goal is to create a concise summary containing about 20 of the most \n",
    "frequently mentioned topics and developments.\n",
    "\n",
    "Example Input Bullet Points:\n",
    "\n",
    "[2. Sentient closes $85M seed round for open-source AI](https://cointelegraph.com/news/sentient-85-million-round-open-source-ai)\n",
    "\n",
    "Topics: AI startup funding, New AI products\n",
    "\n",
    "- Sentient secured $85 million in a seed funding round led by Peter Thiel's Founders Fund, Pantera Capital, and Framework Ventures for their open-source AI platform.\n",
    "- The startup aims to incentivize AI developers with its blockchain protocol and incentive mechanism, allowing for the evolution of open artificial general intelligence.\n",
    "- The tech industry is witnessing a rise in decentralized AI startups combining blockchain\n",
    "\n",
    "Examples of important stories:\n",
    "\n",
    "Major investments and funding rounds\n",
    "Key technological advancements or breakthroughs\n",
    "Frequently mentioned companies, organizations, or figures\n",
    "Notable statements by AI leaders\n",
    "Any other recurring themes or notable patterns\n",
    "\n",
    "Instructions:\n",
    "\n",
    "Read the summary bullet points closely.\n",
    "Use only information provided in them and provide the most common facts without commentary or elaboration.\n",
    "Write in the professional but engaging, narrative style of a tech reporter for a national publication.\n",
    "Be balanced, professional, informative, providing accurate, clear, concise summaries in a respectful neutral tone.\n",
    "Focus on the most common elements across the bullet points and group similar items together.\n",
    "Headers must be as short and simple as possible: use \"Health Care\" and not \"AI developments in Health Care\" or \"AI in Health Care\"\n",
    "Ensure that you provide at least one link from the provided text for each item in the summary.\n",
    "You must include at least 10 and no more than 25 items in the summary.\n",
    "\n",
    "Example Output Format:\n",
    "\n",
    "# Today's AI News\n",
    "\n",
    "### Security and Privacy:\n",
    "- ChatGPT Mac app had a security flaw exposing user conversations in plain text. ([Macworld](https://www.macworld.com/article/2386267/chatgpt-mac-sandboxing-security-flaw-apple-intelligence.html))\n",
    "- Brazil suspended Meta from using Instagram and Facebook posts for AI training over privacy concerns. ([BBC](https://www.bbc.com/news/articles/c7291l3nvwv))\n",
    "\n",
    "### Health Care:\n",
    "- AI can predict Alzheimer's disease with 70% accuracy up to seven years in advance. ([Decrypt](https://decrypt.co/238449/ai-alzheimers-detection-70-percent-accurate-study))\n",
    "- New AI system detects 13 cancers with 98% accuracy, revolutionizing cancer diagnosis. ([India Express](https://news.google.com/articles/CBMiiAFodHRwczovL2luZGlhbmV4cHJl))\n",
    "\n",
    "Bullet Points to Summarize:\n",
    "\n",
    "\"\"\""
   ]
  },
  {
   "cell_type": "code",
   "execution_count": 79,
   "id": "0726c08e",
   "metadata": {},
   "outputs": [
    {
     "name": "stderr",
     "output_type": "stream",
     "text": [
      "2024-07-07 19:09:41,414 - httpx - INFO - HTTP Request: POST https://api.openai.com/v1/chat/completions \"HTTP/1.1 200 OK\"\n"
     ]
    }
   ],
   "source": [
    "response = client.chat.completions.create(\n",
    "    model=MODEL,\n",
    "    messages=[\n",
    "              {\"role\": \"user\", \"content\": FINAL_SUMMARY_PROMPT + markdown_str\n",
    "              }],\n",
    "    n=1,   \n",
    "    temperature=0.5\n",
    ")\n"
   ]
  },
  {
   "cell_type": "code",
   "execution_count": 80,
   "id": "35dacf6e",
   "metadata": {},
   "outputs": [
    {
     "data": {
      "text/markdown": [
       "# Today's AI News\n",
       "\n",
       "### Stocks and Investments:\n",
       "- Nvidia was downgraded by New Street Research due to limited upside in GPU revenue projections. ([Investing](https://www.investing.com/news/stock-market-news/5-big-analyst-ai-moves-nvidia-downgraded-on-limited-further-upside-3509545))\n",
       "- Broadcom is seen as an essential AI investment, with strong AI-related revenue growth and a diversified product offering. ([Seeking Alpha](https://seekingalpha.com/article/4701801-broadcom-an-essential-company-for-ai-investors))\n",
       "- Samsung expects a significant profit surge from AI chip demand. ([FT](https://www.ft.com/content/8a7c86fe-f271-44ea-96e1-730f56493f39))\n",
       "- Warren Buffett's Berkshire Hathaway holds major positions in AI stocks like Snowflake, Amazon, and Apple. ([Fool](https://www.fool.com/investing/2024/07/07/45-warren-buffett-398-billion-portfolio-3-ai-stocks/))\n",
       "- China’s tech boom is driving high salaries for AI jobs, surpassing finance. ([SCMP](https://www.scmp.com/economy/china-economy/article/3269334/chinas-tech-boom-powering-ai-career-coup-finance-muscled-out-top-salary-pyramid))\n",
       "\n",
       "### AI in Healthcare:\n",
       "- Saudi hospital achieved 400 robotic cardiac surgeries with a 98% survival rate. ([Reddit](https://www.reddit.com/r/tech/comments/1dxeodw/400_robotic_surgeries_98_survival_rate_saudi/))\n",
       "\n",
       "### AI Ethical and Legal Issues:\n",
       "- Bipartisan bills in Congress aim to regulate nonconsensual explicit deepfakes. ([The Hill](https://thehill.com/policy/technology/4752365-regulation-nonconsensual-explicit-deepfakes/))\n",
       "- German court allows patents for AI-generated inventions. ([Surrey](https://www.surrey.ac.uk/news/german-court-allows-patents-ai-generated-inventions))\n",
       "- Figma disables its AI-powered \"Make Design\" feature after accusations of copying Apple's Weather app. ([AppleInsider](https://appleinsider.com/articles/24/07/07/figma-disables-ai-powered-make-design-feature-after-weather-app-rip-off))\n",
       "\n",
       "### AI in Politics:\n",
       "- AI's role in the 2024 US presidential election raises concerns about misinformation and voter behavior. ([ABC7 Chicago](https://abc7chicago.com/post/chicago-could-artificial-intelligence-impact-2024-election-voters/15036951/))\n",
       "- AI was used extensively in Indian elections for personalized voter engagement and multilingual communication. ([Counterview](https://www.counterview.net/2024/07/ais-positive-role-during-indian-polls.html))\n",
       "\n",
       "### AI in Technology:\n",
       "- Meta's new AI model can transform text into 3D images rapidly. ([Digital Trends](https://www.digitaltrends.com/computing/meta-3d-gen-ai-retexture/))\n",
       "- OpenAI's ChatGPT Mac app had a security flaw, saving chats as plain text. ([PCMag](https://www.pcmag.com/news/openais-chatgpt-mac-app-was-saving-chats-as-plain-text))\n",
       "\n",
       "### AI in Education:\n",
       "- California teachers are using AI tools like GPT-4 to grade papers, though concerns about accuracy and bias remain. ([The 74 Million](https://www.the74million.org/article/california-teachers-are-using-ai-to-grade-papers-whos-grading-the-ai/))\n",
       "\n",
       "### AI and Cybersecurity:\n",
       "- AI-powered scams have increased, with job scams surging 118% in 2023. ([CNBC](https://www.cnbc.com/2024/07/07/job-scams-surged-118percent-in-2023-aided-by-ai.html))\n",
       "- Cloudflare launches a tool to combat AI bots, crawlers, and scrapers. ([TechCrunch](https://techcrunch.com/2024/07/03/cloudflare-launches-a-tool-to-combat-ai-bots))\n",
       "\n",
       "### AI in Agriculture:\n",
       "- AI is advancing modern agriculture by providing insights for optimized yields and sustainability. ([Trend Hunter](https://www.trendhunter.com/trends/ai-farming))\n",
       "\n",
       "### AI in Big Tech:\n",
       "- Elon Musk is expected to speak at the World AI Conference in Shanghai. ([Reuters](https://www.reuters.com/technology/artificial-intelligence/elon-musk-expected-make-speech-opening-shanghais-world-ai-conference-2024-07-03/))\n",
       "- Apple is shifting focus towards AI and software, securing an observer role at OpenAI. ([Benzinga](https://www.benzinga.com/news/24/07/39656269/apples-ai-shift-board-observer-role-at-openai-extended-iphone-settlement-deadline-and-ai-partnership))\n",
       "\n",
       "### AI in Autonomous Vehicles:\n",
       "- A Waymo car was pulled over by police for driving in the oncoming lane due to confusion with construction signs. ([The Verge](https://www.theverge.com/2024/7/6/24193094/phoenix-waymo-car-pulled-over-traffic-stop-oncoming-lane-police))\n",
       "\n",
       "### AI in Customer Service:\n",
       "- ChatGPT is revolutionizing customer service with 24/7 availability and enhanced interactions. ([MarkTechPost](https://www.marktechpost.com/2024/07/07/how-chatgpt-is-revolutionizing-customer-service-in-2024/))\n",
       "\n",
       "### AI in Open Source:\n",
       "- PyTorch documentary highlights its development and impact on AI research. ([The New Stack](https://thenewstack.io/official-pytorch-documentary-revisits-its-past-and-its-future/))\n",
       "\n",
       "### AI in Privacy:\n",
       "- Microsoft faced criticism over its Recall feature for taking constant screenshots of users, raising privacy concerns. ([Reddit](https://www.reddit.com/r/technology/comments/1dxilwo/microsofts_climbdown_over_its-creepy-recall/))\n",
       "\n",
       "### AI in Sustainability:\n",
       "- AI is being used to predict toxic algae blooms, addressing climate change impacts on water quality. ([Planetizen](https://www.planetizen.com/news/2024/07/130117-predicting-toxic-algae-blooms-ai-modeling))\n",
       "\n",
       "### AI in Fashion:\n",
       "- Generative AI is projected to boost the fashion industry's profits significantly by 2030. ([Analytics India Magazine](https://analyticsindiamag.com/fashion-gets-a-generative-ai-makeover/))\n",
       "\n",
       "### AI in Robotics:\n",
       "- BMW is testing a fully autonomous humanoid robot in its assembly process, powered by OpenAI. ([Forbes](https://www.forbes.com/sites/chriswestfall/2024/07/07/openai-powered-humanoid-robot-fills-spot-at-bmw-assembly-plant/))\n",
       "\n",
       "### AI in Language Models:\n",
       "- InternLM introduced a new large language model, InternLM2.5-7B-Chat, with enhanced reasoning and long-context handling capabilities. ([MarkTechPost](https://www.marktechpost.com/2024/07/07/internlm2-5-7b-chat-open-sourcing-large-language-models-with-unmatched-reasoning-long-context-handling-and-enhanced-tool-use/))\n",
       "\n",
       "### AI in Policy and Regulation:\n",
       "- US intelligence community is embracing generative AI for data analysis and content triage. ([NextGov](https://www.nextgov.com/artificial-intelligence/2024/07/us-intelligence-community-embracing-generative-ai/397849/))"
      ],
      "text/plain": [
       "<IPython.core.display.Markdown object>"
      ]
     },
     "metadata": {},
     "output_type": "display_data"
    }
   ],
   "source": [
    "response_str = response.choices[0].message.content\n",
    "response_str = response_str.replace(\"$\", \"\\\\$\")\n",
    "display(Markdown(response_str))\n"
   ]
  },
  {
   "cell_type": "code",
   "execution_count": 81,
   "id": "044beddc",
   "metadata": {},
   "outputs": [
    {
     "name": "stderr",
     "output_type": "stream",
     "text": [
      "2024-07-07 19:09:41,437 - AInewsbot - INFO - Sending full summary email \n"
     ]
    },
    {
     "data": {
      "text/html": [
       "<h1>Today's AI News</h1>\n",
       "<h3>Stocks and Investments:</h3>\n",
       "<ul>\n",
       "<li>Nvidia was downgraded by New Street Research due to limited upside in GPU revenue projections. (<a href=\"https://www.investing.com/news/stock-market-news/5-big-analyst-ai-moves-nvidia-downgraded-on-limited-further-upside-3509545\">Investing</a>)</li>\n",
       "<li>Broadcom is seen as an essential AI investment, with strong AI-related revenue growth and a diversified product offering. (<a href=\"https://seekingalpha.com/article/4701801-broadcom-an-essential-company-for-ai-investors\">Seeking Alpha</a>)</li>\n",
       "<li>Samsung expects a significant profit surge from AI chip demand. (<a href=\"https://www.ft.com/content/8a7c86fe-f271-44ea-96e1-730f56493f39\">FT</a>)</li>\n",
       "<li>Warren Buffett's Berkshire Hathaway holds major positions in AI stocks like Snowflake, Amazon, and Apple. (<a href=\"https://www.fool.com/investing/2024/07/07/45-warren-buffett-398-billion-portfolio-3-ai-stocks/\">Fool</a>)</li>\n",
       "<li>China’s tech boom is driving high salaries for AI jobs, surpassing finance. (<a href=\"https://www.scmp.com/economy/china-economy/article/3269334/chinas-tech-boom-powering-ai-career-coup-finance-muscled-out-top-salary-pyramid\">SCMP</a>)</li>\n",
       "</ul>\n",
       "<h3>AI in Healthcare:</h3>\n",
       "<ul>\n",
       "<li>Saudi hospital achieved 400 robotic cardiac surgeries with a 98% survival rate. (<a href=\"https://www.reddit.com/r/tech/comments/1dxeodw/400_robotic_surgeries_98_survival_rate_saudi/\">Reddit</a>)</li>\n",
       "</ul>\n",
       "<h3>AI Ethical and Legal Issues:</h3>\n",
       "<ul>\n",
       "<li>Bipartisan bills in Congress aim to regulate nonconsensual explicit deepfakes. (<a href=\"https://thehill.com/policy/technology/4752365-regulation-nonconsensual-explicit-deepfakes/\">The Hill</a>)</li>\n",
       "<li>German court allows patents for AI-generated inventions. (<a href=\"https://www.surrey.ac.uk/news/german-court-allows-patents-ai-generated-inventions\">Surrey</a>)</li>\n",
       "<li>Figma disables its AI-powered \"Make Design\" feature after accusations of copying Apple's Weather app. (<a href=\"https://appleinsider.com/articles/24/07/07/figma-disables-ai-powered-make-design-feature-after-weather-app-rip-off\">AppleInsider</a>)</li>\n",
       "</ul>\n",
       "<h3>AI in Politics:</h3>\n",
       "<ul>\n",
       "<li>AI's role in the 2024 US presidential election raises concerns about misinformation and voter behavior. (<a href=\"https://abc7chicago.com/post/chicago-could-artificial-intelligence-impact-2024-election-voters/15036951/\">ABC7 Chicago</a>)</li>\n",
       "<li>AI was used extensively in Indian elections for personalized voter engagement and multilingual communication. (<a href=\"https://www.counterview.net/2024/07/ais-positive-role-during-indian-polls.html\">Counterview</a>)</li>\n",
       "</ul>\n",
       "<h3>AI in Technology:</h3>\n",
       "<ul>\n",
       "<li>Meta's new AI model can transform text into 3D images rapidly. (<a href=\"https://www.digitaltrends.com/computing/meta-3d-gen-ai-retexture/\">Digital Trends</a>)</li>\n",
       "<li>OpenAI's ChatGPT Mac app had a security flaw, saving chats as plain text. (<a href=\"https://www.pcmag.com/news/openais-chatgpt-mac-app-was-saving-chats-as-plain-text\">PCMag</a>)</li>\n",
       "</ul>\n",
       "<h3>AI in Education:</h3>\n",
       "<ul>\n",
       "<li>California teachers are using AI tools like GPT-4 to grade papers, though concerns about accuracy and bias remain. (<a href=\"https://www.the74million.org/article/california-teachers-are-using-ai-to-grade-papers-whos-grading-the-ai/\">The 74 Million</a>)</li>\n",
       "</ul>\n",
       "<h3>AI and Cybersecurity:</h3>\n",
       "<ul>\n",
       "<li>AI-powered scams have increased, with job scams surging 118% in 2023. (<a href=\"https://www.cnbc.com/2024/07/07/job-scams-surged-118percent-in-2023-aided-by-ai.html\">CNBC</a>)</li>\n",
       "<li>Cloudflare launches a tool to combat AI bots, crawlers, and scrapers. (<a href=\"https://techcrunch.com/2024/07/03/cloudflare-launches-a-tool-to-combat-ai-bots\">TechCrunch</a>)</li>\n",
       "</ul>\n",
       "<h3>AI in Agriculture:</h3>\n",
       "<ul>\n",
       "<li>AI is advancing modern agriculture by providing insights for optimized yields and sustainability. (<a href=\"https://www.trendhunter.com/trends/ai-farming\">Trend Hunter</a>)</li>\n",
       "</ul>\n",
       "<h3>AI in Big Tech:</h3>\n",
       "<ul>\n",
       "<li>Elon Musk is expected to speak at the World AI Conference in Shanghai. (<a href=\"https://www.reuters.com/technology/artificial-intelligence/elon-musk-expected-make-speech-opening-shanghais-world-ai-conference-2024-07-03/\">Reuters</a>)</li>\n",
       "<li>Apple is shifting focus towards AI and software, securing an observer role at OpenAI. (<a href=\"https://www.benzinga.com/news/24/07/39656269/apples-ai-shift-board-observer-role-at-openai-extended-iphone-settlement-deadline-and-ai-partnership\">Benzinga</a>)</li>\n",
       "</ul>\n",
       "<h3>AI in Autonomous Vehicles:</h3>\n",
       "<ul>\n",
       "<li>A Waymo car was pulled over by police for driving in the oncoming lane due to confusion with construction signs. (<a href=\"https://www.theverge.com/2024/7/6/24193094/phoenix-waymo-car-pulled-over-traffic-stop-oncoming-lane-police\">The Verge</a>)</li>\n",
       "</ul>\n",
       "<h3>AI in Customer Service:</h3>\n",
       "<ul>\n",
       "<li>ChatGPT is revolutionizing customer service with 24/7 availability and enhanced interactions. (<a href=\"https://www.marktechpost.com/2024/07/07/how-chatgpt-is-revolutionizing-customer-service-in-2024/\">MarkTechPost</a>)</li>\n",
       "</ul>\n",
       "<h3>AI in Open Source:</h3>\n",
       "<ul>\n",
       "<li>PyTorch documentary highlights its development and impact on AI research. (<a href=\"https://thenewstack.io/official-pytorch-documentary-revisits-its-past-and-its-future/\">The New Stack</a>)</li>\n",
       "</ul>\n",
       "<h3>AI in Privacy:</h3>\n",
       "<ul>\n",
       "<li>Microsoft faced criticism over its Recall feature for taking constant screenshots of users, raising privacy concerns. (<a href=\"https://www.reddit.com/r/technology/comments/1dxilwo/microsofts_climbdown_over_its-creepy-recall/\">Reddit</a>)</li>\n",
       "</ul>\n",
       "<h3>AI in Sustainability:</h3>\n",
       "<ul>\n",
       "<li>AI is being used to predict toxic algae blooms, addressing climate change impacts on water quality. (<a href=\"https://www.planetizen.com/news/2024/07/130117-predicting-toxic-algae-blooms-ai-modeling\">Planetizen</a>)</li>\n",
       "</ul>\n",
       "<h3>AI in Fashion:</h3>\n",
       "<ul>\n",
       "<li>Generative AI is projected to boost the fashion industry's profits significantly by 2030. (<a href=\"https://analyticsindiamag.com/fashion-gets-a-generative-ai-makeover/\">Analytics India Magazine</a>)</li>\n",
       "</ul>\n",
       "<h3>AI in Robotics:</h3>\n",
       "<ul>\n",
       "<li>BMW is testing a fully autonomous humanoid robot in its assembly process, powered by OpenAI. (<a href=\"https://www.forbes.com/sites/chriswestfall/2024/07/07/openai-powered-humanoid-robot-fills-spot-at-bmw-assembly-plant/\">Forbes</a>)</li>\n",
       "</ul>\n",
       "<h3>AI in Language Models:</h3>\n",
       "<ul>\n",
       "<li>InternLM introduced a new large language model, InternLM2.5-7B-Chat, with enhanced reasoning and long-context handling capabilities. (<a href=\"https://www.marktechpost.com/2024/07/07/internlm2-5-7b-chat-open-sourcing-large-language-models-with-unmatched-reasoning-long-context-handling-and-enhanced-tool-use/\">MarkTechPost</a>)</li>\n",
       "</ul>\n",
       "<h3>AI in Policy and Regulation:</h3>\n",
       "<ul>\n",
       "<li>US intelligence community is embracing generative AI for data analysis and content triage. (<a href=\"https://www.nextgov.com/artificial-intelligence/2024/07/us-intelligence-community-embracing-generative-ai/397849/\">NextGov</a>)</li>\n",
       "</ul>"
      ],
      "text/plain": [
       "<IPython.core.display.HTML object>"
      ]
     },
     "metadata": {},
     "output_type": "display_data"
    }
   ],
   "source": [
    "log(\"Sending full summary email \")\n",
    "subject = f'AI news summary {datetime.now().strftime(\"%H:%M:%S\")}'\n",
    "final_html_str = markdown.markdown(response_str, extensions=['extra'])\n",
    "display(HTML(final_html_str))\n",
    "send_gmail(subject, final_html_str)\n"
   ]
  },
  {
   "cell_type": "code",
   "execution_count": 82,
   "id": "0d05a1d2",
   "metadata": {},
   "outputs": [
    {
     "name": "stderr",
     "output_type": "stream",
     "text": [
      "2024-07-07 19:09:42,664 - AInewsbot - INFO - Finished\n"
     ]
    },
    {
     "data": {
      "text/plain": [
       "20"
      ]
     },
     "execution_count": 82,
     "metadata": {},
     "output_type": "execute_result"
    }
   ],
   "source": [
    "log(\"Finished\")\n"
   ]
  }
 ],
 "metadata": {
  "kernelspec": {
   "display_name": "ainewsbot",
   "language": "python",
   "name": "ainewsbot"
  },
  "language_info": {
   "codemirror_mode": {
    "name": "ipython",
    "version": 3
   },
   "file_extension": ".py",
   "mimetype": "text/x-python",
   "name": "python",
   "nbconvert_exporter": "python",
   "pygments_lexer": "ipython3",
   "version": "3.9.19"
  }
 },
 "nbformat": 4,
 "nbformat_minor": 5
}
