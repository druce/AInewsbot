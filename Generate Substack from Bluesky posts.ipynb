{
 "cells": [
  {
   "cell_type": "code",
   "execution_count": 1,
   "id": "c23d1783-cc4b-4ca0-9e48-5b0a85b6ca15",
   "metadata": {},
   "outputs": [],
   "source": [
    "import json\n",
    "import os\n",
    "import re\n",
    "from datetime import datetime, timedelta\n",
    "from urllib.parse import urlparse\n",
    "import time\n",
    "import yaml\n",
    "\n",
    "import bs4\n",
    "from bs4 import BeautifulSoup\n",
    "import requests\n",
    "\n",
    "import dotenv\n",
    "\n",
    "import IPython\n",
    "from IPython.display import HTML, Markdown, display\n",
    "\n",
    "from atproto import Client\n",
    "\n",
    "import PIL\n",
    "from PIL import Image\n"
   ]
  },
  {
   "cell_type": "code",
   "execution_count": 2,
   "id": "ae8efa2e",
   "metadata": {},
   "outputs": [
    {
     "name": "stdout",
     "output_type": "stream",
     "text": [
      "requests        2.32.3\n",
      "BeautifulSoup   4.13.3\n"
     ]
    }
   ],
   "source": [
    "print(f\"requests        {requests.__version__}\")\n",
    "print(f\"BeautifulSoup   {bs4.__version__}\")\n"
   ]
  },
  {
   "cell_type": "code",
   "execution_count": 3,
   "id": "4f9a20f1-a8c8-43e0-922c-904e6b0b94e5",
   "metadata": {},
   "outputs": [
    {
     "data": {
      "text/plain": [
       "True"
      ]
     },
     "execution_count": 3,
     "metadata": {},
     "output_type": "execute_result"
    }
   ],
   "source": [
    "dotenv.load_dotenv()\n"
   ]
  },
  {
   "cell_type": "markdown",
   "id": "f768cc41-5d92-4594-8097-1bdf0d52e9a1",
   "metadata": {},
   "source": [
    "# Load posts from BlueSky and format for Substack or a blog post\n",
    "for now I share the interesting stuff on bluesky and then use this code to grab latest BlueSky 'tweets' and format a [Substack post](https://skynetandchill.com)\n"
   ]
  },
  {
   "cell_type": "code",
   "execution_count": 4,
   "id": "c50f843f-ca23-4b65-ae16-c7b57491bd71",
   "metadata": {},
   "outputs": [],
   "source": [
    "client = Client(base_url='https://bsky.social')\n",
    "client.login(os.environ['BSKY_USERNAME'], os.environ['BSKY_SECRET'])\n",
    "\n",
    "mydid = {\"did\":\"did:plc:qomkdnxrqw3gkbytdxea5z65\"}\n",
    "\n",
    "data = client.get_author_feed(\n",
    "    actor=mydid['did'],\n",
    "    filter='posts_and_author_threads',\n",
    "    limit=50,\n",
    ")\n"
   ]
  },
  {
   "cell_type": "code",
   "execution_count": 5,
   "id": "ff24e48d-ffbd-4959-b000-054019f13343",
   "metadata": {},
   "outputs": [],
   "source": [
    "def remove_urls(text):\n",
    "    # Regular expression to match URLs\n",
    "    url_pattern = r'https?://\\S+|www\\.\\S+'\n",
    "    # Substitute found URLs with an empty string\n",
    "    clean_text = re.sub(url_pattern, '', text)\n",
    "    return clean_text\n"
   ]
  },
  {
   "cell_type": "code",
   "execution_count": 6,
   "id": "9fc8ea1e-5094-41b3-83f6-3ec0e5727683",
   "metadata": {},
   "outputs": [],
   "source": [
    "def rawfetchurl(url, timeout=60):\n",
    "    \"\"\"get url using requests with specified timeout. return response object, status, content-type\"\"\"\n",
    "    try:\n",
    "        response = requests.get(url, timeout=timeout)\n",
    "    except httplib.BadStatusLine:\n",
    "        log(\"Bad response (?) fetching url %s \" % url)\n",
    "        response = None\n",
    "    except requests.Timeout:\n",
    "        log(\"Timeout fetching url %s \" % url)\n",
    "        response = None\n",
    "    except requests.ConnectionError as e:\n",
    "        log(\"Connection error (%s) fetching url %s \" % (str(e), url))\n",
    "        response = None\n",
    "    except requests.TooManyRedirects:\n",
    "        log(\"Too many redirects fetching url %s \" % url)\n",
    "        response = None\n",
    "    except requests.exceptions.MissingSchema:\n",
    "        log(\"Missing schema url %s \" % url)\n",
    "        response = None\n",
    "    except requests.exceptions.InvalidSchema:\n",
    "        log(\"Invalid schema url %s \" % url)\n",
    "        response = None\n",
    "    except requests.exceptions.InvalidURL as e:\n",
    "        log(\"Invalid url %s, %s\" % (url, str(e)))\n",
    "        response = None\n",
    "    except ValueError as e:\n",
    "        # don't log url because possibly malformed url\n",
    "        log(\"ValueError, url ?: ? \")\n",
    "        response = None\n",
    "    except httplib.IncompleteRead as e:\n",
    "        log(\"IncompleteRead, url %s: %s \" % (url, str(e)))\n",
    "        response = None\n",
    "    except urllib3.exceptions.SSLError as e:\n",
    "        log(\"SSLError, url %s: %s \" % (url, str(e)))\n",
    "        response = None\n",
    "    except requests.exceptions.ContentDecodingError as e:\n",
    "        log(\"SSLError, url %s: %s \" % (url, str(e)))\n",
    "        response = None\n",
    "    except requests.exceptions.ChunkedEncodingError as e:\n",
    "        log(\"ChunkedEncodingError, url %s: %s \" % (url, str(e)))\n",
    "        response = None\n",
    "    except UnicodeEncodeError as e:\n",
    "        log(\"UnicodeEncodeError, url %s: %s \" % (url, str(e)))\n",
    "        response = None\n",
    "    except OpenSSL.SSL.SysCallError as e:\n",
    "        log(\"OpenSSL.SSL.SysCallError, url %s: %s \" % (url, str(e)))\n",
    "        response = -1\n",
    "    except OpenSSL.SSL.ZeroReturnError as e:\n",
    "        log(\"OpenSSL.SSL.ZeroReturnError, url %s: %s \" % (url, str(e)))\n",
    "        response = -1\n",
    "\n",
    "    # except requests.packages.urllib3.exceptions.DecodeError as e:\n",
    "    #     utilLog(\"DecodeError, url %s: %s \" % (url, str(e)))\n",
    "    #     response = None\n",
    "\n",
    "    return response\n",
    "\n"
   ]
  },
  {
   "cell_type": "code",
   "execution_count": 7,
   "id": "741683fb-5112-45b7-86dd-48b21ff4c39e",
   "metadata": {},
   "outputs": [],
   "source": [
    "def resize_and_crop(input_image_path, output_image_path, desired_height=240):\n",
    "    # Load the image\n",
    "    with Image.open(input_image_path) as img:\n",
    "        img = img.convert('RGB')\n",
    "\n",
    "        # Calculate the new width maintaining the aspect ratio\n",
    "        aspect_ratio = img.width / img.height\n",
    "        new_width = int(desired_height * aspect_ratio)\n",
    "\n",
    "        # Resize the image\n",
    "        resized_img = img.resize((new_width, desired_height))\n",
    "\n",
    "        # Save the resized image\n",
    "        resized_img.save(output_image_path)\n"
   ]
  },
  {
   "cell_type": "code",
   "execution_count": 8,
   "id": "fa25fcb2-244a-447f-b891-121824e9f120",
   "metadata": {},
   "outputs": [
    {
     "name": "stdout",
     "output_type": "stream",
     "text": [
      "Elon Musk says we'll run out of power capacity to run all the AI chips in 2025\n"
     ]
    }
   ],
   "source": [
    "# attempt to remove traiing inline URLs\n",
    "\n",
    "def truncate_last_occurrence(text: str) -> str:\n",
    "    # Find trailing occurrence of a space followed by any sequence of characters followed by 3 periods\n",
    "    pattern = r'\\s+\\S+\\.{3}$'\n",
    "    return re.sub(pattern, '', text)\n",
    "\n",
    "# Example text for testing\n",
    "\n",
    "example_text = \"\"\"Elon Musk says we'll run out of power capacity to run all the AI chips in 2025\n",
    "newatlas.com/technology/e...\"\"\"\n",
    "\n",
    "# Truncate the last occurrence\n",
    "print(truncate_last_occurrence(example_text))\n"
   ]
  },
  {
   "cell_type": "code",
   "execution_count": 9,
   "id": "7fa21e34-f0a4-4f98-b53d-4724a5de5703",
   "metadata": {},
   "outputs": [
    {
     "data": {
      "text/plain": [
       "{'og:site_name': 'Druce.ai',\n",
       " 'og:title': 'Druce.ai',\n",
       " 'og:type': 'website',\n",
       " 'og:description': \"Druce's Blog on Machine Learning, Tech, Markets and Economics\",\n",
       " 'og:url': 'https://druce.ai/',\n",
       " 'title': 'Druce.ai'}"
      ]
     },
     "execution_count": 9,
     "metadata": {},
     "output_type": "execute_result"
    }
   ],
   "source": [
    "def get_og_tags(url):\n",
    "    \"\"\"get a dict of Open Graph og: tags such as title in the HEAD of a URL\"\"\"\n",
    "    retdict = {}\n",
    "    try:\n",
    "        response = requests.get(url)\n",
    "        if response.status_code == 200:\n",
    "            soup = BeautifulSoup(response.content, \"html.parser\")\n",
    "            head = soup.head\n",
    "            if head:\n",
    "                og_tags = head.find_all(\n",
    "                    property=lambda prop: prop and prop.startswith(\"og:\")\n",
    "                )\n",
    "                for tag in og_tags:\n",
    "                    if \"content\" in tag.attrs:\n",
    "                        retdict[tag[\"property\"]] = tag[\"content\"]\n",
    "\n",
    "                page_title = \"\"\n",
    "                title_tag = soup.find(\"title\")\n",
    "                if title_tag:\n",
    "                    page_title = title_tag.text\n",
    "                    if page_title:\n",
    "                        retdict[\"title\"] = page_title\n",
    "        return retdict\n",
    "    except requests.RequestException as e:\n",
    "        log(f\"Error fetching {url}: {e}\")\n",
    "    return retdict\n",
    "\n",
    "\n",
    "url = \"https://druce.ai\"\n",
    "get_og_tags(url)"
   ]
  },
  {
   "cell_type": "code",
   "execution_count": 10,
   "id": "3b2aa5ca-effc-4c64-9d31-67ca7724f257",
   "metadata": {},
   "outputs": [],
   "source": [
    "def delete_files(outputdir):\n",
    "\n",
    "    # Iterate over all files in the directory\n",
    "    for filename in os.listdir(outputdir):\n",
    "        if filename.startswith('.'):\n",
    "            continue\n",
    "        file_path = os.path.join(outputdir, filename)\n",
    "        try:\n",
    "            if os.path.isfile(file_path) or os.path.islink(file_path):\n",
    "                os.remove(file_path)  # Remove the file\n",
    "            elif os.path.isdir(file_path):\n",
    "                # If you want to remove subdirectories as well, use os.rmdir() here\n",
    "                pass\n",
    "        except Exception as e:\n",
    "            log(f'Failed to delete {file_path}. Reason: {e}')\n",
    "            "
   ]
  },
  {
   "cell_type": "code",
   "execution_count": null,
   "id": "23267697-c3de-4886-a4d7-3a80627067ab",
   "metadata": {},
   "outputs": [
    {
     "data": {
      "text/markdown": [
       "\n",
       " x <br /> \n"
      ],
      "text/plain": [
       "<IPython.core.display.Markdown object>"
      ]
     },
     "metadata": {},
     "output_type": "display_data"
    },
    {
     "data": {
      "text/markdown": [
       "\n",
       " <br /> \n"
      ],
      "text/plain": [
       "<IPython.core.display.Markdown object>"
      ]
     },
     "metadata": {},
     "output_type": "display_data"
    },
    {
     "data": {
      "text/markdown": [
       "[Training on bad code drives GPT-4o mad](https://www.theregister.com/2025/02/27/llm_emergent_misalignment_study/)"
      ],
      "text/plain": [
       "<IPython.core.display.Markdown object>"
      ]
     },
     "metadata": {},
     "output_type": "display_data"
    },
    {
     "data": {
      "text/markdown": [
       "___"
      ],
      "text/plain": [
       "<IPython.core.display.Markdown object>"
      ]
     },
     "metadata": {},
     "output_type": "display_data"
    },
    {
     "data": {
      "text/markdown": [
       "[Vibecoding with AI](https://www.nytimes.com/2025/02/27/technology/personaltech/vibecoding-ai-software-programming.html)"
      ],
      "text/plain": [
       "<IPython.core.display.Markdown object>"
      ]
     },
     "metadata": {},
     "output_type": "display_data"
    },
    {
     "data": {
      "text/markdown": [
       "___"
      ],
      "text/plain": [
       "<IPython.core.display.Markdown object>"
      ]
     },
     "metadata": {},
     "output_type": "display_data"
    },
    {
     "data": {
      "text/markdown": [
       "[The ‘Spy Sheikh’ Taking the AI World by Storm](https://www.wsj.com/tech/ai/abu-dhabi-spy-sheikh-ai-c4a9d48c)"
      ],
      "text/plain": [
       "<IPython.core.display.Markdown object>"
      ]
     },
     "metadata": {},
     "output_type": "display_data"
    },
    {
     "data": {
      "text/markdown": [
       "___"
      ],
      "text/plain": [
       "<IPython.core.display.Markdown object>"
      ]
     },
     "metadata": {},
     "output_type": "display_data"
    },
    {
     "data": {
      "text/markdown": [
       "[Salesforce won't hire engineers in 2025 due to AI tools](https://www.theregister.com/2025/02/27/salesforce_misses_revenue_guidance/)"
      ],
      "text/plain": [
       "<IPython.core.display.Markdown object>"
      ]
     },
     "metadata": {},
     "output_type": "display_data"
    },
    {
     "data": {
      "text/markdown": [
       "___"
      ],
      "text/plain": [
       "<IPython.core.display.Markdown object>"
      ]
     },
     "metadata": {},
     "output_type": "display_data"
    },
    {
     "data": {
      "text/markdown": [
       "[Teaching a robot to play the piano](https://kzakka.com/robopianist/#demo)"
      ],
      "text/plain": [
       "<IPython.core.display.Markdown object>"
      ]
     },
     "metadata": {},
     "output_type": "display_data"
    },
    {
     "data": {
      "text/markdown": [
       "___"
      ],
      "text/plain": [
       "<IPython.core.display.Markdown object>"
      ]
     },
     "metadata": {},
     "output_type": "display_data"
    },
    {
     "data": {
      "text/markdown": [
       "[Humanoid Robots Finally Get Real Jobs](https://www.wsj.com/tech/ai/humanoid-robot-workers-ai-brain-08027439?st=UR82Ge&reflink=desktopwebshare_permalink)"
      ],
      "text/plain": [
       "<IPython.core.display.Markdown object>"
      ]
     },
     "metadata": {},
     "output_type": "display_data"
    },
    {
     "data": {
      "text/markdown": [
       "___"
      ],
      "text/plain": [
       "<IPython.core.display.Markdown object>"
      ]
     },
     "metadata": {},
     "output_type": "display_data"
    },
    {
     "data": {
      "text/markdown": [
       "Huang also addresses DeepSeek, custom silicon threats"
      ],
      "text/plain": [
       "<IPython.core.display.Markdown object>"
      ]
     },
     "metadata": {},
     "output_type": "display_data"
    },
    {
     "data": {
      "image/jpeg": "[encoded data removed]",
      "text/plain": [
       "<IPython.core.display.Image object>"
      ]
     },
     "metadata": {},
     "output_type": "display_data"
    },
    {
     "data": {
      "text/markdown": [
       "[China deploys DeepSeek everywhere as its new AI national champion](https://www.ft.com/content/5684fb1f-1a84-4542-8fe9-2fcae9653f87)"
      ],
      "text/plain": [
       "<IPython.core.display.Markdown object>"
      ]
     },
     "metadata": {},
     "output_type": "display_data"
    },
    {
     "data": {
      "text/markdown": [
       "___"
      ],
      "text/plain": [
       "<IPython.core.display.Markdown object>"
      ]
     },
     "metadata": {},
     "output_type": "display_data"
    },
    {
     "data": {
      "image/jpeg": "[encoded data removed]",
      "text/plain": [
       "<IPython.core.display.Image object>"
      ]
     },
     "metadata": {},
     "output_type": "display_data"
    },
    {
     "data": {
      "text/markdown": [
       "[Alexa+ can chat like an LLM, browse the web, and perform agentic tasks.](https://arstechnica.com/gadgets/2025/02/amazons-subscription-based-alexa-looks-highly-capable-and-questionable/) - Ars Technica"
      ],
      "text/plain": [
       "<IPython.core.display.Markdown object>"
      ]
     },
     "metadata": {},
     "output_type": "display_data"
    },
    {
     "data": {
      "text/markdown": [
       "___"
      ],
      "text/plain": [
       "<IPython.core.display.Markdown object>"
      ]
     },
     "metadata": {},
     "output_type": "display_data"
    },
    {
     "data": {
      "text/markdown": [
       "[Nvidia improves inference performance, thinks Blackwell should do both training and inference, as opposed to using specialized inference chips.](https://www.wsj.com/tech/ai/how-nvidia-adapted-its-chips-to-stay-ahead-of-an-ai-industry-shift-044edaad?st=fgHooc&reflink=desktopwebshare_permalink)"
      ],
      "text/plain": [
       "<IPython.core.display.Markdown object>"
      ]
     },
     "metadata": {},
     "output_type": "display_data"
    },
    {
     "data": {
      "text/markdown": [
       "___"
      ],
      "text/plain": [
       "<IPython.core.display.Markdown object>"
      ]
     },
     "metadata": {},
     "output_type": "display_data"
    },
    {
     "data": {
      "image/jpeg": "[encoded data removed]",
      "text/plain": [
       "<IPython.core.display.Image object>"
      ]
     },
     "metadata": {},
     "output_type": "display_data"
    },
    {
     "data": {
      "text/markdown": [
       "[Microsoft updates Phi small language models with a 3.8b-parameter text model and a 5.6b-parameter multimodal model](https://siliconangle.com/2025/02/26/microsoft-releases-new-phi-models-optimized-multimodal-processing-efficiency/) - SiliconANGLE"
      ],
      "text/plain": [
       "<IPython.core.display.Markdown object>"
      ]
     },
     "metadata": {},
     "output_type": "display_data"
    },
    {
     "data": {
      "text/markdown": [
       "___"
      ],
      "text/plain": [
       "<IPython.core.display.Markdown object>"
      ]
     },
     "metadata": {},
     "output_type": "display_data"
    },
    {
     "data": {
      "text/markdown": [
       "The product teams over at the Post have put together a nifty feature that summarises comments. \n",
       "\n",
       "Here's the one on the story about the owner's latest move... They're not loving it"
      ],
      "text/plain": [
       "<IPython.core.display.Markdown object>"
      ]
     },
     "metadata": {},
     "output_type": "display_data"
    },
    {
     "name": "stdout",
     "output_type": "stream",
     "text": [
      "name 'httplib' is not defined\n"
     ]
    },
    {
     "data": {
      "text/markdown": [
       "[AI Agents Are Changing How People Shop. Here’s What That Means for Brands.](https://hbr.org/2025/02/ai-agents-are-changing-how-people-shop-heres-what-that-means-for-brands) - Harvard Business Review"
      ],
      "text/plain": [
       "<IPython.core.display.Markdown object>"
      ]
     },
     "metadata": {},
     "output_type": "display_data"
    },
    {
     "data": {
      "text/markdown": [
       "___"
      ],
      "text/plain": [
       "<IPython.core.display.Markdown object>"
      ]
     },
     "metadata": {},
     "output_type": "display_data"
    },
    {
     "data": {
      "image/jpeg": "[encoded data removed]",
      "text/plain": [
       "<IPython.core.display.Image object>"
      ]
     },
     "metadata": {},
     "output_type": "display_data"
    },
    {
     "data": {
      "text/markdown": [
       "[DeepSeek is now a global force. But it’s just one player in China’s booming AI industry](https://theconversation.com/deepseek-is-now-a-global-force-but-its-just-one-player-in-chinas-booming-ai-industry-250494) - The Conversation"
      ],
      "text/plain": [
       "<IPython.core.display.Markdown object>"
      ]
     },
     "metadata": {},
     "output_type": "display_data"
    },
    {
     "data": {
      "text/markdown": [
       "___"
      ],
      "text/plain": [
       "<IPython.core.display.Markdown object>"
      ]
     },
     "metadata": {},
     "output_type": "display_data"
    },
    {
     "data": {
      "text/markdown": [
       "[Trump posts offensive, demented AI 'Trump Gaza' video](https://www.israelhayom.com/2025/02/26/trump-shares-gaza-ai-video-showing-him-netanyahu-sunbathing/)"
      ],
      "text/plain": [
       "<IPython.core.display.Markdown object>"
      ]
     },
     "metadata": {},
     "output_type": "display_data"
    },
    {
     "data": {
      "text/markdown": [
       "___"
      ],
      "text/plain": [
       "<IPython.core.display.Markdown object>"
      ]
     },
     "metadata": {},
     "output_type": "display_data"
    },
    {
     "data": {
      "image/jpeg": "[encoded data removed]",
      "text/plain": [
       "<IPython.core.display.Image object>"
      ]
     },
     "metadata": {},
     "output_type": "display_data"
    },
    {
     "data": {
      "text/markdown": [
       "[Man claims to build in-browser flightsim with Cursor](https://decrypt.co/307892/ai-gaming-massive-elon-musk-shares-game) - Decrypt"
      ],
      "text/plain": [
       "<IPython.core.display.Markdown object>"
      ]
     },
     "metadata": {},
     "output_type": "display_data"
    },
    {
     "data": {
      "text/markdown": [
       "___"
      ],
      "text/plain": [
       "<IPython.core.display.Markdown object>"
      ]
     },
     "metadata": {},
     "output_type": "display_data"
    },
    {
     "data": {
      "text/markdown": [
       "[Nvidia reports strong quarter, stock flat](https://www.cnbc.com/2025/02/26/nvidia-nvda-earnings-report-q4-2025.html)"
      ],
      "text/plain": [
       "<IPython.core.display.Markdown object>"
      ]
     },
     "metadata": {},
     "output_type": "display_data"
    },
    {
     "data": {
      "text/markdown": [
       "___"
      ],
      "text/plain": [
       "<IPython.core.display.Markdown object>"
      ]
     },
     "metadata": {},
     "output_type": "display_data"
    },
    {
     "data": {
      "image/jpeg": "[encoded data removed]",
      "text/plain": [
       "<IPython.core.display.Image object>"
      ]
     },
     "metadata": {},
     "output_type": "display_data"
    },
    {
     "data": {
      "text/markdown": [
       "['Does Our Code Kill Kids?': Microsoft employees ejected from  town hall over AI protest](https://gizmodo.com/does-our-code-kill-kids-microsoft-employees-protest-selling-ai-to-israel-2000568642) - Gizmodo"
      ],
      "text/plain": [
       "<IPython.core.display.Markdown object>"
      ]
     },
     "metadata": {},
     "output_type": "display_data"
    },
    {
     "data": {
      "text/markdown": [
       "___"
      ],
      "text/plain": [
       "<IPython.core.display.Markdown object>"
      ]
     },
     "metadata": {},
     "output_type": "display_data"
    },
    {
     "data": {
      "image/jpeg": "[encoded data removed]",
      "text/plain": [
       "<IPython.core.display.Image object>"
      ]
     },
     "metadata": {},
     "output_type": "display_data"
    },
    {
     "data": {
      "text/markdown": [
       "[Thousands of exposed GitHub repositories, now private, can still be accessed through Copilot](https://techcrunch.com/2025/02/26/thousands-of-exposed-github-repositories-now-private-can-still-be-accessed-through-copilot/) - TechCrunch"
      ],
      "text/plain": [
       "<IPython.core.display.Markdown object>"
      ]
     },
     "metadata": {},
     "output_type": "display_data"
    },
    {
     "data": {
      "text/markdown": [
       "___"
      ],
      "text/plain": [
       "<IPython.core.display.Markdown object>"
      ]
     },
     "metadata": {},
     "output_type": "display_data"
    },
    {
     "data": {
      "text/markdown": [
       "[Leaked chats analyzed with AI discuss \\\\$750k ransomware offer](https://www.theregister.com/2025/02/25/southern_water_black_basta_leak/)"
      ],
      "text/plain": [
       "<IPython.core.display.Markdown object>"
      ]
     },
     "metadata": {},
     "output_type": "display_data"
    },
    {
     "data": {
      "text/markdown": [
       "___"
      ],
      "text/plain": [
       "<IPython.core.display.Markdown object>"
      ]
     },
     "metadata": {},
     "output_type": "display_data"
    },
    {
     "data": {
      "text/markdown": [
       "[Be an AI super-worker or get fired?](https://www.newsweek.com/ai-doesnt-mean-getting-fired-its-time-superworker-2032789)"
      ],
      "text/plain": [
       "<IPython.core.display.Markdown object>"
      ]
     },
     "metadata": {},
     "output_type": "display_data"
    },
    {
     "data": {
      "text/markdown": [
       "___"
      ],
      "text/plain": [
       "<IPython.core.display.Markdown object>"
      ]
     },
     "metadata": {},
     "output_type": "display_data"
    }
   ],
   "source": [
    "imgdir = 'tmp'  # for images\n",
    "delete_files(imgdir)\n",
    "\n",
    "display(Markdown(\"\\n x <br /> \\n\"))\n",
    "\n",
    "display(Markdown(\"\\n <br /> \\n\"))\n",
    "\n",
    "for i, post in enumerate(data.feed):\n",
    "\n",
    "\n",
    "    # check date\n",
    "    date_str = data.feed[0].post.record.created_at\n",
    "    dt = datetime.fromisoformat(date_str.rstrip('Z'))\n",
    "    # break if more than 30 hours ago\n",
    "    if dt  < datetime.now() - timedelta(hours=30):\n",
    "        break\n",
    "    \n",
    "    post_str = post.post.record.text.rstrip()\n",
    "    post_str = truncate_last_occurrence(post_str)\n",
    "    post_url = \"\"\n",
    "    tag_dict = {}\n",
    "    try:\n",
    "        post_url = post.post.record.embed.external.uri.rstrip()\n",
    "    except:\n",
    "        pass\n",
    "    if post_url:\n",
    "        tag_dict = dict()\n",
    "        try:\n",
    "            tag_dict = get_og_tags(post_url)\n",
    "        except:\n",
    "            pass\n",
    "        display_str = f\"[{post_str}]({post_url})\"\n",
    "        site_name = tag_dict.get('og:site_name')\n",
    "        img_url = tag_dict.get('og:image')\n",
    "        if site_name:\n",
    "            display_str += f\" - {site_name}\"\n",
    "\n",
    "        display_str = display_str.replace(\"$\", \"\\\\\\$\")  # so Markdown doesn't interpret $ as latex escape\n",
    "        if img_url:\n",
    "            try:\n",
    "                r = rawfetchurl(img_url)\n",
    "                content_type = r.headers['Content-Type']\n",
    "                content_type = content_type[content_type.find('/')+1:]\n",
    "                impath = f\"{imgdir}/source{i}.{content_type}\"\n",
    "                with open(impath, 'wb') as file:\n",
    "                    file.write(r.content)\n",
    "                output_path = f'{imgdir}/Image{i}.jpg'\n",
    "                resize_and_crop(impath, output_path)\n",
    "                display(IPython.display.Image(filename=output_path))\n",
    "            except Exception as e:\n",
    "                print(e)\n",
    "        display(Markdown(display_str))\n",
    "        display(Markdown(\"___\"))\n",
    "\n",
    "    else:\n",
    "        display(Markdown(f\"{post_str}\"))\n",
    "\n",
    "display(Markdown(f\"Follow the latest AI headlines via [SkynetAndChill.com on Bluesky](https://bsky.app/profile/skynetandchill.com)\"))\n",
    "\n",
    "        "
   ]
  },
  {
   "cell_type": "code",
   "execution_count": null,
   "id": "e4711d11-aa53-4912-a48b-fad2ac220ec6",
   "metadata": {},
   "outputs": [],
   "source": [
    "print(datetime.now())"
   ]
  },
  {
   "cell_type": "code",
   "execution_count": null,
   "id": "cf105fd2-cf4c-46bb-89a7-692900aa575e",
   "metadata": {},
   "outputs": [],
   "source": [
    "date_str = data.feed[0].post.record.created_at\n",
    "dt = datetime.fromisoformat(date_str.rstrip('Z'))\n",
    "dt"
   ]
  },
  {
   "cell_type": "code",
   "execution_count": null,
   "id": "af2fd649-ede7-4560-8dc5-4335b188fa78",
   "metadata": {},
   "outputs": [],
   "source": [
    "\n",
    "# Get the current datetime\n",
    "now = datetime.now()\n",
    "\n",
    "# Create a timedelta of 30 hours\n",
    "delta = timedelta(hours=30)\n",
    "\n",
    "# Subtract 30 hours from the current datetime\n",
    "thirty_hours_ago = now - delta\n",
    "\n",
    "print(thirty_hours_ago)\n"
   ]
  },
  {
   "cell_type": "code",
   "execution_count": null,
   "id": "f7ca868c-f549-441d-9819-16bb5fb39fbc",
   "metadata": {},
   "outputs": [],
   "source": [
    "from typing import TypedDict, Annotated\n",
    "\n",
    "class Point2D(TypedDict, total=False):\n",
    "    x: int\n",
    "    y: int\n",
    "    label: str\n",
    "\n",
    "a: Point2D = {'x': 1, 'y': 2, }  # \n"
   ]
  },
  {
   "cell_type": "code",
   "execution_count": null,
   "id": "85713ca3",
   "metadata": {},
   "outputs": [],
   "source": [
    "a"
   ]
  },
  {
   "cell_type": "code",
   "execution_count": null,
   "id": "4ed7cb93",
   "metadata": {},
   "outputs": [],
   "source": [
    "b\n",
    "\n"
   ]
  },
  {
   "cell_type": "code",
   "execution_count": null,
   "id": "d1a05098",
   "metadata": {},
   "outputs": [],
   "source": []
  }
 ],
 "metadata": {
  "kernelspec": {
   "display_name": "ainewsbot",
   "language": "python",
   "name": "ainewsbot"
  },
  "language_info": {
   "codemirror_mode": {
    "name": "ipython",
    "version": 3
   },
   "file_extension": ".py",
   "mimetype": "text/x-python",
   "name": "python",
   "nbconvert_exporter": "python",
   "pygments_lexer": "ipython3",
   "version": "3.11.11"
  }
 },
 "nbformat": 4,
 "nbformat_minor": 5
}
